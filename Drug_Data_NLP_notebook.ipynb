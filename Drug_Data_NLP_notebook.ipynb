{
  "nbformat": 4,
  "nbformat_minor": 0,
  "metadata": {
    "colab": {
      "name": "Drug_Data_NLP_notebook.ipynb",
      "version": "0.3.2",
      "provenance": [],
      "collapsed_sections": [
        "Q69Gs-7Htdos",
        "zQjCPNYntdoy",
        "Tnuje7fytdpL",
        "bPxGbhodtdph"
      ],
      "include_colab_link": true
    },
    "kernelspec": {
      "name": "python3",
      "display_name": "Python 3"
    },
    "accelerator": "TPU"
  },
  "cells": [
    {
      "cell_type": "markdown",
      "metadata": {
        "id": "view-in-github",
        "colab_type": "text"
      },
      "source": [
        "<a href=\"https://colab.research.google.com/github/BrittonWinterrose/DS-Unit-1-Sprint-4-Statistical-Tests-and-Experiments/blob/master/Drug_Data_NLP_notebook.ipynb\" target=\"_parent\"><img src=\"https://colab.research.google.com/assets/colab-badge.svg\" alt=\"Open In Colab\"/></a>"
      ]
    },
    {
      "metadata": {
        "id": "Pc0eoWygtdmp",
        "colab_type": "text"
      },
      "cell_type": "markdown",
      "source": [
        "# Concrete solutions to real problems\n",
        "## An NLP workshop by Emmanuel Ameisen [(@EmmanuelAmeisen)](https://twitter.com/EmmanuelAmeisen), from Insight AI"
      ]
    },
    {
      "metadata": {
        "id": "dKjoC7zltdmr",
        "colab_type": "text"
      },
      "cell_type": "markdown",
      "source": [
        "While there exist a wealth of elaborate and abstract NLP techniques, clustering and classification should always be in our toolkit as the first techniques to use when dealing with this kind of data. In addition to being amongst some of the easiest to scale in production, their ease of use can quickly help business address a set of applied problems:\n",
        "\n",
        "- How do you automatically make the distinction between different categories of sentences?\n",
        "- How can you find sentences in a dataset that are most similar to a given one?\n",
        "- How can you extract a rich and concise representation that can then be used for a range of other tasks?\n",
        "- Most importantly, how do you find quickly whether these tasks are possible on your dataset at all?\n",
        "\n",
        "While there is a vast amount of resources on classical Machine Learning, or Deep Learning applied to images, I've found that there is a lack of clear, simple guides as to what to do when one wants to find a meaningful representation for sentences (in order to classify them or group them together for examples). Here is my attempt below."
      ]
    },
    {
      "metadata": {
        "id": "i76KiGostdms",
        "colab_type": "text"
      },
      "cell_type": "markdown",
      "source": [
        "## It starts with data"
      ]
    },
    {
      "metadata": {
        "id": "TDYHbv_Ftdmu",
        "colab_type": "text"
      },
      "cell_type": "markdown",
      "source": [
        "### Our Dataset: Disasters on social media\n",
        "Contributors looked at over 10,000 tweets retrieved with a variety of searches like “ablaze”, “quarantine”, and “pandemonium”, then noted whether the tweet referred to a disaster event (as opposed to a joke with the word or a movie review or something non-disastrous). Thank you [Crowdflower](https://www.crowdflower.com/data-for-everyone/).\n",
        "\n",
        "### Why it matters\n",
        "We will try to correctly predict tweets that are about disasters. This is a very relevant problem, because:\n",
        "- It is actionable to anybody trying to get signal from noise (such as police departments in this case)\n",
        "- It is tricky because relying on keywords is harder than in most cases like spam"
      ]
    },
    {
      "metadata": {
        "id": "14BA4rWJ2aEJ",
        "colab_type": "code",
        "outputId": "59c7aaca-a7aa-48c3-df14-05c100fe0616",
        "colab": {
          "base_uri": "https://localhost:8080/",
          "height": 446
        }
      },
      "cell_type": "code",
      "source": [
        "!pip install gensim\n",
        "!pip install -U -q PyDrive\n",
        "\n",
        "from pydrive.auth import GoogleAuth\n",
        "from pydrive.drive import GoogleDrive\n",
        "from google.colab import auth\n",
        "from oauth2client.client import GoogleCredentials\n",
        "\n",
        "# 1. Authenticate and create the PyDrive client.\n",
        "#auth.authenticate_user()\n",
        "#gauth = GoogleAuth()\n",
        "#gauth.credentials = GoogleCredentials.get_application_default()\n",
        "#drive = GoogleDrive(gauth)\n"
      ],
      "execution_count": 1,
      "outputs": [
        {
          "output_type": "stream",
          "text": [
            "Requirement already satisfied: gensim in /usr/local/lib/python3.6/dist-packages (3.6.0)\n",
            "Requirement already satisfied: smart-open>=1.2.1 in /usr/local/lib/python3.6/dist-packages (from gensim) (1.7.1)\n",
            "Requirement already satisfied: scipy>=0.18.1 in /usr/local/lib/python3.6/dist-packages (from gensim) (1.1.0)\n",
            "Requirement already satisfied: six>=1.5.0 in /usr/local/lib/python3.6/dist-packages (from gensim) (1.11.0)\n",
            "Requirement already satisfied: numpy>=1.11.3 in /usr/local/lib/python3.6/dist-packages (from gensim) (1.14.6)\n",
            "Requirement already satisfied: boto3 in /usr/local/lib/python3.6/dist-packages (from smart-open>=1.2.1->gensim) (1.9.61)\n",
            "Requirement already satisfied: requests in /usr/local/lib/python3.6/dist-packages (from smart-open>=1.2.1->gensim) (2.18.4)\n",
            "Requirement already satisfied: boto>=2.32 in /usr/local/lib/python3.6/dist-packages (from smart-open>=1.2.1->gensim) (2.49.0)\n",
            "Requirement already satisfied: bz2file in /usr/local/lib/python3.6/dist-packages (from smart-open>=1.2.1->gensim) (0.98)\n",
            "Requirement already satisfied: botocore<1.13.0,>=1.12.61 in /usr/local/lib/python3.6/dist-packages (from boto3->smart-open>=1.2.1->gensim) (1.12.61)\n",
            "Requirement already satisfied: s3transfer<0.2.0,>=0.1.10 in /usr/local/lib/python3.6/dist-packages (from boto3->smart-open>=1.2.1->gensim) (0.1.13)\n",
            "Requirement already satisfied: jmespath<1.0.0,>=0.7.1 in /usr/local/lib/python3.6/dist-packages (from boto3->smart-open>=1.2.1->gensim) (0.9.3)\n",
            "Requirement already satisfied: idna<2.7,>=2.5 in /usr/local/lib/python3.6/dist-packages (from requests->smart-open>=1.2.1->gensim) (2.6)\n",
            "Requirement already satisfied: certifi>=2017.4.17 in /usr/local/lib/python3.6/dist-packages (from requests->smart-open>=1.2.1->gensim) (2018.11.29)\n",
            "Requirement already satisfied: urllib3<1.23,>=1.21.1 in /usr/local/lib/python3.6/dist-packages (from requests->smart-open>=1.2.1->gensim) (1.22)\n",
            "Requirement already satisfied: chardet<3.1.0,>=3.0.2 in /usr/local/lib/python3.6/dist-packages (from requests->smart-open>=1.2.1->gensim) (3.0.4)\n",
            "Requirement already satisfied: python-dateutil<3.0.0,>=2.1; python_version >= \"2.7\" in /usr/local/lib/python3.6/dist-packages (from botocore<1.13.0,>=1.12.61->boto3->smart-open>=1.2.1->gensim) (2.5.3)\n",
            "Requirement already satisfied: docutils>=0.10 in /usr/local/lib/python3.6/dist-packages (from botocore<1.13.0,>=1.12.61->boto3->smart-open>=1.2.1->gensim) (0.14)\n"
          ],
          "name": "stdout"
        }
      ]
    },
    {
      "metadata": {
        "id": "N3QNmItCtdmv",
        "colab_type": "code",
        "outputId": "154efba8-2ea5-4007-a73f-bd026eadd502",
        "colab": {
          "base_uri": "https://localhost:8080/",
          "height": 94
        }
      },
      "cell_type": "code",
      "source": [
        "import keras\n",
        "import nltk\n",
        "import pandas as pd\n",
        "import numpy as np\n",
        "import re\n",
        "import codecs"
      ],
      "execution_count": 2,
      "outputs": [
        {
          "output_type": "stream",
          "text": [
            "Using TensorFlow backend.\n"
          ],
          "name": "stderr"
        }
      ]
    },
    {
      "metadata": {
        "id": "1fgJxdt0tdm0",
        "colab_type": "text"
      },
      "cell_type": "markdown",
      "source": [
        "### Sanitizing input\n",
        "Let's make sure our tweets only have characters we want. We remove '#' characters but keep the words after the '#' sign because they might be relevant (eg: #disaster)"
      ]
    },
    {
      "metadata": {
        "id": "8f-jrqDSkQ3h",
        "colab_type": "code",
        "colab": {
          "base_uri": "https://localhost:8080/",
          "height": 241
        },
        "outputId": "fb71791d-efd9-4c63-c02a-f90612b5917a"
      },
      "cell_type": "code",
      "source": [
        "#!wget http://archive.ics.uci.edu/ml/machine-learning-databases/00462/drugsCom_raw.zip\n",
        "#!unzip drugsCom_raw.zip\n",
        "\n",
        "\n",
        "df_train = pd.read_table('drugsComTrain_raw.tsv')\n",
        "df_test = pd.read_table('drugsComTest_raw.tsv')\n",
        "\n",
        "df_main = pd.concat([df_train, df_test], axis=0)\n",
        "df_main.head()"
      ],
      "execution_count": 3,
      "outputs": [
        {
          "output_type": "execute_result",
          "data": {
            "text/html": [
              "<div>\n",
              "<style scoped>\n",
              "    .dataframe tbody tr th:only-of-type {\n",
              "        vertical-align: middle;\n",
              "    }\n",
              "\n",
              "    .dataframe tbody tr th {\n",
              "        vertical-align: top;\n",
              "    }\n",
              "\n",
              "    .dataframe thead th {\n",
              "        text-align: right;\n",
              "    }\n",
              "</style>\n",
              "<table border=\"1\" class=\"dataframe\">\n",
              "  <thead>\n",
              "    <tr style=\"text-align: right;\">\n",
              "      <th></th>\n",
              "      <th>Unnamed: 0</th>\n",
              "      <th>drugName</th>\n",
              "      <th>condition</th>\n",
              "      <th>review</th>\n",
              "      <th>rating</th>\n",
              "      <th>date</th>\n",
              "      <th>usefulCount</th>\n",
              "    </tr>\n",
              "  </thead>\n",
              "  <tbody>\n",
              "    <tr>\n",
              "      <th>0</th>\n",
              "      <td>206461</td>\n",
              "      <td>Valsartan</td>\n",
              "      <td>Left Ventricular Dysfunction</td>\n",
              "      <td>\"It has no side effect, I take it in combinati...</td>\n",
              "      <td>9.0</td>\n",
              "      <td>May 20, 2012</td>\n",
              "      <td>27</td>\n",
              "    </tr>\n",
              "    <tr>\n",
              "      <th>1</th>\n",
              "      <td>95260</td>\n",
              "      <td>Guanfacine</td>\n",
              "      <td>ADHD</td>\n",
              "      <td>\"My son is halfway through his fourth week of ...</td>\n",
              "      <td>8.0</td>\n",
              "      <td>April 27, 2010</td>\n",
              "      <td>192</td>\n",
              "    </tr>\n",
              "    <tr>\n",
              "      <th>2</th>\n",
              "      <td>92703</td>\n",
              "      <td>Lybrel</td>\n",
              "      <td>Birth Control</td>\n",
              "      <td>\"I used to take another oral contraceptive, wh...</td>\n",
              "      <td>5.0</td>\n",
              "      <td>December 14, 2009</td>\n",
              "      <td>17</td>\n",
              "    </tr>\n",
              "    <tr>\n",
              "      <th>3</th>\n",
              "      <td>138000</td>\n",
              "      <td>Ortho Evra</td>\n",
              "      <td>Birth Control</td>\n",
              "      <td>\"This is my first time using any form of birth...</td>\n",
              "      <td>8.0</td>\n",
              "      <td>November 3, 2015</td>\n",
              "      <td>10</td>\n",
              "    </tr>\n",
              "    <tr>\n",
              "      <th>4</th>\n",
              "      <td>35696</td>\n",
              "      <td>Buprenorphine / naloxone</td>\n",
              "      <td>Opiate Dependence</td>\n",
              "      <td>\"Suboxone has completely turned my life around...</td>\n",
              "      <td>9.0</td>\n",
              "      <td>November 27, 2016</td>\n",
              "      <td>37</td>\n",
              "    </tr>\n",
              "  </tbody>\n",
              "</table>\n",
              "</div>"
            ],
            "text/plain": [
              "   Unnamed: 0                  drugName                     condition  \\\n",
              "0      206461                 Valsartan  Left Ventricular Dysfunction   \n",
              "1       95260                Guanfacine                          ADHD   \n",
              "2       92703                    Lybrel                 Birth Control   \n",
              "3      138000                Ortho Evra                 Birth Control   \n",
              "4       35696  Buprenorphine / naloxone             Opiate Dependence   \n",
              "\n",
              "                                              review  rating  \\\n",
              "0  \"It has no side effect, I take it in combinati...     9.0   \n",
              "1  \"My son is halfway through his fourth week of ...     8.0   \n",
              "2  \"I used to take another oral contraceptive, wh...     5.0   \n",
              "3  \"This is my first time using any form of birth...     8.0   \n",
              "4  \"Suboxone has completely turned my life around...     9.0   \n",
              "\n",
              "                date  usefulCount  \n",
              "0       May 20, 2012           27  \n",
              "1     April 27, 2010          192  \n",
              "2  December 14, 2009           17  \n",
              "3   November 3, 2015           10  \n",
              "4  November 27, 2016           37  "
            ]
          },
          "metadata": {
            "tags": []
          },
          "execution_count": 3
        }
      ]
    },
    {
      "metadata": {
        "id": "38v4ilFZnoLQ",
        "colab_type": "code",
        "colab": {
          "base_uri": "https://localhost:8080/",
          "height": 125
        },
        "outputId": "e3d5cbd6-1928-4d16-e65b-c0861cbb4fa8"
      },
      "cell_type": "code",
      "source": [
        "# Turn rating into new \"binned\" column\n",
        "def rank_bin(array):\n",
        "  y_rank = []\n",
        "  for i in array:\n",
        "    if i <= 4: # Negative Rating Cut Off (Inclusive)\n",
        "      y_rank.append(-1)\n",
        "    elif i >= 10: # Positive Rating Cut Off (Inclusive)\n",
        "      y_rank.append(1)\n",
        "    else:\n",
        "      y_rank.append(0)\n",
        "  return y_rank\n",
        "\n",
        "df_main[\"rank_bin\"] = rank_bin(df_main[\"rating\"])\n",
        "df_main.rank_bin.value_counts() # Check to see the bin sizes. "
      ],
      "execution_count": 4,
      "outputs": [
        {
          "output_type": "execute_result",
          "data": {
            "text/plain": [
              " 0    93486\n",
              " 1    68005\n",
              "-1    53572\n",
              "Name: rank_bin, dtype: int64"
            ]
          },
          "metadata": {
            "tags": []
          },
          "execution_count": 4
        }
      ]
    },
    {
      "metadata": {
        "id": "D_tbp84Zuvvr",
        "colab_type": "code",
        "colab": {}
      },
      "cell_type": "code",
      "source": [
        "# Upload File Manually\n",
        "#from google.colab import files\n",
        "\n",
        "#uploaded = files.upload()\n",
        "\n",
        "#for fn in uploaded.keys():\n",
        "#   print('User uploaded file \"{name}\" with length {length} bytes'.format(\n",
        "#      name=fn, length=len(uploaded[fn])))"
      ],
      "execution_count": 0,
      "outputs": []
    },
    {
      "metadata": {
        "id": "E1yK2C2vhMTK",
        "colab_type": "code",
        "colab": {}
      },
      "cell_type": "code",
      "source": [
        "#downloaded = drive.CreateFile({'id': \"1m74XhpHHZXfS3mAM8cbBYl-FHlpjZnEi\"})\n",
        "#downloaded.GetContentFile(\"socialmedia_relevant_cols.csv\")"
      ],
      "execution_count": 0,
      "outputs": []
    },
    {
      "metadata": {
        "id": "L6B6dFWStdm2",
        "colab_type": "code",
        "colab": {}
      },
      "cell_type": "code",
      "source": [
        "#input_file = codecs.open(\"socialmedia_relevant_cols.csv\", \"r\",encoding='utf-8', errors='replace')\n",
        "#output_file = open(\"socialmedia_relevant_cols_clean.csv\", \"w\")\n",
        "\n",
        "#def sanitize_characters(raw, clean):    \n",
        "#    for line in input_file:\n",
        "#        out = line\n",
        "#        output_file.write(line)\n",
        "        \n",
        "#sanitize_characters(input_file, output_file)"
      ],
      "execution_count": 0,
      "outputs": []
    },
    {
      "metadata": {
        "id": "3OdE4niGtdm7",
        "colab_type": "text"
      },
      "cell_type": "markdown",
      "source": [
        "### Let's inspect the data\n",
        "It looks solid, but we don't really need urls, and we would like to have our words all lowercase (Hello and HELLO are pretty similar for our task)"
      ]
    },
    {
      "metadata": {
        "id": "qIQPvMx6tdm7",
        "colab_type": "code",
        "outputId": "00a87498-e577-4ba7-8131-d99259c1a0c4",
        "colab": {
          "base_uri": "https://localhost:8080/",
          "height": 241
        }
      },
      "cell_type": "code",
      "source": [
        "questions = df_main[['review','rating','rank_bin']]  #pd.read_csv(\"socialmedia_relevant_cols_clean.csv\")\n",
        "questions.columns=['text', 'rating', 'class_label']\n",
        "questions.head()"
      ],
      "execution_count": 8,
      "outputs": [
        {
          "output_type": "execute_result",
          "data": {
            "text/html": [
              "<div>\n",
              "<style scoped>\n",
              "    .dataframe tbody tr th:only-of-type {\n",
              "        vertical-align: middle;\n",
              "    }\n",
              "\n",
              "    .dataframe tbody tr th {\n",
              "        vertical-align: top;\n",
              "    }\n",
              "\n",
              "    .dataframe thead th {\n",
              "        text-align: right;\n",
              "    }\n",
              "</style>\n",
              "<table border=\"1\" class=\"dataframe\">\n",
              "  <thead>\n",
              "    <tr style=\"text-align: right;\">\n",
              "      <th></th>\n",
              "      <th>text</th>\n",
              "      <th>rating</th>\n",
              "      <th>class_label</th>\n",
              "    </tr>\n",
              "  </thead>\n",
              "  <tbody>\n",
              "    <tr>\n",
              "      <th>0</th>\n",
              "      <td>\"It has no side effect, I take it in combinati...</td>\n",
              "      <td>9.0</td>\n",
              "      <td>0</td>\n",
              "    </tr>\n",
              "    <tr>\n",
              "      <th>1</th>\n",
              "      <td>\"My son is halfway through his fourth week of ...</td>\n",
              "      <td>8.0</td>\n",
              "      <td>0</td>\n",
              "    </tr>\n",
              "    <tr>\n",
              "      <th>2</th>\n",
              "      <td>\"I used to take another oral contraceptive, wh...</td>\n",
              "      <td>5.0</td>\n",
              "      <td>0</td>\n",
              "    </tr>\n",
              "    <tr>\n",
              "      <th>3</th>\n",
              "      <td>\"This is my first time using any form of birth...</td>\n",
              "      <td>8.0</td>\n",
              "      <td>0</td>\n",
              "    </tr>\n",
              "    <tr>\n",
              "      <th>4</th>\n",
              "      <td>\"Suboxone has completely turned my life around...</td>\n",
              "      <td>9.0</td>\n",
              "      <td>0</td>\n",
              "    </tr>\n",
              "  </tbody>\n",
              "</table>\n",
              "</div>"
            ],
            "text/plain": [
              "                                                text  rating  class_label\n",
              "0  \"It has no side effect, I take it in combinati...     9.0            0\n",
              "1  \"My son is halfway through his fourth week of ...     8.0            0\n",
              "2  \"I used to take another oral contraceptive, wh...     5.0            0\n",
              "3  \"This is my first time using any form of birth...     8.0            0\n",
              "4  \"Suboxone has completely turned my life around...     9.0            0"
            ]
          },
          "metadata": {
            "tags": []
          },
          "execution_count": 8
        }
      ]
    },
    {
      "metadata": {
        "id": "ZUigrfgQtdnD",
        "colab_type": "code",
        "outputId": "50cb9014-0135-483c-f221-c946fb802a55",
        "colab": {
          "base_uri": "https://localhost:8080/",
          "height": 241
        }
      },
      "cell_type": "code",
      "source": [
        "questions.tail()"
      ],
      "execution_count": 9,
      "outputs": [
        {
          "output_type": "execute_result",
          "data": {
            "text/html": [
              "<div>\n",
              "<style scoped>\n",
              "    .dataframe tbody tr th:only-of-type {\n",
              "        vertical-align: middle;\n",
              "    }\n",
              "\n",
              "    .dataframe tbody tr th {\n",
              "        vertical-align: top;\n",
              "    }\n",
              "\n",
              "    .dataframe thead th {\n",
              "        text-align: right;\n",
              "    }\n",
              "</style>\n",
              "<table border=\"1\" class=\"dataframe\">\n",
              "  <thead>\n",
              "    <tr style=\"text-align: right;\">\n",
              "      <th></th>\n",
              "      <th>text</th>\n",
              "      <th>rating</th>\n",
              "      <th>class_label</th>\n",
              "    </tr>\n",
              "  </thead>\n",
              "  <tbody>\n",
              "    <tr>\n",
              "      <th>53761</th>\n",
              "      <td>\"I have taken Tamoxifen for 5 years. Side effe...</td>\n",
              "      <td>10.0</td>\n",
              "      <td>1</td>\n",
              "    </tr>\n",
              "    <tr>\n",
              "      <th>53762</th>\n",
              "      <td>\"I&amp;#039;ve been taking Lexapro (escitaploprgra...</td>\n",
              "      <td>9.0</td>\n",
              "      <td>0</td>\n",
              "    </tr>\n",
              "    <tr>\n",
              "      <th>53763</th>\n",
              "      <td>\"I&amp;#039;m married, 34 years old and I have no ...</td>\n",
              "      <td>8.0</td>\n",
              "      <td>0</td>\n",
              "    </tr>\n",
              "    <tr>\n",
              "      <th>53764</th>\n",
              "      <td>\"I was prescribed Nucynta for severe neck/shou...</td>\n",
              "      <td>1.0</td>\n",
              "      <td>-1</td>\n",
              "    </tr>\n",
              "    <tr>\n",
              "      <th>53765</th>\n",
              "      <td>\"It works!!!\"</td>\n",
              "      <td>9.0</td>\n",
              "      <td>0</td>\n",
              "    </tr>\n",
              "  </tbody>\n",
              "</table>\n",
              "</div>"
            ],
            "text/plain": [
              "                                                    text  rating  class_label\n",
              "53761  \"I have taken Tamoxifen for 5 years. Side effe...    10.0            1\n",
              "53762  \"I&#039;ve been taking Lexapro (escitaploprgra...     9.0            0\n",
              "53763  \"I&#039;m married, 34 years old and I have no ...     8.0            0\n",
              "53764  \"I was prescribed Nucynta for severe neck/shou...     1.0           -1\n",
              "53765                                      \"It works!!!\"     9.0            0"
            ]
          },
          "metadata": {
            "tags": []
          },
          "execution_count": 9
        }
      ]
    },
    {
      "metadata": {
        "id": "kti7cVgFtdnJ",
        "colab_type": "code",
        "outputId": "74b4effa-d1d8-4b24-98e5-b5846deb7d9e",
        "colab": {
          "base_uri": "https://localhost:8080/",
          "height": 333
        }
      },
      "cell_type": "code",
      "source": [
        "questions.describe()"
      ],
      "execution_count": 10,
      "outputs": [
        {
          "output_type": "execute_result",
          "data": {
            "text/html": [
              "<div>\n",
              "<style scoped>\n",
              "    .dataframe tbody tr th:only-of-type {\n",
              "        vertical-align: middle;\n",
              "    }\n",
              "\n",
              "    .dataframe tbody tr th {\n",
              "        vertical-align: top;\n",
              "    }\n",
              "\n",
              "    .dataframe thead th {\n",
              "        text-align: right;\n",
              "    }\n",
              "</style>\n",
              "<table border=\"1\" class=\"dataframe\">\n",
              "  <thead>\n",
              "    <tr style=\"text-align: right;\">\n",
              "      <th></th>\n",
              "      <th>rating</th>\n",
              "      <th>class_label</th>\n",
              "    </tr>\n",
              "  </thead>\n",
              "  <tbody>\n",
              "    <tr>\n",
              "      <th>count</th>\n",
              "      <td>215063.000000</td>\n",
              "      <td>215063.000000</td>\n",
              "    </tr>\n",
              "    <tr>\n",
              "      <th>mean</th>\n",
              "      <td>6.990008</td>\n",
              "      <td>0.067111</td>\n",
              "    </tr>\n",
              "    <tr>\n",
              "      <th>std</th>\n",
              "      <td>3.275554</td>\n",
              "      <td>0.748871</td>\n",
              "    </tr>\n",
              "    <tr>\n",
              "      <th>min</th>\n",
              "      <td>1.000000</td>\n",
              "      <td>-1.000000</td>\n",
              "    </tr>\n",
              "    <tr>\n",
              "      <th>25%</th>\n",
              "      <td>5.000000</td>\n",
              "      <td>0.000000</td>\n",
              "    </tr>\n",
              "    <tr>\n",
              "      <th>50%</th>\n",
              "      <td>8.000000</td>\n",
              "      <td>0.000000</td>\n",
              "    </tr>\n",
              "    <tr>\n",
              "      <th>75%</th>\n",
              "      <td>10.000000</td>\n",
              "      <td>1.000000</td>\n",
              "    </tr>\n",
              "    <tr>\n",
              "      <th>max</th>\n",
              "      <td>10.000000</td>\n",
              "      <td>1.000000</td>\n",
              "    </tr>\n",
              "  </tbody>\n",
              "</table>\n",
              "</div>"
            ],
            "text/plain": [
              "              rating    class_label\n",
              "count  215063.000000  215063.000000\n",
              "mean        6.990008       0.067111\n",
              "std         3.275554       0.748871\n",
              "min         1.000000      -1.000000\n",
              "25%         5.000000       0.000000\n",
              "50%         8.000000       0.000000\n",
              "75%        10.000000       1.000000\n",
              "max        10.000000       1.000000"
            ]
          },
          "metadata": {
            "tags": []
          },
          "execution_count": 10
        }
      ]
    },
    {
      "metadata": {
        "id": "34du1bQttdnO",
        "colab_type": "text"
      },
      "cell_type": "markdown",
      "source": [
        "Let's use a few regular expressions to clean up pour data, and save it back to disk for future use"
      ]
    },
    {
      "metadata": {
        "id": "Kg9cL-RJtdnR",
        "colab_type": "code",
        "outputId": "5f4ffab8-376a-44de-ffff-76f00f634f86",
        "colab": {
          "base_uri": "https://localhost:8080/",
          "height": 836
        }
      },
      "cell_type": "code",
      "source": [
        "def standardize_text(df, text_field):\n",
        "    df[text_field] = df[text_field].str.replace(r\"http\\S+\", \"\")\n",
        "    df[text_field] = df[text_field].str.replace(r\"http\", \"\")\n",
        "    df[text_field] = df[text_field].str.replace(r\"@\\S+\", \"\")\n",
        "    df[text_field] = df[text_field].str.replace(r\"[^A-Za-z0-9(),!?@\\'\\`\\\"\\_\\n]\", \" \")\n",
        "    df[text_field] = df[text_field].str.replace(r\"@\", \"at\")\n",
        "    df[text_field] = df[text_field].str.lower()\n",
        "    return df\n",
        "\n",
        "questions = standardize_text(questions, \"text\")\n",
        "\n",
        "questions.to_csv(\"clean_data.csv\")\n",
        "questions.head()"
      ],
      "execution_count": 11,
      "outputs": [
        {
          "output_type": "stream",
          "text": [
            "/usr/local/lib/python3.6/dist-packages/ipykernel_launcher.py:2: SettingWithCopyWarning: \n",
            "A value is trying to be set on a copy of a slice from a DataFrame.\n",
            "Try using .loc[row_indexer,col_indexer] = value instead\n",
            "\n",
            "See the caveats in the documentation: http://pandas.pydata.org/pandas-docs/stable/indexing.html#indexing-view-versus-copy\n",
            "  \n",
            "/usr/local/lib/python3.6/dist-packages/ipykernel_launcher.py:3: SettingWithCopyWarning: \n",
            "A value is trying to be set on a copy of a slice from a DataFrame.\n",
            "Try using .loc[row_indexer,col_indexer] = value instead\n",
            "\n",
            "See the caveats in the documentation: http://pandas.pydata.org/pandas-docs/stable/indexing.html#indexing-view-versus-copy\n",
            "  This is separate from the ipykernel package so we can avoid doing imports until\n",
            "/usr/local/lib/python3.6/dist-packages/ipykernel_launcher.py:4: SettingWithCopyWarning: \n",
            "A value is trying to be set on a copy of a slice from a DataFrame.\n",
            "Try using .loc[row_indexer,col_indexer] = value instead\n",
            "\n",
            "See the caveats in the documentation: http://pandas.pydata.org/pandas-docs/stable/indexing.html#indexing-view-versus-copy\n",
            "  after removing the cwd from sys.path.\n",
            "/usr/local/lib/python3.6/dist-packages/ipykernel_launcher.py:5: SettingWithCopyWarning: \n",
            "A value is trying to be set on a copy of a slice from a DataFrame.\n",
            "Try using .loc[row_indexer,col_indexer] = value instead\n",
            "\n",
            "See the caveats in the documentation: http://pandas.pydata.org/pandas-docs/stable/indexing.html#indexing-view-versus-copy\n",
            "  \"\"\"\n",
            "/usr/local/lib/python3.6/dist-packages/ipykernel_launcher.py:6: SettingWithCopyWarning: \n",
            "A value is trying to be set on a copy of a slice from a DataFrame.\n",
            "Try using .loc[row_indexer,col_indexer] = value instead\n",
            "\n",
            "See the caveats in the documentation: http://pandas.pydata.org/pandas-docs/stable/indexing.html#indexing-view-versus-copy\n",
            "  \n",
            "/usr/local/lib/python3.6/dist-packages/ipykernel_launcher.py:7: SettingWithCopyWarning: \n",
            "A value is trying to be set on a copy of a slice from a DataFrame.\n",
            "Try using .loc[row_indexer,col_indexer] = value instead\n",
            "\n",
            "See the caveats in the documentation: http://pandas.pydata.org/pandas-docs/stable/indexing.html#indexing-view-versus-copy\n",
            "  import sys\n"
          ],
          "name": "stderr"
        },
        {
          "output_type": "execute_result",
          "data": {
            "text/html": [
              "<div>\n",
              "<style scoped>\n",
              "    .dataframe tbody tr th:only-of-type {\n",
              "        vertical-align: middle;\n",
              "    }\n",
              "\n",
              "    .dataframe tbody tr th {\n",
              "        vertical-align: top;\n",
              "    }\n",
              "\n",
              "    .dataframe thead th {\n",
              "        text-align: right;\n",
              "    }\n",
              "</style>\n",
              "<table border=\"1\" class=\"dataframe\">\n",
              "  <thead>\n",
              "    <tr style=\"text-align: right;\">\n",
              "      <th></th>\n",
              "      <th>text</th>\n",
              "      <th>rating</th>\n",
              "      <th>class_label</th>\n",
              "    </tr>\n",
              "  </thead>\n",
              "  <tbody>\n",
              "    <tr>\n",
              "      <th>0</th>\n",
              "      <td>\"it has no side effect, i take it in combinati...</td>\n",
              "      <td>9.0</td>\n",
              "      <td>0</td>\n",
              "    </tr>\n",
              "    <tr>\n",
              "      <th>1</th>\n",
              "      <td>\"my son is halfway through his fourth week of ...</td>\n",
              "      <td>8.0</td>\n",
              "      <td>0</td>\n",
              "    </tr>\n",
              "    <tr>\n",
              "      <th>2</th>\n",
              "      <td>\"i used to take another oral contraceptive, wh...</td>\n",
              "      <td>5.0</td>\n",
              "      <td>0</td>\n",
              "    </tr>\n",
              "    <tr>\n",
              "      <th>3</th>\n",
              "      <td>\"this is my first time using any form of birth...</td>\n",
              "      <td>8.0</td>\n",
              "      <td>0</td>\n",
              "    </tr>\n",
              "    <tr>\n",
              "      <th>4</th>\n",
              "      <td>\"suboxone has completely turned my life around...</td>\n",
              "      <td>9.0</td>\n",
              "      <td>0</td>\n",
              "    </tr>\n",
              "  </tbody>\n",
              "</table>\n",
              "</div>"
            ],
            "text/plain": [
              "                                                text  rating  class_label\n",
              "0  \"it has no side effect, i take it in combinati...     9.0            0\n",
              "1  \"my son is halfway through his fourth week of ...     8.0            0\n",
              "2  \"i used to take another oral contraceptive, wh...     5.0            0\n",
              "3  \"this is my first time using any form of birth...     8.0            0\n",
              "4  \"suboxone has completely turned my life around...     9.0            0"
            ]
          },
          "metadata": {
            "tags": []
          },
          "execution_count": 11
        }
      ]
    },
    {
      "metadata": {
        "id": "E2YlWxyItdnY",
        "colab_type": "code",
        "outputId": "0108750f-0b5c-4d3a-eda7-bae25e9f8b2d",
        "colab": {
          "base_uri": "https://localhost:8080/",
          "height": 241
        }
      },
      "cell_type": "code",
      "source": [
        "clean_questions = pd.read_csv(\"clean_data.csv\")\n",
        "clean_questions.tail()"
      ],
      "execution_count": 12,
      "outputs": [
        {
          "output_type": "execute_result",
          "data": {
            "text/html": [
              "<div>\n",
              "<style scoped>\n",
              "    .dataframe tbody tr th:only-of-type {\n",
              "        vertical-align: middle;\n",
              "    }\n",
              "\n",
              "    .dataframe tbody tr th {\n",
              "        vertical-align: top;\n",
              "    }\n",
              "\n",
              "    .dataframe thead th {\n",
              "        text-align: right;\n",
              "    }\n",
              "</style>\n",
              "<table border=\"1\" class=\"dataframe\">\n",
              "  <thead>\n",
              "    <tr style=\"text-align: right;\">\n",
              "      <th></th>\n",
              "      <th>Unnamed: 0</th>\n",
              "      <th>text</th>\n",
              "      <th>rating</th>\n",
              "      <th>class_label</th>\n",
              "    </tr>\n",
              "  </thead>\n",
              "  <tbody>\n",
              "    <tr>\n",
              "      <th>215058</th>\n",
              "      <td>53761</td>\n",
              "      <td>\"i have taken tamoxifen for 5 years  side effe...</td>\n",
              "      <td>10.0</td>\n",
              "      <td>1</td>\n",
              "    </tr>\n",
              "    <tr>\n",
              "      <th>215059</th>\n",
              "      <td>53762</td>\n",
              "      <td>\"i  039 ve been taking lexapro (escitaploprgra...</td>\n",
              "      <td>9.0</td>\n",
              "      <td>0</td>\n",
              "    </tr>\n",
              "    <tr>\n",
              "      <th>215060</th>\n",
              "      <td>53763</td>\n",
              "      <td>\"i  039 m married, 34 years old and i have no ...</td>\n",
              "      <td>8.0</td>\n",
              "      <td>0</td>\n",
              "    </tr>\n",
              "    <tr>\n",
              "      <th>215061</th>\n",
              "      <td>53764</td>\n",
              "      <td>\"i was prescribed nucynta for severe neck shou...</td>\n",
              "      <td>1.0</td>\n",
              "      <td>-1</td>\n",
              "    </tr>\n",
              "    <tr>\n",
              "      <th>215062</th>\n",
              "      <td>53765</td>\n",
              "      <td>\"it works!!!\"</td>\n",
              "      <td>9.0</td>\n",
              "      <td>0</td>\n",
              "    </tr>\n",
              "  </tbody>\n",
              "</table>\n",
              "</div>"
            ],
            "text/plain": [
              "        Unnamed: 0                                               text  rating  \\\n",
              "215058       53761  \"i have taken tamoxifen for 5 years  side effe...    10.0   \n",
              "215059       53762  \"i  039 ve been taking lexapro (escitaploprgra...     9.0   \n",
              "215060       53763  \"i  039 m married, 34 years old and i have no ...     8.0   \n",
              "215061       53764  \"i was prescribed nucynta for severe neck shou...     1.0   \n",
              "215062       53765                                      \"it works!!!\"     9.0   \n",
              "\n",
              "        class_label  \n",
              "215058            1  \n",
              "215059            0  \n",
              "215060            0  \n",
              "215061           -1  \n",
              "215062            0  "
            ]
          },
          "metadata": {
            "tags": []
          },
          "execution_count": 12
        }
      ]
    },
    {
      "metadata": {
        "id": "7Qc-Lmm2tdng",
        "colab_type": "text"
      },
      "cell_type": "markdown",
      "source": [
        "### Data Overview"
      ]
    },
    {
      "metadata": {
        "id": "HyH0Cue7tdnh",
        "colab_type": "text"
      },
      "cell_type": "markdown",
      "source": [
        "Let's look at our class balance."
      ]
    },
    {
      "metadata": {
        "id": "uTn6XTWwtdni",
        "colab_type": "code",
        "outputId": "7fbe0f4e-dc15-429c-9511-53c80e33c995",
        "colab": {
          "base_uri": "https://localhost:8080/",
          "height": 212
        }
      },
      "cell_type": "code",
      "source": [
        "clean_questions.groupby(\"class_label\").count()"
      ],
      "execution_count": 13,
      "outputs": [
        {
          "output_type": "execute_result",
          "data": {
            "text/html": [
              "<div>\n",
              "<style scoped>\n",
              "    .dataframe tbody tr th:only-of-type {\n",
              "        vertical-align: middle;\n",
              "    }\n",
              "\n",
              "    .dataframe tbody tr th {\n",
              "        vertical-align: top;\n",
              "    }\n",
              "\n",
              "    .dataframe thead th {\n",
              "        text-align: right;\n",
              "    }\n",
              "</style>\n",
              "<table border=\"1\" class=\"dataframe\">\n",
              "  <thead>\n",
              "    <tr style=\"text-align: right;\">\n",
              "      <th></th>\n",
              "      <th>Unnamed: 0</th>\n",
              "      <th>text</th>\n",
              "      <th>rating</th>\n",
              "    </tr>\n",
              "    <tr>\n",
              "      <th>class_label</th>\n",
              "      <th></th>\n",
              "      <th></th>\n",
              "      <th></th>\n",
              "    </tr>\n",
              "  </thead>\n",
              "  <tbody>\n",
              "    <tr>\n",
              "      <th>-1</th>\n",
              "      <td>53572</td>\n",
              "      <td>53572</td>\n",
              "      <td>53572</td>\n",
              "    </tr>\n",
              "    <tr>\n",
              "      <th>0</th>\n",
              "      <td>93486</td>\n",
              "      <td>93486</td>\n",
              "      <td>93486</td>\n",
              "    </tr>\n",
              "    <tr>\n",
              "      <th>1</th>\n",
              "      <td>68005</td>\n",
              "      <td>68005</td>\n",
              "      <td>68005</td>\n",
              "    </tr>\n",
              "  </tbody>\n",
              "</table>\n",
              "</div>"
            ],
            "text/plain": [
              "             Unnamed: 0   text  rating\n",
              "class_label                           \n",
              "-1                53572  53572   53572\n",
              " 0                93486  93486   93486\n",
              " 1                68005  68005   68005"
            ]
          },
          "metadata": {
            "tags": []
          },
          "execution_count": 13
        }
      ]
    },
    {
      "metadata": {
        "id": "sfPl9MLwtdnm",
        "colab_type": "text"
      },
      "cell_type": "markdown",
      "source": [
        "We can see our classes are pretty balanced, with a slight oversampling of the \"Irrelevant\" class."
      ]
    },
    {
      "metadata": {
        "id": "0DE5Jcvntdnn",
        "colab_type": "text"
      },
      "cell_type": "markdown",
      "source": [
        "### Our data is clean, now it needs to be prepared\n",
        "Now that our inputs are more reasonable, let's transform our inputs in a way our model can understand. This implies:\n",
        "- Tokenizing sentences to a list of separate words\n",
        "- Creating a train test split\n",
        "- Inspecting our data a little more to validate results"
      ]
    },
    {
      "metadata": {
        "id": "bcoctW53tdnp",
        "colab_type": "code",
        "outputId": "53856d99-7c75-48e4-f8da-444e4699e6f9",
        "colab": {
          "base_uri": "https://localhost:8080/",
          "height": 241
        }
      },
      "cell_type": "code",
      "source": [
        "from nltk.tokenize import RegexpTokenizer\n",
        "\n",
        "tokenizer = RegexpTokenizer(r'\\w+')\n",
        "\n",
        "clean_questions[\"tokens\"] = clean_questions[\"text\"].apply(tokenizer.tokenize)\n",
        "\n",
        "df_main['review_clean']=clean_questions.text\n",
        "df_main['tokens']=clean_questions.tokens\n",
        "\n",
        "clean_questions.head()"
      ],
      "execution_count": 14,
      "outputs": [
        {
          "output_type": "execute_result",
          "data": {
            "text/html": [
              "<div>\n",
              "<style scoped>\n",
              "    .dataframe tbody tr th:only-of-type {\n",
              "        vertical-align: middle;\n",
              "    }\n",
              "\n",
              "    .dataframe tbody tr th {\n",
              "        vertical-align: top;\n",
              "    }\n",
              "\n",
              "    .dataframe thead th {\n",
              "        text-align: right;\n",
              "    }\n",
              "</style>\n",
              "<table border=\"1\" class=\"dataframe\">\n",
              "  <thead>\n",
              "    <tr style=\"text-align: right;\">\n",
              "      <th></th>\n",
              "      <th>Unnamed: 0</th>\n",
              "      <th>text</th>\n",
              "      <th>rating</th>\n",
              "      <th>class_label</th>\n",
              "      <th>tokens</th>\n",
              "    </tr>\n",
              "  </thead>\n",
              "  <tbody>\n",
              "    <tr>\n",
              "      <th>0</th>\n",
              "      <td>0</td>\n",
              "      <td>\"it has no side effect, i take it in combinati...</td>\n",
              "      <td>9.0</td>\n",
              "      <td>0</td>\n",
              "      <td>[it, has, no, side, effect, i, take, it, in, c...</td>\n",
              "    </tr>\n",
              "    <tr>\n",
              "      <th>1</th>\n",
              "      <td>1</td>\n",
              "      <td>\"my son is halfway through his fourth week of ...</td>\n",
              "      <td>8.0</td>\n",
              "      <td>0</td>\n",
              "      <td>[my, son, is, halfway, through, his, fourth, w...</td>\n",
              "    </tr>\n",
              "    <tr>\n",
              "      <th>2</th>\n",
              "      <td>2</td>\n",
              "      <td>\"i used to take another oral contraceptive, wh...</td>\n",
              "      <td>5.0</td>\n",
              "      <td>0</td>\n",
              "      <td>[i, used, to, take, another, oral, contracepti...</td>\n",
              "    </tr>\n",
              "    <tr>\n",
              "      <th>3</th>\n",
              "      <td>3</td>\n",
              "      <td>\"this is my first time using any form of birth...</td>\n",
              "      <td>8.0</td>\n",
              "      <td>0</td>\n",
              "      <td>[this, is, my, first, time, using, any, form, ...</td>\n",
              "    </tr>\n",
              "    <tr>\n",
              "      <th>4</th>\n",
              "      <td>4</td>\n",
              "      <td>\"suboxone has completely turned my life around...</td>\n",
              "      <td>9.0</td>\n",
              "      <td>0</td>\n",
              "      <td>[suboxone, has, completely, turned, my, life, ...</td>\n",
              "    </tr>\n",
              "  </tbody>\n",
              "</table>\n",
              "</div>"
            ],
            "text/plain": [
              "   Unnamed: 0                                               text  rating  \\\n",
              "0           0  \"it has no side effect, i take it in combinati...     9.0   \n",
              "1           1  \"my son is halfway through his fourth week of ...     8.0   \n",
              "2           2  \"i used to take another oral contraceptive, wh...     5.0   \n",
              "3           3  \"this is my first time using any form of birth...     8.0   \n",
              "4           4  \"suboxone has completely turned my life around...     9.0   \n",
              "\n",
              "   class_label                                             tokens  \n",
              "0            0  [it, has, no, side, effect, i, take, it, in, c...  \n",
              "1            0  [my, son, is, halfway, through, his, fourth, w...  \n",
              "2            0  [i, used, to, take, another, oral, contracepti...  \n",
              "3            0  [this, is, my, first, time, using, any, form, ...  \n",
              "4            0  [suboxone, has, completely, turned, my, life, ...  "
            ]
          },
          "metadata": {
            "tags": []
          },
          "execution_count": 14
        }
      ]
    },
    {
      "metadata": {
        "id": "GYjQPuqJtdnz",
        "colab_type": "text"
      },
      "cell_type": "markdown",
      "source": [
        "### Inspecting our dataset a little more"
      ]
    },
    {
      "metadata": {
        "id": "MjehxYbptdnz",
        "colab_type": "code",
        "outputId": "61e4866f-fcf2-4cde-b502-01815c29775d",
        "colab": {
          "base_uri": "https://localhost:8080/",
          "height": 92
        }
      },
      "cell_type": "code",
      "source": [
        "from keras.preprocessing.text import Tokenizer\n",
        "from keras.preprocessing.sequence import pad_sequences\n",
        "from keras.utils import to_categorical\n",
        "\n",
        "all_words = [word for tokens in clean_questions[\"tokens\"] for word in tokens]\n",
        "df_main[\"sentence_length\"] = [len(tokens) for tokens in clean_questions[\"tokens\"]]\n",
        "VOCAB = sorted(list(set(all_words)))\n",
        "print(\"%s words total, with a vocabulary size of %s\" % (len(all_words), len(VOCAB)))\n",
        "print(\"Max sentence length is %s\" % max(df_main[\"sentence_length\"]))"
      ],
      "execution_count": 15,
      "outputs": [
        {
          "output_type": "stream",
          "text": [
            "19028335 words total, with a vocabulary size of 53563\n",
            "Max sentence length is 1992\n"
          ],
          "name": "stdout"
        }
      ]
    },
    {
      "metadata": {
        "id": "Qv3RAYEADbiw",
        "colab_type": "code",
        "colab": {
          "base_uri": "https://localhost:8080/",
          "height": 74
        },
        "outputId": "282f420d-964b-4304-8ec3-95687f6e7645"
      },
      "cell_type": "code",
      "source": [
        "print(df_main.loc[df_main['sentence_length'] == 1992].review.values)"
      ],
      "execution_count": 16,
      "outputs": [
        {
          "output_type": "stream",
          "text": [
            "['\"Two and a half months ago I was prescribed Venlafaxine to help prevent chronic migraines.\\r\\nIt did help the migraines (reduced them by almost half), but with it came a host of side effects that were far worse than the problem I was trying to get rid of.\\r\\nHaving now come off of the stuff, I would not recommend anyone ever use Venlafaxine unless they suffer from extreme / suicidal depression. I mean extreme in the most emphatic sense of the word. \\r\\nBefore trying Venlafaxine, I was a writer. While on Venlafaxine, I could barely write or speak or communicate at all. More than that, I just didn&#039;t want to. Not normal for a usually outgoing extrovert.\\r\\nNow, I&#039;m beginning to write again - but my ability to speak and converse with others has deteriorated by about 95%. Writing these words is taking forever; keeping up in conversation with even one person is impossible, and I barely see the point of trying either. On Venlafaxine, words pretty much left me - my conversational vocabulary  was whittled down to the following:\\r\\n&quot;Mmm&quot; for yes; a sharp and clipped &quot;Mm&quot; for &quot;No&quot;\\r\\n&quot;Okay.&quot;\\r\\n&quot;Really?&quot;\\r\\n&quot;Oh right.&quot;\\r\\n&quot;Cool.&quot;\\r\\n&quot;That sucks&quot;\\r\\nAt the moment, I&#039;m a week into withdrawal, and I have to try extremely hard just to make the most mundane small talk. Last night I went to a party with some close friends, cheesy &#039;90s music, and a barbecue. About half of them are academics, and I couldn&#039;t keep up with conversations I normally would be able to; the other half like to dance and party, but I felt glued to my seat (as well as practically mute) and eventually walked off and found a quiet sofa to lie down on.\\r\\nI have never felt so isolated and lonely in my life. Thanks Venlafaxine.\\r\\nIf you consider yourself a social, creative, and curious person, DO NOT TAKE EVEN ONE DOSE OF VENLAFAXINE. Unless of course you are extremely extremely depressed. I&#039;ve suffered from depression in the past, but only mildly. Venlafaxine has shown me what true depression feels like.\\r\\nAs for the other side effects:\\r\\n- About two days&#039; worth of total joyful euphoria during the first 48 hours of taking Venlafaxine. Anxiety of all kinds evaporated. This felt amazing - although I can&#039;t remember what it felt like now. At the time, this extremely brief effect was powerful enough to make me feel that pushing on with Venlafaxine would be a Good Idea.\\r\\n- After that, I started feeling very sleepy. All the time. I slept more. No euphoria; more anxiety.\\r\\n- A week later, the night sweats started. My room was pretty cold (it was only spring in the UK), but I sweated more than I ever have on any tropical holiday. This meant that despite being extremely sleepy, I couldn&#039;t sleep.\\r\\nSince the side effects were supposed to wear off after six weeks or so, I stuck with Venlafaxine for six weeks. Over that time I became so sleep deprived that I lived in a state of permanent exhaustion.\\r\\nEnter the writer&#039;s worst enemy: Brain fog. I spent entire days so braindead that the most challenging thing I could manage was staring blankly at a wall - or lifting my phone to read text messages and attempt to learn something from articles about Venlafaxine. I&#039;ve read the same articles countless times, but nothing sank in; every time I read the same article it felt like I was reading it for the first time. I recognised the layout and design of each webpage, and that way I was able to realise I&#039;d read it before, but the actual text went in one eye and out the other.\\r\\nIn conversation, I had a brain like a sieve. Words went in one ear and out the other. Normally, I could pump out a lot of writing on a regular basis; on Venlafaxine, I wrote a small and frankly pitiful handful of short and uninspired pieces, and that was it. If you love being productive and creative, do not go near Venlafaxine.\\r\\nThe above was my life for six weeks - and that was enough. I did see family and friends while on Venlafaxine, but I constantly forgot what was going on and must have seemed scatterbrained or borderline retarded at times. Although I did explain to people what was going on with my medication, it just seemed to make people uncomfortable - and I&#039;ve now become the butt of a lot of jokes relating to my consistent uselessness at everything from chatting to party games and my inability to work or do anything productive. Someone even compared me to Lenny from Of Mice And Men and asked when my family were going to take me into the back garden and shoot me in the head rather than continue to care for me. All of this contributed to the worst feeling of loneliness and isolation I have ever experienced in my life.\\r\\nVenlafaxine not only trapped me inside my head - it also emptied my head of anything worth remembering, and left me barely able to learn new things. \\r\\nI&#039;d sit around tables with people and realise I couldn&#039;t remember the names of people I&#039;d know for years - or even family members. \\r\\nI&#039;d hear a song playing and say &quot;Hey - what&#039;s the name of this dance?&quot;\\r\\nAny sentence longer than a few words requires a minute or so to compose when written. Spoken out loud? Forget about it. When I try to speak, I sound like the Goon from Popeye.\\r\\nAfter six weeks of hell, my doctor and I agreed to taper off my 75mg daily dose. This process lasted a month, not following a particular schedule (which might have been a better idea), and was mostly side effect free until I came down to 18.25mg a day - one half of one 37.5mg tablet.\\r\\nAfter three days of that, it really hit the fan. I got up one day, pottered around a bit, and suddenly decided that I wanted to kill myself. Literally out of nowhere.\\r\\nFortunately I was of sound enough mind to call the Samaritans, who recommended I call the emergency services, who sent an ambulance to take me to hospital. For suicidal thoughts. \\r\\nTo be honest, I&#039;d rather have gone to Disneyland.\\r\\nOnce I was in A&amp;E, I got to wait for several hours, just stewing in a room with a sofa and not much else. Then I met the most useless doctor of all time. After I refused his suggestion that I not only go back on Venlafaxine, but *try a higher dose* than the one that got me into this mess in the first place, he said there wasn&#039;t anything else they could do - and handed me a little leaflet for a local mental health charity meetup that happens every so often.\\r\\nBy this point I&#039;d decided that suicide would not be the best option - and nor would going on even more Venlafaxine than before. I also binned the leaflet on my way out, determined to keep going and just deal with the withdrawal.\\r\\nSince that time, my intelligence level has plummeted to the point of being humiliating. But that&#039;s not even the worst of it.\\r\\nAs I mentioned before, I started taking Venlafaxine for migraines. Now that I&#039;m not taking it, they&#039;re coming back again - but they&#039;ve also changed.\\r\\nA few days ago, days before the party I should probably have stayed home for only I couldn&#039;t stand sitting at home any longer so I went and ended up alone in a darkened room and felt more depressed than I have in my entire life, I was at home when I collapsed. The right side of my body gave way, I hit the wall, and fell on the floor where I lay frozen for God knows how long. Then when I did get up, I realised I couldn&#039;t speak at all, the right side of my body was almost paralysed, and the right side of my head was numb on the outside, and in agony on the inside.\\r\\nAfter calling the emergency services again, I was taken through the standard questions I guess they ask everyone when they think the person in question is having a stroke. Like the suicidal thoughts, stroke symptoms were a new experience for me. Thanks, Venlafaxine.\\r\\nWhen the ambulance arrived, they were able to reassure me that I wasn&#039;t having a stroke, as one side of my face wasn&#039;t drooping. This was good news - but since they couldn&#039;t explain what was actually going on, I was taking to hospital for a brain scan and blood tests and a meeting with a doctor who told me I&#039;d had a right-sided hemiplegic migraine. I&#039;d never had one before, and didn&#039;t know they existed until then; my migraines have always felt like my head is both in a vice and exploding at the same time, and I get them across my whole head, not just one side.\\r\\nAt this point, I&#039;m determined to continue fighting the withdrawal symptoms. The only thing that&#039;s really helped me in doing this was the discovery of a cognitive distortion called &quot;emotional reasoning&quot;. This involves assuming that because you feel bad, things must actually be bad.\\r\\nObviously emotional reasoning (which is worth Googling as it&#039;s quite an in depth subject, or at least feels like it given that my brain&#039;s been hopefully temporarily damaged by Venlafaxine) is pretty common in depression. It&#039;s also been my brain&#039;s default way of operating possibly for as long as I can remember, but definitely since I started taking Venlafaxine. The emotional and physical and psychological rollercoaster Venlafaxine puts you through is utterly exhausting - and while it&#039;s throwing you all over the place and especially during withdrawal it&#039;s tough to keep in mind that a lot of the negative thoughts your mind throws up are going to be based on how you feel (i.e. the levels and mix of different chemicals in your brain), NOT on any Real Life Stuff. You&#039;ll most likely unintentionally filter out all the good stuff in your brain and only remember the darkest and worst things you possibly can, and attach all kinds of apparently logical arguments to make a case against yourself / a case that argues that you and your life are awful.\\r\\nLooking back on this experience, my thoughts were similar to one of those films you see advertised as &quot;...based on a true story&quot;. Works of fiction based very loosely on facts.\\r\\nRather than a film you&#039;d give two stars and never watch again, emotional reasoning&#039;s end product is a lie - not to mention the most toxic thoughts a human being can think. Depression can definitely make people tell these lies to themselves - but Venlafaxine made my brain malfunction so badly that putting together an apparently sensible argument for any depressive thoughts suddenly seemed like the most obvious thing in the world one day.\\r\\nIf I hadn&#039;t had those thoughts, I would&#039;ve just made lunch.\\r\\nSo that&#039;s about it for now - if I don&#039;t update this story in the future, assume I got better and decided to never revisit this page again, preferring to leave Venlafaxine and its horrific toxicity behind me. Good luck with your own journey :)\"']\n"
          ],
          "name": "stdout"
        }
      ]
    },
    {
      "metadata": {
        "id": "uPvlVBEd161u",
        "colab_type": "code",
        "colab": {
          "base_uri": "https://localhost:8080/",
          "height": 191
        },
        "outputId": "e9115536-15c8-46e4-8ea8-53ea1ed4b4bc"
      },
      "cell_type": "code",
      "source": [
        "_a = df_main.loc[df_main['sentence_length'] >= 1000].review.count()\n",
        "_b = df_main.loc[df_main['sentence_length'] >= 750].review.count()\n",
        "_c = df_main.loc[df_main['sentence_length'] >= 250].review.count()\n",
        "_d = df_main.loc[df_main['sentence_length'] >= 175].review.count()\n",
        "_e = df_main.loc[df_main['sentence_length'] >= 100].review.count()\n",
        "_f = df_main.loc[df_main['sentence_length'] < 100].review.count()\n",
        "print (\" # of Reviews by Length \\n %s >1000 words \\n %s 1000<>700 words \\n %s 750<>500 words \\n %s 300<>150 words \\n %s 200<>100 words \\n %s <100 words\\n\" % (_a,_b,_c,_d,_e,_f))"
      ],
      "execution_count": 17,
      "outputs": [
        {
          "output_type": "stream",
          "text": [
            " # of Reviews by Length \n",
            " 6 >1000 words \n",
            " 11 1000<>700 words \n",
            " 236 750<>500 words \n",
            " 549 300<>150 words \n",
            " 92881 200<>100 words \n",
            " 122182 <100 words\n",
            "\n"
          ],
          "name": "stdout"
        }
      ]
    },
    {
      "metadata": {
        "id": "UCCbtmnB6qVN",
        "colab_type": "code",
        "colab": {
          "base_uri": "https://localhost:8080/",
          "height": 94
        },
        "outputId": "5922d740-ed12-49bd-a113-684babe7beac"
      },
      "cell_type": "code",
      "source": [
        "df_short = df_main.loc[df_main['sentence_length'] <= 250]\n",
        "df_short = df_short.sort_values(by='sentence_length', ascending=False)\n",
        "print(\"Max sentence length is %s\" % max(df_short[\"sentence_length\"]))"
      ],
      "execution_count": 23,
      "outputs": [
        {
          "output_type": "stream",
          "text": [
            "Max sentence length is 250\n"
          ],
          "name": "stdout"
        }
      ]
    },
    {
      "metadata": {
        "id": "UxbYanGOtdn5",
        "colab_type": "code",
        "outputId": "1d0f758c-4b06-46b4-d60b-396e0c73a4f0",
        "colab": {
          "base_uri": "https://localhost:8080/",
          "height": 640
        }
      },
      "cell_type": "code",
      "source": [
        "import matplotlib.pyplot as plt\n",
        "\n",
        "fig = plt.figure(figsize=(10, 10)) \n",
        "plt.xlabel('Sentence length')\n",
        "plt.ylabel('Number of sentences')\n",
        "plt.title('Length of Tokenized Sentences')\n",
        "plt.hist(df_short[\"sentence_length\"], bins=250)\n",
        "plt.show()"
      ],
      "execution_count": 24,
      "outputs": [
        {
          "output_type": "display_data",
          "data": {
            "image/png": "[encoded data removed]",
            "text/plain": [
              "<matplotlib.figure.Figure at 0x7fa2872ef5f8>"
            ]
          },
          "metadata": {
            "tags": []
          }
        }
      ]
    },
    {
      "metadata": {
        "id": "aSHLDDtbDoqA",
        "colab_type": "code",
        "colab": {
          "base_uri": "https://localhost:8080/",
          "height": 223
        },
        "outputId": "3e89ded9-ed21-4a2b-8bcd-ef18275c996c"
      },
      "cell_type": "code",
      "source": [
        "a_ = 180\n",
        "b_ = 175\n",
        "c_ = 170\n",
        "d_ = 168\n",
        "e_ = 167\n",
        "f_ = 166\n",
        "g_ = 165\n",
        "h_ = 165\n",
        "\n",
        "\n",
        "\n",
        "_a = df_main.loc[df_main['sentence_length'] > a_].review.count()\n",
        "_b = df_main.loc[df_main['sentence_length'] > b_].review.count()\n",
        "_c = df_main.loc[df_main['sentence_length'] > c_].review.count()\n",
        "_d = df_main.loc[df_main['sentence_length'] > d_].review.count()\n",
        "_e = df_main.loc[df_main['sentence_length'] > e_].review.count()\n",
        "_f = df_main.loc[df_main['sentence_length'] > f_].review.count()\n",
        "_g = df_main.loc[df_main['sentence_length'] > g_].review.count()\n",
        "_h = df_main.loc[df_main['sentence_length'] < h_].review.count()\n",
        "print (\" Cumulative # of Reviews by Length\\n %s >%s words \\n %s >%s words \\n %s >%s words \\n %s >%s words \\n %s >%s words \\n %s >%s words\\n %s >%s words\\n %s <%s words\\n\" % (_a,a_,_b,b_,_c,c_,_d,d_,_e,e_,_f,f_,_g,g_,_h,h_))"
      ],
      "execution_count": 20,
      "outputs": [
        {
          "output_type": "stream",
          "text": [
            " Cumulative # of Reviews by Length\n",
            " 455 >180 words \n",
            " 522 >175 words \n",
            " 755 >170 words \n",
            " 918 >168 words \n",
            " 1031 >167 words \n",
            " 1210 >166 words\n",
            " 1439 >165 words\n",
            " 213390 <165 words\n",
            "\n"
          ],
          "name": "stdout"
        }
      ]
    },
    {
      "metadata": {
        "id": "7tydOW7wDYFn",
        "colab_type": "code",
        "colab": {
          "base_uri": "https://localhost:8080/",
          "height": 74
        },
        "outputId": "e3d87b9f-6f6b-462d-cc1a-7a6cf4505d7b"
      },
      "cell_type": "code",
      "source": [
        "df_shorter = df_main.loc[df_main['sentence_length'] <= 180]\n",
        "df_shorter = df_shorter.sort_values(by='sentence_length', ascending=False)\n",
        "print(\"Max sentence length is %s\" % max(df_shorter[\"sentence_length\"]))"
      ],
      "execution_count": 21,
      "outputs": [
        {
          "output_type": "stream",
          "text": [
            "Max sentence length is 180\n"
          ],
          "name": "stdout"
        }
      ]
    },
    {
      "metadata": {
        "id": "3q1FtWlxG0mN",
        "colab_type": "code",
        "colab": {
          "base_uri": "https://localhost:8080/",
          "height": 640
        },
        "outputId": "46907891-4b94-46c3-def9-182420581bc3"
      },
      "cell_type": "code",
      "source": [
        "import matplotlib.pyplot as plt\n",
        "\n",
        "fig = plt.figure(figsize=(10, 10)) \n",
        "plt.xlabel('sentences length')\n",
        "plt.ylabel('number of sentences')\n",
        "plt.title('tokenized sentences')\n",
        "plt.hist(df_shorter[\"sentence_length\"], bins=181)\n",
        "plt.show()"
      ],
      "execution_count": 91,
      "outputs": [
        {
          "output_type": "display_data",
          "data": {
            "image/png": "[encoded data removed]",
            "text/plain": [
              "<matplotlib.figure.Figure at 0x7f3a196824a8>"
            ]
          },
          "metadata": {
            "tags": []
          }
        }
      ]
    },
    {
      "metadata": {
        "id": "AyBddEBHtdoD",
        "colab_type": "text"
      },
      "cell_type": "markdown",
      "source": [
        "## On to the Machine Learning\n",
        "Now that our data is clean and prepared, let's dive in to the machine learning part."
      ]
    },
    {
      "metadata": {
        "id": "W36PiRy2tdoD",
        "colab_type": "text"
      },
      "cell_type": "markdown",
      "source": [
        "## Enter embeddings\n",
        " Machine Learning on images can use raw pixels as inputs. Fraud detection algorithms can use customer features. What can NLP use?\n",
        " \n",
        "A natural way to represent text for computers is to encode each character individually, this seems quite inadequate to represent and understand language. Our goal is to first create a useful embedding for each sentence (or tweet) in our dataset, and then use these embeddings to accurately predict the relevant category.\n",
        "\n",
        "The simplest approach we can start with is to use a bag of words model, and apply a logistic regression on top. A bag of words just associates an index to each word in our vocabulary, and embeds each sentence as a list of 0s, with a 1 at each index corresponding to a word present in the sentence."
      ]
    },
    {
      "metadata": {
        "id": "fo_XHIdutdoF",
        "colab_type": "text"
      },
      "cell_type": "markdown",
      "source": [
        "## Bag of Words Counts"
      ]
    },
    {
      "metadata": {
        "id": "Odr4H7EmtdoH",
        "colab_type": "code",
        "colab": {}
      },
      "cell_type": "code",
      "source": [
        "from sklearn.model_selection import train_test_split\n",
        "from sklearn.feature_extraction.text import CountVectorizer, TfidfVectorizer\n",
        "\n",
        "def cv(data):\n",
        "    count_vectorizer = CountVectorizer()\n",
        "\n",
        "    emb = count_vectorizer.fit_transform(data)\n",
        "\n",
        "    return emb, count_vectorizer\n",
        "\n",
        "list_corpus = clean_questions[\"text\"].tolist()\n",
        "list_labels = clean_questions[\"class_label\"].tolist()\n",
        "\n",
        "X_train, X_test, y_train, y_test = train_test_split(list_corpus, list_labels, test_size=0.2, \n",
        "                                                                                random_state=40)\n",
        "\n",
        "X_train_counts, count_vectorizer = cv(X_train)\n",
        "X_test_counts = count_vectorizer.transform(X_test)"
      ],
      "execution_count": 0,
      "outputs": []
    },
    {
      "metadata": {
        "id": "SpyvJa3BtdoL",
        "colab_type": "text"
      },
      "cell_type": "markdown",
      "source": [
        "### Visualizing the embeddings\n",
        "Now that we've created embeddings, let's visualize them and see if we can identify some structure. In a perfect world, our embeddings would be so distinct that are two classes would be perfectly separated. Since visualizing data in 20k dimensions is hard, let's project it down to 2."
      ]
    },
    {
      "metadata": {
        "id": "bAD2xbmgtdoM",
        "colab_type": "code",
        "outputId": "45d6c648-c3c5-461f-c9b3-ced7d740ed7b",
        "colab": {
          "base_uri": "https://localhost:8080/",
          "height": 980
        }
      },
      "cell_type": "code",
      "source": [
        "from sklearn.decomposition import PCA, TruncatedSVD\n",
        "import matplotlib\n",
        "import matplotlib.patches as mpatches\n",
        "\n",
        "\n",
        "def plot_LSA(test_data, test_labels, savepath=\"PCA_demo.csv\", plot=True):\n",
        "        lsa = TruncatedSVD(n_components=2)\n",
        "        lsa.fit(test_data)\n",
        "        lsa_scores = lsa.transform(test_data)\n",
        "        color_mapper = {label:idx for idx,label in enumerate(set(test_labels))}\n",
        "        color_column = [color_mapper[label] for label in test_labels]\n",
        "        colors = ['orange','blue','blue']\n",
        "        if plot:\n",
        "            plt.scatter(lsa_scores[:,0], lsa_scores[:,1], s=8, alpha=.8, c=test_labels, cmap=matplotlib.colors.ListedColormap(colors))\n",
        "            red_patch = mpatches.Patch(color='orange', label='Irrelevant')\n",
        "            green_patch = mpatches.Patch(color='blue', label='Disaster')\n",
        "            plt.legend(handles=[red_patch, green_patch], prop={'size': 30})\n",
        "\n",
        "\n",
        "fig = plt.figure(figsize=(16, 16))          \n",
        "plot_LSA(X_train_counts, y_train)\n",
        "plt.show()"
      ],
      "execution_count": 77,
      "outputs": [
        {
          "output_type": "display_data",
          "data": {
            "image/png": "[encoded data removed]",
            "text/plain": [
              "<matplotlib.figure.Figure at 0x7f9c82d12400>"
            ]
          },
          "metadata": {
            "tags": []
          }
        }
      ]
    },
    {
      "metadata": {
        "id": "te0zZuIItdoS",
        "colab_type": "text"
      },
      "cell_type": "markdown",
      "source": [
        "These embeddings don't look very cleanly separated. Let's see if we can still fit a useful model on them."
      ]
    },
    {
      "metadata": {
        "id": "6Xw28YUvtdoS",
        "colab_type": "text"
      },
      "cell_type": "markdown",
      "source": [
        "### Fitting a classifier\n",
        "Starting with a logistic regression is a good idea. It is simple, often gets the job done, and is easy to interpret."
      ]
    },
    {
      "metadata": {
        "id": "I4wjmYnbtdoT",
        "colab_type": "code",
        "colab": {
          "base_uri": "https://localhost:8080/",
          "height": 193
        },
        "outputId": "92b1ab28-5a9e-4921-f64a-61001ada1ba9"
      },
      "cell_type": "code",
      "source": [
        "from sklearn.linear_model import LogisticRegression\n",
        "\n",
        "clf = LogisticRegression(C=30.0, class_weight='balanced', solver='newton-cg', \n",
        "                         multi_class='multinomial', n_jobs=-1, random_state=40)\n",
        "clf.fit(X_train_counts, y_train)\n",
        "\n",
        "y_predicted_counts = clf.predict(X_test_counts)\n"
      ],
      "execution_count": 66,
      "outputs": [
        {
          "output_type": "stream",
          "text": [
            "/usr/local/lib/python3.6/dist-packages/sklearn/utils/optimize.py:203: ConvergenceWarning: newton-cg failed to converge. Increase the number of iterations.\n",
            "  \"number of iterations.\", ConvergenceWarning)\n"
          ],
          "name": "stderr"
        }
      ]
    },
    {
      "metadata": {
        "id": "l0GgOxtutdoV",
        "colab_type": "text"
      },
      "cell_type": "markdown",
      "source": [
        "### Evaluation\n",
        "Let's start by looking at some metrics to see if our classifier performed well at all."
      ]
    },
    {
      "metadata": {
        "id": "HBoBNzhdtdoW",
        "colab_type": "code",
        "colab": {}
      },
      "cell_type": "code",
      "source": [
        "from sklearn.metrics import accuracy_score, f1_score, precision_score, recall_score, classification_report\n",
        "\n",
        "def get_metrics(y_test, y_predicted):  \n",
        "    # true positives / (true positives+false positives)\n",
        "    precision = precision_score(y_test, y_predicted, pos_label=None,\n",
        "                                    average='weighted')             \n",
        "    # true positives / (true positives + false negatives)\n",
        "    recall = recall_score(y_test, y_predicted, pos_label=None,\n",
        "                              average='weighted')\n",
        "    \n",
        "    # harmonic mean of precision and recall\n",
        "    f1 = f1_score(y_test, y_predicted, pos_label=None, average='weighted')\n",
        "    \n",
        "    # true positives + true negatives/ total\n",
        "    accuracy = accuracy_score(y_test, y_predicted)\n",
        "    return accuracy, precision, recall, f1\n",
        "\n",
        "accuracy, precision, recall, f1 = get_metrics(y_test, y_predicted_counts)\n",
        "print(\"accuracy = %.3f, precision = %.3f, recall = %.3f, f1 = %.3f\" % (accuracy, precision, recall, f1))"
      ],
      "execution_count": 0,
      "outputs": []
    },
    {
      "metadata": {
        "id": "Q69Gs-7Htdos",
        "colab_type": "text"
      },
      "cell_type": "markdown",
      "source": [
        "### Inspection\n",
        "A metric is one thing, but in order to make an actionnable decision, we need to actually inspect the kind of mistakes our classifier is making. Let's start by looking at the confusion matrix."
      ]
    },
    {
      "metadata": {
        "id": "fyazqkrttdot",
        "colab_type": "code",
        "colab": {}
      },
      "cell_type": "code",
      "source": [
        "import numpy as np\n",
        "import itertools\n",
        "from sklearn.metrics import confusion_matrix\n",
        "\n",
        "def plot_confusion_matrix(cm, classes,\n",
        "                          normalize=False,\n",
        "                          title='Confusion matrix',\n",
        "                          cmap=plt.cm.winter):\n",
        "    if normalize:\n",
        "        cm = cm.astype('float') / cm.sum(axis=1)[:, np.newaxis]\n",
        "    plt.imshow(cm, interpolation='nearest', cmap=cmap)\n",
        "    plt.title(title, fontsize=30)\n",
        "    plt.colorbar()\n",
        "    tick_marks = np.arange(len(classes))\n",
        "    plt.xticks(tick_marks, classes, fontsize=20)\n",
        "    plt.yticks(tick_marks, classes, fontsize=20)\n",
        "    \n",
        "    fmt = '.2f' if normalize else 'd'\n",
        "    thresh = cm.max() / 2.\n",
        "\n",
        "    for i, j in itertools.product(range(cm.shape[0]), range(cm.shape[1])):\n",
        "        plt.text(j, i, format(cm[i, j], fmt), horizontalalignment=\"center\", \n",
        "                 color=\"white\" if cm[i, j] < thresh else \"black\", fontsize=40)\n",
        "    \n",
        "    plt.tight_layout()\n",
        "    plt.ylabel('True label', fontsize=30)\n",
        "    plt.xlabel('Predicted label', fontsize=30)\n",
        "\n",
        "    return plt"
      ],
      "execution_count": 0,
      "outputs": []
    },
    {
      "metadata": {
        "id": "ZEuQKz_Otdow",
        "colab_type": "code",
        "colab": {}
      },
      "cell_type": "code",
      "source": [
        "cm = confusion_matrix(y_test, y_predicted_counts)\n",
        "fig = plt.figure(figsize=(10, 10))\n",
        "plot = plot_confusion_matrix(cm, classes=['Irrelevant','Disaster','Unsure'], normalize=False, title='Confusion matrix')\n",
        "plt.show()\n",
        "print(cm)"
      ],
      "execution_count": 0,
      "outputs": []
    },
    {
      "metadata": {
        "id": "zQjCPNYntdoy",
        "colab_type": "text"
      },
      "cell_type": "markdown",
      "source": [
        "Our classifier never predicts class 3, which is not surprising, seeing as it is critically undersampled. This is not very important here, as the label is not very meaningful. Our classifier creates more false negatives than false positives (proportionally). Depending on the use case, this seems desirable (a false positive is quite a high cost for law enforcement for example).\n",
        "\n",
        "### Further inspection\n",
        "Let's look at the features our classifier is using to make decisions."
      ]
    },
    {
      "metadata": {
        "id": "7TUGkomotdoz",
        "colab_type": "code",
        "colab": {}
      },
      "cell_type": "code",
      "source": [
        "def get_most_important_features(vectorizer, model, n=5):\n",
        "    index_to_word = {v:k for k,v in vectorizer.vocabulary_.items()}\n",
        "    \n",
        "    # loop for each class\n",
        "    classes ={}\n",
        "    for class_index in range(model.coef_.shape[0]):\n",
        "        word_importances = [(el, index_to_word[i]) for i,el in enumerate(model.coef_[class_index])]\n",
        "        sorted_coeff = sorted(word_importances, key = lambda x : x[0], reverse=True)\n",
        "        tops = sorted(sorted_coeff[:n], key = lambda x : x[0])\n",
        "        bottom = sorted_coeff[-n:]\n",
        "        classes[class_index] = {\n",
        "            'tops':tops,\n",
        "            'bottom':bottom\n",
        "        }\n",
        "    return classes\n",
        "\n",
        "importance = get_most_important_features(count_vectorizer, clf, 10)"
      ],
      "execution_count": 0,
      "outputs": []
    },
    {
      "metadata": {
        "id": "-oCHu1d-tdo1",
        "colab_type": "code",
        "colab": {}
      },
      "cell_type": "code",
      "source": [
        "def plot_important_words(top_scores, top_words, bottom_scores, bottom_words, name):\n",
        "    y_pos = np.arange(len(top_words))\n",
        "    top_pairs = [(a,b) for a,b in zip(top_words, top_scores)]\n",
        "    top_pairs = sorted(top_pairs, key=lambda x: x[1])\n",
        "    \n",
        "    bottom_pairs = [(a,b) for a,b in zip(bottom_words, bottom_scores)]\n",
        "    bottom_pairs = sorted(bottom_pairs, key=lambda x: x[1], reverse=True)\n",
        "    \n",
        "    top_words = [a[0] for a in top_pairs]\n",
        "    top_scores = [a[1] for a in top_pairs]\n",
        "    \n",
        "    bottom_words = [a[0] for a in bottom_pairs]\n",
        "    bottom_scores = [a[1] for a in bottom_pairs]\n",
        "    \n",
        "    fig = plt.figure(figsize=(10, 10))  \n",
        "\n",
        "    plt.subplot(121)\n",
        "    plt.barh(y_pos,bottom_scores, align='center', alpha=0.5)\n",
        "    plt.title('Irrelevant', fontsize=20)\n",
        "    plt.yticks(y_pos, bottom_words, fontsize=14)\n",
        "    plt.suptitle('Key words', fontsize=16)\n",
        "    plt.xlabel('Importance', fontsize=20)\n",
        "    \n",
        "    plt.subplot(122)\n",
        "    plt.barh(y_pos,top_scores, align='center', alpha=0.5)\n",
        "    plt.title('Disaster', fontsize=20)\n",
        "    plt.yticks(y_pos, top_words, fontsize=14)\n",
        "    plt.suptitle(name, fontsize=16)\n",
        "    plt.xlabel('Importance', fontsize=20)\n",
        "    \n",
        "    plt.subplots_adjust(wspace=0.8)\n",
        "    plt.show()\n",
        "\n",
        "top_scores = [a[0] for a in importance[1]['tops']]\n",
        "top_words = [a[1] for a in importance[1]['tops']]\n",
        "bottom_scores = [a[0] for a in importance[1]['bottom']]\n",
        "bottom_words = [a[1] for a in importance[1]['bottom']]\n",
        "\n",
        "plot_important_words(top_scores, top_words, bottom_scores, bottom_words, \"Most important words for relevance\")"
      ],
      "execution_count": 0,
      "outputs": []
    },
    {
      "metadata": {
        "id": "70SP2cgYtdo2",
        "colab_type": "text"
      },
      "cell_type": "markdown",
      "source": [
        "Our classifier correctly picks up on some patterns (hiroshima, massacre), but clearly seems to be overfitting on some irellevant terms (heyoo, x1392)"
      ]
    },
    {
      "metadata": {
        "id": "8yeVaTfStdo4",
        "colab_type": "text"
      },
      "cell_type": "markdown",
      "source": [
        "### TFIDF Bag of Words\n",
        "Let's try a slightly more subtle approach. On top of our bag of words model, we use a TF-IDF (Term Frequency, Inverse Document Frequency) which means weighing words by how frequent they are in our dataset, discounting words that are too frequent, as they just add to the noise."
      ]
    },
    {
      "metadata": {
        "id": "2jBI2uuTtdo4",
        "colab_type": "code",
        "colab": {}
      },
      "cell_type": "code",
      "source": [
        "def tfidf(data):\n",
        "    tfidf_vectorizer = TfidfVectorizer()\n",
        "\n",
        "    train = tfidf_vectorizer.fit_transform(data)\n",
        "\n",
        "    return train, tfidf_vectorizer\n",
        "\n",
        "X_train_tfidf, tfidf_vectorizer = tfidf(X_train)\n",
        "X_test_tfidf = tfidf_vectorizer.transform(X_test)"
      ],
      "execution_count": 0,
      "outputs": []
    },
    {
      "metadata": {
        "id": "TrOEUg8Xtdo5",
        "colab_type": "code",
        "colab": {}
      },
      "cell_type": "code",
      "source": [
        "fig = plt.figure(figsize=(16, 16))          \n",
        "plot_LSA(X_train_tfidf, y_train)\n",
        "plt.show()"
      ],
      "execution_count": 0,
      "outputs": []
    },
    {
      "metadata": {
        "id": "Ro9Jh5sstdo7",
        "colab_type": "text"
      },
      "cell_type": "markdown",
      "source": [
        "These embeddings look much more separated, let's see if it leads to better performance."
      ]
    },
    {
      "metadata": {
        "id": "IGbDOkdGtdo8",
        "colab_type": "code",
        "colab": {}
      },
      "cell_type": "code",
      "source": [
        "clf_tfidf = LogisticRegression(C=30.0, class_weight='balanced', solver='newton-cg', \n",
        "                         multi_class='multinomial', n_jobs=-1, random_state=40)\n",
        "clf_tfidf.fit(X_train_tfidf, y_train)\n",
        "\n",
        "y_predicted_tfidf = clf_tfidf.predict(X_test_tfidf)"
      ],
      "execution_count": 0,
      "outputs": []
    },
    {
      "metadata": {
        "id": "lOCECyhStdo-",
        "colab_type": "code",
        "colab": {}
      },
      "cell_type": "code",
      "source": [
        "accuracy_tfidf, precision_tfidf, recall_tfidf, f1_tfidf = get_metrics(y_test, y_predicted_tfidf)\n",
        "print(\"accuracy = %.3f, precision = %.3f, recall = %.3f, f1 = %.3f\" % (accuracy_tfidf, precision_tfidf, \n",
        "                                                                       recall_tfidf, f1_tfidf))"
      ],
      "execution_count": 0,
      "outputs": []
    },
    {
      "metadata": {
        "id": "qJp9M-q5tdpA",
        "colab_type": "text"
      },
      "cell_type": "markdown",
      "source": [
        "The results are a little better, let's see if they translate to an actual difference in our use case."
      ]
    },
    {
      "metadata": {
        "id": "aBLgxhRctdpB",
        "colab_type": "code",
        "colab": {}
      },
      "cell_type": "code",
      "source": [
        "cm2 = confusion_matrix(y_test, y_predicted_tfidf)\n",
        "fig = plt.figure(figsize=(10, 10))\n",
        "plot = plot_confusion_matrix(cm2, classes=['Irrelevant','Disaster','Unsure'], normalize=False, title='Confusion matrix')\n",
        "plt.show()\n",
        "print(\"TFIDF confusion matrix\")\n",
        "print(cm2)\n",
        "print(\"BoW confusion matrix\")\n",
        "print(cm)"
      ],
      "execution_count": 0,
      "outputs": []
    },
    {
      "metadata": {
        "id": "x2Fa9FmRtdpE",
        "colab_type": "text"
      },
      "cell_type": "markdown",
      "source": [
        "Our False positives have decreased, as this model is more conservative about choosing the positive class."
      ]
    },
    {
      "metadata": {
        "id": "Ke7mkH-0tdpE",
        "colab_type": "text"
      },
      "cell_type": "markdown",
      "source": [
        "# Looking at important coefficients for linear regression\n",
        "Insert details here"
      ]
    },
    {
      "metadata": {
        "id": "xQzL5UpFtdpF",
        "colab_type": "code",
        "colab": {}
      },
      "cell_type": "code",
      "source": [
        "importance_tfidf = get_most_important_features(tfidf_vectorizer, clf_tfidf, 10)"
      ],
      "execution_count": 0,
      "outputs": []
    },
    {
      "metadata": {
        "id": "uydIUINEtdpH",
        "colab_type": "code",
        "colab": {}
      },
      "cell_type": "code",
      "source": [
        "top_scores = [a[0] for a in importance_tfidf[1]['tops']]\n",
        "top_words = [a[1] for a in importance_tfidf[1]['tops']]\n",
        "bottom_scores = [a[0] for a in importance_tfidf[1]['bottom']]\n",
        "bottom_words = [a[1] for a in importance_tfidf[1]['bottom']]\n",
        "\n",
        "plot_important_words(top_scores, top_words, bottom_scores, bottom_words, \"Most important words for relevance\")"
      ],
      "execution_count": 0,
      "outputs": []
    },
    {
      "metadata": {
        "id": "PyMnEIp8tdpK",
        "colab_type": "text"
      },
      "cell_type": "markdown",
      "source": [
        "The words it picked up look much more relevant! Although our metrics on our held out validation set haven't increased much, we have much more confidence in the terms our model is using, and thus would feel more comfortable deploying it in a system that would interact with customers."
      ]
    },
    {
      "metadata": {
        "id": "Tnuje7fytdpL",
        "colab_type": "text"
      },
      "cell_type": "markdown",
      "source": [
        "### Capturing semantic meaning\n",
        "Our first models have managed to pick up on high signal words. However, it is unlikely that we will have a training set containing all relevant words. To solve this problem, we need to capture the semantic meaning of words. Meaning we need to understand that words like 'good' and 'positive' are closer than apricot and 'continent'.\n",
        "\n",
        "### Enter word2vec\n",
        "Word2vec is a model that was pre-trained on a very large corpus, and provides embeddings that map words that are similar close to each other. A quick way to get a sentence embedding for our classifier, is to average word2vec scores of all words in our sentence."
      ]
    },
    {
      "metadata": {
        "id": "XU_b8zsX2syJ",
        "colab_type": "code",
        "colab": {}
      },
      "cell_type": "code",
      "source": [
        "downloaded = drive.CreateFile({'id': \"0B7XkCwpI5KDYNlNUTTlSS21pQmM\"})\n",
        "downloaded.GetContentFile(\"GoogleNews-vectors-negative300.bin.gz\")"
      ],
      "execution_count": 0,
      "outputs": []
    },
    {
      "metadata": {
        "id": "SZZ3Knp6tdpL",
        "colab_type": "code",
        "colab": {}
      },
      "cell_type": "code",
      "source": [
        "import gensim\n",
        "\n",
        "word2vec_path = \"GoogleNews-vectors-negative300.bin.gz\"\n",
        "word2vec = gensim.models.KeyedVectors.load_word2vec_format(word2vec_path, binary=True)"
      ],
      "execution_count": 0,
      "outputs": []
    },
    {
      "metadata": {
        "id": "6oi7wIO6tdpN",
        "colab_type": "code",
        "colab": {}
      },
      "cell_type": "code",
      "source": [
        "def get_average_word2vec(tokens_list, vector, generate_missing=False, k=300):\n",
        "    if len(tokens_list)<1:\n",
        "        return np.zeros(k)\n",
        "    if generate_missing:\n",
        "        vectorized = [vector[word] if word in vector else np.random.rand(k) for word in tokens_list]\n",
        "    else:\n",
        "        vectorized = [vector[word] if word in vector else np.zeros(k) for word in tokens_list]\n",
        "    length = len(vectorized)\n",
        "    summed = np.sum(vectorized, axis=0)\n",
        "    averaged = np.divide(summed, length)\n",
        "    return averaged\n",
        "\n",
        "def get_word2vec_embeddings(vectors, clean_questions, generate_missing=False):\n",
        "    embeddings = clean_questions['tokens'].apply(lambda x: get_average_word2vec(x, vectors, \n",
        "                                                                                generate_missing=generate_missing))\n",
        "    return list(embeddings)"
      ],
      "execution_count": 0,
      "outputs": []
    },
    {
      "metadata": {
        "id": "7-c5wEkBtdpO",
        "colab_type": "code",
        "colab": {}
      },
      "cell_type": "code",
      "source": [
        "embeddings = get_word2vec_embeddings(word2vec, clean_questions)\n",
        "X_train_word2vec, X_test_word2vec, y_train_word2vec, y_test_word2vec = train_test_split(embeddings, list_labels, \n",
        "                                                                                        test_size=0.2, random_state=40)"
      ],
      "execution_count": 0,
      "outputs": []
    },
    {
      "metadata": {
        "id": "9IioT_KStdpQ",
        "colab_type": "code",
        "colab": {}
      },
      "cell_type": "code",
      "source": [
        "fig = plt.figure(figsize=(16, 16))          \n",
        "plot_LSA(embeddings, list_labels)\n",
        "plt.show()"
      ],
      "execution_count": 0,
      "outputs": []
    },
    {
      "metadata": {
        "id": "pu3kRNAZtdpV",
        "colab_type": "text"
      },
      "cell_type": "markdown",
      "source": [
        "These look much more separated, let's see how our logistic regression does on them!"
      ]
    },
    {
      "metadata": {
        "id": "enJL1iXZtdpV",
        "colab_type": "code",
        "colab": {}
      },
      "cell_type": "code",
      "source": [
        "clf_w2v = LogisticRegression(C=30.0, class_weight='balanced', solver='newton-cg', \n",
        "                         multi_class='multinomial', random_state=40)\n",
        "clf_w2v.fit(X_train_word2vec, y_train_word2vec)\n",
        "y_predicted_word2vec = clf_w2v.predict(X_test_word2vec)"
      ],
      "execution_count": 0,
      "outputs": []
    },
    {
      "metadata": {
        "id": "qCZ_IjdItdpW",
        "colab_type": "code",
        "colab": {}
      },
      "cell_type": "code",
      "source": [
        "accuracy_word2vec, precision_word2vec, recall_word2vec, f1_word2vec = get_metrics(y_test_word2vec, y_predicted_word2vec)\n",
        "print(\"accuracy = %.3f, precision = %.3f, recall = %.3f, f1 = %.3f\" % (accuracy_word2vec, precision_word2vec, \n",
        "                                                                       recall_word2vec, f1_word2vec))"
      ],
      "execution_count": 0,
      "outputs": []
    },
    {
      "metadata": {
        "id": "_hhPB3kgtdpZ",
        "colab_type": "text"
      },
      "cell_type": "markdown",
      "source": [
        "Still getting better, let's plot the confusion matrix"
      ]
    },
    {
      "metadata": {
        "id": "YbFa-QhbtdpZ",
        "colab_type": "code",
        "colab": {}
      },
      "cell_type": "code",
      "source": [
        "cm_w2v = confusion_matrix(y_test_word2vec, y_predicted_word2vec)\n",
        "fig = plt.figure(figsize=(10, 10))\n",
        "plot = plot_confusion_matrix(cm, classes=['Irrelevant','Disaster','Unsure'], normalize=False, title='Confusion matrix')\n",
        "plt.show()\n",
        "print(\"Word2Vec confusion matrix\")\n",
        "print(cm_w2v)\n",
        "print(\"TFIDF confusion matrix\")\n",
        "print(cm2)\n",
        "print(\"BoW confusion matrix\")\n",
        "print(cm)"
      ],
      "execution_count": 0,
      "outputs": []
    },
    {
      "metadata": {
        "id": "Xq8AV32Ftdpg",
        "colab_type": "text"
      },
      "cell_type": "markdown",
      "source": [
        "Our model is strictly better in all regards than the first two models, this is promissing!"
      ]
    },
    {
      "metadata": {
        "id": "bPxGbhodtdph",
        "colab_type": "text"
      },
      "cell_type": "markdown",
      "source": [
        "### Further inspection\n",
        "Since our model does not use a vector with one dimension per word, it gets much harder to directly see which words are most relevant to our classification. In order to provide some explainability, we can leverage a black box explainer such as LIME."
      ]
    },
    {
      "metadata": {
        "id": "X7hSOjyQIRFS",
        "colab_type": "code",
        "colab": {}
      },
      "cell_type": "code",
      "source": [
        "!pip install lime"
      ],
      "execution_count": 0,
      "outputs": []
    },
    {
      "metadata": {
        "id": "zaS3JDLItdph",
        "colab_type": "code",
        "colab": {}
      },
      "cell_type": "code",
      "source": [
        "from lime import lime_text\n",
        "from sklearn.pipeline import make_pipeline\n",
        "from lime.lime_text import LimeTextExplainer\n",
        "\n",
        "X_train_data, X_test_data, y_train_data, y_test_data = train_test_split(list_corpus, list_labels, test_size=0.2, \n",
        "                                                                                random_state=40)\n",
        "vector_store = word2vec\n",
        "def word2vec_pipeline(examples):\n",
        "    global vector_store\n",
        "    tokenizer = RegexpTokenizer(r'\\w+')\n",
        "    tokenized_list = []\n",
        "    for example in examples:\n",
        "        example_tokens = tokenizer.tokenize(example)\n",
        "        vectorized_example = get_average_word2vec(example_tokens, vector_store, generate_missing=False, k=300)\n",
        "        tokenized_list.append(vectorized_example)\n",
        "    return clf_w2v.predict_proba(tokenized_list)\n",
        "\n",
        "c = make_pipeline(count_vectorizer, clf)"
      ],
      "execution_count": 0,
      "outputs": []
    },
    {
      "metadata": {
        "id": "sI_T68HAtdpk",
        "colab_type": "code",
        "colab": {}
      },
      "cell_type": "code",
      "source": [
        "def explain_one_instance(instance, class_names):\n",
        "    explainer = LimeTextExplainer(class_names=class_names)\n",
        "    exp = explainer.explain_instance(instance, word2vec_pipeline, num_features=6)\n",
        "    return exp\n",
        "\n",
        "def visualize_one_exp(features, labels, index, class_names = [\"irrelevant\",\"relevant\", \"unknown\"]):\n",
        "    exp = explain_one_instance(features[index], class_names = class_names)\n",
        "    print('Index: %d' % index)\n",
        "    print('True class: %s' % class_names[labels[index]])\n",
        "    exp.show_in_notebook(text=True)"
      ],
      "execution_count": 0,
      "outputs": []
    },
    {
      "metadata": {
        "id": "e5nbvOhStdpl",
        "colab_type": "code",
        "colab": {}
      },
      "cell_type": "code",
      "source": [
        "visualize_one_exp(X_test_data, y_test_data, 65)"
      ],
      "execution_count": 0,
      "outputs": []
    },
    {
      "metadata": {
        "id": "cs3Kgl_Ptdpo",
        "colab_type": "code",
        "colab": {}
      },
      "cell_type": "code",
      "source": [
        "visualize_one_exp(X_test_data, y_test_data, 60)"
      ],
      "execution_count": 0,
      "outputs": []
    },
    {
      "metadata": {
        "id": "XaaD5PYctdpq",
        "colab_type": "code",
        "colab": {}
      },
      "cell_type": "code",
      "source": [
        "import random\n",
        "from collections import defaultdict\n",
        "\n",
        "random.seed(40)\n",
        "\n",
        "def get_statistical_explanation(test_set, sample_size, word2vec_pipeline, label_dict):\n",
        "    sample_sentences = random.sample(test_set, sample_size)\n",
        "    explainer = LimeTextExplainer()\n",
        "    \n",
        "    labels_to_sentences = defaultdict(list)\n",
        "    contributors = defaultdict(dict)\n",
        "    \n",
        "    # First, find contributing words to each class\n",
        "    for sentence in sample_sentences:\n",
        "        probabilities = word2vec_pipeline([sentence])\n",
        "        curr_label = probabilities[0].argmax()\n",
        "        labels_to_sentences[curr_label].append(sentence)\n",
        "        exp = explainer.explain_instance(sentence, word2vec_pipeline, num_features=6, labels=[curr_label])\n",
        "        listed_explanation = exp.as_list(label=curr_label)\n",
        "        \n",
        "        for word,contributing_weight in listed_explanation:\n",
        "            if word in contributors[curr_label]:\n",
        "                contributors[curr_label][word].append(contributing_weight)\n",
        "            else:\n",
        "                contributors[curr_label][word] = [contributing_weight]    \n",
        "    \n",
        "    # average each word's contribution to a class, and sort them by impact\n",
        "    average_contributions = {}\n",
        "    sorted_contributions = {}\n",
        "    for label,lexica in contributors.items():\n",
        "        curr_label = label\n",
        "        curr_lexica = lexica\n",
        "        average_contributions[curr_label] = pd.Series(index=curr_lexica.keys())\n",
        "        for word,scores in curr_lexica.items():\n",
        "            average_contributions[curr_label].loc[word] = np.sum(np.array(scores))/sample_size\n",
        "        detractors = average_contributions[curr_label].sort_values()\n",
        "        supporters = average_contributions[curr_label].sort_values(ascending=False)\n",
        "        sorted_contributions[label_dict[curr_label]] = {\n",
        "            'detractors':detractors,\n",
        "             'supporters': supporters\n",
        "        }\n",
        "    return sorted_contributions\n",
        "\n",
        "label_to_text = {\n",
        "    0: 'Irrelevant',\n",
        "    1: 'Relevant',\n",
        "    2: 'Unsure'\n",
        "}\n",
        "sorted_contributions = get_statistical_explanation(X_test_data, 100, word2vec_pipeline, label_to_text)"
      ],
      "execution_count": 0,
      "outputs": []
    },
    {
      "metadata": {
        "id": "edOtTJ7Itdps",
        "colab_type": "code",
        "colab": {}
      },
      "cell_type": "code",
      "source": [
        "# First index is the class (Disaster)\n",
        "# Second index is 0 for detractors, 1 for supporters\n",
        "# Third is how many words we sample\n",
        "top_words = sorted_contributions['Relevant']['supporters'][:10].index.tolist()\n",
        "top_scores = sorted_contributions['Relevant']['supporters'][:10].tolist()\n",
        "bottom_words = sorted_contributions['Relevant']['detractors'][:10].index.tolist()\n",
        "bottom_scores = sorted_contributions['Relevant']['detractors'][:10].tolist()\n",
        "\n",
        "plot_important_words(top_scores, top_words, bottom_scores, bottom_words, \"Most important words for relevance\")"
      ],
      "execution_count": 0,
      "outputs": []
    },
    {
      "metadata": {
        "id": "PYRBn2Y3tdpu",
        "colab_type": "text"
      },
      "cell_type": "markdown",
      "source": [
        "Looks like very relevant words are picked up! This model definitely seems to make decisions in a very understandable way."
      ]
    },
    {
      "metadata": {
        "id": "iNSVzXK0tdpv",
        "colab_type": "text"
      },
      "cell_type": "markdown",
      "source": [
        "# Leveraging text structure\n",
        "Our models have been performing better, but they completely ignore the structure. To see whether capturing some more sense of structure would help, we will try a final, more complex model.\n",
        "\n",
        "### CNNs for text classification\n",
        "Here, we will be using a Convolutional Neural Network for sentence classification. While not as popular as RNNs, they have been proven to get competitive results (sometimes beating the best models), and are very fast to train, making them a perfect choice for this tutorial."
      ]
    },
    {
      "metadata": {
        "id": "AJQfAe9xtdpv",
        "colab_type": "text"
      },
      "cell_type": "markdown",
      "source": [
        "First, let's embed our text!"
      ]
    },
    {
      "metadata": {
        "id": "Rr3QdV10tdpv",
        "colab_type": "code",
        "colab": {}
      },
      "cell_type": "code",
      "source": [
        "from keras.preprocessing.text import Tokenizer\n",
        "from keras.preprocessing.sequence import pad_sequences\n",
        "from keras.utils import to_categorical\n",
        "\n",
        "EMBEDDING_DIM = 300\n",
        "MAX_SEQUENCE_LENGTH = 35\n",
        "VOCAB_SIZE = len(VOCAB)\n",
        "\n",
        "VALIDATION_SPLIT=.2\n",
        "tokenizer = Tokenizer(num_words=VOCAB_SIZE)\n",
        "tokenizer.fit_on_texts(clean_questions[\"text\"].tolist())\n",
        "sequences = tokenizer.texts_to_sequences(clean_questions[\"text\"].tolist())\n",
        "\n",
        "word_index = tokenizer.word_index\n",
        "print('Found %s unique tokens.' % len(word_index))\n",
        "\n",
        "cnn_data = pad_sequences(sequences, maxlen=MAX_SEQUENCE_LENGTH)\n",
        "labels = to_categorical(np.asarray(clean_questions[\"class_label\"]))\n",
        "\n",
        "indices = np.arange(cnn_data.shape[0])\n",
        "np.random.shuffle(indices)\n",
        "cnn_data = cnn_data[indices]\n",
        "labels = labels[indices]\n",
        "num_validation_samples = int(VALIDATION_SPLIT * cnn_data.shape[0])\n",
        "\n",
        "embedding_weights = np.zeros((len(word_index)+1, EMBEDDING_DIM))\n",
        "for word,index in word_index.items():\n",
        "    embedding_weights[index,:] = word2vec[word] if word in word2vec else np.random.rand(EMBEDDING_DIM)\n",
        "print(embedding_weights.shape)"
      ],
      "execution_count": 0,
      "outputs": []
    },
    {
      "metadata": {
        "id": "m_5Esscdtdpy",
        "colab_type": "text"
      },
      "cell_type": "markdown",
      "source": [
        "Now, we will define a simple Convolutional Neural Network"
      ]
    },
    {
      "metadata": {
        "id": "uGm_R7FUtdpz",
        "colab_type": "code",
        "colab": {}
      },
      "cell_type": "code",
      "source": [
        "from keras.layers import Dense, Input, Flatten, Dropout, Merge\n",
        "from keras.layers import Conv1D, MaxPooling1D, Embedding\n",
        "from keras.layers import LSTM, Bidirectional\n",
        "from keras.models import Model\n",
        "\n",
        "def ConvNet(embeddings, max_sequence_length, num_words, embedding_dim, labels_index, trainable=False, extra_conv=True):\n",
        "    \n",
        "    embedding_layer = Embedding(num_words,\n",
        "                            embedding_dim,\n",
        "                            weights=[embeddings],\n",
        "                            input_length=max_sequence_length,\n",
        "                            trainable=trainable)\n",
        "\n",
        "    sequence_input = Input(shape=(max_sequence_length,), dtype='int32')\n",
        "    embedded_sequences = embedding_layer(sequence_input)\n",
        "\n",
        "    # Yoon Kim model (https://arxiv.org/abs/1408.5882)\n",
        "    convs = []\n",
        "    filter_sizes = [3,4,5]\n",
        "\n",
        "    for filter_size in filter_sizes:\n",
        "        l_conv = Conv1D(filters=128, kernel_size=filter_size, activation='relu')(embedded_sequences)\n",
        "        l_pool = MaxPooling1D(pool_size=3)(l_conv)\n",
        "        convs.append(l_pool)\n",
        "\n",
        "    l_merge = Merge(mode='concat', concat_axis=1)(convs)\n",
        "\n",
        "    # add a 1D convnet with global maxpooling, instead of Yoon Kim model\n",
        "    conv = Conv1D(filters=128, kernel_size=3, activation='relu')(embedded_sequences)\n",
        "    pool = MaxPooling1D(pool_size=3)(conv)\n",
        "\n",
        "    if extra_conv==True:\n",
        "        x = Dropout(0.5)(l_merge)  \n",
        "    else:\n",
        "        # Original Yoon Kim model\n",
        "        x = Dropout(0.5)(pool)\n",
        "    x = Flatten()(x)\n",
        "    x = Dense(128, activation='relu')(x)\n",
        "    #x = Dropout(0.5)(x)\n",
        "\n",
        "    preds = Dense(labels_index, activation='softmax')(x)\n",
        "\n",
        "    model = Model(sequence_input, preds)\n",
        "    model.compile(loss='categorical_crossentropy',\n",
        "                  optimizer='adam',\n",
        "                  metrics=['acc'])\n",
        "\n",
        "    return model"
      ],
      "execution_count": 0,
      "outputs": []
    },
    {
      "metadata": {
        "id": "wxA2nLEMtdpz",
        "colab_type": "text"
      },
      "cell_type": "markdown",
      "source": [
        "Now let's train our Neural Network"
      ]
    },
    {
      "metadata": {
        "id": "y0MyQD98tdpz",
        "colab_type": "code",
        "colab": {}
      },
      "cell_type": "code",
      "source": [
        "x_train = cnn_data[:-num_validation_samples]\n",
        "y_train = labels[:-num_validation_samples]\n",
        "x_val = cnn_data[-num_validation_samples:]\n",
        "y_val = labels[-num_validation_samples:]\n",
        "\n",
        "model = ConvNet(embedding_weights, MAX_SEQUENCE_LENGTH, len(word_index)+1, EMBEDDING_DIM, \n",
        "                len(list(clean_questions[\"class_label\"].unique())), False)"
      ],
      "execution_count": 0,
      "outputs": []
    },
    {
      "metadata": {
        "id": "RbE5-sA8tdp0",
        "colab_type": "code",
        "colab": {}
      },
      "cell_type": "code",
      "source": [
        "model.fit(x_train, y_train, validation_data=(x_val, y_val), epochs=3, batch_size=128)"
      ],
      "execution_count": 0,
      "outputs": []
    },
    {
      "metadata": {
        "id": "HmgIMguHtdp2",
        "colab_type": "text"
      },
      "cell_type": "markdown",
      "source": [
        "Our best model yet, at least on the surface. Exploring whether it is really performing as expected using the previous method is left to the reader."
      ]
    },
    {
      "metadata": {
        "id": "EWM-vxybtdp-",
        "colab_type": "text"
      },
      "cell_type": "markdown",
      "source": [
        "# Takeaways\n",
        "We now have a solid framework for organizing text data, and training classifiers while efficiently inspecting their results. While we've started to get some interesting results, we are far from having solved NLP!\n",
        "\n",
        "# Thank you!\n",
        "Feel free to follow me on [Twitter](https://twitter.com/EmmanuelAmeisen), and find out more about Insight on [our website](insightdatascience.com) and check out our [blog](blog.insightdatascience.com) for more content like this. "
      ]
    }
  ]
}