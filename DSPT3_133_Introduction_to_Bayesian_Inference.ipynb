{
  "nbformat": 4,
  "nbformat_minor": 0,
  "metadata": {
    "colab": {
      "name": "DSPT3_133_Introduction_to_Bayesian_Inference.ipynb",
      "provenance": [],
      "collapsed_sections": [],
      "include_colab_link": true
    },
    "kernelspec": {
      "name": "python3",
      "display_name": "Python 3"
    }
  },
  "cells": [
    {
      "cell_type": "markdown",
      "metadata": {
        "id": "view-in-github",
        "colab_type": "text"
      },
      "source": [
        "<a href=\"https://colab.research.google.com/github/zacherymoy/DS-Unit-1-Sprint-3-Statistical-Tests-and-Experiments/blob/master/DSPT3_133_Introduction_to_Bayesian_Inference.ipynb\" target=\"_parent\"><img src=\"https://colab.research.google.com/assets/colab-badge.svg\" alt=\"Open In Colab\"/></a>"
      ]
    },
    {
      "cell_type": "markdown",
      "metadata": {
        "id": "H7OLbevlbd_Z",
        "colab_type": "text"
      },
      "source": [
        "# Lambda School Data Science Module 133\n",
        "\n",
        "## Introduction to Bayesian Inference\n",
        "\n",
        "!['Detector! What would the Bayesian statistician say if I asked him whether the--' [roll] 'I AM A NEUTRINO DETECTOR, NOT A LABYRINTH GUARD. SERIOUSLY, DID YOUR BRAIN FALL OUT?' [roll] '... yes.'](https://imgs.xkcd.com/comics/frequentists_vs_bayesians.png)\n",
        "\n",
        "*[XKCD 1132](https://www.xkcd.com/1132/)*\n"
      ]
    },
    {
      "cell_type": "markdown",
      "metadata": {
        "id": "3mz8p08BsN6p",
        "colab_type": "text"
      },
      "source": [
        "## Prepare - Bayes' Theorem and the Bayesian mindset\n",
        "\n",
        "Bayes' theorem possesses a near-mythical quality - a bit of math that somehow magically evaluates a situation. But this mythicalness has more to do with its reputation and advanced applications than the actual core of it - deriving it is actually remarkably straightforward."
      ]
    },
    {
      "cell_type": "markdown",
      "metadata": {
        "id": "Fa-jzYp9i8La",
        "colab_type": "text"
      },
      "source": [
        "### The Law of Total Probability\n",
        "\n",
        "By definition, the total probability of all outcomes (events) if some variable (event space) $A$ is 1. That is:\n",
        "\n",
        "$$P(A) = \\sum_n P(A_n) = 1$$\n",
        "\n",
        "The law of total probability takes this further, considering two variables ($A$ and $B$) and relating their marginal probabilities (their likelihoods considered independently, without reference to one another) and their conditional probabilities (their likelihoods considered jointly). A marginal probability is simply notated as e.g. $P(A)$, while a conditional probability is notated $P(A|B)$, which reads \"probability of $A$ *given* $B$\".\n",
        "\n",
        "The law of total probability states:\n",
        "\n",
        "$$P(A) = \\sum_n P(A | B_n) P(B_n)$$\n",
        "\n",
        "In words - the total probability of $A$ is equal to the sum of the conditional probability of $A$ on any given event $B_n$ times the probability of that event $B_n$, and summed over all possible events in $B$."
      ]
    },
    {
      "cell_type": "markdown",
      "metadata": {
        "id": "GhycNr-Sbeie",
        "colab_type": "text"
      },
      "source": [
        "\n",
        "\n",
        "\n",
        "\n",
        "### The Law of Conditional Probability\n",
        "\n",
        "What's the probability of something conditioned on something else? To determine this we have to go back to set theory and think about the intersection of sets:\n",
        "\n",
        "The formula for actual calculation:\n",
        "\n",
        "$$P(A|B) = \\frac{P(A \\cap B)}{P(B)}$$\n",
        "\n",
        "![Visualization of set intersection](https://upload.wikimedia.org/wikipedia/commons/9/99/Venn0001.svg)\n",
        "\n",
        "Think of the overall rectangle as the whole probability space, $A$ as the left circle, $B$ as the right circle, and their intersection as the red area. Try to visualize the ratio being described in the above formula, and how it is different from just the $P(A)$ (not conditioned on $B$).\n",
        "\n",
        "We can see how this relates back to the law of total probability - multiply both sides by $P(B)$ and you get $P(A|B)P(B) = P(A \\cap B)$ - replaced back into the law of total probability we get $P(A) = \\sum_n P(A \\cap B_n)$.\n",
        "\n",
        "This may not seem like an improvement at first, but try to relate it back to the above picture - if you think of sets as physical objects, we're saying that the total probability of $A$ given $B$ is all the little pieces of it intersected with $B$, added together. The conditional probability is then just that again, but divided by the probability of $B$ itself happening in the first place.\n",
        "\n",
        "\\begin{align}\n",
        "P(A|B) &= \\frac{P(A \\cap B)}{P(B)}\\\\\n",
        "\\Rightarrow P(A|B)P(B) &= P(A \\cap B)\\\\\n",
        "P(B|A) &= \\frac{P(B \\cap A)}{P(A)}\\\\\n",
        "\\Rightarrow P(B|A)P(A) &= P(B \\cap A)\\\\\n",
        "\\Rightarrow P(A|B)P(B) &= P(B|A)P(A) \\\\\n",
        "P(A \\cap B) &= P(B \\cap A)\\\\\n",
        "P(A|B) &= \\frac{P(B|A) \\times P(A)}{P(B)}\n",
        "\\end{align}"
      ]
    },
    {
      "cell_type": "code",
      "metadata": {
        "id": "1YvjhAS6me3U",
        "colab_type": "code",
        "colab": {}
      },
      "source": [
        "#Likelihood: When x is given x. \n",
        "# 1) P(A and B) == P(B and A)\n",
        "# 2) P(A given B) == P(A and B)/P(B) => P(A given B)*P(B) == P(A and B)\n",
        "# 3) P(B given A) == P(B and A)/P(A) => P(B given A)*P(A) == P(B and A)\n",
        "\n",
        "# P(A given B)*P(B) = P(B given A)*P(A)\n",
        "\n",
        "# P(A given B) = P(B given A)*P(A)/P(B)"
      ],
      "execution_count": 0,
      "outputs": []
    },
    {
      "cell_type": "markdown",
      "metadata": {
        "id": "hi45SXVyi_Wt",
        "colab_type": "text"
      },
      "source": [
        "### Bayes Theorem\n",
        "\n",
        "Here is is, the seemingly magic tool:\n",
        "\n",
        "$$P(A|B) = \\frac{P(B|A)P(A)}{P(B)}$$\n",
        "\n",
        "In words - the probability of $A$ conditioned on $B$ is the probability of $B$ conditioned on $A$, times the probability of $A$ and divided by the probability of $B$. These unconditioned probabilities are referred to as \"prior beliefs\", and the conditioned probabilities as \"updated.\"\n",
        "\n",
        "Why is this important? Scroll back up to the XKCD example - the Bayesian statistician draws a less absurd conclusion because their prior belief in the likelihood that the sun will go nova is extremely low. So, even when updated based on evidence from a detector that is $35/36 = 0.972$ accurate, the prior belief doesn't shift enough to change their overall opinion.\n",
        "\n",
        "\n",
        "\n",
        "### A single-run Bayes Theorem application\n",
        "\n",
        "There's many examples of Bayes' theorem - one less absurd example is to apply to [breathalyzer tests](https://www.bayestheorem.net/breathalyzer-example/). You may think that a breathalyzer test that is 100% accurate for true positives (detecting somebody who is drunk) is pretty good, but what if it also has 8% false positives (indicating somebody is drunk when they're not)? And furthermore, the rate of drunk driving (and thus our prior belief)  is 1/1000.\n",
        "\n",
        "What is the likelihood somebody really is drunk if they test positive? Some may guess it's 92% - the difference between the true positives and the false positives. But we have a prior belief of the background/true rate of drunk driving. Sounds like a job for Bayes' theorem!\n",
        "\n",
        "$$\n",
        "\\begin{aligned}\n",
        "P(Drunk | Positive) &= \\frac{P(Positive | Drunk)P(Drunk)}{P(Positive)} \\\\\n",
        "&= \\frac{1 \\times 0.001}{0.08} \\\\\n",
        "&= 0.0125\n",
        "\\end{aligned}\n",
        "$$\n",
        "\n",
        "In other words, the likelihood that somebody is drunk given they tested positive with a breathalyzer in this situation is only 1.25% - probably much lower than you'd guess. This is why, in practice, it's important to have a repeated test to confirm (the probability of two false positives in a row is $0.08 * 0.08 = 0.0064$, much lower), and Bayes' theorem has been relevant in court cases where proper consideration of evidence was important."
      ]
    },
    {
      "cell_type": "markdown",
      "metadata": {
        "id": "kD2rpSjQjW-s",
        "colab_type": "text"
      },
      "source": [
        "### Using Bayes Theorem Iteratively (repeated testing)\n",
        "\n",
        "This example comes from [Wikipedia](https://en.wikipedia.org/wiki/Bayes%27_theorem)\n",
        "\n",
        "Suppose that a test for using a particular drug is 99% sensitive and 99% specific. That is, the test will produce 99% true positive results for drug users and 99% true negative results for non-drug users. Suppose that 0.5% of people are users of the drug. What is the probability that a randomly selected individual with a positive test is a drug user?\n",
        "\n",
        "![](https://wikimedia.org/api/rest_v1/media/math/render/svg/95c6524a3736c43e4bae139713f3df2392e6eda9)\n",
        "\n",
        "Even if an individual tests positive, it is more likely that they do not use the drug than that they do. This is because the number of non-users is large compared to the number of users. The number of false positives outweighs the number of true positives. For example, if 1000 individuals are tested, there are expected to be 995 non-users and 5 users. From the 995 non-users, 0.01 × 995 ≃ 10 false positives are expected. From the 5 users, 0.99 × 5 ≈ 5 true positives are expected. Out of 15 positive results, only 5 are genuine.\n",
        "\n",
        "The importance of specificity in this example can be seen by calculating that even if sensitivity is raised to 100% and specificity remains at 99% then the probability of the person being a drug user only rises from 33.2% to 33.4%, but if the sensitivity is held at 99% and the specificity is increased to 99.5% then the probability of the person being a drug user rises to about 49.9%.\n"
      ]
    },
    {
      "cell_type": "markdown",
      "metadata": {
        "id": "1R0gWO1aUGtq",
        "colab_type": "text"
      },
      "source": [
        "## Example 1"
      ]
    },
    {
      "cell_type": "markdown",
      "metadata": {
        "id": "V0qwN4m_UPAk",
        "colab_type": "text"
      },
      "source": [
        "You are planning a picnic today, but the morning is cloudy\n",
        "\n",
        "Oh no! 50% of all rainy days start off cloudy!\n",
        "But cloudy mornings are common (about 40% of days start cloudy)\n",
        "And this is usually a dry month (only 3 of 30 days tend to be rainy, or 10%)\n",
        "What is the chance of rain during the day?\n",
        "\n",
        "We will use Rain to mean rain during the day, and Cloud to mean cloudy morning.\n",
        "_________________________________\n",
        "\n",
        "The chance of Rain given Cloud is written P(Rain|Cloud)\n",
        "\n",
        "P(Rain) is Probability of Rain = 10%\n",
        "\n",
        "P(Cloud|Rain) is Probability of Cloud, given that Rain happens = 50%\n",
        "\n",
        "P(Cloud) is Probability of Cloud = 40%\n",
        "\n",
        "**Answer should be 12.5% chance of rain. **"
      ]
    },
    {
      "cell_type": "code",
      "metadata": {
        "id": "My5stpCkT2jb",
        "colab_type": "code",
        "colab": {
          "base_uri": "https://localhost:8080/",
          "height": 34
        },
        "outputId": "e06c521d-8d8c-4b81-dc40-859dd87e1cfb"
      },
      "source": [
        "#Bayes Theorem\n",
        "\n",
        "def get_outcomes(sample_space, f_name='', e_name=''):\n",
        "    outcomes = 0\n",
        "    for e_k, e_v in sample_space.items():\n",
        "        if f_name=='' or f_name==e_k:\n",
        "            for se_k, se_v in e_v.items():\n",
        "                if e_name!='' and se_k == e_name:\n",
        "                    outcomes+=se_v\n",
        "                elif e_name=='':\n",
        "                    outcomes+=se_v\n",
        "    return outcomes\n",
        "\n",
        "def p(sample_space, f_name):\n",
        "    return get_outcomes(sample_space, f_name) / get_outcomes(sample_space, '', '')\n",
        "\n",
        "def p_inters(sample_space, f_name, e_name):\n",
        "    return get_outcomes(sample_space, f_name, e_name) / get_outcomes(sample_space, '', '')\n",
        "\n",
        "def p_conditional(sample_space, f_name, e_name):\n",
        "    return p_inters(sample_space, f_name, e_name) / p(sample_space, f_name)\n",
        "\n",
        "def bayes(sample_space, f, given_e):\n",
        "    sum = 0;\n",
        "    for e_k, e_v in sample_space.items():\n",
        "        sum+=p(sample_space, e_k) * p_conditional(sample_space, e_k, given_e)\n",
        "    return p(sample_space, f) * p_conditional(sample_space, f, given_e) / sum\n",
        "\n",
        "#Fill in with information\n",
        "sample_space = {'Rain':{'R':10, 'C':50},\n",
        "                'Cloud':{'R':50, 'C':40},\n",
        "                }\n",
        "\n",
        "#Fill in with information\n",
        "print('Probability of rain:', p(sample_space, 'FR'))"
      ],
      "execution_count": 25,
      "outputs": [
        {
          "output_type": "stream",
          "text": [
            "Probability of rain: 0.0\n"
          ],
          "name": "stdout"
        }
      ]
    },
    {
      "cell_type": "markdown",
      "metadata": {
        "id": "1eWIUvi2T0Kf",
        "colab_type": "text"
      },
      "source": [
        "##Class Example"
      ]
    },
    {
      "cell_type": "code",
      "metadata": {
        "id": "TnoXW1EDSlBi",
        "colab_type": "code",
        "outputId": "905294e9-8703-4203-97bd-64df9b984aab",
        "colab": {
          "base_uri": "https://localhost:8080/",
          "height": 34
        }
      },
      "source": [
        "(0.99*0.005)/(0.99*0.005 + 0.01*0.995)"
      ],
      "execution_count": 2,
      "outputs": [
        {
          "output_type": "execute_result",
          "data": {
            "text/plain": [
              "0.33221476510067116"
            ]
          },
          "metadata": {
            "tags": []
          },
          "execution_count": 2
        }
      ]
    },
    {
      "cell_type": "code",
      "metadata": {
        "id": "093WC90ASzJU",
        "colab_type": "code",
        "outputId": "0351ac3c-4a1d-438f-bff3-4df9d5ade328",
        "colab": {
          "base_uri": "https://localhost:8080/",
          "height": 34
        }
      },
      "source": [
        "(0.99*0.332)/(0.99*0.332 + 0.01*0.995)"
      ],
      "execution_count": 3,
      "outputs": [
        {
          "output_type": "execute_result",
          "data": {
            "text/plain": [
              "0.9706168974987449"
            ]
          },
          "metadata": {
            "tags": []
          },
          "execution_count": 3
        }
      ]
    },
    {
      "cell_type": "code",
      "metadata": {
        "id": "vZfr7rSXDPti",
        "colab_type": "code",
        "outputId": "26fe30ba-e8f5-47ca-918d-0e9ca8638c20",
        "colab": {
          "base_uri": "https://localhost:8080/",
          "height": 34
        }
      },
      "source": [
        "(0.99*0.97)/(0.99*0.97 + 0.01*0.995)"
      ],
      "execution_count": 4,
      "outputs": [
        {
          "output_type": "execute_result",
          "data": {
            "text/plain": [
              "0.9897449111053852"
            ]
          },
          "metadata": {
            "tags": []
          },
          "execution_count": 4
        }
      ]
    },
    {
      "cell_type": "code",
      "metadata": {
        "id": "IZAbe04KTqlk",
        "colab_type": "code",
        "colab": {}
      },
      "source": [
        "def bayes_theorem(prior, false_neg, false_pos, num_iter):\n",
        "  posterior_list = []\n",
        "  for i in range(num_iter):\n",
        "    posterior = 0 # write your code here\n",
        "    posterior_list.append(posterior)\n",
        "  return posterior_list"
      ],
      "execution_count": 0,
      "outputs": []
    },
    {
      "cell_type": "code",
      "metadata": {
        "id": "ygjBpraxWdd2",
        "colab_type": "code",
        "colab": {
          "base_uri": "https://localhost:8080/",
          "height": 102
        },
        "outputId": "390b6abb-e70d-4aed-81da-bbdafe2dfc0c"
      },
      "source": [
        "#Bayes Theorem\n",
        "\n",
        "def get_outcomes(sample_space, f_name='', e_name=''):\n",
        "    outcomes = 0\n",
        "    for e_k, e_v in sample_space.items():\n",
        "        if f_name=='' or f_name==e_k:\n",
        "            for se_k, se_v in e_v.items():\n",
        "                if e_name!='' and se_k == e_name:\n",
        "                    outcomes+=se_v\n",
        "                elif e_name=='':\n",
        "                    outcomes+=se_v\n",
        "    return outcomes\n",
        "\n",
        "def p(sample_space, f_name):\n",
        "    return get_outcomes(sample_space, f_name) / get_outcomes(sample_space, '', '')\n",
        "\n",
        "def p_inters(sample_space, f_name, e_name):\n",
        "    return get_outcomes(sample_space, f_name, e_name) / get_outcomes(sample_space, '', '')\n",
        "\n",
        "def p_conditional(sample_space, f_name, e_name):\n",
        "    return p_inters(sample_space, f_name, e_name) / p(sample_space, f_name)\n",
        "\n",
        "def bayes(sample_space, f, given_e):\n",
        "    sum = 0;\n",
        "    for e_k, e_v in sample_space.items():\n",
        "        sum+=p(sample_space, e_k) * p_conditional(sample_space, e_k, given_e)\n",
        "    return p(sample_space, f) * p_conditional(sample_space, f, given_e) / sum\n",
        "\n",
        "#Fill in with information\n",
        "sample_space = {'UK':{'Boy':10, 'Girl':20},\n",
        "                'FR':{'Boy':10, 'Girl':10},\n",
        "                'CA':{'Boy':10, 'Girl':30}}\n",
        "\n",
        "#Fill in with information\n",
        "print('Probability of being from FR:', p(sample_space, 'FR'))\n",
        "print('Probability to be French Boy:', p_inters(sample_space, 'FR', 'Boy'))\n",
        "print('Probability of being a Boy given a person is from FR:', p_conditional(sample_space, 'FR', 'Boy'))\n",
        "print('Probability to be from France given person is Boy:', bayes(sample_space, 'FR', 'Boy'))\n",
        "\n",
        "# Fill in with information. This is referring to 5th line of output.\n",
        "sample_space = {'Grow' :{'Up':160, 'Down':40},\n",
        "                'Slows':{'Up':30, 'Down':70}}\n",
        "\n",
        "print('Probability economy is growing when stock is Up:', bayes(sample_space, 'Grow', 'Up'))\n",
        "\n"
      ],
      "execution_count": 20,
      "outputs": [
        {
          "output_type": "stream",
          "text": [
            "Probability of being from FR: 0.2222222222222222\n",
            "Probability to be French Boy: 0.1111111111111111\n",
            "Probability of being a Boy given a person is from FR: 0.5\n",
            "Probability to be from France given person is Boy: 0.3333333333333333\n",
            "Probability economy is growing when stock is Up: 0.8421052631578948\n"
          ],
          "name": "stdout"
        }
      ]
    },
    {
      "cell_type": "markdown",
      "metadata": {
        "id": "htI3DGvDsRJF",
        "colab_type": "text"
      },
      "source": [
        "## Live Lecture - Deriving Bayes' Theorem, Calculating Bayesian Confidence"
      ]
    },
    {
      "cell_type": "markdown",
      "metadata": {
        "id": "moIJNQ-nbfe_",
        "colab_type": "text"
      },
      "source": [
        "Notice that $P(A|B)$ appears in the above laws - in Bayesian terms, this is the belief in $A$ updated for the evidence $B$. So all we need to do is solve for this term to derive Bayes' theorem. Let's do it together!"
      ]
    },
    {
      "cell_type": "code",
      "metadata": {
        "id": "ke-5EqJI0Tsn",
        "colab_type": "code",
        "outputId": "96f56900-2659-46fd-d36f-e3246547bf7b",
        "colab": {
          "base_uri": "https://localhost:8080/",
          "height": 102
        }
      },
      "source": [
        "import numpy as np\n",
        "from scipy import stats\n",
        "\n",
        "np.random.seed(seed=42)\n",
        "coinflips = np.random.binomial(n=1, p=0.5, size=100)\n",
        "coinflips"
      ],
      "execution_count": 6,
      "outputs": [
        {
          "output_type": "execute_result",
          "data": {
            "text/plain": [
              "array([0, 1, 1, 1, 0, 0, 0, 1, 1, 1, 0, 1, 1, 0, 0, 0, 0, 1, 0, 0, 1, 0,\n",
              "       0, 0, 0, 1, 0, 1, 1, 0, 1, 0, 0, 1, 1, 1, 0, 0, 1, 0, 0, 0, 0, 1,\n",
              "       0, 1, 0, 1, 1, 0, 1, 1, 1, 1, 1, 1, 0, 0, 0, 0, 0, 0, 1, 0, 0, 1,\n",
              "       0, 1, 0, 1, 1, 0, 0, 1, 1, 1, 1, 0, 0, 0, 1, 1, 0, 0, 0, 0, 1, 1,\n",
              "       1, 0, 0, 1, 1, 1, 1, 0, 1, 0, 0, 0])"
            ]
          },
          "metadata": {
            "tags": []
          },
          "execution_count": 6
        }
      ]
    },
    {
      "cell_type": "code",
      "metadata": {
        "id": "MmijfSivUXHk",
        "colab_type": "code",
        "colab": {}
      },
      "source": [
        "def confidence_interval(data, alpha=.9):\n",
        "  n = len(data)\n",
        "  mean = sum(data)/n\n",
        "  data = np.array(data)\n",
        "  stderr = stats.sem(data)\n",
        "  t = stats.t.ppf((1 + alpha) / 2.0, n-1)\n",
        "  interval = stderr * t\n",
        "  return (mean , mean-interval, mean+interval)"
      ],
      "execution_count": 0,
      "outputs": []
    },
    {
      "cell_type": "code",
      "metadata": {
        "id": "xlL19188pZeA",
        "colab_type": "code",
        "outputId": "241633b1-3fb6-4866-f2dc-9fb42182c85a",
        "colab": {
          "base_uri": "https://localhost:8080/",
          "height": 34
        }
      },
      "source": [
        "confidence_interval(coinflips, alpha=0.9)"
      ],
      "execution_count": 8,
      "outputs": [
        {
          "output_type": "execute_result",
          "data": {
            "text/plain": [
              "(0.47, 0.3867125284491557, 0.5532874715508442)"
            ]
          },
          "metadata": {
            "tags": []
          },
          "execution_count": 8
        }
      ]
    },
    {
      "cell_type": "code",
      "metadata": {
        "id": "vn4iJgRJy5zv",
        "colab_type": "code",
        "colab": {}
      },
      "source": [
        "mean_conf_inter,_,_ = stats.bayes_mvs(coinflips, alpha=0.9)"
      ],
      "execution_count": 0,
      "outputs": []
    },
    {
      "cell_type": "code",
      "metadata": {
        "id": "Yx3zjeuJSlnl",
        "colab_type": "code",
        "outputId": "01db9a3e-3954-44a6-b7b3-17dfb465cf26",
        "colab": {
          "base_uri": "https://localhost:8080/",
          "height": 34
        }
      },
      "source": [
        "mean_conf_inter"
      ],
      "execution_count": 13,
      "outputs": [
        {
          "output_type": "execute_result",
          "data": {
            "text/plain": [
              "Mean(statistic=0.47, minmax=(0.38671252844915566, 0.5532874715508442))"
            ]
          },
          "metadata": {
            "tags": []
          },
          "execution_count": 13
        }
      ]
    },
    {
      "cell_type": "markdown",
      "metadata": {
        "id": "tTXe1h-nTMdj",
        "colab_type": "text"
      },
      "source": [
        "\n",
        "##Assignment - Code it up!\n",
        "\n",
        "Most of the above was pure math - now write Python code to reproduce the results! This is purposefully open ended - you'll have to think about how you should represent probabilities and events. You can and should look things up, and as a stretch goal - refactor your code into helpful reusable functions!\n",
        "\n",
        "\n",
        "##Specific goals/targets:\n",
        "\n",
        "Write a function def prob_drunk_given_positive(prob_drunk_prior, prob_positive, prob_positive_drunk) that reproduces the example from lecture, and use it to calculate and visualize a range of situations\n",
        "Explore scipy.stats.bayes_mvs - read its documentation, and experiment with it on data you've tested in other ways earlier this week\n",
        "Create a visualization comparing the results of a Bayesian approach to a traditional/frequentist approach\n",
        "In your own words, summarize the difference between Bayesian and Frequentist statistics\n",
        "If you're unsure where to start, check out this blog post of Bayes theorem with Python - you could and should create something similar!\n",
        "\n",
        "\n",
        "##Stretch goals:\n",
        "\n",
        "Apply a Bayesian technique to a problem you previously worked (in an assignment or project work) on from a frequentist (standard) perspective\n",
        "Check out PyMC3 (note this goes beyond hypothesis tests into modeling) - read the guides and work through some examples\n",
        "Take PyMC3 further - see if you can build something with it!"
      ]
    },
    {
      "cell_type": "code",
      "metadata": {
        "id": "DW4-4ZZsTQ6N",
        "colab_type": "code",
        "colab": {}
      },
      "source": [
        ""
      ],
      "execution_count": 0,
      "outputs": []
    },
    {
      "cell_type": "markdown",
      "metadata": {
        "id": "uWgWjp3PQ3Sq",
        "colab_type": "text"
      },
      "source": [
        "## Resources"
      ]
    },
    {
      "cell_type": "markdown",
      "metadata": {
        "id": "QRgHqmYIQ9qn",
        "colab_type": "text"
      },
      "source": [
        "- [Worked example of Bayes rule calculation](https://en.wikipedia.org/wiki/Bayes'_theorem#Examples) (helpful as it fully breaks out the denominator)\n",
        "- [Source code for mvsdist in scipy](https://github.com/scipy/scipy/blob/90534919e139d2a81c24bf08341734ff41a3db12/scipy/stats/morestats.py#L139)"
      ]
    }
  ]
}