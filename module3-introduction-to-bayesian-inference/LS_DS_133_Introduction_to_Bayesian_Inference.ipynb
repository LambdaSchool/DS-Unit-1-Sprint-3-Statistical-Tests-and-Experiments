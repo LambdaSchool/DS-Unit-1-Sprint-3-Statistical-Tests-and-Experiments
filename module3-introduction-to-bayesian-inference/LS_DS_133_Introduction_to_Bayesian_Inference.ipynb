{
  "nbformat": 4,
  "nbformat_minor": 0,
  "metadata": {
    "colab": {
      "name": "LS_DS_143_Introduction_to_Bayesian_Inference.ipynb",
      "version": "0.3.2",
      "provenance": []
    },
    "kernelspec": {
      "name": "python3",
      "display_name": "Python 3"
    }
  },
  "cells": [
    {
      "cell_type": "markdown",
      "metadata": {
        "id": "H7OLbevlbd_Z",
        "colab_type": "text"
      },
      "source": [
        "# Lambda School Data Science Module 143\n",
        "\n",
        "## Introduction to Bayesian Inference\n",
        "\n",
        "!['Detector! What would the Bayesian statistician say if I asked him whether the--' [roll] 'I AM A NEUTRINO DETECTOR, NOT A LABYRINTH GUARD. SERIOUSLY, DID YOUR BRAIN FALL OUT?' [roll] '... yes.'](https://imgs.xkcd.com/comics/frequentists_vs_bayesians.png)\n",
        "\n",
        "*[XKCD 1132](https://www.xkcd.com/1132/)*\n"
      ]
    },
    {
      "cell_type": "markdown",
      "metadata": {
        "id": "3mz8p08BsN6p",
        "colab_type": "text"
      },
      "source": [
        "## Prepare - Bayes' Theorem and the Bayesian mindset"
      ]
    },
    {
      "cell_type": "markdown",
      "metadata": {
        "id": "GhycNr-Sbeie",
        "colab_type": "text"
      },
      "source": [
        "Bayes' theorem possesses a near-mythical quality - a bit of math that somehow magically evaluates a situation. But this mythicalness has more to do with its reputation and advanced applications than the actual core of it - deriving it is actually remarkably straightforward.\n",
        "\n",
        "### The Law of Total Probability\n",
        "\n",
        "By definition, the total probability of all outcomes (events) if some variable (event space) $A$ is 1. That is:\n",
        "\n",
        "$$P(A) = \\sum_n P(A_n) = 1$$\n",
        "\n",
        "The law of total probability takes this further, considering two variables ($A$ and $B$) and relating their marginal probabilities (their likelihoods considered independently, without reference to one another) and their conditional probabilities (their likelihoods considered jointly). A marginal probability is simply notated as e.g. $P(A)$, while a conditional probability is notated $P(A|B)$, which reads \"probability of $A$ *given* $B$\".\n",
        "\n",
        "The law of total probability states:\n",
        "\n",
        "$$P(A) = \\sum_n P(A | B_n) P(B_n)$$\n",
        "\n",
        "In words - the total probability of $A$ is equal to the sum of the conditional probability of $A$ on any given event $B_n$ times the probability of that event $B_n$, and summed over all possible events in $B$.\n",
        "\n",
        "### The Law of Conditional Probability\n",
        "\n",
        "What's the probability of something conditioned on something else? To determine this we have to go back to set theory and think about the intersection of sets:\n",
        "\n",
        "The formula for actual calculation:\n",
        "\n",
        "$$P(A|B) = \\frac{P(A \\cap B)}{P(B)}$$\n",
        "\n",
        "![Visualization of set intersection](https://upload.wikimedia.org/wikipedia/commons/9/99/Venn0001.svg)\n",
        "\n",
        "Think of the overall rectangle as the whole probability space, $A$ as the left circle, $B$ as the right circle, and their intersection as the red area. Try to visualize the ratio being described in the above formula, and how it is different from just the $P(A)$ (not conditioned on $B$).\n",
        "\n",
        "We can see how this relates back to the law of total probability - multiply both sides by $P(B)$ and you get $P(A|B)P(B) = P(A \\cap B)$ - replaced back into the law of total probability we get $P(A) = \\sum_n P(A \\cap B_n)$.\n",
        "\n",
        "This may not seem like an improvement at first, but try to relate it back to the above picture - if you think of sets as physical objects, we're saying that the total probability of $A$ given $B$ is all the little pieces of it intersected with $B$, added together. The conditional probability is then just that again, but divided by the probability of $B$ itself happening in the first place.\n",
        "\n",
        "### Bayes Theorem\n",
        "\n",
        "Here is is, the seemingly magic tool:\n",
        "\n",
        "$$P(A|B) = \\frac{P(B|A)P(A)}{P(B)}$$\n",
        "\n",
        "In words - the probability of $A$ conditioned on $B$ is the probability of $B$ conditioned on $A$, times the probability of $A$ and divided by the probability of $B$. These unconditioned probabilities are referred to as \"prior beliefs\", and the conditioned probabilities as \"updated.\"\n",
        "\n",
        "Why is this important? Scroll back up to the XKCD example - the Bayesian statistician draws a less absurd conclusion because their prior belief in the likelihood that the sun will go nova is extremely low. So, even when updated based on evidence from a detector that is $35/36 = 0.972$ accurate, the prior belief doesn't shift enough to change their overall opinion.\n",
        "\n",
        "There's many examples of Bayes' theorem - one less absurd example is to apply to [breathalyzer tests](https://www.bayestheorem.net/breathalyzer-example/). You may think that a breathalyzer test that is 100% accurate for true positives (detecting somebody who is drunk) is pretty good, but what if it also has 8% false positives (indicating somebody is drunk when they're not)? And furthermore, the rate of drunk driving (and thus our prior belief)  is 1/1000.\n",
        "\n",
        "What is the likelihood somebody really is drunk if they test positive? Some may guess it's 92% - the difference between the true positives and the false positives. But we have a prior belief of the background/true rate of drunk driving. Sounds like a job for Bayes' theorem!\n",
        "\n",
        "$$\n",
        "\\begin{aligned}\n",
        "P(Drunk | Positive) &= \\frac{P(Positive | Drunk)P(Drunk)}{P(Positive)} \\\\\n",
        "&= \\frac{1 \\times 0.001}{0.08} \\\\\n",
        "&= 0.0125\n",
        "\\end{aligned}\n",
        "$$\n",
        "\n",
        "In other words, the likelihood that somebody is drunk given they tested positive with a breathalyzer in this situation is only 1.25% - probably much lower than you'd guess. This is why, in practice, it's important to have a repeated test to confirm (the probability of two false positives in a row is $0.08 * 0.08 = 0.0064$, much lower), and Bayes' theorem has been relevant in court cases where proper consideration of evidence was important."
      ]
    },
    {
      "cell_type": "markdown",
      "metadata": {
        "id": "htI3DGvDsRJF",
        "colab_type": "text"
      },
      "source": [
        "## Live Lecture - Deriving Bayes' Theorem, Calculating Bayesian Confidence"
      ]
    },
    {
      "cell_type": "markdown",
      "metadata": {
        "id": "moIJNQ-nbfe_",
        "colab_type": "text"
      },
      "source": [
        "Notice that $P(A|B)$ appears in the above laws - in Bayesian terms, this is the belief in $A$ updated for the evidence $B$. So all we need to do is solve for this term to derive Bayes' theorem. Let's do it together!"
      ]
    },
    {
      "cell_type": "code",
      "metadata": {
        "id": "ke-5EqJI0Tsn",
        "colab_type": "code",
        "colab": {}
      },
      "source": [
        "# Activity 2 - Use SciPy to calculate Bayesian confidence intervals\n",
        "# https://docs.scipy.org/doc/scipy/reference/generated/scipy.stats.bayes_mvs.html#scipy.stats.bayes_mvs"
      ],
      "execution_count": 0,
      "outputs": []
    },
    {
      "cell_type": "code",
      "metadata": {
        "id": "V-oLqMNbAWVj",
        "colab_type": "code",
        "colab": {}
      },
      "source": [
        "from scipy import stats\n",
        "import numpy as np\n",
        "np.random.seed(seed = 10)\n",
        "\n",
        "coinflips = np.random.binomial(n=1, p=0.5, size=100)"
      ],
      "execution_count": 0,
      "outputs": []
    },
    {
      "cell_type": "code",
      "metadata": {
        "id": "Qm-PETwyA0j5",
        "colab_type": "code",
        "outputId": "0c196ddc-de35-4c1e-bd90-d17ba331b560",
        "colab": {
          "base_uri": "https://localhost:8080/",
          "height": 111
        }
      },
      "source": [
        "coinflips"
      ],
      "execution_count": 4,
      "outputs": [
        {
          "output_type": "execute_result",
          "data": {
            "text/plain": [
              "array([1, 0, 1, 1, 0, 0, 0, 1, 0, 0, 1, 1, 0, 1, 1, 1, 1, 0, 1, 1, 1, 0,\n",
              "       0, 1, 0, 0, 1, 1, 1, 1, 1, 1, 1, 0, 0, 0, 0, 1, 0, 1, 1, 1, 0, 1,\n",
              "       0, 1, 0, 1, 0, 0, 0, 0, 1, 0, 0, 1, 1, 0, 1, 0, 1, 1, 1, 1, 0, 0,\n",
              "       0, 0, 0, 1, 0, 0, 0, 1, 0, 0, 1, 1, 1, 0, 1, 1, 1, 0, 0, 0, 0, 0,\n",
              "       1, 1, 0, 0, 0, 1, 0, 0, 1, 0, 0, 1])"
            ]
          },
          "metadata": {
            "tags": []
          },
          "execution_count": 4
        }
      ]
    },
    {
      "cell_type": "code",
      "metadata": {
        "id": "E7DBbBHOA1w2",
        "colab_type": "code",
        "colab": {}
      },
      "source": [
        "def confidence_interval(data, confidence=0.95):\n",
        "  n = len(data)\n",
        "  mean = sum(data)/n\n",
        "  data = np.array(data)\n",
        "  stderr = stats.sem(data)\n",
        "  interval = stderr* stats.t.ppf(((1+confidence)/2),n-1)\n",
        "  return(mean, mean-interval,mean+interval)"
      ],
      "execution_count": 0,
      "outputs": []
    },
    {
      "cell_type": "code",
      "metadata": {
        "id": "4GpgLKBpB8qC",
        "colab_type": "code",
        "outputId": "bae1a78f-5e83-4c8a-cec5-bb39c9bff240",
        "colab": {
          "base_uri": "https://localhost:8080/",
          "height": 36
        }
      },
      "source": [
        "confidence_interval(coinflips)"
      ],
      "execution_count": 6,
      "outputs": [
        {
          "output_type": "execute_result",
          "data": {
            "text/plain": [
              "(0.49, 0.3903092906280824, 0.5896907093719176)"
            ]
          },
          "metadata": {
            "tags": []
          },
          "execution_count": 6
        }
      ]
    },
    {
      "cell_type": "code",
      "metadata": {
        "id": "fXiMGqHFCY5e",
        "colab_type": "code",
        "outputId": "194cfb8c-030d-4d90-d6e8-9c464e7261b5",
        "colab": {
          "base_uri": "https://localhost:8080/",
          "height": 36
        }
      },
      "source": [
        "bayes_mean, bayes_var, bayes_std = stats.bayes_mvs(coinflips, alpha=0.95)\n",
        "bayes_mean"
      ],
      "execution_count": 7,
      "outputs": [
        {
          "output_type": "execute_result",
          "data": {
            "text/plain": [
              "Mean(statistic=0.49, minmax=(0.3903092906280824, 0.5896907093719176))"
            ]
          },
          "metadata": {
            "tags": []
          },
          "execution_count": 7
        }
      ]
    },
    {
      "cell_type": "code",
      "metadata": {
        "id": "4h58pFwNDRhP",
        "colab_type": "code",
        "colab": {}
      },
      "source": [
        "# Bayesian Modeling with PyMC3\n",
        "\n",
        "import pandas as pd\n",
        "import matplotlib.pyplot as plt\n",
        "%matplotlib inline\n",
        "\n",
        "import seaborn as sns\n",
        "plt.style.use('fivethirtyeight')\n",
        "\n",
        "import pymc3 as pm"
      ],
      "execution_count": 0,
      "outputs": []
    },
    {
      "cell_type": "code",
      "metadata": {
        "id": "0-bjYhtPFPuq",
        "colab_type": "code",
        "colab": {}
      },
      "source": [
        "def display_probs(d):\n",
        "  for key, value in d.items():\n",
        "    print(f'Species: {key:8} Prevalence: {100*value:.2f}%.')"
      ],
      "execution_count": 0,
      "outputs": []
    },
    {
      "cell_type": "code",
      "metadata": {
        "id": "0INzgJEQFofa",
        "colab_type": "code",
        "outputId": "14f1f5eb-9f24-4ce1-f1e7-f270e5e5224e",
        "colab": {
          "base_uri": "https://localhost:8080/",
          "height": 73
        }
      },
      "source": [
        "# observations\n",
        "animals = ['lions','tigers','bears']\n",
        "c = np.array([3,2,1])\n",
        "\n",
        "# hyperparameters\n",
        "alpha = np.array([1,1,1])\n",
        "expected = (alpha+c)/(c.sum()+alpha.sum())\n",
        "\n",
        "display_probs(dict(zip(animals,expected)))"
      ],
      "execution_count": 10,
      "outputs": [
        {
          "output_type": "stream",
          "text": [
            "Species: lions    Prevalence: 44.44%.\n",
            "Species: tigers   Prevalence: 33.33%.\n",
            "Species: bears    Prevalence: 22.22%.\n"
          ],
          "name": "stdout"
        }
      ]
    },
    {
      "cell_type": "code",
      "metadata": {
        "id": "C5pCElv9Gum5",
        "colab_type": "code",
        "outputId": "8afabac1-d6a9-4308-b871-895b88411e5c",
        "colab": {
          "base_uri": "https://localhost:8080/",
          "height": 175
        }
      },
      "source": [
        "alpha_list = [np.array([0.1, 0.1, 0.1]), \n",
        "              np.array([1, 1, 1]),\n",
        "              np.array([5, 5, 5]), \n",
        "              np.array([15, 15, 15])]\n",
        "\n",
        "values = []\n",
        "for alpha_new in alpha_list:\n",
        "    values.append((alpha_new + c) / (c.sum() + alpha_new.sum()))\n",
        "\n",
        "value_df = pd.DataFrame(values, columns = animals)\n",
        "value_df['alphas'] = [str(x) for x in alpha_list]\n",
        "value_df"
      ],
      "execution_count": 11,
      "outputs": [
        {
          "output_type": "execute_result",
          "data": {
            "text/html": [
              "<div>\n",
              "<style scoped>\n",
              "    .dataframe tbody tr th:only-of-type {\n",
              "        vertical-align: middle;\n",
              "    }\n",
              "\n",
              "    .dataframe tbody tr th {\n",
              "        vertical-align: top;\n",
              "    }\n",
              "\n",
              "    .dataframe thead th {\n",
              "        text-align: right;\n",
              "    }\n",
              "</style>\n",
              "<table border=\"1\" class=\"dataframe\">\n",
              "  <thead>\n",
              "    <tr style=\"text-align: right;\">\n",
              "      <th></th>\n",
              "      <th>lions</th>\n",
              "      <th>tigers</th>\n",
              "      <th>bears</th>\n",
              "      <th>alphas</th>\n",
              "    </tr>\n",
              "  </thead>\n",
              "  <tbody>\n",
              "    <tr>\n",
              "      <th>0</th>\n",
              "      <td>0.492063</td>\n",
              "      <td>0.333333</td>\n",
              "      <td>0.174603</td>\n",
              "      <td>[0.1 0.1 0.1]</td>\n",
              "    </tr>\n",
              "    <tr>\n",
              "      <th>1</th>\n",
              "      <td>0.444444</td>\n",
              "      <td>0.333333</td>\n",
              "      <td>0.222222</td>\n",
              "      <td>[1 1 1]</td>\n",
              "    </tr>\n",
              "    <tr>\n",
              "      <th>2</th>\n",
              "      <td>0.380952</td>\n",
              "      <td>0.333333</td>\n",
              "      <td>0.285714</td>\n",
              "      <td>[5 5 5]</td>\n",
              "    </tr>\n",
              "    <tr>\n",
              "      <th>3</th>\n",
              "      <td>0.352941</td>\n",
              "      <td>0.333333</td>\n",
              "      <td>0.313725</td>\n",
              "      <td>[15 15 15]</td>\n",
              "    </tr>\n",
              "  </tbody>\n",
              "</table>\n",
              "</div>"
            ],
            "text/plain": [
              "      lions    tigers     bears         alphas\n",
              "0  0.492063  0.333333  0.174603  [0.1 0.1 0.1]\n",
              "1  0.444444  0.333333  0.222222        [1 1 1]\n",
              "2  0.380952  0.333333  0.285714        [5 5 5]\n",
              "3  0.352941  0.333333  0.313725     [15 15 15]"
            ]
          },
          "metadata": {
            "tags": []
          },
          "execution_count": 11
        }
      ]
    },
    {
      "cell_type": "code",
      "metadata": {
        "id": "z0kbsvNfO07B",
        "colab_type": "code",
        "outputId": "ded7bb46-ea3e-49af-8b98-1118a966e127",
        "colab": {
          "base_uri": "https://localhost:8080/",
          "height": 441
        }
      },
      "source": [
        "melted = pd.melt(value_df, id_vars = 'alphas', value_name='prevalence', var_name = 'species')\n",
        "\n",
        "plt.figure(figsize = (8, 6))\n",
        "sns.barplot(x = 'alphas', y = 'prevalence', hue = 'species', data = melted, edgecolor = 'k', linewidth = 1.5)\n",
        "plt.xticks(size = 14)\n",
        "plt.yticks(size = 14)\n",
        "plt.title('Expected Value');"
      ],
      "execution_count": 12,
      "outputs": [
        {
          "output_type": "display_data",
          "data": {
            "image/png": "[encoded data removed]",
            "text/plain": [
              "<Figure size 576x432 with 1 Axes>"
            ]
          },
          "metadata": {
            "tags": []
          }
        }
      ]
    },
    {
      "cell_type": "code",
      "metadata": {
        "id": "_RsGQGA9O5y0",
        "colab_type": "code",
        "outputId": "4f669566-fd86-49f3-900d-e58770103246",
        "colab": {
          "base_uri": "https://localhost:8080/",
          "height": 34
        }
      },
      "source": [
        "with pm.Model() as model:\n",
        "    # Parameters of the Multinomial are from a Dirichlet\n",
        "    parameters = pm.Dirichlet('parameters', a=alpha, shape=3)\n",
        "    \n",
        "    # Observed data is from a Multinomial distribution\n",
        "    observed_data = pm.Multinomial(\n",
        "        'observed_data', n=6, p=parameters, shape=3, observed=c)\n",
        "    \n",
        "model"
      ],
      "execution_count": 13,
      "outputs": [
        {
          "output_type": "execute_result",
          "data": {
            "text/latex": "$$\n            \\begin{array}{rcl}\n            parameters &\\sim & \\text{Dirichlet}(\\mathit{a}=array)\\\\observed_data &\\sim & \\text{Multinomial}(\\mathit{n}=6, \\mathit{p}=f(\\text{parameters},~f(f(\\text{parameters}))))\n            \\end{array}\n            $$",
            "text/plain": [
              "<pymc3.model.Model at 0x7fd0b11706d8>"
            ]
          },
          "metadata": {
            "tags": []
          },
          "execution_count": 13
        }
      ]
    },
    {
      "cell_type": "code",
      "metadata": {
        "id": "tVlfo-vWO51B",
        "colab_type": "code",
        "outputId": "a6332f9e-c8f5-4f99-c7c6-84875ea72985",
        "colab": {
          "base_uri": "https://localhost:8080/",
          "height": 130
        }
      },
      "source": [
        "with model:\n",
        "    # Sample from the posterior\n",
        "    trace = pm.sample(draws=1000, chains=2, tune=500, discard_tuned_samples=True)"
      ],
      "execution_count": 14,
      "outputs": [
        {
          "output_type": "stream",
          "text": [
            "Auto-assigning NUTS sampler...\n",
            "Initializing NUTS using jitter+adapt_diag...\n",
            "Sequential sampling (2 chains in 1 job)\n",
            "NUTS: [parameters]\n",
            "100%|██████████| 1500/1500 [00:03<00:00, 393.33it/s]\n",
            "100%|██████████| 1500/1500 [00:01<00:00, 1158.27it/s]\n"
          ],
          "name": "stderr"
        }
      ]
    },
    {
      "cell_type": "code",
      "metadata": {
        "id": "jalLxBsLO5u1",
        "colab_type": "code",
        "outputId": "8d63cc6c-a076-47f2-9d74-71e136c1322b",
        "colab": {
          "base_uri": "https://localhost:8080/",
          "height": 143
        }
      },
      "source": [
        "summary = pm.summary(trace)\n",
        "summary.index = animals\n",
        "summary"
      ],
      "execution_count": 15,
      "outputs": [
        {
          "output_type": "execute_result",
          "data": {
            "text/html": [
              "<div>\n",
              "<style scoped>\n",
              "    .dataframe tbody tr th:only-of-type {\n",
              "        vertical-align: middle;\n",
              "    }\n",
              "\n",
              "    .dataframe tbody tr th {\n",
              "        vertical-align: top;\n",
              "    }\n",
              "\n",
              "    .dataframe thead th {\n",
              "        text-align: right;\n",
              "    }\n",
              "</style>\n",
              "<table border=\"1\" class=\"dataframe\">\n",
              "  <thead>\n",
              "    <tr style=\"text-align: right;\">\n",
              "      <th></th>\n",
              "      <th>mean</th>\n",
              "      <th>sd</th>\n",
              "      <th>mc_error</th>\n",
              "      <th>hpd_2.5</th>\n",
              "      <th>hpd_97.5</th>\n",
              "      <th>n_eff</th>\n",
              "      <th>Rhat</th>\n",
              "    </tr>\n",
              "  </thead>\n",
              "  <tbody>\n",
              "    <tr>\n",
              "      <th>lions</th>\n",
              "      <td>0.436468</td>\n",
              "      <td>0.155406</td>\n",
              "      <td>0.003283</td>\n",
              "      <td>0.150873</td>\n",
              "      <td>0.739326</td>\n",
              "      <td>1968.644078</td>\n",
              "      <td>1.000094</td>\n",
              "    </tr>\n",
              "    <tr>\n",
              "      <th>tigers</th>\n",
              "      <td>0.342091</td>\n",
              "      <td>0.151108</td>\n",
              "      <td>0.003412</td>\n",
              "      <td>0.067784</td>\n",
              "      <td>0.634911</td>\n",
              "      <td>2010.199052</td>\n",
              "      <td>1.000834</td>\n",
              "    </tr>\n",
              "    <tr>\n",
              "      <th>bears</th>\n",
              "      <td>0.221441</td>\n",
              "      <td>0.132876</td>\n",
              "      <td>0.002982</td>\n",
              "      <td>0.006206</td>\n",
              "      <td>0.469680</td>\n",
              "      <td>1558.516933</td>\n",
              "      <td>0.999670</td>\n",
              "    </tr>\n",
              "  </tbody>\n",
              "</table>\n",
              "</div>"
            ],
            "text/plain": [
              "            mean        sd  mc_error   hpd_2.5  hpd_97.5        n_eff      Rhat\n",
              "lions   0.436468  0.155406  0.003283  0.150873  0.739326  1968.644078  1.000094\n",
              "tigers  0.342091  0.151108  0.003412  0.067784  0.634911  2010.199052  1.000834\n",
              "bears   0.221441  0.132876  0.002982  0.006206  0.469680  1558.516933  0.999670"
            ]
          },
          "metadata": {
            "tags": []
          },
          "execution_count": 15
        }
      ]
    },
    {
      "cell_type": "markdown",
      "metadata": {
        "id": "P-DzzRk5bf0z",
        "colab_type": "text"
      },
      "source": [
        "## Assignment - Code it up!\n",
        "\n",
        "Most of the above was pure math - now write Python code to reproduce the results! This is purposefully open ended - you'll have to think about how you should represent probabilities and events. You can and should look things up, and as a stretch goal - refactor your code into helpful reusable functions!\n",
        "\n",
        "Specific goals/targets:\n",
        "\n",
        "1. Write a function `def prob_drunk_given_positive(prob_drunk_prior, prob_positive, prob_positive_drunk)` that reproduces the example from lecture, and use it to calculate and visualize a range of situations\n",
        "2. Explore `scipy.stats.bayes_mvs` - read its documentation, and experiment with it on data you've tested in other ways earlier this week\n",
        "3. Create a visualization comparing the results of a Bayesian approach to a traditional/frequentist approach\n",
        "4. In your own words, summarize the difference between Bayesian and Frequentist statistics\n",
        "\n",
        "If you're unsure where to start, check out [this blog post of Bayes theorem with Python](https://dataconomy.com/2015/02/introduction-to-bayes-theorem-with-python/) - you could and should create something similar!\n",
        "\n",
        "Stretch goals:\n",
        "\n",
        "- Apply a Bayesian technique to a problem you previously worked (in an assignment or project work) on from a frequentist (standard) perspective\n",
        "- Check out [PyMC3](https://docs.pymc.io/) (note this goes beyond hypothesis tests into modeling) - read the guides and work through some examples\n",
        "- Take PyMC3 further - see if you can build something with it!"
      ]
    },
    {
      "cell_type": "code",
      "metadata": {
        "id": "nMFpgPWmhCet",
        "colab_type": "code",
        "colab": {}
      },
      "source": [
        "# Imports\n",
        "\n",
        "from scipy import stats\n",
        "import numpy as np\n",
        "import pandas as pd\n",
        "import matplotlib.pyplot as plt\n",
        "%matplotlib inline\n",
        "\n",
        "import seaborn as sns\n",
        "plt.style.use('fivethirtyeight')\n",
        "\n",
        "import pymc3 as pm"
      ],
      "execution_count": 0,
      "outputs": []
    },
    {
      "cell_type": "markdown",
      "metadata": {
        "id": "fHAB-tbC9dhv",
        "colab_type": "text"
      },
      "source": [
        "### 1. Drunk Function, Different Parameters"
      ]
    },
    {
      "cell_type": "code",
      "metadata": {
        "id": "xpVhZyUnbf7o",
        "colab_type": "code",
        "colab": {}
      },
      "source": [
        "# The Function\n",
        "\n",
        "def prob_drunk_given_positive(prob_drunk_prior, prob_positive, prob_positive_drunk):\n",
        "  prob = (prob_positive_drunk*prob_drunk_prior)/prob_positive\n",
        "  return prob"
      ],
      "execution_count": 0,
      "outputs": []
    },
    {
      "cell_type": "code",
      "metadata": {
        "id": "qSRX3pnzknB7",
        "colab_type": "code",
        "colab": {}
      },
      "source": [
        "# it makes sense to maintain prob positive given drunk at 1 - let's try varying the drunk prior and prob positive.\n",
        "\n",
        "drunk_priors  = [0.001, 0.005, 0.01, 0.025, 0.05]\n",
        "prob_positives = [0.005, 0.01, 0.05, 0.1, 0.2]\n",
        "\n",
        "df = pd.DataFrame(np.zeros((5, 5)))"
      ],
      "execution_count": 0,
      "outputs": []
    },
    {
      "cell_type": "code",
      "metadata": {
        "id": "adxzX_o-xQzr",
        "colab_type": "code",
        "colab": {}
      },
      "source": [
        "# Our rows will represent the probability of a positive test, our columns the prior probability of being drunk.\n",
        "\n",
        "df.index = prob_positives\n",
        "df.columns = drunk_priors\n",
        "df.index.name = 'prob_positive'\n",
        "df.columns.name = 'drunk_priors'"
      ],
      "execution_count": 0,
      "outputs": []
    },
    {
      "cell_type": "code",
      "metadata": {
        "id": "vDYefANAxmRC",
        "colab_type": "code",
        "outputId": "7e277cc2-0be5-4151-be71-c5914a6495dc",
        "colab": {
          "base_uri": "https://localhost:8080/",
          "height": 75
        }
      },
      "source": [
        "# Loop over the frame and set values accordingly.\n",
        "\n",
        "for i in range(0,5):\n",
        "  for j in range(0,5):\n",
        "    df.set_value(prob_positives[i], drunk_priors[j], prob_drunk_given_positive(drunk_priors[j], prob_positives[i], 1))"
      ],
      "execution_count": 20,
      "outputs": [
        {
          "output_type": "stream",
          "text": [
            "/usr/local/lib/python3.6/dist-packages/ipykernel_launcher.py:4: FutureWarning: set_value is deprecated and will be removed in a future release. Please use .at[] or .iat[] accessors instead\n",
            "  after removing the cwd from sys.path.\n"
          ],
          "name": "stderr"
        }
      ]
    },
    {
      "cell_type": "code",
      "metadata": {
        "id": "4xK3Kq4i1U8n",
        "colab_type": "code",
        "outputId": "d5a8e985-be01-4927-a158-485c7570965f",
        "colab": {
          "base_uri": "https://localhost:8080/",
          "height": 237
        }
      },
      "source": [
        "df"
      ],
      "execution_count": 21,
      "outputs": [
        {
          "output_type": "execute_result",
          "data": {
            "text/html": [
              "<div>\n",
              "<style scoped>\n",
              "    .dataframe tbody tr th:only-of-type {\n",
              "        vertical-align: middle;\n",
              "    }\n",
              "\n",
              "    .dataframe tbody tr th {\n",
              "        vertical-align: top;\n",
              "    }\n",
              "\n",
              "    .dataframe thead th {\n",
              "        text-align: right;\n",
              "    }\n",
              "</style>\n",
              "<table border=\"1\" class=\"dataframe\">\n",
              "  <thead>\n",
              "    <tr style=\"text-align: right;\">\n",
              "      <th>drunk_priors</th>\n",
              "      <th>0.001</th>\n",
              "      <th>0.005</th>\n",
              "      <th>0.01</th>\n",
              "      <th>0.025</th>\n",
              "      <th>0.05</th>\n",
              "    </tr>\n",
              "    <tr>\n",
              "      <th>prob_positive</th>\n",
              "      <th></th>\n",
              "      <th></th>\n",
              "      <th></th>\n",
              "      <th></th>\n",
              "      <th></th>\n",
              "    </tr>\n",
              "  </thead>\n",
              "  <tbody>\n",
              "    <tr>\n",
              "      <th>0.005</th>\n",
              "      <td>0.200</td>\n",
              "      <td>1.000</td>\n",
              "      <td>2.00</td>\n",
              "      <td>5.000</td>\n",
              "      <td>10.00</td>\n",
              "    </tr>\n",
              "    <tr>\n",
              "      <th>0.010</th>\n",
              "      <td>0.100</td>\n",
              "      <td>0.500</td>\n",
              "      <td>1.00</td>\n",
              "      <td>2.500</td>\n",
              "      <td>5.00</td>\n",
              "    </tr>\n",
              "    <tr>\n",
              "      <th>0.050</th>\n",
              "      <td>0.020</td>\n",
              "      <td>0.100</td>\n",
              "      <td>0.20</td>\n",
              "      <td>0.500</td>\n",
              "      <td>1.00</td>\n",
              "    </tr>\n",
              "    <tr>\n",
              "      <th>0.100</th>\n",
              "      <td>0.010</td>\n",
              "      <td>0.050</td>\n",
              "      <td>0.10</td>\n",
              "      <td>0.250</td>\n",
              "      <td>0.50</td>\n",
              "    </tr>\n",
              "    <tr>\n",
              "      <th>0.200</th>\n",
              "      <td>0.005</td>\n",
              "      <td>0.025</td>\n",
              "      <td>0.05</td>\n",
              "      <td>0.125</td>\n",
              "      <td>0.25</td>\n",
              "    </tr>\n",
              "  </tbody>\n",
              "</table>\n",
              "</div>"
            ],
            "text/plain": [
              "drunk_priors   0.001  0.005  0.010  0.025  0.050\n",
              "prob_positive                                   \n",
              "0.005          0.200  1.000   2.00  5.000  10.00\n",
              "0.010          0.100  0.500   1.00  2.500   5.00\n",
              "0.050          0.020  0.100   0.20  0.500   1.00\n",
              "0.100          0.010  0.050   0.10  0.250   0.50\n",
              "0.200          0.005  0.025   0.05  0.125   0.25"
            ]
          },
          "metadata": {
            "tags": []
          },
          "execution_count": 21
        }
      ]
    },
    {
      "cell_type": "code",
      "metadata": {
        "id": "1Uo5iG4Fyp4v",
        "colab_type": "code",
        "outputId": "728670e9-a315-455f-f307-b9137247a079",
        "colab": {
          "base_uri": "https://localhost:8080/",
          "height": 328
        }
      },
      "source": [
        "# Let's visualize using a heatmap.\n",
        "\n",
        "sns.heatmap(df, cmap='RdYlGn', vmax=1.0, vmin=0.0 , linewidths=2.5)"
      ],
      "execution_count": 22,
      "outputs": [
        {
          "output_type": "execute_result",
          "data": {
            "text/plain": [
              "<matplotlib.axes._subplots.AxesSubplot at 0x7fd09b8542b0>"
            ]
          },
          "metadata": {
            "tags": []
          },
          "execution_count": 22
        },
        {
          "output_type": "display_data",
          "data": {
            "image/png": "[encoded data removed]",
            "text/plain": [
              "<Figure size 432x288 with 2 Axes>"
            ]
          },
          "metadata": {
            "tags": []
          }
        }
      ]
    },
    {
      "cell_type": "markdown",
      "metadata": {
        "id": "9YZRLno39lQM",
        "colab_type": "text"
      },
      "source": [
        "## 2. SciPy Bayes"
      ]
    },
    {
      "cell_type": "code",
      "metadata": {
        "id": "Ib7dBHaJ9kUL",
        "colab_type": "code",
        "colab": {}
      },
      "source": [
        "# Grabbing the congressional data from before\n",
        "\n",
        "cols = ['class_name', 'handicapped_infants', 'water_project_cost_sharing', 'adoption_of_budget_resolution', 'physician_fee_freeze', 'el_salvador_aid', \n",
        "        'religious_groups_in_schools', 'anti_satellite_test_ban', 'aid_to_contras', 'mx_missile', 'immigration', 'synfuels_cutback', 'education_spending', \n",
        "        'superfund_right_to_sue', 'crime', 'duty_free_exports', 'export_act_SA']\n",
        "df = pd.read_csv('https://archive.ics.uci.edu/ml/machine-learning-databases/voting-records/house-votes-84.data', header = None, names = cols, na_values = '?')\n",
        "\n",
        "# clean it\n",
        "\n",
        "df.replace(to_replace = ['y','n'], value = [1,0], inplace=True)\n",
        "df.fillna(0.5, inplace=True)\n",
        "df.isna().sum()\n",
        "\n",
        "# Let's split our data into two separate samples - Democrats and Republicans.\n",
        "\n",
        "burros = df[df.class_name == 'democrat']\n",
        "elefantes = df[df.class_name =='republican']\n",
        "\n",
        "# and check to make sure we're not missing anything\n",
        "\n",
        "assert len(df) == len(burros)+len(elefantes)\n",
        "\n",
        "# Get a list of features we care about\n",
        "features = cols\n",
        "features.remove('class_name')"
      ],
      "execution_count": 0,
      "outputs": []
    },
    {
      "cell_type": "code",
      "metadata": {
        "id": "-JMnsZJnESHT",
        "colab_type": "code",
        "colab": {}
      },
      "source": [
        "def confidence_interval(data, confidence=0.95):\n",
        "  \"\"\"\n",
        "  Calculate a confidence interval around a sample mean for given data.\n",
        "  Using t-distribution and two-tailed test, default 95% confidence. \n",
        "  \n",
        "  Arguments:\n",
        "    data - iterable (list or numpy array) of sample observations\n",
        "    confidence - level of confidence for the interval\n",
        "  \n",
        "  Returns:\n",
        "    tuple of (mean, lower bound, upper bound)\n",
        "  \"\"\"\n",
        "  data = np.array(data)\n",
        "  mean = np.mean(data)\n",
        "  n = len(data)\n",
        "  stderr = stats.sem(data)\n",
        "  interval = stderr * stats.t.ppf((1 + confidence) / 2.0, n - 1)\n",
        "  return (mean, mean - interval, mean + interval)"
      ],
      "execution_count": 0,
      "outputs": []
    },
    {
      "cell_type": "code",
      "metadata": {
        "id": "01FfIvnq4qoZ",
        "colab_type": "code",
        "colab": {}
      },
      "source": [
        "dmean_bayes, _, _ = stats.bayes_mvs(burros.handicapped_infants, alpha = 0.95)\n",
        "rmean_bayes, _, _ = stats.bayes_mvs(elefantes.handicapped_infants, alpha = 0.95)"
      ],
      "execution_count": 0,
      "outputs": []
    },
    {
      "cell_type": "code",
      "metadata": {
        "id": "uqZ4d_NdEgMq",
        "colab_type": "code",
        "colab": {}
      },
      "source": [
        "dmean_freq = confidence_interval(burros.handicapped_infants)\n",
        "rmean_freq = confidence_interval(elefantes.handicapped_infants)"
      ],
      "execution_count": 0,
      "outputs": []
    },
    {
      "cell_type": "code",
      "metadata": {
        "id": "_PjqUo8y_dhY",
        "colab_type": "code",
        "outputId": "49b3e9d4-7483-43f5-8e0c-a3485c000430",
        "colab": {
          "base_uri": "https://localhost:8080/",
          "height": 55
        }
      },
      "source": [
        "print(dmean_bayes)\n",
        "print(dmean_freq)"
      ],
      "execution_count": 27,
      "outputs": [
        {
          "output_type": "stream",
          "text": [
            "Mean(statistic=0.601123595505618, minmax=(0.5430578842906294, 0.6591893067206066))\n",
            "(0.601123595505618, 0.5430578842906294, 0.6591893067206066)\n"
          ],
          "name": "stdout"
        }
      ]
    },
    {
      "cell_type": "code",
      "metadata": {
        "id": "Hlrhigu__stx",
        "colab_type": "code",
        "outputId": "c7f8e5a3-8d3f-4e71-f0f9-e90104f57c8b",
        "colab": {
          "base_uri": "https://localhost:8080/",
          "height": 55
        }
      },
      "source": [
        "print(rmean_bayes)\n",
        "print(rmean_freq)"
      ],
      "execution_count": 28,
      "outputs": [
        {
          "output_type": "stream",
          "text": [
            "Mean(statistic=0.19345238095238096, minmax=(0.133975670640401, 0.2529290912643609))\n",
            "(0.19345238095238096, 0.133975670640401, 0.2529290912643609)\n"
          ],
          "name": "stdout"
        }
      ]
    },
    {
      "cell_type": "markdown",
      "metadata": {
        "id": "TjvkUhp6FDjc",
        "colab_type": "text"
      },
      "source": [
        "## 3. Bayes vs Frequentist"
      ]
    },
    {
      "cell_type": "code",
      "metadata": {
        "id": "8mnu39LPFHQ6",
        "colab_type": "code",
        "outputId": "6bfeb698-0fc0-4464-ee15-7097807afff0",
        "colab": {
          "base_uri": "https://localhost:8080/",
          "height": 36
        }
      },
      "source": [
        "# Assume the incidence rate of drunk drivers is 1/1000. 1 means they were drunk.\n",
        "\n",
        "np.random.seed(seed = 12)\n",
        "prior_drunk_drivers = np.random.binomial(n=1, p=.001, size=1000)\n",
        "np.mean(prior_drunk_drivers)"
      ],
      "execution_count": 71,
      "outputs": [
        {
          "output_type": "execute_result",
          "data": {
            "text/plain": [
              "0.003"
            ]
          },
          "metadata": {
            "tags": []
          },
          "execution_count": 71
        }
      ]
    },
    {
      "cell_type": "code",
      "metadata": {
        "id": "e6NXp2AyzxXj",
        "colab_type": "code",
        "colab": {}
      },
      "source": [
        "sns.set(style='ticks', palette='Set2')"
      ],
      "execution_count": 0,
      "outputs": []
    },
    {
      "cell_type": "code",
      "metadata": {
        "id": "MGQalAOiNCZY",
        "colab_type": "code",
        "outputId": "c5a40ff6-7f7c-4bc4-d009-8a4cd1f4ee83",
        "colab": {
          "base_uri": "https://localhost:8080/",
          "height": 55
        }
      },
      "source": [
        "# Probability mass for each outcome.\n",
        "\n",
        "print(stats.bernoulli.pmf(1, .001))\n",
        "print(stats.bernoulli.pmf(0, .001))"
      ],
      "execution_count": 73,
      "outputs": [
        {
          "output_type": "stream",
          "text": [
            "0.0010000000000000002\n",
            "0.999\n"
          ],
          "name": "stdout"
        }
      ]
    },
    {
      "cell_type": "code",
      "metadata": {
        "id": "tyyZvyxe9LJ3",
        "colab_type": "code",
        "colab": {
          "base_uri": "https://localhost:8080/",
          "height": 309
        },
        "outputId": "b5f05e05-69a1-4761-81d3-03948a35dfc8"
      },
      "source": [
        "# Frequentist approach - the data, with confidence interval.\n",
        "\n",
        "mean, low, high = confidence_interval(drunk_drivers, confidence = 0.999)\n",
        "\n",
        "sns.kdeplot(drunk_drivers)\n",
        "plt.axvline(x=mean, color='r')\n",
        "plt.axvline(x=low, color='r', linestyle = ':')\n",
        "plt.axvline(x=high, color='r', linestyle = ':')"
      ],
      "execution_count": 74,
      "outputs": [
        {
          "output_type": "execute_result",
          "data": {
            "text/plain": [
              "<matplotlib.lines.Line2D at 0x7fd0993381d0>"
            ]
          },
          "metadata": {
            "tags": []
          },
          "execution_count": 74
        },
        {
          "output_type": "display_data",
          "data": {
            "image/png": "[encoded data removed]",
            "text/plain": [
              "<Figure size 432x288 with 1 Axes>"
            ]
          },
          "metadata": {
            "tags": []
          }
        }
      ]
    },
    {
      "cell_type": "code",
      "metadata": {
        "id": "_2jJMezBxQBl",
        "colab_type": "code",
        "colab": {
          "base_uri": "https://localhost:8080/",
          "height": 36
        },
        "outputId": "f8d438b7-b225-4f95-a01d-904af7cb7c06"
      },
      "source": [
        "# Probability of a given outcome\n",
        "\n",
        "np.product(stats.bernoulli.pmf(prior_drunk_drivers, 0.001))"
      ],
      "execution_count": 75,
      "outputs": [
        {
          "output_type": "execute_result",
          "data": {
            "text/plain": [
              "3.6880072090030334e-10"
            ]
          },
          "metadata": {
            "tags": []
          },
          "execution_count": 75
        }
      ]
    },
    {
      "cell_type": "code",
      "metadata": {
        "id": "oL4hxedlxqWs",
        "colab_type": "code",
        "colab": {
          "base_uri": "https://localhost:8080/",
          "height": 295
        },
        "outputId": "2ce1a41e-8676-43b6-ec18-0ced3fa25e0e"
      },
      "source": [
        "# Prior distribution - assume drunk drivers are one in one thousand.\n",
        "\n",
        "params = np.linspace(0, 1, 100)\n",
        "p_littledrunk = [np.product(stats.bernoulli.pmf(prior_drunk_drivers, p)) for p in params]\n",
        "plt.plot(params, p_littledrunk)\n",
        "sns.despine()"
      ],
      "execution_count": 76,
      "outputs": [
        {
          "output_type": "display_data",
          "data": {
            "image/png": "[encoded data removed]",
            "text/plain": [
              "<Figure size 432x288 with 1 Axes>"
            ]
          },
          "metadata": {
            "tags": []
          }
        }
      ]
    },
    {
      "cell_type": "code",
      "metadata": {
        "id": "7hFOLRqF-Nq9",
        "colab_type": "code",
        "colab": {
          "base_uri": "https://localhost:8080/",
          "height": 293
        },
        "outputId": "27bae1cb-cbb3-48ab-b0a4-c43653885d10"
      },
      "source": [
        "# Sampling distribution - they're actually one in one hundred.\n",
        "\n",
        "sample_drunk_drivers =  np.random.binomial(n=1, p=.01, size=1000)\n",
        "p_drunker = np.array([np.product(stats.bernoulli.pmf(sample_drunk_drivers, p)) for p in params])\n",
        "fig, axes = plt.subplots(2, 1, sharex=True)\n",
        "axes[0].plot(params, p_littledrunk)\n",
        "axes[0].set_title(\"Prior Distribution\")\n",
        "axes[1].plot(params, p_drunker)\n",
        "axes[1].set_title(\"Sampling Distribution\")\n",
        "sns.despine()\n",
        "plt.tight_layout()"
      ],
      "execution_count": 79,
      "outputs": [
        {
          "output_type": "display_data",
          "data": {
            "image/png": "[encoded data removed]",
            "text/plain": [
              "<Figure size 432x288 with 2 Axes>"
            ]
          },
          "metadata": {
            "tags": []
          }
        }
      ]
    },
    {
      "cell_type": "code",
      "metadata": {
        "id": "7EzpIMqQBWxx",
        "colab_type": "code",
        "colab": {}
      },
      "source": [
        "# Posterior distribution\n",
        "\n",
        "posterior = [p_littledrunk[i] * p_drunker[i] for i in range(len(p_littledrunk))]\n",
        "posterior = posterior / np.sum(posterior)"
      ],
      "execution_count": 0,
      "outputs": []
    },
    {
      "cell_type": "code",
      "metadata": {
        "id": "g-UAm8RuCBX7",
        "colab_type": "code",
        "colab": {
          "base_uri": "https://localhost:8080/",
          "height": 581
        },
        "outputId": "72535932-e063-4641-d170-f8c1cac499cf"
      },
      "source": [
        "# Plot them all\n",
        "\n",
        "fig, axes = plt.subplots(3, 1, sharex=True, figsize=(8,8))\n",
        "axes[0].plot(params, p_drunker)\n",
        "axes[0].set_title(\"Sampling Distribution\")\n",
        "axes[1].plot(params, p_littledrunk)\n",
        "axes[1].set_title(\"Prior Distribution\")\n",
        "axes[2].plot(params, posterior)\n",
        "axes[2].set_title(\"Posterior Distribution\")\n",
        "sns.despine()\n",
        "plt.tight_layout()"
      ],
      "execution_count": 82,
      "outputs": [
        {
          "output_type": "display_data",
          "data": {
            "image/png": "[encoded data removed]",
            "text/plain": [
              "<Figure size 576x576 with 3 Axes>"
            ]
          },
          "metadata": {
            "tags": []
          }
        }
      ]
    },
    {
      "cell_type": "markdown",
      "metadata": {
        "id": "fCz9pXUx12JW",
        "colab_type": "text"
      },
      "source": [
        "## 4. The SumUp\n",
        "\n",
        "The main distinction between Bayesian and frequentist statistics is the use of prior probabilities - estimates of the likelihood of some event occurring, prior to having actually performed any kind of test. Bayesians update prior probabilities using data to inform posterior probabilities (which become new priors!) Frequentists use the data to inform best estimates and error margins around those estimates.\n",
        "\n",
        "Frequentists also tend to interpret \"probability\" more narrowly - some figure only has a probability if it can be repeatedly measured. A Bayesian is also willing to assign probability to a figure that is only measured once and unknown prior to measurement, like an election result."
      ]
    },
    {
      "cell_type": "markdown",
      "metadata": {
        "id": "uWgWjp3PQ3Sq",
        "colab_type": "text"
      },
      "source": [
        "## Resources"
      ]
    },
    {
      "cell_type": "markdown",
      "metadata": {
        "id": "QRgHqmYIQ9qn",
        "colab_type": "text"
      },
      "source": [
        "- [Worked example of Bayes rule calculation](https://en.wikipedia.org/wiki/Bayes'_theorem#Examples) (helpful as it fully breaks out the denominator)\n",
        "- [Source code for mvsdist in scipy](https://github.com/scipy/scipy/blob/90534919e139d2a81c24bf08341734ff41a3db12/scipy/stats/morestats.py#L139)"
      ]
    }
  ]
}