{
  "nbformat": 4,
  "nbformat_minor": 0,
  "metadata": {
    "colab": {
      "name": "LS_DS_143_Introduction_to_Bayesian_Inference.ipynb",
      "version": "0.3.2",
      "provenance": []
    },
    "kernelspec": {
      "name": "python3",
      "display_name": "Python 3"
    }
  },
  "cells": [
    {
      "cell_type": "markdown",
      "metadata": {
        "id": "H7OLbevlbd_Z",
        "colab_type": "text"
      },
      "source": [
        "# Lambda School Data Science Module 143\n",
        "\n",
        "## Introduction to Bayesian Inference\n",
        "\n",
        "!['Detector! What would the Bayesian statistician say if I asked him whether the--' [roll] 'I AM A NEUTRINO DETECTOR, NOT A LABYRINTH GUARD. SERIOUSLY, DID YOUR BRAIN FALL OUT?' [roll] '... yes.'](https://imgs.xkcd.com/comics/frequentists_vs_bayesians.png)\n",
        "\n",
        "*[XKCD 1132](https://www.xkcd.com/1132/)*\n"
      ]
    },
    {
      "cell_type": "markdown",
      "metadata": {
        "id": "3mz8p08BsN6p",
        "colab_type": "text"
      },
      "source": [
        "## Prepare - Bayes' Theorem and the Bayesian mindset"
      ]
    },
    {
      "cell_type": "markdown",
      "metadata": {
        "id": "GhycNr-Sbeie",
        "colab_type": "text"
      },
      "source": [
        "Bayes' theorem possesses a near-mythical quality - a bit of math that somehow magically evaluates a situation. But this mythicalness has more to do with its reputation and advanced applications than the actual core of it - deriving it is actually remarkably straightforward.\n",
        "\n",
        "### The Law of Total Probability\n",
        "\n",
        "By definition, the total probability of all outcomes (events) if some variable (event space) $A$ is 1. That is:\n",
        "\n",
        "$$P(A) = \\sum_n P(A_n) = 1$$\n",
        "\n",
        "The law of total probability takes this further, considering two variables ($A$ and $B$) and relating their marginal probabilities (their likelihoods considered independently, without reference to one another) and their conditional probabilities (their likelihoods considered jointly). A marginal probability is simply notated as e.g. $P(A)$, while a conditional probability is notated $P(A|B)$, which reads \"probability of $A$ *given* $B$\".\n",
        "\n",
        "The law of total probability states:\n",
        "\n",
        "$$P(A) = \\sum_n P(A | B_n) P(B_n)$$\n",
        "\n",
        "In words - the total probability of $A$ is equal to the sum of the conditional probability of $A$ on any given event $B_n$ times the probability of that event $B_n$, and summed over all possible events in $B$.\n",
        "\n",
        "### The Law of Conditional Probability\n",
        "\n",
        "What's the probability of something conditioned on something else? To determine this we have to go back to set theory and think about the intersection of sets:\n",
        "\n",
        "The formula for actual calculation:\n",
        "\n",
        "$$P(A|B) = \\frac{P(A \\cap B)}{P(B)}$$\n",
        "\n",
        "![Visualization of set intersection](https://upload.wikimedia.org/wikipedia/commons/9/99/Venn0001.svg)\n",
        "\n",
        "Think of the overall rectangle as the whole probability space, $A$ as the left circle, $B$ as the right circle, and their intersection as the red area. Try to visualize the ratio being described in the above formula, and how it is different from just the $P(A)$ (not conditioned on $B$).\n",
        "\n",
        "We can see how this relates back to the law of total probability - multiply both sides by $P(B)$ and you get $P(A|B)P(B) = P(A \\cap B)$ - replaced back into the law of total probability we get $P(A) = \\sum_n P(A \\cap B_n)$.\n",
        "\n",
        "This may not seem like an improvement at first, but try to relate it back to the above picture - if you think of sets as physical objects, we're saying that the total probability of $A$ given $B$ is all the little pieces of it intersected with $B$, added together. The conditional probability is then just that again, but divided by the probability of $B$ itself happening in the first place.\n",
        "\n",
        "### Bayes Theorem\n",
        "\n",
        "Here is is, the seemingly magic tool:\n",
        "\n",
        "$$P(A|B) = \\frac{P(B|A)P(A)}{P(B)}$$\n",
        "\n",
        "In words - the probability of $A$ conditioned on $B$ is the probability of $B$ conditioned on $A$, times the probability of $A$ and divided by the probability of $B$. These unconditioned probabilities are referred to as \"prior beliefs\", and the conditioned probabilities as \"updated.\"\n",
        "\n",
        "Why is this important? Scroll back up to the XKCD example - the Bayesian statistician draws a less absurd conclusion because their prior belief in the likelihood that the sun will go nova is extremely low. So, even when updated based on evidence from a detector that is $35/36 = 0.972$ accurate, the prior belief doesn't shift enough to change their overall opinion.\n",
        "\n",
        "There's many examples of Bayes' theorem - one less absurd example is to apply to [breathalyzer tests](https://www.bayestheorem.net/breathalyzer-example/). You may think that a breathalyzer test that is 100% accurate for true positives (detecting somebody who is drunk) is pretty good, but what if it also has 8% false positives (indicating somebody is drunk when they're not)? And furthermore, the rate of drunk driving (and thus our prior belief)  is 1/1000.\n",
        "\n",
        "What is the likelihood somebody really is drunk if they test positive? Some may guess it's 92% - the difference between the true positives and the false positives. But we have a prior belief of the background/true rate of drunk driving. Sounds like a job for Bayes' theorem!\n",
        "\n",
        "$$\n",
        "\\begin{aligned}\n",
        "P(Drunk | Positive) &= \\frac{P(Positive | Drunk)P(Drunk)}{P(Positive)} \\\\\n",
        "&= \\frac{1 \\times 0.001}{0.08} \\\\\n",
        "&= 0.0125\n",
        "\\end{aligned}\n",
        "$$\n",
        "\n",
        "In other words, the likelihood that somebody is drunk given they tested positive with a breathalyzer in this situation is only 1.25% - probably much lower than you'd guess. This is why, in practice, it's important to have a repeated test to confirm (the probability of two false positives in a row is $0.08 * 0.08 = 0.0064$, much lower), and Bayes' theorem has been relevant in court cases where proper consideration of evidence was important."
      ]
    },
    {
      "cell_type": "markdown",
      "metadata": {
        "id": "htI3DGvDsRJF",
        "colab_type": "text"
      },
      "source": [
        "## Live Lecture - Deriving Bayes' Theorem, Calculating Bayesian Confidence"
      ]
    },
    {
      "cell_type": "markdown",
      "metadata": {
        "id": "moIJNQ-nbfe_",
        "colab_type": "text"
      },
      "source": [
        "Notice that $P(A|B)$ appears in the above laws - in Bayesian terms, this is the belief in $A$ updated for the evidence $B$. So all we need to do is solve for this term to derive Bayes' theorem. Let's do it together!"
      ]
    },
    {
      "cell_type": "code",
      "metadata": {
        "id": "ke-5EqJI0Tsn",
        "colab_type": "code",
        "colab": {}
      },
      "source": [
        "# Activity 2 - Use SciPy to calculate Bayesian confidence intervals\n",
        "# https://docs.scipy.org/doc/scipy/reference/generated/scipy.stats.bayes_mvs.html#scipy.stats.bayes_mvs"
      ],
      "execution_count": 0,
      "outputs": []
    },
    {
      "cell_type": "markdown",
      "metadata": {
        "id": "P-DzzRk5bf0z",
        "colab_type": "text"
      },
      "source": [
        "## Assignment - Code it up!\n",
        "\n",
        "Most of the above was pure math - now write Python code to reproduce the results! This is purposefully open ended - you'll have to think about how you should represent probabilities and events. You can and should look things up, and as a stretch goal - refactor your code into helpful reusable functions!\n",
        "\n",
        "Specific goals/targets:\n",
        "\n",
        "1. Write a function `def prob_drunk_given_positive(prob_drunk_prior, prob_positive, prob_positive_drunk)` that reproduces the example from lecture, and use it to calculate and visualize a range of situations\n",
        "2. Explore `scipy.stats.bayes_mvs` - read its documentation, and experiment with it on data you've tested in other ways earlier this week\n",
        "3. Create a visualization comparing the results of a Bayesian approach to a traditional/frequentist approach\n",
        "4. In your own words, summarize the difference between Bayesian and Frequentist statistics\n",
        "\n",
        "If you're unsure where to start, check out [this blog post of Bayes theorem with Python](https://dataconomy.com/2015/02/introduction-to-bayes-theorem-with-python/) - you could and should create something similar!\n",
        "\n",
        "Stretch goals:\n",
        "\n",
        "- Apply a Bayesian technique to a problem you previously worked (in an assignment or project work) on from a frequentist (standard) perspective\n",
        "- Check out [PyMC3](https://docs.pymc.io/) (note this goes beyond hypothesis tests into modeling) - read the guides and work through some examples\n",
        "- Take PyMC3 further - see if you can build something with it!"
      ]
    },
    {
      "cell_type": "code",
      "metadata": {
        "id": "KRd8rxdzgI7D",
        "colab_type": "code",
        "colab": {}
      },
      "source": [
        "from scipy import stats\n",
        "import matplotlib.pyplot as plt"
      ],
      "execution_count": 0,
      "outputs": []
    },
    {
      "cell_type": "code",
      "metadata": {
        "id": "xpVhZyUnbf7o",
        "colab_type": "code",
        "colab": {}
      },
      "source": [
        "def prob_drunk_given_positive(prob_drunk_prior, prob_positive_notdrunk, prob_positive_drunk):\n",
        "  p = (prob_positive_drunk * prob_drunk_prior) / prob_positive_notdrunk\n",
        "  return p"
      ],
      "execution_count": 0,
      "outputs": []
    },
    {
      "cell_type": "code",
      "metadata": {
        "id": "2-mS3xykLcbB",
        "colab_type": "code",
        "colab": {}
      },
      "source": [
        "false_positives = [x/100 for x in range(1, 11)]\n",
        "prob_being_drunk = []\n",
        "for i in false_positives:\n",
        "  prob_being_drunk.append(prob_drunk_given_positive(.001, i, 1))"
      ],
      "execution_count": 0,
      "outputs": []
    },
    {
      "cell_type": "code",
      "metadata": {
        "id": "SWCvCQFFiptX",
        "colab_type": "code",
        "outputId": "6dd4af9c-2725-4a60-87bc-698cfb545b91",
        "colab": {
          "base_uri": "https://localhost:8080/",
          "height": 436
        }
      },
      "source": [
        "plt.scatter(false_positives, prob_being_drunk)\n",
        "plt.xticks([.01, .02, .03, .04, .05, .06, .07, .08, .09, .1],\n",
        "           rotation='vertical',\n",
        "           labels=['1.0%', '2.0%', '3.0%', '4.0%', '5.0%', '6.0%', '7.0%', '8.0%', '9.0%', '10.0%',]);\n",
        "\n",
        "plt.yticks([0, .02, .04, .06, .08, .1],\n",
        "           labels=['0.0%', '2.0%', '4.0%', '6.0%', '8.0%', '10.0%']);\n",
        "\n",
        "plt.xlabel('False Positive Percentage')\n",
        "plt.ylabel('Probability of Being Drunk')\n",
        "plt.title('Breathalyzer Accuracy')\n",
        "plt.style.use('fivethirtyeight')"
      ],
      "execution_count": 35,
      "outputs": [
        {
          "output_type": "display_data",
          "data": {
            "image/png": "[encoded data removed]",
            "text/plain": [
              "<Figure size 432x288 with 1 Axes>"
            ]
          },
          "metadata": {
            "tags": []
          }
        }
      ]
    },
    {
      "cell_type": "markdown",
      "metadata": {
        "id": "O81A3gTvpQis",
        "colab_type": "text"
      },
      "source": [
        "# Using scipy.stats.bayes_mvs"
      ]
    },
    {
      "cell_type": "code",
      "metadata": {
        "id": "QLPp_wUmpr4J",
        "colab_type": "code",
        "colab": {}
      },
      "source": [
        "import pandas as pd\n",
        "import numpy as np\n",
        "import seaborn as sns"
      ],
      "execution_count": 0,
      "outputs": []
    },
    {
      "cell_type": "code",
      "metadata": {
        "id": "WAUq_1gZplQB",
        "colab_type": "code",
        "colab": {}
      },
      "source": [
        "# Create a list of the bills\n",
        "bills = ['party', 'handicapped_infants', 'water_project', 'adoption',\n",
        "         'physician', 'el_salvador', 'religious_groups', 'anti_sat',\n",
        "         'aid_contras', 'mx_missle', 'immigration', 'synfuels',\n",
        "         'education_spending', 'right_to_sue', 'crime', 'duty_free_exports', 'south_africa']"
      ],
      "execution_count": 0,
      "outputs": []
    },
    {
      "cell_type": "code",
      "metadata": {
        "id": "HlfIPnn8pVwV",
        "colab_type": "code",
        "colab": {}
      },
      "source": [
        "# Create a dataframe of the data, add in column names\n",
        "df = pd.read_csv('https://archive.ics.uci.edu/ml/machine-learning-databases/voting-records/house-votes-84.data',\n",
        "                header=None,\n",
        "                names=bills)"
      ],
      "execution_count": 0,
      "outputs": []
    },
    {
      "cell_type": "code",
      "metadata": {
        "id": "up7nIj5WpuWw",
        "colab_type": "code",
        "colab": {}
      },
      "source": [
        "# Replace yes, no, and ? with numerical values\n",
        "\n",
        "# Replace values\n",
        "df = df.replace({'y': 1, 'n': 0, '?': None})"
      ],
      "execution_count": 0,
      "outputs": []
    },
    {
      "cell_type": "markdown",
      "metadata": {
        "id": "DlG8EcvCp5lw",
        "colab_type": "text"
      },
      "source": [
        "## Frequentist Method"
      ]
    },
    {
      "cell_type": "code",
      "metadata": {
        "id": "2hJZd008p45a",
        "colab_type": "code",
        "colab": {}
      },
      "source": [
        "def confidence_interval(data, confidence=0.95):\n",
        "  data = data.dropna() # Drop all of the NaN rows in the column\n",
        "  data = np.array(data)\n",
        "  mean = np.mean(data)\n",
        "  n = len(data)\n",
        "\n",
        "  stderr = stats.sem(data)\n",
        "  interval = stderr * stats.t.ppf((1 + confidence) / 2.0, n - 1)\n",
        "  \n",
        "  return mean, interval"
      ],
      "execution_count": 0,
      "outputs": []
    },
    {
      "cell_type": "code",
      "metadata": {
        "id": "ZZdiykyHrKCC",
        "colab_type": "code",
        "outputId": "dabd6520-59d6-4209-d478-c50afa2259da",
        "colab": {
          "base_uri": "https://localhost:8080/",
          "height": 136
        }
      },
      "source": [
        "confidence_interval(df['south_africa'], confidence=0.95)"
      ],
      "execution_count": 20,
      "outputs": [
        {
          "output_type": "execute_result",
          "data": {
            "text/plain": [
              "(0.8126888217522659, 0.04225040037768932)"
            ]
          },
          "metadata": {
            "tags": []
          },
          "execution_count": 20
        }
      ]
    },
    {
      "cell_type": "markdown",
      "metadata": {
        "id": "pzqjb7jjp9PN",
        "colab_type": "text"
      },
      "source": [
        "## Bayesian Method"
      ]
    },
    {
      "cell_type": "code",
      "metadata": {
        "id": "mlV07g9zqA9h",
        "colab_type": "code",
        "colab": {}
      },
      "source": [
        "def bayes_conf_interval(data):\n",
        "  data = data.dropna()\n",
        "  mean, var, std = stats.bayes_mvs(data)\n",
        "  return mean[0], mean[1][1] - mean[1][0]"
      ],
      "execution_count": 0,
      "outputs": []
    },
    {
      "cell_type": "code",
      "metadata": {
        "id": "5MAG89zrrGOU",
        "colab_type": "code",
        "outputId": "202eed6e-87fe-4bca-e8da-a345920d44fc",
        "colab": {
          "base_uri": "https://localhost:8080/",
          "height": 136
        }
      },
      "source": [
        "bayes_conf_interval(df['south_africa'])"
      ],
      "execution_count": 18,
      "outputs": [
        {
          "output_type": "execute_result",
          "data": {
            "text/plain": [
              "(0.8126888217522659, 0.07085413016087538)"
            ]
          },
          "metadata": {
            "tags": []
          },
          "execution_count": 18
        }
      ]
    },
    {
      "cell_type": "code",
      "metadata": {
        "id": "SIj9O4hDrjhq",
        "colab_type": "code",
        "outputId": "57e5cd22-8896-4bd4-ce7d-4c21c5d73eb0",
        "colab": {
          "base_uri": "https://localhost:8080/",
          "height": 420
        }
      },
      "source": [
        "plt.style.use('fivethirtyeight')\n",
        "\n",
        "plt.bar('Bayesian Approach', bayes_conf_interval(df['south_africa'])[0], yerr=bayes_conf_interval(df['south_africa'])[1])\n",
        "plt.bar('Frequentist Approach', confidence_interval(df['south_africa'])[0], yerr=confidence_interval(df['south_africa'])[1])\n",
        "\n",
        "plt.yticks([0, .2, .4, .6, .8, 1, 1.05], labels=[0.0, .2, .4, .6, .8, 1.0]);\n",
        "plt.title('Different approach to CI for South Africa Bill', pad=25)\n",
        "plt.ylabel('Mean Vote w/ MOE', labelpad=20)"
      ],
      "execution_count": 34,
      "outputs": [
        {
          "output_type": "execute_result",
          "data": {
            "text/plain": [
              "Text(0, 0.5, 'Mean Vote w/ MOE')"
            ]
          },
          "metadata": {
            "tags": []
          },
          "execution_count": 34
        },
        {
          "output_type": "display_data",
          "data": {
            "image/png": "[encoded data removed]",
            "text/plain": [
              "<Figure size 432x288 with 1 Axes>"
            ]
          },
          "metadata": {
            "tags": []
          }
        }
      ]
    },
    {
      "cell_type": "markdown",
      "metadata": {
        "id": "M3EJAfCCCnF8",
        "colab_type": "text"
      },
      "source": [
        "### As you can see above, it looks like the CI was tighter with the frequentist approach.\n",
        "\n",
        "## Difference between Bayesian and Frequentist Statistics\n",
        "\n",
        "### Frequentist Reasoning\n",
        "\n",
        "I can hear the phone beeping. I also have a mental model which helps me identify the area from which the sound is coming. Therefore, upon hearing the beep, I infer the area of my home I must search to locate the phone.\n",
        "\n",
        "###Bayesian Reasoning\n",
        "\n",
        "I can hear the phone beeping. Now, apart from a mental model which helps me identify the area from which the sound is coming from, I also know the locations where I have misplaced the phone in the past. So, I combine my inferences using the beeps and my prior information about the locations I have misplaced the phone in the past to identify an area I must search to locate the phone.\n",
        "\n",
        "I found this example on stack exchange. If I am interpreting this correctly is seems that bayesian reasoning is based on a prior knowleged (where I've placed the phone in the past) where Frequentist reasoning doesn't seem to acknowledge that. They just go off of direction of the phone beeping sound without using any prior knowledge."
      ]
    },
    {
      "cell_type": "markdown",
      "metadata": {
        "id": "uWgWjp3PQ3Sq",
        "colab_type": "text"
      },
      "source": [
        "## Resources"
      ]
    },
    {
      "cell_type": "markdown",
      "metadata": {
        "id": "QRgHqmYIQ9qn",
        "colab_type": "text"
      },
      "source": [
        "- [Worked example of Bayes rule calculation](https://en.wikipedia.org/wiki/Bayes'_theorem#Examples) (helpful as it fully breaks out the denominator)\n",
        "- [Source code for mvsdist in scipy](https://github.com/scipy/scipy/blob/90534919e139d2a81c24bf08341734ff41a3db12/scipy/stats/morestats.py#L139)"
      ]
    }
  ]
}