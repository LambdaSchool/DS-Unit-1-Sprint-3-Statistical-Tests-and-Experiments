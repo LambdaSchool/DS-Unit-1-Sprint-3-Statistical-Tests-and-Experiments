{
  "nbformat": 4,
  "nbformat_minor": 0,
  "metadata": {
    "colab": {
      "name": "LS_DS_133_Introduction_to_Bayesian_Inference.ipynb",
      "version": "0.3.2",
      "provenance": [],
      "collapsed_sections": [],
      "include_colab_link": true
    },
    "kernelspec": {
      "name": "python3",
      "display_name": "Python 3"
    }
  },
  "cells": [
    {
      "cell_type": "markdown",
      "metadata": {
        "id": "view-in-github",
        "colab_type": "text"
      },
      "source": [
        "<a href=\"https://colab.research.google.com/github/mauney/DS-Unit-1-Sprint-3-Statistical-Tests-and-Experiments/blob/master/module3-introduction-to-bayesian-inference/LS_DS_133_Introduction_to_Bayesian_Inference.ipynb\" target=\"_parent\"><img src=\"https://colab.research.google.com/assets/colab-badge.svg\" alt=\"Open In Colab\"/></a>"
      ]
    },
    {
      "cell_type": "markdown",
      "metadata": {
        "id": "H7OLbevlbd_Z",
        "colab_type": "text"
      },
      "source": [
        "# Lambda School Data Science Module 143\n",
        "\n",
        "## Introduction to Bayesian Inference\n",
        "\n",
        "!['Detector! What would the Bayesian statistician say if I asked him whether the--' [roll] 'I AM A NEUTRINO DETECTOR, NOT A LABYRINTH GUARD. SERIOUSLY, DID YOUR BRAIN FALL OUT?' [roll] '... yes.'](https://imgs.xkcd.com/comics/frequentists_vs_bayesians.png)\n",
        "\n",
        "*[XKCD 1132](https://www.xkcd.com/1132/)*\n"
      ]
    },
    {
      "cell_type": "markdown",
      "metadata": {
        "id": "3mz8p08BsN6p",
        "colab_type": "text"
      },
      "source": [
        "## Prepare - Bayes' Theorem and the Bayesian mindset"
      ]
    },
    {
      "cell_type": "markdown",
      "metadata": {
        "id": "GhycNr-Sbeie",
        "colab_type": "text"
      },
      "source": [
        "Bayes' theorem possesses a near-mythical quality - a bit of math that somehow magically evaluates a situation. But this mythicalness has more to do with its reputation and advanced applications than the actual core of it - deriving it is actually remarkably straightforward.\n",
        "\n",
        "### The Law of Total Probability\n",
        "\n",
        "By definition, the total probability of all outcomes (events) if some variable (event space) $A$ is 1. That is:\n",
        "\n",
        "$$P(A) = \\sum_n P(A_n) = 1$$\n",
        "\n",
        "The law of total probability takes this further, considering two variables ($A$ and $B$) and relating their marginal probabilities (their likelihoods considered independently, without reference to one another) and their conditional probabilities (their likelihoods considered jointly). A marginal probability is simply notated as e.g. $P(A)$, while a conditional probability is notated $P(A|B)$, which reads \"probability of $A$ *given* $B$\".\n",
        "\n",
        "The law of total probability states:\n",
        "\n",
        "$$P(A) = \\sum_n P(A | B_n) P(B_n)$$\n",
        "\n",
        "In words - the total probability of $A$ is equal to the sum of the conditional probability of $A$ on any given event $B_n$ times the probability of that event $B_n$, and summed over all possible events in $B$.\n",
        "\n",
        "### The Law of Conditional Probability\n",
        "\n",
        "What's the probability of something conditioned on something else? To determine this we have to go back to set theory and think about the intersection of sets:\n",
        "\n",
        "The formula for actual calculation:\n",
        "\n",
        "$$P(A|B) = \\frac{P(A \\cap B)}{P(B)}$$\n",
        "\n",
        "![Visualization of set intersection](https://upload.wikimedia.org/wikipedia/commons/9/99/Venn0001.svg)\n",
        "\n",
        "Think of the overall rectangle as the whole probability space, $A$ as the left circle, $B$ as the right circle, and their intersection as the red area. Try to visualize the ratio being described in the above formula, and how it is different from just the $P(A)$ (not conditioned on $B$).\n",
        "\n",
        "We can see how this relates back to the law of total probability - multiply both sides by $P(B)$ and you get $P(A|B)P(B) = P(A \\cap B)$ - replaced back into the law of total probability we get $P(A) = \\sum_n P(A \\cap B_n)$.\n",
        "\n",
        "This may not seem like an improvement at first, but try to relate it back to the above picture - if you think of sets as physical objects, we're saying that the total probability of $A$ given $B$ is all the little pieces of it intersected with $B$, added together. The conditional probability is then just that again, but divided by the probability of $B$ itself happening in the first place.\n",
        "\n",
        "### Bayes Theorem\n",
        "\n",
        "Here is is, the seemingly magic tool:\n",
        "\n",
        "$$P(A|B) = \\frac{P(B|A)P(A)}{P(B)}$$\n",
        "\n",
        "In words - the probability of $A$ conditioned on $B$ is the probability of $B$ conditioned on $A$, times the probability of $A$ and divided by the probability of $B$. These unconditioned probabilities are referred to as \"prior beliefs\", and the conditioned probabilities as \"updated.\"\n",
        "\n",
        "Why is this important? Scroll back up to the XKCD example - the Bayesian statistician draws a less absurd conclusion because their prior belief in the likelihood that the sun will go nova is extremely low. So, even when updated based on evidence from a detector that is $35/36 = 0.972$ accurate, the prior belief doesn't shift enough to change their overall opinion.\n",
        "\n",
        "There's many examples of Bayes' theorem - one less absurd example is to apply to [breathalyzer tests](https://www.bayestheorem.net/breathalyzer-example/). You may think that a breathalyzer test that is 100% accurate for true positives (detecting somebody who is drunk) is pretty good, but what if it also has 8% false positives (indicating somebody is drunk when they're not)? And furthermore, the rate of drunk driving (and thus our prior belief)  is 1/1000.\n",
        "\n",
        "What is the likelihood somebody really is drunk if they test positive? Some may guess it's 92% - the difference between the true positives and the false positives. But we have a prior belief of the background/true rate of drunk driving. Sounds like a job for Bayes' theorem!\n",
        "\n",
        "$$\n",
        "\\begin{aligned}\n",
        "P(Drunk | Positive) &= \\frac{P(Positive | Drunk)P(Drunk)}{P(Positive)} \\\\\n",
        "&= \\frac{1 \\times 0.001}{0.08} \\\\\n",
        "&= 0.0125\n",
        "\\end{aligned}\n",
        "$$\n",
        "\n",
        "In other words, the likelihood that somebody is drunk given they tested positive with a breathalyzer in this situation is only 1.25% - probably much lower than you'd guess. This is why, in practice, it's important to have a repeated test to confirm (the probability of two false positives in a row is $0.08 * 0.08 = 0.0064$, much lower), and Bayes' theorem has been relevant in court cases where proper consideration of evidence was important."
      ]
    },
    {
      "cell_type": "markdown",
      "metadata": {
        "id": "htI3DGvDsRJF",
        "colab_type": "text"
      },
      "source": [
        "## Live Lecture - Deriving Bayes' Theorem, Calculating Bayesian Confidence"
      ]
    },
    {
      "cell_type": "markdown",
      "metadata": {
        "id": "moIJNQ-nbfe_",
        "colab_type": "text"
      },
      "source": [
        "Notice that $P(A|B)$ appears in the above laws - in Bayesian terms, this is the belief in $A$ updated for the evidence $B$. So all we need to do is solve for this term to derive Bayes' theorem. Let's do it together!"
      ]
    },
    {
      "cell_type": "code",
      "metadata": {
        "id": "ke-5EqJI0Tsn",
        "colab_type": "code",
        "colab": {}
      },
      "source": [
        "# Activity 2 - Use SciPy to calculate Bayesian confidence intervals\n",
        "# https://docs.scipy.org/doc/scipy/reference/generated/scipy.stats.bayes_mvs.html#scipy.stats.bayes_mvs"
      ],
      "execution_count": 0,
      "outputs": []
    },
    {
      "cell_type": "markdown",
      "metadata": {
        "id": "P-DzzRk5bf0z",
        "colab_type": "text"
      },
      "source": [
        "## Assignment - Code it up!\n",
        "\n",
        "Most of the above was pure math - now write Python code to reproduce the results! This is purposefully open ended - you'll have to think about how you should represent probabilities and events. You can and should look things up, and as a stretch goal - refactor your code into helpful reusable functions!\n",
        "\n",
        "Specific goals/targets:\n",
        "\n",
        "1. Write a function `def prob_drunk_given_positive(prob_drunk_prior, prob_positive, prob_positive_drunk)` that reproduces the example from lecture, and use it to calculate and visualize a range of situations\n",
        "2. Explore `scipy.stats.bayes_mvs` - read its documentation, and experiment with it on data you've tested in other ways earlier this week\n",
        "3. Create a visualization comparing the results of a Bayesian approach to a traditional/frequentist approach\n",
        "4. In your own words, summarize the difference between Bayesian and Frequentist statistics\n",
        "\n",
        "If you're unsure where to start, check out [this blog post of Bayes theorem with Python](https://dataconomy.com/2015/02/introduction-to-bayes-theorem-with-python/) - you could and should create something similar!\n",
        "\n",
        "Stretch goals:\n",
        "\n",
        "- Apply a Bayesian technique to a problem you previously worked (in an assignment or project work) on from a frequentist (standard) perspective\n",
        "- Check out [PyMC3](https://docs.pymc.io/) (note this goes beyond hypothesis tests into modeling) - read the guides and work through some examples\n",
        "- Take PyMC3 further - see if you can build something with it!"
      ]
    },
    {
      "cell_type": "code",
      "metadata": {
        "id": "xpVhZyUnbf7o",
        "colab_type": "code",
        "colab": {}
      },
      "source": [
        "# TODO - code!"
      ],
      "execution_count": 0,
      "outputs": []
    },
    {
      "cell_type": "code",
      "metadata": {
        "id": "H7uHVdTS7vYq",
        "colab_type": "code",
        "colab": {}
      },
      "source": [
        "def prob_drunk_given_positive(prob_drunk_prior, prob_positive, prob_positive_drunk):\n",
        "  return (prob_positive_drunk * prob_drunk_prior) / prob_positive"
      ],
      "execution_count": 0,
      "outputs": []
    },
    {
      "cell_type": "code",
      "metadata": {
        "id": "pjbp5bMy7zGw",
        "colab_type": "code",
        "colab": {
          "base_uri": "https://localhost:8080/",
          "height": 34
        },
        "outputId": "fd7d04a1-0450-4cd6-c6d1-e1300f46bf5b"
      },
      "source": [
        "prob_drunk_given_positive(0.001, 0.08, 1)"
      ],
      "execution_count": 2,
      "outputs": [
        {
          "output_type": "execute_result",
          "data": {
            "text/plain": [
              "0.0125"
            ]
          },
          "metadata": {
            "tags": []
          },
          "execution_count": 2
        }
      ]
    },
    {
      "cell_type": "code",
      "metadata": {
        "id": "-geHY-qj73gk",
        "colab_type": "code",
        "colab": {
          "base_uri": "https://localhost:8080/",
          "height": 34
        },
        "outputId": "ca1e5735-cafa-4a28-bfb5-07cf1587a286"
      },
      "source": [
        "prob_drunk_given_positive(0.001, 0.01, 1)"
      ],
      "execution_count": 3,
      "outputs": [
        {
          "output_type": "execute_result",
          "data": {
            "text/plain": [
              "0.1"
            ]
          },
          "metadata": {
            "tags": []
          },
          "execution_count": 3
        }
      ]
    },
    {
      "cell_type": "markdown",
      "metadata": {
        "id": "z-nuNZ1ZMzAG",
        "colab_type": "text"
      },
      "source": [
        "### Grab data from yesterday and run the columns with scipy.stats.bayes_mvs"
      ]
    },
    {
      "cell_type": "code",
      "metadata": {
        "id": "btoKDc9_JiHX",
        "colab_type": "code",
        "colab": {}
      },
      "source": [
        "import numpy as np\n",
        "import pandas as pd\n",
        "import matplotlib.pyplot as plt\n",
        "from scipy import stats"
      ],
      "execution_count": 0,
      "outputs": []
    },
    {
      "cell_type": "code",
      "metadata": {
        "id": "zSPJQ_TuBOx4",
        "colab_type": "code",
        "colab": {}
      },
      "source": [
        "votin_data_url = 'https://archive.ics.uci.edu/ml/machine-learning-databases/voting-records/house-votes-84.data'\n",
        "\n",
        "categories = ['class-name', 'handicapped-infants', 'water-project-cost-sharing',\n",
        "              'adoption-of-the-budget-resolution', 'physician-fee-freeze',\n",
        "              'el-salvador-aid', 'religious-groups-in-schools',\n",
        "              'anti-satellite-test-ban', 'aid-to-nicaraguan-contras',\n",
        "              'mx-missile', 'immigration', 'synfuels-corporation-cutback',\n",
        "              'education-spending', 'superfund-right-to-sue', 'crime',\n",
        "              'duty-free-exports', 'export-administration-act-south-africa']\n",
        "\n",
        "df = pd.read_csv(votin_data_url, names=categories)"
      ],
      "execution_count": 0,
      "outputs": []
    },
    {
      "cell_type": "code",
      "metadata": {
        "id": "nuxL8MqKNGXh",
        "colab_type": "code",
        "colab": {}
      },
      "source": [
        "df.replace(to_replace={'y': 1, 'n': 0, '?': np.nan}, inplace=True)"
      ],
      "execution_count": 0,
      "outputs": []
    },
    {
      "cell_type": "code",
      "metadata": {
        "id": "XsgCJxuQNNxh",
        "colab_type": "code",
        "colab": {}
      },
      "source": [
        "vote_bayes_info = {}\n",
        "for vote in categories[1:]:\n",
        "  vote_bayes_info[vote], _, _ = stats.bayes_mvs(df[vote].dropna(), alpha=0.95)"
      ],
      "execution_count": 0,
      "outputs": []
    },
    {
      "cell_type": "code",
      "metadata": {
        "id": "ch0AJE-jO9pT",
        "colab_type": "code",
        "colab": {
          "base_uri": "https://localhost:8080/",
          "height": 1000
        },
        "outputId": "d43f6c24-0d94-4408-e302-7bb2bfe9b2c8"
      },
      "source": [
        "for name, mean in vote_bayes_info.items():\n",
        "  print(name)\n",
        "  print(f'mean: {mean[0]}')\n",
        "  print(f'min:  {mean[1][0]}')\n",
        "  print(f'max:  {mean[1][1]}')\n",
        "  print()"
      ],
      "execution_count": 52,
      "outputs": [
        {
          "output_type": "stream",
          "text": [
            "handicapped-infants\n",
            "mean: 0.44208037825059104\n",
            "min:  0.39456046308364673\n",
            "max:  0.48960029341753536\n",
            "\n",
            "water-project-cost-sharing\n",
            "mean: 0.5038759689922481\n",
            "min:  0.45384081311663604\n",
            "max:  0.5539111248678601\n",
            "\n",
            "adoption-of-the-budget-resolution\n",
            "mean: 0.5966981132075472\n",
            "min:  0.5498151808536169\n",
            "max:  0.6435810455614774\n",
            "\n",
            "physician-fee-freeze\n",
            "mean: 0.41745283018867924\n",
            "min:  0.37032346810896244\n",
            "max:  0.46458219226839603\n",
            "\n",
            "el-salvador-aid\n",
            "mean: 0.5047619047619047\n",
            "min:  0.45675013837951567\n",
            "max:  0.5527736711442939\n",
            "\n",
            "religious-groups-in-schools\n",
            "mean: 0.6415094339622641\n",
            "min:  0.595678078934313\n",
            "max:  0.6873407889902152\n",
            "\n",
            "anti-satellite-test-ban\n",
            "mean: 0.5676959619952494\n",
            "min:  0.5201811192521686\n",
            "max:  0.6152108047383302\n",
            "\n",
            "aid-to-nicaraguan-contras\n",
            "mean: 0.5761904761904761\n",
            "min:  0.5287372471168422\n",
            "max:  0.6236437052641101\n",
            "\n",
            "mx-missile\n",
            "mean: 0.5012106537530266\n",
            "min:  0.45278830107341983\n",
            "max:  0.5496330064326335\n",
            "\n",
            "immigration\n",
            "mean: 0.5046728971962616\n",
            "min:  0.45711551746571655\n",
            "max:  0.5522302769268067\n",
            "\n",
            "synfuels-corporation-cutback\n",
            "mean: 0.36231884057971014\n",
            "min:  0.31582505683185436\n",
            "max:  0.40881262432756593\n",
            "\n",
            "education-spending\n",
            "mean: 0.42326732673267325\n",
            "min:  0.37488391760148726\n",
            "max:  0.47165073586385925\n",
            "\n",
            "superfund-right-to-sue\n",
            "mean: 0.5097560975609756\n",
            "min:  0.4611645412110688\n",
            "max:  0.5583476539108825\n",
            "\n",
            "crime\n",
            "mean: 0.5933014354066986\n",
            "min:  0.546017195315226\n",
            "max:  0.6405856754981711\n",
            "\n",
            "duty-free-exports\n",
            "mean: 0.4275184275184275\n",
            "min:  0.3792525917327782\n",
            "max:  0.4757842633040768\n",
            "\n",
            "export-administration-act-south-africa\n",
            "mean: 0.8126888217522659\n",
            "min:  0.7704384213745765\n",
            "max:  0.8549392221299552\n",
            "\n"
          ],
          "name": "stdout"
        }
      ]
    },
    {
      "cell_type": "markdown",
      "metadata": {
        "id": "OrqMFoQAg20J",
        "colab_type": "text"
      },
      "source": [
        "#### rerun yesterdays confidence intervals to compare with the above values"
      ]
    },
    {
      "cell_type": "code",
      "metadata": {
        "id": "dNBzqLB1YGHh",
        "colab_type": "code",
        "colab": {}
      },
      "source": [
        "def confidence_interval(data, confidence=0.95):\n",
        "  \"\"\"\n",
        "  Calculate a confidence interval around a sample mean for given data.\n",
        "  Using t-distribution and two-tailed test, default 95% confidence. \n",
        "  \n",
        "  Arguments:\n",
        "    data - iterable (list or numpy array) of sample observations\n",
        "    confidence - level of confidence for the interval\n",
        "  \n",
        "  Returns:\n",
        "    tuple of (mean, lower bound, upper bound)\n",
        "  \"\"\"\n",
        "  data = np.array(data)\n",
        "  mean = np.mean(data)\n",
        "  n = len(data)\n",
        "  stderr = stats.sem(data)\n",
        "  interval = stderr * stats.t.ppf((1 + confidence) / 2.0, n - 1)\n",
        "  return (mean, mean - interval, mean + interval)"
      ],
      "execution_count": 0,
      "outputs": []
    },
    {
      "cell_type": "code",
      "metadata": {
        "id": "NV5fG6vTNW5t",
        "colab_type": "code",
        "colab": {}
      },
      "source": [
        "vote_ci_info = {}\n",
        "for vote in categories[1:]:\n",
        "  vote_ci_info[vote] = confidence_interval(df[vote].dropna())"
      ],
      "execution_count": 0,
      "outputs": []
    },
    {
      "cell_type": "code",
      "metadata": {
        "id": "gMTkzzgwNOBB",
        "colab_type": "code",
        "colab": {}
      },
      "source": [
        "for vote, info in vote_info.items():\n",
        "  print(vote)\n",
        "  print('       mean: ', info[0])\n",
        "  print('lower bound: ', info[1])\n",
        "  print('upper bound: ', info[2], '\\n')"
      ],
      "execution_count": 0,
      "outputs": []
    },
    {
      "cell_type": "code",
      "metadata": {
        "id": "Y0uAF1c8ZA_u",
        "colab_type": "code",
        "colab": {}
      },
      "source": [
        "differences = {}\n",
        "for vote in categories[1:]:\n",
        "  differences[vote] = {}\n",
        "  differences[vote]['mean_dif'] = vote_ci_info[vote][0] - vote_bayes_info[vote][0]\n",
        "  differences[vote]['min_dif'] = vote_ci_info[vote][1] - vote_bayes_info[vote][1][0]\n",
        "  differences[vote]['max_dif'] = vote_ci_info[vote][2] - vote_bayes_info[vote][1][1]\n",
        "  \n",
        "  "
      ],
      "execution_count": 0,
      "outputs": []
    },
    {
      "cell_type": "code",
      "metadata": {
        "id": "O7tDLUgZaXjX",
        "colab_type": "code",
        "colab": {
          "base_uri": "https://localhost:8080/",
          "height": 1000
        },
        "outputId": "a4f0e10f-4c13-472d-d1b7-1685d115588c"
      },
      "source": [
        "# no practical difference when calculating confidence intervals of the mean\n",
        "for vote, numbers in differences.items():\n",
        "  print(vote)\n",
        "  print(f'mean difference: {numbers[\"mean_dif\"]}')\n",
        "  print(f'min difference:  {numbers[\"min_dif\"]}')\n",
        "  print(f'max difference:  {numbers[\"max_dif\"]}\\n')"
      ],
      "execution_count": 108,
      "outputs": [
        {
          "output_type": "stream",
          "text": [
            "handicapped-infants\n",
            "mean difference: 0.0\n",
            "min difference:  0.0\n",
            "max difference:  0.0\n",
            "\n",
            "water-project-cost-sharing\n",
            "mean difference: 0.0\n",
            "min difference:  0.0\n",
            "max difference:  0.0\n",
            "\n",
            "adoption-of-the-budget-resolution\n",
            "mean difference: 0.0\n",
            "min difference:  0.0\n",
            "max difference:  0.0\n",
            "\n",
            "physician-fee-freeze\n",
            "mean difference: 0.0\n",
            "min difference:  0.0\n",
            "max difference:  0.0\n",
            "\n",
            "el-salvador-aid\n",
            "mean difference: 0.0\n",
            "min difference:  -5.551115123125783e-17\n",
            "max difference:  0.0\n",
            "\n",
            "religious-groups-in-schools\n",
            "mean difference: 0.0\n",
            "min difference:  0.0\n",
            "max difference:  0.0\n",
            "\n",
            "anti-satellite-test-ban\n",
            "mean difference: 0.0\n",
            "min difference:  1.1102230246251565e-16\n",
            "max difference:  -1.1102230246251565e-16\n",
            "\n",
            "aid-to-nicaraguan-contras\n",
            "mean difference: 0.0\n",
            "min difference:  0.0\n",
            "max difference:  0.0\n",
            "\n",
            "mx-missile\n",
            "mean difference: 0.0\n",
            "min difference:  0.0\n",
            "max difference:  0.0\n",
            "\n",
            "immigration\n",
            "mean difference: 0.0\n",
            "min difference:  0.0\n",
            "max difference:  0.0\n",
            "\n",
            "synfuels-corporation-cutback\n",
            "mean difference: 0.0\n",
            "min difference:  0.0\n",
            "max difference:  0.0\n",
            "\n",
            "education-spending\n",
            "mean difference: 0.0\n",
            "min difference:  0.0\n",
            "max difference:  0.0\n",
            "\n",
            "superfund-right-to-sue\n",
            "mean difference: 0.0\n",
            "min difference:  0.0\n",
            "max difference:  0.0\n",
            "\n",
            "crime\n",
            "mean difference: 0.0\n",
            "min difference:  0.0\n",
            "max difference:  0.0\n",
            "\n",
            "duty-free-exports\n",
            "mean difference: 0.0\n",
            "min difference:  0.0\n",
            "max difference:  0.0\n",
            "\n",
            "export-administration-act-south-africa\n",
            "mean difference: 0.0\n",
            "min difference:  0.0\n",
            "max difference:  0.0\n",
            "\n"
          ],
          "name": "stdout"
        }
      ]
    },
    {
      "cell_type": "markdown",
      "metadata": {
        "id": "uWgWjp3PQ3Sq",
        "colab_type": "text"
      },
      "source": [
        "## Resources"
      ]
    },
    {
      "cell_type": "markdown",
      "metadata": {
        "id": "QRgHqmYIQ9qn",
        "colab_type": "text"
      },
      "source": [
        "- [Worked example of Bayes rule calculation](https://en.wikipedia.org/wiki/Bayes'_theorem#Examples) (helpful as it fully breaks out the denominator)\n",
        "- [Source code for mvsdist in scipy](https://github.com/scipy/scipy/blob/90534919e139d2a81c24bf08341734ff41a3db12/scipy/stats/morestats.py#L139)"
      ]
    }
  ]
}