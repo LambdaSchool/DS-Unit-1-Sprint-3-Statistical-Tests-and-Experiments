{
  "nbformat": 4,
  "nbformat_minor": 0,
  "metadata": {
    "colab": {
      "name": "Marilyn_Landim_Esko_LS_DSPT3_133_Introduction_to_Bayesian_Inference_Assignment.ipynb",
      "provenance": [],
      "collapsed_sections": [],
      "include_colab_link": true
    },
    "kernelspec": {
      "name": "python3",
      "display_name": "Python 3"
    }
  },
  "cells": [
    {
      "cell_type": "markdown",
      "metadata": {
        "id": "view-in-github",
        "colab_type": "text"
      },
      "source": [
        "<a href=\"https://colab.research.google.com/github/marilynle/DS-Unit-1-Sprint-3-Statistical-Tests-and-Experiments/blob/master/module3-introduction-to-bayesian-inference/Marilyn_Landim_Esko_LS_DSPT3_133_Introduction_to_Bayesian_Inference_Assignment.ipynb\" target=\"_parent\"><img src=\"https://colab.research.google.com/assets/colab-badge.svg\" alt=\"Open In Colab\"/></a>"
      ]
    },
    {
      "cell_type": "markdown",
      "metadata": {
        "id": "H7OLbevlbd_Z",
        "colab_type": "text"
      },
      "source": [
        "# Lambda School Data Science Module 133\n",
        "\n",
        "## Introduction to Bayesian Inference\n",
        "\n",
        "\n"
      ]
    },
    {
      "cell_type": "markdown",
      "metadata": {
        "id": "P-DzzRk5bf0z",
        "colab_type": "text"
      },
      "source": [
        "## Assignment - Code it up!\n",
        "\n",
        "Most of the above was pure math - now write Python code to reproduce the results! This is purposefully open ended - you'll have to think about how you should represent probabilities and events. You can and should look things up, and as a stretch goal - refactor your code into helpful reusable functions!\n",
        "\n",
        "Specific goals/targets:\n",
        "\n",
        "1. Write a function `def prob_drunk_given_positive(prob_drunk_prior, prob_positive, prob_positive_drunk)` that reproduces the example from lecture, and use it to calculate and visualize a range of situations\n",
        "2. Explore `scipy.stats.bayes_mvs` - read its documentation, and experiment with it on data you've tested in other ways earlier this week\n",
        "3. Create a visualization comparing the results of a Bayesian approach to a traditional/frequentist approach\n",
        "4. In your own words, summarize the difference between Bayesian and Frequentist statistics\n",
        "\n",
        "If you're unsure where to start, check out [this blog post of Bayes theorem with Python](https://dataconomy.com/2015/02/introduction-to-bayes-theorem-with-python/) - you could and should create something similar!\n",
        "\n",
        "Stretch goals:\n",
        "\n",
        "- Apply a Bayesian technique to a problem you previously worked (in an assignment or project work) on from a frequentist (standard) perspective\n",
        "- Check out [PyMC3](https://docs.pymc.io/) (note this goes beyond hypothesis tests into modeling) - read the guides and work through some examples\n",
        "- Take PyMC3 further - see if you can build something with it!"
      ]
    },
    {
      "cell_type": "code",
      "metadata": {
        "id": "xpVhZyUnbf7o",
        "colab_type": "code",
        "colab": {}
      },
      "source": [
        "%matplotlib inline\n",
        "import matplotlib.pyplot as plt\n",
        "import seaborn as sns\n",
        "import pandas as pd\n",
        "import numpy as np\n",
        "import scipy\n"
      ],
      "execution_count": 0,
      "outputs": []
    },
    {
      "cell_type": "code",
      "metadata": {
        "id": "J1cb_P9TdRl7",
        "colab_type": "code",
        "colab": {
          "base_uri": "https://localhost:8080/",
          "height": 204
        },
        "outputId": "633de9c4-9ec0-4e1f-a9d3-a9b54e24671f"
      },
      "source": [
        " # Loading the data\n",
        "  !wget https://archive.ics.uci.edu/ml/machine-learning-databases/voting-records/house-votes-84.data\n",
        "    "
      ],
      "execution_count": 2,
      "outputs": [
        {
          "output_type": "stream",
          "text": [
            "--2019-10-09 05:18:02--  https://archive.ics.uci.edu/ml/machine-learning-databases/voting-records/house-votes-84.data\n",
            "Resolving archive.ics.uci.edu (archive.ics.uci.edu)... 128.195.10.252\n",
            "Connecting to archive.ics.uci.edu (archive.ics.uci.edu)|128.195.10.252|:443... connected.\n",
            "HTTP request sent, awaiting response... 200 OK\n",
            "Length: 18171 (18K) [application/x-httpd-php]\n",
            "Saving to: ‘house-votes-84.data’\n",
            "\n",
            "\rhouse-votes-84.data   0%[                    ]       0  --.-KB/s               \rhouse-votes-84.data 100%[===================>]  17.75K  --.-KB/s    in 0.06s   \n",
            "\n",
            "2019-10-09 05:18:03 (286 KB/s) - ‘house-votes-84.data’ saved [18171/18171]\n",
            "\n"
          ],
          "name": "stdout"
        }
      ]
    },
    {
      "cell_type": "code",
      "metadata": {
        "id": "a4T9e1QbdRq6",
        "colab_type": "code",
        "colab": {
          "base_uri": "https://localhost:8080/",
          "height": 379
        },
        "outputId": "2b1ab1b3-ef20-4898-d8bb-71ccec3800b5"
      },
      "source": [
        "# Adding a header row and cleaning the data\n",
        "df = pd.read_csv('house-votes-84.data',\n",
        "               header=None,\n",
        "               names=['class_name','handicapped_infants','water_project',\n",
        "                        'budget_resolution','physician_fee_freeze', 'el_salvador_aid',\n",
        "                        'religious_groups_in_schools','anti_satellite_test_ban',\n",
        "                        'aid_to_nicaraguan_contras','mx_missile','immigration',\n",
        "                        'synfuels_corporation_cutback', 'education_spending', 'superfund_right_to_sue','crime','duty_free_exports',\n",
        "                        'export_administration_act_south_africa'])\n",
        "df = df.replace({'?':float(0),'n':float(0),'y':float(1)})\n",
        "df.sample(10)\n"
      ],
      "execution_count": 3,
      "outputs": [
        {
          "output_type": "execute_result",
          "data": {
            "text/html": [
              "<div>\n",
              "<style scoped>\n",
              "    .dataframe tbody tr th:only-of-type {\n",
              "        vertical-align: middle;\n",
              "    }\n",
              "\n",
              "    .dataframe tbody tr th {\n",
              "        vertical-align: top;\n",
              "    }\n",
              "\n",
              "    .dataframe thead th {\n",
              "        text-align: right;\n",
              "    }\n",
              "</style>\n",
              "<table border=\"1\" class=\"dataframe\">\n",
              "  <thead>\n",
              "    <tr style=\"text-align: right;\">\n",
              "      <th></th>\n",
              "      <th>class_name</th>\n",
              "      <th>handicapped_infants</th>\n",
              "      <th>water_project</th>\n",
              "      <th>budget_resolution</th>\n",
              "      <th>physician_fee_freeze</th>\n",
              "      <th>el_salvador_aid</th>\n",
              "      <th>religious_groups_in_schools</th>\n",
              "      <th>anti_satellite_test_ban</th>\n",
              "      <th>aid_to_nicaraguan_contras</th>\n",
              "      <th>mx_missile</th>\n",
              "      <th>immigration</th>\n",
              "      <th>synfuels_corporation_cutback</th>\n",
              "      <th>education_spending</th>\n",
              "      <th>superfund_right_to_sue</th>\n",
              "      <th>crime</th>\n",
              "      <th>duty_free_exports</th>\n",
              "      <th>export_administration_act_south_africa</th>\n",
              "    </tr>\n",
              "  </thead>\n",
              "  <tbody>\n",
              "    <tr>\n",
              "      <th>96</th>\n",
              "      <td>democrat</td>\n",
              "      <td>0.0</td>\n",
              "      <td>0.0</td>\n",
              "      <td>0.0</td>\n",
              "      <td>0.0</td>\n",
              "      <td>1.0</td>\n",
              "      <td>1.0</td>\n",
              "      <td>0.0</td>\n",
              "      <td>0.0</td>\n",
              "      <td>0.0</td>\n",
              "      <td>0.0</td>\n",
              "      <td>1.0</td>\n",
              "      <td>1.0</td>\n",
              "      <td>1.0</td>\n",
              "      <td>1.0</td>\n",
              "      <td>0.0</td>\n",
              "      <td>1.0</td>\n",
              "    </tr>\n",
              "    <tr>\n",
              "      <th>75</th>\n",
              "      <td>democrat</td>\n",
              "      <td>0.0</td>\n",
              "      <td>1.0</td>\n",
              "      <td>1.0</td>\n",
              "      <td>1.0</td>\n",
              "      <td>1.0</td>\n",
              "      <td>1.0</td>\n",
              "      <td>0.0</td>\n",
              "      <td>0.0</td>\n",
              "      <td>0.0</td>\n",
              "      <td>1.0</td>\n",
              "      <td>1.0</td>\n",
              "      <td>0.0</td>\n",
              "      <td>1.0</td>\n",
              "      <td>1.0</td>\n",
              "      <td>0.0</td>\n",
              "      <td>0.0</td>\n",
              "    </tr>\n",
              "    <tr>\n",
              "      <th>240</th>\n",
              "      <td>republican</td>\n",
              "      <td>0.0</td>\n",
              "      <td>0.0</td>\n",
              "      <td>0.0</td>\n",
              "      <td>1.0</td>\n",
              "      <td>0.0</td>\n",
              "      <td>1.0</td>\n",
              "      <td>1.0</td>\n",
              "      <td>0.0</td>\n",
              "      <td>1.0</td>\n",
              "      <td>0.0</td>\n",
              "      <td>0.0</td>\n",
              "      <td>1.0</td>\n",
              "      <td>1.0</td>\n",
              "      <td>1.0</td>\n",
              "      <td>0.0</td>\n",
              "      <td>1.0</td>\n",
              "    </tr>\n",
              "    <tr>\n",
              "      <th>282</th>\n",
              "      <td>republican</td>\n",
              "      <td>1.0</td>\n",
              "      <td>0.0</td>\n",
              "      <td>0.0</td>\n",
              "      <td>1.0</td>\n",
              "      <td>1.0</td>\n",
              "      <td>1.0</td>\n",
              "      <td>0.0</td>\n",
              "      <td>0.0</td>\n",
              "      <td>0.0</td>\n",
              "      <td>1.0</td>\n",
              "      <td>0.0</td>\n",
              "      <td>0.0</td>\n",
              "      <td>1.0</td>\n",
              "      <td>1.0</td>\n",
              "      <td>0.0</td>\n",
              "      <td>0.0</td>\n",
              "    </tr>\n",
              "    <tr>\n",
              "      <th>232</th>\n",
              "      <td>democrat</td>\n",
              "      <td>0.0</td>\n",
              "      <td>1.0</td>\n",
              "      <td>1.0</td>\n",
              "      <td>0.0</td>\n",
              "      <td>0.0</td>\n",
              "      <td>0.0</td>\n",
              "      <td>1.0</td>\n",
              "      <td>1.0</td>\n",
              "      <td>0.0</td>\n",
              "      <td>0.0</td>\n",
              "      <td>1.0</td>\n",
              "      <td>0.0</td>\n",
              "      <td>0.0</td>\n",
              "      <td>0.0</td>\n",
              "      <td>1.0</td>\n",
              "      <td>0.0</td>\n",
              "    </tr>\n",
              "    <tr>\n",
              "      <th>33</th>\n",
              "      <td>republican</td>\n",
              "      <td>0.0</td>\n",
              "      <td>1.0</td>\n",
              "      <td>0.0</td>\n",
              "      <td>1.0</td>\n",
              "      <td>1.0</td>\n",
              "      <td>1.0</td>\n",
              "      <td>0.0</td>\n",
              "      <td>0.0</td>\n",
              "      <td>0.0</td>\n",
              "      <td>0.0</td>\n",
              "      <td>0.0</td>\n",
              "      <td>1.0</td>\n",
              "      <td>1.0</td>\n",
              "      <td>1.0</td>\n",
              "      <td>0.0</td>\n",
              "      <td>1.0</td>\n",
              "    </tr>\n",
              "    <tr>\n",
              "      <th>107</th>\n",
              "      <td>republican</td>\n",
              "      <td>0.0</td>\n",
              "      <td>0.0</td>\n",
              "      <td>0.0</td>\n",
              "      <td>0.0</td>\n",
              "      <td>0.0</td>\n",
              "      <td>0.0</td>\n",
              "      <td>0.0</td>\n",
              "      <td>0.0</td>\n",
              "      <td>0.0</td>\n",
              "      <td>0.0</td>\n",
              "      <td>0.0</td>\n",
              "      <td>0.0</td>\n",
              "      <td>0.0</td>\n",
              "      <td>1.0</td>\n",
              "      <td>0.0</td>\n",
              "      <td>0.0</td>\n",
              "    </tr>\n",
              "    <tr>\n",
              "      <th>278</th>\n",
              "      <td>republican</td>\n",
              "      <td>0.0</td>\n",
              "      <td>0.0</td>\n",
              "      <td>0.0</td>\n",
              "      <td>1.0</td>\n",
              "      <td>1.0</td>\n",
              "      <td>1.0</td>\n",
              "      <td>0.0</td>\n",
              "      <td>0.0</td>\n",
              "      <td>0.0</td>\n",
              "      <td>0.0</td>\n",
              "      <td>0.0</td>\n",
              "      <td>1.0</td>\n",
              "      <td>1.0</td>\n",
              "      <td>1.0</td>\n",
              "      <td>0.0</td>\n",
              "      <td>1.0</td>\n",
              "    </tr>\n",
              "    <tr>\n",
              "      <th>369</th>\n",
              "      <td>republican</td>\n",
              "      <td>0.0</td>\n",
              "      <td>1.0</td>\n",
              "      <td>0.0</td>\n",
              "      <td>1.0</td>\n",
              "      <td>1.0</td>\n",
              "      <td>1.0</td>\n",
              "      <td>0.0</td>\n",
              "      <td>0.0</td>\n",
              "      <td>0.0</td>\n",
              "      <td>0.0</td>\n",
              "      <td>0.0</td>\n",
              "      <td>0.0</td>\n",
              "      <td>1.0</td>\n",
              "      <td>1.0</td>\n",
              "      <td>0.0</td>\n",
              "      <td>1.0</td>\n",
              "    </tr>\n",
              "    <tr>\n",
              "      <th>303</th>\n",
              "      <td>republican</td>\n",
              "      <td>0.0</td>\n",
              "      <td>0.0</td>\n",
              "      <td>0.0</td>\n",
              "      <td>1.0</td>\n",
              "      <td>1.0</td>\n",
              "      <td>1.0</td>\n",
              "      <td>0.0</td>\n",
              "      <td>0.0</td>\n",
              "      <td>0.0</td>\n",
              "      <td>0.0</td>\n",
              "      <td>0.0</td>\n",
              "      <td>1.0</td>\n",
              "      <td>1.0</td>\n",
              "      <td>1.0</td>\n",
              "      <td>0.0</td>\n",
              "      <td>0.0</td>\n",
              "    </tr>\n",
              "  </tbody>\n",
              "</table>\n",
              "</div>"
            ],
            "text/plain": [
              "     class_name  ...  export_administration_act_south_africa\n",
              "96     democrat  ...                                     1.0\n",
              "75     democrat  ...                                     0.0\n",
              "240  republican  ...                                     1.0\n",
              "282  republican  ...                                     0.0\n",
              "232    democrat  ...                                     0.0\n",
              "33   republican  ...                                     1.0\n",
              "107  republican  ...                                     0.0\n",
              "278  republican  ...                                     1.0\n",
              "369  republican  ...                                     1.0\n",
              "303  republican  ...                                     0.0\n",
              "\n",
              "[10 rows x 17 columns]"
            ]
          },
          "metadata": {
            "tags": []
          },
          "execution_count": 3
        }
      ]
    },
    {
      "cell_type": "code",
      "metadata": {
        "id": "QZ6nAyWOemu3",
        "colab_type": "code",
        "colab": {
          "base_uri": "https://localhost:8080/",
          "height": 317
        },
        "outputId": "404c5913-4db8-4760-c9f2-2896e10db896"
      },
      "source": [
        "df.describe()\n"
      ],
      "execution_count": 4,
      "outputs": [
        {
          "output_type": "execute_result",
          "data": {
            "text/html": [
              "<div>\n",
              "<style scoped>\n",
              "    .dataframe tbody tr th:only-of-type {\n",
              "        vertical-align: middle;\n",
              "    }\n",
              "\n",
              "    .dataframe tbody tr th {\n",
              "        vertical-align: top;\n",
              "    }\n",
              "\n",
              "    .dataframe thead th {\n",
              "        text-align: right;\n",
              "    }\n",
              "</style>\n",
              "<table border=\"1\" class=\"dataframe\">\n",
              "  <thead>\n",
              "    <tr style=\"text-align: right;\">\n",
              "      <th></th>\n",
              "      <th>handicapped_infants</th>\n",
              "      <th>water_project</th>\n",
              "      <th>budget_resolution</th>\n",
              "      <th>physician_fee_freeze</th>\n",
              "      <th>el_salvador_aid</th>\n",
              "      <th>religious_groups_in_schools</th>\n",
              "      <th>anti_satellite_test_ban</th>\n",
              "      <th>aid_to_nicaraguan_contras</th>\n",
              "      <th>mx_missile</th>\n",
              "      <th>immigration</th>\n",
              "      <th>synfuels_corporation_cutback</th>\n",
              "      <th>education_spending</th>\n",
              "      <th>superfund_right_to_sue</th>\n",
              "      <th>crime</th>\n",
              "      <th>duty_free_exports</th>\n",
              "      <th>export_administration_act_south_africa</th>\n",
              "    </tr>\n",
              "  </thead>\n",
              "  <tbody>\n",
              "    <tr>\n",
              "      <th>count</th>\n",
              "      <td>435.000000</td>\n",
              "      <td>435.000000</td>\n",
              "      <td>435.000000</td>\n",
              "      <td>435.000000</td>\n",
              "      <td>435.000000</td>\n",
              "      <td>435.000000</td>\n",
              "      <td>435.000000</td>\n",
              "      <td>435.000000</td>\n",
              "      <td>435.000000</td>\n",
              "      <td>435.000000</td>\n",
              "      <td>435.000000</td>\n",
              "      <td>435.000000</td>\n",
              "      <td>435.000000</td>\n",
              "      <td>435.000000</td>\n",
              "      <td>435.000000</td>\n",
              "      <td>435.000000</td>\n",
              "    </tr>\n",
              "    <tr>\n",
              "      <th>mean</th>\n",
              "      <td>0.429885</td>\n",
              "      <td>0.448276</td>\n",
              "      <td>0.581609</td>\n",
              "      <td>0.406897</td>\n",
              "      <td>0.487356</td>\n",
              "      <td>0.625287</td>\n",
              "      <td>0.549425</td>\n",
              "      <td>0.556322</td>\n",
              "      <td>0.475862</td>\n",
              "      <td>0.496552</td>\n",
              "      <td>0.344828</td>\n",
              "      <td>0.393103</td>\n",
              "      <td>0.480460</td>\n",
              "      <td>0.570115</td>\n",
              "      <td>0.400000</td>\n",
              "      <td>0.618391</td>\n",
              "    </tr>\n",
              "    <tr>\n",
              "      <th>std</th>\n",
              "      <td>0.495630</td>\n",
              "      <td>0.497890</td>\n",
              "      <td>0.493863</td>\n",
              "      <td>0.491821</td>\n",
              "      <td>0.500416</td>\n",
              "      <td>0.484606</td>\n",
              "      <td>0.498124</td>\n",
              "      <td>0.497390</td>\n",
              "      <td>0.499992</td>\n",
              "      <td>0.500564</td>\n",
              "      <td>0.475859</td>\n",
              "      <td>0.489002</td>\n",
              "      <td>0.500193</td>\n",
              "      <td>0.495630</td>\n",
              "      <td>0.490462</td>\n",
              "      <td>0.486341</td>\n",
              "    </tr>\n",
              "    <tr>\n",
              "      <th>min</th>\n",
              "      <td>0.000000</td>\n",
              "      <td>0.000000</td>\n",
              "      <td>0.000000</td>\n",
              "      <td>0.000000</td>\n",
              "      <td>0.000000</td>\n",
              "      <td>0.000000</td>\n",
              "      <td>0.000000</td>\n",
              "      <td>0.000000</td>\n",
              "      <td>0.000000</td>\n",
              "      <td>0.000000</td>\n",
              "      <td>0.000000</td>\n",
              "      <td>0.000000</td>\n",
              "      <td>0.000000</td>\n",
              "      <td>0.000000</td>\n",
              "      <td>0.000000</td>\n",
              "      <td>0.000000</td>\n",
              "    </tr>\n",
              "    <tr>\n",
              "      <th>25%</th>\n",
              "      <td>0.000000</td>\n",
              "      <td>0.000000</td>\n",
              "      <td>0.000000</td>\n",
              "      <td>0.000000</td>\n",
              "      <td>0.000000</td>\n",
              "      <td>0.000000</td>\n",
              "      <td>0.000000</td>\n",
              "      <td>0.000000</td>\n",
              "      <td>0.000000</td>\n",
              "      <td>0.000000</td>\n",
              "      <td>0.000000</td>\n",
              "      <td>0.000000</td>\n",
              "      <td>0.000000</td>\n",
              "      <td>0.000000</td>\n",
              "      <td>0.000000</td>\n",
              "      <td>0.000000</td>\n",
              "    </tr>\n",
              "    <tr>\n",
              "      <th>50%</th>\n",
              "      <td>0.000000</td>\n",
              "      <td>0.000000</td>\n",
              "      <td>1.000000</td>\n",
              "      <td>0.000000</td>\n",
              "      <td>0.000000</td>\n",
              "      <td>1.000000</td>\n",
              "      <td>1.000000</td>\n",
              "      <td>1.000000</td>\n",
              "      <td>0.000000</td>\n",
              "      <td>0.000000</td>\n",
              "      <td>0.000000</td>\n",
              "      <td>0.000000</td>\n",
              "      <td>0.000000</td>\n",
              "      <td>1.000000</td>\n",
              "      <td>0.000000</td>\n",
              "      <td>1.000000</td>\n",
              "    </tr>\n",
              "    <tr>\n",
              "      <th>75%</th>\n",
              "      <td>1.000000</td>\n",
              "      <td>1.000000</td>\n",
              "      <td>1.000000</td>\n",
              "      <td>1.000000</td>\n",
              "      <td>1.000000</td>\n",
              "      <td>1.000000</td>\n",
              "      <td>1.000000</td>\n",
              "      <td>1.000000</td>\n",
              "      <td>1.000000</td>\n",
              "      <td>1.000000</td>\n",
              "      <td>1.000000</td>\n",
              "      <td>1.000000</td>\n",
              "      <td>1.000000</td>\n",
              "      <td>1.000000</td>\n",
              "      <td>1.000000</td>\n",
              "      <td>1.000000</td>\n",
              "    </tr>\n",
              "    <tr>\n",
              "      <th>max</th>\n",
              "      <td>1.000000</td>\n",
              "      <td>1.000000</td>\n",
              "      <td>1.000000</td>\n",
              "      <td>1.000000</td>\n",
              "      <td>1.000000</td>\n",
              "      <td>1.000000</td>\n",
              "      <td>1.000000</td>\n",
              "      <td>1.000000</td>\n",
              "      <td>1.000000</td>\n",
              "      <td>1.000000</td>\n",
              "      <td>1.000000</td>\n",
              "      <td>1.000000</td>\n",
              "      <td>1.000000</td>\n",
              "      <td>1.000000</td>\n",
              "      <td>1.000000</td>\n",
              "      <td>1.000000</td>\n",
              "    </tr>\n",
              "  </tbody>\n",
              "</table>\n",
              "</div>"
            ],
            "text/plain": [
              "       handicapped_infants  ...  export_administration_act_south_africa\n",
              "count           435.000000  ...                              435.000000\n",
              "mean              0.429885  ...                                0.618391\n",
              "std               0.495630  ...                                0.486341\n",
              "min               0.000000  ...                                0.000000\n",
              "25%               0.000000  ...                                0.000000\n",
              "50%               0.000000  ...                                1.000000\n",
              "75%               1.000000  ...                                1.000000\n",
              "max               1.000000  ...                                1.000000\n",
              "\n",
              "[8 rows x 16 columns]"
            ]
          },
          "metadata": {
            "tags": []
          },
          "execution_count": 4
        }
      ]
    },
    {
      "cell_type": "code",
      "metadata": {
        "id": "0cFlhwK8em3C",
        "colab_type": "code",
        "colab": {}
      },
      "source": [
        "# The samples\n",
        "df_democrat = df[df['class_name'] == 'democrat']\n",
        "df_republican = df[df['class_name'] == 'republican']\n"
      ],
      "execution_count": 0,
      "outputs": []
    },
    {
      "cell_type": "code",
      "metadata": {
        "id": "pJYGEj3AeylN",
        "colab_type": "code",
        "colab": {
          "base_uri": "https://localhost:8080/",
          "height": 34
        },
        "outputId": "749d10ac-0379-4fe3-f095-5e58bc16fbbc"
      },
      "source": [
        "df_democrat.shape"
      ],
      "execution_count": 6,
      "outputs": [
        {
          "output_type": "execute_result",
          "data": {
            "text/plain": [
              "(267, 17)"
            ]
          },
          "metadata": {
            "tags": []
          },
          "execution_count": 6
        }
      ]
    },
    {
      "cell_type": "code",
      "metadata": {
        "id": "7ctL5E-oeyqB",
        "colab_type": "code",
        "colab": {
          "base_uri": "https://localhost:8080/",
          "height": 34
        },
        "outputId": "028e3803-847c-4a72-fc42-365f2d873586"
      },
      "source": [
        "df_republican.shape\n"
      ],
      "execution_count": 7,
      "outputs": [
        {
          "output_type": "execute_result",
          "data": {
            "text/plain": [
              "(168, 17)"
            ]
          },
          "metadata": {
            "tags": []
          },
          "execution_count": 7
        }
      ]
    },
    {
      "cell_type": "code",
      "metadata": {
        "id": "sQ7yjQo_eeO-",
        "colab_type": "code",
        "colab": {}
      },
      "source": [
        "issues =['handicapped_infants','water_project',\n",
        "                        'budget_resolution','physician_fee_freeze', 'el_salvador_aid',\n",
        "                        'religious_groups_in_schools','anti_satellite_test_ban',\n",
        "                        'aid_to_nicaraguan_contras','mx_missile','immigration',\n",
        "                        'synfuels_corporation_cutback', 'education_spending', 'superfund_right_to_sue','crime','duty_free_exports',\n",
        "                        'export_administration_act_south_africa']\n"
      ],
      "execution_count": 0,
      "outputs": []
    },
    {
      "cell_type": "code",
      "metadata": {
        "id": "f9J2u6pv1saA",
        "colab_type": "code",
        "colab": {}
      },
      "source": [
        "def bayesian_credibility_region(data, frac=0.95):\n",
        "    \n",
        "    data = np.asarray(data)\n",
        "    theta2 = data.min()\n",
        "    theta1 = theta2 + np.log(1. - frac) / float(data.size)\n",
        "    return theta1, theta2\n",
        "  "
      ],
      "execution_count": 0,
      "outputs": []
    },
    {
      "cell_type": "code",
      "metadata": {
        "id": "PBy6E5kT0bsu",
        "colab_type": "code",
        "colab": {
          "base_uri": "https://localhost:8080/",
          "height": 833
        },
        "outputId": "403c5cfa-bf8c-4f95-d58b-de243371c083"
      },
      "source": [
        "# Democrats\n",
        "for issue in issues: # calling the function for each issue  \n",
        "    print(\"\") \n",
        "    print(issue)\n",
        "    print(bayesian_credibility_region(df_democrat[issue],0.95))\n",
        "    "
      ],
      "execution_count": 10,
      "outputs": [
        {
          "output_type": "stream",
          "text": [
            "\n",
            "handicapped_infants\n",
            "(-0.011219971061999963, 0.0)\n",
            "\n",
            "water_project\n",
            "(-0.011219971061999963, 0.0)\n",
            "\n",
            "budget_resolution\n",
            "(-0.011219971061999963, 0.0)\n",
            "\n",
            "physician_fee_freeze\n",
            "(-0.011219971061999963, 0.0)\n",
            "\n",
            "el_salvador_aid\n",
            "(-0.011219971061999963, 0.0)\n",
            "\n",
            "religious_groups_in_schools\n",
            "(-0.011219971061999963, 0.0)\n",
            "\n",
            "anti_satellite_test_ban\n",
            "(-0.011219971061999963, 0.0)\n",
            "\n",
            "aid_to_nicaraguan_contras\n",
            "(-0.011219971061999963, 0.0)\n",
            "\n",
            "mx_missile\n",
            "(-0.011219971061999963, 0.0)\n",
            "\n",
            "immigration\n",
            "(-0.011219971061999963, 0.0)\n",
            "\n",
            "synfuels_corporation_cutback\n",
            "(-0.011219971061999963, 0.0)\n",
            "\n",
            "education_spending\n",
            "(-0.011219971061999963, 0.0)\n",
            "\n",
            "superfund_right_to_sue\n",
            "(-0.011219971061999963, 0.0)\n",
            "\n",
            "crime\n",
            "(-0.011219971061999963, 0.0)\n",
            "\n",
            "duty_free_exports\n",
            "(-0.011219971061999963, 0.0)\n",
            "\n",
            "export_administration_act_south_africa\n",
            "(-0.011219971061999963, 0.0)\n"
          ],
          "name": "stdout"
        }
      ]
    },
    {
      "cell_type": "code",
      "metadata": {
        "id": "UYRqUJ-h8ygh",
        "colab_type": "code",
        "colab": {
          "base_uri": "https://localhost:8080/",
          "height": 833
        },
        "outputId": "5617c88a-9f54-4fb5-a04b-bf726f69b660"
      },
      "source": [
        "# Republicans\n",
        "for issue in issues: # calling the function for each issue  \n",
        "    print(\"\") \n",
        "    print(issue)\n",
        "    print(bayesian_credibility_region(df_republican[issue],0.95))"
      ],
      "execution_count": 11,
      "outputs": [
        {
          "output_type": "stream",
          "text": [
            "\n",
            "handicapped_infants\n",
            "(-0.017831739723535654, 0.0)\n",
            "\n",
            "water_project\n",
            "(-0.017831739723535654, 0.0)\n",
            "\n",
            "budget_resolution\n",
            "(-0.017831739723535654, 0.0)\n",
            "\n",
            "physician_fee_freeze\n",
            "(-0.017831739723535654, 0.0)\n",
            "\n",
            "el_salvador_aid\n",
            "(-0.017831739723535654, 0.0)\n",
            "\n",
            "religious_groups_in_schools\n",
            "(-0.017831739723535654, 0.0)\n",
            "\n",
            "anti_satellite_test_ban\n",
            "(-0.017831739723535654, 0.0)\n",
            "\n",
            "aid_to_nicaraguan_contras\n",
            "(-0.017831739723535654, 0.0)\n",
            "\n",
            "mx_missile\n",
            "(-0.017831739723535654, 0.0)\n",
            "\n",
            "immigration\n",
            "(-0.017831739723535654, 0.0)\n",
            "\n",
            "synfuels_corporation_cutback\n",
            "(-0.017831739723535654, 0.0)\n",
            "\n",
            "education_spending\n",
            "(-0.017831739723535654, 0.0)\n",
            "\n",
            "superfund_right_to_sue\n",
            "(-0.017831739723535654, 0.0)\n",
            "\n",
            "crime\n",
            "(-0.017831739723535654, 0.0)\n",
            "\n",
            "duty_free_exports\n",
            "(-0.017831739723535654, 0.0)\n",
            "\n",
            "export_administration_act_south_africa\n",
            "(-0.017831739723535654, 0.0)\n"
          ],
          "name": "stdout"
        }
      ]
    },
    {
      "cell_type": "code",
      "metadata": {
        "id": "dxzM-H0Z7KAN",
        "colab_type": "code",
        "colab": {
          "base_uri": "https://localhost:8080/",
          "height": 34
        },
        "outputId": "402acddb-fde1-435e-b93a-096e5ad52d07"
      },
      "source": [
        "from scipy import stats\n",
        "mean, var, std = stats.bayes_mvs(df_democrat[issues])\n",
        "mean\n"
      ],
      "execution_count": 14,
      "outputs": [
        {
          "output_type": "execute_result",
          "data": {
            "text/plain": [
              "Mean(statistic=0.4892322097378277, minmax=(0.47665220203751363, 0.5018122174381417))"
            ]
          },
          "metadata": {
            "tags": []
          },
          "execution_count": 14
        }
      ]
    },
    {
      "cell_type": "code",
      "metadata": {
        "id": "0Cd--_-79X5B",
        "colab_type": "code",
        "colab": {}
      },
      "source": [
        "from scipy import stats # Estimation of mean, variance and standard deviation with 95% confidence intervals for those estimates.\n",
        "def bayes (data):\n",
        "    mean, var, std = stats.bayes_mvs(data)\n",
        "    return mean, var, std\n",
        "  "
      ],
      "execution_count": 0,
      "outputs": []
    },
    {
      "cell_type": "code",
      "metadata": {
        "id": "QMA-aGi_-XFp",
        "colab_type": "code",
        "colab": {
          "base_uri": "https://localhost:8080/",
          "height": 853
        },
        "outputId": "d73a1ab8-d86e-45a1-ea93-12b9cbb9e38d"
      },
      "source": [
        "# Democrats\n",
        "for issue in issues: # calling the function for each issue  \n",
        "    print(\"\") \n",
        "    print(issue)\n",
        "    print(bayes(df_democrat[issue]))\n",
        "    "
      ],
      "execution_count": 18,
      "outputs": [
        {
          "output_type": "stream",
          "text": [
            "\n",
            "handicapped_infants\n",
            "(Mean(statistic=0.5842696629213483, minmax=(0.5343910772661137, 0.6341482485765829)), Variance(statistic=0.24565883554647602, minmax=(0.212607048390764, 0.28291854268118294)), Std_dev(statistic=0.4951706918050381, minmax=(0.4610933185275667, 0.5319008767441382)))\n",
            "\n",
            "water_project\n",
            "(Mean(statistic=0.449438202247191, minmax=(0.3990951396569604, 0.4997812648374216)), Variance(statistic=0.25025536261491316, minmax=(0.216585142851298, 0.28821223682698466)), Std_dev(statistic=0.49978179619398716, minmax=(0.4653870892615072, 0.5368540181715926)))\n",
            "\n",
            "budget_resolution\n",
            "(Mean(statistic=0.8651685393258427, minmax=(0.8306026621838222, 0.8997344164678632)), Variance(statistic=0.11797752808988764, minmax=(0.10210442448704049, 0.13587148307557848)), Std_dev(statistic=0.34315346099766475, minmax=(0.31953782950855836, 0.3686074918874798)))\n",
            "\n",
            "physician_fee_freeze\n",
            "(Mean(statistic=0.052434456928838954, minmax=(0.029875728290617666, 0.07499318556706024)), Variance(statistic=0.05024968789013735, minmax=(0.04348892154077652, 0.057871187235894565)), Std_dev(statistic=0.2239522456238261, minmax=(0.20853997588178752, 0.24056430997946174)))\n",
            "\n",
            "el_salvador_aid\n",
            "(Mean(statistic=0.20599250936329588, minmax=(0.16506270989403343, 0.2469223088325583)), Variance(statistic=0.16541822721598004, minmax=(0.14316228830193511, 0.19050763500014975)), Std_dev(statistic=0.4063314316633827, minmax=(0.37836792715812356, 0.4364718032131626)))\n",
            "\n",
            "religious_groups_in_schools\n",
            "(Mean(statistic=0.4606741573033708, minmax=(0.4102284583933663, 0.5111198562133753)), Variance(statistic=0.2512768130745659, minmax=(0.2174691638425278, 0.2893886133038295)), Std_dev(statistic=0.5008007203835795, minmax=(0.4663358916516375, 0.5379485229125827)))\n",
            "\n",
            "anti_satellite_test_ban\n",
            "(Mean(statistic=0.7490636704119851, minmax=(0.7051860829231683, 0.7929412579008018)), Variance(statistic=0.19010327999092047, minmax=(0.16452612892332164, 0.2189367331905666)), Std_dev(statistic=0.4355956582600754, minmax=(0.40561820585782593, 0.4679067569404898)))\n",
            "\n",
            "aid_to_nicaraguan_contras\n",
            "(Mean(statistic=0.8164794007490637, minmax=(0.7773037130889953, 0.8556550884091321)), Variance(statistic=0.1515435251390308, minmax=(0.13115433650439715, 0.17452852118967407)), Std_dev(statistic=0.3889174503595476, minmax=(0.3621523664210924, 0.41776610823482807)))\n",
            "\n",
            "mx_missile\n",
            "(Mean(statistic=0.704119850187266, minmax=(0.6579261435502826, 0.7503135568242494)), Variance(statistic=0.21070253092725, minmax=(0.182353885579789, 0.24266032547360408)), Std_dev(statistic=0.4585889790576594, minmax=(0.42702913902892975, 0.49260564904759674)))\n",
            "\n",
            "immigration\n",
            "(Mean(statistic=0.46441947565543074, minmax=(0.41394530369528987, 0.5148936476155717)), Variance(statistic=0.2515605493133582, minmax=(0.21771472522898044, 0.2897153845473974)), Std_dev(statistic=0.5010833871783295, minmax=(0.4665991054738323, 0.5382521570299532)))\n",
            "\n",
            "synfuels_corporation_cutback\n",
            "(Mean(statistic=0.48314606741573035, minmax=(0.4325723660190309, 0.5337197688124298)), Variance(statistic=0.2525536261491318, minmax=(0.21857419008156506, 0.2908590838998856)), Std_dev(statistic=0.5020714677204753, minmax=(0.4675191868592829, 0.5393135302399575)))\n",
            "\n",
            "education_spending\n",
            "(Mean(statistic=0.1348314606741573, minmax=(0.1002655835321368, 0.1693973378161778)), Variance(statistic=0.11797752808988764, minmax=(0.10210442448704049, 0.13587148307557848)), Std_dev(statistic=0.34315346099766475, minmax=(0.31953782950855836, 0.3686074918874798)))\n",
            "\n",
            "superfund_right_to_sue\n",
            "(Mean(statistic=0.27340823970037453, minmax=(0.22830033682151407, 0.318516142579235)), Variance(statistic=0.2009136306889116, minmax=(0.17388201774717024, 0.2313867175705078)), Std_dev(statistic=0.44780963976783644, minmax=(0.4169916279101659, 0.48102673269841023)))\n",
            "\n",
            "crime\n",
            "(Mean(statistic=0.33707865168539325, minmax=(0.2892378741359668, 0.38491942923481964)), Variance(statistic=0.22599591419816145, minmax=(0.1955896443095906, 0.2602732955019199)), Std_dev(statistic=0.474940309642767, minmax=(0.4422551800822582, 0.5101698692611314)))\n",
            "\n",
            "duty_free_exports\n",
            "(Mean(statistic=0.599250936329588, minmax=(0.549655442170897, 0.6488464304882791)), Variance(statistic=0.24287822040631027, minmax=(0.21020054680352732, 0.27971618449421637)), Std_dev(statistic=0.492360295111825, minmax=(0.45847633178118075, 0.5288820137745435)))\n",
            "\n",
            "export_administration_act_south_africa\n",
            "(Mean(statistic=0.6479400749063671, minmax=(0.5996033389889697, 0.6962768108237645)), Variance(statistic=0.2307059357621155, minmax=(0.19966596332470565, 0.26569769814514876)), Std_dev(statistic=0.4798639466093839, minmax=(0.4468399750746409, 0.5154587259375368)))\n"
          ],
          "name": "stdout"
        }
      ]
    },
    {
      "cell_type": "markdown",
      "metadata": {
        "id": "qfRVsmSw-4q4",
        "colab_type": "text"
      },
      "source": [
        ""
      ]
    },
    {
      "cell_type": "code",
      "metadata": {
        "id": "2wLk8N6_-c2S",
        "colab_type": "code",
        "colab": {
          "base_uri": "https://localhost:8080/",
          "height": 853
        },
        "outputId": "e35c9e48-ab35-4e63-b4b3-e53edbc903fe"
      },
      "source": [
        "# Republicans\n",
        "for issue in issues: # calling the function for each issue  \n",
        "    print(\"\") \n",
        "    print(issue)\n",
        "    print(bayes(df_republican[issue]))\n",
        "    "
      ],
      "execution_count": 19,
      "outputs": [
        {
          "output_type": "stream",
          "text": [
            "\n",
            "handicapped_infants\n",
            "(Mean(statistic=0.18452380952380953, minmax=(0.1348740937591664, 0.23417352528845264)), Variance(statistic=0.15321067821067821, minmax=(0.12757622532445206, 0.18302964448976053)), Std_dev(statistic=0.39082874638177345, minmax=(0.3571781422826039, 0.4278196401402821)))\n",
            "\n",
            "water_project\n",
            "(Mean(statistic=0.44642857142857145, minmax=(0.38280064912809625, 0.5100564937290466)), Variance(statistic=0.2516233766233766, minmax=(0.2095229977956329, 0.3005961314612855)), Std_dev(statistic=0.500861298490665, minmax=(0.45773682154228423, 0.5482664785132185)))\n",
            "\n",
            "budget_resolution\n",
            "(Mean(statistic=0.13095238095238096, minmax=(0.08777429322337751, 0.17413046868138438)), Variance(statistic=0.11587301587301588, minmax=(0.09648571597413233, 0.13842505724066656)), Std_dev(statistic=0.3398858913570246, minmax=(0.31062149953622387, 0.3720551803706898)))\n",
            "\n",
            "physician_fee_freeze\n",
            "(Mean(statistic=0.9702380952380952, minmax=(0.9484883366699486, 0.9919878538062419)), Variance(statistic=0.029401154401154407, minmax=(0.024481898667159982, 0.03512341894493875)), Std_dev(statistic=0.17120804710323007, minmax=(0.1564669251540401, 0.1874124300705232)))\n",
            "\n",
            "el_salvador_aid\n",
            "(Mean(statistic=0.9345238095238095, minmax=(0.9028630153177449, 0.9661846037298741)), Variance(statistic=0.0623015873015873, minmax=(0.05187759386280403, 0.07442717118761866)), Std_dev(statistic=0.2492249616828494, minmax=(0.2277665336760518, 0.2728134365965479)))\n",
            "\n",
            "religious_groups_in_schools\n",
            "(Mean(statistic=0.8869047619047619, minmax=(0.8463683251302557, 0.927441198679268)), Variance(statistic=0.10212842712842712, minmax=(0.0850408038364784, 0.12200539758665221)), Std_dev(statistic=0.3190915501402795, minmax=(0.2916175643483746, 0.34929271046881616)))\n",
            "\n",
            "anti_satellite_test_ban\n",
            "(Mean(statistic=0.23214285714285715, minmax=(0.17810441819047634, 0.28618129609523796)), Variance(statistic=0.18149350649350648, minmax=(0.15112691066807588, 0.21681708062820465)), Std_dev(statistic=0.42537555405759114, minmax=(0.3887504478043413, 0.4656362106067404)))\n",
            "\n",
            "aid_to_nicaraguan_contras\n",
            "(Mean(statistic=0.14285714285714285, minmax=(0.09806905690433879, 0.1876452288099469)), Variance(statistic=0.1246753246753247, minmax=(0.1038152660045459, 0.14894053481436603)), Std_dev(statistic=0.3525593493576236, minmax=(0.32220376472745615, 0.3859281472170254)))\n",
            "\n",
            "mx_missile\n",
            "(Mean(statistic=0.1130952380952381, minmax=(0.07255880132073196, 0.15363167486974422)), Variance(statistic=0.10212842712842712, minmax=(0.0850408038364784, 0.12200539758665221)), Std_dev(statistic=0.3190915501402795, minmax=(0.2916175643483746, 0.34929271046881616)))\n",
            "\n",
            "immigration\n",
            "(Mean(statistic=0.5476190476190477, minmax=(0.4839136331037952, 0.6113244621343001)), Variance(statistic=0.25223665223665226, minmax=(0.21003366316660438, 0.30132876719387935)), Std_dev(statistic=0.5014712956414907, minmax=(0.4582942975497343, 0.5489342102600997)))\n",
            "\n",
            "synfuels_corporation_cutback\n",
            "(Mean(statistic=0.125, minmax=(0.08267042083193986, 0.16732957916806013)), Variance(statistic=0.11136363636363636, minmax=(0.09273082354051884, 0.13303802979512377)), Std_dev(statistic=0.33320666808131294, minmax=(0.3045173616405456, 0.3647437865065336)))\n",
            "\n",
            "education_spending\n",
            "(Mean(statistic=0.8035714285714286, minmax=(0.752720429461045, 0.8544224276818121)), Variance(statistic=0.16071428571428573, minmax=(0.13382436633398492, 0.19199365815914368)), Std_dev(statistic=0.40028491459612137, minmax=(0.36582012838823524, 0.4381708093416809)))\n",
            "\n",
            "superfund_right_to_sue\n",
            "(Mean(statistic=0.8095238095238095, minmax=(0.7592640878282395, 0.8597835312193796)), Variance(statistic=0.15699855699855697, minmax=(0.13073033496868736, 0.18755474754401638)), Std_dev(statistic=0.39563054332256, minmax=(0.3615665014470884, 0.43307591429680825)))\n",
            "\n",
            "crime\n",
            "(Mean(statistic=0.9404761904761905, minmax=(0.9101928220936945, 0.9707595588586865)), Variance(statistic=0.05699855699855698, minmax=(0.047461840360874544, 0.06809202691166036)), Std_dev(statistic=0.23838224889852874, minmax=(0.2178573853714272, 0.26094449009638115)))\n",
            "\n",
            "duty_free_exports\n",
            "(Mean(statistic=0.08333333333333333, minmax=(0.04795804288256921, 0.11870862378409744)), Variance(statistic=0.07777777777777777, minmax=(0.06476438469496552, 0.09291544938072137)), Std_dev(statistic=0.27846444248143887, minmax=(0.25448847654651385, 0.30482035591594164)))\n",
            "\n",
            "export_administration_act_south_africa\n",
            "(Mean(statistic=0.5714285714285714, minmax=(0.5080886528413839, 0.6347684900157587)), Variance(statistic=0.24935064935064932, minmax=(0.2076305320090917, 0.29788106962873195)), Std_dev(statistic=0.4985942134029854, minmax=(0.45566493392523827, 0.5457848198958377)))\n"
          ],
          "name": "stdout"
        }
      ]
    },
    {
      "cell_type": "markdown",
      "metadata": {
        "id": "uWgWjp3PQ3Sq",
        "colab_type": "text"
      },
      "source": [
        "## Resources"
      ]
    },
    {
      "cell_type": "markdown",
      "metadata": {
        "id": "QRgHqmYIQ9qn",
        "colab_type": "text"
      },
      "source": [
        "- [Worked example of Bayes rule calculation](https://en.wikipedia.org/wiki/Bayes'_theorem#Examples) (helpful as it fully breaks out the denominator)\n",
        "- [Source code for mvsdist in scipy](https://github.com/scipy/scipy/blob/90534919e139d2a81c24bf08341734ff41a3db12/scipy/stats/morestats.py#L139)"
      ]
    }
  ]
}