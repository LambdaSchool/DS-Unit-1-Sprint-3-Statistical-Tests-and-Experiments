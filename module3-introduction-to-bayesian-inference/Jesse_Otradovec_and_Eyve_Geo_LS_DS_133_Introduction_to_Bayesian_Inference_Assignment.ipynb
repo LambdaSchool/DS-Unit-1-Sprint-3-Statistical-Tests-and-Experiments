{
  "nbformat": 4,
  "nbformat_minor": 0,
  "metadata": {
    "colab": {
      "name": "Jesse Otradovec and Eyve Geo LS_DS_133_Introduction_to_Bayesian_Inference_Assignment.ipynb",
      "version": "0.3.2",
      "provenance": [],
      "collapsed_sections": [],
      "include_colab_link": true
    },
    "kernelspec": {
      "name": "python3",
      "display_name": "Python 3"
    }
  },
  "cells": [
    {
      "cell_type": "markdown",
      "metadata": {
        "id": "view-in-github",
        "colab_type": "text"
      },
      "source": [
        "<a href=\"https://colab.research.google.com/github/eyvonne/DS-Unit-1-Sprint-3-Statistical-Tests-and-Experiments/blob/master/module3-introduction-to-bayesian-inference/Jesse_Otradovec_and_Eyve_Geo_LS_DS_133_Introduction_to_Bayesian_Inference_Assignment.ipynb\" target=\"_parent\"><img src=\"https://colab.research.google.com/assets/colab-badge.svg\" alt=\"Open In Colab\"/></a>"
      ]
    },
    {
      "cell_type": "markdown",
      "metadata": {
        "id": "H7OLbevlbd_Z",
        "colab_type": "text"
      },
      "source": [
        "# Lambda School Data Science Module 133\n",
        "\n",
        "## Introduction to Bayesian Inference\n",
        "\n",
        "\n"
      ]
    },
    {
      "cell_type": "markdown",
      "metadata": {
        "id": "P-DzzRk5bf0z",
        "colab_type": "text"
      },
      "source": [
        "## Assignment - Code it up!\n",
        "\n",
        "Most of the above was pure math - now write Python code to reproduce the results! This is purposefully open ended - you'll have to think about how you should represent probabilities and events. You can and should look things up, and as a stretch goal - refactor your code into helpful reusable functions!\n",
        "\n",
        "Specific goals/targets:\n",
        "\n",
        "1. Write a function `def prob_drunk_given_positive(prob_drunk_prior, prob_positive, prob_positive_drunk)` that reproduces the example from lecture, and use it to calculate and visualize a range of situations\n",
        "2. Explore `scipy.stats.bayes_mvs` - read its documentation, and experiment with it on data you've tested in other ways earlier this week\n",
        "3. Create a visualization comparing the results of a Bayesian approach to a traditional/frequentist approach\n",
        "4. In your own words, summarize the difference between Bayesian and Frequentist statistics\n",
        "\n",
        "If you're unsure where to start, check out [this blog post of Bayes theorem with Python](https://dataconomy.com/2015/02/introduction-to-bayes-theorem-with-python/) - you could and should create something similar!\n",
        "\n",
        "Stretch goals:\n",
        "\n",
        "- Apply a Bayesian technique to a problem you previously worked (in an assignment or project work) on from a frequentist (standard) perspective\n",
        "- Check out [PyMC3](https://docs.pymc.io/) (note this goes beyond hypothesis tests into modeling) - read the guides and work through some examples\n",
        "- Take PyMC3 further - see if you can build something with it!"
      ]
    },
    {
      "cell_type": "code",
      "metadata": {
        "id": "xpVhZyUnbf7o",
        "colab_type": "code",
        "colab": {}
      },
      "source": [
        "# TODO - code!\n",
        "def prob_drunk_given_positive(prob_drunk_prior=.001, prob_false_positive=.01, prob_true_positive=.99):\n",
        "\n",
        "  prob_drunk=(prob_true_positive*prob_drunk_prior)/(prob_true_positive*prob_drunk_prior+prob_false_positive*(1-prob_drunk_prior))\n",
        "\n",
        "  return prob_drunk"
      ],
      "execution_count": 0,
      "outputs": []
    },
    {
      "cell_type": "code",
      "metadata": {
        "id": "RHVO026j1gJA",
        "colab_type": "code",
        "outputId": "5a4f8473-e1cc-4e6c-c203-428e299f72c3",
        "colab": {
          "base_uri": "https://localhost:8080/",
          "height": 35
        }
      },
      "source": [
        "prob_drunk_given_positive()"
      ],
      "execution_count": 2,
      "outputs": [
        {
          "output_type": "execute_result",
          "data": {
            "text/plain": [
              "0.09016393442622951"
            ]
          },
          "metadata": {
            "tags": []
          },
          "execution_count": 2
        }
      ]
    },
    {
      "cell_type": "code",
      "metadata": {
        "id": "UjEh4ChK1mJU",
        "colab_type": "code",
        "outputId": "f29b2f9b-a706-4f47-be3a-dc7c50821d3f",
        "colab": {
          "base_uri": "https://localhost:8080/",
          "height": 35
        }
      },
      "source": [
        "prob_drunk_given_positive(prob_drunk_given_positive(prob_drunk_given_positive()))"
      ],
      "execution_count": 3,
      "outputs": [
        {
          "output_type": "execute_result",
          "data": {
            "text/plain": [
              "0.9989714794017902"
            ]
          },
          "metadata": {
            "tags": []
          },
          "execution_count": 3
        }
      ]
    },
    {
      "cell_type": "code",
      "metadata": {
        "id": "8fq2BaJF11mx",
        "colab_type": "code",
        "outputId": "1e2f0513-a835-4937-91a4-68c9e5e15cc2",
        "colab": {
          "base_uri": "https://localhost:8080/",
          "height": 35
        }
      },
      "source": [
        "prob_drunk_given_positive(prob_drunk_given_positive())"
      ],
      "execution_count": 4,
      "outputs": [
        {
          "output_type": "execute_result",
          "data": {
            "text/plain": [
              "0.9075000000000001"
            ]
          },
          "metadata": {
            "tags": []
          },
          "execution_count": 4
        }
      ]
    },
    {
      "cell_type": "code",
      "metadata": {
        "id": "5rbXl-012Sy4",
        "colab_type": "code",
        "outputId": "a723375a-379e-468c-cfa2-09dc73e662c0",
        "colab": {
          "base_uri": "https://localhost:8080/",
          "height": 297
        }
      },
      "source": [
        "import pandas as pd\n",
        "import numpy as np\n",
        "import matplotlib.pyplot as plt\n",
        "col=['Party',\n",
        "  \"handicapped-infants\",\n",
        "  \"water-project-cost-sharing\",\n",
        "  \"adoption-of-the-budget-resolution\",\n",
        "  'physician-fee-freeze',\n",
        "  'el-salvador-aid',\n",
        "  'religious-groups-in-schools',\n",
        "  'anti-satellite-test-ban',\n",
        "  'aid-to-nicaraguan-contras',\n",
        "  'mx-missile',\n",
        "  'immigration',\n",
        "  'synfuels-corporation-cutback',\n",
        "  'education-spending',\n",
        "  'superfund-right-to-sue',\n",
        "  'crime',\n",
        "  'duty-free-exports',\n",
        "  'export-administration-act-south-africa',]\n",
        "df = pd.read_csv(\"https://archive.ics.uci.edu/ml/machine-learning-databases/voting-records/house-votes-84.data\", names=col, na_values=\"?\")\n",
        "col[1:]"
      ],
      "execution_count": 5,
      "outputs": [
        {
          "output_type": "execute_result",
          "data": {
            "text/plain": [
              "['handicapped-infants',\n",
              " 'water-project-cost-sharing',\n",
              " 'adoption-of-the-budget-resolution',\n",
              " 'physician-fee-freeze',\n",
              " 'el-salvador-aid',\n",
              " 'religious-groups-in-schools',\n",
              " 'anti-satellite-test-ban',\n",
              " 'aid-to-nicaraguan-contras',\n",
              " 'mx-missile',\n",
              " 'immigration',\n",
              " 'synfuels-corporation-cutback',\n",
              " 'education-spending',\n",
              " 'superfund-right-to-sue',\n",
              " 'crime',\n",
              " 'duty-free-exports',\n",
              " 'export-administration-act-south-africa']"
            ]
          },
          "metadata": {
            "tags": []
          },
          "execution_count": 5
        }
      ]
    },
    {
      "cell_type": "code",
      "metadata": {
        "id": "IDJPew-_2jJu",
        "colab_type": "code",
        "outputId": "798698cb-70a4-4cc0-8e55-390484459cc1",
        "colab": {
          "base_uri": "https://localhost:8080/",
          "height": 295
        }
      },
      "source": [
        "df=df.replace({\"y\":1,\n",
        "              'n':0})\n",
        "df.head()\n",
        "            "
      ],
      "execution_count": 6,
      "outputs": [
        {
          "output_type": "execute_result",
          "data": {
            "text/html": [
              "<div>\n",
              "<style scoped>\n",
              "    .dataframe tbody tr th:only-of-type {\n",
              "        vertical-align: middle;\n",
              "    }\n",
              "\n",
              "    .dataframe tbody tr th {\n",
              "        vertical-align: top;\n",
              "    }\n",
              "\n",
              "    .dataframe thead th {\n",
              "        text-align: right;\n",
              "    }\n",
              "</style>\n",
              "<table border=\"1\" class=\"dataframe\">\n",
              "  <thead>\n",
              "    <tr style=\"text-align: right;\">\n",
              "      <th></th>\n",
              "      <th>Party</th>\n",
              "      <th>handicapped-infants</th>\n",
              "      <th>water-project-cost-sharing</th>\n",
              "      <th>adoption-of-the-budget-resolution</th>\n",
              "      <th>physician-fee-freeze</th>\n",
              "      <th>el-salvador-aid</th>\n",
              "      <th>religious-groups-in-schools</th>\n",
              "      <th>anti-satellite-test-ban</th>\n",
              "      <th>aid-to-nicaraguan-contras</th>\n",
              "      <th>mx-missile</th>\n",
              "      <th>immigration</th>\n",
              "      <th>synfuels-corporation-cutback</th>\n",
              "      <th>education-spending</th>\n",
              "      <th>superfund-right-to-sue</th>\n",
              "      <th>crime</th>\n",
              "      <th>duty-free-exports</th>\n",
              "      <th>export-administration-act-south-africa</th>\n",
              "    </tr>\n",
              "  </thead>\n",
              "  <tbody>\n",
              "    <tr>\n",
              "      <th>0</th>\n",
              "      <td>republican</td>\n",
              "      <td>0.0</td>\n",
              "      <td>1.0</td>\n",
              "      <td>0.0</td>\n",
              "      <td>1.0</td>\n",
              "      <td>1.0</td>\n",
              "      <td>1.0</td>\n",
              "      <td>0.0</td>\n",
              "      <td>0.0</td>\n",
              "      <td>0.0</td>\n",
              "      <td>1.0</td>\n",
              "      <td>NaN</td>\n",
              "      <td>1.0</td>\n",
              "      <td>1.0</td>\n",
              "      <td>1.0</td>\n",
              "      <td>0.0</td>\n",
              "      <td>1.0</td>\n",
              "    </tr>\n",
              "    <tr>\n",
              "      <th>1</th>\n",
              "      <td>republican</td>\n",
              "      <td>0.0</td>\n",
              "      <td>1.0</td>\n",
              "      <td>0.0</td>\n",
              "      <td>1.0</td>\n",
              "      <td>1.0</td>\n",
              "      <td>1.0</td>\n",
              "      <td>0.0</td>\n",
              "      <td>0.0</td>\n",
              "      <td>0.0</td>\n",
              "      <td>0.0</td>\n",
              "      <td>0.0</td>\n",
              "      <td>1.0</td>\n",
              "      <td>1.0</td>\n",
              "      <td>1.0</td>\n",
              "      <td>0.0</td>\n",
              "      <td>NaN</td>\n",
              "    </tr>\n",
              "    <tr>\n",
              "      <th>2</th>\n",
              "      <td>democrat</td>\n",
              "      <td>NaN</td>\n",
              "      <td>1.0</td>\n",
              "      <td>1.0</td>\n",
              "      <td>NaN</td>\n",
              "      <td>1.0</td>\n",
              "      <td>1.0</td>\n",
              "      <td>0.0</td>\n",
              "      <td>0.0</td>\n",
              "      <td>0.0</td>\n",
              "      <td>0.0</td>\n",
              "      <td>1.0</td>\n",
              "      <td>0.0</td>\n",
              "      <td>1.0</td>\n",
              "      <td>1.0</td>\n",
              "      <td>0.0</td>\n",
              "      <td>0.0</td>\n",
              "    </tr>\n",
              "    <tr>\n",
              "      <th>3</th>\n",
              "      <td>democrat</td>\n",
              "      <td>0.0</td>\n",
              "      <td>1.0</td>\n",
              "      <td>1.0</td>\n",
              "      <td>0.0</td>\n",
              "      <td>NaN</td>\n",
              "      <td>1.0</td>\n",
              "      <td>0.0</td>\n",
              "      <td>0.0</td>\n",
              "      <td>0.0</td>\n",
              "      <td>0.0</td>\n",
              "      <td>1.0</td>\n",
              "      <td>0.0</td>\n",
              "      <td>1.0</td>\n",
              "      <td>0.0</td>\n",
              "      <td>0.0</td>\n",
              "      <td>1.0</td>\n",
              "    </tr>\n",
              "    <tr>\n",
              "      <th>4</th>\n",
              "      <td>democrat</td>\n",
              "      <td>1.0</td>\n",
              "      <td>1.0</td>\n",
              "      <td>1.0</td>\n",
              "      <td>0.0</td>\n",
              "      <td>1.0</td>\n",
              "      <td>1.0</td>\n",
              "      <td>0.0</td>\n",
              "      <td>0.0</td>\n",
              "      <td>0.0</td>\n",
              "      <td>0.0</td>\n",
              "      <td>1.0</td>\n",
              "      <td>NaN</td>\n",
              "      <td>1.0</td>\n",
              "      <td>1.0</td>\n",
              "      <td>1.0</td>\n",
              "      <td>1.0</td>\n",
              "    </tr>\n",
              "  </tbody>\n",
              "</table>\n",
              "</div>"
            ],
            "text/plain": [
              "        Party                   ...                    export-administration-act-south-africa\n",
              "0  republican                   ...                                                       1.0\n",
              "1  republican                   ...                                                       NaN\n",
              "2    democrat                   ...                                                       0.0\n",
              "3    democrat                   ...                                                       1.0\n",
              "4    democrat                   ...                                                       1.0\n",
              "\n",
              "[5 rows x 17 columns]"
            ]
          },
          "metadata": {
            "tags": []
          },
          "execution_count": 6
        }
      ]
    },
    {
      "cell_type": "markdown",
      "metadata": {
        "id": "GNKGhtzs3eTK",
        "colab_type": "text"
      },
      "source": [
        "Explore scipy.stats.bayes_mvs - read its documentation, and experiment with it on data you've tested in other ways earlier this week"
      ]
    },
    {
      "cell_type": "code",
      "metadata": {
        "id": "xY1bgvG_3Go5",
        "colab_type": "code",
        "colab": {}
      },
      "source": [
        "from scipy import stats\n",
        "?stats.bayes_mvs"
      ],
      "execution_count": 0,
      "outputs": []
    },
    {
      "cell_type": "code",
      "metadata": {
        "id": "h4oDs7nC8KJk",
        "colab_type": "code",
        "colab": {}
      },
      "source": [
        "republican = df[df['Party']==\"republican\"]\n",
        "democrat = df[df['Party']=='democrat']"
      ],
      "execution_count": 0,
      "outputs": []
    },
    {
      "cell_type": "code",
      "metadata": {
        "id": "hiqe0kK08oWY",
        "colab_type": "code",
        "outputId": "db4558ed-b739-4968-8a1c-a6ee65d3df9c",
        "colab": {
          "base_uri": "https://localhost:8080/",
          "height": 545
        }
      },
      "source": [
        " means=pd.DataFrame({\n",
        "     'republican':republican.mean(),\n",
        "     'democrat':democrat.mean()\n",
        " })\n",
        " means"
      ],
      "execution_count": 9,
      "outputs": [
        {
          "output_type": "execute_result",
          "data": {
            "text/html": [
              "<div>\n",
              "<style scoped>\n",
              "    .dataframe tbody tr th:only-of-type {\n",
              "        vertical-align: middle;\n",
              "    }\n",
              "\n",
              "    .dataframe tbody tr th {\n",
              "        vertical-align: top;\n",
              "    }\n",
              "\n",
              "    .dataframe thead th {\n",
              "        text-align: right;\n",
              "    }\n",
              "</style>\n",
              "<table border=\"1\" class=\"dataframe\">\n",
              "  <thead>\n",
              "    <tr style=\"text-align: right;\">\n",
              "      <th></th>\n",
              "      <th>republican</th>\n",
              "      <th>democrat</th>\n",
              "    </tr>\n",
              "  </thead>\n",
              "  <tbody>\n",
              "    <tr>\n",
              "      <th>handicapped-infants</th>\n",
              "      <td>0.187879</td>\n",
              "      <td>0.604651</td>\n",
              "    </tr>\n",
              "    <tr>\n",
              "      <th>water-project-cost-sharing</th>\n",
              "      <td>0.506757</td>\n",
              "      <td>0.502092</td>\n",
              "    </tr>\n",
              "    <tr>\n",
              "      <th>adoption-of-the-budget-resolution</th>\n",
              "      <td>0.134146</td>\n",
              "      <td>0.888462</td>\n",
              "    </tr>\n",
              "    <tr>\n",
              "      <th>physician-fee-freeze</th>\n",
              "      <td>0.987879</td>\n",
              "      <td>0.054054</td>\n",
              "    </tr>\n",
              "    <tr>\n",
              "      <th>el-salvador-aid</th>\n",
              "      <td>0.951515</td>\n",
              "      <td>0.215686</td>\n",
              "    </tr>\n",
              "    <tr>\n",
              "      <th>religious-groups-in-schools</th>\n",
              "      <td>0.897590</td>\n",
              "      <td>0.476744</td>\n",
              "    </tr>\n",
              "    <tr>\n",
              "      <th>anti-satellite-test-ban</th>\n",
              "      <td>0.240741</td>\n",
              "      <td>0.772201</td>\n",
              "    </tr>\n",
              "    <tr>\n",
              "      <th>aid-to-nicaraguan-contras</th>\n",
              "      <td>0.152866</td>\n",
              "      <td>0.828897</td>\n",
              "    </tr>\n",
              "    <tr>\n",
              "      <th>mx-missile</th>\n",
              "      <td>0.115152</td>\n",
              "      <td>0.758065</td>\n",
              "    </tr>\n",
              "    <tr>\n",
              "      <th>immigration</th>\n",
              "      <td>0.557576</td>\n",
              "      <td>0.471483</td>\n",
              "    </tr>\n",
              "    <tr>\n",
              "      <th>synfuels-corporation-cutback</th>\n",
              "      <td>0.132075</td>\n",
              "      <td>0.505882</td>\n",
              "    </tr>\n",
              "    <tr>\n",
              "      <th>education-spending</th>\n",
              "      <td>0.870968</td>\n",
              "      <td>0.144578</td>\n",
              "    </tr>\n",
              "    <tr>\n",
              "      <th>superfund-right-to-sue</th>\n",
              "      <td>0.860759</td>\n",
              "      <td>0.289683</td>\n",
              "    </tr>\n",
              "    <tr>\n",
              "      <th>crime</th>\n",
              "      <td>0.981366</td>\n",
              "      <td>0.350195</td>\n",
              "    </tr>\n",
              "    <tr>\n",
              "      <th>duty-free-exports</th>\n",
              "      <td>0.089744</td>\n",
              "      <td>0.637450</td>\n",
              "    </tr>\n",
              "    <tr>\n",
              "      <th>export-administration-act-south-africa</th>\n",
              "      <td>0.657534</td>\n",
              "      <td>0.935135</td>\n",
              "    </tr>\n",
              "  </tbody>\n",
              "</table>\n",
              "</div>"
            ],
            "text/plain": [
              "                                        republican  democrat\n",
              "handicapped-infants                       0.187879  0.604651\n",
              "water-project-cost-sharing                0.506757  0.502092\n",
              "adoption-of-the-budget-resolution         0.134146  0.888462\n",
              "physician-fee-freeze                      0.987879  0.054054\n",
              "el-salvador-aid                           0.951515  0.215686\n",
              "religious-groups-in-schools               0.897590  0.476744\n",
              "anti-satellite-test-ban                   0.240741  0.772201\n",
              "aid-to-nicaraguan-contras                 0.152866  0.828897\n",
              "mx-missile                                0.115152  0.758065\n",
              "immigration                               0.557576  0.471483\n",
              "synfuels-corporation-cutback              0.132075  0.505882\n",
              "education-spending                        0.870968  0.144578\n",
              "superfund-right-to-sue                    0.860759  0.289683\n",
              "crime                                     0.981366  0.350195\n",
              "duty-free-exports                         0.089744  0.637450\n",
              "export-administration-act-south-africa    0.657534  0.935135"
            ]
          },
          "metadata": {
            "tags": []
          },
          "execution_count": 9
        }
      ]
    },
    {
      "cell_type": "code",
      "metadata": {
        "id": "OMd5fpHp9S2s",
        "colab_type": "code",
        "outputId": "62aa118e-d3b9-459b-82e4-aeebf5457eec",
        "colab": {
          "base_uri": "https://localhost:8080/",
          "height": 1000
        }
      },
      "source": [
        "issues = col[1:]\n",
        "for issue in issues:\n",
        "  t,p=stats.ttest_ind(democrat[issue],republican[issue], nan_policy='omit')\n",
        "  \n",
        "  if p<.05:\n",
        "    support=list(means.loc[issue])\n",
        "    if support[0]>support[1]:\n",
        "      print(\"Republicans support \"+issue+\" more.\")\n",
        "      mean, var, std, = stats.bayes_mvs(republican[issue].dropna(), alpha=.95)\n",
        "      print(\"The mean is:\"+str(mean)) \n",
        "      print(\"The variance is:\"+str(var))\n",
        "      print(\"The standard deviation is:\"+str(std))\n",
        "      print(\" \")\n",
        "    else:\n",
        "      print(\"Democrats support \"+issue+\" more.\")\n",
        "      mean, var, std, = stats.bayes_mvs(democrat[issue].dropna(), alpha=.95)\n",
        "      print(\"The mean is:\"+str(mean)) \n",
        "      print(\"The variance is:\"+str(var))\n",
        "      print(\"The standard deviation is:\"+str(std))\n",
        "      print(\" \")\n",
        "\n",
        "  else:\n",
        "    print(\"There is bipartisan support/lack of support for \"+issue)\n",
        "    print(\" \")\n",
        "\n"
      ],
      "execution_count": 10,
      "outputs": [
        {
          "output_type": "stream",
          "text": [
            "Democrats support handicapped-infants more.\n",
            "The mean is:Mean(statistic=0.6046511627906976, minmax=(0.5445926997425515, 0.6647096258388437))\n",
            "The variance is:Variance(statistic=0.24186046511627907, minmax=(0.20334567221093322, 0.2875424084350645))\n",
            "The standard deviation is:Std_dev(statistic=0.4913111995028866, minmax=(0.4509386568159057, 0.536229809349559))\n",
            " \n",
            "There is bipartisan support/lack of support for water-project-cost-sharing\n",
            " \n",
            "Democrats support adoption-of-the-budget-resolution more.\n",
            "The mean is:Mean(statistic=0.8884615384615384, minmax=(0.8499435153340716, 0.9269795615890052))\n",
            "The variance is:Variance(statistic=0.10025441484585453, minmax=(0.08434639072625345, 0.11911026270760343))\n",
            "The standard deviation is:Std_dev(statistic=0.3163219205956206, minmax=(0.2904245009055769, 0.3451235470199091))\n",
            " \n",
            "Republicans support physician-fee-freeze more.\n",
            "The mean is:Mean(statistic=0.9878787878787879, minmax=(0.9710067448304756, 1.0047508309271003))\n",
            "The variance is:Variance(statistic=0.012196034418256639, minmax=(0.009812494257409895, 0.015147557859480966))\n",
            "The standard deviation is:Std_dev(statistic=0.11026536448466456, minmax=(0.09905803479481054, 0.12307541533336773))\n",
            " \n",
            "Republicans support el-salvador-aid more.\n",
            "The mean is:Mean(statistic=0.9515151515151515, minmax=(0.9183979451371699, 0.9846323578931332))\n",
            "The variance is:Variance(statistic=0.04698840254395809, minmax=(0.037805192599100694, 0.05835991617027022))\n",
            "The standard deviation is:Std_dev(statistic=0.2164338261540453, minmax=(0.19443557441759646, 0.24157797120240543))\n",
            " \n",
            "Republicans support religious-groups-in-schools more.\n",
            "The mean is:Mean(statistic=0.8975903614457831, minmax=(0.850987486003394, 0.9441932368881721))\n",
            "The variance is:Variance(statistic=0.09361371867839453, minmax=(0.07536837976348561, 0.11619212523901244))\n",
            "The standard deviation is:Std_dev(statistic=0.3054946837594435, minmax=(0.27453302126244417, 0.3408696601914175))\n",
            " \n",
            "Democrats support anti-satellite-test-ban more.\n",
            "The mean is:Mean(statistic=0.7722007722007722, minmax=(0.7207820216365644, 0.8236195227649801))\n",
            "The variance is:Variance(statistic=0.1779681467181467, minmax=(0.14967843350465543, 0.21151111881198262))\n",
            "The standard deviation is:Std_dev(statistic=0.4214509375837827, minmax=(0.38688297132938715, 0.459903379865796))\n",
            " \n",
            "Democrats support aid-to-nicaraguan-contras more.\n",
            "The mean is:Mean(statistic=0.8288973384030418, minmax=(0.7830845214499412, 0.8747101553561424))\n",
            "The variance is:Variance(statistic=0.14346300087744956, minmax=(0.12081920999978502, 0.17027655495433414))\n",
            "The standard deviation is:Std_dev(statistic=0.37840107859159866, minmax=(0.3475905781228614, 0.41264579842079346))\n",
            " \n",
            "Democrats support mx-missile more.\n",
            "The mean is:Mean(statistic=0.7580645161290323, minmax=(0.7043940111605527, 0.8117350210975118))\n",
            "The variance is:Variance(statistic=0.18564845292955898, minmax=(0.15554046636439353, 0.22148173885555145))\n",
            "The standard deviation is:Std_dev(statistic=0.4304299779630501, minmax=(0.39438618936823017, 0.4706184642101831))\n",
            " \n",
            "There is bipartisan support/lack of support for immigration\n",
            " \n",
            "Democrats support synfuels-corporation-cutback more.\n",
            "The mean is:Mean(statistic=0.5058823529411764, minmax=(0.4441027014712158, 0.5676620044111371))\n",
            "The variance is:Variance(statistic=0.25294117647058817, minmax=(0.21244360426102965, 0.30102324175937756))\n",
            "The standard deviation is:Std_dev(statistic=0.5024338841346913, minmax=(0.4609160490382491, 0.5486558500183677))\n",
            " \n",
            "Republicans support education-spending more.\n",
            "The mean is:Mean(statistic=0.8709677419354839, minmax=(0.8176017935029393, 0.9243336903680285))\n",
            "The variance is:Variance(statistic=0.11460101867572155, minmax=(0.09156002032300059, 0.14332860512795118))\n",
            "The standard deviation is:Std_dev(statistic=0.33797139479499266, minmax=(0.3025888635145064, 0.3785876452394494))\n",
            " \n",
            "Republicans support superfund-right-to-sue more.\n",
            "The mean is:Mean(statistic=0.8607594936708861, minmax=(0.8061858971620528, 0.9153330901797194))\n",
            "The variance is:Variance(statistic=0.12217231523070644, minmax=(0.09782141296041147, 0.15246870149332584))\n",
            "The standard deviation is:Std_dev(statistic=0.3489682631445458, minmax=(0.31276414909706557, 0.39047240810757144))\n",
            " \n",
            "Republicans support crime more.\n",
            "The mean is:Mean(statistic=0.9813664596273292, minmax=(0.960253517544598, 1.0024794017100602))\n",
            "The variance is:Variance(statistic=0.018633540372670808, minmax=(0.014951107081231057, 0.023205629680642836))\n",
            "The standard deviation is:Std_dev(statistic=0.13628891029313556, minmax=(0.12227471971438354, 0.1523339413283948))\n",
            " \n",
            "Democrats support duty-free-exports more.\n",
            "The mean is:Mean(statistic=0.6374501992031872, minmax=(0.5775687099725446, 0.6973316884338299))\n",
            "The variance is:Variance(statistic=0.23390309728826628, minmax=(0.19617923247429017, 0.27875339693441))\n",
            "The standard deviation is:Std_dev(statistic=0.48314800506771427, minmax=(0.44292124861457044, 0.5279710190288951))\n",
            " \n",
            "Democrats support export-administration-act-south-africa more.\n",
            "The mean is:Mean(statistic=0.9351351351351351, minmax=(0.8993133658858402, 0.97095690438443))\n",
            "The variance is:Variance(statistic=0.061657261657261646, minmax=(0.05021855847293259, 0.07565309732744882))\n",
            "The standard deviation is:Std_dev(statistic=0.24796795536665628, minmax=(0.22409497645626195, 0.27505108130572553))\n",
            " \n"
          ],
          "name": "stdout"
        }
      ]
    },
    {
      "cell_type": "code",
      "metadata": {
        "id": "BCKxGc7KSYx5",
        "colab_type": "code",
        "colab": {}
      },
      "source": [
        "import statsmodels.stats"
      ],
      "execution_count": 0,
      "outputs": []
    },
    {
      "cell_type": "code",
      "metadata": {
        "id": "_k1j5TTLOlsx",
        "colab_type": "code",
        "colab": {
          "base_uri": "https://localhost:8080/",
          "height": 857
        },
        "outputId": "20599ffc-b88e-4065-c24f-5cf34f639648"
      },
      "source": [
        "#wrap up getting the bayes margin into a function\n",
        "def bayesMargin(data):\n",
        "  data=data.dropna()\n",
        "  mean,_,_=stats.bayes_mvs(data, alpha=.95)\n",
        "  return (mean[1][1]-mean[0])\n",
        "\n",
        "#make a function for getting the frequentest solution\n",
        "def freqMargin(data, confidence=.95):\n",
        "  data=data.dropna()\n",
        "  n=len(list(data))\n",
        "  avg=data.mean()\n",
        "  std=np.std(data, ddof=1)\n",
        "  err=stats.sem(data)\n",
        "  margin=err*stats.t.ppf((1+confidence)/2.0, n-1)\n",
        "  return margin\n",
        "\n",
        "for issue in issues:\n",
        "  print(bayesMargin(democrat[issue]))\n",
        "  print(freqMargin(democrat[issue]))\n",
        "  print(\"\")"
      ],
      "execution_count": 20,
      "outputs": [
        {
          "output_type": "stream",
          "text": [
            "0.060058463048146105\n",
            "0.060058463048146146\n",
            "\n",
            "0.06384690925692016\n",
            "0.06384690925692016\n",
            "\n",
            "0.03851802312746677\n",
            "0.03851802312746677\n",
            "\n",
            "0.027722192556845215\n",
            "0.02772219255684521\n",
            "\n",
            "0.05082316051000674\n",
            "0.050823160510006744\n",
            "\n",
            "0.06135235940902922\n",
            "0.06135235940902927\n",
            "\n",
            "0.05141875056420786\n",
            "0.051418750564207825\n",
            "\n",
            "0.04581281695310058\n",
            "0.04581281695310053\n",
            "\n",
            "0.05367050496847958\n",
            "0.05367050496847958\n",
            "\n",
            "0.060725449142464416\n",
            "0.060725449142464444\n",
            "\n",
            "0.06177965146996067\n",
            "0.06177965146996066\n",
            "\n",
            "0.04398337302973643\n",
            "0.043983373029736435\n",
            "\n",
            "0.056389437030609224\n",
            "0.05638943703060922\n",
            "\n",
            "0.05871276143220927\n",
            "0.058712761432209284\n",
            "\n",
            "0.059881489230642626\n",
            "0.059881489230642675\n",
            "\n",
            "0.03582176924929492\n",
            "0.03582176924929492\n",
            "\n"
          ],
          "name": "stdout"
        }
      ]
    },
    {
      "cell_type": "code",
      "metadata": {
        "id": "tlEQyssxWn3O",
        "colab_type": "code",
        "colab": {}
      },
      "source": [
        "def margin(issue, partyDF, confidence=.95):\n",
        "  avg = means[party].loc[issue]\n",
        "  std_dev=np.std(partyDF[issue], ddof=1)\n",
        "  st_err=std_dev/(len(list(partyDF[issue])))\n",
        "  margin=st_err * stats.t.ppf((1+confidence)/2, (len(list(partyDF[issue]))-1))\n",
        "  return margin"
      ],
      "execution_count": 0,
      "outputs": []
    },
    {
      "cell_type": "code",
      "metadata": {
        "id": "404dht3HJtmE",
        "colab_type": "code",
        "outputId": "e2acba1c-c976-4934-db49-b4edf30771e2",
        "colab": {
          "base_uri": "https://localhost:8080/",
          "height": 450
        }
      },
      "source": [
        "fig, ax = plt.subplots()\n",
        "means.democrat.plot(kind='bar', position=0, width=.4, color='purple', yerr=bayesMargin(democrat[issues]))\n",
        "means.democrat.plot(kind='bar', position=1, width=.4, color='green', yerr=freqMargin(democrat[issues]))\n",
        "plt.xlim(right=15.7)\n",
        "plt.show()\n"
      ],
      "execution_count": 16,
      "outputs": [
        {
          "output_type": "display_data",
          "data": {
            "image/png": "[encoded data removed]",
            "text/plain": [
              "<Figure size 432x288 with 1 Axes>"
            ]
          },
          "metadata": {
            "tags": []
          }
        }
      ]
    },
    {
      "cell_type": "code",
      "metadata": {
        "id": "j_az9a8iK8Dq",
        "colab_type": "code",
        "colab": {}
      },
      "source": [
        "stats.bayes_mvs(democrat['aid-to-nicaraguan-contras'].dropna())[0][1]"
      ],
      "execution_count": 0,
      "outputs": []
    },
    {
      "cell_type": "markdown",
      "metadata": {
        "id": "a3QTqxLMJvLs",
        "colab_type": "text"
      },
      "source": [
        "Create a visualization comparing the results of a Bayesian approach to a traditional/frequentist approach\n",
        "In your own words, summarize the difference between Bayesian and Frequentist statistics"
      ]
    },
    {
      "cell_type": "markdown",
      "metadata": {
        "id": "JzpETuRqYK-1",
        "colab_type": "text"
      },
      "source": [
        "Frequentist statistics rely solely on the data at hand while bayesian statistics also pulls in domain knowledge to help to inform the conclusion"
      ]
    },
    {
      "cell_type": "markdown",
      "metadata": {
        "id": "uWgWjp3PQ3Sq",
        "colab_type": "text"
      },
      "source": [
        "## Resources"
      ]
    },
    {
      "cell_type": "code",
      "metadata": {
        "id": "5r-BZvwW1lVG",
        "colab_type": "code",
        "colab": {}
      },
      "source": [
        ""
      ],
      "execution_count": 0,
      "outputs": []
    },
    {
      "cell_type": "markdown",
      "metadata": {
        "id": "QRgHqmYIQ9qn",
        "colab_type": "text"
      },
      "source": [
        "- [Worked example of Bayes rule calculation](https://en.wikipedia.org/wiki/Bayes'_theorem#Examples) (helpful as it fully breaks out the denominator)\n",
        "- [Source code for mvsdist in scipy](https://github.com/scipy/scipy/blob/90534919e139d2a81c24bf08341734ff41a3db12/scipy/stats/morestats.py#L139)"
      ]
    }
  ]
}