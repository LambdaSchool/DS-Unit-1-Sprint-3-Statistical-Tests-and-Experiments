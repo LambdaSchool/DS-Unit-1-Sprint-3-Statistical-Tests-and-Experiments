{
  "nbformat": 4,
  "nbformat_minor": 0,
  "metadata": {
    "colab": {
      "name": "GKwolek -  LS_DS_133_Introduction_to_Bayesian_Inference_Assignment.ipynb",
      "provenance": []
    },
    "kernelspec": {
      "name": "python3",
      "display_name": "Python 3"
    }
  },
  "cells": [
    {
      "cell_type": "markdown",
      "metadata": {
        "id": "H7OLbevlbd_Z",
        "colab_type": "text"
      },
      "source": [
        "# Lambda School Data Science Module 133\n",
        "\n",
        "## Introduction to Bayesian Inference\n",
        "\n",
        "\n"
      ]
    },
    {
      "cell_type": "markdown",
      "metadata": {
        "id": "P-DzzRk5bf0z",
        "colab_type": "text"
      },
      "source": [
        "## Assignment - Code it up!\n",
        "\n",
        "Most of the above was pure math - now write Python code to reproduce the results! This is purposefully open ended - you'll have to think about how you should represent probabilities and events. You can and should look things up, and as a stretch goal - refactor your code into helpful reusable functions!\n",
        "\n",
        "Specific goals/targets:\n",
        "\n",
        "1. Write a function `def prob_drunk_given_positive(prob_drunk_prior, prob_positive, prob_positive_drunk)` that reproduces the example from lecture, and use it to calculate and visualize a range of situations\n",
        "2. Explore `scipy.stats.bayes_mvs` - read its documentation, and experiment with it on data you've tested in other ways earlier this week\n",
        "3. Create a visualization comparing the results of a Bayesian approach to a traditional/frequentist approach\n",
        "4. In your own words, summarize the difference between Bayesian and Frequentist statistics\n",
        "\n",
        "If you're unsure where to start, check out [this blog post of Bayes theorem with Python](https://dataconomy.com/2015/02/introduction-to-bayes-theorem-with-python/) - you could and should create something similar!\n",
        "\n",
        "Stretch goals:\n",
        "\n",
        "- Apply a Bayesian technique to a problem you previously worked (in an assignment or project work) on from a frequentist (standard) perspective\n",
        "- Check out [PyMC3](https://docs.pymc.io/) (note this goes beyond hypothesis tests into modeling) - read the guides and work through some examples\n",
        "- Take PyMC3 further - see if you can build something with it!"
      ]
    },
    {
      "cell_type": "markdown",
      "metadata": {
        "id": "lwTrNIQxtiLC",
        "colab_type": "text"
      },
      "source": [
        "![](https://wikimedia.org/api/rest_v1/media/math/render/svg/95c6524a3736c43e4bae139713f3df2392e6eda9)\n"
      ]
    },
    {
      "cell_type": "code",
      "metadata": {
        "id": "Hcl98hx1Ym1l",
        "colab_type": "code",
        "colab": {}
      },
      "source": [
        "import numpy as np"
      ],
      "execution_count": 0,
      "outputs": []
    },
    {
      "cell_type": "code",
      "metadata": {
        "id": "ZthLMAd-Mr2W",
        "colab_type": "code",
        "colab": {}
      },
      "source": [
        "def prob_drunk_given_positive(prob_drunk_prior, prob_positive, prob_positive_drunk):\n",
        "  num = (prob_positive*prob_drunk_prior)\n",
        "  denom = (num + (1 - prob_positive)*(1 - prob_drunk_prior))\n",
        "  prior = num/denom\n",
        "  print(prior)"
      ],
      "execution_count": 0,
      "outputs": []
    },
    {
      "cell_type": "code",
      "metadata": {
        "id": "r1bHMKsyCKbX",
        "colab_type": "code",
        "colab": {}
      },
      "source": [
        "def bayes_theorem (prob_drunk_prior, prob_positive, prob_positive_drunk, num_iter):\n",
        "  posterior_list = []\n",
        "  num = (prob_positive*prob_drunk_prior)\n",
        "  denom = (num + (1 - prob_positive)*(1 - prob_drunk_prior))\n",
        "  prior = num/denom\n",
        "  posterior_list.append(prior)\n",
        "  for i in range(1, num_iter):\n",
        "    new_num = (prob_positive*posterior_list[i-1])\n",
        "    new_denom = (new_num + (1 - prob_positive)*(1 - posterior_list[i-1]))\n",
        "    posterior = new_num/new_denom \n",
        "    posterior_list.append(posterior)\n",
        "  return(posterior_list)"
      ],
      "execution_count": 0,
      "outputs": []
    },
    {
      "cell_type": "code",
      "metadata": {
        "id": "140zSx5bLM1q",
        "colab_type": "code",
        "outputId": "429ab31b-ee7b-45c4-ede1-0fffd15fc7a6",
        "colab": {
          "base_uri": "https://localhost:8080/",
          "height": 34
        }
      },
      "source": [
        "prob_drunk_given_positive(.005, .99, .99)"
      ],
      "execution_count": 4,
      "outputs": [
        {
          "output_type": "stream",
          "text": [
            "0.33221476510067094\n"
          ],
          "name": "stdout"
        }
      ]
    },
    {
      "cell_type": "code",
      "metadata": {
        "id": "bpfMYFLVDciH",
        "colab_type": "code",
        "outputId": "6afadbee-9189-46fc-fc13-cab3655c42a9",
        "colab": {
          "base_uri": "https://localhost:8080/",
          "height": 34
        }
      },
      "source": [
        "prob_drunk_given_positive(0.3322, .99, .99)"
      ],
      "execution_count": 5,
      "outputs": [
        {
          "output_type": "stream",
          "text": [
            "0.980098701856024\n"
          ],
          "name": "stdout"
        }
      ]
    },
    {
      "cell_type": "code",
      "metadata": {
        "id": "LQhULAEmRbPm",
        "colab_type": "code",
        "outputId": "b260474b-9c8c-43c0-d941-147f3839d9c8",
        "colab": {
          "base_uri": "https://localhost:8080/",
          "height": 34
        }
      },
      "source": [
        "bayes_theorem(.005, .99, .99, 2)\n",
        "#1.. 2.. testing..."
      ],
      "execution_count": 6,
      "outputs": [
        {
          "output_type": "execute_result",
          "data": {
            "text/plain": [
              "[0.33221476510067094, 0.9800999999999999]"
            ]
          },
          "metadata": {
            "tags": []
          },
          "execution_count": 6
        }
      ]
    },
    {
      "cell_type": "code",
      "metadata": {
        "id": "5SpckOtUC9BF",
        "colab_type": "code",
        "colab": {}
      },
      "source": [
        "bayes_theorem_data = bayes_theorem(.005, .99, .99, 9)"
      ],
      "execution_count": 0,
      "outputs": []
    },
    {
      "cell_type": "code",
      "metadata": {
        "id": "Ul0wFCDlKHNH",
        "colab_type": "code",
        "outputId": "2f038e72-69c0-4345-abd1-42921a29357f",
        "colab": {
          "base_uri": "https://localhost:8080/",
          "height": 170
        }
      },
      "source": [
        "bayes_theorem_data"
      ],
      "execution_count": 8,
      "outputs": [
        {
          "output_type": "execute_result",
          "data": {
            "text/plain": [
              "[0.33221476510067094,\n",
              " 0.9800999999999999,\n",
              " 0.9997949506335922,\n",
              " 0.9999979283737839,\n",
              " 0.9999999790744397,\n",
              " 0.9999999997886307,\n",
              " 0.999999999997865,\n",
              " 0.9999999999999785,\n",
              " 0.9999999999999998]"
            ]
          },
          "metadata": {
            "tags": []
          },
          "execution_count": 8
        }
      ]
    },
    {
      "cell_type": "code",
      "metadata": {
        "id": "ehFnnF9uInS2",
        "colab_type": "code",
        "colab": {}
      },
      "source": [
        "#while this starts to resemble common sense. However, I'm not convinced this is right. If it is - here is what it would mean:\n",
        "#the probability of the tested subject to be >>truly<< under the influence is almost a certainty if 3 consecutive tests would show positive."
      ],
      "execution_count": 0,
      "outputs": []
    },
    {
      "cell_type": "code",
      "metadata": {
        "id": "KHqDhcSNMZmu",
        "colab_type": "code",
        "outputId": "a20f89e1-b801-4cc3-8717-37983738a978",
        "colab": {
          "base_uri": "https://localhost:8080/",
          "height": 34
        }
      },
      "source": [
        "len(bayes_theorem_data)"
      ],
      "execution_count": 10,
      "outputs": [
        {
          "output_type": "execute_result",
          "data": {
            "text/plain": [
              "9"
            ]
          },
          "metadata": {
            "tags": []
          },
          "execution_count": 10
        }
      ]
    },
    {
      "cell_type": "code",
      "metadata": {
        "id": "VWPgA4NEN_bx",
        "colab_type": "code",
        "colab": {}
      },
      "source": [
        "import matplotlib.pyplot as plt"
      ],
      "execution_count": 0,
      "outputs": []
    },
    {
      "cell_type": "code",
      "metadata": {
        "id": "q76qEZz1OEpy",
        "colab_type": "code",
        "outputId": "18993333-af22-4fe1-cf56-6236d6df3c5a",
        "colab": {
          "base_uri": "https://localhost:8080/",
          "height": 283
        }
      },
      "source": [
        "plt.plot(bayes_theorem_data)\n",
        "plt.xlabel('trials')\n",
        "plt.ylabel('probability')\n",
        "plt.xticks((0, 1, 2, 3, 4, 5, 6, 7, 8), [1, 2, 3, 4, 5, 6, 7, 8, 9]);"
      ],
      "execution_count": 12,
      "outputs": [
        {
          "output_type": "display_data",
          "data": {
            "image/png": "[encoded data removed]",
            "text/plain": [
              "<Figure size 432x288 with 1 Axes>"
            ]
          },
          "metadata": {
            "tags": []
          }
        }
      ]
    },
    {
      "cell_type": "code",
      "metadata": {
        "id": "ie4bUycl-b0I",
        "colab_type": "code",
        "colab": {}
      },
      "source": [
        "from scipy import stats"
      ],
      "execution_count": 0,
      "outputs": []
    },
    {
      "cell_type": "code",
      "metadata": {
        "id": "HItb0zkR-g43",
        "colab_type": "code",
        "colab": {}
      },
      "source": [
        "# help(stats.bayes_mvs)"
      ],
      "execution_count": 0,
      "outputs": []
    },
    {
      "cell_type": "code",
      "metadata": {
        "id": "bliWn-njSfNK",
        "colab_type": "code",
        "colab": {}
      },
      "source": [
        "import pandas as pd"
      ],
      "execution_count": 0,
      "outputs": []
    },
    {
      "cell_type": "code",
      "metadata": {
        "id": "xKcdeM8cIz9c",
        "colab_type": "code",
        "colab": {}
      },
      "source": [
        "columns = [\"political_view\",\n",
        "           \"handicapped_infants\",\n",
        "           \"water_project_cost_sharing\",\n",
        "           \"adoption_of_the_budget_resolution\",\n",
        "           \"physician_fee_freeze\",\n",
        "           \"el_salvador_aid\",\n",
        "           \"religious_groups_in_schools\",\n",
        "           \"anti_satellite_test_ban\",\n",
        "           \"aid_to_nicaraguan_contras\",\n",
        "           \"mx_missile\",\n",
        "           \"immigration\",\n",
        "           \"synfuels_corporation_cutback\",\n",
        "           \"education_spending\",\n",
        "           \"superfund_right_to_sue\",\n",
        "           \"crime\",\n",
        "           \"duty_free_exports\",\n",
        "           \"export_administration_act_south_africa\"]"
      ],
      "execution_count": 0,
      "outputs": []
    },
    {
      "cell_type": "code",
      "metadata": {
        "id": "IuDwKNagRNkJ",
        "colab_type": "code",
        "outputId": "dc2adb22-c105-43ac-af87-54bb3b1690bb",
        "colab": {
          "base_uri": "https://localhost:8080/",
          "height": 244
        }
      },
      "source": [
        "df = pd.read_csv(\"https://archive.ics.uci.edu/ml/machine-learning-databases/voting-records/house-votes-84.data\", na_values = \"?\", names = columns)\n",
        "df.head()"
      ],
      "execution_count": 17,
      "outputs": [
        {
          "output_type": "execute_result",
          "data": {
            "text/html": [
              "<div>\n",
              "<style scoped>\n",
              "    .dataframe tbody tr th:only-of-type {\n",
              "        vertical-align: middle;\n",
              "    }\n",
              "\n",
              "    .dataframe tbody tr th {\n",
              "        vertical-align: top;\n",
              "    }\n",
              "\n",
              "    .dataframe thead th {\n",
              "        text-align: right;\n",
              "    }\n",
              "</style>\n",
              "<table border=\"1\" class=\"dataframe\">\n",
              "  <thead>\n",
              "    <tr style=\"text-align: right;\">\n",
              "      <th></th>\n",
              "      <th>political_view</th>\n",
              "      <th>handicapped_infants</th>\n",
              "      <th>water_project_cost_sharing</th>\n",
              "      <th>adoption_of_the_budget_resolution</th>\n",
              "      <th>physician_fee_freeze</th>\n",
              "      <th>el_salvador_aid</th>\n",
              "      <th>religious_groups_in_schools</th>\n",
              "      <th>anti_satellite_test_ban</th>\n",
              "      <th>aid_to_nicaraguan_contras</th>\n",
              "      <th>mx_missile</th>\n",
              "      <th>immigration</th>\n",
              "      <th>synfuels_corporation_cutback</th>\n",
              "      <th>education_spending</th>\n",
              "      <th>superfund_right_to_sue</th>\n",
              "      <th>crime</th>\n",
              "      <th>duty_free_exports</th>\n",
              "      <th>export_administration_act_south_africa</th>\n",
              "    </tr>\n",
              "  </thead>\n",
              "  <tbody>\n",
              "    <tr>\n",
              "      <th>0</th>\n",
              "      <td>republican</td>\n",
              "      <td>n</td>\n",
              "      <td>y</td>\n",
              "      <td>n</td>\n",
              "      <td>y</td>\n",
              "      <td>y</td>\n",
              "      <td>y</td>\n",
              "      <td>n</td>\n",
              "      <td>n</td>\n",
              "      <td>n</td>\n",
              "      <td>y</td>\n",
              "      <td>NaN</td>\n",
              "      <td>y</td>\n",
              "      <td>y</td>\n",
              "      <td>y</td>\n",
              "      <td>n</td>\n",
              "      <td>y</td>\n",
              "    </tr>\n",
              "    <tr>\n",
              "      <th>1</th>\n",
              "      <td>republican</td>\n",
              "      <td>n</td>\n",
              "      <td>y</td>\n",
              "      <td>n</td>\n",
              "      <td>y</td>\n",
              "      <td>y</td>\n",
              "      <td>y</td>\n",
              "      <td>n</td>\n",
              "      <td>n</td>\n",
              "      <td>n</td>\n",
              "      <td>n</td>\n",
              "      <td>n</td>\n",
              "      <td>y</td>\n",
              "      <td>y</td>\n",
              "      <td>y</td>\n",
              "      <td>n</td>\n",
              "      <td>NaN</td>\n",
              "    </tr>\n",
              "    <tr>\n",
              "      <th>2</th>\n",
              "      <td>democrat</td>\n",
              "      <td>NaN</td>\n",
              "      <td>y</td>\n",
              "      <td>y</td>\n",
              "      <td>NaN</td>\n",
              "      <td>y</td>\n",
              "      <td>y</td>\n",
              "      <td>n</td>\n",
              "      <td>n</td>\n",
              "      <td>n</td>\n",
              "      <td>n</td>\n",
              "      <td>y</td>\n",
              "      <td>n</td>\n",
              "      <td>y</td>\n",
              "      <td>y</td>\n",
              "      <td>n</td>\n",
              "      <td>n</td>\n",
              "    </tr>\n",
              "    <tr>\n",
              "      <th>3</th>\n",
              "      <td>democrat</td>\n",
              "      <td>n</td>\n",
              "      <td>y</td>\n",
              "      <td>y</td>\n",
              "      <td>n</td>\n",
              "      <td>NaN</td>\n",
              "      <td>y</td>\n",
              "      <td>n</td>\n",
              "      <td>n</td>\n",
              "      <td>n</td>\n",
              "      <td>n</td>\n",
              "      <td>y</td>\n",
              "      <td>n</td>\n",
              "      <td>y</td>\n",
              "      <td>n</td>\n",
              "      <td>n</td>\n",
              "      <td>y</td>\n",
              "    </tr>\n",
              "    <tr>\n",
              "      <th>4</th>\n",
              "      <td>democrat</td>\n",
              "      <td>y</td>\n",
              "      <td>y</td>\n",
              "      <td>y</td>\n",
              "      <td>n</td>\n",
              "      <td>y</td>\n",
              "      <td>y</td>\n",
              "      <td>n</td>\n",
              "      <td>n</td>\n",
              "      <td>n</td>\n",
              "      <td>n</td>\n",
              "      <td>y</td>\n",
              "      <td>NaN</td>\n",
              "      <td>y</td>\n",
              "      <td>y</td>\n",
              "      <td>y</td>\n",
              "      <td>y</td>\n",
              "    </tr>\n",
              "  </tbody>\n",
              "</table>\n",
              "</div>"
            ],
            "text/plain": [
              "  political_view  ... export_administration_act_south_africa\n",
              "0     republican  ...                                      y\n",
              "1     republican  ...                                    NaN\n",
              "2       democrat  ...                                      n\n",
              "3       democrat  ...                                      y\n",
              "4       democrat  ...                                      y\n",
              "\n",
              "[5 rows x 17 columns]"
            ]
          },
          "metadata": {
            "tags": []
          },
          "execution_count": 17
        }
      ]
    },
    {
      "cell_type": "code",
      "metadata": {
        "id": "uC_x1CHORS_4",
        "colab_type": "code",
        "colab": {}
      },
      "source": [
        "df = df.replace(to_replace=['n', 'y'], value=[0, 1])\n",
        "df = df.fillna(0.5)\n",
        "\n",
        "df_rep = df[df[\"political_view\"] == \"republican\"]\n",
        "df_rep = df_rep.drop(\"political_view\", axis=1)\n",
        "\n",
        "df_dem = df[df[\"political_view\"] == \"democrat\"]\n",
        "df_dem = df_dem.drop(\"political_view\", axis = 1)"
      ],
      "execution_count": 0,
      "outputs": []
    },
    {
      "cell_type": "code",
      "metadata": {
        "id": "EFTXHfGgRfm6",
        "colab_type": "code",
        "colab": {}
      },
      "source": [
        "from scipy import stats \n",
        "\n",
        "def confidence_interval(data, confidence=0.95):\n",
        "  data = np.array(data)\n",
        "  mean = np.mean(data)\n",
        "  n = len(data)\n",
        "  stderr = stats.sem(data)\n",
        "  t = stats.t.ppf((1 + confidence) / 2.0, n - 1)\n",
        "  interval = stderr * t\n",
        "  return (mean - interval, mean, mean + interval)"
      ],
      "execution_count": 0,
      "outputs": []
    },
    {
      "cell_type": "code",
      "metadata": {
        "id": "REmz8MprVWns",
        "colab_type": "code",
        "colab": {}
      },
      "source": [
        "mean, var, std = stats.bayes_mvs(df_rep['crime'])"
      ],
      "execution_count": 0,
      "outputs": []
    },
    {
      "cell_type": "code",
      "metadata": {
        "id": "kAGID1j-VqQu",
        "colab_type": "code",
        "outputId": "159ededb-0d1d-4a9b-b6c8-bd04dbd8d61b",
        "colab": {
          "base_uri": "https://localhost:8080/",
          "height": 34
        }
      },
      "source": [
        "print(mean.statistic, mean.minmax)"
      ],
      "execution_count": 21,
      "outputs": [
        {
          "output_type": "stream",
          "text": [
            "0.9613095238095238 (0.9403652785915517, 0.982253769027496)\n"
          ],
          "name": "stdout"
        }
      ]
    },
    {
      "cell_type": "code",
      "metadata": {
        "id": "EhewtRCwRlA_",
        "colab_type": "code",
        "colab": {}
      },
      "source": [
        "def test_FP(name, alpha):\n",
        "  mean, var, std = stats.bayes_mvs(df_rep[name])\n",
        "  FP = (confidence_interval(df_rep[name], alpha)) \n",
        "  return (FP)\n",
        "# frequentist testing"
      ],
      "execution_count": 0,
      "outputs": []
    },
    {
      "cell_type": "code",
      "metadata": {
        "id": "hI7AZQQ_JJqi",
        "colab_type": "code",
        "colab": {}
      },
      "source": [
        "def test_BT(name, alpha):\n",
        "  mean, var, std = stats.bayes_mvs(df_rep[name]) \n",
        "  BT = mean.minmax[0], mean.statistic, mean.minmax[1]\n",
        "  return (BT)\n",
        "#bayesian testing"
      ],
      "execution_count": 0,
      "outputs": []
    },
    {
      "cell_type": "code",
      "metadata": {
        "id": "PyBm9M0DJcYP",
        "colab_type": "code",
        "colab": {
          "base_uri": "https://localhost:8080/",
          "height": 34
        },
        "outputId": "00c21fef-d612-4abe-cc0d-e4732afb3b6e"
      },
      "source": [
        "test_FP(\"adoption_of_the_budget_resolution\", 0.95)"
      ],
      "execution_count": 24,
      "outputs": [
        {
          "output_type": "execute_result",
          "data": {
            "text/plain": [
              "(0.09071304670955654, 0.14285714285714285, 0.19500123900472915)"
            ]
          },
          "metadata": {
            "tags": []
          },
          "execution_count": 24
        }
      ]
    },
    {
      "cell_type": "code",
      "metadata": {
        "id": "s1LEsPqBSV5E",
        "colab_type": "code",
        "outputId": "d86cc2c3-8944-4160-f4c1-a14bda372fa2",
        "colab": {
          "base_uri": "https://localhost:8080/",
          "height": 34
        }
      },
      "source": [
        "test_BT(\"adoption_of_the_budget_resolution\", 0.95)"
      ],
      "execution_count": 25,
      "outputs": [
        {
          "output_type": "execute_result",
          "data": {
            "text/plain": [
              "(0.09917121738605213, 0.14285714285714285, 0.18654306832823356)"
            ]
          },
          "metadata": {
            "tags": []
          },
          "execution_count": 25
        }
      ]
    },
    {
      "cell_type": "code",
      "metadata": {
        "id": "hRXYg4WhKJXP",
        "colab_type": "code",
        "colab": {}
      },
      "source": [
        "columns = [\"handicapped_infants\",\n",
        "           \"water_project_cost_sharing\",\n",
        "           \"adoption_of_the_budget_resolution\",\n",
        "           \"physician_fee_freeze\",\n",
        "           \"el_salvador_aid\",\n",
        "           \"religious_groups_in_schools\",\n",
        "           \"anti_satellite_test_ban\",\n",
        "           \"aid_to_nicaraguan_contras\",\n",
        "           \"mx_missile\",\n",
        "           \"immigration\",\n",
        "           \"synfuels_corporation_cutback\",\n",
        "           \"education_spending\",\n",
        "           \"superfund_right_to_sue\",\n",
        "           \"crime\",\n",
        "           \"duty_free_exports\",\n",
        "           \"export_administration_act_south_africa\"]"
      ],
      "execution_count": 0,
      "outputs": []
    },
    {
      "cell_type": "code",
      "metadata": {
        "id": "-CqJWX54JvXM",
        "colab_type": "code",
        "colab": {}
      },
      "source": [
        "comp_data_BT = []\n",
        "for col in columns:\n",
        "  test = test_BT(col, 0.95)\n",
        "  comp_data_BT.append(test)"
      ],
      "execution_count": 0,
      "outputs": []
    },
    {
      "cell_type": "code",
      "metadata": {
        "id": "pbCVBO_mKO9s",
        "colab_type": "code",
        "colab": {}
      },
      "source": [
        "comp_data_FP = []\n",
        "for col in columns:\n",
        "  test = test_FP(col, 0.95)\n",
        "  comp_data_FP.append(test)"
      ],
      "execution_count": 0,
      "outputs": []
    },
    {
      "cell_type": "code",
      "metadata": {
        "id": "pqai5VqWay_F",
        "colab_type": "code",
        "colab": {}
      },
      "source": [
        "comp_data_BT = pd.DataFrame(comp_data_BT, index=columns)\n",
        "comp_data_FP = pd.DataFrame(comp_data_FP, index=columns)"
      ],
      "execution_count": 0,
      "outputs": []
    },
    {
      "cell_type": "code",
      "metadata": {
        "id": "TOXf6RYHnk4A",
        "colab_type": "code",
        "outputId": "a9c0909c-c446-4868-88a9-dc2718907086",
        "colab": {
          "base_uri": "https://localhost:8080/",
          "height": 545
        }
      },
      "source": [
        "comp_data_FP"
      ],
      "execution_count": 30,
      "outputs": [
        {
          "output_type": "execute_result",
          "data": {
            "text/html": [
              "<div>\n",
              "<style scoped>\n",
              "    .dataframe tbody tr th:only-of-type {\n",
              "        vertical-align: middle;\n",
              "    }\n",
              "\n",
              "    .dataframe tbody tr th {\n",
              "        vertical-align: top;\n",
              "    }\n",
              "\n",
              "    .dataframe thead th {\n",
              "        text-align: right;\n",
              "    }\n",
              "</style>\n",
              "<table border=\"1\" class=\"dataframe\">\n",
              "  <thead>\n",
              "    <tr style=\"text-align: right;\">\n",
              "      <th></th>\n",
              "      <th>0</th>\n",
              "      <th>1</th>\n",
              "      <th>2</th>\n",
              "    </tr>\n",
              "  </thead>\n",
              "  <tbody>\n",
              "    <tr>\n",
              "      <th>handicapped_infants</th>\n",
              "      <td>0.133976</td>\n",
              "      <td>0.193452</td>\n",
              "      <td>0.252929</td>\n",
              "    </tr>\n",
              "    <tr>\n",
              "      <th>water_project_cost_sharing</th>\n",
              "      <td>0.434262</td>\n",
              "      <td>0.505952</td>\n",
              "      <td>0.577643</td>\n",
              "    </tr>\n",
              "    <tr>\n",
              "      <th>adoption_of_the_budget_resolution</th>\n",
              "      <td>0.090713</td>\n",
              "      <td>0.142857</td>\n",
              "      <td>0.195001</td>\n",
              "    </tr>\n",
              "    <tr>\n",
              "      <th>physician_fee_freeze</th>\n",
              "      <td>0.959881</td>\n",
              "      <td>0.979167</td>\n",
              "      <td>0.998452</td>\n",
              "    </tr>\n",
              "    <tr>\n",
              "      <th>el_salvador_aid</th>\n",
              "      <td>0.909674</td>\n",
              "      <td>0.943452</td>\n",
              "      <td>0.977231</td>\n",
              "    </tr>\n",
              "    <tr>\n",
              "      <th>religious_groups_in_schools</th>\n",
              "      <td>0.846346</td>\n",
              "      <td>0.892857</td>\n",
              "      <td>0.939368</td>\n",
              "    </tr>\n",
              "    <tr>\n",
              "      <th>anti_satellite_test_ban</th>\n",
              "      <td>0.185441</td>\n",
              "      <td>0.250000</td>\n",
              "      <td>0.314559</td>\n",
              "    </tr>\n",
              "    <tr>\n",
              "      <th>aid_to_nicaraguan_contras</th>\n",
              "      <td>0.120854</td>\n",
              "      <td>0.175595</td>\n",
              "      <td>0.230337</td>\n",
              "    </tr>\n",
              "    <tr>\n",
              "      <th>mx_missile</th>\n",
              "      <td>0.073072</td>\n",
              "      <td>0.122024</td>\n",
              "      <td>0.170976</td>\n",
              "    </tr>\n",
              "    <tr>\n",
              "      <th>immigration</th>\n",
              "      <td>0.481340</td>\n",
              "      <td>0.556548</td>\n",
              "      <td>0.631755</td>\n",
              "    </tr>\n",
              "    <tr>\n",
              "      <th>synfuels_corporation_cutback</th>\n",
              "      <td>0.099898</td>\n",
              "      <td>0.151786</td>\n",
              "      <td>0.203673</td>\n",
              "    </tr>\n",
              "    <tr>\n",
              "      <th>education_spending</th>\n",
              "      <td>0.790790</td>\n",
              "      <td>0.842262</td>\n",
              "      <td>0.893734</td>\n",
              "    </tr>\n",
              "    <tr>\n",
              "      <th>superfund_right_to_sue</th>\n",
              "      <td>0.786362</td>\n",
              "      <td>0.839286</td>\n",
              "      <td>0.892209</td>\n",
              "    </tr>\n",
              "    <tr>\n",
              "      <th>crime</th>\n",
              "      <td>0.936310</td>\n",
              "      <td>0.961310</td>\n",
              "      <td>0.986309</td>\n",
              "    </tr>\n",
              "    <tr>\n",
              "      <th>duty_free_exports</th>\n",
              "      <td>0.073981</td>\n",
              "      <td>0.119048</td>\n",
              "      <td>0.164114</td>\n",
              "    </tr>\n",
              "    <tr>\n",
              "      <th>export_administration_act_south_africa</th>\n",
              "      <td>0.568836</td>\n",
              "      <td>0.636905</td>\n",
              "      <td>0.704974</td>\n",
              "    </tr>\n",
              "  </tbody>\n",
              "</table>\n",
              "</div>"
            ],
            "text/plain": [
              "                                               0         1         2\n",
              "handicapped_infants                     0.133976  0.193452  0.252929\n",
              "water_project_cost_sharing              0.434262  0.505952  0.577643\n",
              "adoption_of_the_budget_resolution       0.090713  0.142857  0.195001\n",
              "physician_fee_freeze                    0.959881  0.979167  0.998452\n",
              "el_salvador_aid                         0.909674  0.943452  0.977231\n",
              "religious_groups_in_schools             0.846346  0.892857  0.939368\n",
              "anti_satellite_test_ban                 0.185441  0.250000  0.314559\n",
              "aid_to_nicaraguan_contras               0.120854  0.175595  0.230337\n",
              "mx_missile                              0.073072  0.122024  0.170976\n",
              "immigration                             0.481340  0.556548  0.631755\n",
              "synfuels_corporation_cutback            0.099898  0.151786  0.203673\n",
              "education_spending                      0.790790  0.842262  0.893734\n",
              "superfund_right_to_sue                  0.786362  0.839286  0.892209\n",
              "crime                                   0.936310  0.961310  0.986309\n",
              "duty_free_exports                       0.073981  0.119048  0.164114\n",
              "export_administration_act_south_africa  0.568836  0.636905  0.704974"
            ]
          },
          "metadata": {
            "tags": []
          },
          "execution_count": 30
        }
      ]
    },
    {
      "cell_type": "code",
      "metadata": {
        "id": "oOTJ99NTN3hY",
        "colab_type": "code",
        "colab": {
          "base_uri": "https://localhost:8080/",
          "height": 509
        },
        "outputId": "100d9ab7-c9a3-4833-beb0-2551cc5e6b57"
      },
      "source": [
        "fig, axes = plt.subplots(figsize=(10, 5))\n",
        "\n",
        "ax1 = axes.boxplot(comp_data_BT,\n",
        "                      patch_artist=True)\n",
        "plt.setp(ax1['boxes'], color='blue', alpha=0.1)\n",
        "\n",
        "ax2 = axes.boxplot(comp_data_FP,\n",
        "                      patch_artist=True)  \n",
        "plt.setp(ax2['boxes'], color='red', alpha=0.1)\n",
        "\n",
        "axes.set_xticklabels(columns, rotation = 80);\n",
        "plt.style.use('fivethirtyeight')"
      ],
      "execution_count": 31,
      "outputs": [
        {
          "output_type": "display_data",
          "data": {
            "image/png": "[encoded data removed]",
            "text/plain": [
              "<Figure size 720x360 with 1 Axes>"
            ]
          },
          "metadata": {
            "tags": []
          }
        }
      ]
    },
    {
      "cell_type": "code",
      "metadata": {
        "id": "15MLV03fQTSW",
        "colab_type": "code",
        "colab": {}
      },
      "source": [
        "def plot_test(name):\n",
        "  fig, axes = plt.subplots(nrows=1, ncols=2, figsize=(8, 5))\n",
        "  ax1 = axes[0].boxplot(comp_data_BT.loc[name],\n",
        "                      patch_artist=True)\n",
        "  plt.setp(ax1['boxes'], color='blue')\n",
        "  ax2 = axes[1].boxplot(comp_data_FP.loc[name],\n",
        "                      patch_artist=True)  \n",
        "  plt.setp(ax2['boxes'], color='red');"
      ],
      "execution_count": 0,
      "outputs": []
    },
    {
      "cell_type": "code",
      "metadata": {
        "id": "9R7r3rrXQl35",
        "colab_type": "code",
        "colab": {
          "base_uri": "https://localhost:8080/",
          "height": 340
        },
        "outputId": "0cec77a3-f0d4-454a-abb0-5d59d8f78032"
      },
      "source": [
        "plot_test(\"immigration\")"
      ],
      "execution_count": 33,
      "outputs": [
        {
          "output_type": "display_data",
          "data": {
            "image/png": "[encoded data removed]",
            "text/plain": [
              "<Figure size 576x360 with 2 Axes>"
            ]
          },
          "metadata": {
            "tags": []
          }
        }
      ]
    },
    {
      "cell_type": "code",
      "metadata": {
        "id": "tps5Y58dPgqf",
        "colab_type": "code",
        "colab": {
          "base_uri": "https://localhost:8080/",
          "height": 602
        },
        "outputId": "a45d4656-42e3-4c65-f66a-26a66e4da29a"
      },
      "source": [
        "fig, axes = plt.subplots(nrows=1, ncols=2, figsize=(10, 5))\n",
        "ax1 = axes[0].boxplot(comp_data_BT,\n",
        "                      patch_artist=True)\n",
        "plt.setp(ax1['boxes'], color='blue')\n",
        "# this is how to set a different color to a set of boxes in boxplot!\n",
        "\n",
        "axes[0].set_xticklabels(columns, rotation = 90)\n",
        "\n",
        "ax2 = axes[1].boxplot(comp_data_FP,\n",
        "                      patch_artist=True)  \n",
        "plt.setp(ax2['boxes'], color='red');\n",
        "axes[1].set_xticklabels(columns, rotation = 90);"
      ],
      "execution_count": 34,
      "outputs": [
        {
          "output_type": "display_data",
          "data": {
            "image/png": "[encoded data removed]",
            "text/plain": [
              "<Figure size 720x360 with 2 Axes>"
            ]
          },
          "metadata": {
            "tags": []
          }
        }
      ]
    },
    {
      "cell_type": "code",
      "metadata": {
        "id": "ZGA7Tabdo9mL",
        "colab_type": "code",
        "colab": {}
      },
      "source": [
        "# the means are the same, but the min and max are different when testing the same datasets. Bayes seems to produce \"narrower\" brackets."
      ],
      "execution_count": 0,
      "outputs": []
    },
    {
      "cell_type": "markdown",
      "metadata": {
        "id": "uWgWjp3PQ3Sq",
        "colab_type": "text"
      },
      "source": [
        "## Resources"
      ]
    },
    {
      "cell_type": "markdown",
      "metadata": {
        "id": "QRgHqmYIQ9qn",
        "colab_type": "text"
      },
      "source": [
        "- [Worked example of Bayes rule calculation](https://en.wikipedia.org/wiki/Bayes'_theorem#Examples) (helpful as it fully breaks out the denominator)\n",
        "- [Source code for mvsdist in scipy](https://github.com/scipy/scipy/blob/90534919e139d2a81c24bf08341734ff41a3db12/scipy/stats/morestats.py#L139)"
      ]
    }
  ]
}