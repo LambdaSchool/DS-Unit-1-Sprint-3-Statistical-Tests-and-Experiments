{
  "nbformat": 4,
  "nbformat_minor": 0,
  "metadata": {
    "colab": {
      "name": "LS_DS_133_Introduction_to_Bayesian_Inference_Assignment.ipynb",
      "version": "0.3.2",
      "provenance": [],
      "include_colab_link": true
    },
    "kernelspec": {
      "name": "python3",
      "display_name": "Python 3"
    }
  },
  "cells": [
    {
      "cell_type": "markdown",
      "metadata": {
        "id": "view-in-github",
        "colab_type": "text"
      },
      "source": [
        "<a href=\"https://colab.research.google.com/github/cmgospod/DS-Unit-1-Sprint-3-Statistical-Tests-and-Experiments/blob/master/module3-introduction-to-bayesian-inference/LS_DS_133_Introduction_to_Bayesian_Inference_Assignment.ipynb\" target=\"_parent\"><img src=\"https://colab.research.google.com/assets/colab-badge.svg\" alt=\"Open In Colab\"/></a>"
      ]
    },
    {
      "cell_type": "markdown",
      "metadata": {
        "id": "H7OLbevlbd_Z",
        "colab_type": "text"
      },
      "source": [
        "# Lambda School Data Science Module 133\n",
        "\n",
        "## Introduction to Bayesian Inference\n",
        "\n",
        "\n"
      ]
    },
    {
      "cell_type": "markdown",
      "metadata": {
        "id": "P-DzzRk5bf0z",
        "colab_type": "text"
      },
      "source": [
        "## Assignment - Code it up!\n",
        "\n",
        "Most of the above was pure math - now write Python code to reproduce the results! This is purposefully open ended - you'll have to think about how you should represent probabilities and events. You can and should look things up, and as a stretch goal - refactor your code into helpful reusable functions!\n",
        "\n",
        "Specific goals/targets:\n",
        "\n",
        "1. Write a function `def prob_drunk_given_positive(prob_drunk_prior, prob_positive, prob_positive_drunk)` that reproduces the example from lecture, and use it to calculate and visualize a range of situations\n",
        "2. Explore `scipy.stats.bayes_mvs` - read its documentation, and experiment with it on data you've tested in other ways earlier this week\n",
        "3. Create a visualization comparing the results of a Bayesian approach to a traditional/frequentist approach\n",
        "4. In your own words, summarize the difference between Bayesian and Frequentist statistics\n",
        "\n",
        "If you're unsure where to start, check out [this blog post of Bayes theorem with Python](https://dataconomy.com/2015/02/introduction-to-bayes-theorem-with-python/) - you could and should create something similar!\n",
        "\n",
        "Stretch goals:\n",
        "\n",
        "- Apply a Bayesian technique to a problem you previously worked (in an assignment or project work) on from a frequentist (standard) perspective\n",
        "- Check out [PyMC3](https://docs.pymc.io/) (note this goes beyond hypothesis tests into modeling) - read the guides and work through some examples\n",
        "- Take PyMC3 further - see if you can build something with it!"
      ]
    },
    {
      "cell_type": "code",
      "metadata": {
        "id": "xpVhZyUnbf7o",
        "colab_type": "code",
        "colab": {}
      },
      "source": [
        "# def prob_drunk_given_positive(prob_drunk_prior, prob_positive, prob_positive_drunk):\n",
        "#   return prob_positive_drunk * prob_drunk_prior / prob_positive\n",
        "# prob_drunk_given_positive(0.001, 0.08, 1)  \n",
        "# prob_a|b\n",
        "# prob_b|a\n",
        "# prob_a\n",
        "# prob_b"
      ],
      "execution_count": 0,
      "outputs": []
    },
    {
      "cell_type": "code",
      "metadata": {
        "id": "gFEUUUvs3rWn",
        "colab_type": "code",
        "outputId": "fe01e4e5-0622-4768-9a0d-f4ce58366126",
        "colab": {
          "base_uri": "https://localhost:8080/",
          "height": 35
        }
      },
      "source": [
        "def bayes_rule(prior_a, prob_b, prob_b_a):\n",
        "  return prob_b_a * prior_a / prob_b\n",
        "bayes_rule(0.001, 0.08, 1)  "
      ],
      "execution_count": 0,
      "outputs": [
        {
          "output_type": "execute_result",
          "data": {
            "text/plain": [
              "0.0125"
            ]
          },
          "metadata": {
            "tags": []
          },
          "execution_count": 2
        }
      ]
    },
    {
      "cell_type": "code",
      "metadata": {
        "id": "eHsbpTR617iY",
        "colab_type": "code",
        "outputId": "27943cbf-0b6c-4240-ddd7-8fa2e07285a9",
        "colab": {
          "base_uri": "https://localhost:8080/",
          "height": 72
        }
      },
      "source": [
        "from scipy import stats\n",
        "import numpy as np\n",
        "data = [4,46,27,82,45,4,432,28,3]\n",
        "stats.bayes_mvs(data)"
      ],
      "execution_count": 0,
      "outputs": [
        {
          "output_type": "execute_result",
          "data": {
            "text/plain": [
              "(Mean(statistic=74.55555555555556, minmax=(-10.0420222107999, 159.15313332191099)),\n",
              " Variance(statistic=24836.037037037036, minmax=(9609.416001688225, 54532.02656741605)),\n",
              " Std_dev(statistic=151.19127685557334, minmax=(98.02762876703804, 233.52093389547767)))"
            ]
          },
          "metadata": {
            "tags": []
          },
          "execution_count": 3
        }
      ]
    },
    {
      "cell_type": "code",
      "metadata": {
        "id": "EHikZv5SNUDA",
        "colab_type": "code",
        "colab": {}
      },
      "source": [
        "import pandas as pd\n",
        "import matplotlib.pyplot as plt\n",
        "df = pd.read_csv('https://archive.ics.uci.edu/ml/machine-learning-databases/voting-records/house-votes-84.data',\n",
        "                header=None,\n",
        "                names=['party','handicapped-infants','water-project',\n",
        "                      'budget', 'physician-fee-freeze','el-salvador',\n",
        "                      'religion-groups','anti-satellite-ban',\n",
        "                      'aid-to-contras','mx-missile','immigration',\n",
        "                      'synfuels','education','right-to-sue','crime','duty-free',\n",
        "                      'south-africa'], na_values='?')\n",
        "df = df.replace({'n':0,'y':1})"
      ],
      "execution_count": 0,
      "outputs": []
    },
    {
      "cell_type": "code",
      "metadata": {
        "id": "9bcURXAaUEU0",
        "colab_type": "code",
        "colab": {}
      },
      "source": [
        "rep = df[df.party == 'republican']\n",
        "dem = df[df.party == 'democrat']"
      ],
      "execution_count": 0,
      "outputs": []
    },
    {
      "cell_type": "code",
      "metadata": {
        "id": "1snmELtBiUH8",
        "colab_type": "code",
        "outputId": "4870376c-046c-4b0d-a147-9695d3a6a82b",
        "colab": {
          "base_uri": "https://localhost:8080/",
          "height": 54
        }
      },
      "source": [
        "watercleanrep = rep['water-project'].dropna()\n",
        "bmean, bvar, bstdev = stats.bayes_mvs(watercleanrep)\n",
        "fmean = np.mean(watercleanrep)\n",
        "print(fmean)\n",
        "type(bmean)"
      ],
      "execution_count": 0,
      "outputs": [
        {
          "output_type": "stream",
          "text": [
            "0.5067567567567568\n"
          ],
          "name": "stdout"
        },
        {
          "output_type": "execute_result",
          "data": {
            "text/plain": [
              "scipy.stats.morestats.Mean"
            ]
          },
          "metadata": {
            "tags": []
          },
          "execution_count": 39
        }
      ]
    },
    {
      "cell_type": "code",
      "metadata": {
        "id": "Bs26R1bjiULR",
        "colab_type": "code",
        "outputId": "398bfbed-1078-42e7-b318-c5dd6666ff6e",
        "colab": {
          "base_uri": "https://localhost:8080/",
          "height": 287
        }
      },
      "source": [
        "plt.hist(watercleanrep)\n",
        "plt.axvline(x=mean.minmax[0], color = 'r', label = 'Bayesian lower bound')\n",
        "plt.axvline(x=mean.minmax[1], color = 'r', label = 'Bayesian upper bound')\n",
        "plt.axvline(x=fmean, label = 'Mean')"
      ],
      "execution_count": 0,
      "outputs": [
        {
          "output_type": "execute_result",
          "data": {
            "text/plain": [
              "<matplotlib.lines.Line2D at 0x7fef0b6aefd0>"
            ]
          },
          "metadata": {
            "tags": []
          },
          "execution_count": 46
        },
        {
          "output_type": "display_data",
          "data": {
            "image/png": "[encoded data removed]",
            "text/plain": [
              "<Figure size 432x288 with 1 Axes>"
            ]
          },
          "metadata": {
            "tags": []
          }
        }
      ]
    },
    {
      "cell_type": "code",
      "metadata": {
        "id": "NZjAUTgkiUOL",
        "colab_type": "code",
        "colab": {}
      },
      "source": [
        ""
      ],
      "execution_count": 0,
      "outputs": []
    },
    {
      "cell_type": "code",
      "metadata": {
        "id": "Er6jOrwtiUQh",
        "colab_type": "code",
        "colab": {}
      },
      "source": [
        ""
      ],
      "execution_count": 0,
      "outputs": []
    },
    {
      "cell_type": "code",
      "metadata": {
        "id": "Lcug5vHyTjK9",
        "colab_type": "code",
        "colab": {}
      },
      "source": [
        "# for issue in range(1,df.shape[1]):\n",
        "#   print(stats.ttest_ind(rep.iloc[:,issue], dem.iloc[:,issue], nan_policy='omit'))\n",
        "#   print(df.columns.values[issue])\n",
        "#   frequentist = []\n",
        "#   frequentist.append(df.columns.values[issue])\n",
        "#   print('\\n')"
      ],
      "execution_count": 0,
      "outputs": []
    },
    {
      "cell_type": "code",
      "metadata": {
        "id": "fN2YOZwuUalU",
        "colab_type": "code",
        "colab": {}
      },
      "source": [
        "# for issue in range(1,df.shape[1]):\n",
        "#   dfclean = df.iloc[:,issue].dropna()\n",
        "#   repclean = rep.iloc[:,issue].dropna()\n",
        "#   demclean = dem.iloc[:,issue].dropna()\n",
        "#   prior_vote = dfclean.iloc[:,issue].mean()\n",
        "#   prior_party = repclean.shape[0] / (repclean.shape[0] + demclean.shape[0])\n",
        "#   party_given_vote = "
      ],
      "execution_count": 0,
      "outputs": []
    },
    {
      "cell_type": "code",
      "metadata": {
        "id": "S3_kDfLlUapt",
        "colab_type": "code",
        "colab": {}
      },
      "source": [
        ""
      ],
      "execution_count": 0,
      "outputs": []
    },
    {
      "cell_type": "code",
      "metadata": {
        "id": "2EqRUB3kUasO",
        "colab_type": "code",
        "colab": {}
      },
      "source": [
        ""
      ],
      "execution_count": 0,
      "outputs": []
    },
    {
      "cell_type": "code",
      "metadata": {
        "id": "MJF5nUt1UauZ",
        "colab_type": "code",
        "colab": {}
      },
      "source": [
        ""
      ],
      "execution_count": 0,
      "outputs": []
    },
    {
      "cell_type": "code",
      "metadata": {
        "id": "DY7LCo31Uayk",
        "colab_type": "code",
        "colab": {}
      },
      "source": [
        ""
      ],
      "execution_count": 0,
      "outputs": []
    },
    {
      "cell_type": "markdown",
      "metadata": {
        "id": "9dq2-4J2ShQn",
        "colab_type": "text"
      },
      "source": [
        "Frequentist statistics are purely based on the data on display, while Bayesian statistics use a prior to guide inference. This allows Bayesianism to sidestep failures of frequentist statistics, but can be badly wrong with a bad prior."
      ]
    },
    {
      "cell_type": "markdown",
      "metadata": {
        "id": "uWgWjp3PQ3Sq",
        "colab_type": "text"
      },
      "source": [
        "## Resources"
      ]
    },
    {
      "cell_type": "markdown",
      "metadata": {
        "id": "QRgHqmYIQ9qn",
        "colab_type": "text"
      },
      "source": [
        "- [Worked example of Bayes rule calculation](https://en.wikipedia.org/wiki/Bayes'_theorem#Examples) (helpful as it fully breaks out the denominator)\n",
        "- [Source code for mvsdist in scipy](https://github.com/scipy/scipy/blob/90534919e139d2a81c24bf08341734ff41a3db12/scipy/stats/morestats.py#L139)"
      ]
    },
    {
      "cell_type": "markdown",
      "metadata": {
        "id": "BIqY2kNhAiyE",
        "colab_type": "text"
      },
      "source": [
        "(sensitivity * prior) / (sensitivity * prior + (1-specificity) * (1-prior))"
      ]
    },
    {
      "cell_type": "code",
      "metadata": {
        "id": "RfWcF84WAjWq",
        "colab_type": "code",
        "colab": {}
      },
      "source": [
        "def iterated_bayes_theorem(prior, sensitivity, specificity, num_iterations=1):\n",
        "#  for num_iterations:\n",
        "# do some math stuff with other variables\n",
        "# get result\n",
        "# prior = result\n",
        "  \n",
        "  \n",
        "  \n",
        "  \n",
        "  \n",
        "  \n",
        "  return prior"
      ],
      "execution_count": 0,
      "outputs": []
    }
  ]
}