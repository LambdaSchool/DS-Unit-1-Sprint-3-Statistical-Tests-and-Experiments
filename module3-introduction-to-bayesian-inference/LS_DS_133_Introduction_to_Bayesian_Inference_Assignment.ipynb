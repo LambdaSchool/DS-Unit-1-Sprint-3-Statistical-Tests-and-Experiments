{
 "cells": [
  {
   "cell_type": "markdown",
   "metadata": {
    "colab_type": "text",
    "id": "view-in-github"
   },
   "source": [
    "<a href=\"https://colab.research.google.com/github/ryanleeallred/DS-Unit-1-Sprint-3-Statistical-Tests-and-Experiments/blob/master/module3-introduction-to-bayesian-inference/LS_DS_133_Introduction_to_Bayesian_Inference_Assignment.ipynb\" target=\"_parent\"><img src=\"https://colab.research.google.com/assets/colab-badge.svg\" alt=\"Open In Colab\"/></a>"
   ]
  },
  {
   "cell_type": "markdown",
   "metadata": {
    "colab_type": "text",
    "id": "H7OLbevlbd_Z"
   },
   "source": [
    "# Lambda School Data Science Module 133\n",
    "\n",
    "## Introduction to Bayesian Inference\n",
    "\n",
    "\n"
   ]
  },
  {
   "cell_type": "markdown",
   "metadata": {
    "colab_type": "text",
    "id": "P-DzzRk5bf0z"
   },
   "source": [
    "## Assignment - Code it up!\n",
    "\n",
    "Most of the above was pure math - now write Python code to reproduce the results! This is purposefully open ended - you'll have to think about how you should represent probabilities and events. You can and should look things up, and as a stretch goal - refactor your code into helpful reusable functions!\n",
    "\n",
    "Specific goals/targets:\n",
    "\n",
    "1. Write a function `def prob_drunk_given_positive(prob_drunk_prior, prob_positive, prob_positive_drunk)` that reproduces the example from lecture, and use it to calculate and visualize a range of situations\n",
    "2. Explore `scipy.stats.bayes_mvs` - read its documentation, and experiment with it on data you've tested in other ways earlier this week\n",
    "3. Create a visualization comparing the results of a Bayesian approach to a traditional/frequentist approach\n",
    "4. In your own words, summarize the difference between Bayesian and Frequentist statistics\n",
    "\n",
    "If you're unsure where to start, check out [this blog post of Bayes theorem with Python](https://dataconomy.com/2015/02/introduction-to-bayes-theorem-with-python/) - you could and should create something similar!\n",
    "\n",
    "Stretch goals:\n",
    "\n",
    "- Apply a Bayesian technique to a problem you previously worked (in an assignment or project work) on from a frequentist (standard) perspective\n",
    "- Check out [PyMC3](https://docs.pymc.io/) (note this goes beyond hypothesis tests into modeling) - read the guides and work through some examples\n",
    "- Take PyMC3 further - see if you can build something with it!"
   ]
  },
  {
   "cell_type": "markdown",
   "metadata": {},
   "source": [
    "---"
   ]
  },
  {
   "cell_type": "markdown",
   "metadata": {
    "colab_type": "text",
    "id": "uWgWjp3PQ3Sq"
   },
   "source": [
    "## Resources"
   ]
  },
  {
   "cell_type": "markdown",
   "metadata": {
    "colab_type": "text",
    "id": "QRgHqmYIQ9qn"
   },
   "source": [
    "- [Worked example of Bayes rule calculation](https://en.wikipedia.org/wiki/Bayes'_theorem#Examples) (helpful as it fully breaks out the denominator)\n",
    "- [Source code for mvsdist in scipy](https://github.com/scipy/scipy/blob/90534919e139d2a81c24bf08341734ff41a3db12/scipy/stats/morestats.py#L139)"
   ]
  },
  {
   "cell_type": "markdown",
   "metadata": {
    "colab": {},
    "colab_type": "code",
    "id": "xpVhZyUnbf7o"
   },
   "source": [
    "---"
   ]
  },
  {
   "cell_type": "code",
   "execution_count": 19,
   "metadata": {},
   "outputs": [],
   "source": [
    "# Imports\n",
    "import matplotlib.pyplot as plt\n",
    "import seaborn as sns\n",
    "import pandas as pd\n",
    "import numpy as np\n",
    "from scipy import stats"
   ]
  },
  {
   "cell_type": "markdown",
   "metadata": {},
   "source": [
    "---"
   ]
  },
  {
   "cell_type": "markdown",
   "metadata": {},
   "source": [
    "#### 1. Write a function that reproduces the example from lecture, and use it to calculate and visualize a range of situations\n",
    "\n",
    "`def prob_drunk_given_positive(prob_drunk_prior, prob_positive, prob_positive_drunk)`"
   ]
  },
  {
   "cell_type": "code",
   "execution_count": 20,
   "metadata": {},
   "outputs": [],
   "source": [
    "# First, go through one iteration by hand before writing into a function\n",
    "prob_pos = 0.08\n",
    "prob_pos_drunk = 1 - prob_pos\n",
    "prob_drunk_prior = 1 / 1000\n",
    "prob_NotThatDrunk = 1 - prob_drunk_prior"
   ]
  },
  {
   "cell_type": "markdown",
   "metadata": {},
   "source": [
    "$$P(Drunk|+) = \\frac{prob\\_pos\\_drunk \\cdot prob\\_drunk\\_prior}{(prob\\_pos\\_drunk \\cdot prob\\_drunk\\_prior) + (prob\\_positive \\cdot prob\\_NotThatDrunk)}$$"
   ]
  },
  {
   "cell_type": "code",
   "execution_count": 21,
   "metadata": {},
   "outputs": [
    {
     "data": {
      "text/plain": [
       "0.011380504700643244"
      ]
     },
     "execution_count": 21,
     "metadata": {},
     "output_type": "execute_result"
    }
   ],
   "source": [
    "(prob_pos_drunk * prob_drunk_prior) / ((prob_pos_drunk * prob_drunk_prior) + (prob_pos * (1 - prob_drunk_prior)))"
   ]
  },
  {
   "cell_type": "code",
   "execution_count": 22,
   "metadata": {},
   "outputs": [],
   "source": [
    "# Now that I have everything laid out, writing the equation into a function\n",
    "def prob_drunk_given_positive(prob_drunk_prior, prob_positive):\n",
    "    return (((1 - prob_positive) * prob_drunk_prior) / \n",
    "            (((1 - prob_positive) * prob_drunk_prior) + (prob_positive * (1 - prob_drunk_prior))))"
   ]
  },
  {
   "cell_type": "code",
   "execution_count": 23,
   "metadata": {},
   "outputs": [
    {
     "data": {
      "text/plain": [
       "0.011380504700643244"
      ]
     },
     "execution_count": 23,
     "metadata": {},
     "output_type": "execute_result"
    }
   ],
   "source": [
    "# Test out the function, one time!\n",
    "prob_drunk_prior = prob_drunk_given_positive(prob_drunk_prior, prob_pos)\n",
    "prob_drunk_prior"
   ]
  },
  {
   "cell_type": "code",
   "execution_count": 24,
   "metadata": {},
   "outputs": [
    {
     "name": "stdout",
     "output_type": "stream",
     "text": [
      "[0.011380504700643244, 0.11690607734806628, 0.6035517634803313, 0.9459680554381814, 0.9950577515521439, 0.9995682911846789, 0.9999624453001201, 0.9999967342619444, 0.999999716021931, 0.9999999753062485]\n"
     ]
    }
   ],
   "source": [
    "# Test out the function, ten times!\n",
    "prior = 1 / 1000  # Reset the prior whenever cell is run\n",
    "\n",
    "prior_data = []\n",
    "\n",
    "for x in range(10):\n",
    "    prior = prob_drunk_given_positive(prior, prob_pos)\n",
    "    prior_data.append(prior)\n",
    "    \n",
    "print(prior_data)"
   ]
  },
  {
   "cell_type": "code",
   "execution_count": 36,
   "metadata": {},
   "outputs": [
    {
     "data": {
      "image/png": "[encoded data removed]",
      "text/plain": [
       "<Figure size 432x288 with 1 Axes>"
      ]
     },
     "metadata": {
      "needs_background": "light"
     },
     "output_type": "display_data"
    }
   ],
   "source": [
    "# Graph the probabilities\n",
    "sns.lineplot(data=pd.DataFrame(prior_data));\n",
    "plt.title(\"Probability that driver is drunk given x positive breathalyzer tests\");"
   ]
  },
  {
   "cell_type": "markdown",
   "metadata": {},
   "source": [
    "---"
   ]
  },
  {
   "cell_type": "markdown",
   "metadata": {},
   "source": [
    "#### 2. Explore `scipy.stats.bayes_mvs`\n",
    "\n",
    "- Read its [documentation](https://docs.scipy.org/doc/scipy/reference/generated/scipy.stats.bayes_mvs.html#scipy.stats.bayes_mvs)\n",
    "- Experiment with it on data you've tested in other ways earlier this week"
   ]
  },
  {
   "cell_type": "code",
   "execution_count": 29,
   "metadata": {},
   "outputs": [
    {
     "data": {
      "text/plain": [
       "\u001b[0;31mSignature:\u001b[0m \u001b[0mstats\u001b[0m\u001b[0;34m.\u001b[0m\u001b[0mbayes_mvs\u001b[0m\u001b[0;34m(\u001b[0m\u001b[0mdata\u001b[0m\u001b[0;34m,\u001b[0m \u001b[0malpha\u001b[0m\u001b[0;34m=\u001b[0m\u001b[0;36m0.9\u001b[0m\u001b[0;34m)\u001b[0m\u001b[0;34m\u001b[0m\u001b[0;34m\u001b[0m\u001b[0m\n",
       "\u001b[0;31mDocstring:\u001b[0m\n",
       "Bayesian confidence intervals for the mean, var, and std.\n",
       "\n",
       "Parameters\n",
       "----------\n",
       "data : array_like\n",
       "    Input data, if multi-dimensional it is flattened to 1-D by `bayes_mvs`.\n",
       "    Requires 2 or more data points.\n",
       "alpha : float, optional\n",
       "    Probability that the returned confidence interval contains\n",
       "    the true parameter.\n",
       "\n",
       "Returns\n",
       "-------\n",
       "mean_cntr, var_cntr, std_cntr : tuple\n",
       "    The three results are for the mean, variance and standard deviation,\n",
       "    respectively.  Each result is a tuple of the form::\n",
       "\n",
       "        (center, (lower, upper))\n",
       "\n",
       "    with `center` the mean of the conditional pdf of the value given the\n",
       "    data, and `(lower, upper)` a confidence interval, centered on the\n",
       "    median, containing the estimate to a probability ``alpha``.\n",
       "\n",
       "See Also\n",
       "--------\n",
       "mvsdist\n",
       "\n",
       "Notes\n",
       "-----\n",
       "Each tuple of mean, variance, and standard deviation estimates represent\n",
       "the (center, (lower, upper)) with center the mean of the conditional pdf\n",
       "of the value given the data and (lower, upper) is a confidence interval\n",
       "centered on the median, containing the estimate to a probability\n",
       "``alpha``.\n",
       "\n",
       "Converts data to 1-D and assumes all data has the same mean and variance.\n",
       "Uses Jeffrey's prior for variance and std.\n",
       "\n",
       "Equivalent to ``tuple((x.mean(), x.interval(alpha)) for x in mvsdist(dat))``\n",
       "\n",
       "References\n",
       "----------\n",
       "T.E. Oliphant, \"A Bayesian perspective on estimating mean, variance, and\n",
       "standard-deviation from data\", https://scholarsarchive.byu.edu/facpub/278,\n",
       "2006.\n",
       "\n",
       "Examples\n",
       "--------\n",
       "First a basic example to demonstrate the outputs:\n",
       "\n",
       ">>> from scipy import stats\n",
       ">>> data = [6, 9, 12, 7, 8, 8, 13]\n",
       ">>> mean, var, std = stats.bayes_mvs(data)\n",
       ">>> mean\n",
       "Mean(statistic=9.0, minmax=(7.103650222612533, 10.896349777387467))\n",
       ">>> var\n",
       "Variance(statistic=10.0, minmax=(3.176724206..., 24.45910382...))\n",
       ">>> std\n",
       "Std_dev(statistic=2.9724954732045084, minmax=(1.7823367265645143, 4.945614605014631))\n",
       "\n",
       "Now we generate some normally distributed random data, and get estimates of\n",
       "mean and standard deviation with 95% confidence intervals for those\n",
       "estimates:\n",
       "\n",
       ">>> n_samples = 100000\n",
       ">>> data = stats.norm.rvs(size=n_samples)\n",
       ">>> res_mean, res_var, res_std = stats.bayes_mvs(data, alpha=0.95)\n",
       "\n",
       ">>> import matplotlib.pyplot as plt\n",
       ">>> fig = plt.figure()\n",
       ">>> ax = fig.add_subplot(111)\n",
       ">>> ax.hist(data, bins=100, density=True, label='Histogram of data')\n",
       ">>> ax.vlines(res_mean.statistic, 0, 0.5, colors='r', label='Estimated mean')\n",
       ">>> ax.axvspan(res_mean.minmax[0],res_mean.minmax[1], facecolor='r',\n",
       "...            alpha=0.2, label=r'Estimated mean (95% limits)')\n",
       ">>> ax.vlines(res_std.statistic, 0, 0.5, colors='g', label='Estimated scale')\n",
       ">>> ax.axvspan(res_std.minmax[0],res_std.minmax[1], facecolor='g', alpha=0.2,\n",
       "...            label=r'Estimated scale (95% limits)')\n",
       "\n",
       ">>> ax.legend(fontsize=10)\n",
       ">>> ax.set_xlim([-4, 4])\n",
       ">>> ax.set_ylim([0, 0.5])\n",
       ">>> plt.show()\n",
       "\u001b[0;31mFile:\u001b[0m      ~/.vega/dasci/lib/python3.7/site-packages/scipy/stats/morestats.py\n",
       "\u001b[0;31mType:\u001b[0m      function\n"
      ]
     },
     "metadata": {},
     "output_type": "display_data"
    }
   ],
   "source": [
    "?stats.bayes_mvs"
   ]
  },
  {
   "cell_type": "markdown",
   "metadata": {},
   "source": [
    "#### Experimentationalist\n",
    "\n",
    "For this experimentation section, I'll use the `house-votes-84.data` dataset."
   ]
  },
  {
   "cell_type": "code",
   "execution_count": 31,
   "metadata": {},
   "outputs": [
    {
     "name": "stdout",
     "output_type": "stream",
     "text": [
      "--2019-09-18 17:20:57--  https://archive.ics.uci.edu/ml/machine-learning-databases/voting-records/house-votes-84.data\n",
      "Resolving archive.ics.uci.edu (archive.ics.uci.edu)... 128.195.10.252\n",
      "Connecting to archive.ics.uci.edu (archive.ics.uci.edu)|128.195.10.252|:443... connected.\n",
      "HTTP request sent, awaiting response... 200 OK\n",
      "Length: 18171 (18K) [application/x-httpd-php]\n",
      "Saving to: ‘house-votes-84.data’\n",
      "\n",
      "house-votes-84.data 100%[===================>]  17.75K  --.-KB/s    in 0.05s   \n",
      "\n",
      "2019-09-18 17:20:58 (355 KB/s) - ‘house-votes-84.data’ saved [18171/18171]\n",
      "\n"
     ]
    }
   ],
   "source": [
    "# Get the dataset from UCI\n",
    "!wget https://archive.ics.uci.edu/ml/machine-learning-databases/voting-records/house-votes-84.data"
   ]
  },
  {
   "cell_type": "code",
   "execution_count": 33,
   "metadata": {},
   "outputs": [
    {
     "name": "stdout",
     "output_type": "stream",
     "text": [
      "(435, 17)\n"
     ]
    },
    {
     "data": {
      "text/html": [
       "<div>\n",
       "<style scoped>\n",
       "    .dataframe tbody tr th:only-of-type {\n",
       "        vertical-align: middle;\n",
       "    }\n",
       "\n",
       "    .dataframe tbody tr th {\n",
       "        vertical-align: top;\n",
       "    }\n",
       "\n",
       "    .dataframe thead th {\n",
       "        text-align: right;\n",
       "    }\n",
       "</style>\n",
       "<table border=\"1\" class=\"dataframe\">\n",
       "  <thead>\n",
       "    <tr style=\"text-align: right;\">\n",
       "      <th></th>\n",
       "      <th>party</th>\n",
       "      <th>handicapped-infants</th>\n",
       "      <th>water-project</th>\n",
       "      <th>budget</th>\n",
       "      <th>physician-fee-freeze</th>\n",
       "      <th>el-salvador-aid</th>\n",
       "      <th>religious-groups</th>\n",
       "      <th>anti-satellite-ban</th>\n",
       "      <th>aid-to-contras</th>\n",
       "      <th>mx-missile</th>\n",
       "      <th>immigration</th>\n",
       "      <th>synfuels</th>\n",
       "      <th>education</th>\n",
       "      <th>right-to-sue</th>\n",
       "      <th>crime</th>\n",
       "      <th>duty-free</th>\n",
       "      <th>south-africa</th>\n",
       "    </tr>\n",
       "  </thead>\n",
       "  <tbody>\n",
       "    <tr>\n",
       "      <th>0</th>\n",
       "      <td>republican</td>\n",
       "      <td>0.0</td>\n",
       "      <td>1.0</td>\n",
       "      <td>0.0</td>\n",
       "      <td>1.0</td>\n",
       "      <td>1.0</td>\n",
       "      <td>1.0</td>\n",
       "      <td>0.0</td>\n",
       "      <td>0.0</td>\n",
       "      <td>0.0</td>\n",
       "      <td>1.0</td>\n",
       "      <td>NaN</td>\n",
       "      <td>1.0</td>\n",
       "      <td>1.0</td>\n",
       "      <td>1.0</td>\n",
       "      <td>0.0</td>\n",
       "      <td>1.0</td>\n",
       "    </tr>\n",
       "    <tr>\n",
       "      <th>1</th>\n",
       "      <td>republican</td>\n",
       "      <td>0.0</td>\n",
       "      <td>1.0</td>\n",
       "      <td>0.0</td>\n",
       "      <td>1.0</td>\n",
       "      <td>1.0</td>\n",
       "      <td>1.0</td>\n",
       "      <td>0.0</td>\n",
       "      <td>0.0</td>\n",
       "      <td>0.0</td>\n",
       "      <td>0.0</td>\n",
       "      <td>0.0</td>\n",
       "      <td>1.0</td>\n",
       "      <td>1.0</td>\n",
       "      <td>1.0</td>\n",
       "      <td>0.0</td>\n",
       "      <td>NaN</td>\n",
       "    </tr>\n",
       "    <tr>\n",
       "      <th>2</th>\n",
       "      <td>democrat</td>\n",
       "      <td>NaN</td>\n",
       "      <td>1.0</td>\n",
       "      <td>1.0</td>\n",
       "      <td>NaN</td>\n",
       "      <td>1.0</td>\n",
       "      <td>1.0</td>\n",
       "      <td>0.0</td>\n",
       "      <td>0.0</td>\n",
       "      <td>0.0</td>\n",
       "      <td>0.0</td>\n",
       "      <td>1.0</td>\n",
       "      <td>0.0</td>\n",
       "      <td>1.0</td>\n",
       "      <td>1.0</td>\n",
       "      <td>0.0</td>\n",
       "      <td>0.0</td>\n",
       "    </tr>\n",
       "    <tr>\n",
       "      <th>3</th>\n",
       "      <td>democrat</td>\n",
       "      <td>0.0</td>\n",
       "      <td>1.0</td>\n",
       "      <td>1.0</td>\n",
       "      <td>0.0</td>\n",
       "      <td>NaN</td>\n",
       "      <td>1.0</td>\n",
       "      <td>0.0</td>\n",
       "      <td>0.0</td>\n",
       "      <td>0.0</td>\n",
       "      <td>0.0</td>\n",
       "      <td>1.0</td>\n",
       "      <td>0.0</td>\n",
       "      <td>1.0</td>\n",
       "      <td>0.0</td>\n",
       "      <td>0.0</td>\n",
       "      <td>1.0</td>\n",
       "    </tr>\n",
       "    <tr>\n",
       "      <th>4</th>\n",
       "      <td>democrat</td>\n",
       "      <td>1.0</td>\n",
       "      <td>1.0</td>\n",
       "      <td>1.0</td>\n",
       "      <td>0.0</td>\n",
       "      <td>1.0</td>\n",
       "      <td>1.0</td>\n",
       "      <td>0.0</td>\n",
       "      <td>0.0</td>\n",
       "      <td>0.0</td>\n",
       "      <td>0.0</td>\n",
       "      <td>1.0</td>\n",
       "      <td>NaN</td>\n",
       "      <td>1.0</td>\n",
       "      <td>1.0</td>\n",
       "      <td>1.0</td>\n",
       "      <td>1.0</td>\n",
       "    </tr>\n",
       "  </tbody>\n",
       "</table>\n",
       "</div>"
      ],
      "text/plain": [
       "        party  handicapped-infants  water-project  budget  \\\n",
       "0  republican                  0.0            1.0     0.0   \n",
       "1  republican                  0.0            1.0     0.0   \n",
       "2    democrat                  NaN            1.0     1.0   \n",
       "3    democrat                  0.0            1.0     1.0   \n",
       "4    democrat                  1.0            1.0     1.0   \n",
       "\n",
       "   physician-fee-freeze  el-salvador-aid  religious-groups  \\\n",
       "0                   1.0              1.0               1.0   \n",
       "1                   1.0              1.0               1.0   \n",
       "2                   NaN              1.0               1.0   \n",
       "3                   0.0              NaN               1.0   \n",
       "4                   0.0              1.0               1.0   \n",
       "\n",
       "   anti-satellite-ban  aid-to-contras  mx-missile  immigration  synfuels  \\\n",
       "0                 0.0             0.0         0.0          1.0       NaN   \n",
       "1                 0.0             0.0         0.0          0.0       0.0   \n",
       "2                 0.0             0.0         0.0          0.0       1.0   \n",
       "3                 0.0             0.0         0.0          0.0       1.0   \n",
       "4                 0.0             0.0         0.0          0.0       1.0   \n",
       "\n",
       "   education  right-to-sue  crime  duty-free  south-africa  \n",
       "0        1.0           1.0    1.0        0.0           1.0  \n",
       "1        1.0           1.0    1.0        0.0           NaN  \n",
       "2        0.0           1.0    1.0        0.0           0.0  \n",
       "3        0.0           1.0    0.0        0.0           1.0  \n",
       "4        NaN           1.0    1.0        1.0           1.0  "
      ]
     },
     "execution_count": 33,
     "metadata": {},
     "output_type": "execute_result"
    }
   ],
   "source": [
    "# Load the dataset into a dataframe and add column headers\n",
    "df = pd.read_csv('house-votes-84.data', \n",
    "                 header=None,\n",
    "                 names=['party','handicapped-infants','water-project',\n",
    "                          'budget','physician-fee-freeze', 'el-salvador-aid',\n",
    "                          'religious-groups','anti-satellite-ban',\n",
    "                          'aid-to-contras','mx-missile','immigration',\n",
    "                          'synfuels', 'education', 'right-to-sue','crime','duty-free',\n",
    "                          'south-africa'])\n",
    "\n",
    "# Replace \"?\" with NaN and \"y\" / \"n\" with 1 / 0 \n",
    "df = df.replace({\n",
    "    \"?\": np.NaN,\n",
    "    \"n\": 0,\n",
    "    \"y\": 1,\n",
    "})\n",
    "\n",
    "print(df.shape)\n",
    "df.head()"
   ]
  },
  {
   "cell_type": "markdown",
   "metadata": {},
   "source": [
    "> Calculate 95% confidence interval for \"education\" using Bayesian approach"
   ]
  },
  {
   "cell_type": "code",
   "execution_count": 39,
   "metadata": {},
   "outputs": [
    {
     "data": {
      "text/plain": [
       "False    404\n",
       "True      31\n",
       "Name: education, dtype: int64"
      ]
     },
     "execution_count": 39,
     "metadata": {},
     "output_type": "execute_result"
    }
   ],
   "source": [
    "# First, can't have any null values!\n",
    "# Let's count those bad boiz\n",
    "df[\"education\"].isnull().value_counts()  \n",
    "# 31 abstentions, resulting in 31 NaN values\n",
    "# Some senators just don't care about the kids..."
   ]
  },
  {
   "cell_type": "code",
   "execution_count": 43,
   "metadata": {},
   "outputs": [
    {
     "name": "stdout",
     "output_type": "stream",
     "text": [
      "404\n"
     ]
    }
   ],
   "source": [
    "# Create pd.Series without the absentees\n",
    "# Why yes...I do like to break things up into as many steps as possible (sometimes)\n",
    "edumacation = df[\"education\"].dropna(how=\"any\")\n",
    "print(len(edumacation))  # 404: government not found. Please try again later..."
   ]
  },
  {
   "cell_type": "code",
   "execution_count": 45,
   "metadata": {},
   "outputs": [
    {
     "name": "stdout",
     "output_type": "stream",
     "text": [
      "Mean(statistic=0.42326732673267325, minmax=(0.37488391760148726, 0.47165073586385925))\n"
     ]
    }
   ],
   "source": [
    "mean_ci_edu, _, _ = stats.bayes_mvs(edumacation, alpha=0.95)\n",
    "print(mean_ci_edu)"
   ]
  },
  {
   "cell_type": "markdown",
   "metadata": {},
   "source": [
    "> Calculate 99% confidence interval for \"duty-free\" also using Bayesian approach"
   ]
  },
  {
   "cell_type": "code",
   "execution_count": 47,
   "metadata": {},
   "outputs": [
    {
     "name": "stdout",
     "output_type": "stream",
     "text": [
      "Mean(statistic=0.4275184275184275, minmax=(0.3639768162425481, 0.49106003879430693))\n"
     ]
    }
   ],
   "source": [
    "# Now to do that all in one go, because I can\n",
    "# ...and I like experimentating\n",
    "mean_ci_doody, _, _ = stats.bayes_mvs(df[\"duty-free\"].dropna(), alpha=0.99)\n",
    "print(mean_ci_doody)"
   ]
  },
  {
   "cell_type": "markdown",
   "metadata": {},
   "source": [
    "> Calculate 99% Bayesian confidence interval for \"education\", by party"
   ]
  },
  {
   "cell_type": "code",
   "execution_count": 62,
   "metadata": {},
   "outputs": [
    {
     "name": "stdout",
     "output_type": "stream",
     "text": [
      "I just wanted to say that...\n"
     ]
    }
   ],
   "source": [
    "# Create new dataframe with party as columns - so I can loop over to create the intervals\n",
    "# Ready for some hot and steamy `.melt()` action?\n",
    "# I don't even need to...doesn't really make sense in this instance.\n",
    "print(\"I just wanted to say that...\")"
   ]
  },
  {
   "cell_type": "code",
   "execution_count": 70,
   "metadata": {},
   "outputs": [
    {
     "data": {
      "text/html": [
       "<div>\n",
       "<style scoped>\n",
       "    .dataframe tbody tr th:only-of-type {\n",
       "        vertical-align: middle;\n",
       "    }\n",
       "\n",
       "    .dataframe tbody tr th {\n",
       "        vertical-align: top;\n",
       "    }\n",
       "\n",
       "    .dataframe thead th {\n",
       "        text-align: right;\n",
       "    }\n",
       "</style>\n",
       "<table border=\"1\" class=\"dataframe\">\n",
       "  <thead>\n",
       "    <tr style=\"text-align: right;\">\n",
       "      <th></th>\n",
       "      <th>party</th>\n",
       "      <th>education</th>\n",
       "    </tr>\n",
       "  </thead>\n",
       "  <tbody>\n",
       "    <tr>\n",
       "      <th>0</th>\n",
       "      <td>republican</td>\n",
       "      <td>1.0</td>\n",
       "    </tr>\n",
       "    <tr>\n",
       "      <th>1</th>\n",
       "      <td>republican</td>\n",
       "      <td>1.0</td>\n",
       "    </tr>\n",
       "    <tr>\n",
       "      <th>2</th>\n",
       "      <td>democrat</td>\n",
       "      <td>0.0</td>\n",
       "    </tr>\n",
       "    <tr>\n",
       "      <th>3</th>\n",
       "      <td>democrat</td>\n",
       "      <td>0.0</td>\n",
       "    </tr>\n",
       "    <tr>\n",
       "      <th>5</th>\n",
       "      <td>democrat</td>\n",
       "      <td>0.0</td>\n",
       "    </tr>\n",
       "  </tbody>\n",
       "</table>\n",
       "</div>"
      ],
      "text/plain": [
       "        party  education\n",
       "0  republican        1.0\n",
       "1  republican        1.0\n",
       "2    democrat        0.0\n",
       "3    democrat        0.0\n",
       "5    democrat        0.0"
      ]
     },
     "execution_count": 70,
     "metadata": {},
     "output_type": "execute_result"
    }
   ],
   "source": [
    "party_education = df[[\"party\", \"education\"]].dropna()  # Also just wanted to say that\n",
    "party_education.head()"
   ]
  },
  {
   "cell_type": "code",
   "execution_count": 78,
   "metadata": {},
   "outputs": [
    {
     "name": "stdout",
     "output_type": "stream",
     "text": [
      "<class 'pandas.core.series.Series'>\n"
     ]
    }
   ],
   "source": [
    "print(type(df[\"duty-free\"]))"
   ]
  },
  {
   "cell_type": "code",
   "execution_count": 84,
   "metadata": {},
   "outputs": [
    {
     "name": "stdout",
     "output_type": "stream",
     "text": [
      "Party: Democrat\n",
      "Mean: 0.14457831325301204\n",
      "99.0% Confidence Interval: (0.08661050929949306, 0.20254611720653104)\n",
      "\n",
      "Party: Republican\n",
      "Mean: 0.8709677419354839\n",
      "99.0% Confidence Interval: (0.8005115457663251, 0.9414239381046426)\n",
      "\n"
     ]
    }
   ],
   "source": [
    "# Iterate through the parties, calculating the Bayesian confidence intervals for each\n",
    "\n",
    "confidence_level = 0.99\n",
    "\n",
    "# Group by party, then iterate over the groups\n",
    "for name, group in party_education.groupby(party_education[\"party\"]):\n",
    "    mean_ci_group, _, _ = stats.bayes_mvs(group[\"education\"], alpha=confidence_level)\n",
    "    print(f\"Party: {name.title()}\")\n",
    "    print(f\"Mean: {mean_ci_group[0]}\")\n",
    "    print(f\"{confidence_level * 100}% Confidence Interval: {mean_ci_group[1]}\")\n",
    "    print(\"\")"
   ]
  },
  {
   "cell_type": "markdown",
   "metadata": {},
   "source": [
    "---"
   ]
  },
  {
   "cell_type": "markdown",
   "metadata": {},
   "source": [
    "#### 3. Create a visualization comparing the results of a Bayesian approach to a traditional/frequentist approach"
   ]
  },
  {
   "cell_type": "code",
   "execution_count": 85,
   "metadata": {},
   "outputs": [],
   "source": [
    "# Frequentist calculation of confidence interval\n",
    "\n",
    "def confidence_interval(data, confidence=0.95):\n",
    "    \"\"\"\n",
    "    Calculates a confidence interval around a sample mean for given data,\n",
    "    using t-distribution and two-tailed test, default 95% confidence. \n",
    "\n",
    "    Arguments:\n",
    "    data - iterable (list or numpy array) of sample observations\n",
    "    confidence - level of confidence for the interval\n",
    "\n",
    "    Returns:\n",
    "    tuple of (mean, lower bound, upper bound)\n",
    "    \"\"\"\n",
    "    data = np.array(data)  # Standardize to numpy array\n",
    "    mean = np.mean(data)\n",
    "    n = len(data)\n",
    "    \n",
    "    # Stdev divided by sqare root of n (degrees of freedom / # observations)\n",
    "    stderr = np.std(data, ddof=1) / np.sqrt(n)\n",
    "    # stderr = stats.sem(data)\n",
    "    \n",
    "    # Std error multiplied by t-statistic\n",
    "    margin_of_error = stderr * stats.t.ppf((1 + confidence) / 2.0, n - 1)\n",
    "    print(margin_of_error)\n",
    "\n",
    "    return (mean, mean - margin_of_error, mean + margin_of_error)"
   ]
  },
  {
   "cell_type": "code",
   "execution_count": 92,
   "metadata": {},
   "outputs": [
    {
     "name": "stdout",
     "output_type": "stream",
     "text": [
      "0.04838340913118599\n",
      "(0.42326732673267325, 0.37488391760148726, 0.47165073586385925)\n"
     ]
    }
   ],
   "source": [
    "# This time, I'm a Freq for confidence intervals\n",
    "ci_freq = confidence_interval(edumacation)\n",
    "print(ci_freq)"
   ]
  },
  {
   "cell_type": "code",
   "execution_count": 94,
   "metadata": {},
   "outputs": [
    {
     "name": "stdout",
     "output_type": "stream",
     "text": [
      "(0.42326732673267325, (0.37488391760148726, 0.47165073586385925))\n"
     ]
    }
   ],
   "source": [
    "# I already hit the BAEsian, but tuple-ize it to plot it\n",
    "ci_bae = tuple(mean_ci_edu)\n",
    "print(ci_bae)"
   ]
  },
  {
   "cell_type": "code",
   "execution_count": 103,
   "metadata": {},
   "outputs": [
    {
     "data": {
      "image/png": "[encoded data removed]",
      "text/plain": [
       "<Figure size 432x288 with 1 Axes>"
      ]
     },
     "metadata": {
      "needs_background": "light"
     },
     "output_type": "display_data"
    }
   ],
   "source": [
    "# Plot with seaborn kdeplot\n",
    "sns.kdeplot(edumacation)\n",
    "\n",
    "# Bayesian CI\n",
    "plt.axvline(x=ci_bae[1][0], color=\"r\");\n",
    "plt.axvline(x=ci_bae[1][1], color=\"r\");\n",
    "plt.axvline(x=ci_bae[0], color=\"orange\");\n",
    "\n",
    "# Frequentist CI\n",
    "plt.axvline(x=ci_freq[1], color=\"b\");\n",
    "plt.axvline(x=ci_freq[2], color=\"b\");\n",
    "plt.axvline(x=ci_freq[0], color=\"purple\");"
   ]
  },
  {
   "cell_type": "code",
   "execution_count": 104,
   "metadata": {},
   "outputs": [
    {
     "data": {
      "image/png": "[encoded data removed]",
      "text/plain": [
       "<Figure size 432x288 with 1 Axes>"
      ]
     },
     "metadata": {
      "needs_background": "light"
     },
     "output_type": "display_data"
    }
   ],
   "source": [
    "# Based on the plot given as an example in the `.bayes_mvs()` documentation\n",
    "\n",
    "# Create figure and axes\n",
    "fig = plt.figure()\n",
    "ax = fig.add_subplot(111)\n",
    "\n",
    "ax.hist(edumacation, bins=100, density=True, label='Histogram of data')\n",
    "\n",
    "ax.vlines(ci_bae[0], 0, 0.5, colors='r', label='Estimated mean (Bayesian)')\n",
    "ax.axvspan(ci_bae[1][0],ci_bae[1][1], facecolor='r',\n",
    "           alpha=0.2, label=r'Estimated mean (99% limits)')\n",
    "\n",
    "ax.vlines(ci_freq[0], 0, 0.5, colors='b', label='Estimated mean (Frequentist)')\n",
    "ax.axvspan(ci_freq[1],ci_freq[2], facecolor='b',\n",
    "           alpha=0.2, label=r'Estimated mean (99% limits)')\n",
    "\n",
    "ax.legend(fontsize=10)\n",
    "# ax.set_xlim([-4, 4])\n",
    "# ax.set_ylim([0, 0.5])\n",
    "\n",
    "plt.show()"
   ]
  },
  {
   "cell_type": "markdown",
   "metadata": {},
   "source": [
    "---"
   ]
  },
  {
   "cell_type": "markdown",
   "metadata": {},
   "source": [
    "#### 4. In your own words, summarize the difference between Bayesian and Frequentist statistics"
   ]
  },
  {
   "cell_type": "markdown",
   "metadata": {},
   "source": [
    "Frequentist statistical inference is based on sample size, using probabilities based on large sample sizes to infer long run frequencies, and therefore expected values or results. As such, Frequentist statistics is less dependable with smaller sample sizes.\n",
    "\n",
    "Bayesian statistics uses prior information about the question being asked to make initial inferences, representing uncertainty with probability distributions. Open collecting more data on a certain parameter, the probability distribution can be updated."
   ]
  },
  {
   "cell_type": "code",
   "execution_count": null,
   "metadata": {},
   "outputs": [],
   "source": []
  },
  {
   "cell_type": "code",
   "execution_count": null,
   "metadata": {},
   "outputs": [],
   "source": []
  },
  {
   "cell_type": "code",
   "execution_count": null,
   "metadata": {},
   "outputs": [],
   "source": []
  },
  {
   "cell_type": "code",
   "execution_count": null,
   "metadata": {},
   "outputs": [],
   "source": []
  },
  {
   "cell_type": "code",
   "execution_count": null,
   "metadata": {},
   "outputs": [],
   "source": []
  },
  {
   "cell_type": "code",
   "execution_count": null,
   "metadata": {},
   "outputs": [],
   "source": []
  },
  {
   "cell_type": "code",
   "execution_count": null,
   "metadata": {},
   "outputs": [],
   "source": []
  },
  {
   "cell_type": "code",
   "execution_count": null,
   "metadata": {},
   "outputs": [],
   "source": []
  }
 ],
 "metadata": {
  "colab": {
   "include_colab_link": true,
   "name": "LS_DS_133_Introduction_to_Bayesian_Inference_Assignment.ipynb",
   "provenance": [],
   "version": "0.3.2"
  },
  "kernelspec": {
   "display_name": "Python 3",
   "language": "python",
   "name": "python3"
  },
  "language_info": {
   "codemirror_mode": {
    "name": "ipython",
    "version": 3
   },
   "file_extension": ".py",
   "mimetype": "text/x-python",
   "name": "python",
   "nbconvert_exporter": "python",
   "pygments_lexer": "ipython3",
   "version": "3.7.3"
  }
 },
 "nbformat": 4,
 "nbformat_minor": 4
}
