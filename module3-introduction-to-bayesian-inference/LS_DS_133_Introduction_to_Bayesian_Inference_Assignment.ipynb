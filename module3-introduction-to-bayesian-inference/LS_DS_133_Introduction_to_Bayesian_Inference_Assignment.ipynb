{
  "nbformat": 4,
  "nbformat_minor": 0,
  "metadata": {
    "colab": {
      "name": "LS_DS_133_Introduction_to_Bayesian_Inference_Assignment.ipynb",
      "provenance": [],
      "include_colab_link": true
    },
    "kernelspec": {
      "name": "python3",
      "display_name": "Python 3"
    }
  },
  "cells": [
    {
      "cell_type": "markdown",
      "metadata": {
        "id": "view-in-github",
        "colab_type": "text"
      },
      "source": [
        "<a href=\"https://colab.research.google.com/github/Nckflannery/DS-Unit-1-Sprint-3-Statistical-Tests-and-Experiments/blob/master/module3-introduction-to-bayesian-inference/LS_DS_133_Introduction_to_Bayesian_Inference_Assignment.ipynb\" target=\"_parent\"><img src=\"https://colab.research.google.com/assets/colab-badge.svg\" alt=\"Open In Colab\"/></a>"
      ]
    },
    {
      "cell_type": "markdown",
      "metadata": {
        "id": "H7OLbevlbd_Z",
        "colab_type": "text"
      },
      "source": [
        "# Lambda School Data Science Module 133\n",
        "\n",
        "## Introduction to Bayesian Inference\n",
        "\n",
        "\n"
      ]
    },
    {
      "cell_type": "markdown",
      "metadata": {
        "id": "P-DzzRk5bf0z",
        "colab_type": "text"
      },
      "source": [
        "## Assignment - Code it up!\n",
        "\n",
        "Most of the above was pure math - now write Python code to reproduce the results! This is purposefully open ended - you'll have to think about how you should represent probabilities and events. You can and should look things up, and as a stretch goal - refactor your code into helpful reusable functions!\n",
        "\n",
        "Specific goals/targets:\n",
        "\n",
        "1. Write a function `def prob_drunk_given_positive(prob_drunk_prior, prob_positive, prob_positive_drunk)` that reproduces the example from lecture, and use it to calculate and visualize a range of situations\n",
        "2. Explore `scipy.stats.bayes_mvs` - read its documentation, and experiment with it on data you've tested in other ways earlier this week\n",
        "3. Create a visualization comparing the results of a Bayesian approach to a traditional/frequentist approach\n",
        "4. In your own words, summarize the difference between Bayesian and Frequentist statistics\n",
        "\n",
        "If you're unsure where to start, check out [this blog post of Bayes theorem with Python](https://dataconomy.com/2015/02/introduction-to-bayes-theorem-with-python/) - you could and should create something similar!\n",
        "\n",
        "Stretch goals:\n",
        "\n",
        "- Apply a Bayesian technique to a problem you previously worked (in an assignment or project work) on from a frequentist (standard) perspective\n",
        "- Check out [PyMC3](https://docs.pymc.io/) (note this goes beyond hypothesis tests into modeling) - read the guides and work through some examples\n",
        "- Take PyMC3 further - see if you can build something with it!"
      ]
    },
    {
      "cell_type": "markdown",
      "metadata": {
        "id": "B-L7jkxUDpGM",
        "colab_type": "text"
      },
      "source": [
        "##1. Write a function def prob_drunk_given_positive(prob_drunk_prior, prob_positive, prob_positive_drunk) that reproduces the example from lecture, and use it to calculate and visualize a range of situations"
      ]
    },
    {
      "cell_type": "code",
      "metadata": {
        "id": "xpVhZyUnbf7o",
        "colab_type": "code",
        "colab": {}
      },
      "source": [
        "# Bayesian results\n",
        "def prob_drunk_positive(prob_drunk_prior, prob_positive, prob_positive_drunk):\n",
        " for i in range(0,10): \n",
        "   prob_drunk_prior = (prob_positive_drunk*prob_drunk_prior)/(prob_positive_drunk*prob_drunk_prior + prob_positive*(1-prob_drunk_prior))\n",
        "   print(f'Likelyhood that somebody is drunk given they tested positive on {i+1} tests: {round(prob_drunk_prior*100, 6)}%')"
      ],
      "execution_count": 0,
      "outputs": []
    },
    {
      "cell_type": "code",
      "metadata": {
        "id": "UsIMIjk62pxU",
        "colab_type": "code",
        "outputId": "3edae9c1-38e0-4151-ebc2-4facdf4d6117",
        "colab": {
          "base_uri": "https://localhost:8080/",
          "height": 187
        }
      },
      "source": [
        "prob_drunk_positive(.001, .08, 1)"
      ],
      "execution_count": 0,
      "outputs": [
        {
          "output_type": "stream",
          "text": [
            "Likelyhood that somebody is drunk given they tested positive on 1 tests: 1.235788%\n",
            "Likelyhood that somebody is drunk given they tested positive on 2 tests: 13.525211%\n",
            "Likelyhood that somebody is drunk given they tested positive on 3 tests: 66.15997%\n",
            "Likelyhood that somebody is drunk given they tested positive on 4 tests: 96.068951%\n",
            "Likelyhood that somebody is drunk given they tested positive on 5 tests: 99.673716%\n",
            "Likelyhood that somebody is drunk given they tested positive on 6 tests: 99.973819%\n",
            "Likelyhood that somebody is drunk given they tested positive on 7 tests: 99.997905%\n",
            "Likelyhood that somebody is drunk given they tested positive on 8 tests: 99.999832%\n",
            "Likelyhood that somebody is drunk given they tested positive on 9 tests: 99.999987%\n",
            "Likelyhood that somebody is drunk given they tested positive on 10 tests: 99.999999%\n"
          ],
          "name": "stdout"
        }
      ]
    },
    {
      "cell_type": "markdown",
      "metadata": {
        "id": "7xn9bZhGQZ23",
        "colab_type": "text"
      },
      "source": [
        "## 2. Explore scipy.stats.bayes_mvs - read its documentation, and experiment with it on data you've tested in other ways earlier this week"
      ]
    },
    {
      "cell_type": "code",
      "metadata": {
        "id": "-7w-BmxDkQR4",
        "colab_type": "code",
        "outputId": "efb37ebe-8fe4-4cd8-a06c-3a343d11e72e",
        "colab": {
          "base_uri": "https://localhost:8080/",
          "height": 204
        }
      },
      "source": [
        "import scipy.stats as stats\n",
        "import pandas as pd\n",
        "import numpy as np\n",
        "# Load the data\n",
        "!wget 'https://archive.ics.uci.edu/ml/machine-learning-databases/voting-records/house-votes-84.data'"
      ],
      "execution_count": 0,
      "outputs": [
        {
          "output_type": "stream",
          "text": [
            "--2019-09-18 23:10:22--  https://archive.ics.uci.edu/ml/machine-learning-databases/voting-records/house-votes-84.data\n",
            "Resolving archive.ics.uci.edu (archive.ics.uci.edu)... 128.195.10.252\n",
            "Connecting to archive.ics.uci.edu (archive.ics.uci.edu)|128.195.10.252|:443... connected.\n",
            "HTTP request sent, awaiting response... 200 OK\n",
            "Length: 18171 (18K) [application/x-httpd-php]\n",
            "Saving to: ‘house-votes-84.data.2’\n",
            "\n",
            "\rhouse-votes-84.data   0%[                    ]       0  --.-KB/s               \rhouse-votes-84.data 100%[===================>]  17.75K  --.-KB/s    in 0.03s   \n",
            "\n",
            "2019-09-18 23:10:22 (589 KB/s) - ‘house-votes-84.data.2’ saved [18171/18171]\n",
            "\n"
          ],
          "name": "stdout"
        }
      ]
    },
    {
      "cell_type": "code",
      "metadata": {
        "id": "P7uGoNDukspu",
        "colab_type": "code",
        "colab": {}
      },
      "source": [
        "# Read in data and set column names\n",
        "df = pd.read_csv('house-votes-84.data', names=['party','handicapped-infants',\n",
        "                          'water-project', 'budget', 'physician-fee-freeze', \n",
        "                          'el-salvador-aid', 'religious-groups', \n",
        "                          'anti-satellite-ban', 'aid-to-contras', 'mx-missile',\n",
        "                          'immigration', 'synfuels', 'education', \n",
        "                          'right-to-sue','crime','duty-free', 'south-africa'])\n",
        "# Clean data\n",
        "df = df.replace({'y':1 , 'n':0, '?':np.nan})\n",
        "# Seperate data by Democrat or Republicn\n",
        "dem = df[df['party'] == 'democrat']\n",
        "rep = df[df['party'] == 'republican']"
      ],
      "execution_count": 0,
      "outputs": []
    },
    {
      "cell_type": "code",
      "metadata": {
        "id": "wieSRk7Qpuk9",
        "colab_type": "code",
        "colab": {}
      },
      "source": [
        "# Confidence interval function\n",
        "def confidence_interval(data, confidence=0.95):\n",
        "\n",
        "  data = np.array(data)\n",
        "  mean = np.mean(data)\n",
        "  n = len(data)\n",
        "  stderr = np.std(data, ddof=1) / np.sqrt(n)\n",
        "  margin_of_error = stderr * stats.t.ppf((1 + confidence) / 2.0, n - 1)\n",
        "  return (mean, mean - margin_of_error, mean + margin_of_error)"
      ],
      "execution_count": 0,
      "outputs": []
    },
    {
      "cell_type": "code",
      "metadata": {
        "id": "dEO-4gnPpCh1",
        "colab_type": "code",
        "outputId": "43826b81-b925-4613-98b8-511d0d525bc3",
        "colab": {
          "base_uri": "https://localhost:8080/",
          "height": 68
        }
      },
      "source": [
        "stats.bayes_mvs(dem['duty-free'].dropna(), alpha=.95)"
      ],
      "execution_count": 0,
      "outputs": [
        {
          "output_type": "execute_result",
          "data": {
            "text/plain": [
              "(Mean(statistic=0.6374501992031872, minmax=(0.5775687099725446, 0.6973316884338299)),\n",
              " Variance(statistic=0.23390309728826628, minmax=(0.19617923247429017, 0.27875339693441)),\n",
              " Std_dev(statistic=0.48314800506771427, minmax=(0.44292124861457044, 0.5279710190288951)))"
            ]
          },
          "metadata": {
            "tags": []
          },
          "execution_count": 275
        }
      ]
    },
    {
      "cell_type": "code",
      "metadata": {
        "id": "gcC33jDkqB8d",
        "colab_type": "code",
        "outputId": "d4de86a9-39a9-4397-e6dd-0015cfd05888",
        "colab": {
          "base_uri": "https://localhost:8080/",
          "height": 34
        }
      },
      "source": [
        "confidence_interval(dem['duty-free'].dropna())"
      ],
      "execution_count": 0,
      "outputs": [
        {
          "output_type": "execute_result",
          "data": {
            "text/plain": [
              "(0.6374501992031872, 0.5775687099725446, 0.6973316884338299)"
            ]
          },
          "metadata": {
            "tags": []
          },
          "execution_count": 268
        }
      ]
    },
    {
      "cell_type": "code",
      "metadata": {
        "id": "R--s9kvuqIRr",
        "colab_type": "code",
        "outputId": "5bd39580-7dfb-4058-b165-07c1dca44dd4",
        "colab": {
          "base_uri": "https://localhost:8080/",
          "height": 68
        }
      },
      "source": [
        "stats.bayes_mvs(rep['mx-missile'].dropna(), alpha=.95)"
      ],
      "execution_count": 0,
      "outputs": [
        {
          "output_type": "execute_result",
          "data": {
            "text/plain": [
              "(Mean(statistic=0.11515151515151516, minmax=(0.06593485907282265, 0.16436817123020767)),\n",
              " Variance(statistic=0.10377852600074824, minmax=(0.08349650021489281, 0.1288936365098166)),\n",
              " Std_dev(statistic=0.32164999257610655, minmax=(0.2889576097196487, 0.3590175991644652)))"
            ]
          },
          "metadata": {
            "tags": []
          },
          "execution_count": 277
        }
      ]
    },
    {
      "cell_type": "code",
      "metadata": {
        "id": "O7xndru8q6Fz",
        "colab_type": "code",
        "outputId": "bcfe4a01-e209-411b-e996-3d75800e933e",
        "colab": {
          "base_uri": "https://localhost:8080/",
          "height": 34
        }
      },
      "source": [
        "confidence_interval(rep['mx-missile'].dropna())"
      ],
      "execution_count": 0,
      "outputs": [
        {
          "output_type": "execute_result",
          "data": {
            "text/plain": [
              "(0.11515151515151516, 0.06593485907282265, 0.16436817123020767)"
            ]
          },
          "metadata": {
            "tags": []
          },
          "execution_count": 278
        }
      ]
    },
    {
      "cell_type": "markdown",
      "metadata": {
        "id": "IkhF5QZRDs7U",
        "colab_type": "text"
      },
      "source": [
        "## 3. Create a visualization comparing the results of a Bayesian approach to a traditional/frequentist approach"
      ]
    },
    {
      "cell_type": "code",
      "metadata": {
        "id": "rKl3HgV9AYRU",
        "colab_type": "code",
        "colab": {}
      },
      "source": [
        "# Traditional/frequentist function\n",
        "def traditional(prob_positive, prob_false_positive):\n",
        "  for i in range(1,11):\n",
        "      prob_positive1 = prob_positive - prob_false_positive**(i)\n",
        "      print(f'Likelyhood that somebody is drunk given they tested positive on {i} tests: {prob_positive1*100}%')"
      ],
      "execution_count": 0,
      "outputs": []
    },
    {
      "cell_type": "code",
      "metadata": {
        "id": "Kpbe3hEVBvni",
        "colab_type": "code",
        "outputId": "27e192ca-d7c8-48df-be06-cedf9bd9e547",
        "colab": {
          "base_uri": "https://localhost:8080/",
          "height": 185
        }
      },
      "source": [
        "traditional(1, .08)"
      ],
      "execution_count": 6,
      "outputs": [
        {
          "output_type": "stream",
          "text": [
            "Likelyhood that somebody is drunk given they tested positive on 1 tests: 92.0%\n",
            "Likelyhood that somebody is drunk given they tested positive on 2 tests: 99.36%\n",
            "Likelyhood that somebody is drunk given they tested positive on 3 tests: 99.9488%\n",
            "Likelyhood that somebody is drunk given they tested positive on 4 tests: 99.995904%\n",
            "Likelyhood that somebody is drunk given they tested positive on 5 tests: 99.99967232%\n",
            "Likelyhood that somebody is drunk given they tested positive on 6 tests: 99.9999737856%\n",
            "Likelyhood that somebody is drunk given they tested positive on 7 tests: 99.99999790284801%\n",
            "Likelyhood that somebody is drunk given they tested positive on 8 tests: 99.99999983222784%\n",
            "Likelyhood that somebody is drunk given they tested positive on 9 tests: 99.99999998657823%\n",
            "Likelyhood that somebody is drunk given they tested positive on 10 tests: 99.99999999892626%\n"
          ],
          "name": "stdout"
        }
      ]
    },
    {
      "cell_type": "code",
      "metadata": {
        "id": "IQDfYRiTDnrh",
        "colab_type": "code",
        "colab": {}
      },
      "source": [
        "# Let's rewrite the functions to fix the outputs for plotting\n",
        "# Bayesian results\n",
        "def prob_drunk_positive1(prob_drunk_prior, prob_positive, prob_positive_drunk):\n",
        "  prob_df = []\n",
        "  for i in range(0,10): \n",
        "   prob_drunk_prior = (prob_positive_drunk*prob_drunk_prior)/(prob_positive_drunk*prob_drunk_prior + prob_positive*(1-prob_drunk_prior))\n",
        "   prob_df.append(prob_drunk_prior)\n",
        "  return prob_df\n",
        "\n",
        "# Traditional/frequentist\n",
        "def traditional1(prob_positive, prob_false_positive):\n",
        "  prob_df = []\n",
        "  for i in range(1,11):\n",
        "      prob_positive1 = prob_positive - prob_false_positive**(i)\n",
        "      prob_df.append(prob_positive1)\n",
        "  return prob_df"
      ],
      "execution_count": 0,
      "outputs": []
    },
    {
      "cell_type": "code",
      "metadata": {
        "id": "DjzghxRpDnxU",
        "colab_type": "code",
        "colab": {}
      },
      "source": [
        "import matplotlib.pyplot as plt\n",
        "\n",
        "bayesian = prob_drunk_positive1(.001, .08, 1)\n",
        "traditional = traditional1(1, .08)"
      ],
      "execution_count": 0,
      "outputs": []
    },
    {
      "cell_type": "code",
      "metadata": {
        "id": "QmUoUAc_GJy1",
        "colab_type": "code",
        "outputId": "d39920cf-e596-46ad-bd4a-3f48120422e1",
        "colab": {
          "base_uri": "https://localhost:8080/",
          "height": 400
        }
      },
      "source": [
        "plt.style.use('seaborn-whitegrid')\n",
        "\n",
        "fig, ax = plt.subplots(figsize=(8,6))\n",
        "\n",
        "ax.plot(bayesian, lw=2, label='Bayesian')\n",
        "ax.plot(traditional, '--', lw=2, label='Traditional')\n",
        "\n",
        "ax.set_xticks([0, 1, 2, 3, 4, 5, 6, 7])\n",
        "ax.set_xticklabels(['1', '2', '3', '4', '5', '6', '7', '8'])\n",
        "ax.set_yticks([0, .1, .2, .3, .4, .5, .6, .7, .8, .9, 1])\n",
        "ax.set_yticklabels(['0', '10', '20', '30', '40', '50','60', '70', '80', '90', '100%'])\n",
        "ax.set_xlim(-.1,7)\n",
        "ax.set_ylim(0,1.05)\n",
        "ax.set_title('Likelyhood of Being Drunk While Driving Given (n) Positive Tests')\n",
        "ax.set_ylabel('Percent Likelyhood')\n",
        "ax.set_xlabel('Number of Tests')\n",
        "ax.legend()\n",
        "plt.show()"
      ],
      "execution_count": 9,
      "outputs": [
        {
          "output_type": "display_data",
          "data": {
            "image/png": "[encoded data removed]",
            "text/plain": [
              "<Figure size 576x432 with 1 Axes>"
            ]
          },
          "metadata": {
            "tags": []
          }
        }
      ]
    },
    {
      "cell_type": "markdown",
      "metadata": {
        "id": "1czVqDZDQSCf",
        "colab_type": "text"
      },
      "source": [
        "##4.  In your own words, summarize the difference between Bayesian and Frequentist statistics"
      ]
    },
    {
      "cell_type": "markdown",
      "metadata": {
        "id": "c-dMXzgfrFtD",
        "colab_type": "text"
      },
      "source": [
        "Bayesian statistics is a way to increase your accuracy based on prior knowledge and is more accurate than traditional methods for small sample sizes. To me it looks like a way to compare two probabilities, for example: \n",
        "In the Sun Exploding comic, when you take into account the probability of the sun exploding versus the computer rolling two dice that land on 6 you can see that the sun probably has not exploded. It is also good to look at small sample sizes that would 'naturally' or 'intuitively' give the opposite outcome."
      ]
    },
    {
      "cell_type": "markdown",
      "metadata": {
        "id": "uWgWjp3PQ3Sq",
        "colab_type": "text"
      },
      "source": [
        "## Resources"
      ]
    },
    {
      "cell_type": "markdown",
      "metadata": {
        "id": "QRgHqmYIQ9qn",
        "colab_type": "text"
      },
      "source": [
        "- [Worked example of Bayes rule calculation](https://en.wikipedia.org/wiki/Bayes'_theorem#Examples) (helpful as it fully breaks out the denominator)\n",
        "- [Source code for mvsdist in scipy](https://github.com/scipy/scipy/blob/90534919e139d2a81c24bf08341734ff41a3db12/scipy/stats/morestats.py#L139)"
      ]
    }
  ]
}