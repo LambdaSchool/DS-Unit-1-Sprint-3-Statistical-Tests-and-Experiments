{
  "nbformat": 4,
  "nbformat_minor": 0,
  "metadata": {
    "colab": {
      "name": "LS_DS_133_Introduction_to_Bayesian_Inference_Assignment.ipynb",
      "provenance": [],
      "collapsed_sections": [],
      "include_colab_link": true
    },
    "kernelspec": {
      "name": "python3",
      "display_name": "Python 3"
    }
  },
  "cells": [
    {
      "cell_type": "markdown",
      "metadata": {
        "id": "view-in-github",
        "colab_type": "text"
      },
      "source": [
        "<a href=\"https://colab.research.google.com/github/owenburton/DS-Unit-1-Sprint-3-Statistical-Tests-and-Experiments/blob/master/module3-introduction-to-bayesian-inference/LS_DS_133_Introduction_to_Bayesian_Inference_Assignment.ipynb\" target=\"_parent\"><img src=\"https://colab.research.google.com/assets/colab-badge.svg\" alt=\"Open In Colab\"/></a>"
      ]
    },
    {
      "cell_type": "markdown",
      "metadata": {
        "id": "H7OLbevlbd_Z",
        "colab_type": "text"
      },
      "source": [
        "# Lambda School Data Science Module 133\n",
        "\n",
        "## Introduction to Bayesian Inference\n",
        "\n",
        "\n"
      ]
    },
    {
      "cell_type": "markdown",
      "metadata": {
        "id": "P-DzzRk5bf0z",
        "colab_type": "text"
      },
      "source": [
        "## Assignment - Code it up!\n",
        "\n",
        "Most of the above was pure math - now write Python code to reproduce the results! This is purposefully open ended - you'll have to think about how you should represent probabilities and events. You can and should look things up, and as a stretch goal - refactor your code into helpful reusable functions!\n",
        "\n",
        "Specific goals/targets:\n",
        "\n",
        "1. Write a function `def prob_drunk_given_positive(prob_drunk_prior, prob_positive, prob_positive_drunk)` that reproduces the example from lecture, and use it to calculate and visualize a range of situations\n",
        "2. Explore `scipy.stats.bayes_mvs` - read its documentation, and experiment with it on data you've tested in other ways earlier this week\n",
        "3. Create a visualization comparing the results of a Bayesian approach to a traditional/frequentist approach\n",
        "4. In your own words, summarize the difference between Bayesian and Frequentist statistics\n",
        "\n",
        "If you're unsure where to start, check out [this blog post of Bayes theorem with Python](https://dataconomy.com/2015/02/introduction-to-bayes-theorem-with-python/) - you could and should create something similar!\n",
        "\n",
        "Stretch goals:\n",
        "\n",
        "- Apply a Bayesian technique to a problem you previously worked (in an assignment or project work) on from a frequentist (standard) perspective\n",
        "- Check out [PyMC3](https://docs.pymc.io/) (note this goes beyond hypothesis tests into modeling) - read the guides and work through some examples\n",
        "- Take PyMC3 further - see if you can build something with it!"
      ]
    },
    {
      "cell_type": "markdown",
      "metadata": {
        "id": "8eVn0CN7tj0P",
        "colab_type": "text"
      },
      "source": [
        "## 1) Write a function def prob_drunk_given_positive(prob_drunk_prior, prob_positive, prob_positive_drunk) that reproduces the example from lecture, and use it to calculate and visualize a range of situations"
      ]
    },
    {
      "cell_type": "code",
      "metadata": {
        "id": "xpVhZyUnbf7o",
        "colab_type": "code",
        "outputId": "b5cad3db-8950-45e0-844e-06777a40c844",
        "colab": {
          "base_uri": "https://localhost:8080/",
          "height": 34
        }
      },
      "source": [
        "# I changed the function name and parameters.\n",
        "def prob_drunk(prior, test_accuracy):\n",
        "  prob_false_positive = 1 - test_accuracy\n",
        "  prob_false_prior = 1 - prior\n",
        "  prob = (test_accuracy*prior) / ((test_accuracy*prior)+(prob_false_positive*prob_false_prior))\n",
        "  return prob\n",
        "\n",
        "test_accy = .99\n",
        "new_prior1 = prob_drunk(.332, test_accy)\n",
        "new_prior2 = prob_drunk(new_prior1, test_accy)\n",
        "new_prior3 = prob_drunk(new_prior2, test_accy)\n",
        "new_prior4 = prob_drunk(new_prior3, test_accy)\n",
        "new_prior5 = prob_drunk(new_prior4, test_accy)\n",
        "new_prior6 = prob_drunk(new_prior5, test_accy)\n",
        "new_prior7 = prob_drunk(new_prior6, test_accy)\n",
        "new_prior8 = prob_drunk(new_prior7, test_accy)\n",
        "new_prior9 = prob_drunk(new_prior8, test_accy)\n",
        "new_prior10 = prob_drunk(new_prior9, test_accy)\n",
        "new_prior11 = prob_drunk(new_prior10, test_accy)\n",
        "new_prior12 = prob_drunk(new_prior11, test_accy)\n",
        "new_prior13 = prob_drunk(new_prior12, test_accy)\n",
        "\n",
        "print(new_prior7)\n"
      ],
      "execution_count": 3,
      "outputs": [
        {
          "output_type": "stream",
          "text": [
            "0.9999999999999785\n"
          ],
          "name": "stdout"
        }
      ]
    },
    {
      "cell_type": "markdown",
      "metadata": {
        "id": "tjch4p77zamx",
        "colab_type": "text"
      },
      "source": [
        "## 3) Create a visualization comparing the results of a Bayesian approach to a traditional/frequentist approach."
      ]
    },
    {
      "cell_type": "code",
      "metadata": {
        "id": "ROIR9Dzb0WHQ",
        "colab_type": "code",
        "colab": {}
      },
      "source": [
        "from scipy import stats\n",
        "\n",
        "freq_drunk_test_data = [0, .99, .99, .99, .99, .99, .99, .99, .99, .99]\n",
        "\n",
        "bayes_drunk_test_data = [0, .332, new_prior1, new_prior2, new_prior3, new_prior4, new_prior5,\n",
        "                         new_prior6, new_prior7, new_prior8]"
      ],
      "execution_count": 0,
      "outputs": []
    },
    {
      "cell_type": "code",
      "metadata": {
        "id": "ZFz89T-Bq-ie",
        "colab_type": "code",
        "colab": {
          "base_uri": "https://localhost:8080/",
          "height": 301
        },
        "outputId": "65ccfdfe-8ac4-43af-e83b-5c3059c7e13f"
      },
      "source": [
        "import seaborn as sns; sns.set()\n",
        "import matplotlib.pyplot as plt\n",
        "\n",
        "ax = sns.lineplot(x=range(0,10), y=bayes_drunk_test_data, label='bayesian')\n",
        "ax1 = sns.lineplot(x=range(0,10), y=freq_drunk_test_data, label='frequentist')\n",
        "\n",
        "ax.set(xlabel='number of tests', ylabel='probability true positive')\n",
        "ax.set_title(\"Bayesians account for prior drug user likelihood, Frequentists don't\")\n",
        "\n",
        "ax.set_xticks(range(0,10))\n",
        "\n",
        "plt.legend()\n",
        "plt.show()"
      ],
      "execution_count": 30,
      "outputs": [
        {
          "output_type": "display_data",
          "data": {
            "image/png": "[encoded data removed]",
            "text/plain": [
              "<Figure size 432x288 with 1 Axes>"
            ]
          },
          "metadata": {
            "tags": []
          }
        }
      ]
    },
    {
      "cell_type": "markdown",
      "metadata": {
        "id": "szjxCHs4tzKi",
        "colab_type": "text"
      },
      "source": [
        "## 4) In your own words, summarize the difference between Bayesian and Frequentist statistics."
      ]
    },
    {
      "cell_type": "markdown",
      "metadata": {
        "id": "V6MvrBTouC9O",
        "colab_type": "text"
      },
      "source": [
        "Bayesian statistics takes into account probabilities from new statistically relevant sources as well as prior probabilities, while Frequentist statistics only accounts for the latest relevant information."
      ]
    },
    {
      "cell_type": "markdown",
      "metadata": {
        "id": "uWgWjp3PQ3Sq",
        "colab_type": "text"
      },
      "source": [
        "## Resources"
      ]
    },
    {
      "cell_type": "markdown",
      "metadata": {
        "id": "QRgHqmYIQ9qn",
        "colab_type": "text"
      },
      "source": [
        "- [Worked example of Bayes rule calculation](https://en.wikipedia.org/wiki/Bayes'_theorem#Examples) (helpful as it fully breaks out the denominator)\n",
        "- [Source code for mvsdist in scipy](https://github.com/scipy/scipy/blob/90534919e139d2a81c24bf08341734ff41a3db12/scipy/stats/morestats.py#L139)"
      ]
    }
  ]
}