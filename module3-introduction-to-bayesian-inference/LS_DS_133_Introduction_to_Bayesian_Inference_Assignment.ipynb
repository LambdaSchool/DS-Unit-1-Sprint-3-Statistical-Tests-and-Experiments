{
  "nbformat": 4,
  "nbformat_minor": 0,
  "metadata": {
    "colab": {
      "name": "Copy of LS_DS_133_Introduction_to_Bayesian_Inference_Assignment.ipynb",
      "provenance": [],
      "include_colab_link": true
    },
    "kernelspec": {
      "name": "python3",
      "display_name": "Python 3"
    }
  },
  "cells": [
    {
      "cell_type": "markdown",
      "metadata": {
        "id": "view-in-github",
        "colab_type": "text"
      },
      "source": [
        "<a href=\"https://colab.research.google.com/github/davidanagy/DS-Unit-1-Sprint-3-Statistical-Tests-and-Experiments/blob/master/module3-introduction-to-bayesian-inference/LS_DS_133_Introduction_to_Bayesian_Inference_Assignment.ipynb\" target=\"_parent\"><img src=\"https://colab.research.google.com/assets/colab-badge.svg\" alt=\"Open In Colab\"/></a>"
      ]
    },
    {
      "cell_type": "markdown",
      "metadata": {
        "id": "H7OLbevlbd_Z",
        "colab_type": "text"
      },
      "source": [
        "# Lambda School Data Science Module 133\n",
        "\n",
        "## Introduction to Bayesian Inference\n",
        "\n",
        "\n"
      ]
    },
    {
      "cell_type": "markdown",
      "metadata": {
        "id": "P-DzzRk5bf0z",
        "colab_type": "text"
      },
      "source": [
        "## Assignment - Code it up!\n",
        "\n",
        "Most of the above was pure math - now write Python code to reproduce the results! This is purposefully open ended - you'll have to think about how you should represent probabilities and events. You can and should look things up, and as a stretch goal - refactor your code into helpful reusable functions!\n",
        "\n",
        "Specific goals/targets:\n",
        "\n",
        "1. Write a function `def prob_drunk_given_positive(prob_drunk_prior, prob_positive, prob_positive_drunk)` that reproduces the example from lecture, and use it to calculate and visualize a range of situations\n",
        "2. Explore `scipy.stats.bayes_mvs` - read its documentation, and experiment with it on data you've tested in other ways earlier this week\n",
        "3. Create a visualization comparing the results of a Bayesian approach to a traditional/frequentist approach\n",
        "4. In your own words, summarize the difference between Bayesian and Frequentist statistics\n",
        "\n",
        "If you're unsure where to start, check out [this blog post of Bayes theorem with Python](https://dataconomy.com/2015/02/introduction-to-bayes-theorem-with-python/) - you could and should create something similar!\n",
        "\n",
        "Stretch goals:\n",
        "\n",
        "- Apply a Bayesian technique to a problem you previously worked (in an assignment or project work) on from a frequentist (standard) perspective\n",
        "- Check out [PyMC3](https://docs.pymc.io/) (note this goes beyond hypothesis tests into modeling) - read the guides and work through some examples\n",
        "- Take PyMC3 further - see if you can build something with it!"
      ]
    },
    {
      "cell_type": "markdown",
      "metadata": {
        "id": "e42gHg-n3e6y",
        "colab_type": "text"
      },
      "source": [
        "### Write function, use to calculate and visualize:"
      ]
    },
    {
      "cell_type": "code",
      "metadata": {
        "id": "cVQsQsDFNRH7",
        "colab_type": "code",
        "colab": {}
      },
      "source": [
        "import pandas as pd\n",
        "import numpy as np\n",
        "import matplotlib.pyplot as plt"
      ],
      "execution_count": 0,
      "outputs": []
    },
    {
      "cell_type": "code",
      "metadata": {
        "id": "xpVhZyUnbf7o",
        "colab_type": "code",
        "colab": {
          "base_uri": "https://localhost:8080/",
          "height": 34
        },
        "outputId": "899a7461-de7a-4b4b-c567-d814d1ffcc47"
      },
      "source": [
        "def prob_drunk_given_positive(prob_drunk_prior, prob_positive, prob_positive_drunk):\n",
        "  numerator = prob_positive_drunk * prob_drunk_prior\n",
        "  denominator = prob_positive_drunk * prob_drunk_prior + prob_positive * (1 - prob_drunk_prior)\n",
        "  return numerator / denominator\n",
        "\n",
        "prob_drunk_given_positive(0.001, 0.08, 1)\n",
        "\n",
        "# This isn't the exact same result in the lecture notes, but I'm pretty sure it's more accurate,\n",
        "# since using the formula in the lecture notes doesn't let us iterate."
      ],
      "execution_count": 66,
      "outputs": [
        {
          "output_type": "execute_result",
          "data": {
            "text/plain": [
              "0.012357884330202669"
            ]
          },
          "metadata": {
            "tags": []
          },
          "execution_count": 66
        }
      ]
    },
    {
      "cell_type": "code",
      "metadata": {
        "id": "IOhJhDJg7Fq7",
        "colab_type": "code",
        "colab": {
          "base_uri": "https://localhost:8080/",
          "height": 34
        },
        "outputId": "c8d8d4bb-8ea3-446e-bff6-5b71aa72df19"
      },
      "source": [
        "# Iterate once:\n",
        "\n",
        "iterate = prob_drunk_given_positive(prob_drunk_given_positive(0.001, 0.08, 1), 0.08, 1)\n",
        "iterate"
      ],
      "execution_count": 67,
      "outputs": [
        {
          "output_type": "execute_result",
          "data": {
            "text/plain": [
              "0.13525210993291495"
            ]
          },
          "metadata": {
            "tags": []
          },
          "execution_count": 67
        }
      ]
    },
    {
      "cell_type": "code",
      "metadata": {
        "id": "WvgoNbQSGItv",
        "colab_type": "code",
        "colab": {
          "base_uri": "https://localhost:8080/",
          "height": 34
        },
        "outputId": "36fd6441-f1e1-4f1f-9985-9f2b2739fa91"
      },
      "source": [
        "# Iterate twice:\n",
        "\n",
        "iterate2 = prob_drunk_given_positive(iterate, 0.08, 1)\n",
        "iterate2"
      ],
      "execution_count": 68,
      "outputs": [
        {
          "output_type": "execute_result",
          "data": {
            "text/plain": [
              "0.6615996951348605"
            ]
          },
          "metadata": {
            "tags": []
          },
          "execution_count": 68
        }
      ]
    },
    {
      "cell_type": "code",
      "metadata": {
        "id": "0gC2Ux2V5efS",
        "colab_type": "code",
        "colab": {
          "base_uri": "https://localhost:8080/",
          "height": 51
        },
        "outputId": "f691161b-3322-4619-8377-b440cc1994a9"
      },
      "source": [
        "# Define an iteration function (there's probably an easier way to do this...)\n",
        "\n",
        "def bayesian_iterator(function, x, y, z, times=1):\n",
        "  def i(n):\n",
        "    if n==0:\n",
        "      return x\n",
        "    else:\n",
        "      return function(i(n-1), y, z)\n",
        "  n=0\n",
        "  while n <= times:\n",
        "    function(i(n), y, z)\n",
        "    n = n+1\n",
        "  return function(i(n-1), y, z)\n",
        "\n",
        "print(bayesian_iterator(prob_drunk_given_positive, 0.001, 0.08, 1, times=0))\n",
        "print(bayesian_iterator(prob_drunk_given_positive, 0.001, 0.08, 1))"
      ],
      "execution_count": 69,
      "outputs": [
        {
          "output_type": "stream",
          "text": [
            "0.012357884330202669\n",
            "0.13525210993291495\n"
          ],
          "name": "stdout"
        }
      ]
    },
    {
      "cell_type": "code",
      "metadata": {
        "id": "a8wzpkCdFoJj",
        "colab_type": "code",
        "colab": {
          "base_uri": "https://localhost:8080/",
          "height": 187
        },
        "outputId": "55e0d595-d7e6-46fa-e15f-70fa28efdb34"
      },
      "source": [
        "results = []\n",
        "\n",
        "for a in range(10):\n",
        "  results.append(bayesian_iterator(prob_drunk_given_positive, 0.001, 0.08, 1, times=a))\n",
        "  \n",
        "results"
      ],
      "execution_count": 70,
      "outputs": [
        {
          "output_type": "execute_result",
          "data": {
            "text/plain": [
              "[0.012357884330202669,\n",
              " 0.13525210993291495,\n",
              " 0.6615996951348605,\n",
              " 0.9606895076105054,\n",
              " 0.9967371577896734,\n",
              " 0.9997381867081508,\n",
              " 0.9999790498904363,\n",
              " 0.9999983239589307,\n",
              " 0.9999998659165077,\n",
              " 0.9999999892733192]"
            ]
          },
          "metadata": {
            "tags": []
          },
          "execution_count": 70
        }
      ]
    },
    {
      "cell_type": "code",
      "metadata": {
        "id": "SrncmkomNNxE",
        "colab_type": "code",
        "colab": {
          "base_uri": "https://localhost:8080/",
          "height": 295
        },
        "outputId": "eb408159-58c9-42ac-fb96-990ad0571a86"
      },
      "source": [
        "plt.plot(results)\n",
        "\n",
        "plt.title('Likelihood that a positive breathanalyzer test is accurate when iterated')\n",
        "\n",
        "plt.xlabel('Iterations')\n",
        "\n",
        "plt.ylabel('Probability');"
      ],
      "execution_count": 71,
      "outputs": [
        {
          "output_type": "display_data",
          "data": {
            "image/png": "[encoded data removed]",
            "text/plain": [
              "<Figure size 432x288 with 1 Axes>"
            ]
          },
          "metadata": {
            "tags": []
          }
        }
      ]
    },
    {
      "cell_type": "code",
      "metadata": {
        "id": "eZnpYDDvOgKn",
        "colab_type": "code",
        "colab": {
          "base_uri": "https://localhost:8080/",
          "height": 119
        },
        "outputId": "05eb3996-13be-4f8f-ba0f-28bdb871915d"
      },
      "source": [
        "data = [prob_drunk_given_positive(0.0001, 0.08, 1),\n",
        "        prob_drunk_given_positive(0.001, 0.08, 1),\n",
        "        prob_drunk_given_positive(0.01, 0.08, 1),\n",
        "        prob_drunk_given_positive(0.05, 0.08, 1),\n",
        "        prob_drunk_given_positive(0.1, 0.08, 1),\n",
        "        prob_drunk_given_positive(0.2, 0.08, 1)]\n",
        "\n",
        "data"
      ],
      "execution_count": 72,
      "outputs": [
        {
          "output_type": "execute_result",
          "data": {
            "text/plain": [
              "[0.00124856415122609,\n",
              " 0.012357884330202669,\n",
              " 0.11210762331838565,\n",
              " 0.39682539682539686,\n",
              " 0.5813953488372093,\n",
              " 0.7575757575757576]"
            ]
          },
          "metadata": {
            "tags": []
          },
          "execution_count": 72
        }
      ]
    },
    {
      "cell_type": "code",
      "metadata": {
        "id": "iFblRH1ePwY9",
        "colab_type": "code",
        "colab": {
          "base_uri": "https://localhost:8080/",
          "height": 295
        },
        "outputId": "36414f36-3a78-48bd-e538-05721dcd2950"
      },
      "source": [
        "plt.plot(data)\n",
        "\n",
        "plt.title('Likelihood that a positive breathanalyzer test is accurate given different priors')\n",
        "plt.xlabel('Prior likelihood that a driver is drunk')\n",
        "plt.ylabel('Probability of accuracy')\n",
        "plt.xticks(np.arange(6), ('0.01%', '0.1%', '1%', '5%', '10%', '20%'));"
      ],
      "execution_count": 73,
      "outputs": [
        {
          "output_type": "display_data",
          "data": {
            "image/png": "[encoded data removed]",
            "text/plain": [
              "<Figure size 432x288 with 1 Axes>"
            ]
          },
          "metadata": {
            "tags": []
          }
        }
      ]
    },
    {
      "cell_type": "code",
      "metadata": {
        "id": "_MkBSKiwQ4w1",
        "colab_type": "code",
        "colab": {
          "base_uri": "https://localhost:8080/",
          "height": 119
        },
        "outputId": "f1cde40c-f494-4180-ead5-1ce41c531c0c"
      },
      "source": [
        "data2 = [prob_drunk_given_positive(0.001, 0.0008, 1),\n",
        "         prob_drunk_given_positive(0.001, 0.008, 1),\n",
        "         prob_drunk_given_positive(0.001, 0.01, 1),\n",
        "         prob_drunk_given_positive(0.001, 0.08, 1),\n",
        "        prob_drunk_given_positive(0.001, 0.25, 1),\n",
        "        prob_drunk_given_positive(0.001, 0.5, 1)]\n",
        "\n",
        "data2"
      ],
      "execution_count": 74,
      "outputs": [
        {
          "output_type": "execute_result",
          "data": {
            "text/plain": [
              "[0.5558025789239662,\n",
              " 0.11120996441281139,\n",
              " 0.09099181073703368,\n",
              " 0.012357884330202669,\n",
              " 0.0039880358923230315,\n",
              " 0.0019980019980019984]"
            ]
          },
          "metadata": {
            "tags": []
          },
          "execution_count": 74
        }
      ]
    },
    {
      "cell_type": "code",
      "metadata": {
        "id": "Twx8FRBoRxAf",
        "colab_type": "code",
        "colab": {
          "base_uri": "https://localhost:8080/",
          "height": 295
        },
        "outputId": "c933f837-95e8-40c6-cc26-da62df291061"
      },
      "source": [
        "plt.plot(data2)\n",
        "\n",
        "plt.title('Likelihood that a positive breathanalyzer test is accurate given different priors')\n",
        "plt.xlabel('Likelihood of a positive result (on both sober and drunk people)')\n",
        "plt.ylabel('Probability of accuracy')\n",
        "plt.xticks(np.arange(6), ('0.08', '0.8%', '1%', '8%', '25%', '50%'));"
      ],
      "execution_count": 75,
      "outputs": [
        {
          "output_type": "display_data",
          "data": {
            "image/png": "[encoded data removed]",
            "text/plain": [
              "<Figure size 432x288 with 1 Axes>"
            ]
          },
          "metadata": {
            "tags": []
          }
        }
      ]
    },
    {
      "cell_type": "markdown",
      "metadata": {
        "id": "jMMibLrk3Bfs",
        "colab_type": "text"
      },
      "source": [
        "### Explore bayes_mvs:"
      ]
    },
    {
      "cell_type": "code",
      "metadata": {
        "id": "MElEnTyt3q0H",
        "colab_type": "code",
        "colab": {}
      },
      "source": [
        "# First, to get the data (just copying and pasting from the previous assignment):\n",
        "\n",
        "import pandas as pd\n",
        "import numpy as np\n",
        "import matplotlib.pyplot as plt\n",
        "\n",
        "names = ['party', 'handicapped_infants', 'water_project', 'budget', 'physician_fee_freeze', 'el_salvador_aid',\n",
        "         'religion_in_schools', 'anti_satellite_test_ban', 'aid_to_contras', 'mx_missile', 'immigration',\n",
        "         'synfuels_cutback', 'education', 'right_to_sue', 'crime', 'duty_free', 'export_south_africa']\n",
        "\n",
        "df = pd.read_csv('https://archive.ics.uci.edu/ml/machine-learning-databases/voting-records/house-votes-84.data',\n",
        "                header=None, names=names, true_values='y', false_values='n', na_values='?')\n",
        "\n",
        "df = df.fillna(0.5)\n",
        "\n",
        "dem = df[df['party']=='democrat']\n",
        "rep = df[df['party']=='republican']"
      ],
      "execution_count": 0,
      "outputs": []
    },
    {
      "cell_type": "code",
      "metadata": {
        "id": "0-WhZJ9C336k",
        "colab_type": "code",
        "colab": {
          "base_uri": "https://localhost:8080/",
          "height": 34
        },
        "outputId": "7073d430-2a63-427f-8db0-a62cf95c4b8d"
      },
      "source": [
        "import scipy.stats as stats\n",
        "\n",
        "stats.bayes_mvs(df['mx_missile'], alpha=0.95)[0]"
      ],
      "execution_count": 77,
      "outputs": [
        {
          "output_type": "execute_result",
          "data": {
            "text/plain": [
              "Mean(statistic=0.5011494252873563, minmax=(0.45518569817978705, 0.5471131523949255))"
            ]
          },
          "metadata": {
            "tags": []
          },
          "execution_count": 77
        }
      ]
    },
    {
      "cell_type": "code",
      "metadata": {
        "id": "DaRIHMR55LXM",
        "colab_type": "code",
        "colab": {
          "base_uri": "https://localhost:8080/",
          "height": 34
        },
        "outputId": "85508474-9fd5-4d4e-c726-494e83a6549f"
      },
      "source": [
        "#copying and pasting from the previous assignment\n",
        "\n",
        "n_all = len(df['party'])\n",
        "\n",
        "dof_all = n_all - 1\n",
        "\n",
        "mean0 = np.mean(df['mx_missile'])\n",
        "\n",
        "std0 = np.std(df['mx_missile'], ddof=1)\n",
        "\n",
        "std_error0 = std0/n_all**0.5\n",
        "\n",
        "stats.t.interval(.95, dof_all, loc=mean0, scale=std_error0) # Confirmed to be the same!"
      ],
      "execution_count": 80,
      "outputs": [
        {
          "output_type": "execute_result",
          "data": {
            "text/plain": [
              "(0.45518569817978716, 0.5471131523949254)"
            ]
          },
          "metadata": {
            "tags": []
          },
          "execution_count": 80
        }
      ]
    },
    {
      "cell_type": "code",
      "metadata": {
        "id": "GQBFPAgm520M",
        "colab_type": "code",
        "colab": {
          "base_uri": "https://localhost:8080/",
          "height": 289
        },
        "outputId": "273b9688-998e-488c-e7ea-655b59901485"
      },
      "source": [
        "labels = ['handicapped_infants', 'water_project', 'budget', 'physician_fee_freeze', 'el_salvador_aid',\n",
        "         'religion_in_schools', 'anti_satellite_test_ban', 'aid_to_contras', 'mx_missile', 'immigration',\n",
        "         'synfuels_cutback', 'education', 'right_to_sue', 'crime', 'duty_free', 'export_south_africa']\n",
        "\n",
        "mean_moe_all = []\n",
        "mean_moe_dem = []\n",
        "mean_moe_rep = []\n",
        "\n",
        "for label in labels:\n",
        "  mean_moe_all.append(stats.bayes_mvs(df[label], alpha=.95)[0])\n",
        "  mean_moe_dem.append(stats.bayes_mvs(dem[label], alpha=.95)[0])\n",
        "  mean_moe_rep.append(stats.bayes_mvs(rep[label], alpha=.95)[0])\n",
        "  \n",
        "mean_moe_all"
      ],
      "execution_count": 82,
      "outputs": [
        {
          "output_type": "execute_result",
          "data": {
            "text/plain": [
              "[Mean(statistic=0.4436781609195402, minmax=(0.3974656573709448, 0.4898906644681356)),\n",
              " Mean(statistic=0.503448275862069, minmax=(0.45895593112886873, 0.5479406205952692)),\n",
              " Mean(statistic=0.5942528735632184, minmax=(0.5485377332862238, 0.6399680138402131)),\n",
              " Mean(statistic=0.41954022988505746, minmax=(0.37359108830410415, 0.46548937146601077)),\n",
              " Mean(statistic=0.5045977011494253, minmax=(0.45824798828651336, 0.5509474140123372)),\n",
              " Mean(statistic=0.6379310344827587, minmax=(0.5932140673899587, 0.6826480015755586)),\n",
              " Mean(statistic=0.5655172413793104, minmax=(0.5195238457304102, 0.6115106370282105)),\n",
              " Mean(statistic=0.5735632183908046, minmax=(0.5277340071798993, 0.6193924296017099)),\n",
              " Mean(statistic=0.5011494252873563, minmax=(0.45518569817978705, 0.5471131523949255)),\n",
              " Mean(statistic=0.5045977011494253, minmax=(0.4578086063950709, 0.5513867959037796)),\n",
              " Mean(statistic=0.3689655172413793, minmax=(0.3246376108857248, 0.41329342359703386)),\n",
              " Mean(statistic=0.42873563218390803, minmax=(0.38377528281297985, 0.4736959815548362)),\n",
              " Mean(statistic=0.5091954022988506, minmax=(0.46340700815242786, 0.5549837964452734)),\n",
              " Mean(statistic=0.5896551724137931, minmax=(0.5441941167356047, 0.6351162280919814)),\n",
              " Mean(statistic=0.432183908045977, minmax=(0.3870059479872455, 0.4773618681047085)),\n",
              " Mean(statistic=0.7379310344827587, minmax=(0.7034444901803986, 0.7724175787851187))]"
            ]
          },
          "metadata": {
            "tags": []
          },
          "execution_count": 82
        }
      ]
    },
    {
      "cell_type": "code",
      "metadata": {
        "id": "8W2bzmy6696r",
        "colab_type": "code",
        "colab": {
          "base_uri": "https://localhost:8080/",
          "height": 289
        },
        "outputId": "5b925e50-352f-4bbc-c878-79fdff69f9b4"
      },
      "source": [
        "means_all = []\n",
        "\n",
        "for t in mean_moe_all:\n",
        "  means_all.append(t[0])\n",
        "  \n",
        "means_all"
      ],
      "execution_count": 83,
      "outputs": [
        {
          "output_type": "execute_result",
          "data": {
            "text/plain": [
              "[0.4436781609195402,\n",
              " 0.503448275862069,\n",
              " 0.5942528735632184,\n",
              " 0.41954022988505746,\n",
              " 0.5045977011494253,\n",
              " 0.6379310344827587,\n",
              " 0.5655172413793104,\n",
              " 0.5735632183908046,\n",
              " 0.5011494252873563,\n",
              " 0.5045977011494253,\n",
              " 0.3689655172413793,\n",
              " 0.42873563218390803,\n",
              " 0.5091954022988506,\n",
              " 0.5896551724137931,\n",
              " 0.432183908045977,\n",
              " 0.7379310344827587]"
            ]
          },
          "metadata": {
            "tags": []
          },
          "execution_count": 83
        }
      ]
    },
    {
      "cell_type": "code",
      "metadata": {
        "id": "zuXvIqhb7KSz",
        "colab_type": "code",
        "colab": {
          "base_uri": "https://localhost:8080/",
          "height": 289
        },
        "outputId": "e456d9c3-33ca-4d14-d118-cda411f81996"
      },
      "source": [
        "moe_all = []\n",
        "\n",
        "for t in mean_moe_all:\n",
        "  moe_all.append(t[0] - t[1][0])\n",
        "  \n",
        "moe_all"
      ],
      "execution_count": 85,
      "outputs": [
        {
          "output_type": "execute_result",
          "data": {
            "text/plain": [
              "[0.04621250354859541,\n",
              " 0.04449234473320024,\n",
              " 0.04571514027699464,\n",
              " 0.04594914158095331,\n",
              " 0.046349712862911896,\n",
              " 0.04471696709279993,\n",
              " 0.04599339564890015,\n",
              " 0.04582921121090533,\n",
              " 0.04596372710756924,\n",
              " 0.04678909475435433,\n",
              " 0.044327906355654534,\n",
              " 0.04496034937092819,\n",
              " 0.04578839414642277,\n",
              " 0.04546105567818837,\n",
              " 0.04517796005873148,\n",
              " 0.03448654430236009]"
            ]
          },
          "metadata": {
            "tags": []
          },
          "execution_count": 85
        }
      ]
    },
    {
      "cell_type": "markdown",
      "metadata": {
        "id": "EmVtPS5F7ff7",
        "colab_type": "text"
      },
      "source": [
        "### Create visualization comparing Bayesian approach to frequentist approach:"
      ]
    },
    {
      "cell_type": "code",
      "metadata": {
        "id": "NNAwC4397ZaM",
        "colab_type": "code",
        "colab": {
          "base_uri": "https://localhost:8080/",
          "height": 187
        },
        "outputId": "7caf8e90-f7d4-42f1-f6a5-b6fc3cf699a3"
      },
      "source": [
        "# How would a frequentist determine the probability that the breathanalyzer was correct?\n",
        "# Because they ignore priors, their only concern is: how likely is it that the iterated test got a false positive each time?\n",
        "\n",
        "results_freq = []\n",
        "\n",
        "for n in range(10):\n",
        "  results_freq.append(1 - (.08**(n+1)))\n",
        "  \n",
        "results_freq"
      ],
      "execution_count": 86,
      "outputs": [
        {
          "output_type": "execute_result",
          "data": {
            "text/plain": [
              "[0.92,\n",
              " 0.9936,\n",
              " 0.999488,\n",
              " 0.99995904,\n",
              " 0.9999967232,\n",
              " 0.999999737856,\n",
              " 0.99999997902848,\n",
              " 0.9999999983222784,\n",
              " 0.9999999998657823,\n",
              " 0.9999999999892626]"
            ]
          },
          "metadata": {
            "tags": []
          },
          "execution_count": 86
        }
      ]
    },
    {
      "cell_type": "code",
      "metadata": {
        "id": "e_POQihK9B9R",
        "colab_type": "code",
        "colab": {
          "base_uri": "https://localhost:8080/",
          "height": 295
        },
        "outputId": "6dac700e-5e20-460e-c4e1-10c25411ff62"
      },
      "source": [
        "plt.plot(results_freq[:7], color='r', label='Frequentists')\n",
        "plt.plot(results[:7], color='b', label='Bayesians')\n",
        "plt.title('How likely is it that repeated breathalyzer tests with positive results are accurate? Frequentists vs Bayesians')\n",
        "plt.xlabel('Number of Positive Results')\n",
        "plt.ylabel('Probability of Accuracy')\n",
        "plt.axhline(y=0.95, color='k', label='Statistical Significance Boundary (95%)')\n",
        "plt.xticks([0, 1, 2, 3, 4, 5, 6], [1, 2, 3, 4, 5, 6, 7])\n",
        "plt.yticks([0, 0.2, 0.4, 0.6, 0.8, 1], ['0%', '20%', '40%', '60%', '80%', '100%'])\n",
        "plt.legend()\n",
        "plt.show()"
      ],
      "execution_count": 99,
      "outputs": [
        {
          "output_type": "display_data",
          "data": {
            "image/png": "[encoded data removed]",
            "text/plain": [
              "<Figure size 432x288 with 1 Axes>"
            ]
          },
          "metadata": {
            "tags": []
          }
        }
      ]
    },
    {
      "cell_type": "markdown",
      "metadata": {
        "id": "wXt4YbKfAHSq",
        "colab_type": "text"
      },
      "source": [
        "### In your own words, summarize the difference between Bayesian and Frequentist statistics:\n",
        "\n",
        "Essentially, the difference lies in how much information they take into consideration. When analyzing the likelihood of a particular event, frequentists only look at the event itself, so to speak; they ask: \"What is the probability of X given the information we have right now?\" Bayesians, on the other hand, take into consideration *priors*: namely, what is the likelihood of the event in question *prior to* our new information, and how was that modified by the information we now have?\n",
        "\n",
        "It might seem that Bayesian statistics is strictly superior to Frequentist statistics, then. However, there is always a concern with how precisely we come up with these priors. If our view on the prior probability is incorrect, a Bayesian approach will lead us astray. If we have no idea what the prior probability might be, a Frequentist approach is likely better than just guessing as to the prior."
      ]
    },
    {
      "cell_type": "markdown",
      "metadata": {
        "id": "uWgWjp3PQ3Sq",
        "colab_type": "text"
      },
      "source": [
        "## Resources"
      ]
    },
    {
      "cell_type": "markdown",
      "metadata": {
        "id": "QRgHqmYIQ9qn",
        "colab_type": "text"
      },
      "source": [
        "- [Worked example of Bayes rule calculation](https://en.wikipedia.org/wiki/Bayes'_theorem#Examples) (helpful as it fully breaks out the denominator)\n",
        "- [Source code for mvsdist in scipy](https://github.com/scipy/scipy/blob/90534919e139d2a81c24bf08341734ff41a3db12/scipy/stats/morestats.py#L139)"
      ]
    }
  ]
}