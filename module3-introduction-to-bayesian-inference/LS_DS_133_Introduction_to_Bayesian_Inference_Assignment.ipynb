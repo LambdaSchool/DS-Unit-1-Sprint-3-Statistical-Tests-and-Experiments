{
  "nbformat": 4,
  "nbformat_minor": 0,
  "metadata": {
    "colab": {
      "name": "LS_DS_133_Introduction_to_Bayesian_Inference_Assignment.ipynb",
      "provenance": [],
      "include_colab_link": true
    },
    "kernelspec": {
      "name": "python3",
      "display_name": "Python 3"
    }
  },
  "cells": [
    {
      "cell_type": "markdown",
      "metadata": {
        "id": "view-in-github",
        "colab_type": "text"
      },
      "source": [
        "<a href=\"https://colab.research.google.com/github/TimTree/DS-Unit-1-Sprint-3-Statistical-Tests-and-Experiments/blob/master/module3-introduction-to-bayesian-inference/LS_DS_133_Introduction_to_Bayesian_Inference_Assignment.ipynb\" target=\"_parent\"><img src=\"https://colab.research.google.com/assets/colab-badge.svg\" alt=\"Open In Colab\"/></a>"
      ]
    },
    {
      "cell_type": "markdown",
      "metadata": {
        "id": "H7OLbevlbd_Z",
        "colab_type": "text"
      },
      "source": [
        "# Lambda School Data Science Module 133\n",
        "\n",
        "## Introduction to Bayesian Inference\n",
        "\n",
        "\n"
      ]
    },
    {
      "cell_type": "markdown",
      "metadata": {
        "id": "P-DzzRk5bf0z",
        "colab_type": "text"
      },
      "source": [
        "## Assignment - Code it up!\n",
        "\n",
        "Most of the above was pure math - now write Python code to reproduce the results! This is purposefully open ended - you'll have to think about how you should represent probabilities and events. You can and should look things up, and as a stretch goal - refactor your code into helpful reusable functions!\n",
        "\n",
        "Specific goals/targets:\n",
        "\n",
        "1. Write a function `def prob_drunk_given_positive(prob_drunk_prior, prob_positive, prob_positive_drunk)` that reproduces the example from lecture, and use it to calculate and visualize a range of situations\n",
        "2. Explore `scipy.stats.bayes_mvs` - read its documentation, and experiment with it on data you've tested in other ways earlier this week\n",
        "3. Create a visualization comparing the results of a Bayesian approach to a traditional/frequentist approach\n",
        "4. In your own words, summarize the difference between Bayesian and Frequentist statistics\n",
        "\n",
        "If you're unsure where to start, check out [this blog post of Bayes theorem with Python](https://dataconomy.com/2015/02/introduction-to-bayes-theorem-with-python/) - you could and should create something similar!\n",
        "\n",
        "Stretch goals:\n",
        "\n",
        "- Apply a Bayesian technique to a problem you previously worked (in an assignment or project work) on from a frequentist (standard) perspective\n",
        "- Check out [PyMC3](https://docs.pymc.io/) (note this goes beyond hypothesis tests into modeling) - read the guides and work through some examples\n",
        "- Take PyMC3 further - see if you can build something with it!"
      ]
    },
    {
      "cell_type": "code",
      "metadata": {
        "id": "xpVhZyUnbf7o",
        "colab_type": "code",
        "colab": {
          "base_uri": "https://localhost:8080/",
          "height": 34
        },
        "outputId": "e0aa6adb-d3fd-4b3d-9205-a4a0b68cb96e"
      },
      "source": [
        "# TODO - code!\n",
        "\n",
        "# There's a test that tests whether someone has taken a drug or not.\n",
        "# If someone did take the drug, the test will say they took the drug 99% of the time.\n",
        "# if someone did not take the drug, the test will say that they did not take the drug 99% of the time.\n",
        "# 0.5% of all the people take the drug.\n",
        "# If a random person tests positive, what's the probability they actually took the drug?\n",
        "\n",
        "def prob_drunk_given_positive(prob_positive_drunk, prob_drunk_prior):\n",
        "  return (prob_positive_drunk * prob_drunk_prior) / (prob_positive_drunk * prob_drunk_prior + 0.01 * (1 - prob_drunk_prior))\n",
        "\n",
        "new_prior = prob_drunk_given_positive(0.99, 0.005)\n",
        "new_prior2 = prob_drunk_given_positive(0.99, new_prior)\n",
        "new_prior3 = prob_drunk_given_positive(0.99, new_prior2)\n",
        "new_prior4 = prob_drunk_given_positive(0.99, new_prior3)\n",
        "new_prior5 = prob_drunk_given_positive(0.99, new_prior4)\n",
        "print(new_prior, new_prior2, new_prior3, new_prior4, new_prior5)"
      ],
      "execution_count": 11,
      "outputs": [
        {
          "output_type": "stream",
          "text": [
            "0.33221476510067116 0.9801000000000001 0.9997949506335922 0.9999979283737839 0.9999999790744397\n"
          ],
          "name": "stdout"
        }
      ]
    },
    {
      "cell_type": "code",
      "metadata": {
        "id": "wRj9Q5xHojPr",
        "colab_type": "code",
        "colab": {
          "base_uri": "https://localhost:8080/",
          "height": 34
        },
        "outputId": "579d24bd-0046-412f-8a89-99b8af1ec1f4"
      },
      "source": [
        "new_prior = prob_drunk_given_positive(0.6, 0.005)\n",
        "new_prior2 = prob_drunk_given_positive(0.6, new_prior)\n",
        "new_prior3 = prob_drunk_given_positive(0.6, new_prior2)\n",
        "new_prior4 = prob_drunk_given_positive(0.6, new_prior3)\n",
        "new_prior5 = prob_drunk_given_positive(0.6, new_prior4)\n",
        "print(new_prior, new_prior2, new_prior3, new_prior4, new_prior5)"
      ],
      "execution_count": 12,
      "outputs": [
        {
          "output_type": "stream",
          "text": [
            "0.23166023166023167 0.9476177941563569 0.9990795517093047 0.9999846452974989 0.9999997440844277\n"
          ],
          "name": "stdout"
        }
      ]
    },
    {
      "cell_type": "code",
      "metadata": {
        "id": "gNBUA-fPpuvG",
        "colab_type": "code",
        "colab": {
          "base_uri": "https://localhost:8080/",
          "height": 34
        },
        "outputId": "ab0d16fd-e416-4a21-dc71-7a96db774b20"
      },
      "source": [
        "new_prior = prob_drunk_given_positive(0.999, 0.005)\n",
        "new_prior2 = prob_drunk_given_positive(0.999, new_prior)\n",
        "new_prior3 = prob_drunk_given_positive(0.999, new_prior2)\n",
        "new_prior4 = prob_drunk_given_positive(0.999, new_prior3)\n",
        "new_prior5 = prob_drunk_given_positive(0.999, new_prior4)\n",
        "print(new_prior, new_prior2, new_prior3, new_prior4, new_prior5)"
      ],
      "execution_count": 13,
      "outputs": [
        {
          "output_type": "stream",
          "text": [
            "0.334225493476079 0.9804499651734304 0.9998004416354966 0.9999980020240521 0.9999999800002012\n"
          ],
          "name": "stdout"
        }
      ]
    },
    {
      "cell_type": "markdown",
      "metadata": {
        "id": "pLjC6lDzp089",
        "colab_type": "text"
      },
      "source": [
        "It's interesting that the probability of testing positive if drunk doesn't have to be high and can still lead to 99.9% certainty after just 3 attempts."
      ]
    },
    {
      "cell_type": "code",
      "metadata": {
        "id": "lRCqohWmqkkE",
        "colab_type": "code",
        "colab": {
          "base_uri": "https://localhost:8080/",
          "height": 69
        },
        "outputId": "323d322d-54e2-48fe-81ac-a0106ab39764"
      },
      "source": [
        "from scipy import stats\n",
        "import numpy as np\n",
        "data = [345,1,5,8,2,4645,32,6,8,5,346,7567563,354353,6,77,45,54,5,54]\n",
        "stats.bayes_mvs(data,alpha=0.95)"
      ],
      "execution_count": 20,
      "outputs": [
        {
          "output_type": "execute_result",
          "data": {
            "text/plain": [
              "(Mean(statistic=417240.0, minmax=(-418245.5145712617, 1252725.5145712616)),\n",
              " Variance(statistic=3380368906439.625, minmax=(1715576135879.5234, 6571202807527.828)),\n",
              " Std_dev(statistic=1810091.7762880102, minmax=(1309800.0366008254, 2563435.7428123346)))"
            ]
          },
          "metadata": {
            "tags": []
          },
          "execution_count": 20
        }
      ]
    },
    {
      "cell_type": "code",
      "metadata": {
        "id": "HOLG68K0q-Q8",
        "colab_type": "code",
        "colab": {
          "base_uri": "https://localhost:8080/",
          "height": 34
        },
        "outputId": "1b858772-9205-4f54-e0cf-c18138a1c61e"
      },
      "source": [
        "def confidence_interval(data, confidence=.95):\n",
        "  n = len(data)\n",
        "  mean = sum(data)/n\n",
        "  data = np.array(data)\n",
        "  stderr = stats.sem(data)\n",
        "  interval = stderr * stats.t.ppf((1 + confidence) / 2.0, n-1)\n",
        "  return (mean , mean-interval, mean+interval)\n",
        "\n",
        "confidence_interval(data)"
      ],
      "execution_count": 21,
      "outputs": [
        {
          "output_type": "execute_result",
          "data": {
            "text/plain": [
              "(417240.0, -418245.5145712616, 1252725.5145712616)"
            ]
          },
          "metadata": {
            "tags": []
          },
          "execution_count": 21
        }
      ]
    },
    {
      "cell_type": "markdown",
      "metadata": {
        "id": "4ykUzibTrIOD",
        "colab_type": "text"
      },
      "source": [
        "The confidence intervals are the same between bayesian and frequentist.\n"
      ]
    },
    {
      "cell_type": "markdown",
      "metadata": {
        "id": "P3vebhHGsI0n",
        "colab_type": "text"
      },
      "source": [
        "Bayesian statistics makes inferences based on previous events. Frequentist statistics make interences based on one likelihood that something can happen."
      ]
    },
    {
      "cell_type": "markdown",
      "metadata": {
        "id": "uWgWjp3PQ3Sq",
        "colab_type": "text"
      },
      "source": [
        "## Resources"
      ]
    },
    {
      "cell_type": "markdown",
      "metadata": {
        "id": "QRgHqmYIQ9qn",
        "colab_type": "text"
      },
      "source": [
        "- [Worked example of Bayes rule calculation](https://en.wikipedia.org/wiki/Bayes'_theorem#Examples) (helpful as it fully breaks out the denominator)\n",
        "- [Source code for mvsdist in scipy](https://github.com/scipy/scipy/blob/90534919e139d2a81c24bf08341734ff41a3db12/scipy/stats/morestats.py#L139)"
      ]
    }
  ]
}