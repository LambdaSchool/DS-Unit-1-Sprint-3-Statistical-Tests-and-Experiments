{
  "nbformat": 4,
  "nbformat_minor": 0,
  "metadata": {
    "colab": {
      "name": "LS_DS_132_Sampling_Confidence_Intervals_and_Hypothesis_Testing_Assignment.ipynb",
      "provenance": [],
      "collapsed_sections": [],
      "include_colab_link": true
    },
    "kernelspec": {
      "name": "python3",
      "display_name": "Python 3"
    }
  },
  "cells": [
    {
      "cell_type": "markdown",
      "metadata": {
        "id": "view-in-github",
        "colab_type": "text"
      },
      "source": [
        "<a href=\"https://colab.research.google.com/github/Nckflannery/DS-Unit-1-Sprint-3-Statistical-Tests-and-Experiments/blob/master/module3-introduction-to-bayesian-inference/LS_DS_132_Sampling_Confidence_Intervals_and_Hypothesis_Testing_Assignment.ipynb\" target=\"_parent\"><img src=\"https://colab.research.google.com/assets/colab-badge.svg\" alt=\"Open In Colab\"/></a>"
      ]
    },
    {
      "cell_type": "markdown",
      "metadata": {
        "id": "11OzdxWTM7UR",
        "colab_type": "text"
      },
      "source": [
        "## Assignment - Build a confidence interval\n",
        "\n",
        "A confidence interval refers to a neighborhood around some point estimate, the size of which is determined by the desired p-value. For instance, we might say that 52% of Americans prefer tacos to burritos, with a 95% confidence interval of +/- 5%.\n",
        "\n",
        "52% (0.52) is the point estimate, and +/- 5% (the interval $[0.47, 0.57]$) is the confidence interval. \"95% confidence\" means a p-value $\\leq 1 - 0.95 = 0.05$.\n",
        "\n",
        "In this case, the confidence interval includes $0.5$ - which is the natural null hypothesis (that half of Americans prefer tacos and half burritos, thus there is no clear favorite). So in this case, we could use the confidence interval to report that we've failed to reject the null hypothesis.\n",
        "\n",
        "But providing the full analysis with a confidence interval, including a graphical representation of it, can be a helpful and powerful way to tell your story. Done well, it is also more intuitive to a layperson than simply saying \"fail to reject the null hypothesis\" - it shows that in fact the data does *not* give a single clear result (the point estimate) but a whole range of possibilities.\n",
        "\n",
        "How is a confidence interval built, and how should it be interpreted? It does *not* mean that 95% of the data lies in that interval - instead, the frequentist interpretation is \"if we were to repeat this experiment 100 times, we would expect the average result to lie in this interval ~95 times.\"\n",
        "\n",
        "For a 95% confidence interval and a normal(-ish) distribution, you can simply remember that +/-2 standard deviations contains 95% of the probability mass, and so the 95% confidence interval based on a given sample is centered at the mean (point estimate) and has a range of +/- 2 (or technically 1.96) standard deviations.\n",
        "\n",
        "Different distributions/assumptions (90% confidence, 99% confidence) will require different math, but the overall process and interpretation (with a frequentist approach) will be the same.\n",
        "\n",
        "Your assignment - using the data from the prior module ([congressional voting records](https://archive.ics.uci.edu/ml/datasets/Congressional+Voting+Records)):\n",
        "\n",
        "\n",
        "### Confidence Intervals:\n",
        "1. Generate and numerically represent a confidence interval\n",
        "2. Graphically (with a plot) represent the confidence interval\n",
        "3. Interpret the confidence interval - what does it tell you about the data and its distribution?\n",
        "\n",
        "### Chi-squared tests:\n",
        "4. Take a dataset that we have used in the past in class that has **categorical** variables. Pick two of those categorical variables and run a chi-squared tests on that data\n",
        "  - By hand using Numpy\n",
        "  - In a single line using Scipy\n"
      ]
    },
    {
      "cell_type": "markdown",
      "metadata": {
        "id": "O4N2rNpcHBO5",
        "colab_type": "text"
      },
      "source": [
        "##Load in data and clean up"
      ]
    },
    {
      "cell_type": "code",
      "metadata": {
        "id": "Ckcr4A4FM7cs",
        "colab_type": "code",
        "colab": {}
      },
      "source": [
        "# Import \n",
        "import pandas as pd\n",
        "import numpy as np\n",
        "import seaborn as sns\n",
        "import matplotlib.pyplot as plt\n",
        "import scipy.stats as stats"
      ],
      "execution_count": 0,
      "outputs": []
    },
    {
      "cell_type": "code",
      "metadata": {
        "id": "aJ9aplvskjZR",
        "colab_type": "code",
        "outputId": "b995a580-3f0b-4d3f-ee13-357ca6d61f60",
        "colab": {
          "base_uri": "https://localhost:8080/",
          "height": 204
        }
      },
      "source": [
        "# Load the data\n",
        "!wget 'https://archive.ics.uci.edu/ml/machine-learning-databases/voting-records/house-votes-84.data'"
      ],
      "execution_count": 0,
      "outputs": [
        {
          "output_type": "stream",
          "text": [
            "--2019-09-17 22:54:38--  https://archive.ics.uci.edu/ml/machine-learning-databases/voting-records/house-votes-84.data\n",
            "Resolving archive.ics.uci.edu (archive.ics.uci.edu)... 128.195.10.252\n",
            "Connecting to archive.ics.uci.edu (archive.ics.uci.edu)|128.195.10.252|:443... connected.\n",
            "HTTP request sent, awaiting response... 200 OK\n",
            "Length: 18171 (18K) [application/x-httpd-php]\n",
            "Saving to: ‘house-votes-84.data.2’\n",
            "\n",
            "house-votes-84.data 100%[===================>]  17.75K  --.-KB/s    in 0.06s   \n",
            "\n",
            "2019-09-17 22:54:38 (286 KB/s) - ‘house-votes-84.data.2’ saved [18171/18171]\n",
            "\n"
          ],
          "name": "stdout"
        }
      ]
    },
    {
      "cell_type": "code",
      "metadata": {
        "id": "veLy9_kbkmt8",
        "colab_type": "code",
        "colab": {}
      },
      "source": [
        "# Read in data and set column names\n",
        "df = pd.read_csv('house-votes-84.data', names=['party','handicapped-infants',\n",
        "                          'water-project', 'budget', 'physician-fee-freeze', \n",
        "                          'el-salvador-aid', 'religious-groups', \n",
        "                          'anti-satellite-ban', 'aid-to-contras', 'mx-missile',\n",
        "                          'immigration', 'synfuels', 'education', \n",
        "                          'right-to-sue','crime','duty-free', 'south-africa'])"
      ],
      "execution_count": 0,
      "outputs": []
    },
    {
      "cell_type": "code",
      "metadata": {
        "id": "gJ1Ad_v5k2lq",
        "colab_type": "code",
        "colab": {}
      },
      "source": [
        "# Clean data\n",
        "df = df.replace({'y':1 , 'n':0, '?':np.nan})"
      ],
      "execution_count": 0,
      "outputs": []
    },
    {
      "cell_type": "code",
      "metadata": {
        "id": "Z6Hbq1DeuFjf",
        "colab_type": "code",
        "colab": {}
      },
      "source": [
        "df.head()"
      ],
      "execution_count": 0,
      "outputs": []
    },
    {
      "cell_type": "code",
      "metadata": {
        "id": "8HjCwI5Ltq3U",
        "colab_type": "code",
        "colab": {}
      },
      "source": [
        "# Seperate data by Democrat or Republicn\n",
        "dem = df[df['party'] == 'democrat']\n",
        "rep = df[df['party'] == 'republican']"
      ],
      "execution_count": 0,
      "outputs": []
    },
    {
      "cell_type": "code",
      "metadata": {
        "id": "pxkBAlCstyr_",
        "colab_type": "code",
        "colab": {}
      },
      "source": [
        "dem.head()"
      ],
      "execution_count": 0,
      "outputs": []
    },
    {
      "cell_type": "code",
      "metadata": {
        "id": "MQaw5e9s_jS6",
        "colab_type": "code",
        "colab": {}
      },
      "source": [
        "rep.head()"
      ],
      "execution_count": 0,
      "outputs": []
    },
    {
      "cell_type": "markdown",
      "metadata": {
        "id": "ODaQhjrmEa_6",
        "colab_type": "text"
      },
      "source": [
        "## 1. Generate and numerically represent a confidence interval"
      ]
    },
    {
      "cell_type": "code",
      "metadata": {
        "id": "NJpLkbKpk2oJ",
        "colab_type": "code",
        "colab": {}
      },
      "source": [
        "# Confidence interval function\n",
        "\n",
        "def confidence_interval(data, confidence=0.95):\n",
        "\n",
        "  data = np.array(data)\n",
        "  mean = np.mean(data)\n",
        "  n = len(data)\n",
        "  stderr = np.std(data, ddof=1) / np.sqrt(n)\n",
        "  margin_of_error = stderr * stats.t.ppf((1 + confidence) / 2.0, n - 1)\n",
        "  return (mean, mean - margin_of_error, mean + margin_of_error)"
      ],
      "execution_count": 0,
      "outputs": []
    },
    {
      "cell_type": "code",
      "metadata": {
        "id": "Kbv3TvZW_yV1",
        "colab_type": "code",
        "outputId": "e7e368f5-16c5-44ab-b5b2-11dc786b0136",
        "colab": {
          "base_uri": "https://localhost:8080/",
          "height": 136
        }
      },
      "source": [
        "# USED TO SEE HOW TO HANDLE CONVERTING TO NUMPY ARRAY IN FUNCTION LATER\n",
        "test = dem.values\n",
        "test"
      ],
      "execution_count": 0,
      "outputs": [
        {
          "output_type": "execute_result",
          "data": {
            "text/plain": [
              "array([['democrat', nan, 1.0, ..., 1.0, 0.0, 0.0],\n",
              "       ['democrat', 0.0, 1.0, ..., 0.0, 0.0, 1.0],\n",
              "       ['democrat', 1.0, 1.0, ..., 1.0, 1.0, 1.0],\n",
              "       ...,\n",
              "       ['democrat', nan, nan, ..., 0.0, 1.0, 1.0],\n",
              "       ['democrat', 1.0, 0.0, ..., nan, 1.0, 1.0],\n",
              "       ['democrat', 0.0, 0.0, ..., 0.0, 0.0, 1.0]], dtype=object)"
            ]
          },
          "metadata": {
            "tags": []
          },
          "execution_count": 43
        }
      ]
    },
    {
      "cell_type": "code",
      "metadata": {
        "id": "6fBeMcH2_1kz",
        "colab_type": "code",
        "outputId": "00bcadef-1826-4dbc-8cea-4a19a6b56b25",
        "colab": {
          "base_uri": "https://localhost:8080/",
          "height": 153
        }
      },
      "source": [
        "# USED TO SEE HOW TO HANDLE CONVERTING TO NUMPY ARRAY IN FUNCTION LATER\n",
        "test = dem.values.T\n",
        "test"
      ],
      "execution_count": 0,
      "outputs": [
        {
          "output_type": "execute_result",
          "data": {
            "text/plain": [
              "array([['democrat', 'democrat', 'democrat', ..., 'democrat', 'democrat',\n",
              "        'democrat'],\n",
              "       [nan, 0.0, 1.0, ..., nan, 1.0, 0.0],\n",
              "       [1.0, 1.0, 1.0, ..., nan, 0.0, 0.0],\n",
              "       ...,\n",
              "       [1.0, 0.0, 1.0, ..., 0.0, nan, 0.0],\n",
              "       [0.0, 0.0, 1.0, ..., 1.0, 1.0, 0.0],\n",
              "       [0.0, 1.0, 1.0, ..., 1.0, 1.0, 1.0]], dtype=object)"
            ]
          },
          "metadata": {
            "tags": []
          },
          "execution_count": 44
        }
      ]
    },
    {
      "cell_type": "code",
      "metadata": {
        "id": "Jhdw-zH3k2vq",
        "colab_type": "code",
        "colab": {}
      },
      "source": [
        "# Confidence interval for dataframe function\n",
        "\n",
        "def confidence_interval_df(x):\n",
        "# Create list to hold means, lower bounds, and upper bounds\n",
        "  CI_issue = []\n",
        "\n",
        "# Convert dataframe into an array and transpose so we can compare the votes for\n",
        "# each bill, rather than each congresspersons voting\n",
        "  x = x.values.T\n",
        "\n",
        "# For loop to fill CI_issue using confidence_interval function from above while\n",
        "# avoiding NaN values using isnan (arrays are easy to work with!)\n",
        "  for col in x:\n",
        "    no_nans = col[~np.isnan(col)]\n",
        "    CI_issue.append(confidence_interval(no_nans))\n",
        "# Create dataframe from confidence_interval outputs for each issue    \n",
        "  CI_issue = pd.DataFrame(CI_issue, columns=['Mean', 'Lower', 'Upper'])\n",
        "# return the dataframe  \n",
        "  return CI_issue"
      ],
      "execution_count": 0,
      "outputs": []
    },
    {
      "cell_type": "code",
      "metadata": {
        "id": "7m6JDlW5k2yH",
        "colab_type": "code",
        "colab": {}
      },
      "source": [
        "# Drop 'party' column from each dataframe to run confidence_interval_df (isnan\n",
        "# doesn't like strings!)\n",
        "\n",
        "dem_votes = dem.drop('party', axis=1)\n",
        "rep_votes = rep.drop('party', axis=1)"
      ],
      "execution_count": 0,
      "outputs": []
    },
    {
      "cell_type": "code",
      "metadata": {
        "id": "E5h2fCWeGIdK",
        "colab_type": "code",
        "colab": {}
      },
      "source": [
        "# Run confidence_interval_df for both dem votes and rep votes\n",
        "CI_dem = confidence_interval_df(dem_votes)\n",
        "CI_rep = confidence_interval_df(rep_votes)"
      ],
      "execution_count": 0,
      "outputs": []
    },
    {
      "cell_type": "code",
      "metadata": {
        "id": "ixJHG77Xk20U",
        "colab_type": "code",
        "colab": {}
      },
      "source": [
        "# Get the margin of error for each row and append to each dataframe\n",
        "CI_dem['Margin of Error'] = CI_dem['Mean'] - CI_dem['Lower']\n",
        "CI_rep['Margin of Error'] = CI_rep['Mean'] - CI_rep['Lower']"
      ],
      "execution_count": 0,
      "outputs": []
    },
    {
      "cell_type": "code",
      "metadata": {
        "id": "guqNbByBDvY2",
        "colab_type": "code",
        "outputId": "5e07b6e4-b1d9-4742-9b38-c197ec81f946",
        "colab": {
          "base_uri": "https://localhost:8080/",
          "height": 545
        }
      },
      "source": [
        "CI_dem"
      ],
      "execution_count": 0,
      "outputs": [
        {
          "output_type": "execute_result",
          "data": {
            "text/html": [
              "<div>\n",
              "<style scoped>\n",
              "    .dataframe tbody tr th:only-of-type {\n",
              "        vertical-align: middle;\n",
              "    }\n",
              "\n",
              "    .dataframe tbody tr th {\n",
              "        vertical-align: top;\n",
              "    }\n",
              "\n",
              "    .dataframe thead th {\n",
              "        text-align: right;\n",
              "    }\n",
              "</style>\n",
              "<table border=\"1\" class=\"dataframe\">\n",
              "  <thead>\n",
              "    <tr style=\"text-align: right;\">\n",
              "      <th></th>\n",
              "      <th>Mean</th>\n",
              "      <th>Lower</th>\n",
              "      <th>Upper</th>\n",
              "      <th>Margin of Error</th>\n",
              "    </tr>\n",
              "  </thead>\n",
              "  <tbody>\n",
              "    <tr>\n",
              "      <th>0</th>\n",
              "      <td>0.604651</td>\n",
              "      <td>0.544593</td>\n",
              "      <td>0.664710</td>\n",
              "      <td>0.060058</td>\n",
              "    </tr>\n",
              "    <tr>\n",
              "      <th>1</th>\n",
              "      <td>0.502092</td>\n",
              "      <td>0.438245</td>\n",
              "      <td>0.565939</td>\n",
              "      <td>0.063847</td>\n",
              "    </tr>\n",
              "    <tr>\n",
              "      <th>2</th>\n",
              "      <td>0.888462</td>\n",
              "      <td>0.849944</td>\n",
              "      <td>0.926980</td>\n",
              "      <td>0.038518</td>\n",
              "    </tr>\n",
              "    <tr>\n",
              "      <th>3</th>\n",
              "      <td>0.054054</td>\n",
              "      <td>0.026332</td>\n",
              "      <td>0.081776</td>\n",
              "      <td>0.027722</td>\n",
              "    </tr>\n",
              "    <tr>\n",
              "      <th>4</th>\n",
              "      <td>0.215686</td>\n",
              "      <td>0.164863</td>\n",
              "      <td>0.266509</td>\n",
              "      <td>0.050823</td>\n",
              "    </tr>\n",
              "    <tr>\n",
              "      <th>5</th>\n",
              "      <td>0.476744</td>\n",
              "      <td>0.415392</td>\n",
              "      <td>0.538097</td>\n",
              "      <td>0.061352</td>\n",
              "    </tr>\n",
              "    <tr>\n",
              "      <th>6</th>\n",
              "      <td>0.772201</td>\n",
              "      <td>0.720782</td>\n",
              "      <td>0.823620</td>\n",
              "      <td>0.051419</td>\n",
              "    </tr>\n",
              "    <tr>\n",
              "      <th>7</th>\n",
              "      <td>0.828897</td>\n",
              "      <td>0.783085</td>\n",
              "      <td>0.874710</td>\n",
              "      <td>0.045813</td>\n",
              "    </tr>\n",
              "    <tr>\n",
              "      <th>8</th>\n",
              "      <td>0.758065</td>\n",
              "      <td>0.704394</td>\n",
              "      <td>0.811735</td>\n",
              "      <td>0.053671</td>\n",
              "    </tr>\n",
              "    <tr>\n",
              "      <th>9</th>\n",
              "      <td>0.471483</td>\n",
              "      <td>0.410757</td>\n",
              "      <td>0.532208</td>\n",
              "      <td>0.060725</td>\n",
              "    </tr>\n",
              "    <tr>\n",
              "      <th>10</th>\n",
              "      <td>0.505882</td>\n",
              "      <td>0.444103</td>\n",
              "      <td>0.567662</td>\n",
              "      <td>0.061780</td>\n",
              "    </tr>\n",
              "    <tr>\n",
              "      <th>11</th>\n",
              "      <td>0.144578</td>\n",
              "      <td>0.100595</td>\n",
              "      <td>0.188562</td>\n",
              "      <td>0.043983</td>\n",
              "    </tr>\n",
              "    <tr>\n",
              "      <th>12</th>\n",
              "      <td>0.289683</td>\n",
              "      <td>0.233293</td>\n",
              "      <td>0.346072</td>\n",
              "      <td>0.056389</td>\n",
              "    </tr>\n",
              "    <tr>\n",
              "      <th>13</th>\n",
              "      <td>0.350195</td>\n",
              "      <td>0.291482</td>\n",
              "      <td>0.408907</td>\n",
              "      <td>0.058713</td>\n",
              "    </tr>\n",
              "    <tr>\n",
              "      <th>14</th>\n",
              "      <td>0.637450</td>\n",
              "      <td>0.577569</td>\n",
              "      <td>0.697332</td>\n",
              "      <td>0.059881</td>\n",
              "    </tr>\n",
              "    <tr>\n",
              "      <th>15</th>\n",
              "      <td>0.935135</td>\n",
              "      <td>0.899313</td>\n",
              "      <td>0.970957</td>\n",
              "      <td>0.035822</td>\n",
              "    </tr>\n",
              "  </tbody>\n",
              "</table>\n",
              "</div>"
            ],
            "text/plain": [
              "        Mean     Lower     Upper  Margin of Error\n",
              "0   0.604651  0.544593  0.664710         0.060058\n",
              "1   0.502092  0.438245  0.565939         0.063847\n",
              "2   0.888462  0.849944  0.926980         0.038518\n",
              "3   0.054054  0.026332  0.081776         0.027722\n",
              "4   0.215686  0.164863  0.266509         0.050823\n",
              "5   0.476744  0.415392  0.538097         0.061352\n",
              "6   0.772201  0.720782  0.823620         0.051419\n",
              "7   0.828897  0.783085  0.874710         0.045813\n",
              "8   0.758065  0.704394  0.811735         0.053671\n",
              "9   0.471483  0.410757  0.532208         0.060725\n",
              "10  0.505882  0.444103  0.567662         0.061780\n",
              "11  0.144578  0.100595  0.188562         0.043983\n",
              "12  0.289683  0.233293  0.346072         0.056389\n",
              "13  0.350195  0.291482  0.408907         0.058713\n",
              "14  0.637450  0.577569  0.697332         0.059881\n",
              "15  0.935135  0.899313  0.970957         0.035822"
            ]
          },
          "metadata": {
            "tags": []
          },
          "execution_count": 11
        }
      ]
    },
    {
      "cell_type": "code",
      "metadata": {
        "id": "WtHVi9vzDvbX",
        "colab_type": "code",
        "outputId": "900cc21a-7cbb-4334-816a-61ebfc871cd5",
        "colab": {
          "base_uri": "https://localhost:8080/",
          "height": 545
        }
      },
      "source": [
        "CI_rep"
      ],
      "execution_count": 0,
      "outputs": [
        {
          "output_type": "execute_result",
          "data": {
            "text/html": [
              "<div>\n",
              "<style scoped>\n",
              "    .dataframe tbody tr th:only-of-type {\n",
              "        vertical-align: middle;\n",
              "    }\n",
              "\n",
              "    .dataframe tbody tr th {\n",
              "        vertical-align: top;\n",
              "    }\n",
              "\n",
              "    .dataframe thead th {\n",
              "        text-align: right;\n",
              "    }\n",
              "</style>\n",
              "<table border=\"1\" class=\"dataframe\">\n",
              "  <thead>\n",
              "    <tr style=\"text-align: right;\">\n",
              "      <th></th>\n",
              "      <th>Mean</th>\n",
              "      <th>Lower</th>\n",
              "      <th>Upper</th>\n",
              "      <th>Margin of Error</th>\n",
              "    </tr>\n",
              "  </thead>\n",
              "  <tbody>\n",
              "    <tr>\n",
              "      <th>0</th>\n",
              "      <td>0.187879</td>\n",
              "      <td>0.127652</td>\n",
              "      <td>0.248106</td>\n",
              "      <td>0.060227</td>\n",
              "    </tr>\n",
              "    <tr>\n",
              "      <th>1</th>\n",
              "      <td>0.506757</td>\n",
              "      <td>0.425266</td>\n",
              "      <td>0.588248</td>\n",
              "      <td>0.081491</td>\n",
              "    </tr>\n",
              "    <tr>\n",
              "      <th>2</th>\n",
              "      <td>0.134146</td>\n",
              "      <td>0.081435</td>\n",
              "      <td>0.186857</td>\n",
              "      <td>0.052711</td>\n",
              "    </tr>\n",
              "    <tr>\n",
              "      <th>3</th>\n",
              "      <td>0.987879</td>\n",
              "      <td>0.971007</td>\n",
              "      <td>1.004751</td>\n",
              "      <td>0.016872</td>\n",
              "    </tr>\n",
              "    <tr>\n",
              "      <th>4</th>\n",
              "      <td>0.951515</td>\n",
              "      <td>0.918398</td>\n",
              "      <td>0.984632</td>\n",
              "      <td>0.033117</td>\n",
              "    </tr>\n",
              "    <tr>\n",
              "      <th>5</th>\n",
              "      <td>0.897590</td>\n",
              "      <td>0.850987</td>\n",
              "      <td>0.944193</td>\n",
              "      <td>0.046603</td>\n",
              "    </tr>\n",
              "    <tr>\n",
              "      <th>6</th>\n",
              "      <td>0.240741</td>\n",
              "      <td>0.174201</td>\n",
              "      <td>0.307281</td>\n",
              "      <td>0.066540</td>\n",
              "    </tr>\n",
              "    <tr>\n",
              "      <th>7</th>\n",
              "      <td>0.152866</td>\n",
              "      <td>0.095955</td>\n",
              "      <td>0.209778</td>\n",
              "      <td>0.056911</td>\n",
              "    </tr>\n",
              "    <tr>\n",
              "      <th>8</th>\n",
              "      <td>0.115152</td>\n",
              "      <td>0.065935</td>\n",
              "      <td>0.164368</td>\n",
              "      <td>0.049217</td>\n",
              "    </tr>\n",
              "    <tr>\n",
              "      <th>9</th>\n",
              "      <td>0.557576</td>\n",
              "      <td>0.480996</td>\n",
              "      <td>0.634156</td>\n",
              "      <td>0.076580</td>\n",
              "    </tr>\n",
              "    <tr>\n",
              "      <th>10</th>\n",
              "      <td>0.132075</td>\n",
              "      <td>0.078876</td>\n",
              "      <td>0.185275</td>\n",
              "      <td>0.053200</td>\n",
              "    </tr>\n",
              "    <tr>\n",
              "      <th>11</th>\n",
              "      <td>0.870968</td>\n",
              "      <td>0.817602</td>\n",
              "      <td>0.924334</td>\n",
              "      <td>0.053366</td>\n",
              "    </tr>\n",
              "    <tr>\n",
              "      <th>12</th>\n",
              "      <td>0.860759</td>\n",
              "      <td>0.806186</td>\n",
              "      <td>0.915333</td>\n",
              "      <td>0.054574</td>\n",
              "    </tr>\n",
              "    <tr>\n",
              "      <th>13</th>\n",
              "      <td>0.981366</td>\n",
              "      <td>0.960254</td>\n",
              "      <td>1.002479</td>\n",
              "      <td>0.021113</td>\n",
              "    </tr>\n",
              "    <tr>\n",
              "      <th>14</th>\n",
              "      <td>0.089744</td>\n",
              "      <td>0.044394</td>\n",
              "      <td>0.135093</td>\n",
              "      <td>0.045349</td>\n",
              "    </tr>\n",
              "    <tr>\n",
              "      <th>15</th>\n",
              "      <td>0.657534</td>\n",
              "      <td>0.579646</td>\n",
              "      <td>0.735422</td>\n",
              "      <td>0.077888</td>\n",
              "    </tr>\n",
              "  </tbody>\n",
              "</table>\n",
              "</div>"
            ],
            "text/plain": [
              "        Mean     Lower     Upper  Margin of Error\n",
              "0   0.187879  0.127652  0.248106         0.060227\n",
              "1   0.506757  0.425266  0.588248         0.081491\n",
              "2   0.134146  0.081435  0.186857         0.052711\n",
              "3   0.987879  0.971007  1.004751         0.016872\n",
              "4   0.951515  0.918398  0.984632         0.033117\n",
              "5   0.897590  0.850987  0.944193         0.046603\n",
              "6   0.240741  0.174201  0.307281         0.066540\n",
              "7   0.152866  0.095955  0.209778         0.056911\n",
              "8   0.115152  0.065935  0.164368         0.049217\n",
              "9   0.557576  0.480996  0.634156         0.076580\n",
              "10  0.132075  0.078876  0.185275         0.053200\n",
              "11  0.870968  0.817602  0.924334         0.053366\n",
              "12  0.860759  0.806186  0.915333         0.054574\n",
              "13  0.981366  0.960254  1.002479         0.021113\n",
              "14  0.089744  0.044394  0.135093         0.045349\n",
              "15  0.657534  0.579646  0.735422         0.077888"
            ]
          },
          "metadata": {
            "tags": []
          },
          "execution_count": 12
        }
      ]
    },
    {
      "cell_type": "markdown",
      "metadata": {
        "id": "mxUjMV3fHFkp",
        "colab_type": "text"
      },
      "source": [
        "## 2. Graphically (with a plot) represent the confidence interval"
      ]
    },
    {
      "cell_type": "code",
      "metadata": {
        "id": "W02la-HwIy5-",
        "colab_type": "code",
        "outputId": "a58981fa-169b-488a-a4d5-4ac46e05d80b",
        "colab": {
          "base_uri": "https://localhost:8080/",
          "height": 204
        }
      },
      "source": [
        "CI_dem.head()"
      ],
      "execution_count": 0,
      "outputs": [
        {
          "output_type": "execute_result",
          "data": {
            "text/html": [
              "<div>\n",
              "<style scoped>\n",
              "    .dataframe tbody tr th:only-of-type {\n",
              "        vertical-align: middle;\n",
              "    }\n",
              "\n",
              "    .dataframe tbody tr th {\n",
              "        vertical-align: top;\n",
              "    }\n",
              "\n",
              "    .dataframe thead th {\n",
              "        text-align: right;\n",
              "    }\n",
              "</style>\n",
              "<table border=\"1\" class=\"dataframe\">\n",
              "  <thead>\n",
              "    <tr style=\"text-align: right;\">\n",
              "      <th></th>\n",
              "      <th>Mean</th>\n",
              "      <th>Lower</th>\n",
              "      <th>Upper</th>\n",
              "      <th>Margin of Error</th>\n",
              "    </tr>\n",
              "  </thead>\n",
              "  <tbody>\n",
              "    <tr>\n",
              "      <th>0</th>\n",
              "      <td>0.604651</td>\n",
              "      <td>0.544593</td>\n",
              "      <td>0.664710</td>\n",
              "      <td>0.060058</td>\n",
              "    </tr>\n",
              "    <tr>\n",
              "      <th>1</th>\n",
              "      <td>0.502092</td>\n",
              "      <td>0.438245</td>\n",
              "      <td>0.565939</td>\n",
              "      <td>0.063847</td>\n",
              "    </tr>\n",
              "    <tr>\n",
              "      <th>2</th>\n",
              "      <td>0.888462</td>\n",
              "      <td>0.849944</td>\n",
              "      <td>0.926980</td>\n",
              "      <td>0.038518</td>\n",
              "    </tr>\n",
              "    <tr>\n",
              "      <th>3</th>\n",
              "      <td>0.054054</td>\n",
              "      <td>0.026332</td>\n",
              "      <td>0.081776</td>\n",
              "      <td>0.027722</td>\n",
              "    </tr>\n",
              "    <tr>\n",
              "      <th>4</th>\n",
              "      <td>0.215686</td>\n",
              "      <td>0.164863</td>\n",
              "      <td>0.266509</td>\n",
              "      <td>0.050823</td>\n",
              "    </tr>\n",
              "  </tbody>\n",
              "</table>\n",
              "</div>"
            ],
            "text/plain": [
              "       Mean     Lower     Upper  Margin of Error\n",
              "0  0.604651  0.544593  0.664710         0.060058\n",
              "1  0.502092  0.438245  0.565939         0.063847\n",
              "2  0.888462  0.849944  0.926980         0.038518\n",
              "3  0.054054  0.026332  0.081776         0.027722\n",
              "4  0.215686  0.164863  0.266509         0.050823"
            ]
          },
          "metadata": {
            "tags": []
          },
          "execution_count": 13
        }
      ]
    },
    {
      "cell_type": "code",
      "metadata": {
        "id": "KLXgezjEJgZx",
        "colab_type": "code",
        "colab": {}
      },
      "source": [
        "# Let's make a column with bill names for easier graphing\n",
        "CI_dem['Bill'] = ['handicapped-infants',\n",
        "                          'water-project', 'budget', 'physician-fee-freeze', \n",
        "                          'el-salvador-aid', 'religious-groups', \n",
        "                          'anti-satellite-ban', 'aid-to-contras', 'mx-missile',\n",
        "                          'immigration', 'synfuels', 'education', \n",
        "                          'right-to-sue','crime','duty-free', 'south-africa']\n",
        "CI_rep['Bill'] = ['handicapped-infants',\n",
        "                          'water-project', 'budget', 'physician-fee-freeze', \n",
        "                          'el-salvador-aid', 'religious-groups', \n",
        "                          'anti-satellite-ban', 'aid-to-contras', 'mx-missile',\n",
        "                          'immigration', 'synfuels', 'education', \n",
        "                          'right-to-sue','crime','duty-free', 'south-africa']"
      ],
      "execution_count": 0,
      "outputs": []
    },
    {
      "cell_type": "code",
      "metadata": {
        "id": "faNQV3hEJ1yQ",
        "colab_type": "code",
        "outputId": "84e80390-3ffe-40b2-bfc5-a9549656d36b",
        "colab": {
          "base_uri": "https://localhost:8080/",
          "height": 359
        }
      },
      "source": [
        "# Check that our Bills lined up correctly as there have been a few transposes/\n",
        "# changing of the dataframe throughout the notebook\n",
        "CI_dem.head(10)"
      ],
      "execution_count": 0,
      "outputs": [
        {
          "output_type": "execute_result",
          "data": {
            "text/html": [
              "<div>\n",
              "<style scoped>\n",
              "    .dataframe tbody tr th:only-of-type {\n",
              "        vertical-align: middle;\n",
              "    }\n",
              "\n",
              "    .dataframe tbody tr th {\n",
              "        vertical-align: top;\n",
              "    }\n",
              "\n",
              "    .dataframe thead th {\n",
              "        text-align: right;\n",
              "    }\n",
              "</style>\n",
              "<table border=\"1\" class=\"dataframe\">\n",
              "  <thead>\n",
              "    <tr style=\"text-align: right;\">\n",
              "      <th></th>\n",
              "      <th>Mean</th>\n",
              "      <th>Lower</th>\n",
              "      <th>Upper</th>\n",
              "      <th>Margin of Error</th>\n",
              "      <th>Bill</th>\n",
              "    </tr>\n",
              "  </thead>\n",
              "  <tbody>\n",
              "    <tr>\n",
              "      <th>0</th>\n",
              "      <td>0.604651</td>\n",
              "      <td>0.544593</td>\n",
              "      <td>0.664710</td>\n",
              "      <td>0.060058</td>\n",
              "      <td>handicapped-infants</td>\n",
              "    </tr>\n",
              "    <tr>\n",
              "      <th>1</th>\n",
              "      <td>0.502092</td>\n",
              "      <td>0.438245</td>\n",
              "      <td>0.565939</td>\n",
              "      <td>0.063847</td>\n",
              "      <td>water-project</td>\n",
              "    </tr>\n",
              "    <tr>\n",
              "      <th>2</th>\n",
              "      <td>0.888462</td>\n",
              "      <td>0.849944</td>\n",
              "      <td>0.926980</td>\n",
              "      <td>0.038518</td>\n",
              "      <td>budget</td>\n",
              "    </tr>\n",
              "    <tr>\n",
              "      <th>3</th>\n",
              "      <td>0.054054</td>\n",
              "      <td>0.026332</td>\n",
              "      <td>0.081776</td>\n",
              "      <td>0.027722</td>\n",
              "      <td>physician-fee-freeze</td>\n",
              "    </tr>\n",
              "    <tr>\n",
              "      <th>4</th>\n",
              "      <td>0.215686</td>\n",
              "      <td>0.164863</td>\n",
              "      <td>0.266509</td>\n",
              "      <td>0.050823</td>\n",
              "      <td>el-salvador-aid</td>\n",
              "    </tr>\n",
              "    <tr>\n",
              "      <th>5</th>\n",
              "      <td>0.476744</td>\n",
              "      <td>0.415392</td>\n",
              "      <td>0.538097</td>\n",
              "      <td>0.061352</td>\n",
              "      <td>religious-groups</td>\n",
              "    </tr>\n",
              "    <tr>\n",
              "      <th>6</th>\n",
              "      <td>0.772201</td>\n",
              "      <td>0.720782</td>\n",
              "      <td>0.823620</td>\n",
              "      <td>0.051419</td>\n",
              "      <td>anti-satellite-ban</td>\n",
              "    </tr>\n",
              "    <tr>\n",
              "      <th>7</th>\n",
              "      <td>0.828897</td>\n",
              "      <td>0.783085</td>\n",
              "      <td>0.874710</td>\n",
              "      <td>0.045813</td>\n",
              "      <td>aid-to-contras</td>\n",
              "    </tr>\n",
              "    <tr>\n",
              "      <th>8</th>\n",
              "      <td>0.758065</td>\n",
              "      <td>0.704394</td>\n",
              "      <td>0.811735</td>\n",
              "      <td>0.053671</td>\n",
              "      <td>mx-missile</td>\n",
              "    </tr>\n",
              "    <tr>\n",
              "      <th>9</th>\n",
              "      <td>0.471483</td>\n",
              "      <td>0.410757</td>\n",
              "      <td>0.532208</td>\n",
              "      <td>0.060725</td>\n",
              "      <td>immigration</td>\n",
              "    </tr>\n",
              "  </tbody>\n",
              "</table>\n",
              "</div>"
            ],
            "text/plain": [
              "       Mean     Lower     Upper  Margin of Error                  Bill\n",
              "0  0.604651  0.544593  0.664710         0.060058   handicapped-infants\n",
              "1  0.502092  0.438245  0.565939         0.063847         water-project\n",
              "2  0.888462  0.849944  0.926980         0.038518                budget\n",
              "3  0.054054  0.026332  0.081776         0.027722  physician-fee-freeze\n",
              "4  0.215686  0.164863  0.266509         0.050823       el-salvador-aid\n",
              "5  0.476744  0.415392  0.538097         0.061352      religious-groups\n",
              "6  0.772201  0.720782  0.823620         0.051419    anti-satellite-ban\n",
              "7  0.828897  0.783085  0.874710         0.045813        aid-to-contras\n",
              "8  0.758065  0.704394  0.811735         0.053671            mx-missile\n",
              "9  0.471483  0.410757  0.532208         0.060725           immigration"
            ]
          },
          "metadata": {
            "tags": []
          },
          "execution_count": 15
        }
      ]
    },
    {
      "cell_type": "code",
      "metadata": {
        "id": "eAN2TOeGJ9EX",
        "colab_type": "code",
        "outputId": "d7146c05-47d7-4ac1-83e5-d89c385b21ed",
        "colab": {
          "base_uri": "https://localhost:8080/",
          "height": 306
        }
      },
      "source": [
        "# Use .mean() to compare mean values to ensure Bill names are in the right rows\n",
        "dem.mean()"
      ],
      "execution_count": 0,
      "outputs": [
        {
          "output_type": "execute_result",
          "data": {
            "text/plain": [
              "handicapped-infants     0.604651\n",
              "water-project           0.502092\n",
              "budget                  0.888462\n",
              "physician-fee-freeze    0.054054\n",
              "el-salvador-aid         0.215686\n",
              "religious-groups        0.476744\n",
              "anti-satellite-ban      0.772201\n",
              "aid-to-contras          0.828897\n",
              "mx-missile              0.758065\n",
              "immigration             0.471483\n",
              "synfuels                0.505882\n",
              "education               0.144578\n",
              "right-to-sue            0.289683\n",
              "crime                   0.350195\n",
              "duty-free               0.637450\n",
              "south-africa            0.935135\n",
              "dtype: float64"
            ]
          },
          "metadata": {
            "tags": []
          },
          "execution_count": 16
        }
      ]
    },
    {
      "cell_type": "code",
      "metadata": {
        "id": "e82UVq6yHLup",
        "colab_type": "code",
        "outputId": "343d97ba-61b1-4348-a474-976690a36ce8",
        "colab": {
          "base_uri": "https://localhost:8080/",
          "height": 565
        }
      },
      "source": [
        "fig, ax = plt.subplots(figsize=(8,8))\n",
        "plt.style.use('seaborn-whitegrid')\n",
        "# Plot data on a bar graph with CI included\n",
        "ax.bar('Bill', 'Mean', data=CI_dem, yerr='Margin of Error', color='b', alpha=.8)\n",
        "\n",
        "### Make it look nice! ###\n",
        "# Adjust yticks and labels\n",
        "ax.set_yticks([0, .1, .2, .3, .4, .5, .6, .7, .8, .9, 1])\n",
        "ax.set_yticklabels(['0', '10', '20', '30', '40', '50', '60', '70', '80', '90',\n",
        "                    '100%'])\n",
        "ax.set_yticks([.05, .15, .25, .35, .45, .55, .65, .75, .85, .95], minor=True)\n",
        "ax.tick_params(which='major', width=1.0, length=10)\n",
        "ax.tick_params(which='minor', width=1.0, length=5)\n",
        "ax.set_xticklabels(CI_dem['Bill'], rotation=45, ha='right')\n",
        "\n",
        "ax.set_ylim(0,1.05)\n",
        "\n",
        "ax.set_title('Democratic Voting Across Bills in 1984')\n",
        "plt.show()"
      ],
      "execution_count": 0,
      "outputs": [
        {
          "output_type": "display_data",
          "data": {
            "image/png": "[encoded data removed]",
            "text/plain": [
              "<Figure size 576x576 with 1 Axes>"
            ]
          },
          "metadata": {
            "tags": []
          }
        }
      ]
    },
    {
      "cell_type": "code",
      "metadata": {
        "id": "_OdQTqlLSiX1",
        "colab_type": "code",
        "outputId": "6d88880b-47bb-4b51-fae7-dbbab5d05b7a",
        "colab": {
          "base_uri": "https://localhost:8080/",
          "height": 565
        }
      },
      "source": [
        "fig, ax = plt.subplots(figsize=(8,8))\n",
        "plt.style.use('seaborn-whitegrid')\n",
        "# Plot data on a bar graph with CI included\n",
        "ax.bar('Bill', 'Mean', data=CI_rep, yerr='Margin of Error', color='r', alpha=.8)\n",
        "\n",
        "### Make it look nice! ###\n",
        "# Adjust yticks and labels\n",
        "ax.set_yticks([0, .1, .2, .3, .4, .5, .6, .7, .8, .9, 1])\n",
        "ax.set_yticklabels(['0', '10', '20', '30', '40', '50', '60', '70', '80', '90',\n",
        "                    '100%'])\n",
        "ax.set_yticks([.05, .15, .25, .35, .45, .55, .65, .75, .85, .95], minor=True)\n",
        "ax.tick_params(which='major', width=1.0, length=10)\n",
        "ax.tick_params(which='minor', width=1.0, length=5)\n",
        "ax.set_xticklabels(CI_rep['Bill'], rotation=45, ha='right')\n",
        "\n",
        "ax.set_ylim(0,1.05)\n",
        "\n",
        "ax.set_title('Republican Voting Across Bills in 1984')\n",
        "plt.show()"
      ],
      "execution_count": 0,
      "outputs": [
        {
          "output_type": "display_data",
          "data": {
            "image/png": "[encoded data removed]",
            "text/plain": [
              "<Figure size 576x576 with 1 Axes>"
            ]
          },
          "metadata": {
            "tags": []
          }
        }
      ]
    },
    {
      "cell_type": "code",
      "metadata": {
        "id": "OC5yPh3HV05O",
        "colab_type": "code",
        "outputId": "30f012ae-99cc-4e88-cf72-9a90345d357f",
        "colab": {
          "base_uri": "https://localhost:8080/",
          "height": 797
        }
      },
      "source": [
        "fig, ax = plt.subplots(figsize=(12,8))\n",
        "plt.style.use('seaborn-whitegrid')\n",
        "\n",
        "# Use width and align parameters to seperate bars\n",
        "width = .35\n",
        "# Plot data on a bar graph with CI included\n",
        "ax.bar('Bill', 'Mean', -width, data=CI_rep, yerr='Margin of Error', color='red', \n",
        "       alpha=.9, align='edge', capsize=3, label='Republican')\n",
        "ax.bar('Bill', 'Mean', +width, data=CI_dem, yerr='Margin of Error', color='blue', \n",
        "       alpha=.9, align='edge', capsize=3, label='Democrat')\n",
        "### Make it look nice! ###\n",
        "# Adjust yticks and labels\n",
        "ax.set_yticks([0, .1, .2, .3, .4, .5, .6, .7, .8, .9, 1])\n",
        "ax.set_yticklabels(['0', '10', '20', '30', '40', '50', '60', '70', '80', '90',\n",
        "                    '100%'])\n",
        "ax.set_yticks([.05, .15, .25, .35, .45, .55, .65, .75, .85, .95], minor=True)\n",
        "ax.tick_params(which='major', width=1.0, length=10)\n",
        "ax.tick_params(which='minor', width=1.0, length=5)\n",
        "ax.set_xticklabels(CI_rep['Bill'], rotation=45, ha='right')\n",
        "\n",
        "#Set y_lim so some of the CI's don't get cut off\n",
        "ax.set_ylim(0,1.05)\n",
        "# Show legend since we have 2 different groups\n",
        "ax.legend()\n",
        "ax.set_title('Voting Across Bills in 1984', fontweight='bold', size=18)\n",
        "plt.show()"
      ],
      "execution_count": 0,
      "outputs": [
        {
          "output_type": "display_data",
          "data": {
            "image/png": "[encoded data removed]",
            "text/plain": [
              "<Figure size 1200x800 with 1 Axes>"
            ]
          },
          "metadata": {
            "tags": []
          }
        }
      ]
    },
    {
      "cell_type": "markdown",
      "metadata": {
        "id": "hYEdnUxPTXiP",
        "colab_type": "text"
      },
      "source": [
        "## 3. Interpret the confidence interval - what does it tell you about the data and its distribution?"
      ]
    },
    {
      "cell_type": "markdown",
      "metadata": {
        "id": "CT8o7-0eUKzA",
        "colab_type": "text"
      },
      "source": [
        "On the issues where the vote is closer to 50/50 we can see that the confidence interval is much larger, while the issues where voting was closer to unanimous the confidence interval is much smaller. This is very clear in the difference in size of the confidence intervals for the 'Water Project' bill and the 'Physician Free Freeze' bill on the Republican graph. I think in laymans terms this suggests that if there were to be a revote on these two bills the outcome for Physician freeze is expected to be about the same, while the Water project bill may have quite a different outcome."
      ]
    },
    {
      "cell_type": "markdown",
      "metadata": {
        "id": "xXfPLcKhTu3z",
        "colab_type": "text"
      },
      "source": [
        "## 4. Take a dataset that we have used in the past in class that has **categorical** variables. Pick two of those categorical variables and run a chi-squared tests on that data\n",
        "  - By hand using Numpy\n",
        "  - In a single line using Scipy"
      ]
    },
    {
      "cell_type": "code",
      "metadata": {
        "id": "6hjftR7Zcj6c",
        "colab_type": "code",
        "colab": {}
      },
      "source": [
        "headers = ['Sex', 'Length', 'Diameter', 'Height', 'Whole Weight', 'Shucked Weight', 'Viscera Weight', 'Shell Weight', 'Rings']\n",
        "df1 = pd.read_csv('https://archive.ics.uci.edu/ml/machine-learning-databases/abalone/abalone.data', names=headers)\n",
        "\n",
        "# Data about harvested abalone's"
      ],
      "execution_count": 0,
      "outputs": []
    },
    {
      "cell_type": "code",
      "metadata": {
        "id": "EFrqnv-SckCF",
        "colab_type": "code",
        "outputId": "ab52a0b0-7af3-407e-86d9-cbfbb58ff741",
        "colab": {
          "base_uri": "https://localhost:8080/",
          "height": 221
        }
      },
      "source": [
        "print(df1.shape)\n",
        "df1.head()"
      ],
      "execution_count": 0,
      "outputs": [
        {
          "output_type": "stream",
          "text": [
            "(4177, 9)\n"
          ],
          "name": "stdout"
        },
        {
          "output_type": "execute_result",
          "data": {
            "text/html": [
              "<div>\n",
              "<style scoped>\n",
              "    .dataframe tbody tr th:only-of-type {\n",
              "        vertical-align: middle;\n",
              "    }\n",
              "\n",
              "    .dataframe tbody tr th {\n",
              "        vertical-align: top;\n",
              "    }\n",
              "\n",
              "    .dataframe thead th {\n",
              "        text-align: right;\n",
              "    }\n",
              "</style>\n",
              "<table border=\"1\" class=\"dataframe\">\n",
              "  <thead>\n",
              "    <tr style=\"text-align: right;\">\n",
              "      <th></th>\n",
              "      <th>Sex</th>\n",
              "      <th>Length</th>\n",
              "      <th>Diameter</th>\n",
              "      <th>Height</th>\n",
              "      <th>Whole Weight</th>\n",
              "      <th>Shucked Weight</th>\n",
              "      <th>Viscera Weight</th>\n",
              "      <th>Shell Weight</th>\n",
              "      <th>Rings</th>\n",
              "    </tr>\n",
              "  </thead>\n",
              "  <tbody>\n",
              "    <tr>\n",
              "      <th>0</th>\n",
              "      <td>M</td>\n",
              "      <td>0.455</td>\n",
              "      <td>0.365</td>\n",
              "      <td>0.095</td>\n",
              "      <td>0.5140</td>\n",
              "      <td>0.2245</td>\n",
              "      <td>0.1010</td>\n",
              "      <td>0.150</td>\n",
              "      <td>15</td>\n",
              "    </tr>\n",
              "    <tr>\n",
              "      <th>1</th>\n",
              "      <td>M</td>\n",
              "      <td>0.350</td>\n",
              "      <td>0.265</td>\n",
              "      <td>0.090</td>\n",
              "      <td>0.2255</td>\n",
              "      <td>0.0995</td>\n",
              "      <td>0.0485</td>\n",
              "      <td>0.070</td>\n",
              "      <td>7</td>\n",
              "    </tr>\n",
              "    <tr>\n",
              "      <th>2</th>\n",
              "      <td>F</td>\n",
              "      <td>0.530</td>\n",
              "      <td>0.420</td>\n",
              "      <td>0.135</td>\n",
              "      <td>0.6770</td>\n",
              "      <td>0.2565</td>\n",
              "      <td>0.1415</td>\n",
              "      <td>0.210</td>\n",
              "      <td>9</td>\n",
              "    </tr>\n",
              "    <tr>\n",
              "      <th>3</th>\n",
              "      <td>M</td>\n",
              "      <td>0.440</td>\n",
              "      <td>0.365</td>\n",
              "      <td>0.125</td>\n",
              "      <td>0.5160</td>\n",
              "      <td>0.2155</td>\n",
              "      <td>0.1140</td>\n",
              "      <td>0.155</td>\n",
              "      <td>10</td>\n",
              "    </tr>\n",
              "    <tr>\n",
              "      <th>4</th>\n",
              "      <td>I</td>\n",
              "      <td>0.330</td>\n",
              "      <td>0.255</td>\n",
              "      <td>0.080</td>\n",
              "      <td>0.2050</td>\n",
              "      <td>0.0895</td>\n",
              "      <td>0.0395</td>\n",
              "      <td>0.055</td>\n",
              "      <td>7</td>\n",
              "    </tr>\n",
              "  </tbody>\n",
              "</table>\n",
              "</div>"
            ],
            "text/plain": [
              "  Sex  Length  Diameter  ...  Viscera Weight  Shell Weight  Rings\n",
              "0   M   0.455     0.365  ...          0.1010         0.150     15\n",
              "1   M   0.350     0.265  ...          0.0485         0.070      7\n",
              "2   F   0.530     0.420  ...          0.1415         0.210      9\n",
              "3   M   0.440     0.365  ...          0.1140         0.155     10\n",
              "4   I   0.330     0.255  ...          0.0395         0.055      7\n",
              "\n",
              "[5 rows x 9 columns]"
            ]
          },
          "metadata": {
            "tags": []
          },
          "execution_count": 102
        }
      ]
    },
    {
      "cell_type": "code",
      "metadata": {
        "id": "f-HwjRUye5J2",
        "colab_type": "code",
        "outputId": "829a6855-8208-40f0-d90e-97ffb58efd0f",
        "colab": {
          "base_uri": "https://localhost:8080/",
          "height": 297
        }
      },
      "source": [
        "df1.describe()"
      ],
      "execution_count": 0,
      "outputs": [
        {
          "output_type": "execute_result",
          "data": {
            "text/html": [
              "<div>\n",
              "<style scoped>\n",
              "    .dataframe tbody tr th:only-of-type {\n",
              "        vertical-align: middle;\n",
              "    }\n",
              "\n",
              "    .dataframe tbody tr th {\n",
              "        vertical-align: top;\n",
              "    }\n",
              "\n",
              "    .dataframe thead th {\n",
              "        text-align: right;\n",
              "    }\n",
              "</style>\n",
              "<table border=\"1\" class=\"dataframe\">\n",
              "  <thead>\n",
              "    <tr style=\"text-align: right;\">\n",
              "      <th></th>\n",
              "      <th>Length</th>\n",
              "      <th>Diameter</th>\n",
              "      <th>Height</th>\n",
              "      <th>Whole Weight</th>\n",
              "      <th>Shucked Weight</th>\n",
              "      <th>Viscera Weight</th>\n",
              "      <th>Shell Weight</th>\n",
              "      <th>Rings</th>\n",
              "    </tr>\n",
              "  </thead>\n",
              "  <tbody>\n",
              "    <tr>\n",
              "      <th>count</th>\n",
              "      <td>4177.000000</td>\n",
              "      <td>4177.000000</td>\n",
              "      <td>4177.000000</td>\n",
              "      <td>4177.000000</td>\n",
              "      <td>4177.000000</td>\n",
              "      <td>4177.000000</td>\n",
              "      <td>4177.000000</td>\n",
              "      <td>4177.000000</td>\n",
              "    </tr>\n",
              "    <tr>\n",
              "      <th>mean</th>\n",
              "      <td>0.523992</td>\n",
              "      <td>0.407881</td>\n",
              "      <td>0.139516</td>\n",
              "      <td>0.828742</td>\n",
              "      <td>0.359367</td>\n",
              "      <td>0.180594</td>\n",
              "      <td>0.238831</td>\n",
              "      <td>9.933684</td>\n",
              "    </tr>\n",
              "    <tr>\n",
              "      <th>std</th>\n",
              "      <td>0.120093</td>\n",
              "      <td>0.099240</td>\n",
              "      <td>0.041827</td>\n",
              "      <td>0.490389</td>\n",
              "      <td>0.221963</td>\n",
              "      <td>0.109614</td>\n",
              "      <td>0.139203</td>\n",
              "      <td>3.224169</td>\n",
              "    </tr>\n",
              "    <tr>\n",
              "      <th>min</th>\n",
              "      <td>0.075000</td>\n",
              "      <td>0.055000</td>\n",
              "      <td>0.000000</td>\n",
              "      <td>0.002000</td>\n",
              "      <td>0.001000</td>\n",
              "      <td>0.000500</td>\n",
              "      <td>0.001500</td>\n",
              "      <td>1.000000</td>\n",
              "    </tr>\n",
              "    <tr>\n",
              "      <th>25%</th>\n",
              "      <td>0.450000</td>\n",
              "      <td>0.350000</td>\n",
              "      <td>0.115000</td>\n",
              "      <td>0.441500</td>\n",
              "      <td>0.186000</td>\n",
              "      <td>0.093500</td>\n",
              "      <td>0.130000</td>\n",
              "      <td>8.000000</td>\n",
              "    </tr>\n",
              "    <tr>\n",
              "      <th>50%</th>\n",
              "      <td>0.545000</td>\n",
              "      <td>0.425000</td>\n",
              "      <td>0.140000</td>\n",
              "      <td>0.799500</td>\n",
              "      <td>0.336000</td>\n",
              "      <td>0.171000</td>\n",
              "      <td>0.234000</td>\n",
              "      <td>9.000000</td>\n",
              "    </tr>\n",
              "    <tr>\n",
              "      <th>75%</th>\n",
              "      <td>0.615000</td>\n",
              "      <td>0.480000</td>\n",
              "      <td>0.165000</td>\n",
              "      <td>1.153000</td>\n",
              "      <td>0.502000</td>\n",
              "      <td>0.253000</td>\n",
              "      <td>0.329000</td>\n",
              "      <td>11.000000</td>\n",
              "    </tr>\n",
              "    <tr>\n",
              "      <th>max</th>\n",
              "      <td>0.815000</td>\n",
              "      <td>0.650000</td>\n",
              "      <td>1.130000</td>\n",
              "      <td>2.825500</td>\n",
              "      <td>1.488000</td>\n",
              "      <td>0.760000</td>\n",
              "      <td>1.005000</td>\n",
              "      <td>29.000000</td>\n",
              "    </tr>\n",
              "  </tbody>\n",
              "</table>\n",
              "</div>"
            ],
            "text/plain": [
              "            Length     Diameter  ...  Shell Weight        Rings\n",
              "count  4177.000000  4177.000000  ...   4177.000000  4177.000000\n",
              "mean      0.523992     0.407881  ...      0.238831     9.933684\n",
              "std       0.120093     0.099240  ...      0.139203     3.224169\n",
              "min       0.075000     0.055000  ...      0.001500     1.000000\n",
              "25%       0.450000     0.350000  ...      0.130000     8.000000\n",
              "50%       0.545000     0.425000  ...      0.234000     9.000000\n",
              "75%       0.615000     0.480000  ...      0.329000    11.000000\n",
              "max       0.815000     0.650000  ...      1.005000    29.000000\n",
              "\n",
              "[8 rows x 8 columns]"
            ]
          },
          "metadata": {
            "tags": []
          },
          "execution_count": 103
        }
      ]
    },
    {
      "cell_type": "code",
      "metadata": {
        "id": "XBWakb5ge5MU",
        "colab_type": "code",
        "colab": {}
      },
      "source": [
        "# Create bins for number of Rings\n",
        "cut_rings = [0, 5, 10, 15, 20, 25, 30]\n",
        "ring_names = ['0-5', '6-10', '11-15', '16-20', '21-25', '26-29']\n",
        "df1['Rings Categories'] = pd.cut(df1['Rings'], cut_rings, labels=ring_names)"
      ],
      "execution_count": 0,
      "outputs": []
    },
    {
      "cell_type": "code",
      "metadata": {
        "id": "ar-l320qgSGw",
        "colab_type": "code",
        "outputId": "b191e097-05a9-433d-8454-7756234be8ee",
        "colab": {
          "base_uri": "https://localhost:8080/",
          "height": 204
        }
      },
      "source": [
        "df1.head()"
      ],
      "execution_count": 0,
      "outputs": [
        {
          "output_type": "execute_result",
          "data": {
            "text/html": [
              "<div>\n",
              "<style scoped>\n",
              "    .dataframe tbody tr th:only-of-type {\n",
              "        vertical-align: middle;\n",
              "    }\n",
              "\n",
              "    .dataframe tbody tr th {\n",
              "        vertical-align: top;\n",
              "    }\n",
              "\n",
              "    .dataframe thead th {\n",
              "        text-align: right;\n",
              "    }\n",
              "</style>\n",
              "<table border=\"1\" class=\"dataframe\">\n",
              "  <thead>\n",
              "    <tr style=\"text-align: right;\">\n",
              "      <th></th>\n",
              "      <th>Sex</th>\n",
              "      <th>Length</th>\n",
              "      <th>Diameter</th>\n",
              "      <th>Height</th>\n",
              "      <th>Whole Weight</th>\n",
              "      <th>Shucked Weight</th>\n",
              "      <th>Viscera Weight</th>\n",
              "      <th>Shell Weight</th>\n",
              "      <th>Rings</th>\n",
              "      <th>Rings Categories</th>\n",
              "    </tr>\n",
              "  </thead>\n",
              "  <tbody>\n",
              "    <tr>\n",
              "      <th>0</th>\n",
              "      <td>M</td>\n",
              "      <td>0.455</td>\n",
              "      <td>0.365</td>\n",
              "      <td>0.095</td>\n",
              "      <td>0.5140</td>\n",
              "      <td>0.2245</td>\n",
              "      <td>0.1010</td>\n",
              "      <td>0.150</td>\n",
              "      <td>15</td>\n",
              "      <td>11-15</td>\n",
              "    </tr>\n",
              "    <tr>\n",
              "      <th>1</th>\n",
              "      <td>M</td>\n",
              "      <td>0.350</td>\n",
              "      <td>0.265</td>\n",
              "      <td>0.090</td>\n",
              "      <td>0.2255</td>\n",
              "      <td>0.0995</td>\n",
              "      <td>0.0485</td>\n",
              "      <td>0.070</td>\n",
              "      <td>7</td>\n",
              "      <td>6-10</td>\n",
              "    </tr>\n",
              "    <tr>\n",
              "      <th>2</th>\n",
              "      <td>F</td>\n",
              "      <td>0.530</td>\n",
              "      <td>0.420</td>\n",
              "      <td>0.135</td>\n",
              "      <td>0.6770</td>\n",
              "      <td>0.2565</td>\n",
              "      <td>0.1415</td>\n",
              "      <td>0.210</td>\n",
              "      <td>9</td>\n",
              "      <td>6-10</td>\n",
              "    </tr>\n",
              "    <tr>\n",
              "      <th>3</th>\n",
              "      <td>M</td>\n",
              "      <td>0.440</td>\n",
              "      <td>0.365</td>\n",
              "      <td>0.125</td>\n",
              "      <td>0.5160</td>\n",
              "      <td>0.2155</td>\n",
              "      <td>0.1140</td>\n",
              "      <td>0.155</td>\n",
              "      <td>10</td>\n",
              "      <td>6-10</td>\n",
              "    </tr>\n",
              "    <tr>\n",
              "      <th>4</th>\n",
              "      <td>I</td>\n",
              "      <td>0.330</td>\n",
              "      <td>0.255</td>\n",
              "      <td>0.080</td>\n",
              "      <td>0.2050</td>\n",
              "      <td>0.0895</td>\n",
              "      <td>0.0395</td>\n",
              "      <td>0.055</td>\n",
              "      <td>7</td>\n",
              "      <td>6-10</td>\n",
              "    </tr>\n",
              "  </tbody>\n",
              "</table>\n",
              "</div>"
            ],
            "text/plain": [
              "  Sex  Length  Diameter  ...  Shell Weight  Rings  Rings Categories\n",
              "0   M   0.455     0.365  ...         0.150     15             11-15\n",
              "1   M   0.350     0.265  ...         0.070      7              6-10\n",
              "2   F   0.530     0.420  ...         0.210      9              6-10\n",
              "3   M   0.440     0.365  ...         0.155     10              6-10\n",
              "4   I   0.330     0.255  ...         0.055      7              6-10\n",
              "\n",
              "[5 rows x 10 columns]"
            ]
          },
          "metadata": {
            "tags": []
          },
          "execution_count": 105
        }
      ]
    },
    {
      "cell_type": "code",
      "metadata": {
        "id": "FS74xS8VgSJg",
        "colab_type": "code",
        "outputId": "80da5517-01e9-46ad-d3aa-d005a3e5d163",
        "colab": {
          "base_uri": "https://localhost:8080/",
          "height": 204
        }
      },
      "source": [
        "df1 = df1.sort_values(by=['Rings Categories'], ascending=True)\n",
        "df1.head()"
      ],
      "execution_count": 0,
      "outputs": [
        {
          "output_type": "execute_result",
          "data": {
            "text/html": [
              "<div>\n",
              "<style scoped>\n",
              "    .dataframe tbody tr th:only-of-type {\n",
              "        vertical-align: middle;\n",
              "    }\n",
              "\n",
              "    .dataframe tbody tr th {\n",
              "        vertical-align: top;\n",
              "    }\n",
              "\n",
              "    .dataframe thead th {\n",
              "        text-align: right;\n",
              "    }\n",
              "</style>\n",
              "<table border=\"1\" class=\"dataframe\">\n",
              "  <thead>\n",
              "    <tr style=\"text-align: right;\">\n",
              "      <th></th>\n",
              "      <th>Sex</th>\n",
              "      <th>Length</th>\n",
              "      <th>Diameter</th>\n",
              "      <th>Height</th>\n",
              "      <th>Whole Weight</th>\n",
              "      <th>Shucked Weight</th>\n",
              "      <th>Viscera Weight</th>\n",
              "      <th>Shell Weight</th>\n",
              "      <th>Rings</th>\n",
              "      <th>Rings Categories</th>\n",
              "    </tr>\n",
              "  </thead>\n",
              "  <tbody>\n",
              "    <tr>\n",
              "      <th>2626</th>\n",
              "      <td>I</td>\n",
              "      <td>0.220</td>\n",
              "      <td>0.160</td>\n",
              "      <td>0.05</td>\n",
              "      <td>0.0490</td>\n",
              "      <td>0.0215</td>\n",
              "      <td>0.0100</td>\n",
              "      <td>0.015</td>\n",
              "      <td>4</td>\n",
              "      <td>0-5</td>\n",
              "    </tr>\n",
              "    <tr>\n",
              "      <th>524</th>\n",
              "      <td>M</td>\n",
              "      <td>0.235</td>\n",
              "      <td>0.160</td>\n",
              "      <td>0.06</td>\n",
              "      <td>0.0545</td>\n",
              "      <td>0.0265</td>\n",
              "      <td>0.0095</td>\n",
              "      <td>0.015</td>\n",
              "      <td>4</td>\n",
              "      <td>0-5</td>\n",
              "    </tr>\n",
              "    <tr>\n",
              "      <th>2719</th>\n",
              "      <td>I</td>\n",
              "      <td>0.360</td>\n",
              "      <td>0.260</td>\n",
              "      <td>0.08</td>\n",
              "      <td>0.1795</td>\n",
              "      <td>0.0740</td>\n",
              "      <td>0.0315</td>\n",
              "      <td>0.060</td>\n",
              "      <td>5</td>\n",
              "      <td>0-5</td>\n",
              "    </tr>\n",
              "    <tr>\n",
              "      <th>525</th>\n",
              "      <td>M</td>\n",
              "      <td>0.175</td>\n",
              "      <td>0.125</td>\n",
              "      <td>0.04</td>\n",
              "      <td>0.0240</td>\n",
              "      <td>0.0095</td>\n",
              "      <td>0.0060</td>\n",
              "      <td>0.005</td>\n",
              "      <td>4</td>\n",
              "      <td>0-5</td>\n",
              "    </tr>\n",
              "    <tr>\n",
              "      <th>526</th>\n",
              "      <td>M</td>\n",
              "      <td>0.155</td>\n",
              "      <td>0.110</td>\n",
              "      <td>0.04</td>\n",
              "      <td>0.0155</td>\n",
              "      <td>0.0065</td>\n",
              "      <td>0.0030</td>\n",
              "      <td>0.005</td>\n",
              "      <td>3</td>\n",
              "      <td>0-5</td>\n",
              "    </tr>\n",
              "  </tbody>\n",
              "</table>\n",
              "</div>"
            ],
            "text/plain": [
              "     Sex  Length  Diameter  ...  Shell Weight  Rings  Rings Categories\n",
              "2626   I   0.220     0.160  ...         0.015      4               0-5\n",
              "524    M   0.235     0.160  ...         0.015      4               0-5\n",
              "2719   I   0.360     0.260  ...         0.060      5               0-5\n",
              "525    M   0.175     0.125  ...         0.005      4               0-5\n",
              "526    M   0.155     0.110  ...         0.005      3               0-5\n",
              "\n",
              "[5 rows x 10 columns]"
            ]
          },
          "metadata": {
            "tags": []
          },
          "execution_count": 106
        }
      ]
    },
    {
      "cell_type": "code",
      "metadata": {
        "id": "o5B9XZOGgSLo",
        "colab_type": "code",
        "colab": {}
      },
      "source": [
        "# Compare Whole Weight to ring counts with a crosstab\n",
        "crosstab = pd.crosstab(df1['Sex'],df1['Rings Categories'], margins=True)"
      ],
      "execution_count": 0,
      "outputs": []
    },
    {
      "cell_type": "code",
      "metadata": {
        "id": "Wwt_oQJzgSON",
        "colab_type": "code",
        "outputId": "87cdaf99-1ac6-4f8a-d43a-2fd8ec66601d",
        "colab": {
          "base_uri": "https://localhost:8080/",
          "height": 204
        }
      },
      "source": [
        "crosstab"
      ],
      "execution_count": 0,
      "outputs": [
        {
          "output_type": "execute_result",
          "data": {
            "text/html": [
              "<div>\n",
              "<style scoped>\n",
              "    .dataframe tbody tr th:only-of-type {\n",
              "        vertical-align: middle;\n",
              "    }\n",
              "\n",
              "    .dataframe tbody tr th {\n",
              "        vertical-align: top;\n",
              "    }\n",
              "\n",
              "    .dataframe thead th {\n",
              "        text-align: right;\n",
              "    }\n",
              "</style>\n",
              "<table border=\"1\" class=\"dataframe\">\n",
              "  <thead>\n",
              "    <tr style=\"text-align: right;\">\n",
              "      <th>Rings Categories</th>\n",
              "      <th>0-5</th>\n",
              "      <th>6-10</th>\n",
              "      <th>11-15</th>\n",
              "      <th>16-20</th>\n",
              "      <th>21-25</th>\n",
              "      <th>26-29</th>\n",
              "      <th>All</th>\n",
              "    </tr>\n",
              "    <tr>\n",
              "      <th>Sex</th>\n",
              "      <th></th>\n",
              "      <th></th>\n",
              "      <th></th>\n",
              "      <th></th>\n",
              "      <th></th>\n",
              "      <th></th>\n",
              "      <th></th>\n",
              "    </tr>\n",
              "  </thead>\n",
              "  <tbody>\n",
              "    <tr>\n",
              "      <th>F</th>\n",
              "      <td>4</td>\n",
              "      <td>668</td>\n",
              "      <td>513</td>\n",
              "      <td>102</td>\n",
              "      <td>18</td>\n",
              "      <td>2</td>\n",
              "      <td>1307</td>\n",
              "    </tr>\n",
              "    <tr>\n",
              "      <th>I</th>\n",
              "      <td>165</td>\n",
              "      <td>1022</td>\n",
              "      <td>131</td>\n",
              "      <td>23</td>\n",
              "      <td>1</td>\n",
              "      <td>0</td>\n",
              "      <td>1342</td>\n",
              "    </tr>\n",
              "    <tr>\n",
              "      <th>M</th>\n",
              "      <td>20</td>\n",
              "      <td>851</td>\n",
              "      <td>542</td>\n",
              "      <td>100</td>\n",
              "      <td>13</td>\n",
              "      <td>2</td>\n",
              "      <td>1528</td>\n",
              "    </tr>\n",
              "    <tr>\n",
              "      <th>All</th>\n",
              "      <td>189</td>\n",
              "      <td>2541</td>\n",
              "      <td>1186</td>\n",
              "      <td>225</td>\n",
              "      <td>32</td>\n",
              "      <td>4</td>\n",
              "      <td>4177</td>\n",
              "    </tr>\n",
              "  </tbody>\n",
              "</table>\n",
              "</div>"
            ],
            "text/plain": [
              "Rings Categories  0-5  6-10  11-15  16-20  21-25  26-29   All\n",
              "Sex                                                          \n",
              "F                   4   668    513    102     18      2  1307\n",
              "I                 165  1022    131     23      1      0  1342\n",
              "M                  20   851    542    100     13      2  1528\n",
              "All               189  2541   1186    225     32      4  4177"
            ]
          },
          "metadata": {
            "tags": []
          },
          "execution_count": 112
        }
      ]
    },
    {
      "cell_type": "code",
      "metadata": {
        "id": "Ton5HdigpQb-",
        "colab_type": "code",
        "outputId": "a0983d16-b4f1-4dcd-9845-8fb32cba4389",
        "colab": {
          "base_uri": "https://localhost:8080/",
          "height": 51
        }
      },
      "source": [
        "# Get row sums and column sums for expected values\n",
        "row_sums = crosstab.iloc[0:3, 6].values\n",
        "col_sums = crosstab.iloc[3, 0:6].values"
      ],
      "execution_count": 0,
      "outputs": [
        {
          "output_type": "stream",
          "text": [
            "[1307 1342 1528]\n",
            "[ 189 2541 1186  225   32    4]\n"
          ],
          "name": "stdout"
        }
      ]
    },
    {
      "cell_type": "code",
      "metadata": {
        "id": "S1zKIBs6qVu-",
        "colab_type": "code",
        "outputId": "3f8d704d-1ccc-47b3-e929-042732ef8293",
        "colab": {
          "base_uri": "https://localhost:8080/",
          "height": 34
        }
      },
      "source": [
        "# Get total observations\n",
        "total = crosstab.loc['All', 'All']\n",
        "total"
      ],
      "execution_count": 0,
      "outputs": [
        {
          "output_type": "execute_result",
          "data": {
            "text/plain": [
              "4177"
            ]
          },
          "metadata": {
            "tags": []
          },
          "execution_count": 118
        }
      ]
    },
    {
      "cell_type": "code",
      "metadata": {
        "id": "KHNLmxJqpHOM",
        "colab_type": "code",
        "outputId": "c0241b48-3c4d-433d-c3fe-736bff87837b",
        "colab": {
          "base_uri": "https://localhost:8080/",
          "height": 136
        }
      },
      "source": [
        "expected = []\n",
        "for i in range(len(row_sums)):\n",
        "  expected_row = []\n",
        "  for column in col_sums:\n",
        "    expected_val = column*row_sums[i]/total\n",
        "    expected_row.append(expected_val)\n",
        "  expected.append(expected_row)\n",
        "  \n",
        "\n",
        "expected = np.array(expected)\n",
        "print(expected.shape)  \n",
        "print(expected)"
      ],
      "execution_count": 0,
      "outputs": [
        {
          "output_type": "stream",
          "text": [
            "(3, 6)\n",
            "[[ 59.13885564 795.08905913 371.10414173  70.40339957  10.01292794\n",
            "    1.25161599]\n",
            " [ 60.72252813 816.38065597 381.0418961   72.28872396  10.28106296\n",
            "    1.28513287]\n",
            " [ 69.13861623 929.53028489 433.85396217  82.30787647  11.7060091\n",
            "    1.46325114]]\n"
          ],
          "name": "stdout"
        }
      ]
    },
    {
      "cell_type": "code",
      "metadata": {
        "id": "6NS_JYfnrRf4",
        "colab_type": "code",
        "outputId": "1a043f2a-a4f5-47db-d38b-acf074b515c3",
        "colab": {
          "base_uri": "https://localhost:8080/",
          "height": 85
        }
      },
      "source": [
        "observed = pd.crosstab(df1['Sex'], df1['Rings Categories']).values\n",
        "print(observed.shape)\n",
        "observed"
      ],
      "execution_count": 0,
      "outputs": [
        {
          "output_type": "stream",
          "text": [
            "(3, 6)\n"
          ],
          "name": "stdout"
        },
        {
          "output_type": "execute_result",
          "data": {
            "text/plain": [
              "array([[   4,  668,  513,  102,   18,    2],\n",
              "       [ 165, 1022,  131,   23,    1,    0],\n",
              "       [  20,  851,  542,  100,   13,    2]])"
            ]
          },
          "metadata": {
            "tags": []
          },
          "execution_count": 121
        }
      ]
    },
    {
      "cell_type": "markdown",
      "metadata": {
        "id": "eskZ4WR2sHhS",
        "colab_type": "text"
      },
      "source": [
        "###Using Numpy"
      ]
    },
    {
      "cell_type": "code",
      "metadata": {
        "id": "ZEhIqj0erri5",
        "colab_type": "code",
        "outputId": "bf5d26b5-3dad-419a-8c61-b91bd719c441",
        "colab": {
          "base_uri": "https://localhost:8080/",
          "height": 34
        }
      },
      "source": [
        "# chi_squared statistic\n",
        "chi_squared = ((observed - expected)**2/(expected)).sum() \n",
        "print(f\"Chi-Squared: {chi_squared}\")"
      ],
      "execution_count": 0,
      "outputs": [
        {
          "output_type": "stream",
          "text": [
            "Chi-Squared: 657.8480895498792\n"
          ],
          "name": "stdout"
        }
      ]
    },
    {
      "cell_type": "code",
      "metadata": {
        "id": "n6x71bkXrr5v",
        "colab_type": "code",
        "outputId": "f1ff1742-0821-40cd-e48f-7691d641464f",
        "colab": {
          "base_uri": "https://localhost:8080/",
          "height": 34
        }
      },
      "source": [
        "# Calculate Degrees of Freedom\n",
        "dof = (len(row_sums)-1)*(len(col_sums)-1)\n",
        "print(f\"Degrees of Freedom: {dof}\")    "
      ],
      "execution_count": 0,
      "outputs": [
        {
          "output_type": "stream",
          "text": [
            "Degrees of Freedom: 10\n"
          ],
          "name": "stdout"
        }
      ]
    },
    {
      "cell_type": "markdown",
      "metadata": {
        "id": "9c1fy7cusKq-",
        "colab_type": "text"
      },
      "source": [
        "###Using Scipy"
      ]
    },
    {
      "cell_type": "code",
      "metadata": {
        "id": "fjLV5jvYrr8M",
        "colab_type": "code",
        "outputId": "bb0d5fbc-950e-468f-d4ad-1a0ac29a02aa",
        "colab": {
          "base_uri": "https://localhost:8080/",
          "height": 187
        }
      },
      "source": [
        "chi_squared, p_value, dof, expected = stats.chi2_contingency(observed)\n",
        "\n",
        "print(f\"Chi-Squared: {chi_squared}\")\n",
        "print(f\"P-value: {p_value}\")\n",
        "print(f\"Degrees of Freedom: {dof}\") \n",
        "print(\"Expected: \\n\", np.array(expected))"
      ],
      "execution_count": 0,
      "outputs": [
        {
          "output_type": "stream",
          "text": [
            "Chi-Squared: 657.8480895498792\n",
            "P-value: 6.97543112037277e-135\n",
            "Degrees of Freedom: 10\n",
            "Expected: \n",
            " [[ 59.13885564 795.08905913 371.10414173  70.40339957  10.01292794\n",
            "    1.25161599]\n",
            " [ 60.72252813 816.38065597 381.0418961   72.28872396  10.28106296\n",
            "    1.28513287]\n",
            " [ 69.13861623 929.53028489 433.85396217  82.30787647  11.7060091\n",
            "    1.46325114]]\n"
          ],
          "name": "stdout"
        }
      ]
    },
    {
      "cell_type": "markdown",
      "metadata": {
        "id": "4ohsJhQUmEuS",
        "colab_type": "text"
      },
      "source": [
        "## Stretch goals:\n",
        "\n",
        "1. Write a summary of your findings, mixing prose and math/code/results. *Note* - yes, this is by definition a political topic. It is challenging but important to keep your writing voice *neutral* and stick to the facts of the data. Data science often involves considering controversial issues, so it's important to be sensitive about them (especially if you want to publish).\n",
        "2. Apply the techniques you learned today to your project data or other data of your choice, and write/discuss your findings here.\n",
        "3. Refactor your code so it is elegant, readable, and can be easily run for all issues."
      ]
    },
    {
      "cell_type": "markdown",
      "metadata": {
        "id": "nyJ3ySr7R2k9",
        "colab_type": "text"
      },
      "source": [
        "## Resources\n",
        "\n",
        "- [Interactive visualize the Chi-Squared test](https://homepage.divms.uiowa.edu/~mbognar/applets/chisq.html)\n",
        "- [Calculation of Chi-Squared test statistic](https://en.wikipedia.org/wiki/Pearson%27s_chi-squared_test)\n",
        "- [Visualization of a confidence interval generated by R code](https://commons.wikimedia.org/wiki/File:Confidence-interval.svg)\n",
        "- [Expected value of a squared standard normal](https://math.stackexchange.com/questions/264061/expected-value-calculation-for-squared-normal-distribution) (it's 1 - which is why the expected value of a Chi-Squared with $n$ degrees of freedom is $n$, as it's the sum of $n$ squared standard normals)"
      ]
    }
  ]
}