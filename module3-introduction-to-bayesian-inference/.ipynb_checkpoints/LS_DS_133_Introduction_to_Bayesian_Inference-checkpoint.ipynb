{
 "cells": [
  {
   "cell_type": "markdown",
   "metadata": {
    "colab_type": "text",
    "id": "H7OLbevlbd_Z"
   },
   "source": [
    "# Lambda School Data Science Module 143\n",
    "\n",
    "## Introduction to Bayesian Inference\n",
    "\n",
    "!['Detector! What would the Bayesian statistician say if I asked him whether the--' [roll] 'I AM A NEUTRINO DETECTOR, NOT A LABYRINTH GUARD. SERIOUSLY, DID YOUR BRAIN FALL OUT?' [roll] '... yes.'](https://imgs.xkcd.com/comics/frequentists_vs_bayesians.png)\n",
    "\n",
    "*[XKCD 1132](https://www.xkcd.com/1132/)*\n"
   ]
  },
  {
   "cell_type": "markdown",
   "metadata": {
    "colab_type": "text",
    "id": "3mz8p08BsN6p"
   },
   "source": [
    "## Prepare - Bayes' Theorem and the Bayesian mindset"
   ]
  },
  {
   "cell_type": "markdown",
   "metadata": {
    "colab_type": "text",
    "id": "GhycNr-Sbeie"
   },
   "source": [
    "Bayes' theorem possesses a near-mythical quality - a bit of math that somehow magically evaluates a situation. But this mythicalness has more to do with its reputation and advanced applications than the actual core of it - deriving it is actually remarkably straightforward.\n",
    "\n",
    "### The Law of Total Probability\n",
    "\n",
    "By definition, the total probability of all outcomes (events) if some variable (event space) $A$ is 1. That is:\n",
    "\n",
    "$$P(A) = \\sum_n P(A_n) = 1$$\n",
    "\n",
    "The law of total probability takes this further, considering two variables ($A$ and $B$) and relating their marginal probabilities (their likelihoods considered independently, without reference to one another) and their conditional probabilities (their likelihoods considered jointly). A marginal probability is simply notated as e.g. $P(A)$, while a conditional probability is notated $P(A|B)$, which reads \"probability of $A$ *given* $B$\".\n",
    "\n",
    "The law of total probability states:\n",
    "\n",
    "$$P(A) = \\sum_n P(A | B_n) P(B_n)$$\n",
    "\n",
    "In words - the total probability of $A$ is equal to the sum of the conditional probability of $A$ on any given event $B_n$ times the probability of that event $B_n$, and summed over all possible events in $B$.\n",
    "\n",
    "### The Law of Conditional Probability\n",
    "\n",
    "What's the probability of something conditioned on something else? To determine this we have to go back to set theory and think about the intersection of sets:\n",
    "\n",
    "The formula for actual calculation:\n",
    "\n",
    "$$P(A|B) = \\frac{P(A \\cap B)}{P(B)}$$\n",
    "\n",
    "![Visualization of set intersection](https://upload.wikimedia.org/wikipedia/commons/9/99/Venn0001.svg)\n",
    "\n",
    "Think of the overall rectangle as the whole probability space, $A$ as the left circle, $B$ as the right circle, and their intersection as the red area. Try to visualize the ratio being described in the above formula, and how it is different from just the $P(A)$ (not conditioned on $B$).\n",
    "\n",
    "We can see how this relates back to the law of total probability - multiply both sides by $P(B)$ and you get $P(A|B)P(B) = P(A \\cap B)$ - replaced back into the law of total probability we get $P(A) = \\sum_n P(A \\cap B_n)$.\n",
    "\n",
    "This may not seem like an improvement at first, but try to relate it back to the above picture - if you think of sets as physical objects, we're saying that the total probability of $A$ given $B$ is all the little pieces of it intersected with $B$, added together. The conditional probability is then just that again, but divided by the probability of $B$ itself happening in the first place.\n",
    "\n",
    "### Bayes Theorem\n",
    "\n",
    "Here is is, the seemingly magic tool:\n",
    "\n",
    "$$P(A|B) = \\frac{P(B|A)P(A)}{P(B)}$$\n",
    "\n",
    "In words - the probability of $A$ conditioned on $B$ is the probability of $B$ conditioned on $A$, times the probability of $A$ and divided by the probability of $B$. These unconditioned probabilities are referred to as \"prior beliefs\", and the conditioned probabilities as \"updated.\"\n",
    "\n",
    "Why is this important? Scroll back up to the XKCD example - the Bayesian statistician draws a less absurd conclusion because their prior belief in the likelihood that the sun will go nova is extremely low. So, even when updated based on evidence from a detector that is $35/36 = 0.972$ accurate, the prior belief doesn't shift enough to change their overall opinion.\n",
    "\n",
    "There's many examples of Bayes' theorem - one less absurd example is to apply to [breathalyzer tests](https://www.bayestheorem.net/breathalyzer-example/). You may think that a breathalyzer test that is 100% accurate for true positives (detecting somebody who is drunk) is pretty good, but what if it also has 8% false positives (indicating somebody is drunk when they're not)? And furthermore, the rate of drunk driving (and thus our prior belief)  is 1/1000.\n",
    "\n",
    "What is the likelihood somebody really is drunk if they test positive? Some may guess it's 92% - the difference between the true positives and the false positives. But we have a prior belief of the background/true rate of drunk driving. Sounds like a job for Bayes' theorem!\n",
    "\n",
    "$$\n",
    "\\begin{aligned}\n",
    "P(Drunk | Positive) &= \\frac{P(Positive | Drunk)P(Drunk)}{P(Positive)} \\\\\n",
    "&= \\frac{1 \\times 0.001}{0.08} \\\\\n",
    "&= 0.0125\n",
    "\\end{aligned}\n",
    "$$\n",
    "\n",
    "In other words, the likelihood that somebody is drunk given they tested positive with a breathalyzer in this situation is only 1.25% - probably much lower than you'd guess. This is why, in practice, it's important to have a repeated test to confirm (the probability of two false positives in a row is $0.08 * 0.08 = 0.0064$, much lower), and Bayes' theorem has been relevant in court cases where proper consideration of evidence was important."
   ]
  },
  {
   "cell_type": "markdown",
   "metadata": {
    "colab_type": "text",
    "id": "htI3DGvDsRJF"
   },
   "source": [
    "## Live Lecture - Deriving Bayes' Theorem, Calculating Bayesian Confidence"
   ]
  },
  {
   "cell_type": "markdown",
   "metadata": {
    "colab_type": "text",
    "id": "moIJNQ-nbfe_"
   },
   "source": [
    "Notice that $P(A|B)$ appears in the above laws - in Bayesian terms, this is the belief in $A$ updated for the evidence $B$. So all we need to do is solve for this term to derive Bayes' theorem. Let's do it together!"
   ]
  },
  {
   "cell_type": "code",
   "execution_count": 1,
   "metadata": {
    "colab": {},
    "colab_type": "code",
    "id": "ke-5EqJI0Tsn"
   },
   "outputs": [
    {
     "name": "stdout",
     "output_type": "stream",
     "text": [
      "0.0125\n",
      "0.15625\n",
      "1.953125\n"
     ]
    }
   ],
   "source": [
    "# Activity 2 - Use SciPy to calculate Bayesian confidence intervals\n",
    "# https://docs.scipy.org/doc/scipy/reference/generated/scipy.stats.bayes_mvs.html#scipy.stats.bayes_mvs\n",
    "first_test = (1*.001)/.08\n",
    "print(first_test)\n",
    "second_test = (1*.0125)/.08\n",
    "print(second_test)\n",
    "third_test = (1*.15625)/.08\n",
    "print(third_test)"
   ]
  },
  {
   "cell_type": "code",
   "execution_count": 3,
   "metadata": {},
   "outputs": [
    {
     "name": "stdout",
     "output_type": "stream",
     "text": [
      "[0 1 1 1 0 0 0 1 1 1 0 1 1 0 0 0 0 1 0 0 1 0 0 0 0 1 0 1 1 0 1 0 0 1 1 1 0\n",
      " 0 1 0 0 0 0 1 0 1 0 1 1 0 1 1 1 1 1 1 0 0 0 0 0 0 1 0 0 1 0 1 0 1 1 0 0 1\n",
      " 1 1 1 0 0 0 1 1 0 0 0 0 1 1 1 0 0 1 1 1 1 0 1 0 0 0]\n"
     ]
    }
   ],
   "source": [
    "from scipy import stats\n",
    "import numpy as np\n",
    "\n",
    "np.random.seed(seed=42)\n",
    "\n",
    "c_flips = np.random.binomial(n=1, p=.5, size=100)\n",
    "print(c_flips)"
   ]
  },
  {
   "cell_type": "code",
   "execution_count": 4,
   "metadata": {},
   "outputs": [],
   "source": [
    "def confidence_interval(data, confidence=.95):\n",
    "  n = len(data)\n",
    "  mean = sum(data)/n\n",
    "  data = np.array(data)\n",
    "  stderr = stats.sem(data)\n",
    "  interval = stderr * stats.t.ppf((1 + confidence) / 2.0, n-1)\n",
    "  return (mean , mean-interval, mean+interval)"
   ]
  },
  {
   "cell_type": "code",
   "execution_count": 5,
   "metadata": {},
   "outputs": [
    {
     "data": {
      "text/plain": [
       "(0.47, 0.3704689875017368, 0.5695310124982632)"
      ]
     },
     "execution_count": 5,
     "metadata": {},
     "output_type": "execute_result"
    }
   ],
   "source": [
    "confidence_interval(coinflips, confidence=.95)"
   ]
  },
  {
   "cell_type": "code",
   "execution_count": 6,
   "metadata": {},
   "outputs": [
    {
     "data": {
      "text/plain": [
       "(Mean(statistic=0.47, minmax=(0.37046898750173674, 0.5695310124982632)),\n",
       " Variance(statistic=0.25680412371134015, minmax=(0.1939698977025208, 0.3395533426586547)),\n",
       " Std_dev(statistic=0.5054540733507159, minmax=(0.44042013771229943, 0.5827120581030176)))"
      ]
     },
     "execution_count": 6,
     "metadata": {},
     "output_type": "execute_result"
    }
   ],
   "source": [
    "stats.bayes_mvs(coinflips, alpha=.95)"
   ]
  },
  {
   "cell_type": "code",
   "execution_count": 7,
   "metadata": {},
   "outputs": [
    {
     "data": {
      "text/plain": [
       "<scipy.stats._distn_infrastructure.rv_frozen at 0x105bf95c0>"
      ]
     },
     "execution_count": 7,
     "metadata": {},
     "output_type": "execute_result"
    }
   ],
   "source": [
    "coinflips_mean_dist, _, _ = stats.mvsdist(coinflips)\n",
    "coinflips_mean_dist"
   ]
  },
  {
   "cell_type": "code",
   "execution_count": 8,
   "metadata": {},
   "outputs": [
    {
     "data": {
      "text/plain": [
       "array([0.47447628, 0.51541425, 0.54722018, 0.4589882 , 0.51501386,\n",
       "       0.53819192, 0.43382292, 0.53546659, 0.47026173, 0.44967562,\n",
       "       0.4621107 , 0.42691904, 0.37324325, 0.47531437, 0.46052277,\n",
       "       0.48711257, 0.52456771, 0.43332181, 0.49545882, 0.44671454,\n",
       "       0.47520117, 0.47047251, 0.41828918, 0.50159477, 0.42965501,\n",
       "       0.45273383, 0.48045849, 0.45342529, 0.48238344, 0.53966291,\n",
       "       0.48230241, 0.48073422, 0.48553525, 0.47962228, 0.41274185,\n",
       "       0.42892633, 0.5170948 , 0.42678096, 0.42249309, 0.51499109,\n",
       "       0.47059199, 0.39903942, 0.41790336, 0.46406817, 0.42232382,\n",
       "       0.42163269, 0.47848227, 0.48232842, 0.4731858 , 0.51077244,\n",
       "       0.3957508 , 0.48504646, 0.49014295, 0.53252732, 0.45495376,\n",
       "       0.47883978, 0.60393033, 0.4492549 , 0.44797902, 0.54782121,\n",
       "       0.43380002, 0.5760073 , 0.36941266, 0.44467418, 0.4939245 ,\n",
       "       0.45278835, 0.55635162, 0.48695459, 0.39080983, 0.45948606,\n",
       "       0.2941779 , 0.35950718, 0.44805696, 0.4725126 , 0.42218381,\n",
       "       0.45985418, 0.47545393, 0.44317753, 0.46267013, 0.4458753 ,\n",
       "       0.44204707, 0.51334913, 0.50914181, 0.49923748, 0.46895674,\n",
       "       0.43892798, 0.45984946, 0.44984632, 0.53560791, 0.45865723,\n",
       "       0.48646824, 0.55937503, 0.41464303, 0.50701457, 0.46934196,\n",
       "       0.37681534, 0.42748113, 0.49812825, 0.48278895, 0.4964763 ])"
      ]
     },
     "execution_count": 8,
     "metadata": {},
     "output_type": "execute_result"
    }
   ],
   "source": [
    "coinflips_mean_dist.rvs(100)"
   ]
  },
  {
   "cell_type": "code",
   "execution_count": null,
   "metadata": {},
   "outputs": [],
   "source": []
  },
  {
   "cell_type": "markdown",
   "metadata": {
    "colab_type": "text",
    "id": "P-DzzRk5bf0z"
   },
   "source": [
    "## Assignment - Code it up!\n",
    "\n",
    "Most of the above was pure math - now write Python code to reproduce the results! This is purposefully open ended - you'll have to think about how you should represent probabilities and events. You can and should look things up, and as a stretch goal - refactor your code into helpful reusable functions!\n",
    "\n",
    "Specific goals/targets:\n",
    "\n",
    "1. Write a function `def prob_drunk_given_positive(prob_drunk_prior, prob_positive, prob_positive_drunk)` that reproduces the example from lecture, and use it to calculate and visualize a range of situations\n",
    "2. Explore `scipy.stats.bayes_mvs` - read its documentation, and experiment with it on data you've tested in other ways earlier this week\n",
    "3. Create a visualization comparing the results of a Bayesian approach to a traditional/frequentist approach\n",
    "4. In your own words, summarize the difference between Bayesian and Frequentist statistics\n",
    "\n",
    "If you're unsure where to start, check out [this blog post of Bayes theorem with Python](https://dataconomy.com/2015/02/introduction-to-bayes-theorem-with-python/) - you could and should create something similar!\n",
    "\n",
    "Stretch goals:\n",
    "\n",
    "- Apply a Bayesian technique to a problem you previously worked (in an assignment or project work) on from a frequentist (standard) perspective\n",
    "- Check out [PyMC3](https://docs.pymc.io/) (note this goes beyond hypothesis tests into modeling) - read the guides and work through some examples\n",
    "- Take PyMC3 further - see if you can build something with it!"
   ]
  },
  {
   "cell_type": "code",
   "execution_count": 14,
   "metadata": {
    "colab": {},
    "colab_type": "code",
    "id": "xpVhZyUnbf7o"
   },
   "outputs": [],
   "source": [
    "# Write a function \n",
    "def prob_drunk_given_positive(prob_drunk_prior, prob_positive, prob_positive_drunk):\n",
    "    num = 0\n",
    "    prob = []\n",
    "    for i in range (0,20):\n",
    "        prob_drunk_positive = prob_positive_drunk * prob_drunk_prior / (prob_positive_drunk * prob_drunk_prior + (1-prob_drunk_prior)*prob_positive)\n",
    "        prob_drunk_prior = prob_drunk_positive\n",
    "        num +=  1\n",
    "        prob.append(prob_drunk_positive)\n",
    "        print(\"Attempt\", num,\":\", prob_drunk_positive)\n",
    "    "
   ]
  },
  {
   "cell_type": "code",
   "execution_count": 15,
   "metadata": {},
   "outputs": [
    {
     "name": "stdout",
     "output_type": "stream",
     "text": [
      "Attempt 1 : 0.012357884330202669\n",
      "Attempt 2 : 0.13525210993291495\n",
      "Attempt 3 : 0.6615996951348605\n",
      "Attempt 4 : 0.9606895076105054\n",
      "Attempt 5 : 0.9967371577896734\n",
      "Attempt 6 : 0.9997381867081508\n",
      "Attempt 7 : 0.9999790498904363\n",
      "Attempt 8 : 0.9999983239589307\n",
      "Attempt 9 : 0.9999998659165077\n",
      "Attempt 10 : 0.9999999892733192\n",
      "Attempt 11 : 0.9999999991418655\n",
      "Attempt 12 : 0.9999999999313492\n",
      "Attempt 13 : 0.999999999994508\n",
      "Attempt 14 : 0.9999999999995607\n",
      "Attempt 15 : 0.9999999999999648\n",
      "Attempt 16 : 0.9999999999999972\n",
      "Attempt 17 : 0.9999999999999998\n",
      "Attempt 18 : 1.0\n",
      "Attempt 19 : 1.0\n",
      "Attempt 20 : 1.0\n",
      "None\n"
     ]
    }
   ],
   "source": [
    "print(prob_drunk_given_positive(0.001, 0.08, 1))"
   ]
  },
  {
   "cell_type": "code",
   "execution_count": 16,
   "metadata": {},
   "outputs": [],
   "source": [
    "from scipy import stats\n",
    "import numpy as np\n",
    "\n",
    "np.random.seed(seed=42)\n",
    "\n",
    "drunk = np.random.binomial(n=1, p=.001, size=1000)"
   ]
  },
  {
   "cell_type": "code",
   "execution_count": 17,
   "metadata": {},
   "outputs": [],
   "source": [
    "def confidence_interval(data, confidence=.95):\n",
    "  n = len(data)\n",
    "  mean = sum(data)/n\n",
    "  data = np.array(data)\n",
    "  stderr = stats.sem(data)\n",
    "  interval = stderr * stats.t.ppf((1 + confidence) / 2.0, n-1)\n",
    "  return (mean , mean-interval, mean+interval)"
   ]
  },
  {
   "cell_type": "code",
   "execution_count": 18,
   "metadata": {},
   "outputs": [
    {
     "data": {
      "text/plain": [
       "(0.001, -0.0009623414611334489, 0.002962341461133449)"
      ]
     },
     "execution_count": 18,
     "metadata": {},
     "output_type": "execute_result"
    }
   ],
   "source": [
    "confidence_interval(drunk)"
   ]
  },
  {
   "cell_type": "code",
   "execution_count": 19,
   "metadata": {},
   "outputs": [
    {
     "data": {
      "text/plain": [
       "(Mean(statistic=0.001, minmax=(-0.0009623414611334489, 0.002962341461133449)),\n",
       " Variance(statistic=0.001002006018054163, minmax=(0.0009177876610763129, 0.0010938343458040745)),\n",
       " Std_dev(statistic=0.031646542205768464, minmax=(0.030295010498039326, 0.03307316655241942)))"
      ]
     },
     "execution_count": 19,
     "metadata": {},
     "output_type": "execute_result"
    }
   ],
   "source": [
    "stats.bayes_mvs(drunk, alpha=.95)"
   ]
  },
  {
   "cell_type": "code",
   "execution_count": 20,
   "metadata": {},
   "outputs": [
    {
     "data": {
      "text/plain": [
       "<scipy.stats._distn_infrastructure.rv_frozen at 0x1a151d0fd0>"
      ]
     },
     "execution_count": 20,
     "metadata": {},
     "output_type": "execute_result"
    }
   ],
   "source": [
    "drunk_mean_dist, _, _ = stats.mvsdist(drunk)\n",
    "drunk_mean_dist"
   ]
  },
  {
   "cell_type": "code",
   "execution_count": 21,
   "metadata": {},
   "outputs": [
    {
     "data": {
      "text/plain": [
       "array([ 1.18320797e-03,  1.80578911e-03,  1.82570101e-03, -5.29042494e-04,\n",
       "        1.42777185e-03,  1.81631156e-03, -5.64212361e-05,  2.13148202e-03,\n",
       "        1.94954191e-03, -3.90013981e-04,  1.22461012e-03,  7.39672418e-04,\n",
       "        2.44111715e-03,  1.86258527e-03,  1.08038705e-03,  2.24253502e-03,\n",
       "        3.31846622e-03, -7.50834112e-04,  5.77008265e-04, -3.05947729e-05,\n",
       "        9.65484606e-04, -5.47809919e-05,  1.98938531e-03,  3.34525215e-03,\n",
       "        1.16468945e-03, -5.67888493e-04,  3.68821414e-04,  5.01992906e-04,\n",
       "        2.43932364e-03,  1.34665042e-03,  1.21007640e-03,  1.62697512e-04,\n",
       "        3.81649384e-04,  1.53075754e-03,  8.19783677e-04,  1.90355131e-03,\n",
       "        4.84798304e-04, -2.55089973e-03,  5.21619214e-04, -6.23112898e-04,\n",
       "        1.57648914e-03,  1.39934590e-03,  2.03970539e-03,  3.57514042e-04,\n",
       "        8.33373523e-04,  3.17799997e-04,  1.02795092e-03,  1.84606931e-03,\n",
       "       -3.37904147e-04,  2.48851077e-03,  1.24091232e-03,  2.24947574e-03,\n",
       "        5.55350132e-04,  6.38335969e-04,  2.23738489e-03,  1.37158878e-03,\n",
       "        2.56835384e-03, -7.17158757e-04, -5.22813676e-04,  1.63477577e-03,\n",
       "        1.24699351e-03,  7.71677495e-04,  2.89239067e-03,  1.90235652e-03,\n",
       "       -2.12568319e-04,  1.50599807e-03,  1.33936492e-03,  1.45389752e-03,\n",
       "        1.19350827e-03, -3.22109942e-05,  3.49764165e-04,  2.58683232e-04,\n",
       "        1.85335733e-03,  7.22851264e-04,  5.21840969e-04,  2.04944294e-03,\n",
       "        3.16672955e-05,  3.40404412e-03,  7.79094990e-04,  1.24127086e-04,\n",
       "       -8.29072347e-06,  1.97557275e-03,  2.37134807e-03,  2.79816228e-03,\n",
       "        1.88291203e-03,  1.11217786e-03,  3.10838880e-03,  6.32040709e-04,\n",
       "        3.41243721e-04, -4.42658573e-05,  9.76760304e-04,  8.19950415e-05,\n",
       "        1.03791427e-03,  4.99946413e-04,  7.32615316e-04,  1.91524780e-03,\n",
       "       -2.67484838e-04, -4.94864456e-04,  2.07997151e-03, -6.54661788e-04])"
      ]
     },
     "execution_count": 21,
     "metadata": {},
     "output_type": "execute_result"
    }
   ],
   "source": [
    "drunk_mean_dist.rvs(100)"
   ]
  },
  {
   "cell_type": "code",
   "execution_count": 22,
   "metadata": {},
   "outputs": [],
   "source": [
    "import matplotlib.pyplot as plt"
   ]
  },
  {
   "cell_type": "code",
   "execution_count": 24,
   "metadata": {},
   "outputs": [
    {
     "data": {
      "text/plain": [
       "(array([  6.,  31.,  89., 168., 236., 220., 152.,  67.,  26.,   5.]),\n",
       " array([-0.00206484, -0.00144662, -0.0008284 , -0.00021019,  0.00040803,\n",
       "         0.00102625,  0.00164446,  0.00226268,  0.00288089,  0.00349911,\n",
       "         0.00411733]),\n",
       " <a list of 10 Patch objects>)"
      ]
     },
     "execution_count": 24,
     "metadata": {},
     "output_type": "execute_result"
    },
    {
     "data": {
      "image/png": "[encoded data removed]",
      "text/plain": [
       "<Figure size 432x288 with 1 Axes>"
      ]
     },
     "metadata": {
      "needs_background": "light"
     },
     "output_type": "display_data"
    }
   ],
   "source": [
    "plt.hist(drunk_mean_dist.rvs(1000))"
   ]
  },
  {
   "cell_type": "markdown",
   "metadata": {
    "colab_type": "text",
    "id": "uWgWjp3PQ3Sq"
   },
   "source": [
    "## Resources"
   ]
  },
  {
   "cell_type": "markdown",
   "metadata": {
    "colab_type": "text",
    "id": "QRgHqmYIQ9qn"
   },
   "source": [
    "- [Worked example of Bayes rule calculation](https://en.wikipedia.org/wiki/Bayes'_theorem#Examples) (helpful as it fully breaks out the denominator)\n",
    "- [Source code for mvsdist in scipy](https://github.com/scipy/scipy/blob/90534919e139d2a81c24bf08341734ff41a3db12/scipy/stats/morestats.py#L139)"
   ]
  }
 ],
 "metadata": {
  "colab": {
   "name": "LS_DS_143_Introduction_to_Bayesian_Inference.ipynb",
   "provenance": [],
   "version": "0.3.2"
  },
  "kernelspec": {
   "display_name": "Python 3",
   "language": "python",
   "name": "python3"
  },
  "language_info": {
   "codemirror_mode": {
    "name": "ipython",
    "version": 3
   },
   "file_extension": ".py",
   "mimetype": "text/x-python",
   "name": "python",
   "nbconvert_exporter": "python",
   "pygments_lexer": "ipython3",
   "version": "3.7.3"
  }
 },
 "nbformat": 4,
 "nbformat_minor": 1
}
