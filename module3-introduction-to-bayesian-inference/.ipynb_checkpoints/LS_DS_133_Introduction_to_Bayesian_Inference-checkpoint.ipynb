{
 "cells": [
  {
   "cell_type": "markdown",
   "metadata": {
    "colab_type": "text",
    "id": "H7OLbevlbd_Z"
   },
   "source": [
    "# Lambda School Data Science Module 143\n",
    "\n",
    "## Introduction to Bayesian Inference\n",
    "\n",
    "!['Detector! What would the Bayesian statistician say if I asked him whether the--' [roll] 'I AM A NEUTRINO DETECTOR, NOT A LABYRINTH GUARD. SERIOUSLY, DID YOUR BRAIN FALL OUT?' [roll] '... yes.'](https://imgs.xkcd.com/comics/frequentists_vs_bayesians.png)\n",
    "\n",
    "*[XKCD 1132](https://www.xkcd.com/1132/)*\n"
   ]
  },
  {
   "cell_type": "markdown",
   "metadata": {
    "colab_type": "text",
    "id": "3mz8p08BsN6p"
   },
   "source": [
    "## Prepare - Bayes' Theorem and the Bayesian mindset"
   ]
  },
  {
   "cell_type": "markdown",
   "metadata": {
    "colab_type": "text",
    "id": "GhycNr-Sbeie"
   },
   "source": [
    "Bayes' theorem possesses a near-mythical quality - a bit of math that somehow magically evaluates a situation. But this mythicalness has more to do with its reputation and advanced applications than the actual core of it - deriving it is actually remarkably straightforward.\n",
    "\n",
    "### The Law of Total Probability\n",
    "\n",
    "By definition, the total probability of all outcomes (events) if some variable (event space) $A$ is 1. That is:\n",
    "\n",
    "$$P(A) = \\sum_n P(A_n) = 1$$\n",
    "\n",
    "The law of total probability takes this further, considering two variables ($A$ and $B$) and relating their marginal probabilities (their likelihoods considered independently, without reference to one another) and their conditional probabilities (their likelihoods considered jointly). A marginal probability is simply notated as e.g. $P(A)$, while a conditional probability is notated $P(A|B)$, which reads \"probability of $A$ *given* $B$\".\n",
    "\n",
    "The law of total probability states:\n",
    "\n",
    "$$P(A) = \\sum_n P(A | B_n) P(B_n)$$\n",
    "\n",
    "In words - the total probability of $A$ is equal to the sum of the conditional probability of $A$ on any given event $B_n$ times the probability of that event $B_n$, and summed over all possible events in $B$.\n",
    "\n",
    "### The Law of Conditional Probability\n",
    "\n",
    "What's the probability of something conditioned on something else? To determine this we have to go back to set theory and think about the intersection of sets:\n",
    "\n",
    "The formula for actual calculation:\n",
    "\n",
    "$$P(A|B) = \\frac{P(A \\cap B)}{P(B)}$$\n",
    "\n",
    "![Visualization of set intersection](https://upload.wikimedia.org/wikipedia/commons/9/99/Venn0001.svg)\n",
    "\n",
    "Think of the overall rectangle as the whole probability space, $A$ as the left circle, $B$ as the right circle, and their intersection as the red area. Try to visualize the ratio being described in the above formula, and how it is different from just the $P(A)$ (not conditioned on $B$).\n",
    "\n",
    "We can see how this relates back to the law of total probability - multiply both sides by $P(B)$ and you get $P(A|B)P(B) = P(A \\cap B)$ - replaced back into the law of total probability we get $P(A) = \\sum_n P(A \\cap B_n)$.\n",
    "\n",
    "This may not seem like an improvement at first, but try to relate it back to the above picture - if you think of sets as physical objects, we're saying that the total probability of $A$ given $B$ is all the little pieces of it intersected with $B$, added together. The conditional probability is then just that again, but divided by the probability of $B$ itself happening in the first place.\n",
    "\n",
    "### Bayes Theorem\n",
    "\n",
    "Here is is, the seemingly magic tool:\n",
    "\n",
    "$$P(A|B) = \\frac{P(B|A)P(A)}{P(B)}$$\n",
    "\n",
    "In words - the probability of $A$ conditioned on $B$ is the probability of $B$ conditioned on $A$, times the probability of $A$ and divided by the probability of $B$. These unconditioned probabilities are referred to as \"prior beliefs\", and the conditioned probabilities as \"updated.\"\n",
    "\n",
    "Why is this important? Scroll back up to the XKCD example - the Bayesian statistician draws a less absurd conclusion because their prior belief in the likelihood that the sun will go nova is extremely low. So, even when updated based on evidence from a detector that is $35/36 = 0.972$ accurate, the prior belief doesn't shift enough to change their overall opinion.\n",
    "\n",
    "There's many examples of Bayes' theorem - one less absurd example is to apply to [breathalyzer tests](https://www.bayestheorem.net/breathalyzer-example/). You may think that a breathalyzer test that is 100% accurate for true positives (detecting somebody who is drunk) is pretty good, but what if it also has 8% false positives (indicating somebody is drunk when they're not)? And furthermore, the rate of drunk driving (and thus our prior belief)  is 1/1000.\n",
    "\n",
    "What is the likelihood somebody really is drunk if they test positive? Some may guess it's 92% - the difference between the true positives and the false positives. But we have a prior belief of the background/true rate of drunk driving. Sounds like a job for Bayes' theorem!\n",
    "\n",
    "$$\n",
    "\\begin{aligned}\n",
    "P(Drunk | Positive) &= \\frac{P(Positive | Drunk)P(Drunk)}{P(Positive)} \\\\\n",
    "&= \\frac{1 \\times 0.001}{0.08} \\\\\n",
    "&= 0.0125\n",
    "\\end{aligned}\n",
    "$$\n",
    "\n",
    "In other words, the likelihood that somebody is drunk given they tested positive with a breathalyzer in this situation is only 1.25% - probably much lower than you'd guess. This is why, in practice, it's important to have a repeated test to confirm (the probability of two false positives in a row is $0.08 * 0.08 = 0.0064$, much lower), and Bayes' theorem has been relevant in court cases where proper consideration of evidence was important."
   ]
  },
  {
   "cell_type": "markdown",
   "metadata": {
    "colab_type": "text",
    "id": "htI3DGvDsRJF"
   },
   "source": [
    "## Live Lecture - Deriving Bayes' Theorem, Calculating Bayesian Confidence"
   ]
  },
  {
   "cell_type": "markdown",
   "metadata": {
    "colab_type": "text",
    "id": "moIJNQ-nbfe_"
   },
   "source": [
    "Notice that $P(A|B)$ appears in the above laws - in Bayesian terms, this is the belief in $A$ updated for the evidence $B$. So all we need to do is solve for this term to derive Bayes' theorem. Let's do it together!"
   ]
  },
  {
   "cell_type": "code",
   "execution_count": 0,
   "metadata": {
    "colab": {},
    "colab_type": "code",
    "id": "ke-5EqJI0Tsn"
   },
   "outputs": [],
   "source": [
    "# Activity 2 - Use SciPy to calculate Bayesian confidence intervals\n",
    "# https://docs.scipy.org/doc/scipy/reference/generated/scipy.stats.bayes_mvs.html#scipy.stats.bayes_mvs"
   ]
  },
  {
   "cell_type": "markdown",
   "metadata": {
    "colab_type": "text",
    "id": "P-DzzRk5bf0z"
   },
   "source": [
    "## Assignment - Code it up!\n",
    "\n",
    "Most of the above was pure math - now write Python code to reproduce the results! This is purposefully open ended - you'll have to think about how you should represent probabilities and events. You can and should look things up, and as a stretch goal - refactor your code into helpful reusable functions!\n",
    "\n",
    "Specific goals/targets:\n",
    "\n",
    "1. Write a function `def prob_drunk_given_positive(prob_drunk_prior, prob_positive, prob_positive_drunk)` that reproduces the example from lecture, and use it to calculate and visualize a range of situations\n",
    "2. Explore `scipy.stats.bayes_mvs` - read its documentation, and experiment with it on data you've tested in other ways earlier this week\n",
    "3. Create a visualization comparing the results of a Bayesian approach to a traditional/frequentist approach\n",
    "4. In your own words, summarize the difference between Bayesian and Frequentist statistics\n",
    "\n",
    "If you're unsure where to start, check out [this blog post of Bayes theorem with Python](https://dataconomy.com/2015/02/introduction-to-bayes-theorem-with-python/) - you could and should create something similar!\n",
    "\n",
    "Stretch goals:\n",
    "\n",
    "- Apply a Bayesian technique to a problem you previously worked (in an assignment or project work) on from a frequentist (standard) perspective\n",
    "- Check out [PyMC3](https://docs.pymc.io/) (note this goes beyond hypothesis tests into modeling) - read the guides and work through some examples\n",
    "- Take PyMC3 further - see if you can build something with it!"
   ]
  },
  {
   "cell_type": "code",
   "execution_count": 1,
   "metadata": {},
   "outputs": [],
   "source": [
    "import pandas as pd\n",
    "import matplotlib.pyplot as plt\n",
    "import numpy as np"
   ]
  },
  {
   "cell_type": "code",
   "execution_count": 2,
   "metadata": {
    "colab": {},
    "colab_type": "code",
    "id": "xpVhZyUnbf7o"
   },
   "outputs": [],
   "source": [
    "i=1\n",
    "times_test = []\n",
    "post_probs = []\n",
    "\n",
    "def prob_drunk_given_positive(prob_drunk_prior, prob_positive_sober, prob_positive_drunk, n):\n",
    "    numerator = prob_positive_drunk*prob_drunk_prior\n",
    "    denominator = (prob_positive_drunk*prob_drunk_prior)+((prob_positive_sober)*(1-prob_drunk_prior))\n",
    "    prob_drunk_post = numerator/denominator\n",
    "    \n",
    "    global i\n",
    "    times_test.append(int(i))\n",
    "    post_probs.append(prob_drunk_post)\n",
    "    i+=1\n",
    "\n",
    "    while i < n:\n",
    "        prob_drunk_given_positive(prob_drunk_post, prob_positive_sober, prob_positive_drunk, n)\n",
    "        \n",
    "    return times_test, post_probs"
   ]
  },
  {
   "cell_type": "code",
   "execution_count": 3,
   "metadata": {},
   "outputs": [
    {
     "data": {
      "text/plain": [
       "([1, 2, 3, 4, 5, 6, 7, 8, 9, 10],\n",
       " [0.012357884330202669,\n",
       "  0.13525210993291495,\n",
       "  0.6615996951348605,\n",
       "  0.9606895076105054,\n",
       "  0.9967371577896734,\n",
       "  0.9997381867081508,\n",
       "  0.9999790498904363,\n",
       "  0.9999983239589307,\n",
       "  0.9999998659165077,\n",
       "  0.9999999892733192])"
      ]
     },
     "execution_count": 3,
     "metadata": {},
     "output_type": "execute_result"
    }
   ],
   "source": [
    "prob_drunk_given_positive(0.001, 0.08, 1, 11)"
   ]
  },
  {
   "cell_type": "code",
   "execution_count": 7,
   "metadata": {},
   "outputs": [
    {
     "data": {
      "image/png": "[encoded data removed]",
      "text/plain": [
       "<Figure size 1080x720 with 1 Axes>"
      ]
     },
     "metadata": {
      "needs_background": "light"
     },
     "output_type": "display_data"
    }
   ],
   "source": [
    "plt.figure(figsize=(15,10))\n",
    "plt.plot(times_test, post_probs, 'o-')\n",
    "plt.title('Probability Drunk Given Positive', fontsize=20)\n",
    "plt.xticks(times_test)\n",
    "plt.xlabel('Number of Positive Results', fontsize=15)\n",
    "plt.ylabel('Probability of Being Drunk', fontsize=15)\n",
    "plt.savefig('/users/nchib/desktop/prob_positive_drunk_positive_result.png')\n",
    "plt.show()"
   ]
  },
  {
   "cell_type": "code",
   "execution_count": 85,
   "metadata": {},
   "outputs": [
    {
     "data": {
      "text/html": [
       "<div>\n",
       "<style scoped>\n",
       "    .dataframe tbody tr th:only-of-type {\n",
       "        vertical-align: middle;\n",
       "    }\n",
       "\n",
       "    .dataframe tbody tr th {\n",
       "        vertical-align: top;\n",
       "    }\n",
       "\n",
       "    .dataframe thead th {\n",
       "        text-align: right;\n",
       "    }\n",
       "</style>\n",
       "<table border=\"1\" class=\"dataframe\">\n",
       "  <thead>\n",
       "    <tr style=\"text-align: right;\">\n",
       "      <th></th>\n",
       "      <th>party</th>\n",
       "      <th>handicapped-infants</th>\n",
       "      <th>water-project</th>\n",
       "      <th>budget</th>\n",
       "      <th>physician-fee-freeze</th>\n",
       "      <th>el-salvador-aid</th>\n",
       "      <th>religious-groups</th>\n",
       "      <th>anti-satellite-test-ban</th>\n",
       "      <th>aid-to-contras</th>\n",
       "      <th>mx-missile</th>\n",
       "      <th>immigration</th>\n",
       "      <th>synfuels</th>\n",
       "      <th>education</th>\n",
       "      <th>right-to-sue</th>\n",
       "      <th>crime</th>\n",
       "      <th>duty-free</th>\n",
       "      <th>south-africa</th>\n",
       "    </tr>\n",
       "  </thead>\n",
       "  <tbody>\n",
       "    <tr>\n",
       "      <th>0</th>\n",
       "      <td>republican</td>\n",
       "      <td>0.0</td>\n",
       "      <td>1.0</td>\n",
       "      <td>0.0</td>\n",
       "      <td>1.0</td>\n",
       "      <td>1.0</td>\n",
       "      <td>1.0</td>\n",
       "      <td>0.0</td>\n",
       "      <td>0.0</td>\n",
       "      <td>0.0</td>\n",
       "      <td>1.0</td>\n",
       "      <td>NaN</td>\n",
       "      <td>1.0</td>\n",
       "      <td>1.0</td>\n",
       "      <td>1.0</td>\n",
       "      <td>0.0</td>\n",
       "      <td>1.0</td>\n",
       "    </tr>\n",
       "    <tr>\n",
       "      <th>1</th>\n",
       "      <td>republican</td>\n",
       "      <td>0.0</td>\n",
       "      <td>1.0</td>\n",
       "      <td>0.0</td>\n",
       "      <td>1.0</td>\n",
       "      <td>1.0</td>\n",
       "      <td>1.0</td>\n",
       "      <td>0.0</td>\n",
       "      <td>0.0</td>\n",
       "      <td>0.0</td>\n",
       "      <td>0.0</td>\n",
       "      <td>0.0</td>\n",
       "      <td>1.0</td>\n",
       "      <td>1.0</td>\n",
       "      <td>1.0</td>\n",
       "      <td>0.0</td>\n",
       "      <td>NaN</td>\n",
       "    </tr>\n",
       "    <tr>\n",
       "      <th>2</th>\n",
       "      <td>democrat</td>\n",
       "      <td>NaN</td>\n",
       "      <td>1.0</td>\n",
       "      <td>1.0</td>\n",
       "      <td>NaN</td>\n",
       "      <td>1.0</td>\n",
       "      <td>1.0</td>\n",
       "      <td>0.0</td>\n",
       "      <td>0.0</td>\n",
       "      <td>0.0</td>\n",
       "      <td>0.0</td>\n",
       "      <td>1.0</td>\n",
       "      <td>0.0</td>\n",
       "      <td>1.0</td>\n",
       "      <td>1.0</td>\n",
       "      <td>0.0</td>\n",
       "      <td>0.0</td>\n",
       "    </tr>\n",
       "    <tr>\n",
       "      <th>3</th>\n",
       "      <td>democrat</td>\n",
       "      <td>0.0</td>\n",
       "      <td>1.0</td>\n",
       "      <td>1.0</td>\n",
       "      <td>0.0</td>\n",
       "      <td>NaN</td>\n",
       "      <td>1.0</td>\n",
       "      <td>0.0</td>\n",
       "      <td>0.0</td>\n",
       "      <td>0.0</td>\n",
       "      <td>0.0</td>\n",
       "      <td>1.0</td>\n",
       "      <td>0.0</td>\n",
       "      <td>1.0</td>\n",
       "      <td>0.0</td>\n",
       "      <td>0.0</td>\n",
       "      <td>1.0</td>\n",
       "    </tr>\n",
       "    <tr>\n",
       "      <th>4</th>\n",
       "      <td>democrat</td>\n",
       "      <td>1.0</td>\n",
       "      <td>1.0</td>\n",
       "      <td>1.0</td>\n",
       "      <td>0.0</td>\n",
       "      <td>1.0</td>\n",
       "      <td>1.0</td>\n",
       "      <td>0.0</td>\n",
       "      <td>0.0</td>\n",
       "      <td>0.0</td>\n",
       "      <td>0.0</td>\n",
       "      <td>1.0</td>\n",
       "      <td>NaN</td>\n",
       "      <td>1.0</td>\n",
       "      <td>1.0</td>\n",
       "      <td>1.0</td>\n",
       "      <td>1.0</td>\n",
       "    </tr>\n",
       "  </tbody>\n",
       "</table>\n",
       "</div>"
      ],
      "text/plain": [
       "        party  handicapped-infants  water-project  budget  \\\n",
       "0  republican                  0.0            1.0     0.0   \n",
       "1  republican                  0.0            1.0     0.0   \n",
       "2    democrat                  NaN            1.0     1.0   \n",
       "3    democrat                  0.0            1.0     1.0   \n",
       "4    democrat                  1.0            1.0     1.0   \n",
       "\n",
       "   physician-fee-freeze  el-salvador-aid  religious-groups  \\\n",
       "0                   1.0              1.0               1.0   \n",
       "1                   1.0              1.0               1.0   \n",
       "2                   NaN              1.0               1.0   \n",
       "3                   0.0              NaN               1.0   \n",
       "4                   0.0              1.0               1.0   \n",
       "\n",
       "   anti-satellite-test-ban  aid-to-contras  mx-missile  immigration  synfuels  \\\n",
       "0                      0.0             0.0         0.0          1.0       NaN   \n",
       "1                      0.0             0.0         0.0          0.0       0.0   \n",
       "2                      0.0             0.0         0.0          0.0       1.0   \n",
       "3                      0.0             0.0         0.0          0.0       1.0   \n",
       "4                      0.0             0.0         0.0          0.0       1.0   \n",
       "\n",
       "   education  right-to-sue  crime  duty-free  south-africa  \n",
       "0        1.0           1.0    1.0        0.0           1.0  \n",
       "1        1.0           1.0    1.0        0.0           NaN  \n",
       "2        0.0           1.0    1.0        0.0           0.0  \n",
       "3        0.0           1.0    0.0        0.0           1.0  \n",
       "4        NaN           1.0    1.0        1.0           1.0  "
      ]
     },
     "execution_count": 85,
     "metadata": {},
     "output_type": "execute_result"
    }
   ],
   "source": [
    "df = pd.read_csv('/users/nchib/desktop/voting_data.csv')\n",
    "df = df.drop(columns=['Unnamed: 0'])\n",
    "df.head()"
   ]
  },
  {
   "cell_type": "code",
   "execution_count": 86,
   "metadata": {},
   "outputs": [],
   "source": [
    "rep = df[df['party'] == 'republican']\n",
    "dem = df[df['party'] == 'democrat']"
   ]
  },
  {
   "cell_type": "code",
   "execution_count": 87,
   "metadata": {},
   "outputs": [],
   "source": [
    "republican_water_project = rep['water-project'].dropna().values\n",
    "democrat_water_project = dem['water-project'].dropna().values"
   ]
  },
  {
   "cell_type": "code",
   "execution_count": 88,
   "metadata": {},
   "outputs": [],
   "source": [
    "from scipy import stats\n",
    "\n",
    "def confidence_interval(data, confidence=0.95):\n",
    "    data = np.array(data)\n",
    "    mean = np.mean(data)\n",
    "    n = len(data)\n",
    "    stderr = stats.sem(data)\n",
    "    interval = stderr * stats.t.ppf((1 + confidence) / 2.0, n - 1)\n",
    "    return (mean, mean - interval, mean + interval, interval)\n",
    "\n",
    "def report_confidence_interval(confidence_interval):\n",
    "    s = \"our mean lies in the interval [{:.2}, {:.2}]\".format(confidence_interval[1], confidence_interval[2])\n",
    "    return s\n",
    "\n",
    "def report_error(confidence_interval):\n",
    "    err = confidence_interval[3]\n",
    "    return err"
   ]
  },
  {
   "cell_type": "code",
   "execution_count": 89,
   "metadata": {},
   "outputs": [
    {
     "data": {
      "text/plain": [
       "(0.5067567567567568, 0.42526571045979167, 0.5882478030537219)"
      ]
     },
     "execution_count": 89,
     "metadata": {},
     "output_type": "execute_result"
    }
   ],
   "source": [
    "#confidence interval using frequentist approach\n",
    "confidence_interval(republican_water_project)[0:3]"
   ]
  },
  {
   "cell_type": "code",
   "execution_count": 90,
   "metadata": {},
   "outputs": [
    {
     "data": {
      "text/plain": [
       "Mean(statistic=0.5067567567567568, minmax=(0.42526571045979167, 0.5882478030537219))"
      ]
     },
     "execution_count": 90,
     "metadata": {},
     "output_type": "execute_result"
    }
   ],
   "source": [
    "#confidence interval using Bayesian approach\n",
    "mean_CI, _, _ = stats.bayes_mvs(republican_water_project, alpha=.95)\n",
    "  \n",
    "mean_CI"
   ]
  },
  {
   "cell_type": "markdown",
   "metadata": {},
   "source": [
    "Conclusion: Using Bayesian approach to calculate mean and confident intervals in this case is exactly the same as using the frequentist approach"
   ]
  },
  {
   "cell_type": "code",
   "execution_count": 118,
   "metadata": {},
   "outputs": [],
   "source": [
    "from scipy import stats\n",
    "\n",
    "def confidence_interval_bayes(data):\n",
    "    data = np.array(data)\n",
    "    mean = stats.bayes_mvs(data, alpha=.95)[0][0]\n",
    "    n = len(data)\n",
    "    sample_std = stats.bayes_mvs(data, alpha=.95)[2][0]\n",
    "    stderr = sample_std/n**.5\n",
    "    interval = (stats.bayes_mvs(data, alpha=.95)[0][1][1]-stats.bayes_mvs(data, alpha=.95)[0][1][0])/2\n",
    "    return (mean, mean - interval, mean + interval, interval)\n",
    "\n",
    "def report_confidence_interval_bayes(confidence_interval_bayes):\n",
    "    sr = \"our mean lies in the interval [{:.2}, {:.2}]\".format(confidence_interval_bayes[1], confidence_interval_bayes[2])\n",
    "    return sr\n",
    "\n",
    "def report_error_bayes(confidence_interval_bayes):\n",
    "    errs = confidence_interval_bayes[3]\n",
    "    return errs"
   ]
  },
  {
   "cell_type": "code",
   "execution_count": 119,
   "metadata": {},
   "outputs": [
    {
     "data": {
      "text/plain": [
       "[0.18787878787878787,\n",
       " 0.5067567567567568,\n",
       " 0.13414634146341464,\n",
       " 0.9878787878787879,\n",
       " 0.9515151515151515,\n",
       " 0.8975903614457831,\n",
       " 0.24074074074074073,\n",
       " 0.15286624203821655,\n",
       " 0.11515151515151516,\n",
       " 0.5575757575757576,\n",
       " 0.1320754716981132,\n",
       " 0.8709677419354839,\n",
       " 0.8607594936708861,\n",
       " 0.9813664596273292,\n",
       " 0.08974358974358974,\n",
       " 0.6575342465753424]"
      ]
     },
     "execution_count": 119,
     "metadata": {},
     "output_type": "execute_result"
    }
   ],
   "source": [
    "rep_means = []\n",
    "column = df.select_dtypes(include=[np.number]).columns.values.tolist()\n",
    "for i in column:\n",
    "    x = stats.bayes_mvs((rep[i].dropna().values), alpha=.95)[0][0]\n",
    "    rep_means.append(x)\n",
    "\n",
    "rep_means"
   ]
  },
  {
   "cell_type": "code",
   "execution_count": 120,
   "metadata": {},
   "outputs": [
    {
     "data": {
      "text/plain": [
       "[0.6046511627906976,\n",
       " 0.502092050209205,\n",
       " 0.8884615384615384,\n",
       " 0.05405405405405406,\n",
       " 0.21568627450980393,\n",
       " 0.47674418604651164,\n",
       " 0.7722007722007722,\n",
       " 0.8288973384030418,\n",
       " 0.7580645161290323,\n",
       " 0.4714828897338403,\n",
       " 0.5058823529411764,\n",
       " 0.14457831325301204,\n",
       " 0.2896825396825397,\n",
       " 0.35019455252918286,\n",
       " 0.6374501992031872,\n",
       " 0.9351351351351351]"
      ]
     },
     "execution_count": 120,
     "metadata": {},
     "output_type": "execute_result"
    }
   ],
   "source": [
    "dem_means = []\n",
    "column = df.select_dtypes(include=[np.number]).columns.values.tolist()\n",
    "for i in column:\n",
    "    x = stats.bayes_mvs((dem[i].dropna().values), alpha=.95)[0][0]\n",
    "    dem_means.append(x)\n",
    "\n",
    "dem_means"
   ]
  },
  {
   "cell_type": "code",
   "execution_count": 121,
   "metadata": {},
   "outputs": [
    {
     "data": {
      "text/plain": [
       "[0.060058463048146105,\n",
       " 0.06384690925692016,\n",
       " 0.03851802312746677,\n",
       " 0.027722192556845212,\n",
       " 0.05082316051000674,\n",
       " 0.06135235940902925,\n",
       " 0.05141875056420786,\n",
       " 0.04581281695310058,\n",
       " 0.05367050496847958,\n",
       " 0.060725449142464444,\n",
       " 0.06177965146996067,\n",
       " 0.04398337302973643,\n",
       " 0.056389437030609224,\n",
       " 0.05871276143220927,\n",
       " 0.059881489230642626,\n",
       " 0.03582176924929492]"
      ]
     },
     "execution_count": 121,
     "metadata": {},
     "output_type": "execute_result"
    }
   ],
   "source": [
    "error_dem = []\n",
    "column = df.select_dtypes(include=[np.number]).columns.values.tolist()\n",
    "for i in column:\n",
    "    x = report_error_bayes(confidence_interval_bayes(dem[i].dropna().values))\n",
    "    error_dem.append(x)\n",
    "\n",
    "error_dem"
   ]
  },
  {
   "cell_type": "code",
   "execution_count": 122,
   "metadata": {},
   "outputs": [
    {
     "data": {
      "text/plain": [
       "[0.060227123430708684,\n",
       " 0.08149104629696513,\n",
       " 0.05271114014643899,\n",
       " 0.016872043048312357,\n",
       " 0.033117206377981656,\n",
       " 0.04660287544238906,\n",
       " 0.06653984804366711,\n",
       " 0.056911470456951,\n",
       " 0.04921665607869251,\n",
       " 0.07657979836544149,\n",
       " 0.05319990645844372,\n",
       " 0.05336594843254461,\n",
       " 0.05457359650883331,\n",
       " 0.021112942082731123,\n",
       " 0.045349234733575924,\n",
       " 0.07788820497097171]"
      ]
     },
     "execution_count": 122,
     "metadata": {},
     "output_type": "execute_result"
    }
   ],
   "source": [
    "error_rep = []\n",
    "column = df.select_dtypes(include=[np.number]).columns.values.tolist()\n",
    "for i in column:\n",
    "    x = report_error_bayes(confidence_interval_bayes(rep[i].dropna().values))\n",
    "    error_rep.append(x)\n",
    "    \n",
    "error_rep"
   ]
  },
  {
   "cell_type": "code",
   "execution_count": 124,
   "metadata": {},
   "outputs": [
    {
     "data": {
      "image/png": "[encoded data removed]",
      "text/plain": [
       "<Figure size 1080x720 with 1 Axes>"
      ]
     },
     "metadata": {
      "needs_background": "light"
     },
     "output_type": "display_data"
    }
   ],
   "source": [
    "plt.figure(figsize=(15,10))\n",
    "\n",
    "barWidth = 0.4\n",
    "\n",
    "bars1 = dem_means\n",
    "\n",
    "bars2 = rep_means\n",
    "\n",
    "yer1 = error_dem\n",
    "\n",
    "yer2 = error_rep\n",
    "\n",
    "r1 = np.arange(len(bars1))\n",
    "r2 = [x + barWidth for x in r1]\n",
    "\n",
    "plt.bar(r1, bars1, width=barWidth, color='#698dc5', yerr=yer1, ecolor='#414449', capsize=7, label='Democrats')\n",
    "\n",
    "plt.bar(r2, bars2, width=barWidth, color='#f07763', yerr=yer2, ecolor='#414449', capsize=7, label='Republicans')\n",
    "\n",
    "plt.xticks([r + barWidth for r in range(len(bars1))], column, rotation=45, ha='right')\n",
    "plt.suptitle('Support for Issues by Party', fontsize=18, y=0.92)\n",
    "\n",
    "plt.ylabel('Mean % Support Bill', fontsize=12)\n",
    "plt.legend()\n",
    "\n",
    "plt.show()"
   ]
  },
  {
   "cell_type": "markdown",
   "metadata": {},
   "source": [
    "Conclusion: The visualization of the above chart is virtually exactly the same as the one using the frequentist approach"
   ]
  },
  {
   "cell_type": "markdown",
   "metadata": {},
   "source": [
    "The difference between the Frequentist and Bayesian approaches is that the former uses sample data and hypothesis testing to make inferences about a population, with no subjective prior knowledge, while the latter depends on the prior and likelihood of observed data."
   ]
  },
  {
   "cell_type": "markdown",
   "metadata": {
    "colab_type": "text",
    "id": "uWgWjp3PQ3Sq"
   },
   "source": [
    "## Resources"
   ]
  },
  {
   "cell_type": "markdown",
   "metadata": {
    "colab_type": "text",
    "id": "QRgHqmYIQ9qn"
   },
   "source": [
    "- [Worked example of Bayes rule calculation](https://en.wikipedia.org/wiki/Bayes'_theorem#Examples) (helpful as it fully breaks out the denominator)\n",
    "- [Source code for mvsdist in scipy](https://github.com/scipy/scipy/blob/90534919e139d2a81c24bf08341734ff41a3db12/scipy/stats/morestats.py#L139)"
   ]
  }
 ],
 "metadata": {
  "colab": {
   "name": "LS_DS_143_Introduction_to_Bayesian_Inference.ipynb",
   "provenance": [],
   "version": "0.3.2"
  },
  "kernelspec": {
   "display_name": "Python 3",
   "language": "python",
   "name": "python3"
  },
  "language_info": {
   "codemirror_mode": {
    "name": "ipython",
    "version": 3
   },
   "file_extension": ".py",
   "mimetype": "text/x-python",
   "name": "python",
   "nbconvert_exporter": "python",
   "pygments_lexer": "ipython3",
   "version": "3.7.3"
  }
 },
 "nbformat": 4,
 "nbformat_minor": 1
}
