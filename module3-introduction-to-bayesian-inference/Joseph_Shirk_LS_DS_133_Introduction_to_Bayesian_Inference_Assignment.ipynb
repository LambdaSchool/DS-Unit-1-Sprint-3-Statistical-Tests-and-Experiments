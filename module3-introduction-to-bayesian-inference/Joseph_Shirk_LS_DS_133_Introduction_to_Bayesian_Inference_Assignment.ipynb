{
  "nbformat": 4,
  "nbformat_minor": 0,
  "metadata": {
    "colab": {
      "name": "Joseph_Shirk_LS_DS_133_Introduction_to_Bayesian_Inference_Assignment.ipynb",
      "provenance": [],
      "collapsed_sections": [],
      "include_colab_link": true
    },
    "kernelspec": {
      "name": "python3",
      "display_name": "Python 3"
    }
  },
  "cells": [
    {
      "cell_type": "markdown",
      "metadata": {
        "id": "view-in-github",
        "colab_type": "text"
      },
      "source": [
        "<a href=\"https://colab.research.google.com/github/jbshirk/DS-Unit-1-Sprint-3-Statistical-Tests-and-Experiments/blob/master/module3-introduction-to-bayesian-inference/Joseph_Shirk_LS_DS_133_Introduction_to_Bayesian_Inference_Assignment.ipynb\" target=\"_parent\"><img src=\"https://colab.research.google.com/assets/colab-badge.svg\" alt=\"Open In Colab\"/></a>"
      ]
    },
    {
      "cell_type": "markdown",
      "metadata": {
        "id": "l9gRdFzU836s",
        "colab_type": "text"
      },
      "source": [
        "### Save to: \n",
        "DS-Unit-1-Sprint-3-Statistical-Tests-and-Experiments\n",
        "\n",
        "> module3-introduction-to-bayesian-inference/"
      ]
    },
    {
      "cell_type": "markdown",
      "metadata": {
        "id": "H7OLbevlbd_Z",
        "colab_type": "text"
      },
      "source": [
        "# Lambda School Data Science Module 133\n",
        "\n",
        "## Introduction to Bayesian Inference\n",
        "\n",
        "\n"
      ]
    },
    {
      "cell_type": "markdown",
      "metadata": {
        "id": "P-DzzRk5bf0z",
        "colab_type": "text"
      },
      "source": [
        "## Assignment - Code it up!\n",
        "\n",
        "Most of the above was pure math - now write Python code to reproduce the results! This is purposefully open ended - you'll have to think about how you should represent probabilities and events. You can and should look things up, and as a stretch goal - refactor your code into helpful reusable functions!\n",
        "\n",
        "Specific goals/targets:\n",
        "\n",
        "1. Write a function `def prob_drunk_given_positive(prob_drunk_prior, prob_positive, prob_positive_drunk)` that reproduces the example from lecture, and use it to calculate and visualize a range of situations\n",
        "2. Explore `scipy.stats.bayes_mvs` - read its documentation, and experiment with it on data you've tested in other ways earlier this week\n",
        "3. Create a visualization comparing the results of a Bayesian approach to a traditional/frequentist approach\n",
        "4. In your own words, summarize the difference between Bayesian and Frequentist statistics\n",
        "\n",
        "If you're unsure where to start, check out [this blog post of Bayes theorem with Python](https://dataconomy.com/2015/02/introduction-to-bayes-theorem-with-python/) - you could and should create something similar!\n",
        "\n",
        "Stretch goals:\n",
        "\n",
        "- Apply a Bayesian technique to a problem you previously worked (in an assignment or project work) on from a frequentist (standard) perspective\n",
        "- Check out [PyMC3](https://docs.pymc.io/) (note this goes beyond hypothesis tests into modeling) - read the guides and work through some examples\n",
        "- Take PyMC3 further - see if you can build something with it!"
      ]
    },
    {
      "cell_type": "code",
      "metadata": {
        "id": "xpVhZyUnbf7o",
        "colab_type": "code",
        "colab": {}
      },
      "source": [
        "import pandas as pd\n",
        "import numpy as np\n",
        "from sklearn import datasets"
      ],
      "execution_count": 0,
      "outputs": []
    },
    {
      "cell_type": "code",
      "metadata": {
        "id": "f-7qMAO4FbkS",
        "colab_type": "code",
        "colab": {}
      },
      "source": [
        " memo = []\n",
        "\n",
        " def prob_drunk_given_positive(   # P(A|B)\n",
        "     prob_drunk_prior = 0.001,    # P(B)\n",
        "     prob_positive = 0.08,        # P(+|!drunk) #false positive\n",
        "     prob_positive_drunk = 1.0,   # P(+|drunk)\n",
        "     repeat_test = 3):\n",
        "     print(f'func called with P(B): {prob_drunk_prior},tests: {repeat_test}')\n",
        "\n",
        "     if repeat_test == 0: return 0\n",
        "     if repeat_test == 1: return 1\n",
        "\n",
        "     else:\n",
        "     # P(+) = P(+|!drunk) + P(+|drunk) # = 1\n",
        "     # P(drunk|+) = \n",
        "     #    P(+|drunk) * P(drunk) / P(+)\n",
        "     #    \n",
        "     #P_A.B = prob_positive_drunk * prob_drunk_prior / prob_positive\n",
        "       print(f'intermediate:: P(B): {prob_drunk_prior},tests: {repeat_test}')\n",
        "       return prob_drunk_given_positive(\n",
        "              prob_positive_drunk * prob_drunk_prior / prob_positive, \n",
        "              prob_positive, prob_positive_drunk, repeat_test -1 )\n",
        "     "
      ],
      "execution_count": 0,
      "outputs": []
    },
    {
      "cell_type": "code",
      "metadata": {
        "id": "rbfvWfOpiKSU",
        "colab_type": "code",
        "colab": {
          "base_uri": "https://localhost:8080/",
          "height": 124
        },
        "outputId": "ccf43b66-c9c8-4397-9242-7f11ce95d256"
      },
      "source": [
        "print(prob_drunk_given_positive())"
      ],
      "execution_count": 10,
      "outputs": [
        {
          "output_type": "stream",
          "text": [
            "func called with P(B): 0.001,tests: 3\n",
            "intermediate:: P(B): 0.001,tests: 3\n",
            "func called with P(B): 0.0125,tests: 2\n",
            "intermediate:: P(B): 0.0125,tests: 2\n",
            "func called with P(B): 0.15625,tests: 1\n",
            "1\n"
          ],
          "name": "stdout"
        }
      ]
    },
    {
      "cell_type": "markdown",
      "metadata": {
        "id": "uWgWjp3PQ3Sq",
        "colab_type": "text"
      },
      "source": [
        "## Resources"
      ]
    },
    {
      "cell_type": "markdown",
      "metadata": {
        "id": "QRgHqmYIQ9qn",
        "colab_type": "text"
      },
      "source": [
        "- [Worked example of Bayes rule calculation](https://en.wikipedia.org/wiki/Bayes'_theorem#Examples) (helpful as it fully breaks out the denominator)\n",
        "- [Source code for mvsdist in scipy](https://github.com/scipy/scipy/blob/90534919e139d2a81c24bf08341734ff41a3db12/scipy/stats/morestats.py#L139)"
      ]
    }
  ]
}