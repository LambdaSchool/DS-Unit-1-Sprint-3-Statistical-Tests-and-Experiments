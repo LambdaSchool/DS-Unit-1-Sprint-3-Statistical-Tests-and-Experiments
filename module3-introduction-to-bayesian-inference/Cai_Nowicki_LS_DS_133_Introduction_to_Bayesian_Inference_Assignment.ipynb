{
  "nbformat": 4,
  "nbformat_minor": 0,
  "metadata": {
    "colab": {
      "name": "Cai Nowicki LS_DS_133_Introduction_to_Bayesian_Inference_Assignment.ipynb",
      "provenance": [],
      "collapsed_sections": [],
      "include_colab_link": true
    },
    "kernelspec": {
      "name": "python3",
      "display_name": "Python 3"
    }
  },
  "cells": [
    {
      "cell_type": "markdown",
      "metadata": {
        "id": "view-in-github",
        "colab_type": "text"
      },
      "source": [
        "<a href=\"https://colab.research.google.com/github/dunkelweizen/DS-Unit-1-Sprint-3-Statistical-Tests-and-Experiments/blob/master/module3-introduction-to-bayesian-inference/Cai_Nowicki_LS_DS_133_Introduction_to_Bayesian_Inference_Assignment.ipynb\" target=\"_parent\"><img src=\"https://colab.research.google.com/assets/colab-badge.svg\" alt=\"Open In Colab\"/></a>"
      ]
    },
    {
      "cell_type": "markdown",
      "metadata": {
        "id": "H7OLbevlbd_Z",
        "colab_type": "text"
      },
      "source": [
        "# Lambda School Data Science Module 133\n",
        "\n",
        "## Introduction to Bayesian Inference\n",
        "\n",
        "\n"
      ]
    },
    {
      "cell_type": "markdown",
      "metadata": {
        "id": "P-DzzRk5bf0z",
        "colab_type": "text"
      },
      "source": [
        "## Assignment - Code it up!\n",
        "\n",
        "Most of the above was pure math - now write Python code to reproduce the results! This is purposefully open ended - you'll have to think about how you should represent probabilities and events. You can and should look things up, and as a stretch goal - refactor your code into helpful reusable functions!\n",
        "\n",
        "Specific goals/targets:\n",
        "\n",
        "1. Write a function `def prob_drunk_given_positive(prob_drunk_prior, prob_positive, prob_positive_drunk)` that reproduces the example from lecture, and use it to calculate and visualize a range of situations\n",
        "2. Explore `scipy.stats.bayes_mvs` - read its documentation, and experiment with it on data you've tested in other ways earlier this week\n",
        "3. Create a visualization comparing the results of a Bayesian approach to a traditional/frequentist approach\n",
        "4. In your own words, summarize the difference between Bayesian and Frequentist statistics\n",
        "\n",
        "If you're unsure where to start, check out [this blog post of Bayes theorem with Python](https://dataconomy.com/2015/02/introduction-to-bayes-theorem-with-python/) - you could and should create something similar!\n",
        "\n",
        "Stretch goals:\n",
        "\n",
        "- Apply a Bayesian technique to a problem you previously worked (in an assignment or project work) on from a frequentist (standard) perspective\n",
        "- Check out [PyMC3](https://docs.pymc.io/) (note this goes beyond hypothesis tests into modeling) - read the guides and work through some examples\n",
        "- Take PyMC3 further - see if you can build something with it!"
      ]
    },
    {
      "cell_type": "markdown",
      "metadata": {
        "id": "1_w5jw6PLhEb",
        "colab_type": "text"
      },
      "source": [
        "I need to find the probability of drunk(condition positive breath test), which equals \"true positive\"  * background probability that someone is drunk (prior belief), divided by the overall chance of a positive test. In the breathalyzer case, that's so close to the false positive rate as to make the difference negligible."
      ]
    },
    {
      "cell_type": "code",
      "metadata": {
        "id": "xpVhZyUnbf7o",
        "colab_type": "code",
        "colab": {}
      },
      "source": [
        "def prob_drunk_given_positive(prob_drunk_prior, prob_positive, prob_positive_drunk):\n",
        "  numerator = prob_positive_drunk * prob_drunk_prior\n",
        "  return numerator / prob_positive\n",
        "  "
      ],
      "execution_count": 0,
      "outputs": []
    },
    {
      "cell_type": "code",
      "metadata": {
        "id": "PmOR__c5QYjn",
        "colab_type": "code",
        "colab": {}
      },
      "source": [
        "def prob_positive(prior_belief, false_pos, true_pos):\n",
        "  pos_pos = true_pos * prior_belief\n",
        "  pos_neg = false_pos * (1 - prior_belief)\n",
        "  return pos_pos + pos_neg\n",
        "  "
      ],
      "execution_count": 0,
      "outputs": []
    },
    {
      "cell_type": "code",
      "metadata": {
        "id": "bqTaGOhvUXgo",
        "colab_type": "code",
        "colab": {}
      },
      "source": [
        "#Let's say true positive rate is 95%, false positive rate is 10% (based on manufacturer's stats)\n",
        "#research says there are 111 million self-reported incidences of drunk driving in a year, and there are 225 million licensed drivers in the US. \n",
        "#If i work from the very basic assumption that everyone with a license drives twice per day \n",
        "#(which balances out people who hardly drive against people who make several trips)\n",
        "#that would mean my prior belief should be 0.00067 (total drives per year divided by drunk driving reports)"
      ],
      "execution_count": 0,
      "outputs": []
    },
    {
      "cell_type": "code",
      "metadata": {
        "id": "QRDcURi3WbhA",
        "colab_type": "code",
        "colab": {}
      },
      "source": [
        "prob_pos = prob_positive(0.00067, 0.10, 0.95)"
      ],
      "execution_count": 0,
      "outputs": []
    },
    {
      "cell_type": "code",
      "metadata": {
        "id": "oJI1BrwPWklA",
        "colab_type": "code",
        "colab": {
          "base_uri": "https://localhost:8080/",
          "height": 35
        },
        "outputId": "66ec2e8c-6b06-461b-db62-664e077087b6"
      },
      "source": [
        "prob_drunk_given_positive(0.00067, prob_pos, 0.95)"
      ],
      "execution_count": 4,
      "outputs": [
        {
          "output_type": "execute_result",
          "data": {
            "text/plain": [
              "0.006328956592207379"
            ]
          },
          "metadata": {
            "tags": []
          },
          "execution_count": 4
        }
      ]
    },
    {
      "cell_type": "markdown",
      "metadata": {
        "id": "jWu38tsqWscN",
        "colab_type": "text"
      },
      "source": [
        "That would mean only a 0.6% chance that a driver is drunk given a positive breath test!\n",
        "\n",
        "But that's assuming total randomness of drunk driving vs total driving, which is of course not true. "
      ]
    },
    {
      "cell_type": "code",
      "metadata": {
        "id": "CvIezVZqXIzi",
        "colab_type": "code",
        "colab": {
          "base_uri": "https://localhost:8080/",
          "height": 35
        },
        "outputId": "f5b3e5fd-7f93-4bc5-df3d-4875c96af9a8"
      },
      "source": [
        "#lets use the same numbers for true and false positives, and assume 5% of our drivers are drunk (it's 1AM on Saturday)\n",
        "prob_pos = prob_positive(0.05, 0.10, 0.95)\n",
        "prob_drunk_given_positive(0.05, prob_pos, 0.95)"
      ],
      "execution_count": 5,
      "outputs": [
        {
          "output_type": "execute_result",
          "data": {
            "text/plain": [
              "0.3333333333333333"
            ]
          },
          "metadata": {
            "tags": []
          },
          "execution_count": 5
        }
      ]
    },
    {
      "cell_type": "code",
      "metadata": {
        "id": "5QVPbsfqYFbo",
        "colab_type": "code",
        "colab": {
          "base_uri": "https://localhost:8080/",
          "height": 35
        },
        "outputId": "cf4dae48-1f56-4a7b-c6f8-dcea96a72378"
      },
      "source": [
        "#let's look at a re-test scenario - the chance of a false positive TWICE is only 10% * 10%, or 1%\n",
        "\n",
        "prob_pos = prob_positive(0.05, 0.01, 0.95)\n",
        "prob_drunk_given_positive(0.05, prob_pos, 0.95)"
      ],
      "execution_count": 6,
      "outputs": [
        {
          "output_type": "execute_result",
          "data": {
            "text/plain": [
              "0.8333333333333333"
            ]
          },
          "metadata": {
            "tags": []
          },
          "execution_count": 6
        }
      ]
    },
    {
      "cell_type": "code",
      "metadata": {
        "id": "lifYNiZYaFN2",
        "colab_type": "code",
        "colab": {}
      },
      "source": [
        "import pandas as pd\n",
        "import numpy as np"
      ],
      "execution_count": 0,
      "outputs": []
    },
    {
      "cell_type": "code",
      "metadata": {
        "id": "E6R5bA9uaG3L",
        "colab_type": "code",
        "colab": {}
      },
      "source": [
        "\n",
        "url = 'https://archive.ics.uci.edu/ml/machine-learning-databases/voting-records/house-votes-84.data'\n",
        "\n",
        "df = pd.read_csv(url, header=None)\n",
        "\n",
        "columns = ['Class Name', 'handicapped-infants', \n",
        "           'water-project-cost-sharing',\n",
        "           'adoption-of-the-budget-resolution',\n",
        "           'physician-fee-freeze',\n",
        "           'el-salvador-aid',\n",
        "           'religious-groups-in-schools',\n",
        "           'anti-satellite-test-ban', \n",
        "           'aid-to-nicaraguan-contras',\n",
        "           'mx-missile',\n",
        "           'immigration',\n",
        "           'synfuels-corporation-cutback',\n",
        "           'education-spending',\n",
        "           'superfund-right-to-sue',\n",
        "           'crime',\n",
        "           'duty-free-exports',\n",
        "           'export-administration-act-south-africa']\n",
        "df.columns = columns"
      ],
      "execution_count": 0,
      "outputs": []
    },
    {
      "cell_type": "code",
      "metadata": {
        "id": "X9WZg4X_aZJD",
        "colab_type": "code",
        "colab": {}
      },
      "source": [
        "df = df.replace(('y','n', '?'), (1, 0, np.NaN))\n",
        "df=df.fillna(df.mean())\n",
        "dem_mask = df['Class Name'] == 'democrat'\n",
        "df_dems = df[dem_mask]\n",
        "rep_mask = df['Class Name'] == 'republican'\n",
        "df_reps = df[rep_mask]"
      ],
      "execution_count": 0,
      "outputs": []
    },
    {
      "cell_type": "code",
      "metadata": {
        "id": "ixkw1xTMcZDy",
        "colab_type": "code",
        "colab": {}
      },
      "source": [
        ""
      ],
      "execution_count": 0,
      "outputs": []
    },
    {
      "cell_type": "code",
      "metadata": {
        "id": "atAm4gCFafEs",
        "colab_type": "code",
        "colab": {}
      },
      "source": [
        "from scipy import stats"
      ],
      "execution_count": 0,
      "outputs": []
    },
    {
      "cell_type": "code",
      "metadata": {
        "id": "Pj5mfzBHawgc",
        "colab_type": "code",
        "colab": {}
      },
      "source": [
        "rep_arr_crime = df_reps['crime'].values\n",
        "dem_arr_crime = df_dems['crime'].values"
      ],
      "execution_count": 0,
      "outputs": []
    },
    {
      "cell_type": "code",
      "metadata": {
        "id": "LKuulnCMb_Y0",
        "colab_type": "code",
        "colab": {
          "base_uri": "https://localhost:8080/",
          "height": 635
        },
        "outputId": "e3808a3c-8045-434d-a696-dc1539d000bf"
      },
      "source": [
        "rep_arr_crime"
      ],
      "execution_count": 31,
      "outputs": [
        {
          "output_type": "execute_result",
          "data": {
            "text/plain": [
              "array([1.        , 1.        , 1.        , 1.        , 1.        ,\n",
              "       1.        , 0.59330144, 0.59330144, 1.        , 1.        ,\n",
              "       1.        , 1.        , 1.        , 1.        , 1.        ,\n",
              "       1.        , 1.        , 1.        , 1.        , 1.        ,\n",
              "       1.        , 1.        , 1.        , 1.        , 1.        ,\n",
              "       1.        , 1.        , 1.        , 1.        , 1.        ,\n",
              "       1.        , 1.        , 1.        , 1.        , 1.        ,\n",
              "       1.        , 1.        , 1.        , 1.        , 1.        ,\n",
              "       1.        , 1.        , 1.        , 1.        , 1.        ,\n",
              "       1.        , 1.        , 1.        , 1.        , 1.        ,\n",
              "       1.        , 1.        , 1.        , 1.        , 0.        ,\n",
              "       1.        , 1.        , 1.        , 1.        , 1.        ,\n",
              "       1.        , 1.        , 1.        , 1.        , 1.        ,\n",
              "       1.        , 1.        , 1.        , 1.        , 1.        ,\n",
              "       1.        , 1.        , 1.        , 1.        , 1.        ,\n",
              "       1.        , 1.        , 1.        , 1.        , 1.        ,\n",
              "       1.        , 1.        , 1.        , 1.        , 0.59330144,\n",
              "       1.        , 1.        , 1.        , 1.        , 1.        ,\n",
              "       1.        , 1.        , 1.        , 1.        , 0.59330144,\n",
              "       1.        , 1.        , 1.        , 1.        , 1.        ,\n",
              "       1.        , 1.        , 1.        , 1.        , 1.        ,\n",
              "       1.        , 1.        , 1.        , 1.        , 1.        ,\n",
              "       1.        , 0.59330144, 1.        , 1.        , 1.        ,\n",
              "       1.        , 1.        , 1.        , 1.        , 1.        ,\n",
              "       1.        , 1.        , 1.        , 0.59330144, 1.        ,\n",
              "       1.        , 1.        , 1.        , 1.        , 1.        ,\n",
              "       1.        , 1.        , 1.        , 1.        , 1.        ,\n",
              "       1.        , 1.        , 1.        , 1.        , 1.        ,\n",
              "       1.        , 0.        , 1.        , 1.        , 1.        ,\n",
              "       0.59330144, 1.        , 1.        , 1.        , 0.        ,\n",
              "       1.        , 1.        , 1.        , 1.        , 1.        ,\n",
              "       1.        , 1.        , 1.        , 1.        , 1.        ,\n",
              "       1.        , 1.        , 1.        , 1.        , 1.        ,\n",
              "       1.        , 1.        , 1.        ])"
            ]
          },
          "metadata": {
            "tags": []
          },
          "execution_count": 31
        }
      ]
    },
    {
      "cell_type": "code",
      "metadata": {
        "id": "z9HCdG0dcN41",
        "colab_type": "code",
        "colab": {
          "base_uri": "https://localhost:8080/",
          "height": 72
        },
        "outputId": "a2fa5eaf-249d-47d8-9307-908e5a2b9091"
      },
      "source": [
        "stats.bayes_mvs(rep_arr_crime, alpha=0.95)"
      ],
      "execution_count": 32,
      "outputs": [
        {
          "output_type": "execute_result",
          "data": {
            "text/plain": [
              "(Mean(statistic=0.9651970836181363, minmax=(0.9417585340819545, 0.988635633154318)),\n",
              " Variance(statistic=0.023965680212103144, minmax=(0.01932010102772202, 0.029707162775876695)),\n",
              " Std_dev(statistic=0.1545741482465878, minmax=(0.13899676624915425, 0.17235765946390866)))"
            ]
          },
          "metadata": {
            "tags": []
          },
          "execution_count": 32
        }
      ]
    },
    {
      "cell_type": "code",
      "metadata": {
        "id": "ViPZFp9UcwbR",
        "colab_type": "code",
        "colab": {
          "base_uri": "https://localhost:8080/",
          "height": 72
        },
        "outputId": "ec499788-cd79-4f4e-8530-0e056a1290cb"
      },
      "source": [
        "stats.bayes_mvs(dem_arr_crime, alpha=0.95)"
      ],
      "execution_count": 33,
      "outputs": [
        {
          "output_type": "execute_result",
          "data": {
            "text/plain": [
              "(Mean(statistic=0.3592996792287153, minmax=(0.3025259916761121, 0.4160733667813185)),\n",
              " Variance(statistic=0.2236794115443048, minmax=(0.18862013252081036, 0.2651417081251185)),\n",
              " Std_dev(statistic=0.47249992404532587, minmax=(0.4343041935335305, 0.5149191277522311)))"
            ]
          },
          "metadata": {
            "tags": []
          },
          "execution_count": 33
        }
      ]
    },
    {
      "cell_type": "markdown",
      "metadata": {
        "id": "2WD6tngrdVoN",
        "colab_type": "text"
      },
      "source": [
        "###Bayesian Vs Frequentist\n",
        "\n",
        "The difference between frequentist and Bayesian statistics is that frequentist statistics is based on how frequently an event has occurred over the long-term, without attaching a probability to any hypothesis or unknown value. Frequentists define \"probability\" as the number of times that a repeatable random result will occur (ie, a coin flip) over a very large set of events. \n",
        "\n",
        "Bayesian statistics attaches a probability to the uncertainty of any given hypothesis or event, such as an election. This is different because you can't re-run the event to see the result over a large number of chances. "
      ]
    },
    {
      "cell_type": "code",
      "metadata": {
        "id": "qVIe6SCDeaJx",
        "colab_type": "code",
        "colab": {}
      },
      "source": [
        ""
      ],
      "execution_count": 0,
      "outputs": []
    },
    {
      "cell_type": "markdown",
      "metadata": {
        "id": "uWgWjp3PQ3Sq",
        "colab_type": "text"
      },
      "source": [
        "## Resources"
      ]
    },
    {
      "cell_type": "markdown",
      "metadata": {
        "id": "QRgHqmYIQ9qn",
        "colab_type": "text"
      },
      "source": [
        "- [Worked example of Bayes rule calculation](https://en.wikipedia.org/wiki/Bayes'_theorem#Examples) (helpful as it fully breaks out the denominator)\n",
        "- [Source code for mvsdist in scipy](https://github.com/scipy/scipy/blob/90534919e139d2a81c24bf08341734ff41a3db12/scipy/stats/morestats.py#L139)"
      ]
    }
  ]
}