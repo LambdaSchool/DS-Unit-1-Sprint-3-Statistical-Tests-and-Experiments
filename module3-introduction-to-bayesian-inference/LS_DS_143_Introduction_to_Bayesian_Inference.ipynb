{
  "nbformat": 4,
  "nbformat_minor": 0,
  "metadata": {
    "colab": {
      "name": "LS_DS_143_Introduction_to_Bayesian_Inference.ipynb",
      "version": "0.3.2",
      "provenance": [],
      "include_colab_link": true
    },
    "kernelspec": {
      "name": "python3",
      "display_name": "Python 3"
    }
  },
  "cells": [
    {
      "cell_type": "markdown",
      "metadata": {
        "id": "view-in-github",
        "colab_type": "text"
      },
      "source": [
        "<a href=\"https://colab.research.google.com/github/Alex-Witt/DS-Unit-1-Sprint-4-Statistical-Tests-and-Experiments/blob/master/module3-introduction-to-bayesian-inference/LS_DS_143_Introduction_to_Bayesian_Inference.ipynb\" target=\"_parent\"><img src=\"https://colab.research.google.com/assets/colab-badge.svg\" alt=\"Open In Colab\"/></a>"
      ]
    },
    {
      "metadata": {
        "id": "H7OLbevlbd_Z",
        "colab_type": "text"
      },
      "cell_type": "markdown",
      "source": [
        "# Lambda School Data Science Module 143\n",
        "\n",
        "## Introduction to Bayesian Inference\n",
        "\n",
        "!['Detector! What would the Bayesian statistician say if I asked him whether the--' [roll] 'I AM A NEUTRINO DETECTOR, NOT A LABYRINTH GUARD. SERIOUSLY, DID YOUR BRAIN FALL OUT?' [roll] '... yes.'](https://imgs.xkcd.com/comics/frequentists_vs_bayesians.png)\n",
        "\n",
        "*[XKCD 1132](https://www.xkcd.com/1132/)*\n"
      ]
    },
    {
      "metadata": {
        "id": "3mz8p08BsN6p",
        "colab_type": "text"
      },
      "cell_type": "markdown",
      "source": [
        "## Prepare - Bayes' Theorem and the Bayesian mindset"
      ]
    },
    {
      "metadata": {
        "id": "GhycNr-Sbeie",
        "colab_type": "text"
      },
      "cell_type": "markdown",
      "source": [
        "Bayes' theorem possesses a near-mythical quality - a bit of math that somehow magically evaluates a situation. But this mythicalness has more to do with its reputation and advanced applications than the actual core of it - deriving it is actually remarkably straightforward.\n",
        "\n",
        "### The Law of Total Probability\n",
        "\n",
        "By definition, the total probability of all outcomes (events) if some variable (event space) $A$ is 1. That is:\n",
        "\n",
        "$$P(A) = \\sum_n P(A_n) = 1$$\n",
        "\n",
        "The law of total probability takes this further, considering two variables ($A$ and $B$) and relating their marginal probabilities (their likelihoods considered independently, without reference to one another) and their conditional probabilities (their likelihoods considered jointly). A marginal probability is simply notated as e.g. $P(A)$, while a conditional probability is notated $P(A|B)$, which reads \"probability of $A$ *given* $B$\".\n",
        "\n",
        "The law of total probability states:\n",
        "\n",
        "$$P(A) = \\sum_n P(A | B_n) P(B_n)$$\n",
        "\n",
        "In words - the total probability of $A$ is equal to the sum of the conditional probability of $A$ on any given event $B_n$ times the probability of that event $B_n$, and summed over all possible events in $B$.\n",
        "\n",
        "### The Law of Conditional Probability\n",
        "\n",
        "What's the probability of something conditioned on something else? To determine this we have to go back to set theory and think about the intersection of sets:\n",
        "\n",
        "The formula for actual calculation:\n",
        "\n",
        "$$P(A|B) = \\frac{P(A \\cap B)}{P(B)}$$\n",
        "\n",
        "![Visualization of set intersection](https://upload.wikimedia.org/wikipedia/commons/9/99/Venn0001.svg)\n",
        "\n",
        "Think of the overall rectangle as the whole probability space, $A$ as the left circle, $B$ as the right circle, and their intersection as the red area. Try to visualize the ratio being described in the above formula, and how it is different from just the $P(A)$ (not conditioned on $B$).\n",
        "\n",
        "We can see how this relates back to the law of total probability - multiply both sides by $P(B)$ and you get $P(A|B)P(B) = P(A \\cap B)$ - replaced back into the law of total probability we get $P(A) = \\sum_n P(A \\cap B_n)$.\n",
        "\n",
        "This may not seem like an improvement at first, but try to relate it back to the above picture - if you think of sets as physical objects, we're saying that the total probability of $A$ given $B$ is all the little pieces of it intersected with $B$, added together. The conditional probability is then just that again, but divided by the probability of $B$ itself happening in the first place.\n",
        "\n",
        "### Bayes Theorem\n",
        "\n",
        "Here is is, the seemingly magic tool:\n",
        "\n",
        "$$P(A|B) = \\frac{P(B|A)P(A)}{P(B)}$$\n",
        "\n",
        "In words - the probability of $A$ conditioned on $B$ is the probability of $B$ conditioned on $A$, times the probability of $A$ and divided by the probability of $B$. These unconditioned probabilities are referred to as \"prior beliefs\", and the conditioned probabilities as \"updated.\"\n",
        "\n",
        "Why is this important? Scroll back up to the XKCD example - the Bayesian statistician draws a less absurd conclusion because their prior belief in the likelihood that the sun will go nova is extremely low. So, even when updated based on evidence from a detector that is $35/36 = 0.972$ accurate, the prior belief doesn't shift enough to change their overall opinion.\n",
        "\n",
        "There's many examples of Bayes' theorem - one less absurd example is to apply to [breathalyzer tests](https://www.bayestheorem.net/breathalyzer-example/). You may think that a breathalyzer test that is 100% accurate for true positives (detecting somebody who is drunk) is pretty good, but what if it also has 8% false positives (indicating somebody is drunk when they're not)? And furthermore, the rate of drunk driving (and thus our prior belief)  is 1/1000.\n",
        "\n",
        "What is the likelihood somebody really is drunk if they test positive? Some may guess it's 92% - the difference between the true positives and the false positives. But we have a prior belief of the background/true rate of drunk driving. Sounds like a job for Bayes' theorem!\n",
        "\n",
        "$$\n",
        "\\begin{aligned}\n",
        "P(Drunk | Positive) &= \\frac{P(Positive | Drunk)P(Drunk)}{P(Positive)} \\\\\n",
        "&= \\frac{1 \\times 0.001}{0.08} \\\\\n",
        "&= 0.0125\n",
        "\\end{aligned}\n",
        "$$\n",
        "\n",
        "In other words, the likelihood that somebody is drunk given they tested positive with a breathalyzer in this situation is only 1.25% - probably much lower than you'd guess. This is why, in practice, it's important to have a repeated test to confirm (the probability of two false positives in a row is $0.08 * 0.08 = 0.0064$, much lower), and Bayes' theorem has been relevant in court cases where proper consideration of evidence was important."
      ]
    },
    {
      "metadata": {
        "id": "oZoTw8O7PsvY",
        "colab_type": "text"
      },
      "cell_type": "markdown",
      "source": [
        "## Derive Baye's Rule\n",
        "\n",
        "\\begin{align}\n",
        "P(A|B) &= \\frac{P(A \\cap B)}{P(B)}\\\\\n",
        "\\Rightarrow P(A|B)P(B) &= P(A \\cap B)\\\\\n",
        "P(B|A) &= \\frac{P(B \\cap A)}{P(A)}\\\\\n",
        "\\Rightarrow P(B|A)P(A) &= P(B \\cap A)\\\\\n",
        "\\Rightarrow P(A|B)P(B) &= P(B|A)P(A) \\\\\n",
        "P(A \\cap B) &= P(B \\cap A)\\\\\n",
        "P(A|B) &= \\frac{P(B|A) \\times P(A)}{P(B)}\n",
        "\\end{align}"
      ]
    },
    {
      "metadata": {
        "id": "htI3DGvDsRJF",
        "colab_type": "text"
      },
      "cell_type": "markdown",
      "source": [
        "## Live Lecture - Deriving Bayes' Theorem, Calculating Bayesian Confidence"
      ]
    },
    {
      "metadata": {
        "id": "moIJNQ-nbfe_",
        "colab_type": "text"
      },
      "cell_type": "markdown",
      "source": [
        "Notice that $P(A|B)$ appears in the above laws - in Bayesian terms, this is the belief in $A$ updated for the evidence $B$. So all we need to do is solve for this term to derive Bayes' theorem. Let's do it together!"
      ]
    },
    {
      "metadata": {
        "id": "ke-5EqJI0Tsn",
        "colab_type": "code",
        "colab": {}
      },
      "cell_type": "code",
      "source": [
        "# Activity 2 - Use SciPy to calculate Bayesian confidence intervals\n",
        "# https://docs.scipy.org/doc/scipy/reference/generated/scipy.stats.bayes_mvs.html#scipy.stats.bayes_mvs"
      ],
      "execution_count": 0,
      "outputs": []
    },
    {
      "metadata": {
        "id": "R9SgrMKpPKXr",
        "colab_type": "code",
        "colab": {
          "base_uri": "https://localhost:8080/",
          "height": 68
        },
        "outputId": "4a8bcdbc-e1e5-4499-a280-55e826b5ad2d"
      },
      "cell_type": "code",
      "source": [
        "from scipy import stats\n",
        "import numpy as np\n",
        "\n",
        "\n",
        "np.random.seed(seed=42)\n",
        "coinflips = np.random.binomial(n=1, p=.5, size = 100)\n",
        "\n",
        "print(coinflips)\n"
      ],
      "execution_count": 5,
      "outputs": [
        {
          "output_type": "stream",
          "text": [
            "[0 1 1 1 0 0 0 1 1 1 0 1 1 0 0 0 0 1 0 0 1 0 0 0 0 1 0 1 1 0 1 0 0 1 1 1 0\n",
            " 0 1 0 0 0 0 1 0 1 0 1 1 0 1 1 1 1 1 1 0 0 0 0 0 0 1 0 0 1 0 1 0 1 1 0 0 1\n",
            " 1 1 1 0 0 0 1 1 0 0 0 0 1 1 1 0 0 1 1 1 1 0 1 0 0 0]\n"
          ],
          "name": "stdout"
        }
      ]
    },
    {
      "metadata": {
        "id": "O5WNOBcDS9H3",
        "colab_type": "code",
        "colab": {}
      },
      "cell_type": "code",
      "source": [
        "def confidence_interval(data, confidence =.95):\n",
        "  n = len(data)\n",
        "  mean = sum(data)/n\n",
        "  data = np.array(data)\n",
        "  stderr = stats.sem(data)\n",
        "  interval = stderr * stats.t.ppf((1 + confidence) /2.0, n-1)\n",
        "  return(mean, mean-interval, mean+interval)\n",
        "  \n",
        "  \n"
      ],
      "execution_count": 0,
      "outputs": []
    },
    {
      "metadata": {
        "id": "qj4fuh-bUmKr",
        "colab_type": "code",
        "colab": {
          "base_uri": "https://localhost:8080/",
          "height": 34
        },
        "outputId": "dee15ed5-217d-46d8-8423-24f87a30698a"
      },
      "cell_type": "code",
      "source": [
        "confidence_interval(coinflips)"
      ],
      "execution_count": 7,
      "outputs": [
        {
          "output_type": "execute_result",
          "data": {
            "text/plain": [
              "(0.47, 0.3704689875017368, 0.5695310124982632)"
            ]
          },
          "metadata": {
            "tags": []
          },
          "execution_count": 7
        }
      ]
    },
    {
      "metadata": {
        "id": "YLyFfoq1VAnd",
        "colab_type": "code",
        "colab": {
          "base_uri": "https://localhost:8080/",
          "height": 1516
        },
        "outputId": "20bf9d79-bc1a-4832-bcbe-de2817e097fa"
      },
      "cell_type": "code",
      "source": [
        "help(stats.bayes_mvs)"
      ],
      "execution_count": 8,
      "outputs": [
        {
          "output_type": "stream",
          "text": [
            "Help on function bayes_mvs in module scipy.stats.morestats:\n",
            "\n",
            "bayes_mvs(data, alpha=0.9)\n",
            "    Bayesian confidence intervals for the mean, var, and std.\n",
            "    \n",
            "    Parameters\n",
            "    ----------\n",
            "    data : array_like\n",
            "        Input data, if multi-dimensional it is flattened to 1-D by `bayes_mvs`.\n",
            "        Requires 2 or more data points.\n",
            "    alpha : float, optional\n",
            "        Probability that the returned confidence interval contains\n",
            "        the true parameter.\n",
            "    \n",
            "    Returns\n",
            "    -------\n",
            "    mean_cntr, var_cntr, std_cntr : tuple\n",
            "        The three results are for the mean, variance and standard deviation,\n",
            "        respectively.  Each result is a tuple of the form::\n",
            "    \n",
            "            (center, (lower, upper))\n",
            "    \n",
            "        with `center` the mean of the conditional pdf of the value given the\n",
            "        data, and `(lower, upper)` a confidence interval, centered on the\n",
            "        median, containing the estimate to a probability ``alpha``.\n",
            "    \n",
            "    See Also\n",
            "    --------\n",
            "    mvsdist\n",
            "    \n",
            "    Notes\n",
            "    -----\n",
            "    Each tuple of mean, variance, and standard deviation estimates represent\n",
            "    the (center, (lower, upper)) with center the mean of the conditional pdf\n",
            "    of the value given the data and (lower, upper) is a confidence interval\n",
            "    centered on the median, containing the estimate to a probability\n",
            "    ``alpha``.\n",
            "    \n",
            "    Converts data to 1-D and assumes all data has the same mean and variance.\n",
            "    Uses Jeffrey's prior for variance and std.\n",
            "    \n",
            "    Equivalent to ``tuple((x.mean(), x.interval(alpha)) for x in mvsdist(dat))``\n",
            "    \n",
            "    References\n",
            "    ----------\n",
            "    T.E. Oliphant, \"A Bayesian perspective on estimating mean, variance, and\n",
            "    standard-deviation from data\", http://scholarsarchive.byu.edu/facpub/278,\n",
            "    2006.\n",
            "    \n",
            "    Examples\n",
            "    --------\n",
            "    First a basic example to demonstrate the outputs:\n",
            "    \n",
            "    >>> from scipy import stats\n",
            "    >>> data = [6, 9, 12, 7, 8, 8, 13]\n",
            "    >>> mean, var, std = stats.bayes_mvs(data)\n",
            "    >>> mean\n",
            "    Mean(statistic=9.0, minmax=(7.103650222612533, 10.896349777387467))\n",
            "    >>> var\n",
            "    Variance(statistic=10.0, minmax=(3.176724206..., 24.45910382...))\n",
            "    >>> std\n",
            "    Std_dev(statistic=2.9724954732045084, minmax=(1.7823367265645143, 4.945614605014631))\n",
            "    \n",
            "    Now we generate some normally distributed random data, and get estimates of\n",
            "    mean and standard deviation with 95% confidence intervals for those\n",
            "    estimates:\n",
            "    \n",
            "    >>> n_samples = 100000\n",
            "    >>> data = stats.norm.rvs(size=n_samples)\n",
            "    >>> res_mean, res_var, res_std = stats.bayes_mvs(data, alpha=0.95)\n",
            "    \n",
            "    >>> import matplotlib.pyplot as plt\n",
            "    >>> fig = plt.figure()\n",
            "    >>> ax = fig.add_subplot(111)\n",
            "    >>> ax.hist(data, bins=100, density=True, label='Histogram of data')\n",
            "    >>> ax.vlines(res_mean.statistic, 0, 0.5, colors='r', label='Estimated mean')\n",
            "    >>> ax.axvspan(res_mean.minmax[0],res_mean.minmax[1], facecolor='r',\n",
            "    ...            alpha=0.2, label=r'Estimated mean (95% limits)')\n",
            "    >>> ax.vlines(res_std.statistic, 0, 0.5, colors='g', label='Estimated scale')\n",
            "    >>> ax.axvspan(res_std.minmax[0],res_std.minmax[1], facecolor='g', alpha=0.2,\n",
            "    ...            label=r'Estimated scale (95% limits)')\n",
            "    \n",
            "    >>> ax.legend(fontsize=10)\n",
            "    >>> ax.set_xlim([-4, 4])\n",
            "    >>> ax.set_ylim([0, 0.5])\n",
            "    >>> plt.show()\n",
            "\n"
          ],
          "name": "stdout"
        }
      ]
    },
    {
      "metadata": {
        "id": "vijy3HOFVQ_0",
        "colab_type": "code",
        "colab": {
          "base_uri": "https://localhost:8080/",
          "height": 88
        },
        "outputId": "f541a62b-8591-46be-9f46-114c45296323"
      },
      "cell_type": "code",
      "source": [
        "stats.bayes_mvs(coinflips, alpha = .95)"
      ],
      "execution_count": 9,
      "outputs": [
        {
          "output_type": "execute_result",
          "data": {
            "text/plain": [
              "(Mean(statistic=0.47, minmax=(0.37046898750173674, 0.5695310124982632)),\n",
              " Variance(statistic=0.25680412371134015, minmax=(0.1939698977025208, 0.3395533426586547)),\n",
              " Std_dev(statistic=0.5054540733507159, minmax=(0.44042013771229943, 0.5827120581030176)))"
            ]
          },
          "metadata": {
            "tags": []
          },
          "execution_count": 9
        }
      ]
    },
    {
      "metadata": {
        "id": "c3_vuZpkXzgE",
        "colab_type": "code",
        "colab": {
          "base_uri": "https://localhost:8080/",
          "height": 34
        },
        "outputId": "6233deaf-34a8-4018-829e-7de7c735c5d0"
      },
      "cell_type": "code",
      "source": [
        "coinflips_mean_dist, _, _ = stats.mvsdist(coinflips)\n",
        "coinflips_mean_dist"
      ],
      "execution_count": 10,
      "outputs": [
        {
          "output_type": "execute_result",
          "data": {
            "text/plain": [
              "<scipy.stats._distn_infrastructure.rv_frozen at 0x7f775cd09828>"
            ]
          },
          "metadata": {
            "tags": []
          },
          "execution_count": 10
        }
      ]
    },
    {
      "metadata": {
        "id": "yKLWX7tPX1Es",
        "colab_type": "code",
        "colab": {
          "base_uri": "https://localhost:8080/",
          "height": 1054
        },
        "outputId": "37599fad-4bc7-465d-8520-c00e50824cee"
      },
      "cell_type": "code",
      "source": [
        "help(stats._distn_infrastructure.rv_frozen)"
      ],
      "execution_count": 11,
      "outputs": [
        {
          "output_type": "stream",
          "text": [
            "Help on class rv_frozen in module scipy.stats._distn_infrastructure:\n",
            "\n",
            "class rv_frozen(builtins.object)\n",
            " |  # Frozen RV class\n",
            " |  \n",
            " |  Methods defined here:\n",
            " |  \n",
            " |  __init__(self, dist, *args, **kwds)\n",
            " |      Initialize self.  See help(type(self)) for accurate signature.\n",
            " |  \n",
            " |  cdf(self, x)\n",
            " |  \n",
            " |  entropy(self)\n",
            " |  \n",
            " |  expect(self, func=None, lb=None, ub=None, conditional=False, **kwds)\n",
            " |  \n",
            " |  interval(self, alpha)\n",
            " |  \n",
            " |  isf(self, q)\n",
            " |  \n",
            " |  logcdf(self, x)\n",
            " |  \n",
            " |  logpdf(self, x)\n",
            " |  \n",
            " |  logpmf(self, k)\n",
            " |  \n",
            " |  logsf(self, x)\n",
            " |  \n",
            " |  mean(self)\n",
            " |  \n",
            " |  median(self)\n",
            " |  \n",
            " |  moment(self, n)\n",
            " |  \n",
            " |  pdf(self, x)\n",
            " |  \n",
            " |  pmf(self, k)\n",
            " |  \n",
            " |  ppf(self, q)\n",
            " |  \n",
            " |  rvs(self, size=None, random_state=None)\n",
            " |  \n",
            " |  sf(self, x)\n",
            " |  \n",
            " |  stats(self, moments='mv')\n",
            " |  \n",
            " |  std(self)\n",
            " |  \n",
            " |  var(self)\n",
            " |  \n",
            " |  ----------------------------------------------------------------------\n",
            " |  Data descriptors defined here:\n",
            " |  \n",
            " |  __dict__\n",
            " |      dictionary for instance variables (if defined)\n",
            " |  \n",
            " |  __weakref__\n",
            " |      list of weak references to the object (if defined)\n",
            " |  \n",
            " |  random_state\n",
            "\n"
          ],
          "name": "stdout"
        }
      ]
    },
    {
      "metadata": {
        "id": "JUrock3pX0-L",
        "colab_type": "code",
        "colab": {
          "base_uri": "https://localhost:8080/",
          "height": 357
        },
        "outputId": "93700f01-482c-4541-95ae-cd98130bdf4a"
      },
      "cell_type": "code",
      "source": [
        "#Bootstrapping new data from existing data!\n",
        "\n",
        "coinflips_mean_dist.rvs(100)"
      ],
      "execution_count": 12,
      "outputs": [
        {
          "output_type": "execute_result",
          "data": {
            "text/plain": [
              "array([0.47447628, 0.51541425, 0.54722018, 0.4589882 , 0.51501386,\n",
              "       0.53819192, 0.43382292, 0.53546659, 0.47026173, 0.44967562,\n",
              "       0.4621107 , 0.42691904, 0.37324325, 0.47531437, 0.46052277,\n",
              "       0.48711257, 0.52456771, 0.43332181, 0.49545882, 0.44671454,\n",
              "       0.47520117, 0.47047251, 0.41828918, 0.50159477, 0.42965501,\n",
              "       0.45273383, 0.48045849, 0.45342529, 0.48238344, 0.53966291,\n",
              "       0.48230241, 0.48073422, 0.48553525, 0.47962228, 0.41274185,\n",
              "       0.42892633, 0.5170948 , 0.42678096, 0.42249309, 0.51499109,\n",
              "       0.47059199, 0.39903942, 0.41790336, 0.46406817, 0.42232382,\n",
              "       0.42163269, 0.47848227, 0.48232842, 0.4731858 , 0.51077244,\n",
              "       0.3957508 , 0.48504646, 0.49014295, 0.53252732, 0.45495376,\n",
              "       0.47883978, 0.60393033, 0.4492549 , 0.44797902, 0.54782121,\n",
              "       0.43380002, 0.5760073 , 0.36941266, 0.44467418, 0.4939245 ,\n",
              "       0.45278835, 0.55635162, 0.48695459, 0.39080983, 0.45948606,\n",
              "       0.2941779 , 0.35950718, 0.44805696, 0.4725126 , 0.42218381,\n",
              "       0.45985418, 0.47545393, 0.44317753, 0.46267013, 0.4458753 ,\n",
              "       0.44204707, 0.51334913, 0.50914181, 0.49923748, 0.46895674,\n",
              "       0.43892798, 0.45984946, 0.44984632, 0.53560791, 0.45865723,\n",
              "       0.48646824, 0.55937503, 0.41464303, 0.50701457, 0.46934196,\n",
              "       0.37681534, 0.42748113, 0.49812825, 0.48278895, 0.4964763 ])"
            ]
          },
          "metadata": {
            "tags": []
          },
          "execution_count": 12
        }
      ]
    },
    {
      "metadata": {
        "id": "P-DzzRk5bf0z",
        "colab_type": "text"
      },
      "cell_type": "markdown",
      "source": [
        "## Assignment - Code it up!\n",
        "\n",
        "Most of the above was pure math - now write Python code to reproduce the results! This is purposefully open ended - you'll have to think about how you should represent probabilities and events. You can and should look things up, and as a stretch goal - refactor your code into helpful reusable functions!\n",
        "\n",
        "Specific goals/targets:\n",
        "\n",
        "1. Write a function `def prob_drunk_given_positive(prob_drunk_prior, prob_positive, prob_positive_drunk)` that reproduces the example from lecture, and use it to calculate and visualize a range of situations\n",
        "2. Explore `scipy.stats.bayes_mvs` - read its documentation, and experiment with it on data you've tested in other ways earlier this week\n",
        "3. Create a visualization comparing the results of a Bayesian approach to a traditional/frequentist approach\n",
        "4. In your own words, summarize the difference between Bayesian and Frequentist statistics\n",
        "\n",
        "If you're unsure where to start, check out [this blog post of Bayes theorem with Python](https://dataconomy.com/2015/02/introduction-to-bayes-theorem-with-python/) - you could and should create something similar!\n",
        "\n",
        "Stretch goals:\n",
        "\n",
        "- Apply a Bayesian technique to a problem you previously worked (in an assignment or project work) on from a frequentist (standard) perspective\n",
        "- Check out [PyMC3](https://docs.pymc.io/) (note this goes beyond hypothesis tests into modeling) - read the guides and work through some examples\n",
        "- Take PyMC3 further - see if you can build something with it!"
      ]
    },
    {
      "metadata": {
        "id": "14lfgY3ITVzm",
        "colab_type": "text"
      },
      "cell_type": "markdown",
      "source": [
        "### Imports"
      ]
    },
    {
      "metadata": {
        "id": "xpVhZyUnbf7o",
        "colab_type": "code",
        "colab": {}
      },
      "cell_type": "code",
      "source": [
        "import matplotlib.pyplot as plt\n",
        "import pandas as pd\n",
        "import numpy as np\n",
        "\n",
        "from scipy import stats"
      ],
      "execution_count": 0,
      "outputs": []
    },
    {
      "metadata": {
        "id": "6r8msxhoTXej",
        "colab_type": "text"
      },
      "cell_type": "markdown",
      "source": [
        "### Drunk Driving"
      ]
    },
    {
      "metadata": {
        "id": "HzoOyAu8TZBz",
        "colab_type": "text"
      },
      "cell_type": "markdown",
      "source": [
        "## Comparison to Other Work\n",
        "\n",
        "I'm going to pull my work from yesterday's assignment. I'm going to compare the confidence intervals of both parties, and plot them back to back."
      ]
    },
    {
      "metadata": {
        "id": "7d4bme4TTg63",
        "colab_type": "text"
      },
      "cell_type": "markdown",
      "source": [
        "### Data Management"
      ]
    },
    {
      "metadata": {
        "id": "9Nfab6d3TUqG",
        "colab_type": "code",
        "colab": {
          "base_uri": "https://localhost:8080/",
          "height": 241
        },
        "outputId": "b46b57e1-40c7-43d9-e7ed-146ff695f9f9"
      },
      "cell_type": "code",
      "source": [
        "df = pd.read_csv('https://www.dropbox.com/s/eykydmqlt003trd/house-votes-84.data?dl=1', \n",
        "                 na_values = ['?'] , \n",
        "                 header = None,\n",
        "                 names = ['Party','handicapped-infants','water',\n",
        "                          'budget','health_costs',\n",
        "                          'el_salvador','religious_groups_in_school','anti_satellite_wep',\n",
        "                          'contra','mx_missile','immigration',\n",
        "                          'synfuel','education',\n",
        "                          'superfund','crime','duty_free_export',\n",
        "                          'south_africa'])\n",
        "\n",
        "df = df.replace({'n': 0 , 'y': 1})\n",
        "\n",
        "dem = df.loc[df['Party'] == 'democrat']\n",
        "rep = df.loc[df['Party'] == 'republican']\n",
        "\n",
        "df.head()"
      ],
      "execution_count": 14,
      "outputs": [
        {
          "output_type": "execute_result",
          "data": {
            "text/html": [
              "<div>\n",
              "<style scoped>\n",
              "    .dataframe tbody tr th:only-of-type {\n",
              "        vertical-align: middle;\n",
              "    }\n",
              "\n",
              "    .dataframe tbody tr th {\n",
              "        vertical-align: top;\n",
              "    }\n",
              "\n",
              "    .dataframe thead th {\n",
              "        text-align: right;\n",
              "    }\n",
              "</style>\n",
              "<table border=\"1\" class=\"dataframe\">\n",
              "  <thead>\n",
              "    <tr style=\"text-align: right;\">\n",
              "      <th></th>\n",
              "      <th>Party</th>\n",
              "      <th>handicapped-infants</th>\n",
              "      <th>water</th>\n",
              "      <th>budget</th>\n",
              "      <th>health_costs</th>\n",
              "      <th>el_salvador</th>\n",
              "      <th>religious_groups_in_school</th>\n",
              "      <th>anti_satellite_wep</th>\n",
              "      <th>contra</th>\n",
              "      <th>mx_missile</th>\n",
              "      <th>immigration</th>\n",
              "      <th>synfuel</th>\n",
              "      <th>education</th>\n",
              "      <th>superfund</th>\n",
              "      <th>crime</th>\n",
              "      <th>duty_free_export</th>\n",
              "      <th>south_africa</th>\n",
              "    </tr>\n",
              "  </thead>\n",
              "  <tbody>\n",
              "    <tr>\n",
              "      <th>0</th>\n",
              "      <td>republican</td>\n",
              "      <td>0.0</td>\n",
              "      <td>1.0</td>\n",
              "      <td>0.0</td>\n",
              "      <td>1.0</td>\n",
              "      <td>1.0</td>\n",
              "      <td>1.0</td>\n",
              "      <td>0.0</td>\n",
              "      <td>0.0</td>\n",
              "      <td>0.0</td>\n",
              "      <td>1.0</td>\n",
              "      <td>NaN</td>\n",
              "      <td>1.0</td>\n",
              "      <td>1.0</td>\n",
              "      <td>1.0</td>\n",
              "      <td>0.0</td>\n",
              "      <td>1.0</td>\n",
              "    </tr>\n",
              "    <tr>\n",
              "      <th>1</th>\n",
              "      <td>republican</td>\n",
              "      <td>0.0</td>\n",
              "      <td>1.0</td>\n",
              "      <td>0.0</td>\n",
              "      <td>1.0</td>\n",
              "      <td>1.0</td>\n",
              "      <td>1.0</td>\n",
              "      <td>0.0</td>\n",
              "      <td>0.0</td>\n",
              "      <td>0.0</td>\n",
              "      <td>0.0</td>\n",
              "      <td>0.0</td>\n",
              "      <td>1.0</td>\n",
              "      <td>1.0</td>\n",
              "      <td>1.0</td>\n",
              "      <td>0.0</td>\n",
              "      <td>NaN</td>\n",
              "    </tr>\n",
              "    <tr>\n",
              "      <th>2</th>\n",
              "      <td>democrat</td>\n",
              "      <td>NaN</td>\n",
              "      <td>1.0</td>\n",
              "      <td>1.0</td>\n",
              "      <td>NaN</td>\n",
              "      <td>1.0</td>\n",
              "      <td>1.0</td>\n",
              "      <td>0.0</td>\n",
              "      <td>0.0</td>\n",
              "      <td>0.0</td>\n",
              "      <td>0.0</td>\n",
              "      <td>1.0</td>\n",
              "      <td>0.0</td>\n",
              "      <td>1.0</td>\n",
              "      <td>1.0</td>\n",
              "      <td>0.0</td>\n",
              "      <td>0.0</td>\n",
              "    </tr>\n",
              "    <tr>\n",
              "      <th>3</th>\n",
              "      <td>democrat</td>\n",
              "      <td>0.0</td>\n",
              "      <td>1.0</td>\n",
              "      <td>1.0</td>\n",
              "      <td>0.0</td>\n",
              "      <td>NaN</td>\n",
              "      <td>1.0</td>\n",
              "      <td>0.0</td>\n",
              "      <td>0.0</td>\n",
              "      <td>0.0</td>\n",
              "      <td>0.0</td>\n",
              "      <td>1.0</td>\n",
              "      <td>0.0</td>\n",
              "      <td>1.0</td>\n",
              "      <td>0.0</td>\n",
              "      <td>0.0</td>\n",
              "      <td>1.0</td>\n",
              "    </tr>\n",
              "    <tr>\n",
              "      <th>4</th>\n",
              "      <td>democrat</td>\n",
              "      <td>1.0</td>\n",
              "      <td>1.0</td>\n",
              "      <td>1.0</td>\n",
              "      <td>0.0</td>\n",
              "      <td>1.0</td>\n",
              "      <td>1.0</td>\n",
              "      <td>0.0</td>\n",
              "      <td>0.0</td>\n",
              "      <td>0.0</td>\n",
              "      <td>0.0</td>\n",
              "      <td>1.0</td>\n",
              "      <td>NaN</td>\n",
              "      <td>1.0</td>\n",
              "      <td>1.0</td>\n",
              "      <td>1.0</td>\n",
              "      <td>1.0</td>\n",
              "    </tr>\n",
              "  </tbody>\n",
              "</table>\n",
              "</div>"
            ],
            "text/plain": [
              "        Party  handicapped-infants  water  budget  health_costs  el_salvador  \\\n",
              "0  republican                  0.0    1.0     0.0           1.0          1.0   \n",
              "1  republican                  0.0    1.0     0.0           1.0          1.0   \n",
              "2    democrat                  NaN    1.0     1.0           NaN          1.0   \n",
              "3    democrat                  0.0    1.0     1.0           0.0          NaN   \n",
              "4    democrat                  1.0    1.0     1.0           0.0          1.0   \n",
              "\n",
              "   religious_groups_in_school  anti_satellite_wep  contra  mx_missile  \\\n",
              "0                         1.0                 0.0     0.0         0.0   \n",
              "1                         1.0                 0.0     0.0         0.0   \n",
              "2                         1.0                 0.0     0.0         0.0   \n",
              "3                         1.0                 0.0     0.0         0.0   \n",
              "4                         1.0                 0.0     0.0         0.0   \n",
              "\n",
              "   immigration  synfuel  education  superfund  crime  duty_free_export  \\\n",
              "0          1.0      NaN        1.0        1.0    1.0               0.0   \n",
              "1          0.0      0.0        1.0        1.0    1.0               0.0   \n",
              "2          0.0      1.0        0.0        1.0    1.0               0.0   \n",
              "3          0.0      1.0        0.0        1.0    0.0               0.0   \n",
              "4          0.0      1.0        NaN        1.0    1.0               1.0   \n",
              "\n",
              "   south_africa  \n",
              "0           1.0  \n",
              "1           NaN  \n",
              "2           0.0  \n",
              "3           1.0  \n",
              "4           1.0  "
            ]
          },
          "metadata": {
            "tags": []
          },
          "execution_count": 14
        }
      ]
    },
    {
      "metadata": {
        "id": "LmqyBEqATpDR",
        "colab_type": "code",
        "colab": {}
      },
      "cell_type": "code",
      "source": [
        "#I'm going to establish some lists and variables to use later. \n",
        "\n",
        "bills = ['handicapped-infants', 'water', 'budget', 'health_costs',\n",
        "       'el_salvador', 'religious_groups_in_school', 'anti_satellite_wep',\n",
        "       'contra', 'mx_missile', 'immigration', 'synfuel', 'education',\n",
        "       'superfund', 'crime', 'duty_free_export', 'south_africa']\n",
        "parties = ['republicans','democrats']\n",
        "\n",
        "upper_hypothesis = 80    # Upper Null Hypothesis for Bills a party supports \n",
        "lower_hypothesis = 20    # Lower Null Hypothesis for Bills a Party opposes\n"
      ],
      "execution_count": 0,
      "outputs": []
    },
    {
      "metadata": {
        "id": "07ll1xwITszc",
        "colab_type": "code",
        "colab": {}
      },
      "cell_type": "code",
      "source": [
        "def confidence_interval(data, confidence=.95):\n",
        "  n = len(data)\n",
        "  mean = sum(data)/n\n",
        "  data = np.array(data)\n",
        "  stderr = stats.sem(data)\n",
        "  interval = stderr * stats.t.ppf((1 + confidence) / 2.0, n-1)\n",
        "  return (mean , mean-interval, mean+interval)\n",
        "\n",
        "def f_conf (party, bill):    # This function to call a function just adds the dropna\n",
        "  r = confidence_interval(party[bill].dropna())   \n",
        "  return r      \n",
        "\n",
        "def b_conf (party,bill):\n",
        "  b = stats.bayes_mvs(party[bill].dropna(), alpha = .95)\n",
        "  return b\n"
      ],
      "execution_count": 0,
      "outputs": []
    },
    {
      "metadata": {
        "id": "tjmiFt4NTuZi",
        "colab_type": "code",
        "colab": {}
      },
      "cell_type": "code",
      "source": [
        "## This is my frequentist Dataframe\n",
        "\n",
        "\n",
        "r_upper = []        # Creating a bunch of lists to append\n",
        "r_lower = []        # These will be used as my columns in a new Dataframe\n",
        "r_mean = []\n",
        "\n",
        "d_upper = []\n",
        "d_lower = []\n",
        "d_mean = []\n",
        "\n",
        "\n",
        "for bill in bills:\n",
        "                  #I also want to bring the values up to percentages. It looks nicer. \n",
        "  r_upper.append(f_conf(rep,bill)[2]*100)\n",
        "  r_lower.append(f_conf(rep,bill)[1]*100)\n",
        "  r_mean.append(f_conf(rep,bill)[0]*100)\n",
        "    \n",
        "  d_upper.append(f_conf(dem,bill)[2]*100)\n",
        "  d_lower.append(f_conf(dem,bill)[1]*100)\n",
        "  d_mean.append(f_conf(dem,bill)[0]*100)\n",
        "\n",
        "\n",
        "    ### New Dataframe with Confidence Intervals \n",
        "\n",
        "vc = pd.DataFrame({\"Bill\": bills, 'R Upper Limit': r_upper, 'R Lower Limit': r_lower, \n",
        "                   'Republican Support': r_mean, 'D Upper Limit': d_upper, 'D Lower Limit': d_lower, \n",
        "                   'Democrat Support': d_mean, \"Null Hypothesis Rejected\": True})  \n",
        "    \n",
        "  # I also want to create a Null Hypothesis Rejected column to be appended below. \n",
        "\n",
        "names = []\n",
        "       ##This list is setting up my condition for determining if the null hypothesis is rejected. \n",
        "names.append(vc[(upper_hypothesis <= vc['D Upper Limit']) &\n",
        "                (vc['D Lower Limit'] <= upper_hypothesis)].Bill.tolist())\n",
        "names.append((vc[(lower_hypothesis <= vc['D Upper Limit']) &\n",
        "                 (vc['D Lower Limit'] <= lower_hypothesis)]).Bill.tolist())\n",
        "names.append((vc[(upper_hypothesis <= vc['R Upper Limit']) &\n",
        "                 (vc['R Lower Limit'] <= upper_hypothesis)]).Bill.tolist())\n",
        "names.append((vc[(lower_hypothesis <= vc['R Upper Limit']) &\n",
        "                 (vc['R Lower Limit'] <= lower_hypothesis)]).Bill.tolist())\n",
        "\n",
        "flat_list = []  ## The above method creates a list of lists. This flattens the list\n",
        "for sublist in names:\n",
        "    for item in sublist:\n",
        "        flat_list.append(item)\n",
        "        \n",
        "names = list(set(flat_list))   ##This returns only unique values in my list. \n",
        "\n",
        "   ## Now to replace True values with False where the Null Hypothesis is not rejected. \n",
        "vc.loc[vc['Bill'].isin(names), \"Null Hypothesis Rejected\"] = False  \n",
        "\n"
      ],
      "execution_count": 0,
      "outputs": []
    },
    {
      "metadata": {
        "id": "q0XAwZzbUae-",
        "colab_type": "code",
        "colab": {}
      },
      "cell_type": "code",
      "source": [
        "#This is my Baysian Dataframe\n",
        "\n",
        "r_upper = []        # Creating a bunch of lists to append\n",
        "r_lower = []        # These will be used as my columns in a new Dataframe\n",
        "r_mean = []\n",
        "\n",
        "d_upper = []\n",
        "d_lower = []\n",
        "d_mean = []\n",
        "\n",
        "\n",
        "for bill in bills:\n",
        "                  #I also want to bring the values up to percentages. It looks nicer. \n",
        "  r_upper.append(b_conf(rep,bill)[0][1][1]*100)\n",
        "  r_lower.append(b_conf(rep,bill)[0][1][0]*100)\n",
        "  r_mean.append(b_conf(rep,bill)[0][0]*100)\n",
        "    \n",
        "  d_upper.append(b_conf(dem,bill)[0][1][1]*100)\n",
        "  d_lower.append(b_conf(dem,bill)[0][1][0]*100)\n",
        "  d_mean.append(b_conf(dem,bill)[0][0]*100)\n",
        "\n",
        "\n",
        "    ### New Dataframe with Confidence Intervals \n",
        "\n",
        "bays = pd.DataFrame({\"Bill\": bills, 'R Upper Limit': r_upper, 'R Lower Limit': r_lower, \n",
        "                   'Republican Support': r_mean, 'D Upper Limit': d_upper, 'D Lower Limit': d_lower, \n",
        "                   'Democrat Support': d_mean, \"Null Hypothesis Rejected\": True})  \n",
        "    \n",
        "  # I also want to create a Null Hypothesis Rejected column to be appended below. \n",
        "\n",
        "names = []\n",
        "       ##This list is setting up my condition for determining if the null hypothesis is rejected. \n",
        "names.append(bays[(upper_hypothesis <= bays['D Upper Limit']) &\n",
        "                (vc['D Lower Limit'] <= upper_hypothesis)].Bill.tolist())\n",
        "names.append((bays[(lower_hypothesis <= bays['D Upper Limit']) &\n",
        "                 (bays['D Lower Limit'] <= lower_hypothesis)]).Bill.tolist())\n",
        "names.append((bays[(upper_hypothesis <= bays['R Upper Limit']) &\n",
        "                 (bays['R Lower Limit'] <= upper_hypothesis)]).Bill.tolist())\n",
        "names.append((bays[(lower_hypothesis <= bays['R Upper Limit']) &\n",
        "                 (bays['R Lower Limit'] <= lower_hypothesis)]).Bill.tolist())\n",
        "\n",
        "flat_list = []  ## The above method creates a list of lists. This flattens the list\n",
        "for sublist in names:\n",
        "    for item in sublist:\n",
        "        flat_list.append(item)\n",
        "        \n",
        "names = list(set(flat_list))   ##This returns only unique values in my list. \n",
        "\n",
        "   ## Now to replace True values with False where the Null Hypothesis is not rejected. \n",
        "bays.loc[vc['Bill'].isin(names), \"Null Hypothesis Rejected\"] = False  \n",
        "\n"
      ],
      "execution_count": 0,
      "outputs": []
    },
    {
      "metadata": {
        "id": "CqywOveDU48d",
        "colab_type": "text"
      },
      "cell_type": "markdown",
      "source": [
        "### Let's check the results:"
      ]
    },
    {
      "metadata": {
        "id": "yftulfCLUmNC",
        "colab_type": "code",
        "colab": {
          "base_uri": "https://localhost:8080/",
          "height": 599
        },
        "outputId": "4314cf50-6f7a-4fd2-e2dc-0854bb78f119"
      },
      "cell_type": "code",
      "source": [
        "vc"
      ],
      "execution_count": 19,
      "outputs": [
        {
          "output_type": "execute_result",
          "data": {
            "text/html": [
              "<div>\n",
              "<style scoped>\n",
              "    .dataframe tbody tr th:only-of-type {\n",
              "        vertical-align: middle;\n",
              "    }\n",
              "\n",
              "    .dataframe tbody tr th {\n",
              "        vertical-align: top;\n",
              "    }\n",
              "\n",
              "    .dataframe thead th {\n",
              "        text-align: right;\n",
              "    }\n",
              "</style>\n",
              "<table border=\"1\" class=\"dataframe\">\n",
              "  <thead>\n",
              "    <tr style=\"text-align: right;\">\n",
              "      <th></th>\n",
              "      <th>Bill</th>\n",
              "      <th>D Lower Limit</th>\n",
              "      <th>D Upper Limit</th>\n",
              "      <th>Democrat Support</th>\n",
              "      <th>Null Hypothesis Rejected</th>\n",
              "      <th>R Lower Limit</th>\n",
              "      <th>R Upper Limit</th>\n",
              "      <th>Republican Support</th>\n",
              "    </tr>\n",
              "  </thead>\n",
              "  <tbody>\n",
              "    <tr>\n",
              "      <th>0</th>\n",
              "      <td>handicapped-infants</td>\n",
              "      <td>54.459270</td>\n",
              "      <td>66.470963</td>\n",
              "      <td>60.465116</td>\n",
              "      <td>False</td>\n",
              "      <td>12.765166</td>\n",
              "      <td>24.810591</td>\n",
              "      <td>18.787879</td>\n",
              "    </tr>\n",
              "    <tr>\n",
              "      <th>1</th>\n",
              "      <td>water</td>\n",
              "      <td>43.824514</td>\n",
              "      <td>56.593896</td>\n",
              "      <td>50.209205</td>\n",
              "      <td>True</td>\n",
              "      <td>42.526571</td>\n",
              "      <td>58.824780</td>\n",
              "      <td>50.675676</td>\n",
              "    </tr>\n",
              "    <tr>\n",
              "      <th>2</th>\n",
              "      <td>budget</td>\n",
              "      <td>84.994352</td>\n",
              "      <td>92.697956</td>\n",
              "      <td>88.846154</td>\n",
              "      <td>True</td>\n",
              "      <td>8.143520</td>\n",
              "      <td>18.685748</td>\n",
              "      <td>13.414634</td>\n",
              "    </tr>\n",
              "    <tr>\n",
              "      <th>3</th>\n",
              "      <td>health_costs</td>\n",
              "      <td>2.633186</td>\n",
              "      <td>8.177625</td>\n",
              "      <td>5.405405</td>\n",
              "      <td>True</td>\n",
              "      <td>97.100674</td>\n",
              "      <td>100.475083</td>\n",
              "      <td>98.787879</td>\n",
              "    </tr>\n",
              "    <tr>\n",
              "      <th>4</th>\n",
              "      <td>el_salvador</td>\n",
              "      <td>16.486311</td>\n",
              "      <td>26.650944</td>\n",
              "      <td>21.568627</td>\n",
              "      <td>False</td>\n",
              "      <td>91.839795</td>\n",
              "      <td>98.463236</td>\n",
              "      <td>95.151515</td>\n",
              "    </tr>\n",
              "    <tr>\n",
              "      <th>5</th>\n",
              "      <td>religious_groups_in_school</td>\n",
              "      <td>41.539183</td>\n",
              "      <td>53.809655</td>\n",
              "      <td>47.674419</td>\n",
              "      <td>True</td>\n",
              "      <td>85.098749</td>\n",
              "      <td>94.419324</td>\n",
              "      <td>89.759036</td>\n",
              "    </tr>\n",
              "    <tr>\n",
              "      <th>6</th>\n",
              "      <td>anti_satellite_wep</td>\n",
              "      <td>72.078202</td>\n",
              "      <td>82.361952</td>\n",
              "      <td>77.220077</td>\n",
              "      <td>False</td>\n",
              "      <td>17.420089</td>\n",
              "      <td>30.728059</td>\n",
              "      <td>24.074074</td>\n",
              "    </tr>\n",
              "    <tr>\n",
              "      <th>7</th>\n",
              "      <td>contra</td>\n",
              "      <td>78.308452</td>\n",
              "      <td>87.471016</td>\n",
              "      <td>82.889734</td>\n",
              "      <td>False</td>\n",
              "      <td>9.595477</td>\n",
              "      <td>20.977771</td>\n",
              "      <td>15.286624</td>\n",
              "    </tr>\n",
              "    <tr>\n",
              "      <th>8</th>\n",
              "      <td>mx_missile</td>\n",
              "      <td>70.439401</td>\n",
              "      <td>81.173502</td>\n",
              "      <td>75.806452</td>\n",
              "      <td>False</td>\n",
              "      <td>6.593486</td>\n",
              "      <td>16.436817</td>\n",
              "      <td>11.515152</td>\n",
              "    </tr>\n",
              "    <tr>\n",
              "      <th>9</th>\n",
              "      <td>immigration</td>\n",
              "      <td>41.075744</td>\n",
              "      <td>53.220834</td>\n",
              "      <td>47.148289</td>\n",
              "      <td>True</td>\n",
              "      <td>48.099596</td>\n",
              "      <td>63.415556</td>\n",
              "      <td>55.757576</td>\n",
              "    </tr>\n",
              "    <tr>\n",
              "      <th>10</th>\n",
              "      <td>synfuel</td>\n",
              "      <td>44.410270</td>\n",
              "      <td>56.766200</td>\n",
              "      <td>50.588235</td>\n",
              "      <td>True</td>\n",
              "      <td>7.887557</td>\n",
              "      <td>18.527538</td>\n",
              "      <td>13.207547</td>\n",
              "    </tr>\n",
              "    <tr>\n",
              "      <th>11</th>\n",
              "      <td>education</td>\n",
              "      <td>10.059494</td>\n",
              "      <td>18.856169</td>\n",
              "      <td>14.457831</td>\n",
              "      <td>True</td>\n",
              "      <td>81.760179</td>\n",
              "      <td>92.433369</td>\n",
              "      <td>87.096774</td>\n",
              "    </tr>\n",
              "    <tr>\n",
              "      <th>12</th>\n",
              "      <td>superfund</td>\n",
              "      <td>23.329310</td>\n",
              "      <td>34.607198</td>\n",
              "      <td>28.968254</td>\n",
              "      <td>True</td>\n",
              "      <td>80.618590</td>\n",
              "      <td>91.533309</td>\n",
              "      <td>86.075949</td>\n",
              "    </tr>\n",
              "    <tr>\n",
              "      <th>13</th>\n",
              "      <td>crime</td>\n",
              "      <td>29.148179</td>\n",
              "      <td>40.890731</td>\n",
              "      <td>35.019455</td>\n",
              "      <td>True</td>\n",
              "      <td>96.025352</td>\n",
              "      <td>100.247940</td>\n",
              "      <td>98.136646</td>\n",
              "    </tr>\n",
              "    <tr>\n",
              "      <th>14</th>\n",
              "      <td>duty_free_export</td>\n",
              "      <td>57.756871</td>\n",
              "      <td>69.733169</td>\n",
              "      <td>63.745020</td>\n",
              "      <td>True</td>\n",
              "      <td>4.439436</td>\n",
              "      <td>13.509282</td>\n",
              "      <td>8.974359</td>\n",
              "    </tr>\n",
              "    <tr>\n",
              "      <th>15</th>\n",
              "      <td>south_africa</td>\n",
              "      <td>89.931337</td>\n",
              "      <td>97.095690</td>\n",
              "      <td>93.513514</td>\n",
              "      <td>True</td>\n",
              "      <td>57.964604</td>\n",
              "      <td>73.542245</td>\n",
              "      <td>65.753425</td>\n",
              "    </tr>\n",
              "  </tbody>\n",
              "</table>\n",
              "</div>"
            ],
            "text/plain": [
              "                          Bill  D Lower Limit  D Upper Limit  \\\n",
              "0          handicapped-infants      54.459270      66.470963   \n",
              "1                        water      43.824514      56.593896   \n",
              "2                       budget      84.994352      92.697956   \n",
              "3                 health_costs       2.633186       8.177625   \n",
              "4                  el_salvador      16.486311      26.650944   \n",
              "5   religious_groups_in_school      41.539183      53.809655   \n",
              "6           anti_satellite_wep      72.078202      82.361952   \n",
              "7                       contra      78.308452      87.471016   \n",
              "8                   mx_missile      70.439401      81.173502   \n",
              "9                  immigration      41.075744      53.220834   \n",
              "10                     synfuel      44.410270      56.766200   \n",
              "11                   education      10.059494      18.856169   \n",
              "12                   superfund      23.329310      34.607198   \n",
              "13                       crime      29.148179      40.890731   \n",
              "14            duty_free_export      57.756871      69.733169   \n",
              "15                south_africa      89.931337      97.095690   \n",
              "\n",
              "    Democrat Support  Null Hypothesis Rejected  R Lower Limit  R Upper Limit  \\\n",
              "0          60.465116                     False      12.765166      24.810591   \n",
              "1          50.209205                      True      42.526571      58.824780   \n",
              "2          88.846154                      True       8.143520      18.685748   \n",
              "3           5.405405                      True      97.100674     100.475083   \n",
              "4          21.568627                     False      91.839795      98.463236   \n",
              "5          47.674419                      True      85.098749      94.419324   \n",
              "6          77.220077                     False      17.420089      30.728059   \n",
              "7          82.889734                     False       9.595477      20.977771   \n",
              "8          75.806452                     False       6.593486      16.436817   \n",
              "9          47.148289                      True      48.099596      63.415556   \n",
              "10         50.588235                      True       7.887557      18.527538   \n",
              "11         14.457831                      True      81.760179      92.433369   \n",
              "12         28.968254                      True      80.618590      91.533309   \n",
              "13         35.019455                      True      96.025352     100.247940   \n",
              "14         63.745020                      True       4.439436      13.509282   \n",
              "15         93.513514                      True      57.964604      73.542245   \n",
              "\n",
              "    Republican Support  \n",
              "0            18.787879  \n",
              "1            50.675676  \n",
              "2            13.414634  \n",
              "3            98.787879  \n",
              "4            95.151515  \n",
              "5            89.759036  \n",
              "6            24.074074  \n",
              "7            15.286624  \n",
              "8            11.515152  \n",
              "9            55.757576  \n",
              "10           13.207547  \n",
              "11           87.096774  \n",
              "12           86.075949  \n",
              "13           98.136646  \n",
              "14            8.974359  \n",
              "15           65.753425  "
            ]
          },
          "metadata": {
            "tags": []
          },
          "execution_count": 19
        }
      ]
    },
    {
      "metadata": {
        "id": "RCdgZeV5U-TL",
        "colab_type": "code",
        "colab": {
          "base_uri": "https://localhost:8080/",
          "height": 599
        },
        "outputId": "0f6aba8e-dd15-4c04-f7eb-02900a27e3b9"
      },
      "cell_type": "code",
      "source": [
        "bays"
      ],
      "execution_count": 20,
      "outputs": [
        {
          "output_type": "execute_result",
          "data": {
            "text/html": [
              "<div>\n",
              "<style scoped>\n",
              "    .dataframe tbody tr th:only-of-type {\n",
              "        vertical-align: middle;\n",
              "    }\n",
              "\n",
              "    .dataframe tbody tr th {\n",
              "        vertical-align: top;\n",
              "    }\n",
              "\n",
              "    .dataframe thead th {\n",
              "        text-align: right;\n",
              "    }\n",
              "</style>\n",
              "<table border=\"1\" class=\"dataframe\">\n",
              "  <thead>\n",
              "    <tr style=\"text-align: right;\">\n",
              "      <th></th>\n",
              "      <th>Bill</th>\n",
              "      <th>D Lower Limit</th>\n",
              "      <th>D Upper Limit</th>\n",
              "      <th>Democrat Support</th>\n",
              "      <th>Null Hypothesis Rejected</th>\n",
              "      <th>R Lower Limit</th>\n",
              "      <th>R Upper Limit</th>\n",
              "      <th>Republican Support</th>\n",
              "    </tr>\n",
              "  </thead>\n",
              "  <tbody>\n",
              "    <tr>\n",
              "      <th>0</th>\n",
              "      <td>handicapped-infants</td>\n",
              "      <td>54.459270</td>\n",
              "      <td>66.470963</td>\n",
              "      <td>60.465116</td>\n",
              "      <td>False</td>\n",
              "      <td>12.765166</td>\n",
              "      <td>24.810591</td>\n",
              "      <td>18.787879</td>\n",
              "    </tr>\n",
              "    <tr>\n",
              "      <th>1</th>\n",
              "      <td>water</td>\n",
              "      <td>43.824514</td>\n",
              "      <td>56.593896</td>\n",
              "      <td>50.209205</td>\n",
              "      <td>True</td>\n",
              "      <td>42.526571</td>\n",
              "      <td>58.824780</td>\n",
              "      <td>50.675676</td>\n",
              "    </tr>\n",
              "    <tr>\n",
              "      <th>2</th>\n",
              "      <td>budget</td>\n",
              "      <td>84.994352</td>\n",
              "      <td>92.697956</td>\n",
              "      <td>88.846154</td>\n",
              "      <td>True</td>\n",
              "      <td>8.143520</td>\n",
              "      <td>18.685748</td>\n",
              "      <td>13.414634</td>\n",
              "    </tr>\n",
              "    <tr>\n",
              "      <th>3</th>\n",
              "      <td>health_costs</td>\n",
              "      <td>2.633186</td>\n",
              "      <td>8.177625</td>\n",
              "      <td>5.405405</td>\n",
              "      <td>True</td>\n",
              "      <td>97.100674</td>\n",
              "      <td>100.475083</td>\n",
              "      <td>98.787879</td>\n",
              "    </tr>\n",
              "    <tr>\n",
              "      <th>4</th>\n",
              "      <td>el_salvador</td>\n",
              "      <td>16.486311</td>\n",
              "      <td>26.650944</td>\n",
              "      <td>21.568627</td>\n",
              "      <td>False</td>\n",
              "      <td>91.839795</td>\n",
              "      <td>98.463236</td>\n",
              "      <td>95.151515</td>\n",
              "    </tr>\n",
              "    <tr>\n",
              "      <th>5</th>\n",
              "      <td>religious_groups_in_school</td>\n",
              "      <td>41.539183</td>\n",
              "      <td>53.809655</td>\n",
              "      <td>47.674419</td>\n",
              "      <td>True</td>\n",
              "      <td>85.098749</td>\n",
              "      <td>94.419324</td>\n",
              "      <td>89.759036</td>\n",
              "    </tr>\n",
              "    <tr>\n",
              "      <th>6</th>\n",
              "      <td>anti_satellite_wep</td>\n",
              "      <td>72.078202</td>\n",
              "      <td>82.361952</td>\n",
              "      <td>77.220077</td>\n",
              "      <td>False</td>\n",
              "      <td>17.420089</td>\n",
              "      <td>30.728059</td>\n",
              "      <td>24.074074</td>\n",
              "    </tr>\n",
              "    <tr>\n",
              "      <th>7</th>\n",
              "      <td>contra</td>\n",
              "      <td>78.308452</td>\n",
              "      <td>87.471016</td>\n",
              "      <td>82.889734</td>\n",
              "      <td>False</td>\n",
              "      <td>9.595477</td>\n",
              "      <td>20.977771</td>\n",
              "      <td>15.286624</td>\n",
              "    </tr>\n",
              "    <tr>\n",
              "      <th>8</th>\n",
              "      <td>mx_missile</td>\n",
              "      <td>70.439401</td>\n",
              "      <td>81.173502</td>\n",
              "      <td>75.806452</td>\n",
              "      <td>False</td>\n",
              "      <td>6.593486</td>\n",
              "      <td>16.436817</td>\n",
              "      <td>11.515152</td>\n",
              "    </tr>\n",
              "    <tr>\n",
              "      <th>9</th>\n",
              "      <td>immigration</td>\n",
              "      <td>41.075744</td>\n",
              "      <td>53.220834</td>\n",
              "      <td>47.148289</td>\n",
              "      <td>True</td>\n",
              "      <td>48.099596</td>\n",
              "      <td>63.415556</td>\n",
              "      <td>55.757576</td>\n",
              "    </tr>\n",
              "    <tr>\n",
              "      <th>10</th>\n",
              "      <td>synfuel</td>\n",
              "      <td>44.410270</td>\n",
              "      <td>56.766200</td>\n",
              "      <td>50.588235</td>\n",
              "      <td>True</td>\n",
              "      <td>7.887557</td>\n",
              "      <td>18.527538</td>\n",
              "      <td>13.207547</td>\n",
              "    </tr>\n",
              "    <tr>\n",
              "      <th>11</th>\n",
              "      <td>education</td>\n",
              "      <td>10.059494</td>\n",
              "      <td>18.856169</td>\n",
              "      <td>14.457831</td>\n",
              "      <td>True</td>\n",
              "      <td>81.760179</td>\n",
              "      <td>92.433369</td>\n",
              "      <td>87.096774</td>\n",
              "    </tr>\n",
              "    <tr>\n",
              "      <th>12</th>\n",
              "      <td>superfund</td>\n",
              "      <td>23.329310</td>\n",
              "      <td>34.607198</td>\n",
              "      <td>28.968254</td>\n",
              "      <td>True</td>\n",
              "      <td>80.618590</td>\n",
              "      <td>91.533309</td>\n",
              "      <td>86.075949</td>\n",
              "    </tr>\n",
              "    <tr>\n",
              "      <th>13</th>\n",
              "      <td>crime</td>\n",
              "      <td>29.148179</td>\n",
              "      <td>40.890731</td>\n",
              "      <td>35.019455</td>\n",
              "      <td>True</td>\n",
              "      <td>96.025352</td>\n",
              "      <td>100.247940</td>\n",
              "      <td>98.136646</td>\n",
              "    </tr>\n",
              "    <tr>\n",
              "      <th>14</th>\n",
              "      <td>duty_free_export</td>\n",
              "      <td>57.756871</td>\n",
              "      <td>69.733169</td>\n",
              "      <td>63.745020</td>\n",
              "      <td>True</td>\n",
              "      <td>4.439436</td>\n",
              "      <td>13.509282</td>\n",
              "      <td>8.974359</td>\n",
              "    </tr>\n",
              "    <tr>\n",
              "      <th>15</th>\n",
              "      <td>south_africa</td>\n",
              "      <td>89.931337</td>\n",
              "      <td>97.095690</td>\n",
              "      <td>93.513514</td>\n",
              "      <td>True</td>\n",
              "      <td>57.964604</td>\n",
              "      <td>73.542245</td>\n",
              "      <td>65.753425</td>\n",
              "    </tr>\n",
              "  </tbody>\n",
              "</table>\n",
              "</div>"
            ],
            "text/plain": [
              "                          Bill  D Lower Limit  D Upper Limit  \\\n",
              "0          handicapped-infants      54.459270      66.470963   \n",
              "1                        water      43.824514      56.593896   \n",
              "2                       budget      84.994352      92.697956   \n",
              "3                 health_costs       2.633186       8.177625   \n",
              "4                  el_salvador      16.486311      26.650944   \n",
              "5   religious_groups_in_school      41.539183      53.809655   \n",
              "6           anti_satellite_wep      72.078202      82.361952   \n",
              "7                       contra      78.308452      87.471016   \n",
              "8                   mx_missile      70.439401      81.173502   \n",
              "9                  immigration      41.075744      53.220834   \n",
              "10                     synfuel      44.410270      56.766200   \n",
              "11                   education      10.059494      18.856169   \n",
              "12                   superfund      23.329310      34.607198   \n",
              "13                       crime      29.148179      40.890731   \n",
              "14            duty_free_export      57.756871      69.733169   \n",
              "15                south_africa      89.931337      97.095690   \n",
              "\n",
              "    Democrat Support  Null Hypothesis Rejected  R Lower Limit  R Upper Limit  \\\n",
              "0          60.465116                     False      12.765166      24.810591   \n",
              "1          50.209205                      True      42.526571      58.824780   \n",
              "2          88.846154                      True       8.143520      18.685748   \n",
              "3           5.405405                      True      97.100674     100.475083   \n",
              "4          21.568627                     False      91.839795      98.463236   \n",
              "5          47.674419                      True      85.098749      94.419324   \n",
              "6          77.220077                     False      17.420089      30.728059   \n",
              "7          82.889734                     False       9.595477      20.977771   \n",
              "8          75.806452                     False       6.593486      16.436817   \n",
              "9          47.148289                      True      48.099596      63.415556   \n",
              "10         50.588235                      True       7.887557      18.527538   \n",
              "11         14.457831                      True      81.760179      92.433369   \n",
              "12         28.968254                      True      80.618590      91.533309   \n",
              "13         35.019455                      True      96.025352     100.247940   \n",
              "14         63.745020                      True       4.439436      13.509282   \n",
              "15         93.513514                      True      57.964604      73.542245   \n",
              "\n",
              "    Republican Support  \n",
              "0            18.787879  \n",
              "1            50.675676  \n",
              "2            13.414634  \n",
              "3            98.787879  \n",
              "4            95.151515  \n",
              "5            89.759036  \n",
              "6            24.074074  \n",
              "7            15.286624  \n",
              "8            11.515152  \n",
              "9            55.757576  \n",
              "10           13.207547  \n",
              "11           87.096774  \n",
              "12           86.075949  \n",
              "13           98.136646  \n",
              "14            8.974359  \n",
              "15           65.753425  "
            ]
          },
          "metadata": {
            "tags": []
          },
          "execution_count": 20
        }
      ]
    },
    {
      "metadata": {
        "id": "hfz2ARiRWG4n",
        "colab_type": "code",
        "colab": {
          "base_uri": "https://localhost:8080/",
          "height": 105
        },
        "outputId": "823e5129-5b2e-4606-bcb5-dca4d6fe731f"
      },
      "cell_type": "code",
      "source": [
        "print('frequentis mean and confidence interval:' ,f_conf(rep,'water'))\n",
        "print()\n",
        "print('Baysian mean and confidence interval:')\n",
        "b_conf(rep,'water')[0]"
      ],
      "execution_count": 25,
      "outputs": [
        {
          "output_type": "stream",
          "text": [
            "frequentis mean and confidence interval: (0.5067567567567568, 0.42526571045979167, 0.5882478030537219)\n",
            "\n",
            "Baysian mean and confidence interval:\n"
          ],
          "name": "stdout"
        },
        {
          "output_type": "execute_result",
          "data": {
            "text/plain": [
              "Mean(statistic=0.5067567567567568, minmax=(0.42526571045979167, 0.5882478030537219))"
            ]
          },
          "metadata": {
            "tags": []
          },
          "execution_count": 25
        }
      ]
    },
    {
      "metadata": {
        "id": "GSYjhEHIXAuE",
        "colab_type": "code",
        "colab": {
          "base_uri": "https://localhost:8080/",
          "height": 68
        },
        "outputId": "19c2cc8e-7835-48f2-bc69-e282299f3fad"
      },
      "cell_type": "code",
      "source": [
        "print(\"Frequentist Standard Deviation:\" , rep['water'].std())\n",
        "print()\n",
        "print(\"Baysian Standard Deviation:\" , b_conf(rep, 'water')[2][0])"
      ],
      "execution_count": 30,
      "outputs": [
        {
          "output_type": "stream",
          "text": [
            "Frequentist Standard Deviation: 0.5016519868797793\n",
            "\n",
            "Baysian Standard Deviation: 0.5042297029005319\n"
          ],
          "name": "stdout"
        }
      ]
    },
    {
      "metadata": {
        "id": "YCa_T1i-TlOt",
        "colab_type": "text"
      },
      "cell_type": "markdown",
      "source": [
        "Looks like the confidence interval is the same between Frequentist and Baysian methods. However, the Standard deviation is slightly different. In the above example, the differnce between the two is roughly 0.1%. Not an enormous divergence and would only slightly affect the calculation of Standard Error and various T/chi tests."
      ]
    },
    {
      "metadata": {
        "id": "uWgWjp3PQ3Sq",
        "colab_type": "text"
      },
      "cell_type": "markdown",
      "source": [
        "## Resources"
      ]
    },
    {
      "metadata": {
        "id": "QRgHqmYIQ9qn",
        "colab_type": "text"
      },
      "cell_type": "markdown",
      "source": [
        "- [Worked example of Bayes rule calculation](https://en.wikipedia.org/wiki/Bayes'_theorem#Examples) (helpful as it fully breaks out the denominator)\n",
        "- [Source code for mvsdist in scipy](https://github.com/scipy/scipy/blob/90534919e139d2a81c24bf08341734ff41a3db12/scipy/stats/morestats.py#L139)"
      ]
    }
  ]
}