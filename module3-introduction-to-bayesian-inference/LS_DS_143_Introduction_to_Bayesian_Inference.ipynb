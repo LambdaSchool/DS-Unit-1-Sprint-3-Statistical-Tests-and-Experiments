{
  "nbformat": 4,
  "nbformat_minor": 0,
  "metadata": {
    "colab": {
      "name": "LS_DS_143_Introduction_to_Bayesian_Inference.ipynb",
      "version": "0.3.2",
      "provenance": [],
      "collapsed_sections": [],
      "include_colab_link": true
    },
    "kernelspec": {
      "name": "python3",
      "display_name": "Python 3"
    }
  },
  "cells": [
    {
      "cell_type": "markdown",
      "metadata": {
        "id": "view-in-github",
        "colab_type": "text"
      },
      "source": [
        "<a href=\"https://colab.research.google.com/github/zangell44/DS-Unit-1-Sprint-4-Statistical-Tests-and-Experiments/blob/master/module3-introduction-to-bayesian-inference/LS_DS_143_Introduction_to_Bayesian_Inference.ipynb\" target=\"_parent\"><img src=\"https://colab.research.google.com/assets/colab-badge.svg\" alt=\"Open In Colab\"/></a>"
      ]
    },
    {
      "metadata": {
        "id": "H7OLbevlbd_Z",
        "colab_type": "text"
      },
      "cell_type": "markdown",
      "source": [
        "# Lambda School Data Science Module 143\n",
        "\n",
        "## Introduction to Bayesian Inference\n",
        "\n",
        "!['Detector! What would the Bayesian statistician say if I asked him whether the--' [roll] 'I AM A NEUTRINO DETECTOR, NOT A LABYRINTH GUARD. SERIOUSLY, DID YOUR BRAIN FALL OUT?' [roll] '... yes.'](https://imgs.xkcd.com/comics/frequentists_vs_bayesians.png)\n",
        "\n",
        "*[XKCD 1132](https://www.xkcd.com/1132/)*\n"
      ]
    },
    {
      "metadata": {
        "id": "3mz8p08BsN6p",
        "colab_type": "text"
      },
      "cell_type": "markdown",
      "source": [
        "## Prepare - Bayes' Theorem and the Bayesian mindset"
      ]
    },
    {
      "metadata": {
        "id": "GhycNr-Sbeie",
        "colab_type": "text"
      },
      "cell_type": "markdown",
      "source": [
        "Bayes' theorem possesses a near-mythical quality - a bit of math that somehow magically evaluates a situation. But this mythicalness has more to do with its reputation and advanced applications than the actual core of it - deriving it is actually remarkably straightforward.\n",
        "\n",
        "### The Law of Total Probability\n",
        "\n",
        "By definition, the total probability of all outcomes (events) if some variable (event space) $A$ is 1. That is:\n",
        "\n",
        "$$P(A) = \\sum_n P(A_n) = 1$$\n",
        "\n",
        "The law of total probability takes this further, considering two variables ($A$ and $B$) and relating their marginal probabilities (their likelihoods considered independently, without reference to one another) and their conditional probabilities (their likelihoods considered jointly). A marginal probability is simply notated as e.g. $P(A)$, while a conditional probability is notated $P(A|B)$, which reads \"probability of $A$ *given* $B$\".\n",
        "\n",
        "The law of total probability states:\n",
        "\n",
        "$$P(A) = \\sum_n P(A | B_n) P(B_n)$$\n",
        "\n",
        "In words - the total probability of $A$ is equal to the sum of the conditional probability of $A$ on any given event $B_n$ times the probability of that event $B_n$, and summed over all possible events in $B$.\n",
        "\n",
        "### The Law of Conditional Probability\n",
        "\n",
        "What's the probability of something conditioned on something else? To determine this we have to go back to set theory and think about the intersection of sets:\n",
        "\n",
        "The formula for actual calculation:\n",
        "\n",
        "$$P(A|B) = \\frac{P(A \\cap B)}{P(B)}$$\n",
        "\n",
        "We can see how this relates back to the law of total probability - multiply both sides by $P(B)$ and you get $P(A|B)P(B) = P(A \\cap B)$ - replaced back into the law of total probability we get $P(A) = \\sum_n P(A \\cap B_n)$.\n",
        "\n",
        "This may not seem like an improvement at first, but try to relate it back to the above picture - if you think of sets as physical objects, we're saying that the total probability of $A$ given $B$ is all the little pieces of it intersected with $B$, added together. The conditional probability is then just that again, but divided by the probability of $B$ itself happening in the first place.\n",
        "\n",
        "### Bayes Theorem\n",
        "\n",
        "Here is is, the seemingly magic tool:\n",
        "\n",
        "$$P(A|B) = \\frac{P(B|A)P(A)}{P(B)}$$\n",
        "\n",
        "In words - the probability of $A$ conditioned on $B$ is the probability of $B$ conditioned on $A$, times the probability of $A$ and divided by the probability of $B$. These unconditioned probabilities are referred to as \"prior beliefs\", and the conditioned probabilities as \"updated.\"\n",
        "\n",
        "Why is this important? Scroll back up to the XKCD example - the Bayesian statistician draws a less absurd conclusion because their prior belief in the likelihood that the sun will go nova is extremely low. So, even when updated based on evidence from a detector that is $35/36 = 0.972$ accurate, the prior belief doesn't shift enough to change their overall opinion.\n",
        "\n",
        "There's many examples of Bayes' theorem - one less absurd example is to apply to [breathalyzer tests](https://www.bayestheorem.net/breathalyzer-example/). You may think that a breathalyzer test that is 100% accurate for true positives (detecting somebody who is drunk) is pretty good, but what if it also has 8% false positives (indicating somebody is drunk when they're not)? And furthermore, the rate of drunk driving (and thus our prior belief)  is 1/1000.\n",
        "\n",
        "What is the likelihood somebody really is drunk if they test positive? Some may guess it's 92% - the difference between the true positives and the false positives. But we have a prior belief of the background/true rate of drunk driving. Sounds like a job for Bayes' theorem!\n",
        "\n",
        "$$\n",
        "\\begin{aligned}\n",
        "P(Drunk | Positive) &= \\frac{P(Positive | Drunk)P(Drunk)}{P(Positive)} \\\\\n",
        "&= \\frac{1 \\times 0.001}{0.08} \\\\\n",
        "&= 0.0125\n",
        "\\end{aligned}\n",
        "$$\n",
        "\n",
        "In other words, the likelihood that somebody is drunk given they tested positive with a breathalyzer in this situation is only 1.25% - probably much lower than you'd guess. This is why, in practice, it's important to have a repeated test to confirm (the probability of two false positives in a row is $0.08 * 0.08 = 0.0064$, much lower), and Bayes' theorem has been relevant in court cases where proper consideration of evidence was important."
      ]
    },
    {
      "metadata": {
        "id": "htI3DGvDsRJF",
        "colab_type": "text"
      },
      "cell_type": "markdown",
      "source": [
        "## Live Lecture - Deriving Bayes' Theorem, Calculating Bayesian Confidence"
      ]
    },
    {
      "metadata": {
        "id": "moIJNQ-nbfe_",
        "colab_type": "text"
      },
      "cell_type": "markdown",
      "source": [
        "Notice that $P(A|B)$ appears in the above laws - in Bayesian terms, this is the belief in $A$ updated for the evidence $B$. So all we need to do is solve for this term to derive Bayes' theorem. Let's do it together!\n",
        "\n",
        "Inline Equation\n",
        "$x=2$\n",
        "\n",
        "Block Equation\n",
        "$$\n",
        "x=2\n",
        "$$\n",
        "\n",
        "Aligned\n",
        "$$\n",
        "\\begin{aligned}\n",
        "x&=2\\\\\n",
        "&1+1\n",
        "\\end{aligned}\n",
        "$$\n",
        "\n",
        "Bayes' Proof\n",
        "$$\n",
        "\\begin{aligned}\n",
        "P(A|B) &= \\frac{P(A \\cap B)}{P(B)}\\\\\n",
        "\\\\\n",
        "P(B|A) &= \\frac{P(B \\cap A)}{P(A)}\\\\\n",
        "P(B|A)P(A) &= P(B \\cap A)\\\\\n",
        "P(B|A)P(A) &= P(A \\cap B)\\\\\n",
        "\\\\\n",
        "&=\\frac{P{(B|A)P(A)}}{P(B)}\n",
        "\\end{aligned}\n",
        "$$"
      ]
    },
    {
      "metadata": {
        "id": "7SfGa0K6lNxU",
        "colab_type": "code",
        "colab": {}
      },
      "cell_type": "code",
      "source": [
        "# imports\n",
        "import numpy as np\n",
        "import pandas as pd\n",
        "import scipy"
      ],
      "execution_count": 0,
      "outputs": []
    },
    {
      "metadata": {
        "id": "ke-5EqJI0Tsn",
        "colab_type": "code",
        "colab": {}
      },
      "cell_type": "code",
      "source": [
        "# Activity 2 - Use SciPy to calculate Bayesian confidence intervals\n",
        "# https://docs.scipy.org/doc/scipy/reference/generated/scipy.stats.bayes_mvs.html#scipy.stats.bayes_mvs\n",
        "\n",
        "from scipy.stats import bayes_mvs\n",
        "\n",
        "data_binom = np.random.binomial(n=10, p=0.6, size=100)"
      ],
      "execution_count": 0,
      "outputs": []
    },
    {
      "metadata": {
        "id": "4VlxS5P5mST-",
        "colab_type": "code",
        "colab": {}
      },
      "cell_type": "code",
      "source": [
        "# frequentist approach\n",
        "# utility functions\n",
        "from collections import namedtuple\n",
        "import scipy.stats as stats\n",
        "ConfidenceInterval= namedtuple(\"ConfidenceInterval\", \"mean low high\")\n",
        "\n",
        "def confidence_interval(data=None, alpha=0.05):\n",
        "  \"\"\"\n",
        "  Calculate a confidence interval around a sample mean for given data\n",
        "  \n",
        "  Parameters\n",
        "  ----------\n",
        "  \n",
        "  data : iterable\n",
        "  \n",
        "  confidence : level of confidence for the interval (float)\n",
        "  \n",
        "  Returns\n",
        "  ----------\n",
        "  \n",
        "  tuple of (mean, lower bound, uppper bound)\n",
        "  \n",
        "  \"\"\"\n",
        "  if len(data) == 0: # make sure we have data\n",
        "    return None\n",
        "  \n",
        "  data = np.array(data)\n",
        "  mean = np.mean(data)\n",
        "  n = len(data)\n",
        "  stderr = stats.sem(data)\n",
        "  interval = stderr * stats.t.ppf(1- (alpha / 2), n-1) \n",
        "  \n",
        "  return ConfidenceInterval(mean, mean-interval, mean+interval)"
      ],
      "execution_count": 0,
      "outputs": []
    },
    {
      "metadata": {
        "id": "lP875TmWmcRP",
        "colab_type": "code",
        "colab": {
          "base_uri": "https://localhost:8080/",
          "height": 34
        },
        "outputId": "86bab6f8-fced-46aa-a6a1-aad2fc980f1d"
      },
      "cell_type": "code",
      "source": [
        "conf_freq = confidence_interval(data=data_binom)\n",
        "conf_freq"
      ],
      "execution_count": 59,
      "outputs": [
        {
          "output_type": "execute_result",
          "data": {
            "text/plain": [
              "ConfidenceInterval(mean=5.85, low=5.491734751653049, high=6.20826524834695)"
            ]
          },
          "metadata": {
            "tags": []
          },
          "execution_count": 59
        }
      ]
    },
    {
      "metadata": {
        "id": "L98LhsmdmrON",
        "colab_type": "code",
        "colab": {
          "base_uri": "https://localhost:8080/",
          "height": 70
        },
        "outputId": "950a7a2a-93e6-43bf-bd89-0eed3031a0f3"
      },
      "cell_type": "code",
      "source": [
        "conf_bayes = bayes_mvs(data=data_binom, alpha=0.95)\n",
        "\n",
        "conf_bayes"
      ],
      "execution_count": 60,
      "outputs": [
        {
          "output_type": "execute_result",
          "data": {
            "text/plain": [
              "(Mean(statistic=5.85, minmax=(5.491734751653049, 6.20826524834695)),\n",
              " Variance(statistic=3.327319587628867, minmax=(2.5131988953628515, 4.399471752030545)),\n",
              " Std_dev(statistic=1.8193990452988902, minmax=(1.5853071927430504, 2.097491776391637)))"
            ]
          },
          "metadata": {
            "tags": []
          },
          "execution_count": 60
        }
      ]
    },
    {
      "metadata": {
        "id": "Dyho-O_xqdE5",
        "colab_type": "code",
        "colab": {
          "base_uri": "https://localhost:8080/",
          "height": 34
        },
        "outputId": "7b4c4eb7-c742-44a1-8134-fcd243d0f315"
      },
      "cell_type": "code",
      "source": [
        "# medical hypothetical\n",
        "import random\n",
        "\n",
        "# two groups of people\n",
        "treatment = np.random.binomial(n=1, p=0.65, size=50)\n",
        "control = np.random.binomial(n=1, p=0.4, size=50)\n",
        "\n",
        "control.size"
      ],
      "execution_count": 61,
      "outputs": [
        {
          "output_type": "execute_result",
          "data": {
            "text/plain": [
              "50"
            ]
          },
          "metadata": {
            "tags": []
          },
          "execution_count": 61
        }
      ]
    },
    {
      "metadata": {
        "id": "6dmQU6DdrA8P",
        "colab_type": "code",
        "colab": {
          "base_uri": "https://localhost:8080/",
          "height": 197
        },
        "outputId": "d1b7daca-8377-4168-875e-3f7821fbbe21"
      },
      "cell_type": "code",
      "source": [
        "import pandas as pd\n",
        "df = pd.DataFrame({'treatment' : treatment, 'control' : control})\n",
        "df.head()"
      ],
      "execution_count": 62,
      "outputs": [
        {
          "output_type": "execute_result",
          "data": {
            "text/html": [
              "<div>\n",
              "<style scoped>\n",
              "    .dataframe tbody tr th:only-of-type {\n",
              "        vertical-align: middle;\n",
              "    }\n",
              "\n",
              "    .dataframe tbody tr th {\n",
              "        vertical-align: top;\n",
              "    }\n",
              "\n",
              "    .dataframe thead th {\n",
              "        text-align: right;\n",
              "    }\n",
              "</style>\n",
              "<table border=\"1\" class=\"dataframe\">\n",
              "  <thead>\n",
              "    <tr style=\"text-align: right;\">\n",
              "      <th></th>\n",
              "      <th>control</th>\n",
              "      <th>treatment</th>\n",
              "    </tr>\n",
              "  </thead>\n",
              "  <tbody>\n",
              "    <tr>\n",
              "      <th>0</th>\n",
              "      <td>0</td>\n",
              "      <td>0</td>\n",
              "    </tr>\n",
              "    <tr>\n",
              "      <th>1</th>\n",
              "      <td>0</td>\n",
              "      <td>0</td>\n",
              "    </tr>\n",
              "    <tr>\n",
              "      <th>2</th>\n",
              "      <td>1</td>\n",
              "      <td>1</td>\n",
              "    </tr>\n",
              "    <tr>\n",
              "      <th>3</th>\n",
              "      <td>0</td>\n",
              "      <td>0</td>\n",
              "    </tr>\n",
              "    <tr>\n",
              "      <th>4</th>\n",
              "      <td>0</td>\n",
              "      <td>1</td>\n",
              "    </tr>\n",
              "  </tbody>\n",
              "</table>\n",
              "</div>"
            ],
            "text/plain": [
              "   control  treatment\n",
              "0        0          0\n",
              "1        0          0\n",
              "2        1          1\n",
              "3        0          0\n",
              "4        0          1"
            ]
          },
          "metadata": {
            "tags": []
          },
          "execution_count": 62
        }
      ]
    },
    {
      "metadata": {
        "id": "0ToKweG1r8Rw",
        "colab_type": "code",
        "colab": {
          "base_uri": "https://localhost:8080/",
          "height": 34
        },
        "outputId": "46c1115e-3c95-4528-c6db-90e9da55cf3e"
      },
      "cell_type": "code",
      "source": [
        "# frequentist hypothesis test\n",
        "from scipy import stats\n",
        "freq_test = stats.ttest_ind(df.treatment, df.control, equal_var=False)\n",
        "freq_test"
      ],
      "execution_count": 63,
      "outputs": [
        {
          "output_type": "execute_result",
          "data": {
            "text/plain": [
              "Ttest_indResult(statistic=3.599456093912476, pvalue=0.0005035811602338712)"
            ]
          },
          "metadata": {
            "tags": []
          },
          "execution_count": 63
        }
      ]
    },
    {
      "metadata": {
        "id": "KGy3E_T0sn1q",
        "colab_type": "code",
        "colab": {
          "base_uri": "https://localhost:8080/",
          "height": 70
        },
        "outputId": "9a8e5c54-01c9-4cfc-e468-29ce84e96032"
      },
      "cell_type": "code",
      "source": [
        "bayes_mvs(data=df.treatment, alpha=0.95)"
      ],
      "execution_count": 64,
      "outputs": [
        {
          "output_type": "execute_result",
          "data": {
            "text/plain": [
              "(Mean(statistic=0.62, minmax=(0.4806542032885823, 0.7593457967114177)),\n",
              " Variance(statistic=0.25063829787234043, minmax=(0.16775270745793194, 0.37331741993159795)),\n",
              " Std_dev(statistic=0.4979821930257678, minmax=(0.4095762535327603, 0.6109970703134328)))"
            ]
          },
          "metadata": {
            "tags": []
          },
          "execution_count": 64
        }
      ]
    },
    {
      "metadata": {
        "id": "ZyQ7pil1uUDh",
        "colab_type": "code",
        "colab": {
          "base_uri": "https://localhost:8080/",
          "height": 70
        },
        "outputId": "2886e805-da3f-4614-e35a-e828504a9717"
      },
      "cell_type": "code",
      "source": [
        "bayes_mvs(data=df.control, alpha=0.95)"
      ],
      "execution_count": 65,
      "outputs": [
        {
          "output_type": "execute_result",
          "data": {
            "text/plain": [
              "(Mean(statistic=0.28, minmax=(0.15110042250735103, 0.40889957749264905)),\n",
              " Variance(statistic=0.21446808510638302, minmax=(0.1435439126634936, 0.31944308938119764)),\n",
              " Std_dev(statistic=0.46065038052650975, minmax=(0.3788718947922814, 0.5651929665001127)))"
            ]
          },
          "metadata": {
            "tags": []
          },
          "execution_count": 65
        }
      ]
    },
    {
      "metadata": {
        "id": "P-DzzRk5bf0z",
        "colab_type": "text"
      },
      "cell_type": "markdown",
      "source": [
        "## Assignment - Code it up!\n",
        "\n",
        "Most of the above was pure math - now write Python code to reproduce the results! This is purposefully open ended - you'll have to think about how you should represent probabilities and events. You can and should look things up, and as a stretch goal - refactor your code into helpful reusable functions!\n",
        "\n",
        "Specific goals/targets:\n",
        "\n",
        "1. Write a function `def prob_drunk_given_positive(prob_drunk_prior, prob_positive, prob_positive_drunk)` that reproduces the example from lecture, and use it to calculate and visualize a range of situations\n",
        "2. Explore `scipy.stats.bayes_mvs` - read its documentation, and experiment with it on data you've tested in other ways earlier this week\n",
        "3. Create a visualization comparing the results of a Bayesian approach to a traditional/frequentist approach\n",
        "4. In your own words, summarize the difference between Bayesian and Frequentist statistics\n",
        "\n",
        "If you're unsure where to start, check out [this blog post of Bayes theorem with Python](https://dataconomy.com/2015/02/introduction-to-bayes-theorem-with-python/) - you could and should create something similar!\n",
        "\n",
        "Stretch goals:\n",
        "\n",
        "- Apply a Bayesian technique to a problem you previously worked (in an assignment or project work) on from a frequentist (standard) perspective\n",
        "- Check out [PyMC3](https://docs.pymc.io/) (note this goes beyond hypothesis tests into modeling) - read the guides and work through some examples\n",
        "- Take PyMC3 further - see if you can build something with it!"
      ]
    },
    {
      "metadata": {
        "id": "xpVhZyUnbf7o",
        "colab_type": "code",
        "colab": {}
      },
      "cell_type": "code",
      "source": [
        "# function for bayseian confidence interval\n",
        "from scipy.stats import bayes_mvs\n",
        "from collections import namedtuple\n",
        "import scipy.stats as stats\n",
        "ConfidenceInterval= namedtuple(\"ConfidenceInterval\", \"mean low high\")\n",
        "\n",
        "def conf_interval_bayes(data, alpha=0.95):\n",
        "  conf_bayes = bayes_mvs(data, alpha)\n",
        "  return ConfidenceInterval(conf_bayes[0][0], conf_bayes[0][1][0], conf_bayes[0][1][1])"
      ],
      "execution_count": 0,
      "outputs": []
    },
    {
      "metadata": {
        "id": "6w8PMP0aFE_T",
        "colab_type": "text"
      },
      "cell_type": "markdown",
      "source": [
        "## Sampling vs. Prior Distribution (Coin Flips)"
      ]
    },
    {
      "metadata": {
        "id": "bjgitLtaFKWH",
        "colab_type": "code",
        "colab": {
          "base_uri": "https://localhost:8080/",
          "height": 364
        },
        "outputId": "bb4c967c-8832-4625-9194-5bfe0355f49b"
      },
      "cell_type": "code",
      "source": [
        "import seaborn as sns\n",
        "import matplotlib.pyplot as plt\n",
        "\n",
        "# first, plot fiar coin flips\n",
        "params = np.linspace(0,1,1000)\n",
        "\n",
        "fair_flips = bernoulli_flips = np.random.binomial(n=1, p=.5, size=1000)\n",
        "p_fair = np.array([np.product(stats.bernoulli.pmf(fair_flips, p)) for p in params])\n",
        "p_fair = p_fair / np.sum(p_fair)\n",
        "plt.plot(params, p_fair)\n",
        "#sns.despine()"
      ],
      "execution_count": 3,
      "outputs": [
        {
          "output_type": "execute_result",
          "data": {
            "text/plain": [
              "[<matplotlib.lines.Line2D at 0x7f3d08d2d198>]"
            ]
          },
          "metadata": {
            "tags": []
          },
          "execution_count": 3
        },
        {
          "output_type": "display_data",
          "data": {
            "image/png": "[encoded data removed]",
            "text/plain": [
              "<matplotlib.figure.Figure at 0x7f3d23cfea20>"
            ]
          },
          "metadata": {
            "tags": []
          }
        }
      ]
    },
    {
      "metadata": {
        "id": "lL8BHrgGFdDV",
        "colab_type": "code",
        "colab": {}
      },
      "cell_type": "code",
      "source": [
        "# put this plotting in a function for later plotting\n",
        "\n",
        "def plot_dist_flips(ax, \n",
        "                    fairness=0.5, \n",
        "                    size=1000,\n",
        "                    xlabel='',\n",
        "                    ylabel='',\n",
        "                    title='',\n",
        "                    color='black',\n",
        "                    label='',\n",
        "                    normalize=True):\n",
        "  \n",
        "  params = np.linspace(0,1,size)\n",
        "  flips = np.random.binomial(n=1, p=fairness, size=size)\n",
        "  probs = np.array([np.product(stats.bernoulli.pmf(flips, p)) for p in params])\n",
        "  if normalize: probs = probs / np.sum(probs) # normalize\n",
        "  ax.plot(params, probs, color=color, label=label)\n",
        "  ax.set_xlabel(xlabel)\n",
        "  ax.set_ylabel(ylabel)\n",
        "  ax.set_title(title)"
      ],
      "execution_count": 0,
      "outputs": []
    },
    {
      "metadata": {
        "id": "htqbrnu_Fc32",
        "colab_type": "code",
        "colab": {
          "base_uri": "https://localhost:8080/",
          "height": 362
        },
        "outputId": "efd4be7f-d1f0-45cb-95f7-56171eb1d17c"
      },
      "cell_type": "code",
      "source": [
        "# testing with fair coin\n",
        "fig_fair, ax_fair = plt.subplots()\n",
        "plot_dist_flips(ax=ax_fair, \n",
        "                fairness=0.5, \n",
        "                size=100,\n",
        "                xlabel='',\n",
        "                ylabel='',\n",
        "                title='Fair Coin',\n",
        "                color='red',\n",
        "                normalize=True)\n",
        "plt.show()"
      ],
      "execution_count": 86,
      "outputs": [
        {
          "output_type": "display_data",
          "data": {
            "image/png": "[encoded data removed]",
            "text/plain": [
              "<matplotlib.figure.Figure at 0x7f8bcf436b70>"
            ]
          },
          "metadata": {
            "tags": []
          }
        }
      ]
    },
    {
      "metadata": {
        "id": "VY022K7hIzoS",
        "colab_type": "code",
        "colab": {}
      },
      "cell_type": "code",
      "source": [
        "# extend this idea to a sample distribution, prior distribution, and \n",
        "# posterior distribution for bernoulli trials\n",
        "def plot_bayesian_dist(ax, \n",
        "                       prior_mean=0.5,\n",
        "                       prior_size=100,\n",
        "                       sample_mean=0.5,\n",
        "                       sample_size=100,\n",
        "                       n_params=1000,\n",
        "                       xlabel='',\n",
        "                       ylabel='',\n",
        "                       title='',\n",
        "                       colors=['black', 'red','blue'],\n",
        "                       labels=['Prior Distribution','Sample Distribution', 'Posterior Distribution'],\n",
        "                       normalize=True,\n",
        "                       legend_loc='upper left'):\n",
        "  \n",
        "  params = np.linspace(0,1,n_params)\n",
        "  \n",
        "  # prior distribution             \n",
        "  flips_prior = np.random.binomial(n=1, p=prior_mean, size=prior_size)\n",
        "  probs_prior = np.array([np.product(stats.bernoulli.pmf(flips_prior, p)) for p in params])\n",
        "  if normalize: probs_prior = probs_prior / np.sum(probs_prior) # normalize\n",
        "  ax.plot(params, probs_prior, color=colors[0], label=labels[0])\n",
        "  \n",
        "  # sample distribution\n",
        "  flips_sample = np.random.binomial(n=1, p=sample_mean, size=sample_size)\n",
        "  probs_sample = np.array([np.product(stats.bernoulli.pmf(flips_sample, p)) for p in params])\n",
        "  if normalize: probs_sample = probs_sample / np.sum(probs_sample) # normalize\n",
        "  ax.plot(params, probs_sample, color=colors[1], label=labels[1])\n",
        "  \n",
        "  # infering posterior distribution\n",
        "  probs_posterior = [probs_prior[i] * probs_sample[i] for i in range(probs_prior.shape[0])]\n",
        "  probs_posterior = probs_posterior / np.sum(probs_posterior)\n",
        "  ax.plot(params, probs_posterior, color=colors[2], label=labels[2])\n",
        "  \n",
        "  # general plotting stuff\n",
        "  ax.set_xlabel(xlabel)\n",
        "  ax.set_ylabel(ylabel)\n",
        "  ax.set_title(title)\n",
        "  ax.legend(loc=legend_loc)"
      ],
      "execution_count": 0,
      "outputs": []
    },
    {
      "metadata": {
        "id": "yW4SyaZuJ7y0",
        "colab_type": "code",
        "colab": {
          "base_uri": "https://localhost:8080/",
          "height": 375
        },
        "outputId": "fa53cada-9fff-4eb0-f845-8e4d20bc2f69"
      },
      "cell_type": "code",
      "source": [
        "fig_bayes, ax_bayes = plt.subplots()\n",
        "\n",
        "plot_bayesian_dist(ax=ax_bayes, \n",
        "                   prior_mean=0.5,\n",
        "                   prior_size=100,\n",
        "                   sample_mean=0.8,\n",
        "                   sample_size=1500,\n",
        "                   xlabel='Outcome',\n",
        "                   ylabel='Frequency (Standardized)',\n",
        "                   title='Visualizing Bayesian Inference',\n",
        "                   colors=['black', 'red','blue'],\n",
        "                   labels=['Prior Distribution','Sample Distribution', 'Posterior Distribution'],\n",
        "                   normalize=True)\n",
        "\n",
        "plt.show()"
      ],
      "execution_count": 40,
      "outputs": [
        {
          "output_type": "display_data",
          "data": {
            "image/png": "[encoded data removed]",
            "text/plain": [
              "<matplotlib.figure.Figure at 0x7f3d01dbb400>"
            ]
          },
          "metadata": {
            "tags": []
          }
        }
      ]
    },
    {
      "metadata": {
        "id": "dh2dG72eN7gB",
        "colab_type": "text"
      },
      "cell_type": "markdown",
      "source": [
        "Resulting Posterior Distribution is a function of the size of evidence provided in both sample and posterior distributions."
      ]
    },
    {
      "metadata": {
        "id": "o0MPHSSXOHEB",
        "colab_type": "code",
        "colab": {
          "base_uri": "https://localhost:8080/",
          "height": 494
        },
        "outputId": "9a114bc0-5a64-4bcb-ccc2-d2303822a5a1"
      },
      "cell_type": "code",
      "source": [
        "fig_bayes2, ax_bayes2 = plt.subplots(1,3,figsize=(25,7))\n",
        "\n",
        "plot_bayesian_dist(ax=ax_bayes2[1], \n",
        "                   prior_mean=0.3,\n",
        "                   prior_size=100,\n",
        "                   sample_mean=0.7,\n",
        "                   sample_size=100,\n",
        "                   xlabel='Outcome',\n",
        "                   ylabel='Frequency (Standardized)',\n",
        "                   title='Equal Amount of Prior and Sample Evidence',\n",
        "                   labels=['Prior Distribution (N=100)','Sample Distribution (N=100)', 'Posterior Distribution (N=100)'],\n",
        "                   normalize=True)\n",
        "\n",
        "plot_bayesian_dist(ax=ax_bayes2[0], \n",
        "                   prior_mean=0.3,\n",
        "                   prior_size=100,\n",
        "                   sample_mean=0.7,\n",
        "                   sample_size=2000,\n",
        "                   xlabel='Outcome',\n",
        "                   ylabel='Frequency (Standardized)',\n",
        "                   title='Large Amount of Prior Evidence, Little Sample Evidence',\n",
        "                   labels=['Prior Distribution (N=100)','Sample Distribution (N=20)', 'Posterior Distribution (N=100)'],\n",
        "                   normalize=True,\n",
        "                   legend_loc='upper right')\n",
        "\n",
        "plot_bayesian_dist(ax=ax_bayes2[2], \n",
        "                   prior_mean=0.3,\n",
        "                   prior_size=20,\n",
        "                   sample_mean=0.7,\n",
        "                   sample_size=500,\n",
        "                   xlabel='Outcome',\n",
        "                   ylabel='Frequency (Standardized)',\n",
        "                   title='Little Prior Evidence, Large Sample Evidence',\n",
        "                   labels=['Prior Distribution (N=20)','Sample Distribution (N=100)', 'Posterior Distribution (N=100)'],\n",
        "                   normalize=True)\n",
        "plt.show()"
      ],
      "execution_count": 41,
      "outputs": [
        {
          "output_type": "stream",
          "text": [
            "/usr/local/lib/python3.6/dist-packages/ipykernel_launcher.py:26: RuntimeWarning: invalid value encountered in true_divide\n"
          ],
          "name": "stderr"
        },
        {
          "output_type": "display_data",
          "data": {
            "image/png": "[encoded data removed]",
            "text/plain": [
              "<matplotlib.figure.Figure at 0x7f3d03839c50>"
            ]
          },
          "metadata": {
            "tags": []
          }
        }
      ]
    },
    {
      "metadata": {
        "id": "_vRKVrpImOAY",
        "colab_type": "text"
      },
      "cell_type": "markdown",
      "source": [
        "## Play With PyMC3?"
      ]
    },
    {
      "metadata": {
        "id": "qPYd3_a9CiBF",
        "colab_type": "code",
        "colab": {}
      },
      "cell_type": "code",
      "source": [
        "import pymc3"
      ],
      "execution_count": 0,
      "outputs": []
    },
    {
      "metadata": {
        "id": "TO9QVWD0C6-f",
        "colab_type": "code",
        "colab": {}
      },
      "cell_type": "code",
      "source": [
        ""
      ],
      "execution_count": 0,
      "outputs": []
    },
    {
      "metadata": {
        "id": "7JH8S9OiSX83",
        "colab_type": "text"
      },
      "cell_type": "markdown",
      "source": [
        "## Animation Testing"
      ]
    },
    {
      "metadata": {
        "id": "SODQOJqSSbOa",
        "colab_type": "code",
        "colab": {
          "base_uri": "https://localhost:8080/",
          "height": 396
        },
        "outputId": "80554532-cceb-4d4e-f31f-c988a52bdcdb"
      },
      "cell_type": "code",
      "source": [
        "import sys\n",
        "import numpy as np\n",
        "import matplotlib.pyplot as plt\n",
        "from matplotlib.animation import FuncAnimation\n",
        "\n",
        "fig, ax = plt.subplots()\n",
        "#fig.set_tight_layout(True)\n",
        "\n",
        "# Query the figure's on-screen size and DPI. Note that when saving the figure to\n",
        "# a file, we need to provide a DPI for that separately.\n",
        "print('fig size: {0} DPI, size in inches {1}'.format(\n",
        "    fig.get_dpi(), fig.get_size_inches()))\n",
        "\n",
        "# Plot a scatter that persists (isn't redrawn) and the initial line.\n",
        "x = np.arange(0, 20, 0.1)\n",
        "ax.scatter(x, x + np.random.normal(0, 3.0, len(x)))\n",
        "line, = ax.plot(x, x - 5, 'r-', linewidth=2)\n",
        "\n",
        "def update(i):\n",
        "    label = 'timestep {0}'.format(i)\n",
        "    print(label)\n",
        "    # Update the line and the axes (with a new xlabel). Return a tuple of\n",
        "    # \"artists\" that have to be redrawn for this frame.\n",
        "    line.set_ydata(x - 5 + i)\n",
        "    ax.set_xlabel(label)\n",
        "    return line, ax\n",
        "\n",
        "if __name__ == '__main__':\n",
        "    # FuncAnimation will call the 'update' function for each frame; here\n",
        "    # animating over 10 frames, with an interval of 200ms between frames.\n",
        "    anim = FuncAnimation(fig, update, frames=np.arange(0, 10), interval=200)\n",
        "    if len(sys.argv) > 1 and sys.argv[1] == 'save':\n",
        "        anim.save('line.gif', dpi=80, writer='imagemagick')\n",
        "    else:\n",
        "        # plt.show() will just loop the animation forever.\n",
        "        plt.show()"
      ],
      "execution_count": 155,
      "outputs": [
        {
          "output_type": "stream",
          "text": [
            "fig size: 72.0 DPI, size in inches [8.  5.5]\n",
            "timestep 0\n"
          ],
          "name": "stdout"
        },
        {
          "output_type": "display_data",
          "data": {
            "image/png": "[encoded data removed]",
            "text/plain": [
              "<matplotlib.figure.Figure at 0x7f8bcf235d68>"
            ]
          },
          "metadata": {
            "tags": []
          }
        }
      ]
    },
    {
      "metadata": {
        "id": "cZHMqDtzSyqd",
        "colab_type": "code",
        "colab": {
          "base_uri": "https://localhost:8080/",
          "height": 87
        },
        "outputId": "cb27830f-ebc0-45af-f2ab-a3805ec18554"
      },
      "cell_type": "code",
      "source": [
        "!pip install imageio"
      ],
      "execution_count": 19,
      "outputs": [
        {
          "output_type": "stream",
          "text": [
            "Requirement already satisfied: imageio in /usr/local/lib/python3.6/dist-packages (2.4.1)\n",
            "Requirement already satisfied: pillow in /usr/local/lib/python3.6/dist-packages (from imageio) (4.0.0)\n",
            "Requirement already satisfied: numpy in /usr/local/lib/python3.6/dist-packages (from imageio) (1.14.6)\n",
            "Requirement already satisfied: olefile in /usr/local/lib/python3.6/dist-packages (from pillow->imageio) (0.46)\n"
          ],
          "name": "stdout"
        }
      ]
    },
    {
      "metadata": {
        "id": "TNCQzOybSbxF",
        "colab_type": "code",
        "colab": {}
      },
      "cell_type": "code",
      "source": [
        "import matplotlib\n",
        "import matplotlib.pyplot as plt\n",
        "import numpy as np\n",
        "import imageio\n",
        "\n",
        "def plot_for_offset(power, y_max):\n",
        "    # Data for plotting\n",
        "    t = np.arange(0.0, 100, 1)\n",
        "    s = t**power\n",
        "\n",
        "    fig, ax = plt.subplots(figsize=(10,5))\n",
        "    ax.plot(t, s)\n",
        "    ax.grid()\n",
        "    ax.set(xlabel='X', ylabel='x^{}'.format(power),\n",
        "           title='Powers of x')\n",
        "\n",
        "    # IMPORTANT ANIMATION CODE HERE\n",
        "    # Used to keep the limits constant\n",
        "    ax.set_ylim(0, y_max)\n",
        "\n",
        "    # Used to return the plot as an image rray\n",
        "    fig.canvas.draw()       # draw the canvas, cache the renderer\n",
        "    image = np.frombuffer(fig.canvas.tostring_rgb(), dtype='uint8')\n",
        "    image  = image.reshape(fig.canvas.get_width_height()[::-1] + (3,))\n",
        "\n",
        "    return image\n",
        "\n",
        "kwargs_write = {'fps':1.0, 'quantizer':'nq'}\n",
        "imageio.mimsave('./powers.gif', [plot_for_offset(i/4, 100) for i in range(10)], fps=2)"
      ],
      "execution_count": 0,
      "outputs": []
    },
    {
      "metadata": {
        "id": "U_7Gg1DmSxWU",
        "colab_type": "code",
        "colab": {}
      },
      "cell_type": "code",
      "source": [
        "def plot_bayesian_dist_gif(flips_prior,\n",
        "                           flips_sample,\n",
        "                           sample_size,\n",
        "                           n_params=1000,\n",
        "                           xlabel='Mean of x - 1000 Trials',\n",
        "                           ylabel='Probability of Avg(x) = X',\n",
        "                           title='Bayesian Learning',\n",
        "                           colors=['black', 'red','blue'],\n",
        "                           labels=['Prior Distribution','Sample Distribution', 'Posterior Distribution'],\n",
        "                           legend_loc='upper left'):\n",
        "  \n",
        "  \n",
        "  params = np.linspace(0,1,n_params)\n",
        "  fig, ax = plt.subplots(figsize=(10,5))\n",
        "  \n",
        "  flips_sample_learned = flips_sample[:sample_size]\n",
        "  \n",
        "  # prior distribution             \n",
        "  probs_prior = np.array([np.product(stats.bernoulli.pmf(flips_prior, p)) for p in params])\n",
        "  probs_prior = probs_prior / np.sum(probs_prior) # normalize\n",
        "  ax.plot(params, probs_prior, color=colors[0], label=labels[0])\n",
        "  \n",
        "  # sample distribution - full\n",
        "  probs_sample = np.array([np.product(stats.bernoulli.pmf(flips_sample, p)) for p in params])\n",
        "  probs_sample = probs_sample / np.sum(probs_sample) # normalize\n",
        "  ax.plot(params, probs_sample, color=colors[1], label=labels[1])\n",
        "  \n",
        "  # sample distribution learned so far\n",
        "  probs_sample_learned = np.array([np.product(stats.bernoulli.pmf(flips_sample_learned, p)) for p in params])\n",
        "  \n",
        "  # infering posterior distribution\n",
        "  probs_posterior = [probs_prior[i] * probs_sample_learned[i] for i in range(probs_prior.shape[0])]\n",
        "  probs_posterior = probs_posterior / np.sum(probs_posterior)\n",
        "  ax.plot(params, probs_posterior, color=colors[2], label=labels[2])\n",
        "  \n",
        "  # general plotting stuff\n",
        "  ax.set_xlabel(xlabel)\n",
        "  ax.set_ylabel(ylabel)\n",
        "  ax.set_title(title)\n",
        "  ax.legend(loc=legend_loc)\n",
        "  \n",
        "  # IMPORTANT ANIMATION CODE HERE\n",
        "  # Used to keep the limits constant\n",
        "  ax.set_ylim(0, 0.022)\n",
        "\n",
        "  # Used to return the plot as an image rray\n",
        "  fig.canvas.draw()       # draw the canvas, cache the renderer\n",
        "  image = np.frombuffer(fig.canvas.tostring_rgb(), dtype='uint8')\n",
        "  image  = image.reshape(fig.canvas.get_width_height()[::-1] + (3,))\n",
        "\n",
        "  return image"
      ],
      "execution_count": 0,
      "outputs": []
    },
    {
      "metadata": {
        "id": "Ksz6I5_hVcYE",
        "colab_type": "code",
        "colab": {}
      },
      "cell_type": "code",
      "source": [
        "priors = np.random.binomial(n=1, p=0.3, size=100)\n",
        "samples = np.random.binomial(n=1, p=0.7, size=500)\n",
        "\n",
        "kwargs_write = {'fps':1.0, 'quantizer':'nq'}\n",
        "imageio.mimsave('./bayes.gif', [plot_bayesian_dist_gif(priors, \n",
        "                                                       samples, \n",
        "                                                       i, \n",
        "                                                       labels=['Prior Distribution (N=100)','Sample Distribution (N=500)', 'Posterior Distribution'],\n",
        "                                                       title='Bayesian Learning - %s Samples Observed' %i) \n",
        "                                for i in range(0,len(samples),5)], \n",
        "                fps=10)"
      ],
      "execution_count": 0,
      "outputs": []
    },
    {
      "metadata": {
        "id": "l9oS-o3YV8Zr",
        "colab_type": "code",
        "colab": {}
      },
      "cell_type": "code",
      "source": [
        ""
      ],
      "execution_count": 0,
      "outputs": []
    },
    {
      "metadata": {
        "id": "x3vIQGw_peJm",
        "colab_type": "text"
      },
      "cell_type": "markdown",
      "source": [
        "## Sentiment Analyis and Bayesian Prediction on Drug Data"
      ]
    },
    {
      "metadata": {
        "id": "_IlJbNfrqMJx",
        "colab_type": "text"
      },
      "cell_type": "markdown",
      "source": [
        "### Loading Data"
      ]
    },
    {
      "metadata": {
        "id": "YNnUkiXEphe1",
        "colab_type": "code",
        "colab": {
          "base_uri": "https://localhost:8080/",
          "height": 265
        },
        "outputId": "afd51aad-d40f-4f63-93a9-aac05b934fd7"
      },
      "cell_type": "code",
      "source": [
        "# loading data\n",
        "!wget http://archive.ics.uci.edu/ml/machine-learning-databases/00462/drugsCom_raw.zip\n",
        "!unzip drugsCom_raw.zip\n",
        "\n",
        "# imports \n",
        "import pandas as pd\n",
        "import numpy as np\n",
        "import matplotlib.pyplot as plt\n",
        "from scipy import stats\n",
        "\n",
        "drugs_test = pd.read_csv('drugsComTest_raw.tsv', sep='\\t')\n",
        "drugs_train = pd.read_csv('drugsComTrain_raw.tsv', sep='\\t')"
      ],
      "execution_count": 42,
      "outputs": [
        {
          "output_type": "stream",
          "text": [
            "--2018-12-05 23:15:13--  http://archive.ics.uci.edu/ml/machine-learning-databases/00462/drugsCom_raw.zip\n",
            "Resolving archive.ics.uci.edu (archive.ics.uci.edu)... 128.195.10.249\n",
            "Connecting to archive.ics.uci.edu (archive.ics.uci.edu)|128.195.10.249|:80... connected.\n",
            "HTTP request sent, awaiting response... 200 OK\n",
            "Length: 42989872 (41M) [application/zip]\n",
            "Saving to: ‘drugsCom_raw.zip’\n",
            "\n",
            "drugsCom_raw.zip    100%[===================>]  41.00M  21.3MB/s    in 1.9s    \n",
            "\n",
            "2018-12-05 23:15:15 (21.3 MB/s) - ‘drugsCom_raw.zip’ saved [42989872/42989872]\n",
            "\n",
            "Archive:  drugsCom_raw.zip\n",
            "  inflating: drugsComTest_raw.tsv    \n",
            "  inflating: drugsComTrain_raw.tsv   \n"
          ],
          "name": "stdout"
        }
      ]
    },
    {
      "metadata": {
        "id": "3hUrXL3Ap2PG",
        "colab_type": "code",
        "colab": {
          "base_uri": "https://localhost:8080/",
          "height": 197
        },
        "outputId": "a7f65474-7c09-4abe-9933-a4e7a47bde56"
      },
      "cell_type": "code",
      "source": [
        "drugs_train.head()"
      ],
      "execution_count": 43,
      "outputs": [
        {
          "output_type": "execute_result",
          "data": {
            "text/html": [
              "<div>\n",
              "<style scoped>\n",
              "    .dataframe tbody tr th:only-of-type {\n",
              "        vertical-align: middle;\n",
              "    }\n",
              "\n",
              "    .dataframe tbody tr th {\n",
              "        vertical-align: top;\n",
              "    }\n",
              "\n",
              "    .dataframe thead th {\n",
              "        text-align: right;\n",
              "    }\n",
              "</style>\n",
              "<table border=\"1\" class=\"dataframe\">\n",
              "  <thead>\n",
              "    <tr style=\"text-align: right;\">\n",
              "      <th></th>\n",
              "      <th>Unnamed: 0</th>\n",
              "      <th>drugName</th>\n",
              "      <th>condition</th>\n",
              "      <th>review</th>\n",
              "      <th>rating</th>\n",
              "      <th>date</th>\n",
              "      <th>usefulCount</th>\n",
              "    </tr>\n",
              "  </thead>\n",
              "  <tbody>\n",
              "    <tr>\n",
              "      <th>0</th>\n",
              "      <td>206461</td>\n",
              "      <td>Valsartan</td>\n",
              "      <td>Left Ventricular Dysfunction</td>\n",
              "      <td>\"It has no side effect, I take it in combinati...</td>\n",
              "      <td>9.0</td>\n",
              "      <td>May 20, 2012</td>\n",
              "      <td>27</td>\n",
              "    </tr>\n",
              "    <tr>\n",
              "      <th>1</th>\n",
              "      <td>95260</td>\n",
              "      <td>Guanfacine</td>\n",
              "      <td>ADHD</td>\n",
              "      <td>\"My son is halfway through his fourth week of ...</td>\n",
              "      <td>8.0</td>\n",
              "      <td>April 27, 2010</td>\n",
              "      <td>192</td>\n",
              "    </tr>\n",
              "    <tr>\n",
              "      <th>2</th>\n",
              "      <td>92703</td>\n",
              "      <td>Lybrel</td>\n",
              "      <td>Birth Control</td>\n",
              "      <td>\"I used to take another oral contraceptive, wh...</td>\n",
              "      <td>5.0</td>\n",
              "      <td>December 14, 2009</td>\n",
              "      <td>17</td>\n",
              "    </tr>\n",
              "    <tr>\n",
              "      <th>3</th>\n",
              "      <td>138000</td>\n",
              "      <td>Ortho Evra</td>\n",
              "      <td>Birth Control</td>\n",
              "      <td>\"This is my first time using any form of birth...</td>\n",
              "      <td>8.0</td>\n",
              "      <td>November 3, 2015</td>\n",
              "      <td>10</td>\n",
              "    </tr>\n",
              "    <tr>\n",
              "      <th>4</th>\n",
              "      <td>35696</td>\n",
              "      <td>Buprenorphine / naloxone</td>\n",
              "      <td>Opiate Dependence</td>\n",
              "      <td>\"Suboxone has completely turned my life around...</td>\n",
              "      <td>9.0</td>\n",
              "      <td>November 27, 2016</td>\n",
              "      <td>37</td>\n",
              "    </tr>\n",
              "  </tbody>\n",
              "</table>\n",
              "</div>"
            ],
            "text/plain": [
              "   Unnamed: 0                  drugName                     condition  \\\n",
              "0      206461                 Valsartan  Left Ventricular Dysfunction   \n",
              "1       95260                Guanfacine                          ADHD   \n",
              "2       92703                    Lybrel                 Birth Control   \n",
              "3      138000                Ortho Evra                 Birth Control   \n",
              "4       35696  Buprenorphine / naloxone             Opiate Dependence   \n",
              "\n",
              "                                              review  rating  \\\n",
              "0  \"It has no side effect, I take it in combinati...     9.0   \n",
              "1  \"My son is halfway through his fourth week of ...     8.0   \n",
              "2  \"I used to take another oral contraceptive, wh...     5.0   \n",
              "3  \"This is my first time using any form of birth...     8.0   \n",
              "4  \"Suboxone has completely turned my life around...     9.0   \n",
              "\n",
              "                date  usefulCount  \n",
              "0       May 20, 2012           27  \n",
              "1     April 27, 2010          192  \n",
              "2  December 14, 2009           17  \n",
              "3   November 3, 2015           10  \n",
              "4  November 27, 2016           37  "
            ]
          },
          "metadata": {
            "tags": []
          },
          "execution_count": 43
        }
      ]
    },
    {
      "metadata": {
        "id": "djuuEw1pqOa0",
        "colab_type": "text"
      },
      "cell_type": "markdown",
      "source": [
        "### Language Processing"
      ]
    },
    {
      "metadata": {
        "id": "Lqrz_G0Ep_r1",
        "colab_type": "code",
        "colab": {
          "base_uri": "https://localhost:8080/",
          "height": 52
        },
        "outputId": "430d9912-da90-4f4b-a3d3-3e83cdf90a5e"
      },
      "cell_type": "code",
      "source": [
        "# natural language processing time lfg\n",
        "import nltk\n",
        "nltk.download('vader_lexicon')"
      ],
      "execution_count": 44,
      "outputs": [
        {
          "output_type": "stream",
          "text": [
            "[nltk_data] Downloading package vader_lexicon to /root/nltk_data...\n"
          ],
          "name": "stdout"
        },
        {
          "output_type": "execute_result",
          "data": {
            "text/plain": [
              "True"
            ]
          },
          "metadata": {
            "tags": []
          },
          "execution_count": 44
        }
      ]
    },
    {
      "metadata": {
        "id": "wRdfuMcDqQSh",
        "colab_type": "code",
        "colab": {}
      },
      "cell_type": "code",
      "source": [
        "# function to analyze sentiment of a sentence\n",
        "def nltk_sentiment(sentence):\n",
        "    from nltk.sentiment.vader import SentimentIntensityAnalyzer\n",
        "    \n",
        "    nltk_sentiment = SentimentIntensityAnalyzer()\n",
        "    score = nltk_sentiment.polarity_scores(sentence)\n",
        "    return score"
      ],
      "execution_count": 0,
      "outputs": []
    },
    {
      "metadata": {
        "id": "LWacAJwMqhDh",
        "colab_type": "code",
        "colab": {}
      },
      "cell_type": "code",
      "source": [
        "#nltk_results = [nltk_sentiment(row) for row in drugs_train]\n",
        "results_df = pd.DataFrame([nltk_sentiment(row) for row in drugs_train['review']])\n",
        "text_df = pd.DataFrame(drugs_train, columns = ['review'])\n",
        "nltk_df = text_df.join(results_df)"
      ],
      "execution_count": 0,
      "outputs": []
    },
    {
      "metadata": {
        "id": "NUqrRDEKrILK",
        "colab_type": "code",
        "colab": {
          "base_uri": "https://localhost:8080/",
          "height": 34
        },
        "outputId": "0b14b638-ba97-4245-81d6-f64bcc59930e"
      },
      "cell_type": "code",
      "source": [
        "sample_text = nltk_sentiment(drugs_train['review'].values[0])\n",
        "sample_text"
      ],
      "execution_count": 54,
      "outputs": [
        {
          "output_type": "execute_result",
          "data": {
            "text/plain": [
              "{'compound': -0.296, 'neg': 0.136, 'neu': 0.864, 'pos': 0.0}"
            ]
          },
          "metadata": {
            "tags": []
          },
          "execution_count": 54
        }
      ]
    },
    {
      "metadata": {
        "id": "9b3vdiP1rlg3",
        "colab_type": "code",
        "colab": {}
      },
      "cell_type": "code",
      "source": [
        "drugs_train['nltk'] = drugs_train['review'].apply(lambda row : nltk_sentiment(row))"
      ],
      "execution_count": 0,
      "outputs": []
    },
    {
      "metadata": {
        "id": "8Gbo8V7qtTAY",
        "colab_type": "code",
        "colab": {}
      },
      "cell_type": "code",
      "source": [
        ""
      ],
      "execution_count": 0,
      "outputs": []
    }
  ]
}