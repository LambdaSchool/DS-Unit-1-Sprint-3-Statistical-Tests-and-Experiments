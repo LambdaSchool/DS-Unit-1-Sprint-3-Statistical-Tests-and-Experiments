{
 "cells": [
  {
   "cell_type": "markdown",
   "metadata": {
    "colab_type": "text",
    "id": "H7OLbevlbd_Z"
   },
   "source": [
    "# Lambda School Data Science Module 143\n",
    "\n",
    "## Introduction to Bayesian Inference\n",
    "\n",
    "!['Detector! What would the Bayesian statistician say if I asked him whether the--' [roll] 'I AM A NEUTRINO DETECTOR, NOT A LABYRINTH GUARD. SERIOUSLY, DID YOUR BRAIN FALL OUT?' [roll] '... yes.'](https://imgs.xkcd.com/comics/frequentists_vs_bayesians.png)\n",
    "\n",
    "*[XKCD 1132](https://www.xkcd.com/1132/)*\n"
   ]
  },
  {
   "cell_type": "markdown",
   "metadata": {
    "colab_type": "text",
    "id": "3mz8p08BsN6p"
   },
   "source": [
    "## Prepare - Bayes' Theorem and the Bayesian mindset"
   ]
  },
  {
   "cell_type": "markdown",
   "metadata": {
    "colab_type": "text",
    "id": "GhycNr-Sbeie"
   },
   "source": [
    "Bayes' theorem possesses a near-mythical quality - a bit of math that somehow magically evaluates a situation. But this mythicalness has more to do with its reputation and advanced applications than the actual core of it - deriving it is actually remarkably straightforward.\n",
    "\n",
    "### The Law of Total Probability\n",
    "\n",
    "By definition, the total probability of all outcomes (events) if some variable (event space) $A$ is 1. That is:\n",
    "\n",
    "$$P(A) = \\sum_n P(A_n) = 1$$\n",
    "\n",
    "The law of total probability takes this further, considering two variables ($A$ and $B$) and relating their marginal probabilities (their likelihoods considered independently, without reference to one another) and their conditional probabilities (their likelihoods considered jointly). A marginal probability is simply notated as e.g. $P(A)$, while a conditional probability is notated $P(A|B)$, which reads \"probability of $A$ *given* $B$\".\n",
    "\n",
    "The law of total probability states:\n",
    "\n",
    "$$P(A) = \\sum_n P(A | B_n) P(B_n)$$\n",
    "\n",
    "In words - the total probability of $A$ is equal to the sum of the conditional probability of $A$ on any given event $B_n$ times the probability of that event $B_n$, and summed over all possible events in $B$.\n",
    "\n",
    "### The Law of Conditional Probability\n",
    "\n",
    "What's the probability of something conditioned on something else? To determine this we have to go back to set theory and think about the intersection of sets:\n",
    "\n",
    "The formula for actual calculation:\n",
    "\n",
    "$$P(A|B) = \\frac{P(A \\cap B)}{P(B)}$$\n",
    "\n",
    "![Visualization of set intersection](https://upload.wikimedia.org/wikipedia/commons/9/99/Venn0001.svg)\n",
    "\n",
    "Think of the overall rectangle as the whole probability space, $A$ as the left circle, $B$ as the right circle, and their intersection as the red area. Try to visualize the ratio being described in the above formula, and how it is different from just the $P(A)$ (not conditioned on $B$).\n",
    "\n",
    "We can see how this relates back to the law of total probability - multiply both sides by $P(B)$ and you get $P(A|B)P(B) = P(A \\cap B)$ - replaced back into the law of total probability we get $P(A) = \\sum_n P(A \\cap B_n)$.\n",
    "\n",
    "This may not seem like an improvement at first, but try to relate it back to the above picture - if you think of sets as physical objects, we're saying that the total probability of $A$ given $B$ is all the little pieces of it intersected with $B$, added together. The conditional probability is then just that again, but divided by the probability of $B$ itself happening in the first place.\n",
    "\n",
    "### Bayes Theorem\n",
    "\n",
    "Here is is, the seemingly magic tool:\n",
    "\n",
    "$$P(A|B) = \\frac{P(B|A)P(A)}{P(B)}$$\n",
    "\n",
    "In words - the probability of $A$ conditioned on $B$ is the probability of $B$ conditioned on $A$, times the probability of $A$ and divided by the probability of $B$. These unconditioned probabilities are referred to as \"prior beliefs\", and the conditioned probabilities as \"updated.\"\n",
    "\n",
    "Why is this important? Scroll back up to the XKCD example - the Bayesian statistician draws a less absurd conclusion because their prior belief in the likelihood that the sun will go nova is extremely low. So, even when updated based on evidence from a detector that is $35/36 = 0.972$ accurate, the prior belief doesn't shift enough to change their overall opinion.\n",
    "\n",
    "There's many examples of Bayes' theorem - one less absurd example is to apply to [breathalyzer tests](https://www.bayestheorem.net/breathalyzer-example/). You may think that a breathalyzer test that is 100% accurate for true positives (detecting somebody who is drunk) is pretty good, but what if it also has 8% false positives (indicating somebody is drunk when they're not)? And furthermore, the rate of drunk driving (and thus our prior belief)  is 1/1000.\n",
    "\n",
    "What is the likelihood somebody really is drunk if they test positive? Some may guess it's 92% - the difference between the true positives and the false positives. But we have a prior belief of the background/true rate of drunk driving. Sounds like a job for Bayes' theorem!\n",
    "\n",
    "$$\n",
    "\\begin{aligned}\n",
    "P(Drunk | Positive) &= \\frac{P(Positive | Drunk)P(Drunk)}{P(Positive)} \\\\\n",
    "&= \\frac{1 \\times 0.001}{0.08} \\\\\n",
    "&= 0.0125\n",
    "\\end{aligned}\n",
    "$$\n",
    "\n",
    "In other words, the likelihood that somebody is drunk given they tested positive with a breathalyzer in this situation is only 1.25% - probably much lower than you'd guess. This is why, in practice, it's important to have a repeated test to confirm (the probability of two false positives in a row is $0.08 * 0.08 = 0.0064$, much lower), and Bayes' theorem has been relevant in court cases where proper consideration of evidence was important."
   ]
  },
  {
   "cell_type": "markdown",
   "metadata": {
    "colab_type": "text",
    "id": "htI3DGvDsRJF"
   },
   "source": [
    "## Live Lecture - Deriving Bayes' Theorem, Calculating Bayesian Confidence"
   ]
  },
  {
   "cell_type": "markdown",
   "metadata": {
    "colab_type": "text",
    "id": "moIJNQ-nbfe_"
   },
   "source": [
    "Notice that $P(A|B)$ appears in the above laws - in Bayesian terms, this is the belief in $A$ updated for the evidence $B$. So all we need to do is solve for this term to derive Bayes' theorem. Let's do it together!"
   ]
  },
  {
   "cell_type": "code",
   "execution_count": 1,
   "metadata": {
    "colab": {},
    "colab_type": "code",
    "id": "ke-5EqJI0Tsn"
   },
   "outputs": [],
   "source": [
    "# Activity 2 - Use SciPy to calculate Bayesian confidence intervals\n",
    "# https://docs.scipy.org/doc/scipy/reference/generated/scipy.stats.bayes_mvs.html#scipy.stats.bayes_mvs"
   ]
  },
  {
   "cell_type": "code",
   "execution_count": 3,
   "metadata": {},
   "outputs": [
    {
     "name": "stdout",
     "output_type": "stream",
     "text": [
      "[0 1 1 1 0 0 0 1 1 1 0 1 1 0 0 0 0 1 0 0 1 0 0 0 0 1 0 1 1 0 1 0 0 1 1 1 0\n",
      " 0 1 0 0 0 0 1 0 1 0 1 1 0 1 1 1 1 1 1 0 0 0 0 0 0 1 0 0 1 0 1 0 1 1 0 0 1\n",
      " 1 1 1 0 0 0 1 1 0 0 0 0 1 1 1 0 0 1 1 1 1 0 1 0 0 0]\n"
     ]
    }
   ],
   "source": [
    "from scipy import stats\n",
    "import numpy as np\n",
    "\n",
    "np.random.seed(seed=42)\n",
    "coinflips = np.random.binomial(n=1, p=.5, size=100)\n",
    "print(coinflips)"
   ]
  },
  {
   "cell_type": "markdown",
   "metadata": {
    "colab_type": "text",
    "id": "P-DzzRk5bf0z"
   },
   "source": [
    "## Assignment - Code it up!\n",
    "\n",
    "Most of the above was pure math - now write Python code to reproduce the results! This is purposefully open ended - you'll have to think about how you should represent probabilities and events. You can and should look things up, and as a stretch goal - refactor your code into helpful reusable functions!\n",
    "\n",
    "Specific goals/targets:\n",
    "\n",
    "1. Write a function `def prob_drunk_given_positive(prob_drunk_prior, prob_positive, prob_positive_drunk)` that reproduces the example from lecture, and use it to calculate and visualize a range of situations\n",
    "2. Explore `scipy.stats.bayes_mvs` - read its documentation, and experiment with it on data you've tested in other ways earlier this week\n",
    "3. Create a visualization comparing the results of a Bayesian approach to a traditional/frequentist approach\n",
    "4. In your own words, summarize the difference between Bayesian and Frequentist statistics\n",
    "\n",
    "If you're unsure where to start, check out [this blog post of Bayes theorem with Python](https://dataconomy.com/2015/02/introduction-to-bayes-theorem-with-python/) - you could and should create something similar!\n",
    "\n",
    "Stretch goals:\n",
    "\n",
    "- Apply a Bayesian technique to a problem you previously worked (in an assignment or project work) on from a frequentist (standard) perspective\n",
    "- Check out [PyMC3](https://docs.pymc.io/) (note this goes beyond hypothesis tests into modeling) - read the guides and work through some examples\n",
    "- Take PyMC3 further - see if you can build something with it!"
   ]
  },
  {
   "cell_type": "code",
   "execution_count": 157,
   "metadata": {
    "colab": {},
    "colab_type": "code",
    "id": "xpVhZyUnbf7o"
   },
   "outputs": [],
   "source": [
    "import numpy as np\n",
    "import pandas as pd\n",
    "from scipy import stats\n",
    "import seaborn as sns\n",
    "import matplotlib.pyplot as plt\n",
    "\n",
    "def confidence_interval(data, confidence=0.95):\n",
    "    \"\"\"\n",
    "    Calculate a confidence interval around a sample mean for given data.\n",
    "    Using t-distribution and two-tailed test, default 95% confidence. \n",
    "\n",
    "    Arguments:\n",
    "      data - iterable (list or numpy array) of sample observations\n",
    "      confidence - level of confidence for the interval\n",
    "\n",
    "    Returns:\n",
    "      tuple of (mean, lower bound, upper bound)\n",
    "    \"\"\"\n",
    "    data = np.array(data)\n",
    "    mean = np.mean(data)\n",
    "    n = len(data)\n",
    "    stderr = stats.sem(data)\n",
    "    interval = stderr * stats.t.ppf((1 + confidence) / 2.0, n - 1)\n",
    "    return (mean, mean - interval, mean + interval)\n"
   ]
  },
  {
   "cell_type": "code",
   "execution_count": 154,
   "metadata": {},
   "outputs": [
    {
     "name": "stdout",
     "output_type": "stream",
     "text": [
      "Test #1 postive accuracy: 0.0123578843302026685629924\n",
      "Test #2 postive accuracy: 0.1352521099329149489864932\n",
      "Test #3 postive accuracy: 0.6615996951348604993015101\n",
      "Test #4 postive accuracy: 0.9606895076105054220860779\n",
      "Test #5 postive accuracy: 0.9967371577896734224921715\n",
      "Test #6 postive accuracy: 0.9997381867081508444172755\n",
      "Test #7 postive accuracy: 0.9999790498904362889831532\n",
      "Test #8 postive accuracy: 0.9999983239589307348893499\n",
      "Test #9 postive accuracy: 0.9999998659165076908550418\n",
      "Test #10 postive accuracy: 0.9999999892733192341509607\n"
     ]
    }
   ],
   "source": [
    "def prob_drunk_given_positive(prob_drunk_prior=0.001, \n",
    "                              prob_positive=0.08, \n",
    "                              prob_positive_drunk=1, \n",
    "                              repeat=1):\n",
    "    if repeat == 1:\n",
    "        return (prob_positive_drunk*prob_drunk_prior)/\\\n",
    "        (prob_drunk_prior + (prob_positive*(1-prob_drunk_prior)))\n",
    "    else:\n",
    "        prob_drunk_prior = prob_drunk_given_positive(\n",
    "            prob_drunk_prior, prob_positive, prob_positive_drunk)\n",
    "        return prob_drunk_given_positive(\n",
    "            prob_drunk_prior,\n",
    "            prob_positive,\n",
    "            prob_positive_drunk,\n",
    "            repeat-1\n",
    "        )\n",
    "\n",
    "\n",
    "for i in range(10):\n",
    "    print('Test #%d postive accuracy: %.25f' %\n",
    "          (i+1, prob_drunk_given_positive(0.001, .08, 1, i+1)))"
   ]
  },
  {
   "cell_type": "code",
   "execution_count": 171,
   "metadata": {},
   "outputs": [
    {
     "data": {
      "image/png": "[encoded data removed]",
      "text/plain": [
       "<Figure size 432x288 with 1 Axes>"
      ]
     },
     "metadata": {},
     "output_type": "display_data"
    }
   ],
   "source": [
    "ax = sns.barplot(\n",
    "    x = list(range(1,11)),\n",
    "    y=[prob_drunk_given_positive(repeat=x) for x in range(1,11)],\n",
    ")\n",
    "ax.set_title('Breathalyzer Accuracy')\n",
    "ax.set_ylabel('Accuracy')\n",
    "ax.set_xlabel('Positive Attempts')\n",
    "plt.show()"
   ]
  },
  {
   "cell_type": "code",
   "execution_count": null,
   "metadata": {},
   "outputs": [],
   "source": []
  },
  {
   "cell_type": "code",
   "execution_count": null,
   "metadata": {},
   "outputs": [],
   "source": []
  },
  {
   "cell_type": "code",
   "execution_count": 2,
   "metadata": {},
   "outputs": [
    {
     "data": {
      "text/html": [
       "<div>\n",
       "<style scoped>\n",
       "    .dataframe tbody tr th:only-of-type {\n",
       "        vertical-align: middle;\n",
       "    }\n",
       "\n",
       "    .dataframe tbody tr th {\n",
       "        vertical-align: top;\n",
       "    }\n",
       "\n",
       "    .dataframe thead th {\n",
       "        text-align: right;\n",
       "    }\n",
       "</style>\n",
       "<table border=\"1\" class=\"dataframe\">\n",
       "  <thead>\n",
       "    <tr style=\"text-align: right;\">\n",
       "      <th></th>\n",
       "      <th>Class Name</th>\n",
       "      <th>handicapped-infants</th>\n",
       "      <th>water-project-cost-sharing</th>\n",
       "      <th>adoption-of-the-budget-resolution</th>\n",
       "      <th>physician-fee-freeze</th>\n",
       "      <th>el-salvador-aid</th>\n",
       "      <th>religious-groups-in-schools</th>\n",
       "      <th>anti-satellite-test-ban</th>\n",
       "      <th>aid-to-nicaraguan-contras</th>\n",
       "      <th>mx-missile</th>\n",
       "      <th>immigration</th>\n",
       "      <th>synfuels-corporation-cutback</th>\n",
       "      <th>education-spending</th>\n",
       "      <th>superfund-right-to-sue</th>\n",
       "      <th>crime</th>\n",
       "      <th>duty-free-exports</th>\n",
       "      <th>export-administration-act-south-africa</th>\n",
       "    </tr>\n",
       "  </thead>\n",
       "  <tbody>\n",
       "    <tr>\n",
       "      <th>0</th>\n",
       "      <td>republican</td>\n",
       "      <td>0.0</td>\n",
       "      <td>1.0</td>\n",
       "      <td>0.0</td>\n",
       "      <td>1.0</td>\n",
       "      <td>1.0</td>\n",
       "      <td>1.0</td>\n",
       "      <td>0.0</td>\n",
       "      <td>0.0</td>\n",
       "      <td>0.0</td>\n",
       "      <td>1.0</td>\n",
       "      <td>NaN</td>\n",
       "      <td>1.0</td>\n",
       "      <td>1.0</td>\n",
       "      <td>1.0</td>\n",
       "      <td>0.0</td>\n",
       "      <td>1.0</td>\n",
       "    </tr>\n",
       "    <tr>\n",
       "      <th>1</th>\n",
       "      <td>republican</td>\n",
       "      <td>0.0</td>\n",
       "      <td>1.0</td>\n",
       "      <td>0.0</td>\n",
       "      <td>1.0</td>\n",
       "      <td>1.0</td>\n",
       "      <td>1.0</td>\n",
       "      <td>0.0</td>\n",
       "      <td>0.0</td>\n",
       "      <td>0.0</td>\n",
       "      <td>0.0</td>\n",
       "      <td>0.0</td>\n",
       "      <td>1.0</td>\n",
       "      <td>1.0</td>\n",
       "      <td>1.0</td>\n",
       "      <td>0.0</td>\n",
       "      <td>NaN</td>\n",
       "    </tr>\n",
       "    <tr>\n",
       "      <th>2</th>\n",
       "      <td>democrat</td>\n",
       "      <td>NaN</td>\n",
       "      <td>1.0</td>\n",
       "      <td>1.0</td>\n",
       "      <td>NaN</td>\n",
       "      <td>1.0</td>\n",
       "      <td>1.0</td>\n",
       "      <td>0.0</td>\n",
       "      <td>0.0</td>\n",
       "      <td>0.0</td>\n",
       "      <td>0.0</td>\n",
       "      <td>1.0</td>\n",
       "      <td>0.0</td>\n",
       "      <td>1.0</td>\n",
       "      <td>1.0</td>\n",
       "      <td>0.0</td>\n",
       "      <td>0.0</td>\n",
       "    </tr>\n",
       "    <tr>\n",
       "      <th>3</th>\n",
       "      <td>democrat</td>\n",
       "      <td>0.0</td>\n",
       "      <td>1.0</td>\n",
       "      <td>1.0</td>\n",
       "      <td>0.0</td>\n",
       "      <td>NaN</td>\n",
       "      <td>1.0</td>\n",
       "      <td>0.0</td>\n",
       "      <td>0.0</td>\n",
       "      <td>0.0</td>\n",
       "      <td>0.0</td>\n",
       "      <td>1.0</td>\n",
       "      <td>0.0</td>\n",
       "      <td>1.0</td>\n",
       "      <td>0.0</td>\n",
       "      <td>0.0</td>\n",
       "      <td>1.0</td>\n",
       "    </tr>\n",
       "    <tr>\n",
       "      <th>4</th>\n",
       "      <td>democrat</td>\n",
       "      <td>1.0</td>\n",
       "      <td>1.0</td>\n",
       "      <td>1.0</td>\n",
       "      <td>0.0</td>\n",
       "      <td>1.0</td>\n",
       "      <td>1.0</td>\n",
       "      <td>0.0</td>\n",
       "      <td>0.0</td>\n",
       "      <td>0.0</td>\n",
       "      <td>0.0</td>\n",
       "      <td>1.0</td>\n",
       "      <td>NaN</td>\n",
       "      <td>1.0</td>\n",
       "      <td>1.0</td>\n",
       "      <td>1.0</td>\n",
       "      <td>1.0</td>\n",
       "    </tr>\n",
       "  </tbody>\n",
       "</table>\n",
       "</div>"
      ],
      "text/plain": [
       "   Class Name  handicapped-infants  water-project-cost-sharing  \\\n",
       "0  republican                  0.0                         1.0   \n",
       "1  republican                  0.0                         1.0   \n",
       "2    democrat                  NaN                         1.0   \n",
       "3    democrat                  0.0                         1.0   \n",
       "4    democrat                  1.0                         1.0   \n",
       "\n",
       "   adoption-of-the-budget-resolution  physician-fee-freeze  el-salvador-aid  \\\n",
       "0                                0.0                   1.0              1.0   \n",
       "1                                0.0                   1.0              1.0   \n",
       "2                                1.0                   NaN              1.0   \n",
       "3                                1.0                   0.0              NaN   \n",
       "4                                1.0                   0.0              1.0   \n",
       "\n",
       "   religious-groups-in-schools  anti-satellite-test-ban  \\\n",
       "0                          1.0                      0.0   \n",
       "1                          1.0                      0.0   \n",
       "2                          1.0                      0.0   \n",
       "3                          1.0                      0.0   \n",
       "4                          1.0                      0.0   \n",
       "\n",
       "   aid-to-nicaraguan-contras  mx-missile  immigration  \\\n",
       "0                        0.0         0.0          1.0   \n",
       "1                        0.0         0.0          0.0   \n",
       "2                        0.0         0.0          0.0   \n",
       "3                        0.0         0.0          0.0   \n",
       "4                        0.0         0.0          0.0   \n",
       "\n",
       "   synfuels-corporation-cutback  education-spending  superfund-right-to-sue  \\\n",
       "0                           NaN                 1.0                     1.0   \n",
       "1                           0.0                 1.0                     1.0   \n",
       "2                           1.0                 0.0                     1.0   \n",
       "3                           1.0                 0.0                     1.0   \n",
       "4                           1.0                 NaN                     1.0   \n",
       "\n",
       "   crime  duty-free-exports  export-administration-act-south-africa  \n",
       "0    1.0                0.0                                     1.0  \n",
       "1    1.0                0.0                                     NaN  \n",
       "2    1.0                0.0                                     0.0  \n",
       "3    0.0                0.0                                     1.0  \n",
       "4    1.0                1.0                                     1.0  "
      ]
     },
     "execution_count": 2,
     "metadata": {},
     "output_type": "execute_result"
    }
   ],
   "source": [
    "column_names = ['Class Name',\n",
    "                'handicapped-infants',\n",
    "                'water-project-cost-sharing',\n",
    "                'adoption-of-the-budget-resolution',\n",
    "                'physician-fee-freeze',\n",
    "                'el-salvador-aid',\n",
    "                'religious-groups-in-schools',\n",
    "                'anti-satellite-test-ban',\n",
    "                'aid-to-nicaraguan-contras',\n",
    "                'mx-missile',\n",
    "                'immigration',\n",
    "                'synfuels-corporation-cutback',\n",
    "                'education-spending',\n",
    "                'superfund-right-to-sue',\n",
    "                'crime',\n",
    "                'duty-free-exports',\n",
    "                'export-administration-act-south-africa']\n",
    "\n",
    "url = 'https://archive.ics.uci.edu/ml/machine-learning-databases/voting-records/house-votes-84.data'\n",
    "df = pd.read_csv(url, names=column_names)\n",
    "\n",
    "df = df.replace({'y': 1, 'n': 0, '?': np.nan})\n",
    "df.head()"
   ]
  },
  {
   "cell_type": "code",
   "execution_count": 90,
   "metadata": {},
   "outputs": [
    {
     "name": "stdout",
     "output_type": "stream",
     "text": [
      "(0.6046511627906976, 0.5445926997425515, 0.6647096258388437) (Mean(statistic=0.6046511627906976, minmax=(0.5445926997425515, 0.6647096258388437)), Variance(statistic=0.24186046511627907, minmax=(0.20334567221093322, 0.2875424084350645)), Std_dev(statistic=0.4913111995028866, minmax=(0.4509386568159057, 0.536229809349559)))\n",
      "--\n",
      "\n",
      "(0.18787878787878787, 0.12765166444807918, 0.24810591130949655) (Mean(statistic=0.18787878787878787, minmax=(0.12765166444807918, 0.24810591130949655)), Variance(statistic=0.1554059109614665, minmax=(0.12503405259288558, 0.19301520045485868)), Std_dev(statistic=0.3936076797536535, minmax=(0.35360154495262824, 0.4393349524620807)))\n",
      "(0.502092050209205, 0.43824514095228484, 0.5659389594661252) (Mean(statistic=0.502092050209205, minmax=(0.43824514095228484, 0.5659389594661252)), Variance(statistic=0.25317353379192964, minmax=(0.2114086380840171, 0.30304303169474467)), Std_dev(statistic=0.5026307974956246, minmax=(0.45979195086910457, 0.5504934438253962)))\n",
      "--\n",
      "\n",
      "(0.5067567567567568, 0.42526571045979167, 0.5882478030537219) (Mean(statistic=0.5067567567567568, minmax=(0.42526571045979167, 0.5882478030537219)), Variance(statistic=0.25512581547064306, minmax=(0.2027484523028068, 0.3207708702158109)), Std_dev(statistic=0.5042297029005319, minmax=(0.45027597349048815, 0.5663663745454977)))\n",
      "(0.8884615384615384, 0.8499435153340716, 0.9269795615890052) (Mean(statistic=0.8884615384615384, minmax=(0.8499435153340716, 0.9269795615890052)), Variance(statistic=0.10025441484585453, minmax=(0.08434639072625345, 0.11911026270760343)), Std_dev(statistic=0.3163219205956206, minmax=(0.2904245009055769, 0.3451235470199091)))\n",
      "--\n",
      "\n",
      "(0.13414634146341464, 0.08143520131697565, 0.18685748160985363) (Mean(statistic=0.13414634146341464, minmax=(0.08143520131697565, 0.18685748160985363)), Variance(statistic=0.11831540675655207, minmax=(0.09512846583622057, 0.14704650508807707)), Std_dev(statistic=0.3434363695472423, minmax=(0.30842902884816237, 0.38346643280485065)))\n",
      "(0.05405405405405406, 0.02633186149720885, 0.08177624661089927) (Mean(statistic=0.05405405405405406, minmax=(0.02633186149720885, 0.08177624661089927)), Variance(statistic=0.05173141891891893, minmax=(0.04350822262042104, 0.061481621824161066)), Std_dev(statistic=0.22722341396395962, minmax=(0.20858624743837031, 0.24795487860528392)))\n",
      "--\n",
      "\n",
      "(0.9878787878787879, 0.9710067448304756, 1.0047508309271003) (Mean(statistic=0.9878787878787879, minmax=(0.9710067448304756, 1.0047508309271003)), Variance(statistic=0.012196034418256639, minmax=(0.009812494257409895, 0.015147557859480966)), Std_dev(statistic=0.11026536448466456, minmax=(0.09905803479481054, 0.12307541533336773)))\n",
      "(0.21568627450980393, 0.1648631139997972, 0.26650943501981067) (Mean(statistic=0.21568627450980393, minmax=(0.1648631139997972, 0.26650943501981067)), Variance(statistic=0.17117958294428878, minmax=(0.14377258809347396, 0.20371943271521797)), Std_dev(statistic=0.4133282938875053, minmax=(0.3791735593280127, 0.45135289155517544)))\n",
      "--\n",
      "\n",
      "(0.9515151515151515, 0.9183979451371699, 0.9846323578931332) (Mean(statistic=0.9515151515151515, minmax=(0.9183979451371699, 0.9846323578931332)), Variance(statistic=0.04698840254395809, minmax=(0.037805192599100694, 0.05835991617027022)), Std_dev(statistic=0.2164338261540453, minmax=(0.19443557441759646, 0.24157797120240543)))\n",
      "(0.47674418604651164, 0.41539182663748236, 0.5380965454555409) (Mean(statistic=0.47674418604651164, minmax=(0.41539182663748236, 0.5380965454555409)), Variance(statistic=0.25239398084815323, minmax=(0.21220179028799308, 0.3000654658160034)), Std_dev(statistic=0.5018959820769644, minmax=(0.4606536554592757, 0.547782316085508)))\n",
      "--\n",
      "\n",
      "(0.8975903614457831, 0.850987486003394, 0.9441932368881721) (Mean(statistic=0.8975903614457831, minmax=(0.850987486003394, 0.9441932368881721)), Variance(statistic=0.09361371867839453, minmax=(0.07536837976348561, 0.11619212523901244)), Std_dev(statistic=0.3054946837594435, minmax=(0.27453302126244417, 0.3408696601914175)))\n",
      "(0.7722007722007722, 0.7207820216365644, 0.8236195227649801) (Mean(statistic=0.7722007722007722, minmax=(0.7207820216365644, 0.8236195227649801)), Variance(statistic=0.1779681467181467, minmax=(0.14967843350465543, 0.21151111881198262)), Std_dev(statistic=0.4214509375837827, minmax=(0.38688297132938715, 0.459903379865796)))\n",
      "--\n",
      "\n",
      "(0.24074074074074073, 0.17420089269707362, 0.30728058878440784) (Mean(statistic=0.24074074074074073, minmax=(0.17420089269707362, 0.30728058878440784)), Variance(statistic=0.18623340321453533, minmax=(0.14953243783578588, 0.23177038548039636)), Std_dev(statistic=0.43086968712465196, minmax=(0.3866942433445136, 0.48142536854677315)))\n",
      "(0.8288973384030418, 0.7830845214499412, 0.8747101553561424) (Mean(statistic=0.8288973384030418, minmax=(0.7830845214499412, 0.8747101553561424)), Variance(statistic=0.14346300087744956, minmax=(0.12081920999978502, 0.17027655495433414)), Std_dev(statistic=0.37840107859159866, minmax=(0.3475905781228614, 0.41264579842079346)))\n",
      "--\n",
      "\n",
      "(0.15286624203821655, 0.09595477158126557, 0.20977771249516752) (Mean(statistic=0.15286624203821655, minmax=(0.09595477158126556, 0.20977771249516755)), Variance(statistic=0.13202084539664163, minmax=(0.10563117549925748, 0.16487680254217774)), Std_dev(statistic=0.3627573629588222, minmax=(0.3250095006292239, 0.40605024632695125)))\n",
      "(0.7580645161290323, 0.7043940111605527, 0.8117350210975118) (Mean(statistic=0.7580645161290323, minmax=(0.7043940111605527, 0.8117350210975118)), Variance(statistic=0.18564845292955898, minmax=(0.15554046636439353, 0.22148173885555145)), Std_dev(statistic=0.4304299779630501, minmax=(0.39438618936823017, 0.4706184642101831)))\n",
      "--\n",
      "\n",
      "(0.11515151515151516, 0.06593485907282265, 0.16436817123020767) (Mean(statistic=0.11515151515151516, minmax=(0.06593485907282265, 0.16436817123020767)), Variance(statistic=0.10377852600074824, minmax=(0.08349650021489281, 0.1288936365098166)), Std_dev(statistic=0.32164999257610655, minmax=(0.2889576097196487, 0.3590175991644652)))\n",
      "(0.4714828897338403, 0.41075744059137587, 0.5322083388763047) (Mean(statistic=0.4714828897338403, minmax=(0.4107574405913758, 0.5322083388763047)), Variance(statistic=0.25206200643463006, minmax=(0.2122772582626192, 0.29917295628877705)), Std_dev(statistic=0.5015752573562859, minmax=(0.4607355621857501, 0.5469670522881401)))\n",
      "--\n",
      "\n",
      "(0.5575757575757576, 0.4809959592103161, 0.6341555559411991) (Mean(statistic=0.5575757575757576, minmax=(0.4809959592103161, 0.6341555559411991)), Variance(statistic=0.25125327347549575, minmax=(0.20214942157289836, 0.31205827786587176)), Std_dev(statistic=0.5004787715837512, minmax=(0.44961029967394917, 0.5586217663731622)))\n",
      "(0.5058823529411764, 0.4441027014712158, 0.5676620044111371) (Mean(statistic=0.5058823529411764, minmax=(0.4441027014712158, 0.5676620044111371)), Variance(statistic=0.25294117647058817, minmax=(0.21244360426102965, 0.30102324175937756)), Std_dev(statistic=0.5024338841346913, minmax=(0.4609160490382491, 0.5486558500183677)))\n",
      "--\n",
      "\n",
      "(0.1320754716981132, 0.0788755652396695, 0.18527537815655692) (Mean(statistic=0.1320754716981132, minmax=(0.07887556523966949, 0.18527537815655692)), Variance(statistic=0.1168359941944848, minmax=(0.09361519026119748, 0.14570630972866686)), Std_dev(statistic=0.34126547128139206, minmax=(0.3059659952694049, 0.3817149587436506)))\n",
      "(0.14457831325301204, 0.10059494022327561, 0.18856168628274847) (Mean(statistic=0.14457831325301204, minmax=(0.10059494022327561, 0.18856168628274847)), Variance(statistic=0.125183661475169, minmax=(0.10491936489763859, 0.14929290683668217)), Std_dev(statistic=0.3534536493496531, minmax=(0.3239125883593267, 0.3863844029417883)))\n",
      "--\n",
      "\n",
      "(0.8709677419354839, 0.8176017935029393, 0.9243336903680285) (Mean(statistic=0.8709677419354839, minmax=(0.8176017935029393, 0.9243336903680285)), Variance(statistic=0.11460101867572155, minmax=(0.09156002032300059, 0.14332860512795118)), Std_dev(statistic=0.33797139479499266, minmax=(0.3025888635145064, 0.3785876452394494)))\n",
      "(0.2896825396825397, 0.23329310265193048, 0.34607197671314893) (Mean(statistic=0.2896825396825397, minmax=(0.23329310265193048, 0.34607197671314893)), Variance(statistic=0.2082456811372474, minmax=(0.17472143792416664, 0.2480892338548104)), Std_dev(statistic=0.45588149535075234, minmax=(0.41799693530475396, 0.49808556880802163)))\n",
      "--\n",
      "\n",
      "(0.8607594936708861, 0.8061858971620528, 0.9153330901797194) (Mean(statistic=0.8607594936708861, minmax=(0.8061858971620528, 0.9153330901797194)), Variance(statistic=0.12217231523070644, minmax=(0.09782141296041147, 0.15246870149332584)), Std_dev(statistic=0.3489682631445458, minmax=(0.31276414909706557, 0.39047240810757144)))\n",
      "(0.35019455252918286, 0.2914817910969736, 0.4089073139613921) (Mean(statistic=0.35019455252918286, minmax=(0.2914817910969736, 0.4089073139613921)), Variance(statistic=0.23024602469438402, minmax=(0.19351490682179198, 0.273826905285114)), Std_dev(statistic=0.47936753276260774, minmax=(0.43990329257893945, 0.5232847267837214)))\n",
      "--\n",
      "\n",
      "(0.9813664596273292, 0.960253517544598, 1.0024794017100602) (Mean(statistic=0.9813664596273292, minmax=(0.960253517544598, 1.0024794017100602)), Variance(statistic=0.018633540372670808, minmax=(0.014951107081231057, 0.023205629680642836)), Std_dev(statistic=0.13628891029313556, minmax=(0.12227471971438354, 0.1523339413283948)))\n",
      "(0.6374501992031872, 0.5775687099725446, 0.6973316884338299) (Mean(statistic=0.6374501992031872, minmax=(0.5775687099725446, 0.6973316884338299)), Variance(statistic=0.23390309728826628, minmax=(0.19617923247429017, 0.27875339693441)), Std_dev(statistic=0.48314800506771427, minmax=(0.44292124861457044, 0.5279710190288951)))\n",
      "--\n",
      "\n",
      "(0.08974358974358974, 0.044394355010013827, 0.13509282447716567) (Mean(statistic=0.08974358974358974, minmax=(0.044394355010013827, 0.13509282447716567)), Variance(statistic=0.0832914362326127, minmax=(0.06659404507156498, 0.10409492293343459)), Std_dev(statistic=0.2881313731717327, minmax=(0.25805822031387604, 0.3226374481262747)))\n",
      "(0.9351351351351351, 0.8993133658858402, 0.97095690438443) (Mean(statistic=0.9351351351351351, minmax=(0.8993133658858402, 0.97095690438443)), Variance(statistic=0.061657261657261646, minmax=(0.05021855847293259, 0.07565309732744882)), Std_dev(statistic=0.24796795536665628, minmax=(0.22409497645626195, 0.27505108130572553)))\n",
      "--\n",
      "\n",
      "(0.6575342465753424, 0.5796460416043707, 0.7354224515463141) (Mean(statistic=0.6575342465753424, minmax=(0.5796460416043707, 0.7354224515463141)), Variance(statistic=0.22990707922214773, minmax=(0.1824162038433083, 0.2895205472263465)), Std_dev(statistic=0.47864874237434385, minmax=(0.42710210002212384, 0.5380711358420432)))\n"
     ]
    },
    {
     "data": {
      "image/png": "[encoded data removed]",
      "text/plain": [
       "<Figure size 432x288 with 2 Axes>"
      ]
     },
     "metadata": {},
     "output_type": "display_data"
    },
    {
     "data": {
      "image/png": "[encoded data removed]",
      "text/plain": [
       "<Figure size 432x288 with 2 Axes>"
      ]
     },
     "metadata": {},
     "output_type": "display_data"
    },
    {
     "data": {
      "image/png": "[encoded data removed]",
      "text/plain": [
       "<Figure size 432x288 with 2 Axes>"
      ]
     },
     "metadata": {},
     "output_type": "display_data"
    },
    {
     "data": {
      "image/png": "[encoded data removed]",
      "text/plain": [
       "<Figure size 432x288 with 2 Axes>"
      ]
     },
     "metadata": {},
     "output_type": "display_data"
    },
    {
     "data": {
      "image/png": "[encoded data removed]",
      "text/plain": [
       "<Figure size 432x288 with 2 Axes>"
      ]
     },
     "metadata": {},
     "output_type": "display_data"
    },
    {
     "data": {
      "image/png": "[encoded data removed]",
      "text/plain": [
       "<Figure size 432x288 with 2 Axes>"
      ]
     },
     "metadata": {},
     "output_type": "display_data"
    },
    {
     "data": {
      "image/png": "[encoded data removed]",
      "text/plain": [
       "<Figure size 432x288 with 2 Axes>"
      ]
     },
     "metadata": {},
     "output_type": "display_data"
    },
    {
     "data": {
      "image/png": "[encoded data removed]",
      "text/plain": [
       "<Figure size 432x288 with 2 Axes>"
      ]
     },
     "metadata": {},
     "output_type": "display_data"
    },
    {
     "data": {
      "image/png": "[encoded data removed]",
      "text/plain": [
       "<Figure size 432x288 with 2 Axes>"
      ]
     },
     "metadata": {},
     "output_type": "display_data"
    },
    {
     "data": {
      "image/png": "[encoded data removed]",
      "text/plain": [
       "<Figure size 432x288 with 2 Axes>"
      ]
     },
     "metadata": {},
     "output_type": "display_data"
    },
    {
     "data": {
      "image/png": "[encoded data removed]",
      "text/plain": [
       "<Figure size 432x288 with 2 Axes>"
      ]
     },
     "metadata": {},
     "output_type": "display_data"
    },
    {
     "data": {
      "image/png": "[encoded data removed]",
      "text/plain": [
       "<Figure size 432x288 with 2 Axes>"
      ]
     },
     "metadata": {},
     "output_type": "display_data"
    },
    {
     "data": {
      "image/png": "[encoded data removed]",
      "text/plain": [
       "<Figure size 432x288 with 2 Axes>"
      ]
     },
     "metadata": {},
     "output_type": "display_data"
    },
    {
     "data": {
      "image/png": "[encoded data removed]",
      "text/plain": [
       "<Figure size 432x288 with 2 Axes>"
      ]
     },
     "metadata": {},
     "output_type": "display_data"
    },
    {
     "data": {
      "image/png": "[encoded data removed]",
      "text/plain": [
       "<Figure size 432x288 with 2 Axes>"
      ]
     },
     "metadata": {},
     "output_type": "display_data"
    },
    {
     "data": {
      "image/png": "[encoded data removed]",
      "text/plain": [
       "<Figure size 432x288 with 2 Axes>"
      ]
     },
     "metadata": {},
     "output_type": "display_data"
    }
   ],
   "source": [
    "democrats = df[df['Class Name'] == 'democrat']\n",
    "republican = df[df['Class Name'] == 'republican']\n",
    "alpha = 0.95\n",
    "means_data = []\n",
    "sns.set(style=\"whitegrid\")\n",
    "for issue in column_names[1:]:\n",
    "    fig, (ax1, ax2) = plt.subplots(ncols=2, sharey=True)\n",
    "    dem_data = democrats[issue].dropna()\n",
    "    rep_data = republican[issue].dropna()\n",
    "    #freq\n",
    "    democrat_ci_f = confidence_interval(dem_data, alpha)\n",
    "    republican_ci_f = confidence_interval(rep_data, alpha)\n",
    "    #bayes\n",
    "    democrat_ci_b = stats.bayes_mvs(dem_data, alpha)\n",
    "    republican_ci_b = stats.bayes_mvs(rep_data, alpha)\n",
    "    print(democrat_ci_f, democrat_ci_b)\n",
    "    print('--\\n')\n",
    "    print(republican_ci_f, republican_ci_b)\n",
    "    #pretty much the same\n",
    "    #TODO Figure out effective graphing for the tiny-no difference\n"
   ]
  },
  {
   "cell_type": "code",
   "execution_count": null,
   "metadata": {},
   "outputs": [],
   "source": []
  },
  {
   "cell_type": "markdown",
   "metadata": {},
   "source": [
    "Bayesion statistics starts with a knowledge of prior data/distribution/probabilities and updates its conclusion as new information comes to light. Frequentists only uses the available/collected sample and nothing outside of that to make conclusions."
   ]
  },
  {
   "cell_type": "markdown",
   "metadata": {
    "colab_type": "text",
    "id": "uWgWjp3PQ3Sq"
   },
   "source": [
    "## Resources"
   ]
  },
  {
   "cell_type": "markdown",
   "metadata": {
    "colab_type": "text",
    "id": "QRgHqmYIQ9qn"
   },
   "source": [
    "- [Worked example of Bayes rule calculation](https://en.wikipedia.org/wiki/Bayes'_theorem#Examples) (helpful as it fully breaks out the denominator)\n",
    "- [Source code for mvsdist in scipy](https://github.com/scipy/scipy/blob/90534919e139d2a81c24bf08341734ff41a3db12/scipy/stats/morestats.py#L139)"
   ]
  }
 ],
 "metadata": {
  "colab": {
   "name": "LS_DS_143_Introduction_to_Bayesian_Inference.ipynb",
   "provenance": [],
   "version": "0.3.2"
  },
  "kernelspec": {
   "display_name": "Python 3",
   "language": "python",
   "name": "python3"
  },
  "language_info": {
   "codemirror_mode": {
    "name": "ipython",
    "version": 3
   },
   "file_extension": ".py",
   "mimetype": "text/x-python",
   "name": "python",
   "nbconvert_exporter": "python",
   "pygments_lexer": "ipython3",
   "version": "3.7.1"
  }
 },
 "nbformat": 4,
 "nbformat_minor": 1
}
