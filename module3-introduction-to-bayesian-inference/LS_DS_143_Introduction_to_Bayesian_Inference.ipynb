{
 "cells": [
  {
   "cell_type": "markdown",
   "metadata": {
    "colab_type": "text",
    "id": "H7OLbevlbd_Z"
   },
   "source": [
    "# Lambda School Data Science Module 143\n",
    "\n",
    "## Introduction to Bayesian Inference\n",
    "\n",
    "!['Detector! What would the Bayesian statistician say if I asked him whether the--' [roll] 'I AM A NEUTRINO DETECTOR, NOT A LABYRINTH GUARD. SERIOUSLY, DID YOUR BRAIN FALL OUT?' [roll] '... yes.'](https://imgs.xkcd.com/comics/frequentists_vs_bayesians_2x.png)\n",
    "\n",
    "*[XKCD 1132](https://www.xkcd.com/1132/)*\n"
   ]
  },
  {
   "cell_type": "markdown",
   "metadata": {
    "colab_type": "text",
    "id": "3mz8p08BsN6p"
   },
   "source": [
    "## Prepare - Bayes' Theorem and the Bayesian mindset"
   ]
  },
  {
   "cell_type": "markdown",
   "metadata": {
    "colab_type": "text",
    "id": "GhycNr-Sbeie"
   },
   "source": [
    "Bayes' theorem possesses a near-mythical quality - a bit of math that somehow magically evaluates a situation. But this mythicalness has more to do with its reputation and advanced applications than the actual core of it - deriving it is actually remarkably straightforward.\n",
    "\n",
    "### The Law of Total Probability\n",
    "\n",
    "By definition, the total probability of all outcomes (events) if some variable (event space) $A$ is 1. That is:\n",
    "\n",
    "$$P(A) = \\sum_n P(A_n) = 1$$\n",
    "\n",
    "The law of total probability takes this further, considering two variables ($A$ and $B$) and relating their marginal probabilities (their likelihoods considered independently, without reference to one another) and their conditional probabilities (their likelihoods considered jointly). A marginal probability is simply notated as e.g. $P(A)$, while a conditional probability is notated $P(A|B)$, which reads \"probability of $A$ *given* $B$\".\n",
    "\n",
    "The law of total probability states:\n",
    "\n",
    "$$P(A) = \\sum_n P(A | B_n) P(B_n)$$\n",
    "\n",
    "In words - the total probability of $A$ is equal to the sum of the conditional probability of $A$ on any given event $B_n$ times the probability of that event $B_n$, and summed over all possible events in $B$.\n",
    "\n",
    "### The Law of Conditional Probability\n",
    "\n",
    "What's the probability of something conditioned on something else? To determine this we have to go back to set theory and think about the intersection of sets:\n",
    "\n",
    "The formula for actual calculation:\n",
    "\n",
    "$$P(A|B) = \\frac{P(A \\cap B)}{P(B)}$$\n",
    "\n",
    "We can see how this relates back to the law of total probability - multiply both sides by $P(B)$ and you get $P(A|B)P(B) = P(A \\cap B)$ - replaced back into the law of total probability we get $P(A) = \\sum_n P(A \\cap B_n)$.\n",
    "\n",
    "This may not seem like an improvement at first, but try to relate it back to the above picture - if you think of sets as physical objects, we're saying that the total probability of $A$ given $B$ is all the little pieces of it intersected with $B$, added together. The conditional probability is then just that again, but divided by the probability of $B$ itself happening in the first place.\n",
    "\n",
    "### Bayes Theorem\n",
    "\n",
    "Here is is, the seemingly magic tool:\n",
    "\n",
    "$$P(A|B) = \\frac{P(B|A)P(A)}{P(B)}$$\n",
    "\n",
    "In words - the probability of $A$ conditioned on $B$ is the probability of $B$ conditioned on $A$, times the probability of $A$ and divided by the probability of $B$. These unconditioned probabilities are referred to as \"prior beliefs\", and the conditioned probabilities as \"updated.\"\n",
    "\n",
    "Why is this important? Scroll back up to the XKCD example - the Bayesian statistician draws a less absurd conclusion because their prior belief in the likelihood that the sun will go nova is extremely low. So, even when updated based on evidence from a detector that is $35/36 = 0.972$ accurate, the prior belief doesn't shift enough to change their overall opinion.\n",
    "\n",
    "There's many examples of Bayes' theorem - one less absurd example is to apply to [breathalyzer tests](https://www.bayestheorem.net/breathalyzer-example/). You may think that a breathalyzer test that is 100% accurate for true positives (detecting somebody who is drunk) is pretty good, but what if it also has 8% false positives (indicating somebody is drunk when they're not)? And furthermore, the rate of drunk driving (and thus our prior belief)  is 1/1000.\n",
    "\n",
    "What is the likelihood somebody really is drunk if they test positive? Some may guess it's 92% - the difference between the true positives and the false positives. But we have a prior belief of the background/true rate of drunk driving. Sounds like a job for Bayes' theorem!\n",
    "\n",
    "$$\n",
    "\\begin{aligned}\n",
    "P(Drunk | Positive) &= \\frac{P(Positive | Drunk)P(Drunk)}{P(Positive)} \\\\\n",
    "&= \\frac{1 \\times 0.001}{0.08} \\\\\n",
    "&= 0.0125\n",
    "\\end{aligned}\n",
    "$$\n",
    "\n",
    "In other words, the likelihood that somebody is drunk given they tested positive with a breathalyzer in this situation is only 1.25% - probably much lower than you'd guess. This is why, in practice, it's important to have a repeated test to confirm (the probability of two false positives in a row is $0.08 * 0.08 = 0.0064$, much lower), and Bayes' theorem has been relevant in court cases where proper consideration of evidence was important."
   ]
  },
  {
   "cell_type": "markdown",
   "metadata": {
    "colab_type": "text",
    "id": "htI3DGvDsRJF"
   },
   "source": [
    "## Live Lecture - Deriving Bayes' Theorem, Calculating Bayesian Confidence"
   ]
  },
  {
   "cell_type": "markdown",
   "metadata": {
    "colab_type": "text",
    "id": "moIJNQ-nbfe_"
   },
   "source": [
    "Notice that $P(A|B)$ appears in the above laws - in Bayesian terms, this is the belief in $A$ updated for the evidence $B$. So all we need to do is solve for this term to derive Bayes' theorem. Let's do it together!"
   ]
  },
  {
   "cell_type": "code",
   "execution_count": 0,
   "metadata": {
    "colab": {},
    "colab_type": "code",
    "id": "ke-5EqJI0Tsn"
   },
   "outputs": [],
   "source": [
    "# Activity 2 - Use SciPy to calculate Bayesian confidence intervals\n",
    "# https://docs.scipy.org/doc/scipy/reference/generated/scipy.stats.bayes_mvs.html#scipy.stats.bayes_mvs"
   ]
  },
  {
   "cell_type": "markdown",
   "metadata": {
    "colab_type": "text",
    "id": "P-DzzRk5bf0z"
   },
   "source": [
    "## Assignment - Code it up!\n",
    "\n",
    "Most of the above was pure math - write Python code to reproduce the results. This is purposefully open ended - you'll have to think about how you should represent probabilities and events. You can and should look things up, and as a stretch goal - refactor your code into helpful reusable functions!\n",
    "\n",
    "If you're unsure where to start, check out [this blog post of Bayes theorem with Python](https://dataconomy.com/2015/02/introduction-to-bayes-theorem-with-python/) - you could and should create something similar!\n",
    "\n",
    "Stretch goal - apply a Bayesian technique to a problem you previously worked (in an assignment or project work) on from a frequentist (standard) perspective."
   ]
  },
  {
   "cell_type": "markdown",
   "metadata": {
    "colab": {},
    "colab_type": "code",
    "id": "xpVhZyUnbf7o"
   },
   "source": [
    "### Compare Confidence Intervals given by stats.bayes_mvs for mean"
   ]
  },
  {
   "cell_type": "code",
   "execution_count": 1,
   "metadata": {},
   "outputs": [],
   "source": [
    "from scipy import stats\n",
    "from numpy.random import binomial\n",
    "import numpy as np\n",
    "import pandas as pd"
   ]
  },
  {
   "cell_type": "code",
   "execution_count": 2,
   "metadata": {},
   "outputs": [
    {
     "name": "stdout",
     "output_type": "stream",
     "text": [
      "{'draw probability 0.3': ['0.3,0.23,0.37', '0.1,0.04,0.16', '0.2,0.10,0.30', '0.45,0.30,0.60'], 'draw probability 0.4': ['0.5,0.42,0.58', '0.35,0.26,0.44', '0.25,0.14,0.36', '0.45,0.30,0.60'], 'draw probability 0.5': ['0.6,0.52,0.68', '0.7,0.61,0.79', '0.45,0.33,0.57', '0.5,0.35,0.65'], 'draw probability 0.6': ['0.65,0.57,0.73', '0.6,0.50,0.70', '0.65,0.53,0.77', '0.5,0.35,0.65']}\n"
     ]
    }
   ],
   "source": [
    "results = {}\n",
    "prob_range = [3, 7]\n",
    "ci_range = [5, 9]\n",
    "\n",
    "for r in range(prob_range[0], prob_range[1]):\n",
    "    row = 'draw probability ' + str(r/10)\n",
    "    results[row] = []\n",
    "    \n",
    "    for ci in range(ci_range[0], ci_range[1]):\n",
    "\n",
    "        # col = 'confidence ' + str(ci / 10)\n",
    "        success_probability = r / 10\n",
    "        alpha = ci / 10\n",
    "        \n",
    "        samples = binomial(1, success_probability, size = 20)\n",
    "        mean, _, _ = stats.bayes_mvs(samples, alpha = ci / 10)\n",
    "        results[row].append(str(mean.statistic) + ',' + \\\n",
    "                            str('{0:.2f}'.format(mean.minmax[0])) + ',' + \\\n",
    "                            str('{0:.2f}'.format(mean.minmax[1])))\n",
    "\n",
    "# index, columns = get_index_and_col_names(prob_range, ci_range)\n",
    "# print(index, columns)\n",
    "\n",
    "# df = pd.DataFrame(results, columns = columns, index = index)\n",
    "# df = pd.DataFrame(results)\n",
    "print(results)"
   ]
  },
  {
   "cell_type": "code",
   "execution_count": 5,
   "metadata": {},
   "outputs": [
    {
     "data": {
      "text/html": [
       "<div>\n",
       "<style scoped>\n",
       "    .dataframe tbody tr th:only-of-type {\n",
       "        vertical-align: middle;\n",
       "    }\n",
       "\n",
       "    .dataframe tbody tr th {\n",
       "        vertical-align: top;\n",
       "    }\n",
       "\n",
       "    .dataframe thead th {\n",
       "        text-align: right;\n",
       "    }\n",
       "</style>\n",
       "<table border=\"1\" class=\"dataframe\">\n",
       "  <thead>\n",
       "    <tr style=\"text-align: right;\">\n",
       "      <th></th>\n",
       "      <th>draw probability 0.3</th>\n",
       "      <th>draw probability 0.4</th>\n",
       "      <th>draw probability 0.5</th>\n",
       "      <th>draw probability 0.6</th>\n",
       "    </tr>\n",
       "  </thead>\n",
       "  <tbody>\n",
       "    <tr>\n",
       "      <th>confidence 0.5</th>\n",
       "      <td>0.3,0.23,0.37</td>\n",
       "      <td>0.5,0.42,0.58</td>\n",
       "      <td>0.6,0.52,0.68</td>\n",
       "      <td>0.65,0.57,0.73</td>\n",
       "    </tr>\n",
       "    <tr>\n",
       "      <th>confidence 0.6</th>\n",
       "      <td>0.1,0.04,0.16</td>\n",
       "      <td>0.35,0.26,0.44</td>\n",
       "      <td>0.7,0.61,0.79</td>\n",
       "      <td>0.6,0.50,0.70</td>\n",
       "    </tr>\n",
       "    <tr>\n",
       "      <th>confidence 0.7</th>\n",
       "      <td>0.2,0.10,0.30</td>\n",
       "      <td>0.25,0.14,0.36</td>\n",
       "      <td>0.45,0.33,0.57</td>\n",
       "      <td>0.65,0.53,0.77</td>\n",
       "    </tr>\n",
       "    <tr>\n",
       "      <th>confidence 0.8</th>\n",
       "      <td>0.45,0.30,0.60</td>\n",
       "      <td>0.45,0.30,0.60</td>\n",
       "      <td>0.5,0.35,0.65</td>\n",
       "      <td>0.5,0.35,0.65</td>\n",
       "    </tr>\n",
       "  </tbody>\n",
       "</table>\n",
       "</div>"
      ],
      "text/plain": [
       "               draw probability 0.3 draw probability 0.4 draw probability 0.5  \\\n",
       "confidence 0.5        0.3,0.23,0.37        0.5,0.42,0.58        0.6,0.52,0.68   \n",
       "confidence 0.6        0.1,0.04,0.16       0.35,0.26,0.44        0.7,0.61,0.79   \n",
       "confidence 0.7        0.2,0.10,0.30       0.25,0.14,0.36       0.45,0.33,0.57   \n",
       "confidence 0.8       0.45,0.30,0.60       0.45,0.30,0.60        0.5,0.35,0.65   \n",
       "\n",
       "               draw probability 0.6  \n",
       "confidence 0.5       0.65,0.57,0.73  \n",
       "confidence 0.6        0.6,0.50,0.70  \n",
       "confidence 0.7       0.65,0.53,0.77  \n",
       "confidence 0.8        0.5,0.35,0.65  "
      ]
     },
     "execution_count": 5,
     "metadata": {},
     "output_type": "execute_result"
    }
   ],
   "source": [
    "def get_index(ci_range):\n",
    "    idx_names = []\n",
    "    \n",
    "    for ci in range(ci_range[0], ci_range[1]):\n",
    "        idx_names.append('confidence ' + str(ci / 10))\n",
    "        \n",
    "    return idx_names\n",
    "\n",
    "df = pd.DataFrame(results, index = get_index(ci_range))\n",
    "df"
   ]
  },
  {
   "cell_type": "code",
   "execution_count": 46,
   "metadata": {},
   "outputs": [
    {
     "name": "stdout",
     "output_type": "stream",
     "text": [
      "confidence 0.5 , draw probability 0.3 0.3 0.23 0.37\n",
      "confidence 0.5 , draw probability 0.4 0.5 0.42 0.58\n",
      "confidence 0.5 , draw probability 0.5 0.6 0.52 0.68\n",
      "confidence 0.5 , draw probability 0.6 0.65 0.57 0.73\n",
      "confidence 0.6 , draw probability 0.3 0.1 0.04 0.16\n",
      "confidence 0.6 , draw probability 0.4 0.35 0.26 0.44\n",
      "confidence 0.6 , draw probability 0.5 0.7 0.61 0.79\n",
      "confidence 0.6 , draw probability 0.6 0.6 0.5 0.7\n",
      "confidence 0.7 , draw probability 0.3 0.2 0.1 0.3\n",
      "confidence 0.7 , draw probability 0.4 0.25 0.14 0.36\n",
      "confidence 0.7 , draw probability 0.5 0.45 0.33 0.57\n",
      "confidence 0.7 , draw probability 0.6 0.65 0.53 0.77\n",
      "confidence 0.8 , draw probability 0.3 0.45 0.3 0.6\n",
      "confidence 0.8 , draw probability 0.4 0.45 0.3 0.6\n",
      "confidence 0.8 , draw probability 0.5 0.5 0.35 0.65\n",
      "confidence 0.8 , draw probability 0.6 0.5 0.35 0.65\n"
     ]
    }
   ],
   "source": [
    "means = []\n",
    "mins = []\n",
    "maxs = []\n",
    "sizes = []\n",
    "for row in df.index.values:\n",
    "    for col in df.columns.values:\n",
    "        m1, m2, m3 = np.array(df.loc[row][col].split(',')).astype(np.float)\n",
    "        means.append(m1)\n",
    "        mins.append(m2)\n",
    "        maxs.append(m3)\n",
    "        sizes.append(m1 - m2)\n",
    "        print(row, ',', col, m1, m2, m3)"
   ]
  },
  {
   "cell_type": "code",
   "execution_count": 21,
   "metadata": {},
   "outputs": [
    {
     "data": {
      "text/plain": [
       "[0.5, 0.6, 0.7, 0.8]"
      ]
     },
     "execution_count": 21,
     "metadata": {},
     "output_type": "execute_result"
    }
   ],
   "source": [
    "x = [x.split(' ')[1] for x in df.index.values]\n",
    "x = list(map(float, x))\n",
    "x"
   ]
  },
  {
   "cell_type": "code",
   "execution_count": 23,
   "metadata": {},
   "outputs": [
    {
     "data": {
      "text/plain": [
       "[0.3, 0.4, 0.5, 0.6]"
      ]
     },
     "execution_count": 23,
     "metadata": {},
     "output_type": "execute_result"
    }
   ],
   "source": [
    "y = [y.split(' ')[2] for y in df.columns.values]\n",
    "y = list(map(float, y))\n",
    "y"
   ]
  },
  {
   "cell_type": "code",
   "execution_count": 88,
   "metadata": {},
   "outputs": [
    {
     "name": "stdout",
     "output_type": "stream",
     "text": [
      "[0.5, 0.5, 0.5, 0.5, 0.6, 0.6, 0.6, 0.6, 0.7, 0.7, 0.7, 0.7, 0.8, 0.8, 0.8, 0.8]\n",
      "[0.5, 0.5, 0.5, 0.5, 0.6, 0.6, 0.6, 0.6, 0.7, 0.7, 0.7, 0.7, 0.8, 0.8, 0.8, 0.8]\n",
      "16 16 16 16 16\n"
     ]
    }
   ],
   "source": [
    "compiled_df = pd.DataFrame({'confidence': x,\n",
    "                            'draw probability': y})\n",
    "confidences = []\n",
    "x_vals = []\n",
    "for x1 in x:\n",
    "    confidences.extend([x1] * len(y))\n",
    "    x_vals.extend([x1] * len(y))\n",
    "\n",
    "print(confidences)\n",
    "print(x_vals)\n",
    "print(len(confidences), len(means), len(mins), len(maxs), len(sizes))\n",
    "compiled_df2 = pd.DataFrame({'confidence': confidences,\n",
    "                             'mean': means,\n",
    "                             'min': mins,\n",
    "                             'max': maxs,\n",
    "                             'size': sizes})"
   ]
  },
  {
   "cell_type": "code",
   "execution_count": 94,
   "metadata": {},
   "outputs": [
    {
     "data": {
      "image/png": "[encoded data removed]",
      "text/plain": [
       "<Figure size 720x504 with 1 Axes>"
      ]
     },
     "metadata": {
      "needs_background": "light"
     },
     "output_type": "display_data"
    }
   ],
   "source": [
    "import matplotlib.pyplot as plt\n",
    "import matplotlib.patches as patches\n",
    "import seaborn as sns\n",
    "\n",
    "# fig, axes = plt.subplots()\n",
    "plt.figure(figsize = (10,7))\n",
    "\n",
    "sns.scatterplot(data = compiled_df,\n",
    "                x = 'confidence',\n",
    "                y = 'draw probability',\n",
    "                palette = 'ch:r=-.5,l=.75',\n",
    "                s = 100,\n",
    "                marker = 'D'\n",
    "               );\n",
    "\n",
    "plt.scatter(confidences,\n",
    "            means, s=50, marker='s',\n",
    "            edgecolor='black', linewidth='3',\n",
    "            facecolor='green', alpha = 0.2)\n",
    "\n",
    "for i in range(len(means)):\n",
    "    \n",
    "    half_height = means[i] - mins[i]\n",
    "    left_x_value = x_vals[i] - 0.005\n",
    "    left_y_value = means[i] - half_height\n",
    "    rectangle = plt.Rectangle((left_x_value, left_y_value), \n",
    "                              0.01, 2 * half_height, fc='r',\n",
    "                              alpha = 0.1)\n",
    "    plt.gca().add_patch(rectangle)\n",
    "\n",
    "plt.title('Bayes moments for Bernoulli trials'); "
   ]
  },
  {
   "cell_type": "markdown",
   "metadata": {},
   "source": [
    "### Conclusion\n",
    "\n",
    "We can see that for a small 20-sample size draw from a binomial distribution, the error bars are quite large for the means.  We expect these error bars to go down, as we increase the sample size."
   ]
  }
 ],
 "metadata": {
  "colab": {
   "name": "LS DS 143 Introduction to Bayesian Inference.ipynb",
   "provenance": [],
   "version": "0.3.2"
  },
  "kernelspec": {
   "display_name": "Python 3",
   "language": "python",
   "name": "python3"
  },
  "language_info": {
   "codemirror_mode": {
    "name": "ipython",
    "version": 3
   },
   "file_extension": ".py",
   "mimetype": "text/x-python",
   "name": "python",
   "nbconvert_exporter": "python",
   "pygments_lexer": "ipython3",
   "version": "3.6.6"
  }
 },
 "nbformat": 4,
 "nbformat_minor": 1
}
