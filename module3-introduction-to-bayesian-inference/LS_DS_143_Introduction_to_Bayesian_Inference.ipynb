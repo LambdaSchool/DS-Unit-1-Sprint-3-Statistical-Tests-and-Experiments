{
  "nbformat": 4,
  "nbformat_minor": 0,
  "metadata": {
    "colab": {
      "name": "LS DS 143 Introduction to Bayesian Inference.ipynb",
      "version": "0.3.2",
      "provenance": [],
      "collapsed_sections": [],
      "include_colab_link": true
    },
    "kernelspec": {
      "name": "python3",
      "display_name": "Python 3"
    }
  },
  "cells": [
    {
      "cell_type": "markdown",
      "metadata": {
        "id": "view-in-github",
        "colab_type": "text"
      },
      "source": [
        "<a href=\"https://colab.research.google.com/github/joshdsolis/DS-Unit-1-Sprint-4-Statistical-Tests-and-Experiments/blob/master/module3-introduction-to-bayesian-inference/LS_DS_143_Introduction_to_Bayesian_Inference.ipynb\" target=\"_parent\"><img src=\"https://colab.research.google.com/assets/colab-badge.svg\" alt=\"Open In Colab\"/></a>"
      ]
    },
    {
      "metadata": {
        "id": "H7OLbevlbd_Z",
        "colab_type": "text"
      },
      "cell_type": "markdown",
      "source": [
        "# Lambda School Data Science Module 143\n",
        "\n",
        "## Introduction to Bayesian Inference\n",
        "\n",
        "!['Detector! What would the Bayesian statistician say if I asked him whether the--' [roll] 'I AM A NEUTRINO DETECTOR, NOT A LABYRINTH GUARD. SERIOUSLY, DID YOUR BRAIN FALL OUT?' [roll] '... yes.'](https://imgs.xkcd.com/comics/frequentists_vs_bayesians_2x.png)\n",
        "\n",
        "*[XKCD 1132](https://www.xkcd.com/1132/)*\n"
      ]
    },
    {
      "metadata": {
        "id": "3mz8p08BsN6p",
        "colab_type": "text"
      },
      "cell_type": "markdown",
      "source": [
        "## Prepare - Bayes' Theorem and the Bayesian mindset"
      ]
    },
    {
      "metadata": {
        "id": "GhycNr-Sbeie",
        "colab_type": "text"
      },
      "cell_type": "markdown",
      "source": [
        "Bayes' theorem possesses a near-mythical quality - a bit of math that somehow magically evaluates a situation. But this mythicalness has more to do with its reputation and advanced applications than the actual core of it - deriving it is actually remarkably straightforward.\n",
        "\n",
        "### The Law of Total Probability\n",
        "\n",
        "By definition, the total probability of all outcomes (events) if some variable (event space) $A$ is 1. That is:\n",
        "\n",
        "$$P(A) = \\sum_n P(A_n) = 1$$\n",
        "\n",
        "The law of total probability takes this further, considering two variables ($A$ and $B$) and relating their marginal probabilities (their likelihoods considered independently, without reference to one another) and their conditional probabilities (their likelihoods considered jointly). A marginal probability is simply notated as e.g. $P(A)$, while a conditional probability is notated $P(A|B)$, which reads \"probability of $A$ *given* $B$\".\n",
        "\n",
        "The law of total probability states:\n",
        "\n",
        "$$P(A) = \\sum_n P(A | B_n) P(B_n)$$\n",
        "\n",
        "In words - the total probability of $A$ is equal to the sum of the conditional probability of $A$ on any given event $B_n$ times the probability of that event $B_n$, and summed over all possible events in $B$.\n",
        "\n",
        "### The Law of Conditional Probability\n",
        "\n",
        "What's the probability of something conditioned on something else? To determine this we have to go back to set theory and think about the intersection of sets:\n",
        "\n",
        "The formula for actual calculation:\n",
        "\n",
        "$$P(A|B) = \\frac{P(A \\cap B)}{P(B)}$$\n",
        "\n",
        "We can see how this relates back to the law of total probability - multiply both sides by $P(B)$ and you get $P(A|B)P(B) = P(A \\cap B)$ - replaced back into the law of total probability we get $P(A) = \\sum_n P(A \\cap B_n)$.\n",
        "\n",
        "This may not seem like an improvement at first, but try to relate it back to the above picture - if you think of sets as physical objects, we're saying that the total probability of $A$ given $B$ is all the little pieces of it intersected with $B$, added together. The conditional probability is then just that again, but divided by the probability of $B$ itself happening in the first place.\n",
        "\n",
        "### Bayes Theorem\n",
        "\n",
        "Here is is, the seemingly magic tool:\n",
        "\n",
        "$$P(A|B) = \\frac{P(B|A)P(A)}{P(B)}$$\n",
        "\n",
        "In words - the probability of $A$ conditioned on $B$ is the probability of $B$ conditioned on $A$, times the probability of $A$ and divided by the probability of $B$. These unconditioned probabilities are referred to as \"prior beliefs\", and the conditioned probabilities as \"updated.\"\n",
        "\n",
        "Why is this important? Scroll back up to the XKCD example - the Bayesian statistician draws a less absurd conclusion because their prior belief in the likelihood that the sun will go nova is extremely low. So, even when updated based on evidence from a detector that is $35/36 = 0.972$ accurate, the prior belief doesn't shift enough to change their overall opinion.\n",
        "\n",
        "There's many examples of Bayes' theorem - one less absurd example is to apply to [breathalyzer tests](https://www.bayestheorem.net/breathalyzer-example/). You may think that a breathalyzer test that is 100% accurate for true positives (detecting somebody who is drunk) is pretty good, but what if it also has 8% false positives (indicating somebody is drunk when they're not)? And furthermore, the rate of drunk driving (and thus our prior belief)  is 1/1000.\n",
        "\n",
        "What is the likelihood somebody really is drunk if they test positive? Some may guess it's 92% - the difference between the true positives and the false positives. But we have a prior belief of the background/true rate of drunk driving. Sounds like a job for Bayes' theorem!\n",
        "\n",
        "$$\n",
        "\\begin{aligned}\n",
        "P(Drunk | Positive) &= \\frac{P(Positive | Drunk)P(Drunk)}{P(Positive)} \\\\\n",
        "&= \\frac{1 \\times 0.001}{0.08} \\\\\n",
        "&= 0.0125\n",
        "\\end{aligned}\n",
        "$$\n",
        "\n",
        "In other words, the likelihood that somebody is drunk given they tested positive with a breathalyzer in this situation is only 1.25% - probably much lower than you'd guess. This is why, in practice, it's important to have a repeated test to confirm (the probability of two false positives in a row is $0.08 * 0.08 = 0.0064$, much lower), and Bayes' theorem has been relevant in court cases where proper consideration of evidence was important."
      ]
    },
    {
      "metadata": {
        "id": "htI3DGvDsRJF",
        "colab_type": "text"
      },
      "cell_type": "markdown",
      "source": [
        "## Live Lecture - Deriving Bayes' Theorem, Calculating Bayesian Confidence"
      ]
    },
    {
      "metadata": {
        "id": "moIJNQ-nbfe_",
        "colab_type": "text"
      },
      "cell_type": "markdown",
      "source": [
        "Notice that $P(A|B)$ appears in the above laws - in Bayesian terms, this is the belief in $A$ updated for the evidence $B$. So all we need to do is solve for this term to derive Bayes' theorem. Let's do it together!\n",
        "\n",
        "$$\n",
        "x=2\n",
        "$$\n",
        "block equation\n",
        "\n",
        "$x=2$ inline equation\n",
        "\n",
        "$$\n",
        "\\begin{aligned}\n",
        "x&=2\\\\\n",
        "&= 1+1\n",
        "\\end{aligned}\n",
        "$$\n",
        "\n",
        "Now Bayes!\n",
        "$$\n",
        "\\begin{aligned}\n",
        "P(A \\cap B) &= P(B \\cap A) \\\\\n",
        "\\\\\n",
        "P(A|B) &= \\frac{P(A \\cap B)}{P(B)} \\\\\n",
        "\\Rightarrow P(A|B)P(B) &= P(A \\cap B) \\\\\n",
        "P(B|A) &= \\frac{P(B \\cap A)}{P(A)} \\\\\n",
        "\\Rightarrow P(B|A)P(A) &= P(B \\cap A) = P(A \\cap B) \\\\\n",
        "\\Rightarrow P(A|B)P(B) &= P(B|A)P(A) \\\\\n",
        "\\Rightarrow P(A|B)&= \\frac{P(B|A)P(A)}{P(B)}\n",
        "\\end{aligned}\n",
        "$$"
      ]
    },
    {
      "metadata": {
        "id": "ke-5EqJI0Tsn",
        "colab_type": "code",
        "outputId": "5494339e-dce1-4237-fad6-60b144413891",
        "colab": {
          "base_uri": "https://localhost:8080/",
          "height": 68
        }
      },
      "cell_type": "code",
      "source": [
        "# Activity 2 - Use SciPy to calculate Bayesian confidence intervals\n",
        "# https://docs.scipy.org/doc/scipy/reference/generated/scipy.stats.bayes_mvs.html#scipy.stats.bayes_mvs\n",
        "\n",
        "from scipy import stats\n",
        "import numpy as np\n",
        "\n",
        "coinflips = np.random.binomial(n=1, p=0.5, size = 100)\n",
        "\n",
        "print(coinflips)"
      ],
      "execution_count": 71,
      "outputs": [
        {
          "output_type": "stream",
          "text": [
            "[1 1 0 1 0 0 0 0 0 0 1 0 1 0 0 1 1 0 0 0 1 1 0 0 0 0 0 1 0 1 1 1 1 1 0 1 0\n",
            " 1 0 0 1 0 0 1 0 0 0 0 0 1 0 1 1 0 0 0 0 1 1 1 1 1 0 0 1 1 0 0 0 1 0 0 0 1\n",
            " 1 1 0 0 1 0 1 1 1 1 1 1 0 1 0 1 1 0 0 1 1 1 0 0 1 0]\n"
          ],
          "name": "stdout"
        }
      ]
    },
    {
      "metadata": {
        "id": "wFq_1sq7mqWZ",
        "colab_type": "code",
        "outputId": "c4b0829a-78c3-4941-c150-42983995f168",
        "colab": {
          "base_uri": "https://localhost:8080/",
          "height": 34
        }
      },
      "cell_type": "code",
      "source": [
        "def confidence_interval(data, confidence=0.95):\n",
        "  '''\n",
        "  Calculate a confidence interval around a sample mean for given data.\n",
        "  Using t-distribution and two-tailed test, default 95% confidence\n",
        "  \n",
        "  Arguments:\n",
        "    data - iterable (list or numpy array) of sample observations\n",
        "    confidence - level of confidence for the interval\n",
        "    \n",
        "  Returns:\n",
        "    tuple of (mean, lower bound, upper bound)\n",
        "  '''\n",
        "  data = np.array(data)\n",
        "  mean = np.mean(data)\n",
        "  n = len(data)\n",
        "  stderr = stats.sem(data)\n",
        "  interval = stderr * stats.t.ppf((1 + confidence) / 2., n - 1)\n",
        "  \n",
        "  return (mean, mean-interval, mean+interval)\n",
        "confidence_interval(coinflips)"
      ],
      "execution_count": 72,
      "outputs": [
        {
          "output_type": "execute_result",
          "data": {
            "text/plain": [
              "(0.47, 0.3704689875017368, 0.5695310124982632)"
            ]
          },
          "metadata": {
            "tags": []
          },
          "execution_count": 72
        }
      ]
    },
    {
      "metadata": {
        "id": "QmO9nHaxng88",
        "colab_type": "code",
        "outputId": "fb311c99-a287-491d-9a0e-6f185abb2195",
        "colab": {
          "base_uri": "https://localhost:8080/",
          "height": 297
        }
      },
      "cell_type": "code",
      "source": [
        "import pandas as pd\n",
        "pd.DataFrame(coinflips).describe()"
      ],
      "execution_count": 73,
      "outputs": [
        {
          "output_type": "execute_result",
          "data": {
            "text/html": [
              "<div>\n",
              "<style scoped>\n",
              "    .dataframe tbody tr th:only-of-type {\n",
              "        vertical-align: middle;\n",
              "    }\n",
              "\n",
              "    .dataframe tbody tr th {\n",
              "        vertical-align: top;\n",
              "    }\n",
              "\n",
              "    .dataframe thead th {\n",
              "        text-align: right;\n",
              "    }\n",
              "</style>\n",
              "<table border=\"1\" class=\"dataframe\">\n",
              "  <thead>\n",
              "    <tr style=\"text-align: right;\">\n",
              "      <th></th>\n",
              "      <th>0</th>\n",
              "    </tr>\n",
              "  </thead>\n",
              "  <tbody>\n",
              "    <tr>\n",
              "      <th>count</th>\n",
              "      <td>100.000000</td>\n",
              "    </tr>\n",
              "    <tr>\n",
              "      <th>mean</th>\n",
              "      <td>0.470000</td>\n",
              "    </tr>\n",
              "    <tr>\n",
              "      <th>std</th>\n",
              "      <td>0.501614</td>\n",
              "    </tr>\n",
              "    <tr>\n",
              "      <th>min</th>\n",
              "      <td>0.000000</td>\n",
              "    </tr>\n",
              "    <tr>\n",
              "      <th>25%</th>\n",
              "      <td>0.000000</td>\n",
              "    </tr>\n",
              "    <tr>\n",
              "      <th>50%</th>\n",
              "      <td>0.000000</td>\n",
              "    </tr>\n",
              "    <tr>\n",
              "      <th>75%</th>\n",
              "      <td>1.000000</td>\n",
              "    </tr>\n",
              "    <tr>\n",
              "      <th>max</th>\n",
              "      <td>1.000000</td>\n",
              "    </tr>\n",
              "  </tbody>\n",
              "</table>\n",
              "</div>"
            ],
            "text/plain": [
              "                0\n",
              "count  100.000000\n",
              "mean     0.470000\n",
              "std      0.501614\n",
              "min      0.000000\n",
              "25%      0.000000\n",
              "50%      0.000000\n",
              "75%      1.000000\n",
              "max      1.000000"
            ]
          },
          "metadata": {
            "tags": []
          },
          "execution_count": 73
        }
      ]
    },
    {
      "metadata": {
        "id": "iORroszlmrcS",
        "colab_type": "code",
        "outputId": "9c6e82a0-b29e-4999-f434-c6ed35561432",
        "colab": {
          "base_uri": "https://localhost:8080/",
          "height": 68
        }
      },
      "cell_type": "code",
      "source": [
        "stats.bayes_mvs(coinflips)"
      ],
      "execution_count": 74,
      "outputs": [
        {
          "output_type": "execute_result",
          "data": {
            "text/plain": [
              "(Mean(statistic=0.47, minmax=(0.38671252844915566, 0.5532874715508442)),\n",
              " Variance(statistic=0.25680412371134015, minmax=(0.20215017434095595, 0.323311952657888)),\n",
              " Std_dev(statistic=0.5054540733507159, minmax=(0.44961113680708126, 0.5686052696360524)))"
            ]
          },
          "metadata": {
            "tags": []
          },
          "execution_count": 74
        }
      ]
    },
    {
      "metadata": {
        "id": "oTU3QZo4neVE",
        "colab_type": "code",
        "colab": {}
      },
      "cell_type": "code",
      "source": [
        "import random\n",
        "# We have two groups of people, one treated one non-treated\n",
        "# Treated people recover with probability 0.65\n",
        "# Non-treated people recover with probability 0.4\n",
        "treatment_group = np.random.binomial(n=1, p=0.65, size=100)\n",
        "nontreatment_group = np.random.binomial(n=1, p=0.4, size=100)"
      ],
      "execution_count": 0,
      "outputs": []
    },
    {
      "metadata": {
        "id": "n9fE9zJ0rA3v",
        "colab_type": "code",
        "colab": {}
      },
      "cell_type": "code",
      "source": [
        "import pandas as pd\n",
        "df = pd.DataFrame({'treated':treatment_group,\n",
        "                   'untreated':nontreatment_group})"
      ],
      "execution_count": 0,
      "outputs": []
    },
    {
      "metadata": {
        "id": "D4eyvbJvsFaj",
        "colab_type": "code",
        "outputId": "521c692a-337c-440d-92c6-93a1e9de238b",
        "colab": {
          "base_uri": "https://localhost:8080/",
          "height": 297
        }
      },
      "cell_type": "code",
      "source": [
        "df.describe()"
      ],
      "execution_count": 77,
      "outputs": [
        {
          "output_type": "execute_result",
          "data": {
            "text/html": [
              "<div>\n",
              "<style scoped>\n",
              "    .dataframe tbody tr th:only-of-type {\n",
              "        vertical-align: middle;\n",
              "    }\n",
              "\n",
              "    .dataframe tbody tr th {\n",
              "        vertical-align: top;\n",
              "    }\n",
              "\n",
              "    .dataframe thead th {\n",
              "        text-align: right;\n",
              "    }\n",
              "</style>\n",
              "<table border=\"1\" class=\"dataframe\">\n",
              "  <thead>\n",
              "    <tr style=\"text-align: right;\">\n",
              "      <th></th>\n",
              "      <th>treated</th>\n",
              "      <th>untreated</th>\n",
              "    </tr>\n",
              "  </thead>\n",
              "  <tbody>\n",
              "    <tr>\n",
              "      <th>count</th>\n",
              "      <td>100.000000</td>\n",
              "      <td>100.000000</td>\n",
              "    </tr>\n",
              "    <tr>\n",
              "      <th>mean</th>\n",
              "      <td>0.650000</td>\n",
              "      <td>0.340000</td>\n",
              "    </tr>\n",
              "    <tr>\n",
              "      <th>std</th>\n",
              "      <td>0.479372</td>\n",
              "      <td>0.476095</td>\n",
              "    </tr>\n",
              "    <tr>\n",
              "      <th>min</th>\n",
              "      <td>0.000000</td>\n",
              "      <td>0.000000</td>\n",
              "    </tr>\n",
              "    <tr>\n",
              "      <th>25%</th>\n",
              "      <td>0.000000</td>\n",
              "      <td>0.000000</td>\n",
              "    </tr>\n",
              "    <tr>\n",
              "      <th>50%</th>\n",
              "      <td>1.000000</td>\n",
              "      <td>0.000000</td>\n",
              "    </tr>\n",
              "    <tr>\n",
              "      <th>75%</th>\n",
              "      <td>1.000000</td>\n",
              "      <td>1.000000</td>\n",
              "    </tr>\n",
              "    <tr>\n",
              "      <th>max</th>\n",
              "      <td>1.000000</td>\n",
              "      <td>1.000000</td>\n",
              "    </tr>\n",
              "  </tbody>\n",
              "</table>\n",
              "</div>"
            ],
            "text/plain": [
              "          treated   untreated\n",
              "count  100.000000  100.000000\n",
              "mean     0.650000    0.340000\n",
              "std      0.479372    0.476095\n",
              "min      0.000000    0.000000\n",
              "25%      0.000000    0.000000\n",
              "50%      1.000000    0.000000\n",
              "75%      1.000000    1.000000\n",
              "max      1.000000    1.000000"
            ]
          },
          "metadata": {
            "tags": []
          },
          "execution_count": 77
        }
      ]
    },
    {
      "metadata": {
        "id": "_g72_mfpsDgh",
        "colab_type": "code",
        "outputId": "63a152b1-74ca-498b-fdb5-55245eea7da0",
        "colab": {
          "base_uri": "https://localhost:8080/",
          "height": 204
        }
      },
      "cell_type": "code",
      "source": [
        "df.head()"
      ],
      "execution_count": 78,
      "outputs": [
        {
          "output_type": "execute_result",
          "data": {
            "text/html": [
              "<div>\n",
              "<style scoped>\n",
              "    .dataframe tbody tr th:only-of-type {\n",
              "        vertical-align: middle;\n",
              "    }\n",
              "\n",
              "    .dataframe tbody tr th {\n",
              "        vertical-align: top;\n",
              "    }\n",
              "\n",
              "    .dataframe thead th {\n",
              "        text-align: right;\n",
              "    }\n",
              "</style>\n",
              "<table border=\"1\" class=\"dataframe\">\n",
              "  <thead>\n",
              "    <tr style=\"text-align: right;\">\n",
              "      <th></th>\n",
              "      <th>treated</th>\n",
              "      <th>untreated</th>\n",
              "    </tr>\n",
              "  </thead>\n",
              "  <tbody>\n",
              "    <tr>\n",
              "      <th>0</th>\n",
              "      <td>0</td>\n",
              "      <td>0</td>\n",
              "    </tr>\n",
              "    <tr>\n",
              "      <th>1</th>\n",
              "      <td>1</td>\n",
              "      <td>0</td>\n",
              "    </tr>\n",
              "    <tr>\n",
              "      <th>2</th>\n",
              "      <td>1</td>\n",
              "      <td>0</td>\n",
              "    </tr>\n",
              "    <tr>\n",
              "      <th>3</th>\n",
              "      <td>0</td>\n",
              "      <td>0</td>\n",
              "    </tr>\n",
              "    <tr>\n",
              "      <th>4</th>\n",
              "      <td>0</td>\n",
              "      <td>0</td>\n",
              "    </tr>\n",
              "  </tbody>\n",
              "</table>\n",
              "</div>"
            ],
            "text/plain": [
              "   treated  untreated\n",
              "0        0          0\n",
              "1        1          0\n",
              "2        1          0\n",
              "3        0          0\n",
              "4        0          0"
            ]
          },
          "metadata": {
            "tags": []
          },
          "execution_count": 78
        }
      ]
    },
    {
      "metadata": {
        "id": "ITgpf_jDsHuV",
        "colab_type": "code",
        "outputId": "ad3a054b-2aae-4f83-a168-95cfdf988dd0",
        "colab": {
          "base_uri": "https://localhost:8080/",
          "height": 34
        }
      },
      "cell_type": "code",
      "source": [
        "from scipy import stats\n",
        "stats.ttest_ind(df.treated, df.untreated)"
      ],
      "execution_count": 79,
      "outputs": [
        {
          "output_type": "execute_result",
          "data": {
            "text/plain": [
              "Ttest_indResult(statistic=4.5883667132142465, pvalue=7.919074376825282e-06)"
            ]
          },
          "metadata": {
            "tags": []
          },
          "execution_count": 79
        }
      ]
    },
    {
      "metadata": {
        "id": "8DLhjjOiuiDc",
        "colab_type": "code",
        "outputId": "acda4dd9-b190-40eb-884f-9c51dcdacdde",
        "colab": {
          "base_uri": "https://localhost:8080/",
          "height": 68
        }
      },
      "cell_type": "code",
      "source": [
        "stats.bayes_mvs(df.treated)"
      ],
      "execution_count": 80,
      "outputs": [
        {
          "output_type": "execute_result",
          "data": {
            "text/plain": [
              "(Mean(statistic=0.65, minmax=(0.5704054164745586, 0.7295945835254414)),\n",
              " Variance(statistic=0.23453608247422678, minmax=(0.18462129531339816, 0.295276873663868)),\n",
              " Std_dev(statistic=0.48304271591470027, minmax=(0.4296758025690976, 0.5433938476499968)))"
            ]
          },
          "metadata": {
            "tags": []
          },
          "execution_count": 80
        }
      ]
    },
    {
      "metadata": {
        "id": "pPSQZ6NCuDPQ",
        "colab_type": "code",
        "outputId": "764d204e-8b09-4206-fb37-e6dd94ad9344",
        "colab": {
          "base_uri": "https://localhost:8080/",
          "height": 68
        }
      },
      "cell_type": "code",
      "source": [
        "stats.bayes_mvs(df.untreated)"
      ],
      "execution_count": 81,
      "outputs": [
        {
          "output_type": "execute_result",
          "data": {
            "text/plain": [
              "(Mean(statistic=0.34, minmax=(0.2609495693071084, 0.4190504306928916)),\n",
              " Variance(statistic=0.23134020618556697, minmax=(0.18210557656407275, 0.2912533206600966)),\n",
              " Std_dev(statistic=0.479740367306726, minmax=(0.4267382998560977, 0.5396789051464737)))"
            ]
          },
          "metadata": {
            "tags": []
          },
          "execution_count": 81
        }
      ]
    },
    {
      "metadata": {
        "id": "O5Pu8kTyuxUj",
        "colab_type": "code",
        "colab": {}
      },
      "cell_type": "code",
      "source": [
        "# Suggested task - write your own Bayes test function\n",
        "# that compares CIs from stats.bayes_mvs"
      ],
      "execution_count": 0,
      "outputs": []
    },
    {
      "metadata": {
        "id": "P-DzzRk5bf0z",
        "colab_type": "text"
      },
      "cell_type": "markdown",
      "source": [
        "## Assignment - Code it up!\n",
        "\n",
        "Most of the above was pure math - write Python code to reproduce the results. This is purposefully open ended - you'll have to think about how you should represent probabilities and events. You can and should look things up, and as a stretch goal - refactor your code into helpful reusable functions!\n",
        "\n",
        "If you're unsure where to start, check out [this blog post of Bayes theorem with Python](https://dataconomy.com/2015/02/introduction-to-bayes-theorem-with-python/) - you could and should create something similar!\n",
        "\n",
        "Stretch goal - apply a Bayesian technique to a problem you previously worked (in an assignment or project work) on from a frequentist (standard) perspective."
      ]
    },
    {
      "metadata": {
        "id": "xpVhZyUnbf7o",
        "colab_type": "code",
        "outputId": "4951596a-bdb3-4486-f135-edddf20cee46",
        "colab": {
          "base_uri": "https://localhost:8080/",
          "height": 238
        }
      },
      "cell_type": "code",
      "source": [
        "# TODO - code!\n",
        "# Loading up the drug data\n",
        "!wget http://archive.ics.uci.edu/ml/machine-learning-databases/00462/drugsCom_raw.zip\n",
        "!unzip drugsCom_raw.zip\n",
        "\n",
        "df = pd.read_table('drugsComTrain_raw.tsv')\n",
        "\n"
      ],
      "execution_count": 83,
      "outputs": [
        {
          "output_type": "stream",
          "text": [
            "--2018-12-05 20:49:59--  http://archive.ics.uci.edu/ml/machine-learning-databases/00462/drugsCom_raw.zip\n",
            "Resolving archive.ics.uci.edu (archive.ics.uci.edu)... 128.195.10.249\n",
            "Connecting to archive.ics.uci.edu (archive.ics.uci.edu)|128.195.10.249|:80... connected.\n",
            "HTTP request sent, awaiting response... 200 OK\n",
            "Length: 42989872 (41M) [application/zip]\n",
            "Saving to: ‘drugsCom_raw.zip.1’\n",
            "\n",
            "drugsCom_raw.zip.1  100%[===================>]  41.00M  14.5MB/s    in 2.8s    \n",
            "\n",
            "2018-12-05 20:50:02 (14.5 MB/s) - ‘drugsCom_raw.zip.1’ saved [42989872/42989872]\n",
            "\n",
            "Archive:  drugsCom_raw.zip\n",
            "replace drugsComTest_raw.tsv? [y]es, [n]o, [A]ll, [N]one, [r]ename: "
          ],
          "name": "stdout"
        }
      ]
    },
    {
      "metadata": {
        "id": "kswxgHHV8XQV",
        "colab_type": "code",
        "outputId": "ec78a151-5799-455c-bb10-0765a69a131e",
        "colab": {
          "base_uri": "https://localhost:8080/",
          "height": 204
        }
      },
      "cell_type": "code",
      "source": [
        "#importing\n",
        "import pandas as pd\n",
        "import matplotlib.pyplot as plt\n",
        "import numpy as np\n",
        "\n",
        "df_ari = df[(df['drugName']=='Aripiprazole')]\n",
        "df_ari.head()"
      ],
      "execution_count": 117,
      "outputs": [
        {
          "output_type": "execute_result",
          "data": {
            "text/html": [
              "<div>\n",
              "<style scoped>\n",
              "    .dataframe tbody tr th:only-of-type {\n",
              "        vertical-align: middle;\n",
              "    }\n",
              "\n",
              "    .dataframe tbody tr th {\n",
              "        vertical-align: top;\n",
              "    }\n",
              "\n",
              "    .dataframe thead th {\n",
              "        text-align: right;\n",
              "    }\n",
              "</style>\n",
              "<table border=\"1\" class=\"dataframe\">\n",
              "  <thead>\n",
              "    <tr style=\"text-align: right;\">\n",
              "      <th></th>\n",
              "      <th>Unnamed: 0</th>\n",
              "      <th>drugName</th>\n",
              "      <th>condition</th>\n",
              "      <th>review</th>\n",
              "      <th>rating</th>\n",
              "      <th>date</th>\n",
              "      <th>usefulCount</th>\n",
              "    </tr>\n",
              "  </thead>\n",
              "  <tbody>\n",
              "    <tr>\n",
              "      <th>7</th>\n",
              "      <td>102654</td>\n",
              "      <td>Aripiprazole</td>\n",
              "      <td>Bipolar Disorde</td>\n",
              "      <td>\"Abilify changed my life. There is hope. I was...</td>\n",
              "      <td>10.0</td>\n",
              "      <td>March 14, 2015</td>\n",
              "      <td>32</td>\n",
              "    </tr>\n",
              "    <tr>\n",
              "      <th>55</th>\n",
              "      <td>102449</td>\n",
              "      <td>Aripiprazole</td>\n",
              "      <td>Schizophrenia</td>\n",
              "      <td>\"Abilify 20 mg.\\r\\nI am a patient diagnosed wi...</td>\n",
              "      <td>10.0</td>\n",
              "      <td>September 25, 2016</td>\n",
              "      <td>26</td>\n",
              "    </tr>\n",
              "    <tr>\n",
              "      <th>96</th>\n",
              "      <td>102810</td>\n",
              "      <td>Aripiprazole</td>\n",
              "      <td>Depression</td>\n",
              "      <td>\"Intake Effexor XR 375 mg, and lorazepam for d...</td>\n",
              "      <td>4.0</td>\n",
              "      <td>August 17, 2012</td>\n",
              "      <td>33</td>\n",
              "    </tr>\n",
              "    <tr>\n",
              "      <th>453</th>\n",
              "      <td>102720</td>\n",
              "      <td>Aripiprazole</td>\n",
              "      <td>Autism</td>\n",
              "      <td>\"My stepson is now 13 years old and has been o...</td>\n",
              "      <td>10.0</td>\n",
              "      <td>February 7, 2014</td>\n",
              "      <td>141</td>\n",
              "    </tr>\n",
              "    <tr>\n",
              "      <th>867</th>\n",
              "      <td>102461</td>\n",
              "      <td>Aripiprazole</td>\n",
              "      <td>Bipolar Disorde</td>\n",
              "      <td>\"I was first put on abilify in 2004. It is ver...</td>\n",
              "      <td>7.0</td>\n",
              "      <td>August 19, 2016</td>\n",
              "      <td>14</td>\n",
              "    </tr>\n",
              "  </tbody>\n",
              "</table>\n",
              "</div>"
            ],
            "text/plain": [
              "     Unnamed: 0      drugName        condition  \\\n",
              "7        102654  Aripiprazole  Bipolar Disorde   \n",
              "55       102449  Aripiprazole    Schizophrenia   \n",
              "96       102810  Aripiprazole       Depression   \n",
              "453      102720  Aripiprazole           Autism   \n",
              "867      102461  Aripiprazole  Bipolar Disorde   \n",
              "\n",
              "                                                review  rating  \\\n",
              "7    \"Abilify changed my life. There is hope. I was...    10.0   \n",
              "55   \"Abilify 20 mg.\\r\\nI am a patient diagnosed wi...    10.0   \n",
              "96   \"Intake Effexor XR 375 mg, and lorazepam for d...     4.0   \n",
              "453  \"My stepson is now 13 years old and has been o...    10.0   \n",
              "867  \"I was first put on abilify in 2004. It is ver...     7.0   \n",
              "\n",
              "                   date  usefulCount  \n",
              "7        March 14, 2015           32  \n",
              "55   September 25, 2016           26  \n",
              "96      August 17, 2012           33  \n",
              "453    February 7, 2014          141  \n",
              "867     August 19, 2016           14  "
            ]
          },
          "metadata": {
            "tags": []
          },
          "execution_count": 117
        }
      ]
    },
    {
      "metadata": {
        "id": "cxLmFYmv-PHu",
        "colab_type": "code",
        "outputId": "6e9c7d47-6476-47b0-a64d-c1919cbf4845",
        "colab": {
          "base_uri": "https://localhost:8080/",
          "height": 255
        }
      },
      "cell_type": "code",
      "source": [
        "df_risp = df[(df['drugName']=='Risperidone')]\n",
        "df_risp.head()"
      ],
      "execution_count": 85,
      "outputs": [
        {
          "output_type": "execute_result",
          "data": {
            "text/html": [
              "<div>\n",
              "<style scoped>\n",
              "    .dataframe tbody tr th:only-of-type {\n",
              "        vertical-align: middle;\n",
              "    }\n",
              "\n",
              "    .dataframe tbody tr th {\n",
              "        vertical-align: top;\n",
              "    }\n",
              "\n",
              "    .dataframe thead th {\n",
              "        text-align: right;\n",
              "    }\n",
              "</style>\n",
              "<table border=\"1\" class=\"dataframe\">\n",
              "  <thead>\n",
              "    <tr style=\"text-align: right;\">\n",
              "      <th></th>\n",
              "      <th>Unnamed: 0</th>\n",
              "      <th>drugName</th>\n",
              "      <th>condition</th>\n",
              "      <th>review</th>\n",
              "      <th>rating</th>\n",
              "      <th>date</th>\n",
              "      <th>usefulCount</th>\n",
              "    </tr>\n",
              "  </thead>\n",
              "  <tbody>\n",
              "    <tr>\n",
              "      <th>522</th>\n",
              "      <td>161137</td>\n",
              "      <td>Risperidone</td>\n",
              "      <td>Paranoid Disorde</td>\n",
              "      <td>\"After taking Risperidone for 6 months to reli...</td>\n",
              "      <td>4.0</td>\n",
              "      <td>June 1, 2011</td>\n",
              "      <td>6</td>\n",
              "    </tr>\n",
              "    <tr>\n",
              "      <th>1891</th>\n",
              "      <td>161213</td>\n",
              "      <td>Risperidone</td>\n",
              "      <td>Social Anxiety Disorde</td>\n",
              "      <td>\"The best medicine I have ever taken. Usually ...</td>\n",
              "      <td>10.0</td>\n",
              "      <td>July 11, 2008</td>\n",
              "      <td>90</td>\n",
              "    </tr>\n",
              "    <tr>\n",
              "      <th>1894</th>\n",
              "      <td>161016</td>\n",
              "      <td>Risperidone</td>\n",
              "      <td>Anxiety</td>\n",
              "      <td>\"Panic disorder took over my life. I had racin...</td>\n",
              "      <td>8.0</td>\n",
              "      <td>August 27, 2015</td>\n",
              "      <td>44</td>\n",
              "    </tr>\n",
              "    <tr>\n",
              "      <th>2566</th>\n",
              "      <td>161158</td>\n",
              "      <td>Risperidone</td>\n",
              "      <td>Post Traumatic Stress Disorde</td>\n",
              "      <td>\"I have found that this medication has few sid...</td>\n",
              "      <td>6.0</td>\n",
              "      <td>May 11, 2014</td>\n",
              "      <td>35</td>\n",
              "    </tr>\n",
              "    <tr>\n",
              "      <th>2879</th>\n",
              "      <td>161145</td>\n",
              "      <td>Risperidone</td>\n",
              "      <td>Post Traumatic Stress Disorde</td>\n",
              "      <td>\"Used risperidone for PTSD in conjunction with...</td>\n",
              "      <td>10.0</td>\n",
              "      <td>February 13, 2011</td>\n",
              "      <td>21</td>\n",
              "    </tr>\n",
              "  </tbody>\n",
              "</table>\n",
              "</div>"
            ],
            "text/plain": [
              "      Unnamed: 0     drugName                      condition  \\\n",
              "522       161137  Risperidone               Paranoid Disorde   \n",
              "1891      161213  Risperidone         Social Anxiety Disorde   \n",
              "1894      161016  Risperidone                        Anxiety   \n",
              "2566      161158  Risperidone  Post Traumatic Stress Disorde   \n",
              "2879      161145  Risperidone  Post Traumatic Stress Disorde   \n",
              "\n",
              "                                                 review  rating  \\\n",
              "522   \"After taking Risperidone for 6 months to reli...     4.0   \n",
              "1891  \"The best medicine I have ever taken. Usually ...    10.0   \n",
              "1894  \"Panic disorder took over my life. I had racin...     8.0   \n",
              "2566  \"I have found that this medication has few sid...     6.0   \n",
              "2879  \"Used risperidone for PTSD in conjunction with...    10.0   \n",
              "\n",
              "                   date  usefulCount  \n",
              "522        June 1, 2011            6  \n",
              "1891      July 11, 2008           90  \n",
              "1894    August 27, 2015           44  \n",
              "2566       May 11, 2014           35  \n",
              "2879  February 13, 2011           21  "
            ]
          },
          "metadata": {
            "tags": []
          },
          "execution_count": 85
        }
      ]
    },
    {
      "metadata": {
        "id": "EysVESQA8tmK",
        "colab_type": "code",
        "outputId": "19fe8983-f1ec-43c5-d117-f3531b7d40e6",
        "colab": {
          "base_uri": "https://localhost:8080/",
          "height": 68
        }
      },
      "cell_type": "code",
      "source": [
        "stats.bayes_mvs(df_ari['rating'])"
      ],
      "execution_count": 86,
      "outputs": [
        {
          "output_type": "execute_result",
          "data": {
            "text/plain": [
              "(Mean(statistic=6.42, minmax=(6.170794700878023, 6.669205299121977)),\n",
              " Variance(statistic=11.480482897384306, minmax=(10.335194781354629, 12.730510936655236)),\n",
              " Std_dev(statistic=3.386582190259788, minmax=(3.214839775378336, 3.567984155886239)))"
            ]
          },
          "metadata": {
            "tags": []
          },
          "execution_count": 86
        }
      ]
    },
    {
      "metadata": {
        "id": "u_xXNv3L9U88",
        "colab_type": "code",
        "outputId": "7f98df7c-d8fc-49b0-f2cb-90ea7a6f2e48",
        "colab": {
          "base_uri": "https://localhost:8080/",
          "height": 68
        }
      },
      "cell_type": "code",
      "source": [
        "stats.bayes_mvs(df_risp['rating'])"
      ],
      "execution_count": 87,
      "outputs": [
        {
          "output_type": "execute_result",
          "data": {
            "text/plain": [
              "(Mean(statistic=6.2, minmax=(5.8446501875331744, 6.555349812466826)),\n",
              " Variance(statistic=11.2084388185654, minmax=(9.62246156395944, 13.008139116814194)),\n",
              " Std_dev(statistic=3.3443709900683456, minmax=(3.1020092785095663, 3.606679791278149)))"
            ]
          },
          "metadata": {
            "tags": []
          },
          "execution_count": 87
        }
      ]
    },
    {
      "metadata": {
        "id": "n0jkcint-CYi",
        "colab_type": "code",
        "outputId": "abe77c40-eea0-4662-b8ad-bb3cb8b7dbfb",
        "colab": {
          "base_uri": "https://localhost:8080/",
          "height": 34
        }
      },
      "cell_type": "code",
      "source": [
        "stats.ttest_ind(df_ari.rating, df_risp.rating)"
      ],
      "execution_count": 88,
      "outputs": [
        {
          "output_type": "execute_result",
          "data": {
            "text/plain": [
              "Ttest_indResult(statistic=0.8322721259131041, pvalue=0.4055245897133155)"
            ]
          },
          "metadata": {
            "tags": []
          },
          "execution_count": 88
        }
      ]
    },
    {
      "metadata": {
        "id": "2GvgZYy2-iaL",
        "colab_type": "code",
        "outputId": "33ed0b8a-89ab-47ef-d3ef-2ff6d1c0abd7",
        "colab": {
          "base_uri": "https://localhost:8080/",
          "height": 204
        }
      },
      "cell_type": "code",
      "source": [
        "df_schiz = df[(df['condition']=='Schizophrenia')]\n",
        "df_schiz.head()"
      ],
      "execution_count": 89,
      "outputs": [
        {
          "output_type": "execute_result",
          "data": {
            "text/html": [
              "<div>\n",
              "<style scoped>\n",
              "    .dataframe tbody tr th:only-of-type {\n",
              "        vertical-align: middle;\n",
              "    }\n",
              "\n",
              "    .dataframe tbody tr th {\n",
              "        vertical-align: top;\n",
              "    }\n",
              "\n",
              "    .dataframe thead th {\n",
              "        text-align: right;\n",
              "    }\n",
              "</style>\n",
              "<table border=\"1\" class=\"dataframe\">\n",
              "  <thead>\n",
              "    <tr style=\"text-align: right;\">\n",
              "      <th></th>\n",
              "      <th>Unnamed: 0</th>\n",
              "      <th>drugName</th>\n",
              "      <th>condition</th>\n",
              "      <th>review</th>\n",
              "      <th>rating</th>\n",
              "      <th>date</th>\n",
              "      <th>usefulCount</th>\n",
              "    </tr>\n",
              "  </thead>\n",
              "  <tbody>\n",
              "    <tr>\n",
              "      <th>55</th>\n",
              "      <td>102449</td>\n",
              "      <td>Aripiprazole</td>\n",
              "      <td>Schizophrenia</td>\n",
              "      <td>\"Abilify 20 mg.\\r\\nI am a patient diagnosed wi...</td>\n",
              "      <td>10.0</td>\n",
              "      <td>September 25, 2016</td>\n",
              "      <td>26</td>\n",
              "    </tr>\n",
              "    <tr>\n",
              "      <th>101</th>\n",
              "      <td>229524</td>\n",
              "      <td>Lurasidone</td>\n",
              "      <td>Schizophrenia</td>\n",
              "      <td>\"I&amp;#039;ve been on Latuda for a little under 2...</td>\n",
              "      <td>8.0</td>\n",
              "      <td>September 26, 2015</td>\n",
              "      <td>0</td>\n",
              "    </tr>\n",
              "    <tr>\n",
              "      <th>968</th>\n",
              "      <td>21104</td>\n",
              "      <td>Paliperidone</td>\n",
              "      <td>Schizophrenia</td>\n",
              "      <td>\"I feel like this medication is OK minus the w...</td>\n",
              "      <td>5.0</td>\n",
              "      <td>November 26, 2015</td>\n",
              "      <td>14</td>\n",
              "    </tr>\n",
              "    <tr>\n",
              "      <th>1003</th>\n",
              "      <td>21100</td>\n",
              "      <td>Paliperidone</td>\n",
              "      <td>Schizophrenia</td>\n",
              "      <td>\"I have been on paliperidone for about a year ...</td>\n",
              "      <td>2.0</td>\n",
              "      <td>January 13, 2016</td>\n",
              "      <td>5</td>\n",
              "    </tr>\n",
              "    <tr>\n",
              "      <th>1048</th>\n",
              "      <td>102822</td>\n",
              "      <td>Aripiprazole</td>\n",
              "      <td>Schizophrenia</td>\n",
              "      <td>\"I switched from Risperidal to Abilify two yea...</td>\n",
              "      <td>10.0</td>\n",
              "      <td>May 20, 2013</td>\n",
              "      <td>53</td>\n",
              "    </tr>\n",
              "  </tbody>\n",
              "</table>\n",
              "</div>"
            ],
            "text/plain": [
              "      Unnamed: 0      drugName      condition  \\\n",
              "55        102449  Aripiprazole  Schizophrenia   \n",
              "101       229524    Lurasidone  Schizophrenia   \n",
              "968        21104  Paliperidone  Schizophrenia   \n",
              "1003       21100  Paliperidone  Schizophrenia   \n",
              "1048      102822  Aripiprazole  Schizophrenia   \n",
              "\n",
              "                                                 review  rating  \\\n",
              "55    \"Abilify 20 mg.\\r\\nI am a patient diagnosed wi...    10.0   \n",
              "101   \"I&#039;ve been on Latuda for a little under 2...     8.0   \n",
              "968   \"I feel like this medication is OK minus the w...     5.0   \n",
              "1003  \"I have been on paliperidone for about a year ...     2.0   \n",
              "1048  \"I switched from Risperidal to Abilify two yea...    10.0   \n",
              "\n",
              "                    date  usefulCount  \n",
              "55    September 25, 2016           26  \n",
              "101   September 26, 2015            0  \n",
              "968    November 26, 2015           14  \n",
              "1003    January 13, 2016            5  \n",
              "1048        May 20, 2013           53  "
            ]
          },
          "metadata": {
            "tags": []
          },
          "execution_count": 89
        }
      ]
    },
    {
      "metadata": {
        "id": "acbHgH-H-9q_",
        "colab_type": "code",
        "outputId": "d7b9df55-354b-4926-b869-464e4aa67566",
        "colab": {
          "base_uri": "https://localhost:8080/",
          "height": 153
        }
      },
      "cell_type": "code",
      "source": [
        "print(df_schiz['drugName'].unique())"
      ],
      "execution_count": 90,
      "outputs": [
        {
          "output_type": "stream",
          "text": [
            "['Aripiprazole' 'Lurasidone' 'Paliperidone' 'Clozapine' 'Rexulti'\n",
            " 'Ziprasidone' 'Invega Sustenna' 'Abilify' 'Latuda' 'Risperidone'\n",
            " 'Risperdal' 'Iloperidone' 'Seroquel XR' 'Chlorpromazine' 'Olanzapine'\n",
            " 'Invega' 'Asenapine' 'Fanapt' 'Abilify Maintena' 'Brexpiprazole'\n",
            " 'Seroquel' 'Vraylar' 'Quetiapine' 'Clozaril' 'Saphris' 'Mellaril'\n",
            " 'Cariprazine' 'Invega Trinza' 'Zyprexa' 'Risperdal Consta' 'Stelazine'\n",
            " 'Zyprexa Zydis' 'Geodon' 'Molindone' 'Moban' 'Thorazine' 'Loxapine'\n",
            " 'Trifluoperazine' 'Thioridazine']\n"
          ],
          "name": "stdout"
        }
      ]
    },
    {
      "metadata": {
        "id": "cqecdQ48_JGy",
        "colab_type": "code",
        "outputId": "8735e708-a98b-4fbc-d2b0-38a67706318e",
        "colab": {
          "base_uri": "https://localhost:8080/",
          "height": 364
        }
      },
      "cell_type": "code",
      "source": [
        "df_schiz['rating'].hist()"
      ],
      "execution_count": 91,
      "outputs": [
        {
          "output_type": "execute_result",
          "data": {
            "text/plain": [
              "<matplotlib.axes._subplots.AxesSubplot at 0x7f138b74f2e8>"
            ]
          },
          "metadata": {
            "tags": []
          },
          "execution_count": 91
        },
        {
          "output_type": "display_data",
          "data": {
            "image/png": "[encoded data removed]",
            "text/plain": [
              "<matplotlib.figure.Figure at 0x7f138ae7b630>"
            ]
          },
          "metadata": {
            "tags": []
          }
        }
      ]
    },
    {
      "metadata": {
        "id": "QxCmXGXjKkix",
        "colab_type": "code",
        "colab": {}
      },
      "cell_type": "code",
      "source": [
        "df_a1 = df[(df['drugName'] == 'Abilify')]\n",
        "df_a2 = df[(df['drugName']=='Aripiprazole')]\n",
        "\n",
        "df_r1 = df[(df['drugName']=='Risperdal')]\n",
        "df_r2 = df[(df['drugName']=='Risperidone')]\n"
      ],
      "execution_count": 0,
      "outputs": []
    },
    {
      "metadata": {
        "id": "-GlXbKfLEJlo",
        "colab_type": "code",
        "colab": {}
      },
      "cell_type": "code",
      "source": [
        "Abilify = confidence_interval(df_a1['rating'])\n",
        "Aripiprazole = confidence_interval(df_a2['rating'])\n",
        "\n",
        "Risperdal = confidence_interval(df_r1['rating'])\n",
        "Risperidone = confidence_interval(df_r2['rating'])"
      ],
      "execution_count": 0,
      "outputs": []
    },
    {
      "metadata": {
        "id": "ouKo9PsxGqs4",
        "colab_type": "code",
        "colab": {
          "base_uri": "https://localhost:8080/",
          "height": 362
        },
        "outputId": "ab132da4-7ac0-47f4-eb7f-8fbc08faf686"
      },
      "cell_type": "code",
      "source": [
        "plt.bar(x=1, height = Abilify[0], yerr = (Abilify[2]-Abilify[1])/2);\n",
        "plt.bar(x=2, height = Aripiprazole[0], yerr = (Aripiprazole[2]-Aripiprazole[1])/2);\n",
        "plt.bar(x=3, height = Risperdal[0], yerr = (Risperdal[2]-Risperdal[1])/2);\n",
        "plt.bar(x=4, height = Risperidone[0], yerr = (Risperidone[2]-Risperidone[1])/2);\n",
        "\n",
        "plt.xticks([1,2,3,4], ['Abilify', 'Aripiprazole(Generic Abilify)', 'Risperdal','Risperidone(Generic Risperdal)}']);\n",
        "plt.title('Generic drugs have average rating similar to name brand');\n"
      ],
      "execution_count": 138,
      "outputs": [
        {
          "output_type": "display_data",
          "data": {
            "image/png": "[encoded data removed]",
            "text/plain": [
              "<matplotlib.figure.Figure at 0x7f1389d79f28>"
            ]
          },
          "metadata": {
            "tags": []
          }
        }
      ]
    },
    {
      "metadata": {
        "id": "mdkXnqHMNMIG",
        "colab_type": "code",
        "colab": {
          "base_uri": "https://localhost:8080/",
          "height": 34
        },
        "outputId": "2a190117-54e0-4997-ebcf-56dc55e7ab56"
      },
      "cell_type": "code",
      "source": [
        "Abilify"
      ],
      "execution_count": 131,
      "outputs": [
        {
          "output_type": "execute_result",
          "data": {
            "text/plain": [
              "(6.540358744394619, 6.224121370392706, 6.856596118396532)"
            ]
          },
          "metadata": {
            "tags": []
          },
          "execution_count": 131
        }
      ]
    },
    {
      "metadata": {
        "id": "2i1WndmAOafU",
        "colab_type": "code",
        "colab": {}
      },
      "cell_type": "code",
      "source": [
        ""
      ],
      "execution_count": 0,
      "outputs": []
    }
  ]
}