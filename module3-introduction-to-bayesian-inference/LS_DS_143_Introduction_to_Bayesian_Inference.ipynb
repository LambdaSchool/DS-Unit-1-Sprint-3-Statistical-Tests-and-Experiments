{
  "nbformat": 4,
  "nbformat_minor": 0,
  "metadata": {
    "colab": {
      "name": "LS DS 143 Introduction to Bayesian Inference.ipynb",
      "version": "0.3.2",
      "provenance": [],
      "include_colab_link": true
    },
    "kernelspec": {
      "name": "python3",
      "display_name": "Python 3"
    }
  },
  "cells": [
    {
      "cell_type": "markdown",
      "metadata": {
        "id": "view-in-github",
        "colab_type": "text"
      },
      "source": [
        "<a href=\"https://colab.research.google.com/github/cocoisland/DS-Unit-1-Sprint-4-Statistical-Tests-and-Experiments/blob/master/module3-introduction-to-bayesian-inference/LS_DS_143_Introduction_to_Bayesian_Inference.ipynb\" target=\"_parent\"><img src=\"https://colab.research.google.com/assets/colab-badge.svg\" alt=\"Open In Colab\"/></a>"
      ]
    },
    {
      "metadata": {
        "id": "H7OLbevlbd_Z",
        "colab_type": "text"
      },
      "cell_type": "markdown",
      "source": [
        "# Lambda School Data Science Module 143\n",
        "\n",
        "## Introduction to Bayesian Inference\n",
        "\n",
        "!['Detector! What would the Bayesian statistician say if I asked him whether the--' [roll] 'I AM A NEUTRINO DETECTOR, NOT A LABYRINTH GUARD. SERIOUSLY, DID YOUR BRAIN FALL OUT?' [roll] '... yes.'](https://imgs.xkcd.com/comics/frequentists_vs_bayesians_2x.png)\n",
        "\n",
        "*[XKCD 1132](https://www.xkcd.com/1132/)*\n"
      ]
    },
    {
      "metadata": {
        "id": "3mz8p08BsN6p",
        "colab_type": "text"
      },
      "cell_type": "markdown",
      "source": [
        "## Prepare - Bayes' Theorem and the Bayesian mindset"
      ]
    },
    {
      "metadata": {
        "id": "GhycNr-Sbeie",
        "colab_type": "text"
      },
      "cell_type": "markdown",
      "source": [
        "Bayes' theorem possesses a near-mythical quality - a bit of math that somehow magically evaluates a situation. But this mythicalness has more to do with its reputation and advanced applications than the actual core of it - deriving it is actually remarkably straightforward.\n",
        "\n",
        "### The Law of Total Probability\n",
        "\n",
        "By definition, the total probability of all outcomes (events) if some variable (event space) $A$ is 1. That is:\n",
        "\n",
        "$$P(A) = \\sum_n P(A_n) = 1$$\n",
        "\n",
        "The law of total probability takes this further, considering two variables ($A$ and $B$) and relating their marginal probabilities (their likelihoods considered independently, without reference to one another) and their conditional probabilities (their likelihoods considered jointly). A marginal probability is simply notated as e.g. $P(A)$, while a conditional probability is notated $P(A|B)$, which reads \"probability of $A$ *given* $B$\".\n",
        "\n",
        "The law of total probability states:\n",
        "\n",
        "$$P(A) = \\sum_n P(A | B_n) P(B_n)$$\n",
        "\n",
        "In words - the total probability of $A$ is equal to the sum of the conditional probability of $A$ on any given event $B_n$ times the probability of that event $B_n$, and summed over all possible events in $B$.\n",
        "\n",
        "### The Law of Conditional Probability\n",
        "\n",
        "What's the probability of something conditioned on something else? To determine this we have to go back to set theory and think about the intersection of sets:\n",
        "\n",
        "The formula for actual calculation:\n",
        "\n",
        "$$P(A|B) = \\frac{P(A \\cap B)}{P(B)}$$\n",
        "\n",
        "We can see how this relates back to the law of total probability - multiply both sides by $P(B)$ and you get $P(A|B)P(B) = P(A \\cap B)$ - replaced back into the law of total probability we get $P(A) = \\sum_n P(A \\cap B_n)$.\n",
        "\n",
        "This may not seem like an improvement at first, but try to relate it back to the above picture - if you think of sets as physical objects, we're saying that the total probability of $A$ given $B$ is all the little pieces of it intersected with $B$, added together. The conditional probability is then just that again, but divided by the probability of $B$ itself happening in the first place.\n",
        "\n",
        "### Bayes Theorem\n",
        "\n",
        "Here is is, the seemingly magic tool:\n",
        "\n",
        "$$P(A|B) = \\frac{P(B|A)P(A)}{P(B)}$$\n",
        "\n",
        "In words - the probability of $A$ conditioned on $B$ is the probability of $B$ conditioned on $A$, times the probability of $A$ and divided by the probability of $B$. These unconditioned probabilities are referred to as \"prior beliefs\", and the conditioned probabilities as \"updated.\"\n",
        "\n",
        "Why is this important? Scroll back up to the XKCD example - the Bayesian statistician draws a less absurd conclusion because their prior belief in the likelihood that the sun will go nova is extremely low. So, even when updated based on evidence from a detector that is $35/36 = 0.972$ accurate, the prior belief doesn't shift enough to change their overall opinion.\n",
        "\n",
        "There's many examples of Bayes' theorem - one less absurd example is to apply to [breathalyzer tests](https://www.bayestheorem.net/breathalyzer-example/). You may think that a breathalyzer test that is 100% accurate for true positives (detecting somebody who is drunk) is pretty good, but what if it also has 8% false positives (indicating somebody is drunk when they're not)? And furthermore, the rate of drunk driving (and thus our prior belief)  is 1/1000.\n",
        "\n",
        "What is the likelihood somebody really is drunk if they test positive? Some may guess it's 92% - the difference between the true positives and the false positives. But we have a prior belief of the background/true rate of drunk driving. Sounds like a job for Bayes' theorem!\n",
        "\n",
        "$$\n",
        "\\begin{aligned}\n",
        "P(Drunk | Positive) &= \\frac{P(Positive | Drunk)P(Drunk)}{P(Positive)} \\\\\n",
        "&= \\frac{1 \\times 0.001}{0.08} \\\\\n",
        "&= 0.0125\n",
        "\\end{aligned}\n",
        "$$\n",
        "\n",
        "In other words, the likelihood that somebody is drunk given they tested positive with a breathalyzer in this situation is only 1.25% - probably much lower than you'd guess. This is why, in practice, it's important to have a repeated test to confirm (the probability of two false positives in a row is $0.08 * 0.08 = 0.0064$, much lower), and Bayes' theorem has been relevant in court cases where proper consideration of evidence was important."
      ]
    },
    {
      "metadata": {
        "id": "htI3DGvDsRJF",
        "colab_type": "text"
      },
      "cell_type": "markdown",
      "source": [
        "## Live Lecture - Deriving Bayes' Theorem, Calculating Bayesian Confidence"
      ]
    },
    {
      "metadata": {
        "id": "moIJNQ-nbfe_",
        "colab_type": "text"
      },
      "cell_type": "markdown",
      "source": [
        "Notice that $P(A|B)$ appears in the above laws - in Bayesian terms, this is the belief in $A$ updated for the evidence $B$. So all we need to do is solve for this term to derive Bayes' theorem. Let's do it together!"
      ]
    },
    {
      "metadata": {
        "id": "5iblGEzYrqxF",
        "colab_type": "text"
      },
      "cell_type": "markdown",
      "source": [
        "\n",
        "$x = 2$ is an inline equation.\n",
        "\n",
        "$$\n",
        "x = 2\n",
        "$$\n",
        "\n",
        "is a block equation.\n",
        "\n",
        "$$\n",
        "\\begin{aligned}\n",
        "x &= 2 \\\\\n",
        "&= 1 + 1\n",
        "\\end{aligned}\n",
        "$$\n",
        "\n",
        "Now let's derive Bayes!\n",
        "\n",
        "$$\n",
        "\\begin{aligned}\n",
        "P(A \\cap B) &= P(B \\cap A) \\\\\n",
        "\\\\\n",
        "P(A|B) &= \\frac{P(A \\cap B)}{P(B)} \\\\\n",
        "\\Rightarrow P(A|B)P(B) &= P(A \\cap B) \\\\\n",
        "P(B|A) &= \\frac{P(B \\cap A)}{P(A)} \\\\\n",
        "\\Rightarrow P(B|A)P(A) &= P(B \\cap A) = P(A \\cap B) \\\\\n",
        "\\Rightarrow P(A|B)P(B) &= P(B|A)P(A) \\\\\n",
        "\\Rightarrow P(A|B)&= \\frac{P(B|A)P(A)}{P(B)}\n",
        "\\end{aligned}\n",
        "$$"
      ]
    },
    {
      "metadata": {
        "id": "ke-5EqJI0Tsn",
        "colab_type": "code",
        "outputId": "8f4c6a0b-f016-4d17-daa2-6f23d92c4cb9",
        "colab": {
          "base_uri": "https://localhost:8080/",
          "height": 108
        }
      },
      "cell_type": "code",
      "source": [
        "# Activity 2 - Use SciPy to calculate Bayesian confidence intervals\n",
        "# https://docs.scipy.org/doc/scipy/reference/generated/scipy.stats.bayes_mvs.html#scipy.stats.bayes_mvs\n",
        "\n",
        "from scipy import stats\n",
        "import numpy as np\n",
        "\n",
        "coinflips = np.random.binomial(n=1, p=0.5, size=100)\n",
        "coinflips"
      ],
      "execution_count": 0,
      "outputs": [
        {
          "output_type": "execute_result",
          "data": {
            "text/plain": [
              "array([1, 0, 0, 1, 0, 0, 1, 0, 0, 0, 1, 0, 0, 1, 1, 1, 1, 1, 1, 0, 0, 1,\n",
              "       0, 0, 0, 0, 0, 0, 0, 1, 1, 1, 0, 1, 0, 1, 0, 1, 0, 1, 0, 1, 0, 1,\n",
              "       0, 0, 0, 0, 1, 0, 0, 0, 0, 1, 0, 1, 1, 1, 0, 1, 0, 0, 0, 1, 0, 0,\n",
              "       1, 1, 1, 0, 0, 0, 0, 1, 0, 0, 1, 1, 1, 0, 0, 1, 0, 0, 0, 1, 0, 1,\n",
              "       1, 0, 1, 0, 0, 0, 1, 0, 0, 0, 0, 0])"
            ]
          },
          "metadata": {
            "tags": []
          },
          "execution_count": 5
        }
      ]
    },
    {
      "metadata": {
        "id": "mJXP_wZwuMj5",
        "colab_type": "code",
        "outputId": "5dc91c77-44c0-43c4-cfe4-ebce8eb14fd9",
        "colab": {
          "base_uri": "https://localhost:8080/",
          "height": 35
        }
      },
      "cell_type": "code",
      "source": [
        "# Frequentist confidence interval\n",
        "def confidence_interval(data, confidence=0.95):\n",
        "  \"\"\"\n",
        "  Calculate a confidence interval around a sample mean for given data.\n",
        "  Using t-distribution and two-tailed test, default 95% confidence. \n",
        "  \n",
        "  Arguments:\n",
        "    data - iterable (list or numpy array) of sample observations\n",
        "    confidence - level of confidence for the interval\n",
        "  \n",
        "  Returns:\n",
        "    tuple of (mean, lower bound, upper bound)\n",
        "  \"\"\"\n",
        "  data=np.array(data)\n",
        "  mean = np.mean(data)\n",
        "  dof = len(data) - 1 # dof = degree of freedom\n",
        "  stderr = stats.sem(data) # sem - std error mean\n",
        "  interval = stderr * stats.t.ppf( (1+confidence)/2, dof)\n",
        "  return(mean, mean-interval, mean+interval)\n",
        "  \n",
        "confidence_interval(coinflips)"
      ],
      "execution_count": 0,
      "outputs": [
        {
          "output_type": "execute_result",
          "data": {
            "text/plain": [
              "(0.4, 0.30230391080493196, 0.4976960891950681)"
            ]
          },
          "metadata": {
            "tags": []
          },
          "execution_count": 12
        }
      ]
    },
    {
      "metadata": {
        "id": "mxujjH6mvPw7",
        "colab_type": "code",
        "outputId": "24c6d3d0-921d-447c-8958-525498bc48bb",
        "colab": {
          "base_uri": "https://localhost:8080/",
          "height": 288
        }
      },
      "cell_type": "code",
      "source": [
        "import pandas as pd\n",
        "pd.DataFrame(coinflips).describe()"
      ],
      "execution_count": 0,
      "outputs": [
        {
          "output_type": "execute_result",
          "data": {
            "text/html": [
              "<div>\n",
              "<style scoped>\n",
              "    .dataframe tbody tr th:only-of-type {\n",
              "        vertical-align: middle;\n",
              "    }\n",
              "\n",
              "    .dataframe tbody tr th {\n",
              "        vertical-align: top;\n",
              "    }\n",
              "\n",
              "    .dataframe thead th {\n",
              "        text-align: right;\n",
              "    }\n",
              "</style>\n",
              "<table border=\"1\" class=\"dataframe\">\n",
              "  <thead>\n",
              "    <tr style=\"text-align: right;\">\n",
              "      <th></th>\n",
              "      <th>0</th>\n",
              "    </tr>\n",
              "  </thead>\n",
              "  <tbody>\n",
              "    <tr>\n",
              "      <th>count</th>\n",
              "      <td>100.000000</td>\n",
              "    </tr>\n",
              "    <tr>\n",
              "      <th>mean</th>\n",
              "      <td>0.400000</td>\n",
              "    </tr>\n",
              "    <tr>\n",
              "      <th>std</th>\n",
              "      <td>0.492366</td>\n",
              "    </tr>\n",
              "    <tr>\n",
              "      <th>min</th>\n",
              "      <td>0.000000</td>\n",
              "    </tr>\n",
              "    <tr>\n",
              "      <th>25%</th>\n",
              "      <td>0.000000</td>\n",
              "    </tr>\n",
              "    <tr>\n",
              "      <th>50%</th>\n",
              "      <td>0.000000</td>\n",
              "    </tr>\n",
              "    <tr>\n",
              "      <th>75%</th>\n",
              "      <td>1.000000</td>\n",
              "    </tr>\n",
              "    <tr>\n",
              "      <th>max</th>\n",
              "      <td>1.000000</td>\n",
              "    </tr>\n",
              "  </tbody>\n",
              "</table>\n",
              "</div>"
            ],
            "text/plain": [
              "                0\n",
              "count  100.000000\n",
              "mean     0.400000\n",
              "std      0.492366\n",
              "min      0.000000\n",
              "25%      0.000000\n",
              "50%      0.000000\n",
              "75%      1.000000\n",
              "max      1.000000"
            ]
          },
          "metadata": {
            "tags": []
          },
          "execution_count": 13
        }
      ]
    },
    {
      "metadata": {
        "id": "sQBv8n5ByYZp",
        "colab_type": "code",
        "outputId": "f32156b6-f2ba-4e5d-e84b-8b4034828e7d",
        "colab": {
          "base_uri": "https://localhost:8080/",
          "height": 72
        }
      },
      "cell_type": "code",
      "source": [
        "stats.bayes_mvs(coinflips)"
      ],
      "execution_count": 0,
      "outputs": [
        {
          "output_type": "execute_result",
          "data": {
            "text/plain": [
              "(Mean(statistic=0.4, minmax=(0.3182479907998026, 0.4817520092001974)),\n",
              " Variance(statistic=0.24742268041237117, minmax=(0.1947653225284201, 0.3115008777113334)),\n",
              " Std_dev(statistic=0.49613567665599395, minmax=(0.4413222434099828, 0.5581226368024623)))"
            ]
          },
          "metadata": {
            "tags": []
          },
          "execution_count": 14
        }
      ]
    },
    {
      "metadata": {
        "id": "ylEJ707Q0Zm6",
        "colab_type": "code",
        "outputId": "45f9831a-aded-42c3-b765-5f160a9d1c1e",
        "colab": {
          "base_uri": "https://localhost:8080/",
          "height": 288
        }
      },
      "cell_type": "code",
      "source": [
        "# Another example, assuming treatment group vs control group\n",
        "treatment_group = np.random.binomial(1, p=0.65, size=40)\n",
        "control_group = np.random.binomial(1, p=0.4, size=40)\n",
        "\n",
        "df=pd.DataFrame({'treated':treatment_group,\n",
        "                 'untreated':control_group    \n",
        "                })\n",
        "\n",
        "df.describe()"
      ],
      "execution_count": 0,
      "outputs": [
        {
          "output_type": "execute_result",
          "data": {
            "text/html": [
              "<div>\n",
              "<style scoped>\n",
              "    .dataframe tbody tr th:only-of-type {\n",
              "        vertical-align: middle;\n",
              "    }\n",
              "\n",
              "    .dataframe tbody tr th {\n",
              "        vertical-align: top;\n",
              "    }\n",
              "\n",
              "    .dataframe thead th {\n",
              "        text-align: right;\n",
              "    }\n",
              "</style>\n",
              "<table border=\"1\" class=\"dataframe\">\n",
              "  <thead>\n",
              "    <tr style=\"text-align: right;\">\n",
              "      <th></th>\n",
              "      <th>treated</th>\n",
              "      <th>untreated</th>\n",
              "    </tr>\n",
              "  </thead>\n",
              "  <tbody>\n",
              "    <tr>\n",
              "      <th>count</th>\n",
              "      <td>40.000000</td>\n",
              "      <td>40.000000</td>\n",
              "    </tr>\n",
              "    <tr>\n",
              "      <th>mean</th>\n",
              "      <td>0.725000</td>\n",
              "      <td>0.350000</td>\n",
              "    </tr>\n",
              "    <tr>\n",
              "      <th>std</th>\n",
              "      <td>0.452203</td>\n",
              "      <td>0.483046</td>\n",
              "    </tr>\n",
              "    <tr>\n",
              "      <th>min</th>\n",
              "      <td>0.000000</td>\n",
              "      <td>0.000000</td>\n",
              "    </tr>\n",
              "    <tr>\n",
              "      <th>25%</th>\n",
              "      <td>0.000000</td>\n",
              "      <td>0.000000</td>\n",
              "    </tr>\n",
              "    <tr>\n",
              "      <th>50%</th>\n",
              "      <td>1.000000</td>\n",
              "      <td>0.000000</td>\n",
              "    </tr>\n",
              "    <tr>\n",
              "      <th>75%</th>\n",
              "      <td>1.000000</td>\n",
              "      <td>1.000000</td>\n",
              "    </tr>\n",
              "    <tr>\n",
              "      <th>max</th>\n",
              "      <td>1.000000</td>\n",
              "      <td>1.000000</td>\n",
              "    </tr>\n",
              "  </tbody>\n",
              "</table>\n",
              "</div>"
            ],
            "text/plain": [
              "         treated  untreated\n",
              "count  40.000000  40.000000\n",
              "mean    0.725000   0.350000\n",
              "std     0.452203   0.483046\n",
              "min     0.000000   0.000000\n",
              "25%     0.000000   0.000000\n",
              "50%     1.000000   0.000000\n",
              "75%     1.000000   1.000000\n",
              "max     1.000000   1.000000"
            ]
          },
          "metadata": {
            "tags": []
          },
          "execution_count": 21
        }
      ]
    },
    {
      "metadata": {
        "id": "8_1mcp111098",
        "colab_type": "code",
        "outputId": "08c3cd03-948d-4a1c-a8b0-9a2573ca3cad",
        "colab": {
          "base_uri": "https://localhost:8080/",
          "height": 35
        }
      },
      "cell_type": "code",
      "source": [
        "# Frequentist t test independent\n",
        "from scipy import stats\n",
        "stats.ttest_ind(df.treated, df.untreated)"
      ],
      "execution_count": 0,
      "outputs": [
        {
          "output_type": "execute_result",
          "data": {
            "text/plain": [
              "Ttest_indResult(statistic=3.5843731111998967, pvalue=0.0005865758234888057)"
            ]
          },
          "metadata": {
            "tags": []
          },
          "execution_count": 22
        }
      ]
    },
    {
      "metadata": {
        "id": "fVt4wKpC2IT3",
        "colab_type": "code",
        "outputId": "19522704-abe3-4345-9c63-9d61882b19f5",
        "colab": {
          "base_uri": "https://localhost:8080/",
          "height": 72
        }
      },
      "cell_type": "code",
      "source": [
        "stats.bayes_mvs(df.treated)"
      ],
      "execution_count": 0,
      "outputs": [
        {
          "output_type": "execute_result",
          "data": {
            "text/plain": [
              "(Mean(statistic=0.725, minmax=(0.6045322597650726, 0.8454677402349273)),\n",
              " Variance(statistic=0.2155405405405406, minmax=(0.14613660331455472, 0.3103669520480209)),\n",
              " Std_dev(statistic=0.46113747645565806, minmax=(0.382278175305045, 0.5571058714894511)))"
            ]
          },
          "metadata": {
            "tags": []
          },
          "execution_count": 23
        }
      ]
    },
    {
      "metadata": {
        "id": "wmmR96o12P8j",
        "colab_type": "code",
        "outputId": "b1ae6ca5-d20a-45b1-91ab-fb0e7c3564f4",
        "colab": {
          "base_uri": "https://localhost:8080/",
          "height": 72
        }
      },
      "cell_type": "code",
      "source": [
        "stats.bayes_mvs(df.untreated)"
      ],
      "execution_count": 0,
      "outputs": [
        {
          "output_type": "execute_result",
          "data": {
            "text/plain": [
              "(Mean(statistic=0.35, minmax=(0.2213155371392566, 0.4786844628607433)),\n",
              " Variance(statistic=0.24594594594594596, minmax=(0.16675148465986805, 0.35414912396702064)),\n",
              " Std_dev(statistic=0.4925902017165105, minmax=(0.4083521576530092, 0.5951042967136271)))"
            ]
          },
          "metadata": {
            "tags": []
          },
          "execution_count": 24
        }
      ]
    },
    {
      "metadata": {
        "id": "P-DzzRk5bf0z",
        "colab_type": "text"
      },
      "cell_type": "markdown",
      "source": [
        "## Assignment - Code it up!\n",
        "\n",
        "Most of the above was pure math - write Python code to reproduce the results. This is purposefully open ended - you'll have to think about how you should represent probabilities and events. You can and should look things up, and as a stretch goal - refactor your code into helpful reusable functions!\n",
        "\n",
        "If you're unsure where to start, check out [this blog post of Bayes theorem with Python](https://dataconomy.com/2015/02/introduction-to-bayes-theorem-with-python/) - you could and should create something similar!\n",
        "\n",
        "Stretch goal - apply a Bayesian technique to a problem you previously worked (in an assignment or project work) on from a frequentist (standard) perspective."
      ]
    },
    {
      "metadata": {
        "id": "xpVhZyUnbf7o",
        "colab_type": "code",
        "colab": {}
      },
      "cell_type": "code",
      "source": [
        "# TODO - code!\n"
      ],
      "execution_count": 0,
      "outputs": []
    },
    {
      "metadata": {
        "id": "ZLiMsz3nG8l-",
        "colab_type": "code",
        "colab": {}
      },
      "cell_type": "code",
      "source": [
        "'''\n",
        "pmf - probability mass function of normal distribution\n",
        "\n",
        "For one single observed data point, the following pmf can return the correct \n",
        "probability under normal distribution.\n",
        "\n",
        "For an array of many observed data point, use stat.bernoulli.pmf\n",
        "'''\n",
        "def pmf(x,p):\n",
        "  if (x == 1):\n",
        "    return p\n",
        "  elif (x == 0) :\n",
        "    return (1 - p)\n",
        "\n"
      ],
      "execution_count": 0,
      "outputs": []
    },
    {
      "metadata": {
        "id": "BO0Gh1cvO2qo",
        "colab_type": "code",
        "colab": {}
      },
      "cell_type": "code",
      "source": [
        "import numpy as np\n",
        "from scipy import stats\n",
        "import matplotlib.pyplot as plt\n",
        "import seaborn as sns\n",
        "\n",
        "'''\n",
        "Implement bayes by coding\n",
        "'''\n",
        "\n",
        "\n",
        "def bayes_dist(A=0.8, B=0.5):\n",
        "  A_incidents = np.random.binomial(n=1, p=A, size=100)\n",
        "  B_incidents = np.random.binomial(n=1, p=B, size=100)\n",
        "  datapoints = np.linspace(0,1,100)\n",
        "  \n",
        "  A_distribution = np.array( [np.product(stats.bernoulli.pmf(A_incidents, d)) for d in datapoints ])\n",
        "  #current = current/np.sum(current)\n",
        "  B_distribution = np.array( [np.product(stats.bernoulli.pmf(B_incidents, d)) for d in datapoints ])\n",
        "  inv_B = B_distribution/np.sum(B_distribution)\n",
        "  Bayes_distribution = [inv_B[i] * A_distribution[i] for i in range(inv_B.shape[0])]\n",
        "  posterior = Bayes_distribution/np.sum(Bayes_distribution)\n",
        "  \n",
        "  fig, axes = plt.subplots(3, 1, sharex=True, figsize=(8,8))\n",
        "  axes[0].plot(datapoints, A_distribution)\n",
        "  axes[0].set_title(\"A probability Sampling Distribution\")\n",
        "  axes[1].plot(datapoints, B_distribution)\n",
        "  axes[1].set_title(\"B probability Distribution\")\n",
        "  axes[2].plot(datapoints, posterior)\n",
        "  axes[2].set_title(\"Bayes Prediction Distribution\")\n",
        "  sns.despine()\n",
        "  plt.tight_layout()\n",
        "     \n",
        "def bayes_AB(A=0.8, B=0.5):\n",
        "  A_incidents = np.random.binomial(n=1, p=A, size=100)\n",
        "  B_incidents = np.random.binomial(n=1, p=B, size=100)\n",
        "  inv_B = B_incidents / np.sum(B_incidents)\n",
        "  posterior = [inv_B[i] * A_incidents[i] for i in range(inv_B.shape[0])]\n",
        "  Bayes_pred = posterior/np.sum(posterior)\n",
        "  return Bayes_pred\n",
        "\n",
        "def bayes_confidence(data, confidence=0.95) : \n",
        "  #data = np.array(data)\n",
        "  mean = data.mean()\n",
        "  degree_of_freedom = len(data) - 1\n",
        "  stderr = stats.sem(data)\n",
        "  interval = stderr * stats.t.ppf( (1+confidence)/2., degree_of_freedom )\n",
        "  s=\"Sample mean {} in interval:{} - {}\".format(mean,mean-interval,mean+interval)\n",
        "  print(s)"
      ],
      "execution_count": 0,
      "outputs": []
    },
    {
      "metadata": {
        "id": "BAm3J-cnlUp2",
        "colab_type": "code",
        "colab": {
          "base_uri": "https://localhost:8080/",
          "height": 290
        },
        "outputId": "2469f648-300a-44f4-ee4f-6564ee8b1a51"
      },
      "cell_type": "code",
      "source": [
        "bayes_AB()"
      ],
      "execution_count": 30,
      "outputs": [
        {
          "output_type": "execute_result",
          "data": {
            "text/plain": [
              "array([0.     , 0.     , 0.     , 0.03125, 0.     , 0.     , 0.     ,\n",
              "       0.03125, 0.03125, 0.     , 0.     , 0.     , 0.     , 0.03125,\n",
              "       0.     , 0.     , 0.03125, 0.     , 0.03125, 0.     , 0.03125,\n",
              "       0.03125, 0.     , 0.     , 0.     , 0.     , 0.     , 0.     ,\n",
              "       0.03125, 0.03125, 0.     , 0.03125, 0.03125, 0.     , 0.     ,\n",
              "       0.     , 0.03125, 0.03125, 0.     , 0.03125, 0.     , 0.     ,\n",
              "       0.     , 0.03125, 0.     , 0.03125, 0.     , 0.     , 0.     ,\n",
              "       0.     , 0.     , 0.     , 0.     , 0.03125, 0.     , 0.     ,\n",
              "       0.     , 0.     , 0.     , 0.     , 0.03125, 0.     , 0.     ,\n",
              "       0.     , 0.     , 0.     , 0.     , 0.03125, 0.03125, 0.     ,\n",
              "       0.     , 0.     , 0.03125, 0.     , 0.03125, 0.     , 0.     ,\n",
              "       0.     , 0.03125, 0.     , 0.     , 0.03125, 0.03125, 0.     ,\n",
              "       0.     , 0.     , 0.     , 0.03125, 0.     , 0.     , 0.03125,\n",
              "       0.     , 0.03125, 0.     , 0.     , 0.     , 0.03125, 0.03125,\n",
              "       0.03125, 0.     ])"
            ]
          },
          "metadata": {
            "tags": []
          },
          "execution_count": 30
        }
      ]
    },
    {
      "metadata": {
        "id": "J60izzE7lJCJ",
        "colab_type": "code",
        "colab": {
          "base_uri": "https://localhost:8080/",
          "height": 35
        },
        "outputId": "87729a49-fdd7-4dcf-d486-0908c1dfe4e1"
      },
      "cell_type": "code",
      "source": [
        "bayes_confidence(bayes_AB())"
      ],
      "execution_count": 29,
      "outputs": [
        {
          "output_type": "stream",
          "text": [
            "Sample mean 0.01 in interval:0.00722154052041162 - 0.01277845947958838\n"
          ],
          "name": "stdout"
        }
      ]
    },
    {
      "metadata": {
        "id": "GQldQoSBTy1M",
        "colab_type": "code",
        "colab": {
          "base_uri": "https://localhost:8080/",
          "height": 581
        },
        "outputId": "abe8b87b-d343-4dab-a1d0-052dea3493cc"
      },
      "cell_type": "code",
      "source": [
        "bayes_dist()"
      ],
      "execution_count": 28,
      "outputs": [
        {
          "output_type": "display_data",
          "data": {
            "image/png": "[encoded data removed]",
            "text/plain": [
              "<matplotlib.figure.Figure at 0x7f4527a5fe80>"
            ]
          },
          "metadata": {
            "tags": []
          }
        }
      ]
    }
  ]
}