{
 "cells": [
  {
   "cell_type": "markdown",
   "metadata": {
    "colab_type": "text",
    "id": "H7OLbevlbd_Z"
   },
   "source": [
    "# Lambda School Data Science Module 143\n",
    "\n",
    "## Introduction to Bayesian Inference\n",
    "\n",
    "!['Detector! What would the Bayesian statistician say if I asked him whether the--' [roll] 'I AM A NEUTRINO DETECTOR, NOT A LABYRINTH GUARD. SERIOUSLY, DID YOUR BRAIN FALL OUT?' [roll] '... yes.'](https://imgs.xkcd.com/comics/frequentists_vs_bayesians.png)\n",
    "\n",
    "*[XKCD 1132](https://www.xkcd.com/1132/)*\n"
   ]
  },
  {
   "cell_type": "markdown",
   "metadata": {
    "colab_type": "text",
    "id": "3mz8p08BsN6p"
   },
   "source": [
    "## Prepare - Bayes' Theorem and the Bayesian mindset"
   ]
  },
  {
   "cell_type": "markdown",
   "metadata": {
    "colab_type": "text",
    "id": "GhycNr-Sbeie"
   },
   "source": [
    "Bayes' theorem possesses a near-mythical quality - a bit of math that somehow magically evaluates a situation. But this mythicalness has more to do with its reputation and advanced applications than the actual core of it - deriving it is actually remarkably straightforward.\n",
    "\n",
    "### The Law of Total Probability\n",
    "\n",
    "By definition, the total probability of all outcomes (events) if some variable (event space) $A$ is 1. That is:\n",
    "\n",
    "$$P(A) = \\sum_n P(A_n) = 1$$\n",
    "\n",
    "The law of total probability takes this further, considering two variables ($A$ and $B$) and relating their marginal probabilities (their likelihoods considered independently, without reference to one another) and their conditional probabilities (their likelihoods considered jointly). A marginal probability is simply notated as e.g. $P(A)$, while a conditional probability is notated $P(A|B)$, which reads \"probability of $A$ *given* $B$\".\n",
    "\n",
    "The law of total probability states:\n",
    "\n",
    "$$P(A) = \\sum_n P(A | B_n) P(B_n)$$\n",
    "\n",
    "In words - the total probability of $A$ is equal to the sum of the conditional probability of $A$ on any given event $B_n$ times the probability of that event $B_n$, and summed over all possible events in $B$.\n",
    "\n",
    "### The Law of Conditional Probability\n",
    "\n",
    "What's the probability of something conditioned on something else? To determine this we have to go back to set theory and think about the intersection of sets:\n",
    "\n",
    "The formula for actual calculation:\n",
    "\n",
    "$$P(A|B) = \\frac{P(A \\cap B)}{P(B)}$$\n",
    "\n",
    "We can see how this relates back to the law of total probability - multiply both sides by $P(B)$ and you get $P(A|B)P(B) = P(A \\cap B)$ - replaced back into the law of total probability we get $P(A) = \\sum_n P(A \\cap B_n)$.\n",
    "\n",
    "This may not seem like an improvement at first, but try to relate it back to the above picture - if you think of sets as physical objects, we're saying that the total probability of $A$ given $B$ is all the little pieces of it intersected with $B$, added together. The conditional probability is then just that again, but divided by the probability of $B$ itself happening in the first place.\n",
    "\n",
    "### Bayes Theorem\n",
    "\n",
    "Here is is, the seemingly magic tool:\n",
    "\n",
    "$$P(A|B) = \\frac{P(B|A)P(A)}{P(B)}$$\n",
    "\n",
    "In words - the probability of $A$ conditioned on $B$ is the probability of $B$ conditioned on $A$, times the probability of $A$ and divided by the probability of $B$. These unconditioned probabilities are referred to as \"prior beliefs\", and the conditioned probabilities as \"updated.\"\n",
    "\n",
    "Why is this important? Scroll back up to the XKCD example - the Bayesian statistician draws a less absurd conclusion because their prior belief in the likelihood that the sun will go nova is extremely low. So, even when updated based on evidence from a detector that is $35/36 = 0.972$ accurate, the prior belief doesn't shift enough to change their overall opinion.\n",
    "\n",
    "There's many examples of Bayes' theorem - one less absurd example is to apply to [breathalyzer tests](https://www.bayestheorem.net/breathalyzer-example/). You may think that a breathalyzer test that is 100% accurate for true positives (detecting somebody who is drunk) is pretty good, but what if it also has 8% false positives (indicating somebody is drunk when they're not)? And furthermore, the rate of drunk driving (and thus our prior belief)  is 1/1000.\n",
    "\n",
    "What is the likelihood somebody really is drunk if they test positive? Some may guess it's 92% - the difference between the true positives and the false positives. But we have a prior belief of the background/true rate of drunk driving. Sounds like a job for Bayes' theorem!\n",
    "\n",
    "$$\n",
    "\\begin{aligned}\n",
    "P(Drunk | Positive) &= \\frac{P(Positive | Drunk)P(Drunk)}{P(Positive)} \\\\\n",
    "&= \\frac{1 \\times 0.001}{0.08} \\\\\n",
    "&= 0.0125\n",
    "\\end{aligned}\n",
    "$$\n",
    "\n",
    "In other words, the likelihood that somebody is drunk given they tested positive with a breathalyzer in this situation is only 1.25% - probably much lower than you'd guess. This is why, in practice, it's important to have a repeated test to confirm (the probability of two false positives in a row is $0.08 * 0.08 = 0.0064$, much lower), and Bayes' theorem has been relevant in court cases where proper consideration of evidence was important."
   ]
  },
  {
   "cell_type": "markdown",
   "metadata": {
    "colab_type": "text",
    "id": "htI3DGvDsRJF"
   },
   "source": [
    "## Live Lecture - Deriving Bayes' Theorem, Calculating Bayesian Confidence"
   ]
  },
  {
   "cell_type": "markdown",
   "metadata": {
    "colab_type": "text",
    "id": "moIJNQ-nbfe_"
   },
   "source": [
    "Notice that $P(A|B)$ appears in the above laws - in Bayesian terms, this is the belief in $A$ updated for the evidence $B$. So all we need to do is solve for this term to derive Bayes' theorem. Let's do it together!"
   ]
  },
  {
   "cell_type": "code",
   "execution_count": 2,
   "metadata": {
    "colab": {},
    "colab_type": "code",
    "id": "ke-5EqJI0Tsn"
   },
   "outputs": [],
   "source": [
    "# Activity 2 - Use SciPy to calculate Bayesian confidence intervals\n",
    "# https://docs.scipy.org/doc/scipy/reference/generated/scipy.stats.bayes_mvs.html#scipy.stats.bayes_mvs\n"
   ]
  },
  {
   "cell_type": "code",
   "execution_count": 3,
   "metadata": {},
   "outputs": [
    {
     "name": "stdout",
     "output_type": "stream",
     "text": [
      "[1 0 0 0 0 1 1 1 0 0 1 0 1 0 1 0 1 1 0 1 0 0 1 1 0 0 0 1 1 0 0 0 0 0 0 0 0\n",
      " 1 0 0 1 0 1 0 1 1 0 1 0 0 0 1 1 0 1 1 0 1 0 0 0 0 1 1 1 0 1 1 0 1 0 0 0 0\n",
      " 0 0 0 1 0 0 0 0 1 0 0 0 1 1 1 0 1 0 1 0 1 1 0 1 0 1]\n"
     ]
    }
   ],
   "source": [
    "from scipy import stats\n",
    "import numpy as np\n",
    "\n",
    "coinflips = np.random.binomial(n=1, p=0.5, size=100)\n",
    "print(coinflips)"
   ]
  },
  {
   "cell_type": "code",
   "execution_count": 5,
   "metadata": {},
   "outputs": [],
   "source": [
    "def confidence_interval(data, confidence=0.95):\n",
    "    \"\"\"\n",
    "    Takes data, returns (mean, lower bound, upper bound)\n",
    "    \"\"\"\n",
    "    n = len(data)\n",
    "    mean = sum(data) / n\n",
    "    data = np.array(data)\n",
    "    stderr = stats.sem(data)\n",
    "    interval = stderr * stats.t.ppf((1 + confidence) / 2., n - 1)\n",
    "    return (mean, mean - interval, mean + interval)\n"
   ]
  },
  {
   "cell_type": "code",
   "execution_count": 6,
   "metadata": {},
   "outputs": [
    {
     "data": {
      "text/plain": [
       "(0.42, 0.28971848005976064, 0.5502815199402393)"
      ]
     },
     "execution_count": 6,
     "metadata": {},
     "output_type": "execute_result"
    }
   ],
   "source": [
    "confidence_interval(coinflips, confidence=0.99)"
   ]
  },
  {
   "cell_type": "code",
   "execution_count": 7,
   "metadata": {},
   "outputs": [
    {
     "data": {
      "text/plain": [
       "(0.42, nan, nan)"
      ]
     },
     "execution_count": 7,
     "metadata": {},
     "output_type": "execute_result"
    }
   ],
   "source": [
    "confidence_interval(coinflips, confidence=1.1)"
   ]
  },
  {
   "cell_type": "code",
   "execution_count": 8,
   "metadata": {},
   "outputs": [
    {
     "name": "stdout",
     "output_type": "stream",
     "text": [
      "Help on function bayes_mvs in module scipy.stats.morestats:\n",
      "\n",
      "bayes_mvs(data, alpha=0.9)\n",
      "    Bayesian confidence intervals for the mean, var, and std.\n",
      "    \n",
      "    Parameters\n",
      "    ----------\n",
      "    data : array_like\n",
      "        Input data, if multi-dimensional it is flattened to 1-D by `bayes_mvs`.\n",
      "        Requires 2 or more data points.\n",
      "    alpha : float, optional\n",
      "        Probability that the returned confidence interval contains\n",
      "        the true parameter.\n",
      "    \n",
      "    Returns\n",
      "    -------\n",
      "    mean_cntr, var_cntr, std_cntr : tuple\n",
      "        The three results are for the mean, variance and standard deviation,\n",
      "        respectively.  Each result is a tuple of the form::\n",
      "    \n",
      "            (center, (lower, upper))\n",
      "    \n",
      "        with `center` the mean of the conditional pdf of the value given the\n",
      "        data, and `(lower, upper)` a confidence interval, centered on the\n",
      "        median, containing the estimate to a probability ``alpha``.\n",
      "    \n",
      "    See Also\n",
      "    --------\n",
      "    mvsdist\n",
      "    \n",
      "    Notes\n",
      "    -----\n",
      "    Each tuple of mean, variance, and standard deviation estimates represent\n",
      "    the (center, (lower, upper)) with center the mean of the conditional pdf\n",
      "    of the value given the data and (lower, upper) is a confidence interval\n",
      "    centered on the median, containing the estimate to a probability\n",
      "    ``alpha``.\n",
      "    \n",
      "    Converts data to 1-D and assumes all data has the same mean and variance.\n",
      "    Uses Jeffrey's prior for variance and std.\n",
      "    \n",
      "    Equivalent to ``tuple((x.mean(), x.interval(alpha)) for x in mvsdist(dat))``\n",
      "    \n",
      "    References\n",
      "    ----------\n",
      "    T.E. Oliphant, \"A Bayesian perspective on estimating mean, variance, and\n",
      "    standard-deviation from data\", http://scholarsarchive.byu.edu/facpub/278,\n",
      "    2006.\n",
      "    \n",
      "    Examples\n",
      "    --------\n",
      "    First a basic example to demonstrate the outputs:\n",
      "    \n",
      "    >>> from scipy import stats\n",
      "    >>> data = [6, 9, 12, 7, 8, 8, 13]\n",
      "    >>> mean, var, std = stats.bayes_mvs(data)\n",
      "    >>> mean\n",
      "    Mean(statistic=9.0, minmax=(7.103650222612533, 10.896349777387467))\n",
      "    >>> var\n",
      "    Variance(statistic=10.0, minmax=(3.176724206..., 24.45910382...))\n",
      "    >>> std\n",
      "    Std_dev(statistic=2.9724954732045084, minmax=(1.7823367265645143, 4.945614605014631))\n",
      "    \n",
      "    Now we generate some normally distributed random data, and get estimates of\n",
      "    mean and standard deviation with 95% confidence intervals for those\n",
      "    estimates:\n",
      "    \n",
      "    >>> n_samples = 100000\n",
      "    >>> data = stats.norm.rvs(size=n_samples)\n",
      "    >>> res_mean, res_var, res_std = stats.bayes_mvs(data, alpha=0.95)\n",
      "    \n",
      "    >>> import matplotlib.pyplot as plt\n",
      "    >>> fig = plt.figure()\n",
      "    >>> ax = fig.add_subplot(111)\n",
      "    >>> ax.hist(data, bins=100, density=True, label='Histogram of data')\n",
      "    >>> ax.vlines(res_mean.statistic, 0, 0.5, colors='r', label='Estimated mean')\n",
      "    >>> ax.axvspan(res_mean.minmax[0],res_mean.minmax[1], facecolor='r',\n",
      "    ...            alpha=0.2, label=r'Estimated mean (95% limits)')\n",
      "    >>> ax.vlines(res_std.statistic, 0, 0.5, colors='g', label='Estimated scale')\n",
      "    >>> ax.axvspan(res_std.minmax[0],res_std.minmax[1], facecolor='g', alpha=0.2,\n",
      "    ...            label=r'Estimated scale (95% limits)')\n",
      "    \n",
      "    >>> ax.legend(fontsize=10)\n",
      "    >>> ax.set_xlim([-4, 4])\n",
      "    >>> ax.set_ylim([0, 0.5])\n",
      "    >>> plt.show()\n",
      "\n"
     ]
    }
   ],
   "source": [
    "help(stats.bayes_mvs)\n"
   ]
  },
  {
   "cell_type": "code",
   "execution_count": 9,
   "metadata": {},
   "outputs": [
    {
     "data": {
      "text/plain": [
       "(Mean(statistic=0.42, minmax=(0.28971848005976064, 0.5502815199402393)),\n",
       " Variance(statistic=0.2511340206185568, minmax=(0.17526846362768558, 0.3662601327946428)),\n",
       " Std_dev(statistic=0.4998428440976869, minmax=(0.4186507657077502, 0.6051942934253783)))"
      ]
     },
     "execution_count": 9,
     "metadata": {},
     "output_type": "execute_result"
    }
   ],
   "source": [
    "stats.bayes_mvs(coinflips, alpha=0.99)"
   ]
  },
  {
   "cell_type": "code",
   "execution_count": 10,
   "metadata": {},
   "outputs": [
    {
     "name": "stdout",
     "output_type": "stream",
     "text": [
      "Help on function mvsdist in module scipy.stats.morestats:\n",
      "\n",
      "mvsdist(data)\n",
      "    'Frozen' distributions for mean, variance, and standard deviation of data.\n",
      "    \n",
      "    Parameters\n",
      "    ----------\n",
      "    data : array_like\n",
      "        Input array. Converted to 1-D using ravel.\n",
      "        Requires 2 or more data-points.\n",
      "    \n",
      "    Returns\n",
      "    -------\n",
      "    mdist : \"frozen\" distribution object\n",
      "        Distribution object representing the mean of the data\n",
      "    vdist : \"frozen\" distribution object\n",
      "        Distribution object representing the variance of the data\n",
      "    sdist : \"frozen\" distribution object\n",
      "        Distribution object representing the standard deviation of the data\n",
      "    \n",
      "    See Also\n",
      "    --------\n",
      "    bayes_mvs\n",
      "    \n",
      "    Notes\n",
      "    -----\n",
      "    The return values from ``bayes_mvs(data)`` is equivalent to\n",
      "    ``tuple((x.mean(), x.interval(0.90)) for x in mvsdist(data))``.\n",
      "    \n",
      "    In other words, calling ``<dist>.mean()`` and ``<dist>.interval(0.90)``\n",
      "    on the three distribution objects returned from this function will give\n",
      "    the same results that are returned from `bayes_mvs`.\n",
      "    \n",
      "    References\n",
      "    ----------\n",
      "    T.E. Oliphant, \"A Bayesian perspective on estimating mean, variance, and\n",
      "    standard-deviation from data\", http://scholarsarchive.byu.edu/facpub/278,\n",
      "    2006.\n",
      "    \n",
      "    Examples\n",
      "    --------\n",
      "    >>> from scipy import stats\n",
      "    >>> data = [6, 9, 12, 7, 8, 8, 13]\n",
      "    >>> mean, var, std = stats.mvsdist(data)\n",
      "    \n",
      "    We now have frozen distribution objects \"mean\", \"var\" and \"std\" that we can\n",
      "    examine:\n",
      "    \n",
      "    >>> mean.mean()\n",
      "    9.0\n",
      "    >>> mean.interval(0.95)\n",
      "    (6.6120585482655692, 11.387941451734431)\n",
      "    >>> mean.std()\n",
      "    1.1952286093343936\n",
      "\n"
     ]
    }
   ],
   "source": [
    "help(stats.mvsdist)"
   ]
  },
  {
   "cell_type": "code",
   "execution_count": 11,
   "metadata": {},
   "outputs": [
    {
     "data": {
      "text/plain": [
       "<scipy.stats._distn_infrastructure.rv_frozen at 0x11433f080>"
      ]
     },
     "execution_count": 11,
     "metadata": {},
     "output_type": "execute_result"
    }
   ],
   "source": [
    "coinflips_mean_dist, _, _ = stats.mvsdist(coinflips)\n",
    "coinflips_mean_dist"
   ]
  },
  {
   "cell_type": "code",
   "execution_count": 12,
   "metadata": {},
   "outputs": [
    {
     "name": "stdout",
     "output_type": "stream",
     "text": [
      "Help on method rvs in module scipy.stats._distn_infrastructure:\n",
      "\n",
      "rvs(size=None, random_state=None) method of scipy.stats._distn_infrastructure.rv_frozen instance\n",
      "\n"
     ]
    }
   ],
   "source": [
    "help(coinflips_mean_dist.rvs)"
   ]
  },
  {
   "cell_type": "code",
   "execution_count": 13,
   "metadata": {},
   "outputs": [
    {
     "data": {
      "text/plain": [
       "0.42"
      ]
     },
     "execution_count": 13,
     "metadata": {},
     "output_type": "execute_result"
    }
   ],
   "source": [
    "coinflips_mean_dist.mean()"
   ]
  },
  {
   "cell_type": "code",
   "execution_count": 14,
   "metadata": {},
   "outputs": [
    {
     "data": {
      "text/html": [
       "<div>\n",
       "<style scoped>\n",
       "    .dataframe tbody tr th:only-of-type {\n",
       "        vertical-align: middle;\n",
       "    }\n",
       "\n",
       "    .dataframe tbody tr th {\n",
       "        vertical-align: top;\n",
       "    }\n",
       "\n",
       "    .dataframe thead th {\n",
       "        text-align: right;\n",
       "    }\n",
       "</style>\n",
       "<table border=\"1\" class=\"dataframe\">\n",
       "  <thead>\n",
       "    <tr style=\"text-align: right;\">\n",
       "      <th></th>\n",
       "      <th>0</th>\n",
       "    </tr>\n",
       "  </thead>\n",
       "  <tbody>\n",
       "    <tr>\n",
       "      <th>count</th>\n",
       "      <td>100.000000</td>\n",
       "    </tr>\n",
       "    <tr>\n",
       "      <th>mean</th>\n",
       "      <td>0.420000</td>\n",
       "    </tr>\n",
       "    <tr>\n",
       "      <th>std</th>\n",
       "      <td>0.496045</td>\n",
       "    </tr>\n",
       "    <tr>\n",
       "      <th>min</th>\n",
       "      <td>0.000000</td>\n",
       "    </tr>\n",
       "    <tr>\n",
       "      <th>25%</th>\n",
       "      <td>0.000000</td>\n",
       "    </tr>\n",
       "    <tr>\n",
       "      <th>50%</th>\n",
       "      <td>0.000000</td>\n",
       "    </tr>\n",
       "    <tr>\n",
       "      <th>75%</th>\n",
       "      <td>1.000000</td>\n",
       "    </tr>\n",
       "    <tr>\n",
       "      <th>max</th>\n",
       "      <td>1.000000</td>\n",
       "    </tr>\n",
       "  </tbody>\n",
       "</table>\n",
       "</div>"
      ],
      "text/plain": [
       "                0\n",
       "count  100.000000\n",
       "mean     0.420000\n",
       "std      0.496045\n",
       "min      0.000000\n",
       "25%      0.000000\n",
       "50%      0.000000\n",
       "75%      1.000000\n",
       "max      1.000000"
      ]
     },
     "execution_count": 14,
     "metadata": {},
     "output_type": "execute_result"
    }
   ],
   "source": [
    "import pandas as pd\n",
    "pd.DataFrame(coinflips).describe()"
   ]
  },
  {
   "cell_type": "code",
   "execution_count": 15,
   "metadata": {},
   "outputs": [
    {
     "data": {
      "text/plain": [
       "array([0.44229858, 0.44567454, 0.42904259, 0.41356929, 0.45754181,\n",
       "       0.35049373, 0.49272237, 0.47963143, 0.4291775 , 0.48700739,\n",
       "       0.48164483, 0.43523959, 0.48560073, 0.40734309, 0.38872874,\n",
       "       0.45200899, 0.40813419, 0.42500392, 0.49411444, 0.47431287,\n",
       "       0.32349995, 0.40781916, 0.52941533, 0.43286361, 0.41853727,\n",
       "       0.51106429, 0.4422225 , 0.50781021, 0.37950113, 0.46201825,\n",
       "       0.3950797 , 0.38367387, 0.49309518, 0.35589792, 0.40917912,\n",
       "       0.35129463, 0.4323053 , 0.46133848, 0.40073038, 0.40578273,\n",
       "       0.46907777, 0.45664889, 0.49794108, 0.45110985, 0.45816828,\n",
       "       0.42190117, 0.45541997, 0.41460826, 0.45837186, 0.41782169,\n",
       "       0.42671308, 0.40678137, 0.44181227, 0.40979974, 0.4208004 ,\n",
       "       0.42277843, 0.4679546 , 0.44283622, 0.37688834, 0.36361269,\n",
       "       0.41155512, 0.41637225, 0.38104537, 0.3944887 , 0.41696051,\n",
       "       0.50287168, 0.42456513, 0.3634533 , 0.42571509, 0.46549657,\n",
       "       0.38206085, 0.46211362, 0.36559548, 0.45696481, 0.33870364,\n",
       "       0.4473341 , 0.45034814, 0.40968799, 0.43725717, 0.47161502,\n",
       "       0.4491869 , 0.39236039, 0.37936772, 0.47375724, 0.36794933,\n",
       "       0.28505717, 0.47117559, 0.47569603, 0.39916999, 0.4965847 ,\n",
       "       0.41276328, 0.34072368, 0.35060276, 0.49211104, 0.43812428,\n",
       "       0.47984327, 0.50532318, 0.48709904, 0.38880541, 0.40471286])"
      ]
     },
     "execution_count": 15,
     "metadata": {},
     "output_type": "execute_result"
    }
   ],
   "source": [
    "coinflips_mean_dist.rvs(100)  # Bootstrapping! (or the atom of it)"
   ]
  },
  {
   "cell_type": "code",
   "execution_count": null,
   "metadata": {},
   "outputs": [],
   "source": []
  },
  {
   "cell_type": "markdown",
   "metadata": {
    "colab_type": "text",
    "id": "P-DzzRk5bf0z"
   },
   "source": [
    "## Assignment - Code it up!\n",
    "\n",
    "Most of the above was pure math - now write Python code to reproduce the results! This is purposefully open ended - you'll have to think about how you should represent probabilities and events. You can and should look things up, and as a stretch goal - refactor your code into helpful reusable functions!\n",
    "\n",
    "Specific goals/targets:\n",
    "\n",
    "1. Write a function `def prob_drunk_given_positive(prob_drunk_prior, prob_positive, prob_positive_drunk)` that reproduces the example from lecture, and use it to calculate and visualize a range of situations\n",
    "2. Explore `scipy.stats.bayes_mvs` - read its documentation, and experiment with it on data you've tested in other ways earlier this week\n",
    "3. Create a visualization comparing the results of a Bayesian approach to a traditional/frequentist approach\n",
    "4. In your own words, summarize the difference between Bayesian and Frequentist statistics\n",
    "\n",
    "If you're unsure where to start, check out [this blog post of Bayes theorem with Python](https://dataconomy.com/2015/02/introduction-to-bayes-theorem-with-python/) - you could and should create something similar!\n",
    "\n",
    "Stretch goals:\n",
    "\n",
    "- Apply a Bayesian technique to a problem you previously worked (in an assignment or project work) on from a frequentist (standard) perspective\n",
    "- Check out [PyMC3](https://docs.pymc.io/) (note this goes beyond hypothesis tests into modeling) - read the guides and work through some examples\n",
    "- Take PyMC3 further - see if you can build something with it!"
   ]
  },
  {
   "cell_type": "code",
   "execution_count": 16,
   "metadata": {
    "colab": {},
    "colab_type": "code",
    "id": "xpVhZyUnbf7o"
   },
   "outputs": [],
   "source": [
    "# TODO - code!\n",
    "def prob_drunk_given_positive(prob_drunk_prior, prob_positive, prob_positive_drunk):\n",
    "    '''\n",
    "    Bayes approach to probability of being drunk\n",
    "    while receiving a positive test\n",
    "    '''\n",
    "    \n",
    "    result = (prob_positive_drunk * prob_drunk_prior) / (prob_positive)\n",
    "    return result\n",
    "    "
   ]
  },
  {
   "cell_type": "code",
   "execution_count": 113,
   "metadata": {},
   "outputs": [
    {
     "data": {
      "text/plain": [
       "0.0125"
      ]
     },
     "execution_count": 113,
     "metadata": {},
     "output_type": "execute_result"
    }
   ],
   "source": [
    "from scipy import stats\n",
    "import numpy as np\n",
    "\n",
    "prob_drunk_prior = 1/1000\n",
    "prob_positive = 0.08\n",
    "prob_positive_drunk = 1\n",
    "\n",
    "d_given_pos = prob_drunk_given_positive(prob_drunk_prior, prob_positive, prob_positive_drunk)\n",
    "\n",
    "d_given_pos"
   ]
  },
  {
   "cell_type": "code",
   "execution_count": 22,
   "metadata": {},
   "outputs": [
    {
     "data": {
      "text/plain": [
       "array([0, 0, 0, 0, 0, 0, 0, 0, 0, 0, 0, 0, 0, 0, 0, 0, 0, 0, 1, 0, 0, 0,\n",
       "       0, 0, 0, 0, 0, 0, 0, 0, 0, 0, 0, 0, 0, 0, 0, 0, 0, 0, 0, 1, 0, 0,\n",
       "       0, 0, 0, 0, 0, 0, 0, 0, 0, 0, 0, 0, 0, 0, 0, 0, 0, 0, 0, 0, 0, 0,\n",
       "       0, 0, 0, 0, 0, 0, 0, 0, 0, 0, 0, 0, 0, 0, 0, 0, 0, 0, 0, 0, 0, 0,\n",
       "       0, 0, 0, 0, 0, 0, 0, 0, 0, 0, 0, 0, 0, 0, 0, 0, 0, 0, 0, 0, 0, 0,\n",
       "       0, 0, 0, 0, 0, 0, 0, 0, 0, 0, 0, 0, 0, 0, 0, 0, 0, 0, 0, 0, 0, 0,\n",
       "       0, 0, 0, 0, 0, 1, 0, 0, 0, 0, 0, 0, 0, 0, 0, 0, 0, 0, 0, 0, 0, 0,\n",
       "       0, 0, 0, 0, 0, 0, 0, 0, 0, 0, 0, 0, 0, 0, 0, 0, 0, 0, 0, 0, 0, 0,\n",
       "       0, 0, 0, 0, 0, 0, 0, 0, 0, 0, 0, 0, 0, 0, 0, 0, 0, 0, 0, 0, 0, 0,\n",
       "       0, 0, 0, 0, 0, 0, 0, 0, 0, 0, 0, 1, 0, 0, 0, 0, 0, 0, 0, 0, 1, 0,\n",
       "       0, 0, 0, 0, 0, 0, 0, 0, 0, 0, 0, 0, 0, 0, 0, 0, 0, 0, 0, 0, 0, 0,\n",
       "       0, 0, 0, 0, 0, 0, 0, 0, 0, 0, 0, 0, 0, 0, 0, 0, 0, 0, 0, 0, 0, 0,\n",
       "       0, 0, 0, 0, 0, 0, 0, 0, 0, 0, 0, 0, 0, 0, 0, 0, 0, 0, 0, 0, 0, 0,\n",
       "       0, 0, 0, 0, 0, 0, 0, 0, 0, 0, 0, 0, 0, 0, 0, 0, 0, 0, 0, 0, 0, 0,\n",
       "       0, 0, 0, 0, 0, 0, 0, 0, 0, 0, 0, 0, 0, 0, 0, 0, 0, 0, 0, 0, 0, 0,\n",
       "       0, 0, 0, 0, 0, 0, 0, 0, 0, 0, 0, 0, 0, 0, 0, 0, 0, 0, 0, 0, 0, 0,\n",
       "       0, 0, 0, 0, 0, 0, 0, 0, 0, 0, 0, 0, 0, 0, 0, 0, 0, 0, 0, 0, 0, 0,\n",
       "       0, 0, 0, 0, 0, 0, 0, 0, 0, 0, 0, 0, 0, 0, 0, 0, 1, 0, 0, 0, 0, 0,\n",
       "       0, 0, 0, 0, 0, 0, 0, 0, 0, 0, 0, 0, 0, 0, 0, 0, 0, 0, 0, 0, 0, 0,\n",
       "       0, 0, 0, 0, 0, 0, 0, 0, 0, 0, 0, 0, 0, 0, 0, 0, 0, 0, 0, 0, 0, 0,\n",
       "       0, 0, 0, 0, 0, 0, 0, 0, 0, 0, 0, 0, 0, 0, 0, 0, 0, 0, 0, 0, 0, 0,\n",
       "       0, 0, 0, 0, 0, 0, 0, 0, 0, 0, 0, 0, 0, 0, 0, 0, 0, 0, 0, 0, 0, 0,\n",
       "       0, 0, 0, 0, 0, 0, 0, 0, 0, 0, 0, 0, 0, 0, 0, 0, 0, 0, 0, 0, 0, 0,\n",
       "       1, 0, 0, 0, 0, 0, 0, 0, 0, 0, 0, 0, 0, 0, 0, 0, 0, 0, 0, 0, 0, 0,\n",
       "       0, 0, 0, 0, 0, 0, 0, 0, 0, 0, 0, 0, 0, 0, 0, 0, 0, 0, 0, 0, 0, 0,\n",
       "       0, 0, 0, 0, 0, 0, 0, 0, 0, 0, 0, 0, 0, 0, 0, 0, 0, 0, 0, 0, 0, 0,\n",
       "       0, 0, 0, 0, 0, 0, 1, 0, 0, 0, 0, 0, 0, 0, 0, 0, 0, 0, 0, 0, 0, 0,\n",
       "       0, 0, 0, 0, 0, 0, 0, 0, 0, 0, 0, 0, 0, 0, 0, 0, 0, 0, 0, 0, 0, 0,\n",
       "       0, 0, 0, 0, 0, 0, 0, 0, 0, 0, 0, 0, 0, 0, 0, 0, 0, 0, 0, 0, 0, 0,\n",
       "       0, 0, 0, 0, 0, 0, 0, 0, 0, 0, 0, 0, 0, 0, 0, 0, 0, 0, 0, 0, 0, 0,\n",
       "       0, 0, 0, 0, 0, 0, 0, 0, 0, 0, 0, 0, 0, 0, 0, 0, 0, 0, 0, 0, 0, 0,\n",
       "       0, 0, 0, 0, 0, 0, 0, 0, 0, 0, 0, 0, 0, 0, 0, 0, 0, 0, 0, 0, 0, 0,\n",
       "       0, 0, 0, 0, 0, 0, 0, 0, 0, 0, 0, 0, 0, 0, 0, 0, 0, 0, 0, 0, 0, 0,\n",
       "       0, 0, 0, 0, 0, 0, 0, 0, 0, 0, 0, 0, 0, 0, 0, 0, 0, 0, 0, 0, 0, 0,\n",
       "       0, 0, 0, 0, 0, 0, 0, 0, 0, 0, 0, 0, 0, 0, 0, 0, 0, 0, 0, 0, 0, 0,\n",
       "       0, 0, 0, 0, 0, 0, 0, 0, 0, 0, 0, 0, 0, 0, 0, 0, 0, 0, 0, 0, 0, 0,\n",
       "       0, 0, 0, 0, 0, 0, 0, 0, 1, 0, 0, 0, 0, 0, 0, 0, 0, 0, 0, 0, 0, 0,\n",
       "       0, 0, 0, 0, 0, 0, 0, 0, 0, 0, 0, 0, 0, 0, 0, 0, 0, 0, 0, 0, 0, 0,\n",
       "       0, 0, 0, 0, 0, 0, 0, 0, 0, 0, 0, 0, 0, 0, 0, 0, 0, 0, 0, 0, 0, 0,\n",
       "       0, 0, 0, 0, 0, 0, 0, 0, 0, 0, 0, 0, 0, 0, 0, 0, 0, 0, 0, 0, 0, 0,\n",
       "       0, 0, 1, 0, 0, 0, 0, 0, 0, 0, 0, 0, 0, 0, 0, 0, 0, 0, 1, 0, 0, 0,\n",
       "       0, 0, 0, 0, 0, 0, 0, 0, 0, 0, 0, 0, 0, 0, 0, 0, 0, 0, 0, 0, 0, 0,\n",
       "       0, 0, 0, 0, 0, 0, 0, 0, 0, 0, 1, 0, 0, 0, 0, 0, 0, 0, 0, 0, 0, 0,\n",
       "       0, 0, 0, 0, 0, 0, 0, 0, 0, 0, 0, 0, 0, 0, 0, 0, 0, 0, 0, 0, 0, 0,\n",
       "       0, 0, 0, 0, 0, 0, 0, 0, 0, 0, 0, 0, 0, 0, 0, 0, 0, 0, 0, 0, 0, 0,\n",
       "       0, 0, 0, 0, 0, 0, 0, 0, 0, 0])"
      ]
     },
     "execution_count": 22,
     "metadata": {},
     "output_type": "execute_result"
    }
   ],
   "source": [
    "#for 1000 times\n",
    "\n",
    "drunk_driving_1000 = np.random.binomial(n=1,p=0.0125,size=1000)\n",
    "drunk_driving_1000"
   ]
  },
  {
   "cell_type": "code",
   "execution_count": 23,
   "metadata": {},
   "outputs": [
    {
     "data": {
      "text/plain": [
       "(0.012, 0.0031093419061596957, 0.020890658093840303)"
      ]
     },
     "execution_count": 23,
     "metadata": {},
     "output_type": "execute_result"
    }
   ],
   "source": [
    "def confidence_interval(data, confidence=0.95):\n",
    "    \"\"\"\n",
    "    Takes data, returns (mean, lower bound, upper bound)\n",
    "    \"\"\"\n",
    "    n = len(data)\n",
    "    mean = sum(data) / n\n",
    "    data = np.array(data)\n",
    "    stderr = stats.sem(data)\n",
    "    interval = stderr * stats.t.ppf((1 + confidence) / 2., n - 1)\n",
    "    return (mean, mean - interval, mean + interval)\n",
    "\n",
    "confidence_interval(drunk_driving_1000, confidence=0.99)"
   ]
  },
  {
   "cell_type": "code",
   "execution_count": 96,
   "metadata": {},
   "outputs": [],
   "source": [
    "drunk_m, drunk_v, drunk_s = stats.bayes_mvs(drunk_driving_1000,alpha=0.99)"
   ]
  },
  {
   "cell_type": "code",
   "execution_count": 97,
   "metadata": {},
   "outputs": [
    {
     "data": {
      "text/plain": [
       "array([ 0.01862182,  0.01727401,  0.01510955,  0.01068126,  0.01391801,\n",
       "        0.01298932,  0.0151518 ,  0.01051582,  0.00796669,  0.01454316,\n",
       "        0.00591767,  0.01494616,  0.01358833,  0.00527855,  0.01135236,\n",
       "        0.01715319,  0.01174506,  0.01075479,  0.01195394,  0.01404117,\n",
       "        0.01208595,  0.00839068,  0.00979841,  0.01257175,  0.0163567 ,\n",
       "        0.0139817 ,  0.00806096,  0.00651076,  0.01443047,  0.01538534,\n",
       "        0.01320911,  0.01420411,  0.01203778,  0.0132334 ,  0.00702788,\n",
       "        0.00867219,  0.00869502,  0.0131423 ,  0.01140583,  0.0179113 ,\n",
       "        0.00701505,  0.01614781,  0.00938086,  0.00814349,  0.01653728,\n",
       "        0.00741946,  0.01814481,  0.01048788,  0.01083387,  0.00713988,\n",
       "        0.00927711,  0.00512621,  0.0184532 ,  0.01296969,  0.01222329,\n",
       "        0.01292188,  0.01146371,  0.01566577,  0.0131701 ,  0.01189969,\n",
       "        0.00937638,  0.00957692,  0.00933316,  0.0147812 ,  0.00588648,\n",
       "        0.00936234,  0.01104273,  0.01273309,  0.00874664,  0.0070192 ,\n",
       "        0.01573198,  0.01198052,  0.01010048,  0.01631766,  0.01395513,\n",
       "        0.016031  ,  0.0091338 ,  0.01200078,  0.0122615 ,  0.01102986,\n",
       "        0.01279909,  0.00905376,  0.01490279,  0.01047743,  0.01006018,\n",
       "        0.00536578,  0.0119833 ,  0.01772779,  0.00564377,  0.00884132,\n",
       "        0.00915369,  0.01059172,  0.00890992,  0.01336744,  0.01443169,\n",
       "        0.01126167,  0.01431485,  0.01033924,  0.01061787,  0.01046763,\n",
       "        0.01422312,  0.01348216,  0.01182558,  0.01270776,  0.00932468,\n",
       "        0.00779691,  0.0101512 ,  0.01051853,  0.01142737,  0.0196067 ,\n",
       "        0.00935058,  0.00709437,  0.00730661,  0.01396466,  0.00924282,\n",
       "        0.0119839 ,  0.00878269,  0.02000449,  0.01221808,  0.01524364,\n",
       "        0.01232438,  0.01102632,  0.01179545,  0.01334315,  0.01011069,\n",
       "        0.00964545,  0.01550561,  0.01347192,  0.00930654,  0.01221234,\n",
       "        0.00763442,  0.00656768,  0.01074369,  0.00964518,  0.01320657,\n",
       "        0.01084541,  0.00803609,  0.01248661,  0.01240218,  0.01464353,\n",
       "        0.00982923,  0.01415785,  0.01029759,  0.01368845,  0.01354739,\n",
       "        0.0140896 ,  0.00909829,  0.01999432,  0.01671857,  0.01487492,\n",
       "        0.01033958,  0.01245067,  0.0142764 ,  0.0148916 ,  0.01041037,\n",
       "        0.00969752,  0.01418784,  0.00932149,  0.01316181,  0.01586608,\n",
       "        0.01353787,  0.01721896,  0.01761928,  0.01615724,  0.00904577,\n",
       "        0.00653218,  0.01795708,  0.01180663,  0.00747083,  0.00886614,\n",
       "        0.01578524,  0.0162489 ,  0.01079304,  0.01401472,  0.01462789,\n",
       "        0.00754899,  0.01461456,  0.01021789,  0.01522513,  0.00999313,\n",
       "        0.00611977,  0.01122729,  0.01310592,  0.00736643,  0.01070995,\n",
       "        0.00301497,  0.01259709,  0.00655914,  0.00758045,  0.01299151,\n",
       "        0.0065124 ,  0.00733548,  0.01327925,  0.01113948,  0.01185879,\n",
       "        0.01673041,  0.01722356,  0.01498616,  0.00979768,  0.0125149 ,\n",
       "        0.01509214,  0.01309336,  0.00852006,  0.01460381,  0.01250681,\n",
       "        0.01123834,  0.01586749,  0.00767222,  0.00880748,  0.01723991,\n",
       "        0.01176324,  0.01385316,  0.01258281,  0.01504275,  0.01017544,\n",
       "        0.01131287,  0.01063557,  0.00789454,  0.00893792,  0.01258169,\n",
       "        0.00420353,  0.01829996,  0.01155347,  0.00912957,  0.01364408,\n",
       "        0.01389463,  0.01195221,  0.01976112,  0.00964398,  0.01050763,\n",
       "        0.01400842,  0.0128474 ,  0.01096018,  0.0125667 ,  0.01074959,\n",
       "        0.01512413,  0.01663146,  0.01361576,  0.01412852,  0.01374444,\n",
       "        0.0135388 ,  0.00801227,  0.01282654,  0.012576  ,  0.01753575,\n",
       "        0.00803142,  0.01322615,  0.00629703,  0.00668952,  0.01313332,\n",
       "        0.01142729,  0.00676892,  0.01206828,  0.01274378,  0.01021756,\n",
       "        0.01484292,  0.0080312 ,  0.01102585,  0.01419496,  0.01031818,\n",
       "        0.01322371,  0.01370184,  0.00486411,  0.00896504,  0.00904065,\n",
       "        0.01174403,  0.01695402,  0.01151036,  0.01014687,  0.01884849,\n",
       "        0.01274017,  0.01108938,  0.0151008 ,  0.01600996,  0.01285239,\n",
       "        0.01101729,  0.01581406,  0.01109363,  0.01528814,  0.01081581,\n",
       "        0.01494554,  0.00733562,  0.00639699,  0.00746083,  0.01232609,\n",
       "        0.0077193 ,  0.01468084,  0.01522241,  0.0068587 ,  0.01246486,\n",
       "        0.01674073,  0.00277375,  0.0087986 ,  0.00963198,  0.01538823,\n",
       "        0.01421153,  0.01219944,  0.0097018 ,  0.00954473,  0.01541396,\n",
       "        0.00603073,  0.01095226,  0.01278136,  0.01384522,  0.01831246,\n",
       "        0.00750289,  0.01054516,  0.01219889,  0.01312576,  0.00720629,\n",
       "        0.01524021,  0.01668183,  0.02059739,  0.01457021,  0.00970529,\n",
       "        0.00720211,  0.01607941,  0.02277853,  0.01502639,  0.01556634,\n",
       "        0.01623292,  0.01536383,  0.01327337,  0.0153518 ,  0.00914382,\n",
       "        0.01202693,  0.01373619,  0.01028161,  0.01533841,  0.00462436,\n",
       "        0.01258267,  0.01642818,  0.01261253,  0.01760359,  0.00769177,\n",
       "        0.01639441,  0.01135616,  0.01639364,  0.00952183,  0.01164086,\n",
       "        0.00737124,  0.01602524,  0.01276772,  0.01386481,  0.01208562,\n",
       "        0.01052974,  0.01676746,  0.01424463,  0.0055684 ,  0.01000518,\n",
       "        0.01215625,  0.02110596,  0.0140375 ,  0.00113168,  0.01194634,\n",
       "        0.0092958 ,  0.01447097,  0.01563574,  0.01388764,  0.0120352 ,\n",
       "        0.01513163,  0.01511581,  0.01663807,  0.01112859,  0.01490216,\n",
       "        0.01342683,  0.018843  ,  0.01809309,  0.00646929,  0.01093959,\n",
       "        0.01180713,  0.00680753,  0.00762656,  0.01038082,  0.01092944,\n",
       "        0.00348825,  0.00445475,  0.01314475,  0.01532699,  0.01128929,\n",
       "        0.01138128,  0.01030949,  0.01332428,  0.01980328,  0.00904096,\n",
       "        0.01005276,  0.01584602,  0.00783162,  0.00773759,  0.0055689 ,\n",
       "        0.01602416,  0.01264191,  0.01199566,  0.01165535,  0.01256483,\n",
       "        0.00895604,  0.01236256,  0.01900879,  0.00779138,  0.01243967,\n",
       "        0.01283997,  0.01259011,  0.00856954,  0.01069517,  0.01215541,\n",
       "        0.00372512,  0.01323839,  0.00998463,  0.00482508,  0.00571658,\n",
       "        0.00897108,  0.00998045,  0.01408135,  0.01121017,  0.01110464,\n",
       "        0.01322075,  0.01571683,  0.00865935,  0.01660469,  0.01334381,\n",
       "        0.01535689,  0.0121847 ,  0.01161762,  0.00881643,  0.01382072,\n",
       "        0.01108343,  0.01053558,  0.0145626 ,  0.01224658,  0.01417175,\n",
       "        0.01601591,  0.01403648,  0.01048078,  0.00506747,  0.01396611,\n",
       "        0.01432482,  0.00478519,  0.00827427,  0.01081635,  0.01820692,\n",
       "        0.01266162,  0.00824656,  0.00938566,  0.00922093,  0.01569058,\n",
       "        0.01741264,  0.00962108,  0.01771702,  0.01016531,  0.01469995,\n",
       "        0.01444125,  0.01059966,  0.01178457,  0.01333866,  0.01274745,\n",
       "        0.01522689,  0.00911525,  0.00837067,  0.01502755,  0.01508352,\n",
       "        0.01551399,  0.01397969,  0.00789243,  0.00662378,  0.01204992,\n",
       "        0.01295645,  0.0093103 ,  0.01046658,  0.01221525,  0.01075352,\n",
       "        0.00819851,  0.0139989 ,  0.01812636,  0.00580742,  0.0170223 ,\n",
       "        0.00882197,  0.00987111,  0.01747367,  0.01273885,  0.01172464,\n",
       "        0.00813342,  0.00992217,  0.0098409 ,  0.00749165,  0.00870317,\n",
       "        0.00978839,  0.01653727,  0.01079732,  0.00968962,  0.01136663,\n",
       "        0.01431848,  0.01643809,  0.01529276,  0.00822497,  0.01727296,\n",
       "        0.01280023,  0.00949326,  0.0133023 ,  0.01585491,  0.0111368 ,\n",
       "        0.01103723,  0.0148335 ,  0.01064954,  0.00677074,  0.00497143,\n",
       "        0.00261894,  0.01052574,  0.01839784,  0.01256338,  0.01238207,\n",
       "        0.01397862,  0.01591445,  0.01841355,  0.01736076,  0.01128104,\n",
       "        0.01739691,  0.01095485,  0.01088452,  0.01151279,  0.01635475,\n",
       "        0.0180871 ,  0.00908638,  0.01420867,  0.01285231,  0.01145994,\n",
       "        0.01937295,  0.01406041,  0.01709219,  0.01187815,  0.01248911,\n",
       "        0.01154453,  0.01227765,  0.01380249,  0.00725503,  0.01088578,\n",
       "        0.01529982,  0.01568895,  0.01816185,  0.00966586,  0.00969516,\n",
       "        0.01225865,  0.01262077,  0.01165966,  0.01297613,  0.01031344,\n",
       "        0.01218168,  0.01751885,  0.00825931,  0.01344805,  0.01171425,\n",
       "        0.01438399,  0.01535929,  0.02256334,  0.0161598 ,  0.00462543,\n",
       "        0.01261938,  0.01063604,  0.01136293,  0.00809199,  0.01241574,\n",
       "        0.01603401,  0.01476376,  0.00942664,  0.00902358,  0.00811557,\n",
       "        0.01601158,  0.00879292,  0.01637338,  0.01215597,  0.0063449 ,\n",
       "        0.00587439,  0.01626849,  0.01419111,  0.00566413,  0.01714317,\n",
       "        0.00904196,  0.01360625,  0.01330779,  0.01189351,  0.01132684,\n",
       "        0.00805093,  0.01297982,  0.01794701,  0.01352988,  0.00980453,\n",
       "        0.01282066,  0.01197912,  0.01559114,  0.01044275,  0.01029492,\n",
       "        0.0145486 ,  0.00671903,  0.01943353,  0.01429033,  0.00952314,\n",
       "        0.01504462,  0.01369929,  0.01058746,  0.01057764,  0.01828702,\n",
       "        0.01127021,  0.01505091,  0.01528704,  0.01074927,  0.01228802,\n",
       "        0.008705  ,  0.01026206,  0.00976811,  0.00952375,  0.01513827,\n",
       "        0.01155924,  0.01650032,  0.01282872,  0.01662626,  0.00847127,\n",
       "        0.01417797,  0.0148152 ,  0.00794659,  0.01385807,  0.01328039,\n",
       "        0.01086613,  0.009191  ,  0.01331987,  0.01242751,  0.01318179,\n",
       "        0.01300796,  0.00919569,  0.01635392,  0.00932775,  0.01179274,\n",
       "        0.01446022,  0.01474657,  0.01116269,  0.01322214,  0.01552362,\n",
       "        0.01043376,  0.01049872,  0.01121977,  0.0090446 ,  0.00823366,\n",
       "        0.01125061,  0.01207279,  0.01542516,  0.01449987,  0.00665921,\n",
       "        0.0155929 ,  0.01249595,  0.01170765,  0.00944478,  0.01943621,\n",
       "        0.01558135,  0.0109182 ,  0.01062111,  0.00903487,  0.01416212,\n",
       "        0.00722866,  0.01413062,  0.01094937,  0.00631996,  0.00562204,\n",
       "        0.01406575,  0.01210845,  0.01410585,  0.0154269 ,  0.01209378,\n",
       "        0.01405646,  0.00884955,  0.00903885,  0.00889153,  0.01210934,\n",
       "        0.01653861,  0.00963617,  0.01010876,  0.00955657,  0.01193784,\n",
       "        0.01747516,  0.00826637,  0.01613024,  0.01598705,  0.01103073,\n",
       "        0.01121088,  0.01447048,  0.0155375 ,  0.01037789,  0.0056815 ,\n",
       "        0.01633741,  0.00610026,  0.00522526,  0.01053465,  0.00950864,\n",
       "        0.01341492,  0.0138257 ,  0.01206109,  0.01305135,  0.01186395,\n",
       "        0.01904448,  0.01442035,  0.00854541,  0.0155233 ,  0.01149592,\n",
       "        0.01328885,  0.01280627,  0.0049483 ,  0.01747443,  0.01572042,\n",
       "        0.01125241,  0.01884875,  0.01650301,  0.00644033,  0.00725301,\n",
       "        0.00892638,  0.01044218,  0.00978529,  0.00703593,  0.00734762,\n",
       "        0.01579821,  0.01253662,  0.01170944,  0.00705976,  0.01060702,\n",
       "        0.01342817,  0.01123347,  0.01151266,  0.01115462,  0.01539772,\n",
       "        0.0104515 ,  0.00995731,  0.0145829 ,  0.01628337,  0.0109975 ,\n",
       "        0.00919034,  0.01031914,  0.00745586,  0.01646286,  0.01332415,\n",
       "        0.01797821,  0.01232552,  0.01064556,  0.01066601,  0.01012268,\n",
       "        0.01447361,  0.01614618,  0.01112156,  0.01349492,  0.01345609,\n",
       "        0.00864869,  0.01747487,  0.01283585,  0.01748438,  0.01178455,\n",
       "        0.01028218,  0.01103994,  0.0092929 ,  0.01336615,  0.01406886,\n",
       "        0.01058844,  0.00934402,  0.00590177,  0.00782774,  0.01607771,\n",
       "        0.00970198,  0.01210189,  0.01524682,  0.01175239,  0.01155909,\n",
       "        0.00704395,  0.01322397,  0.01040494,  0.01907493,  0.0117542 ,\n",
       "        0.01267233,  0.01853424,  0.00886129,  0.01964748,  0.01658831,\n",
       "        0.00978122,  0.00916199,  0.01556742,  0.0094461 ,  0.00708012,\n",
       "        0.00954233,  0.0131189 ,  0.00941654,  0.01335415,  0.00812093,\n",
       "        0.01265398,  0.016264  ,  0.0136956 ,  0.01207242,  0.01204121,\n",
       "        0.01276232,  0.01110547,  0.01557191,  0.01215458,  0.00898269,\n",
       "        0.01586317,  0.01182441,  0.00626936,  0.01237061,  0.01051107,\n",
       "        0.01143988,  0.00943889,  0.00641598,  0.009738  ,  0.01299584,\n",
       "        0.01352948,  0.01368398,  0.00697025,  0.01377738,  0.01080076,\n",
       "        0.00656045,  0.00693001,  0.01056938,  0.00863435,  0.00911965,\n",
       "        0.00931276,  0.01396951,  0.01070706,  0.01315832,  0.01224415,\n",
       "        0.00865478,  0.01156997,  0.01075383,  0.012068  ,  0.00838842,\n",
       "        0.01257513,  0.01174069,  0.01365318,  0.01341133,  0.0105329 ,\n",
       "        0.01582322,  0.01233233,  0.01515329,  0.01743821,  0.00731458,\n",
       "        0.01374919,  0.00956852,  0.00871999,  0.01030974,  0.00902038,\n",
       "        0.00589853,  0.01389478,  0.00669331,  0.01298773,  0.01237267,\n",
       "        0.00956175,  0.01412763,  0.01300589,  0.01213856,  0.00736451,\n",
       "        0.01543219,  0.01095171,  0.01220119,  0.01069945,  0.0079031 ,\n",
       "       -0.00021183,  0.00722471,  0.01811567,  0.01100732,  0.00670283,\n",
       "        0.01575455,  0.0113379 ,  0.01026748,  0.01603341,  0.0129374 ,\n",
       "        0.01123988,  0.01283814,  0.00854278,  0.01253908,  0.0111878 ,\n",
       "        0.01367377,  0.00709854,  0.01391917,  0.01428807,  0.01249996,\n",
       "        0.01135839,  0.01491709,  0.00801284,  0.01142733,  0.02030811,\n",
       "        0.01210425,  0.01086604,  0.01211621,  0.01078263,  0.01040264,\n",
       "        0.01645685,  0.01450796,  0.0099425 ,  0.00607484,  0.00965923,\n",
       "        0.01526644,  0.00920748,  0.01481601,  0.00827051,  0.01219749,\n",
       "        0.00943855,  0.01035559,  0.01955912,  0.01626878,  0.01610066,\n",
       "        0.01430989,  0.00422369,  0.0159625 ,  0.00656684,  0.01937927,\n",
       "        0.00841787,  0.00664029,  0.01848594,  0.01150469,  0.00824662,\n",
       "        0.01128173,  0.01169252,  0.01475502,  0.0107135 ,  0.01482047,\n",
       "        0.01557611,  0.01045249,  0.01694668,  0.01275524,  0.01207049,\n",
       "        0.01306615,  0.00639386,  0.0202133 ,  0.00929643,  0.01776014,\n",
       "        0.01482446,  0.01540263,  0.00966574,  0.01322627,  0.01213972,\n",
       "        0.01004811,  0.01336917,  0.015902  ,  0.01310469,  0.01287327,\n",
       "        0.01451224,  0.01136004,  0.01682677,  0.01321364,  0.01558855,\n",
       "        0.01006213,  0.0214937 ,  0.01284743,  0.01265939,  0.01250907,\n",
       "        0.01959105,  0.01046378,  0.01119624,  0.01313262,  0.01470286,\n",
       "        0.00974142,  0.01432012,  0.012096  ,  0.01275724,  0.01453447,\n",
       "        0.00818022,  0.0042115 ,  0.01095349,  0.01383669,  0.01828467,\n",
       "        0.01261414,  0.01682013,  0.00831604,  0.00811924,  0.01548994,\n",
       "        0.01015503,  0.01087847,  0.01698696,  0.00724331,  0.01059468,\n",
       "        0.0129252 ,  0.01347267,  0.00925609,  0.01044323,  0.0158744 ,\n",
       "        0.01889576,  0.01236622,  0.01621907,  0.00779975,  0.01226553,\n",
       "        0.00872279,  0.01116659,  0.01173201,  0.01687797,  0.0131446 ,\n",
       "        0.00851732,  0.01574628,  0.01124871,  0.00996077,  0.01325095,\n",
       "        0.01050093,  0.00932247,  0.01528892,  0.01082353,  0.00805985,\n",
       "        0.01145499,  0.01610259,  0.01292964,  0.00754548,  0.01760102])"
      ]
     },
     "execution_count": 97,
     "metadata": {},
     "output_type": "execute_result"
    }
   ],
   "source": [
    "drunk_driving_1000_mean_dist,_,_ = stats.mvsdist(drunk_driving_1000)\n",
    "bootstrapped_drunk_driving_1000 = drunk_driving_1000_mean_dist.rvs(1000)\n",
    "bootstrapped_drunk_driving_1000"
   ]
  },
  {
   "cell_type": "code",
   "execution_count": 118,
   "metadata": {},
   "outputs": [
    {
     "data": {
      "image/png": "[encoded data removed]",
      "text/plain": [
       "<Figure size 432x288 with 1 Axes>"
      ]
     },
     "metadata": {},
     "output_type": "display_data"
    }
   ],
   "source": [
    "import seaborn as sns\n",
    "import numpy as np\n",
    "\n",
    "%matplotlib inline\n",
    "data = drunk_driving_1000\n",
    "boot_data = bootstrapped_drunk_driving_1000\n",
    "params=np.linspace(0,1,1000)\n",
    "\n",
    "drunk_prior_array = np.array([np.product(stats.bernoulli.pmf(data, p)) for p in params])\n",
    "p_drunk_prior = drunk_prior_array  / np.sum(drunk_prior_array)\n",
    "plt.plot(params, p_drunk_prior)\n",
    "sns.despine()\n",
    "\n",
    "#well i guess that's one way to do it"
   ]
  },
  {
   "cell_type": "markdown",
   "metadata": {},
   "source": [
    "$Posterior = \\dfrac{likelihood * prior}{\\sum_{\\theta} likelihood * prior}$"
   ]
  },
  {
   "cell_type": "markdown",
   "metadata": {},
   "source": [
    "$P(A|B) = \\dfrac{P(A,B)}{P(B)}$  \n",
    "\n",
    "the probability of seeing A given B is the probability of seeing them both divided by the probability of B.\n",
    "\n",
    "$P(B|A) = \\dfrac{P(A,B)}{P(A)}$ \n",
    "\n",
    "Or in English, the probability of seeing B given A is the probability of seeing them both divided by the probability of A\n",
    "\n",
    "$P(A|B)*P(B) = P(B|A)*P(A)$\n",
    "\n",
    "Which implies:\n",
    "\n",
    "$P(A|B) = \\dfrac{P(B|A)*P(A)}{P(B)}$"
   ]
  },
  {
   "cell_type": "code",
   "execution_count": 126,
   "metadata": {},
   "outputs": [],
   "source": [
    "## graphing the bayes distributions? and posterior\n",
    "## in our case P(A) = prob_positive\n",
    "## and P(B) = prob_drunk_prior\n",
    "## and so P(B|A) = prob_positive_drunk\n",
    "\n",
    "def plot_bayes(n_params=1000, true_p=0.064, prior_p=0.0125, n_prior=1000):\n",
    "    params = np.linspace(0, 1, n_params)\n",
    "    sample = np.random.binomial(n=1, p=true_p, size=n_prior)\n",
    "    likelihood = np.array([np.product(stats.bernoulli.pmf(sample, p)) for p in params])\n",
    "    #likelihood = likelihood / np.sum(likelihood)\n",
    "    prior_sample = np.random.binomial(n=1, p=prior_p, size=n_prior)\n",
    "    prior = np.array([np.product(stats.bernoulli.pmf(prior_sample, p)) for p in params])\n",
    "    prior = prior / np.sum(prior)\n",
    "    posterior = [prior[i] * likelihood[i] for i in range(prior.shape[0])]\n",
    "    posterior = posterior / np.sum(posterior)\n",
    "     \n",
    "    fig, axes = plt.subplots(3, 1, sharex=True, figsize=(8,8))\n",
    "    axes[0].plot(params, likelihood)\n",
    "    axes[0].set_title(\"Sampling Distribution\")\n",
    "    axes[1].plot(params, prior)\n",
    "    axes[1].set_title(\"Prior Distribution\")\n",
    "    axes[2].plot(params, posterior)\n",
    "    axes[2].set_title(\"Posterior Distribution\")\n",
    "    sns.despine()\n",
    "    plt.tight_layout();\n",
    "     \n",
    "    return posterior\n",
    "\n"
   ]
  },
  {
   "cell_type": "code",
   "execution_count": 129,
   "metadata": {},
   "outputs": [
    {
     "data": {
      "image/png": "[encoded data removed]",
      "text/plain": [
       "<Figure size 576x576 with 3 Axes>"
      ]
     },
     "metadata": {},
     "output_type": "display_data"
    }
   ],
   "source": [
    "plot_bayes(n_params=1000, true_p=0.064, prior_p=0.0125, n_prior=1000);"
   ]
  },
  {
   "cell_type": "markdown",
   "metadata": {},
   "source": [
    "From my understanding of Bayesian and Frequentist approaches, the differences between the two can be visualized with how each approach solves a particular problem. For instance, in a Frequentist approach, there is no inference of prior knowledge, and is strictly conditional based on whatever information is present in that instance to solve a problem. And a Bayesian approach would infer prior knowledge and apply that prior knowledge with whatever the problem may be, and use said knowledge as guidance to solve the problem with a differenc "
   ]
  },
  {
   "cell_type": "code",
   "execution_count": 49,
   "metadata": {},
   "outputs": [],
   "source": [
    "??stats.bayes_mvs"
   ]
  },
  {
   "cell_type": "code",
   "execution_count": 56,
   "metadata": {},
   "outputs": [
    {
     "data": {
      "text/html": [
       "<div>\n",
       "<style scoped>\n",
       "    .dataframe tbody tr th:only-of-type {\n",
       "        vertical-align: middle;\n",
       "    }\n",
       "\n",
       "    .dataframe tbody tr th {\n",
       "        vertical-align: top;\n",
       "    }\n",
       "\n",
       "    .dataframe thead th {\n",
       "        text-align: right;\n",
       "    }\n",
       "</style>\n",
       "<table border=\"1\" class=\"dataframe\">\n",
       "  <thead>\n",
       "    <tr style=\"text-align: right;\">\n",
       "      <th></th>\n",
       "      <th>republican</th>\n",
       "      <th>n</th>\n",
       "      <th>y</th>\n",
       "      <th>n.1</th>\n",
       "      <th>y.1</th>\n",
       "      <th>y.2</th>\n",
       "      <th>y.3</th>\n",
       "      <th>n.2</th>\n",
       "      <th>n.3</th>\n",
       "      <th>n.4</th>\n",
       "      <th>y.4</th>\n",
       "      <th>?</th>\n",
       "      <th>y.5</th>\n",
       "      <th>y.6</th>\n",
       "      <th>y.7</th>\n",
       "      <th>n.5</th>\n",
       "      <th>y.8</th>\n",
       "    </tr>\n",
       "  </thead>\n",
       "  <tbody>\n",
       "    <tr>\n",
       "      <th>0</th>\n",
       "      <td>republican</td>\n",
       "      <td>n</td>\n",
       "      <td>y</td>\n",
       "      <td>n</td>\n",
       "      <td>y</td>\n",
       "      <td>y</td>\n",
       "      <td>y</td>\n",
       "      <td>n</td>\n",
       "      <td>n</td>\n",
       "      <td>n</td>\n",
       "      <td>n</td>\n",
       "      <td>n</td>\n",
       "      <td>y</td>\n",
       "      <td>y</td>\n",
       "      <td>y</td>\n",
       "      <td>n</td>\n",
       "      <td>?</td>\n",
       "    </tr>\n",
       "    <tr>\n",
       "      <th>1</th>\n",
       "      <td>democrat</td>\n",
       "      <td>?</td>\n",
       "      <td>y</td>\n",
       "      <td>y</td>\n",
       "      <td>?</td>\n",
       "      <td>y</td>\n",
       "      <td>y</td>\n",
       "      <td>n</td>\n",
       "      <td>n</td>\n",
       "      <td>n</td>\n",
       "      <td>n</td>\n",
       "      <td>y</td>\n",
       "      <td>n</td>\n",
       "      <td>y</td>\n",
       "      <td>y</td>\n",
       "      <td>n</td>\n",
       "      <td>n</td>\n",
       "    </tr>\n",
       "    <tr>\n",
       "      <th>2</th>\n",
       "      <td>democrat</td>\n",
       "      <td>n</td>\n",
       "      <td>y</td>\n",
       "      <td>y</td>\n",
       "      <td>n</td>\n",
       "      <td>?</td>\n",
       "      <td>y</td>\n",
       "      <td>n</td>\n",
       "      <td>n</td>\n",
       "      <td>n</td>\n",
       "      <td>n</td>\n",
       "      <td>y</td>\n",
       "      <td>n</td>\n",
       "      <td>y</td>\n",
       "      <td>n</td>\n",
       "      <td>n</td>\n",
       "      <td>y</td>\n",
       "    </tr>\n",
       "    <tr>\n",
       "      <th>3</th>\n",
       "      <td>democrat</td>\n",
       "      <td>y</td>\n",
       "      <td>y</td>\n",
       "      <td>y</td>\n",
       "      <td>n</td>\n",
       "      <td>y</td>\n",
       "      <td>y</td>\n",
       "      <td>n</td>\n",
       "      <td>n</td>\n",
       "      <td>n</td>\n",
       "      <td>n</td>\n",
       "      <td>y</td>\n",
       "      <td>?</td>\n",
       "      <td>y</td>\n",
       "      <td>y</td>\n",
       "      <td>y</td>\n",
       "      <td>y</td>\n",
       "    </tr>\n",
       "    <tr>\n",
       "      <th>4</th>\n",
       "      <td>democrat</td>\n",
       "      <td>n</td>\n",
       "      <td>y</td>\n",
       "      <td>y</td>\n",
       "      <td>n</td>\n",
       "      <td>y</td>\n",
       "      <td>y</td>\n",
       "      <td>n</td>\n",
       "      <td>n</td>\n",
       "      <td>n</td>\n",
       "      <td>n</td>\n",
       "      <td>n</td>\n",
       "      <td>n</td>\n",
       "      <td>y</td>\n",
       "      <td>y</td>\n",
       "      <td>y</td>\n",
       "      <td>y</td>\n",
       "    </tr>\n",
       "  </tbody>\n",
       "</table>\n",
       "</div>"
      ],
      "text/plain": [
       "   republican  n  y n.1 y.1 y.2 y.3 n.2 n.3 n.4 y.4  ? y.5 y.6 y.7 n.5 y.8\n",
       "0  republican  n  y   n   y   y   y   n   n   n   n  n   y   y   y   n   ?\n",
       "1    democrat  ?  y   y   ?   y   y   n   n   n   n  y   n   y   y   n   n\n",
       "2    democrat  n  y   y   n   ?   y   n   n   n   n  y   n   y   n   n   y\n",
       "3    democrat  y  y   y   n   y   y   n   n   n   n  y   ?   y   y   y   y\n",
       "4    democrat  n  y   y   n   y   y   n   n   n   n  n   n   y   y   y   y"
      ]
     },
     "execution_count": 56,
     "metadata": {},
     "output_type": "execute_result"
    }
   ],
   "source": [
    "url = 'https://archive.ics.uci.edu/ml/machine-learning-databases/voting-records/house-votes-84.data'\n",
    "\n",
    "df = pd.read_csv(url)\n",
    "df.head()"
   ]
  },
  {
   "cell_type": "code",
   "execution_count": 57,
   "metadata": {},
   "outputs": [],
   "source": [
    "df = df.rename(columns={\n",
    "    'republican': 'political_status',\n",
    "    'n': 'handicapped_infants',\n",
    "    'y': 'water_project_cost_sharing',\n",
    "    'n.1': 'adoption_of_the_budget_resolution',\n",
    "    'y.1': 'physician_fee_freeze',\n",
    "    'y.2': 'el_salvador_aid',\n",
    "    'y.3': 'religious_groups_in_schools',\n",
    "    'n.2': 'anti_satellite_test_ban',\n",
    "    'n.3': 'aid_to_nicaraguan_contras',\n",
    "    'n.4': 'mx_missile',\n",
    "    'y.4': 'immigration',\n",
    "    '?': 'synfuels_corporation_cutback',\n",
    "    'y.5': 'education_spending', \n",
    "    'y.6': 'superfund_right_to_sue',\n",
    "    'y.7': 'crime',\n",
    "    'n.5': 'duty_free_exports',\n",
    "    'y.8': 'export_administration_act_south_africa'\n",
    "})"
   ]
  },
  {
   "cell_type": "code",
   "execution_count": 58,
   "metadata": {},
   "outputs": [
    {
     "data": {
      "text/html": [
       "<div>\n",
       "<style scoped>\n",
       "    .dataframe tbody tr th:only-of-type {\n",
       "        vertical-align: middle;\n",
       "    }\n",
       "\n",
       "    .dataframe tbody tr th {\n",
       "        vertical-align: top;\n",
       "    }\n",
       "\n",
       "    .dataframe thead th {\n",
       "        text-align: right;\n",
       "    }\n",
       "</style>\n",
       "<table border=\"1\" class=\"dataframe\">\n",
       "  <thead>\n",
       "    <tr style=\"text-align: right;\">\n",
       "      <th></th>\n",
       "      <th>political_status</th>\n",
       "      <th>handicapped_infants</th>\n",
       "      <th>water_project_cost_sharing</th>\n",
       "      <th>adoption_of_the_budget_resolution</th>\n",
       "      <th>physician_fee_freeze</th>\n",
       "      <th>el_salvador_aid</th>\n",
       "      <th>religious_groups_in_schools</th>\n",
       "      <th>anti_satellite_test_ban</th>\n",
       "      <th>aid_to_nicaraguan_contras</th>\n",
       "      <th>mx_missile</th>\n",
       "      <th>immigration</th>\n",
       "      <th>synfuels_corporation_cutback</th>\n",
       "      <th>education_spending</th>\n",
       "      <th>superfund_right_to_sue</th>\n",
       "      <th>crime</th>\n",
       "      <th>duty_free_exports</th>\n",
       "      <th>export_administration_act_south_africa</th>\n",
       "    </tr>\n",
       "  </thead>\n",
       "  <tbody>\n",
       "    <tr>\n",
       "      <th>0</th>\n",
       "      <td>0</td>\n",
       "      <td>0.0</td>\n",
       "      <td>1.0</td>\n",
       "      <td>0.0</td>\n",
       "      <td>1.0</td>\n",
       "      <td>1.0</td>\n",
       "      <td>1.0</td>\n",
       "      <td>0.0</td>\n",
       "      <td>0.0</td>\n",
       "      <td>0.0</td>\n",
       "      <td>0.0</td>\n",
       "      <td>0.0</td>\n",
       "      <td>1.0</td>\n",
       "      <td>1.0</td>\n",
       "      <td>1.0</td>\n",
       "      <td>0.0</td>\n",
       "      <td>0.5</td>\n",
       "    </tr>\n",
       "    <tr>\n",
       "      <th>1</th>\n",
       "      <td>1</td>\n",
       "      <td>0.5</td>\n",
       "      <td>1.0</td>\n",
       "      <td>1.0</td>\n",
       "      <td>0.5</td>\n",
       "      <td>1.0</td>\n",
       "      <td>1.0</td>\n",
       "      <td>0.0</td>\n",
       "      <td>0.0</td>\n",
       "      <td>0.0</td>\n",
       "      <td>0.0</td>\n",
       "      <td>1.0</td>\n",
       "      <td>0.0</td>\n",
       "      <td>1.0</td>\n",
       "      <td>1.0</td>\n",
       "      <td>0.0</td>\n",
       "      <td>0.0</td>\n",
       "    </tr>\n",
       "    <tr>\n",
       "      <th>2</th>\n",
       "      <td>1</td>\n",
       "      <td>0.0</td>\n",
       "      <td>1.0</td>\n",
       "      <td>1.0</td>\n",
       "      <td>0.0</td>\n",
       "      <td>0.5</td>\n",
       "      <td>1.0</td>\n",
       "      <td>0.0</td>\n",
       "      <td>0.0</td>\n",
       "      <td>0.0</td>\n",
       "      <td>0.0</td>\n",
       "      <td>1.0</td>\n",
       "      <td>0.0</td>\n",
       "      <td>1.0</td>\n",
       "      <td>0.0</td>\n",
       "      <td>0.0</td>\n",
       "      <td>1.0</td>\n",
       "    </tr>\n",
       "    <tr>\n",
       "      <th>3</th>\n",
       "      <td>1</td>\n",
       "      <td>1.0</td>\n",
       "      <td>1.0</td>\n",
       "      <td>1.0</td>\n",
       "      <td>0.0</td>\n",
       "      <td>1.0</td>\n",
       "      <td>1.0</td>\n",
       "      <td>0.0</td>\n",
       "      <td>0.0</td>\n",
       "      <td>0.0</td>\n",
       "      <td>0.0</td>\n",
       "      <td>1.0</td>\n",
       "      <td>0.5</td>\n",
       "      <td>1.0</td>\n",
       "      <td>1.0</td>\n",
       "      <td>1.0</td>\n",
       "      <td>1.0</td>\n",
       "    </tr>\n",
       "    <tr>\n",
       "      <th>4</th>\n",
       "      <td>1</td>\n",
       "      <td>0.0</td>\n",
       "      <td>1.0</td>\n",
       "      <td>1.0</td>\n",
       "      <td>0.0</td>\n",
       "      <td>1.0</td>\n",
       "      <td>1.0</td>\n",
       "      <td>0.0</td>\n",
       "      <td>0.0</td>\n",
       "      <td>0.0</td>\n",
       "      <td>0.0</td>\n",
       "      <td>0.0</td>\n",
       "      <td>0.0</td>\n",
       "      <td>1.0</td>\n",
       "      <td>1.0</td>\n",
       "      <td>1.0</td>\n",
       "      <td>1.0</td>\n",
       "    </tr>\n",
       "  </tbody>\n",
       "</table>\n",
       "</div>"
      ],
      "text/plain": [
       "   political_status  handicapped_infants  water_project_cost_sharing  \\\n",
       "0                 0                  0.0                         1.0   \n",
       "1                 1                  0.5                         1.0   \n",
       "2                 1                  0.0                         1.0   \n",
       "3                 1                  1.0                         1.0   \n",
       "4                 1                  0.0                         1.0   \n",
       "\n",
       "   adoption_of_the_budget_resolution  physician_fee_freeze  el_salvador_aid  \\\n",
       "0                                0.0                   1.0              1.0   \n",
       "1                                1.0                   0.5              1.0   \n",
       "2                                1.0                   0.0              0.5   \n",
       "3                                1.0                   0.0              1.0   \n",
       "4                                1.0                   0.0              1.0   \n",
       "\n",
       "   religious_groups_in_schools  anti_satellite_test_ban  \\\n",
       "0                          1.0                      0.0   \n",
       "1                          1.0                      0.0   \n",
       "2                          1.0                      0.0   \n",
       "3                          1.0                      0.0   \n",
       "4                          1.0                      0.0   \n",
       "\n",
       "   aid_to_nicaraguan_contras  mx_missile  immigration  \\\n",
       "0                        0.0         0.0          0.0   \n",
       "1                        0.0         0.0          0.0   \n",
       "2                        0.0         0.0          0.0   \n",
       "3                        0.0         0.0          0.0   \n",
       "4                        0.0         0.0          0.0   \n",
       "\n",
       "   synfuels_corporation_cutback  education_spending  superfund_right_to_sue  \\\n",
       "0                           0.0                 1.0                     1.0   \n",
       "1                           1.0                 0.0                     1.0   \n",
       "2                           1.0                 0.0                     1.0   \n",
       "3                           1.0                 0.5                     1.0   \n",
       "4                           0.0                 0.0                     1.0   \n",
       "\n",
       "   crime  duty_free_exports  export_administration_act_south_africa  \n",
       "0    1.0                0.0                                     0.5  \n",
       "1    1.0                0.0                                     0.0  \n",
       "2    0.0                0.0                                     1.0  \n",
       "3    1.0                1.0                                     1.0  \n",
       "4    1.0                1.0                                     1.0  "
      ]
     },
     "execution_count": 58,
     "metadata": {},
     "output_type": "execute_result"
    }
   ],
   "source": [
    "values = {\n",
    "    'republican':0,\n",
    "    'democrat':1,\n",
    "    'n':0,\n",
    "    'y':1,\n",
    "    '?':0.5\n",
    "}\n",
    "\n",
    "df = df.replace(values)\n",
    "df.head()"
   ]
  },
  {
   "cell_type": "code",
   "execution_count": 59,
   "metadata": {},
   "outputs": [
    {
     "data": {
      "text/plain": [
       "(434, 17)"
      ]
     },
     "execution_count": 59,
     "metadata": {},
     "output_type": "execute_result"
    }
   ],
   "source": [
    "df.shape"
   ]
  },
  {
   "cell_type": "code",
   "execution_count": 79,
   "metadata": {},
   "outputs": [],
   "source": [
    "party = df.political_status.tolist()\n",
    "water = df.water_project_cost_sharing.tolist()"
   ]
  },
  {
   "cell_type": "code",
   "execution_count": 91,
   "metadata": {},
   "outputs": [],
   "source": [
    "party = stats.norm.rvs(size=100)\n",
    "water = stats.norm.rvs(size=100)"
   ]
  },
  {
   "cell_type": "code",
   "execution_count": 92,
   "metadata": {},
   "outputs": [],
   "source": [
    "## I think what I want to do is find some prior\n",
    "## like probability_democrat/republican\n",
    "## then apply that to issues?\n",
    "\n",
    "party_mean, party_var, party_std = stats.bayes_mvs(party, alpha=0.99)\n",
    "water_mean, water_var, water_std = stats.bayes_mvs(water, alpha=0.99)"
   ]
  },
  {
   "cell_type": "code",
   "execution_count": 93,
   "metadata": {},
   "outputs": [
    {
     "data": {
      "text/plain": [
       "Mean(statistic=-0.12365089816172253, minmax=(-0.39945321092890135, 0.15215141460545628))"
      ]
     },
     "execution_count": 93,
     "metadata": {},
     "output_type": "execute_result"
    }
   ],
   "source": [
    "## this is for political parties\n",
    "party_mean"
   ]
  },
  {
   "cell_type": "code",
   "execution_count": 94,
   "metadata": {},
   "outputs": [
    {
     "data": {
      "image/png": "[encoded data removed]",
      "text/plain": [
       "<Figure size 432x288 with 1 Axes>"
      ]
     },
     "metadata": {},
     "output_type": "display_data"
    }
   ],
   "source": [
    "import matplotlib.pyplot as plt\n",
    "\n",
    "fig = plt.figure()\n",
    "ax = fig.add_subplot(111)\n",
    "ax.hist(party, bins=50, density=True, label='Party Normal Distribution')\n",
    "ax.vlines(party_mean.statistic, 0, 1, colors='g', label='Estimated Party Mean')\n",
    "ax.axvspan(party_mean.minmax[0], party_mean.minmax[1], facecolor='g',\n",
    "           alpha =0.2, label='Estimated Mean 99%')\n",
    "ax.vlines(party_std.statistic,0,1, colors='r', label='Estimated Scale/StanDev')\n",
    "ax.axvspan(party_std.minmax[0],party_std.minmax[1],facecolor='r',alpha=0.2,\n",
    "           label='Estimated Scale/Standev 99%')\n",
    "ax.set_ylim([0,0.56])\n",
    "plt.show()"
   ]
  },
  {
   "cell_type": "code",
   "execution_count": 95,
   "metadata": {},
   "outputs": [],
   "source": [
    "#i don't think we were supposed to use political party data... but ok..\n"
   ]
  },
  {
   "cell_type": "code",
   "execution_count": null,
   "metadata": {},
   "outputs": [],
   "source": []
  }
 ],
 "metadata": {
  "colab": {
   "name": "LS_DS_143_Introduction_to_Bayesian_Inference.ipynb",
   "provenance": [],
   "version": "0.3.2"
  },
  "kernelspec": {
   "display_name": "Python 3",
   "language": "python",
   "name": "python3"
  },
  "language_info": {
   "codemirror_mode": {
    "name": "ipython",
    "version": 3
   },
   "file_extension": ".py",
   "mimetype": "text/x-python",
   "name": "python",
   "nbconvert_exporter": "python",
   "pygments_lexer": "ipython3",
   "version": "3.6.5"
  }
 },
 "nbformat": 4,
 "nbformat_minor": 1
}
