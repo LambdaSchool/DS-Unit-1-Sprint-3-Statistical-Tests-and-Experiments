{
 "cells": [
  {
   "cell_type": "markdown",
   "metadata": {
    "colab_type": "text",
    "id": "H7OLbevlbd_Z"
   },
   "source": [
    "# Lambda School Data Science Module 143\n",
    "\n",
    "## Introduction to Bayesian Inference\n",
    "\n",
    "!['Detector! What would the Bayesian statistician say if I asked him whether the--' [roll] 'I AM A NEUTRINO DETECTOR, NOT A LABYRINTH GUARD. SERIOUSLY, DID YOUR BRAIN FALL OUT?' [roll] '... yes.'](https://imgs.xkcd.com/comics/frequentists_vs_bayesians.png)\n",
    "\n",
    "*[XKCD 1132](https://www.xkcd.com/1132/)*\n"
   ]
  },
  {
   "cell_type": "markdown",
   "metadata": {
    "colab_type": "text",
    "id": "3mz8p08BsN6p"
   },
   "source": [
    "## Prepare - Bayes' Theorem and the Bayesian mindset"
   ]
  },
  {
   "cell_type": "markdown",
   "metadata": {
    "colab_type": "text",
    "id": "GhycNr-Sbeie"
   },
   "source": [
    "Bayes' theorem possesses a near-mythical quality - a bit of math that somehow magically evaluates a situation. But this mythicalness has more to do with its reputation and advanced applications than the actual core of it - deriving it is actually remarkably straightforward.\n",
    "\n",
    "### The Law of Total Probability\n",
    "\n",
    "By definition, the total probability of all outcomes (events) if some variable (event space) $A$ is 1. That is:\n",
    "\n",
    "$$P(A) = \\sum_n P(A_n) = 1$$\n",
    "\n",
    "The law of total probability takes this further, considering two variables ($A$ and $B$) and relating their marginal probabilities (their likelihoods considered independently, without reference to one another) and their conditional probabilities (their likelihoods considered jointly). A marginal probability is simply notated as e.g. $P(A)$, while a conditional probability is notated $P(A|B)$, which reads \"probability of $A$ *given* $B$\".\n",
    "\n",
    "The law of total probability states:\n",
    "\n",
    "$$P(A) = \\sum_n P(A | B_n) P(B_n)$$\n",
    "\n",
    "In words - the total probability of $A$ is equal to the sum of the conditional probability of $A$ on any given event $B_n$ times the probability of that event $B_n$, and summed over all possible events in $B$.\n",
    "\n",
    "### The Law of Conditional Probability\n",
    "\n",
    "What's the probability of something conditioned on something else? To determine this we have to go back to set theory and think about the intersection of sets:\n",
    "\n",
    "The formula for actual calculation:\n",
    "\n",
    "$$P(A|B) = \\frac{P(A \\cap B)}{P(B)}$$\n",
    "\n",
    "We can see how this relates back to the law of total probability - multiply both sides by $P(B)$ and you get $P(A|B)P(B) = P(A \\cap B)$ - replaced back into the law of total probability we get $P(A) = \\sum_n P(A \\cap B_n)$.\n",
    "\n",
    "This may not seem like an improvement at first, but try to relate it back to the above picture - if you think of sets as physical objects, we're saying that the total probability of $A$ given $B$ is all the little pieces of it intersected with $B$, added together. The conditional probability is then just that again, but divided by the probability of $B$ itself happening in the first place.\n",
    "\n",
    "### Bayes Theorem\n",
    "\n",
    "Here is is, the seemingly magic tool:\n",
    "\n",
    "$$P(A|B) = \\frac{P(B|A)P(A)}{P(B)}$$\n",
    "\n",
    "In words - the probability of $A$ conditioned on $B$ is the probability of $B$ conditioned on $A$, times the probability of $A$ and divided by the probability of $B$. These unconditioned probabilities are referred to as \"prior beliefs\", and the conditioned probabilities as \"updated.\"\n",
    "\n",
    "Why is this important? Scroll back up to the XKCD example - the Bayesian statistician draws a less absurd conclusion because their prior belief in the likelihood that the sun will go nova is extremely low. So, even when updated based on evidence from a detector that is $35/36 = 0.972$ accurate, the prior belief doesn't shift enough to change their overall opinion.\n",
    "\n",
    "There's many examples of Bayes' theorem - one less absurd example is to apply to [breathalyzer tests](https://www.bayestheorem.net/breathalyzer-example/). You may think that a breathalyzer test that is 100% accurate for true positives (detecting somebody who is drunk) is pretty good, but what if it also has 8% false positives (indicating somebody is drunk when they're not)? And furthermore, the rate of drunk driving (and thus our prior belief)  is 1/1000.\n",
    "\n",
    "What is the likelihood somebody really is drunk if they test positive? Some may guess it's 92% - the difference between the true positives and the false positives. But we have a prior belief of the background/true rate of drunk driving. Sounds like a job for Bayes' theorem!\n",
    "\n",
    "$$\n",
    "\\begin{aligned}\n",
    "P(Drunk | Positive) &= \\frac{P(Positive | Drunk)P(Drunk)}{P(Positive)} \\\\\n",
    "&= \\frac{1 \\times 0.001}{0.08} \\\\\n",
    "&= 0.0125\n",
    "\\end{aligned}\n",
    "$$\n",
    "\n",
    "In other words, the likelihood that somebody is drunk given they tested positive with a breathalyzer in this situation is only 1.25% - probably much lower than you'd guess. This is why, in practice, it's important to have a repeated test to confirm (the probability of two false positives in a row is $0.08 * 0.08 = 0.0064$, much lower), and Bayes' theorem has been relevant in court cases where proper consideration of evidence was important."
   ]
  },
  {
   "cell_type": "markdown",
   "metadata": {
    "colab_type": "text",
    "id": "htI3DGvDsRJF"
   },
   "source": [
    "## Live Lecture - Deriving Bayes' Theorem, Calculating Bayesian Confidence"
   ]
  },
  {
   "cell_type": "markdown",
   "metadata": {
    "colab_type": "text",
    "id": "moIJNQ-nbfe_"
   },
   "source": [
    "Notice that $P(A|B)$ appears in the above laws - in Bayesian terms, this is the belief in $A$ updated for the evidence $B$. So all we need to do is solve for this term to derive Bayes' theorem. Let's do it together!"
   ]
  },
  {
   "cell_type": "code",
   "execution_count": 2,
   "metadata": {
    "colab": {},
    "colab_type": "code",
    "id": "ke-5EqJI0Tsn"
   },
   "outputs": [],
   "source": [
    "# Activity 2 - Use SciPy to calculate Bayesian confidence intervals\n",
    "# https://docs.scipy.org/doc/scipy/reference/generated/scipy.stats.bayes_mvs.html#scipy.stats.bayes_mvs\n"
   ]
  },
  {
   "cell_type": "code",
   "execution_count": 3,
   "metadata": {},
   "outputs": [
    {
     "name": "stdout",
     "output_type": "stream",
     "text": [
      "[1 0 0 0 0 1 1 1 0 0 1 0 1 0 1 0 1 1 0 1 0 0 1 1 0 0 0 1 1 0 0 0 0 0 0 0 0\n",
      " 1 0 0 1 0 1 0 1 1 0 1 0 0 0 1 1 0 1 1 0 1 0 0 0 0 1 1 1 0 1 1 0 1 0 0 0 0\n",
      " 0 0 0 1 0 0 0 0 1 0 0 0 1 1 1 0 1 0 1 0 1 1 0 1 0 1]\n"
     ]
    }
   ],
   "source": [
    "from scipy import stats\n",
    "import numpy as np\n",
    "\n",
    "coinflips = np.random.binomial(n=1, p=0.5, size=100)\n",
    "print(coinflips)"
   ]
  },
  {
   "cell_type": "code",
   "execution_count": 5,
   "metadata": {},
   "outputs": [],
   "source": [
    "def confidence_interval(data, confidence=0.95):\n",
    "    \"\"\"\n",
    "    Takes data, returns (mean, lower bound, upper bound)\n",
    "    \"\"\"\n",
    "    n = len(data)\n",
    "    mean = sum(data) / n\n",
    "    data = np.array(data)\n",
    "    stderr = stats.sem(data)\n",
    "    interval = stderr * stats.t.ppf((1 + confidence) / 2., n - 1)\n",
    "    return (mean, mean - interval, mean + interval)\n"
   ]
  },
  {
   "cell_type": "code",
   "execution_count": 6,
   "metadata": {},
   "outputs": [
    {
     "data": {
      "text/plain": [
       "(0.42, 0.28971848005976064, 0.5502815199402393)"
      ]
     },
     "execution_count": 6,
     "metadata": {},
     "output_type": "execute_result"
    }
   ],
   "source": [
    "confidence_interval(coinflips, confidence=0.99)"
   ]
  },
  {
   "cell_type": "code",
   "execution_count": 7,
   "metadata": {},
   "outputs": [
    {
     "data": {
      "text/plain": [
       "(0.42, nan, nan)"
      ]
     },
     "execution_count": 7,
     "metadata": {},
     "output_type": "execute_result"
    }
   ],
   "source": [
    "confidence_interval(coinflips, confidence=1.1)"
   ]
  },
  {
   "cell_type": "code",
   "execution_count": 8,
   "metadata": {},
   "outputs": [
    {
     "name": "stdout",
     "output_type": "stream",
     "text": [
      "Help on function bayes_mvs in module scipy.stats.morestats:\n",
      "\n",
      "bayes_mvs(data, alpha=0.9)\n",
      "    Bayesian confidence intervals for the mean, var, and std.\n",
      "    \n",
      "    Parameters\n",
      "    ----------\n",
      "    data : array_like\n",
      "        Input data, if multi-dimensional it is flattened to 1-D by `bayes_mvs`.\n",
      "        Requires 2 or more data points.\n",
      "    alpha : float, optional\n",
      "        Probability that the returned confidence interval contains\n",
      "        the true parameter.\n",
      "    \n",
      "    Returns\n",
      "    -------\n",
      "    mean_cntr, var_cntr, std_cntr : tuple\n",
      "        The three results are for the mean, variance and standard deviation,\n",
      "        respectively.  Each result is a tuple of the form::\n",
      "    \n",
      "            (center, (lower, upper))\n",
      "    \n",
      "        with `center` the mean of the conditional pdf of the value given the\n",
      "        data, and `(lower, upper)` a confidence interval, centered on the\n",
      "        median, containing the estimate to a probability ``alpha``.\n",
      "    \n",
      "    See Also\n",
      "    --------\n",
      "    mvsdist\n",
      "    \n",
      "    Notes\n",
      "    -----\n",
      "    Each tuple of mean, variance, and standard deviation estimates represent\n",
      "    the (center, (lower, upper)) with center the mean of the conditional pdf\n",
      "    of the value given the data and (lower, upper) is a confidence interval\n",
      "    centered on the median, containing the estimate to a probability\n",
      "    ``alpha``.\n",
      "    \n",
      "    Converts data to 1-D and assumes all data has the same mean and variance.\n",
      "    Uses Jeffrey's prior for variance and std.\n",
      "    \n",
      "    Equivalent to ``tuple((x.mean(), x.interval(alpha)) for x in mvsdist(dat))``\n",
      "    \n",
      "    References\n",
      "    ----------\n",
      "    T.E. Oliphant, \"A Bayesian perspective on estimating mean, variance, and\n",
      "    standard-deviation from data\", http://scholarsarchive.byu.edu/facpub/278,\n",
      "    2006.\n",
      "    \n",
      "    Examples\n",
      "    --------\n",
      "    First a basic example to demonstrate the outputs:\n",
      "    \n",
      "    >>> from scipy import stats\n",
      "    >>> data = [6, 9, 12, 7, 8, 8, 13]\n",
      "    >>> mean, var, std = stats.bayes_mvs(data)\n",
      "    >>> mean\n",
      "    Mean(statistic=9.0, minmax=(7.103650222612533, 10.896349777387467))\n",
      "    >>> var\n",
      "    Variance(statistic=10.0, minmax=(3.176724206..., 24.45910382...))\n",
      "    >>> std\n",
      "    Std_dev(statistic=2.9724954732045084, minmax=(1.7823367265645143, 4.945614605014631))\n",
      "    \n",
      "    Now we generate some normally distributed random data, and get estimates of\n",
      "    mean and standard deviation with 95% confidence intervals for those\n",
      "    estimates:\n",
      "    \n",
      "    >>> n_samples = 100000\n",
      "    >>> data = stats.norm.rvs(size=n_samples)\n",
      "    >>> res_mean, res_var, res_std = stats.bayes_mvs(data, alpha=0.95)\n",
      "    \n",
      "    >>> import matplotlib.pyplot as plt\n",
      "    >>> fig = plt.figure()\n",
      "    >>> ax = fig.add_subplot(111)\n",
      "    >>> ax.hist(data, bins=100, density=True, label='Histogram of data')\n",
      "    >>> ax.vlines(res_mean.statistic, 0, 0.5, colors='r', label='Estimated mean')\n",
      "    >>> ax.axvspan(res_mean.minmax[0],res_mean.minmax[1], facecolor='r',\n",
      "    ...            alpha=0.2, label=r'Estimated mean (95% limits)')\n",
      "    >>> ax.vlines(res_std.statistic, 0, 0.5, colors='g', label='Estimated scale')\n",
      "    >>> ax.axvspan(res_std.minmax[0],res_std.minmax[1], facecolor='g', alpha=0.2,\n",
      "    ...            label=r'Estimated scale (95% limits)')\n",
      "    \n",
      "    >>> ax.legend(fontsize=10)\n",
      "    >>> ax.set_xlim([-4, 4])\n",
      "    >>> ax.set_ylim([0, 0.5])\n",
      "    >>> plt.show()\n",
      "\n"
     ]
    }
   ],
   "source": [
    "help(stats.bayes_mvs)\n"
   ]
  },
  {
   "cell_type": "code",
   "execution_count": 9,
   "metadata": {},
   "outputs": [
    {
     "data": {
      "text/plain": [
       "(Mean(statistic=0.42, minmax=(0.28971848005976064, 0.5502815199402393)),\n",
       " Variance(statistic=0.2511340206185568, minmax=(0.17526846362768558, 0.3662601327946428)),\n",
       " Std_dev(statistic=0.4998428440976869, minmax=(0.4186507657077502, 0.6051942934253783)))"
      ]
     },
     "execution_count": 9,
     "metadata": {},
     "output_type": "execute_result"
    }
   ],
   "source": [
    "stats.bayes_mvs(coinflips, alpha=0.99)"
   ]
  },
  {
   "cell_type": "code",
   "execution_count": 10,
   "metadata": {},
   "outputs": [
    {
     "name": "stdout",
     "output_type": "stream",
     "text": [
      "Help on function mvsdist in module scipy.stats.morestats:\n",
      "\n",
      "mvsdist(data)\n",
      "    'Frozen' distributions for mean, variance, and standard deviation of data.\n",
      "    \n",
      "    Parameters\n",
      "    ----------\n",
      "    data : array_like\n",
      "        Input array. Converted to 1-D using ravel.\n",
      "        Requires 2 or more data-points.\n",
      "    \n",
      "    Returns\n",
      "    -------\n",
      "    mdist : \"frozen\" distribution object\n",
      "        Distribution object representing the mean of the data\n",
      "    vdist : \"frozen\" distribution object\n",
      "        Distribution object representing the variance of the data\n",
      "    sdist : \"frozen\" distribution object\n",
      "        Distribution object representing the standard deviation of the data\n",
      "    \n",
      "    See Also\n",
      "    --------\n",
      "    bayes_mvs\n",
      "    \n",
      "    Notes\n",
      "    -----\n",
      "    The return values from ``bayes_mvs(data)`` is equivalent to\n",
      "    ``tuple((x.mean(), x.interval(0.90)) for x in mvsdist(data))``.\n",
      "    \n",
      "    In other words, calling ``<dist>.mean()`` and ``<dist>.interval(0.90)``\n",
      "    on the three distribution objects returned from this function will give\n",
      "    the same results that are returned from `bayes_mvs`.\n",
      "    \n",
      "    References\n",
      "    ----------\n",
      "    T.E. Oliphant, \"A Bayesian perspective on estimating mean, variance, and\n",
      "    standard-deviation from data\", http://scholarsarchive.byu.edu/facpub/278,\n",
      "    2006.\n",
      "    \n",
      "    Examples\n",
      "    --------\n",
      "    >>> from scipy import stats\n",
      "    >>> data = [6, 9, 12, 7, 8, 8, 13]\n",
      "    >>> mean, var, std = stats.mvsdist(data)\n",
      "    \n",
      "    We now have frozen distribution objects \"mean\", \"var\" and \"std\" that we can\n",
      "    examine:\n",
      "    \n",
      "    >>> mean.mean()\n",
      "    9.0\n",
      "    >>> mean.interval(0.95)\n",
      "    (6.6120585482655692, 11.387941451734431)\n",
      "    >>> mean.std()\n",
      "    1.1952286093343936\n",
      "\n"
     ]
    }
   ],
   "source": [
    "help(stats.mvsdist)"
   ]
  },
  {
   "cell_type": "code",
   "execution_count": 11,
   "metadata": {},
   "outputs": [
    {
     "data": {
      "text/plain": [
       "<scipy.stats._distn_infrastructure.rv_frozen at 0x11433f080>"
      ]
     },
     "execution_count": 11,
     "metadata": {},
     "output_type": "execute_result"
    }
   ],
   "source": [
    "coinflips_mean_dist, _, _ = stats.mvsdist(coinflips)\n",
    "coinflips_mean_dist"
   ]
  },
  {
   "cell_type": "code",
   "execution_count": 12,
   "metadata": {},
   "outputs": [
    {
     "name": "stdout",
     "output_type": "stream",
     "text": [
      "Help on method rvs in module scipy.stats._distn_infrastructure:\n",
      "\n",
      "rvs(size=None, random_state=None) method of scipy.stats._distn_infrastructure.rv_frozen instance\n",
      "\n"
     ]
    }
   ],
   "source": [
    "help(coinflips_mean_dist.rvs)"
   ]
  },
  {
   "cell_type": "code",
   "execution_count": 13,
   "metadata": {},
   "outputs": [
    {
     "data": {
      "text/plain": [
       "0.42"
      ]
     },
     "execution_count": 13,
     "metadata": {},
     "output_type": "execute_result"
    }
   ],
   "source": [
    "coinflips_mean_dist.mean()"
   ]
  },
  {
   "cell_type": "code",
   "execution_count": 14,
   "metadata": {},
   "outputs": [
    {
     "data": {
      "text/html": [
       "<div>\n",
       "<style scoped>\n",
       "    .dataframe tbody tr th:only-of-type {\n",
       "        vertical-align: middle;\n",
       "    }\n",
       "\n",
       "    .dataframe tbody tr th {\n",
       "        vertical-align: top;\n",
       "    }\n",
       "\n",
       "    .dataframe thead th {\n",
       "        text-align: right;\n",
       "    }\n",
       "</style>\n",
       "<table border=\"1\" class=\"dataframe\">\n",
       "  <thead>\n",
       "    <tr style=\"text-align: right;\">\n",
       "      <th></th>\n",
       "      <th>0</th>\n",
       "    </tr>\n",
       "  </thead>\n",
       "  <tbody>\n",
       "    <tr>\n",
       "      <th>count</th>\n",
       "      <td>100.000000</td>\n",
       "    </tr>\n",
       "    <tr>\n",
       "      <th>mean</th>\n",
       "      <td>0.420000</td>\n",
       "    </tr>\n",
       "    <tr>\n",
       "      <th>std</th>\n",
       "      <td>0.496045</td>\n",
       "    </tr>\n",
       "    <tr>\n",
       "      <th>min</th>\n",
       "      <td>0.000000</td>\n",
       "    </tr>\n",
       "    <tr>\n",
       "      <th>25%</th>\n",
       "      <td>0.000000</td>\n",
       "    </tr>\n",
       "    <tr>\n",
       "      <th>50%</th>\n",
       "      <td>0.000000</td>\n",
       "    </tr>\n",
       "    <tr>\n",
       "      <th>75%</th>\n",
       "      <td>1.000000</td>\n",
       "    </tr>\n",
       "    <tr>\n",
       "      <th>max</th>\n",
       "      <td>1.000000</td>\n",
       "    </tr>\n",
       "  </tbody>\n",
       "</table>\n",
       "</div>"
      ],
      "text/plain": [
       "                0\n",
       "count  100.000000\n",
       "mean     0.420000\n",
       "std      0.496045\n",
       "min      0.000000\n",
       "25%      0.000000\n",
       "50%      0.000000\n",
       "75%      1.000000\n",
       "max      1.000000"
      ]
     },
     "execution_count": 14,
     "metadata": {},
     "output_type": "execute_result"
    }
   ],
   "source": [
    "import pandas as pd\n",
    "pd.DataFrame(coinflips).describe()"
   ]
  },
  {
   "cell_type": "code",
   "execution_count": 15,
   "metadata": {},
   "outputs": [
    {
     "data": {
      "text/plain": [
       "array([0.44229858, 0.44567454, 0.42904259, 0.41356929, 0.45754181,\n",
       "       0.35049373, 0.49272237, 0.47963143, 0.4291775 , 0.48700739,\n",
       "       0.48164483, 0.43523959, 0.48560073, 0.40734309, 0.38872874,\n",
       "       0.45200899, 0.40813419, 0.42500392, 0.49411444, 0.47431287,\n",
       "       0.32349995, 0.40781916, 0.52941533, 0.43286361, 0.41853727,\n",
       "       0.51106429, 0.4422225 , 0.50781021, 0.37950113, 0.46201825,\n",
       "       0.3950797 , 0.38367387, 0.49309518, 0.35589792, 0.40917912,\n",
       "       0.35129463, 0.4323053 , 0.46133848, 0.40073038, 0.40578273,\n",
       "       0.46907777, 0.45664889, 0.49794108, 0.45110985, 0.45816828,\n",
       "       0.42190117, 0.45541997, 0.41460826, 0.45837186, 0.41782169,\n",
       "       0.42671308, 0.40678137, 0.44181227, 0.40979974, 0.4208004 ,\n",
       "       0.42277843, 0.4679546 , 0.44283622, 0.37688834, 0.36361269,\n",
       "       0.41155512, 0.41637225, 0.38104537, 0.3944887 , 0.41696051,\n",
       "       0.50287168, 0.42456513, 0.3634533 , 0.42571509, 0.46549657,\n",
       "       0.38206085, 0.46211362, 0.36559548, 0.45696481, 0.33870364,\n",
       "       0.4473341 , 0.45034814, 0.40968799, 0.43725717, 0.47161502,\n",
       "       0.4491869 , 0.39236039, 0.37936772, 0.47375724, 0.36794933,\n",
       "       0.28505717, 0.47117559, 0.47569603, 0.39916999, 0.4965847 ,\n",
       "       0.41276328, 0.34072368, 0.35060276, 0.49211104, 0.43812428,\n",
       "       0.47984327, 0.50532318, 0.48709904, 0.38880541, 0.40471286])"
      ]
     },
     "execution_count": 15,
     "metadata": {},
     "output_type": "execute_result"
    }
   ],
   "source": [
    "coinflips_mean_dist.rvs(100)  # Bootstrapping! (or the atom of it)"
   ]
  },
  {
   "cell_type": "code",
   "execution_count": null,
   "metadata": {},
   "outputs": [],
   "source": []
  },
  {
   "cell_type": "markdown",
   "metadata": {
    "colab_type": "text",
    "id": "P-DzzRk5bf0z"
   },
   "source": [
    "## Assignment - Code it up!\n",
    "\n",
    "Most of the above was pure math - now write Python code to reproduce the results! This is purposefully open ended - you'll have to think about how you should represent probabilities and events. You can and should look things up, and as a stretch goal - refactor your code into helpful reusable functions!\n",
    "\n",
    "Specific goals/targets:\n",
    "\n",
    "1. Write a function `def prob_drunk_given_positive(prob_drunk_prior, prob_positive, prob_positive_drunk)` that reproduces the example from lecture, and use it to calculate and visualize a range of situations\n",
    "2. Explore `scipy.stats.bayes_mvs` - read its documentation, and experiment with it on data you've tested in other ways earlier this week\n",
    "3. Create a visualization comparing the results of a Bayesian approach to a traditional/frequentist approach\n",
    "4. In your own words, summarize the difference between Bayesian and Frequentist statistics\n",
    "\n",
    "If you're unsure where to start, check out [this blog post of Bayes theorem with Python](https://dataconomy.com/2015/02/introduction-to-bayes-theorem-with-python/) - you could and should create something similar!\n",
    "\n",
    "Stretch goals:\n",
    "\n",
    "- Apply a Bayesian technique to a problem you previously worked (in an assignment or project work) on from a frequentist (standard) perspective\n",
    "- Check out [PyMC3](https://docs.pymc.io/) (note this goes beyond hypothesis tests into modeling) - read the guides and work through some examples\n",
    "- Take PyMC3 further - see if you can build something with it!"
   ]
  },
  {
   "cell_type": "code",
   "execution_count": 16,
   "metadata": {
    "colab": {},
    "colab_type": "code",
    "id": "xpVhZyUnbf7o"
   },
   "outputs": [],
   "source": [
    "# TODO - code!\n",
    "def prob_drunk_given_positive(prob_drunk_prior, prob_positive, prob_positive_drunk):\n",
    "    '''\n",
    "    Bayes approach to probability of being drunk\n",
    "    while receiving a positive test\n",
    "    '''\n",
    "    \n",
    "    result = (prob_positive_drunk * prob_drunk_prior) / (prob_positive)\n",
    "    return result\n",
    "    "
   ]
  },
  {
   "cell_type": "code",
   "execution_count": 18,
   "metadata": {},
   "outputs": [
    {
     "data": {
      "text/plain": [
       "0.0125"
      ]
     },
     "execution_count": 18,
     "metadata": {},
     "output_type": "execute_result"
    }
   ],
   "source": [
    "from scipy import stats\n",
    "import numpy as np\n",
    "\n",
    "prob_drunk_prior = 1/1000\n",
    "prob_positive = 0.08\n",
    "prob_positive_drunk = 1\n",
    "\n",
    "prob_drunk_given_positive(prob_drunk_prior, prob_positive, prob_positive_drunk)\n",
    "\n"
   ]
  },
  {
   "cell_type": "code",
   "execution_count": 22,
   "metadata": {},
   "outputs": [
    {
     "data": {
      "text/plain": [
       "array([0, 0, 0, 0, 0, 0, 0, 0, 0, 0, 0, 0, 0, 0, 0, 0, 0, 0, 1, 0, 0, 0,\n",
       "       0, 0, 0, 0, 0, 0, 0, 0, 0, 0, 0, 0, 0, 0, 0, 0, 0, 0, 0, 1, 0, 0,\n",
       "       0, 0, 0, 0, 0, 0, 0, 0, 0, 0, 0, 0, 0, 0, 0, 0, 0, 0, 0, 0, 0, 0,\n",
       "       0, 0, 0, 0, 0, 0, 0, 0, 0, 0, 0, 0, 0, 0, 0, 0, 0, 0, 0, 0, 0, 0,\n",
       "       0, 0, 0, 0, 0, 0, 0, 0, 0, 0, 0, 0, 0, 0, 0, 0, 0, 0, 0, 0, 0, 0,\n",
       "       0, 0, 0, 0, 0, 0, 0, 0, 0, 0, 0, 0, 0, 0, 0, 0, 0, 0, 0, 0, 0, 0,\n",
       "       0, 0, 0, 0, 0, 1, 0, 0, 0, 0, 0, 0, 0, 0, 0, 0, 0, 0, 0, 0, 0, 0,\n",
       "       0, 0, 0, 0, 0, 0, 0, 0, 0, 0, 0, 0, 0, 0, 0, 0, 0, 0, 0, 0, 0, 0,\n",
       "       0, 0, 0, 0, 0, 0, 0, 0, 0, 0, 0, 0, 0, 0, 0, 0, 0, 0, 0, 0, 0, 0,\n",
       "       0, 0, 0, 0, 0, 0, 0, 0, 0, 0, 0, 1, 0, 0, 0, 0, 0, 0, 0, 0, 1, 0,\n",
       "       0, 0, 0, 0, 0, 0, 0, 0, 0, 0, 0, 0, 0, 0, 0, 0, 0, 0, 0, 0, 0, 0,\n",
       "       0, 0, 0, 0, 0, 0, 0, 0, 0, 0, 0, 0, 0, 0, 0, 0, 0, 0, 0, 0, 0, 0,\n",
       "       0, 0, 0, 0, 0, 0, 0, 0, 0, 0, 0, 0, 0, 0, 0, 0, 0, 0, 0, 0, 0, 0,\n",
       "       0, 0, 0, 0, 0, 0, 0, 0, 0, 0, 0, 0, 0, 0, 0, 0, 0, 0, 0, 0, 0, 0,\n",
       "       0, 0, 0, 0, 0, 0, 0, 0, 0, 0, 0, 0, 0, 0, 0, 0, 0, 0, 0, 0, 0, 0,\n",
       "       0, 0, 0, 0, 0, 0, 0, 0, 0, 0, 0, 0, 0, 0, 0, 0, 0, 0, 0, 0, 0, 0,\n",
       "       0, 0, 0, 0, 0, 0, 0, 0, 0, 0, 0, 0, 0, 0, 0, 0, 0, 0, 0, 0, 0, 0,\n",
       "       0, 0, 0, 0, 0, 0, 0, 0, 0, 0, 0, 0, 0, 0, 0, 0, 1, 0, 0, 0, 0, 0,\n",
       "       0, 0, 0, 0, 0, 0, 0, 0, 0, 0, 0, 0, 0, 0, 0, 0, 0, 0, 0, 0, 0, 0,\n",
       "       0, 0, 0, 0, 0, 0, 0, 0, 0, 0, 0, 0, 0, 0, 0, 0, 0, 0, 0, 0, 0, 0,\n",
       "       0, 0, 0, 0, 0, 0, 0, 0, 0, 0, 0, 0, 0, 0, 0, 0, 0, 0, 0, 0, 0, 0,\n",
       "       0, 0, 0, 0, 0, 0, 0, 0, 0, 0, 0, 0, 0, 0, 0, 0, 0, 0, 0, 0, 0, 0,\n",
       "       0, 0, 0, 0, 0, 0, 0, 0, 0, 0, 0, 0, 0, 0, 0, 0, 0, 0, 0, 0, 0, 0,\n",
       "       1, 0, 0, 0, 0, 0, 0, 0, 0, 0, 0, 0, 0, 0, 0, 0, 0, 0, 0, 0, 0, 0,\n",
       "       0, 0, 0, 0, 0, 0, 0, 0, 0, 0, 0, 0, 0, 0, 0, 0, 0, 0, 0, 0, 0, 0,\n",
       "       0, 0, 0, 0, 0, 0, 0, 0, 0, 0, 0, 0, 0, 0, 0, 0, 0, 0, 0, 0, 0, 0,\n",
       "       0, 0, 0, 0, 0, 0, 1, 0, 0, 0, 0, 0, 0, 0, 0, 0, 0, 0, 0, 0, 0, 0,\n",
       "       0, 0, 0, 0, 0, 0, 0, 0, 0, 0, 0, 0, 0, 0, 0, 0, 0, 0, 0, 0, 0, 0,\n",
       "       0, 0, 0, 0, 0, 0, 0, 0, 0, 0, 0, 0, 0, 0, 0, 0, 0, 0, 0, 0, 0, 0,\n",
       "       0, 0, 0, 0, 0, 0, 0, 0, 0, 0, 0, 0, 0, 0, 0, 0, 0, 0, 0, 0, 0, 0,\n",
       "       0, 0, 0, 0, 0, 0, 0, 0, 0, 0, 0, 0, 0, 0, 0, 0, 0, 0, 0, 0, 0, 0,\n",
       "       0, 0, 0, 0, 0, 0, 0, 0, 0, 0, 0, 0, 0, 0, 0, 0, 0, 0, 0, 0, 0, 0,\n",
       "       0, 0, 0, 0, 0, 0, 0, 0, 0, 0, 0, 0, 0, 0, 0, 0, 0, 0, 0, 0, 0, 0,\n",
       "       0, 0, 0, 0, 0, 0, 0, 0, 0, 0, 0, 0, 0, 0, 0, 0, 0, 0, 0, 0, 0, 0,\n",
       "       0, 0, 0, 0, 0, 0, 0, 0, 0, 0, 0, 0, 0, 0, 0, 0, 0, 0, 0, 0, 0, 0,\n",
       "       0, 0, 0, 0, 0, 0, 0, 0, 0, 0, 0, 0, 0, 0, 0, 0, 0, 0, 0, 0, 0, 0,\n",
       "       0, 0, 0, 0, 0, 0, 0, 0, 1, 0, 0, 0, 0, 0, 0, 0, 0, 0, 0, 0, 0, 0,\n",
       "       0, 0, 0, 0, 0, 0, 0, 0, 0, 0, 0, 0, 0, 0, 0, 0, 0, 0, 0, 0, 0, 0,\n",
       "       0, 0, 0, 0, 0, 0, 0, 0, 0, 0, 0, 0, 0, 0, 0, 0, 0, 0, 0, 0, 0, 0,\n",
       "       0, 0, 0, 0, 0, 0, 0, 0, 0, 0, 0, 0, 0, 0, 0, 0, 0, 0, 0, 0, 0, 0,\n",
       "       0, 0, 1, 0, 0, 0, 0, 0, 0, 0, 0, 0, 0, 0, 0, 0, 0, 0, 1, 0, 0, 0,\n",
       "       0, 0, 0, 0, 0, 0, 0, 0, 0, 0, 0, 0, 0, 0, 0, 0, 0, 0, 0, 0, 0, 0,\n",
       "       0, 0, 0, 0, 0, 0, 0, 0, 0, 0, 1, 0, 0, 0, 0, 0, 0, 0, 0, 0, 0, 0,\n",
       "       0, 0, 0, 0, 0, 0, 0, 0, 0, 0, 0, 0, 0, 0, 0, 0, 0, 0, 0, 0, 0, 0,\n",
       "       0, 0, 0, 0, 0, 0, 0, 0, 0, 0, 0, 0, 0, 0, 0, 0, 0, 0, 0, 0, 0, 0,\n",
       "       0, 0, 0, 0, 0, 0, 0, 0, 0, 0])"
      ]
     },
     "execution_count": 22,
     "metadata": {},
     "output_type": "execute_result"
    }
   ],
   "source": [
    "#for 1000 times\n",
    "\n",
    "drunk_driving_1000 = np.random.binomial(n=1,p=0.0125,size=1000)\n",
    "drunk_driving_1000"
   ]
  },
  {
   "cell_type": "code",
   "execution_count": 23,
   "metadata": {},
   "outputs": [
    {
     "data": {
      "text/plain": [
       "(0.012, 0.0031093419061596957, 0.020890658093840303)"
      ]
     },
     "execution_count": 23,
     "metadata": {},
     "output_type": "execute_result"
    }
   ],
   "source": [
    "def confidence_interval(data, confidence=0.95):\n",
    "    \"\"\"\n",
    "    Takes data, returns (mean, lower bound, upper bound)\n",
    "    \"\"\"\n",
    "    n = len(data)\n",
    "    mean = sum(data) / n\n",
    "    data = np.array(data)\n",
    "    stderr = stats.sem(data)\n",
    "    interval = stderr * stats.t.ppf((1 + confidence) / 2., n - 1)\n",
    "    return (mean, mean - interval, mean + interval)\n",
    "\n",
    "confidence_interval(drunk_driving_1000, confidence=0.99)"
   ]
  },
  {
   "cell_type": "code",
   "execution_count": 24,
   "metadata": {},
   "outputs": [
    {
     "data": {
      "text/plain": [
       "(Mean(statistic=0.012, minmax=(0.0031093419061596975, 0.020890658093840303)),\n",
       " Variance(statistic=0.011891675025075227, minmax=(0.0106056903622275, 0.013357050130509336)),\n",
       " Std_dev(statistic=0.10902161617098974, minmax=(0.10298393254400173, 0.11557270495454078)))"
      ]
     },
     "execution_count": 24,
     "metadata": {},
     "output_type": "execute_result"
    }
   ],
   "source": [
    "stats.bayes_mvs(drunk_driving_1000,alpha=0.99)"
   ]
  },
  {
   "cell_type": "code",
   "execution_count": 36,
   "metadata": {},
   "outputs": [
    {
     "data": {
      "text/plain": [
       "array([0.01769836, 0.01196296, 0.01610594, 0.01377079, 0.010505  ,\n",
       "       0.01107882, 0.00772852, 0.01085486, 0.01754036, 0.01165588,\n",
       "       0.01035683, 0.00568851, 0.01461401, 0.01277198, 0.01150246,\n",
       "       0.01625922, 0.01528744, 0.01198668, 0.01535462, 0.00706313,\n",
       "       0.01694514, 0.01334876, 0.01300951, 0.00930476, 0.01079235,\n",
       "       0.00701974, 0.01581418, 0.00746902, 0.01321174, 0.01403034,\n",
       "       0.00337001, 0.01330632, 0.01128346, 0.01574381, 0.0098908 ,\n",
       "       0.01426812, 0.01328582, 0.0131996 , 0.01326916, 0.01611779,\n",
       "       0.01498938, 0.01082311, 0.0104968 , 0.01157123, 0.00528067,\n",
       "       0.00673942, 0.01458473, 0.01100463, 0.01335441, 0.00986849,\n",
       "       0.01637912, 0.01327216, 0.01013913, 0.00895181, 0.01482084,\n",
       "       0.02049595, 0.00846268, 0.01456867, 0.00987581, 0.01707512,\n",
       "       0.00740062, 0.01656969, 0.01508898, 0.01511949, 0.01150141,\n",
       "       0.01688093, 0.01602836, 0.01202798, 0.01287301, 0.01644926,\n",
       "       0.01001314, 0.01252963, 0.01139541, 0.00613164, 0.01472732,\n",
       "       0.00730264, 0.01393925, 0.00481501, 0.00767845, 0.01817987,\n",
       "       0.01323903, 0.00961541, 0.00988512, 0.00850861, 0.01282384,\n",
       "       0.01388286, 0.01339433, 0.01018606, 0.01299661, 0.01199838,\n",
       "       0.01238751, 0.00792272, 0.01147857, 0.01035088, 0.01480156,\n",
       "       0.00805421, 0.01518986, 0.01106895, 0.01134606, 0.00872815,\n",
       "       0.01401098, 0.00740722, 0.01527474, 0.01124386, 0.01657563,\n",
       "       0.01363785, 0.01890299, 0.01479952, 0.02185127, 0.00985987,\n",
       "       0.01856781, 0.01214485, 0.00969575, 0.01568318, 0.01423028,\n",
       "       0.01103726, 0.01471589, 0.00973783, 0.00983536, 0.01377943,\n",
       "       0.01221475, 0.01010472, 0.01296365, 0.01264431, 0.01413025,\n",
       "       0.01353507, 0.01263801, 0.01441982, 0.01124866, 0.01016164,\n",
       "       0.01328484, 0.01189737, 0.00748893, 0.00871832, 0.00952168,\n",
       "       0.0159477 , 0.00647879, 0.00837541, 0.00920065, 0.01170135,\n",
       "       0.00706527, 0.01238067, 0.01188215, 0.01164657, 0.00801515,\n",
       "       0.01658868, 0.01228552, 0.00902826, 0.01799389, 0.00700422,\n",
       "       0.01224282, 0.00954362, 0.01393915, 0.01246427, 0.00860098,\n",
       "       0.015942  , 0.01067012, 0.01172131, 0.01422803, 0.00794997,\n",
       "       0.01668131, 0.01897312, 0.0102433 , 0.0112599 , 0.01372974,\n",
       "       0.01458677, 0.01493787, 0.01037998, 0.01265299, 0.01794297,\n",
       "       0.01013833, 0.01437289, 0.01173073, 0.0160489 , 0.00861395,\n",
       "       0.01837287, 0.01640991, 0.01176123, 0.0167971 , 0.01044759,\n",
       "       0.00808651, 0.00785923, 0.01070822, 0.00430703, 0.0114739 ,\n",
       "       0.01386688, 0.00141736, 0.01016768, 0.01103822, 0.012334  ,\n",
       "       0.01596731, 0.01032451, 0.0117539 , 0.01002451, 0.01573216,\n",
       "       0.00577682, 0.01430585, 0.00681191, 0.00749849, 0.01206366,\n",
       "       0.01077318, 0.0117695 , 0.01146955, 0.01667933, 0.01409703,\n",
       "       0.01023935, 0.01191277, 0.0158133 , 0.00879922, 0.01029756,\n",
       "       0.01251788, 0.01042973, 0.00818826, 0.01436933, 0.00399223,\n",
       "       0.01509317, 0.01124575, 0.01823819, 0.01430363, 0.01722772,\n",
       "       0.01593351, 0.01039568, 0.01430919, 0.02258183, 0.01062747,\n",
       "       0.01050584, 0.00913829, 0.01076658, 0.01536696, 0.01656871,\n",
       "       0.01182627, 0.01138192, 0.01183186, 0.0113054 , 0.01554137,\n",
       "       0.00749879, 0.02477608, 0.00982274, 0.01790334, 0.01114082,\n",
       "       0.01055725, 0.01158886, 0.00630256, 0.01199875, 0.01230944,\n",
       "       0.00903066, 0.00571192, 0.01126462, 0.01127198, 0.00837124,\n",
       "       0.01273365, 0.01923338, 0.01143117, 0.00626665, 0.00839731,\n",
       "       0.00904709, 0.01629323, 0.01305036, 0.01474129, 0.01527791,\n",
       "       0.01310385, 0.01076084, 0.01276887, 0.01135444, 0.00901824,\n",
       "       0.01129375, 0.01086412, 0.00749866, 0.01205461, 0.01258776,\n",
       "       0.00800932, 0.01925567, 0.01715921, 0.0187838 , 0.01014623,\n",
       "       0.0102484 , 0.01592732, 0.01293841, 0.00956426, 0.01897219,\n",
       "       0.01355586, 0.01291269, 0.00797421, 0.01812357, 0.01017923,\n",
       "       0.01391801, 0.01307798, 0.00824311, 0.01091013, 0.01267136,\n",
       "       0.00899832, 0.01170736, 0.01226687, 0.01002974, 0.00403509,\n",
       "       0.01553652, 0.01681732, 0.00882232, 0.01192197, 0.01084823,\n",
       "       0.00562533, 0.01043538, 0.01602879, 0.01647222, 0.0130394 ,\n",
       "       0.01057098, 0.01137461, 0.01281115, 0.01058943, 0.01045266,\n",
       "       0.01057967, 0.00281931, 0.0173097 , 0.01415326, 0.01225831,\n",
       "       0.00801213, 0.01767238, 0.01415229, 0.01442517, 0.01284817,\n",
       "       0.01312806, 0.00790454, 0.01337567, 0.01636875, 0.01629847,\n",
       "       0.00697065, 0.01096603, 0.01132143, 0.0144106 , 0.00494139,\n",
       "       0.01209881, 0.00910309, 0.01063425, 0.00731893, 0.00772221,\n",
       "       0.01320028, 0.01064258, 0.02379638, 0.00571068, 0.00968811,\n",
       "       0.01080399, 0.0097767 , 0.01510737, 0.01354141, 0.00856391,\n",
       "       0.01538326, 0.00940821, 0.01461542, 0.00814157, 0.01267756,\n",
       "       0.0135454 , 0.01366067, 0.01020024, 0.00650972, 0.01264343,\n",
       "       0.01366053, 0.01634842, 0.00640073, 0.00697783, 0.01035289,\n",
       "       0.01261288, 0.01681373, 0.00629355, 0.00624994, 0.00953819,\n",
       "       0.01177316, 0.01722974, 0.01348838, 0.01233486, 0.0170814 ,\n",
       "       0.01449418, 0.0137878 , 0.00882625, 0.01471631, 0.01293336,\n",
       "       0.0148704 , 0.00945195, 0.00773715, 0.0084122 , 0.0150826 ,\n",
       "       0.0156842 , 0.01229399, 0.01349241, 0.01030724, 0.01700373,\n",
       "       0.01493936, 0.00653182, 0.01754638, 0.01577532, 0.01078677,\n",
       "       0.01338963, 0.00995015, 0.01296503, 0.01070374, 0.01483136,\n",
       "       0.01095309, 0.01620246, 0.00891775, 0.00917298, 0.01436421,\n",
       "       0.00878327, 0.01369755, 0.01189527, 0.0102601 , 0.01336838,\n",
       "       0.01580167, 0.01689744, 0.0107037 , 0.01529385, 0.00763851,\n",
       "       0.01721475, 0.01409652, 0.01608956, 0.01089244, 0.00668812,\n",
       "       0.0190721 , 0.00697426, 0.01565683, 0.01124814, 0.01652725,\n",
       "       0.00870002, 0.01143286, 0.0170326 , 0.01950917, 0.01494979,\n",
       "       0.00753739, 0.01508162, 0.01338503, 0.02035979, 0.00531099,\n",
       "       0.013099  , 0.01141523, 0.01020773, 0.0110385 , 0.00934564,\n",
       "       0.0169847 , 0.00973574, 0.0146645 , 0.01206178, 0.00849326,\n",
       "       0.01842295, 0.01341902, 0.01227087, 0.01258698, 0.01227887,\n",
       "       0.01054899, 0.01459515, 0.0191468 , 0.01460528, 0.01911935,\n",
       "       0.01081631, 0.01086458, 0.00941119, 0.00614471, 0.00941645,\n",
       "       0.01327621, 0.01738731, 0.01009024, 0.01401043, 0.01223077,\n",
       "       0.00606316, 0.0197157 , 0.01357853, 0.01442556, 0.0099194 ,\n",
       "       0.01733114, 0.00984301, 0.0100722 , 0.01543816, 0.01073914,\n",
       "       0.0074568 , 0.00571014, 0.01221116, 0.01148698, 0.01068767,\n",
       "       0.01377692, 0.01059272, 0.01157777, 0.01010626, 0.01274544,\n",
       "       0.00660684, 0.019443  , 0.01400218, 0.01431431, 0.01078549,\n",
       "       0.01641512, 0.01530495, 0.00952188, 0.01507298, 0.0144518 ,\n",
       "       0.01156836, 0.01219717, 0.01351825, 0.01606984, 0.01509291,\n",
       "       0.0057584 , 0.01496528, 0.01964953, 0.00832828, 0.01366063,\n",
       "       0.01077338, 0.01344703, 0.01135312, 0.01241233, 0.01089534,\n",
       "       0.00722632, 0.01300816, 0.00785034, 0.01754653, 0.00724098,\n",
       "       0.00691024, 0.00718417, 0.0071124 , 0.01909542, 0.01133006,\n",
       "       0.01169179, 0.0083218 , 0.01720499, 0.00308502, 0.00800432,\n",
       "       0.02131144, 0.01182424, 0.01549477, 0.00865516, 0.01456476,\n",
       "       0.0131078 , 0.01011891, 0.00911841, 0.00579773, 0.00867936,\n",
       "       0.01176522, 0.01429834, 0.00830302, 0.01000052, 0.01011191,\n",
       "       0.00530034, 0.0072362 , 0.01775411, 0.01183356, 0.01337537,\n",
       "       0.01173782, 0.01331751, 0.01012715, 0.00804493, 0.01112495,\n",
       "       0.01483791, 0.01623667, 0.0099711 , 0.01382525, 0.01039378,\n",
       "       0.01617499, 0.00955618, 0.0127967 , 0.00800282, 0.01728955,\n",
       "       0.01559692, 0.01182857, 0.00865015, 0.01398094, 0.0104414 ,\n",
       "       0.01299761, 0.00852972, 0.01020999, 0.00737426, 0.00986925,\n",
       "       0.01317857, 0.0190001 , 0.00894328, 0.01539461, 0.01420824,\n",
       "       0.01849259, 0.01467884, 0.00998402, 0.01364025, 0.00704087,\n",
       "       0.0135308 , 0.01187061, 0.00945415, 0.01072787, 0.01125402,\n",
       "       0.01443094, 0.0147861 , 0.00987487, 0.01128623, 0.01017577,\n",
       "       0.01065978, 0.01324064, 0.00943615, 0.01261147, 0.0114096 ,\n",
       "       0.01841002, 0.01424332, 0.01164195, 0.01141394, 0.00985264,\n",
       "       0.01787286, 0.00846347, 0.01147673, 0.01368498, 0.00822332,\n",
       "       0.01620529, 0.01407088, 0.00932323, 0.01109465, 0.00950009,\n",
       "       0.01560984, 0.00861396, 0.00642866, 0.01307079, 0.01104934,\n",
       "       0.01277255, 0.01382776, 0.01174553, 0.01383898, 0.01266572,\n",
       "       0.01322563, 0.01550308, 0.00940831, 0.01385727, 0.01090688,\n",
       "       0.00844984, 0.00827281, 0.0125714 , 0.00784076, 0.01603698,\n",
       "       0.01586438, 0.01283152, 0.01225455, 0.01266499, 0.01121226,\n",
       "       0.00785742, 0.01141694, 0.01121278, 0.01781584, 0.01445503,\n",
       "       0.01144602, 0.01055568, 0.00675636, 0.0135002 , 0.01672557,\n",
       "       0.00983674, 0.01361684, 0.00952811, 0.00682268, 0.01820439,\n",
       "       0.01671695, 0.00835991, 0.01404444, 0.01376696, 0.00847674,\n",
       "       0.01699605, 0.01208843, 0.01081135, 0.00846088, 0.01102382,\n",
       "       0.00992437, 0.01411768, 0.0152577 , 0.01578507, 0.00944481,\n",
       "       0.01337709, 0.01137023, 0.01085897, 0.00774643, 0.01048398,\n",
       "       0.00888322, 0.01328809, 0.01371778, 0.00866333, 0.01198822,\n",
       "       0.01135687, 0.01527794, 0.01425479, 0.00409976, 0.00884398,\n",
       "       0.01125767, 0.00737206, 0.00913431, 0.00772179, 0.00674817,\n",
       "       0.00926836, 0.01023769, 0.01313168, 0.01035751, 0.00781758,\n",
       "       0.00984471, 0.01086745, 0.01239515, 0.01251448, 0.01668503,\n",
       "       0.01342356, 0.01032614, 0.01536142, 0.00903604, 0.0165495 ,\n",
       "       0.0100307 , 0.01172146, 0.00952203, 0.01678568, 0.01535778,\n",
       "       0.01215706, 0.01407216, 0.00628228, 0.01467524, 0.01408814,\n",
       "       0.00946466, 0.01224328, 0.00647575, 0.01254828, 0.00661147,\n",
       "       0.01562723, 0.01155282, 0.00921441, 0.0116544 , 0.00401173,\n",
       "       0.01395454, 0.01300421, 0.00831858, 0.0138894 , 0.01295957,\n",
       "       0.01851987, 0.01783847, 0.01759178, 0.01129364, 0.01127401,\n",
       "       0.010221  , 0.01183899, 0.00921608, 0.00896339, 0.00931423,\n",
       "       0.01941523, 0.01434028, 0.0040128 , 0.01286918, 0.01186415,\n",
       "       0.01783181, 0.01648875, 0.01646298, 0.01249603, 0.01632849,\n",
       "       0.01122465, 0.00741766, 0.00439603, 0.01639057, 0.01569188,\n",
       "       0.00773366, 0.01159397, 0.0106672 , 0.01274331, 0.01347046,\n",
       "       0.01059225, 0.01007151, 0.00324404, 0.0032891 , 0.01338909,\n",
       "       0.01557456, 0.0116572 , 0.00681954, 0.00998567, 0.01400739,\n",
       "       0.00525007, 0.01335764, 0.01085104, 0.01404442, 0.01422572,\n",
       "       0.0159045 , 0.00990427, 0.01282255, 0.01319189, 0.01607404,\n",
       "       0.01063005, 0.01370695, 0.0063948 , 0.01521077, 0.01432218,\n",
       "       0.01149464, 0.00662871, 0.01306638, 0.01131096, 0.01086938,\n",
       "       0.01201708, 0.0137576 , 0.02027973, 0.01517751, 0.01659724,\n",
       "       0.01481655, 0.01009175, 0.00935121, 0.01894333, 0.01055582,\n",
       "       0.00711848, 0.01173301, 0.01364474, 0.01194044, 0.01052868,\n",
       "       0.01944529, 0.01311653, 0.01317542, 0.01317454, 0.01733829,\n",
       "       0.01764104, 0.00925232, 0.01927255, 0.00609063, 0.01024011,\n",
       "       0.013527  , 0.0113297 , 0.0137454 , 0.01294553, 0.01670766,\n",
       "       0.01399539, 0.00837299, 0.01733578, 0.01362242, 0.01229804,\n",
       "       0.01489949, 0.00448168, 0.01447119, 0.01246558, 0.01029412,\n",
       "       0.00810819, 0.01495791, 0.00556341, 0.00979143, 0.01167993,\n",
       "       0.00978228, 0.01192176, 0.00452816, 0.02073618, 0.01452803,\n",
       "       0.00733071, 0.01167881, 0.00677419, 0.01052161, 0.01157541,\n",
       "       0.01706755, 0.00662417, 0.01266342, 0.01108149, 0.01124032,\n",
       "       0.02011443, 0.00923302, 0.01210549, 0.00765046, 0.01228395,\n",
       "       0.01155278, 0.01011111, 0.01550887, 0.01215506, 0.01575052,\n",
       "       0.01703799, 0.01145628, 0.01023702, 0.01010662, 0.0117246 ,\n",
       "       0.01465937, 0.00919556, 0.01500937, 0.00897956, 0.01306937,\n",
       "       0.01298261, 0.01346467, 0.0103892 , 0.0137885 , 0.01005089,\n",
       "       0.0185734 , 0.01183761, 0.01078901, 0.01508681, 0.00929265,\n",
       "       0.00957189, 0.01096408, 0.01053946, 0.01635042, 0.01419047,\n",
       "       0.01242646, 0.01040234, 0.01395277, 0.01499247, 0.01712937,\n",
       "       0.00649865, 0.00640769, 0.00290963, 0.0087907 , 0.00917855,\n",
       "       0.00961618, 0.01442841, 0.01654247, 0.00964375, 0.01237973,\n",
       "       0.01209723, 0.01430314, 0.01215495, 0.00987536, 0.00866726,\n",
       "       0.01051282, 0.01040211, 0.01843819, 0.02033229, 0.01140223,\n",
       "       0.01284736, 0.01269406, 0.00933767, 0.01098381, 0.01385625,\n",
       "       0.01742541, 0.00890104, 0.01520914, 0.01359263, 0.0111729 ,\n",
       "       0.00719781, 0.00469971, 0.01590524, 0.00926634, 0.00565587,\n",
       "       0.00907839, 0.01008338, 0.00771961, 0.01048696, 0.0120483 ,\n",
       "       0.01280162, 0.01178065, 0.01537484, 0.00659591, 0.01488455,\n",
       "       0.00578241, 0.01049053, 0.00902677, 0.01268395, 0.00987021,\n",
       "       0.01553888, 0.01019152, 0.01286181, 0.0171805 , 0.01142794,\n",
       "       0.00651198, 0.01200074, 0.01635875, 0.01027116, 0.01190315,\n",
       "       0.00252874, 0.01303742, 0.0129797 , 0.01704508, 0.00963225,\n",
       "       0.01207285, 0.0174994 , 0.01183107, 0.01028991, 0.00985002,\n",
       "       0.01149811, 0.01488983, 0.01042626, 0.00682741, 0.01050584,\n",
       "       0.01304723, 0.00533743, 0.01239915, 0.00907567, 0.01232157,\n",
       "       0.01338777, 0.00977339, 0.00846911, 0.00290276, 0.01392814,\n",
       "       0.00776807, 0.01801175, 0.01108068, 0.01121167, 0.01111677,\n",
       "       0.01248028, 0.0144065 , 0.00792363, 0.01173293, 0.01505694,\n",
       "       0.00909979, 0.00452179, 0.01003868, 0.00996411, 0.01417007,\n",
       "       0.01214316, 0.00506363, 0.01633514, 0.01053246, 0.01334162,\n",
       "       0.01664076, 0.00935735, 0.00669846, 0.01227737, 0.00991724,\n",
       "       0.01310562, 0.00344628, 0.00853021, 0.01131961, 0.01404749,\n",
       "       0.01321919, 0.00540525, 0.01670255, 0.0171331 , 0.0174281 ])"
      ]
     },
     "execution_count": 36,
     "metadata": {},
     "output_type": "execute_result"
    }
   ],
   "source": [
    "drunk_driving_1000_mean_dist,_,_ = stats.mvsdist(drunk_driving_1000)\n",
    "bootstrapped_drunk_driving_1000 = drunk_driving_1000_mean_dist.rvs(1000)\n",
    "bootstrapped_drunk_driving_1000"
   ]
  },
  {
   "cell_type": "code",
   "execution_count": 49,
   "metadata": {},
   "outputs": [],
   "source": [
    "??stats.bayes_mvs"
   ]
  },
  {
   "cell_type": "code",
   "execution_count": 56,
   "metadata": {},
   "outputs": [
    {
     "data": {
      "text/html": [
       "<div>\n",
       "<style scoped>\n",
       "    .dataframe tbody tr th:only-of-type {\n",
       "        vertical-align: middle;\n",
       "    }\n",
       "\n",
       "    .dataframe tbody tr th {\n",
       "        vertical-align: top;\n",
       "    }\n",
       "\n",
       "    .dataframe thead th {\n",
       "        text-align: right;\n",
       "    }\n",
       "</style>\n",
       "<table border=\"1\" class=\"dataframe\">\n",
       "  <thead>\n",
       "    <tr style=\"text-align: right;\">\n",
       "      <th></th>\n",
       "      <th>republican</th>\n",
       "      <th>n</th>\n",
       "      <th>y</th>\n",
       "      <th>n.1</th>\n",
       "      <th>y.1</th>\n",
       "      <th>y.2</th>\n",
       "      <th>y.3</th>\n",
       "      <th>n.2</th>\n",
       "      <th>n.3</th>\n",
       "      <th>n.4</th>\n",
       "      <th>y.4</th>\n",
       "      <th>?</th>\n",
       "      <th>y.5</th>\n",
       "      <th>y.6</th>\n",
       "      <th>y.7</th>\n",
       "      <th>n.5</th>\n",
       "      <th>y.8</th>\n",
       "    </tr>\n",
       "  </thead>\n",
       "  <tbody>\n",
       "    <tr>\n",
       "      <th>0</th>\n",
       "      <td>republican</td>\n",
       "      <td>n</td>\n",
       "      <td>y</td>\n",
       "      <td>n</td>\n",
       "      <td>y</td>\n",
       "      <td>y</td>\n",
       "      <td>y</td>\n",
       "      <td>n</td>\n",
       "      <td>n</td>\n",
       "      <td>n</td>\n",
       "      <td>n</td>\n",
       "      <td>n</td>\n",
       "      <td>y</td>\n",
       "      <td>y</td>\n",
       "      <td>y</td>\n",
       "      <td>n</td>\n",
       "      <td>?</td>\n",
       "    </tr>\n",
       "    <tr>\n",
       "      <th>1</th>\n",
       "      <td>democrat</td>\n",
       "      <td>?</td>\n",
       "      <td>y</td>\n",
       "      <td>y</td>\n",
       "      <td>?</td>\n",
       "      <td>y</td>\n",
       "      <td>y</td>\n",
       "      <td>n</td>\n",
       "      <td>n</td>\n",
       "      <td>n</td>\n",
       "      <td>n</td>\n",
       "      <td>y</td>\n",
       "      <td>n</td>\n",
       "      <td>y</td>\n",
       "      <td>y</td>\n",
       "      <td>n</td>\n",
       "      <td>n</td>\n",
       "    </tr>\n",
       "    <tr>\n",
       "      <th>2</th>\n",
       "      <td>democrat</td>\n",
       "      <td>n</td>\n",
       "      <td>y</td>\n",
       "      <td>y</td>\n",
       "      <td>n</td>\n",
       "      <td>?</td>\n",
       "      <td>y</td>\n",
       "      <td>n</td>\n",
       "      <td>n</td>\n",
       "      <td>n</td>\n",
       "      <td>n</td>\n",
       "      <td>y</td>\n",
       "      <td>n</td>\n",
       "      <td>y</td>\n",
       "      <td>n</td>\n",
       "      <td>n</td>\n",
       "      <td>y</td>\n",
       "    </tr>\n",
       "    <tr>\n",
       "      <th>3</th>\n",
       "      <td>democrat</td>\n",
       "      <td>y</td>\n",
       "      <td>y</td>\n",
       "      <td>y</td>\n",
       "      <td>n</td>\n",
       "      <td>y</td>\n",
       "      <td>y</td>\n",
       "      <td>n</td>\n",
       "      <td>n</td>\n",
       "      <td>n</td>\n",
       "      <td>n</td>\n",
       "      <td>y</td>\n",
       "      <td>?</td>\n",
       "      <td>y</td>\n",
       "      <td>y</td>\n",
       "      <td>y</td>\n",
       "      <td>y</td>\n",
       "    </tr>\n",
       "    <tr>\n",
       "      <th>4</th>\n",
       "      <td>democrat</td>\n",
       "      <td>n</td>\n",
       "      <td>y</td>\n",
       "      <td>y</td>\n",
       "      <td>n</td>\n",
       "      <td>y</td>\n",
       "      <td>y</td>\n",
       "      <td>n</td>\n",
       "      <td>n</td>\n",
       "      <td>n</td>\n",
       "      <td>n</td>\n",
       "      <td>n</td>\n",
       "      <td>n</td>\n",
       "      <td>y</td>\n",
       "      <td>y</td>\n",
       "      <td>y</td>\n",
       "      <td>y</td>\n",
       "    </tr>\n",
       "  </tbody>\n",
       "</table>\n",
       "</div>"
      ],
      "text/plain": [
       "   republican  n  y n.1 y.1 y.2 y.3 n.2 n.3 n.4 y.4  ? y.5 y.6 y.7 n.5 y.8\n",
       "0  republican  n  y   n   y   y   y   n   n   n   n  n   y   y   y   n   ?\n",
       "1    democrat  ?  y   y   ?   y   y   n   n   n   n  y   n   y   y   n   n\n",
       "2    democrat  n  y   y   n   ?   y   n   n   n   n  y   n   y   n   n   y\n",
       "3    democrat  y  y   y   n   y   y   n   n   n   n  y   ?   y   y   y   y\n",
       "4    democrat  n  y   y   n   y   y   n   n   n   n  n   n   y   y   y   y"
      ]
     },
     "execution_count": 56,
     "metadata": {},
     "output_type": "execute_result"
    }
   ],
   "source": [
    "url = 'https://archive.ics.uci.edu/ml/machine-learning-databases/voting-records/house-votes-84.data'\n",
    "\n",
    "df = pd.read_csv(url)\n",
    "df.head()"
   ]
  },
  {
   "cell_type": "code",
   "execution_count": 57,
   "metadata": {},
   "outputs": [],
   "source": [
    "df = df.rename(columns={\n",
    "    'republican': 'political_status',\n",
    "    'n': 'handicapped_infants',\n",
    "    'y': 'water_project_cost_sharing',\n",
    "    'n.1': 'adoption_of_the_budget_resolution',\n",
    "    'y.1': 'physician_fee_freeze',\n",
    "    'y.2': 'el_salvador_aid',\n",
    "    'y.3': 'religious_groups_in_schools',\n",
    "    'n.2': 'anti_satellite_test_ban',\n",
    "    'n.3': 'aid_to_nicaraguan_contras',\n",
    "    'n.4': 'mx_missile',\n",
    "    'y.4': 'immigration',\n",
    "    '?': 'synfuels_corporation_cutback',\n",
    "    'y.5': 'education_spending', \n",
    "    'y.6': 'superfund_right_to_sue',\n",
    "    'y.7': 'crime',\n",
    "    'n.5': 'duty_free_exports',\n",
    "    'y.8': 'export_administration_act_south_africa'\n",
    "})"
   ]
  },
  {
   "cell_type": "code",
   "execution_count": 58,
   "metadata": {},
   "outputs": [
    {
     "data": {
      "text/html": [
       "<div>\n",
       "<style scoped>\n",
       "    .dataframe tbody tr th:only-of-type {\n",
       "        vertical-align: middle;\n",
       "    }\n",
       "\n",
       "    .dataframe tbody tr th {\n",
       "        vertical-align: top;\n",
       "    }\n",
       "\n",
       "    .dataframe thead th {\n",
       "        text-align: right;\n",
       "    }\n",
       "</style>\n",
       "<table border=\"1\" class=\"dataframe\">\n",
       "  <thead>\n",
       "    <tr style=\"text-align: right;\">\n",
       "      <th></th>\n",
       "      <th>political_status</th>\n",
       "      <th>handicapped_infants</th>\n",
       "      <th>water_project_cost_sharing</th>\n",
       "      <th>adoption_of_the_budget_resolution</th>\n",
       "      <th>physician_fee_freeze</th>\n",
       "      <th>el_salvador_aid</th>\n",
       "      <th>religious_groups_in_schools</th>\n",
       "      <th>anti_satellite_test_ban</th>\n",
       "      <th>aid_to_nicaraguan_contras</th>\n",
       "      <th>mx_missile</th>\n",
       "      <th>immigration</th>\n",
       "      <th>synfuels_corporation_cutback</th>\n",
       "      <th>education_spending</th>\n",
       "      <th>superfund_right_to_sue</th>\n",
       "      <th>crime</th>\n",
       "      <th>duty_free_exports</th>\n",
       "      <th>export_administration_act_south_africa</th>\n",
       "    </tr>\n",
       "  </thead>\n",
       "  <tbody>\n",
       "    <tr>\n",
       "      <th>0</th>\n",
       "      <td>0</td>\n",
       "      <td>0.0</td>\n",
       "      <td>1.0</td>\n",
       "      <td>0.0</td>\n",
       "      <td>1.0</td>\n",
       "      <td>1.0</td>\n",
       "      <td>1.0</td>\n",
       "      <td>0.0</td>\n",
       "      <td>0.0</td>\n",
       "      <td>0.0</td>\n",
       "      <td>0.0</td>\n",
       "      <td>0.0</td>\n",
       "      <td>1.0</td>\n",
       "      <td>1.0</td>\n",
       "      <td>1.0</td>\n",
       "      <td>0.0</td>\n",
       "      <td>0.5</td>\n",
       "    </tr>\n",
       "    <tr>\n",
       "      <th>1</th>\n",
       "      <td>1</td>\n",
       "      <td>0.5</td>\n",
       "      <td>1.0</td>\n",
       "      <td>1.0</td>\n",
       "      <td>0.5</td>\n",
       "      <td>1.0</td>\n",
       "      <td>1.0</td>\n",
       "      <td>0.0</td>\n",
       "      <td>0.0</td>\n",
       "      <td>0.0</td>\n",
       "      <td>0.0</td>\n",
       "      <td>1.0</td>\n",
       "      <td>0.0</td>\n",
       "      <td>1.0</td>\n",
       "      <td>1.0</td>\n",
       "      <td>0.0</td>\n",
       "      <td>0.0</td>\n",
       "    </tr>\n",
       "    <tr>\n",
       "      <th>2</th>\n",
       "      <td>1</td>\n",
       "      <td>0.0</td>\n",
       "      <td>1.0</td>\n",
       "      <td>1.0</td>\n",
       "      <td>0.0</td>\n",
       "      <td>0.5</td>\n",
       "      <td>1.0</td>\n",
       "      <td>0.0</td>\n",
       "      <td>0.0</td>\n",
       "      <td>0.0</td>\n",
       "      <td>0.0</td>\n",
       "      <td>1.0</td>\n",
       "      <td>0.0</td>\n",
       "      <td>1.0</td>\n",
       "      <td>0.0</td>\n",
       "      <td>0.0</td>\n",
       "      <td>1.0</td>\n",
       "    </tr>\n",
       "    <tr>\n",
       "      <th>3</th>\n",
       "      <td>1</td>\n",
       "      <td>1.0</td>\n",
       "      <td>1.0</td>\n",
       "      <td>1.0</td>\n",
       "      <td>0.0</td>\n",
       "      <td>1.0</td>\n",
       "      <td>1.0</td>\n",
       "      <td>0.0</td>\n",
       "      <td>0.0</td>\n",
       "      <td>0.0</td>\n",
       "      <td>0.0</td>\n",
       "      <td>1.0</td>\n",
       "      <td>0.5</td>\n",
       "      <td>1.0</td>\n",
       "      <td>1.0</td>\n",
       "      <td>1.0</td>\n",
       "      <td>1.0</td>\n",
       "    </tr>\n",
       "    <tr>\n",
       "      <th>4</th>\n",
       "      <td>1</td>\n",
       "      <td>0.0</td>\n",
       "      <td>1.0</td>\n",
       "      <td>1.0</td>\n",
       "      <td>0.0</td>\n",
       "      <td>1.0</td>\n",
       "      <td>1.0</td>\n",
       "      <td>0.0</td>\n",
       "      <td>0.0</td>\n",
       "      <td>0.0</td>\n",
       "      <td>0.0</td>\n",
       "      <td>0.0</td>\n",
       "      <td>0.0</td>\n",
       "      <td>1.0</td>\n",
       "      <td>1.0</td>\n",
       "      <td>1.0</td>\n",
       "      <td>1.0</td>\n",
       "    </tr>\n",
       "  </tbody>\n",
       "</table>\n",
       "</div>"
      ],
      "text/plain": [
       "   political_status  handicapped_infants  water_project_cost_sharing  \\\n",
       "0                 0                  0.0                         1.0   \n",
       "1                 1                  0.5                         1.0   \n",
       "2                 1                  0.0                         1.0   \n",
       "3                 1                  1.0                         1.0   \n",
       "4                 1                  0.0                         1.0   \n",
       "\n",
       "   adoption_of_the_budget_resolution  physician_fee_freeze  el_salvador_aid  \\\n",
       "0                                0.0                   1.0              1.0   \n",
       "1                                1.0                   0.5              1.0   \n",
       "2                                1.0                   0.0              0.5   \n",
       "3                                1.0                   0.0              1.0   \n",
       "4                                1.0                   0.0              1.0   \n",
       "\n",
       "   religious_groups_in_schools  anti_satellite_test_ban  \\\n",
       "0                          1.0                      0.0   \n",
       "1                          1.0                      0.0   \n",
       "2                          1.0                      0.0   \n",
       "3                          1.0                      0.0   \n",
       "4                          1.0                      0.0   \n",
       "\n",
       "   aid_to_nicaraguan_contras  mx_missile  immigration  \\\n",
       "0                        0.0         0.0          0.0   \n",
       "1                        0.0         0.0          0.0   \n",
       "2                        0.0         0.0          0.0   \n",
       "3                        0.0         0.0          0.0   \n",
       "4                        0.0         0.0          0.0   \n",
       "\n",
       "   synfuels_corporation_cutback  education_spending  superfund_right_to_sue  \\\n",
       "0                           0.0                 1.0                     1.0   \n",
       "1                           1.0                 0.0                     1.0   \n",
       "2                           1.0                 0.0                     1.0   \n",
       "3                           1.0                 0.5                     1.0   \n",
       "4                           0.0                 0.0                     1.0   \n",
       "\n",
       "   crime  duty_free_exports  export_administration_act_south_africa  \n",
       "0    1.0                0.0                                     0.5  \n",
       "1    1.0                0.0                                     0.0  \n",
       "2    0.0                0.0                                     1.0  \n",
       "3    1.0                1.0                                     1.0  \n",
       "4    1.0                1.0                                     1.0  "
      ]
     },
     "execution_count": 58,
     "metadata": {},
     "output_type": "execute_result"
    }
   ],
   "source": [
    "values = {\n",
    "    'republican':0,\n",
    "    'democrat':1,\n",
    "    'n':0,\n",
    "    'y':1,\n",
    "    '?':0.5\n",
    "}\n",
    "\n",
    "df = df.replace(values)\n",
    "df.head()"
   ]
  },
  {
   "cell_type": "code",
   "execution_count": 59,
   "metadata": {},
   "outputs": [
    {
     "data": {
      "text/plain": [
       "(434, 17)"
      ]
     },
     "execution_count": 59,
     "metadata": {},
     "output_type": "execute_result"
    }
   ],
   "source": [
    "df.shape"
   ]
  },
  {
   "cell_type": "code",
   "execution_count": 79,
   "metadata": {},
   "outputs": [],
   "source": [
    "party = df.political_status.tolist()\n",
    "water = df.water_project_cost_sharing.tolist()"
   ]
  },
  {
   "cell_type": "code",
   "execution_count": 80,
   "metadata": {},
   "outputs": [],
   "source": [
    "party = stats.norm.rvs(size=434)\n",
    "water = stats.norm.rvs(size=100)"
   ]
  },
  {
   "cell_type": "code",
   "execution_count": 81,
   "metadata": {},
   "outputs": [],
   "source": [
    "## I think what I want to do is find some prior\n",
    "## like probability_democrat/republican\n",
    "## then apply that to issues?\n",
    "\n",
    "party_mean, party_var, party_std = stats.bayes_mvs(party, alpha=0.99)\n",
    "water_mean, water_var, water_std = stats.bayes_mvs(water, alpha=0.99)"
   ]
  },
  {
   "cell_type": "code",
   "execution_count": 90,
   "metadata": {},
   "outputs": [
    {
     "data": {
      "text/plain": [
       "Mean(statistic=-0.0367443506036474, minmax=(-0.1554994842078047, 0.0820107830005099))"
      ]
     },
     "execution_count": 90,
     "metadata": {},
     "output_type": "execute_result"
    }
   ],
   "source": [
    "## this is for political parties\n",
    "party_mean"
   ]
  },
  {
   "cell_type": "code",
   "execution_count": 88,
   "metadata": {},
   "outputs": [
    {
     "data": {
      "image/png": "[encoded data removed]",
      "text/plain": [
       "<Figure size 432x288 with 1 Axes>"
      ]
     },
     "metadata": {},
     "output_type": "display_data"
    }
   ],
   "source": [
    "import matplotlib.pyplot as plt\n",
    "\n",
    "fig = plt.figure()\n",
    "ax = fig.add_subplot(111)\n",
    "ax.hist(party, bins=50, density=True, label='Party Normal Distribution')\n",
    "ax.vlines(party_mean.statistic, 0, 1, colors='g', label='Estimated Party Mean')\n",
    "ax.axvspan(party_mean.minmax[0], party_mean.minmax[1], facecolor='g',\n",
    "           alpha =0.2, label='Estimated Mean 99%')\n",
    "ax.vlines(party_std.statistic,0,1, colors='r', label='Estimated Scale/StanDev')\n",
    "ax.axvspan(party_std.minmax[0],party_std.minmax[1],facecolor='r',alpha=0.2,\n",
    "           label='Estimated Scale/Standev 99%')\n",
    "ax.set_ylim([0,0.56])\n",
    "plt.show()"
   ]
  },
  {
   "cell_type": "code",
   "execution_count": null,
   "metadata": {},
   "outputs": [],
   "source": []
  }
 ],
 "metadata": {
  "colab": {
   "name": "LS_DS_143_Introduction_to_Bayesian_Inference.ipynb",
   "provenance": [],
   "version": "0.3.2"
  },
  "kernelspec": {
   "display_name": "Python 3",
   "language": "python",
   "name": "python3"
  },
  "language_info": {
   "codemirror_mode": {
    "name": "ipython",
    "version": 3
   },
   "file_extension": ".py",
   "mimetype": "text/x-python",
   "name": "python",
   "nbconvert_exporter": "python",
   "pygments_lexer": "ipython3",
   "version": "3.6.5"
  }
 },
 "nbformat": 4,
 "nbformat_minor": 1
}
