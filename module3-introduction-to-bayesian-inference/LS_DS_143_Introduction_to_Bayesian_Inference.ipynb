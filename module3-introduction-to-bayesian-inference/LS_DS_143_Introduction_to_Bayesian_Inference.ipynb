{
 "cells": [
  {
   "cell_type": "markdown",
   "metadata": {
    "colab_type": "text",
    "id": "H7OLbevlbd_Z"
   },
   "source": [
    "# Lambda School Data Science Module 143\n",
    "\n",
    "## Introduction to Bayesian Inference\n",
    "\n",
    "!['Detector! What would the Bayesian statistician say if I asked him whether the--' [roll] 'I AM A NEUTRINO DETECTOR, NOT A LABYRINTH GUARD. SERIOUSLY, DID YOUR BRAIN FALL OUT?' [roll] '... yes.'](https://imgs.xkcd.com/comics/frequentists_vs_bayesians.png)\n",
    "\n",
    "*[XKCD 1132](https://www.xkcd.com/1132/)*\n"
   ]
  },
  {
   "cell_type": "markdown",
   "metadata": {
    "colab_type": "text",
    "id": "3mz8p08BsN6p"
   },
   "source": [
    "## Prepare - Bayes' Theorem and the Bayesian mindset"
   ]
  },
  {
   "cell_type": "markdown",
   "metadata": {
    "colab_type": "text",
    "id": "GhycNr-Sbeie"
   },
   "source": [
    "Bayes' theorem possesses a near-mythical quality - a bit of math that somehow magically evaluates a situation. But this mythicalness has more to do with its reputation and advanced applications than the actual core of it - deriving it is actually remarkably straightforward.\n",
    "\n",
    "### The Law of Total Probability\n",
    "\n",
    "By definition, the total probability of all outcomes (events) if some variable (event space) $A$ is 1. That is:\n",
    "\n",
    "$$P(A) = \\sum_n P(A_n) = 1$$\n",
    "\n",
    "The law of total probability takes this further, considering two variables ($A$ and $B$) and relating their marginal probabilities (their likelihoods considered independently, without reference to one another) and their conditional probabilities (their likelihoods considered jointly). A marginal probability is simply notated as e.g. $P(A)$, while a conditional probability is notated $P(A|B)$, which reads \"probability of $A$ *given* $B$\".\n",
    "\n",
    "The law of total probability states:\n",
    "\n",
    "$$P(A) = \\sum_n P(A | B_n) P(B_n)$$\n",
    "\n",
    "In words - the total probability of $A$ is equal to the sum of the conditional probability of $A$ on any given event $B_n$ times the probability of that event $B_n$, and summed over all possible events in $B$.\n",
    "\n",
    "### The Law of Conditional Probability\n",
    "\n",
    "What's the probability of something conditioned on something else? To determine this we have to go back to set theory and think about the intersection of sets:\n",
    "\n",
    "The formula for actual calculation:\n",
    "\n",
    "$$P(A|B) = \\frac{P(A \\cap B)}{P(B)}$$\n",
    "\n",
    "![Visualization of set intersection](https://upload.wikimedia.org/wikipedia/commons/9/99/Venn0001.svg)\n",
    "\n",
    "Think of the overall rectangle as the whole probability space, $A$ as the left circle, $B$ as the right circle, and their intersection as the red area. Try to visualize the ratio being described in the above formula, and how it is different from just the $P(A)$ (not conditioned on $B$).\n",
    "\n",
    "We can see how this relates back to the law of total probability - multiply both sides by $P(B)$ and you get $P(A|B)P(B) = P(A \\cap B)$ - replaced back into the law of total probability we get $P(A) = \\sum_n P(A \\cap B_n)$.\n",
    "\n",
    "This may not seem like an improvement at first, but try to relate it back to the above picture - if you think of sets as physical objects, we're saying that the total probability of $A$ given $B$ is all the little pieces of it intersected with $B$, added together. The conditional probability is then just that again, but divided by the probability of $B$ itself happening in the first place.\n",
    "\n",
    "### Bayes Theorem\n",
    "\n",
    "Here is is, the seemingly magic tool:\n",
    "\n",
    "$$P(A|B) = \\frac{P(B|A)P(A)}{P(B)}$$\n",
    "\n",
    "In words - the probability of $A$ conditioned on $B$ is the probability of $B$ conditioned on $A$, times the probability of $A$ and divided by the probability of $B$. These unconditioned probabilities are referred to as \"prior beliefs\", and the conditioned probabilities as \"updated.\"\n",
    "\n",
    "Why is this important? Scroll back up to the XKCD example - the Bayesian statistician draws a less absurd conclusion because their prior belief in the likelihood that the sun will go nova is extremely low. So, even when updated based on evidence from a detector that is $35/36 = 0.972$ accurate, the prior belief doesn't shift enough to change their overall opinion.\n",
    "\n",
    "There's many examples of Bayes' theorem - one less absurd example is to apply to [breathalyzer tests](https://www.bayestheorem.net/breathalyzer-example/). You may think that a breathalyzer test that is 100% accurate for true positives (detecting somebody who is drunk) is pretty good, but what if it also has 8% false positives (indicating somebody is drunk when they're not)? And furthermore, the rate of drunk driving (and thus our prior belief)  is 1/1000.\n",
    "\n",
    "What is the likelihood somebody really is drunk if they test positive? Some may guess it's 92% - the difference between the true positives and the false positives. But we have a prior belief of the background/true rate of drunk driving. Sounds like a job for Bayes' theorem!\n",
    "\n",
    "$$\n",
    "\\begin{aligned}\n",
    "P(Drunk | Positive) &= \\frac{P(Positive | Drunk)P(Drunk)}{P(Positive)} \\\\\n",
    "&= \\frac{1 \\times 0.001}{0.08} \\\\\n",
    "&= 0.0125\n",
    "\\end{aligned}\n",
    "$$\n",
    "\n",
    "In other words, the likelihood that somebody is drunk given they tested positive with a breathalyzer in this situation is only 1.25% - probably much lower than you'd guess. This is why, in practice, it's important to have a repeated test to confirm (the probability of two false positives in a row is $0.08 * 0.08 = 0.0064$, much lower), and Bayes' theorem has been relevant in court cases where proper consideration of evidence was important."
   ]
  },
  {
   "cell_type": "markdown",
   "metadata": {
    "colab_type": "text",
    "id": "htI3DGvDsRJF"
   },
   "source": [
    "## Live Lecture - Deriving Bayes' Theorem, Calculating Bayesian Confidence"
   ]
  },
  {
   "cell_type": "markdown",
   "metadata": {
    "colab_type": "text",
    "id": "moIJNQ-nbfe_"
   },
   "source": [
    "Notice that $P(A|B)$ appears in the above laws - in Bayesian terms, this is the belief in $A$ updated for the evidence $B$. So all we need to do is solve for this term to derive Bayes' theorem. Let's do it together!"
   ]
  },
  {
   "cell_type": "code",
   "execution_count": 0,
   "metadata": {
    "colab": {},
    "colab_type": "code",
    "id": "ke-5EqJI0Tsn"
   },
   "outputs": [],
   "source": [
    "# Activity 2 - Use SciPy to calculate Bayesian confidence intervals\n",
    "# https://docs.scipy.org/doc/scipy/reference/generated/scipy.stats.bayes_mvs.html#scipy.stats.bayes_mvs"
   ]
  },
  {
   "cell_type": "markdown",
   "metadata": {
    "colab_type": "text",
    "id": "P-DzzRk5bf0z"
   },
   "source": [
    "## Assignment - Code it up!\n",
    "\n",
    "Most of the above was pure math - now write Python code to reproduce the results! This is purposefully open ended - you'll have to think about how you should represent probabilities and events. You can and should look things up, and as a stretch goal - refactor your code into helpful reusable functions!\n",
    "\n",
    "Specific goals/targets:\n",
    "\n",
    "1. Write a function `def prob_drunk_given_positive(prob_drunk_prior, prob_positive, prob_positive_drunk)` that reproduces the example from lecture, and use it to calculate and visualize a range of situations\n",
    "2. Explore `scipy.stats.bayes_mvs` - read its documentation, and experiment with it on data you've tested in other ways earlier this week\n",
    "3. Create a visualization comparing the results of a Bayesian approach to a traditional/frequentist approach\n",
    "4. In your own words, summarize the difference between Bayesian and Frequentist statistics\n",
    "\n",
    "If you're unsure where to start, check out [this blog post of Bayes theorem with Python](https://dataconomy.com/2015/02/introduction-to-bayes-theorem-with-python/) - you could and should create something similar!\n",
    "\n",
    "Stretch goals:\n",
    "\n",
    "- Apply a Bayesian technique to a problem you previously worked (in an assignment or project work) on from a frequentist (standard) perspective\n",
    "- Check out [PyMC3](https://docs.pymc.io/) (note this goes beyond hypothesis tests into modeling) - read the guides and work through some examples\n",
    "- Take PyMC3 further - see if you can build something with it!"
   ]
  },
  {
   "cell_type": "code",
   "execution_count": 18,
   "metadata": {
    "colab": {},
    "colab_type": "code",
    "id": "xpVhZyUnbf7o"
   },
   "outputs": [
    {
     "data": {
      "text/plain": [
       "0.0125"
      ]
     },
     "execution_count": 18,
     "metadata": {},
     "output_type": "execute_result"
    }
   ],
   "source": [
    "def prob_drunk_given_positive(prob_drunk_prior, prob_positive, prob_false_positive_drunk):\n",
    "    return (prob_positive * prob_drunk_prior) / prob_false_positive_drunk\n",
    "\n",
    "prob_drunk_given_positive(1/1000, 1, .08)"
   ]
  },
  {
   "cell_type": "code",
   "execution_count": 19,
   "metadata": {},
   "outputs": [
    {
     "data": {
      "text/plain": [
       "0.3"
      ]
     },
     "execution_count": 19,
     "metadata": {},
     "output_type": "execute_result"
    }
   ],
   "source": [
    "prob_drunk_given_positive(1/250, 0.75, .01)"
   ]
  },
  {
   "cell_type": "markdown",
   "metadata": {},
   "source": [
    "## Scipy.stats.bayes_mvs"
   ]
  },
  {
   "cell_type": "markdown",
   "metadata": {},
   "source": [
    "### Importing, cleaning, and subsetting dataframe"
   ]
  },
  {
   "cell_type": "code",
   "execution_count": 21,
   "metadata": {},
   "outputs": [],
   "source": [
    "import pandas as pd"
   ]
  },
  {
   "cell_type": "code",
   "execution_count": 22,
   "metadata": {},
   "outputs": [
    {
     "data": {
      "text/plain": [
       "((168, 17), (267, 17))"
      ]
     },
     "execution_count": 22,
     "metadata": {},
     "output_type": "execute_result"
    }
   ],
   "source": [
    "url = 'https://archive.ics.uci.edu/ml/machine-learning-databases/voting-records/house-votes-84.data'\n",
    "\n",
    "df = pd.read_csv(url, header=None, names=['Party Name', 'Handicapped Infants', 'Water Project Cost Sharing',\n",
    "                                         'Adoption of the Budget Resolution', 'Physician Fee Freeze', \n",
    "                                          'El Salvador Aid', 'Religious Groups in Schools', \n",
    "                                          'Anti-Satellite Test Ban', 'Aid to Nicaragua', 'MX Missile', \n",
    "                                          'Immigration', 'Synfuels Corporation Cutback', 'Education Spending', \n",
    "                                          'Superfund Right to Sue', 'Crime', 'Duty Free Exports', \n",
    "                                          'Export Admin Act South Africa'])\n",
    "\n",
    "df.replace('n', 0, inplace=True)\n",
    "df.replace('y', 1, inplace=True)\n",
    "df.replace('?', 0, inplace=True)\n",
    "\n",
    "reps = df[ df['Party Name'] == 'republican' ]\n",
    "dems = df[ df['Party Name'] == 'democrat' ]\n",
    "\n",
    "reps.shape, dems.shape"
   ]
  },
  {
   "cell_type": "markdown",
   "metadata": {},
   "source": [
    "### Confidence Interval of Sample Means w/Frequentist Approach"
   ]
  },
  {
   "cell_type": "code",
   "execution_count": 69,
   "metadata": {},
   "outputs": [],
   "source": [
    "def confidence_interval(data, confidence=0.95):\n",
    "    '''\n",
    "    Calculate a confidence interval around a sample mean for given data.\n",
    "    Using t-distribution and two-tailed test, default 95% confidence.\n",
    "    \n",
    "    Arguments:\n",
    "        data - iterable (list or numpy array) of sample observations\n",
    "        confidence - level of confidence for internal\n",
    "      \n",
    "    Returns:\n",
    "        tuple of (mean, lower bound, upper bound)\n",
    "    '''\n",
    "    data = np.array(data)\n",
    "    mean = np.mean(data)\n",
    "    n = len(data)\n",
    "    stderr = stats.sem(data) # Calculate the standard error of the mean\n",
    "    interval = stderr * stats.t.ppf((1 + confidence) / 2., n -1) #Percent Point Function\n",
    "    return (mean, mean - interval, mean + interval)\n",
    "\n",
    "def create_interval_table(df):\n",
    "    '''\n",
    "    Accepts a dataframe and calculates confidence intervals \n",
    "    based on the mean of each column's sample data\n",
    "    \n",
    "    Arguments:\n",
    "        dataframe (skips first column)\n",
    "        \n",
    "    Returns:\n",
    "        Dictionary. Each column will be represented as follows:\n",
    "        'Column Name': [sample mean, upper 95% CI interval, lower 95% CI interval]\n",
    "    '''\n",
    "    from collections import OrderedDict\n",
    "    \n",
    "    interval_table = OrderedDict()\n",
    "    \n",
    "    # Determine mean, 95% CI lower bound, and 95% CI upper bound for each column\n",
    "    for column in df.columns.tolist()[1:]:\n",
    "        interval = confidence_interval( df[column].dropna() )\n",
    "        interval_table[column] = interval\n",
    "        \n",
    "    # Convert Ordered Dictionary to DataFrame\n",
    "    interval_frame = pd.DataFrame.from_dict(interval_table, orient='index', columns=['Sample Mean','Lower Bound (95% CI)','Upper Bound (95% CI)'])\n",
    "    \n",
    "    # Reset Index to be RangeIndex\n",
    "    interval_frame = interval_frame.reset_index().rename(columns={'index':'bill'})\n",
    "    \n",
    "    return interval_frame"
   ]
  },
  {
   "cell_type": "code",
   "execution_count": 70,
   "metadata": {},
   "outputs": [
    {
     "name": "stdout",
     "output_type": "stream",
     "text": [
      "Confidence Interval w/Frequentist Approach:\n"
     ]
    },
    {
     "data": {
      "text/html": [
       "<div>\n",
       "<style scoped>\n",
       "    .dataframe tbody tr th:only-of-type {\n",
       "        vertical-align: middle;\n",
       "    }\n",
       "\n",
       "    .dataframe tbody tr th {\n",
       "        vertical-align: top;\n",
       "    }\n",
       "\n",
       "    .dataframe thead th {\n",
       "        text-align: right;\n",
       "    }\n",
       "</style>\n",
       "<table border=\"1\" class=\"dataframe\">\n",
       "  <thead>\n",
       "    <tr style=\"text-align: right;\">\n",
       "      <th></th>\n",
       "      <th>bill</th>\n",
       "      <th>Sample Mean</th>\n",
       "      <th>Lower Bound (95% CI)</th>\n",
       "      <th>Upper Bound (95% CI)</th>\n",
       "    </tr>\n",
       "  </thead>\n",
       "  <tbody>\n",
       "    <tr>\n",
       "      <th>0</th>\n",
       "      <td>Handicapped Infants</td>\n",
       "      <td>0.184524</td>\n",
       "      <td>0.125261</td>\n",
       "      <td>0.243786</td>\n",
       "    </tr>\n",
       "    <tr>\n",
       "      <th>1</th>\n",
       "      <td>Water Project Cost Sharing</td>\n",
       "      <td>0.446429</td>\n",
       "      <td>0.370481</td>\n",
       "      <td>0.522376</td>\n",
       "    </tr>\n",
       "    <tr>\n",
       "      <th>2</th>\n",
       "      <td>Adoption of the Budget Resolution</td>\n",
       "      <td>0.130952</td>\n",
       "      <td>0.079414</td>\n",
       "      <td>0.182490</td>\n",
       "    </tr>\n",
       "    <tr>\n",
       "      <th>3</th>\n",
       "      <td>Physician Fee Freeze</td>\n",
       "      <td>0.970238</td>\n",
       "      <td>0.944277</td>\n",
       "      <td>0.996199</td>\n",
       "    </tr>\n",
       "    <tr>\n",
       "      <th>4</th>\n",
       "      <td>El Salvador Aid</td>\n",
       "      <td>0.934524</td>\n",
       "      <td>0.896733</td>\n",
       "      <td>0.972315</td>\n",
       "    </tr>\n",
       "    <tr>\n",
       "      <th>5</th>\n",
       "      <td>Religious Groups in Schools</td>\n",
       "      <td>0.886905</td>\n",
       "      <td>0.838520</td>\n",
       "      <td>0.935290</td>\n",
       "    </tr>\n",
       "    <tr>\n",
       "      <th>6</th>\n",
       "      <td>Anti-Satellite Test Ban</td>\n",
       "      <td>0.232143</td>\n",
       "      <td>0.167642</td>\n",
       "      <td>0.296644</td>\n",
       "    </tr>\n",
       "    <tr>\n",
       "      <th>7</th>\n",
       "      <td>Aid to Nicaragua</td>\n",
       "      <td>0.142857</td>\n",
       "      <td>0.089397</td>\n",
       "      <td>0.196317</td>\n",
       "    </tr>\n",
       "    <tr>\n",
       "      <th>8</th>\n",
       "      <td>MX Missile</td>\n",
       "      <td>0.113095</td>\n",
       "      <td>0.064710</td>\n",
       "      <td>0.161480</td>\n",
       "    </tr>\n",
       "    <tr>\n",
       "      <th>9</th>\n",
       "      <td>Immigration</td>\n",
       "      <td>0.547619</td>\n",
       "      <td>0.471579</td>\n",
       "      <td>0.623659</td>\n",
       "    </tr>\n",
       "    <tr>\n",
       "      <th>10</th>\n",
       "      <td>Synfuels Corporation Cutback</td>\n",
       "      <td>0.125000</td>\n",
       "      <td>0.074475</td>\n",
       "      <td>0.175525</td>\n",
       "    </tr>\n",
       "    <tr>\n",
       "      <th>11</th>\n",
       "      <td>Education Spending</td>\n",
       "      <td>0.803571</td>\n",
       "      <td>0.742875</td>\n",
       "      <td>0.864268</td>\n",
       "    </tr>\n",
       "    <tr>\n",
       "      <th>12</th>\n",
       "      <td>Superfund Right to Sue</td>\n",
       "      <td>0.809524</td>\n",
       "      <td>0.749533</td>\n",
       "      <td>0.869514</td>\n",
       "    </tr>\n",
       "    <tr>\n",
       "      <th>13</th>\n",
       "      <td>Crime</td>\n",
       "      <td>0.940476</td>\n",
       "      <td>0.904330</td>\n",
       "      <td>0.976623</td>\n",
       "    </tr>\n",
       "    <tr>\n",
       "      <th>14</th>\n",
       "      <td>Duty Free Exports</td>\n",
       "      <td>0.083333</td>\n",
       "      <td>0.041109</td>\n",
       "      <td>0.125558</td>\n",
       "    </tr>\n",
       "    <tr>\n",
       "      <th>15</th>\n",
       "      <td>Export Admin Act South Africa</td>\n",
       "      <td>0.571429</td>\n",
       "      <td>0.495825</td>\n",
       "      <td>0.647032</td>\n",
       "    </tr>\n",
       "  </tbody>\n",
       "</table>\n",
       "</div>"
      ],
      "text/plain": [
       "                                 bill  Sample Mean  Lower Bound (95% CI)  \\\n",
       "0                 Handicapped Infants     0.184524              0.125261   \n",
       "1          Water Project Cost Sharing     0.446429              0.370481   \n",
       "2   Adoption of the Budget Resolution     0.130952              0.079414   \n",
       "3                Physician Fee Freeze     0.970238              0.944277   \n",
       "4                     El Salvador Aid     0.934524              0.896733   \n",
       "5         Religious Groups in Schools     0.886905              0.838520   \n",
       "6             Anti-Satellite Test Ban     0.232143              0.167642   \n",
       "7                    Aid to Nicaragua     0.142857              0.089397   \n",
       "8                          MX Missile     0.113095              0.064710   \n",
       "9                         Immigration     0.547619              0.471579   \n",
       "10       Synfuels Corporation Cutback     0.125000              0.074475   \n",
       "11                 Education Spending     0.803571              0.742875   \n",
       "12             Superfund Right to Sue     0.809524              0.749533   \n",
       "13                              Crime     0.940476              0.904330   \n",
       "14                  Duty Free Exports     0.083333              0.041109   \n",
       "15      Export Admin Act South Africa     0.571429              0.495825   \n",
       "\n",
       "    Upper Bound (95% CI)  \n",
       "0               0.243786  \n",
       "1               0.522376  \n",
       "2               0.182490  \n",
       "3               0.996199  \n",
       "4               0.972315  \n",
       "5               0.935290  \n",
       "6               0.296644  \n",
       "7               0.196317  \n",
       "8               0.161480  \n",
       "9               0.623659  \n",
       "10              0.175525  \n",
       "11              0.864268  \n",
       "12              0.869514  \n",
       "13              0.976623  \n",
       "14              0.125558  \n",
       "15              0.647032  "
      ]
     },
     "execution_count": 70,
     "metadata": {},
     "output_type": "execute_result"
    }
   ],
   "source": [
    "reps_intervals = create_interval_table(reps)\n",
    "print('Confidence Interval w/Frequentist Approach:')\n",
    "reps_intervals"
   ]
  },
  {
   "cell_type": "code",
   "execution_count": 71,
   "metadata": {},
   "outputs": [],
   "source": [
    "dems_intervals = create_interval_table(dems)"
   ]
  },
  {
   "cell_type": "markdown",
   "metadata": {},
   "source": [
    "### Confidence Interval of the sample mean w/Bayes Approach"
   ]
  },
  {
   "cell_type": "code",
   "execution_count": 29,
   "metadata": {},
   "outputs": [],
   "source": [
    "from scipy import stats"
   ]
  },
  {
   "cell_type": "code",
   "execution_count": 66,
   "metadata": {},
   "outputs": [
    {
     "name": "stdout",
     "output_type": "stream",
     "text": [
      "Confidence Interval of the sample mean w/Bayes Approach:\n"
     ]
    },
    {
     "data": {
      "text/html": [
       "<div>\n",
       "<style scoped>\n",
       "    .dataframe tbody tr th:only-of-type {\n",
       "        vertical-align: middle;\n",
       "    }\n",
       "\n",
       "    .dataframe tbody tr th {\n",
       "        vertical-align: top;\n",
       "    }\n",
       "\n",
       "    .dataframe thead th {\n",
       "        text-align: right;\n",
       "    }\n",
       "</style>\n",
       "<table border=\"1\" class=\"dataframe\">\n",
       "  <thead>\n",
       "    <tr style=\"text-align: right;\">\n",
       "      <th></th>\n",
       "      <th>Sample Mean</th>\n",
       "      <th>Lower Bound (95% CI)</th>\n",
       "      <th>Upper Bound (95% CI)</th>\n",
       "    </tr>\n",
       "  </thead>\n",
       "  <tbody>\n",
       "    <tr>\n",
       "      <th>Handicapped Infants</th>\n",
       "      <td>0.184524</td>\n",
       "      <td>0.125261</td>\n",
       "      <td>0.243786</td>\n",
       "    </tr>\n",
       "    <tr>\n",
       "      <th>Water Project Cost Sharing</th>\n",
       "      <td>0.446429</td>\n",
       "      <td>0.370481</td>\n",
       "      <td>0.522376</td>\n",
       "    </tr>\n",
       "    <tr>\n",
       "      <th>Adoption of the Budget Resolution</th>\n",
       "      <td>0.130952</td>\n",
       "      <td>0.079414</td>\n",
       "      <td>0.182490</td>\n",
       "    </tr>\n",
       "    <tr>\n",
       "      <th>Physician Fee Freeze</th>\n",
       "      <td>0.970238</td>\n",
       "      <td>0.944277</td>\n",
       "      <td>0.996199</td>\n",
       "    </tr>\n",
       "    <tr>\n",
       "      <th>El Salvador Aid</th>\n",
       "      <td>0.934524</td>\n",
       "      <td>0.896733</td>\n",
       "      <td>0.972315</td>\n",
       "    </tr>\n",
       "  </tbody>\n",
       "</table>\n",
       "</div>"
      ],
      "text/plain": [
       "                                   Sample Mean  Lower Bound (95% CI)  \\\n",
       "Handicapped Infants                   0.184524              0.125261   \n",
       "Water Project Cost Sharing            0.446429              0.370481   \n",
       "Adoption of the Budget Resolution     0.130952              0.079414   \n",
       "Physician Fee Freeze                  0.970238              0.944277   \n",
       "El Salvador Aid                       0.934524              0.896733   \n",
       "\n",
       "                                   Upper Bound (95% CI)  \n",
       "Handicapped Infants                            0.243786  \n",
       "Water Project Cost Sharing                     0.522376  \n",
       "Adoption of the Budget Resolution              0.182490  \n",
       "Physician Fee Freeze                           0.996199  \n",
       "El Salvador Aid                                0.972315  "
      ]
     },
     "execution_count": 66,
     "metadata": {},
     "output_type": "execute_result"
    }
   ],
   "source": [
    "def create_interval_table_bayes(df, threshold=0.95):\n",
    "    data = {}\n",
    "    for column in df.columns.tolist()[1:]:\n",
    "        sample_mean, _, _ = stats.bayes_mvs(df[column], alpha=threshold)\n",
    "        stat, mm = sample_mean\n",
    "        min, max = mm\n",
    "        data.update({column: [stat, min, max]})\n",
    "    interval_frame = pd.DataFrame.from_dict(data, orient='index', columns=['Sample Mean','Lower Bound (95% CI)','Upper Bound (95% CI)'])\n",
    "    return interval_frame\n",
    "\n",
    "print('Confidence Interval of the sample mean w/Bayes Approach:')\n",
    "reps_bayes = create_interval_table_bayes(reps, threshold=0.95)\n",
    "reps_bayes.head()"
   ]
  },
  {
   "cell_type": "code",
   "execution_count": 73,
   "metadata": {},
   "outputs": [
    {
     "data": {
      "text/html": [
       "<div>\n",
       "<style scoped>\n",
       "    .dataframe tbody tr th:only-of-type {\n",
       "        vertical-align: middle;\n",
       "    }\n",
       "\n",
       "    .dataframe tbody tr th {\n",
       "        vertical-align: top;\n",
       "    }\n",
       "\n",
       "    .dataframe thead th {\n",
       "        text-align: right;\n",
       "    }\n",
       "</style>\n",
       "<table border=\"1\" class=\"dataframe\">\n",
       "  <thead>\n",
       "    <tr style=\"text-align: right;\">\n",
       "      <th></th>\n",
       "      <th>Sample Mean</th>\n",
       "      <th>Lower Bound (95% CI)</th>\n",
       "      <th>Upper Bound (95% CI)</th>\n",
       "    </tr>\n",
       "    <tr>\n",
       "      <th>bill</th>\n",
       "      <th></th>\n",
       "      <th></th>\n",
       "      <th></th>\n",
       "    </tr>\n",
       "  </thead>\n",
       "  <tbody>\n",
       "    <tr>\n",
       "      <th>Handicapped Infants</th>\n",
       "      <td>0.184524</td>\n",
       "      <td>0.125261</td>\n",
       "      <td>0.243786</td>\n",
       "    </tr>\n",
       "    <tr>\n",
       "      <th>Water Project Cost Sharing</th>\n",
       "      <td>0.446429</td>\n",
       "      <td>0.370481</td>\n",
       "      <td>0.522376</td>\n",
       "    </tr>\n",
       "    <tr>\n",
       "      <th>Adoption of the Budget Resolution</th>\n",
       "      <td>0.130952</td>\n",
       "      <td>0.079414</td>\n",
       "      <td>0.182490</td>\n",
       "    </tr>\n",
       "    <tr>\n",
       "      <th>Physician Fee Freeze</th>\n",
       "      <td>0.970238</td>\n",
       "      <td>0.944277</td>\n",
       "      <td>0.996199</td>\n",
       "    </tr>\n",
       "    <tr>\n",
       "      <th>El Salvador Aid</th>\n",
       "      <td>0.934524</td>\n",
       "      <td>0.896733</td>\n",
       "      <td>0.972315</td>\n",
       "    </tr>\n",
       "  </tbody>\n",
       "</table>\n",
       "</div>"
      ],
      "text/plain": [
       "                                   Sample Mean  Lower Bound (95% CI)  \\\n",
       "bill                                                                   \n",
       "Handicapped Infants                   0.184524              0.125261   \n",
       "Water Project Cost Sharing            0.446429              0.370481   \n",
       "Adoption of the Budget Resolution     0.130952              0.079414   \n",
       "Physician Fee Freeze                  0.970238              0.944277   \n",
       "El Salvador Aid                       0.934524              0.896733   \n",
       "\n",
       "                                   Upper Bound (95% CI)  \n",
       "bill                                                     \n",
       "Handicapped Infants                            0.243786  \n",
       "Water Project Cost Sharing                     0.522376  \n",
       "Adoption of the Budget Resolution              0.182490  \n",
       "Physician Fee Freeze                           0.996199  \n",
       "El Salvador Aid                                0.972315  "
      ]
     },
     "execution_count": 73,
     "metadata": {},
     "output_type": "execute_result"
    }
   ],
   "source": [
    "reps_frequentist = reps_intervals.set_index('bill')\n",
    "reps_frequentist.head(5)"
   ]
  },
  {
   "cell_type": "code",
   "execution_count": 75,
   "metadata": {},
   "outputs": [
    {
     "name": "stdout",
     "output_type": "stream",
     "text": [
      "Difference between the two approaches on this dataset:\n"
     ]
    },
    {
     "data": {
      "text/html": [
       "<div>\n",
       "<style scoped>\n",
       "    .dataframe tbody tr th:only-of-type {\n",
       "        vertical-align: middle;\n",
       "    }\n",
       "\n",
       "    .dataframe tbody tr th {\n",
       "        vertical-align: top;\n",
       "    }\n",
       "\n",
       "    .dataframe thead th {\n",
       "        text-align: right;\n",
       "    }\n",
       "</style>\n",
       "<table border=\"1\" class=\"dataframe\">\n",
       "  <thead>\n",
       "    <tr style=\"text-align: right;\">\n",
       "      <th></th>\n",
       "      <th>Sample Mean</th>\n",
       "      <th>Lower Bound (95% CI)</th>\n",
       "      <th>Upper Bound (95% CI)</th>\n",
       "    </tr>\n",
       "    <tr>\n",
       "      <th>bill</th>\n",
       "      <th></th>\n",
       "      <th></th>\n",
       "      <th></th>\n",
       "    </tr>\n",
       "  </thead>\n",
       "  <tbody>\n",
       "    <tr>\n",
       "      <th>Handicapped Infants</th>\n",
       "      <td>0.0</td>\n",
       "      <td>0.000000e+00</td>\n",
       "      <td>0.0</td>\n",
       "    </tr>\n",
       "    <tr>\n",
       "      <th>Water Project Cost Sharing</th>\n",
       "      <td>0.0</td>\n",
       "      <td>5.551115e-17</td>\n",
       "      <td>0.0</td>\n",
       "    </tr>\n",
       "    <tr>\n",
       "      <th>Adoption of the Budget Resolution</th>\n",
       "      <td>0.0</td>\n",
       "      <td>0.000000e+00</td>\n",
       "      <td>0.0</td>\n",
       "    </tr>\n",
       "    <tr>\n",
       "      <th>Physician Fee Freeze</th>\n",
       "      <td>0.0</td>\n",
       "      <td>0.000000e+00</td>\n",
       "      <td>0.0</td>\n",
       "    </tr>\n",
       "    <tr>\n",
       "      <th>El Salvador Aid</th>\n",
       "      <td>0.0</td>\n",
       "      <td>0.000000e+00</td>\n",
       "      <td>0.0</td>\n",
       "    </tr>\n",
       "    <tr>\n",
       "      <th>Religious Groups in Schools</th>\n",
       "      <td>0.0</td>\n",
       "      <td>0.000000e+00</td>\n",
       "      <td>0.0</td>\n",
       "    </tr>\n",
       "    <tr>\n",
       "      <th>Anti-Satellite Test Ban</th>\n",
       "      <td>0.0</td>\n",
       "      <td>0.000000e+00</td>\n",
       "      <td>0.0</td>\n",
       "    </tr>\n",
       "    <tr>\n",
       "      <th>Aid to Nicaragua</th>\n",
       "      <td>0.0</td>\n",
       "      <td>0.000000e+00</td>\n",
       "      <td>0.0</td>\n",
       "    </tr>\n",
       "    <tr>\n",
       "      <th>MX Missile</th>\n",
       "      <td>0.0</td>\n",
       "      <td>-1.387779e-17</td>\n",
       "      <td>0.0</td>\n",
       "    </tr>\n",
       "    <tr>\n",
       "      <th>Immigration</th>\n",
       "      <td>0.0</td>\n",
       "      <td>0.000000e+00</td>\n",
       "      <td>0.0</td>\n",
       "    </tr>\n",
       "    <tr>\n",
       "      <th>Synfuels Corporation Cutback</th>\n",
       "      <td>0.0</td>\n",
       "      <td>0.000000e+00</td>\n",
       "      <td>0.0</td>\n",
       "    </tr>\n",
       "    <tr>\n",
       "      <th>Education Spending</th>\n",
       "      <td>0.0</td>\n",
       "      <td>0.000000e+00</td>\n",
       "      <td>0.0</td>\n",
       "    </tr>\n",
       "    <tr>\n",
       "      <th>Superfund Right to Sue</th>\n",
       "      <td>0.0</td>\n",
       "      <td>0.000000e+00</td>\n",
       "      <td>0.0</td>\n",
       "    </tr>\n",
       "    <tr>\n",
       "      <th>Crime</th>\n",
       "      <td>0.0</td>\n",
       "      <td>0.000000e+00</td>\n",
       "      <td>0.0</td>\n",
       "    </tr>\n",
       "    <tr>\n",
       "      <th>Duty Free Exports</th>\n",
       "      <td>0.0</td>\n",
       "      <td>0.000000e+00</td>\n",
       "      <td>0.0</td>\n",
       "    </tr>\n",
       "    <tr>\n",
       "      <th>Export Admin Act South Africa</th>\n",
       "      <td>0.0</td>\n",
       "      <td>0.000000e+00</td>\n",
       "      <td>0.0</td>\n",
       "    </tr>\n",
       "  </tbody>\n",
       "</table>\n",
       "</div>"
      ],
      "text/plain": [
       "                                   Sample Mean  Lower Bound (95% CI)  \\\n",
       "bill                                                                   \n",
       "Handicapped Infants                        0.0          0.000000e+00   \n",
       "Water Project Cost Sharing                 0.0          5.551115e-17   \n",
       "Adoption of the Budget Resolution          0.0          0.000000e+00   \n",
       "Physician Fee Freeze                       0.0          0.000000e+00   \n",
       "El Salvador Aid                            0.0          0.000000e+00   \n",
       "Religious Groups in Schools                0.0          0.000000e+00   \n",
       "Anti-Satellite Test Ban                    0.0          0.000000e+00   \n",
       "Aid to Nicaragua                           0.0          0.000000e+00   \n",
       "MX Missile                                 0.0         -1.387779e-17   \n",
       "Immigration                                0.0          0.000000e+00   \n",
       "Synfuels Corporation Cutback               0.0          0.000000e+00   \n",
       "Education Spending                         0.0          0.000000e+00   \n",
       "Superfund Right to Sue                     0.0          0.000000e+00   \n",
       "Crime                                      0.0          0.000000e+00   \n",
       "Duty Free Exports                          0.0          0.000000e+00   \n",
       "Export Admin Act South Africa              0.0          0.000000e+00   \n",
       "\n",
       "                                   Upper Bound (95% CI)  \n",
       "bill                                                     \n",
       "Handicapped Infants                                 0.0  \n",
       "Water Project Cost Sharing                          0.0  \n",
       "Adoption of the Budget Resolution                   0.0  \n",
       "Physician Fee Freeze                                0.0  \n",
       "El Salvador Aid                                     0.0  \n",
       "Religious Groups in Schools                         0.0  \n",
       "Anti-Satellite Test Ban                             0.0  \n",
       "Aid to Nicaragua                                    0.0  \n",
       "MX Missile                                          0.0  \n",
       "Immigration                                         0.0  \n",
       "Synfuels Corporation Cutback                        0.0  \n",
       "Education Spending                                  0.0  \n",
       "Superfund Right to Sue                              0.0  \n",
       "Crime                                               0.0  \n",
       "Duty Free Exports                                   0.0  \n",
       "Export Admin Act South Africa                       0.0  "
      ]
     },
     "execution_count": 75,
     "metadata": {},
     "output_type": "execute_result"
    }
   ],
   "source": [
    "print('Difference between the two approaches on this dataset:')\n",
    "reps_frequentist - reps_bayes"
   ]
  },
  {
   "cell_type": "markdown",
   "metadata": {},
   "source": [
    "### Summarizing differences between a frequentist and Bayes approach\n",
    "\n",
    "Frequentist approaches rely predominantly on determing probabilities based on the observed frequencies in population and sample data. Whereas Bayes approaches seek to incorporate prior knowledge to inform the expect probabilties. Moreover, Bayes approaches seeks to iteratively update probabilties as new information is gained. "
   ]
  },
  {
   "cell_type": "markdown",
   "metadata": {
    "colab_type": "text",
    "id": "uWgWjp3PQ3Sq"
   },
   "source": [
    "## Resources"
   ]
  },
  {
   "cell_type": "markdown",
   "metadata": {
    "colab_type": "text",
    "id": "QRgHqmYIQ9qn"
   },
   "source": [
    "- [Worked example of Bayes rule calculation](https://en.wikipedia.org/wiki/Bayes'_theorem#Examples) (helpful as it fully breaks out the denominator)\n",
    "- [Source code for mvsdist in scipy](https://github.com/scipy/scipy/blob/90534919e139d2a81c24bf08341734ff41a3db12/scipy/stats/morestats.py#L139)"
   ]
  }
 ],
 "metadata": {
  "colab": {
   "name": "LS_DS_143_Introduction_to_Bayesian_Inference.ipynb",
   "provenance": [],
   "version": "0.3.2"
  },
  "kernelspec": {
   "display_name": "Python 3",
   "language": "python",
   "name": "python3"
  },
  "language_info": {
   "codemirror_mode": {
    "name": "ipython",
    "version": 3
   },
   "file_extension": ".py",
   "mimetype": "text/x-python",
   "name": "python",
   "nbconvert_exporter": "python",
   "pygments_lexer": "ipython3",
   "version": "3.6.8"
  }
 },
 "nbformat": 4,
 "nbformat_minor": 1
}
