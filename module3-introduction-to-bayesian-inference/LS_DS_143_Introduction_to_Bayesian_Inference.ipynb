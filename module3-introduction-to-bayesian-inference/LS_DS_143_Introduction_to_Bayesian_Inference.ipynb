{
  "nbformat": 4,
  "nbformat_minor": 0,
  "metadata": {
    "colab": {
      "name": "LS_DS_143_Introduction_to_Bayesian_Inference.ipynb",
      "version": "0.3.2",
      "provenance": []
    },
    "kernelspec": {
      "name": "python3",
      "display_name": "Python 3"
    }
  },
  "cells": [
    {
      "cell_type": "markdown",
      "metadata": {
        "id": "H7OLbevlbd_Z",
        "colab_type": "text"
      },
      "source": [
        "# Lambda School Data Science Module 143\n",
        "\n",
        "## Introduction to Bayesian Inference\n",
        "\n",
        "!['Detector! What would the Bayesian statistician say if I asked him whether the--' [roll] 'I AM A NEUTRINO DETECTOR, NOT A LABYRINTH GUARD. SERIOUSLY, DID YOUR BRAIN FALL OUT?' [roll] '... yes.'](https://imgs.xkcd.com/comics/frequentists_vs_bayesians.png)\n",
        "\n",
        "*[XKCD 1132](https://www.xkcd.com/1132/)*\n"
      ]
    },
    {
      "cell_type": "markdown",
      "metadata": {
        "id": "3mz8p08BsN6p",
        "colab_type": "text"
      },
      "source": [
        "## Prepare - Bayes' Theorem and the Bayesian mindset"
      ]
    },
    {
      "cell_type": "markdown",
      "metadata": {
        "id": "GhycNr-Sbeie",
        "colab_type": "text"
      },
      "source": [
        "Bayes' theorem possesses a near-mythical quality - a bit of math that somehow magically evaluates a situation. But this mythicalness has more to do with its reputation and advanced applications than the actual core of it - deriving it is actually remarkably straightforward.\n",
        "\n",
        "### The Law of Total Probability\n",
        "\n",
        "By definition, the total probability of all outcomes (events) if some variable (event space) $A$ is 1. That is:\n",
        "\n",
        "$$P(A) = \\sum_n P(A_n) = 1$$\n",
        "\n",
        "The law of total probability takes this further, considering two variables ($A$ and $B$) and relating their marginal probabilities (their likelihoods considered independently, without reference to one another) and their conditional probabilities (their likelihoods considered jointly). A marginal probability is simply notated as e.g. $P(A)$, while a conditional probability is notated $P(A|B)$, which reads \"probability of $A$ *given* $B$\".\n",
        "\n",
        "The law of total probability states:\n",
        "\n",
        "$$P(A) = \\sum_n P(A | B_n) P(B_n)$$\n",
        "\n",
        "In words - the total probability of $A$ is equal to the sum of the conditional probability of $A$ on any given event $B_n$ times the probability of that event $B_n$, and summed over all possible events in $B$.\n",
        "\n",
        "### The Law of Conditional Probability\n",
        "\n",
        "What's the probability of something conditioned on something else? To determine this we have to go back to set theory and think about the intersection of sets:\n",
        "\n",
        "The formula for actual calculation:\n",
        "\n",
        "$$P(A|B) = \\frac{P(A \\cap B)}{P(B)}$$\n",
        "\n",
        "![Visualization of set intersection](https://upload.wikimedia.org/wikipedia/commons/9/99/Venn0001.svg)\n",
        "\n",
        "Think of the overall rectangle as the whole probability space, $A$ as the left circle, $B$ as the right circle, and their intersection as the red area. Try to visualize the ratio being described in the above formula, and how it is different from just the $P(A)$ (not conditioned on $B$).\n",
        "\n",
        "We can see how this relates back to the law of total probability - multiply both sides by $P(B)$ and you get $P(A|B)P(B) = P(A \\cap B)$ - replaced back into the law of total probability we get $P(A) = \\sum_n P(A \\cap B_n)$.\n",
        "\n",
        "This may not seem like an improvement at first, but try to relate it back to the above picture - if you think of sets as physical objects, we're saying that the total probability of $A$ given $B$ is all the little pieces of it intersected with $B$, added together. The conditional probability is then just that again, but divided by the probability of $B$ itself happening in the first place.\n",
        "\n",
        "### Bayes Theorem\n",
        "\n",
        "Here is is, the seemingly magic tool:\n",
        "\n",
        "$$P(A|B) = \\frac{P(B|A)P(A)}{P(B)}$$\n",
        "\n",
        "In words - the probability of $A$ conditioned on $B$ is the probability of $B$ conditioned on $A$, times the probability of $A$ and divided by the probability of $B$. These unconditioned probabilities are referred to as \"prior beliefs\", and the conditioned probabilities as \"updated.\"\n",
        "\n",
        "Why is this important? Scroll back up to the XKCD example - the Bayesian statistician draws a less absurd conclusion because their prior belief in the likelihood that the sun will go nova is extremely low. So, even when updated based on evidence from a detector that is $35/36 = 0.972$ accurate, the prior belief doesn't shift enough to change their overall opinion.\n",
        "\n",
        "There's many examples of Bayes' theorem - one less absurd example is to apply to [breathalyzer tests](https://www.bayestheorem.net/breathalyzer-example/). You may think that a breathalyzer test that is 100% accurate for true positives (detecting somebody who is drunk) is pretty good, but what if it also has 8% false positives (indicating somebody is drunk when they're not)? And furthermore, the rate of drunk driving (and thus our prior belief)  is 1/1000.\n",
        "\n",
        "What is the likelihood somebody really is drunk if they test positive? Some may guess it's 92% - the difference between the true positives and the false positives. But we have a prior belief of the background/true rate of drunk driving. Sounds like a job for Bayes' theorem!\n",
        "\n",
        "$$\n",
        "\\begin{aligned}\n",
        "P(Drunk | Positive) &= \\frac{P(Positive | Drunk)P(Drunk)}{P(Positive)} \\\\\n",
        "&= \\frac{1 \\times 0.001}{0.08} \\\\\n",
        "&= 0.0125\n",
        "\\end{aligned}\n",
        "$$\n",
        "\n",
        "In other words, the likelihood that somebody is drunk given they tested positive with a breathalyzer in this situation is only 1.25% - probably much lower than you'd guess. This is why, in practice, it's important to have a repeated test to confirm (the probability of two false positives in a row is $0.08 * 0.08 = 0.0064$, much lower), and Bayes' theorem has been relevant in court cases where proper consideration of evidence was important."
      ]
    },
    {
      "cell_type": "markdown",
      "metadata": {
        "id": "htI3DGvDsRJF",
        "colab_type": "text"
      },
      "source": [
        "## Live Lecture - Deriving Bayes' Theorem, Calculating Bayesian Confidence"
      ]
    },
    {
      "cell_type": "markdown",
      "metadata": {
        "id": "moIJNQ-nbfe_",
        "colab_type": "text"
      },
      "source": [
        "Notice that $P(A|B)$ appears in the above laws - in Bayesian terms, this is the belief in $A$ updated for the evidence $B$. So all we need to do is solve for this term to derive Bayes' theorem. Let's do it together!"
      ]
    },
    {
      "cell_type": "code",
      "metadata": {
        "id": "ke-5EqJI0Tsn",
        "colab_type": "code",
        "colab": {}
      },
      "source": [
        "# Activity 2 - Use SciPy to calculate Bayesian confidence intervals\n",
        "# https://docs.scipy.org/doc/scipy/reference/generated/scipy.stats.bayes_mvs.html#scipy.stats.bayes_mvs"
      ],
      "execution_count": 0,
      "outputs": []
    },
    {
      "cell_type": "markdown",
      "metadata": {
        "id": "P-DzzRk5bf0z",
        "colab_type": "text"
      },
      "source": [
        "## Assignment - Code it up!\n",
        "\n",
        "Most of the above was pure math - now write Python code to reproduce the results! This is purposefully open ended - you'll have to think about how you should represent probabilities and events. You can and should look things up, and as a stretch goal - refactor your code into helpful reusable functions!\n",
        "\n",
        "Specific goals/targets:\n",
        "\n",
        "1. Write a function `def prob_drunk_given_positive(prob_drunk_prior, prob_positive, prob_positive_drunk)` that reproduces the example from lecture, and use it to calculate and visualize a range of situations\n",
        "2. Explore `scipy.stats.bayes_mvs` - read its documentation, and experiment with it on data you've tested in other ways earlier this week\n",
        "3. Create a visualization comparing the results of a Bayesian approach to a traditional/frequentist approach\n",
        "4. In your own words, summarize the difference between Bayesian and Frequentist statistics\n",
        "\n",
        "If you're unsure where to start, check out [this blog post of Bayes theorem with Python](https://dataconomy.com/2015/02/introduction-to-bayes-theorem-with-python/) - you could and should create something similar!\n",
        "\n",
        "Stretch goals:\n",
        "\n",
        "- Apply a Bayesian technique to a problem you previously worked (in an assignment or project work) on from a frequentist (standard) perspective\n",
        "- Check out [PyMC3](https://docs.pymc.io/) (note this goes beyond hypothesis tests into modeling) - read the guides and work through some examples\n",
        "- Take PyMC3 further - see if you can build something with it!"
      ]
    },
    {
      "cell_type": "code",
      "metadata": {
        "id": "xpVhZyUnbf7o",
        "colab_type": "code",
        "colab": {
          "base_uri": "https://localhost:8080/",
          "height": 338
        },
        "outputId": "ef1c47f0-af70-4b01-a919-6f56718d44b2"
      },
      "source": [
        "from scipy import stats\n",
        "import numpy as np\n",
        "import seaborn as sns\n",
        "import matplotlib.pyplot as plt\n",
        "\n",
        "def prob_drunk_given_positive(prob_drunk_prior,\n",
        "                              prob_positive, prob_positive_drunk):\n",
        "  \n",
        "  den = prob_positive_drunk * prob_drunk_prior + prob_positive *(1-prob_drunk_prior)\n",
        "  return ((prob_positive_drunk*prob_drunk_prior)/den)\n",
        "\n",
        "\n",
        "print(prob_drunk_given_positive(.001,.08,1))\n",
        "\n",
        "\n",
        "#Gives probability of true positive after repeated positive breath tests\n",
        "def repeat_breath(n, \n",
        "                  prob_drunk_prior, \n",
        "                  prob_positive, \n",
        "                  prob_positive_drunk):\n",
        "  \n",
        "  prior = prob_drunk_prior\n",
        "  \n",
        "  for i in range(0,n):\n",
        "    prior = prob_drunk_given_positive(prior,\n",
        "                              prob_positive, prob_positive_drunk)\n",
        "    \n",
        "  return prior\n",
        "\n",
        "print(repeat_breath(7,.001,.08,1))\n",
        "\n",
        "def naive_freq(prob_positive, prob_positive_drunk):\n",
        "  return prob_positive_drunk - prob_positive\n",
        "\n",
        "x=np.arange(0.0,.2,.001)\n",
        "y=[]\n",
        "for prior in x:\n",
        "  y.append(prob_drunk_given_positive(prior,.08,1))\n",
        "\n",
        "sns.lineplot(x,y)\n",
        "plt.xlabel(\"Prior for being drunk\")\n",
        "plt.ylabel(\"Probability of true positive\")\n",
        "plt.ylim(0,1)"
      ],
      "execution_count": 50,
      "outputs": [
        {
          "output_type": "stream",
          "text": [
            "0.012357884330202669\n",
            "0.9999790498904363\n"
          ],
          "name": "stdout"
        },
        {
          "output_type": "execute_result",
          "data": {
            "text/plain": [
              "(0, 1)"
            ]
          },
          "metadata": {
            "tags": []
          },
          "execution_count": 50
        },
        {
          "output_type": "display_data",
          "data": {
            "image/png": "[encoded data removed]",
            "text/plain": [
              "<Figure size 432x288 with 1 Axes>"
            ]
          },
          "metadata": {
            "tags": []
          }
        }
      ]
    },
    {
      "cell_type": "code",
      "metadata": {
        "id": "FDNPTpiRLuk8",
        "colab_type": "code",
        "colab": {
          "base_uri": "https://localhost:8080/",
          "height": 313
        },
        "outputId": "bfbf4087-5ded-4554-8114-53ca3cb91f68"
      },
      "source": [
        "x=np.arange(0.0,.2,.01)\n",
        "y=[]\n",
        "for fp in x:\n",
        "  y.append(prob_drunk_given_positive(.001,fp,1))\n",
        "\n",
        "sns.lineplot(x,y)\n",
        "plt.xlabel(\"False positive rate\")\n",
        "plt.ylabel(\"Probability of true positive\")\n",
        "plt.title(\"Bayesian\")"
      ],
      "execution_count": 47,
      "outputs": [
        {
          "output_type": "execute_result",
          "data": {
            "text/plain": [
              "Text(0.5, 1.0, 'Bayesian')"
            ]
          },
          "metadata": {
            "tags": []
          },
          "execution_count": 47
        },
        {
          "output_type": "display_data",
          "data": {
            "image/png": "[encoded data removed]",
            "text/plain": [
              "<Figure size 432x288 with 1 Axes>"
            ]
          },
          "metadata": {
            "tags": []
          }
        }
      ]
    },
    {
      "cell_type": "code",
      "metadata": {
        "id": "dVNmoEIwThKG",
        "colab_type": "code",
        "colab": {
          "base_uri": "https://localhost:8080/",
          "height": 313
        },
        "outputId": "6517dc81-b0da-48bd-cf26-b9bc1fc39d8b"
      },
      "source": [
        "#Because the naive frequentist approach does not take into account prior probabilities, even a device with a very high false positive rate is still seen to be reliable.\n",
        "#Which it is, in that if you have 1 drunk person and 1 sober person this device will be pretty helpful at telling the difference.\n",
        "#Meanwhile in the Bayesian approach the device quickly becomes worthless even at relatively low false positive rates because of the very low prior of being drunk.\n",
        "\n",
        "x=np.arange(0.0,.2,.01)\n",
        "y=[]\n",
        "for fp in x:\n",
        "  y.append(naive_freq(fp,1))\n",
        "\n",
        "sns.lineplot(x,y)\n",
        "plt.xlabel(\"False positive rate\")\n",
        "plt.ylabel(\"Probability of true positive\")\n",
        "plt.title(\"Naive Frequentist\")\n",
        "plt.ylim(0,)"
      ],
      "execution_count": 44,
      "outputs": [
        {
          "output_type": "execute_result",
          "data": {
            "text/plain": [
              "(0, 1.0095)"
            ]
          },
          "metadata": {
            "tags": []
          },
          "execution_count": 44
        },
        {
          "output_type": "display_data",
          "data": {
            "image/png": "[encoded data removed]",
            "text/plain": [
              "<Figure size 432x288 with 1 Axes>"
            ]
          },
          "metadata": {
            "tags": []
          }
        }
      ]
    },
    {
      "cell_type": "code",
      "metadata": {
        "id": "vecwPDJJMw8V",
        "colab_type": "code",
        "colab": {}
      },
      "source": [
        "import pandas as pd\n",
        "import numpy as np\n",
        "import seaborn as sns\n",
        "from scipy import stats\n",
        "import matplotlib.pyplot as plt\n",
        "import matplotlib\n",
        "import matplotlib.patches as mpatches\n",
        "\n",
        "columns=['Class Name',\n",
        "         'handicapped-infants',\n",
        "         'water-project-cost-sharing',\n",
        "         'adoption-of-the-budget-resolution',\n",
        "         'physician-fee-freeze','el-salvador-aid',\n",
        "         'religious-groups-in-schools',\n",
        "         'anti-satellite-test-ban',\n",
        "         'aid-to-nicaraguan-contras',\n",
        "         'mx-missile',\n",
        "         'immigration',\n",
        "         'synfuels-corporation-cutback',\n",
        "         'education-spending',\n",
        "         'superfund-right-to-sue',\n",
        "         'crime',\n",
        "         'duty-free-exports',\n",
        "         'export-administration-act-south-africa']\n",
        "\n",
        "df = pd.read_csv('https://archive.ics.uci.edu/ml/machine-learning-databases/voting-records/house-votes-84.data',names=columns, na_values=['?'])\n",
        "df.replace({'n':0,'y':1,np.NaN:0.5},inplace=True)"
      ],
      "execution_count": 0,
      "outputs": []
    },
    {
      "cell_type": "code",
      "metadata": {
        "id": "_0JlXSzYNP2J",
        "colab_type": "code",
        "colab": {
          "base_uri": "https://localhost:8080/",
          "height": 90
        },
        "outputId": "6cc38c43-8ab4-44f1-c0c9-76439c7efa4a"
      },
      "source": [
        "mean, var, std = stats.bayes_mvs(df[df['Class Name'] == 'republican']['handicapped-infants'],alpha=.95)\n",
        "print(mean)\n",
        "print(mean[0])\n",
        "print(std[0])\n",
        "print(mean[1][1])"
      ],
      "execution_count": 36,
      "outputs": [
        {
          "output_type": "stream",
          "text": [
            "Mean(statistic=0.19345238095238096, minmax=(0.133975670640401, 0.2529290912643609))\n",
            "0.19345238095238096\n",
            "0.3922410737401388\n",
            "0.2529290912643609\n"
          ],
          "name": "stdout"
        }
      ]
    },
    {
      "cell_type": "code",
      "metadata": {
        "id": "m5ms-Th2NJpL",
        "colab_type": "code",
        "colab": {
          "base_uri": "https://localhost:8080/",
          "height": 319
        },
        "outputId": "240d7573-689f-4894-f569-cd4dd6cb0410"
      },
      "source": [
        "#Redo of yesterday's assignment with the Bayes function\n",
        "\n",
        "fig, ax = plt.subplots(figsize=(60,4));\n",
        "col = columns[1:]\n",
        "\n",
        "for feat in df.columns:\n",
        "  \n",
        "  if feat == 'Class Name':\n",
        "    next\n",
        "  else:\n",
        "    rep = df[df['Class Name'] == 'republican'][feat]\n",
        "    dem = df[df['Class Name'] == 'democrat'][feat]\n",
        "  \n",
        "    mean_r, var, std = stats.bayes_mvs(rep,alpha=.95)\n",
        "    mean_d, var, std = stats.bayes_mvs(dem,alpha=.95)\n",
        "    mu_r = mean_r[0]\n",
        "    mu_d = mean_d[0]\n",
        "  \n",
        "    y1 = [mu_r, mu_d]\n",
        "    yer1 = [mean_d[1][1]-mu_d, mean_r[1][1]-mu_r]\n",
        "    xlength = np.arange(0,17)\n",
        "    \n",
        "    index = df.columns.get_loc(feat)\n",
        "     \n",
        "    color=['r','b']\n",
        "  \n",
        "    plt.title(\"Votes\",fontweight='bold')\n",
        "    plt.ylabel(\"Percentage voted Yes\",fontweight='bold')\n",
        "    plt.xlabel(\"Issue\", fontsize=14,fontweight='bold')\n",
        "    for i in [0,1]:\n",
        "      plt.errorbar(index-1, y1[i], yerr=yer1[i],ls='none',marker='o',capsize=7,c=color[i])\n",
        "    ax.set_xticks(xlength)\n",
        "    ax.set_xticklabels(col)\n",
        "    ax.set_yticklabels(['0%','20%','40%','60%','80%','100%'])\n",
        "    plt.ylim(0, 1) \n",
        "    plt.xlim(-0.5, 16) \n",
        "    red_patch = mpatches.Patch(color='red', label='Republicans')\n",
        "    blue_patch = mpatches.Patch(color='blue', label='Democrats')\n",
        "    plt.legend(handles=[red_patch,blue_patch],bbox_to_anchor=(.035, 1))\n",
        "    \n",
        "    #plt.savefig(\"votes.png\")\n"
      ],
      "execution_count": 38,
      "outputs": [
        {
          "output_type": "display_data",
          "data": {
            "image/png": "[encoded data removed]",
            "text/plain": [
              "<Figure size 4320x288 with 1 Axes>"
            ]
          },
          "metadata": {
            "tags": []
          }
        }
      ]
    },
    {
      "cell_type": "markdown",
      "metadata": {
        "id": "HaW0d2wZVJqh",
        "colab_type": "text"
      },
      "source": [
        "The main difference between the frequentist approach and Bayesian approach is the use of prior probabilities and updating those beliefs based on data to create a posterior probability. This makes the Bayesian approach more useful in cases requiring contextual information and it models a rational process of updating beliefs. However, often \"prior\" is code for \"naive prejudice that I want to insert into my reasoning.\""
      ]
    },
    {
      "cell_type": "markdown",
      "metadata": {
        "id": "uWgWjp3PQ3Sq",
        "colab_type": "text"
      },
      "source": [
        "## Resources"
      ]
    },
    {
      "cell_type": "markdown",
      "metadata": {
        "id": "lh8tK6AWWVvl",
        "colab_type": "text"
      },
      "source": [
        ""
      ]
    },
    {
      "cell_type": "markdown",
      "metadata": {
        "id": "QRgHqmYIQ9qn",
        "colab_type": "text"
      },
      "source": [
        "- [Worked example of Bayes rule calculation](https://en.wikipedia.org/wiki/Bayes'_theorem#Examples) (helpful as it fully breaks out the denominator)\n",
        "- [Source code for mvsdist in scipy](https://github.com/scipy/scipy/blob/90534919e139d2a81c24bf08341734ff41a3db12/scipy/stats/morestats.py#L139)"
      ]
    }
  ]
}