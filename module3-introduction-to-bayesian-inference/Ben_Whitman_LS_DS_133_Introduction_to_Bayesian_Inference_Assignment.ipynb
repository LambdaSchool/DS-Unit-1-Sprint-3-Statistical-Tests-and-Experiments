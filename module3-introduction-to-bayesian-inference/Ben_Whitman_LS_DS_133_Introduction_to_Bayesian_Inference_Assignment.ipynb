{
  "nbformat": 4,
  "nbformat_minor": 0,
  "metadata": {
    "colab": {
      "name": "Ben_Whitman_LS_DS_133_Introduction_to_Bayesian_Inference_Assignment.ipynb",
      "provenance": [],
      "collapsed_sections": [],
      "include_colab_link": true
    },
    "kernelspec": {
      "name": "python3",
      "display_name": "Python 3"
    }
  },
  "cells": [
    {
      "cell_type": "markdown",
      "metadata": {
        "id": "view-in-github",
        "colab_type": "text"
      },
      "source": [
        "<a href=\"https://colab.research.google.com/github/b-whitman/DS-Unit-1-Sprint-3-Statistical-Tests-and-Experiments/blob/master/module3-introduction-to-bayesian-inference/Ben_Whitman_LS_DS_133_Introduction_to_Bayesian_Inference_Assignment.ipynb\" target=\"_parent\"><img src=\"https://colab.research.google.com/assets/colab-badge.svg\" alt=\"Open In Colab\"/></a>"
      ]
    },
    {
      "cell_type": "markdown",
      "metadata": {
        "id": "H7OLbevlbd_Z",
        "colab_type": "text"
      },
      "source": [
        "# Lambda School Data Science Module 133\n",
        "\n",
        "## Introduction to Bayesian Inference\n",
        "\n",
        "\n"
      ]
    },
    {
      "cell_type": "markdown",
      "metadata": {
        "id": "P-DzzRk5bf0z",
        "colab_type": "text"
      },
      "source": [
        "## Assignment - Code it up!\n",
        "\n",
        "Most of the above was pure math - now write Python code to reproduce the results! This is purposefully open ended - you'll have to think about how you should represent probabilities and events. You can and should look things up, and as a stretch goal - refactor your code into helpful reusable functions!\n",
        "\n",
        "Specific goals/targets:\n",
        "\n",
        "1. Write a function `def prob_drunk_given_positive(prob_drunk_prior, prob_positive, prob_positive_drunk)` that reproduces the example from lecture, and use it to calculate and visualize a range of situations\n",
        "2. Explore `scipy.stats.bayes_mvs` - read its documentation, and experiment with it on data you've tested in other ways earlier this week\n",
        "3. Create a visualization comparing the results of a Bayesian approach to a traditional/frequentist approach\n",
        "4. In your own words, summarize the difference between Bayesian and Frequentist statistics\n",
        "\n",
        "If you're unsure where to start, check out [this blog post of Bayes theorem with Python](https://dataconomy.com/2015/02/introduction-to-bayes-theorem-with-python/) - you could and should create something similar!\n",
        "\n",
        "Stretch goals:\n",
        "\n",
        "- Apply a Bayesian technique to a problem you previously worked (in an assignment or project work) on from a frequentist (standard) perspective\n",
        "- Check out [PyMC3](https://docs.pymc.io/) (note this goes beyond hypothesis tests into modeling) - read the guides and work through some examples\n",
        "- Take PyMC3 further - see if you can build something with it!"
      ]
    },
    {
      "cell_type": "markdown",
      "metadata": {
        "id": "zCX4FVvPrm1F",
        "colab_type": "text"
      },
      "source": [
        "## 1) Using a function to apply Bayes"
      ]
    },
    {
      "cell_type": "code",
      "metadata": {
        "id": "9skJTv7fnyew",
        "colab_type": "code",
        "colab": {}
      },
      "source": [
        "import matplotlib.pyplot as plt"
      ],
      "execution_count": 0,
      "outputs": []
    },
    {
      "cell_type": "code",
      "metadata": {
        "id": "xpVhZyUnbf7o",
        "colab_type": "code",
        "colab": {}
      },
      "source": [
        "def prob_drunk_given_positive(prob_drunk_prior, prob_positive, prob_positive_drunk):\n",
        "  return (prob_positive_drunk*prob_drunk_prior) / prob_positive"
      ],
      "execution_count": 0,
      "outputs": []
    },
    {
      "cell_type": "code",
      "metadata": {
        "id": "eOglz53nOch8",
        "colab_type": "code",
        "outputId": "5e8b6523-6bc5-46d4-f24a-960df966a605",
        "colab": {
          "base_uri": "https://localhost:8080/",
          "height": 34
        }
      },
      "source": [
        "# Example from lecture\n",
        "prob_drunk_given_positive(0.001, 0.08, 1)"
      ],
      "execution_count": 18,
      "outputs": [
        {
          "output_type": "execute_result",
          "data": {
            "text/plain": [
              "0.0125"
            ]
          },
          "metadata": {
            "tags": []
          },
          "execution_count": 18
        }
      ]
    },
    {
      "cell_type": "code",
      "metadata": {
        "id": "RNEYx0IoO-sP",
        "colab_type": "code",
        "outputId": "8f7c0c15-6b6d-4194-ca05-f5de4b7694f3",
        "colab": {
          "base_uri": "https://localhost:8080/",
          "height": 34
        }
      },
      "source": [
        "# What if test gives half as many false positives?\n",
        "prob_drunk_given_positive(0.001, 0.04, 1)\n",
        "# Looks like that just doubles the rate, to 2.5%"
      ],
      "execution_count": 19,
      "outputs": [
        {
          "output_type": "execute_result",
          "data": {
            "text/plain": [
              "0.025"
            ]
          },
          "metadata": {
            "tags": []
          },
          "execution_count": 19
        }
      ]
    },
    {
      "cell_type": "code",
      "metadata": {
        "id": "7nS9h1CRQBGa",
        "colab_type": "code",
        "outputId": "92573229-6f42-4f05-88d6-464b8d941306",
        "colab": {
          "base_uri": "https://localhost:8080/",
          "height": 34
        }
      },
      "source": [
        "# What if test gives 1% false positives?\n",
        "prob_drunk_given_positive(0.001, 0.01, 1)\n",
        "# Raises probability of true positive to 10%"
      ],
      "execution_count": 20,
      "outputs": [
        {
          "output_type": "execute_result",
          "data": {
            "text/plain": [
              "0.1"
            ]
          },
          "metadata": {
            "tags": []
          },
          "execution_count": 20
        }
      ]
    },
    {
      "cell_type": "code",
      "metadata": {
        "id": "awElFbyNQ0Gv",
        "colab_type": "code",
        "outputId": "68ba0c1f-2481-4a70-8d96-50d777619571",
        "colab": {
          "base_uri": "https://localhost:8080/",
          "height": 34
        }
      },
      "source": [
        "# To use another example from lecture, what if we conduct the test twice in a row?\n",
        "# 0.08 * 0.08 = 0.0064\n",
        "prob_drunk_given_positive(0.001, 0.0064, 1)\n",
        "# Am I doing this right? Does it really only raise the probability to ~16%?\n",
        "# Or am I failing to tease out something in the structure of Bayes' Theorem?"
      ],
      "execution_count": 21,
      "outputs": [
        {
          "output_type": "execute_result",
          "data": {
            "text/plain": [
              "0.15625"
            ]
          },
          "metadata": {
            "tags": []
          },
          "execution_count": 21
        }
      ]
    },
    {
      "cell_type": "code",
      "metadata": {
        "id": "CoRfzsl2U33B",
        "colab_type": "code",
        "outputId": "3710fa92-b377-4cc1-9a97-59feffe2f769",
        "colab": {
          "base_uri": "https://localhost:8080/",
          "height": 34
        }
      },
      "source": [
        "# Okay, what if we use the previous posterior as our new prior? (per the drug testing example)\n",
        "prob_drunk_given_positive(0.0125, 0.08, 1)\n",
        "# So that's pretty interesting- exactly the same result as just multiplying\n",
        "# the probability of a positive...\n",
        "# I still suspect I'm missing something. Shouldn't the math for rate of all positives\n",
        "# change given the new prior?"
      ],
      "execution_count": 22,
      "outputs": [
        {
          "output_type": "execute_result",
          "data": {
            "text/plain": [
              "0.15625"
            ]
          },
          "metadata": {
            "tags": []
          },
          "execution_count": 22
        }
      ]
    },
    {
      "cell_type": "code",
      "metadata": {
        "id": "jW0CHL6wb0XH",
        "colab_type": "code",
        "outputId": "58a4bfa0-6adb-429d-be7f-8518fa56d6e0",
        "colab": {
          "base_uri": "https://localhost:8080/",
          "height": 34
        }
      },
      "source": [
        "# This gives a slightly different answer but I feel more confident about the math\n",
        "two_tests = prob_drunk_given_positive(0.0125, (1*0.0125+0.08*0.9875), 1)\n",
        "two_tests"
      ],
      "execution_count": 23,
      "outputs": [
        {
          "output_type": "execute_result",
          "data": {
            "text/plain": [
              "0.1366120218579235"
            ]
          },
          "metadata": {
            "tags": []
          },
          "execution_count": 23
        }
      ]
    },
    {
      "cell_type": "code",
      "metadata": {
        "id": "Kxeg7ktDcbUy",
        "colab_type": "code",
        "outputId": "78c8ba1e-2699-4b8f-fc34-c826b5859961",
        "colab": {
          "base_uri": "https://localhost:8080/",
          "height": 34
        }
      },
      "source": [
        "# Three tests...\n",
        "three_tests = prob_drunk_given_positive(two_tests, (1*two_tests+0.08*(1-two_tests)), 1)\n",
        "three_tests"
      ],
      "execution_count": 24,
      "outputs": [
        {
          "output_type": "execute_result",
          "data": {
            "text/plain": [
              "0.6641870350690755"
            ]
          },
          "metadata": {
            "tags": []
          },
          "execution_count": 24
        }
      ]
    },
    {
      "cell_type": "code",
      "metadata": {
        "id": "gN_UuYSzc2gc",
        "colab_type": "code",
        "outputId": "3933a5e6-538a-424f-a565-e25f87c2ae02",
        "colab": {
          "base_uri": "https://localhost:8080/",
          "height": 34
        }
      },
      "source": [
        "# Four tests???\n",
        "four_tests = prob_drunk_given_positive(three_tests, (1*three_tests+0.08*(1-three_tests)), 1)\n",
        "four_tests"
      ],
      "execution_count": 25,
      "outputs": [
        {
          "output_type": "execute_result",
          "data": {
            "text/plain": [
              "0.9611244387033278"
            ]
          },
          "metadata": {
            "tags": []
          },
          "execution_count": 25
        }
      ]
    },
    {
      "cell_type": "code",
      "metadata": {
        "id": "8Gdb3W--dEjP",
        "colab_type": "code",
        "outputId": "d87886ac-1aa6-45fa-f780-926a42e75328",
        "colab": {
          "base_uri": "https://localhost:8080/",
          "height": 34
        }
      },
      "source": [
        "# Five tests...?!\n",
        "five_tests = prob_drunk_given_positive(four_tests, (1*four_tests+0.08*(1-four_tests)), 1)\n",
        "five_tests"
      ],
      "execution_count": 26,
      "outputs": [
        {
          "output_type": "execute_result",
          "data": {
            "text/plain": [
              "0.9967745968884046"
            ]
          },
          "metadata": {
            "tags": []
          },
          "execution_count": 26
        }
      ]
    },
    {
      "cell_type": "code",
      "metadata": {
        "id": "mVlohdTWdRF7",
        "colab_type": "code",
        "outputId": "24d306cb-afe4-4473-e64d-6fdcd1cde7dd",
        "colab": {
          "base_uri": "https://localhost:8080/",
          "height": 34
        }
      },
      "source": [
        "# Have we hit a limit?\n",
        "six_tests = prob_drunk_given_positive(five_tests, (1*five_tests+0.08*(1-five_tests)), 1)\n",
        "six_tests"
      ],
      "execution_count": 27,
      "outputs": [
        {
          "output_type": "execute_result",
          "data": {
            "text/plain": [
              "0.9997411997948845"
            ]
          },
          "metadata": {
            "tags": []
          },
          "execution_count": 27
        }
      ]
    },
    {
      "cell_type": "code",
      "metadata": {
        "id": "zwcZ-Ki4fWI9",
        "colab_type": "code",
        "colab": {}
      },
      "source": [
        "# This function applies Bayes Theorem num_iter times to the breathalyzer problem\n",
        "def prob_drunk_iter(prior, prob_positive, prob_positive_drunk, num_iter):\n",
        "  posterior_list = []\n",
        "  for i in range(num_iter):\n",
        "    posterior = (prob_positive_drunk*prior) / prob_positive\n",
        "    prior = posterior\n",
        "    prob_positive = (1*prior+0.08*(1-prior))\n",
        "    posterior_list.append(posterior)\n",
        "  return posterior_list"
      ],
      "execution_count": 0,
      "outputs": []
    },
    {
      "cell_type": "code",
      "metadata": {
        "id": "S8tBDeJgi8Q8",
        "colab_type": "code",
        "outputId": "2c36d358-df42-4f2e-a20f-751f7d094c56",
        "colab": {
          "base_uri": "https://localhost:8080/",
          "height": 286
        }
      },
      "source": [
        "prob_drunk_five = prob_drunk_iter(0.001, 0.08, 1, 5)\n",
        "plt.plot(prob_drunk_five)"
      ],
      "execution_count": 29,
      "outputs": [
        {
          "output_type": "execute_result",
          "data": {
            "text/plain": [
              "[<matplotlib.lines.Line2D at 0x7f84a51644e0>]"
            ]
          },
          "metadata": {
            "tags": []
          },
          "execution_count": 29
        },
        {
          "output_type": "display_data",
          "data": {
            "image/png": "[encoded data removed]",
            "text/plain": [
              "<Figure size 432x288 with 1 Axes>"
            ]
          },
          "metadata": {
            "tags": []
          }
        }
      ]
    },
    {
      "cell_type": "code",
      "metadata": {
        "id": "cC920DifhdNY",
        "colab_type": "code",
        "outputId": "91e79f42-2895-45e5-f684-d07f7eb6b74d",
        "colab": {
          "base_uri": "https://localhost:8080/",
          "height": 187
        }
      },
      "source": [
        "prob_drunk_list = prob_drunk_iter(0.001, 0.08, 1, 10)\n",
        "prob_drunk_list"
      ],
      "execution_count": 30,
      "outputs": [
        {
          "output_type": "execute_result",
          "data": {
            "text/plain": [
              "[0.0125,\n",
              " 0.1366120218579235,\n",
              " 0.6641870350690755,\n",
              " 0.9611244387033278,\n",
              " 0.9967745968884046,\n",
              " 0.9997411997948845,\n",
              " 0.9999792910528694,\n",
              " 0.9999983432526648,\n",
              " 0.9999998674600111,\n",
              " 0.9999999893967996]"
            ]
          },
          "metadata": {
            "tags": []
          },
          "execution_count": 30
        }
      ]
    },
    {
      "cell_type": "code",
      "metadata": {
        "id": "UMIEEKUchxbI",
        "colab_type": "code",
        "outputId": "b15b54aa-5d81-47e2-e894-15b004e0c34c",
        "colab": {
          "base_uri": "https://localhost:8080/",
          "height": 286
        }
      },
      "source": [
        "import matplotlib.pyplot as plt\n",
        "# Plot for 10 repetitions of test\n",
        "plt.plot(prob_drunk_list)"
      ],
      "execution_count": 31,
      "outputs": [
        {
          "output_type": "execute_result",
          "data": {
            "text/plain": [
              "[<matplotlib.lines.Line2D at 0x7f84a287b0b8>]"
            ]
          },
          "metadata": {
            "tags": []
          },
          "execution_count": 31
        },
        {
          "output_type": "display_data",
          "data": {
            "image/png": "[encoded data removed]",
            "text/plain": [
              "<Figure size 432x288 with 1 Axes>"
            ]
          },
          "metadata": {
            "tags": []
          }
        }
      ]
    },
    {
      "cell_type": "code",
      "metadata": {
        "id": "eHB0wdFQiY0E",
        "colab_type": "code",
        "outputId": "c5caacdb-a331-46ac-e177-c53a8cfd269f",
        "colab": {
          "base_uri": "https://localhost:8080/",
          "height": 357
        }
      },
      "source": [
        "prob_drunk_twenty = prob_drunk_iter(0.001, 0.08, 1, 20)\n",
        "prob_drunk_twenty"
      ],
      "execution_count": 32,
      "outputs": [
        {
          "output_type": "execute_result",
          "data": {
            "text/plain": [
              "[0.0125,\n",
              " 0.1366120218579235,\n",
              " 0.6641870350690755,\n",
              " 0.9611244387033278,\n",
              " 0.9967745968884046,\n",
              " 0.9997411997948845,\n",
              " 0.9999792910528694,\n",
              " 0.9999983432526648,\n",
              " 0.9999998674600111,\n",
              " 0.9999999893967996,\n",
              " 0.999999999151744,\n",
              " 0.9999999999321395,\n",
              " 0.9999999999945711,\n",
              " 0.9999999999995657,\n",
              " 0.9999999999999653,\n",
              " 0.9999999999999972,\n",
              " 0.9999999999999998,\n",
              " 1.0,\n",
              " 1.0,\n",
              " 1.0]"
            ]
          },
          "metadata": {
            "tags": []
          },
          "execution_count": 32
        }
      ]
    },
    {
      "cell_type": "code",
      "metadata": {
        "id": "YSfIE8w1ikUo",
        "colab_type": "code",
        "outputId": "e33eef5c-2fb1-47f6-ef6c-9060324545ec",
        "colab": {
          "base_uri": "https://localhost:8080/",
          "height": 286
        }
      },
      "source": [
        "plt.plot(prob_drunk_twenty)\n",
        "# Plot for 20 reps\n",
        "# Seems to hit a limit around 5 reps"
      ],
      "execution_count": 33,
      "outputs": [
        {
          "output_type": "execute_result",
          "data": {
            "text/plain": [
              "[<matplotlib.lines.Line2D at 0x7f84a284fd68>]"
            ]
          },
          "metadata": {
            "tags": []
          },
          "execution_count": 33
        },
        {
          "output_type": "display_data",
          "data": {
            "image/png": "[encoded data removed]",
            "text/plain": [
              "<Figure size 432x288 with 1 Axes>"
            ]
          },
          "metadata": {
            "tags": []
          }
        }
      ]
    },
    {
      "cell_type": "code",
      "metadata": {
        "id": "t4NO2icVkXD_",
        "colab_type": "code",
        "colab": {}
      },
      "source": [
        "import scipy.stats as stats\n",
        "stats.bayes_mvs?"
      ],
      "execution_count": 0,
      "outputs": []
    },
    {
      "cell_type": "markdown",
      "metadata": {
        "id": "h3Rk428Sqg7S",
        "colab_type": "text"
      },
      "source": [
        "## 2) Scipy.Stats.bayes_mvs"
      ]
    },
    {
      "cell_type": "code",
      "metadata": {
        "id": "Rli4pX3wqlPv",
        "colab_type": "code",
        "outputId": "98148d16-caf6-4b84-8ccb-fd103d5129b2",
        "colab": {
          "base_uri": "https://localhost:8080/",
          "height": 204
        }
      },
      "source": [
        "!wget https://archive.ics.uci.edu/ml/machine-learning-databases/voting-records/house-votes-84.data"
      ],
      "execution_count": 35,
      "outputs": [
        {
          "output_type": "stream",
          "text": [
            "--2019-10-11 02:22:04--  https://archive.ics.uci.edu/ml/machine-learning-databases/voting-records/house-votes-84.data\n",
            "Resolving archive.ics.uci.edu (archive.ics.uci.edu)... 128.195.10.252\n",
            "Connecting to archive.ics.uci.edu (archive.ics.uci.edu)|128.195.10.252|:443... connected.\n",
            "HTTP request sent, awaiting response... 200 OK\n",
            "Length: 18171 (18K) [application/x-httpd-php]\n",
            "Saving to: ‘house-votes-84.data’\n",
            "\n",
            "\rhouse-votes-84.data   0%[                    ]       0  --.-KB/s               \rhouse-votes-84.data 100%[===================>]  17.75K  --.-KB/s    in 0.03s   \n",
            "\n",
            "2019-10-11 02:22:04 (621 KB/s) - ‘house-votes-84.data’ saved [18171/18171]\n",
            "\n"
          ],
          "name": "stdout"
        }
      ]
    },
    {
      "cell_type": "code",
      "metadata": {
        "id": "ZsGi157sqtQM",
        "colab_type": "code",
        "colab": {}
      },
      "source": [
        "import pandas as pd\n",
        "import numpy as np"
      ],
      "execution_count": 0,
      "outputs": []
    },
    {
      "cell_type": "code",
      "metadata": {
        "id": "GSfspPX5qrGZ",
        "colab_type": "code",
        "outputId": "0b013945-f340-43b3-a08f-1c1b2a0fd176",
        "colab": {
          "base_uri": "https://localhost:8080/",
          "height": 255
        }
      },
      "source": [
        "df_cols = ['party',\n",
        "           'handicapped_infants',\n",
        "           'water-project-cost-sharing',\n",
        "           'adoption-of-the-budget-resolution',\n",
        "           'physician-fee-freeze',\n",
        "           'el-salvador-aid',\n",
        "           'religious-groups-in-schools',\n",
        "           'anti-satellite-test-ban',\n",
        "           'aid-to-nicaraguan-contras',\n",
        "           'mx-missile',\n",
        "           'immigration',\n",
        "           'synfuels-corporation-cutback',\n",
        "           'education-spending',\n",
        "           'superfund-right-to-sue',\n",
        "           'crime',\n",
        "           'duty-free-exports',\n",
        "           'export-administration-act-south-africa']\n",
        "df = pd.read_csv('house-votes-84.data', names=df_cols)\n",
        "replace_dict = {'?': np.nan, 'y': 1, 'n': 0}\n",
        "df = df.replace(replace_dict)\n",
        "df.head()"
      ],
      "execution_count": 37,
      "outputs": [
        {
          "output_type": "execute_result",
          "data": {
            "text/html": [
              "<div>\n",
              "<style scoped>\n",
              "    .dataframe tbody tr th:only-of-type {\n",
              "        vertical-align: middle;\n",
              "    }\n",
              "\n",
              "    .dataframe tbody tr th {\n",
              "        vertical-align: top;\n",
              "    }\n",
              "\n",
              "    .dataframe thead th {\n",
              "        text-align: right;\n",
              "    }\n",
              "</style>\n",
              "<table border=\"1\" class=\"dataframe\">\n",
              "  <thead>\n",
              "    <tr style=\"text-align: right;\">\n",
              "      <th></th>\n",
              "      <th>party</th>\n",
              "      <th>handicapped_infants</th>\n",
              "      <th>water-project-cost-sharing</th>\n",
              "      <th>adoption-of-the-budget-resolution</th>\n",
              "      <th>physician-fee-freeze</th>\n",
              "      <th>el-salvador-aid</th>\n",
              "      <th>religious-groups-in-schools</th>\n",
              "      <th>anti-satellite-test-ban</th>\n",
              "      <th>aid-to-nicaraguan-contras</th>\n",
              "      <th>mx-missile</th>\n",
              "      <th>immigration</th>\n",
              "      <th>synfuels-corporation-cutback</th>\n",
              "      <th>education-spending</th>\n",
              "      <th>superfund-right-to-sue</th>\n",
              "      <th>crime</th>\n",
              "      <th>duty-free-exports</th>\n",
              "      <th>export-administration-act-south-africa</th>\n",
              "    </tr>\n",
              "  </thead>\n",
              "  <tbody>\n",
              "    <tr>\n",
              "      <th>0</th>\n",
              "      <td>republican</td>\n",
              "      <td>0.0</td>\n",
              "      <td>1.0</td>\n",
              "      <td>0.0</td>\n",
              "      <td>1.0</td>\n",
              "      <td>1.0</td>\n",
              "      <td>1.0</td>\n",
              "      <td>0.0</td>\n",
              "      <td>0.0</td>\n",
              "      <td>0.0</td>\n",
              "      <td>1.0</td>\n",
              "      <td>NaN</td>\n",
              "      <td>1.0</td>\n",
              "      <td>1.0</td>\n",
              "      <td>1.0</td>\n",
              "      <td>0.0</td>\n",
              "      <td>1.0</td>\n",
              "    </tr>\n",
              "    <tr>\n",
              "      <th>1</th>\n",
              "      <td>republican</td>\n",
              "      <td>0.0</td>\n",
              "      <td>1.0</td>\n",
              "      <td>0.0</td>\n",
              "      <td>1.0</td>\n",
              "      <td>1.0</td>\n",
              "      <td>1.0</td>\n",
              "      <td>0.0</td>\n",
              "      <td>0.0</td>\n",
              "      <td>0.0</td>\n",
              "      <td>0.0</td>\n",
              "      <td>0.0</td>\n",
              "      <td>1.0</td>\n",
              "      <td>1.0</td>\n",
              "      <td>1.0</td>\n",
              "      <td>0.0</td>\n",
              "      <td>NaN</td>\n",
              "    </tr>\n",
              "    <tr>\n",
              "      <th>2</th>\n",
              "      <td>democrat</td>\n",
              "      <td>NaN</td>\n",
              "      <td>1.0</td>\n",
              "      <td>1.0</td>\n",
              "      <td>NaN</td>\n",
              "      <td>1.0</td>\n",
              "      <td>1.0</td>\n",
              "      <td>0.0</td>\n",
              "      <td>0.0</td>\n",
              "      <td>0.0</td>\n",
              "      <td>0.0</td>\n",
              "      <td>1.0</td>\n",
              "      <td>0.0</td>\n",
              "      <td>1.0</td>\n",
              "      <td>1.0</td>\n",
              "      <td>0.0</td>\n",
              "      <td>0.0</td>\n",
              "    </tr>\n",
              "    <tr>\n",
              "      <th>3</th>\n",
              "      <td>democrat</td>\n",
              "      <td>0.0</td>\n",
              "      <td>1.0</td>\n",
              "      <td>1.0</td>\n",
              "      <td>0.0</td>\n",
              "      <td>NaN</td>\n",
              "      <td>1.0</td>\n",
              "      <td>0.0</td>\n",
              "      <td>0.0</td>\n",
              "      <td>0.0</td>\n",
              "      <td>0.0</td>\n",
              "      <td>1.0</td>\n",
              "      <td>0.0</td>\n",
              "      <td>1.0</td>\n",
              "      <td>0.0</td>\n",
              "      <td>0.0</td>\n",
              "      <td>1.0</td>\n",
              "    </tr>\n",
              "    <tr>\n",
              "      <th>4</th>\n",
              "      <td>democrat</td>\n",
              "      <td>1.0</td>\n",
              "      <td>1.0</td>\n",
              "      <td>1.0</td>\n",
              "      <td>0.0</td>\n",
              "      <td>1.0</td>\n",
              "      <td>1.0</td>\n",
              "      <td>0.0</td>\n",
              "      <td>0.0</td>\n",
              "      <td>0.0</td>\n",
              "      <td>0.0</td>\n",
              "      <td>1.0</td>\n",
              "      <td>NaN</td>\n",
              "      <td>1.0</td>\n",
              "      <td>1.0</td>\n",
              "      <td>1.0</td>\n",
              "      <td>1.0</td>\n",
              "    </tr>\n",
              "  </tbody>\n",
              "</table>\n",
              "</div>"
            ],
            "text/plain": [
              "        party  ...  export-administration-act-south-africa\n",
              "0  republican  ...                                     1.0\n",
              "1  republican  ...                                     NaN\n",
              "2    democrat  ...                                     0.0\n",
              "3    democrat  ...                                     1.0\n",
              "4    democrat  ...                                     1.0\n",
              "\n",
              "[5 rows x 17 columns]"
            ]
          },
          "metadata": {
            "tags": []
          },
          "execution_count": 37
        }
      ]
    },
    {
      "cell_type": "code",
      "metadata": {
        "id": "8yPZDLmVqzJX",
        "colab_type": "code",
        "outputId": "c373b8d2-4f28-44e5-e824-15ecc0f1f10a",
        "colab": {
          "base_uri": "https://localhost:8080/",
          "height": 34
        }
      },
      "source": [
        "mean, var, std = stats.bayes_mvs(df['handicapped_infants'].dropna())\n",
        "mean"
      ],
      "execution_count": 44,
      "outputs": [
        {
          "output_type": "execute_result",
          "data": {
            "text/plain": [
              "Mean(statistic=0.44208037825059104, minmax=(0.40222729712128685, 0.48193345937989523))"
            ]
          },
          "metadata": {
            "tags": []
          },
          "execution_count": 44
        }
      ]
    },
    {
      "cell_type": "code",
      "metadata": {
        "id": "2ZEDTt3IrKBK",
        "colab_type": "code",
        "outputId": "b0b763ed-1403-4abb-950b-b28b8d59d7b9",
        "colab": {
          "base_uri": "https://localhost:8080/",
          "height": 34
        }
      },
      "source": [
        "var"
      ],
      "execution_count": 45,
      "outputs": [
        {
          "output_type": "execute_result",
          "data": {
            "text/plain": [
              "Variance(statistic=0.24840706968366538, minmax=(0.22155865134636635, 0.2779357691804369))"
            ]
          },
          "metadata": {
            "tags": []
          },
          "execution_count": 45
        }
      ]
    },
    {
      "cell_type": "code",
      "metadata": {
        "id": "-qTyHxCrrLWv",
        "colab_type": "code",
        "outputId": "543e76c2-c9d9-45c6-a06f-438085e30e92",
        "colab": {
          "base_uri": "https://localhost:8080/",
          "height": 34
        }
      },
      "source": [
        "std"
      ],
      "execution_count": 46,
      "outputs": [
        {
          "output_type": "execute_result",
          "data": {
            "text/plain": [
              "Std_dev(statistic=0.49810794333785724, minmax=(0.470700171389778, 0.5271961391934096))"
            ]
          },
          "metadata": {
            "tags": []
          },
          "execution_count": 46
        }
      ]
    },
    {
      "cell_type": "code",
      "metadata": {
        "id": "t_m-wniFrOiQ",
        "colab_type": "code",
        "colab": {}
      },
      "source": [
        "# I'm not sure if I've done this part correctly, and if I have I don't think I\n",
        "# understand it..."
      ],
      "execution_count": 0,
      "outputs": []
    },
    {
      "cell_type": "markdown",
      "metadata": {
        "id": "k5wwj6J7ruV_",
        "colab_type": "text"
      },
      "source": [
        "## 3) Comparing Bayesian approach to standard approach"
      ]
    },
    {
      "cell_type": "code",
      "metadata": {
        "id": "mH5hNGbYozlM",
        "colab_type": "code",
        "colab": {
          "base_uri": "https://localhost:8080/",
          "height": 34
        },
        "outputId": "c174cbdc-5999-4fc2-ebe7-7f7f5b55b4b7"
      },
      "source": [
        "sample_size = 100\n",
        "sample = df['handicapped_infants'].dropna().sample(sample_size)\n",
        "sample_mean = sample.mean()\n",
        "sample_std = np.std(sample, ddof = 1)\n",
        "print(sample_mean, sample_std)"
      ],
      "execution_count": 57,
      "outputs": [
        {
          "output_type": "stream",
          "text": [
            "0.44 0.4988876515698589\n"
          ],
          "name": "stdout"
        }
      ]
    },
    {
      "cell_type": "code",
      "metadata": {
        "id": "d0EbN7L5pbSj",
        "colab_type": "code",
        "colab": {
          "base_uri": "https://localhost:8080/",
          "height": 34
        },
        "outputId": "14ddc8bd-8eb7-48ff-e6b2-1c3b69b6f661"
      },
      "source": [
        "standard_error = sample_std/np.sqrt(sample_size)\n",
        "standard_error"
      ],
      "execution_count": 58,
      "outputs": [
        {
          "output_type": "execute_result",
          "data": {
            "text/plain": [
              "0.04988876515698589"
            ]
          },
          "metadata": {
            "tags": []
          },
          "execution_count": 58
        }
      ]
    },
    {
      "cell_type": "code",
      "metadata": {
        "id": "AW8ibUqupcmf",
        "colab_type": "code",
        "colab": {
          "base_uri": "https://localhost:8080/",
          "height": 34
        },
        "outputId": "ef44f3e3-468c-46ed-f03f-2974cf450124"
      },
      "source": [
        "# Give t-value and print confidence interval\n",
        "t = 1.984\n",
        "con_int = [sample_mean, sample_mean - t*standard_error, sample_mean + t*standard_error]\n",
        "con_int"
      ],
      "execution_count": 59,
      "outputs": [
        {
          "output_type": "execute_result",
          "data": {
            "text/plain": [
              "[0.44, 0.34102068992854, 0.53897931007146]"
            ]
          },
          "metadata": {
            "tags": []
          },
          "execution_count": 59
        }
      ]
    },
    {
      "cell_type": "code",
      "metadata": {
        "id": "EhE7gdsMpfrU",
        "colab_type": "code",
        "colab": {}
      },
      "source": [
        "sample_means = []\n",
        "for _ in range(1000):\n",
        "  sample_means.append(df['handicapped_infants'].dropna().sample(sample_size).mean())"
      ],
      "execution_count": 0,
      "outputs": []
    },
    {
      "cell_type": "code",
      "metadata": {
        "id": "pISZjvywpl6K",
        "colab_type": "code",
        "colab": {
          "base_uri": "https://localhost:8080/",
          "height": 269
        },
        "outputId": "ee22de62-9b9e-45b1-aaba-2028fcb1f681"
      },
      "source": [
        "plt.hist(sample_means, bins=20);\n",
        "mean_line = plt.axvline(x=sample_mean, c='red')\n",
        "confidence_interval_left = plt.axvline(x=con_int[1])\n",
        "confidence_interval_right = plt.axvline(x=con_int[2])"
      ],
      "execution_count": 61,
      "outputs": [
        {
          "output_type": "display_data",
          "data": {
            "image/png": "[encoded data removed]",
            "text/plain": [
              "<Figure size 432x288 with 1 Axes>"
            ]
          },
          "metadata": {
            "tags": []
          }
        }
      ]
    },
    {
      "cell_type": "markdown",
      "metadata": {
        "id": "g8-F-phTq4HG",
        "colab_type": "text"
      },
      "source": [
        "So that's the frequentist approach, as used in Module 2 of this sprint.\n",
        "\n",
        "Now to put the Bayesian confidence interval for the same mean on the same hist..."
      ]
    },
    {
      "cell_type": "code",
      "metadata": {
        "id": "Da0Uo2mPrLAn",
        "colab_type": "code",
        "colab": {
          "base_uri": "https://localhost:8080/",
          "height": 34
        },
        "outputId": "f9ca4ab7-f78d-4c59-882a-59ac7ca149fe"
      },
      "source": [
        "bayes_mean = mean[0]\n",
        "bayes_min = mean[1][0]\n",
        "bayes_max = mean[1][1]\n",
        "print(bayes_mean, bayes_min, bayes_max)"
      ],
      "execution_count": 67,
      "outputs": [
        {
          "output_type": "stream",
          "text": [
            "0.44208037825059104 0.40222729712128685 0.48193345937989523\n"
          ],
          "name": "stdout"
        }
      ]
    },
    {
      "cell_type": "code",
      "metadata": {
        "id": "5Y5RgueKq3wR",
        "colab_type": "code",
        "colab": {
          "base_uri": "https://localhost:8080/",
          "height": 269
        },
        "outputId": "c79426c0-b382-4bfb-d766-d41b786d62f8"
      },
      "source": [
        "plt.hist(sample_means, bins=20);\n",
        "mean_line = plt.axvline(x=bayes_mean, c='red')\n",
        "confidence_interval_left = plt.axvline(x=bayes_min)\n",
        "confidence_interval_right = plt.axvline(x=bayes_max)"
      ],
      "execution_count": 68,
      "outputs": [
        {
          "output_type": "display_data",
          "data": {
            "image/png": "[encoded data removed]",
            "text/plain": [
              "<Figure size 432x288 with 1 Axes>"
            ]
          },
          "metadata": {
            "tags": []
          }
        }
      ]
    },
    {
      "cell_type": "markdown",
      "metadata": {
        "id": "BjZ6cBGTrtAW",
        "colab_type": "text"
      },
      "source": [
        "It appears the Bayesian approach gives a much tighter confidence interval."
      ]
    },
    {
      "cell_type": "markdown",
      "metadata": {
        "id": "zAt6x_hZS5ye",
        "colab_type": "text"
      },
      "source": [
        "## 4) Bayesian and Frequentist Statistics\n",
        "\n",
        "The difference between Bayesian and Frequentist statistics lies in how they conceive of probability.\n",
        "\n",
        "Frequentist stats conceives of probability as a rate of occurrence.\n",
        "\n",
        "Bayesian stats conceives of probability as a degree of belief in an event."
      ]
    },
    {
      "cell_type": "markdown",
      "metadata": {
        "id": "uWgWjp3PQ3Sq",
        "colab_type": "text"
      },
      "source": [
        "## Resources"
      ]
    },
    {
      "cell_type": "markdown",
      "metadata": {
        "id": "QRgHqmYIQ9qn",
        "colab_type": "text"
      },
      "source": [
        "- [Worked example of Bayes rule calculation](https://en.wikipedia.org/wiki/Bayes'_theorem#Examples) (helpful as it fully breaks out the denominator)\n",
        "- [Source code for mvsdist in scipy](https://github.com/scipy/scipy/blob/90534919e139d2a81c24bf08341734ff41a3db12/scipy/stats/morestats.py#L139)"
      ]
    }
  ]
}