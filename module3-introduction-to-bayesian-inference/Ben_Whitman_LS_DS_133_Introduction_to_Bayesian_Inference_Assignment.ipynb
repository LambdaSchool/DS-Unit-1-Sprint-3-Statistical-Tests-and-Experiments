{
  "nbformat": 4,
  "nbformat_minor": 0,
  "metadata": {
    "colab": {
      "name": "Ben_Whitman_LS_DS_133_Introduction_to_Bayesian_Inference_Assignment.ipynb",
      "provenance": [],
      "collapsed_sections": [],
      "include_colab_link": true
    },
    "kernelspec": {
      "name": "python3",
      "display_name": "Python 3"
    }
  },
  "cells": [
    {
      "cell_type": "markdown",
      "metadata": {
        "id": "view-in-github",
        "colab_type": "text"
      },
      "source": [
        "<a href=\"https://colab.research.google.com/github/b-whitman/DS-Unit-1-Sprint-3-Statistical-Tests-and-Experiments/blob/master/module3-introduction-to-bayesian-inference/Ben_Whitman_LS_DS_133_Introduction_to_Bayesian_Inference_Assignment.ipynb\" target=\"_parent\"><img src=\"https://colab.research.google.com/assets/colab-badge.svg\" alt=\"Open In Colab\"/></a>"
      ]
    },
    {
      "cell_type": "markdown",
      "metadata": {
        "id": "H7OLbevlbd_Z",
        "colab_type": "text"
      },
      "source": [
        "# Lambda School Data Science Module 133\n",
        "\n",
        "## Introduction to Bayesian Inference\n",
        "\n",
        "\n"
      ]
    },
    {
      "cell_type": "markdown",
      "metadata": {
        "id": "P-DzzRk5bf0z",
        "colab_type": "text"
      },
      "source": [
        "## Assignment - Code it up!\n",
        "\n",
        "Most of the above was pure math - now write Python code to reproduce the results! This is purposefully open ended - you'll have to think about how you should represent probabilities and events. You can and should look things up, and as a stretch goal - refactor your code into helpful reusable functions!\n",
        "\n",
        "Specific goals/targets:\n",
        "\n",
        "1. Write a function `def prob_drunk_given_positive(prob_drunk_prior, prob_positive, prob_positive_drunk)` that reproduces the example from lecture, and use it to calculate and visualize a range of situations\n",
        "2. Explore `scipy.stats.bayes_mvs` - read its documentation, and experiment with it on data you've tested in other ways earlier this week\n",
        "3. Create a visualization comparing the results of a Bayesian approach to a traditional/frequentist approach\n",
        "4. In your own words, summarize the difference between Bayesian and Frequentist statistics\n",
        "\n",
        "If you're unsure where to start, check out [this blog post of Bayes theorem with Python](https://dataconomy.com/2015/02/introduction-to-bayes-theorem-with-python/) - you could and should create something similar!\n",
        "\n",
        "Stretch goals:\n",
        "\n",
        "- Apply a Bayesian technique to a problem you previously worked (in an assignment or project work) on from a frequentist (standard) perspective\n",
        "- Check out [PyMC3](https://docs.pymc.io/) (note this goes beyond hypothesis tests into modeling) - read the guides and work through some examples\n",
        "- Take PyMC3 further - see if you can build something with it!"
      ]
    },
    {
      "cell_type": "code",
      "metadata": {
        "id": "xpVhZyUnbf7o",
        "colab_type": "code",
        "colab": {}
      },
      "source": [
        "def prob_drunk_given_positive(prob_drunk_prior, prob_positive, prob_positive_drunk):\n",
        "  return (prob_positive_drunk*prob_drunk_prior) / prob_positive"
      ],
      "execution_count": 0,
      "outputs": []
    },
    {
      "cell_type": "code",
      "metadata": {
        "id": "eOglz53nOch8",
        "colab_type": "code",
        "colab": {
          "base_uri": "https://localhost:8080/",
          "height": 35
        },
        "outputId": "efb1516f-4717-4415-c91b-a652a82556b8"
      },
      "source": [
        "# Example from lecture\n",
        "prob_drunk_given_positive(0.001, 0.08, 1)"
      ],
      "execution_count": 2,
      "outputs": [
        {
          "output_type": "execute_result",
          "data": {
            "text/plain": [
              "0.0125"
            ]
          },
          "metadata": {
            "tags": []
          },
          "execution_count": 2
        }
      ]
    },
    {
      "cell_type": "code",
      "metadata": {
        "id": "RNEYx0IoO-sP",
        "colab_type": "code",
        "colab": {
          "base_uri": "https://localhost:8080/",
          "height": 35
        },
        "outputId": "62b28cc0-e2f4-43e6-f249-4ec3473f31bf"
      },
      "source": [
        "# What if test gives half as many false positives?\n",
        "prob_drunk_given_positive(0.001, 0.04, 1)\n",
        "# Looks like that just doubles the rate, to 2.5%"
      ],
      "execution_count": 3,
      "outputs": [
        {
          "output_type": "execute_result",
          "data": {
            "text/plain": [
              "0.025"
            ]
          },
          "metadata": {
            "tags": []
          },
          "execution_count": 3
        }
      ]
    },
    {
      "cell_type": "code",
      "metadata": {
        "id": "7nS9h1CRQBGa",
        "colab_type": "code",
        "colab": {
          "base_uri": "https://localhost:8080/",
          "height": 35
        },
        "outputId": "7d2aae4f-0585-45bb-b2a3-d809f60e0392"
      },
      "source": [
        "# What if test gives 1% false positives?\n",
        "prob_drunk_given_positive(0.001, 0.01, 1)\n",
        "# Raises probability of true positive to 10%"
      ],
      "execution_count": 13,
      "outputs": [
        {
          "output_type": "execute_result",
          "data": {
            "text/plain": [
              "0.1"
            ]
          },
          "metadata": {
            "tags": []
          },
          "execution_count": 13
        }
      ]
    },
    {
      "cell_type": "code",
      "metadata": {
        "id": "awElFbyNQ0Gv",
        "colab_type": "code",
        "colab": {
          "base_uri": "https://localhost:8080/",
          "height": 35
        },
        "outputId": "66231334-18ad-48cb-f187-62a93a2addc2"
      },
      "source": [
        "# To use another example from lecture, what if we conduct the test twice in a row?\n",
        "# 0.08 * 0.08 = 0.0064\n",
        "prob_drunk_given_positive(0.001, 0.0064, 1)\n",
        "# Am I doing this right? Does it really only raise the probability to ~16%?\n",
        "# Or am I failing to tease out something in the structure of Bayes' Theorem?"
      ],
      "execution_count": 16,
      "outputs": [
        {
          "output_type": "execute_result",
          "data": {
            "text/plain": [
              "0.15625"
            ]
          },
          "metadata": {
            "tags": []
          },
          "execution_count": 16
        }
      ]
    },
    {
      "cell_type": "code",
      "metadata": {
        "id": "CoRfzsl2U33B",
        "colab_type": "code",
        "colab": {
          "base_uri": "https://localhost:8080/",
          "height": 35
        },
        "outputId": "5d900edf-386c-4d7b-e6b1-428b75f4a6ad"
      },
      "source": [
        "# Okay, what if we use the previous posterior as our new prior? (per the drug testing example)\n",
        "prob_drunk_given_positive(0.0125, 0.08, 1)\n",
        "# So that's pretty interesting- exactly the same result as just multiplying\n",
        "# the probability of a positive...\n",
        "# I still suspect I'm missing something. Shouldn't the math for rate of all positives\n",
        "# change given the new prior?"
      ],
      "execution_count": 18,
      "outputs": [
        {
          "output_type": "execute_result",
          "data": {
            "text/plain": [
              "0.15625"
            ]
          },
          "metadata": {
            "tags": []
          },
          "execution_count": 18
        }
      ]
    },
    {
      "cell_type": "code",
      "metadata": {
        "id": "jW0CHL6wb0XH",
        "colab_type": "code",
        "colab": {
          "base_uri": "https://localhost:8080/",
          "height": 35
        },
        "outputId": "bd4082a2-1f3a-4928-e0f1-93663d4e688d"
      },
      "source": [
        "# This gives a slightly different answer but I feel more confident about the math\n",
        "two_tests = prob_drunk_given_positive(0.0125, (1*0.0125+0.08*0.9875), 1)\n",
        "two_tests"
      ],
      "execution_count": 22,
      "outputs": [
        {
          "output_type": "execute_result",
          "data": {
            "text/plain": [
              "0.1366120218579235"
            ]
          },
          "metadata": {
            "tags": []
          },
          "execution_count": 22
        }
      ]
    },
    {
      "cell_type": "code",
      "metadata": {
        "id": "Kxeg7ktDcbUy",
        "colab_type": "code",
        "colab": {
          "base_uri": "https://localhost:8080/",
          "height": 35
        },
        "outputId": "a427a083-27ac-4bfd-d435-63b659e18790"
      },
      "source": [
        "# Three tests...\n",
        "three_tests = prob_drunk_given_positive(two_tests, (1*two_tests+0.08*(1-two_tests)), 1)\n",
        "three_tests"
      ],
      "execution_count": 24,
      "outputs": [
        {
          "output_type": "execute_result",
          "data": {
            "text/plain": [
              "0.6641870350690755"
            ]
          },
          "metadata": {
            "tags": []
          },
          "execution_count": 24
        }
      ]
    },
    {
      "cell_type": "code",
      "metadata": {
        "id": "gN_UuYSzc2gc",
        "colab_type": "code",
        "colab": {
          "base_uri": "https://localhost:8080/",
          "height": 35
        },
        "outputId": "c010718d-9267-412d-d590-d38e878f14c2"
      },
      "source": [
        "# Four tests???\n",
        "four_tests = prob_drunk_given_positive(three_tests, (1*three_tests+0.08*(1-three_tests)), 1)\n",
        "four_tests"
      ],
      "execution_count": 26,
      "outputs": [
        {
          "output_type": "execute_result",
          "data": {
            "text/plain": [
              "0.9611244387033278"
            ]
          },
          "metadata": {
            "tags": []
          },
          "execution_count": 26
        }
      ]
    },
    {
      "cell_type": "code",
      "metadata": {
        "id": "8Gdb3W--dEjP",
        "colab_type": "code",
        "colab": {
          "base_uri": "https://localhost:8080/",
          "height": 35
        },
        "outputId": "37acaa2f-9ee2-47f8-c42a-9d918e7c80a0"
      },
      "source": [
        "# Five tests...?!\n",
        "five_tests = prob_drunk_given_positive(four_tests, (1*four_tests+0.08*(1-four_tests)), 1)\n",
        "five_tests"
      ],
      "execution_count": 28,
      "outputs": [
        {
          "output_type": "execute_result",
          "data": {
            "text/plain": [
              "0.9967745968884046"
            ]
          },
          "metadata": {
            "tags": []
          },
          "execution_count": 28
        }
      ]
    },
    {
      "cell_type": "code",
      "metadata": {
        "id": "mVlohdTWdRF7",
        "colab_type": "code",
        "colab": {
          "base_uri": "https://localhost:8080/",
          "height": 35
        },
        "outputId": "b421cb67-a96e-41b2-d201-b8171c35e69f"
      },
      "source": [
        "# Have we hit a limit?\n",
        "six_tests = prob_drunk_given_positive(five_tests, (1*five_tests+0.08*(1-five_tests)), 1)\n",
        "six_tests"
      ],
      "execution_count": 29,
      "outputs": [
        {
          "output_type": "execute_result",
          "data": {
            "text/plain": [
              "0.9997411997948845"
            ]
          },
          "metadata": {
            "tags": []
          },
          "execution_count": 29
        }
      ]
    },
    {
      "cell_type": "code",
      "metadata": {
        "id": "zwcZ-Ki4fWI9",
        "colab_type": "code",
        "colab": {}
      },
      "source": [
        "# This function applies Bayes Theorem num_iter times to the breathalyzer problem\n",
        "def prob_drunk_iter(prior, prob_positive, prob_positive_drunk, num_iter):\n",
        "  posterior_list = []\n",
        "  for i in range(num_iter):\n",
        "    posterior = (prob_positive_drunk*prior) / prob_positive\n",
        "    prior = posterior\n",
        "    prob_positive = (1*prior+0.08*(1-prior))\n",
        "    posterior_list.append(posterior)\n",
        "  return posterior_list"
      ],
      "execution_count": 0,
      "outputs": []
    },
    {
      "cell_type": "code",
      "metadata": {
        "id": "S8tBDeJgi8Q8",
        "colab_type": "code",
        "colab": {
          "base_uri": "https://localhost:8080/",
          "height": 287
        },
        "outputId": "5238806f-840e-47ca-9bc7-13217fa3fb45"
      },
      "source": [
        "prob_drunk_five = prob_drunk_iter(0.001, 0.08, 1, 5)\n",
        "plt.plot(prob_drunk_five)"
      ],
      "execution_count": 41,
      "outputs": [
        {
          "output_type": "execute_result",
          "data": {
            "text/plain": [
              "[<matplotlib.lines.Line2D at 0x7f1a7bce0cc0>]"
            ]
          },
          "metadata": {
            "tags": []
          },
          "execution_count": 41
        },
        {
          "output_type": "display_data",
          "data": {
            "image/png": "[encoded data removed]",
            "text/plain": [
              "<Figure size 432x288 with 1 Axes>"
            ]
          },
          "metadata": {
            "tags": []
          }
        }
      ]
    },
    {
      "cell_type": "code",
      "metadata": {
        "id": "cC920DifhdNY",
        "colab_type": "code",
        "colab": {
          "base_uri": "https://localhost:8080/",
          "height": 191
        },
        "outputId": "277b74ef-0952-4758-fc9b-82946119969d"
      },
      "source": [
        "prob_drunk_list = prob_drunk_iter(0.001, 0.08, 1, 10)\n",
        "prob_drunk_list"
      ],
      "execution_count": 35,
      "outputs": [
        {
          "output_type": "execute_result",
          "data": {
            "text/plain": [
              "[0.0125,\n",
              " 0.1366120218579235,\n",
              " 0.6641870350690755,\n",
              " 0.9611244387033278,\n",
              " 0.9967745968884046,\n",
              " 0.9997411997948845,\n",
              " 0.9999792910528694,\n",
              " 0.9999983432526648,\n",
              " 0.9999998674600111,\n",
              " 0.9999999893967996]"
            ]
          },
          "metadata": {
            "tags": []
          },
          "execution_count": 35
        }
      ]
    },
    {
      "cell_type": "code",
      "metadata": {
        "id": "UMIEEKUchxbI",
        "colab_type": "code",
        "colab": {
          "base_uri": "https://localhost:8080/",
          "height": 287
        },
        "outputId": "691713ad-233e-498f-b054-138ea10174b5"
      },
      "source": [
        "import matplotlib.pyplot as plt\n",
        "# Plot for 10 repetitions of test\n",
        "plt.plot(prob_drunk_list)"
      ],
      "execution_count": 36,
      "outputs": [
        {
          "output_type": "execute_result",
          "data": {
            "text/plain": [
              "[<matplotlib.lines.Line2D at 0x7f1a7e8c5a58>]"
            ]
          },
          "metadata": {
            "tags": []
          },
          "execution_count": 36
        },
        {
          "output_type": "display_data",
          "data": {
            "image/png": "[encoded data removed]",
            "text/plain": [
              "<Figure size 432x288 with 1 Axes>"
            ]
          },
          "metadata": {
            "tags": []
          }
        }
      ]
    },
    {
      "cell_type": "code",
      "metadata": {
        "id": "eHB0wdFQiY0E",
        "colab_type": "code",
        "colab": {
          "base_uri": "https://localhost:8080/",
          "height": 364
        },
        "outputId": "f752ec5e-2e9f-4d8a-fe69-325c8e1e879c"
      },
      "source": [
        "prob_drunk_twenty = prob_drunk_iter(0.001, 0.08, 1, 20)\n",
        "prob_drunk_twenty"
      ],
      "execution_count": 38,
      "outputs": [
        {
          "output_type": "execute_result",
          "data": {
            "text/plain": [
              "[0.0125,\n",
              " 0.1366120218579235,\n",
              " 0.6641870350690755,\n",
              " 0.9611244387033278,\n",
              " 0.9967745968884046,\n",
              " 0.9997411997948845,\n",
              " 0.9999792910528694,\n",
              " 0.9999983432526648,\n",
              " 0.9999998674600111,\n",
              " 0.9999999893967996,\n",
              " 0.999999999151744,\n",
              " 0.9999999999321395,\n",
              " 0.9999999999945711,\n",
              " 0.9999999999995657,\n",
              " 0.9999999999999653,\n",
              " 0.9999999999999972,\n",
              " 0.9999999999999998,\n",
              " 1.0,\n",
              " 1.0,\n",
              " 1.0]"
            ]
          },
          "metadata": {
            "tags": []
          },
          "execution_count": 38
        }
      ]
    },
    {
      "cell_type": "code",
      "metadata": {
        "id": "YSfIE8w1ikUo",
        "colab_type": "code",
        "colab": {
          "base_uri": "https://localhost:8080/",
          "height": 287
        },
        "outputId": "3f092b9c-9144-4e80-ff66-18218fbb4dea"
      },
      "source": [
        "plt.plot(prob_drunk_twenty)\n",
        "# Plot for 20 reps\n",
        "# Seems to hit a limit around 5 reps"
      ],
      "execution_count": 39,
      "outputs": [
        {
          "output_type": "execute_result",
          "data": {
            "text/plain": [
              "[<matplotlib.lines.Line2D at 0x7f1a7bcf37f0>]"
            ]
          },
          "metadata": {
            "tags": []
          },
          "execution_count": 39
        },
        {
          "output_type": "display_data",
          "data": {
            "image/png": "[encoded data removed]",
            "text/plain": [
              "<Figure size 432x288 with 1 Axes>"
            ]
          },
          "metadata": {
            "tags": []
          }
        }
      ]
    },
    {
      "cell_type": "markdown",
      "metadata": {
        "id": "zAt6x_hZS5ye",
        "colab_type": "text"
      },
      "source": [
        "## Bayesian and Frequentist Statistics\n",
        "\n",
        "The difference between Bayesian and Frequentist statistics lies in how they conceive of probability.\n",
        "\n",
        "Frequentist stats conceives of probability as a rate of occurrence.\n",
        "\n",
        "Bayesian stats conceives of probability as a degree of belief in an event."
      ]
    },
    {
      "cell_type": "markdown",
      "metadata": {
        "id": "uWgWjp3PQ3Sq",
        "colab_type": "text"
      },
      "source": [
        "## Resources"
      ]
    },
    {
      "cell_type": "markdown",
      "metadata": {
        "id": "QRgHqmYIQ9qn",
        "colab_type": "text"
      },
      "source": [
        "- [Worked example of Bayes rule calculation](https://en.wikipedia.org/wiki/Bayes'_theorem#Examples) (helpful as it fully breaks out the denominator)\n",
        "- [Source code for mvsdist in scipy](https://github.com/scipy/scipy/blob/90534919e139d2a81c24bf08341734ff41a3db12/scipy/stats/morestats.py#L139)"
      ]
    }
  ]
}