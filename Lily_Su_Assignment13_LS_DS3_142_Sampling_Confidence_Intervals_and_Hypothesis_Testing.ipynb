{
  "nbformat": 4,
  "nbformat_minor": 0,
  "metadata": {
    "colab": {
      "name": "Lily_Su_Assignment13_LS_DS3_142_Sampling_Confidence_Intervals_and_Hypothesis_Testing.ipynb",
      "version": "0.3.2",
      "provenance": [],
      "collapsed_sections": [],
      "include_colab_link": true
    },
    "kernelspec": {
      "name": "python3",
      "display_name": "Python 3"
    }
  },
  "cells": [
    {
      "cell_type": "markdown",
      "metadata": {
        "id": "view-in-github",
        "colab_type": "text"
      },
      "source": [
        "<a href=\"https://colab.research.google.com/github/LilySu/DS-Unit-1-Sprint-4-Statistical-Tests-and-Experiments/blob/master/Lily_Su_Assignment13_LS_DS3_142_Sampling_Confidence_Intervals_and_Hypothesis_Testing.ipynb\" target=\"_parent\"><img src=\"https://colab.research.google.com/assets/colab-badge.svg\" alt=\"Open In Colab\"/></a>"
      ]
    },
    {
      "metadata": {
        "id": "838Dmw1kM2LK",
        "colab_type": "text"
      },
      "cell_type": "markdown",
      "source": [
        "# Lambda School Data Science Module 142\n",
        "## Sampling, Confidence Intervals, and Hypothesis Testing"
      ]
    },
    {
      "metadata": {
        "id": "dbcPKIo5M6Ny",
        "colab_type": "text"
      },
      "cell_type": "markdown",
      "source": [
        "## Prepare - examine other available hypothesis tests\n",
        "\n",
        "If you had to pick a single hypothesis test in your toolbox, t-test would probably be the best choice - but the good news is you don't have to pick just one! Here's some of the others to be aware of:"
      ]
    },
    {
      "metadata": {
        "id": "p6Ou-lGmeH4Z",
        "colab_type": "code",
        "outputId": "f2d2b761-6db9-4f98-af21-444889118aa4",
        "colab": {
          "base_uri": "https://localhost:8080/",
          "height": 250
        }
      },
      "cell_type": "code",
      "source": [
        "!pip install seaborn --upgrade\n",
        "import os\n",
        "os.kill(os.getpid(), 9)#kill system restart, upgrade package that is already installed\n",
        "#seaborn needs to be upgraded on collab for 0.7"
      ],
      "execution_count": 0,
      "outputs": [
        {
          "output_type": "stream",
          "text": [
            "Requirement already up-to-date: seaborn in /usr/local/lib/python3.6/dist-packages (0.9.0)\n",
            "Requirement already satisfied, skipping upgrade: matplotlib>=1.4.3 in /usr/local/lib/python3.6/dist-packages (from seaborn) (3.0.3)\n",
            "Requirement already satisfied, skipping upgrade: pandas>=0.15.2 in /usr/local/lib/python3.6/dist-packages (from seaborn) (0.22.0)\n",
            "Requirement already satisfied, skipping upgrade: scipy>=0.14.0 in /usr/local/lib/python3.6/dist-packages (from seaborn) (1.1.0)\n",
            "Requirement already satisfied, skipping upgrade: numpy>=1.9.3 in /usr/local/lib/python3.6/dist-packages (from seaborn) (1.14.6)\n",
            "Requirement already satisfied, skipping upgrade: pyparsing!=2.0.4,!=2.1.2,!=2.1.6,>=2.0.1 in /usr/local/lib/python3.6/dist-packages (from matplotlib>=1.4.3->seaborn) (2.3.1)\n",
            "Requirement already satisfied, skipping upgrade: cycler>=0.10 in /usr/local/lib/python3.6/dist-packages (from matplotlib>=1.4.3->seaborn) (0.10.0)\n",
            "Requirement already satisfied, skipping upgrade: python-dateutil>=2.1 in /usr/local/lib/python3.6/dist-packages (from matplotlib>=1.4.3->seaborn) (2.5.3)\n",
            "Requirement already satisfied, skipping upgrade: kiwisolver>=1.0.1 in /usr/local/lib/python3.6/dist-packages (from matplotlib>=1.4.3->seaborn) (1.0.1)\n",
            "Requirement already satisfied, skipping upgrade: pytz>=2011k in /usr/local/lib/python3.6/dist-packages (from pandas>=0.15.2->seaborn) (2018.9)\n",
            "Requirement already satisfied, skipping upgrade: six in /usr/local/lib/python3.6/dist-packages (from cycler>=0.10->matplotlib>=1.4.3->seaborn) (1.11.0)\n",
            "Requirement already satisfied, skipping upgrade: setuptools in /usr/local/lib/python3.6/dist-packages (from kiwisolver>=1.0.1->matplotlib>=1.4.3->seaborn) (40.9.0)\n"
          ],
          "name": "stdout"
        }
      ]
    },
    {
      "metadata": {
        "id": "tlBel8j9M6tB",
        "colab_type": "code",
        "outputId": "134074b4-7d83-419b-c6b0-e12bd4ca089c",
        "colab": {
          "base_uri": "https://localhost:8080/",
          "height": 194
        }
      },
      "cell_type": "code",
      "source": [
        "import numpy as np\n",
        "from scipy.stats import chisquare  # One-way chi square test\n",
        "\n",
        "# Chi square can take any crosstab/table and test the independence of rows/cols\n",
        "# The null hypothesis is that the rows/cols are independent -> low chi square\n",
        "# The alternative is that there is a dependence -> high chi square\n",
        "# Be aware! Chi square does *not* tell you direction/causation\n",
        "\n",
        "ind_obs = np.array([[1, 1], [2, 2]]).T\n",
        "print(ind_obs)\n",
        "print(chisquare(ind_obs, axis=None))\n",
        "\n",
        "dep_obs = np.array([[16, 18, 16, 14, 12, 12], [32, 24, 16, 28, 20, 24]]).T\n",
        "print(dep_obs)\n",
        "print(chisquare(dep_obs, axis=None))"
      ],
      "execution_count": 37,
      "outputs": [
        {
          "output_type": "stream",
          "text": [
            "[[1 2]\n",
            " [1 2]]\n",
            "Power_divergenceResult(statistic=0.6666666666666666, pvalue=0.8810148425137847)\n",
            "[[16 32]\n",
            " [18 24]\n",
            " [16 16]\n",
            " [14 28]\n",
            " [12 20]\n",
            " [12 24]]\n",
            "Power_divergenceResult(statistic=23.31034482758621, pvalue=0.015975692534127565)\n"
          ],
          "name": "stdout"
        }
      ]
    },
    {
      "metadata": {
        "id": "nN0BdNiDPxbk",
        "colab_type": "code",
        "outputId": "33df78f5-afbc-4046-dc52-0ba792e340fb",
        "colab": {
          "base_uri": "https://localhost:8080/",
          "height": 34
        }
      },
      "cell_type": "code",
      "source": [
        "# Distribution tests:\n",
        "# We often assume that something is normal, but it can be important to *check*\n",
        "\n",
        "# For example, later on with predictive modeling, a typical assumption is that\n",
        "# residuals (prediction errors) are normal - checking is a good diagnostic\n",
        "\n",
        "from scipy.stats import normaltest\n",
        "# Poisson models arrival times and is related to the binomial (coinflip)\n",
        "sample = np.random.poisson(5, 1000)\n",
        "print(normaltest(sample))  # Pretty clearly not normal"
      ],
      "execution_count": 38,
      "outputs": [
        {
          "output_type": "stream",
          "text": [
            "NormaltestResult(statistic=59.56967717069347, pvalue=1.160403307505305e-13)\n"
          ],
          "name": "stdout"
        }
      ]
    },
    {
      "metadata": {
        "id": "P5t0WhkDReFO",
        "colab_type": "code",
        "outputId": "65fe9634-eac4-4547-f38f-b523d891a69a",
        "colab": {
          "base_uri": "https://localhost:8080/",
          "height": 52
        }
      },
      "cell_type": "code",
      "source": [
        "# Kruskal-Wallis H-test - compare the median rank between 2+ groups\n",
        "# Can be applied to ranking decisions/outcomes/recommendations\n",
        "# The underlying math comes from chi-square distribution, and is best for n>5\n",
        "from scipy.stats import kruskal\n",
        "\n",
        "x1 = [1, 3, 5, 7, 9]\n",
        "y1 = [2, 4, 6, 8, 10]\n",
        "print(kruskal(x1, y1))  # x1 is a little better, but not \"significantly\" so\n",
        "\n",
        "x2 = [1, 1, 1]\n",
        "y2 = [2, 2, 2]\n",
        "z = [2, 2]  # Hey, a third group, and of different size!\n",
        "print(kruskal(x2, y2, z))  # x clearly dominates"
      ],
      "execution_count": 39,
      "outputs": [
        {
          "output_type": "stream",
          "text": [
            "KruskalResult(statistic=0.2727272727272734, pvalue=0.6015081344405895)\n",
            "KruskalResult(statistic=7.0, pvalue=0.0301973834223185)\n"
          ],
          "name": "stdout"
        }
      ]
    },
    {
      "metadata": {
        "id": "7pT3IP36Rh0b",
        "colab_type": "text"
      },
      "cell_type": "markdown",
      "source": [
        "And there's many more! `scipy.stats` is fairly comprehensive, though there are even more available if you delve into the extended world of statistics packages. As tests get increasingly obscure and specialized, the importance of knowing them by heart becomes small - but being able to look them up and figure them out when they *are* relevant is still important."
      ]
    },
    {
      "metadata": {
        "id": "L1_KRuHCM7BW",
        "colab_type": "text"
      },
      "cell_type": "markdown",
      "source": [
        "## Live Lecture - let's explore some more of scipy.stats\n",
        "\n",
        "Candidate topics to explore:\n",
        "\n",
        "- `scipy.stats.chi2` - the Chi-squared distribution, which we can use to reproduce the Chi-squared test\n",
        "- Calculate the Chi-Squared test statistic \"by hand\" (with code), and feed it into `chi2`\n",
        "- Build a confidence interval with `stats.t.ppf`, the t-distribution percentile point function (the inverse of the CDF) - we can write a function to return a tuple of `(mean, lower bound, upper bound)` that you can then use for the assignment (visualizing confidence intervals)"
      ]
    },
    {
      "metadata": {
        "id": "qW6k0dorM7Lz",
        "colab_type": "code",
        "outputId": "acca86b1-e32b-4349-d660-97c0c7dd68bf",
        "colab": {
          "base_uri": "https://localhost:8080/",
          "height": 227
        }
      },
      "cell_type": "code",
      "source": [
        "# Taking requests! Come to lecture with a topic or problem and we'll try it.\n",
        "gender = ['male', 'male','male', 'female','female','female']\n",
        "eats_outside = ['outside','inside','inside','inside','outside','outside']\n",
        "import pandas as pd\n",
        "df = pd.DataFrame({'gender':gender, 'preference': eats_outside})\n",
        "df.head(6)"
      ],
      "execution_count": 40,
      "outputs": [
        {
          "output_type": "execute_result",
          "data": {
            "text/html": [
              "<div>\n",
              "<style scoped>\n",
              "    .dataframe tbody tr th:only-of-type {\n",
              "        vertical-align: middle;\n",
              "    }\n",
              "\n",
              "    .dataframe tbody tr th {\n",
              "        vertical-align: top;\n",
              "    }\n",
              "\n",
              "    .dataframe thead th {\n",
              "        text-align: right;\n",
              "    }\n",
              "</style>\n",
              "<table border=\"1\" class=\"dataframe\">\n",
              "  <thead>\n",
              "    <tr style=\"text-align: right;\">\n",
              "      <th></th>\n",
              "      <th>gender</th>\n",
              "      <th>preference</th>\n",
              "    </tr>\n",
              "  </thead>\n",
              "  <tbody>\n",
              "    <tr>\n",
              "      <th>0</th>\n",
              "      <td>male</td>\n",
              "      <td>outside</td>\n",
              "    </tr>\n",
              "    <tr>\n",
              "      <th>1</th>\n",
              "      <td>male</td>\n",
              "      <td>inside</td>\n",
              "    </tr>\n",
              "    <tr>\n",
              "      <th>2</th>\n",
              "      <td>male</td>\n",
              "      <td>inside</td>\n",
              "    </tr>\n",
              "    <tr>\n",
              "      <th>3</th>\n",
              "      <td>female</td>\n",
              "      <td>inside</td>\n",
              "    </tr>\n",
              "    <tr>\n",
              "      <th>4</th>\n",
              "      <td>female</td>\n",
              "      <td>outside</td>\n",
              "    </tr>\n",
              "    <tr>\n",
              "      <th>5</th>\n",
              "      <td>female</td>\n",
              "      <td>outside</td>\n",
              "    </tr>\n",
              "  </tbody>\n",
              "</table>\n",
              "</div>"
            ],
            "text/plain": [
              "   gender preference\n",
              "0    male    outside\n",
              "1    male     inside\n",
              "2    male     inside\n",
              "3  female     inside\n",
              "4  female    outside\n",
              "5  female    outside"
            ]
          },
          "metadata": {
            "tags": []
          },
          "execution_count": 40
        }
      ]
    },
    {
      "metadata": {
        "id": "MFttFgucAl9T",
        "colab_type": "code",
        "outputId": "3d986462-b558-4714-cc5f-46c55e5172e4",
        "colab": {
          "base_uri": "https://localhost:8080/",
          "height": 137
        }
      },
      "cell_type": "code",
      "source": [
        "table = pd.crosstab(df.gender,df.preference)\n",
        "table"
      ],
      "execution_count": 41,
      "outputs": [
        {
          "output_type": "execute_result",
          "data": {
            "text/html": [
              "<div>\n",
              "<style scoped>\n",
              "    .dataframe tbody tr th:only-of-type {\n",
              "        vertical-align: middle;\n",
              "    }\n",
              "\n",
              "    .dataframe tbody tr th {\n",
              "        vertical-align: top;\n",
              "    }\n",
              "\n",
              "    .dataframe thead th {\n",
              "        text-align: right;\n",
              "    }\n",
              "</style>\n",
              "<table border=\"1\" class=\"dataframe\">\n",
              "  <thead>\n",
              "    <tr style=\"text-align: right;\">\n",
              "      <th>preference</th>\n",
              "      <th>inside</th>\n",
              "      <th>outside</th>\n",
              "    </tr>\n",
              "    <tr>\n",
              "      <th>gender</th>\n",
              "      <th></th>\n",
              "      <th></th>\n",
              "    </tr>\n",
              "  </thead>\n",
              "  <tbody>\n",
              "    <tr>\n",
              "      <th>female</th>\n",
              "      <td>1</td>\n",
              "      <td>2</td>\n",
              "    </tr>\n",
              "    <tr>\n",
              "      <th>male</th>\n",
              "      <td>2</td>\n",
              "      <td>1</td>\n",
              "    </tr>\n",
              "  </tbody>\n",
              "</table>\n",
              "</div>"
            ],
            "text/plain": [
              "preference  inside  outside\n",
              "gender                     \n",
              "female           1        2\n",
              "male             2        1"
            ]
          },
          "metadata": {
            "tags": []
          },
          "execution_count": 41
        }
      ]
    },
    {
      "metadata": {
        "id": "eqYln5LyBHKE",
        "colab_type": "code",
        "outputId": "5925d807-8f03-4580-bfe4-680933eb34ac",
        "colab": {
          "base_uri": "https://localhost:8080/",
          "height": 167
        }
      },
      "cell_type": "code",
      "source": [
        "pd.crosstab(df.gender,df.preference, margins = True)#sums up total"
      ],
      "execution_count": 42,
      "outputs": [
        {
          "output_type": "execute_result",
          "data": {
            "text/html": [
              "<div>\n",
              "<style scoped>\n",
              "    .dataframe tbody tr th:only-of-type {\n",
              "        vertical-align: middle;\n",
              "    }\n",
              "\n",
              "    .dataframe tbody tr th {\n",
              "        vertical-align: top;\n",
              "    }\n",
              "\n",
              "    .dataframe thead th {\n",
              "        text-align: right;\n",
              "    }\n",
              "</style>\n",
              "<table border=\"1\" class=\"dataframe\">\n",
              "  <thead>\n",
              "    <tr style=\"text-align: right;\">\n",
              "      <th>preference</th>\n",
              "      <th>inside</th>\n",
              "      <th>outside</th>\n",
              "      <th>All</th>\n",
              "    </tr>\n",
              "    <tr>\n",
              "      <th>gender</th>\n",
              "      <th></th>\n",
              "      <th></th>\n",
              "      <th></th>\n",
              "    </tr>\n",
              "  </thead>\n",
              "  <tbody>\n",
              "    <tr>\n",
              "      <th>female</th>\n",
              "      <td>1</td>\n",
              "      <td>2</td>\n",
              "      <td>3</td>\n",
              "    </tr>\n",
              "    <tr>\n",
              "      <th>male</th>\n",
              "      <td>2</td>\n",
              "      <td>1</td>\n",
              "      <td>3</td>\n",
              "    </tr>\n",
              "    <tr>\n",
              "      <th>All</th>\n",
              "      <td>3</td>\n",
              "      <td>3</td>\n",
              "      <td>6</td>\n",
              "    </tr>\n",
              "  </tbody>\n",
              "</table>\n",
              "</div>"
            ],
            "text/plain": [
              "preference  inside  outside  All\n",
              "gender                          \n",
              "female           1        2    3\n",
              "male             2        1    3\n",
              "All              3        3    6"
            ]
          },
          "metadata": {
            "tags": []
          },
          "execution_count": 42
        }
      ]
    },
    {
      "metadata": {
        "id": "MQ5UXI7tBwUs",
        "colab_type": "code",
        "outputId": "2f4a1fe7-0e04-47f7-eb0e-41e18d3d4692",
        "colab": {
          "base_uri": "https://localhost:8080/",
          "height": 197
        }
      },
      "cell_type": "code",
      "source": [
        "df = df.replace(\"male\",0)\n",
        "df = df.replace(\"female\",1)\n",
        "df = df.replace(\"outside\",0)\n",
        "df = df.replace(\"inside\",1)\n",
        "df.head()"
      ],
      "execution_count": 43,
      "outputs": [
        {
          "output_type": "execute_result",
          "data": {
            "text/html": [
              "<div>\n",
              "<style scoped>\n",
              "    .dataframe tbody tr th:only-of-type {\n",
              "        vertical-align: middle;\n",
              "    }\n",
              "\n",
              "    .dataframe tbody tr th {\n",
              "        vertical-align: top;\n",
              "    }\n",
              "\n",
              "    .dataframe thead th {\n",
              "        text-align: right;\n",
              "    }\n",
              "</style>\n",
              "<table border=\"1\" class=\"dataframe\">\n",
              "  <thead>\n",
              "    <tr style=\"text-align: right;\">\n",
              "      <th></th>\n",
              "      <th>gender</th>\n",
              "      <th>preference</th>\n",
              "    </tr>\n",
              "  </thead>\n",
              "  <tbody>\n",
              "    <tr>\n",
              "      <th>0</th>\n",
              "      <td>0</td>\n",
              "      <td>0</td>\n",
              "    </tr>\n",
              "    <tr>\n",
              "      <th>1</th>\n",
              "      <td>0</td>\n",
              "      <td>1</td>\n",
              "    </tr>\n",
              "    <tr>\n",
              "      <th>2</th>\n",
              "      <td>0</td>\n",
              "      <td>1</td>\n",
              "    </tr>\n",
              "    <tr>\n",
              "      <th>3</th>\n",
              "      <td>1</td>\n",
              "      <td>1</td>\n",
              "    </tr>\n",
              "    <tr>\n",
              "      <th>4</th>\n",
              "      <td>1</td>\n",
              "      <td>0</td>\n",
              "    </tr>\n",
              "  </tbody>\n",
              "</table>\n",
              "</div>"
            ],
            "text/plain": [
              "   gender  preference\n",
              "0       0           0\n",
              "1       0           1\n",
              "2       0           1\n",
              "3       1           1\n",
              "4       1           0"
            ]
          },
          "metadata": {
            "tags": []
          },
          "execution_count": 43
        }
      ]
    },
    {
      "metadata": {
        "id": "3L4TPNvHCCbR",
        "colab_type": "code",
        "outputId": "e714d74b-51e0-4fd0-df30-9ed205e51548",
        "colab": {
          "base_uri": "https://localhost:8080/",
          "height": 240
        }
      },
      "cell_type": "code",
      "source": [
        "pd.crosstab(df.gender, df.preference, margins=True)\n",
        "\n",
        "expected = [[1.5, 1.5],\n",
        "           [1.5, 1.5]]\n",
        "#marginal proportions\n",
        "\n",
        "#total # f males (first row)=3\n",
        "\n",
        "\n",
        "\n",
        "\n",
        "#marginal proportion first row\n",
        "#obs/ttal = (3 males)/(6 humans)\n",
        "\n",
        "pd.crosstab(df.gender,df.preference, margins=True, normalize='all')\n",
        "\n",
        "#observed is a table of the marginal proportions of each subgroup, actual deviations\n",
        "observed = np.array[[.5,.5]\n",
        "                   [.5,.5]]\n",
        "#what you observed was the groups themselve were balanced.\n",
        "\n",
        "deviation = numerator = observed - expected\n",
        "print(numerator)\n",
        "\n",
        "deviation_squared = deviation**2\n",
        "print(\"deviation squared \\n\", deviation_squared)\n",
        "\n",
        "fraction = (deviation_squared/expected)\n",
        "print('fraction: \\n', fraction)\n",
        "\n",
        "Chi2 = fraction.sum()\n",
        "print(chi2/4)"
      ],
      "execution_count": 44,
      "outputs": [
        {
          "output_type": "error",
          "ename": "TypeError",
          "evalue": "ignored",
          "traceback": [
            "\u001b[0;31m---------------------------------------------------------------------------\u001b[0m",
            "\u001b[0;31mTypeError\u001b[0m                                 Traceback (most recent call last)",
            "\u001b[0;32m<ipython-input-44-a5a1d9eea643>\u001b[0m in \u001b[0;36m<module>\u001b[0;34m()\u001b[0m\n\u001b[1;32m     17\u001b[0m \u001b[0;31m#observed is a table of the marginal proportions of each subgroup, actual deviations\u001b[0m\u001b[0;34m\u001b[0m\u001b[0;34m\u001b[0m\u001b[0;34m\u001b[0m\u001b[0m\n\u001b[1;32m     18\u001b[0m observed = np.array[[.5,.5]\n\u001b[0;32m---> 19\u001b[0;31m                    [.5,.5]]\n\u001b[0m\u001b[1;32m     20\u001b[0m \u001b[0;31m#what you observed was the groups themselve were balanced.\u001b[0m\u001b[0;34m\u001b[0m\u001b[0;34m\u001b[0m\u001b[0;34m\u001b[0m\u001b[0m\n\u001b[1;32m     21\u001b[0m \u001b[0;34m\u001b[0m\u001b[0m\n",
            "\u001b[0;31mTypeError\u001b[0m: list indices must be integers or slices, not tuple"
          ]
        }
      ]
    },
    {
      "metadata": {
        "id": "R8hcFD1XGFjl",
        "colab_type": "code",
        "outputId": "0c35735d-c9e4-4e9d-9962-6b307fc300e6",
        "colab": {
          "base_uri": "https://localhost:8080/",
          "height": 34
        }
      },
      "cell_type": "code",
      "source": [
        "chi_data = [[1,2],[2,1]]\n",
        "from scipy.stats import chisquare\n",
        "\n",
        "chisquare(chi_data, axis=None)\n",
        "#take our chisquare statistic, giving a p-value\n",
        "#even though there were disproportionate people sitting outside or inside, you fail to reject the null hypothesis that they are dependent.\n",
        "#chi2 up, p value down."
      ],
      "execution_count": 45,
      "outputs": [
        {
          "output_type": "execute_result",
          "data": {
            "text/plain": [
              "Power_divergenceResult(statistic=0.6666666666666666, pvalue=0.8810148425137847)"
            ]
          },
          "metadata": {
            "tags": []
          },
          "execution_count": 45
        }
      ]
    },
    {
      "metadata": {
        "id": "5m-2A8rMHUDX",
        "colab_type": "code",
        "outputId": "49b14229-6f6c-48eb-dae4-c5c23739026f",
        "colab": {
          "base_uri": "https://localhost:8080/",
          "height": 34
        }
      },
      "cell_type": "code",
      "source": [
        "expected_values = [[1.5,1.5], [1.5,1.5]]\n",
        "deviation = (((.5)**2)/1.5)*4\n",
        "print(deviation)"
      ],
      "execution_count": 46,
      "outputs": [
        {
          "output_type": "stream",
          "text": [
            "0.6666666666666666\n"
          ],
          "name": "stdout"
        }
      ]
    },
    {
      "metadata": {
        "id": "xcF7rf9wIMb4",
        "colab_type": "code",
        "outputId": "8c2b8fa6-24a0-42f7-b520-8af35ff91d85",
        "colab": {
          "base_uri": "https://localhost:8080/",
          "height": 123
        }
      },
      "cell_type": "code",
      "source": [
        "from scipy.stats import chi2_contingency\n",
        "\n",
        "table = [[1,2],[2,4]]\n",
        "chi2statistic,pvalue, dof,observed = chi2_contingency(table) \n",
        "\n",
        "print('chi2 stat',chi2statistic)\n",
        "print('p-value',pvalue)\n",
        "print('degrees of freedom',dof)\n",
        "print('Contingency Table: \\n',observed)"
      ],
      "execution_count": 47,
      "outputs": [
        {
          "output_type": "stream",
          "text": [
            "chi2 stat 0.0\n",
            "p-value 1.0\n",
            "degrees of freedom 1\n",
            "Contingency Table: \n",
            " [[1. 2.]\n",
            " [2. 4.]]\n"
          ],
          "name": "stdout"
        }
      ]
    },
    {
      "metadata": {
        "id": "EDfy4LvtJWRM",
        "colab_type": "code",
        "outputId": "fb32a34a-c7e7-42ac-d8a2-a77db25f9a00",
        "colab": {
          "base_uri": "https://localhost:8080/",
          "height": 34
        }
      },
      "cell_type": "code",
      "source": [
        "def lazy_chisquare(observed, expected):\n",
        "  chisquare = 0\n",
        "  for row_obs, row_exp in zip(observed, expected):\n",
        "    for obs, exp in zip(row_obs,row_exp):\n",
        "      chisquare += (obs - exp)**2 / exp\n",
        "  return chisquare\n",
        "\n",
        "chi_data = [[1,2],[2,1]]\n",
        "expected_values = [[1.5,1.5],[1.5,1.5]]\n",
        "chistat = lazy_chisquare(chi_data, expected_values)\n",
        "chistat"
      ],
      "execution_count": 48,
      "outputs": [
        {
          "output_type": "execute_result",
          "data": {
            "text/plain": [
              "0.6666666666666666"
            ]
          },
          "metadata": {
            "tags": []
          },
          "execution_count": 48
        }
      ]
    },
    {
      "metadata": {
        "id": "11OzdxWTM7UR",
        "colab_type": "text"
      },
      "cell_type": "markdown",
      "source": [
        "#,# Assignment - Build a confidence interval\n",
        "\n",
        "A confidence interval refers to a neighborhood around some point estimate, the size of which is determined by the desired p-value. For instance, we might say that 52% of Americans prefer tacos to burritos, with a 95% confidence interval of +/- 5%.\n",
        "\n",
        "52% (0.52) is the point estimate, and +/- 5% (the interval $[0.47, 0.57]$) is the confidence interval. \"95% confidence\" means a p-value $\\leq 1 - 0.95 = 0.05$.\n",
        "\n",
        "In this case, the confidence interval includes $0.5$ - which is the natural null hypothesis (that half of Americans prefer tacos and half burritos, thus there is no clear favorite). So in this case, we could use the confidence interval to report that we've failed to reject the null hypothesis.\n",
        "\n",
        "But providing the full analysis with a confidence interval, including a graphical representation of it, can be a helpful and powerful way to tell your story. Done well, it is also more intuitive to a layperson than simply saying \"fail to reject the null hypothesis\" - it shows that in fact the data does *not* give a single clear result (the point estimate) but a whole range of possibilities.\n",
        "\n",
        "How is a confidence interval built, and how should it be interpreted? It does *not* mean that 95% of the data lies in that interval - instead, the frequentist interpretation is \"if we were to repeat this experiment 100 times, we would expect the average result to lie in this interval ~95 times.\"\n",
        "\n",
        "For a 95% confidence interval and a normal(-ish) distribution, you can simply remember that +/-2 standard deviations contains 95% of the probability mass, and so the 95% confidence interval based on a given sample is centered at the mean (point estimate) and has a range of +/- 2 (or technically 1.96) standard deviations.\n",
        "\n",
        "Different distributions/assumptions (90% confidence, 99% confidence) will require different math, but the overall process and interpretation (with a frequentist approach) will be the same.\n",
        "\n",
        "Your assignment - using the data from the prior module ([congressional voting records](https://archive.ics.uci.edu/ml/datasets/Congressional+Voting+Records)):\n",
        "\n",
        "1. Generate and numerically represent a confidence interval\n",
        "2. Graphically (with a plot) represent the confidence interval\n",
        "3. Interpret the confidence interval - what does it tell you about the data and its distribution?\n",
        "\n",
        "Stretch goals:\n",
        "\n",
        "1. Write a summary of your findings, mixing prose and math/code/results. *Note* - yes, this is by definition a political topic. It is challenging but important to keep your writing voice *neutral* and stick to the facts of the data. Data science often involves considering controversial issues, so it's important to be sensitive about them (especially if you want to publish).\n",
        "2. Apply the techniques you learned today to your project data or other data of your choice, and write/discuss your findings here.\n",
        "3. Refactor your code so it is elegant, readable, and can be easily run for all issues."
      ]
    },
    {
      "metadata": {
        "id": "Ckcr4A4FM7cs",
        "colab_type": "code",
        "outputId": "0d7fad00-f012-4888-f4c0-9a8f4222bbfa",
        "colab": {
          "base_uri": "https://localhost:8080/",
          "height": 70
        }
      },
      "cell_type": "code",
      "source": [
        "# TODO - your code!\n",
        "#95% of the time, my data will lie within these inner bound and upper bound. \n",
        "# how do we calculate confidence interval. \n",
        "coinflips = np.random.binomial(n=1,p=.7, size=100)\n",
        "print(coinflips)"
      ],
      "execution_count": 49,
      "outputs": [
        {
          "output_type": "stream",
          "text": [
            "[1 1 1 1 1 1 1 1 1 1 1 1 1 1 0 1 1 1 1 1 1 0 0 1 1 1 1 1 1 1 1 1 0 0 1 0 1\n",
            " 1 1 1 1 0 0 0 1 1 0 1 0 1 1 1 0 1 1 1 1 1 1 1 1 1 1 1 1 1 1 1 1 1 1 1 0 1\n",
            " 0 1 0 1 1 0 1 1 0 0 1 1 1 1 0 1 1 1 0 1 0 1 1 1 1 1]\n"
          ],
          "name": "stdout"
        }
      ]
    },
    {
      "metadata": {
        "id": "VVK-kHxyMJE6",
        "colab_type": "code",
        "outputId": "ddf11659-1d1b-40ec-e6cf-af438210ef7e",
        "colab": {
          "base_uri": "https://localhost:8080/",
          "height": 34
        }
      },
      "cell_type": "code",
      "source": [
        "import scipy.stats as stats\n",
        "stats.ttest_1samp(coinflips,0.5)\n",
        "#turn to numpy area\n",
        "# calculating statndard error and mean\n",
        "#multiply by p value\n",
        "\n",
        "\n",
        "#shave off % from left or right side\n",
        "#confidence interval is also alpha value\n",
        "\n",
        "#in a two sample t test mean is outside confidence interval, is not statistically significant\n",
        "\n",
        "#null hyp outisde confidence interval - doesnt have to  be a mean\n",
        "#confidence interval gets smaller with bigger sample size\n",
        "\n",
        "#what is standard error vs variance\n",
        "#standard version of variance"
      ],
      "execution_count": 50,
      "outputs": [
        {
          "output_type": "execute_result",
          "data": {
            "text/plain": [
              "Ttest_1sampResult(statistic=7.084225912631068, pvalue=2.069438753561787e-10)"
            ]
          },
          "metadata": {
            "tags": []
          },
          "execution_count": 50
        }
      ]
    },
    {
      "metadata": {
        "id": "9iTnv1osUNUy",
        "colab_type": "code",
        "colab": {}
      },
      "cell_type": "code",
      "source": [
        "# Confidence intervals!\n",
        "# Similar to hypothesis testing, but centered at sample mean\n",
        "# Generally better than reporting the \"point estimate\" (sample mean)\n",
        "# Why? Because point estimates aren't always perfect\n",
        "import numpy as np\n",
        "from scipy import stats\n",
        "\n",
        "\n",
        "def confidence_interval(data, confidence=0.95):\n",
        "  \"\"\"\n",
        "  Calculate a confidence interval around a sample mean for given data.\n",
        "  Using t-distribution and two-tailed test, default 95% confidence. \n",
        "  \n",
        "  Arguments:\n",
        "    data - iterable (list or numpy array) of sample observations\n",
        "    confidence - level of confidence for the interval\n",
        "  \n",
        "  Returns:\n",
        "    tuple of (mean, lower bound, upper bound)\n",
        "  \"\"\"\n",
        "  data = np.array(data)\n",
        "  mean = np.mean(data)\n",
        "  n = len(data)\n",
        "  stderr = stats.sem(data)\n",
        "  interval = stderr * stats.t.ppf((1 + confidence) / 2., n - 1)\n",
        "  return (mean, mean - interval, mean + interval)\n",
        "\n",
        "\n",
        "def report_confidence_interval(confidence_interval):\n",
        "  \"\"\"\n",
        "  Return a string with a pretty report of a confidence interval.\n",
        "  \n",
        "  Arguments:\n",
        "    confidence_interval - tuple of (mean, lower bound, upper bound)\n",
        "  \n",
        "  Returns:\n",
        "    None, but prints to screen the report\n",
        "  \"\"\"\n",
        "  #print('Mean: {}'.format(confidence_interval[0]))\n",
        "  #print('Lower bound: {}'.format(confidence_interval[1]))\n",
        "  #print('Upper bound: {}'.format(confidence_interval[2]))\n",
        "  s = \"our mean lies in the interval [{:.2}, {:.2}]\".format(\n",
        "      confidence_interval[1], confidence_interval[2])\n",
        "  return s"
      ],
      "execution_count": 0,
      "outputs": []
    },
    {
      "metadata": {
        "id": "jZ_t3xbx5zKN",
        "colab_type": "code",
        "outputId": "1d749c4b-1a40-4ef8-cf1a-043b914108bd",
        "colab": {
          "base_uri": "https://localhost:8080/",
          "height": 34
        }
      },
      "cell_type": "code",
      "source": [
        "coin_ci = confidence_interval(coinflips)\n",
        "coin_ci"
      ],
      "execution_count": 52,
      "outputs": [
        {
          "output_type": "execute_result",
          "data": {
            "text/plain": [
              "(0.79, 0.7087740590102375, 0.8712259409897626)"
            ]
          },
          "metadata": {
            "tags": []
          },
          "execution_count": 52
        }
      ]
    },
    {
      "metadata": {
        "id": "QjnMD80SQu5B",
        "colab_type": "code",
        "outputId": "8cc3ff5d-ec3d-440c-c797-e5614324fe47",
        "colab": {
          "base_uri": "https://localhost:8080/",
          "height": 34
        }
      },
      "cell_type": "code",
      "source": [
        "coin_btw = report_confidence_interval(coin_ci)# Default 95% conf\n",
        "coin_btw"
      ],
      "execution_count": 53,
      "outputs": [
        {
          "output_type": "execute_result",
          "data": {
            "text/plain": [
              "'our mean lies in the interval [0.71, 0.87]'"
            ]
          },
          "metadata": {
            "tags": []
          },
          "execution_count": 53
        }
      ]
    },
    {
      "metadata": {
        "id": "7kH4Es3nSV6X",
        "colab_type": "code",
        "colab": {}
      },
      "cell_type": "code",
      "source": [
        "import numpy as np"
      ],
      "execution_count": 0,
      "outputs": []
    },
    {
      "metadata": {
        "id": "EcpKpqfuSAav",
        "colab_type": "code",
        "colab": {}
      },
      "cell_type": "code",
      "source": [
        "congressional_Voting_R = pd.read_csv('https://archive.ics.uci.edu/ml/machine-learning-databases/voting-records/house-votes-84.data')"
      ],
      "execution_count": 0,
      "outputs": []
    },
    {
      "metadata": {
        "id": "mRUHivEjSL7Z",
        "colab_type": "code",
        "colab": {}
      },
      "cell_type": "code",
      "source": [
        "con = congressional_Voting_R.replace({'n': 0, 'y': 1, '?': np.nan})\n",
        "c = con.dropna()\n",
        "c.columns = ['party','handicapped-infants','water-project-cost-sharing','adoption-of-the-budget-resolution','physician-fee-freeze','el-salvador-aid', 'religious-groups-schools', 'anti-satellite-test-ban', 'aid-to-nicaraguan-contras','mx-missile', 'immigration','synfuels-corporation-cutback','education-spending','superfund-right-to-sue', 'crime', 'duty-free-exports', 'export-administration-act-south-africa']"
      ],
      "execution_count": 0,
      "outputs": []
    },
    {
      "metadata": {
        "id": "HMjkFJxIYLGG",
        "colab_type": "code",
        "colab": {}
      },
      "cell_type": "code",
      "source": [
        "dem = c[c['party']=='democrat']\n",
        "rep = c[c['party']=='republican']"
      ],
      "execution_count": 0,
      "outputs": []
    },
    {
      "metadata": {
        "id": "vKkIQoLyVrGk",
        "colab_type": "code",
        "colab": {
          "base_uri": "https://localhost:8080/",
          "height": 207
        },
        "outputId": "0e2ce406-3ed8-433c-980c-515476762f0b"
      },
      "cell_type": "code",
      "source": [
        "dem = dem.drop(columns = ['party'])\n",
        "dem.head(3)\n"
      ],
      "execution_count": 129,
      "outputs": [
        {
          "output_type": "execute_result",
          "data": {
            "text/html": [
              "<div>\n",
              "<style scoped>\n",
              "    .dataframe tbody tr th:only-of-type {\n",
              "        vertical-align: middle;\n",
              "    }\n",
              "\n",
              "    .dataframe tbody tr th {\n",
              "        vertical-align: top;\n",
              "    }\n",
              "\n",
              "    .dataframe thead th {\n",
              "        text-align: right;\n",
              "    }\n",
              "</style>\n",
              "<table border=\"1\" class=\"dataframe\">\n",
              "  <thead>\n",
              "    <tr style=\"text-align: right;\">\n",
              "      <th></th>\n",
              "      <th>handicapped-infants</th>\n",
              "      <th>water-project-cost-sharing</th>\n",
              "      <th>adoption-of-the-budget-resolution</th>\n",
              "      <th>physician-fee-freeze</th>\n",
              "      <th>el-salvador-aid</th>\n",
              "      <th>religious-groups-schools</th>\n",
              "      <th>anti-satellite-test-ban</th>\n",
              "      <th>aid-to-nicaraguan-contras</th>\n",
              "      <th>mx-missile</th>\n",
              "      <th>immigration</th>\n",
              "      <th>synfuels-corporation-cutback</th>\n",
              "      <th>education-spending</th>\n",
              "      <th>superfund-right-to-sue</th>\n",
              "      <th>crime</th>\n",
              "      <th>duty-free-exports</th>\n",
              "      <th>export-administration-act-south-africa</th>\n",
              "    </tr>\n",
              "  </thead>\n",
              "  <tbody>\n",
              "    <tr>\n",
              "      <th>4</th>\n",
              "      <td>0.0</td>\n",
              "      <td>1.0</td>\n",
              "      <td>1.0</td>\n",
              "      <td>0.0</td>\n",
              "      <td>1.0</td>\n",
              "      <td>1.0</td>\n",
              "      <td>0.0</td>\n",
              "      <td>0.0</td>\n",
              "      <td>0.0</td>\n",
              "      <td>0.0</td>\n",
              "      <td>0.0</td>\n",
              "      <td>0.0</td>\n",
              "      <td>1.0</td>\n",
              "      <td>1.0</td>\n",
              "      <td>1.0</td>\n",
              "      <td>1.0</td>\n",
              "    </tr>\n",
              "    <tr>\n",
              "      <th>18</th>\n",
              "      <td>1.0</td>\n",
              "      <td>1.0</td>\n",
              "      <td>1.0</td>\n",
              "      <td>0.0</td>\n",
              "      <td>0.0</td>\n",
              "      <td>0.0</td>\n",
              "      <td>1.0</td>\n",
              "      <td>1.0</td>\n",
              "      <td>1.0</td>\n",
              "      <td>0.0</td>\n",
              "      <td>1.0</td>\n",
              "      <td>0.0</td>\n",
              "      <td>0.0</td>\n",
              "      <td>0.0</td>\n",
              "      <td>1.0</td>\n",
              "      <td>1.0</td>\n",
              "    </tr>\n",
              "    <tr>\n",
              "      <th>22</th>\n",
              "      <td>1.0</td>\n",
              "      <td>1.0</td>\n",
              "      <td>1.0</td>\n",
              "      <td>0.0</td>\n",
              "      <td>0.0</td>\n",
              "      <td>0.0</td>\n",
              "      <td>1.0</td>\n",
              "      <td>1.0</td>\n",
              "      <td>1.0</td>\n",
              "      <td>0.0</td>\n",
              "      <td>0.0</td>\n",
              "      <td>0.0</td>\n",
              "      <td>0.0</td>\n",
              "      <td>0.0</td>\n",
              "      <td>1.0</td>\n",
              "      <td>1.0</td>\n",
              "    </tr>\n",
              "  </tbody>\n",
              "</table>\n",
              "</div>"
            ],
            "text/plain": [
              "    handicapped-infants  water-project-cost-sharing  \\\n",
              "4                   0.0                         1.0   \n",
              "18                  1.0                         1.0   \n",
              "22                  1.0                         1.0   \n",
              "\n",
              "    adoption-of-the-budget-resolution  physician-fee-freeze  el-salvador-aid  \\\n",
              "4                                 1.0                   0.0              1.0   \n",
              "18                                1.0                   0.0              0.0   \n",
              "22                                1.0                   0.0              0.0   \n",
              "\n",
              "    religious-groups-schools  anti-satellite-test-ban  \\\n",
              "4                        1.0                      0.0   \n",
              "18                       0.0                      1.0   \n",
              "22                       0.0                      1.0   \n",
              "\n",
              "    aid-to-nicaraguan-contras  mx-missile  immigration  \\\n",
              "4                         0.0         0.0          0.0   \n",
              "18                        1.0         1.0          0.0   \n",
              "22                        1.0         1.0          0.0   \n",
              "\n",
              "    synfuels-corporation-cutback  education-spending  superfund-right-to-sue  \\\n",
              "4                            0.0                 0.0                     1.0   \n",
              "18                           1.0                 0.0                     0.0   \n",
              "22                           0.0                 0.0                     0.0   \n",
              "\n",
              "    crime  duty-free-exports  export-administration-act-south-africa  \n",
              "4     1.0                1.0                                     1.0  \n",
              "18    0.0                1.0                                     1.0  \n",
              "22    0.0                1.0                                     1.0  "
            ]
          },
          "metadata": {
            "tags": []
          },
          "execution_count": 129
        }
      ]
    },
    {
      "metadata": {
        "id": "4hh9SziKZGRX",
        "colab_type": "code",
        "colab": {
          "base_uri": "https://localhost:8080/",
          "height": 207
        },
        "outputId": "ad5f76b1-6820-4f8d-f9bf-bf5ecae9ffc6"
      },
      "cell_type": "code",
      "source": [
        "rep = rep.drop(columns = ['party'])\n",
        "rep.head(3)"
      ],
      "execution_count": 130,
      "outputs": [
        {
          "output_type": "execute_result",
          "data": {
            "text/html": [
              "<div>\n",
              "<style scoped>\n",
              "    .dataframe tbody tr th:only-of-type {\n",
              "        vertical-align: middle;\n",
              "    }\n",
              "\n",
              "    .dataframe tbody tr th {\n",
              "        vertical-align: top;\n",
              "    }\n",
              "\n",
              "    .dataframe thead th {\n",
              "        text-align: right;\n",
              "    }\n",
              "</style>\n",
              "<table border=\"1\" class=\"dataframe\">\n",
              "  <thead>\n",
              "    <tr style=\"text-align: right;\">\n",
              "      <th></th>\n",
              "      <th>handicapped-infants</th>\n",
              "      <th>water-project-cost-sharing</th>\n",
              "      <th>adoption-of-the-budget-resolution</th>\n",
              "      <th>physician-fee-freeze</th>\n",
              "      <th>el-salvador-aid</th>\n",
              "      <th>religious-groups-schools</th>\n",
              "      <th>anti-satellite-test-ban</th>\n",
              "      <th>aid-to-nicaraguan-contras</th>\n",
              "      <th>mx-missile</th>\n",
              "      <th>immigration</th>\n",
              "      <th>synfuels-corporation-cutback</th>\n",
              "      <th>education-spending</th>\n",
              "      <th>superfund-right-to-sue</th>\n",
              "      <th>crime</th>\n",
              "      <th>duty-free-exports</th>\n",
              "      <th>export-administration-act-south-africa</th>\n",
              "    </tr>\n",
              "  </thead>\n",
              "  <tbody>\n",
              "    <tr>\n",
              "      <th>7</th>\n",
              "      <td>0.0</td>\n",
              "      <td>1.0</td>\n",
              "      <td>0.0</td>\n",
              "      <td>1.0</td>\n",
              "      <td>1.0</td>\n",
              "      <td>1.0</td>\n",
              "      <td>0.0</td>\n",
              "      <td>0.0</td>\n",
              "      <td>0.0</td>\n",
              "      <td>0.0</td>\n",
              "      <td>0.0</td>\n",
              "      <td>1.0</td>\n",
              "      <td>1.0</td>\n",
              "      <td>1.0</td>\n",
              "      <td>0.0</td>\n",
              "      <td>1.0</td>\n",
              "    </tr>\n",
              "    <tr>\n",
              "      <th>27</th>\n",
              "      <td>1.0</td>\n",
              "      <td>0.0</td>\n",
              "      <td>0.0</td>\n",
              "      <td>1.0</td>\n",
              "      <td>1.0</td>\n",
              "      <td>0.0</td>\n",
              "      <td>1.0</td>\n",
              "      <td>1.0</td>\n",
              "      <td>1.0</td>\n",
              "      <td>0.0</td>\n",
              "      <td>0.0</td>\n",
              "      <td>1.0</td>\n",
              "      <td>1.0</td>\n",
              "      <td>1.0</td>\n",
              "      <td>0.0</td>\n",
              "      <td>1.0</td>\n",
              "    </tr>\n",
              "    <tr>\n",
              "      <th>29</th>\n",
              "      <td>0.0</td>\n",
              "      <td>1.0</td>\n",
              "      <td>0.0</td>\n",
              "      <td>1.0</td>\n",
              "      <td>1.0</td>\n",
              "      <td>1.0</td>\n",
              "      <td>0.0</td>\n",
              "      <td>0.0</td>\n",
              "      <td>0.0</td>\n",
              "      <td>0.0</td>\n",
              "      <td>0.0</td>\n",
              "      <td>1.0</td>\n",
              "      <td>1.0</td>\n",
              "      <td>1.0</td>\n",
              "      <td>0.0</td>\n",
              "      <td>0.0</td>\n",
              "    </tr>\n",
              "  </tbody>\n",
              "</table>\n",
              "</div>"
            ],
            "text/plain": [
              "    handicapped-infants  water-project-cost-sharing  \\\n",
              "7                   0.0                         1.0   \n",
              "27                  1.0                         0.0   \n",
              "29                  0.0                         1.0   \n",
              "\n",
              "    adoption-of-the-budget-resolution  physician-fee-freeze  el-salvador-aid  \\\n",
              "7                                 0.0                   1.0              1.0   \n",
              "27                                0.0                   1.0              1.0   \n",
              "29                                0.0                   1.0              1.0   \n",
              "\n",
              "    religious-groups-schools  anti-satellite-test-ban  \\\n",
              "7                        1.0                      0.0   \n",
              "27                       0.0                      1.0   \n",
              "29                       1.0                      0.0   \n",
              "\n",
              "    aid-to-nicaraguan-contras  mx-missile  immigration  \\\n",
              "7                         0.0         0.0          0.0   \n",
              "27                        1.0         1.0          0.0   \n",
              "29                        0.0         0.0          0.0   \n",
              "\n",
              "    synfuels-corporation-cutback  education-spending  superfund-right-to-sue  \\\n",
              "7                            0.0                 1.0                     1.0   \n",
              "27                           0.0                 1.0                     1.0   \n",
              "29                           0.0                 1.0                     1.0   \n",
              "\n",
              "    crime  duty-free-exports  export-administration-act-south-africa  \n",
              "7     1.0                0.0                                     1.0  \n",
              "27    1.0                0.0                                     1.0  \n",
              "29    1.0                0.0                                     0.0  "
            ]
          },
          "metadata": {
            "tags": []
          },
          "execution_count": 130
        }
      ]
    },
    {
      "metadata": {
        "id": "_KW1xHH_Zp3m",
        "colab_type": "code",
        "colab": {
          "base_uri": "https://localhost:8080/",
          "height": 318
        },
        "outputId": "15c040eb-967c-473f-fab1-482b0e060d39"
      },
      "cell_type": "code",
      "source": [
        "ci_dem = dem.apply(lambda x : confidence_interval(list(x)))\n",
        "ci_dem"
      ],
      "execution_count": 131,
      "outputs": [
        {
          "output_type": "execute_result",
          "data": {
            "text/plain": [
              "handicapped-infants                       (0.5887096774193549, 0.5008854514528094, 0.676...\n",
              "water-project-cost-sharing                (0.45161290322580644, 0.3627917755681809, 0.54...\n",
              "adoption-of-the-budget-resolution         (0.8548387096774194, 0.791966749899413, 0.9177...\n",
              "physician-fee-freeze                      (0.04838709677419355, 0.01008836071171925, 0.0...\n",
              "el-salvador-aid                           (0.20161290322580644, 0.13000591391201893, 0.2...\n",
              "religious-groups-schools                  (0.4435483870967742, 0.3548790007497182, 0.532...\n",
              "anti-satellite-test-ban                   (0.7661290322580645, 0.6905800506734978, 0.841...\n",
              "aid-to-nicaraguan-contras                 (0.8306451612903226, 0.7637035637475735, 0.897...\n",
              "mx-missile                                (0.7903225806451613, 0.7176672431336555, 0.862...\n",
              "immigration                               (0.532258064516129, 0.44320399355877216, 0.621...\n",
              "synfuels-corporation-cutback              (0.5080645161290323, 0.41883613678222775, 0.59...\n",
              "education-spending                        (0.12903225806451613, 0.06919940918552969, 0.1...\n",
              "superfund-right-to-sue                    (0.2903225806451613, 0.2093085202865504, 0.371...\n",
              "crime                                     (0.3467741935483871, 0.26182787733541646, 0.43...\n",
              "duty-free-exports                         (0.5967741935483871, 0.5092216687100866, 0.684...\n",
              "export-administration-act-south-africa    (0.9435483870967742, 0.9023566825660085, 0.984...\n",
              "dtype: object"
            ]
          },
          "metadata": {
            "tags": []
          },
          "execution_count": 131
        }
      ]
    },
    {
      "metadata": {
        "id": "dZHTw2hfZ4dJ",
        "colab_type": "code",
        "colab": {
          "base_uri": "https://localhost:8080/",
          "height": 318
        },
        "outputId": "390d10fb-8685-4646-9729-4a4508f531c7"
      },
      "cell_type": "code",
      "source": [
        "ci_rep = rep.apply(lambda x : confidence_interval(list(x)))\n",
        "ci_rep"
      ],
      "execution_count": 132,
      "outputs": [
        {
          "output_type": "execute_result",
          "data": {
            "text/plain": [
              "handicapped-infants                       (0.21296296296296297, 0.13450349074958223, 0.2...\n",
              "water-project-cost-sharing                (0.4722222222222222, 0.3765480931771919, 0.567...\n",
              "adoption-of-the-budget-resolution         (0.1574074074074074, 0.08761355698812177, 0.22...\n",
              "physician-fee-freeze                      (0.9907407407407407, 0.9723853391655276, 1.009...\n",
              "el-salvador-aid                           (0.9537037037037037, 0.913434261310743, 0.9939...\n",
              "religious-groups-schools                  (0.8703703703703703, 0.8059979340740583, 0.934...\n",
              "anti-satellite-test-ban                   (0.26851851851851855, 0.18358393802160433, 0.3...\n",
              "aid-to-nicaraguan-contras                 (0.14814814814814814, 0.08006715123831286, 0.2...\n",
              "mx-missile                                (0.1388888888888889, 0.07261245914426012, 0.20...\n",
              "immigration                               (0.5740740740740741, 0.4793093369789436, 0.668...\n",
              "synfuels-corporation-cutback              (0.1574074074074074, 0.08761355698812177, 0.22...\n",
              "education-spending                        (0.8518518518518519, 0.7837708549420166, 0.919...\n",
              "superfund-right-to-sue                    (0.8425925925925926, 0.7727987421733069, 0.912...\n",
              "crime                                     (0.9814814814814815, 0.955644609582101, 1.0073...\n",
              "duty-free-exports                         (0.1111111111111111, 0.050883138942941386, 0.1...\n",
              "export-administration-act-south-africa    (0.6666666666666666, 0.5763247084144121, 0.757...\n",
              "dtype: object"
            ]
          },
          "metadata": {
            "tags": []
          },
          "execution_count": 132
        }
      ]
    },
    {
      "metadata": {
        "id": "57x37GOWcFy4",
        "colab_type": "code",
        "outputId": "872068dd-6a15-44eb-d694-a029a196372a",
        "colab": {
          "base_uri": "https://localhost:8080/",
          "height": 318
        }
      },
      "cell_type": "code",
      "source": [
        "ourmean_dem = ci_dem.apply(lambda x : report_confidence_interval(list(x)))\n",
        "ourmean_dem\n"
      ],
      "execution_count": 133,
      "outputs": [
        {
          "output_type": "execute_result",
          "data": {
            "text/plain": [
              "handicapped-infants                         our mean lies in the interval [0.5, 0.68]\n",
              "water-project-cost-sharing                 our mean lies in the interval [0.36, 0.54]\n",
              "adoption-of-the-budget-resolution          our mean lies in the interval [0.79, 0.92]\n",
              "physician-fee-freeze                      our mean lies in the interval [0.01, 0.087]\n",
              "el-salvador-aid                            our mean lies in the interval [0.13, 0.27]\n",
              "religious-groups-schools                   our mean lies in the interval [0.35, 0.53]\n",
              "anti-satellite-test-ban                    our mean lies in the interval [0.69, 0.84]\n",
              "aid-to-nicaraguan-contras                   our mean lies in the interval [0.76, 0.9]\n",
              "mx-missile                                 our mean lies in the interval [0.72, 0.86]\n",
              "immigration                                our mean lies in the interval [0.44, 0.62]\n",
              "synfuels-corporation-cutback                our mean lies in the interval [0.42, 0.6]\n",
              "education-spending                        our mean lies in the interval [0.069, 0.19]\n",
              "superfund-right-to-sue                     our mean lies in the interval [0.21, 0.37]\n",
              "crime                                      our mean lies in the interval [0.26, 0.43]\n",
              "duty-free-exports                          our mean lies in the interval [0.51, 0.68]\n",
              "export-administration-act-south-africa      our mean lies in the interval [0.9, 0.98]\n",
              "dtype: object"
            ]
          },
          "metadata": {
            "tags": []
          },
          "execution_count": 133
        }
      ]
    },
    {
      "metadata": {
        "id": "254yqmAWZpDn",
        "colab_type": "code",
        "outputId": "92e97e59-4057-4e07-dd85-a7f28c394168",
        "colab": {
          "base_uri": "https://localhost:8080/",
          "height": 318
        }
      },
      "cell_type": "code",
      "source": [
        "ourmean_rep = ci_rep.apply(lambda x : report_confidence_interval(list(x)))\n",
        "ourmean_rep"
      ],
      "execution_count": 134,
      "outputs": [
        {
          "output_type": "execute_result",
          "data": {
            "text/plain": [
              "handicapped-infants                        our mean lies in the interval [0.13, 0.29]\n",
              "water-project-cost-sharing                 our mean lies in the interval [0.38, 0.57]\n",
              "adoption-of-the-budget-resolution         our mean lies in the interval [0.088, 0.23]\n",
              "physician-fee-freeze                        our mean lies in the interval [0.97, 1.0]\n",
              "el-salvador-aid                            our mean lies in the interval [0.91, 0.99]\n",
              "religious-groups-schools                   our mean lies in the interval [0.81, 0.93]\n",
              "anti-satellite-test-ban                    our mean lies in the interval [0.18, 0.35]\n",
              "aid-to-nicaraguan-contras                  our mean lies in the interval [0.08, 0.22]\n",
              "mx-missile                                our mean lies in the interval [0.073, 0.21]\n",
              "immigration                                our mean lies in the interval [0.48, 0.67]\n",
              "synfuels-corporation-cutback              our mean lies in the interval [0.088, 0.23]\n",
              "education-spending                         our mean lies in the interval [0.78, 0.92]\n",
              "superfund-right-to-sue                     our mean lies in the interval [0.77, 0.91]\n",
              "crime                                       our mean lies in the interval [0.96, 1.0]\n",
              "duty-free-exports                         our mean lies in the interval [0.051, 0.17]\n",
              "export-administration-act-south-africa     our mean lies in the interval [0.58, 0.76]\n",
              "dtype: object"
            ]
          },
          "metadata": {
            "tags": []
          },
          "execution_count": 134
        }
      ]
    },
    {
      "metadata": {
        "id": "2bAKWitObIj_",
        "colab_type": "code",
        "colab": {}
      },
      "cell_type": "code",
      "source": [
        "def ci_for_graphing(confidence_interval):\n",
        "  \"\"\"\n",
        "  Return a mean range for the confidence interval.\n",
        "\n",
        "  \"\"\"\n",
        "  s = \"[{:.2}, {:.2}]\".format(\n",
        "      confidence_interval[1], confidence_interval[2])\n",
        "  return s"
      ],
      "execution_count": 0,
      "outputs": []
    },
    {
      "metadata": {
        "id": "3Ukiw34bbYkx",
        "colab_type": "code",
        "colab": {
          "base_uri": "https://localhost:8080/",
          "height": 318
        },
        "outputId": "518961b4-bca1-4ca6-f88a-9985e4670d1b"
      },
      "cell_type": "code",
      "source": [
        "dem_ci_forgraphing = ci_dem.apply(lambda x : ci_for_graphing(list(x)))\n",
        "dem_ci_forgraphing"
      ],
      "execution_count": 151,
      "outputs": [
        {
          "output_type": "execute_result",
          "data": {
            "text/plain": [
              "handicapped-infants                         [0.5, 0.68]\n",
              "water-project-cost-sharing                 [0.36, 0.54]\n",
              "adoption-of-the-budget-resolution          [0.79, 0.92]\n",
              "physician-fee-freeze                      [0.01, 0.087]\n",
              "el-salvador-aid                            [0.13, 0.27]\n",
              "religious-groups-schools                   [0.35, 0.53]\n",
              "anti-satellite-test-ban                    [0.69, 0.84]\n",
              "aid-to-nicaraguan-contras                   [0.76, 0.9]\n",
              "mx-missile                                 [0.72, 0.86]\n",
              "immigration                                [0.44, 0.62]\n",
              "synfuels-corporation-cutback                [0.42, 0.6]\n",
              "education-spending                        [0.069, 0.19]\n",
              "superfund-right-to-sue                     [0.21, 0.37]\n",
              "crime                                      [0.26, 0.43]\n",
              "duty-free-exports                          [0.51, 0.68]\n",
              "export-administration-act-south-africa      [0.9, 0.98]\n",
              "dtype: object"
            ]
          },
          "metadata": {
            "tags": []
          },
          "execution_count": 151
        }
      ]
    },
    {
      "metadata": {
        "id": "ClKLYWKjeIKA",
        "colab_type": "code",
        "colab": {
          "base_uri": "https://localhost:8080/",
          "height": 301
        },
        "outputId": "bcea003a-d831-49b9-bdca-1c4cdb4be5aa"
      },
      "cell_type": "code",
      "source": [
        "demci_list = dem_ci_forgraphing.tolist()\n",
        "demci_list"
      ],
      "execution_count": 152,
      "outputs": [
        {
          "output_type": "execute_result",
          "data": {
            "text/plain": [
              "['[0.5, 0.68]',\n",
              " '[0.36, 0.54]',\n",
              " '[0.79, 0.92]',\n",
              " '[0.01, 0.087]',\n",
              " '[0.13, 0.27]',\n",
              " '[0.35, 0.53]',\n",
              " '[0.69, 0.84]',\n",
              " '[0.76, 0.9]',\n",
              " '[0.72, 0.86]',\n",
              " '[0.44, 0.62]',\n",
              " '[0.42, 0.6]',\n",
              " '[0.069, 0.19]',\n",
              " '[0.21, 0.37]',\n",
              " '[0.26, 0.43]',\n",
              " '[0.51, 0.68]',\n",
              " '[0.9, 0.98]']"
            ]
          },
          "metadata": {
            "tags": []
          },
          "execution_count": 152
        }
      ]
    },
    {
      "metadata": {
        "id": "cx2RWIt8f98O",
        "colab_type": "code",
        "colab": {
          "base_uri": "https://localhost:8080/",
          "height": 318
        },
        "outputId": "d46d4c95-84cd-4347-a6c4-459128cee5d7"
      },
      "cell_type": "code",
      "source": [
        "df_ci = pd.Series((v[0] for v in demci_list))\n",
        "df_ci"
      ],
      "execution_count": 147,
      "outputs": [
        {
          "output_type": "execute_result",
          "data": {
            "text/plain": [
              "0     [\n",
              "1     [\n",
              "2     [\n",
              "3     [\n",
              "4     [\n",
              "5     [\n",
              "6     [\n",
              "7     [\n",
              "8     [\n",
              "9     [\n",
              "10    [\n",
              "11    [\n",
              "12    [\n",
              "13    [\n",
              "14    [\n",
              "15    [\n",
              "dtype: object"
            ]
          },
          "metadata": {
            "tags": []
          },
          "execution_count": 147
        }
      ]
    },
    {
      "metadata": {
        "id": "5WOqnUQLc4Fi",
        "colab_type": "code",
        "colab": {
          "base_uri": "https://localhost:8080/",
          "height": 318
        },
        "outputId": "13e7c3f9-338d-4b6f-d875-ce8d9fbaf613"
      },
      "cell_type": "code",
      "source": [
        "re_index = ['handicapped-infants','water-project-cost-sharing','adoption-of-the-budget-resolution','physician-fee-freeze','el-salvador-aid', 'religious-groups-schools', 'anti-satellite-test-ban', 'aid-to-nicaraguan-contras','mx-missile', 'immigration','synfuels-corporation-cutback','education-spending','superfund-right-to-sue', 'crime', 'duty-free-exports', 'export-administration-act-south-africa']\n",
        "dem_ci_forgraphing.reindex([pd.Index(re_index)])"
      ],
      "execution_count": 144,
      "outputs": [
        {
          "output_type": "execute_result",
          "data": {
            "text/plain": [
              "handicapped-infants                       NaN\n",
              "water-project-cost-sharing                NaN\n",
              "adoption-of-the-budget-resolution         NaN\n",
              "physician-fee-freeze                      NaN\n",
              "el-salvador-aid                           NaN\n",
              "religious-groups-schools                  NaN\n",
              "anti-satellite-test-ban                   NaN\n",
              "aid-to-nicaraguan-contras                 NaN\n",
              "mx-missile                                NaN\n",
              "immigration                               NaN\n",
              "synfuels-corporation-cutback              NaN\n",
              "education-spending                        NaN\n",
              "superfund-right-to-sue                    NaN\n",
              "crime                                     NaN\n",
              "duty-free-exports                         NaN\n",
              "export-administration-act-south-africa    NaN\n",
              "dtype: object"
            ]
          },
          "metadata": {
            "tags": []
          },
          "execution_count": 144
        }
      ]
    },
    {
      "metadata": {
        "id": "4g04BlGTbpGP",
        "colab_type": "code",
        "colab": {
          "base_uri": "https://localhost:8080/",
          "height": 318
        },
        "outputId": "42039a18-d0b2-4493-ee76-f4366990cf42"
      },
      "cell_type": "code",
      "source": [
        "rep_ci_forgraphing = ci_rep.apply(lambda x : ci_for_graphing(list(x)))\n",
        "rep_ci_forgraphing"
      ],
      "execution_count": 124,
      "outputs": [
        {
          "output_type": "execute_result",
          "data": {
            "text/plain": [
              "handicapped-infants                        [0.13, 0.29]\n",
              "water-project-cost-sharing                 [0.38, 0.57]\n",
              "adoption-of-the-budget-resolution         [0.088, 0.23]\n",
              "physician-fee-freeze                        [0.97, 1.0]\n",
              "el-salvador-aid                            [0.91, 0.99]\n",
              "religious-groups-in-schools                [0.81, 0.93]\n",
              "anti-satellite-test-ban                    [0.18, 0.35]\n",
              "aid-to-nicaraguan-contras                  [0.08, 0.22]\n",
              "mx-missile                                [0.073, 0.21]\n",
              "immigration                                [0.48, 0.67]\n",
              "synfuels-corporation-cutback              [0.088, 0.23]\n",
              "education-spending                         [0.78, 0.92]\n",
              "superfund-right-to-sue                     [0.77, 0.91]\n",
              "crime                                       [0.96, 1.0]\n",
              "duty-free-exports                         [0.051, 0.17]\n",
              "export-administration-act-south-africa     [0.58, 0.76]\n",
              "dtype: object"
            ]
          },
          "metadata": {
            "tags": []
          },
          "execution_count": 124
        }
      ]
    },
    {
      "metadata": {
        "id": "Ga_nWxibhljj",
        "colab_type": "code",
        "colab": {
          "base_uri": "https://localhost:8080/",
          "height": 137
        },
        "outputId": "4847c17b-6fa1-4ba7-bd83-2231672a4f2b"
      },
      "cell_type": "code",
      "source": [
        "sales = [('handicapped-infants', 0.13, 0.29),\n",
        "         ('water-project-cost-sharing', 0.38, 0.57),\n",
        "         ('adoption-of-the-budget-resolution', 0.088, 0.23)]\n",
        "labels = ['Topic', 'Min Mean', 'Max Mean']\n",
        "df = pd.DataFrame.from_records(sales, columns=labels)\n",
        "df"
      ],
      "execution_count": 154,
      "outputs": [
        {
          "output_type": "execute_result",
          "data": {
            "text/html": [
              "<div>\n",
              "<style scoped>\n",
              "    .dataframe tbody tr th:only-of-type {\n",
              "        vertical-align: middle;\n",
              "    }\n",
              "\n",
              "    .dataframe tbody tr th {\n",
              "        vertical-align: top;\n",
              "    }\n",
              "\n",
              "    .dataframe thead th {\n",
              "        text-align: right;\n",
              "    }\n",
              "</style>\n",
              "<table border=\"1\" class=\"dataframe\">\n",
              "  <thead>\n",
              "    <tr style=\"text-align: right;\">\n",
              "      <th></th>\n",
              "      <th>Topic</th>\n",
              "      <th>Min Mean</th>\n",
              "      <th>Max Mean</th>\n",
              "    </tr>\n",
              "  </thead>\n",
              "  <tbody>\n",
              "    <tr>\n",
              "      <th>0</th>\n",
              "      <td>handicapped-infants</td>\n",
              "      <td>0.130</td>\n",
              "      <td>0.29</td>\n",
              "    </tr>\n",
              "    <tr>\n",
              "      <th>1</th>\n",
              "      <td>water-project-cost-sharing</td>\n",
              "      <td>0.380</td>\n",
              "      <td>0.57</td>\n",
              "    </tr>\n",
              "    <tr>\n",
              "      <th>2</th>\n",
              "      <td>adoption-of-the-budget-resolution</td>\n",
              "      <td>0.088</td>\n",
              "      <td>0.23</td>\n",
              "    </tr>\n",
              "  </tbody>\n",
              "</table>\n",
              "</div>"
            ],
            "text/plain": [
              "                               Topic  Min Mean  Max Mean\n",
              "0                handicapped-infants     0.130      0.29\n",
              "1         water-project-cost-sharing     0.380      0.57\n",
              "2  adoption-of-the-budget-resolution     0.088      0.23"
            ]
          },
          "metadata": {
            "tags": []
          },
          "execution_count": 154
        }
      ]
    },
    {
      "metadata": {
        "id": "aJ28GinVccYJ",
        "colab_type": "code",
        "colab": {}
      },
      "cell_type": "code",
      "source": [
        "import matplotlib as plt"
      ],
      "execution_count": 0,
      "outputs": []
    },
    {
      "metadata": {
        "id": "8ZkrdDGsjjuc",
        "colab_type": "code",
        "colab": {}
      },
      "cell_type": "code",
      "source": [
        "from __future__ import division, print_function\n",
        "from matplotlib import pyplot as plt\n",
        "import pandas as pd\n",
        "import numpy as np\n",
        "# In a notebook environment, display the plots inline\n",
        "%matplotlib inline\n",
        "\n",
        "# Set some parameters to apply to all plots. These can be overridden\n",
        "# in each plot if desired\n",
        "import matplotlib\n",
        "# Plot size to 14\" x 7\"\n",
        "matplotlib.rc('figure', figsize = (14, 7))\n",
        "# Font size to 14\n",
        "matplotlib.rc('font', size = 14)\n",
        "# Do not display top and right frame lines\n",
        "matplotlib.rc('axes.spines', top = False, right = False)\n",
        "# Remove grid lines\n",
        "matplotlib.rc('axes', grid = False)\n",
        "# Set backgound color to white\n",
        "matplotlib.rc('axes', facecolor = 'white')"
      ],
      "execution_count": 0,
      "outputs": []
    },
    {
      "metadata": {
        "id": "IZxurJCPcfFb",
        "colab_type": "code",
        "colab": {
          "base_uri": "https://localhost:8080/",
          "height": 470
        },
        "outputId": "4354663f-e8ee-4f67-c348-e725e9723168"
      },
      "cell_type": "code",
      "source": [
        "# Unlike with bar plots, there is no need to aggregate the data\n",
        "# before plotting\n",
        "# However the data for each group (day) needs to be defined\n",
        "days = np.unique(df['Topic'])\n",
        "bp_data = []\n",
        "for day in days:\n",
        "    bp_data.append(df[df['Topic'] == day]['Max Mean'].values)\n",
        "\n",
        "# Define a function to create a boxplot:\n",
        "def boxplot(x_data, y_data, base_color, median_color, x_label, y_label, title):\n",
        "    _, ax = plt.subplots()\n",
        "\n",
        "    # Draw boxplots, specifying desired style\n",
        "    ax.boxplot(y_data\n",
        "               # patch_artist must be True to control box fill\n",
        "               , patch_artist = True\n",
        "               # Properties of median line\n",
        "               , medianprops = {'color': median_color}\n",
        "               # Properties of box\n",
        "               , boxprops = {'color': base_color, 'facecolor': base_color}\n",
        "               # Properties of whiskers\n",
        "               , whiskerprops = {'color': base_color}\n",
        "               # Properties of whisker caps\n",
        "               , capprops = {'color': base_color})\n",
        "\n",
        "    # By default, the tick label starts at 1 and increments by 1 for\n",
        "    # each box drawn. This sets the labels to the ones we want\n",
        "    ax.set_xticklabels(x_data)\n",
        "    ax.set_ylabel(y_label)\n",
        "    ax.set_xlabel(x_label)\n",
        "    ax.set_title(title)\n",
        "\n",
        "# Call the function to create plot\n",
        "boxplot(x_data = days\n",
        "        , y_data = bp_data\n",
        "        , base_color = '#539caf'\n",
        "        , median_color = '#297083'\n",
        "        , x_label = 'Topics voted for'\n",
        "        , y_label = 'Intensity of Opinion Differences'\n",
        "        , title = 'Party Leanings By Topic')"
      ],
      "execution_count": 169,
      "outputs": [
        {
          "output_type": "display_data",
          "data": {
            "image/png": "[encoded data removed]",
            "text/plain": [
              "<Figure size 1008x504 with 1 Axes>"
            ]
          },
          "metadata": {
            "tags": []
          }
        }
      ]
    },
    {
      "metadata": {
        "id": "jS8yxD3Rla4M",
        "colab_type": "code",
        "colab": {
          "base_uri": "https://localhost:8080/",
          "height": 470
        },
        "outputId": "98bcc2d9-cc9f-4e38-e786-8d2446fb8cd9"
      },
      "cell_type": "code",
      "source": [
        "# Calculate the mean and standard deviation for number of check outs\n",
        "# each day\n",
        "mean_total_co_day = df[['Topic', 'Max Mean']].groupby('Topic').agg([np.mean, np.std])\n",
        "mean_total_co_day.columns = mean_total_co_day.columns.droplevel()\n",
        "\n",
        "# Define a function for a bar plot\n",
        "def barplot(x_data, y_data, error_data, x_label, y_label, title):\n",
        "    _, ax = plt.subplots()\n",
        "    # Draw bars, position them in the center of the tick mark on the x-axis\n",
        "    ax.bar(x_data, y_data, color = '#539caf', align = 'center')\n",
        "    # Draw error bars to show standard deviation, set ls to 'none'\n",
        "    # to remove line between points\n",
        "    ax.errorbar(x_data, y_data, yerr = error_data, color = '#297083', ls = 'none', lw = 2, capthick = 2)\n",
        "    ax.set_ylabel(y_label)\n",
        "    ax.set_xlabel(x_label)\n",
        "    ax.set_title(title)\n",
        "\n",
        "# Call the function to create plot\n",
        "barplot(x_data = mean_total_co_day.index.values\n",
        "        , y_data = mean_total_co_day['mean']\n",
        "        , error_data = mean_total_co_day['std']\n",
        "        , x_label = 'Topics voted for'\n",
        "        , y_label = 'Intensity of Opinion Differences'\n",
        "        , title = 'Party Leanings By Topic')"
      ],
      "execution_count": 168,
      "outputs": [
        {
          "output_type": "display_data",
          "data": {
            "image/png": "[encoded data removed]",
            "text/plain": [
              "<Figure size 1008x504 with 1 Axes>"
            ]
          },
          "metadata": {
            "tags": []
          }
        }
      ]
    },
    {
      "metadata": {
        "id": "affzUNzmmT1F",
        "colab_type": "code",
        "colab": {
          "base_uri": "https://localhost:8080/",
          "height": 524
        },
        "outputId": "bbd5720d-fbc6-4286-974b-76885c80b20c"
      },
      "cell_type": "code",
      "source": [
        "import matplotlib.pyplot as plt\n",
        "import matplotlib.patches as mpatches\n",
        "from matplotlib.colors import colorConverter as cc\n",
        "import numpy as np\n",
        " \n",
        "def plot_mean_and_CI(mean, lb, ub, color_mean=None, color_shading=None):\n",
        "    # plot the shaded range of the confidence intervals\n",
        "    plt.fill_between(range(mean.shape[0]), ub, lb,\n",
        "                     color=color_shading, alpha=.5)\n",
        "    # plot the mean on top\n",
        "    plt.plot(mean, color_mean)\n",
        "\n",
        " \n",
        "# generate 3 sets of random means and confidence intervals to plot\n",
        "mean0 = dem['handicapped-infants']\n",
        "ub0 = dem['handicapped-infants']\n",
        "lb0 = dem['handicapped-infants']\n",
        " \n",
        "mean1 = rep['handicapped-infants']\n",
        "ub1 = rep['handicapped-infants']\n",
        "lb1 = rep['handicapped-infants']\n",
        " \n",
        "# mean2 = np.random.random(50) -1\n",
        "# ub2 = mean2 + np.random.random(50) + .5\n",
        "# lb2 = mean2 - np.random.random(50) - .5\n",
        " \n",
        "# plot the data\n",
        "fig = plt.figure(1, figsize=(20, 7))\n",
        "# plot_mean_and_CI(mean0, ub0, lb0, color_mean='k', color_shading='k')\n",
        "# plot_mean_and_CI(mean1, ub1, lb1, color_mean='b', color_shading='b')\n",
        "plot_mean_and_CI(mean2, ub2, lb2, color_mean='g--', color_shading='g')\n",
        " \n",
        "class LegendObject(object):\n",
        "    def __init__(self, facecolor='red', edgecolor='white', dashed=False):\n",
        "        self.facecolor = facecolor\n",
        "        self.edgecolor = edgecolor\n",
        "        self.dashed = dashed\n",
        " \n",
        "    def legend_artist(self, legend, orig_handle, fontsize, handlebox):\n",
        "        x0, y0 = handlebox.xdescent, handlebox.ydescent\n",
        "        width, height = handlebox.width, handlebox.height\n",
        "        patch = mpatches.Rectangle(\n",
        "            # create a rectangle that is filled with color\n",
        "            [x0, y0], width, height, facecolor=self.facecolor,\n",
        "            # and whose edges are the faded color\n",
        "            edgecolor=self.edgecolor, lw=3)\n",
        "        handlebox.add_artist(patch)\n",
        " \n",
        "        # if we're creating the legend for a dashed line,\n",
        "        # manually add the dash in to our rectangle\n",
        "        if self.dashed:\n",
        "            patch1 = mpatches.Rectangle(\n",
        "                [x0 + 2*width/5, y0], width/5, height, facecolor=self.edgecolor,\n",
        "                transform=handlebox.get_transform())\n",
        "            handlebox.add_artist(patch1)\n",
        " \n",
        "        return patch\n",
        " \n",
        "bg = np.array([1, 1, 1])  # background of the legend is white\n",
        "colors = ['green']\n",
        "# with alpha = .5, the faded color is the average of the background and color\n",
        "colors_faded = [(np.array(cc.to_rgb(color)) + bg) / 2.0 for color in colors]\n",
        " \n",
        "plt.legend([0], ['Range of Democratic Party Vote on Handicapped Infants'],\n",
        "           handler_map={\n",
        "               0: LegendObject(colors[0], colors_faded[0]),\n",
        "            })\n",
        "plt.title('Party Leanings By Topic')\n",
        "plt.tight_layout()\n",
        "plt.grid()\n",
        "plt.show()\n"
      ],
      "execution_count": 203,
      "outputs": [
        {
          "output_type": "display_data",
          "data": {
            "image/png": "[encoded data removed]",
            "text/plain": [
              "<Figure size 1440x504 with 1 Axes>"
            ]
          },
          "metadata": {
            "tags": []
          }
        }
      ]
    },
    {
      "metadata": {
        "id": "nyJ3ySr7R2k9",
        "colab_type": "text"
      },
      "cell_type": "markdown",
      "source": [
        "## Resources\n",
        "\n",
        "- [Interactive visualize the Chi-Squared test](https://homepage.divms.uiowa.edu/~mbognar/applets/chisq.html)\n",
        "- [Calculation of Chi-Squared test statistic](https://en.wikipedia.org/wiki/Pearson%27s_chi-squared_test)\n",
        "- [Visualization of a confidence interval generated by R code](https://commons.wikimedia.org/wiki/File:Confidence-interval.svg)\n",
        "- [Expected value of a squared standard normal](https://math.stackexchange.com/questions/264061/expected-value-calculation-for-squared-normal-distribution) (it's 1 - which is why the expected value of a Chi-Squared with $n$ degrees of freedom is $n$, as it's the sum of $n$ squared standard normals)"
      ]
    }
  ]
}