{
  "nbformat": 4,
  "nbformat_minor": 0,
  "metadata": {
    "kernelspec": {
      "display_name": "Python 3",
      "language": "python",
      "name": "python3"
    },
    "language_info": {
      "codemirror_mode": {
        "name": "ipython",
        "version": 3
      },
      "file_extension": ".py",
      "mimetype": "text/x-python",
      "name": "python",
      "nbconvert_exporter": "python",
      "pygments_lexer": "ipython3",
      "version": "3.7.3"
    },
    "colab": {
      "name": "LS_DS_131_Statistics_Probability_Assignment.ipynb",
      "version": "0.3.2",
      "provenance": [],
      "include_colab_link": true
    }
  },
  "cells": [
    {
      "cell_type": "markdown",
      "metadata": {
        "id": "view-in-github",
        "colab_type": "text"
      },
      "source": [
        "<a href=\"https://colab.research.google.com/github/Jaydenzk/DS-Unit-1-Sprint-3-Statistical-Tests-and-Experiments/blob/master/module1-statistics-probability-and-inference/LS_DS_131_Statistics_Probability_Assignment.ipynb\" target=\"_parent\"><img src=\"https://colab.research.google.com/assets/colab-badge.svg\" alt=\"Open In Colab\"/></a>"
      ]
    },
    {
      "cell_type": "markdown",
      "metadata": {
        "id": "PeDSHJSDSd-x",
        "colab_type": "text"
      },
      "source": [
        "<img align=\"left\" src=\"https://lever-client-logos.s3.amazonaws.com/864372b1-534c-480e-acd5-9711f850815c-1524247202159.png\" width=200>\n",
        "<br></br>\n",
        "<br></br>\n",
        "\n",
        "## *Data Science Unit 1 Sprint 3 Assignment 1*\n",
        "\n",
        "# Apply the t-test to real data\n",
        "\n",
        "Your assignment is to determine which issues have \"statistically significant\" differences between political parties in this [1980s congressional voting data](https://archive.ics.uci.edu/ml/datasets/Congressional+Voting+Records). The data consists of 435 instances (one for each congressperson), a class (democrat or republican), and 16 binary attributes (yes or no for voting for or against certain issues). Be aware - there are missing values!\n",
        "\n",
        "Your goals:\n",
        "\n",
        "1. Load and clean the data (or determine the best method to drop observations when running tests)\n",
        "2. Using hypothesis testing, find an issue that democrats support more than republicans with p < 0.01\n",
        "3. Using hypothesis testing, find an issue that republicans support more than democrats with p < 0.01\n",
        "4. Using hypothesis testing, find an issue where the difference between republicans and democrats has p > 0.1 (i.e. there may not be much of a difference)\n",
        "\n",
        "Note that this data will involve *2 sample* t-tests, because you're comparing averages across two groups (republicans and democrats) rather than a single group against a null hypothesis.\n",
        "\n",
        "Stretch goals:\n",
        "\n",
        "1. Refactor your code into functions so it's easy to rerun with arbitrary variables\n",
        "2. Apply hypothesis testing to your personal project data (for the purposes of this notebook you can type a summary of the hypothesis you formed and tested)"
      ]
    },
    {
      "cell_type": "code",
      "metadata": {
        "id": "wXaK3QJgSd-y",
        "colab_type": "code",
        "outputId": "890ba0f5-60a4-406a-f661-70ddf9845830",
        "colab": {
          "resources": {
            "http://localhost:8080/nbextensions/google.colab/files.js": {
              "data": "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",
              "ok": true,
              "headers": [
                [
                  "content-type",
                  "application/javascript"
                ]
              ],
              "status": 200,
              "status_text": ""
            }
          },
          "base_uri": "https://localhost:8080/",
          "height": 116
        }
      },
      "source": [
        "### YOUR CODE STARTS HERE\n",
        "\n",
        "import pandas as pd\n",
        "import numpy as np\n",
        "from google.colab import files\n",
        "files.upload()"
      ],
      "execution_count": 2,
      "outputs": [
        {
          "output_type": "display_data",
          "data": {
            "text/html": [
              "\n",
              "     <input type=\"file\" id=\"files-fe3a4cca-de54-422b-a89b-4fd1e2c49c4c\" name=\"files[]\" multiple disabled />\n",
              "     <output id=\"result-fe3a4cca-de54-422b-a89b-4fd1e2c49c4c\">\n",
              "      Upload widget is only available when the cell has been executed in the\n",
              "      current browser session. Please rerun this cell to enable.\n",
              "      </output>\n",
              "      <script src=\"/nbextensions/google.colab/files.js\"></script> "
            ],
            "text/plain": [
              "<IPython.core.display.HTML object>"
            ]
          },
          "metadata": {
            "tags": []
          }
        },
        {
          "output_type": "stream",
          "text": [
            "Saving house-votes-84.data to house-votes-84.data\n"
          ],
          "name": "stdout"
        },
        {
          "output_type": "execute_result",
          "data": {
            "text/plain": [
              "{'house-votes-84.data': b'republican,n,y,n,y,y,y,n,n,n,y,?,y,y,y,n,y\\nrepublican,n,y,n,y,y,y,n,n,n,n,n,y,y,y,n,?\\ndemocrat,?,y,y,?,y,y,n,n,n,n,y,n,y,y,n,n\\ndemocrat,n,y,y,n,?,y,n,n,n,n,y,n,y,n,n,y\\ndemocrat,y,y,y,n,y,y,n,n,n,n,y,?,y,y,y,y\\ndemocrat,n,y,y,n,y,y,n,n,n,n,n,n,y,y,y,y\\ndemocrat,n,y,n,y,y,y,n,n,n,n,n,n,?,y,y,y\\nrepublican,n,y,n,y,y,y,n,n,n,n,n,n,y,y,?,y\\nrepublican,n,y,n,y,y,y,n,n,n,n,n,y,y,y,n,y\\ndemocrat,y,y,y,n,n,n,y,y,y,n,n,n,n,n,?,?\\nrepublican,n,y,n,y,y,n,n,n,n,n,?,?,y,y,n,n\\nrepublican,n,y,n,y,y,y,n,n,n,n,y,?,y,y,?,?\\ndemocrat,n,y,y,n,n,n,y,y,y,n,n,n,y,n,?,?\\ndemocrat,y,y,y,n,n,y,y,y,?,y,y,?,n,n,y,?\\nrepublican,n,y,n,y,y,y,n,n,n,n,n,y,?,?,n,?\\nrepublican,n,y,n,y,y,y,n,n,n,y,n,y,y,?,n,?\\ndemocrat,y,n,y,n,n,y,n,y,?,y,y,y,?,n,n,y\\ndemocrat,y,?,y,n,n,n,y,y,y,n,n,n,y,n,y,y\\nrepublican,n,y,n,y,y,y,n,n,n,n,n,?,y,y,n,n\\ndemocrat,y,y,y,n,n,n,y,y,y,n,y,n,n,n,y,y\\ndemocrat,y,y,y,n,n,?,y,y,n,n,y,n,n,n,y,y\\ndemocrat,y,y,y,n,n,n,y,y,y,n,n,n,?,?,y,y\\ndemocrat,y,?,y,n,n,n,y,y,y,n,n,?,n,n,y,y\\ndemocrat,y,y,y,n,n,n,y,y,y,n,n,n,n,n,y,y\\ndemocrat,y,n,y,n,n,n,y,y,y,n,n,n,n,n,y,?\\ndemocrat,y,n,y,n,n,n,y,y,y,y,n,n,n,n,y,y\\ndemocrat,y,n,y,n,n,n,y,y,y,n,y,n,n,n,y,y\\ndemocrat,y,y,y,n,n,n,y,y,y,n,y,n,n,n,y,y\\nrepublican,y,n,n,y,y,n,y,y,y,n,n,y,y,y,n,y\\ndemocrat,y,y,y,n,n,n,y,y,y,n,y,n,n,n,y,y\\nrepublican,n,y,n,y,y,y,n,n,n,n,n,y,y,y,n,n\\ndemocrat,y,y,y,n,n,n,y,y,y,n,y,n,n,n,y,?\\ndemocrat,y,y,y,n,n,n,y,y,y,y,n,n,y,n,y,y\\nrepublican,n,y,n,y,y,y,n,n,n,n,n,y,y,y,n,y\\ndemocrat,y,y,y,n,n,n,y,y,y,n,n,n,n,n,y,y\\nrepublican,n,y,n,y,y,y,n,n,n,n,n,y,y,y,n,n\\nrepublican,y,?,n,y,y,y,n,n,n,y,n,y,?,y,n,y\\nrepublican,y,y,n,y,y,y,n,n,n,n,n,n,y,y,n,y\\nrepublican,n,y,n,y,y,y,n,n,n,y,n,y,y,y,n,n\\ndemocrat,y,n,y,n,n,n,y,y,y,y,y,n,y,n,y,y\\ndemocrat,y,y,y,n,n,n,y,y,y,n,?,n,n,n,n,?\\ndemocrat,y,y,y,n,n,n,y,y,y,n,n,n,n,n,y,?\\ndemocrat,y,n,y,n,n,n,y,y,y,n,n,n,n,n,n,y\\ndemocrat,y,n,y,n,n,n,y,y,y,n,n,n,n,n,y,y\\ndemocrat,y,y,y,n,n,n,y,y,y,n,y,n,n,n,n,?\\ndemocrat,y,y,y,n,n,n,y,y,?,n,y,n,n,n,y,?\\ndemocrat,y,y,y,n,n,n,y,y,y,n,n,n,n,n,n,y\\ndemocrat,y,n,y,n,n,n,y,y,?,n,n,n,n,n,n,?\\ndemocrat,y,y,y,n,n,n,y,y,n,n,n,n,n,y,n,y\\nrepublican,n,?,n,y,y,y,n,n,n,n,n,y,y,y,n,n\\ndemocrat,y,y,y,n,n,n,y,y,y,n,y,n,n,n,y,y\\nrepublican,n,y,n,y,y,y,n,?,n,n,n,y,y,y,n,y\\ndemocrat,y,y,y,n,n,n,y,y,y,n,n,n,n,n,?,?\\nrepublican,y,y,n,y,y,y,n,n,n,y,n,y,y,y,n,n\\ndemocrat,y,y,y,n,n,y,?,y,n,n,y,y,n,y,n,?\\nrepublican,n,y,n,y,y,y,n,n,n,y,y,y,y,y,n,n\\nrepublican,n,y,n,y,y,y,n,n,n,y,y,y,y,y,n,y\\nrepublican,n,y,n,y,y,y,n,n,n,y,n,y,y,y,n,y\\nrepublican,n,y,n,y,y,y,n,n,n,y,n,y,y,y,n,y\\nrepublican,n,y,n,y,y,y,n,n,n,y,n,y,y,y,n,?\\ndemocrat,y,y,y,n,n,?,y,y,y,y,n,n,n,n,y,?\\nrepublican,n,y,n,y,y,y,n,n,n,n,n,y,y,y,n,n\\ndemocrat,y,y,y,n,n,n,y,y,y,n,n,n,n,n,n,?\\ndemocrat,y,y,y,n,n,n,y,y,y,n,y,n,n,n,n,y\\ndemocrat,y,y,y,n,n,n,y,y,y,n,y,?,n,n,n,y\\nrepublican,y,y,n,y,y,y,y,n,n,n,n,y,y,y,n,y\\nrepublican,n,y,n,y,y,y,y,n,n,n,y,y,y,y,n,y\\nrepublican,n,y,n,y,y,y,n,n,n,y,n,y,y,y,n,n\\ndemocrat,y,?,y,n,n,n,y,y,y,n,n,n,y,n,y,y\\ndemocrat,y,y,y,n,n,n,y,y,y,n,n,n,n,n,y,y\\ndemocrat,y,n,y,n,n,n,y,y,y,n,n,n,y,n,y,?\\nrepublican,y,y,y,y,n,n,y,y,y,y,y,n,n,y,n,y\\ndemocrat,y,y,y,n,n,n,y,y,y,n,y,n,n,n,y,?\\nrepublican,y,n,y,y,y,n,y,n,y,y,n,n,y,y,n,y\\ndemocrat,y,n,y,n,n,y,y,y,y,y,y,n,n,y,y,y\\ndemocrat,n,y,y,y,y,y,n,n,n,y,y,n,y,y,n,n\\ndemocrat,n,y,y,n,y,y,n,n,n,y,y,y,y,y,n,?\\ndemocrat,n,y,y,y,y,y,n,y,y,y,y,y,y,y,n,y\\ndemocrat,y,y,y,n,y,y,n,n,n,y,y,n,y,y,n,y\\nrepublican,n,n,n,y,y,n,n,n,n,y,n,y,y,y,n,n\\ndemocrat,y,n,y,n,n,y,y,y,y,y,n,y,n,y,n,?\\ndemocrat,y,n,y,n,n,n,y,y,?,y,y,y,n,y,n,y\\nrepublican,n,n,n,y,y,y,n,n,n,y,n,y,y,y,n,y\\nrepublican,n,n,n,y,y,y,n,n,n,n,n,y,y,y,n,n\\nrepublican,n,?,n,y,y,y,n,n,n,y,n,y,y,y,n,n\\ndemocrat,n,n,y,n,y,y,n,n,n,y,y,y,y,y,n,y\\nrepublican,n,n,n,y,y,y,n,n,n,y,n,y,y,y,n,n\\nrepublican,n,n,n,y,y,y,n,n,n,n,n,y,y,y,n,n\\ndemocrat,n,y,y,n,y,y,y,n,y,y,y,n,y,y,n,y\\nrepublican,n,n,n,y,y,y,n,n,n,y,n,?,y,y,n,?\\ndemocrat,y,n,y,n,n,n,y,y,y,y,n,n,n,n,y,y\\ndemocrat,y,n,y,n,n,n,y,y,y,y,y,n,n,n,y,y\\ndemocrat,y,y,y,n,n,n,y,y,n,y,y,n,n,?,y,y\\ndemocrat,y,n,y,n,n,n,y,n,y,y,y,n,n,n,y,y\\ndemocrat,y,n,y,n,y,y,n,n,n,n,n,n,n,n,n,y\\ndemocrat,y,n,y,n,y,y,n,?,?,n,y,?,?,?,y,y\\ndemocrat,n,n,?,n,y,y,n,n,n,n,y,y,y,y,n,y\\ndemocrat,y,n,n,n,y,y,y,n,n,y,y,n,n,y,n,y\\ndemocrat,y,y,y,n,n,y,y,y,y,y,n,n,n,n,n,y\\nrepublican,n,n,n,y,y,y,n,n,n,y,?,y,y,y,n,n\\ndemocrat,y,n,n,n,y,y,n,n,n,n,y,y,n,y,n,y\\ndemocrat,y,n,y,n,y,y,y,n,n,n,y,n,n,y,n,y\\ndemocrat,y,n,y,n,y,y,y,n,?,n,y,n,y,y,y,?\\ndemocrat,y,n,n,n,y,y,?,n,?,n,n,n,n,y,?,n\\ndemocrat,?,?,?,?,n,y,y,y,y,y,?,n,y,y,n,?\\ndemocrat,y,y,y,n,n,n,n,y,y,n,y,n,n,n,y,y\\nrepublican,n,y,n,y,y,y,n,n,n,n,n,y,y,y,n,y\\nrepublican,n,?,?,?,?,?,?,?,?,?,?,?,?,y,?,?\\ndemocrat,y,?,y,n,n,n,y,y,y,n,n,n,n,n,y,?\\ndemocrat,y,?,y,n,n,n,y,y,y,n,n,n,n,n,y,?\\ndemocrat,n,n,y,n,n,n,y,y,y,y,n,n,n,n,y,y\\nrepublican,n,?,n,y,y,y,n,n,n,y,n,y,y,y,n,y\\ndemocrat,n,?,y,n,n,y,y,y,n,y,n,n,n,n,y,?\\nrepublican,n,?,n,y,y,y,n,n,n,y,n,y,y,y,n,n\\ndemocrat,y,?,y,n,n,n,y,y,y,n,n,n,n,n,y,?\\ndemocrat,n,?,y,n,?,?,y,y,y,y,?,?,n,n,y,y\\ndemocrat,y,n,y,n,n,n,y,y,y,n,y,n,n,n,y,y\\nrepublican,y,y,y,y,y,n,y,n,n,n,n,y,y,y,n,y\\ndemocrat,n,y,y,n,n,n,n,y,y,y,y,n,n,n,y,y\\nrepublican,n,n,n,y,y,y,n,n,n,n,n,y,y,y,n,n\\nrepublican,n,?,?,y,y,y,n,n,n,y,n,y,y,y,?,y\\nrepublican,n,?,n,y,y,y,n,n,n,y,n,y,y,y,n,y\\nrepublican,n,n,n,y,y,y,n,n,n,y,n,y,n,y,n,y\\nrepublican,y,?,n,y,y,y,n,y,n,n,n,y,y,y,n,y\\ndemocrat,n,?,y,n,n,n,y,y,y,n,n,n,n,n,y,y\\nrepublican,n,?,n,y,y,y,n,n,n,y,n,y,y,y,n,y\\nrepublican,n,?,n,y,y,y,n,n,n,n,n,y,y,y,n,n\\ndemocrat,n,?,y,n,n,n,y,y,y,y,y,n,n,y,y,y\\ndemocrat,n,?,y,n,n,y,n,y,n,y,y,n,n,n,y,y\\ndemocrat,?,?,y,n,n,n,y,y,?,n,?,?,?,?,?,?\\ndemocrat,y,?,y,n,?,?,y,y,y,n,n,n,n,n,y,?\\ndemocrat,n,n,y,n,n,y,n,y,y,y,n,n,n,y,n,y\\nrepublican,n,n,n,y,y,y,n,n,n,y,n,y,y,y,n,?\\nrepublican,n,n,n,y,y,y,n,n,n,y,n,y,y,y,n,y\\nrepublican,n,n,n,y,y,y,n,n,n,n,n,y,y,y,n,?\\nrepublican,n,n,n,y,y,y,n,n,n,y,n,y,y,y,n,n\\nrepublican,n,y,n,y,y,y,n,n,n,y,y,y,y,n,n,y\\ndemocrat,n,?,y,n,n,y,y,y,y,y,n,n,n,y,y,y\\ndemocrat,n,n,y,n,n,y,y,y,y,y,n,n,n,y,n,y\\ndemocrat,y,n,y,n,n,y,y,y,y,n,n,n,n,n,y,y\\nrepublican,n,n,n,y,n,n,y,y,y,y,n,n,y,y,n,y\\nrepublican,n,n,n,y,y,y,y,y,y,y,n,y,y,y,?,y\\nrepublican,n,n,n,y,y,y,y,y,y,y,n,y,y,y,n,y\\ndemocrat,?,y,n,n,n,n,y,y,y,y,y,n,n,y,y,y\\ndemocrat,n,?,n,n,n,y,y,y,y,y,n,n,n,y,n,?\\ndemocrat,n,n,y,n,n,y,y,y,y,y,n,n,n,y,?,y\\nrepublican,n,y,n,y,y,y,n,n,n,n,n,y,y,y,n,y\\ndemocrat,n,n,n,n,n,n,y,y,y,y,n,y,y,y,y,y\\nrepublican,n,y,n,y,y,y,n,n,n,y,y,y,y,y,n,y\\ndemocrat,n,n,y,n,n,n,y,y,y,y,n,n,y,n,y,y\\nrepublican,y,y,n,y,y,y,n,n,n,y,n,y,y,y,n,y\\ndemocrat,y,y,?,y,y,y,n,n,y,n,y,?,y,y,n,n\\ndemocrat,n,y,y,n,n,y,n,y,y,y,y,n,y,n,y,y\\ndemocrat,n,n,y,n,n,y,y,y,y,y,y,n,y,y,n,y\\nrepublican,n,y,n,y,y,y,n,n,n,n,n,y,y,y,n,n\\nrepublican,y,y,n,y,y,y,n,?,n,n,y,y,y,y,n,n\\nrepublican,y,y,n,y,y,y,y,n,n,n,n,y,y,y,n,n\\ndemocrat,n,y,y,n,n,y,n,y,y,n,y,n,?,?,?,?\\nrepublican,n,y,n,y,y,y,n,n,n,y,n,y,y,y,n,n\\ndemocrat,n,y,y,n,?,y,y,y,y,y,y,n,n,?,n,?\\ndemocrat,n,y,n,n,y,y,n,n,n,n,n,y,y,y,y,y\\ndemocrat,n,n,n,n,y,y,y,n,n,n,n,y,y,y,n,y\\ndemocrat,n,y,y,n,y,y,y,n,n,n,y,y,y,y,n,y\\nrepublican,n,y,n,y,y,y,y,n,n,n,n,y,y,y,n,y\\ndemocrat,y,y,n,n,y,y,n,n,n,y,y,y,y,y,n,?\\ndemocrat,n,y,y,n,n,y,y,y,y,y,y,n,y,n,y,?\\nrepublican,y,n,y,y,y,y,y,y,n,y,n,y,n,y,y,y\\nrepublican,y,n,y,y,y,y,y,y,n,y,y,y,n,y,y,y\\ndemocrat,n,n,y,y,y,y,n,n,y,n,n,n,y,y,y,?\\ndemocrat,y,n,y,n,n,n,y,y,y,y,y,n,n,y,n,y\\ndemocrat,y,n,y,n,n,n,?,y,y,?,n,n,n,n,y,?\\nrepublican,n,?,n,y,y,y,n,n,n,y,n,y,y,y,n,y\\ndemocrat,n,y,y,n,n,n,y,y,y,y,n,n,?,n,y,y\\ndemocrat,n,n,n,n,y,y,n,n,n,y,y,y,y,y,n,y\\ndemocrat,y,?,y,n,n,n,y,y,y,n,n,n,n,n,y,?\\ndemocrat,n,y,y,n,n,n,y,y,y,y,n,n,n,n,y,y\\nrepublican,n,n,y,y,n,n,y,y,y,y,n,n,n,y,y,y\\ndemocrat,n,n,y,n,n,n,y,y,y,y,y,?,n,n,y,y\\ndemocrat,?,n,y,n,n,n,y,y,y,y,y,?,n,n,y,?\\ndemocrat,y,n,y,n,n,n,y,y,y,y,n,n,n,n,y,y\\ndemocrat,?,?,y,n,n,n,y,y,y,?,?,n,n,n,?,?\\ndemocrat,n,n,y,n,n,n,y,y,y,y,y,n,n,n,y,y\\ndemocrat,y,?,y,n,n,n,y,y,y,n,n,n,n,n,y,y\\ndemocrat,?,?,?,?,?,?,?,?,y,?,?,?,?,?,?,?\\ndemocrat,n,n,y,n,n,n,y,y,y,y,y,n,n,n,y,y\\ndemocrat,y,n,y,n,n,n,y,y,y,y,n,?,n,n,y,y\\ndemocrat,n,y,y,n,n,n,y,y,y,y,y,n,n,n,y,y\\ndemocrat,y,n,y,n,n,n,y,y,y,n,n,n,n,n,y,?\\nrepublican,y,?,n,y,y,y,y,y,n,n,n,y,?,y,?,?\\ndemocrat,y,n,y,n,n,n,y,y,y,n,n,n,n,n,y,y\\nrepublican,n,?,n,y,y,y,n,n,n,n,n,y,y,y,n,?\\nrepublican,n,y,n,y,y,y,n,?,n,y,n,y,y,y,n,?\\ndemocrat,n,n,n,n,n,y,y,y,y,n,y,n,n,y,y,y\\ndemocrat,n,n,y,n,n,n,y,y,y,n,n,n,n,n,y,y\\ndemocrat,n,n,y,n,n,y,y,?,y,y,y,n,n,n,y,y\\nrepublican,n,n,n,y,y,y,n,n,n,n,n,y,y,y,n,?\\ndemocrat,n,n,y,n,n,y,y,y,y,n,y,y,n,y,y,?\\nrepublican,n,?,y,y,y,y,n,n,n,y,n,n,n,y,n,y\\ndemocrat,n,n,y,n,n,n,y,y,y,y,y,n,?,n,y,?\\ndemocrat,y,y,n,n,n,n,y,y,?,n,y,n,n,n,y,?\\ndemocrat,n,n,y,n,n,n,y,y,y,n,n,n,n,y,y,y\\ndemocrat,y,y,y,n,n,n,y,y,y,n,n,n,n,n,y,y\\ndemocrat,y,n,y,n,n,y,y,y,y,y,y,n,n,n,y,y\\ndemocrat,y,n,y,n,n,n,y,y,y,y,n,n,n,n,y,y\\nrepublican,n,n,y,y,y,y,y,n,n,n,n,y,y,y,n,y\\ndemocrat,n,n,y,n,n,y,y,y,y,y,n,y,n,n,n,y\\nrepublican,n,n,n,y,y,y,n,n,n,y,n,y,n,y,n,y\\nrepublican,y,?,n,y,y,y,y,n,n,y,n,y,y,y,n,y\\ndemocrat,n,n,y,n,n,n,y,y,y,n,n,?,n,n,y,y\\ndemocrat,y,y,y,n,n,n,y,y,y,y,y,n,n,n,n,y\\ndemocrat,n,n,y,n,n,y,y,y,y,n,n,n,n,n,y,y\\nrepublican,n,y,n,y,y,y,n,n,n,y,n,y,y,y,n,y\\ndemocrat,n,n,y,n,n,n,y,y,y,n,y,n,n,n,y,y\\ndemocrat,n,y,y,n,n,y,n,y,y,n,y,n,y,n,y,y\\nrepublican,y,y,n,y,y,y,n,n,n,y,n,y,y,y,n,y\\ndemocrat,n,y,y,y,y,y,n,n,n,y,y,y,y,y,y,?\\ndemocrat,y,y,y,n,y,y,n,n,?,y,n,n,n,y,y,?\\nrepublican,n,y,n,y,y,y,n,n,n,y,n,y,y,y,n,n\\ndemocrat,y,?,y,n,n,n,y,y,y,n,?,n,n,n,y,?\\ndemocrat,n,y,y,n,n,n,n,y,y,n,y,n,n,y,y,y\\ndemocrat,n,n,y,n,n,n,y,y,y,n,n,n,n,n,y,?\\ndemocrat,n,y,y,n,y,y,n,n,n,n,y,n,n,n,y,?\\ndemocrat,y,n,y,n,n,n,y,y,y,n,y,n,n,n,y,?\\nrepublican,n,n,n,y,y,n,n,n,n,n,n,y,y,y,n,y\\nrepublican,n,y,n,y,y,y,n,n,n,y,n,?,y,y,n,n\\nrepublican,n,?,n,y,y,y,n,n,n,n,n,y,y,y,n,y\\ndemocrat,n,n,y,n,n,y,y,y,y,n,y,n,n,y,y,y\\ndemocrat,y,n,y,n,n,n,y,y,y,n,n,n,n,n,?,y\\nrepublican,n,y,n,y,y,y,n,n,n,n,n,y,y,?,n,y\\nrepublican,n,y,y,y,y,y,y,n,y,y,n,y,y,y,n,y\\nrepublican,n,y,n,y,y,y,n,n,n,n,n,y,y,y,n,y\\nrepublican,n,y,n,y,y,y,n,n,y,y,n,y,y,y,n,y\\ndemocrat,n,y,y,n,n,n,y,y,n,n,y,n,n,n,y,?\\nrepublican,n,y,n,y,y,y,n,n,n,y,n,y,y,y,n,y\\ndemocrat,n,n,y,n,n,y,y,y,y,y,n,y,n,y,y,?\\nrepublican,n,n,n,y,y,y,n,n,n,y,n,y,n,y,n,y\\ndemocrat,n,n,y,n,n,n,y,y,y,n,n,n,n,n,y,y\\ndemocrat,y,n,y,n,n,y,y,y,n,n,n,y,y,n,n,y\\ndemocrat,y,y,y,n,n,n,y,y,?,y,n,n,n,n,y,?\\nrepublican,n,n,n,y,y,y,y,n,n,y,n,n,n,y,y,y\\nrepublican,n,n,n,y,n,y,y,?,y,n,n,y,y,y,n,y\\ndemocrat,y,n,y,n,n,n,y,y,y,y,y,n,n,y,y,y\\nrepublican,n,n,n,n,y,y,y,n,n,n,n,?,n,y,y,y\\ndemocrat,n,y,y,n,n,n,y,y,?,y,n,n,y,n,y,y\\ndemocrat,y,n,y,n,n,n,n,y,y,y,n,n,n,n,y,y\\ndemocrat,y,n,y,n,n,n,y,y,y,y,y,n,n,n,y,y\\ndemocrat,n,n,y,n,y,n,y,y,y,n,n,n,n,y,?,y\\nrepublican,n,y,n,y,y,y,?,n,n,n,n,?,y,y,n,n\\nrepublican,?,?,?,?,?,?,?,?,?,?,?,?,?,?,?,?\\ndemocrat,y,n,y,n,n,n,y,y,?,n,y,n,n,n,y,y\\nrepublican,n,y,n,y,y,y,n,n,n,n,n,y,y,y,n,n\\nrepublican,n,y,n,y,y,y,n,n,n,n,n,y,y,y,n,n\\ndemocrat,y,y,y,n,n,y,y,y,y,n,n,n,n,n,y,y\\nrepublican,n,y,n,y,y,y,n,n,n,n,n,y,y,y,n,y\\ndemocrat,y,n,y,n,n,n,y,y,y,y,n,n,n,n,n,y\\ndemocrat,y,n,y,n,n,n,y,y,y,y,n,n,n,y,y,y\\nrepublican,n,n,n,y,y,n,n,n,n,n,n,y,n,y,n,n\\nrepublican,n,n,n,y,y,n,n,n,n,n,n,y,n,y,?,y\\ndemocrat,n,n,y,n,n,n,y,y,y,n,y,n,n,n,y,y\\ndemocrat,y,n,y,n,n,n,y,y,y,n,n,n,n,n,n,y\\ndemocrat,y,n,y,n,n,n,y,y,y,y,n,n,n,n,n,y\\ndemocrat,y,n,y,n,n,?,y,y,y,n,?,?,n,?,?,?\\ndemocrat,y,n,y,n,n,n,y,y,y,y,n,n,?,n,y,y\\ndemocrat,y,n,y,n,n,n,y,y,y,n,n,n,n,n,y,?\\ndemocrat,y,n,y,n,n,n,y,y,y,n,n,n,n,n,y,?\\ndemocrat,y,n,y,n,n,n,y,y,y,y,n,n,n,n,n,y\\nrepublican,n,n,n,y,y,y,n,n,n,y,n,y,n,y,n,y\\nrepublican,y,n,n,n,n,n,y,y,y,y,n,n,n,y,n,y\\ndemocrat,y,n,y,n,n,n,y,y,y,n,n,n,n,n,y,?\\ndemocrat,y,n,y,n,n,n,y,y,y,n,n,n,n,n,n,y\\ndemocrat,y,y,y,n,n,n,y,y,y,n,n,n,n,n,y,y\\ndemocrat,n,y,y,n,n,y,y,y,y,n,?,n,n,n,n,y\\ndemocrat,y,n,y,n,n,n,y,y,y,y,n,n,n,n,y,?\\nrepublican,n,n,n,y,y,n,y,y,n,y,n,y,y,y,?,y\\nrepublican,y,n,n,y,y,n,y,n,n,y,n,n,n,y,y,y\\ndemocrat,n,n,y,n,y,y,n,n,n,n,?,n,y,y,n,n\\nrepublican,n,n,n,y,y,y,n,n,n,n,n,y,y,y,y,n\\nrepublican,n,n,y,y,y,y,y,y,n,y,n,n,n,y,n,y\\nrepublican,n,n,n,y,y,y,n,n,n,n,n,y,y,y,n,y\\nrepublican,n,n,n,y,y,y,n,n,n,y,n,y,y,y,n,n\\ndemocrat,n,n,y,n,n,n,y,y,y,y,n,n,n,y,n,y\\nrepublican,y,n,y,y,y,y,y,y,n,n,n,n,n,y,n,?\\nrepublican,y,n,n,y,y,y,n,n,n,y,n,?,y,y,n,n\\nrepublican,n,n,n,y,y,y,n,n,n,n,n,y,y,y,n,y\\ndemocrat,n,n,y,n,n,y,y,y,y,y,y,n,n,n,?,y\\ndemocrat,n,n,y,n,n,y,y,y,y,y,y,n,n,n,y,y\\ndemocrat,n,n,y,n,n,y,?,y,?,y,y,y,n,y,y,?\\ndemocrat,y,y,y,?,n,y,y,y,y,n,y,n,y,n,?,y\\ndemocrat,y,y,y,n,y,y,n,y,n,y,y,n,y,y,y,y\\ndemocrat,y,y,y,n,y,y,n,y,n,y,y,n,y,y,n,?\\ndemocrat,y,n,y,n,?,y,?,y,y,y,n,n,y,y,n,y\\ndemocrat,y,n,y,n,n,y,y,y,y,y,n,?,n,y,n,y\\ndemocrat,y,n,y,n,n,y,y,y,n,y,y,n,y,y,y,y\\ndemocrat,y,y,y,n,n,y,y,y,y,y,y,n,y,y,y,y\\ndemocrat,n,y,y,n,n,y,y,y,n,y,y,n,y,y,n,?\\nrepublican,n,y,n,y,y,y,?,?,n,y,n,y,?,?,?,?\\nrepublican,n,n,y,y,y,y,n,n,n,y,n,y,y,y,y,y\\ndemocrat,y,y,y,n,n,y,y,y,y,y,n,n,?,n,y,?\\ndemocrat,n,y,n,n,n,n,y,y,y,y,y,n,n,n,y,y\\ndemocrat,n,y,y,n,n,y,y,y,y,y,n,n,y,y,y,y\\nrepublican,n,n,n,y,y,n,y,y,y,y,n,y,y,y,n,y\\ndemocrat,n,n,?,n,n,y,y,y,y,n,n,n,n,n,y,y\\nrepublican,n,n,n,y,y,y,y,n,n,y,n,y,y,y,n,y\\nrepublican,n,n,n,y,y,y,n,n,n,n,n,y,y,y,n,n\\nrepublican,n,y,n,y,y,y,n,n,n,y,n,y,y,y,n,?\\nrepublican,n,n,n,y,y,y,n,n,n,y,n,y,y,y,n,n\\nrepublican,n,n,n,y,y,y,n,n,n,n,n,y,y,y,n,n\\ndemocrat,y,n,y,n,n,y,y,y,y,n,n,n,n,y,n,?\\nrepublican,n,n,n,y,y,y,n,n,n,y,n,y,y,y,n,n\\ndemocrat,y,n,n,n,n,y,y,y,y,y,n,n,n,y,y,y\\nrepublican,n,n,n,y,y,y,n,n,n,y,n,y,y,y,y,n\\ndemocrat,n,n,y,n,n,y,y,y,y,y,n,n,y,n,n,y\\ndemocrat,y,y,y,n,n,n,y,y,y,y,n,n,n,n,y,y\\nrepublican,n,y,y,y,y,y,n,n,n,y,n,y,y,y,n,y\\nrepublican,n,y,n,y,y,y,y,y,n,n,y,y,y,y,y,y\\nrepublican,n,y,y,y,y,y,y,?,n,n,n,n,?,?,y,?\\ndemocrat,n,n,n,n,n,y,n,y,y,n,y,y,y,y,y,n\\ndemocrat,y,n,n,n,n,n,y,y,y,y,n,n,n,n,y,y\\ndemocrat,n,n,y,n,n,n,y,y,y,n,n,n,n,n,y,?\\ndemocrat,y,n,y,n,n,n,y,y,y,n,n,n,n,n,y,?\\ndemocrat,n,y,y,n,n,y,n,y,y,y,n,n,y,y,n,y\\ndemocrat,y,y,y,n,n,n,y,y,y,y,n,n,y,n,n,y\\ndemocrat,y,y,y,n,?,y,n,?,n,n,y,n,y,y,n,?\\ndemocrat,y,y,y,n,y,y,n,y,?,y,n,n,y,y,n,?\\nrepublican,n,y,n,y,y,y,n,n,n,n,y,y,y,y,n,n\\ndemocrat,n,y,n,n,y,y,n,n,?,n,n,y,y,y,n,y\\ndemocrat,y,y,n,y,n,n,y,y,y,n,y,n,n,y,n,y\\nrepublican,n,y,n,y,y,y,n,n,n,n,n,y,y,y,n,y\\ndemocrat,y,y,y,n,n,n,y,y,y,n,y,n,n,n,n,y\\ndemocrat,y,?,y,n,n,y,y,y,y,y,n,n,n,n,y,?\\nrepublican,n,y,n,y,y,y,n,n,n,y,n,y,y,y,n,n\\ndemocrat,y,?,y,n,n,n,y,y,y,n,n,n,n,n,y,?\\ndemocrat,y,n,y,n,n,n,y,y,y,n,y,n,n,n,y,?\\ndemocrat,n,n,y,n,n,n,y,y,y,n,n,n,n,n,y,y\\ndemocrat,n,y,y,n,n,y,y,y,?,n,y,y,n,n,y,y\\nrepublican,n,n,n,y,y,y,n,n,n,y,y,y,y,y,n,?\\ndemocrat,n,n,y,n,n,y,y,y,n,n,y,n,n,y,?,y\\ndemocrat,y,n,y,n,n,n,y,y,y,n,n,n,n,n,y,y\\ndemocrat,y,n,y,n,n,n,y,y,y,y,n,n,n,y,y,y\\nrepublican,y,n,n,y,y,y,n,n,n,n,y,y,y,y,n,n\\nrepublican,n,n,n,y,y,y,n,n,n,y,y,y,n,y,n,y\\ndemocrat,n,?,y,?,n,y,y,y,y,y,y,n,?,?,y,y\\ndemocrat,n,y,y,n,y,?,y,n,n,y,y,n,y,n,y,y\\nrepublican,n,n,n,y,y,n,y,n,y,y,n,n,n,y,n,y\\ndemocrat,n,n,y,n,n,n,y,y,y,y,y,n,n,n,y,y\\nrepublican,n,n,n,y,y,y,y,n,n,y,n,y,n,y,y,y\\nrepublican,n,n,n,y,y,y,n,n,n,y,n,y,y,y,n,y\\nrepublican,y,n,n,y,y,y,n,n,n,y,n,y,y,y,n,n\\ndemocrat,y,n,y,n,n,n,y,y,y,y,n,y,n,n,y,?\\nrepublican,n,y,y,y,y,y,y,y,y,n,n,y,y,y,n,y\\ndemocrat,n,y,n,n,n,y,y,n,y,n,y,n,n,n,y,y\\nrepublican,n,n,y,y,y,y,y,y,y,y,n,y,y,y,y,y\\ndemocrat,n,y,n,y,n,y,y,y,y,n,y,n,y,n,y,?\\nrepublican,n,n,y,y,y,y,y,n,n,y,y,y,y,y,n,y\\ndemocrat,n,y,y,n,n,y,y,y,y,y,n,?,n,n,y,y\\nrepublican,y,n,y,y,n,n,n,y,y,y,n,n,n,y,y,y\\nrepublican,n,n,n,y,y,y,n,n,n,n,n,y,y,y,n,n\\nrepublican,n,n,n,y,y,y,n,n,n,n,n,y,y,y,n,n\\ndemocrat,y,y,y,n,n,y,y,y,y,y,y,y,y,y,n,?\\nrepublican,n,n,n,y,y,y,n,n,n,y,?,y,y,y,n,y\\ndemocrat,y,n,y,n,n,y,y,y,y,y,n,n,y,n,n,y\\ndemocrat,y,n,y,n,y,y,y,n,y,y,n,n,y,y,n,?\\ndemocrat,y,y,y,n,n,y,y,y,y,y,y,y,y,n,n,y\\nrepublican,y,y,n,y,y,y,n,n,n,y,y,n,y,n,n,n\\nrepublican,y,y,n,y,y,y,n,n,n,n,y,n,y,y,n,y\\ndemocrat,n,y,n,n,y,y,n,n,n,y,y,n,y,y,n,n\\ndemocrat,y,n,y,n,n,n,y,y,n,y,y,n,n,n,n,?\\ndemocrat,y,y,y,n,y,y,y,y,n,y,y,n,n,n,y,?\\ndemocrat,n,y,y,n,n,y,y,y,n,y,n,n,n,n,y,y\\nrepublican,n,y,n,y,y,y,n,n,n,n,n,n,y,y,n,y\\ndemocrat,y,y,y,n,?,y,y,y,n,y,?,?,n,n,y,y\\ndemocrat,y,y,y,n,?,n,y,y,y,y,n,n,n,n,y,?\\ndemocrat,n,y,y,y,y,y,n,n,n,n,y,y,?,y,n,n\\ndemocrat,n,y,y,?,y,y,n,y,n,y,?,n,y,y,?,y\\nrepublican,n,y,n,y,y,y,n,n,n,n,n,y,y,y,n,y\\ndemocrat,n,y,n,y,y,y,n,n,n,n,y,y,n,y,n,n\\ndemocrat,y,?,y,n,n,n,y,y,y,n,y,n,n,n,y,y\\nrepublican,n,y,n,y,y,y,?,?,n,n,?,?,y,?,?,?\\nrepublican,n,n,n,y,y,y,n,n,n,n,n,y,y,y,n,y\\nrepublican,n,n,n,y,y,y,n,n,n,n,n,y,y,y,n,y\\ndemocrat,y,y,y,n,n,y,?,y,y,n,y,n,y,n,y,y\\ndemocrat,y,y,y,n,y,y,y,y,y,y,y,n,y,y,n,?\\ndemocrat,y,y,n,y,y,y,n,n,n,n,y,n,y,y,n,?\\ndemocrat,y,y,y,n,y,y,n,y,y,y,y,n,n,n,n,y\\ndemocrat,y,y,y,y,y,y,n,n,n,n,y,y,y,y,n,y\\ndemocrat,y,y,n,n,y,y,n,n,n,n,y,y,y,y,y,n\\ndemocrat,n,?,y,n,y,y,n,y,n,n,y,n,n,n,n,?\\ndemocrat,y,y,y,n,y,y,n,y,y,n,y,n,n,y,n,?\\ndemocrat,n,y,y,y,y,y,n,n,n,n,n,y,y,y,n,?\\ndemocrat,y,n,y,n,n,n,y,y,y,?,y,n,n,n,y,?\\ndemocrat,?,?,n,n,?,y,?,n,n,n,y,y,n,y,n,?\\ndemocrat,y,y,n,n,n,n,n,y,y,n,y,n,n,n,y,n\\nrepublican,y,y,n,y,y,y,n,n,n,n,y,y,y,y,n,y\\nrepublican,?,?,?,?,n,y,n,y,y,n,n,y,y,n,n,?\\ndemocrat,y,y,?,?,?,y,n,n,n,n,y,n,y,n,n,y\\ndemocrat,y,y,y,?,n,n,n,y,n,n,y,?,n,n,y,y\\ndemocrat,y,y,y,n,y,y,n,y,n,n,y,n,y,n,y,y\\ndemocrat,y,y,n,n,y,?,n,n,n,n,y,n,y,y,n,y\\ndemocrat,n,y,y,n,y,y,n,y,n,n,n,n,n,n,n,y\\nrepublican,n,y,n,y,?,y,n,n,n,y,n,y,y,y,n,n\\nrepublican,n,y,n,y,y,y,n,?,n,n,?,?,?,y,n,?\\nrepublican,n,y,n,y,y,y,n,n,n,y,y,y,y,y,n,n\\nrepublican,?,n,y,y,n,y,y,y,y,y,n,y,n,y,n,y\\nrepublican,n,y,n,y,y,y,n,n,n,y,n,y,?,y,n,n\\nrepublican,y,y,n,y,y,y,n,n,n,y,n,y,y,y,n,y\\nrepublican,n,n,n,y,y,y,n,n,n,n,n,y,y,y,n,y\\ndemocrat,y,n,y,n,y,y,n,n,y,y,n,n,y,y,n,y\\ndemocrat,n,n,n,y,y,y,n,n,n,n,y,y,y,y,n,n\\ndemocrat,y,n,y,n,n,y,y,y,y,n,n,y,?,y,y,y\\nrepublican,n,n,n,y,y,y,n,n,n,n,n,y,y,y,n,n\\nrepublican,n,n,n,y,y,y,n,n,n,n,y,y,y,y,n,y\\ndemocrat,y,n,y,n,n,y,y,y,y,y,y,n,n,n,n,y\\nrepublican,n,n,n,y,y,y,n,n,n,y,n,y,y,y,n,y\\nrepublican,y,y,y,y,y,y,y,y,n,y,?,?,?,y,n,y\\ndemocrat,y,y,y,n,n,n,y,y,y,n,n,n,n,n,n,y\\ndemocrat,n,y,y,n,n,y,y,y,?,y,n,n,n,n,n,y\\nrepublican,y,y,n,y,y,y,n,n,n,y,n,n,y,y,n,y\\ndemocrat,y,y,y,n,n,n,y,y,y,y,y,n,y,n,n,y\\ndemocrat,y,y,y,n,n,n,y,y,n,y,n,n,n,n,n,y\\ndemocrat,y,y,y,n,n,n,y,y,y,n,n,n,n,n,n,y\\nrepublican,y,y,y,y,y,y,y,y,n,y,n,n,y,y,n,y\\ndemocrat,n,y,y,n,y,y,y,y,n,n,y,n,y,n,y,y\\ndemocrat,n,n,y,n,n,y,y,y,y,n,y,n,n,n,y,y\\ndemocrat,n,y,y,n,n,y,y,y,y,n,y,n,n,y,y,y\\ndemocrat,n,y,y,n,n,?,y,y,y,y,y,n,?,y,y,y\\ndemocrat,n,n,y,n,n,n,y,y,n,y,y,n,n,n,y,?\\ndemocrat,y,n,y,n,n,n,y,y,y,y,n,n,n,n,y,y\\nrepublican,n,n,n,y,y,y,y,y,n,y,n,y,y,y,n,y\\ndemocrat,?,?,?,n,n,n,y,y,y,y,n,n,y,n,y,y\\ndemocrat,y,n,y,n,?,n,y,y,y,y,n,y,n,?,y,y\\nrepublican,n,n,y,y,y,y,n,n,y,y,n,y,y,y,n,y\\ndemocrat,n,n,y,n,n,n,y,y,y,y,n,n,n,n,n,y\\nrepublican,n,?,n,y,y,y,n,n,n,n,y,y,y,y,n,y\\nrepublican,n,n,n,y,y,y,?,?,?,?,n,y,y,y,n,y\\nrepublican,n,y,n,y,y,y,n,n,n,y,n,y,y,y,?,n\\n'}"
            ]
          },
          "metadata": {
            "tags": []
          },
          "execution_count": 2
        }
      ]
    },
    {
      "cell_type": "code",
      "metadata": {
        "id": "xTV8ebIjTkFL",
        "colab_type": "code",
        "outputId": "08e313fe-8a7c-4372-dee3-bd0bbd930350",
        "colab": {
          "base_uri": "https://localhost:8080/",
          "height": 204
        }
      },
      "source": [
        "## load data\n",
        "df = pd.read_csv('house-votes-84.data')\n",
        "df.head()"
      ],
      "execution_count": 26,
      "outputs": [
        {
          "output_type": "execute_result",
          "data": {
            "text/html": [
              "<div>\n",
              "<style scoped>\n",
              "    .dataframe tbody tr th:only-of-type {\n",
              "        vertical-align: middle;\n",
              "    }\n",
              "\n",
              "    .dataframe tbody tr th {\n",
              "        vertical-align: top;\n",
              "    }\n",
              "\n",
              "    .dataframe thead th {\n",
              "        text-align: right;\n",
              "    }\n",
              "</style>\n",
              "<table border=\"1\" class=\"dataframe\">\n",
              "  <thead>\n",
              "    <tr style=\"text-align: right;\">\n",
              "      <th></th>\n",
              "      <th>republican</th>\n",
              "      <th>n</th>\n",
              "      <th>y</th>\n",
              "      <th>n.1</th>\n",
              "      <th>y.1</th>\n",
              "      <th>y.2</th>\n",
              "      <th>y.3</th>\n",
              "      <th>n.2</th>\n",
              "      <th>n.3</th>\n",
              "      <th>n.4</th>\n",
              "      <th>y.4</th>\n",
              "      <th>?</th>\n",
              "      <th>y.5</th>\n",
              "      <th>y.6</th>\n",
              "      <th>y.7</th>\n",
              "      <th>n.5</th>\n",
              "      <th>y.8</th>\n",
              "    </tr>\n",
              "  </thead>\n",
              "  <tbody>\n",
              "    <tr>\n",
              "      <th>0</th>\n",
              "      <td>republican</td>\n",
              "      <td>n</td>\n",
              "      <td>y</td>\n",
              "      <td>n</td>\n",
              "      <td>y</td>\n",
              "      <td>y</td>\n",
              "      <td>y</td>\n",
              "      <td>n</td>\n",
              "      <td>n</td>\n",
              "      <td>n</td>\n",
              "      <td>n</td>\n",
              "      <td>n</td>\n",
              "      <td>y</td>\n",
              "      <td>y</td>\n",
              "      <td>y</td>\n",
              "      <td>n</td>\n",
              "      <td>?</td>\n",
              "    </tr>\n",
              "    <tr>\n",
              "      <th>1</th>\n",
              "      <td>democrat</td>\n",
              "      <td>?</td>\n",
              "      <td>y</td>\n",
              "      <td>y</td>\n",
              "      <td>?</td>\n",
              "      <td>y</td>\n",
              "      <td>y</td>\n",
              "      <td>n</td>\n",
              "      <td>n</td>\n",
              "      <td>n</td>\n",
              "      <td>n</td>\n",
              "      <td>y</td>\n",
              "      <td>n</td>\n",
              "      <td>y</td>\n",
              "      <td>y</td>\n",
              "      <td>n</td>\n",
              "      <td>n</td>\n",
              "    </tr>\n",
              "    <tr>\n",
              "      <th>2</th>\n",
              "      <td>democrat</td>\n",
              "      <td>n</td>\n",
              "      <td>y</td>\n",
              "      <td>y</td>\n",
              "      <td>n</td>\n",
              "      <td>?</td>\n",
              "      <td>y</td>\n",
              "      <td>n</td>\n",
              "      <td>n</td>\n",
              "      <td>n</td>\n",
              "      <td>n</td>\n",
              "      <td>y</td>\n",
              "      <td>n</td>\n",
              "      <td>y</td>\n",
              "      <td>n</td>\n",
              "      <td>n</td>\n",
              "      <td>y</td>\n",
              "    </tr>\n",
              "    <tr>\n",
              "      <th>3</th>\n",
              "      <td>democrat</td>\n",
              "      <td>y</td>\n",
              "      <td>y</td>\n",
              "      <td>y</td>\n",
              "      <td>n</td>\n",
              "      <td>y</td>\n",
              "      <td>y</td>\n",
              "      <td>n</td>\n",
              "      <td>n</td>\n",
              "      <td>n</td>\n",
              "      <td>n</td>\n",
              "      <td>y</td>\n",
              "      <td>?</td>\n",
              "      <td>y</td>\n",
              "      <td>y</td>\n",
              "      <td>y</td>\n",
              "      <td>y</td>\n",
              "    </tr>\n",
              "    <tr>\n",
              "      <th>4</th>\n",
              "      <td>democrat</td>\n",
              "      <td>n</td>\n",
              "      <td>y</td>\n",
              "      <td>y</td>\n",
              "      <td>n</td>\n",
              "      <td>y</td>\n",
              "      <td>y</td>\n",
              "      <td>n</td>\n",
              "      <td>n</td>\n",
              "      <td>n</td>\n",
              "      <td>n</td>\n",
              "      <td>n</td>\n",
              "      <td>n</td>\n",
              "      <td>y</td>\n",
              "      <td>y</td>\n",
              "      <td>y</td>\n",
              "      <td>y</td>\n",
              "    </tr>\n",
              "  </tbody>\n",
              "</table>\n",
              "</div>"
            ],
            "text/plain": [
              "   republican  n  y n.1 y.1 y.2 y.3 n.2 n.3 n.4 y.4  ? y.5 y.6 y.7 n.5 y.8\n",
              "0  republican  n  y   n   y   y   y   n   n   n   n  n   y   y   y   n   ?\n",
              "1    democrat  ?  y   y   ?   y   y   n   n   n   n  y   n   y   y   n   n\n",
              "2    democrat  n  y   y   n   ?   y   n   n   n   n  y   n   y   n   n   y\n",
              "3    democrat  y  y   y   n   y   y   n   n   n   n  y   ?   y   y   y   y\n",
              "4    democrat  n  y   y   n   y   y   n   n   n   n  n   n   y   y   y   y"
            ]
          },
          "metadata": {
            "tags": []
          },
          "execution_count": 26
        }
      ]
    },
    {
      "cell_type": "code",
      "metadata": {
        "id": "7bVGha9DT5E5",
        "colab_type": "code",
        "colab": {}
      },
      "source": [
        "df.columns = [\"party\", \"handicapped_infants\", \"water_project_cost_sharing\", \"adoption_of_the_budget_resolution\", \"physician_fee_freeze\", \"el_salvador_aid\", \"religious_groups_in_schools\", \"anti_satellite_test_ban\", \"aid_to_nicaraguan_contras\", \"mx_missile\", \"immigration\", \"synfuels_corporation_cutback\", \"education_spending\", \"superfund_right_to_sue\", \"crime\", \"duty_free_exports\", \"export_administration_act_south_africa\"]"
      ],
      "execution_count": 0,
      "outputs": []
    },
    {
      "cell_type": "code",
      "metadata": {
        "id": "jG01LCm0rNB-",
        "colab_type": "code",
        "outputId": "781b4a5e-ae7a-4e3d-d012-7a0caff525b0",
        "colab": {
          "base_uri": "https://localhost:8080/",
          "height": 224
        }
      },
      "source": [
        "df.head()"
      ],
      "execution_count": 28,
      "outputs": [
        {
          "output_type": "execute_result",
          "data": {
            "text/html": [
              "<div>\n",
              "<style scoped>\n",
              "    .dataframe tbody tr th:only-of-type {\n",
              "        vertical-align: middle;\n",
              "    }\n",
              "\n",
              "    .dataframe tbody tr th {\n",
              "        vertical-align: top;\n",
              "    }\n",
              "\n",
              "    .dataframe thead th {\n",
              "        text-align: right;\n",
              "    }\n",
              "</style>\n",
              "<table border=\"1\" class=\"dataframe\">\n",
              "  <thead>\n",
              "    <tr style=\"text-align: right;\">\n",
              "      <th></th>\n",
              "      <th>party</th>\n",
              "      <th>handicapped_infants</th>\n",
              "      <th>water_project_cost_sharing</th>\n",
              "      <th>adoption_of_the_budget_resolution</th>\n",
              "      <th>physician_fee_freeze</th>\n",
              "      <th>el_salvador_aid</th>\n",
              "      <th>religious_groups_in_schools</th>\n",
              "      <th>anti_satellite_test_ban</th>\n",
              "      <th>aid_to_nicaraguan_contras</th>\n",
              "      <th>mx_missile</th>\n",
              "      <th>immigration</th>\n",
              "      <th>synfuels_corporation_cutback</th>\n",
              "      <th>education_spending</th>\n",
              "      <th>superfund_right_to_sue</th>\n",
              "      <th>crime</th>\n",
              "      <th>duty_free_exports</th>\n",
              "      <th>export_administration_act_south_africa</th>\n",
              "    </tr>\n",
              "  </thead>\n",
              "  <tbody>\n",
              "    <tr>\n",
              "      <th>0</th>\n",
              "      <td>republican</td>\n",
              "      <td>n</td>\n",
              "      <td>y</td>\n",
              "      <td>n</td>\n",
              "      <td>y</td>\n",
              "      <td>y</td>\n",
              "      <td>y</td>\n",
              "      <td>n</td>\n",
              "      <td>n</td>\n",
              "      <td>n</td>\n",
              "      <td>n</td>\n",
              "      <td>n</td>\n",
              "      <td>y</td>\n",
              "      <td>y</td>\n",
              "      <td>y</td>\n",
              "      <td>n</td>\n",
              "      <td>?</td>\n",
              "    </tr>\n",
              "    <tr>\n",
              "      <th>1</th>\n",
              "      <td>democrat</td>\n",
              "      <td>?</td>\n",
              "      <td>y</td>\n",
              "      <td>y</td>\n",
              "      <td>?</td>\n",
              "      <td>y</td>\n",
              "      <td>y</td>\n",
              "      <td>n</td>\n",
              "      <td>n</td>\n",
              "      <td>n</td>\n",
              "      <td>n</td>\n",
              "      <td>y</td>\n",
              "      <td>n</td>\n",
              "      <td>y</td>\n",
              "      <td>y</td>\n",
              "      <td>n</td>\n",
              "      <td>n</td>\n",
              "    </tr>\n",
              "    <tr>\n",
              "      <th>2</th>\n",
              "      <td>democrat</td>\n",
              "      <td>n</td>\n",
              "      <td>y</td>\n",
              "      <td>y</td>\n",
              "      <td>n</td>\n",
              "      <td>?</td>\n",
              "      <td>y</td>\n",
              "      <td>n</td>\n",
              "      <td>n</td>\n",
              "      <td>n</td>\n",
              "      <td>n</td>\n",
              "      <td>y</td>\n",
              "      <td>n</td>\n",
              "      <td>y</td>\n",
              "      <td>n</td>\n",
              "      <td>n</td>\n",
              "      <td>y</td>\n",
              "    </tr>\n",
              "    <tr>\n",
              "      <th>3</th>\n",
              "      <td>democrat</td>\n",
              "      <td>y</td>\n",
              "      <td>y</td>\n",
              "      <td>y</td>\n",
              "      <td>n</td>\n",
              "      <td>y</td>\n",
              "      <td>y</td>\n",
              "      <td>n</td>\n",
              "      <td>n</td>\n",
              "      <td>n</td>\n",
              "      <td>n</td>\n",
              "      <td>y</td>\n",
              "      <td>?</td>\n",
              "      <td>y</td>\n",
              "      <td>y</td>\n",
              "      <td>y</td>\n",
              "      <td>y</td>\n",
              "    </tr>\n",
              "    <tr>\n",
              "      <th>4</th>\n",
              "      <td>democrat</td>\n",
              "      <td>n</td>\n",
              "      <td>y</td>\n",
              "      <td>y</td>\n",
              "      <td>n</td>\n",
              "      <td>y</td>\n",
              "      <td>y</td>\n",
              "      <td>n</td>\n",
              "      <td>n</td>\n",
              "      <td>n</td>\n",
              "      <td>n</td>\n",
              "      <td>n</td>\n",
              "      <td>n</td>\n",
              "      <td>y</td>\n",
              "      <td>y</td>\n",
              "      <td>y</td>\n",
              "      <td>y</td>\n",
              "    </tr>\n",
              "  </tbody>\n",
              "</table>\n",
              "</div>"
            ],
            "text/plain": [
              "        party  ... export_administration_act_south_africa\n",
              "0  republican  ...                                      ?\n",
              "1    democrat  ...                                      n\n",
              "2    democrat  ...                                      y\n",
              "3    democrat  ...                                      y\n",
              "4    democrat  ...                                      y\n",
              "\n",
              "[5 rows x 17 columns]"
            ]
          },
          "metadata": {
            "tags": []
          },
          "execution_count": 28
        }
      ]
    },
    {
      "cell_type": "code",
      "metadata": {
        "id": "yf3TRqVeU0A-",
        "colab_type": "code",
        "colab": {}
      },
      "source": [
        "df.replace([\"y\",\"n\"],[\"1\",\"0\"], inplace = True)"
      ],
      "execution_count": 0,
      "outputs": []
    },
    {
      "cell_type": "code",
      "metadata": {
        "id": "WkquBLZkxQ2r",
        "colab_type": "code",
        "outputId": "fd52675a-10d3-4f4e-a0d4-c387d62fa799",
        "colab": {
          "base_uri": "https://localhost:8080/",
          "height": 224
        }
      },
      "source": [
        "df.head()"
      ],
      "execution_count": 30,
      "outputs": [
        {
          "output_type": "execute_result",
          "data": {
            "text/html": [
              "<div>\n",
              "<style scoped>\n",
              "    .dataframe tbody tr th:only-of-type {\n",
              "        vertical-align: middle;\n",
              "    }\n",
              "\n",
              "    .dataframe tbody tr th {\n",
              "        vertical-align: top;\n",
              "    }\n",
              "\n",
              "    .dataframe thead th {\n",
              "        text-align: right;\n",
              "    }\n",
              "</style>\n",
              "<table border=\"1\" class=\"dataframe\">\n",
              "  <thead>\n",
              "    <tr style=\"text-align: right;\">\n",
              "      <th></th>\n",
              "      <th>party</th>\n",
              "      <th>handicapped_infants</th>\n",
              "      <th>water_project_cost_sharing</th>\n",
              "      <th>adoption_of_the_budget_resolution</th>\n",
              "      <th>physician_fee_freeze</th>\n",
              "      <th>el_salvador_aid</th>\n",
              "      <th>religious_groups_in_schools</th>\n",
              "      <th>anti_satellite_test_ban</th>\n",
              "      <th>aid_to_nicaraguan_contras</th>\n",
              "      <th>mx_missile</th>\n",
              "      <th>immigration</th>\n",
              "      <th>synfuels_corporation_cutback</th>\n",
              "      <th>education_spending</th>\n",
              "      <th>superfund_right_to_sue</th>\n",
              "      <th>crime</th>\n",
              "      <th>duty_free_exports</th>\n",
              "      <th>export_administration_act_south_africa</th>\n",
              "    </tr>\n",
              "  </thead>\n",
              "  <tbody>\n",
              "    <tr>\n",
              "      <th>0</th>\n",
              "      <td>republican</td>\n",
              "      <td>0</td>\n",
              "      <td>1</td>\n",
              "      <td>0</td>\n",
              "      <td>1</td>\n",
              "      <td>1</td>\n",
              "      <td>1</td>\n",
              "      <td>0</td>\n",
              "      <td>0</td>\n",
              "      <td>0</td>\n",
              "      <td>0</td>\n",
              "      <td>0</td>\n",
              "      <td>1</td>\n",
              "      <td>1</td>\n",
              "      <td>1</td>\n",
              "      <td>0</td>\n",
              "      <td>?</td>\n",
              "    </tr>\n",
              "    <tr>\n",
              "      <th>1</th>\n",
              "      <td>democrat</td>\n",
              "      <td>?</td>\n",
              "      <td>1</td>\n",
              "      <td>1</td>\n",
              "      <td>?</td>\n",
              "      <td>1</td>\n",
              "      <td>1</td>\n",
              "      <td>0</td>\n",
              "      <td>0</td>\n",
              "      <td>0</td>\n",
              "      <td>0</td>\n",
              "      <td>1</td>\n",
              "      <td>0</td>\n",
              "      <td>1</td>\n",
              "      <td>1</td>\n",
              "      <td>0</td>\n",
              "      <td>0</td>\n",
              "    </tr>\n",
              "    <tr>\n",
              "      <th>2</th>\n",
              "      <td>democrat</td>\n",
              "      <td>0</td>\n",
              "      <td>1</td>\n",
              "      <td>1</td>\n",
              "      <td>0</td>\n",
              "      <td>?</td>\n",
              "      <td>1</td>\n",
              "      <td>0</td>\n",
              "      <td>0</td>\n",
              "      <td>0</td>\n",
              "      <td>0</td>\n",
              "      <td>1</td>\n",
              "      <td>0</td>\n",
              "      <td>1</td>\n",
              "      <td>0</td>\n",
              "      <td>0</td>\n",
              "      <td>1</td>\n",
              "    </tr>\n",
              "    <tr>\n",
              "      <th>3</th>\n",
              "      <td>democrat</td>\n",
              "      <td>1</td>\n",
              "      <td>1</td>\n",
              "      <td>1</td>\n",
              "      <td>0</td>\n",
              "      <td>1</td>\n",
              "      <td>1</td>\n",
              "      <td>0</td>\n",
              "      <td>0</td>\n",
              "      <td>0</td>\n",
              "      <td>0</td>\n",
              "      <td>1</td>\n",
              "      <td>?</td>\n",
              "      <td>1</td>\n",
              "      <td>1</td>\n",
              "      <td>1</td>\n",
              "      <td>1</td>\n",
              "    </tr>\n",
              "    <tr>\n",
              "      <th>4</th>\n",
              "      <td>democrat</td>\n",
              "      <td>0</td>\n",
              "      <td>1</td>\n",
              "      <td>1</td>\n",
              "      <td>0</td>\n",
              "      <td>1</td>\n",
              "      <td>1</td>\n",
              "      <td>0</td>\n",
              "      <td>0</td>\n",
              "      <td>0</td>\n",
              "      <td>0</td>\n",
              "      <td>0</td>\n",
              "      <td>0</td>\n",
              "      <td>1</td>\n",
              "      <td>1</td>\n",
              "      <td>1</td>\n",
              "      <td>1</td>\n",
              "    </tr>\n",
              "  </tbody>\n",
              "</table>\n",
              "</div>"
            ],
            "text/plain": [
              "        party  ... export_administration_act_south_africa\n",
              "0  republican  ...                                      ?\n",
              "1    democrat  ...                                      0\n",
              "2    democrat  ...                                      1\n",
              "3    democrat  ...                                      1\n",
              "4    democrat  ...                                      1\n",
              "\n",
              "[5 rows x 17 columns]"
            ]
          },
          "metadata": {
            "tags": []
          },
          "execution_count": 30
        }
      ]
    },
    {
      "cell_type": "code",
      "metadata": {
        "id": "QKpWxYWJ6vGM",
        "colab_type": "code",
        "colab": {}
      },
      "source": [
        "df.replace('?', np.NaN, inplace = True)"
      ],
      "execution_count": 0,
      "outputs": []
    },
    {
      "cell_type": "code",
      "metadata": {
        "id": "LKn4ZH896wB_",
        "colab_type": "code",
        "outputId": "bc97af34-31b6-44cc-cf69-0840257c08fd",
        "colab": {
          "base_uri": "https://localhost:8080/",
          "height": 224
        }
      },
      "source": [
        "df.head()"
      ],
      "execution_count": 32,
      "outputs": [
        {
          "output_type": "execute_result",
          "data": {
            "text/html": [
              "<div>\n",
              "<style scoped>\n",
              "    .dataframe tbody tr th:only-of-type {\n",
              "        vertical-align: middle;\n",
              "    }\n",
              "\n",
              "    .dataframe tbody tr th {\n",
              "        vertical-align: top;\n",
              "    }\n",
              "\n",
              "    .dataframe thead th {\n",
              "        text-align: right;\n",
              "    }\n",
              "</style>\n",
              "<table border=\"1\" class=\"dataframe\">\n",
              "  <thead>\n",
              "    <tr style=\"text-align: right;\">\n",
              "      <th></th>\n",
              "      <th>party</th>\n",
              "      <th>handicapped_infants</th>\n",
              "      <th>water_project_cost_sharing</th>\n",
              "      <th>adoption_of_the_budget_resolution</th>\n",
              "      <th>physician_fee_freeze</th>\n",
              "      <th>el_salvador_aid</th>\n",
              "      <th>religious_groups_in_schools</th>\n",
              "      <th>anti_satellite_test_ban</th>\n",
              "      <th>aid_to_nicaraguan_contras</th>\n",
              "      <th>mx_missile</th>\n",
              "      <th>immigration</th>\n",
              "      <th>synfuels_corporation_cutback</th>\n",
              "      <th>education_spending</th>\n",
              "      <th>superfund_right_to_sue</th>\n",
              "      <th>crime</th>\n",
              "      <th>duty_free_exports</th>\n",
              "      <th>export_administration_act_south_africa</th>\n",
              "    </tr>\n",
              "  </thead>\n",
              "  <tbody>\n",
              "    <tr>\n",
              "      <th>0</th>\n",
              "      <td>republican</td>\n",
              "      <td>0</td>\n",
              "      <td>1</td>\n",
              "      <td>0</td>\n",
              "      <td>1</td>\n",
              "      <td>1</td>\n",
              "      <td>1</td>\n",
              "      <td>0</td>\n",
              "      <td>0</td>\n",
              "      <td>0</td>\n",
              "      <td>0</td>\n",
              "      <td>0</td>\n",
              "      <td>1</td>\n",
              "      <td>1</td>\n",
              "      <td>1</td>\n",
              "      <td>0</td>\n",
              "      <td>NaN</td>\n",
              "    </tr>\n",
              "    <tr>\n",
              "      <th>1</th>\n",
              "      <td>democrat</td>\n",
              "      <td>NaN</td>\n",
              "      <td>1</td>\n",
              "      <td>1</td>\n",
              "      <td>NaN</td>\n",
              "      <td>1</td>\n",
              "      <td>1</td>\n",
              "      <td>0</td>\n",
              "      <td>0</td>\n",
              "      <td>0</td>\n",
              "      <td>0</td>\n",
              "      <td>1</td>\n",
              "      <td>0</td>\n",
              "      <td>1</td>\n",
              "      <td>1</td>\n",
              "      <td>0</td>\n",
              "      <td>0</td>\n",
              "    </tr>\n",
              "    <tr>\n",
              "      <th>2</th>\n",
              "      <td>democrat</td>\n",
              "      <td>0</td>\n",
              "      <td>1</td>\n",
              "      <td>1</td>\n",
              "      <td>0</td>\n",
              "      <td>NaN</td>\n",
              "      <td>1</td>\n",
              "      <td>0</td>\n",
              "      <td>0</td>\n",
              "      <td>0</td>\n",
              "      <td>0</td>\n",
              "      <td>1</td>\n",
              "      <td>0</td>\n",
              "      <td>1</td>\n",
              "      <td>0</td>\n",
              "      <td>0</td>\n",
              "      <td>1</td>\n",
              "    </tr>\n",
              "    <tr>\n",
              "      <th>3</th>\n",
              "      <td>democrat</td>\n",
              "      <td>1</td>\n",
              "      <td>1</td>\n",
              "      <td>1</td>\n",
              "      <td>0</td>\n",
              "      <td>1</td>\n",
              "      <td>1</td>\n",
              "      <td>0</td>\n",
              "      <td>0</td>\n",
              "      <td>0</td>\n",
              "      <td>0</td>\n",
              "      <td>1</td>\n",
              "      <td>NaN</td>\n",
              "      <td>1</td>\n",
              "      <td>1</td>\n",
              "      <td>1</td>\n",
              "      <td>1</td>\n",
              "    </tr>\n",
              "    <tr>\n",
              "      <th>4</th>\n",
              "      <td>democrat</td>\n",
              "      <td>0</td>\n",
              "      <td>1</td>\n",
              "      <td>1</td>\n",
              "      <td>0</td>\n",
              "      <td>1</td>\n",
              "      <td>1</td>\n",
              "      <td>0</td>\n",
              "      <td>0</td>\n",
              "      <td>0</td>\n",
              "      <td>0</td>\n",
              "      <td>0</td>\n",
              "      <td>0</td>\n",
              "      <td>1</td>\n",
              "      <td>1</td>\n",
              "      <td>1</td>\n",
              "      <td>1</td>\n",
              "    </tr>\n",
              "  </tbody>\n",
              "</table>\n",
              "</div>"
            ],
            "text/plain": [
              "        party  ... export_administration_act_south_africa\n",
              "0  republican  ...                                    NaN\n",
              "1    democrat  ...                                      0\n",
              "2    democrat  ...                                      1\n",
              "3    democrat  ...                                      1\n",
              "4    democrat  ...                                      1\n",
              "\n",
              "[5 rows x 17 columns]"
            ]
          },
          "metadata": {
            "tags": []
          },
          "execution_count": 32
        }
      ]
    },
    {
      "cell_type": "code",
      "metadata": {
        "id": "lwwM1WwF9HI2",
        "colab_type": "code",
        "outputId": "df800991-ba0b-46a4-cae0-b10c0307c04f",
        "colab": {
          "base_uri": "https://localhost:8080/",
          "height": 193
        }
      },
      "source": [
        "df.describe()"
      ],
      "execution_count": 33,
      "outputs": [
        {
          "output_type": "execute_result",
          "data": {
            "text/html": [
              "<div>\n",
              "<style scoped>\n",
              "    .dataframe tbody tr th:only-of-type {\n",
              "        vertical-align: middle;\n",
              "    }\n",
              "\n",
              "    .dataframe tbody tr th {\n",
              "        vertical-align: top;\n",
              "    }\n",
              "\n",
              "    .dataframe thead th {\n",
              "        text-align: right;\n",
              "    }\n",
              "</style>\n",
              "<table border=\"1\" class=\"dataframe\">\n",
              "  <thead>\n",
              "    <tr style=\"text-align: right;\">\n",
              "      <th></th>\n",
              "      <th>party</th>\n",
              "      <th>handicapped_infants</th>\n",
              "      <th>water_project_cost_sharing</th>\n",
              "      <th>adoption_of_the_budget_resolution</th>\n",
              "      <th>physician_fee_freeze</th>\n",
              "      <th>el_salvador_aid</th>\n",
              "      <th>religious_groups_in_schools</th>\n",
              "      <th>anti_satellite_test_ban</th>\n",
              "      <th>aid_to_nicaraguan_contras</th>\n",
              "      <th>mx_missile</th>\n",
              "      <th>immigration</th>\n",
              "      <th>synfuels_corporation_cutback</th>\n",
              "      <th>education_spending</th>\n",
              "      <th>superfund_right_to_sue</th>\n",
              "      <th>crime</th>\n",
              "      <th>duty_free_exports</th>\n",
              "      <th>export_administration_act_south_africa</th>\n",
              "    </tr>\n",
              "  </thead>\n",
              "  <tbody>\n",
              "    <tr>\n",
              "      <th>count</th>\n",
              "      <td>434</td>\n",
              "      <td>422</td>\n",
              "      <td>386</td>\n",
              "      <td>423</td>\n",
              "      <td>423</td>\n",
              "      <td>419</td>\n",
              "      <td>423</td>\n",
              "      <td>420</td>\n",
              "      <td>419</td>\n",
              "      <td>412</td>\n",
              "      <td>427</td>\n",
              "      <td>414</td>\n",
              "      <td>403</td>\n",
              "      <td>409</td>\n",
              "      <td>417</td>\n",
              "      <td>406</td>\n",
              "      <td>330</td>\n",
              "    </tr>\n",
              "    <tr>\n",
              "      <th>unique</th>\n",
              "      <td>2</td>\n",
              "      <td>2</td>\n",
              "      <td>2</td>\n",
              "      <td>2</td>\n",
              "      <td>2</td>\n",
              "      <td>2</td>\n",
              "      <td>2</td>\n",
              "      <td>2</td>\n",
              "      <td>2</td>\n",
              "      <td>2</td>\n",
              "      <td>2</td>\n",
              "      <td>2</td>\n",
              "      <td>2</td>\n",
              "      <td>2</td>\n",
              "      <td>2</td>\n",
              "      <td>2</td>\n",
              "      <td>2</td>\n",
              "    </tr>\n",
              "    <tr>\n",
              "      <th>top</th>\n",
              "      <td>democrat</td>\n",
              "      <td>0</td>\n",
              "      <td>1</td>\n",
              "      <td>1</td>\n",
              "      <td>0</td>\n",
              "      <td>1</td>\n",
              "      <td>1</td>\n",
              "      <td>1</td>\n",
              "      <td>1</td>\n",
              "      <td>1</td>\n",
              "      <td>1</td>\n",
              "      <td>0</td>\n",
              "      <td>0</td>\n",
              "      <td>1</td>\n",
              "      <td>1</td>\n",
              "      <td>0</td>\n",
              "      <td>1</td>\n",
              "    </tr>\n",
              "    <tr>\n",
              "      <th>freq</th>\n",
              "      <td>267</td>\n",
              "      <td>235</td>\n",
              "      <td>194</td>\n",
              "      <td>253</td>\n",
              "      <td>247</td>\n",
              "      <td>211</td>\n",
              "      <td>271</td>\n",
              "      <td>239</td>\n",
              "      <td>242</td>\n",
              "      <td>207</td>\n",
              "      <td>215</td>\n",
              "      <td>264</td>\n",
              "      <td>233</td>\n",
              "      <td>208</td>\n",
              "      <td>247</td>\n",
              "      <td>232</td>\n",
              "      <td>268</td>\n",
              "    </tr>\n",
              "  </tbody>\n",
              "</table>\n",
              "</div>"
            ],
            "text/plain": [
              "           party  ... export_administration_act_south_africa\n",
              "count        434  ...                                    330\n",
              "unique         2  ...                                      2\n",
              "top     democrat  ...                                      1\n",
              "freq         267  ...                                    268\n",
              "\n",
              "[4 rows x 17 columns]"
            ]
          },
          "metadata": {
            "tags": []
          },
          "execution_count": 33
        }
      ]
    },
    {
      "cell_type": "code",
      "metadata": {
        "id": "PYPWX_v-qUYd",
        "colab_type": "code",
        "outputId": "4a2c31b5-82d7-4dc1-e108-dd7023c1eca7",
        "colab": {
          "base_uri": "https://localhost:8080/",
          "height": 224
        }
      },
      "source": [
        "rep = df[df['party'] =='republican']\n",
        "rep.head()"
      ],
      "execution_count": 34,
      "outputs": [
        {
          "output_type": "execute_result",
          "data": {
            "text/html": [
              "<div>\n",
              "<style scoped>\n",
              "    .dataframe tbody tr th:only-of-type {\n",
              "        vertical-align: middle;\n",
              "    }\n",
              "\n",
              "    .dataframe tbody tr th {\n",
              "        vertical-align: top;\n",
              "    }\n",
              "\n",
              "    .dataframe thead th {\n",
              "        text-align: right;\n",
              "    }\n",
              "</style>\n",
              "<table border=\"1\" class=\"dataframe\">\n",
              "  <thead>\n",
              "    <tr style=\"text-align: right;\">\n",
              "      <th></th>\n",
              "      <th>party</th>\n",
              "      <th>handicapped_infants</th>\n",
              "      <th>water_project_cost_sharing</th>\n",
              "      <th>adoption_of_the_budget_resolution</th>\n",
              "      <th>physician_fee_freeze</th>\n",
              "      <th>el_salvador_aid</th>\n",
              "      <th>religious_groups_in_schools</th>\n",
              "      <th>anti_satellite_test_ban</th>\n",
              "      <th>aid_to_nicaraguan_contras</th>\n",
              "      <th>mx_missile</th>\n",
              "      <th>immigration</th>\n",
              "      <th>synfuels_corporation_cutback</th>\n",
              "      <th>education_spending</th>\n",
              "      <th>superfund_right_to_sue</th>\n",
              "      <th>crime</th>\n",
              "      <th>duty_free_exports</th>\n",
              "      <th>export_administration_act_south_africa</th>\n",
              "    </tr>\n",
              "  </thead>\n",
              "  <tbody>\n",
              "    <tr>\n",
              "      <th>0</th>\n",
              "      <td>republican</td>\n",
              "      <td>0</td>\n",
              "      <td>1</td>\n",
              "      <td>0</td>\n",
              "      <td>1</td>\n",
              "      <td>1</td>\n",
              "      <td>1</td>\n",
              "      <td>0</td>\n",
              "      <td>0</td>\n",
              "      <td>0</td>\n",
              "      <td>0</td>\n",
              "      <td>0</td>\n",
              "      <td>1</td>\n",
              "      <td>1</td>\n",
              "      <td>1</td>\n",
              "      <td>0</td>\n",
              "      <td>NaN</td>\n",
              "    </tr>\n",
              "    <tr>\n",
              "      <th>6</th>\n",
              "      <td>republican</td>\n",
              "      <td>0</td>\n",
              "      <td>1</td>\n",
              "      <td>0</td>\n",
              "      <td>1</td>\n",
              "      <td>1</td>\n",
              "      <td>1</td>\n",
              "      <td>0</td>\n",
              "      <td>0</td>\n",
              "      <td>0</td>\n",
              "      <td>0</td>\n",
              "      <td>0</td>\n",
              "      <td>0</td>\n",
              "      <td>1</td>\n",
              "      <td>1</td>\n",
              "      <td>NaN</td>\n",
              "      <td>1</td>\n",
              "    </tr>\n",
              "    <tr>\n",
              "      <th>7</th>\n",
              "      <td>republican</td>\n",
              "      <td>0</td>\n",
              "      <td>1</td>\n",
              "      <td>0</td>\n",
              "      <td>1</td>\n",
              "      <td>1</td>\n",
              "      <td>1</td>\n",
              "      <td>0</td>\n",
              "      <td>0</td>\n",
              "      <td>0</td>\n",
              "      <td>0</td>\n",
              "      <td>0</td>\n",
              "      <td>1</td>\n",
              "      <td>1</td>\n",
              "      <td>1</td>\n",
              "      <td>0</td>\n",
              "      <td>1</td>\n",
              "    </tr>\n",
              "    <tr>\n",
              "      <th>9</th>\n",
              "      <td>republican</td>\n",
              "      <td>0</td>\n",
              "      <td>1</td>\n",
              "      <td>0</td>\n",
              "      <td>1</td>\n",
              "      <td>1</td>\n",
              "      <td>0</td>\n",
              "      <td>0</td>\n",
              "      <td>0</td>\n",
              "      <td>0</td>\n",
              "      <td>0</td>\n",
              "      <td>NaN</td>\n",
              "      <td>NaN</td>\n",
              "      <td>1</td>\n",
              "      <td>1</td>\n",
              "      <td>0</td>\n",
              "      <td>0</td>\n",
              "    </tr>\n",
              "    <tr>\n",
              "      <th>10</th>\n",
              "      <td>republican</td>\n",
              "      <td>0</td>\n",
              "      <td>1</td>\n",
              "      <td>0</td>\n",
              "      <td>1</td>\n",
              "      <td>1</td>\n",
              "      <td>1</td>\n",
              "      <td>0</td>\n",
              "      <td>0</td>\n",
              "      <td>0</td>\n",
              "      <td>0</td>\n",
              "      <td>1</td>\n",
              "      <td>NaN</td>\n",
              "      <td>1</td>\n",
              "      <td>1</td>\n",
              "      <td>NaN</td>\n",
              "      <td>NaN</td>\n",
              "    </tr>\n",
              "  </tbody>\n",
              "</table>\n",
              "</div>"
            ],
            "text/plain": [
              "         party  ... export_administration_act_south_africa\n",
              "0   republican  ...                                    NaN\n",
              "6   republican  ...                                      1\n",
              "7   republican  ...                                      1\n",
              "9   republican  ...                                      0\n",
              "10  republican  ...                                    NaN\n",
              "\n",
              "[5 rows x 17 columns]"
            ]
          },
          "metadata": {
            "tags": []
          },
          "execution_count": 34
        }
      ]
    },
    {
      "cell_type": "code",
      "metadata": {
        "id": "nT4YreGAqdpT",
        "colab_type": "code",
        "outputId": "42055570-72d1-42e4-e33c-5ebc0023c356",
        "colab": {
          "base_uri": "https://localhost:8080/",
          "height": 224
        }
      },
      "source": [
        "dem = df[df['party'] =='democrat']\n",
        "dem.head()"
      ],
      "execution_count": 35,
      "outputs": [
        {
          "output_type": "execute_result",
          "data": {
            "text/html": [
              "<div>\n",
              "<style scoped>\n",
              "    .dataframe tbody tr th:only-of-type {\n",
              "        vertical-align: middle;\n",
              "    }\n",
              "\n",
              "    .dataframe tbody tr th {\n",
              "        vertical-align: top;\n",
              "    }\n",
              "\n",
              "    .dataframe thead th {\n",
              "        text-align: right;\n",
              "    }\n",
              "</style>\n",
              "<table border=\"1\" class=\"dataframe\">\n",
              "  <thead>\n",
              "    <tr style=\"text-align: right;\">\n",
              "      <th></th>\n",
              "      <th>party</th>\n",
              "      <th>handicapped_infants</th>\n",
              "      <th>water_project_cost_sharing</th>\n",
              "      <th>adoption_of_the_budget_resolution</th>\n",
              "      <th>physician_fee_freeze</th>\n",
              "      <th>el_salvador_aid</th>\n",
              "      <th>religious_groups_in_schools</th>\n",
              "      <th>anti_satellite_test_ban</th>\n",
              "      <th>aid_to_nicaraguan_contras</th>\n",
              "      <th>mx_missile</th>\n",
              "      <th>immigration</th>\n",
              "      <th>synfuels_corporation_cutback</th>\n",
              "      <th>education_spending</th>\n",
              "      <th>superfund_right_to_sue</th>\n",
              "      <th>crime</th>\n",
              "      <th>duty_free_exports</th>\n",
              "      <th>export_administration_act_south_africa</th>\n",
              "    </tr>\n",
              "  </thead>\n",
              "  <tbody>\n",
              "    <tr>\n",
              "      <th>1</th>\n",
              "      <td>democrat</td>\n",
              "      <td>NaN</td>\n",
              "      <td>1</td>\n",
              "      <td>1</td>\n",
              "      <td>NaN</td>\n",
              "      <td>1</td>\n",
              "      <td>1</td>\n",
              "      <td>0</td>\n",
              "      <td>0</td>\n",
              "      <td>0</td>\n",
              "      <td>0</td>\n",
              "      <td>1</td>\n",
              "      <td>0</td>\n",
              "      <td>1</td>\n",
              "      <td>1</td>\n",
              "      <td>0</td>\n",
              "      <td>0</td>\n",
              "    </tr>\n",
              "    <tr>\n",
              "      <th>2</th>\n",
              "      <td>democrat</td>\n",
              "      <td>0</td>\n",
              "      <td>1</td>\n",
              "      <td>1</td>\n",
              "      <td>0</td>\n",
              "      <td>NaN</td>\n",
              "      <td>1</td>\n",
              "      <td>0</td>\n",
              "      <td>0</td>\n",
              "      <td>0</td>\n",
              "      <td>0</td>\n",
              "      <td>1</td>\n",
              "      <td>0</td>\n",
              "      <td>1</td>\n",
              "      <td>0</td>\n",
              "      <td>0</td>\n",
              "      <td>1</td>\n",
              "    </tr>\n",
              "    <tr>\n",
              "      <th>3</th>\n",
              "      <td>democrat</td>\n",
              "      <td>1</td>\n",
              "      <td>1</td>\n",
              "      <td>1</td>\n",
              "      <td>0</td>\n",
              "      <td>1</td>\n",
              "      <td>1</td>\n",
              "      <td>0</td>\n",
              "      <td>0</td>\n",
              "      <td>0</td>\n",
              "      <td>0</td>\n",
              "      <td>1</td>\n",
              "      <td>NaN</td>\n",
              "      <td>1</td>\n",
              "      <td>1</td>\n",
              "      <td>1</td>\n",
              "      <td>1</td>\n",
              "    </tr>\n",
              "    <tr>\n",
              "      <th>4</th>\n",
              "      <td>democrat</td>\n",
              "      <td>0</td>\n",
              "      <td>1</td>\n",
              "      <td>1</td>\n",
              "      <td>0</td>\n",
              "      <td>1</td>\n",
              "      <td>1</td>\n",
              "      <td>0</td>\n",
              "      <td>0</td>\n",
              "      <td>0</td>\n",
              "      <td>0</td>\n",
              "      <td>0</td>\n",
              "      <td>0</td>\n",
              "      <td>1</td>\n",
              "      <td>1</td>\n",
              "      <td>1</td>\n",
              "      <td>1</td>\n",
              "    </tr>\n",
              "    <tr>\n",
              "      <th>5</th>\n",
              "      <td>democrat</td>\n",
              "      <td>0</td>\n",
              "      <td>1</td>\n",
              "      <td>0</td>\n",
              "      <td>1</td>\n",
              "      <td>1</td>\n",
              "      <td>1</td>\n",
              "      <td>0</td>\n",
              "      <td>0</td>\n",
              "      <td>0</td>\n",
              "      <td>0</td>\n",
              "      <td>0</td>\n",
              "      <td>0</td>\n",
              "      <td>NaN</td>\n",
              "      <td>1</td>\n",
              "      <td>1</td>\n",
              "      <td>1</td>\n",
              "    </tr>\n",
              "  </tbody>\n",
              "</table>\n",
              "</div>"
            ],
            "text/plain": [
              "      party  ... export_administration_act_south_africa\n",
              "1  democrat  ...                                      0\n",
              "2  democrat  ...                                      1\n",
              "3  democrat  ...                                      1\n",
              "4  democrat  ...                                      1\n",
              "5  democrat  ...                                      1\n",
              "\n",
              "[5 rows x 17 columns]"
            ]
          },
          "metadata": {
            "tags": []
          },
          "execution_count": 35
        }
      ]
    },
    {
      "cell_type": "code",
      "metadata": {
        "id": "BUJs_C5iqgNQ",
        "colab_type": "code",
        "outputId": "28db8d9a-8414-4884-f3e1-0c3a2dcd2b20",
        "colab": {
          "base_uri": "https://localhost:8080/",
          "height": 89
        }
      },
      "source": [
        "dem['water_project_cost_sharing'].value_counts(dropna=False)"
      ],
      "execution_count": 36,
      "outputs": [
        {
          "output_type": "execute_result",
          "data": {
            "text/plain": [
              "1      120\n",
              "0      119\n",
              "NaN     28\n",
              "Name: water_project_cost_sharing, dtype: int64"
            ]
          },
          "metadata": {
            "tags": []
          },
          "execution_count": 36
        }
      ]
    },
    {
      "cell_type": "code",
      "metadata": {
        "id": "Cv0umD4a86WZ",
        "colab_type": "code",
        "colab": {}
      },
      "source": [
        "dem = dem.copy()"
      ],
      "execution_count": 0,
      "outputs": []
    },
    {
      "cell_type": "code",
      "metadata": {
        "id": "9Ukx7lGm-nGO",
        "colab_type": "code",
        "colab": {}
      },
      "source": [
        "dem.dropna(inplace = True)"
      ],
      "execution_count": 0,
      "outputs": []
    },
    {
      "cell_type": "code",
      "metadata": {
        "id": "l7YrTqp4QGcY",
        "colab_type": "code",
        "colab": {
          "base_uri": "https://localhost:8080/",
          "height": 35
        },
        "outputId": "745c7b9d-8b2e-4be4-93aa-3626390801bd"
      },
      "source": [
        "dem['water_project_cost_sharing'].mean()"
      ],
      "execution_count": 40,
      "outputs": [
        {
          "output_type": "execute_result",
          "data": {
            "text/plain": [
              "8.95170250000896e+120"
            ]
          },
          "metadata": {
            "tags": []
          },
          "execution_count": 40
        }
      ]
    },
    {
      "cell_type": "code",
      "metadata": {
        "id": "f6s06SSzqipY",
        "colab_type": "code",
        "colab": {}
      },
      "source": [
        "from scipy.stats import ttest_1samp"
      ],
      "execution_count": 0,
      "outputs": []
    },
    {
      "cell_type": "code",
      "metadata": {
        "id": "MwRTZGau-6h8",
        "colab_type": "code",
        "colab": {}
      },
      "source": [
        "dem['water_project_cost_sharing'] = dem['water_project_cost_sharing'].astype(int)"
      ],
      "execution_count": 0,
      "outputs": []
    },
    {
      "cell_type": "code",
      "metadata": {
        "id": "RFwYjHstqinl",
        "colab_type": "code",
        "colab": {
          "base_uri": "https://localhost:8080/",
          "height": 35
        },
        "outputId": "7cd7b531-26f8-4a95-d7ba-dc385a8ad182"
      },
      "source": [
        "ttest_1samp(dem['water_project_cost_sharing'], .5, nan_policy='omit')"
      ],
      "execution_count": 51,
      "outputs": [
        {
          "output_type": "execute_result",
          "data": {
            "text/plain": [
              "Ttest_1sampResult(statistic=-1.0783390589468698, pvalue=0.2829926703097308)"
            ]
          },
          "metadata": {
            "tags": []
          },
          "execution_count": 51
        }
      ]
    },
    {
      "cell_type": "code",
      "metadata": {
        "id": "gDQ3iwUDqilv",
        "colab_type": "code",
        "colab": {
          "base_uri": "https://localhost:8080/",
          "height": 35
        },
        "outputId": "60786701-f5d7-434d-d319-14a864b4a132"
      },
      "source": [
        "ttest_1samp(dem['water_project_cost_sharing'], 0, nan_policy='omit')"
      ],
      "execution_count": 53,
      "outputs": [
        {
          "output_type": "execute_result",
          "data": {
            "text/plain": [
              "Ttest_1sampResult(statistic=10.064497883504114, pvalue=9.516196886604587e-18)"
            ]
          },
          "metadata": {
            "tags": []
          },
          "execution_count": 53
        }
      ]
    },
    {
      "cell_type": "code",
      "metadata": {
        "id": "rR_KmwEaqijy",
        "colab_type": "code",
        "colab": {
          "base_uri": "https://localhost:8080/",
          "height": 35
        },
        "outputId": "e9e88e11-9793-44a6-aaff-b4313d1c4a76"
      },
      "source": [
        "ttest_1samp(dem['water_project_cost_sharing'], 1, nan_policy='omit')"
      ],
      "execution_count": 54,
      "outputs": [
        {
          "output_type": "execute_result",
          "data": {
            "text/plain": [
              "Ttest_1sampResult(statistic=-12.221176001397852, pvalue=5.647741679565982e-23)"
            ]
          },
          "metadata": {
            "tags": []
          },
          "execution_count": 54
        }
      ]
    },
    {
      "cell_type": "code",
      "metadata": {
        "id": "FxK9bncsqiht",
        "colab_type": "code",
        "colab": {
          "base_uri": "https://localhost:8080/",
          "height": 35
        },
        "outputId": "bf52c22c-8f11-4a09-8fff-5bd5b8c28e6f"
      },
      "source": [
        "ttest_1samp(dem['water_project_cost_sharing'], .6, nan_policy='omit')"
      ],
      "execution_count": 55,
      "outputs": [
        {
          "output_type": "execute_result",
          "data": {
            "text/plain": [
              "Ttest_1sampResult(statistic=-3.306906447437066, pvalue=0.0012369498038130016)"
            ]
          },
          "metadata": {
            "tags": []
          },
          "execution_count": 55
        }
      ]
    },
    {
      "cell_type": "code",
      "metadata": {
        "id": "d8xgh3Fu_o0X",
        "colab_type": "code",
        "colab": {
          "base_uri": "https://localhost:8080/",
          "height": 35
        },
        "outputId": "161f575f-8164-45af-e2b8-2f6effeb9bc8"
      },
      "source": [
        "dem['adoption_of_the_budget_resolution'].mean()"
      ],
      "execution_count": 57,
      "outputs": [
        {
          "output_type": "execute_result",
          "data": {
            "text/plain": [
              "8.960573476702509e+120"
            ]
          },
          "metadata": {
            "tags": []
          },
          "execution_count": 57
        }
      ]
    },
    {
      "cell_type": "code",
      "metadata": {
        "id": "q68xTRvR_58R",
        "colab_type": "code",
        "colab": {}
      },
      "source": [
        "rep = rep.copy()"
      ],
      "execution_count": 0,
      "outputs": []
    },
    {
      "cell_type": "code",
      "metadata": {
        "id": "bJ13khTtAMQF",
        "colab_type": "code",
        "colab": {}
      },
      "source": [
        "rep.dropna(inplace = True)"
      ],
      "execution_count": 0,
      "outputs": []
    },
    {
      "cell_type": "code",
      "metadata": {
        "id": "HpfTAEaL_yko",
        "colab_type": "code",
        "colab": {
          "base_uri": "https://localhost:8080/",
          "height": 35
        },
        "outputId": "111d202b-1052-4e40-aaf1-c469ea379661"
      },
      "source": [
        "rep['adoption_of_the_budget_resolution'].mean()"
      ],
      "execution_count": 64,
      "outputs": [
        {
          "output_type": "execute_result",
          "data": {
            "text/plain": [
              "1.0185185277777778e+89"
            ]
          },
          "metadata": {
            "tags": []
          },
          "execution_count": 64
        }
      ]
    },
    {
      "cell_type": "code",
      "metadata": {
        "id": "eRHEP8pPqicI",
        "colab_type": "code",
        "colab": {
          "base_uri": "https://localhost:8080/",
          "height": 53
        },
        "outputId": "1fe7f8ba-8ac5-4301-c6c2-ebf831b20e9f"
      },
      "source": [
        "print(\"Democrat Support: \", dem['adoption_of_the_budget_resolution'].mean())\n",
        "print(\"Republican Support: \", rep['adoption_of_the_budget_resolution'].mean())"
      ],
      "execution_count": 71,
      "outputs": [
        {
          "output_type": "stream",
          "text": [
            "Democrat Support:  8.960573476702509e+120\n",
            "Republican Support:  1.0185185277777778e+89\n"
          ],
          "name": "stdout"
        }
      ]
    },
    {
      "cell_type": "code",
      "metadata": {
        "id": "bo9xXnZhA790",
        "colab_type": "code",
        "colab": {}
      },
      "source": [
        "from scipy.stats import ttest_ind"
      ],
      "execution_count": 0,
      "outputs": []
    },
    {
      "cell_type": "code",
      "metadata": {
        "id": "GnnUWQyXBI0H",
        "colab_type": "code",
        "colab": {}
      },
      "source": [
        "rep['adoption_of_the_budget_resolution'] = rep['adoption_of_the_budget_resolution'].astype(int)\n",
        "dem['adoption_of_the_budget_resolution'] = dem['adoption_of_the_budget_resolution'].astype(int)"
      ],
      "execution_count": 0,
      "outputs": []
    },
    {
      "cell_type": "code",
      "metadata": {
        "id": "0C3Dz9m6Qk2W",
        "colab_type": "code",
        "colab": {
          "base_uri": "https://localhost:8080/",
          "height": 35
        },
        "outputId": "540bf8dc-6f89-4e30-f6a0-e9fa69f16111"
      },
      "source": [
        "ttest_ind(rep['adoption_of_the_budget_resolution'], dem['adoption_of_the_budget_resolution'], nan_policy='omit')"
      ],
      "execution_count": 76,
      "outputs": [
        {
          "output_type": "execute_result",
          "data": {
            "text/plain": [
              "Ttest_indResult(statistic=-14.742943396634677, pvalue=4.458031105913572e-35)"
            ]
          },
          "metadata": {
            "tags": []
          },
          "execution_count": 76
        }
      ]
    }
  ]
}