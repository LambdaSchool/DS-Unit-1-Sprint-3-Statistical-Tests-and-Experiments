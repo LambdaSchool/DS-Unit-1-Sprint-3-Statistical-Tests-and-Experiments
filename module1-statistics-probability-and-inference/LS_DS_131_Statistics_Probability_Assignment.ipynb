{
  "nbformat": 4,
  "nbformat_minor": 0,
  "metadata": {
    "kernelspec": {
      "display_name": "Python 3",
      "language": "python",
      "name": "python3"
    },
    "language_info": {
      "codemirror_mode": {
        "name": "ipython",
        "version": 3
      },
      "file_extension": ".py",
      "mimetype": "text/x-python",
      "name": "python",
      "nbconvert_exporter": "python",
      "pygments_lexer": "ipython3",
      "version": "3.7.3"
    },
    "colab": {
      "name": "LS_DS_131_Statistics_Probability_Assignment.ipynb",
      "version": "0.3.2",
      "provenance": [],
      "include_colab_link": true
    }
  },
  "cells": [
    {
      "cell_type": "markdown",
      "metadata": {
        "id": "view-in-github",
        "colab_type": "text"
      },
      "source": [
        "<a href=\"https://colab.research.google.com/github/hurshd0/DS-Unit-1-Sprint-3-Statistical-Tests-and-Experiments/blob/master/module1-statistics-probability-and-inference/LS_DS_131_Statistics_Probability_Assignment.ipynb\" target=\"_parent\"><img src=\"https://colab.research.google.com/assets/colab-badge.svg\" alt=\"Open In Colab\"/></a>"
      ]
    },
    {
      "cell_type": "markdown",
      "metadata": {
        "id": "RX-_hZNmlki6",
        "colab_type": "text"
      },
      "source": [
        "<img align=\"left\" src=\"https://lever-client-logos.s3.amazonaws.com/864372b1-534c-480e-acd5-9711f850815c-1524247202159.png\" width=200>\n",
        "<br></br>\n",
        "<br></br>\n",
        "\n",
        "## *Data Science Unit 1 Sprint 3 Assignment 1*\n",
        "\n",
        "# Apply the t-test to real data\n",
        "\n",
        "Your assignment is to determine which issues have \"statistically significant\" differences between political parties in this [1980s congressional voting data](https://archive.ics.uci.edu/ml/datasets/Congressional+Voting+Records). The data consists of 435 instances (one for each congressperson), a class (democrat or republican), and 16 binary attributes (yes or no for voting for or against certain issues). Be aware - there are missing values!\n",
        "\n",
        "Your goals:\n",
        "\n",
        "1. Load and clean the data (or determine the best method to drop observations when running tests)\n",
        "2. Using hypothesis testing, find an issue that democrats support more than republicans with p < 0.01\n",
        "3. Using hypothesis testing, find an issue that republicans support more than democrats with p < 0.01\n",
        "4. Using hypothesis testing, find an issue where the difference between republicans and democrats has p > 0.1 (i.e. there may not be much of a difference)\n",
        "\n",
        "Note that this data will involve *2 sample* t-tests, because you're comparing averages across two groups (republicans and democrats) rather than a single group against a null hypothesis.\n",
        "\n",
        "Stretch goals:\n",
        "\n",
        "1. Refactor your code into functions so it's easy to rerun with arbitrary variables\n",
        "2. Apply hypothesis testing to your personal project data (for the purposes of this notebook you can type a summary of the hypothesis you formed and tested)"
      ]
    },
    {
      "cell_type": "code",
      "metadata": {
        "id": "PoOzBAhplkjE",
        "colab_type": "code",
        "colab": {}
      },
      "source": [
        "#################### BOILER PLATE ###################\n",
        "%matplotlib inline\n",
        "\n",
        "import numpy as np # Linear algebra lib\n",
        "import pandas as pd # Data analysis lib\n",
        "import matplotlib.pyplot as plt # plotting lib\n",
        "import seaborn as sns # matplotlib wrapper plotting lib\n",
        "import random # python random lib\n",
        "\n",
        "# Matplotlib and Seaborn params\n",
        "from matplotlib import rcParams\n",
        "rcParams['figure.figsize'] = 10, 6\n",
        "plt.style.use('fivethirtyeight')\n",
        "\n",
        "# Removes rows and columns truncation of '...'\n",
        "pd.set_option('display.max_rows', 500)\n",
        "pd.set_option('display.max_columns', 500)\n",
        "pd.set_option('display.width', 1000)\n",
        "\n",
        "# Ignore the warnings\n",
        "import warnings\n",
        "warnings.filterwarnings(\"ignore\")\n",
        "\n",
        "# Load stats modules\n",
        "from scipy.stats import ttest_ind, ttest_ind_from_stats, ttest_rel, ttest_1samp"
      ],
      "execution_count": 0,
      "outputs": []
    },
    {
      "cell_type": "markdown",
      "metadata": {
        "id": "RecvZ7qUlkjb",
        "colab_type": "text"
      },
      "source": [
        "### 1. Load and clean the data (or determine the best method to drop observations when running tests)\n"
      ]
    },
    {
      "cell_type": "code",
      "metadata": {
        "id": "S-3sMowplkjl",
        "colab_type": "code",
        "colab": {
          "base_uri": "https://localhost:8080/",
          "height": 224
        },
        "outputId": "0fb5ddbb-09ca-4eb9-dfca-4f98c817cc82"
      },
      "source": [
        "column_names = ['party','handicapped-infants','water-project','budget','physician-fee-freeze','el-salvador-aid','religious-groups','anti-satellite-ban','aid-to-contras','mx-missile','immigration','synfuels','education','right-to-sue','crime','duty-free','south-africa']\n",
        "df = pd.read_csv('https://archive.ics.uci.edu/ml/machine-learning-databases/voting-records/house-votes-84.data', names=column_names, na_values='?', ).replace({\"y\":1, \"n\":0})\n",
        "df.head()"
      ],
      "execution_count": 2,
      "outputs": [
        {
          "output_type": "execute_result",
          "data": {
            "text/html": [
              "<div>\n",
              "<style scoped>\n",
              "    .dataframe tbody tr th:only-of-type {\n",
              "        vertical-align: middle;\n",
              "    }\n",
              "\n",
              "    .dataframe tbody tr th {\n",
              "        vertical-align: top;\n",
              "    }\n",
              "\n",
              "    .dataframe thead th {\n",
              "        text-align: right;\n",
              "    }\n",
              "</style>\n",
              "<table border=\"1\" class=\"dataframe\">\n",
              "  <thead>\n",
              "    <tr style=\"text-align: right;\">\n",
              "      <th></th>\n",
              "      <th>party</th>\n",
              "      <th>handicapped-infants</th>\n",
              "      <th>water-project</th>\n",
              "      <th>budget</th>\n",
              "      <th>physician-fee-freeze</th>\n",
              "      <th>el-salvador-aid</th>\n",
              "      <th>religious-groups</th>\n",
              "      <th>anti-satellite-ban</th>\n",
              "      <th>aid-to-contras</th>\n",
              "      <th>mx-missile</th>\n",
              "      <th>immigration</th>\n",
              "      <th>synfuels</th>\n",
              "      <th>education</th>\n",
              "      <th>right-to-sue</th>\n",
              "      <th>crime</th>\n",
              "      <th>duty-free</th>\n",
              "      <th>south-africa</th>\n",
              "    </tr>\n",
              "  </thead>\n",
              "  <tbody>\n",
              "    <tr>\n",
              "      <th>0</th>\n",
              "      <td>republican</td>\n",
              "      <td>0.0</td>\n",
              "      <td>1.0</td>\n",
              "      <td>0.0</td>\n",
              "      <td>1.0</td>\n",
              "      <td>1.0</td>\n",
              "      <td>1.0</td>\n",
              "      <td>0.0</td>\n",
              "      <td>0.0</td>\n",
              "      <td>0.0</td>\n",
              "      <td>1.0</td>\n",
              "      <td>NaN</td>\n",
              "      <td>1.0</td>\n",
              "      <td>1.0</td>\n",
              "      <td>1.0</td>\n",
              "      <td>0.0</td>\n",
              "      <td>1.0</td>\n",
              "    </tr>\n",
              "    <tr>\n",
              "      <th>1</th>\n",
              "      <td>republican</td>\n",
              "      <td>0.0</td>\n",
              "      <td>1.0</td>\n",
              "      <td>0.0</td>\n",
              "      <td>1.0</td>\n",
              "      <td>1.0</td>\n",
              "      <td>1.0</td>\n",
              "      <td>0.0</td>\n",
              "      <td>0.0</td>\n",
              "      <td>0.0</td>\n",
              "      <td>0.0</td>\n",
              "      <td>0.0</td>\n",
              "      <td>1.0</td>\n",
              "      <td>1.0</td>\n",
              "      <td>1.0</td>\n",
              "      <td>0.0</td>\n",
              "      <td>NaN</td>\n",
              "    </tr>\n",
              "    <tr>\n",
              "      <th>2</th>\n",
              "      <td>democrat</td>\n",
              "      <td>NaN</td>\n",
              "      <td>1.0</td>\n",
              "      <td>1.0</td>\n",
              "      <td>NaN</td>\n",
              "      <td>1.0</td>\n",
              "      <td>1.0</td>\n",
              "      <td>0.0</td>\n",
              "      <td>0.0</td>\n",
              "      <td>0.0</td>\n",
              "      <td>0.0</td>\n",
              "      <td>1.0</td>\n",
              "      <td>0.0</td>\n",
              "      <td>1.0</td>\n",
              "      <td>1.0</td>\n",
              "      <td>0.0</td>\n",
              "      <td>0.0</td>\n",
              "    </tr>\n",
              "    <tr>\n",
              "      <th>3</th>\n",
              "      <td>democrat</td>\n",
              "      <td>0.0</td>\n",
              "      <td>1.0</td>\n",
              "      <td>1.0</td>\n",
              "      <td>0.0</td>\n",
              "      <td>NaN</td>\n",
              "      <td>1.0</td>\n",
              "      <td>0.0</td>\n",
              "      <td>0.0</td>\n",
              "      <td>0.0</td>\n",
              "      <td>0.0</td>\n",
              "      <td>1.0</td>\n",
              "      <td>0.0</td>\n",
              "      <td>1.0</td>\n",
              "      <td>0.0</td>\n",
              "      <td>0.0</td>\n",
              "      <td>1.0</td>\n",
              "    </tr>\n",
              "    <tr>\n",
              "      <th>4</th>\n",
              "      <td>democrat</td>\n",
              "      <td>1.0</td>\n",
              "      <td>1.0</td>\n",
              "      <td>1.0</td>\n",
              "      <td>0.0</td>\n",
              "      <td>1.0</td>\n",
              "      <td>1.0</td>\n",
              "      <td>0.0</td>\n",
              "      <td>0.0</td>\n",
              "      <td>0.0</td>\n",
              "      <td>0.0</td>\n",
              "      <td>1.0</td>\n",
              "      <td>NaN</td>\n",
              "      <td>1.0</td>\n",
              "      <td>1.0</td>\n",
              "      <td>1.0</td>\n",
              "      <td>1.0</td>\n",
              "    </tr>\n",
              "  </tbody>\n",
              "</table>\n",
              "</div>"
            ],
            "text/plain": [
              "        party  handicapped-infants  water-project  budget  physician-fee-freeze  el-salvador-aid  religious-groups  anti-satellite-ban  aid-to-contras  mx-missile  immigration  synfuels  education  right-to-sue  crime  duty-free  south-africa\n",
              "0  republican                  0.0            1.0     0.0                   1.0              1.0               1.0                 0.0             0.0         0.0          1.0       NaN        1.0           1.0    1.0        0.0           1.0\n",
              "1  republican                  0.0            1.0     0.0                   1.0              1.0               1.0                 0.0             0.0         0.0          0.0       0.0        1.0           1.0    1.0        0.0           NaN\n",
              "2    democrat                  NaN            1.0     1.0                   NaN              1.0               1.0                 0.0             0.0         0.0          0.0       1.0        0.0           1.0    1.0        0.0           0.0\n",
              "3    democrat                  0.0            1.0     1.0                   0.0              NaN               1.0                 0.0             0.0         0.0          0.0       1.0        0.0           1.0    0.0        0.0           1.0\n",
              "4    democrat                  1.0            1.0     1.0                   0.0              1.0               1.0                 0.0             0.0         0.0          0.0       1.0        NaN           1.0    1.0        1.0           1.0"
            ]
          },
          "metadata": {
            "tags": []
          },
          "execution_count": 2
        }
      ]
    },
    {
      "cell_type": "code",
      "metadata": {
        "id": "vEfaqNPplkj7",
        "colab_type": "code",
        "colab": {
          "base_uri": "https://localhost:8080/",
          "height": 224
        },
        "outputId": "939c0a4f-535f-4688-8e2e-32bc3702a834"
      },
      "source": [
        "dems = df[df['party'] == 'democrat']\n",
        "dems.head()"
      ],
      "execution_count": 3,
      "outputs": [
        {
          "output_type": "execute_result",
          "data": {
            "text/html": [
              "<div>\n",
              "<style scoped>\n",
              "    .dataframe tbody tr th:only-of-type {\n",
              "        vertical-align: middle;\n",
              "    }\n",
              "\n",
              "    .dataframe tbody tr th {\n",
              "        vertical-align: top;\n",
              "    }\n",
              "\n",
              "    .dataframe thead th {\n",
              "        text-align: right;\n",
              "    }\n",
              "</style>\n",
              "<table border=\"1\" class=\"dataframe\">\n",
              "  <thead>\n",
              "    <tr style=\"text-align: right;\">\n",
              "      <th></th>\n",
              "      <th>party</th>\n",
              "      <th>handicapped-infants</th>\n",
              "      <th>water-project</th>\n",
              "      <th>budget</th>\n",
              "      <th>physician-fee-freeze</th>\n",
              "      <th>el-salvador-aid</th>\n",
              "      <th>religious-groups</th>\n",
              "      <th>anti-satellite-ban</th>\n",
              "      <th>aid-to-contras</th>\n",
              "      <th>mx-missile</th>\n",
              "      <th>immigration</th>\n",
              "      <th>synfuels</th>\n",
              "      <th>education</th>\n",
              "      <th>right-to-sue</th>\n",
              "      <th>crime</th>\n",
              "      <th>duty-free</th>\n",
              "      <th>south-africa</th>\n",
              "    </tr>\n",
              "  </thead>\n",
              "  <tbody>\n",
              "    <tr>\n",
              "      <th>2</th>\n",
              "      <td>democrat</td>\n",
              "      <td>NaN</td>\n",
              "      <td>1.0</td>\n",
              "      <td>1.0</td>\n",
              "      <td>NaN</td>\n",
              "      <td>1.0</td>\n",
              "      <td>1.0</td>\n",
              "      <td>0.0</td>\n",
              "      <td>0.0</td>\n",
              "      <td>0.0</td>\n",
              "      <td>0.0</td>\n",
              "      <td>1.0</td>\n",
              "      <td>0.0</td>\n",
              "      <td>1.0</td>\n",
              "      <td>1.0</td>\n",
              "      <td>0.0</td>\n",
              "      <td>0.0</td>\n",
              "    </tr>\n",
              "    <tr>\n",
              "      <th>3</th>\n",
              "      <td>democrat</td>\n",
              "      <td>0.0</td>\n",
              "      <td>1.0</td>\n",
              "      <td>1.0</td>\n",
              "      <td>0.0</td>\n",
              "      <td>NaN</td>\n",
              "      <td>1.0</td>\n",
              "      <td>0.0</td>\n",
              "      <td>0.0</td>\n",
              "      <td>0.0</td>\n",
              "      <td>0.0</td>\n",
              "      <td>1.0</td>\n",
              "      <td>0.0</td>\n",
              "      <td>1.0</td>\n",
              "      <td>0.0</td>\n",
              "      <td>0.0</td>\n",
              "      <td>1.0</td>\n",
              "    </tr>\n",
              "    <tr>\n",
              "      <th>4</th>\n",
              "      <td>democrat</td>\n",
              "      <td>1.0</td>\n",
              "      <td>1.0</td>\n",
              "      <td>1.0</td>\n",
              "      <td>0.0</td>\n",
              "      <td>1.0</td>\n",
              "      <td>1.0</td>\n",
              "      <td>0.0</td>\n",
              "      <td>0.0</td>\n",
              "      <td>0.0</td>\n",
              "      <td>0.0</td>\n",
              "      <td>1.0</td>\n",
              "      <td>NaN</td>\n",
              "      <td>1.0</td>\n",
              "      <td>1.0</td>\n",
              "      <td>1.0</td>\n",
              "      <td>1.0</td>\n",
              "    </tr>\n",
              "    <tr>\n",
              "      <th>5</th>\n",
              "      <td>democrat</td>\n",
              "      <td>0.0</td>\n",
              "      <td>1.0</td>\n",
              "      <td>1.0</td>\n",
              "      <td>0.0</td>\n",
              "      <td>1.0</td>\n",
              "      <td>1.0</td>\n",
              "      <td>0.0</td>\n",
              "      <td>0.0</td>\n",
              "      <td>0.0</td>\n",
              "      <td>0.0</td>\n",
              "      <td>0.0</td>\n",
              "      <td>0.0</td>\n",
              "      <td>1.0</td>\n",
              "      <td>1.0</td>\n",
              "      <td>1.0</td>\n",
              "      <td>1.0</td>\n",
              "    </tr>\n",
              "    <tr>\n",
              "      <th>6</th>\n",
              "      <td>democrat</td>\n",
              "      <td>0.0</td>\n",
              "      <td>1.0</td>\n",
              "      <td>0.0</td>\n",
              "      <td>1.0</td>\n",
              "      <td>1.0</td>\n",
              "      <td>1.0</td>\n",
              "      <td>0.0</td>\n",
              "      <td>0.0</td>\n",
              "      <td>0.0</td>\n",
              "      <td>0.0</td>\n",
              "      <td>0.0</td>\n",
              "      <td>0.0</td>\n",
              "      <td>NaN</td>\n",
              "      <td>1.0</td>\n",
              "      <td>1.0</td>\n",
              "      <td>1.0</td>\n",
              "    </tr>\n",
              "  </tbody>\n",
              "</table>\n",
              "</div>"
            ],
            "text/plain": [
              "      party  handicapped-infants  water-project  budget  physician-fee-freeze  el-salvador-aid  religious-groups  anti-satellite-ban  aid-to-contras  mx-missile  immigration  synfuels  education  right-to-sue  crime  duty-free  south-africa\n",
              "2  democrat                  NaN            1.0     1.0                   NaN              1.0               1.0                 0.0             0.0         0.0          0.0       1.0        0.0           1.0    1.0        0.0           0.0\n",
              "3  democrat                  0.0            1.0     1.0                   0.0              NaN               1.0                 0.0             0.0         0.0          0.0       1.0        0.0           1.0    0.0        0.0           1.0\n",
              "4  democrat                  1.0            1.0     1.0                   0.0              1.0               1.0                 0.0             0.0         0.0          0.0       1.0        NaN           1.0    1.0        1.0           1.0\n",
              "5  democrat                  0.0            1.0     1.0                   0.0              1.0               1.0                 0.0             0.0         0.0          0.0       0.0        0.0           1.0    1.0        1.0           1.0\n",
              "6  democrat                  0.0            1.0     0.0                   1.0              1.0               1.0                 0.0             0.0         0.0          0.0       0.0        0.0           NaN    1.0        1.0           1.0"
            ]
          },
          "metadata": {
            "tags": []
          },
          "execution_count": 3
        }
      ]
    },
    {
      "cell_type": "code",
      "metadata": {
        "scrolled": true,
        "id": "EvrPmnFPlkkF",
        "colab_type": "code",
        "colab": {
          "base_uri": "https://localhost:8080/",
          "height": 224
        },
        "outputId": "fd654ff0-2284-4500-bd5d-550aa8fcf770"
      },
      "source": [
        "reps = df[df['party'] == 'republican']\n",
        "reps.head()"
      ],
      "execution_count": 4,
      "outputs": [
        {
          "output_type": "execute_result",
          "data": {
            "text/html": [
              "<div>\n",
              "<style scoped>\n",
              "    .dataframe tbody tr th:only-of-type {\n",
              "        vertical-align: middle;\n",
              "    }\n",
              "\n",
              "    .dataframe tbody tr th {\n",
              "        vertical-align: top;\n",
              "    }\n",
              "\n",
              "    .dataframe thead th {\n",
              "        text-align: right;\n",
              "    }\n",
              "</style>\n",
              "<table border=\"1\" class=\"dataframe\">\n",
              "  <thead>\n",
              "    <tr style=\"text-align: right;\">\n",
              "      <th></th>\n",
              "      <th>party</th>\n",
              "      <th>handicapped-infants</th>\n",
              "      <th>water-project</th>\n",
              "      <th>budget</th>\n",
              "      <th>physician-fee-freeze</th>\n",
              "      <th>el-salvador-aid</th>\n",
              "      <th>religious-groups</th>\n",
              "      <th>anti-satellite-ban</th>\n",
              "      <th>aid-to-contras</th>\n",
              "      <th>mx-missile</th>\n",
              "      <th>immigration</th>\n",
              "      <th>synfuels</th>\n",
              "      <th>education</th>\n",
              "      <th>right-to-sue</th>\n",
              "      <th>crime</th>\n",
              "      <th>duty-free</th>\n",
              "      <th>south-africa</th>\n",
              "    </tr>\n",
              "  </thead>\n",
              "  <tbody>\n",
              "    <tr>\n",
              "      <th>0</th>\n",
              "      <td>republican</td>\n",
              "      <td>0.0</td>\n",
              "      <td>1.0</td>\n",
              "      <td>0.0</td>\n",
              "      <td>1.0</td>\n",
              "      <td>1.0</td>\n",
              "      <td>1.0</td>\n",
              "      <td>0.0</td>\n",
              "      <td>0.0</td>\n",
              "      <td>0.0</td>\n",
              "      <td>1.0</td>\n",
              "      <td>NaN</td>\n",
              "      <td>1.0</td>\n",
              "      <td>1.0</td>\n",
              "      <td>1.0</td>\n",
              "      <td>0.0</td>\n",
              "      <td>1.0</td>\n",
              "    </tr>\n",
              "    <tr>\n",
              "      <th>1</th>\n",
              "      <td>republican</td>\n",
              "      <td>0.0</td>\n",
              "      <td>1.0</td>\n",
              "      <td>0.0</td>\n",
              "      <td>1.0</td>\n",
              "      <td>1.0</td>\n",
              "      <td>1.0</td>\n",
              "      <td>0.0</td>\n",
              "      <td>0.0</td>\n",
              "      <td>0.0</td>\n",
              "      <td>0.0</td>\n",
              "      <td>0.0</td>\n",
              "      <td>1.0</td>\n",
              "      <td>1.0</td>\n",
              "      <td>1.0</td>\n",
              "      <td>0.0</td>\n",
              "      <td>NaN</td>\n",
              "    </tr>\n",
              "    <tr>\n",
              "      <th>7</th>\n",
              "      <td>republican</td>\n",
              "      <td>0.0</td>\n",
              "      <td>1.0</td>\n",
              "      <td>0.0</td>\n",
              "      <td>1.0</td>\n",
              "      <td>1.0</td>\n",
              "      <td>1.0</td>\n",
              "      <td>0.0</td>\n",
              "      <td>0.0</td>\n",
              "      <td>0.0</td>\n",
              "      <td>0.0</td>\n",
              "      <td>0.0</td>\n",
              "      <td>0.0</td>\n",
              "      <td>1.0</td>\n",
              "      <td>1.0</td>\n",
              "      <td>NaN</td>\n",
              "      <td>1.0</td>\n",
              "    </tr>\n",
              "    <tr>\n",
              "      <th>8</th>\n",
              "      <td>republican</td>\n",
              "      <td>0.0</td>\n",
              "      <td>1.0</td>\n",
              "      <td>0.0</td>\n",
              "      <td>1.0</td>\n",
              "      <td>1.0</td>\n",
              "      <td>1.0</td>\n",
              "      <td>0.0</td>\n",
              "      <td>0.0</td>\n",
              "      <td>0.0</td>\n",
              "      <td>0.0</td>\n",
              "      <td>0.0</td>\n",
              "      <td>1.0</td>\n",
              "      <td>1.0</td>\n",
              "      <td>1.0</td>\n",
              "      <td>0.0</td>\n",
              "      <td>1.0</td>\n",
              "    </tr>\n",
              "    <tr>\n",
              "      <th>10</th>\n",
              "      <td>republican</td>\n",
              "      <td>0.0</td>\n",
              "      <td>1.0</td>\n",
              "      <td>0.0</td>\n",
              "      <td>1.0</td>\n",
              "      <td>1.0</td>\n",
              "      <td>0.0</td>\n",
              "      <td>0.0</td>\n",
              "      <td>0.0</td>\n",
              "      <td>0.0</td>\n",
              "      <td>0.0</td>\n",
              "      <td>NaN</td>\n",
              "      <td>NaN</td>\n",
              "      <td>1.0</td>\n",
              "      <td>1.0</td>\n",
              "      <td>0.0</td>\n",
              "      <td>0.0</td>\n",
              "    </tr>\n",
              "  </tbody>\n",
              "</table>\n",
              "</div>"
            ],
            "text/plain": [
              "         party  handicapped-infants  water-project  budget  physician-fee-freeze  el-salvador-aid  religious-groups  anti-satellite-ban  aid-to-contras  mx-missile  immigration  synfuels  education  right-to-sue  crime  duty-free  south-africa\n",
              "0   republican                  0.0            1.0     0.0                   1.0              1.0               1.0                 0.0             0.0         0.0          1.0       NaN        1.0           1.0    1.0        0.0           1.0\n",
              "1   republican                  0.0            1.0     0.0                   1.0              1.0               1.0                 0.0             0.0         0.0          0.0       0.0        1.0           1.0    1.0        0.0           NaN\n",
              "7   republican                  0.0            1.0     0.0                   1.0              1.0               1.0                 0.0             0.0         0.0          0.0       0.0        0.0           1.0    1.0        NaN           1.0\n",
              "8   republican                  0.0            1.0     0.0                   1.0              1.0               1.0                 0.0             0.0         0.0          0.0       0.0        1.0           1.0    1.0        0.0           1.0\n",
              "10  republican                  0.0            1.0     0.0                   1.0              1.0               0.0                 0.0             0.0         0.0          0.0       NaN        NaN           1.0    1.0        0.0           0.0"
            ]
          },
          "metadata": {
            "tags": []
          },
          "execution_count": 4
        }
      ]
    },
    {
      "cell_type": "markdown",
      "metadata": {
        "id": "RJJaVtuHlkkN",
        "colab_type": "text"
      },
      "source": [
        "# 1-sample t-test example\n",
        "\n",
        "In a 1-sample T-test we are testing the mean of one sample against a **null hypothesis of our choosing**.\n",
        "\n",
        "The null hypothesis that we designate depends on how we have encoded our data and the kind of questions that we want to test. \n",
        "\n",
        "If I have encoded votes as 0 for no and 1 for yes, I want to test Democratic support for an issue, and I use a null hypothesis of 0, then I am comparing Democrat voting support against a null hypothesis of no Democrat support at all for a given issue.\n",
        "\n",
        "If I use a null hypothesis of .5 then I am comparing the democrat voting support against a null hypothesis of democrats being neither in favor or against a particular issue. \n",
        "\n",
        "\n",
        "If I use a null hypothesis of 1 then I am comparing the democrat voting support against a null hypothesis of all democrats being favor of a particular issue.\n",
        "\n",
        "Lets use the 0 and .5 null-hypotheses to test the significance of those particular claims. They're all valid questions to be asking, they're just posing a slightly different question --testing something different.\n",
        "\n",
        "![](https://i.imgur.com/sRhrGQ6.png)"
      ]
    },
    {
      "cell_type": "code",
      "metadata": {
        "id": "r0QdPALUlkkP",
        "colab_type": "code",
        "colab": {
          "base_uri": "https://localhost:8080/",
          "height": 90
        },
        "outputId": "5c12118f-cc44-40f2-b6f4-80214b9a089a"
      },
      "source": [
        "dems['handicapped-infants'].value_counts(dropna=False)"
      ],
      "execution_count": 5,
      "outputs": [
        {
          "output_type": "execute_result",
          "data": {
            "text/plain": [
              "1.0    156\n",
              "0.0    102\n",
              "NaN      9\n",
              "Name: handicapped-infants, dtype: int64"
            ]
          },
          "metadata": {
            "tags": []
          },
          "execution_count": 5
        }
      ]
    },
    {
      "cell_type": "code",
      "metadata": {
        "id": "7WJhJdI-mzXw",
        "colab_type": "code",
        "colab": {
          "base_uri": "https://localhost:8080/",
          "height": 35
        },
        "outputId": "ed0319ed-c537-4b3c-82bb-e67745741e9d"
      },
      "source": [
        "dems['handicapped-infants'].mean()"
      ],
      "execution_count": 6,
      "outputs": [
        {
          "output_type": "execute_result",
          "data": {
            "text/plain": [
              "0.6046511627906976"
            ]
          },
          "metadata": {
            "tags": []
          },
          "execution_count": 6
        }
      ]
    },
    {
      "cell_type": "code",
      "metadata": {
        "id": "cImx9narmzQt",
        "colab_type": "code",
        "colab": {
          "base_uri": "https://localhost:8080/",
          "height": 35
        },
        "outputId": "4efdc761-5eff-4bc1-be43-763afc745431"
      },
      "source": [
        "ttest_1samp(dems['handicapped-infants'], .5, nan_policy='omit')"
      ],
      "execution_count": 7,
      "outputs": [
        {
          "output_type": "execute_result",
          "data": {
            "text/plain": [
              "Ttest_1sampResult(statistic=3.431373087696574, pvalue=0.000699612317167372)"
            ]
          },
          "metadata": {
            "tags": []
          },
          "execution_count": 7
        }
      ]
    },
    {
      "cell_type": "code",
      "metadata": {
        "id": "AUdtKe-amzNI",
        "colab_type": "code",
        "colab": {
          "base_uri": "https://localhost:8080/",
          "height": 35
        },
        "outputId": "b8a44a4f-93bb-4f84-e9de-6a74349c2f7e"
      },
      "source": [
        "ttest_1samp(dems['handicapped-infants'], 0, nan_policy='omit')"
      ],
      "execution_count": 8,
      "outputs": [
        {
          "output_type": "execute_result",
          "data": {
            "text/plain": [
              "Ttest_1sampResult(statistic=19.825711173357988, pvalue=1.0391992873567661e-53)"
            ]
          },
          "metadata": {
            "tags": []
          },
          "execution_count": 8
        }
      ]
    },
    {
      "cell_type": "code",
      "metadata": {
        "id": "zKeEyz8Mn9sw",
        "colab_type": "code",
        "colab": {
          "base_uri": "https://localhost:8080/",
          "height": 35
        },
        "outputId": "4e2c5c46-3baa-4c81-eafa-d212d2fa08a5"
      },
      "source": [
        "ttest_1samp(dems['handicapped-infants'], 1, nan_policy='omit')"
      ],
      "execution_count": 9,
      "outputs": [
        {
          "output_type": "execute_result",
          "data": {
            "text/plain": [
              "Ttest_1sampResult(statistic=-12.96296499796484, pvalue=6.590394568934029e-30)"
            ]
          },
          "metadata": {
            "tags": []
          },
          "execution_count": 9
        }
      ]
    },
    {
      "cell_type": "code",
      "metadata": {
        "id": "KCdn3P5mn9bq",
        "colab_type": "code",
        "colab": {
          "base_uri": "https://localhost:8080/",
          "height": 35
        },
        "outputId": "b48b5df8-430d-4b94-a5c2-91f625c594c8"
      },
      "source": [
        "ttest_1samp(dems['handicapped-infants'], .6, nan_policy='omit')"
      ],
      "execution_count": 10,
      "outputs": [
        {
          "output_type": "execute_result",
          "data": {
            "text/plain": [
              "Ttest_1sampResult(statistic=0.15250547056429176, pvalue=0.8789079366662332)"
            ]
          },
          "metadata": {
            "tags": []
          },
          "execution_count": 10
        }
      ]
    },
    {
      "cell_type": "code",
      "metadata": {
        "id": "WnO9X9h4orC4",
        "colab_type": "code",
        "colab": {
          "base_uri": "https://localhost:8080/",
          "height": 35
        },
        "outputId": "e7fc51ca-9bb9-4edc-e872-55f6f98a5cb8"
      },
      "source": [
        "ttest_1samp(dems['handicapped-infants'], .6046511627906976, nan_policy='omit')"
      ],
      "execution_count": 11,
      "outputs": [
        {
          "output_type": "execute_result",
          "data": {
            "text/plain": [
              "Ttest_1sampResult(statistic=0.0, pvalue=1.0)"
            ]
          },
          "metadata": {
            "tags": []
          },
          "execution_count": 11
        }
      ]
    },
    {
      "cell_type": "markdown",
      "metadata": {
        "id": "Bh_TZvvilkkU",
        "colab_type": "text"
      },
      "source": [
        "# 2-sample t-test (for means) example\n",
        "\n",
        "![](https://i.imgur.com/x1WQr9h.png)\n",
        "\n",
        "![](https://i.imgur.com/rrfsigE.png)\n",
        "\n",
        "Null Hypothesis: There's no difference, no parties voted the same"
      ]
    },
    {
      "cell_type": "code",
      "metadata": {
        "id": "4EXStfeelkkW",
        "colab_type": "code",
        "colab": {
          "base_uri": "https://localhost:8080/",
          "height": 54
        },
        "outputId": "624aa09d-3e32-46d7-8aeb-e8efba62248d"
      },
      "source": [
        "print(\"Democrat Support: \", dems['south-africa'].mean())\n",
        "print(\"Republican Support: \", reps['south-africa'].mean())"
      ],
      "execution_count": 12,
      "outputs": [
        {
          "output_type": "stream",
          "text": [
            "Democrat Support:  0.9351351351351351\n",
            "Republican Support:  0.6575342465753424\n"
          ],
          "name": "stdout"
        }
      ]
    },
    {
      "cell_type": "markdown",
      "metadata": {
        "id": "GMcszoXFlkkc",
        "colab_type": "text"
      },
      "source": [
        "- Null Hypothesis: The mean of democrats support == The mean of republicans support. (Theses two parties support this bill at the same rate) $H_0: \\mu_1 = \\mu_2$\n",
        "\n",
        "- Alternative Hypothesis: The means are different (not the same level of support) $H_1: \\mu_1 \\neq \\mu_2$\n",
        "\n",
        "  Given the results of the above test, I would REJECT the null hypotheis that there is the same level of support for this bill among democrats and republicans."
      ]
    },
    {
      "cell_type": "markdown",
      "metadata": {
        "id": "X6IDY66_lkkd",
        "colab_type": "text"
      },
      "source": [
        "### 2. Using hypothesis testing, find an issue that democrats support more than republicans with p < 0.01\n"
      ]
    },
    {
      "cell_type": "markdown",
      "metadata": {
        "id": "psOZrn2g79wb",
        "colab_type": "text"
      },
      "source": [
        "### Before:\n",
        "\n",
        "- Null Hypothesis: \n",
        "   > There is no difference between their support, $H_0: \\mu_1 = \\mu_2$\n",
        "\n",
        "- Alternate Hypothesis: \n",
        "   > Democrats support more than republicans,  $H_1: \\mu_1 > \\mu_2$"
      ]
    },
    {
      "cell_type": "code",
      "metadata": {
        "id": "ZemxeS4R8mkh",
        "colab_type": "code",
        "colab": {
          "base_uri": "https://localhost:8080/",
          "height": 90
        },
        "outputId": "a8beffab-cace-45e2-fbba-38391306848b"
      },
      "source": [
        "dems['anti-satellite-ban'].value_counts(dropna=False)"
      ],
      "execution_count": 13,
      "outputs": [
        {
          "output_type": "execute_result",
          "data": {
            "text/plain": [
              "1.0    200\n",
              "0.0     59\n",
              "NaN      8\n",
              "Name: anti-satellite-ban, dtype: int64"
            ]
          },
          "metadata": {
            "tags": []
          },
          "execution_count": 13
        }
      ]
    },
    {
      "cell_type": "code",
      "metadata": {
        "id": "Qhzh05nH82mI",
        "colab_type": "code",
        "colab": {
          "base_uri": "https://localhost:8080/",
          "height": 35
        },
        "outputId": "156a3f9a-53a0-47aa-c30c-9c31ddeca833"
      },
      "source": [
        "dems['anti-satellite-ban'].mean()"
      ],
      "execution_count": 14,
      "outputs": [
        {
          "output_type": "execute_result",
          "data": {
            "text/plain": [
              "0.7722007722007722"
            ]
          },
          "metadata": {
            "tags": []
          },
          "execution_count": 14
        }
      ]
    },
    {
      "cell_type": "code",
      "metadata": {
        "id": "5E6Ax1Px8ubu",
        "colab_type": "code",
        "colab": {
          "base_uri": "https://localhost:8080/",
          "height": 90
        },
        "outputId": "b3993e80-dcd1-4f47-b7a0-58aebc4fa2a8"
      },
      "source": [
        "reps['anti-satellite-ban'].value_counts(dropna=False)"
      ],
      "execution_count": 15,
      "outputs": [
        {
          "output_type": "execute_result",
          "data": {
            "text/plain": [
              "0.0    123\n",
              "1.0     39\n",
              "NaN      6\n",
              "Name: anti-satellite-ban, dtype: int64"
            ]
          },
          "metadata": {
            "tags": []
          },
          "execution_count": 15
        }
      ]
    },
    {
      "cell_type": "code",
      "metadata": {
        "id": "DL5Dk9N28zbO",
        "colab_type": "code",
        "colab": {
          "base_uri": "https://localhost:8080/",
          "height": 35
        },
        "outputId": "334e22a6-2a72-402f-f841-fd91fc0daa05"
      },
      "source": [
        "reps['anti-satellite-ban'].mean()"
      ],
      "execution_count": 16,
      "outputs": [
        {
          "output_type": "execute_result",
          "data": {
            "text/plain": [
              "0.24074074074074073"
            ]
          },
          "metadata": {
            "tags": []
          },
          "execution_count": 16
        }
      ]
    },
    {
      "cell_type": "markdown",
      "metadata": {
        "id": "ejhdCytzBxmx",
        "colab_type": "text"
      },
      "source": [
        "### After:"
      ]
    },
    {
      "cell_type": "code",
      "metadata": {
        "id": "NIgOWM2clkke",
        "colab_type": "code",
        "colab": {
          "base_uri": "https://localhost:8080/",
          "height": 35
        },
        "outputId": "a1cfa838-3598-433d-cf02-033a706886af"
      },
      "source": [
        "ttest_ind(dems['anti-satellite-ban'], reps['anti-satellite-ban'], nan_policy='omit')"
      ],
      "execution_count": 17,
      "outputs": [
        {
          "output_type": "execute_result",
          "data": {
            "text/plain": [
              "Ttest_indResult(statistic=12.526187929077842, pvalue=8.521033017443867e-31)"
            ]
          },
          "metadata": {
            "tags": []
          },
          "execution_count": 17
        }
      ]
    },
    {
      "cell_type": "code",
      "metadata": {
        "id": "F4fDgpqQ-rL1",
        "colab_type": "code",
        "colab": {}
      },
      "source": [
        "def t_test_results(df_x, df_y, alternative='two-sided', usevar='pooled'):\n",
        "    from statsmodels.stats.weightstats import ttest_ind\n",
        "    test_statistic, p_value, degrees_of_freedom = ttest_ind(\n",
        "    df_x.dropna(), df_y.dropna(), alternative=alternative, usevar=usevar)\n",
        "    print('''\n",
        "    =============  T-test ============\n",
        "    degrees of freedom: {:.4f}\n",
        "    p-value           : {:.4f}\n",
        "    test statistic    : {:.4f}\n",
        "    ==================================\n",
        "    '''.format(degrees_of_freedom, p_value, test_statistic))"
      ],
      "execution_count": 0,
      "outputs": []
    },
    {
      "cell_type": "code",
      "metadata": {
        "id": "9MZripunBEPa",
        "colab_type": "code",
        "colab": {
          "base_uri": "https://localhost:8080/",
          "height": 146
        },
        "outputId": "664dcb31-ab5f-46fb-acf9-c3221cad2f2e"
      },
      "source": [
        "t_test_results(dems['anti-satellite-ban'], reps['anti-satellite-ban'])"
      ],
      "execution_count": 19,
      "outputs": [
        {
          "output_type": "stream",
          "text": [
            "\n",
            "    =============  T-test ============\n",
            "    degrees of freedom: 419.0000\n",
            "    p-value           : 0.0000\n",
            "    test statistic    : 12.5262\n",
            "    ==================================\n",
            "    \n"
          ],
          "name": "stdout"
        }
      ]
    },
    {
      "cell_type": "markdown",
      "metadata": {
        "id": "W5foQaT6Bz9p",
        "colab_type": "text"
      },
      "source": [
        "### Interpretation:\n",
        "\n",
        "Given the results of the above test (p < 0.01, and t = 12.5262), I would REJECT the null hypotheis that there is the same level of support for this bill among democrats and republicans, and suggest the alternate hypothesis that democrats support more than republican.\n",
        "\n",
        "Succint way to say, \"The evidence against $H_0$ is significant at the given significance level of $\\alpha = 0.05$\"."
      ]
    },
    {
      "cell_type": "markdown",
      "metadata": {
        "id": "yykN2uiflkko",
        "colab_type": "text"
      },
      "source": [
        "### 3. Using hypothesis testing, find an issue that republicans support more than democrats with p < 0.01\n"
      ]
    },
    {
      "cell_type": "markdown",
      "metadata": {
        "id": "-TLCkX6ADBcC",
        "colab_type": "text"
      },
      "source": [
        "### Before:\n",
        "\n",
        "- Null Hypothesis: \n",
        "   > There is no difference between their support, $H_0: \\mu_1 = \\mu_2$\n",
        "\n",
        "- Alternate Hypothesis: \n",
        "   > Republicans support more than democrats,  or democrats support less than republicans, $H_1: \\mu_1 < \\mu_2$"
      ]
    },
    {
      "cell_type": "code",
      "metadata": {
        "id": "kMXyuQsvlkkq",
        "colab_type": "code",
        "colab": {
          "base_uri": "https://localhost:8080/",
          "height": 90
        },
        "outputId": "0b683de2-4f31-444e-ddbe-11b7e45e5c82"
      },
      "source": [
        "dems['crime'].value_counts(dropna=False)"
      ],
      "execution_count": 20,
      "outputs": [
        {
          "output_type": "execute_result",
          "data": {
            "text/plain": [
              "0.0    167\n",
              "1.0     90\n",
              "NaN     10\n",
              "Name: crime, dtype: int64"
            ]
          },
          "metadata": {
            "tags": []
          },
          "execution_count": 20
        }
      ]
    },
    {
      "cell_type": "code",
      "metadata": {
        "id": "6ICip0XlDg9q",
        "colab_type": "code",
        "colab": {
          "base_uri": "https://localhost:8080/",
          "height": 35
        },
        "outputId": "f5ead926-434a-4f99-a781-622c76f11661"
      },
      "source": [
        "dems['crime'].mean()"
      ],
      "execution_count": 21,
      "outputs": [
        {
          "output_type": "execute_result",
          "data": {
            "text/plain": [
              "0.35019455252918286"
            ]
          },
          "metadata": {
            "tags": []
          },
          "execution_count": 21
        }
      ]
    },
    {
      "cell_type": "code",
      "metadata": {
        "id": "BcTQEz8TDUEl",
        "colab_type": "code",
        "colab": {
          "base_uri": "https://localhost:8080/",
          "height": 90
        },
        "outputId": "b8bd74ff-4959-4bd0-9088-69a1bd3a19c1"
      },
      "source": [
        "reps['crime'].value_counts(dropna=False)"
      ],
      "execution_count": 22,
      "outputs": [
        {
          "output_type": "execute_result",
          "data": {
            "text/plain": [
              "1.0    158\n",
              "NaN      7\n",
              "0.0      3\n",
              "Name: crime, dtype: int64"
            ]
          },
          "metadata": {
            "tags": []
          },
          "execution_count": 22
        }
      ]
    },
    {
      "cell_type": "code",
      "metadata": {
        "id": "Cg3UMHppDltr",
        "colab_type": "code",
        "colab": {
          "base_uri": "https://localhost:8080/",
          "height": 35
        },
        "outputId": "3293e61c-d25d-4500-fe60-1a3931fad43f"
      },
      "source": [
        "reps['crime'].mean()"
      ],
      "execution_count": 23,
      "outputs": [
        {
          "output_type": "execute_result",
          "data": {
            "text/plain": [
              "0.9813664596273292"
            ]
          },
          "metadata": {
            "tags": []
          },
          "execution_count": 23
        }
      ]
    },
    {
      "cell_type": "markdown",
      "metadata": {
        "id": "7N4ug5ydD3jE",
        "colab_type": "text"
      },
      "source": [
        "### After:"
      ]
    },
    {
      "cell_type": "code",
      "metadata": {
        "id": "BSHw2AfGD86o",
        "colab_type": "code",
        "colab": {
          "base_uri": "https://localhost:8080/",
          "height": 35
        },
        "outputId": "f5f68efb-8f74-48b1-ca5b-cfa821cd3a73"
      },
      "source": [
        "ttest_ind(dems['crime'], reps['crime'], nan_policy='omit')"
      ],
      "execution_count": 24,
      "outputs": [
        {
          "output_type": "execute_result",
          "data": {
            "text/plain": [
              "Ttest_indResult(statistic=-16.342085656197696, pvalue=9.952342705606092e-47)"
            ]
          },
          "metadata": {
            "tags": []
          },
          "execution_count": 24
        }
      ]
    },
    {
      "cell_type": "code",
      "metadata": {
        "id": "R07l1_yZD8Ra",
        "colab_type": "code",
        "colab": {
          "base_uri": "https://localhost:8080/",
          "height": 146
        },
        "outputId": "13b603ea-1a5c-43fa-f021-7bf4be2ac3e8"
      },
      "source": [
        "t_test_results(dems['crime'], reps['crime'])"
      ],
      "execution_count": 25,
      "outputs": [
        {
          "output_type": "stream",
          "text": [
            "\n",
            "    =============  T-test ============\n",
            "    degrees of freedom: 416.0000\n",
            "    p-value           : 0.0000\n",
            "    test statistic    : -16.3421\n",
            "    ==================================\n",
            "    \n"
          ],
          "name": "stdout"
        }
      ]
    },
    {
      "cell_type": "markdown",
      "metadata": {
        "id": "SuOPfzLvE1RW",
        "colab_type": "text"
      },
      "source": [
        "### Interpretation:\n",
        "\n",
        "Given the results of the above test (p < 0.01, and t = -16.3421), I would REJECT the null hypotheis that there is the same level of support for this bill among democrats and republicans, and suggest the alternate hypothesis that democrats support less  than republican."
      ]
    },
    {
      "cell_type": "markdown",
      "metadata": {
        "id": "d5_TJrdZlkkv",
        "colab_type": "text"
      },
      "source": [
        "### 4. Using hypothesis testing, find an issue where the difference between republicans and democrats has p > 0.1 (i.e. there may not be much of a difference)"
      ]
    },
    {
      "cell_type": "markdown",
      "metadata": {
        "id": "-Zrecv6aFFBz",
        "colab_type": "text"
      },
      "source": [
        "### Before:\n",
        "\n",
        "- Null Hypothesis: \n",
        "   > There is no difference between their support, $H_0: \\mu_1 = \\mu_2$\n",
        "\n",
        "- Alternate Hypothesis: \n",
        "   > The means are different (not the same level of support) $H_1: \\mu_1 \\neq \\mu_2$"
      ]
    },
    {
      "cell_type": "code",
      "metadata": {
        "id": "SCTrM-znFs2Z",
        "colab_type": "code",
        "colab": {
          "base_uri": "https://localhost:8080/",
          "height": 90
        },
        "outputId": "75d9aede-c297-48b2-bb5f-2ffbfe8e2197"
      },
      "source": [
        "dems['water-project'].value_counts(dropna=False)"
      ],
      "execution_count": 35,
      "outputs": [
        {
          "output_type": "execute_result",
          "data": {
            "text/plain": [
              "1.0    120\n",
              "0.0    119\n",
              "NaN     28\n",
              "Name: water-project, dtype: int64"
            ]
          },
          "metadata": {
            "tags": []
          },
          "execution_count": 35
        }
      ]
    },
    {
      "cell_type": "code",
      "metadata": {
        "id": "x-XF42UZHtU3",
        "colab_type": "code",
        "colab": {
          "base_uri": "https://localhost:8080/",
          "height": 90
        },
        "outputId": "a3003dba-c578-41b4-d304-1a16e40d3646"
      },
      "source": [
        "reps['water-project'].value_counts(dropna=False)"
      ],
      "execution_count": 36,
      "outputs": [
        {
          "output_type": "execute_result",
          "data": {
            "text/plain": [
              "1.0    75\n",
              "0.0    73\n",
              "NaN    20\n",
              "Name: water-project, dtype: int64"
            ]
          },
          "metadata": {
            "tags": []
          },
          "execution_count": 36
        }
      ]
    },
    {
      "cell_type": "code",
      "metadata": {
        "id": "u7H3PMm8HxQG",
        "colab_type": "code",
        "colab": {
          "base_uri": "https://localhost:8080/",
          "height": 35
        },
        "outputId": "43be097f-319c-4173-989e-998ba092d293"
      },
      "source": [
        "dems['water-project'].mean()"
      ],
      "execution_count": 37,
      "outputs": [
        {
          "output_type": "execute_result",
          "data": {
            "text/plain": [
              "0.502092050209205"
            ]
          },
          "metadata": {
            "tags": []
          },
          "execution_count": 37
        }
      ]
    },
    {
      "cell_type": "code",
      "metadata": {
        "id": "4UILIc9oH2DE",
        "colab_type": "code",
        "colab": {
          "base_uri": "https://localhost:8080/",
          "height": 35
        },
        "outputId": "97b8bca4-7d9c-494a-8a1d-37c779bdab03"
      },
      "source": [
        "reps['water-project'].mean()"
      ],
      "execution_count": 38,
      "outputs": [
        {
          "output_type": "execute_result",
          "data": {
            "text/plain": [
              "0.5067567567567568"
            ]
          },
          "metadata": {
            "tags": []
          },
          "execution_count": 38
        }
      ]
    },
    {
      "cell_type": "markdown",
      "metadata": {
        "id": "Qcq2xZsvH4lA",
        "colab_type": "text"
      },
      "source": [
        "### After:"
      ]
    },
    {
      "cell_type": "code",
      "metadata": {
        "id": "ZMyZLeG1lkkx",
        "colab_type": "code",
        "colab": {
          "base_uri": "https://localhost:8080/",
          "height": 35
        },
        "outputId": "e7ff8d5c-3efb-43bb-e5ec-2b2e69d14d5d"
      },
      "source": [
        "ttest_ind(dems['water-project'], reps['water-project'], nan_policy='omit')"
      ],
      "execution_count": 34,
      "outputs": [
        {
          "output_type": "execute_result",
          "data": {
            "text/plain": [
              "Ttest_indResult(statistic=-0.08896538137868286, pvalue=0.9291556823993485)"
            ]
          },
          "metadata": {
            "tags": []
          },
          "execution_count": 34
        }
      ]
    },
    {
      "cell_type": "code",
      "metadata": {
        "id": "3jjhbTWyH7uK",
        "colab_type": "code",
        "colab": {
          "base_uri": "https://localhost:8080/",
          "height": 146
        },
        "outputId": "690fc03f-f67a-4e95-f9e1-d21668613e30"
      },
      "source": [
        "t_test_results(dems['water-project'], dems['water-project'])"
      ],
      "execution_count": 39,
      "outputs": [
        {
          "output_type": "stream",
          "text": [
            "\n",
            "    =============  T-test ============\n",
            "    degrees of freedom: 476.0000\n",
            "    p-value           : 1.0000\n",
            "    test statistic    : 0.0000\n",
            "    ==================================\n",
            "    \n"
          ],
          "name": "stdout"
        }
      ]
    },
    {
      "cell_type": "markdown",
      "metadata": {
        "id": "gn0bMZTTFP6Y",
        "colab_type": "text"
      },
      "source": [
        "### Interpretation:\n",
        "\n",
        "Given the results of the above test (p > 0.1, and t =), I FAIL TO REJECT the null hypotheis, that there is indeed the same level of support for this bill among democrats and republicans."
      ]
    }
  ]
}