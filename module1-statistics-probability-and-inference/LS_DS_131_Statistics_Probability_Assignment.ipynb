{
  "nbformat": 4,
  "nbformat_minor": 0,
  "metadata": {
    "colab": {
      "name": "LS_DS_131_Statistics_Probability_Assignment.ipynb",
      "version": "0.3.2",
      "provenance": [],
      "include_colab_link": true
    },
    "language_info": {
      "codemirror_mode": {
        "name": "ipython",
        "version": 3
      },
      "file_extension": ".py",
      "mimetype": "text/x-python",
      "name": "python",
      "nbconvert_exporter": "python",
      "pygments_lexer": "ipython3",
      "version": "3.7.3"
    },
    "kernelspec": {
      "display_name": "Python 3",
      "language": "python",
      "name": "python3"
    }
  },
  "cells": [
    {
      "cell_type": "markdown",
      "metadata": {
        "id": "view-in-github",
        "colab_type": "text"
      },
      "source": [
        "<a href=\"https://colab.research.google.com/github/leehanchung/DS-Unit-1-Sprint-3-Statistical-Tests-and-Experiments/blob/master/module1-statistics-probability-and-inference/LS_DS_131_Statistics_Probability_Assignment.ipynb\" target=\"_parent\"><img src=\"https://colab.research.google.com/assets/colab-badge.svg\" alt=\"Open In Colab\"/></a>"
      ]
    },
    {
      "cell_type": "markdown",
      "metadata": {
        "id": "TvyUtsFTRpS_",
        "colab_type": "text"
      },
      "source": [
        "<img align=\"left\" src=\"https://lever-client-logos.s3.amazonaws.com/864372b1-534c-480e-acd5-9711f850815c-1524247202159.png\" width=200>\n",
        "<br></br>\n",
        "<br></br>\n",
        "\n",
        "## *Data Science Unit 1 Sprint 3 Assignment 1*\n",
        "\n",
        "# Apply the t-test to real data\n",
        "\n",
        "Your assignment is to determine which issues have \"statistically significant\" differences between political parties in this [1980s congressional voting data](https://archive.ics.uci.edu/ml/datasets/Congressional+Voting+Records). The data consists of 435 instances (one for each congressperson), a class (democrat or republican), and 16 binary attributes (yes or no for voting for or against certain issues). Be aware - there are missing values!\n",
        "\n",
        "Your goals:\n",
        "\n",
        "1. Load and clean the data (or determine the best method to drop observations when running tests)\n",
        "2. Using hypothesis testing, find an issue that democrats support more than republicans with p < 0.01\n",
        "3. Using hypothesis testing, find an issue that republicans support more than democrats with p < 0.01\n",
        "4. Using hypothesis testing, find an issue where the difference between republicans and democrats has p > 0.1 (i.e. there may not be much of a difference)\n",
        "\n",
        "Note that this data will involve *2 sample* t-tests, because you're comparing averages across two groups (republicans and democrats) rather than a single group against a null hypothesis.\n",
        "\n",
        "Stretch goals:\n",
        "\n",
        "1. Refactor your code into functions so it's easy to rerun with arbitrary variables\n",
        "2. Apply hypothesis testing to your personal project data (for the purposes of this notebook you can type a summary of the hypothesis you formed and tested)"
      ]
    },
    {
      "cell_type": "code",
      "metadata": {
        "id": "F5GUb55FRpTM",
        "colab_type": "code",
        "colab": {}
      },
      "source": [
        "### YOUR CODE STARTS HERE\n",
        "import pandas as pd\n",
        "import numpy as np"
      ],
      "execution_count": 0,
      "outputs": []
    },
    {
      "cell_type": "code",
      "metadata": {
        "id": "JA1QM_jcaQvI",
        "colab_type": "code",
        "colab": {}
      },
      "source": [
        "url = \"https://archive.ics.uci.edu/ml/machine-learning-databases/voting-records/house-votes-84.data\"\n",
        "column_names = ['Class Name', \n",
        "                'handicapped-infants', \n",
        "                'water-project-cost-sharing', \n",
        "                'adoption-of-the-budget-resolution',\n",
        "                \"physician-fee-freeze\",\n",
        "                \"el-salvador-aid\",\n",
        "                'religious-groups-in-schools',\n",
        "                'anti-satellite-test-ban',\n",
        "                'aid-to-nicaraguan-contras',\n",
        "                'mx-missile',\n",
        "                'immigration',\n",
        "                'synfuels-corporation-cutback',\n",
        "                'education-spending',\n",
        "                'superfund-right-to-sue',\n",
        "                'crime',\n",
        "                'duty-free-exports',\n",
        "                'export-administration-act-south-africa']\n",
        "pd.set_option('display.max_columns', 17)"
      ],
      "execution_count": 0,
      "outputs": []
    },
    {
      "cell_type": "code",
      "metadata": {
        "id": "aIoK_awGadc_",
        "colab_type": "code",
        "colab": {}
      },
      "source": [
        "df = pd.read_csv(url, header=None, names=column_names)"
      ],
      "execution_count": 0,
      "outputs": []
    },
    {
      "cell_type": "code",
      "metadata": {
        "id": "8RXcphydahgD",
        "colab_type": "code",
        "outputId": "68d4c5fb-f4eb-4f28-d4f4-c563c19f0fc8",
        "colab": {
          "base_uri": "https://localhost:8080/",
          "height": 1671
        }
      },
      "source": [
        "print(df.head())\n",
        "print(df.describe())\n",
        "df.isnull().any()"
      ],
      "execution_count": 4,
      "outputs": [
        {
          "output_type": "stream",
          "text": [
            "   Class Name handicapped-infants water-project-cost-sharing  \\\n",
            "0  republican                   n                          y   \n",
            "1  republican                   n                          y   \n",
            "2    democrat                   ?                          y   \n",
            "3    democrat                   n                          y   \n",
            "4    democrat                   y                          y   \n",
            "\n",
            "  adoption-of-the-budget-resolution physician-fee-freeze el-salvador-aid  \\\n",
            "0                                 n                    y               y   \n",
            "1                                 n                    y               y   \n",
            "2                                 y                    ?               y   \n",
            "3                                 y                    n               ?   \n",
            "4                                 y                    n               y   \n",
            "\n",
            "  religious-groups-in-schools anti-satellite-test-ban  \\\n",
            "0                           y                       n   \n",
            "1                           y                       n   \n",
            "2                           y                       n   \n",
            "3                           y                       n   \n",
            "4                           y                       n   \n",
            "\n",
            "  aid-to-nicaraguan-contras mx-missile immigration  \\\n",
            "0                         n          n           y   \n",
            "1                         n          n           n   \n",
            "2                         n          n           n   \n",
            "3                         n          n           n   \n",
            "4                         n          n           n   \n",
            "\n",
            "  synfuels-corporation-cutback education-spending superfund-right-to-sue  \\\n",
            "0                            ?                  y                      y   \n",
            "1                            n                  y                      y   \n",
            "2                            y                  n                      y   \n",
            "3                            y                  n                      y   \n",
            "4                            y                  ?                      y   \n",
            "\n",
            "  crime duty-free-exports export-administration-act-south-africa  \n",
            "0     y                 n                                      y  \n",
            "1     y                 n                                      ?  \n",
            "2     y                 n                                      n  \n",
            "3     n                 n                                      y  \n",
            "4     y                 y                                      y  \n",
            "       Class Name handicapped-infants water-project-cost-sharing  \\\n",
            "count         435                 435                        435   \n",
            "unique          2                   3                          3   \n",
            "top      democrat                   n                          y   \n",
            "freq          267                 236                        195   \n",
            "\n",
            "       adoption-of-the-budget-resolution physician-fee-freeze el-salvador-aid  \\\n",
            "count                                435                  435             435   \n",
            "unique                                 3                    3               3   \n",
            "top                                    y                    n               y   \n",
            "freq                                 253                  247             212   \n",
            "\n",
            "       religious-groups-in-schools anti-satellite-test-ban  \\\n",
            "count                          435                     435   \n",
            "unique                           3                       3   \n",
            "top                              y                       y   \n",
            "freq                           272                     239   \n",
            "\n",
            "       aid-to-nicaraguan-contras mx-missile immigration  \\\n",
            "count                        435        435         435   \n",
            "unique                         3          3           3   \n",
            "top                            y          y           y   \n",
            "freq                         242        207         216   \n",
            "\n",
            "       synfuels-corporation-cutback education-spending superfund-right-to-sue  \\\n",
            "count                           435                435                    435   \n",
            "unique                            3                  3                      3   \n",
            "top                               n                  n                      y   \n",
            "freq                            264                233                    209   \n",
            "\n",
            "       crime duty-free-exports export-administration-act-south-africa  \n",
            "count    435               435                                    435  \n",
            "unique     3                 3                                      3  \n",
            "top        y                 n                                      y  \n",
            "freq     248               233                                    269  \n"
          ],
          "name": "stdout"
        },
        {
          "output_type": "execute_result",
          "data": {
            "text/plain": [
              "Class Name                                False\n",
              "handicapped-infants                       False\n",
              "water-project-cost-sharing                False\n",
              "adoption-of-the-budget-resolution         False\n",
              "physician-fee-freeze                      False\n",
              "el-salvador-aid                           False\n",
              "religious-groups-in-schools               False\n",
              "anti-satellite-test-ban                   False\n",
              "aid-to-nicaraguan-contras                 False\n",
              "mx-missile                                False\n",
              "immigration                               False\n",
              "synfuels-corporation-cutback              False\n",
              "education-spending                        False\n",
              "superfund-right-to-sue                    False\n",
              "crime                                     False\n",
              "duty-free-exports                         False\n",
              "export-administration-act-south-africa    False\n",
              "dtype: bool"
            ]
          },
          "metadata": {
            "tags": []
          },
          "execution_count": 4
        }
      ]
    },
    {
      "cell_type": "code",
      "metadata": {
        "id": "1OrhTTlyapN6",
        "colab_type": "code",
        "outputId": "e847675f-b394-46be-da85-33ca97e6b490",
        "colab": {
          "base_uri": "https://localhost:8080/",
          "height": 87
        }
      },
      "source": [
        "df['immigration'].value_counts()"
      ],
      "execution_count": 5,
      "outputs": [
        {
          "output_type": "execute_result",
          "data": {
            "text/plain": [
              "y    216\n",
              "n    212\n",
              "?      7\n",
              "Name: immigration, dtype: int64"
            ]
          },
          "metadata": {
            "tags": []
          },
          "execution_count": 5
        }
      ]
    },
    {
      "cell_type": "code",
      "metadata": {
        "id": "I4RVaxMoqhDC",
        "colab_type": "code",
        "colab": {}
      },
      "source": [
        "df_clean = df.replace({'y':1, 'n':0, '?':np.nan})"
      ],
      "execution_count": 0,
      "outputs": []
    },
    {
      "cell_type": "code",
      "metadata": {
        "id": "1WOriyGtq8ff",
        "colab_type": "code",
        "outputId": "abbadf2d-dff5-44fc-e6e1-00272add7285",
        "colab": {
          "base_uri": "https://localhost:8080/",
          "height": 87
        }
      },
      "source": [
        "print(df_clean.immigration.unique())\n",
        "df_clean.immigration.value_counts()"
      ],
      "execution_count": 7,
      "outputs": [
        {
          "output_type": "stream",
          "text": [
            "[ 1.  0. nan]\n"
          ],
          "name": "stdout"
        },
        {
          "output_type": "execute_result",
          "data": {
            "text/plain": [
              "1.0    216\n",
              "0.0    212\n",
              "Name: immigration, dtype: int64"
            ]
          },
          "metadata": {
            "tags": []
          },
          "execution_count": 7
        }
      ]
    },
    {
      "cell_type": "code",
      "metadata": {
        "id": "Bt_Qy_cotI3m",
        "colab_type": "code",
        "outputId": "6dd275d4-5c6b-4367-c6af-6235e0162752",
        "colab": {
          "base_uri": "https://localhost:8080/",
          "height": 274
        }
      },
      "source": [
        "df_clean.head()"
      ],
      "execution_count": 8,
      "outputs": [
        {
          "output_type": "execute_result",
          "data": {
            "text/html": [
              "<div>\n",
              "<style scoped>\n",
              "    .dataframe tbody tr th:only-of-type {\n",
              "        vertical-align: middle;\n",
              "    }\n",
              "\n",
              "    .dataframe tbody tr th {\n",
              "        vertical-align: top;\n",
              "    }\n",
              "\n",
              "    .dataframe thead th {\n",
              "        text-align: right;\n",
              "    }\n",
              "</style>\n",
              "<table border=\"1\" class=\"dataframe\">\n",
              "  <thead>\n",
              "    <tr style=\"text-align: right;\">\n",
              "      <th></th>\n",
              "      <th>Class Name</th>\n",
              "      <th>handicapped-infants</th>\n",
              "      <th>water-project-cost-sharing</th>\n",
              "      <th>adoption-of-the-budget-resolution</th>\n",
              "      <th>physician-fee-freeze</th>\n",
              "      <th>el-salvador-aid</th>\n",
              "      <th>religious-groups-in-schools</th>\n",
              "      <th>anti-satellite-test-ban</th>\n",
              "      <th>aid-to-nicaraguan-contras</th>\n",
              "      <th>mx-missile</th>\n",
              "      <th>immigration</th>\n",
              "      <th>synfuels-corporation-cutback</th>\n",
              "      <th>education-spending</th>\n",
              "      <th>superfund-right-to-sue</th>\n",
              "      <th>crime</th>\n",
              "      <th>duty-free-exports</th>\n",
              "      <th>export-administration-act-south-africa</th>\n",
              "    </tr>\n",
              "  </thead>\n",
              "  <tbody>\n",
              "    <tr>\n",
              "      <th>0</th>\n",
              "      <td>republican</td>\n",
              "      <td>0.0</td>\n",
              "      <td>1.0</td>\n",
              "      <td>0.0</td>\n",
              "      <td>1.0</td>\n",
              "      <td>1.0</td>\n",
              "      <td>1.0</td>\n",
              "      <td>0.0</td>\n",
              "      <td>0.0</td>\n",
              "      <td>0.0</td>\n",
              "      <td>1.0</td>\n",
              "      <td>NaN</td>\n",
              "      <td>1.0</td>\n",
              "      <td>1.0</td>\n",
              "      <td>1.0</td>\n",
              "      <td>0.0</td>\n",
              "      <td>1.0</td>\n",
              "    </tr>\n",
              "    <tr>\n",
              "      <th>1</th>\n",
              "      <td>republican</td>\n",
              "      <td>0.0</td>\n",
              "      <td>1.0</td>\n",
              "      <td>0.0</td>\n",
              "      <td>1.0</td>\n",
              "      <td>1.0</td>\n",
              "      <td>1.0</td>\n",
              "      <td>0.0</td>\n",
              "      <td>0.0</td>\n",
              "      <td>0.0</td>\n",
              "      <td>0.0</td>\n",
              "      <td>0.0</td>\n",
              "      <td>1.0</td>\n",
              "      <td>1.0</td>\n",
              "      <td>1.0</td>\n",
              "      <td>0.0</td>\n",
              "      <td>NaN</td>\n",
              "    </tr>\n",
              "    <tr>\n",
              "      <th>2</th>\n",
              "      <td>democrat</td>\n",
              "      <td>NaN</td>\n",
              "      <td>1.0</td>\n",
              "      <td>1.0</td>\n",
              "      <td>NaN</td>\n",
              "      <td>1.0</td>\n",
              "      <td>1.0</td>\n",
              "      <td>0.0</td>\n",
              "      <td>0.0</td>\n",
              "      <td>0.0</td>\n",
              "      <td>0.0</td>\n",
              "      <td>1.0</td>\n",
              "      <td>0.0</td>\n",
              "      <td>1.0</td>\n",
              "      <td>1.0</td>\n",
              "      <td>0.0</td>\n",
              "      <td>0.0</td>\n",
              "    </tr>\n",
              "    <tr>\n",
              "      <th>3</th>\n",
              "      <td>democrat</td>\n",
              "      <td>0.0</td>\n",
              "      <td>1.0</td>\n",
              "      <td>1.0</td>\n",
              "      <td>0.0</td>\n",
              "      <td>NaN</td>\n",
              "      <td>1.0</td>\n",
              "      <td>0.0</td>\n",
              "      <td>0.0</td>\n",
              "      <td>0.0</td>\n",
              "      <td>0.0</td>\n",
              "      <td>1.0</td>\n",
              "      <td>0.0</td>\n",
              "      <td>1.0</td>\n",
              "      <td>0.0</td>\n",
              "      <td>0.0</td>\n",
              "      <td>1.0</td>\n",
              "    </tr>\n",
              "    <tr>\n",
              "      <th>4</th>\n",
              "      <td>democrat</td>\n",
              "      <td>1.0</td>\n",
              "      <td>1.0</td>\n",
              "      <td>1.0</td>\n",
              "      <td>0.0</td>\n",
              "      <td>1.0</td>\n",
              "      <td>1.0</td>\n",
              "      <td>0.0</td>\n",
              "      <td>0.0</td>\n",
              "      <td>0.0</td>\n",
              "      <td>0.0</td>\n",
              "      <td>1.0</td>\n",
              "      <td>NaN</td>\n",
              "      <td>1.0</td>\n",
              "      <td>1.0</td>\n",
              "      <td>1.0</td>\n",
              "      <td>1.0</td>\n",
              "    </tr>\n",
              "  </tbody>\n",
              "</table>\n",
              "</div>"
            ],
            "text/plain": [
              "   Class Name  handicapped-infants  water-project-cost-sharing  \\\n",
              "0  republican                  0.0                         1.0   \n",
              "1  republican                  0.0                         1.0   \n",
              "2    democrat                  NaN                         1.0   \n",
              "3    democrat                  0.0                         1.0   \n",
              "4    democrat                  1.0                         1.0   \n",
              "\n",
              "   adoption-of-the-budget-resolution  physician-fee-freeze  el-salvador-aid  \\\n",
              "0                                0.0                   1.0              1.0   \n",
              "1                                0.0                   1.0              1.0   \n",
              "2                                1.0                   NaN              1.0   \n",
              "3                                1.0                   0.0              NaN   \n",
              "4                                1.0                   0.0              1.0   \n",
              "\n",
              "   religious-groups-in-schools  anti-satellite-test-ban  \\\n",
              "0                          1.0                      0.0   \n",
              "1                          1.0                      0.0   \n",
              "2                          1.0                      0.0   \n",
              "3                          1.0                      0.0   \n",
              "4                          1.0                      0.0   \n",
              "\n",
              "   aid-to-nicaraguan-contras  mx-missile  immigration  \\\n",
              "0                        0.0         0.0          1.0   \n",
              "1                        0.0         0.0          0.0   \n",
              "2                        0.0         0.0          0.0   \n",
              "3                        0.0         0.0          0.0   \n",
              "4                        0.0         0.0          0.0   \n",
              "\n",
              "   synfuels-corporation-cutback  education-spending  superfund-right-to-sue  \\\n",
              "0                           NaN                 1.0                     1.0   \n",
              "1                           0.0                 1.0                     1.0   \n",
              "2                           1.0                 0.0                     1.0   \n",
              "3                           1.0                 0.0                     1.0   \n",
              "4                           1.0                 NaN                     1.0   \n",
              "\n",
              "   crime  duty-free-exports  export-administration-act-south-africa  \n",
              "0    1.0                0.0                                     1.0  \n",
              "1    1.0                0.0                                     NaN  \n",
              "2    1.0                0.0                                     0.0  \n",
              "3    0.0                0.0                                     1.0  \n",
              "4    1.0                1.0                                     1.0  "
            ]
          },
          "metadata": {
            "tags": []
          },
          "execution_count": 8
        }
      ]
    },
    {
      "cell_type": "code",
      "metadata": {
        "id": "jTghkjpqtUzw",
        "colab_type": "code",
        "outputId": "91700862-751e-485c-c057-c1525a970b87",
        "colab": {
          "base_uri": "https://localhost:8080/",
          "height": 35
        }
      },
      "source": [
        "df_clean['Class Name'].unique()"
      ],
      "execution_count": 9,
      "outputs": [
        {
          "output_type": "execute_result",
          "data": {
            "text/plain": [
              "array(['republican', 'democrat'], dtype=object)"
            ]
          },
          "metadata": {
            "tags": []
          },
          "execution_count": 9
        }
      ]
    },
    {
      "cell_type": "code",
      "metadata": {
        "id": "pTmlPoEMq-JD",
        "colab_type": "code",
        "colab": {}
      },
      "source": [
        "gop = df_clean[df_clean['Class Name'] == 'republican']\n",
        "dem = df_clean[df_clean['Class Name'] == 'democrat']"
      ],
      "execution_count": 0,
      "outputs": []
    },
    {
      "cell_type": "code",
      "metadata": {
        "id": "Ak4d5ZkltGmN",
        "colab_type": "code",
        "colab": {}
      },
      "source": [
        "from scipy.stats import ttest_1samp, ttest_ind, levene"
      ],
      "execution_count": 0,
      "outputs": []
    },
    {
      "cell_type": "markdown",
      "metadata": {
        "id": "vZBZXgR65wT8",
        "colab_type": "text"
      },
      "source": [
        "`scipy.stats.ttest_ind` does a two-sided test. p-value is computed to quantify the strength of the evidence, or confidence level.  Sample mean can be smaller or larger than the hypothesized mean. If it is smaller than the hypothesized value, then the t-statistic will be negative.  If it is larger, the t-statistic will be positive.\n",
        "\n",
        "\n",
        "####NULL: The mean of support for the issue is greater in party a vs party b with p < 0.01.\n",
        "\n"
      ]
    },
    {
      "cell_type": "markdown",
      "metadata": {
        "id": "Zp8Ef_FQLEZ_",
        "colab_type": "text"
      },
      "source": [
        "###2. Using hypothesis testing, find an issue that democrats support more than republicans with p < 0.01\n",
        "\n",
        "\n",
        "**NULL `H0`:** Republicans supports an issue less than or equal to  Democrats.\n",
        "\n",
        "**ALT `H1`:** Republicans supports an issue more than Democrats.\n",
        "\n",
        "Since `ttest_ind` is a two tail test, we would need to divide p value by 2 to turn it into a one tail test. Search through issues for p/2 < 0.01. If t > 0, then GOP support more than Democrats if we use `gop` as the first input to `ttest_ind`.  Note the independent t-test is:\n",
        "\n",
        "$$ttest_{independent} = \\frac{\\mu_a - \\mu_b}{\\sqrt{{S^2/N_a + S^2/N_b}}}$$\n",
        "\n",
        "So a positive t-test means first sample mean is higher than second sample mean.\n",
        "\n",
        "References:\n",
        "\n",
        "https://stackoverflow.com/questions/15984221/how-to-perform-two-sample-one-tailed-t-test-with-numpy-scipy"
      ]
    },
    {
      "cell_type": "code",
      "metadata": {
        "id": "FYtxDMlq-aBZ",
        "colab_type": "code",
        "outputId": "41529652-923a-475b-e804-b93102930027",
        "colab": {
          "base_uri": "https://localhost:8080/",
          "height": 123
        }
      },
      "source": [
        "for issue in column_names[1:]:\n",
        "    t, p = ttest_ind(gop[issue], dem[issue], nan_policy='omit')\n",
        "    if t > 0 and p/2 < 0.01:\n",
        "        print(\"GOP supports {} MORE than Democrats with t-stats of {:.2f} greater than 0 and confidence level of {:.2%}\".format(issue, t, 1-p/2))"
      ],
      "execution_count": 22,
      "outputs": [
        {
          "output_type": "stream",
          "text": [
            "GOP supports physician-fee-freeze MORE than Democrats with t-stats of 49.37 greater than 0 and confidence level of 100.00%\n",
            "GOP supports el-salvador-aid MORE than Democrats with t-stats of 21.14 greater than 0 and confidence level of 100.00%\n",
            "GOP supports religious-groups-in-schools MORE than Democrats with t-stats of 9.74 greater than 0 and confidence level of 100.00%\n",
            "GOP supports education-spending MORE than Democrats with t-stats of 20.50 greater than 0 and confidence level of 100.00%\n",
            "GOP supports superfund-right-to-sue MORE than Democrats with t-stats of 13.51 greater than 0 and confidence level of 100.00%\n",
            "GOP supports crime MORE than Democrats with t-stats of 16.34 greater than 0 and confidence level of 100.00%\n"
          ],
          "name": "stdout"
        }
      ]
    },
    {
      "cell_type": "markdown",
      "metadata": {
        "id": "nzz9AsOnZlSm",
        "colab_type": "text"
      },
      "source": [
        "###3. Using hypothesis testing, find an issue that republicans support more than democrats with p < 0.01\n",
        "\n",
        "\n",
        "**NULL `H0`:** Democrats support an issue less than or equal to Republicans.\n",
        "\n",
        "**ALT `H1`:** Democrats supports an issue greater than Republicans.\n"
      ]
    },
    {
      "cell_type": "code",
      "metadata": {
        "id": "DpDnuSUhLjpH",
        "colab_type": "code",
        "outputId": "44cdb3ec-c195-431c-e36a-a4c1371c8646",
        "colab": {
          "base_uri": "https://localhost:8080/",
          "height": 178
        }
      },
      "source": [
        "for issue in column_names[1:]:\n",
        "    t, p = ttest_ind(dem[issue], gop[issue], nan_policy='omit')\n",
        "    if t > 0 and p/2 < 0.01:\n",
        "        print(\"Democrats supports {} more than Republicans with t-stats of {:.2f} greater than 0 and confidence level of {:.2%}\".format(issue, t, 1-p/2))"
      ],
      "execution_count": 21,
      "outputs": [
        {
          "output_type": "stream",
          "text": [
            "Democrats supports handicapped-infants more than Republicans with t-stats of 9.21 greater than 0 and confidence level of 100.00%\n",
            "Democrats supports adoption-of-the-budget-resolution more than Republicans with t-stats of 23.21 greater than 0 and confidence level of 100.00%\n",
            "Democrats supports anti-satellite-test-ban more than Republicans with t-stats of 12.53 greater than 0 and confidence level of 100.00%\n",
            "Democrats supports aid-to-nicaraguan-contras more than Republicans with t-stats of 18.05 greater than 0 and confidence level of 100.00%\n",
            "Democrats supports mx-missile more than Republicans with t-stats of 16.44 greater than 0 and confidence level of 100.00%\n",
            "Democrats supports synfuels-corporation-cutback more than Republicans with t-stats of 8.29 greater than 0 and confidence level of 100.00%\n",
            "Democrats supports duty-free-exports more than Republicans with t-stats of 12.85 greater than 0 and confidence level of 100.00%\n",
            "Democrats supports export-administration-act-south-africa more than Republicans with t-stats of 6.85 greater than 0 and confidence level of 100.00%\n"
          ],
          "name": "stdout"
        }
      ]
    },
    {
      "cell_type": "markdown",
      "metadata": {
        "id": "Y2HdGuObJNF0",
        "colab_type": "text"
      },
      "source": [
        "###4. Using hypothesis testing, find an issue where the difference between republicans and democrats has p > 0.1 (i.e. there may not be much of a difference)\n",
        "\n",
        "**NULL `H0`:** There's no diference between Republican and Democrat support on an issue.\n",
        "\n",
        "**ALT `H1`:** There is a difference between Republican and Democrat support on an issue."
      ]
    },
    {
      "cell_type": "code",
      "metadata": {
        "id": "Gql-yFLWC-fg",
        "colab_type": "code",
        "outputId": "31fab412-5e11-4428-e5e3-4f40ff79667f",
        "colab": {
          "base_uri": "https://localhost:8080/",
          "height": 35
        }
      },
      "source": [
        "for issue in column_names[1:]:\n",
        "    t, p = ttest_ind(dem[issue], gop[issue], nan_policy='omit')\n",
        "    if p > 0.1:\n",
        "        print(\"For {}, the p-value of {:.2} is greater than 0.1 between Republicans and Democrats.\".format(issue, p))"
      ],
      "execution_count": 23,
      "outputs": [
        {
          "output_type": "stream",
          "text": [
            "For water-project-cost-sharing, the p-value of 0.93 is greater than 0.1 between Republicans and Democrats.\n"
          ],
          "name": "stdout"
        }
      ]
    },
    {
      "cell_type": "code",
      "metadata": {
        "id": "4kb8saetJv3k",
        "colab_type": "code",
        "colab": {}
      },
      "source": [
        ""
      ],
      "execution_count": 0,
      "outputs": []
    }
  ]
}