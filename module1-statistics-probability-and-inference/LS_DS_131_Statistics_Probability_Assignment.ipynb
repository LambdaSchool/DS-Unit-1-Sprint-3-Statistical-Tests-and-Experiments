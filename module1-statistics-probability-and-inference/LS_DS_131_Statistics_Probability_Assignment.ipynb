{
  "nbformat": 4,
  "nbformat_minor": 0,
  "metadata": {
    "kernelspec": {
      "display_name": "Python 3",
      "language": "python",
      "name": "python3"
    },
    "language_info": {
      "codemirror_mode": {
        "name": "ipython",
        "version": 3
      },
      "file_extension": ".py",
      "mimetype": "text/x-python",
      "name": "python",
      "nbconvert_exporter": "python",
      "pygments_lexer": "ipython3",
      "version": "3.7.3"
    },
    "colab": {
      "name": "LS_DS_131_Statistics_Probability_Assignment.ipynb",
      "version": "0.3.2",
      "provenance": [],
      "collapsed_sections": [],
      "include_colab_link": true
    }
  },
  "cells": [
    {
      "cell_type": "markdown",
      "metadata": {
        "id": "view-in-github",
        "colab_type": "text"
      },
      "source": [
        "<a href=\"https://colab.research.google.com/github/owenburton/DS-Unit-1-Sprint-3-Statistical-Tests-and-Experiments/blob/master/module1-statistics-probability-and-inference/LS_DS_131_Statistics_Probability_Assignment.ipynb\" target=\"_parent\"><img src=\"https://colab.research.google.com/assets/colab-badge.svg\" alt=\"Open In Colab\"/></a>"
      ]
    },
    {
      "cell_type": "markdown",
      "metadata": {
        "id": "pWGfcnfrwLTM",
        "colab_type": "text"
      },
      "source": [
        "<img align=\"left\" src=\"https://lever-client-logos.s3.amazonaws.com/864372b1-534c-480e-acd5-9711f850815c-1524247202159.png\" width=200>\n",
        "<br></br>\n",
        "<br></br>\n",
        "\n",
        "## *Data Science Unit 1 Sprint 3 Assignment 1*\n",
        "\n",
        "# Apply the t-test to real data\n",
        "\n",
        "Your assignment is to determine which issues have \"statistically significant\" differences between political parties in this [1980s congressional voting data](https://archive.ics.uci.edu/ml/datasets/Congressional+Voting+Records). The data consists of 435 instances (one for each congressperson), a class (democrat or republican), and 16 binary attributes (yes or no for voting for or against certain issues). Be aware - there are missing values!\n",
        "\n",
        "Your goals:\n",
        "\n",
        "1. Load and clean the data (or determine the best method to drop observations when running tests)\n",
        "2. Using hypothesis testing, find an issue that democrats support more than republicans with p < 0.01\n",
        "3. Using hypothesis testing, find an issue that republicans support more than democrats with p < 0.01\n",
        "4. Using hypothesis testing, find an issue where the difference between republicans and democrats has p > 0.1 (i.e. there may not be much of a difference)\n",
        "\n",
        "Note that this data will involve *2 sample* t-tests, because you're comparing averages across two groups (republicans and democrats) rather than a single group against a null hypothesis.\n",
        "\n",
        "Stretch goals:\n",
        "\n",
        "1. Refactor your code into functions so it's easy to rerun with arbitrary variables\n",
        "2. Apply hypothesis testing to your personal project data (for the purposes of this notebook you can type a summary of the hypothesis you formed and tested)"
      ]
    },
    {
      "cell_type": "markdown",
      "metadata": {
        "id": "Hl8rpDZ9iwhM",
        "colab_type": "text"
      },
      "source": [
        "# 1. Load and clean the data"
      ]
    },
    {
      "cell_type": "code",
      "metadata": {
        "id": "BAMb_wJtiyzS",
        "colab_type": "code",
        "colab": {}
      },
      "source": [
        "import pandas as pd\n",
        "\n",
        "# Put in the column names.\n",
        "names =  ['party', \n",
        "          'handicapped-infants', \n",
        "          'water-project-cost-sharing', \n",
        "          'adoption-of-the-budget-resolution',\n",
        "          'physician-fee-freeze',\n",
        "          'el-salvador-aid',\n",
        "          'religious-schools',\n",
        "          'anti-satellite-test-ban',\n",
        "          'aid-to-nicaraguan-contras',\n",
        "          'mx-missile',\n",
        "          'immigration',\n",
        "          'synfuels-corporation-cutback',\n",
        "          'education-spending',\n",
        "          'superfund-right-to-sue',\n",
        "          'crime',\n",
        "          'duty-free-exports',\n",
        "          'south-africa']\n",
        "\n",
        "names1 = [s.replace('-', '_') for s in names]\n",
        "\n",
        "df = pd.read_csv('https://archive.ics.uci.edu/ml/machine-learning-databases/voting-records/house-votes-84.data', names=names1)"
      ],
      "execution_count": 0,
      "outputs": []
    },
    {
      "cell_type": "code",
      "metadata": {
        "id": "fq7bL1ExnF1o",
        "colab_type": "code",
        "colab": {}
      },
      "source": [
        "# Replace string instances with binary.\n",
        "df = df.replace({'n': 0, 'y': 1})"
      ],
      "execution_count": 0,
      "outputs": []
    },
    {
      "cell_type": "code",
      "metadata": {
        "id": "Cdo3tg9voVDY",
        "colab_type": "code",
        "colab": {}
      },
      "source": [
        "import numpy as np\n",
        "\n",
        "# Replace missing values with NaN.\n",
        "df = df.replace('?', np.nan)"
      ],
      "execution_count": 0,
      "outputs": []
    },
    {
      "cell_type": "markdown",
      "metadata": {
        "id": "QBssU9Mtrt0f",
        "colab_type": "text"
      },
      "source": [
        "# 2. Using hypothesis testing, find an issue that democrats support more than republicans with p < 0.01"
      ]
    },
    {
      "cell_type": "code",
      "metadata": {
        "id": "noLhB1SxqZFm",
        "colab_type": "code",
        "colab": {}
      },
      "source": [
        "# Create dataframes for democrat and republican votes.\n",
        "dem = df[df['party'] == 'democrat']\n",
        "rep = df[df['party'] == 'republican']"
      ],
      "execution_count": 0,
      "outputs": []
    },
    {
      "cell_type": "markdown",
      "metadata": {
        "id": "pjmYGdwVuVoK",
        "colab_type": "text"
      },
      "source": [
        "- Null Hypothesis: Democrats and republicans supported the South Africa Export Administration Act at the same rate.\n",
        "- Alternative Hypothesis: Democrats supported the South Africa Export Administration Act more than rebuplicans.\n"
      ]
    },
    {
      "cell_type": "code",
      "metadata": {
        "id": "qC383udMsmAi",
        "colab_type": "code",
        "outputId": "d808b190-4196-4d62-8b28-9dc7d3c14ed0",
        "colab": {
          "base_uri": "https://localhost:8080/",
          "height": 51
        }
      },
      "source": [
        "print(\"Democratic support: \", dem['south_africa'].mean())\n",
        "print(\"Republican support: \", rep['south_africa'].mean())"
      ],
      "execution_count": 0,
      "outputs": [
        {
          "output_type": "stream",
          "text": [
            "Democratic support:  0.9351351351351351\n",
            "Republican support:  0.6575342465753424\n"
          ],
          "name": "stdout"
        }
      ]
    },
    {
      "cell_type": "code",
      "metadata": {
        "id": "z33yxR09nzls",
        "colab_type": "code",
        "outputId": "2c07f17d-73b1-4b05-e112-063216840fd5",
        "colab": {
          "base_uri": "https://localhost:8080/",
          "height": 34
        }
      },
      "source": [
        "from scipy.stats import ttest_ind\n",
        "ttest_ind(dem['south_africa'], rep['south_africa'], nan_policy='omit')"
      ],
      "execution_count": 0,
      "outputs": [
        {
          "output_type": "execute_result",
          "data": {
            "text/plain": [
              "Ttest_indResult(statistic=6.849454815841208, pvalue=3.652674361672226e-11)"
            ]
          },
          "metadata": {
            "tags": []
          },
          "execution_count": 135
        }
      ]
    },
    {
      "cell_type": "markdown",
      "metadata": {
        "id": "JCXmEsLHyyhh",
        "colab_type": "text"
      },
      "source": [
        "Given the results above (t-statistic and p-value), I would reject the null hypothesis that the means are the same, that there was equal support for the bill."
      ]
    },
    {
      "cell_type": "markdown",
      "metadata": {
        "id": "vdNBGVLBzWPm",
        "colab_type": "text"
      },
      "source": [
        "# 3. Using hypothesis testing, find an issue that republicans support more than democrats with p < 0.01"
      ]
    },
    {
      "cell_type": "markdown",
      "metadata": {
        "id": "71sjh8rj02Jk",
        "colab_type": "text"
      },
      "source": [
        "- Null Hypothesis: Democrats and Republicans supported the a;slfd bill at the same rate.\n",
        "- Alternative Hypothesis: Republicans supported the asldfk bill at a higher rate."
      ]
    },
    {
      "cell_type": "code",
      "metadata": {
        "id": "Bv2FBh38yljk",
        "colab_type": "code",
        "outputId": "73339a6d-5900-439a-f3de-1ffb0ca449bf",
        "colab": {
          "base_uri": "https://localhost:8080/",
          "height": 51
        }
      },
      "source": [
        "print(\"Democratic support: \", dem['religious_schools'].mean())\n",
        "print(\"Republican support: \", rep['religious_schools'].mean())"
      ],
      "execution_count": 0,
      "outputs": [
        {
          "output_type": "stream",
          "text": [
            "Democratic support:  0.47674418604651164\n",
            "Republican support:  0.8975903614457831\n"
          ],
          "name": "stdout"
        }
      ]
    },
    {
      "cell_type": "code",
      "metadata": {
        "id": "l2zVVKQc1O7c",
        "colab_type": "code",
        "outputId": "a51952a7-8d1e-4171-8d0e-c67ccf5e7b08",
        "colab": {
          "base_uri": "https://localhost:8080/",
          "height": 34
        }
      },
      "source": [
        "ttest_ind(dem['religious_schools'], rep['religious_schools'], nan_policy='omit')"
      ],
      "execution_count": 0,
      "outputs": [
        {
          "output_type": "execute_result",
          "data": {
            "text/plain": [
              "Ttest_indResult(statistic=-9.737575825219457, pvalue=2.3936722520597287e-20)"
            ]
          },
          "metadata": {
            "tags": []
          },
          "execution_count": 137
        }
      ]
    },
    {
      "cell_type": "markdown",
      "metadata": {
        "id": "BCTSrdz31ngz",
        "colab_type": "text"
      },
      "source": [
        "Given the results above (t-statistic and p-value), I would reject the null hypothesis that the rate of support was equal."
      ]
    },
    {
      "cell_type": "markdown",
      "metadata": {
        "id": "p6qFRMVrzdN-",
        "colab_type": "text"
      },
      "source": [
        "# 4. Using hypothesis testing, find an issue where the difference between republicans and democrats has p > 0.1 (i.e. there may not be much of a difference)"
      ]
    },
    {
      "cell_type": "code",
      "metadata": {
        "id": "kbBb5FEw22kK",
        "colab_type": "code",
        "colab": {}
      },
      "source": [
        "# Create function to find whether an issue has a difference between parties\n",
        "# where p>0.1.\n",
        "def big_p(bill):\n",
        "  x = list(ttest_ind(dem[bill], rep[bill], nan_policy='omit'))\n",
        "  if x[1] > 0.1:\n",
        "    return print(\"The bill {} act is an issue where the difference between parties has p > 0.1.\".format(bill))\n",
        "  else:\n",
        "    return print('nope')"
      ],
      "execution_count": 0,
      "outputs": []
    },
    {
      "cell_type": "code",
      "metadata": {
        "id": "LyynejANFun0",
        "colab_type": "code",
        "outputId": "28c2495d-8ec7-4489-bc30-b306e7819116",
        "colab": {
          "base_uri": "https://localhost:8080/",
          "height": 294
        }
      },
      "source": [
        "# Apply the function to each issue.\n",
        "for bill in names1[1:]:\n",
        "  big_p(bill)"
      ],
      "execution_count": 0,
      "outputs": [
        {
          "output_type": "stream",
          "text": [
            "nope\n",
            "The bill water_project_cost_sharing act is an issue where the difference between parties has p > 0.1.\n",
            "nope\n",
            "nope\n",
            "nope\n",
            "nope\n",
            "nope\n",
            "nope\n",
            "nope\n",
            "nope\n",
            "nope\n",
            "nope\n",
            "nope\n",
            "nope\n",
            "nope\n",
            "nope\n"
          ],
          "name": "stdout"
        }
      ]
    }
  ]
}