{
  "nbformat": 4,
  "nbformat_minor": 0,
  "metadata": {
    "kernelspec": {
      "display_name": "Python 3",
      "language": "python",
      "name": "python3"
    },
    "language_info": {
      "codemirror_mode": {
        "name": "ipython",
        "version": 3
      },
      "file_extension": ".py",
      "mimetype": "text/x-python",
      "name": "python",
      "nbconvert_exporter": "python",
      "pygments_lexer": "ipython3",
      "version": "3.7.3"
    },
    "colab": {
      "name": "Copy of LS_DS_131_Statistics_Probability_Assignment.ipynb",
      "version": "0.3.2",
      "provenance": [],
      "toc_visible": true,
      "include_colab_link": true
    }
  },
  "cells": [
    {
      "cell_type": "markdown",
      "metadata": {
        "id": "view-in-github",
        "colab_type": "text"
      },
      "source": [
        "<a href=\"https://colab.research.google.com/github/davidanagy/DS-Unit-1-Sprint-3-Statistical-Tests-and-Experiments/blob/master/module1-statistics-probability-and-inference/LS_DS_131_Statistics_Probability_Assignment.ipynb\" target=\"_parent\"><img src=\"https://colab.research.google.com/assets/colab-badge.svg\" alt=\"Open In Colab\"/></a>"
      ]
    },
    {
      "cell_type": "markdown",
      "metadata": {
        "id": "Ru9w5H35ccjl",
        "colab_type": "text"
      },
      "source": [
        "<img align=\"left\" src=\"https://lever-client-logos.s3.amazonaws.com/864372b1-534c-480e-acd5-9711f850815c-1524247202159.png\" width=200>\n",
        "<br></br>\n",
        "<br></br>\n",
        "\n",
        "## *Data Science Unit 1 Sprint 3 Assignment 1*\n",
        "\n",
        "# Apply the t-test to real data\n",
        "\n",
        "Your assignment is to determine which issues have \"statistically significant\" differences between political parties in this [1980s congressional voting data](https://archive.ics.uci.edu/ml/datasets/Congressional+Voting+Records). The data consists of 435 instances (one for each congressperson), a class (democrat or republican), and 16 binary attributes (yes or no for voting for or against certain issues). Be aware - there are missing values!\n",
        "\n",
        "Your goals:\n",
        "\n",
        "1. Load and clean the data (or determine the best method to drop observations when running tests)\n",
        "2. Using hypothesis testing, find an issue that democrats support more than republicans with p < 0.01\n",
        "3. Using hypothesis testing, find an issue that republicans support more than democrats with p < 0.01\n",
        "4. Using hypothesis testing, find an issue where the difference between republicans and democrats has p > 0.1 (i.e. there may not be much of a difference)\n",
        "\n",
        "Note that this data will involve *2 sample* t-tests, because you're comparing averages across two groups (republicans and democrats) rather than a single group against a null hypothesis.\n",
        "\n",
        "Stretch goals:\n",
        "\n",
        "1. Refactor your code into functions so it's easy to rerun with arbitrary variables\n",
        "2. Apply hypothesis testing to your personal project data (for the purposes of this notebook you can type a summary of the hypothesis you formed and tested)"
      ]
    },
    {
      "cell_type": "code",
      "metadata": {
        "id": "rao1acgNccjn",
        "colab_type": "code",
        "colab": {
          "base_uri": "https://localhost:8080/",
          "height": 224
        },
        "outputId": "9728d6f6-4d40-4ebc-e5b0-8eb7a4716471"
      },
      "source": [
        "!wget https://archive.ics.uci.edu/ml/machine-learning-databases/voting-records/house-votes-84.data"
      ],
      "execution_count": 1,
      "outputs": [
        {
          "output_type": "stream",
          "text": [
            "--2019-09-16 19:01:50--  https://archive.ics.uci.edu/ml/machine-learning-databases/voting-records/house-votes-84.data\n",
            "Resolving archive.ics.uci.edu (archive.ics.uci.edu)... 128.195.10.252\n",
            "Connecting to archive.ics.uci.edu (archive.ics.uci.edu)|128.195.10.252|:443... connected.\n",
            "HTTP request sent, awaiting response... 200 OK\n",
            "Length: 18171 (18K) [application/x-httpd-php]\n",
            "Saving to: ‘house-votes-84.data’\n",
            "\n",
            "house-votes-84.data 100%[===================>]  17.75K  --.-KB/s    in 0.06s   \n",
            "\n",
            "2019-09-16 19:01:50 (286 KB/s) - ‘house-votes-84.data’ saved [18171/18171]\n",
            "\n"
          ],
          "name": "stdout"
        }
      ]
    },
    {
      "cell_type": "code",
      "metadata": {
        "id": "rfLbohx_c3F5",
        "colab_type": "code",
        "colab": {
          "base_uri": "https://localhost:8080/",
          "height": 241
        },
        "outputId": "5c829973-c13a-4615-c92a-cd8760d744c4"
      },
      "source": [
        "import pandas as pd\n",
        "import numpy as np\n",
        "import matplotlib.pyplot as plt\n",
        "\n",
        "df = pd.read_csv('house-votes-84.data', header=None, names=[\n",
        "    'party', 'handicapped_infants', 'water_project_cost_sharing', 'adoption_of_the_budget_resolution',\n",
        "    'physician_fee_freeze', 'el_salvador_aid', 'religious_groups_in_schools', 'anti_satellite_test_ban',\n",
        "    'aid_to_nicaraguan_contras', 'mx_missile', 'immigration', 'synfuels_corporation_cutback', 'education_spending',\n",
        "    'superfund_right_to_sue', 'crime', 'duty_free_exports', 'export_administration_act_south_africa'],\n",
        "                true_values='y', false_values='n', na_values='?')\n",
        "\n",
        "print(df.shape)\n",
        "\n",
        "df.head()"
      ],
      "execution_count": 13,
      "outputs": [
        {
          "output_type": "stream",
          "text": [
            "(435, 17)\n"
          ],
          "name": "stdout"
        },
        {
          "output_type": "execute_result",
          "data": {
            "text/html": [
              "<div>\n",
              "<style scoped>\n",
              "    .dataframe tbody tr th:only-of-type {\n",
              "        vertical-align: middle;\n",
              "    }\n",
              "\n",
              "    .dataframe tbody tr th {\n",
              "        vertical-align: top;\n",
              "    }\n",
              "\n",
              "    .dataframe thead th {\n",
              "        text-align: right;\n",
              "    }\n",
              "</style>\n",
              "<table border=\"1\" class=\"dataframe\">\n",
              "  <thead>\n",
              "    <tr style=\"text-align: right;\">\n",
              "      <th></th>\n",
              "      <th>party</th>\n",
              "      <th>handicapped_infants</th>\n",
              "      <th>water_project_cost_sharing</th>\n",
              "      <th>adoption_of_the_budget_resolution</th>\n",
              "      <th>physician_fee_freeze</th>\n",
              "      <th>el_salvador_aid</th>\n",
              "      <th>religious_groups_in_schools</th>\n",
              "      <th>anti_satellite_test_ban</th>\n",
              "      <th>aid_to_nicaraguan_contras</th>\n",
              "      <th>mx_missile</th>\n",
              "      <th>immigration</th>\n",
              "      <th>synfuels_corporation_cutback</th>\n",
              "      <th>education_spending</th>\n",
              "      <th>superfund_right_to_sue</th>\n",
              "      <th>crime</th>\n",
              "      <th>duty_free_exports</th>\n",
              "      <th>export_administration_act_south_africa</th>\n",
              "    </tr>\n",
              "  </thead>\n",
              "  <tbody>\n",
              "    <tr>\n",
              "      <th>0</th>\n",
              "      <td>republican</td>\n",
              "      <td>False</td>\n",
              "      <td>True</td>\n",
              "      <td>False</td>\n",
              "      <td>True</td>\n",
              "      <td>True</td>\n",
              "      <td>True</td>\n",
              "      <td>False</td>\n",
              "      <td>False</td>\n",
              "      <td>False</td>\n",
              "      <td>True</td>\n",
              "      <td>NaN</td>\n",
              "      <td>True</td>\n",
              "      <td>True</td>\n",
              "      <td>True</td>\n",
              "      <td>False</td>\n",
              "      <td>True</td>\n",
              "    </tr>\n",
              "    <tr>\n",
              "      <th>1</th>\n",
              "      <td>republican</td>\n",
              "      <td>False</td>\n",
              "      <td>True</td>\n",
              "      <td>False</td>\n",
              "      <td>True</td>\n",
              "      <td>True</td>\n",
              "      <td>True</td>\n",
              "      <td>False</td>\n",
              "      <td>False</td>\n",
              "      <td>False</td>\n",
              "      <td>False</td>\n",
              "      <td>False</td>\n",
              "      <td>True</td>\n",
              "      <td>True</td>\n",
              "      <td>True</td>\n",
              "      <td>False</td>\n",
              "      <td>NaN</td>\n",
              "    </tr>\n",
              "    <tr>\n",
              "      <th>2</th>\n",
              "      <td>democrat</td>\n",
              "      <td>NaN</td>\n",
              "      <td>True</td>\n",
              "      <td>True</td>\n",
              "      <td>NaN</td>\n",
              "      <td>True</td>\n",
              "      <td>True</td>\n",
              "      <td>False</td>\n",
              "      <td>False</td>\n",
              "      <td>False</td>\n",
              "      <td>False</td>\n",
              "      <td>True</td>\n",
              "      <td>False</td>\n",
              "      <td>True</td>\n",
              "      <td>True</td>\n",
              "      <td>False</td>\n",
              "      <td>False</td>\n",
              "    </tr>\n",
              "    <tr>\n",
              "      <th>3</th>\n",
              "      <td>democrat</td>\n",
              "      <td>False</td>\n",
              "      <td>True</td>\n",
              "      <td>True</td>\n",
              "      <td>False</td>\n",
              "      <td>NaN</td>\n",
              "      <td>True</td>\n",
              "      <td>False</td>\n",
              "      <td>False</td>\n",
              "      <td>False</td>\n",
              "      <td>False</td>\n",
              "      <td>True</td>\n",
              "      <td>False</td>\n",
              "      <td>True</td>\n",
              "      <td>False</td>\n",
              "      <td>False</td>\n",
              "      <td>True</td>\n",
              "    </tr>\n",
              "    <tr>\n",
              "      <th>4</th>\n",
              "      <td>democrat</td>\n",
              "      <td>True</td>\n",
              "      <td>True</td>\n",
              "      <td>True</td>\n",
              "      <td>False</td>\n",
              "      <td>True</td>\n",
              "      <td>True</td>\n",
              "      <td>False</td>\n",
              "      <td>False</td>\n",
              "      <td>False</td>\n",
              "      <td>False</td>\n",
              "      <td>True</td>\n",
              "      <td>NaN</td>\n",
              "      <td>True</td>\n",
              "      <td>True</td>\n",
              "      <td>True</td>\n",
              "      <td>True</td>\n",
              "    </tr>\n",
              "  </tbody>\n",
              "</table>\n",
              "</div>"
            ],
            "text/plain": [
              "        party  ... export_administration_act_south_africa\n",
              "0  republican  ...                                   True\n",
              "1  republican  ...                                    NaN\n",
              "2    democrat  ...                                  False\n",
              "3    democrat  ...                                   True\n",
              "4    democrat  ...                                   True\n",
              "\n",
              "[5 rows x 17 columns]"
            ]
          },
          "metadata": {
            "tags": []
          },
          "execution_count": 13
        }
      ]
    },
    {
      "cell_type": "markdown",
      "metadata": {
        "id": "fUdd0st4eznw",
        "colab_type": "text"
      },
      "source": [
        "According to the dataset notes, the missing values are not actually unknown values; they mean one of the following: \"voted present, voted present to avoid conflict of interest, and did not vote or otherwise make a position known.\"\n",
        "\n",
        "One option is to just ignore these values, but I don't like that since voting present does mean *something*. I think it makes the most sense to replace the present votes (i.e. the NaN values) with 0.5, since that feels analogous to how the representative in question refused to take a stand one way or another."
      ]
    },
    {
      "cell_type": "code",
      "metadata": {
        "id": "X1B2vogZeXbB",
        "colab_type": "code",
        "colab": {
          "base_uri": "https://localhost:8080/",
          "height": 689
        },
        "outputId": "4fed3047-1ab3-4488-bd4f-2e62b3fa4d6a"
      },
      "source": [
        "df = df.fillna(value=0.5)\n",
        "\n",
        "df.head(20)"
      ],
      "execution_count": 14,
      "outputs": [
        {
          "output_type": "execute_result",
          "data": {
            "text/html": [
              "<div>\n",
              "<style scoped>\n",
              "    .dataframe tbody tr th:only-of-type {\n",
              "        vertical-align: middle;\n",
              "    }\n",
              "\n",
              "    .dataframe tbody tr th {\n",
              "        vertical-align: top;\n",
              "    }\n",
              "\n",
              "    .dataframe thead th {\n",
              "        text-align: right;\n",
              "    }\n",
              "</style>\n",
              "<table border=\"1\" class=\"dataframe\">\n",
              "  <thead>\n",
              "    <tr style=\"text-align: right;\">\n",
              "      <th></th>\n",
              "      <th>party</th>\n",
              "      <th>handicapped_infants</th>\n",
              "      <th>water_project_cost_sharing</th>\n",
              "      <th>adoption_of_the_budget_resolution</th>\n",
              "      <th>physician_fee_freeze</th>\n",
              "      <th>el_salvador_aid</th>\n",
              "      <th>religious_groups_in_schools</th>\n",
              "      <th>anti_satellite_test_ban</th>\n",
              "      <th>aid_to_nicaraguan_contras</th>\n",
              "      <th>mx_missile</th>\n",
              "      <th>immigration</th>\n",
              "      <th>synfuels_corporation_cutback</th>\n",
              "      <th>education_spending</th>\n",
              "      <th>superfund_right_to_sue</th>\n",
              "      <th>crime</th>\n",
              "      <th>duty_free_exports</th>\n",
              "      <th>export_administration_act_south_africa</th>\n",
              "    </tr>\n",
              "  </thead>\n",
              "  <tbody>\n",
              "    <tr>\n",
              "      <th>0</th>\n",
              "      <td>republican</td>\n",
              "      <td>False</td>\n",
              "      <td>True</td>\n",
              "      <td>False</td>\n",
              "      <td>True</td>\n",
              "      <td>True</td>\n",
              "      <td>True</td>\n",
              "      <td>False</td>\n",
              "      <td>False</td>\n",
              "      <td>False</td>\n",
              "      <td>True</td>\n",
              "      <td>0.5</td>\n",
              "      <td>True</td>\n",
              "      <td>True</td>\n",
              "      <td>True</td>\n",
              "      <td>False</td>\n",
              "      <td>True</td>\n",
              "    </tr>\n",
              "    <tr>\n",
              "      <th>1</th>\n",
              "      <td>republican</td>\n",
              "      <td>False</td>\n",
              "      <td>True</td>\n",
              "      <td>False</td>\n",
              "      <td>True</td>\n",
              "      <td>True</td>\n",
              "      <td>True</td>\n",
              "      <td>False</td>\n",
              "      <td>False</td>\n",
              "      <td>False</td>\n",
              "      <td>False</td>\n",
              "      <td>False</td>\n",
              "      <td>True</td>\n",
              "      <td>True</td>\n",
              "      <td>True</td>\n",
              "      <td>False</td>\n",
              "      <td>0.5</td>\n",
              "    </tr>\n",
              "    <tr>\n",
              "      <th>2</th>\n",
              "      <td>democrat</td>\n",
              "      <td>0.5</td>\n",
              "      <td>True</td>\n",
              "      <td>True</td>\n",
              "      <td>0.5</td>\n",
              "      <td>True</td>\n",
              "      <td>True</td>\n",
              "      <td>False</td>\n",
              "      <td>False</td>\n",
              "      <td>False</td>\n",
              "      <td>False</td>\n",
              "      <td>True</td>\n",
              "      <td>False</td>\n",
              "      <td>True</td>\n",
              "      <td>True</td>\n",
              "      <td>False</td>\n",
              "      <td>False</td>\n",
              "    </tr>\n",
              "    <tr>\n",
              "      <th>3</th>\n",
              "      <td>democrat</td>\n",
              "      <td>False</td>\n",
              "      <td>True</td>\n",
              "      <td>True</td>\n",
              "      <td>False</td>\n",
              "      <td>0.5</td>\n",
              "      <td>True</td>\n",
              "      <td>False</td>\n",
              "      <td>False</td>\n",
              "      <td>False</td>\n",
              "      <td>False</td>\n",
              "      <td>True</td>\n",
              "      <td>False</td>\n",
              "      <td>True</td>\n",
              "      <td>False</td>\n",
              "      <td>False</td>\n",
              "      <td>True</td>\n",
              "    </tr>\n",
              "    <tr>\n",
              "      <th>4</th>\n",
              "      <td>democrat</td>\n",
              "      <td>True</td>\n",
              "      <td>True</td>\n",
              "      <td>True</td>\n",
              "      <td>False</td>\n",
              "      <td>True</td>\n",
              "      <td>True</td>\n",
              "      <td>False</td>\n",
              "      <td>False</td>\n",
              "      <td>False</td>\n",
              "      <td>False</td>\n",
              "      <td>True</td>\n",
              "      <td>0.5</td>\n",
              "      <td>True</td>\n",
              "      <td>True</td>\n",
              "      <td>True</td>\n",
              "      <td>True</td>\n",
              "    </tr>\n",
              "    <tr>\n",
              "      <th>5</th>\n",
              "      <td>democrat</td>\n",
              "      <td>False</td>\n",
              "      <td>True</td>\n",
              "      <td>True</td>\n",
              "      <td>False</td>\n",
              "      <td>True</td>\n",
              "      <td>True</td>\n",
              "      <td>False</td>\n",
              "      <td>False</td>\n",
              "      <td>False</td>\n",
              "      <td>False</td>\n",
              "      <td>False</td>\n",
              "      <td>False</td>\n",
              "      <td>True</td>\n",
              "      <td>True</td>\n",
              "      <td>True</td>\n",
              "      <td>True</td>\n",
              "    </tr>\n",
              "    <tr>\n",
              "      <th>6</th>\n",
              "      <td>democrat</td>\n",
              "      <td>False</td>\n",
              "      <td>True</td>\n",
              "      <td>False</td>\n",
              "      <td>True</td>\n",
              "      <td>True</td>\n",
              "      <td>True</td>\n",
              "      <td>False</td>\n",
              "      <td>False</td>\n",
              "      <td>False</td>\n",
              "      <td>False</td>\n",
              "      <td>False</td>\n",
              "      <td>False</td>\n",
              "      <td>0.5</td>\n",
              "      <td>True</td>\n",
              "      <td>True</td>\n",
              "      <td>True</td>\n",
              "    </tr>\n",
              "    <tr>\n",
              "      <th>7</th>\n",
              "      <td>republican</td>\n",
              "      <td>False</td>\n",
              "      <td>True</td>\n",
              "      <td>False</td>\n",
              "      <td>True</td>\n",
              "      <td>True</td>\n",
              "      <td>True</td>\n",
              "      <td>False</td>\n",
              "      <td>False</td>\n",
              "      <td>False</td>\n",
              "      <td>False</td>\n",
              "      <td>False</td>\n",
              "      <td>False</td>\n",
              "      <td>True</td>\n",
              "      <td>True</td>\n",
              "      <td>0.5</td>\n",
              "      <td>True</td>\n",
              "    </tr>\n",
              "    <tr>\n",
              "      <th>8</th>\n",
              "      <td>republican</td>\n",
              "      <td>False</td>\n",
              "      <td>True</td>\n",
              "      <td>False</td>\n",
              "      <td>True</td>\n",
              "      <td>True</td>\n",
              "      <td>True</td>\n",
              "      <td>False</td>\n",
              "      <td>False</td>\n",
              "      <td>False</td>\n",
              "      <td>False</td>\n",
              "      <td>False</td>\n",
              "      <td>True</td>\n",
              "      <td>True</td>\n",
              "      <td>True</td>\n",
              "      <td>False</td>\n",
              "      <td>True</td>\n",
              "    </tr>\n",
              "    <tr>\n",
              "      <th>9</th>\n",
              "      <td>democrat</td>\n",
              "      <td>True</td>\n",
              "      <td>True</td>\n",
              "      <td>True</td>\n",
              "      <td>False</td>\n",
              "      <td>False</td>\n",
              "      <td>False</td>\n",
              "      <td>True</td>\n",
              "      <td>True</td>\n",
              "      <td>True</td>\n",
              "      <td>False</td>\n",
              "      <td>False</td>\n",
              "      <td>False</td>\n",
              "      <td>False</td>\n",
              "      <td>False</td>\n",
              "      <td>0.5</td>\n",
              "      <td>0.5</td>\n",
              "    </tr>\n",
              "    <tr>\n",
              "      <th>10</th>\n",
              "      <td>republican</td>\n",
              "      <td>False</td>\n",
              "      <td>True</td>\n",
              "      <td>False</td>\n",
              "      <td>True</td>\n",
              "      <td>True</td>\n",
              "      <td>False</td>\n",
              "      <td>False</td>\n",
              "      <td>False</td>\n",
              "      <td>False</td>\n",
              "      <td>False</td>\n",
              "      <td>0.5</td>\n",
              "      <td>0.5</td>\n",
              "      <td>True</td>\n",
              "      <td>True</td>\n",
              "      <td>False</td>\n",
              "      <td>False</td>\n",
              "    </tr>\n",
              "    <tr>\n",
              "      <th>11</th>\n",
              "      <td>republican</td>\n",
              "      <td>False</td>\n",
              "      <td>True</td>\n",
              "      <td>False</td>\n",
              "      <td>True</td>\n",
              "      <td>True</td>\n",
              "      <td>True</td>\n",
              "      <td>False</td>\n",
              "      <td>False</td>\n",
              "      <td>False</td>\n",
              "      <td>False</td>\n",
              "      <td>True</td>\n",
              "      <td>0.5</td>\n",
              "      <td>True</td>\n",
              "      <td>True</td>\n",
              "      <td>0.5</td>\n",
              "      <td>0.5</td>\n",
              "    </tr>\n",
              "    <tr>\n",
              "      <th>12</th>\n",
              "      <td>democrat</td>\n",
              "      <td>False</td>\n",
              "      <td>True</td>\n",
              "      <td>True</td>\n",
              "      <td>False</td>\n",
              "      <td>False</td>\n",
              "      <td>False</td>\n",
              "      <td>True</td>\n",
              "      <td>True</td>\n",
              "      <td>True</td>\n",
              "      <td>False</td>\n",
              "      <td>False</td>\n",
              "      <td>False</td>\n",
              "      <td>True</td>\n",
              "      <td>False</td>\n",
              "      <td>0.5</td>\n",
              "      <td>0.5</td>\n",
              "    </tr>\n",
              "    <tr>\n",
              "      <th>13</th>\n",
              "      <td>democrat</td>\n",
              "      <td>True</td>\n",
              "      <td>True</td>\n",
              "      <td>True</td>\n",
              "      <td>False</td>\n",
              "      <td>False</td>\n",
              "      <td>True</td>\n",
              "      <td>True</td>\n",
              "      <td>True</td>\n",
              "      <td>0.5</td>\n",
              "      <td>True</td>\n",
              "      <td>True</td>\n",
              "      <td>0.5</td>\n",
              "      <td>False</td>\n",
              "      <td>False</td>\n",
              "      <td>True</td>\n",
              "      <td>0.5</td>\n",
              "    </tr>\n",
              "    <tr>\n",
              "      <th>14</th>\n",
              "      <td>republican</td>\n",
              "      <td>False</td>\n",
              "      <td>True</td>\n",
              "      <td>False</td>\n",
              "      <td>True</td>\n",
              "      <td>True</td>\n",
              "      <td>True</td>\n",
              "      <td>False</td>\n",
              "      <td>False</td>\n",
              "      <td>False</td>\n",
              "      <td>False</td>\n",
              "      <td>False</td>\n",
              "      <td>True</td>\n",
              "      <td>0.5</td>\n",
              "      <td>0.5</td>\n",
              "      <td>False</td>\n",
              "      <td>0.5</td>\n",
              "    </tr>\n",
              "    <tr>\n",
              "      <th>15</th>\n",
              "      <td>republican</td>\n",
              "      <td>False</td>\n",
              "      <td>True</td>\n",
              "      <td>False</td>\n",
              "      <td>True</td>\n",
              "      <td>True</td>\n",
              "      <td>True</td>\n",
              "      <td>False</td>\n",
              "      <td>False</td>\n",
              "      <td>False</td>\n",
              "      <td>True</td>\n",
              "      <td>False</td>\n",
              "      <td>True</td>\n",
              "      <td>True</td>\n",
              "      <td>0.5</td>\n",
              "      <td>False</td>\n",
              "      <td>0.5</td>\n",
              "    </tr>\n",
              "    <tr>\n",
              "      <th>16</th>\n",
              "      <td>democrat</td>\n",
              "      <td>True</td>\n",
              "      <td>False</td>\n",
              "      <td>True</td>\n",
              "      <td>False</td>\n",
              "      <td>False</td>\n",
              "      <td>True</td>\n",
              "      <td>False</td>\n",
              "      <td>True</td>\n",
              "      <td>0.5</td>\n",
              "      <td>True</td>\n",
              "      <td>True</td>\n",
              "      <td>True</td>\n",
              "      <td>0.5</td>\n",
              "      <td>False</td>\n",
              "      <td>False</td>\n",
              "      <td>True</td>\n",
              "    </tr>\n",
              "    <tr>\n",
              "      <th>17</th>\n",
              "      <td>democrat</td>\n",
              "      <td>True</td>\n",
              "      <td>0.5</td>\n",
              "      <td>True</td>\n",
              "      <td>False</td>\n",
              "      <td>False</td>\n",
              "      <td>False</td>\n",
              "      <td>True</td>\n",
              "      <td>True</td>\n",
              "      <td>True</td>\n",
              "      <td>False</td>\n",
              "      <td>False</td>\n",
              "      <td>False</td>\n",
              "      <td>True</td>\n",
              "      <td>False</td>\n",
              "      <td>True</td>\n",
              "      <td>True</td>\n",
              "    </tr>\n",
              "    <tr>\n",
              "      <th>18</th>\n",
              "      <td>republican</td>\n",
              "      <td>False</td>\n",
              "      <td>True</td>\n",
              "      <td>False</td>\n",
              "      <td>True</td>\n",
              "      <td>True</td>\n",
              "      <td>True</td>\n",
              "      <td>False</td>\n",
              "      <td>False</td>\n",
              "      <td>False</td>\n",
              "      <td>False</td>\n",
              "      <td>False</td>\n",
              "      <td>0.5</td>\n",
              "      <td>True</td>\n",
              "      <td>True</td>\n",
              "      <td>False</td>\n",
              "      <td>False</td>\n",
              "    </tr>\n",
              "    <tr>\n",
              "      <th>19</th>\n",
              "      <td>democrat</td>\n",
              "      <td>True</td>\n",
              "      <td>True</td>\n",
              "      <td>True</td>\n",
              "      <td>False</td>\n",
              "      <td>False</td>\n",
              "      <td>False</td>\n",
              "      <td>True</td>\n",
              "      <td>True</td>\n",
              "      <td>True</td>\n",
              "      <td>False</td>\n",
              "      <td>True</td>\n",
              "      <td>False</td>\n",
              "      <td>False</td>\n",
              "      <td>False</td>\n",
              "      <td>True</td>\n",
              "      <td>True</td>\n",
              "    </tr>\n",
              "  </tbody>\n",
              "</table>\n",
              "</div>"
            ],
            "text/plain": [
              "         party  ... export_administration_act_south_africa\n",
              "0   republican  ...                                   True\n",
              "1   republican  ...                                    0.5\n",
              "2     democrat  ...                                  False\n",
              "3     democrat  ...                                   True\n",
              "4     democrat  ...                                   True\n",
              "5     democrat  ...                                   True\n",
              "6     democrat  ...                                   True\n",
              "7   republican  ...                                   True\n",
              "8   republican  ...                                   True\n",
              "9     democrat  ...                                    0.5\n",
              "10  republican  ...                                  False\n",
              "11  republican  ...                                    0.5\n",
              "12    democrat  ...                                    0.5\n",
              "13    democrat  ...                                    0.5\n",
              "14  republican  ...                                    0.5\n",
              "15  republican  ...                                    0.5\n",
              "16    democrat  ...                                   True\n",
              "17    democrat  ...                                   True\n",
              "18  republican  ...                                  False\n",
              "19    democrat  ...                                   True\n",
              "\n",
              "[20 rows x 17 columns]"
            ]
          },
          "metadata": {
            "tags": []
          },
          "execution_count": 14
        }
      ]
    },
    {
      "cell_type": "markdown",
      "metadata": {
        "id": "34feluogh2gc",
        "colab_type": "text"
      },
      "source": [
        "Just taking a quick look at these first 20 rows, I hypothesize the following:\n",
        "\n",
        "Democrats vote \"Yes\" more than Republicans on: handicapped infants; adoption of the budget resolution; anti-satellite test ban; aid to nicaraguan contras; mx missile; synfuels corportion cutback; duty-free exports; export administration act south africa\n",
        "\n",
        "Republicans vote \"Yes\" more than Democrats on: physician fee freeze; el salvador aid; religious groups in schools; superfund right to use; crime\n",
        "\n",
        "They vote about the same on: water project; immigration; education spending"
      ]
    },
    {
      "cell_type": "markdown",
      "metadata": {
        "id": "4chers4bvctA",
        "colab_type": "text"
      },
      "source": [
        "In all these 2-sample T-Tests, the null hypothesis is that Democrats and Republicans voted the same."
      ]
    },
    {
      "cell_type": "code",
      "metadata": {
        "id": "6sWokAMCi0_q",
        "colab_type": "code",
        "colab": {
          "base_uri": "https://localhost:8080/",
          "height": 224
        },
        "outputId": "10f7674d-d911-4269-b527-e0a328274676"
      },
      "source": [
        "dem = df[df['party'] == 'democrat']\n",
        "rep = df[df['party'] == 'republican']\n",
        "\n",
        "dem.head()"
      ],
      "execution_count": 15,
      "outputs": [
        {
          "output_type": "execute_result",
          "data": {
            "text/html": [
              "<div>\n",
              "<style scoped>\n",
              "    .dataframe tbody tr th:only-of-type {\n",
              "        vertical-align: middle;\n",
              "    }\n",
              "\n",
              "    .dataframe tbody tr th {\n",
              "        vertical-align: top;\n",
              "    }\n",
              "\n",
              "    .dataframe thead th {\n",
              "        text-align: right;\n",
              "    }\n",
              "</style>\n",
              "<table border=\"1\" class=\"dataframe\">\n",
              "  <thead>\n",
              "    <tr style=\"text-align: right;\">\n",
              "      <th></th>\n",
              "      <th>party</th>\n",
              "      <th>handicapped_infants</th>\n",
              "      <th>water_project_cost_sharing</th>\n",
              "      <th>adoption_of_the_budget_resolution</th>\n",
              "      <th>physician_fee_freeze</th>\n",
              "      <th>el_salvador_aid</th>\n",
              "      <th>religious_groups_in_schools</th>\n",
              "      <th>anti_satellite_test_ban</th>\n",
              "      <th>aid_to_nicaraguan_contras</th>\n",
              "      <th>mx_missile</th>\n",
              "      <th>immigration</th>\n",
              "      <th>synfuels_corporation_cutback</th>\n",
              "      <th>education_spending</th>\n",
              "      <th>superfund_right_to_sue</th>\n",
              "      <th>crime</th>\n",
              "      <th>duty_free_exports</th>\n",
              "      <th>export_administration_act_south_africa</th>\n",
              "    </tr>\n",
              "  </thead>\n",
              "  <tbody>\n",
              "    <tr>\n",
              "      <th>2</th>\n",
              "      <td>democrat</td>\n",
              "      <td>0.5</td>\n",
              "      <td>True</td>\n",
              "      <td>True</td>\n",
              "      <td>0.5</td>\n",
              "      <td>True</td>\n",
              "      <td>True</td>\n",
              "      <td>False</td>\n",
              "      <td>False</td>\n",
              "      <td>False</td>\n",
              "      <td>False</td>\n",
              "      <td>True</td>\n",
              "      <td>False</td>\n",
              "      <td>True</td>\n",
              "      <td>True</td>\n",
              "      <td>False</td>\n",
              "      <td>False</td>\n",
              "    </tr>\n",
              "    <tr>\n",
              "      <th>3</th>\n",
              "      <td>democrat</td>\n",
              "      <td>False</td>\n",
              "      <td>True</td>\n",
              "      <td>True</td>\n",
              "      <td>False</td>\n",
              "      <td>0.5</td>\n",
              "      <td>True</td>\n",
              "      <td>False</td>\n",
              "      <td>False</td>\n",
              "      <td>False</td>\n",
              "      <td>False</td>\n",
              "      <td>True</td>\n",
              "      <td>False</td>\n",
              "      <td>True</td>\n",
              "      <td>False</td>\n",
              "      <td>False</td>\n",
              "      <td>True</td>\n",
              "    </tr>\n",
              "    <tr>\n",
              "      <th>4</th>\n",
              "      <td>democrat</td>\n",
              "      <td>True</td>\n",
              "      <td>True</td>\n",
              "      <td>True</td>\n",
              "      <td>False</td>\n",
              "      <td>True</td>\n",
              "      <td>True</td>\n",
              "      <td>False</td>\n",
              "      <td>False</td>\n",
              "      <td>False</td>\n",
              "      <td>False</td>\n",
              "      <td>True</td>\n",
              "      <td>0.5</td>\n",
              "      <td>True</td>\n",
              "      <td>True</td>\n",
              "      <td>True</td>\n",
              "      <td>True</td>\n",
              "    </tr>\n",
              "    <tr>\n",
              "      <th>5</th>\n",
              "      <td>democrat</td>\n",
              "      <td>False</td>\n",
              "      <td>True</td>\n",
              "      <td>True</td>\n",
              "      <td>False</td>\n",
              "      <td>True</td>\n",
              "      <td>True</td>\n",
              "      <td>False</td>\n",
              "      <td>False</td>\n",
              "      <td>False</td>\n",
              "      <td>False</td>\n",
              "      <td>False</td>\n",
              "      <td>False</td>\n",
              "      <td>True</td>\n",
              "      <td>True</td>\n",
              "      <td>True</td>\n",
              "      <td>True</td>\n",
              "    </tr>\n",
              "    <tr>\n",
              "      <th>6</th>\n",
              "      <td>democrat</td>\n",
              "      <td>False</td>\n",
              "      <td>True</td>\n",
              "      <td>False</td>\n",
              "      <td>True</td>\n",
              "      <td>True</td>\n",
              "      <td>True</td>\n",
              "      <td>False</td>\n",
              "      <td>False</td>\n",
              "      <td>False</td>\n",
              "      <td>False</td>\n",
              "      <td>False</td>\n",
              "      <td>False</td>\n",
              "      <td>0.5</td>\n",
              "      <td>True</td>\n",
              "      <td>True</td>\n",
              "      <td>True</td>\n",
              "    </tr>\n",
              "  </tbody>\n",
              "</table>\n",
              "</div>"
            ],
            "text/plain": [
              "      party  ... export_administration_act_south_africa\n",
              "2  democrat  ...                                  False\n",
              "3  democrat  ...                                   True\n",
              "4  democrat  ...                                   True\n",
              "5  democrat  ...                                   True\n",
              "6  democrat  ...                                   True\n",
              "\n",
              "[5 rows x 17 columns]"
            ]
          },
          "metadata": {
            "tags": []
          },
          "execution_count": 15
        }
      ]
    },
    {
      "cell_type": "code",
      "metadata": {
        "id": "DjB1BBoSg-Md",
        "colab_type": "code",
        "colab": {
          "base_uri": "https://localhost:8080/",
          "height": 34
        },
        "outputId": "a3674556-e3f8-4510-a20b-82aed1ec1f57"
      },
      "source": [
        "from scipy.stats import ttest_ind, ttest_ind_from_stats, ttest_rel\n",
        "\n",
        "# First, I'll test the mx missile (since I'm actually curious about it).\n",
        "\n",
        "test1 = ttest_ind(dem['mx_missile'], rep['mx_missile'])\n",
        "test1"
      ],
      "execution_count": 25,
      "outputs": [
        {
          "output_type": "execute_result",
          "data": {
            "text/plain": [
              "Ttest_indResult(statistic=16.326540222505376, pvalue=4.863267267890594e-47)"
            ]
          },
          "metadata": {
            "tags": []
          },
          "execution_count": 25
        }
      ]
    },
    {
      "cell_type": "markdown",
      "metadata": {
        "id": "hAhEk0MJj2do",
        "colab_type": "text"
      },
      "source": [
        "The p-statistic is positive and the p-value is much lower than 0.01, so the null hypothesis is rejected; Democrats did indeed support the MX Missile more than Republicans to a statistically significant degree."
      ]
    },
    {
      "cell_type": "code",
      "metadata": {
        "id": "j7FuCWiRfY3S",
        "colab_type": "code",
        "colab": {
          "base_uri": "https://localhost:8080/",
          "height": 34
        },
        "outputId": "602e852f-0814-4b73-ee3e-ef9129be1f4a"
      },
      "source": [
        "# Now I'll try \"el salvador aid\" for a potential issue that Republicans support more than Democrats.\n",
        "\n",
        "test2 = ttest_ind(rep['el_salvador_aid'], dem['el_salvador_aid'])\n",
        "test2"
      ],
      "execution_count": 26,
      "outputs": [
        {
          "output_type": "execute_result",
          "data": {
            "text/plain": [
              "Ttest_indResult(statistic=20.89561712304093, pvalue=1.4659659186473623e-67)"
            ]
          },
          "metadata": {
            "tags": []
          },
          "execution_count": 26
        }
      ]
    },
    {
      "cell_type": "markdown",
      "metadata": {
        "id": "PfsKJ5VPss71",
        "colab_type": "text"
      },
      "source": [
        "Once more, the p-statistic is positive and the p-value is much lower than 0.01, so the null hypothesis is rejected; Republicans did indeed support aid to El Salvador more than Democrats to a statistically significant degree."
      ]
    },
    {
      "cell_type": "code",
      "metadata": {
        "id": "7fiYtL3tsq6v",
        "colab_type": "code",
        "colab": {
          "base_uri": "https://localhost:8080/",
          "height": 34
        },
        "outputId": "6fdee542-a283-4bf4-8fdc-d62aab5139da"
      },
      "source": [
        "# Finally, let's look at education spending.\n",
        "\n",
        "test3 = ttest_ind(dem['education_spending'], rep['education_spending'])\n",
        "test3"
      ],
      "execution_count": 27,
      "outputs": [
        {
          "output_type": "execute_result",
          "data": {
            "text/plain": [
              "Ttest_indResult(statistic=-19.74462398332552, pvalue=2.383628490538625e-62)"
            ]
          },
          "metadata": {
            "tags": []
          },
          "execution_count": 27
        }
      ]
    },
    {
      "cell_type": "markdown",
      "metadata": {
        "id": "F24bpeAFtC7t",
        "colab_type": "text"
      },
      "source": [
        "My initial hypothesis was wrong! Republicans supported this more than Democrats. Let's try something else."
      ]
    },
    {
      "cell_type": "code",
      "metadata": {
        "id": "6jJj-1mNtAnT",
        "colab_type": "code",
        "colab": {
          "base_uri": "https://localhost:8080/",
          "height": 34
        },
        "outputId": "6c9b1734-83c9-4caf-fe62-7e227a03822e"
      },
      "source": [
        "test4 = ttest_ind(dem['immigration'], rep['immigration'])\n",
        "test4"
      ],
      "execution_count": 28,
      "outputs": [
        {
          "output_type": "execute_result",
          "data": {
            "text/plain": [
              "Ttest_indResult(statistic=-1.7350166356866625, pvalue=0.083449397203073)"
            ]
          },
          "metadata": {
            "tags": []
          },
          "execution_count": 28
        }
      ]
    },
    {
      "cell_type": "markdown",
      "metadata": {
        "id": "u01wvkhatSMF",
        "colab_type": "text"
      },
      "source": [
        "This p-value is much higher than in previous cases, but it's just short of 0.1. How about the water project, then?"
      ]
    },
    {
      "cell_type": "code",
      "metadata": {
        "id": "ALZZcEiGtLgN",
        "colab_type": "code",
        "colab": {
          "base_uri": "https://localhost:8080/",
          "height": 34
        },
        "outputId": "f6662c6c-5c4d-4607-bdf0-a0b3fe903c50"
      },
      "source": [
        "test5 = ttest_ind(dem['water_project_cost_sharing'], rep['water_project_cost_sharing'])\n",
        "test5"
      ],
      "execution_count": 29,
      "outputs": [
        {
          "output_type": "execute_result",
          "data": {
            "text/plain": [
              "Ttest_indResult(statistic=-0.0876455988442189, pvalue=0.9301988772663681)"
            ]
          },
          "metadata": {
            "tags": []
          },
          "execution_count": 29
        }
      ]
    },
    {
      "cell_type": "markdown",
      "metadata": {
        "id": "z7AWTKw4tgdM",
        "colab_type": "text"
      },
      "source": [
        "An extremely high p-value! I fail to reject the null hypothesis."
      ]
    },
    {
      "cell_type": "markdown",
      "metadata": {
        "id": "wkSfT16ItoWg",
        "colab_type": "text"
      },
      "source": [
        "### Results:\n",
        "\n",
        "Democrats supported **the MX Missile** more than Republicans to a statistically significant degree.\n",
        "\n",
        "Republicans supported **aid to El Salvador** more than Democrats to a statistically significant degree.\n",
        "\n",
        "Democratic and Republican support for **water project cost sharing** did not exhibit a statistically significant difference."
      ]
    },
    {
      "cell_type": "markdown",
      "metadata": {
        "id": "pr6_t74juDlt",
        "colab_type": "text"
      },
      "source": [
        "The following was added to this assignment:\n",
        "\n",
        "-You also practice some 1-sample t-tests\n",
        "\n",
        "-You try and create some kind of a visualization that communicates the results of your hypothesis tests. This can be as simple as a histogram of the p-values or the t-statistics."
      ]
    },
    {
      "cell_type": "code",
      "metadata": {
        "id": "Ei5tf4ultfPm",
        "colab_type": "code",
        "colab": {
          "base_uri": "https://localhost:8080/",
          "height": 34
        },
        "outputId": "0cbefe7d-4672-41a9-db37-0ef822e0e91c"
      },
      "source": [
        "from scipy.stats import ttest_1samp\n",
        "\n",
        "ttest_1samp(rep['synfuels_corporation_cutback'], 0)\n",
        "\n",
        "# Due to the low p-value, I reject the null hypothesis that Republican support for\n",
        "# the synfuels corporation cutback was 0, and conclude that it was not 0."
      ],
      "execution_count": 22,
      "outputs": [
        {
          "output_type": "execute_result",
          "data": {
            "text/plain": [
              "Ttest_1sampResult(statistic=5.775277960563392, pvalue=3.663862845744906e-08)"
            ]
          },
          "metadata": {
            "tags": []
          },
          "execution_count": 22
        }
      ]
    },
    {
      "cell_type": "code",
      "metadata": {
        "id": "-vJBgQewuz52",
        "colab_type": "code",
        "colab": {
          "base_uri": "https://localhost:8080/",
          "height": 34
        },
        "outputId": "3b95c50a-0dc1-47c6-9177-ed5cb5c71402"
      },
      "source": [
        "ttest_1samp(dem['crime'], .5)\n",
        "\n",
        "# Due to the low p-value, I reject the null hypothesis that Democratic support for\n",
        "# the \"crime\" measure was 50% and conclude that it was not 50% (specifically, it was lower)."
      ],
      "execution_count": 23,
      "outputs": [
        {
          "output_type": "execute_result",
          "data": {
            "text/plain": [
              "Ttest_1sampResult(statistic=-5.015709886862045, pvalue=9.668863754086526e-07)"
            ]
          },
          "metadata": {
            "tags": []
          },
          "execution_count": 23
        }
      ]
    },
    {
      "cell_type": "markdown",
      "metadata": {
        "id": "yL0Q08JzwXDv",
        "colab_type": "text"
      },
      "source": [
        "###Visualization:"
      ]
    },
    {
      "cell_type": "code",
      "metadata": {
        "id": "bhqM_4ZyvBmS",
        "colab_type": "code",
        "colab": {
          "base_uri": "https://localhost:8080/",
          "height": 204
        },
        "outputId": "e41c002d-21bc-4ea5-d651-9d774c2ffebc"
      },
      "source": [
        "tests = [test1, test2, test3, test4, test5]\n",
        "temp = []\n",
        "\n",
        "for test in tests:\n",
        "  temp.append(pd.DataFrame(test).transpose()) # Transpose so I can have only two columns.\n",
        "\n",
        "data = pd.concat(temp, ignore_index=True) # Get all my data into one dataframe.\n",
        "\n",
        "data.at[1,0] = -20.895617 # Change this value to negative so the positives and negatives are consistent.\n",
        "                     \n",
        "data"
      ],
      "execution_count": 70,
      "outputs": [
        {
          "output_type": "execute_result",
          "data": {
            "text/html": [
              "<div>\n",
              "<style scoped>\n",
              "    .dataframe tbody tr th:only-of-type {\n",
              "        vertical-align: middle;\n",
              "    }\n",
              "\n",
              "    .dataframe tbody tr th {\n",
              "        vertical-align: top;\n",
              "    }\n",
              "\n",
              "    .dataframe thead th {\n",
              "        text-align: right;\n",
              "    }\n",
              "</style>\n",
              "<table border=\"1\" class=\"dataframe\">\n",
              "  <thead>\n",
              "    <tr style=\"text-align: right;\">\n",
              "      <th></th>\n",
              "      <th>0</th>\n",
              "      <th>1</th>\n",
              "    </tr>\n",
              "  </thead>\n",
              "  <tbody>\n",
              "    <tr>\n",
              "      <th>0</th>\n",
              "      <td>16.326540</td>\n",
              "      <td>4.863267e-47</td>\n",
              "    </tr>\n",
              "    <tr>\n",
              "      <th>1</th>\n",
              "      <td>-20.895617</td>\n",
              "      <td>1.465966e-67</td>\n",
              "    </tr>\n",
              "    <tr>\n",
              "      <th>2</th>\n",
              "      <td>-19.744624</td>\n",
              "      <td>2.383628e-62</td>\n",
              "    </tr>\n",
              "    <tr>\n",
              "      <th>3</th>\n",
              "      <td>-1.735017</td>\n",
              "      <td>8.344940e-02</td>\n",
              "    </tr>\n",
              "    <tr>\n",
              "      <th>4</th>\n",
              "      <td>-0.087646</td>\n",
              "      <td>9.301989e-01</td>\n",
              "    </tr>\n",
              "  </tbody>\n",
              "</table>\n",
              "</div>"
            ],
            "text/plain": [
              "           0             1\n",
              "0  16.326540  4.863267e-47\n",
              "1 -20.895617  1.465966e-67\n",
              "2 -19.744624  2.383628e-62\n",
              "3  -1.735017  8.344940e-02\n",
              "4  -0.087646  9.301989e-01"
            ]
          },
          "metadata": {
            "tags": []
          },
          "execution_count": 70
        }
      ]
    },
    {
      "cell_type": "code",
      "metadata": {
        "id": "qXbDwBEDzzlN",
        "colab_type": "code",
        "colab": {
          "base_uri": "https://localhost:8080/",
          "height": 283
        },
        "outputId": "d4e94d34-debb-4a59-a3b8-58222513a88a"
      },
      "source": [
        "from matplotlib.collections import PatchCollection\n",
        "\n",
        "fig, ax = plt.subplots()\n",
        "\n",
        "scatter = ax.scatter(data[0], data[1], c=['C1', 'C2', 'C3', 'C4', 'C5'])\n",
        "ax.axhline(y=0.05, color='black');\n",
        "ax.set_xlabel('T-Statistics: Positive Means Democrats Voted Yes More Often Than Republicans')\n",
        "ax.set_ylabel('P-Values')\n",
        "ax.text(x=-22.5, y=0.1, s='Line of Statistical Significance (0.05)');\n",
        "\n",
        "# I tried to make a legend but ran into problems..."
      ],
      "execution_count": 90,
      "outputs": [
        {
          "output_type": "display_data",
          "data": {
            "image/png": "[encoded data removed]",
            "text/plain": [
              "<Figure size 432x288 with 1 Axes>"
            ]
          },
          "metadata": {
            "tags": []
          }
        }
      ]
    },
    {
      "cell_type": "markdown",
      "metadata": {
        "id": "4u-K9r9p93hz",
        "colab_type": "text"
      },
      "source": [
        "### Stretch Goal 1:"
      ]
    },
    {
      "cell_type": "code",
      "metadata": {
        "id": "nOWB-Nuf3sl_",
        "colab_type": "code",
        "colab": {
          "base_uri": "https://localhost:8080/",
          "height": 51
        },
        "outputId": "bd579dc7-8502-4d5e-8c5c-cf0037147825"
      },
      "source": [
        "def party_ttest(vote, rep_first=False):\n",
        "  if rep_first==False:\n",
        "    return ttest_ind(dem[vote], rep[vote])\n",
        "  else:\n",
        "    return ttest_ind(rep[vote], dem[vote])\n",
        "\n",
        "print(party_ttest('water_project_cost_sharing'))\n",
        "print(party_ttest('el_salvador_aid', rep_first=True))"
      ],
      "execution_count": 95,
      "outputs": [
        {
          "output_type": "stream",
          "text": [
            "Ttest_indResult(statistic=-0.0876455988442189, pvalue=0.9301988772663681)\n",
            "Ttest_indResult(statistic=20.89561712304093, pvalue=1.4659659186473623e-67)\n"
          ],
          "name": "stdout"
        }
      ]
    },
    {
      "cell_type": "code",
      "metadata": {
        "id": "eFcivEn5-LHU",
        "colab_type": "code",
        "colab": {
          "base_uri": "https://localhost:8080/",
          "height": 85
        },
        "outputId": "82a164be-bcc2-44a8-c594-4e0effc30785"
      },
      "source": [
        "def party_ttest_1samp(party, vote, null_hyp):\n",
        "  if party=='Democrat':\n",
        "    return ttest_1samp(dem[vote], null_hyp)\n",
        "  elif party=='Republican':\n",
        "    return ttest_1samp(rep[vote], null_hyp)\n",
        "  else:\n",
        "    print('Please enter the party as \"Democrat\" or \"Republican.\"')\n",
        "    \n",
        "print(party_ttest_1samp('Republican', 'synfuels_corporation_cutback', 0))\n",
        "print(party_ttest_1samp('Democrat', 'crime', 0.5))\n",
        "print(party_ttest_1samp('dem', 'crime', 0.5))"
      ],
      "execution_count": 98,
      "outputs": [
        {
          "output_type": "stream",
          "text": [
            "Ttest_1sampResult(statistic=5.775277960563392, pvalue=3.663862845744906e-08)\n",
            "Ttest_1sampResult(statistic=-5.015709886862045, pvalue=9.668863754086526e-07)\n",
            "Please enter the party as \"Democrat\" or \"Republican.\"\n",
            "None\n"
          ],
          "name": "stdout"
        }
      ]
    },
    {
      "cell_type": "markdown",
      "metadata": {
        "id": "6YOfws81B1Rf",
        "colab_type": "text"
      },
      "source": [
        "### Stretch Goal 2:"
      ]
    },
    {
      "cell_type": "markdown",
      "metadata": {
        "id": "cEqeNTg9B8Vr",
        "colab_type": "text"
      },
      "source": [
        "(To be honest, while I have an idea, I still haven't 100% decided on my project topic or dataset. But I'll use what I've got for now.)\n",
        "\n",
        "Project Topic: What does it mean to forecast a probability for an individual event, such as an election?\n",
        "\n",
        "Argument: Forecasting an election result is meaningful in some senses, but giving it a specific numerical probability is always arbitrary, because it's a unique event that cannot in principle be repeated.\n",
        "\n",
        "Objection: The accuracy of a predictive method can be tested by doing calibration on *all* predictions done with that method.\n",
        "\n",
        "Response: Calibration is only meaningful if we choose a specific subset of predictions to collect together and calibrate, and that choice is arbitrary when it comes to unique events like elections.\n",
        "\n",
        "To show this, **I make the following prediction:** There is a larger (statistical) difference between 538's projection error and an unskilled error (here unskilled means guessing Trump will win 50% of the vote in all states) when we look at *only the general election*, versus when we look at *only elections involving Trump*.\n",
        "\n",
        "In the course of this objection and response, I will use 538's dataset of their predictions (and the actual outcomes of the forecasted events): https://github.com/fivethirtyeight/checking-our-work-data"
      ]
    },
    {
      "cell_type": "code",
      "metadata": {
        "id": "80NwcKfMQAfJ",
        "colab_type": "code",
        "colab": {
          "base_uri": "https://localhost:8080/",
          "height": 411
        },
        "outputId": "43b1e66d-076a-4718-cd3e-6bfe5fed5455"
      },
      "source": [
        "primary = pd.read_csv('https://raw.githubusercontent.com/fivethirtyeight/checking-our-work-data/master/presidential_primaries.csv')\n",
        "\n",
        "general = pd.read_csv('https://raw.githubusercontent.com/fivethirtyeight/checking-our-work-data/master/presidential_elections.csv')\n",
        "\n",
        "print(primary.shape)\n",
        "\n",
        "primary.head()"
      ],
      "execution_count": 136,
      "outputs": [
        {
          "output_type": "stream",
          "text": [
            "(9945, 13)\n"
          ],
          "name": "stdout"
        },
        {
          "output_type": "execute_result",
          "data": {
            "text/html": [
              "<div>\n",
              "<style scoped>\n",
              "    .dataframe tbody tr th:only-of-type {\n",
              "        vertical-align: middle;\n",
              "    }\n",
              "\n",
              "    .dataframe tbody tr th {\n",
              "        vertical-align: top;\n",
              "    }\n",
              "\n",
              "    .dataframe thead th {\n",
              "        text-align: right;\n",
              "    }\n",
              "</style>\n",
              "<table border=\"1\" class=\"dataframe\">\n",
              "  <thead>\n",
              "    <tr style=\"text-align: right;\">\n",
              "      <th></th>\n",
              "      <th>year</th>\n",
              "      <th>office</th>\n",
              "      <th>state</th>\n",
              "      <th>special</th>\n",
              "      <th>election_date</th>\n",
              "      <th>forecast_date</th>\n",
              "      <th>forecast_type</th>\n",
              "      <th>party</th>\n",
              "      <th>candidate</th>\n",
              "      <th>projected_voteshare</th>\n",
              "      <th>actual_voteshare</th>\n",
              "      <th>probwin</th>\n",
              "      <th>probwin_outcome</th>\n",
              "    </tr>\n",
              "  </thead>\n",
              "  <tbody>\n",
              "    <tr>\n",
              "      <th>0</th>\n",
              "      <td>2016</td>\n",
              "      <td>Democratic presidential primary</td>\n",
              "      <td>Alabama</td>\n",
              "      <td>NaN</td>\n",
              "      <td>2016-03-01</td>\n",
              "      <td>2016-03-01</td>\n",
              "      <td>polls-only</td>\n",
              "      <td>D</td>\n",
              "      <td>Sanders</td>\n",
              "      <td>25.698812</td>\n",
              "      <td>19.17</td>\n",
              "      <td>0.0</td>\n",
              "      <td>0</td>\n",
              "    </tr>\n",
              "    <tr>\n",
              "      <th>1</th>\n",
              "      <td>2016</td>\n",
              "      <td>Democratic presidential primary</td>\n",
              "      <td>Alabama</td>\n",
              "      <td>NaN</td>\n",
              "      <td>2016-03-01</td>\n",
              "      <td>2016-03-01</td>\n",
              "      <td>polls-plus</td>\n",
              "      <td>D</td>\n",
              "      <td>Sanders</td>\n",
              "      <td>23.196432</td>\n",
              "      <td>19.17</td>\n",
              "      <td>0.0</td>\n",
              "      <td>0</td>\n",
              "    </tr>\n",
              "    <tr>\n",
              "      <th>2</th>\n",
              "      <td>2016</td>\n",
              "      <td>Democratic presidential primary</td>\n",
              "      <td>Alabama</td>\n",
              "      <td>NaN</td>\n",
              "      <td>2016-03-01</td>\n",
              "      <td>2016-03-01</td>\n",
              "      <td>polls-only</td>\n",
              "      <td>D</td>\n",
              "      <td>Clinton</td>\n",
              "      <td>71.369629</td>\n",
              "      <td>77.88</td>\n",
              "      <td>1.0</td>\n",
              "      <td>1</td>\n",
              "    </tr>\n",
              "    <tr>\n",
              "      <th>3</th>\n",
              "      <td>2016</td>\n",
              "      <td>Democratic presidential primary</td>\n",
              "      <td>Alabama</td>\n",
              "      <td>NaN</td>\n",
              "      <td>2016-03-01</td>\n",
              "      <td>2016-03-01</td>\n",
              "      <td>polls-plus</td>\n",
              "      <td>D</td>\n",
              "      <td>Clinton</td>\n",
              "      <td>73.872009</td>\n",
              "      <td>77.88</td>\n",
              "      <td>1.0</td>\n",
              "      <td>1</td>\n",
              "    </tr>\n",
              "    <tr>\n",
              "      <th>4</th>\n",
              "      <td>2016</td>\n",
              "      <td>Democratic presidential primary</td>\n",
              "      <td>Alabama</td>\n",
              "      <td>NaN</td>\n",
              "      <td>2016-03-01</td>\n",
              "      <td>2016-02-29</td>\n",
              "      <td>polls-only</td>\n",
              "      <td>D</td>\n",
              "      <td>Sanders</td>\n",
              "      <td>25.699083</td>\n",
              "      <td>19.17</td>\n",
              "      <td>0.0</td>\n",
              "      <td>0</td>\n",
              "    </tr>\n",
              "  </tbody>\n",
              "</table>\n",
              "</div>"
            ],
            "text/plain": [
              "   year                           office  ... probwin  probwin_outcome\n",
              "0  2016  Democratic presidential primary  ...     0.0                0\n",
              "1  2016  Democratic presidential primary  ...     0.0                0\n",
              "2  2016  Democratic presidential primary  ...     1.0                1\n",
              "3  2016  Democratic presidential primary  ...     1.0                1\n",
              "4  2016  Democratic presidential primary  ...     0.0                0\n",
              "\n",
              "[5 rows x 13 columns]"
            ]
          },
          "metadata": {
            "tags": []
          },
          "execution_count": 136
        }
      ]
    },
    {
      "cell_type": "code",
      "metadata": {
        "id": "T1KENNsjQ50c",
        "colab_type": "code",
        "colab": {
          "base_uri": "https://localhost:8080/",
          "height": 241
        },
        "outputId": "56a0a790-81d8-4c52-d2da-efd718327e7a"
      },
      "source": [
        "print(general.shape)\n",
        "\n",
        "general.head()"
      ],
      "execution_count": 137,
      "outputs": [
        {
          "output_type": "stream",
          "text": [
            "(97394, 13)\n"
          ],
          "name": "stdout"
        },
        {
          "output_type": "execute_result",
          "data": {
            "text/html": [
              "<div>\n",
              "<style scoped>\n",
              "    .dataframe tbody tr th:only-of-type {\n",
              "        vertical-align: middle;\n",
              "    }\n",
              "\n",
              "    .dataframe tbody tr th {\n",
              "        vertical-align: top;\n",
              "    }\n",
              "\n",
              "    .dataframe thead th {\n",
              "        text-align: right;\n",
              "    }\n",
              "</style>\n",
              "<table border=\"1\" class=\"dataframe\">\n",
              "  <thead>\n",
              "    <tr style=\"text-align: right;\">\n",
              "      <th></th>\n",
              "      <th>year</th>\n",
              "      <th>office</th>\n",
              "      <th>state</th>\n",
              "      <th>district</th>\n",
              "      <th>election_date</th>\n",
              "      <th>forecast_date</th>\n",
              "      <th>forecast_type</th>\n",
              "      <th>party</th>\n",
              "      <th>candidate</th>\n",
              "      <th>projected_voteshare</th>\n",
              "      <th>actual_voteshare</th>\n",
              "      <th>probwin</th>\n",
              "      <th>probwin_outcome</th>\n",
              "    </tr>\n",
              "  </thead>\n",
              "  <tbody>\n",
              "    <tr>\n",
              "      <th>0</th>\n",
              "      <td>2016</td>\n",
              "      <td>President</td>\n",
              "      <td>AL</td>\n",
              "      <td>NaN</td>\n",
              "      <td>2016-11-08</td>\n",
              "      <td>2016-11-08</td>\n",
              "      <td>polls-plus</td>\n",
              "      <td>R</td>\n",
              "      <td>Trump</td>\n",
              "      <td>58.193710</td>\n",
              "      <td>62.08</td>\n",
              "      <td>0.99915</td>\n",
              "      <td>1</td>\n",
              "    </tr>\n",
              "    <tr>\n",
              "      <th>1</th>\n",
              "      <td>2016</td>\n",
              "      <td>President</td>\n",
              "      <td>AL</td>\n",
              "      <td>NaN</td>\n",
              "      <td>2016-11-08</td>\n",
              "      <td>2016-11-08</td>\n",
              "      <td>polls-plus</td>\n",
              "      <td>D</td>\n",
              "      <td>Clinton</td>\n",
              "      <td>35.841850</td>\n",
              "      <td>34.36</td>\n",
              "      <td>0.00085</td>\n",
              "      <td>0</td>\n",
              "    </tr>\n",
              "    <tr>\n",
              "      <th>2</th>\n",
              "      <td>2016</td>\n",
              "      <td>President</td>\n",
              "      <td>AL</td>\n",
              "      <td>NaN</td>\n",
              "      <td>2016-11-08</td>\n",
              "      <td>2016-11-08</td>\n",
              "      <td>polls-plus</td>\n",
              "      <td>L</td>\n",
              "      <td>Johnson</td>\n",
              "      <td>4.215338</td>\n",
              "      <td>2.09</td>\n",
              "      <td>0.00000</td>\n",
              "      <td>0</td>\n",
              "    </tr>\n",
              "    <tr>\n",
              "      <th>3</th>\n",
              "      <td>2016</td>\n",
              "      <td>President</td>\n",
              "      <td>AK</td>\n",
              "      <td>NaN</td>\n",
              "      <td>2016-11-08</td>\n",
              "      <td>2016-11-08</td>\n",
              "      <td>polls-plus</td>\n",
              "      <td>R</td>\n",
              "      <td>Trump</td>\n",
              "      <td>48.447200</td>\n",
              "      <td>51.28</td>\n",
              "      <td>0.78535</td>\n",
              "      <td>1</td>\n",
              "    </tr>\n",
              "    <tr>\n",
              "      <th>4</th>\n",
              "      <td>2016</td>\n",
              "      <td>President</td>\n",
              "      <td>AK</td>\n",
              "      <td>NaN</td>\n",
              "      <td>2016-11-08</td>\n",
              "      <td>2016-11-08</td>\n",
              "      <td>polls-plus</td>\n",
              "      <td>D</td>\n",
              "      <td>Clinton</td>\n",
              "      <td>40.652500</td>\n",
              "      <td>36.55</td>\n",
              "      <td>0.21435</td>\n",
              "      <td>0</td>\n",
              "    </tr>\n",
              "  </tbody>\n",
              "</table>\n",
              "</div>"
            ],
            "text/plain": [
              "   year     office state  ...  actual_voteshare  probwin probwin_outcome\n",
              "0  2016  President    AL  ...             62.08  0.99915               1\n",
              "1  2016  President    AL  ...             34.36  0.00085               0\n",
              "2  2016  President    AL  ...              2.09  0.00000               0\n",
              "3  2016  President    AK  ...             51.28  0.78535               1\n",
              "4  2016  President    AK  ...             36.55  0.21435               0\n",
              "\n",
              "[5 rows x 13 columns]"
            ]
          },
          "metadata": {
            "tags": []
          },
          "execution_count": 137
        }
      ]
    },
    {
      "cell_type": "code",
      "metadata": {
        "id": "h8viWfRTQPFR",
        "colab_type": "code",
        "colab": {
          "base_uri": "https://localhost:8080/",
          "height": 221
        },
        "outputId": "ca3cf74f-4fd1-4b79-f52e-4ee0683ddfc7"
      },
      "source": [
        "primary0 = primary.drop(['year', 'special', 'election_date', 'forecast_date',\n",
        "                        'forecast_type', 'party'], axis=1)\n",
        "general0 = general.drop(['year', 'district', 'election_date', 'forecast_date',\n",
        "                        'forecast_type', 'party'], axis=1)\n",
        "\n",
        "primary_trump = primary0[primary0['candidate']=='Trump']\n",
        "general_trump = general0[general0['candidate']=='Trump']\n",
        "\n",
        "trump = pd.concat([primary_trump, general_trump])\n",
        "trump = trump.drop(['candidate'], axis=1)\n",
        "trump = trump.replace({'Republican presidential primary': 'Primary', 'President': 'General'})\n",
        "\n",
        "print(trump.shape)\n",
        "trump.head()"
      ],
      "execution_count": 138,
      "outputs": [
        {
          "output_type": "stream",
          "text": [
            "(26998, 6)\n"
          ],
          "name": "stdout"
        },
        {
          "output_type": "execute_result",
          "data": {
            "text/html": [
              "<div>\n",
              "<style scoped>\n",
              "    .dataframe tbody tr th:only-of-type {\n",
              "        vertical-align: middle;\n",
              "    }\n",
              "\n",
              "    .dataframe tbody tr th {\n",
              "        vertical-align: top;\n",
              "    }\n",
              "\n",
              "    .dataframe thead th {\n",
              "        text-align: right;\n",
              "    }\n",
              "</style>\n",
              "<table border=\"1\" class=\"dataframe\">\n",
              "  <thead>\n",
              "    <tr style=\"text-align: right;\">\n",
              "      <th></th>\n",
              "      <th>office</th>\n",
              "      <th>state</th>\n",
              "      <th>projected_voteshare</th>\n",
              "      <th>actual_voteshare</th>\n",
              "      <th>probwin</th>\n",
              "      <th>probwin_outcome</th>\n",
              "    </tr>\n",
              "  </thead>\n",
              "  <tbody>\n",
              "    <tr>\n",
              "      <th>10</th>\n",
              "      <td>Primary</td>\n",
              "      <td>Alabama</td>\n",
              "      <td>43.421524</td>\n",
              "      <td>43.42</td>\n",
              "      <td>0.96195</td>\n",
              "      <td>1</td>\n",
              "    </tr>\n",
              "    <tr>\n",
              "      <th>11</th>\n",
              "      <td>Primary</td>\n",
              "      <td>Alabama</td>\n",
              "      <td>41.426022</td>\n",
              "      <td>43.42</td>\n",
              "      <td>0.94255</td>\n",
              "      <td>1</td>\n",
              "    </tr>\n",
              "    <tr>\n",
              "      <th>20</th>\n",
              "      <td>Primary</td>\n",
              "      <td>Alabama</td>\n",
              "      <td>43.406273</td>\n",
              "      <td>43.42</td>\n",
              "      <td>0.96690</td>\n",
              "      <td>1</td>\n",
              "    </tr>\n",
              "    <tr>\n",
              "      <th>21</th>\n",
              "      <td>Primary</td>\n",
              "      <td>Alabama</td>\n",
              "      <td>41.387596</td>\n",
              "      <td>43.42</td>\n",
              "      <td>0.94810</td>\n",
              "      <td>1</td>\n",
              "    </tr>\n",
              "    <tr>\n",
              "      <th>30</th>\n",
              "      <td>Primary</td>\n",
              "      <td>Alabama</td>\n",
              "      <td>39.055584</td>\n",
              "      <td>43.42</td>\n",
              "      <td>0.85285</td>\n",
              "      <td>1</td>\n",
              "    </tr>\n",
              "  </tbody>\n",
              "</table>\n",
              "</div>"
            ],
            "text/plain": [
              "     office    state  ...  probwin  probwin_outcome\n",
              "10  Primary  Alabama  ...  0.96195                1\n",
              "11  Primary  Alabama  ...  0.94255                1\n",
              "20  Primary  Alabama  ...  0.96690                1\n",
              "21  Primary  Alabama  ...  0.94810                1\n",
              "30  Primary  Alabama  ...  0.85285                1\n",
              "\n",
              "[5 rows x 6 columns]"
            ]
          },
          "metadata": {
            "tags": []
          },
          "execution_count": 138
        }
      ]
    },
    {
      "cell_type": "code",
      "metadata": {
        "id": "Dff3MKcKSntQ",
        "colab_type": "code",
        "colab": {
          "base_uri": "https://localhost:8080/",
          "height": 224
        },
        "outputId": "47f4c5ec-fce2-4ca4-a65e-18d193fda1d1"
      },
      "source": [
        "trump['forecast_error'] = (abs(trump['actual_voteshare'] - trump['projected_voteshare']))\n",
        "trump['unskilled_error'] = (abs(trump['actual_voteshare'] - 50))\n",
        "\n",
        "trump.head()"
      ],
      "execution_count": 139,
      "outputs": [
        {
          "output_type": "execute_result",
          "data": {
            "text/html": [
              "<div>\n",
              "<style scoped>\n",
              "    .dataframe tbody tr th:only-of-type {\n",
              "        vertical-align: middle;\n",
              "    }\n",
              "\n",
              "    .dataframe tbody tr th {\n",
              "        vertical-align: top;\n",
              "    }\n",
              "\n",
              "    .dataframe thead th {\n",
              "        text-align: right;\n",
              "    }\n",
              "</style>\n",
              "<table border=\"1\" class=\"dataframe\">\n",
              "  <thead>\n",
              "    <tr style=\"text-align: right;\">\n",
              "      <th></th>\n",
              "      <th>office</th>\n",
              "      <th>state</th>\n",
              "      <th>projected_voteshare</th>\n",
              "      <th>actual_voteshare</th>\n",
              "      <th>probwin</th>\n",
              "      <th>probwin_outcome</th>\n",
              "      <th>forecast_error</th>\n",
              "      <th>unskilled_error</th>\n",
              "    </tr>\n",
              "  </thead>\n",
              "  <tbody>\n",
              "    <tr>\n",
              "      <th>10</th>\n",
              "      <td>Primary</td>\n",
              "      <td>Alabama</td>\n",
              "      <td>43.421524</td>\n",
              "      <td>43.42</td>\n",
              "      <td>0.96195</td>\n",
              "      <td>1</td>\n",
              "      <td>0.001524</td>\n",
              "      <td>6.58</td>\n",
              "    </tr>\n",
              "    <tr>\n",
              "      <th>11</th>\n",
              "      <td>Primary</td>\n",
              "      <td>Alabama</td>\n",
              "      <td>41.426022</td>\n",
              "      <td>43.42</td>\n",
              "      <td>0.94255</td>\n",
              "      <td>1</td>\n",
              "      <td>1.993978</td>\n",
              "      <td>6.58</td>\n",
              "    </tr>\n",
              "    <tr>\n",
              "      <th>20</th>\n",
              "      <td>Primary</td>\n",
              "      <td>Alabama</td>\n",
              "      <td>43.406273</td>\n",
              "      <td>43.42</td>\n",
              "      <td>0.96690</td>\n",
              "      <td>1</td>\n",
              "      <td>0.013727</td>\n",
              "      <td>6.58</td>\n",
              "    </tr>\n",
              "    <tr>\n",
              "      <th>21</th>\n",
              "      <td>Primary</td>\n",
              "      <td>Alabama</td>\n",
              "      <td>41.387596</td>\n",
              "      <td>43.42</td>\n",
              "      <td>0.94810</td>\n",
              "      <td>1</td>\n",
              "      <td>2.032404</td>\n",
              "      <td>6.58</td>\n",
              "    </tr>\n",
              "    <tr>\n",
              "      <th>30</th>\n",
              "      <td>Primary</td>\n",
              "      <td>Alabama</td>\n",
              "      <td>39.055584</td>\n",
              "      <td>43.42</td>\n",
              "      <td>0.85285</td>\n",
              "      <td>1</td>\n",
              "      <td>4.364416</td>\n",
              "      <td>6.58</td>\n",
              "    </tr>\n",
              "  </tbody>\n",
              "</table>\n",
              "</div>"
            ],
            "text/plain": [
              "     office    state  ...  forecast_error  unskilled_error\n",
              "10  Primary  Alabama  ...        0.001524             6.58\n",
              "11  Primary  Alabama  ...        1.993978             6.58\n",
              "20  Primary  Alabama  ...        0.013727             6.58\n",
              "21  Primary  Alabama  ...        2.032404             6.58\n",
              "30  Primary  Alabama  ...        4.364416             6.58\n",
              "\n",
              "[5 rows x 8 columns]"
            ]
          },
          "metadata": {
            "tags": []
          },
          "execution_count": 139
        }
      ]
    },
    {
      "cell_type": "code",
      "metadata": {
        "id": "c7GigqWZUPa6",
        "colab_type": "code",
        "colab": {
          "base_uri": "https://localhost:8080/",
          "height": 224
        },
        "outputId": "9fb5ecd5-d960-404d-b47f-b91f0cfc0861"
      },
      "source": [
        "general['forecast_error'] = (abs(general['actual_voteshare'] - general['projected_voteshare']))\n",
        "general['unskilled_error'] = (abs(general['actual_voteshare'] - 50))\n",
        "\n",
        "general.head()"
      ],
      "execution_count": 140,
      "outputs": [
        {
          "output_type": "execute_result",
          "data": {
            "text/html": [
              "<div>\n",
              "<style scoped>\n",
              "    .dataframe tbody tr th:only-of-type {\n",
              "        vertical-align: middle;\n",
              "    }\n",
              "\n",
              "    .dataframe tbody tr th {\n",
              "        vertical-align: top;\n",
              "    }\n",
              "\n",
              "    .dataframe thead th {\n",
              "        text-align: right;\n",
              "    }\n",
              "</style>\n",
              "<table border=\"1\" class=\"dataframe\">\n",
              "  <thead>\n",
              "    <tr style=\"text-align: right;\">\n",
              "      <th></th>\n",
              "      <th>year</th>\n",
              "      <th>office</th>\n",
              "      <th>state</th>\n",
              "      <th>district</th>\n",
              "      <th>election_date</th>\n",
              "      <th>forecast_date</th>\n",
              "      <th>forecast_type</th>\n",
              "      <th>party</th>\n",
              "      <th>candidate</th>\n",
              "      <th>projected_voteshare</th>\n",
              "      <th>actual_voteshare</th>\n",
              "      <th>probwin</th>\n",
              "      <th>probwin_outcome</th>\n",
              "      <th>forecast_error</th>\n",
              "      <th>unskilled_error</th>\n",
              "    </tr>\n",
              "  </thead>\n",
              "  <tbody>\n",
              "    <tr>\n",
              "      <th>0</th>\n",
              "      <td>2016</td>\n",
              "      <td>President</td>\n",
              "      <td>AL</td>\n",
              "      <td>NaN</td>\n",
              "      <td>2016-11-08</td>\n",
              "      <td>2016-11-08</td>\n",
              "      <td>polls-plus</td>\n",
              "      <td>R</td>\n",
              "      <td>Trump</td>\n",
              "      <td>58.193710</td>\n",
              "      <td>62.08</td>\n",
              "      <td>0.99915</td>\n",
              "      <td>1</td>\n",
              "      <td>3.886290</td>\n",
              "      <td>12.08</td>\n",
              "    </tr>\n",
              "    <tr>\n",
              "      <th>1</th>\n",
              "      <td>2016</td>\n",
              "      <td>President</td>\n",
              "      <td>AL</td>\n",
              "      <td>NaN</td>\n",
              "      <td>2016-11-08</td>\n",
              "      <td>2016-11-08</td>\n",
              "      <td>polls-plus</td>\n",
              "      <td>D</td>\n",
              "      <td>Clinton</td>\n",
              "      <td>35.841850</td>\n",
              "      <td>34.36</td>\n",
              "      <td>0.00085</td>\n",
              "      <td>0</td>\n",
              "      <td>1.481850</td>\n",
              "      <td>15.64</td>\n",
              "    </tr>\n",
              "    <tr>\n",
              "      <th>2</th>\n",
              "      <td>2016</td>\n",
              "      <td>President</td>\n",
              "      <td>AL</td>\n",
              "      <td>NaN</td>\n",
              "      <td>2016-11-08</td>\n",
              "      <td>2016-11-08</td>\n",
              "      <td>polls-plus</td>\n",
              "      <td>L</td>\n",
              "      <td>Johnson</td>\n",
              "      <td>4.215338</td>\n",
              "      <td>2.09</td>\n",
              "      <td>0.00000</td>\n",
              "      <td>0</td>\n",
              "      <td>2.125338</td>\n",
              "      <td>47.91</td>\n",
              "    </tr>\n",
              "    <tr>\n",
              "      <th>3</th>\n",
              "      <td>2016</td>\n",
              "      <td>President</td>\n",
              "      <td>AK</td>\n",
              "      <td>NaN</td>\n",
              "      <td>2016-11-08</td>\n",
              "      <td>2016-11-08</td>\n",
              "      <td>polls-plus</td>\n",
              "      <td>R</td>\n",
              "      <td>Trump</td>\n",
              "      <td>48.447200</td>\n",
              "      <td>51.28</td>\n",
              "      <td>0.78535</td>\n",
              "      <td>1</td>\n",
              "      <td>2.832800</td>\n",
              "      <td>1.28</td>\n",
              "    </tr>\n",
              "    <tr>\n",
              "      <th>4</th>\n",
              "      <td>2016</td>\n",
              "      <td>President</td>\n",
              "      <td>AK</td>\n",
              "      <td>NaN</td>\n",
              "      <td>2016-11-08</td>\n",
              "      <td>2016-11-08</td>\n",
              "      <td>polls-plus</td>\n",
              "      <td>D</td>\n",
              "      <td>Clinton</td>\n",
              "      <td>40.652500</td>\n",
              "      <td>36.55</td>\n",
              "      <td>0.21435</td>\n",
              "      <td>0</td>\n",
              "      <td>4.102500</td>\n",
              "      <td>13.45</td>\n",
              "    </tr>\n",
              "  </tbody>\n",
              "</table>\n",
              "</div>"
            ],
            "text/plain": [
              "   year     office state  ...  probwin_outcome forecast_error unskilled_error\n",
              "0  2016  President    AL  ...                1       3.886290           12.08\n",
              "1  2016  President    AL  ...                0       1.481850           15.64\n",
              "2  2016  President    AL  ...                0       2.125338           47.91\n",
              "3  2016  President    AK  ...                1       2.832800            1.28\n",
              "4  2016  President    AK  ...                0       4.102500           13.45\n",
              "\n",
              "[5 rows x 15 columns]"
            ]
          },
          "metadata": {
            "tags": []
          },
          "execution_count": 140
        }
      ]
    },
    {
      "cell_type": "code",
      "metadata": {
        "id": "tmX-u5UOQnzE",
        "colab_type": "code",
        "colab": {
          "base_uri": "https://localhost:8080/",
          "height": 34
        },
        "outputId": "beb7473a-4bf2-4cfd-f3b6-2ecbbec62c09"
      },
      "source": [
        "ttest_ind(general['forecast_error'], general['unskilled_error'], nan_policy='omit')"
      ],
      "execution_count": 153,
      "outputs": [
        {
          "output_type": "execute_result",
          "data": {
            "text/plain": [
              "Ttest_indResult(statistic=-266.9346018495316, pvalue=0.0)"
            ]
          },
          "metadata": {
            "tags": []
          },
          "execution_count": 153
        }
      ]
    },
    {
      "cell_type": "code",
      "metadata": {
        "id": "71SbggxAVIDb",
        "colab_type": "code",
        "colab": {
          "base_uri": "https://localhost:8080/",
          "height": 34
        },
        "outputId": "1daa6c07-9013-4620-e68c-22a06e0ec574"
      },
      "source": [
        "ttest_ind(trump['forecast_error'], trump['unskilled_error'], nan_policy='omit')"
      ],
      "execution_count": 154,
      "outputs": [
        {
          "output_type": "execute_result",
          "data": {
            "text/plain": [
              "Ttest_indResult(statistic=-83.56895510990347, pvalue=0.0)"
            ]
          },
          "metadata": {
            "tags": []
          },
          "execution_count": 154
        }
      ]
    },
    {
      "cell_type": "markdown",
      "metadata": {
        "id": "IzbSOqKdXlc3",
        "colab_type": "text"
      },
      "source": [
        "My hypothesis is confirmed! If we're trying to judge 538's accuracy in predicting the 2020 election by comparing it to an unskilled guesser, our confidence varies depending on if we look at \"all general elections\" or \"all elections involving Trump.\" Since the choice between those is arbitrary, this method cannot be used to attach meaning to a numerical probability for Trump's reelection."
      ]
    }
  ]
}