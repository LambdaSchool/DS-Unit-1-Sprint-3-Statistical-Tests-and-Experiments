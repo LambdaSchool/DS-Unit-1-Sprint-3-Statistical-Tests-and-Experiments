{
  "nbformat": 4,
  "nbformat_minor": 0,
  "metadata": {
    "kernelspec": {
      "display_name": "Python 3",
      "language": "python",
      "name": "python3"
    },
    "language_info": {
      "codemirror_mode": {
        "name": "ipython",
        "version": 3
      },
      "file_extension": ".py",
      "mimetype": "text/x-python",
      "name": "python",
      "nbconvert_exporter": "python",
      "pygments_lexer": "ipython3",
      "version": "3.7.3"
    },
    "colab": {
      "name": "LS_DS_131_Statistics_Probability_Assignment.ipynb",
      "version": "0.3.2",
      "provenance": []
    }
  },
  "cells": [
    {
      "cell_type": "markdown",
      "metadata": {
        "id": "wJTLXtiZOWOd",
        "colab_type": "text"
      },
      "source": [
        "<img align=\"left\" src=\"https://lever-client-logos.s3.amazonaws.com/864372b1-534c-480e-acd5-9711f850815c-1524247202159.png\" width=200>\n",
        "<br></br>\n",
        "<br></br>\n",
        "\n",
        "## *Data Science Unit 1 Sprint 3 Assignment 1*\n",
        "\n",
        "# Apply the t-test to real data\n",
        "\n",
        "Your assignment is to determine which issues have \"statistically significant\" differences between political parties in this [1980s congressional voting data](https://archive.ics.uci.edu/ml/datasets/Congressional+Voting+Records). The data consists of 435 instances (one for each congressperson), a class (democrat or republican), and 16 binary attributes (yes or no for voting for or against certain issues). Be aware - there are missing values!\n",
        "\n",
        "Your goals:\n",
        "\n",
        "1. Load and clean the data (or determine the best method to drop observations when running tests)\n",
        "2. Using hypothesis testing, find an issue that democrats support more than republicans with p < 0.01\n",
        "3. Using hypothesis testing, find an issue that republicans support more than democrats with p < 0.01\n",
        "4. Using hypothesis testing, find an issue where the difference between republicans and democrats has p > 0.1 (i.e. there may not be much of a difference)\n",
        "\n",
        "Note that this data will involve *2 sample* t-tests, because you're comparing averages across two groups (republicans and democrats) rather than a single group against a null hypothesis.\n",
        "\n",
        "Stretch goals:\n",
        "\n",
        "1. Refactor your code into functions so it's easy to rerun with arbitrary variables\n",
        "2. Apply hypothesis testing to your personal project data (for the purposes of this notebook you can type a summary of the hypothesis you formed and tested)"
      ]
    },
    {
      "cell_type": "code",
      "metadata": {
        "id": "kg-eHfDoO5Z8",
        "colab_type": "code",
        "colab": {}
      },
      "source": [
        "import pandas as pd\n",
        "import numpy as np\n",
        "import scipy as sc\n",
        "import matplotlib.pyplot as plt\n",
        "from scipy.stats import ttest_ind"
      ],
      "execution_count": 0,
      "outputs": []
    },
    {
      "cell_type": "code",
      "metadata": {
        "id": "qcOXi9bZOWOg",
        "colab_type": "code",
        "outputId": "b44861af-3017-48f4-8a4c-5f86bd5ef4b8",
        "colab": {
          "base_uri": "https://localhost:8080/",
          "height": 241
        }
      },
      "source": [
        "#Downloading data from the website\n",
        "col_names = ['party','handicapped_infants','water_project_cost_sharing','adoption_of_the_budget_resolution','physician_fee_freeze',\n",
        "             'el_salvador_aid','religious_groups_in_schools','anti_satellite_test_ban','aid_to_nicaraguan_contras',\n",
        "             'mx_missile','immigration','synfuels_corporation_cutback','education_spending',\n",
        "             'superfund_right_to_sue','crime','duty_free_exports','export_administration_act_south_africa']\n",
        "voting_data = pd.read_csv(\"https://archive.ics.uci.edu/ml/machine-learning-databases/voting-records/house-votes-84.data\",names=col_names)\n",
        "print(voting_data.shape)\n",
        "voting_data.head()"
      ],
      "execution_count": 21,
      "outputs": [
        {
          "output_type": "stream",
          "text": [
            "(435, 17)\n"
          ],
          "name": "stdout"
        },
        {
          "output_type": "execute_result",
          "data": {
            "text/html": [
              "<div>\n",
              "<style scoped>\n",
              "    .dataframe tbody tr th:only-of-type {\n",
              "        vertical-align: middle;\n",
              "    }\n",
              "\n",
              "    .dataframe tbody tr th {\n",
              "        vertical-align: top;\n",
              "    }\n",
              "\n",
              "    .dataframe thead th {\n",
              "        text-align: right;\n",
              "    }\n",
              "</style>\n",
              "<table border=\"1\" class=\"dataframe\">\n",
              "  <thead>\n",
              "    <tr style=\"text-align: right;\">\n",
              "      <th></th>\n",
              "      <th>party</th>\n",
              "      <th>handicapped_infants</th>\n",
              "      <th>water_project_cost_sharing</th>\n",
              "      <th>adoption_of_the_budget_resolution</th>\n",
              "      <th>physician_fee_freeze</th>\n",
              "      <th>el_salvador_aid</th>\n",
              "      <th>religious_groups_in_schools</th>\n",
              "      <th>anti_satellite_test_ban</th>\n",
              "      <th>aid_to_nicaraguan_contras</th>\n",
              "      <th>mx_missile</th>\n",
              "      <th>immigration</th>\n",
              "      <th>synfuels_corporation_cutback</th>\n",
              "      <th>education_spending</th>\n",
              "      <th>superfund_right_to_sue</th>\n",
              "      <th>crime</th>\n",
              "      <th>duty_free_exports</th>\n",
              "      <th>export_administration_act_south_africa</th>\n",
              "    </tr>\n",
              "  </thead>\n",
              "  <tbody>\n",
              "    <tr>\n",
              "      <th>0</th>\n",
              "      <td>republican</td>\n",
              "      <td>n</td>\n",
              "      <td>y</td>\n",
              "      <td>n</td>\n",
              "      <td>y</td>\n",
              "      <td>y</td>\n",
              "      <td>y</td>\n",
              "      <td>n</td>\n",
              "      <td>n</td>\n",
              "      <td>n</td>\n",
              "      <td>y</td>\n",
              "      <td>?</td>\n",
              "      <td>y</td>\n",
              "      <td>y</td>\n",
              "      <td>y</td>\n",
              "      <td>n</td>\n",
              "      <td>y</td>\n",
              "    </tr>\n",
              "    <tr>\n",
              "      <th>1</th>\n",
              "      <td>republican</td>\n",
              "      <td>n</td>\n",
              "      <td>y</td>\n",
              "      <td>n</td>\n",
              "      <td>y</td>\n",
              "      <td>y</td>\n",
              "      <td>y</td>\n",
              "      <td>n</td>\n",
              "      <td>n</td>\n",
              "      <td>n</td>\n",
              "      <td>n</td>\n",
              "      <td>n</td>\n",
              "      <td>y</td>\n",
              "      <td>y</td>\n",
              "      <td>y</td>\n",
              "      <td>n</td>\n",
              "      <td>?</td>\n",
              "    </tr>\n",
              "    <tr>\n",
              "      <th>2</th>\n",
              "      <td>democrat</td>\n",
              "      <td>?</td>\n",
              "      <td>y</td>\n",
              "      <td>y</td>\n",
              "      <td>?</td>\n",
              "      <td>y</td>\n",
              "      <td>y</td>\n",
              "      <td>n</td>\n",
              "      <td>n</td>\n",
              "      <td>n</td>\n",
              "      <td>n</td>\n",
              "      <td>y</td>\n",
              "      <td>n</td>\n",
              "      <td>y</td>\n",
              "      <td>y</td>\n",
              "      <td>n</td>\n",
              "      <td>n</td>\n",
              "    </tr>\n",
              "    <tr>\n",
              "      <th>3</th>\n",
              "      <td>democrat</td>\n",
              "      <td>n</td>\n",
              "      <td>y</td>\n",
              "      <td>y</td>\n",
              "      <td>n</td>\n",
              "      <td>?</td>\n",
              "      <td>y</td>\n",
              "      <td>n</td>\n",
              "      <td>n</td>\n",
              "      <td>n</td>\n",
              "      <td>n</td>\n",
              "      <td>y</td>\n",
              "      <td>n</td>\n",
              "      <td>y</td>\n",
              "      <td>n</td>\n",
              "      <td>n</td>\n",
              "      <td>y</td>\n",
              "    </tr>\n",
              "    <tr>\n",
              "      <th>4</th>\n",
              "      <td>democrat</td>\n",
              "      <td>y</td>\n",
              "      <td>y</td>\n",
              "      <td>y</td>\n",
              "      <td>n</td>\n",
              "      <td>y</td>\n",
              "      <td>y</td>\n",
              "      <td>n</td>\n",
              "      <td>n</td>\n",
              "      <td>n</td>\n",
              "      <td>n</td>\n",
              "      <td>y</td>\n",
              "      <td>?</td>\n",
              "      <td>y</td>\n",
              "      <td>y</td>\n",
              "      <td>y</td>\n",
              "      <td>y</td>\n",
              "    </tr>\n",
              "  </tbody>\n",
              "</table>\n",
              "</div>"
            ],
            "text/plain": [
              "        party  ... export_administration_act_south_africa\n",
              "0  republican  ...                                      y\n",
              "1  republican  ...                                      ?\n",
              "2    democrat  ...                                      n\n",
              "3    democrat  ...                                      y\n",
              "4    democrat  ...                                      y\n",
              "\n",
              "[5 rows x 17 columns]"
            ]
          },
          "metadata": {
            "tags": []
          },
          "execution_count": 21
        }
      ]
    },
    {
      "cell_type": "code",
      "metadata": {
        "id": "h211ZZw0ETgg",
        "colab_type": "code",
        "colab": {
          "base_uri": "https://localhost:8080/",
          "height": 323
        },
        "outputId": "d12d38c6-c598-4842-ec3a-83328b83ed08"
      },
      "source": [
        "voting_data.dtypes"
      ],
      "execution_count": 24,
      "outputs": [
        {
          "output_type": "execute_result",
          "data": {
            "text/plain": [
              "party                                      object\n",
              "handicapped_infants                       float64\n",
              "water_project_cost_sharing                float64\n",
              "adoption_of_the_budget_resolution         float64\n",
              "physician_fee_freeze                      float64\n",
              "el_salvador_aid                           float64\n",
              "religious_groups_in_schools               float64\n",
              "anti_satellite_test_ban                   float64\n",
              "aid_to_nicaraguan_contras                 float64\n",
              "mx_missile                                float64\n",
              "immigration                               float64\n",
              "synfuels_corporation_cutback              float64\n",
              "education_spending                        float64\n",
              "superfund_right_to_sue                    float64\n",
              "crime                                     float64\n",
              "duty_free_exports                         float64\n",
              "export_administration_act_south_africa    float64\n",
              "dtype: object"
            ]
          },
          "metadata": {
            "tags": []
          },
          "execution_count": 24
        }
      ]
    },
    {
      "cell_type": "code",
      "metadata": {
        "id": "o6Ae-J4RSfn5",
        "colab_type": "code",
        "colab": {}
      },
      "source": [
        "#Replacing Categoricals values with numbers\n",
        "voting_data=voting_data.replace({'?':np.nan,'y':1,'n':0})"
      ],
      "execution_count": 0,
      "outputs": []
    },
    {
      "cell_type": "code",
      "metadata": {
        "id": "VZdHR9pQPSN5",
        "colab_type": "code",
        "colab": {
          "base_uri": "https://localhost:8080/",
          "height": 323
        },
        "outputId": "6caaa2d9-8e63-4b3d-ff81-62dc0b0b4f99"
      },
      "source": [
        "#Checking for Null values\n",
        "#Observation : the nulls don't match with the one given on UCI website, I have rechecked the data on UCI seems to be incorrect.\n",
        "voting_data.isnull().sum()"
      ],
      "execution_count": 25,
      "outputs": [
        {
          "output_type": "execute_result",
          "data": {
            "text/plain": [
              "party                                       0\n",
              "handicapped_infants                        12\n",
              "water_project_cost_sharing                 48\n",
              "adoption_of_the_budget_resolution          11\n",
              "physician_fee_freeze                       11\n",
              "el_salvador_aid                            15\n",
              "religious_groups_in_schools                11\n",
              "anti_satellite_test_ban                    14\n",
              "aid_to_nicaraguan_contras                  15\n",
              "mx_missile                                 22\n",
              "immigration                                 7\n",
              "synfuels_corporation_cutback               21\n",
              "education_spending                         31\n",
              "superfund_right_to_sue                     25\n",
              "crime                                      17\n",
              "duty_free_exports                          28\n",
              "export_administration_act_south_africa    104\n",
              "dtype: int64"
            ]
          },
          "metadata": {
            "tags": []
          },
          "execution_count": 25
        }
      ]
    },
    {
      "cell_type": "code",
      "metadata": {
        "id": "QxHyADvvX7h_",
        "colab_type": "code",
        "colab": {
          "base_uri": "https://localhost:8080/",
          "height": 68
        },
        "outputId": "6fd4e6a4-dd60-4138-d1f5-da2f59de96a1"
      },
      "source": [
        "voting_data.party.value_counts()"
      ],
      "execution_count": 14,
      "outputs": [
        {
          "output_type": "execute_result",
          "data": {
            "text/plain": [
              "democrat      267\n",
              "republican    168\n",
              "Name: party, dtype: int64"
            ]
          },
          "metadata": {
            "tags": []
          },
          "execution_count": 14
        }
      ]
    },
    {
      "cell_type": "code",
      "metadata": {
        "id": "eozHrpEFWm81",
        "colab_type": "code",
        "colab": {
          "base_uri": "https://localhost:8080/",
          "height": 51
        },
        "outputId": "5baa1c8a-d551-400c-9db5-0798da94bd1c"
      },
      "source": [
        "# Creating Samples based on Parties\n",
        "republics = voting_data[voting_data.party=='republican']\n",
        "democrats = voting_data[voting_data.party=='democrat']\n",
        "\n",
        "print(\"Republics :\",republics.shape)\n",
        "print(\"Democrat :\",democrats.shape)"
      ],
      "execution_count": 26,
      "outputs": [
        {
          "output_type": "stream",
          "text": [
            "Republics : (168, 17)\n",
            "Democrat : (267, 17)\n"
          ],
          "name": "stdout"
        }
      ]
    },
    {
      "cell_type": "code",
      "metadata": {
        "id": "SzrR00WLcsgv",
        "colab_type": "code",
        "colab": {}
      },
      "source": [
        "tstat,pvalue=ttest_ind(republics['handicapped_infants'],democrats['handicapped_infants'],nan_policy='omit')"
      ],
      "execution_count": 0,
      "outputs": []
    },
    {
      "cell_type": "code",
      "metadata": {
        "id": "ZrzhrcM8FUuY",
        "colab_type": "code",
        "colab": {
          "base_uri": "https://localhost:8080/",
          "height": 34
        },
        "outputId": "26f741fd-2f8f-4953-b7bd-360f603c94c6"
      },
      "source": [
        "pvalue"
      ],
      "execution_count": 35,
      "outputs": [
        {
          "output_type": "execute_result",
          "data": {
            "text/plain": [
              "1.613440327937243e-18"
            ]
          },
          "metadata": {
            "tags": []
          },
          "execution_count": 35
        }
      ]
    },
    {
      "cell_type": "code",
      "metadata": {
        "id": "Ry2J92EmR8gb",
        "colab_type": "code",
        "colab": {
          "base_uri": "https://localhost:8080/",
          "height": 289
        },
        "outputId": "ea1a67f7-0cf5-49e7-cf58-941ad5951de1"
      },
      "source": [
        "#For testing we will omit the null values\n",
        "#For each of the votes , our null hypothesis is that both the parties vote the same\n",
        "\n",
        "#Defining function\n",
        "def stat_significant(x1,x2):\n",
        "  return ttest_ind(x1,x2,nan_policy='omit')\n",
        "\n",
        "for col in col_names:\n",
        "  if(col!='party'):\n",
        "    tstat,pvalue =stat_significant(republics[col],democrats[col])\n",
        "    if(pvalue>0.01):\n",
        "      print(\"For the issue: \",col,\"Demoracts and Republicans does not differ much\")\n",
        "    else:\n",
        "      print(\"For the issue: \",col,\"Demoracts differ from Repulicans\")\n",
        "  #ttest_ind(republics[col].values,democrats[col].values)"
      ],
      "execution_count": 37,
      "outputs": [
        {
          "output_type": "stream",
          "text": [
            "For the issue:  handicapped_infants Demoracts differ from Repulicans\n",
            "For the issue:  water_project_cost_sharing Demoracts and Republicans does not differ much\n",
            "For the issue:  adoption_of_the_budget_resolution Demoracts differ from Repulicans\n",
            "For the issue:  physician_fee_freeze Demoracts differ from Repulicans\n",
            "For the issue:  el_salvador_aid Demoracts differ from Repulicans\n",
            "For the issue:  religious_groups_in_schools Demoracts differ from Repulicans\n",
            "For the issue:  anti_satellite_test_ban Demoracts differ from Repulicans\n",
            "For the issue:  aid_to_nicaraguan_contras Demoracts differ from Repulicans\n",
            "For the issue:  mx_missile Demoracts differ from Repulicans\n",
            "For the issue:  immigration Demoracts and Republicans does not differ much\n",
            "For the issue:  synfuels_corporation_cutback Demoracts differ from Repulicans\n",
            "For the issue:  education_spending Demoracts differ from Repulicans\n",
            "For the issue:  superfund_right_to_sue Demoracts differ from Repulicans\n",
            "For the issue:  crime Demoracts differ from Repulicans\n",
            "For the issue:  duty_free_exports Demoracts differ from Repulicans\n",
            "For the issue:  export_administration_act_south_africa Demoracts differ from Repulicans\n"
          ],
          "name": "stdout"
        }
      ]
    },
    {
      "cell_type": "code",
      "metadata": {
        "id": "fUiv2b-QDpxB",
        "colab_type": "code",
        "colab": {}
      },
      "source": [
        ""
      ],
      "execution_count": 0,
      "outputs": []
    }
  ]
}