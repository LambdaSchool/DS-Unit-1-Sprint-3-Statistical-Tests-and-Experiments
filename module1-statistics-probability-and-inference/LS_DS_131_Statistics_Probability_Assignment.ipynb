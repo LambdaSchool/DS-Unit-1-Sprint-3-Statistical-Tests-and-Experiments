{
  "nbformat": 4,
  "nbformat_minor": 0,
  "metadata": {
    "kernelspec": {
      "display_name": "Python 3",
      "language": "python",
      "name": "python3"
    },
    "language_info": {
      "codemirror_mode": {
        "name": "ipython",
        "version": 3
      },
      "file_extension": ".py",
      "mimetype": "text/x-python",
      "name": "python",
      "nbconvert_exporter": "python",
      "pygments_lexer": "ipython3",
      "version": "3.7.3"
    },
    "colab": {
      "name": "LS_DS_131_Statistics_Probability_Assignment.ipynb",
      "version": "0.3.2",
      "provenance": [],
      "include_colab_link": true
    }
  },
  "cells": [
    {
      "cell_type": "markdown",
      "metadata": {
        "id": "view-in-github",
        "colab_type": "text"
      },
      "source": [
        "<a href=\"https://colab.research.google.com/github/jeibloo/DS-Unit-1-Sprint-3-Statistical-Tests-and-Experiments/blob/master/module1-statistics-probability-and-inference/LS_DS_131_Statistics_Probability_Assignment.ipynb\" target=\"_parent\"><img src=\"https://colab.research.google.com/assets/colab-badge.svg\" alt=\"Open In Colab\"/></a>"
      ]
    },
    {
      "cell_type": "markdown",
      "metadata": {
        "id": "CPjW51NO3Pff",
        "colab_type": "text"
      },
      "source": [
        "<img align=\"left\" src=\"https://lever-client-logos.s3.amazonaws.com/864372b1-534c-480e-acd5-9711f850815c-1524247202159.png\" width=200>\n",
        "<br></br>\n",
        "<br></br>\n",
        "\n",
        "## *Data Science Unit 1 Sprint 3 Assignment 1*\n",
        "\n",
        "# Apply the t-test to real data\n",
        "\n",
        "Your assignment is to determine which issues have \"statistically significant\" differences between political parties in this [1980s congressional voting data](https://archive.ics.uci.edu/ml/datasets/Congressional+Voting+Records). The data consists of 435 instances (one for each congressperson), a class (democrat or republican), and 16 binary attributes (yes or no for voting for or against certain issues). Be aware - there are missing values!\n",
        "\n",
        "Your goals:\n",
        "\n",
        "1. Load and clean the data (or determine the best method to drop observations when running tests)\n",
        "2. Using hypothesis testing, find an issue that democrats support more than republicans with p < 0.01\n",
        "3. Using hypothesis testing, find an issue that republicans support more than democrats with p < 0.01\n",
        "4. Using hypothesis testing, find an issue where the difference between republicans and democrats has p > 0.1 (i.e. there may not be much of a difference)\n",
        "\n",
        "Note that this data will involve *2 sample* t-tests, because you're comparing averages across two groups (republicans and democrats) rather than a single group against a null hypothesis.\n",
        "\n",
        "Stretch goals:\n",
        "\n",
        "1. Refactor your code into functions so it's easy to rerun with arbitrary variables\n",
        "2. Apply hypothesis testing to your personal project data (for the purposes of this notebook you can type a summary of the hypothesis you formed and tested)"
      ]
    },
    {
      "cell_type": "code",
      "metadata": {
        "id": "Yl7KHvi4J-xI",
        "colab_type": "code",
        "colab": {
          "base_uri": "https://localhost:8080/",
          "height": 215
        },
        "outputId": "194d7ef1-e9ee-46b0-8ea3-bbae668c1852"
      },
      "source": [
        "!wget https://archive.ics.uci.edu/ml/machine-learning-databases/voting-records/house-votes-84.data"
      ],
      "execution_count": 16,
      "outputs": [
        {
          "output_type": "stream",
          "text": [
            "--2019-07-22 19:29:14--  https://archive.ics.uci.edu/ml/machine-learning-databases/voting-records/house-votes-84.data\n",
            "Resolving archive.ics.uci.edu (archive.ics.uci.edu)... 128.195.10.252\n",
            "Connecting to archive.ics.uci.edu (archive.ics.uci.edu)|128.195.10.252|:443... connected.\n",
            "HTTP request sent, awaiting response... 200 OK\n",
            "Length: 18171 (18K) [application/x-httpd-php]\n",
            "Saving to: ‘house-votes-84.data’\n",
            "\n",
            "\rhouse-votes-84.data   0%[                    ]       0  --.-KB/s               \rhouse-votes-84.data 100%[===================>]  17.75K  --.-KB/s    in 0.03s   \n",
            "\n",
            "2019-07-22 19:29:15 (620 KB/s) - ‘house-votes-84.data’ saved [18171/18171]\n",
            "\n"
          ],
          "name": "stdout"
        }
      ]
    },
    {
      "cell_type": "code",
      "metadata": {
        "id": "47C1d3edKauG",
        "colab_type": "code",
        "colab": {
          "base_uri": "https://localhost:8080/",
          "height": 197
        },
        "outputId": "57250547-f20a-4ab5-82b6-8dec7cf8b519"
      },
      "source": [
        "!head house-votes-84.data"
      ],
      "execution_count": 18,
      "outputs": [
        {
          "output_type": "stream",
          "text": [
            "republican,n,y,n,y,y,y,n,n,n,y,?,y,y,y,n,y\n",
            "republican,n,y,n,y,y,y,n,n,n,n,n,y,y,y,n,?\n",
            "democrat,?,y,y,?,y,y,n,n,n,n,y,n,y,y,n,n\n",
            "democrat,n,y,y,n,?,y,n,n,n,n,y,n,y,n,n,y\n",
            "democrat,y,y,y,n,y,y,n,n,n,n,y,?,y,y,y,y\n",
            "democrat,n,y,y,n,y,y,n,n,n,n,n,n,y,y,y,y\n",
            "democrat,n,y,n,y,y,y,n,n,n,n,n,n,?,y,y,y\n",
            "republican,n,y,n,y,y,y,n,n,n,n,n,n,y,y,?,y\n",
            "republican,n,y,n,y,y,y,n,n,n,n,n,y,y,y,n,y\n",
            "democrat,y,y,y,n,n,n,y,y,y,n,n,n,n,n,?,?\n"
          ],
          "name": "stdout"
        }
      ]
    },
    {
      "cell_type": "code",
      "metadata": {
        "id": "aqECiHYP3Pfi",
        "colab_type": "code",
        "colab": {}
      },
      "source": [
        "### SETUP\n",
        "import pandas as pd\n",
        "import numpy as np\n",
        "\n",
        "column_names = ['party','hInfant_bill','waterProject_bill','budgetAdopt_bill',\n",
        "                'physc_payFrz_bill','elSalv_bill','relgGrp_school_bill',\n",
        "                'antiSat_ban_bill','contrasAid_bill','mxMis_bill','immigrt_bill',\n",
        "                'synfuels_cut_bill','education_bill','superfundSue_bill',\n",
        "                'crime_bill','dutyFree_bill','exportAdmin_SA_bill']\n",
        "# It came with no headers\n",
        "df = pd.read_csv('./house-votes-84.data',names=column_names)\n",
        "# Index is good as numerical"
      ],
      "execution_count": 0,
      "outputs": []
    },
    {
      "cell_type": "code",
      "metadata": {
        "id": "j0a2oYb4Ijg7",
        "colab_type": "code",
        "colab": {
          "base_uri": "https://localhost:8080/",
          "height": 179
        },
        "outputId": "3521e3ff-653f-43f9-9e38-e7cf8ba25bf4"
      },
      "source": [
        "print(df.shape)\n",
        "df.head(3)"
      ],
      "execution_count": 22,
      "outputs": [
        {
          "output_type": "stream",
          "text": [
            "(435, 17)\n"
          ],
          "name": "stdout"
        },
        {
          "output_type": "execute_result",
          "data": {
            "text/html": [
              "<div>\n",
              "<style scoped>\n",
              "    .dataframe tbody tr th:only-of-type {\n",
              "        vertical-align: middle;\n",
              "    }\n",
              "\n",
              "    .dataframe tbody tr th {\n",
              "        vertical-align: top;\n",
              "    }\n",
              "\n",
              "    .dataframe thead th {\n",
              "        text-align: right;\n",
              "    }\n",
              "</style>\n",
              "<table border=\"1\" class=\"dataframe\">\n",
              "  <thead>\n",
              "    <tr style=\"text-align: right;\">\n",
              "      <th></th>\n",
              "      <th>party</th>\n",
              "      <th>hInfant_bill</th>\n",
              "      <th>waterProject_bill</th>\n",
              "      <th>budgetAdopt_bill</th>\n",
              "      <th>physc_payFrz_bill</th>\n",
              "      <th>elSalv_bill</th>\n",
              "      <th>relgGrp_school_bill</th>\n",
              "      <th>antiSat_ban_bill</th>\n",
              "      <th>contrasAid_bill</th>\n",
              "      <th>mxMis_bill</th>\n",
              "      <th>immigrt_bill</th>\n",
              "      <th>synfuels_cut_bill</th>\n",
              "      <th>education_bill</th>\n",
              "      <th>superfundSue_bill</th>\n",
              "      <th>crime_bill</th>\n",
              "      <th>dutyFree_bill</th>\n",
              "      <th>exportAdmin_SA_bill</th>\n",
              "    </tr>\n",
              "  </thead>\n",
              "  <tbody>\n",
              "    <tr>\n",
              "      <th>0</th>\n",
              "      <td>republican</td>\n",
              "      <td>n</td>\n",
              "      <td>y</td>\n",
              "      <td>n</td>\n",
              "      <td>y</td>\n",
              "      <td>y</td>\n",
              "      <td>y</td>\n",
              "      <td>n</td>\n",
              "      <td>n</td>\n",
              "      <td>n</td>\n",
              "      <td>y</td>\n",
              "      <td>?</td>\n",
              "      <td>y</td>\n",
              "      <td>y</td>\n",
              "      <td>y</td>\n",
              "      <td>n</td>\n",
              "      <td>y</td>\n",
              "    </tr>\n",
              "    <tr>\n",
              "      <th>1</th>\n",
              "      <td>republican</td>\n",
              "      <td>n</td>\n",
              "      <td>y</td>\n",
              "      <td>n</td>\n",
              "      <td>y</td>\n",
              "      <td>y</td>\n",
              "      <td>y</td>\n",
              "      <td>n</td>\n",
              "      <td>n</td>\n",
              "      <td>n</td>\n",
              "      <td>n</td>\n",
              "      <td>n</td>\n",
              "      <td>y</td>\n",
              "      <td>y</td>\n",
              "      <td>y</td>\n",
              "      <td>n</td>\n",
              "      <td>?</td>\n",
              "    </tr>\n",
              "    <tr>\n",
              "      <th>2</th>\n",
              "      <td>democrat</td>\n",
              "      <td>?</td>\n",
              "      <td>y</td>\n",
              "      <td>y</td>\n",
              "      <td>?</td>\n",
              "      <td>y</td>\n",
              "      <td>y</td>\n",
              "      <td>n</td>\n",
              "      <td>n</td>\n",
              "      <td>n</td>\n",
              "      <td>n</td>\n",
              "      <td>y</td>\n",
              "      <td>n</td>\n",
              "      <td>y</td>\n",
              "      <td>y</td>\n",
              "      <td>n</td>\n",
              "      <td>n</td>\n",
              "    </tr>\n",
              "  </tbody>\n",
              "</table>\n",
              "</div>"
            ],
            "text/plain": [
              "        party hInfant_bill  ... dutyFree_bill exportAdmin_SA_bill\n",
              "0  republican            n  ...             n                   y\n",
              "1  republican            n  ...             n                   ?\n",
              "2    democrat            ?  ...             n                   n\n",
              "\n",
              "[3 rows x 17 columns]"
            ]
          },
          "metadata": {
            "tags": []
          },
          "execution_count": 22
        }
      ]
    },
    {
      "cell_type": "code",
      "metadata": {
        "id": "Y2P1jFSxONwN",
        "colab_type": "code",
        "colab": {}
      },
      "source": [
        "df = df.replace('?',np.nan)"
      ],
      "execution_count": 0,
      "outputs": []
    },
    {
      "cell_type": "code",
      "metadata": {
        "id": "-57cu6VAI4mA",
        "colab_type": "code",
        "colab": {
          "base_uri": "https://localhost:8080/",
          "height": 222
        },
        "outputId": "61b6cf3d-cd90-4a7b-ffc8-28cd48973d8c"
      },
      "source": [
        "# Make copy of dataframe in case I mess up.\n",
        "df_clean = df.copy()\n",
        "\n",
        "## Change yes to 1 no to 0\n",
        "def convert(data_obj,ugly,good):\n",
        "  data_obj = data_obj.replace(ugly,good) \n",
        "  return data_obj\n",
        "\n",
        "# Apply it twice\n",
        "df_clean = convert(df_clean,'y',1)\n",
        "df_clean = convert(df_clean,'n',0)\n",
        "\n",
        "df_clean.head(5)"
      ],
      "execution_count": 41,
      "outputs": [
        {
          "output_type": "execute_result",
          "data": {
            "text/html": [
              "<div>\n",
              "<style scoped>\n",
              "    .dataframe tbody tr th:only-of-type {\n",
              "        vertical-align: middle;\n",
              "    }\n",
              "\n",
              "    .dataframe tbody tr th {\n",
              "        vertical-align: top;\n",
              "    }\n",
              "\n",
              "    .dataframe thead th {\n",
              "        text-align: right;\n",
              "    }\n",
              "</style>\n",
              "<table border=\"1\" class=\"dataframe\">\n",
              "  <thead>\n",
              "    <tr style=\"text-align: right;\">\n",
              "      <th></th>\n",
              "      <th>party</th>\n",
              "      <th>hInfant_bill</th>\n",
              "      <th>waterProject_bill</th>\n",
              "      <th>budgetAdopt_bill</th>\n",
              "      <th>physc_payFrz_bill</th>\n",
              "      <th>elSalv_bill</th>\n",
              "      <th>relgGrp_school_bill</th>\n",
              "      <th>antiSat_ban_bill</th>\n",
              "      <th>contrasAid_bill</th>\n",
              "      <th>mxMis_bill</th>\n",
              "      <th>immigrt_bill</th>\n",
              "      <th>synfuels_cut_bill</th>\n",
              "      <th>education_bill</th>\n",
              "      <th>superfundSue_bill</th>\n",
              "      <th>crime_bill</th>\n",
              "      <th>dutyFree_bill</th>\n",
              "      <th>exportAdmin_SA_bill</th>\n",
              "    </tr>\n",
              "  </thead>\n",
              "  <tbody>\n",
              "    <tr>\n",
              "      <th>0</th>\n",
              "      <td>republican</td>\n",
              "      <td>0.0</td>\n",
              "      <td>1.0</td>\n",
              "      <td>0.0</td>\n",
              "      <td>1.0</td>\n",
              "      <td>1.0</td>\n",
              "      <td>1.0</td>\n",
              "      <td>0.0</td>\n",
              "      <td>0.0</td>\n",
              "      <td>0.0</td>\n",
              "      <td>1.0</td>\n",
              "      <td>NaN</td>\n",
              "      <td>1.0</td>\n",
              "      <td>1.0</td>\n",
              "      <td>1.0</td>\n",
              "      <td>0.0</td>\n",
              "      <td>1.0</td>\n",
              "    </tr>\n",
              "    <tr>\n",
              "      <th>1</th>\n",
              "      <td>republican</td>\n",
              "      <td>0.0</td>\n",
              "      <td>1.0</td>\n",
              "      <td>0.0</td>\n",
              "      <td>1.0</td>\n",
              "      <td>1.0</td>\n",
              "      <td>1.0</td>\n",
              "      <td>0.0</td>\n",
              "      <td>0.0</td>\n",
              "      <td>0.0</td>\n",
              "      <td>0.0</td>\n",
              "      <td>0.0</td>\n",
              "      <td>1.0</td>\n",
              "      <td>1.0</td>\n",
              "      <td>1.0</td>\n",
              "      <td>0.0</td>\n",
              "      <td>NaN</td>\n",
              "    </tr>\n",
              "    <tr>\n",
              "      <th>2</th>\n",
              "      <td>democrat</td>\n",
              "      <td>NaN</td>\n",
              "      <td>1.0</td>\n",
              "      <td>1.0</td>\n",
              "      <td>NaN</td>\n",
              "      <td>1.0</td>\n",
              "      <td>1.0</td>\n",
              "      <td>0.0</td>\n",
              "      <td>0.0</td>\n",
              "      <td>0.0</td>\n",
              "      <td>0.0</td>\n",
              "      <td>1.0</td>\n",
              "      <td>0.0</td>\n",
              "      <td>1.0</td>\n",
              "      <td>1.0</td>\n",
              "      <td>0.0</td>\n",
              "      <td>0.0</td>\n",
              "    </tr>\n",
              "    <tr>\n",
              "      <th>3</th>\n",
              "      <td>democrat</td>\n",
              "      <td>0.0</td>\n",
              "      <td>1.0</td>\n",
              "      <td>1.0</td>\n",
              "      <td>0.0</td>\n",
              "      <td>NaN</td>\n",
              "      <td>1.0</td>\n",
              "      <td>0.0</td>\n",
              "      <td>0.0</td>\n",
              "      <td>0.0</td>\n",
              "      <td>0.0</td>\n",
              "      <td>1.0</td>\n",
              "      <td>0.0</td>\n",
              "      <td>1.0</td>\n",
              "      <td>0.0</td>\n",
              "      <td>0.0</td>\n",
              "      <td>1.0</td>\n",
              "    </tr>\n",
              "    <tr>\n",
              "      <th>4</th>\n",
              "      <td>democrat</td>\n",
              "      <td>1.0</td>\n",
              "      <td>1.0</td>\n",
              "      <td>1.0</td>\n",
              "      <td>0.0</td>\n",
              "      <td>1.0</td>\n",
              "      <td>1.0</td>\n",
              "      <td>0.0</td>\n",
              "      <td>0.0</td>\n",
              "      <td>0.0</td>\n",
              "      <td>0.0</td>\n",
              "      <td>1.0</td>\n",
              "      <td>NaN</td>\n",
              "      <td>1.0</td>\n",
              "      <td>1.0</td>\n",
              "      <td>1.0</td>\n",
              "      <td>1.0</td>\n",
              "    </tr>\n",
              "  </tbody>\n",
              "</table>\n",
              "</div>"
            ],
            "text/plain": [
              "        party  hInfant_bill  ...  dutyFree_bill  exportAdmin_SA_bill\n",
              "0  republican           0.0  ...            0.0                  1.0\n",
              "1  republican           0.0  ...            0.0                  NaN\n",
              "2    democrat           NaN  ...            0.0                  0.0\n",
              "3    democrat           0.0  ...            0.0                  1.0\n",
              "4    democrat           1.0  ...            1.0                  1.0\n",
              "\n",
              "[5 rows x 17 columns]"
            ]
          },
          "metadata": {
            "tags": []
          },
          "execution_count": 41
        }
      ]
    },
    {
      "cell_type": "markdown",
      "metadata": {
        "id": "-mvnUBtfQNaL",
        "colab_type": "text"
      },
      "source": [
        "#Data is relatively clean, I believe"
      ]
    },
    {
      "cell_type": "markdown",
      "metadata": {
        "id": "itBXOvm0RBvJ",
        "colab_type": "text"
      },
      "source": [
        "This will use a 2-sample t-test because it's across two groups (as per instructions)\n",
        "\n",
        "Null hypothesis: No one is different, everyone voted in the exact same way like robots.\n",
        "\n",
        "REMINDER: \n",
        "\n",
        "What is **t-stat**?: ~Roughly the # of std. dev. away from mean, that coorresponds to the differences in means we've observed given their sample sizes.\n",
        "\n",
        "What is **p-val**?: ~Probability that what we have observed (the t-statist that we get) could have happened by random chance."
      ]
    },
    {
      "cell_type": "code",
      "metadata": {
        "id": "_44P7iJVQQ6O",
        "colab_type": "code",
        "colab": {}
      },
      "source": [
        "from scipy.stats import ttest_ind, ttest_ind_from_stats, ttest_rel\n",
        "\n",
        "democrat = df_clean[df_clean.party == 'democrat']\n",
        "republican = df_clean[df_clean.party == 'republican']\n",
        "\n",
        "def p_value(groupA,groupB,colX):\n",
        "  return ttest_ind(groupA[colX],groupB[colX],nan_policy='omit')"
      ],
      "execution_count": 0,
      "outputs": []
    },
    {
      "cell_type": "markdown",
      "metadata": {
        "id": "5QaT0u26eEqA",
        "colab_type": "text"
      },
      "source": [
        "### 2). 3).\n",
        "### Before:\n",
        "\n",
        "1) Null Hypo (boring/default state)\n",
        "- the two parties are voting the same $\\mu_{1} = \\mu_{2}$ \n",
        "\n",
        "2) Alt. Hypo (opposite of null hypo)\n",
        "- the two parties are voting vastly differently\n",
        "\n",
        "3) Confidence Level: 95%\n",
        "\n",
        "**Confidence Level of 95%** (reach incorrect conclusion only 5% of the time)\n",
        "\n",
        "p < 1 - Confidence Level\n",
        "\n",
        "1- Confidence Level = $\\alpha$\n",
        "\n",
        "I REJECT THE NULL HYPO when my P-value < $\\alpha$ (1 - Confidence Level)"
      ]
    },
    {
      "cell_type": "code",
      "metadata": {
        "id": "GW2KBUQ8dDJG",
        "colab_type": "code",
        "colab": {
          "base_uri": "https://localhost:8080/",
          "height": 35
        },
        "outputId": "fff6f973-fbd5-4dd5-be27-d0107614af90"
      },
      "source": [
        "## 2. Use hypo testing to find issue Demz support more than Repubs w/ p < 0.01\n",
        "p_value(democrat,republican,'hInfant_bill')\n",
        "### p-value shows that it is incredibly super duper unlikely that they voted \n",
        "### different by chance. So I reject my null hypothesis. So alternative hypothesis\n",
        "### is at work here."
      ],
      "execution_count": 70,
      "outputs": [
        {
          "output_type": "execute_result",
          "data": {
            "text/plain": [
              "Ttest_indResult(statistic=9.205264294809222, pvalue=1.613440327937243e-18)"
            ]
          },
          "metadata": {
            "tags": []
          },
          "execution_count": 70
        }
      ]
    },
    {
      "cell_type": "markdown",
      "metadata": {
        "id": "aflC4Tese3Ol",
        "colab_type": "text"
      },
      "source": [
        "### 2).\n",
        "### After:\n",
        "\n",
        "4) T-stat: 9.2053\n",
        "\n",
        "5) P-value: 1.613e-18\n",
        "\n",
        "### Interpretation:\n",
        "\n",
        "Due to the calculating t-stat of 9.2053 which corresponds to 1.613e-18, we reject the null hypo that the parties are voting in the same way, and suggest the alternative hypo that the parties are voting super different on this bill.\n",
        "\n"
      ]
    },
    {
      "cell_type": "code",
      "metadata": {
        "id": "Yk-dsPqfSi7o",
        "colab_type": "code",
        "colab": {
          "base_uri": "https://localhost:8080/",
          "height": 35
        },
        "outputId": "366ad64d-ea0d-4f23-8ced-0d3b242d11ad"
      },
      "source": [
        "## 3. Use hypo testing to find issue Repubs support more than Demz w/ p < 0.01\n",
        "p_value(democrat,republican,'contrasAid_bill')"
      ],
      "execution_count": 67,
      "outputs": [
        {
          "output_type": "execute_result",
          "data": {
            "text/plain": [
              "Ttest_indResult(statistic=18.052093200819733, pvalue=2.82471841372357e-54)"
            ]
          },
          "metadata": {
            "tags": []
          },
          "execution_count": 67
        }
      ]
    },
    {
      "cell_type": "markdown",
      "metadata": {
        "id": "BZYCFzwheutY",
        "colab_type": "text"
      },
      "source": [
        "### 3).\n",
        "### After:\n",
        "\n",
        "4) T-stat: 18.0521\n",
        "\n",
        "5) P-value: 2.825e-54\n",
        "\n",
        "### Interpretation:\n",
        "\n",
        "Due to the calculating t-stat of 18.0521 which corresponds to 2.825e-54, we reject the null hypo that the parties are voting in the same way, and suggest the alternative hypo that the parties are voting extremely differently on this bill."
      ]
    },
    {
      "cell_type": "markdown",
      "metadata": {
        "id": "SxWV_bhffmcY",
        "colab_type": "text"
      },
      "source": [
        "\n",
        "\n",
        "---\n",
        "\n"
      ]
    },
    {
      "cell_type": "markdown",
      "metadata": {
        "id": "-X7jm554eXON",
        "colab_type": "text"
      },
      "source": [
        "### 4).\n",
        "### Before:\n",
        "\n",
        "1) Null Hypo (boring/default state)\n",
        "- the two parties are voting differently $\\mu_{1} = \\mu_{2}$ \n",
        "\n",
        "2) Alt. Hypo (opposite of null hypo)\n",
        "- the two parties are voting similiarly on bills that have no public interest\n",
        "\n",
        "3) Confidence Level: 95%\n",
        "\n",
        "**Confidence Level of 95%** (reach incorrect conclusion only 5% of the time)\n",
        "\n",
        "p < 1 - Confidence Level\n",
        "\n",
        "1- Confidence Level = $\\alpha$\n",
        "\n",
        "I REJECT THE NULL HYPO when my P-value < $\\alpha$ (1 - Confidence Level)"
      ]
    },
    {
      "cell_type": "code",
      "metadata": {
        "id": "4NIBwQR-S_jn",
        "colab_type": "code",
        "colab": {
          "base_uri": "https://localhost:8080/",
          "height": 35
        },
        "outputId": "9b21e271-bd69-4d74-8131-1d6ecd0df577"
      },
      "source": [
        "## 4. Use hypo testing to find Repubs and Demz supporting same bill w/ p > 0.01\n",
        "p_value(democrat,republican,'waterProject_bill')\n",
        "### I totally accept my imaginary alt hypothesis that boring bills are bipartisan."
      ],
      "execution_count": 68,
      "outputs": [
        {
          "output_type": "execute_result",
          "data": {
            "text/plain": [
              "Ttest_indResult(statistic=-0.08896538137868286, pvalue=0.9291556823993485)"
            ]
          },
          "metadata": {
            "tags": []
          },
          "execution_count": 68
        }
      ]
    },
    {
      "cell_type": "markdown",
      "metadata": {
        "id": "WwIAszHFfhQF",
        "colab_type": "text"
      },
      "source": [
        "### After:\n",
        "\n",
        "4) T-stat: -0.0890\n",
        "\n",
        "5) P-value: 0.929\n",
        "\n",
        "### Interpretation:\n",
        "\n",
        "\n",
        "Due to the calculating t-stat of -0.0890 which corresponds to 0.929, we reject the null hypo that the parties are voting in a different way, and suggest the alternative hypo that the parties are voting the same way on bills that have no partisan slant."
      ]
    }
  ]
}