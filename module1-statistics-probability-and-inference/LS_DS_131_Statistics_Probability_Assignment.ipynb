{
  "nbformat": 4,
  "nbformat_minor": 0,
  "metadata": {
    "kernelspec": {
      "display_name": "Python 3",
      "language": "python",
      "name": "python3"
    },
    "language_info": {
      "codemirror_mode": {
        "name": "ipython",
        "version": 3
      },
      "file_extension": ".py",
      "mimetype": "text/x-python",
      "name": "python",
      "nbconvert_exporter": "python",
      "pygments_lexer": "ipython3",
      "version": "3.7.3"
    },
    "colab": {
      "name": "Copy of LS_DS_131_Statistics_Probability_Assignment.ipynb",
      "version": "0.3.2",
      "provenance": [],
      "include_colab_link": true
    }
  },
  "cells": [
    {
      "cell_type": "markdown",
      "metadata": {
        "id": "view-in-github",
        "colab_type": "text"
      },
      "source": [
        "<a href=\"https://colab.research.google.com/github/CurtCalledBurt/DS-Unit-1-Sprint-3-Statistical-Tests-and-Experiments/blob/master/module1-statistics-probability-and-inference/LS_DS_131_Statistics_Probability_Assignment.ipynb\" target=\"_parent\"><img src=\"https://colab.research.google.com/assets/colab-badge.svg\" alt=\"Open In Colab\"/></a>"
      ]
    },
    {
      "cell_type": "markdown",
      "metadata": {
        "id": "JkFp0Jlnfwsm",
        "colab_type": "text"
      },
      "source": [
        "<img align=\"left\" src=\"https://lever-client-logos.s3.amazonaws.com/864372b1-534c-480e-acd5-9711f850815c-1524247202159.png\" width=200>\n",
        "<br></br>\n",
        "<br></br>\n",
        "\n",
        "## *Data Science Unit 1 Sprint 3 Assignment 1*\n",
        "\n",
        "# Apply the t-test to real data\n",
        "\n",
        "Your assignment is to determine which issues have \"statistically significant\" differences between political parties in this [1980s congressional voting data](https://archive.ics.uci.edu/ml/datasets/Congressional+Voting+Records). The data consists of 435 instances (one for each congressperson), a class (democrat or republican), and 16 binary attributes (yes or no for voting for or against certain issues). Be aware - there are missing values!\n",
        "\n",
        "Your goals:\n",
        "\n",
        "1. Load and clean the data (or determine the best method to drop observations when running tests)\n",
        "2. Using hypothesis testing, find an issue that democrats support more than republicans with p < 0.01\n",
        "3. Using hypothesis testing, find an issue that republicans support more than democrats with p < 0.01\n",
        "4. Using hypothesis testing, find an issue where the difference between republicans and democrats has p > 0.1 (i.e. there may not be much of a difference)\n",
        "\n",
        "Note that this data will involve *2 sample* t-tests, because you're comparing averages across two groups (republicans and democrats) rather than a single group against a null hypothesis.\n",
        "\n",
        "Stretch goals:\n",
        "\n",
        "1. Refactor your code into functions so it's easy to rerun with arbitrary variables\n",
        "2. Apply hypothesis testing to your personal project data (for the purposes of this notebook you can type a summary of the hypothesis you formed and tested)"
      ]
    },
    {
      "cell_type": "code",
      "metadata": {
        "id": "WlCi29UZfwss",
        "colab_type": "code",
        "colab": {}
      },
      "source": [
        "import pandas as pd\n",
        "import numpy as np\n",
        "import matplotlib.pyplot as plt\n",
        "from scipy.stats import ttest_ind, ttest_ind_from_stats, ttest_rel"
      ],
      "execution_count": 0,
      "outputs": []
    },
    {
      "cell_type": "code",
      "metadata": {
        "id": "gNB4Ge_PgRBo",
        "colab_type": "code",
        "colab": {
          "base_uri": "https://localhost:8080/",
          "height": 195
        },
        "outputId": "2083ecb5-bd7b-4972-bbec-513c10bc65f7"
      },
      "source": [
        "politics = pd.read_csv('https://archive.ics.uci.edu/ml/machine-learning-databases/voting-records/house-votes-84.data',\n",
        "                      na_values = '?')\n",
        "politics.head()"
      ],
      "execution_count": 13,
      "outputs": [
        {
          "output_type": "execute_result",
          "data": {
            "text/html": [
              "<div>\n",
              "<style scoped>\n",
              "    .dataframe tbody tr th:only-of-type {\n",
              "        vertical-align: middle;\n",
              "    }\n",
              "\n",
              "    .dataframe tbody tr th {\n",
              "        vertical-align: top;\n",
              "    }\n",
              "\n",
              "    .dataframe thead th {\n",
              "        text-align: right;\n",
              "    }\n",
              "</style>\n",
              "<table border=\"1\" class=\"dataframe\">\n",
              "  <thead>\n",
              "    <tr style=\"text-align: right;\">\n",
              "      <th></th>\n",
              "      <th>republican</th>\n",
              "      <th>n</th>\n",
              "      <th>y</th>\n",
              "      <th>n.1</th>\n",
              "      <th>y.1</th>\n",
              "      <th>y.2</th>\n",
              "      <th>y.3</th>\n",
              "      <th>n.2</th>\n",
              "      <th>n.3</th>\n",
              "      <th>n.4</th>\n",
              "      <th>y.4</th>\n",
              "      <th>?</th>\n",
              "      <th>y.5</th>\n",
              "      <th>y.6</th>\n",
              "      <th>y.7</th>\n",
              "      <th>n.5</th>\n",
              "      <th>y.8</th>\n",
              "    </tr>\n",
              "  </thead>\n",
              "  <tbody>\n",
              "    <tr>\n",
              "      <th>0</th>\n",
              "      <td>republican</td>\n",
              "      <td>n</td>\n",
              "      <td>y</td>\n",
              "      <td>n</td>\n",
              "      <td>y</td>\n",
              "      <td>y</td>\n",
              "      <td>y</td>\n",
              "      <td>n</td>\n",
              "      <td>n</td>\n",
              "      <td>n</td>\n",
              "      <td>n</td>\n",
              "      <td>n</td>\n",
              "      <td>y</td>\n",
              "      <td>y</td>\n",
              "      <td>y</td>\n",
              "      <td>n</td>\n",
              "      <td>NaN</td>\n",
              "    </tr>\n",
              "    <tr>\n",
              "      <th>1</th>\n",
              "      <td>democrat</td>\n",
              "      <td>NaN</td>\n",
              "      <td>y</td>\n",
              "      <td>y</td>\n",
              "      <td>NaN</td>\n",
              "      <td>y</td>\n",
              "      <td>y</td>\n",
              "      <td>n</td>\n",
              "      <td>n</td>\n",
              "      <td>n</td>\n",
              "      <td>n</td>\n",
              "      <td>y</td>\n",
              "      <td>n</td>\n",
              "      <td>y</td>\n",
              "      <td>y</td>\n",
              "      <td>n</td>\n",
              "      <td>n</td>\n",
              "    </tr>\n",
              "    <tr>\n",
              "      <th>2</th>\n",
              "      <td>democrat</td>\n",
              "      <td>n</td>\n",
              "      <td>y</td>\n",
              "      <td>y</td>\n",
              "      <td>n</td>\n",
              "      <td>NaN</td>\n",
              "      <td>y</td>\n",
              "      <td>n</td>\n",
              "      <td>n</td>\n",
              "      <td>n</td>\n",
              "      <td>n</td>\n",
              "      <td>y</td>\n",
              "      <td>n</td>\n",
              "      <td>y</td>\n",
              "      <td>n</td>\n",
              "      <td>n</td>\n",
              "      <td>y</td>\n",
              "    </tr>\n",
              "    <tr>\n",
              "      <th>3</th>\n",
              "      <td>democrat</td>\n",
              "      <td>y</td>\n",
              "      <td>y</td>\n",
              "      <td>y</td>\n",
              "      <td>n</td>\n",
              "      <td>y</td>\n",
              "      <td>y</td>\n",
              "      <td>n</td>\n",
              "      <td>n</td>\n",
              "      <td>n</td>\n",
              "      <td>n</td>\n",
              "      <td>y</td>\n",
              "      <td>NaN</td>\n",
              "      <td>y</td>\n",
              "      <td>y</td>\n",
              "      <td>y</td>\n",
              "      <td>y</td>\n",
              "    </tr>\n",
              "    <tr>\n",
              "      <th>4</th>\n",
              "      <td>democrat</td>\n",
              "      <td>n</td>\n",
              "      <td>y</td>\n",
              "      <td>y</td>\n",
              "      <td>n</td>\n",
              "      <td>y</td>\n",
              "      <td>y</td>\n",
              "      <td>n</td>\n",
              "      <td>n</td>\n",
              "      <td>n</td>\n",
              "      <td>n</td>\n",
              "      <td>n</td>\n",
              "      <td>n</td>\n",
              "      <td>y</td>\n",
              "      <td>y</td>\n",
              "      <td>y</td>\n",
              "      <td>y</td>\n",
              "    </tr>\n",
              "  </tbody>\n",
              "</table>\n",
              "</div>"
            ],
            "text/plain": [
              "   republican    n  y n.1  y.1  y.2 y.3 n.2  ... n.4 y.4  ?  y.5 y.6 y.7 n.5  y.8\n",
              "0  republican    n  y   n    y    y   y   n  ...   n   n  n    y   y   y   n  NaN\n",
              "1    democrat  NaN  y   y  NaN    y   y   n  ...   n   n  y    n   y   y   n    n\n",
              "2    democrat    n  y   y    n  NaN   y   n  ...   n   n  y    n   y   n   n    y\n",
              "3    democrat    y  y   y    n    y   y   n  ...   n   n  y  NaN   y   y   y    y\n",
              "4    democrat    n  y   y    n    y   y   n  ...   n   n  n    n   y   y   y    y\n",
              "\n",
              "[5 rows x 17 columns]"
            ]
          },
          "metadata": {
            "tags": []
          },
          "execution_count": 13
        }
      ]
    },
    {
      "cell_type": "code",
      "metadata": {
        "id": "ZfvaZL_Zg_Rv",
        "colab_type": "code",
        "colab": {}
      },
      "source": [
        "bills = {\n",
        "    'republican': 'party',\n",
        "    'n': 'handicapped-infants',\n",
        "    'y': 'water-project-cost-sharing',\n",
        "    'n.1': 'adoption-of-the-budget-resolution',\n",
        "    'y.1': 'physician-fee-freeze',\n",
        "    'y.2': 'el-salvador-aid',\n",
        "    'y.3': 'religious-groups-in-schools',\n",
        "    'n.2': 'anti-satellite-test-ban',\n",
        "    'n.3': 'aid-to-nicaraguan-contras', \n",
        "    'n.4': 'mx-missile', \n",
        "    'y.4': 'immigration', \n",
        "    '?': 'synfuels-corporation-cutback', \n",
        "    'y.5': 'education-spending', \n",
        "    'y.6': 'superfund-right-to-sue', \n",
        "    'y.7': 'crime', \n",
        "    'n.5': 'duty-free-exports', \n",
        "    'y.8': 'export-administration-act-south-africa'\n",
        "}"
      ],
      "execution_count": 0,
      "outputs": []
    },
    {
      "cell_type": "code",
      "metadata": {
        "id": "DPUoo40ljJH_",
        "colab_type": "code",
        "colab": {
          "base_uri": "https://localhost:8080/",
          "height": 34
        },
        "outputId": "8315bfca-459b-4714-ee32-68953a949cca"
      },
      "source": [
        "politics.shape"
      ],
      "execution_count": 25,
      "outputs": [
        {
          "output_type": "execute_result",
          "data": {
            "text/plain": [
              "(434, 17)"
            ]
          },
          "metadata": {
            "tags": []
          },
          "execution_count": 25
        }
      ]
    },
    {
      "cell_type": "code",
      "metadata": {
        "id": "p1G7rqeaiSiR",
        "colab_type": "code",
        "colab": {
          "base_uri": "https://localhost:8080/",
          "height": 266
        },
        "outputId": "61b36bc4-1bee-4348-f43d-221f9d8ea410"
      },
      "source": [
        "politics = politics.rename(columns = bills)\n",
        "politics = politics.replace({'y': 1.0, 'n': 0.0})\n",
        "politics.head()"
      ],
      "execution_count": 39,
      "outputs": [
        {
          "output_type": "execute_result",
          "data": {
            "text/html": [
              "<div>\n",
              "<style scoped>\n",
              "    .dataframe tbody tr th:only-of-type {\n",
              "        vertical-align: middle;\n",
              "    }\n",
              "\n",
              "    .dataframe tbody tr th {\n",
              "        vertical-align: top;\n",
              "    }\n",
              "\n",
              "    .dataframe thead th {\n",
              "        text-align: right;\n",
              "    }\n",
              "</style>\n",
              "<table border=\"1\" class=\"dataframe\">\n",
              "  <thead>\n",
              "    <tr style=\"text-align: right;\">\n",
              "      <th></th>\n",
              "      <th>party</th>\n",
              "      <th>handicapped-infants</th>\n",
              "      <th>water-project-cost-sharing</th>\n",
              "      <th>adoption-of-the-budget-resolution</th>\n",
              "      <th>physician-fee-freeze</th>\n",
              "      <th>el-salvador-aid</th>\n",
              "      <th>religious-groups-in-schools</th>\n",
              "      <th>anti-satellite-test-ban</th>\n",
              "      <th>aid-to-nicaraguan-contras</th>\n",
              "      <th>mx-missile</th>\n",
              "      <th>immigration</th>\n",
              "      <th>synfuels-corporation-cutback</th>\n",
              "      <th>education-spending</th>\n",
              "      <th>superfund-right-to-sue</th>\n",
              "      <th>crime</th>\n",
              "      <th>duty-free-exports</th>\n",
              "      <th>export-administration-act-south-africa</th>\n",
              "    </tr>\n",
              "  </thead>\n",
              "  <tbody>\n",
              "    <tr>\n",
              "      <th>0</th>\n",
              "      <td>republican</td>\n",
              "      <td>0.0</td>\n",
              "      <td>1.0</td>\n",
              "      <td>0.0</td>\n",
              "      <td>1.0</td>\n",
              "      <td>1.0</td>\n",
              "      <td>1.0</td>\n",
              "      <td>0.0</td>\n",
              "      <td>0.0</td>\n",
              "      <td>0.0</td>\n",
              "      <td>0.0</td>\n",
              "      <td>0.0</td>\n",
              "      <td>1.0</td>\n",
              "      <td>1.0</td>\n",
              "      <td>1.0</td>\n",
              "      <td>0.0</td>\n",
              "      <td>NaN</td>\n",
              "    </tr>\n",
              "    <tr>\n",
              "      <th>1</th>\n",
              "      <td>democrat</td>\n",
              "      <td>NaN</td>\n",
              "      <td>1.0</td>\n",
              "      <td>1.0</td>\n",
              "      <td>NaN</td>\n",
              "      <td>1.0</td>\n",
              "      <td>1.0</td>\n",
              "      <td>0.0</td>\n",
              "      <td>0.0</td>\n",
              "      <td>0.0</td>\n",
              "      <td>0.0</td>\n",
              "      <td>1.0</td>\n",
              "      <td>0.0</td>\n",
              "      <td>1.0</td>\n",
              "      <td>1.0</td>\n",
              "      <td>0.0</td>\n",
              "      <td>0.0</td>\n",
              "    </tr>\n",
              "    <tr>\n",
              "      <th>2</th>\n",
              "      <td>democrat</td>\n",
              "      <td>0.0</td>\n",
              "      <td>1.0</td>\n",
              "      <td>1.0</td>\n",
              "      <td>0.0</td>\n",
              "      <td>NaN</td>\n",
              "      <td>1.0</td>\n",
              "      <td>0.0</td>\n",
              "      <td>0.0</td>\n",
              "      <td>0.0</td>\n",
              "      <td>0.0</td>\n",
              "      <td>1.0</td>\n",
              "      <td>0.0</td>\n",
              "      <td>1.0</td>\n",
              "      <td>0.0</td>\n",
              "      <td>0.0</td>\n",
              "      <td>1.0</td>\n",
              "    </tr>\n",
              "    <tr>\n",
              "      <th>3</th>\n",
              "      <td>democrat</td>\n",
              "      <td>1.0</td>\n",
              "      <td>1.0</td>\n",
              "      <td>1.0</td>\n",
              "      <td>0.0</td>\n",
              "      <td>1.0</td>\n",
              "      <td>1.0</td>\n",
              "      <td>0.0</td>\n",
              "      <td>0.0</td>\n",
              "      <td>0.0</td>\n",
              "      <td>0.0</td>\n",
              "      <td>1.0</td>\n",
              "      <td>NaN</td>\n",
              "      <td>1.0</td>\n",
              "      <td>1.0</td>\n",
              "      <td>1.0</td>\n",
              "      <td>1.0</td>\n",
              "    </tr>\n",
              "    <tr>\n",
              "      <th>4</th>\n",
              "      <td>democrat</td>\n",
              "      <td>0.0</td>\n",
              "      <td>1.0</td>\n",
              "      <td>1.0</td>\n",
              "      <td>0.0</td>\n",
              "      <td>1.0</td>\n",
              "      <td>1.0</td>\n",
              "      <td>0.0</td>\n",
              "      <td>0.0</td>\n",
              "      <td>0.0</td>\n",
              "      <td>0.0</td>\n",
              "      <td>0.0</td>\n",
              "      <td>0.0</td>\n",
              "      <td>1.0</td>\n",
              "      <td>1.0</td>\n",
              "      <td>1.0</td>\n",
              "      <td>1.0</td>\n",
              "    </tr>\n",
              "  </tbody>\n",
              "</table>\n",
              "</div>"
            ],
            "text/plain": [
              "        party  ...  export-administration-act-south-africa\n",
              "0  republican  ...                                     NaN\n",
              "1    democrat  ...                                     0.0\n",
              "2    democrat  ...                                     1.0\n",
              "3    democrat  ...                                     1.0\n",
              "4    democrat  ...                                     1.0\n",
              "\n",
              "[5 rows x 17 columns]"
            ]
          },
          "metadata": {
            "tags": []
          },
          "execution_count": 39
        }
      ]
    },
    {
      "cell_type": "code",
      "metadata": {
        "id": "YOLIvovXgftK",
        "colab_type": "code",
        "colab": {
          "base_uri": "https://localhost:8080/",
          "height": 319
        },
        "outputId": "2965e47c-a252-47c9-903b-3525f11ec194"
      },
      "source": [
        "politics.isna().sum()"
      ],
      "execution_count": 40,
      "outputs": [
        {
          "output_type": "execute_result",
          "data": {
            "text/plain": [
              "party                                       0\n",
              "handicapped-infants                        12\n",
              "water-project-cost-sharing                 48\n",
              "adoption-of-the-budget-resolution          11\n",
              "physician-fee-freeze                       11\n",
              "el-salvador-aid                            15\n",
              "religious-groups-in-schools                11\n",
              "anti-satellite-test-ban                    14\n",
              "aid-to-nicaraguan-contras                  15\n",
              "mx-missile                                 22\n",
              "immigration                                 7\n",
              "synfuels-corporation-cutback               20\n",
              "education-spending                         31\n",
              "superfund-right-to-sue                     25\n",
              "crime                                      17\n",
              "duty-free-exports                          28\n",
              "export-administration-act-south-africa    104\n",
              "dtype: int64"
            ]
          },
          "metadata": {
            "tags": []
          },
          "execution_count": 40
        }
      ]
    },
    {
      "cell_type": "markdown",
      "metadata": {
        "id": "5fBespR7ksvm",
        "colab_type": "text"
      },
      "source": [
        "So the NaNs are spread throughout the data, but other than in the export-administration column they probably aren't plentiful enough to be of significance. We can more or less safely drop them."
      ]
    },
    {
      "cell_type": "code",
      "metadata": {
        "id": "bD_HAjLVg1Vj",
        "colab_type": "code",
        "colab": {}
      },
      "source": [
        "republicans = politics[politics['party'] == 'republican']\n",
        "democrats = politics[politics['party'] == 'democrat']"
      ],
      "execution_count": 0,
      "outputs": []
    },
    {
      "cell_type": "code",
      "metadata": {
        "id": "HO2mVi_QoJ4H",
        "colab_type": "code",
        "colab": {
          "base_uri": "https://localhost:8080/",
          "height": 168
        },
        "outputId": "cb14cfda-7742-4a25-b03a-bac3568e66ee"
      },
      "source": [
        "print(politics['handicapped-infants'].value_counts(),'\\n',\n",
        "      democrats['handicapped-infants'].value_counts(),'\\n',\n",
        "      republicans['handicapped-infants'].value_counts() )"
      ],
      "execution_count": 48,
      "outputs": [
        {
          "output_type": "stream",
          "text": [
            "0.0    235\n",
            "1.0    187\n",
            "Name: handicapped-infants, dtype: int64 \n",
            " 1.0    156\n",
            "0.0    102\n",
            "Name: handicapped-infants, dtype: int64 \n",
            " 0.0    133\n",
            "1.0     31\n",
            "Name: handicapped-infants, dtype: int64\n"
          ],
          "name": "stdout"
        }
      ]
    },
    {
      "cell_type": "code",
      "metadata": {
        "id": "-7COAyyBoLm7",
        "colab_type": "code",
        "colab": {
          "base_uri": "https://localhost:8080/",
          "height": 34
        },
        "outputId": "277378fe-7d83-45f8-977a-0099bc6e9272"
      },
      "source": [
        "democrats['handicapped-infants'].mean()\n",
        "#.mean() by default doesn't use NaN values, so no need to worry about doing anything special\n",
        "#to account for them"
      ],
      "execution_count": 50,
      "outputs": [
        {
          "output_type": "execute_result",
          "data": {
            "text/plain": [
              "0.6046511627906976"
            ]
          },
          "metadata": {
            "tags": []
          },
          "execution_count": 50
        }
      ]
    },
    {
      "cell_type": "code",
      "metadata": {
        "id": "vrOZugtzp5BB",
        "colab_type": "code",
        "colab": {
          "base_uri": "https://localhost:8080/",
          "height": 34
        },
        "outputId": "c138ca3e-2f3d-406f-b5cc-5951901950a1"
      },
      "source": [
        "republicans['handicapped-infants'].mean()"
      ],
      "execution_count": 51,
      "outputs": [
        {
          "output_type": "execute_result",
          "data": {
            "text/plain": [
              "0.18902439024390244"
            ]
          },
          "metadata": {
            "tags": []
          },
          "execution_count": 51
        }
      ]
    },
    {
      "cell_type": "code",
      "metadata": {
        "id": "iQxYQEkJsSh6",
        "colab_type": "code",
        "colab": {}
      },
      "source": [
        "#these means look really different, so the support for p value for this bill support will likely be \n",
        "#below the required threshold "
      ],
      "execution_count": 0,
      "outputs": []
    },
    {
      "cell_type": "code",
      "metadata": {
        "id": "G2DQesQUqO80",
        "colab_type": "code",
        "colab": {
          "base_uri": "https://localhost:8080/",
          "height": 34
        },
        "outputId": "e8502aac-e116-4c2b-ca7b-45081e203566"
      },
      "source": [
        "#We are looking to see if one party favors a type of bill over eachother, so we are looking to see\n",
        "#if we can regect x1 = x2, so we'll want to use 2 sample testing for this\n",
        "\n",
        "ttest_ind(democrats['handicapped-infants'], republicans['handicapped-infants'], nan_policy='omit')"
      ],
      "execution_count": 54,
      "outputs": [
        {
          "output_type": "execute_result",
          "data": {
            "text/plain": [
              "Ttest_indResult(statistic=9.15392122841775, pvalue=2.4195550274149624e-18)"
            ]
          },
          "metadata": {
            "tags": []
          },
          "execution_count": 54
        }
      ]
    },
    {
      "cell_type": "markdown",
      "metadata": {
        "id": "MxcRj0rzrNVu",
        "colab_type": "text"
      },
      "source": [
        "Our p-value is $\\approx 2.42e^{-18}$. This is well below $.01$ so we reject the null hypothesis that democrats and republicans support this bill the same amount. As democrats were listed first and our t-statistic is positive, we infer that democrats support the bill more than republicans (if we'd listed republicans first in the code we would have gotten the same statistic, but negative, telling us rebublican support for the bill was less than the deomcrats')."
      ]
    },
    {
      "cell_type": "code",
      "metadata": {
        "id": "ufN9oOJaq3Ky",
        "colab_type": "code",
        "colab": {
          "base_uri": "https://localhost:8080/",
          "height": 34
        },
        "outputId": "d735b313-6ddb-4e9b-ec78-b4c8880647f0"
      },
      "source": [
        "democrats['crime'].mean()"
      ],
      "execution_count": 56,
      "outputs": [
        {
          "output_type": "execute_result",
          "data": {
            "text/plain": [
              "0.35019455252918286"
            ]
          },
          "metadata": {
            "tags": []
          },
          "execution_count": 56
        }
      ]
    },
    {
      "cell_type": "code",
      "metadata": {
        "id": "by58vZoZspd4",
        "colab_type": "code",
        "colab": {
          "base_uri": "https://localhost:8080/",
          "height": 34
        },
        "outputId": "865220ec-ef41-49b0-d373-c725f858896e"
      },
      "source": [
        "republican['crime'].mean()"
      ],
      "execution_count": 57,
      "outputs": [
        {
          "output_type": "execute_result",
          "data": {
            "text/plain": [
              "0.98125"
            ]
          },
          "metadata": {
            "tags": []
          },
          "execution_count": 57
        }
      ]
    },
    {
      "cell_type": "code",
      "metadata": {
        "id": "NEeUo7TYstwY",
        "colab_type": "code",
        "colab": {}
      },
      "source": [
        "#means look really different, this is a good place to look for low p-values"
      ],
      "execution_count": 0,
      "outputs": []
    },
    {
      "cell_type": "code",
      "metadata": {
        "id": "ogCSkxIhs0Pl",
        "colab_type": "code",
        "colab": {
          "base_uri": "https://localhost:8080/",
          "height": 34
        },
        "outputId": "dac32491-1fe6-4bf5-b9a2-d82c0dc232eb"
      },
      "source": [
        "#same as before, we are assuming and trying to reject that x1 = x2, so we'll use two sample testing\n",
        "\n",
        "ttest_ind(republicans['crime'], democrats['crime'], nan_policy='omit')"
      ],
      "execution_count": 60,
      "outputs": [
        {
          "output_type": "execute_result",
          "data": {
            "text/plain": [
              "Ttest_indResult(statistic=16.288201256755894, pvalue=1.796481827173887e-46)"
            ]
          },
          "metadata": {
            "tags": []
          },
          "execution_count": 60
        }
      ]
    },
    {
      "cell_type": "markdown",
      "metadata": {
        "id": "3Pe-6IdGtH2e",
        "colab_type": "text"
      },
      "source": [
        "Our p-value is $\\approx 1.8e^{-46}$. Ridiculously below $.01$ so we reject the null hypothesis that democrats and republicans support this bill the same amount. As republicans  were listed first and our t-statistic is positive, we infer that republicans support the bill more than democrats (if we'd listed democrats first in the code we would have gotten the same statistic, but negative, telling us democrat support for the bill was less than the republicans')."
      ]
    },
    {
      "cell_type": "code",
      "metadata": {
        "id": "we5wEa7JujPc",
        "colab_type": "code",
        "colab": {}
      },
      "source": [
        "#finding an issue that they agreed on felt more difficult than picking an issue they disagreed on,\n",
        "#so I decided to cheat a little, use .describe() to look at ALL the means, and find one that might \n",
        "#be similiar between the two. Didn't have to go far, water-project-cost-sharing looks like\n",
        "#it will fit the bill"
      ],
      "execution_count": 0,
      "outputs": []
    },
    {
      "cell_type": "code",
      "metadata": {
        "id": "Tlkgh6VuuQEP",
        "colab_type": "code",
        "colab": {
          "base_uri": "https://localhost:8080/",
          "height": 354
        },
        "outputId": "8e9cda3e-1389-4fbc-9260-6a1c0b57e4e0"
      },
      "source": [
        "democrats.describe()"
      ],
      "execution_count": 72,
      "outputs": [
        {
          "output_type": "execute_result",
          "data": {
            "text/html": [
              "<div>\n",
              "<style scoped>\n",
              "    .dataframe tbody tr th:only-of-type {\n",
              "        vertical-align: middle;\n",
              "    }\n",
              "\n",
              "    .dataframe tbody tr th {\n",
              "        vertical-align: top;\n",
              "    }\n",
              "\n",
              "    .dataframe thead th {\n",
              "        text-align: right;\n",
              "    }\n",
              "</style>\n",
              "<table border=\"1\" class=\"dataframe\">\n",
              "  <thead>\n",
              "    <tr style=\"text-align: right;\">\n",
              "      <th></th>\n",
              "      <th>handicapped-infants</th>\n",
              "      <th>water-project-cost-sharing</th>\n",
              "      <th>adoption-of-the-budget-resolution</th>\n",
              "      <th>physician-fee-freeze</th>\n",
              "      <th>el-salvador-aid</th>\n",
              "      <th>religious-groups-in-schools</th>\n",
              "      <th>anti-satellite-test-ban</th>\n",
              "      <th>aid-to-nicaraguan-contras</th>\n",
              "      <th>mx-missile</th>\n",
              "      <th>immigration</th>\n",
              "      <th>synfuels-corporation-cutback</th>\n",
              "      <th>education-spending</th>\n",
              "      <th>superfund-right-to-sue</th>\n",
              "      <th>crime</th>\n",
              "      <th>duty-free-exports</th>\n",
              "      <th>export-administration-act-south-africa</th>\n",
              "    </tr>\n",
              "  </thead>\n",
              "  <tbody>\n",
              "    <tr>\n",
              "      <th>count</th>\n",
              "      <td>258.000000</td>\n",
              "      <td>239.000000</td>\n",
              "      <td>260.000000</td>\n",
              "      <td>259.000000</td>\n",
              "      <td>255.000000</td>\n",
              "      <td>258.000000</td>\n",
              "      <td>259.000000</td>\n",
              "      <td>263.000000</td>\n",
              "      <td>248.000000</td>\n",
              "      <td>263.000000</td>\n",
              "      <td>255.000000</td>\n",
              "      <td>249.000000</td>\n",
              "      <td>252.000000</td>\n",
              "      <td>257.000000</td>\n",
              "      <td>251.000000</td>\n",
              "      <td>185.000000</td>\n",
              "    </tr>\n",
              "    <tr>\n",
              "      <th>mean</th>\n",
              "      <td>0.604651</td>\n",
              "      <td>0.502092</td>\n",
              "      <td>0.888462</td>\n",
              "      <td>0.054054</td>\n",
              "      <td>0.215686</td>\n",
              "      <td>0.476744</td>\n",
              "      <td>0.772201</td>\n",
              "      <td>0.828897</td>\n",
              "      <td>0.758065</td>\n",
              "      <td>0.471483</td>\n",
              "      <td>0.505882</td>\n",
              "      <td>0.144578</td>\n",
              "      <td>0.289683</td>\n",
              "      <td>0.350195</td>\n",
              "      <td>0.637450</td>\n",
              "      <td>0.935135</td>\n",
              "    </tr>\n",
              "    <tr>\n",
              "      <th>std</th>\n",
              "      <td>0.489876</td>\n",
              "      <td>0.501045</td>\n",
              "      <td>0.315405</td>\n",
              "      <td>0.226562</td>\n",
              "      <td>0.412106</td>\n",
              "      <td>0.500430</td>\n",
              "      <td>0.420224</td>\n",
              "      <td>0.377317</td>\n",
              "      <td>0.429121</td>\n",
              "      <td>0.500138</td>\n",
              "      <td>0.500949</td>\n",
              "      <td>0.352383</td>\n",
              "      <td>0.454518</td>\n",
              "      <td>0.477962</td>\n",
              "      <td>0.481697</td>\n",
              "      <td>0.246956</td>\n",
              "    </tr>\n",
              "    <tr>\n",
              "      <th>min</th>\n",
              "      <td>0.000000</td>\n",
              "      <td>0.000000</td>\n",
              "      <td>0.000000</td>\n",
              "      <td>0.000000</td>\n",
              "      <td>0.000000</td>\n",
              "      <td>0.000000</td>\n",
              "      <td>0.000000</td>\n",
              "      <td>0.000000</td>\n",
              "      <td>0.000000</td>\n",
              "      <td>0.000000</td>\n",
              "      <td>0.000000</td>\n",
              "      <td>0.000000</td>\n",
              "      <td>0.000000</td>\n",
              "      <td>0.000000</td>\n",
              "      <td>0.000000</td>\n",
              "      <td>0.000000</td>\n",
              "    </tr>\n",
              "    <tr>\n",
              "      <th>25%</th>\n",
              "      <td>0.000000</td>\n",
              "      <td>0.000000</td>\n",
              "      <td>1.000000</td>\n",
              "      <td>0.000000</td>\n",
              "      <td>0.000000</td>\n",
              "      <td>0.000000</td>\n",
              "      <td>1.000000</td>\n",
              "      <td>1.000000</td>\n",
              "      <td>1.000000</td>\n",
              "      <td>0.000000</td>\n",
              "      <td>0.000000</td>\n",
              "      <td>0.000000</td>\n",
              "      <td>0.000000</td>\n",
              "      <td>0.000000</td>\n",
              "      <td>0.000000</td>\n",
              "      <td>1.000000</td>\n",
              "    </tr>\n",
              "    <tr>\n",
              "      <th>50%</th>\n",
              "      <td>1.000000</td>\n",
              "      <td>1.000000</td>\n",
              "      <td>1.000000</td>\n",
              "      <td>0.000000</td>\n",
              "      <td>0.000000</td>\n",
              "      <td>0.000000</td>\n",
              "      <td>1.000000</td>\n",
              "      <td>1.000000</td>\n",
              "      <td>1.000000</td>\n",
              "      <td>0.000000</td>\n",
              "      <td>1.000000</td>\n",
              "      <td>0.000000</td>\n",
              "      <td>0.000000</td>\n",
              "      <td>0.000000</td>\n",
              "      <td>1.000000</td>\n",
              "      <td>1.000000</td>\n",
              "    </tr>\n",
              "    <tr>\n",
              "      <th>75%</th>\n",
              "      <td>1.000000</td>\n",
              "      <td>1.000000</td>\n",
              "      <td>1.000000</td>\n",
              "      <td>0.000000</td>\n",
              "      <td>0.000000</td>\n",
              "      <td>1.000000</td>\n",
              "      <td>1.000000</td>\n",
              "      <td>1.000000</td>\n",
              "      <td>1.000000</td>\n",
              "      <td>1.000000</td>\n",
              "      <td>1.000000</td>\n",
              "      <td>0.000000</td>\n",
              "      <td>1.000000</td>\n",
              "      <td>1.000000</td>\n",
              "      <td>1.000000</td>\n",
              "      <td>1.000000</td>\n",
              "    </tr>\n",
              "    <tr>\n",
              "      <th>max</th>\n",
              "      <td>1.000000</td>\n",
              "      <td>1.000000</td>\n",
              "      <td>1.000000</td>\n",
              "      <td>1.000000</td>\n",
              "      <td>1.000000</td>\n",
              "      <td>1.000000</td>\n",
              "      <td>1.000000</td>\n",
              "      <td>1.000000</td>\n",
              "      <td>1.000000</td>\n",
              "      <td>1.000000</td>\n",
              "      <td>1.000000</td>\n",
              "      <td>1.000000</td>\n",
              "      <td>1.000000</td>\n",
              "      <td>1.000000</td>\n",
              "      <td>1.000000</td>\n",
              "      <td>1.000000</td>\n",
              "    </tr>\n",
              "  </tbody>\n",
              "</table>\n",
              "</div>"
            ],
            "text/plain": [
              "       handicapped-infants  ...  export-administration-act-south-africa\n",
              "count           258.000000  ...                              185.000000\n",
              "mean              0.604651  ...                                0.935135\n",
              "std               0.489876  ...                                0.246956\n",
              "min               0.000000  ...                                0.000000\n",
              "25%               0.000000  ...                                1.000000\n",
              "50%               1.000000  ...                                1.000000\n",
              "75%               1.000000  ...                                1.000000\n",
              "max               1.000000  ...                                1.000000\n",
              "\n",
              "[8 rows x 16 columns]"
            ]
          },
          "metadata": {
            "tags": []
          },
          "execution_count": 72
        }
      ]
    },
    {
      "cell_type": "code",
      "metadata": {
        "id": "alWCW-71uVbK",
        "colab_type": "code",
        "colab": {
          "base_uri": "https://localhost:8080/",
          "height": 354
        },
        "outputId": "e2e1e4a3-caec-4f96-e578-70b5aedfd31f"
      },
      "source": [
        "republicans.describe()"
      ],
      "execution_count": 73,
      "outputs": [
        {
          "output_type": "execute_result",
          "data": {
            "text/html": [
              "<div>\n",
              "<style scoped>\n",
              "    .dataframe tbody tr th:only-of-type {\n",
              "        vertical-align: middle;\n",
              "    }\n",
              "\n",
              "    .dataframe tbody tr th {\n",
              "        vertical-align: top;\n",
              "    }\n",
              "\n",
              "    .dataframe thead th {\n",
              "        text-align: right;\n",
              "    }\n",
              "</style>\n",
              "<table border=\"1\" class=\"dataframe\">\n",
              "  <thead>\n",
              "    <tr style=\"text-align: right;\">\n",
              "      <th></th>\n",
              "      <th>handicapped-infants</th>\n",
              "      <th>water-project-cost-sharing</th>\n",
              "      <th>adoption-of-the-budget-resolution</th>\n",
              "      <th>physician-fee-freeze</th>\n",
              "      <th>el-salvador-aid</th>\n",
              "      <th>religious-groups-in-schools</th>\n",
              "      <th>anti-satellite-test-ban</th>\n",
              "      <th>aid-to-nicaraguan-contras</th>\n",
              "      <th>mx-missile</th>\n",
              "      <th>immigration</th>\n",
              "      <th>synfuels-corporation-cutback</th>\n",
              "      <th>education-spending</th>\n",
              "      <th>superfund-right-to-sue</th>\n",
              "      <th>crime</th>\n",
              "      <th>duty-free-exports</th>\n",
              "      <th>export-administration-act-south-africa</th>\n",
              "    </tr>\n",
              "  </thead>\n",
              "  <tbody>\n",
              "    <tr>\n",
              "      <th>count</th>\n",
              "      <td>164.000000</td>\n",
              "      <td>147.000000</td>\n",
              "      <td>163.000000</td>\n",
              "      <td>164.000000</td>\n",
              "      <td>164.000000</td>\n",
              "      <td>165.000000</td>\n",
              "      <td>161.000000</td>\n",
              "      <td>156.000000</td>\n",
              "      <td>164.000000</td>\n",
              "      <td>164.000000</td>\n",
              "      <td>159.000000</td>\n",
              "      <td>154.000000</td>\n",
              "      <td>157.000000</td>\n",
              "      <td>160.000000</td>\n",
              "      <td>155.000000</td>\n",
              "      <td>145.000000</td>\n",
              "    </tr>\n",
              "    <tr>\n",
              "      <th>mean</th>\n",
              "      <td>0.189024</td>\n",
              "      <td>0.503401</td>\n",
              "      <td>0.134969</td>\n",
              "      <td>0.987805</td>\n",
              "      <td>0.951220</td>\n",
              "      <td>0.896970</td>\n",
              "      <td>0.242236</td>\n",
              "      <td>0.153846</td>\n",
              "      <td>0.115854</td>\n",
              "      <td>0.554878</td>\n",
              "      <td>0.132075</td>\n",
              "      <td>0.870130</td>\n",
              "      <td>0.859873</td>\n",
              "      <td>0.981250</td>\n",
              "      <td>0.090323</td>\n",
              "      <td>0.655172</td>\n",
              "    </tr>\n",
              "    <tr>\n",
              "      <th>std</th>\n",
              "      <td>0.392727</td>\n",
              "      <td>0.501698</td>\n",
              "      <td>0.342744</td>\n",
              "      <td>0.110092</td>\n",
              "      <td>0.216069</td>\n",
              "      <td>0.304924</td>\n",
              "      <td>0.429773</td>\n",
              "      <td>0.361963</td>\n",
              "      <td>0.321030</td>\n",
              "      <td>0.498501</td>\n",
              "      <td>0.339643</td>\n",
              "      <td>0.337257</td>\n",
              "      <td>0.348230</td>\n",
              "      <td>0.136067</td>\n",
              "      <td>0.287573</td>\n",
              "      <td>0.476960</td>\n",
              "    </tr>\n",
              "    <tr>\n",
              "      <th>min</th>\n",
              "      <td>0.000000</td>\n",
              "      <td>0.000000</td>\n",
              "      <td>0.000000</td>\n",
              "      <td>0.000000</td>\n",
              "      <td>0.000000</td>\n",
              "      <td>0.000000</td>\n",
              "      <td>0.000000</td>\n",
              "      <td>0.000000</td>\n",
              "      <td>0.000000</td>\n",
              "      <td>0.000000</td>\n",
              "      <td>0.000000</td>\n",
              "      <td>0.000000</td>\n",
              "      <td>0.000000</td>\n",
              "      <td>0.000000</td>\n",
              "      <td>0.000000</td>\n",
              "      <td>0.000000</td>\n",
              "    </tr>\n",
              "    <tr>\n",
              "      <th>25%</th>\n",
              "      <td>0.000000</td>\n",
              "      <td>0.000000</td>\n",
              "      <td>0.000000</td>\n",
              "      <td>1.000000</td>\n",
              "      <td>1.000000</td>\n",
              "      <td>1.000000</td>\n",
              "      <td>0.000000</td>\n",
              "      <td>0.000000</td>\n",
              "      <td>0.000000</td>\n",
              "      <td>0.000000</td>\n",
              "      <td>0.000000</td>\n",
              "      <td>1.000000</td>\n",
              "      <td>1.000000</td>\n",
              "      <td>1.000000</td>\n",
              "      <td>0.000000</td>\n",
              "      <td>0.000000</td>\n",
              "    </tr>\n",
              "    <tr>\n",
              "      <th>50%</th>\n",
              "      <td>0.000000</td>\n",
              "      <td>1.000000</td>\n",
              "      <td>0.000000</td>\n",
              "      <td>1.000000</td>\n",
              "      <td>1.000000</td>\n",
              "      <td>1.000000</td>\n",
              "      <td>0.000000</td>\n",
              "      <td>0.000000</td>\n",
              "      <td>0.000000</td>\n",
              "      <td>1.000000</td>\n",
              "      <td>0.000000</td>\n",
              "      <td>1.000000</td>\n",
              "      <td>1.000000</td>\n",
              "      <td>1.000000</td>\n",
              "      <td>0.000000</td>\n",
              "      <td>1.000000</td>\n",
              "    </tr>\n",
              "    <tr>\n",
              "      <th>75%</th>\n",
              "      <td>0.000000</td>\n",
              "      <td>1.000000</td>\n",
              "      <td>0.000000</td>\n",
              "      <td>1.000000</td>\n",
              "      <td>1.000000</td>\n",
              "      <td>1.000000</td>\n",
              "      <td>0.000000</td>\n",
              "      <td>0.000000</td>\n",
              "      <td>0.000000</td>\n",
              "      <td>1.000000</td>\n",
              "      <td>0.000000</td>\n",
              "      <td>1.000000</td>\n",
              "      <td>1.000000</td>\n",
              "      <td>1.000000</td>\n",
              "      <td>0.000000</td>\n",
              "      <td>1.000000</td>\n",
              "    </tr>\n",
              "    <tr>\n",
              "      <th>max</th>\n",
              "      <td>1.000000</td>\n",
              "      <td>1.000000</td>\n",
              "      <td>1.000000</td>\n",
              "      <td>1.000000</td>\n",
              "      <td>1.000000</td>\n",
              "      <td>1.000000</td>\n",
              "      <td>1.000000</td>\n",
              "      <td>1.000000</td>\n",
              "      <td>1.000000</td>\n",
              "      <td>1.000000</td>\n",
              "      <td>1.000000</td>\n",
              "      <td>1.000000</td>\n",
              "      <td>1.000000</td>\n",
              "      <td>1.000000</td>\n",
              "      <td>1.000000</td>\n",
              "      <td>1.000000</td>\n",
              "    </tr>\n",
              "  </tbody>\n",
              "</table>\n",
              "</div>"
            ],
            "text/plain": [
              "       handicapped-infants  ...  export-administration-act-south-africa\n",
              "count           164.000000  ...                              145.000000\n",
              "mean              0.189024  ...                                0.655172\n",
              "std               0.392727  ...                                0.476960\n",
              "min               0.000000  ...                                0.000000\n",
              "25%               0.000000  ...                                0.000000\n",
              "50%               0.000000  ...                                1.000000\n",
              "75%               0.000000  ...                                1.000000\n",
              "max               1.000000  ...                                1.000000\n",
              "\n",
              "[8 rows x 16 columns]"
            ]
          },
          "metadata": {
            "tags": []
          },
          "execution_count": 73
        }
      ]
    },
    {
      "cell_type": "code",
      "metadata": {
        "id": "AKVeSjBStn-i",
        "colab_type": "code",
        "colab": {
          "base_uri": "https://localhost:8080/",
          "height": 34
        },
        "outputId": "4f5c9684-fb16-4e22-9c54-cbb62c76aaab"
      },
      "source": [
        "ttest_ind(democrats['water-project-cost-sharing'], republican['water-project-cost-sharing'], nan_policy = 'omit')"
      ],
      "execution_count": 74,
      "outputs": [
        {
          "output_type": "execute_result",
          "data": {
            "text/plain": [
              "Ttest_indResult(statistic=-0.02491808700047811, pvalue=0.9801332440121653)"
            ]
          },
          "metadata": {
            "tags": []
          },
          "execution_count": 74
        }
      ]
    },
    {
      "cell_type": "markdown",
      "metadata": {
        "id": "mlOXUjZru9p0",
        "colab_type": "text"
      },
      "source": [
        "Our p-value is $\\approx .98$. Far above $.01$ so we fail to reject the null hypothesis that democrats and republicans support this bill the same amount. So, we conclude it likely that, when looking strictly at party affiliation, there is no preference one way or the other on this bill."
      ]
    }
  ]
}