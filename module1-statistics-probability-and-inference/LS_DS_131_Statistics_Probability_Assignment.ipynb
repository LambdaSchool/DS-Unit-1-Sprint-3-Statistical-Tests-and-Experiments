{
  "nbformat": 4,
  "nbformat_minor": 0,
  "metadata": {
    "kernelspec": {
      "display_name": "Python 3",
      "language": "python",
      "name": "python3"
    },
    "language_info": {
      "codemirror_mode": {
        "name": "ipython",
        "version": 3
      },
      "file_extension": ".py",
      "mimetype": "text/x-python",
      "name": "python",
      "nbconvert_exporter": "python",
      "pygments_lexer": "ipython3",
      "version": "3.7.3"
    },
    "colab": {
      "name": "Raina Gustafson :: LS_DS_131_Statistics_Probability_Assignment.ipynb",
      "version": "0.3.2",
      "provenance": [],
      "include_colab_link": true
    }
  },
  "cells": [
    {
      "cell_type": "markdown",
      "metadata": {
        "id": "view-in-github",
        "colab_type": "text"
      },
      "source": [
        "<a href=\"https://colab.research.google.com/github/rsskga/DS-Unit-1-Sprint-3-Statistical-Tests-and-Experiments/blob/master/module1-statistics-probability-and-inference/LS_DS_131_Statistics_Probability_Assignment.ipynb\" target=\"_parent\"><img src=\"https://colab.research.google.com/assets/colab-badge.svg\" alt=\"Open In Colab\"/></a>"
      ]
    },
    {
      "cell_type": "markdown",
      "metadata": {
        "id": "-LnntEH_wT1E",
        "colab_type": "text"
      },
      "source": [
        "<img align=\"left\" src=\"https://lever-client-logos.s3.amazonaws.com/864372b1-534c-480e-acd5-9711f850815c-1524247202159.png\" width=200>\n",
        "<br></br>\n",
        "<br></br>\n",
        "\n",
        "## *Data Science Unit 1 Sprint 3 Assignment 1*\n",
        "\n",
        "# Apply the t-test to real data\n",
        "\n",
        "Your assignment is to determine which issues have \"statistically significant\" differences between political parties in this [1980s congressional voting data](https://archive.ics.uci.edu/ml/datasets/Congressional+Voting+Records). The data consists of 435 instances (one for each congressperson), a class (democrat or republican), and 16 binary attributes (yes or no for voting for or against certain issues). Be aware - there are missing values!\n",
        "\n",
        "Your goals:\n",
        "\n",
        "1. Load and clean the data (or determine the best method to drop observations when running tests)\n",
        "2. Using hypothesis testing, find an issue that democrats support more than republicans with p < 0.01\n",
        "3. Using hypothesis testing, find an issue that republicans support more than democrats with p < 0.01\n",
        "4. Using hypothesis testing, find an issue where the difference between republicans and democrats has p > 0.1 (i.e. there may not be much of a difference)\n",
        "\n",
        "Note that this data will involve *2 sample* t-tests, because you're comparing averages across two groups (republicans and democrats) rather than a single group against a null hypothesis.\n",
        "\n",
        "Stretch goals:\n",
        "\n",
        "1. Refactor your code into functions so it's easy to rerun with arbitrary variables\n",
        "2. Apply hypothesis testing to your personal project data (for the purposes of this notebook you can type a summary of the hypothesis you formed and tested)"
      ]
    },
    {
      "cell_type": "code",
      "metadata": {
        "id": "QcrX63T9wT1G",
        "colab_type": "code",
        "colab": {}
      },
      "source": [
        "import pandas as pd\n",
        "import numpy as np\n",
        "import matplotlib.pyplot as plt\n",
        "import seaborn as sns\n",
        "from scipy.stats import ttest_1samp, ttest_ind, ttest_ind_from_stats, ttest_rel\n",
        "from IPython.display import HTML"
      ],
      "execution_count": 0,
      "outputs": []
    },
    {
      "cell_type": "code",
      "metadata": {
        "id": "ymjGlOAlRYQL",
        "colab_type": "code",
        "colab": {}
      },
      "source": [
        "# Allow for multiple dataframe outputs in a single cell\n",
        "from IPython.core.interactiveshell import InteractiveShell\n",
        "InteractiveShell.ast_node_interactivity = \"all\""
      ],
      "execution_count": 0,
      "outputs": []
    },
    {
      "cell_type": "code",
      "metadata": {
        "id": "wJwIHWT6wxAN",
        "colab_type": "code",
        "colab": {
          "base_uri": "https://localhost:8080/",
          "height": 207
        },
        "outputId": "6fbbe16e-b103-421b-fbbc-c8a8f62d4d01"
      },
      "source": [
        "!wget https://archive.ics.uci.edu/ml/machine-learning-databases/voting-records/house-votes-84.data"
      ],
      "execution_count": 2,
      "outputs": [
        {
          "output_type": "stream",
          "text": [
            "--2019-09-16 20:28:33--  https://archive.ics.uci.edu/ml/machine-learning-databases/voting-records/house-votes-84.data\n",
            "Resolving archive.ics.uci.edu (archive.ics.uci.edu)... 128.195.10.252\n",
            "Connecting to archive.ics.uci.edu (archive.ics.uci.edu)|128.195.10.252|:443... connected.\n",
            "HTTP request sent, awaiting response... 200 OK\n",
            "Length: 18171 (18K) [application/x-httpd-php]\n",
            "Saving to: ‘house-votes-84.data’\n",
            "\n",
            "\rhouse-votes-84.data   0%[                    ]       0  --.-KB/s               \rhouse-votes-84.data 100%[===================>]  17.75K  --.-KB/s    in 0.06s   \n",
            "\n",
            "2019-09-16 20:28:33 (278 KB/s) - ‘house-votes-84.data’ saved [18171/18171]\n",
            "\n"
          ],
          "name": "stdout"
        }
      ]
    },
    {
      "cell_type": "code",
      "metadata": {
        "id": "ZB0kL2Rcwznc",
        "colab_type": "code",
        "colab": {
          "base_uri": "https://localhost:8080/",
          "height": 270
        },
        "outputId": "97f9c363-2b9b-4dd3-ee00-1c30b439721d"
      },
      "source": [
        "df = pd.read_csv(\"house-votes-84.data\", header=None,\n",
        "                 names=[\"Handicapped Infants\", \"Water Project Cost Sharing\", \n",
        "                        \"Adoption of the Budget Resolution\", \n",
        "                        \"Physician Fee Freeze\", \"El Salvador Aid\",\n",
        "                        \"Religious Groups in Schools\", \"Anti-Satellite Test Ban\",\n",
        "                        \"Aid to Nicaraguan Contras\", \"MX Missile\", \"Immigration\",\n",
        "                        \"Synfuels Corporation Cutback\", \"Education Spending\",\n",
        "                        \"Superfund Right to Sue\", \"Crime\", \"Duty-Free Exports\",\n",
        "                        \"Export Administration Act South Africa\"])\n",
        "\n",
        "df.replace(to_replace={'n': 0, 'y': 1, '?': np.nan}, inplace=True)\n",
        "\n",
        "table_props = [('border-collapse', 'collapse')]\n",
        "\n",
        "th_props = [\n",
        "  ('border', '1px solid #000'),\n",
        "  (\"writing-mode\", \"vertical-rl\"), \n",
        "  ('transform', 'rotateZ(-90deg)'),\n",
        "  ('min-width', '80px'),\n",
        "  ('max-width', '80px'),\n",
        "  ('height', '120px')\n",
        "  ]\n",
        "\n",
        "td_props = [\n",
        "  ('border', '1px solid #000'),\n",
        "  ('min-width', '80px'),\n",
        "  ('max-width', '80px'),\n",
        "  ('text-align', 'center')\n",
        "  ]\n",
        "\n",
        "styles = [dict(selector=\"\", props=table_props),\n",
        "          dict(selector=\"th.col_heading\", props=th_props),\n",
        "          dict(selector=\"td\", props=td_props)]\n",
        "\n",
        "df.head()"
      ],
      "execution_count": 130,
      "outputs": [
        {
          "output_type": "execute_result",
          "data": {
            "text/html": [
              "<div>\n",
              "<style scoped>\n",
              "    .dataframe tbody tr th:only-of-type {\n",
              "        vertical-align: middle;\n",
              "    }\n",
              "\n",
              "    .dataframe tbody tr th {\n",
              "        vertical-align: top;\n",
              "    }\n",
              "\n",
              "    .dataframe thead th {\n",
              "        text-align: right;\n",
              "    }\n",
              "</style>\n",
              "<table border=\"1\" class=\"dataframe\">\n",
              "  <thead>\n",
              "    <tr style=\"text-align: right;\">\n",
              "      <th></th>\n",
              "      <th>Handicapped Infants</th>\n",
              "      <th>Water Project Cost Sharing</th>\n",
              "      <th>Adoption of the Budget Resolution</th>\n",
              "      <th>Physician Fee Freeze</th>\n",
              "      <th>El Salvador Aid</th>\n",
              "      <th>Religious Groups in Schools</th>\n",
              "      <th>Anti-Satellite Test Ban</th>\n",
              "      <th>Aid to Nicaraguan Contras</th>\n",
              "      <th>MX Missile</th>\n",
              "      <th>Immigration</th>\n",
              "      <th>Synfuels Corporation Cutback</th>\n",
              "      <th>Education Spending</th>\n",
              "      <th>Superfund Right to Sue</th>\n",
              "      <th>Crime</th>\n",
              "      <th>Duty-Free Exports</th>\n",
              "      <th>Export Administration Act South Africa</th>\n",
              "    </tr>\n",
              "  </thead>\n",
              "  <tbody>\n",
              "    <tr>\n",
              "      <th>republican</th>\n",
              "      <td>0.0</td>\n",
              "      <td>1.0</td>\n",
              "      <td>0.0</td>\n",
              "      <td>1.0</td>\n",
              "      <td>1.0</td>\n",
              "      <td>1.0</td>\n",
              "      <td>0.0</td>\n",
              "      <td>0.0</td>\n",
              "      <td>0.0</td>\n",
              "      <td>1.0</td>\n",
              "      <td>NaN</td>\n",
              "      <td>1.0</td>\n",
              "      <td>1.0</td>\n",
              "      <td>1.0</td>\n",
              "      <td>0.0</td>\n",
              "      <td>1.0</td>\n",
              "    </tr>\n",
              "    <tr>\n",
              "      <th>republican</th>\n",
              "      <td>0.0</td>\n",
              "      <td>1.0</td>\n",
              "      <td>0.0</td>\n",
              "      <td>1.0</td>\n",
              "      <td>1.0</td>\n",
              "      <td>1.0</td>\n",
              "      <td>0.0</td>\n",
              "      <td>0.0</td>\n",
              "      <td>0.0</td>\n",
              "      <td>0.0</td>\n",
              "      <td>0.0</td>\n",
              "      <td>1.0</td>\n",
              "      <td>1.0</td>\n",
              "      <td>1.0</td>\n",
              "      <td>0.0</td>\n",
              "      <td>NaN</td>\n",
              "    </tr>\n",
              "    <tr>\n",
              "      <th>democrat</th>\n",
              "      <td>NaN</td>\n",
              "      <td>1.0</td>\n",
              "      <td>1.0</td>\n",
              "      <td>NaN</td>\n",
              "      <td>1.0</td>\n",
              "      <td>1.0</td>\n",
              "      <td>0.0</td>\n",
              "      <td>0.0</td>\n",
              "      <td>0.0</td>\n",
              "      <td>0.0</td>\n",
              "      <td>1.0</td>\n",
              "      <td>0.0</td>\n",
              "      <td>1.0</td>\n",
              "      <td>1.0</td>\n",
              "      <td>0.0</td>\n",
              "      <td>0.0</td>\n",
              "    </tr>\n",
              "    <tr>\n",
              "      <th>democrat</th>\n",
              "      <td>0.0</td>\n",
              "      <td>1.0</td>\n",
              "      <td>1.0</td>\n",
              "      <td>0.0</td>\n",
              "      <td>NaN</td>\n",
              "      <td>1.0</td>\n",
              "      <td>0.0</td>\n",
              "      <td>0.0</td>\n",
              "      <td>0.0</td>\n",
              "      <td>0.0</td>\n",
              "      <td>1.0</td>\n",
              "      <td>0.0</td>\n",
              "      <td>1.0</td>\n",
              "      <td>0.0</td>\n",
              "      <td>0.0</td>\n",
              "      <td>1.0</td>\n",
              "    </tr>\n",
              "    <tr>\n",
              "      <th>democrat</th>\n",
              "      <td>1.0</td>\n",
              "      <td>1.0</td>\n",
              "      <td>1.0</td>\n",
              "      <td>0.0</td>\n",
              "      <td>1.0</td>\n",
              "      <td>1.0</td>\n",
              "      <td>0.0</td>\n",
              "      <td>0.0</td>\n",
              "      <td>0.0</td>\n",
              "      <td>0.0</td>\n",
              "      <td>1.0</td>\n",
              "      <td>NaN</td>\n",
              "      <td>1.0</td>\n",
              "      <td>1.0</td>\n",
              "      <td>1.0</td>\n",
              "      <td>1.0</td>\n",
              "    </tr>\n",
              "  </tbody>\n",
              "</table>\n",
              "</div>"
            ],
            "text/plain": [
              "            Handicapped Infants  ...  Export Administration Act South Africa\n",
              "republican                  0.0  ...                                     1.0\n",
              "republican                  0.0  ...                                     NaN\n",
              "democrat                    NaN  ...                                     0.0\n",
              "democrat                    0.0  ...                                     1.0\n",
              "democrat                    1.0  ...                                     1.0\n",
              "\n",
              "[5 rows x 16 columns]"
            ]
          },
          "metadata": {
            "tags": []
          },
          "execution_count": 130
        }
      ]
    },
    {
      "cell_type": "code",
      "metadata": {
        "id": "sdyDET3Cw7kh",
        "colab_type": "code",
        "colab": {
          "base_uri": "https://localhost:8080/",
          "height": 293
        },
        "outputId": "a6a36756-3296-421e-a4a8-252b7e6d1196"
      },
      "source": [
        "dems = df[df.index == \"democrat\"]\n",
        "idx = range(0, (len(dems)))\n",
        "dems.index = idx\n",
        "html = (dems.head().style.set_table_styles(styles).hide_index())\n",
        "print(\"\\n\\nDemocrat voting records\")\n",
        "html"
      ],
      "execution_count": 153,
      "outputs": [
        {
          "output_type": "stream",
          "text": [
            "\n",
            "\n",
            "Democrat voting records\n"
          ],
          "name": "stdout"
        },
        {
          "output_type": "execute_result",
          "data": {
            "text/html": [
              "<style  type=\"text/css\" >\n",
              "    #T_1fa8e09a_d8da_11e9_a9f4_0242ac1c0002  {\n",
              "          border-collapse: collapse;\n",
              "    }    #T_1fa8e09a_d8da_11e9_a9f4_0242ac1c0002 th.col_heading {\n",
              "          border: 1px solid #000;\n",
              "          writing-mode: vertical-rl;\n",
              "          transform: rotateZ(-90deg);\n",
              "          min-width: 80px;\n",
              "          max-width: 80px;\n",
              "          height: 120px;\n",
              "    }    #T_1fa8e09a_d8da_11e9_a9f4_0242ac1c0002 td {\n",
              "          border: 1px solid #000;\n",
              "          min-width: 80px;\n",
              "          max-width: 80px;\n",
              "          text-align: center;\n",
              "    }</style><table id=\"T_1fa8e09a_d8da_11e9_a9f4_0242ac1c0002\" ><thead>    <tr>        <th class=\"col_heading level0 col0\" >Handicapped Infants</th>        <th class=\"col_heading level0 col1\" >Water Project Cost Sharing</th>        <th class=\"col_heading level0 col2\" >Adoption of the Budget Resolution</th>        <th class=\"col_heading level0 col3\" >Physician Fee Freeze</th>        <th class=\"col_heading level0 col4\" >El Salvador Aid</th>        <th class=\"col_heading level0 col5\" >Religious Groups in Schools</th>        <th class=\"col_heading level0 col6\" >Anti-Satellite Test Ban</th>        <th class=\"col_heading level0 col7\" >Aid to Nicaraguan Contras</th>        <th class=\"col_heading level0 col8\" >MX Missile</th>        <th class=\"col_heading level0 col9\" >Immigration</th>        <th class=\"col_heading level0 col10\" >Synfuels Corporation Cutback</th>        <th class=\"col_heading level0 col11\" >Education Spending</th>        <th class=\"col_heading level0 col12\" >Superfund Right to Sue</th>        <th class=\"col_heading level0 col13\" >Crime</th>        <th class=\"col_heading level0 col14\" >Duty-Free Exports</th>        <th class=\"col_heading level0 col15\" >Export Administration Act South Africa</th>    </tr></thead><tbody>\n",
              "                <tr>\n",
              "                                <td id=\"T_1fa8e09a_d8da_11e9_a9f4_0242ac1c0002row0_col0\" class=\"data row0 col0\" >nan</td>\n",
              "                        <td id=\"T_1fa8e09a_d8da_11e9_a9f4_0242ac1c0002row0_col1\" class=\"data row0 col1\" >1</td>\n",
              "                        <td id=\"T_1fa8e09a_d8da_11e9_a9f4_0242ac1c0002row0_col2\" class=\"data row0 col2\" >1</td>\n",
              "                        <td id=\"T_1fa8e09a_d8da_11e9_a9f4_0242ac1c0002row0_col3\" class=\"data row0 col3\" >nan</td>\n",
              "                        <td id=\"T_1fa8e09a_d8da_11e9_a9f4_0242ac1c0002row0_col4\" class=\"data row0 col4\" >1</td>\n",
              "                        <td id=\"T_1fa8e09a_d8da_11e9_a9f4_0242ac1c0002row0_col5\" class=\"data row0 col5\" >1</td>\n",
              "                        <td id=\"T_1fa8e09a_d8da_11e9_a9f4_0242ac1c0002row0_col6\" class=\"data row0 col6\" >0</td>\n",
              "                        <td id=\"T_1fa8e09a_d8da_11e9_a9f4_0242ac1c0002row0_col7\" class=\"data row0 col7\" >0</td>\n",
              "                        <td id=\"T_1fa8e09a_d8da_11e9_a9f4_0242ac1c0002row0_col8\" class=\"data row0 col8\" >0</td>\n",
              "                        <td id=\"T_1fa8e09a_d8da_11e9_a9f4_0242ac1c0002row0_col9\" class=\"data row0 col9\" >0</td>\n",
              "                        <td id=\"T_1fa8e09a_d8da_11e9_a9f4_0242ac1c0002row0_col10\" class=\"data row0 col10\" >1</td>\n",
              "                        <td id=\"T_1fa8e09a_d8da_11e9_a9f4_0242ac1c0002row0_col11\" class=\"data row0 col11\" >0</td>\n",
              "                        <td id=\"T_1fa8e09a_d8da_11e9_a9f4_0242ac1c0002row0_col12\" class=\"data row0 col12\" >1</td>\n",
              "                        <td id=\"T_1fa8e09a_d8da_11e9_a9f4_0242ac1c0002row0_col13\" class=\"data row0 col13\" >1</td>\n",
              "                        <td id=\"T_1fa8e09a_d8da_11e9_a9f4_0242ac1c0002row0_col14\" class=\"data row0 col14\" >0</td>\n",
              "                        <td id=\"T_1fa8e09a_d8da_11e9_a9f4_0242ac1c0002row0_col15\" class=\"data row0 col15\" >0</td>\n",
              "            </tr>\n",
              "            <tr>\n",
              "                                <td id=\"T_1fa8e09a_d8da_11e9_a9f4_0242ac1c0002row1_col0\" class=\"data row1 col0\" >0</td>\n",
              "                        <td id=\"T_1fa8e09a_d8da_11e9_a9f4_0242ac1c0002row1_col1\" class=\"data row1 col1\" >1</td>\n",
              "                        <td id=\"T_1fa8e09a_d8da_11e9_a9f4_0242ac1c0002row1_col2\" class=\"data row1 col2\" >1</td>\n",
              "                        <td id=\"T_1fa8e09a_d8da_11e9_a9f4_0242ac1c0002row1_col3\" class=\"data row1 col3\" >0</td>\n",
              "                        <td id=\"T_1fa8e09a_d8da_11e9_a9f4_0242ac1c0002row1_col4\" class=\"data row1 col4\" >nan</td>\n",
              "                        <td id=\"T_1fa8e09a_d8da_11e9_a9f4_0242ac1c0002row1_col5\" class=\"data row1 col5\" >1</td>\n",
              "                        <td id=\"T_1fa8e09a_d8da_11e9_a9f4_0242ac1c0002row1_col6\" class=\"data row1 col6\" >0</td>\n",
              "                        <td id=\"T_1fa8e09a_d8da_11e9_a9f4_0242ac1c0002row1_col7\" class=\"data row1 col7\" >0</td>\n",
              "                        <td id=\"T_1fa8e09a_d8da_11e9_a9f4_0242ac1c0002row1_col8\" class=\"data row1 col8\" >0</td>\n",
              "                        <td id=\"T_1fa8e09a_d8da_11e9_a9f4_0242ac1c0002row1_col9\" class=\"data row1 col9\" >0</td>\n",
              "                        <td id=\"T_1fa8e09a_d8da_11e9_a9f4_0242ac1c0002row1_col10\" class=\"data row1 col10\" >1</td>\n",
              "                        <td id=\"T_1fa8e09a_d8da_11e9_a9f4_0242ac1c0002row1_col11\" class=\"data row1 col11\" >0</td>\n",
              "                        <td id=\"T_1fa8e09a_d8da_11e9_a9f4_0242ac1c0002row1_col12\" class=\"data row1 col12\" >1</td>\n",
              "                        <td id=\"T_1fa8e09a_d8da_11e9_a9f4_0242ac1c0002row1_col13\" class=\"data row1 col13\" >0</td>\n",
              "                        <td id=\"T_1fa8e09a_d8da_11e9_a9f4_0242ac1c0002row1_col14\" class=\"data row1 col14\" >0</td>\n",
              "                        <td id=\"T_1fa8e09a_d8da_11e9_a9f4_0242ac1c0002row1_col15\" class=\"data row1 col15\" >1</td>\n",
              "            </tr>\n",
              "            <tr>\n",
              "                                <td id=\"T_1fa8e09a_d8da_11e9_a9f4_0242ac1c0002row2_col0\" class=\"data row2 col0\" >1</td>\n",
              "                        <td id=\"T_1fa8e09a_d8da_11e9_a9f4_0242ac1c0002row2_col1\" class=\"data row2 col1\" >1</td>\n",
              "                        <td id=\"T_1fa8e09a_d8da_11e9_a9f4_0242ac1c0002row2_col2\" class=\"data row2 col2\" >1</td>\n",
              "                        <td id=\"T_1fa8e09a_d8da_11e9_a9f4_0242ac1c0002row2_col3\" class=\"data row2 col3\" >0</td>\n",
              "                        <td id=\"T_1fa8e09a_d8da_11e9_a9f4_0242ac1c0002row2_col4\" class=\"data row2 col4\" >1</td>\n",
              "                        <td id=\"T_1fa8e09a_d8da_11e9_a9f4_0242ac1c0002row2_col5\" class=\"data row2 col5\" >1</td>\n",
              "                        <td id=\"T_1fa8e09a_d8da_11e9_a9f4_0242ac1c0002row2_col6\" class=\"data row2 col6\" >0</td>\n",
              "                        <td id=\"T_1fa8e09a_d8da_11e9_a9f4_0242ac1c0002row2_col7\" class=\"data row2 col7\" >0</td>\n",
              "                        <td id=\"T_1fa8e09a_d8da_11e9_a9f4_0242ac1c0002row2_col8\" class=\"data row2 col8\" >0</td>\n",
              "                        <td id=\"T_1fa8e09a_d8da_11e9_a9f4_0242ac1c0002row2_col9\" class=\"data row2 col9\" >0</td>\n",
              "                        <td id=\"T_1fa8e09a_d8da_11e9_a9f4_0242ac1c0002row2_col10\" class=\"data row2 col10\" >1</td>\n",
              "                        <td id=\"T_1fa8e09a_d8da_11e9_a9f4_0242ac1c0002row2_col11\" class=\"data row2 col11\" >nan</td>\n",
              "                        <td id=\"T_1fa8e09a_d8da_11e9_a9f4_0242ac1c0002row2_col12\" class=\"data row2 col12\" >1</td>\n",
              "                        <td id=\"T_1fa8e09a_d8da_11e9_a9f4_0242ac1c0002row2_col13\" class=\"data row2 col13\" >1</td>\n",
              "                        <td id=\"T_1fa8e09a_d8da_11e9_a9f4_0242ac1c0002row2_col14\" class=\"data row2 col14\" >1</td>\n",
              "                        <td id=\"T_1fa8e09a_d8da_11e9_a9f4_0242ac1c0002row2_col15\" class=\"data row2 col15\" >1</td>\n",
              "            </tr>\n",
              "            <tr>\n",
              "                                <td id=\"T_1fa8e09a_d8da_11e9_a9f4_0242ac1c0002row3_col0\" class=\"data row3 col0\" >0</td>\n",
              "                        <td id=\"T_1fa8e09a_d8da_11e9_a9f4_0242ac1c0002row3_col1\" class=\"data row3 col1\" >1</td>\n",
              "                        <td id=\"T_1fa8e09a_d8da_11e9_a9f4_0242ac1c0002row3_col2\" class=\"data row3 col2\" >1</td>\n",
              "                        <td id=\"T_1fa8e09a_d8da_11e9_a9f4_0242ac1c0002row3_col3\" class=\"data row3 col3\" >0</td>\n",
              "                        <td id=\"T_1fa8e09a_d8da_11e9_a9f4_0242ac1c0002row3_col4\" class=\"data row3 col4\" >1</td>\n",
              "                        <td id=\"T_1fa8e09a_d8da_11e9_a9f4_0242ac1c0002row3_col5\" class=\"data row3 col5\" >1</td>\n",
              "                        <td id=\"T_1fa8e09a_d8da_11e9_a9f4_0242ac1c0002row3_col6\" class=\"data row3 col6\" >0</td>\n",
              "                        <td id=\"T_1fa8e09a_d8da_11e9_a9f4_0242ac1c0002row3_col7\" class=\"data row3 col7\" >0</td>\n",
              "                        <td id=\"T_1fa8e09a_d8da_11e9_a9f4_0242ac1c0002row3_col8\" class=\"data row3 col8\" >0</td>\n",
              "                        <td id=\"T_1fa8e09a_d8da_11e9_a9f4_0242ac1c0002row3_col9\" class=\"data row3 col9\" >0</td>\n",
              "                        <td id=\"T_1fa8e09a_d8da_11e9_a9f4_0242ac1c0002row3_col10\" class=\"data row3 col10\" >0</td>\n",
              "                        <td id=\"T_1fa8e09a_d8da_11e9_a9f4_0242ac1c0002row3_col11\" class=\"data row3 col11\" >0</td>\n",
              "                        <td id=\"T_1fa8e09a_d8da_11e9_a9f4_0242ac1c0002row3_col12\" class=\"data row3 col12\" >1</td>\n",
              "                        <td id=\"T_1fa8e09a_d8da_11e9_a9f4_0242ac1c0002row3_col13\" class=\"data row3 col13\" >1</td>\n",
              "                        <td id=\"T_1fa8e09a_d8da_11e9_a9f4_0242ac1c0002row3_col14\" class=\"data row3 col14\" >1</td>\n",
              "                        <td id=\"T_1fa8e09a_d8da_11e9_a9f4_0242ac1c0002row3_col15\" class=\"data row3 col15\" >1</td>\n",
              "            </tr>\n",
              "            <tr>\n",
              "                                <td id=\"T_1fa8e09a_d8da_11e9_a9f4_0242ac1c0002row4_col0\" class=\"data row4 col0\" >0</td>\n",
              "                        <td id=\"T_1fa8e09a_d8da_11e9_a9f4_0242ac1c0002row4_col1\" class=\"data row4 col1\" >1</td>\n",
              "                        <td id=\"T_1fa8e09a_d8da_11e9_a9f4_0242ac1c0002row4_col2\" class=\"data row4 col2\" >0</td>\n",
              "                        <td id=\"T_1fa8e09a_d8da_11e9_a9f4_0242ac1c0002row4_col3\" class=\"data row4 col3\" >1</td>\n",
              "                        <td id=\"T_1fa8e09a_d8da_11e9_a9f4_0242ac1c0002row4_col4\" class=\"data row4 col4\" >1</td>\n",
              "                        <td id=\"T_1fa8e09a_d8da_11e9_a9f4_0242ac1c0002row4_col5\" class=\"data row4 col5\" >1</td>\n",
              "                        <td id=\"T_1fa8e09a_d8da_11e9_a9f4_0242ac1c0002row4_col6\" class=\"data row4 col6\" >0</td>\n",
              "                        <td id=\"T_1fa8e09a_d8da_11e9_a9f4_0242ac1c0002row4_col7\" class=\"data row4 col7\" >0</td>\n",
              "                        <td id=\"T_1fa8e09a_d8da_11e9_a9f4_0242ac1c0002row4_col8\" class=\"data row4 col8\" >0</td>\n",
              "                        <td id=\"T_1fa8e09a_d8da_11e9_a9f4_0242ac1c0002row4_col9\" class=\"data row4 col9\" >0</td>\n",
              "                        <td id=\"T_1fa8e09a_d8da_11e9_a9f4_0242ac1c0002row4_col10\" class=\"data row4 col10\" >0</td>\n",
              "                        <td id=\"T_1fa8e09a_d8da_11e9_a9f4_0242ac1c0002row4_col11\" class=\"data row4 col11\" >0</td>\n",
              "                        <td id=\"T_1fa8e09a_d8da_11e9_a9f4_0242ac1c0002row4_col12\" class=\"data row4 col12\" >nan</td>\n",
              "                        <td id=\"T_1fa8e09a_d8da_11e9_a9f4_0242ac1c0002row4_col13\" class=\"data row4 col13\" >1</td>\n",
              "                        <td id=\"T_1fa8e09a_d8da_11e9_a9f4_0242ac1c0002row4_col14\" class=\"data row4 col14\" >1</td>\n",
              "                        <td id=\"T_1fa8e09a_d8da_11e9_a9f4_0242ac1c0002row4_col15\" class=\"data row4 col15\" >1</td>\n",
              "            </tr>\n",
              "    </tbody></table>"
            ],
            "text/plain": [
              "<pandas.io.formats.style.Styler at 0x7f9f486085f8>"
            ]
          },
          "metadata": {
            "tags": []
          },
          "execution_count": 153
        }
      ]
    },
    {
      "cell_type": "code",
      "metadata": {
        "id": "LNokEuX498Sy",
        "colab_type": "code",
        "colab": {
          "base_uri": "https://localhost:8080/",
          "height": 293
        },
        "outputId": "d11539ac-4fa9-40bc-92b3-a76b8c55ce3c"
      },
      "source": [
        "reps = df[df.index == \"republican\"]\n",
        "idx = range(0, (len(reps)))\n",
        "reps.index = idx\n",
        "html = (reps.head().style.set_table_styles(styles).hide_index())\n",
        "print(\"\\n\\nRebublican voting records\")\n",
        "html"
      ],
      "execution_count": 154,
      "outputs": [
        {
          "output_type": "stream",
          "text": [
            "\n",
            "\n",
            "Rebublican voting records\n"
          ],
          "name": "stdout"
        },
        {
          "output_type": "execute_result",
          "data": {
            "text/html": [
              "<style  type=\"text/css\" >\n",
              "    #T_24f3d348_d8da_11e9_a9f4_0242ac1c0002  {\n",
              "          border-collapse: collapse;\n",
              "    }    #T_24f3d348_d8da_11e9_a9f4_0242ac1c0002 th.col_heading {\n",
              "          border: 1px solid #000;\n",
              "          writing-mode: vertical-rl;\n",
              "          transform: rotateZ(-90deg);\n",
              "          min-width: 80px;\n",
              "          max-width: 80px;\n",
              "          height: 120px;\n",
              "    }    #T_24f3d348_d8da_11e9_a9f4_0242ac1c0002 td {\n",
              "          border: 1px solid #000;\n",
              "          min-width: 80px;\n",
              "          max-width: 80px;\n",
              "          text-align: center;\n",
              "    }</style><table id=\"T_24f3d348_d8da_11e9_a9f4_0242ac1c0002\" ><thead>    <tr>        <th class=\"col_heading level0 col0\" >Handicapped Infants</th>        <th class=\"col_heading level0 col1\" >Water Project Cost Sharing</th>        <th class=\"col_heading level0 col2\" >Adoption of the Budget Resolution</th>        <th class=\"col_heading level0 col3\" >Physician Fee Freeze</th>        <th class=\"col_heading level0 col4\" >El Salvador Aid</th>        <th class=\"col_heading level0 col5\" >Religious Groups in Schools</th>        <th class=\"col_heading level0 col6\" >Anti-Satellite Test Ban</th>        <th class=\"col_heading level0 col7\" >Aid to Nicaraguan Contras</th>        <th class=\"col_heading level0 col8\" >MX Missile</th>        <th class=\"col_heading level0 col9\" >Immigration</th>        <th class=\"col_heading level0 col10\" >Synfuels Corporation Cutback</th>        <th class=\"col_heading level0 col11\" >Education Spending</th>        <th class=\"col_heading level0 col12\" >Superfund Right to Sue</th>        <th class=\"col_heading level0 col13\" >Crime</th>        <th class=\"col_heading level0 col14\" >Duty-Free Exports</th>        <th class=\"col_heading level0 col15\" >Export Administration Act South Africa</th>    </tr></thead><tbody>\n",
              "                <tr>\n",
              "                                <td id=\"T_24f3d348_d8da_11e9_a9f4_0242ac1c0002row0_col0\" class=\"data row0 col0\" >0</td>\n",
              "                        <td id=\"T_24f3d348_d8da_11e9_a9f4_0242ac1c0002row0_col1\" class=\"data row0 col1\" >1</td>\n",
              "                        <td id=\"T_24f3d348_d8da_11e9_a9f4_0242ac1c0002row0_col2\" class=\"data row0 col2\" >0</td>\n",
              "                        <td id=\"T_24f3d348_d8da_11e9_a9f4_0242ac1c0002row0_col3\" class=\"data row0 col3\" >1</td>\n",
              "                        <td id=\"T_24f3d348_d8da_11e9_a9f4_0242ac1c0002row0_col4\" class=\"data row0 col4\" >1</td>\n",
              "                        <td id=\"T_24f3d348_d8da_11e9_a9f4_0242ac1c0002row0_col5\" class=\"data row0 col5\" >1</td>\n",
              "                        <td id=\"T_24f3d348_d8da_11e9_a9f4_0242ac1c0002row0_col6\" class=\"data row0 col6\" >0</td>\n",
              "                        <td id=\"T_24f3d348_d8da_11e9_a9f4_0242ac1c0002row0_col7\" class=\"data row0 col7\" >0</td>\n",
              "                        <td id=\"T_24f3d348_d8da_11e9_a9f4_0242ac1c0002row0_col8\" class=\"data row0 col8\" >0</td>\n",
              "                        <td id=\"T_24f3d348_d8da_11e9_a9f4_0242ac1c0002row0_col9\" class=\"data row0 col9\" >1</td>\n",
              "                        <td id=\"T_24f3d348_d8da_11e9_a9f4_0242ac1c0002row0_col10\" class=\"data row0 col10\" >nan</td>\n",
              "                        <td id=\"T_24f3d348_d8da_11e9_a9f4_0242ac1c0002row0_col11\" class=\"data row0 col11\" >1</td>\n",
              "                        <td id=\"T_24f3d348_d8da_11e9_a9f4_0242ac1c0002row0_col12\" class=\"data row0 col12\" >1</td>\n",
              "                        <td id=\"T_24f3d348_d8da_11e9_a9f4_0242ac1c0002row0_col13\" class=\"data row0 col13\" >1</td>\n",
              "                        <td id=\"T_24f3d348_d8da_11e9_a9f4_0242ac1c0002row0_col14\" class=\"data row0 col14\" >0</td>\n",
              "                        <td id=\"T_24f3d348_d8da_11e9_a9f4_0242ac1c0002row0_col15\" class=\"data row0 col15\" >1</td>\n",
              "            </tr>\n",
              "            <tr>\n",
              "                                <td id=\"T_24f3d348_d8da_11e9_a9f4_0242ac1c0002row1_col0\" class=\"data row1 col0\" >0</td>\n",
              "                        <td id=\"T_24f3d348_d8da_11e9_a9f4_0242ac1c0002row1_col1\" class=\"data row1 col1\" >1</td>\n",
              "                        <td id=\"T_24f3d348_d8da_11e9_a9f4_0242ac1c0002row1_col2\" class=\"data row1 col2\" >0</td>\n",
              "                        <td id=\"T_24f3d348_d8da_11e9_a9f4_0242ac1c0002row1_col3\" class=\"data row1 col3\" >1</td>\n",
              "                        <td id=\"T_24f3d348_d8da_11e9_a9f4_0242ac1c0002row1_col4\" class=\"data row1 col4\" >1</td>\n",
              "                        <td id=\"T_24f3d348_d8da_11e9_a9f4_0242ac1c0002row1_col5\" class=\"data row1 col5\" >1</td>\n",
              "                        <td id=\"T_24f3d348_d8da_11e9_a9f4_0242ac1c0002row1_col6\" class=\"data row1 col6\" >0</td>\n",
              "                        <td id=\"T_24f3d348_d8da_11e9_a9f4_0242ac1c0002row1_col7\" class=\"data row1 col7\" >0</td>\n",
              "                        <td id=\"T_24f3d348_d8da_11e9_a9f4_0242ac1c0002row1_col8\" class=\"data row1 col8\" >0</td>\n",
              "                        <td id=\"T_24f3d348_d8da_11e9_a9f4_0242ac1c0002row1_col9\" class=\"data row1 col9\" >0</td>\n",
              "                        <td id=\"T_24f3d348_d8da_11e9_a9f4_0242ac1c0002row1_col10\" class=\"data row1 col10\" >0</td>\n",
              "                        <td id=\"T_24f3d348_d8da_11e9_a9f4_0242ac1c0002row1_col11\" class=\"data row1 col11\" >1</td>\n",
              "                        <td id=\"T_24f3d348_d8da_11e9_a9f4_0242ac1c0002row1_col12\" class=\"data row1 col12\" >1</td>\n",
              "                        <td id=\"T_24f3d348_d8da_11e9_a9f4_0242ac1c0002row1_col13\" class=\"data row1 col13\" >1</td>\n",
              "                        <td id=\"T_24f3d348_d8da_11e9_a9f4_0242ac1c0002row1_col14\" class=\"data row1 col14\" >0</td>\n",
              "                        <td id=\"T_24f3d348_d8da_11e9_a9f4_0242ac1c0002row1_col15\" class=\"data row1 col15\" >nan</td>\n",
              "            </tr>\n",
              "            <tr>\n",
              "                                <td id=\"T_24f3d348_d8da_11e9_a9f4_0242ac1c0002row2_col0\" class=\"data row2 col0\" >0</td>\n",
              "                        <td id=\"T_24f3d348_d8da_11e9_a9f4_0242ac1c0002row2_col1\" class=\"data row2 col1\" >1</td>\n",
              "                        <td id=\"T_24f3d348_d8da_11e9_a9f4_0242ac1c0002row2_col2\" class=\"data row2 col2\" >0</td>\n",
              "                        <td id=\"T_24f3d348_d8da_11e9_a9f4_0242ac1c0002row2_col3\" class=\"data row2 col3\" >1</td>\n",
              "                        <td id=\"T_24f3d348_d8da_11e9_a9f4_0242ac1c0002row2_col4\" class=\"data row2 col4\" >1</td>\n",
              "                        <td id=\"T_24f3d348_d8da_11e9_a9f4_0242ac1c0002row2_col5\" class=\"data row2 col5\" >1</td>\n",
              "                        <td id=\"T_24f3d348_d8da_11e9_a9f4_0242ac1c0002row2_col6\" class=\"data row2 col6\" >0</td>\n",
              "                        <td id=\"T_24f3d348_d8da_11e9_a9f4_0242ac1c0002row2_col7\" class=\"data row2 col7\" >0</td>\n",
              "                        <td id=\"T_24f3d348_d8da_11e9_a9f4_0242ac1c0002row2_col8\" class=\"data row2 col8\" >0</td>\n",
              "                        <td id=\"T_24f3d348_d8da_11e9_a9f4_0242ac1c0002row2_col9\" class=\"data row2 col9\" >0</td>\n",
              "                        <td id=\"T_24f3d348_d8da_11e9_a9f4_0242ac1c0002row2_col10\" class=\"data row2 col10\" >0</td>\n",
              "                        <td id=\"T_24f3d348_d8da_11e9_a9f4_0242ac1c0002row2_col11\" class=\"data row2 col11\" >0</td>\n",
              "                        <td id=\"T_24f3d348_d8da_11e9_a9f4_0242ac1c0002row2_col12\" class=\"data row2 col12\" >1</td>\n",
              "                        <td id=\"T_24f3d348_d8da_11e9_a9f4_0242ac1c0002row2_col13\" class=\"data row2 col13\" >1</td>\n",
              "                        <td id=\"T_24f3d348_d8da_11e9_a9f4_0242ac1c0002row2_col14\" class=\"data row2 col14\" >nan</td>\n",
              "                        <td id=\"T_24f3d348_d8da_11e9_a9f4_0242ac1c0002row2_col15\" class=\"data row2 col15\" >1</td>\n",
              "            </tr>\n",
              "            <tr>\n",
              "                                <td id=\"T_24f3d348_d8da_11e9_a9f4_0242ac1c0002row3_col0\" class=\"data row3 col0\" >0</td>\n",
              "                        <td id=\"T_24f3d348_d8da_11e9_a9f4_0242ac1c0002row3_col1\" class=\"data row3 col1\" >1</td>\n",
              "                        <td id=\"T_24f3d348_d8da_11e9_a9f4_0242ac1c0002row3_col2\" class=\"data row3 col2\" >0</td>\n",
              "                        <td id=\"T_24f3d348_d8da_11e9_a9f4_0242ac1c0002row3_col3\" class=\"data row3 col3\" >1</td>\n",
              "                        <td id=\"T_24f3d348_d8da_11e9_a9f4_0242ac1c0002row3_col4\" class=\"data row3 col4\" >1</td>\n",
              "                        <td id=\"T_24f3d348_d8da_11e9_a9f4_0242ac1c0002row3_col5\" class=\"data row3 col5\" >1</td>\n",
              "                        <td id=\"T_24f3d348_d8da_11e9_a9f4_0242ac1c0002row3_col6\" class=\"data row3 col6\" >0</td>\n",
              "                        <td id=\"T_24f3d348_d8da_11e9_a9f4_0242ac1c0002row3_col7\" class=\"data row3 col7\" >0</td>\n",
              "                        <td id=\"T_24f3d348_d8da_11e9_a9f4_0242ac1c0002row3_col8\" class=\"data row3 col8\" >0</td>\n",
              "                        <td id=\"T_24f3d348_d8da_11e9_a9f4_0242ac1c0002row3_col9\" class=\"data row3 col9\" >0</td>\n",
              "                        <td id=\"T_24f3d348_d8da_11e9_a9f4_0242ac1c0002row3_col10\" class=\"data row3 col10\" >0</td>\n",
              "                        <td id=\"T_24f3d348_d8da_11e9_a9f4_0242ac1c0002row3_col11\" class=\"data row3 col11\" >1</td>\n",
              "                        <td id=\"T_24f3d348_d8da_11e9_a9f4_0242ac1c0002row3_col12\" class=\"data row3 col12\" >1</td>\n",
              "                        <td id=\"T_24f3d348_d8da_11e9_a9f4_0242ac1c0002row3_col13\" class=\"data row3 col13\" >1</td>\n",
              "                        <td id=\"T_24f3d348_d8da_11e9_a9f4_0242ac1c0002row3_col14\" class=\"data row3 col14\" >0</td>\n",
              "                        <td id=\"T_24f3d348_d8da_11e9_a9f4_0242ac1c0002row3_col15\" class=\"data row3 col15\" >1</td>\n",
              "            </tr>\n",
              "            <tr>\n",
              "                                <td id=\"T_24f3d348_d8da_11e9_a9f4_0242ac1c0002row4_col0\" class=\"data row4 col0\" >0</td>\n",
              "                        <td id=\"T_24f3d348_d8da_11e9_a9f4_0242ac1c0002row4_col1\" class=\"data row4 col1\" >1</td>\n",
              "                        <td id=\"T_24f3d348_d8da_11e9_a9f4_0242ac1c0002row4_col2\" class=\"data row4 col2\" >0</td>\n",
              "                        <td id=\"T_24f3d348_d8da_11e9_a9f4_0242ac1c0002row4_col3\" class=\"data row4 col3\" >1</td>\n",
              "                        <td id=\"T_24f3d348_d8da_11e9_a9f4_0242ac1c0002row4_col4\" class=\"data row4 col4\" >1</td>\n",
              "                        <td id=\"T_24f3d348_d8da_11e9_a9f4_0242ac1c0002row4_col5\" class=\"data row4 col5\" >0</td>\n",
              "                        <td id=\"T_24f3d348_d8da_11e9_a9f4_0242ac1c0002row4_col6\" class=\"data row4 col6\" >0</td>\n",
              "                        <td id=\"T_24f3d348_d8da_11e9_a9f4_0242ac1c0002row4_col7\" class=\"data row4 col7\" >0</td>\n",
              "                        <td id=\"T_24f3d348_d8da_11e9_a9f4_0242ac1c0002row4_col8\" class=\"data row4 col8\" >0</td>\n",
              "                        <td id=\"T_24f3d348_d8da_11e9_a9f4_0242ac1c0002row4_col9\" class=\"data row4 col9\" >0</td>\n",
              "                        <td id=\"T_24f3d348_d8da_11e9_a9f4_0242ac1c0002row4_col10\" class=\"data row4 col10\" >nan</td>\n",
              "                        <td id=\"T_24f3d348_d8da_11e9_a9f4_0242ac1c0002row4_col11\" class=\"data row4 col11\" >nan</td>\n",
              "                        <td id=\"T_24f3d348_d8da_11e9_a9f4_0242ac1c0002row4_col12\" class=\"data row4 col12\" >1</td>\n",
              "                        <td id=\"T_24f3d348_d8da_11e9_a9f4_0242ac1c0002row4_col13\" class=\"data row4 col13\" >1</td>\n",
              "                        <td id=\"T_24f3d348_d8da_11e9_a9f4_0242ac1c0002row4_col14\" class=\"data row4 col14\" >0</td>\n",
              "                        <td id=\"T_24f3d348_d8da_11e9_a9f4_0242ac1c0002row4_col15\" class=\"data row4 col15\" >0</td>\n",
              "            </tr>\n",
              "    </tbody></table>"
            ],
            "text/plain": [
              "<pandas.io.formats.style.Styler at 0x7f9f48608780>"
            ]
          },
          "metadata": {
            "tags": []
          },
          "execution_count": 154
        }
      ]
    },
    {
      "cell_type": "code",
      "metadata": {
        "id": "fHv_RQ7fc5xJ",
        "colab_type": "code",
        "colab": {
          "base_uri": "https://localhost:8080/",
          "height": 276
        },
        "outputId": "5e8ca1ef-45cf-48bd-939b-09b1fc3afd8e"
      },
      "source": [
        "print(\"Adoption of the Budget Resolution >> Dems support more than Reps with p < 0.01\")\n",
        "\n",
        "print(\"Democratic support for this bill\")\n",
        "dems[\"Adoption of the Budget Resolution\"].mean()\n",
        "print(\"\\nRepublican support for this bill\")\n",
        "reps[\"Adoption of the Budget Resolution\"].mean()\n",
        "\n",
        "print(\"\\n\\n1. Null hypothesis = Dems support this bill unanimously\")\n",
        "print(\"\\n2. Alternative hypothesis = Dems support this bill non-unanimously\")\n",
        "print(\"\\n3. Confidence level >= 99%\")\n",
        "ttest = ttest_1samp(dems[\"Adoption of the Budget Resolution\"], 1, nan_policy=\"omit\")\n",
        "print(\"\\n4. t-statistic: \" + str(ttest.statistic) + \" & p-value: \" + str(ttest.pvalue))\n",
        "\n",
        "print(\"\\n5. Conclusion: Due to a p-value of ~0.00, I reject the null hypothesis and conclude that Democratic support for this bill is non-unanimous.\")"
      ],
      "execution_count": 196,
      "outputs": [
        {
          "output_type": "stream",
          "text": [
            "Adoption of the Budget Resolution >> Dems support more than Reps with p < 0.01\n",
            "Democratic support for this bill\n"
          ],
          "name": "stdout"
        },
        {
          "output_type": "execute_result",
          "data": {
            "text/plain": [
              "0.8884615384615384"
            ]
          },
          "metadata": {
            "tags": []
          },
          "execution_count": 196
        },
        {
          "output_type": "stream",
          "text": [
            "\n",
            "Republican support for this bill\n"
          ],
          "name": "stdout"
        },
        {
          "output_type": "execute_result",
          "data": {
            "text/plain": [
              "0.13414634146341464"
            ]
          },
          "metadata": {
            "tags": []
          },
          "execution_count": 196
        },
        {
          "output_type": "stream",
          "text": [
            "\n",
            "\n",
            "1. Null hypothesis = Dems support this bill unanimously\n",
            "\n",
            "2. Alternative hypothesis = Dems support this bill non-unanimously\n",
            "\n",
            "3. Confidence level >= 99%\n",
            "\n",
            "4. t-statistic: -5.702205846437985 & p-value: 3.217258173105712e-08\n",
            "\n",
            "5. Conclusion: Due to a p-value of ~0.00, I reject the null hypothesis and conclude that Democratic support for this bill is non-unanimous.\n"
          ],
          "name": "stdout"
        }
      ]
    },
    {
      "cell_type": "code",
      "metadata": {
        "id": "IT8qC7utc7X7",
        "colab_type": "code",
        "colab": {
          "base_uri": "https://localhost:8080/",
          "height": 294
        },
        "outputId": "0d049081-8a42-4240-d328-59bdebbbd7c6"
      },
      "source": [
        "print(\"El Salvador Aid >> Reps support more than Dems with p < 0.01\")\n",
        "print(\"Democratic support for this bill\")\n",
        "dems[\"El Salvador Aid\"].mean()\n",
        "print(\"\\nRepublican support for this bill\")\n",
        "reps[\"El Salvador Aid\"].mean()\n",
        "print(\"\\n\\n1. Null hypothesis = Reps support this bill unanimously\")\n",
        "print(\"\\n2. Alternative hypothesis = Reps support this bill non-unanimously\")\n",
        "print(\"\\n3. Confidence level >= 99%\")\n",
        "print(\"\\n4. t-statistic & p-value\")\n",
        "ttest_1samp(reps[\"El Salvador Aid\"], 1, nan_policy=\"omit\")\n",
        "print(\"\\n\\n5. Conclusion: Due to a p-value of ~0.00, I reject the null hypothesis and conclude that Republican support for this bill is non-unanimous.\")"
      ],
      "execution_count": 176,
      "outputs": [
        {
          "output_type": "stream",
          "text": [
            "El Salvador Aid >> Reps support more than Dems with p < 0.01\n",
            "Democratic support for this bill\n"
          ],
          "name": "stdout"
        },
        {
          "output_type": "execute_result",
          "data": {
            "text/plain": [
              "0.21568627450980393"
            ]
          },
          "metadata": {
            "tags": []
          },
          "execution_count": 176
        },
        {
          "output_type": "stream",
          "text": [
            "\n",
            "Republican support for this bill\n"
          ],
          "name": "stdout"
        },
        {
          "output_type": "execute_result",
          "data": {
            "text/plain": [
              "0.9515151515151515"
            ]
          },
          "metadata": {
            "tags": []
          },
          "execution_count": 176
        },
        {
          "output_type": "stream",
          "text": [
            "\n",
            "\n",
            "1. Null hypothesis = Reps support this bill unanimously\n",
            "\n",
            "2. Alternative hypothesis = Reps support this bill non-unanimously\n",
            "\n",
            "3. Confidence level >= 99%\n",
            "\n",
            "4. t-statistic & p-value\n"
          ],
          "name": "stdout"
        },
        {
          "output_type": "execute_result",
          "data": {
            "text/plain": [
              "Ttest_1sampResult(statistic=-2.890793645020198, pvalue=0.004363402589282088)"
            ]
          },
          "metadata": {
            "tags": []
          },
          "execution_count": 176
        },
        {
          "output_type": "stream",
          "text": [
            "\n",
            "\n",
            "5. Conclusion: Due to a p-value of ~0.00, I reject the null hypothesis and conclude that Republican support for this bill is non-unanimous.\n"
          ],
          "name": "stdout"
        }
      ]
    },
    {
      "cell_type": "code",
      "metadata": {
        "id": "SSlxjpBve7qB",
        "colab_type": "code",
        "colab": {
          "base_uri": "https://localhost:8080/",
          "height": 294
        },
        "outputId": "1e784627-9a8c-4b6a-ae17-4725515cc727"
      },
      "source": [
        "print(\"Water Project Cost Sharing >> minimal difference between Dems and Reps with p > 0.1\")\n",
        "print(\"Democratic support for this bill\")\n",
        "dems[\"Water Project Cost Sharing\"].mean()\n",
        "print(\"\\nRepublican support for this bill\")\n",
        "reps[\"Water Project Cost Sharing\"].mean()\n",
        "print(\"\\n\\n1. Null hypothesis = Dems and Reps support this bill equally\")\n",
        "print(\"\\n2. Alternative hypothesis = Dems and Reps support this bill unequally\")\n",
        "print(\"\\n3. Confidence level >= 99%\")\n",
        "print(\"\\n4. t-statistic & p-value\")\n",
        "ttest_ind(dems[\"Water Project Cost Sharing\"], \n",
        "          reps[\"Water Project Cost Sharing\"], nan_policy=\"omit\")\n",
        "print(\"\\n\\n5. Conclusion: Due to a p-value of ~0.93, I accept the null hypothesis and conclude that Dems and Reps support this bill equally.\")"
      ],
      "execution_count": 180,
      "outputs": [
        {
          "output_type": "stream",
          "text": [
            "Water Project Cost Sharing >> minimal difference between Dems and Reps with p > 0.1\n",
            "Democratic support for this bill\n"
          ],
          "name": "stdout"
        },
        {
          "output_type": "execute_result",
          "data": {
            "text/plain": [
              "0.502092050209205"
            ]
          },
          "metadata": {
            "tags": []
          },
          "execution_count": 180
        },
        {
          "output_type": "stream",
          "text": [
            "\n",
            "Republican support for this bill\n"
          ],
          "name": "stdout"
        },
        {
          "output_type": "execute_result",
          "data": {
            "text/plain": [
              "0.5067567567567568"
            ]
          },
          "metadata": {
            "tags": []
          },
          "execution_count": 180
        },
        {
          "output_type": "stream",
          "text": [
            "\n",
            "\n",
            "1. Null hypothesis = Dems and Reps support this bill equally\n",
            "\n",
            "2. Alternative hypothesis = Dems and Reps support this bill unequally\n",
            "\n",
            "3. Confidence level >= 99%\n",
            "\n",
            "4. t-statistic & p-value\n"
          ],
          "name": "stdout"
        },
        {
          "output_type": "execute_result",
          "data": {
            "text/plain": [
              "Ttest_indResult(statistic=-0.08896538137868286, pvalue=0.9291556823993485)"
            ]
          },
          "metadata": {
            "tags": []
          },
          "execution_count": 180
        },
        {
          "output_type": "stream",
          "text": [
            "\n",
            "\n",
            "5. Conclusion: Due to a p-value of ~0.93, I accept the null hypothesis and conclude that Dems and Reps support this bill equally.\n"
          ],
          "name": "stdout"
        }
      ]
    },
    {
      "cell_type": "code",
      "metadata": {
        "id": "7nJlpfjcmjUx",
        "colab_type": "code",
        "colab": {
          "base_uri": "https://localhost:8080/",
          "height": 394
        },
        "outputId": "ca9bb703-8724-4213-a071-bfff88b7951c"
      },
      "source": [
        "# Setting the positions and width for the bars\n",
        "pos = list(range(len(dems.columns)));\n",
        "width = 0.25;\n",
        "    \n",
        "# Plotting the bars\n",
        "fig, ax = plt.subplots(figsize=(20,5));\n",
        "\n",
        "# Create a bar with Democratic data,\n",
        "# in position pos,\n",
        "plt.bar(pos, \n",
        "        #using df['pre_score'] data,\n",
        "        dems.sum().div(269), # 269 = the total number of Dems in office in 1984\n",
        "        # of width\n",
        "        width, \n",
        "        # with alpha 0.5\n",
        "        alpha=0.5, \n",
        "        # with color\n",
        "        color='blue', \n",
        "        # with label the first value in first_name\n",
        "        label=\"Democrats\");\n",
        "\n",
        "# Create a bar with Republican data,\n",
        "# in position pos + some width buffer,\n",
        "plt.bar([p + width for p in pos], \n",
        "        #using df['mid_score'] data,\n",
        "        reps.sum().div(166), # 166 = the total number of Reps in office in 1984\n",
        "        # of width\n",
        "        width, \n",
        "        # with alpha 0.5\n",
        "        alpha=0.5, \n",
        "        # with color\n",
        "        color='red', \n",
        "        # with label the second value in first_name\n",
        "        label=\"Republicans\");\n",
        "\n",
        "ax.set_title('1984 United States Congressional Voting Records')\n",
        "\n",
        "# x axis\n",
        "ax.set_xticks([p + 1.5 * width for p in pos])\n",
        "ax.set_xticklabels(dems.columns, rotation=20, ha=\"right\", va=\"baseline\", position=(0, -0.005))\n",
        "\n",
        "# y axis\n",
        "ax.set_ylabel('Percentage voted in favor of bill')\n",
        "plt.yticks(np.arange(0, 1.25, step=0.25), (\"0\", \"25\", \"50\", \"75\", \"100%\"))\n",
        "\n",
        "plt.grid();\n",
        "plt.show();"
      ],
      "execution_count": 244,
      "outputs": [
        {
          "output_type": "display_data",
          "data": {
            "image/png": "[encoded data removed]",
            "text/plain": [
              "<Figure size 1440x360 with 1 Axes>"
            ]
          },
          "metadata": {
            "tags": []
          }
        }
      ]
    }
  ]
}