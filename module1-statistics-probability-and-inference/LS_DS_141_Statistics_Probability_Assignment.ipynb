{
 "cells": [
  {
   "cell_type": "markdown",
   "metadata": {},
   "source": [
    "<img align=\"left\" src=\"https://lever-client-logos.s3.amazonaws.com/864372b1-534c-480e-acd5-9711f850815c-1524247202159.png\" width=200>\n",
    "<br></br>\n",
    "<br></br>\n",
    "\n",
    "## *Data Science Unit 1 Sprint 3 Assignment 1*\n",
    "\n",
    "# Apply the t-test to real data\n",
    "\n",
    "Your assignment is to determine which issues have \"statistically significant\" differences between political parties in this [1980s congressional voting data](https://archive.ics.uci.edu/ml/datasets/Congressional+Voting+Records). The data consists of 435 instances (one for each congressperson), a class (democrat or republican), and 16 binary attributes (yes or no for voting for or against certain issues). Be aware - there are missing values!\n",
    "\n",
    "Your goals:\n",
    "\n",
    "1. Load and clean the data (or determine the best method to drop observations when running tests)\n",
    "2. Using hypothesis testing, find an issue that democrats support more than republicans with p < 0.01\n",
    "3. Using hypothesis testing, find an issue that republicans support more than democrats with p < 0.01\n",
    "4. Using hypothesis testing, find an issue where the difference between republicans and democrats has p > 0.1 (i.e. there may not be much of a difference)\n",
    "\n",
    "Note that this data will involve *2 sample* t-tests, because you're comparing averages across two groups (republicans and democrats) rather than a single group against a null hypothesis.\n",
    "\n",
    "Stretch goals:\n",
    "\n",
    "1. Refactor your code into functions so it's easy to rerun with arbitrary variables\n",
    "2. Apply hypothesis testing to your personal project data (for the purposes of this notebook you can type a summary of the hypothesis you formed and tested)"
   ]
  },
  {
   "cell_type": "code",
   "execution_count": 177,
   "metadata": {},
   "outputs": [],
   "source": [
    "import pandas as pd\n",
    "import scipy.stats as stats\n",
    "import numpy as np\n",
    "import seaborn as sns"
   ]
  },
  {
   "cell_type": "code",
   "execution_count": 153,
   "metadata": {},
   "outputs": [],
   "source": [
    "df = pd.read_csv('house-votes-84.data',header=None)"
   ]
  },
  {
   "cell_type": "code",
   "execution_count": 154,
   "metadata": {},
   "outputs": [],
   "source": [
    "df.replace('?',np.nan,inplace=True)"
   ]
  },
  {
   "cell_type": "code",
   "execution_count": 155,
   "metadata": {},
   "outputs": [],
   "source": [
    "cols = ['dem/rep','handicapped_infants','water-project-cost-sharing','adoption-of-the-budget-resolution',\n",
    "'physician-fee-freeze','el-salvador-aid','religious-groups-in-schools','anti-satellite-test-ban',\n",
    "'aid-to-nicaraguan-contras','mx-missile','immigration','synfuels-corporation-cutback','education-spending',\n",
    "'superfund-right-to-sue','crime','duty-free-exports','export-administration-act-south-africa']"
   ]
  },
  {
   "cell_type": "code",
   "execution_count": 156,
   "metadata": {},
   "outputs": [],
   "source": [
    "df.columns = cols"
   ]
  },
  {
   "cell_type": "code",
   "execution_count": 157,
   "metadata": {},
   "outputs": [
    {
     "data": {
      "text/plain": [
       "dem/rep                                     0\n",
       "handicapped_infants                        12\n",
       "water-project-cost-sharing                 48\n",
       "adoption-of-the-budget-resolution          11\n",
       "physician-fee-freeze                       11\n",
       "el-salvador-aid                            15\n",
       "religious-groups-in-schools                11\n",
       "anti-satellite-test-ban                    14\n",
       "aid-to-nicaraguan-contras                  15\n",
       "mx-missile                                 22\n",
       "immigration                                 7\n",
       "synfuels-corporation-cutback               21\n",
       "education-spending                         31\n",
       "superfund-right-to-sue                     25\n",
       "crime                                      17\n",
       "duty-free-exports                          28\n",
       "export-administration-act-south-africa    104\n",
       "dtype: int64"
      ]
     },
     "execution_count": 157,
     "metadata": {},
     "output_type": "execute_result"
    }
   ],
   "source": [
    "df.isnull().sum()"
   ]
  },
  {
   "cell_type": "code",
   "execution_count": 158,
   "metadata": {
    "scrolled": true
   },
   "outputs": [
    {
     "data": {
      "text/html": [
       "<div>\n",
       "<style scoped>\n",
       "    .dataframe tbody tr th:only-of-type {\n",
       "        vertical-align: middle;\n",
       "    }\n",
       "\n",
       "    .dataframe tbody tr th {\n",
       "        vertical-align: top;\n",
       "    }\n",
       "\n",
       "    .dataframe thead th {\n",
       "        text-align: right;\n",
       "    }\n",
       "</style>\n",
       "<table border=\"1\" class=\"dataframe\">\n",
       "  <thead>\n",
       "    <tr style=\"text-align: right;\">\n",
       "      <th></th>\n",
       "      <th>dem/rep</th>\n",
       "      <th>handicapped_infants</th>\n",
       "      <th>water-project-cost-sharing</th>\n",
       "      <th>adoption-of-the-budget-resolution</th>\n",
       "      <th>physician-fee-freeze</th>\n",
       "      <th>el-salvador-aid</th>\n",
       "      <th>religious-groups-in-schools</th>\n",
       "      <th>anti-satellite-test-ban</th>\n",
       "      <th>aid-to-nicaraguan-contras</th>\n",
       "      <th>mx-missile</th>\n",
       "      <th>immigration</th>\n",
       "      <th>synfuels-corporation-cutback</th>\n",
       "      <th>education-spending</th>\n",
       "      <th>superfund-right-to-sue</th>\n",
       "      <th>crime</th>\n",
       "      <th>duty-free-exports</th>\n",
       "      <th>export-administration-act-south-africa</th>\n",
       "    </tr>\n",
       "  </thead>\n",
       "  <tbody>\n",
       "    <tr>\n",
       "      <th>0</th>\n",
       "      <td>republican</td>\n",
       "      <td>n</td>\n",
       "      <td>y</td>\n",
       "      <td>n</td>\n",
       "      <td>y</td>\n",
       "      <td>y</td>\n",
       "      <td>y</td>\n",
       "      <td>n</td>\n",
       "      <td>n</td>\n",
       "      <td>n</td>\n",
       "      <td>y</td>\n",
       "      <td>NaN</td>\n",
       "      <td>y</td>\n",
       "      <td>y</td>\n",
       "      <td>y</td>\n",
       "      <td>n</td>\n",
       "      <td>y</td>\n",
       "    </tr>\n",
       "    <tr>\n",
       "      <th>1</th>\n",
       "      <td>republican</td>\n",
       "      <td>n</td>\n",
       "      <td>y</td>\n",
       "      <td>n</td>\n",
       "      <td>y</td>\n",
       "      <td>y</td>\n",
       "      <td>y</td>\n",
       "      <td>n</td>\n",
       "      <td>n</td>\n",
       "      <td>n</td>\n",
       "      <td>n</td>\n",
       "      <td>n</td>\n",
       "      <td>y</td>\n",
       "      <td>y</td>\n",
       "      <td>y</td>\n",
       "      <td>n</td>\n",
       "      <td>NaN</td>\n",
       "    </tr>\n",
       "    <tr>\n",
       "      <th>2</th>\n",
       "      <td>democrat</td>\n",
       "      <td>NaN</td>\n",
       "      <td>y</td>\n",
       "      <td>y</td>\n",
       "      <td>NaN</td>\n",
       "      <td>y</td>\n",
       "      <td>y</td>\n",
       "      <td>n</td>\n",
       "      <td>n</td>\n",
       "      <td>n</td>\n",
       "      <td>n</td>\n",
       "      <td>y</td>\n",
       "      <td>n</td>\n",
       "      <td>y</td>\n",
       "      <td>y</td>\n",
       "      <td>n</td>\n",
       "      <td>n</td>\n",
       "    </tr>\n",
       "    <tr>\n",
       "      <th>3</th>\n",
       "      <td>democrat</td>\n",
       "      <td>n</td>\n",
       "      <td>y</td>\n",
       "      <td>y</td>\n",
       "      <td>n</td>\n",
       "      <td>NaN</td>\n",
       "      <td>y</td>\n",
       "      <td>n</td>\n",
       "      <td>n</td>\n",
       "      <td>n</td>\n",
       "      <td>n</td>\n",
       "      <td>y</td>\n",
       "      <td>n</td>\n",
       "      <td>y</td>\n",
       "      <td>n</td>\n",
       "      <td>n</td>\n",
       "      <td>y</td>\n",
       "    </tr>\n",
       "    <tr>\n",
       "      <th>4</th>\n",
       "      <td>democrat</td>\n",
       "      <td>y</td>\n",
       "      <td>y</td>\n",
       "      <td>y</td>\n",
       "      <td>n</td>\n",
       "      <td>y</td>\n",
       "      <td>y</td>\n",
       "      <td>n</td>\n",
       "      <td>n</td>\n",
       "      <td>n</td>\n",
       "      <td>n</td>\n",
       "      <td>y</td>\n",
       "      <td>NaN</td>\n",
       "      <td>y</td>\n",
       "      <td>y</td>\n",
       "      <td>y</td>\n",
       "      <td>y</td>\n",
       "    </tr>\n",
       "  </tbody>\n",
       "</table>\n",
       "</div>"
      ],
      "text/plain": [
       "      dem/rep handicapped_infants water-project-cost-sharing  \\\n",
       "0  republican                   n                          y   \n",
       "1  republican                   n                          y   \n",
       "2    democrat                 NaN                          y   \n",
       "3    democrat                   n                          y   \n",
       "4    democrat                   y                          y   \n",
       "\n",
       "  adoption-of-the-budget-resolution physician-fee-freeze el-salvador-aid  \\\n",
       "0                                 n                    y               y   \n",
       "1                                 n                    y               y   \n",
       "2                                 y                  NaN               y   \n",
       "3                                 y                    n             NaN   \n",
       "4                                 y                    n               y   \n",
       "\n",
       "  religious-groups-in-schools anti-satellite-test-ban  \\\n",
       "0                           y                       n   \n",
       "1                           y                       n   \n",
       "2                           y                       n   \n",
       "3                           y                       n   \n",
       "4                           y                       n   \n",
       "\n",
       "  aid-to-nicaraguan-contras mx-missile immigration  \\\n",
       "0                         n          n           y   \n",
       "1                         n          n           n   \n",
       "2                         n          n           n   \n",
       "3                         n          n           n   \n",
       "4                         n          n           n   \n",
       "\n",
       "  synfuels-corporation-cutback education-spending superfund-right-to-sue  \\\n",
       "0                          NaN                  y                      y   \n",
       "1                            n                  y                      y   \n",
       "2                            y                  n                      y   \n",
       "3                            y                  n                      y   \n",
       "4                            y                NaN                      y   \n",
       "\n",
       "  crime duty-free-exports export-administration-act-south-africa  \n",
       "0     y                 n                                      y  \n",
       "1     y                 n                                    NaN  \n",
       "2     y                 n                                      n  \n",
       "3     n                 n                                      y  \n",
       "4     y                 y                                      y  "
      ]
     },
     "execution_count": 158,
     "metadata": {},
     "output_type": "execute_result"
    }
   ],
   "source": [
    "df.head()"
   ]
  },
  {
   "cell_type": "markdown",
   "metadata": {},
   "source": [
    "## Filling NaN values with mode depending on dem/rep"
   ]
  },
  {
   "cell_type": "code",
   "execution_count": 159,
   "metadata": {},
   "outputs": [],
   "source": [
    "# Let's try imputing missing data instead of deleting. We'll assume NaNs will vote with their party's majority"
   ]
  },
  {
   "cell_type": "code",
   "execution_count": 160,
   "metadata": {},
   "outputs": [],
   "source": [
    "rep = df[df['dem/rep'] == 'republican']\n",
    "dem = df[df['dem/rep'] == 'democrat']"
   ]
  },
  {
   "cell_type": "code",
   "execution_count": 161,
   "metadata": {},
   "outputs": [],
   "source": [
    "def fill_with_mode(df):\n",
    "    for col in df.columns:\n",
    "        df[col].fillna(df[col].mode()[0], inplace=True)\n",
    "    return df"
   ]
  },
  {
   "cell_type": "code",
   "execution_count": 162,
   "metadata": {
    "scrolled": true
   },
   "outputs": [],
   "source": [
    "rep = rep.replace('y',1).replace('n',0)"
   ]
  },
  {
   "cell_type": "code",
   "execution_count": 163,
   "metadata": {},
   "outputs": [],
   "source": [
    "dem = dem.replace('y',1).replace('n',0)"
   ]
  },
  {
   "cell_type": "code",
   "execution_count": 164,
   "metadata": {
    "scrolled": true
   },
   "outputs": [],
   "source": [
    "rep = fill_with_mode(rep)"
   ]
  },
  {
   "cell_type": "code",
   "execution_count": 165,
   "metadata": {},
   "outputs": [],
   "source": [
    "dem = fill_with_mode(dem)"
   ]
  },
  {
   "cell_type": "code",
   "execution_count": 166,
   "metadata": {},
   "outputs": [],
   "source": [
    "# merging back into one df"
   ]
  },
  {
   "cell_type": "code",
   "execution_count": 167,
   "metadata": {},
   "outputs": [],
   "source": [
    "df = pd.concat([rep,dem]).sort_index()"
   ]
  },
  {
   "cell_type": "markdown",
   "metadata": {},
   "source": [
    "## Running t-tests"
   ]
  },
  {
   "cell_type": "markdown",
   "metadata": {},
   "source": [
    "### Dems supporting more than rep"
   ]
  },
  {
   "cell_type": "code",
   "execution_count": 168,
   "metadata": {
    "scrolled": true
   },
   "outputs": [
    {
     "name": "stdout",
     "output_type": "stream",
     "text": [
      "<class 'pandas.core.frame.DataFrame'>\n",
      "Int64Index: 267 entries, 2 to 431\n",
      "Data columns (total 17 columns):\n",
      "dem/rep                                   267 non-null object\n",
      "handicapped_infants                       267 non-null float64\n",
      "water-project-cost-sharing                267 non-null float64\n",
      "adoption-of-the-budget-resolution         267 non-null float64\n",
      "physician-fee-freeze                      267 non-null float64\n",
      "el-salvador-aid                           267 non-null float64\n",
      "religious-groups-in-schools               267 non-null float64\n",
      "anti-satellite-test-ban                   267 non-null float64\n",
      "aid-to-nicaraguan-contras                 267 non-null float64\n",
      "mx-missile                                267 non-null float64\n",
      "immigration                               267 non-null float64\n",
      "synfuels-corporation-cutback              267 non-null float64\n",
      "education-spending                        267 non-null float64\n",
      "superfund-right-to-sue                    267 non-null float64\n",
      "crime                                     267 non-null float64\n",
      "duty-free-exports                         267 non-null float64\n",
      "export-administration-act-south-africa    267 non-null float64\n",
      "dtypes: float64(16), object(1)\n",
      "memory usage: 37.5+ KB\n"
     ]
    }
   ],
   "source": [
    "dem.info()"
   ]
  },
  {
   "cell_type": "code",
   "execution_count": 169,
   "metadata": {},
   "outputs": [
    {
     "name": "stdout",
     "output_type": "stream",
     "text": [
      "<class 'pandas.core.frame.DataFrame'>\n",
      "Int64Index: 168 entries, 0 to 434\n",
      "Data columns (total 17 columns):\n",
      "dem/rep                                   168 non-null object\n",
      "handicapped_infants                       168 non-null float64\n",
      "water-project-cost-sharing                168 non-null float64\n",
      "adoption-of-the-budget-resolution         168 non-null float64\n",
      "physician-fee-freeze                      168 non-null float64\n",
      "el-salvador-aid                           168 non-null float64\n",
      "religious-groups-in-schools               168 non-null float64\n",
      "anti-satellite-test-ban                   168 non-null float64\n",
      "aid-to-nicaraguan-contras                 168 non-null float64\n",
      "mx-missile                                168 non-null float64\n",
      "immigration                               168 non-null float64\n",
      "synfuels-corporation-cutback              168 non-null float64\n",
      "education-spending                        168 non-null float64\n",
      "superfund-right-to-sue                    168 non-null float64\n",
      "crime                                     168 non-null float64\n",
      "duty-free-exports                         168 non-null float64\n",
      "export-administration-act-south-africa    168 non-null float64\n",
      "dtypes: float64(16), object(1)\n",
      "memory usage: 23.6+ KB\n"
     ]
    }
   ],
   "source": [
    "rep.info()"
   ]
  },
  {
   "cell_type": "code",
   "execution_count": 170,
   "metadata": {
    "scrolled": false
   },
   "outputs": [
    {
     "data": {
      "text/html": [
       "<div>\n",
       "<style scoped>\n",
       "    .dataframe tbody tr th:only-of-type {\n",
       "        vertical-align: middle;\n",
       "    }\n",
       "\n",
       "    .dataframe tbody tr th {\n",
       "        vertical-align: top;\n",
       "    }\n",
       "\n",
       "    .dataframe thead th {\n",
       "        text-align: right;\n",
       "    }\n",
       "</style>\n",
       "<table border=\"1\" class=\"dataframe\">\n",
       "  <thead>\n",
       "    <tr style=\"text-align: right;\">\n",
       "      <th></th>\n",
       "      <th>handicapped_infants</th>\n",
       "      <th>water-project-cost-sharing</th>\n",
       "      <th>adoption-of-the-budget-resolution</th>\n",
       "      <th>physician-fee-freeze</th>\n",
       "      <th>el-salvador-aid</th>\n",
       "      <th>religious-groups-in-schools</th>\n",
       "      <th>anti-satellite-test-ban</th>\n",
       "      <th>aid-to-nicaraguan-contras</th>\n",
       "      <th>mx-missile</th>\n",
       "      <th>immigration</th>\n",
       "      <th>synfuels-corporation-cutback</th>\n",
       "      <th>education-spending</th>\n",
       "      <th>superfund-right-to-sue</th>\n",
       "      <th>crime</th>\n",
       "      <th>duty-free-exports</th>\n",
       "      <th>export-administration-act-south-africa</th>\n",
       "    </tr>\n",
       "  </thead>\n",
       "  <tbody>\n",
       "    <tr>\n",
       "      <th>count</th>\n",
       "      <td>435.000000</td>\n",
       "      <td>435.000000</td>\n",
       "      <td>435.000000</td>\n",
       "      <td>435.000000</td>\n",
       "      <td>435.000000</td>\n",
       "      <td>435.000000</td>\n",
       "      <td>435.000000</td>\n",
       "      <td>435.000000</td>\n",
       "      <td>435.000000</td>\n",
       "      <td>435.000000</td>\n",
       "      <td>435.000000</td>\n",
       "      <td>435.000000</td>\n",
       "      <td>435.000000</td>\n",
       "      <td>435.000000</td>\n",
       "      <td>435.000000</td>\n",
       "      <td>435.000000</td>\n",
       "    </tr>\n",
       "    <tr>\n",
       "      <th>mean</th>\n",
       "      <td>0.450575</td>\n",
       "      <td>0.558621</td>\n",
       "      <td>0.597701</td>\n",
       "      <td>0.413793</td>\n",
       "      <td>0.494253</td>\n",
       "      <td>0.629885</td>\n",
       "      <td>0.567816</td>\n",
       "      <td>0.565517</td>\n",
       "      <td>0.519540</td>\n",
       "      <td>0.503448</td>\n",
       "      <td>0.372414</td>\n",
       "      <td>0.422989</td>\n",
       "      <td>0.503448</td>\n",
       "      <td>0.586207</td>\n",
       "      <td>0.436782</td>\n",
       "      <td>0.857471</td>\n",
       "    </tr>\n",
       "    <tr>\n",
       "      <th>std</th>\n",
       "      <td>0.498124</td>\n",
       "      <td>0.497123</td>\n",
       "      <td>0.490926</td>\n",
       "      <td>0.493079</td>\n",
       "      <td>0.500543</td>\n",
       "      <td>0.483391</td>\n",
       "      <td>0.495950</td>\n",
       "      <td>0.496260</td>\n",
       "      <td>0.500193</td>\n",
       "      <td>0.500564</td>\n",
       "      <td>0.484004</td>\n",
       "      <td>0.494602</td>\n",
       "      <td>0.500564</td>\n",
       "      <td>0.493079</td>\n",
       "      <td>0.496558</td>\n",
       "      <td>0.349994</td>\n",
       "    </tr>\n",
       "    <tr>\n",
       "      <th>min</th>\n",
       "      <td>0.000000</td>\n",
       "      <td>0.000000</td>\n",
       "      <td>0.000000</td>\n",
       "      <td>0.000000</td>\n",
       "      <td>0.000000</td>\n",
       "      <td>0.000000</td>\n",
       "      <td>0.000000</td>\n",
       "      <td>0.000000</td>\n",
       "      <td>0.000000</td>\n",
       "      <td>0.000000</td>\n",
       "      <td>0.000000</td>\n",
       "      <td>0.000000</td>\n",
       "      <td>0.000000</td>\n",
       "      <td>0.000000</td>\n",
       "      <td>0.000000</td>\n",
       "      <td>0.000000</td>\n",
       "    </tr>\n",
       "    <tr>\n",
       "      <th>25%</th>\n",
       "      <td>0.000000</td>\n",
       "      <td>0.000000</td>\n",
       "      <td>0.000000</td>\n",
       "      <td>0.000000</td>\n",
       "      <td>0.000000</td>\n",
       "      <td>0.000000</td>\n",
       "      <td>0.000000</td>\n",
       "      <td>0.000000</td>\n",
       "      <td>0.000000</td>\n",
       "      <td>0.000000</td>\n",
       "      <td>0.000000</td>\n",
       "      <td>0.000000</td>\n",
       "      <td>0.000000</td>\n",
       "      <td>0.000000</td>\n",
       "      <td>0.000000</td>\n",
       "      <td>1.000000</td>\n",
       "    </tr>\n",
       "    <tr>\n",
       "      <th>50%</th>\n",
       "      <td>0.000000</td>\n",
       "      <td>1.000000</td>\n",
       "      <td>1.000000</td>\n",
       "      <td>0.000000</td>\n",
       "      <td>0.000000</td>\n",
       "      <td>1.000000</td>\n",
       "      <td>1.000000</td>\n",
       "      <td>1.000000</td>\n",
       "      <td>1.000000</td>\n",
       "      <td>1.000000</td>\n",
       "      <td>0.000000</td>\n",
       "      <td>0.000000</td>\n",
       "      <td>1.000000</td>\n",
       "      <td>1.000000</td>\n",
       "      <td>0.000000</td>\n",
       "      <td>1.000000</td>\n",
       "    </tr>\n",
       "    <tr>\n",
       "      <th>75%</th>\n",
       "      <td>1.000000</td>\n",
       "      <td>1.000000</td>\n",
       "      <td>1.000000</td>\n",
       "      <td>1.000000</td>\n",
       "      <td>1.000000</td>\n",
       "      <td>1.000000</td>\n",
       "      <td>1.000000</td>\n",
       "      <td>1.000000</td>\n",
       "      <td>1.000000</td>\n",
       "      <td>1.000000</td>\n",
       "      <td>1.000000</td>\n",
       "      <td>1.000000</td>\n",
       "      <td>1.000000</td>\n",
       "      <td>1.000000</td>\n",
       "      <td>1.000000</td>\n",
       "      <td>1.000000</td>\n",
       "    </tr>\n",
       "    <tr>\n",
       "      <th>max</th>\n",
       "      <td>1.000000</td>\n",
       "      <td>1.000000</td>\n",
       "      <td>1.000000</td>\n",
       "      <td>1.000000</td>\n",
       "      <td>1.000000</td>\n",
       "      <td>1.000000</td>\n",
       "      <td>1.000000</td>\n",
       "      <td>1.000000</td>\n",
       "      <td>1.000000</td>\n",
       "      <td>1.000000</td>\n",
       "      <td>1.000000</td>\n",
       "      <td>1.000000</td>\n",
       "      <td>1.000000</td>\n",
       "      <td>1.000000</td>\n",
       "      <td>1.000000</td>\n",
       "      <td>1.000000</td>\n",
       "    </tr>\n",
       "  </tbody>\n",
       "</table>\n",
       "</div>"
      ],
      "text/plain": [
       "       handicapped_infants  water-project-cost-sharing  \\\n",
       "count           435.000000                  435.000000   \n",
       "mean              0.450575                    0.558621   \n",
       "std               0.498124                    0.497123   \n",
       "min               0.000000                    0.000000   \n",
       "25%               0.000000                    0.000000   \n",
       "50%               0.000000                    1.000000   \n",
       "75%               1.000000                    1.000000   \n",
       "max               1.000000                    1.000000   \n",
       "\n",
       "       adoption-of-the-budget-resolution  physician-fee-freeze  \\\n",
       "count                         435.000000            435.000000   \n",
       "mean                            0.597701              0.413793   \n",
       "std                             0.490926              0.493079   \n",
       "min                             0.000000              0.000000   \n",
       "25%                             0.000000              0.000000   \n",
       "50%                             1.000000              0.000000   \n",
       "75%                             1.000000              1.000000   \n",
       "max                             1.000000              1.000000   \n",
       "\n",
       "       el-salvador-aid  religious-groups-in-schools  anti-satellite-test-ban  \\\n",
       "count       435.000000                   435.000000               435.000000   \n",
       "mean          0.494253                     0.629885                 0.567816   \n",
       "std           0.500543                     0.483391                 0.495950   \n",
       "min           0.000000                     0.000000                 0.000000   \n",
       "25%           0.000000                     0.000000                 0.000000   \n",
       "50%           0.000000                     1.000000                 1.000000   \n",
       "75%           1.000000                     1.000000                 1.000000   \n",
       "max           1.000000                     1.000000                 1.000000   \n",
       "\n",
       "       aid-to-nicaraguan-contras  mx-missile  immigration  \\\n",
       "count                 435.000000  435.000000   435.000000   \n",
       "mean                    0.565517    0.519540     0.503448   \n",
       "std                     0.496260    0.500193     0.500564   \n",
       "min                     0.000000    0.000000     0.000000   \n",
       "25%                     0.000000    0.000000     0.000000   \n",
       "50%                     1.000000    1.000000     1.000000   \n",
       "75%                     1.000000    1.000000     1.000000   \n",
       "max                     1.000000    1.000000     1.000000   \n",
       "\n",
       "       synfuels-corporation-cutback  education-spending  \\\n",
       "count                    435.000000          435.000000   \n",
       "mean                       0.372414            0.422989   \n",
       "std                        0.484004            0.494602   \n",
       "min                        0.000000            0.000000   \n",
       "25%                        0.000000            0.000000   \n",
       "50%                        0.000000            0.000000   \n",
       "75%                        1.000000            1.000000   \n",
       "max                        1.000000            1.000000   \n",
       "\n",
       "       superfund-right-to-sue       crime  duty-free-exports  \\\n",
       "count              435.000000  435.000000         435.000000   \n",
       "mean                 0.503448    0.586207           0.436782   \n",
       "std                  0.500564    0.493079           0.496558   \n",
       "min                  0.000000    0.000000           0.000000   \n",
       "25%                  0.000000    0.000000           0.000000   \n",
       "50%                  1.000000    1.000000           0.000000   \n",
       "75%                  1.000000    1.000000           1.000000   \n",
       "max                  1.000000    1.000000           1.000000   \n",
       "\n",
       "       export-administration-act-south-africa  \n",
       "count                              435.000000  \n",
       "mean                                 0.857471  \n",
       "std                                  0.349994  \n",
       "min                                  0.000000  \n",
       "25%                                  1.000000  \n",
       "50%                                  1.000000  \n",
       "75%                                  1.000000  \n",
       "max                                  1.000000  "
      ]
     },
     "execution_count": 170,
     "metadata": {},
     "output_type": "execute_result"
    }
   ],
   "source": [
    "df.describe()"
   ]
  },
  {
   "cell_type": "code",
   "execution_count": 171,
   "metadata": {},
   "outputs": [],
   "source": [
    "def create_t_test_set(null_df, reject_df):\n",
    "    d1 = {}\n",
    "    d1 = d1.fromkeys(null_df.columns)\n",
    "    for col in df.columns[1:]:\n",
    "        stat, p = stats.ttest_ind(null_df[col], reject_df[col])\n",
    "        d1[col] = [stat,p]\n",
    "    test_df = pd.DataFrame(d1, index=['t_test','p_value'])\n",
    "    return test_df"
   ]
  },
  {
   "cell_type": "code",
   "execution_count": 174,
   "metadata": {},
   "outputs": [
    {
     "data": {
      "text/plain": [
       "Ttest_indResult(statistic=-9.746279241312045, pvalue=2.0074960037996152e-20)"
      ]
     },
     "execution_count": 174,
     "metadata": {},
     "output_type": "execute_result"
    }
   ],
   "source": [
    "stats.ttest_ind(rep['handicapped_infants'],dem['handicapped_infants'])"
   ]
  },
  {
   "cell_type": "code",
   "execution_count": 175,
   "metadata": {},
   "outputs": [
    {
     "data": {
      "text/plain": [
       "Ttest_indResult(statistic=9.746279241312045, pvalue=2.0074960037996152e-20)"
      ]
     },
     "execution_count": 175,
     "metadata": {},
     "output_type": "execute_result"
    }
   ],
   "source": [
    "stats.ttest_ind(dem['handicapped_infants'],rep['handicapped_infants'])"
   ]
  },
  {
   "cell_type": "code",
   "execution_count": 172,
   "metadata": {
    "scrolled": true
   },
   "outputs": [
    {
     "data": {
      "text/html": [
       "<div>\n",
       "<style scoped>\n",
       "    .dataframe tbody tr th:only-of-type {\n",
       "        vertical-align: middle;\n",
       "    }\n",
       "\n",
       "    .dataframe tbody tr th {\n",
       "        vertical-align: top;\n",
       "    }\n",
       "\n",
       "    .dataframe thead th {\n",
       "        text-align: right;\n",
       "    }\n",
       "</style>\n",
       "<table border=\"1\" class=\"dataframe\">\n",
       "  <thead>\n",
       "    <tr style=\"text-align: right;\">\n",
       "      <th></th>\n",
       "      <th>dem/rep</th>\n",
       "      <th>handicapped_infants</th>\n",
       "      <th>water-project-cost-sharing</th>\n",
       "      <th>adoption-of-the-budget-resolution</th>\n",
       "      <th>physician-fee-freeze</th>\n",
       "      <th>el-salvador-aid</th>\n",
       "      <th>religious-groups-in-schools</th>\n",
       "      <th>anti-satellite-test-ban</th>\n",
       "      <th>aid-to-nicaraguan-contras</th>\n",
       "      <th>mx-missile</th>\n",
       "      <th>immigration</th>\n",
       "      <th>synfuels-corporation-cutback</th>\n",
       "      <th>education-spending</th>\n",
       "      <th>superfund-right-to-sue</th>\n",
       "      <th>crime</th>\n",
       "      <th>duty-free-exports</th>\n",
       "      <th>export-administration-act-south-africa</th>\n",
       "    </tr>\n",
       "  </thead>\n",
       "  <tbody>\n",
       "    <tr>\n",
       "      <th>t_test</th>\n",
       "      <td>None</td>\n",
       "      <td>9.746279e+00</td>\n",
       "      <td>-0.227900</td>\n",
       "      <td>2.396145e+01</td>\n",
       "      <td>-5.064138e+01</td>\n",
       "      <td>-2.202219e+01</td>\n",
       "      <td>-1.024774e+01</td>\n",
       "      <td>1.326349e+01</td>\n",
       "      <td>1.910790e+01</td>\n",
       "      <td>1.757738e+01</td>\n",
       "      <td>-2.057707</td>\n",
       "      <td>9.243172e+00</td>\n",
       "      <td>-2.257689e+01</td>\n",
       "      <td>-1.481644e+01</td>\n",
       "      <td>-1.722634e+01</td>\n",
       "      <td>1.425913e+01</td>\n",
       "      <td>7.823009e+00</td>\n",
       "    </tr>\n",
       "    <tr>\n",
       "      <th>p_value</th>\n",
       "      <td>None</td>\n",
       "      <td>2.007496e-20</td>\n",
       "      <td>0.819832</td>\n",
       "      <td>2.159693e-81</td>\n",
       "      <td>4.976028e-184</td>\n",
       "      <td>1.168664e-72</td>\n",
       "      <td>3.285781e-22</td>\n",
       "      <td>6.208204e-34</td>\n",
       "      <td>1.798550e-59</td>\n",
       "      <td>1.361418e-52</td>\n",
       "      <td>0.040216</td>\n",
       "      <td>1.091794e-18</td>\n",
       "      <td>3.649939e-75</td>\n",
       "      <td>1.807622e-40</td>\n",
       "      <td>5.014839e-51</td>\n",
       "      <td>4.290873e-38</td>\n",
       "      <td>3.981183e-14</td>\n",
       "    </tr>\n",
       "  </tbody>\n",
       "</table>\n",
       "</div>"
      ],
      "text/plain": [
       "        dem/rep  handicapped_infants  water-project-cost-sharing  \\\n",
       "t_test     None         9.746279e+00                   -0.227900   \n",
       "p_value    None         2.007496e-20                    0.819832   \n",
       "\n",
       "         adoption-of-the-budget-resolution  physician-fee-freeze  \\\n",
       "t_test                        2.396145e+01         -5.064138e+01   \n",
       "p_value                       2.159693e-81         4.976028e-184   \n",
       "\n",
       "         el-salvador-aid  religious-groups-in-schools  \\\n",
       "t_test     -2.202219e+01                -1.024774e+01   \n",
       "p_value     1.168664e-72                 3.285781e-22   \n",
       "\n",
       "         anti-satellite-test-ban  aid-to-nicaraguan-contras    mx-missile  \\\n",
       "t_test              1.326349e+01               1.910790e+01  1.757738e+01   \n",
       "p_value             6.208204e-34               1.798550e-59  1.361418e-52   \n",
       "\n",
       "         immigration  synfuels-corporation-cutback  education-spending  \\\n",
       "t_test     -2.057707                  9.243172e+00       -2.257689e+01   \n",
       "p_value     0.040216                  1.091794e-18        3.649939e-75   \n",
       "\n",
       "         superfund-right-to-sue         crime  duty-free-exports  \\\n",
       "t_test            -1.481644e+01 -1.722634e+01       1.425913e+01   \n",
       "p_value            1.807622e-40  5.014839e-51       4.290873e-38   \n",
       "\n",
       "         export-administration-act-south-africa  \n",
       "t_test                             7.823009e+00  \n",
       "p_value                            3.981183e-14  "
      ]
     },
     "execution_count": 172,
     "metadata": {},
     "output_type": "execute_result"
    }
   ],
   "source": [
    "create_t_test_set(dem,rep)"
   ]
  },
  {
   "cell_type": "code",
   "execution_count": 173,
   "metadata": {},
   "outputs": [
    {
     "data": {
      "text/html": [
       "<div>\n",
       "<style scoped>\n",
       "    .dataframe tbody tr th:only-of-type {\n",
       "        vertical-align: middle;\n",
       "    }\n",
       "\n",
       "    .dataframe tbody tr th {\n",
       "        vertical-align: top;\n",
       "    }\n",
       "\n",
       "    .dataframe thead th {\n",
       "        text-align: right;\n",
       "    }\n",
       "</style>\n",
       "<table border=\"1\" class=\"dataframe\">\n",
       "  <thead>\n",
       "    <tr style=\"text-align: right;\">\n",
       "      <th></th>\n",
       "      <th>dem/rep</th>\n",
       "      <th>handicapped_infants</th>\n",
       "      <th>water-project-cost-sharing</th>\n",
       "      <th>adoption-of-the-budget-resolution</th>\n",
       "      <th>physician-fee-freeze</th>\n",
       "      <th>el-salvador-aid</th>\n",
       "      <th>religious-groups-in-schools</th>\n",
       "      <th>anti-satellite-test-ban</th>\n",
       "      <th>aid-to-nicaraguan-contras</th>\n",
       "      <th>mx-missile</th>\n",
       "      <th>immigration</th>\n",
       "      <th>synfuels-corporation-cutback</th>\n",
       "      <th>education-spending</th>\n",
       "      <th>superfund-right-to-sue</th>\n",
       "      <th>crime</th>\n",
       "      <th>duty-free-exports</th>\n",
       "      <th>export-administration-act-south-africa</th>\n",
       "    </tr>\n",
       "  </thead>\n",
       "  <tbody>\n",
       "    <tr>\n",
       "      <th>t_test</th>\n",
       "      <td>None</td>\n",
       "      <td>-9.746279e+00</td>\n",
       "      <td>0.227900</td>\n",
       "      <td>-2.396145e+01</td>\n",
       "      <td>5.064138e+01</td>\n",
       "      <td>2.202219e+01</td>\n",
       "      <td>1.024774e+01</td>\n",
       "      <td>-1.326349e+01</td>\n",
       "      <td>-1.910790e+01</td>\n",
       "      <td>-1.757738e+01</td>\n",
       "      <td>2.057707</td>\n",
       "      <td>-9.243172e+00</td>\n",
       "      <td>2.257689e+01</td>\n",
       "      <td>1.481644e+01</td>\n",
       "      <td>1.722634e+01</td>\n",
       "      <td>-1.425913e+01</td>\n",
       "      <td>-7.823009e+00</td>\n",
       "    </tr>\n",
       "    <tr>\n",
       "      <th>p_value</th>\n",
       "      <td>None</td>\n",
       "      <td>2.007496e-20</td>\n",
       "      <td>0.819832</td>\n",
       "      <td>2.159693e-81</td>\n",
       "      <td>4.976028e-184</td>\n",
       "      <td>1.168664e-72</td>\n",
       "      <td>3.285781e-22</td>\n",
       "      <td>6.208204e-34</td>\n",
       "      <td>1.798550e-59</td>\n",
       "      <td>1.361418e-52</td>\n",
       "      <td>0.040216</td>\n",
       "      <td>1.091794e-18</td>\n",
       "      <td>3.649939e-75</td>\n",
       "      <td>1.807622e-40</td>\n",
       "      <td>5.014839e-51</td>\n",
       "      <td>4.290873e-38</td>\n",
       "      <td>3.981183e-14</td>\n",
       "    </tr>\n",
       "  </tbody>\n",
       "</table>\n",
       "</div>"
      ],
      "text/plain": [
       "        dem/rep  handicapped_infants  water-project-cost-sharing  \\\n",
       "t_test     None        -9.746279e+00                    0.227900   \n",
       "p_value    None         2.007496e-20                    0.819832   \n",
       "\n",
       "         adoption-of-the-budget-resolution  physician-fee-freeze  \\\n",
       "t_test                       -2.396145e+01          5.064138e+01   \n",
       "p_value                       2.159693e-81         4.976028e-184   \n",
       "\n",
       "         el-salvador-aid  religious-groups-in-schools  \\\n",
       "t_test      2.202219e+01                 1.024774e+01   \n",
       "p_value     1.168664e-72                 3.285781e-22   \n",
       "\n",
       "         anti-satellite-test-ban  aid-to-nicaraguan-contras    mx-missile  \\\n",
       "t_test             -1.326349e+01              -1.910790e+01 -1.757738e+01   \n",
       "p_value             6.208204e-34               1.798550e-59  1.361418e-52   \n",
       "\n",
       "         immigration  synfuels-corporation-cutback  education-spending  \\\n",
       "t_test      2.057707                 -9.243172e+00        2.257689e+01   \n",
       "p_value     0.040216                  1.091794e-18        3.649939e-75   \n",
       "\n",
       "         superfund-right-to-sue         crime  duty-free-exports  \\\n",
       "t_test             1.481644e+01  1.722634e+01      -1.425913e+01   \n",
       "p_value            1.807622e-40  5.014839e-51       4.290873e-38   \n",
       "\n",
       "         export-administration-act-south-africa  \n",
       "t_test                            -7.823009e+00  \n",
       "p_value                            3.981183e-14  "
      ]
     },
     "execution_count": 173,
     "metadata": {},
     "output_type": "execute_result"
    }
   ],
   "source": [
    "create_t_test_set(rep,dem)"
   ]
  },
  {
   "cell_type": "code",
   "execution_count": 196,
   "metadata": {
    "scrolled": false
   },
   "outputs": [
    {
     "data": {
      "text/plain": [
       "0.0    144\n",
       "1.0    123\n",
       "Name: religious-groups-in-schools, dtype: int64"
      ]
     },
     "execution_count": 196,
     "metadata": {},
     "output_type": "execute_result"
    }
   ],
   "source": [
    "dem['religious-groups-in-schools'].value_counts()"
   ]
  },
  {
   "cell_type": "code",
   "execution_count": 197,
   "metadata": {
    "scrolled": true
   },
   "outputs": [
    {
     "data": {
      "text/plain": [
       "1.0    151\n",
       "0.0     17\n",
       "Name: religious-groups-in-schools, dtype: int64"
      ]
     },
     "execution_count": 197,
     "metadata": {},
     "output_type": "execute_result"
    }
   ],
   "source": [
    "rep['religious-groups-in-schools'].value_counts()"
   ]
  },
  {
   "cell_type": "markdown",
   "metadata": {},
   "source": [
    "### Using hypothesis testing, find an issue that democrats support more than republicans with p < 0.01\n",
    "\n",
    "religious-groups-in-schools"
   ]
  },
  {
   "cell_type": "markdown",
   "metadata": {},
   "source": [
    "### Using hypothesis testing, find an issue that republicans support more than democrats with p < 0.01\n",
    "\n",
    "Handicapped infants"
   ]
  },
  {
   "cell_type": "markdown",
   "metadata": {},
   "source": [
    "### Using hypothesis testing, find an issue where the difference between republicans and democrats has p > 0.1 (i.e. there may not be much of a difference\n",
    "\n",
    "water-project-cost-sharing"
   ]
  },
  {
   "cell_type": "code",
   "execution_count": null,
   "metadata": {},
   "outputs": [],
   "source": []
  }
 ],
 "metadata": {
  "kernelspec": {
   "display_name": "Python 3",
   "language": "python",
   "name": "python3"
  },
  "language_info": {
   "codemirror_mode": {
    "name": "ipython",
    "version": 3
   },
   "file_extension": ".py",
   "mimetype": "text/x-python",
   "name": "python",
   "nbconvert_exporter": "python",
   "pygments_lexer": "ipython3",
   "version": "3.7.3"
  },
  "varInspector": {
   "cols": {
    "lenName": 16,
    "lenType": 16,
    "lenVar": 40
   },
   "kernels_config": {
    "python": {
     "delete_cmd_postfix": "",
     "delete_cmd_prefix": "del ",
     "library": "var_list.py",
     "varRefreshCmd": "print(var_dic_list())"
    },
    "r": {
     "delete_cmd_postfix": ") ",
     "delete_cmd_prefix": "rm(",
     "library": "var_list.r",
     "varRefreshCmd": "cat(var_dic_list()) "
    }
   },
   "types_to_exclude": [
    "module",
    "function",
    "builtin_function_or_method",
    "instance",
    "_Feature"
   ],
   "window_display": false
  }
 },
 "nbformat": 4,
 "nbformat_minor": 2
}
