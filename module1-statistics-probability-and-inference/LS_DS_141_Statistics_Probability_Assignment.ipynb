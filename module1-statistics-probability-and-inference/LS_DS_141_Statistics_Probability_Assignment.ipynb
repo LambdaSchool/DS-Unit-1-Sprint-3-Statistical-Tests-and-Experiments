{
  "nbformat": 4,
  "nbformat_minor": 0,
  "metadata": {
    "colab": {
      "name": "LS_DS_141_Statistics_Probability_Assignment.ipynb",
      "version": "0.3.2",
      "provenance": [],
      "include_colab_link": true
    },
    "language_info": {
      "codemirror_mode": {
        "name": "ipython",
        "version": 3
      },
      "file_extension": ".py",
      "mimetype": "text/x-python",
      "name": "python",
      "nbconvert_exporter": "python",
      "pygments_lexer": "ipython3",
      "version": "3.7.3"
    },
    "kernelspec": {
      "display_name": "Python 3",
      "language": "python",
      "name": "python3"
    }
  },
  "cells": [
    {
      "cell_type": "markdown",
      "metadata": {
        "id": "view-in-github",
        "colab_type": "text"
      },
      "source": [
        "<a href=\"https://colab.research.google.com/github/grommitt/DS-Unit-1-Sprint-4-Statistical-Tests-and-Experiments/blob/master/module1-statistics-probability-and-inference/LS_DS_141_Statistics_Probability_Assignment.ipynb\" target=\"_parent\"><img src=\"https://colab.research.google.com/assets/colab-badge.svg\" alt=\"Open In Colab\"/></a>"
      ]
    },
    {
      "cell_type": "markdown",
      "metadata": {
        "id": "fRIRMr5kx-97",
        "colab_type": "text"
      },
      "source": [
        "<img align=\"left\" src=\"https://lever-client-logos.s3.amazonaws.com/864372b1-534c-480e-acd5-9711f850815c-1524247202159.png\" width=200>\n",
        "<br></br>\n",
        "<br></br>\n",
        "\n",
        "## *Data Science Unit 1 Sprint 3 Assignment 1*\n",
        "\n",
        "# Apply the t-test to real data\n",
        "\n",
        "Your assignment is to determine which issues have \"statistically significant\" differences between political parties in this [1980s congressional voting data](https://archive.ics.uci.edu/ml/datasets/Congressional+Voting+Records). The data consists of 435 instances (one for each congressperson), a class (democrat or republican), and 16 binary attributes (yes or no for voting for or against certain issues). Be aware - there are missing values!\n",
        "\n",
        "Your goals:\n",
        "\n",
        "1. Load and clean the data (or determine the best method to drop observations when running tests)\n",
        "2. Using hypothesis testing, find an issue that democrats support more than republicans with p < 0.01\n",
        "3. Using hypothesis testing, find an issue that republicans support more than democrats with p < 0.01\n",
        "4. Using hypothesis testing, find an issue where the difference between republicans and democrats has p > 0.1 (i.e. there may not be much of a difference)\n",
        "\n",
        "Note that this data will involve *2 sample* t-tests, because you're comparing averages across two groups (republicans and democrats) rather than a single group against a null hypothesis.\n",
        "\n",
        "Stretch goals:\n",
        "\n",
        "1. Refactor your code into functions so it's easy to rerun with arbitrary variables\n",
        "2. Apply hypothesis testing to your personal project data (for the purposes of this notebook you can type a summary of the hypothesis you formed and tested)"
      ]
    },
    {
      "cell_type": "code",
      "metadata": {
        "id": "k7jRD7F9x-98",
        "colab_type": "code",
        "colab": {}
      },
      "source": [
        "### YOUR CODE STARTS HERE\n",
        "from scipy import stats\n",
        "import pandas as pd\n",
        "import numpy as np\n",
        "\n",
        "#Load and clean the data (or determine the best method to drop observations when running tests)\n",
        "\n",
        "df = pd.read_csv('https://archive.ics.uci.edu/ml/machine-learning-databases/voting-records/house-votes-84.data',\n",
        "                header=None)\n",
        "df.columns = ['party', \n",
        "             'issue_1',\n",
        "             'issue_2',\n",
        "             'issue_3',\n",
        "             'issue_4',\n",
        "             'issue_5',\n",
        "             'issue_6',\n",
        "             'issue_7',\n",
        "             'issue_8',\n",
        "             'issue_9',\n",
        "             'issue_10',\n",
        "             'issue_11',\n",
        "             'issue_12',\n",
        "             'issue_13',\n",
        "             'issue_14',\n",
        "             'issue_15',\n",
        "             'issue_16',\n",
        "             ]"
      ],
      "execution_count": 0,
      "outputs": []
    },
    {
      "cell_type": "code",
      "metadata": {
        "id": "BMYQ2VsY3ziJ",
        "colab_type": "code",
        "colab": {}
      },
      "source": [
        "\n",
        "df.replace('?', 'n', inplace=True)"
      ],
      "execution_count": 0,
      "outputs": []
    },
    {
      "cell_type": "code",
      "metadata": {
        "id": "KxuhyhvT46Xj",
        "colab_type": "code",
        "colab": {
          "base_uri": "https://localhost:8080/",
          "height": 215
        },
        "outputId": "07b47320-3917-48f3-f11d-e7d4de6fbb93"
      },
      "source": [
        "pd.options.display.max_columns = 500\n",
        "df.head()"
      ],
      "execution_count": 3,
      "outputs": [
        {
          "output_type": "execute_result",
          "data": {
            "text/html": [
              "<div>\n",
              "<style scoped>\n",
              "    .dataframe tbody tr th:only-of-type {\n",
              "        vertical-align: middle;\n",
              "    }\n",
              "\n",
              "    .dataframe tbody tr th {\n",
              "        vertical-align: top;\n",
              "    }\n",
              "\n",
              "    .dataframe thead th {\n",
              "        text-align: right;\n",
              "    }\n",
              "</style>\n",
              "<table border=\"1\" class=\"dataframe\">\n",
              "  <thead>\n",
              "    <tr style=\"text-align: right;\">\n",
              "      <th></th>\n",
              "      <th>party</th>\n",
              "      <th>issue_1</th>\n",
              "      <th>issue_2</th>\n",
              "      <th>issue_3</th>\n",
              "      <th>issue_4</th>\n",
              "      <th>issue_5</th>\n",
              "      <th>issue_6</th>\n",
              "      <th>issue_7</th>\n",
              "      <th>issue_8</th>\n",
              "      <th>issue_9</th>\n",
              "      <th>issue_10</th>\n",
              "      <th>issue_11</th>\n",
              "      <th>issue_12</th>\n",
              "      <th>issue_13</th>\n",
              "      <th>issue_14</th>\n",
              "      <th>issue_15</th>\n",
              "      <th>issue_16</th>\n",
              "    </tr>\n",
              "  </thead>\n",
              "  <tbody>\n",
              "    <tr>\n",
              "      <th>0</th>\n",
              "      <td>republican</td>\n",
              "      <td>n</td>\n",
              "      <td>y</td>\n",
              "      <td>n</td>\n",
              "      <td>y</td>\n",
              "      <td>y</td>\n",
              "      <td>y</td>\n",
              "      <td>n</td>\n",
              "      <td>n</td>\n",
              "      <td>n</td>\n",
              "      <td>y</td>\n",
              "      <td>n</td>\n",
              "      <td>y</td>\n",
              "      <td>y</td>\n",
              "      <td>y</td>\n",
              "      <td>n</td>\n",
              "      <td>y</td>\n",
              "    </tr>\n",
              "    <tr>\n",
              "      <th>1</th>\n",
              "      <td>republican</td>\n",
              "      <td>n</td>\n",
              "      <td>y</td>\n",
              "      <td>n</td>\n",
              "      <td>y</td>\n",
              "      <td>y</td>\n",
              "      <td>y</td>\n",
              "      <td>n</td>\n",
              "      <td>n</td>\n",
              "      <td>n</td>\n",
              "      <td>n</td>\n",
              "      <td>n</td>\n",
              "      <td>y</td>\n",
              "      <td>y</td>\n",
              "      <td>y</td>\n",
              "      <td>n</td>\n",
              "      <td>n</td>\n",
              "    </tr>\n",
              "    <tr>\n",
              "      <th>2</th>\n",
              "      <td>democrat</td>\n",
              "      <td>n</td>\n",
              "      <td>y</td>\n",
              "      <td>y</td>\n",
              "      <td>n</td>\n",
              "      <td>y</td>\n",
              "      <td>y</td>\n",
              "      <td>n</td>\n",
              "      <td>n</td>\n",
              "      <td>n</td>\n",
              "      <td>n</td>\n",
              "      <td>y</td>\n",
              "      <td>n</td>\n",
              "      <td>y</td>\n",
              "      <td>y</td>\n",
              "      <td>n</td>\n",
              "      <td>n</td>\n",
              "    </tr>\n",
              "    <tr>\n",
              "      <th>3</th>\n",
              "      <td>democrat</td>\n",
              "      <td>n</td>\n",
              "      <td>y</td>\n",
              "      <td>y</td>\n",
              "      <td>n</td>\n",
              "      <td>n</td>\n",
              "      <td>y</td>\n",
              "      <td>n</td>\n",
              "      <td>n</td>\n",
              "      <td>n</td>\n",
              "      <td>n</td>\n",
              "      <td>y</td>\n",
              "      <td>n</td>\n",
              "      <td>y</td>\n",
              "      <td>n</td>\n",
              "      <td>n</td>\n",
              "      <td>y</td>\n",
              "    </tr>\n",
              "    <tr>\n",
              "      <th>4</th>\n",
              "      <td>democrat</td>\n",
              "      <td>y</td>\n",
              "      <td>y</td>\n",
              "      <td>y</td>\n",
              "      <td>n</td>\n",
              "      <td>y</td>\n",
              "      <td>y</td>\n",
              "      <td>n</td>\n",
              "      <td>n</td>\n",
              "      <td>n</td>\n",
              "      <td>n</td>\n",
              "      <td>y</td>\n",
              "      <td>n</td>\n",
              "      <td>y</td>\n",
              "      <td>y</td>\n",
              "      <td>y</td>\n",
              "      <td>y</td>\n",
              "    </tr>\n",
              "  </tbody>\n",
              "</table>\n",
              "</div>"
            ],
            "text/plain": [
              "        party issue_1 issue_2 issue_3 issue_4 issue_5 issue_6 issue_7 issue_8  \\\n",
              "0  republican       n       y       n       y       y       y       n       n   \n",
              "1  republican       n       y       n       y       y       y       n       n   \n",
              "2    democrat       n       y       y       n       y       y       n       n   \n",
              "3    democrat       n       y       y       n       n       y       n       n   \n",
              "4    democrat       y       y       y       n       y       y       n       n   \n",
              "\n",
              "  issue_9 issue_10 issue_11 issue_12 issue_13 issue_14 issue_15 issue_16  \n",
              "0       n        y        n        y        y        y        n        y  \n",
              "1       n        n        n        y        y        y        n        n  \n",
              "2       n        n        y        n        y        y        n        n  \n",
              "3       n        n        y        n        y        n        n        y  \n",
              "4       n        n        y        n        y        y        y        y  "
            ]
          },
          "metadata": {
            "tags": []
          },
          "execution_count": 3
        }
      ]
    },
    {
      "cell_type": "code",
      "metadata": {
        "id": "DHG-T00o5LGp",
        "colab_type": "code",
        "colab": {}
      },
      "source": [
        "# Using hypothesis testing, find an issue that democrats support more than \n",
        "# republicans with p < 0.01\n",
        "\n",
        "import seaborn as sns\n",
        "from matplotlib import style\n",
        "from scipy.stats import ttest_ind, ttest_ind_from_stats, ttest_rel\n",
        "import random\n"
      ],
      "execution_count": 0,
      "outputs": []
    },
    {
      "cell_type": "code",
      "metadata": {
        "id": "UdiUwCfE8SEE",
        "colab_type": "code",
        "colab": {}
      },
      "source": [
        ""
      ],
      "execution_count": 0,
      "outputs": []
    },
    {
      "cell_type": "code",
      "metadata": {
        "id": "VwJ3O7L18tFQ",
        "colab_type": "code",
        "colab": {
          "base_uri": "https://localhost:8080/",
          "height": 319
        },
        "outputId": "b5af2dcf-f6a5-4083-818a-2e9b202dfdc1"
      },
      "source": [
        "df.head()\n",
        "df.loc[0]"
      ],
      "execution_count": 5,
      "outputs": [
        {
          "output_type": "execute_result",
          "data": {
            "text/plain": [
              "party       republican\n",
              "issue_1              n\n",
              "issue_2              y\n",
              "issue_3              n\n",
              "issue_4              y\n",
              "issue_5              y\n",
              "issue_6              y\n",
              "issue_7              n\n",
              "issue_8              n\n",
              "issue_9              n\n",
              "issue_10             y\n",
              "issue_11             n\n",
              "issue_12             y\n",
              "issue_13             y\n",
              "issue_14             y\n",
              "issue_15             n\n",
              "issue_16             y\n",
              "Name: 0, dtype: object"
            ]
          },
          "metadata": {
            "tags": []
          },
          "execution_count": 5
        }
      ]
    },
    {
      "cell_type": "code",
      "metadata": {
        "id": "wLSgQESM9eES",
        "colab_type": "code",
        "colab": {
          "base_uri": "https://localhost:8080/",
          "height": 319
        },
        "outputId": "db732307-3eb6-4286-df0c-b634381303aa"
      },
      "source": [
        "df.head()\n",
        "df.replace(['n', 'y'], [0, 1], inplace=True)\n",
        "df.head()\n",
        "df.dtypes"
      ],
      "execution_count": 6,
      "outputs": [
        {
          "output_type": "execute_result",
          "data": {
            "text/plain": [
              "party       object\n",
              "issue_1      int64\n",
              "issue_2      int64\n",
              "issue_3      int64\n",
              "issue_4      int64\n",
              "issue_5      int64\n",
              "issue_6      int64\n",
              "issue_7      int64\n",
              "issue_8      int64\n",
              "issue_9      int64\n",
              "issue_10     int64\n",
              "issue_11     int64\n",
              "issue_12     int64\n",
              "issue_13     int64\n",
              "issue_14     int64\n",
              "issue_15     int64\n",
              "issue_16     int64\n",
              "dtype: object"
            ]
          },
          "metadata": {
            "tags": []
          },
          "execution_count": 6
        }
      ]
    },
    {
      "cell_type": "code",
      "metadata": {
        "id": "K8Q1L3wP9zP_",
        "colab_type": "code",
        "colab": {}
      },
      "source": [
        "republicans = df[df['party'] == 'republican']\n",
        "democrats = df[df['party'] == 'democrat']"
      ],
      "execution_count": 0,
      "outputs": []
    },
    {
      "cell_type": "code",
      "metadata": {
        "id": "lO4kKGs0-CRg",
        "colab_type": "code",
        "colab": {
          "base_uri": "https://localhost:8080/",
          "height": 215
        },
        "outputId": "66e18fef-bef4-4c31-8a59-f6b347bd3366"
      },
      "source": [
        "\n",
        "republicans.head()"
      ],
      "execution_count": 8,
      "outputs": [
        {
          "output_type": "execute_result",
          "data": {
            "text/html": [
              "<div>\n",
              "<style scoped>\n",
              "    .dataframe tbody tr th:only-of-type {\n",
              "        vertical-align: middle;\n",
              "    }\n",
              "\n",
              "    .dataframe tbody tr th {\n",
              "        vertical-align: top;\n",
              "    }\n",
              "\n",
              "    .dataframe thead th {\n",
              "        text-align: right;\n",
              "    }\n",
              "</style>\n",
              "<table border=\"1\" class=\"dataframe\">\n",
              "  <thead>\n",
              "    <tr style=\"text-align: right;\">\n",
              "      <th></th>\n",
              "      <th>party</th>\n",
              "      <th>issue_1</th>\n",
              "      <th>issue_2</th>\n",
              "      <th>issue_3</th>\n",
              "      <th>issue_4</th>\n",
              "      <th>issue_5</th>\n",
              "      <th>issue_6</th>\n",
              "      <th>issue_7</th>\n",
              "      <th>issue_8</th>\n",
              "      <th>issue_9</th>\n",
              "      <th>issue_10</th>\n",
              "      <th>issue_11</th>\n",
              "      <th>issue_12</th>\n",
              "      <th>issue_13</th>\n",
              "      <th>issue_14</th>\n",
              "      <th>issue_15</th>\n",
              "      <th>issue_16</th>\n",
              "    </tr>\n",
              "  </thead>\n",
              "  <tbody>\n",
              "    <tr>\n",
              "      <th>0</th>\n",
              "      <td>republican</td>\n",
              "      <td>0</td>\n",
              "      <td>1</td>\n",
              "      <td>0</td>\n",
              "      <td>1</td>\n",
              "      <td>1</td>\n",
              "      <td>1</td>\n",
              "      <td>0</td>\n",
              "      <td>0</td>\n",
              "      <td>0</td>\n",
              "      <td>1</td>\n",
              "      <td>0</td>\n",
              "      <td>1</td>\n",
              "      <td>1</td>\n",
              "      <td>1</td>\n",
              "      <td>0</td>\n",
              "      <td>1</td>\n",
              "    </tr>\n",
              "    <tr>\n",
              "      <th>1</th>\n",
              "      <td>republican</td>\n",
              "      <td>0</td>\n",
              "      <td>1</td>\n",
              "      <td>0</td>\n",
              "      <td>1</td>\n",
              "      <td>1</td>\n",
              "      <td>1</td>\n",
              "      <td>0</td>\n",
              "      <td>0</td>\n",
              "      <td>0</td>\n",
              "      <td>0</td>\n",
              "      <td>0</td>\n",
              "      <td>1</td>\n",
              "      <td>1</td>\n",
              "      <td>1</td>\n",
              "      <td>0</td>\n",
              "      <td>0</td>\n",
              "    </tr>\n",
              "    <tr>\n",
              "      <th>7</th>\n",
              "      <td>republican</td>\n",
              "      <td>0</td>\n",
              "      <td>1</td>\n",
              "      <td>0</td>\n",
              "      <td>1</td>\n",
              "      <td>1</td>\n",
              "      <td>1</td>\n",
              "      <td>0</td>\n",
              "      <td>0</td>\n",
              "      <td>0</td>\n",
              "      <td>0</td>\n",
              "      <td>0</td>\n",
              "      <td>0</td>\n",
              "      <td>1</td>\n",
              "      <td>1</td>\n",
              "      <td>0</td>\n",
              "      <td>1</td>\n",
              "    </tr>\n",
              "    <tr>\n",
              "      <th>8</th>\n",
              "      <td>republican</td>\n",
              "      <td>0</td>\n",
              "      <td>1</td>\n",
              "      <td>0</td>\n",
              "      <td>1</td>\n",
              "      <td>1</td>\n",
              "      <td>1</td>\n",
              "      <td>0</td>\n",
              "      <td>0</td>\n",
              "      <td>0</td>\n",
              "      <td>0</td>\n",
              "      <td>0</td>\n",
              "      <td>1</td>\n",
              "      <td>1</td>\n",
              "      <td>1</td>\n",
              "      <td>0</td>\n",
              "      <td>1</td>\n",
              "    </tr>\n",
              "    <tr>\n",
              "      <th>10</th>\n",
              "      <td>republican</td>\n",
              "      <td>0</td>\n",
              "      <td>1</td>\n",
              "      <td>0</td>\n",
              "      <td>1</td>\n",
              "      <td>1</td>\n",
              "      <td>0</td>\n",
              "      <td>0</td>\n",
              "      <td>0</td>\n",
              "      <td>0</td>\n",
              "      <td>0</td>\n",
              "      <td>0</td>\n",
              "      <td>0</td>\n",
              "      <td>1</td>\n",
              "      <td>1</td>\n",
              "      <td>0</td>\n",
              "      <td>0</td>\n",
              "    </tr>\n",
              "  </tbody>\n",
              "</table>\n",
              "</div>"
            ],
            "text/plain": [
              "         party  issue_1  issue_2  issue_3  issue_4  issue_5  issue_6  issue_7  \\\n",
              "0   republican        0        1        0        1        1        1        0   \n",
              "1   republican        0        1        0        1        1        1        0   \n",
              "7   republican        0        1        0        1        1        1        0   \n",
              "8   republican        0        1        0        1        1        1        0   \n",
              "10  republican        0        1        0        1        1        0        0   \n",
              "\n",
              "    issue_8  issue_9  issue_10  issue_11  issue_12  issue_13  issue_14  \\\n",
              "0         0        0         1         0         1         1         1   \n",
              "1         0        0         0         0         1         1         1   \n",
              "7         0        0         0         0         0         1         1   \n",
              "8         0        0         0         0         1         1         1   \n",
              "10        0        0         0         0         0         1         1   \n",
              "\n",
              "    issue_15  issue_16  \n",
              "0          0         1  \n",
              "1          0         0  \n",
              "7          0         1  \n",
              "8          0         1  \n",
              "10         0         0  "
            ]
          },
          "metadata": {
            "tags": []
          },
          "execution_count": 8
        }
      ]
    },
    {
      "cell_type": "code",
      "metadata": {
        "id": "fkdhB1TPFtXy",
        "colab_type": "code",
        "colab": {
          "base_uri": "https://localhost:8080/",
          "height": 304
        },
        "outputId": "8a67b3a2-70f8-4c58-e793-c80ebb4ac517"
      },
      "source": [
        "republicans.describe()"
      ],
      "execution_count": 9,
      "outputs": [
        {
          "output_type": "execute_result",
          "data": {
            "text/html": [
              "<div>\n",
              "<style scoped>\n",
              "    .dataframe tbody tr th:only-of-type {\n",
              "        vertical-align: middle;\n",
              "    }\n",
              "\n",
              "    .dataframe tbody tr th {\n",
              "        vertical-align: top;\n",
              "    }\n",
              "\n",
              "    .dataframe thead th {\n",
              "        text-align: right;\n",
              "    }\n",
              "</style>\n",
              "<table border=\"1\" class=\"dataframe\">\n",
              "  <thead>\n",
              "    <tr style=\"text-align: right;\">\n",
              "      <th></th>\n",
              "      <th>issue_1</th>\n",
              "      <th>issue_2</th>\n",
              "      <th>issue_3</th>\n",
              "      <th>issue_4</th>\n",
              "      <th>issue_5</th>\n",
              "      <th>issue_6</th>\n",
              "      <th>issue_7</th>\n",
              "      <th>issue_8</th>\n",
              "      <th>issue_9</th>\n",
              "      <th>issue_10</th>\n",
              "      <th>issue_11</th>\n",
              "      <th>issue_12</th>\n",
              "      <th>issue_13</th>\n",
              "      <th>issue_14</th>\n",
              "      <th>issue_15</th>\n",
              "      <th>issue_16</th>\n",
              "    </tr>\n",
              "  </thead>\n",
              "  <tbody>\n",
              "    <tr>\n",
              "      <th>count</th>\n",
              "      <td>168.000000</td>\n",
              "      <td>168.000000</td>\n",
              "      <td>168.000000</td>\n",
              "      <td>168.000000</td>\n",
              "      <td>168.000000</td>\n",
              "      <td>168.000000</td>\n",
              "      <td>168.000000</td>\n",
              "      <td>168.000000</td>\n",
              "      <td>168.000000</td>\n",
              "      <td>168.000000</td>\n",
              "      <td>168.000000</td>\n",
              "      <td>168.000000</td>\n",
              "      <td>168.000000</td>\n",
              "      <td>168.000000</td>\n",
              "      <td>168.000000</td>\n",
              "      <td>168.000000</td>\n",
              "    </tr>\n",
              "    <tr>\n",
              "      <th>mean</th>\n",
              "      <td>0.184524</td>\n",
              "      <td>0.446429</td>\n",
              "      <td>0.130952</td>\n",
              "      <td>0.970238</td>\n",
              "      <td>0.934524</td>\n",
              "      <td>0.886905</td>\n",
              "      <td>0.232143</td>\n",
              "      <td>0.142857</td>\n",
              "      <td>0.113095</td>\n",
              "      <td>0.547619</td>\n",
              "      <td>0.125000</td>\n",
              "      <td>0.803571</td>\n",
              "      <td>0.809524</td>\n",
              "      <td>0.940476</td>\n",
              "      <td>0.083333</td>\n",
              "      <td>0.571429</td>\n",
              "    </tr>\n",
              "    <tr>\n",
              "      <th>std</th>\n",
              "      <td>0.389070</td>\n",
              "      <td>0.498608</td>\n",
              "      <td>0.338357</td>\n",
              "      <td>0.170438</td>\n",
              "      <td>0.248104</td>\n",
              "      <td>0.317656</td>\n",
              "      <td>0.423462</td>\n",
              "      <td>0.350973</td>\n",
              "      <td>0.317656</td>\n",
              "      <td>0.499215</td>\n",
              "      <td>0.331708</td>\n",
              "      <td>0.398484</td>\n",
              "      <td>0.393851</td>\n",
              "      <td>0.237310</td>\n",
              "      <td>0.277212</td>\n",
              "      <td>0.496351</td>\n",
              "    </tr>\n",
              "    <tr>\n",
              "      <th>min</th>\n",
              "      <td>0.000000</td>\n",
              "      <td>0.000000</td>\n",
              "      <td>0.000000</td>\n",
              "      <td>0.000000</td>\n",
              "      <td>0.000000</td>\n",
              "      <td>0.000000</td>\n",
              "      <td>0.000000</td>\n",
              "      <td>0.000000</td>\n",
              "      <td>0.000000</td>\n",
              "      <td>0.000000</td>\n",
              "      <td>0.000000</td>\n",
              "      <td>0.000000</td>\n",
              "      <td>0.000000</td>\n",
              "      <td>0.000000</td>\n",
              "      <td>0.000000</td>\n",
              "      <td>0.000000</td>\n",
              "    </tr>\n",
              "    <tr>\n",
              "      <th>25%</th>\n",
              "      <td>0.000000</td>\n",
              "      <td>0.000000</td>\n",
              "      <td>0.000000</td>\n",
              "      <td>1.000000</td>\n",
              "      <td>1.000000</td>\n",
              "      <td>1.000000</td>\n",
              "      <td>0.000000</td>\n",
              "      <td>0.000000</td>\n",
              "      <td>0.000000</td>\n",
              "      <td>0.000000</td>\n",
              "      <td>0.000000</td>\n",
              "      <td>1.000000</td>\n",
              "      <td>1.000000</td>\n",
              "      <td>1.000000</td>\n",
              "      <td>0.000000</td>\n",
              "      <td>0.000000</td>\n",
              "    </tr>\n",
              "    <tr>\n",
              "      <th>50%</th>\n",
              "      <td>0.000000</td>\n",
              "      <td>0.000000</td>\n",
              "      <td>0.000000</td>\n",
              "      <td>1.000000</td>\n",
              "      <td>1.000000</td>\n",
              "      <td>1.000000</td>\n",
              "      <td>0.000000</td>\n",
              "      <td>0.000000</td>\n",
              "      <td>0.000000</td>\n",
              "      <td>1.000000</td>\n",
              "      <td>0.000000</td>\n",
              "      <td>1.000000</td>\n",
              "      <td>1.000000</td>\n",
              "      <td>1.000000</td>\n",
              "      <td>0.000000</td>\n",
              "      <td>1.000000</td>\n",
              "    </tr>\n",
              "    <tr>\n",
              "      <th>75%</th>\n",
              "      <td>0.000000</td>\n",
              "      <td>1.000000</td>\n",
              "      <td>0.000000</td>\n",
              "      <td>1.000000</td>\n",
              "      <td>1.000000</td>\n",
              "      <td>1.000000</td>\n",
              "      <td>0.000000</td>\n",
              "      <td>0.000000</td>\n",
              "      <td>0.000000</td>\n",
              "      <td>1.000000</td>\n",
              "      <td>0.000000</td>\n",
              "      <td>1.000000</td>\n",
              "      <td>1.000000</td>\n",
              "      <td>1.000000</td>\n",
              "      <td>0.000000</td>\n",
              "      <td>1.000000</td>\n",
              "    </tr>\n",
              "    <tr>\n",
              "      <th>max</th>\n",
              "      <td>1.000000</td>\n",
              "      <td>1.000000</td>\n",
              "      <td>1.000000</td>\n",
              "      <td>1.000000</td>\n",
              "      <td>1.000000</td>\n",
              "      <td>1.000000</td>\n",
              "      <td>1.000000</td>\n",
              "      <td>1.000000</td>\n",
              "      <td>1.000000</td>\n",
              "      <td>1.000000</td>\n",
              "      <td>1.000000</td>\n",
              "      <td>1.000000</td>\n",
              "      <td>1.000000</td>\n",
              "      <td>1.000000</td>\n",
              "      <td>1.000000</td>\n",
              "      <td>1.000000</td>\n",
              "    </tr>\n",
              "  </tbody>\n",
              "</table>\n",
              "</div>"
            ],
            "text/plain": [
              "          issue_1     issue_2     issue_3     issue_4     issue_5     issue_6  \\\n",
              "count  168.000000  168.000000  168.000000  168.000000  168.000000  168.000000   \n",
              "mean     0.184524    0.446429    0.130952    0.970238    0.934524    0.886905   \n",
              "std      0.389070    0.498608    0.338357    0.170438    0.248104    0.317656   \n",
              "min      0.000000    0.000000    0.000000    0.000000    0.000000    0.000000   \n",
              "25%      0.000000    0.000000    0.000000    1.000000    1.000000    1.000000   \n",
              "50%      0.000000    0.000000    0.000000    1.000000    1.000000    1.000000   \n",
              "75%      0.000000    1.000000    0.000000    1.000000    1.000000    1.000000   \n",
              "max      1.000000    1.000000    1.000000    1.000000    1.000000    1.000000   \n",
              "\n",
              "          issue_7     issue_8     issue_9    issue_10    issue_11    issue_12  \\\n",
              "count  168.000000  168.000000  168.000000  168.000000  168.000000  168.000000   \n",
              "mean     0.232143    0.142857    0.113095    0.547619    0.125000    0.803571   \n",
              "std      0.423462    0.350973    0.317656    0.499215    0.331708    0.398484   \n",
              "min      0.000000    0.000000    0.000000    0.000000    0.000000    0.000000   \n",
              "25%      0.000000    0.000000    0.000000    0.000000    0.000000    1.000000   \n",
              "50%      0.000000    0.000000    0.000000    1.000000    0.000000    1.000000   \n",
              "75%      0.000000    0.000000    0.000000    1.000000    0.000000    1.000000   \n",
              "max      1.000000    1.000000    1.000000    1.000000    1.000000    1.000000   \n",
              "\n",
              "         issue_13    issue_14    issue_15    issue_16  \n",
              "count  168.000000  168.000000  168.000000  168.000000  \n",
              "mean     0.809524    0.940476    0.083333    0.571429  \n",
              "std      0.393851    0.237310    0.277212    0.496351  \n",
              "min      0.000000    0.000000    0.000000    0.000000  \n",
              "25%      1.000000    1.000000    0.000000    0.000000  \n",
              "50%      1.000000    1.000000    0.000000    1.000000  \n",
              "75%      1.000000    1.000000    0.000000    1.000000  \n",
              "max      1.000000    1.000000    1.000000    1.000000  "
            ]
          },
          "metadata": {
            "tags": []
          },
          "execution_count": 9
        }
      ]
    },
    {
      "cell_type": "code",
      "metadata": {
        "id": "WoCPmcJoF2n_",
        "colab_type": "code",
        "colab": {
          "base_uri": "https://localhost:8080/",
          "height": 521
        },
        "outputId": "22dfeb67-4b3c-401c-9a71-23ac15bda4ab"
      },
      "source": [
        "mean_issues = pd.DataFrame(\n",
        "    {'Republicans': republicans.mean(),\n",
        "     'Democrats': democrats.mean()\n",
        "    })\n",
        "mean_issues"
      ],
      "execution_count": 10,
      "outputs": [
        {
          "output_type": "execute_result",
          "data": {
            "text/html": [
              "<div>\n",
              "<style scoped>\n",
              "    .dataframe tbody tr th:only-of-type {\n",
              "        vertical-align: middle;\n",
              "    }\n",
              "\n",
              "    .dataframe tbody tr th {\n",
              "        vertical-align: top;\n",
              "    }\n",
              "\n",
              "    .dataframe thead th {\n",
              "        text-align: right;\n",
              "    }\n",
              "</style>\n",
              "<table border=\"1\" class=\"dataframe\">\n",
              "  <thead>\n",
              "    <tr style=\"text-align: right;\">\n",
              "      <th></th>\n",
              "      <th>Republicans</th>\n",
              "      <th>Democrats</th>\n",
              "    </tr>\n",
              "  </thead>\n",
              "  <tbody>\n",
              "    <tr>\n",
              "      <th>issue_1</th>\n",
              "      <td>0.184524</td>\n",
              "      <td>0.584270</td>\n",
              "    </tr>\n",
              "    <tr>\n",
              "      <th>issue_2</th>\n",
              "      <td>0.446429</td>\n",
              "      <td>0.449438</td>\n",
              "    </tr>\n",
              "    <tr>\n",
              "      <th>issue_3</th>\n",
              "      <td>0.130952</td>\n",
              "      <td>0.865169</td>\n",
              "    </tr>\n",
              "    <tr>\n",
              "      <th>issue_4</th>\n",
              "      <td>0.970238</td>\n",
              "      <td>0.052434</td>\n",
              "    </tr>\n",
              "    <tr>\n",
              "      <th>issue_5</th>\n",
              "      <td>0.934524</td>\n",
              "      <td>0.205993</td>\n",
              "    </tr>\n",
              "    <tr>\n",
              "      <th>issue_6</th>\n",
              "      <td>0.886905</td>\n",
              "      <td>0.460674</td>\n",
              "    </tr>\n",
              "    <tr>\n",
              "      <th>issue_7</th>\n",
              "      <td>0.232143</td>\n",
              "      <td>0.749064</td>\n",
              "    </tr>\n",
              "    <tr>\n",
              "      <th>issue_8</th>\n",
              "      <td>0.142857</td>\n",
              "      <td>0.816479</td>\n",
              "    </tr>\n",
              "    <tr>\n",
              "      <th>issue_9</th>\n",
              "      <td>0.113095</td>\n",
              "      <td>0.704120</td>\n",
              "    </tr>\n",
              "    <tr>\n",
              "      <th>issue_10</th>\n",
              "      <td>0.547619</td>\n",
              "      <td>0.464419</td>\n",
              "    </tr>\n",
              "    <tr>\n",
              "      <th>issue_11</th>\n",
              "      <td>0.125000</td>\n",
              "      <td>0.483146</td>\n",
              "    </tr>\n",
              "    <tr>\n",
              "      <th>issue_12</th>\n",
              "      <td>0.803571</td>\n",
              "      <td>0.134831</td>\n",
              "    </tr>\n",
              "    <tr>\n",
              "      <th>issue_13</th>\n",
              "      <td>0.809524</td>\n",
              "      <td>0.273408</td>\n",
              "    </tr>\n",
              "    <tr>\n",
              "      <th>issue_14</th>\n",
              "      <td>0.940476</td>\n",
              "      <td>0.337079</td>\n",
              "    </tr>\n",
              "    <tr>\n",
              "      <th>issue_15</th>\n",
              "      <td>0.083333</td>\n",
              "      <td>0.599251</td>\n",
              "    </tr>\n",
              "    <tr>\n",
              "      <th>issue_16</th>\n",
              "      <td>0.571429</td>\n",
              "      <td>0.647940</td>\n",
              "    </tr>\n",
              "  </tbody>\n",
              "</table>\n",
              "</div>"
            ],
            "text/plain": [
              "          Republicans  Democrats\n",
              "issue_1      0.184524   0.584270\n",
              "issue_2      0.446429   0.449438\n",
              "issue_3      0.130952   0.865169\n",
              "issue_4      0.970238   0.052434\n",
              "issue_5      0.934524   0.205993\n",
              "issue_6      0.886905   0.460674\n",
              "issue_7      0.232143   0.749064\n",
              "issue_8      0.142857   0.816479\n",
              "issue_9      0.113095   0.704120\n",
              "issue_10     0.547619   0.464419\n",
              "issue_11     0.125000   0.483146\n",
              "issue_12     0.803571   0.134831\n",
              "issue_13     0.809524   0.273408\n",
              "issue_14     0.940476   0.337079\n",
              "issue_15     0.083333   0.599251\n",
              "issue_16     0.571429   0.647940"
            ]
          },
          "metadata": {
            "tags": []
          },
          "execution_count": 10
        }
      ]
    },
    {
      "cell_type": "code",
      "metadata": {
        "id": "Brt6ZmXOI_Te",
        "colab_type": "code",
        "colab": {
          "base_uri": "https://localhost:8080/",
          "height": 1764
        },
        "outputId": "735c9b3d-2098-42fd-8a40-1f3987af348b"
      },
      "source": [
        "for sample in (republicans, democrats):\n",
        "    print(f\"Mean: {sample.mean()}\")\n",
        "    print(f\"Standard Deviation: {sample.std()}\")\n",
        "    print(f\"Variance: {sample.var()}\")\n",
        "    print(\"---\"*10)"
      ],
      "execution_count": 11,
      "outputs": [
        {
          "output_type": "stream",
          "text": [
            "Mean: issue_1     0.184524\n",
            "issue_2     0.446429\n",
            "issue_3     0.130952\n",
            "issue_4     0.970238\n",
            "issue_5     0.934524\n",
            "issue_6     0.886905\n",
            "issue_7     0.232143\n",
            "issue_8     0.142857\n",
            "issue_9     0.113095\n",
            "issue_10    0.547619\n",
            "issue_11    0.125000\n",
            "issue_12    0.803571\n",
            "issue_13    0.809524\n",
            "issue_14    0.940476\n",
            "issue_15    0.083333\n",
            "issue_16    0.571429\n",
            "dtype: float64\n",
            "Standard Deviation: issue_1     0.389070\n",
            "issue_2     0.498608\n",
            "issue_3     0.338357\n",
            "issue_4     0.170438\n",
            "issue_5     0.248104\n",
            "issue_6     0.317656\n",
            "issue_7     0.423462\n",
            "issue_8     0.350973\n",
            "issue_9     0.317656\n",
            "issue_10    0.499215\n",
            "issue_11    0.331708\n",
            "issue_12    0.398484\n",
            "issue_13    0.393851\n",
            "issue_14    0.237310\n",
            "issue_15    0.277212\n",
            "issue_16    0.496351\n",
            "dtype: float64\n",
            "Variance: issue_1     0.151376\n",
            "issue_2     0.248610\n",
            "issue_3     0.114485\n",
            "issue_4     0.029049\n",
            "issue_5     0.061555\n",
            "issue_6     0.100905\n",
            "issue_7     0.179320\n",
            "issue_8     0.123182\n",
            "issue_9     0.100905\n",
            "issue_10    0.249216\n",
            "issue_11    0.110030\n",
            "issue_12    0.158790\n",
            "issue_13    0.155118\n",
            "issue_14    0.056316\n",
            "issue_15    0.076846\n",
            "issue_16    0.246364\n",
            "dtype: float64\n",
            "------------------------------\n",
            "Mean: issue_1     0.584270\n",
            "issue_2     0.449438\n",
            "issue_3     0.865169\n",
            "issue_4     0.052434\n",
            "issue_5     0.205993\n",
            "issue_6     0.460674\n",
            "issue_7     0.749064\n",
            "issue_8     0.816479\n",
            "issue_9     0.704120\n",
            "issue_10    0.464419\n",
            "issue_11    0.483146\n",
            "issue_12    0.134831\n",
            "issue_13    0.273408\n",
            "issue_14    0.337079\n",
            "issue_15    0.599251\n",
            "issue_16    0.647940\n",
            "dtype: float64\n",
            "Standard Deviation: issue_1     0.493773\n",
            "issue_2     0.498371\n",
            "issue_3     0.342185\n",
            "issue_4     0.223320\n",
            "issue_5     0.405185\n",
            "issue_6     0.499387\n",
            "issue_7     0.434366\n",
            "issue_8     0.387820\n",
            "issue_9     0.457295\n",
            "issue_10    0.499669\n",
            "issue_11    0.500654\n",
            "issue_12    0.342185\n",
            "issue_13    0.446546\n",
            "issue_14    0.473600\n",
            "issue_15    0.490971\n",
            "issue_16    0.478509\n",
            "dtype: float64\n",
            "Variance: issue_1     0.243812\n",
            "issue_2     0.248374\n",
            "issue_3     0.117090\n",
            "issue_4     0.049872\n",
            "issue_5     0.164174\n",
            "issue_6     0.249388\n",
            "issue_7     0.188674\n",
            "issue_8     0.150404\n",
            "issue_9     0.209118\n",
            "issue_10    0.249669\n",
            "issue_11    0.250655\n",
            "issue_12    0.117090\n",
            "issue_13    0.199403\n",
            "issue_14    0.224297\n",
            "issue_15    0.241052\n",
            "issue_16    0.228971\n",
            "dtype: float64\n",
            "------------------------------\n"
          ],
          "name": "stdout"
        }
      ]
    },
    {
      "cell_type": "code",
      "metadata": {
        "id": "y4KjHjXEYArF",
        "colab_type": "code",
        "colab": {
          "base_uri": "https://localhost:8080/",
          "height": 118
        },
        "outputId": "546623e7-b781-43ca-9e1d-29901fd1c499"
      },
      "source": [
        "df.groupby('party')['issue_3'].value_counts()\n",
        "# democrats favor issue 3 more than the republicans"
      ],
      "execution_count": 12,
      "outputs": [
        {
          "output_type": "execute_result",
          "data": {
            "text/plain": [
              "party       issue_3\n",
              "democrat    1          231\n",
              "            0           36\n",
              "republican  0          146\n",
              "            1           22\n",
              "Name: issue_3, dtype: int64"
            ]
          },
          "metadata": {
            "tags": []
          },
          "execution_count": 12
        }
      ]
    },
    {
      "cell_type": "code",
      "metadata": {
        "id": "CjUkSQgXYT3m",
        "colab_type": "code",
        "colab": {
          "base_uri": "https://localhost:8080/",
          "height": 34
        },
        "outputId": "c1c77d63-f0b3-48a1-b53e-e6e73840e2d9"
      },
      "source": [
        "rep_issue_3 = republicans['issue_3']\n",
        "dem_issue_3 = democrats['issue_3']\n",
        "rep_issue_3.shape\n"
      ],
      "execution_count": 15,
      "outputs": [
        {
          "output_type": "execute_result",
          "data": {
            "text/plain": [
              "(168,)"
            ]
          },
          "metadata": {
            "tags": []
          },
          "execution_count": 15
        }
      ]
    },
    {
      "cell_type": "code",
      "metadata": {
        "id": "BmtMZN2iY1x8",
        "colab_type": "code",
        "colab": {
          "base_uri": "https://localhost:8080/",
          "height": 34
        },
        "outputId": "d884e75f-cc12-4b49-d2af-bc9c3a92e45d"
      },
      "source": [
        "dem_issue_3.shape"
      ],
      "execution_count": 16,
      "outputs": [
        {
          "output_type": "execute_result",
          "data": {
            "text/plain": [
              "(267,)"
            ]
          },
          "metadata": {
            "tags": []
          },
          "execution_count": 16
        }
      ]
    },
    {
      "cell_type": "code",
      "metadata": {
        "id": "E05SpfJ0Y-DQ",
        "colab_type": "code",
        "colab": {
          "base_uri": "https://localhost:8080/",
          "height": 34
        },
        "outputId": "3dc96cec-78cc-4d40-ba54-75ca0698350e"
      },
      "source": [
        "ttest_ind(dem_issue_3, rep_issue_3)\n",
        "# the pvalue < 0.01 "
      ],
      "execution_count": 17,
      "outputs": [
        {
          "output_type": "execute_result",
          "data": {
            "text/plain": [
              "Ttest_indResult(statistic=21.88266384579222, pvalue=4.994834925373016e-72)"
            ]
          },
          "metadata": {
            "tags": []
          },
          "execution_count": 17
        }
      ]
    },
    {
      "cell_type": "code",
      "metadata": {
        "id": "WWezsAjMZX91",
        "colab_type": "code",
        "colab": {}
      },
      "source": [
        "statistic, pvalue = ttest_ind(dem_issue_3, rep_issue_3)"
      ],
      "execution_count": 0,
      "outputs": []
    },
    {
      "cell_type": "code",
      "metadata": {
        "id": "cdY-g3YBbj1w",
        "colab_type": "code",
        "colab": {
          "base_uri": "https://localhost:8080/",
          "height": 156
        },
        "outputId": "593d2e15-e078-4cac-d474-ae2878acd179"
      },
      "source": [
        "# Using hypothesis testing, find an issue that republicans support more \n",
        "# than democrats with p < 0.01\n",
        "\n",
        "pd.pivot_table(data=df, index='party')"
      ],
      "execution_count": 22,
      "outputs": [
        {
          "output_type": "execute_result",
          "data": {
            "text/html": [
              "<div>\n",
              "<style scoped>\n",
              "    .dataframe tbody tr th:only-of-type {\n",
              "        vertical-align: middle;\n",
              "    }\n",
              "\n",
              "    .dataframe tbody tr th {\n",
              "        vertical-align: top;\n",
              "    }\n",
              "\n",
              "    .dataframe thead th {\n",
              "        text-align: right;\n",
              "    }\n",
              "</style>\n",
              "<table border=\"1\" class=\"dataframe\">\n",
              "  <thead>\n",
              "    <tr style=\"text-align: right;\">\n",
              "      <th></th>\n",
              "      <th>issue_1</th>\n",
              "      <th>issue_10</th>\n",
              "      <th>issue_11</th>\n",
              "      <th>issue_12</th>\n",
              "      <th>issue_13</th>\n",
              "      <th>issue_14</th>\n",
              "      <th>issue_15</th>\n",
              "      <th>issue_16</th>\n",
              "      <th>issue_2</th>\n",
              "      <th>issue_3</th>\n",
              "      <th>issue_4</th>\n",
              "      <th>issue_5</th>\n",
              "      <th>issue_6</th>\n",
              "      <th>issue_7</th>\n",
              "      <th>issue_8</th>\n",
              "      <th>issue_9</th>\n",
              "    </tr>\n",
              "    <tr>\n",
              "      <th>party</th>\n",
              "      <th></th>\n",
              "      <th></th>\n",
              "      <th></th>\n",
              "      <th></th>\n",
              "      <th></th>\n",
              "      <th></th>\n",
              "      <th></th>\n",
              "      <th></th>\n",
              "      <th></th>\n",
              "      <th></th>\n",
              "      <th></th>\n",
              "      <th></th>\n",
              "      <th></th>\n",
              "      <th></th>\n",
              "      <th></th>\n",
              "      <th></th>\n",
              "    </tr>\n",
              "  </thead>\n",
              "  <tbody>\n",
              "    <tr>\n",
              "      <th>democrat</th>\n",
              "      <td>0.584270</td>\n",
              "      <td>0.464419</td>\n",
              "      <td>0.483146</td>\n",
              "      <td>0.134831</td>\n",
              "      <td>0.273408</td>\n",
              "      <td>0.337079</td>\n",
              "      <td>0.599251</td>\n",
              "      <td>0.647940</td>\n",
              "      <td>0.449438</td>\n",
              "      <td>0.865169</td>\n",
              "      <td>0.052434</td>\n",
              "      <td>0.205993</td>\n",
              "      <td>0.460674</td>\n",
              "      <td>0.749064</td>\n",
              "      <td>0.816479</td>\n",
              "      <td>0.704120</td>\n",
              "    </tr>\n",
              "    <tr>\n",
              "      <th>republican</th>\n",
              "      <td>0.184524</td>\n",
              "      <td>0.547619</td>\n",
              "      <td>0.125000</td>\n",
              "      <td>0.803571</td>\n",
              "      <td>0.809524</td>\n",
              "      <td>0.940476</td>\n",
              "      <td>0.083333</td>\n",
              "      <td>0.571429</td>\n",
              "      <td>0.446429</td>\n",
              "      <td>0.130952</td>\n",
              "      <td>0.970238</td>\n",
              "      <td>0.934524</td>\n",
              "      <td>0.886905</td>\n",
              "      <td>0.232143</td>\n",
              "      <td>0.142857</td>\n",
              "      <td>0.113095</td>\n",
              "    </tr>\n",
              "  </tbody>\n",
              "</table>\n",
              "</div>"
            ],
            "text/plain": [
              "             issue_1  issue_10  issue_11  issue_12  issue_13  issue_14  \\\n",
              "party                                                                    \n",
              "democrat    0.584270  0.464419  0.483146  0.134831  0.273408  0.337079   \n",
              "republican  0.184524  0.547619  0.125000  0.803571  0.809524  0.940476   \n",
              "\n",
              "            issue_15  issue_16   issue_2   issue_3   issue_4   issue_5  \\\n",
              "party                                                                    \n",
              "democrat    0.599251  0.647940  0.449438  0.865169  0.052434  0.205993   \n",
              "republican  0.083333  0.571429  0.446429  0.130952  0.970238  0.934524   \n",
              "\n",
              "             issue_6   issue_7   issue_8   issue_9  \n",
              "party                                               \n",
              "democrat    0.460674  0.749064  0.816479  0.704120  \n",
              "republican  0.886905  0.232143  0.142857  0.113095  "
            ]
          },
          "metadata": {
            "tags": []
          },
          "execution_count": 22
        }
      ]
    },
    {
      "cell_type": "code",
      "metadata": {
        "id": "lk9Js3A3c6l2",
        "colab_type": "code",
        "colab": {
          "base_uri": "https://localhost:8080/",
          "height": 118
        },
        "outputId": "118e32d7-2d2f-4fd3-d37e-f9acffa02b01"
      },
      "source": [
        "df.groupby('party')['issue_12'].value_counts()"
      ],
      "execution_count": 26,
      "outputs": [
        {
          "output_type": "execute_result",
          "data": {
            "text/plain": [
              "party       issue_12\n",
              "democrat    0           231\n",
              "            1            36\n",
              "republican  1           135\n",
              "            0            33\n",
              "Name: issue_12, dtype: int64"
            ]
          },
          "metadata": {
            "tags": []
          },
          "execution_count": 26
        }
      ]
    },
    {
      "cell_type": "code",
      "metadata": {
        "id": "TmLchcAdePI1",
        "colab_type": "code",
        "colab": {
          "base_uri": "https://localhost:8080/",
          "height": 34
        },
        "outputId": "b1caaad5-6553-489c-93d4-5674a6a48489"
      },
      "source": [
        "rep_issue_12 = republicans['issue_12']\n",
        "dem_issue_12 = democrats['issue_12']\n",
        "rep_issue_12.shape"
      ],
      "execution_count": 30,
      "outputs": [
        {
          "output_type": "execute_result",
          "data": {
            "text/plain": [
              "(168,)"
            ]
          },
          "metadata": {
            "tags": []
          },
          "execution_count": 30
        }
      ]
    },
    {
      "cell_type": "code",
      "metadata": {
        "id": "X9SlWw7retSx",
        "colab_type": "code",
        "colab": {
          "base_uri": "https://localhost:8080/",
          "height": 34
        },
        "outputId": "94ff9174-a108-4197-8f35-6e9a20325f05"
      },
      "source": [
        "ttest_ind(rep_issue_12, dem_issue_12)\n",
        "# republicans favor issue 12 more than the republicans with \n",
        "# a pvalue of 3.207102937282988e-57"
      ],
      "execution_count": 31,
      "outputs": [
        {
          "output_type": "execute_result",
          "data": {
            "text/plain": [
              "Ttest_indResult(statistic=18.608645942840827, pvalue=3.207102937282988e-57)"
            ]
          },
          "metadata": {
            "tags": []
          },
          "execution_count": 31
        }
      ]
    },
    {
      "cell_type": "code",
      "metadata": {
        "id": "JkByUfC-f_sW",
        "colab_type": "code",
        "colab": {
          "base_uri": "https://localhost:8080/",
          "height": 118
        },
        "outputId": "737847c7-0a20-407b-f716-24faf6fc6622"
      },
      "source": [
        "# Using hypothesis testing, find an issue where the difference between \n",
        "# republicans and democrats has p > 0.1 (i.e. there may not be much of a \n",
        "# difference)\n",
        "\n",
        "df.groupby('party')['issue_10'].value_counts()"
      ],
      "execution_count": 32,
      "outputs": [
        {
          "output_type": "execute_result",
          "data": {
            "text/plain": [
              "party       issue_10\n",
              "democrat    0           143\n",
              "            1           124\n",
              "republican  1            92\n",
              "            0            76\n",
              "Name: issue_10, dtype: int64"
            ]
          },
          "metadata": {
            "tags": []
          },
          "execution_count": 32
        }
      ]
    },
    {
      "cell_type": "code",
      "metadata": {
        "id": "yFVtLdYIgWuP",
        "colab_type": "code",
        "colab": {
          "base_uri": "https://localhost:8080/",
          "height": 34
        },
        "outputId": "90638899-7c23-49a7-be32-bd162191f75a"
      },
      "source": [
        "rep_issue_10 = republicans['issue_10']\n",
        "dem_issue_10 = democrats['issue_10']\n",
        "rep_issue_10.shape"
      ],
      "execution_count": 36,
      "outputs": [
        {
          "output_type": "execute_result",
          "data": {
            "text/plain": [
              "(168,)"
            ]
          },
          "metadata": {
            "tags": []
          },
          "execution_count": 36
        }
      ]
    },
    {
      "cell_type": "code",
      "metadata": {
        "id": "P9-Y2PKXg6hf",
        "colab_type": "code",
        "colab": {
          "base_uri": "https://localhost:8080/",
          "height": 34
        },
        "outputId": "f332b45d-c3d4-4134-94ba-3b03de71e39f"
      },
      "source": [
        "ttest_ind(rep_issue_10, dem_issue_10)\n",
        "#pvalue is .09"
      ],
      "execution_count": 37,
      "outputs": [
        {
          "output_type": "execute_result",
          "data": {
            "text/plain": [
              "Ttest_indResult(statistic=1.6914393096278746, pvalue=0.09147245394758567)"
            ]
          },
          "metadata": {
            "tags": []
          },
          "execution_count": 37
        }
      ]
    }
  ]
}