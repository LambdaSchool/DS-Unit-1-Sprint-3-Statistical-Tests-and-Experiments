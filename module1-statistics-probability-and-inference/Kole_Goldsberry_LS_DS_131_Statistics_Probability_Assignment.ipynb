{
  "nbformat": 4,
  "nbformat_minor": 0,
  "metadata": {
    "kernelspec": {
      "display_name": "Python 3",
      "language": "python",
      "name": "python3"
    },
    "language_info": {
      "codemirror_mode": {
        "name": "ipython",
        "version": 3
      },
      "file_extension": ".py",
      "mimetype": "text/x-python",
      "name": "python",
      "nbconvert_exporter": "python",
      "pygments_lexer": "ipython3",
      "version": "3.7.3"
    },
    "colab": {
      "name": "Kole_Goldsberry_LS_DS_131_Statistics_Probability_Assignment.ipynb",
      "provenance": [],
      "collapsed_sections": [],
      "include_colab_link": true
    }
  },
  "cells": [
    {
      "cell_type": "markdown",
      "metadata": {
        "id": "view-in-github",
        "colab_type": "text"
      },
      "source": [
        "<a href=\"https://colab.research.google.com/github/Tenntucky/DS-Unit-1-Sprint-3-Statistical-Tests-and-Experiments/blob/master/module1-statistics-probability-and-inference/Kole_Goldsberry_LS_DS_131_Statistics_Probability_Assignment.ipynb\" target=\"_parent\"><img src=\"https://colab.research.google.com/assets/colab-badge.svg\" alt=\"Open In Colab\"/></a>"
      ]
    },
    {
      "cell_type": "markdown",
      "metadata": {
        "id": "SABcZGXQ-OEb",
        "colab_type": "text"
      },
      "source": [
        "<img align=\"left\" src=\"https://lever-client-logos.s3.amazonaws.com/864372b1-534c-480e-acd5-9711f850815c-1524247202159.png\" width=200>\n",
        "<br></br>\n",
        "<br></br>\n",
        "\n",
        "## *Data Science Unit 1 Sprint 3 Assignment 1*\n",
        "\n",
        "# Apply the t-test to real data\n",
        "\n",
        "Your assignment is to determine which issues have \"statistically significant\" differences between political parties in this [1980s congressional voting data](https://archive.ics.uci.edu/ml/datasets/Congressional+Voting+Records). The data consists of 435 instances (one for each congressperson), a class (democrat or republican), and 16 binary attributes (yes or no for voting for or against certain issues). Be aware - there are missing values!\n",
        "\n",
        "Your goals:\n",
        "\n",
        "1. Load and clean the data (or determine the best method to drop observations when running tests)\n",
        "2. Using hypothesis testing, find an issue that democrats support more than republicans with p < 0.01\n",
        "3. Using hypothesis testing, find an issue that republicans support more than democrats with p < 0.01\n",
        "4. Using hypothesis testing, find an issue where the difference between republicans and democrats has p > 0.1 (i.e. there may not be much of a difference)\n",
        "\n",
        "Note that this data will involve *2 sample* t-tests, because you're comparing averages across two groups (republicans and democrats) rather than a single group against a null hypothesis.\n",
        "\n",
        "Stretch goals:\n",
        "\n",
        "1. Refactor your code into functions so it's easy to rerun with arbitrary variables\n",
        "2. Apply hypothesis testing to your personal project data (for the purposes of this notebook you can type a summary of the hypothesis you formed and tested)"
      ]
    },
    {
      "cell_type": "code",
      "metadata": {
        "id": "dRVjNISM-OEf",
        "colab_type": "code",
        "colab": {}
      },
      "source": [
        "import numpy as np\n",
        "import pandas as pd\n",
        "import matplotlib.pyplot as plt\n",
        "from scipy.stats import ttest_ind, ttest_ind_from_stats, ttest_rel"
      ],
      "execution_count": 0,
      "outputs": []
    },
    {
      "cell_type": "code",
      "metadata": {
        "id": "xd9pRuGPK8p7",
        "colab_type": "code",
        "colab": {}
      },
      "source": [
        "col_headers = ['Class Name', 'handicapped-infants',\n",
        "            'water-project-cost-sharing', 'adoption-of-the-budget-resolution',\n",
        "            'physician-fee-freeze', 'el-salvador-aid',\n",
        "            'religious-groups-in-schools', 'anti-satellite-test-ban',\n",
        "            'aid-to-nicaraguan-contras', 'mx-missile', 'immigration',\n",
        "            'synfuels-corporation-cutback', 'education-spending',\n",
        "            'superfund-right-to-sue', 'crime', 'duty-free-exports', \n",
        "            'export-administration-act-south-africa']\n"
      ],
      "execution_count": 0,
      "outputs": []
    },
    {
      "cell_type": "code",
      "metadata": {
        "id": "-uKZIHa0glWV",
        "colab_type": "code",
        "outputId": "dcb94d11-0a01-4be4-f45e-35df254134ea",
        "colab": {
          "base_uri": "https://localhost:8080/",
          "height": 238
        }
      },
      "source": [
        "df = pd.read_csv('house-votes-84.data', header=None, names=col_headers)\n",
        "df.head()"
      ],
      "execution_count": 0,
      "outputs": [
        {
          "output_type": "execute_result",
          "data": {
            "text/html": [
              "<div>\n",
              "<style scoped>\n",
              "    .dataframe tbody tr th:only-of-type {\n",
              "        vertical-align: middle;\n",
              "    }\n",
              "\n",
              "    .dataframe tbody tr th {\n",
              "        vertical-align: top;\n",
              "    }\n",
              "\n",
              "    .dataframe thead th {\n",
              "        text-align: right;\n",
              "    }\n",
              "</style>\n",
              "<table border=\"1\" class=\"dataframe\">\n",
              "  <thead>\n",
              "    <tr style=\"text-align: right;\">\n",
              "      <th></th>\n",
              "      <th>Class Name</th>\n",
              "      <th>handicapped-infants</th>\n",
              "      <th>water-project-cost-sharing</th>\n",
              "      <th>adoption-of-the-budget-resolution</th>\n",
              "      <th>physician-fee-freeze</th>\n",
              "      <th>el-salvador-aid</th>\n",
              "      <th>religious-groups-in-schools</th>\n",
              "      <th>anti-satellite-test-ban</th>\n",
              "      <th>aid-to-nicaraguan-contras</th>\n",
              "      <th>mx-missile</th>\n",
              "      <th>immigration</th>\n",
              "      <th>synfuels-corporation-cutback</th>\n",
              "      <th>education-spending</th>\n",
              "      <th>superfund-right-to-sue</th>\n",
              "      <th>crime</th>\n",
              "      <th>duty-free-exports</th>\n",
              "      <th>export-administration-act-south-africa</th>\n",
              "    </tr>\n",
              "  </thead>\n",
              "  <tbody>\n",
              "    <tr>\n",
              "      <th>0</th>\n",
              "      <td>republican</td>\n",
              "      <td>n</td>\n",
              "      <td>y</td>\n",
              "      <td>n</td>\n",
              "      <td>y</td>\n",
              "      <td>y</td>\n",
              "      <td>y</td>\n",
              "      <td>n</td>\n",
              "      <td>n</td>\n",
              "      <td>n</td>\n",
              "      <td>y</td>\n",
              "      <td>?</td>\n",
              "      <td>y</td>\n",
              "      <td>y</td>\n",
              "      <td>y</td>\n",
              "      <td>n</td>\n",
              "      <td>y</td>\n",
              "    </tr>\n",
              "    <tr>\n",
              "      <th>1</th>\n",
              "      <td>republican</td>\n",
              "      <td>n</td>\n",
              "      <td>y</td>\n",
              "      <td>n</td>\n",
              "      <td>y</td>\n",
              "      <td>y</td>\n",
              "      <td>y</td>\n",
              "      <td>n</td>\n",
              "      <td>n</td>\n",
              "      <td>n</td>\n",
              "      <td>n</td>\n",
              "      <td>n</td>\n",
              "      <td>y</td>\n",
              "      <td>y</td>\n",
              "      <td>y</td>\n",
              "      <td>n</td>\n",
              "      <td>?</td>\n",
              "    </tr>\n",
              "    <tr>\n",
              "      <th>2</th>\n",
              "      <td>democrat</td>\n",
              "      <td>?</td>\n",
              "      <td>y</td>\n",
              "      <td>y</td>\n",
              "      <td>?</td>\n",
              "      <td>y</td>\n",
              "      <td>y</td>\n",
              "      <td>n</td>\n",
              "      <td>n</td>\n",
              "      <td>n</td>\n",
              "      <td>n</td>\n",
              "      <td>y</td>\n",
              "      <td>n</td>\n",
              "      <td>y</td>\n",
              "      <td>y</td>\n",
              "      <td>n</td>\n",
              "      <td>n</td>\n",
              "    </tr>\n",
              "    <tr>\n",
              "      <th>3</th>\n",
              "      <td>democrat</td>\n",
              "      <td>n</td>\n",
              "      <td>y</td>\n",
              "      <td>y</td>\n",
              "      <td>n</td>\n",
              "      <td>?</td>\n",
              "      <td>y</td>\n",
              "      <td>n</td>\n",
              "      <td>n</td>\n",
              "      <td>n</td>\n",
              "      <td>n</td>\n",
              "      <td>y</td>\n",
              "      <td>n</td>\n",
              "      <td>y</td>\n",
              "      <td>n</td>\n",
              "      <td>n</td>\n",
              "      <td>y</td>\n",
              "    </tr>\n",
              "    <tr>\n",
              "      <th>4</th>\n",
              "      <td>democrat</td>\n",
              "      <td>y</td>\n",
              "      <td>y</td>\n",
              "      <td>y</td>\n",
              "      <td>n</td>\n",
              "      <td>y</td>\n",
              "      <td>y</td>\n",
              "      <td>n</td>\n",
              "      <td>n</td>\n",
              "      <td>n</td>\n",
              "      <td>n</td>\n",
              "      <td>y</td>\n",
              "      <td>?</td>\n",
              "      <td>y</td>\n",
              "      <td>y</td>\n",
              "      <td>y</td>\n",
              "      <td>y</td>\n",
              "    </tr>\n",
              "  </tbody>\n",
              "</table>\n",
              "</div>"
            ],
            "text/plain": [
              "   Class Name  ... export-administration-act-south-africa\n",
              "0  republican  ...                                      y\n",
              "1  republican  ...                                      ?\n",
              "2    democrat  ...                                      n\n",
              "3    democrat  ...                                      y\n",
              "4    democrat  ...                                      y\n",
              "\n",
              "[5 rows x 17 columns]"
            ]
          },
          "metadata": {
            "tags": []
          },
          "execution_count": 69
        }
      ]
    },
    {
      "cell_type": "code",
      "metadata": {
        "id": "beeu7HNphXeP",
        "colab_type": "code",
        "outputId": "575d1911-d955-44c8-c5bf-93a7539fa70e",
        "colab": {
          "base_uri": "https://localhost:8080/",
          "height": 34
        }
      },
      "source": [
        "df.shape"
      ],
      "execution_count": 0,
      "outputs": [
        {
          "output_type": "execute_result",
          "data": {
            "text/plain": [
              "(435, 17)"
            ]
          },
          "metadata": {
            "tags": []
          },
          "execution_count": 70
        }
      ]
    },
    {
      "cell_type": "code",
      "metadata": {
        "id": "R62XGKrQipXK",
        "colab_type": "code",
        "outputId": "6e811940-466d-495b-c3e8-9c1e7c2a8910",
        "colab": {
          "base_uri": "https://localhost:8080/",
          "height": 176
        }
      },
      "source": [
        "df = df.replace('?', '_')\n",
        "df.head(3)"
      ],
      "execution_count": 0,
      "outputs": [
        {
          "output_type": "execute_result",
          "data": {
            "text/html": [
              "<div>\n",
              "<style scoped>\n",
              "    .dataframe tbody tr th:only-of-type {\n",
              "        vertical-align: middle;\n",
              "    }\n",
              "\n",
              "    .dataframe tbody tr th {\n",
              "        vertical-align: top;\n",
              "    }\n",
              "\n",
              "    .dataframe thead th {\n",
              "        text-align: right;\n",
              "    }\n",
              "</style>\n",
              "<table border=\"1\" class=\"dataframe\">\n",
              "  <thead>\n",
              "    <tr style=\"text-align: right;\">\n",
              "      <th></th>\n",
              "      <th>Class Name</th>\n",
              "      <th>handicapped-infants</th>\n",
              "      <th>water-project-cost-sharing</th>\n",
              "      <th>adoption-of-the-budget-resolution</th>\n",
              "      <th>physician-fee-freeze</th>\n",
              "      <th>el-salvador-aid</th>\n",
              "      <th>religious-groups-in-schools</th>\n",
              "      <th>anti-satellite-test-ban</th>\n",
              "      <th>aid-to-nicaraguan-contras</th>\n",
              "      <th>mx-missile</th>\n",
              "      <th>immigration</th>\n",
              "      <th>synfuels-corporation-cutback</th>\n",
              "      <th>education-spending</th>\n",
              "      <th>superfund-right-to-sue</th>\n",
              "      <th>crime</th>\n",
              "      <th>duty-free-exports</th>\n",
              "      <th>export-administration-act-south-africa</th>\n",
              "    </tr>\n",
              "  </thead>\n",
              "  <tbody>\n",
              "    <tr>\n",
              "      <th>0</th>\n",
              "      <td>republican</td>\n",
              "      <td>n</td>\n",
              "      <td>y</td>\n",
              "      <td>n</td>\n",
              "      <td>y</td>\n",
              "      <td>y</td>\n",
              "      <td>y</td>\n",
              "      <td>n</td>\n",
              "      <td>n</td>\n",
              "      <td>n</td>\n",
              "      <td>y</td>\n",
              "      <td>_</td>\n",
              "      <td>y</td>\n",
              "      <td>y</td>\n",
              "      <td>y</td>\n",
              "      <td>n</td>\n",
              "      <td>y</td>\n",
              "    </tr>\n",
              "    <tr>\n",
              "      <th>1</th>\n",
              "      <td>republican</td>\n",
              "      <td>n</td>\n",
              "      <td>y</td>\n",
              "      <td>n</td>\n",
              "      <td>y</td>\n",
              "      <td>y</td>\n",
              "      <td>y</td>\n",
              "      <td>n</td>\n",
              "      <td>n</td>\n",
              "      <td>n</td>\n",
              "      <td>n</td>\n",
              "      <td>n</td>\n",
              "      <td>y</td>\n",
              "      <td>y</td>\n",
              "      <td>y</td>\n",
              "      <td>n</td>\n",
              "      <td>_</td>\n",
              "    </tr>\n",
              "    <tr>\n",
              "      <th>2</th>\n",
              "      <td>democrat</td>\n",
              "      <td>_</td>\n",
              "      <td>y</td>\n",
              "      <td>y</td>\n",
              "      <td>_</td>\n",
              "      <td>y</td>\n",
              "      <td>y</td>\n",
              "      <td>n</td>\n",
              "      <td>n</td>\n",
              "      <td>n</td>\n",
              "      <td>n</td>\n",
              "      <td>y</td>\n",
              "      <td>n</td>\n",
              "      <td>y</td>\n",
              "      <td>y</td>\n",
              "      <td>n</td>\n",
              "      <td>n</td>\n",
              "    </tr>\n",
              "  </tbody>\n",
              "</table>\n",
              "</div>"
            ],
            "text/plain": [
              "   Class Name  ... export-administration-act-south-africa\n",
              "0  republican  ...                                      y\n",
              "1  republican  ...                                      _\n",
              "2    democrat  ...                                      n\n",
              "\n",
              "[3 rows x 17 columns]"
            ]
          },
          "metadata": {
            "tags": []
          },
          "execution_count": 71
        }
      ]
    },
    {
      "cell_type": "code",
      "metadata": {
        "id": "g2lqRNgml5DT",
        "colab_type": "code",
        "colab": {}
      },
      "source": [
        "df_reps = df[df['Class Name'] == 'republican']\n",
        "\n",
        "df_dems = df[df['Class Name'] == 'democrat']"
      ],
      "execution_count": 0,
      "outputs": []
    },
    {
      "cell_type": "code",
      "metadata": {
        "id": "WgoWxTVkj3Xu",
        "colab_type": "code",
        "outputId": "8b93d5e1-5b76-493d-af12-d5bf4b0c9475",
        "colab": {
          "base_uri": "https://localhost:8080/",
          "height": 34
        }
      },
      "source": [
        "df_reps.head()\n",
        "df_reps.shape"
      ],
      "execution_count": 0,
      "outputs": [
        {
          "output_type": "execute_result",
          "data": {
            "text/plain": [
              "(168, 17)"
            ]
          },
          "metadata": {
            "tags": []
          },
          "execution_count": 73
        }
      ]
    },
    {
      "cell_type": "code",
      "metadata": {
        "id": "Jc-8QRsVuOiO",
        "colab_type": "code",
        "outputId": "479b0f46-e25b-4052-e78e-58760db4bd76",
        "colab": {
          "base_uri": "https://localhost:8080/",
          "height": 34
        }
      },
      "source": [
        "df_dems.head()\n",
        "df_dems.shape"
      ],
      "execution_count": 0,
      "outputs": [
        {
          "output_type": "execute_result",
          "data": {
            "text/plain": [
              "(267, 17)"
            ]
          },
          "metadata": {
            "tags": []
          },
          "execution_count": 74
        }
      ]
    },
    {
      "cell_type": "code",
      "metadata": {
        "id": "Q_FZjyZ-nmcR",
        "colab_type": "code",
        "outputId": "1d8c27e8-abf0-49a5-e952-148d3fe5be1e",
        "colab": {
          "base_uri": "https://localhost:8080/",
          "height": 576
        }
      },
      "source": [
        "df_dems.describe(exclude='number').T"
      ],
      "execution_count": 0,
      "outputs": [
        {
          "output_type": "execute_result",
          "data": {
            "text/html": [
              "<div>\n",
              "<style scoped>\n",
              "    .dataframe tbody tr th:only-of-type {\n",
              "        vertical-align: middle;\n",
              "    }\n",
              "\n",
              "    .dataframe tbody tr th {\n",
              "        vertical-align: top;\n",
              "    }\n",
              "\n",
              "    .dataframe thead th {\n",
              "        text-align: right;\n",
              "    }\n",
              "</style>\n",
              "<table border=\"1\" class=\"dataframe\">\n",
              "  <thead>\n",
              "    <tr style=\"text-align: right;\">\n",
              "      <th></th>\n",
              "      <th>count</th>\n",
              "      <th>unique</th>\n",
              "      <th>top</th>\n",
              "      <th>freq</th>\n",
              "    </tr>\n",
              "  </thead>\n",
              "  <tbody>\n",
              "    <tr>\n",
              "      <th>Class Name</th>\n",
              "      <td>267</td>\n",
              "      <td>1</td>\n",
              "      <td>democrat</td>\n",
              "      <td>267</td>\n",
              "    </tr>\n",
              "    <tr>\n",
              "      <th>handicapped-infants</th>\n",
              "      <td>267</td>\n",
              "      <td>3</td>\n",
              "      <td>y</td>\n",
              "      <td>156</td>\n",
              "    </tr>\n",
              "    <tr>\n",
              "      <th>water-project-cost-sharing</th>\n",
              "      <td>267</td>\n",
              "      <td>3</td>\n",
              "      <td>y</td>\n",
              "      <td>120</td>\n",
              "    </tr>\n",
              "    <tr>\n",
              "      <th>adoption-of-the-budget-resolution</th>\n",
              "      <td>267</td>\n",
              "      <td>3</td>\n",
              "      <td>y</td>\n",
              "      <td>231</td>\n",
              "    </tr>\n",
              "    <tr>\n",
              "      <th>physician-fee-freeze</th>\n",
              "      <td>267</td>\n",
              "      <td>3</td>\n",
              "      <td>n</td>\n",
              "      <td>245</td>\n",
              "    </tr>\n",
              "    <tr>\n",
              "      <th>el-salvador-aid</th>\n",
              "      <td>267</td>\n",
              "      <td>3</td>\n",
              "      <td>n</td>\n",
              "      <td>200</td>\n",
              "    </tr>\n",
              "    <tr>\n",
              "      <th>religious-groups-in-schools</th>\n",
              "      <td>267</td>\n",
              "      <td>3</td>\n",
              "      <td>n</td>\n",
              "      <td>135</td>\n",
              "    </tr>\n",
              "    <tr>\n",
              "      <th>anti-satellite-test-ban</th>\n",
              "      <td>267</td>\n",
              "      <td>3</td>\n",
              "      <td>y</td>\n",
              "      <td>200</td>\n",
              "    </tr>\n",
              "    <tr>\n",
              "      <th>aid-to-nicaraguan-contras</th>\n",
              "      <td>267</td>\n",
              "      <td>3</td>\n",
              "      <td>y</td>\n",
              "      <td>218</td>\n",
              "    </tr>\n",
              "    <tr>\n",
              "      <th>mx-missile</th>\n",
              "      <td>267</td>\n",
              "      <td>3</td>\n",
              "      <td>y</td>\n",
              "      <td>188</td>\n",
              "    </tr>\n",
              "    <tr>\n",
              "      <th>immigration</th>\n",
              "      <td>267</td>\n",
              "      <td>3</td>\n",
              "      <td>n</td>\n",
              "      <td>139</td>\n",
              "    </tr>\n",
              "    <tr>\n",
              "      <th>synfuels-corporation-cutback</th>\n",
              "      <td>267</td>\n",
              "      <td>3</td>\n",
              "      <td>y</td>\n",
              "      <td>129</td>\n",
              "    </tr>\n",
              "    <tr>\n",
              "      <th>education-spending</th>\n",
              "      <td>267</td>\n",
              "      <td>3</td>\n",
              "      <td>n</td>\n",
              "      <td>213</td>\n",
              "    </tr>\n",
              "    <tr>\n",
              "      <th>superfund-right-to-sue</th>\n",
              "      <td>267</td>\n",
              "      <td>3</td>\n",
              "      <td>n</td>\n",
              "      <td>179</td>\n",
              "    </tr>\n",
              "    <tr>\n",
              "      <th>crime</th>\n",
              "      <td>267</td>\n",
              "      <td>3</td>\n",
              "      <td>n</td>\n",
              "      <td>167</td>\n",
              "    </tr>\n",
              "    <tr>\n",
              "      <th>duty-free-exports</th>\n",
              "      <td>267</td>\n",
              "      <td>3</td>\n",
              "      <td>y</td>\n",
              "      <td>160</td>\n",
              "    </tr>\n",
              "    <tr>\n",
              "      <th>export-administration-act-south-africa</th>\n",
              "      <td>267</td>\n",
              "      <td>3</td>\n",
              "      <td>y</td>\n",
              "      <td>173</td>\n",
              "    </tr>\n",
              "  </tbody>\n",
              "</table>\n",
              "</div>"
            ],
            "text/plain": [
              "                                       count unique       top freq\n",
              "Class Name                               267      1  democrat  267\n",
              "handicapped-infants                      267      3         y  156\n",
              "water-project-cost-sharing               267      3         y  120\n",
              "adoption-of-the-budget-resolution        267      3         y  231\n",
              "physician-fee-freeze                     267      3         n  245\n",
              "el-salvador-aid                          267      3         n  200\n",
              "religious-groups-in-schools              267      3         n  135\n",
              "anti-satellite-test-ban                  267      3         y  200\n",
              "aid-to-nicaraguan-contras                267      3         y  218\n",
              "mx-missile                               267      3         y  188\n",
              "immigration                              267      3         n  139\n",
              "synfuels-corporation-cutback             267      3         y  129\n",
              "education-spending                       267      3         n  213\n",
              "superfund-right-to-sue                   267      3         n  179\n",
              "crime                                    267      3         n  167\n",
              "duty-free-exports                        267      3         y  160\n",
              "export-administration-act-south-africa   267      3         y  173"
            ]
          },
          "metadata": {
            "tags": []
          },
          "execution_count": 76
        }
      ]
    },
    {
      "cell_type": "code",
      "metadata": {
        "id": "-kkY2myHuRiI",
        "colab_type": "code",
        "outputId": "a29ee565-01d9-4fd2-edb2-03daa58648bb",
        "colab": {
          "base_uri": "https://localhost:8080/",
          "height": 85
        }
      },
      "source": [
        "df_dems['handicapped-infants'].value_counts() # y, n, _\n",
        "# Y: (1)156, 102, 9; (2)120, 119, 28; (3)231, 29, 7; (4)14, 245, 8;\n",
        "# (5)55, 200, 12; (6)123, 135, 9; (7)200, 59, 8; (8)218, 45, 4; (9)188, 60, 19; (10)124, 139, 4; \n",
        "# (11)129, 126, 12; (12)36, 213, 18; (13)73, 179, 15;\n",
        "# (14)90, 167, 10; (15)160, 91, 16; (16)173, 12, 82;"
      ],
      "execution_count": 0,
      "outputs": [
        {
          "output_type": "execute_result",
          "data": {
            "text/plain": [
              "y    156\n",
              "n    102\n",
              "_      9\n",
              "Name: handicapped-infants, dtype: int64"
            ]
          },
          "metadata": {
            "tags": []
          },
          "execution_count": 99
        }
      ]
    },
    {
      "cell_type": "code",
      "metadata": {
        "id": "hDmGg-f3ZeZS",
        "colab_type": "code",
        "outputId": "32440fb0-b536-4ae3-a9a5-b5d3c8efcac8",
        "colab": {
          "base_uri": "https://localhost:8080/",
          "height": 54
        }
      },
      "source": [
        "d1 = 156/(267 - 9) # 0.6\n",
        "d2 = 120/(267 - 28) # 0.5\n",
        "d3 = 231/(267 - 7) # 0.88\n",
        "d4 = 14/(267 - 8) # 0.54\n",
        "d5 = 55/(267 - 12) # 0.21   &\n",
        "d6 = 123/(267 - 9) # 0.47\n",
        "d7 = 200/(267 - 8) # 0.77\n",
        "d8 = 218/(267 - 4) # 0.82\n",
        "d9 = 188/(267 - 19) # 0.75\n",
        "d10 = 124/(267 - 4) # 0.47   &\n",
        "d11 = 129/(267 - 12) # 0.5\n",
        "d12 = 36/(267 - 18) # 0.14\n",
        "d13 = 73/(267 - 15) # 0.28\n",
        "d14 = 90/(267 - 10) # 0.35\n",
        "d15 = 160/(267 - 16) # 0.63   &\n",
        "d16 = 173/(267 - 82) # 0.93\n",
        "print('d1:', d1, 'd2:', d2, 'd3:', d3, 'd4:', d4, 'd5:', d5, 'd6:', d6, 'd7:', d7, \n",
        "      'd8:', d8, 'd9:', d9, 'd10:', d10, 'd11:', d11, 'd12:', d12, 'd13:', d13, \n",
        "      'd14:', d14, 'd15:', d15, 'd16:', d16)"
      ],
      "execution_count": 0,
      "outputs": [
        {
          "output_type": "stream",
          "text": [
            "d1: 0.6046511627906976 d2: 0.502092050209205 d3: 0.8884615384615384 d4: 0.05405405405405406 d5: 0.21568627450980393 d6: 0.47674418604651164 d7: 0.7722007722007722 d8: 0.8288973384030418 d9: 0.7580645161290323 d10: 0.4714828897338403 d11: 0.5058823529411764 d12: 0.14457831325301204 d13: 0.2896825396825397 d14: 0.35019455252918286 d15: 0.6374501992031872 d16: 0.9351351351351351\n"
          ],
          "name": "stdout"
        }
      ]
    },
    {
      "cell_type": "code",
      "metadata": {
        "id": "iLuAcyhwvFcL",
        "colab_type": "code",
        "outputId": "39c1a92e-b8c8-4dd7-dbb6-318e671d3206",
        "colab": {
          "base_uri": "https://localhost:8080/",
          "height": 85
        }
      },
      "source": [
        "df_reps['export-administration-act-south-africa'].value_counts() \n",
        "# Y: (1)31, 134, 3; (2)75, 73, 20; (3)22, 142, 4; (4)163, 2, 3;\n",
        "# (5)157, 8, 3; (6)149, 17, 2; (7)39, 123, 6; (8)24, 133, 11; (9)19, 146, 3; (10)92, 73, 3; (11)21, 138, 9; (12)135, 20, 13;\n",
        "# (13)136, 22, 10; (14)158, 3, 7; (15)14, 142, 12; (16)96, 50, 22 "
      ],
      "execution_count": 0,
      "outputs": [
        {
          "output_type": "execute_result",
          "data": {
            "text/plain": [
              "y    96\n",
              "n    50\n",
              "_    22\n",
              "Name: export-administration-act-south-africa, dtype: int64"
            ]
          },
          "metadata": {
            "tags": []
          },
          "execution_count": 115
        }
      ]
    },
    {
      "cell_type": "code",
      "metadata": {
        "id": "T_TfWFEdyo3o",
        "colab_type": "code",
        "outputId": "7774394c-f344-4475-ece9-9e2915de94a0",
        "colab": {
          "base_uri": "https://localhost:8080/",
          "height": 54
        }
      },
      "source": [
        "r1 = 31/(168 - 3) # 0.18\n",
        "r2 = 75/(168 - 20) # 0.5\n",
        "r3 = 22/(168 - 4) # 0.13\n",
        "r4 = 163/(168 - 3)  # 0.98\n",
        "r5 = 157/(168 - 3) # 0.95   &\n",
        "r6 = 149/(168 - 2) # 0.89\n",
        "r7 = 39/(168 - 6) # 0.24\n",
        "r8 = 24/(168 - 11) # 0.15\n",
        "r9 = 19/(168 - 3) # 0.11\n",
        "r10 = 92/(168 - 3) # 0.55   &\n",
        "r11 = 21/(168 - 9) # 0.13\n",
        "r12 = 135/(168 - 13) # 0.87\n",
        "r13 = 136/(168 - 10) # 0.86\n",
        "r14 = 158/(168 - 7) # 0.98\n",
        "r15 = 14/(168 - 12) # 0.08   &\n",
        "r16 = 96/(168 - 22) # 0.65\n",
        "print('r1:', r1, 'r2:', r2, 'r3:', r3, 'r4:', r4, 'r5:', r5, 'r6:', r6, 'r7:', r7, \n",
        "      'r8:', r8, 'r9:', r9, 'r10:', r10, 'r11:', r11, 'r12:', r12, 'r13:', r13, \n",
        "      'r14:', r14, 'r15:', r15, 'r16:', r16)"
      ],
      "execution_count": 0,
      "outputs": [
        {
          "output_type": "stream",
          "text": [
            "r1: 0.18787878787878787 r2: 0.5067567567567568 r3: 0.13414634146341464 r4: 0.9878787878787879 r5: 0.9515151515151515 r6: 0.8975903614457831 r7: 0.24074074074074073 r8: 0.15286624203821655 r9: 0.11515151515151516 r10: 0.5575757575757576 r11: 0.1320754716981132 r12: 0.8709677419354839 r13: 0.8607594936708861 r14: 0.9813664596273292 r15: 0.08974358974358974 r16: 0.6575342465753424\n"
          ],
          "name": "stdout"
        }
      ]
    },
    {
      "cell_type": "code",
      "metadata": {
        "id": "EWBY7-qUFXHl",
        "colab_type": "code",
        "colab": {}
      },
      "source": [
        "df_dems = df_dems.replace('y', 1)\n",
        "df_dems = df_dems.replace('n', 0)\n",
        "df_dems = df_dems.replace('_', np.nan)\n",
        "\n",
        "df_reps = df_reps.replace('y', 1)\n",
        "df_reps = df_reps.replace('n', 0)\n",
        "df_reps = df_reps.replace('_', np.nan)"
      ],
      "execution_count": 0,
      "outputs": []
    },
    {
      "cell_type": "code",
      "metadata": {
        "id": "Zei-VlgfsyAf",
        "colab_type": "code",
        "outputId": "81ce980f-1713-47f1-811f-0c802daca567",
        "colab": {
          "base_uri": "https://localhost:8080/",
          "height": 34
        }
      },
      "source": [
        "df_dems['adoption-of-the-budget-resolution'].std(skipna=True,ddof=1)"
      ],
      "execution_count": 0,
      "outputs": [
        {
          "output_type": "execute_result",
          "data": {
            "text/plain": [
              "0.3154048976795528"
            ]
          },
          "metadata": {
            "tags": []
          },
          "execution_count": 127
        }
      ]
    },
    {
      "cell_type": "code",
      "metadata": {
        "id": "tP0YXjyGJQV1",
        "colab_type": "code",
        "outputId": "cd24ba28-a913-41f7-99d4-95f7e5804f72",
        "colab": {
          "base_uri": "https://localhost:8080/",
          "height": 34
        }
      },
      "source": [
        "df_dems['adoption-of-the-budget-resolution'].mean(skipna=True)"
      ],
      "execution_count": 0,
      "outputs": [
        {
          "output_type": "execute_result",
          "data": {
            "text/plain": [
              "0.8884615384615384"
            ]
          },
          "metadata": {
            "tags": []
          },
          "execution_count": 129
        }
      ]
    },
    {
      "cell_type": "code",
      "metadata": {
        "id": "peGQrJYBIRh-",
        "colab_type": "code",
        "outputId": "5f8ef592-91df-43f4-fa43-9541c7b39fa6",
        "colab": {
          "base_uri": "https://localhost:8080/",
          "height": 34
        }
      },
      "source": [
        "df_reps['adoption-of-the-budget-resolution'].std(skipna=True,ddof=1)"
      ],
      "execution_count": 0,
      "outputs": [
        {
          "output_type": "execute_result",
          "data": {
            "text/plain": [
              "0.34185330768366606"
            ]
          },
          "metadata": {
            "tags": []
          },
          "execution_count": 128
        }
      ]
    },
    {
      "cell_type": "code",
      "metadata": {
        "id": "eVuaBhjBJQyO",
        "colab_type": "code",
        "outputId": "298e99d2-217e-4f67-89fd-812c3d441665",
        "colab": {
          "base_uri": "https://localhost:8080/",
          "height": 34
        }
      },
      "source": [
        "df_reps['adoption-of-the-budget-resolution'].mean(skipna=True)"
      ],
      "execution_count": 0,
      "outputs": [
        {
          "output_type": "execute_result",
          "data": {
            "text/plain": [
              "0.13414634146341464"
            ]
          },
          "metadata": {
            "tags": []
          },
          "execution_count": 130
        }
      ]
    },
    {
      "cell_type": "code",
      "metadata": {
        "id": "KMAJ024jjvIW",
        "colab_type": "code",
        "colab": {}
      },
      "source": [
        "pvalue_list = []\n",
        "\n",
        "for _ in range(260):\n",
        "  mu1 = 0.8884615384615384\n",
        "  sigma1 = 0.3154048976795528\n",
        "  n1 = 260\n",
        "  sample1 = np.random.normal(mu1, sigma1, size=n1)\n",
        "  \n",
        "  mu2 = 0.13414634146341464\n",
        "  sigma2 = 0.34185330768366606\n",
        "  n2 = 164\n",
        "  sample2 = np.random.normal(mu2, sigma2, size=n2)\n",
        "  _, pvalue = ttest_ind(sample1, sample2)\n",
        "  pvalue_list.append(pvalue)"
      ],
      "execution_count": 0,
      "outputs": []
    },
    {
      "cell_type": "code",
      "metadata": {
        "id": "hYKx-aRiKRQz",
        "colab_type": "code",
        "outputId": "e1412e83-7ff2-4e4c-81ec-2ea62b9cbe5f",
        "colab": {
          "base_uri": "https://localhost:8080/",
          "height": 269
        }
      },
      "source": [
        "plt.scatter(list(range(260)), pvalue_list)\n",
        "plt.axhline(y=0.005, color='r');"
      ],
      "execution_count": 0,
      "outputs": [
        {
          "output_type": "display_data",
          "data": {
            "image/png": "[encoded data removed]",
            "text/plain": [
              "<Figure size 432x288 with 1 Axes>"
            ]
          },
          "metadata": {
            "tags": []
          }
        }
      ]
    },
    {
      "cell_type": "code",
      "metadata": {
        "id": "z-z52zTFJf-A",
        "colab_type": "code",
        "outputId": "07e269fa-89ac-495d-d267-b72355c6cee3",
        "colab": {
          "base_uri": "https://localhost:8080/",
          "height": 34
        }
      },
      "source": [
        "pvalue_arr = np.array(pvalue_list)\n",
        "np.sum(pvalue_arr < 0.01)"
      ],
      "execution_count": 0,
      "outputs": [
        {
          "output_type": "execute_result",
          "data": {
            "text/plain": [
              "260"
            ]
          },
          "metadata": {
            "tags": []
          },
          "execution_count": 165
        }
      ]
    },
    {
      "cell_type": "code",
      "metadata": {
        "id": "ZKJboyBXQ48h",
        "colab_type": "code",
        "outputId": "43020f0e-c1f2-4a8c-d9bd-0e484d78edab",
        "colab": {
          "base_uri": "https://localhost:8080/",
          "height": 34
        }
      },
      "source": [
        "df_dems['crime'].std(skipna=True,ddof=1)"
      ],
      "execution_count": 0,
      "outputs": [
        {
          "output_type": "execute_result",
          "data": {
            "text/plain": [
              "0.4779615336263577"
            ]
          },
          "metadata": {
            "tags": []
          },
          "execution_count": 166
        }
      ]
    },
    {
      "cell_type": "code",
      "metadata": {
        "id": "DgAZKgV7Q5Un",
        "colab_type": "code",
        "outputId": "3361ac49-708b-4393-8c6e-82fcb53d2c95",
        "colab": {
          "base_uri": "https://localhost:8080/",
          "height": 34
        }
      },
      "source": [
        "df_dems['crime'].mean(skipna=True)"
      ],
      "execution_count": 0,
      "outputs": [
        {
          "output_type": "execute_result",
          "data": {
            "text/plain": [
              "0.35019455252918286"
            ]
          },
          "metadata": {
            "tags": []
          },
          "execution_count": 167
        }
      ]
    },
    {
      "cell_type": "code",
      "metadata": {
        "id": "jXtvRET6Q7RB",
        "colab_type": "code",
        "outputId": "dfc6c5c1-10eb-4c38-e39b-47f667e7231b",
        "colab": {
          "base_uri": "https://localhost:8080/",
          "height": 34
        }
      },
      "source": [
        "df_reps['crime'].std(skipna=True,ddof=1)"
      ],
      "execution_count": 0,
      "outputs": [
        {
          "output_type": "execute_result",
          "data": {
            "text/plain": [
              "0.13564888911455342"
            ]
          },
          "metadata": {
            "tags": []
          },
          "execution_count": 168
        }
      ]
    },
    {
      "cell_type": "code",
      "metadata": {
        "id": "_vy4CLlDQ7Yf",
        "colab_type": "code",
        "outputId": "28a5ac18-1a76-4e57-fd9a-3728d866a903",
        "colab": {
          "base_uri": "https://localhost:8080/",
          "height": 34
        }
      },
      "source": [
        "df_reps['crime'].mean(skipna=True)"
      ],
      "execution_count": 0,
      "outputs": [
        {
          "output_type": "execute_result",
          "data": {
            "text/plain": [
              "0.9813664596273292"
            ]
          },
          "metadata": {
            "tags": []
          },
          "execution_count": 169
        }
      ]
    },
    {
      "cell_type": "code",
      "metadata": {
        "id": "cBBv2qIgKJtH",
        "colab_type": "code",
        "colab": {}
      },
      "source": [
        "pvalue_list = []\n",
        "\n",
        "for _ in range(257):\n",
        "  mu1 = 0.35019455252918286\n",
        "  sigma1 = 0.4779615336263577\n",
        "  n1 = 257\n",
        "  sample1 = np.random.normal(mu1, sigma1, size=n1)\n",
        "  \n",
        "  mu2 = 0.9813664596273292\n",
        "  sigma2 = 0.13564888911455342\n",
        "  n2 = 161\n",
        "  sample2 = np.random.normal(mu2, sigma2, size=n2)\n",
        "  _, pvalue = ttest_ind(sample1, sample2)\n",
        "  pvalue_list.append(pvalue)"
      ],
      "execution_count": 0,
      "outputs": []
    },
    {
      "cell_type": "code",
      "metadata": {
        "id": "01z-N7YhRkzg",
        "colab_type": "code",
        "outputId": "77fb9d46-fe18-40cf-9656-fe84d88ff11e",
        "colab": {
          "base_uri": "https://localhost:8080/",
          "height": 269
        }
      },
      "source": [
        "plt.scatter(list(range(257)), pvalue_list)\n",
        "plt.axhline(y=0.005, color='r');"
      ],
      "execution_count": 0,
      "outputs": [
        {
          "output_type": "display_data",
          "data": {
            "image/png": "[encoded data removed]",
            "text/plain": [
              "<Figure size 432x288 with 1 Axes>"
            ]
          },
          "metadata": {
            "tags": []
          }
        }
      ]
    },
    {
      "cell_type": "code",
      "metadata": {
        "id": "cH4XC2ugRoLE",
        "colab_type": "code",
        "outputId": "15b1c633-7b68-4d50-8e8d-e07c0311c7d0",
        "colab": {
          "base_uri": "https://localhost:8080/",
          "height": 34
        }
      },
      "source": [
        "pvalue_arr = np.array(pvalue_list)\n",
        "np.sum(pvalue_arr < 0.01)"
      ],
      "execution_count": 0,
      "outputs": [
        {
          "output_type": "execute_result",
          "data": {
            "text/plain": [
              "257"
            ]
          },
          "metadata": {
            "tags": []
          },
          "execution_count": 172
        }
      ]
    },
    {
      "cell_type": "code",
      "metadata": {
        "id": "tnkEeqWgRtR2",
        "colab_type": "code",
        "outputId": "e88e23d9-b509-453b-b9a7-b49302f8e411",
        "colab": {
          "base_uri": "https://localhost:8080/",
          "height": 34
        }
      },
      "source": [
        "df_dems['water-project-cost-sharing'].std(skipna=True,ddof=1)"
      ],
      "execution_count": 0,
      "outputs": [
        {
          "output_type": "execute_result",
          "data": {
            "text/plain": [
              "0.50104493321917"
            ]
          },
          "metadata": {
            "tags": []
          },
          "execution_count": 173
        }
      ]
    },
    {
      "cell_type": "code",
      "metadata": {
        "id": "6osgaYTFSeAG",
        "colab_type": "code",
        "outputId": "33a4834c-e9d5-4e7f-fb07-7890614ab57a",
        "colab": {
          "base_uri": "https://localhost:8080/",
          "height": 34
        }
      },
      "source": [
        "df_dems['water-project-cost-sharing'].mean(skipna=True)"
      ],
      "execution_count": 0,
      "outputs": [
        {
          "output_type": "execute_result",
          "data": {
            "text/plain": [
              "0.502092050209205"
            ]
          },
          "metadata": {
            "tags": []
          },
          "execution_count": 174
        }
      ]
    },
    {
      "cell_type": "code",
      "metadata": {
        "id": "OwQ1azwoSeCt",
        "colab_type": "code",
        "outputId": "ebd790c1-6765-477b-b709-d5df85baa0c0",
        "colab": {
          "base_uri": "https://localhost:8080/",
          "height": 34
        }
      },
      "source": [
        "df_reps['water-project-cost-sharing'].std(skipna=True,ddof=1)"
      ],
      "execution_count": 0,
      "outputs": [
        {
          "output_type": "execute_result",
          "data": {
            "text/plain": [
              "0.5016519868797793"
            ]
          },
          "metadata": {
            "tags": []
          },
          "execution_count": 175
        }
      ]
    },
    {
      "cell_type": "code",
      "metadata": {
        "id": "djrqs0H1SeFa",
        "colab_type": "code",
        "outputId": "147a026d-1816-41be-fd2e-1063e1cc5383",
        "colab": {
          "base_uri": "https://localhost:8080/",
          "height": 34
        }
      },
      "source": [
        "df_reps['water-project-cost-sharing'].mean(skipna=True)"
      ],
      "execution_count": 0,
      "outputs": [
        {
          "output_type": "execute_result",
          "data": {
            "text/plain": [
              "0.5067567567567568"
            ]
          },
          "metadata": {
            "tags": []
          },
          "execution_count": 176
        }
      ]
    },
    {
      "cell_type": "code",
      "metadata": {
        "id": "4aOlkLbqSuOM",
        "colab_type": "code",
        "colab": {}
      },
      "source": [
        "pvalue_list = []\n",
        "\n",
        "for _ in range(239):\n",
        "  mu1 = 0.502092050209205\n",
        "  sigma1 = 0.50104493321917\n",
        "  n1 = 239\n",
        "  sample1 = np.random.normal(mu1, sigma1, size=n1)\n",
        "  \n",
        "  mu2 = 0.5067567567567568\n",
        "  sigma2 = 0.5016519868797793\n",
        "  n2 = 148\n",
        "  sample2 = np.random.normal(mu2, sigma2, size=n2)\n",
        "  _, pvalue = ttest_ind(sample1, sample2)\n",
        "  pvalue_list.append(pvalue)"
      ],
      "execution_count": 0,
      "outputs": []
    },
    {
      "cell_type": "code",
      "metadata": {
        "id": "93ci8OmqTFgj",
        "colab_type": "code",
        "outputId": "1c218d5d-6eea-44ec-c59d-8369f8fc8646",
        "colab": {
          "base_uri": "https://localhost:8080/",
          "height": 269
        }
      },
      "source": [
        "plt.scatter(list(range(239)), pvalue_list)\n",
        "plt.axhline(y=0.1, color='r');"
      ],
      "execution_count": 0,
      "outputs": [
        {
          "output_type": "display_data",
          "data": {
            "image/png": "[encoded data removed]",
            "text/plain": [
              "<Figure size 432x288 with 1 Axes>"
            ]
          },
          "metadata": {
            "tags": []
          }
        }
      ]
    },
    {
      "cell_type": "code",
      "metadata": {
        "id": "EENa_S_OTJ0u",
        "colab_type": "code",
        "outputId": "20f39d36-e648-4337-9e3c-b1c8dd70e2a5",
        "colab": {
          "base_uri": "https://localhost:8080/",
          "height": 34
        }
      },
      "source": [
        "pvalue_arr = np.array(pvalue_list)\n",
        "np.sum(pvalue_arr > 0.1)"
      ],
      "execution_count": 0,
      "outputs": [
        {
          "output_type": "execute_result",
          "data": {
            "text/plain": [
              "206"
            ]
          },
          "metadata": {
            "tags": []
          },
          "execution_count": 179
        }
      ]
    },
    {
      "cell_type": "code",
      "metadata": {
        "id": "T3q3xBT1TQkp",
        "colab_type": "code",
        "colab": {}
      },
      "source": [
        ""
      ],
      "execution_count": 0,
      "outputs": []
    }
  ]
}