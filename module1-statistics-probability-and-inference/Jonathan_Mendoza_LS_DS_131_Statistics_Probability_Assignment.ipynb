{
  "nbformat": 4,
  "nbformat_minor": 0,
  "metadata": {
    "kernelspec": {
      "display_name": "Python 3",
      "language": "python",
      "name": "python3"
    },
    "language_info": {
      "codemirror_mode": {
        "name": "ipython",
        "version": 3
      },
      "file_extension": ".py",
      "mimetype": "text/x-python",
      "name": "python",
      "nbconvert_exporter": "python",
      "pygments_lexer": "ipython3",
      "version": "3.7.3"
    },
    "colab": {
      "name": "Jonathan Mendoza LS_DS_131_Statistics_Probability_Assignment.ipynb",
      "version": "0.3.2",
      "provenance": [],
      "collapsed_sections": [],
      "include_colab_link": true
    }
  },
  "cells": [
    {
      "cell_type": "markdown",
      "metadata": {
        "id": "view-in-github",
        "colab_type": "text"
      },
      "source": [
        "<a href=\"https://colab.research.google.com/github/jonathanmendoza-tx/DS-Unit-1-Sprint-3-Statistical-Tests-and-Experiments/blob/master/module1-statistics-probability-and-inference/Jonathan_Mendoza_LS_DS_131_Statistics_Probability_Assignment.ipynb\" target=\"_parent\"><img src=\"https://colab.research.google.com/assets/colab-badge.svg\" alt=\"Open In Colab\"/></a>"
      ]
    },
    {
      "cell_type": "markdown",
      "metadata": {
        "id": "ZxnFdbCxpaJN",
        "colab_type": "text"
      },
      "source": [
        "<img align=\"left\" src=\"https://lever-client-logos.s3.amazonaws.com/864372b1-534c-480e-acd5-9711f850815c-1524247202159.png\" width=200>\n",
        "<br></br>\n",
        "<br></br>\n",
        "\n",
        "## *Data Science Unit 1 Sprint 3 Assignment 1*\n",
        "\n",
        "# Apply the t-test to real data\n",
        "\n",
        "Your assignment is to determine which issues have \"statistically significant\" differences between political parties in this [1980s congressional voting data](https://archive.ics.uci.edu/ml/datasets/Congressional+Voting+Records). The data consists of 435 instances (one for each congressperson), a class (democrat or republican), and 16 binary attributes (yes or no for voting for or against certain issues). Be aware - there are missing values!\n",
        "\n",
        "Your goals:\n",
        "\n",
        "1. Load and clean the data (or determine the best method to drop observations when running tests)\n",
        "2. Using hypothesis testing, find an issue that democrats support more than republicans with p < 0.01\n",
        "3. Using hypothesis testing, find an issue that republicans support more than democrats with p < 0.01\n",
        "4. Using hypothesis testing, find an issue where the difference between republicans and democrats has p > 0.1 (i.e. there may not be much of a difference)\n",
        "\n",
        "Note that this data will involve *2 sample* t-tests, because you're comparing averages across two groups (republicans and democrats) rather than a single group against a null hypothesis.\n",
        "\n",
        "Stretch goals:\n",
        "\n",
        "1. Refactor your code into functions so it's easy to rerun with arbitrary variables\n",
        "2. Apply hypothesis testing to your personal project data (for the purposes of this notebook you can type a summary of the hypothesis you formed and tested)"
      ]
    },
    {
      "cell_type": "markdown",
      "metadata": {
        "id": "Yx9biYTqO5OG",
        "colab_type": "text"
      },
      "source": [
        "## Load and clean data"
      ]
    },
    {
      "cell_type": "code",
      "metadata": {
        "id": "u6sxQDG0paJW",
        "colab_type": "code",
        "outputId": "4f781800-0212-4c82-d1ac-bc4f1c21e0e4",
        "colab": {
          "base_uri": "https://localhost:8080/",
          "height": 245
        }
      },
      "source": [
        "import pandas as pd\n",
        "import matplotlib.pyplot as plt\n",
        "import seaborn as sns\n",
        "\n",
        "cols = ['class','handicapped_infants','water_proj_costshare','adopt_budget_res',\n",
        "        'physician_fee_frz','el_salvador_aid','religious_grps_in_schools',\n",
        "        'anti_sat_test_ban','nicaraguan_contras_aid','mx_missle','immigration',\n",
        "        'synfuels_corp_cutback','edu_spending','superfund_right_to_sue','crime',\n",
        "        'duty_free_export','south_africa_export_admin_act']\n",
        "df = pd.read_csv('https://archive.ics.uci.edu/ml/machine-learning-databases/voting-records/house-votes-84.data',header = None , na_values = '?', names = cols)\n",
        "df.fillna(value ='a', inplace = True)\n",
        "print(df.shape)\n",
        "df.head()"
      ],
      "execution_count": 1,
      "outputs": [
        {
          "output_type": "stream",
          "text": [
            "(435, 17)\n"
          ],
          "name": "stdout"
        },
        {
          "output_type": "execute_result",
          "data": {
            "text/html": [
              "<div>\n",
              "<style scoped>\n",
              "    .dataframe tbody tr th:only-of-type {\n",
              "        vertical-align: middle;\n",
              "    }\n",
              "\n",
              "    .dataframe tbody tr th {\n",
              "        vertical-align: top;\n",
              "    }\n",
              "\n",
              "    .dataframe thead th {\n",
              "        text-align: right;\n",
              "    }\n",
              "</style>\n",
              "<table border=\"1\" class=\"dataframe\">\n",
              "  <thead>\n",
              "    <tr style=\"text-align: right;\">\n",
              "      <th></th>\n",
              "      <th>class</th>\n",
              "      <th>handicapped_infants</th>\n",
              "      <th>water_proj_costshare</th>\n",
              "      <th>adopt_budget_res</th>\n",
              "      <th>physician_fee_frz</th>\n",
              "      <th>el_salvador_aid</th>\n",
              "      <th>religious_grps_in_schools</th>\n",
              "      <th>anti_sat_test_ban</th>\n",
              "      <th>nicaraguan_contras_aid</th>\n",
              "      <th>mx_missle</th>\n",
              "      <th>immigration</th>\n",
              "      <th>synfuels_corp_cutback</th>\n",
              "      <th>edu_spending</th>\n",
              "      <th>superfund_right_to_sue</th>\n",
              "      <th>crime</th>\n",
              "      <th>duty_free_export</th>\n",
              "      <th>south_africa_export_admin_act</th>\n",
              "    </tr>\n",
              "  </thead>\n",
              "  <tbody>\n",
              "    <tr>\n",
              "      <th>0</th>\n",
              "      <td>republican</td>\n",
              "      <td>n</td>\n",
              "      <td>y</td>\n",
              "      <td>n</td>\n",
              "      <td>y</td>\n",
              "      <td>y</td>\n",
              "      <td>y</td>\n",
              "      <td>n</td>\n",
              "      <td>n</td>\n",
              "      <td>n</td>\n",
              "      <td>y</td>\n",
              "      <td>a</td>\n",
              "      <td>y</td>\n",
              "      <td>y</td>\n",
              "      <td>y</td>\n",
              "      <td>n</td>\n",
              "      <td>y</td>\n",
              "    </tr>\n",
              "    <tr>\n",
              "      <th>1</th>\n",
              "      <td>republican</td>\n",
              "      <td>n</td>\n",
              "      <td>y</td>\n",
              "      <td>n</td>\n",
              "      <td>y</td>\n",
              "      <td>y</td>\n",
              "      <td>y</td>\n",
              "      <td>n</td>\n",
              "      <td>n</td>\n",
              "      <td>n</td>\n",
              "      <td>n</td>\n",
              "      <td>n</td>\n",
              "      <td>y</td>\n",
              "      <td>y</td>\n",
              "      <td>y</td>\n",
              "      <td>n</td>\n",
              "      <td>a</td>\n",
              "    </tr>\n",
              "    <tr>\n",
              "      <th>2</th>\n",
              "      <td>democrat</td>\n",
              "      <td>a</td>\n",
              "      <td>y</td>\n",
              "      <td>y</td>\n",
              "      <td>a</td>\n",
              "      <td>y</td>\n",
              "      <td>y</td>\n",
              "      <td>n</td>\n",
              "      <td>n</td>\n",
              "      <td>n</td>\n",
              "      <td>n</td>\n",
              "      <td>y</td>\n",
              "      <td>n</td>\n",
              "      <td>y</td>\n",
              "      <td>y</td>\n",
              "      <td>n</td>\n",
              "      <td>n</td>\n",
              "    </tr>\n",
              "    <tr>\n",
              "      <th>3</th>\n",
              "      <td>democrat</td>\n",
              "      <td>n</td>\n",
              "      <td>y</td>\n",
              "      <td>y</td>\n",
              "      <td>n</td>\n",
              "      <td>a</td>\n",
              "      <td>y</td>\n",
              "      <td>n</td>\n",
              "      <td>n</td>\n",
              "      <td>n</td>\n",
              "      <td>n</td>\n",
              "      <td>y</td>\n",
              "      <td>n</td>\n",
              "      <td>y</td>\n",
              "      <td>n</td>\n",
              "      <td>n</td>\n",
              "      <td>y</td>\n",
              "    </tr>\n",
              "    <tr>\n",
              "      <th>4</th>\n",
              "      <td>democrat</td>\n",
              "      <td>y</td>\n",
              "      <td>y</td>\n",
              "      <td>y</td>\n",
              "      <td>n</td>\n",
              "      <td>y</td>\n",
              "      <td>y</td>\n",
              "      <td>n</td>\n",
              "      <td>n</td>\n",
              "      <td>n</td>\n",
              "      <td>n</td>\n",
              "      <td>y</td>\n",
              "      <td>a</td>\n",
              "      <td>y</td>\n",
              "      <td>y</td>\n",
              "      <td>y</td>\n",
              "      <td>y</td>\n",
              "    </tr>\n",
              "  </tbody>\n",
              "</table>\n",
              "</div>"
            ],
            "text/plain": [
              "        class  ... south_africa_export_admin_act\n",
              "0  republican  ...                             y\n",
              "1  republican  ...                             a\n",
              "2    democrat  ...                             n\n",
              "3    democrat  ...                             y\n",
              "4    democrat  ...                             y\n",
              "\n",
              "[5 rows x 17 columns]"
            ]
          },
          "metadata": {
            "tags": []
          },
          "execution_count": 1
        }
      ]
    },
    {
      "cell_type": "code",
      "metadata": {
        "id": "Ux3DzAyXCvuA",
        "colab_type": "code",
        "outputId": "00f8cc77-5d51-4d29-f3c2-9914ea3f150e",
        "colab": {
          "base_uri": "https://localhost:8080/",
          "height": 226
        }
      },
      "source": [
        "df.replace(to_replace = {'y':1,'n':-1,'a':0}, inplace = True)\n",
        "df.head()"
      ],
      "execution_count": 2,
      "outputs": [
        {
          "output_type": "execute_result",
          "data": {
            "text/html": [
              "<div>\n",
              "<style scoped>\n",
              "    .dataframe tbody tr th:only-of-type {\n",
              "        vertical-align: middle;\n",
              "    }\n",
              "\n",
              "    .dataframe tbody tr th {\n",
              "        vertical-align: top;\n",
              "    }\n",
              "\n",
              "    .dataframe thead th {\n",
              "        text-align: right;\n",
              "    }\n",
              "</style>\n",
              "<table border=\"1\" class=\"dataframe\">\n",
              "  <thead>\n",
              "    <tr style=\"text-align: right;\">\n",
              "      <th></th>\n",
              "      <th>class</th>\n",
              "      <th>handicapped_infants</th>\n",
              "      <th>water_proj_costshare</th>\n",
              "      <th>adopt_budget_res</th>\n",
              "      <th>physician_fee_frz</th>\n",
              "      <th>el_salvador_aid</th>\n",
              "      <th>religious_grps_in_schools</th>\n",
              "      <th>anti_sat_test_ban</th>\n",
              "      <th>nicaraguan_contras_aid</th>\n",
              "      <th>mx_missle</th>\n",
              "      <th>immigration</th>\n",
              "      <th>synfuels_corp_cutback</th>\n",
              "      <th>edu_spending</th>\n",
              "      <th>superfund_right_to_sue</th>\n",
              "      <th>crime</th>\n",
              "      <th>duty_free_export</th>\n",
              "      <th>south_africa_export_admin_act</th>\n",
              "    </tr>\n",
              "  </thead>\n",
              "  <tbody>\n",
              "    <tr>\n",
              "      <th>0</th>\n",
              "      <td>republican</td>\n",
              "      <td>-1</td>\n",
              "      <td>1</td>\n",
              "      <td>-1</td>\n",
              "      <td>1</td>\n",
              "      <td>1</td>\n",
              "      <td>1</td>\n",
              "      <td>-1</td>\n",
              "      <td>-1</td>\n",
              "      <td>-1</td>\n",
              "      <td>1</td>\n",
              "      <td>0</td>\n",
              "      <td>1</td>\n",
              "      <td>1</td>\n",
              "      <td>1</td>\n",
              "      <td>-1</td>\n",
              "      <td>1</td>\n",
              "    </tr>\n",
              "    <tr>\n",
              "      <th>1</th>\n",
              "      <td>republican</td>\n",
              "      <td>-1</td>\n",
              "      <td>1</td>\n",
              "      <td>-1</td>\n",
              "      <td>1</td>\n",
              "      <td>1</td>\n",
              "      <td>1</td>\n",
              "      <td>-1</td>\n",
              "      <td>-1</td>\n",
              "      <td>-1</td>\n",
              "      <td>-1</td>\n",
              "      <td>-1</td>\n",
              "      <td>1</td>\n",
              "      <td>1</td>\n",
              "      <td>1</td>\n",
              "      <td>-1</td>\n",
              "      <td>0</td>\n",
              "    </tr>\n",
              "    <tr>\n",
              "      <th>2</th>\n",
              "      <td>democrat</td>\n",
              "      <td>0</td>\n",
              "      <td>1</td>\n",
              "      <td>1</td>\n",
              "      <td>0</td>\n",
              "      <td>1</td>\n",
              "      <td>1</td>\n",
              "      <td>-1</td>\n",
              "      <td>-1</td>\n",
              "      <td>-1</td>\n",
              "      <td>-1</td>\n",
              "      <td>1</td>\n",
              "      <td>-1</td>\n",
              "      <td>1</td>\n",
              "      <td>1</td>\n",
              "      <td>-1</td>\n",
              "      <td>-1</td>\n",
              "    </tr>\n",
              "    <tr>\n",
              "      <th>3</th>\n",
              "      <td>democrat</td>\n",
              "      <td>-1</td>\n",
              "      <td>1</td>\n",
              "      <td>1</td>\n",
              "      <td>-1</td>\n",
              "      <td>0</td>\n",
              "      <td>1</td>\n",
              "      <td>-1</td>\n",
              "      <td>-1</td>\n",
              "      <td>-1</td>\n",
              "      <td>-1</td>\n",
              "      <td>1</td>\n",
              "      <td>-1</td>\n",
              "      <td>1</td>\n",
              "      <td>-1</td>\n",
              "      <td>-1</td>\n",
              "      <td>1</td>\n",
              "    </tr>\n",
              "    <tr>\n",
              "      <th>4</th>\n",
              "      <td>democrat</td>\n",
              "      <td>1</td>\n",
              "      <td>1</td>\n",
              "      <td>1</td>\n",
              "      <td>-1</td>\n",
              "      <td>1</td>\n",
              "      <td>1</td>\n",
              "      <td>-1</td>\n",
              "      <td>-1</td>\n",
              "      <td>-1</td>\n",
              "      <td>-1</td>\n",
              "      <td>1</td>\n",
              "      <td>0</td>\n",
              "      <td>1</td>\n",
              "      <td>1</td>\n",
              "      <td>1</td>\n",
              "      <td>1</td>\n",
              "    </tr>\n",
              "  </tbody>\n",
              "</table>\n",
              "</div>"
            ],
            "text/plain": [
              "        class  ...  south_africa_export_admin_act\n",
              "0  republican  ...                              1\n",
              "1  republican  ...                              0\n",
              "2    democrat  ...                             -1\n",
              "3    democrat  ...                              1\n",
              "4    democrat  ...                              1\n",
              "\n",
              "[5 rows x 17 columns]"
            ]
          },
          "metadata": {
            "tags": []
          },
          "execution_count": 2
        }
      ]
    },
    {
      "cell_type": "markdown",
      "metadata": {
        "id": "eOg8vsrNN_v8",
        "colab_type": "text"
      },
      "source": [
        "## Explore"
      ]
    },
    {
      "cell_type": "code",
      "metadata": {
        "id": "nhPhJiiCMlH5",
        "colab_type": "code",
        "outputId": "1476c8a7-7b93-4bff-edcc-e5ec26a67db2",
        "colab": {
          "base_uri": "https://localhost:8080/",
          "height": 421
        }
      },
      "source": [
        "df.info()"
      ],
      "execution_count": 0,
      "outputs": [
        {
          "output_type": "stream",
          "text": [
            "<class 'pandas.core.frame.DataFrame'>\n",
            "RangeIndex: 435 entries, 0 to 434\n",
            "Data columns (total 17 columns):\n",
            "class                            435 non-null object\n",
            "handicapped_infants              435 non-null object\n",
            "water_proj_costshare             435 non-null object\n",
            "adopt_budget_res                 435 non-null object\n",
            "physician_fee_frz                435 non-null object\n",
            "el_salvador_aid                  435 non-null object\n",
            "religious_grps_in_schools        435 non-null object\n",
            "anti_sat_test_ban                435 non-null object\n",
            "nicaraguan_contras_aid           435 non-null object\n",
            "mx_missle                        435 non-null object\n",
            "immigration                      435 non-null object\n",
            "synfuels_corp_cutback            435 non-null object\n",
            "edu_spending                     435 non-null object\n",
            "superfund_right_to_sue           435 non-null object\n",
            "crime                            435 non-null object\n",
            "duty_free_export                 435 non-null object\n",
            "south_africa_export_admin_act    435 non-null object\n",
            "dtypes: object(17)\n",
            "memory usage: 57.9+ KB\n"
          ],
          "name": "stdout"
        }
      ]
    },
    {
      "cell_type": "code",
      "metadata": {
        "id": "UZsWAItztIuh",
        "colab_type": "code",
        "outputId": "10096c85-8c7c-4361-b2ea-264f6e5583f9",
        "colab": {
          "base_uri": "https://localhost:8080/",
          "height": 72
        }
      },
      "source": [
        "df['class'].value_counts()"
      ],
      "execution_count": 0,
      "outputs": [
        {
          "output_type": "execute_result",
          "data": {
            "text/plain": [
              "democrat      267\n",
              "republican    168\n",
              "Name: class, dtype: int64"
            ]
          },
          "metadata": {
            "tags": []
          },
          "execution_count": 15
        }
      ]
    },
    {
      "cell_type": "code",
      "metadata": {
        "id": "WH68bFBANYIl",
        "colab_type": "code",
        "outputId": "2ed610ef-3d62-4479-e1a6-d9f70dac3498",
        "colab": {
          "base_uri": "https://localhost:8080/",
          "height": 551
        }
      },
      "source": [
        "votes = df.groupby('class').sum().T.sort_values(by = 'democrat', ascending = False)\n",
        "votes"
      ],
      "execution_count": 0,
      "outputs": [
        {
          "output_type": "execute_result",
          "data": {
            "text/html": [
              "<div>\n",
              "<style scoped>\n",
              "    .dataframe tbody tr th:only-of-type {\n",
              "        vertical-align: middle;\n",
              "    }\n",
              "\n",
              "    .dataframe tbody tr th {\n",
              "        vertical-align: top;\n",
              "    }\n",
              "\n",
              "    .dataframe thead th {\n",
              "        text-align: right;\n",
              "    }\n",
              "</style>\n",
              "<table border=\"1\" class=\"dataframe\">\n",
              "  <thead>\n",
              "    <tr style=\"text-align: right;\">\n",
              "      <th>class</th>\n",
              "      <th>democrat</th>\n",
              "      <th>republican</th>\n",
              "    </tr>\n",
              "  </thead>\n",
              "  <tbody>\n",
              "    <tr>\n",
              "      <th>adopt_budget_res</th>\n",
              "      <td>202</td>\n",
              "      <td>-120</td>\n",
              "    </tr>\n",
              "    <tr>\n",
              "      <th>nicaraguan_contras_aid</th>\n",
              "      <td>173</td>\n",
              "      <td>-109</td>\n",
              "    </tr>\n",
              "    <tr>\n",
              "      <th>south_africa_export_admin_act</th>\n",
              "      <td>161</td>\n",
              "      <td>46</td>\n",
              "    </tr>\n",
              "    <tr>\n",
              "      <th>anti_sat_test_ban</th>\n",
              "      <td>141</td>\n",
              "      <td>-84</td>\n",
              "    </tr>\n",
              "    <tr>\n",
              "      <th>mx_missle</th>\n",
              "      <td>128</td>\n",
              "      <td>-127</td>\n",
              "    </tr>\n",
              "    <tr>\n",
              "      <th>duty_free_export</th>\n",
              "      <td>69</td>\n",
              "      <td>-128</td>\n",
              "    </tr>\n",
              "    <tr>\n",
              "      <th>handicapped_infants</th>\n",
              "      <td>54</td>\n",
              "      <td>-103</td>\n",
              "    </tr>\n",
              "    <tr>\n",
              "      <th>synfuels_corp_cutback</th>\n",
              "      <td>3</td>\n",
              "      <td>-117</td>\n",
              "    </tr>\n",
              "    <tr>\n",
              "      <th>water_proj_costshare</th>\n",
              "      <td>1</td>\n",
              "      <td>2</td>\n",
              "    </tr>\n",
              "    <tr>\n",
              "      <th>religious_grps_in_schools</th>\n",
              "      <td>-12</td>\n",
              "      <td>132</td>\n",
              "    </tr>\n",
              "    <tr>\n",
              "      <th>immigration</th>\n",
              "      <td>-15</td>\n",
              "      <td>19</td>\n",
              "    </tr>\n",
              "    <tr>\n",
              "      <th>crime</th>\n",
              "      <td>-77</td>\n",
              "      <td>155</td>\n",
              "    </tr>\n",
              "    <tr>\n",
              "      <th>superfund_right_to_sue</th>\n",
              "      <td>-106</td>\n",
              "      <td>114</td>\n",
              "    </tr>\n",
              "    <tr>\n",
              "      <th>el_salvador_aid</th>\n",
              "      <td>-145</td>\n",
              "      <td>149</td>\n",
              "    </tr>\n",
              "    <tr>\n",
              "      <th>edu_spending</th>\n",
              "      <td>-177</td>\n",
              "      <td>115</td>\n",
              "    </tr>\n",
              "    <tr>\n",
              "      <th>physician_fee_frz</th>\n",
              "      <td>-231</td>\n",
              "      <td>161</td>\n",
              "    </tr>\n",
              "  </tbody>\n",
              "</table>\n",
              "</div>"
            ],
            "text/plain": [
              "class                          democrat  republican\n",
              "adopt_budget_res                    202        -120\n",
              "nicaraguan_contras_aid              173        -109\n",
              "south_africa_export_admin_act       161          46\n",
              "anti_sat_test_ban                   141         -84\n",
              "mx_missle                           128        -127\n",
              "duty_free_export                     69        -128\n",
              "handicapped_infants                  54        -103\n",
              "synfuels_corp_cutback                 3        -117\n",
              "water_proj_costshare                  1           2\n",
              "religious_grps_in_schools           -12         132\n",
              "immigration                         -15          19\n",
              "crime                               -77         155\n",
              "superfund_right_to_sue             -106         114\n",
              "el_salvador_aid                    -145         149\n",
              "edu_spending                       -177         115\n",
              "physician_fee_frz                  -231         161"
            ]
          },
          "metadata": {
            "tags": []
          },
          "execution_count": 183
        }
      ]
    },
    {
      "cell_type": "code",
      "metadata": {
        "id": "ui2fZQmvtdGi",
        "colab_type": "code",
        "outputId": "747488b8-3bcd-4014-f6f7-01a922735a52",
        "colab": {
          "base_uri": "https://localhost:8080/",
          "height": 551
        }
      },
      "source": [
        "votes['democrat'] = (votes['democrat']/267)*100\n",
        "votes['republican'] = (votes['republican']/168)*100\n",
        "votes"
      ],
      "execution_count": 0,
      "outputs": [
        {
          "output_type": "execute_result",
          "data": {
            "text/html": [
              "<div>\n",
              "<style scoped>\n",
              "    .dataframe tbody tr th:only-of-type {\n",
              "        vertical-align: middle;\n",
              "    }\n",
              "\n",
              "    .dataframe tbody tr th {\n",
              "        vertical-align: top;\n",
              "    }\n",
              "\n",
              "    .dataframe thead th {\n",
              "        text-align: right;\n",
              "    }\n",
              "</style>\n",
              "<table border=\"1\" class=\"dataframe\">\n",
              "  <thead>\n",
              "    <tr style=\"text-align: right;\">\n",
              "      <th>class</th>\n",
              "      <th>democrat</th>\n",
              "      <th>republican</th>\n",
              "    </tr>\n",
              "  </thead>\n",
              "  <tbody>\n",
              "    <tr>\n",
              "      <th>adopt_budget_res</th>\n",
              "      <td>75.655431</td>\n",
              "      <td>-71.428571</td>\n",
              "    </tr>\n",
              "    <tr>\n",
              "      <th>nicaraguan_contras_aid</th>\n",
              "      <td>64.794007</td>\n",
              "      <td>-64.880952</td>\n",
              "    </tr>\n",
              "    <tr>\n",
              "      <th>south_africa_export_admin_act</th>\n",
              "      <td>60.299625</td>\n",
              "      <td>27.380952</td>\n",
              "    </tr>\n",
              "    <tr>\n",
              "      <th>anti_sat_test_ban</th>\n",
              "      <td>52.808989</td>\n",
              "      <td>-50.000000</td>\n",
              "    </tr>\n",
              "    <tr>\n",
              "      <th>mx_missle</th>\n",
              "      <td>47.940075</td>\n",
              "      <td>-75.595238</td>\n",
              "    </tr>\n",
              "    <tr>\n",
              "      <th>duty_free_export</th>\n",
              "      <td>25.842697</td>\n",
              "      <td>-76.190476</td>\n",
              "    </tr>\n",
              "    <tr>\n",
              "      <th>handicapped_infants</th>\n",
              "      <td>20.224719</td>\n",
              "      <td>-61.309524</td>\n",
              "    </tr>\n",
              "    <tr>\n",
              "      <th>synfuels_corp_cutback</th>\n",
              "      <td>1.123596</td>\n",
              "      <td>-69.642857</td>\n",
              "    </tr>\n",
              "    <tr>\n",
              "      <th>water_proj_costshare</th>\n",
              "      <td>0.374532</td>\n",
              "      <td>1.190476</td>\n",
              "    </tr>\n",
              "    <tr>\n",
              "      <th>religious_grps_in_schools</th>\n",
              "      <td>-4.494382</td>\n",
              "      <td>78.571429</td>\n",
              "    </tr>\n",
              "    <tr>\n",
              "      <th>immigration</th>\n",
              "      <td>-5.617978</td>\n",
              "      <td>11.309524</td>\n",
              "    </tr>\n",
              "    <tr>\n",
              "      <th>crime</th>\n",
              "      <td>-28.838951</td>\n",
              "      <td>92.261905</td>\n",
              "    </tr>\n",
              "    <tr>\n",
              "      <th>superfund_right_to_sue</th>\n",
              "      <td>-39.700375</td>\n",
              "      <td>67.857143</td>\n",
              "    </tr>\n",
              "    <tr>\n",
              "      <th>el_salvador_aid</th>\n",
              "      <td>-54.307116</td>\n",
              "      <td>88.690476</td>\n",
              "    </tr>\n",
              "    <tr>\n",
              "      <th>edu_spending</th>\n",
              "      <td>-66.292135</td>\n",
              "      <td>68.452381</td>\n",
              "    </tr>\n",
              "    <tr>\n",
              "      <th>physician_fee_frz</th>\n",
              "      <td>-86.516854</td>\n",
              "      <td>95.833333</td>\n",
              "    </tr>\n",
              "  </tbody>\n",
              "</table>\n",
              "</div>"
            ],
            "text/plain": [
              "class                           democrat  republican\n",
              "adopt_budget_res               75.655431  -71.428571\n",
              "nicaraguan_contras_aid         64.794007  -64.880952\n",
              "south_africa_export_admin_act  60.299625   27.380952\n",
              "anti_sat_test_ban              52.808989  -50.000000\n",
              "mx_missle                      47.940075  -75.595238\n",
              "duty_free_export               25.842697  -76.190476\n",
              "handicapped_infants            20.224719  -61.309524\n",
              "synfuels_corp_cutback           1.123596  -69.642857\n",
              "water_proj_costshare            0.374532    1.190476\n",
              "religious_grps_in_schools      -4.494382   78.571429\n",
              "immigration                    -5.617978   11.309524\n",
              "crime                         -28.838951   92.261905\n",
              "superfund_right_to_sue        -39.700375   67.857143\n",
              "el_salvador_aid               -54.307116   88.690476\n",
              "edu_spending                  -66.292135   68.452381\n",
              "physician_fee_frz             -86.516854   95.833333"
            ]
          },
          "metadata": {
            "tags": []
          },
          "execution_count": 184
        }
      ]
    },
    {
      "cell_type": "code",
      "metadata": {
        "id": "syd-tFnMo1iB",
        "colab_type": "code",
        "outputId": "40c28ab7-f283-4be2-c5de-c6ddedb0fbd7",
        "colab": {
          "base_uri": "https://localhost:8080/",
          "height": 758
        }
      },
      "source": [
        "votes.plot.bar(figsize = (17,10), stacked = True)"
      ],
      "execution_count": 0,
      "outputs": [
        {
          "output_type": "execute_result",
          "data": {
            "text/plain": [
              "<matplotlib.axes._subplots.AxesSubplot at 0x7f6d8f188080>"
            ]
          },
          "metadata": {
            "tags": []
          },
          "execution_count": 180
        },
        {
          "output_type": "display_data",
          "data": {
            "image/png": "[encoded data removed]",
            "text/plain": [
              "<Figure size 1224x720 with 1 Axes>"
            ]
          },
          "metadata": {
            "tags": []
          }
        }
      ]
    },
    {
      "cell_type": "markdown",
      "metadata": {
        "id": "c-cKQPyiNF53",
        "colab_type": "text"
      },
      "source": [
        "## Issue democrats support more than republicans"
      ]
    },
    {
      "cell_type": "code",
      "metadata": {
        "id": "vW6SKBCiLVhz",
        "colab_type": "code",
        "outputId": "e6e943ad-7c74-4660-b12e-416c9e6d47b9",
        "colab": {
          "base_uri": "https://localhost:8080/",
          "height": 528
        }
      },
      "source": [
        "#replace variable names for graphing\n",
        "df.replace(to_replace = {1:'Yes',-1:'No',0:'Abstain'}, inplace = True)\n",
        "\n",
        "adopt = pd.crosstab(df['class'],df['adopt_budget_res'])\n",
        "adopt.plot(kind = 'bar', figsize = (12,7))\n",
        "plt.title('adopt budget resolution', fontsize = 25)\n",
        "plt.legend()"
      ],
      "execution_count": 21,
      "outputs": [
        {
          "output_type": "execute_result",
          "data": {
            "text/plain": [
              "<matplotlib.legend.Legend at 0x7fd4de7bea58>"
            ]
          },
          "metadata": {
            "tags": []
          },
          "execution_count": 21
        },
        {
          "output_type": "display_data",
          "data": {
            "image/png": "[encoded data removed]",
            "text/plain": [
              "<Figure size 864x504 with 1 Axes>"
            ]
          },
          "metadata": {
            "tags": []
          }
        }
      ]
    },
    {
      "cell_type": "markdown",
      "metadata": {
        "id": "fj9hzo5gQHNp",
        "colab_type": "text"
      },
      "source": [
        "### Test hypothesis"
      ]
    },
    {
      "cell_type": "code",
      "metadata": {
        "id": "BdJ9JD3BQKAa",
        "colab_type": "code",
        "colab": {
          "base_uri": "https://localhost:8080/",
          "height": 54
        },
        "outputId": "c16c1f2f-2d85-48af-9c4a-baa399bdc857"
      },
      "source": [
        "from scipy.stats import ttest_ind, ttest_ind_from_stats, ttest_rel\n",
        "\n",
        "tstat, pvalue = ttest_ind(df[df['adopt_budget_res']=='yes'], df[df['adopt_budget_res']=='no'])\n",
        "print(tstat)\n",
        "print(pvalue)"
      ],
      "execution_count": 25,
      "outputs": [
        {
          "output_type": "stream",
          "text": [
            "nan\n",
            "nan\n"
          ],
          "name": "stdout"
        }
      ]
    },
    {
      "cell_type": "markdown",
      "metadata": {
        "id": "4gsHiuTqPqeg",
        "colab_type": "text"
      },
      "source": [
        "## Issue republicans support more than democrats"
      ]
    },
    {
      "cell_type": "code",
      "metadata": {
        "id": "LTZbzgXuLxF2",
        "colab_type": "code",
        "outputId": "3610b9a7-391b-4afe-c32b-f7c39f80e18b",
        "colab": {
          "base_uri": "https://localhost:8080/",
          "height": 528
        }
      },
      "source": [
        "phys = pd.crosstab(df['class'],df['physician_fee_frz'])\n",
        "phys.plot(kind = 'bar', figsize = (12,7))\n",
        "plt.title('physician fee freeze', fontsize = 25)\n",
        "plt.legend()"
      ],
      "execution_count": 12,
      "outputs": [
        {
          "output_type": "execute_result",
          "data": {
            "text/plain": [
              "<matplotlib.legend.Legend at 0x7fd4de8b12e8>"
            ]
          },
          "metadata": {
            "tags": []
          },
          "execution_count": 12
        },
        {
          "output_type": "display_data",
          "data": {
            "image/png": "[encoded data removed]",
            "text/plain": [
              "<Figure size 864x504 with 1 Axes>"
            ]
          },
          "metadata": {
            "tags": []
          }
        }
      ]
    },
    {
      "cell_type": "markdown",
      "metadata": {
        "id": "8_1uZmPVP12k",
        "colab_type": "text"
      },
      "source": [
        "##Issue both sides are conflicted on"
      ]
    },
    {
      "cell_type": "code",
      "metadata": {
        "id": "uwXGhd8G5QYy",
        "colab_type": "code",
        "outputId": "d7beab44-ffba-44b0-a97c-5aea5ea6de4c",
        "colab": {
          "base_uri": "https://localhost:8080/",
          "height": 528
        }
      },
      "source": [
        "water = pd.crosstab(df['class'],df['water_proj_costshare'])\n",
        "water.plot(kind = 'bar', figsize = (12,7))\n",
        "plt.title('water project cost-share', fontsize = 25)\n",
        "plt.legend()"
      ],
      "execution_count": 13,
      "outputs": [
        {
          "output_type": "execute_result",
          "data": {
            "text/plain": [
              "<matplotlib.legend.Legend at 0x7fd4de834278>"
            ]
          },
          "metadata": {
            "tags": []
          },
          "execution_count": 13
        },
        {
          "output_type": "display_data",
          "data": {
            "image/png": "[encoded data removed]",
            "text/plain": [
              "<Figure size 864x504 with 1 Axes>"
            ]
          },
          "metadata": {
            "tags": []
          }
        }
      ]
    }
  ]
}