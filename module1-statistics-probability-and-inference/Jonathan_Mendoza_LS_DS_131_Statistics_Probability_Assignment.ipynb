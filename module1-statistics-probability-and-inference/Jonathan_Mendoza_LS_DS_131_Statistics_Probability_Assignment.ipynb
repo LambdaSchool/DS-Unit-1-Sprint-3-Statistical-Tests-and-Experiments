{
  "nbformat": 4,
  "nbformat_minor": 0,
  "metadata": {
    "kernelspec": {
      "display_name": "Python 3",
      "language": "python",
      "name": "python3"
    },
    "language_info": {
      "codemirror_mode": {
        "name": "ipython",
        "version": 3
      },
      "file_extension": ".py",
      "mimetype": "text/x-python",
      "name": "python",
      "nbconvert_exporter": "python",
      "pygments_lexer": "ipython3",
      "version": "3.7.3"
    },
    "colab": {
      "name": "Jonathan Mendoza LS_DS_131_Statistics_Probability_Assignment.ipynb",
      "version": "0.3.2",
      "provenance": [],
      "collapsed_sections": [],
      "include_colab_link": true
    }
  },
  "cells": [
    {
      "cell_type": "markdown",
      "metadata": {
        "id": "view-in-github",
        "colab_type": "text"
      },
      "source": [
        "<a href=\"https://colab.research.google.com/github/jonathanmendoza-tx/DS-Unit-1-Sprint-3-Statistical-Tests-and-Experiments/blob/master/module1-statistics-probability-and-inference/Jonathan_Mendoza_LS_DS_131_Statistics_Probability_Assignment.ipynb\" target=\"_parent\"><img src=\"https://colab.research.google.com/assets/colab-badge.svg\" alt=\"Open In Colab\"/></a>"
      ]
    },
    {
      "cell_type": "markdown",
      "metadata": {
        "id": "ZxnFdbCxpaJN",
        "colab_type": "text"
      },
      "source": [
        "<img align=\"left\" src=\"https://lever-client-logos.s3.amazonaws.com/864372b1-534c-480e-acd5-9711f850815c-1524247202159.png\" width=200>\n",
        "<br></br>\n",
        "<br></br>\n",
        "\n",
        "## *Data Science Unit 1 Sprint 3 Assignment 1*\n",
        "\n",
        "# Apply the t-test to real data\n",
        "\n",
        "Your assignment is to determine which issues have \"statistically significant\" differences between political parties in this [1980s congressional voting data](https://archive.ics.uci.edu/ml/datasets/Congressional+Voting+Records). The data consists of 435 instances (one for each congressperson), a class (democrat or republican), and 16 binary attributes (yes or no for voting for or against certain issues). Be aware - there are missing values!\n",
        "\n",
        "Your goals:\n",
        "\n",
        "1. Load and clean the data (or determine the best method to drop observations when running tests)\n",
        "2. Using hypothesis testing, find an issue that democrats support more than republicans with p < 0.01\n",
        "3. Using hypothesis testing, find an issue that republicans support more than democrats with p < 0.01\n",
        "4. Using hypothesis testing, find an issue where the difference between republicans and democrats has p > 0.1 (i.e. there may not be much of a difference)\n",
        "\n",
        "Note that this data will involve *2 sample* t-tests, because you're comparing averages across two groups (republicans and democrats) rather than a single group against a null hypothesis.\n",
        "\n",
        "Stretch goals:\n",
        "\n",
        "1. Refactor your code into functions so it's easy to rerun with arbitrary variables\n",
        "2. Apply hypothesis testing to your personal project data (for the purposes of this notebook you can type a summary of the hypothesis you formed and tested)"
      ]
    },
    {
      "cell_type": "markdown",
      "metadata": {
        "id": "Yx9biYTqO5OG",
        "colab_type": "text"
      },
      "source": [
        "## Load and clean data"
      ]
    },
    {
      "cell_type": "code",
      "metadata": {
        "id": "u6sxQDG0paJW",
        "colab_type": "code",
        "outputId": "c2d7763e-cec3-42eb-8960-0eda8585ffe1",
        "colab": {
          "base_uri": "https://localhost:8080/",
          "height": 245
        }
      },
      "source": [
        "import pandas as pd\n",
        "import matplotlib.pyplot as plt\n",
        "import seaborn as sns\n",
        "\n",
        "cols = ['class','handicapped_infants','water_proj_costshare','adopt_budget_res',\n",
        "        'physician_fee_frz','el_salvador_aid','religious_grps_in_schools',\n",
        "        'anti_sat_test_ban','nicaraguan_contras_aid','mx_missle','immigration',\n",
        "        'synfuels_corp_cutback','edu_spending','superfund_right_to_sue','crime',\n",
        "        'duty_free_export','south_africa_export_admin_act']\n",
        "df = pd.read_csv('https://archive.ics.uci.edu/ml/machine-learning-databases/voting-records/house-votes-84.data',header = None , na_values = '?', names = cols)\n",
        "df.fillna(value ='a', inplace = True)\n",
        "print(df.shape)\n",
        "df.head()"
      ],
      "execution_count": 17,
      "outputs": [
        {
          "output_type": "stream",
          "text": [
            "(435, 17)\n"
          ],
          "name": "stdout"
        },
        {
          "output_type": "execute_result",
          "data": {
            "text/html": [
              "<div>\n",
              "<style scoped>\n",
              "    .dataframe tbody tr th:only-of-type {\n",
              "        vertical-align: middle;\n",
              "    }\n",
              "\n",
              "    .dataframe tbody tr th {\n",
              "        vertical-align: top;\n",
              "    }\n",
              "\n",
              "    .dataframe thead th {\n",
              "        text-align: right;\n",
              "    }\n",
              "</style>\n",
              "<table border=\"1\" class=\"dataframe\">\n",
              "  <thead>\n",
              "    <tr style=\"text-align: right;\">\n",
              "      <th></th>\n",
              "      <th>class</th>\n",
              "      <th>handicapped_infants</th>\n",
              "      <th>water_proj_costshare</th>\n",
              "      <th>adopt_budget_res</th>\n",
              "      <th>physician_fee_frz</th>\n",
              "      <th>el_salvador_aid</th>\n",
              "      <th>religious_grps_in_schools</th>\n",
              "      <th>anti_sat_test_ban</th>\n",
              "      <th>nicaraguan_contras_aid</th>\n",
              "      <th>mx_missle</th>\n",
              "      <th>immigration</th>\n",
              "      <th>synfuels_corp_cutback</th>\n",
              "      <th>edu_spending</th>\n",
              "      <th>superfund_right_to_sue</th>\n",
              "      <th>crime</th>\n",
              "      <th>duty_free_export</th>\n",
              "      <th>south_africa_export_admin_act</th>\n",
              "    </tr>\n",
              "  </thead>\n",
              "  <tbody>\n",
              "    <tr>\n",
              "      <th>0</th>\n",
              "      <td>republican</td>\n",
              "      <td>n</td>\n",
              "      <td>y</td>\n",
              "      <td>n</td>\n",
              "      <td>y</td>\n",
              "      <td>y</td>\n",
              "      <td>y</td>\n",
              "      <td>n</td>\n",
              "      <td>n</td>\n",
              "      <td>n</td>\n",
              "      <td>y</td>\n",
              "      <td>a</td>\n",
              "      <td>y</td>\n",
              "      <td>y</td>\n",
              "      <td>y</td>\n",
              "      <td>n</td>\n",
              "      <td>y</td>\n",
              "    </tr>\n",
              "    <tr>\n",
              "      <th>1</th>\n",
              "      <td>republican</td>\n",
              "      <td>n</td>\n",
              "      <td>y</td>\n",
              "      <td>n</td>\n",
              "      <td>y</td>\n",
              "      <td>y</td>\n",
              "      <td>y</td>\n",
              "      <td>n</td>\n",
              "      <td>n</td>\n",
              "      <td>n</td>\n",
              "      <td>n</td>\n",
              "      <td>n</td>\n",
              "      <td>y</td>\n",
              "      <td>y</td>\n",
              "      <td>y</td>\n",
              "      <td>n</td>\n",
              "      <td>a</td>\n",
              "    </tr>\n",
              "    <tr>\n",
              "      <th>2</th>\n",
              "      <td>democrat</td>\n",
              "      <td>a</td>\n",
              "      <td>y</td>\n",
              "      <td>y</td>\n",
              "      <td>a</td>\n",
              "      <td>y</td>\n",
              "      <td>y</td>\n",
              "      <td>n</td>\n",
              "      <td>n</td>\n",
              "      <td>n</td>\n",
              "      <td>n</td>\n",
              "      <td>y</td>\n",
              "      <td>n</td>\n",
              "      <td>y</td>\n",
              "      <td>y</td>\n",
              "      <td>n</td>\n",
              "      <td>n</td>\n",
              "    </tr>\n",
              "    <tr>\n",
              "      <th>3</th>\n",
              "      <td>democrat</td>\n",
              "      <td>n</td>\n",
              "      <td>y</td>\n",
              "      <td>y</td>\n",
              "      <td>n</td>\n",
              "      <td>a</td>\n",
              "      <td>y</td>\n",
              "      <td>n</td>\n",
              "      <td>n</td>\n",
              "      <td>n</td>\n",
              "      <td>n</td>\n",
              "      <td>y</td>\n",
              "      <td>n</td>\n",
              "      <td>y</td>\n",
              "      <td>n</td>\n",
              "      <td>n</td>\n",
              "      <td>y</td>\n",
              "    </tr>\n",
              "    <tr>\n",
              "      <th>4</th>\n",
              "      <td>democrat</td>\n",
              "      <td>y</td>\n",
              "      <td>y</td>\n",
              "      <td>y</td>\n",
              "      <td>n</td>\n",
              "      <td>y</td>\n",
              "      <td>y</td>\n",
              "      <td>n</td>\n",
              "      <td>n</td>\n",
              "      <td>n</td>\n",
              "      <td>n</td>\n",
              "      <td>y</td>\n",
              "      <td>a</td>\n",
              "      <td>y</td>\n",
              "      <td>y</td>\n",
              "      <td>y</td>\n",
              "      <td>y</td>\n",
              "    </tr>\n",
              "  </tbody>\n",
              "</table>\n",
              "</div>"
            ],
            "text/plain": [
              "        class  ... south_africa_export_admin_act\n",
              "0  republican  ...                             y\n",
              "1  republican  ...                             a\n",
              "2    democrat  ...                             n\n",
              "3    democrat  ...                             y\n",
              "4    democrat  ...                             y\n",
              "\n",
              "[5 rows x 17 columns]"
            ]
          },
          "metadata": {
            "tags": []
          },
          "execution_count": 17
        }
      ]
    },
    {
      "cell_type": "code",
      "metadata": {
        "id": "Ux3DzAyXCvuA",
        "colab_type": "code",
        "outputId": "1e7b1f77-219d-4480-a1b2-079d589a936e",
        "colab": {
          "base_uri": "https://localhost:8080/",
          "height": 226
        }
      },
      "source": [
        "df.replace(to_replace = {'y':1,'n':-1,'a':0}, inplace = True)\n",
        "df.head()"
      ],
      "execution_count": 18,
      "outputs": [
        {
          "output_type": "execute_result",
          "data": {
            "text/html": [
              "<div>\n",
              "<style scoped>\n",
              "    .dataframe tbody tr th:only-of-type {\n",
              "        vertical-align: middle;\n",
              "    }\n",
              "\n",
              "    .dataframe tbody tr th {\n",
              "        vertical-align: top;\n",
              "    }\n",
              "\n",
              "    .dataframe thead th {\n",
              "        text-align: right;\n",
              "    }\n",
              "</style>\n",
              "<table border=\"1\" class=\"dataframe\">\n",
              "  <thead>\n",
              "    <tr style=\"text-align: right;\">\n",
              "      <th></th>\n",
              "      <th>class</th>\n",
              "      <th>handicapped_infants</th>\n",
              "      <th>water_proj_costshare</th>\n",
              "      <th>adopt_budget_res</th>\n",
              "      <th>physician_fee_frz</th>\n",
              "      <th>el_salvador_aid</th>\n",
              "      <th>religious_grps_in_schools</th>\n",
              "      <th>anti_sat_test_ban</th>\n",
              "      <th>nicaraguan_contras_aid</th>\n",
              "      <th>mx_missle</th>\n",
              "      <th>immigration</th>\n",
              "      <th>synfuels_corp_cutback</th>\n",
              "      <th>edu_spending</th>\n",
              "      <th>superfund_right_to_sue</th>\n",
              "      <th>crime</th>\n",
              "      <th>duty_free_export</th>\n",
              "      <th>south_africa_export_admin_act</th>\n",
              "    </tr>\n",
              "  </thead>\n",
              "  <tbody>\n",
              "    <tr>\n",
              "      <th>0</th>\n",
              "      <td>republican</td>\n",
              "      <td>-1</td>\n",
              "      <td>1</td>\n",
              "      <td>-1</td>\n",
              "      <td>1</td>\n",
              "      <td>1</td>\n",
              "      <td>1</td>\n",
              "      <td>-1</td>\n",
              "      <td>-1</td>\n",
              "      <td>-1</td>\n",
              "      <td>1</td>\n",
              "      <td>0</td>\n",
              "      <td>1</td>\n",
              "      <td>1</td>\n",
              "      <td>1</td>\n",
              "      <td>-1</td>\n",
              "      <td>1</td>\n",
              "    </tr>\n",
              "    <tr>\n",
              "      <th>1</th>\n",
              "      <td>republican</td>\n",
              "      <td>-1</td>\n",
              "      <td>1</td>\n",
              "      <td>-1</td>\n",
              "      <td>1</td>\n",
              "      <td>1</td>\n",
              "      <td>1</td>\n",
              "      <td>-1</td>\n",
              "      <td>-1</td>\n",
              "      <td>-1</td>\n",
              "      <td>-1</td>\n",
              "      <td>-1</td>\n",
              "      <td>1</td>\n",
              "      <td>1</td>\n",
              "      <td>1</td>\n",
              "      <td>-1</td>\n",
              "      <td>0</td>\n",
              "    </tr>\n",
              "    <tr>\n",
              "      <th>2</th>\n",
              "      <td>democrat</td>\n",
              "      <td>0</td>\n",
              "      <td>1</td>\n",
              "      <td>1</td>\n",
              "      <td>0</td>\n",
              "      <td>1</td>\n",
              "      <td>1</td>\n",
              "      <td>-1</td>\n",
              "      <td>-1</td>\n",
              "      <td>-1</td>\n",
              "      <td>-1</td>\n",
              "      <td>1</td>\n",
              "      <td>-1</td>\n",
              "      <td>1</td>\n",
              "      <td>1</td>\n",
              "      <td>-1</td>\n",
              "      <td>-1</td>\n",
              "    </tr>\n",
              "    <tr>\n",
              "      <th>3</th>\n",
              "      <td>democrat</td>\n",
              "      <td>-1</td>\n",
              "      <td>1</td>\n",
              "      <td>1</td>\n",
              "      <td>-1</td>\n",
              "      <td>0</td>\n",
              "      <td>1</td>\n",
              "      <td>-1</td>\n",
              "      <td>-1</td>\n",
              "      <td>-1</td>\n",
              "      <td>-1</td>\n",
              "      <td>1</td>\n",
              "      <td>-1</td>\n",
              "      <td>1</td>\n",
              "      <td>-1</td>\n",
              "      <td>-1</td>\n",
              "      <td>1</td>\n",
              "    </tr>\n",
              "    <tr>\n",
              "      <th>4</th>\n",
              "      <td>democrat</td>\n",
              "      <td>1</td>\n",
              "      <td>1</td>\n",
              "      <td>1</td>\n",
              "      <td>-1</td>\n",
              "      <td>1</td>\n",
              "      <td>1</td>\n",
              "      <td>-1</td>\n",
              "      <td>-1</td>\n",
              "      <td>-1</td>\n",
              "      <td>-1</td>\n",
              "      <td>1</td>\n",
              "      <td>0</td>\n",
              "      <td>1</td>\n",
              "      <td>1</td>\n",
              "      <td>1</td>\n",
              "      <td>1</td>\n",
              "    </tr>\n",
              "  </tbody>\n",
              "</table>\n",
              "</div>"
            ],
            "text/plain": [
              "        class  ...  south_africa_export_admin_act\n",
              "0  republican  ...                              1\n",
              "1  republican  ...                              0\n",
              "2    democrat  ...                             -1\n",
              "3    democrat  ...                              1\n",
              "4    democrat  ...                              1\n",
              "\n",
              "[5 rows x 17 columns]"
            ]
          },
          "metadata": {
            "tags": []
          },
          "execution_count": 18
        }
      ]
    },
    {
      "cell_type": "markdown",
      "metadata": {
        "id": "eOg8vsrNN_v8",
        "colab_type": "text"
      },
      "source": [
        "## Explore"
      ]
    },
    {
      "cell_type": "code",
      "metadata": {
        "id": "nhPhJiiCMlH5",
        "colab_type": "code",
        "outputId": "b03d26f1-3ada-471b-b647-015550249643",
        "colab": {
          "base_uri": "https://localhost:8080/",
          "height": 421
        }
      },
      "source": [
        "df.info()"
      ],
      "execution_count": 3,
      "outputs": [
        {
          "output_type": "stream",
          "text": [
            "<class 'pandas.core.frame.DataFrame'>\n",
            "RangeIndex: 435 entries, 0 to 434\n",
            "Data columns (total 17 columns):\n",
            "class                            435 non-null object\n",
            "handicapped_infants              435 non-null int64\n",
            "water_proj_costshare             435 non-null int64\n",
            "adopt_budget_res                 435 non-null int64\n",
            "physician_fee_frz                435 non-null int64\n",
            "el_salvador_aid                  435 non-null int64\n",
            "religious_grps_in_schools        435 non-null int64\n",
            "anti_sat_test_ban                435 non-null int64\n",
            "nicaraguan_contras_aid           435 non-null int64\n",
            "mx_missle                        435 non-null int64\n",
            "immigration                      435 non-null int64\n",
            "synfuels_corp_cutback            435 non-null int64\n",
            "edu_spending                     435 non-null int64\n",
            "superfund_right_to_sue           435 non-null int64\n",
            "crime                            435 non-null int64\n",
            "duty_free_export                 435 non-null int64\n",
            "south_africa_export_admin_act    435 non-null int64\n",
            "dtypes: int64(16), object(1)\n",
            "memory usage: 57.9+ KB\n"
          ],
          "name": "stdout"
        }
      ]
    },
    {
      "cell_type": "code",
      "metadata": {
        "id": "UZsWAItztIuh",
        "colab_type": "code",
        "outputId": "c282a1eb-df89-448f-833f-80e62b0e56c2",
        "colab": {
          "base_uri": "https://localhost:8080/",
          "height": 72
        }
      },
      "source": [
        "df['class'].value_counts()"
      ],
      "execution_count": 4,
      "outputs": [
        {
          "output_type": "execute_result",
          "data": {
            "text/plain": [
              "democrat      267\n",
              "republican    168\n",
              "Name: class, dtype: int64"
            ]
          },
          "metadata": {
            "tags": []
          },
          "execution_count": 4
        }
      ]
    },
    {
      "cell_type": "code",
      "metadata": {
        "id": "WH68bFBANYIl",
        "colab_type": "code",
        "outputId": "d89bc8e4-09c8-470f-a741-24bd8c51e623",
        "colab": {
          "base_uri": "https://localhost:8080/",
          "height": 551
        }
      },
      "source": [
        "votes = df.groupby('class').sum().T.sort_values(by = 'democrat', ascending = False)\n",
        "votes"
      ],
      "execution_count": 5,
      "outputs": [
        {
          "output_type": "execute_result",
          "data": {
            "text/html": [
              "<div>\n",
              "<style scoped>\n",
              "    .dataframe tbody tr th:only-of-type {\n",
              "        vertical-align: middle;\n",
              "    }\n",
              "\n",
              "    .dataframe tbody tr th {\n",
              "        vertical-align: top;\n",
              "    }\n",
              "\n",
              "    .dataframe thead th {\n",
              "        text-align: right;\n",
              "    }\n",
              "</style>\n",
              "<table border=\"1\" class=\"dataframe\">\n",
              "  <thead>\n",
              "    <tr style=\"text-align: right;\">\n",
              "      <th>class</th>\n",
              "      <th>democrat</th>\n",
              "      <th>republican</th>\n",
              "    </tr>\n",
              "  </thead>\n",
              "  <tbody>\n",
              "    <tr>\n",
              "      <th>adopt_budget_res</th>\n",
              "      <td>202</td>\n",
              "      <td>-120</td>\n",
              "    </tr>\n",
              "    <tr>\n",
              "      <th>nicaraguan_contras_aid</th>\n",
              "      <td>173</td>\n",
              "      <td>-109</td>\n",
              "    </tr>\n",
              "    <tr>\n",
              "      <th>south_africa_export_admin_act</th>\n",
              "      <td>161</td>\n",
              "      <td>46</td>\n",
              "    </tr>\n",
              "    <tr>\n",
              "      <th>anti_sat_test_ban</th>\n",
              "      <td>141</td>\n",
              "      <td>-84</td>\n",
              "    </tr>\n",
              "    <tr>\n",
              "      <th>mx_missle</th>\n",
              "      <td>128</td>\n",
              "      <td>-127</td>\n",
              "    </tr>\n",
              "    <tr>\n",
              "      <th>duty_free_export</th>\n",
              "      <td>69</td>\n",
              "      <td>-128</td>\n",
              "    </tr>\n",
              "    <tr>\n",
              "      <th>handicapped_infants</th>\n",
              "      <td>54</td>\n",
              "      <td>-103</td>\n",
              "    </tr>\n",
              "    <tr>\n",
              "      <th>synfuels_corp_cutback</th>\n",
              "      <td>3</td>\n",
              "      <td>-117</td>\n",
              "    </tr>\n",
              "    <tr>\n",
              "      <th>water_proj_costshare</th>\n",
              "      <td>1</td>\n",
              "      <td>2</td>\n",
              "    </tr>\n",
              "    <tr>\n",
              "      <th>religious_grps_in_schools</th>\n",
              "      <td>-12</td>\n",
              "      <td>132</td>\n",
              "    </tr>\n",
              "    <tr>\n",
              "      <th>immigration</th>\n",
              "      <td>-15</td>\n",
              "      <td>19</td>\n",
              "    </tr>\n",
              "    <tr>\n",
              "      <th>crime</th>\n",
              "      <td>-77</td>\n",
              "      <td>155</td>\n",
              "    </tr>\n",
              "    <tr>\n",
              "      <th>superfund_right_to_sue</th>\n",
              "      <td>-106</td>\n",
              "      <td>114</td>\n",
              "    </tr>\n",
              "    <tr>\n",
              "      <th>el_salvador_aid</th>\n",
              "      <td>-145</td>\n",
              "      <td>149</td>\n",
              "    </tr>\n",
              "    <tr>\n",
              "      <th>edu_spending</th>\n",
              "      <td>-177</td>\n",
              "      <td>115</td>\n",
              "    </tr>\n",
              "    <tr>\n",
              "      <th>physician_fee_frz</th>\n",
              "      <td>-231</td>\n",
              "      <td>161</td>\n",
              "    </tr>\n",
              "  </tbody>\n",
              "</table>\n",
              "</div>"
            ],
            "text/plain": [
              "class                          democrat  republican\n",
              "adopt_budget_res                    202        -120\n",
              "nicaraguan_contras_aid              173        -109\n",
              "south_africa_export_admin_act       161          46\n",
              "anti_sat_test_ban                   141         -84\n",
              "mx_missle                           128        -127\n",
              "duty_free_export                     69        -128\n",
              "handicapped_infants                  54        -103\n",
              "synfuels_corp_cutback                 3        -117\n",
              "water_proj_costshare                  1           2\n",
              "religious_grps_in_schools           -12         132\n",
              "immigration                         -15          19\n",
              "crime                               -77         155\n",
              "superfund_right_to_sue             -106         114\n",
              "el_salvador_aid                    -145         149\n",
              "edu_spending                       -177         115\n",
              "physician_fee_frz                  -231         161"
            ]
          },
          "metadata": {
            "tags": []
          },
          "execution_count": 5
        }
      ]
    },
    {
      "cell_type": "code",
      "metadata": {
        "id": "syd-tFnMo1iB",
        "colab_type": "code",
        "outputId": "d8974e11-d7d9-4adf-dab3-97fa67c4e4b5",
        "colab": {
          "base_uri": "https://localhost:8080/",
          "height": 758
        }
      },
      "source": [
        "votes.plot.bar(figsize = (17,10), stacked = True)"
      ],
      "execution_count": 7,
      "outputs": [
        {
          "output_type": "execute_result",
          "data": {
            "text/plain": [
              "<matplotlib.axes._subplots.AxesSubplot at 0x7f362d18cf60>"
            ]
          },
          "metadata": {
            "tags": []
          },
          "execution_count": 7
        },
        {
          "output_type": "display_data",
          "data": {
            "image/png": "[encoded data removed]",
            "text/plain": [
              "<Figure size 1224x720 with 1 Axes>"
            ]
          },
          "metadata": {
            "tags": []
          }
        }
      ]
    },
    {
      "cell_type": "markdown",
      "metadata": {
        "id": "c-cKQPyiNF53",
        "colab_type": "text"
      },
      "source": [
        "## Issue democrats support more than republicans"
      ]
    },
    {
      "cell_type": "code",
      "metadata": {
        "id": "vW6SKBCiLVhz",
        "colab_type": "code",
        "outputId": "1bed0b10-2ff2-467a-9fc4-24fd16cb831a",
        "colab": {
          "base_uri": "https://localhost:8080/",
          "height": 528
        }
      },
      "source": [
        "adopt = pd.crosstab(df['class'],df['adopt_budget_res'])\n",
        "adopt.plot(kind = 'bar', figsize = (12,7))\n",
        "plt.title('adopt budget resolution', fontsize = 25)\n",
        "plt.legend(labels = ['No','Abstain','Yes'])"
      ],
      "execution_count": 22,
      "outputs": [
        {
          "output_type": "execute_result",
          "data": {
            "text/plain": [
              "<matplotlib.legend.Legend at 0x7f362a35f588>"
            ]
          },
          "metadata": {
            "tags": []
          },
          "execution_count": 22
        },
        {
          "output_type": "display_data",
          "data": {
            "image/png": "[encoded data removed]",
            "text/plain": [
              "<Figure size 864x504 with 1 Axes>"
            ]
          },
          "metadata": {
            "tags": []
          }
        }
      ]
    },
    {
      "cell_type": "markdown",
      "metadata": {
        "id": "fj9hzo5gQHNp",
        "colab_type": "text"
      },
      "source": [
        "### Test Hypothesis"
      ]
    },
    {
      "cell_type": "code",
      "metadata": {
        "id": "BdJ9JD3BQKAa",
        "colab_type": "code",
        "outputId": "e3c2a5dc-1866-466e-e92a-980404f3a4d9",
        "colab": {
          "base_uri": "https://localhost:8080/",
          "height": 54
        }
      },
      "source": [
        "from scipy.stats import ttest_ind, ttest_ind_from_stats, ttest_rel\n",
        "\n",
        "democrat_budget = df[df['class']=='democrat']['adopt_budget_res']\n",
        "republican_budget = df[df['class']=='republican']['adopt_budget_res']\n",
        "\n",
        "tstat, pvalue = ttest_ind(democrat_budget, republican_budget, equal_var = False)\n",
        "print(tstat)\n",
        "print(pvalue)"
      ],
      "execution_count": 33,
      "outputs": [
        {
          "output_type": "stream",
          "text": [
            "22.4316868913208\n",
            "1.0895246138864557e-68\n"
          ],
          "name": "stdout"
        }
      ]
    },
    {
      "cell_type": "markdown",
      "metadata": {
        "id": "3sFHIvgzmRnE",
        "colab_type": "text"
      },
      "source": [
        "This p-value shows that we can reject the null hypothesis of an equal average vote between republican and democrats on the issue of budget resolution. Democrats have a significant probability of voting 'Yes' while republicans would vote 'No'."
      ]
    },
    {
      "cell_type": "markdown",
      "metadata": {
        "id": "4gsHiuTqPqeg",
        "colab_type": "text"
      },
      "source": [
        "## Issue republicans support more than democrats"
      ]
    },
    {
      "cell_type": "code",
      "metadata": {
        "id": "LTZbzgXuLxF2",
        "colab_type": "code",
        "outputId": "3610b9a7-391b-4afe-c32b-f7c39f80e18b",
        "colab": {
          "base_uri": "https://localhost:8080/",
          "height": 528
        }
      },
      "source": [
        "phys = pd.crosstab(df['class'],df['physician_fee_frz'])\n",
        "phys.plot(kind = 'bar', figsize = (12,7))\n",
        "plt.title('physician fee freeze', fontsize = 25)\n",
        "plt.legend()"
      ],
      "execution_count": 0,
      "outputs": [
        {
          "output_type": "execute_result",
          "data": {
            "text/plain": [
              "<matplotlib.legend.Legend at 0x7fd4de8b12e8>"
            ]
          },
          "metadata": {
            "tags": []
          },
          "execution_count": 12
        },
        {
          "output_type": "display_data",
          "data": {
            "image/png": "[encoded data removed]",
            "text/plain": [
              "<Figure size 864x504 with 1 Axes>"
            ]
          },
          "metadata": {
            "tags": []
          }
        }
      ]
    },
    {
      "cell_type": "markdown",
      "metadata": {
        "id": "20sevWKej6OV",
        "colab_type": "text"
      },
      "source": [
        "### Test Hypothesis"
      ]
    },
    {
      "cell_type": "code",
      "metadata": {
        "id": "CoGeDz5Oj9C7",
        "colab_type": "code",
        "colab": {
          "base_uri": "https://localhost:8080/",
          "height": 54
        },
        "outputId": "415b1dab-312c-43dc-bd92-dc32b5e64c08"
      },
      "source": [
        "democrat_phys = df[df['class']=='democrat']['physician_fee_frz']\n",
        "republican_phys = df[df['class']=='republican']['physician_fee_frz']\n",
        "\n",
        "tstat, pvalue = ttest_ind(republican_phys,democrat_phys, equal_var = False)\n",
        "print(tstat)\n",
        "print(pvalue)"
      ],
      "execution_count": 32,
      "outputs": [
        {
          "output_type": "stream",
          "text": [
            "52.32559778411111\n",
            "4.570160514553809e-187\n"
          ],
          "name": "stdout"
        }
      ]
    },
    {
      "cell_type": "markdown",
      "metadata": {
        "id": "aP_FY6UplIsH",
        "colab_type": "text"
      },
      "source": [
        "This p-value shows that we can reject the null hypothesis of an equal average vote between republican and democrats on the issue of the physician fee freeze. Republicans have a significant probability of voting 'Yes' while democrats would vote 'No'."
      ]
    },
    {
      "cell_type": "markdown",
      "metadata": {
        "id": "8_1uZmPVP12k",
        "colab_type": "text"
      },
      "source": [
        "##Issue both sides are conflicted on"
      ]
    },
    {
      "cell_type": "code",
      "metadata": {
        "id": "uwXGhd8G5QYy",
        "colab_type": "code",
        "outputId": "d7beab44-ffba-44b0-a97c-5aea5ea6de4c",
        "colab": {
          "base_uri": "https://localhost:8080/",
          "height": 528
        }
      },
      "source": [
        "water = pd.crosstab(df['class'],df['water_proj_costshare'])\n",
        "water.plot(kind = 'bar', figsize = (12,7))\n",
        "plt.title('water project cost-share', fontsize = 25)\n",
        "plt.legend()"
      ],
      "execution_count": 0,
      "outputs": [
        {
          "output_type": "execute_result",
          "data": {
            "text/plain": [
              "<matplotlib.legend.Legend at 0x7fd4de834278>"
            ]
          },
          "metadata": {
            "tags": []
          },
          "execution_count": 13
        },
        {
          "output_type": "display_data",
          "data": {
            "image/png": "[encoded data removed]",
            "text/plain": [
              "<Figure size 864x504 with 1 Axes>"
            ]
          },
          "metadata": {
            "tags": []
          }
        }
      ]
    },
    {
      "cell_type": "markdown",
      "metadata": {
        "id": "I_u-mCZ7kgfW",
        "colab_type": "text"
      },
      "source": [
        "### Test Hypothesis"
      ]
    },
    {
      "cell_type": "code",
      "metadata": {
        "id": "rvdZEv9skjrN",
        "colab_type": "code",
        "colab": {
          "base_uri": "https://localhost:8080/",
          "height": 54
        },
        "outputId": "645993d5-dc9c-4124-8e94-965ea483c824"
      },
      "source": [
        "democrat_water = df[df['class']=='democrat']['water_proj_costshare']\n",
        "republican_water = df[df['class']=='republican']['water_proj_costshare']\n",
        "\n",
        "tstat, pvalue = ttest_ind(democrat_water,republican_water, equal_var = False)\n",
        "print(tstat)\n",
        "print(pvalue)"
      ],
      "execution_count": 31,
      "outputs": [
        {
          "output_type": "stream",
          "text": [
            "-0.08778459765766038\n",
            "0.9300971167247924\n"
          ],
          "name": "stdout"
        }
      ]
    },
    {
      "cell_type": "markdown",
      "metadata": {
        "id": "qiKmkktbnG9o",
        "colab_type": "text"
      },
      "source": [
        "This p-value shows that we fail to reject the null hypothesis of equal average vote for the issue of water project cost-share.\n",
        "Democrats and republicans are equally likely to vote either 'Yes' or 'No'."
      ]
    }
  ]
}