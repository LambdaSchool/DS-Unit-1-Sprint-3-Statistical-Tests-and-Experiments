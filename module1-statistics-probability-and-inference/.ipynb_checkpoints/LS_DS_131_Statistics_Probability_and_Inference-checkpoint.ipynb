{
 "cells": [
  {
   "cell_type": "markdown",
   "metadata": {
    "colab_type": "text",
    "id": "eJGtmni-DezY"
   },
   "source": [
    "<img align=\"left\" src=\"https://lever-client-logos.s3.amazonaws.com/864372b1-534c-480e-acd5-9711f850815c-1524247202159.png\" width=200>\n",
    "<br></br>\n",
    "<br></br>\n",
    "\n",
    "## *Data Science Unit 1 Sprint 3 Lesson 1*\n",
    "\n",
    "# Statistics, Probability and Inference\n",
    "\n",
    "Ever thought about how long it takes to make a pancake? Have you ever compared the tooking time of a pancake on each eye of your stove? Is the cooking time different between the different eyes? Now, we can run an experiment and collect a sample of 1,000 pancakes on one eye and another 800 pancakes on the other eye. Assumed we used the same pan, batter, and technique on both eyes. Our average cooking times were 180 (5 std) and 178.5 (4.25 std) seconds repsectively. Now, we can tell those numbers are not identicial, but how confident are we that those numbers are practically the same? How do we know the slight difference isn't caused by some external randomness?\n",
    "\n",
    "Yes, today's lesson will help you figure out how long to cook your pancakes (*theoretically*). Experimentation is up to you; otherwise, you have to accept my data as true. How are going to accomplish this? With probability, statistics, inference and maple syrup (optional). \n",
    "\n",
    "<img src=\"https://images.unsplash.com/photo-1541288097308-7b8e3f58c4c6?ixlib=rb-1.2.1&ixid=eyJhcHBfaWQiOjEyMDd9&auto=format&fit=crop&w=3300&q=80\" width=400>\n",
    "\n",
    "## Learning Objectives\n",
    "* [Part 1](#p1): Normal Distribution Revisted\n",
    "* [Part 2](#p2): Student's T Test\n",
    "* [Part 3](#p3): Hypothesis Test & Doing it Live"
   ]
  },
  {
   "cell_type": "markdown",
   "metadata": {},
   "source": [
    "## Normal Distribution Revisited\n",
    "\n",
    "What is the Normal distribution: A probability distribution of a continuous real valued random-variable. The Normal distribution properties make it useful for the *Central Limit Theorm*, because if we assume a variable follows the normal distribution, we can make certain conclusions based on probabilities."
   ]
  },
  {
   "cell_type": "code",
   "execution_count": 20,
   "metadata": {},
   "outputs": [],
   "source": [
    "import numpy as np\n",
    "#Normal distribution is described as two terms: 1. mean and 2.std\n",
    "N = 1000\n",
    "mu = 0 # mean\n",
    "sigma = 0.1 # standard deviation\n",
    "\n",
    "sample = np.random.normal(mu, sigma, N) #tool for generating or processing old tools\n"
   ]
  },
  {
   "cell_type": "code",
   "execution_count": 3,
   "metadata": {},
   "outputs": [
    {
     "data": {
      "text/plain": [
       "True"
      ]
     },
     "execution_count": 3,
     "metadata": {},
     "output_type": "execute_result"
    }
   ],
   "source": [
    "# Verify the mean of our sample\n",
    "abs(mu - np.mean(sample)) < 0.01"
   ]
  },
  {
   "cell_type": "code",
   "execution_count": 8,
   "metadata": {},
   "outputs": [
    {
     "data": {
      "text/plain": [
       "array([-0.00795034, -0.01120365, -0.01742424, -0.03840616,  0.19229714,\n",
       "       -0.0028539 , -0.00141557, -0.01306575, -0.12956109, -0.05245256])"
      ]
     },
     "execution_count": 8,
     "metadata": {},
     "output_type": "execute_result"
    }
   ],
   "source": [
    "sample[:10]"
   ]
  },
  {
   "cell_type": "code",
   "execution_count": 10,
   "metadata": {},
   "outputs": [
    {
     "data": {
      "text/plain": [
       "-0.004953372699907645"
      ]
     },
     "execution_count": 10,
     "metadata": {},
     "output_type": "execute_result"
    }
   ],
   "source": [
    "mu - np.mean(sample) #this number should be very small\n",
    "#the means should be virtually the same"
   ]
  },
  {
   "cell_type": "code",
   "execution_count": 12,
   "metadata": {},
   "outputs": [
    {
     "data": {
      "text/plain": [
       "-0.0011505780517422765"
      ]
     },
     "execution_count": 12,
     "metadata": {},
     "output_type": "execute_result"
    }
   ],
   "source": [
    "#Variance\n",
    "sigma - np.std(sample, ddof=1)"
   ]
  },
  {
   "cell_type": "code",
   "execution_count": 13,
   "metadata": {},
   "outputs": [
    {
     "data": {
      "text/plain": [
       "True"
      ]
     },
     "execution_count": 13,
     "metadata": {},
     "output_type": "execute_result"
    }
   ],
   "source": [
    "# Verify the variance/std of our sample\n",
    "abs(sigma - np.std(sample, ddof=1)) < 0.01"
   ]
  },
  {
   "cell_type": "code",
   "execution_count": 25,
   "metadata": {},
   "outputs": [],
   "source": [
    "#manually doing the std dev\n",
    "var = (1/(N-1))*np.sum((sample - np.mean(sample))**2) #this is our variance"
   ]
  },
  {
   "cell_type": "code",
   "execution_count": 28,
   "metadata": {},
   "outputs": [
    {
     "data": {
      "text/plain": [
       "0.10047632306645425"
      ]
     },
     "execution_count": 28,
     "metadata": {},
     "output_type": "execute_result"
    }
   ],
   "source": [
    "#Take the square root of the variance to yield the std dev\n",
    "np.sqrt(var)"
   ]
  },
  {
   "cell_type": "code",
   "execution_count": 30,
   "metadata": {},
   "outputs": [
    {
     "data": {
      "text/plain": [
       "0.10042607233909694"
      ]
     },
     "execution_count": 30,
     "metadata": {},
     "output_type": "execute_result"
    }
   ],
   "source": [
    "np.std(sample)"
   ]
  },
  {
   "cell_type": "code",
   "execution_count": 37,
   "metadata": {},
   "outputs": [
    {
     "data": {
      "text/plain": [
       "<matplotlib.lines.Line2D at 0x1a1f698eb8>"
      ]
     },
     "execution_count": 37,
     "metadata": {},
     "output_type": "execute_result"
    },
    {
     "data": {
      "image/png": "[encoded data removed]",
      "text/plain": [
       "<Figure size 432x288 with 1 Axes>"
      ]
     },
     "metadata": {},
     "output_type": "display_data"
    }
   ],
   "source": [
    "import seaborn as sns\n",
    "from matplotlib import style #so that we can use a different style graphic\n",
    "\n",
    "style.use('fivethirtyeight')\n",
    "ax = sns.distplot(sample, color='purple')\n",
    "ax.axvline(np.percentile(sample, 97.5),0) #adds the vertical lines to show where the third std deviation is\n",
    "ax.axvline(np.percentile(sample, 2.5), 0)"
   ]
  },
  {
   "cell_type": "code",
   "execution_count": 45,
   "metadata": {},
   "outputs": [
    {
     "data": {
      "text/plain": [
       "array([-6.84206790e-01,  6.56431781e-01,  8.12389352e-01,  3.99081026e-01,\n",
       "       -9.18729345e-03,  9.09766801e-01, -7.37881099e-01,  1.82595576e+00,\n",
       "       -3.37909570e-01, -5.28186141e-01, -7.12697643e-02, -2.01446644e+00,\n",
       "       -3.50167165e-01,  4.53318201e-01, -5.49506431e-01,  4.17263035e-01,\n",
       "       -1.77488544e+00,  1.57265755e+00,  9.74943067e-01, -1.88160345e+00,\n",
       "        1.84927836e+00,  8.38136058e-02, -1.05591595e+00, -7.39929070e-01,\n",
       "        7.07985165e-01, -2.35834589e+00,  4.66363029e-01, -1.23383994e+00,\n",
       "       -1.42407193e+00, -8.58882002e-02,  4.47443956e-01,  1.33694564e+00,\n",
       "        6.01699641e-01,  8.26868274e-01, -5.06953384e-01,  1.18629101e+00,\n",
       "       -2.86089332e-01, -4.38727991e-01,  5.39684317e-02,  1.42627835e+00,\n",
       "       -1.49517319e+00,  8.50761329e-02,  6.88523332e-01, -2.82715446e-01,\n",
       "        4.29443490e-03,  1.49581382e+00,  6.33077825e-01, -2.14834818e+00,\n",
       "       -9.83291782e-01, -1.18464942e-02,  5.08356985e-01,  6.06731281e-01,\n",
       "        6.83498348e-01, -8.49929947e-01,  1.70688552e+00,  5.82220657e-01,\n",
       "        6.73587402e-02,  4.67904193e-01, -1.27759559e+00,  2.81052347e-01,\n",
       "        2.38200590e-01, -2.33806138e+00,  4.52306307e-01, -2.65569275e-01,\n",
       "       -1.43992687e+00, -8.49449825e-01,  7.14821053e-01, -5.82827192e-01,\n",
       "       -3.93063761e-01,  1.12585042e+00, -2.10799727e-01,  1.98823835e+00,\n",
       "        7.84949394e-01,  8.63751732e-01,  3.60931329e-01,  4.12671733e-01,\n",
       "        1.50329837e+00,  2.18906055e-01, -5.14600091e-01, -1.54015987e+00,\n",
       "        6.04571503e-01,  2.43740274e+00, -2.38276666e-02,  4.57625829e-01,\n",
       "        1.40173242e-01, -1.15641247e-01,  1.65596401e+00, -3.44172069e-01,\n",
       "       -2.02943780e+00, -9.61273056e-01,  9.95763986e-01, -9.97404463e-01,\n",
       "        1.01670307e+00,  7.60207070e-02, -1.47068265e-01, -9.63279392e-01,\n",
       "        7.19890190e-01, -1.09352262e+00, -9.93044234e-02, -7.99294638e-01,\n",
       "        4.09878889e-01,  1.10549152e+00,  3.02022979e-01,  3.65212669e-01,\n",
       "       -1.12466747e-01,  1.86504873e+00, -1.02218202e+00, -1.50229283e+00,\n",
       "       -5.48875853e-01,  1.53730618e+00, -2.27071995e+00, -5.72200887e-01,\n",
       "        1.39229961e+00, -7.78896063e-03,  8.19692809e-01, -3.61784532e-01,\n",
       "       -4.28792239e-01, -2.92488075e-01,  2.72839658e-01,  1.36710739e-01,\n",
       "        4.27217967e-01,  6.84161214e-01,  1.23641572e+00,  2.11254055e-01,\n",
       "        5.61655644e-01,  2.34192928e-01, -2.76123032e-01,  1.58654752e+00,\n",
       "       -5.65544990e-01, -1.35959911e+00, -2.02041190e+00, -8.78075109e-01,\n",
       "        1.01337109e-01,  1.14764578e+00,  1.80952679e+00,  3.91705720e-01,\n",
       "       -2.25428798e+00, -3.04180627e-01, -1.10515846e-01, -6.23155055e-01,\n",
       "        2.65699402e-01, -5.67937528e-01,  4.82544372e-01,  1.38984909e-01,\n",
       "       -3.51634261e-01,  1.35286179e-01, -8.77566282e-01,  2.00281708e+00,\n",
       "       -1.10872095e+00, -1.49743326e-01,  2.50151809e-01, -4.55594463e-01,\n",
       "        2.40197230e-01, -1.54259290e+00, -6.63347138e-02, -8.96203242e-01,\n",
       "        2.65201613e-01,  1.14571781e+00,  8.03687573e-01, -9.55773685e-01,\n",
       "       -1.76099911e-01, -1.23618030e+00, -1.24321350e+00,  7.10678582e-01,\n",
       "        2.58048778e-01, -2.11172865e-01,  3.80014525e-01, -1.36542365e-01,\n",
       "       -8.87225958e-01, -1.20506204e+00, -7.37558137e-01, -3.61538913e-01,\n",
       "        8.07355189e-01, -1.02319494e+00, -5.85534762e-01, -7.17323048e-01,\n",
       "        2.08240766e+00, -5.35393585e-01,  4.19309818e-02, -7.07797901e-01,\n",
       "       -1.60102352e+00,  3.26900321e-01, -2.80360460e-01,  1.70661084e+00,\n",
       "        5.27120407e-01, -7.07774781e-02, -8.63447055e-01, -1.37023779e+00,\n",
       "        1.03145182e+00, -4.86010819e-01, -1.55804397e+00,  8.99605336e-01,\n",
       "       -2.54313468e-01,  4.30866294e-01, -1.75238341e+00, -1.23955650e+00,\n",
       "        2.55017337e-01,  1.09017455e+00,  1.54477754e+00, -1.77912347e+00,\n",
       "        1.45528683e+00,  2.28248718e-01, -3.64358850e-01, -1.80150903e+00,\n",
       "       -1.11237928e+00, -1.97098631e+00,  1.89712581e+00,  1.22490297e+00,\n",
       "       -2.78788723e-01,  5.53674373e-01,  6.02931657e-01,  4.22191638e-01,\n",
       "       -8.26299985e-01,  1.06695377e-02, -1.02297158e+00,  3.08063524e-01,\n",
       "       -4.81681881e-01, -9.82302241e-01, -1.27671496e+00,  7.15824868e-01,\n",
       "       -2.65465335e-01, -1.61480423e+00, -1.35146740e+00, -2.75873669e-01,\n",
       "        4.36730358e-01, -6.69732887e-01,  1.31918630e+00,  2.20055816e-01,\n",
       "       -9.12463916e-01, -1.00039725e+00,  8.90878308e-01, -7.27456666e-01,\n",
       "       -2.07479203e-01,  7.72813247e-01, -1.90546239e+00,  2.27814600e-01,\n",
       "       -8.05074120e-01, -1.07121547e+00,  1.15599833e-01, -6.27742976e-01,\n",
       "        1.35663851e+00,  1.08040669e+00,  9.59976861e-02, -2.08394368e+00,\n",
       "       -7.45304362e-01, -1.39552673e+00,  1.09184763e+00,  6.84220960e-01,\n",
       "       -3.28252369e-01, -2.92759929e-01,  1.11521292e+00,  2.91261872e-01,\n",
       "       -9.22345029e-01,  1.14241743e+00,  2.46974490e-01,  8.29782447e-01,\n",
       "       -7.92975542e-01, -2.03175300e+00, -1.44596139e-01, -2.04864021e+00,\n",
       "       -8.37279991e-01,  4.38060012e-01, -3.87973467e-01, -1.26634376e+00,\n",
       "       -5.53773068e-01,  1.61164311e-01,  3.56558660e-01,  6.65020722e-01,\n",
       "        2.05155003e+00, -6.04617502e-01, -2.31182315e-01,  9.15719823e-01,\n",
       "        3.01984245e-01, -9.28755905e-01,  5.90564506e-02, -6.60820171e-01,\n",
       "        2.31348008e+00,  3.56860885e-01,  2.99653598e-01, -7.50480363e-02,\n",
       "       -8.68104983e-01,  8.73549913e-01,  7.31514269e-01, -4.00173866e-01,\n",
       "        3.12567990e-01,  4.06450452e-02,  1.78856160e+00, -1.22830369e+00,\n",
       "       -3.59575621e-01,  6.30928095e-01,  1.40663735e-01,  6.64099310e-01,\n",
       "       -2.41515246e-01,  1.02230020e+00,  1.15050100e+00,  1.23479581e+00,\n",
       "        2.21935640e-01,  1.00083497e+00,  1.19277742e+00,  2.15220142e-01,\n",
       "        4.10064031e-01, -2.90732757e-01,  5.16317411e-01,  1.03184062e+00,\n",
       "       -1.03647539e+00,  1.20169933e+00,  1.27611966e-01, -7.25617091e-01,\n",
       "       -1.61335797e+00,  5.08395772e-01, -1.05051113e-01, -3.74811999e-01,\n",
       "        7.97455476e-01, -1.87573280e-01, -1.00449520e+00,  5.02994903e-02,\n",
       "       -1.75035008e+00, -3.51392771e-01,  1.50039424e+00,  1.18783583e-01,\n",
       "       -4.98931773e-01, -4.67439181e-02,  1.23489187e+00,  2.65779991e-02,\n",
       "       -1.52630874e-01, -4.50590304e-01, -7.73726313e-01,  9.33297319e-01,\n",
       "        1.80377612e+00, -1.99051905e+00,  9.91440033e-01, -1.16387879e+00,\n",
       "       -2.58455056e-01,  7.36542267e-01, -5.23621954e-01,  2.13076384e-01,\n",
       "        2.68010223e-01, -6.45212050e-01, -1.33983903e+00, -1.20977456e-01,\n",
       "        5.50214018e-01,  1.70261910e-01,  2.19531563e-01, -1.32645621e+00,\n",
       "        6.81978522e-01, -6.73666571e-01,  1.12510698e-01,  1.20906637e+00,\n",
       "        6.05058452e-01,  6.33080012e-01,  5.19262119e-02, -8.32443806e-02,\n",
       "        1.16563749e+00, -1.09302877e+00,  2.90047648e-01,  1.68410363e+00,\n",
       "       -1.06052051e+00, -9.17314619e-01,  1.36098293e+00,  9.69507830e-01,\n",
       "        9.60358933e-01, -6.74146790e-02,  1.67833044e-01,  4.13559696e-01,\n",
       "       -3.57703071e-01,  5.07188579e-01, -1.25663808e-01, -7.80061193e-01,\n",
       "       -2.37793538e-01, -4.98586755e-01, -3.83360383e-01,  5.74744612e-01,\n",
       "       -6.02075717e-01,  7.45084734e-02,  2.75267182e-02, -1.95842186e-01,\n",
       "       -5.32355708e-01, -4.27697704e-01, -1.50809780e+00, -2.99535822e-01,\n",
       "       -1.62792775e+00, -6.13102384e-01, -1.21283264e+00,  6.21086249e-01,\n",
       "       -5.99548983e-02, -4.42611447e-01,  2.03577185e+00, -1.08771026e+00,\n",
       "       -7.53285346e-01,  9.90242317e-01,  6.33893865e-01, -7.39564902e-01,\n",
       "        1.24636122e+00,  2.13390192e+00, -4.73692997e-01,  2.18705039e-01,\n",
       "        2.38795250e-01,  1.09599194e+00,  8.03545647e-02,  1.43525380e+00,\n",
       "       -2.44418269e-03, -6.07378610e-01,  1.07891544e+00, -1.36783556e+00,\n",
       "        5.01694142e-01,  1.84646513e-01,  1.00947185e+00, -1.52761078e+00,\n",
       "        3.64833283e-01, -1.26838046e+00,  3.75338375e-02, -1.60440994e-01,\n",
       "       -1.17529093e+00,  1.86880712e-01, -1.68770047e+00,  4.60201756e-01,\n",
       "        1.00666257e+00,  2.31619890e-01,  2.24198439e-01, -3.84163919e-01,\n",
       "        6.28559529e-01,  1.56329108e+00,  3.54127517e-01, -2.55451386e+00,\n",
       "        1.26137086e+00,  5.76257524e-01, -1.00543925e+00,  5.10498931e-01,\n",
       "       -1.66270271e+00, -3.38323486e-01,  1.14992727e+00,  6.86251981e-02,\n",
       "       -1.54153329e+00, -6.39106769e-01, -7.16886956e-01, -6.21945140e-01,\n",
       "       -1.10567983e-01,  5.73583230e-02,  4.78203436e-01,  2.58970260e+00,\n",
       "       -9.89164458e-01,  8.42543289e-01, -3.77948043e-01, -1.06530975e+00,\n",
       "        1.76553673e+00,  3.97934978e-01, -1.43216473e-02, -6.75925641e-01,\n",
       "       -7.41330092e-01,  2.71667778e-01,  2.34084683e+00,  3.76826762e-01,\n",
       "        1.27685478e+00,  2.04812252e-02,  1.01145205e-01, -6.28291969e-01,\n",
       "       -1.46880161e+00,  4.41271970e-01, -1.42876565e+00,  5.25734247e-01,\n",
       "       -9.57617530e-01,  1.81061918e-01,  5.71658663e-01,  5.87695889e-01,\n",
       "       -1.28228553e+00,  2.52039779e-01, -3.04695815e-01, -7.65370178e-02,\n",
       "        4.39689916e-01,  4.18242059e-01,  9.55762126e-01,  1.56796303e+00,\n",
       "        1.11868191e-01, -1.48690519e-01, -4.17986435e-01, -4.21099313e-01,\n",
       "        1.93166963e-01, -1.37476330e-01, -1.62172913e+00,  6.21741841e-01,\n",
       "       -4.17608976e-01,  2.66001058e+00, -8.98569172e-01,  1.13676482e+00,\n",
       "       -1.48106788e+00,  4.17092297e-01, -3.58495631e-01, -1.43236946e-01,\n",
       "       -8.56008965e-01, -4.36859973e-01, -1.20946591e+00, -6.17063886e-01,\n",
       "        8.82655791e-01, -1.22741313e+00,  1.02287134e+00, -2.04764155e+00,\n",
       "        1.83105049e-01, -1.02202411e+00,  3.20962266e-01, -1.62200696e+00,\n",
       "        8.97379767e-01, -3.31396108e-01,  8.45653990e-01, -2.00284653e-01,\n",
       "       -1.54866726e-01,  4.21597696e-01,  1.76130998e+00, -9.50143150e-01,\n",
       "        1.66768044e+00,  2.69954534e+00,  7.14108348e-02,  9.27673754e-01,\n",
       "        3.90725195e-01, -7.59316450e-01,  3.42656938e-01,  5.59850348e-01,\n",
       "       -4.77121745e-01,  2.38815553e-01,  7.19857973e-01,  1.34931645e+00,\n",
       "       -3.04161615e-01, -1.12037715e+00,  3.72831295e-02,  1.86214993e+00,\n",
       "       -1.58132792e+00, -7.34737508e-01,  4.68000431e-01, -8.16652785e-01,\n",
       "        8.02117204e-01, -4.42730014e-03,  3.26942237e-01,  1.72018277e-01,\n",
       "        8.49913244e-01,  9.05043106e-01,  3.97581558e-01,  2.33034812e-01,\n",
       "       -7.47027319e-03, -2.12338017e+00,  7.91634499e-01, -6.04407596e-02,\n",
       "       -8.67511756e-01, -7.24793186e-01,  5.53678935e-01,  5.78368214e-01,\n",
       "       -9.82880029e-01, -6.21264633e-01, -8.62376369e-01,  1.10259621e+00,\n",
       "       -5.19469100e-01, -3.70768268e-01, -1.71235883e+00,  2.12327128e-01,\n",
       "       -1.40496321e+00, -9.18536376e-01,  3.97140378e-01,  2.82345696e-01,\n",
       "        2.59453009e-01,  4.65673996e-01,  1.36561829e+00, -1.84530378e-01,\n",
       "       -1.06031525e+00,  3.42525610e-01,  1.24743638e-01, -2.34113703e+00,\n",
       "       -3.30417750e-01,  3.56134811e-01,  6.91354445e-01, -4.99036865e-01,\n",
       "       -1.96558128e+00,  5.03135622e-02,  4.39444150e-01,  8.06609700e-01,\n",
       "        9.14962591e-01, -4.41924169e-01, -7.95737600e-01,  8.20627588e-01,\n",
       "        6.81412028e-01, -1.08282178e+00,  8.57367348e-01, -4.34462615e-01,\n",
       "       -2.73798873e-01,  5.91465574e-01,  6.44245831e-01,  1.27291253e+00,\n",
       "       -1.66785290e+00, -5.03439827e-01, -3.78702485e-01, -4.04167997e-01,\n",
       "        6.52053353e-03, -1.61834951e+00, -1.71220180e+00, -1.41060716e+00,\n",
       "       -8.25049794e-01, -2.19205214e-01, -1.10645241e-01,  6.21769479e-01,\n",
       "        9.93580302e-01,  2.40857196e+00,  5.21488560e-01,  7.52464439e-01,\n",
       "        5.14139045e-01, -1.08475906e-01, -3.04201080e-01, -2.11468395e+00,\n",
       "        6.46323020e-01,  1.74187989e-01, -5.18640715e-01,  7.37521765e-01,\n",
       "       -9.83579567e-02,  1.20599587e+00, -1.39270542e+00,  6.50843744e-01,\n",
       "        1.02047468e+00,  8.68277611e-01, -1.08968693e+00,  1.98027222e+00,\n",
       "       -3.44924999e-01, -1.47637281e+00,  1.21154145e+00,  7.22190741e-02,\n",
       "        1.30676972e+00, -6.84949387e-01, -4.99602919e-01, -7.64421425e-01,\n",
       "       -9.08168395e-01,  1.04123462e+00, -2.00515599e+00, -6.19785625e-01,\n",
       "        3.24132307e-01,  1.49715800e-01,  8.83583511e-01,  1.33357539e+00,\n",
       "        8.91531728e-01, -9.65539619e-01,  1.44114128e+00, -7.93002756e-01,\n",
       "       -1.79045611e+00,  2.08556467e+00, -5.47933575e-01, -1.76927412e+00,\n",
       "        1.53641033e+00,  3.85233463e-01, -1.75413999e-01, -5.74132750e-01,\n",
       "        4.72690529e-01,  1.34057682e+00, -5.01147801e-01,  6.53595005e-01,\n",
       "        1.33585478e+00, -3.58329330e-01, -1.46965086e+00, -1.59975758e-01,\n",
       "        6.29415436e-01,  8.23044185e-01, -1.43767734e+00,  1.00458177e+00,\n",
       "        6.20292095e-01,  9.03270901e-01,  1.43220451e+00,  3.43442050e-04,\n",
       "        4.46526272e-01, -1.58344804e-01, -9.52873445e-01,  2.60809912e+00,\n",
       "       -7.12085247e-02,  1.67102324e+00, -8.78656336e-01,  1.68749458e-01,\n",
       "        8.44365577e-02,  1.26580396e+00, -6.83485927e-01,  3.05009498e-01,\n",
       "       -8.16078341e-01, -7.90616322e-01,  6.15267907e-01, -7.45606336e-01,\n",
       "        2.05127354e-01,  1.54137911e+00,  4.08693038e-01, -1.98480809e+00,\n",
       "       -8.50169790e-01, -1.01967551e+00,  2.21329426e-01, -2.31017728e-01,\n",
       "        5.40396448e-01, -1.28461306e-01,  1.00769175e+00, -4.47684401e-02,\n",
       "        8.24654366e-01, -2.78285568e-01,  1.55558699e+00,  7.06512640e-01,\n",
       "        7.30181525e-01,  1.48360953e+00,  7.89962032e-01,  1.92297146e-01,\n",
       "        1.76283768e-01, -6.85231756e-01,  8.75241528e-01, -9.70974082e-01,\n",
       "       -1.51300362e-01,  1.47828562e+00,  6.58867722e-01, -3.87884588e-02,\n",
       "       -6.61294604e-01, -8.29093459e-01,  6.96483339e-01, -8.06585440e-01,\n",
       "       -1.28637280e+00, -1.67256626e+00,  1.11806564e-01,  4.18759003e-01,\n",
       "       -8.72151686e-01, -1.34455191e+00, -2.00503034e-02,  2.34553604e-01,\n",
       "       -1.20429536e-01, -1.43815909e+00,  6.91575185e-01, -9.87535481e-01,\n",
       "        1.26136868e-01,  7.61942723e-01,  1.68821292e+00, -1.00252648e+00,\n",
       "        1.93191241e-02,  3.83827830e-01,  5.51025915e-01,  8.81580616e-02,\n",
       "        3.31792010e-01,  2.50324671e+00,  9.00026801e-01,  1.34412398e-01,\n",
       "        3.44747609e-02,  3.22369862e-01, -6.97779269e-01,  1.24768311e+00,\n",
       "        2.41590224e+00,  3.14916714e-01, -1.78162371e+00, -2.78591978e-01,\n",
       "       -3.14538914e-01, -1.06009804e+00,  8.11369134e-01, -2.24138722e+00,\n",
       "       -7.72779359e-01,  1.01107666e-01,  8.36187725e-01,  1.07087555e+00,\n",
       "        1.85696468e+00,  2.16133930e-01, -6.32608841e-01, -1.24056066e+00,\n",
       "        1.15386230e+00, -1.43699475e-01, -2.38108522e-01, -1.21317872e-01,\n",
       "        1.09782889e+00,  8.92185421e-02, -3.79770221e-01, -3.45448924e-01,\n",
       "       -9.23829951e-01, -8.69583866e-01,  4.63311785e-01,  1.10022584e+00,\n",
       "       -1.10704006e+00,  7.41126377e-01,  1.17624077e+00,  3.37776942e-01,\n",
       "       -5.47703047e-01, -6.60792249e-01,  7.38804131e-01, -1.06929132e+00,\n",
       "        9.35911102e-01,  1.52616558e+00, -1.49541638e-01,  1.47466197e+00,\n",
       "       -8.54397784e-01, -1.22053116e+00,  1.59053308e+00,  7.13029030e-01,\n",
       "        9.97194042e-02,  3.62206913e-01, -7.54861626e-02,  3.00195329e-01,\n",
       "        8.57517860e-01,  8.49655715e-01, -1.83869568e-01,  1.14980889e+00,\n",
       "        4.13559933e-01, -1.21499753e+00,  1.50208855e+00,  1.87405031e-01,\n",
       "       -1.35289413e+00, -2.14371207e+00, -6.47797707e-01,  7.83918047e-01,\n",
       "        5.13712711e-01, -6.37437719e-01, -1.13266229e+00, -1.02328881e+00,\n",
       "       -4.52733024e-01,  8.04161975e-01,  1.00600937e+00, -2.81732246e-02,\n",
       "       -7.94025679e-01, -1.20144145e+00, -1.78792352e+00, -6.13268248e-01,\n",
       "       -1.13068325e+00,  4.33384518e-01,  4.49245654e-01, -7.61816356e-03,\n",
       "        1.66927260e-01,  2.70809820e-01, -1.52317949e-01,  1.40692000e+00,\n",
       "        3.33729160e-01,  6.69193221e-01,  2.26159842e-01,  2.60556250e+00,\n",
       "        1.64919851e-01, -6.11576888e-01, -7.66019634e-01, -4.64811077e-01,\n",
       "        8.74950708e-01, -5.92018763e-01,  6.00351572e-01, -4.32413758e-02,\n",
       "       -1.07001720e+00, -1.14957124e+00, -9.31305794e-01, -1.81343872e-01,\n",
       "        2.70198268e-01, -1.26309951e+00, -1.77638722e+00,  7.40954672e-02,\n",
       "        3.82304391e-01, -1.03562013e+00, -7.01433354e-01, -8.46510327e-01,\n",
       "        7.21162079e-01,  8.54159913e-01, -1.11804077e+00,  2.53402684e-02,\n",
       "       -1.91273076e-01,  1.05490131e+00,  1.40061456e+00,  1.11413609e+00,\n",
       "        2.76385708e-01,  1.08958096e+00, -2.42884801e-01, -1.10047249e-01,\n",
       "        9.62134227e-01, -1.33418047e+00, -1.04693054e+00, -1.17759261e-01,\n",
       "       -1.33069842e+00, -1.35615517e+00, -2.77639595e-01,  3.72262530e-02,\n",
       "       -4.71670521e-02, -7.57533129e-01,  7.51532842e-01, -1.13184085e+00,\n",
       "       -2.39011177e-01,  2.39605516e-01, -4.39486973e-01, -1.34992487e+00,\n",
       "        5.68125695e-01,  6.14678593e-03,  4.25519864e-01, -1.24905599e+00,\n",
       "        7.64443622e-01,  7.25998691e-01, -5.04352079e-02,  6.97248524e-01,\n",
       "       -4.05969488e-01, -4.87666307e-01,  2.76066819e+00,  3.35854740e-01,\n",
       "        1.12668718e+00, -9.50141383e-01, -2.12413378e-01, -6.77433186e-01,\n",
       "        2.48067015e+00, -9.64087818e-01, -3.61662120e-01,  5.27299972e-01,\n",
       "        2.55940387e-01,  1.51681278e+00, -2.95249451e-01, -6.84704840e-01,\n",
       "       -2.27282225e-02,  2.54051155e-02,  1.34078999e-02, -8.03627873e-01,\n",
       "       -1.36328345e-01, -4.23637825e-01,  1.14563233e+00,  1.39341165e+00,\n",
       "       -1.23881417e-01,  5.17171188e-01,  2.97242101e-01,  1.35407800e+00,\n",
       "       -2.74517663e-01, -7.43880882e-01,  2.47043680e-01, -7.42529018e-01,\n",
       "       -1.38470785e+00,  3.51187016e-01,  1.75745032e-01,  1.07865787e+00,\n",
       "       -1.00702851e+00,  5.95304932e-01, -4.42211354e-01,  8.16530610e-02,\n",
       "       -9.40647330e-02, -4.27756424e-01,  5.89405979e-01,  1.80194311e+00,\n",
       "       -4.32923325e-01, -1.20291372e+00,  3.20140053e-01,  2.32754137e-01,\n",
       "        9.09107481e-01,  1.00807600e+00, -5.42598923e-02,  3.25461293e-01,\n",
       "       -1.59798305e+00,  8.21692874e-01,  6.30068769e-01,  6.16311561e-01,\n",
       "       -9.86616860e-01,  7.20600514e-02,  9.51778093e-01,  1.49264736e+00,\n",
       "       -5.82556966e-01, -3.16360268e-01,  9.60804107e-01,  1.05572791e+00,\n",
       "        4.05359659e-01, -2.41853623e-01, -2.59387149e-01, -1.16553725e+00,\n",
       "       -2.16986283e+00,  7.37242808e-01,  5.89752488e-02,  5.32890456e-01,\n",
       "        1.29753669e+00, -1.64187467e-01,  6.01629891e-02, -2.20875406e-01,\n",
       "        6.62666586e-02,  1.45945212e+00, -1.96783508e+00,  2.19794288e-01,\n",
       "        1.07054596e+00, -8.67555898e-01, -7.08823526e-01, -6.80014410e-01,\n",
       "       -1.62973416e+00, -1.93635151e+00,  8.87185916e-01, -7.56698224e-01,\n",
       "       -8.87645519e-02, -5.58710791e-01, -1.06028396e+00,  1.08733657e+00,\n",
       "       -7.53273698e-01,  1.06501954e+00, -2.04172663e-01,  6.17325795e-01,\n",
       "        2.18695448e+00,  4.54872092e-01, -9.44457108e-02, -1.31429540e+00,\n",
       "       -6.72919653e-01,  1.28054988e+00,  2.04892894e+00, -1.26990968e+00,\n",
       "       -6.14791246e-01,  1.52621061e-01,  7.20106432e-01, -7.94346283e-01,\n",
       "       -1.28766028e+00, -1.64065231e+00, -1.42352796e-01, -1.73903677e+00,\n",
       "       -1.31106674e+00,  7.04016114e-01, -1.12317638e+00, -1.13773038e-01,\n",
       "       -3.04510380e-01, -7.24605908e-01,  2.46283119e+00, -8.68202281e-01,\n",
       "        7.62812035e-01,  2.00547311e-01,  2.35225441e-01, -8.02231080e-01])"
      ]
     },
     "execution_count": 45,
     "metadata": {},
     "output_type": "execute_result"
    }
   ],
   "source": [
    "#quat-quat plot to determine if it is normally distributed\n",
    "#first, generate a normal data set. Not necessary as most libraries do this for us.\n",
    "#but this will show us how to do this manually\n",
    "\n",
    "#generate random but normally distributed data first\n",
    "sample_norm = np.random.normal(size=1000) #defaults to mean of 0 and std of 1\n",
    "#sns.distplot(sample_norm)\n",
    "sample_norm"
   ]
  },
  {
   "cell_type": "code",
   "execution_count": 49,
   "metadata": {},
   "outputs": [
    {
     "name": "stdout",
     "output_type": "stream",
     "text": [
      "[-2.5545138573989683, -2.3583458882527424, -2.3411370264670244, -2.338061382476589, -2.270719954829626, -2.2542879844038732, -2.2413872198235545, -2.1698628285296224, -2.148348177658662, -2.14371207084644, -2.1233801683340157, -2.11468394848517, -2.0839436778728695, -2.048640208399139, -2.047641554278812, -2.031752999504663, -2.029437804750803, -2.0204118992356386, -2.0144664351964936, -2.0051559916750517, -1.9905190462890872, -1.984808092512009, -1.9709863124736915, -1.967835079588467, -1.9655812830909127, -1.9363515122331159, -1.9054623875066818, -1.8816034518684492, -1.8015090298341256, -1.7904561128743508, -1.787923518253836, -1.781623706828108, -1.7791234681496637, -1.7763872175407425, -1.7748854361731579, -1.76927411581499, -1.7523834098017201, -1.7503500809150332, -1.7390367682051873, -1.712358830852667, -1.7122018015343436, -1.6877004652604204, -1.6725662552258065, -1.6678528994231092, -1.662702714251437, -1.6406523057628077, -1.6297341594798074, -1.627927749416486, -1.6220069639196966, -1.6217291299747092, -1.618349508929663, -1.6148042254777455, -1.613357972287618, -1.6010235249564473, -1.5979830470465073, -1.5813279159982494, -1.5580439680227927, -1.5425929033140011, -1.54153329063756, -1.540159874369751, -1.5276107829482737, -1.5080977997071445, -1.5022928333122447, -1.4951731855156765, -1.481067879113463, -1.4763728069723947, -1.469650863532465, -1.4688016056737443, -1.4399268716138098, -1.4381590918304499, -1.4376773391243434, -1.4287656468802548, -1.4240719258225794, -1.4106071583012652, -1.4049632082522312, -1.3955267254308372, -1.3927054161671046, -1.384707850362951, -1.370237788460776, -1.3678355600638494, -1.3595991068701532, -1.3561551701746266, -1.3528941337085325, -1.3514673986501418, -1.3499248748830157, -1.3445519081137685, -1.3398390271322451, -1.3341804725930846, -1.3306984184718553, -1.3264562091171934, -1.314295404428242, -1.3110667356961838, -1.2876602787050453, -1.2863727977604085, -1.2822855282375882, -1.2775955910137071, -1.2767149605507853, -1.2699096770669995, -1.2683804619777552, -1.2663437571943306, -1.2630995083073584, -1.249055987079246, -1.243213501446347, -1.2405606630039299, -1.2395565041631813, -1.236180295248794, -1.2338399361440475, -1.2283036924723942, -1.2274131330028326, -1.220531160558232, -1.2149975306970602, -1.212832643239443, -1.2094659130985619, -1.2050620389787523, -1.202913719160396, -1.201441450963172, -1.1752909297814238, -1.165537254758287, -1.1638787862037039, -1.1495712382577468, -1.132662287598117, -1.1318408525244512, -1.1306832491138608, -1.1231763808144204, -1.12037715395419, -1.1180407694004182, -1.1123792789270588, -1.108720948498046, -1.1070400642558533, -1.0935226220149197, -1.0930287739291593, -1.089686932953639, -1.0877102599700907, -1.0828217781895821, -1.071215472719928, -1.070017203269779, -1.0692913192410778, -1.0653097474443116, -1.0605205144149858, -1.0603152493041064, -1.0602839640479653, -1.0600980394397126, -1.05591594832075, -1.0469305357857261, -1.0364753859169282, -1.035620132804652, -1.023288805847733, -1.0231949434815812, -1.0229715838467213, -1.0221820249648776, -1.0220241083764818, -1.019675511489944, -1.007028511127948, -1.005439246831842, -1.0044952037499555, -1.0025264811291918, -1.000397247350422, -0.9974044631158396, -0.9891644578876881, -0.9875354808359709, -0.9866168595284587, -0.9832917824783585, -0.9828800286439318, -0.9823022406908754, -0.9709740824083272, -0.9655396192663281, -0.9640878178358399, -0.9632793916499589, -0.9612730559213032, -0.9576175301950346, -0.9557736851882144, -0.9528734448569552, -0.9501431495402375, -0.9501413834876858, -0.9313057936165806, -0.9287559047626823, -0.9238299513381819, -0.9223450291352189, -0.9185363757108457, -0.9173146188737372, -0.9124639156334983, -0.908168394950714, -0.8985691717960602, -0.8962032419710773, -0.8872259581436927, -0.8786563364792793, -0.8780751093601278, -0.8775662821026258, -0.872151686036933, -0.8695838655723938, -0.8682022806890508, -0.8681049830871, -0.867555897691981, -0.8675117564724993, -0.8634470549469122, -0.8623763690905529, -0.8560089646920115, -0.8543977838386766, -0.8501697899038942, -0.8499299474503414, -0.8494498246215473, -0.8465103273804175, -0.8372799914269046, -0.8290934587286605, -0.8262999854004983, -0.8250497938632989, -0.8166527851411515, -0.8160783411656776, -0.8065854395550028, -0.8050741202368975, -0.8036278726215693, -0.8022310796116192, -0.7992946380370672, -0.7957375995248509, -0.7943462829525787, -0.794025678945068, -0.7930027555856624, -0.7929755420148206, -0.7906163220907753, -0.7800611925375149, -0.77372631285174, -0.7727793589759845, -0.7660196335633763, -0.7644214246078223, -0.7593164502223384, -0.7575331292807872, -0.7566982241582958, -0.7532853462967184, -0.7532736978484212, -0.7456063361560484, -0.7453043621926159, -0.7438808821618257, -0.7425290183547019, -0.7413300919020012, -0.7399290699189154, -0.7395649021769868, -0.7378810993123308, -0.737558136571575, -0.7347375079519771, -0.7274566658154478, -0.7256170907798003, -0.7247931863992052, -0.7246059077412926, -0.7173230480993763, -0.7168869559040322, -0.7088235264720634, -0.7077979007506258, -0.7014333536528827, -0.6977792694654257, -0.6852317563584341, -0.6849493870608605, -0.6847048404128192, -0.6842067903380021, -0.6834859267666442, -0.6800144098357893, -0.6774331864215072, -0.6759256407011897, -0.6736665714840262, -0.6729196525031286, -0.6697328872740811, -0.6612946038609158, -0.6608201709641215, -0.6607922492581952, -0.6477977066141731, -0.645212049965076, -0.6391067686357749, -0.6374377190132893, -0.6326088405248377, -0.628291969138074, -0.6277429756491608, -0.6231550553870691, -0.6219451402626509, -0.6212646328185994, -0.6197856249040077, -0.6170638864857007, -0.614791245961175, -0.6132682483462603, -0.6131023835858214, -0.6115768878534664, -0.6073786096466517, -0.6046175018814436, -0.6020757169897285, -0.5920187625247991, -0.5855347623513532, -0.5828271924714223, -0.5825569663267125, -0.5741327498445388, -0.5722008869011647, -0.5679375283254519, -0.5655449901087876, -0.5587107912218662, -0.5537730683941362, -0.5495064313621623, -0.5488758528027674, -0.5479335753899274, -0.5477030472300034, -0.5353935846229193, -0.5323557081096486, -0.5281861406107237, -0.5236219540865147, -0.5194691001831611, -0.5186407149831582, -0.5146000911594732, -0.5069533838808788, -0.5034398274962923, -0.5011478014122913, -0.49960291879358076, -0.49903686504099304, -0.4989317731451941, -0.49858675512614764, -0.48766630662067445, -0.4860108186639797, -0.4816818812357537, -0.4771217451093007, -0.4736929974568689, -0.46481107740622585, -0.4555944627983085, -0.4527330241710432, -0.4505903037903967, -0.4426114466110714, -0.4422113544385653, -0.4419241690359396, -0.4394869727144193, -0.4387279905359095, -0.4368599728800623, -0.4344626152923875, -0.4329233249178627, -0.42879223927002913, -0.42775642357341426, -0.42769770370885685, -0.42363782495379054, -0.42109931263515726, -0.41798643474067126, -0.41760897588630935, -0.40596948796488563, -0.40416799652512386, -0.4001738658501527, -0.3930637614104398, -0.3879734668305699, -0.3841639189222511, -0.3833603834999724, -0.3797702207539947, -0.378702484907349, -0.37794804278641, -0.37481199881076915, -0.3707682678469076, -0.3643588499189996, -0.36178453215162537, -0.36166211972456686, -0.3615389134200023, -0.3595756214136312, -0.3584956310893959, -0.3583293300965802, -0.35770307070329094, -0.3516342612851955, -0.35139277111231626, -0.35016716464896924, -0.34544892427767304, -0.34492499899423174, -0.34417206870218436, -0.3383234860175463, -0.33790956993835625, -0.33139610757899923, -0.3304177504855012, -0.32825236876384567, -0.316360267564943, -0.3145389136819852, -0.3046958151762775, -0.3045103799246708, -0.3042010803371195, -0.3041806265063412, -0.3041616149255955, -0.29953582216835933, -0.29524945096982935, -0.2927599292088647, -0.2924880747519284, -0.29073275744916727, -0.2860893321601204, -0.2827154462610049, -0.2803604601952519, -0.27878872332630106, -0.2785919776288502, -0.2782855677423256, -0.2776395949376628, -0.2761230315958458, -0.27587366931342205, -0.27451766303067926, -0.2737988728687861, -0.26556927496740934, -0.2654653349884359, -0.25938714949320113, -0.25845505559170134, -0.25431346841476266, -0.24288480058972936, -0.2418536228775981, -0.24151524600145174, -0.23901117733990312, -0.23810852227726853, -0.23779353775555725, -0.2311823148094076, -0.23101772762052097, -0.22087540586136994, -0.21920521449737423, -0.21241337809780125, -0.21117286533285248, -0.21079972721823553, -0.2074792030572972, -0.2041726632602793, -0.20028465325258596, -0.19584218593022754, -0.1912730762866865, -0.18757327955991343, -0.18453037765475847, -0.1838695676330829, -0.18134387204970384, -0.17609991091725372, -0.17541399916794895, -0.16418746695838798, -0.1604409936314769, -0.1599757584562517, -0.1583448036281135, -0.15486672616732367, -0.15263087429247002, -0.15231794910886343, -0.15130036157095147, -0.14974332644948374, -0.1495416376985818, -0.14869051850835058, -0.1470682650671345, -0.14459613917582925, -0.14369947469723937, -0.1432369464561871, -0.1423527958105808, -0.13747632966623247, -0.13654236477107826, -0.13632834539940386, -0.12846130637599726, -0.12566380753948148, -0.12388141749580885, -0.12131787201124652, -0.12097745612346282, -0.12042953639061195, -0.11775926108843977, -0.1156412472835332, -0.113773037621684, -0.11246674681071625, -0.11064524122724574, -0.11056798260703145, -0.11051584572998015, -0.11004724937480909, -0.1084759064204019, -0.1050511127450652, -0.09930442339238375, -0.09835795670984666, -0.09444571082112722, -0.09406473299432236, -0.08876455187938763, -0.08588820020144032, -0.08324438058837218, -0.07653701775299465, -0.07548616259210673, -0.07504803626538623, -0.07126976431257456, -0.07120852470672924, -0.0707774781113813, -0.06741467902926337, -0.06633471377897918, -0.060440759558963005, -0.05995489834992412, -0.05425989232896232, -0.050435207868709614, -0.04716705206916084, -0.04674391809068272, -0.044768440051120795, -0.04324137577608577, -0.03878845884697785, -0.028173224634401476, -0.023827666585456736, -0.022728222482697513, -0.020050303436909257, -0.01432164727241986, -0.011846494220183882, -0.009187293448653888, -0.007788960631198284, -0.007618163560055558, -0.00747027318974005, -0.004427300137847584, -0.00244418269266599, 0.0003434420501735906, 0.0042944349049094535, 0.006146785929761248, 0.006520533528588639, 0.010669537737093518, 0.013407899897757697, 0.01931912412763186, 0.020481225161823127, 0.02534026835208804, 0.025405115509981837, 0.026577999130029305, 0.02752671820019367, 0.034474760880733125, 0.03722625297926195, 0.03728312950384295, 0.03753383748062789, 0.04064504517197729, 0.04193098179615789, 0.05029949033900045, 0.050313562189134506, 0.0519262118799711, 0.05396843168003424, 0.05735832297905692, 0.05897524879172177, 0.059056450618244154, 0.06016298912905163, 0.0662666586212335, 0.06735874018531607, 0.0686251981051852, 0.07141083480186106, 0.0720600514371059, 0.07221907409866007, 0.07409546724510724, 0.0745084734319958, 0.07602070696894433, 0.080354564665946, 0.08165306102159081, 0.08381360577120534, 0.0844365577214467, 0.085076132881418, 0.0881580616144783, 0.08921854209914161, 0.0959976861265035, 0.09971940416401263, 0.10110766587047984, 0.10114520455101604, 0.10133710881948342, 0.1118065637534447, 0.11186819084553096, 0.11251069808238622, 0.11559983278110568, 0.11878358296763251, 0.12474363773022039, 0.1261368681427261, 0.12761196583276424, 0.13441239777102282, 0.1352861792483147, 0.13671073879492274, 0.13898490907551236, 0.14017324239903634, 0.14066373504056046, 0.14971579960878037, 0.15262106070427403, 0.1611643110268216, 0.16491985133537634, 0.16692725990143759, 0.1678330435793411, 0.16874945821618456, 0.17026191042604852, 0.172018276808854, 0.17418798941723543, 0.17574503155595825, 0.1762837676100917, 0.18106191832233448, 0.18310504920120704, 0.18464651292720619, 0.18688071206977366, 0.18740503123608845, 0.19229714634231046, 0.19316696323656132, 0.20054731077671478, 0.20512735434694826, 0.21125405523137208, 0.21232712787938066, 0.21307638387360042, 0.21522014208537324, 0.2161339301792837, 0.2187050391552298, 0.21890605500904467, 0.21953156347458225, 0.21979428849460927, 0.22005581588023934, 0.22132942575781026, 0.22193564043003583, 0.22419843944089235, 0.22615984188069918, 0.2278145999798127, 0.22824871826977863, 0.2316198899769786, 0.23275413686681562, 0.23303481157478245, 0.2341929276737538, 0.23455360371908343, 0.23522544052878497, 0.2382005899316307, 0.23879524987279435, 0.23881555259440362, 0.23960551551115145, 0.24019722951702407, 0.24697449042723132, 0.24704368041464703, 0.25015180875077886, 0.25203977929864413, 0.25501733688706374, 0.2559403865475734, 0.2580487781079359, 0.25945300943080535, 0.26520161298278, 0.26569940192080305, 0.2680102234231128, 0.27019826776950817, 0.270809819738291, 0.27166777769480743, 0.2728396581473517, 0.2763857081232248, 0.28105234662359774, 0.282345695848481, 0.29004764841647435, 0.2912618720523044, 0.2972421005676888, 0.2996535976174212, 0.3001953286131237, 0.30198424524740597, 0.3020229785746994, 0.3050094980436287, 0.30806352437069584, 0.3125679897753341, 0.31491671410051386, 0.32014005283424735, 0.3209622657916299, 0.3223698620258996, 0.32413230742814864, 0.32546129290677384, 0.32690032118262136, 0.32694223744364753, 0.33179200973971523, 0.33372916044596207, 0.33585473982430536, 0.33777694207972925, 0.34252560958948164, 0.34265693826905663, 0.3511870161291595, 0.35412751721604735, 0.3561348112207433, 0.3565586595348098, 0.35686088492410345, 0.36093132889622215, 0.36220691336983196, 0.36483328279858024, 0.36521266856223555, 0.37682676179260366, 0.3800145250859015, 0.38230439109878994, 0.3838278300179955, 0.3852334628156395, 0.39072519548401685, 0.3917057203832279, 0.3971403777546604, 0.39758155816480567, 0.397934977776299, 0.3990810257449902, 0.4053596594883458, 0.4086930384166899, 0.40987888891312657, 0.41006403089654586, 0.4126717327716589, 0.41355969617913746, 0.4135599328176886, 0.4170922967489582, 0.4172630345135727, 0.4182420589346245, 0.4187590030205762, 0.4215976958893037, 0.4221916378854268, 0.42551986419104604, 0.4272179666293027, 0.4308662936447646, 0.4333845183090871, 0.4367303582405854, 0.43806001227204894, 0.43944414957939787, 0.43968991583027367, 0.44127197033229787, 0.4465262716423912, 0.4474439562792137, 0.44924565369949715, 0.4523063067647598, 0.45331820103913434, 0.4548720921793502, 0.4576258289762565, 0.46020175632346816, 0.46331178454272653, 0.4656739959162654, 0.46636302852985784, 0.4679041933894503, 0.4680004307852212, 0.47269052930576844, 0.4782034364429973, 0.4825443718950839, 0.5016941415847365, 0.5071885791639322, 0.5083569853973772, 0.5083957720799238, 0.5104989314435895, 0.5137127107562686, 0.5141390446578009, 0.5163174109960138, 0.5171711879354841, 0.5214885604789065, 0.5257342467424183, 0.5271204066159502, 0.5272999720068028, 0.532890455602851, 0.5403964475412739, 0.550214017734596, 0.5510259148554765, 0.5536743730547243, 0.5536789348276487, 0.5598503479596646, 0.5616556437328115, 0.5681256952076582, 0.5716586626202678, 0.5747446118226329, 0.5762575241993283, 0.5783682143476404, 0.5822206565879168, 0.5876958886873169, 0.5894059789247269, 0.59146557424209, 0.5953049315677327, 0.6003515721531526, 0.6016996412305815, 0.602931656771502, 0.6045715026375899, 0.6050584519763313, 0.606731280609246, 0.6152679067892132, 0.6163115606535912, 0.6173257945774091, 0.6202920952575898, 0.6210862490072365, 0.6217418407419822, 0.6217694794634174, 0.6285595286292843, 0.629415436344072, 0.6300687689308526, 0.6309280954980524, 0.6330778247798013, 0.6330800121670249, 0.6338938653638628, 0.6442458314622996, 0.6463230200491351, 0.6508437436740696, 0.6535950048491695, 0.6564317809477965, 0.6588677222423323, 0.6640993104491011, 0.6650207222668235, 0.6691932209058711, 0.6814120282725905, 0.6819785224452798, 0.6834983482174158, 0.6841612140804326, 0.6842209596947171, 0.6885233316298544, 0.6913544454569877, 0.6915751850487889, 0.6964833393795796, 0.697248524073233, 0.7040161137288055, 0.7065126404265704, 0.7079851652201762, 0.7106785822144742, 0.7130290302083911, 0.7148210528811998, 0.7158248675145084, 0.7198579731654546, 0.7198901901975119, 0.7201064322686587, 0.7211620786115465, 0.7259986909173729, 0.7301815246041449, 0.7315142692546307, 0.7365422665695511, 0.7372428079297014, 0.7375217649844805, 0.738804130782805, 0.741126376877305, 0.751532841793662, 0.7524644394456874, 0.7619427225898746, 0.7628120352352015, 0.7644436224494409, 0.7728132466303663, 0.7839180467077536, 0.7849493944796043, 0.7899620317537249, 0.791634498749348, 0.7974554758811636, 0.8021172043140851, 0.8036875725319022, 0.8041619750244178, 0.8066097002423239, 0.8073551886672728, 0.8113691336418659, 0.8123893517697982, 0.8196928092959059, 0.8206275875511836, 0.821692874257497, 0.8230441852915192, 0.8246543658915834, 0.8268682737697362, 0.829782447420549, 0.8361877252819396, 0.8425432891623875, 0.8456539901691388, 0.8496557153670989, 0.8499132437679837, 0.85415991341458, 0.8573673477076573, 0.8575178598833456, 0.8637517316546894, 0.8682776112208966, 0.8735499125282455, 0.8749507075290941, 0.8752415283680455, 0.8826557907747773, 0.8835835112289632, 0.8871859155829288, 0.8908783075690438, 0.8915317284608755, 0.8973797668243925, 0.8996053358823464, 0.9000268005295694, 0.9032709006795577, 0.9050431056055324, 0.9091074806041444, 0.90976680121068, 0.914962590915651, 0.915719823360732, 0.92767375401504, 0.9332973185136222, 0.9359111023385089, 0.9517780928901206, 0.9557621258728982, 0.9603589327871163, 0.9608041068713327, 0.9621342266101496, 0.9695078300619848, 0.9749430672548842, 0.990242317411533, 0.9914400329703522, 0.9935803016608131, 0.9957639863918373, 1.000834968712464, 1.0045817734946818, 1.0060093704846986, 1.0066625734490342, 1.007691749046032, 1.0080759994663182, 1.009471847441988, 1.0167030701267843, 1.020474676500899, 1.0223001992646845, 1.02287134098194, 1.0314518189185657, 1.031840624685839, 1.0412346217298782, 1.054901306463074, 1.0557279073583075, 1.065019536784488, 1.070545963193434, 1.0708755482913606, 1.0786578731795171, 1.0789154413971824, 1.0804066949612405, 1.0873365693793253, 1.08958096211903, 1.090174546757835, 1.091847632663392, 1.0959919406780128, 1.0978288866765034, 1.1002258354144718, 1.1025962092134731, 1.10549152189958, 1.114136091123741, 1.1152129245391493, 1.125850422370094, 1.1266871793204636, 1.1367648228473572, 1.1424174253693469, 1.1456323340852184, 1.1457178122231158, 1.1476457797948403, 1.1498088863459526, 1.1499272730874521, 1.150500995010402, 1.1538623038494626, 1.1656374912737484, 1.176240772550769, 1.1862910101036581, 1.192777419801077, 1.2016993335205226, 1.205995867925822, 1.2090663715225871, 1.2115414468291474, 1.2249029687888537, 1.2347958057239155, 1.2348918685363448, 1.2364157178208126, 1.2463612219501872, 1.2476831102316888, 1.26137085874044, 1.2658039574940498, 1.2729125267264276, 1.2768547819364253, 1.2805498765315122, 1.2975366876936076, 1.3067697172441959, 1.3191863006432718, 1.3335753859490997, 1.3358547806125098, 1.336945635195056, 1.3405768221349241, 1.3493164467595242, 1.3540779983927613, 1.356638512920152, 1.360982928998593, 1.365618292004451, 1.3922996081603234, 1.393411651243594, 1.4006145571019788, 1.4069200041533152, 1.4262783495248879, 1.4322045120474356, 1.4352537964711822, 1.4411412843096718, 1.455286830397122, 1.4594521159562908, 1.4746619728396013, 1.4782856197196084, 1.4836095270280303, 1.492647362886531, 1.4958138216297547, 1.5003942380154778, 1.5020885495906033, 1.5032983654492338, 1.5168127811713001, 1.526165584322304, 1.536410329345844, 1.5373061841353495, 1.5413791059550406, 1.5447775408944167, 1.5555869920102243, 1.5632910805965174, 1.5679630326615601, 1.572657552413252, 1.5865475169990029, 1.5905330840072311, 1.6559640067404826, 1.6676804404857244, 1.6710232358522092, 1.6841036341061761, 1.6882129234434327, 1.7066108447952102, 1.706885519953828, 1.7613099774509977, 1.7655367335473295, 1.7885616012639503, 1.8019431111525583, 1.8037761178167235, 1.809526786512459, 1.8259557640045994, 1.8492783639640586, 1.8569646818122636, 1.8621499286041034, 1.8650487253470545, 1.8971258131829394, 1.9802722157045936, 1.9882383468572642, 2.002817078090827, 2.035771848686161, 2.0489289380182414, 2.0515500323681786, 2.0824076636847515, 2.085564665918554, 2.133901923722666, 2.186954483327569, 2.3134800823544786, 2.340846826770685, 2.4085719628892712, 2.4159022422857825, 2.437402738796426, 2.462831187341703, 2.4806701502261843, 2.503246713274524, 2.5897026027245342, 2.6055625007397256, 2.608099118197525, 2.6600105821158273, 2.699545337949585, 2.760668186575922]\n"
     ]
    },
    {
     "data": {
      "text/plain": [
       "<matplotlib.axes._subplots.AxesSubplot at 0x1a20764240>"
      ]
     },
     "execution_count": 49,
     "metadata": {},
     "output_type": "execute_result"
    },
    {
     "data": {
      "image/png": "[encoded data removed]",
      "text/plain": [
       "<Figure size 432x288 with 1 Axes>"
      ]
     },
     "metadata": {},
     "output_type": "display_data"
    }
   ],
   "source": [
    "#to run the qq plot, sort the values, from lowest to highest\n",
    "a = sorted(sample_norm)\n",
    "b = sorted(sample)\n",
    "print(a)\n",
    "b\n",
    "sns.scatterplot(a,b) #pretty straight line...suggesting normal dist."
   ]
  },
  {
   "cell_type": "markdown",
   "metadata": {
    "colab_type": "text",
    "id": "FMhDKOFND0qY"
   },
   "source": [
    "## Student's T Test\n",
    "\n",
    ">Assuming data come from a Normal distribution, the t test provides a way to test whether the sample mean (that is the mean calculated from the data) is a good estimate of the population mean. \n",
    "\n",
    "The derivation of the t-distribution was first published in 1908 by William Gosset while working for the Guinness Brewery in Dublin. Due to proprietary issues, he had to publish under a pseudonym, and so he used the name Student.\n",
    "\n",
    "The t-distribution is essentially a distribution of means of normaly distributed data. When we use a t-statistic, we are  checking that a mean fails within a certain $\\alpha$ probability of the mean of means."
   ]
  },
  {
   "cell_type": "code",
   "execution_count": 58,
   "metadata": {
    "colab": {
     "base_uri": "https://localhost:8080/",
     "height": 4427
    },
    "colab_type": "code",
    "id": "fQ9rkLJmEbsk",
    "outputId": "937d6c40-d775-4016-9b69-70a82cc8b4c0"
   },
   "outputs": [],
   "source": [
    "t_df10 = np.random.standard_t(df=10, size=10)\n",
    "t_df100 = np.random.standard_t(df=100, size=100)\n",
    "t_df1000 = np.random.standard_t(df=1000, size=1000)"
   ]
  },
  {
   "cell_type": "code",
   "execution_count": 59,
   "metadata": {
    "colab": {
     "base_uri": "https://localhost:8080/",
     "height": 70
    },
    "colab_type": "code",
    "id": "RyNKPt_tJk86",
    "outputId": "db64f558-1945-4fef-f7d7-3184212d8237"
   },
   "outputs": [
    {
     "data": {
      "image/png": "[encoded data removed]",
      "text/plain": [
       "<Figure size 432x288 with 1 Axes>"
      ]
     },
     "metadata": {},
     "output_type": "display_data"
    }
   ],
   "source": [
    "sns.kdeplot(t_df10, color='r');\n",
    "sns.kdeplot(t_df100, color='y');\n",
    "sns.kdeplot(t_df1000, color='b');"
   ]
  },
  {
   "cell_type": "code",
   "execution_count": 54,
   "metadata": {
    "colab": {
     "base_uri": "https://localhost:8080/",
     "height": 70
    },
    "colab_type": "code",
    "id": "seQv5unnJvpM",
    "outputId": "b2f84397-b204-4864-84a1-2b29eb926bbf"
   },
   "outputs": [
    {
     "name": "stdout",
     "output_type": "stream",
     "text": [
      "t - distribution with 10 degrees of freedom\n",
      "------------------------------\n",
      "Mean: -0.5662711126999362\n",
      "Standard Deviation: 1.1275052143375808\n",
      "Variance: 1.271268008358434\n",
      "t - distribution with 100 degrees of freedom\n",
      "------------------------------\n",
      "Mean: -0.0795330190236767\n",
      "Standard Deviation: 1.06049329175301\n",
      "Variance: 1.1246460218531351\n",
      "t - distribution with 1000 degrees of freedom\n",
      "------------------------------\n",
      "Mean: -0.04246118427001148\n",
      "Standard Deviation: 0.9818815900385561\n",
      "Variance: 0.9640914568566432\n"
     ]
    }
   ],
   "source": [
    "i = 10\n",
    "for sample in [t_df10, t_df100, t_df1000]:\n",
    "    print(f\"t - distribution with {i} degrees of freedom\")\n",
    "    print(\"---\" * 10)\n",
    "    print(f\"Mean: {sample.mean()}\")\n",
    "    print(f\"Standard Deviation: {sample.std()}\")\n",
    "    print(f\"Variance: {sample.var()}\")\n",
    "    i = i*10"
   ]
  },
  {
   "cell_type": "markdown",
   "metadata": {
    "colab_type": "text",
    "id": "FOvEGMysLaE2"
   },
   "source": [
    "Why is it different from normal? To better reflect the tendencies of small data and situations with unknown population standard deviation. In other words, the normal distribution is still the nice pure ideal (thanks to the central limit theorem), but the t-distribution is much more useful in many real-world situations."
   ]
  },
  {
   "cell_type": "markdown",
   "metadata": {
    "colab_type": "text",
    "id": "1yx_QilAEC6o"
   },
   "source": [
    "## Live Lecture - let's perform and interpret a t-test\n",
    "\n",
    "We'll generate our own data, so we can know and alter the \"ground truth\" that the t-test should find. We will learn about p-values and how to interpret \"statistical significance\" based on the output of a hypothesis test. We will also dig a bit deeper into how the test statistic is calculated based on the sample error, and visually what it looks like to have 1 or 2 \"tailed\" t-tests."
   ]
  },
  {
   "cell_type": "code",
   "execution_count": 60,
   "metadata": {
    "colab": {},
    "colab_type": "code",
    "id": "BuysRPs-Ed0v"
   },
   "outputs": [],
   "source": [
    "# TODO - during class, but please help!\n",
    "\n",
    "from scipy.stats import ttest_ind, ttest_ind_from_stats, ttest_rel\n",
    "\n",
    "groupA = np.random.normal(180, 5, 1000)\n",
    "groupB = np.random.normal(178.5, 4.25, 800)\n"
   ]
  },
  {
   "cell_type": "code",
   "execution_count": 61,
   "metadata": {},
   "outputs": [
    {
     "data": {
      "text/plain": [
       "array([178.27408641, 175.08087814, 177.99676619, 178.25130025,\n",
       "       177.17640882, 185.17988528, 181.93688747, 187.5031645 ,\n",
       "       177.46897491, 172.44902283])"
      ]
     },
     "execution_count": 61,
     "metadata": {},
     "output_type": "execute_result"
    }
   ],
   "source": [
    "groupA[:10]"
   ]
  },
  {
   "cell_type": "code",
   "execution_count": 62,
   "metadata": {},
   "outputs": [
    {
     "data": {
      "text/plain": [
       "array([183.19194952, 178.82703594, 175.41681691, 183.21360539,\n",
       "       167.67433685, 179.16381091, 183.19465807, 177.07647535,\n",
       "       170.95028813, 180.98112378])"
      ]
     },
     "execution_count": 62,
     "metadata": {},
     "output_type": "execute_result"
    }
   ],
   "source": [
    "groupB[:10]"
   ]
  },
  {
   "cell_type": "code",
   "execution_count": 67,
   "metadata": {},
   "outputs": [
    {
     "name": "stdout",
     "output_type": "stream",
     "text": [
      "Mean: 179.90011248799885\n",
      "Standard Deviation: 5.0255648437292155\n",
      "Variance: 25.25630199852705\n",
      "----------------------------------------\n",
      "Mean: 178.36149070834014\n",
      "Standard Deviation: 4.410631360065936\n",
      "Variance: 19.453668994397084\n",
      "----------------------------------------\n"
     ]
    }
   ],
   "source": [
    "#get the basic information for each of the samples\n",
    "for sample in [groupA, groupB]:\n",
    "    print(f'Mean: {sample.mean()}')\n",
    "    print(f'Standard Deviation: {sample.std()}')\n",
    "    print(f'Variance: {sample.var()}')\n",
    "    print('----' * 10)"
   ]
  },
  {
   "cell_type": "code",
   "execution_count": 69,
   "metadata": {},
   "outputs": [
    {
     "name": "stdout",
     "output_type": "stream",
     "text": [
      "6.807740895934432 1.3466453262969068e-11\n"
     ]
    }
   ],
   "source": [
    "#now we will run the ttst for ind samples\n",
    "statistic, pvalue = ttest_ind(groupA, groupB)\n",
    "print(statistic, pvalue)\n",
    "#the greater the 'statistic' the more difference that exists between the two samples\n",
    "#pvalue is between 0 and 1\n",
    "#small pvalue suggests that there is not enough evidence to reject the null hypothesis\n",
    "#null hypothesis is some prior knowledge or belief about the distributions"
   ]
  },
  {
   "cell_type": "code",
   "execution_count": 71,
   "metadata": {},
   "outputs": [
    {
     "data": {
      "text/plain": [
       "True"
      ]
     },
     "execution_count": 71,
     "metadata": {},
     "output_type": "execute_result"
    }
   ],
   "source": [
    "pvalue < 0.05\n",
    "#if pvalue is big ---> you cannot reject null hypothesis\n",
    "#if pvalue is small ---> you can reject null hypothesis, in favor of an alternative hypothesis"
   ]
  },
  {
   "cell_type": "markdown",
   "metadata": {
    "colab_type": "text",
    "id": "wiq83guLcuAE"
   },
   "source": [
    "# Resources\n",
    "\n",
    "- https://homepage.divms.uiowa.edu/~mbognar/applets/t.html\n",
    "- https://rpsychologist.com/d3/tdist/\n",
    "- https://gallery.shinyapps.io/tdist/\n",
    "- https://en.wikipedia.org/wiki/Standard_deviation#Sample_standard_deviation_of_metabolic_rate_of_northern_fulmars\n",
    "- https://www.khanacademy.org/math/ap-statistics/two-sample-inference/two-sample-t-test-means/v/two-sample-t-test-for-difference-of-means"
   ]
  }
 ],
 "metadata": {
  "colab": {
   "name": "LS_DS_141_Statistics_Probability_and_Inference.ipynb",
   "provenance": [],
   "version": "0.3.2"
  },
  "kernelspec": {
   "display_name": "Python 3",
   "language": "python",
   "name": "python3"
  },
  "language_info": {
   "codemirror_mode": {
    "name": "ipython",
    "version": 3
   },
   "file_extension": ".py",
   "mimetype": "text/x-python",
   "name": "python",
   "nbconvert_exporter": "python",
   "pygments_lexer": "ipython3",
   "version": "3.7.3"
  }
 },
 "nbformat": 4,
 "nbformat_minor": 2
}
