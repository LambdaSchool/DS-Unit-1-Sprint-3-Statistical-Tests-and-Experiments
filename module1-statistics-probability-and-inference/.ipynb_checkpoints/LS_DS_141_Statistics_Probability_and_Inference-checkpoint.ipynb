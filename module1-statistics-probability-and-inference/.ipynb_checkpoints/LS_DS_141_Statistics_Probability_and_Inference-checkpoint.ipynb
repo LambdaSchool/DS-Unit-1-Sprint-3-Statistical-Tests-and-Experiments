{
 "cells": [
  {
   "cell_type": "markdown",
   "metadata": {
    "colab_type": "text",
    "id": "view-in-github"
   },
   "source": [
    "<a href=\"https://colab.research.google.com/github/Ruwai/DS-Unit-1-Sprint-4-Statistical-Tests-and-Experiments/blob/master/module1-statistics-probability-and-inference/LS_DS_141_Statistics_Probability_and_Inference.ipynb\" target=\"_parent\"><img src=\"https://colab.research.google.com/assets/colab-badge.svg\" alt=\"Open In Colab\"/></a>"
   ]
  },
  {
   "cell_type": "markdown",
   "metadata": {
    "colab_type": "text",
    "id": "eJGtmni-DezY"
   },
   "source": [
    "# Lambda School Data Science Module 141\n",
    "## Statistics, Probability, and Inference"
   ]
  },
  {
   "cell_type": "markdown",
   "metadata": {
    "colab_type": "text",
    "id": "FMhDKOFND0qY"
   },
   "source": [
    "## Prepare - examine what's available in SciPy\n",
    "\n",
    "As we delve into statistics, we'll be using more libraries - in particular the [stats package from SciPy](https://docs.scipy.org/doc/scipy/reference/tutorial/stats.html)."
   ]
  },
  {
   "cell_type": "code",
   "execution_count": 101,
   "metadata": {
    "colab": {
     "base_uri": "https://localhost:8080/",
     "height": 4233
    },
    "colab_type": "code",
    "id": "fQ9rkLJmEbsk",
    "outputId": "79882cdd-2a09-4536-8945-b0c7cf765b38"
   },
   "outputs": [
    {
     "data": {
      "text/plain": [
       "['__all__',\n",
       " '__builtins__',\n",
       " '__cached__',\n",
       " '__doc__',\n",
       " '__file__',\n",
       " '__loader__',\n",
       " '__name__',\n",
       " '__package__',\n",
       " '__path__',\n",
       " '__spec__',\n",
       " '_binned_statistic',\n",
       " '_constants',\n",
       " '_continuous_distns',\n",
       " '_discrete_distns',\n",
       " '_distn_infrastructure',\n",
       " '_distr_params',\n",
       " '_multivariate',\n",
       " '_stats',\n",
       " '_stats_mstats_common',\n",
       " '_tukeylambda_stats',\n",
       " 'absolute_import',\n",
       " 'alpha',\n",
       " 'anderson',\n",
       " 'anderson_ksamp',\n",
       " 'anglit',\n",
       " 'ansari',\n",
       " 'arcsine',\n",
       " 'argus',\n",
       " 'bartlett',\n",
       " 'bayes_mvs',\n",
       " 'bernoulli',\n",
       " 'beta',\n",
       " 'betaprime',\n",
       " 'binned_statistic',\n",
       " 'binned_statistic_2d',\n",
       " 'binned_statistic_dd',\n",
       " 'binom',\n",
       " 'binom_test',\n",
       " 'boltzmann',\n",
       " 'boxcox',\n",
       " 'boxcox_llf',\n",
       " 'boxcox_normmax',\n",
       " 'boxcox_normplot',\n",
       " 'bradford',\n",
       " 'burr',\n",
       " 'burr12',\n",
       " 'cauchy',\n",
       " 'chi',\n",
       " 'chi2',\n",
       " 'chi2_contingency',\n",
       " 'chisquare',\n",
       " 'circmean',\n",
       " 'circstd',\n",
       " 'circvar',\n",
       " 'combine_pvalues',\n",
       " 'contingency',\n",
       " 'cosine',\n",
       " 'crystalball',\n",
       " 'cumfreq',\n",
       " 'describe',\n",
       " 'dgamma',\n",
       " 'dirichlet',\n",
       " 'distributions',\n",
       " 'division',\n",
       " 'dlaplace',\n",
       " 'dweibull',\n",
       " 'energy_distance',\n",
       " 'entropy',\n",
       " 'erlang',\n",
       " 'expon',\n",
       " 'exponnorm',\n",
       " 'exponpow',\n",
       " 'exponweib',\n",
       " 'f',\n",
       " 'f_oneway',\n",
       " 'fatiguelife',\n",
       " 'find_repeats',\n",
       " 'fisher_exact',\n",
       " 'fisk',\n",
       " 'fligner',\n",
       " 'foldcauchy',\n",
       " 'foldnorm',\n",
       " 'frechet_l',\n",
       " 'frechet_r',\n",
       " 'friedmanchisquare',\n",
       " 'gamma',\n",
       " 'gausshyper',\n",
       " 'gaussian_kde',\n",
       " 'genexpon',\n",
       " 'genextreme',\n",
       " 'gengamma',\n",
       " 'genhalflogistic',\n",
       " 'genlogistic',\n",
       " 'gennorm',\n",
       " 'genpareto',\n",
       " 'geom',\n",
       " 'gilbrat',\n",
       " 'gmean',\n",
       " 'gompertz',\n",
       " 'gumbel_l',\n",
       " 'gumbel_r',\n",
       " 'halfcauchy',\n",
       " 'halfgennorm',\n",
       " 'halflogistic',\n",
       " 'halfnorm',\n",
       " 'hmean',\n",
       " 'hypergeom',\n",
       " 'hypsecant',\n",
       " 'invgamma',\n",
       " 'invgauss',\n",
       " 'invweibull',\n",
       " 'invwishart',\n",
       " 'iqr',\n",
       " 'itemfreq',\n",
       " 'jarque_bera',\n",
       " 'johnsonsb',\n",
       " 'johnsonsu',\n",
       " 'kappa3',\n",
       " 'kappa4',\n",
       " 'kde',\n",
       " 'kendalltau',\n",
       " 'kruskal',\n",
       " 'ks_2samp',\n",
       " 'ksone',\n",
       " 'kstat',\n",
       " 'kstatvar',\n",
       " 'kstest',\n",
       " 'kstwobign',\n",
       " 'kurtosis',\n",
       " 'kurtosistest',\n",
       " 'laplace',\n",
       " 'levene',\n",
       " 'levy',\n",
       " 'levy_l',\n",
       " 'levy_stable',\n",
       " 'linregress',\n",
       " 'loggamma',\n",
       " 'logistic',\n",
       " 'loglaplace',\n",
       " 'lognorm',\n",
       " 'logser',\n",
       " 'lomax',\n",
       " 'mannwhitneyu',\n",
       " 'matrix_normal',\n",
       " 'maxwell',\n",
       " 'median_test',\n",
       " 'mielke',\n",
       " 'mode',\n",
       " 'moment',\n",
       " 'mood',\n",
       " 'morestats',\n",
       " 'moyal',\n",
       " 'mstats',\n",
       " 'mstats_basic',\n",
       " 'mstats_extras',\n",
       " 'multinomial',\n",
       " 'multivariate_normal',\n",
       " 'mvn',\n",
       " 'mvsdist',\n",
       " 'nakagami',\n",
       " 'nbinom',\n",
       " 'ncf',\n",
       " 'nct',\n",
       " 'ncx2',\n",
       " 'norm',\n",
       " 'normaltest',\n",
       " 'norminvgauss',\n",
       " 'obrientransform',\n",
       " 'ortho_group',\n",
       " 'pareto',\n",
       " 'pearson3',\n",
       " 'pearsonr',\n",
       " 'percentileofscore',\n",
       " 'planck',\n",
       " 'pointbiserialr',\n",
       " 'poisson',\n",
       " 'power_divergence',\n",
       " 'powerlaw',\n",
       " 'powerlognorm',\n",
       " 'powernorm',\n",
       " 'ppcc_max',\n",
       " 'ppcc_plot',\n",
       " 'print_function',\n",
       " 'probplot',\n",
       " 'randint',\n",
       " 'random_correlation',\n",
       " 'rankdata',\n",
       " 'ranksums',\n",
       " 'rayleigh',\n",
       " 'rdist',\n",
       " 'recipinvgauss',\n",
       " 'reciprocal',\n",
       " 'relfreq',\n",
       " 'rice',\n",
       " 'rv_continuous',\n",
       " 'rv_discrete',\n",
       " 'rv_histogram',\n",
       " 'scoreatpercentile',\n",
       " 'sem',\n",
       " 'semicircular',\n",
       " 'shapiro',\n",
       " 'sigmaclip',\n",
       " 'skellam',\n",
       " 'skew',\n",
       " 'skewnorm',\n",
       " 'skewtest',\n",
       " 'spearmanr',\n",
       " 'special_ortho_group',\n",
       " 'statlib',\n",
       " 'stats',\n",
       " 't',\n",
       " 'test',\n",
       " 'theilslopes',\n",
       " 'tiecorrect',\n",
       " 'tmax',\n",
       " 'tmean',\n",
       " 'tmin',\n",
       " 'trapz',\n",
       " 'triang',\n",
       " 'trim1',\n",
       " 'trim_mean',\n",
       " 'trimboth',\n",
       " 'truncexpon',\n",
       " 'truncnorm',\n",
       " 'tsem',\n",
       " 'tstd',\n",
       " 'ttest_1samp',\n",
       " 'ttest_ind',\n",
       " 'ttest_ind_from_stats',\n",
       " 'ttest_rel',\n",
       " 'tukeylambda',\n",
       " 'tvar',\n",
       " 'uniform',\n",
       " 'unitary_group',\n",
       " 'variation',\n",
       " 'vonmises',\n",
       " 'vonmises_line',\n",
       " 'wald',\n",
       " 'wasserstein_distance',\n",
       " 'weibull_max',\n",
       " 'weibull_min',\n",
       " 'weightedtau',\n",
       " 'wilcoxon',\n",
       " 'wishart',\n",
       " 'wrapcauchy',\n",
       " 'zipf',\n",
       " 'zmap',\n",
       " 'zscore']"
      ]
     },
     "execution_count": 101,
     "metadata": {
      "tags": []
     },
     "output_type": "execute_result"
    }
   ],
   "source": [
    "from scipy import stats\n",
    "dir(stats)"
   ]
  },
  {
   "cell_type": "code",
   "execution_count": 102,
   "metadata": {
    "colab": {
     "base_uri": "https://localhost:8080/",
     "height": 68
    },
    "colab_type": "code",
    "id": "bxW4SG_gJGlZ",
    "outputId": "47452974-45e9-40c7-90d1-4e459eafae25"
   },
   "outputs": [
    {
     "name": "stdout",
     "output_type": "stream",
     "text": [
      "0.0\n",
      "1.0\n",
      "1.0\n"
     ]
    }
   ],
   "source": [
    "# As usual, lots of stuff here! There's our friend, the normal distribution\n",
    "norm = stats.norm()\n",
    "print(norm.mean())\n",
    "print(norm.std())\n",
    "print(norm.var())"
   ]
  },
  {
   "cell_type": "code",
   "execution_count": 103,
   "metadata": {
    "colab": {
     "base_uri": "https://localhost:8080/",
     "height": 68
    },
    "colab_type": "code",
    "id": "RyNKPt_tJk86",
    "outputId": "51b09bb4-27ec-471e-cf1a-4042d62a132f"
   },
   "outputs": [
    {
     "name": "stdout",
     "output_type": "stream",
     "text": [
      "0.0\n",
      "1.2909944487358056\n",
      "1.6666666666666667\n"
     ]
    }
   ],
   "source": [
    "# And a new friend - t\n",
    "t1 = stats.t(5)  # 5 is df \"shape\" parameter\n",
    "print(t1.mean())\n",
    "print(t1.std())\n",
    "print(t1.var())"
   ]
  },
  {
   "cell_type": "markdown",
   "metadata": {
    "colab_type": "text",
    "id": "SRn1zMuaKgxX"
   },
   "source": [
    "![T distribution PDF with different shape parameters](https://upload.wikimedia.org/wikipedia/commons/4/41/Student_t_pdf.svg)\n",
    "\n",
    "*(Picture from [Wikipedia](https://en.wikipedia.org/wiki/Student's_t-distribution#/media/File:Student_t_pdf.svg))*\n",
    "\n",
    "The t-distribution is \"normal-ish\" - the larger the parameter (which reflects its degrees of freedom - more input data/features will increase it), the closer to true normal."
   ]
  },
  {
   "cell_type": "code",
   "execution_count": 104,
   "metadata": {
    "colab": {
     "base_uri": "https://localhost:8080/",
     "height": 68
    },
    "colab_type": "code",
    "id": "seQv5unnJvpM",
    "outputId": "56267549-266d-4eb8-aeed-6d0ddd3b474a"
   },
   "outputs": [
    {
     "name": "stdout",
     "output_type": "stream",
     "text": [
      "0.0\n",
      "1.0350983390135313\n",
      "1.0714285714285714\n"
     ]
    }
   ],
   "source": [
    "t2 = stats.t(30)  # Will be closer to normal\n",
    "print(t2.mean())\n",
    "print(t2.std())\n",
    "print(t2.var())"
   ]
  },
  {
   "cell_type": "markdown",
   "metadata": {
    "colab_type": "text",
    "id": "FOvEGMysLaE2"
   },
   "source": [
    "Why is it different from normal? To better reflect the tendencies of small data and situations with unknown population standard deviation. In other words, the normal distribution is still the nice pure ideal in the limit (thanks to the central limit theorem), but the t-distribution is much more useful in many real-world situations.\n",
    "\n",
    "History sidenote - this is \"Student\":\n",
    "\n",
    "![William Sealy Gosset](https://upload.wikimedia.org/wikipedia/commons/4/42/William_Sealy_Gosset.jpg)\n",
    "\n",
    "*(Picture from [Wikipedia](https://en.wikipedia.org/wiki/File:William_Sealy_Gosset.jpg))*\n",
    "\n",
    "His real name is William Sealy Gosset, and he published under the pen name \"Student\" because he was not an academic. He was a brewer, working at Guinness and using trial and error to determine the best ways to yield barley. He's also proof that, even 100 years ago, you don't need official credentials to do real data science!"
   ]
  },
  {
   "cell_type": "markdown",
   "metadata": {
    "colab_type": "text",
    "id": "1yx_QilAEC6o"
   },
   "source": [
    "## Live Lecture - let's perform and interpret a t-test\n",
    "\n",
    "We'll generate our own data, so we can know and alter the \"ground truth\" that the t-test should find. We will learn about p-values and how to interpret \"statistical significance\" based on the output of a hypothesis test."
   ]
  },
  {
   "cell_type": "code",
   "execution_count": 105,
   "metadata": {
    "colab": {
     "base_uri": "https://localhost:8080/",
     "height": 34
    },
    "colab_type": "code",
    "id": "BuysRPs-Ed0v",
    "outputId": "05627e10-4060-4dbc-8a1c-7e30e66635b4"
   },
   "outputs": [
    {
     "name": "stdout",
     "output_type": "stream",
     "text": [
      "[0, 1, 1, 0, 0, 1, 1, 1, 0, 0, 1, 1, 0, 0, 1, 0, 1, 0, 1, 1, 1, 1, 1, 1, 0, 1, 1, 0, 1, 0]\n"
     ]
    }
   ],
   "source": [
    "# TODO - during class, but please help!\n",
    "import random\n",
    "random.seed(10)\n",
    "sample = [random.randint(0,1) for _ in range(30)]\n",
    "print(sample)"
   ]
  },
  {
   "cell_type": "code",
   "execution_count": 106,
   "metadata": {
    "colab": {
     "base_uri": "https://localhost:8080/",
     "height": 297
    },
    "colab_type": "code",
    "id": "dgcHBtm1xYqy",
    "outputId": "73a8f6f2-63fe-4d65-861c-53950dc26ace"
   },
   "outputs": [
    {
     "data": {
      "text/html": [
       "<div>\n",
       "<style scoped>\n",
       "    .dataframe tbody tr th:only-of-type {\n",
       "        vertical-align: middle;\n",
       "    }\n",
       "\n",
       "    .dataframe tbody tr th {\n",
       "        vertical-align: top;\n",
       "    }\n",
       "\n",
       "    .dataframe thead th {\n",
       "        text-align: right;\n",
       "    }\n",
       "</style>\n",
       "<table border=\"1\" class=\"dataframe\">\n",
       "  <thead>\n",
       "    <tr style=\"text-align: right;\">\n",
       "      <th></th>\n",
       "      <th>0</th>\n",
       "    </tr>\n",
       "  </thead>\n",
       "  <tbody>\n",
       "    <tr>\n",
       "      <th>count</th>\n",
       "      <td>30.000000</td>\n",
       "    </tr>\n",
       "    <tr>\n",
       "      <th>mean</th>\n",
       "      <td>0.600000</td>\n",
       "    </tr>\n",
       "    <tr>\n",
       "      <th>std</th>\n",
       "      <td>0.498273</td>\n",
       "    </tr>\n",
       "    <tr>\n",
       "      <th>min</th>\n",
       "      <td>0.000000</td>\n",
       "    </tr>\n",
       "    <tr>\n",
       "      <th>25%</th>\n",
       "      <td>0.000000</td>\n",
       "    </tr>\n",
       "    <tr>\n",
       "      <th>50%</th>\n",
       "      <td>1.000000</td>\n",
       "    </tr>\n",
       "    <tr>\n",
       "      <th>75%</th>\n",
       "      <td>1.000000</td>\n",
       "    </tr>\n",
       "    <tr>\n",
       "      <th>max</th>\n",
       "      <td>1.000000</td>\n",
       "    </tr>\n",
       "  </tbody>\n",
       "</table>\n",
       "</div>"
      ],
      "text/plain": [
       "               0\n",
       "count  30.000000\n",
       "mean    0.600000\n",
       "std     0.498273\n",
       "min     0.000000\n",
       "25%     0.000000\n",
       "50%     1.000000\n",
       "75%     1.000000\n",
       "max     1.000000"
      ]
     },
     "execution_count": 106,
     "metadata": {
      "tags": []
     },
     "output_type": "execute_result"
    }
   ],
   "source": [
    "import pandas as pd\n",
    "df = pd.DataFrame(sample)\n",
    "df.describe()"
   ]
  },
  {
   "cell_type": "code",
   "execution_count": 107,
   "metadata": {
    "colab": {
     "base_uri": "https://localhost:8080/",
     "height": 347
    },
    "colab_type": "code",
    "id": "-gkJV0MAxcei",
    "outputId": "57f42e7d-f3a6-41fb-8215-0d5c43b7075a"
   },
   "outputs": [
    {
     "data": {
      "image/png": "[encoded data removed]",
      "text/plain": [
       "<Figure size 576x396 with 1 Axes>"
      ]
     },
     "metadata": {
      "tags": []
     },
     "output_type": "display_data"
    }
   ],
   "source": [
    "df.plot.hist();"
   ]
  },
  {
   "cell_type": "code",
   "execution_count": 108,
   "metadata": {
    "colab": {
     "base_uri": "https://localhost:8080/",
     "height": 34
    },
    "colab_type": "code",
    "id": "9EuDoA8mxefk",
    "outputId": "6e34e8c1-a81f-4e70-8c50-6b6cbd34ce76"
   },
   "outputs": [
    {
     "data": {
      "text/plain": [
       "Ttest_1sampResult(statistic=1.0992421631894096, pvalue=0.2807046476465548)"
      ]
     },
     "execution_count": 108,
     "metadata": {
      "tags": []
     },
     "output_type": "execute_result"
    }
   ],
   "source": [
    "import scipy\n",
    "scipy.stats.ttest_1samp(df[0], 0.5)"
   ]
  },
  {
   "cell_type": "code",
   "execution_count": 109,
   "metadata": {
    "colab": {
     "base_uri": "https://localhost:8080/",
     "height": 34
    },
    "colab_type": "code",
    "id": "r0zs4qrYxk_K",
    "outputId": "a38880ba-7c39-419e-b23d-4b4c55cfd648"
   },
   "outputs": [
    {
     "data": {
      "text/plain": [
       "0.4982728791224399"
      ]
     },
     "execution_count": 109,
     "metadata": {
      "tags": []
     },
     "output_type": "execute_result"
    }
   ],
   "source": [
    "df[0].std()"
   ]
  },
  {
   "cell_type": "code",
   "execution_count": 110,
   "metadata": {
    "colab": {
     "base_uri": "https://localhost:8080/",
     "height": 34
    },
    "colab_type": "code",
    "id": "7--WMFWgxtVe",
    "outputId": "7dcfe62b-f146-4da6-acef-1a1c15ee2217"
   },
   "outputs": [
    {
     "data": {
      "text/plain": [
       "0.09097176522946843"
      ]
     },
     "execution_count": 110,
     "metadata": {
      "tags": []
     },
     "output_type": "execute_result"
    }
   ],
   "source": [
    "from math import sqrt\n",
    "df[0].std() / sqrt(30)"
   ]
  },
  {
   "cell_type": "code",
   "execution_count": 0,
   "metadata": {
    "colab": {},
    "colab_type": "code",
    "id": "So-D0FpPxxaF"
   },
   "outputs": [],
   "source": [
    "def std(sample, mean):\n",
    "  \n",
    "  std = 0\n",
    "  for obs in sample:\n",
    "    std += (obs - mean)**2\n",
    "    \n",
    "  return (std / (len(sample) - 1)) ** (1/2)\n",
    "\n",
    "def calculate_t_stat(sample, null_hyp):\n",
    "  \n",
    "  sample_mean = sum(sample) / len(sample)\n",
    "  sample_std = std(sample, sample_mean)\n",
    "  return (sample_mean - null_hyp) / (sample_std / (len(sample) ** (1/2)))"
   ]
  },
  {
   "cell_type": "code",
   "execution_count": 112,
   "metadata": {
    "colab": {
     "base_uri": "https://localhost:8080/",
     "height": 34
    },
    "colab_type": "code",
    "id": "gNiULYB7x3-1",
    "outputId": "900018dc-855a-4ebb-b03a-cb2696c95ed1"
   },
   "outputs": [
    {
     "data": {
      "text/plain": [
       "Ttest_1sampResult(statistic=2.364321853156195, pvalue=0.02207003200903075)"
      ]
     },
     "execution_count": 112,
     "metadata": {
      "tags": []
     },
     "output_type": "execute_result"
    }
   ],
   "source": [
    "# Let's test it\n",
    "survey_data = [0, 1, 0, 1, 0, 0, 0, 1, 1, 0, 0, 1, 1, 1, 1, 1, 1, 1,\n",
    "               0, 0, 1, 1, 1, 1, 1, 1, 1, 1, 1, 0, 1, 1, 1, 1, 1, 1,\n",
    "               1, 0, 1, 0, 1, 1, 0, 1, 0, 1, 1, 0, 0, 0]\n",
    "\n",
    "# Try this with both scipy and ours\n",
    "scipy.stats.ttest_1samp(survey_data, 0.5)"
   ]
  },
  {
   "cell_type": "code",
   "execution_count": 0,
   "metadata": {
    "colab": {},
    "colab_type": "code",
    "id": "jhQsSyRSUqbW"
   },
   "outputs": [],
   "source": []
  },
  {
   "cell_type": "code",
   "execution_count": 113,
   "metadata": {
    "colab": {
     "base_uri": "https://localhost:8080/",
     "height": 34
    },
    "colab_type": "code",
    "id": "8OyDCxcbz7N6",
    "outputId": "888f994e-63f0-4688-ace3-d9e6fea171aa"
   },
   "outputs": [
    {
     "data": {
      "text/plain": [
       "2.364321853156195"
      ]
     },
     "execution_count": 113,
     "metadata": {
      "tags": []
     },
     "output_type": "execute_result"
    }
   ],
   "source": [
    "calculate_t_stat(survey_data, 0.5)"
   ]
  },
  {
   "cell_type": "code",
   "execution_count": 114,
   "metadata": {
    "colab": {
     "base_uri": "https://localhost:8080/",
     "height": 51
    },
    "colab_type": "code",
    "id": "X4_qrRhUz_wK",
    "outputId": "91ef4142-50e4-4267-afb4-8ae5416b108c"
   },
   "outputs": [
    {
     "data": {
      "text/plain": [
       "0    0.478518\n",
       "dtype: float64"
      ]
     },
     "execution_count": 114,
     "metadata": {
      "tags": []
     },
     "output_type": "execute_result"
    }
   ],
   "source": [
    "pd.DataFrame(survey_data).std()"
   ]
  },
  {
   "cell_type": "code",
   "execution_count": 115,
   "metadata": {
    "colab": {
     "base_uri": "https://localhost:8080/",
     "height": 34
    },
    "colab_type": "code",
    "id": "hGZeGlBh0KEf",
    "outputId": "9b0ab132-1f1d-4f93-88ad-054cb97fc72b"
   },
   "outputs": [
    {
     "data": {
      "text/plain": [
       "0.9890062713232346"
      ]
     },
     "execution_count": 115,
     "metadata": {
      "tags": []
     },
     "output_type": "execute_result"
    }
   ],
   "source": [
    "t = scipy.stats.t(len(survey_data))\n",
    "t.cdf(calculate_t_stat(survey_data, 0.5))"
   ]
  },
  {
   "cell_type": "code",
   "execution_count": 116,
   "metadata": {
    "colab": {
     "base_uri": "https://localhost:8080/",
     "height": 85
    },
    "colab_type": "code",
    "id": "Hj7scjln_OmG",
    "outputId": "dcd6a02c-ab6d-4085-9e25-156b0663c617"
   },
   "outputs": [
    {
     "name": "stdout",
     "output_type": "stream",
     "text": [
      "Help on method cdf in module scipy.stats._distn_infrastructure:\n",
      "\n",
      "cdf(x) method of scipy.stats._distn_infrastructure.rv_frozen instance\n",
      "\n"
     ]
    }
   ],
   "source": [
    "help(t.cdf)"
   ]
  },
  {
   "cell_type": "code",
   "execution_count": 117,
   "metadata": {
    "colab": {
     "base_uri": "https://localhost:8080/",
     "height": 34
    },
    "colab_type": "code",
    "id": "FJrxYSmy_QYK",
    "outputId": "d6bbc245-dac9-47da-8ae3-c9a11b692062"
   },
   "outputs": [
    {
     "data": {
      "text/plain": [
       "0.021987457353530804"
      ]
     },
     "execution_count": 117,
     "metadata": {
      "tags": []
     },
     "output_type": "execute_result"
    }
   ],
   "source": [
    "2*(1-t.cdf(calculate_t_stat(survey_data, 0.5)))"
   ]
  },
  {
   "cell_type": "code",
   "execution_count": 0,
   "metadata": {
    "colab": {},
    "colab_type": "code",
    "id": "X6Fjsofx0NNQ"
   },
   "outputs": [],
   "source": []
  },
  {
   "cell_type": "markdown",
   "metadata": {
    "colab_type": "text",
    "id": "egXb7YpqEcZF"
   },
   "source": [
    "## Assignment - apply the t-test to real data\n",
    "\n",
    "Your assignment is to determine which issues have \"statistically significant\" differences between political parties in this [1980s congressional voting data](https://archive.ics.uci.edu/ml/datasets/Congressional+Voting+Records). The data consists of 435 instances (one for each congressperson), a class (democrat or republican), and 16 binary attributes (yes or no for voting for or against certain issues). Be aware - there are missing values!\n",
    "\n",
    "Your goals:\n",
    "\n",
    "1. Load and clean the data (or determine the best method to drop observations when running tests)\n",
    "2. Using hypothesis testing, find an issue that democrats support more than republicans with p < 0.01\n",
    "3. Using hypothesis testing, find an issue that republicans support more than democrats with p < 0.01\n",
    "4. Using hypothesis testing, find an issue where the difference between republicans and democrats has p > 0.1 (i.e. there may not be much of a difference)\n",
    "\n",
    "Note that this data will involve *2 sample* t-tests, because you're comparing averages across two groups (republicans and democrats) rather than a single group against a null hypothesis.\n",
    "\n",
    "Stretch goals:\n",
    "\n",
    "1. Refactor your code into functions so it's easy to rerun with arbitrary variables\n",
    "2. Apply hypothesis testing to your personal project data (for the purposes of this notebook you can type a summary of the hypothesis you formed and tested)"
   ]
  },
  {
   "cell_type": "code",
   "execution_count": 133,
   "metadata": {
    "colab": {
     "base_uri": "https://localhost:8080/",
     "height": 204
    },
    "colab_type": "code",
    "id": "nstrmCG-Ecyk",
    "outputId": "364974cc-88b5-4247-a8dd-379a6cba0470"
   },
   "outputs": [
    {
     "data": {
      "text/html": [
       "<div>\n",
       "<style scoped>\n",
       "    .dataframe tbody tr th:only-of-type {\n",
       "        vertical-align: middle;\n",
       "    }\n",
       "\n",
       "    .dataframe tbody tr th {\n",
       "        vertical-align: top;\n",
       "    }\n",
       "\n",
       "    .dataframe thead th {\n",
       "        text-align: right;\n",
       "    }\n",
       "</style>\n",
       "<table border=\"1\" class=\"dataframe\">\n",
       "  <thead>\n",
       "    <tr style=\"text-align: right;\">\n",
       "      <th></th>\n",
       "      <th>republican</th>\n",
       "      <th>n</th>\n",
       "      <th>y</th>\n",
       "      <th>n.1</th>\n",
       "      <th>y.1</th>\n",
       "      <th>y.2</th>\n",
       "      <th>y.3</th>\n",
       "      <th>n.2</th>\n",
       "      <th>n.3</th>\n",
       "      <th>n.4</th>\n",
       "      <th>y.4</th>\n",
       "      <th>?</th>\n",
       "      <th>y.5</th>\n",
       "      <th>y.6</th>\n",
       "      <th>y.7</th>\n",
       "      <th>n.5</th>\n",
       "      <th>y.8</th>\n",
       "    </tr>\n",
       "  </thead>\n",
       "  <tbody>\n",
       "    <tr>\n",
       "      <th>0</th>\n",
       "      <td>republican</td>\n",
       "      <td>n</td>\n",
       "      <td>y</td>\n",
       "      <td>n</td>\n",
       "      <td>y</td>\n",
       "      <td>y</td>\n",
       "      <td>y</td>\n",
       "      <td>n</td>\n",
       "      <td>n</td>\n",
       "      <td>n</td>\n",
       "      <td>n</td>\n",
       "      <td>n</td>\n",
       "      <td>y</td>\n",
       "      <td>y</td>\n",
       "      <td>y</td>\n",
       "      <td>n</td>\n",
       "      <td>?</td>\n",
       "    </tr>\n",
       "    <tr>\n",
       "      <th>1</th>\n",
       "      <td>democrat</td>\n",
       "      <td>?</td>\n",
       "      <td>y</td>\n",
       "      <td>y</td>\n",
       "      <td>?</td>\n",
       "      <td>y</td>\n",
       "      <td>y</td>\n",
       "      <td>n</td>\n",
       "      <td>n</td>\n",
       "      <td>n</td>\n",
       "      <td>n</td>\n",
       "      <td>y</td>\n",
       "      <td>n</td>\n",
       "      <td>y</td>\n",
       "      <td>y</td>\n",
       "      <td>n</td>\n",
       "      <td>n</td>\n",
       "    </tr>\n",
       "    <tr>\n",
       "      <th>2</th>\n",
       "      <td>democrat</td>\n",
       "      <td>n</td>\n",
       "      <td>y</td>\n",
       "      <td>y</td>\n",
       "      <td>n</td>\n",
       "      <td>?</td>\n",
       "      <td>y</td>\n",
       "      <td>n</td>\n",
       "      <td>n</td>\n",
       "      <td>n</td>\n",
       "      <td>n</td>\n",
       "      <td>y</td>\n",
       "      <td>n</td>\n",
       "      <td>y</td>\n",
       "      <td>n</td>\n",
       "      <td>n</td>\n",
       "      <td>y</td>\n",
       "    </tr>\n",
       "    <tr>\n",
       "      <th>3</th>\n",
       "      <td>democrat</td>\n",
       "      <td>y</td>\n",
       "      <td>y</td>\n",
       "      <td>y</td>\n",
       "      <td>n</td>\n",
       "      <td>y</td>\n",
       "      <td>y</td>\n",
       "      <td>n</td>\n",
       "      <td>n</td>\n",
       "      <td>n</td>\n",
       "      <td>n</td>\n",
       "      <td>y</td>\n",
       "      <td>?</td>\n",
       "      <td>y</td>\n",
       "      <td>y</td>\n",
       "      <td>y</td>\n",
       "      <td>y</td>\n",
       "    </tr>\n",
       "    <tr>\n",
       "      <th>4</th>\n",
       "      <td>democrat</td>\n",
       "      <td>n</td>\n",
       "      <td>y</td>\n",
       "      <td>y</td>\n",
       "      <td>n</td>\n",
       "      <td>y</td>\n",
       "      <td>y</td>\n",
       "      <td>n</td>\n",
       "      <td>n</td>\n",
       "      <td>n</td>\n",
       "      <td>n</td>\n",
       "      <td>n</td>\n",
       "      <td>n</td>\n",
       "      <td>y</td>\n",
       "      <td>y</td>\n",
       "      <td>y</td>\n",
       "      <td>y</td>\n",
       "    </tr>\n",
       "  </tbody>\n",
       "</table>\n",
       "</div>"
      ],
      "text/plain": [
       "   republican  n  y n.1 y.1 y.2 y.3 n.2 n.3 n.4 y.4  ? y.5 y.6 y.7 n.5 y.8\n",
       "0  republican  n  y   n   y   y   y   n   n   n   n  n   y   y   y   n   ?\n",
       "1    democrat  ?  y   y   ?   y   y   n   n   n   n  y   n   y   y   n   n\n",
       "2    democrat  n  y   y   n   ?   y   n   n   n   n  y   n   y   n   n   y\n",
       "3    democrat  y  y   y   n   y   y   n   n   n   n  y   ?   y   y   y   y\n",
       "4    democrat  n  y   y   n   y   y   n   n   n   n  n   n   y   y   y   y"
      ]
     },
     "execution_count": 133,
     "metadata": {
      "tags": []
     },
     "output_type": "execute_result"
    }
   ],
   "source": [
    "# TODO - your code here!\n",
    "\n",
    "url = 'https://archive.ics.uci.edu/ml/machine-learning-databases/voting-records/house-votes-84.data'\n",
    "\n",
    "df = pd.read_csv(url)\n",
    "df.head()"
   ]
  },
  {
   "cell_type": "code",
   "execution_count": 134,
   "metadata": {
    "colab": {
     "base_uri": "https://localhost:8080/",
     "height": 224
    },
    "colab_type": "code",
    "id": "zPGYSqYpCHCr",
    "outputId": "62be14ab-baf0-48dc-ad92-1fb848605c98"
   },
   "outputs": [
    {
     "data": {
      "text/html": [
       "<div>\n",
       "<style scoped>\n",
       "    .dataframe tbody tr th:only-of-type {\n",
       "        vertical-align: middle;\n",
       "    }\n",
       "\n",
       "    .dataframe tbody tr th {\n",
       "        vertical-align: top;\n",
       "    }\n",
       "\n",
       "    .dataframe thead th {\n",
       "        text-align: right;\n",
       "    }\n",
       "</style>\n",
       "<table border=\"1\" class=\"dataframe\">\n",
       "  <thead>\n",
       "    <tr style=\"text-align: right;\">\n",
       "      <th></th>\n",
       "      <th>political_status</th>\n",
       "      <th>handicapped_infants</th>\n",
       "      <th>water_project_cost_sharing</th>\n",
       "      <th>adoption_of_the_budget_resolution</th>\n",
       "      <th>physician_fee_freeze</th>\n",
       "      <th>el_salvador_aid</th>\n",
       "      <th>religious_groups_in_schools</th>\n",
       "      <th>anti_satellite_test_ban</th>\n",
       "      <th>aid_to_nicaraguan_contras</th>\n",
       "      <th>mx_missile</th>\n",
       "      <th>immigration</th>\n",
       "      <th>synfuels_corporation_cutback</th>\n",
       "      <th>education_spending</th>\n",
       "      <th>superfund_right_to_sue</th>\n",
       "      <th>crime</th>\n",
       "      <th>duty_free_exports</th>\n",
       "      <th>export_administration_act_south_africa</th>\n",
       "    </tr>\n",
       "  </thead>\n",
       "  <tbody>\n",
       "    <tr>\n",
       "      <th>0</th>\n",
       "      <td>republican</td>\n",
       "      <td>n</td>\n",
       "      <td>y</td>\n",
       "      <td>n</td>\n",
       "      <td>y</td>\n",
       "      <td>y</td>\n",
       "      <td>y</td>\n",
       "      <td>n</td>\n",
       "      <td>n</td>\n",
       "      <td>n</td>\n",
       "      <td>n</td>\n",
       "      <td>n</td>\n",
       "      <td>y</td>\n",
       "      <td>y</td>\n",
       "      <td>y</td>\n",
       "      <td>n</td>\n",
       "      <td>?</td>\n",
       "    </tr>\n",
       "    <tr>\n",
       "      <th>1</th>\n",
       "      <td>democrat</td>\n",
       "      <td>?</td>\n",
       "      <td>y</td>\n",
       "      <td>y</td>\n",
       "      <td>?</td>\n",
       "      <td>y</td>\n",
       "      <td>y</td>\n",
       "      <td>n</td>\n",
       "      <td>n</td>\n",
       "      <td>n</td>\n",
       "      <td>n</td>\n",
       "      <td>y</td>\n",
       "      <td>n</td>\n",
       "      <td>y</td>\n",
       "      <td>y</td>\n",
       "      <td>n</td>\n",
       "      <td>n</td>\n",
       "    </tr>\n",
       "    <tr>\n",
       "      <th>2</th>\n",
       "      <td>democrat</td>\n",
       "      <td>n</td>\n",
       "      <td>y</td>\n",
       "      <td>y</td>\n",
       "      <td>n</td>\n",
       "      <td>?</td>\n",
       "      <td>y</td>\n",
       "      <td>n</td>\n",
       "      <td>n</td>\n",
       "      <td>n</td>\n",
       "      <td>n</td>\n",
       "      <td>y</td>\n",
       "      <td>n</td>\n",
       "      <td>y</td>\n",
       "      <td>n</td>\n",
       "      <td>n</td>\n",
       "      <td>y</td>\n",
       "    </tr>\n",
       "    <tr>\n",
       "      <th>3</th>\n",
       "      <td>democrat</td>\n",
       "      <td>y</td>\n",
       "      <td>y</td>\n",
       "      <td>y</td>\n",
       "      <td>n</td>\n",
       "      <td>y</td>\n",
       "      <td>y</td>\n",
       "      <td>n</td>\n",
       "      <td>n</td>\n",
       "      <td>n</td>\n",
       "      <td>n</td>\n",
       "      <td>y</td>\n",
       "      <td>?</td>\n",
       "      <td>y</td>\n",
       "      <td>y</td>\n",
       "      <td>y</td>\n",
       "      <td>y</td>\n",
       "    </tr>\n",
       "    <tr>\n",
       "      <th>4</th>\n",
       "      <td>democrat</td>\n",
       "      <td>n</td>\n",
       "      <td>y</td>\n",
       "      <td>y</td>\n",
       "      <td>n</td>\n",
       "      <td>y</td>\n",
       "      <td>y</td>\n",
       "      <td>n</td>\n",
       "      <td>n</td>\n",
       "      <td>n</td>\n",
       "      <td>n</td>\n",
       "      <td>n</td>\n",
       "      <td>n</td>\n",
       "      <td>y</td>\n",
       "      <td>y</td>\n",
       "      <td>y</td>\n",
       "      <td>y</td>\n",
       "    </tr>\n",
       "  </tbody>\n",
       "</table>\n",
       "</div>"
      ],
      "text/plain": [
       "  political_status handicapped_infants water_project_cost_sharing  \\\n",
       "0       republican                   n                          y   \n",
       "1         democrat                   ?                          y   \n",
       "2         democrat                   n                          y   \n",
       "3         democrat                   y                          y   \n",
       "4         democrat                   n                          y   \n",
       "\n",
       "  adoption_of_the_budget_resolution physician_fee_freeze el_salvador_aid  \\\n",
       "0                                 n                    y               y   \n",
       "1                                 y                    ?               y   \n",
       "2                                 y                    n               ?   \n",
       "3                                 y                    n               y   \n",
       "4                                 y                    n               y   \n",
       "\n",
       "  religious_groups_in_schools anti_satellite_test_ban  \\\n",
       "0                           y                       n   \n",
       "1                           y                       n   \n",
       "2                           y                       n   \n",
       "3                           y                       n   \n",
       "4                           y                       n   \n",
       "\n",
       "  aid_to_nicaraguan_contras mx_missile immigration  \\\n",
       "0                         n          n           n   \n",
       "1                         n          n           n   \n",
       "2                         n          n           n   \n",
       "3                         n          n           n   \n",
       "4                         n          n           n   \n",
       "\n",
       "  synfuels_corporation_cutback education_spending superfund_right_to_sue  \\\n",
       "0                            n                  y                      y   \n",
       "1                            y                  n                      y   \n",
       "2                            y                  n                      y   \n",
       "3                            y                  ?                      y   \n",
       "4                            n                  n                      y   \n",
       "\n",
       "  crime duty_free_exports export_administration_act_south_africa  \n",
       "0     y                 n                                      ?  \n",
       "1     y                 n                                      n  \n",
       "2     n                 n                                      y  \n",
       "3     y                 y                                      y  \n",
       "4     y                 y                                      y  "
      ]
     },
     "execution_count": 134,
     "metadata": {
      "tags": []
     },
     "output_type": "execute_result"
    }
   ],
   "source": [
    "# renaming columns\n",
    "df = df.rename(columns={\n",
    "    'republican': 'political_status',\n",
    "    'n': 'handicapped_infants',\n",
    "    'y': 'water_project_cost_sharing',\n",
    "    'n.1': 'adoption_of_the_budget_resolution',\n",
    "    'y.1': 'physician_fee_freeze',\n",
    "    'y.2': 'el_salvador_aid',\n",
    "    'y.3': 'religious_groups_in_schools',\n",
    "    'n.2': 'anti_satellite_test_ban',\n",
    "    'n.3': 'aid_to_nicaraguan_contras',\n",
    "    'n.4': 'mx_missile',\n",
    "    'y.4': 'immigration',\n",
    "    '?': 'synfuels_corporation_cutback',\n",
    "    'y.5': 'education_spending', \n",
    "    'y.6': 'superfund_right_to_sue',\n",
    "    'y.7': 'crime',\n",
    "    'n.5': 'duty_free_exports',\n",
    "    'y.8': 'export_administration_act_south_africa'\n",
    "})\n",
    "\n",
    "df.head()"
   ]
  },
  {
   "cell_type": "code",
   "execution_count": 135,
   "metadata": {
    "colab": {
     "base_uri": "https://localhost:8080/",
     "height": 193
    },
    "colab_type": "code",
    "id": "iVIrYDZ5GOdw",
    "outputId": "f22b86c7-7ef6-4094-8232-4f9f4169a71f"
   },
   "outputs": [
    {
     "data": {
      "text/html": [
       "<div>\n",
       "<style scoped>\n",
       "    .dataframe tbody tr th:only-of-type {\n",
       "        vertical-align: middle;\n",
       "    }\n",
       "\n",
       "    .dataframe tbody tr th {\n",
       "        vertical-align: top;\n",
       "    }\n",
       "\n",
       "    .dataframe thead th {\n",
       "        text-align: right;\n",
       "    }\n",
       "</style>\n",
       "<table border=\"1\" class=\"dataframe\">\n",
       "  <thead>\n",
       "    <tr style=\"text-align: right;\">\n",
       "      <th></th>\n",
       "      <th>political_status</th>\n",
       "      <th>handicapped_infants</th>\n",
       "      <th>water_project_cost_sharing</th>\n",
       "      <th>adoption_of_the_budget_resolution</th>\n",
       "      <th>physician_fee_freeze</th>\n",
       "      <th>el_salvador_aid</th>\n",
       "      <th>religious_groups_in_schools</th>\n",
       "      <th>anti_satellite_test_ban</th>\n",
       "      <th>aid_to_nicaraguan_contras</th>\n",
       "      <th>mx_missile</th>\n",
       "      <th>immigration</th>\n",
       "      <th>synfuels_corporation_cutback</th>\n",
       "      <th>education_spending</th>\n",
       "      <th>superfund_right_to_sue</th>\n",
       "      <th>crime</th>\n",
       "      <th>duty_free_exports</th>\n",
       "      <th>export_administration_act_south_africa</th>\n",
       "    </tr>\n",
       "  </thead>\n",
       "  <tbody>\n",
       "    <tr>\n",
       "      <th>count</th>\n",
       "      <td>434</td>\n",
       "      <td>434</td>\n",
       "      <td>434</td>\n",
       "      <td>434</td>\n",
       "      <td>434</td>\n",
       "      <td>434</td>\n",
       "      <td>434</td>\n",
       "      <td>434</td>\n",
       "      <td>434</td>\n",
       "      <td>434</td>\n",
       "      <td>434</td>\n",
       "      <td>434</td>\n",
       "      <td>434</td>\n",
       "      <td>434</td>\n",
       "      <td>434</td>\n",
       "      <td>434</td>\n",
       "      <td>434</td>\n",
       "    </tr>\n",
       "    <tr>\n",
       "      <th>unique</th>\n",
       "      <td>2</td>\n",
       "      <td>3</td>\n",
       "      <td>3</td>\n",
       "      <td>3</td>\n",
       "      <td>3</td>\n",
       "      <td>3</td>\n",
       "      <td>3</td>\n",
       "      <td>3</td>\n",
       "      <td>3</td>\n",
       "      <td>3</td>\n",
       "      <td>3</td>\n",
       "      <td>3</td>\n",
       "      <td>3</td>\n",
       "      <td>3</td>\n",
       "      <td>3</td>\n",
       "      <td>3</td>\n",
       "      <td>3</td>\n",
       "    </tr>\n",
       "    <tr>\n",
       "      <th>top</th>\n",
       "      <td>democrat</td>\n",
       "      <td>n</td>\n",
       "      <td>y</td>\n",
       "      <td>y</td>\n",
       "      <td>n</td>\n",
       "      <td>y</td>\n",
       "      <td>y</td>\n",
       "      <td>y</td>\n",
       "      <td>y</td>\n",
       "      <td>y</td>\n",
       "      <td>y</td>\n",
       "      <td>n</td>\n",
       "      <td>n</td>\n",
       "      <td>y</td>\n",
       "      <td>y</td>\n",
       "      <td>n</td>\n",
       "      <td>y</td>\n",
       "    </tr>\n",
       "    <tr>\n",
       "      <th>freq</th>\n",
       "      <td>267</td>\n",
       "      <td>235</td>\n",
       "      <td>194</td>\n",
       "      <td>253</td>\n",
       "      <td>247</td>\n",
       "      <td>211</td>\n",
       "      <td>271</td>\n",
       "      <td>239</td>\n",
       "      <td>242</td>\n",
       "      <td>207</td>\n",
       "      <td>215</td>\n",
       "      <td>264</td>\n",
       "      <td>233</td>\n",
       "      <td>208</td>\n",
       "      <td>247</td>\n",
       "      <td>232</td>\n",
       "      <td>268</td>\n",
       "    </tr>\n",
       "  </tbody>\n",
       "</table>\n",
       "</div>"
      ],
      "text/plain": [
       "       political_status handicapped_infants water_project_cost_sharing  \\\n",
       "count               434                 434                        434   \n",
       "unique                2                   3                          3   \n",
       "top            democrat                   n                          y   \n",
       "freq                267                 235                        194   \n",
       "\n",
       "       adoption_of_the_budget_resolution physician_fee_freeze el_salvador_aid  \\\n",
       "count                                434                  434             434   \n",
       "unique                                 3                    3               3   \n",
       "top                                    y                    n               y   \n",
       "freq                                 253                  247             211   \n",
       "\n",
       "       religious_groups_in_schools anti_satellite_test_ban  \\\n",
       "count                          434                     434   \n",
       "unique                           3                       3   \n",
       "top                              y                       y   \n",
       "freq                           271                     239   \n",
       "\n",
       "       aid_to_nicaraguan_contras mx_missile immigration  \\\n",
       "count                        434        434         434   \n",
       "unique                         3          3           3   \n",
       "top                            y          y           y   \n",
       "freq                         242        207         215   \n",
       "\n",
       "       synfuels_corporation_cutback education_spending superfund_right_to_sue  \\\n",
       "count                           434                434                    434   \n",
       "unique                            3                  3                      3   \n",
       "top                               n                  n                      y   \n",
       "freq                            264                233                    208   \n",
       "\n",
       "       crime duty_free_exports export_administration_act_south_africa  \n",
       "count    434               434                                    434  \n",
       "unique     3                 3                                      3  \n",
       "top        y                 n                                      y  \n",
       "freq     247               232                                    268  "
      ]
     },
     "execution_count": 135,
     "metadata": {
      "tags": []
     },
     "output_type": "execute_result"
    }
   ],
   "source": [
    "df.describe()"
   ]
  },
  {
   "cell_type": "code",
   "execution_count": 136,
   "metadata": {
    "colab": {
     "base_uri": "https://localhost:8080/",
     "height": 323
    },
    "colab_type": "code",
    "id": "P_v207o9NR6s",
    "outputId": "02d786ee-7865-48cb-9a10-2c2c5fc9f860"
   },
   "outputs": [
    {
     "data": {
      "text/plain": [
       "political_status                          object\n",
       "handicapped_infants                       object\n",
       "water_project_cost_sharing                object\n",
       "adoption_of_the_budget_resolution         object\n",
       "physician_fee_freeze                      object\n",
       "el_salvador_aid                           object\n",
       "religious_groups_in_schools               object\n",
       "anti_satellite_test_ban                   object\n",
       "aid_to_nicaraguan_contras                 object\n",
       "mx_missile                                object\n",
       "immigration                               object\n",
       "synfuels_corporation_cutback              object\n",
       "education_spending                        object\n",
       "superfund_right_to_sue                    object\n",
       "crime                                     object\n",
       "duty_free_exports                         object\n",
       "export_administration_act_south_africa    object\n",
       "dtype: object"
      ]
     },
     "execution_count": 136,
     "metadata": {
      "tags": []
     },
     "output_type": "execute_result"
    }
   ],
   "source": [
    "df.dtypes"
   ]
  },
  {
   "cell_type": "code",
   "execution_count": 137,
   "metadata": {
    "colab": {
     "base_uri": "https://localhost:8080/",
     "height": 153
    },
    "colab_type": "code",
    "id": "kzQN6hMkOIUb",
    "outputId": "dab491a3-4b66-4475-c052-19b04082574c"
   },
   "outputs": [
    {
     "name": "stdout",
     "output_type": "stream",
     "text": [
      "Index(['political_status', 'handicapped_infants', 'water_project_cost_sharing',\n",
      "       'adoption_of_the_budget_resolution', 'physician_fee_freeze',\n",
      "       'el_salvador_aid', 'religious_groups_in_schools',\n",
      "       'anti_satellite_test_ban', 'aid_to_nicaraguan_contras', 'mx_missile',\n",
      "       'immigration', 'synfuels_corporation_cutback', 'education_spending',\n",
      "       'superfund_right_to_sue', 'crime', 'duty_free_exports',\n",
      "       'export_administration_act_south_africa'],\n",
      "      dtype='object')\n"
     ]
    }
   ],
   "source": [
    "print(df.columns)"
   ]
  },
  {
   "cell_type": "code",
   "execution_count": 138,
   "metadata": {
    "colab": {
     "base_uri": "https://localhost:8080/",
     "height": 224
    },
    "colab_type": "code",
    "id": "rFsvQYoN_W-N",
    "outputId": "5f7e3f5e-a629-4c5c-f5d2-df31a11a7017"
   },
   "outputs": [
    {
     "data": {
      "text/html": [
       "<div>\n",
       "<style scoped>\n",
       "    .dataframe tbody tr th:only-of-type {\n",
       "        vertical-align: middle;\n",
       "    }\n",
       "\n",
       "    .dataframe tbody tr th {\n",
       "        vertical-align: top;\n",
       "    }\n",
       "\n",
       "    .dataframe thead th {\n",
       "        text-align: right;\n",
       "    }\n",
       "</style>\n",
       "<table border=\"1\" class=\"dataframe\">\n",
       "  <thead>\n",
       "    <tr style=\"text-align: right;\">\n",
       "      <th></th>\n",
       "      <th>political_status</th>\n",
       "      <th>handicapped_infants</th>\n",
       "      <th>water_project_cost_sharing</th>\n",
       "      <th>adoption_of_the_budget_resolution</th>\n",
       "      <th>physician_fee_freeze</th>\n",
       "      <th>el_salvador_aid</th>\n",
       "      <th>religious_groups_in_schools</th>\n",
       "      <th>anti_satellite_test_ban</th>\n",
       "      <th>aid_to_nicaraguan_contras</th>\n",
       "      <th>mx_missile</th>\n",
       "      <th>immigration</th>\n",
       "      <th>synfuels_corporation_cutback</th>\n",
       "      <th>education_spending</th>\n",
       "      <th>superfund_right_to_sue</th>\n",
       "      <th>crime</th>\n",
       "      <th>duty_free_exports</th>\n",
       "      <th>export_administration_act_south_africa</th>\n",
       "    </tr>\n",
       "  </thead>\n",
       "  <tbody>\n",
       "    <tr>\n",
       "      <th>0</th>\n",
       "      <td>republican</td>\n",
       "      <td>0.0</td>\n",
       "      <td>1.0</td>\n",
       "      <td>0.0</td>\n",
       "      <td>1.0</td>\n",
       "      <td>1.0</td>\n",
       "      <td>1.0</td>\n",
       "      <td>0.0</td>\n",
       "      <td>0.0</td>\n",
       "      <td>0.0</td>\n",
       "      <td>0.0</td>\n",
       "      <td>0.0</td>\n",
       "      <td>1.0</td>\n",
       "      <td>1.0</td>\n",
       "      <td>1.0</td>\n",
       "      <td>0.0</td>\n",
       "      <td>NaN</td>\n",
       "    </tr>\n",
       "    <tr>\n",
       "      <th>1</th>\n",
       "      <td>democrat</td>\n",
       "      <td>NaN</td>\n",
       "      <td>1.0</td>\n",
       "      <td>1.0</td>\n",
       "      <td>NaN</td>\n",
       "      <td>1.0</td>\n",
       "      <td>1.0</td>\n",
       "      <td>0.0</td>\n",
       "      <td>0.0</td>\n",
       "      <td>0.0</td>\n",
       "      <td>0.0</td>\n",
       "      <td>1.0</td>\n",
       "      <td>0.0</td>\n",
       "      <td>1.0</td>\n",
       "      <td>1.0</td>\n",
       "      <td>0.0</td>\n",
       "      <td>0.0</td>\n",
       "    </tr>\n",
       "    <tr>\n",
       "      <th>2</th>\n",
       "      <td>democrat</td>\n",
       "      <td>0.0</td>\n",
       "      <td>1.0</td>\n",
       "      <td>1.0</td>\n",
       "      <td>0.0</td>\n",
       "      <td>NaN</td>\n",
       "      <td>1.0</td>\n",
       "      <td>0.0</td>\n",
       "      <td>0.0</td>\n",
       "      <td>0.0</td>\n",
       "      <td>0.0</td>\n",
       "      <td>1.0</td>\n",
       "      <td>0.0</td>\n",
       "      <td>1.0</td>\n",
       "      <td>0.0</td>\n",
       "      <td>0.0</td>\n",
       "      <td>1.0</td>\n",
       "    </tr>\n",
       "    <tr>\n",
       "      <th>3</th>\n",
       "      <td>democrat</td>\n",
       "      <td>1.0</td>\n",
       "      <td>1.0</td>\n",
       "      <td>1.0</td>\n",
       "      <td>0.0</td>\n",
       "      <td>1.0</td>\n",
       "      <td>1.0</td>\n",
       "      <td>0.0</td>\n",
       "      <td>0.0</td>\n",
       "      <td>0.0</td>\n",
       "      <td>0.0</td>\n",
       "      <td>1.0</td>\n",
       "      <td>NaN</td>\n",
       "      <td>1.0</td>\n",
       "      <td>1.0</td>\n",
       "      <td>1.0</td>\n",
       "      <td>1.0</td>\n",
       "    </tr>\n",
       "    <tr>\n",
       "      <th>4</th>\n",
       "      <td>democrat</td>\n",
       "      <td>0.0</td>\n",
       "      <td>1.0</td>\n",
       "      <td>1.0</td>\n",
       "      <td>0.0</td>\n",
       "      <td>1.0</td>\n",
       "      <td>1.0</td>\n",
       "      <td>0.0</td>\n",
       "      <td>0.0</td>\n",
       "      <td>0.0</td>\n",
       "      <td>0.0</td>\n",
       "      <td>0.0</td>\n",
       "      <td>0.0</td>\n",
       "      <td>1.0</td>\n",
       "      <td>1.0</td>\n",
       "      <td>1.0</td>\n",
       "      <td>1.0</td>\n",
       "    </tr>\n",
       "  </tbody>\n",
       "</table>\n",
       "</div>"
      ],
      "text/plain": [
       "  political_status  handicapped_infants  water_project_cost_sharing  \\\n",
       "0       republican                  0.0                         1.0   \n",
       "1         democrat                  NaN                         1.0   \n",
       "2         democrat                  0.0                         1.0   \n",
       "3         democrat                  1.0                         1.0   \n",
       "4         democrat                  0.0                         1.0   \n",
       "\n",
       "   adoption_of_the_budget_resolution  physician_fee_freeze  el_salvador_aid  \\\n",
       "0                                0.0                   1.0              1.0   \n",
       "1                                1.0                   NaN              1.0   \n",
       "2                                1.0                   0.0              NaN   \n",
       "3                                1.0                   0.0              1.0   \n",
       "4                                1.0                   0.0              1.0   \n",
       "\n",
       "   religious_groups_in_schools  anti_satellite_test_ban  \\\n",
       "0                          1.0                      0.0   \n",
       "1                          1.0                      0.0   \n",
       "2                          1.0                      0.0   \n",
       "3                          1.0                      0.0   \n",
       "4                          1.0                      0.0   \n",
       "\n",
       "   aid_to_nicaraguan_contras  mx_missile  immigration  \\\n",
       "0                        0.0         0.0          0.0   \n",
       "1                        0.0         0.0          0.0   \n",
       "2                        0.0         0.0          0.0   \n",
       "3                        0.0         0.0          0.0   \n",
       "4                        0.0         0.0          0.0   \n",
       "\n",
       "   synfuels_corporation_cutback  education_spending  superfund_right_to_sue  \\\n",
       "0                           0.0                 1.0                     1.0   \n",
       "1                           1.0                 0.0                     1.0   \n",
       "2                           1.0                 0.0                     1.0   \n",
       "3                           1.0                 NaN                     1.0   \n",
       "4                           0.0                 0.0                     1.0   \n",
       "\n",
       "   crime  duty_free_exports  export_administration_act_south_africa  \n",
       "0    1.0                0.0                                     NaN  \n",
       "1    1.0                0.0                                     0.0  \n",
       "2    0.0                0.0                                     1.0  \n",
       "3    1.0                1.0                                     1.0  \n",
       "4    1.0                1.0                                     1.0  "
      ]
     },
     "execution_count": 138,
     "metadata": {
      "tags": []
     },
     "output_type": "execute_result"
    }
   ],
   "source": [
    "booleans = {'n': 0, 'y': 1}\n",
    "\n",
    "columns = ['handicapped_infants', 'water_project_cost_sharing',\n",
    "       'adoption_of_the_budget_resolution', 'physician_fee_freeze',\n",
    "       'el_salvador_aid', 'religious_groups_in_schools',\n",
    "       'anti_satellite_test_ban', 'aid_to_nicaraguan_contras', 'mx_missile',\n",
    "       'immigration', 'synfuels_corporation_cutback', 'education_spending',\n",
    "       'superfund_right_to_sue', 'crime', 'duty_free_exports',\n",
    "       'export_administration_act_south_africa']\n",
    "\n",
    "## i think there would be a more efficient way to do this... but i don't know how to do it :(\n",
    "df['handicapped_infants'] = df['handicapped_infants'].map(booleans)\n",
    "df['water_project_cost_sharing'] = df['water_project_cost_sharing'].map(booleans)\n",
    "df['adoption_of_the_budget_resolution'] = df['adoption_of_the_budget_resolution'].map(booleans)\n",
    "df['physician_fee_freeze'] = df['physician_fee_freeze'].map(booleans)\n",
    "df['el_salvador_aid'] = df['el_salvador_aid'].map(booleans)\n",
    "df['religious_groups_in_schools'] = df['religious_groups_in_schools'].map(booleans)\n",
    "df['anti_satellite_test_ban'] = df['anti_satellite_test_ban'].map(booleans)\n",
    "df['aid_to_nicaraguan_contras'] = df['aid_to_nicaraguan_contras'].map(booleans)\n",
    "df['mx_missile'] = df['mx_missile'].map(booleans)\n",
    "df['immigration'] = df['immigration'].map(booleans)\n",
    "df['synfuels_corporation_cutback'] = df['synfuels_corporation_cutback'].map(booleans)\n",
    "df['education_spending'] = df['education_spending'].map(booleans)\n",
    "df['superfund_right_to_sue'] = df['superfund_right_to_sue'].map(booleans)\n",
    "df['crime'] = df['crime'].map(booleans)\n",
    "df['duty_free_exports'] = df['duty_free_exports'].map(booleans)\n",
    "df['export_administration_act_south_africa'] = df['export_administration_act_south_africa'].map(booleans)\n",
    "\n",
    "df.head()"
   ]
  },
  {
   "cell_type": "code",
   "execution_count": 139,
   "metadata": {
    "colab": {
     "base_uri": "https://localhost:8080/",
     "height": 317
    },
    "colab_type": "code",
    "id": "gLzFfpvSQvB1",
    "outputId": "c057139e-f580-46a9-bf93-d4d58ae8c9e2"
   },
   "outputs": [
    {
     "data": {
      "text/html": [
       "<div>\n",
       "<style scoped>\n",
       "    .dataframe tbody tr th:only-of-type {\n",
       "        vertical-align: middle;\n",
       "    }\n",
       "\n",
       "    .dataframe tbody tr th {\n",
       "        vertical-align: top;\n",
       "    }\n",
       "\n",
       "    .dataframe thead th {\n",
       "        text-align: right;\n",
       "    }\n",
       "</style>\n",
       "<table border=\"1\" class=\"dataframe\">\n",
       "  <thead>\n",
       "    <tr style=\"text-align: right;\">\n",
       "      <th></th>\n",
       "      <th>handicapped_infants</th>\n",
       "      <th>water_project_cost_sharing</th>\n",
       "      <th>adoption_of_the_budget_resolution</th>\n",
       "      <th>physician_fee_freeze</th>\n",
       "      <th>el_salvador_aid</th>\n",
       "      <th>religious_groups_in_schools</th>\n",
       "      <th>anti_satellite_test_ban</th>\n",
       "      <th>aid_to_nicaraguan_contras</th>\n",
       "      <th>mx_missile</th>\n",
       "      <th>immigration</th>\n",
       "      <th>synfuels_corporation_cutback</th>\n",
       "      <th>education_spending</th>\n",
       "      <th>superfund_right_to_sue</th>\n",
       "      <th>crime</th>\n",
       "      <th>duty_free_exports</th>\n",
       "      <th>export_administration_act_south_africa</th>\n",
       "    </tr>\n",
       "  </thead>\n",
       "  <tbody>\n",
       "    <tr>\n",
       "      <th>count</th>\n",
       "      <td>422.000000</td>\n",
       "      <td>386.000000</td>\n",
       "      <td>423.000000</td>\n",
       "      <td>423.000000</td>\n",
       "      <td>419.000000</td>\n",
       "      <td>423.000000</td>\n",
       "      <td>420.000000</td>\n",
       "      <td>419.000000</td>\n",
       "      <td>412.000000</td>\n",
       "      <td>427.000000</td>\n",
       "      <td>414.000000</td>\n",
       "      <td>403.000000</td>\n",
       "      <td>409.000000</td>\n",
       "      <td>417.000000</td>\n",
       "      <td>406.000000</td>\n",
       "      <td>330.000000</td>\n",
       "    </tr>\n",
       "    <tr>\n",
       "      <th>mean</th>\n",
       "      <td>0.443128</td>\n",
       "      <td>0.502591</td>\n",
       "      <td>0.598109</td>\n",
       "      <td>0.416076</td>\n",
       "      <td>0.503580</td>\n",
       "      <td>0.640662</td>\n",
       "      <td>0.569048</td>\n",
       "      <td>0.577566</td>\n",
       "      <td>0.502427</td>\n",
       "      <td>0.503513</td>\n",
       "      <td>0.362319</td>\n",
       "      <td>0.421836</td>\n",
       "      <td>0.508557</td>\n",
       "      <td>0.592326</td>\n",
       "      <td>0.428571</td>\n",
       "      <td>0.812121</td>\n",
       "    </tr>\n",
       "    <tr>\n",
       "      <th>std</th>\n",
       "      <td>0.497345</td>\n",
       "      <td>0.500642</td>\n",
       "      <td>0.490861</td>\n",
       "      <td>0.493490</td>\n",
       "      <td>0.500585</td>\n",
       "      <td>0.480375</td>\n",
       "      <td>0.495800</td>\n",
       "      <td>0.494537</td>\n",
       "      <td>0.500602</td>\n",
       "      <td>0.500574</td>\n",
       "      <td>0.481252</td>\n",
       "      <td>0.494466</td>\n",
       "      <td>0.500539</td>\n",
       "      <td>0.491992</td>\n",
       "      <td>0.495482</td>\n",
       "      <td>0.391209</td>\n",
       "    </tr>\n",
       "    <tr>\n",
       "      <th>min</th>\n",
       "      <td>0.000000</td>\n",
       "      <td>0.000000</td>\n",
       "      <td>0.000000</td>\n",
       "      <td>0.000000</td>\n",
       "      <td>0.000000</td>\n",
       "      <td>0.000000</td>\n",
       "      <td>0.000000</td>\n",
       "      <td>0.000000</td>\n",
       "      <td>0.000000</td>\n",
       "      <td>0.000000</td>\n",
       "      <td>0.000000</td>\n",
       "      <td>0.000000</td>\n",
       "      <td>0.000000</td>\n",
       "      <td>0.000000</td>\n",
       "      <td>0.000000</td>\n",
       "      <td>0.000000</td>\n",
       "    </tr>\n",
       "    <tr>\n",
       "      <th>25%</th>\n",
       "      <td>0.000000</td>\n",
       "      <td>0.000000</td>\n",
       "      <td>0.000000</td>\n",
       "      <td>0.000000</td>\n",
       "      <td>0.000000</td>\n",
       "      <td>0.000000</td>\n",
       "      <td>0.000000</td>\n",
       "      <td>0.000000</td>\n",
       "      <td>0.000000</td>\n",
       "      <td>0.000000</td>\n",
       "      <td>0.000000</td>\n",
       "      <td>0.000000</td>\n",
       "      <td>0.000000</td>\n",
       "      <td>0.000000</td>\n",
       "      <td>0.000000</td>\n",
       "      <td>1.000000</td>\n",
       "    </tr>\n",
       "    <tr>\n",
       "      <th>50%</th>\n",
       "      <td>0.000000</td>\n",
       "      <td>1.000000</td>\n",
       "      <td>1.000000</td>\n",
       "      <td>0.000000</td>\n",
       "      <td>1.000000</td>\n",
       "      <td>1.000000</td>\n",
       "      <td>1.000000</td>\n",
       "      <td>1.000000</td>\n",
       "      <td>1.000000</td>\n",
       "      <td>1.000000</td>\n",
       "      <td>0.000000</td>\n",
       "      <td>0.000000</td>\n",
       "      <td>1.000000</td>\n",
       "      <td>1.000000</td>\n",
       "      <td>0.000000</td>\n",
       "      <td>1.000000</td>\n",
       "    </tr>\n",
       "    <tr>\n",
       "      <th>75%</th>\n",
       "      <td>1.000000</td>\n",
       "      <td>1.000000</td>\n",
       "      <td>1.000000</td>\n",
       "      <td>1.000000</td>\n",
       "      <td>1.000000</td>\n",
       "      <td>1.000000</td>\n",
       "      <td>1.000000</td>\n",
       "      <td>1.000000</td>\n",
       "      <td>1.000000</td>\n",
       "      <td>1.000000</td>\n",
       "      <td>1.000000</td>\n",
       "      <td>1.000000</td>\n",
       "      <td>1.000000</td>\n",
       "      <td>1.000000</td>\n",
       "      <td>1.000000</td>\n",
       "      <td>1.000000</td>\n",
       "    </tr>\n",
       "    <tr>\n",
       "      <th>max</th>\n",
       "      <td>1.000000</td>\n",
       "      <td>1.000000</td>\n",
       "      <td>1.000000</td>\n",
       "      <td>1.000000</td>\n",
       "      <td>1.000000</td>\n",
       "      <td>1.000000</td>\n",
       "      <td>1.000000</td>\n",
       "      <td>1.000000</td>\n",
       "      <td>1.000000</td>\n",
       "      <td>1.000000</td>\n",
       "      <td>1.000000</td>\n",
       "      <td>1.000000</td>\n",
       "      <td>1.000000</td>\n",
       "      <td>1.000000</td>\n",
       "      <td>1.000000</td>\n",
       "      <td>1.000000</td>\n",
       "    </tr>\n",
       "  </tbody>\n",
       "</table>\n",
       "</div>"
      ],
      "text/plain": [
       "       handicapped_infants  water_project_cost_sharing  \\\n",
       "count           422.000000                  386.000000   \n",
       "mean              0.443128                    0.502591   \n",
       "std               0.497345                    0.500642   \n",
       "min               0.000000                    0.000000   \n",
       "25%               0.000000                    0.000000   \n",
       "50%               0.000000                    1.000000   \n",
       "75%               1.000000                    1.000000   \n",
       "max               1.000000                    1.000000   \n",
       "\n",
       "       adoption_of_the_budget_resolution  physician_fee_freeze  \\\n",
       "count                         423.000000            423.000000   \n",
       "mean                            0.598109              0.416076   \n",
       "std                             0.490861              0.493490   \n",
       "min                             0.000000              0.000000   \n",
       "25%                             0.000000              0.000000   \n",
       "50%                             1.000000              0.000000   \n",
       "75%                             1.000000              1.000000   \n",
       "max                             1.000000              1.000000   \n",
       "\n",
       "       el_salvador_aid  religious_groups_in_schools  anti_satellite_test_ban  \\\n",
       "count       419.000000                   423.000000               420.000000   \n",
       "mean          0.503580                     0.640662                 0.569048   \n",
       "std           0.500585                     0.480375                 0.495800   \n",
       "min           0.000000                     0.000000                 0.000000   \n",
       "25%           0.000000                     0.000000                 0.000000   \n",
       "50%           1.000000                     1.000000                 1.000000   \n",
       "75%           1.000000                     1.000000                 1.000000   \n",
       "max           1.000000                     1.000000                 1.000000   \n",
       "\n",
       "       aid_to_nicaraguan_contras  mx_missile  immigration  \\\n",
       "count                 419.000000  412.000000   427.000000   \n",
       "mean                    0.577566    0.502427     0.503513   \n",
       "std                     0.494537    0.500602     0.500574   \n",
       "min                     0.000000    0.000000     0.000000   \n",
       "25%                     0.000000    0.000000     0.000000   \n",
       "50%                     1.000000    1.000000     1.000000   \n",
       "75%                     1.000000    1.000000     1.000000   \n",
       "max                     1.000000    1.000000     1.000000   \n",
       "\n",
       "       synfuels_corporation_cutback  education_spending  \\\n",
       "count                    414.000000          403.000000   \n",
       "mean                       0.362319            0.421836   \n",
       "std                        0.481252            0.494466   \n",
       "min                        0.000000            0.000000   \n",
       "25%                        0.000000            0.000000   \n",
       "50%                        0.000000            0.000000   \n",
       "75%                        1.000000            1.000000   \n",
       "max                        1.000000            1.000000   \n",
       "\n",
       "       superfund_right_to_sue       crime  duty_free_exports  \\\n",
       "count              409.000000  417.000000         406.000000   \n",
       "mean                 0.508557    0.592326           0.428571   \n",
       "std                  0.500539    0.491992           0.495482   \n",
       "min                  0.000000    0.000000           0.000000   \n",
       "25%                  0.000000    0.000000           0.000000   \n",
       "50%                  1.000000    1.000000           0.000000   \n",
       "75%                  1.000000    1.000000           1.000000   \n",
       "max                  1.000000    1.000000           1.000000   \n",
       "\n",
       "       export_administration_act_south_africa  \n",
       "count                              330.000000  \n",
       "mean                                 0.812121  \n",
       "std                                  0.391209  \n",
       "min                                  0.000000  \n",
       "25%                                  1.000000  \n",
       "50%                                  1.000000  \n",
       "75%                                  1.000000  \n",
       "max                                  1.000000  "
      ]
     },
     "execution_count": 139,
     "metadata": {
      "tags": []
     },
     "output_type": "execute_result"
    }
   ],
   "source": [
    "df.describe()"
   ]
  },
  {
   "cell_type": "code",
   "execution_count": 140,
   "metadata": {
    "colab": {
     "base_uri": "https://localhost:8080/",
     "height": 347
    },
    "colab_type": "code",
    "id": "ykKlleyzR4X1",
    "outputId": "bfb4bece-04cb-4b8d-fa4b-92ce84c50c65"
   },
   "outputs": [
    {
     "data": {
      "image/png": "[encoded data removed]",
      "text/plain": [
       "<Figure size 576x396 with 1 Axes>"
      ]
     },
     "metadata": {
      "tags": []
     },
     "output_type": "display_data"
    }
   ],
   "source": [
    "df.plot.hist();\n",
    "## this doesn't tell us much"
   ]
  },
  {
   "cell_type": "code",
   "execution_count": 141,
   "metadata": {
    "colab": {
     "base_uri": "https://localhost:8080/",
     "height": 34
    },
    "colab_type": "code",
    "id": "I4FXyIlNSPLD",
    "outputId": "aba9c1f5-3d2f-424e-84a4-2853e2cc4935"
   },
   "outputs": [
    {
     "data": {
      "text/plain": [
       "(434, 17)"
      ]
     },
     "execution_count": 141,
     "metadata": {
      "tags": []
     },
     "output_type": "execute_result"
    }
   ],
   "source": [
    "df.shape"
   ]
  },
  {
   "cell_type": "code",
   "execution_count": 142,
   "metadata": {
    "colab": {
     "base_uri": "https://localhost:8080/",
     "height": 162
    },
    "colab_type": "code",
    "id": "M-P0v41sS057",
    "outputId": "c9e81615-fb5f-40ef-d609-0f949bce2616"
   },
   "outputs": [
    {
     "data": {
      "text/html": [
       "<div>\n",
       "<style scoped>\n",
       "    .dataframe tbody tr th:only-of-type {\n",
       "        vertical-align: middle;\n",
       "    }\n",
       "\n",
       "    .dataframe tbody tr th {\n",
       "        vertical-align: top;\n",
       "    }\n",
       "\n",
       "    .dataframe thead th {\n",
       "        text-align: right;\n",
       "    }\n",
       "</style>\n",
       "<table border=\"1\" class=\"dataframe\">\n",
       "  <thead>\n",
       "    <tr style=\"text-align: right;\">\n",
       "      <th></th>\n",
       "      <th>adoption_of_the_budget_resolution</th>\n",
       "      <th>aid_to_nicaraguan_contras</th>\n",
       "      <th>anti_satellite_test_ban</th>\n",
       "      <th>crime</th>\n",
       "      <th>duty_free_exports</th>\n",
       "      <th>education_spending</th>\n",
       "      <th>el_salvador_aid</th>\n",
       "      <th>export_administration_act_south_africa</th>\n",
       "      <th>handicapped_infants</th>\n",
       "      <th>immigration</th>\n",
       "      <th>mx_missile</th>\n",
       "      <th>physician_fee_freeze</th>\n",
       "      <th>religious_groups_in_schools</th>\n",
       "      <th>superfund_right_to_sue</th>\n",
       "      <th>synfuels_corporation_cutback</th>\n",
       "      <th>water_project_cost_sharing</th>\n",
       "    </tr>\n",
       "    <tr>\n",
       "      <th>political_status</th>\n",
       "      <th></th>\n",
       "      <th></th>\n",
       "      <th></th>\n",
       "      <th></th>\n",
       "      <th></th>\n",
       "      <th></th>\n",
       "      <th></th>\n",
       "      <th></th>\n",
       "      <th></th>\n",
       "      <th></th>\n",
       "      <th></th>\n",
       "      <th></th>\n",
       "      <th></th>\n",
       "      <th></th>\n",
       "      <th></th>\n",
       "      <th></th>\n",
       "    </tr>\n",
       "  </thead>\n",
       "  <tbody>\n",
       "    <tr>\n",
       "      <th>democrat</th>\n",
       "      <td>0.888462</td>\n",
       "      <td>0.828897</td>\n",
       "      <td>0.772201</td>\n",
       "      <td>0.350195</td>\n",
       "      <td>0.637450</td>\n",
       "      <td>0.144578</td>\n",
       "      <td>0.215686</td>\n",
       "      <td>0.935135</td>\n",
       "      <td>0.604651</td>\n",
       "      <td>0.471483</td>\n",
       "      <td>0.758065</td>\n",
       "      <td>0.054054</td>\n",
       "      <td>0.476744</td>\n",
       "      <td>0.289683</td>\n",
       "      <td>0.505882</td>\n",
       "      <td>0.502092</td>\n",
       "    </tr>\n",
       "    <tr>\n",
       "      <th>republican</th>\n",
       "      <td>0.134969</td>\n",
       "      <td>0.153846</td>\n",
       "      <td>0.242236</td>\n",
       "      <td>0.981250</td>\n",
       "      <td>0.090323</td>\n",
       "      <td>0.870130</td>\n",
       "      <td>0.951220</td>\n",
       "      <td>0.655172</td>\n",
       "      <td>0.189024</td>\n",
       "      <td>0.554878</td>\n",
       "      <td>0.115854</td>\n",
       "      <td>0.987805</td>\n",
       "      <td>0.896970</td>\n",
       "      <td>0.859873</td>\n",
       "      <td>0.132075</td>\n",
       "      <td>0.503401</td>\n",
       "    </tr>\n",
       "  </tbody>\n",
       "</table>\n",
       "</div>"
      ],
      "text/plain": [
       "                  adoption_of_the_budget_resolution  \\\n",
       "political_status                                      \n",
       "democrat                                   0.888462   \n",
       "republican                                 0.134969   \n",
       "\n",
       "                  aid_to_nicaraguan_contras  anti_satellite_test_ban  \\\n",
       "political_status                                                       \n",
       "democrat                           0.828897                 0.772201   \n",
       "republican                         0.153846                 0.242236   \n",
       "\n",
       "                     crime  duty_free_exports  education_spending  \\\n",
       "political_status                                                    \n",
       "democrat          0.350195           0.637450            0.144578   \n",
       "republican        0.981250           0.090323            0.870130   \n",
       "\n",
       "                  el_salvador_aid  export_administration_act_south_africa  \\\n",
       "political_status                                                            \n",
       "democrat                 0.215686                                0.935135   \n",
       "republican               0.951220                                0.655172   \n",
       "\n",
       "                  handicapped_infants  immigration  mx_missile  \\\n",
       "political_status                                                 \n",
       "democrat                     0.604651     0.471483    0.758065   \n",
       "republican                   0.189024     0.554878    0.115854   \n",
       "\n",
       "                  physician_fee_freeze  religious_groups_in_schools  \\\n",
       "political_status                                                      \n",
       "democrat                      0.054054                     0.476744   \n",
       "republican                    0.987805                     0.896970   \n",
       "\n",
       "                  superfund_right_to_sue  synfuels_corporation_cutback  \\\n",
       "political_status                                                         \n",
       "democrat                        0.289683                      0.505882   \n",
       "republican                      0.859873                      0.132075   \n",
       "\n",
       "                  water_project_cost_sharing  \n",
       "political_status                              \n",
       "democrat                            0.502092  \n",
       "republican                          0.503401  "
      ]
     },
     "execution_count": 142,
     "metadata": {
      "tags": []
     },
     "output_type": "execute_result"
    }
   ],
   "source": [
    "pivot = df.pivot_table(index='political_status', values=(list(df.columns)))\n",
    "pivot"
   ]
  },
  {
   "cell_type": "code",
   "execution_count": 0,
   "metadata": {
    "colab": {},
    "colab_type": "code",
    "id": "EvKe6KBSfjR6"
   },
   "outputs": [],
   "source": [
    "#going to use scipy"
   ]
  },
  {
   "cell_type": "code",
   "execution_count": 144,
   "metadata": {
    "colab": {
     "base_uri": "https://localhost:8080/",
     "height": 68
    },
    "colab_type": "code",
    "id": "nl0gc7p3V7tW",
    "outputId": "e84d14d6-b37e-4b20-a5e9-dc74a124a117"
   },
   "outputs": [
    {
     "name": "stdout",
     "output_type": "stream",
     "text": [
      "Ttest_1sampResult(statistic=-4.069130246390478, pvalue=6.479986682346961e-05)\n",
      "Ttest_1sampResult(statistic=12.307326445565915, pvalue=4.2184289388770086e-27)\n",
      "Ttest_1sampResult(statistic=-4.961827973852505, pvalue=1.3546815915005384e-06)\n"
     ]
    }
   ],
   "source": [
    "#Using hypothesis testing, find an issue that democrats support more than republicans with p < 0.01\n",
    "print(scipy.stats.ttest_1samp(df.dropna()['duty_free_exports'], 0.5))\n",
    "print(scipy.stats.ttest_1samp(df.dropna()['export_administration_act_south_africa'], 0.5))\n",
    "print(scipy.stats.ttest_1samp(df.dropna()['synfuels_corporation_cutback'], 0.5))\n"
   ]
  },
  {
   "cell_type": "code",
   "execution_count": 145,
   "metadata": {
    "colab": {
     "base_uri": "https://localhost:8080/",
     "height": 51
    },
    "colab_type": "code",
    "id": "xuDk5piYR6nx",
    "outputId": "61b1ed13-0abf-4480-80cd-977ad961a6b5"
   },
   "outputs": [
    {
     "name": "stdout",
     "output_type": "stream",
     "text": [
      "Ttest_1sampResult(statistic=4.510116388103114, pvalue=1.0310376842629694e-05)\n",
      "Ttest_1sampResult(statistic=4.510116388103114, pvalue=1.0310376842629694e-05)\n"
     ]
    }
   ],
   "source": [
    "#Using hypothesis testing, find an issue that republicans support more than democrats with p < 0.01\n",
    "print(scipy.stats.ttest_1samp(df.dropna()['crime'], 0.5))\n",
    "print(scipy.stats.ttest_1samp(df.dropna()['religious_groups_in_schools'], 0.5))\n"
   ]
  },
  {
   "cell_type": "code",
   "execution_count": 146,
   "metadata": {
    "colab": {
     "base_uri": "https://localhost:8080/",
     "height": 119
    },
    "colab_type": "code",
    "id": "G5fIbW5-MTwQ",
    "outputId": "9725243b-0826-480b-fc87-822d979a574e"
   },
   "outputs": [
    {
     "name": "stdout",
     "output_type": "stream",
     "text": [
      "Ttest_1sampResult(statistic=-1.050686752714504, pvalue=0.294500405593885)\n",
      "Ttest_1sampResult(statistic=1.5807587029407988, pvalue=0.11530147043394008)\n",
      "Ttest_1sampResult(statistic=1.5807587029407988, pvalue=0.11530147043394008)\n",
      "Ttest_1sampResult(statistic=-0.39320093531625294, pvalue=0.6945337196541426)\n",
      "Ttest_1sampResult(statistic=1.4477786405821802, pvalue=0.14903479529930658)\n",
      "Ttest_1sampResult(statistic=-1.1827735501895689, pvalue=0.23811483034592085)\n"
     ]
    }
   ],
   "source": [
    "#Using hypothesis testing, find an issue where the difference between republicans and democrats has p > 0.1 (i.e. there may not be much of a difference)\n",
    "print(scipy.stats.ttest_1samp(df.dropna()['education_spending'], 0.5))\n",
    "print(scipy.stats.ttest_1samp(df.dropna()['el_salvador_aid'], 0.5))\n",
    "print(scipy.stats.ttest_1samp(df.dropna()['immigration'], 0.5))\n",
    "print(scipy.stats.ttest_1samp(df.dropna()['physician_fee_freeze'], 0.5))\n",
    "print(scipy.stats.ttest_1samp(df.dropna()['superfund_right_to_sue'], 0.5))\n",
    "print(scipy.stats.ttest_1samp(df.dropna()['water_project_cost_sharing'], 0.5))\n"
   ]
  },
  {
   "cell_type": "code",
   "execution_count": 164,
   "metadata": {
    "colab": {
     "base_uri": "https://localhost:8080/",
     "height": 34
    },
    "colab_type": "code",
    "id": "D1DLfUxQzolv",
    "outputId": "2c3b09e5-d6a4-4223-ccd3-0c1560fc0a60"
   },
   "outputs": [
    {
     "data": {
      "text/plain": [
       "Ttest_1sampResult(statistic=-2.904737509655564, pvalue=0.0038770376484560496)"
      ]
     },
     "execution_count": 164,
     "metadata": {
      "tags": []
     },
     "output_type": "execute_result"
    }
   ],
   "source": [
    "### trying it out this way\n",
    "parties = {\n",
    "    'republican':0,\n",
    "    'democrat':1\n",
    "}\n",
    "duty_free = df[['political_status', 'duty_free_exports']]\n",
    "duty_free = duty_free.replace(parties)\n",
    "duty_free = pd.DataFrame(duty_free)\n",
    "duty_free = duty_free.set_index('political_status')\n",
    "duty_free = duty_free['duty_free_exports'].dropna()\n",
    "\n",
    "scipy.stats.ttest_1samp(duty_free,0.5)"
   ]
  },
  {
   "cell_type": "code",
   "execution_count": 166,
   "metadata": {
    "colab": {
     "base_uri": "https://localhost:8080/",
     "height": 34
    },
    "colab_type": "code",
    "id": "DagtFB5v2DA1",
    "outputId": "6e8d5a8a-146e-4fcc-ac25-a8c0a9a5d22e"
   },
   "outputs": [
    {
     "data": {
      "text/plain": [
       "Ttest_1sampResult(statistic=6.022360539784999, pvalue=3.742517006154002e-09)"
      ]
     },
     "execution_count": 166,
     "metadata": {
      "tags": []
     },
     "output_type": "execute_result"
    }
   ],
   "source": [
    "religion = df[['political_status', 'religious_groups_in_schools']]\n",
    "religion = religion.replace(parties)\n",
    "religion = pd.DataFrame(religion)\n",
    "religion = religion.set_index('political_status')\n",
    "religion = religion['religious_groups_in_schools'].dropna()\n",
    "\n",
    "scipy.stats.ttest_1samp(religion,0.5)\n",
    "\n",
    "# i think that works"
   ]
  },
  {
   "cell_type": "code",
   "execution_count": 167,
   "metadata": {
    "colab": {
     "base_uri": "https://localhost:8080/",
     "height": 34
    },
    "colab_type": "code",
    "id": "VXJtuHM50k9f",
    "outputId": "e57c33aa-e4f9-406b-f8c5-d240310773f7"
   },
   "outputs": [
    {
     "data": {
      "text/plain": [
       "Ttest_1sampResult(statistic=0.14501365477156375, pvalue=0.8847686745719494)"
      ]
     },
     "execution_count": 167,
     "metadata": {
      "tags": []
     },
     "output_type": "execute_result"
    }
   ],
   "source": [
    "immigration = df[['political_status', 'immigration']]\n",
    "immigration = immigration.replace(parties)\n",
    "immigration = pd.DataFrame(immigration)\n",
    "immigration = immigration.set_index('political_status')\n",
    "immigration = immigration['immigration'].dropna()\n",
    "\n",
    "scipy.stats.ttest_1samp(immigration,0.5)"
   ]
  },
  {
   "cell_type": "code",
   "execution_count": 0,
   "metadata": {
    "colab": {},
    "colab_type": "code",
    "id": "PKiCel1i4Znn"
   },
   "outputs": [],
   "source": []
  }
 ],
 "metadata": {
  "colab": {
   "include_colab_link": true,
   "name": "LS DS 141 Statistics Probability and Inference.ipynb",
   "provenance": [],
   "version": "0.3.2"
  },
  "kernelspec": {
   "display_name": "Python 3",
   "language": "python",
   "name": "python3"
  },
  "language_info": {
   "codemirror_mode": {
    "name": "ipython",
    "version": 3
   },
   "file_extension": ".py",
   "mimetype": "text/x-python",
   "name": "python",
   "nbconvert_exporter": "python",
   "pygments_lexer": "ipython3",
   "version": "3.6.5"
  }
 },
 "nbformat": 4,
 "nbformat_minor": 1
}
