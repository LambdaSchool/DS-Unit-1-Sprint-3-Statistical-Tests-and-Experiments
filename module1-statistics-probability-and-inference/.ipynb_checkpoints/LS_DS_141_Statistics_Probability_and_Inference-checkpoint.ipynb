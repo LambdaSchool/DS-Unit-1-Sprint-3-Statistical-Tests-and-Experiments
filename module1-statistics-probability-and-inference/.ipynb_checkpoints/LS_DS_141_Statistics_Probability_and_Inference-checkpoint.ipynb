{
 "cells": [
  {
   "cell_type": "markdown",
   "metadata": {
    "colab_type": "text",
    "id": "eJGtmni-DezY"
   },
   "source": [
    "# Lambda School Data Science Module 141\n",
    "## Statistics, Probability, and Inference"
   ]
  },
  {
   "cell_type": "markdown",
   "metadata": {
    "colab_type": "text",
    "id": "FMhDKOFND0qY"
   },
   "source": [
    "## Prepare - examine what's available in SciPy\n",
    "\n",
    "As we delve into statistics, we'll be using more libraries - in particular the [stats package from SciPy](https://docs.scipy.org/doc/scipy/reference/tutorial/stats.html)."
   ]
  },
  {
   "cell_type": "code",
   "execution_count": 4,
   "metadata": {
    "colab": {
     "base_uri": "https://localhost:8080/",
     "height": 4427
    },
    "colab_type": "code",
    "id": "fQ9rkLJmEbsk",
    "outputId": "937d6c40-d775-4016-9b69-70a82cc8b4c0"
   },
   "outputs": [],
   "source": [
    "from scipy import stats\n",
    "import matplotlib.pyplot as plt"
   ]
  },
  {
   "cell_type": "code",
   "execution_count": 2,
   "metadata": {
    "colab": {
     "base_uri": "https://localhost:8080/",
     "height": 70
    },
    "colab_type": "code",
    "id": "bxW4SG_gJGlZ",
    "outputId": "e715ad1a-883f-41e2-b070-a1106316f4e7"
   },
   "outputs": [
    {
     "name": "stdout",
     "output_type": "stream",
     "text": [
      "0.0\n",
      "1.0\n",
      "1.0\n"
     ]
    }
   ],
   "source": [
    "# As usual, lots of stuff here! There's our friend, the normal distribution\n",
    "norm = stats.norm()\n",
    "print(norm.mean())\n",
    "print(norm.std())\n",
    "print(norm.var())"
   ]
  },
  {
   "cell_type": "code",
   "execution_count": 3,
   "metadata": {
    "colab": {
     "base_uri": "https://localhost:8080/",
     "height": 70
    },
    "colab_type": "code",
    "id": "RyNKPt_tJk86",
    "outputId": "db64f558-1945-4fef-f7d7-3184212d8237"
   },
   "outputs": [
    {
     "name": "stdout",
     "output_type": "stream",
     "text": [
      "0.0\n",
      "1.2909944487358056\n",
      "1.6666666666666667\n"
     ]
    }
   ],
   "source": [
    "# And a new friend - t\n",
    "t1 = stats.t(5)  # 5 is df \"shape\" parameter\n",
    "print(t1.mean())\n",
    "print(t1.std())\n",
    "print(t1.var())"
   ]
  },
  {
   "cell_type": "markdown",
   "metadata": {
    "colab_type": "text",
    "id": "SRn1zMuaKgxX"
   },
   "source": [
    "![T distribution PDF with different shape parameters](https://upload.wikimedia.org/wikipedia/commons/4/41/Student_t_pdf.svg)\n",
    "\n",
    "*(Picture from [Wikipedia](https://en.wikipedia.org/wiki/Student's_t-distribution#/media/File:Student_t_pdf.svg))*\n",
    "\n",
    "The t-distribution is \"normal-ish\" - the larger the parameter (which reflects its degrees of freedom - more input data/features will increase it), the closer to true normal."
   ]
  },
  {
   "cell_type": "code",
   "execution_count": 4,
   "metadata": {
    "colab": {
     "base_uri": "https://localhost:8080/",
     "height": 70
    },
    "colab_type": "code",
    "id": "seQv5unnJvpM",
    "outputId": "b2f84397-b204-4864-84a1-2b29eb926bbf"
   },
   "outputs": [
    {
     "name": "stdout",
     "output_type": "stream",
     "text": [
      "0.0\n",
      "1.0350983390135313\n",
      "1.0714285714285714\n"
     ]
    }
   ],
   "source": [
    "t2 = stats.t(30)  # Will be closer to normal\n",
    "print(t2.mean())\n",
    "print(t2.std())\n",
    "print(t2.var())"
   ]
  },
  {
   "cell_type": "markdown",
   "metadata": {
    "colab_type": "text",
    "id": "FOvEGMysLaE2"
   },
   "source": [
    "Why is it different from normal? To better reflect the tendencies of small data and situations with unknown population standard deviation. In other words, the normal distribution is still the nice pure ideal in the limit (thanks to the central limit theorem), but the t-distribution is much more useful in many real-world situations.\n",
    "\n",
    "History sidenote - this is \"Student\":\n",
    "\n",
    "![William Sealy Gosset](https://upload.wikimedia.org/wikipedia/commons/4/42/William_Sealy_Gosset.jpg)\n",
    "\n",
    "*(Picture from [Wikipedia](https://en.wikipedia.org/wiki/File:William_Sealy_Gosset.jpg))*\n",
    "\n",
    "His real name is William Sealy Gosset, and he published under the pen name \"Student\" because he was not an academic. He was a brewer, working at Guinness and using trial and error to determine the best ways to yield barley. He's also proof that, even 100 years ago, you don't need official credentials to do real data science!"
   ]
  },
  {
   "cell_type": "markdown",
   "metadata": {
    "colab_type": "text",
    "id": "1yx_QilAEC6o"
   },
   "source": [
    "## Live Lecture - let's perform and interpret a t-test\n",
    "\n",
    "We'll generate our own data, so we can know and alter the \"ground truth\" that the t-test should find. We will learn about p-values and how to interpret \"statistical significance\" based on the output of a hypothesis test."
   ]
  },
  {
   "cell_type": "markdown",
   "metadata": {
    "colab_type": "text",
    "id": "egXb7YpqEcZF"
   },
   "source": [
    "## Assignment - apply the t-test to real data\n",
    "\n",
    "Your assignment is to determine which issues have \"statistically significant\" differences between political parties in this [1980s congressional voting data](https://archive.ics.uci.edu/ml/datasets/Congressional+Voting+Records). The data consists of 435 instances (one for each congressperson), a class (democrat or republican), and 16 binary attributes (yes or no for voting for or against certain issues). Be aware - there are missing values!\n",
    "\n",
    "Your goals:\n",
    "\n",
    "1. Load and clean the data (or determine the best method to drop observations when running tests)\n",
    "2. Using hypothesis testing, find an issue that democrats support more than republicans with p < 0.01\n",
    "3. Using hypothesis testing, find an issue that republicans support more than democrats with p < 0.01\n",
    "4. Using hypothesis testing, find an issue where the difference between republicans and democrats has p > 0.1 (i.e. there may not be much of a difference)\n",
    "\n",
    "Note that this data will involve *2 sample* t-tests, because you're comparing averages across two groups (republicans and democrats) rather than a single group against a null hypothesis.\n",
    "\n",
    "Stretch goals:\n",
    "\n",
    "1. Refactor your code into functions so it's easy to rerun with arbitrary variables\n",
    "2. Apply hypothesis testing to your personal project data (for the purposes of this notebook you can type a summary of the hypothesis you formed and tested)"
   ]
  },
  {
   "cell_type": "code",
   "execution_count": 2,
   "metadata": {},
   "outputs": [],
   "source": [
    "import scipy as s\n",
    "import numpy as np\n",
    "import pandas as pd\n",
    "import seaborn as sns\n",
    "import matplotlib.pyplot as plt"
   ]
  },
  {
   "cell_type": "code",
   "execution_count": 219,
   "metadata": {
    "colab": {},
    "colab_type": "code",
    "id": "nstrmCG-Ecyk"
   },
   "outputs": [],
   "source": [
    "titles = \"\"\\\n",
    " + \"handicapped-infants \"\\\n",
    " + \"water-project-cost-sharing \"\\\n",
    " + \"adoption-of-the-budget-resolution \"\\\n",
    " + \"physician-fee-freeze el-salvador-aid \"\\\n",
    " + \"religious-groups-in-schools \"\\\n",
    " + \"anti-satellite-test-ban \"\\\n",
    " + \"aid-to-nicaraguan-contras \"\\\n",
    " + \"mx-missile immigration \"\\\n",
    " + \"synfuels-corporation-cutback \"\\\n",
    " + \"education-spending \"\\\n",
    " + \"superfund-right-to-sue \"\\\n",
    " + \"crime \"\\\n",
    " + \"duty-free-exports \"\\\n",
    " + \"export-administration-act-south-africa\"\n",
    "\n",
    "issues = titles.replace(\"-\", \"_\").split(\" \")\n",
    "\n",
    "url = \"https://archive.ics.uci.edu/ml/machine-learning-databases/voting-records/house-votes-84.data\"\n",
    "raw_votes = pd\\\n",
    "    .read_csv(url, header=None)\\\n",
    "    .rename(columns={0: 'affiliation'})\\\n",
    "    .rename(columns={k:v for k,v in list(zip(range(1,len(issues)+1), issues))})\\\n",
    "    .set_index('affiliation')"
   ]
  },
  {
   "cell_type": "code",
   "execution_count": 315,
   "metadata": {},
   "outputs": [],
   "source": [
    "votes = raw_votes.replace({'?': np.nan, 'n': 0, 'y': 1})"
   ]
  },
  {
   "cell_type": "code",
   "execution_count": 316,
   "metadata": {},
   "outputs": [
    {
     "data": {
      "text/html": [
       "<div>\n",
       "<style scoped>\n",
       "    .dataframe tbody tr th:only-of-type {\n",
       "        vertical-align: middle;\n",
       "    }\n",
       "\n",
       "    .dataframe tbody tr th {\n",
       "        vertical-align: top;\n",
       "    }\n",
       "\n",
       "    .dataframe thead th {\n",
       "        text-align: right;\n",
       "    }\n",
       "</style>\n",
       "<table border=\"1\" class=\"dataframe\">\n",
       "  <thead>\n",
       "    <tr style=\"text-align: right;\">\n",
       "      <th></th>\n",
       "      <th>count</th>\n",
       "      <th>mean</th>\n",
       "      <th>std</th>\n",
       "      <th>min</th>\n",
       "      <th>25%</th>\n",
       "      <th>50%</th>\n",
       "      <th>75%</th>\n",
       "      <th>max</th>\n",
       "    </tr>\n",
       "  </thead>\n",
       "  <tbody>\n",
       "    <tr>\n",
       "      <th>handicapped_infants</th>\n",
       "      <td>165.0</td>\n",
       "      <td>0.187879</td>\n",
       "      <td>0.391804</td>\n",
       "      <td>0.0</td>\n",
       "      <td>0.0</td>\n",
       "      <td>0.0</td>\n",
       "      <td>0.0</td>\n",
       "      <td>1.0</td>\n",
       "    </tr>\n",
       "    <tr>\n",
       "      <th>water_project_cost_sharing</th>\n",
       "      <td>148.0</td>\n",
       "      <td>0.506757</td>\n",
       "      <td>0.501652</td>\n",
       "      <td>0.0</td>\n",
       "      <td>0.0</td>\n",
       "      <td>1.0</td>\n",
       "      <td>1.0</td>\n",
       "      <td>1.0</td>\n",
       "    </tr>\n",
       "    <tr>\n",
       "      <th>adoption_of_the_budget_resolution</th>\n",
       "      <td>164.0</td>\n",
       "      <td>0.134146</td>\n",
       "      <td>0.341853</td>\n",
       "      <td>0.0</td>\n",
       "      <td>0.0</td>\n",
       "      <td>0.0</td>\n",
       "      <td>0.0</td>\n",
       "      <td>1.0</td>\n",
       "    </tr>\n",
       "    <tr>\n",
       "      <th>physician_fee_freeze</th>\n",
       "      <td>165.0</td>\n",
       "      <td>0.987879</td>\n",
       "      <td>0.109760</td>\n",
       "      <td>0.0</td>\n",
       "      <td>1.0</td>\n",
       "      <td>1.0</td>\n",
       "      <td>1.0</td>\n",
       "      <td>1.0</td>\n",
       "    </tr>\n",
       "    <tr>\n",
       "      <th>el_salvador_aid</th>\n",
       "      <td>165.0</td>\n",
       "      <td>0.951515</td>\n",
       "      <td>0.215442</td>\n",
       "      <td>0.0</td>\n",
       "      <td>1.0</td>\n",
       "      <td>1.0</td>\n",
       "      <td>1.0</td>\n",
       "      <td>1.0</td>\n",
       "    </tr>\n",
       "    <tr>\n",
       "      <th>religious_groups_in_schools</th>\n",
       "      <td>166.0</td>\n",
       "      <td>0.897590</td>\n",
       "      <td>0.304104</td>\n",
       "      <td>0.0</td>\n",
       "      <td>1.0</td>\n",
       "      <td>1.0</td>\n",
       "      <td>1.0</td>\n",
       "      <td>1.0</td>\n",
       "    </tr>\n",
       "    <tr>\n",
       "      <th>anti_satellite_test_ban</th>\n",
       "      <td>162.0</td>\n",
       "      <td>0.240741</td>\n",
       "      <td>0.428859</td>\n",
       "      <td>0.0</td>\n",
       "      <td>0.0</td>\n",
       "      <td>0.0</td>\n",
       "      <td>0.0</td>\n",
       "      <td>1.0</td>\n",
       "    </tr>\n",
       "    <tr>\n",
       "      <th>aid_to_nicaraguan_contras</th>\n",
       "      <td>157.0</td>\n",
       "      <td>0.152866</td>\n",
       "      <td>0.361010</td>\n",
       "      <td>0.0</td>\n",
       "      <td>0.0</td>\n",
       "      <td>0.0</td>\n",
       "      <td>0.0</td>\n",
       "      <td>1.0</td>\n",
       "    </tr>\n",
       "    <tr>\n",
       "      <th>mx_missile</th>\n",
       "      <td>165.0</td>\n",
       "      <td>0.115152</td>\n",
       "      <td>0.320176</td>\n",
       "      <td>0.0</td>\n",
       "      <td>0.0</td>\n",
       "      <td>0.0</td>\n",
       "      <td>0.0</td>\n",
       "      <td>1.0</td>\n",
       "    </tr>\n",
       "    <tr>\n",
       "      <th>immigration</th>\n",
       "      <td>165.0</td>\n",
       "      <td>0.557576</td>\n",
       "      <td>0.498186</td>\n",
       "      <td>0.0</td>\n",
       "      <td>0.0</td>\n",
       "      <td>1.0</td>\n",
       "      <td>1.0</td>\n",
       "      <td>1.0</td>\n",
       "    </tr>\n",
       "    <tr>\n",
       "      <th>synfuels_corporation_cutback</th>\n",
       "      <td>159.0</td>\n",
       "      <td>0.132075</td>\n",
       "      <td>0.339643</td>\n",
       "      <td>0.0</td>\n",
       "      <td>0.0</td>\n",
       "      <td>0.0</td>\n",
       "      <td>0.0</td>\n",
       "      <td>1.0</td>\n",
       "    </tr>\n",
       "    <tr>\n",
       "      <th>education_spending</th>\n",
       "      <td>155.0</td>\n",
       "      <td>0.870968</td>\n",
       "      <td>0.336322</td>\n",
       "      <td>0.0</td>\n",
       "      <td>1.0</td>\n",
       "      <td>1.0</td>\n",
       "      <td>1.0</td>\n",
       "      <td>1.0</td>\n",
       "    </tr>\n",
       "    <tr>\n",
       "      <th>superfund_right_to_sue</th>\n",
       "      <td>158.0</td>\n",
       "      <td>0.860759</td>\n",
       "      <td>0.347298</td>\n",
       "      <td>0.0</td>\n",
       "      <td>1.0</td>\n",
       "      <td>1.0</td>\n",
       "      <td>1.0</td>\n",
       "      <td>1.0</td>\n",
       "    </tr>\n",
       "    <tr>\n",
       "      <th>crime</th>\n",
       "      <td>161.0</td>\n",
       "      <td>0.981366</td>\n",
       "      <td>0.135649</td>\n",
       "      <td>0.0</td>\n",
       "      <td>1.0</td>\n",
       "      <td>1.0</td>\n",
       "      <td>1.0</td>\n",
       "      <td>1.0</td>\n",
       "    </tr>\n",
       "    <tr>\n",
       "      <th>duty_free_exports</th>\n",
       "      <td>156.0</td>\n",
       "      <td>0.089744</td>\n",
       "      <td>0.286735</td>\n",
       "      <td>0.0</td>\n",
       "      <td>0.0</td>\n",
       "      <td>0.0</td>\n",
       "      <td>0.0</td>\n",
       "      <td>1.0</td>\n",
       "    </tr>\n",
       "    <tr>\n",
       "      <th>export_administration_act_south_africa</th>\n",
       "      <td>146.0</td>\n",
       "      <td>0.657534</td>\n",
       "      <td>0.476168</td>\n",
       "      <td>0.0</td>\n",
       "      <td>0.0</td>\n",
       "      <td>1.0</td>\n",
       "      <td>1.0</td>\n",
       "      <td>1.0</td>\n",
       "    </tr>\n",
       "  </tbody>\n",
       "</table>\n",
       "</div>"
      ],
      "text/plain": [
       "                                        count      mean       std  min  25%  \\\n",
       "handicapped_infants                     165.0  0.187879  0.391804  0.0  0.0   \n",
       "water_project_cost_sharing              148.0  0.506757  0.501652  0.0  0.0   \n",
       "adoption_of_the_budget_resolution       164.0  0.134146  0.341853  0.0  0.0   \n",
       "physician_fee_freeze                    165.0  0.987879  0.109760  0.0  1.0   \n",
       "el_salvador_aid                         165.0  0.951515  0.215442  0.0  1.0   \n",
       "religious_groups_in_schools             166.0  0.897590  0.304104  0.0  1.0   \n",
       "anti_satellite_test_ban                 162.0  0.240741  0.428859  0.0  0.0   \n",
       "aid_to_nicaraguan_contras               157.0  0.152866  0.361010  0.0  0.0   \n",
       "mx_missile                              165.0  0.115152  0.320176  0.0  0.0   \n",
       "immigration                             165.0  0.557576  0.498186  0.0  0.0   \n",
       "synfuels_corporation_cutback            159.0  0.132075  0.339643  0.0  0.0   \n",
       "education_spending                      155.0  0.870968  0.336322  0.0  1.0   \n",
       "superfund_right_to_sue                  158.0  0.860759  0.347298  0.0  1.0   \n",
       "crime                                   161.0  0.981366  0.135649  0.0  1.0   \n",
       "duty_free_exports                       156.0  0.089744  0.286735  0.0  0.0   \n",
       "export_administration_act_south_africa  146.0  0.657534  0.476168  0.0  0.0   \n",
       "\n",
       "                                        50%  75%  max  \n",
       "handicapped_infants                     0.0  0.0  1.0  \n",
       "water_project_cost_sharing              1.0  1.0  1.0  \n",
       "adoption_of_the_budget_resolution       0.0  0.0  1.0  \n",
       "physician_fee_freeze                    1.0  1.0  1.0  \n",
       "el_salvador_aid                         1.0  1.0  1.0  \n",
       "religious_groups_in_schools             1.0  1.0  1.0  \n",
       "anti_satellite_test_ban                 0.0  0.0  1.0  \n",
       "aid_to_nicaraguan_contras               0.0  0.0  1.0  \n",
       "mx_missile                              0.0  0.0  1.0  \n",
       "immigration                             1.0  1.0  1.0  \n",
       "synfuels_corporation_cutback            0.0  0.0  1.0  \n",
       "education_spending                      1.0  1.0  1.0  \n",
       "superfund_right_to_sue                  1.0  1.0  1.0  \n",
       "crime                                   1.0  1.0  1.0  \n",
       "duty_free_exports                       0.0  0.0  1.0  \n",
       "export_administration_act_south_africa  1.0  1.0  1.0  "
      ]
     },
     "execution_count": 316,
     "metadata": {},
     "output_type": "execute_result"
    }
   ],
   "source": [
    "votes.loc['republican'].describe().T"
   ]
  },
  {
   "cell_type": "code",
   "execution_count": 317,
   "metadata": {},
   "outputs": [
    {
     "data": {
      "text/html": [
       "<div>\n",
       "<style scoped>\n",
       "    .dataframe tbody tr th:only-of-type {\n",
       "        vertical-align: middle;\n",
       "    }\n",
       "\n",
       "    .dataframe tbody tr th {\n",
       "        vertical-align: top;\n",
       "    }\n",
       "\n",
       "    .dataframe thead th {\n",
       "        text-align: right;\n",
       "    }\n",
       "</style>\n",
       "<table border=\"1\" class=\"dataframe\">\n",
       "  <thead>\n",
       "    <tr style=\"text-align: right;\">\n",
       "      <th></th>\n",
       "      <th>count</th>\n",
       "      <th>mean</th>\n",
       "      <th>std</th>\n",
       "      <th>min</th>\n",
       "      <th>25%</th>\n",
       "      <th>50%</th>\n",
       "      <th>75%</th>\n",
       "      <th>max</th>\n",
       "    </tr>\n",
       "  </thead>\n",
       "  <tbody>\n",
       "    <tr>\n",
       "      <th>handicapped_infants</th>\n",
       "      <td>258.0</td>\n",
       "      <td>0.604651</td>\n",
       "      <td>0.489876</td>\n",
       "      <td>0.0</td>\n",
       "      <td>0.0</td>\n",
       "      <td>1.0</td>\n",
       "      <td>1.0</td>\n",
       "      <td>1.0</td>\n",
       "    </tr>\n",
       "    <tr>\n",
       "      <th>water_project_cost_sharing</th>\n",
       "      <td>239.0</td>\n",
       "      <td>0.502092</td>\n",
       "      <td>0.501045</td>\n",
       "      <td>0.0</td>\n",
       "      <td>0.0</td>\n",
       "      <td>1.0</td>\n",
       "      <td>1.0</td>\n",
       "      <td>1.0</td>\n",
       "    </tr>\n",
       "    <tr>\n",
       "      <th>adoption_of_the_budget_resolution</th>\n",
       "      <td>260.0</td>\n",
       "      <td>0.888462</td>\n",
       "      <td>0.315405</td>\n",
       "      <td>0.0</td>\n",
       "      <td>1.0</td>\n",
       "      <td>1.0</td>\n",
       "      <td>1.0</td>\n",
       "      <td>1.0</td>\n",
       "    </tr>\n",
       "    <tr>\n",
       "      <th>physician_fee_freeze</th>\n",
       "      <td>259.0</td>\n",
       "      <td>0.054054</td>\n",
       "      <td>0.226562</td>\n",
       "      <td>0.0</td>\n",
       "      <td>0.0</td>\n",
       "      <td>0.0</td>\n",
       "      <td>0.0</td>\n",
       "      <td>1.0</td>\n",
       "    </tr>\n",
       "    <tr>\n",
       "      <th>el_salvador_aid</th>\n",
       "      <td>255.0</td>\n",
       "      <td>0.215686</td>\n",
       "      <td>0.412106</td>\n",
       "      <td>0.0</td>\n",
       "      <td>0.0</td>\n",
       "      <td>0.0</td>\n",
       "      <td>0.0</td>\n",
       "      <td>1.0</td>\n",
       "    </tr>\n",
       "    <tr>\n",
       "      <th>religious_groups_in_schools</th>\n",
       "      <td>258.0</td>\n",
       "      <td>0.476744</td>\n",
       "      <td>0.500430</td>\n",
       "      <td>0.0</td>\n",
       "      <td>0.0</td>\n",
       "      <td>0.0</td>\n",
       "      <td>1.0</td>\n",
       "      <td>1.0</td>\n",
       "    </tr>\n",
       "    <tr>\n",
       "      <th>anti_satellite_test_ban</th>\n",
       "      <td>259.0</td>\n",
       "      <td>0.772201</td>\n",
       "      <td>0.420224</td>\n",
       "      <td>0.0</td>\n",
       "      <td>1.0</td>\n",
       "      <td>1.0</td>\n",
       "      <td>1.0</td>\n",
       "      <td>1.0</td>\n",
       "    </tr>\n",
       "    <tr>\n",
       "      <th>aid_to_nicaraguan_contras</th>\n",
       "      <td>263.0</td>\n",
       "      <td>0.828897</td>\n",
       "      <td>0.377317</td>\n",
       "      <td>0.0</td>\n",
       "      <td>1.0</td>\n",
       "      <td>1.0</td>\n",
       "      <td>1.0</td>\n",
       "      <td>1.0</td>\n",
       "    </tr>\n",
       "    <tr>\n",
       "      <th>mx_missile</th>\n",
       "      <td>248.0</td>\n",
       "      <td>0.758065</td>\n",
       "      <td>0.429121</td>\n",
       "      <td>0.0</td>\n",
       "      <td>1.0</td>\n",
       "      <td>1.0</td>\n",
       "      <td>1.0</td>\n",
       "      <td>1.0</td>\n",
       "    </tr>\n",
       "    <tr>\n",
       "      <th>immigration</th>\n",
       "      <td>263.0</td>\n",
       "      <td>0.471483</td>\n",
       "      <td>0.500138</td>\n",
       "      <td>0.0</td>\n",
       "      <td>0.0</td>\n",
       "      <td>0.0</td>\n",
       "      <td>1.0</td>\n",
       "      <td>1.0</td>\n",
       "    </tr>\n",
       "    <tr>\n",
       "      <th>synfuels_corporation_cutback</th>\n",
       "      <td>255.0</td>\n",
       "      <td>0.505882</td>\n",
       "      <td>0.500949</td>\n",
       "      <td>0.0</td>\n",
       "      <td>0.0</td>\n",
       "      <td>1.0</td>\n",
       "      <td>1.0</td>\n",
       "      <td>1.0</td>\n",
       "    </tr>\n",
       "    <tr>\n",
       "      <th>education_spending</th>\n",
       "      <td>249.0</td>\n",
       "      <td>0.144578</td>\n",
       "      <td>0.352383</td>\n",
       "      <td>0.0</td>\n",
       "      <td>0.0</td>\n",
       "      <td>0.0</td>\n",
       "      <td>0.0</td>\n",
       "      <td>1.0</td>\n",
       "    </tr>\n",
       "    <tr>\n",
       "      <th>superfund_right_to_sue</th>\n",
       "      <td>252.0</td>\n",
       "      <td>0.289683</td>\n",
       "      <td>0.454518</td>\n",
       "      <td>0.0</td>\n",
       "      <td>0.0</td>\n",
       "      <td>0.0</td>\n",
       "      <td>1.0</td>\n",
       "      <td>1.0</td>\n",
       "    </tr>\n",
       "    <tr>\n",
       "      <th>crime</th>\n",
       "      <td>257.0</td>\n",
       "      <td>0.350195</td>\n",
       "      <td>0.477962</td>\n",
       "      <td>0.0</td>\n",
       "      <td>0.0</td>\n",
       "      <td>0.0</td>\n",
       "      <td>1.0</td>\n",
       "      <td>1.0</td>\n",
       "    </tr>\n",
       "    <tr>\n",
       "      <th>duty_free_exports</th>\n",
       "      <td>251.0</td>\n",
       "      <td>0.637450</td>\n",
       "      <td>0.481697</td>\n",
       "      <td>0.0</td>\n",
       "      <td>0.0</td>\n",
       "      <td>1.0</td>\n",
       "      <td>1.0</td>\n",
       "      <td>1.0</td>\n",
       "    </tr>\n",
       "    <tr>\n",
       "      <th>export_administration_act_south_africa</th>\n",
       "      <td>185.0</td>\n",
       "      <td>0.935135</td>\n",
       "      <td>0.246956</td>\n",
       "      <td>0.0</td>\n",
       "      <td>1.0</td>\n",
       "      <td>1.0</td>\n",
       "      <td>1.0</td>\n",
       "      <td>1.0</td>\n",
       "    </tr>\n",
       "  </tbody>\n",
       "</table>\n",
       "</div>"
      ],
      "text/plain": [
       "                                        count      mean       std  min  25%  \\\n",
       "handicapped_infants                     258.0  0.604651  0.489876  0.0  0.0   \n",
       "water_project_cost_sharing              239.0  0.502092  0.501045  0.0  0.0   \n",
       "adoption_of_the_budget_resolution       260.0  0.888462  0.315405  0.0  1.0   \n",
       "physician_fee_freeze                    259.0  0.054054  0.226562  0.0  0.0   \n",
       "el_salvador_aid                         255.0  0.215686  0.412106  0.0  0.0   \n",
       "religious_groups_in_schools             258.0  0.476744  0.500430  0.0  0.0   \n",
       "anti_satellite_test_ban                 259.0  0.772201  0.420224  0.0  1.0   \n",
       "aid_to_nicaraguan_contras               263.0  0.828897  0.377317  0.0  1.0   \n",
       "mx_missile                              248.0  0.758065  0.429121  0.0  1.0   \n",
       "immigration                             263.0  0.471483  0.500138  0.0  0.0   \n",
       "synfuels_corporation_cutback            255.0  0.505882  0.500949  0.0  0.0   \n",
       "education_spending                      249.0  0.144578  0.352383  0.0  0.0   \n",
       "superfund_right_to_sue                  252.0  0.289683  0.454518  0.0  0.0   \n",
       "crime                                   257.0  0.350195  0.477962  0.0  0.0   \n",
       "duty_free_exports                       251.0  0.637450  0.481697  0.0  0.0   \n",
       "export_administration_act_south_africa  185.0  0.935135  0.246956  0.0  1.0   \n",
       "\n",
       "                                        50%  75%  max  \n",
       "handicapped_infants                     1.0  1.0  1.0  \n",
       "water_project_cost_sharing              1.0  1.0  1.0  \n",
       "adoption_of_the_budget_resolution       1.0  1.0  1.0  \n",
       "physician_fee_freeze                    0.0  0.0  1.0  \n",
       "el_salvador_aid                         0.0  0.0  1.0  \n",
       "religious_groups_in_schools             0.0  1.0  1.0  \n",
       "anti_satellite_test_ban                 1.0  1.0  1.0  \n",
       "aid_to_nicaraguan_contras               1.0  1.0  1.0  \n",
       "mx_missile                              1.0  1.0  1.0  \n",
       "immigration                             0.0  1.0  1.0  \n",
       "synfuels_corporation_cutback            1.0  1.0  1.0  \n",
       "education_spending                      0.0  0.0  1.0  \n",
       "superfund_right_to_sue                  0.0  1.0  1.0  \n",
       "crime                                   0.0  1.0  1.0  \n",
       "duty_free_exports                       1.0  1.0  1.0  \n",
       "export_administration_act_south_africa  1.0  1.0  1.0  "
      ]
     },
     "execution_count": 317,
     "metadata": {},
     "output_type": "execute_result"
    }
   ],
   "source": [
    "votes.loc['democrat'].describe().T"
   ]
  },
  {
   "cell_type": "code",
   "execution_count": 318,
   "metadata": {},
   "outputs": [],
   "source": [
    "import scipy as s\n",
    "\n",
    "def student_t(df):\n",
    "    def dist(t):\n",
    "        numer = np.exp(s.special.gammaln((df+1)/2)-s.special.gammaln(df/2))\n",
    "        denom = np.sqrt(df*np.pi)*np.power((1+np.power(t,2)/df),((df+1)/2))\n",
    "        return (numer/denom)\n",
    "    return dist\n",
    "    \n",
    "def t_test(sample, population):\n",
    "    numer = sample.mean() - population.mean()\n",
    "    denom = sample.std()/np.sqrt(sample.size)\n",
    "    return numer/denom\n",
    "\n",
    "def p_value(sample, population):\n",
    "    df = sample.size - 1\n",
    "    dist = student_t(df)\n",
    "    t_score = t_test(sample, population)\n",
    "    return dist(t_score)\n",
    "\n",
    "def welch_t_test(sample_1, sample_2):\n",
    "    numer = sample_1.mean() - sample_2.mean()\n",
    "    denom = np.sqrt((np.power(sample_1.std(),2)/sample_1.size) + (np.power(sample_2.std(),2)/sample_2.size))\n",
    "    return numer/denom\n",
    "\n",
    "def welch_df(sample_1, sample_2):\n",
    "    numer_1 = sample_1.var()/sample_1.size\n",
    "    numer_2 = sample_2.var()/sample_2.size\n",
    "    numer = np.power(numer_1+numer_2, 2)\n",
    "    \n",
    "    a = (np.power(sample_1.size, 2)*(sample_1.size-1))\n",
    "    b = (np.power(sample_2.size, 2)*(sample_2.size-1))\n",
    "    denom_1 = np.power(sample_1.var(), 2)/a\n",
    "    denom_2 = np.power(sample_2.var(), 2)/b\n",
    "    \n",
    "    denom = denom_1+denom_2\n",
    "        \n",
    "    return numer/denom\n",
    "\n",
    "def welch_satterthwaite(*samples):\n",
    "    ks = [1/(sample.size+1) for sample in samples]\n",
    "    vs = [sample.var() for sample in samples]\n",
    "    \n",
    "    numer = np.power(sum([k*v for k,v in zip(ks,vs)]), 2)\n",
    "    denom_1 = [np.power((k*v), 2) for k,v in zip(ks,vs)]\n",
    "    denom = sum([d/sample.size for d, sample in zip(denom_1,samples)])\n",
    "    return numer/denom\n",
    "\n",
    "def welch_p_value(sample_1, sample_2):\n",
    "    df = welch_df(sample_1, sample_2)\n",
    "    dist = student_t(df)\n",
    "    t_score = welch_t_test(sample_1, sample_2)    \n",
    "    return 2*dist(t_score)"
   ]
  },
  {
   "cell_type": "code",
   "execution_count": 319,
   "metadata": {},
   "outputs": [
    {
     "data": {
      "text/html": [
       "<div>\n",
       "<style scoped>\n",
       "    .dataframe tbody tr th:only-of-type {\n",
       "        vertical-align: middle;\n",
       "    }\n",
       "\n",
       "    .dataframe tbody tr th {\n",
       "        vertical-align: top;\n",
       "    }\n",
       "\n",
       "    .dataframe thead th {\n",
       "        text-align: right;\n",
       "    }\n",
       "</style>\n",
       "<table border=\"1\" class=\"dataframe\">\n",
       "  <thead>\n",
       "    <tr style=\"text-align: right;\">\n",
       "      <th></th>\n",
       "      <th>df</th>\n",
       "      <th>ws_df</th>\n",
       "      <th>t_test</th>\n",
       "      <th>p_value</th>\n",
       "    </tr>\n",
       "  </thead>\n",
       "  <tbody>\n",
       "    <tr>\n",
       "      <th>handicapped_infants</th>\n",
       "      <td>408.794283</td>\n",
       "      <td>411.109039</td>\n",
       "      <td>9.789353</td>\n",
       "      <td>1.448256e-19</td>\n",
       "    </tr>\n",
       "    <tr>\n",
       "      <th>water_project_cost_sharing</th>\n",
       "      <td>354.706619</td>\n",
       "      <td>356.966501</td>\n",
       "      <td>-0.094469</td>\n",
       "      <td>7.937626e-01</td>\n",
       "    </tr>\n",
       "    <tr>\n",
       "      <th>adoption_of_the_budget_resolution</th>\n",
       "      <td>333.702383</td>\n",
       "      <td>335.875724</td>\n",
       "      <td>23.079484</td>\n",
       "      <td>3.639653e-70</td>\n",
       "    </tr>\n",
       "    <tr>\n",
       "      <th>physician_fee_freeze</th>\n",
       "      <td>410.480769</td>\n",
       "      <td>412.025394</td>\n",
       "      <td>-57.477422</td>\n",
       "      <td>1.252148e-197</td>\n",
       "    </tr>\n",
       "    <tr>\n",
       "      <th>el_salvador_aid</th>\n",
       "      <td>420.806292</td>\n",
       "      <td>422.470395</td>\n",
       "      <td>-24.360977</td>\n",
       "      <td>2.099993e-81</td>\n",
       "    </tr>\n",
       "    <tr>\n",
       "      <th>religious_groups_in_schools</th>\n",
       "      <td>432.541749</td>\n",
       "      <td>434.477712</td>\n",
       "      <td>-10.908427</td>\n",
       "      <td>1.053189e-23</td>\n",
       "    </tr>\n",
       "    <tr>\n",
       "      <th>anti_satellite_test_ban</th>\n",
       "      <td>349.619565</td>\n",
       "      <td>351.860784</td>\n",
       "      <td>12.682089</td>\n",
       "      <td>1.222973e-29</td>\n",
       "    </tr>\n",
       "    <tr>\n",
       "      <th>aid_to_nicaraguan_contras</th>\n",
       "      <td>366.702592</td>\n",
       "      <td>368.999697</td>\n",
       "      <td>18.685329</td>\n",
       "      <td>3.104696e-54</td>\n",
       "    </tr>\n",
       "    <tr>\n",
       "      <th>mx_missile</th>\n",
       "      <td>420.551816</td>\n",
       "      <td>422.809691</td>\n",
       "      <td>17.832031</td>\n",
       "      <td>2.271593e-52</td>\n",
       "    </tr>\n",
       "    <tr>\n",
       "      <th>immigration</th>\n",
       "      <td>356.067317</td>\n",
       "      <td>358.331915</td>\n",
       "      <td>-1.752201</td>\n",
       "      <td>1.721636e-01</td>\n",
       "    </tr>\n",
       "    <tr>\n",
       "      <th>synfuels_corporation_cutback</th>\n",
       "      <td>430.582407</td>\n",
       "      <td>432.710947</td>\n",
       "      <td>9.268631</td>\n",
       "      <td>7.128201e-18</td>\n",
       "    </tr>\n",
       "    <tr>\n",
       "      <th>education_spending</th>\n",
       "      <td>367.349513</td>\n",
       "      <td>369.648329</td>\n",
       "      <td>-21.529276</td>\n",
       "      <td>4.180929e-66</td>\n",
       "    </tr>\n",
       "    <tr>\n",
       "      <th>superfund_right_to_sue</th>\n",
       "      <td>416.910754</td>\n",
       "      <td>419.192044</td>\n",
       "      <td>-14.786188</td>\n",
       "      <td>4.382192e-39</td>\n",
       "    </tr>\n",
       "    <tr>\n",
       "      <th>crime</th>\n",
       "      <td>329.851417</td>\n",
       "      <td>330.982081</td>\n",
       "      <td>-20.316720</td>\n",
       "      <td>3.958679e-59</td>\n",
       "    </tr>\n",
       "    <tr>\n",
       "      <th>duty_free_exports</th>\n",
       "      <td>431.822275</td>\n",
       "      <td>433.719785</td>\n",
       "      <td>14.860424</td>\n",
       "      <td>1.208455e-39</td>\n",
       "    </tr>\n",
       "    <tr>\n",
       "      <th>export_administration_act_south_africa</th>\n",
       "      <td>224.278068</td>\n",
       "      <td>225.738243</td>\n",
       "      <td>6.988156</td>\n",
       "      <td>1.839371e-10</td>\n",
       "    </tr>\n",
       "  </tbody>\n",
       "</table>\n",
       "</div>"
      ],
      "text/plain": [
       "                                                df       ws_df     t_test  \\\n",
       "handicapped_infants                     408.794283  411.109039   9.789353   \n",
       "water_project_cost_sharing              354.706619  356.966501  -0.094469   \n",
       "adoption_of_the_budget_resolution       333.702383  335.875724  23.079484   \n",
       "physician_fee_freeze                    410.480769  412.025394 -57.477422   \n",
       "el_salvador_aid                         420.806292  422.470395 -24.360977   \n",
       "religious_groups_in_schools             432.541749  434.477712 -10.908427   \n",
       "anti_satellite_test_ban                 349.619565  351.860784  12.682089   \n",
       "aid_to_nicaraguan_contras               366.702592  368.999697  18.685329   \n",
       "mx_missile                              420.551816  422.809691  17.832031   \n",
       "immigration                             356.067317  358.331915  -1.752201   \n",
       "synfuels_corporation_cutback            430.582407  432.710947   9.268631   \n",
       "education_spending                      367.349513  369.648329 -21.529276   \n",
       "superfund_right_to_sue                  416.910754  419.192044 -14.786188   \n",
       "crime                                   329.851417  330.982081 -20.316720   \n",
       "duty_free_exports                       431.822275  433.719785  14.860424   \n",
       "export_administration_act_south_africa  224.278068  225.738243   6.988156   \n",
       "\n",
       "                                              p_value  \n",
       "handicapped_infants                      1.448256e-19  \n",
       "water_project_cost_sharing               7.937626e-01  \n",
       "adoption_of_the_budget_resolution        3.639653e-70  \n",
       "physician_fee_freeze                    1.252148e-197  \n",
       "el_salvador_aid                          2.099993e-81  \n",
       "religious_groups_in_schools              1.053189e-23  \n",
       "anti_satellite_test_ban                  1.222973e-29  \n",
       "aid_to_nicaraguan_contras                3.104696e-54  \n",
       "mx_missile                               2.271593e-52  \n",
       "immigration                              1.721636e-01  \n",
       "synfuels_corporation_cutback             7.128201e-18  \n",
       "education_spending                       4.180929e-66  \n",
       "superfund_right_to_sue                   4.382192e-39  \n",
       "crime                                    3.958679e-59  \n",
       "duty_free_exports                        1.208455e-39  \n",
       "export_administration_act_south_africa   1.839371e-10  "
      ]
     },
     "execution_count": 319,
     "metadata": {},
     "output_type": "execute_result"
    }
   ],
   "source": [
    "signifigances = pd.DataFrame()\n",
    "\n",
    "for issue in issues:\n",
    "    reps = votes.loc['republican', issue]\n",
    "    dems = votes.loc['democrat', issue]\n",
    "\n",
    "    df = welch_df(dems, reps)\n",
    "    ws_df = welch_satterthwaite(dems, reps)\n",
    "    ttest = welch_t_test(dems, reps)\n",
    "    pvalue = welch_p_value(dems, reps)\n",
    "    \n",
    "    signifigances.loc[issue, 'df'] = df\n",
    "    signifigances.loc[issue, 'ws_df'] = ws_df\n",
    "    signifigances.loc[issue, 't_test'] = ttest\n",
    "    signifigances.loc[issue, 'p_value'] = pvalue\n",
    "    \n",
    "signifigances"
   ]
  },
  {
   "cell_type": "code",
   "execution_count": 320,
   "metadata": {},
   "outputs": [
    {
     "data": {
      "text/plain": [
       "df         0\n",
       "ws_df      0\n",
       "t_test     0\n",
       "p_value    0\n",
       "dtype: int64"
      ]
     },
     "execution_count": 320,
     "metadata": {},
     "output_type": "execute_result"
    }
   ],
   "source": [
    "signifigances.isnull().sum()"
   ]
  },
  {
   "cell_type": "code",
   "execution_count": 339,
   "metadata": {},
   "outputs": [
    {
     "data": {
      "text/plain": [
       "<matplotlib.lines.Line2D at 0x7f21b94186d8>"
      ]
     },
     "execution_count": 339,
     "metadata": {},
     "output_type": "execute_result"
    },
    {
     "data": {
      "image/png": "[encoded data removed]",
      "text/plain": [
       "<Figure size 432x288 with 1 Axes>"
      ]
     },
     "metadata": {
      "needs_background": "light"
     },
     "output_type": "display_data"
    }
   ],
   "source": [
    "# This is the plot that the null hypothesis, that there is no difference between the average\n",
    "# republican and democratic voter with respect to voting on 'water_project_cost_sharing', is\n",
    "# true. Here we can see that the probability that there is no difference between democrats and\n",
    "# republicans is high, however there is slight favor torwards the directional hypothesis that\n",
    "# democrats are more likely to vote for this issue, however we would not consider it signigicant,\n",
    "# i.e. less than 0.025. More to the point, we cannot say that this favoring by democrats indicated\n",
    "# by the plot is free of error, so we can't necessairily generalize what we observe to larger populations,\n",
    "# say, if we created some large N more seats in the house, and dolled them out to both parties and re-did\n",
    "# our measurement.\n",
    "\n",
    "t = student_t(signifigances.loc['water_project_cost_sharing', 'df'])\n",
    "x = np.linspace(-5,5,100)\n",
    "plt.plot(x, t(x))\n",
    "\n",
    "ttest = signifigances.loc['water_project_cost_sharing', 't_test']\n",
    "pvalue = signifigances.loc['water_project_cost_sharing', 'p_value']\n",
    "\n",
    "plt.axvline(ttest, color='r')\n",
    "plt.axhline(pvalue, color='b')"
   ]
  },
  {
   "cell_type": "code",
   "execution_count": 334,
   "metadata": {},
   "outputs": [
    {
     "data": {
      "text/plain": [
       "<matplotlib.lines.Line2D at 0x7f21b9fe9f28>"
      ]
     },
     "execution_count": 334,
     "metadata": {},
     "output_type": "execute_result"
    },
    {
     "data": {
      "image/png": "[encoded data removed]",
      "text/plain": [
       "<Figure size 432x288 with 1 Axes>"
      ]
     },
     "metadata": {
      "needs_background": "light"
     },
     "output_type": "display_data"
    }
   ],
   "source": [
    "t = student_t(signifigances.loc['handicapped_infants', 'df'])\n",
    "x = np.linspace(-5,5,100)\n",
    "plt.plot(x, t(x))\n",
    "\n",
    "ttest = signifigances.loc['handicapped_infants', 't_test']\n",
    "pvalue = signifigances.loc['handicapped_infants', 'p_value']\n",
    "\n",
    "plt.axvline(ttest, color='r')\n",
    "plt.axhline(pvalue, color='b')"
   ]
  },
  {
   "cell_type": "code",
   "execution_count": 323,
   "metadata": {},
   "outputs": [
    {
     "data": {
      "text/plain": [
       "<matplotlib.axes._subplots.AxesSubplot at 0x7f21b96a6d68>"
      ]
     },
     "execution_count": 323,
     "metadata": {},
     "output_type": "execute_result"
    },
    {
     "data": {
      "image/png": "[encoded data removed]",
      "text/plain": [
       "<Figure size 432x288 with 1 Axes>"
      ]
     },
     "metadata": {
      "needs_background": "light"
     },
     "output_type": "display_data"
    }
   ],
   "source": [
    "df = pd.DataFrame({\n",
    "    'dem_std': votes.loc['democrat'].describe().T['std'],\n",
    "    'rep_std': votes.loc['republican'].describe().T['std'],\n",
    "    'pop': votes.describe().T['std'],\n",
    "    'df': signifigances['df']\n",
    "})\n",
    "\n",
    "ax = plt.subplot(111)\n",
    "df.plot.scatter(x='df', y='dem_std', ax=ax, color='b')\n",
    "df.plot.scatter(x='df', y='rep_std', ax=ax, color='r')\n",
    "df.plot.scatter(x='df', y='pop', ax=ax, color='y')"
   ]
  },
  {
   "cell_type": "code",
   "execution_count": 324,
   "metadata": {},
   "outputs": [
    {
     "data": {
      "text/plain": [
       "<matplotlib.axes._subplots.AxesSubplot at 0x7f21b968e908>"
      ]
     },
     "execution_count": 324,
     "metadata": {},
     "output_type": "execute_result"
    },
    {
     "data": {
      "image/png": "[encoded data removed]",
      "text/plain": [
       "<Figure size 432x288 with 1 Axes>"
      ]
     },
     "metadata": {
      "needs_background": "light"
     },
     "output_type": "display_data"
    }
   ],
   "source": [
    "df = pd.DataFrame({\n",
    "    'dem_std': votes.loc['democrat'].describe().T['mean'],\n",
    "    'rep_std': votes.loc['republican'].describe().T['mean'],\n",
    "    'pop': votes.describe().T['mean'],\n",
    "    'df': signifigances['df']\n",
    "})\n",
    "\n",
    "ax = plt.subplot(111)\n",
    "df.plot.scatter(x='df', y='dem_std', ax=ax, color='b')\n",
    "df.plot.scatter(x='df', y='rep_std', ax=ax, color='r')\n",
    "df.plot.scatter(x='df', y='pop', ax=ax, color='y')"
   ]
  },
  {
   "cell_type": "code",
   "execution_count": 325,
   "metadata": {},
   "outputs": [
    {
     "data": {
      "text/html": [
       "<div>\n",
       "<style scoped>\n",
       "    .dataframe tbody tr th:only-of-type {\n",
       "        vertical-align: middle;\n",
       "    }\n",
       "\n",
       "    .dataframe tbody tr th {\n",
       "        vertical-align: top;\n",
       "    }\n",
       "\n",
       "    .dataframe thead th {\n",
       "        text-align: right;\n",
       "    }\n",
       "</style>\n",
       "<table border=\"1\" class=\"dataframe\">\n",
       "  <thead>\n",
       "    <tr style=\"text-align: right;\">\n",
       "      <th></th>\n",
       "      <th>t_test</th>\n",
       "      <th>p_value</th>\n",
       "    </tr>\n",
       "  </thead>\n",
       "  <tbody>\n",
       "    <tr>\n",
       "      <th>handicapped_infants</th>\n",
       "      <td>9.662337</td>\n",
       "      <td>5.429019e-20</td>\n",
       "    </tr>\n",
       "    <tr>\n",
       "      <th>water_project_cost_sharing</th>\n",
       "      <td>-0.088940</td>\n",
       "      <td>9.291868e-01</td>\n",
       "    </tr>\n",
       "    <tr>\n",
       "      <th>adoption_of_the_budget_resolution</th>\n",
       "      <td>22.793246</td>\n",
       "      <td>1.946704e-69</td>\n",
       "    </tr>\n",
       "    <tr>\n",
       "      <th>physician_fee_freeze</th>\n",
       "      <td>-56.704806</td>\n",
       "      <td>8.820761e-193</td>\n",
       "    </tr>\n",
       "    <tr>\n",
       "      <th>el_salvador_aid</th>\n",
       "      <td>-23.907288</td>\n",
       "      <td>2.898373e-79</td>\n",
       "    </tr>\n",
       "    <tr>\n",
       "      <th>religious_groups_in_schools</th>\n",
       "      <td>-10.767025</td>\n",
       "      <td>4.830932e-24</td>\n",
       "    </tr>\n",
       "    <tr>\n",
       "      <th>anti_satellite_test_ban</th>\n",
       "      <td>12.467493</td>\n",
       "      <td>1.362781e-29</td>\n",
       "    </tr>\n",
       "    <tr>\n",
       "      <th>aid_to_nicaraguan_contras</th>\n",
       "      <td>18.254856</td>\n",
       "      <td>2.288121e-52</td>\n",
       "    </tr>\n",
       "    <tr>\n",
       "      <th>mx_missile</th>\n",
       "      <td>17.409048</td>\n",
       "      <td>4.289262e-51</td>\n",
       "    </tr>\n",
       "    <tr>\n",
       "      <th>immigration</th>\n",
       "      <td>-1.737470</td>\n",
       "      <td>8.318509e-02</td>\n",
       "    </tr>\n",
       "    <tr>\n",
       "      <th>synfuels_corporation_cutback</th>\n",
       "      <td>9.040574</td>\n",
       "      <td>6.298960e-18</td>\n",
       "    </tr>\n",
       "    <tr>\n",
       "      <th>education_spending</th>\n",
       "      <td>-20.724816</td>\n",
       "      <td>3.568751e-62</td>\n",
       "    </tr>\n",
       "    <tr>\n",
       "      <th>superfund_right_to_sue</th>\n",
       "      <td>-14.352567</td>\n",
       "      <td>7.597900e-38</td>\n",
       "    </tr>\n",
       "    <tr>\n",
       "      <th>crime</th>\n",
       "      <td>-19.927656</td>\n",
       "      <td>6.862816e-58</td>\n",
       "    </tr>\n",
       "    <tr>\n",
       "      <th>duty_free_exports</th>\n",
       "      <td>14.376245</td>\n",
       "      <td>3.812922e-38</td>\n",
       "    </tr>\n",
       "    <tr>\n",
       "      <th>export_administration_act_south_africa</th>\n",
       "      <td>6.397887</td>\n",
       "      <td>1.042864e-09</td>\n",
       "    </tr>\n",
       "  </tbody>\n",
       "</table>\n",
       "</div>"
      ],
      "text/plain": [
       "                                           t_test        p_value\n",
       "handicapped_infants                      9.662337   5.429019e-20\n",
       "water_project_cost_sharing              -0.088940   9.291868e-01\n",
       "adoption_of_the_budget_resolution       22.793246   1.946704e-69\n",
       "physician_fee_freeze                   -56.704806  8.820761e-193\n",
       "el_salvador_aid                        -23.907288   2.898373e-79\n",
       "religious_groups_in_schools            -10.767025   4.830932e-24\n",
       "anti_satellite_test_ban                 12.467493   1.362781e-29\n",
       "aid_to_nicaraguan_contras               18.254856   2.288121e-52\n",
       "mx_missile                              17.409048   4.289262e-51\n",
       "immigration                             -1.737470   8.318509e-02\n",
       "synfuels_corporation_cutback             9.040574   6.298960e-18\n",
       "education_spending                     -20.724816   3.568751e-62\n",
       "superfund_right_to_sue                 -14.352567   7.597900e-38\n",
       "crime                                  -19.927656   6.862816e-58\n",
       "duty_free_exports                       14.376245   3.812922e-38\n",
       "export_administration_act_south_africa   6.397887   1.042864e-09"
      ]
     },
     "execution_count": 325,
     "metadata": {},
     "output_type": "execute_result"
    }
   ],
   "source": [
    "scipy_tests = pd.DataFrame()\n",
    "\n",
    "for issue in issues:\n",
    "    democrats = votes.loc['democrat', issue]\n",
    "    republicans = votes.loc['republican', issue]\n",
    "\n",
    "    ttest, pvalue = s.stats.ttest_ind(democrats, republicans, nan_policy='omit', equal_var=False)\n",
    "\n",
    "    scipy_tests.loc[issue, 't_test'] = ttest\n",
    "    scipy_tests.loc[issue, 'p_value'] = pvalue\n",
    "\n",
    "scipy_tests"
   ]
  },
  {
   "cell_type": "code",
   "execution_count": 338,
   "metadata": {},
   "outputs": [
    {
     "data": {
      "text/plain": [
       "<matplotlib.lines.Line2D at 0x7f21b94c95f8>"
      ]
     },
     "execution_count": 338,
     "metadata": {},
     "output_type": "execute_result"
    },
    {
     "data": {
      "image/png": "[encoded data removed]",
      "text/plain": [
       "<Figure size 432x288 with 1 Axes>"
      ]
     },
     "metadata": {
      "needs_background": "light"
     },
     "output_type": "display_data"
    }
   ],
   "source": [
    "# The same but using builtin functions\n",
    "t = s.stats.t(signifigances.loc['water_project_cost_sharing', 'df'], loc=0, scale=1)\n",
    "x = np.linspace(-5,5,500)\n",
    "plt.plot(x, t.pdf(x))\n",
    "\n",
    "ttest = scipy_tests.loc['water_project_cost_sharing', 't_test']\n",
    "pvalue = scipy_tests.loc['water_project_cost_sharing', 'p_value']\n",
    "\n",
    "plt.axvline(ttest, color='r')\n",
    "plt.axhline(pvalue, color='b')"
   ]
  },
  {
   "cell_type": "code",
   "execution_count": 327,
   "metadata": {},
   "outputs": [
    {
     "data": {
      "text/plain": [
       "<matplotlib.legend.Legend at 0x7f21b9573588>"
      ]
     },
     "execution_count": 327,
     "metadata": {},
     "output_type": "execute_result"
    },
    {
     "data": {
      "image/png": "[encoded data removed]",
      "text/plain": [
       "<Figure size 432x288 with 1 Axes>"
      ]
     },
     "metadata": {
      "needs_background": "light"
     },
     "output_type": "display_data"
    }
   ],
   "source": [
    "ax = plt.subplot(111)\n",
    "\n",
    "\n",
    "df = signifigances.loc['water_project_cost_sharing', 'df']\n",
    "\n",
    "x = np.linspace(s.stats.t.ppf(0.05, df), s.stats.t.ppf(0.95, df), 100)\n",
    "rv = s.stats.t(df)\n",
    "ax.plot(x, rv.pdf(x), 'k-', lw=2, label='frozen pdf')\n",
    "\n",
    "vals = s.stats.t.ppf([0.001, 0.5, 0.999], df)\n",
    "\n",
    "r = s.stats.t.rvs(df, size=100000)\n",
    "\n",
    "ax.hist(r, density=True, histtype='stepfilled', alpha=0.2)\n",
    "\n",
    "ttest = scipy_tests.loc['water_project_cost_sharing', 't_test']\n",
    "pvalue = scipy_tests.loc['water_project_cost_sharing', 'p_value']\n",
    "\n",
    "plt.axvline(x=ttest, color='r')\n",
    "plt.axhline(y=pvalue, color='b')\n",
    "\n",
    "ax.legend(loc='best', frameon=False)"
   ]
  },
  {
   "cell_type": "code",
   "execution_count": 328,
   "metadata": {},
   "outputs": [],
   "source": [
    "threshold = 0.01"
   ]
  },
  {
   "cell_type": "code",
   "execution_count": 329,
   "metadata": {},
   "outputs": [
    {
     "data": {
      "text/plain": [
       "array(['handicapped_infants', 'adoption_of_the_budget_resolution',\n",
       "       'anti_satellite_test_ban', 'aid_to_nicaraguan_contras',\n",
       "       'mx_missile', 'synfuels_corporation_cutback', 'duty_free_exports',\n",
       "       'export_administration_act_south_africa'], dtype=object)"
      ]
     },
     "execution_count": 329,
     "metadata": {},
     "output_type": "execute_result"
    }
   ],
   "source": [
    "# bills which democrats are more likely to support than republicans\n",
    "is_significant = signifigances['p_value'] < threshold\n",
    "is_favored_by_democrats = 0 < signifigances['t_test']\n",
    "\n",
    "signifigances[is_favored_by_democrats & is_significant].index.values"
   ]
  },
  {
   "cell_type": "code",
   "execution_count": 330,
   "metadata": {},
   "outputs": [
    {
     "data": {
      "text/plain": [
       "array(['physician_fee_freeze', 'el_salvador_aid',\n",
       "       'religious_groups_in_schools', 'education_spending',\n",
       "       'superfund_right_to_sue', 'crime'], dtype=object)"
      ]
     },
     "execution_count": 330,
     "metadata": {},
     "output_type": "execute_result"
    }
   ],
   "source": [
    "# bills which democrats are more likely to support than republicans\n",
    "is_significant = signifigances['p_value'] < threshold\n",
    "is_favored_by_republicans = signifigances['t_test'] < 0\n",
    "\n",
    "signifigances[is_favored_by_republicans & is_significant].index.values"
   ]
  },
  {
   "cell_type": "code",
   "execution_count": 331,
   "metadata": {},
   "outputs": [
    {
     "data": {
      "text/plain": [
       "array(['water_project_cost_sharing', 'immigration'], dtype=object)"
      ]
     },
     "execution_count": 331,
     "metadata": {},
     "output_type": "execute_result"
    }
   ],
   "source": [
    "# Using hypothesis testing, find an issue where the difference between republicans and democrats has p > 0.1\n",
    "threshold = 0.1\n",
    "\n",
    "is_significant = signifigances['p_value'] > threshold\n",
    "\n",
    "signifigances[is_significant].index.values"
   ]
  }
 ],
 "metadata": {
  "colab": {
   "name": "LS DS 141 Statistics Probability and Inference.ipynb",
   "provenance": [],
   "version": "0.3.2"
  },
  "kernelspec": {
   "display_name": "Python 3",
   "language": "python",
   "name": "python3"
  },
  "language_info": {
   "codemirror_mode": {
    "name": "ipython",
    "version": 3
   },
   "file_extension": ".py",
   "mimetype": "text/x-python",
   "name": "python",
   "nbconvert_exporter": "python",
   "pygments_lexer": "ipython3",
   "version": "3.6.7"
  }
 },
 "nbformat": 4,
 "nbformat_minor": 2
}
