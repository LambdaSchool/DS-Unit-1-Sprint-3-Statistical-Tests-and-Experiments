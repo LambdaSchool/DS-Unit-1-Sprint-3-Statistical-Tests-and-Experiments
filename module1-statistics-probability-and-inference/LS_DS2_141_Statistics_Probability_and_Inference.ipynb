{
  "nbformat": 4,
  "nbformat_minor": 0,
  "metadata": {
    "colab": {
      "name": "LS_DS2_141_Statistics_Probability_and_Inference.ipynb",
      "version": "0.3.2",
      "provenance": [],
      "collapsed_sections": [],
      "include_colab_link": true
    },
    "kernelspec": {
      "name": "python3",
      "display_name": "Python 3"
    }
  },
  "cells": [
    {
      "cell_type": "markdown",
      "metadata": {
        "id": "view-in-github",
        "colab_type": "text"
      },
      "source": [
        "<a href=\"https://colab.research.google.com/github/extrajp2014/DS-Unit-1-Sprint-4-Statistical-Tests-and-Experiments/blob/master/module1-statistics-probability-and-inference/LS_DS2_141_Statistics_Probability_and_Inference.ipynb\" target=\"_parent\"><img src=\"https://colab.research.google.com/assets/colab-badge.svg\" alt=\"Open In Colab\"/></a>"
      ]
    },
    {
      "metadata": {
        "id": "eJGtmni-DezY",
        "colab_type": "text"
      },
      "cell_type": "markdown",
      "source": [
        "# Lambda School Data Science Module 141\n",
        "## Statistics, Probability, and Inference"
      ]
    },
    {
      "metadata": {
        "id": "FMhDKOFND0qY",
        "colab_type": "text"
      },
      "cell_type": "markdown",
      "source": [
        "## Prepare - examine what's available in SciPy\n",
        "\n",
        "As we delve into statistics, we'll be using more libraries - in particular the [stats package from SciPy](https://docs.scipy.org/doc/scipy/reference/tutorial/stats.html)."
      ]
    },
    {
      "metadata": {
        "id": "fQ9rkLJmEbsk",
        "colab_type": "code",
        "outputId": "e4062160-6da1-48c2-b098-28bc23fff412",
        "colab": {
          "base_uri": "https://localhost:8080/",
          "height": 4233
        }
      },
      "cell_type": "code",
      "source": [
        "from scipy import stats\n",
        "dir(stats)"
      ],
      "execution_count": 1,
      "outputs": [
        {
          "output_type": "execute_result",
          "data": {
            "text/plain": [
              "['__all__',\n",
              " '__builtins__',\n",
              " '__cached__',\n",
              " '__doc__',\n",
              " '__file__',\n",
              " '__loader__',\n",
              " '__name__',\n",
              " '__package__',\n",
              " '__path__',\n",
              " '__spec__',\n",
              " '_binned_statistic',\n",
              " '_constants',\n",
              " '_continuous_distns',\n",
              " '_discrete_distns',\n",
              " '_distn_infrastructure',\n",
              " '_distr_params',\n",
              " '_multivariate',\n",
              " '_stats',\n",
              " '_stats_mstats_common',\n",
              " '_tukeylambda_stats',\n",
              " 'absolute_import',\n",
              " 'alpha',\n",
              " 'anderson',\n",
              " 'anderson_ksamp',\n",
              " 'anglit',\n",
              " 'ansari',\n",
              " 'arcsine',\n",
              " 'argus',\n",
              " 'bartlett',\n",
              " 'bayes_mvs',\n",
              " 'bernoulli',\n",
              " 'beta',\n",
              " 'betaprime',\n",
              " 'binned_statistic',\n",
              " 'binned_statistic_2d',\n",
              " 'binned_statistic_dd',\n",
              " 'binom',\n",
              " 'binom_test',\n",
              " 'boltzmann',\n",
              " 'boxcox',\n",
              " 'boxcox_llf',\n",
              " 'boxcox_normmax',\n",
              " 'boxcox_normplot',\n",
              " 'bradford',\n",
              " 'burr',\n",
              " 'burr12',\n",
              " 'cauchy',\n",
              " 'chi',\n",
              " 'chi2',\n",
              " 'chi2_contingency',\n",
              " 'chisquare',\n",
              " 'circmean',\n",
              " 'circstd',\n",
              " 'circvar',\n",
              " 'combine_pvalues',\n",
              " 'contingency',\n",
              " 'cosine',\n",
              " 'crystalball',\n",
              " 'cumfreq',\n",
              " 'describe',\n",
              " 'dgamma',\n",
              " 'dirichlet',\n",
              " 'distributions',\n",
              " 'division',\n",
              " 'dlaplace',\n",
              " 'dweibull',\n",
              " 'energy_distance',\n",
              " 'entropy',\n",
              " 'erlang',\n",
              " 'expon',\n",
              " 'exponnorm',\n",
              " 'exponpow',\n",
              " 'exponweib',\n",
              " 'f',\n",
              " 'f_oneway',\n",
              " 'fatiguelife',\n",
              " 'find_repeats',\n",
              " 'fisher_exact',\n",
              " 'fisk',\n",
              " 'fligner',\n",
              " 'foldcauchy',\n",
              " 'foldnorm',\n",
              " 'frechet_l',\n",
              " 'frechet_r',\n",
              " 'friedmanchisquare',\n",
              " 'gamma',\n",
              " 'gausshyper',\n",
              " 'gaussian_kde',\n",
              " 'genexpon',\n",
              " 'genextreme',\n",
              " 'gengamma',\n",
              " 'genhalflogistic',\n",
              " 'genlogistic',\n",
              " 'gennorm',\n",
              " 'genpareto',\n",
              " 'geom',\n",
              " 'gilbrat',\n",
              " 'gmean',\n",
              " 'gompertz',\n",
              " 'gumbel_l',\n",
              " 'gumbel_r',\n",
              " 'halfcauchy',\n",
              " 'halfgennorm',\n",
              " 'halflogistic',\n",
              " 'halfnorm',\n",
              " 'hmean',\n",
              " 'hypergeom',\n",
              " 'hypsecant',\n",
              " 'invgamma',\n",
              " 'invgauss',\n",
              " 'invweibull',\n",
              " 'invwishart',\n",
              " 'iqr',\n",
              " 'itemfreq',\n",
              " 'jarque_bera',\n",
              " 'johnsonsb',\n",
              " 'johnsonsu',\n",
              " 'kappa3',\n",
              " 'kappa4',\n",
              " 'kde',\n",
              " 'kendalltau',\n",
              " 'kruskal',\n",
              " 'ks_2samp',\n",
              " 'ksone',\n",
              " 'kstat',\n",
              " 'kstatvar',\n",
              " 'kstest',\n",
              " 'kstwobign',\n",
              " 'kurtosis',\n",
              " 'kurtosistest',\n",
              " 'laplace',\n",
              " 'levene',\n",
              " 'levy',\n",
              " 'levy_l',\n",
              " 'levy_stable',\n",
              " 'linregress',\n",
              " 'loggamma',\n",
              " 'logistic',\n",
              " 'loglaplace',\n",
              " 'lognorm',\n",
              " 'logser',\n",
              " 'lomax',\n",
              " 'mannwhitneyu',\n",
              " 'matrix_normal',\n",
              " 'maxwell',\n",
              " 'median_test',\n",
              " 'mielke',\n",
              " 'mode',\n",
              " 'moment',\n",
              " 'mood',\n",
              " 'morestats',\n",
              " 'moyal',\n",
              " 'mstats',\n",
              " 'mstats_basic',\n",
              " 'mstats_extras',\n",
              " 'multinomial',\n",
              " 'multivariate_normal',\n",
              " 'mvn',\n",
              " 'mvsdist',\n",
              " 'nakagami',\n",
              " 'nbinom',\n",
              " 'ncf',\n",
              " 'nct',\n",
              " 'ncx2',\n",
              " 'norm',\n",
              " 'normaltest',\n",
              " 'norminvgauss',\n",
              " 'obrientransform',\n",
              " 'ortho_group',\n",
              " 'pareto',\n",
              " 'pearson3',\n",
              " 'pearsonr',\n",
              " 'percentileofscore',\n",
              " 'planck',\n",
              " 'pointbiserialr',\n",
              " 'poisson',\n",
              " 'power_divergence',\n",
              " 'powerlaw',\n",
              " 'powerlognorm',\n",
              " 'powernorm',\n",
              " 'ppcc_max',\n",
              " 'ppcc_plot',\n",
              " 'print_function',\n",
              " 'probplot',\n",
              " 'randint',\n",
              " 'random_correlation',\n",
              " 'rankdata',\n",
              " 'ranksums',\n",
              " 'rayleigh',\n",
              " 'rdist',\n",
              " 'recipinvgauss',\n",
              " 'reciprocal',\n",
              " 'relfreq',\n",
              " 'rice',\n",
              " 'rv_continuous',\n",
              " 'rv_discrete',\n",
              " 'rv_histogram',\n",
              " 'scoreatpercentile',\n",
              " 'sem',\n",
              " 'semicircular',\n",
              " 'shapiro',\n",
              " 'sigmaclip',\n",
              " 'skellam',\n",
              " 'skew',\n",
              " 'skewnorm',\n",
              " 'skewtest',\n",
              " 'spearmanr',\n",
              " 'special_ortho_group',\n",
              " 'statlib',\n",
              " 'stats',\n",
              " 't',\n",
              " 'test',\n",
              " 'theilslopes',\n",
              " 'tiecorrect',\n",
              " 'tmax',\n",
              " 'tmean',\n",
              " 'tmin',\n",
              " 'trapz',\n",
              " 'triang',\n",
              " 'trim1',\n",
              " 'trim_mean',\n",
              " 'trimboth',\n",
              " 'truncexpon',\n",
              " 'truncnorm',\n",
              " 'tsem',\n",
              " 'tstd',\n",
              " 'ttest_1samp',\n",
              " 'ttest_ind',\n",
              " 'ttest_ind_from_stats',\n",
              " 'ttest_rel',\n",
              " 'tukeylambda',\n",
              " 'tvar',\n",
              " 'uniform',\n",
              " 'unitary_group',\n",
              " 'variation',\n",
              " 'vonmises',\n",
              " 'vonmises_line',\n",
              " 'wald',\n",
              " 'wasserstein_distance',\n",
              " 'weibull_max',\n",
              " 'weibull_min',\n",
              " 'weightedtau',\n",
              " 'wilcoxon',\n",
              " 'wishart',\n",
              " 'wrapcauchy',\n",
              " 'zipf',\n",
              " 'zmap',\n",
              " 'zscore']"
            ]
          },
          "metadata": {
            "tags": []
          },
          "execution_count": 1
        }
      ]
    },
    {
      "metadata": {
        "id": "bxW4SG_gJGlZ",
        "colab_type": "code",
        "outputId": "b23c8ac4-ce5a-4d47-8a63-fe785443f99e",
        "colab": {
          "base_uri": "https://localhost:8080/",
          "height": 68
        }
      },
      "cell_type": "code",
      "source": [
        "# As usual, lots of stuff here! There's our friend, the normal distribution\n",
        "norm = stats.norm()\n",
        "print(norm.mean())\n",
        "print(norm.std())\n",
        "print(norm.var())"
      ],
      "execution_count": 2,
      "outputs": [
        {
          "output_type": "stream",
          "text": [
            "0.0\n",
            "1.0\n",
            "1.0\n"
          ],
          "name": "stdout"
        }
      ]
    },
    {
      "metadata": {
        "id": "RyNKPt_tJk86",
        "colab_type": "code",
        "outputId": "1c6e395f-0d99-4405-8e12-13524fb151dc",
        "colab": {
          "base_uri": "https://localhost:8080/",
          "height": 68
        }
      },
      "cell_type": "code",
      "source": [
        "# And a new friend - t\n",
        "t1 = stats.t(5)  # 5 is df \"shape\" parameter\n",
        "print(t1.mean())\n",
        "print(t1.std())\n",
        "print(t1.var())"
      ],
      "execution_count": 3,
      "outputs": [
        {
          "output_type": "stream",
          "text": [
            "0.0\n",
            "1.2909944487358056\n",
            "1.6666666666666667\n"
          ],
          "name": "stdout"
        }
      ]
    },
    {
      "metadata": {
        "id": "SRn1zMuaKgxX",
        "colab_type": "text"
      },
      "cell_type": "markdown",
      "source": [
        "![T distribution PDF with different shape parameters](https://upload.wikimedia.org/wikipedia/commons/4/41/Student_t_pdf.svg)\n",
        "\n",
        "*(Picture from [Wikipedia](https://en.wikipedia.org/wiki/Student's_t-distribution#/media/File:Student_t_pdf.svg))*\n",
        "\n",
        "The t-distribution is \"normal-ish\" - the larger the parameter (which reflects its degrees of freedom - more input data/features will increase it), the closer to true normal."
      ]
    },
    {
      "metadata": {
        "id": "seQv5unnJvpM",
        "colab_type": "code",
        "outputId": "a77bf3bd-51c6-4431-8778-b1d4c2dfcac1",
        "colab": {
          "base_uri": "https://localhost:8080/",
          "height": 68
        }
      },
      "cell_type": "code",
      "source": [
        "t2 = stats.t(30)  # Will be closer to normal\n",
        "print(t2.mean())\n",
        "print(t2.std())\n",
        "print(t2.var())"
      ],
      "execution_count": 4,
      "outputs": [
        {
          "output_type": "stream",
          "text": [
            "0.0\n",
            "1.0350983390135313\n",
            "1.0714285714285714\n"
          ],
          "name": "stdout"
        }
      ]
    },
    {
      "metadata": {
        "id": "FOvEGMysLaE2",
        "colab_type": "text"
      },
      "cell_type": "markdown",
      "source": [
        "Why is it different from normal? To better reflect the tendencies of small data and situations with unknown population standard deviation. In other words, the normal distribution is still the nice pure ideal in the limit (thanks to the central limit theorem), but the t-distribution is much more useful in many real-world situations.\n",
        "\n",
        "History sidenote - this is \"Student\":\n",
        "\n",
        "![William Sealy Gosset](https://upload.wikimedia.org/wikipedia/commons/4/42/William_Sealy_Gosset.jpg)\n",
        "\n",
        "*(Picture from [Wikipedia](https://en.wikipedia.org/wiki/File:William_Sealy_Gosset.jpg))*\n",
        "\n",
        "His real name is William Sealy Gosset, and he published under the pen name \"Student\" because he was not an academic. He was a brewer, working at Guinness and using trial and error to determine the best ways to yield barley. He's also proof that, even 100 years ago, you don't need official credentials to do real data science!"
      ]
    },
    {
      "metadata": {
        "id": "1yx_QilAEC6o",
        "colab_type": "text"
      },
      "cell_type": "markdown",
      "source": [
        "## Live Lecture - let's perform and interpret a t-test\n",
        "\n",
        "We'll generate our own data, so we can know and alter the \"ground truth\" that the t-test should find. We will learn about p-values and how to interpret \"statistical significance\" based on the output of a hypothesis test."
      ]
    },
    {
      "metadata": {
        "id": "BuysRPs-Ed0v",
        "colab_type": "code",
        "outputId": "0d9e7c9d-d292-4dfb-b7dc-dd05d87185d9",
        "colab": {
          "base_uri": "https://localhost:8080/",
          "height": 34
        }
      },
      "cell_type": "code",
      "source": [
        "# TODO - during class, but please help!\n",
        "\n",
        "# Coke or Pepsi experiment\n",
        "# This will be represented as a binomial random variable\n",
        "# 0 = Likes Pepsi\n",
        "# 1 = Likes Coke\n",
        "\n",
        "# We want a list of 30 observations (sample size n=30)\n",
        "# Start by generating random data\n",
        "import random\n",
        "# help(random.randint)\n",
        "random.seed(100)\n",
        "sample = [random.randint(0, 1) for _ in range(30)]\n",
        "print(sample)"
      ],
      "execution_count": 5,
      "outputs": [
        {
          "output_type": "stream",
          "text": [
            "[0, 1, 1, 0, 1, 1, 1, 0, 0, 0, 1, 1, 0, 0, 1, 0, 1, 0, 0, 0, 0, 1, 1, 1, 0, 1, 1, 1, 1, 0]\n"
          ],
          "name": "stdout"
        }
      ]
    },
    {
      "metadata": {
        "id": "KaLJ6JcJeJ6L",
        "colab_type": "code",
        "outputId": "af07b3a0-1bfc-4234-ba1b-392feac548c8",
        "colab": {
          "base_uri": "https://localhost:8080/",
          "height": 297
        }
      },
      "cell_type": "code",
      "source": [
        "import pandas as pd\n",
        "df = pd.DataFrame(sample)\n",
        "df.describe()"
      ],
      "execution_count": 6,
      "outputs": [
        {
          "output_type": "execute_result",
          "data": {
            "text/html": [
              "<div>\n",
              "<style scoped>\n",
              "    .dataframe tbody tr th:only-of-type {\n",
              "        vertical-align: middle;\n",
              "    }\n",
              "\n",
              "    .dataframe tbody tr th {\n",
              "        vertical-align: top;\n",
              "    }\n",
              "\n",
              "    .dataframe thead th {\n",
              "        text-align: right;\n",
              "    }\n",
              "</style>\n",
              "<table border=\"1\" class=\"dataframe\">\n",
              "  <thead>\n",
              "    <tr style=\"text-align: right;\">\n",
              "      <th></th>\n",
              "      <th>0</th>\n",
              "    </tr>\n",
              "  </thead>\n",
              "  <tbody>\n",
              "    <tr>\n",
              "      <th>count</th>\n",
              "      <td>30.000000</td>\n",
              "    </tr>\n",
              "    <tr>\n",
              "      <th>mean</th>\n",
              "      <td>0.533333</td>\n",
              "    </tr>\n",
              "    <tr>\n",
              "      <th>std</th>\n",
              "      <td>0.507416</td>\n",
              "    </tr>\n",
              "    <tr>\n",
              "      <th>min</th>\n",
              "      <td>0.000000</td>\n",
              "    </tr>\n",
              "    <tr>\n",
              "      <th>25%</th>\n",
              "      <td>0.000000</td>\n",
              "    </tr>\n",
              "    <tr>\n",
              "      <th>50%</th>\n",
              "      <td>1.000000</td>\n",
              "    </tr>\n",
              "    <tr>\n",
              "      <th>75%</th>\n",
              "      <td>1.000000</td>\n",
              "    </tr>\n",
              "    <tr>\n",
              "      <th>max</th>\n",
              "      <td>1.000000</td>\n",
              "    </tr>\n",
              "  </tbody>\n",
              "</table>\n",
              "</div>"
            ],
            "text/plain": [
              "               0\n",
              "count  30.000000\n",
              "mean    0.533333\n",
              "std     0.507416\n",
              "min     0.000000\n",
              "25%     0.000000\n",
              "50%     1.000000\n",
              "75%     1.000000\n",
              "max     1.000000"
            ]
          },
          "metadata": {
            "tags": []
          },
          "execution_count": 6
        }
      ]
    },
    {
      "metadata": {
        "id": "SFJvEAKqfPoW",
        "colab_type": "code",
        "outputId": "9e2b312d-ebbe-4ee2-9bac-711a56358abe",
        "colab": {
          "base_uri": "https://localhost:8080/",
          "height": 347
        }
      },
      "cell_type": "code",
      "source": [
        "df.plot.hist();"
      ],
      "execution_count": 7,
      "outputs": [
        {
          "output_type": "display_data",
          "data": {
            "image/png": "[encoded data removed]",
            "text/plain": [
              "<Figure size 576x396 with 1 Axes>"
            ]
          },
          "metadata": {
            "tags": []
          }
        }
      ]
    },
    {
      "metadata": {
        "id": "J7zEGzmafIjC",
        "colab_type": "code",
        "outputId": "55b38d4e-c867-405e-be4f-e3476178e205",
        "colab": {
          "base_uri": "https://localhost:8080/",
          "height": 34
        }
      },
      "cell_type": "code",
      "source": [
        "# Now with confidence!\n",
        "\n",
        "import scipy\n",
        "# help(scipy.stats.ttest_1samp)\n",
        "scipy.stats.ttest_1samp(df[0], 0.5)"
      ],
      "execution_count": 8,
      "outputs": [
        {
          "output_type": "execute_result",
          "data": {
            "text/plain": [
              "Ttest_1sampResult(statistic=0.3598114585644621, pvalue=0.7215952675845513)"
            ]
          },
          "metadata": {
            "tags": []
          },
          "execution_count": 8
        }
      ]
    },
    {
      "metadata": {
        "id": "7JrC7F31m9j3",
        "colab_type": "code",
        "outputId": "343f9d73-bcf9-475b-f007-3b91b86a74af",
        "colab": {
          "base_uri": "https://localhost:8080/",
          "height": 34
        }
      },
      "cell_type": "code",
      "source": [
        "# Let's try to calculate test statistics from scratch-ish\n",
        "# We need the sample standard error\n",
        "df[0].std()"
      ],
      "execution_count": 9,
      "outputs": [
        {
          "output_type": "execute_result",
          "data": {
            "text/plain": [
              "0.507416263404925"
            ]
          },
          "metadata": {
            "tags": []
          },
          "execution_count": 9
        }
      ]
    },
    {
      "metadata": {
        "id": "W_-BPLKCn2cP",
        "colab_type": "code",
        "outputId": "cc0e616e-6072-466e-8d56-e78443ee117e",
        "colab": {
          "base_uri": "https://localhost:8080/",
          "height": 34
        }
      },
      "cell_type": "code",
      "source": [
        "from math import sqrt\n",
        "df[0].std() / sqrt(30)"
      ],
      "execution_count": 10,
      "outputs": [
        {
          "output_type": "execute_result",
          "data": {
            "text/plain": [
              "0.09264111117062017"
            ]
          },
          "metadata": {
            "tags": []
          },
          "execution_count": 10
        }
      ]
    },
    {
      "metadata": {
        "id": "O0CI8uMQqLIa",
        "colab_type": "code",
        "outputId": "1806b4b3-7a93-49d4-e465-79eb011286b8",
        "colab": {
          "base_uri": "https://localhost:8080/",
          "height": 34
        }
      },
      "cell_type": "code",
      "source": [
        "# One-liner from Chris\n",
        "(df[0].mean() - 0.5) / (df[0].std() / (30 ** (1/2)))"
      ],
      "execution_count": 11,
      "outputs": [
        {
          "output_type": "execute_result",
          "data": {
            "text/plain": [
              "0.3598114585644621"
            ]
          },
          "metadata": {
            "tags": []
          },
          "execution_count": 11
        }
      ]
    },
    {
      "metadata": {
        "id": "-HCPkOhKqy44",
        "colab_type": "code",
        "colab": {}
      },
      "cell_type": "code",
      "source": [
        "# Let's make a reusable function, and do it from scratch!\n",
        "def std(sample, mean):\n",
        "  std = 0\n",
        "  for obs in sample:\n",
        "    std += (obs - mean)**2\n",
        "  return (std / (len(sample) - 1)) ** (1/2)\n",
        "\n",
        "def calculate_t_stat(sample, null_hyp):\n",
        "  sample_mean = sum(sample) / len(sample)\n",
        "  sample_std = std(sample, sample_mean)\n",
        "  return (sample_mean - null_hyp) / (sample_std / (len(sample) ** (1/2)))"
      ],
      "execution_count": 0,
      "outputs": []
    },
    {
      "metadata": {
        "id": "YNAxWMBWvEaN",
        "colab_type": "text"
      },
      "cell_type": "markdown",
      "source": [
        "As $n \\rightarrow \\infty$, $\\hat{\\mu} \\approx \\mu$\n",
        "\n",
        "(\"mu hat\" is the sample mean, mu is the \"true\" population mean)"
      ]
    },
    {
      "metadata": {
        "id": "K9iFAOGHtAK3",
        "colab_type": "code",
        "outputId": "2efd664f-0132-418e-feb8-c14c9f7155f9",
        "colab": {
          "base_uri": "https://localhost:8080/",
          "height": 163
        }
      },
      "cell_type": "code",
      "source": [
        "calculate_t_stat(survey_data, 0.5)"
      ],
      "execution_count": 13,
      "outputs": [
        {
          "output_type": "error",
          "ename": "NameError",
          "evalue": "ignored",
          "traceback": [
            "\u001b[0;31m---------------------------------------------------------------------------\u001b[0m",
            "\u001b[0;31mNameError\u001b[0m                                 Traceback (most recent call last)",
            "\u001b[0;32m<ipython-input-13-b1edfc443d28>\u001b[0m in \u001b[0;36m<module>\u001b[0;34m()\u001b[0m\n\u001b[0;32m----> 1\u001b[0;31m \u001b[0mcalculate_t_stat\u001b[0m\u001b[0;34m(\u001b[0m\u001b[0msurvey_data\u001b[0m\u001b[0;34m,\u001b[0m \u001b[0;36m0.5\u001b[0m\u001b[0;34m)\u001b[0m\u001b[0;34m\u001b[0m\u001b[0;34m\u001b[0m\u001b[0m\n\u001b[0m",
            "\u001b[0;31mNameError\u001b[0m: name 'survey_data' is not defined"
          ]
        }
      ]
    },
    {
      "metadata": {
        "id": "2xmEO5J-tRT6",
        "colab_type": "code",
        "colab": {}
      },
      "cell_type": "code",
      "source": [
        "pd.DataFrame(survey_data).std()"
      ],
      "execution_count": 0,
      "outputs": []
    },
    {
      "metadata": {
        "id": "ljcErJkprqxb",
        "colab_type": "code",
        "colab": {}
      },
      "cell_type": "code",
      "source": [
        "# Let's test it\n",
        "survey_data = [0, 1, 0, 1, 0, 0, 0, 1, 1, 0, 0, 1, 1, 1, 1, 1, 1, 1,\n",
        "               0, 0, 1, 1, 1, 1, 1, 1, 1, 1, 1, 0, 1, 1, 1, 1, 1, 1,\n",
        "               1, 0, 1, 0, 1, 1, 0, 1, 0, 1, 1, 0, 0, 0]\n",
        "\n",
        "# Try this with both scipy and ours\n",
        "scipy.stats.ttest_1samp(survey_data, 0.5)"
      ],
      "execution_count": 0,
      "outputs": []
    },
    {
      "metadata": {
        "id": "OZlN8YaWzxSf",
        "colab_type": "code",
        "colab": {}
      },
      "cell_type": "code",
      "source": [
        "len(survey_data)"
      ],
      "execution_count": 0,
      "outputs": []
    },
    {
      "metadata": {
        "id": "49rSfB62yGRH",
        "colab_type": "code",
        "colab": {}
      },
      "cell_type": "code",
      "source": [
        "help(scipy.stats.t)"
      ],
      "execution_count": 0,
      "outputs": []
    },
    {
      "metadata": {
        "id": "OclSNP5FzKPt",
        "colab_type": "code",
        "colab": {}
      },
      "cell_type": "code",
      "source": [
        "t = scipy.stats.t(len(survey_data))\n",
        "t.cdf(calculate_t_stat(survey_data, 0.5))"
      ],
      "execution_count": 0,
      "outputs": []
    },
    {
      "metadata": {
        "id": "v9EMgd2cz_XZ",
        "colab_type": "code",
        "colab": {}
      },
      "cell_type": "code",
      "source": [
        "help(t.cdf)"
      ],
      "execution_count": 0,
      "outputs": []
    },
    {
      "metadata": {
        "id": "8gpWW4Fk3a7A",
        "colab_type": "code",
        "colab": {}
      },
      "cell_type": "code",
      "source": [
        "# A hacky solution\n",
        "2 * (1 - t.cdf(calculate_t_stat(survey_data, 0.5)))"
      ],
      "execution_count": 0,
      "outputs": []
    },
    {
      "metadata": {
        "id": "fptK3w_Xhtks",
        "colab_type": "code",
        "colab": {}
      },
      "cell_type": "code",
      "source": [
        "# On your own optional stretch goal:\n",
        "# Figure out how to get t.cdf to give us 1/2 tailed tests and not just the base\n",
        "\n",
        "# Put the entire above \"experiment\" in a loop\n",
        "# and run it a bunch of times for a bunch of different seeds\n",
        "# and see how often the p value holds"
      ],
      "execution_count": 0,
      "outputs": []
    },
    {
      "metadata": {
        "id": "egXb7YpqEcZF",
        "colab_type": "text"
      },
      "cell_type": "markdown",
      "source": [
        "## Assignment - apply the t-test to real data\n",
        "\n",
        "Your assignment is to determine which issues have \"statistically significant\" differences between political parties in this [1980s congressional voting data](https://archive.ics.uci.edu/ml/datasets/Congressional+Voting+Records). The data consists of 435 instances (one for each congressperson), a class (democrat or republican), and 16 binary attributes (yes or no for voting for or against certain issues). Be aware - there are missing values!\n",
        "\n",
        "Your goals:\n",
        "\n",
        "1. Load and clean the data (or determine the best method to drop observations when running tests)\n",
        "2. Using hypothesis testing, find an issue that democrats support more than republicans with p < 0.01\n",
        "3. Using hypothesis testing, find an issue that republicans support more than democrats with p < 0.01\n",
        "4. Using hypothesis testing, find an issue where the difference between republicans and democrats has p > 0.1 (i.e. there may not be much of a difference)\n",
        "\n",
        "Note that this data will involve *2 sample* t-tests, because you're comparing averages across two groups (republicans and democrats) rather than a single group against a null hypothesis.\n",
        "\n",
        "Stretch goals:\n",
        "\n",
        "1. Refactor your code into functions so it's easy to rerun with arbitrary variables\n",
        "2. Apply hypothesis testing to your personal project data (for the purposes of this notebook you can type a summary of the hypothesis you formed and tested)"
      ]
    },
    {
      "metadata": {
        "id": "nstrmCG-Ecyk",
        "colab_type": "code",
        "colab": {}
      },
      "cell_type": "code",
      "source": [
        "from scipy import stats\n",
        "import numpy as np\n",
        "import pandas as pd\n",
        "\n",
        "pd.set_option('display.height', 500)\n",
        "pd.set_option('display.max_rows', 500)\n",
        "pd.set_option('display.max_columns', 500)\n",
        "pd.set_option('display.width', 500)"
      ],
      "execution_count": 0,
      "outputs": []
    },
    {
      "metadata": {
        "id": "sJ39B5d7OSWW",
        "colab_type": "code",
        "colab": {
          "base_uri": "https://localhost:8080/",
          "height": 1173
        },
        "outputId": "7391aa4d-3927-4763-e5e3-a3851773b4b7"
      },
      "cell_type": "code",
      "source": [
        "#    1. Class Name: 2 (democrat, republican)\n",
        "#    2. handicapped-infants: 2 (y,n)\n",
        "#    3. water-project-cost-sharing: 2 (y,n)\n",
        "#    4. adoption-of-the-budget-resolution: 2 (y,n)\n",
        "#    5. physician-fee-freeze: 2 (y,n)\n",
        "#    6. el-salvador-aid: 2 (y,n)\n",
        "#    7. religious-groups-in-schools: 2 (y,n)\n",
        "#    8. anti-satellite-test-ban: 2 (y,n)\n",
        "#    9. aid-to-nicaraguan-contras: 2 (y,n)\n",
        "#   10. mx-missile: 2 (y,n)\n",
        "#   11. immigration: 2 (y,n)\n",
        "#   12. synfuels-corporation-cutback: 2 (y,n)\n",
        "#   13. education-spending: 2 (y,n)\n",
        "#   14. superfund-right-to-sue: 2 (y,n)\n",
        "#   15. crime: 2 (y,n)\n",
        "#   16. duty-free-exports: 2 (y,n)\n",
        "#   17. export-administration-act-south-africa: 2 (y,n)\n",
        "\n",
        "colNames = [i for i in range(1,18)]\n",
        "df = pd.read_csv('https://archive.ics.uci.edu/ml/machine-learning-databases/voting-records/house-votes-84.data', header=None, names=colNames) \n",
        "\n",
        "# preview data\n",
        "print(\"df shape:\"), print(df.shape), print(\"\")\n",
        "print(\"df columns:\"), print(df.columns), print(\"\")\n",
        "print(\"df dtypes:\"), print(df.dtypes), print(\"\")\n",
        "print(\"df head():\"), print(df.head()), print(\"\")\n",
        "print(\"df sample(7):\"), print(df.sample(7)), print(\"\")\n",
        "print(\"df isnull().sum().sum():\"), print(df.isnull().sum().sum()), print(\"\")\n",
        "print(\"df isnull().sum():\"), print(df.isnull().sum()), print(\"\")"
      ],
      "execution_count": 15,
      "outputs": [
        {
          "output_type": "stream",
          "text": [
            "df shape:\n",
            "(435, 17)\n",
            "\n",
            "df columns:\n",
            "Int64Index([1, 2, 3, 4, 5, 6, 7, 8, 9, 10, 11, 12, 13, 14, 15, 16, 17], dtype='int64')\n",
            "\n",
            "df dtypes:\n",
            "1     object\n",
            "2     object\n",
            "3     object\n",
            "4     object\n",
            "5     object\n",
            "6     object\n",
            "7     object\n",
            "8     object\n",
            "9     object\n",
            "10    object\n",
            "11    object\n",
            "12    object\n",
            "13    object\n",
            "14    object\n",
            "15    object\n",
            "16    object\n",
            "17    object\n",
            "dtype: object\n",
            "\n",
            "df head():\n",
            "           1  2  3  4  5  6  7  8  9  10 11 12 13 14 15 16 17\n",
            "0  republican  n  y  n  y  y  y  n  n  n  y  ?  y  y  y  n  y\n",
            "1  republican  n  y  n  y  y  y  n  n  n  n  n  y  y  y  n  ?\n",
            "2    democrat  ?  y  y  ?  y  y  n  n  n  n  y  n  y  y  n  n\n",
            "3    democrat  n  y  y  n  ?  y  n  n  n  n  y  n  y  n  n  y\n",
            "4    democrat  y  y  y  n  y  y  n  n  n  n  y  ?  y  y  y  y\n",
            "\n",
            "df sample(7):\n",
            "             1  2  3  4  5  6  7  8  9  10 11 12 13 14 15 16 17\n",
            "31     democrat  y  y  y  n  n  n  y  y  y  n  y  n  n  n  y  ?\n",
            "101    democrat  y  n  y  n  y  y  y  n  n  n  y  n  n  y  n  y\n",
            "272    democrat  y  n  y  n  n  n  y  y  y  y  n  n  n  n  y  ?\n",
            "25     democrat  y  n  y  n  n  n  y  y  y  y  n  n  n  n  y  y\n",
            "219    democrat  n  y  y  n  n  n  n  y  y  n  y  n  n  y  y  y\n",
            "175    democrat  n  y  y  n  n  n  y  y  y  y  n  n  n  n  y  y\n",
            "206  republican  n  n  n  y  y  y  n  n  n  y  n  y  n  y  n  y\n",
            "\n",
            "df isnull().sum().sum():\n",
            "0\n",
            "\n",
            "df isnull().sum():\n",
            "1     0\n",
            "2     0\n",
            "3     0\n",
            "4     0\n",
            "5     0\n",
            "6     0\n",
            "7     0\n",
            "8     0\n",
            "9     0\n",
            "10    0\n",
            "11    0\n",
            "12    0\n",
            "13    0\n",
            "14    0\n",
            "15    0\n",
            "16    0\n",
            "17    0\n",
            "dtype: int64\n",
            "\n"
          ],
          "name": "stdout"
        },
        {
          "output_type": "execute_result",
          "data": {
            "text/plain": [
              "(None, None, None)"
            ]
          },
          "metadata": {
            "tags": []
          },
          "execution_count": 15
        }
      ]
    },
    {
      "metadata": {
        "id": "uOQR7GWAPbA1",
        "colab_type": "code",
        "colab": {}
      },
      "cell_type": "code",
      "source": [
        "df = df.replace('?', np.nan)\n",
        "df = df.replace({'y': 1, 'n': 0})"
      ],
      "execution_count": 0,
      "outputs": []
    },
    {
      "metadata": {
        "id": "XgsrMU0aP-Jr",
        "colab_type": "code",
        "colab": {
          "base_uri": "https://localhost:8080/",
          "height": 595
        },
        "outputId": "f6c930b7-2b8f-4c3b-e3c7-1205c6fda943"
      },
      "cell_type": "code",
      "source": [
        "print(\"df sample(7):\"), print(df.sample(7)), print(\"\")\n",
        "print(\"df isnull().sum().sum():\"), print(df.isnull().sum().sum()), print(\"\")\n",
        "print(\"df isnull().sum():\"), print(df.isnull().sum()), print(\"\")"
      ],
      "execution_count": 17,
      "outputs": [
        {
          "output_type": "stream",
          "text": [
            "df sample(7):\n",
            "           1    2    3    4    5    6    7    8    9    10   11   12   13   14   15   16   17\n",
            "263  democrat  1.0  0.0  1.0  0.0  0.0  0.0  1.0  1.0  1.0  0.0  0.0  0.0  0.0  0.0  1.0  NaN\n",
            "331  democrat  1.0  NaN  1.0  0.0  0.0  0.0  1.0  1.0  1.0  0.0  0.0  0.0  0.0  0.0  1.0  NaN\n",
            "380  democrat  1.0  1.0  1.0  0.0  0.0  1.0  NaN  1.0  1.0  0.0  1.0  0.0  1.0  0.0  1.0  1.0\n",
            "174  democrat  1.0  NaN  1.0  0.0  0.0  0.0  1.0  1.0  1.0  0.0  0.0  0.0  0.0  0.0  1.0  NaN\n",
            "41   democrat  1.0  1.0  1.0  0.0  0.0  0.0  1.0  1.0  1.0  0.0  0.0  0.0  0.0  0.0  1.0  NaN\n",
            "332  democrat  1.0  0.0  1.0  0.0  0.0  0.0  1.0  1.0  1.0  0.0  1.0  0.0  0.0  0.0  1.0  NaN\n",
            "104  democrat  NaN  NaN  NaN  NaN  0.0  1.0  1.0  1.0  1.0  1.0  NaN  0.0  1.0  1.0  0.0  NaN\n",
            "\n",
            "df isnull().sum().sum():\n",
            "392\n",
            "\n",
            "df isnull().sum():\n",
            "1       0\n",
            "2      12\n",
            "3      48\n",
            "4      11\n",
            "5      11\n",
            "6      15\n",
            "7      11\n",
            "8      14\n",
            "9      15\n",
            "10     22\n",
            "11      7\n",
            "12     21\n",
            "13     31\n",
            "14     25\n",
            "15     17\n",
            "16     28\n",
            "17    104\n",
            "dtype: int64\n",
            "\n"
          ],
          "name": "stdout"
        },
        {
          "output_type": "execute_result",
          "data": {
            "text/plain": [
              "(None, None, None)"
            ]
          },
          "metadata": {
            "tags": []
          },
          "execution_count": 17
        }
      ]
    },
    {
      "metadata": {
        "id": "U8Pqmf1YR6IZ",
        "colab_type": "code",
        "colab": {
          "base_uri": "https://localhost:8080/",
          "height": 340
        },
        "outputId": "ac0e7c92-ac9f-4dc5-dafd-2a76abb66f81"
      },
      "cell_type": "code",
      "source": [
        "# Using hypothesis testing, find an issue that democrats support more than republicans with p < 0.01\n",
        "# Using hypothesis testing, find an issue that republicans support more than democrats with p < 0.01\n",
        "\n",
        "dem_df = df[df[1]=='democrat']\n",
        "rep_df = df[df[1]=='republican']\n",
        "\n",
        "print(dem_df.sample(7))\n",
        "print(\"\")\n",
        "print(rep_df.sample(7))\n",
        "print(\"\")\n",
        "print(dem_df.shape, rep_df.shape)\n"
      ],
      "execution_count": 18,
      "outputs": [
        {
          "output_type": "stream",
          "text": [
            "           1    2    3    4    5    6    7    8    9    10   11   12   13   14   15   16   17\n",
            "90   democrat  1.0  0.0  1.0  0.0  0.0  0.0  1.0  1.0  1.0  1.0  0.0  0.0  0.0  0.0  1.0  1.0\n",
            "220  democrat  0.0  0.0  1.0  0.0  0.0  0.0  1.0  1.0  1.0  0.0  0.0  0.0  0.0  0.0  1.0  NaN\n",
            "137  democrat  0.0  NaN  1.0  0.0  0.0  1.0  1.0  1.0  1.0  1.0  0.0  0.0  0.0  1.0  1.0  1.0\n",
            "319  democrat  1.0  0.0  1.0  0.0  0.0  0.0  1.0  1.0  1.0  0.0  0.0  0.0  0.0  0.0  1.0  NaN\n",
            "118  democrat  0.0  1.0  1.0  0.0  0.0  0.0  0.0  1.0  1.0  1.0  1.0  0.0  0.0  0.0  1.0  1.0\n",
            "262  democrat  1.0  0.0  1.0  0.0  0.0  0.0  1.0  1.0  1.0  1.0  0.0  0.0  NaN  0.0  1.0  1.0\n",
            "88   democrat  0.0  1.0  1.0  0.0  1.0  1.0  1.0  0.0  1.0  1.0  1.0  0.0  1.0  1.0  0.0  1.0\n",
            "\n",
            "             1    2    3    4    5    6    7    8    9    10   11   12   13   14   15   16   17\n",
            "191  republican  0.0  1.0  0.0  1.0  1.0  1.0  0.0  NaN  0.0  1.0  0.0  1.0  1.0  1.0  0.0  NaN\n",
            "38   republican  0.0  1.0  0.0  1.0  1.0  1.0  0.0  0.0  0.0  1.0  0.0  1.0  1.0  1.0  0.0  0.0\n",
            "324  republican  0.0  1.0  0.0  1.0  1.0  1.0  0.0  0.0  0.0  0.0  1.0  1.0  1.0  1.0  0.0  0.0\n",
            "155  republican  1.0  1.0  0.0  1.0  1.0  1.0  0.0  NaN  0.0  0.0  1.0  1.0  1.0  1.0  0.0  0.0\n",
            "339  republican  1.0  0.0  0.0  1.0  1.0  1.0  0.0  0.0  0.0  0.0  1.0  1.0  1.0  1.0  0.0  0.0\n",
            "113  republican  0.0  NaN  0.0  1.0  1.0  1.0  0.0  0.0  0.0  1.0  0.0  1.0  1.0  1.0  0.0  0.0\n",
            "230  republican  0.0  1.0  0.0  1.0  1.0  1.0  0.0  0.0  0.0  0.0  0.0  1.0  1.0  1.0  0.0  1.0\n",
            "\n",
            "(267, 17) (168, 17)\n"
          ],
          "name": "stdout"
        }
      ]
    },
    {
      "metadata": {
        "id": "ATtWcoN9VZ3V",
        "colab_type": "code",
        "colab": {
          "base_uri": "https://localhost:8080/",
          "height": 1142
        },
        "outputId": "8f4325fc-6397-4879-da38-196a2d88fee9"
      },
      "cell_type": "code",
      "source": [
        "#    1. Class Name: 2 (democrat, republican)\n",
        "#    2. handicapped-infants: 2 (y,n)\n",
        "#    3. water-project-cost-sharing: 2 (y,n)\n",
        "#    4. adoption-of-the-budget-resolution: 2 (y,n)\n",
        "#    5. physician-fee-freeze: 2 (y,n)\n",
        "#    6. el-salvador-aid: 2 (y,n)\n",
        "#    7. religious-groups-in-schools: 2 (y,n)\n",
        "#    8. anti-satellite-test-ban: 2 (y,n)\n",
        "#    9. aid-to-nicaraguan-contras: 2 (y,n)\n",
        "#   10. mx-missile: 2 (y,n)\n",
        "#   11. immigration: 2 (y,n)\n",
        "#   12. synfuels-corporation-cutback: 2 (y,n)\n",
        "#   13. education-spending: 2 (y,n)\n",
        "#   14. superfund-right-to-sue: 2 (y,n)\n",
        "#   15. crime: 2 (y,n)\n",
        "#   16. duty-free-exports: 2 (y,n)\n",
        "#   17. export-administration-act-south-africa: 2 (y,n)\n",
        "\n",
        "# Democrat Votes Summary\n",
        "# Mean higher than 0.5 -> more support\n",
        "print(\"\")\n",
        "print(\"dem_df describe(include='all'),:\")\n",
        "print(dem_df.describe(include='all'),)\n",
        "print(\"\")\n",
        "print(\"Democrats Statistic:\")\n",
        "for i in range(2,18):\n",
        "  print(i ,stats.ttest_1samp(dem_df[i],0.5,nan_policy='omit'))\n",
        "\n",
        "# Republican Votes Summary\n",
        "# Mean higher than 0.5 -> more support\n",
        "print(\"\")\n",
        "print(\"rep_df describe(include='all'),:\")\n",
        "print(rep_df.describe(include='all'),)\n",
        "print(\"\")\n",
        "print(\"\\nRepublicans Statistic:\")\n",
        "for i in range(2,18):\n",
        "  print(i ,stats.ttest_1samp(rep_df[i],0.5,nan_policy='omit'))"
      ],
      "execution_count": 19,
      "outputs": [
        {
          "output_type": "stream",
          "text": [
            "\n",
            "dem_df describe(include='all'),:\n",
            "              1           2           3           4           5           6           7           8           9           10          11          12          13          14          15          16          17\n",
            "count        267  258.000000  239.000000  260.000000  259.000000  255.000000  258.000000  259.000000  263.000000  248.000000  263.000000  255.000000  249.000000  252.000000  257.000000  251.000000  185.000000\n",
            "unique         1         NaN         NaN         NaN         NaN         NaN         NaN         NaN         NaN         NaN         NaN         NaN         NaN         NaN         NaN         NaN         NaN\n",
            "top     democrat         NaN         NaN         NaN         NaN         NaN         NaN         NaN         NaN         NaN         NaN         NaN         NaN         NaN         NaN         NaN         NaN\n",
            "freq         267         NaN         NaN         NaN         NaN         NaN         NaN         NaN         NaN         NaN         NaN         NaN         NaN         NaN         NaN         NaN         NaN\n",
            "mean         NaN    0.604651    0.502092    0.888462    0.054054    0.215686    0.476744    0.772201    0.828897    0.758065    0.471483    0.505882    0.144578    0.289683    0.350195    0.637450    0.935135\n",
            "std          NaN    0.489876    0.501045    0.315405    0.226562    0.412106    0.500430    0.420224    0.377317    0.429121    0.500138    0.500949    0.352383    0.454518    0.477962    0.481697    0.246956\n",
            "min          NaN    0.000000    0.000000    0.000000    0.000000    0.000000    0.000000    0.000000    0.000000    0.000000    0.000000    0.000000    0.000000    0.000000    0.000000    0.000000    0.000000\n",
            "25%          NaN    0.000000    0.000000    1.000000    0.000000    0.000000    0.000000    1.000000    1.000000    1.000000    0.000000    0.000000    0.000000    0.000000    0.000000    0.000000    1.000000\n",
            "50%          NaN    1.000000    1.000000    1.000000    0.000000    0.000000    0.000000    1.000000    1.000000    1.000000    0.000000    1.000000    0.000000    0.000000    0.000000    1.000000    1.000000\n",
            "75%          NaN    1.000000    1.000000    1.000000    0.000000    0.000000    1.000000    1.000000    1.000000    1.000000    1.000000    1.000000    0.000000    1.000000    1.000000    1.000000    1.000000\n",
            "max          NaN    1.000000    1.000000    1.000000    1.000000    1.000000    1.000000    1.000000    1.000000    1.000000    1.000000    1.000000    1.000000    1.000000    1.000000    1.000000    1.000000\n",
            "\n",
            "Democrats Statistic:\n",
            "2 Ttest_1sampResult(statistic=3.431373087696574, pvalue=0.000699612317167372)\n",
            "3 Ttest_1sampResult(statistic=0.06454972243678961, pvalue=0.9485867005339235)\n",
            "4 Ttest_1sampResult(statistic=19.859406568628835, pvalue=5.75931504660857e-54)\n",
            "5 Ttest_1sampResult(statistic=-31.67705343439813, pvalue=6.796885728494356e-91)\n",
            "6 Ttest_1sampResult(statistic=-11.016877548066462, pvalue=2.5007537432253433e-23)\n",
            "7 Ttest_1sampResult(statistic=-0.7464459604122172, pvalue=0.45608033540995874)\n",
            "8 Ttest_1sampResult(statistic=10.424565592705058, pvalue=1.8326900884510166e-21)\n",
            "9 Ttest_1sampResult(statistic=14.13618595353591, pvalue=4.190313037098042e-34)\n",
            "10 Ttest_1sampResult(statistic=9.470521640429526, pvalue=2.3590277159598606e-18)\n",
            "11 Ttest_1sampResult(statistic=-0.9246846884388146, pvalue=0.35598081794452796)\n",
            "12 Ttest_1sampResult(statistic=0.18751153526716705, pvalue=0.8514092819865365)\n",
            "13 Ttest_1sampResult(statistic=-15.915784824279635, pvalue=8.900198902856228e-40)\n",
            "14 Ttest_1sampResult(statistic=-7.345557873917365, pvalue=2.8653808528045386e-12)\n",
            "15 Ttest_1sampResult(statistic=-5.024596851452603, pvalue=9.478256683740221e-07)\n",
            "16 Ttest_1sampResult(statistic=4.5207283583632725, pvalue=9.519196003952435e-06)\n",
            "17 Ttest_1sampResult(statistic=23.965755112488182, pvalue=1.7513759267849718e-58)\n",
            "\n",
            "rep_df describe(include='all'),:\n",
            "                1           2           3           4           5           6           7           8           9           10          11          12          13          14          15          16          17\n",
            "count          168  165.000000  148.000000  164.000000  165.000000  165.000000  166.000000  162.000000  157.000000  165.000000  165.000000  159.000000  155.000000  158.000000  161.000000  156.000000  146.000000\n",
            "unique           1         NaN         NaN         NaN         NaN         NaN         NaN         NaN         NaN         NaN         NaN         NaN         NaN         NaN         NaN         NaN         NaN\n",
            "top     republican         NaN         NaN         NaN         NaN         NaN         NaN         NaN         NaN         NaN         NaN         NaN         NaN         NaN         NaN         NaN         NaN\n",
            "freq           168         NaN         NaN         NaN         NaN         NaN         NaN         NaN         NaN         NaN         NaN         NaN         NaN         NaN         NaN         NaN         NaN\n",
            "mean           NaN    0.187879    0.506757    0.134146    0.987879    0.951515    0.897590    0.240741    0.152866    0.115152    0.557576    0.132075    0.870968    0.860759    0.981366    0.089744    0.657534\n",
            "std            NaN    0.391804    0.501652    0.341853    0.109760    0.215442    0.304104    0.428859    0.361010    0.320176    0.498186    0.339643    0.336322    0.347298    0.135649    0.286735    0.476168\n",
            "min            NaN    0.000000    0.000000    0.000000    0.000000    0.000000    0.000000    0.000000    0.000000    0.000000    0.000000    0.000000    0.000000    0.000000    0.000000    0.000000    0.000000\n",
            "25%            NaN    0.000000    0.000000    0.000000    1.000000    1.000000    1.000000    0.000000    0.000000    0.000000    0.000000    0.000000    1.000000    1.000000    1.000000    0.000000    0.000000\n",
            "50%            NaN    0.000000    1.000000    0.000000    1.000000    1.000000    1.000000    0.000000    0.000000    0.000000    1.000000    0.000000    1.000000    1.000000    1.000000    0.000000    1.000000\n",
            "75%            NaN    0.000000    1.000000    0.000000    1.000000    1.000000    1.000000    0.000000    0.000000    0.000000    1.000000    0.000000    1.000000    1.000000    1.000000    0.000000    1.000000\n",
            "max            NaN    1.000000    1.000000    1.000000    1.000000    1.000000    1.000000    1.000000    1.000000    1.000000    1.000000    1.000000    1.000000    1.000000    1.000000    1.000000    1.000000\n",
            "\n",
            "\n",
            "Republicans Statistic:\n",
            "2 Ttest_1sampResult(statistic=-10.232833482397659, pvalue=2.572179359890009e-19)\n",
            "3 Ttest_1sampResult(statistic=0.16385760607458383, pvalue=0.8700683158522193)\n",
            "4 Ttest_1sampResult(statistic=-13.705331355148527, pvalue=6.249973784238298e-29)\n",
            "5 Ttest_1sampResult(statistic=57.09643655679979, pvalue=3.8884659739684535e-110)\n",
            "6 Ttest_1sampResult(statistic=26.920515819250607, pvalue=4.531756691646779e-62)\n",
            "7 Ttest_1sampResult(statistic=16.844895175868118, pvalue=1.103043623086e-37)\n",
            "8 Ttest_1sampResult(statistic=-7.694446231812848, pvalue=1.3430544790393879e-12)\n",
            "9 Ttest_1sampResult(statistic=-12.048344034968558, pvalue=4.758689364006887e-24)\n",
            "10 Ttest_1sampResult(statistic=-15.439826683525418, pvalue=8.750571156437711e-34)\n",
            "11 Ttest_1sampResult(statistic=1.4845341263724807, pvalue=0.1395867786115413)\n",
            "12 Ttest_1sampResult(statistic=-13.659513100277254, pvalue=1.5157657361710158e-28)\n",
            "13 Ttest_1sampResult(statistic=13.7323961384641, pvalue=1.5754742985301713e-28)\n",
            "14 Ttest_1sampResult(statistic=13.057014526385656, pvalue=7.55269431925957e-27)\n",
            "15 Ttest_1sampResult(statistic=45.02694926749482, pvalue=8.920944355723368e-93)\n",
            "16 Ttest_1sampResult(statistic=-17.87053823534494, pvalue=1.750902234636468e-39)\n",
            "17 Ttest_1sampResult(statistic=3.9975252761343896, pvalue=0.00010154897627277522)\n"
          ],
          "name": "stdout"
        }
      ]
    },
    {
      "metadata": {
        "id": "ZpD1FoYhqaIR",
        "colab_type": "text"
      },
      "cell_type": "markdown",
      "source": [
        "# Analysis\n",
        "\n",
        "Using hypothesis testing, find an issue that democrats support more than republicans with p < 0.01\n",
        "Using hypothesis testing, find an issue that republicans support more than democrats with p < 0.01\n",
        "\n",
        "0 = no, 1 = yes\n",
        "\n",
        "With a mean of 0.888462, Dem vote mostly YES on issue 4. adoption-of-the-budget-resolution\n",
        "Ttest_1sampResult(statistic=19.859406568628835, pvalue=5.75931504660857e-54)\n",
        "\n",
        "\n",
        "With a mean of 0.134146, Rep vote mostly NO on issue 4. adoption-of-the-budget-resolution\n",
        "Ttest_1sampResult(statistic=-13.705331355148527, pvalue=6.249973784238298e-29)\n",
        "\n",
        "\n",
        "With a mean of 0.951515, Rep vote mostly YES on issue 6. el-salvador-aid\n",
        "Ttest_1sampResult(statistic=26.920515819250607, pvalue=4.531756691646779e-62)\n",
        "\n",
        "\n",
        "With a mean of 0.215686, Dem vote mostly NO on issue 6. el-salvador-aid\n",
        "Ttest_1sampResult(statistic=-11.016877548066462, pvalue=2.5007537432253433e-23)"
      ]
    },
    {
      "metadata": {
        "id": "Y_ZFIWSZaHOr",
        "colab_type": "code",
        "colab": {
          "base_uri": "https://localhost:8080/",
          "height": 306
        },
        "outputId": "d83333e0-b2d2-4060-daac-128ce44430ac"
      },
      "cell_type": "code",
      "source": [
        "# Using hypothesis testing, find an issue where the difference between republicans and democrats has p > 0.1 (i.e. there may not be much of a difference)\n",
        "print(\"Dem vs Rep 2 samples t-test:\")\n",
        "for i in range(2,18):\n",
        "  print(i ,stats.ttest_ind(dem_df[i], rep_df[i],nan_policy='omit'))"
      ],
      "execution_count": 20,
      "outputs": [
        {
          "output_type": "stream",
          "text": [
            "Dem vs Rep 2 samples t-test:\n",
            "2 Ttest_indResult(statistic=9.205264294809222, pvalue=1.613440327937243e-18)\n",
            "3 Ttest_indResult(statistic=-0.08896538137868286, pvalue=0.9291556823993485)\n",
            "4 Ttest_indResult(statistic=23.21277691701378, pvalue=2.0703402795404463e-77)\n",
            "5 Ttest_indResult(statistic=-49.36708157301406, pvalue=1.994262314074344e-177)\n",
            "6 Ttest_indResult(statistic=-21.13669261173219, pvalue=5.600520111729011e-68)\n",
            "7 Ttest_indResult(statistic=-9.737575825219457, pvalue=2.3936722520597287e-20)\n",
            "8 Ttest_indResult(statistic=12.526187929077842, pvalue=8.521033017443867e-31)\n",
            "9 Ttest_indResult(statistic=18.052093200819733, pvalue=2.82471841372357e-54)\n",
            "10 Ttest_indResult(statistic=16.437503268542994, pvalue=5.03079265310811e-47)\n",
            "11 Ttest_indResult(statistic=-1.7359117329695164, pvalue=0.08330248490425066)\n",
            "12 Ttest_indResult(statistic=8.293603989407588, pvalue=1.5759322301054064e-15)\n",
            "13 Ttest_indResult(statistic=-20.500685724563073, pvalue=1.8834203990450192e-64)\n",
            "14 Ttest_indResult(statistic=-13.51064251060933, pvalue=1.2278581709672758e-34)\n",
            "15 Ttest_indResult(statistic=-16.342085656197696, pvalue=9.952342705606092e-47)\n",
            "16 Ttest_indResult(statistic=12.853146132542978, pvalue=5.997697174347365e-32)\n",
            "17 Ttest_indResult(statistic=6.849454815841208, pvalue=3.652674361672226e-11)\n"
          ],
          "name": "stdout"
        }
      ]
    },
    {
      "metadata": {
        "id": "PjwwWA4xqySh",
        "colab_type": "text"
      },
      "cell_type": "markdown",
      "source": [
        "# Analysis\n",
        "**there may not be much of a difference on:**\n",
        "\n",
        "Water-project-cost-sharing\n",
        "\n",
        "Ttest_indResult(statistic=-0.08896538137868286, pvalue=0.9291556823993485)"
      ]
    },
    {
      "metadata": {
        "id": "AjfzFiSukkG5",
        "colab_type": "text"
      },
      "cell_type": "markdown",
      "source": [
        "# Resources\n",
        "\n",
        "- https://homepage.divms.uiowa.edu/~mbognar/applets/t.html\n",
        "- https://rpsychologist.com/d3/tdist/"
      ]
    }
  ]
}