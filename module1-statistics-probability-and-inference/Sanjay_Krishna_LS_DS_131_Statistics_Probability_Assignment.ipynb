{
  "nbformat": 4,
  "nbformat_minor": 0,
  "metadata": {
    "kernelspec": {
      "display_name": "Python 3",
      "language": "python",
      "name": "python3"
    },
    "language_info": {
      "codemirror_mode": {
        "name": "ipython",
        "version": 3
      },
      "file_extension": ".py",
      "mimetype": "text/x-python",
      "name": "python",
      "nbconvert_exporter": "python",
      "pygments_lexer": "ipython3",
      "version": "3.7.3"
    },
    "colab": {
      "name": "Sanjay_Krishna_LS_DS_131_Statistics_Probability_Assignment.ipynb",
      "provenance": [],
      "collapsed_sections": [],
      "include_colab_link": true
    }
  },
  "cells": [
    {
      "cell_type": "markdown",
      "metadata": {
        "id": "view-in-github",
        "colab_type": "text"
      },
      "source": [
        "<a href=\"https://colab.research.google.com/github/sanjaykmenon/DS-Unit-1-Sprint-3-Statistical-Tests-and-Experiments/blob/master/module1-statistics-probability-and-inference/Sanjay_Krishna_LS_DS_131_Statistics_Probability_Assignment.ipynb\" target=\"_parent\"><img src=\"https://colab.research.google.com/assets/colab-badge.svg\" alt=\"Open In Colab\"/></a>"
      ]
    },
    {
      "cell_type": "markdown",
      "metadata": {
        "id": "XikclWIORaCd",
        "colab_type": "text"
      },
      "source": [
        "<img align=\"left\" src=\"https://lever-client-logos.s3.amazonaws.com/864372b1-534c-480e-acd5-9711f850815c-1524247202159.png\" width=200>\n",
        "<br></br>\n",
        "<br></br>\n",
        "\n",
        "## *Data Science Unit 1 Sprint 3 Assignment 1*\n",
        "\n",
        "# Apply the t-test to real data\n",
        "\n",
        "Your assignment is to determine which issues have \"statistically significant\" differences between political parties in this [1980s congressional voting data](https://archive.ics.uci.edu/ml/datasets/Congressional+Voting+Records). The data consists of 435 instances (one for each congressperson), a class (democrat or republican), and 16 binary attributes (yes or no for voting for or against certain issues). Be aware - there are missing values!\n",
        "\n",
        "Your goals:\n",
        "\n",
        "1. Load and clean the data (or determine the best method to drop observations when running tests)\n",
        "2. Using hypothesis testing, find an issue that democrats support more than republicans with p < 0.01\n",
        "3. Using hypothesis testing, find an issue that republicans support more than democrats with p < 0.01\n",
        "4. Using hypothesis testing, find an issue where the difference between republicans and democrats has p > 0.1 (i.e. there may not be much of a difference)\n",
        "\n",
        "Note that this data will involve *2 sample* t-tests, because you're comparing averages across two groups (republicans and democrats) rather than a single group against a null hypothesis.\n",
        "\n",
        "Stretch goals:\n",
        "\n",
        "1. Refactor your code into functions so it's easy to rerun with arbitrary variables\n",
        "2. Apply hypothesis testing to your personal project data (for the purposes of this notebook you can type a summary of the hypothesis you formed and tested)"
      ]
    },
    {
      "cell_type": "code",
      "metadata": {
        "id": "XvNhRqEwRaCi",
        "colab_type": "code",
        "colab": {}
      },
      "source": [
        "### YOUR CODE STARTS HERE\n",
        "\n",
        "import pandas as pd\n",
        "\n",
        "df = pd.read_csv('https://archive.ics.uci.edu/ml/machine-learning-databases/voting-records/house-votes-84.data', header=None)"
      ],
      "execution_count": 0,
      "outputs": []
    },
    {
      "cell_type": "code",
      "metadata": {
        "id": "mol5vdwqV0xx",
        "colab_type": "code",
        "colab": {
          "base_uri": "https://localhost:8080/",
          "height": 206
        },
        "outputId": "96e586a5-478a-4ffb-9fec-a21c13e7d94b"
      },
      "source": [
        "df.head()"
      ],
      "execution_count": 2,
      "outputs": [
        {
          "output_type": "execute_result",
          "data": {
            "text/html": [
              "<div>\n",
              "<style scoped>\n",
              "    .dataframe tbody tr th:only-of-type {\n",
              "        vertical-align: middle;\n",
              "    }\n",
              "\n",
              "    .dataframe tbody tr th {\n",
              "        vertical-align: top;\n",
              "    }\n",
              "\n",
              "    .dataframe thead th {\n",
              "        text-align: right;\n",
              "    }\n",
              "</style>\n",
              "<table border=\"1\" class=\"dataframe\">\n",
              "  <thead>\n",
              "    <tr style=\"text-align: right;\">\n",
              "      <th></th>\n",
              "      <th>0</th>\n",
              "      <th>1</th>\n",
              "      <th>2</th>\n",
              "      <th>3</th>\n",
              "      <th>4</th>\n",
              "      <th>5</th>\n",
              "      <th>6</th>\n",
              "      <th>7</th>\n",
              "      <th>8</th>\n",
              "      <th>9</th>\n",
              "      <th>10</th>\n",
              "      <th>11</th>\n",
              "      <th>12</th>\n",
              "      <th>13</th>\n",
              "      <th>14</th>\n",
              "      <th>15</th>\n",
              "      <th>16</th>\n",
              "    </tr>\n",
              "  </thead>\n",
              "  <tbody>\n",
              "    <tr>\n",
              "      <th>0</th>\n",
              "      <td>republican</td>\n",
              "      <td>n</td>\n",
              "      <td>y</td>\n",
              "      <td>n</td>\n",
              "      <td>y</td>\n",
              "      <td>y</td>\n",
              "      <td>y</td>\n",
              "      <td>n</td>\n",
              "      <td>n</td>\n",
              "      <td>n</td>\n",
              "      <td>y</td>\n",
              "      <td>?</td>\n",
              "      <td>y</td>\n",
              "      <td>y</td>\n",
              "      <td>y</td>\n",
              "      <td>n</td>\n",
              "      <td>y</td>\n",
              "    </tr>\n",
              "    <tr>\n",
              "      <th>1</th>\n",
              "      <td>republican</td>\n",
              "      <td>n</td>\n",
              "      <td>y</td>\n",
              "      <td>n</td>\n",
              "      <td>y</td>\n",
              "      <td>y</td>\n",
              "      <td>y</td>\n",
              "      <td>n</td>\n",
              "      <td>n</td>\n",
              "      <td>n</td>\n",
              "      <td>n</td>\n",
              "      <td>n</td>\n",
              "      <td>y</td>\n",
              "      <td>y</td>\n",
              "      <td>y</td>\n",
              "      <td>n</td>\n",
              "      <td>?</td>\n",
              "    </tr>\n",
              "    <tr>\n",
              "      <th>2</th>\n",
              "      <td>democrat</td>\n",
              "      <td>?</td>\n",
              "      <td>y</td>\n",
              "      <td>y</td>\n",
              "      <td>?</td>\n",
              "      <td>y</td>\n",
              "      <td>y</td>\n",
              "      <td>n</td>\n",
              "      <td>n</td>\n",
              "      <td>n</td>\n",
              "      <td>n</td>\n",
              "      <td>y</td>\n",
              "      <td>n</td>\n",
              "      <td>y</td>\n",
              "      <td>y</td>\n",
              "      <td>n</td>\n",
              "      <td>n</td>\n",
              "    </tr>\n",
              "    <tr>\n",
              "      <th>3</th>\n",
              "      <td>democrat</td>\n",
              "      <td>n</td>\n",
              "      <td>y</td>\n",
              "      <td>y</td>\n",
              "      <td>n</td>\n",
              "      <td>?</td>\n",
              "      <td>y</td>\n",
              "      <td>n</td>\n",
              "      <td>n</td>\n",
              "      <td>n</td>\n",
              "      <td>n</td>\n",
              "      <td>y</td>\n",
              "      <td>n</td>\n",
              "      <td>y</td>\n",
              "      <td>n</td>\n",
              "      <td>n</td>\n",
              "      <td>y</td>\n",
              "    </tr>\n",
              "    <tr>\n",
              "      <th>4</th>\n",
              "      <td>democrat</td>\n",
              "      <td>y</td>\n",
              "      <td>y</td>\n",
              "      <td>y</td>\n",
              "      <td>n</td>\n",
              "      <td>y</td>\n",
              "      <td>y</td>\n",
              "      <td>n</td>\n",
              "      <td>n</td>\n",
              "      <td>n</td>\n",
              "      <td>n</td>\n",
              "      <td>y</td>\n",
              "      <td>?</td>\n",
              "      <td>y</td>\n",
              "      <td>y</td>\n",
              "      <td>y</td>\n",
              "      <td>y</td>\n",
              "    </tr>\n",
              "  </tbody>\n",
              "</table>\n",
              "</div>"
            ],
            "text/plain": [
              "           0  1  2  3  4  5  6  7  8  9  10 11 12 13 14 15 16\n",
              "0  republican  n  y  n  y  y  y  n  n  n  y  ?  y  y  y  n  y\n",
              "1  republican  n  y  n  y  y  y  n  n  n  n  n  y  y  y  n  ?\n",
              "2    democrat  ?  y  y  ?  y  y  n  n  n  n  y  n  y  y  n  n\n",
              "3    democrat  n  y  y  n  ?  y  n  n  n  n  y  n  y  n  n  y\n",
              "4    democrat  y  y  y  n  y  y  n  n  n  n  y  ?  y  y  y  y"
            ]
          },
          "metadata": {
            "tags": []
          },
          "execution_count": 2
        }
      ]
    },
    {
      "cell_type": "code",
      "metadata": {
        "id": "W7smEm1tV2BU",
        "colab_type": "code",
        "colab": {}
      },
      "source": [
        "'''\n",
        "1. Class Name: 2 (democrat, republican)\n",
        "2. handicapped-infants: 2 (y,n)\n",
        "3. water-project-cost-sharing: 2 (y,n)\n",
        "4. adoption-of-the-budget-resolution: 2 (y,n)\n",
        "5. physician-fee-freeze: 2 (y,n)\n",
        "6. el-salvador-aid: 2 (y,n)\n",
        "7. religious-groups-in-schools: 2 (y,n)\n",
        "8. anti-satellite-test-ban: 2 (y,n)\n",
        "9. aid-to-nicaraguan-contras: 2 (y,n)\n",
        "10. mx-missile: 2 (y,n)\n",
        "11. immigration: 2 (y,n)\n",
        "12. synfuels-corporation-cutback: 2 (y,n)\n",
        "13. education-spending: 2 (y,n)\n",
        "14. superfund-right-to-sue: 2 (y,n)\n",
        "15. crime: 2 (y,n)\n",
        "16. duty-free-exports: 2 (y,n)\n",
        "17. export-administration-act-south-africa: 2 (y,n)\n",
        "\n",
        "'''"
      ],
      "execution_count": 0,
      "outputs": []
    },
    {
      "cell_type": "code",
      "metadata": {
        "id": "OsWT5MoyXlar",
        "colab_type": "code",
        "colab": {}
      },
      "source": [
        "df.columns = [\"Party\",\n",
        "              \"handicapped-infants\",\n",
        "             \"water-project-cost-sharing\",\n",
        "             \"adoption-of-the-budget-resolution\",\n",
        "             \"physician-fee-freeze\",\n",
        "             \"el-salvador-aid\",\n",
        "             \"religious-groups-in-schools\",\n",
        "             \"anti-satellite-test-ban\",\n",
        "             \"aid-to-nicaraguan-contras\",\n",
        "             \"mx-missile\",\n",
        "             \"immigration\",\n",
        "             \"synfuels-corporation-cutback\",\n",
        "             \"education-spending\",\n",
        "             \"superfund-right-to-sue\",\n",
        "             \"crime\",\n",
        "             \"duty-free-exports\",\n",
        "             \"export-administration-act-south-africa\"]"
      ],
      "execution_count": 0,
      "outputs": []
    },
    {
      "cell_type": "code",
      "metadata": {
        "id": "ImjG2kGoaX7J",
        "colab_type": "code",
        "colab": {}
      },
      "source": [
        "df = df.replace({'?': None, 'y': 1, 'n': 0})"
      ],
      "execution_count": 0,
      "outputs": []
    },
    {
      "cell_type": "code",
      "metadata": {
        "id": "McZvObNPN7KC",
        "colab_type": "code",
        "colab": {}
      },
      "source": [
        "dem_filter = df['Party'] == 'democrat'"
      ],
      "execution_count": 0,
      "outputs": []
    },
    {
      "cell_type": "code",
      "metadata": {
        "id": "gcuumZpdp7v4",
        "colab_type": "code",
        "colab": {}
      },
      "source": [
        "dem_issue = df[dem_filter]"
      ],
      "execution_count": 0,
      "outputs": []
    },
    {
      "cell_type": "code",
      "metadata": {
        "id": "O229WBFCOJ0E",
        "colab_type": "code",
        "colab": {}
      },
      "source": [
        "rep_filter = df['Party'] == 'republican'"
      ],
      "execution_count": 0,
      "outputs": []
    },
    {
      "cell_type": "code",
      "metadata": {
        "id": "-OTNu3gFqBLd",
        "colab_type": "code",
        "colab": {}
      },
      "source": [
        "rep_issue = df[rep_filter]"
      ],
      "execution_count": 0,
      "outputs": []
    },
    {
      "cell_type": "code",
      "metadata": {
        "id": "FPogHdZ_ONmM",
        "colab_type": "code",
        "colab": {}
      },
      "source": [
        "dem_issue_infant = dem_issue['handicapped-infants']"
      ],
      "execution_count": 0,
      "outputs": []
    },
    {
      "cell_type": "code",
      "metadata": {
        "id": "I57pphF9Ofvf",
        "colab_type": "code",
        "colab": {}
      },
      "source": [
        "rep_issue_infant = rep_issue['handicapped-infants']"
      ],
      "execution_count": 0,
      "outputs": []
    },
    {
      "cell_type": "code",
      "metadata": {
        "id": "ntM7AE4opO4q",
        "colab_type": "code",
        "colab": {}
      },
      "source": [
        "\n",
        "from scipy.stats import ttest_ind, ttest_ind_from_stats, ttest_rel"
      ],
      "execution_count": 0,
      "outputs": []
    },
    {
      "cell_type": "code",
      "metadata": {
        "id": "UAYUmDTWOrYO",
        "colab_type": "code",
        "colab": {
          "base_uri": "https://localhost:8080/",
          "height": 35
        },
        "outputId": "a73d21c7-327e-492e-ec05-d20b78dc832a"
      },
      "source": [
        "ttest_ind(dem_issue_infant, rep_issue_infant, nan_policy='omit')"
      ],
      "execution_count": 16,
      "outputs": [
        {
          "output_type": "execute_result",
          "data": {
            "text/plain": [
              "Ttest_indResult(statistic=9.205264294809222, pvalue=1.613440327937243e-18)"
            ]
          },
          "metadata": {
            "tags": []
          },
          "execution_count": 16
        }
      ]
    },
    {
      "cell_type": "code",
      "metadata": {
        "id": "F3Akwf5yOwJR",
        "colab_type": "code",
        "colab": {}
      },
      "source": [
        "#add function for checking all issues.\n",
        "# am trying to get all the outputs mapped to a dataframe.\n",
        "\n",
        "def stat_test(column):\n",
        "  x, p = ttest_ind(dem_issue[column], rep_issue[column], nan_policy='omit')\n",
        "  print('The p-value is', p)\n",
        "  d = dem_issue[column].mean()\n",
        "  r = rep_issue[column].mean()\n",
        "  print('Democrat average for ', column, '=', d)\n",
        "  print('Republican average for ', column, '=', r)\n",
        "  return d\n",
        "  return r\n",
        "  if p > 0.1:\n",
        "    return print (\"There isn't a significant statistical difference between both parties on this issue\")\n",
        "  else:\n",
        "    return print(\" There is a significant statistical difference between both parties on this issue\")\n",
        "  "
      ],
      "execution_count": 0,
      "outputs": []
    },
    {
      "cell_type": "code",
      "metadata": {
        "id": "afZmLQadrbXR",
        "colab_type": "code",
        "colab": {}
      },
      "source": [
        "#H0 hypothesis: voting pattern will show no difference between Reps & Dems\n",
        "#HA hypothesis: voting pattern will show a difference\n"
      ],
      "execution_count": 0,
      "outputs": []
    },
    {
      "cell_type": "code",
      "metadata": {
        "id": "V04x-Bx_sBbo",
        "colab_type": "code",
        "colab": {
          "base_uri": "https://localhost:8080/",
          "height": 862
        },
        "outputId": "539dad22-e1aa-4891-a045-884bdfaa3642"
      },
      "source": [
        "stat_test('handicapped-infants')\n",
        "stat_test('water-project-cost-sharing')\n",
        "stat_test('adoption-of-the-budget-resolution')\n",
        "stat_test('physician-fee-freeze')\n",
        "stat_test('el-salvador-aid')\n",
        "stat_test('religious-groups-in-schools')\n",
        "stat_test('anti-satellite-test-ban')\n",
        "stat_test('aid-to-nicaraguan-contras')\n",
        "stat_test('mx-missile')\n",
        "stat_test('synfuels-corporation-cutback')\n",
        "stat_test('education-spending')\n",
        "stat_test('superfund-right-to-sue')\n",
        "stat_test('crime')\n",
        "stat_test('duty-free-exports')\n",
        "stat_test('export-administration-act-south-africa')"
      ],
      "execution_count": 24,
      "outputs": [
        {
          "output_type": "stream",
          "text": [
            "The p-value is 1.613440327937243e-18\n",
            "Democrat average for  handicapped-infants = 0.6046511627906976\n",
            "Republican average for  handicapped-infants = 0.18787878787878787\n",
            "The p-value is 0.9291556823993485\n",
            "Democrat average for  water-project-cost-sharing = 0.502092050209205\n",
            "Republican average for  water-project-cost-sharing = 0.5067567567567568\n",
            "The p-value is 2.0703402795404463e-77\n",
            "Democrat average for  adoption-of-the-budget-resolution = 0.8884615384615384\n",
            "Republican average for  adoption-of-the-budget-resolution = 0.13414634146341464\n",
            "The p-value is 1.994262314074344e-177\n",
            "Democrat average for  physician-fee-freeze = 0.05405405405405406\n",
            "Republican average for  physician-fee-freeze = 0.9878787878787879\n",
            "The p-value is 5.600520111729011e-68\n",
            "Democrat average for  el-salvador-aid = 0.21568627450980393\n",
            "Republican average for  el-salvador-aid = 0.9515151515151515\n",
            "The p-value is 2.3936722520597287e-20\n",
            "Democrat average for  religious-groups-in-schools = 0.47674418604651164\n",
            "Republican average for  religious-groups-in-schools = 0.8975903614457831\n",
            "The p-value is 8.521033017443867e-31\n",
            "Democrat average for  anti-satellite-test-ban = 0.7722007722007722\n",
            "Republican average for  anti-satellite-test-ban = 0.24074074074074073\n",
            "The p-value is 2.82471841372357e-54\n",
            "Democrat average for  aid-to-nicaraguan-contras = 0.8288973384030418\n",
            "Republican average for  aid-to-nicaraguan-contras = 0.15286624203821655\n",
            "The p-value is 5.03079265310811e-47\n",
            "Democrat average for  mx-missile = 0.7580645161290323\n",
            "Republican average for  mx-missile = 0.11515151515151516\n",
            "The p-value is 1.5759322301054064e-15\n",
            "Democrat average for  synfuels-corporation-cutback = 0.5058823529411764\n",
            "Republican average for  synfuels-corporation-cutback = 0.1320754716981132\n",
            "The p-value is 1.8834203990450192e-64\n",
            "Democrat average for  education-spending = 0.14457831325301204\n",
            "Republican average for  education-spending = 0.8709677419354839\n",
            "The p-value is 1.2278581709672758e-34\n",
            "Democrat average for  superfund-right-to-sue = 0.2896825396825397\n",
            "Republican average for  superfund-right-to-sue = 0.8607594936708861\n",
            "The p-value is 9.952342705606092e-47\n",
            "Democrat average for  crime = 0.35019455252918286\n",
            "Republican average for  crime = 0.9813664596273292\n",
            "The p-value is 5.997697174347365e-32\n",
            "Democrat average for  duty-free-exports = 0.6374501992031872\n",
            "Republican average for  duty-free-exports = 0.08974358974358974\n",
            "The p-value is 3.652674361672226e-11\n",
            "Democrat average for  export-administration-act-south-africa = 0.9351351351351351\n",
            "Republican average for  export-administration-act-south-africa = 0.6575342465753424\n"
          ],
          "name": "stdout"
        },
        {
          "output_type": "execute_result",
          "data": {
            "text/plain": [
              "0.9351351351351351"
            ]
          },
          "metadata": {
            "tags": []
          },
          "execution_count": 24
        }
      ]
    },
    {
      "cell_type": "markdown",
      "metadata": {
        "id": "Cl0R6YftvfH5",
        "colab_type": "text"
      },
      "source": [
        "Results:\n",
        "\n",
        "\n",
        "Democrat supported issues: 'handicapped-infants', 'adoption-of-the-budget-resolution', 'anti-satellite-test-ban', 'aid-to-nicaraguan-contras', ' mx-missile', 'synfuels-corporation-cutback', 'duty-free-exports', and 'export-administration-act-south-africa'\n",
        "\n",
        "Republican supported issues: 'physician-fee-freeze', 'el-salvador-aid', 'religious-groups-in-schools', 'education-spending', 'superfund-right-to-sue', and 'crime'.\n",
        "\n",
        "Similar support issues from both parties: 'immigration' and 'water-project-cost-sharing'.\n"
      ]
    },
    {
      "cell_type": "markdown",
      "metadata": {
        "id": "hCw5l2_fuGMT",
        "colab_type": "text"
      },
      "source": [
        "I'm trying to find a way to print this all into a table. Probably a stretch goal."
      ]
    }
  ]
}