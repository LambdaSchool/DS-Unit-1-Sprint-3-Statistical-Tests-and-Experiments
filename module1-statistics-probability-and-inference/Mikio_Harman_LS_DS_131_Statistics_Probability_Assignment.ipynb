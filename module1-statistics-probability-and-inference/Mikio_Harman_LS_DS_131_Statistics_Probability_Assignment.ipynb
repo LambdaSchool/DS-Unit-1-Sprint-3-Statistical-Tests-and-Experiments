{
  "nbformat": 4,
  "nbformat_minor": 0,
  "metadata": {
    "kernelspec": {
      "display_name": "Python 3",
      "language": "python",
      "name": "python3"
    },
    "language_info": {
      "codemirror_mode": {
        "name": "ipython",
        "version": 3
      },
      "file_extension": ".py",
      "mimetype": "text/x-python",
      "name": "python",
      "nbconvert_exporter": "python",
      "pygments_lexer": "ipython3",
      "version": "3.7.3"
    },
    "colab": {
      "name": "Mikio Harman LS_DS_131_Statistics_Probability_Assignment.ipynb",
      "version": "0.3.2",
      "provenance": [],
      "include_colab_link": true
    }
  },
  "cells": [
    {
      "cell_type": "markdown",
      "metadata": {
        "id": "view-in-github",
        "colab_type": "text"
      },
      "source": [
        "<a href=\"https://colab.research.google.com/github/mpHarm88/DS-Unit-1-Sprint-3-Statistical-Tests-and-Experiments/blob/master/module1-statistics-probability-and-inference/Mikio_Harman_LS_DS_131_Statistics_Probability_Assignment.ipynb\" target=\"_parent\"><img src=\"https://colab.research.google.com/assets/colab-badge.svg\" alt=\"Open In Colab\"/></a>"
      ]
    },
    {
      "cell_type": "markdown",
      "metadata": {
        "id": "V3JHws0Y1mxd",
        "colab_type": "text"
      },
      "source": [
        "<img align=\"left\" src=\"https://lever-client-logos.s3.amazonaws.com/864372b1-534c-480e-acd5-9711f850815c-1524247202159.png\" width=200>\n",
        "<br></br>\n",
        "<br></br>\n",
        "\n",
        "## *Data Science Unit 1 Sprint 3 Assignment 1*\n",
        "\n",
        "# Apply the t-test to real data\n",
        "\n",
        "Your assignment is to determine which issues have \"statistically significant\" differences between political parties in this [1980s congressional voting data](https://archive.ics.uci.edu/ml/datasets/Congressional+Voting+Records). The data consists of 435 instances (one for each congressperson), a class (democrat or republican), and 16 binary attributes (yes or no for voting for or against certain issues). Be aware - there are missing values!\n",
        "\n",
        "Your goals:\n",
        "\n",
        "1. Load and clean the data (or determine the best method to drop observations when running tests)\n",
        "2. Using hypothesis testing, find an issue that democrats support more than republicans with p < 0.01\n",
        "3. Using hypothesis testing, find an issue that republicans support more than democrats with p < 0.01\n",
        "4. Using hypothesis testing, find an issue where the difference between republicans and democrats has p > 0.1 (i.e. there may not be much of a difference)\n",
        "\n",
        "Note that this data will involve *2 sample* t-tests, because you're comparing averages across two groups (republicans and democrats) rather than a single group against a null hypothesis.\n",
        "\n",
        "Stretch goals:\n",
        "\n",
        "1. Refactor your code into functions so it's easy to rerun with arbitrary variables\n",
        "2. Apply hypothesis testing to your personal project data (for the purposes of this notebook you can type a summary of the hypothesis you formed and tested)"
      ]
    },
    {
      "cell_type": "code",
      "metadata": {
        "id": "mMKFCRJq1mxh",
        "colab_type": "code",
        "colab": {}
      },
      "source": [
        "### YOUR CODE STARTS HERE\n",
        "import pandas as pd\n",
        "import numpy as np\n",
        "from scipy.stats import ttest_ind, ttest_ind_from_stats, ttest_rel\n",
        "from scipy.stats import ttest_1samp"
      ],
      "execution_count": 0,
      "outputs": []
    },
    {
      "cell_type": "markdown",
      "metadata": {
        "id": "OACKtrnhthax",
        "colab_type": "text"
      },
      "source": [
        "##Load and clean the data (or determine the best method to drop observations when running tests)"
      ]
    },
    {
      "cell_type": "code",
      "metadata": {
        "id": "b94RyUBR1_zr",
        "colab_type": "code",
        "colab": {}
      },
      "source": [
        "url_data = 'https://archive.ics.uci.edu/ml/machine-learning-databases/voting-records/house-votes-84.data'"
      ],
      "execution_count": 0,
      "outputs": []
    },
    {
      "cell_type": "code",
      "metadata": {
        "id": "PRhc-Kjc2V1S",
        "colab_type": "code",
        "colab": {
          "base_uri": "https://localhost:8080/",
          "height": 226
        },
        "outputId": "3b43d720-085c-44a0-856b-83d405d339a3"
      },
      "source": [
        "\n",
        "col_names = {0: 'class_name',\n",
        "             1:'handicapped_infants',\n",
        "             2:'water_project_cost_sharing',\n",
        "             3:'adoption_of_the_budget_resolution',\n",
        "             4:'physician_fee_freeze',\n",
        "             5:'el_salvador_aid',\n",
        "             6:'religious_groups_in_schoools',\n",
        "             7:'anti_satellite_test_ban',\n",
        "             8:'aid_to_nicaraguan_contras',\n",
        "             9:'mx_missle',\n",
        "            10:'immigration',\n",
        "            11:'synfuels_corporation_cutback',\n",
        "            12:'education_spending',\n",
        "            13:'superfund_right_to_sue',\n",
        "            14:'crime',\n",
        "            15:'duty_free_exports',\n",
        "            16:'export_administration_act_south_africa'}\n",
        "\n",
        "df_data = pd.read_csv(url_data, header=None, names=col_names)\n",
        "df_data2 = df_data.rename(columns=col_names)\n",
        "df_data3 = df_data2.replace({'?':np.NaN, 'n':0, 'y':1})\n",
        "df_data3.head()"
      ],
      "execution_count": 40,
      "outputs": [
        {
          "output_type": "execute_result",
          "data": {
            "text/html": [
              "<div>\n",
              "<style scoped>\n",
              "    .dataframe tbody tr th:only-of-type {\n",
              "        vertical-align: middle;\n",
              "    }\n",
              "\n",
              "    .dataframe tbody tr th {\n",
              "        vertical-align: top;\n",
              "    }\n",
              "\n",
              "    .dataframe thead th {\n",
              "        text-align: right;\n",
              "    }\n",
              "</style>\n",
              "<table border=\"1\" class=\"dataframe\">\n",
              "  <thead>\n",
              "    <tr style=\"text-align: right;\">\n",
              "      <th></th>\n",
              "      <th>class_name</th>\n",
              "      <th>handicapped_infants</th>\n",
              "      <th>water_project_cost_sharing</th>\n",
              "      <th>adoption_of_the_budget_resolution</th>\n",
              "      <th>physician_fee_freeze</th>\n",
              "      <th>el_salvador_aid</th>\n",
              "      <th>religious_groups_in_schoools</th>\n",
              "      <th>anti_satellite_test_ban</th>\n",
              "      <th>aid_to_nicaraguan_contras</th>\n",
              "      <th>mx_missle</th>\n",
              "      <th>immigration</th>\n",
              "      <th>synfuels_corporation_cutback</th>\n",
              "      <th>education_spending</th>\n",
              "      <th>superfund_right_to_sue</th>\n",
              "      <th>crime</th>\n",
              "      <th>duty_free_exports</th>\n",
              "      <th>export_administration_act_south_africa</th>\n",
              "    </tr>\n",
              "  </thead>\n",
              "  <tbody>\n",
              "    <tr>\n",
              "      <th>0</th>\n",
              "      <td>republican</td>\n",
              "      <td>0.0</td>\n",
              "      <td>1.0</td>\n",
              "      <td>0.0</td>\n",
              "      <td>1.0</td>\n",
              "      <td>1.0</td>\n",
              "      <td>1.0</td>\n",
              "      <td>0.0</td>\n",
              "      <td>0.0</td>\n",
              "      <td>0.0</td>\n",
              "      <td>1.0</td>\n",
              "      <td>NaN</td>\n",
              "      <td>1.0</td>\n",
              "      <td>1.0</td>\n",
              "      <td>1.0</td>\n",
              "      <td>0.0</td>\n",
              "      <td>1.0</td>\n",
              "    </tr>\n",
              "    <tr>\n",
              "      <th>1</th>\n",
              "      <td>republican</td>\n",
              "      <td>0.0</td>\n",
              "      <td>1.0</td>\n",
              "      <td>0.0</td>\n",
              "      <td>1.0</td>\n",
              "      <td>1.0</td>\n",
              "      <td>1.0</td>\n",
              "      <td>0.0</td>\n",
              "      <td>0.0</td>\n",
              "      <td>0.0</td>\n",
              "      <td>0.0</td>\n",
              "      <td>0.0</td>\n",
              "      <td>1.0</td>\n",
              "      <td>1.0</td>\n",
              "      <td>1.0</td>\n",
              "      <td>0.0</td>\n",
              "      <td>NaN</td>\n",
              "    </tr>\n",
              "    <tr>\n",
              "      <th>2</th>\n",
              "      <td>democrat</td>\n",
              "      <td>NaN</td>\n",
              "      <td>1.0</td>\n",
              "      <td>1.0</td>\n",
              "      <td>NaN</td>\n",
              "      <td>1.0</td>\n",
              "      <td>1.0</td>\n",
              "      <td>0.0</td>\n",
              "      <td>0.0</td>\n",
              "      <td>0.0</td>\n",
              "      <td>0.0</td>\n",
              "      <td>1.0</td>\n",
              "      <td>0.0</td>\n",
              "      <td>1.0</td>\n",
              "      <td>1.0</td>\n",
              "      <td>0.0</td>\n",
              "      <td>0.0</td>\n",
              "    </tr>\n",
              "    <tr>\n",
              "      <th>3</th>\n",
              "      <td>democrat</td>\n",
              "      <td>0.0</td>\n",
              "      <td>1.0</td>\n",
              "      <td>1.0</td>\n",
              "      <td>0.0</td>\n",
              "      <td>NaN</td>\n",
              "      <td>1.0</td>\n",
              "      <td>0.0</td>\n",
              "      <td>0.0</td>\n",
              "      <td>0.0</td>\n",
              "      <td>0.0</td>\n",
              "      <td>1.0</td>\n",
              "      <td>0.0</td>\n",
              "      <td>1.0</td>\n",
              "      <td>0.0</td>\n",
              "      <td>0.0</td>\n",
              "      <td>1.0</td>\n",
              "    </tr>\n",
              "    <tr>\n",
              "      <th>4</th>\n",
              "      <td>democrat</td>\n",
              "      <td>1.0</td>\n",
              "      <td>1.0</td>\n",
              "      <td>1.0</td>\n",
              "      <td>0.0</td>\n",
              "      <td>1.0</td>\n",
              "      <td>1.0</td>\n",
              "      <td>0.0</td>\n",
              "      <td>0.0</td>\n",
              "      <td>0.0</td>\n",
              "      <td>0.0</td>\n",
              "      <td>1.0</td>\n",
              "      <td>NaN</td>\n",
              "      <td>1.0</td>\n",
              "      <td>1.0</td>\n",
              "      <td>1.0</td>\n",
              "      <td>1.0</td>\n",
              "    </tr>\n",
              "  </tbody>\n",
              "</table>\n",
              "</div>"
            ],
            "text/plain": [
              "   class_name  ...  export_administration_act_south_africa\n",
              "0  republican  ...                                     1.0\n",
              "1  republican  ...                                     NaN\n",
              "2    democrat  ...                                     0.0\n",
              "3    democrat  ...                                     1.0\n",
              "4    democrat  ...                                     1.0\n",
              "\n",
              "[5 rows x 17 columns]"
            ]
          },
          "metadata": {
            "tags": []
          },
          "execution_count": 40
        }
      ]
    },
    {
      "cell_type": "code",
      "metadata": {
        "id": "Ol-A5nntAFmr",
        "colab_type": "code",
        "colab": {}
      },
      "source": [
        "df_filtered_d = df_data3[df_data3['class_name'] == 'democrat']\n",
        "df_filtered_r = df_data3[df_data3['class_name'] == 'republican']"
      ],
      "execution_count": 0,
      "outputs": []
    },
    {
      "cell_type": "code",
      "metadata": {
        "id": "c_y1pMNcCRgu",
        "colab_type": "code",
        "colab": {
          "base_uri": "https://localhost:8080/",
          "height": 330
        },
        "outputId": "c9cea4e3-111a-4fd3-def8-7ff1bcf34382"
      },
      "source": [
        "df_data3.isnull().sum()"
      ],
      "execution_count": 43,
      "outputs": [
        {
          "output_type": "execute_result",
          "data": {
            "text/plain": [
              "class_name                                  0\n",
              "handicapped_infants                        12\n",
              "water_project_cost_sharing                 48\n",
              "adoption_of_the_budget_resolution          11\n",
              "physician_fee_freeze                       11\n",
              "el_salvador_aid                            15\n",
              "religious_groups_in_schoools               11\n",
              "anti_satellite_test_ban                    14\n",
              "aid_to_nicaraguan_contras                  15\n",
              "mx_missle                                  22\n",
              "immigration                                 7\n",
              "synfuels_corporation_cutback               21\n",
              "education_spending                         31\n",
              "superfund_right_to_sue                     25\n",
              "crime                                      17\n",
              "duty_free_exports                          28\n",
              "export_administration_act_south_africa    104\n",
              "dtype: int64"
            ]
          },
          "metadata": {
            "tags": []
          },
          "execution_count": 43
        }
      ]
    },
    {
      "cell_type": "markdown",
      "metadata": {
        "id": "DOWeCFAINckL",
        "colab_type": "text"
      },
      "source": [
        "#SAMPLE T TEST"
      ]
    },
    {
      "cell_type": "code",
      "metadata": {
        "id": "bnRFq7NqNk1_",
        "colab_type": "code",
        "colab": {
          "base_uri": "https://localhost:8080/",
          "height": 34
        },
        "outputId": "51a902cb-4899-4de6-be34-4a8ee2254b3a"
      },
      "source": [
        "df_filtered_r['adoption_of_the_budget_resolution'].mean()"
      ],
      "execution_count": 23,
      "outputs": [
        {
          "output_type": "execute_result",
          "data": {
            "text/plain": [
              "0.13414634146341464"
            ]
          },
          "metadata": {
            "tags": []
          },
          "execution_count": 23
        }
      ]
    },
    {
      "cell_type": "markdown",
      "metadata": {
        "id": "6Gq9acrlOXlE",
        "colab_type": "text"
      },
      "source": [
        "###1. Null Hypothesis:\n",
        "\n",
        "In 1-sample t-tests YOU GET TO CHOOSE YOUR NULL HYPOTHESIS\n",
        "\n",
        "$H_0$: 0.0 - There is ZERO republican support for this bill\n",
        "\n",
        "###2. Alternative Hypothesis\n",
        "\n",
        "$H_a$: $\\bar{x} \\neq 0$ - There is non support for the budget bill among republicans\n",
        "\n",
        "###3. Confidence Level: 95% or .95"
      ]
    },
    {
      "cell_type": "code",
      "metadata": {
        "id": "uiUQm45jPTKI",
        "colab_type": "code",
        "colab": {
          "base_uri": "https://localhost:8080/",
          "height": 34
        },
        "outputId": "94f1cbb8-48c1-4934-e618-8e6196d51f8d"
      },
      "source": [
        "#Run a 1-sample t-test providing sample and null hypothesis\n",
        "# pass nan_policy='omit' any time you have NaN values in a column\n",
        "\n",
        "ttest_1samp(df_filtered_r['adoption_of_the_budget_resolution'],0,  nan_policy='omit')"
      ],
      "execution_count": 29,
      "outputs": [
        {
          "output_type": "execute_result",
          "data": {
            "text/plain": [
              "Ttest_1sampResult(statistic=5.02528816355446, pvalue=1.3107521045196396e-06)"
            ]
          },
          "metadata": {
            "tags": []
          },
          "execution_count": 29
        }
      ]
    },
    {
      "cell_type": "markdown",
      "metadata": {
        "id": "iXF1bc3hP9gN",
        "colab_type": "text"
      },
      "source": [
        "4. T-Statistic: 5.025\n",
        "5. 0.0000013\n",
        "---\n",
        "Conclusion: Due to a p-value of 0 I reject the null hypothesis that republican support is zero and conclude that republican support is non-zero"
      ]
    },
    {
      "cell_type": "markdown",
      "metadata": {
        "id": "VXLIIJ1uQfxC",
        "colab_type": "text"
      },
      "source": [
        "# 2-Sample T-test"
      ]
    },
    {
      "cell_type": "code",
      "metadata": {
        "id": "9Z0aI6nkQiN2",
        "colab_type": "code",
        "colab": {
          "base_uri": "https://localhost:8080/",
          "height": 34
        },
        "outputId": "4ac5151a-dd15-4dad-bab1-4b54a09a7376"
      },
      "source": [
        "ttest_ind(df_filtered_r['adoption_of_the_budget_resolution'], \n",
        "          df_filtered_d['adoption_of_the_budget_resolution'], \n",
        "          nan_policy='omit')"
      ],
      "execution_count": 45,
      "outputs": [
        {
          "output_type": "execute_result",
          "data": {
            "text/plain": [
              "Ttest_indResult(statistic=-23.21277691701378, pvalue=2.0703402795404463e-77)"
            ]
          },
          "metadata": {
            "tags": []
          },
          "execution_count": 45
        }
      ]
    },
    {
      "cell_type": "code",
      "metadata": {
        "id": "r1s7tnsQQ_-Z",
        "colab_type": "code",
        "colab": {
          "base_uri": "https://localhost:8080/",
          "height": 34
        },
        "outputId": "11466a84-122f-49cd-c68a-bf4a0c37b64c"
      },
      "source": [
        "df_filtered_r['adoption_of_the_budget_resolution'].mean()"
      ],
      "execution_count": 33,
      "outputs": [
        {
          "output_type": "execute_result",
          "data": {
            "text/plain": [
              "0.13414634146341464"
            ]
          },
          "metadata": {
            "tags": []
          },
          "execution_count": 33
        }
      ]
    },
    {
      "cell_type": "code",
      "metadata": {
        "id": "8IRTLK2IQ7Xn",
        "colab_type": "code",
        "colab": {
          "base_uri": "https://localhost:8080/",
          "height": 34
        },
        "outputId": "e81ae1da-66f8-4cdd-bd1a-0bc76f50d15b"
      },
      "source": [
        "df_filtered_d['adoption_of_the_budget_resolution'].mean()"
      ],
      "execution_count": 34,
      "outputs": [
        {
          "output_type": "execute_result",
          "data": {
            "text/plain": [
              "0.8884615384615384"
            ]
          },
          "metadata": {
            "tags": []
          },
          "execution_count": 34
        }
      ]
    },
    {
      "cell_type": "markdown",
      "metadata": {
        "id": "k1jQaJGhh6nm",
        "colab_type": "text"
      },
      "source": [
        "##Using hypothesis testing, find an issue that republicans support more than democrats with p < 0.01"
      ]
    },
    {
      "cell_type": "code",
      "metadata": {
        "id": "oBWnEycEh6I7",
        "colab_type": "code",
        "colab": {
          "base_uri": "https://localhost:8080/",
          "height": 34
        },
        "outputId": "70a410a3-1160-43ed-a3f5-1438fad0cfbf"
      },
      "source": [
        "ttest_ind(df_filtered_r['religious_groups_in_schoools'],\n",
        "          df_filtered_d['religious_groups_in_schoools'],\n",
        "          nan_policy='omit')"
      ],
      "execution_count": 44,
      "outputs": [
        {
          "output_type": "execute_result",
          "data": {
            "text/plain": [
              "Ttest_indResult(statistic=9.737575825219457, pvalue=2.3936722520597287e-20)"
            ]
          },
          "metadata": {
            "tags": []
          },
          "execution_count": 44
        }
      ]
    },
    {
      "cell_type": "code",
      "metadata": {
        "id": "Vkn16OtdlUlt",
        "colab_type": "code",
        "colab": {
          "base_uri": "https://localhost:8080/",
          "height": 52
        },
        "outputId": "4faadb50-ed70-4a6d-b5db-3bd4d4e31795"
      },
      "source": [
        "print(df_filtered_r['religious_groups_in_schoools'].mean())\n",
        "print(df_filtered_d['religious_groups_in_schoools'].mean())"
      ],
      "execution_count": 48,
      "outputs": [
        {
          "output_type": "stream",
          "text": [
            "0.8975903614457831\n",
            "0.47674418604651164\n"
          ],
          "name": "stdout"
        }
      ]
    },
    {
      "cell_type": "code",
      "metadata": {
        "id": "H3uDbVe8pik3",
        "colab_type": "code",
        "colab": {
          "base_uri": "https://localhost:8080/",
          "height": 34
        },
        "outputId": "b101f4b3-6906-483d-9fc0-1dc9fe049e99"
      },
      "source": [
        "ttest_ind(df_filtered_d['crime'],\n",
        "          df_filtered_r['crime'],\n",
        "          nan_policy='omit')"
      ],
      "execution_count": 64,
      "outputs": [
        {
          "output_type": "execute_result",
          "data": {
            "text/plain": [
              "Ttest_indResult(statistic=-16.342085656197696, pvalue=9.952342705606092e-47)"
            ]
          },
          "metadata": {
            "tags": []
          },
          "execution_count": 64
        }
      ]
    },
    {
      "cell_type": "code",
      "metadata": {
        "id": "2ifnc29Wpiun",
        "colab_type": "code",
        "colab": {
          "base_uri": "https://localhost:8080/",
          "height": 52
        },
        "outputId": "9c909c3a-d23c-4804-ffdf-a7f1b209877f"
      },
      "source": [
        "print(df_filtered_d['crime'].mean())\n",
        "print(df_filtered_r['crime'].mean())"
      ],
      "execution_count": 65,
      "outputs": [
        {
          "output_type": "stream",
          "text": [
            "0.35019455252918286\n",
            "0.9813664596273292\n"
          ],
          "name": "stdout"
        }
      ]
    },
    {
      "cell_type": "markdown",
      "metadata": {
        "id": "eGkfP43clpyn",
        "colab_type": "text"
      },
      "source": [
        "##Using hypothesis testing, find an issue that Democrats support more than democrats with p < 0.01"
      ]
    },
    {
      "cell_type": "code",
      "metadata": {
        "id": "x7iy4XAlmSIX",
        "colab_type": "code",
        "colab": {
          "base_uri": "https://localhost:8080/",
          "height": 34
        },
        "outputId": "a1d4cc81-a39f-4df1-8487-f87b75781d01"
      },
      "source": [
        "ttest_ind(df_filtered_d['synfuels_corporation_cutback'],\n",
        "          df_filtered_r['synfuels_corporation_cutback'],\n",
        "          nan_policy='omit')"
      ],
      "execution_count": 52,
      "outputs": [
        {
          "output_type": "execute_result",
          "data": {
            "text/plain": [
              "Ttest_indResult(statistic=8.293603989407588, pvalue=1.5759322301054064e-15)"
            ]
          },
          "metadata": {
            "tags": []
          },
          "execution_count": 52
        }
      ]
    },
    {
      "cell_type": "code",
      "metadata": {
        "id": "KtXTDG4HmkUf",
        "colab_type": "code",
        "colab": {
          "base_uri": "https://localhost:8080/",
          "height": 52
        },
        "outputId": "d34f8104-da16-4333-9363-e85d237b4d11"
      },
      "source": [
        "print(df_filtered_d['synfuels_corporation_cutback'].mean())\n",
        "print(df_filtered_r['synfuels_corporation_cutback'].mean())"
      ],
      "execution_count": 54,
      "outputs": [
        {
          "output_type": "stream",
          "text": [
            "0.5058823529411764\n",
            "0.1320754716981132\n"
          ],
          "name": "stdout"
        }
      ]
    },
    {
      "cell_type": "code",
      "metadata": {
        "id": "7QNy10wOm4_-",
        "colab_type": "code",
        "colab": {
          "base_uri": "https://localhost:8080/",
          "height": 34
        },
        "outputId": "aef080cf-f0b2-4992-d95f-a380ed157da2"
      },
      "source": [
        "ttest_ind(df_filtered_d['mx_missle'],\n",
        "          df_filtered_r['mx_missle'],\n",
        "          nan_policy='omit')"
      ],
      "execution_count": 56,
      "outputs": [
        {
          "output_type": "execute_result",
          "data": {
            "text/plain": [
              "Ttest_indResult(statistic=16.437503268542994, pvalue=5.03079265310811e-47)"
            ]
          },
          "metadata": {
            "tags": []
          },
          "execution_count": 56
        }
      ]
    },
    {
      "cell_type": "code",
      "metadata": {
        "id": "lA6CPOpMnHjX",
        "colab_type": "code",
        "colab": {
          "base_uri": "https://localhost:8080/",
          "height": 52
        },
        "outputId": "5915a62c-9c2a-4e75-98db-493452b57c45"
      },
      "source": [
        "print(df_filtered_d['mx_missle'].mean())\n",
        "print(df_filtered_r['mx_missle'].mean())"
      ],
      "execution_count": 57,
      "outputs": [
        {
          "output_type": "stream",
          "text": [
            "0.7580645161290323\n",
            "0.11515151515151516\n"
          ],
          "name": "stdout"
        }
      ]
    },
    {
      "cell_type": "markdown",
      "metadata": {
        "id": "H1bvDYaLp48O",
        "colab_type": "text"
      },
      "source": [
        "###Using hypothesis testing, find an issue where the difference between republicans and democrats has p > 0.1 (i.e. there may not be much of a difference)"
      ]
    },
    {
      "cell_type": "code",
      "metadata": {
        "id": "XXanqFEsnUZK",
        "colab_type": "code",
        "colab": {
          "base_uri": "https://localhost:8080/",
          "height": 34
        },
        "outputId": "4209e122-6c3e-4a9d-f13d-310f144d4999"
      },
      "source": [
        "ttest_ind(df_filtered_d['water_project_cost_sharing'],\n",
        "          df_filtered_r['water_project_cost_sharing'],\n",
        "          nan_policy='omit')"
      ],
      "execution_count": 59,
      "outputs": [
        {
          "output_type": "execute_result",
          "data": {
            "text/plain": [
              "Ttest_indResult(statistic=-0.08896538137868286, pvalue=0.9291556823993485)"
            ]
          },
          "metadata": {
            "tags": []
          },
          "execution_count": 59
        }
      ]
    },
    {
      "cell_type": "code",
      "metadata": {
        "id": "jfM_AvvBp5NE",
        "colab_type": "code",
        "colab": {
          "base_uri": "https://localhost:8080/",
          "height": 52
        },
        "outputId": "ddcf6e0d-f52c-4566-be2c-d6170dd82a54"
      },
      "source": [
        "print(df_filtered_d['water_project_cost_sharing'].mean())\n",
        "print(df_filtered_r['water_project_cost_sharing'].mean())"
      ],
      "execution_count": 66,
      "outputs": [
        {
          "output_type": "stream",
          "text": [
            "0.502092050209205\n",
            "0.5067567567567568\n"
          ],
          "name": "stdout"
        }
      ]
    },
    {
      "cell_type": "markdown",
      "metadata": {
        "id": "OXDGaJobhE6Q",
        "colab_type": "text"
      },
      "source": [
        "##Additional Goals: \n",
        "I'm adding to the assignment that when you have already done what's asked of you there, before you move onto the other stretch goals, that:\n",
        "You also practice some 1-sample t-tests\n",
        "You try and create some kind of a visualization that communicates the results of your hypothesis tests. This can be as simple as a histogram of the p-values or the t-statistics."
      ]
    },
    {
      "cell_type": "code",
      "metadata": {
        "id": "b9LYcuZDsOZ1",
        "colab_type": "code",
        "colab": {}
      },
      "source": [
        ""
      ],
      "execution_count": 0,
      "outputs": []
    }
  ]
}