{
  "nbformat": 4,
  "nbformat_minor": 0,
  "metadata": {
    "colab": {
      "name": "LS DS 141 Statistics Probability and Inference.ipynb",
      "version": "0.3.2",
      "provenance": [],
      "collapsed_sections": [
        "FMhDKOFND0qY",
        "1yx_QilAEC6o"
      ]
    },
    "kernelspec": {
      "name": "python3",
      "display_name": "Python 3"
    }
  },
  "cells": [
    {
      "metadata": {
        "id": "eJGtmni-DezY",
        "colab_type": "text"
      },
      "cell_type": "markdown",
      "source": [
        "# Lambda School Data Science Module 141\n",
        "## Statistics, Probability, and Inference"
      ]
    },
    {
      "metadata": {
        "id": "FMhDKOFND0qY",
        "colab_type": "text"
      },
      "cell_type": "markdown",
      "source": [
        "## Prepare - examine what's available in SciPy\n",
        "\n",
        "As we delve into statistics, we'll be using more libraries - in particular the [stats package from SciPy](https://docs.scipy.org/doc/scipy/reference/tutorial/stats.html)."
      ]
    },
    {
      "metadata": {
        "id": "fQ9rkLJmEbsk",
        "colab_type": "code",
        "outputId": "50d52621-6fb6-424b-bf27-d79d63f5e462",
        "colab": {
          "base_uri": "https://localhost:8080/",
          "height": 4445
        }
      },
      "cell_type": "code",
      "source": [
        "from scipy import stats\n",
        "dir(stats)"
      ],
      "execution_count": 0,
      "outputs": [
        {
          "output_type": "execute_result",
          "data": {
            "text/plain": [
              "['__all__',\n",
              " '__builtins__',\n",
              " '__cached__',\n",
              " '__doc__',\n",
              " '__file__',\n",
              " '__loader__',\n",
              " '__name__',\n",
              " '__package__',\n",
              " '__path__',\n",
              " '__spec__',\n",
              " '_binned_statistic',\n",
              " '_constants',\n",
              " '_continuous_distns',\n",
              " '_discrete_distns',\n",
              " '_distn_infrastructure',\n",
              " '_distr_params',\n",
              " '_multivariate',\n",
              " '_stats',\n",
              " '_stats_mstats_common',\n",
              " '_tukeylambda_stats',\n",
              " 'absolute_import',\n",
              " 'alpha',\n",
              " 'anderson',\n",
              " 'anderson_ksamp',\n",
              " 'anglit',\n",
              " 'ansari',\n",
              " 'arcsine',\n",
              " 'argus',\n",
              " 'bartlett',\n",
              " 'bayes_mvs',\n",
              " 'bernoulli',\n",
              " 'beta',\n",
              " 'betaprime',\n",
              " 'binned_statistic',\n",
              " 'binned_statistic_2d',\n",
              " 'binned_statistic_dd',\n",
              " 'binom',\n",
              " 'binom_test',\n",
              " 'boltzmann',\n",
              " 'boxcox',\n",
              " 'boxcox_llf',\n",
              " 'boxcox_normmax',\n",
              " 'boxcox_normplot',\n",
              " 'bradford',\n",
              " 'burr',\n",
              " 'burr12',\n",
              " 'cauchy',\n",
              " 'chi',\n",
              " 'chi2',\n",
              " 'chi2_contingency',\n",
              " 'chisquare',\n",
              " 'circmean',\n",
              " 'circstd',\n",
              " 'circvar',\n",
              " 'combine_pvalues',\n",
              " 'contingency',\n",
              " 'cosine',\n",
              " 'crystalball',\n",
              " 'cumfreq',\n",
              " 'describe',\n",
              " 'dgamma',\n",
              " 'dirichlet',\n",
              " 'distributions',\n",
              " 'division',\n",
              " 'dlaplace',\n",
              " 'dweibull',\n",
              " 'energy_distance',\n",
              " 'entropy',\n",
              " 'erlang',\n",
              " 'expon',\n",
              " 'exponnorm',\n",
              " 'exponpow',\n",
              " 'exponweib',\n",
              " 'f',\n",
              " 'f_oneway',\n",
              " 'fatiguelife',\n",
              " 'find_repeats',\n",
              " 'fisher_exact',\n",
              " 'fisk',\n",
              " 'fligner',\n",
              " 'foldcauchy',\n",
              " 'foldnorm',\n",
              " 'frechet_l',\n",
              " 'frechet_r',\n",
              " 'friedmanchisquare',\n",
              " 'gamma',\n",
              " 'gausshyper',\n",
              " 'gaussian_kde',\n",
              " 'genexpon',\n",
              " 'genextreme',\n",
              " 'gengamma',\n",
              " 'genhalflogistic',\n",
              " 'genlogistic',\n",
              " 'gennorm',\n",
              " 'genpareto',\n",
              " 'geom',\n",
              " 'gilbrat',\n",
              " 'gmean',\n",
              " 'gompertz',\n",
              " 'gumbel_l',\n",
              " 'gumbel_r',\n",
              " 'halfcauchy',\n",
              " 'halfgennorm',\n",
              " 'halflogistic',\n",
              " 'halfnorm',\n",
              " 'hmean',\n",
              " 'hypergeom',\n",
              " 'hypsecant',\n",
              " 'invgamma',\n",
              " 'invgauss',\n",
              " 'invweibull',\n",
              " 'invwishart',\n",
              " 'iqr',\n",
              " 'itemfreq',\n",
              " 'jarque_bera',\n",
              " 'johnsonsb',\n",
              " 'johnsonsu',\n",
              " 'kappa3',\n",
              " 'kappa4',\n",
              " 'kde',\n",
              " 'kendalltau',\n",
              " 'kruskal',\n",
              " 'ks_2samp',\n",
              " 'ksone',\n",
              " 'kstat',\n",
              " 'kstatvar',\n",
              " 'kstest',\n",
              " 'kstwobign',\n",
              " 'kurtosis',\n",
              " 'kurtosistest',\n",
              " 'laplace',\n",
              " 'levene',\n",
              " 'levy',\n",
              " 'levy_l',\n",
              " 'levy_stable',\n",
              " 'linregress',\n",
              " 'loggamma',\n",
              " 'logistic',\n",
              " 'loglaplace',\n",
              " 'lognorm',\n",
              " 'logser',\n",
              " 'lomax',\n",
              " 'mannwhitneyu',\n",
              " 'matrix_normal',\n",
              " 'maxwell',\n",
              " 'median_test',\n",
              " 'mielke',\n",
              " 'mode',\n",
              " 'moment',\n",
              " 'mood',\n",
              " 'morestats',\n",
              " 'moyal',\n",
              " 'mstats',\n",
              " 'mstats_basic',\n",
              " 'mstats_extras',\n",
              " 'multinomial',\n",
              " 'multivariate_normal',\n",
              " 'mvn',\n",
              " 'mvsdist',\n",
              " 'nakagami',\n",
              " 'nbinom',\n",
              " 'ncf',\n",
              " 'nct',\n",
              " 'ncx2',\n",
              " 'norm',\n",
              " 'normaltest',\n",
              " 'norminvgauss',\n",
              " 'obrientransform',\n",
              " 'ortho_group',\n",
              " 'pareto',\n",
              " 'pearson3',\n",
              " 'pearsonr',\n",
              " 'percentileofscore',\n",
              " 'planck',\n",
              " 'pointbiserialr',\n",
              " 'poisson',\n",
              " 'power_divergence',\n",
              " 'powerlaw',\n",
              " 'powerlognorm',\n",
              " 'powernorm',\n",
              " 'ppcc_max',\n",
              " 'ppcc_plot',\n",
              " 'print_function',\n",
              " 'probplot',\n",
              " 'randint',\n",
              " 'random_correlation',\n",
              " 'rankdata',\n",
              " 'ranksums',\n",
              " 'rayleigh',\n",
              " 'rdist',\n",
              " 'recipinvgauss',\n",
              " 'reciprocal',\n",
              " 'relfreq',\n",
              " 'rice',\n",
              " 'rv_continuous',\n",
              " 'rv_discrete',\n",
              " 'rv_histogram',\n",
              " 'scoreatpercentile',\n",
              " 'sem',\n",
              " 'semicircular',\n",
              " 'shapiro',\n",
              " 'sigmaclip',\n",
              " 'skellam',\n",
              " 'skew',\n",
              " 'skewnorm',\n",
              " 'skewtest',\n",
              " 'spearmanr',\n",
              " 'special_ortho_group',\n",
              " 'statlib',\n",
              " 'stats',\n",
              " 't',\n",
              " 'test',\n",
              " 'theilslopes',\n",
              " 'tiecorrect',\n",
              " 'tmax',\n",
              " 'tmean',\n",
              " 'tmin',\n",
              " 'trapz',\n",
              " 'triang',\n",
              " 'trim1',\n",
              " 'trim_mean',\n",
              " 'trimboth',\n",
              " 'truncexpon',\n",
              " 'truncnorm',\n",
              " 'tsem',\n",
              " 'tstd',\n",
              " 'ttest_1samp',\n",
              " 'ttest_ind',\n",
              " 'ttest_ind_from_stats',\n",
              " 'ttest_rel',\n",
              " 'tukeylambda',\n",
              " 'tvar',\n",
              " 'uniform',\n",
              " 'unitary_group',\n",
              " 'variation',\n",
              " 'vonmises',\n",
              " 'vonmises_line',\n",
              " 'wald',\n",
              " 'wasserstein_distance',\n",
              " 'weibull_max',\n",
              " 'weibull_min',\n",
              " 'weightedtau',\n",
              " 'wilcoxon',\n",
              " 'wishart',\n",
              " 'wrapcauchy',\n",
              " 'zipf',\n",
              " 'zmap',\n",
              " 'zscore']"
            ]
          },
          "metadata": {
            "tags": []
          },
          "execution_count": 31
        }
      ]
    },
    {
      "metadata": {
        "id": "bxW4SG_gJGlZ",
        "colab_type": "code",
        "outputId": "0fd14433-7ede-41df-8af7-226b38b2914e",
        "colab": {
          "base_uri": "https://localhost:8080/",
          "height": 90
        }
      },
      "cell_type": "code",
      "source": [
        "# As usual, lots of stuff here! There's our friend, the normal distribution\n",
        "norm = stats.norm()\n",
        "print(norm.mean())\n",
        "print(norm.std())\n",
        "print(norm.var())"
      ],
      "execution_count": 0,
      "outputs": [
        {
          "output_type": "stream",
          "text": [
            "0.0\n",
            "1.0\n",
            "1.0\n"
          ],
          "name": "stdout"
        }
      ]
    },
    {
      "metadata": {
        "id": "RyNKPt_tJk86",
        "colab_type": "code",
        "outputId": "a37f1fa4-48c7-4a5d-c0dc-31c64235f211",
        "colab": {
          "base_uri": "https://localhost:8080/",
          "height": 90
        }
      },
      "cell_type": "code",
      "source": [
        "# And a new friend - t\n",
        "t1 = stats.t(5)  # 5 is df \"shape\" parameter\n",
        "print(t1.mean())\n",
        "print(t1.std())\n",
        "print(t1.var())"
      ],
      "execution_count": 0,
      "outputs": [
        {
          "output_type": "stream",
          "text": [
            "0.0\n",
            "1.2909944487358056\n",
            "1.6666666666666667\n"
          ],
          "name": "stdout"
        }
      ]
    },
    {
      "metadata": {
        "id": "SRn1zMuaKgxX",
        "colab_type": "text"
      },
      "cell_type": "markdown",
      "source": [
        "![T distribution PDF with different shape parameters](https://upload.wikimedia.org/wikipedia/commons/4/41/Student_t_pdf.svg)\n",
        "\n",
        "*(Picture from [Wikipedia](https://en.wikipedia.org/wiki/Student's_t-distribution#/media/File:Student_t_pdf.svg))*\n",
        "\n",
        "The t-distribution is \"normal-ish\" - the larger the parameter (which reflects its degrees of freedom - more input data/features will increase it), the closer to true normal."
      ]
    },
    {
      "metadata": {
        "id": "seQv5unnJvpM",
        "colab_type": "code",
        "outputId": "4f85f8ff-8866-4e8b-941d-3ec514a241b2",
        "colab": {
          "base_uri": "https://localhost:8080/",
          "height": 90
        }
      },
      "cell_type": "code",
      "source": [
        "t2 = stats.t(30)  # Will be closer to normal\n",
        "print(t2.mean())\n",
        "print(t2.std())\n",
        "print(t2.var())"
      ],
      "execution_count": 0,
      "outputs": [
        {
          "output_type": "stream",
          "text": [
            "0.0\n",
            "1.0350983390135313\n",
            "1.0714285714285714\n"
          ],
          "name": "stdout"
        }
      ]
    },
    {
      "metadata": {
        "id": "FOvEGMysLaE2",
        "colab_type": "text"
      },
      "cell_type": "markdown",
      "source": [
        "Why is it different from normal? To better reflect the tendencies of small data and situations with unknown population standard deviation. In other words, the normal distribution is still the nice pure ideal in the limit (thanks to the central limit theorem), but the t-distribution is much more useful in many real-world situations.\n",
        "\n",
        "History sidenote - this is \"Student\":\n",
        "\n",
        "![William Sealy Gosset](https://upload.wikimedia.org/wikipedia/commons/4/42/William_Sealy_Gosset.jpg)\n",
        "\n",
        "*(Picture from [Wikipedia](https://en.wikipedia.org/wiki/File:William_Sealy_Gosset.jpg))*\n",
        "\n",
        "His real name is William Sealy Gosset, and he published under the pen name \"Student\" because he was not an academic. He was a brewer, working at Guinness and using trial and error to determine the best ways to yield barley. He's also proof that, even 100 years ago, you don't need official credentials to do real data science!"
      ]
    },
    {
      "metadata": {
        "id": "1yx_QilAEC6o",
        "colab_type": "text"
      },
      "cell_type": "markdown",
      "source": [
        "## Live Lecture - let's perform and interpret a t-test\n",
        "\n",
        "We'll generate our own data, so we can know and alter the \"ground truth\" that the t-test should find. We will learn about p-values and how to interpret \"statistical significance\" based on the output of a hypothesis test."
      ]
    },
    {
      "metadata": {
        "id": "BuysRPs-Ed0v",
        "colab_type": "code",
        "outputId": "7d403687-034d-4022-9e79-3bac18384aca",
        "colab": {
          "base_uri": "https://localhost:8080/",
          "height": 307
        }
      },
      "cell_type": "code",
      "source": [
        "survey_data = [0, 1, 0, 1, 0, 0, 0, 1, 1, 0, 0, 1, 1, 1, 1, 1, 1, 1, 0, 0,\n",
        " 1, 1, 1, 1, 1, 1, 1, 1, 1, 0, 1, 1, 1, 1, 1, 1, 1, 0, 1, 0, 1,\n",
        " 1, 0, 1, 0, 1, 1, 0, 0, 0]\n",
        "\n",
        "import numpy as np\n",
        "import pandas as pd\n",
        "\n",
        "df = pd.DataFrame(survey_data)\n",
        "\n",
        "df.describe()"
      ],
      "execution_count": 0,
      "outputs": [
        {
          "output_type": "execute_result",
          "data": {
            "text/html": [
              "<div>\n",
              "<style scoped>\n",
              "    .dataframe tbody tr th:only-of-type {\n",
              "        vertical-align: middle;\n",
              "    }\n",
              "\n",
              "    .dataframe tbody tr th {\n",
              "        vertical-align: top;\n",
              "    }\n",
              "\n",
              "    .dataframe thead th {\n",
              "        text-align: right;\n",
              "    }\n",
              "</style>\n",
              "<table border=\"1\" class=\"dataframe\">\n",
              "  <thead>\n",
              "    <tr style=\"text-align: right;\">\n",
              "      <th></th>\n",
              "      <th>0</th>\n",
              "    </tr>\n",
              "  </thead>\n",
              "  <tbody>\n",
              "    <tr>\n",
              "      <th>count</th>\n",
              "      <td>50.000000</td>\n",
              "    </tr>\n",
              "    <tr>\n",
              "      <th>mean</th>\n",
              "      <td>0.660000</td>\n",
              "    </tr>\n",
              "    <tr>\n",
              "      <th>std</th>\n",
              "      <td>0.478518</td>\n",
              "    </tr>\n",
              "    <tr>\n",
              "      <th>min</th>\n",
              "      <td>0.000000</td>\n",
              "    </tr>\n",
              "    <tr>\n",
              "      <th>25%</th>\n",
              "      <td>0.000000</td>\n",
              "    </tr>\n",
              "    <tr>\n",
              "      <th>50%</th>\n",
              "      <td>1.000000</td>\n",
              "    </tr>\n",
              "    <tr>\n",
              "      <th>75%</th>\n",
              "      <td>1.000000</td>\n",
              "    </tr>\n",
              "    <tr>\n",
              "      <th>max</th>\n",
              "      <td>1.000000</td>\n",
              "    </tr>\n",
              "  </tbody>\n",
              "</table>\n",
              "</div>"
            ],
            "text/plain": [
              "               0\n",
              "count  50.000000\n",
              "mean    0.660000\n",
              "std     0.478518\n",
              "min     0.000000\n",
              "25%     0.000000\n",
              "50%     1.000000\n",
              "75%     1.000000\n",
              "max     1.000000"
            ]
          },
          "metadata": {
            "tags": []
          },
          "execution_count": 35
        }
      ]
    },
    {
      "metadata": {
        "id": "TQoLCl1fNrhV",
        "colab_type": "code",
        "outputId": "bacea538-0d5f-42c7-f7d5-439799e567a4",
        "colab": {
          "base_uri": "https://localhost:8080/",
          "height": 384
        }
      },
      "cell_type": "code",
      "source": [
        "df.plot.hist()"
      ],
      "execution_count": 0,
      "outputs": [
        {
          "output_type": "execute_result",
          "data": {
            "text/plain": [
              "<matplotlib.axes._subplots.AxesSubplot at 0x7fd0da89ba90>"
            ]
          },
          "metadata": {
            "tags": []
          },
          "execution_count": 36
        },
        {
          "output_type": "display_data",
          "data": {
            "image/png": "[encoded data removed]",
            "text/plain": [
              "<matplotlib.figure.Figure at 0x7fd0da862710>"
            ]
          },
          "metadata": {
            "tags": []
          }
        }
      ]
    },
    {
      "metadata": {
        "id": "7Kj16x_oNK93",
        "colab_type": "code",
        "outputId": "644c733a-7048-4804-c7ee-01586f652d4f",
        "colab": {
          "base_uri": "https://localhost:8080/",
          "height": 54
        }
      },
      "cell_type": "code",
      "source": [
        "import scipy\n",
        "scipy.stats.ttest_1samp(survey_data, 0.5)"
      ],
      "execution_count": 0,
      "outputs": [
        {
          "output_type": "execute_result",
          "data": {
            "text/plain": [
              "Ttest_1sampResult(statistic=2.364321853156195, pvalue=0.02207003200903075)"
            ]
          },
          "metadata": {
            "tags": []
          },
          "execution_count": 37
        }
      ]
    },
    {
      "metadata": {
        "id": "dt04n5fOQY1R",
        "colab_type": "code",
        "outputId": "81de5c8b-1356-4a44-c8b7-9fc857df1629",
        "colab": {
          "base_uri": "https://localhost:8080/",
          "height": 54
        }
      },
      "cell_type": "code",
      "source": [
        "df[0].mean()"
      ],
      "execution_count": 0,
      "outputs": [
        {
          "output_type": "execute_result",
          "data": {
            "text/plain": [
              "0.66"
            ]
          },
          "metadata": {
            "tags": []
          },
          "execution_count": 38
        }
      ]
    },
    {
      "metadata": {
        "id": "oHsbD6lSOzRD",
        "colab_type": "code",
        "outputId": "131bbf57-3a7c-40bf-aaed-e52a01b170de",
        "colab": {
          "base_uri": "https://localhost:8080/",
          "height": 72
        }
      },
      "cell_type": "code",
      "source": [
        "# manual calc of t stat\n",
        "(df[0].mean() - 0.5) / df.std() * 50**(0.5)"
      ],
      "execution_count": 0,
      "outputs": [
        {
          "output_type": "execute_result",
          "data": {
            "text/plain": [
              "0    2.364322\n",
              "dtype: float64"
            ]
          },
          "metadata": {
            "tags": []
          },
          "execution_count": 39
        }
      ]
    },
    {
      "metadata": {
        "id": "3Cd023VIRdv7",
        "colab_type": "code",
        "outputId": "c6188033-8694-417c-becf-e673a5376c5c",
        "colab": {
          "base_uri": "https://localhost:8080/",
          "height": 307
        }
      },
      "cell_type": "code",
      "source": [
        "# science! reproducibility\n",
        "import random\n",
        "\n",
        "def make_soda_data(n=50):\n",
        "  return pd.DataFrame([random.randint(0,1) for _ in range(n)])\n",
        "\n",
        "make_soda_data().describe()"
      ],
      "execution_count": 0,
      "outputs": [
        {
          "output_type": "execute_result",
          "data": {
            "text/html": [
              "<div>\n",
              "<style scoped>\n",
              "    .dataframe tbody tr th:only-of-type {\n",
              "        vertical-align: middle;\n",
              "    }\n",
              "\n",
              "    .dataframe tbody tr th {\n",
              "        vertical-align: top;\n",
              "    }\n",
              "\n",
              "    .dataframe thead th {\n",
              "        text-align: right;\n",
              "    }\n",
              "</style>\n",
              "<table border=\"1\" class=\"dataframe\">\n",
              "  <thead>\n",
              "    <tr style=\"text-align: right;\">\n",
              "      <th></th>\n",
              "      <th>0</th>\n",
              "    </tr>\n",
              "  </thead>\n",
              "  <tbody>\n",
              "    <tr>\n",
              "      <th>count</th>\n",
              "      <td>50.000000</td>\n",
              "    </tr>\n",
              "    <tr>\n",
              "      <th>mean</th>\n",
              "      <td>0.620000</td>\n",
              "    </tr>\n",
              "    <tr>\n",
              "      <th>std</th>\n",
              "      <td>0.490314</td>\n",
              "    </tr>\n",
              "    <tr>\n",
              "      <th>min</th>\n",
              "      <td>0.000000</td>\n",
              "    </tr>\n",
              "    <tr>\n",
              "      <th>25%</th>\n",
              "      <td>0.000000</td>\n",
              "    </tr>\n",
              "    <tr>\n",
              "      <th>50%</th>\n",
              "      <td>1.000000</td>\n",
              "    </tr>\n",
              "    <tr>\n",
              "      <th>75%</th>\n",
              "      <td>1.000000</td>\n",
              "    </tr>\n",
              "    <tr>\n",
              "      <th>max</th>\n",
              "      <td>1.000000</td>\n",
              "    </tr>\n",
              "  </tbody>\n",
              "</table>\n",
              "</div>"
            ],
            "text/plain": [
              "               0\n",
              "count  50.000000\n",
              "mean    0.620000\n",
              "std     0.490314\n",
              "min     0.000000\n",
              "25%     0.000000\n",
              "50%     1.000000\n",
              "75%     1.000000\n",
              "max     1.000000"
            ]
          },
          "metadata": {
            "tags": []
          },
          "execution_count": 40
        }
      ]
    },
    {
      "metadata": {
        "id": "B_tizyOYVDo6",
        "colab_type": "code",
        "outputId": "095f2f91-2712-496a-8325-3c20febd5c38",
        "colab": {
          "base_uri": "https://localhost:8080/",
          "height": 307
        }
      },
      "cell_type": "code",
      "source": [
        "t_statistics = []\n",
        "n_experiments = 10000\n",
        "\n",
        "for _ in range(n_experiments):\n",
        "  t_statistics.append(scipy.stats.ttest_1samp(make_soda_data(), 0.5).statistic[0])\n",
        "  \n",
        "stats = pd.DataFrame(t_statistics)\n",
        "stats.describe()"
      ],
      "execution_count": 0,
      "outputs": [
        {
          "output_type": "execute_result",
          "data": {
            "text/html": [
              "<div>\n",
              "<style scoped>\n",
              "    .dataframe tbody tr th:only-of-type {\n",
              "        vertical-align: middle;\n",
              "    }\n",
              "\n",
              "    .dataframe tbody tr th {\n",
              "        vertical-align: top;\n",
              "    }\n",
              "\n",
              "    .dataframe thead th {\n",
              "        text-align: right;\n",
              "    }\n",
              "</style>\n",
              "<table border=\"1\" class=\"dataframe\">\n",
              "  <thead>\n",
              "    <tr style=\"text-align: right;\">\n",
              "      <th></th>\n",
              "      <th>0</th>\n",
              "    </tr>\n",
              "  </thead>\n",
              "  <tbody>\n",
              "    <tr>\n",
              "      <th>count</th>\n",
              "      <td>10000.000000</td>\n",
              "    </tr>\n",
              "    <tr>\n",
              "      <th>mean</th>\n",
              "      <td>-0.009832</td>\n",
              "    </tr>\n",
              "    <tr>\n",
              "      <th>std</th>\n",
              "      <td>1.014668</td>\n",
              "    </tr>\n",
              "    <tr>\n",
              "      <th>min</th>\n",
              "      <td>-5.250000</td>\n",
              "    </tr>\n",
              "    <tr>\n",
              "      <th>25%</th>\n",
              "      <td>-0.561801</td>\n",
              "    </tr>\n",
              "    <tr>\n",
              "      <th>50%</th>\n",
              "      <td>0.000000</td>\n",
              "    </tr>\n",
              "    <tr>\n",
              "      <th>75%</th>\n",
              "      <td>0.561801</td>\n",
              "    </tr>\n",
              "    <tr>\n",
              "      <th>max</th>\n",
              "      <td>4.261465</td>\n",
              "    </tr>\n",
              "  </tbody>\n",
              "</table>\n",
              "</div>"
            ],
            "text/plain": [
              "                  0\n",
              "count  10000.000000\n",
              "mean      -0.009832\n",
              "std        1.014668\n",
              "min       -5.250000\n",
              "25%       -0.561801\n",
              "50%        0.000000\n",
              "75%        0.561801\n",
              "max        4.261465"
            ]
          },
          "metadata": {
            "tags": []
          },
          "execution_count": 41
        }
      ]
    },
    {
      "metadata": {
        "id": "P-H6tPrEVyPk",
        "colab_type": "code",
        "outputId": "0ef5a2dd-cb3f-43de-f28a-76c4bd2b0758",
        "colab": {
          "base_uri": "https://localhost:8080/",
          "height": 381
        }
      },
      "cell_type": "code",
      "source": [
        "import matplotlib.pyplot as plt\n",
        "\n",
        "def plot_t_stat_density(t_statistics):\n",
        "  density = scipy.stats.gaussian_kde(t_statistics)\n",
        "  n, x, _ = plt.hist(t_statistics, bins=np.linspace(-5, 5, 50), \n",
        "                     histtype=u'step', normed=True)  \n",
        "  plt.plot(x, density(x))\n",
        "  plt.xlabel('t-statisic value')\n",
        "  plt.ylabel('Frequency')\n",
        "  plt.show()\n",
        "  \n",
        "plot_t_stat_density(t_statistics)"
      ],
      "execution_count": 0,
      "outputs": [
        {
          "output_type": "display_data",
          "data": {
            "image/png": "[encoded data removed]",
            "text/plain": [
              "<matplotlib.figure.Figure at 0x7fd0d8567e48>"
            ]
          },
          "metadata": {
            "tags": []
          }
        }
      ]
    },
    {
      "metadata": {
        "id": "SjW8Ke2zXI4I",
        "colab_type": "code",
        "outputId": "1a4cbea7-52b2-478f-e996-0af9194cde40",
        "colab": {
          "base_uri": "https://localhost:8080/",
          "height": 307
        }
      },
      "cell_type": "code",
      "source": [
        "# unfair coin\n",
        "t_statistics_bias = []\n",
        "n_experiments = 10000\n",
        "\n",
        "def make_soda_data_bias(n=50):\n",
        "  return pd.DataFrame([np.random.binomial(n=1, p=0.6) for _ in range(n)])\n",
        "\n",
        "for _ in range(n_experiments):\n",
        "  t_statistics_bias.append(scipy.stats.ttest_1samp(make_soda_data_bias(), 0.5).statistic[0])\n",
        "  \n",
        "stats = pd.DataFrame(t_statistics_bias)\n",
        "stats.describe()\n"
      ],
      "execution_count": 0,
      "outputs": [
        {
          "output_type": "execute_result",
          "data": {
            "text/html": [
              "<div>\n",
              "<style scoped>\n",
              "    .dataframe tbody tr th:only-of-type {\n",
              "        vertical-align: middle;\n",
              "    }\n",
              "\n",
              "    .dataframe tbody tr th {\n",
              "        vertical-align: top;\n",
              "    }\n",
              "\n",
              "    .dataframe thead th {\n",
              "        text-align: right;\n",
              "    }\n",
              "</style>\n",
              "<table border=\"1\" class=\"dataframe\">\n",
              "  <thead>\n",
              "    <tr style=\"text-align: right;\">\n",
              "      <th></th>\n",
              "      <th>0</th>\n",
              "    </tr>\n",
              "  </thead>\n",
              "  <tbody>\n",
              "    <tr>\n",
              "      <th>count</th>\n",
              "      <td>10000.000000</td>\n",
              "    </tr>\n",
              "    <tr>\n",
              "      <th>mean</th>\n",
              "      <td>1.465665</td>\n",
              "    </tr>\n",
              "    <tr>\n",
              "      <th>std</th>\n",
              "      <td>1.071861</td>\n",
              "    </tr>\n",
              "    <tr>\n",
              "      <th>min</th>\n",
              "      <td>-2.041667</td>\n",
              "    </tr>\n",
              "    <tr>\n",
              "      <th>25%</th>\n",
              "      <td>0.846114</td>\n",
              "    </tr>\n",
              "    <tr>\n",
              "      <th>50%</th>\n",
              "      <td>1.428869</td>\n",
              "    </tr>\n",
              "    <tr>\n",
              "      <th>75%</th>\n",
              "      <td>2.041667</td>\n",
              "    </tr>\n",
              "    <tr>\n",
              "      <th>max</th>\n",
              "      <td>6.491982</td>\n",
              "    </tr>\n",
              "  </tbody>\n",
              "</table>\n",
              "</div>"
            ],
            "text/plain": [
              "                  0\n",
              "count  10000.000000\n",
              "mean       1.465665\n",
              "std        1.071861\n",
              "min       -2.041667\n",
              "25%        0.846114\n",
              "50%        1.428869\n",
              "75%        2.041667\n",
              "max        6.491982"
            ]
          },
          "metadata": {
            "tags": []
          },
          "execution_count": 43
        }
      ]
    },
    {
      "metadata": {
        "id": "vTfTzjO4YO0Q",
        "colab_type": "code",
        "outputId": "2f397345-f042-4490-f75c-ea96be4ea58f",
        "colab": {
          "base_uri": "https://localhost:8080/",
          "height": 381
        }
      },
      "cell_type": "code",
      "source": [
        "plot_t_stat_density(t_statistics_bias)"
      ],
      "execution_count": 0,
      "outputs": [
        {
          "output_type": "display_data",
          "data": {
            "image/png": "[encoded data removed]",
            "text/plain": [
              "<matplotlib.figure.Figure at 0x7fd0d8596748>"
            ]
          },
          "metadata": {
            "tags": []
          }
        }
      ]
    },
    {
      "metadata": {
        "id": "egXb7YpqEcZF",
        "colab_type": "text"
      },
      "cell_type": "markdown",
      "source": [
        "## Assignment - apply the t-test to real data\n",
        "\n",
        "Your assignment is to determine which issues have \"statistically significant\" differences between political parties in this [1980s congressional voting data](https://archive.ics.uci.edu/ml/datasets/Congressional+Voting+Records). The data consists of 435 instances (one for each congressperson), a class (democrat or republican), and 16 binary attributes (yes or no for voting for or against certain issues). Be aware - there are missing values!\n",
        "\n",
        "Your goals:\n",
        "\n",
        "1. Load and clean the data (or determine the best method to drop observations when running tests)\n",
        "2. Using hypothesis testing, find an issue that democrats support more than republicans with p < 0.01\n",
        "3. Using hypothesis testing, find an issue that republicans support more than democrats with p < 0.01\n",
        "4. Using hypothesis testing, find an issue where the difference between republicans and democrats has p > 0.1 (i.e. there may not be much of a difference)\n",
        "\n",
        "Note that this data will involve *2 sample* t-tests, because you're comparing averages across two groups (republicans and democrats) rather than a single group against a null hypothesis.\n",
        "\n",
        "Stretch goals:\n",
        "\n",
        "1. Refactor your code into functions so it's easy to rerun with arbitrary variables\n",
        "2. Apply hypothesis testing to your personal project data (for the purposes of this notebook you can type a summary of the hypothesis you formed and tested)"
      ]
    },
    {
      "metadata": {
        "id": "nstrmCG-Ecyk",
        "colab_type": "code",
        "outputId": "f0b0308b-13ae-489c-a9ca-54c775ef9c7f",
        "colab": {
          "base_uri": "https://localhost:8080/",
          "height": 267
        }
      },
      "cell_type": "code",
      "source": [
        "# load data and imports\n",
        "import pandas as pd\n",
        "import numpy as np\n",
        "import matplotlib.pyplot as plt\n",
        "import scipy\n",
        "\n",
        "data_url = 'https://archive.ics.uci.edu/ml/machine-learning-databases/voting-records/house-votes-84.data'\n",
        "names_poli = ['party',\n",
        "         'handicapped-infants',\n",
        "         'water-project-cost-sharing',\n",
        "         'adoption-of-the-budget-resolution',\n",
        "         'physician-fee-freeze',\n",
        "         'el-salvador-aid',\n",
        "         'religious-groups-in-schools',\n",
        "         'anti-satellite-test-ban',\n",
        "         'aid-to-nicaraguan-contras',\n",
        "         'mx-missile',\n",
        "         'immigration',\n",
        "         'synfuels-corporation-cutback',\n",
        "         'education-spending',\n",
        "         'superfund-right-to-sue',\n",
        "         'crime',\n",
        "         'duty-free-exports',\n",
        "         'export-administration-act-south-africa']\n",
        "\n",
        "df_poli_raw = pd.read_csv(data_url, header=None, names=names_poli)\n",
        "df_poli_raw.head()"
      ],
      "execution_count": 0,
      "outputs": [
        {
          "output_type": "execute_result",
          "data": {
            "text/html": [
              "<div>\n",
              "<style scoped>\n",
              "    .dataframe tbody tr th:only-of-type {\n",
              "        vertical-align: middle;\n",
              "    }\n",
              "\n",
              "    .dataframe tbody tr th {\n",
              "        vertical-align: top;\n",
              "    }\n",
              "\n",
              "    .dataframe thead th {\n",
              "        text-align: right;\n",
              "    }\n",
              "</style>\n",
              "<table border=\"1\" class=\"dataframe\">\n",
              "  <thead>\n",
              "    <tr style=\"text-align: right;\">\n",
              "      <th></th>\n",
              "      <th>party</th>\n",
              "      <th>handicapped-infants</th>\n",
              "      <th>water-project-cost-sharing</th>\n",
              "      <th>adoption-of-the-budget-resolution</th>\n",
              "      <th>physician-fee-freeze</th>\n",
              "      <th>el-salvador-aid</th>\n",
              "      <th>religious-groups-in-schools</th>\n",
              "      <th>anti-satellite-test-ban</th>\n",
              "      <th>aid-to-nicaraguan-contras</th>\n",
              "      <th>mx-missile</th>\n",
              "      <th>immigration</th>\n",
              "      <th>synfuels-corporation-cutback</th>\n",
              "      <th>education-spending</th>\n",
              "      <th>superfund-right-to-sue</th>\n",
              "      <th>crime</th>\n",
              "      <th>duty-free-exports</th>\n",
              "      <th>export-administration-act-south-africa</th>\n",
              "    </tr>\n",
              "  </thead>\n",
              "  <tbody>\n",
              "    <tr>\n",
              "      <th>0</th>\n",
              "      <td>republican</td>\n",
              "      <td>n</td>\n",
              "      <td>y</td>\n",
              "      <td>n</td>\n",
              "      <td>y</td>\n",
              "      <td>y</td>\n",
              "      <td>y</td>\n",
              "      <td>n</td>\n",
              "      <td>n</td>\n",
              "      <td>n</td>\n",
              "      <td>y</td>\n",
              "      <td>?</td>\n",
              "      <td>y</td>\n",
              "      <td>y</td>\n",
              "      <td>y</td>\n",
              "      <td>n</td>\n",
              "      <td>y</td>\n",
              "    </tr>\n",
              "    <tr>\n",
              "      <th>1</th>\n",
              "      <td>republican</td>\n",
              "      <td>n</td>\n",
              "      <td>y</td>\n",
              "      <td>n</td>\n",
              "      <td>y</td>\n",
              "      <td>y</td>\n",
              "      <td>y</td>\n",
              "      <td>n</td>\n",
              "      <td>n</td>\n",
              "      <td>n</td>\n",
              "      <td>n</td>\n",
              "      <td>n</td>\n",
              "      <td>y</td>\n",
              "      <td>y</td>\n",
              "      <td>y</td>\n",
              "      <td>n</td>\n",
              "      <td>?</td>\n",
              "    </tr>\n",
              "    <tr>\n",
              "      <th>2</th>\n",
              "      <td>democrat</td>\n",
              "      <td>?</td>\n",
              "      <td>y</td>\n",
              "      <td>y</td>\n",
              "      <td>?</td>\n",
              "      <td>y</td>\n",
              "      <td>y</td>\n",
              "      <td>n</td>\n",
              "      <td>n</td>\n",
              "      <td>n</td>\n",
              "      <td>n</td>\n",
              "      <td>y</td>\n",
              "      <td>n</td>\n",
              "      <td>y</td>\n",
              "      <td>y</td>\n",
              "      <td>n</td>\n",
              "      <td>n</td>\n",
              "    </tr>\n",
              "    <tr>\n",
              "      <th>3</th>\n",
              "      <td>democrat</td>\n",
              "      <td>n</td>\n",
              "      <td>y</td>\n",
              "      <td>y</td>\n",
              "      <td>n</td>\n",
              "      <td>?</td>\n",
              "      <td>y</td>\n",
              "      <td>n</td>\n",
              "      <td>n</td>\n",
              "      <td>n</td>\n",
              "      <td>n</td>\n",
              "      <td>y</td>\n",
              "      <td>n</td>\n",
              "      <td>y</td>\n",
              "      <td>n</td>\n",
              "      <td>n</td>\n",
              "      <td>y</td>\n",
              "    </tr>\n",
              "    <tr>\n",
              "      <th>4</th>\n",
              "      <td>democrat</td>\n",
              "      <td>y</td>\n",
              "      <td>y</td>\n",
              "      <td>y</td>\n",
              "      <td>n</td>\n",
              "      <td>y</td>\n",
              "      <td>y</td>\n",
              "      <td>n</td>\n",
              "      <td>n</td>\n",
              "      <td>n</td>\n",
              "      <td>n</td>\n",
              "      <td>y</td>\n",
              "      <td>?</td>\n",
              "      <td>y</td>\n",
              "      <td>y</td>\n",
              "      <td>y</td>\n",
              "      <td>y</td>\n",
              "    </tr>\n",
              "  </tbody>\n",
              "</table>\n",
              "</div>"
            ],
            "text/plain": [
              "        party handicapped-infants water-project-cost-sharing  \\\n",
              "0  republican                   n                          y   \n",
              "1  republican                   n                          y   \n",
              "2    democrat                   ?                          y   \n",
              "3    democrat                   n                          y   \n",
              "4    democrat                   y                          y   \n",
              "\n",
              "  adoption-of-the-budget-resolution physician-fee-freeze el-salvador-aid  \\\n",
              "0                                 n                    y               y   \n",
              "1                                 n                    y               y   \n",
              "2                                 y                    ?               y   \n",
              "3                                 y                    n               ?   \n",
              "4                                 y                    n               y   \n",
              "\n",
              "  religious-groups-in-schools anti-satellite-test-ban  \\\n",
              "0                           y                       n   \n",
              "1                           y                       n   \n",
              "2                           y                       n   \n",
              "3                           y                       n   \n",
              "4                           y                       n   \n",
              "\n",
              "  aid-to-nicaraguan-contras mx-missile immigration  \\\n",
              "0                         n          n           y   \n",
              "1                         n          n           n   \n",
              "2                         n          n           n   \n",
              "3                         n          n           n   \n",
              "4                         n          n           n   \n",
              "\n",
              "  synfuels-corporation-cutback education-spending superfund-right-to-sue  \\\n",
              "0                            ?                  y                      y   \n",
              "1                            n                  y                      y   \n",
              "2                            y                  n                      y   \n",
              "3                            y                  n                      y   \n",
              "4                            y                  ?                      y   \n",
              "\n",
              "  crime duty-free-exports export-administration-act-south-africa  \n",
              "0     y                 n                                      y  \n",
              "1     y                 n                                      ?  \n",
              "2     y                 n                                      n  \n",
              "3     n                 n                                      y  \n",
              "4     y                 y                                      y  "
            ]
          },
          "metadata": {
            "tags": []
          },
          "execution_count": 45
        }
      ]
    },
    {
      "metadata": {
        "id": "8Dl_y8udzmS2",
        "colab_type": "code",
        "outputId": "849df710-9b8f-4894-f675-3b007df25893",
        "colab": {
          "base_uri": "https://localhost:8080/",
          "height": 336
        }
      },
      "cell_type": "code",
      "source": [
        "# examining null values\n",
        "\n",
        "# first, map all question marks to np.nan\n",
        "df_poli_raw.replace('?', np.nan, inplace=True)\n",
        "\n",
        "# count nulls\n",
        "df_poli_raw.isnull().sum()"
      ],
      "execution_count": 0,
      "outputs": [
        {
          "output_type": "execute_result",
          "data": {
            "text/plain": [
              "party                                       0\n",
              "handicapped-infants                        12\n",
              "water-project-cost-sharing                 48\n",
              "adoption-of-the-budget-resolution          11\n",
              "physician-fee-freeze                       11\n",
              "el-salvador-aid                            15\n",
              "religious-groups-in-schools                11\n",
              "anti-satellite-test-ban                    14\n",
              "aid-to-nicaraguan-contras                  15\n",
              "mx-missile                                 22\n",
              "immigration                                 7\n",
              "synfuels-corporation-cutback               21\n",
              "education-spending                         31\n",
              "superfund-right-to-sue                     25\n",
              "crime                                      17\n",
              "duty-free-exports                          28\n",
              "export-administration-act-south-africa    104\n",
              "dtype: int64"
            ]
          },
          "metadata": {
            "tags": []
          },
          "execution_count": 46
        }
      ]
    },
    {
      "metadata": {
        "id": "Jxvym2mb5Dcv",
        "colab_type": "code",
        "outputId": "dd5215ab-1672-4014-f5e5-929ff98c4118",
        "colab": {
          "base_uri": "https://localhost:8080/",
          "height": 267
        }
      },
      "cell_type": "code",
      "source": [
        "df_poli_raw.head()"
      ],
      "execution_count": 0,
      "outputs": [
        {
          "output_type": "execute_result",
          "data": {
            "text/html": [
              "<div>\n",
              "<style scoped>\n",
              "    .dataframe tbody tr th:only-of-type {\n",
              "        vertical-align: middle;\n",
              "    }\n",
              "\n",
              "    .dataframe tbody tr th {\n",
              "        vertical-align: top;\n",
              "    }\n",
              "\n",
              "    .dataframe thead th {\n",
              "        text-align: right;\n",
              "    }\n",
              "</style>\n",
              "<table border=\"1\" class=\"dataframe\">\n",
              "  <thead>\n",
              "    <tr style=\"text-align: right;\">\n",
              "      <th></th>\n",
              "      <th>party</th>\n",
              "      <th>handicapped-infants</th>\n",
              "      <th>water-project-cost-sharing</th>\n",
              "      <th>adoption-of-the-budget-resolution</th>\n",
              "      <th>physician-fee-freeze</th>\n",
              "      <th>el-salvador-aid</th>\n",
              "      <th>religious-groups-in-schools</th>\n",
              "      <th>anti-satellite-test-ban</th>\n",
              "      <th>aid-to-nicaraguan-contras</th>\n",
              "      <th>mx-missile</th>\n",
              "      <th>immigration</th>\n",
              "      <th>synfuels-corporation-cutback</th>\n",
              "      <th>education-spending</th>\n",
              "      <th>superfund-right-to-sue</th>\n",
              "      <th>crime</th>\n",
              "      <th>duty-free-exports</th>\n",
              "      <th>export-administration-act-south-africa</th>\n",
              "    </tr>\n",
              "  </thead>\n",
              "  <tbody>\n",
              "    <tr>\n",
              "      <th>0</th>\n",
              "      <td>republican</td>\n",
              "      <td>n</td>\n",
              "      <td>y</td>\n",
              "      <td>n</td>\n",
              "      <td>y</td>\n",
              "      <td>y</td>\n",
              "      <td>y</td>\n",
              "      <td>n</td>\n",
              "      <td>n</td>\n",
              "      <td>n</td>\n",
              "      <td>y</td>\n",
              "      <td>NaN</td>\n",
              "      <td>y</td>\n",
              "      <td>y</td>\n",
              "      <td>y</td>\n",
              "      <td>n</td>\n",
              "      <td>y</td>\n",
              "    </tr>\n",
              "    <tr>\n",
              "      <th>1</th>\n",
              "      <td>republican</td>\n",
              "      <td>n</td>\n",
              "      <td>y</td>\n",
              "      <td>n</td>\n",
              "      <td>y</td>\n",
              "      <td>y</td>\n",
              "      <td>y</td>\n",
              "      <td>n</td>\n",
              "      <td>n</td>\n",
              "      <td>n</td>\n",
              "      <td>n</td>\n",
              "      <td>n</td>\n",
              "      <td>y</td>\n",
              "      <td>y</td>\n",
              "      <td>y</td>\n",
              "      <td>n</td>\n",
              "      <td>NaN</td>\n",
              "    </tr>\n",
              "    <tr>\n",
              "      <th>2</th>\n",
              "      <td>democrat</td>\n",
              "      <td>NaN</td>\n",
              "      <td>y</td>\n",
              "      <td>y</td>\n",
              "      <td>NaN</td>\n",
              "      <td>y</td>\n",
              "      <td>y</td>\n",
              "      <td>n</td>\n",
              "      <td>n</td>\n",
              "      <td>n</td>\n",
              "      <td>n</td>\n",
              "      <td>y</td>\n",
              "      <td>n</td>\n",
              "      <td>y</td>\n",
              "      <td>y</td>\n",
              "      <td>n</td>\n",
              "      <td>n</td>\n",
              "    </tr>\n",
              "    <tr>\n",
              "      <th>3</th>\n",
              "      <td>democrat</td>\n",
              "      <td>n</td>\n",
              "      <td>y</td>\n",
              "      <td>y</td>\n",
              "      <td>n</td>\n",
              "      <td>NaN</td>\n",
              "      <td>y</td>\n",
              "      <td>n</td>\n",
              "      <td>n</td>\n",
              "      <td>n</td>\n",
              "      <td>n</td>\n",
              "      <td>y</td>\n",
              "      <td>n</td>\n",
              "      <td>y</td>\n",
              "      <td>n</td>\n",
              "      <td>n</td>\n",
              "      <td>y</td>\n",
              "    </tr>\n",
              "    <tr>\n",
              "      <th>4</th>\n",
              "      <td>democrat</td>\n",
              "      <td>y</td>\n",
              "      <td>y</td>\n",
              "      <td>y</td>\n",
              "      <td>n</td>\n",
              "      <td>y</td>\n",
              "      <td>y</td>\n",
              "      <td>n</td>\n",
              "      <td>n</td>\n",
              "      <td>n</td>\n",
              "      <td>n</td>\n",
              "      <td>y</td>\n",
              "      <td>NaN</td>\n",
              "      <td>y</td>\n",
              "      <td>y</td>\n",
              "      <td>y</td>\n",
              "      <td>y</td>\n",
              "    </tr>\n",
              "  </tbody>\n",
              "</table>\n",
              "</div>"
            ],
            "text/plain": [
              "        party handicapped-infants water-project-cost-sharing  \\\n",
              "0  republican                   n                          y   \n",
              "1  republican                   n                          y   \n",
              "2    democrat                 NaN                          y   \n",
              "3    democrat                   n                          y   \n",
              "4    democrat                   y                          y   \n",
              "\n",
              "  adoption-of-the-budget-resolution physician-fee-freeze el-salvador-aid  \\\n",
              "0                                 n                    y               y   \n",
              "1                                 n                    y               y   \n",
              "2                                 y                  NaN               y   \n",
              "3                                 y                    n             NaN   \n",
              "4                                 y                    n               y   \n",
              "\n",
              "  religious-groups-in-schools anti-satellite-test-ban  \\\n",
              "0                           y                       n   \n",
              "1                           y                       n   \n",
              "2                           y                       n   \n",
              "3                           y                       n   \n",
              "4                           y                       n   \n",
              "\n",
              "  aid-to-nicaraguan-contras mx-missile immigration  \\\n",
              "0                         n          n           y   \n",
              "1                         n          n           n   \n",
              "2                         n          n           n   \n",
              "3                         n          n           n   \n",
              "4                         n          n           n   \n",
              "\n",
              "  synfuels-corporation-cutback education-spending superfund-right-to-sue  \\\n",
              "0                          NaN                  y                      y   \n",
              "1                            n                  y                      y   \n",
              "2                            y                  n                      y   \n",
              "3                            y                  n                      y   \n",
              "4                            y                NaN                      y   \n",
              "\n",
              "  crime duty-free-exports export-administration-act-south-africa  \n",
              "0     y                 n                                      y  \n",
              "1     y                 n                                    NaN  \n",
              "2     y                 n                                      n  \n",
              "3     n                 n                                      y  \n",
              "4     y                 y                                      y  "
            ]
          },
          "metadata": {
            "tags": []
          },
          "execution_count": 47
        }
      ]
    },
    {
      "metadata": {
        "id": "mcT9VpTk0XZR",
        "colab_type": "text"
      },
      "cell_type": "markdown",
      "source": [
        "For handling Nulls, note the relevant information in the data description:\n",
        "\n",
        "4. Relevant Information:\n",
        "      This data set includes votes for each of the U.S. House of\n",
        "      Representatives Congressmen on the 16 key votes identified by the\n",
        "      CQA.  The CQA lists nine different types of votes: voted for, paired\n",
        "      for, and announced for (these three simplified to yea), voted\n",
        "      against, paired against, and announced against (these three\n",
        "      simplified to nay), voted present, voted present to avoid conflict\n",
        "      of interest, and did not vote or otherwise make a position known\n",
        "      (these three simplified to an unknown disposition).\n",
        "      \n",
        " 8. Missing Attribute Values: Denoted by \"?\"\n",
        "\n",
        "   NOTE: It is important to recognize that \"?\" in this database does \n",
        "         not mean that the value of the attribute is unknown.  It \n",
        "         means simply, that the value is not \"yea\" or \"nay\" (see \n",
        "         \"Relevant Information\" section above).\n",
        "         \n",
        "     Attribute:  #Missing Values:\n",
        "           1:  0\n",
        "           2:  0\n",
        "           3:  12\n",
        "           4:  48\n",
        "           5:  11\n",
        "           6:  11\n",
        "           7:  15\n",
        "           8:  11\n",
        "           9:  14\n",
        "          10:  15\n",
        "          11:  22\n",
        "          12:  7\n",
        "          13:  21\n",
        "          14:  31\n",
        "          15:  25\n",
        "          16:  17\n",
        "          17:  28\n",
        "\n"
      ]
    },
    {
      "metadata": {
        "id": "a8N9MyA50WgB",
        "colab_type": "code",
        "outputId": "512517cb-2910-40a5-e82e-5a8eda2abe03",
        "colab": {
          "base_uri": "https://localhost:8080/",
          "height": 336
        }
      },
      "cell_type": "code",
      "source": [
        "# data cleaning and prepping\n",
        "\n",
        "# note, based on the null count above, it seems like they left off the last\n",
        "# column in the description of the data\n",
        "\n",
        "# map 'y' and 'no' to binary variables, yes=1\n",
        "df_poli = df_poli_raw.copy()\n",
        "df_poli.replace('y', 1, inplace=True)\n",
        "df_poli.replace('n', 0, inplace=True)\n",
        "\n",
        "# convert the columns to boolean - FOR NOW ENCODED AS FLOATS INSTEAD\n",
        "# for i in range (1, len(names)):\n",
        "#   df_poli[names[i]][df_poli[names[i]].notnull()] = df_poli[names[i]][df_poli[names[i]].notnull()].astype(bool)\n",
        "\n",
        "df_poli.dtypes"
      ],
      "execution_count": 0,
      "outputs": [
        {
          "output_type": "execute_result",
          "data": {
            "text/plain": [
              "party                                      object\n",
              "handicapped-infants                       float64\n",
              "water-project-cost-sharing                float64\n",
              "adoption-of-the-budget-resolution         float64\n",
              "physician-fee-freeze                      float64\n",
              "el-salvador-aid                           float64\n",
              "religious-groups-in-schools               float64\n",
              "anti-satellite-test-ban                   float64\n",
              "aid-to-nicaraguan-contras                 float64\n",
              "mx-missile                                float64\n",
              "immigration                               float64\n",
              "synfuels-corporation-cutback              float64\n",
              "education-spending                        float64\n",
              "superfund-right-to-sue                    float64\n",
              "crime                                     float64\n",
              "duty-free-exports                         float64\n",
              "export-administration-act-south-africa    float64\n",
              "dtype: object"
            ]
          },
          "metadata": {
            "tags": []
          },
          "execution_count": 48
        }
      ]
    },
    {
      "metadata": {
        "id": "UfPem1Zl3jYx",
        "colab_type": "code",
        "outputId": "4028c8ec-20df-424e-897f-b733e383192d",
        "colab": {
          "base_uri": "https://localhost:8080/",
          "height": 267
        }
      },
      "cell_type": "code",
      "source": [
        "df_poli.head()"
      ],
      "execution_count": 0,
      "outputs": [
        {
          "output_type": "execute_result",
          "data": {
            "text/html": [
              "<div>\n",
              "<style scoped>\n",
              "    .dataframe tbody tr th:only-of-type {\n",
              "        vertical-align: middle;\n",
              "    }\n",
              "\n",
              "    .dataframe tbody tr th {\n",
              "        vertical-align: top;\n",
              "    }\n",
              "\n",
              "    .dataframe thead th {\n",
              "        text-align: right;\n",
              "    }\n",
              "</style>\n",
              "<table border=\"1\" class=\"dataframe\">\n",
              "  <thead>\n",
              "    <tr style=\"text-align: right;\">\n",
              "      <th></th>\n",
              "      <th>party</th>\n",
              "      <th>handicapped-infants</th>\n",
              "      <th>water-project-cost-sharing</th>\n",
              "      <th>adoption-of-the-budget-resolution</th>\n",
              "      <th>physician-fee-freeze</th>\n",
              "      <th>el-salvador-aid</th>\n",
              "      <th>religious-groups-in-schools</th>\n",
              "      <th>anti-satellite-test-ban</th>\n",
              "      <th>aid-to-nicaraguan-contras</th>\n",
              "      <th>mx-missile</th>\n",
              "      <th>immigration</th>\n",
              "      <th>synfuels-corporation-cutback</th>\n",
              "      <th>education-spending</th>\n",
              "      <th>superfund-right-to-sue</th>\n",
              "      <th>crime</th>\n",
              "      <th>duty-free-exports</th>\n",
              "      <th>export-administration-act-south-africa</th>\n",
              "    </tr>\n",
              "  </thead>\n",
              "  <tbody>\n",
              "    <tr>\n",
              "      <th>0</th>\n",
              "      <td>republican</td>\n",
              "      <td>0.0</td>\n",
              "      <td>1.0</td>\n",
              "      <td>0.0</td>\n",
              "      <td>1.0</td>\n",
              "      <td>1.0</td>\n",
              "      <td>1.0</td>\n",
              "      <td>0.0</td>\n",
              "      <td>0.0</td>\n",
              "      <td>0.0</td>\n",
              "      <td>1.0</td>\n",
              "      <td>NaN</td>\n",
              "      <td>1.0</td>\n",
              "      <td>1.0</td>\n",
              "      <td>1.0</td>\n",
              "      <td>0.0</td>\n",
              "      <td>1.0</td>\n",
              "    </tr>\n",
              "    <tr>\n",
              "      <th>1</th>\n",
              "      <td>republican</td>\n",
              "      <td>0.0</td>\n",
              "      <td>1.0</td>\n",
              "      <td>0.0</td>\n",
              "      <td>1.0</td>\n",
              "      <td>1.0</td>\n",
              "      <td>1.0</td>\n",
              "      <td>0.0</td>\n",
              "      <td>0.0</td>\n",
              "      <td>0.0</td>\n",
              "      <td>0.0</td>\n",
              "      <td>0.0</td>\n",
              "      <td>1.0</td>\n",
              "      <td>1.0</td>\n",
              "      <td>1.0</td>\n",
              "      <td>0.0</td>\n",
              "      <td>NaN</td>\n",
              "    </tr>\n",
              "    <tr>\n",
              "      <th>2</th>\n",
              "      <td>democrat</td>\n",
              "      <td>NaN</td>\n",
              "      <td>1.0</td>\n",
              "      <td>1.0</td>\n",
              "      <td>NaN</td>\n",
              "      <td>1.0</td>\n",
              "      <td>1.0</td>\n",
              "      <td>0.0</td>\n",
              "      <td>0.0</td>\n",
              "      <td>0.0</td>\n",
              "      <td>0.0</td>\n",
              "      <td>1.0</td>\n",
              "      <td>0.0</td>\n",
              "      <td>1.0</td>\n",
              "      <td>1.0</td>\n",
              "      <td>0.0</td>\n",
              "      <td>0.0</td>\n",
              "    </tr>\n",
              "    <tr>\n",
              "      <th>3</th>\n",
              "      <td>democrat</td>\n",
              "      <td>0.0</td>\n",
              "      <td>1.0</td>\n",
              "      <td>1.0</td>\n",
              "      <td>0.0</td>\n",
              "      <td>NaN</td>\n",
              "      <td>1.0</td>\n",
              "      <td>0.0</td>\n",
              "      <td>0.0</td>\n",
              "      <td>0.0</td>\n",
              "      <td>0.0</td>\n",
              "      <td>1.0</td>\n",
              "      <td>0.0</td>\n",
              "      <td>1.0</td>\n",
              "      <td>0.0</td>\n",
              "      <td>0.0</td>\n",
              "      <td>1.0</td>\n",
              "    </tr>\n",
              "    <tr>\n",
              "      <th>4</th>\n",
              "      <td>democrat</td>\n",
              "      <td>1.0</td>\n",
              "      <td>1.0</td>\n",
              "      <td>1.0</td>\n",
              "      <td>0.0</td>\n",
              "      <td>1.0</td>\n",
              "      <td>1.0</td>\n",
              "      <td>0.0</td>\n",
              "      <td>0.0</td>\n",
              "      <td>0.0</td>\n",
              "      <td>0.0</td>\n",
              "      <td>1.0</td>\n",
              "      <td>NaN</td>\n",
              "      <td>1.0</td>\n",
              "      <td>1.0</td>\n",
              "      <td>1.0</td>\n",
              "      <td>1.0</td>\n",
              "    </tr>\n",
              "  </tbody>\n",
              "</table>\n",
              "</div>"
            ],
            "text/plain": [
              "        party  handicapped-infants  water-project-cost-sharing  \\\n",
              "0  republican                  0.0                         1.0   \n",
              "1  republican                  0.0                         1.0   \n",
              "2    democrat                  NaN                         1.0   \n",
              "3    democrat                  0.0                         1.0   \n",
              "4    democrat                  1.0                         1.0   \n",
              "\n",
              "   adoption-of-the-budget-resolution  physician-fee-freeze  el-salvador-aid  \\\n",
              "0                                0.0                   1.0              1.0   \n",
              "1                                0.0                   1.0              1.0   \n",
              "2                                1.0                   NaN              1.0   \n",
              "3                                1.0                   0.0              NaN   \n",
              "4                                1.0                   0.0              1.0   \n",
              "\n",
              "   religious-groups-in-schools  anti-satellite-test-ban  \\\n",
              "0                          1.0                      0.0   \n",
              "1                          1.0                      0.0   \n",
              "2                          1.0                      0.0   \n",
              "3                          1.0                      0.0   \n",
              "4                          1.0                      0.0   \n",
              "\n",
              "   aid-to-nicaraguan-contras  mx-missile  immigration  \\\n",
              "0                        0.0         0.0          1.0   \n",
              "1                        0.0         0.0          0.0   \n",
              "2                        0.0         0.0          0.0   \n",
              "3                        0.0         0.0          0.0   \n",
              "4                        0.0         0.0          0.0   \n",
              "\n",
              "   synfuels-corporation-cutback  education-spending  superfund-right-to-sue  \\\n",
              "0                           NaN                 1.0                     1.0   \n",
              "1                           0.0                 1.0                     1.0   \n",
              "2                           1.0                 0.0                     1.0   \n",
              "3                           1.0                 0.0                     1.0   \n",
              "4                           1.0                 NaN                     1.0   \n",
              "\n",
              "   crime  duty-free-exports  export-administration-act-south-africa  \n",
              "0    1.0                0.0                                     1.0  \n",
              "1    1.0                0.0                                     NaN  \n",
              "2    1.0                0.0                                     0.0  \n",
              "3    0.0                0.0                                     1.0  \n",
              "4    1.0                1.0                                     1.0  "
            ]
          },
          "metadata": {
            "tags": []
          },
          "execution_count": 49
        }
      ]
    },
    {
      "metadata": {
        "id": "N6CNgtYF7Z-F",
        "colab_type": "code",
        "colab": {}
      },
      "cell_type": "code",
      "source": [
        "# t-test function for welch's t-test\n",
        "from __future__ import division\n",
        "from collections import namedtuple\n",
        "\n",
        "import scipy.stats as stats\n",
        "\n",
        "TtestResults = namedtuple(\"Ttest\", \"T p mean low high\")\n",
        "\n",
        "# https://onlinecourses.science.psu.edu/stat414/node/203/\n",
        "\n",
        "def t_welch(x, y, alpha=0.01, tails=2):\n",
        "    \"\"\"Welch's t-test for two unequal-size samples, not assuming equal variances\n",
        "    \"\"\"\n",
        "    assert tails in (1,2), \"invalid: tails must be 1 or 2, found %s\"%str(tails)\n",
        "    \n",
        "    # drop nulls if necessary\n",
        "    if x.isnull().sum().sum() !=0:\n",
        "      x = x.dropna()\n",
        "    if y.isnull().sum().sum() !=0:\n",
        "      y = y.dropna()  \n",
        "    \n",
        "    \n",
        "    x, y = np.asarray(x), np.asarray(y)\n",
        "    nx, ny = x.size, y.size\n",
        "    vx, vy = x.var(), y.var()\n",
        "    \n",
        "    \n",
        "    df = int((vx/nx + vy/ny)**2 / # Welch-Satterthwaite equation\n",
        "        ((vx/nx)**2 / (nx - 1) + (vy/ny)**2 / (ny - 1)))\n",
        "    \n",
        "    mean_diff = x.mean() - y.mean()\n",
        "    t_obs = (mean_diff) / np.sqrt(vx/nx + vy/ny)\n",
        "    p_value = tails * stats.t.sf(abs(t_obs), df)\n",
        "    \n",
        "    \n",
        "    ci_low = mean_diff - stats.t.ppf(1-alpha, df) * np.sqrt(vx/nx + vy/ny)\n",
        "    ci_high = mean_diff + stats.t.ppf(1-alpha, df) * np.sqrt(vx/nx + vy/ny)\n",
        "   \n",
        "    return TtestResults(t_obs, p_value, mean_diff, ci_low, ci_high)"
      ],
      "execution_count": 0,
      "outputs": []
    },
    {
      "metadata": {
        "id": "IRAlymOo4rIB",
        "colab_type": "code",
        "outputId": "23f596b2-bfb6-4c89-a840-3a3ea073f486",
        "colab": {
          "base_uri": "https://localhost:8080/",
          "height": 34
        }
      },
      "cell_type": "code",
      "source": [
        "# time to do some actual testing - starting with handicapped infants as an example\n",
        "# for now, we will ignore null values\n",
        "from scipy import stats\n",
        "\n",
        "# separate dataframes by party for convenience\n",
        "df_rep = df_poli[df_poli['party']=='republican']\n",
        "df_dem = df_poli[df_poli['party']=='democrat']\n",
        "\n",
        "t_stat = t_welch(df_dem['handicapped-infants'], df_rep['handicapped-infants'])\n",
        "t_stat"
      ],
      "execution_count": 0,
      "outputs": [
        {
          "output_type": "execute_result",
          "data": {
            "text/plain": [
              "Ttest(T=9.686430008842628, p=4.506269024723489e-20, mean=0.41677237491190977, low=0.316275297241047, high=0.5172694525827725)"
            ]
          },
          "metadata": {
            "tags": []
          },
          "execution_count": 51
        }
      ]
    },
    {
      "metadata": {
        "id": "k2ocHnTl7K3n",
        "colab_type": "code",
        "outputId": "364c211e-e397-4598-ebc6-1ea20658718b",
        "colab": {
          "base_uri": "https://localhost:8080/",
          "height": 301
        }
      },
      "cell_type": "code",
      "source": [
        "# run welch t test on all variables and report test statistics\n",
        "names = names_poli\n",
        "issue_tests = {}\n",
        "\n",
        "for i in range (1, len(names)):\n",
        "  issue_tests[names[i]] = t_welch(df_rep[names[i]], df_dem[names[i]])\n",
        "  \n",
        "# print name, t test, and p value\n",
        "for issue in issue_tests.keys():\n",
        "  print (issue, 'T-Statistic:', issue_tests[issue].T, 'p-value:', issue_tests[issue].p)\n",
        "  \n",
        "# the format of the test is mean(rep) - mean(dem)\n",
        "# THEREFORE \n",
        "# negative t statistic -> democrats support more than republicans\n",
        "# positive t statistic -> republicans support more than democrats"
      ],
      "execution_count": 0,
      "outputs": [
        {
          "output_type": "stream",
          "text": [
            "handicapped-infants T-Statistic: -9.686430008842628 p-value: 4.506269024723489e-20\n",
            "water-project-cost-sharing T-Statistic: 0.08919789262856036 p-value: 0.9289820533816469\n",
            "adoption-of-the-budget-resolution T-Statistic: -22.854016074618663 p-value: 1.1217347473032385e-69\n",
            "physician-fee-freeze T-Statistic: 56.831487847921714 p-value: 8.343782410460075e-193\n",
            "el-salvador-aid T-Statistic: 23.96194434592836 p-value: 1.855418953596535e-79\n",
            "religious-groups-in-schools T-Statistic: 10.792196284920873 p-value: 3.9412895880570985e-24\n",
            "anti-satellite-test-ban T-Statistic: -12.500697327638568 p-value: 1.0473842923457753e-29\n",
            "aid-to-nicaraguan-contras T-Statistic: -18.303941376527774 p-value: 1.4214987266703936e-52\n",
            "mx-missile T-Statistic: -17.452351010355574 p-value: 2.893916663042171e-51\n",
            "immigration T-Statistic: 1.7419930529922456 p-value: 0.08239064018150807\n",
            "synfuels-corporation-cutback T-Statistic: -9.062924986977123 p-value: 5.315918968092885e-18\n",
            "education-spending T-Statistic: 20.781657465972284 p-value: 2.204878442406843e-62\n",
            "superfund-right-to-sue T-Statistic: 14.389354197801753 p-value: 5.42571073939377e-38\n",
            "crime T-Statistic: 19.969188886776486 p-value: 5.169595191810276e-58\n",
            "duty-free-exports T-Statistic: -14.411343095619447 p-value: 2.7614586274884536e-38\n",
            "export-administration-act-south-africa T-Statistic: -6.419093400372159 p-value: 9.347878154906983e-10\n"
          ],
          "name": "stdout"
        }
      ]
    },
    {
      "metadata": {
        "id": "9YW0kwUR7u8_",
        "colab_type": "code",
        "outputId": "41a7f142-424f-4e2c-ca64-6a88e217286b",
        "colab": {
          "base_uri": "https://localhost:8080/",
          "height": 34
        }
      },
      "cell_type": "code",
      "source": [
        "print (df_dem['handicapped-infants'].mean(), df_rep['handicapped-infants'].mean())"
      ],
      "execution_count": 0,
      "outputs": [
        {
          "output_type": "stream",
          "text": [
            "0.6046511627906976 0.18787878787878787\n"
          ],
          "name": "stdout"
        }
      ]
    },
    {
      "metadata": {
        "id": "81fEI2qg-B_W",
        "colab_type": "text"
      },
      "cell_type": "markdown",
      "source": [
        "## An Issue Republicans Support more than Democrats\n",
        "\n",
        "Republicans support Religious Groups in Schools more than democrats."
      ]
    },
    {
      "metadata": {
        "id": "mFIIUVma-G9B",
        "colab_type": "text"
      },
      "cell_type": "markdown",
      "source": [
        "## An Issue Democrats Support more than Republicans\n",
        "\n",
        "Democrats support Duty Free Exports more than Republicans."
      ]
    },
    {
      "metadata": {
        "id": "HeTE0YP7-Llr",
        "colab_type": "text"
      },
      "cell_type": "markdown",
      "source": [
        "## An Issue Democrats and Republicans Support Almost Equally\n",
        "\n",
        "There is little statistically significant difference between Republicans and Democrats on Water Project Cost Sharing."
      ]
    },
    {
      "metadata": {
        "id": "luijNFIsFZVN",
        "colab_type": "text"
      },
      "cell_type": "markdown",
      "source": [
        "## Visualization"
      ]
    },
    {
      "metadata": {
        "id": "ytWDkh2LFSId",
        "colab_type": "code",
        "outputId": "b7359d88-4b38-4327-961a-721b5c9904a8",
        "colab": {
          "base_uri": "https://localhost:8080/",
          "height": 592
        }
      },
      "cell_type": "code",
      "source": [
        "# experiment with box plot? or alts for visualizing\n",
        "\n",
        "# coloring for issue support spectrum\n",
        "import matplotlib\n",
        "import matplotlib.pyplot as plt\n",
        "\n",
        "cmap = plt.cm.bwr\n",
        "norm = matplotlib.colors.Normalize(vmin=-150, vmax=150.0) # CALL THIS on a value to normalize it to a colormap\n",
        "\n",
        "# initialize plot, set general size and labeling\n",
        "fig, ax = plt.subplots(figsize=(15,9))\n",
        "\n",
        "ax.set_xlim(-200, 200)\n",
        "ax.set_ylim(0, 170)\n",
        "\n",
        "ax.set_xlabel('<----- Democrat                    Relative Margin of Support (%)                    Republican ----->')\n",
        "ax.set_ylabel('Issue Name')\n",
        "\n",
        "ax.text(x=-200, \n",
        "        y=180, \n",
        "        s='Republicans vs. Democrat Support of Key Issues',\n",
        "        fontsize=18,\n",
        "        fontweight='bold')\n",
        "\n",
        "ax.text(x=-200, \n",
        "        y=174, \n",
        "        s='How much of choice did Americans have in 1984?',\n",
        "        fontsize=12)\n",
        "\n",
        "ax.text(x=-150, \n",
        "        y=130, \n",
        "        s='Issues Relatively Favored by Democrats',\n",
        "        fontsize=14,\n",
        "        fontweight='bold')\n",
        "\n",
        "ax.text(x=50, \n",
        "        y=100, \n",
        "        s='Issues Relatively Favored by Republicans',\n",
        "        fontsize=14,\n",
        "        fontweight='bold')\n",
        "\n",
        "# confidence bound example labeling\n",
        "ax.text(x=110, \n",
        "        y=151, \n",
        "        s='Upper Confidence Bound',\n",
        "        fontsize=10)\n",
        "\n",
        "ax.text(x=30, \n",
        "        y=151, \n",
        "        s='Lower Confidence Bound',\n",
        "        fontsize=10)\n",
        "ax.arrow(x=55.1,y=150,dx=0,dy=-10)\n",
        "ax.arrow(x=126.9,y=150,dx=0,dy=-10)\n",
        "\n",
        "# line at x for clearer distinction\n",
        "ax.axvline(x=0.0, linewidth=2, color='black')\n",
        "\n",
        "# label by issue\n",
        "ax.set_yticks(range(10,170,10))\n",
        "ax.set_yticklabels(names[1:])\n",
        "\n",
        "y_cord = 7.5 # starting coordinate for rectangle plotting\n",
        "\n",
        "# plot issue confidence intervals\n",
        "for issue in issue_tests.keys():\n",
        "  rec = plt.Rectangle((issue_tests[issue].low*100, y_cord),\n",
        "                    issue_tests[issue].high*100,\n",
        "                    5,  \n",
        "                    fill=True,\n",
        "                    color=cmap(norm(issue_tests[issue].mean*100)),\n",
        "                    linewidth=3)\n",
        "  ax.add_patch(rec) # add rectangle to the plot\n",
        "  y_cord += 10 # jump up 10 for next box\n",
        "\n",
        "plt.show()"
      ],
      "execution_count": 0,
      "outputs": [
        {
          "output_type": "display_data",
          "data": {
            "image/png": "[encoded data removed]",
            "text/plain": [
              "<matplotlib.figure.Figure at 0x7fd0d82f52e8>"
            ]
          },
          "metadata": {
            "tags": []
          }
        }
      ]
    },
    {
      "metadata": {
        "id": "jDg_5nZEMK7V",
        "colab_type": "code",
        "colab": {}
      },
      "cell_type": "code",
      "source": [
        ""
      ],
      "execution_count": 0,
      "outputs": []
    }
  ]
}