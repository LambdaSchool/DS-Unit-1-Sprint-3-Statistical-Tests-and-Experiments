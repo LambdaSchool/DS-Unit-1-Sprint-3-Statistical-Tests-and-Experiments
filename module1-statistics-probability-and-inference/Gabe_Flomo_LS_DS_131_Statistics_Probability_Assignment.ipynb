{
  "nbformat": 4,
  "nbformat_minor": 0,
  "metadata": {
    "kernelspec": {
      "display_name": "Python 3",
      "language": "python",
      "name": "python3"
    },
    "language_info": {
      "codemirror_mode": {
        "name": "ipython",
        "version": 3
      },
      "file_extension": ".py",
      "mimetype": "text/x-python",
      "name": "python",
      "nbconvert_exporter": "python",
      "pygments_lexer": "ipython3",
      "version": "3.7.3"
    },
    "colab": {
      "name": "Gabe Flomo LS_DS_131_Statistics_Probability_Assignment.ipynb",
      "version": "0.3.2",
      "provenance": [],
      "collapsed_sections": [],
      "include_colab_link": true
    }
  },
  "cells": [
    {
      "cell_type": "markdown",
      "metadata": {
        "id": "view-in-github",
        "colab_type": "text"
      },
      "source": [
        "<a href=\"https://colab.research.google.com/github/Nutritiousfacts/DS-Unit-1-Sprint-3-Statistical-Tests-and-Experiments/blob/master/module1-statistics-probability-and-inference/Gabe_Flomo_LS_DS_131_Statistics_Probability_Assignment.ipynb\" target=\"_parent\"><img src=\"https://colab.research.google.com/assets/colab-badge.svg\" alt=\"Open In Colab\"/></a>"
      ]
    },
    {
      "cell_type": "markdown",
      "metadata": {
        "id": "3doCsqfsygxD",
        "colab_type": "text"
      },
      "source": [
        "<img align=\"left\" src=\"https://lever-client-logos.s3.amazonaws.com/864372b1-534c-480e-acd5-9711f850815c-1524247202159.png\" width=200>\n",
        "<br></br>\n",
        "<br></br>\n",
        "\n",
        "## *Data Science Unit 1 Sprint 3 Assignment 1*\n",
        "\n",
        "# Apply the t-test to real data\n",
        "\n",
        "Your assignment is to determine which issues have \"statistically significant\" differences between political parties in this [1980s congressional voting data](https://archive.ics.uci.edu/ml/datasets/Congressional+Voting+Records). The data consists of 435 instances (one for each congressperson), a class (democrat or republican), and 16 binary attributes (yes or no for voting for or against certain issues). Be aware - there are missing values!\n",
        "\n",
        "Your goals:\n",
        "\n",
        "1. Load and clean the data (or determine the best method to drop observations when running tests)\n",
        "2. Using hypothesis testing, find an issue that democrats support more than republicans with p < 0.01\n",
        "3. Using hypothesis testing, find an issue that republicans support more than democrats with p < 0.01\n",
        "4. Using hypothesis testing, find an issue where the difference between republicans and democrats has p > 0.1 (i.e. there may not be much of a difference)\n",
        "\n",
        "Note that this data will involve *2 sample* t-tests, because you're comparing averages across two groups (republicans and democrats) rather than a single group against a null hypothesis.\n",
        "\n",
        "Stretch goals:\n",
        "\n",
        "1. Refactor your code into functions so it's easy to rerun with arbitrary variables\n",
        "2. Apply hypothesis testing to your personal project data (for the purposes of this notebook you can type a summary of the hypothesis you formed and tested)"
      ]
    },
    {
      "cell_type": "code",
      "metadata": {
        "id": "kJHueLEOygxG",
        "colab_type": "code",
        "colab": {}
      },
      "source": [
        "### YOUR CODE STARTS HERE\n",
        "import pandas as pd\n",
        "import numpy as np\n",
        "# rename columns\n",
        "columns = [\"Party\",\"handicapped-infants\",\"water project\",\"budget\",\n",
        "           \"physician fee freeze\",\"el sal. aid\",\"religious groups\",\"anti satillite ban\",\n",
        "           \"contras aid\",\"mx missile\",\"immigration\",\"synfuels\",\"edu\",\"sue right\",\"crime\",\"duty free\",\"south africa\"\n",
        "          ]\n",
        "\n",
        "df = pd.read_csv(\"https://archive.ics.uci.edu/ml/machine-learning-databases/voting-records/house-votes-84.data\",header = None, names = columns)\n",
        "df = df.replace({\"?\":np.NaN,\"n\":0,\"y\":1})\n",
        "print(df.shape)\n",
        "df.head()\n",
        "\n",
        "\n",
        "\n",
        "          "
      ],
      "execution_count": 0,
      "outputs": []
    },
    {
      "cell_type": "code",
      "metadata": {
        "id": "BmWRAH3wmO3M",
        "colab_type": "code",
        "colab": {}
      },
      "source": [
        "dem = df[df.Party == \"democrat\"]\n",
        "print(dem.shape)\n",
        "dem.head()"
      ],
      "execution_count": 0,
      "outputs": []
    },
    {
      "cell_type": "code",
      "metadata": {
        "id": "4AdMMOWemd19",
        "colab_type": "code",
        "colab": {}
      },
      "source": [
        "rep = df[df.Party == \"republican\"]\n",
        "print(rep.shape)\n",
        "rep.head(20)"
      ],
      "execution_count": 0,
      "outputs": []
    },
    {
      "cell_type": "code",
      "metadata": {
        "id": "e0BWbMgTn-4t",
        "colab_type": "code",
        "colab": {}
      },
      "source": [
        "from scipy.stats import ttest_ind"
      ],
      "execution_count": 0,
      "outputs": []
    },
    {
      "cell_type": "code",
      "metadata": {
        "id": "J8qmFgA9olNM",
        "colab_type": "code",
        "colab": {}
      },
      "source": [
        "issues = [\"handicapped-infants\",\"water project\",\"budget\",\n",
        "           \"physician fee freeze\",\"el sal. aid\",\"religious groups\",\"anti satillite ban\",\n",
        "           \"contras aid\",\"mx missile\",\"immigration\",\"synfuels\",\"edu\",\"sue right\",\"crime\",\"duty free\",\"south africa\"\n",
        "          ]"
      ],
      "execution_count": 0,
      "outputs": []
    },
    {
      "cell_type": "code",
      "metadata": {
        "id": "qwbNUvehogtO",
        "colab_type": "code",
        "colab": {}
      },
      "source": [
        "\n",
        "\n",
        "# this function gets the p_value and returns its value\n",
        "def run_test(df1,df2,issue):\n",
        "  stat,pval = ttest_ind(df1[issue],df2[issue],nan_policy = \"omit\")\n",
        "  return stat,pval\n",
        "\n",
        "# for each issue determine the p-value and t-stat, then determine \n",
        "# which party is the lead supporter\n",
        "leadsupport = []\n",
        "final_issue = []\n",
        "for i in range(len(issues)):\n",
        "  # determine the t-stat and p-value\n",
        "  stat,pval = run_test(rep,dem,issues[i])\n",
        "  \n",
        "  if stat > 0 and pval < 0.01:\n",
        "    #print(\"republican\",issues[i])\n",
        "    final_issue.append(issues[i])\n",
        "    leadsupport.append(\"republican\")\n",
        "  elif stat < 0 and pval < 0.01:\n",
        "    #print(\"democrat\",issues[i])\n",
        "    final_issue.append(issues[i])\n",
        "    leadsupport.append(\"democrat\")\n",
        "  \n",
        "    \n",
        "  "
      ],
      "execution_count": 0,
      "outputs": []
    },
    {
      "cell_type": "code",
      "metadata": {
        "id": "VQJdbDcjtDb7",
        "colab_type": "code",
        "colab": {
          "base_uri": "https://localhost:8080/",
          "height": 462
        },
        "outputId": "2a8ec724-bf78-4c14-f201-b372957998da"
      },
      "source": [
        "data = {\"issue\":final_issue,\n",
        "       \"lead supporter\":leadsupport}\n",
        "\n",
        "final = pd.DataFrame(data)\n",
        "final.head(len(final_issue))"
      ],
      "execution_count": 57,
      "outputs": [
        {
          "output_type": "execute_result",
          "data": {
            "text/html": [
              "<div>\n",
              "<style scoped>\n",
              "    .dataframe tbody tr th:only-of-type {\n",
              "        vertical-align: middle;\n",
              "    }\n",
              "\n",
              "    .dataframe tbody tr th {\n",
              "        vertical-align: top;\n",
              "    }\n",
              "\n",
              "    .dataframe thead th {\n",
              "        text-align: right;\n",
              "    }\n",
              "</style>\n",
              "<table border=\"1\" class=\"dataframe\">\n",
              "  <thead>\n",
              "    <tr style=\"text-align: right;\">\n",
              "      <th></th>\n",
              "      <th>issue</th>\n",
              "      <th>lead supporter</th>\n",
              "    </tr>\n",
              "  </thead>\n",
              "  <tbody>\n",
              "    <tr>\n",
              "      <th>0</th>\n",
              "      <td>handicapped-infants</td>\n",
              "      <td>democrat</td>\n",
              "    </tr>\n",
              "    <tr>\n",
              "      <th>1</th>\n",
              "      <td>budget</td>\n",
              "      <td>democrat</td>\n",
              "    </tr>\n",
              "    <tr>\n",
              "      <th>2</th>\n",
              "      <td>physician fee freeze</td>\n",
              "      <td>republican</td>\n",
              "    </tr>\n",
              "    <tr>\n",
              "      <th>3</th>\n",
              "      <td>el sal. aid</td>\n",
              "      <td>republican</td>\n",
              "    </tr>\n",
              "    <tr>\n",
              "      <th>4</th>\n",
              "      <td>religious groups</td>\n",
              "      <td>republican</td>\n",
              "    </tr>\n",
              "    <tr>\n",
              "      <th>5</th>\n",
              "      <td>anti satillite ban</td>\n",
              "      <td>democrat</td>\n",
              "    </tr>\n",
              "    <tr>\n",
              "      <th>6</th>\n",
              "      <td>contras aid</td>\n",
              "      <td>democrat</td>\n",
              "    </tr>\n",
              "    <tr>\n",
              "      <th>7</th>\n",
              "      <td>mx missile</td>\n",
              "      <td>democrat</td>\n",
              "    </tr>\n",
              "    <tr>\n",
              "      <th>8</th>\n",
              "      <td>synfuels</td>\n",
              "      <td>democrat</td>\n",
              "    </tr>\n",
              "    <tr>\n",
              "      <th>9</th>\n",
              "      <td>edu</td>\n",
              "      <td>republican</td>\n",
              "    </tr>\n",
              "    <tr>\n",
              "      <th>10</th>\n",
              "      <td>sue right</td>\n",
              "      <td>republican</td>\n",
              "    </tr>\n",
              "    <tr>\n",
              "      <th>11</th>\n",
              "      <td>crime</td>\n",
              "      <td>republican</td>\n",
              "    </tr>\n",
              "    <tr>\n",
              "      <th>12</th>\n",
              "      <td>duty free</td>\n",
              "      <td>democrat</td>\n",
              "    </tr>\n",
              "    <tr>\n",
              "      <th>13</th>\n",
              "      <td>south africa</td>\n",
              "      <td>democrat</td>\n",
              "    </tr>\n",
              "  </tbody>\n",
              "</table>\n",
              "</div>"
            ],
            "text/plain": [
              "                   issue lead supporter\n",
              "0    handicapped-infants       democrat\n",
              "1                 budget       democrat\n",
              "2   physician fee freeze     republican\n",
              "3            el sal. aid     republican\n",
              "4       religious groups     republican\n",
              "5     anti satillite ban       democrat\n",
              "6            contras aid       democrat\n",
              "7             mx missile       democrat\n",
              "8               synfuels       democrat\n",
              "9                    edu     republican\n",
              "10             sue right     republican\n",
              "11                 crime     republican\n",
              "12             duty free       democrat\n",
              "13          south africa       democrat"
            ]
          },
          "metadata": {
            "tags": []
          },
          "execution_count": 57
        }
      ]
    },
    {
      "cell_type": "code",
      "metadata": {
        "id": "RhmNizjZBofc",
        "colab_type": "code",
        "colab": {}
      },
      "source": [
        ""
      ],
      "execution_count": 0,
      "outputs": []
    }
  ]
}