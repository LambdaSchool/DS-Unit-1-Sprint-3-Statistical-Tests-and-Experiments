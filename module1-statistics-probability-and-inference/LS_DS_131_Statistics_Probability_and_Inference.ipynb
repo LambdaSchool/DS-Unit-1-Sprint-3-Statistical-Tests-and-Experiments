{
  "nbformat": 4,
  "nbformat_minor": 0,
  "metadata": {
    "colab": {
      "name": "LS_DS_141_Statistics_Probability_and_Inference.ipynb",
      "version": "0.3.2",
      "provenance": []
    },
    "kernelspec": {
      "display_name": "Python 3",
      "language": "python",
      "name": "python3"
    },
    "language_info": {
      "codemirror_mode": {
        "name": "ipython",
        "version": 3
      },
      "file_extension": ".py",
      "mimetype": "text/x-python",
      "name": "python",
      "nbconvert_exporter": "python",
      "pygments_lexer": "ipython3",
      "version": "3.7.3"
    }
  },
  "cells": [
    {
      "cell_type": "markdown",
      "metadata": {
        "colab_type": "text",
        "id": "eJGtmni-DezY"
      },
      "source": [
        "<img align=\"left\" src=\"https://lever-client-logos.s3.amazonaws.com/864372b1-534c-480e-acd5-9711f850815c-1524247202159.png\" width=200>\n",
        "<br></br>\n",
        "<br></br>\n",
        "\n",
        "## *Data Science Unit 1 Sprint 3 Lesson 1*\n",
        "\n",
        "# Statistics, Probability and Inference\n",
        "\n",
        "Ever thought about how long it takes to make a pancake? Have you ever compared the tooking time of a pancake on each eye of your stove? Is the cooking time different between the different eyes? Now, we can run an experiment and collect a sample of 1,000 pancakes on one eye and another 800 pancakes on the other eye. Assumed we used the same pan, batter, and technique on both eyes. Our average cooking times were 180 (5 std) and 178.5 (4.25 std) seconds repsectively. Now, we can tell those numbers are not identicial, but how confident are we that those numbers are practically the same? How do we know the slight difference isn't caused by some external randomness?\n",
        "\n",
        "Yes, today's lesson will help you figure out how long to cook your pancakes (*theoretically*). Experimentation is up to you; otherwise, you have to accept my data as true. How are going to accomplish this? With probability, statistics, inference and maple syrup (optional). \n",
        "\n",
        "<img src=\"https://images.unsplash.com/photo-1541288097308-7b8e3f58c4c6?ixlib=rb-1.2.1&ixid=eyJhcHBfaWQiOjEyMDd9&auto=format&fit=crop&w=3300&q=80\" width=400>\n",
        "\n",
        "## Learning Objectives\n",
        "* [Part 1](#p1): Normal Distribution Revisted\n",
        "* [Part 2](#p2): Student's T Test\n",
        "* [Part 3](#p3): Hypothesis Test & Doing it Live"
      ]
    },
    {
      "cell_type": "markdown",
      "metadata": {
        "id": "d-ZSAhSSTNT3",
        "colab_type": "text"
      },
      "source": [
        "## Normal Distribution Revisited\n",
        "\n",
        "What is the Normal distribution: A probability distribution of a continuous real valued random-variable. The Normal distribution properties make it useful for the *Central Limit Theorm*, because if we assume a variable follows the normal distribution, we can make certain conclusions based on probabilities."
      ]
    },
    {
      "cell_type": "code",
      "metadata": {
        "id": "OTD5EEM3TNT6",
        "colab_type": "code",
        "colab": {}
      },
      "source": [
        "import numpy as np\n",
        "\n",
        "mu = 0 # mean\n",
        "sigma = 0.1 # standard deviation\n",
        "\n",
        "sample = np.random.normal(mu, sigma, 1000)"
      ],
      "execution_count": 0,
      "outputs": []
    },
    {
      "cell_type": "code",
      "metadata": {
        "id": "DcW3UHBFwmX7",
        "colab_type": "code",
        "colab": {
          "base_uri": "https://localhost:8080/",
          "height": 1000
        },
        "outputId": "d3ddd540-c2ed-44c3-9250-ad91c0c36059"
      },
      "source": [
        "sample"
      ],
      "execution_count": 7,
      "outputs": [
        {
          "output_type": "execute_result",
          "data": {
            "text/plain": [
              "array([-1.44350591e-01,  1.00918236e-01, -7.10430662e-02, -6.49478542e-02,\n",
              "        4.53575940e-03,  1.44980951e-01,  1.61530999e-02,  2.23436464e-02,\n",
              "        9.85340446e-02, -7.79051847e-02, -5.65599110e-02, -1.41886614e-01,\n",
              "        5.72745779e-02, -2.53016497e-02,  2.12829574e-01, -5.77278853e-02,\n",
              "       -5.95238556e-02,  4.75273880e-02, -5.72391977e-02, -1.40923742e-01,\n",
              "        2.65633223e-02,  3.47620360e-02, -6.64032286e-02, -6.26529160e-02,\n",
              "        3.92945455e-02, -4.69083779e-02,  1.81720117e-01,  7.16475784e-02,\n",
              "        6.59799430e-02,  5.30030410e-02, -4.58180223e-02,  9.33406066e-02,\n",
              "       -1.25174686e-01, -2.26739038e-02, -6.10705645e-02,  1.01023380e-01,\n",
              "       -2.09938594e-01, -8.36437370e-02, -7.82707797e-02, -4.49716521e-02,\n",
              "        5.70272108e-02, -5.83207649e-02,  6.10329045e-02,  9.35871452e-03,\n",
              "        2.69371776e-02,  7.84400185e-02, -1.05084686e-01,  2.06135384e-02,\n",
              "        8.82179029e-02, -1.18574134e-01,  1.88385174e-02,  1.99151919e-01,\n",
              "       -1.81719598e-02,  6.56202439e-02, -8.47313394e-02,  2.68469684e-02,\n",
              "        4.79881553e-02,  2.14736424e-01, -9.62422413e-02, -2.18027736e-02,\n",
              "        1.49035688e-01, -1.13766560e-01,  1.92541350e-01, -9.42051956e-02,\n",
              "       -2.47417448e-01, -3.32353984e-01, -1.76554008e-01, -1.35567370e-01,\n",
              "       -3.36598509e-02, -2.74007107e-02,  1.54391881e-01,  1.08855796e-01,\n",
              "       -9.18067407e-02, -4.74458404e-02, -5.35622012e-02, -8.24692118e-02,\n",
              "        1.41207452e-01, -5.70481993e-02,  1.24099556e-01,  3.55717681e-02,\n",
              "       -7.88689370e-02, -2.38664058e-02,  2.93025742e-02,  4.87861319e-02,\n",
              "       -4.61752916e-03,  5.17045575e-03,  7.76914207e-02, -5.83259424e-03,\n",
              "       -2.41730248e-02,  1.18605240e-01, -2.56475543e-01,  2.49503217e-02,\n",
              "        1.13910764e-01, -1.11748850e-01, -4.04439932e-02, -3.22407409e-02,\n",
              "        5.05319455e-02,  5.79804461e-02, -6.26136315e-02, -5.43919428e-02,\n",
              "        7.53153166e-02, -1.26998037e-01,  1.01615848e-01,  7.98849201e-04,\n",
              "        7.09682254e-02,  2.72969664e-02, -6.98977450e-02, -2.09738580e-02,\n",
              "       -6.78100612e-02,  7.46374055e-02,  1.02684020e-01, -1.02304203e-02,\n",
              "       -1.86652335e-01, -5.34160720e-04, -6.32708216e-02, -4.11413999e-02,\n",
              "       -5.29683473e-02,  3.08754359e-01,  1.56662880e-01, -2.54463496e-02,\n",
              "        1.00438044e-01, -2.52904196e-02, -1.65204343e-02, -9.88744480e-02,\n",
              "       -1.36698751e-01,  4.37013529e-02,  2.98765376e-02, -2.59281981e-01,\n",
              "        5.33171429e-02, -1.91717799e-02,  3.66844820e-02, -1.03174159e-01,\n",
              "       -1.10022546e-01,  6.76296626e-02, -1.41458982e-01,  1.75204499e-02,\n",
              "        7.57222146e-02,  5.76689561e-02, -3.15113361e-02,  4.08365027e-02,\n",
              "        1.39515009e-01, -1.07889331e-01, -1.21141913e-02,  8.06295549e-02,\n",
              "        1.00885239e-01, -1.39318317e-02, -2.32780579e-02,  6.36142229e-04,\n",
              "        1.09327872e-01,  1.05238431e-01, -4.22544176e-02,  3.48116529e-02,\n",
              "        1.77038760e-01, -8.89866449e-02, -4.87618764e-02, -2.86165994e-02,\n",
              "       -9.60603176e-02, -4.11367134e-02,  1.62036280e-01, -4.66091947e-02,\n",
              "        1.19145176e-01,  2.10689845e-01, -4.27682011e-03,  3.13632162e-02,\n",
              "        5.18816541e-02,  1.49536246e-01,  2.10713259e-01,  1.48467533e-02,\n",
              "        6.33876477e-02,  1.08346237e-01,  8.18358853e-02, -1.60247298e-01,\n",
              "        1.64971174e-01, -1.12603052e-01,  1.01865561e-02, -2.36395053e-02,\n",
              "        3.99571425e-02,  1.94734223e-01,  1.61578930e-01, -5.47742774e-02,\n",
              "       -9.38136681e-02,  1.30973966e-01, -8.55626066e-02, -3.12430520e-03,\n",
              "       -1.53152153e-01,  1.95444239e-01, -7.86544171e-03, -8.59699444e-02,\n",
              "        1.60248372e-01,  6.91027330e-02,  1.01447761e-02, -1.60142373e-03,\n",
              "        9.73795488e-02,  6.54376210e-02,  1.01496485e-01,  4.89927601e-02,\n",
              "       -2.25076367e-01, -6.68652562e-02, -1.06828354e-01, -1.69956455e-01,\n",
              "       -1.28924522e-01,  3.39591735e-02,  7.73470616e-03, -1.22111063e-02,\n",
              "       -1.18193596e-01, -1.37223967e-01,  9.81756319e-02, -1.35786986e-01,\n",
              "        3.78268156e-02, -1.07999876e-02,  3.47273346e-02, -9.56489545e-02,\n",
              "        7.36377865e-02, -7.16176997e-02, -4.52481508e-02, -9.48965979e-06,\n",
              "       -7.42673393e-02,  5.17390924e-02,  1.21848999e-01, -3.43218873e-02,\n",
              "       -5.82212882e-02,  8.25607827e-02, -6.33413875e-02,  1.41827581e-01,\n",
              "        1.29759236e-01,  1.31682490e-01, -2.25371028e-01, -3.37430140e-03,\n",
              "        3.40903263e-02,  1.34258528e-01, -1.16038923e-01,  5.33424669e-02,\n",
              "        9.06420189e-02, -1.74443490e-01, -1.01707502e-02, -2.00761109e-01,\n",
              "        1.59528407e-01, -8.56421558e-02, -1.23218527e-02,  1.43913354e-01,\n",
              "        3.19814280e-02,  3.58023523e-01,  1.02217480e-01,  3.06446587e-02,\n",
              "       -5.64640508e-02, -5.21587179e-02, -8.77920320e-02, -1.00188538e-01,\n",
              "        5.53397152e-02,  3.37602485e-02, -7.32972717e-02,  5.18309333e-03,\n",
              "        1.68743686e-01, -5.53614987e-03, -1.23178812e-01, -7.78037322e-03,\n",
              "        7.34051412e-02, -7.05645193e-02, -2.37345711e-02, -3.39162604e-02,\n",
              "       -2.42735032e-03,  5.09728075e-02, -8.41249873e-02, -6.59489861e-02,\n",
              "        6.29817030e-02,  5.23119645e-02,  4.44182710e-02,  1.10097345e-01,\n",
              "       -1.40984209e-03,  1.30367061e-01,  5.39607860e-02,  1.22998697e-01,\n",
              "       -4.24495404e-02,  1.23500391e-01, -7.48098435e-02,  5.08098136e-02,\n",
              "       -3.17278132e-02,  1.06679396e-02,  4.03676869e-03, -2.63752626e-02,\n",
              "       -7.30317021e-03,  3.68856738e-02,  5.75301540e-02,  1.65613642e-01,\n",
              "        5.60680546e-03,  9.60428628e-02,  1.03929275e-01,  3.84817699e-02,\n",
              "        5.75723907e-02,  8.43940126e-02,  1.49975958e-02,  1.79236847e-02,\n",
              "       -1.67159105e-02,  5.91103919e-02,  2.53029087e-01,  1.10762868e-01,\n",
              "       -4.70413401e-03, -4.21668860e-02,  9.61879856e-03,  1.02575748e-01,\n",
              "        1.56074904e-02,  2.50512171e-02, -1.35596592e-01,  1.39393165e-01,\n",
              "        5.43575682e-02, -5.08478103e-02, -2.22559802e-02,  5.80606754e-02,\n",
              "        1.08727057e-01, -4.84326676e-02,  5.50601457e-02,  3.62305927e-02,\n",
              "        1.40759164e-01,  7.15650014e-02, -1.51188338e-01,  4.33632696e-03,\n",
              "        1.59793336e-01, -7.81088667e-02, -5.17611871e-02, -5.30123140e-02,\n",
              "        6.35202182e-02,  2.55794625e-02,  1.03706483e-01,  7.31366345e-03,\n",
              "       -1.79374823e-01, -8.59425736e-02, -1.04034600e-01, -3.94799892e-02,\n",
              "        1.10172025e-02,  3.44887214e-02,  3.52044616e-02, -1.42230978e-01,\n",
              "       -8.98442753e-02, -3.35305489e-02, -1.19391981e-01, -3.47686498e-02,\n",
              "        2.89027790e-02, -4.27257345e-02,  2.04608363e-01,  6.92200622e-02,\n",
              "       -7.52331539e-02, -1.87404415e-01, -4.82162384e-02,  7.18615215e-02,\n",
              "        6.37031389e-02,  5.49229635e-02, -6.95240455e-02,  7.16103470e-02,\n",
              "        6.81221383e-03, -9.29735533e-02,  1.00227261e-01, -1.09009656e-01,\n",
              "       -5.95734338e-02,  3.73263212e-03,  2.01595818e-01,  1.29182994e-01,\n",
              "       -3.15956365e-02,  3.37459518e-02,  2.09685980e-02,  1.09676437e-01,\n",
              "        5.86325888e-02,  3.42697465e-02,  3.66766409e-02,  1.00286643e-01,\n",
              "        1.20274001e-01, -1.43370743e-01, -1.74345722e-01, -1.02389651e-01,\n",
              "        3.81610486e-03, -1.94461875e-02,  7.07740111e-02,  2.15479947e-02,\n",
              "       -5.88292301e-03,  9.20922206e-02,  1.01261537e-01,  2.10196086e-01,\n",
              "        1.39650955e-02,  1.03997585e-01, -2.86032178e-02,  1.97650728e-02,\n",
              "        4.66964205e-03,  1.26648482e-02,  1.33741525e-02, -1.43325910e-01,\n",
              "        5.77882645e-03, -6.90835992e-02,  6.57279203e-02,  1.67249814e-01,\n",
              "        6.70394136e-02,  1.56935001e-01, -1.34888812e-01,  1.92772192e-02,\n",
              "       -1.80966637e-02,  6.38714380e-02, -2.07058039e-02, -7.39311199e-02,\n",
              "        8.63777225e-02,  4.91044588e-02, -3.01092862e-01, -3.53154343e-02,\n",
              "        7.07965732e-02,  2.18323496e-02, -3.13592113e-02, -7.08482441e-02,\n",
              "        1.76792311e-02, -1.28220560e-01,  3.79864461e-02,  5.85501038e-02,\n",
              "       -1.86545244e-01, -5.11361052e-02,  7.16787743e-02,  5.49334817e-02,\n",
              "        1.86721479e-02,  8.65549452e-02, -1.39346412e-01, -5.31067825e-02,\n",
              "        1.23308741e-01, -1.59197158e-02, -2.00349091e-01, -1.91724917e-02,\n",
              "        6.48051580e-02,  8.03045883e-02, -1.07960540e-01, -2.46198484e-02,\n",
              "        3.58667836e-02, -1.85218290e-02, -1.76950275e-02, -2.91503448e-02,\n",
              "       -2.51403506e-02, -1.16883532e-01, -1.25698375e-01,  1.63473274e-02,\n",
              "        1.37320732e-01,  1.88953871e-02,  7.12020692e-02, -1.58706056e-02,\n",
              "       -3.54613570e-02,  3.58243370e-02, -1.80038215e-02, -1.04877483e-01,\n",
              "       -2.97964509e-02,  8.08609963e-02,  1.78905689e-01, -7.68884509e-02,\n",
              "       -1.01831189e-01,  1.16229278e-01,  1.42339840e-01, -1.19637574e-01,\n",
              "       -6.02284928e-02,  2.00501135e-01, -1.62402435e-01, -7.38063196e-02,\n",
              "        1.49253919e-01,  1.02187380e-01, -1.13289813e-01, -4.76869172e-03,\n",
              "       -2.06858096e-02, -2.62956964e-02, -2.00898295e-02,  2.47928377e-01,\n",
              "        6.01651883e-02, -3.25945224e-03, -4.98415438e-02,  2.52798408e-03,\n",
              "        1.18753535e-02,  1.21975204e-01, -3.88023628e-02, -9.04248246e-02,\n",
              "        1.23155541e-01,  9.32448131e-02, -1.16389616e-01, -1.73652303e-01,\n",
              "       -8.82136224e-02,  9.26346139e-02,  9.36767827e-02,  1.14601776e-01,\n",
              "       -7.12457692e-02, -3.20316673e-03,  1.43195321e-01, -1.15790445e-01,\n",
              "       -1.72397689e-01,  5.92682074e-02, -6.98109074e-02,  6.91082747e-03,\n",
              "        7.20420696e-02,  4.71841539e-02, -5.25548871e-02, -2.25244176e-03,\n",
              "        1.56527852e-01,  8.04947777e-03, -1.01191051e-01, -1.36850809e-01,\n",
              "       -1.54225607e-02, -1.30418125e-02, -9.02659628e-02, -1.16646456e-01,\n",
              "       -6.86913316e-02,  5.15228538e-03,  2.71959040e-01,  5.70819493e-02,\n",
              "        1.50140331e-01,  1.50017532e-02,  7.67801482e-03, -1.69055494e-02,\n",
              "       -7.98353396e-02,  8.14914214e-02,  1.48342781e-02,  3.34893724e-02,\n",
              "       -6.78569586e-02,  7.90872709e-02, -1.10515724e-01, -4.17253132e-03,\n",
              "       -1.42909041e-01,  4.09645688e-03, -2.72968244e-02, -1.30794173e-01,\n",
              "        3.59878107e-02, -1.54711664e-01,  5.02751165e-02,  7.40695455e-03,\n",
              "       -5.65122162e-02, -8.18806174e-03, -8.09170421e-02,  1.23365728e-01,\n",
              "       -5.73004193e-03,  7.45067968e-02, -7.82993510e-02, -2.53461472e-01,\n",
              "       -1.62186522e-01, -5.30187370e-02, -1.41380772e-01,  1.16091725e-01,\n",
              "       -2.36930863e-01, -7.94045500e-02, -1.01540033e-01, -9.11862784e-02,\n",
              "        6.07049687e-02, -1.04438345e-01, -3.05297171e-02, -7.43293081e-02,\n",
              "        1.58422912e-02,  4.48972669e-02,  2.12181103e-01, -8.54876632e-02,\n",
              "        6.92348380e-02, -4.13655277e-02, -9.80201212e-02, -6.33221633e-02,\n",
              "       -1.06876212e-01, -1.69679874e-02, -1.31074212e-01,  1.75561905e-02,\n",
              "       -2.91161632e-02, -3.82727980e-02,  1.45067481e-01, -7.60616140e-02,\n",
              "       -2.22219559e-01,  2.34975014e-02, -4.22785792e-02, -7.64115560e-02,\n",
              "       -2.57770375e-03, -1.01460721e-01, -4.90774734e-02,  8.41773383e-03,\n",
              "        8.95741206e-02, -2.30056425e-01, -6.22884457e-02, -1.53080209e-01,\n",
              "        4.83104202e-02,  4.39168089e-02,  1.48650209e-01, -1.30724350e-01,\n",
              "       -1.76508965e-01, -8.46865224e-02,  1.55921299e-01, -1.33830892e-02,\n",
              "        2.05645904e-02,  1.18403966e-01,  2.77438020e-02,  1.25978976e-02,\n",
              "        9.66720054e-03, -7.67482004e-02,  8.67595457e-02, -1.18904246e-02,\n",
              "       -1.72432467e-01,  1.68705319e-01, -9.37969651e-02,  1.36891097e-01,\n",
              "       -5.65266067e-03, -5.04732825e-02, -2.68448732e-02, -7.09481717e-02,\n",
              "       -4.47909155e-02,  5.56123990e-02,  1.06806986e-02, -3.75003824e-02,\n",
              "        1.73468280e-01, -1.48620881e-01,  2.20117308e-02,  1.79522225e-02,\n",
              "       -3.41584742e-02,  6.82604773e-02, -1.33756033e-03, -5.63677064e-02,\n",
              "        1.52262335e-01,  4.85950241e-02, -5.67987062e-02, -6.21758267e-03,\n",
              "        5.40156182e-02, -3.59241683e-02,  1.87279279e-02, -1.11978476e-01,\n",
              "        1.37845204e-01,  4.81896135e-02, -6.94470184e-04, -4.58609779e-03,\n",
              "       -4.72883135e-02, -6.99012766e-02, -1.40340176e-02, -7.12250815e-02,\n",
              "        5.93640929e-02,  3.58186682e-02,  5.94363153e-02, -4.48521502e-03,\n",
              "       -9.38973359e-02,  1.20360544e-01,  7.21040012e-02, -1.04396450e-01,\n",
              "        4.53596764e-02,  3.62673875e-02,  4.08035890e-02,  1.24829855e-01,\n",
              "        4.15629449e-02, -6.83991767e-02,  1.04049994e-01,  1.59198140e-01,\n",
              "        3.10612994e-03, -1.52220736e-01, -2.27008899e-02, -1.19309433e-01,\n",
              "        6.56340439e-02,  9.06586640e-02, -1.37496844e-01, -4.50417523e-02,\n",
              "        3.80361566e-03,  3.82034466e-02, -1.74249506e-01,  1.03156609e-01,\n",
              "       -4.39875788e-02, -7.56329367e-03, -2.62320272e-02,  1.41750713e-01,\n",
              "       -5.68153862e-02, -8.42224485e-02, -1.12402440e-01,  4.26686762e-02,\n",
              "        4.14652209e-02, -1.25501897e-01, -3.89913182e-02, -6.19123936e-03,\n",
              "        1.69018457e-01,  5.91050736e-02,  8.87393217e-03,  1.03486361e-02,\n",
              "       -1.33304582e-01,  3.89208291e-02, -8.61555681e-02,  8.35064341e-02,\n",
              "       -1.34939341e-01,  6.92464309e-02,  1.68010766e-01,  1.00378272e-01,\n",
              "       -6.99992383e-02, -1.20994766e-01, -3.88357733e-02, -5.80612074e-02,\n",
              "        5.45195009e-02, -2.22268412e-02,  9.47497242e-02,  6.87263464e-02,\n",
              "       -1.31509230e-01, -6.09423023e-03, -2.93004730e-02, -1.19436872e-01,\n",
              "        1.10257041e-01, -1.23689557e-02,  1.34624751e-01, -4.11540140e-02,\n",
              "       -2.82494467e-01, -3.01675246e-02, -2.16340646e-02, -2.10880698e-02,\n",
              "       -6.96877965e-03, -1.80405797e-01,  7.92238667e-02,  1.97205269e-02,\n",
              "       -7.43226615e-02, -6.01153778e-02, -6.07416865e-02,  1.96536451e-02,\n",
              "        5.99758929e-02, -4.42596642e-02,  1.29811446e-02,  8.98809179e-02,\n",
              "        4.69564336e-02,  2.12658473e-02, -6.45421119e-03,  6.95178856e-02,\n",
              "        1.79222756e-01, -4.18433080e-02,  1.87989443e-02, -7.70158868e-02,\n",
              "        1.43841304e-01, -9.66945732e-02, -2.89917411e-02,  1.12909104e-01,\n",
              "        3.69173232e-02, -4.42031060e-02, -1.33861508e-01,  3.27470986e-02,\n",
              "        7.78392773e-02,  3.25694172e-02,  5.85565607e-02,  1.36649931e-01,\n",
              "       -1.93634628e-01, -7.93643853e-02,  3.01564498e-02,  2.21376172e-02,\n",
              "       -1.17416615e-01,  2.14096422e-02,  1.23544661e-01, -1.23699056e-02,\n",
              "        9.95614563e-02,  3.87534051e-02, -3.06660186e-02, -9.70908780e-02,\n",
              "        1.40045653e-01, -6.04400559e-02,  1.59782284e-01, -7.35494876e-02,\n",
              "        1.91034950e-02,  1.16502598e-01, -1.10268496e-02, -3.95637849e-02,\n",
              "        1.60189954e-01, -3.23455041e-02,  1.10826275e-01, -9.28196513e-02,\n",
              "       -4.06827829e-02, -1.39974715e-02, -2.15345623e-02, -5.70303338e-02,\n",
              "       -1.16536074e-01,  7.91096851e-02, -9.03685365e-02,  7.40402353e-02,\n",
              "       -1.32371762e-01,  1.14426796e-01, -5.79721521e-02, -2.16112717e-01,\n",
              "       -1.73894514e-01, -4.07626455e-01, -4.29866475e-03,  1.25754131e-01,\n",
              "        1.78384124e-01,  1.88813632e-01, -6.05216539e-02, -7.35612052e-02,\n",
              "        1.27428232e-01, -5.75557947e-02,  3.23812802e-02,  4.94944168e-02,\n",
              "        5.37583424e-02, -1.07516445e-01,  2.29853622e-02,  9.49335917e-02,\n",
              "       -5.36037317e-02, -8.40838298e-02,  1.26760832e-01, -1.72712254e-02,\n",
              "       -3.50419875e-02, -3.09614189e-01,  3.56592164e-02, -1.96710823e-02,\n",
              "       -4.49629625e-02,  6.71358651e-02, -1.71499101e-01,  4.53497216e-02,\n",
              "       -5.47904160e-02,  3.44295502e-02,  2.98873479e-03, -2.37641801e-01,\n",
              "       -1.82058254e-02, -7.11890693e-02,  2.55339717e-02,  6.19555767e-02,\n",
              "       -3.36044961e-02, -4.84765492e-02,  1.34906104e-01,  1.40661165e-01,\n",
              "        1.79929634e-01,  9.92418676e-02, -1.49738570e-02,  7.99309555e-02,\n",
              "       -1.61041259e-01, -4.62843884e-02, -3.97542968e-02, -1.48616124e-02,\n",
              "        7.62370597e-02, -5.61083364e-02,  5.35052496e-02,  3.30855926e-02,\n",
              "       -1.15756330e-01, -1.60275840e-01,  3.06666010e-02,  8.19803187e-02,\n",
              "        1.91979699e-01, -5.83860001e-02,  3.84038145e-02, -3.67265931e-02,\n",
              "       -1.60629201e-01, -1.07444197e-01,  1.67571101e-01,  8.77945412e-02,\n",
              "       -6.37317570e-02,  4.77276386e-03, -1.03077416e-01,  1.60718365e-02,\n",
              "        5.57447384e-03, -1.48776637e-01,  1.30001361e-01,  5.85586186e-02,\n",
              "        1.35561784e-02, -9.57833104e-03, -6.40462778e-02, -1.83968046e-02,\n",
              "       -1.98520683e-02,  6.51933713e-02, -1.07239181e-02, -3.32372577e-02,\n",
              "       -1.44852931e-01,  3.97683039e-02,  2.29510487e-02, -2.37413555e-02,\n",
              "        3.55115365e-02,  3.15500042e-03,  8.33965067e-02,  1.31324773e-01,\n",
              "        8.28222859e-03,  1.30451695e-01,  1.14221491e-01, -1.42304057e-01,\n",
              "       -6.44747982e-02,  2.91141486e-03,  1.24903170e-01, -6.52901897e-02,\n",
              "       -1.11711030e-01,  9.71731130e-02, -5.63986354e-02, -5.23772670e-02,\n",
              "       -1.30394203e-01,  1.56125381e-01, -4.69550300e-02, -1.11701386e-01,\n",
              "        1.25274966e-02,  3.18764863e-02, -1.75429288e-01, -2.51471935e-01,\n",
              "        2.10055113e-02, -3.56644438e-02, -2.72580717e-03,  8.15959842e-02,\n",
              "        6.75551511e-02,  1.24451629e-01, -6.81037654e-02,  3.90170174e-02,\n",
              "       -1.62415255e-01,  3.61926432e-02, -1.32402826e-01, -9.52163139e-02,\n",
              "        1.15918293e-01, -1.27563271e-01,  1.75491001e-01, -5.53570247e-02,\n",
              "       -1.55822460e-02,  1.48903315e-01, -5.11548080e-02, -1.64952849e-01,\n",
              "       -5.89988370e-02,  2.26434091e-02, -4.49730390e-02,  7.67603189e-02,\n",
              "       -5.32520123e-02, -1.00066712e-01, -8.02281531e-02,  6.43895798e-02,\n",
              "       -3.54730079e-02,  3.46716473e-02,  7.84890658e-02,  1.14662486e-01,\n",
              "        8.67131216e-02, -5.90152231e-02, -4.88628084e-02,  9.30531630e-02,\n",
              "       -1.58244063e-01,  1.34347299e-01, -1.43273508e-02, -2.54107523e-03,\n",
              "        1.70024318e-01,  1.74666908e-03,  4.09005513e-02, -1.75739668e-01,\n",
              "       -1.49034228e-02,  1.46162938e-01,  9.63221582e-02,  9.12492493e-03,\n",
              "       -7.04025802e-02,  1.11111524e-03,  7.70595132e-02,  1.37337282e-01,\n",
              "       -1.00861169e-01, -9.49822189e-02, -7.20875313e-02,  1.86885339e-02,\n",
              "        8.49418547e-03, -1.67374049e-01, -1.41781842e-01,  9.89236167e-02,\n",
              "       -3.26605916e-03, -2.26717848e-02, -9.59378992e-02, -2.06710326e-01,\n",
              "        7.55683869e-02, -6.38763145e-02, -5.44304199e-03, -3.01873206e-02,\n",
              "        1.11301144e-01, -8.84245025e-02, -9.70037997e-03,  1.29936084e-01,\n",
              "        3.91943502e-02,  1.10655016e-01, -2.62898908e-02,  1.18934855e-01,\n",
              "       -3.00469194e-02,  5.43016517e-02, -5.68690363e-02,  1.23557720e-01,\n",
              "        3.45532145e-03,  1.63215658e-01, -1.10406881e-01,  9.23111667e-02,\n",
              "        2.21125968e-01,  4.39754697e-02,  2.51125441e-01,  1.37730866e-01,\n",
              "       -3.36176798e-02, -1.09126279e-01, -4.10366174e-02,  1.26816630e-01,\n",
              "       -8.86187559e-02, -2.51630343e-02, -2.45914970e-02, -3.86366388e-02,\n",
              "        6.55744527e-02,  7.48541244e-02, -2.63876627e-02, -4.42692310e-02,\n",
              "       -1.52123175e-01,  1.62253204e-02,  5.72083778e-02,  4.52906510e-03,\n",
              "       -1.90784533e-01,  1.27922040e-01, -5.80003769e-02,  3.32906637e-02,\n",
              "        8.09629630e-02,  1.77390047e-01,  1.13460421e-02, -8.02469564e-02,\n",
              "        6.06277656e-03, -2.34284918e-01,  8.87211442e-02, -1.79071385e-01,\n",
              "       -1.28397387e-01,  4.08965230e-02, -1.23631084e-01,  2.04623679e-01,\n",
              "       -1.81069168e-01, -6.59175479e-03, -5.48034100e-02,  2.69724688e-01,\n",
              "       -8.74345761e-02, -6.21148625e-02,  1.29800597e-01,  6.37222173e-02,\n",
              "       -3.18714001e-02, -2.24384979e-02,  1.06540005e-02, -1.12511358e-02])"
            ]
          },
          "metadata": {
            "tags": []
          },
          "execution_count": 7
        }
      ]
    },
    {
      "cell_type": "code",
      "metadata": {
        "id": "xW29P8QwTNUF",
        "colab_type": "code",
        "colab": {
          "base_uri": "https://localhost:8080/",
          "height": 33
        },
        "outputId": "a8fa986b-8285-44f4-a710-cfe1cce0bd3f"
      },
      "source": [
        "# Verify the mean of our sample\n",
        "abs(mu - np.mean(sample)) < 0.01"
      ],
      "execution_count": 8,
      "outputs": [
        {
          "output_type": "execute_result",
          "data": {
            "text/plain": [
              "True"
            ]
          },
          "metadata": {
            "tags": []
          },
          "execution_count": 8
        }
      ]
    },
    {
      "cell_type": "code",
      "metadata": {
        "id": "5Z9D79lOTNUT",
        "colab_type": "code",
        "colab": {
          "base_uri": "https://localhost:8080/",
          "height": 33
        },
        "outputId": "07889009-35b5-4379-be9a-66f91eccc3d6"
      },
      "source": [
        "# Verify the variance of our sample\n",
        "abs(sigma - np.std(sample, ddof=1)) < 0.01"
      ],
      "execution_count": 9,
      "outputs": [
        {
          "output_type": "execute_result",
          "data": {
            "text/plain": [
              "True"
            ]
          },
          "metadata": {
            "tags": []
          },
          "execution_count": 9
        }
      ]
    },
    {
      "cell_type": "code",
      "metadata": {
        "id": "-lNKo2WwTNUZ",
        "colab_type": "code",
        "colab": {
          "base_uri": "https://localhost:8080/",
          "height": 298
        },
        "outputId": "012e8e8d-a46d-40d8-b8a1-8e9e539c3023"
      },
      "source": [
        "import seaborn as sns\n",
        "from matplotlib import style\n",
        "\n",
        "style.use('fivethirtyeight')\n",
        "\n",
        "ax = sns.distplot(sample, color='r')\n",
        "ax.axvline(np.percentile(sample,97.5),0)\n",
        "ax.axvline(np.percentile(sample,2.5),0)"
      ],
      "execution_count": 10,
      "outputs": [
        {
          "output_type": "execute_result",
          "data": {
            "text/plain": [
              "<matplotlib.lines.Line2D at 0x7fe7cc4b0b00>"
            ]
          },
          "metadata": {
            "tags": []
          },
          "execution_count": 10
        },
        {
          "output_type": "display_data",
          "data": {
            "image/png": "[encoded data removed]",
            "text/plain": [
              "<Figure size 432x288 with 1 Axes>"
            ]
          },
          "metadata": {
            "tags": []
          }
        }
      ]
    },
    {
      "cell_type": "markdown",
      "metadata": {
        "colab_type": "text",
        "id": "FMhDKOFND0qY"
      },
      "source": [
        "## Student's T Test\n",
        "\n",
        ">Assuming data come from a Normal distribution, the t test provides a way to test whether the sample mean (that is the mean calculated from the data) is a good estimate of the population mean. \n",
        "\n",
        "The derivation of the t-distribution was first published in 1908 by William Gosset while working for the Guinness Brewery in Dublin. Due to proprietary issues, he had to publish under a pseudonym, and so he used the name Student.\n",
        "\n",
        "The t-distribution is essentially a distribution of means of normaly distributed data. When we use a t-statistic, we are  checking that a mean fails within a certain $\\alpha$ probability of the mean of means."
      ]
    },
    {
      "cell_type": "code",
      "metadata": {
        "colab_type": "code",
        "id": "fQ9rkLJmEbsk",
        "colab": {}
      },
      "source": [
        "t_df10 = np.random.standard_t(df=10, size=10)\n",
        "t_df100 = np.random.standard_t(df=100, size=100)\n",
        "t_df1000 = np.random.standard_t(df=1000, size=1000)"
      ],
      "execution_count": 0,
      "outputs": []
    },
    {
      "cell_type": "code",
      "metadata": {
        "colab_type": "code",
        "id": "RyNKPt_tJk86",
        "outputId": "28c50b78-4365-4722-fedf-fccff752fd38",
        "colab": {
          "base_uri": "https://localhost:8080/",
          "height": 284
        }
      },
      "source": [
        "sns.kdeplot(t_df10, color='r');\n",
        "sns.kdeplot(t_df100, color='y');\n",
        "sns.kdeplot(t_df1000, color='b');"
      ],
      "execution_count": 12,
      "outputs": [
        {
          "output_type": "display_data",
          "data": {
            "image/png": "[encoded data removed]",
            "text/plain": [
              "<Figure size 432x288 with 1 Axes>"
            ]
          },
          "metadata": {
            "tags": []
          }
        }
      ]
    },
    {
      "cell_type": "code",
      "metadata": {
        "colab_type": "code",
        "id": "seQv5unnJvpM",
        "outputId": "fada8725-0ccc-4ba3-f261-5d2948327f8f",
        "colab": {
          "base_uri": "https://localhost:8080/",
          "height": 268
        }
      },
      "source": [
        "i = 10\n",
        "for sample in [t_df10, t_df100, t_df1000]:\n",
        "    print(f\"t - distribution with {i} degrees of freedom\")\n",
        "    print(\"---\" * 10)\n",
        "    print(f\"Mean: {sample.mean()}\")\n",
        "    print(f\"Standard Deviation: {sample.std()}\")\n",
        "    print(f\"Variance: {sample.var()}\")\n",
        "    i = i*10"
      ],
      "execution_count": 13,
      "outputs": [
        {
          "output_type": "stream",
          "text": [
            "t - distribution with 10 degrees of freedom\n",
            "------------------------------\n",
            "Mean: -0.6064863082426963\n",
            "Standard Deviation: 1.6845042755318693\n",
            "Variance: 2.8375546542851477\n",
            "t - distribution with 100 degrees of freedom\n",
            "------------------------------\n",
            "Mean: -0.2751916406404393\n",
            "Standard Deviation: 1.0367394805825891\n",
            "Variance: 1.0748287505986567\n",
            "t - distribution with 1000 degrees of freedom\n",
            "------------------------------\n",
            "Mean: -0.036114473146136236\n",
            "Standard Deviation: 0.9801413545801164\n",
            "Variance: 0.9606770749581456\n"
          ],
          "name": "stdout"
        }
      ]
    },
    {
      "cell_type": "code",
      "metadata": {
        "id": "BAUoOYST8Rbl",
        "colab_type": "code",
        "colab": {
          "base_uri": "https://localhost:8080/",
          "height": 213
        },
        "outputId": "01c9dd94-0e12-4d9f-e61c-dff1ff7abea4"
      },
      "source": [
        "import pandas as pd\n",
        "\n",
        "# Missing LAR (no team roster page on NFL.com)\n",
        "teams = ['ARI','ATL','BAL','BUF','CAR','CHI','CIN','CLE','DAL','DEN','DET','GB','HOU',\n",
        "         'IND','JAX','KC','LAC','MIA','MIN','NE','NO','NYG','NYJ','OAK','PHI',\n",
        "         'PIT','SEA','SF','TB','TEN','WAS']    \n",
        "\n",
        "df_list = []\n",
        "for team in teams: \n",
        "    df = pd.read_html(f'http://www.nfl.com/teams/roster?team={team}')[1]\n",
        "    df['Team'] = team\n",
        "    df.columns = ['No','Name','Pos','Status','Height','Weight','Birthdate','Exp','College','Team']\n",
        "    df_list.append(df)\n",
        "    \n",
        "final_df = pd.concat(df_list, ignore_index=True)\n",
        "print(final_df.shape)\n",
        "final_df.head()"
      ],
      "execution_count": 14,
      "outputs": [
        {
          "output_type": "stream",
          "text": [
            "(2883, 10)\n"
          ],
          "name": "stdout"
        },
        {
          "output_type": "execute_result",
          "data": {
            "text/html": [
              "<div>\n",
              "<style scoped>\n",
              "    .dataframe tbody tr th:only-of-type {\n",
              "        vertical-align: middle;\n",
              "    }\n",
              "\n",
              "    .dataframe tbody tr th {\n",
              "        vertical-align: top;\n",
              "    }\n",
              "\n",
              "    .dataframe thead th {\n",
              "        text-align: right;\n",
              "    }\n",
              "</style>\n",
              "<table border=\"1\" class=\"dataframe\">\n",
              "  <thead>\n",
              "    <tr style=\"text-align: right;\">\n",
              "      <th></th>\n",
              "      <th>No</th>\n",
              "      <th>Name</th>\n",
              "      <th>Pos</th>\n",
              "      <th>Status</th>\n",
              "      <th>Height</th>\n",
              "      <th>Weight</th>\n",
              "      <th>Birthdate</th>\n",
              "      <th>Exp</th>\n",
              "      <th>College</th>\n",
              "      <th>Team</th>\n",
              "    </tr>\n",
              "  </thead>\n",
              "  <tbody>\n",
              "    <tr>\n",
              "      <th>0</th>\n",
              "      <td>23</td>\n",
              "      <td>Alford, Robert</td>\n",
              "      <td>CB</td>\n",
              "      <td>ACT</td>\n",
              "      <td>5'10\"</td>\n",
              "      <td>186</td>\n",
              "      <td>11/1/1988</td>\n",
              "      <td>7</td>\n",
              "      <td>Southeastern Louisiana</td>\n",
              "      <td>ARI</td>\n",
              "    </tr>\n",
              "    <tr>\n",
              "      <th>1</th>\n",
              "      <td>97</td>\n",
              "      <td>Allen, Zach</td>\n",
              "      <td>DE</td>\n",
              "      <td>ACT</td>\n",
              "      <td>6'5\"</td>\n",
              "      <td>285</td>\n",
              "      <td>8/20/1997</td>\n",
              "      <td>0</td>\n",
              "      <td>Boston College</td>\n",
              "      <td>ARI</td>\n",
              "    </tr>\n",
              "    <tr>\n",
              "      <th>2</th>\n",
              "      <td>3</td>\n",
              "      <td>Anderson, Drew</td>\n",
              "      <td>QB</td>\n",
              "      <td>ACT</td>\n",
              "      <td>6'4\"</td>\n",
              "      <td>221</td>\n",
              "      <td>10/18/1995</td>\n",
              "      <td>0</td>\n",
              "      <td>Murray State</td>\n",
              "      <td>ARI</td>\n",
              "    </tr>\n",
              "    <tr>\n",
              "      <th>3</th>\n",
              "      <td>71</td>\n",
              "      <td>Bailey, Sterling</td>\n",
              "      <td>DE</td>\n",
              "      <td>ACT</td>\n",
              "      <td>6'3\"</td>\n",
              "      <td>296</td>\n",
              "      <td>9/13/1992</td>\n",
              "      <td>1</td>\n",
              "      <td>Georgia</td>\n",
              "      <td>ARI</td>\n",
              "    </tr>\n",
              "    <tr>\n",
              "      <th>4</th>\n",
              "      <td>32</td>\n",
              "      <td>Baker, Budda</td>\n",
              "      <td>SS</td>\n",
              "      <td>ACT</td>\n",
              "      <td>5'10\"</td>\n",
              "      <td>195</td>\n",
              "      <td>1/10/1996</td>\n",
              "      <td>3</td>\n",
              "      <td>Washington</td>\n",
              "      <td>ARI</td>\n",
              "    </tr>\n",
              "  </tbody>\n",
              "</table>\n",
              "</div>"
            ],
            "text/plain": [
              "   No              Name Pos Status  ...   Birthdate Exp                 College Team\n",
              "0  23    Alford, Robert  CB    ACT  ...   11/1/1988   7  Southeastern Louisiana  ARI\n",
              "1  97       Allen, Zach  DE    ACT  ...   8/20/1997   0          Boston College  ARI\n",
              "2   3    Anderson, Drew  QB    ACT  ...  10/18/1995   0            Murray State  ARI\n",
              "3  71  Bailey, Sterling  DE    ACT  ...   9/13/1992   1                 Georgia  ARI\n",
              "4  32      Baker, Budda  SS    ACT  ...   1/10/1996   3              Washington  ARI\n",
              "\n",
              "[5 rows x 10 columns]"
            ]
          },
          "metadata": {
            "tags": []
          },
          "execution_count": 14
        }
      ]
    },
    {
      "cell_type": "markdown",
      "metadata": {
        "colab_type": "text",
        "id": "FOvEGMysLaE2"
      },
      "source": [
        "Why is it different from normal? To better reflect the tendencies of small data and situations with unknown population standard deviation. In other words, the normal distribution is still the nice pure ideal (thanks to the central limit theorem), but the t-distribution is much more useful in many real-world situations."
      ]
    },
    {
      "cell_type": "markdown",
      "metadata": {
        "colab_type": "text",
        "id": "1yx_QilAEC6o"
      },
      "source": [
        "## Live Lecture - let's perform and interpret a t-test\n",
        "\n",
        "We'll generate our own data, so we can know and alter the \"ground truth\" that the t-test should find. We will learn about p-values and how to interpret \"statistical significance\" based on the output of a hypothesis test. We will also dig a bit deeper into how the test statistic is calculated based on the sample error, and visually what it looks like to have 1 or 2 \"tailed\" t-tests."
      ]
    },
    {
      "cell_type": "code",
      "metadata": {
        "colab_type": "code",
        "id": "BuysRPs-Ed0v",
        "colab": {}
      },
      "source": [
        "# TODO - during class, but please help!\n",
        "\n",
        "from scipy.stats import ttest_ind, ttest_ind_from_stats, ttest_rel"
      ],
      "execution_count": 0,
      "outputs": []
    },
    {
      "cell_type": "code",
      "metadata": {
        "id": "7RCR1hpP7_0a",
        "colab_type": "code",
        "colab": {}
      },
      "source": [
        "# Creating sample of 1000 and 800\n",
        "burnerA=np.random.normal(180,5,1000)\n",
        "burnerB=np.random.normal(178.5,4.25,800)"
      ],
      "execution_count": 0,
      "outputs": []
    },
    {
      "cell_type": "code",
      "metadata": {
        "id": "DKxgaiNIPeTn",
        "colab_type": "code",
        "colab": {
          "base_uri": "https://localhost:8080/",
          "height": 67
        },
        "outputId": "2110591e-dfd8-4a07-953a-2fe620465dc3"
      },
      "source": [
        "#look first 10\n",
        "burnerA[:10]"
      ],
      "execution_count": 17,
      "outputs": [
        {
          "output_type": "execute_result",
          "data": {
            "text/plain": [
              "array([176.64211268, 191.20479426, 186.34996155, 175.6303955 ,\n",
              "       182.76112671, 175.05384417, 183.60008416, 177.57487147,\n",
              "       169.37430308, 178.50950513])"
            ]
          },
          "metadata": {
            "tags": []
          },
          "execution_count": 17
        }
      ]
    },
    {
      "cell_type": "code",
      "metadata": {
        "id": "dnNEmJ3tPxSV",
        "colab_type": "code",
        "colab": {
          "base_uri": "https://localhost:8080/",
          "height": 67
        },
        "outputId": "97e2504e-6d72-49d1-f0b1-8a2942476afe"
      },
      "source": [
        "burnerB[:10]"
      ],
      "execution_count": 18,
      "outputs": [
        {
          "output_type": "execute_result",
          "data": {
            "text/plain": [
              "array([186.8699115 , 171.13370416, 176.81360981, 175.62448659,\n",
              "       178.14944861, 180.06851848, 176.42229667, 182.3156441 ,\n",
              "       182.61553244, 167.52695877])"
            ]
          },
          "metadata": {
            "tags": []
          },
          "execution_count": 18
        }
      ]
    },
    {
      "cell_type": "code",
      "metadata": {
        "id": "UVgqxFgUP3e_",
        "colab_type": "code",
        "colab": {
          "base_uri": "https://localhost:8080/",
          "height": 117
        },
        "outputId": "56be1ebb-7583-4e28-e4bb-f99ffe4b5a24"
      },
      "source": [
        "#compute stander deviation\n",
        "for sample in [burnerA, burnerB]:\n",
        "  #mu=sample.mean()\n",
        "  #print('Mean: {}'.format(mu))\n",
        "  print(f'Mean: {sample.mean()}') # compute variable in the string/ calculate during print\n",
        "  print(f'Stdv:{sample.std()}')\n",
        "  print('------------')\n"
      ],
      "execution_count": 19,
      "outputs": [
        {
          "output_type": "stream",
          "text": [
            "Mean: 180.12169142845863\n",
            "Stdv:4.968883058281202\n",
            "------------\n",
            "Mean: 178.81412099726512\n",
            "Stdv:4.1301949568450205\n",
            "------------\n"
          ],
          "name": "stdout"
        }
      ]
    },
    {
      "cell_type": "code",
      "metadata": {
        "id": "DRolqgYLyd4Q",
        "colab_type": "code",
        "colab": {
          "base_uri": "https://localhost:8080/",
          "height": 50
        },
        "outputId": "7e0de409-57f2-463d-f35c-0eaa39892b3d"
      },
      "source": [
        "tstat, pvalue = ttest_ind(burnerA, burnerB)\n",
        "print(tstat)\n",
        "print(pvalue)"
      ],
      "execution_count": 20,
      "outputs": [
        {
          "output_type": "stream",
          "text": [
            "5.969828272856324\n",
            "2.854839381496588e-09\n"
          ],
          "name": "stdout"
        }
      ]
    },
    {
      "cell_type": "code",
      "metadata": {
        "id": "njmJhxTiyd51",
        "colab_type": "code",
        "colab": {
          "base_uri": "https://localhost:8080/",
          "height": 298
        },
        "outputId": "c6b65420-09fe-409a-fa8a-f80afb6b9fc1"
      },
      "source": [
        "sns.distplot(burnerA, color='r')\n",
        "sns.distplot(burnerB, color='b')"
      ],
      "execution_count": 23,
      "outputs": [
        {
          "output_type": "execute_result",
          "data": {
            "text/plain": [
              "<matplotlib.axes._subplots.AxesSubplot at 0x7fe7c84f7fd0>"
            ]
          },
          "metadata": {
            "tags": []
          },
          "execution_count": 23
        },
        {
          "output_type": "display_data",
          "data": {
            "image/png": "[encoded data removed]",
            "text/plain": [
              "<Figure size 432x288 with 1 Axes>"
            ]
          },
          "metadata": {
            "tags": []
          }
        }
      ]
    },
    {
      "cell_type": "code",
      "metadata": {
        "id": "yeJi5lE_yd88",
        "colab_type": "code",
        "colab": {}
      },
      "source": [
        ""
      ],
      "execution_count": 0,
      "outputs": []
    },
    {
      "cell_type": "code",
      "metadata": {
        "id": "oF8r_A32yd-k",
        "colab_type": "code",
        "colab": {}
      },
      "source": [
        ""
      ],
      "execution_count": 0,
      "outputs": []
    },
    {
      "cell_type": "code",
      "metadata": {
        "id": "WYmT2tGNyeBi",
        "colab_type": "code",
        "colab": {}
      },
      "source": [
        ""
      ],
      "execution_count": 0,
      "outputs": []
    },
    {
      "cell_type": "code",
      "metadata": {
        "id": "chv3TQIGyeDW",
        "colab_type": "code",
        "colab": {}
      },
      "source": [
        ""
      ],
      "execution_count": 0,
      "outputs": []
    },
    {
      "cell_type": "code",
      "metadata": {
        "id": "vXg5mgzwyeGV",
        "colab_type": "code",
        "colab": {}
      },
      "source": [
        ""
      ],
      "execution_count": 0,
      "outputs": []
    },
    {
      "cell_type": "code",
      "metadata": {
        "id": "E_jU0biOyeH_",
        "colab_type": "code",
        "colab": {}
      },
      "source": [
        ""
      ],
      "execution_count": 0,
      "outputs": []
    },
    {
      "cell_type": "code",
      "metadata": {
        "id": "w0LXY1C4yeLh",
        "colab_type": "code",
        "colab": {}
      },
      "source": [
        ""
      ],
      "execution_count": 0,
      "outputs": []
    },
    {
      "cell_type": "markdown",
      "metadata": {
        "id": "oUEqkoPy7zRF",
        "colab_type": "text"
      },
      "source": [
        ""
      ]
    },
    {
      "cell_type": "markdown",
      "metadata": {
        "colab_type": "text",
        "id": "wiq83guLcuAE"
      },
      "source": [
        "# Resources\n",
        "\n",
        "- https://homepage.divms.uiowa.edu/~mbognar/applets/t.html\n",
        "- https://rpsychologist.com/d3/tdist/\n",
        "- https://gallery.shinyapps.io/tdist/\n",
        "- https://en.wikipedia.org/wiki/Standard_deviation#Sample_standard_deviation_of_metabolic_rate_of_northern_fulmars\n",
        "- https://www.khanacademy.org/math/ap-statistics/two-sample-inference/two-sample-t-test-means/v/two-sample-t-test-for-difference-of-means"
      ]
    },
    {
      "cell_type": "code",
      "metadata": {
        "id": "gZHfbXNTyYEo",
        "colab_type": "code",
        "colab": {}
      },
      "source": [
        ""
      ],
      "execution_count": 0,
      "outputs": []
    }
  ]
}