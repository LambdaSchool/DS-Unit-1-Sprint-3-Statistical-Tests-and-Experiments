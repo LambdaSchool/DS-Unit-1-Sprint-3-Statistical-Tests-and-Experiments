{
  "nbformat": 4,
  "nbformat_minor": 0,
  "metadata": {
    "colab": {
      "name": "LS_DS_141_Statistics_Probability_and_Inference.ipynb",
      "version": "0.3.2",
      "provenance": [],
      "include_colab_link": true
    },
    "kernelspec": {
      "name": "python3",
      "display_name": "Python 3"
    }
  },
  "cells": [
    {
      "cell_type": "markdown",
      "metadata": {
        "id": "view-in-github",
        "colab_type": "text"
      },
      "source": [
        "<a href=\"https://colab.research.google.com/github/will-cotton4/DS-Unit-1-Sprint-4-Statistical-Tests-and-Experiments/blob/master/module1-statistics-probability-and-inference/LS_DS_141_Statistics_Probability_and_Inference.ipynb\" target=\"_parent\"><img src=\"https://colab.research.google.com/assets/colab-badge.svg\" alt=\"Open In Colab\"/></a>"
      ]
    },
    {
      "metadata": {
        "id": "eJGtmni-DezY",
        "colab_type": "text"
      },
      "cell_type": "markdown",
      "source": [
        "# Lambda School Data Science Module 141\n",
        "## Statistics, Probability, and Inference"
      ]
    },
    {
      "metadata": {
        "id": "FMhDKOFND0qY",
        "colab_type": "text"
      },
      "cell_type": "markdown",
      "source": [
        "## Prepare - examine what's available in SciPy\n",
        "\n",
        "As we delve into statistics, we'll be using more libraries - in particular the [stats package from SciPy](https://docs.scipy.org/doc/scipy/reference/tutorial/stats.html)."
      ]
    },
    {
      "metadata": {
        "id": "fQ9rkLJmEbsk",
        "colab_type": "code",
        "colab": {}
      },
      "cell_type": "code",
      "source": [
        "from scipy import stats\n",
        "dir(stats)"
      ],
      "execution_count": 0,
      "outputs": []
    },
    {
      "metadata": {
        "id": "bxW4SG_gJGlZ",
        "colab_type": "code",
        "outputId": "9f438013-4345-4333-c831-435d7df9304d",
        "colab": {
          "base_uri": "https://localhost:8080/",
          "height": 72
        }
      },
      "cell_type": "code",
      "source": [
        "# As usual, lots of stuff here! There's our friend, the normal distribution\n",
        "norm = stats.norm()\n",
        "print(norm.mean())\n",
        "print(norm.std())\n",
        "print(norm.var())"
      ],
      "execution_count": 2,
      "outputs": [
        {
          "output_type": "stream",
          "text": [
            "0.0\n",
            "1.0\n",
            "1.0\n"
          ],
          "name": "stdout"
        }
      ]
    },
    {
      "metadata": {
        "id": "RyNKPt_tJk86",
        "colab_type": "code",
        "outputId": "2d68745e-7e59-4a76-d0af-03edd86ef456",
        "colab": {
          "base_uri": "https://localhost:8080/",
          "height": 72
        }
      },
      "cell_type": "code",
      "source": [
        "# And a new friend - t\n",
        "t1 = stats.t(5)  # 5 is df \"shape\" parameter\n",
        "print(t1.mean())\n",
        "print(t1.std())\n",
        "print(t1.var())"
      ],
      "execution_count": 3,
      "outputs": [
        {
          "output_type": "stream",
          "text": [
            "0.0\n",
            "1.2909944487358056\n",
            "1.6666666666666667\n"
          ],
          "name": "stdout"
        }
      ]
    },
    {
      "metadata": {
        "id": "SRn1zMuaKgxX",
        "colab_type": "text"
      },
      "cell_type": "markdown",
      "source": [
        "![T distribution PDF with different shape parameters](https://upload.wikimedia.org/wikipedia/commons/4/41/Student_t_pdf.svg)\n",
        "\n",
        "*(Picture from [Wikipedia](https://en.wikipedia.org/wiki/Student's_t-distribution#/media/File:Student_t_pdf.svg))*\n",
        "\n",
        "The t-distribution is \"normal-ish\" - the larger the parameter (which reflects its degrees of freedom - more input data/features will increase it), the closer to true normal."
      ]
    },
    {
      "metadata": {
        "id": "seQv5unnJvpM",
        "colab_type": "code",
        "colab": {}
      },
      "cell_type": "code",
      "source": [
        "t2 = stats.t(30)  # Will be closer to normal\n",
        "print(t2.mean())\n",
        "print(t2.std())\n",
        "print(t2.var())"
      ],
      "execution_count": 0,
      "outputs": []
    },
    {
      "metadata": {
        "id": "FOvEGMysLaE2",
        "colab_type": "text"
      },
      "cell_type": "markdown",
      "source": [
        "Why is it different from normal? To better reflect the tendencies of small data and situations with unknown population standard deviation. In other words, the normal distribution is still the nice pure ideal in the limit (thanks to the central limit theorem), but the t-distribution is much more useful in many real-world situations.\n",
        "\n",
        "History sidenote - this is \"Student\":\n",
        "\n",
        "![William Sealy Gosset](https://upload.wikimedia.org/wikipedia/commons/4/42/William_Sealy_Gosset.jpg)\n",
        "\n",
        "*(Picture from [Wikipedia](https://en.wikipedia.org/wiki/File:William_Sealy_Gosset.jpg))*\n",
        "\n",
        "His real name is William Sealy Gosset, and he published under the pen name \"Student\" because he was not an academic. He was a brewer, working at Guinness and using trial and error to determine the best ways to yield barley. He's also proof that, even 100 years ago, you don't need official credentials to do real data science!"
      ]
    },
    {
      "metadata": {
        "id": "1yx_QilAEC6o",
        "colab_type": "text"
      },
      "cell_type": "markdown",
      "source": [
        "## Live Lecture - let's perform and interpret a t-test\n",
        "\n",
        "We'll generate our own data, so we can know and alter the \"ground truth\" that the t-test should find. We will learn about p-values and how to interpret \"statistical significance\" based on the output of a hypothesis test. We will also dig a bit deeper into how the test statistic is calculated based on the sample error, and visually what it looks like to have 1 or 2 \"tailed\" t-tests."
      ]
    },
    {
      "metadata": {
        "id": "BuysRPs-Ed0v",
        "colab_type": "code",
        "colab": {
          "base_uri": "https://localhost:8080/",
          "height": 348
        },
        "outputId": "ed133982-e562-45f5-c62b-ada6b953bd4c"
      },
      "cell_type": "code",
      "source": [
        "lambda_heights = [72, 72, 77, 72, 73, 67, 64, 58, 63, 78]\n",
        "\n",
        "import pandas as pd\n",
        "df = pd.DataFrame({'heights': lambda_heights})\n",
        "df.head(10)"
      ],
      "execution_count": 5,
      "outputs": [
        {
          "output_type": "execute_result",
          "data": {
            "text/html": [
              "<div>\n",
              "<style scoped>\n",
              "    .dataframe tbody tr th:only-of-type {\n",
              "        vertical-align: middle;\n",
              "    }\n",
              "\n",
              "    .dataframe tbody tr th {\n",
              "        vertical-align: top;\n",
              "    }\n",
              "\n",
              "    .dataframe thead th {\n",
              "        text-align: right;\n",
              "    }\n",
              "</style>\n",
              "<table border=\"1\" class=\"dataframe\">\n",
              "  <thead>\n",
              "    <tr style=\"text-align: right;\">\n",
              "      <th></th>\n",
              "      <th>heights</th>\n",
              "    </tr>\n",
              "  </thead>\n",
              "  <tbody>\n",
              "    <tr>\n",
              "      <th>0</th>\n",
              "      <td>72</td>\n",
              "    </tr>\n",
              "    <tr>\n",
              "      <th>1</th>\n",
              "      <td>72</td>\n",
              "    </tr>\n",
              "    <tr>\n",
              "      <th>2</th>\n",
              "      <td>77</td>\n",
              "    </tr>\n",
              "    <tr>\n",
              "      <th>3</th>\n",
              "      <td>72</td>\n",
              "    </tr>\n",
              "    <tr>\n",
              "      <th>4</th>\n",
              "      <td>73</td>\n",
              "    </tr>\n",
              "    <tr>\n",
              "      <th>5</th>\n",
              "      <td>67</td>\n",
              "    </tr>\n",
              "    <tr>\n",
              "      <th>6</th>\n",
              "      <td>64</td>\n",
              "    </tr>\n",
              "    <tr>\n",
              "      <th>7</th>\n",
              "      <td>58</td>\n",
              "    </tr>\n",
              "    <tr>\n",
              "      <th>8</th>\n",
              "      <td>63</td>\n",
              "    </tr>\n",
              "    <tr>\n",
              "      <th>9</th>\n",
              "      <td>78</td>\n",
              "    </tr>\n",
              "  </tbody>\n",
              "</table>\n",
              "</div>"
            ],
            "text/plain": [
              "   heights\n",
              "0       72\n",
              "1       72\n",
              "2       77\n",
              "3       72\n",
              "4       73\n",
              "5       67\n",
              "6       64\n",
              "7       58\n",
              "8       63\n",
              "9       78"
            ]
          },
          "metadata": {
            "tags": []
          },
          "execution_count": 5
        }
      ]
    },
    {
      "metadata": {
        "id": "d_2Q50b2vDTd",
        "colab_type": "code",
        "colab": {
          "base_uri": "https://localhost:8080/",
          "height": 35
        },
        "outputId": "052e9cb9-85d3-469d-cba7-c583b62558ce"
      },
      "cell_type": "code",
      "source": [
        "df.heights.mean()"
      ],
      "execution_count": 7,
      "outputs": [
        {
          "output_type": "execute_result",
          "data": {
            "text/plain": [
              "69.6"
            ]
          },
          "metadata": {
            "tags": []
          },
          "execution_count": 7
        }
      ]
    },
    {
      "metadata": {
        "id": "-qLaEhn9zYW7",
        "colab_type": "code",
        "colab": {}
      },
      "cell_type": "code",
      "source": [
        "import random\n",
        "random.seed(10)\n",
        "population = []\n",
        "\n",
        "for _ in range(1000):\n",
        "  population.append(random.randint(0,1))\n",
        "  \n"
      ],
      "execution_count": 0,
      "outputs": []
    },
    {
      "metadata": {
        "id": "UijXXQ11z8GT",
        "colab_type": "code",
        "colab": {}
      },
      "cell_type": "code",
      "source": [
        "sample = random.sample(population, 100)"
      ],
      "execution_count": 0,
      "outputs": []
    },
    {
      "metadata": {
        "id": "cR8WU3DS0Ldj",
        "colab_type": "code",
        "colab": {
          "base_uri": "https://localhost:8080/",
          "height": 54
        },
        "outputId": "cfb8aa65-7f77-4f46-e5f6-e4b42c07587a"
      },
      "cell_type": "code",
      "source": [
        "import numpy as np\n",
        "\n",
        "print(np.mean(population))\n",
        "print(np.mean(sample))\n"
      ],
      "execution_count": 29,
      "outputs": [
        {
          "output_type": "stream",
          "text": [
            "0.507\n",
            "0.46\n"
          ],
          "name": "stdout"
        }
      ]
    },
    {
      "metadata": {
        "id": "C74hvjCQ1Jxa",
        "colab_type": "code",
        "colab": {
          "base_uri": "https://localhost:8080/",
          "height": 35
        },
        "outputId": "d741f24e-93c4-4130-a03b-ba98045738ed"
      },
      "cell_type": "code",
      "source": [
        "df = pd.DataFrame({'likes_coke': sample})\n",
        "df.likes_coke.mean()"
      ],
      "execution_count": 30,
      "outputs": [
        {
          "output_type": "execute_result",
          "data": {
            "text/plain": [
              "0.46"
            ]
          },
          "metadata": {
            "tags": []
          },
          "execution_count": 30
        }
      ]
    },
    {
      "metadata": {
        "id": "nhhU-PWb1keT",
        "colab_type": "code",
        "colab": {
          "base_uri": "https://localhost:8080/",
          "height": 364
        },
        "outputId": "41a97f25-921b-4cd4-cb39-22719b84240b"
      },
      "cell_type": "code",
      "source": [
        "df.plot.hist()"
      ],
      "execution_count": 31,
      "outputs": [
        {
          "output_type": "execute_result",
          "data": {
            "text/plain": [
              "<matplotlib.axes._subplots.AxesSubplot at 0x7f45b1fb1128>"
            ]
          },
          "metadata": {
            "tags": []
          },
          "execution_count": 31
        },
        {
          "output_type": "display_data",
          "data": {
            "image/png": "[encoded data removed]",
            "text/plain": [
              "<Figure size 576x396 with 1 Axes>"
            ]
          },
          "metadata": {
            "tags": []
          }
        }
      ]
    },
    {
      "metadata": {
        "id": "ZidueQcq2C0x",
        "colab_type": "code",
        "colab": {
          "base_uri": "https://localhost:8080/",
          "height": 34
        },
        "outputId": "69537e46-ba11-405b-ebb4-811bee284c15"
      },
      "cell_type": "code",
      "source": [
        "from scipy import stats\n",
        "stats.ttest_1samp(df['likes_coke'], np.mean(population))"
      ],
      "execution_count": 35,
      "outputs": [
        {
          "output_type": "execute_result",
          "data": {
            "text/plain": [
              "Ttest_1sampResult(statistic=-0.9382955561680112, pvalue=0.3503760732929039)"
            ]
          },
          "metadata": {
            "tags": []
          },
          "execution_count": 35
        }
      ]
    },
    {
      "metadata": {
        "id": "4Atm2VQ13EBc",
        "colab_type": "code",
        "colab": {
          "base_uri": "https://localhost:8080/",
          "height": 34
        },
        "outputId": "eca7a310-b65a-44c4-9fe8-c89be3fb4de1"
      },
      "cell_type": "code",
      "source": [
        "df['likes_coke'].var()"
      ],
      "execution_count": 37,
      "outputs": [
        {
          "output_type": "execute_result",
          "data": {
            "text/plain": [
              "0.250909090909091"
            ]
          },
          "metadata": {
            "tags": []
          },
          "execution_count": 37
        }
      ]
    },
    {
      "metadata": {
        "id": "8EAEOGJZ633R",
        "colab_type": "code",
        "colab": {
          "base_uri": "https://localhost:8080/",
          "height": 34
        },
        "outputId": "4cbbb1fc-894d-4d10-c058-48cf6cb75158"
      },
      "cell_type": "code",
      "source": [
        "df['likes_coke'].std()"
      ],
      "execution_count": 38,
      "outputs": [
        {
          "output_type": "execute_result",
          "data": {
            "text/plain": [
              "0.5009082659620332"
            ]
          },
          "metadata": {
            "tags": []
          },
          "execution_count": 38
        }
      ]
    },
    {
      "metadata": {
        "id": "COwAkMmhX1XD",
        "colab_type": "code",
        "colab": {
          "base_uri": "https://localhost:8080/",
          "height": 34
        },
        "outputId": "3b9f0885-16cc-491e-99da-fecff333b719"
      },
      "cell_type": "code",
      "source": [
        "scipy.stats.ttest_1samp(df['likes_coke'], .5)"
      ],
      "execution_count": 40,
      "outputs": [
        {
          "output_type": "execute_result",
          "data": {
            "text/plain": [
              "Ttest_1sampResult(statistic=-0.7985494095046901, pvalue=0.4264632540527489)"
            ]
          },
          "metadata": {
            "tags": []
          },
          "execution_count": 40
        }
      ]
    },
    {
      "metadata": {
        "id": "egXb7YpqEcZF",
        "colab_type": "text"
      },
      "cell_type": "markdown",
      "source": [
        "## Assignment - apply the t-test to real data\n",
        "\n",
        "Your assignment is to determine which issues have \"statistically significant\" differences between political parties in this [1980s congressional voting data](https://archive.ics.uci.edu/ml/datasets/Congressional+Voting+Records). The data consists of 435 instances (one for each congressperson), a class (democrat or republican), and 16 binary attributes (yes or no for voting for or against certain issues). Be aware - there are missing values!\n",
        "\n",
        "Your goals:\n",
        "\n",
        "1. Load and clean the data (or determine the best method to drop observations when running tests)\n",
        "2. Using hypothesis testing, find an issue that democrats support more than republicans with p < 0.01\n",
        "3. Using hypothesis testing, find an issue that republicans support more than democrats with p < 0.01\n",
        "4. Using hypothesis testing, find an issue where the difference between republicans and democrats has p > 0.1 (i.e. there may not be much of a difference)\n",
        "\n",
        "Note that this data will involve *2 sample* t-tests, because you're comparing averages across two groups (republicans and democrats) rather than a single group against a null hypothesis.\n",
        "\n",
        "Stretch goals:\n",
        "\n",
        "1. Refactor your code into functions so it's easy to rerun with arbitrary variables\n",
        "2. Apply hypothesis testing to your personal project data (for the purposes of this notebook you can type a summary of the hypothesis you formed and tested)"
      ]
    },
    {
      "metadata": {
        "id": "Q8X-u84EZMFY",
        "colab_type": "text"
      },
      "cell_type": "markdown",
      "source": [
        "From the dataset description, our attributes:\n",
        "\n",
        "1. Class Name: 2 (democrat, republican) \n",
        "2. handicapped-infants: 2 (y,n) \n",
        "3. water-project-cost-sharing: 2 (y,n) \n",
        "4. adoption-of-the-budget-resolution: 2 (y,n) \n",
        "5. physician-fee-freeze: 2 (y,n) \n",
        "6. el-salvador-aid: 2 (y,n) \n",
        "7. religious-groups-in-schools: 2 (y,n) \n",
        "8. anti-satellite-test-ban: 2 (y,n) \n",
        "9. aid-to-nicaraguan-contras: 2 (y,n) \n",
        "10. mx-missile: 2 (y,n) \n",
        "11. immigration: 2 (y,n) \n",
        "12. synfuels-corporation-cutback: 2 (y,n) \n",
        "13. education-spending: 2 (y,n) \n",
        "14. superfund-right-to-sue: 2 (y,n) \n",
        "15. crime: 2 (y,n) \n",
        "16. duty-free-exports: 2 (y,n) \n",
        "17. export-administration-act-south-africa: 2 (y,n)"
      ]
    },
    {
      "metadata": {
        "id": "cTpt-wDfZUXG",
        "colab_type": "code",
        "colab": {}
      },
      "cell_type": "code",
      "source": [
        "col_names = ['is_republican',\n",
        "             'handicapped-infants',\n",
        "             'water-project',\n",
        "             'budget',\n",
        "             'physician-fee-freeze',\n",
        "             'el-salvador-aid',\n",
        "             'religious-groups-in-schools',\n",
        "             'anti-satellite-test-ban',\n",
        "             'aid-to-nicaraguan-contras',\n",
        "             'mx-missile',\n",
        "             'immigration',\n",
        "             'synfuels-corporation-cutback',\n",
        "             'education-spending',\n",
        "             'superfund-right-to-sue',\n",
        "             'crime',\n",
        "             'duty-free-exports',\n",
        "             'south-africa']"
      ],
      "execution_count": 0,
      "outputs": []
    },
    {
      "metadata": {
        "id": "nstrmCG-Ecyk",
        "colab_type": "code",
        "colab": {}
      },
      "cell_type": "code",
      "source": [
        "# TODO - your code here!\n",
        "congress_url = 'https://archive.ics.uci.edu/ml/machine-learning-databases/voting-records/house-votes-84.data'\n",
        "congress_votes = pd.read_csv(congress_url, names = col_names)"
      ],
      "execution_count": 0,
      "outputs": []
    },
    {
      "metadata": {
        "id": "hwiwuorOYM9D",
        "colab_type": "code",
        "colab": {}
      },
      "cell_type": "code",
      "source": [
        "congress_votes = congress_votes.replace('?', np.NaN)\n",
        "congress_votes['is_republican'] = congress_votes['is_republican'].replace({'republican': 1, 'democrat': 0})"
      ],
      "execution_count": 0,
      "outputs": []
    },
    {
      "metadata": {
        "id": "GwVt9pnHY2Oy",
        "colab_type": "code",
        "colab": {
          "base_uri": "https://localhost:8080/",
          "height": 323
        },
        "outputId": "731bf6e6-617b-4c5b-aab8-89d32d076dca"
      },
      "cell_type": "code",
      "source": [
        "congress_votes.isnull().sum()"
      ],
      "execution_count": 53,
      "outputs": [
        {
          "output_type": "execute_result",
          "data": {
            "text/plain": [
              "is_republican                     0\n",
              "handicapped-infants              12\n",
              "water-project                    48\n",
              "budget                           11\n",
              "physician-fee-freeze             11\n",
              "el-salvador-aid                  15\n",
              "religious-groups-in-schools      11\n",
              "anti-satellite-test-ban          14\n",
              "aid-to-nicaraguan-contras        15\n",
              "mx-missile                       22\n",
              "immigration                       7\n",
              "synfuels-corporation-cutback     21\n",
              "education-spending               31\n",
              "superfund-right-to-sue           25\n",
              "crime                            17\n",
              "duty-free-exports                28\n",
              "south-africa                    104\n",
              "dtype: int64"
            ]
          },
          "metadata": {
            "tags": []
          },
          "execution_count": 53
        }
      ]
    },
    {
      "metadata": {
        "id": "E04Kn-jJciiz",
        "colab_type": "code",
        "colab": {}
      },
      "cell_type": "code",
      "source": [
        "#We'll drop this column because we're missing way too many votes.\n",
        "\n",
        "congress_votes = congress_votes.drop(columns = ['south-africa'])"
      ],
      "execution_count": 0,
      "outputs": []
    },
    {
      "metadata": {
        "id": "v73w_6-hckSt",
        "colab_type": "code",
        "colab": {
          "base_uri": "https://localhost:8080/",
          "height": 34
        },
        "outputId": "24bd47bc-1032-414f-c2d0-ea0e6951929e"
      },
      "cell_type": "code",
      "source": [
        "congress_votes.dropna().shape"
      ],
      "execution_count": 60,
      "outputs": [
        {
          "output_type": "execute_result",
          "data": {
            "text/plain": [
              "(281, 16)"
            ]
          },
          "metadata": {
            "tags": []
          },
          "execution_count": 60
        }
      ]
    },
    {
      "metadata": {
        "id": "_NU1x38mdXf4",
        "colab_type": "code",
        "colab": {
          "base_uri": "https://localhost:8080/",
          "height": 68
        },
        "outputId": "1f604d2f-e75f-4231-e9d5-79e311713ce5"
      },
      "cell_type": "code",
      "source": [
        "#That's a reasonable number of observations; to double check that everything is\n",
        "#OK, we'll make sure we still have a solid number of Rs and Ds.\n",
        "\n",
        "congress_votes.dropna()['is_republican'].value_counts()"
      ],
      "execution_count": 90,
      "outputs": [
        {
          "output_type": "execute_result",
          "data": {
            "text/plain": [
              "0    165\n",
              "1    116\n",
              "Name: is_republican, dtype: int64"
            ]
          },
          "metadata": {
            "tags": []
          },
          "execution_count": 90
        }
      ]
    },
    {
      "metadata": {
        "id": "aMLXcJKnnnMU",
        "colab_type": "code",
        "colab": {}
      },
      "cell_type": "code",
      "source": [
        "congress_votes = congress_votes.dropna()\n",
        "congress_votes = congress_votes.replace({'y': 1, 'n': 0})"
      ],
      "execution_count": 0,
      "outputs": []
    },
    {
      "metadata": {
        "id": "g0-N3tFqdvo3",
        "colab_type": "code",
        "colab": {}
      },
      "cell_type": "code",
      "source": [
        "#We'll compute the percentages of Democrat/Republican support for each bill and\n",
        "#store it in a new DataFrame:\n",
        "\n",
        "new_cols =  ['handicapped-infants',\n",
        "             'water-project',\n",
        "             'budget',\n",
        "             'physician-fee-freeze',\n",
        "             'el-salvador-aid',\n",
        "             'religious-groups-in-schools',\n",
        "             'anti-satellite-test-ban',\n",
        "             'aid-to-nicaraguan-contras',\n",
        "             'mx-missile',\n",
        "             'immigration',\n",
        "             'synfuels-corporation-cutback',\n",
        "             'education-spending',\n",
        "             'superfund-right-to-sue',\n",
        "             'crime',\n",
        "             'duty-free-exports']\n",
        "index = ['pct_dems', 'pct_repubs']\n",
        "percent_support = pd.DataFrame(index = index, columns = new_cols)\n",
        "percent_support"
      ],
      "execution_count": 0,
      "outputs": []
    },
    {
      "metadata": {
        "id": "Z5g87TY3iLKt",
        "colab_type": "code",
        "colab": {}
      },
      "cell_type": "code",
      "source": [
        "total_dems = congress_votes['is_republican'].value_counts()[0]\n",
        "total_repubs = congress_votes['is_republican'].value_counts()[1]\n",
        "\n",
        "for column in new_cols:\n",
        "  num_support = congress_votes[congress_votes['is_republican'] == 0][column].value_counts().loc['y']\n",
        "  percent_support[column].loc['pct_dems'] = num_support/total_dems\n",
        "\n",
        "for column in new_cols:\n",
        "  num_support = congress_votes[congress_votes['is_republican'] == 1][column].value_counts().loc['y']\n",
        "  percent_support[column].loc['pct_repubs'] = num_support/total_repubs\n"
      ],
      "execution_count": 0,
      "outputs": []
    },
    {
      "metadata": {
        "id": "tbMw53Pejp6f",
        "colab_type": "code",
        "colab": {
          "base_uri": "https://localhost:8080/",
          "height": 145
        },
        "outputId": "a1044246-b9fe-4b1c-e2b4-bc259578f9d9"
      },
      "cell_type": "code",
      "source": [
        "percent_support"
      ],
      "execution_count": 77,
      "outputs": [
        {
          "output_type": "execute_result",
          "data": {
            "text/html": [
              "<div>\n",
              "<style scoped>\n",
              "    .dataframe tbody tr th:only-of-type {\n",
              "        vertical-align: middle;\n",
              "    }\n",
              "\n",
              "    .dataframe tbody tr th {\n",
              "        vertical-align: top;\n",
              "    }\n",
              "\n",
              "    .dataframe thead th {\n",
              "        text-align: right;\n",
              "    }\n",
              "</style>\n",
              "<table border=\"1\" class=\"dataframe\">\n",
              "  <thead>\n",
              "    <tr style=\"text-align: right;\">\n",
              "      <th></th>\n",
              "      <th>handicapped-infants</th>\n",
              "      <th>water-project</th>\n",
              "      <th>budget</th>\n",
              "      <th>physician-fee-freeze</th>\n",
              "      <th>el-salvador-aid</th>\n",
              "      <th>religious-groups-in-schools</th>\n",
              "      <th>anti-satellite-test-ban</th>\n",
              "      <th>aid-to-nicaraguan-contras</th>\n",
              "      <th>mx-missile</th>\n",
              "      <th>immigration</th>\n",
              "      <th>synfuels-corporation-cutback</th>\n",
              "      <th>education-spending</th>\n",
              "      <th>superfund-right-to-sue</th>\n",
              "      <th>crime</th>\n",
              "      <th>duty-free-exports</th>\n",
              "    </tr>\n",
              "  </thead>\n",
              "  <tbody>\n",
              "    <tr>\n",
              "      <th>pct_dems</th>\n",
              "      <td>0.58427</td>\n",
              "      <td>0.449438</td>\n",
              "      <td>0.865169</td>\n",
              "      <td>0.0524345</td>\n",
              "      <td>0.205993</td>\n",
              "      <td>0.460674</td>\n",
              "      <td>0.749064</td>\n",
              "      <td>0.816479</td>\n",
              "      <td>0.70412</td>\n",
              "      <td>0.464419</td>\n",
              "      <td>0.483146</td>\n",
              "      <td>0.134831</td>\n",
              "      <td>0.273408</td>\n",
              "      <td>0.337079</td>\n",
              "      <td>0.599251</td>\n",
              "    </tr>\n",
              "    <tr>\n",
              "      <th>pct_repubs</th>\n",
              "      <td>0.184524</td>\n",
              "      <td>0.446429</td>\n",
              "      <td>0.130952</td>\n",
              "      <td>0.970238</td>\n",
              "      <td>0.934524</td>\n",
              "      <td>0.886905</td>\n",
              "      <td>0.232143</td>\n",
              "      <td>0.142857</td>\n",
              "      <td>0.113095</td>\n",
              "      <td>0.547619</td>\n",
              "      <td>0.125</td>\n",
              "      <td>0.803571</td>\n",
              "      <td>0.809524</td>\n",
              "      <td>0.940476</td>\n",
              "      <td>0.0833333</td>\n",
              "    </tr>\n",
              "  </tbody>\n",
              "</table>\n",
              "</div>"
            ],
            "text/plain": [
              "           handicapped-infants water-project    budget physician-fee-freeze  \\\n",
              "pct_dems               0.58427      0.449438  0.865169            0.0524345   \n",
              "pct_repubs            0.184524      0.446429  0.130952             0.970238   \n",
              "\n",
              "           el-salvador-aid religious-groups-in-schools  \\\n",
              "pct_dems          0.205993                    0.460674   \n",
              "pct_repubs        0.934524                    0.886905   \n",
              "\n",
              "           anti-satellite-test-ban aid-to-nicaraguan-contras mx-missile  \\\n",
              "pct_dems                  0.749064                  0.816479    0.70412   \n",
              "pct_repubs                0.232143                  0.142857   0.113095   \n",
              "\n",
              "           immigration synfuels-corporation-cutback education-spending  \\\n",
              "pct_dems      0.464419                     0.483146           0.134831   \n",
              "pct_repubs    0.547619                        0.125           0.803571   \n",
              "\n",
              "           superfund-right-to-sue     crime duty-free-exports  \n",
              "pct_dems                 0.273408  0.337079          0.599251  \n",
              "pct_repubs               0.809524  0.940476         0.0833333  "
            ]
          },
          "metadata": {
            "tags": []
          },
          "execution_count": 77
        }
      ]
    },
    {
      "metadata": {
        "id": "qNGXwyt1j4Bs",
        "colab_type": "code",
        "colab": {}
      },
      "cell_type": "code",
      "source": [
        "#We'll add a row comparing the difference.\n",
        "\n",
        "percent_support.loc['diff'] = (percent_support.loc['pct_dems'] - percent_support.loc['pct_repubs'])\n"
      ],
      "execution_count": 0,
      "outputs": []
    },
    {
      "metadata": {
        "id": "xDyrkc4NkMuL",
        "colab_type": "code",
        "colab": {
          "base_uri": "https://localhost:8080/",
          "height": 238
        },
        "outputId": "957cde5c-27d9-408c-ffa7-a2271d2ffb1c"
      },
      "cell_type": "code",
      "source": [
        "repub_condition = (congress_votes['is_republican'] == 1)\n",
        "dem_condition = (congress_votes['is_republican'] == 0)\n",
        "\n",
        "sig_diff = []\n",
        "\n",
        "for column in new_cols:\n",
        "  pval = stats.ttest_ind(congress_votes[repub_condition][column],\n",
        "                        congress_votes[dem_condition][column]).pvalue\n",
        "  if pval <= 0.01:\n",
        "    print('Signficance for', column, 'is', pval)\n",
        "    sig_diff.append(column)"
      ],
      "execution_count": 100,
      "outputs": [
        {
          "output_type": "stream",
          "text": [
            "Signficance for handicapped-infants is 5.644221786673739e-12\n",
            "Signficance for budget is 2.863437444938452e-45\n",
            "Signficance for physician-fee-freeze is 2.7383164062751773e-112\n",
            "Signficance for el-salvador-aid is 1.2747165657645727e-46\n",
            "Signficance for religious-groups-in-schools is 2.8092485067651604e-14\n",
            "Signficance for anti-satellite-test-ban is 9.749387220847724e-20\n",
            "Signficance for aid-to-nicaraguan-contras is 5.723880384154964e-38\n",
            "Signficance for mx-missile is 1.457289646682083e-32\n",
            "Signficance for synfuels-corporation-cutback is 1.985008934991203e-10\n",
            "Signficance for education-spending is 5.024855474636303e-42\n",
            "Signficance for superfund-right-to-sue is 3.857553707768602e-22\n",
            "Signficance for crime is 7.720583588606854e-33\n",
            "Signficance for duty-free-exports is 1.2589639334382812e-19\n"
          ],
          "name": "stdout"
        }
      ]
    },
    {
      "metadata": {
        "id": "e4gdb8Y7o639",
        "colab_type": "code",
        "colab": {
          "base_uri": "https://localhost:8080/",
          "height": 176
        },
        "outputId": "92f81d99-cd7c-47d4-84b5-0abdcab3f509"
      },
      "cell_type": "code",
      "source": [
        "#Here are all those stats:\n",
        "\n",
        "percent_support[sig_diff]"
      ],
      "execution_count": 101,
      "outputs": [
        {
          "output_type": "execute_result",
          "data": {
            "text/html": [
              "<div>\n",
              "<style scoped>\n",
              "    .dataframe tbody tr th:only-of-type {\n",
              "        vertical-align: middle;\n",
              "    }\n",
              "\n",
              "    .dataframe tbody tr th {\n",
              "        vertical-align: top;\n",
              "    }\n",
              "\n",
              "    .dataframe thead th {\n",
              "        text-align: right;\n",
              "    }\n",
              "</style>\n",
              "<table border=\"1\" class=\"dataframe\">\n",
              "  <thead>\n",
              "    <tr style=\"text-align: right;\">\n",
              "      <th></th>\n",
              "      <th>handicapped-infants</th>\n",
              "      <th>budget</th>\n",
              "      <th>physician-fee-freeze</th>\n",
              "      <th>el-salvador-aid</th>\n",
              "      <th>religious-groups-in-schools</th>\n",
              "      <th>anti-satellite-test-ban</th>\n",
              "      <th>aid-to-nicaraguan-contras</th>\n",
              "      <th>mx-missile</th>\n",
              "      <th>synfuels-corporation-cutback</th>\n",
              "      <th>education-spending</th>\n",
              "      <th>superfund-right-to-sue</th>\n",
              "      <th>crime</th>\n",
              "      <th>duty-free-exports</th>\n",
              "    </tr>\n",
              "  </thead>\n",
              "  <tbody>\n",
              "    <tr>\n",
              "      <th>pct_dems</th>\n",
              "      <td>0.58427</td>\n",
              "      <td>0.865169</td>\n",
              "      <td>0.0524345</td>\n",
              "      <td>0.205993</td>\n",
              "      <td>0.460674</td>\n",
              "      <td>0.749064</td>\n",
              "      <td>0.816479</td>\n",
              "      <td>0.70412</td>\n",
              "      <td>0.483146</td>\n",
              "      <td>0.134831</td>\n",
              "      <td>0.273408</td>\n",
              "      <td>0.337079</td>\n",
              "      <td>0.599251</td>\n",
              "    </tr>\n",
              "    <tr>\n",
              "      <th>pct_repubs</th>\n",
              "      <td>0.184524</td>\n",
              "      <td>0.130952</td>\n",
              "      <td>0.970238</td>\n",
              "      <td>0.934524</td>\n",
              "      <td>0.886905</td>\n",
              "      <td>0.232143</td>\n",
              "      <td>0.142857</td>\n",
              "      <td>0.113095</td>\n",
              "      <td>0.125</td>\n",
              "      <td>0.803571</td>\n",
              "      <td>0.809524</td>\n",
              "      <td>0.940476</td>\n",
              "      <td>0.0833333</td>\n",
              "    </tr>\n",
              "    <tr>\n",
              "      <th>diff</th>\n",
              "      <td>0.399746</td>\n",
              "      <td>0.734216</td>\n",
              "      <td>-0.917804</td>\n",
              "      <td>-0.728531</td>\n",
              "      <td>-0.426231</td>\n",
              "      <td>0.516921</td>\n",
              "      <td>0.673622</td>\n",
              "      <td>0.591025</td>\n",
              "      <td>0.358146</td>\n",
              "      <td>-0.66874</td>\n",
              "      <td>-0.536116</td>\n",
              "      <td>-0.603398</td>\n",
              "      <td>0.515918</td>\n",
              "    </tr>\n",
              "  </tbody>\n",
              "</table>\n",
              "</div>"
            ],
            "text/plain": [
              "           handicapped-infants    budget physician-fee-freeze el-salvador-aid  \\\n",
              "pct_dems               0.58427  0.865169            0.0524345        0.205993   \n",
              "pct_repubs            0.184524  0.130952             0.970238        0.934524   \n",
              "diff                  0.399746  0.734216            -0.917804       -0.728531   \n",
              "\n",
              "           religious-groups-in-schools anti-satellite-test-ban  \\\n",
              "pct_dems                      0.460674                0.749064   \n",
              "pct_repubs                    0.886905                0.232143   \n",
              "diff                         -0.426231                0.516921   \n",
              "\n",
              "           aid-to-nicaraguan-contras mx-missile synfuels-corporation-cutback  \\\n",
              "pct_dems                    0.816479    0.70412                     0.483146   \n",
              "pct_repubs                  0.142857   0.113095                        0.125   \n",
              "diff                        0.673622   0.591025                     0.358146   \n",
              "\n",
              "           education-spending superfund-right-to-sue     crime  \\\n",
              "pct_dems             0.134831               0.273408  0.337079   \n",
              "pct_repubs           0.803571               0.809524  0.940476   \n",
              "diff                 -0.66874              -0.536116 -0.603398   \n",
              "\n",
              "           duty-free-exports  \n",
              "pct_dems            0.599251  \n",
              "pct_repubs         0.0833333  \n",
              "diff                0.515918  "
            ]
          },
          "metadata": {
            "tags": []
          },
          "execution_count": 101
        }
      ]
    },
    {
      "metadata": {
        "id": "APMuveZqpYIt",
        "colab_type": "code",
        "colab": {
          "base_uri": "https://localhost:8080/",
          "height": 51
        },
        "outputId": "dbc09fc4-68b1-436f-a52f-645e40119c0d"
      },
      "cell_type": "code",
      "source": [
        "non_sig_diff = []\n",
        "for column in new_cols:\n",
        "  pval = stats.ttest_ind(congress_votes[repub_condition][column],\n",
        "                        congress_votes[dem_condition][column]).pvalue\n",
        "  if pval > 0.01:\n",
        "    print('No signficance for', column)\n",
        "    non_sig_diff.append(column)"
      ],
      "execution_count": 103,
      "outputs": [
        {
          "output_type": "stream",
          "text": [
            "No signficance for water-project\n",
            "No signficance for immigration\n"
          ],
          "name": "stdout"
        }
      ]
    },
    {
      "metadata": {
        "id": "H6kQH7X1phrj",
        "colab_type": "code",
        "colab": {
          "base_uri": "https://localhost:8080/",
          "height": 142
        },
        "outputId": "de4e8429-4fa0-4b83-c3f2-aa4c99d74182"
      },
      "cell_type": "code",
      "source": [
        "percent_support[non_sig_diff]"
      ],
      "execution_count": 104,
      "outputs": [
        {
          "output_type": "execute_result",
          "data": {
            "text/html": [
              "<div>\n",
              "<style scoped>\n",
              "    .dataframe tbody tr th:only-of-type {\n",
              "        vertical-align: middle;\n",
              "    }\n",
              "\n",
              "    .dataframe tbody tr th {\n",
              "        vertical-align: top;\n",
              "    }\n",
              "\n",
              "    .dataframe thead th {\n",
              "        text-align: right;\n",
              "    }\n",
              "</style>\n",
              "<table border=\"1\" class=\"dataframe\">\n",
              "  <thead>\n",
              "    <tr style=\"text-align: right;\">\n",
              "      <th></th>\n",
              "      <th>water-project</th>\n",
              "      <th>immigration</th>\n",
              "    </tr>\n",
              "  </thead>\n",
              "  <tbody>\n",
              "    <tr>\n",
              "      <th>pct_dems</th>\n",
              "      <td>0.449438</td>\n",
              "      <td>0.464419</td>\n",
              "    </tr>\n",
              "    <tr>\n",
              "      <th>pct_repubs</th>\n",
              "      <td>0.446429</td>\n",
              "      <td>0.547619</td>\n",
              "    </tr>\n",
              "    <tr>\n",
              "      <th>diff</th>\n",
              "      <td>0.00300963</td>\n",
              "      <td>-0.0831996</td>\n",
              "    </tr>\n",
              "  </tbody>\n",
              "</table>\n",
              "</div>"
            ],
            "text/plain": [
              "           water-project immigration\n",
              "pct_dems        0.449438    0.464419\n",
              "pct_repubs      0.446429    0.547619\n",
              "diff          0.00300963  -0.0831996"
            ]
          },
          "metadata": {
            "tags": []
          },
          "execution_count": 104
        }
      ]
    },
    {
      "metadata": {
        "id": "wiq83guLcuAE",
        "colab_type": "text"
      },
      "cell_type": "markdown",
      "source": [
        "# Resources\n",
        "\n",
        "- https://homepage.divms.uiowa.edu/~mbognar/applets/t.html\n",
        "- https://rpsychologist.com/d3/tdist/\n",
        "- https://gallery.shinyapps.io/tdist/\n",
        "- https://en.wikipedia.org/wiki/Standard_deviation#Sample_standard_deviation_of_metabolic_rate_of_northern_fulmars"
      ]
    }
  ]
}