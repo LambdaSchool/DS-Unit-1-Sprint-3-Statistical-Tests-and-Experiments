{
  "nbformat": 4,
  "nbformat_minor": 0,
  "metadata": {
    "colab": {
      "name": "LS DS 141 Statistics Probability and Inference.ipynb",
      "version": "0.3.2",
      "provenance": [],
      "include_colab_link": true
    },
    "kernelspec": {
      "name": "python3",
      "display_name": "Python 3"
    }
  },
  "cells": [
    {
      "cell_type": "markdown",
      "metadata": {
        "id": "view-in-github",
        "colab_type": "text"
      },
      "source": [
        "<a href=\"https://colab.research.google.com/github/quinn-dougherty/DS-Unit-1-Sprint-4-Statistical-Tests-and-Experiments/blob/master/module1-statistics-probability-and-inference/LS_DS_141_Statistics_Probability_and_Inference.ipynb\" target=\"_parent\"><img src=\"https://colab.research.google.com/assets/colab-badge.svg\" alt=\"Open In Colab\"/></a>"
      ]
    },
    {
      "metadata": {
        "id": "eJGtmni-DezY",
        "colab_type": "text"
      },
      "cell_type": "markdown",
      "source": [
        "# Lambda School Data Science Module 141\n",
        "## Statistics, Probability, and Inference"
      ]
    },
    {
      "metadata": {
        "id": "FMhDKOFND0qY",
        "colab_type": "text"
      },
      "cell_type": "markdown",
      "source": [
        "## Prepare - examine what's available in SciPy\n",
        "\n",
        "As we delve into statistics, we'll be using more libraries - in particular the [stats package from SciPy](https://docs.scipy.org/doc/scipy/reference/tutorial/stats.html)."
      ]
    },
    {
      "metadata": {
        "id": "fQ9rkLJmEbsk",
        "colab_type": "code",
        "outputId": "c4b4935f-1610-41c5-b4ae-30e4b0626e7a",
        "colab": {
          "base_uri": "https://localhost:8080/",
          "height": 245
        }
      },
      "cell_type": "code",
      "source": [
        "!pip install update pandas\n",
        "import pandas as pd\n",
        "\n",
        "from scipy import stats\n",
        "# dir(stats)\n",
        "\n",
        "pd.__version__"
      ],
      "execution_count": 1,
      "outputs": [
        {
          "output_type": "stream",
          "text": [
            "Collecting update\n",
            "  Downloading https://files.pythonhosted.org/packages/9f/c4/dfe8a392edd35cc635c35cd3b20df6a746aacdeb39b685d1668b56bf819b/update-0.0.1-py2.py3-none-any.whl\n",
            "Requirement already satisfied: pandas in /usr/local/lib/python3.6/dist-packages (0.22.0)\n",
            "Collecting style==1.1.0 (from update)\n",
            "  Downloading https://files.pythonhosted.org/packages/4c/0b/6be2071e20c621e7beb01b86e8474c2ec344a9750ba5315886f24d6e7386/style-1.1.0-py2.py3-none-any.whl\n",
            "Requirement already satisfied: python-dateutil>=2 in /usr/local/lib/python3.6/dist-packages (from pandas) (2.5.3)\n",
            "Requirement already satisfied: pytz>=2011k in /usr/local/lib/python3.6/dist-packages (from pandas) (2018.7)\n",
            "Requirement already satisfied: numpy>=1.9.0 in /usr/local/lib/python3.6/dist-packages (from pandas) (1.14.6)\n",
            "Requirement already satisfied: six>=1.5 in /usr/local/lib/python3.6/dist-packages (from python-dateutil>=2->pandas) (1.11.0)\n",
            "Installing collected packages: style, update\n",
            "Successfully installed style-1.1.0 update-0.0.1\n"
          ],
          "name": "stdout"
        },
        {
          "output_type": "execute_result",
          "data": {
            "text/plain": [
              "'0.22.0'"
            ]
          },
          "metadata": {
            "tags": []
          },
          "execution_count": 1
        }
      ]
    },
    {
      "metadata": {
        "id": "bxW4SG_gJGlZ",
        "colab_type": "code",
        "outputId": "e715ad1a-883f-41e2-b070-a1106316f4e7",
        "colab": {
          "base_uri": "https://localhost:8080/",
          "height": 70
        }
      },
      "cell_type": "code",
      "source": [
        "# As usual, lots of stuff here! There's our friend, the normal distribution\n",
        "norm = stats.norm()\n",
        "print(norm.mean())\n",
        "print(norm.std())\n",
        "print(norm.var())"
      ],
      "execution_count": 0,
      "outputs": [
        {
          "output_type": "stream",
          "text": [
            "0.0\n",
            "1.0\n",
            "1.0\n"
          ],
          "name": "stdout"
        }
      ]
    },
    {
      "metadata": {
        "id": "RyNKPt_tJk86",
        "colab_type": "code",
        "outputId": "db64f558-1945-4fef-f7d7-3184212d8237",
        "colab": {
          "base_uri": "https://localhost:8080/",
          "height": 70
        }
      },
      "cell_type": "code",
      "source": [
        "# And a new friend - t\n",
        "t1 = stats.t(5)  # 5 is df \"shape\" parameter\n",
        "print(t1.mean())\n",
        "print(t1.std())\n",
        "print(t1.var())"
      ],
      "execution_count": 0,
      "outputs": [
        {
          "output_type": "stream",
          "text": [
            "0.0\n",
            "1.2909944487358056\n",
            "1.6666666666666667\n"
          ],
          "name": "stdout"
        }
      ]
    },
    {
      "metadata": {
        "id": "SRn1zMuaKgxX",
        "colab_type": "text"
      },
      "cell_type": "markdown",
      "source": [
        "![T distribution PDF with different shape parameters](https://upload.wikimedia.org/wikipedia/commons/4/41/Student_t_pdf.svg)\n",
        "\n",
        "*(Picture from [Wikipedia](https://en.wikipedia.org/wiki/Student's_t-distribution#/media/File:Student_t_pdf.svg))*\n",
        "\n",
        "The t-distribution is \"normal-ish\" - the larger the parameter (which reflects its degrees of freedom - more input data/features will increase it), the closer to true normal."
      ]
    },
    {
      "metadata": {
        "id": "seQv5unnJvpM",
        "colab_type": "code",
        "outputId": "b2f84397-b204-4864-84a1-2b29eb926bbf",
        "colab": {
          "base_uri": "https://localhost:8080/",
          "height": 70
        }
      },
      "cell_type": "code",
      "source": [
        "t2 = stats.t(30)  # Will be closer to normal\n",
        "print(t2.mean())\n",
        "print(t2.std())\n",
        "print(t2.var())"
      ],
      "execution_count": 0,
      "outputs": [
        {
          "output_type": "stream",
          "text": [
            "0.0\n",
            "1.0350983390135313\n",
            "1.0714285714285714\n"
          ],
          "name": "stdout"
        }
      ]
    },
    {
      "metadata": {
        "id": "FOvEGMysLaE2",
        "colab_type": "text"
      },
      "cell_type": "markdown",
      "source": [
        "Why is it different from normal? To better reflect the tendencies of small data and situations with unknown population standard deviation. In other words, the normal distribution is still the nice pure ideal in the limit (thanks to the central limit theorem), but the t-distribution is much more useful in many real-world situations.\n",
        "\n",
        "History sidenote - this is \"Student\":\n",
        "\n",
        "![William Sealy Gosset](https://upload.wikimedia.org/wikipedia/commons/4/42/William_Sealy_Gosset.jpg)\n",
        "\n",
        "*(Picture from [Wikipedia](https://en.wikipedia.org/wiki/File:William_Sealy_Gosset.jpg))*\n",
        "\n",
        "His real name is William Sealy Gosset, and he published under the pen name \"Student\" because he was not an academic. He was a brewer, working at Guinness and using trial and error to determine the best ways to yield barley. He's also proof that, even 100 years ago, you don't need official credentials to do real data science!"
      ]
    },
    {
      "metadata": {
        "id": "1yx_QilAEC6o",
        "colab_type": "text"
      },
      "cell_type": "markdown",
      "source": [
        "## Live Lecture - let's perform and interpret a t-test\n",
        "\n",
        "We'll generate our own data, so we can know and alter the \"ground truth\" that the t-test should find. We will learn about p-values and how to interpret \"statistical significance\" based on the output of a hypothesis test."
      ]
    },
    {
      "metadata": {
        "id": "BuysRPs-Ed0v",
        "colab_type": "code",
        "colab": {}
      },
      "cell_type": "code",
      "source": [
        "# TODO - during class, but please help!"
      ],
      "execution_count": 0,
      "outputs": []
    },
    {
      "metadata": {
        "id": "egXb7YpqEcZF",
        "colab_type": "text"
      },
      "cell_type": "markdown",
      "source": [
        "## Assignment - apply the t-test to real data\n",
        "\n",
        "Your assignment is to determine which issues have \"statistically significant\" differences between political parties in this [1980s congressional voting data](https://archive.ics.uci.edu/ml/datasets/Congressional+Voting+Records). The data consists of 435 instances (one for each congressperson), a class (democrat or republican), and 16 binary attributes (yes or no for voting for or against certain issues). Be aware - there are missing values!\n",
        "\n",
        "Your goals:\n",
        "\n",
        "1. Load and clean the data (or determine the best method to drop observations when running tests)\n",
        "2. Using hypothesis testing, find an issue that democrats support more than republicans with p < 0.01\n",
        "3. Using hypothesis testing, find an issue that republicans support more than democrats with p < 0.01\n",
        "4. Using hypothesis testing, find an issue where the difference between republicans and democrats has p > 0.1 (i.e. there may not be much of a difference)\n",
        "\n",
        "Note that this data will involve *2 sample* t-tests, because you're comparing averages across two groups (republicans and democrats) rather than a single group against a null hypothesis.\n",
        "\n",
        "Stretch goals:\n",
        "\n",
        "1. Refactor your code into functions so it's easy to rerun with arbitrary variables\n",
        "2. Apply hypothesis testing to your personal project data (for the purposes of this notebook you can type a summary of the hypothesis you formed and tested)"
      ]
    },
    {
      "metadata": {
        "id": "nstrmCG-Ecyk",
        "colab_type": "code",
        "colab": {
          "base_uri": "https://localhost:8080/",
          "height": 226
        },
        "outputId": "88b97933-92f9-4a46-e5c2-3df260c7b298"
      },
      "cell_type": "code",
      "source": [
        "from scipy import stats\n",
        "import pandas as pd\n",
        "\n",
        "url = \"https://archive.ics.uci.edu/ml/machine-learning-databases/voting-records/house-votes-84.data\"\n",
        "\n",
        "'''\n",
        "7. Attribute Information:\n",
        "   1. Class Name: 2 (democrat, republican)\n",
        "   2. handicapped-infants: 2 (y,n)\n",
        "   3. water-project-cost-sharing: 2 (y,n)\n",
        "   4. adoption-of-the-budget-resolution: 2 (y,n)\n",
        "   5. physician-fee-freeze: 2 (y,n)\n",
        "   6. el-salvador-aid: 2 (y,n)\n",
        "   7. religious-groups-in-schools: 2 (y,n)\n",
        "   8. anti-satellite-test-ban: 2 (y,n)\n",
        "   9. aid-to-nicaraguan-contras: 2 (y,n)\n",
        "  10. mx-missile: 2 (y,n)\n",
        "  11. immigration: 2 (y,n)\n",
        "  12. synfuels-corporation-cutback: 2 (y,n)\n",
        "  13. education-spending: 2 (y,n)\n",
        "  14. superfund-right-to-sue: 2 (y,n)\n",
        "  15. crime: 2 (y,n)\n",
        "  16. duty-free-exports: 2 (y,n)\n",
        "  17. export-administration-act-south-africa: 2 (y,n)\n",
        "'''\n",
        "\n",
        "feature_names = ['Party_Affil', \n",
        "           'handicapped_infants', \n",
        "           'water_project_cost_sharing', \n",
        "           'adoption_of_the_budget_resolution', \n",
        "           'physician_fee_freeze',\n",
        "           'el_salvador_aid',\n",
        "           'religious_groups_in_schools',\n",
        "           'anti_satellite_test_ban',\n",
        "           'aid_to_nicaraguan_contras',\n",
        "           'mx_missile',\n",
        "           'immigration',\n",
        "           'synfuels_corporation_cutback',\n",
        "           'education_spending',\n",
        "           'superfund_right_to_sue',\n",
        "           'crime',\n",
        "           'duty_free_exports',\n",
        "           'export_administration_act_south_africa']\n",
        "\n",
        "df_0 = pd.read_csv(url, header=None, names=feature_names)\n",
        "\n",
        "df = df_0.copy()\n",
        "numerize = {'y': 1, '?': 0.5, 'n': 0}\n",
        "\n",
        "for feat in df.columns.drop('Party_Affil'):\n",
        "  df[feat] = df_0[feat].map(numerize)\n",
        "\n",
        "df.head()"
      ],
      "execution_count": 160,
      "outputs": [
        {
          "output_type": "execute_result",
          "data": {
            "text/html": [
              "<div>\n",
              "<style scoped>\n",
              "    .dataframe tbody tr th:only-of-type {\n",
              "        vertical-align: middle;\n",
              "    }\n",
              "\n",
              "    .dataframe tbody tr th {\n",
              "        vertical-align: top;\n",
              "    }\n",
              "\n",
              "    .dataframe thead th {\n",
              "        text-align: right;\n",
              "    }\n",
              "</style>\n",
              "<table border=\"1\" class=\"dataframe\">\n",
              "  <thead>\n",
              "    <tr style=\"text-align: right;\">\n",
              "      <th></th>\n",
              "      <th>Party_Affil</th>\n",
              "      <th>handicapped_infants</th>\n",
              "      <th>water_project_cost_sharing</th>\n",
              "      <th>adoption_of_the_budget_resolution</th>\n",
              "      <th>physician_fee_freeze</th>\n",
              "      <th>el_salvador_aid</th>\n",
              "      <th>religious_groups_in_schools</th>\n",
              "      <th>anti_satellite_test_ban</th>\n",
              "      <th>aid_to_nicaraguan_contras</th>\n",
              "      <th>mx_missile</th>\n",
              "      <th>immigration</th>\n",
              "      <th>synfuels_corporation_cutback</th>\n",
              "      <th>education_spending</th>\n",
              "      <th>superfund_right_to_sue</th>\n",
              "      <th>crime</th>\n",
              "      <th>duty_free_exports</th>\n",
              "      <th>export_administration_act_south_africa</th>\n",
              "    </tr>\n",
              "  </thead>\n",
              "  <tbody>\n",
              "    <tr>\n",
              "      <th>0</th>\n",
              "      <td>republican</td>\n",
              "      <td>0.0</td>\n",
              "      <td>1.0</td>\n",
              "      <td>0.0</td>\n",
              "      <td>1.0</td>\n",
              "      <td>1.0</td>\n",
              "      <td>1.0</td>\n",
              "      <td>0.0</td>\n",
              "      <td>0.0</td>\n",
              "      <td>0.0</td>\n",
              "      <td>1.0</td>\n",
              "      <td>0.5</td>\n",
              "      <td>1.0</td>\n",
              "      <td>1.0</td>\n",
              "      <td>1.0</td>\n",
              "      <td>0.0</td>\n",
              "      <td>1.0</td>\n",
              "    </tr>\n",
              "    <tr>\n",
              "      <th>1</th>\n",
              "      <td>republican</td>\n",
              "      <td>0.0</td>\n",
              "      <td>1.0</td>\n",
              "      <td>0.0</td>\n",
              "      <td>1.0</td>\n",
              "      <td>1.0</td>\n",
              "      <td>1.0</td>\n",
              "      <td>0.0</td>\n",
              "      <td>0.0</td>\n",
              "      <td>0.0</td>\n",
              "      <td>0.0</td>\n",
              "      <td>0.0</td>\n",
              "      <td>1.0</td>\n",
              "      <td>1.0</td>\n",
              "      <td>1.0</td>\n",
              "      <td>0.0</td>\n",
              "      <td>0.5</td>\n",
              "    </tr>\n",
              "    <tr>\n",
              "      <th>2</th>\n",
              "      <td>democrat</td>\n",
              "      <td>0.5</td>\n",
              "      <td>1.0</td>\n",
              "      <td>1.0</td>\n",
              "      <td>0.5</td>\n",
              "      <td>1.0</td>\n",
              "      <td>1.0</td>\n",
              "      <td>0.0</td>\n",
              "      <td>0.0</td>\n",
              "      <td>0.0</td>\n",
              "      <td>0.0</td>\n",
              "      <td>1.0</td>\n",
              "      <td>0.0</td>\n",
              "      <td>1.0</td>\n",
              "      <td>1.0</td>\n",
              "      <td>0.0</td>\n",
              "      <td>0.0</td>\n",
              "    </tr>\n",
              "    <tr>\n",
              "      <th>3</th>\n",
              "      <td>democrat</td>\n",
              "      <td>0.0</td>\n",
              "      <td>1.0</td>\n",
              "      <td>1.0</td>\n",
              "      <td>0.0</td>\n",
              "      <td>0.5</td>\n",
              "      <td>1.0</td>\n",
              "      <td>0.0</td>\n",
              "      <td>0.0</td>\n",
              "      <td>0.0</td>\n",
              "      <td>0.0</td>\n",
              "      <td>1.0</td>\n",
              "      <td>0.0</td>\n",
              "      <td>1.0</td>\n",
              "      <td>0.0</td>\n",
              "      <td>0.0</td>\n",
              "      <td>1.0</td>\n",
              "    </tr>\n",
              "    <tr>\n",
              "      <th>4</th>\n",
              "      <td>democrat</td>\n",
              "      <td>1.0</td>\n",
              "      <td>1.0</td>\n",
              "      <td>1.0</td>\n",
              "      <td>0.0</td>\n",
              "      <td>1.0</td>\n",
              "      <td>1.0</td>\n",
              "      <td>0.0</td>\n",
              "      <td>0.0</td>\n",
              "      <td>0.0</td>\n",
              "      <td>0.0</td>\n",
              "      <td>1.0</td>\n",
              "      <td>0.5</td>\n",
              "      <td>1.0</td>\n",
              "      <td>1.0</td>\n",
              "      <td>1.0</td>\n",
              "      <td>1.0</td>\n",
              "    </tr>\n",
              "  </tbody>\n",
              "</table>\n",
              "</div>"
            ],
            "text/plain": [
              "  Party_Affil  handicapped_infants  water_project_cost_sharing  \\\n",
              "0  republican                  0.0                         1.0   \n",
              "1  republican                  0.0                         1.0   \n",
              "2    democrat                  0.5                         1.0   \n",
              "3    democrat                  0.0                         1.0   \n",
              "4    democrat                  1.0                         1.0   \n",
              "\n",
              "   adoption_of_the_budget_resolution  physician_fee_freeze  el_salvador_aid  \\\n",
              "0                                0.0                   1.0              1.0   \n",
              "1                                0.0                   1.0              1.0   \n",
              "2                                1.0                   0.5              1.0   \n",
              "3                                1.0                   0.0              0.5   \n",
              "4                                1.0                   0.0              1.0   \n",
              "\n",
              "   religious_groups_in_schools  anti_satellite_test_ban  \\\n",
              "0                          1.0                      0.0   \n",
              "1                          1.0                      0.0   \n",
              "2                          1.0                      0.0   \n",
              "3                          1.0                      0.0   \n",
              "4                          1.0                      0.0   \n",
              "\n",
              "   aid_to_nicaraguan_contras  mx_missile  immigration  \\\n",
              "0                        0.0         0.0          1.0   \n",
              "1                        0.0         0.0          0.0   \n",
              "2                        0.0         0.0          0.0   \n",
              "3                        0.0         0.0          0.0   \n",
              "4                        0.0         0.0          0.0   \n",
              "\n",
              "   synfuels_corporation_cutback  education_spending  superfund_right_to_sue  \\\n",
              "0                           0.5                 1.0                     1.0   \n",
              "1                           0.0                 1.0                     1.0   \n",
              "2                           1.0                 0.0                     1.0   \n",
              "3                           1.0                 0.0                     1.0   \n",
              "4                           1.0                 0.5                     1.0   \n",
              "\n",
              "   crime  duty_free_exports  export_administration_act_south_africa  \n",
              "0    1.0                0.0                                     1.0  \n",
              "1    1.0                0.0                                     0.5  \n",
              "2    1.0                0.0                                     0.0  \n",
              "3    0.0                0.0                                     1.0  \n",
              "4    1.0                1.0                                     1.0  "
            ]
          },
          "metadata": {
            "tags": []
          },
          "execution_count": 160
        }
      ]
    },
    {
      "metadata": {
        "id": "QIp8qlyJ_yTx",
        "colab_type": "code",
        "colab": {
          "base_uri": "https://localhost:8080/",
          "height": 34
        },
        "outputId": "77d70cf0-c035-47bb-a055-0c66e8d4b5de"
      },
      "cell_type": "code",
      "source": [
        "# Consider the inference \"all republicans are worried about crime\"\n",
        "\n",
        "def repubs_yes(feat): \n",
        "  # 1-sample T-test whether republicans are concerned with a given issue. \n",
        "  return stats.ttest_1samp(df[feat][df.Party_Affil == 'republican'], 1)\n",
        "\n",
        "repubs_yes('crime')"
      ],
      "execution_count": 161,
      "outputs": [
        {
          "output_type": "execute_result",
          "data": {
            "text/plain": [
              "Ttest_1sampResult(statistic=-3.0555015916939365, pvalue=0.002616301602863148)"
            ]
          },
          "metadata": {
            "tags": []
          },
          "execution_count": 161
        }
      ]
    },
    {
      "metadata": {
        "id": "3BC-AeXAIzoH",
        "colab_type": "code",
        "colab": {}
      },
      "cell_type": "code",
      "source": [
        ""
      ],
      "execution_count": 0,
      "outputs": []
    },
    {
      "metadata": {
        "id": "IYmEOrqOPtrz",
        "colab_type": "code",
        "colab": {}
      },
      "cell_type": "code",
      "source": [
        "\n",
        "# Using hypothesis testing, find an issue that democrats support more than republicans with p < 0.01\n",
        "# Using hypothesis testing, find an issue that republicans support more than democrats with p < 0.01\n",
        "\n",
        "def rep_more_than_dem(feat): \n",
        "  a = df[feat][df.Party_Affil == 'republican']\n",
        "  b = df[feat][df.Party_Affil == 'democrat']\n",
        "  rtn = stats.ttest_ind(a,b)\n",
        "  return rtn\n",
        "\n",
        "def dem_more_than_rep(feat): \n",
        "  a = df[feat][df.Party_Affil == 'republican']\n",
        "  b = df[feat][df.Party_Affil == 'democrat']\n",
        "  rtn = stats.ttest_ind(b,a)\n",
        "  return rtn\n"
      ],
      "execution_count": 0,
      "outputs": []
    },
    {
      "metadata": {
        "id": "e_HmDeokTloP",
        "colab_type": "code",
        "colab": {}
      },
      "cell_type": "code",
      "source": [
        "\n",
        "## theorem \n",
        "for issue in df.columns[1:]:\n",
        "  t_1 = rep_more_than_dem(issue)[0]\n",
        "  t_2 = dem_more_than_rep(issue)[0]\n",
        "  \n",
        "  assert t_1 == (0 - 1) * t_2\n",
        "  \n",
        "  p_1 = rep_more_than_dem(issue)[1]\n",
        "  p_2 = dem_more_than_rep(issue)[1]\n",
        "  \n",
        "  assert p_1==p_2\n",
        "# in plain english: searching for \"issue that republicans support more than \n",
        "# \" is equivalent to searching for \"issue that democrats search more than \n",
        "# republicans.\""
      ],
      "execution_count": 0,
      "outputs": []
    },
    {
      "metadata": {
        "id": "BbM8C5pAXe4r",
        "colab_type": "code",
        "colab": {}
      },
      "cell_type": "code",
      "source": [
        "results = pd.DataFrame(columns=['T_stat', 'p_value'])\n",
        "for issue in df.columns[1:]:\n",
        "  results.loc[issue] = list(rep_more_than_dem(issue))\n",
        "\n",
        "def min_with_index(rslts): \n",
        "  idx = rslts.p_value.idxmin()\n",
        "  mina = rslts.p_value.min()\n",
        "  return (idx, mina)\n",
        "\n",
        "# What we really want is significant results. \n",
        "# so we'll delete the ones that fail p<0.01\n",
        "significant_results = results[results.p_value < 0.01]\n",
        "\n",
        "# also have to update dataframe\n",
        "# df.drop(df[results.])\n",
        "\n",
        "df.drop(list(results[results.p_value > 0.01].index), axis=1, inplace=True)"
      ],
      "execution_count": 0,
      "outputs": []
    },
    {
      "metadata": {
        "id": "77Bh33DYXxPp",
        "colab_type": "code",
        "colab": {}
      },
      "cell_type": "code",
      "source": [
        "first_min = min_with_index(significant_results)\n",
        "\n",
        "second_min = min_with_index(significant_results.drop(first_min[0], axis=0))\n",
        "\n",
        "assert first_min[1] < 0.01\n",
        "assert first_min[1] != second_min[1]\n",
        "assert second_min[1] < 0.01\n"
      ],
      "execution_count": 0,
      "outputs": []
    },
    {
      "metadata": {
        "id": "j_PT50oEXz69",
        "colab_type": "code",
        "colab": {
          "base_uri": "https://localhost:8080/",
          "height": 503
        },
        "outputId": "6f3f604d-8a6c-49d5-dfa2-6928e1d0d43b"
      },
      "cell_type": "code",
      "source": [
        "from numpy import sign\n",
        "from decimal import Decimal\n",
        "# if (result.loc[first_min[0]][1] < ):\n",
        "#   result.loc[first_min[0]][1]\n",
        "\n",
        "def print_report(issue):\n",
        "  ## Since the assignment asked for just D or R but didn't care about magnitude, \n",
        "  # # # i'm gonna compress the t-stat into just sign. \n",
        "  sg = sign(significant_results.loc[issue][0])\n",
        "  if (sg==1): \n",
        "    party = \"Republican\"\n",
        "  else: \n",
        "    party = \"Democrat\"\n",
        "  pv = \"%.2E\" % Decimal(results.loc[issue][1])\n",
        "  s = \"On the issue of {0}, support leans {1} at p={2}.\\n\".format(issue, party, pv)\n",
        "  return s\n",
        "\n",
        "for issue in df.columns[1:]:\n",
        "  print(print_report(issue))"
      ],
      "execution_count": 166,
      "outputs": [
        {
          "output_type": "stream",
          "text": [
            "On the issue of handicapped_infants, support leans Democrat at p=1.28E-18.\n",
            "\n",
            "On the issue of adoption_of_the_budget_resolution, support leans Democrat at p=2.87E-76.\n",
            "\n",
            "On the issue of physician_fee_freeze, support leans Republican at p=3.97E-169.\n",
            "\n",
            "On the issue of el_salvador_aid, support leans Republican at p=1.47E-67.\n",
            "\n",
            "On the issue of religious_groups_in_schools, support leans Republican at p=1.14E-20.\n",
            "\n",
            "On the issue of anti_satellite_test_ban, support leans Democrat at p=1.27E-30.\n",
            "\n",
            "On the issue of aid_to_nicaraguan_contras, support leans Democrat at p=1.49E-53.\n",
            "\n",
            "On the issue of mx_missile, support leans Democrat at p=4.86E-47.\n",
            "\n",
            "On the issue of synfuels_corporation_cutback, support leans Democrat at p=2.74E-15.\n",
            "\n",
            "On the issue of education_spending, support leans Republican at p=2.38E-62.\n",
            "\n",
            "On the issue of superfund_right_to_sue, support leans Republican at p=3.20E-34.\n",
            "\n",
            "On the issue of crime, support leans Republican at p=5.10E-46.\n",
            "\n",
            "On the issue of duty_free_exports, support leans Democrat at p=2.49E-31.\n",
            "\n",
            "On the issue of export_administration_act_south_africa, support leans Democrat at p=3.92E-06.\n",
            "\n"
          ],
          "name": "stdout"
        }
      ]
    },
    {
      "metadata": {
        "id": "syWhcIs9gc8l",
        "colab_type": "code",
        "colab": {
          "base_uri": "https://localhost:8080/",
          "height": 72
        },
        "outputId": "4c96f712-c1ad-44fc-90e6-e41e4cf80668"
      },
      "cell_type": "code",
      "source": [
        "def on_the_issue_of(rs): \n",
        "  idx = rs[0]\n",
        "  pv = rs[1]\n",
        "  sg = sign(significant_results.loc[first_result[0]][0])\n",
        "  if (sg==1): \n",
        "    party = \"Republican\"\n",
        "  else: \n",
        "    party = \"Democrat\"\n",
        "  sp = \"significant result is on the issue of \"\n",
        "  s = \"{0}, which came in at {1} in favor of {2}.\".format(idx,pv,party)\n",
        "  return sp + s\n",
        "\n",
        "print(\"The most \" + on_the_issue_of(first_min))\n",
        "print(\"The second-most \" + on_the_issue_of(second_min))"
      ],
      "execution_count": 167,
      "outputs": [
        {
          "output_type": "stream",
          "text": [
            "The most significant result is on the issue of physician_fee_freeze, which came in at 3.967141133302638e-169 in favor of Republican.\n",
            "The second-most significant result is on the issue of adoption_of_the_budget_resolution, which came in at 2.872115314395808e-76 in favor of Republican.\n"
          ],
          "name": "stdout"
        }
      ]
    },
    {
      "metadata": {
        "id": "1m_qfu2BuhWG",
        "colab_type": "code",
        "colab": {
          "base_uri": "https://localhost:8080/",
          "height": 489
        },
        "outputId": "bfe84d4e-9558-40b9-d1a9-4fb296d0a4b0"
      },
      "cell_type": "code",
      "source": [
        "significant_results"
      ],
      "execution_count": 168,
      "outputs": [
        {
          "output_type": "execute_result",
          "data": {
            "text/html": [
              "<div>\n",
              "<style scoped>\n",
              "    .dataframe tbody tr th:only-of-type {\n",
              "        vertical-align: middle;\n",
              "    }\n",
              "\n",
              "    .dataframe tbody tr th {\n",
              "        vertical-align: top;\n",
              "    }\n",
              "\n",
              "    .dataframe thead th {\n",
              "        text-align: right;\n",
              "    }\n",
              "</style>\n",
              "<table border=\"1\" class=\"dataframe\">\n",
              "  <thead>\n",
              "    <tr style=\"text-align: right;\">\n",
              "      <th></th>\n",
              "      <th>T_stat</th>\n",
              "      <th>p_value</th>\n",
              "    </tr>\n",
              "  </thead>\n",
              "  <tbody>\n",
              "    <tr>\n",
              "      <th>handicapped_infants</th>\n",
              "      <td>-9.223178</td>\n",
              "      <td>1.276117e-18</td>\n",
              "    </tr>\n",
              "    <tr>\n",
              "      <th>adoption_of_the_budget_resolution</th>\n",
              "      <td>-22.821693</td>\n",
              "      <td>2.872115e-76</td>\n",
              "    </tr>\n",
              "    <tr>\n",
              "      <th>physician_fee_freeze</th>\n",
              "      <td>46.101910</td>\n",
              "      <td>3.967141e-169</td>\n",
              "    </tr>\n",
              "    <tr>\n",
              "      <th>el_salvador_aid</th>\n",
              "      <td>20.895617</td>\n",
              "      <td>1.465966e-67</td>\n",
              "    </tr>\n",
              "    <tr>\n",
              "      <th>religious_groups_in_schools</th>\n",
              "      <td>9.815876</td>\n",
              "      <td>1.142999e-20</td>\n",
              "    </tr>\n",
              "    <tr>\n",
              "      <th>anti_satellite_test_ban</th>\n",
              "      <td>-12.448556</td>\n",
              "      <td>1.273630e-30</td>\n",
              "    </tr>\n",
              "    <tr>\n",
              "      <th>aid_to_nicaraguan_contras</th>\n",
              "      <td>-17.791848</td>\n",
              "      <td>1.494801e-53</td>\n",
              "    </tr>\n",
              "    <tr>\n",
              "      <th>mx_missile</th>\n",
              "      <td>-16.326540</td>\n",
              "      <td>4.863267e-47</td>\n",
              "    </tr>\n",
              "    <tr>\n",
              "      <th>synfuels_corporation_cutback</th>\n",
              "      <td>-8.200712</td>\n",
              "      <td>2.743404e-15</td>\n",
              "    </tr>\n",
              "    <tr>\n",
              "      <th>education_spending</th>\n",
              "      <td>19.744624</td>\n",
              "      <td>2.383628e-62</td>\n",
              "    </tr>\n",
              "    <tr>\n",
              "      <th>superfund_right_to_sue</th>\n",
              "      <td>13.333130</td>\n",
              "      <td>3.204800e-34</td>\n",
              "    </tr>\n",
              "    <tr>\n",
              "      <th>crime</th>\n",
              "      <td>16.094539</td>\n",
              "      <td>5.095590e-46</td>\n",
              "    </tr>\n",
              "    <tr>\n",
              "      <th>duty_free_exports</th>\n",
              "      <td>-12.624783</td>\n",
              "      <td>2.492767e-31</td>\n",
              "    </tr>\n",
              "    <tr>\n",
              "      <th>export_administration_act_south_africa</th>\n",
              "      <td>-4.675621</td>\n",
              "      <td>3.921293e-06</td>\n",
              "    </tr>\n",
              "  </tbody>\n",
              "</table>\n",
              "</div>"
            ],
            "text/plain": [
              "                                           T_stat        p_value\n",
              "handicapped_infants                     -9.223178   1.276117e-18\n",
              "adoption_of_the_budget_resolution      -22.821693   2.872115e-76\n",
              "physician_fee_freeze                    46.101910  3.967141e-169\n",
              "el_salvador_aid                         20.895617   1.465966e-67\n",
              "religious_groups_in_schools              9.815876   1.142999e-20\n",
              "anti_satellite_test_ban                -12.448556   1.273630e-30\n",
              "aid_to_nicaraguan_contras              -17.791848   1.494801e-53\n",
              "mx_missile                             -16.326540   4.863267e-47\n",
              "synfuels_corporation_cutback            -8.200712   2.743404e-15\n",
              "education_spending                      19.744624   2.383628e-62\n",
              "superfund_right_to_sue                  13.333130   3.204800e-34\n",
              "crime                                   16.094539   5.095590e-46\n",
              "duty_free_exports                      -12.624783   2.492767e-31\n",
              "export_administration_act_south_africa  -4.675621   3.921293e-06"
            ]
          },
          "metadata": {
            "tags": []
          },
          "execution_count": 168
        }
      ]
    },
    {
      "metadata": {
        "id": "lWvCMqriw5kd",
        "colab_type": "code",
        "colab": {
          "base_uri": "https://localhost:8080/",
          "height": 54
        },
        "outputId": "e61de54c-9c60-4d7c-b0a7-6f75926663ce"
      },
      "cell_type": "code",
      "source": [
        "agree_idx = significant_results.T_stat.abs().idxmin()\n",
        "agree_t = significant_results.loc[agree_idx][0]\n",
        "agree_p = significant_results.loc[agree_idx][1]\n",
        "\n",
        "agreement = \"The t-stat closest to zero is {0}, so the issue of {1} is the closest D and R are to agreeing (at significance {2})\".format(agree_t, agree_idx, agree_p)\n",
        "print(agreement)"
      ],
      "execution_count": 169,
      "outputs": [
        {
          "output_type": "stream",
          "text": [
            "The t-stat closest to zero is -4.6756205760407, so the issue of export_administration_act_south_africa is the closest D and R are to agreeing (at significance 3.9212926039422195e-06)\n"
          ],
          "name": "stdout"
        }
      ]
    },
    {
      "metadata": {
        "id": "OmW5K9JExWLi",
        "colab_type": "code",
        "colab": {}
      },
      "cell_type": "code",
      "source": [
        ""
      ],
      "execution_count": 0,
      "outputs": []
    }
  ]
}