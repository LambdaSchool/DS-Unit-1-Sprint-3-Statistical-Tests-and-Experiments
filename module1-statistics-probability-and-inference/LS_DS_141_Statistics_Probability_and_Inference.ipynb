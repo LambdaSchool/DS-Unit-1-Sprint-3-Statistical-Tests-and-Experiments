{
  "nbformat": 4,
  "nbformat_minor": 0,
  "metadata": {
    "colab": {
      "name": "LS DS 141 Statistics Probability and Inference.ipynb",
      "version": "0.3.2",
      "provenance": [],
      "include_colab_link": true
    },
    "kernelspec": {
      "name": "python3",
      "display_name": "Python 3"
    }
  },
  "cells": [
    {
      "cell_type": "markdown",
      "metadata": {
        "id": "view-in-github",
        "colab_type": "text"
      },
      "source": [
        "<a href=\"https://colab.research.google.com/github/donw385/DS-Unit-1-Sprint-4-Statistical-Tests-and-Experiments/blob/master/module1-statistics-probability-and-inference/LS_DS_141_Statistics_Probability_and_Inference.ipynb\" target=\"_parent\"><img src=\"https://colab.research.google.com/assets/colab-badge.svg\" alt=\"Open In Colab\"/></a>"
      ]
    },
    {
      "metadata": {
        "id": "eJGtmni-DezY",
        "colab_type": "text"
      },
      "cell_type": "markdown",
      "source": [
        "# Lambda School Data Science Module 141\n",
        "## Statistics, Probability, and Inference"
      ]
    },
    {
      "metadata": {
        "id": "FMhDKOFND0qY",
        "colab_type": "text"
      },
      "cell_type": "markdown",
      "source": [
        "## Prepare - examine what's available in SciPy\n",
        "\n",
        "As we delve into statistics, we'll be using more libraries - in particular the [stats package from SciPy](https://docs.scipy.org/doc/scipy/reference/tutorial/stats.html)."
      ]
    },
    {
      "metadata": {
        "id": "fQ9rkLJmEbsk",
        "colab_type": "code",
        "outputId": "092fc3a1-5149-4a98-caf0-b6bdfe937f00",
        "colab": {
          "base_uri": "https://localhost:8080/",
          "height": 4382
        }
      },
      "cell_type": "code",
      "source": [
        "from scipy import stats\n",
        "dir(stats)"
      ],
      "execution_count": 1,
      "outputs": [
        {
          "output_type": "execute_result",
          "data": {
            "text/plain": [
              "['__all__',\n",
              " '__builtins__',\n",
              " '__cached__',\n",
              " '__doc__',\n",
              " '__file__',\n",
              " '__loader__',\n",
              " '__name__',\n",
              " '__package__',\n",
              " '__path__',\n",
              " '__spec__',\n",
              " '_binned_statistic',\n",
              " '_constants',\n",
              " '_continuous_distns',\n",
              " '_discrete_distns',\n",
              " '_distn_infrastructure',\n",
              " '_distr_params',\n",
              " '_multivariate',\n",
              " '_stats',\n",
              " '_stats_mstats_common',\n",
              " '_tukeylambda_stats',\n",
              " 'absolute_import',\n",
              " 'alpha',\n",
              " 'anderson',\n",
              " 'anderson_ksamp',\n",
              " 'anglit',\n",
              " 'ansari',\n",
              " 'arcsine',\n",
              " 'argus',\n",
              " 'bartlett',\n",
              " 'bayes_mvs',\n",
              " 'bernoulli',\n",
              " 'beta',\n",
              " 'betaprime',\n",
              " 'binned_statistic',\n",
              " 'binned_statistic_2d',\n",
              " 'binned_statistic_dd',\n",
              " 'binom',\n",
              " 'binom_test',\n",
              " 'boltzmann',\n",
              " 'boxcox',\n",
              " 'boxcox_llf',\n",
              " 'boxcox_normmax',\n",
              " 'boxcox_normplot',\n",
              " 'bradford',\n",
              " 'burr',\n",
              " 'burr12',\n",
              " 'cauchy',\n",
              " 'chi',\n",
              " 'chi2',\n",
              " 'chi2_contingency',\n",
              " 'chisquare',\n",
              " 'circmean',\n",
              " 'circstd',\n",
              " 'circvar',\n",
              " 'combine_pvalues',\n",
              " 'contingency',\n",
              " 'cosine',\n",
              " 'crystalball',\n",
              " 'cumfreq',\n",
              " 'describe',\n",
              " 'dgamma',\n",
              " 'dirichlet',\n",
              " 'distributions',\n",
              " 'division',\n",
              " 'dlaplace',\n",
              " 'dweibull',\n",
              " 'energy_distance',\n",
              " 'entropy',\n",
              " 'erlang',\n",
              " 'expon',\n",
              " 'exponnorm',\n",
              " 'exponpow',\n",
              " 'exponweib',\n",
              " 'f',\n",
              " 'f_oneway',\n",
              " 'fatiguelife',\n",
              " 'find_repeats',\n",
              " 'fisher_exact',\n",
              " 'fisk',\n",
              " 'fligner',\n",
              " 'foldcauchy',\n",
              " 'foldnorm',\n",
              " 'frechet_l',\n",
              " 'frechet_r',\n",
              " 'friedmanchisquare',\n",
              " 'gamma',\n",
              " 'gausshyper',\n",
              " 'gaussian_kde',\n",
              " 'genexpon',\n",
              " 'genextreme',\n",
              " 'gengamma',\n",
              " 'genhalflogistic',\n",
              " 'genlogistic',\n",
              " 'gennorm',\n",
              " 'genpareto',\n",
              " 'geom',\n",
              " 'gilbrat',\n",
              " 'gmean',\n",
              " 'gompertz',\n",
              " 'gumbel_l',\n",
              " 'gumbel_r',\n",
              " 'halfcauchy',\n",
              " 'halfgennorm',\n",
              " 'halflogistic',\n",
              " 'halfnorm',\n",
              " 'hmean',\n",
              " 'hypergeom',\n",
              " 'hypsecant',\n",
              " 'invgamma',\n",
              " 'invgauss',\n",
              " 'invweibull',\n",
              " 'invwishart',\n",
              " 'iqr',\n",
              " 'itemfreq',\n",
              " 'jarque_bera',\n",
              " 'johnsonsb',\n",
              " 'johnsonsu',\n",
              " 'kappa3',\n",
              " 'kappa4',\n",
              " 'kde',\n",
              " 'kendalltau',\n",
              " 'kruskal',\n",
              " 'ks_2samp',\n",
              " 'ksone',\n",
              " 'kstat',\n",
              " 'kstatvar',\n",
              " 'kstest',\n",
              " 'kstwobign',\n",
              " 'kurtosis',\n",
              " 'kurtosistest',\n",
              " 'laplace',\n",
              " 'levene',\n",
              " 'levy',\n",
              " 'levy_l',\n",
              " 'levy_stable',\n",
              " 'linregress',\n",
              " 'loggamma',\n",
              " 'logistic',\n",
              " 'loglaplace',\n",
              " 'lognorm',\n",
              " 'logser',\n",
              " 'lomax',\n",
              " 'mannwhitneyu',\n",
              " 'matrix_normal',\n",
              " 'maxwell',\n",
              " 'median_test',\n",
              " 'mielke',\n",
              " 'mode',\n",
              " 'moment',\n",
              " 'mood',\n",
              " 'morestats',\n",
              " 'moyal',\n",
              " 'mstats',\n",
              " 'mstats_basic',\n",
              " 'mstats_extras',\n",
              " 'multinomial',\n",
              " 'multivariate_normal',\n",
              " 'mvn',\n",
              " 'mvsdist',\n",
              " 'nakagami',\n",
              " 'nbinom',\n",
              " 'ncf',\n",
              " 'nct',\n",
              " 'ncx2',\n",
              " 'norm',\n",
              " 'normaltest',\n",
              " 'norminvgauss',\n",
              " 'obrientransform',\n",
              " 'ortho_group',\n",
              " 'pareto',\n",
              " 'pearson3',\n",
              " 'pearsonr',\n",
              " 'percentileofscore',\n",
              " 'planck',\n",
              " 'pointbiserialr',\n",
              " 'poisson',\n",
              " 'power_divergence',\n",
              " 'powerlaw',\n",
              " 'powerlognorm',\n",
              " 'powernorm',\n",
              " 'ppcc_max',\n",
              " 'ppcc_plot',\n",
              " 'print_function',\n",
              " 'probplot',\n",
              " 'randint',\n",
              " 'random_correlation',\n",
              " 'rankdata',\n",
              " 'ranksums',\n",
              " 'rayleigh',\n",
              " 'rdist',\n",
              " 'recipinvgauss',\n",
              " 'reciprocal',\n",
              " 'relfreq',\n",
              " 'rice',\n",
              " 'rv_continuous',\n",
              " 'rv_discrete',\n",
              " 'rv_histogram',\n",
              " 'scoreatpercentile',\n",
              " 'sem',\n",
              " 'semicircular',\n",
              " 'shapiro',\n",
              " 'sigmaclip',\n",
              " 'skellam',\n",
              " 'skew',\n",
              " 'skewnorm',\n",
              " 'skewtest',\n",
              " 'spearmanr',\n",
              " 'special_ortho_group',\n",
              " 'statlib',\n",
              " 'stats',\n",
              " 't',\n",
              " 'test',\n",
              " 'theilslopes',\n",
              " 'tiecorrect',\n",
              " 'tmax',\n",
              " 'tmean',\n",
              " 'tmin',\n",
              " 'trapz',\n",
              " 'triang',\n",
              " 'trim1',\n",
              " 'trim_mean',\n",
              " 'trimboth',\n",
              " 'truncexpon',\n",
              " 'truncnorm',\n",
              " 'tsem',\n",
              " 'tstd',\n",
              " 'ttest_1samp',\n",
              " 'ttest_ind',\n",
              " 'ttest_ind_from_stats',\n",
              " 'ttest_rel',\n",
              " 'tukeylambda',\n",
              " 'tvar',\n",
              " 'uniform',\n",
              " 'unitary_group',\n",
              " 'variation',\n",
              " 'vonmises',\n",
              " 'vonmises_line',\n",
              " 'wald',\n",
              " 'wasserstein_distance',\n",
              " 'weibull_max',\n",
              " 'weibull_min',\n",
              " 'weightedtau',\n",
              " 'wilcoxon',\n",
              " 'wishart',\n",
              " 'wrapcauchy',\n",
              " 'zipf',\n",
              " 'zmap',\n",
              " 'zscore']"
            ]
          },
          "metadata": {
            "tags": []
          },
          "execution_count": 1
        }
      ]
    },
    {
      "metadata": {
        "id": "bxW4SG_gJGlZ",
        "colab_type": "code",
        "outputId": "cfe46e43-7182-460a-85ea-5e15b570f212",
        "colab": {
          "base_uri": "https://localhost:8080/",
          "height": 70
        }
      },
      "cell_type": "code",
      "source": [
        "# As usual, lots of stuff here! There's our friend, the normal distribution\n",
        "norm = stats.norm()\n",
        "print(norm.mean())\n",
        "print(norm.std())\n",
        "print(norm.var())"
      ],
      "execution_count": 2,
      "outputs": [
        {
          "output_type": "stream",
          "text": [
            "0.0\n",
            "1.0\n",
            "1.0\n"
          ],
          "name": "stdout"
        }
      ]
    },
    {
      "metadata": {
        "id": "RyNKPt_tJk86",
        "colab_type": "code",
        "outputId": "9ddb0308-a365-47b6-a9dc-9836d444f5ba",
        "colab": {
          "base_uri": "https://localhost:8080/",
          "height": 70
        }
      },
      "cell_type": "code",
      "source": [
        "# And a new friend - t\n",
        "t1 = stats.t(5)  # 5 is df \"shape\" parameter\n",
        "print(t1.mean())\n",
        "print(t1.std())\n",
        "print(t1.var())"
      ],
      "execution_count": 3,
      "outputs": [
        {
          "output_type": "stream",
          "text": [
            "0.0\n",
            "1.2909944487358056\n",
            "1.6666666666666667\n"
          ],
          "name": "stdout"
        }
      ]
    },
    {
      "metadata": {
        "id": "SRn1zMuaKgxX",
        "colab_type": "text"
      },
      "cell_type": "markdown",
      "source": [
        "![T distribution PDF with different shape parameters](https://upload.wikimedia.org/wikipedia/commons/4/41/Student_t_pdf.svg)\n",
        "\n",
        "*(Picture from [Wikipedia](https://en.wikipedia.org/wiki/Student's_t-distribution#/media/File:Student_t_pdf.svg))*\n",
        "\n",
        "The t-distribution is \"normal-ish\" - the larger the parameter (which reflects its degrees of freedom - more input data/features will increase it), the closer to true normal."
      ]
    },
    {
      "metadata": {
        "id": "seQv5unnJvpM",
        "colab_type": "code",
        "outputId": "999ded06-926f-4948-d4cf-ed744eb0dfcd",
        "colab": {
          "base_uri": "https://localhost:8080/",
          "height": 70
        }
      },
      "cell_type": "code",
      "source": [
        "t2 = stats.t(30)  # Will be closer to normal\n",
        "print(t2.mean())\n",
        "print(t2.std())\n",
        "print(t2.var())"
      ],
      "execution_count": 4,
      "outputs": [
        {
          "output_type": "stream",
          "text": [
            "0.0\n",
            "1.0350983390135313\n",
            "1.0714285714285714\n"
          ],
          "name": "stdout"
        }
      ]
    },
    {
      "metadata": {
        "id": "FOvEGMysLaE2",
        "colab_type": "text"
      },
      "cell_type": "markdown",
      "source": [
        "Why is it different from normal? To better reflect the tendencies of small data and situations with unknown population standard deviation. In other words, the normal distribution is still the nice pure ideal in the limit (thanks to the central limit theorem), but the t-distribution is much more useful in many real-world situations.\n",
        "\n",
        "History sidenote - this is \"Student\":\n",
        "\n",
        "![William Sealy Gosset](https://upload.wikimedia.org/wikipedia/commons/4/42/William_Sealy_Gosset.jpg)\n",
        "\n",
        "*(Picture from [Wikipedia](https://en.wikipedia.org/wiki/File:William_Sealy_Gosset.jpg))*\n",
        "\n",
        "His real name is William Sealy Gosset, and he published under the pen name \"Student\" because he was not an academic. He was a brewer, working at Guinness and using trial and error to determine the best ways to yield barley. He's also proof that, even 100 years ago, you don't need official credentials to do real data science!"
      ]
    },
    {
      "metadata": {
        "id": "1yx_QilAEC6o",
        "colab_type": "text"
      },
      "cell_type": "markdown",
      "source": [
        "## Live Lecture - let's perform and interpret a t-test\n",
        "\n",
        "We'll generate our own data, so we can know and alter the \"ground truth\" that the t-test should find. We will learn about p-values and how to interpret \"statistical significance\" based on the output of a hypothesis test."
      ]
    },
    {
      "metadata": {
        "id": "BuysRPs-Ed0v",
        "colab_type": "code",
        "outputId": "2ebfb893-0f36-4824-f3d8-10e62d050649",
        "colab": {
          "base_uri": "https://localhost:8080/",
          "height": 34
        }
      },
      "cell_type": "code",
      "source": [
        "# coke or pepsi, binomial random variable, want 30 person list\n",
        "#0 likes pepsi\n",
        "#1 likes coke\n",
        "\n",
        "import random\n",
        "random.seed(30)\n",
        "sample = [random.randint(0,1) for _ in range (30)]\n",
        "print(sample)"
      ],
      "execution_count": 5,
      "outputs": [
        {
          "output_type": "stream",
          "text": [
            "[1, 0, 0, 1, 0, 1, 1, 0, 0, 1, 0, 0, 0, 0, 0, 1, 1, 0, 1, 0, 0, 1, 1, 0, 1, 0, 1, 1, 0, 1]\n"
          ],
          "name": "stdout"
        }
      ]
    },
    {
      "metadata": {
        "id": "d9WaOqT4evze",
        "colab_type": "code",
        "outputId": "867a73ae-ef16-4c7b-d51c-f13af95aad44",
        "colab": {
          "base_uri": "https://localhost:8080/",
          "height": 296
        }
      },
      "cell_type": "code",
      "source": [
        "import pandas as pd\n",
        "df=pd.DataFrame(sample)\n",
        "df.describe()"
      ],
      "execution_count": 6,
      "outputs": [
        {
          "output_type": "execute_result",
          "data": {
            "text/html": [
              "<div>\n",
              "<style scoped>\n",
              "    .dataframe tbody tr th:only-of-type {\n",
              "        vertical-align: middle;\n",
              "    }\n",
              "\n",
              "    .dataframe tbody tr th {\n",
              "        vertical-align: top;\n",
              "    }\n",
              "\n",
              "    .dataframe thead th {\n",
              "        text-align: right;\n",
              "    }\n",
              "</style>\n",
              "<table border=\"1\" class=\"dataframe\">\n",
              "  <thead>\n",
              "    <tr style=\"text-align: right;\">\n",
              "      <th></th>\n",
              "      <th>0</th>\n",
              "    </tr>\n",
              "  </thead>\n",
              "  <tbody>\n",
              "    <tr>\n",
              "      <th>count</th>\n",
              "      <td>30.000000</td>\n",
              "    </tr>\n",
              "    <tr>\n",
              "      <th>mean</th>\n",
              "      <td>0.466667</td>\n",
              "    </tr>\n",
              "    <tr>\n",
              "      <th>std</th>\n",
              "      <td>0.507416</td>\n",
              "    </tr>\n",
              "    <tr>\n",
              "      <th>min</th>\n",
              "      <td>0.000000</td>\n",
              "    </tr>\n",
              "    <tr>\n",
              "      <th>25%</th>\n",
              "      <td>0.000000</td>\n",
              "    </tr>\n",
              "    <tr>\n",
              "      <th>50%</th>\n",
              "      <td>0.000000</td>\n",
              "    </tr>\n",
              "    <tr>\n",
              "      <th>75%</th>\n",
              "      <td>1.000000</td>\n",
              "    </tr>\n",
              "    <tr>\n",
              "      <th>max</th>\n",
              "      <td>1.000000</td>\n",
              "    </tr>\n",
              "  </tbody>\n",
              "</table>\n",
              "</div>"
            ],
            "text/plain": [
              "               0\n",
              "count  30.000000\n",
              "mean    0.466667\n",
              "std     0.507416\n",
              "min     0.000000\n",
              "25%     0.000000\n",
              "50%     0.000000\n",
              "75%     1.000000\n",
              "max     1.000000"
            ]
          },
          "metadata": {
            "tags": []
          },
          "execution_count": 6
        }
      ]
    },
    {
      "metadata": {
        "id": "5BErqtTEfpb1",
        "colab_type": "code",
        "outputId": "f1d15966-7070-47bd-d2d5-9182008738fc",
        "colab": {
          "base_uri": "https://localhost:8080/",
          "height": 34
        }
      },
      "cell_type": "code",
      "source": [
        "#https://rpsychologist.com/d3/tdist/\n",
        "\n",
        "import scipy\n",
        "scipy.stats.ttest_1samp(df[0],0.5)"
      ],
      "execution_count": 7,
      "outputs": [
        {
          "output_type": "execute_result",
          "data": {
            "text/plain": [
              "Ttest_1sampResult(statistic=-0.35981145856446217, pvalue=0.7215952675845512)"
            ]
          },
          "metadata": {
            "tags": []
          },
          "execution_count": 7
        }
      ]
    },
    {
      "metadata": {
        "id": "jU_Hjx1BnCav",
        "colab_type": "code",
        "outputId": "fdcd4857-1f3f-4d89-b1f5-a648461ec5d1",
        "colab": {
          "base_uri": "https://localhost:8080/",
          "height": 34
        }
      },
      "cell_type": "code",
      "source": [
        "#sample error goes down the more data we have\n",
        "from math import sqrt\n",
        "df[0].std() / sqrt(30000-1)"
      ],
      "execution_count": 8,
      "outputs": [
        {
          "output_type": "execute_result",
          "data": {
            "text/plain": [
              "0.002929617990053674"
            ]
          },
          "metadata": {
            "tags": []
          },
          "execution_count": 8
        }
      ]
    },
    {
      "metadata": {
        "id": "wsvlImVOqozi",
        "colab_type": "code",
        "outputId": "371bf157-7cef-4d7b-c8d4-d60e51fe57ee",
        "colab": {
          "base_uri": "https://localhost:8080/",
          "height": 34
        }
      },
      "cell_type": "code",
      "source": [
        "#t statistic, t-statistic is the ratio of the departure of the estimated value of a parameter from its hypothesized value to its standard error.\n",
        "(df[0].mean() - 0.5) / (df[0].std() / (30 ** (1/2)))"
      ],
      "execution_count": 9,
      "outputs": [
        {
          "output_type": "execute_result",
          "data": {
            "text/plain": [
              "-0.3598114585644621"
            ]
          },
          "metadata": {
            "tags": []
          },
          "execution_count": 9
        }
      ]
    },
    {
      "metadata": {
        "id": "j3-krqZxrPYr",
        "colab_type": "code",
        "colab": {}
      },
      "cell_type": "code",
      "source": [
        "#mean and std dev calculated manually\n",
        "#as you get more observations, sample mean converges to population mean\n",
        "\n",
        "def std(sample,mean):\n",
        "  std=0\n",
        "  for obs in sample:\n",
        "    std +=(obs - mean)**2\n",
        "  return (std / ((len(sample)-1)))**(1/2)\n",
        "\n",
        "  \n",
        "def calculate_t_stat(sample, null_hyp):\n",
        "  sample_mean= sum(sample) /len(sample)\n",
        "  sample_std= std(sample,sample_mean)\n",
        "  return (sample_mean- null_hyp) / (sample_std / (30**(1/2)))"
      ],
      "execution_count": 0,
      "outputs": []
    },
    {
      "metadata": {
        "id": "J4-vjORttMCJ",
        "colab_type": "code",
        "outputId": "8f22a82b-5dad-4a2a-98e1-2376edfab838",
        "colab": {
          "base_uri": "https://localhost:8080/",
          "height": 167
        }
      },
      "cell_type": "code",
      "source": [
        "calculate_t_stat(survey_data,0)"
      ],
      "execution_count": 11,
      "outputs": [
        {
          "output_type": "error",
          "ename": "NameError",
          "evalue": "ignored",
          "traceback": [
            "\u001b[0;31m---------------------------------------------------------------------------\u001b[0m",
            "\u001b[0;31mNameError\u001b[0m                                 Traceback (most recent call last)",
            "\u001b[0;32m<ipython-input-11-c5cb7af024ad>\u001b[0m in \u001b[0;36m<module>\u001b[0;34m()\u001b[0m\n\u001b[0;32m----> 1\u001b[0;31m \u001b[0mcalculate_t_stat\u001b[0m\u001b[0;34m(\u001b[0m\u001b[0msurvey_data\u001b[0m\u001b[0;34m,\u001b[0m\u001b[0;36m0\u001b[0m\u001b[0;34m)\u001b[0m\u001b[0;34m\u001b[0m\u001b[0;34m\u001b[0m\u001b[0m\n\u001b[0m",
            "\u001b[0;31mNameError\u001b[0m: name 'survey_data' is not defined"
          ]
        }
      ]
    },
    {
      "metadata": {
        "id": "ca01uF1Wr6DE",
        "colab_type": "code",
        "colab": {}
      },
      "cell_type": "code",
      "source": [
        "survey_data = [1, 0, 0, 1, 0, 1, 1, 0, 0, 1, 0, 0, 0, 0, 0, 1, 1, 0, 1, 0, 0, 1, 1, 0, 1, 0, 1, 1, 0, 1]\n",
        "\n",
        "scipy.stats.ttest_1samp(survey_data,0.5)"
      ],
      "execution_count": 0,
      "outputs": []
    },
    {
      "metadata": {
        "id": "dQKRTDoAzr93",
        "colab_type": "code",
        "colab": {}
      },
      "cell_type": "code",
      "source": [
        "t = scipy.stats.t(len(survey_data))\n",
        "t.cdf(calculate_t_stat(survey_data, 0.5))"
      ],
      "execution_count": 0,
      "outputs": []
    },
    {
      "metadata": {
        "id": "egXb7YpqEcZF",
        "colab_type": "text"
      },
      "cell_type": "markdown",
      "source": [
        "## Assignment - apply the t-test to real data\n",
        "\n",
        "Your assignment is to determine which issues have \"statistically significant\" differences between political parties in this [1980s congressional voting data](https://archive.ics.uci.edu/ml/datasets/Congressional+Voting+Records). The data consists of 435 instances (one for each congressperson), a class (democrat or republican), and 16 binary attributes (yes or no for voting for or against certain issues). Be aware - there are missing values!\n",
        "\n",
        "Your goals:\n",
        "\n",
        "1. Load and clean the data (or determine the best method to drop observations when running tests)\n",
        "2. Using hypothesis testing, find an issue that democrats support more than republicans with p < 0.01\n",
        "3. Using hypothesis testing, find an issue that republicans support more than democrats with p < 0.01\n",
        "4. Using hypothesis testing, find an issue where the difference between republicans and democrats has p > 0.1 (i.e. there may not be much of a difference)\n",
        "\n",
        "Note that this data will involve *2 sample* t-tests, because you're comparing averages across two groups (republicans and democrats) rather than a single group against a null hypothesis.\n",
        "\n",
        "Stretch goals:\n",
        "\n",
        "1. Refactor your code into functions so it's easy to rerun with arbitrary variables\n",
        "2. Apply hypothesis testing to your personal project data (for the purposes of this notebook you can type a summary of the hypothesis you formed and tested)"
      ]
    },
    {
      "metadata": {
        "id": "kBXafvQhIIWT",
        "colab_type": "code",
        "colab": {}
      },
      "cell_type": "code",
      "source": [
        "import pandas as pd\n",
        "import numpy as np\n",
        "import matplotlib.pyplot as plt\n",
        "from scipy import stats"
      ],
      "execution_count": 0,
      "outputs": []
    },
    {
      "metadata": {
        "id": "nstrmCG-Ecyk",
        "colab_type": "code",
        "colab": {}
      },
      "cell_type": "code",
      "source": [
        "url = 'https://archive.ics.uci.edu/ml/machine-learning-databases/voting-records/house-votes-84.data'\n",
        "\n",
        "columns =['party','handicapped','water','adoption','physician','salvaldor','religion','satellite','nicaragua','missile','immigration','synfuels','education','superfund','crime','dutyfree','southafrica']\n",
        "voting = pd.read_csv(url, names=columns)\n",
        "issues = columns[1:]\n",
        "for col in voting.columns[1:]:\n",
        "    voting[col] = voting[col].map({'y':1, 'n':0})\n",
        "\n",
        "voting\n",
        "\n",
        "reps = voting[voting.party == 'republican']\n",
        "dems = voting[voting.party == 'democrat']"
      ],
      "execution_count": 0,
      "outputs": []
    },
    {
      "metadata": {
        "id": "Pio6AwLDDgmf",
        "colab_type": "code",
        "colab": {
          "base_uri": "https://localhost:8080/",
          "height": 543
        },
        "outputId": "f71f90c7-a7d9-42a6-9858-55176a2268f2"
      },
      "cell_type": "code",
      "source": [
        "summary_voting = voting.pivot_table(index='party', values=(list(voting.columns)))\n",
        "summary_voting.head().T"
      ],
      "execution_count": 85,
      "outputs": [
        {
          "output_type": "execute_result",
          "data": {
            "text/html": [
              "<div>\n",
              "<style scoped>\n",
              "    .dataframe tbody tr th:only-of-type {\n",
              "        vertical-align: middle;\n",
              "    }\n",
              "\n",
              "    .dataframe tbody tr th {\n",
              "        vertical-align: top;\n",
              "    }\n",
              "\n",
              "    .dataframe thead th {\n",
              "        text-align: right;\n",
              "    }\n",
              "</style>\n",
              "<table border=\"1\" class=\"dataframe\">\n",
              "  <thead>\n",
              "    <tr style=\"text-align: right;\">\n",
              "      <th>party</th>\n",
              "      <th>democrat</th>\n",
              "      <th>republican</th>\n",
              "    </tr>\n",
              "  </thead>\n",
              "  <tbody>\n",
              "    <tr>\n",
              "      <th>adoption</th>\n",
              "      <td>0.888462</td>\n",
              "      <td>0.134146</td>\n",
              "    </tr>\n",
              "    <tr>\n",
              "      <th>crime</th>\n",
              "      <td>0.350195</td>\n",
              "      <td>0.981366</td>\n",
              "    </tr>\n",
              "    <tr>\n",
              "      <th>dutyfree</th>\n",
              "      <td>0.637450</td>\n",
              "      <td>0.089744</td>\n",
              "    </tr>\n",
              "    <tr>\n",
              "      <th>education</th>\n",
              "      <td>0.144578</td>\n",
              "      <td>0.870968</td>\n",
              "    </tr>\n",
              "    <tr>\n",
              "      <th>handicapped</th>\n",
              "      <td>0.604651</td>\n",
              "      <td>0.187879</td>\n",
              "    </tr>\n",
              "    <tr>\n",
              "      <th>immigration</th>\n",
              "      <td>0.471483</td>\n",
              "      <td>0.557576</td>\n",
              "    </tr>\n",
              "    <tr>\n",
              "      <th>missile</th>\n",
              "      <td>0.758065</td>\n",
              "      <td>0.115152</td>\n",
              "    </tr>\n",
              "    <tr>\n",
              "      <th>nicaragua</th>\n",
              "      <td>0.828897</td>\n",
              "      <td>0.152866</td>\n",
              "    </tr>\n",
              "    <tr>\n",
              "      <th>physician</th>\n",
              "      <td>0.054054</td>\n",
              "      <td>0.987879</td>\n",
              "    </tr>\n",
              "    <tr>\n",
              "      <th>religion</th>\n",
              "      <td>0.476744</td>\n",
              "      <td>0.897590</td>\n",
              "    </tr>\n",
              "    <tr>\n",
              "      <th>salvaldor</th>\n",
              "      <td>0.215686</td>\n",
              "      <td>0.951515</td>\n",
              "    </tr>\n",
              "    <tr>\n",
              "      <th>satellite</th>\n",
              "      <td>0.772201</td>\n",
              "      <td>0.240741</td>\n",
              "    </tr>\n",
              "    <tr>\n",
              "      <th>southafrica</th>\n",
              "      <td>0.935135</td>\n",
              "      <td>0.657534</td>\n",
              "    </tr>\n",
              "    <tr>\n",
              "      <th>superfund</th>\n",
              "      <td>0.289683</td>\n",
              "      <td>0.860759</td>\n",
              "    </tr>\n",
              "    <tr>\n",
              "      <th>synfuels</th>\n",
              "      <td>0.505882</td>\n",
              "      <td>0.132075</td>\n",
              "    </tr>\n",
              "    <tr>\n",
              "      <th>water</th>\n",
              "      <td>0.502092</td>\n",
              "      <td>0.506757</td>\n",
              "    </tr>\n",
              "  </tbody>\n",
              "</table>\n",
              "</div>"
            ],
            "text/plain": [
              "party        democrat  republican\n",
              "adoption     0.888462    0.134146\n",
              "crime        0.350195    0.981366\n",
              "dutyfree     0.637450    0.089744\n",
              "education    0.144578    0.870968\n",
              "handicapped  0.604651    0.187879\n",
              "immigration  0.471483    0.557576\n",
              "missile      0.758065    0.115152\n",
              "nicaragua    0.828897    0.152866\n",
              "physician    0.054054    0.987879\n",
              "religion     0.476744    0.897590\n",
              "salvaldor    0.215686    0.951515\n",
              "satellite    0.772201    0.240741\n",
              "southafrica  0.935135    0.657534\n",
              "superfund    0.289683    0.860759\n",
              "synfuels     0.505882    0.132075\n",
              "water        0.502092    0.506757"
            ]
          },
          "metadata": {
            "tags": []
          },
          "execution_count": 85
        }
      ]
    },
    {
      "metadata": {
        "id": "DP7vAmyMA6Jj",
        "colab_type": "code",
        "colab": {
          "base_uri": "https://localhost:8080/",
          "height": 34
        },
        "outputId": "cf4a382b-1ce2-41a4-cff0-cd6340296208"
      },
      "cell_type": "code",
      "source": [
        "#Calculate the T-test for the means of two independent samples of scores using .ttest_ind, ttest_1samp is 1 sample\n",
        "\n",
        "# Using hypothesis testing, find an issue that democrats support more than republicans with p < 0.01\n",
        "scipy.stats.ttest_ind(dems['handicapped'],reps['handicapped'],nan_policy='omit', equal_var=False)"
      ],
      "execution_count": 92,
      "outputs": [
        {
          "output_type": "execute_result",
          "data": {
            "text/plain": [
              "Ttest_indResult(statistic=9.662336936353906, pvalue=5.429018745046274e-20)"
            ]
          },
          "metadata": {
            "tags": []
          },
          "execution_count": 92
        }
      ]
    },
    {
      "metadata": {
        "id": "AcDNLRECzcYO",
        "colab_type": "code",
        "colab": {
          "base_uri": "https://localhost:8080/",
          "height": 34
        },
        "outputId": "bc75e168-6349-4bb5-f0b2-0c32208d0a96"
      },
      "cell_type": "code",
      "source": [
        "# Using hypothesis testing, find an issue that republicans support more than democrats with p < 0.01\n",
        "scipy.stats.ttest_ind(dems['crime'],reps['crime'],nan_policy='omit', equal_var=False)"
      ],
      "execution_count": 93,
      "outputs": [
        {
          "output_type": "execute_result",
          "data": {
            "text/plain": [
              "Ttest_indResult(statistic=-19.92765596959604, pvalue=6.862816276906505e-58)"
            ]
          },
          "metadata": {
            "tags": []
          },
          "execution_count": 93
        }
      ]
    },
    {
      "metadata": {
        "id": "Oae29Td290j1",
        "colab_type": "code",
        "colab": {
          "base_uri": "https://localhost:8080/",
          "height": 34
        },
        "outputId": "a7139074-81d2-4caa-9e5b-1ab93fe90a07"
      },
      "cell_type": "code",
      "source": [
        "#p value greater than .1, not much diff\n",
        "\n",
        "scipy.stats.ttest_ind(dems['water'],reps['water'],nan_policy='omit', equal_var=False)"
      ],
      "execution_count": 94,
      "outputs": [
        {
          "output_type": "execute_result",
          "data": {
            "text/plain": [
              "Ttest_indResult(statistic=-0.08893998898558053, pvalue=0.9291867875225105)"
            ]
          },
          "metadata": {
            "tags": []
          },
          "execution_count": 94
        }
      ]
    },
    {
      "metadata": {
        "id": "fzyzzSyyKHQi",
        "colab_type": "text"
      },
      "cell_type": "markdown",
      "source": [
        "**Assignment solution**"
      ]
    },
    {
      "metadata": {
        "id": "78pR4TG5981c",
        "colab_type": "code",
        "colab": {
          "base_uri": "https://localhost:8080/",
          "height": 334
        },
        "outputId": "b9b86d9f-28b2-484f-c3ad-371abe156463"
      },
      "cell_type": "code",
      "source": [
        "dem_favs = []\n",
        "rep_favs = []\n",
        "bipartisan = []\n",
        "other = []\n",
        "\n",
        "print('{:40} {:<10} {}'.format('Issue', 'Statistic', 'p_value'))\n",
        "print('-'*60)\n",
        "\n",
        "for issue in issues:    \n",
        "    stat, p_value = stats.ttest_ind(dems[issue], reps[issue],\n",
        "                                    nan_policy='omit', equal_var=False)\n",
        "    print('{:40} {:<10.3} {:.3}'.format(issue, stat, p_value))\n",
        "\n",
        "    if p_value < 0.01 and stat > 0:\n",
        "        dem_favs.append(issue)\n",
        "    elif p_value < 0.01 and stat < 0:\n",
        "        rep_favs.append(issue)\n",
        "    elif p_value > 0.1:\n",
        "        bipartisan.append(issue)\n",
        "    else:\n",
        "        other.append(issue)"
      ],
      "execution_count": 97,
      "outputs": [
        {
          "output_type": "stream",
          "text": [
            "Issue                                    Statistic  p_value\n",
            "------------------------------------------------------------\n",
            "handicapped                              9.66       5.43e-20\n",
            "water                                    -0.0889    0.929\n",
            "adoption                                 22.8       1.95e-69\n",
            "physician                                -56.7      8.82e-193\n",
            "salvaldor                                -23.9      2.9e-79\n",
            "religion                                 -10.8      4.83e-24\n",
            "satellite                                12.5       1.36e-29\n",
            "nicaragua                                18.3       2.29e-52\n",
            "missile                                  17.4       4.29e-51\n",
            "immigration                              -1.74      0.0832\n",
            "synfuels                                 9.04       6.3e-18\n",
            "education                                -20.7      3.57e-62\n",
            "superfund                                -14.4      7.6e-38\n",
            "crime                                    -19.9      6.86e-58\n",
            "dutyfree                                 14.4       3.81e-38\n",
            "southafrica                              6.4        1.04e-09\n"
          ],
          "name": "stdout"
        }
      ]
    },
    {
      "metadata": {
        "id": "f8eqMh9sKtrR",
        "colab_type": "code",
        "colab": {
          "base_uri": "https://localhost:8080/",
          "height": 158
        },
        "outputId": "4a5e0336-8c64-47aa-9e5a-f414c8678722"
      },
      "cell_type": "code",
      "source": [
        "# Issues favored by democrats, p < 0.01\n",
        "dem_favs"
      ],
      "execution_count": 98,
      "outputs": [
        {
          "output_type": "execute_result",
          "data": {
            "text/plain": [
              "['handicapped',\n",
              " 'adoption',\n",
              " 'satellite',\n",
              " 'nicaragua',\n",
              " 'missile',\n",
              " 'synfuels',\n",
              " 'dutyfree',\n",
              " 'southafrica']"
            ]
          },
          "metadata": {
            "tags": []
          },
          "execution_count": 98
        }
      ]
    },
    {
      "metadata": {
        "id": "F8qQP3oPKwFe",
        "colab_type": "code",
        "colab": {
          "base_uri": "https://localhost:8080/",
          "height": 34
        },
        "outputId": "39255578-d1a3-4eee-b31e-0c01d57ae66c"
      },
      "cell_type": "code",
      "source": [
        "# Issues favored by republicans, p < 0.01\n",
        "rep_favs"
      ],
      "execution_count": 99,
      "outputs": [
        {
          "output_type": "execute_result",
          "data": {
            "text/plain": [
              "['physician', 'salvaldor', 'religion', 'education', 'superfund', 'crime']"
            ]
          },
          "metadata": {
            "tags": []
          },
          "execution_count": 99
        }
      ]
    },
    {
      "metadata": {
        "id": "G2B-3MtsKy5_",
        "colab_type": "code",
        "colab": {
          "base_uri": "https://localhost:8080/",
          "height": 34
        },
        "outputId": "6d431538-b8cd-40ed-b4ca-a18ab911b743"
      },
      "cell_type": "code",
      "source": [
        "# Issues favored by neither (P > 0.1)\n",
        "bipartisan"
      ],
      "execution_count": 100,
      "outputs": [
        {
          "output_type": "execute_result",
          "data": {
            "text/plain": [
              "['water']"
            ]
          },
          "metadata": {
            "tags": []
          },
          "execution_count": 100
        }
      ]
    },
    {
      "metadata": {
        "id": "BR762B5JK030",
        "colab_type": "code",
        "colab": {
          "base_uri": "https://localhost:8080/",
          "height": 34
        },
        "outputId": "2cec4fd3-a46f-491a-cc18-7200af558eac"
      },
      "cell_type": "code",
      "source": [
        "other"
      ],
      "execution_count": 101,
      "outputs": [
        {
          "output_type": "execute_result",
          "data": {
            "text/plain": [
              "['immigration']"
            ]
          },
          "metadata": {
            "tags": []
          },
          "execution_count": 101
        }
      ]
    },
    {
      "metadata": {
        "id": "kQKEqtDuK4VT",
        "colab_type": "text"
      },
      "cell_type": "markdown",
      "source": [
        "**Stretch Goal**"
      ]
    },
    {
      "metadata": {
        "id": "Qsg08_v8K3tl",
        "colab_type": "code",
        "colab": {}
      },
      "cell_type": "code",
      "source": [
        "def partisan_printout(voting, significance_cutoff=0.01,\n",
        "                     bipartisan_cutoff=0.1):\n",
        "    \"\"\"\n",
        "    Takes in a dataframe of congressional voting and identifies the\n",
        "    issues on which there was a significant voting difference between\n",
        "    Republicans and Democrats. Comparison is made using Welch's t-test,\n",
        "    which does not assume equal variances or sample sizes.\n",
        "    \n",
        "    Input parameters:\n",
        "    \n",
        "    roster\n",
        "        A dataframe in which the column 'party' contains\n",
        "        classifies the congressperson as 'republican' or 'democrat',\n",
        "        the other columns are names of issues,\n",
        "        and each cell contains 0 (no vote), 1 (yes vote), or NaN.\n",
        "\n",
        "    significance_cutoff\n",
        "        Maximum p-value (non-inclusive) for an issue to be considered\n",
        "        significantly partisan\n",
        "        \n",
        "    bipartisan_cutoff\n",
        "        Minimum p-value (non-inclusive) for an issue to be considered\n",
        "        bipartisan\n",
        "    \n",
        "    Output:\n",
        "    \n",
        "    Printout with all the issues, classified by partisan preference.\n",
        "    \"\"\"\n",
        "    reps = voting[voting.party == 'republican']\n",
        "    dems = voting[voting.party == 'democrat']\n",
        "    issues = voting.columns[1:]\n",
        "\n",
        "    dem_favs = []\n",
        "    rep_favs = []\n",
        "    bipartisan = []\n",
        "    other = []\n",
        "    \n",
        "#   I populate the lists above with the issues that fall in each category. Each issue is a tuple of \n",
        "#   name, state, and p_value\n",
        "    for issue in issues:    \n",
        "        # Calculates Welch's t-test for each issue, comparing Dems to Reps.\n",
        "        stat, p_value = stats.ttest_ind(dems[issue], reps[issue],\n",
        "                                        nan_policy='omit', \n",
        "                                        equal_var=False)\n",
        "\n",
        "        \n",
        "        if p_value < significance_cutoff and stat > 0:\n",
        "            dem_favs.append((issue, stat, p_value))\n",
        "            \n",
        "        elif p_value < significance_cutoff and stat < 0:\n",
        "            rep_favs.append((issue, stat, p_value))\n",
        "            \n",
        "        elif p_value > bipartisan_cutoff:\n",
        "            bipartisan.append((issue, stat, p_value))\n",
        "            \n",
        "        else:\n",
        "            other.append((issue, stat, p_value))\n",
        "            \n",
        "            \n",
        "    # This block is for printing out the contents of all the categories above\n",
        "    classifications = [dem_favs, rep_favs, bipartisan, other]\n",
        "    headers = ['Issues favored by Democrats, p<{}',\n",
        "                'Issues favored by Republicans, p<{}',\n",
        "                'Bipartisan Issues, p>{}',\n",
        "                'Other Issues']\n",
        "    cutoffs = [significance_cutoff, significance_cutoff, bipartisan_cutoff, 0]\n",
        "    \n",
        "    for header, classification, cutoff in zip(headers, classifications, cutoffs):\n",
        "        print('{:50} {:<20} {}'.format('\\n\\n'+header.format(cutoff), \"Welch's t-test\", 'p_value'))\n",
        "        print('-'*80)\n",
        "    \n",
        "        for issue in classification:\n",
        "            print('{:50} {:<18.3} {:.3}'.format(issue[0], issue[1], issue[2]))"
      ],
      "execution_count": 0,
      "outputs": []
    },
    {
      "metadata": {
        "id": "oYvsj9GcLSSf",
        "colab_type": "code",
        "colab": {
          "base_uri": "https://localhost:8080/",
          "height": 580
        },
        "outputId": "0a550726-0673-4d9b-e874-3aecc6b4f140"
      },
      "cell_type": "code",
      "source": [
        "partisan_printout(voting, 0.01, 0.1)"
      ],
      "execution_count": 104,
      "outputs": [
        {
          "output_type": "stream",
          "text": [
            "\n",
            "\n",
            "Issues favored by Democrats, p<0.01              Welch's t-test       p_value\n",
            "--------------------------------------------------------------------------------\n",
            "handicapped                                        9.66               5.43e-20\n",
            "adoption                                           22.8               1.95e-69\n",
            "satellite                                          12.5               1.36e-29\n",
            "nicaragua                                          18.3               2.29e-52\n",
            "missile                                            17.4               4.29e-51\n",
            "synfuels                                           9.04               6.3e-18\n",
            "dutyfree                                           14.4               3.81e-38\n",
            "southafrica                                        6.4                1.04e-09\n",
            "\n",
            "\n",
            "Issues favored by Republicans, p<0.01            Welch's t-test       p_value\n",
            "--------------------------------------------------------------------------------\n",
            "physician                                          -56.7              8.82e-193\n",
            "salvaldor                                          -23.9              2.9e-79\n",
            "religion                                           -10.8              4.83e-24\n",
            "education                                          -20.7              3.57e-62\n",
            "superfund                                          -14.4              7.6e-38\n",
            "crime                                              -19.9              6.86e-58\n",
            "\n",
            "\n",
            "Bipartisan Issues, p>0.1                         Welch's t-test       p_value\n",
            "--------------------------------------------------------------------------------\n",
            "water                                              -0.0889            0.929\n",
            "\n",
            "\n",
            "Other Issues                                     Welch's t-test       p_value\n",
            "--------------------------------------------------------------------------------\n",
            "immigration                                        -1.74              0.0832\n"
          ],
          "name": "stdout"
        }
      ]
    },
    {
      "metadata": {
        "id": "P1NXKzqkLTx0",
        "colab_type": "code",
        "colab": {}
      },
      "cell_type": "code",
      "source": [
        ""
      ],
      "execution_count": 0,
      "outputs": []
    }
  ]
}