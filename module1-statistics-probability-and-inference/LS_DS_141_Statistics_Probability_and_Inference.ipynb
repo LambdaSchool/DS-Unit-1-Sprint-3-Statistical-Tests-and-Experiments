{
  "nbformat": 4,
  "nbformat_minor": 0,
  "metadata": {
    "colab": {
      "name": "LS DS 141 Statistics Probability and Inference.ipynb",
      "version": "0.3.2",
      "provenance": [],
      "include_colab_link": true
    },
    "kernelspec": {
      "name": "python3",
      "display_name": "Python 3"
    }
  },
  "cells": [
    {
      "cell_type": "markdown",
      "metadata": {
        "id": "view-in-github",
        "colab_type": "text"
      },
      "source": [
        "<a href=\"https://colab.research.google.com/github/BrianBehnke/DS-Unit-1-Sprint-4-Statistical-Tests-and-Experiments/blob/master/module1-statistics-probability-and-inference/LS_DS_141_Statistics_Probability_and_Inference.ipynb\" target=\"_parent\"><img src=\"https://colab.research.google.com/assets/colab-badge.svg\" alt=\"Open In Colab\"/></a>"
      ]
    },
    {
      "metadata": {
        "id": "eJGtmni-DezY",
        "colab_type": "text"
      },
      "cell_type": "markdown",
      "source": [
        "# Lambda School Data Science Module 141\n",
        "## Statistics, Probability, and Inference"
      ]
    },
    {
      "metadata": {
        "id": "FMhDKOFND0qY",
        "colab_type": "text"
      },
      "cell_type": "markdown",
      "source": [
        "## Prepare - examine what's available in SciPy\n",
        "\n",
        "As we delve into statistics, we'll be using more libraries - in particular the [stats package from SciPy](https://docs.scipy.org/doc/scipy/reference/tutorial/stats.html)."
      ]
    },
    {
      "metadata": {
        "id": "fQ9rkLJmEbsk",
        "colab_type": "code",
        "colab": {}
      },
      "cell_type": "code",
      "source": [
        "from scipy import stats\n",
        "dir(stats)"
      ],
      "execution_count": 0,
      "outputs": []
    },
    {
      "metadata": {
        "id": "bxW4SG_gJGlZ",
        "colab_type": "code",
        "outputId": "05758542-ef9f-4238-b764-3fe7c651e0d0",
        "colab": {
          "base_uri": "https://localhost:8080/",
          "height": 68
        }
      },
      "cell_type": "code",
      "source": [
        "# As usual, lots of stuff here! There's our friend, the normal distribution\n",
        "norm = stats.norm()\n",
        "print(norm.mean())\n",
        "print(norm.std())\n",
        "print(norm.var())"
      ],
      "execution_count": 2,
      "outputs": [
        {
          "output_type": "stream",
          "text": [
            "0.0\n",
            "1.0\n",
            "1.0\n"
          ],
          "name": "stdout"
        }
      ]
    },
    {
      "metadata": {
        "id": "RyNKPt_tJk86",
        "colab_type": "code",
        "outputId": "a180bbfe-4058-4f3c-d0c5-397b735c9993",
        "colab": {
          "base_uri": "https://localhost:8080/",
          "height": 68
        }
      },
      "cell_type": "code",
      "source": [
        "# And a new friend - t\n",
        "t1 = stats.t(5)  # 5 is df \"shape\" parameter\n",
        "print(t1.mean())\n",
        "print(t1.std())\n",
        "print(t1.var())"
      ],
      "execution_count": 3,
      "outputs": [
        {
          "output_type": "stream",
          "text": [
            "0.0\n",
            "1.2909944487358056\n",
            "1.6666666666666667\n"
          ],
          "name": "stdout"
        }
      ]
    },
    {
      "metadata": {
        "id": "SRn1zMuaKgxX",
        "colab_type": "text"
      },
      "cell_type": "markdown",
      "source": [
        "![T distribution PDF with different shape parameters](https://upload.wikimedia.org/wikipedia/commons/4/41/Student_t_pdf.svg)\n",
        "\n",
        "*(Picture from [Wikipedia](https://en.wikipedia.org/wiki/Student's_t-distribution#/media/File:Student_t_pdf.svg))*\n",
        "\n",
        "The t-distribution is \"normal-ish\" - the larger the parameter (which reflects its degrees of freedom - more input data/features will increase it), the closer to true normal."
      ]
    },
    {
      "metadata": {
        "id": "seQv5unnJvpM",
        "colab_type": "code",
        "outputId": "49e2d7df-6116-4edc-b4a1-7cc01eee78ad",
        "colab": {
          "base_uri": "https://localhost:8080/",
          "height": 68
        }
      },
      "cell_type": "code",
      "source": [
        "t2 = stats.t(30)  # Will be closer to normal\n",
        "print(t2.mean())\n",
        "print(t2.std())\n",
        "print(t2.var())"
      ],
      "execution_count": 5,
      "outputs": [
        {
          "output_type": "stream",
          "text": [
            "0.0\n",
            "1.0350983390135313\n",
            "1.0714285714285714\n"
          ],
          "name": "stdout"
        }
      ]
    },
    {
      "metadata": {
        "id": "FOvEGMysLaE2",
        "colab_type": "text"
      },
      "cell_type": "markdown",
      "source": [
        "Why is it different from normal? To better reflect the tendencies of small data and situations with unknown population standard deviation. In other words, the normal distribution is still the nice pure ideal in the limit (thanks to the central limit theorem), but the t-distribution is much more useful in many real-world situations.\n",
        "\n",
        "History sidenote - this is \"Student\":\n",
        "\n",
        "![William Sealy Gosset](https://upload.wikimedia.org/wikipedia/commons/4/42/William_Sealy_Gosset.jpg)\n",
        "\n",
        "*(Picture from [Wikipedia](https://en.wikipedia.org/wiki/File:William_Sealy_Gosset.jpg))*\n",
        "\n",
        "His real name is William Sealy Gosset, and he published under the pen name \"Student\" because he was not an academic. He was a brewer, working at Guinness and using trial and error to determine the best ways to yield barley. He's also proof that, even 100 years ago, you don't need official credentials to do real data science!"
      ]
    },
    {
      "metadata": {
        "id": "1yx_QilAEC6o",
        "colab_type": "text"
      },
      "cell_type": "markdown",
      "source": [
        "## Live Lecture - let's perform and interpret a t-test\n",
        "\n",
        "We'll generate our own data, so we can know and alter the \"ground truth\" that the t-test should find. We will learn about p-values and how to interpret \"statistical significance\" based on the output of a hypothesis test."
      ]
    },
    {
      "metadata": {
        "id": "BuysRPs-Ed0v",
        "colab_type": "code",
        "colab": {}
      },
      "cell_type": "code",
      "source": [
        "# TODO - during class, but please help!"
      ],
      "execution_count": 0,
      "outputs": []
    },
    {
      "metadata": {
        "id": "egXb7YpqEcZF",
        "colab_type": "text"
      },
      "cell_type": "markdown",
      "source": [
        "## Assignment - apply the t-test to real data\n",
        "\n",
        "Your assignment is to determine which issues have \"statistically significant\" differences between political parties in this [1980s congressional voting data](https://archive.ics.uci.edu/ml/datasets/Congressional+Voting+Records). The data consists of 435 instances (one for each congressperson), a class (democrat or republican), and 16 binary attributes (yes or no for voting for or against certain issues). Be aware - there are missing values!\n",
        "\n",
        "Your goals:\n",
        "\n",
        "1. Load and clean the data (or determine the best method to drop observations when running tests)\n",
        "2. Using hypothesis testing, find an issue that democrats support more than republicans with p < 0.01\n",
        "3. Using hypothesis testing, find an issue that republicans support more than democrats with p < 0.01\n",
        "4. Using hypothesis testing, find an issue where the difference between republicans and democrats has p > 0.1 (i.e. there may not be much of a difference)\n",
        "\n",
        "Note that this data will involve *2 sample* t-tests, because you're comparing averages across two groups (republicans and democrats) rather than a single group against a null hypothesis.\n",
        "\n",
        "Stretch goals:\n",
        "\n",
        "1. Refactor your code into functions so it's easy to rerun with arbitrary variables\n",
        "2. Apply hypothesis testing to your personal project data (for the purposes of this notebook you can type a summary of the hypothesis you formed and tested)"
      ]
    },
    {
      "metadata": {
        "id": "nstrmCG-Ecyk",
        "colab_type": "code",
        "colab": {}
      },
      "cell_type": "code",
      "source": [
        "# TODO - your code here!\n",
        "\n",
        "import pandas as pd\n",
        "import numpy as np\n",
        "%matplotlib inline\n",
        "import matplotlib.pyplot as plt\n",
        "\n",
        "url = 'https://archive.ics.uci.edu/ml/machine-learning-databases/voting-records/house-votes-84.data'"
      ],
      "execution_count": 0,
      "outputs": []
    },
    {
      "metadata": {
        "id": "H2XD3sif60XM",
        "colab_type": "code",
        "colab": {
          "base_uri": "https://localhost:8080/",
          "height": 306
        },
        "outputId": "96e7de35-398e-41ed-971c-033b0dfd73a7"
      },
      "cell_type": "code",
      "source": [
        "!pip install --upgrade seaborn"
      ],
      "execution_count": 14,
      "outputs": [
        {
          "output_type": "stream",
          "text": [
            "Collecting seaborn\n",
            "\u001b[?25l  Downloading https://files.pythonhosted.org/packages/a8/76/220ba4420459d9c4c9c9587c6ce607bf56c25b3d3d2de62056efe482dadc/seaborn-0.9.0-py3-none-any.whl (208kB)\n",
            "\r\u001b[K    4% |█▋                              | 10kB 14.8MB/s eta 0:00:01\r\u001b[K    9% |███▏                            | 20kB 3.6MB/s eta 0:00:01\r\u001b[K    14% |████▊                           | 30kB 5.1MB/s eta 0:00:01\r\u001b[K    19% |██████▎                         | 40kB 3.2MB/s eta 0:00:01\r\u001b[K    24% |███████▉                        | 51kB 3.9MB/s eta 0:00:01\r\u001b[K    29% |█████████▌                      | 61kB 4.6MB/s eta 0:00:01\r\u001b[K    34% |███████████                     | 71kB 5.2MB/s eta 0:00:01\r\u001b[K    39% |████████████▋                   | 81kB 5.8MB/s eta 0:00:01\r\u001b[K    44% |██████████████▏                 | 92kB 6.5MB/s eta 0:00:01\r\u001b[K    49% |███████████████▊                | 102kB 5.2MB/s eta 0:00:01\r\u001b[K    54% |█████████████████▎              | 112kB 5.2MB/s eta 0:00:01\r\u001b[K    59% |███████████████████             | 122kB 6.9MB/s eta 0:00:01\r\u001b[K    63% |████████████████████▌           | 133kB 6.8MB/s eta 0:00:01\r\u001b[K    68% |██████████████████████          | 143kB 12.0MB/s eta 0:00:01\r\u001b[K    73% |███████████████████████▋        | 153kB 12.3MB/s eta 0:00:01\r\u001b[K    78% |█████████████████████████▏      | 163kB 12.4MB/s eta 0:00:01\r\u001b[K    83% |██████████████████████████▊     | 174kB 12.4MB/s eta 0:00:01\r\u001b[K    88% |████████████████████████████▍   | 184kB 12.5MB/s eta 0:00:01\r\u001b[K    93% |██████████████████████████████  | 194kB 12.6MB/s eta 0:00:01\r\u001b[K    98% |███████████████████████████████▌| 204kB 33.7MB/s eta 0:00:01\r\u001b[K    100% |████████████████████████████████| 215kB 22.2MB/s \n",
            "\u001b[?25hRequirement already satisfied, skipping upgrade: pandas>=0.15.2 in /usr/local/lib/python3.6/dist-packages (from seaborn) (0.22.0)\n",
            "Requirement already satisfied, skipping upgrade: matplotlib>=1.4.3 in /usr/local/lib/python3.6/dist-packages (from seaborn) (2.1.2)\n",
            "Requirement already satisfied, skipping upgrade: numpy>=1.9.3 in /usr/local/lib/python3.6/dist-packages (from seaborn) (1.14.6)\n",
            "Requirement already satisfied, skipping upgrade: scipy>=0.14.0 in /usr/local/lib/python3.6/dist-packages (from seaborn) (1.1.0)\n",
            "Requirement already satisfied, skipping upgrade: python-dateutil>=2 in /usr/local/lib/python3.6/dist-packages (from pandas>=0.15.2->seaborn) (2.5.3)\n",
            "Requirement already satisfied, skipping upgrade: pytz>=2011k in /usr/local/lib/python3.6/dist-packages (from pandas>=0.15.2->seaborn) (2018.7)\n",
            "Requirement already satisfied, skipping upgrade: six>=1.10 in /usr/local/lib/python3.6/dist-packages (from matplotlib>=1.4.3->seaborn) (1.11.0)\n",
            "Requirement already satisfied, skipping upgrade: pyparsing!=2.0.4,!=2.1.2,!=2.1.6,>=2.0.1 in /usr/local/lib/python3.6/dist-packages (from matplotlib>=1.4.3->seaborn) (2.3.0)\n",
            "Requirement already satisfied, skipping upgrade: cycler>=0.10 in /usr/local/lib/python3.6/dist-packages (from matplotlib>=1.4.3->seaborn) (0.10.0)\n",
            "Installing collected packages: seaborn\n",
            "  Found existing installation: seaborn 0.7.1\n",
            "    Uninstalling seaborn-0.7.1:\n",
            "      Successfully uninstalled seaborn-0.7.1\n",
            "Successfully installed seaborn-0.9.0\n"
          ],
          "name": "stdout"
        }
      ]
    },
    {
      "metadata": {
        "id": "4lLgHqiN624L",
        "colab_type": "code",
        "colab": {
          "base_uri": "https://localhost:8080/",
          "height": 34
        },
        "outputId": "140c0ffb-a4a0-49b8-8f48-a7d57b0741ea"
      },
      "cell_type": "code",
      "source": [
        "import seaborn as sns\n",
        "sns.__version__"
      ],
      "execution_count": 2,
      "outputs": [
        {
          "output_type": "execute_result",
          "data": {
            "text/plain": [
              "'0.9.0'"
            ]
          },
          "metadata": {
            "tags": []
          },
          "execution_count": 2
        }
      ]
    },
    {
      "metadata": {
        "id": "1IRyiU-42dIF",
        "colab_type": "code",
        "colab": {
          "base_uri": "https://localhost:8080/",
          "height": 224
        },
        "outputId": "3a409892-8062-44fd-875c-d8424fbe2d16"
      },
      "cell_type": "code",
      "source": [
        "column_names = ['party_affiliation', 'handicapped_infants', 'water_project_cost_sharing', \n",
        "                'adoption_of_the_budget_resolution', 'physician_fee_freeze', \n",
        "                'el_salvador_aid', 'religious_groups_in_schools', 'anti_satellite_test_ban',\n",
        "                'aid_to_nicaraguan_contras', 'mx_missile', 'immigration', \n",
        "                'synfuels_corporation_cutback', 'education_spending', \n",
        "                'superfund_right_to_sue', 'crime', 'duty_free_exports', \n",
        "                'export_administration_act_south_africa']\n",
        "vote_data = pd.read_csv(url, header=None, names=column_names)\n",
        "vote_data.head()"
      ],
      "execution_count": 3,
      "outputs": [
        {
          "output_type": "execute_result",
          "data": {
            "text/html": [
              "<div>\n",
              "<style scoped>\n",
              "    .dataframe tbody tr th:only-of-type {\n",
              "        vertical-align: middle;\n",
              "    }\n",
              "\n",
              "    .dataframe tbody tr th {\n",
              "        vertical-align: top;\n",
              "    }\n",
              "\n",
              "    .dataframe thead th {\n",
              "        text-align: right;\n",
              "    }\n",
              "</style>\n",
              "<table border=\"1\" class=\"dataframe\">\n",
              "  <thead>\n",
              "    <tr style=\"text-align: right;\">\n",
              "      <th></th>\n",
              "      <th>party_affiliation</th>\n",
              "      <th>handicapped_infants</th>\n",
              "      <th>water_project_cost_sharing</th>\n",
              "      <th>adoption_of_the_budget_resolution</th>\n",
              "      <th>physician_fee_freeze</th>\n",
              "      <th>el_salvador_aid</th>\n",
              "      <th>religious_groups_in_schools</th>\n",
              "      <th>anti_satellite_test_ban</th>\n",
              "      <th>aid_to_nicaraguan_contras</th>\n",
              "      <th>mx_missile</th>\n",
              "      <th>immigration</th>\n",
              "      <th>synfuels_corporation_cutback</th>\n",
              "      <th>education_spending</th>\n",
              "      <th>superfund_right_to_sue</th>\n",
              "      <th>crime</th>\n",
              "      <th>duty_free_exports</th>\n",
              "      <th>export_administration_act_south_africa</th>\n",
              "    </tr>\n",
              "  </thead>\n",
              "  <tbody>\n",
              "    <tr>\n",
              "      <th>0</th>\n",
              "      <td>republican</td>\n",
              "      <td>n</td>\n",
              "      <td>y</td>\n",
              "      <td>n</td>\n",
              "      <td>y</td>\n",
              "      <td>y</td>\n",
              "      <td>y</td>\n",
              "      <td>n</td>\n",
              "      <td>n</td>\n",
              "      <td>n</td>\n",
              "      <td>y</td>\n",
              "      <td>?</td>\n",
              "      <td>y</td>\n",
              "      <td>y</td>\n",
              "      <td>y</td>\n",
              "      <td>n</td>\n",
              "      <td>y</td>\n",
              "    </tr>\n",
              "    <tr>\n",
              "      <th>1</th>\n",
              "      <td>republican</td>\n",
              "      <td>n</td>\n",
              "      <td>y</td>\n",
              "      <td>n</td>\n",
              "      <td>y</td>\n",
              "      <td>y</td>\n",
              "      <td>y</td>\n",
              "      <td>n</td>\n",
              "      <td>n</td>\n",
              "      <td>n</td>\n",
              "      <td>n</td>\n",
              "      <td>n</td>\n",
              "      <td>y</td>\n",
              "      <td>y</td>\n",
              "      <td>y</td>\n",
              "      <td>n</td>\n",
              "      <td>?</td>\n",
              "    </tr>\n",
              "    <tr>\n",
              "      <th>2</th>\n",
              "      <td>democrat</td>\n",
              "      <td>?</td>\n",
              "      <td>y</td>\n",
              "      <td>y</td>\n",
              "      <td>?</td>\n",
              "      <td>y</td>\n",
              "      <td>y</td>\n",
              "      <td>n</td>\n",
              "      <td>n</td>\n",
              "      <td>n</td>\n",
              "      <td>n</td>\n",
              "      <td>y</td>\n",
              "      <td>n</td>\n",
              "      <td>y</td>\n",
              "      <td>y</td>\n",
              "      <td>n</td>\n",
              "      <td>n</td>\n",
              "    </tr>\n",
              "    <tr>\n",
              "      <th>3</th>\n",
              "      <td>democrat</td>\n",
              "      <td>n</td>\n",
              "      <td>y</td>\n",
              "      <td>y</td>\n",
              "      <td>n</td>\n",
              "      <td>?</td>\n",
              "      <td>y</td>\n",
              "      <td>n</td>\n",
              "      <td>n</td>\n",
              "      <td>n</td>\n",
              "      <td>n</td>\n",
              "      <td>y</td>\n",
              "      <td>n</td>\n",
              "      <td>y</td>\n",
              "      <td>n</td>\n",
              "      <td>n</td>\n",
              "      <td>y</td>\n",
              "    </tr>\n",
              "    <tr>\n",
              "      <th>4</th>\n",
              "      <td>democrat</td>\n",
              "      <td>y</td>\n",
              "      <td>y</td>\n",
              "      <td>y</td>\n",
              "      <td>n</td>\n",
              "      <td>y</td>\n",
              "      <td>y</td>\n",
              "      <td>n</td>\n",
              "      <td>n</td>\n",
              "      <td>n</td>\n",
              "      <td>n</td>\n",
              "      <td>y</td>\n",
              "      <td>?</td>\n",
              "      <td>y</td>\n",
              "      <td>y</td>\n",
              "      <td>y</td>\n",
              "      <td>y</td>\n",
              "    </tr>\n",
              "  </tbody>\n",
              "</table>\n",
              "</div>"
            ],
            "text/plain": [
              "  party_affiliation handicapped_infants water_project_cost_sharing  \\\n",
              "0        republican                   n                          y   \n",
              "1        republican                   n                          y   \n",
              "2          democrat                   ?                          y   \n",
              "3          democrat                   n                          y   \n",
              "4          democrat                   y                          y   \n",
              "\n",
              "  adoption_of_the_budget_resolution physician_fee_freeze el_salvador_aid  \\\n",
              "0                                 n                    y               y   \n",
              "1                                 n                    y               y   \n",
              "2                                 y                    ?               y   \n",
              "3                                 y                    n               ?   \n",
              "4                                 y                    n               y   \n",
              "\n",
              "  religious_groups_in_schools anti_satellite_test_ban  \\\n",
              "0                           y                       n   \n",
              "1                           y                       n   \n",
              "2                           y                       n   \n",
              "3                           y                       n   \n",
              "4                           y                       n   \n",
              "\n",
              "  aid_to_nicaraguan_contras mx_missile immigration  \\\n",
              "0                         n          n           y   \n",
              "1                         n          n           n   \n",
              "2                         n          n           n   \n",
              "3                         n          n           n   \n",
              "4                         n          n           n   \n",
              "\n",
              "  synfuels_corporation_cutback education_spending superfund_right_to_sue  \\\n",
              "0                            ?                  y                      y   \n",
              "1                            n                  y                      y   \n",
              "2                            y                  n                      y   \n",
              "3                            y                  n                      y   \n",
              "4                            y                  ?                      y   \n",
              "\n",
              "  crime duty_free_exports export_administration_act_south_africa  \n",
              "0     y                 n                                      y  \n",
              "1     y                 n                                      ?  \n",
              "2     y                 n                                      n  \n",
              "3     n                 n                                      y  \n",
              "4     y                 y                                      y  "
            ]
          },
          "metadata": {
            "tags": []
          },
          "execution_count": 3
        }
      ]
    },
    {
      "metadata": {
        "id": "QRazCMko9fXg",
        "colab_type": "code",
        "colab": {
          "base_uri": "https://localhost:8080/",
          "height": 224
        },
        "outputId": "b0c03dd6-4573-4593-b87f-4f4762c8d017"
      },
      "cell_type": "code",
      "source": [
        "vote_data_replace = vote_data.replace('?', np.nan)\n",
        "#print(vote_data.isna().sum())\n",
        "vote_data_replace.head()"
      ],
      "execution_count": 18,
      "outputs": [
        {
          "output_type": "execute_result",
          "data": {
            "text/html": [
              "<div>\n",
              "<style scoped>\n",
              "    .dataframe tbody tr th:only-of-type {\n",
              "        vertical-align: middle;\n",
              "    }\n",
              "\n",
              "    .dataframe tbody tr th {\n",
              "        vertical-align: top;\n",
              "    }\n",
              "\n",
              "    .dataframe thead th {\n",
              "        text-align: right;\n",
              "    }\n",
              "</style>\n",
              "<table border=\"1\" class=\"dataframe\">\n",
              "  <thead>\n",
              "    <tr style=\"text-align: right;\">\n",
              "      <th></th>\n",
              "      <th>party_affiliation</th>\n",
              "      <th>handicapped_infants</th>\n",
              "      <th>water_project_cost_sharing</th>\n",
              "      <th>adoption_of_the_budget_resolution</th>\n",
              "      <th>physician_fee_freeze</th>\n",
              "      <th>el_salvador_aid</th>\n",
              "      <th>religious_groups_in_schools</th>\n",
              "      <th>anti_satellite_test_ban</th>\n",
              "      <th>aid_to_nicaraguan_contras</th>\n",
              "      <th>mx_missile</th>\n",
              "      <th>immigration</th>\n",
              "      <th>synfuels_corporation_cutback</th>\n",
              "      <th>education_spending</th>\n",
              "      <th>superfund_right_to_sue</th>\n",
              "      <th>crime</th>\n",
              "      <th>duty_free_exports</th>\n",
              "      <th>export_administration_act_south_africa</th>\n",
              "    </tr>\n",
              "  </thead>\n",
              "  <tbody>\n",
              "    <tr>\n",
              "      <th>0</th>\n",
              "      <td>republican</td>\n",
              "      <td>n</td>\n",
              "      <td>y</td>\n",
              "      <td>n</td>\n",
              "      <td>y</td>\n",
              "      <td>y</td>\n",
              "      <td>y</td>\n",
              "      <td>n</td>\n",
              "      <td>n</td>\n",
              "      <td>n</td>\n",
              "      <td>y</td>\n",
              "      <td>NaN</td>\n",
              "      <td>y</td>\n",
              "      <td>y</td>\n",
              "      <td>y</td>\n",
              "      <td>n</td>\n",
              "      <td>y</td>\n",
              "    </tr>\n",
              "    <tr>\n",
              "      <th>1</th>\n",
              "      <td>republican</td>\n",
              "      <td>n</td>\n",
              "      <td>y</td>\n",
              "      <td>n</td>\n",
              "      <td>y</td>\n",
              "      <td>y</td>\n",
              "      <td>y</td>\n",
              "      <td>n</td>\n",
              "      <td>n</td>\n",
              "      <td>n</td>\n",
              "      <td>n</td>\n",
              "      <td>n</td>\n",
              "      <td>y</td>\n",
              "      <td>y</td>\n",
              "      <td>y</td>\n",
              "      <td>n</td>\n",
              "      <td>NaN</td>\n",
              "    </tr>\n",
              "    <tr>\n",
              "      <th>2</th>\n",
              "      <td>democrat</td>\n",
              "      <td>NaN</td>\n",
              "      <td>y</td>\n",
              "      <td>y</td>\n",
              "      <td>NaN</td>\n",
              "      <td>y</td>\n",
              "      <td>y</td>\n",
              "      <td>n</td>\n",
              "      <td>n</td>\n",
              "      <td>n</td>\n",
              "      <td>n</td>\n",
              "      <td>y</td>\n",
              "      <td>n</td>\n",
              "      <td>y</td>\n",
              "      <td>y</td>\n",
              "      <td>n</td>\n",
              "      <td>n</td>\n",
              "    </tr>\n",
              "    <tr>\n",
              "      <th>3</th>\n",
              "      <td>democrat</td>\n",
              "      <td>n</td>\n",
              "      <td>y</td>\n",
              "      <td>y</td>\n",
              "      <td>n</td>\n",
              "      <td>NaN</td>\n",
              "      <td>y</td>\n",
              "      <td>n</td>\n",
              "      <td>n</td>\n",
              "      <td>n</td>\n",
              "      <td>n</td>\n",
              "      <td>y</td>\n",
              "      <td>n</td>\n",
              "      <td>y</td>\n",
              "      <td>n</td>\n",
              "      <td>n</td>\n",
              "      <td>y</td>\n",
              "    </tr>\n",
              "    <tr>\n",
              "      <th>4</th>\n",
              "      <td>democrat</td>\n",
              "      <td>y</td>\n",
              "      <td>y</td>\n",
              "      <td>y</td>\n",
              "      <td>n</td>\n",
              "      <td>y</td>\n",
              "      <td>y</td>\n",
              "      <td>n</td>\n",
              "      <td>n</td>\n",
              "      <td>n</td>\n",
              "      <td>n</td>\n",
              "      <td>y</td>\n",
              "      <td>NaN</td>\n",
              "      <td>y</td>\n",
              "      <td>y</td>\n",
              "      <td>y</td>\n",
              "      <td>y</td>\n",
              "    </tr>\n",
              "  </tbody>\n",
              "</table>\n",
              "</div>"
            ],
            "text/plain": [
              "  party_affiliation handicapped_infants water_project_cost_sharing  \\\n",
              "0        republican                   n                          y   \n",
              "1        republican                   n                          y   \n",
              "2          democrat                 NaN                          y   \n",
              "3          democrat                   n                          y   \n",
              "4          democrat                   y                          y   \n",
              "\n",
              "  adoption_of_the_budget_resolution physician_fee_freeze el_salvador_aid  \\\n",
              "0                                 n                    y               y   \n",
              "1                                 n                    y               y   \n",
              "2                                 y                  NaN               y   \n",
              "3                                 y                    n             NaN   \n",
              "4                                 y                    n               y   \n",
              "\n",
              "  religious_groups_in_schools anti_satellite_test_ban  \\\n",
              "0                           y                       n   \n",
              "1                           y                       n   \n",
              "2                           y                       n   \n",
              "3                           y                       n   \n",
              "4                           y                       n   \n",
              "\n",
              "  aid_to_nicaraguan_contras mx_missile immigration  \\\n",
              "0                         n          n           y   \n",
              "1                         n          n           n   \n",
              "2                         n          n           n   \n",
              "3                         n          n           n   \n",
              "4                         n          n           n   \n",
              "\n",
              "  synfuels_corporation_cutback education_spending superfund_right_to_sue  \\\n",
              "0                          NaN                  y                      y   \n",
              "1                            n                  y                      y   \n",
              "2                            y                  n                      y   \n",
              "3                            y                  n                      y   \n",
              "4                            y                NaN                      y   \n",
              "\n",
              "  crime duty_free_exports export_administration_act_south_africa  \n",
              "0     y                 n                                      y  \n",
              "1     y                 n                                    NaN  \n",
              "2     y                 n                                      n  \n",
              "3     n                 n                                      y  \n",
              "4     y                 y                                      y  "
            ]
          },
          "metadata": {
            "tags": []
          },
          "execution_count": 18
        }
      ]
    },
    {
      "metadata": {
        "id": "P_hxK85z_8jK",
        "colab_type": "code",
        "colab": {
          "base_uri": "https://localhost:8080/",
          "height": 68
        },
        "outputId": "2b6b0bbf-2cfd-491a-eff8-e5f09d8471cb"
      },
      "cell_type": "code",
      "source": [
        "pd.value_counts(vote_data_replace['handicapped_infants'].values)"
      ],
      "execution_count": 23,
      "outputs": [
        {
          "output_type": "execute_result",
          "data": {
            "text/plain": [
              "n    236\n",
              "y    187\n",
              "dtype: int64"
            ]
          },
          "metadata": {
            "tags": []
          },
          "execution_count": 23
        }
      ]
    },
    {
      "metadata": {
        "id": "J0PMO40bGOw9",
        "colab_type": "code",
        "colab": {
          "base_uri": "https://localhost:8080/",
          "height": 68
        },
        "outputId": "1023a64d-437f-47a9-86d6-ccc7eab70357"
      },
      "cell_type": "code",
      "source": [
        "pd.value_counts(vote_data_replace['water_project_cost_sharing'].values, normalize=True)"
      ],
      "execution_count": 26,
      "outputs": [
        {
          "output_type": "execute_result",
          "data": {
            "text/plain": [
              "y    0.503876\n",
              "n    0.496124\n",
              "dtype: float64"
            ]
          },
          "metadata": {
            "tags": []
          },
          "execution_count": 26
        }
      ]
    },
    {
      "metadata": {
        "id": "Yj3C9WbXBF-I",
        "colab_type": "code",
        "colab": {
          "base_uri": "https://localhost:8080/",
          "height": 576
        },
        "outputId": "b6a90ef1-f9ca-4362-9e70-283308ddb846"
      },
      "cell_type": "code",
      "source": [
        "vote_data_replace.describe().T"
      ],
      "execution_count": 27,
      "outputs": [
        {
          "output_type": "execute_result",
          "data": {
            "text/html": [
              "<div>\n",
              "<style scoped>\n",
              "    .dataframe tbody tr th:only-of-type {\n",
              "        vertical-align: middle;\n",
              "    }\n",
              "\n",
              "    .dataframe tbody tr th {\n",
              "        vertical-align: top;\n",
              "    }\n",
              "\n",
              "    .dataframe thead th {\n",
              "        text-align: right;\n",
              "    }\n",
              "</style>\n",
              "<table border=\"1\" class=\"dataframe\">\n",
              "  <thead>\n",
              "    <tr style=\"text-align: right;\">\n",
              "      <th></th>\n",
              "      <th>count</th>\n",
              "      <th>unique</th>\n",
              "      <th>top</th>\n",
              "      <th>freq</th>\n",
              "    </tr>\n",
              "  </thead>\n",
              "  <tbody>\n",
              "    <tr>\n",
              "      <th>party_affiliation</th>\n",
              "      <td>435</td>\n",
              "      <td>2</td>\n",
              "      <td>democrat</td>\n",
              "      <td>267</td>\n",
              "    </tr>\n",
              "    <tr>\n",
              "      <th>handicapped_infants</th>\n",
              "      <td>423</td>\n",
              "      <td>2</td>\n",
              "      <td>n</td>\n",
              "      <td>236</td>\n",
              "    </tr>\n",
              "    <tr>\n",
              "      <th>water_project_cost_sharing</th>\n",
              "      <td>387</td>\n",
              "      <td>2</td>\n",
              "      <td>y</td>\n",
              "      <td>195</td>\n",
              "    </tr>\n",
              "    <tr>\n",
              "      <th>adoption_of_the_budget_resolution</th>\n",
              "      <td>424</td>\n",
              "      <td>2</td>\n",
              "      <td>y</td>\n",
              "      <td>253</td>\n",
              "    </tr>\n",
              "    <tr>\n",
              "      <th>physician_fee_freeze</th>\n",
              "      <td>424</td>\n",
              "      <td>2</td>\n",
              "      <td>n</td>\n",
              "      <td>247</td>\n",
              "    </tr>\n",
              "    <tr>\n",
              "      <th>el_salvador_aid</th>\n",
              "      <td>420</td>\n",
              "      <td>2</td>\n",
              "      <td>y</td>\n",
              "      <td>212</td>\n",
              "    </tr>\n",
              "    <tr>\n",
              "      <th>religious_groups_in_schools</th>\n",
              "      <td>424</td>\n",
              "      <td>2</td>\n",
              "      <td>y</td>\n",
              "      <td>272</td>\n",
              "    </tr>\n",
              "    <tr>\n",
              "      <th>anti_satellite_test_ban</th>\n",
              "      <td>421</td>\n",
              "      <td>2</td>\n",
              "      <td>y</td>\n",
              "      <td>239</td>\n",
              "    </tr>\n",
              "    <tr>\n",
              "      <th>aid_to_nicaraguan_contras</th>\n",
              "      <td>420</td>\n",
              "      <td>2</td>\n",
              "      <td>y</td>\n",
              "      <td>242</td>\n",
              "    </tr>\n",
              "    <tr>\n",
              "      <th>mx_missile</th>\n",
              "      <td>413</td>\n",
              "      <td>2</td>\n",
              "      <td>y</td>\n",
              "      <td>207</td>\n",
              "    </tr>\n",
              "    <tr>\n",
              "      <th>immigration</th>\n",
              "      <td>428</td>\n",
              "      <td>2</td>\n",
              "      <td>y</td>\n",
              "      <td>216</td>\n",
              "    </tr>\n",
              "    <tr>\n",
              "      <th>synfuels_corporation_cutback</th>\n",
              "      <td>414</td>\n",
              "      <td>2</td>\n",
              "      <td>n</td>\n",
              "      <td>264</td>\n",
              "    </tr>\n",
              "    <tr>\n",
              "      <th>education_spending</th>\n",
              "      <td>404</td>\n",
              "      <td>2</td>\n",
              "      <td>n</td>\n",
              "      <td>233</td>\n",
              "    </tr>\n",
              "    <tr>\n",
              "      <th>superfund_right_to_sue</th>\n",
              "      <td>410</td>\n",
              "      <td>2</td>\n",
              "      <td>y</td>\n",
              "      <td>209</td>\n",
              "    </tr>\n",
              "    <tr>\n",
              "      <th>crime</th>\n",
              "      <td>418</td>\n",
              "      <td>2</td>\n",
              "      <td>y</td>\n",
              "      <td>248</td>\n",
              "    </tr>\n",
              "    <tr>\n",
              "      <th>duty_free_exports</th>\n",
              "      <td>407</td>\n",
              "      <td>2</td>\n",
              "      <td>n</td>\n",
              "      <td>233</td>\n",
              "    </tr>\n",
              "    <tr>\n",
              "      <th>export_administration_act_south_africa</th>\n",
              "      <td>331</td>\n",
              "      <td>2</td>\n",
              "      <td>y</td>\n",
              "      <td>269</td>\n",
              "    </tr>\n",
              "  </tbody>\n",
              "</table>\n",
              "</div>"
            ],
            "text/plain": [
              "                                       count unique       top freq\n",
              "party_affiliation                        435      2  democrat  267\n",
              "handicapped_infants                      423      2         n  236\n",
              "water_project_cost_sharing               387      2         y  195\n",
              "adoption_of_the_budget_resolution        424      2         y  253\n",
              "physician_fee_freeze                     424      2         n  247\n",
              "el_salvador_aid                          420      2         y  212\n",
              "religious_groups_in_schools              424      2         y  272\n",
              "anti_satellite_test_ban                  421      2         y  239\n",
              "aid_to_nicaraguan_contras                420      2         y  242\n",
              "mx_missile                               413      2         y  207\n",
              "immigration                              428      2         y  216\n",
              "synfuels_corporation_cutback             414      2         n  264\n",
              "education_spending                       404      2         n  233\n",
              "superfund_right_to_sue                   410      2         y  209\n",
              "crime                                    418      2         y  248\n",
              "duty_free_exports                        407      2         n  233\n",
              "export_administration_act_south_africa   331      2         y  269"
            ]
          },
          "metadata": {
            "tags": []
          },
          "execution_count": 27
        }
      ]
    },
    {
      "metadata": {
        "id": "dAbZ1Q8GHMfC",
        "colab_type": "code",
        "colab": {
          "base_uri": "https://localhost:8080/",
          "height": 323
        },
        "outputId": "21e7d4a3-c412-4f8b-dbc8-3bba1466fb4d"
      },
      "cell_type": "code",
      "source": [
        "percents = vote_data_replace.describe().T\n",
        "percents['percent'] = percents['freq']/percents['count']\n",
        "print(percents)"
      ],
      "execution_count": 29,
      "outputs": [
        {
          "output_type": "stream",
          "text": [
            "                                       count unique       top freq   percent\n",
            "party_affiliation                        435      2  democrat  267  0.613793\n",
            "handicapped_infants                      423      2         n  236   0.55792\n",
            "water_project_cost_sharing               387      2         y  195  0.503876\n",
            "adoption_of_the_budget_resolution        424      2         y  253  0.596698\n",
            "physician_fee_freeze                     424      2         n  247  0.582547\n",
            "el_salvador_aid                          420      2         y  212  0.504762\n",
            "religious_groups_in_schools              424      2         y  272  0.641509\n",
            "anti_satellite_test_ban                  421      2         y  239  0.567696\n",
            "aid_to_nicaraguan_contras                420      2         y  242   0.57619\n",
            "mx_missile                               413      2         y  207  0.501211\n",
            "immigration                              428      2         y  216  0.504673\n",
            "synfuels_corporation_cutback             414      2         n  264  0.637681\n",
            "education_spending                       404      2         n  233  0.576733\n",
            "superfund_right_to_sue                   410      2         y  209  0.509756\n",
            "crime                                    418      2         y  248  0.593301\n",
            "duty_free_exports                        407      2         n  233  0.572482\n",
            "export_administration_act_south_africa   331      2         y  269  0.812689\n"
          ],
          "name": "stdout"
        }
      ]
    },
    {
      "metadata": {
        "id": "CKJohzBWKyjM",
        "colab_type": "code",
        "colab": {
          "base_uri": "https://localhost:8080/",
          "height": 714
        },
        "outputId": "d78a86ca-889d-4377-db3c-940366d16707"
      },
      "cell_type": "code",
      "source": [
        "#pd.crosstab(vote_data_replace['party_affiliation'], vote_data_replace[['handicapped_infants', vote_data_replace'water_project_cost_sharing']])\n",
        "crosstab = pd.crosstab(vote_data_replace['party_affiliation'], [vote_data_replace['handicapped_infants'], \n",
        "            vote_data_replace['water_project_cost_sharing'], vote_data_replace['adoption_of_the_budget_resolution'],\n",
        "            vote_data_replace['physician_fee_freeze'],\n",
        "            vote_data_replace['el_salvador_aid'],\n",
        "            vote_data_replace['religious_groups_in_schools'],\n",
        "            vote_data_replace['anti_satellite_test_ban'],\n",
        "            vote_data_replace['aid_to_nicaraguan_contras'],\n",
        "            vote_data_replace['mx_missile'],\n",
        "            vote_data_replace['immigration'],\n",
        "            vote_data_replace['synfuels_corporation_cutback'],\n",
        "            vote_data_replace['education_spending'],\n",
        "            vote_data_replace['superfund_right_to_sue'],\n",
        "            vote_data_replace['crime'],\n",
        "            vote_data_replace['duty_free_exports'],\n",
        "            vote_data_replace['export_administration_act_south_africa']])\n",
        "print(crosstab)"
      ],
      "execution_count": 51,
      "outputs": [
        {
          "output_type": "stream",
          "text": [
            "handicapped_infants                     n                            ...  y  \\\n",
            "water_project_cost_sharing              n                            ...  y   \n",
            "adoption_of_the_budget_resolution       n                            ...  y   \n",
            "physician_fee_freeze                    n              y             ...  n   \n",
            "el_salvador_aid                         n        y     n  y          ...  n   \n",
            "religious_groups_in_schools             n  y     y     n  n          ...  y   \n",
            "anti_satellite_test_ban                 y  n  y  n  y  y  n        y ...  y   \n",
            "aid_to_nicaraguan_contras               y  y  y  n  n  y  n        n ...  y   \n",
            "mx_missile                              y  y  y  n  n  y  n        y ...  y   \n",
            "immigration                             y  n  n  y  n  y  n     y  y ...  y   \n",
            "synfuels_corporation_cutback            n  y  y  y  n  n  n     n  n ...  y   \n",
            "education_spending                      y  y  n  y  y  n  y     y  n ...  n   \n",
            "superfund_right_to_sue                  y  y  n  y  y  y  n  y  y  n ...  y   \n",
            "crime                                   y  y  y  y  y  y  y  y  y  y ...  y   \n",
            "duty_free_exports                       y  y  y  n  n  n  n  n  n  n ...  y   \n",
            "export_administration_act_south_africa  y  n  y  y  y  y  n  y  n  y ...  y   \n",
            "party_affiliation                                                    ...      \n",
            "democrat                                1  1  1  1  1  0  0  0  0  0 ...  1   \n",
            "republican                              0  0  0  0  0  1  1  1  1  1 ...  0   \n",
            "\n",
            "handicapped_infants                                                \n",
            "water_project_cost_sharing                                         \n",
            "adoption_of_the_budget_resolution                                  \n",
            "physician_fee_freeze                                   y           \n",
            "el_salvador_aid                            y           n  y        \n",
            "religious_groups_in_schools                y           n  n  y     \n",
            "anti_satellite_test_ban                    n           y  y  n  y  \n",
            "aid_to_nicaraguan_contras                  n  y        y  n  n  y  \n",
            "mx_missile                                 n  n     y  y  n  n  n  \n",
            "immigration                                y  n  y  y  y  n  n  y  \n",
            "synfuels_corporation_cutback               y  y  y  y  y  n  y  n  \n",
            "education_spending                      y  n  n  n  n  n  y  y  n  \n",
            "superfund_right_to_sue                  y  y  y  y  n  n  y  y  y  \n",
            "crime                                   n  y  n  y  n  y  y  y  y  \n",
            "duty_free_exports                       n  n  y  y  n  n  n  n  n  \n",
            "export_administration_act_south_africa  y  y  y  y  y  y  y  y  y  \n",
            "party_affiliation                                                  \n",
            "democrat                                1  1  1  1  1  0  0  1  0  \n",
            "republican                              0  0  0  0  0  1  1  0  1  \n",
            "\n",
            "[2 rows x 160 columns]\n"
          ],
          "name": "stdout"
        }
      ]
    },
    {
      "metadata": {
        "id": "PM9kf060OyiE",
        "colab_type": "code",
        "colab": {
          "base_uri": "https://localhost:8080/",
          "height": 224
        },
        "outputId": "22b37121-21dd-4c43-c064-9ae4e4679453"
      },
      "cell_type": "code",
      "source": [
        "demdf= vote_data_replace.loc[vote_data_replace['party_affiliation'] == 'democrat']\n",
        "repdf= vote_data_replace.loc[vote_data_replace['party_affiliation'] == 'republican']\n",
        "#demdf.head()\n",
        "#repdf.head()"
      ],
      "execution_count": 60,
      "outputs": [
        {
          "output_type": "execute_result",
          "data": {
            "text/html": [
              "<div>\n",
              "<style scoped>\n",
              "    .dataframe tbody tr th:only-of-type {\n",
              "        vertical-align: middle;\n",
              "    }\n",
              "\n",
              "    .dataframe tbody tr th {\n",
              "        vertical-align: top;\n",
              "    }\n",
              "\n",
              "    .dataframe thead th {\n",
              "        text-align: right;\n",
              "    }\n",
              "</style>\n",
              "<table border=\"1\" class=\"dataframe\">\n",
              "  <thead>\n",
              "    <tr style=\"text-align: right;\">\n",
              "      <th></th>\n",
              "      <th>party_affiliation</th>\n",
              "      <th>handicapped_infants</th>\n",
              "      <th>water_project_cost_sharing</th>\n",
              "      <th>adoption_of_the_budget_resolution</th>\n",
              "      <th>physician_fee_freeze</th>\n",
              "      <th>el_salvador_aid</th>\n",
              "      <th>religious_groups_in_schools</th>\n",
              "      <th>anti_satellite_test_ban</th>\n",
              "      <th>aid_to_nicaraguan_contras</th>\n",
              "      <th>mx_missile</th>\n",
              "      <th>immigration</th>\n",
              "      <th>synfuels_corporation_cutback</th>\n",
              "      <th>education_spending</th>\n",
              "      <th>superfund_right_to_sue</th>\n",
              "      <th>crime</th>\n",
              "      <th>duty_free_exports</th>\n",
              "      <th>export_administration_act_south_africa</th>\n",
              "    </tr>\n",
              "  </thead>\n",
              "  <tbody>\n",
              "    <tr>\n",
              "      <th>0</th>\n",
              "      <td>republican</td>\n",
              "      <td>n</td>\n",
              "      <td>y</td>\n",
              "      <td>n</td>\n",
              "      <td>y</td>\n",
              "      <td>y</td>\n",
              "      <td>y</td>\n",
              "      <td>n</td>\n",
              "      <td>n</td>\n",
              "      <td>n</td>\n",
              "      <td>y</td>\n",
              "      <td>NaN</td>\n",
              "      <td>y</td>\n",
              "      <td>y</td>\n",
              "      <td>y</td>\n",
              "      <td>n</td>\n",
              "      <td>y</td>\n",
              "    </tr>\n",
              "    <tr>\n",
              "      <th>1</th>\n",
              "      <td>republican</td>\n",
              "      <td>n</td>\n",
              "      <td>y</td>\n",
              "      <td>n</td>\n",
              "      <td>y</td>\n",
              "      <td>y</td>\n",
              "      <td>y</td>\n",
              "      <td>n</td>\n",
              "      <td>n</td>\n",
              "      <td>n</td>\n",
              "      <td>n</td>\n",
              "      <td>n</td>\n",
              "      <td>y</td>\n",
              "      <td>y</td>\n",
              "      <td>y</td>\n",
              "      <td>n</td>\n",
              "      <td>NaN</td>\n",
              "    </tr>\n",
              "    <tr>\n",
              "      <th>7</th>\n",
              "      <td>republican</td>\n",
              "      <td>n</td>\n",
              "      <td>y</td>\n",
              "      <td>n</td>\n",
              "      <td>y</td>\n",
              "      <td>y</td>\n",
              "      <td>y</td>\n",
              "      <td>n</td>\n",
              "      <td>n</td>\n",
              "      <td>n</td>\n",
              "      <td>n</td>\n",
              "      <td>n</td>\n",
              "      <td>n</td>\n",
              "      <td>y</td>\n",
              "      <td>y</td>\n",
              "      <td>NaN</td>\n",
              "      <td>y</td>\n",
              "    </tr>\n",
              "    <tr>\n",
              "      <th>8</th>\n",
              "      <td>republican</td>\n",
              "      <td>n</td>\n",
              "      <td>y</td>\n",
              "      <td>n</td>\n",
              "      <td>y</td>\n",
              "      <td>y</td>\n",
              "      <td>y</td>\n",
              "      <td>n</td>\n",
              "      <td>n</td>\n",
              "      <td>n</td>\n",
              "      <td>n</td>\n",
              "      <td>n</td>\n",
              "      <td>y</td>\n",
              "      <td>y</td>\n",
              "      <td>y</td>\n",
              "      <td>n</td>\n",
              "      <td>y</td>\n",
              "    </tr>\n",
              "    <tr>\n",
              "      <th>10</th>\n",
              "      <td>republican</td>\n",
              "      <td>n</td>\n",
              "      <td>y</td>\n",
              "      <td>n</td>\n",
              "      <td>y</td>\n",
              "      <td>y</td>\n",
              "      <td>n</td>\n",
              "      <td>n</td>\n",
              "      <td>n</td>\n",
              "      <td>n</td>\n",
              "      <td>n</td>\n",
              "      <td>NaN</td>\n",
              "      <td>NaN</td>\n",
              "      <td>y</td>\n",
              "      <td>y</td>\n",
              "      <td>n</td>\n",
              "      <td>n</td>\n",
              "    </tr>\n",
              "  </tbody>\n",
              "</table>\n",
              "</div>"
            ],
            "text/plain": [
              "   party_affiliation handicapped_infants water_project_cost_sharing  \\\n",
              "0         republican                   n                          y   \n",
              "1         republican                   n                          y   \n",
              "7         republican                   n                          y   \n",
              "8         republican                   n                          y   \n",
              "10        republican                   n                          y   \n",
              "\n",
              "   adoption_of_the_budget_resolution physician_fee_freeze el_salvador_aid  \\\n",
              "0                                  n                    y               y   \n",
              "1                                  n                    y               y   \n",
              "7                                  n                    y               y   \n",
              "8                                  n                    y               y   \n",
              "10                                 n                    y               y   \n",
              "\n",
              "   religious_groups_in_schools anti_satellite_test_ban  \\\n",
              "0                            y                       n   \n",
              "1                            y                       n   \n",
              "7                            y                       n   \n",
              "8                            y                       n   \n",
              "10                           n                       n   \n",
              "\n",
              "   aid_to_nicaraguan_contras mx_missile immigration  \\\n",
              "0                          n          n           y   \n",
              "1                          n          n           n   \n",
              "7                          n          n           n   \n",
              "8                          n          n           n   \n",
              "10                         n          n           n   \n",
              "\n",
              "   synfuels_corporation_cutback education_spending superfund_right_to_sue  \\\n",
              "0                           NaN                  y                      y   \n",
              "1                             n                  y                      y   \n",
              "7                             n                  n                      y   \n",
              "8                             n                  y                      y   \n",
              "10                          NaN                NaN                      y   \n",
              "\n",
              "   crime duty_free_exports export_administration_act_south_africa  \n",
              "0      y                 n                                      y  \n",
              "1      y                 n                                    NaN  \n",
              "7      y               NaN                                      y  \n",
              "8      y                 n                                      y  \n",
              "10     y                 n                                      n  "
            ]
          },
          "metadata": {
            "tags": []
          },
          "execution_count": 60
        }
      ]
    },
    {
      "metadata": {
        "id": "7WxlvOSPP0Qr",
        "colab_type": "code",
        "colab": {
          "base_uri": "https://localhost:8080/",
          "height": 323
        },
        "outputId": "db8dd422-66a5-4f3b-bfa6-0f96dcb5dca2"
      },
      "cell_type": "code",
      "source": [
        "dempercents = demdf.describe().T\n",
        "dempercents['percent'] = dempercents['freq']/dempercents['count']\n",
        "print(dempercents)"
      ],
      "execution_count": 61,
      "outputs": [
        {
          "output_type": "stream",
          "text": [
            "                                       count unique       top freq   percent\n",
            "party_affiliation                        267      1  democrat  267         1\n",
            "handicapped_infants                      258      2         y  156  0.604651\n",
            "water_project_cost_sharing               239      2         y  120  0.502092\n",
            "adoption_of_the_budget_resolution        260      2         y  231  0.888462\n",
            "physician_fee_freeze                     259      2         n  245  0.945946\n",
            "el_salvador_aid                          255      2         n  200  0.784314\n",
            "religious_groups_in_schools              258      2         n  135  0.523256\n",
            "anti_satellite_test_ban                  259      2         y  200  0.772201\n",
            "aid_to_nicaraguan_contras                263      2         y  218  0.828897\n",
            "mx_missile                               248      2         y  188  0.758065\n",
            "immigration                              263      2         n  139  0.528517\n",
            "synfuels_corporation_cutback             255      2         y  129  0.505882\n",
            "education_spending                       249      2         n  213  0.855422\n",
            "superfund_right_to_sue                   252      2         n  179  0.710317\n",
            "crime                                    257      2         n  167  0.649805\n",
            "duty_free_exports                        251      2         y  160   0.63745\n",
            "export_administration_act_south_africa   185      2         y  173  0.935135\n"
          ],
          "name": "stdout"
        }
      ]
    },
    {
      "metadata": {
        "id": "bt4JUJBcQNka",
        "colab_type": "code",
        "colab": {
          "base_uri": "https://localhost:8080/",
          "height": 323
        },
        "outputId": "de61a0a6-37b5-4a73-d8de-13d765edc46e"
      },
      "cell_type": "code",
      "source": [
        "reppercents = repdf.describe().T\n",
        "reppercents['percent'] = reppercents['freq']/reppercents['count']\n",
        "print(reppercents)"
      ],
      "execution_count": 76,
      "outputs": [
        {
          "output_type": "stream",
          "text": [
            "                                       count unique         top freq   percent\n",
            "party_affiliation                        168      1  republican  168         1\n",
            "handicapped_infants                      165      2           n  134  0.812121\n",
            "water_project_cost_sharing               148      2           y   75  0.506757\n",
            "adoption_of_the_budget_resolution        164      2           n  142  0.865854\n",
            "physician_fee_freeze                     165      2           y  163  0.987879\n",
            "el_salvador_aid                          165      2           y  157  0.951515\n",
            "religious_groups_in_schools              166      2           y  149   0.89759\n",
            "anti_satellite_test_ban                  162      2           n  123  0.759259\n",
            "aid_to_nicaraguan_contras                157      2           n  133  0.847134\n",
            "mx_missile                               165      2           n  146  0.884848\n",
            "immigration                              165      2           y   92  0.557576\n",
            "synfuels_corporation_cutback             159      2           n  138  0.867925\n",
            "education_spending                       155      2           y  135  0.870968\n",
            "superfund_right_to_sue                   158      2           y  136  0.860759\n",
            "crime                                    161      2           y  158  0.981366\n",
            "duty_free_exports                        156      2           n  142  0.910256\n",
            "export_administration_act_south_africa   146      2           y   96  0.657534\n"
          ],
          "name": "stdout"
        }
      ]
    },
    {
      "metadata": {
        "id": "5W79zOVRdPye",
        "colab_type": "code",
        "colab": {
          "base_uri": "https://localhost:8080/",
          "height": 576
        },
        "outputId": "27aa7cc4-d7e7-482e-9386-15466533e5d8"
      },
      "cell_type": "code",
      "source": [
        "reppercents.sort_values(by=['top', 'percent'], ascending=False)"
      ],
      "execution_count": 113,
      "outputs": [
        {
          "output_type": "execute_result",
          "data": {
            "text/html": [
              "<div>\n",
              "<style scoped>\n",
              "    .dataframe tbody tr th:only-of-type {\n",
              "        vertical-align: middle;\n",
              "    }\n",
              "\n",
              "    .dataframe tbody tr th {\n",
              "        vertical-align: top;\n",
              "    }\n",
              "\n",
              "    .dataframe thead th {\n",
              "        text-align: right;\n",
              "    }\n",
              "</style>\n",
              "<table border=\"1\" class=\"dataframe\">\n",
              "  <thead>\n",
              "    <tr style=\"text-align: right;\">\n",
              "      <th></th>\n",
              "      <th>count</th>\n",
              "      <th>unique</th>\n",
              "      <th>top</th>\n",
              "      <th>freq</th>\n",
              "      <th>percent</th>\n",
              "    </tr>\n",
              "  </thead>\n",
              "  <tbody>\n",
              "    <tr>\n",
              "      <th>physician_fee_freeze</th>\n",
              "      <td>165</td>\n",
              "      <td>2</td>\n",
              "      <td>y</td>\n",
              "      <td>163</td>\n",
              "      <td>0.987879</td>\n",
              "    </tr>\n",
              "    <tr>\n",
              "      <th>crime</th>\n",
              "      <td>161</td>\n",
              "      <td>2</td>\n",
              "      <td>y</td>\n",
              "      <td>158</td>\n",
              "      <td>0.981366</td>\n",
              "    </tr>\n",
              "    <tr>\n",
              "      <th>el_salvador_aid</th>\n",
              "      <td>165</td>\n",
              "      <td>2</td>\n",
              "      <td>y</td>\n",
              "      <td>157</td>\n",
              "      <td>0.951515</td>\n",
              "    </tr>\n",
              "    <tr>\n",
              "      <th>religious_groups_in_schools</th>\n",
              "      <td>166</td>\n",
              "      <td>2</td>\n",
              "      <td>y</td>\n",
              "      <td>149</td>\n",
              "      <td>0.89759</td>\n",
              "    </tr>\n",
              "    <tr>\n",
              "      <th>education_spending</th>\n",
              "      <td>155</td>\n",
              "      <td>2</td>\n",
              "      <td>y</td>\n",
              "      <td>135</td>\n",
              "      <td>0.870968</td>\n",
              "    </tr>\n",
              "    <tr>\n",
              "      <th>superfund_right_to_sue</th>\n",
              "      <td>158</td>\n",
              "      <td>2</td>\n",
              "      <td>y</td>\n",
              "      <td>136</td>\n",
              "      <td>0.860759</td>\n",
              "    </tr>\n",
              "    <tr>\n",
              "      <th>export_administration_act_south_africa</th>\n",
              "      <td>146</td>\n",
              "      <td>2</td>\n",
              "      <td>y</td>\n",
              "      <td>96</td>\n",
              "      <td>0.657534</td>\n",
              "    </tr>\n",
              "    <tr>\n",
              "      <th>immigration</th>\n",
              "      <td>165</td>\n",
              "      <td>2</td>\n",
              "      <td>y</td>\n",
              "      <td>92</td>\n",
              "      <td>0.557576</td>\n",
              "    </tr>\n",
              "    <tr>\n",
              "      <th>water_project_cost_sharing</th>\n",
              "      <td>148</td>\n",
              "      <td>2</td>\n",
              "      <td>y</td>\n",
              "      <td>75</td>\n",
              "      <td>0.506757</td>\n",
              "    </tr>\n",
              "    <tr>\n",
              "      <th>party_affiliation</th>\n",
              "      <td>168</td>\n",
              "      <td>1</td>\n",
              "      <td>republican</td>\n",
              "      <td>168</td>\n",
              "      <td>1</td>\n",
              "    </tr>\n",
              "    <tr>\n",
              "      <th>duty_free_exports</th>\n",
              "      <td>156</td>\n",
              "      <td>2</td>\n",
              "      <td>n</td>\n",
              "      <td>142</td>\n",
              "      <td>0.910256</td>\n",
              "    </tr>\n",
              "    <tr>\n",
              "      <th>mx_missile</th>\n",
              "      <td>165</td>\n",
              "      <td>2</td>\n",
              "      <td>n</td>\n",
              "      <td>146</td>\n",
              "      <td>0.884848</td>\n",
              "    </tr>\n",
              "    <tr>\n",
              "      <th>synfuels_corporation_cutback</th>\n",
              "      <td>159</td>\n",
              "      <td>2</td>\n",
              "      <td>n</td>\n",
              "      <td>138</td>\n",
              "      <td>0.867925</td>\n",
              "    </tr>\n",
              "    <tr>\n",
              "      <th>adoption_of_the_budget_resolution</th>\n",
              "      <td>164</td>\n",
              "      <td>2</td>\n",
              "      <td>n</td>\n",
              "      <td>142</td>\n",
              "      <td>0.865854</td>\n",
              "    </tr>\n",
              "    <tr>\n",
              "      <th>aid_to_nicaraguan_contras</th>\n",
              "      <td>157</td>\n",
              "      <td>2</td>\n",
              "      <td>n</td>\n",
              "      <td>133</td>\n",
              "      <td>0.847134</td>\n",
              "    </tr>\n",
              "    <tr>\n",
              "      <th>handicapped_infants</th>\n",
              "      <td>165</td>\n",
              "      <td>2</td>\n",
              "      <td>n</td>\n",
              "      <td>134</td>\n",
              "      <td>0.812121</td>\n",
              "    </tr>\n",
              "    <tr>\n",
              "      <th>anti_satellite_test_ban</th>\n",
              "      <td>162</td>\n",
              "      <td>2</td>\n",
              "      <td>n</td>\n",
              "      <td>123</td>\n",
              "      <td>0.759259</td>\n",
              "    </tr>\n",
              "  </tbody>\n",
              "</table>\n",
              "</div>"
            ],
            "text/plain": [
              "                                       count unique         top freq   percent\n",
              "physician_fee_freeze                     165      2           y  163  0.987879\n",
              "crime                                    161      2           y  158  0.981366\n",
              "el_salvador_aid                          165      2           y  157  0.951515\n",
              "religious_groups_in_schools              166      2           y  149   0.89759\n",
              "education_spending                       155      2           y  135  0.870968\n",
              "superfund_right_to_sue                   158      2           y  136  0.860759\n",
              "export_administration_act_south_africa   146      2           y   96  0.657534\n",
              "immigration                              165      2           y   92  0.557576\n",
              "water_project_cost_sharing               148      2           y   75  0.506757\n",
              "party_affiliation                        168      1  republican  168         1\n",
              "duty_free_exports                        156      2           n  142  0.910256\n",
              "mx_missile                               165      2           n  146  0.884848\n",
              "synfuels_corporation_cutback             159      2           n  138  0.867925\n",
              "adoption_of_the_budget_resolution        164      2           n  142  0.865854\n",
              "aid_to_nicaraguan_contras                157      2           n  133  0.847134\n",
              "handicapped_infants                      165      2           n  134  0.812121\n",
              "anti_satellite_test_ban                  162      2           n  123  0.759259"
            ]
          },
          "metadata": {
            "tags": []
          },
          "execution_count": 113
        }
      ]
    },
    {
      "metadata": {
        "id": "9cYGEKnUdZAB",
        "colab_type": "code",
        "colab": {
          "base_uri": "https://localhost:8080/",
          "height": 576
        },
        "outputId": "f15c5730-0122-47bb-a873-5b19f198d680"
      },
      "cell_type": "code",
      "source": [
        "dempercents.sort_values(by=['top', 'percent'], ascending=False)"
      ],
      "execution_count": 114,
      "outputs": [
        {
          "output_type": "execute_result",
          "data": {
            "text/html": [
              "<div>\n",
              "<style scoped>\n",
              "    .dataframe tbody tr th:only-of-type {\n",
              "        vertical-align: middle;\n",
              "    }\n",
              "\n",
              "    .dataframe tbody tr th {\n",
              "        vertical-align: top;\n",
              "    }\n",
              "\n",
              "    .dataframe thead th {\n",
              "        text-align: right;\n",
              "    }\n",
              "</style>\n",
              "<table border=\"1\" class=\"dataframe\">\n",
              "  <thead>\n",
              "    <tr style=\"text-align: right;\">\n",
              "      <th></th>\n",
              "      <th>count</th>\n",
              "      <th>unique</th>\n",
              "      <th>top</th>\n",
              "      <th>freq</th>\n",
              "      <th>percent</th>\n",
              "    </tr>\n",
              "  </thead>\n",
              "  <tbody>\n",
              "    <tr>\n",
              "      <th>export_administration_act_south_africa</th>\n",
              "      <td>185</td>\n",
              "      <td>2</td>\n",
              "      <td>y</td>\n",
              "      <td>173</td>\n",
              "      <td>0.935135</td>\n",
              "    </tr>\n",
              "    <tr>\n",
              "      <th>adoption_of_the_budget_resolution</th>\n",
              "      <td>260</td>\n",
              "      <td>2</td>\n",
              "      <td>y</td>\n",
              "      <td>231</td>\n",
              "      <td>0.888462</td>\n",
              "    </tr>\n",
              "    <tr>\n",
              "      <th>aid_to_nicaraguan_contras</th>\n",
              "      <td>263</td>\n",
              "      <td>2</td>\n",
              "      <td>y</td>\n",
              "      <td>218</td>\n",
              "      <td>0.828897</td>\n",
              "    </tr>\n",
              "    <tr>\n",
              "      <th>anti_satellite_test_ban</th>\n",
              "      <td>259</td>\n",
              "      <td>2</td>\n",
              "      <td>y</td>\n",
              "      <td>200</td>\n",
              "      <td>0.772201</td>\n",
              "    </tr>\n",
              "    <tr>\n",
              "      <th>mx_missile</th>\n",
              "      <td>248</td>\n",
              "      <td>2</td>\n",
              "      <td>y</td>\n",
              "      <td>188</td>\n",
              "      <td>0.758065</td>\n",
              "    </tr>\n",
              "    <tr>\n",
              "      <th>duty_free_exports</th>\n",
              "      <td>251</td>\n",
              "      <td>2</td>\n",
              "      <td>y</td>\n",
              "      <td>160</td>\n",
              "      <td>0.63745</td>\n",
              "    </tr>\n",
              "    <tr>\n",
              "      <th>handicapped_infants</th>\n",
              "      <td>258</td>\n",
              "      <td>2</td>\n",
              "      <td>y</td>\n",
              "      <td>156</td>\n",
              "      <td>0.604651</td>\n",
              "    </tr>\n",
              "    <tr>\n",
              "      <th>synfuels_corporation_cutback</th>\n",
              "      <td>255</td>\n",
              "      <td>2</td>\n",
              "      <td>y</td>\n",
              "      <td>129</td>\n",
              "      <td>0.505882</td>\n",
              "    </tr>\n",
              "    <tr>\n",
              "      <th>water_project_cost_sharing</th>\n",
              "      <td>239</td>\n",
              "      <td>2</td>\n",
              "      <td>y</td>\n",
              "      <td>120</td>\n",
              "      <td>0.502092</td>\n",
              "    </tr>\n",
              "    <tr>\n",
              "      <th>physician_fee_freeze</th>\n",
              "      <td>259</td>\n",
              "      <td>2</td>\n",
              "      <td>n</td>\n",
              "      <td>245</td>\n",
              "      <td>0.945946</td>\n",
              "    </tr>\n",
              "    <tr>\n",
              "      <th>education_spending</th>\n",
              "      <td>249</td>\n",
              "      <td>2</td>\n",
              "      <td>n</td>\n",
              "      <td>213</td>\n",
              "      <td>0.855422</td>\n",
              "    </tr>\n",
              "    <tr>\n",
              "      <th>el_salvador_aid</th>\n",
              "      <td>255</td>\n",
              "      <td>2</td>\n",
              "      <td>n</td>\n",
              "      <td>200</td>\n",
              "      <td>0.784314</td>\n",
              "    </tr>\n",
              "    <tr>\n",
              "      <th>superfund_right_to_sue</th>\n",
              "      <td>252</td>\n",
              "      <td>2</td>\n",
              "      <td>n</td>\n",
              "      <td>179</td>\n",
              "      <td>0.710317</td>\n",
              "    </tr>\n",
              "    <tr>\n",
              "      <th>crime</th>\n",
              "      <td>257</td>\n",
              "      <td>2</td>\n",
              "      <td>n</td>\n",
              "      <td>167</td>\n",
              "      <td>0.649805</td>\n",
              "    </tr>\n",
              "    <tr>\n",
              "      <th>immigration</th>\n",
              "      <td>263</td>\n",
              "      <td>2</td>\n",
              "      <td>n</td>\n",
              "      <td>139</td>\n",
              "      <td>0.528517</td>\n",
              "    </tr>\n",
              "    <tr>\n",
              "      <th>religious_groups_in_schools</th>\n",
              "      <td>258</td>\n",
              "      <td>2</td>\n",
              "      <td>n</td>\n",
              "      <td>135</td>\n",
              "      <td>0.523256</td>\n",
              "    </tr>\n",
              "    <tr>\n",
              "      <th>party_affiliation</th>\n",
              "      <td>267</td>\n",
              "      <td>1</td>\n",
              "      <td>democrat</td>\n",
              "      <td>267</td>\n",
              "      <td>1</td>\n",
              "    </tr>\n",
              "  </tbody>\n",
              "</table>\n",
              "</div>"
            ],
            "text/plain": [
              "                                       count unique       top freq   percent\n",
              "export_administration_act_south_africa   185      2         y  173  0.935135\n",
              "adoption_of_the_budget_resolution        260      2         y  231  0.888462\n",
              "aid_to_nicaraguan_contras                263      2         y  218  0.828897\n",
              "anti_satellite_test_ban                  259      2         y  200  0.772201\n",
              "mx_missile                               248      2         y  188  0.758065\n",
              "duty_free_exports                        251      2         y  160   0.63745\n",
              "handicapped_infants                      258      2         y  156  0.604651\n",
              "synfuels_corporation_cutback             255      2         y  129  0.505882\n",
              "water_project_cost_sharing               239      2         y  120  0.502092\n",
              "physician_fee_freeze                     259      2         n  245  0.945946\n",
              "education_spending                       249      2         n  213  0.855422\n",
              "el_salvador_aid                          255      2         n  200  0.784314\n",
              "superfund_right_to_sue                   252      2         n  179  0.710317\n",
              "crime                                    257      2         n  167  0.649805\n",
              "immigration                              263      2         n  139  0.528517\n",
              "religious_groups_in_schools              258      2         n  135  0.523256\n",
              "party_affiliation                        267      1  democrat  267         1"
            ]
          },
          "metadata": {
            "tags": []
          },
          "execution_count": 114
        }
      ]
    },
    {
      "metadata": {
        "id": "t0zZMGrkWur0",
        "colab_type": "code",
        "colab": {
          "base_uri": "https://localhost:8080/",
          "height": 173
        },
        "outputId": "8fc14b10-cdf6-4737-c2b0-5d235298bf1b"
      },
      "cell_type": "code",
      "source": [
        "dempercents.describe()"
      ],
      "execution_count": 72,
      "outputs": [
        {
          "output_type": "execute_result",
          "data": {
            "text/html": [
              "<div>\n",
              "<style scoped>\n",
              "    .dataframe tbody tr th:only-of-type {\n",
              "        vertical-align: middle;\n",
              "    }\n",
              "\n",
              "    .dataframe tbody tr th {\n",
              "        vertical-align: top;\n",
              "    }\n",
              "\n",
              "    .dataframe thead th {\n",
              "        text-align: right;\n",
              "    }\n",
              "</style>\n",
              "<table border=\"1\" class=\"dataframe\">\n",
              "  <thead>\n",
              "    <tr style=\"text-align: right;\">\n",
              "      <th></th>\n",
              "      <th>count</th>\n",
              "      <th>unique</th>\n",
              "      <th>top</th>\n",
              "      <th>freq</th>\n",
              "      <th>percent</th>\n",
              "    </tr>\n",
              "  </thead>\n",
              "  <tbody>\n",
              "    <tr>\n",
              "      <th>count</th>\n",
              "      <td>17</td>\n",
              "      <td>17</td>\n",
              "      <td>17</td>\n",
              "      <td>17</td>\n",
              "      <td>17.000000</td>\n",
              "    </tr>\n",
              "    <tr>\n",
              "      <th>unique</th>\n",
              "      <td>13</td>\n",
              "      <td>2</td>\n",
              "      <td>3</td>\n",
              "      <td>16</td>\n",
              "      <td>17.000000</td>\n",
              "    </tr>\n",
              "    <tr>\n",
              "      <th>top</th>\n",
              "      <td>255</td>\n",
              "      <td>2</td>\n",
              "      <td>y</td>\n",
              "      <td>200</td>\n",
              "      <td>0.935135</td>\n",
              "    </tr>\n",
              "    <tr>\n",
              "      <th>freq</th>\n",
              "      <td>2</td>\n",
              "      <td>16</td>\n",
              "      <td>9</td>\n",
              "      <td>2</td>\n",
              "      <td>1.000000</td>\n",
              "    </tr>\n",
              "  </tbody>\n",
              "</table>\n",
              "</div>"
            ],
            "text/plain": [
              "        count  unique top  freq    percent\n",
              "count      17      17  17    17  17.000000\n",
              "unique     13       2   3    16  17.000000\n",
              "top       255       2   y   200   0.935135\n",
              "freq        2      16   9     2   1.000000"
            ]
          },
          "metadata": {
            "tags": []
          },
          "execution_count": 72
        }
      ]
    },
    {
      "metadata": {
        "id": "rlgNnxVTW61U",
        "colab_type": "code",
        "colab": {
          "base_uri": "https://localhost:8080/",
          "height": 286
        },
        "outputId": "36236d65-7c14-4c68-8aad-977ea94fc41c"
      },
      "cell_type": "code",
      "source": [
        "dempercents.plot.hist()"
      ],
      "execution_count": 73,
      "outputs": [
        {
          "output_type": "execute_result",
          "data": {
            "text/plain": [
              "<matplotlib.axes._subplots.AxesSubplot at 0x7f94180ae240>"
            ]
          },
          "metadata": {
            "tags": []
          },
          "execution_count": 73
        },
        {
          "output_type": "display_data",
          "data": {
            "image/png": "[encoded data removed]",
            "text/plain": [
              "<matplotlib.figure.Figure at 0x7f94180d4940>"
            ]
          },
          "metadata": {
            "tags": []
          }
        }
      ]
    },
    {
      "metadata": {
        "id": "zunwUusyWyks",
        "colab_type": "code",
        "colab": {
          "base_uri": "https://localhost:8080/",
          "height": 173
        },
        "outputId": "7b55d8c3-92b2-42c4-ccbb-1cd8b2a088af"
      },
      "cell_type": "code",
      "source": [
        "reppercents.describe()"
      ],
      "execution_count": 66,
      "outputs": [
        {
          "output_type": "execute_result",
          "data": {
            "text/html": [
              "<div>\n",
              "<style scoped>\n",
              "    .dataframe tbody tr th:only-of-type {\n",
              "        vertical-align: middle;\n",
              "    }\n",
              "\n",
              "    .dataframe tbody tr th {\n",
              "        vertical-align: top;\n",
              "    }\n",
              "\n",
              "    .dataframe thead th {\n",
              "        text-align: right;\n",
              "    }\n",
              "</style>\n",
              "<table border=\"1\" class=\"dataframe\">\n",
              "  <thead>\n",
              "    <tr style=\"text-align: right;\">\n",
              "      <th></th>\n",
              "      <th>count</th>\n",
              "      <th>unique</th>\n",
              "      <th>top</th>\n",
              "      <th>freq</th>\n",
              "      <th>percent</th>\n",
              "    </tr>\n",
              "  </thead>\n",
              "  <tbody>\n",
              "    <tr>\n",
              "      <th>count</th>\n",
              "      <td>17</td>\n",
              "      <td>17</td>\n",
              "      <td>17</td>\n",
              "      <td>17</td>\n",
              "      <td>17.000000</td>\n",
              "    </tr>\n",
              "    <tr>\n",
              "      <th>unique</th>\n",
              "      <td>13</td>\n",
              "      <td>2</td>\n",
              "      <td>3</td>\n",
              "      <td>16</td>\n",
              "      <td>17.000000</td>\n",
              "    </tr>\n",
              "    <tr>\n",
              "      <th>top</th>\n",
              "      <td>165</td>\n",
              "      <td>2</td>\n",
              "      <td>y</td>\n",
              "      <td>142</td>\n",
              "      <td>0.657534</td>\n",
              "    </tr>\n",
              "    <tr>\n",
              "      <th>freq</th>\n",
              "      <td>5</td>\n",
              "      <td>16</td>\n",
              "      <td>9</td>\n",
              "      <td>2</td>\n",
              "      <td>1.000000</td>\n",
              "    </tr>\n",
              "  </tbody>\n",
              "</table>\n",
              "</div>"
            ],
            "text/plain": [
              "        count  unique top  freq    percent\n",
              "count      17      17  17    17  17.000000\n",
              "unique     13       2   3    16  17.000000\n",
              "top       165       2   y   142   0.657534\n",
              "freq        5      16   9     2   1.000000"
            ]
          },
          "metadata": {
            "tags": []
          },
          "execution_count": 66
        }
      ]
    },
    {
      "metadata": {
        "id": "E6E-1tFxW-M9",
        "colab_type": "code",
        "colab": {
          "base_uri": "https://localhost:8080/",
          "height": 286
        },
        "outputId": "62bde6cc-5982-448a-d7ff-d354f7e4b66d"
      },
      "cell_type": "code",
      "source": [
        "reppercents.plot.hist()"
      ],
      "execution_count": 68,
      "outputs": [
        {
          "output_type": "execute_result",
          "data": {
            "text/plain": [
              "<matplotlib.axes._subplots.AxesSubplot at 0x7f941abee080>"
            ]
          },
          "metadata": {
            "tags": []
          },
          "execution_count": 68
        },
        {
          "output_type": "display_data",
          "data": {
            "image/png": "[encoded data removed]",
            "text/plain": [
              "<matplotlib.figure.Figure at 0x7f941adb60b8>"
            ]
          },
          "metadata": {
            "tags": []
          }
        }
      ]
    },
    {
      "metadata": {
        "id": "psV5N6Than3F",
        "colab_type": "code",
        "colab": {}
      },
      "cell_type": "code",
      "source": [
        "reppercents2 = repdf.describe()\n",
        "#reppercents['percent'] = reppercents['freq']/reppercents['count']\n",
        "print(reppercents2)"
      ],
      "execution_count": 0,
      "outputs": []
    },
    {
      "metadata": {
        "id": "kVDzucp0axE7",
        "colab_type": "code",
        "colab": {}
      },
      "cell_type": "code",
      "source": [
        "dempercents2 = repdf.describe()"
      ],
      "execution_count": 0,
      "outputs": []
    },
    {
      "metadata": {
        "id": "LWdkBh9LQwT4",
        "colab_type": "code",
        "colab": {
          "base_uri": "https://localhost:8080/",
          "height": 34
        },
        "outputId": "d30eca74-a4ce-438c-af7e-d72c3b9cf7fa"
      },
      "cell_type": "code",
      "source": [
        "import scipy\n",
        "scipy.stats.ttest_ind(dempercents['freq'], reppercents['freq'])"
      ],
      "execution_count": 96,
      "outputs": [
        {
          "output_type": "execute_result",
          "data": {
            "text/plain": [
              "Ttest_indResult(statistic=4.086439898188579, pvalue=0.0002745429097309495)"
            ]
          },
          "metadata": {
            "tags": []
          },
          "execution_count": 96
        }
      ]
    },
    {
      "metadata": {
        "id": "02keWTNSbY0r",
        "colab_type": "code",
        "colab": {
          "base_uri": "https://localhost:8080/",
          "height": 34
        },
        "outputId": "97b09fc3-9b36-4981-8ecf-5a9416293c73"
      },
      "cell_type": "code",
      "source": [
        "scipy.stats.ttest_ind(dempercents['percent'], reppercents['percent'])\n"
      ],
      "execution_count": 108,
      "outputs": [
        {
          "output_type": "execute_result",
          "data": {
            "text/plain": [
              "Ttest_indResult(statistic=-1.992658504864423, pvalue=0.054886175271163705)"
            ]
          },
          "metadata": {
            "tags": []
          },
          "execution_count": 108
        }
      ]
    },
    {
      "metadata": {
        "id": "8kV6wt9VaV1t",
        "colab_type": "code",
        "colab": {}
      },
      "cell_type": "code",
      "source": [
        ""
      ],
      "execution_count": 0,
      "outputs": []
    }
  ]
}