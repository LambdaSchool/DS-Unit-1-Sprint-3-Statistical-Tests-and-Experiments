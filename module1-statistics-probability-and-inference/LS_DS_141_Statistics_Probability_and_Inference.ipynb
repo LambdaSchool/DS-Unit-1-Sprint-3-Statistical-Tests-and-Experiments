{
  "nbformat": 4,
  "nbformat_minor": 0,
  "metadata": {
    "colab": {
      "name": "LS DS 141 Statistics Probability and Inference.ipynb",
      "version": "0.3.2",
      "provenance": [],
      "include_colab_link": true
    },
    "kernelspec": {
      "name": "python3",
      "display_name": "Python 3"
    }
  },
  "cells": [
    {
      "cell_type": "markdown",
      "metadata": {
        "id": "view-in-github",
        "colab_type": "text"
      },
      "source": [
        "<a href=\"https://colab.research.google.com/github/zarrinan/DS-Unit-1-Sprint-4-Statistical-Tests-and-Experiments/blob/master/module1-statistics-probability-and-inference/LS_DS_141_Statistics_Probability_and_Inference.ipynb\" target=\"_parent\"><img src=\"https://colab.research.google.com/assets/colab-badge.svg\" alt=\"Open In Colab\"/></a>"
      ]
    },
    {
      "metadata": {
        "id": "eJGtmni-DezY",
        "colab_type": "text"
      },
      "cell_type": "markdown",
      "source": [
        "# Lambda School Data Science Module 141\n",
        "## Statistics, Probability, and Inference"
      ]
    },
    {
      "metadata": {
        "id": "FMhDKOFND0qY",
        "colab_type": "text"
      },
      "cell_type": "markdown",
      "source": [
        "## Prepare - examine what's available in SciPy\n",
        "\n",
        "As we delve into statistics, we'll be using more libraries - in particular the [stats package from SciPy](https://docs.scipy.org/doc/scipy/reference/tutorial/stats.html)."
      ]
    },
    {
      "metadata": {
        "id": "fQ9rkLJmEbsk",
        "colab_type": "code",
        "colab": {}
      },
      "cell_type": "code",
      "source": [
        "from scipy import stats\n",
        "dir(stats)"
      ],
      "execution_count": 0,
      "outputs": []
    },
    {
      "metadata": {
        "id": "bxW4SG_gJGlZ",
        "colab_type": "code",
        "outputId": "5c103466-502c-4ead-86e0-71169a128531",
        "colab": {
          "base_uri": "https://localhost:8080/",
          "height": 67
        }
      },
      "cell_type": "code",
      "source": [
        "# As usual, lots of stuff here! There's our friend, the normal distribution\n",
        "norm = stats.norm()\n",
        "print(norm.mean())\n",
        "print(norm.std())\n",
        "print(norm.var())"
      ],
      "execution_count": 2,
      "outputs": [
        {
          "output_type": "stream",
          "text": [
            "0.0\n",
            "1.0\n",
            "1.0\n"
          ],
          "name": "stdout"
        }
      ]
    },
    {
      "metadata": {
        "id": "RyNKPt_tJk86",
        "colab_type": "code",
        "outputId": "f17ba4ba-78e1-4930-d894-281eb200e563",
        "colab": {
          "base_uri": "https://localhost:8080/",
          "height": 67
        }
      },
      "cell_type": "code",
      "source": [
        "# And a new friend - t\n",
        "t1 = stats.t(5)  # 5 is df \"shape\" parameter\n",
        "print(t1.mean())\n",
        "print(t1.std())\n",
        "print(t1.var())"
      ],
      "execution_count": 3,
      "outputs": [
        {
          "output_type": "stream",
          "text": [
            "0.0\n",
            "1.2909944487358056\n",
            "1.6666666666666667\n"
          ],
          "name": "stdout"
        }
      ]
    },
    {
      "metadata": {
        "id": "xcmnpJSUSnUX",
        "colab_type": "code",
        "outputId": "b677b424-6c31-47c6-8b39-a1224736bd52",
        "colab": {
          "base_uri": "https://localhost:8080/",
          "height": 34
        }
      },
      "cell_type": "code",
      "source": [
        "t1.std()**2"
      ],
      "execution_count": 4,
      "outputs": [
        {
          "output_type": "execute_result",
          "data": {
            "text/plain": [
              "1.6666666666666665"
            ]
          },
          "metadata": {
            "tags": []
          },
          "execution_count": 4
        }
      ]
    },
    {
      "metadata": {
        "id": "SRn1zMuaKgxX",
        "colab_type": "text"
      },
      "cell_type": "markdown",
      "source": [
        "![T distribution PDF with different shape parameters](https://upload.wikimedia.org/wikipedia/commons/4/41/Student_t_pdf.svg)\n",
        "\n",
        "*(Picture from [Wikipedia](https://en.wikipedia.org/wiki/Student's_t-distribution#/media/File:Student_t_pdf.svg))*\n",
        "\n",
        "The t-distribution is \"normal-ish\" - the larger the parameter (which reflects its degrees of freedom - more input data/features will increase it), the closer to true normal."
      ]
    },
    {
      "metadata": {
        "id": "seQv5unnJvpM",
        "colab_type": "code",
        "outputId": "674ad521-82d9-411c-8c78-1657f07d3d08",
        "colab": {
          "base_uri": "https://localhost:8080/",
          "height": 67
        }
      },
      "cell_type": "code",
      "source": [
        "t2 = stats.t(30)  # Will be closer to normal\n",
        "print(t2.mean())\n",
        "print(t2.std())\n",
        "print(t2.var())"
      ],
      "execution_count": 5,
      "outputs": [
        {
          "output_type": "stream",
          "text": [
            "0.0\n",
            "1.0350983390135313\n",
            "1.0714285714285714\n"
          ],
          "name": "stdout"
        }
      ]
    },
    {
      "metadata": {
        "id": "FOvEGMysLaE2",
        "colab_type": "text"
      },
      "cell_type": "markdown",
      "source": [
        "Why is it different from normal? To better reflect the tendencies of small data and situations with unknown population standard deviation. In other words, the normal distribution is still the nice pure ideal in the limit (thanks to the central limit theorem), but the t-distribution is much more useful in many real-world situations.\n",
        "\n",
        "History sidenote - this is \"Student\":\n",
        "\n",
        "![William Sealy Gosset](https://upload.wikimedia.org/wikipedia/commons/4/42/William_Sealy_Gosset.jpg)\n",
        "\n",
        "*(Picture from [Wikipedia](https://en.wikipedia.org/wiki/File:William_Sealy_Gosset.jpg))*\n",
        "\n",
        "His real name is William Sealy Gosset, and he published under the pen name \"Student\" because he was not an academic. He was a brewer, working at Guinness and using trial and error to determine the best ways to yield barley. He's also proof that, even 100 years ago, you don't need official credentials to do real data science!"
      ]
    },
    {
      "metadata": {
        "id": "1yx_QilAEC6o",
        "colab_type": "text"
      },
      "cell_type": "markdown",
      "source": [
        "## Live Lecture - let's perform and interpret a t-test\n",
        "\n",
        "We'll generate our own data, so we can know and alter the \"ground truth\" that the t-test should find. We will learn about p-values and how to interpret \"statistical significance\" based on the output of a hypothesis test."
      ]
    },
    {
      "metadata": {
        "id": "BuysRPs-Ed0v",
        "colab_type": "code",
        "outputId": "121d3ba2-982f-4aea-ff64-9106bc7d912e",
        "colab": {
          "base_uri": "https://localhost:8080/",
          "height": 284
        }
      },
      "cell_type": "code",
      "source": [
        "# TODO - during class, but please help!\n",
        "survey_data = [0, 1, 0, 1, 0, 0, 0, 1, 1, 0, 0, 1, 1, 1, 1, 1, 1, 1,\n",
        "               0, 0, 1, 1, 1, 1, 1, 1, 1, 1, 1, 0, 1, 1, 1, 1, 1, 1,\n",
        "               1, 0, 1, 0, 1, 1, 0, 1, 0, 1, 1, 0, 0, 0]\n",
        "\n",
        "import numpy as np\n",
        "import pandas as pd\n",
        "\n",
        "df = pd.DataFrame(survey_data)\n",
        "df.describe()"
      ],
      "execution_count": 6,
      "outputs": [
        {
          "output_type": "execute_result",
          "data": {
            "text/html": [
              "<div>\n",
              "<style scoped>\n",
              "    .dataframe tbody tr th:only-of-type {\n",
              "        vertical-align: middle;\n",
              "    }\n",
              "\n",
              "    .dataframe tbody tr th {\n",
              "        vertical-align: top;\n",
              "    }\n",
              "\n",
              "    .dataframe thead th {\n",
              "        text-align: right;\n",
              "    }\n",
              "</style>\n",
              "<table border=\"1\" class=\"dataframe\">\n",
              "  <thead>\n",
              "    <tr style=\"text-align: right;\">\n",
              "      <th></th>\n",
              "      <th>0</th>\n",
              "    </tr>\n",
              "  </thead>\n",
              "  <tbody>\n",
              "    <tr>\n",
              "      <th>count</th>\n",
              "      <td>50.000000</td>\n",
              "    </tr>\n",
              "    <tr>\n",
              "      <th>mean</th>\n",
              "      <td>0.660000</td>\n",
              "    </tr>\n",
              "    <tr>\n",
              "      <th>std</th>\n",
              "      <td>0.478518</td>\n",
              "    </tr>\n",
              "    <tr>\n",
              "      <th>min</th>\n",
              "      <td>0.000000</td>\n",
              "    </tr>\n",
              "    <tr>\n",
              "      <th>25%</th>\n",
              "      <td>0.000000</td>\n",
              "    </tr>\n",
              "    <tr>\n",
              "      <th>50%</th>\n",
              "      <td>1.000000</td>\n",
              "    </tr>\n",
              "    <tr>\n",
              "      <th>75%</th>\n",
              "      <td>1.000000</td>\n",
              "    </tr>\n",
              "    <tr>\n",
              "      <th>max</th>\n",
              "      <td>1.000000</td>\n",
              "    </tr>\n",
              "  </tbody>\n",
              "</table>\n",
              "</div>"
            ],
            "text/plain": [
              "               0\n",
              "count  50.000000\n",
              "mean    0.660000\n",
              "std     0.478518\n",
              "min     0.000000\n",
              "25%     0.000000\n",
              "50%     1.000000\n",
              "75%     1.000000\n",
              "max     1.000000"
            ]
          },
          "metadata": {
            "tags": []
          },
          "execution_count": 6
        }
      ]
    },
    {
      "metadata": {
        "id": "17NxqCIONZs4",
        "colab_type": "code",
        "outputId": "591c9259-4230-473e-fb80-af692733f564",
        "colab": {
          "base_uri": "https://localhost:8080/",
          "height": 364
        }
      },
      "cell_type": "code",
      "source": [
        "df.plot.hist()"
      ],
      "execution_count": 7,
      "outputs": [
        {
          "output_type": "execute_result",
          "data": {
            "text/plain": [
              "<matplotlib.axes._subplots.AxesSubplot at 0x7ffb20a77da0>"
            ]
          },
          "metadata": {
            "tags": []
          },
          "execution_count": 7
        },
        {
          "output_type": "display_data",
          "data": {
            "image/png": "[encoded data removed]",
            "text/plain": [
              "<matplotlib.figure.Figure at 0x7ffb20f70b70>"
            ]
          },
          "metadata": {
            "tags": []
          }
        }
      ]
    },
    {
      "metadata": {
        "id": "GcprauQcNKML",
        "colab_type": "code",
        "outputId": "49160675-b5e6-4582-fcf5-e88f0ff83acb",
        "colab": {
          "base_uri": "https://localhost:8080/",
          "height": 34
        }
      },
      "cell_type": "code",
      "source": [
        "# Now with confidence!\n",
        "\n",
        "import scipy\n",
        "scipy.stats.ttest_1samp(survey_data, 0.5)"
      ],
      "execution_count": 8,
      "outputs": [
        {
          "output_type": "execute_result",
          "data": {
            "text/plain": [
              "Ttest_1sampResult(statistic=2.364321853156195, pvalue=0.02207003200903075)"
            ]
          },
          "metadata": {
            "tags": []
          },
          "execution_count": 8
        }
      ]
    },
    {
      "metadata": {
        "id": "z1iYrZjzOsZp",
        "colab_type": "code",
        "outputId": "acd7031d-578f-49d6-a908-82d65113d5dd",
        "colab": {
          "base_uri": "https://localhost:8080/",
          "height": 34
        }
      },
      "cell_type": "code",
      "source": [
        "# the t-statistic is the ratio of the departure of the estimated value of  a\n",
        "# parameter from its hypothesized value to its standard error\n",
        "\n",
        "# We want to calculate: tstat = 2.364321853156195\n",
        "\n",
        "sample_stderr = 0.478518 / np.sqrt(len(survey_data))\n",
        "sample_mean = 0.660000\n",
        "null_hypothesis_mean = 0.5\n",
        "\n",
        "t_stat = (sample_mean - null_hypothesis_mean) / sample_stderr\n",
        "print(t_stat)"
      ],
      "execution_count": 9,
      "outputs": [
        {
          "output_type": "stream",
          "text": [
            "2.364322449518046\n"
          ],
          "name": "stdout"
        }
      ]
    },
    {
      "metadata": {
        "id": "cvFA_QxnOWf_",
        "colab_type": "code",
        "outputId": "ce3d308e-bd41-4aa5-987d-bbd4986fa30d",
        "colab": {
          "base_uri": "https://localhost:8080/",
          "height": 34
        }
      },
      "cell_type": "code",
      "source": [
        "len(survey_data)"
      ],
      "execution_count": 10,
      "outputs": [
        {
          "output_type": "execute_result",
          "data": {
            "text/plain": [
              "50"
            ]
          },
          "metadata": {
            "tags": []
          },
          "execution_count": 10
        }
      ]
    },
    {
      "metadata": {
        "id": "KyRWoC5DUTJs",
        "colab_type": "code",
        "colab": {}
      },
      "cell_type": "code",
      "source": [
        "# Science! Reproducibility...\n",
        "import random\n",
        "\n",
        "def make_soda_data(n=50):\n",
        "  # Fair version\n",
        "  # return pd.DataFrame([random.randint(0, 1) for _ in range(n)])\n",
        "  # Unfair version!\n",
        "  return pd.DataFrame(np.random.binomial(n=1, p=0.5, size=n))"
      ],
      "execution_count": 0,
      "outputs": []
    },
    {
      "metadata": {
        "id": "wTzmc4qHUuGJ",
        "colab_type": "code",
        "colab": {
          "base_uri": "https://localhost:8080/",
          "height": 284
        },
        "outputId": "e390eb5c-bef7-4274-cdc5-79f92b42f896"
      },
      "cell_type": "code",
      "source": [
        "make_soda_data(n=500).describe()"
      ],
      "execution_count": 12,
      "outputs": [
        {
          "output_type": "execute_result",
          "data": {
            "text/html": [
              "<div>\n",
              "<style scoped>\n",
              "    .dataframe tbody tr th:only-of-type {\n",
              "        vertical-align: middle;\n",
              "    }\n",
              "\n",
              "    .dataframe tbody tr th {\n",
              "        vertical-align: top;\n",
              "    }\n",
              "\n",
              "    .dataframe thead th {\n",
              "        text-align: right;\n",
              "    }\n",
              "</style>\n",
              "<table border=\"1\" class=\"dataframe\">\n",
              "  <thead>\n",
              "    <tr style=\"text-align: right;\">\n",
              "      <th></th>\n",
              "      <th>0</th>\n",
              "    </tr>\n",
              "  </thead>\n",
              "  <tbody>\n",
              "    <tr>\n",
              "      <th>count</th>\n",
              "      <td>500.000000</td>\n",
              "    </tr>\n",
              "    <tr>\n",
              "      <th>mean</th>\n",
              "      <td>0.492000</td>\n",
              "    </tr>\n",
              "    <tr>\n",
              "      <th>std</th>\n",
              "      <td>0.500437</td>\n",
              "    </tr>\n",
              "    <tr>\n",
              "      <th>min</th>\n",
              "      <td>0.000000</td>\n",
              "    </tr>\n",
              "    <tr>\n",
              "      <th>25%</th>\n",
              "      <td>0.000000</td>\n",
              "    </tr>\n",
              "    <tr>\n",
              "      <th>50%</th>\n",
              "      <td>0.000000</td>\n",
              "    </tr>\n",
              "    <tr>\n",
              "      <th>75%</th>\n",
              "      <td>1.000000</td>\n",
              "    </tr>\n",
              "    <tr>\n",
              "      <th>max</th>\n",
              "      <td>1.000000</td>\n",
              "    </tr>\n",
              "  </tbody>\n",
              "</table>\n",
              "</div>"
            ],
            "text/plain": [
              "                0\n",
              "count  500.000000\n",
              "mean     0.492000\n",
              "std      0.500437\n",
              "min      0.000000\n",
              "25%      0.000000\n",
              "50%      0.000000\n",
              "75%      1.000000\n",
              "max      1.000000"
            ]
          },
          "metadata": {
            "tags": []
          },
          "execution_count": 12
        }
      ]
    },
    {
      "metadata": {
        "id": "wBNs832LU_B_",
        "colab_type": "code",
        "colab": {
          "base_uri": "https://localhost:8080/",
          "height": 284
        },
        "outputId": "83f394e5-3d67-469a-90f4-048605856253"
      },
      "cell_type": "code",
      "source": [
        "t_statistics = []\n",
        "p_values = []\n",
        "n_experiments = 10  # Number of visitors\n",
        "\n",
        "for _ in range(n_experiments):   \n",
        "  df = make_soda_data(n=500000)\n",
        "  ttest = scipy.stats.ttest_1samp(df, 0.5)\n",
        "  t_statistics.append(ttest.statistic)\n",
        "  p_values.append(ttest.pvalue)\n",
        "\n",
        "pd.DataFrame(t_statistics).describe()"
      ],
      "execution_count": 13,
      "outputs": [
        {
          "output_type": "execute_result",
          "data": {
            "text/html": [
              "<div>\n",
              "<style scoped>\n",
              "    .dataframe tbody tr th:only-of-type {\n",
              "        vertical-align: middle;\n",
              "    }\n",
              "\n",
              "    .dataframe tbody tr th {\n",
              "        vertical-align: top;\n",
              "    }\n",
              "\n",
              "    .dataframe thead th {\n",
              "        text-align: right;\n",
              "    }\n",
              "</style>\n",
              "<table border=\"1\" class=\"dataframe\">\n",
              "  <thead>\n",
              "    <tr style=\"text-align: right;\">\n",
              "      <th></th>\n",
              "      <th>0</th>\n",
              "    </tr>\n",
              "  </thead>\n",
              "  <tbody>\n",
              "    <tr>\n",
              "      <th>count</th>\n",
              "      <td>10.000000</td>\n",
              "    </tr>\n",
              "    <tr>\n",
              "      <th>mean</th>\n",
              "      <td>-0.273792</td>\n",
              "    </tr>\n",
              "    <tr>\n",
              "      <th>std</th>\n",
              "      <td>0.694428</td>\n",
              "    </tr>\n",
              "    <tr>\n",
              "      <th>min</th>\n",
              "      <td>-1.168141</td>\n",
              "    </tr>\n",
              "    <tr>\n",
              "      <th>25%</th>\n",
              "      <td>-0.600333</td>\n",
              "    </tr>\n",
              "    <tr>\n",
              "      <th>50%</th>\n",
              "      <td>-0.376180</td>\n",
              "    </tr>\n",
              "    <tr>\n",
              "      <th>75%</th>\n",
              "      <td>-0.083439</td>\n",
              "    </tr>\n",
              "    <tr>\n",
              "      <th>max</th>\n",
              "      <td>1.196425</td>\n",
              "    </tr>\n",
              "  </tbody>\n",
              "</table>\n",
              "</div>"
            ],
            "text/plain": [
              "               0\n",
              "count  10.000000\n",
              "mean   -0.273792\n",
              "std     0.694428\n",
              "min    -1.168141\n",
              "25%    -0.600333\n",
              "50%    -0.376180\n",
              "75%    -0.083439\n",
              "max     1.196425"
            ]
          },
          "metadata": {
            "tags": []
          },
          "execution_count": 13
        }
      ]
    },
    {
      "metadata": {
        "id": "iuT0nUoEZO6W",
        "colab_type": "code",
        "colab": {
          "base_uri": "https://localhost:8080/",
          "height": 284
        },
        "outputId": "e6480a32-771b-43a5-8cda-4436cb202d9a"
      },
      "cell_type": "code",
      "source": [
        "pd.DataFrame(p_values).describe()"
      ],
      "execution_count": 14,
      "outputs": [
        {
          "output_type": "execute_result",
          "data": {
            "text/html": [
              "<div>\n",
              "<style scoped>\n",
              "    .dataframe tbody tr th:only-of-type {\n",
              "        vertical-align: middle;\n",
              "    }\n",
              "\n",
              "    .dataframe tbody tr th {\n",
              "        vertical-align: top;\n",
              "    }\n",
              "\n",
              "    .dataframe thead th {\n",
              "        text-align: right;\n",
              "    }\n",
              "</style>\n",
              "<table border=\"1\" class=\"dataframe\">\n",
              "  <thead>\n",
              "    <tr style=\"text-align: right;\">\n",
              "      <th></th>\n",
              "      <th>0</th>\n",
              "    </tr>\n",
              "  </thead>\n",
              "  <tbody>\n",
              "    <tr>\n",
              "      <th>count</th>\n",
              "      <td>10.000000</td>\n",
              "    </tr>\n",
              "    <tr>\n",
              "      <th>mean</th>\n",
              "      <td>0.579416</td>\n",
              "    </tr>\n",
              "    <tr>\n",
              "      <th>std</th>\n",
              "      <td>0.255611</td>\n",
              "    </tr>\n",
              "    <tr>\n",
              "      <th>min</th>\n",
              "      <td>0.231531</td>\n",
              "    </tr>\n",
              "    <tr>\n",
              "      <th>25%</th>\n",
              "      <td>0.354382</td>\n",
              "    </tr>\n",
              "    <tr>\n",
              "      <th>50%</th>\n",
              "      <td>0.622386</td>\n",
              "    </tr>\n",
              "    <tr>\n",
              "      <th>75%</th>\n",
              "      <td>0.721717</td>\n",
              "    </tr>\n",
              "    <tr>\n",
              "      <th>max</th>\n",
              "      <td>0.952636</td>\n",
              "    </tr>\n",
              "  </tbody>\n",
              "</table>\n",
              "</div>"
            ],
            "text/plain": [
              "               0\n",
              "count  10.000000\n",
              "mean    0.579416\n",
              "std     0.255611\n",
              "min     0.231531\n",
              "25%     0.354382\n",
              "50%     0.622386\n",
              "75%     0.721717\n",
              "max     0.952636"
            ]
          },
          "metadata": {
            "tags": []
          },
          "execution_count": 14
        }
      ]
    },
    {
      "metadata": {
        "id": "ErkGWp__XIx5",
        "colab_type": "code",
        "colab": {
          "base_uri": "https://localhost:8080/",
          "height": 34
        },
        "outputId": "2d4d4e78-7d72-4ebb-f1ba-727c7303cbc1"
      },
      "cell_type": "code",
      "source": [
        "random.choice([0, 1, 1])  # Unfair coins"
      ],
      "execution_count": 23,
      "outputs": [
        {
          "output_type": "execute_result",
          "data": {
            "text/plain": [
              "0"
            ]
          },
          "metadata": {
            "tags": []
          },
          "execution_count": 23
        }
      ]
    },
    {
      "metadata": {
        "id": "4ucQDnX6Xf3u",
        "colab_type": "code",
        "colab": {
          "base_uri": "https://localhost:8080/",
          "height": 34
        },
        "outputId": "ce18dd38-2434-4ef6-d020-41057e60a6f8"
      },
      "cell_type": "code",
      "source": [
        "np.random.binomial(100, 0.7)"
      ],
      "execution_count": 36,
      "outputs": [
        {
          "output_type": "execute_result",
          "data": {
            "text/plain": [
              "75"
            ]
          },
          "metadata": {
            "tags": []
          },
          "execution_count": 36
        }
      ]
    },
    {
      "metadata": {
        "id": "TWoPRB2IX04z",
        "colab_type": "code",
        "colab": {
          "base_uri": "https://localhost:8080/",
          "height": 34
        },
        "outputId": "51f6a26d-2c7d-4e4d-c7e6-bccbd9957599"
      },
      "cell_type": "code",
      "source": [
        "np.random.binomial(1, 0.6)"
      ],
      "execution_count": 25,
      "outputs": [
        {
          "output_type": "execute_result",
          "data": {
            "text/plain": [
              "1"
            ]
          },
          "metadata": {
            "tags": []
          },
          "execution_count": 25
        }
      ]
    },
    {
      "metadata": {
        "id": "egXb7YpqEcZF",
        "colab_type": "text"
      },
      "cell_type": "markdown",
      "source": [
        "## Assignment - apply the t-test to real data\n",
        "\n",
        "Your assignment is to determine which issues have \"statistically significant\" differences between political parties in this [1980s congressional voting data](https://archive.ics.uci.edu/ml/datasets/Congressional+Voting+Records). The data consists of 435 instances (one for each congressperson), a class (democrat or republican), and 16 binary attributes (yes or no for voting for or against certain issues). Be aware - there are missing values!\n",
        "\n",
        "Your goals:\n",
        "\n",
        "1. Load and clean the data (or determine the best method to drop observations when running tests)\n",
        "2. Using hypothesis testing, find an issue that democrats support more than republicans with p < 0.01\n",
        "3. Using hypothesis testing, find an issue that republicans support more than democrats with p < 0.01\n",
        "4. Using hypothesis testing, find an issue where the difference between republicans and democrats has p > 0.1 (i.e. there may not be much of a difference)\n",
        "\n",
        "Note that this data will involve *2 sample* t-tests, because you're comparing averages across two groups (republicans and democrats) rather than a single group against a null hypothesis.\n",
        "\n",
        "Stretch goals:\n",
        "\n",
        "1. Refactor your code into functions so it's easy to rerun with arbitrary variables\n",
        "2. Apply hypothesis testing to your personal project data (for the purposes of this notebook you can type a summary of the hypothesis you formed and tested)"
      ]
    },
    {
      "metadata": {
        "id": "243NHejWxHrh",
        "colab_type": "code",
        "colab": {}
      },
      "cell_type": "code",
      "source": [
        ""
      ],
      "execution_count": 0,
      "outputs": []
    },
    {
      "metadata": {
        "id": "PZ79QGZ_whIS",
        "colab_type": "text"
      },
      "cell_type": "markdown",
      "source": [
        "t-test for one sample mean:\n",
        "\n",
        "\n",
        "$$ T = \\frac{\\bar{x} - null}{SE}$$\n",
        "\n",
        "$$ $$\n",
        "\n",
        "$$ SE = \\frac{std}{\\sqrt{n}}$$\n",
        "\n",
        "$$ $$\n",
        "\n",
        "$$ CI = \\bar{x} \\pm t_{df}^* SE  $$\n",
        "\n",
        "$$ $$\n",
        "\n",
        "\n",
        "t-test for two independent means\n",
        "\n",
        "\n",
        "$$ T = \\frac{(\\bar{x_1} - \\bar{x_2}) - null}{SE}$$\n",
        "\n",
        "$$ $$\n",
        "\n",
        "$$SE_(\\bar{x_1} - \\bar{x_2}) = \\sqrt{\\frac{s_1^2}{n_1} + \\frac{s_2^2}{n_2} } $$\n",
        "\n",
        "$$ $$\n",
        "\n",
        "$$CI = (\\bar{x_1} - \\bar{x_2}) \\pm t_{df}^* SE_(\\bar{x_1} - \\bar{x_2})$$ \n",
        "\n",
        "$$ $$\n",
        "\n",
        "$$df = min(n_1 - 1, n_2 - 1)$$\n"
      ]
    },
    {
      "metadata": {
        "id": "u6fvP7X2woi2",
        "colab_type": "code",
        "colab": {}
      },
      "cell_type": "code",
      "source": [
        "#t_test for two independent means in t-distribution\n",
        "def t_test_two_ind_means(a, b, alpha=0.01, tails=2):\n",
        "   \n",
        "    #transform data series into arrays and calculate their lengths and variances\n",
        "    a, b = np.array(a), np.array(b)\n",
        "    na, nb = len(a), len(b)\n",
        "    va, vb = a.var(), b.var()\n",
        "    \n",
        "    #degree of freedom, following the conservative way, choosing the minimum from two\n",
        "    df = min(na - 1, nb - 1)\n",
        "    \n",
        "    #the difference btw two samples' means and SE for the two means\n",
        "    mean_diff = a.mean() - b.mean()\n",
        "    stn_error = np.sqrt(va/na + vb/nb)\n",
        "    \n",
        "    #t_stats and p_value\n",
        "    t_stat = mean_diff / stn_error\n",
        "    p_value = tails * stats.t.sf(abs(t_stat), df)\n",
        "    \n",
        "    #confidence levels\n",
        "    ci_low = mean_diff - stats.t.ppf(1-alpha, df) * stn_error\n",
        "    ci_high = mean_diff + stats.t.ppf(1-alpha, df) * stn_error\n",
        "   \n",
        "    return (t_stat, p_value, mean_diff, ci_low, ci_high)"
      ],
      "execution_count": 0,
      "outputs": []
    },
    {
      "metadata": {
        "id": "MRLfkp6UtOOU",
        "colab_type": "text"
      },
      "cell_type": "markdown",
      "source": [
        "Attribute Information for the dataset:\n",
        "   1. Class Name: 2 (democrat, republican)\n",
        "   2. handicapped-infants: 2 (y,n)\n",
        "   3. water-project-cost-sharing: 2 (y,n)\n",
        "   4. adoption-of-the-budget-resolution: 2 (y,n)\n",
        "   5. physician-fee-freeze: 2 (y,n)\n",
        "   6. el-salvador-aid: 2 (y,n)\n",
        "   7. religious-groups-in-schools: 2 (y,n)\n",
        "   8. anti-satellite-test-ban: 2 (y,n)\n",
        "   9. aid-to-nicaraguan-contras: 2 (y,n)\n",
        "  10. mx-missile: 2 (y,n)\n",
        "  11. immigration: 2 (y,n)\n",
        "  12. synfuels-corporation-cutback: 2 (y,n)\n",
        "  13. education-spending: 2 (y,n)\n",
        "  14. superfund-right-to-sue: 2 (y,n)\n",
        "  15. crime: 2 (y,n)\n",
        "  16. duty-free-exports: 2 (y,n)\n",
        "  17. export-administration-act-south-africa: 2 (y,n)"
      ]
    },
    {
      "metadata": {
        "id": "nstrmCG-Ecyk",
        "colab_type": "code",
        "colab": {}
      },
      "cell_type": "code",
      "source": [
        "# TODO - your code here!\n",
        "names = ['Party_Affil', \n",
        "           'handicapped_infants', \n",
        "           'water_project_cost_sharing', \n",
        "           'adoption_of_the_budget_resolution', \n",
        "           'physician_fee_freeze',\n",
        "           'el_salvador_aid',\n",
        "           'religious_groups_in_schools',\n",
        "           'anti_satellite_test_ban',\n",
        "           'aid_to_nicaraguan_contras',\n",
        "           'mx_missile',\n",
        "           'immigration',\n",
        "           'synfuels_corporation_cutback',\n",
        "           'education_spending',\n",
        "           'superfund_right_to_sue',\n",
        "           'crime',\n",
        "           'duty_free_exports',\n",
        "           'export_administration_act_south_africa']\n",
        "\n",
        "df = pd.read_csv('https://archive.ics.uci.edu/ml/machine-learning-databases/voting-records/house-votes-84.data', \n",
        "                 header=None, names=names)\n",
        "\n",
        "df.head(20)"
      ],
      "execution_count": 0,
      "outputs": []
    },
    {
      "metadata": {
        "id": "ahmU5hdP7yOx",
        "colab_type": "code",
        "colab": {}
      },
      "cell_type": "code",
      "source": [
        "# df = df_0.copy()\n",
        "# numerize = {'y': 1, '?': 0.5, 'n': 0}\n",
        "# for feat in df.columns.drop('Party_Affil'):\n",
        "#   df[feat] = df_0[feat].map(numerize)"
      ],
      "execution_count": 0,
      "outputs": []
    },
    {
      "metadata": {
        "id": "iC2EZLHEu_7_",
        "colab_type": "code",
        "outputId": "dd62c7b9-c6b3-4218-c3b6-a7e0bcf37643",
        "colab": {
          "base_uri": "https://localhost:8080/",
          "height": 67
        }
      },
      "cell_type": "code",
      "source": [
        "df['Party_Affil'].value_counts()"
      ],
      "execution_count": 46,
      "outputs": [
        {
          "output_type": "execute_result",
          "data": {
            "text/plain": [
              "democrat      267\n",
              "republican    168\n",
              "Name: Party_Affil, dtype: int64"
            ]
          },
          "metadata": {
            "tags": []
          },
          "execution_count": 46
        }
      ]
    },
    {
      "metadata": {
        "id": "hZf8T7BQv-4f",
        "colab_type": "code",
        "colab": {}
      },
      "cell_type": "code",
      "source": [
        "#On which issues congressmen preferred not to vote:\n",
        "print(df[df['Party_Affil']=='republican'].isnull().sum()/len(df[df['Party_Affil']=='republican']))\n",
        "print(df[df['Party_Affil']=='democrat'].isnull().sum()/len(df[df['Party_Affil']=='democrat']))\n",
        "#from the data below one can see that roughly 10% congressment from both parties \n",
        "# did not vote on on'water-project-cost-sharing'issue and 13% of republicans and \n",
        "#30% of democrats did not vote on 'export-administration-act-south-africa' issue"
      ],
      "execution_count": 0,
      "outputs": []
    },
    {
      "metadata": {
        "id": "Anggr8kBz_nh",
        "colab_type": "code",
        "colab": {}
      },
      "cell_type": "code",
      "source": [
        "# For better data analysis and plotting I'll replace 'y' values with 1,\n",
        "#'n' values with 0, and '?'values with 0.5\n",
        "df.replace({'y': 1, 'n': 0, '?': 0.5}, inplace = True)\n",
        "df.head(20)"
      ],
      "execution_count": 0,
      "outputs": []
    },
    {
      "metadata": {
        "id": "NppcKk0352w6",
        "colab_type": "code",
        "colab": {}
      },
      "cell_type": "code",
      "source": [
        "df.isnull().sum().sum()"
      ],
      "execution_count": 0,
      "outputs": []
    },
    {
      "metadata": {
        "id": "mu7rWpiTOD_w",
        "colab_type": "code",
        "colab": {}
      },
      "cell_type": "code",
      "source": [
        "def create_plot_crosstabs(df):\n",
        "  for column in df.columns:\n",
        "    df_cross = pd.crosstab(df['Party_Affil'], column, normalize=True)\n",
        "    df_cross.plot.bar();\n",
        "\n",
        "create_plot_crosstabs(df)    "
      ],
      "execution_count": 0,
      "outputs": []
    },
    {
      "metadata": {
        "id": "zKxuQ2FB0Lma",
        "colab_type": "code",
        "colab": {}
      },
      "cell_type": "code",
      "source": [
        "df_dem = df[df['Party_Affil']=='democrat'].copy()\n",
        "df_dem.head()"
      ],
      "execution_count": 0,
      "outputs": []
    },
    {
      "metadata": {
        "id": "Amz458RU1Dq7",
        "colab_type": "code",
        "colab": {}
      },
      "cell_type": "code",
      "source": [
        "df_rep = df[df['Party_Affil']=='republican'].copy()\n",
        "df_rep.head()"
      ],
      "execution_count": 0,
      "outputs": []
    },
    {
      "metadata": {
        "id": "dHG0aRFE1VTe",
        "colab_type": "code",
        "colab": {
          "base_uri": "https://localhost:8080/",
          "height": 322
        },
        "outputId": "2ccb5225-ce1c-4040-a248-f2d51b4a0ad9"
      },
      "cell_type": "code",
      "source": [
        "issues = [\n",
        "           'handicapped_infants', \n",
        "           'water_project_cost_sharing', \n",
        "           'adoption_of_the_budget_resolution', \n",
        "           'physician_fee_freeze',\n",
        "           'el_salvador_aid',\n",
        "           'religious_groups_in_schools',\n",
        "           'anti_satellite_test_ban',\n",
        "           'aid_to_nicaraguan_contras',\n",
        "           'mx_missile',\n",
        "           'immigration',\n",
        "           'synfuels_corporation_cutback',\n",
        "           'education_spending',\n",
        "           'superfund_right_to_sue',\n",
        "           'crime',\n",
        "           'duty_free_exports',\n",
        "           'export_administration_act_south_africa']\n",
        "\n",
        "# t_test for all issues the congressmen voted\n",
        "\n",
        "t_tests = {}\n",
        "\n",
        "for i in range (1, len(issues)):\n",
        "  t_tests[issues[i]] = t_test_two_ind_means(df_dem[issues[i]], df_rep[issues[i]])\n",
        "\n",
        "#print(t_tests)\n",
        "\n",
        "democrats = []\n",
        "republicans = []\n",
        "  \n",
        "#print name, t test, and p value for each issue\n",
        "#with p < 0.01\n",
        "#if t_stats > 0, democrats supported more, add to democrats list and \n",
        "#if t_stats < 0, republicans supported more, add to republicans list\n",
        "for issue in t_tests.keys():\n",
        "  print (issue, 'T-Statistic:', t_tests[issue][0], 'p-value:', t_tests[issue][1])\n",
        "  if t_tests[issue][0] > 0 and t_tests[issue][1] < 0.01:\n",
        "    democrats.append(issue)\n",
        "  elif t_tests[issue][0] < 0 and t_tests[issue][1] < 0.01:  \n",
        "    republicans.append(issue)"
      ],
      "execution_count": 78,
      "outputs": [
        {
          "output_type": "stream",
          "text": [
            "water_project_cost_sharing T-Statistic: -0.08800898616581461 p-value: 0.9299749799700597\n",
            "adoption_of_the_budget_resolution T-Statistic: 22.48998586302323 p-value: 2.0864864348346466e-52\n",
            "physician_fee_freeze T-Statistic: -52.442121124888914 p-value: 1.1885612910661186e-105\n",
            "el_salvador_aid T-Statistic: -23.71353902569336 p-value: 2.4445940118184503e-55\n",
            "religious_groups_in_schools T-Statistic: -10.889870263868682 p-value: 3.3083380697383495e-21\n",
            "anti_satellite_test_ban T-Statistic: 12.430632149452329 p-value: 1.5530896249945638e-25\n",
            "aid_to_nicaraguan_contras T-Statistic: 18.028173684817194 p-value: 4.957797043047096e-41\n",
            "mx_missile T-Statistic: 17.362274097679965 p-value: 3.0255168496397664e-39\n",
            "immigration T-Statistic: -1.7415583670177812 p-value: 0.0834271180065334\n",
            "synfuels_corporation_cutback T-Statistic: 8.899476995692817 p-value: 9.018248938231243e-16\n",
            "education_spending T-Statistic: -19.976853414478438 p-value: 3.950408238841512e-46\n",
            "superfund_right_to_sue T-Statistic: -14.1207490624338 p-value: 2.6724309793898314e-30\n",
            "crime T-Statistic: -19.314807911673594 p-value: 2.0272916809453443e-44\n",
            "duty_free_exports T-Statistic: 13.959331188572358 p-value: 7.595516607596545e-30\n",
            "export_administration_act_south_africa T-Statistic: 4.264055766618548 p-value: 3.350805181812998e-05\n",
            "['adoption_of_the_budget_resolution', 'anti_satellite_test_ban', 'aid_to_nicaraguan_contras', 'mx_missile', 'synfuels_corporation_cutback', 'duty_free_exports', 'export_administration_act_south_africa']\n",
            "['physician_fee_freeze', 'el_salvador_aid', 'religious_groups_in_schools', 'education_spending', 'superfund_right_to_sue', 'crime']\n"
          ],
          "name": "stdout"
        }
      ]
    },
    {
      "metadata": {
        "id": "_MMEMRkG5cix",
        "colab_type": "code",
        "colab": {
          "base_uri": "https://localhost:8080/",
          "height": 269
        },
        "outputId": "9efda379-1e3f-4e82-f576-7e873f839d3f"
      },
      "cell_type": "code",
      "source": [
        "#Print both lists\n",
        "print('The issues, that democrats support more than republicans with p < 0.01 are:')\n",
        "for i in democrats:\n",
        "  print(i)\n",
        "\n",
        "  \n",
        "print('The issues, that republicans support more than democrats with p < 0.01 are:')\n",
        "for i in republicans:\n",
        "  print(i)\n",
        "  "
      ],
      "execution_count": 79,
      "outputs": [
        {
          "output_type": "stream",
          "text": [
            "The issues, that democrats support more than republicans with p < 0.01 are:\n",
            "adoption_of_the_budget_resolution\n",
            "anti_satellite_test_ban\n",
            "aid_to_nicaraguan_contras\n",
            "mx_missile\n",
            "synfuels_corporation_cutback\n",
            "duty_free_exports\n",
            "export_administration_act_south_africa\n",
            "The issues, that republicans support more than democrats with p < 0.01 are:\n",
            "physician_fee_freeze\n",
            "el_salvador_aid\n",
            "religious_groups_in_schools\n",
            "education_spending\n",
            "superfund_right_to_sue\n",
            "crime\n"
          ],
          "name": "stdout"
        }
      ]
    }
  ]
}