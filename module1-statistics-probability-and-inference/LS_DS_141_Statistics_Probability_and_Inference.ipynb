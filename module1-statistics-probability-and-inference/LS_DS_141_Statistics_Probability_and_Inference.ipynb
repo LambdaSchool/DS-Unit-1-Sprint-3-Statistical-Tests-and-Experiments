{
  "nbformat": 4,
  "nbformat_minor": 0,
  "metadata": {
    "colab": {
      "name": "LS DS 141 Statistics Probability and Inference.ipynb",
      "version": "0.3.2",
      "provenance": []
    },
    "kernelspec": {
      "name": "python3",
      "display_name": "Python 3"
    }
  },
  "cells": [
    {
      "metadata": {
        "id": "eJGtmni-DezY",
        "colab_type": "text"
      },
      "cell_type": "markdown",
      "source": [
        "# Lambda School Data Science Module 141\n",
        "## Statistics, Probability, and Inference"
      ]
    },
    {
      "metadata": {
        "id": "FMhDKOFND0qY",
        "colab_type": "text"
      },
      "cell_type": "markdown",
      "source": [
        "## Prepare - examine what's available in SciPy\n",
        "\n",
        "As we delve into statistics, we'll be using more libraries - in particular the [stats package from SciPy](https://docs.scipy.org/doc/scipy/reference/tutorial/stats.html)."
      ]
    },
    {
      "metadata": {
        "id": "fQ9rkLJmEbsk",
        "colab_type": "code",
        "outputId": "92d0c863-08e7-4a9a-c9c5-8180a55acf0d",
        "colab": {
          "base_uri": "https://localhost:8080/",
          "height": 4233
        }
      },
      "cell_type": "code",
      "source": [
        "from matplotlib import pyplot as plt\n",
        "import pandas as pd\n",
        "import numpy as np\n",
        "from scipy import stats\n",
        "dir(stats)\n",
        "\n"
      ],
      "execution_count": 2,
      "outputs": [
        {
          "output_type": "execute_result",
          "data": {
            "text/plain": [
              "['__all__',\n",
              " '__builtins__',\n",
              " '__cached__',\n",
              " '__doc__',\n",
              " '__file__',\n",
              " '__loader__',\n",
              " '__name__',\n",
              " '__package__',\n",
              " '__path__',\n",
              " '__spec__',\n",
              " '_binned_statistic',\n",
              " '_constants',\n",
              " '_continuous_distns',\n",
              " '_discrete_distns',\n",
              " '_distn_infrastructure',\n",
              " '_distr_params',\n",
              " '_multivariate',\n",
              " '_stats',\n",
              " '_stats_mstats_common',\n",
              " '_tukeylambda_stats',\n",
              " 'absolute_import',\n",
              " 'alpha',\n",
              " 'anderson',\n",
              " 'anderson_ksamp',\n",
              " 'anglit',\n",
              " 'ansari',\n",
              " 'arcsine',\n",
              " 'argus',\n",
              " 'bartlett',\n",
              " 'bayes_mvs',\n",
              " 'bernoulli',\n",
              " 'beta',\n",
              " 'betaprime',\n",
              " 'binned_statistic',\n",
              " 'binned_statistic_2d',\n",
              " 'binned_statistic_dd',\n",
              " 'binom',\n",
              " 'binom_test',\n",
              " 'boltzmann',\n",
              " 'boxcox',\n",
              " 'boxcox_llf',\n",
              " 'boxcox_normmax',\n",
              " 'boxcox_normplot',\n",
              " 'bradford',\n",
              " 'burr',\n",
              " 'burr12',\n",
              " 'cauchy',\n",
              " 'chi',\n",
              " 'chi2',\n",
              " 'chi2_contingency',\n",
              " 'chisquare',\n",
              " 'circmean',\n",
              " 'circstd',\n",
              " 'circvar',\n",
              " 'combine_pvalues',\n",
              " 'contingency',\n",
              " 'cosine',\n",
              " 'crystalball',\n",
              " 'cumfreq',\n",
              " 'describe',\n",
              " 'dgamma',\n",
              " 'dirichlet',\n",
              " 'distributions',\n",
              " 'division',\n",
              " 'dlaplace',\n",
              " 'dweibull',\n",
              " 'energy_distance',\n",
              " 'entropy',\n",
              " 'erlang',\n",
              " 'expon',\n",
              " 'exponnorm',\n",
              " 'exponpow',\n",
              " 'exponweib',\n",
              " 'f',\n",
              " 'f_oneway',\n",
              " 'fatiguelife',\n",
              " 'find_repeats',\n",
              " 'fisher_exact',\n",
              " 'fisk',\n",
              " 'fligner',\n",
              " 'foldcauchy',\n",
              " 'foldnorm',\n",
              " 'frechet_l',\n",
              " 'frechet_r',\n",
              " 'friedmanchisquare',\n",
              " 'gamma',\n",
              " 'gausshyper',\n",
              " 'gaussian_kde',\n",
              " 'genexpon',\n",
              " 'genextreme',\n",
              " 'gengamma',\n",
              " 'genhalflogistic',\n",
              " 'genlogistic',\n",
              " 'gennorm',\n",
              " 'genpareto',\n",
              " 'geom',\n",
              " 'gilbrat',\n",
              " 'gmean',\n",
              " 'gompertz',\n",
              " 'gumbel_l',\n",
              " 'gumbel_r',\n",
              " 'halfcauchy',\n",
              " 'halfgennorm',\n",
              " 'halflogistic',\n",
              " 'halfnorm',\n",
              " 'hmean',\n",
              " 'hypergeom',\n",
              " 'hypsecant',\n",
              " 'invgamma',\n",
              " 'invgauss',\n",
              " 'invweibull',\n",
              " 'invwishart',\n",
              " 'iqr',\n",
              " 'itemfreq',\n",
              " 'jarque_bera',\n",
              " 'johnsonsb',\n",
              " 'johnsonsu',\n",
              " 'kappa3',\n",
              " 'kappa4',\n",
              " 'kde',\n",
              " 'kendalltau',\n",
              " 'kruskal',\n",
              " 'ks_2samp',\n",
              " 'ksone',\n",
              " 'kstat',\n",
              " 'kstatvar',\n",
              " 'kstest',\n",
              " 'kstwobign',\n",
              " 'kurtosis',\n",
              " 'kurtosistest',\n",
              " 'laplace',\n",
              " 'levene',\n",
              " 'levy',\n",
              " 'levy_l',\n",
              " 'levy_stable',\n",
              " 'linregress',\n",
              " 'loggamma',\n",
              " 'logistic',\n",
              " 'loglaplace',\n",
              " 'lognorm',\n",
              " 'logser',\n",
              " 'lomax',\n",
              " 'mannwhitneyu',\n",
              " 'matrix_normal',\n",
              " 'maxwell',\n",
              " 'median_test',\n",
              " 'mielke',\n",
              " 'mode',\n",
              " 'moment',\n",
              " 'mood',\n",
              " 'morestats',\n",
              " 'moyal',\n",
              " 'mstats',\n",
              " 'mstats_basic',\n",
              " 'mstats_extras',\n",
              " 'multinomial',\n",
              " 'multivariate_normal',\n",
              " 'mvn',\n",
              " 'mvsdist',\n",
              " 'nakagami',\n",
              " 'nbinom',\n",
              " 'ncf',\n",
              " 'nct',\n",
              " 'ncx2',\n",
              " 'norm',\n",
              " 'normaltest',\n",
              " 'norminvgauss',\n",
              " 'obrientransform',\n",
              " 'ortho_group',\n",
              " 'pareto',\n",
              " 'pearson3',\n",
              " 'pearsonr',\n",
              " 'percentileofscore',\n",
              " 'planck',\n",
              " 'pointbiserialr',\n",
              " 'poisson',\n",
              " 'power_divergence',\n",
              " 'powerlaw',\n",
              " 'powerlognorm',\n",
              " 'powernorm',\n",
              " 'ppcc_max',\n",
              " 'ppcc_plot',\n",
              " 'print_function',\n",
              " 'probplot',\n",
              " 'randint',\n",
              " 'random_correlation',\n",
              " 'rankdata',\n",
              " 'ranksums',\n",
              " 'rayleigh',\n",
              " 'rdist',\n",
              " 'recipinvgauss',\n",
              " 'reciprocal',\n",
              " 'relfreq',\n",
              " 'rice',\n",
              " 'rv_continuous',\n",
              " 'rv_discrete',\n",
              " 'rv_histogram',\n",
              " 'scoreatpercentile',\n",
              " 'sem',\n",
              " 'semicircular',\n",
              " 'shapiro',\n",
              " 'sigmaclip',\n",
              " 'skellam',\n",
              " 'skew',\n",
              " 'skewnorm',\n",
              " 'skewtest',\n",
              " 'spearmanr',\n",
              " 'special_ortho_group',\n",
              " 'statlib',\n",
              " 'stats',\n",
              " 't',\n",
              " 'test',\n",
              " 'theilslopes',\n",
              " 'tiecorrect',\n",
              " 'tmax',\n",
              " 'tmean',\n",
              " 'tmin',\n",
              " 'trapz',\n",
              " 'triang',\n",
              " 'trim1',\n",
              " 'trim_mean',\n",
              " 'trimboth',\n",
              " 'truncexpon',\n",
              " 'truncnorm',\n",
              " 'tsem',\n",
              " 'tstd',\n",
              " 'ttest_1samp',\n",
              " 'ttest_ind',\n",
              " 'ttest_ind_from_stats',\n",
              " 'ttest_rel',\n",
              " 'tukeylambda',\n",
              " 'tvar',\n",
              " 'uniform',\n",
              " 'unitary_group',\n",
              " 'variation',\n",
              " 'vonmises',\n",
              " 'vonmises_line',\n",
              " 'wald',\n",
              " 'wasserstein_distance',\n",
              " 'weibull_max',\n",
              " 'weibull_min',\n",
              " 'weightedtau',\n",
              " 'wilcoxon',\n",
              " 'wishart',\n",
              " 'wrapcauchy',\n",
              " 'zipf',\n",
              " 'zmap',\n",
              " 'zscore']"
            ]
          },
          "metadata": {
            "tags": []
          },
          "execution_count": 2
        }
      ]
    },
    {
      "metadata": {
        "id": "bxW4SG_gJGlZ",
        "colab_type": "code",
        "outputId": "c58adc01-a352-4957-b0b8-3c6329d77bad",
        "colab": {
          "base_uri": "https://localhost:8080/",
          "height": 68
        }
      },
      "cell_type": "code",
      "source": [
        "# As usual, lots of stuff here! There's our friend, the normal distribution\n",
        "norm = stats.norm()\n",
        "print(norm.mean())\n",
        "print(norm.std())\n",
        "print(norm.var())"
      ],
      "execution_count": 3,
      "outputs": [
        {
          "output_type": "stream",
          "text": [
            "0.0\n",
            "1.0\n",
            "1.0\n"
          ],
          "name": "stdout"
        }
      ]
    },
    {
      "metadata": {
        "id": "RyNKPt_tJk86",
        "colab_type": "code",
        "outputId": "1d09cb8b-ec52-4560-c075-5c28ce528280",
        "colab": {
          "base_uri": "https://localhost:8080/",
          "height": 68
        }
      },
      "cell_type": "code",
      "source": [
        "# And a new friend - t\n",
        "t1 = stats.t(5)  # 5 is df \"shape\" parameter\n",
        "print(t1.mean())\n",
        "print(t1.std())\n",
        "print(t1.var())"
      ],
      "execution_count": 4,
      "outputs": [
        {
          "output_type": "stream",
          "text": [
            "0.0\n",
            "1.2909944487358056\n",
            "1.6666666666666667\n"
          ],
          "name": "stdout"
        }
      ]
    },
    {
      "metadata": {
        "id": "SRn1zMuaKgxX",
        "colab_type": "text"
      },
      "cell_type": "markdown",
      "source": [
        "![T distribution PDF with different shape parameters](https://upload.wikimedia.org/wikipedia/commons/4/41/Student_t_pdf.svg)\n",
        "\n",
        "*(Picture from [Wikipedia](https://en.wikipedia.org/wiki/Student's_t-distribution#/media/File:Student_t_pdf.svg))*\n",
        "\n",
        "The t-distribution is \"normal-ish\" - the larger the parameter (which reflects its degrees of freedom - more input data/features will increase it), the closer to true normal."
      ]
    },
    {
      "metadata": {
        "id": "seQv5unnJvpM",
        "colab_type": "code",
        "outputId": "bef470ef-5c95-46c0-f428-5e7502a35fb0",
        "colab": {
          "base_uri": "https://localhost:8080/",
          "height": 68
        }
      },
      "cell_type": "code",
      "source": [
        "t2 = stats.t(30)  # Will be closer to normal\n",
        "print(t2.mean())\n",
        "print(t2.std())\n",
        "print(t2.var())"
      ],
      "execution_count": 5,
      "outputs": [
        {
          "output_type": "stream",
          "text": [
            "0.0\n",
            "1.0350983390135313\n",
            "1.0714285714285714\n"
          ],
          "name": "stdout"
        }
      ]
    },
    {
      "metadata": {
        "id": "FOvEGMysLaE2",
        "colab_type": "text"
      },
      "cell_type": "markdown",
      "source": [
        "Why is it different from normal? To better reflect the tendencies of small data and situations with unknown population standard deviation. In other words, the normal distribution is still the nice pure ideal in the limit (thanks to the central limit theorem), but the t-distribution is much more useful in many real-world situations.\n",
        "\n",
        "History sidenote - this is \"Student\":\n",
        "\n",
        "![William Sealy Gosset](https://upload.wikimedia.org/wikipedia/commons/4/42/William_Sealy_Gosset.jpg)\n",
        "\n",
        "*(Picture from [Wikipedia](https://en.wikipedia.org/wiki/File:William_Sealy_Gosset.jpg))*\n",
        "\n",
        "His real name is William Sealy Gosset, and he published under the pen name \"Student\" because he was not an academic. He was a brewer, working at Guinness and using trial and error to determine the best ways to yield barley. He's also proof that, even 100 years ago, you don't need official credentials to do real data science!"
      ]
    },
    {
      "metadata": {
        "id": "1yx_QilAEC6o",
        "colab_type": "text"
      },
      "cell_type": "markdown",
      "source": [
        "## Live Lecture - let's perform and interpret a t-test\n",
        "\n",
        "We'll generate our own data, so we can know and alter the \"ground truth\" that the t-test should find. We will learn about p-values and how to interpret \"statistical significance\" based on the output of a hypothesis test."
      ]
    },
    {
      "metadata": {
        "id": "BuysRPs-Ed0v",
        "colab_type": "code",
        "colab": {}
      },
      "cell_type": "code",
      "source": [
        "# TODO - during class, but please help!"
      ],
      "execution_count": 0,
      "outputs": []
    },
    {
      "metadata": {
        "colab_type": "code",
        "outputId": "0c878f5f-9a49-46b9-cfa8-593ae8a53be4",
        "id": "rtWwzRN0uezy",
        "colab": {
          "base_uri": "https://localhost:8080/",
          "height": 297
        }
      },
      "cell_type": "code",
      "source": [
        "# TODO - during class, but please help!\n",
        "survey_data = [0, 1, 0, 1, 0, 0, 0, 1, 1, 0, 0, 1, 1, 1, 1, 1, 1, 1,\n",
        "               0, 0, 1, 1, 1, 1, 1, 1, 1, 1, 1, 0, 1, 1, 1, 1, 1, 1,\n",
        "               1, 0, 1, 0, 1, 1, 0, 1, 0, 1, 1, 0, 0, 0]\n",
        "\n",
        "import numpy as np\n",
        "import pandas as pd\n",
        "\n",
        "df = pd.DataFrame(survey_data)\n",
        "df.describe()"
      ],
      "execution_count": 7,
      "outputs": [
        {
          "output_type": "execute_result",
          "data": {
            "text/html": [
              "<div>\n",
              "<style scoped>\n",
              "    .dataframe tbody tr th:only-of-type {\n",
              "        vertical-align: middle;\n",
              "    }\n",
              "\n",
              "    .dataframe tbody tr th {\n",
              "        vertical-align: top;\n",
              "    }\n",
              "\n",
              "    .dataframe thead th {\n",
              "        text-align: right;\n",
              "    }\n",
              "</style>\n",
              "<table border=\"1\" class=\"dataframe\">\n",
              "  <thead>\n",
              "    <tr style=\"text-align: right;\">\n",
              "      <th></th>\n",
              "      <th>0</th>\n",
              "    </tr>\n",
              "  </thead>\n",
              "  <tbody>\n",
              "    <tr>\n",
              "      <th>count</th>\n",
              "      <td>50.000000</td>\n",
              "    </tr>\n",
              "    <tr>\n",
              "      <th>mean</th>\n",
              "      <td>0.660000</td>\n",
              "    </tr>\n",
              "    <tr>\n",
              "      <th>std</th>\n",
              "      <td>0.478518</td>\n",
              "    </tr>\n",
              "    <tr>\n",
              "      <th>min</th>\n",
              "      <td>0.000000</td>\n",
              "    </tr>\n",
              "    <tr>\n",
              "      <th>25%</th>\n",
              "      <td>0.000000</td>\n",
              "    </tr>\n",
              "    <tr>\n",
              "      <th>50%</th>\n",
              "      <td>1.000000</td>\n",
              "    </tr>\n",
              "    <tr>\n",
              "      <th>75%</th>\n",
              "      <td>1.000000</td>\n",
              "    </tr>\n",
              "    <tr>\n",
              "      <th>max</th>\n",
              "      <td>1.000000</td>\n",
              "    </tr>\n",
              "  </tbody>\n",
              "</table>\n",
              "</div>"
            ],
            "text/plain": [
              "               0\n",
              "count  50.000000\n",
              "mean    0.660000\n",
              "std     0.478518\n",
              "min     0.000000\n",
              "25%     0.000000\n",
              "50%     1.000000\n",
              "75%     1.000000\n",
              "max     1.000000"
            ]
          },
          "metadata": {
            "tags": []
          },
          "execution_count": 7
        }
      ]
    },
    {
      "metadata": {
        "id": "17NxqCIONZs4",
        "colab_type": "code",
        "outputId": "170d60f6-77ca-4843-9252-99329095fd4c",
        "colab": {
          "base_uri": "https://localhost:8080/",
          "height": 364
        }
      },
      "cell_type": "code",
      "source": [
        "df.plot.hist()"
      ],
      "execution_count": 8,
      "outputs": [
        {
          "output_type": "execute_result",
          "data": {
            "text/plain": [
              "<matplotlib.axes._subplots.AxesSubplot at 0x7f60ef2b9c50>"
            ]
          },
          "metadata": {
            "tags": []
          },
          "execution_count": 8
        },
        {
          "output_type": "display_data",
          "data": {
            "image/png": "[encoded data removed]",
            "text/plain": [
              "<matplotlib.figure.Figure at 0x7f60ef299eb8>"
            ]
          },
          "metadata": {
            "tags": []
          }
        }
      ]
    },
    {
      "metadata": {
        "id": "GcprauQcNKML",
        "colab_type": "code",
        "outputId": "d10924e2-09c5-4f78-be46-7eae549de958",
        "colab": {
          "base_uri": "https://localhost:8080/",
          "height": 34
        }
      },
      "cell_type": "code",
      "source": [
        "# Now with confidence!\n",
        "\n",
        "import scipy\n",
        "scipy.stats.ttest_1samp(survey_data, 0.5)"
      ],
      "execution_count": 9,
      "outputs": [
        {
          "output_type": "execute_result",
          "data": {
            "text/plain": [
              "Ttest_1sampResult(statistic=2.364321853156195, pvalue=0.02207003200903075)"
            ]
          },
          "metadata": {
            "tags": []
          },
          "execution_count": 9
        }
      ]
    },
    {
      "metadata": {
        "id": "z1iYrZjzOsZp",
        "colab_type": "code",
        "outputId": "e84996ca-d3c9-4e2f-bd7b-5e9537fa795f",
        "colab": {
          "base_uri": "https://localhost:8080/",
          "height": 34
        }
      },
      "cell_type": "code",
      "source": [
        "# the t-statistic is the ratio of the departure of the estimated value of  a\n",
        "# parameter from its hypothesized value to its standard error\n",
        "\n",
        "# We want to calculate: tstat = 2.364321853156195\n",
        "\n",
        "sample_stderr = 0.478518 / np.sqrt(len(survey_data))\n",
        "sample_mean = 0.660000\n",
        "null_hypothesis_mean = 0.5\n",
        "\n",
        "t_stat = (sample_mean - null_hypothesis_mean) / sample_stderr\n",
        "print(t_stat)"
      ],
      "execution_count": 10,
      "outputs": [
        {
          "output_type": "stream",
          "text": [
            "2.364322449518046\n"
          ],
          "name": "stdout"
        }
      ]
    },
    {
      "metadata": {
        "id": "cvFA_QxnOWf_",
        "colab_type": "code",
        "outputId": "7c30768e-529d-4fe0-f192-53ea91e96510",
        "colab": {
          "base_uri": "https://localhost:8080/",
          "height": 34
        }
      },
      "cell_type": "code",
      "source": [
        "len(survey_data)"
      ],
      "execution_count": 11,
      "outputs": [
        {
          "output_type": "execute_result",
          "data": {
            "text/plain": [
              "50"
            ]
          },
          "metadata": {
            "tags": []
          },
          "execution_count": 11
        }
      ]
    },
    {
      "metadata": {
        "id": "KyRWoC5DUTJs",
        "colab_type": "code",
        "colab": {}
      },
      "cell_type": "code",
      "source": [
        "# Science! Reproducibility...\n",
        "import random\n",
        "\n",
        "def make_soda_data(n=50):\n",
        "  # Fair version\n",
        "  # return pd.DataFrame([random.randint(0, 1) for _ in range(n)])\n",
        "  # Unfair version!\n",
        "  return pd.DataFrame(np.random.binomial(n=1, p=0.5, size=n))"
      ],
      "execution_count": 0,
      "outputs": []
    },
    {
      "metadata": {
        "id": "wTzmc4qHUuGJ",
        "colab_type": "code",
        "outputId": "f11ba6ee-4df7-40ad-a164-fe245677d266",
        "colab": {
          "base_uri": "https://localhost:8080/",
          "height": 297
        }
      },
      "cell_type": "code",
      "source": [
        "make_soda_data(n=500).describe()"
      ],
      "execution_count": 13,
      "outputs": [
        {
          "output_type": "execute_result",
          "data": {
            "text/html": [
              "<div>\n",
              "<style scoped>\n",
              "    .dataframe tbody tr th:only-of-type {\n",
              "        vertical-align: middle;\n",
              "    }\n",
              "\n",
              "    .dataframe tbody tr th {\n",
              "        vertical-align: top;\n",
              "    }\n",
              "\n",
              "    .dataframe thead th {\n",
              "        text-align: right;\n",
              "    }\n",
              "</style>\n",
              "<table border=\"1\" class=\"dataframe\">\n",
              "  <thead>\n",
              "    <tr style=\"text-align: right;\">\n",
              "      <th></th>\n",
              "      <th>0</th>\n",
              "    </tr>\n",
              "  </thead>\n",
              "  <tbody>\n",
              "    <tr>\n",
              "      <th>count</th>\n",
              "      <td>500.000000</td>\n",
              "    </tr>\n",
              "    <tr>\n",
              "      <th>mean</th>\n",
              "      <td>0.496000</td>\n",
              "    </tr>\n",
              "    <tr>\n",
              "      <th>std</th>\n",
              "      <td>0.500485</td>\n",
              "    </tr>\n",
              "    <tr>\n",
              "      <th>min</th>\n",
              "      <td>0.000000</td>\n",
              "    </tr>\n",
              "    <tr>\n",
              "      <th>25%</th>\n",
              "      <td>0.000000</td>\n",
              "    </tr>\n",
              "    <tr>\n",
              "      <th>50%</th>\n",
              "      <td>0.000000</td>\n",
              "    </tr>\n",
              "    <tr>\n",
              "      <th>75%</th>\n",
              "      <td>1.000000</td>\n",
              "    </tr>\n",
              "    <tr>\n",
              "      <th>max</th>\n",
              "      <td>1.000000</td>\n",
              "    </tr>\n",
              "  </tbody>\n",
              "</table>\n",
              "</div>"
            ],
            "text/plain": [
              "                0\n",
              "count  500.000000\n",
              "mean     0.496000\n",
              "std      0.500485\n",
              "min      0.000000\n",
              "25%      0.000000\n",
              "50%      0.000000\n",
              "75%      1.000000\n",
              "max      1.000000"
            ]
          },
          "metadata": {
            "tags": []
          },
          "execution_count": 13
        }
      ]
    },
    {
      "metadata": {
        "id": "wBNs832LU_B_",
        "colab_type": "code",
        "outputId": "a361cec3-2b62-4a57-8f71-0b022f2cf020",
        "colab": {
          "base_uri": "https://localhost:8080/",
          "height": 297
        }
      },
      "cell_type": "code",
      "source": [
        "t_statistics = []\n",
        "p_values = []\n",
        "n_experiments = 10  # Number of visitors\n",
        "\n",
        "for _ in range(n_experiments):\n",
        "  df = make_soda_data(n=500000)\n",
        "  ttest = scipy.stats.ttest_1samp(df, 0.5)\n",
        "  t_statistics.append(ttest.statistic)\n",
        "  p_values.append(ttest.pvalue)\n",
        "\n",
        "pd.DataFrame(t_statistics).describe()"
      ],
      "execution_count": 14,
      "outputs": [
        {
          "output_type": "execute_result",
          "data": {
            "text/html": [
              "<div>\n",
              "<style scoped>\n",
              "    .dataframe tbody tr th:only-of-type {\n",
              "        vertical-align: middle;\n",
              "    }\n",
              "\n",
              "    .dataframe tbody tr th {\n",
              "        vertical-align: top;\n",
              "    }\n",
              "\n",
              "    .dataframe thead th {\n",
              "        text-align: right;\n",
              "    }\n",
              "</style>\n",
              "<table border=\"1\" class=\"dataframe\">\n",
              "  <thead>\n",
              "    <tr style=\"text-align: right;\">\n",
              "      <th></th>\n",
              "      <th>0</th>\n",
              "    </tr>\n",
              "  </thead>\n",
              "  <tbody>\n",
              "    <tr>\n",
              "      <th>count</th>\n",
              "      <td>10.000000</td>\n",
              "    </tr>\n",
              "    <tr>\n",
              "      <th>mean</th>\n",
              "      <td>-0.187242</td>\n",
              "    </tr>\n",
              "    <tr>\n",
              "      <th>std</th>\n",
              "      <td>0.838225</td>\n",
              "    </tr>\n",
              "    <tr>\n",
              "      <th>min</th>\n",
              "      <td>-1.702716</td>\n",
              "    </tr>\n",
              "    <tr>\n",
              "      <th>25%</th>\n",
              "      <td>-0.642053</td>\n",
              "    </tr>\n",
              "    <tr>\n",
              "      <th>50%</th>\n",
              "      <td>0.033941</td>\n",
              "    </tr>\n",
              "    <tr>\n",
              "      <th>75%</th>\n",
              "      <td>0.453962</td>\n",
              "    </tr>\n",
              "    <tr>\n",
              "      <th>max</th>\n",
              "      <td>0.735391</td>\n",
              "    </tr>\n",
              "  </tbody>\n",
              "</table>\n",
              "</div>"
            ],
            "text/plain": [
              "               0\n",
              "count  10.000000\n",
              "mean   -0.187242\n",
              "std     0.838225\n",
              "min    -1.702716\n",
              "25%    -0.642053\n",
              "50%     0.033941\n",
              "75%     0.453962\n",
              "max     0.735391"
            ]
          },
          "metadata": {
            "tags": []
          },
          "execution_count": 14
        }
      ]
    },
    {
      "metadata": {
        "id": "iuT0nUoEZO6W",
        "colab_type": "code",
        "outputId": "8479ddeb-ed3b-4118-b278-6fd6d47f36bb",
        "colab": {
          "base_uri": "https://localhost:8080/",
          "height": 297
        }
      },
      "cell_type": "code",
      "source": [
        "pd.DataFrame(p_values).describe()"
      ],
      "execution_count": 15,
      "outputs": [
        {
          "output_type": "execute_result",
          "data": {
            "text/html": [
              "<div>\n",
              "<style scoped>\n",
              "    .dataframe tbody tr th:only-of-type {\n",
              "        vertical-align: middle;\n",
              "    }\n",
              "\n",
              "    .dataframe tbody tr th {\n",
              "        vertical-align: top;\n",
              "    }\n",
              "\n",
              "    .dataframe thead th {\n",
              "        text-align: right;\n",
              "    }\n",
              "</style>\n",
              "<table border=\"1\" class=\"dataframe\">\n",
              "  <thead>\n",
              "    <tr style=\"text-align: right;\">\n",
              "      <th></th>\n",
              "      <th>0</th>\n",
              "    </tr>\n",
              "  </thead>\n",
              "  <tbody>\n",
              "    <tr>\n",
              "      <th>count</th>\n",
              "      <td>10.000000</td>\n",
              "    </tr>\n",
              "    <tr>\n",
              "      <th>mean</th>\n",
              "      <td>0.567737</td>\n",
              "    </tr>\n",
              "    <tr>\n",
              "      <th>std</th>\n",
              "      <td>0.288363</td>\n",
              "    </tr>\n",
              "    <tr>\n",
              "      <th>min</th>\n",
              "      <td>0.088622</td>\n",
              "    </tr>\n",
              "    <tr>\n",
              "      <th>25%</th>\n",
              "      <td>0.463831</td>\n",
              "    </tr>\n",
              "    <tr>\n",
              "      <th>50%</th>\n",
              "      <td>0.558551</td>\n",
              "    </tr>\n",
              "    <tr>\n",
              "      <th>75%</th>\n",
              "      <td>0.747889</td>\n",
              "    </tr>\n",
              "    <tr>\n",
              "      <th>max</th>\n",
              "      <td>0.975180</td>\n",
              "    </tr>\n",
              "  </tbody>\n",
              "</table>\n",
              "</div>"
            ],
            "text/plain": [
              "               0\n",
              "count  10.000000\n",
              "mean    0.567737\n",
              "std     0.288363\n",
              "min     0.088622\n",
              "25%     0.463831\n",
              "50%     0.558551\n",
              "75%     0.747889\n",
              "max     0.975180"
            ]
          },
          "metadata": {
            "tags": []
          },
          "execution_count": 15
        }
      ]
    },
    {
      "metadata": {
        "id": "ErkGWp__XIx5",
        "colab_type": "code",
        "outputId": "16597713-cc65-4efd-e952-a90c3cd22d89",
        "colab": {
          "base_uri": "https://localhost:8080/",
          "height": 34
        }
      },
      "cell_type": "code",
      "source": [
        "random.choice([0, 1, 1])  # Unfair coins"
      ],
      "execution_count": 16,
      "outputs": [
        {
          "output_type": "execute_result",
          "data": {
            "text/plain": [
              "0"
            ]
          },
          "metadata": {
            "tags": []
          },
          "execution_count": 16
        }
      ]
    },
    {
      "metadata": {
        "id": "4ucQDnX6Xf3u",
        "colab_type": "code",
        "outputId": "c85f6cc7-7f67-47cf-d2e9-21fb0a058870",
        "colab": {
          "base_uri": "https://localhost:8080/",
          "height": 34
        }
      },
      "cell_type": "code",
      "source": [
        "np.random.binomial(100, 0.7)"
      ],
      "execution_count": 17,
      "outputs": [
        {
          "output_type": "execute_result",
          "data": {
            "text/plain": [
              "65"
            ]
          },
          "metadata": {
            "tags": []
          },
          "execution_count": 17
        }
      ]
    },
    {
      "metadata": {
        "id": "TWoPRB2IX04z",
        "colab_type": "code",
        "outputId": "6e636488-e3b0-45b6-b0e5-d0ae04c3f074",
        "colab": {
          "base_uri": "https://localhost:8080/",
          "height": 34
        }
      },
      "cell_type": "code",
      "source": [
        "np.random.binomial(1, 0.6)"
      ],
      "execution_count": 18,
      "outputs": [
        {
          "output_type": "execute_result",
          "data": {
            "text/plain": [
              "0"
            ]
          },
          "metadata": {
            "tags": []
          },
          "execution_count": 18
        }
      ]
    },
    {
      "metadata": {
        "id": "egXb7YpqEcZF",
        "colab_type": "text"
      },
      "cell_type": "markdown",
      "source": [
        "## Assignment - apply the t-test to real data\n",
        "\n",
        "Your assignment is to determine which issues have \"statistically significant\" differences between political parties in this [1980s congressional voting data](https://archive.ics.uci.edu/ml/datasets/Congressional+Voting+Records). The data consists of 435 instances (one for each congressperson), a class (democrat or republican), and 16 binary attributes (yes or no for voting for or against certain issues). Be aware - there are missing values!\n",
        "\n",
        "Your goals:\n",
        "\n",
        "1. Load and clean the data (or determine the best method to drop observations when running tests)\n",
        "2. Using hypothesis testing, find an issue that democrats support more than republicans with p < 0.01\n",
        "3. Using hypothesis testing, find an issue that republicans support more than democrats with p < 0.01\n",
        "4. Using hypothesis testing, find an issue where the difference between republicans and democrats has p > 0.1 (i.e. there may not be much of a difference)\n",
        "\n",
        "Note that this data will involve *2 sample* t-tests, because you're comparing averages across two groups (republicans and democrats) rather than a single group against a null hypothesis.\n",
        "\n",
        "Stretch goals:\n",
        "\n",
        "1. Refactor your code into functions so it's easy to rerun with arbitrary variables\n",
        "2. Apply hypothesis testing to your personal project data (for the purposes of this notebook you can type a summary of the hypothesis you formed and tested)"
      ]
    },
    {
      "metadata": {
        "id": "nstrmCG-Ecyk",
        "colab_type": "code",
        "colab": {
          "base_uri": "https://localhost:8080/",
          "height": 238
        },
        "outputId": "c4426d69-a412-4288-cca6-c969430a0729"
      },
      "cell_type": "code",
      "source": [
        "# TODO - your code here!\n",
        "Vot_URL = 'https://archive.ics.uci.edu/ml/machine-learning-databases/voting-records/house-votes-84.data'\n",
        "headers = ['party',\n",
        "           'handicapped-infants',\n",
        "           'water-project-cost-sharing',\n",
        "           'adoption-of-the-budget-resolution', \n",
        "           'physician-fee-freeze',\n",
        "           'el-salvador-aid',\n",
        "           'religious-groups-in-schools',\n",
        "           'anti-satellite-test-ban',\n",
        "           'aid-to-nicaraguan-contras',\n",
        "           'mx-missile',\n",
        "           'immigration',\n",
        "           'synfuels-corporation-cutback',\n",
        "           'education-spending',\n",
        "           'superfund-right-to-sue',\n",
        "           'crime',\n",
        "           'duty-free-exports',\n",
        "           'export-administration-act-south-africa']\n",
        "df = pd.read_csv(Vot_URL, header=None, names = headers)\n",
        "#df.replace('?', np.NaN)\n",
        "df.replace({'?': .5, \"republican\": 1, \"democrat\": 0, \"y\": 1, \"n\": 0}, inplace=True)\n",
        "df.head()\n"
      ],
      "execution_count": 44,
      "outputs": [
        {
          "output_type": "execute_result",
          "data": {
            "text/html": [
              "<div>\n",
              "<style scoped>\n",
              "    .dataframe tbody tr th:only-of-type {\n",
              "        vertical-align: middle;\n",
              "    }\n",
              "\n",
              "    .dataframe tbody tr th {\n",
              "        vertical-align: top;\n",
              "    }\n",
              "\n",
              "    .dataframe thead th {\n",
              "        text-align: right;\n",
              "    }\n",
              "</style>\n",
              "<table border=\"1\" class=\"dataframe\">\n",
              "  <thead>\n",
              "    <tr style=\"text-align: right;\">\n",
              "      <th></th>\n",
              "      <th>party</th>\n",
              "      <th>handicapped-infants</th>\n",
              "      <th>water-project-cost-sharing</th>\n",
              "      <th>adoption-of-the-budget-resolution</th>\n",
              "      <th>physician-fee-freeze</th>\n",
              "      <th>el-salvador-aid</th>\n",
              "      <th>religious-groups-in-schools</th>\n",
              "      <th>anti-satellite-test-ban</th>\n",
              "      <th>aid-to-nicaraguan-contras</th>\n",
              "      <th>mx-missile</th>\n",
              "      <th>immigration</th>\n",
              "      <th>synfuels-corporation-cutback</th>\n",
              "      <th>education-spending</th>\n",
              "      <th>superfund-right-to-sue</th>\n",
              "      <th>crime</th>\n",
              "      <th>duty-free-exports</th>\n",
              "      <th>export-administration-act-south-africa</th>\n",
              "    </tr>\n",
              "  </thead>\n",
              "  <tbody>\n",
              "    <tr>\n",
              "      <th>0</th>\n",
              "      <td>1</td>\n",
              "      <td>0.0</td>\n",
              "      <td>1.0</td>\n",
              "      <td>0.0</td>\n",
              "      <td>1.0</td>\n",
              "      <td>1.0</td>\n",
              "      <td>1.0</td>\n",
              "      <td>0.0</td>\n",
              "      <td>0.0</td>\n",
              "      <td>0.0</td>\n",
              "      <td>1.0</td>\n",
              "      <td>0.5</td>\n",
              "      <td>1.0</td>\n",
              "      <td>1.0</td>\n",
              "      <td>1.0</td>\n",
              "      <td>0.0</td>\n",
              "      <td>1.0</td>\n",
              "    </tr>\n",
              "    <tr>\n",
              "      <th>1</th>\n",
              "      <td>1</td>\n",
              "      <td>0.0</td>\n",
              "      <td>1.0</td>\n",
              "      <td>0.0</td>\n",
              "      <td>1.0</td>\n",
              "      <td>1.0</td>\n",
              "      <td>1.0</td>\n",
              "      <td>0.0</td>\n",
              "      <td>0.0</td>\n",
              "      <td>0.0</td>\n",
              "      <td>0.0</td>\n",
              "      <td>0.0</td>\n",
              "      <td>1.0</td>\n",
              "      <td>1.0</td>\n",
              "      <td>1.0</td>\n",
              "      <td>0.0</td>\n",
              "      <td>0.5</td>\n",
              "    </tr>\n",
              "    <tr>\n",
              "      <th>2</th>\n",
              "      <td>0</td>\n",
              "      <td>0.5</td>\n",
              "      <td>1.0</td>\n",
              "      <td>1.0</td>\n",
              "      <td>0.5</td>\n",
              "      <td>1.0</td>\n",
              "      <td>1.0</td>\n",
              "      <td>0.0</td>\n",
              "      <td>0.0</td>\n",
              "      <td>0.0</td>\n",
              "      <td>0.0</td>\n",
              "      <td>1.0</td>\n",
              "      <td>0.0</td>\n",
              "      <td>1.0</td>\n",
              "      <td>1.0</td>\n",
              "      <td>0.0</td>\n",
              "      <td>0.0</td>\n",
              "    </tr>\n",
              "    <tr>\n",
              "      <th>3</th>\n",
              "      <td>0</td>\n",
              "      <td>0.0</td>\n",
              "      <td>1.0</td>\n",
              "      <td>1.0</td>\n",
              "      <td>0.0</td>\n",
              "      <td>0.5</td>\n",
              "      <td>1.0</td>\n",
              "      <td>0.0</td>\n",
              "      <td>0.0</td>\n",
              "      <td>0.0</td>\n",
              "      <td>0.0</td>\n",
              "      <td>1.0</td>\n",
              "      <td>0.0</td>\n",
              "      <td>1.0</td>\n",
              "      <td>0.0</td>\n",
              "      <td>0.0</td>\n",
              "      <td>1.0</td>\n",
              "    </tr>\n",
              "    <tr>\n",
              "      <th>4</th>\n",
              "      <td>0</td>\n",
              "      <td>1.0</td>\n",
              "      <td>1.0</td>\n",
              "      <td>1.0</td>\n",
              "      <td>0.0</td>\n",
              "      <td>1.0</td>\n",
              "      <td>1.0</td>\n",
              "      <td>0.0</td>\n",
              "      <td>0.0</td>\n",
              "      <td>0.0</td>\n",
              "      <td>0.0</td>\n",
              "      <td>1.0</td>\n",
              "      <td>0.5</td>\n",
              "      <td>1.0</td>\n",
              "      <td>1.0</td>\n",
              "      <td>1.0</td>\n",
              "      <td>1.0</td>\n",
              "    </tr>\n",
              "  </tbody>\n",
              "</table>\n",
              "</div>"
            ],
            "text/plain": [
              "   party  handicapped-infants  water-project-cost-sharing  \\\n",
              "0      1                  0.0                         1.0   \n",
              "1      1                  0.0                         1.0   \n",
              "2      0                  0.5                         1.0   \n",
              "3      0                  0.0                         1.0   \n",
              "4      0                  1.0                         1.0   \n",
              "\n",
              "   adoption-of-the-budget-resolution  physician-fee-freeze  el-salvador-aid  \\\n",
              "0                                0.0                   1.0              1.0   \n",
              "1                                0.0                   1.0              1.0   \n",
              "2                                1.0                   0.5              1.0   \n",
              "3                                1.0                   0.0              0.5   \n",
              "4                                1.0                   0.0              1.0   \n",
              "\n",
              "   religious-groups-in-schools  anti-satellite-test-ban  \\\n",
              "0                          1.0                      0.0   \n",
              "1                          1.0                      0.0   \n",
              "2                          1.0                      0.0   \n",
              "3                          1.0                      0.0   \n",
              "4                          1.0                      0.0   \n",
              "\n",
              "   aid-to-nicaraguan-contras  mx-missile  immigration  \\\n",
              "0                        0.0         0.0          1.0   \n",
              "1                        0.0         0.0          0.0   \n",
              "2                        0.0         0.0          0.0   \n",
              "3                        0.0         0.0          0.0   \n",
              "4                        0.0         0.0          0.0   \n",
              "\n",
              "   synfuels-corporation-cutback  education-spending  superfund-right-to-sue  \\\n",
              "0                           0.5                 1.0                     1.0   \n",
              "1                           0.0                 1.0                     1.0   \n",
              "2                           1.0                 0.0                     1.0   \n",
              "3                           1.0                 0.0                     1.0   \n",
              "4                           1.0                 0.5                     1.0   \n",
              "\n",
              "   crime  duty-free-exports  export-administration-act-south-africa  \n",
              "0    1.0                0.0                                     1.0  \n",
              "1    1.0                0.0                                     0.5  \n",
              "2    1.0                0.0                                     0.0  \n",
              "3    0.0                0.0                                     1.0  \n",
              "4    1.0                1.0                                     1.0  "
            ]
          },
          "metadata": {
            "tags": []
          },
          "execution_count": 44
        }
      ]
    },
    {
      "metadata": {
        "id": "QvytMFh2waI9",
        "colab_type": "code",
        "colab": {}
      },
      "cell_type": "code",
      "source": [
        "df_dem = df[df['party'] == 0]\n",
        "df_rep = df[df['party'] == 1]"
      ],
      "execution_count": 0,
      "outputs": []
    },
    {
      "metadata": {
        "id": "wK7aItzzal6v",
        "colab_type": "code",
        "colab": {
          "base_uri": "https://localhost:8080/",
          "height": 576
        },
        "outputId": "57687647-f09b-4198-c83d-4a5c903bde9d"
      },
      "cell_type": "code",
      "source": [
        "DemVot = pd.DataFrame(np.mean(df_dem))\n",
        "RepVot = pd.DataFrame(np.mean(df_rep))\n",
        "Mean_Votes = DemVot.join(RepVot, lsuffix='Democrats', rsuffix='Republican')\n",
        "Mean_Votes"
      ],
      "execution_count": 89,
      "outputs": [
        {
          "output_type": "execute_result",
          "data": {
            "text/html": [
              "<div>\n",
              "<style scoped>\n",
              "    .dataframe tbody tr th:only-of-type {\n",
              "        vertical-align: middle;\n",
              "    }\n",
              "\n",
              "    .dataframe tbody tr th {\n",
              "        vertical-align: top;\n",
              "    }\n",
              "\n",
              "    .dataframe thead th {\n",
              "        text-align: right;\n",
              "    }\n",
              "</style>\n",
              "<table border=\"1\" class=\"dataframe\">\n",
              "  <thead>\n",
              "    <tr style=\"text-align: right;\">\n",
              "      <th></th>\n",
              "      <th>0Democrats</th>\n",
              "      <th>0Republican</th>\n",
              "    </tr>\n",
              "  </thead>\n",
              "  <tbody>\n",
              "    <tr>\n",
              "      <th>party</th>\n",
              "      <td>0.000000</td>\n",
              "      <td>1.000000</td>\n",
              "    </tr>\n",
              "    <tr>\n",
              "      <th>handicapped-infants</th>\n",
              "      <td>0.601124</td>\n",
              "      <td>0.193452</td>\n",
              "    </tr>\n",
              "    <tr>\n",
              "      <th>water-project-cost-sharing</th>\n",
              "      <td>0.501873</td>\n",
              "      <td>0.505952</td>\n",
              "    </tr>\n",
              "    <tr>\n",
              "      <th>adoption-of-the-budget-resolution</th>\n",
              "      <td>0.878277</td>\n",
              "      <td>0.142857</td>\n",
              "    </tr>\n",
              "    <tr>\n",
              "      <th>physician-fee-freeze</th>\n",
              "      <td>0.067416</td>\n",
              "      <td>0.979167</td>\n",
              "    </tr>\n",
              "    <tr>\n",
              "      <th>el-salvador-aid</th>\n",
              "      <td>0.228464</td>\n",
              "      <td>0.943452</td>\n",
              "    </tr>\n",
              "    <tr>\n",
              "      <th>religious-groups-in-schools</th>\n",
              "      <td>0.477528</td>\n",
              "      <td>0.892857</td>\n",
              "    </tr>\n",
              "    <tr>\n",
              "      <th>anti-satellite-test-ban</th>\n",
              "      <td>0.764045</td>\n",
              "      <td>0.250000</td>\n",
              "    </tr>\n",
              "    <tr>\n",
              "      <th>aid-to-nicaraguan-contras</th>\n",
              "      <td>0.823970</td>\n",
              "      <td>0.175595</td>\n",
              "    </tr>\n",
              "    <tr>\n",
              "      <th>mx-missile</th>\n",
              "      <td>0.739700</td>\n",
              "      <td>0.122024</td>\n",
              "    </tr>\n",
              "    <tr>\n",
              "      <th>immigration</th>\n",
              "      <td>0.471910</td>\n",
              "      <td>0.556548</td>\n",
              "    </tr>\n",
              "    <tr>\n",
              "      <th>synfuels-corporation-cutback</th>\n",
              "      <td>0.505618</td>\n",
              "      <td>0.151786</td>\n",
              "    </tr>\n",
              "    <tr>\n",
              "      <th>education-spending</th>\n",
              "      <td>0.168539</td>\n",
              "      <td>0.842262</td>\n",
              "    </tr>\n",
              "    <tr>\n",
              "      <th>superfund-right-to-sue</th>\n",
              "      <td>0.301498</td>\n",
              "      <td>0.839286</td>\n",
              "    </tr>\n",
              "    <tr>\n",
              "      <th>crime</th>\n",
              "      <td>0.355805</td>\n",
              "      <td>0.961310</td>\n",
              "    </tr>\n",
              "    <tr>\n",
              "      <th>duty-free-exports</th>\n",
              "      <td>0.629213</td>\n",
              "      <td>0.119048</td>\n",
              "    </tr>\n",
              "    <tr>\n",
              "      <th>export-administration-act-south-africa</th>\n",
              "      <td>0.801498</td>\n",
              "      <td>0.636905</td>\n",
              "    </tr>\n",
              "  </tbody>\n",
              "</table>\n",
              "</div>"
            ],
            "text/plain": [
              "                                        0Democrats  0Republican\n",
              "party                                     0.000000     1.000000\n",
              "handicapped-infants                       0.601124     0.193452\n",
              "water-project-cost-sharing                0.501873     0.505952\n",
              "adoption-of-the-budget-resolution         0.878277     0.142857\n",
              "physician-fee-freeze                      0.067416     0.979167\n",
              "el-salvador-aid                           0.228464     0.943452\n",
              "religious-groups-in-schools               0.477528     0.892857\n",
              "anti-satellite-test-ban                   0.764045     0.250000\n",
              "aid-to-nicaraguan-contras                 0.823970     0.175595\n",
              "mx-missile                                0.739700     0.122024\n",
              "immigration                               0.471910     0.556548\n",
              "synfuels-corporation-cutback              0.505618     0.151786\n",
              "education-spending                        0.168539     0.842262\n",
              "superfund-right-to-sue                    0.301498     0.839286\n",
              "crime                                     0.355805     0.961310\n",
              "duty-free-exports                         0.629213     0.119048\n",
              "export-administration-act-south-africa    0.801498     0.636905"
            ]
          },
          "metadata": {
            "tags": []
          },
          "execution_count": 89
        }
      ]
    },
    {
      "metadata": {
        "id": "MJXhLSrMzHpv",
        "colab_type": "code",
        "colab": {
          "base_uri": "https://localhost:8080/",
          "height": 34
        },
        "outputId": "2dffcd59-55df-4794-f3be-3ed0ff8f3b08"
      },
      "cell_type": "code",
      "source": [
        "min(stats.ttest_ind(df_dem['handicapped-infants'], df_rep['handicapped-infants']))"
      ],
      "execution_count": 43,
      "outputs": [
        {
          "output_type": "execute_result",
          "data": {
            "text/plain": [
              "1.2761169357253626e-18"
            ]
          },
          "metadata": {
            "tags": []
          },
          "execution_count": 43
        }
      ]
    },
    {
      "metadata": {
        "id": "dWCAtuJkpBhb",
        "colab_type": "code",
        "colab": {
          "base_uri": "https://localhost:8080/",
          "height": 34
        },
        "outputId": "633fa21b-870f-4ec1-9998-f386b7e83831"
      },
      "cell_type": "code",
      "source": [
        "print(range(1,len(headers)))"
      ],
      "execution_count": 46,
      "outputs": [
        {
          "output_type": "stream",
          "text": [
            "range(1, 17)\n"
          ],
          "name": "stdout"
        }
      ]
    },
    {
      "metadata": {
        "id": "VLLhUb07m0Ms",
        "colab_type": "code",
        "colab": {
          "base_uri": "https://localhost:8080/",
          "height": 289
        },
        "outputId": "f433ad09-efce-4ec7-aadf-ba070be675bb"
      },
      "cell_type": "code",
      "source": [
        "vot_tests ={}\n",
        "for i in range(1,len(headers)):\n",
        "  vot_tests[headers[i]] = stats.ttest_ind(df_dem[headers[i]], df_rep[headers[i]])\n",
        "\n",
        "for vote in vot_tests.keys():\n",
        "  print (vote, vot_tests[vote])  \n",
        "  \n",
        "  "
      ],
      "execution_count": 55,
      "outputs": [
        {
          "output_type": "stream",
          "text": [
            "handicapped-infants Ttest_indResult(statistic=9.22317772154614, pvalue=1.2761169357253626e-18)\n",
            "water-project-cost-sharing Ttest_indResult(statistic=-0.08764559884421878, pvalue=0.9301988772663682)\n",
            "adoption-of-the-budget-resolution Ttest_indResult(statistic=22.821693043884803, pvalue=2.872115314395808e-76)\n",
            "physician-fee-freeze Ttest_indResult(statistic=-46.10191006844654, pvalue=3.967141133302638e-169)\n",
            "el-salvador-aid Ttest_indResult(statistic=-20.895617123040896, pvalue=1.4659659186479053e-67)\n",
            "religious-groups-in-schools Ttest_indResult(statistic=-9.815876256106362, pvalue=1.142999405504256e-20)\n",
            "anti-satellite-test-ban Ttest_indResult(statistic=12.448556296273836, pvalue=1.2736295885307941e-30)\n",
            "aid-to-nicaraguan-contras Ttest_indResult(statistic=17.791848422270405, pvalue=1.4948014750035628e-53)\n",
            "mx-missile Ttest_indResult(statistic=16.326540222505365, pvalue=4.863267267891218e-47)\n",
            "immigration Ttest_indResult(statistic=-1.7350166356866614, pvalue=0.08344939720307315)\n",
            "synfuels-corporation-cutback Ttest_indResult(statistic=8.20071170109401, pvalue=2.7434037173701792e-15)\n",
            "education-spending Ttest_indResult(statistic=-19.74462398332553, pvalue=2.3836284905384893e-62)\n",
            "superfund-right-to-sue Ttest_indResult(statistic=-13.333129686427394, pvalue=3.2048001788796387e-34)\n",
            "crime Ttest_indResult(statistic=-16.09453857734642, pvalue=5.09559045451787e-46)\n",
            "duty-free-exports Ttest_indResult(statistic=12.624782838804377, pvalue=2.492767114523553e-31)\n",
            "export-administration-act-south-africa Ttest_indResult(statistic=4.6756205760407, pvalue=3.9212926039422195e-06)\n"
          ],
          "name": "stdout"
        }
      ]
    },
    {
      "metadata": {
        "id": "wa8xzkUbkNR5",
        "colab_type": "code",
        "colab": {
          "base_uri": "https://localhost:8080/",
          "height": 401
        },
        "outputId": "be50f061-5257-49df-85a9-9067bfbac2ee"
      },
      "cell_type": "code",
      "source": [
        "pd.merge(mean_dem, mean_rep)"
      ],
      "execution_count": 61,
      "outputs": [
        {
          "output_type": "error",
          "ename": "ValueError",
          "evalue": "ignored",
          "traceback": [
            "\u001b[0;31m---------------------------------------------------------------------------\u001b[0m",
            "\u001b[0;31mValueError\u001b[0m                                Traceback (most recent call last)",
            "\u001b[0;32m<ipython-input-61-6b5553ba0cae>\u001b[0m in \u001b[0;36m<module>\u001b[0;34m()\u001b[0m\n\u001b[0;32m----> 1\u001b[0;31m \u001b[0mpd\u001b[0m\u001b[0;34m.\u001b[0m\u001b[0mmerge\u001b[0m\u001b[0;34m(\u001b[0m\u001b[0mmean_dem\u001b[0m\u001b[0;34m,\u001b[0m \u001b[0mmean_rep\u001b[0m\u001b[0;34m)\u001b[0m\u001b[0;34m\u001b[0m\u001b[0;34m\u001b[0m\u001b[0m\n\u001b[0m",
            "\u001b[0;32m/usr/local/lib/python3.6/dist-packages/pandas/core/reshape/merge.py\u001b[0m in \u001b[0;36mmerge\u001b[0;34m(left, right, how, on, left_on, right_on, left_index, right_index, sort, suffixes, copy, indicator, validate)\u001b[0m\n\u001b[1;32m     55\u001b[0m                          \u001b[0mright_index\u001b[0m\u001b[0;34m=\u001b[0m\u001b[0mright_index\u001b[0m\u001b[0;34m,\u001b[0m \u001b[0msort\u001b[0m\u001b[0;34m=\u001b[0m\u001b[0msort\u001b[0m\u001b[0;34m,\u001b[0m \u001b[0msuffixes\u001b[0m\u001b[0;34m=\u001b[0m\u001b[0msuffixes\u001b[0m\u001b[0;34m,\u001b[0m\u001b[0;34m\u001b[0m\u001b[0;34m\u001b[0m\u001b[0m\n\u001b[1;32m     56\u001b[0m                          \u001b[0mcopy\u001b[0m\u001b[0;34m=\u001b[0m\u001b[0mcopy\u001b[0m\u001b[0;34m,\u001b[0m \u001b[0mindicator\u001b[0m\u001b[0;34m=\u001b[0m\u001b[0mindicator\u001b[0m\u001b[0;34m,\u001b[0m\u001b[0;34m\u001b[0m\u001b[0;34m\u001b[0m\u001b[0m\n\u001b[0;32m---> 57\u001b[0;31m                          validate=validate)\n\u001b[0m\u001b[1;32m     58\u001b[0m     \u001b[0;32mreturn\u001b[0m \u001b[0mop\u001b[0m\u001b[0;34m.\u001b[0m\u001b[0mget_result\u001b[0m\u001b[0;34m(\u001b[0m\u001b[0;34m)\u001b[0m\u001b[0;34m\u001b[0m\u001b[0;34m\u001b[0m\u001b[0m\n\u001b[1;32m     59\u001b[0m \u001b[0;34m\u001b[0m\u001b[0m\n",
            "\u001b[0;32m/usr/local/lib/python3.6/dist-packages/pandas/core/reshape/merge.py\u001b[0m in \u001b[0;36m__init__\u001b[0;34m(self, left, right, how, on, left_on, right_on, axis, left_index, right_index, sort, suffixes, copy, indicator, validate)\u001b[0m\n\u001b[1;32m    536\u001b[0m         \u001b[0;32mif\u001b[0m \u001b[0;32mnot\u001b[0m \u001b[0misinstance\u001b[0m\u001b[0;34m(\u001b[0m\u001b[0mleft\u001b[0m\u001b[0;34m,\u001b[0m \u001b[0mDataFrame\u001b[0m\u001b[0;34m)\u001b[0m\u001b[0;34m:\u001b[0m\u001b[0;34m\u001b[0m\u001b[0;34m\u001b[0m\u001b[0m\n\u001b[1;32m    537\u001b[0m             raise ValueError('can not merge DataFrame with instance of '\n\u001b[0;32m--> 538\u001b[0;31m                              'type {left}'.format(left=type(left)))\n\u001b[0m\u001b[1;32m    539\u001b[0m         \u001b[0;32mif\u001b[0m \u001b[0;32mnot\u001b[0m \u001b[0misinstance\u001b[0m\u001b[0;34m(\u001b[0m\u001b[0mright\u001b[0m\u001b[0;34m,\u001b[0m \u001b[0mDataFrame\u001b[0m\u001b[0;34m)\u001b[0m\u001b[0;34m:\u001b[0m\u001b[0;34m\u001b[0m\u001b[0;34m\u001b[0m\u001b[0m\n\u001b[1;32m    540\u001b[0m             raise ValueError('can not merge DataFrame with instance of '\n",
            "\u001b[0;31mValueError\u001b[0m: can not merge DataFrame with instance of type <class 'pandas.core.series.Series'>"
          ]
        }
      ]
    },
    {
      "metadata": {
        "id": "HHScrx9-u3Wc",
        "colab_type": "code",
        "colab": {}
      },
      "cell_type": "code",
      "source": [
        ""
      ],
      "execution_count": 0,
      "outputs": []
    }
  ]
}