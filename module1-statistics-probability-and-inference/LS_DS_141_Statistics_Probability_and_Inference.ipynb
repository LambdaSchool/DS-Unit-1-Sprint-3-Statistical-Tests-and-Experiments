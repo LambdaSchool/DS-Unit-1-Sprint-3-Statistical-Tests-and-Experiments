{
  "nbformat": 4,
  "nbformat_minor": 0,
  "metadata": {
    "colab": {
      "name": "LS_DS_141_Statistics_Probability_and_Inference.ipynb",
      "version": "0.3.2",
      "provenance": []
    },
    "kernelspec": {
      "name": "python3",
      "display_name": "Python 3"
    }
  },
  "cells": [
    {
      "metadata": {
        "id": "eJGtmni-DezY",
        "colab_type": "text"
      },
      "cell_type": "markdown",
      "source": [
        "# Lambda School Data Science Module 141\n",
        "## Statistics, Probability, and Inference"
      ]
    },
    {
      "metadata": {
        "id": "FMhDKOFND0qY",
        "colab_type": "text"
      },
      "cell_type": "markdown",
      "source": [
        "## Prepare - examine what's available in SciPy\n",
        "\n",
        "As we delve into statistics, we'll be using more libraries - in particular the [stats package from SciPy](https://docs.scipy.org/doc/scipy/reference/tutorial/stats.html)."
      ]
    },
    {
      "metadata": {
        "id": "fQ9rkLJmEbsk",
        "colab_type": "code",
        "outputId": "4d0bd6a1-2a71-41ee-e052-b57cdaedd804",
        "colab": {
          "base_uri": "https://localhost:8080/",
          "height": 4526
        }
      },
      "cell_type": "code",
      "source": [
        "from scipy import stats\n",
        "dir(stats)"
      ],
      "execution_count": 1,
      "outputs": [
        {
          "output_type": "execute_result",
          "data": {
            "text/plain": [
              "['__all__',\n",
              " '__builtins__',\n",
              " '__cached__',\n",
              " '__doc__',\n",
              " '__file__',\n",
              " '__loader__',\n",
              " '__name__',\n",
              " '__package__',\n",
              " '__path__',\n",
              " '__spec__',\n",
              " '_binned_statistic',\n",
              " '_constants',\n",
              " '_continuous_distns',\n",
              " '_discrete_distns',\n",
              " '_distn_infrastructure',\n",
              " '_distr_params',\n",
              " '_multivariate',\n",
              " '_stats',\n",
              " '_stats_mstats_common',\n",
              " '_tukeylambda_stats',\n",
              " 'absolute_import',\n",
              " 'alpha',\n",
              " 'anderson',\n",
              " 'anderson_ksamp',\n",
              " 'anglit',\n",
              " 'ansari',\n",
              " 'arcsine',\n",
              " 'argus',\n",
              " 'bartlett',\n",
              " 'bayes_mvs',\n",
              " 'bernoulli',\n",
              " 'beta',\n",
              " 'betaprime',\n",
              " 'binned_statistic',\n",
              " 'binned_statistic_2d',\n",
              " 'binned_statistic_dd',\n",
              " 'binom',\n",
              " 'binom_test',\n",
              " 'boltzmann',\n",
              " 'boxcox',\n",
              " 'boxcox_llf',\n",
              " 'boxcox_normmax',\n",
              " 'boxcox_normplot',\n",
              " 'bradford',\n",
              " 'burr',\n",
              " 'burr12',\n",
              " 'cauchy',\n",
              " 'chi',\n",
              " 'chi2',\n",
              " 'chi2_contingency',\n",
              " 'chisquare',\n",
              " 'circmean',\n",
              " 'circstd',\n",
              " 'circvar',\n",
              " 'combine_pvalues',\n",
              " 'contingency',\n",
              " 'cosine',\n",
              " 'crystalball',\n",
              " 'cumfreq',\n",
              " 'describe',\n",
              " 'dgamma',\n",
              " 'dirichlet',\n",
              " 'distributions',\n",
              " 'division',\n",
              " 'dlaplace',\n",
              " 'dweibull',\n",
              " 'energy_distance',\n",
              " 'entropy',\n",
              " 'erlang',\n",
              " 'expon',\n",
              " 'exponnorm',\n",
              " 'exponpow',\n",
              " 'exponweib',\n",
              " 'f',\n",
              " 'f_oneway',\n",
              " 'fatiguelife',\n",
              " 'find_repeats',\n",
              " 'fisher_exact',\n",
              " 'fisk',\n",
              " 'fligner',\n",
              " 'foldcauchy',\n",
              " 'foldnorm',\n",
              " 'frechet_l',\n",
              " 'frechet_r',\n",
              " 'friedmanchisquare',\n",
              " 'gamma',\n",
              " 'gausshyper',\n",
              " 'gaussian_kde',\n",
              " 'genexpon',\n",
              " 'genextreme',\n",
              " 'gengamma',\n",
              " 'genhalflogistic',\n",
              " 'genlogistic',\n",
              " 'gennorm',\n",
              " 'genpareto',\n",
              " 'geom',\n",
              " 'gilbrat',\n",
              " 'gmean',\n",
              " 'gompertz',\n",
              " 'gumbel_l',\n",
              " 'gumbel_r',\n",
              " 'halfcauchy',\n",
              " 'halfgennorm',\n",
              " 'halflogistic',\n",
              " 'halfnorm',\n",
              " 'hmean',\n",
              " 'hypergeom',\n",
              " 'hypsecant',\n",
              " 'invgamma',\n",
              " 'invgauss',\n",
              " 'invweibull',\n",
              " 'invwishart',\n",
              " 'iqr',\n",
              " 'itemfreq',\n",
              " 'jarque_bera',\n",
              " 'johnsonsb',\n",
              " 'johnsonsu',\n",
              " 'kappa3',\n",
              " 'kappa4',\n",
              " 'kde',\n",
              " 'kendalltau',\n",
              " 'kruskal',\n",
              " 'ks_2samp',\n",
              " 'ksone',\n",
              " 'kstat',\n",
              " 'kstatvar',\n",
              " 'kstest',\n",
              " 'kstwobign',\n",
              " 'kurtosis',\n",
              " 'kurtosistest',\n",
              " 'laplace',\n",
              " 'levene',\n",
              " 'levy',\n",
              " 'levy_l',\n",
              " 'levy_stable',\n",
              " 'linregress',\n",
              " 'loggamma',\n",
              " 'logistic',\n",
              " 'loglaplace',\n",
              " 'lognorm',\n",
              " 'logser',\n",
              " 'lomax',\n",
              " 'mannwhitneyu',\n",
              " 'matrix_normal',\n",
              " 'maxwell',\n",
              " 'median_test',\n",
              " 'mielke',\n",
              " 'mode',\n",
              " 'moment',\n",
              " 'mood',\n",
              " 'morestats',\n",
              " 'moyal',\n",
              " 'mstats',\n",
              " 'mstats_basic',\n",
              " 'mstats_extras',\n",
              " 'multinomial',\n",
              " 'multivariate_normal',\n",
              " 'mvn',\n",
              " 'mvsdist',\n",
              " 'nakagami',\n",
              " 'nbinom',\n",
              " 'ncf',\n",
              " 'nct',\n",
              " 'ncx2',\n",
              " 'norm',\n",
              " 'normaltest',\n",
              " 'norminvgauss',\n",
              " 'obrientransform',\n",
              " 'ortho_group',\n",
              " 'pareto',\n",
              " 'pearson3',\n",
              " 'pearsonr',\n",
              " 'percentileofscore',\n",
              " 'planck',\n",
              " 'pointbiserialr',\n",
              " 'poisson',\n",
              " 'power_divergence',\n",
              " 'powerlaw',\n",
              " 'powerlognorm',\n",
              " 'powernorm',\n",
              " 'ppcc_max',\n",
              " 'ppcc_plot',\n",
              " 'print_function',\n",
              " 'probplot',\n",
              " 'randint',\n",
              " 'random_correlation',\n",
              " 'rankdata',\n",
              " 'ranksums',\n",
              " 'rayleigh',\n",
              " 'rdist',\n",
              " 'recipinvgauss',\n",
              " 'reciprocal',\n",
              " 'relfreq',\n",
              " 'rice',\n",
              " 'rv_continuous',\n",
              " 'rv_discrete',\n",
              " 'rv_histogram',\n",
              " 'scoreatpercentile',\n",
              " 'sem',\n",
              " 'semicircular',\n",
              " 'shapiro',\n",
              " 'sigmaclip',\n",
              " 'skellam',\n",
              " 'skew',\n",
              " 'skewnorm',\n",
              " 'skewtest',\n",
              " 'spearmanr',\n",
              " 'special_ortho_group',\n",
              " 'statlib',\n",
              " 'stats',\n",
              " 't',\n",
              " 'test',\n",
              " 'theilslopes',\n",
              " 'tiecorrect',\n",
              " 'tmax',\n",
              " 'tmean',\n",
              " 'tmin',\n",
              " 'trapz',\n",
              " 'triang',\n",
              " 'trim1',\n",
              " 'trim_mean',\n",
              " 'trimboth',\n",
              " 'truncexpon',\n",
              " 'truncnorm',\n",
              " 'tsem',\n",
              " 'tstd',\n",
              " 'ttest_1samp',\n",
              " 'ttest_ind',\n",
              " 'ttest_ind_from_stats',\n",
              " 'ttest_rel',\n",
              " 'tukeylambda',\n",
              " 'tvar',\n",
              " 'uniform',\n",
              " 'unitary_group',\n",
              " 'variation',\n",
              " 'vonmises',\n",
              " 'vonmises_line',\n",
              " 'wald',\n",
              " 'wasserstein_distance',\n",
              " 'weibull_max',\n",
              " 'weibull_min',\n",
              " 'weightedtau',\n",
              " 'wilcoxon',\n",
              " 'wishart',\n",
              " 'wrapcauchy',\n",
              " 'zipf',\n",
              " 'zmap',\n",
              " 'zscore']"
            ]
          },
          "metadata": {
            "tags": []
          },
          "execution_count": 1
        }
      ]
    },
    {
      "metadata": {
        "id": "bxW4SG_gJGlZ",
        "colab_type": "code",
        "outputId": "7f98b50b-803a-448d-bdd3-9aace5046079",
        "colab": {
          "base_uri": "https://localhost:8080/",
          "height": 72
        }
      },
      "cell_type": "code",
      "source": [
        "# As usual, lots of stuff here! There's our friend, the normal distribution\n",
        "norm = stats.norm()\n",
        "print(norm.mean())\n",
        "print(norm.std())\n",
        "print(norm.var())"
      ],
      "execution_count": 2,
      "outputs": [
        {
          "output_type": "stream",
          "text": [
            "0.0\n",
            "1.0\n",
            "1.0\n"
          ],
          "name": "stdout"
        }
      ]
    },
    {
      "metadata": {
        "id": "RyNKPt_tJk86",
        "colab_type": "code",
        "outputId": "162d52b8-9b97-4837-a3db-93218248a3b7",
        "colab": {
          "base_uri": "https://localhost:8080/",
          "height": 72
        }
      },
      "cell_type": "code",
      "source": [
        "# And a new friend - t\n",
        "t1 = stats.t(5)  # 5 is df \"shape\" parameter\n",
        "print(t1.mean())\n",
        "print(t1.std())\n",
        "print(t1.var())"
      ],
      "execution_count": 3,
      "outputs": [
        {
          "output_type": "stream",
          "text": [
            "0.0\n",
            "1.2909944487358056\n",
            "1.6666666666666667\n"
          ],
          "name": "stdout"
        }
      ]
    },
    {
      "metadata": {
        "id": "SRn1zMuaKgxX",
        "colab_type": "text"
      },
      "cell_type": "markdown",
      "source": [
        "![T distribution PDF with different shape parameters](https://upload.wikimedia.org/wikipedia/commons/4/41/Student_t_pdf.svg)\n",
        "\n",
        "*(Picture from [Wikipedia](https://en.wikipedia.org/wiki/Student's_t-distribution#/media/File:Student_t_pdf.svg))*\n",
        "\n",
        "The t-distribution is \"normal-ish\" - the larger the parameter (which reflects its degrees of freedom - more input data/features will increase it), the closer to true normal."
      ]
    },
    {
      "metadata": {
        "id": "seQv5unnJvpM",
        "colab_type": "code",
        "outputId": "1f1047d7-f535-4e48-b9ec-82d995184f9f",
        "colab": {
          "base_uri": "https://localhost:8080/",
          "height": 72
        }
      },
      "cell_type": "code",
      "source": [
        "t2 = stats.t(30)  # Will be closer to normal\n",
        "print(t2.mean())\n",
        "print(t2.std())\n",
        "print(t2.var())"
      ],
      "execution_count": 4,
      "outputs": [
        {
          "output_type": "stream",
          "text": [
            "0.0\n",
            "1.0350983390135313\n",
            "1.0714285714285714\n"
          ],
          "name": "stdout"
        }
      ]
    },
    {
      "metadata": {
        "id": "FOvEGMysLaE2",
        "colab_type": "text"
      },
      "cell_type": "markdown",
      "source": [
        "Why is it different from normal? To better reflect the tendencies of small data and situations with unknown population standard deviation. In other words, the normal distribution is still the nice pure ideal in the limit (thanks to the central limit theorem), but the t-distribution is much more useful in many real-world situations.\n",
        "\n",
        "History sidenote - this is \"Student\":\n",
        "\n",
        "![William Sealy Gosset](https://upload.wikimedia.org/wikipedia/commons/4/42/William_Sealy_Gosset.jpg)\n",
        "\n",
        "*(Picture from [Wikipedia](https://en.wikipedia.org/wiki/File:William_Sealy_Gosset.jpg))*\n",
        "\n",
        "His real name is William Sealy Gosset, and he published under the pen name \"Student\" because he was not an academic. He was a brewer, working at Guinness and using trial and error to determine the best ways to yield barley. He's also proof that, even 100 years ago, you don't need official credentials to do real data science!"
      ]
    },
    {
      "metadata": {
        "id": "1yx_QilAEC6o",
        "colab_type": "text"
      },
      "cell_type": "markdown",
      "source": [
        "## Live Lecture - let's perform and interpret a t-test\n",
        "\n",
        "We'll generate our own data, so we can know and alter the \"ground truth\" that the t-test should find. We will learn about p-values and how to interpret \"statistical significance\" based on the output of a hypothesis test. We will also dig a bit deeper into how the test statistic is calculated based on the sample error, and visually what it looks like to have 1 or 2 \"tailed\" t-tests."
      ]
    },
    {
      "metadata": {
        "id": "BuysRPs-Ed0v",
        "colab_type": "code",
        "colab": {}
      },
      "cell_type": "code",
      "source": [
        "import random\n",
        "random.seed(10)\n",
        "import scipy\n",
        "import numpy as np\n",
        "import pandas as pd"
      ],
      "execution_count": 0,
      "outputs": []
    },
    {
      "metadata": {
        "id": "AevZt8yC6t9h",
        "colab_type": "code",
        "colab": {}
      },
      "cell_type": "code",
      "source": [
        "def variance(nums):\n",
        "  n = len(nums)\n",
        "  return np.sum((nums - scipy.mean(nums))**2)/(n - 1)\n",
        "  \n",
        "def stdev(nums):\n",
        "  return variance(nums)**(1/2)\n",
        "\n",
        "  "
      ],
      "execution_count": 0,
      "outputs": []
    },
    {
      "metadata": {
        "id": "i8Dm1rBr-dWh",
        "colab_type": "code",
        "colab": {}
      },
      "cell_type": "code",
      "source": [
        "population = []\n",
        "\n",
        "for _ in range(1000):\n",
        "  population.append(random.randint(0,1))\n",
        "  \n",
        "sample = random.sample(population, 100)"
      ],
      "execution_count": 0,
      "outputs": []
    },
    {
      "metadata": {
        "id": "aDaiikGn1hK5",
        "colab_type": "code",
        "colab": {
          "base_uri": "https://localhost:8080/",
          "height": 35
        },
        "outputId": "1a1ef30b-0ad3-4233-9fb9-472d3602ab45"
      },
      "cell_type": "code",
      "source": [
        "df = pd.DataFrame({'likes_coke': sample})\n",
        "df.head()\n",
        "\n",
        "df.likes_coke.mean()"
      ],
      "execution_count": 8,
      "outputs": [
        {
          "output_type": "execute_result",
          "data": {
            "text/plain": [
              "0.46"
            ]
          },
          "metadata": {
            "tags": []
          },
          "execution_count": 8
        }
      ]
    },
    {
      "metadata": {
        "id": "4it0wikE-4Ep",
        "colab_type": "code",
        "colab": {
          "base_uri": "https://localhost:8080/",
          "height": 35
        },
        "outputId": "21d5a697-3bac-411e-8dc0-1c1b44655136"
      },
      "cell_type": "code",
      "source": [
        "#t = variance between groups / variance within groups\n",
        "\n",
        "n = len(df.likes_coke)\n",
        "t_stat = (scipy.mean(df.likes_coke) - scipy.mean(population))/(stdev(df.likes_coke)/n**(1/2))\n",
        "t_stat"
      ],
      "execution_count": 9,
      "outputs": [
        {
          "output_type": "execute_result",
          "data": {
            "text/plain": [
              "-0.9382955561680112"
            ]
          },
          "metadata": {
            "tags": []
          },
          "execution_count": 9
        }
      ]
    },
    {
      "metadata": {
        "id": "A2CtUmMa2kqk",
        "colab_type": "code",
        "colab": {
          "base_uri": "https://localhost:8080/",
          "height": 35
        },
        "outputId": "8ee305e2-5005-49a2-c3cd-6d4e70d8cacc"
      },
      "cell_type": "code",
      "source": [
        "scipy.stats.ttest_1samp(df['likes_coke'], scipy.mean(population))"
      ],
      "execution_count": 10,
      "outputs": [
        {
          "output_type": "execute_result",
          "data": {
            "text/plain": [
              "Ttest_1sampResult(statistic=-0.9382955561680112, pvalue=0.3503760732929039)"
            ]
          },
          "metadata": {
            "tags": []
          },
          "execution_count": 10
        }
      ]
    },
    {
      "metadata": {
        "id": "nGxazQ-L3dPO",
        "colab_type": "code",
        "colab": {
          "base_uri": "https://localhost:8080/",
          "height": 35
        },
        "outputId": "bf61e8a5-5f04-4027-e27f-2042466737cb"
      },
      "cell_type": "code",
      "source": [
        "samp2 = random.sample(population, 3)\n",
        "samp2"
      ],
      "execution_count": 11,
      "outputs": [
        {
          "output_type": "execute_result",
          "data": {
            "text/plain": [
              "[1, 0, 0]"
            ]
          },
          "metadata": {
            "tags": []
          },
          "execution_count": 11
        }
      ]
    },
    {
      "metadata": {
        "id": "QupQbRUu3zq4",
        "colab_type": "code",
        "colab": {
          "base_uri": "https://localhost:8080/",
          "height": 35
        },
        "outputId": "eec3f933-81d2-4d18-83ef-45be056e5793"
      },
      "cell_type": "code",
      "source": [
        "scipy.stats.ttest_1samp(samp2, scipy.mean(population))"
      ],
      "execution_count": 12,
      "outputs": [
        {
          "output_type": "execute_result",
          "data": {
            "text/plain": [
              "Ttest_1sampResult(statistic=-0.521, pvalue=0.6543098596040877)"
            ]
          },
          "metadata": {
            "tags": []
          },
          "execution_count": 12
        }
      ]
    },
    {
      "metadata": {
        "id": "egXb7YpqEcZF",
        "colab_type": "text"
      },
      "cell_type": "markdown",
      "source": [
        "## Assignment - apply the t-test to real data\n",
        "\n",
        "Your assignment is to determine which issues have \"statistically significant\" differences between political parties in this [1980s congressional voting data](https://archive.ics.uci.edu/ml/datasets/Congressional+Voting+Records). The data consists of 435 instances (one for each congressperson), a class (democrat or republican), and 16 binary attributes (yes or no for voting for or against certain issues). Be aware - there are missing values!\n",
        "\n",
        "Your goals:\n",
        "\n",
        "1. Load and clean the data (or determine the best method to drop observations when running tests)\n",
        "2. Using hypothesis testing, find an issue that democrats support more than republicans with p < 0.01\n",
        "3. Using hypothesis testing, find an issue that republicans support more than democrats with p < 0.01\n",
        "4. Using hypothesis testing, find an issue where the difference between republicans and democrats has p > 0.1 (i.e. there may not be much of a difference)\n",
        "\n",
        "Note that this data will involve *2 sample* t-tests, because you're comparing averages across two groups (republicans and democrats) rather than a single group against a null hypothesis.\n",
        "\n",
        "Stretch goals:\n",
        "\n",
        "1. Refactor your code into functions so it's easy to rerun with arbitrary variables\n",
        "2. Apply hypothesis testing to your personal project data (for the purposes of this notebook you can type a summary of the hypothesis you formed and tested)"
      ]
    },
    {
      "metadata": {
        "id": "tWTQPrvQ1fuC",
        "colab_type": "code",
        "colab": {}
      },
      "cell_type": "code",
      "source": [
        "#1) Load and clean the data:\n",
        "\n",
        "\n",
        "url = 'https://archive.ics.uci.edu/ml/machine-learning-databases/voting-records/house-votes-84.data'\n",
        "\n",
        "cols = ['party', 'Handicapped Infants', 'Water Project Cost Sharing', 'Budget Resolution', \n",
        "        'Physician Fee Freeze', 'El Salvador Aid', 'Religious Groups in Schools', \n",
        "        'Anti satelite Test Ban', 'Aid to Nicaraguan Contras', 'Mx-Missile', 'Immigration', \n",
        "        'Synfuels Corporation Cutback', 'Education Spending', 'Superfund Right to Sue',\n",
        "        'Crime', 'Duty-Free Exports', 'Export Administration Act S Africa']\n",
        "\n",
        "data = pd.read_csv(url, header=None, names=cols, na_values='?')\n",
        "data = data.replace({'y':1,'n':0})"
      ],
      "execution_count": 0,
      "outputs": []
    },
    {
      "metadata": {
        "id": "nstrmCG-Ecyk",
        "colab_type": "code",
        "colab": {}
      },
      "cell_type": "code",
      "source": [
        "#split into 2 dataframes by party affiliation:\n",
        "\n",
        "rep = data[data['party'] == 'republican']\n",
        "\n",
        "dem = data[data['party'] == 'democrat']"
      ],
      "execution_count": 0,
      "outputs": []
    },
    {
      "metadata": {
        "id": "EPxCWGduoFls",
        "colab_type": "code",
        "colab": {
          "base_uri": "https://localhost:8080/",
          "height": 308
        },
        "outputId": "a4c4aee0-a89c-4e26-a819-c37112eb02ee"
      },
      "cell_type": "code",
      "source": [
        "'''Perform ttest_ind calculations for each issue by looping thru the columns and\n",
        "recording the tstat, the p value, and then a boolean whether the pvalue is less \n",
        "than 0.01 and also whether it is greater than 0.1.'''\n",
        "\n",
        "ttest_results = []\n",
        "\n",
        "for col in cols[1:]:\n",
        "  t, p = stats.ttest_ind(dem[col].dropna(), rep[col].dropna())\n",
        "  ttest_results.append([col, round(t, 3), p < 0.01, p > 0.1])\n",
        "\n",
        "ttest_results"
      ],
      "execution_count": 15,
      "outputs": [
        {
          "output_type": "execute_result",
          "data": {
            "text/plain": [
              "[['Handicapped Infants', 9.205, True, False],\n",
              " ['Water Project Cost Sharing', -0.089, False, True],\n",
              " ['Budget Resolution', 23.213, True, False],\n",
              " ['Physician Fee Freeze', -49.367, True, False],\n",
              " ['El Salvador Aid', -21.137, True, False],\n",
              " ['Religious Groups in Schools', -9.738, True, False],\n",
              " ['Anti satelite Test Ban', 12.526, True, False],\n",
              " ['Aid to Nicaraguan Contras', 18.052, True, False],\n",
              " ['Mx-Missile', 16.438, True, False],\n",
              " ['Immigration', -1.736, False, False],\n",
              " ['Synfuels Corporation Cutback', 8.294, True, False],\n",
              " ['Education Spending', -20.501, True, False],\n",
              " ['Superfund Right to Sue', -13.511, True, False],\n",
              " ['Crime', -16.342, True, False],\n",
              " ['Duty-Free Exports', 12.853, True, False],\n",
              " ['Export Administration Act S Africa', 6.849, True, False]]"
            ]
          },
          "metadata": {
            "tags": []
          },
          "execution_count": 15
        }
      ]
    },
    {
      "metadata": {
        "id": "-qsXqwyeoyn9",
        "colab_type": "code",
        "colab": {}
      },
      "cell_type": "code",
      "source": [
        "#convert the results into a pandas dataframe and edit the column names\n",
        "\n",
        "results_df = pd.DataFrame(ttest_results)\n",
        "results_df = results_df.rename(columns = {0:'issue', 1:'t-stat', 2:'p < .01', 3:'p > 0.1'})"
      ],
      "execution_count": 0,
      "outputs": []
    },
    {
      "metadata": {
        "id": "yu_o47pep3em",
        "colab_type": "code",
        "colab": {
          "base_uri": "https://localhost:8080/",
          "height": 528
        },
        "outputId": "20e95878-2d44-4999-b4ff-075d69239e38"
      },
      "cell_type": "code",
      "source": [
        "#Add a column to demonstrate which party was more likely to vote Yes for a given issue:\n",
        "\n",
        "results_df['More Likely to Support'] = results_df['t-stat'] > 0\n",
        "\n",
        "results_df['More Likely to Support'] = results_df['More Likely to Support'].replace({True:'Democrats', False: 'Republicans'})\n",
        "\n",
        "results_df"
      ],
      "execution_count": 17,
      "outputs": [
        {
          "output_type": "execute_result",
          "data": {
            "text/html": [
              "<div>\n",
              "<style scoped>\n",
              "    .dataframe tbody tr th:only-of-type {\n",
              "        vertical-align: middle;\n",
              "    }\n",
              "\n",
              "    .dataframe tbody tr th {\n",
              "        vertical-align: top;\n",
              "    }\n",
              "\n",
              "    .dataframe thead th {\n",
              "        text-align: right;\n",
              "    }\n",
              "</style>\n",
              "<table border=\"1\" class=\"dataframe\">\n",
              "  <thead>\n",
              "    <tr style=\"text-align: right;\">\n",
              "      <th></th>\n",
              "      <th>issue</th>\n",
              "      <th>t-stat</th>\n",
              "      <th>p &lt; .01</th>\n",
              "      <th>p &gt; 0.1</th>\n",
              "      <th>More Likely to Support</th>\n",
              "    </tr>\n",
              "  </thead>\n",
              "  <tbody>\n",
              "    <tr>\n",
              "      <th>0</th>\n",
              "      <td>Handicapped Infants</td>\n",
              "      <td>9.205</td>\n",
              "      <td>True</td>\n",
              "      <td>False</td>\n",
              "      <td>Democrats</td>\n",
              "    </tr>\n",
              "    <tr>\n",
              "      <th>1</th>\n",
              "      <td>Water Project Cost Sharing</td>\n",
              "      <td>-0.089</td>\n",
              "      <td>False</td>\n",
              "      <td>True</td>\n",
              "      <td>Republicans</td>\n",
              "    </tr>\n",
              "    <tr>\n",
              "      <th>2</th>\n",
              "      <td>Budget Resolution</td>\n",
              "      <td>23.213</td>\n",
              "      <td>True</td>\n",
              "      <td>False</td>\n",
              "      <td>Democrats</td>\n",
              "    </tr>\n",
              "    <tr>\n",
              "      <th>3</th>\n",
              "      <td>Physician Fee Freeze</td>\n",
              "      <td>-49.367</td>\n",
              "      <td>True</td>\n",
              "      <td>False</td>\n",
              "      <td>Republicans</td>\n",
              "    </tr>\n",
              "    <tr>\n",
              "      <th>4</th>\n",
              "      <td>El Salvador Aid</td>\n",
              "      <td>-21.137</td>\n",
              "      <td>True</td>\n",
              "      <td>False</td>\n",
              "      <td>Republicans</td>\n",
              "    </tr>\n",
              "    <tr>\n",
              "      <th>5</th>\n",
              "      <td>Religious Groups in Schools</td>\n",
              "      <td>-9.738</td>\n",
              "      <td>True</td>\n",
              "      <td>False</td>\n",
              "      <td>Republicans</td>\n",
              "    </tr>\n",
              "    <tr>\n",
              "      <th>6</th>\n",
              "      <td>Anti satelite Test Ban</td>\n",
              "      <td>12.526</td>\n",
              "      <td>True</td>\n",
              "      <td>False</td>\n",
              "      <td>Democrats</td>\n",
              "    </tr>\n",
              "    <tr>\n",
              "      <th>7</th>\n",
              "      <td>Aid to Nicaraguan Contras</td>\n",
              "      <td>18.052</td>\n",
              "      <td>True</td>\n",
              "      <td>False</td>\n",
              "      <td>Democrats</td>\n",
              "    </tr>\n",
              "    <tr>\n",
              "      <th>8</th>\n",
              "      <td>Mx-Missile</td>\n",
              "      <td>16.438</td>\n",
              "      <td>True</td>\n",
              "      <td>False</td>\n",
              "      <td>Democrats</td>\n",
              "    </tr>\n",
              "    <tr>\n",
              "      <th>9</th>\n",
              "      <td>Immigration</td>\n",
              "      <td>-1.736</td>\n",
              "      <td>False</td>\n",
              "      <td>False</td>\n",
              "      <td>Republicans</td>\n",
              "    </tr>\n",
              "    <tr>\n",
              "      <th>10</th>\n",
              "      <td>Synfuels Corporation Cutback</td>\n",
              "      <td>8.294</td>\n",
              "      <td>True</td>\n",
              "      <td>False</td>\n",
              "      <td>Democrats</td>\n",
              "    </tr>\n",
              "    <tr>\n",
              "      <th>11</th>\n",
              "      <td>Education Spending</td>\n",
              "      <td>-20.501</td>\n",
              "      <td>True</td>\n",
              "      <td>False</td>\n",
              "      <td>Republicans</td>\n",
              "    </tr>\n",
              "    <tr>\n",
              "      <th>12</th>\n",
              "      <td>Superfund Right to Sue</td>\n",
              "      <td>-13.511</td>\n",
              "      <td>True</td>\n",
              "      <td>False</td>\n",
              "      <td>Republicans</td>\n",
              "    </tr>\n",
              "    <tr>\n",
              "      <th>13</th>\n",
              "      <td>Crime</td>\n",
              "      <td>-16.342</td>\n",
              "      <td>True</td>\n",
              "      <td>False</td>\n",
              "      <td>Republicans</td>\n",
              "    </tr>\n",
              "    <tr>\n",
              "      <th>14</th>\n",
              "      <td>Duty-Free Exports</td>\n",
              "      <td>12.853</td>\n",
              "      <td>True</td>\n",
              "      <td>False</td>\n",
              "      <td>Democrats</td>\n",
              "    </tr>\n",
              "    <tr>\n",
              "      <th>15</th>\n",
              "      <td>Export Administration Act S Africa</td>\n",
              "      <td>6.849</td>\n",
              "      <td>True</td>\n",
              "      <td>False</td>\n",
              "      <td>Democrats</td>\n",
              "    </tr>\n",
              "  </tbody>\n",
              "</table>\n",
              "</div>"
            ],
            "text/plain": [
              "                                 issue  t-stat  p < .01  p > 0.1  \\\n",
              "0                  Handicapped Infants   9.205     True    False   \n",
              "1           Water Project Cost Sharing  -0.089    False     True   \n",
              "2                    Budget Resolution  23.213     True    False   \n",
              "3                 Physician Fee Freeze -49.367     True    False   \n",
              "4                      El Salvador Aid -21.137     True    False   \n",
              "5          Religious Groups in Schools  -9.738     True    False   \n",
              "6               Anti satelite Test Ban  12.526     True    False   \n",
              "7            Aid to Nicaraguan Contras  18.052     True    False   \n",
              "8                           Mx-Missile  16.438     True    False   \n",
              "9                          Immigration  -1.736    False    False   \n",
              "10        Synfuels Corporation Cutback   8.294     True    False   \n",
              "11                  Education Spending -20.501     True    False   \n",
              "12              Superfund Right to Sue -13.511     True    False   \n",
              "13                               Crime -16.342     True    False   \n",
              "14                   Duty-Free Exports  12.853     True    False   \n",
              "15  Export Administration Act S Africa   6.849     True    False   \n",
              "\n",
              "   More Likely to Support  \n",
              "0               Democrats  \n",
              "1             Republicans  \n",
              "2               Democrats  \n",
              "3             Republicans  \n",
              "4             Republicans  \n",
              "5             Republicans  \n",
              "6               Democrats  \n",
              "7               Democrats  \n",
              "8               Democrats  \n",
              "9             Republicans  \n",
              "10              Democrats  \n",
              "11            Republicans  \n",
              "12            Republicans  \n",
              "13            Republicans  \n",
              "14              Democrats  \n",
              "15              Democrats  "
            ]
          },
          "metadata": {
            "tags": []
          },
          "execution_count": 17
        }
      ]
    },
    {
      "metadata": {
        "id": "blIsp2ihtjuV",
        "colab_type": "code",
        "colab": {
          "base_uri": "https://localhost:8080/",
          "height": 181
        },
        "outputId": "98d27f08-c01c-40b6-a854-abc8c7d5b2e0"
      },
      "cell_type": "code",
      "source": [
        "#2) Using hypothesis testing, find an issue that democrats support more than republicans with p < 0.01\n",
        "#statistically significant Democrat issues:\n",
        "\n",
        "condition = (results_df['t-stat'] > 0) & (results_df['p < .01'] == True)\n",
        "dem_issues = results_df[condition]['issue']\n",
        "\n",
        "dem_issues"
      ],
      "execution_count": 18,
      "outputs": [
        {
          "output_type": "execute_result",
          "data": {
            "text/plain": [
              "0                    Handicapped Infants\n",
              "2                      Budget Resolution\n",
              "6                 Anti satelite Test Ban\n",
              "7              Aid to Nicaraguan Contras\n",
              "8                             Mx-Missile\n",
              "10          Synfuels Corporation Cutback\n",
              "14                     Duty-Free Exports\n",
              "15    Export Administration Act S Africa\n",
              "Name: issue, dtype: object"
            ]
          },
          "metadata": {
            "tags": []
          },
          "execution_count": 18
        }
      ]
    },
    {
      "metadata": {
        "id": "vVEczZsirZsy",
        "colab_type": "code",
        "colab": {
          "base_uri": "https://localhost:8080/",
          "height": 145
        },
        "outputId": "87c59ed3-0b7a-411a-9dbe-a422ae5085f7"
      },
      "cell_type": "code",
      "source": [
        "#3) Using hypothesis testing, find an issue that republicans support more than democrats with p < 0.01\n",
        "#statistically significant Republican issues:\n",
        "\n",
        "condition = (results_df['t-stat'] < 0) & (results_df['p < .01'] == True)\n",
        "rep_issues = results_df[condition]['issue']\n",
        "\n",
        "rep_issues"
      ],
      "execution_count": 19,
      "outputs": [
        {
          "output_type": "execute_result",
          "data": {
            "text/plain": [
              "3            Physician Fee Freeze\n",
              "4                 El Salvador Aid\n",
              "5     Religious Groups in Schools\n",
              "11             Education Spending\n",
              "12         Superfund Right to Sue\n",
              "13                          Crime\n",
              "Name: issue, dtype: object"
            ]
          },
          "metadata": {
            "tags": []
          },
          "execution_count": 19
        }
      ]
    },
    {
      "metadata": {
        "id": "NXbbEbeSwMFn",
        "colab_type": "code",
        "colab": {
          "base_uri": "https://localhost:8080/",
          "height": 54
        },
        "outputId": "55bd6f34-ae13-4b07-c783-6013b8cd3b6d"
      },
      "cell_type": "code",
      "source": [
        "#4) Using hypothesis testing, find an issue where the difference between republicans \n",
        "#   and democrats has p > 0.1 (i.e. there may not be much of a difference)\n",
        "\n",
        "insignificant_issues = results_df[results_df['p > 0.1'] == True]['issue']\n",
        "insignificant_issues"
      ],
      "execution_count": 20,
      "outputs": [
        {
          "output_type": "execute_result",
          "data": {
            "text/plain": [
              "1    Water Project Cost Sharing\n",
              "Name: issue, dtype: object"
            ]
          },
          "metadata": {
            "tags": []
          },
          "execution_count": 20
        }
      ]
    },
    {
      "metadata": {
        "id": "wiq83guLcuAE",
        "colab_type": "text"
      },
      "cell_type": "markdown",
      "source": [
        "# Resources\n",
        "\n",
        "- https://homepage.divms.uiowa.edu/~mbognar/applets/t.html\n",
        "- https://rpsychologist.com/d3/tdist/\n",
        "- https://gallery.shinyapps.io/tdist/\n",
        "- https://en.wikipedia.org/wiki/Standard_deviation#Sample_standard_deviation_of_metabolic_rate_of_northern_fulmars"
      ]
    }
  ]
}