{
  "nbformat": 4,
  "nbformat_minor": 0,
  "metadata": {
    "colab": {
      "name": "LS_DS_141_Statistics_Probability_and_Inference.ipynb",
      "version": "0.3.2",
      "provenance": []
    },
    "kernelspec": {
      "name": "python3",
      "display_name": "Python 3"
    }
  },
  "cells": [
    {
      "metadata": {
        "id": "eJGtmni-DezY",
        "colab_type": "text"
      },
      "cell_type": "markdown",
      "source": [
        "# Lambda School Data Science Module 141\n",
        "## Statistics, Probability, and Inference"
      ]
    },
    {
      "metadata": {
        "id": "FMhDKOFND0qY",
        "colab_type": "text"
      },
      "cell_type": "markdown",
      "source": [
        "## Prepare - examine what's available in SciPy\n",
        "\n",
        "As we delve into statistics, we'll be using more libraries - in particular the [stats package from SciPy](https://docs.scipy.org/doc/scipy/reference/tutorial/stats.html)."
      ]
    },
    {
      "metadata": {
        "id": "07cFRE5tsGFk",
        "colab_type": "code",
        "colab": {}
      },
      "cell_type": "code",
      "source": [
        "# descriptive statistics \n",
        "# inferential statistics\n",
        "# Both of the above live in a branch of statistics called probability theory\n",
        "# Set theory"
      ],
      "execution_count": 0,
      "outputs": []
    },
    {
      "metadata": {
        "id": "fQ9rkLJmEbsk",
        "colab_type": "code",
        "colab": {}
      },
      "cell_type": "code",
      "source": [
        "# good resource to check out my options in the dir\n",
        "from scipy import stats\n",
        "dir(stats)"
      ],
      "execution_count": 0,
      "outputs": []
    },
    {
      "metadata": {
        "id": "bxW4SG_gJGlZ",
        "colab_type": "code",
        "outputId": "969ee0d4-53dc-43e1-98ee-58e7d4c57fc9",
        "colab": {
          "base_uri": "https://localhost:8080/",
          "height": 68
        }
      },
      "cell_type": "code",
      "source": [
        "# As usual, lots of stuff here! There's our friend, the normal distribution\n",
        "norm = stats.norm()\n",
        "print(norm.mean())\n",
        "print(norm.std())\n",
        "print(norm.var())"
      ],
      "execution_count": 2,
      "outputs": [
        {
          "output_type": "stream",
          "text": [
            "0.0\n",
            "1.0\n",
            "1.0\n"
          ],
          "name": "stdout"
        }
      ]
    },
    {
      "metadata": {
        "id": "RyNKPt_tJk86",
        "colab_type": "code",
        "outputId": "e8c9bc1f-0b62-49c9-a0e7-aeb0d94140d9",
        "colab": {
          "base_uri": "https://localhost:8080/",
          "height": 68
        }
      },
      "cell_type": "code",
      "source": [
        "# And a new friend - t\n",
        "# t-tests are how we describe the mean of different samples\n",
        "# General rule: have at least 30 observations\n",
        "t1 = stats.t(30)  # 5 is df \"shape\" parameter\n",
        "print(t1.mean())\n",
        "print(t1.std())\n",
        "print(t1.var())"
      ],
      "execution_count": 3,
      "outputs": [
        {
          "output_type": "stream",
          "text": [
            "0.0\n",
            "1.0350983390135313\n",
            "1.0714285714285714\n"
          ],
          "name": "stdout"
        }
      ]
    },
    {
      "metadata": {
        "id": "SRn1zMuaKgxX",
        "colab_type": "text"
      },
      "cell_type": "markdown",
      "source": [
        "![T distribution PDF with different shape parameters](https://upload.wikimedia.org/wikipedia/commons/4/41/Student_t_pdf.svg)\n",
        "\n",
        "*(Picture from [Wikipedia](https://en.wikipedia.org/wiki/Student's_t-distribution#/media/File:Student_t_pdf.svg))*\n",
        "\n",
        "The t-distribution is \"normal-ish\" - the larger the parameter (which reflects its degrees of freedom - more input data/features will increase it), the closer to true normal."
      ]
    },
    {
      "metadata": {
        "id": "seQv5unnJvpM",
        "colab_type": "code",
        "outputId": "a48d2593-5faa-45b1-b614-77506c8fbbc4",
        "colab": {
          "base_uri": "https://localhost:8080/",
          "height": 68
        }
      },
      "cell_type": "code",
      "source": [
        "t2 = stats.t(30)  # Will be closer to normal\n",
        "print(t2.mean())\n",
        "print(t2.std())\n",
        "print(t2.var())"
      ],
      "execution_count": 4,
      "outputs": [
        {
          "output_type": "stream",
          "text": [
            "0.0\n",
            "1.0350983390135313\n",
            "1.0714285714285714\n"
          ],
          "name": "stdout"
        }
      ]
    },
    {
      "metadata": {
        "id": "FOvEGMysLaE2",
        "colab_type": "text"
      },
      "cell_type": "markdown",
      "source": [
        "Why is it different from normal? To better reflect the tendencies of small data and situations with unknown population standard deviation. In other words, the normal distribution is still the nice pure ideal in the limit (thanks to the central limit theorem), but the t-distribution is much more useful in many real-world situations.\n",
        "\n",
        "History sidenote - this is \"Student\":\n",
        "\n",
        "![William Sealy Gosset](https://upload.wikimedia.org/wikipedia/commons/4/42/William_Sealy_Gosset.jpg)\n",
        "\n",
        "*(Picture from [Wikipedia](https://en.wikipedia.org/wiki/File:William_Sealy_Gosset.jpg))*\n",
        "\n",
        "His real name is William Sealy Gosset, and he published under the pen name \"Student\" because he was not an academic. He was a brewer, working at Guinness and using trial and error to determine the best ways to yield barley. He's also proof that, even 100 years ago, you don't need official credentials to do real data science!"
      ]
    },
    {
      "metadata": {
        "id": "1yx_QilAEC6o",
        "colab_type": "text"
      },
      "cell_type": "markdown",
      "source": [
        "## Live Lecture - let's perform and interpret a t-test\n",
        "\n",
        "We'll generate our own data, so we can know and alter the \"ground truth\" that the t-test should find. We will learn about p-values and how to interpret \"statistical significance\" based on the output of a hypothesis test. We will also dig a bit deeper into how the test statistic is calculated based on the sample error, and visually what it looks like to have 1 or 2 \"tailed\" t-tests."
      ]
    },
    {
      "metadata": {
        "id": "BuysRPs-Ed0v",
        "colab_type": "code",
        "colab": {
          "base_uri": "https://localhost:8080/",
          "height": 359
        },
        "outputId": "8047c22a-8229-461b-b6c7-e7ad0d88558f"
      },
      "cell_type": "code",
      "source": [
        "# lambda samples\n",
        "lambda_heights = [72, 72, 77, 72, 73, 67, 64, 58, 63, 78]\n",
        "\n",
        "import pandas as pd\n",
        "\n",
        "df = pd.DataFrame({'heights': lambda_heights})\n",
        "df.head(10)"
      ],
      "execution_count": 5,
      "outputs": [
        {
          "output_type": "execute_result",
          "data": {
            "text/html": [
              "<div>\n",
              "<style scoped>\n",
              "    .dataframe tbody tr th:only-of-type {\n",
              "        vertical-align: middle;\n",
              "    }\n",
              "\n",
              "    .dataframe tbody tr th {\n",
              "        vertical-align: top;\n",
              "    }\n",
              "\n",
              "    .dataframe thead th {\n",
              "        text-align: right;\n",
              "    }\n",
              "</style>\n",
              "<table border=\"1\" class=\"dataframe\">\n",
              "  <thead>\n",
              "    <tr style=\"text-align: right;\">\n",
              "      <th></th>\n",
              "      <th>heights</th>\n",
              "    </tr>\n",
              "  </thead>\n",
              "  <tbody>\n",
              "    <tr>\n",
              "      <th>0</th>\n",
              "      <td>72</td>\n",
              "    </tr>\n",
              "    <tr>\n",
              "      <th>1</th>\n",
              "      <td>72</td>\n",
              "    </tr>\n",
              "    <tr>\n",
              "      <th>2</th>\n",
              "      <td>77</td>\n",
              "    </tr>\n",
              "    <tr>\n",
              "      <th>3</th>\n",
              "      <td>72</td>\n",
              "    </tr>\n",
              "    <tr>\n",
              "      <th>4</th>\n",
              "      <td>73</td>\n",
              "    </tr>\n",
              "    <tr>\n",
              "      <th>5</th>\n",
              "      <td>67</td>\n",
              "    </tr>\n",
              "    <tr>\n",
              "      <th>6</th>\n",
              "      <td>64</td>\n",
              "    </tr>\n",
              "    <tr>\n",
              "      <th>7</th>\n",
              "      <td>58</td>\n",
              "    </tr>\n",
              "    <tr>\n",
              "      <th>8</th>\n",
              "      <td>63</td>\n",
              "    </tr>\n",
              "    <tr>\n",
              "      <th>9</th>\n",
              "      <td>78</td>\n",
              "    </tr>\n",
              "  </tbody>\n",
              "</table>\n",
              "</div>"
            ],
            "text/plain": [
              "   heights\n",
              "0       72\n",
              "1       72\n",
              "2       77\n",
              "3       72\n",
              "4       73\n",
              "5       67\n",
              "6       64\n",
              "7       58\n",
              "8       63\n",
              "9       78"
            ]
          },
          "metadata": {
            "tags": []
          },
          "execution_count": 5
        }
      ]
    },
    {
      "metadata": {
        "id": "sgv0ZxIGuf4R",
        "colab_type": "code",
        "colab": {
          "base_uri": "https://localhost:8080/",
          "height": 34
        },
        "outputId": "69f50be8-3806-4d9b-ce7c-1d6e588a6828"
      },
      "cell_type": "code",
      "source": [
        "df.heights.mean()"
      ],
      "execution_count": 6,
      "outputs": [
        {
          "output_type": "execute_result",
          "data": {
            "text/plain": [
              "69.6"
            ]
          },
          "metadata": {
            "tags": []
          },
          "execution_count": 6
        }
      ]
    },
    {
      "metadata": {
        "id": "ZyajrFNnxftc",
        "colab_type": "code",
        "colab": {
          "base_uri": "https://localhost:8080/",
          "height": 71
        },
        "outputId": "acc4b7e7-6d80-4382-d688-c20797b533c9"
      },
      "cell_type": "code",
      "source": [
        "import random \n",
        "random.seed(10)\n",
        "\n",
        "population = []\n",
        "\n",
        "for _ in range(1000):\n",
        "  population.append(random.randint(0,1))\n",
        "  \n",
        "print(population)\n",
        "print(len(population))"
      ],
      "execution_count": 7,
      "outputs": [
        {
          "output_type": "stream",
          "text": [
            "[0, 1, 1, 0, 0, 1, 1, 1, 0, 0, 1, 1, 0, 0, 1, 0, 1, 0, 1, 1, 1, 1, 1, 1, 0, 1, 1, 0, 1, 0, 1, 1, 0, 0, 0, 0, 0, 1, 1, 0, 1, 1, 1, 1, 0, 1, 0, 0, 1, 0, 0, 0, 1, 1, 0, 0, 0, 1, 1, 0, 0, 0, 1, 0, 0, 1, 1, 1, 1, 0, 1, 0, 0, 0, 1, 1, 1, 0, 0, 0, 1, 1, 1, 1, 0, 0, 0, 1, 1, 0, 0, 1, 1, 1, 0, 1, 1, 0, 1, 1, 1, 0, 0, 1, 1, 1, 0, 1, 1, 1, 1, 0, 1, 0, 1, 0, 0, 1, 0, 0, 1, 0, 0, 0, 1, 1, 0, 1, 1, 1, 1, 1, 1, 1, 1, 0, 0, 1, 0, 0, 1, 0, 0, 1, 1, 0, 1, 0, 0, 0, 1, 0, 1, 0, 1, 1, 0, 1, 0, 0, 0, 1, 0, 0, 1, 1, 1, 1, 0, 1, 1, 0, 0, 0, 1, 1, 1, 0, 0, 1, 0, 0, 1, 1, 1, 1, 1, 0, 1, 1, 1, 1, 1, 1, 1, 1, 1, 1, 1, 1, 1, 1, 0, 1, 1, 0, 1, 0, 1, 0, 1, 1, 0, 1, 1, 1, 0, 0, 0, 1, 0, 0, 0, 0, 1, 0, 1, 0, 1, 0, 1, 0, 1, 0, 0, 0, 1, 1, 1, 0, 0, 0, 1, 0, 0, 1, 0, 1, 1, 1, 0, 0, 1, 1, 1, 1, 0, 1, 1, 1, 1, 1, 0, 0, 1, 0, 0, 0, 0, 1, 1, 1, 0, 0, 0, 1, 0, 0, 0, 0, 1, 0, 1, 0, 1, 1, 0, 1, 0, 1, 0, 0, 1, 1, 1, 0, 0, 0, 1, 0, 1, 0, 1, 0, 0, 0, 1, 1, 1, 0, 1, 1, 0, 1, 0, 0, 1, 0, 0, 1, 0, 1, 0, 1, 1, 0, 0, 0, 0, 1, 0, 0, 1, 1, 0, 0, 1, 1, 1, 0, 0, 0, 0, 1, 0, 0, 0, 1, 1, 0, 0, 0, 0, 0, 0, 0, 0, 1, 0, 0, 1, 0, 1, 0, 0, 0, 1, 1, 1, 1, 0, 0, 1, 1, 1, 1, 0, 0, 1, 1, 0, 0, 1, 0, 0, 1, 0, 1, 0, 0, 0, 1, 1, 0, 1, 1, 0, 0, 0, 0, 0, 0, 0, 0, 1, 1, 0, 0, 1, 0, 1, 1, 1, 1, 0, 0, 0, 1, 0, 1, 0, 1, 1, 0, 0, 1, 1, 0, 1, 1, 0, 1, 1, 1, 0, 1, 1, 0, 0, 1, 0, 1, 0, 1, 0, 0, 0, 0, 0, 1, 1, 0, 1, 0, 0, 0, 1, 1, 1, 1, 0, 0, 1, 0, 0, 0, 1, 0, 1, 1, 0, 0, 0, 0, 0, 1, 1, 0, 0, 0, 1, 0, 0, 1, 1, 0, 0, 1, 1, 1, 0, 0, 1, 1, 1, 1, 0, 1, 1, 0, 1, 1, 1, 0, 0, 1, 1, 0, 0, 1, 0, 0, 1, 0, 0, 1, 1, 0, 1, 0, 1, 1, 0, 1, 0, 1, 1, 1, 1, 1, 0, 1, 0, 0, 1, 1, 1, 1, 1, 1, 0, 1, 1, 1, 0, 0, 0, 1, 0, 0, 0, 0, 0, 1, 1, 0, 0, 0, 0, 1, 1, 0, 0, 0, 0, 0, 1, 1, 1, 0, 1, 1, 1, 0, 0, 1, 0, 0, 0, 0, 1, 1, 1, 1, 1, 1, 1, 1, 0, 0, 1, 1, 1, 1, 1, 1, 0, 0, 0, 1, 1, 0, 0, 1, 0, 0, 0, 1, 1, 1, 0, 1, 0, 0, 0, 1, 0, 1, 1, 0, 0, 0, 0, 0, 1, 1, 0, 1, 0, 1, 1, 0, 0, 1, 1, 0, 0, 0, 0, 0, 0, 1, 0, 0, 1, 1, 1, 0, 1, 0, 1, 1, 1, 0, 1, 0, 0, 0, 0, 0, 1, 0, 1, 1, 1, 1, 0, 1, 0, 0, 0, 1, 0, 1, 0, 0, 0, 1, 0, 1, 1, 0, 0, 0, 1, 1, 0, 0, 1, 0, 0, 0, 1, 1, 1, 1, 1, 0, 1, 1, 1, 0, 1, 1, 1, 0, 1, 1, 1, 1, 1, 1, 0, 1, 0, 0, 0, 0, 1, 1, 1, 1, 0, 1, 0, 0, 0, 0, 0, 0, 0, 1, 1, 1, 1, 1, 1, 0, 0, 1, 0, 0, 0, 1, 0, 1, 1, 0, 1, 1, 1, 0, 1, 1, 1, 1, 1, 1, 0, 1, 1, 1, 0, 0, 1, 1, 1, 1, 0, 1, 0, 0, 0, 1, 1, 0, 0, 0, 0, 1, 0, 1, 0, 0, 0, 1, 0, 1, 1, 0, 1, 0, 1, 0, 0, 1, 0, 0, 0, 1, 1, 1, 0, 1, 0, 0, 1, 0, 1, 1, 1, 0, 0, 0, 1, 1, 0, 1, 1, 0, 1, 0, 1, 0, 0, 0, 0, 0, 0, 1, 0, 0, 1, 1, 0, 1, 1, 0, 0, 0, 0, 1, 0, 1, 0, 1, 1, 0, 0, 1, 0, 1, 0, 1, 1, 1, 0, 1, 1, 0, 1, 0, 0, 1, 1, 0, 0, 0, 0, 0, 0, 1, 0, 0, 1, 0, 1, 1, 1, 1, 1, 1, 1, 0, 0, 1, 0, 0, 1, 1, 1, 0, 0, 1, 1, 1, 1, 0, 0, 1, 1, 0, 1, 0, 1, 0, 1, 0, 1, 0, 1, 0, 0, 0, 1, 0, 1, 0, 1, 1, 1, 1, 1, 0, 0, 1, 0, 1, 1, 1, 1, 0, 1, 0, 0, 1, 1, 1, 0, 1, 0, 0, 0, 1, 0, 0, 0, 0, 1, 1, 0, 0, 0, 0, 0, 1, 0, 0, 1, 1, 1, 0, 0, 0, 0, 0, 1, 1, 0, 1, 0, 1, 0, 0, 1, 0, 1, 1, 1, 0, 1, 0, 1, 0, 1, 1, 0, 1, 0, 1, 1, 0, 1, 1, 0, 1, 0, 0, 1, 0]\n",
            "1000\n"
          ],
          "name": "stdout"
        }
      ]
    },
    {
      "metadata": {
        "id": "60Lc4BahzRW2",
        "colab_type": "code",
        "colab": {
          "base_uri": "https://localhost:8080/",
          "height": 71
        },
        "outputId": "3e3d040d-feca-4a50-8b72-64fb77728bce"
      },
      "cell_type": "code",
      "source": [
        "sample = random.sample(population, 100)\n",
        "print(sample)\n",
        "print(len(sample))"
      ],
      "execution_count": 8,
      "outputs": [
        {
          "output_type": "stream",
          "text": [
            "[0, 0, 0, 0, 1, 0, 1, 1, 1, 1, 0, 1, 1, 1, 1, 1, 1, 0, 0, 0, 0, 1, 1, 0, 1, 0, 1, 0, 1, 1, 1, 0, 0, 1, 0, 0, 1, 1, 0, 0, 0, 1, 0, 0, 0, 0, 0, 0, 0, 0, 0, 0, 0, 0, 0, 1, 0, 0, 1, 0, 1, 1, 1, 0, 0, 1, 1, 0, 1, 0, 1, 1, 1, 0, 0, 1, 1, 0, 0, 0, 0, 1, 1, 1, 0, 0, 1, 1, 1, 0, 0, 1, 0, 1, 1, 0, 1, 0, 1, 0]\n",
            "100\n"
          ],
          "name": "stdout"
        }
      ]
    },
    {
      "metadata": {
        "id": "ulMvlhbnzm5P",
        "colab_type": "code",
        "colab": {
          "base_uri": "https://localhost:8080/",
          "height": 51
        },
        "outputId": "deee6017-aad4-494a-e224-91abc333d61c"
      },
      "cell_type": "code",
      "source": [
        "import numpy as np\n",
        "\n",
        "def mean(list):\n",
        "  average = np.sum(list)/ len(list)\n",
        "  return average\n",
        "\n",
        "print(\"Population Mean:\", mean(population))\n",
        "print(\"Sample mean:\",  mean(sample))"
      ],
      "execution_count": 9,
      "outputs": [
        {
          "output_type": "stream",
          "text": [
            "Population Mean: 0.507\n",
            "Sample mean: 0.46\n"
          ],
          "name": "stdout"
        }
      ]
    },
    {
      "metadata": {
        "id": "FCEvlB5P7fSo",
        "colab_type": "code",
        "colab": {
          "base_uri": "https://localhost:8080/",
          "height": 34
        },
        "outputId": "ec81dfd3-d575-4c11-fd29-4fdd04916796"
      },
      "cell_type": "code",
      "source": [
        "# This demonstrates the degrees of freedom  n-1\n",
        "def variance(list):\n",
        "  n = len(list)\n",
        "  return np.sum((list - mean(list))**2)/(n-1)\n",
        "  \n",
        "variance(df.likes_coke)"
      ],
      "execution_count": 17,
      "outputs": [
        {
          "output_type": "execute_result",
          "data": {
            "text/plain": [
              "0.25090909090909086"
            ]
          },
          "metadata": {
            "tags": []
          },
          "execution_count": 17
        }
      ]
    },
    {
      "metadata": {
        "id": "IpQdwypL8nUZ",
        "colab_type": "code",
        "colab": {
          "base_uri": "https://localhost:8080/",
          "height": 34
        },
        "outputId": "2872dee3-0df2-4ee7-e5a6-830c9d521b4e"
      },
      "cell_type": "code",
      "source": [
        "def stddev(list):\n",
        "  var = variance(list)\n",
        "  return var**(1/2) \n",
        "\n",
        "stddev(df.likes_coke)"
      ],
      "execution_count": 15,
      "outputs": [
        {
          "output_type": "execute_result",
          "data": {
            "text/plain": [
              "0.5009082659620331"
            ]
          },
          "metadata": {
            "tags": []
          },
          "execution_count": 15
        }
      ]
    },
    {
      "metadata": {
        "id": "ftpkB9xZ-bNk",
        "colab_type": "text"
      },
      "cell_type": "markdown",
      "source": [
        "<img src=\"https://www.ahajournals.org/cms/attachment/850f8023-e028-4694-a946-bbdbdaa9009b/15mm6.jpg\"  width ='200'/>"
      ]
    },
    {
      "metadata": {
        "id": "W4Gg7lYn9xuU",
        "colab_type": "code",
        "colab": {
          "base_uri": "https://localhost:8080/",
          "height": 34
        },
        "outputId": "09f69c8d-92ac-4b3e-c8e6-44e9d8fe5a80"
      },
      "cell_type": "code",
      "source": [
        "#t-stat is the difference between 2 groups\n",
        "\n",
        "n = len(df.likes_coke)\n",
        "t_stat = (mean(df.likes_coke) - mean(population)) / stddev(df.likes_coke) / n**(1/2)\n",
        "\n",
        "print(t_stat)"
      ],
      "execution_count": 16,
      "outputs": [
        {
          "output_type": "stream",
          "text": [
            "-0.00938295556168011\n"
          ],
          "name": "stdout"
        }
      ]
    },
    {
      "metadata": {
        "id": "E9euq1sq0305",
        "colab_type": "code",
        "colab": {
          "base_uri": "https://localhost:8080/",
          "height": 34
        },
        "outputId": "ba520f69-dcfa-4026-edc1-2629b6f08109"
      },
      "cell_type": "code",
      "source": [
        "df = pd.DataFrame({\"likes_coke\": sample})\n",
        "df.head()\n",
        "\n",
        "df.likes_coke.mean()"
      ],
      "execution_count": 12,
      "outputs": [
        {
          "output_type": "execute_result",
          "data": {
            "text/plain": [
              "0.46"
            ]
          },
          "metadata": {
            "tags": []
          },
          "execution_count": 12
        }
      ]
    },
    {
      "metadata": {
        "id": "Gn1tcofS1YUZ",
        "colab_type": "code",
        "colab": {
          "base_uri": "https://localhost:8080/",
          "height": 347
        },
        "outputId": "7ba93249-4e1d-48ac-c282-e719ab20a8c0"
      },
      "cell_type": "code",
      "source": [
        "df.plot.hist();"
      ],
      "execution_count": 14,
      "outputs": [
        {
          "output_type": "display_data",
          "data": {
            "image/png": "[encoded data removed]",
            "text/plain": [
              "<Figure size 576x396 with 1 Axes>"
            ]
          },
          "metadata": {
            "tags": []
          }
        }
      ]
    },
    {
      "metadata": {
        "id": "iipaN1qh1edN",
        "colab_type": "code",
        "colab": {
          "base_uri": "https://localhost:8080/",
          "height": 34
        },
        "outputId": "1a11fcf0-036e-4f87-d372-f7122638bb02"
      },
      "cell_type": "code",
      "source": [
        "import scipy\n",
        "\n",
        "# dir(scipy.stats)\n",
        "scipy.stats.ttest_1samp(df['likes_coke'], mean(population))"
      ],
      "execution_count": 18,
      "outputs": [
        {
          "output_type": "execute_result",
          "data": {
            "text/plain": [
              "Ttest_1sampResult(statistic=-0.9382955561680112, pvalue=0.3503760732929039)"
            ]
          },
          "metadata": {
            "tags": []
          },
          "execution_count": 18
        }
      ]
    },
    {
      "metadata": {
        "id": "uRoWv2cQ32YT",
        "colab_type": "code",
        "colab": {
          "base_uri": "https://localhost:8080/",
          "height": 170
        },
        "outputId": "fd498183-dd25-44d1-b2a1-1791599d55cb"
      },
      "cell_type": "code",
      "source": [
        "df.likes_coke.describe()"
      ],
      "execution_count": 19,
      "outputs": [
        {
          "output_type": "execute_result",
          "data": {
            "text/plain": [
              "count    100.000000\n",
              "mean       0.460000\n",
              "std        0.500908\n",
              "min        0.000000\n",
              "25%        0.000000\n",
              "50%        0.000000\n",
              "75%        1.000000\n",
              "max        1.000000\n",
              "Name: likes_coke, dtype: float64"
            ]
          },
          "metadata": {
            "tags": []
          },
          "execution_count": 19
        }
      ]
    },
    {
      "metadata": {
        "id": "egXb7YpqEcZF",
        "colab_type": "text"
      },
      "cell_type": "markdown",
      "source": [
        "## Assignment - apply the t-test to real data\n",
        "\n",
        "Your assignment is to determine which issues have \"statistically significant\" differences between political parties in this [1980s congressional voting data](https://archive.ics.uci.edu/ml/datasets/Congressional+Voting+Records). The data consists of 435 instances (one for each congressperson), a class (democrat or republican), and 16 binary attributes (yes or no for voting for or against certain issues). Be aware - there are missing values!\n",
        "\n",
        "Your goals:\n",
        "\n",
        "1. Load and clean the data (or determine the best method to drop observations when running tests)\n",
        "2. Using hypothesis testing, find an issue that democrats support more than republicans with p < 0.01\n",
        "3. Using hypothesis testing, find an issue that republicans support more than democrats with p < 0.01\n",
        "4. Using hypothesis testing, find an issue where the difference between republicans and democrats has p > 0.1 (i.e. there may not be much of a difference)\n",
        "\n",
        "Note that this data will involve *2 sample* t-tests, because you're comparing averages across two groups (republicans and democrats) rather than a single group against a null hypothesis.\n",
        "\n",
        "Stretch goals:\n",
        "\n",
        "1. Refactor your code into functions so it's easy to rerun with arbitrary variables\n",
        "2. Apply hypothesis testing to your personal project data (for the purposes of this notebook you can type a summary of the hypothesis you formed and tested)"
      ]
    },
    {
      "metadata": {
        "id": "Pc9bumWRILQR",
        "colab_type": "text"
      },
      "cell_type": "markdown",
      "source": [
        "Attribute Information:\n",
        "  1. Class Name: 2 (democrat, republican)\n",
        "  2. handicapped-infants: 2 (y,n)\n",
        "  3. water-project-cost-sharing: 2 (y,n)\n",
        "  4. adoption-of-the-budget-resolution: 2 (y,n)\n",
        "  5. physician-fee-freeze: 2 (y,n)\n",
        "  06. el-salvador-aid: 2 (y,n)\n",
        "  07. religious-groups-in-schools: 2 (y,n)\n",
        "  08. anti-satellite-test-ban: 2 (y,n)\n",
        "  09. aid-to-nicaraguan-contras: 2 (y,n)\n",
        "  10. mx-missile: 2 (y,n)\n",
        "  11. immigration: 2 (y,n)\n",
        "  12. synfuels-corporation-cutback: 2 (y,n)\n",
        "  13. education-spending: 2 (y,n)\n",
        "  14. superfund-right-to-sue: 2 (y,n)\n",
        "  15. crime: 2 (y,n)\n",
        "  16. duty-free-exports: 2 (y,n)\n",
        "  17. export-administration-act-south-africa: 2 (y,n)"
      ]
    },
    {
      "metadata": {
        "id": "lWooqmiaHFc9",
        "colab_type": "text"
      },
      "cell_type": "markdown",
      "source": [
        "**Loading the Data, and assigning the column names to the appropriate cols**"
      ]
    },
    {
      "metadata": {
        "id": "Hbs3sBKeFOYZ",
        "colab_type": "code",
        "colab": {
          "base_uri": "https://localhost:8080/",
          "height": 238
        },
        "outputId": "cf070935-8687-4be2-a965-5592050ec85d"
      },
      "cell_type": "code",
      "source": [
        "# when i first pulled this in the cols were a mess, so I just fixed it and ran it again\n",
        "cols = [\n",
        "  'Class Name',\n",
        "  'handicapped-infants',\n",
        "  'water-project-cost-sharing',\n",
        "  'adoption-of-the-budget-resolution',\n",
        "  'physician-fee-freeze',\n",
        "  'el-salvador-aid',\n",
        "  'religious-groups-in-schools',\n",
        "  'anti-satellite-test-ban',\n",
        "  'aid-to-nicaraguan-contras',\n",
        "  'mx-missile',\n",
        "  'immigration',\n",
        "  'synfuels-corporation-cutback',\n",
        "  'education-spending',\n",
        "  'superfund-right-to-sue',\n",
        "  'crime',\n",
        "  'duty-free-exports',\n",
        "  'export-administration-act-south-africa'\n",
        "]\n",
        "\n",
        "congress = pd.read_csv('https://archive.ics.uci.edu/ml/machine-learning-databases/voting-records/house-votes-84.data', header=None, names=cols) \n",
        "\n",
        "congress.head()"
      ],
      "execution_count": 20,
      "outputs": [
        {
          "output_type": "execute_result",
          "data": {
            "text/html": [
              "<div>\n",
              "<style scoped>\n",
              "    .dataframe tbody tr th:only-of-type {\n",
              "        vertical-align: middle;\n",
              "    }\n",
              "\n",
              "    .dataframe tbody tr th {\n",
              "        vertical-align: top;\n",
              "    }\n",
              "\n",
              "    .dataframe thead th {\n",
              "        text-align: right;\n",
              "    }\n",
              "</style>\n",
              "<table border=\"1\" class=\"dataframe\">\n",
              "  <thead>\n",
              "    <tr style=\"text-align: right;\">\n",
              "      <th></th>\n",
              "      <th>Class Name</th>\n",
              "      <th>handicapped-infants</th>\n",
              "      <th>water-project-cost-sharing</th>\n",
              "      <th>adoption-of-the-budget-resolution</th>\n",
              "      <th>physician-fee-freeze</th>\n",
              "      <th>el-salvador-aid</th>\n",
              "      <th>religious-groups-in-schools</th>\n",
              "      <th>anti-satellite-test-ban</th>\n",
              "      <th>aid-to-nicaraguan-contras</th>\n",
              "      <th>mx-missile</th>\n",
              "      <th>immigration</th>\n",
              "      <th>synfuels-corporation-cutback</th>\n",
              "      <th>education-spending</th>\n",
              "      <th>superfund-right-to-sue</th>\n",
              "      <th>crime</th>\n",
              "      <th>duty-free-exports</th>\n",
              "      <th>export-administration-act-south-africa</th>\n",
              "    </tr>\n",
              "  </thead>\n",
              "  <tbody>\n",
              "    <tr>\n",
              "      <th>0</th>\n",
              "      <td>republican</td>\n",
              "      <td>n</td>\n",
              "      <td>y</td>\n",
              "      <td>n</td>\n",
              "      <td>y</td>\n",
              "      <td>y</td>\n",
              "      <td>y</td>\n",
              "      <td>n</td>\n",
              "      <td>n</td>\n",
              "      <td>n</td>\n",
              "      <td>y</td>\n",
              "      <td>?</td>\n",
              "      <td>y</td>\n",
              "      <td>y</td>\n",
              "      <td>y</td>\n",
              "      <td>n</td>\n",
              "      <td>y</td>\n",
              "    </tr>\n",
              "    <tr>\n",
              "      <th>1</th>\n",
              "      <td>republican</td>\n",
              "      <td>n</td>\n",
              "      <td>y</td>\n",
              "      <td>n</td>\n",
              "      <td>y</td>\n",
              "      <td>y</td>\n",
              "      <td>y</td>\n",
              "      <td>n</td>\n",
              "      <td>n</td>\n",
              "      <td>n</td>\n",
              "      <td>n</td>\n",
              "      <td>n</td>\n",
              "      <td>y</td>\n",
              "      <td>y</td>\n",
              "      <td>y</td>\n",
              "      <td>n</td>\n",
              "      <td>?</td>\n",
              "    </tr>\n",
              "    <tr>\n",
              "      <th>2</th>\n",
              "      <td>democrat</td>\n",
              "      <td>?</td>\n",
              "      <td>y</td>\n",
              "      <td>y</td>\n",
              "      <td>?</td>\n",
              "      <td>y</td>\n",
              "      <td>y</td>\n",
              "      <td>n</td>\n",
              "      <td>n</td>\n",
              "      <td>n</td>\n",
              "      <td>n</td>\n",
              "      <td>y</td>\n",
              "      <td>n</td>\n",
              "      <td>y</td>\n",
              "      <td>y</td>\n",
              "      <td>n</td>\n",
              "      <td>n</td>\n",
              "    </tr>\n",
              "    <tr>\n",
              "      <th>3</th>\n",
              "      <td>democrat</td>\n",
              "      <td>n</td>\n",
              "      <td>y</td>\n",
              "      <td>y</td>\n",
              "      <td>n</td>\n",
              "      <td>?</td>\n",
              "      <td>y</td>\n",
              "      <td>n</td>\n",
              "      <td>n</td>\n",
              "      <td>n</td>\n",
              "      <td>n</td>\n",
              "      <td>y</td>\n",
              "      <td>n</td>\n",
              "      <td>y</td>\n",
              "      <td>n</td>\n",
              "      <td>n</td>\n",
              "      <td>y</td>\n",
              "    </tr>\n",
              "    <tr>\n",
              "      <th>4</th>\n",
              "      <td>democrat</td>\n",
              "      <td>y</td>\n",
              "      <td>y</td>\n",
              "      <td>y</td>\n",
              "      <td>n</td>\n",
              "      <td>y</td>\n",
              "      <td>y</td>\n",
              "      <td>n</td>\n",
              "      <td>n</td>\n",
              "      <td>n</td>\n",
              "      <td>n</td>\n",
              "      <td>y</td>\n",
              "      <td>?</td>\n",
              "      <td>y</td>\n",
              "      <td>y</td>\n",
              "      <td>y</td>\n",
              "      <td>y</td>\n",
              "    </tr>\n",
              "  </tbody>\n",
              "</table>\n",
              "</div>"
            ],
            "text/plain": [
              "   Class Name handicapped-infants water-project-cost-sharing  \\\n",
              "0  republican                   n                          y   \n",
              "1  republican                   n                          y   \n",
              "2    democrat                   ?                          y   \n",
              "3    democrat                   n                          y   \n",
              "4    democrat                   y                          y   \n",
              "\n",
              "  adoption-of-the-budget-resolution physician-fee-freeze el-salvador-aid  \\\n",
              "0                                 n                    y               y   \n",
              "1                                 n                    y               y   \n",
              "2                                 y                    ?               y   \n",
              "3                                 y                    n               ?   \n",
              "4                                 y                    n               y   \n",
              "\n",
              "  religious-groups-in-schools anti-satellite-test-ban  \\\n",
              "0                           y                       n   \n",
              "1                           y                       n   \n",
              "2                           y                       n   \n",
              "3                           y                       n   \n",
              "4                           y                       n   \n",
              "\n",
              "  aid-to-nicaraguan-contras mx-missile immigration  \\\n",
              "0                         n          n           y   \n",
              "1                         n          n           n   \n",
              "2                         n          n           n   \n",
              "3                         n          n           n   \n",
              "4                         n          n           n   \n",
              "\n",
              "  synfuels-corporation-cutback education-spending superfund-right-to-sue  \\\n",
              "0                            ?                  y                      y   \n",
              "1                            n                  y                      y   \n",
              "2                            y                  n                      y   \n",
              "3                            y                  n                      y   \n",
              "4                            y                  ?                      y   \n",
              "\n",
              "  crime duty-free-exports export-administration-act-south-africa  \n",
              "0     y                 n                                      y  \n",
              "1     y                 n                                      ?  \n",
              "2     y                 n                                      n  \n",
              "3     n                 n                                      y  \n",
              "4     y                 y                                      y  "
            ]
          },
          "metadata": {
            "tags": []
          },
          "execution_count": 20
        }
      ]
    },
    {
      "metadata": {
        "id": "UufvdTnxIiy7",
        "colab_type": "text"
      },
      "cell_type": "markdown",
      "source": [
        "**Clean the data**"
      ]
    },
    {
      "metadata": {
        "id": "HfVuBqzBS3eI",
        "colab_type": "text"
      },
      "cell_type": "markdown",
      "source": [
        "**Representations: **\n",
        "\n",
        "**No = 0**\n",
        "\n",
        "**Yes = 1**\n",
        "\n",
        "**Unknown = NaN**"
      ]
    },
    {
      "metadata": {
        "id": "2O7oss7_JHV2",
        "colab_type": "code",
        "colab": {
          "base_uri": "https://localhost:8080/",
          "height": 34
        },
        "outputId": "f4ca0af7-f097-415d-819b-21ff830ad065"
      },
      "cell_type": "code",
      "source": [
        "# I see that the missing values are represented by '?'\n",
        "# I want to replace the ? with NaN\n",
        "# And change n to 0, and y to 1\n",
        "\n",
        "congress = congress.replace({'?':np.nan , 'n':0, 'y':1})\n",
        "congress.isnull().sum().sum()"
      ],
      "execution_count": 21,
      "outputs": [
        {
          "output_type": "execute_result",
          "data": {
            "text/plain": [
              "392"
            ]
          },
          "metadata": {
            "tags": []
          },
          "execution_count": 21
        }
      ]
    },
    {
      "metadata": {
        "id": "NCx2-GNGRZkt",
        "colab_type": "code",
        "colab": {
          "base_uri": "https://localhost:8080/",
          "height": 238
        },
        "outputId": "2b82b1cd-9569-4e5f-a79e-44a73f8af519"
      },
      "cell_type": "code",
      "source": [
        "congress.head()"
      ],
      "execution_count": 22,
      "outputs": [
        {
          "output_type": "execute_result",
          "data": {
            "text/html": [
              "<div>\n",
              "<style scoped>\n",
              "    .dataframe tbody tr th:only-of-type {\n",
              "        vertical-align: middle;\n",
              "    }\n",
              "\n",
              "    .dataframe tbody tr th {\n",
              "        vertical-align: top;\n",
              "    }\n",
              "\n",
              "    .dataframe thead th {\n",
              "        text-align: right;\n",
              "    }\n",
              "</style>\n",
              "<table border=\"1\" class=\"dataframe\">\n",
              "  <thead>\n",
              "    <tr style=\"text-align: right;\">\n",
              "      <th></th>\n",
              "      <th>Class Name</th>\n",
              "      <th>handicapped-infants</th>\n",
              "      <th>water-project-cost-sharing</th>\n",
              "      <th>adoption-of-the-budget-resolution</th>\n",
              "      <th>physician-fee-freeze</th>\n",
              "      <th>el-salvador-aid</th>\n",
              "      <th>religious-groups-in-schools</th>\n",
              "      <th>anti-satellite-test-ban</th>\n",
              "      <th>aid-to-nicaraguan-contras</th>\n",
              "      <th>mx-missile</th>\n",
              "      <th>immigration</th>\n",
              "      <th>synfuels-corporation-cutback</th>\n",
              "      <th>education-spending</th>\n",
              "      <th>superfund-right-to-sue</th>\n",
              "      <th>crime</th>\n",
              "      <th>duty-free-exports</th>\n",
              "      <th>export-administration-act-south-africa</th>\n",
              "    </tr>\n",
              "  </thead>\n",
              "  <tbody>\n",
              "    <tr>\n",
              "      <th>0</th>\n",
              "      <td>republican</td>\n",
              "      <td>0.0</td>\n",
              "      <td>1.0</td>\n",
              "      <td>0.0</td>\n",
              "      <td>1.0</td>\n",
              "      <td>1.0</td>\n",
              "      <td>1.0</td>\n",
              "      <td>0.0</td>\n",
              "      <td>0.0</td>\n",
              "      <td>0.0</td>\n",
              "      <td>1.0</td>\n",
              "      <td>NaN</td>\n",
              "      <td>1.0</td>\n",
              "      <td>1.0</td>\n",
              "      <td>1.0</td>\n",
              "      <td>0.0</td>\n",
              "      <td>1.0</td>\n",
              "    </tr>\n",
              "    <tr>\n",
              "      <th>1</th>\n",
              "      <td>republican</td>\n",
              "      <td>0.0</td>\n",
              "      <td>1.0</td>\n",
              "      <td>0.0</td>\n",
              "      <td>1.0</td>\n",
              "      <td>1.0</td>\n",
              "      <td>1.0</td>\n",
              "      <td>0.0</td>\n",
              "      <td>0.0</td>\n",
              "      <td>0.0</td>\n",
              "      <td>0.0</td>\n",
              "      <td>0.0</td>\n",
              "      <td>1.0</td>\n",
              "      <td>1.0</td>\n",
              "      <td>1.0</td>\n",
              "      <td>0.0</td>\n",
              "      <td>NaN</td>\n",
              "    </tr>\n",
              "    <tr>\n",
              "      <th>2</th>\n",
              "      <td>democrat</td>\n",
              "      <td>NaN</td>\n",
              "      <td>1.0</td>\n",
              "      <td>1.0</td>\n",
              "      <td>NaN</td>\n",
              "      <td>1.0</td>\n",
              "      <td>1.0</td>\n",
              "      <td>0.0</td>\n",
              "      <td>0.0</td>\n",
              "      <td>0.0</td>\n",
              "      <td>0.0</td>\n",
              "      <td>1.0</td>\n",
              "      <td>0.0</td>\n",
              "      <td>1.0</td>\n",
              "      <td>1.0</td>\n",
              "      <td>0.0</td>\n",
              "      <td>0.0</td>\n",
              "    </tr>\n",
              "    <tr>\n",
              "      <th>3</th>\n",
              "      <td>democrat</td>\n",
              "      <td>0.0</td>\n",
              "      <td>1.0</td>\n",
              "      <td>1.0</td>\n",
              "      <td>0.0</td>\n",
              "      <td>NaN</td>\n",
              "      <td>1.0</td>\n",
              "      <td>0.0</td>\n",
              "      <td>0.0</td>\n",
              "      <td>0.0</td>\n",
              "      <td>0.0</td>\n",
              "      <td>1.0</td>\n",
              "      <td>0.0</td>\n",
              "      <td>1.0</td>\n",
              "      <td>0.0</td>\n",
              "      <td>0.0</td>\n",
              "      <td>1.0</td>\n",
              "    </tr>\n",
              "    <tr>\n",
              "      <th>4</th>\n",
              "      <td>democrat</td>\n",
              "      <td>1.0</td>\n",
              "      <td>1.0</td>\n",
              "      <td>1.0</td>\n",
              "      <td>0.0</td>\n",
              "      <td>1.0</td>\n",
              "      <td>1.0</td>\n",
              "      <td>0.0</td>\n",
              "      <td>0.0</td>\n",
              "      <td>0.0</td>\n",
              "      <td>0.0</td>\n",
              "      <td>1.0</td>\n",
              "      <td>NaN</td>\n",
              "      <td>1.0</td>\n",
              "      <td>1.0</td>\n",
              "      <td>1.0</td>\n",
              "      <td>1.0</td>\n",
              "    </tr>\n",
              "  </tbody>\n",
              "</table>\n",
              "</div>"
            ],
            "text/plain": [
              "   Class Name  handicapped-infants  water-project-cost-sharing  \\\n",
              "0  republican                  0.0                         1.0   \n",
              "1  republican                  0.0                         1.0   \n",
              "2    democrat                  NaN                         1.0   \n",
              "3    democrat                  0.0                         1.0   \n",
              "4    democrat                  1.0                         1.0   \n",
              "\n",
              "   adoption-of-the-budget-resolution  physician-fee-freeze  el-salvador-aid  \\\n",
              "0                                0.0                   1.0              1.0   \n",
              "1                                0.0                   1.0              1.0   \n",
              "2                                1.0                   NaN              1.0   \n",
              "3                                1.0                   0.0              NaN   \n",
              "4                                1.0                   0.0              1.0   \n",
              "\n",
              "   religious-groups-in-schools  anti-satellite-test-ban  \\\n",
              "0                          1.0                      0.0   \n",
              "1                          1.0                      0.0   \n",
              "2                          1.0                      0.0   \n",
              "3                          1.0                      0.0   \n",
              "4                          1.0                      0.0   \n",
              "\n",
              "   aid-to-nicaraguan-contras  mx-missile  immigration  \\\n",
              "0                        0.0         0.0          1.0   \n",
              "1                        0.0         0.0          0.0   \n",
              "2                        0.0         0.0          0.0   \n",
              "3                        0.0         0.0          0.0   \n",
              "4                        0.0         0.0          0.0   \n",
              "\n",
              "   synfuels-corporation-cutback  education-spending  superfund-right-to-sue  \\\n",
              "0                           NaN                 1.0                     1.0   \n",
              "1                           0.0                 1.0                     1.0   \n",
              "2                           1.0                 0.0                     1.0   \n",
              "3                           1.0                 0.0                     1.0   \n",
              "4                           1.0                 NaN                     1.0   \n",
              "\n",
              "   crime  duty-free-exports  export-administration-act-south-africa  \n",
              "0    1.0                0.0                                     1.0  \n",
              "1    1.0                0.0                                     NaN  \n",
              "2    1.0                0.0                                     0.0  \n",
              "3    0.0                0.0                                     1.0  \n",
              "4    1.0                1.0                                     1.0  "
            ]
          },
          "metadata": {
            "tags": []
          },
          "execution_count": 22
        }
      ]
    },
    {
      "metadata": {
        "id": "jc3BRj0ESwqA",
        "colab_type": "code",
        "colab": {
          "base_uri": "https://localhost:8080/",
          "height": 331
        },
        "outputId": "942c6b0b-ef4d-4650-f51e-9035ae68e64e"
      },
      "cell_type": "code",
      "source": [
        "congress.describe()"
      ],
      "execution_count": 23,
      "outputs": [
        {
          "output_type": "execute_result",
          "data": {
            "text/html": [
              "<div>\n",
              "<style scoped>\n",
              "    .dataframe tbody tr th:only-of-type {\n",
              "        vertical-align: middle;\n",
              "    }\n",
              "\n",
              "    .dataframe tbody tr th {\n",
              "        vertical-align: top;\n",
              "    }\n",
              "\n",
              "    .dataframe thead th {\n",
              "        text-align: right;\n",
              "    }\n",
              "</style>\n",
              "<table border=\"1\" class=\"dataframe\">\n",
              "  <thead>\n",
              "    <tr style=\"text-align: right;\">\n",
              "      <th></th>\n",
              "      <th>handicapped-infants</th>\n",
              "      <th>water-project-cost-sharing</th>\n",
              "      <th>adoption-of-the-budget-resolution</th>\n",
              "      <th>physician-fee-freeze</th>\n",
              "      <th>el-salvador-aid</th>\n",
              "      <th>religious-groups-in-schools</th>\n",
              "      <th>anti-satellite-test-ban</th>\n",
              "      <th>aid-to-nicaraguan-contras</th>\n",
              "      <th>mx-missile</th>\n",
              "      <th>immigration</th>\n",
              "      <th>synfuels-corporation-cutback</th>\n",
              "      <th>education-spending</th>\n",
              "      <th>superfund-right-to-sue</th>\n",
              "      <th>crime</th>\n",
              "      <th>duty-free-exports</th>\n",
              "      <th>export-administration-act-south-africa</th>\n",
              "    </tr>\n",
              "  </thead>\n",
              "  <tbody>\n",
              "    <tr>\n",
              "      <th>count</th>\n",
              "      <td>423.000000</td>\n",
              "      <td>387.000000</td>\n",
              "      <td>424.000000</td>\n",
              "      <td>424.000000</td>\n",
              "      <td>420.000000</td>\n",
              "      <td>424.000000</td>\n",
              "      <td>421.000000</td>\n",
              "      <td>420.00000</td>\n",
              "      <td>413.000000</td>\n",
              "      <td>428.000000</td>\n",
              "      <td>414.000000</td>\n",
              "      <td>404.000000</td>\n",
              "      <td>410.000000</td>\n",
              "      <td>418.000000</td>\n",
              "      <td>407.000000</td>\n",
              "      <td>331.000000</td>\n",
              "    </tr>\n",
              "    <tr>\n",
              "      <th>mean</th>\n",
              "      <td>0.442080</td>\n",
              "      <td>0.503876</td>\n",
              "      <td>0.596698</td>\n",
              "      <td>0.417453</td>\n",
              "      <td>0.504762</td>\n",
              "      <td>0.641509</td>\n",
              "      <td>0.567696</td>\n",
              "      <td>0.57619</td>\n",
              "      <td>0.501211</td>\n",
              "      <td>0.504673</td>\n",
              "      <td>0.362319</td>\n",
              "      <td>0.423267</td>\n",
              "      <td>0.509756</td>\n",
              "      <td>0.593301</td>\n",
              "      <td>0.427518</td>\n",
              "      <td>0.812689</td>\n",
              "    </tr>\n",
              "    <tr>\n",
              "      <th>std</th>\n",
              "      <td>0.497222</td>\n",
              "      <td>0.500632</td>\n",
              "      <td>0.491140</td>\n",
              "      <td>0.493721</td>\n",
              "      <td>0.500574</td>\n",
              "      <td>0.480124</td>\n",
              "      <td>0.495985</td>\n",
              "      <td>0.49475</td>\n",
              "      <td>0.500605</td>\n",
              "      <td>0.500563</td>\n",
              "      <td>0.481252</td>\n",
              "      <td>0.494690</td>\n",
              "      <td>0.500516</td>\n",
              "      <td>0.491806</td>\n",
              "      <td>0.495327</td>\n",
              "      <td>0.390752</td>\n",
              "    </tr>\n",
              "    <tr>\n",
              "      <th>min</th>\n",
              "      <td>0.000000</td>\n",
              "      <td>0.000000</td>\n",
              "      <td>0.000000</td>\n",
              "      <td>0.000000</td>\n",
              "      <td>0.000000</td>\n",
              "      <td>0.000000</td>\n",
              "      <td>0.000000</td>\n",
              "      <td>0.00000</td>\n",
              "      <td>0.000000</td>\n",
              "      <td>0.000000</td>\n",
              "      <td>0.000000</td>\n",
              "      <td>0.000000</td>\n",
              "      <td>0.000000</td>\n",
              "      <td>0.000000</td>\n",
              "      <td>0.000000</td>\n",
              "      <td>0.000000</td>\n",
              "    </tr>\n",
              "    <tr>\n",
              "      <th>25%</th>\n",
              "      <td>0.000000</td>\n",
              "      <td>0.000000</td>\n",
              "      <td>0.000000</td>\n",
              "      <td>0.000000</td>\n",
              "      <td>0.000000</td>\n",
              "      <td>0.000000</td>\n",
              "      <td>0.000000</td>\n",
              "      <td>0.00000</td>\n",
              "      <td>0.000000</td>\n",
              "      <td>0.000000</td>\n",
              "      <td>0.000000</td>\n",
              "      <td>0.000000</td>\n",
              "      <td>0.000000</td>\n",
              "      <td>0.000000</td>\n",
              "      <td>0.000000</td>\n",
              "      <td>1.000000</td>\n",
              "    </tr>\n",
              "    <tr>\n",
              "      <th>50%</th>\n",
              "      <td>0.000000</td>\n",
              "      <td>1.000000</td>\n",
              "      <td>1.000000</td>\n",
              "      <td>0.000000</td>\n",
              "      <td>1.000000</td>\n",
              "      <td>1.000000</td>\n",
              "      <td>1.000000</td>\n",
              "      <td>1.00000</td>\n",
              "      <td>1.000000</td>\n",
              "      <td>1.000000</td>\n",
              "      <td>0.000000</td>\n",
              "      <td>0.000000</td>\n",
              "      <td>1.000000</td>\n",
              "      <td>1.000000</td>\n",
              "      <td>0.000000</td>\n",
              "      <td>1.000000</td>\n",
              "    </tr>\n",
              "    <tr>\n",
              "      <th>75%</th>\n",
              "      <td>1.000000</td>\n",
              "      <td>1.000000</td>\n",
              "      <td>1.000000</td>\n",
              "      <td>1.000000</td>\n",
              "      <td>1.000000</td>\n",
              "      <td>1.000000</td>\n",
              "      <td>1.000000</td>\n",
              "      <td>1.00000</td>\n",
              "      <td>1.000000</td>\n",
              "      <td>1.000000</td>\n",
              "      <td>1.000000</td>\n",
              "      <td>1.000000</td>\n",
              "      <td>1.000000</td>\n",
              "      <td>1.000000</td>\n",
              "      <td>1.000000</td>\n",
              "      <td>1.000000</td>\n",
              "    </tr>\n",
              "    <tr>\n",
              "      <th>max</th>\n",
              "      <td>1.000000</td>\n",
              "      <td>1.000000</td>\n",
              "      <td>1.000000</td>\n",
              "      <td>1.000000</td>\n",
              "      <td>1.000000</td>\n",
              "      <td>1.000000</td>\n",
              "      <td>1.000000</td>\n",
              "      <td>1.00000</td>\n",
              "      <td>1.000000</td>\n",
              "      <td>1.000000</td>\n",
              "      <td>1.000000</td>\n",
              "      <td>1.000000</td>\n",
              "      <td>1.000000</td>\n",
              "      <td>1.000000</td>\n",
              "      <td>1.000000</td>\n",
              "      <td>1.000000</td>\n",
              "    </tr>\n",
              "  </tbody>\n",
              "</table>\n",
              "</div>"
            ],
            "text/plain": [
              "       handicapped-infants  water-project-cost-sharing  \\\n",
              "count           423.000000                  387.000000   \n",
              "mean              0.442080                    0.503876   \n",
              "std               0.497222                    0.500632   \n",
              "min               0.000000                    0.000000   \n",
              "25%               0.000000                    0.000000   \n",
              "50%               0.000000                    1.000000   \n",
              "75%               1.000000                    1.000000   \n",
              "max               1.000000                    1.000000   \n",
              "\n",
              "       adoption-of-the-budget-resolution  physician-fee-freeze  \\\n",
              "count                         424.000000            424.000000   \n",
              "mean                            0.596698              0.417453   \n",
              "std                             0.491140              0.493721   \n",
              "min                             0.000000              0.000000   \n",
              "25%                             0.000000              0.000000   \n",
              "50%                             1.000000              0.000000   \n",
              "75%                             1.000000              1.000000   \n",
              "max                             1.000000              1.000000   \n",
              "\n",
              "       el-salvador-aid  religious-groups-in-schools  anti-satellite-test-ban  \\\n",
              "count       420.000000                   424.000000               421.000000   \n",
              "mean          0.504762                     0.641509                 0.567696   \n",
              "std           0.500574                     0.480124                 0.495985   \n",
              "min           0.000000                     0.000000                 0.000000   \n",
              "25%           0.000000                     0.000000                 0.000000   \n",
              "50%           1.000000                     1.000000                 1.000000   \n",
              "75%           1.000000                     1.000000                 1.000000   \n",
              "max           1.000000                     1.000000                 1.000000   \n",
              "\n",
              "       aid-to-nicaraguan-contras  mx-missile  immigration  \\\n",
              "count                  420.00000  413.000000   428.000000   \n",
              "mean                     0.57619    0.501211     0.504673   \n",
              "std                      0.49475    0.500605     0.500563   \n",
              "min                      0.00000    0.000000     0.000000   \n",
              "25%                      0.00000    0.000000     0.000000   \n",
              "50%                      1.00000    1.000000     1.000000   \n",
              "75%                      1.00000    1.000000     1.000000   \n",
              "max                      1.00000    1.000000     1.000000   \n",
              "\n",
              "       synfuels-corporation-cutback  education-spending  \\\n",
              "count                    414.000000          404.000000   \n",
              "mean                       0.362319            0.423267   \n",
              "std                        0.481252            0.494690   \n",
              "min                        0.000000            0.000000   \n",
              "25%                        0.000000            0.000000   \n",
              "50%                        0.000000            0.000000   \n",
              "75%                        1.000000            1.000000   \n",
              "max                        1.000000            1.000000   \n",
              "\n",
              "       superfund-right-to-sue       crime  duty-free-exports  \\\n",
              "count              410.000000  418.000000         407.000000   \n",
              "mean                 0.509756    0.593301           0.427518   \n",
              "std                  0.500516    0.491806           0.495327   \n",
              "min                  0.000000    0.000000           0.000000   \n",
              "25%                  0.000000    0.000000           0.000000   \n",
              "50%                  1.000000    1.000000           0.000000   \n",
              "75%                  1.000000    1.000000           1.000000   \n",
              "max                  1.000000    1.000000           1.000000   \n",
              "\n",
              "       export-administration-act-south-africa  \n",
              "count                              331.000000  \n",
              "mean                                 0.812689  \n",
              "std                                  0.390752  \n",
              "min                                  0.000000  \n",
              "25%                                  1.000000  \n",
              "50%                                  1.000000  \n",
              "75%                                  1.000000  \n",
              "max                                  1.000000  "
            ]
          },
          "metadata": {
            "tags": []
          },
          "execution_count": 23
        }
      ]
    },
    {
      "metadata": {
        "id": "2Nkz7eJrVB6N",
        "colab_type": "text"
      },
      "cell_type": "markdown",
      "source": [
        "**Hypothesis Testing**"
      ]
    },
    {
      "metadata": {
        "id": "3NtqDtsTVE7x",
        "colab_type": "code",
        "colab": {}
      },
      "cell_type": "code",
      "source": [
        "# Seperating the Classes by Democrat and Republican\n",
        "\n",
        "rep = congress[congress['Class Name'] == 'republican']\n",
        "dem = congress[congress['Class Name'] == 'democrat']"
      ],
      "execution_count": 0,
      "outputs": []
    },
    {
      "metadata": {
        "id": "hOFvtgxuVT2H",
        "colab_type": "code",
        "colab": {
          "base_uri": "https://localhost:8080/",
          "height": 331
        },
        "outputId": "5a048915-8197-4bad-d098-ac025c6a844b"
      },
      "cell_type": "code",
      "source": [
        "rep.describe()"
      ],
      "execution_count": 40,
      "outputs": [
        {
          "output_type": "execute_result",
          "data": {
            "text/html": [
              "<div>\n",
              "<style scoped>\n",
              "    .dataframe tbody tr th:only-of-type {\n",
              "        vertical-align: middle;\n",
              "    }\n",
              "\n",
              "    .dataframe tbody tr th {\n",
              "        vertical-align: top;\n",
              "    }\n",
              "\n",
              "    .dataframe thead th {\n",
              "        text-align: right;\n",
              "    }\n",
              "</style>\n",
              "<table border=\"1\" class=\"dataframe\">\n",
              "  <thead>\n",
              "    <tr style=\"text-align: right;\">\n",
              "      <th></th>\n",
              "      <th>handicapped-infants</th>\n",
              "      <th>water-project-cost-sharing</th>\n",
              "      <th>adoption-of-the-budget-resolution</th>\n",
              "      <th>physician-fee-freeze</th>\n",
              "      <th>el-salvador-aid</th>\n",
              "      <th>religious-groups-in-schools</th>\n",
              "      <th>anti-satellite-test-ban</th>\n",
              "      <th>aid-to-nicaraguan-contras</th>\n",
              "      <th>mx-missile</th>\n",
              "      <th>immigration</th>\n",
              "      <th>synfuels-corporation-cutback</th>\n",
              "      <th>education-spending</th>\n",
              "      <th>superfund-right-to-sue</th>\n",
              "      <th>crime</th>\n",
              "      <th>duty-free-exports</th>\n",
              "      <th>export-administration-act-south-africa</th>\n",
              "    </tr>\n",
              "  </thead>\n",
              "  <tbody>\n",
              "    <tr>\n",
              "      <th>count</th>\n",
              "      <td>165.000000</td>\n",
              "      <td>148.000000</td>\n",
              "      <td>164.000000</td>\n",
              "      <td>165.000000</td>\n",
              "      <td>165.000000</td>\n",
              "      <td>166.000000</td>\n",
              "      <td>162.000000</td>\n",
              "      <td>157.000000</td>\n",
              "      <td>165.000000</td>\n",
              "      <td>165.000000</td>\n",
              "      <td>159.000000</td>\n",
              "      <td>155.000000</td>\n",
              "      <td>158.000000</td>\n",
              "      <td>161.000000</td>\n",
              "      <td>156.000000</td>\n",
              "      <td>146.000000</td>\n",
              "    </tr>\n",
              "    <tr>\n",
              "      <th>mean</th>\n",
              "      <td>0.187879</td>\n",
              "      <td>0.506757</td>\n",
              "      <td>0.134146</td>\n",
              "      <td>0.987879</td>\n",
              "      <td>0.951515</td>\n",
              "      <td>0.897590</td>\n",
              "      <td>0.240741</td>\n",
              "      <td>0.152866</td>\n",
              "      <td>0.115152</td>\n",
              "      <td>0.557576</td>\n",
              "      <td>0.132075</td>\n",
              "      <td>0.870968</td>\n",
              "      <td>0.860759</td>\n",
              "      <td>0.981366</td>\n",
              "      <td>0.089744</td>\n",
              "      <td>0.657534</td>\n",
              "    </tr>\n",
              "    <tr>\n",
              "      <th>std</th>\n",
              "      <td>0.391804</td>\n",
              "      <td>0.501652</td>\n",
              "      <td>0.341853</td>\n",
              "      <td>0.109760</td>\n",
              "      <td>0.215442</td>\n",
              "      <td>0.304104</td>\n",
              "      <td>0.428859</td>\n",
              "      <td>0.361010</td>\n",
              "      <td>0.320176</td>\n",
              "      <td>0.498186</td>\n",
              "      <td>0.339643</td>\n",
              "      <td>0.336322</td>\n",
              "      <td>0.347298</td>\n",
              "      <td>0.135649</td>\n",
              "      <td>0.286735</td>\n",
              "      <td>0.476168</td>\n",
              "    </tr>\n",
              "    <tr>\n",
              "      <th>min</th>\n",
              "      <td>0.000000</td>\n",
              "      <td>0.000000</td>\n",
              "      <td>0.000000</td>\n",
              "      <td>0.000000</td>\n",
              "      <td>0.000000</td>\n",
              "      <td>0.000000</td>\n",
              "      <td>0.000000</td>\n",
              "      <td>0.000000</td>\n",
              "      <td>0.000000</td>\n",
              "      <td>0.000000</td>\n",
              "      <td>0.000000</td>\n",
              "      <td>0.000000</td>\n",
              "      <td>0.000000</td>\n",
              "      <td>0.000000</td>\n",
              "      <td>0.000000</td>\n",
              "      <td>0.000000</td>\n",
              "    </tr>\n",
              "    <tr>\n",
              "      <th>25%</th>\n",
              "      <td>0.000000</td>\n",
              "      <td>0.000000</td>\n",
              "      <td>0.000000</td>\n",
              "      <td>1.000000</td>\n",
              "      <td>1.000000</td>\n",
              "      <td>1.000000</td>\n",
              "      <td>0.000000</td>\n",
              "      <td>0.000000</td>\n",
              "      <td>0.000000</td>\n",
              "      <td>0.000000</td>\n",
              "      <td>0.000000</td>\n",
              "      <td>1.000000</td>\n",
              "      <td>1.000000</td>\n",
              "      <td>1.000000</td>\n",
              "      <td>0.000000</td>\n",
              "      <td>0.000000</td>\n",
              "    </tr>\n",
              "    <tr>\n",
              "      <th>50%</th>\n",
              "      <td>0.000000</td>\n",
              "      <td>1.000000</td>\n",
              "      <td>0.000000</td>\n",
              "      <td>1.000000</td>\n",
              "      <td>1.000000</td>\n",
              "      <td>1.000000</td>\n",
              "      <td>0.000000</td>\n",
              "      <td>0.000000</td>\n",
              "      <td>0.000000</td>\n",
              "      <td>1.000000</td>\n",
              "      <td>0.000000</td>\n",
              "      <td>1.000000</td>\n",
              "      <td>1.000000</td>\n",
              "      <td>1.000000</td>\n",
              "      <td>0.000000</td>\n",
              "      <td>1.000000</td>\n",
              "    </tr>\n",
              "    <tr>\n",
              "      <th>75%</th>\n",
              "      <td>0.000000</td>\n",
              "      <td>1.000000</td>\n",
              "      <td>0.000000</td>\n",
              "      <td>1.000000</td>\n",
              "      <td>1.000000</td>\n",
              "      <td>1.000000</td>\n",
              "      <td>0.000000</td>\n",
              "      <td>0.000000</td>\n",
              "      <td>0.000000</td>\n",
              "      <td>1.000000</td>\n",
              "      <td>0.000000</td>\n",
              "      <td>1.000000</td>\n",
              "      <td>1.000000</td>\n",
              "      <td>1.000000</td>\n",
              "      <td>0.000000</td>\n",
              "      <td>1.000000</td>\n",
              "    </tr>\n",
              "    <tr>\n",
              "      <th>max</th>\n",
              "      <td>1.000000</td>\n",
              "      <td>1.000000</td>\n",
              "      <td>1.000000</td>\n",
              "      <td>1.000000</td>\n",
              "      <td>1.000000</td>\n",
              "      <td>1.000000</td>\n",
              "      <td>1.000000</td>\n",
              "      <td>1.000000</td>\n",
              "      <td>1.000000</td>\n",
              "      <td>1.000000</td>\n",
              "      <td>1.000000</td>\n",
              "      <td>1.000000</td>\n",
              "      <td>1.000000</td>\n",
              "      <td>1.000000</td>\n",
              "      <td>1.000000</td>\n",
              "      <td>1.000000</td>\n",
              "    </tr>\n",
              "  </tbody>\n",
              "</table>\n",
              "</div>"
            ],
            "text/plain": [
              "       handicapped-infants  water-project-cost-sharing  \\\n",
              "count           165.000000                  148.000000   \n",
              "mean              0.187879                    0.506757   \n",
              "std               0.391804                    0.501652   \n",
              "min               0.000000                    0.000000   \n",
              "25%               0.000000                    0.000000   \n",
              "50%               0.000000                    1.000000   \n",
              "75%               0.000000                    1.000000   \n",
              "max               1.000000                    1.000000   \n",
              "\n",
              "       adoption-of-the-budget-resolution  physician-fee-freeze  \\\n",
              "count                         164.000000            165.000000   \n",
              "mean                            0.134146              0.987879   \n",
              "std                             0.341853              0.109760   \n",
              "min                             0.000000              0.000000   \n",
              "25%                             0.000000              1.000000   \n",
              "50%                             0.000000              1.000000   \n",
              "75%                             0.000000              1.000000   \n",
              "max                             1.000000              1.000000   \n",
              "\n",
              "       el-salvador-aid  religious-groups-in-schools  anti-satellite-test-ban  \\\n",
              "count       165.000000                   166.000000               162.000000   \n",
              "mean          0.951515                     0.897590                 0.240741   \n",
              "std           0.215442                     0.304104                 0.428859   \n",
              "min           0.000000                     0.000000                 0.000000   \n",
              "25%           1.000000                     1.000000                 0.000000   \n",
              "50%           1.000000                     1.000000                 0.000000   \n",
              "75%           1.000000                     1.000000                 0.000000   \n",
              "max           1.000000                     1.000000                 1.000000   \n",
              "\n",
              "       aid-to-nicaraguan-contras  mx-missile  immigration  \\\n",
              "count                 157.000000  165.000000   165.000000   \n",
              "mean                    0.152866    0.115152     0.557576   \n",
              "std                     0.361010    0.320176     0.498186   \n",
              "min                     0.000000    0.000000     0.000000   \n",
              "25%                     0.000000    0.000000     0.000000   \n",
              "50%                     0.000000    0.000000     1.000000   \n",
              "75%                     0.000000    0.000000     1.000000   \n",
              "max                     1.000000    1.000000     1.000000   \n",
              "\n",
              "       synfuels-corporation-cutback  education-spending  \\\n",
              "count                    159.000000          155.000000   \n",
              "mean                       0.132075            0.870968   \n",
              "std                        0.339643            0.336322   \n",
              "min                        0.000000            0.000000   \n",
              "25%                        0.000000            1.000000   \n",
              "50%                        0.000000            1.000000   \n",
              "75%                        0.000000            1.000000   \n",
              "max                        1.000000            1.000000   \n",
              "\n",
              "       superfund-right-to-sue       crime  duty-free-exports  \\\n",
              "count              158.000000  161.000000         156.000000   \n",
              "mean                 0.860759    0.981366           0.089744   \n",
              "std                  0.347298    0.135649           0.286735   \n",
              "min                  0.000000    0.000000           0.000000   \n",
              "25%                  1.000000    1.000000           0.000000   \n",
              "50%                  1.000000    1.000000           0.000000   \n",
              "75%                  1.000000    1.000000           0.000000   \n",
              "max                  1.000000    1.000000           1.000000   \n",
              "\n",
              "       export-administration-act-south-africa  \n",
              "count                              146.000000  \n",
              "mean                                 0.657534  \n",
              "std                                  0.476168  \n",
              "min                                  0.000000  \n",
              "25%                                  0.000000  \n",
              "50%                                  1.000000  \n",
              "75%                                  1.000000  \n",
              "max                                  1.000000  "
            ]
          },
          "metadata": {
            "tags": []
          },
          "execution_count": 40
        }
      ]
    },
    {
      "metadata": {
        "id": "yLPZ5dKoaETQ",
        "colab_type": "code",
        "colab": {
          "base_uri": "https://localhost:8080/",
          "height": 331
        },
        "outputId": "3a440708-4950-4f8e-805e-da29c5532497"
      },
      "cell_type": "code",
      "source": [
        "dem.describe()"
      ],
      "execution_count": 41,
      "outputs": [
        {
          "output_type": "execute_result",
          "data": {
            "text/html": [
              "<div>\n",
              "<style scoped>\n",
              "    .dataframe tbody tr th:only-of-type {\n",
              "        vertical-align: middle;\n",
              "    }\n",
              "\n",
              "    .dataframe tbody tr th {\n",
              "        vertical-align: top;\n",
              "    }\n",
              "\n",
              "    .dataframe thead th {\n",
              "        text-align: right;\n",
              "    }\n",
              "</style>\n",
              "<table border=\"1\" class=\"dataframe\">\n",
              "  <thead>\n",
              "    <tr style=\"text-align: right;\">\n",
              "      <th></th>\n",
              "      <th>handicapped-infants</th>\n",
              "      <th>water-project-cost-sharing</th>\n",
              "      <th>adoption-of-the-budget-resolution</th>\n",
              "      <th>physician-fee-freeze</th>\n",
              "      <th>el-salvador-aid</th>\n",
              "      <th>religious-groups-in-schools</th>\n",
              "      <th>anti-satellite-test-ban</th>\n",
              "      <th>aid-to-nicaraguan-contras</th>\n",
              "      <th>mx-missile</th>\n",
              "      <th>immigration</th>\n",
              "      <th>synfuels-corporation-cutback</th>\n",
              "      <th>education-spending</th>\n",
              "      <th>superfund-right-to-sue</th>\n",
              "      <th>crime</th>\n",
              "      <th>duty-free-exports</th>\n",
              "      <th>export-administration-act-south-africa</th>\n",
              "    </tr>\n",
              "  </thead>\n",
              "  <tbody>\n",
              "    <tr>\n",
              "      <th>count</th>\n",
              "      <td>258.000000</td>\n",
              "      <td>239.000000</td>\n",
              "      <td>260.000000</td>\n",
              "      <td>259.000000</td>\n",
              "      <td>255.000000</td>\n",
              "      <td>258.000000</td>\n",
              "      <td>259.000000</td>\n",
              "      <td>263.000000</td>\n",
              "      <td>248.000000</td>\n",
              "      <td>263.000000</td>\n",
              "      <td>255.000000</td>\n",
              "      <td>249.000000</td>\n",
              "      <td>252.000000</td>\n",
              "      <td>257.000000</td>\n",
              "      <td>251.000000</td>\n",
              "      <td>185.000000</td>\n",
              "    </tr>\n",
              "    <tr>\n",
              "      <th>mean</th>\n",
              "      <td>0.604651</td>\n",
              "      <td>0.502092</td>\n",
              "      <td>0.888462</td>\n",
              "      <td>0.054054</td>\n",
              "      <td>0.215686</td>\n",
              "      <td>0.476744</td>\n",
              "      <td>0.772201</td>\n",
              "      <td>0.828897</td>\n",
              "      <td>0.758065</td>\n",
              "      <td>0.471483</td>\n",
              "      <td>0.505882</td>\n",
              "      <td>0.144578</td>\n",
              "      <td>0.289683</td>\n",
              "      <td>0.350195</td>\n",
              "      <td>0.637450</td>\n",
              "      <td>0.935135</td>\n",
              "    </tr>\n",
              "    <tr>\n",
              "      <th>std</th>\n",
              "      <td>0.489876</td>\n",
              "      <td>0.501045</td>\n",
              "      <td>0.315405</td>\n",
              "      <td>0.226562</td>\n",
              "      <td>0.412106</td>\n",
              "      <td>0.500430</td>\n",
              "      <td>0.420224</td>\n",
              "      <td>0.377317</td>\n",
              "      <td>0.429121</td>\n",
              "      <td>0.500138</td>\n",
              "      <td>0.500949</td>\n",
              "      <td>0.352383</td>\n",
              "      <td>0.454518</td>\n",
              "      <td>0.477962</td>\n",
              "      <td>0.481697</td>\n",
              "      <td>0.246956</td>\n",
              "    </tr>\n",
              "    <tr>\n",
              "      <th>min</th>\n",
              "      <td>0.000000</td>\n",
              "      <td>0.000000</td>\n",
              "      <td>0.000000</td>\n",
              "      <td>0.000000</td>\n",
              "      <td>0.000000</td>\n",
              "      <td>0.000000</td>\n",
              "      <td>0.000000</td>\n",
              "      <td>0.000000</td>\n",
              "      <td>0.000000</td>\n",
              "      <td>0.000000</td>\n",
              "      <td>0.000000</td>\n",
              "      <td>0.000000</td>\n",
              "      <td>0.000000</td>\n",
              "      <td>0.000000</td>\n",
              "      <td>0.000000</td>\n",
              "      <td>0.000000</td>\n",
              "    </tr>\n",
              "    <tr>\n",
              "      <th>25%</th>\n",
              "      <td>0.000000</td>\n",
              "      <td>0.000000</td>\n",
              "      <td>1.000000</td>\n",
              "      <td>0.000000</td>\n",
              "      <td>0.000000</td>\n",
              "      <td>0.000000</td>\n",
              "      <td>1.000000</td>\n",
              "      <td>1.000000</td>\n",
              "      <td>1.000000</td>\n",
              "      <td>0.000000</td>\n",
              "      <td>0.000000</td>\n",
              "      <td>0.000000</td>\n",
              "      <td>0.000000</td>\n",
              "      <td>0.000000</td>\n",
              "      <td>0.000000</td>\n",
              "      <td>1.000000</td>\n",
              "    </tr>\n",
              "    <tr>\n",
              "      <th>50%</th>\n",
              "      <td>1.000000</td>\n",
              "      <td>1.000000</td>\n",
              "      <td>1.000000</td>\n",
              "      <td>0.000000</td>\n",
              "      <td>0.000000</td>\n",
              "      <td>0.000000</td>\n",
              "      <td>1.000000</td>\n",
              "      <td>1.000000</td>\n",
              "      <td>1.000000</td>\n",
              "      <td>0.000000</td>\n",
              "      <td>1.000000</td>\n",
              "      <td>0.000000</td>\n",
              "      <td>0.000000</td>\n",
              "      <td>0.000000</td>\n",
              "      <td>1.000000</td>\n",
              "      <td>1.000000</td>\n",
              "    </tr>\n",
              "    <tr>\n",
              "      <th>75%</th>\n",
              "      <td>1.000000</td>\n",
              "      <td>1.000000</td>\n",
              "      <td>1.000000</td>\n",
              "      <td>0.000000</td>\n",
              "      <td>0.000000</td>\n",
              "      <td>1.000000</td>\n",
              "      <td>1.000000</td>\n",
              "      <td>1.000000</td>\n",
              "      <td>1.000000</td>\n",
              "      <td>1.000000</td>\n",
              "      <td>1.000000</td>\n",
              "      <td>0.000000</td>\n",
              "      <td>1.000000</td>\n",
              "      <td>1.000000</td>\n",
              "      <td>1.000000</td>\n",
              "      <td>1.000000</td>\n",
              "    </tr>\n",
              "    <tr>\n",
              "      <th>max</th>\n",
              "      <td>1.000000</td>\n",
              "      <td>1.000000</td>\n",
              "      <td>1.000000</td>\n",
              "      <td>1.000000</td>\n",
              "      <td>1.000000</td>\n",
              "      <td>1.000000</td>\n",
              "      <td>1.000000</td>\n",
              "      <td>1.000000</td>\n",
              "      <td>1.000000</td>\n",
              "      <td>1.000000</td>\n",
              "      <td>1.000000</td>\n",
              "      <td>1.000000</td>\n",
              "      <td>1.000000</td>\n",
              "      <td>1.000000</td>\n",
              "      <td>1.000000</td>\n",
              "      <td>1.000000</td>\n",
              "    </tr>\n",
              "  </tbody>\n",
              "</table>\n",
              "</div>"
            ],
            "text/plain": [
              "       handicapped-infants  water-project-cost-sharing  \\\n",
              "count           258.000000                  239.000000   \n",
              "mean              0.604651                    0.502092   \n",
              "std               0.489876                    0.501045   \n",
              "min               0.000000                    0.000000   \n",
              "25%               0.000000                    0.000000   \n",
              "50%               1.000000                    1.000000   \n",
              "75%               1.000000                    1.000000   \n",
              "max               1.000000                    1.000000   \n",
              "\n",
              "       adoption-of-the-budget-resolution  physician-fee-freeze  \\\n",
              "count                         260.000000            259.000000   \n",
              "mean                            0.888462              0.054054   \n",
              "std                             0.315405              0.226562   \n",
              "min                             0.000000              0.000000   \n",
              "25%                             1.000000              0.000000   \n",
              "50%                             1.000000              0.000000   \n",
              "75%                             1.000000              0.000000   \n",
              "max                             1.000000              1.000000   \n",
              "\n",
              "       el-salvador-aid  religious-groups-in-schools  anti-satellite-test-ban  \\\n",
              "count       255.000000                   258.000000               259.000000   \n",
              "mean          0.215686                     0.476744                 0.772201   \n",
              "std           0.412106                     0.500430                 0.420224   \n",
              "min           0.000000                     0.000000                 0.000000   \n",
              "25%           0.000000                     0.000000                 1.000000   \n",
              "50%           0.000000                     0.000000                 1.000000   \n",
              "75%           0.000000                     1.000000                 1.000000   \n",
              "max           1.000000                     1.000000                 1.000000   \n",
              "\n",
              "       aid-to-nicaraguan-contras  mx-missile  immigration  \\\n",
              "count                 263.000000  248.000000   263.000000   \n",
              "mean                    0.828897    0.758065     0.471483   \n",
              "std                     0.377317    0.429121     0.500138   \n",
              "min                     0.000000    0.000000     0.000000   \n",
              "25%                     1.000000    1.000000     0.000000   \n",
              "50%                     1.000000    1.000000     0.000000   \n",
              "75%                     1.000000    1.000000     1.000000   \n",
              "max                     1.000000    1.000000     1.000000   \n",
              "\n",
              "       synfuels-corporation-cutback  education-spending  \\\n",
              "count                    255.000000          249.000000   \n",
              "mean                       0.505882            0.144578   \n",
              "std                        0.500949            0.352383   \n",
              "min                        0.000000            0.000000   \n",
              "25%                        0.000000            0.000000   \n",
              "50%                        1.000000            0.000000   \n",
              "75%                        1.000000            0.000000   \n",
              "max                        1.000000            1.000000   \n",
              "\n",
              "       superfund-right-to-sue       crime  duty-free-exports  \\\n",
              "count              252.000000  257.000000         251.000000   \n",
              "mean                 0.289683    0.350195           0.637450   \n",
              "std                  0.454518    0.477962           0.481697   \n",
              "min                  0.000000    0.000000           0.000000   \n",
              "25%                  0.000000    0.000000           0.000000   \n",
              "50%                  0.000000    0.000000           1.000000   \n",
              "75%                  1.000000    1.000000           1.000000   \n",
              "max                  1.000000    1.000000           1.000000   \n",
              "\n",
              "       export-administration-act-south-africa  \n",
              "count                              185.000000  \n",
              "mean                                 0.935135  \n",
              "std                                  0.246956  \n",
              "min                                  0.000000  \n",
              "25%                                  1.000000  \n",
              "50%                                  1.000000  \n",
              "75%                                  1.000000  \n",
              "max                                  1.000000  "
            ]
          },
          "metadata": {
            "tags": []
          },
          "execution_count": 41
        }
      ]
    },
    {
      "metadata": {
        "id": "CRDM9sNwciS8",
        "colab_type": "code",
        "colab": {
          "base_uri": "https://localhost:8080/",
          "height": 545
        },
        "outputId": "600cf275-9634-4b2f-cdd6-8e1df68e55a7"
      },
      "cell_type": "code",
      "source": [
        "summary = congress.pivot_table(index='Class Name', values=(list(congress.columns)))\n",
        "summary.head().T"
      ],
      "execution_count": 42,
      "outputs": [
        {
          "output_type": "execute_result",
          "data": {
            "text/html": [
              "<div>\n",
              "<style scoped>\n",
              "    .dataframe tbody tr th:only-of-type {\n",
              "        vertical-align: middle;\n",
              "    }\n",
              "\n",
              "    .dataframe tbody tr th {\n",
              "        vertical-align: top;\n",
              "    }\n",
              "\n",
              "    .dataframe thead th {\n",
              "        text-align: right;\n",
              "    }\n",
              "</style>\n",
              "<table border=\"1\" class=\"dataframe\">\n",
              "  <thead>\n",
              "    <tr style=\"text-align: right;\">\n",
              "      <th>Class Name</th>\n",
              "      <th>democrat</th>\n",
              "      <th>republican</th>\n",
              "    </tr>\n",
              "  </thead>\n",
              "  <tbody>\n",
              "    <tr>\n",
              "      <th>adoption-of-the-budget-resolution</th>\n",
              "      <td>0.888462</td>\n",
              "      <td>0.134146</td>\n",
              "    </tr>\n",
              "    <tr>\n",
              "      <th>aid-to-nicaraguan-contras</th>\n",
              "      <td>0.828897</td>\n",
              "      <td>0.152866</td>\n",
              "    </tr>\n",
              "    <tr>\n",
              "      <th>anti-satellite-test-ban</th>\n",
              "      <td>0.772201</td>\n",
              "      <td>0.240741</td>\n",
              "    </tr>\n",
              "    <tr>\n",
              "      <th>crime</th>\n",
              "      <td>0.350195</td>\n",
              "      <td>0.981366</td>\n",
              "    </tr>\n",
              "    <tr>\n",
              "      <th>duty-free-exports</th>\n",
              "      <td>0.637450</td>\n",
              "      <td>0.089744</td>\n",
              "    </tr>\n",
              "    <tr>\n",
              "      <th>education-spending</th>\n",
              "      <td>0.144578</td>\n",
              "      <td>0.870968</td>\n",
              "    </tr>\n",
              "    <tr>\n",
              "      <th>el-salvador-aid</th>\n",
              "      <td>0.215686</td>\n",
              "      <td>0.951515</td>\n",
              "    </tr>\n",
              "    <tr>\n",
              "      <th>export-administration-act-south-africa</th>\n",
              "      <td>0.935135</td>\n",
              "      <td>0.657534</td>\n",
              "    </tr>\n",
              "    <tr>\n",
              "      <th>handicapped-infants</th>\n",
              "      <td>0.604651</td>\n",
              "      <td>0.187879</td>\n",
              "    </tr>\n",
              "    <tr>\n",
              "      <th>immigration</th>\n",
              "      <td>0.471483</td>\n",
              "      <td>0.557576</td>\n",
              "    </tr>\n",
              "    <tr>\n",
              "      <th>mx-missile</th>\n",
              "      <td>0.758065</td>\n",
              "      <td>0.115152</td>\n",
              "    </tr>\n",
              "    <tr>\n",
              "      <th>physician-fee-freeze</th>\n",
              "      <td>0.054054</td>\n",
              "      <td>0.987879</td>\n",
              "    </tr>\n",
              "    <tr>\n",
              "      <th>religious-groups-in-schools</th>\n",
              "      <td>0.476744</td>\n",
              "      <td>0.897590</td>\n",
              "    </tr>\n",
              "    <tr>\n",
              "      <th>superfund-right-to-sue</th>\n",
              "      <td>0.289683</td>\n",
              "      <td>0.860759</td>\n",
              "    </tr>\n",
              "    <tr>\n",
              "      <th>synfuels-corporation-cutback</th>\n",
              "      <td>0.505882</td>\n",
              "      <td>0.132075</td>\n",
              "    </tr>\n",
              "    <tr>\n",
              "      <th>water-project-cost-sharing</th>\n",
              "      <td>0.502092</td>\n",
              "      <td>0.506757</td>\n",
              "    </tr>\n",
              "  </tbody>\n",
              "</table>\n",
              "</div>"
            ],
            "text/plain": [
              "Class Name                              democrat  republican\n",
              "adoption-of-the-budget-resolution       0.888462    0.134146\n",
              "aid-to-nicaraguan-contras               0.828897    0.152866\n",
              "anti-satellite-test-ban                 0.772201    0.240741\n",
              "crime                                   0.350195    0.981366\n",
              "duty-free-exports                       0.637450    0.089744\n",
              "education-spending                      0.144578    0.870968\n",
              "el-salvador-aid                         0.215686    0.951515\n",
              "export-administration-act-south-africa  0.935135    0.657534\n",
              "handicapped-infants                     0.604651    0.187879\n",
              "immigration                             0.471483    0.557576\n",
              "mx-missile                              0.758065    0.115152\n",
              "physician-fee-freeze                    0.054054    0.987879\n",
              "religious-groups-in-schools             0.476744    0.897590\n",
              "superfund-right-to-sue                  0.289683    0.860759\n",
              "synfuels-corporation-cutback            0.505882    0.132075\n",
              "water-project-cost-sharing              0.502092    0.506757"
            ]
          },
          "metadata": {
            "tags": []
          },
          "execution_count": 42
        }
      ]
    },
    {
      "metadata": {
        "id": "yOvE3YCEJIe_",
        "colab_type": "text"
      },
      "cell_type": "markdown",
      "source": [
        "**Using hypothesis testing, find an issue that democrats support more than republicans with p < 0.01**"
      ]
    },
    {
      "metadata": {
        "id": "CFMEOpj8JV80",
        "colab_type": "code",
        "colab": {
          "base_uri": "https://localhost:8080/",
          "height": 34
        },
        "outputId": "3c2d623e-c1a0-4fac-a40f-aa7290fc0354"
      },
      "cell_type": "code",
      "source": [
        "scipy.stats.ttest_ind(dem['aid-to-nicaraguan-contras'],rep['aid-to-nicaraguan-contras'],nan_policy='omit', equal_var=False)"
      ],
      "execution_count": 43,
      "outputs": [
        {
          "output_type": "execute_result",
          "data": {
            "text/plain": [
              "Ttest_indResult(statistic=18.254856278479288, pvalue=2.2881206640097267e-52)"
            ]
          },
          "metadata": {
            "tags": []
          },
          "execution_count": 43
        }
      ]
    },
    {
      "metadata": {
        "id": "NDe6WKlFJPHz",
        "colab_type": "text"
      },
      "cell_type": "markdown",
      "source": [
        "**Using hypothesis testing, find an issue that republicans support more than democrats with p < 0.01**"
      ]
    },
    {
      "metadata": {
        "id": "gNmnPq2NJUlT",
        "colab_type": "code",
        "colab": {
          "base_uri": "https://localhost:8080/",
          "height": 34
        },
        "outputId": "62472e47-4e1f-44c2-9079-4b6b7ded5ce6"
      },
      "cell_type": "code",
      "source": [
        "scipy.stats.ttest_ind(dem['religious-groups-in-schools'],rep['religious-groups-in-schools'],nan_policy='omit', equal_var=False)"
      ],
      "execution_count": 44,
      "outputs": [
        {
          "output_type": "execute_result",
          "data": {
            "text/plain": [
              "Ttest_indResult(statistic=-10.767024944451316, pvalue=4.830931857697702e-24)"
            ]
          },
          "metadata": {
            "tags": []
          },
          "execution_count": 44
        }
      ]
    },
    {
      "metadata": {
        "id": "K0AABvErJVMf",
        "colab_type": "text"
      },
      "cell_type": "markdown",
      "source": [
        "**Using hypothesis testing, find an issue where the difference between republicans and democrats has p > 0.1 (i.e. there may not be much of a difference)**"
      ]
    },
    {
      "metadata": {
        "id": "BmeODmWrht5r",
        "colab_type": "code",
        "colab": {
          "base_uri": "https://localhost:8080/",
          "height": 34
        },
        "outputId": "85d492b5-4f70-4e40-85e8-a2b5a7f8290d"
      },
      "cell_type": "code",
      "source": [
        "scipy.stats.ttest_ind(dem['water-project-cost-sharing'],rep['water-project-cost-sharing'],nan_policy='omit', equal_var=False)"
      ],
      "execution_count": 45,
      "outputs": [
        {
          "output_type": "execute_result",
          "data": {
            "text/plain": [
              "Ttest_indResult(statistic=-0.08893998898558053, pvalue=0.9291867875225105)"
            ]
          },
          "metadata": {
            "tags": []
          },
          "execution_count": 45
        }
      ]
    },
    {
      "metadata": {
        "id": "wiq83guLcuAE",
        "colab_type": "text"
      },
      "cell_type": "markdown",
      "source": [
        "# Resources\n",
        "\n",
        "- https://homepage.divms.uiowa.edu/~mbognar/applets/t.html\n",
        "- https://rpsychologist.com/d3/tdist/\n",
        "- https://gallery.shinyapps.io/tdist/\n",
        "- https://en.wikipedia.org/wiki/Standard_deviation#Sample_standard_deviation_of_metabolic_rate_of_northern_fulmars"
      ]
    }
  ]
}