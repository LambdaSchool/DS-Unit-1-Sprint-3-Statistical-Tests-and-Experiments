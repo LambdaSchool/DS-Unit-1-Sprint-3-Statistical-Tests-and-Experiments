{
  "nbformat": 4,
  "nbformat_minor": 0,
  "metadata": {
    "colab": {
      "name": "LS DS 141 Statistics Probability and Inference.ipynb",
      "version": "0.3.2",
      "provenance": [],
      "include_colab_link": true
    },
    "kernelspec": {
      "name": "python3",
      "display_name": "Python 3"
    }
  },
  "cells": [
    {
      "cell_type": "markdown",
      "metadata": {
        "id": "view-in-github",
        "colab_type": "text"
      },
      "source": [
        "<a href=\"https://colab.research.google.com/github/invegat/DS-Unit-1-Sprint-4-Statistical-Tests-and-Experiments/blob/master/module1-statistics-probability-and-inference/LS_DS_141_Statistics_Probability_and_Inference.ipynb\" target=\"_parent\"><img src=\"https://colab.research.google.com/assets/colab-badge.svg\" alt=\"Open In Colab\"/></a>"
      ]
    },
    {
      "metadata": {
        "id": "eJGtmni-DezY",
        "colab_type": "text"
      },
      "cell_type": "markdown",
      "source": [
        "# Lambda School Data Science Module 141\n",
        "## Statistics, Probability, and Inference"
      ]
    },
    {
      "metadata": {
        "id": "FMhDKOFND0qY",
        "colab_type": "text"
      },
      "cell_type": "markdown",
      "source": [
        "## Prepare - examine what's available in SciPy\n",
        "\n",
        "As we delve into statistics, we'll be using more libraries - in particular the [stats package from SciPy](https://docs.scipy.org/doc/scipy/reference/tutorial/stats.html)."
      ]
    },
    {
      "metadata": {
        "id": "fQ9rkLJmEbsk",
        "colab_type": "code",
        "outputId": "e1a5e281-08a8-40fa-94dd-e2fa4474872a",
        "colab": {
          "base_uri": "https://localhost:8080/",
          "height": 4357
        }
      },
      "cell_type": "code",
      "source": [
        "from scipy import stats\n",
        "dir(stats)"
      ],
      "execution_count": 74,
      "outputs": [
        {
          "output_type": "execute_result",
          "data": {
            "text/plain": [
              "['__all__',\n",
              " '__builtins__',\n",
              " '__cached__',\n",
              " '__doc__',\n",
              " '__file__',\n",
              " '__loader__',\n",
              " '__name__',\n",
              " '__package__',\n",
              " '__path__',\n",
              " '__spec__',\n",
              " '_binned_statistic',\n",
              " '_constants',\n",
              " '_continuous_distns',\n",
              " '_discrete_distns',\n",
              " '_distn_infrastructure',\n",
              " '_distr_params',\n",
              " '_multivariate',\n",
              " '_stats',\n",
              " '_stats_mstats_common',\n",
              " '_tukeylambda_stats',\n",
              " 'absolute_import',\n",
              " 'alpha',\n",
              " 'anderson',\n",
              " 'anderson_ksamp',\n",
              " 'anglit',\n",
              " 'ansari',\n",
              " 'arcsine',\n",
              " 'argus',\n",
              " 'bartlett',\n",
              " 'bayes_mvs',\n",
              " 'bernoulli',\n",
              " 'beta',\n",
              " 'betaprime',\n",
              " 'binned_statistic',\n",
              " 'binned_statistic_2d',\n",
              " 'binned_statistic_dd',\n",
              " 'binom',\n",
              " 'binom_test',\n",
              " 'boltzmann',\n",
              " 'boxcox',\n",
              " 'boxcox_llf',\n",
              " 'boxcox_normmax',\n",
              " 'boxcox_normplot',\n",
              " 'bradford',\n",
              " 'burr',\n",
              " 'burr12',\n",
              " 'cauchy',\n",
              " 'chi',\n",
              " 'chi2',\n",
              " 'chi2_contingency',\n",
              " 'chisquare',\n",
              " 'circmean',\n",
              " 'circstd',\n",
              " 'circvar',\n",
              " 'combine_pvalues',\n",
              " 'contingency',\n",
              " 'cosine',\n",
              " 'crystalball',\n",
              " 'cumfreq',\n",
              " 'describe',\n",
              " 'dgamma',\n",
              " 'dirichlet',\n",
              " 'distributions',\n",
              " 'division',\n",
              " 'dlaplace',\n",
              " 'dweibull',\n",
              " 'energy_distance',\n",
              " 'entropy',\n",
              " 'erlang',\n",
              " 'expon',\n",
              " 'exponnorm',\n",
              " 'exponpow',\n",
              " 'exponweib',\n",
              " 'f',\n",
              " 'f_oneway',\n",
              " 'fatiguelife',\n",
              " 'find_repeats',\n",
              " 'fisher_exact',\n",
              " 'fisk',\n",
              " 'fligner',\n",
              " 'foldcauchy',\n",
              " 'foldnorm',\n",
              " 'frechet_l',\n",
              " 'frechet_r',\n",
              " 'friedmanchisquare',\n",
              " 'gamma',\n",
              " 'gausshyper',\n",
              " 'gaussian_kde',\n",
              " 'genexpon',\n",
              " 'genextreme',\n",
              " 'gengamma',\n",
              " 'genhalflogistic',\n",
              " 'genlogistic',\n",
              " 'gennorm',\n",
              " 'genpareto',\n",
              " 'geom',\n",
              " 'gilbrat',\n",
              " 'gmean',\n",
              " 'gompertz',\n",
              " 'gumbel_l',\n",
              " 'gumbel_r',\n",
              " 'halfcauchy',\n",
              " 'halfgennorm',\n",
              " 'halflogistic',\n",
              " 'halfnorm',\n",
              " 'hmean',\n",
              " 'hypergeom',\n",
              " 'hypsecant',\n",
              " 'invgamma',\n",
              " 'invgauss',\n",
              " 'invweibull',\n",
              " 'invwishart',\n",
              " 'iqr',\n",
              " 'itemfreq',\n",
              " 'jarque_bera',\n",
              " 'johnsonsb',\n",
              " 'johnsonsu',\n",
              " 'kappa3',\n",
              " 'kappa4',\n",
              " 'kde',\n",
              " 'kendalltau',\n",
              " 'kruskal',\n",
              " 'ks_2samp',\n",
              " 'ksone',\n",
              " 'kstat',\n",
              " 'kstatvar',\n",
              " 'kstest',\n",
              " 'kstwobign',\n",
              " 'kurtosis',\n",
              " 'kurtosistest',\n",
              " 'laplace',\n",
              " 'levene',\n",
              " 'levy',\n",
              " 'levy_l',\n",
              " 'levy_stable',\n",
              " 'linregress',\n",
              " 'loggamma',\n",
              " 'logistic',\n",
              " 'loglaplace',\n",
              " 'lognorm',\n",
              " 'logser',\n",
              " 'lomax',\n",
              " 'mannwhitneyu',\n",
              " 'matrix_normal',\n",
              " 'maxwell',\n",
              " 'median_test',\n",
              " 'mielke',\n",
              " 'mode',\n",
              " 'moment',\n",
              " 'mood',\n",
              " 'morestats',\n",
              " 'moyal',\n",
              " 'mstats',\n",
              " 'mstats_basic',\n",
              " 'mstats_extras',\n",
              " 'multinomial',\n",
              " 'multivariate_normal',\n",
              " 'mvn',\n",
              " 'mvsdist',\n",
              " 'nakagami',\n",
              " 'nbinom',\n",
              " 'ncf',\n",
              " 'nct',\n",
              " 'ncx2',\n",
              " 'norm',\n",
              " 'normaltest',\n",
              " 'norminvgauss',\n",
              " 'obrientransform',\n",
              " 'ortho_group',\n",
              " 'pareto',\n",
              " 'pearson3',\n",
              " 'pearsonr',\n",
              " 'percentileofscore',\n",
              " 'planck',\n",
              " 'pointbiserialr',\n",
              " 'poisson',\n",
              " 'power_divergence',\n",
              " 'powerlaw',\n",
              " 'powerlognorm',\n",
              " 'powernorm',\n",
              " 'ppcc_max',\n",
              " 'ppcc_plot',\n",
              " 'print_function',\n",
              " 'probplot',\n",
              " 'randint',\n",
              " 'random_correlation',\n",
              " 'rankdata',\n",
              " 'ranksums',\n",
              " 'rayleigh',\n",
              " 'rdist',\n",
              " 'recipinvgauss',\n",
              " 'reciprocal',\n",
              " 'relfreq',\n",
              " 'rice',\n",
              " 'rv_continuous',\n",
              " 'rv_discrete',\n",
              " 'rv_histogram',\n",
              " 'scoreatpercentile',\n",
              " 'sem',\n",
              " 'semicircular',\n",
              " 'shapiro',\n",
              " 'sigmaclip',\n",
              " 'skellam',\n",
              " 'skew',\n",
              " 'skewnorm',\n",
              " 'skewtest',\n",
              " 'spearmanr',\n",
              " 'special_ortho_group',\n",
              " 'statlib',\n",
              " 'stats',\n",
              " 't',\n",
              " 'test',\n",
              " 'theilslopes',\n",
              " 'tiecorrect',\n",
              " 'tmax',\n",
              " 'tmean',\n",
              " 'tmin',\n",
              " 'trapz',\n",
              " 'triang',\n",
              " 'trim1',\n",
              " 'trim_mean',\n",
              " 'trimboth',\n",
              " 'truncexpon',\n",
              " 'truncnorm',\n",
              " 'tsem',\n",
              " 'tstd',\n",
              " 'ttest_1samp',\n",
              " 'ttest_ind',\n",
              " 'ttest_ind_from_stats',\n",
              " 'ttest_rel',\n",
              " 'tukeylambda',\n",
              " 'tvar',\n",
              " 'uniform',\n",
              " 'unitary_group',\n",
              " 'variation',\n",
              " 'vonmises',\n",
              " 'vonmises_line',\n",
              " 'wald',\n",
              " 'wasserstein_distance',\n",
              " 'weibull_max',\n",
              " 'weibull_min',\n",
              " 'weightedtau',\n",
              " 'wilcoxon',\n",
              " 'wishart',\n",
              " 'wrapcauchy',\n",
              " 'zipf',\n",
              " 'zmap',\n",
              " 'zscore']"
            ]
          },
          "metadata": {
            "tags": []
          },
          "execution_count": 74
        }
      ]
    },
    {
      "metadata": {
        "id": "L8gL5wq2lrRF",
        "colab_type": "code",
        "colab": {}
      },
      "cell_type": "code",
      "source": [
        ""
      ],
      "execution_count": 0,
      "outputs": []
    },
    {
      "metadata": {
        "id": "bxW4SG_gJGlZ",
        "colab_type": "code",
        "outputId": "bb3ff1e4-4120-4926-edb4-a078ba6327bb",
        "colab": {
          "base_uri": "https://localhost:8080/",
          "height": 69
        }
      },
      "cell_type": "code",
      "source": [
        "# As usual, lots of stuff here! There's our friend, the normal distribution\n",
        "norm = stats.norm()\n",
        "print(norm.mean())\n",
        "print(norm.std())\n",
        "print(norm.var())"
      ],
      "execution_count": 75,
      "outputs": [
        {
          "output_type": "stream",
          "text": [
            "0.0\n",
            "1.0\n",
            "1.0\n"
          ],
          "name": "stdout"
        }
      ]
    },
    {
      "metadata": {
        "id": "RyNKPt_tJk86",
        "colab_type": "code",
        "outputId": "f788925f-4c05-4d09-a4e9-2e0721bdf526",
        "colab": {
          "base_uri": "https://localhost:8080/",
          "height": 69
        }
      },
      "cell_type": "code",
      "source": [
        "# And a new friend - t\n",
        "t1 = stats.t(5)  # 5 is df \"shape\" parameter\n",
        "print(t1.mean())\n",
        "print(t1.std())\n",
        "print(t1.var())"
      ],
      "execution_count": 76,
      "outputs": [
        {
          "output_type": "stream",
          "text": [
            "0.0\n",
            "1.2909944487358056\n",
            "1.6666666666666667\n"
          ],
          "name": "stdout"
        }
      ]
    },
    {
      "metadata": {
        "id": "SRn1zMuaKgxX",
        "colab_type": "text"
      },
      "cell_type": "markdown",
      "source": [
        "![T distribution PDF with different shape parameters](https://upload.wikimedia.org/wikipedia/commons/4/41/Student_t_pdf.svg)\n",
        "\n",
        "*(Picture from [Wikipedia](https://en.wikipedia.org/wiki/Student's_t-distribution#/media/File:Student_t_pdf.svg))*\n",
        "\n",
        "The t-distribution is \"normal-ish\" - the larger the parameter (which reflects its degrees of freedom - more input data/features will increase it), the closer to true normal."
      ]
    },
    {
      "metadata": {
        "id": "seQv5unnJvpM",
        "colab_type": "code",
        "outputId": "90c892b5-b55a-4192-cf9e-628d2dd98d9d",
        "colab": {
          "base_uri": "https://localhost:8080/",
          "height": 69
        }
      },
      "cell_type": "code",
      "source": [
        "t2 = stats.t(30)  # Will be closer to normal\n",
        "print(t2.mean())\n",
        "print(t2.std())\n",
        "print(t2.var())"
      ],
      "execution_count": 77,
      "outputs": [
        {
          "output_type": "stream",
          "text": [
            "0.0\n",
            "1.0350983390135313\n",
            "1.0714285714285714\n"
          ],
          "name": "stdout"
        }
      ]
    },
    {
      "metadata": {
        "id": "FOvEGMysLaE2",
        "colab_type": "text"
      },
      "cell_type": "markdown",
      "source": [
        "Why is it different from normal? To better reflect the tendencies of small data and situations with unknown population standard deviation. In other words, the normal distribution is still the nice pure ideal in the limit (thanks to the central limit theorem), but the t-distribution is much more useful in many real-world situations.\n",
        "\n",
        "History sidenote - this is \"Student\":\n",
        "\n",
        "![William Sealy Gosset](https://upload.wikimedia.org/wikipedia/commons/4/42/William_Sealy_Gosset.jpg)\n",
        "\n",
        "*(Picture from [Wikipedia](https://en.wikipedia.org/wiki/File:William_Sealy_Gosset.jpg))*\n",
        "\n",
        "His real name is William Sealy Gosset, and he published under the pen name \"Student\" because he was not an academic. He was a brewer, working at Guinness and using trial and error to determine the best ways to yield barley. He's also proof that, even 100 years ago, you don't need official credentials to do real data science!"
      ]
    },
    {
      "metadata": {
        "id": "1yx_QilAEC6o",
        "colab_type": "text"
      },
      "cell_type": "markdown",
      "source": [
        "## Live Lecture - let's perform and interpret a t-test\n",
        "\n",
        "We'll generate our own data, so we can know and alter the \"ground truth\" that the t-test should find. We will learn about p-values and how to interpret \"statistical significance\" based on the output of a hypothesis test."
      ]
    },
    {
      "metadata": {
        "id": "YhyIbJJGQbEh",
        "colab_type": "code",
        "colab": {
          "base_uri": "https://localhost:8080/",
          "height": 297
        },
        "outputId": "bab39e5f-3ae4-42c5-d5ca-7da987eaa947"
      },
      "cell_type": "code",
      "source": [
        "# TODO - during class, but please help!\n",
        "survey_data = [0, 1, 0, 1, 0, 0, 0, 1, 1, 0, 0, 1, 1, 1, 1, 1, 1, 1,\n",
        "               0, 0, 1, 1, 1, 1, 1, 1, 1, 1, 1, 0, 1, 1, 1, 1, 1, 1,\n",
        "               1, 0, 1, 0, 1, 1, 0, 1, 0, 1, 1, 0, 0, 0]\n",
        "\n",
        "import numpy as np\n",
        "import pandas as pd\n",
        "\n",
        "df = pd.DataFrame(survey_data)\n",
        "df.describe()"
      ],
      "execution_count": 78,
      "outputs": [
        {
          "output_type": "execute_result",
          "data": {
            "text/html": [
              "<div>\n",
              "<style scoped>\n",
              "    .dataframe tbody tr th:only-of-type {\n",
              "        vertical-align: middle;\n",
              "    }\n",
              "\n",
              "    .dataframe tbody tr th {\n",
              "        vertical-align: top;\n",
              "    }\n",
              "\n",
              "    .dataframe thead th {\n",
              "        text-align: right;\n",
              "    }\n",
              "</style>\n",
              "<table border=\"1\" class=\"dataframe\">\n",
              "  <thead>\n",
              "    <tr style=\"text-align: right;\">\n",
              "      <th></th>\n",
              "      <th>0</th>\n",
              "    </tr>\n",
              "  </thead>\n",
              "  <tbody>\n",
              "    <tr>\n",
              "      <th>count</th>\n",
              "      <td>50.000000</td>\n",
              "    </tr>\n",
              "    <tr>\n",
              "      <th>mean</th>\n",
              "      <td>0.660000</td>\n",
              "    </tr>\n",
              "    <tr>\n",
              "      <th>std</th>\n",
              "      <td>0.478518</td>\n",
              "    </tr>\n",
              "    <tr>\n",
              "      <th>min</th>\n",
              "      <td>0.000000</td>\n",
              "    </tr>\n",
              "    <tr>\n",
              "      <th>25%</th>\n",
              "      <td>0.000000</td>\n",
              "    </tr>\n",
              "    <tr>\n",
              "      <th>50%</th>\n",
              "      <td>1.000000</td>\n",
              "    </tr>\n",
              "    <tr>\n",
              "      <th>75%</th>\n",
              "      <td>1.000000</td>\n",
              "    </tr>\n",
              "    <tr>\n",
              "      <th>max</th>\n",
              "      <td>1.000000</td>\n",
              "    </tr>\n",
              "  </tbody>\n",
              "</table>\n",
              "</div>"
            ],
            "text/plain": [
              "               0\n",
              "count  50.000000\n",
              "mean    0.660000\n",
              "std     0.478518\n",
              "min     0.000000\n",
              "25%     0.000000\n",
              "50%     1.000000\n",
              "75%     1.000000\n",
              "max     1.000000"
            ]
          },
          "metadata": {
            "tags": []
          },
          "execution_count": 78
        }
      ]
    },
    {
      "metadata": {
        "id": "tvU7wyqgQjVV",
        "colab_type": "code",
        "colab": {
          "base_uri": "https://localhost:8080/",
          "height": 364
        },
        "outputId": "48b3993a-d9b1-4941-a25a-6a59673fb02b"
      },
      "cell_type": "code",
      "source": [
        "df.plot.hist()"
      ],
      "execution_count": 79,
      "outputs": [
        {
          "output_type": "execute_result",
          "data": {
            "text/plain": [
              "<matplotlib.axes._subplots.AxesSubplot at 0x7f41cc1f9940>"
            ]
          },
          "metadata": {
            "tags": []
          },
          "execution_count": 79
        },
        {
          "output_type": "display_data",
          "data": {
            "image/png": "[encoded data removed]",
            "text/plain": [
              "<matplotlib.figure.Figure at 0x7f41cc1faa20>"
            ]
          },
          "metadata": {
            "tags": []
          }
        }
      ]
    },
    {
      "metadata": {
        "id": "28LLGr9MQoTe",
        "colab_type": "code",
        "colab": {
          "base_uri": "https://localhost:8080/",
          "height": 34
        },
        "outputId": "f48b47df-5a63-4462-e00d-a4b8c1cce722"
      },
      "cell_type": "code",
      "source": [
        "# Now with confidence!\n",
        "\n",
        "import scipy\n",
        "scipy.stats.ttest_1samp(survey_data, 0.5)"
      ],
      "execution_count": 80,
      "outputs": [
        {
          "output_type": "execute_result",
          "data": {
            "text/plain": [
              "Ttest_1sampResult(statistic=2.364321853156195, pvalue=0.02207003200903075)"
            ]
          },
          "metadata": {
            "tags": []
          },
          "execution_count": 80
        }
      ]
    },
    {
      "metadata": {
        "id": "gEdBiOoIQt8L",
        "colab_type": "code",
        "colab": {
          "base_uri": "https://localhost:8080/",
          "height": 52
        },
        "outputId": "ae2bde57-37bb-48fb-8463-8a98a05e6ba5"
      },
      "cell_type": "code",
      "source": [
        "# the t-statistic is the ratio of the departure of the estimated value of  a\n",
        "# parameter from its hypothesized value to its standard error\n",
        "\n",
        "stderr = 0.478518\n",
        "sample_mean = 0.660000\n",
        "# We want to calculate: tstat = 2.364321853156195\n",
        "# the t-statistic is the ratio of the departure of the estimated value of  a\n",
        "# parameter from its hypothesized value to its standard error\n",
        "\n",
        "stderr = 0.478518\n",
        "sample_mean = 0.660000\n",
        "# We want to calculate: tstat = 2.364321853156195\n",
        "(df.mean() - 0.5) / (df.std() * 50**(0.5))\n",
        "# print(f\"t value {(df.mean() - 0.5) / (df.std() * 50**(0.5))}\")\n"
      ],
      "execution_count": 81,
      "outputs": [
        {
          "output_type": "execute_result",
          "data": {
            "text/plain": [
              "0    0.047286\n",
              "dtype: float64"
            ]
          },
          "metadata": {
            "tags": []
          },
          "execution_count": 81
        }
      ]
    },
    {
      "metadata": {
        "id": "BuysRPs-Ed0v",
        "colab_type": "code",
        "colab": {}
      },
      "cell_type": "code",
      "source": [
        "# TODO - during class, but please help!"
      ],
      "execution_count": 0,
      "outputs": []
    },
    {
      "metadata": {
        "id": "egXb7YpqEcZF",
        "colab_type": "text"
      },
      "cell_type": "markdown",
      "source": [
        "## Assignment - apply the t-test to real data\n",
        "\n",
        "Your assignment is to determine which issues have \"statistically significant\" differences between political parties in this [1980s congressional voting data](https://archive.ics.uci.edu/ml/datasets/Congressional+Voting+Records). The data consists of 435 instances (one for each congressperson), a class (democrat or republican), and 16 binary attributes (yes or no for voting for or against certain issues). Be aware - there are missing values!\n",
        "\n",
        "Your goals:\n",
        "\n",
        "1. Load and clean the data (or determine the best method to drop observations when running tests)\n",
        "2. Using hypothesis testing, find an issue that democrats support more than republicans with p < 0.01\n",
        "3. Using hypothesis testing, find an issue that republicans support more than democrats with p < 0.01\n",
        "4. Using hypothesis testing, find an issue where the difference between republicans and democrats has p > 0.1 (i.e. there may not be much of a difference)\n",
        "\n",
        "Note that this data will involve *2 sample* t-tests, because you're comparing averages across two groups (republicans and democrats) rather than a single group against a null hypothesis.\n",
        "\n",
        "Stretch goals:\n",
        "\n",
        "1. Refactor your code into functions so it's easy to rerun with arbitrary variables\n",
        "2. Apply hypothesis testing to your personal project data (for the purposes of this notebook you can type a summary of the hypothesis you formed and tested)"
      ]
    },
    {
      "metadata": {
        "id": "nstrmCG-Ecyk",
        "colab_type": "code",
        "colab": {
          "base_uri": "https://localhost:8080/",
          "height": 204
        },
        "outputId": "43320cec-1bb9-4ab9-f880-094eb1687e12"
      },
      "cell_type": "code",
      "source": [
        "import regex\n",
        "from requests import get\n",
        "from contextlib import closing\n",
        "import pandas as pd\n",
        "df_url = 'https://archive.ics.uci.edu/ml/machine-learning-databases/voting-records/house-votes-84.data'\n",
        "column_names_url= 'https://archive.ics.uci.edu/ml/machine-learning-databases/voting-records/house-votes-84.names'\n",
        "text = None\n",
        "with closing(get(column_names_url, stream=True)) as resp:\n",
        "  text = resp.content.decode('UTF-8')\n",
        "\n",
        "stext = \"Attribute Information:\\n\"\n",
        "etext = \"\\n\\n8. Missing Attribute Values\"\n",
        "\n",
        "ctext = text[text.index(stext)+len(stext):text.index(etext)]\n",
        "r = regex.compile(r\"(?<=\\d{1,2}\\.\\s+)(\\w+)\")\n",
        "df = pd.read_csv(df_url, header=None, names=[name for name in r.findall(ctext)])\n",
        "df.head()"
      ],
      "execution_count": 83,
      "outputs": [
        {
          "output_type": "execute_result",
          "data": {
            "text/html": [
              "<div>\n",
              "<style scoped>\n",
              "    .dataframe tbody tr th:only-of-type {\n",
              "        vertical-align: middle;\n",
              "    }\n",
              "\n",
              "    .dataframe tbody tr th {\n",
              "        vertical-align: top;\n",
              "    }\n",
              "\n",
              "    .dataframe thead th {\n",
              "        text-align: right;\n",
              "    }\n",
              "</style>\n",
              "<table border=\"1\" class=\"dataframe\">\n",
              "  <thead>\n",
              "    <tr style=\"text-align: right;\">\n",
              "      <th></th>\n",
              "      <th>Class</th>\n",
              "      <th>handicapped</th>\n",
              "      <th>water</th>\n",
              "      <th>adoption</th>\n",
              "      <th>physician</th>\n",
              "      <th>el</th>\n",
              "      <th>religious</th>\n",
              "      <th>anti</th>\n",
              "      <th>aid</th>\n",
              "      <th>mx</th>\n",
              "      <th>immigration</th>\n",
              "      <th>synfuels</th>\n",
              "      <th>education</th>\n",
              "      <th>superfund</th>\n",
              "      <th>crime</th>\n",
              "      <th>duty</th>\n",
              "      <th>export</th>\n",
              "    </tr>\n",
              "  </thead>\n",
              "  <tbody>\n",
              "    <tr>\n",
              "      <th>0</th>\n",
              "      <td>republican</td>\n",
              "      <td>n</td>\n",
              "      <td>y</td>\n",
              "      <td>n</td>\n",
              "      <td>y</td>\n",
              "      <td>y</td>\n",
              "      <td>y</td>\n",
              "      <td>n</td>\n",
              "      <td>n</td>\n",
              "      <td>n</td>\n",
              "      <td>y</td>\n",
              "      <td>?</td>\n",
              "      <td>y</td>\n",
              "      <td>y</td>\n",
              "      <td>y</td>\n",
              "      <td>n</td>\n",
              "      <td>y</td>\n",
              "    </tr>\n",
              "    <tr>\n",
              "      <th>1</th>\n",
              "      <td>republican</td>\n",
              "      <td>n</td>\n",
              "      <td>y</td>\n",
              "      <td>n</td>\n",
              "      <td>y</td>\n",
              "      <td>y</td>\n",
              "      <td>y</td>\n",
              "      <td>n</td>\n",
              "      <td>n</td>\n",
              "      <td>n</td>\n",
              "      <td>n</td>\n",
              "      <td>n</td>\n",
              "      <td>y</td>\n",
              "      <td>y</td>\n",
              "      <td>y</td>\n",
              "      <td>n</td>\n",
              "      <td>?</td>\n",
              "    </tr>\n",
              "    <tr>\n",
              "      <th>2</th>\n",
              "      <td>democrat</td>\n",
              "      <td>?</td>\n",
              "      <td>y</td>\n",
              "      <td>y</td>\n",
              "      <td>?</td>\n",
              "      <td>y</td>\n",
              "      <td>y</td>\n",
              "      <td>n</td>\n",
              "      <td>n</td>\n",
              "      <td>n</td>\n",
              "      <td>n</td>\n",
              "      <td>y</td>\n",
              "      <td>n</td>\n",
              "      <td>y</td>\n",
              "      <td>y</td>\n",
              "      <td>n</td>\n",
              "      <td>n</td>\n",
              "    </tr>\n",
              "    <tr>\n",
              "      <th>3</th>\n",
              "      <td>democrat</td>\n",
              "      <td>n</td>\n",
              "      <td>y</td>\n",
              "      <td>y</td>\n",
              "      <td>n</td>\n",
              "      <td>?</td>\n",
              "      <td>y</td>\n",
              "      <td>n</td>\n",
              "      <td>n</td>\n",
              "      <td>n</td>\n",
              "      <td>n</td>\n",
              "      <td>y</td>\n",
              "      <td>n</td>\n",
              "      <td>y</td>\n",
              "      <td>n</td>\n",
              "      <td>n</td>\n",
              "      <td>y</td>\n",
              "    </tr>\n",
              "    <tr>\n",
              "      <th>4</th>\n",
              "      <td>democrat</td>\n",
              "      <td>y</td>\n",
              "      <td>y</td>\n",
              "      <td>y</td>\n",
              "      <td>n</td>\n",
              "      <td>y</td>\n",
              "      <td>y</td>\n",
              "      <td>n</td>\n",
              "      <td>n</td>\n",
              "      <td>n</td>\n",
              "      <td>n</td>\n",
              "      <td>y</td>\n",
              "      <td>?</td>\n",
              "      <td>y</td>\n",
              "      <td>y</td>\n",
              "      <td>y</td>\n",
              "      <td>y</td>\n",
              "    </tr>\n",
              "  </tbody>\n",
              "</table>\n",
              "</div>"
            ],
            "text/plain": [
              "        Class handicapped water adoption physician el religious anti aid mx  \\\n",
              "0  republican           n     y        n         y  y         y    n   n  n   \n",
              "1  republican           n     y        n         y  y         y    n   n  n   \n",
              "2    democrat           ?     y        y         ?  y         y    n   n  n   \n",
              "3    democrat           n     y        y         n  ?         y    n   n  n   \n",
              "4    democrat           y     y        y         n  y         y    n   n  n   \n",
              "\n",
              "  immigration synfuels education superfund crime duty export  \n",
              "0           y        ?         y         y     y    n      y  \n",
              "1           n        n         y         y     y    n      ?  \n",
              "2           n        y         n         y     y    n      n  \n",
              "3           n        y         n         y     n    n      y  \n",
              "4           n        y         ?         y     y    y      y  "
            ]
          },
          "metadata": {
            "tags": []
          },
          "execution_count": 83
        }
      ]
    },
    {
      "metadata": {
        "id": "ERfRruz9k5OZ",
        "colab_type": "code",
        "colab": {}
      },
      "cell_type": "code",
      "source": [
        "for column in df.columns:\n",
        "  if column == 'Class':\n",
        "    df[column] = [1 if party == 'democrat' else (-1 if party == 'republican' else 0) for party in df[column]]\n",
        "  else:\n",
        "    df[column] = [1 if data == 'y' else (-1 if data == 'n' else 0) for data in df[column]]\n"
      ],
      "execution_count": 0,
      "outputs": []
    },
    {
      "metadata": {
        "id": "nV-e7JCopxRk",
        "colab_type": "code",
        "colab": {}
      },
      "cell_type": "code",
      "source": [
        " df.rename(index=str, columns={\"Class\": \"party\"}, inplace=True)"
      ],
      "execution_count": 0,
      "outputs": []
    },
    {
      "metadata": {
        "id": "Ztbs1W13mTxq",
        "colab_type": "code",
        "colab": {
          "base_uri": "https://localhost:8080/",
          "height": 204
        },
        "outputId": "6fd60dc9-35d3-4be7-fca3-3ee6e32052ba"
      },
      "cell_type": "code",
      "source": [
        "df.head()"
      ],
      "execution_count": 86,
      "outputs": [
        {
          "output_type": "execute_result",
          "data": {
            "text/html": [
              "<div>\n",
              "<style scoped>\n",
              "    .dataframe tbody tr th:only-of-type {\n",
              "        vertical-align: middle;\n",
              "    }\n",
              "\n",
              "    .dataframe tbody tr th {\n",
              "        vertical-align: top;\n",
              "    }\n",
              "\n",
              "    .dataframe thead th {\n",
              "        text-align: right;\n",
              "    }\n",
              "</style>\n",
              "<table border=\"1\" class=\"dataframe\">\n",
              "  <thead>\n",
              "    <tr style=\"text-align: right;\">\n",
              "      <th></th>\n",
              "      <th>party</th>\n",
              "      <th>handicapped</th>\n",
              "      <th>water</th>\n",
              "      <th>adoption</th>\n",
              "      <th>physician</th>\n",
              "      <th>el</th>\n",
              "      <th>religious</th>\n",
              "      <th>anti</th>\n",
              "      <th>aid</th>\n",
              "      <th>mx</th>\n",
              "      <th>immigration</th>\n",
              "      <th>synfuels</th>\n",
              "      <th>education</th>\n",
              "      <th>superfund</th>\n",
              "      <th>crime</th>\n",
              "      <th>duty</th>\n",
              "      <th>export</th>\n",
              "    </tr>\n",
              "  </thead>\n",
              "  <tbody>\n",
              "    <tr>\n",
              "      <th>0</th>\n",
              "      <td>-1</td>\n",
              "      <td>-1</td>\n",
              "      <td>1</td>\n",
              "      <td>-1</td>\n",
              "      <td>1</td>\n",
              "      <td>1</td>\n",
              "      <td>1</td>\n",
              "      <td>-1</td>\n",
              "      <td>-1</td>\n",
              "      <td>-1</td>\n",
              "      <td>1</td>\n",
              "      <td>0</td>\n",
              "      <td>1</td>\n",
              "      <td>1</td>\n",
              "      <td>1</td>\n",
              "      <td>-1</td>\n",
              "      <td>1</td>\n",
              "    </tr>\n",
              "    <tr>\n",
              "      <th>1</th>\n",
              "      <td>-1</td>\n",
              "      <td>-1</td>\n",
              "      <td>1</td>\n",
              "      <td>-1</td>\n",
              "      <td>1</td>\n",
              "      <td>1</td>\n",
              "      <td>1</td>\n",
              "      <td>-1</td>\n",
              "      <td>-1</td>\n",
              "      <td>-1</td>\n",
              "      <td>-1</td>\n",
              "      <td>-1</td>\n",
              "      <td>1</td>\n",
              "      <td>1</td>\n",
              "      <td>1</td>\n",
              "      <td>-1</td>\n",
              "      <td>0</td>\n",
              "    </tr>\n",
              "    <tr>\n",
              "      <th>2</th>\n",
              "      <td>1</td>\n",
              "      <td>0</td>\n",
              "      <td>1</td>\n",
              "      <td>1</td>\n",
              "      <td>0</td>\n",
              "      <td>1</td>\n",
              "      <td>1</td>\n",
              "      <td>-1</td>\n",
              "      <td>-1</td>\n",
              "      <td>-1</td>\n",
              "      <td>-1</td>\n",
              "      <td>1</td>\n",
              "      <td>-1</td>\n",
              "      <td>1</td>\n",
              "      <td>1</td>\n",
              "      <td>-1</td>\n",
              "      <td>-1</td>\n",
              "    </tr>\n",
              "    <tr>\n",
              "      <th>3</th>\n",
              "      <td>1</td>\n",
              "      <td>-1</td>\n",
              "      <td>1</td>\n",
              "      <td>1</td>\n",
              "      <td>-1</td>\n",
              "      <td>0</td>\n",
              "      <td>1</td>\n",
              "      <td>-1</td>\n",
              "      <td>-1</td>\n",
              "      <td>-1</td>\n",
              "      <td>-1</td>\n",
              "      <td>1</td>\n",
              "      <td>-1</td>\n",
              "      <td>1</td>\n",
              "      <td>-1</td>\n",
              "      <td>-1</td>\n",
              "      <td>1</td>\n",
              "    </tr>\n",
              "    <tr>\n",
              "      <th>4</th>\n",
              "      <td>1</td>\n",
              "      <td>1</td>\n",
              "      <td>1</td>\n",
              "      <td>1</td>\n",
              "      <td>-1</td>\n",
              "      <td>1</td>\n",
              "      <td>1</td>\n",
              "      <td>-1</td>\n",
              "      <td>-1</td>\n",
              "      <td>-1</td>\n",
              "      <td>-1</td>\n",
              "      <td>1</td>\n",
              "      <td>0</td>\n",
              "      <td>1</td>\n",
              "      <td>1</td>\n",
              "      <td>1</td>\n",
              "      <td>1</td>\n",
              "    </tr>\n",
              "  </tbody>\n",
              "</table>\n",
              "</div>"
            ],
            "text/plain": [
              "   party  handicapped  water  adoption  physician  el  religious  anti  aid  \\\n",
              "0     -1           -1      1        -1          1   1          1    -1   -1   \n",
              "1     -1           -1      1        -1          1   1          1    -1   -1   \n",
              "2      1            0      1         1          0   1          1    -1   -1   \n",
              "3      1           -1      1         1         -1   0          1    -1   -1   \n",
              "4      1            1      1         1         -1   1          1    -1   -1   \n",
              "\n",
              "   mx  immigration  synfuels  education  superfund  crime  duty  export  \n",
              "0  -1            1         0          1          1      1    -1       1  \n",
              "1  -1           -1        -1          1          1      1    -1       0  \n",
              "2  -1           -1         1         -1          1      1    -1      -1  \n",
              "3  -1           -1         1         -1          1     -1    -1       1  \n",
              "4  -1           -1         1          0          1      1     1       1  "
            ]
          },
          "metadata": {
            "tags": []
          },
          "execution_count": 86
        }
      ]
    },
    {
      "metadata": {
        "id": "_CtVw8XxfafX",
        "colab_type": "code",
        "colab": {
          "base_uri": "https://localhost:8080/",
          "height": 347
        },
        "outputId": "1595b2a8-ecee-4224-c966-5014cbb028ea"
      },
      "cell_type": "code",
      "source": [
        "df['handicapped'].hist();"
      ],
      "execution_count": 92,
      "outputs": [
        {
          "output_type": "display_data",
          "data": {
            "image/png": "[encoded data removed]",
            "text/plain": [
              "<matplotlib.figure.Figure at 0x7f41cc16d320>"
            ]
          },
          "metadata": {
            "tags": []
          }
        }
      ]
    },
    {
      "metadata": {
        "id": "JjgMkI7MvWUF",
        "colab_type": "code",
        "colab": {}
      },
      "cell_type": "code",
      "source": [
        "from scipy import stats"
      ],
      "execution_count": 0,
      "outputs": []
    },
    {
      "metadata": {
        "id": "eJZB3aWQsORr",
        "colab_type": "code",
        "colab": {
          "base_uri": "https://localhost:8080/",
          "height": 69
        },
        "outputId": "1719912c-54ec-43ca-aea3-d220cdd3a170"
      },
      "cell_type": "code",
      "source": [
        "d_columns = []\n",
        "r_columns = []\n",
        "e_columns = []\n",
        "max_p = 0.01\n",
        "for column in df.columns:\n",
        "  if column == 'party':\n",
        "    continue\n",
        "  d_s, d_p = stats.ttest_ind(df[df['party'] == 1][column],df[df['party'] == -1][column])\n",
        "  # print(f\"for {column} d statistic: {d_s} pvalue: {d_p}\")\n",
        "  if d_s > 0 and d_p < max_p:\n",
        "    d_columns.append(column)\n",
        "  elif d_s < 0 and d_p < max_p:\n",
        "    r_columns.append(column)\n",
        "  elif d_p > 0.1:\n",
        "    e_columns.append(column)\n",
        "\n",
        "print(f'democrats support: {d_columns}')\n",
        "print(f'republicans support: {r_columns}')\n",
        "print(f'no meaingful diffence between the parties: {e_columns}')\n",
        "   "
      ],
      "execution_count": 89,
      "outputs": [
        {
          "output_type": "stream",
          "text": [
            "democrats support: ['handicapped', 'adoption', 'anti', 'aid', 'mx', 'synfuels', 'duty', 'export']\n",
            "republicans support: ['physician', 'el', 'religious', 'education', 'superfund', 'crime']\n",
            "no meaingful diffence between the parties: ['water']\n"
          ],
          "name": "stdout"
        }
      ]
    },
    {
      "metadata": {
        "id": "pAHSKwyDzORE",
        "colab_type": "code",
        "colab": {}
      },
      "cell_type": "code",
      "source": [
        "groupby_party = df.groupby('party')"
      ],
      "execution_count": 0,
      "outputs": []
    },
    {
      "metadata": {
        "id": "oqZWtoNj2o9y",
        "colab_type": "code",
        "colab": {
          "base_uri": "https://localhost:8080/",
          "height": 142
        },
        "outputId": "92e18f2e-6cef-4493-d061-ddb2f0d05248"
      },
      "cell_type": "code",
      "source": [
        "groupby_party.mean()"
      ],
      "execution_count": 91,
      "outputs": [
        {
          "output_type": "execute_result",
          "data": {
            "text/html": [
              "<div>\n",
              "<style scoped>\n",
              "    .dataframe tbody tr th:only-of-type {\n",
              "        vertical-align: middle;\n",
              "    }\n",
              "\n",
              "    .dataframe tbody tr th {\n",
              "        vertical-align: top;\n",
              "    }\n",
              "\n",
              "    .dataframe thead th {\n",
              "        text-align: right;\n",
              "    }\n",
              "</style>\n",
              "<table border=\"1\" class=\"dataframe\">\n",
              "  <thead>\n",
              "    <tr style=\"text-align: right;\">\n",
              "      <th></th>\n",
              "      <th>handicapped</th>\n",
              "      <th>water</th>\n",
              "      <th>adoption</th>\n",
              "      <th>physician</th>\n",
              "      <th>el</th>\n",
              "      <th>religious</th>\n",
              "      <th>anti</th>\n",
              "      <th>aid</th>\n",
              "      <th>mx</th>\n",
              "      <th>immigration</th>\n",
              "      <th>synfuels</th>\n",
              "      <th>education</th>\n",
              "      <th>superfund</th>\n",
              "      <th>crime</th>\n",
              "      <th>duty</th>\n",
              "      <th>export</th>\n",
              "    </tr>\n",
              "    <tr>\n",
              "      <th>party</th>\n",
              "      <th></th>\n",
              "      <th></th>\n",
              "      <th></th>\n",
              "      <th></th>\n",
              "      <th></th>\n",
              "      <th></th>\n",
              "      <th></th>\n",
              "      <th></th>\n",
              "      <th></th>\n",
              "      <th></th>\n",
              "      <th></th>\n",
              "      <th></th>\n",
              "      <th></th>\n",
              "      <th></th>\n",
              "      <th></th>\n",
              "      <th></th>\n",
              "    </tr>\n",
              "  </thead>\n",
              "  <tbody>\n",
              "    <tr>\n",
              "      <th>-1</th>\n",
              "      <td>-0.613095</td>\n",
              "      <td>0.011905</td>\n",
              "      <td>-0.714286</td>\n",
              "      <td>0.958333</td>\n",
              "      <td>0.886905</td>\n",
              "      <td>0.785714</td>\n",
              "      <td>-0.50000</td>\n",
              "      <td>-0.64881</td>\n",
              "      <td>-0.755952</td>\n",
              "      <td>0.113095</td>\n",
              "      <td>-0.696429</td>\n",
              "      <td>0.684524</td>\n",
              "      <td>0.678571</td>\n",
              "      <td>0.922619</td>\n",
              "      <td>-0.761905</td>\n",
              "      <td>0.273810</td>\n",
              "    </tr>\n",
              "    <tr>\n",
              "      <th>1</th>\n",
              "      <td>0.202247</td>\n",
              "      <td>0.003745</td>\n",
              "      <td>0.756554</td>\n",
              "      <td>-0.865169</td>\n",
              "      <td>-0.543071</td>\n",
              "      <td>-0.044944</td>\n",
              "      <td>0.52809</td>\n",
              "      <td>0.64794</td>\n",
              "      <td>0.479401</td>\n",
              "      <td>-0.056180</td>\n",
              "      <td>0.011236</td>\n",
              "      <td>-0.662921</td>\n",
              "      <td>-0.397004</td>\n",
              "      <td>-0.288390</td>\n",
              "      <td>0.258427</td>\n",
              "      <td>0.602996</td>\n",
              "    </tr>\n",
              "  </tbody>\n",
              "</table>\n",
              "</div>"
            ],
            "text/plain": [
              "       handicapped     water  adoption  physician        el  religious  \\\n",
              "party                                                                    \n",
              "-1       -0.613095  0.011905 -0.714286   0.958333  0.886905   0.785714   \n",
              " 1        0.202247  0.003745  0.756554  -0.865169 -0.543071  -0.044944   \n",
              "\n",
              "          anti      aid        mx  immigration  synfuels  education  \\\n",
              "party                                                                 \n",
              "-1    -0.50000 -0.64881 -0.755952     0.113095 -0.696429   0.684524   \n",
              " 1     0.52809  0.64794  0.479401    -0.056180  0.011236  -0.662921   \n",
              "\n",
              "       superfund     crime      duty    export  \n",
              "party                                           \n",
              "-1      0.678571  0.922619 -0.761905  0.273810  \n",
              " 1     -0.397004 -0.288390  0.258427  0.602996  "
            ]
          },
          "metadata": {
            "tags": []
          },
          "execution_count": 91
        }
      ]
    },
    {
      "metadata": {
        "id": "kCEcPxF12uEl",
        "colab_type": "code",
        "colab": {}
      },
      "cell_type": "code",
      "source": [
        ""
      ],
      "execution_count": 0,
      "outputs": []
    }
  ]
}