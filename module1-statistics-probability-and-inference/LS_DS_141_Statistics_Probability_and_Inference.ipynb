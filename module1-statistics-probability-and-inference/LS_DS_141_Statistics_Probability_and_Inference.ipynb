{
  "nbformat": 4,
  "nbformat_minor": 0,
  "metadata": {
    "colab": {
      "name": "LS DS 141 Statistics Probability and Inference.ipynb",
      "version": "0.3.2",
      "provenance": [],
      "include_colab_link": true
    },
    "kernelspec": {
      "name": "python3",
      "display_name": "Python 3"
    }
  },
  "cells": [
    {
      "cell_type": "markdown",
      "metadata": {
        "id": "view-in-github",
        "colab_type": "text"
      },
      "source": [
        "<a href=\"https://colab.research.google.com/github/zarrinan/DS-Unit-1-Sprint-4-Statistical-Tests-and-Experiments/blob/master/module1-statistics-probability-and-inference/LS_DS_141_Statistics_Probability_and_Inference.ipynb\" target=\"_parent\"><img src=\"https://colab.research.google.com/assets/colab-badge.svg\" alt=\"Open In Colab\"/></a>"
      ]
    },
    {
      "metadata": {
        "id": "eJGtmni-DezY",
        "colab_type": "text"
      },
      "cell_type": "markdown",
      "source": [
        "# Lambda School Data Science Module 141\n",
        "## Statistics, Probability, and Inference"
      ]
    },
    {
      "metadata": {
        "id": "FMhDKOFND0qY",
        "colab_type": "text"
      },
      "cell_type": "markdown",
      "source": [
        "## Prepare - examine what's available in SciPy\n",
        "\n",
        "As we delve into statistics, we'll be using more libraries - in particular the [stats package from SciPy](https://docs.scipy.org/doc/scipy/reference/tutorial/stats.html)."
      ]
    },
    {
      "metadata": {
        "id": "fQ9rkLJmEbsk",
        "colab_type": "code",
        "outputId": "31c2923d-0fd2-45cf-b70c-d8389f0071d1",
        "colab": {
          "base_uri": "https://localhost:8080/",
          "height": 4183
        }
      },
      "cell_type": "code",
      "source": [
        "from scipy import stats\n",
        "dir(stats)"
      ],
      "execution_count": 1,
      "outputs": [
        {
          "output_type": "execute_result",
          "data": {
            "text/plain": [
              "['__all__',\n",
              " '__builtins__',\n",
              " '__cached__',\n",
              " '__doc__',\n",
              " '__file__',\n",
              " '__loader__',\n",
              " '__name__',\n",
              " '__package__',\n",
              " '__path__',\n",
              " '__spec__',\n",
              " '_binned_statistic',\n",
              " '_constants',\n",
              " '_continuous_distns',\n",
              " '_discrete_distns',\n",
              " '_distn_infrastructure',\n",
              " '_distr_params',\n",
              " '_multivariate',\n",
              " '_stats',\n",
              " '_stats_mstats_common',\n",
              " '_tukeylambda_stats',\n",
              " 'absolute_import',\n",
              " 'alpha',\n",
              " 'anderson',\n",
              " 'anderson_ksamp',\n",
              " 'anglit',\n",
              " 'ansari',\n",
              " 'arcsine',\n",
              " 'argus',\n",
              " 'bartlett',\n",
              " 'bayes_mvs',\n",
              " 'bernoulli',\n",
              " 'beta',\n",
              " 'betaprime',\n",
              " 'binned_statistic',\n",
              " 'binned_statistic_2d',\n",
              " 'binned_statistic_dd',\n",
              " 'binom',\n",
              " 'binom_test',\n",
              " 'boltzmann',\n",
              " 'boxcox',\n",
              " 'boxcox_llf',\n",
              " 'boxcox_normmax',\n",
              " 'boxcox_normplot',\n",
              " 'bradford',\n",
              " 'burr',\n",
              " 'burr12',\n",
              " 'cauchy',\n",
              " 'chi',\n",
              " 'chi2',\n",
              " 'chi2_contingency',\n",
              " 'chisquare',\n",
              " 'circmean',\n",
              " 'circstd',\n",
              " 'circvar',\n",
              " 'combine_pvalues',\n",
              " 'contingency',\n",
              " 'cosine',\n",
              " 'crystalball',\n",
              " 'cumfreq',\n",
              " 'describe',\n",
              " 'dgamma',\n",
              " 'dirichlet',\n",
              " 'distributions',\n",
              " 'division',\n",
              " 'dlaplace',\n",
              " 'dweibull',\n",
              " 'energy_distance',\n",
              " 'entropy',\n",
              " 'erlang',\n",
              " 'expon',\n",
              " 'exponnorm',\n",
              " 'exponpow',\n",
              " 'exponweib',\n",
              " 'f',\n",
              " 'f_oneway',\n",
              " 'fatiguelife',\n",
              " 'find_repeats',\n",
              " 'fisher_exact',\n",
              " 'fisk',\n",
              " 'fligner',\n",
              " 'foldcauchy',\n",
              " 'foldnorm',\n",
              " 'frechet_l',\n",
              " 'frechet_r',\n",
              " 'friedmanchisquare',\n",
              " 'gamma',\n",
              " 'gausshyper',\n",
              " 'gaussian_kde',\n",
              " 'genexpon',\n",
              " 'genextreme',\n",
              " 'gengamma',\n",
              " 'genhalflogistic',\n",
              " 'genlogistic',\n",
              " 'gennorm',\n",
              " 'genpareto',\n",
              " 'geom',\n",
              " 'gilbrat',\n",
              " 'gmean',\n",
              " 'gompertz',\n",
              " 'gumbel_l',\n",
              " 'gumbel_r',\n",
              " 'halfcauchy',\n",
              " 'halfgennorm',\n",
              " 'halflogistic',\n",
              " 'halfnorm',\n",
              " 'hmean',\n",
              " 'hypergeom',\n",
              " 'hypsecant',\n",
              " 'invgamma',\n",
              " 'invgauss',\n",
              " 'invweibull',\n",
              " 'invwishart',\n",
              " 'iqr',\n",
              " 'itemfreq',\n",
              " 'jarque_bera',\n",
              " 'johnsonsb',\n",
              " 'johnsonsu',\n",
              " 'kappa3',\n",
              " 'kappa4',\n",
              " 'kde',\n",
              " 'kendalltau',\n",
              " 'kruskal',\n",
              " 'ks_2samp',\n",
              " 'ksone',\n",
              " 'kstat',\n",
              " 'kstatvar',\n",
              " 'kstest',\n",
              " 'kstwobign',\n",
              " 'kurtosis',\n",
              " 'kurtosistest',\n",
              " 'laplace',\n",
              " 'levene',\n",
              " 'levy',\n",
              " 'levy_l',\n",
              " 'levy_stable',\n",
              " 'linregress',\n",
              " 'loggamma',\n",
              " 'logistic',\n",
              " 'loglaplace',\n",
              " 'lognorm',\n",
              " 'logser',\n",
              " 'lomax',\n",
              " 'mannwhitneyu',\n",
              " 'matrix_normal',\n",
              " 'maxwell',\n",
              " 'median_test',\n",
              " 'mielke',\n",
              " 'mode',\n",
              " 'moment',\n",
              " 'mood',\n",
              " 'morestats',\n",
              " 'moyal',\n",
              " 'mstats',\n",
              " 'mstats_basic',\n",
              " 'mstats_extras',\n",
              " 'multinomial',\n",
              " 'multivariate_normal',\n",
              " 'mvn',\n",
              " 'mvsdist',\n",
              " 'nakagami',\n",
              " 'nbinom',\n",
              " 'ncf',\n",
              " 'nct',\n",
              " 'ncx2',\n",
              " 'norm',\n",
              " 'normaltest',\n",
              " 'norminvgauss',\n",
              " 'obrientransform',\n",
              " 'ortho_group',\n",
              " 'pareto',\n",
              " 'pearson3',\n",
              " 'pearsonr',\n",
              " 'percentileofscore',\n",
              " 'planck',\n",
              " 'pointbiserialr',\n",
              " 'poisson',\n",
              " 'power_divergence',\n",
              " 'powerlaw',\n",
              " 'powerlognorm',\n",
              " 'powernorm',\n",
              " 'ppcc_max',\n",
              " 'ppcc_plot',\n",
              " 'print_function',\n",
              " 'probplot',\n",
              " 'randint',\n",
              " 'random_correlation',\n",
              " 'rankdata',\n",
              " 'ranksums',\n",
              " 'rayleigh',\n",
              " 'rdist',\n",
              " 'recipinvgauss',\n",
              " 'reciprocal',\n",
              " 'relfreq',\n",
              " 'rice',\n",
              " 'rv_continuous',\n",
              " 'rv_discrete',\n",
              " 'rv_histogram',\n",
              " 'scoreatpercentile',\n",
              " 'sem',\n",
              " 'semicircular',\n",
              " 'shapiro',\n",
              " 'sigmaclip',\n",
              " 'skellam',\n",
              " 'skew',\n",
              " 'skewnorm',\n",
              " 'skewtest',\n",
              " 'spearmanr',\n",
              " 'special_ortho_group',\n",
              " 'statlib',\n",
              " 'stats',\n",
              " 't',\n",
              " 'test',\n",
              " 'theilslopes',\n",
              " 'tiecorrect',\n",
              " 'tmax',\n",
              " 'tmean',\n",
              " 'tmin',\n",
              " 'trapz',\n",
              " 'triang',\n",
              " 'trim1',\n",
              " 'trim_mean',\n",
              " 'trimboth',\n",
              " 'truncexpon',\n",
              " 'truncnorm',\n",
              " 'tsem',\n",
              " 'tstd',\n",
              " 'ttest_1samp',\n",
              " 'ttest_ind',\n",
              " 'ttest_ind_from_stats',\n",
              " 'ttest_rel',\n",
              " 'tukeylambda',\n",
              " 'tvar',\n",
              " 'uniform',\n",
              " 'unitary_group',\n",
              " 'variation',\n",
              " 'vonmises',\n",
              " 'vonmises_line',\n",
              " 'wald',\n",
              " 'wasserstein_distance',\n",
              " 'weibull_max',\n",
              " 'weibull_min',\n",
              " 'weightedtau',\n",
              " 'wilcoxon',\n",
              " 'wishart',\n",
              " 'wrapcauchy',\n",
              " 'zipf',\n",
              " 'zmap',\n",
              " 'zscore']"
            ]
          },
          "metadata": {
            "tags": []
          },
          "execution_count": 1
        }
      ]
    },
    {
      "metadata": {
        "id": "bxW4SG_gJGlZ",
        "colab_type": "code",
        "outputId": "b4aa2497-5d81-49d8-9c67-1c7eca4e71e1",
        "colab": {
          "base_uri": "https://localhost:8080/",
          "height": 67
        }
      },
      "cell_type": "code",
      "source": [
        "# As usual, lots of stuff here! There's our friend, the normal distribution\n",
        "norm = stats.norm()\n",
        "print(norm.mean())\n",
        "print(norm.std())\n",
        "print(norm.var())"
      ],
      "execution_count": 2,
      "outputs": [
        {
          "output_type": "stream",
          "text": [
            "0.0\n",
            "1.0\n",
            "1.0\n"
          ],
          "name": "stdout"
        }
      ]
    },
    {
      "metadata": {
        "id": "RyNKPt_tJk86",
        "colab_type": "code",
        "outputId": "58646f67-83d6-4cc4-b055-529d17c8a8c1",
        "colab": {
          "base_uri": "https://localhost:8080/",
          "height": 67
        }
      },
      "cell_type": "code",
      "source": [
        "# And a new friend - t\n",
        "t1 = stats.t(5)  # 5 is df \"shape\" parameter\n",
        "print(t1.mean())\n",
        "print(t1.std())\n",
        "print(t1.var())"
      ],
      "execution_count": 3,
      "outputs": [
        {
          "output_type": "stream",
          "text": [
            "0.0\n",
            "1.2909944487358056\n",
            "1.6666666666666667\n"
          ],
          "name": "stdout"
        }
      ]
    },
    {
      "metadata": {
        "id": "xcmnpJSUSnUX",
        "colab_type": "code",
        "outputId": "08dcb11f-ab63-451a-f576-da51ed6fd8f3",
        "colab": {
          "base_uri": "https://localhost:8080/",
          "height": 34
        }
      },
      "cell_type": "code",
      "source": [
        "t1.std()**2"
      ],
      "execution_count": 4,
      "outputs": [
        {
          "output_type": "execute_result",
          "data": {
            "text/plain": [
              "1.6666666666666665"
            ]
          },
          "metadata": {
            "tags": []
          },
          "execution_count": 4
        }
      ]
    },
    {
      "metadata": {
        "id": "SRn1zMuaKgxX",
        "colab_type": "text"
      },
      "cell_type": "markdown",
      "source": [
        "![T distribution PDF with different shape parameters](https://upload.wikimedia.org/wikipedia/commons/4/41/Student_t_pdf.svg)\n",
        "\n",
        "*(Picture from [Wikipedia](https://en.wikipedia.org/wiki/Student's_t-distribution#/media/File:Student_t_pdf.svg))*\n",
        "\n",
        "The t-distribution is \"normal-ish\" - the larger the parameter (which reflects its degrees of freedom - more input data/features will increase it), the closer to true normal."
      ]
    },
    {
      "metadata": {
        "id": "seQv5unnJvpM",
        "colab_type": "code",
        "outputId": "f2fe9cb1-e5eb-436c-ace5-cb8df5551627",
        "colab": {
          "base_uri": "https://localhost:8080/",
          "height": 67
        }
      },
      "cell_type": "code",
      "source": [
        "t2 = stats.t(30)  # Will be closer to normal\n",
        "print(t2.mean())\n",
        "print(t2.std())\n",
        "print(t2.var())"
      ],
      "execution_count": 5,
      "outputs": [
        {
          "output_type": "stream",
          "text": [
            "0.0\n",
            "1.0350983390135313\n",
            "1.0714285714285714\n"
          ],
          "name": "stdout"
        }
      ]
    },
    {
      "metadata": {
        "id": "FOvEGMysLaE2",
        "colab_type": "text"
      },
      "cell_type": "markdown",
      "source": [
        "Why is it different from normal? To better reflect the tendencies of small data and situations with unknown population standard deviation. In other words, the normal distribution is still the nice pure ideal in the limit (thanks to the central limit theorem), but the t-distribution is much more useful in many real-world situations.\n",
        "\n",
        "History sidenote - this is \"Student\":\n",
        "\n",
        "![William Sealy Gosset](https://upload.wikimedia.org/wikipedia/commons/4/42/William_Sealy_Gosset.jpg)\n",
        "\n",
        "*(Picture from [Wikipedia](https://en.wikipedia.org/wiki/File:William_Sealy_Gosset.jpg))*\n",
        "\n",
        "His real name is William Sealy Gosset, and he published under the pen name \"Student\" because he was not an academic. He was a brewer, working at Guinness and using trial and error to determine the best ways to yield barley. He's also proof that, even 100 years ago, you don't need official credentials to do real data science!"
      ]
    },
    {
      "metadata": {
        "id": "1yx_QilAEC6o",
        "colab_type": "text"
      },
      "cell_type": "markdown",
      "source": [
        "## Live Lecture - let's perform and interpret a t-test\n",
        "\n",
        "We'll generate our own data, so we can know and alter the \"ground truth\" that the t-test should find. We will learn about p-values and how to interpret \"statistical significance\" based on the output of a hypothesis test."
      ]
    },
    {
      "metadata": {
        "id": "BuysRPs-Ed0v",
        "colab_type": "code",
        "outputId": "6ebb83c3-414b-4b38-aa59-367b96436705",
        "colab": {
          "base_uri": "https://localhost:8080/",
          "height": 284
        }
      },
      "cell_type": "code",
      "source": [
        "# TODO - during class, but please help!\n",
        "survey_data = [0, 1, 0, 1, 0, 0, 0, 1, 1, 0, 0, 1, 1, 1, 1, 1, 1, 1,\n",
        "               0, 0, 1, 1, 1, 1, 1, 1, 1, 1, 1, 0, 1, 1, 1, 1, 1, 1,\n",
        "               1, 0, 1, 0, 1, 1, 0, 1, 0, 1, 1, 0, 0, 0]\n",
        "\n",
        "import numpy as np\n",
        "import pandas as pd\n",
        "\n",
        "df = pd.DataFrame(survey_data)\n",
        "df.describe()"
      ],
      "execution_count": 6,
      "outputs": [
        {
          "output_type": "execute_result",
          "data": {
            "text/html": [
              "<div>\n",
              "<style scoped>\n",
              "    .dataframe tbody tr th:only-of-type {\n",
              "        vertical-align: middle;\n",
              "    }\n",
              "\n",
              "    .dataframe tbody tr th {\n",
              "        vertical-align: top;\n",
              "    }\n",
              "\n",
              "    .dataframe thead th {\n",
              "        text-align: right;\n",
              "    }\n",
              "</style>\n",
              "<table border=\"1\" class=\"dataframe\">\n",
              "  <thead>\n",
              "    <tr style=\"text-align: right;\">\n",
              "      <th></th>\n",
              "      <th>0</th>\n",
              "    </tr>\n",
              "  </thead>\n",
              "  <tbody>\n",
              "    <tr>\n",
              "      <th>count</th>\n",
              "      <td>50.000000</td>\n",
              "    </tr>\n",
              "    <tr>\n",
              "      <th>mean</th>\n",
              "      <td>0.660000</td>\n",
              "    </tr>\n",
              "    <tr>\n",
              "      <th>std</th>\n",
              "      <td>0.478518</td>\n",
              "    </tr>\n",
              "    <tr>\n",
              "      <th>min</th>\n",
              "      <td>0.000000</td>\n",
              "    </tr>\n",
              "    <tr>\n",
              "      <th>25%</th>\n",
              "      <td>0.000000</td>\n",
              "    </tr>\n",
              "    <tr>\n",
              "      <th>50%</th>\n",
              "      <td>1.000000</td>\n",
              "    </tr>\n",
              "    <tr>\n",
              "      <th>75%</th>\n",
              "      <td>1.000000</td>\n",
              "    </tr>\n",
              "    <tr>\n",
              "      <th>max</th>\n",
              "      <td>1.000000</td>\n",
              "    </tr>\n",
              "  </tbody>\n",
              "</table>\n",
              "</div>"
            ],
            "text/plain": [
              "               0\n",
              "count  50.000000\n",
              "mean    0.660000\n",
              "std     0.478518\n",
              "min     0.000000\n",
              "25%     0.000000\n",
              "50%     1.000000\n",
              "75%     1.000000\n",
              "max     1.000000"
            ]
          },
          "metadata": {
            "tags": []
          },
          "execution_count": 6
        }
      ]
    },
    {
      "metadata": {
        "id": "17NxqCIONZs4",
        "colab_type": "code",
        "outputId": "50e28ff2-6dac-4c1b-b86d-a5291e4ec32b",
        "colab": {
          "base_uri": "https://localhost:8080/",
          "height": 364
        }
      },
      "cell_type": "code",
      "source": [
        "df.plot.hist()"
      ],
      "execution_count": 7,
      "outputs": [
        {
          "output_type": "execute_result",
          "data": {
            "text/plain": [
              "<matplotlib.axes._subplots.AxesSubplot at 0x7fde7da47ac8>"
            ]
          },
          "metadata": {
            "tags": []
          },
          "execution_count": 7
        },
        {
          "output_type": "display_data",
          "data": {
            "image/png": "[encoded data removed]",
            "text/plain": [
              "<matplotlib.figure.Figure at 0x7fde7df46b38>"
            ]
          },
          "metadata": {
            "tags": []
          }
        }
      ]
    },
    {
      "metadata": {
        "id": "GcprauQcNKML",
        "colab_type": "code",
        "outputId": "e65adace-4924-4a4d-f2bd-807f1ac3bbac",
        "colab": {
          "base_uri": "https://localhost:8080/",
          "height": 34
        }
      },
      "cell_type": "code",
      "source": [
        "# Now with confidence!\n",
        "\n",
        "import scipy\n",
        "scipy.stats.ttest_1samp(survey_data, 0.5)"
      ],
      "execution_count": 8,
      "outputs": [
        {
          "output_type": "execute_result",
          "data": {
            "text/plain": [
              "Ttest_1sampResult(statistic=2.364321853156195, pvalue=0.02207003200903075)"
            ]
          },
          "metadata": {
            "tags": []
          },
          "execution_count": 8
        }
      ]
    },
    {
      "metadata": {
        "id": "z1iYrZjzOsZp",
        "colab_type": "code",
        "outputId": "7f52a0d4-6ca6-4d6e-8491-0b7582be8bda",
        "colab": {
          "base_uri": "https://localhost:8080/",
          "height": 34
        }
      },
      "cell_type": "code",
      "source": [
        "# the t-statistic is the ratio of the departure of the estimated value of  a\n",
        "# parameter from its hypothesized value to its standard error\n",
        "\n",
        "# We want to calculate: tstat = 2.364321853156195\n",
        "\n",
        "sample_stderr = 0.478518 / np.sqrt(len(survey_data))\n",
        "sample_mean = 0.660000\n",
        "null_hypothesis_mean = 0.5\n",
        "\n",
        "t_stat = (sample_mean - null_hypothesis_mean) / sample_stderr\n",
        "print(t_stat)"
      ],
      "execution_count": 9,
      "outputs": [
        {
          "output_type": "stream",
          "text": [
            "2.364322449518046\n"
          ],
          "name": "stdout"
        }
      ]
    },
    {
      "metadata": {
        "id": "cvFA_QxnOWf_",
        "colab_type": "code",
        "outputId": "3a3a992e-0bdb-4eac-9d7f-13f731ee4c78",
        "colab": {
          "base_uri": "https://localhost:8080/",
          "height": 34
        }
      },
      "cell_type": "code",
      "source": [
        "len(survey_data)"
      ],
      "execution_count": 10,
      "outputs": [
        {
          "output_type": "execute_result",
          "data": {
            "text/plain": [
              "50"
            ]
          },
          "metadata": {
            "tags": []
          },
          "execution_count": 10
        }
      ]
    },
    {
      "metadata": {
        "id": "KyRWoC5DUTJs",
        "colab_type": "code",
        "colab": {}
      },
      "cell_type": "code",
      "source": [
        "# Science! Reproducibility...\n",
        "import random\n",
        "\n",
        "def make_soda_data(n=50):\n",
        "  # Fair version\n",
        "  # return pd.DataFrame([random.randint(0, 1) for _ in range(n)])\n",
        "  # Unfair version!\n",
        "  return pd.DataFrame(np.random.binomial(n=1, p=0.5, size=n))"
      ],
      "execution_count": 0,
      "outputs": []
    },
    {
      "metadata": {
        "id": "wTzmc4qHUuGJ",
        "colab_type": "code",
        "colab": {}
      },
      "cell_type": "code",
      "source": [
        "make_soda_data(n=500).describe()"
      ],
      "execution_count": 0,
      "outputs": []
    },
    {
      "metadata": {
        "id": "wBNs832LU_B_",
        "colab_type": "code",
        "colab": {}
      },
      "cell_type": "code",
      "source": [
        "t_statistics = []\n",
        "p_values = []\n",
        "n_experiments = 10  # Number of visitors\n",
        "\n",
        "for _ in range(n_experiments):   \n",
        "  df = make_soda_data(n=500000)\n",
        "  ttest = scipy.stats.ttest_1samp(df, 0.5)\n",
        "  t_statistics.append(ttest.statistic)\n",
        "  p_values.append(ttest.pvalue)\n",
        "\n",
        "pd.DataFrame(t_statistics).describe()"
      ],
      "execution_count": 0,
      "outputs": []
    },
    {
      "metadata": {
        "id": "iuT0nUoEZO6W",
        "colab_type": "code",
        "colab": {}
      },
      "cell_type": "code",
      "source": [
        "pd.DataFrame(p_values).describe()"
      ],
      "execution_count": 0,
      "outputs": []
    },
    {
      "metadata": {
        "id": "ErkGWp__XIx5",
        "colab_type": "code",
        "colab": {}
      },
      "cell_type": "code",
      "source": [
        "random.choice([0, 1, 1])  # Unfair coins"
      ],
      "execution_count": 0,
      "outputs": []
    },
    {
      "metadata": {
        "id": "4ucQDnX6Xf3u",
        "colab_type": "code",
        "colab": {}
      },
      "cell_type": "code",
      "source": [
        "np.random.binomial(100, 0.7)"
      ],
      "execution_count": 0,
      "outputs": []
    },
    {
      "metadata": {
        "id": "TWoPRB2IX04z",
        "colab_type": "code",
        "colab": {}
      },
      "cell_type": "code",
      "source": [
        "np.random.binomial(1, 0.6)"
      ],
      "execution_count": 0,
      "outputs": []
    },
    {
      "metadata": {
        "id": "egXb7YpqEcZF",
        "colab_type": "text"
      },
      "cell_type": "markdown",
      "source": [
        "## Assignment - apply the t-test to real data\n",
        "\n",
        "Your assignment is to determine which issues have \"statistically significant\" differences between political parties in this [1980s congressional voting data](https://archive.ics.uci.edu/ml/datasets/Congressional+Voting+Records). The data consists of 435 instances (one for each congressperson), a class (democrat or republican), and 16 binary attributes (yes or no for voting for or against certain issues). Be aware - there are missing values!\n",
        "\n",
        "Your goals:\n",
        "\n",
        "1. Load and clean the data (or determine the best method to drop observations when running tests)\n",
        "2. Using hypothesis testing, find an issue that democrats support more than republicans with p < 0.01\n",
        "3. Using hypothesis testing, find an issue that republicans support more than democrats with p < 0.01\n",
        "4. Using hypothesis testing, find an issue where the difference between republicans and democrats has p > 0.1 (i.e. there may not be much of a difference)\n",
        "\n",
        "Note that this data will involve *2 sample* t-tests, because you're comparing averages across two groups (republicans and democrats) rather than a single group against a null hypothesis.\n",
        "\n",
        "Stretch goals:\n",
        "\n",
        "1. Refactor your code into functions so it's easy to rerun with arbitrary variables\n",
        "2. Apply hypothesis testing to your personal project data (for the purposes of this notebook you can type a summary of the hypothesis you formed and tested)"
      ]
    },
    {
      "metadata": {
        "id": "MRLfkp6UtOOU",
        "colab_type": "text"
      },
      "cell_type": "markdown",
      "source": [
        "7. Attribute Information:\n",
        "   1. Class Name: 2 (democrat, republican)\n",
        "   2. handicapped-infants: 2 (y,n)\n",
        "   3. water-project-cost-sharing: 2 (y,n)\n",
        "   4. adoption-of-the-budget-resolution: 2 (y,n)\n",
        "   5. physician-fee-freeze: 2 (y,n)\n",
        "   6. el-salvador-aid: 2 (y,n)\n",
        "   7. religious-groups-in-schools: 2 (y,n)\n",
        "   8. anti-satellite-test-ban: 2 (y,n)\n",
        "   9. aid-to-nicaraguan-contras: 2 (y,n)\n",
        "  10. mx-missile: 2 (y,n)\n",
        "  11. immigration: 2 (y,n)\n",
        "  12. synfuels-corporation-cutback: 2 (y,n)\n",
        "  13. education-spending: 2 (y,n)\n",
        "  14. superfund-right-to-sue: 2 (y,n)\n",
        "  15. crime: 2 (y,n)\n",
        "  16. duty-free-exports: 2 (y,n)\n",
        "  17. export-administration-act-south-africa: 2 (y,n)"
      ]
    },
    {
      "metadata": {
        "id": "nstrmCG-Ecyk",
        "colab_type": "code",
        "colab": {}
      },
      "cell_type": "code",
      "source": [
        "# TODO - your code here!\n",
        "df = pd.read_csv('https://archive.ics.uci.edu/ml/machine-learning-databases/voting-records/house-votes-84.data', \n",
        "                 header=None)\n",
        "df.columns = ['party', 'infants', 'water', 'adoption', 'physician', 'el-salvador',\n",
        "               'religious', 'satellite', 'nicaragua', 'missile', 'immigration',\n",
        "                'corporation', 'education', 'superfund', 'crime', 'duty-free', 'south-africa']\n",
        "df.head(20)"
      ],
      "execution_count": 0,
      "outputs": []
    },
    {
      "metadata": {
        "id": "iC2EZLHEu_7_",
        "colab_type": "code",
        "colab": {
          "base_uri": "https://localhost:8080/",
          "height": 67
        },
        "outputId": "40d72fda-ec55-40f7-9afa-942b5cafab25"
      },
      "cell_type": "code",
      "source": [
        "df.party.value_counts()"
      ],
      "execution_count": 24,
      "outputs": [
        {
          "output_type": "execute_result",
          "data": {
            "text/plain": [
              "democrat      267\n",
              "republican    168\n",
              "Name: party, dtype: int64"
            ]
          },
          "metadata": {
            "tags": []
          },
          "execution_count": 24
        }
      ]
    },
    {
      "metadata": {
        "id": "akYnOpClvf6H",
        "colab_type": "code",
        "colab": {}
      },
      "cell_type": "code",
      "source": [
        "df2 = df.replace('?', np.nan).copy()\n",
        "print(df.isnull().sum().sum())\n",
        "df2.head(20)"
      ],
      "execution_count": 0,
      "outputs": []
    },
    {
      "metadata": {
        "id": "hZf8T7BQv-4f",
        "colab_type": "code",
        "colab": {}
      },
      "cell_type": "code",
      "source": [
        "#On which issues congressmen preferred not to vote:\n",
        "print(df2[df2.party=='republican'].isnull().sum()/len(df2[df2.party=='republican'])*100)\n",
        "print(df2[df2.party=='democrat'].isnull().sum()/len(df2[df2.party=='democrat'])*100)\n",
        "#from the data below one can see that roughly 10% congressment from both parties \n",
        "# did not vote on on'water-project-cost-sharing'issue and 13% of republicans and \n",
        "#30% of democrats did not vote on 'export-administration-act-south-africa' issue"
      ],
      "execution_count": 0,
      "outputs": []
    },
    {
      "metadata": {
        "id": "51mjqEfUzdpL",
        "colab_type": "code",
        "colab": {}
      },
      "cell_type": "code",
      "source": [
        "df3 = df2.drop(['water', 'south-africa'], axis=1).copy()\n",
        "df3.head()"
      ],
      "execution_count": 0,
      "outputs": []
    },
    {
      "metadata": {
        "id": "Anggr8kBz_nh",
        "colab_type": "code",
        "colab": {}
      },
      "cell_type": "code",
      "source": [
        "# For better data analysis and plotting I'll replace 'y' values with 1 and 'n' values with 0\n",
        "df3.replace({'y': 1, 'n': 0}, inplace = True)\n",
        "df3.head(20)"
      ],
      "execution_count": 0,
      "outputs": []
    },
    {
      "metadata": {
        "id": "fMnMxrLJClRr",
        "colab_type": "code",
        "colab": {
          "base_uri": "https://localhost:8080/",
          "height": 232
        },
        "outputId": "42d9cfa1-5c7f-4729-9728-958b81c8858c"
      },
      "cell_type": "code",
      "source": [
        "df4 = df3.fillna(0.5)\n",
        "df4.head()"
      ],
      "execution_count": 134,
      "outputs": [
        {
          "output_type": "execute_result",
          "data": {
            "text/html": [
              "<div>\n",
              "<style scoped>\n",
              "    .dataframe tbody tr th:only-of-type {\n",
              "        vertical-align: middle;\n",
              "    }\n",
              "\n",
              "    .dataframe tbody tr th {\n",
              "        vertical-align: top;\n",
              "    }\n",
              "\n",
              "    .dataframe thead th {\n",
              "        text-align: right;\n",
              "    }\n",
              "</style>\n",
              "<table border=\"1\" class=\"dataframe\">\n",
              "  <thead>\n",
              "    <tr style=\"text-align: right;\">\n",
              "      <th></th>\n",
              "      <th>party</th>\n",
              "      <th>infants</th>\n",
              "      <th>adoption</th>\n",
              "      <th>physician</th>\n",
              "      <th>el-salvador</th>\n",
              "      <th>religious</th>\n",
              "      <th>satellite</th>\n",
              "      <th>nicaragua</th>\n",
              "      <th>missile</th>\n",
              "      <th>immigration</th>\n",
              "      <th>corporation</th>\n",
              "      <th>education</th>\n",
              "      <th>superfund</th>\n",
              "      <th>crime</th>\n",
              "      <th>duty-free</th>\n",
              "    </tr>\n",
              "  </thead>\n",
              "  <tbody>\n",
              "    <tr>\n",
              "      <th>0</th>\n",
              "      <td>republican</td>\n",
              "      <td>0.0</td>\n",
              "      <td>0.0</td>\n",
              "      <td>1.0</td>\n",
              "      <td>1.0</td>\n",
              "      <td>1.0</td>\n",
              "      <td>0.0</td>\n",
              "      <td>0.0</td>\n",
              "      <td>0.0</td>\n",
              "      <td>1.0</td>\n",
              "      <td>0.5</td>\n",
              "      <td>1.0</td>\n",
              "      <td>1.0</td>\n",
              "      <td>1.0</td>\n",
              "      <td>0.0</td>\n",
              "    </tr>\n",
              "    <tr>\n",
              "      <th>1</th>\n",
              "      <td>republican</td>\n",
              "      <td>0.0</td>\n",
              "      <td>0.0</td>\n",
              "      <td>1.0</td>\n",
              "      <td>1.0</td>\n",
              "      <td>1.0</td>\n",
              "      <td>0.0</td>\n",
              "      <td>0.0</td>\n",
              "      <td>0.0</td>\n",
              "      <td>0.0</td>\n",
              "      <td>0.0</td>\n",
              "      <td>1.0</td>\n",
              "      <td>1.0</td>\n",
              "      <td>1.0</td>\n",
              "      <td>0.0</td>\n",
              "    </tr>\n",
              "    <tr>\n",
              "      <th>2</th>\n",
              "      <td>democrat</td>\n",
              "      <td>0.5</td>\n",
              "      <td>1.0</td>\n",
              "      <td>0.5</td>\n",
              "      <td>1.0</td>\n",
              "      <td>1.0</td>\n",
              "      <td>0.0</td>\n",
              "      <td>0.0</td>\n",
              "      <td>0.0</td>\n",
              "      <td>0.0</td>\n",
              "      <td>1.0</td>\n",
              "      <td>0.0</td>\n",
              "      <td>1.0</td>\n",
              "      <td>1.0</td>\n",
              "      <td>0.0</td>\n",
              "    </tr>\n",
              "    <tr>\n",
              "      <th>3</th>\n",
              "      <td>democrat</td>\n",
              "      <td>0.0</td>\n",
              "      <td>1.0</td>\n",
              "      <td>0.0</td>\n",
              "      <td>0.5</td>\n",
              "      <td>1.0</td>\n",
              "      <td>0.0</td>\n",
              "      <td>0.0</td>\n",
              "      <td>0.0</td>\n",
              "      <td>0.0</td>\n",
              "      <td>1.0</td>\n",
              "      <td>0.0</td>\n",
              "      <td>1.0</td>\n",
              "      <td>0.0</td>\n",
              "      <td>0.0</td>\n",
              "    </tr>\n",
              "    <tr>\n",
              "      <th>4</th>\n",
              "      <td>democrat</td>\n",
              "      <td>1.0</td>\n",
              "      <td>1.0</td>\n",
              "      <td>0.0</td>\n",
              "      <td>1.0</td>\n",
              "      <td>1.0</td>\n",
              "      <td>0.0</td>\n",
              "      <td>0.0</td>\n",
              "      <td>0.0</td>\n",
              "      <td>0.0</td>\n",
              "      <td>1.0</td>\n",
              "      <td>0.5</td>\n",
              "      <td>1.0</td>\n",
              "      <td>1.0</td>\n",
              "      <td>1.0</td>\n",
              "    </tr>\n",
              "  </tbody>\n",
              "</table>\n",
              "</div>"
            ],
            "text/plain": [
              "        party  infants  adoption  physician  el-salvador  religious  \\\n",
              "0  republican      0.0       0.0        1.0          1.0        1.0   \n",
              "1  republican      0.0       0.0        1.0          1.0        1.0   \n",
              "2    democrat      0.5       1.0        0.5          1.0        1.0   \n",
              "3    democrat      0.0       1.0        0.0          0.5        1.0   \n",
              "4    democrat      1.0       1.0        0.0          1.0        1.0   \n",
              "\n",
              "   satellite  nicaragua  missile  immigration  corporation  education  \\\n",
              "0        0.0        0.0      0.0          1.0          0.5        1.0   \n",
              "1        0.0        0.0      0.0          0.0          0.0        1.0   \n",
              "2        0.0        0.0      0.0          0.0          1.0        0.0   \n",
              "3        0.0        0.0      0.0          0.0          1.0        0.0   \n",
              "4        0.0        0.0      0.0          0.0          1.0        0.5   \n",
              "\n",
              "   superfund  crime  duty-free  \n",
              "0        1.0    1.0        0.0  \n",
              "1        1.0    1.0        0.0  \n",
              "2        1.0    1.0        0.0  \n",
              "3        1.0    0.0        0.0  \n",
              "4        1.0    1.0        1.0  "
            ]
          },
          "metadata": {
            "tags": []
          },
          "execution_count": 134
        }
      ]
    },
    {
      "metadata": {
        "id": "NppcKk0352w6",
        "colab_type": "code",
        "colab": {
          "base_uri": "https://localhost:8080/",
          "height": 34
        },
        "outputId": "072e794a-ff54-4f26-8c66-d1f23d37b8a1"
      },
      "cell_type": "code",
      "source": [
        "df4.isnull().sum().sum()"
      ],
      "execution_count": 135,
      "outputs": [
        {
          "output_type": "execute_result",
          "data": {
            "text/plain": [
              "0"
            ]
          },
          "metadata": {
            "tags": []
          },
          "execution_count": 135
        }
      ]
    },
    {
      "metadata": {
        "id": "L4WuTl32MMVd",
        "colab_type": "code",
        "colab": {}
      },
      "cell_type": "code",
      "source": [
        "df4.infants.hist()"
      ],
      "execution_count": 0,
      "outputs": []
    },
    {
      "metadata": {
        "id": "wadxk4MgMW34",
        "colab_type": "code",
        "colab": {}
      },
      "cell_type": "code",
      "source": [
        "df_cross_inf = pd.crosstab(df4['party'], df4['infants'], normalize=True)\n",
        "df_cross_inf"
      ],
      "execution_count": 0,
      "outputs": []
    },
    {
      "metadata": {
        "id": "uE-9h9G0NiYY",
        "colab_type": "code",
        "colab": {}
      },
      "cell_type": "code",
      "source": [
        "df_cross_inf.plot.bar();"
      ],
      "execution_count": 0,
      "outputs": []
    },
    {
      "metadata": {
        "id": "mu7rWpiTOD_w",
        "colab_type": "code",
        "colab": {}
      },
      "cell_type": "code",
      "source": [
        "def create_plot_crosstabs(df):\n",
        "  for column in df.columns:\n",
        "    df_cross = pd.crosstab(df['party'], column, normalize=True)\n",
        "    df_cross.plot.bar();\n",
        "\n",
        "create_plot_crosstabs(df4)    "
      ],
      "execution_count": 0,
      "outputs": []
    },
    {
      "metadata": {
        "id": "g9ZwXdRFWthF",
        "colab_type": "code",
        "colab": {
          "base_uri": "https://localhost:8080/",
          "height": 67
        },
        "outputId": "e57e1bbb-004e-49f2-a5fb-511a65ee48b3"
      },
      "cell_type": "code",
      "source": [
        "inf_ttest_dem_pvalue = scipy.stats.ttest_1samp(df4[df4.party == 'democrat'].infants, 0.5).pvalue\n",
        "inf_ttest_rep_pvalue = scipy.stats.ttest_1samp(df4[df4.party == 'republican'].infants, 0.5).pvalue\n",
        "inf_pvalue_diff = inf_ttest_dem_pvalue - inf_ttest_rep_pvalue\n",
        "print(inf_ttest_dem_pvalue)\n",
        "print(inf_ttest_rep_pvalue)\n",
        "inf_pvalue_diff"
      ],
      "execution_count": 192,
      "outputs": [
        {
          "output_type": "stream",
          "text": [
            "0.0007020787391745352\n",
            "3.1600971356609456e-19\n"
          ],
          "name": "stdout"
        },
        {
          "output_type": "execute_result",
          "data": {
            "text/plain": [
              "0.0007020787391745349"
            ]
          },
          "metadata": {
            "tags": []
          },
          "execution_count": 192
        }
      ]
    },
    {
      "metadata": {
        "id": "8sd7TvpYZYd9",
        "colab_type": "code",
        "colab": {
          "base_uri": "https://localhost:8080/",
          "height": 67
        },
        "outputId": "68f1cfad-1cec-4c50-e29c-ea5e3caaeb43"
      },
      "cell_type": "code",
      "source": [
        "ad_ttest_dem_pvalue = scipy.stats.ttest_1samp(df4[df4.party == 'democrat'].adoption, 0.5).pvalue\n",
        "ad_ttest_rep_pvalue = scipy.stats.ttest_1samp(df4[df4.party == 'republican'].adoption, 0.5).pvalue\n",
        "ad_pvalue_diff = ad_ttest_dem_pvalue - ad_ttest_rep_pvalue\n",
        "print(ad_ttest_dem_pvalue)\n",
        "print(ad_ttest_rep_pvalue)\n",
        "ad_pvalue_diff\n"
      ],
      "execution_count": 193,
      "outputs": [
        {
          "output_type": "stream",
          "text": [
            "4.119903926520872e-53\n",
            "1.2928239686728767e-28\n"
          ],
          "name": "stdout"
        },
        {
          "output_type": "execute_result",
          "data": {
            "text/plain": [
              "-1.2928239686728767e-28"
            ]
          },
          "metadata": {
            "tags": []
          },
          "execution_count": 193
        }
      ]
    },
    {
      "metadata": {
        "id": "MAqpJtq4ZZOh",
        "colab_type": "code",
        "colab": {
          "base_uri": "https://localhost:8080/",
          "height": 67
        },
        "outputId": "b5f58290-2667-493c-8895-3512ce55bf32"
      },
      "cell_type": "code",
      "source": [
        "ph_ttest_dem_pvalue = scipy.stats.ttest_1samp(df4[df4.party == 'democrat'].physician, 0.5).pvalue\n",
        "ph_ttest_rep_pvalue = scipy.stats.ttest_1samp(df4[df4.party == 'republican'].physician, 0.5).pvalue\n",
        "ph_pvalue_diff = ph_ttest_dem_pvalue - ph_ttest_rep_pvalue\n",
        "print(ph_ttest_dem_pvalue)\n",
        "print(ph_ttest_rep_pvalue)\n",
        "ph_pvalue_diff"
      ],
      "execution_count": 194,
      "outputs": [
        {
          "output_type": "stream",
          "text": [
            "2.768081946704667e-87\n",
            "4.2285554236275644e-101\n"
          ],
          "name": "stdout"
        },
        {
          "output_type": "execute_result",
          "data": {
            "text/plain": [
              "2.7680819467046247e-87"
            ]
          },
          "metadata": {
            "tags": []
          },
          "execution_count": 194
        }
      ]
    },
    {
      "metadata": {
        "id": "gWYaXLfXZdlo",
        "colab_type": "code",
        "colab": {
          "base_uri": "https://localhost:8080/",
          "height": 67
        },
        "outputId": "b422500c-3139-41cf-f2ae-72712006d5ef"
      },
      "cell_type": "code",
      "source": [
        "el_ttest_dem_pvalue = scipy.stats.ttest_1samp(df4[df4.party == 'democrat']['el-salvador'], 0.5).pvalue\n",
        "el_ttest_rep_pvalue = scipy.stats.ttest_1samp(df4[df4.party == 'republican']['el-salvador'], 0.5).pvalue\n",
        "el_pvalue_diff = el_ttest_dem_pvalue - el_ttest_rep_pvalue\n",
        "print(el_ttest_dem_pvalue)\n",
        "print(el_ttest_rep_pvalue)\n",
        "el_pvalue_diff"
      ],
      "execution_count": 195,
      "outputs": [
        {
          "output_type": "stream",
          "text": [
            "4.050958587413322e-23\n",
            "2.0399242521294114e-60\n"
          ],
          "name": "stdout"
        },
        {
          "output_type": "execute_result",
          "data": {
            "text/plain": [
              "4.050958587413322e-23"
            ]
          },
          "metadata": {
            "tags": []
          },
          "execution_count": 195
        }
      ]
    },
    {
      "metadata": {
        "id": "1rCr4OmAZePq",
        "colab_type": "code",
        "colab": {
          "base_uri": "https://localhost:8080/",
          "height": 67
        },
        "outputId": "f70f3074-db1a-41c7-a70e-f148629bbb33"
      },
      "cell_type": "code",
      "source": [
        "rel_ttest_dem_pvalue = scipy.stats.ttest_1samp(df4[df4.party == 'democrat'].religious, 0.5).pvalue\n",
        "rel_ttest_rep_pvalue = scipy.stats.ttest_1samp(df4[df4.party == 'republican'].religious, 0.5).pvalue\n",
        "rel_pvalue_diff = rel_ttest_dem_pvalue - rel_ttest_rep_pvalue\n",
        "print(rel_ttest_dem_pvalue)\n",
        "print(rel_ttest_rep_pvalue)\n",
        "rel_pvalue_diff"
      ],
      "execution_count": 196,
      "outputs": [
        {
          "output_type": "stream",
          "text": [
            "0.45604420174869686\n",
            "2.202655643628261e-37\n"
          ],
          "name": "stdout"
        },
        {
          "output_type": "execute_result",
          "data": {
            "text/plain": [
              "0.45604420174869686"
            ]
          },
          "metadata": {
            "tags": []
          },
          "execution_count": 196
        }
      ]
    },
    {
      "metadata": {
        "id": "f7UThe2uZfAC",
        "colab_type": "code",
        "colab": {
          "base_uri": "https://localhost:8080/",
          "height": 67
        },
        "outputId": "cacddf69-afce-49ee-f58b-35ce3f91bea8"
      },
      "cell_type": "code",
      "source": [
        "sat_ttest_dem_pvalue = scipy.stats.ttest_1samp(df4[df4.party == 'democrat'].satellite, 0.5).pvalue\n",
        "sat_ttest_rep_pvalue = scipy.stats.ttest_1samp(df4[df4.party == 'republican'].satellite, 0.5).pvalue\n",
        "sat_pvalue_diff = sat_ttest_dem_pvalue - sat_ttest_rep_pvalue\n",
        "print(sat_ttest_dem_pvalue)\n",
        "print(sat_ttest_rep_pvalue)\n",
        "sat_pvalue_diff"
      ],
      "execution_count": 197,
      "outputs": [
        {
          "output_type": "stream",
          "text": [
            "2.3812691114050773e-21\n",
            "1.5600418761724162e-12\n"
          ],
          "name": "stdout"
        },
        {
          "output_type": "execute_result",
          "data": {
            "text/plain": [
              "-1.560041873791147e-12"
            ]
          },
          "metadata": {
            "tags": []
          },
          "execution_count": 197
        }
      ]
    },
    {
      "metadata": {
        "id": "54MoBHO0ZfzL",
        "colab_type": "code",
        "colab": {
          "base_uri": "https://localhost:8080/",
          "height": 67
        },
        "outputId": "242e5e1d-b77f-43a3-d995-a31047842b15"
      },
      "cell_type": "code",
      "source": [
        "nic_ttest_dem_pvalue = scipy.stats.ttest_1samp(df4[df4.party == 'democrat'].nicaragua, 0.5).pvalue\n",
        "nic_ttest_rep_pvalue = scipy.stats.ttest_1samp(df4[df4.party == 'republican'].nicaragua, 0.5).pvalue\n",
        "nic_pvalue_diff = nic_ttest_dem_pvalue - nic_ttest_rep_pvalue\n",
        "print(nic_ttest_dem_pvalue)\n",
        "print(nic_ttest_rep_pvalue)\n",
        "nic_pvalue_diff"
      ],
      "execution_count": 198,
      "outputs": [
        {
          "output_type": "stream",
          "text": [
            "6.1110358969932e-34\n",
            "1.781573571734755e-23\n"
          ],
          "name": "stdout"
        },
        {
          "output_type": "execute_result",
          "data": {
            "text/plain": [
              "-1.7815735716736446e-23"
            ]
          },
          "metadata": {
            "tags": []
          },
          "execution_count": 198
        }
      ]
    },
    {
      "metadata": {
        "id": "kK-xRMl3ZgjB",
        "colab_type": "code",
        "colab": {
          "base_uri": "https://localhost:8080/",
          "height": 67
        },
        "outputId": "c0e43a2c-b309-40af-8e31-813b6c959ef3"
      },
      "cell_type": "code",
      "source": [
        "mis_ttest_dem_pvalue = scipy.stats.ttest_1samp(df4[df4.party == 'democrat'].missile, 0.5).pvalue\n",
        "mis_ttest_rep_pvalue = scipy.stats.ttest_1samp(df4[df4.party == 'republican'].missile, 0.5).pvalue\n",
        "mis_pvalue_diff = mis_ttest_dem_pvalue - mis_ttest_rep_pvalue\n",
        "print(mis_ttest_dem_pvalue)\n",
        "print(mis_ttest_rep_pvalue)\n",
        "mis_pvalue_diff"
      ],
      "execution_count": 206,
      "outputs": [
        {
          "output_type": "stream",
          "text": [
            "3.69913592709327e-18\n",
            "1.9344524594719517e-33\n"
          ],
          "name": "stdout"
        },
        {
          "output_type": "execute_result",
          "data": {
            "text/plain": [
              "3.699135927093268e-18"
            ]
          },
          "metadata": {
            "tags": []
          },
          "execution_count": 206
        }
      ]
    },
    {
      "metadata": {
        "id": "pzxCTXojZhw8",
        "colab_type": "code",
        "colab": {
          "base_uri": "https://localhost:8080/",
          "height": 67
        },
        "outputId": "9d196c3b-3808-461f-b04f-a0fc54dc5c11"
      },
      "cell_type": "code",
      "source": [
        "im_ttest_dem_pvalue = scipy.stats.ttest_1samp(df4[df4.party == 'democrat'].immigration, 0.5).pvalue\n",
        "im_ttest_rep_pvalue = scipy.stats.ttest_1samp(df4[df4.party == 'republican'].immigration, 0.5).pvalue\n",
        "im_pvalue_diff = im_ttest_dem_pvalue - im_ttest_rep_pvalue\n",
        "print(im_ttest_dem_pvalue)\n",
        "print(im_ttest_rep_pvalue)\n",
        "\n",
        "im_pvalue_diff"
      ],
      "execution_count": 207,
      "outputs": [
        {
          "output_type": "stream",
          "text": [
            "0.3559660440887368\n",
            "0.13957810611844593\n"
          ],
          "name": "stdout"
        },
        {
          "output_type": "execute_result",
          "data": {
            "text/plain": [
              "0.21638793797029085"
            ]
          },
          "metadata": {
            "tags": []
          },
          "execution_count": 207
        }
      ]
    },
    {
      "metadata": {
        "id": "hJotRZPQZiuv",
        "colab_type": "code",
        "colab": {
          "base_uri": "https://localhost:8080/",
          "height": 67
        },
        "outputId": "73c934c2-52f3-4701-c0fe-a670de765dc9"
      },
      "cell_type": "code",
      "source": [
        "cor_ttest_dem_pvalue = scipy.stats.ttest_1samp(df4[df4.party == 'democrat'].corporation, 0.5).pvalue\n",
        "cor_ttest_rep_pvalue = scipy.stats.ttest_1samp(df4[df4.party == 'republican'].corporation, 0.5).pvalue\n",
        "cor_pvalue_diff = cor_ttest_dem_pvalue - cor_ttest_rep_pvalue\n",
        "print(cor_ttest_dem_pvalue)\n",
        "print(cor_ttest_rep_pvalue)\n",
        "cor_pvalue_diff"
      ],
      "execution_count": 201,
      "outputs": [
        {
          "output_type": "stream",
          "text": [
            "0.851389996471544\n",
            "7.604563420239975e-28\n"
          ],
          "name": "stdout"
        },
        {
          "output_type": "execute_result",
          "data": {
            "text/plain": [
              "0.851389996471544"
            ]
          },
          "metadata": {
            "tags": []
          },
          "execution_count": 201
        }
      ]
    },
    {
      "metadata": {
        "id": "JKf1CCdjZk6V",
        "colab_type": "code",
        "colab": {
          "base_uri": "https://localhost:8080/",
          "height": 67
        },
        "outputId": "ded8d397-38d5-4d52-edf6-b3c3e5d34a6b"
      },
      "cell_type": "code",
      "source": [
        "ed_ttest_dem_pvalue = scipy.stats.ttest_1samp(df4[df4.party == 'democrat'].education, 0.5).pvalue\n",
        "ed_ttest_rep_pvalue = scipy.stats.ttest_1samp(df4[df4.party == 'republican'].education, 0.5).pvalue\n",
        "ed_pvalue_diff = ed_ttest_dem_pvalue - ed_ttest_rep_pvalue\n",
        "print(ed_ttest_dem_pvalue)\n",
        "print(ed_ttest_rep_pvalue)\n",
        "ed_pvalue_diff"
      ],
      "execution_count": 202,
      "outputs": [
        {
          "output_type": "stream",
          "text": [
            "1.108673997197652e-38\n",
            "1.6714009056692074e-27\n"
          ],
          "name": "stdout"
        },
        {
          "output_type": "execute_result",
          "data": {
            "text/plain": [
              "-1.6714009056581208e-27"
            ]
          },
          "metadata": {
            "tags": []
          },
          "execution_count": 202
        }
      ]
    },
    {
      "metadata": {
        "id": "ZputAzi1Zlu8",
        "colab_type": "code",
        "colab": {
          "base_uri": "https://localhost:8080/",
          "height": 67
        },
        "outputId": "62c0968d-dfbf-44fb-8b92-64448d98086b"
      },
      "cell_type": "code",
      "source": [
        "sup_ttest_dem_pvalue = scipy.stats.ttest_1samp(df4[df4.party == 'democrat'].superfund, 0.5).pvalue\n",
        "sup_ttest_rep_pvalue = scipy.stats.ttest_1samp(df4[df4.party == 'republican'].superfund, 0.5).pvalue\n",
        "sup_pvalue_diff = sup_ttest_dem_pvalue - sup_ttest_rep_pvalue\n",
        "print(sup_ttest_dem_pvalue)\n",
        "print(sup_ttest_rep_pvalue)\n",
        "sup_pvalue_diff"
      ],
      "execution_count": 203,
      "outputs": [
        {
          "output_type": "stream",
          "text": [
            "3.2826667782514405e-12\n",
            "3.5707304341780477e-26\n"
          ],
          "name": "stdout"
        },
        {
          "output_type": "execute_result",
          "data": {
            "text/plain": [
              "3.282666778251405e-12"
            ]
          },
          "metadata": {
            "tags": []
          },
          "execution_count": 203
        }
      ]
    },
    {
      "metadata": {
        "id": "DvwthDZkZmX0",
        "colab_type": "code",
        "colab": {
          "base_uri": "https://localhost:8080/",
          "height": 67
        },
        "outputId": "ca77c804-07fc-4171-a1ae-d2bc118571e4"
      },
      "cell_type": "code",
      "source": [
        "cr_ttest_dem_pvalue = scipy.stats.ttest_1samp(df4[df4.party == 'democrat'].crime, 0.5).pvalue\n",
        "cr_ttest_rep_pvalue = scipy.stats.ttest_1samp(df4[df4.party == 'republican'].crime, 0.5).pvalue\n",
        "cr_pvalue_diff = cr_ttest_dem_pvalue - cr_ttest_rep_pvalue\n",
        "print(cr_ttest_dem_pvalue)\n",
        "print(cr_ttest_rep_pvalue)\n",
        "cr_pvalue_diff"
      ],
      "execution_count": 204,
      "outputs": [
        {
          "output_type": "stream",
          "text": [
            "9.668863754086185e-07\n",
            "2.2317442645067957e-81\n"
          ],
          "name": "stdout"
        },
        {
          "output_type": "execute_result",
          "data": {
            "text/plain": [
              "9.668863754086185e-07"
            ]
          },
          "metadata": {
            "tags": []
          },
          "execution_count": 204
        }
      ]
    },
    {
      "metadata": {
        "id": "9Pn71sV3arbM",
        "colab_type": "code",
        "colab": {
          "base_uri": "https://localhost:8080/",
          "height": 67
        },
        "outputId": "2623bdf1-3a5b-4864-ba86-425752c3922e"
      },
      "cell_type": "code",
      "source": [
        "df_ttest_dem_pvalue = scipy.stats.ttest_1samp(df4[df4.party == 'democrat']['duty-free'], 0.5).pvalue\n",
        "df_ttest_rep_pvalue = scipy.stats.ttest_1samp(df4[df4.party == 'republican']['duty-free'], 0.5).pvalue\n",
        "df_pvalue_diff = df_ttest_dem_pvalue - df_ttest_rep_pvalue\n",
        "print(df_ttest_dem_pvalue)\n",
        "print(df_ttest_rep_pvalue)\n",
        "df_pvalue_diff"
      ],
      "execution_count": 205,
      "outputs": [
        {
          "output_type": "stream",
          "text": [
            "9.721757258926767e-06\n",
            "2.0288951092375116e-37\n"
          ],
          "name": "stdout"
        },
        {
          "output_type": "execute_result",
          "data": {
            "text/plain": [
              "9.721757258926767e-06"
            ]
          },
          "metadata": {
            "tags": []
          },
          "execution_count": 205
        }
      ]
    },
    {
      "metadata": {
        "id": "35_MvRdVhPyq",
        "colab_type": "text"
      },
      "cell_type": "markdown",
      "source": [
        "7. Attribute Information:\n",
        "   1. Class Name: 2 (democrat, republican)\n",
        "   2. handicapped-infants: 2 (y,n)\n",
        "   3. water-project-cost-sharing: 2 (y,n)\n",
        "   4. adoption-of-the-budget-resolution: 2 (y,n)\n",
        "   5. physician-fee-freeze: 2 (y,n)\n",
        "   6. el-salvador-aid: 2 (y,n)\n",
        "   7. religious-groups-in-schools: 2 (y,n)\n",
        "   8. anti-satellite-test-ban: 2 (y,n)\n",
        "   9. aid-to-nicaraguan-contras: 2 (y,n)\n",
        "  10. mx-missile: 2 (y,n)\n",
        "  11. immigration: 2 (y,n)\n",
        "  12. synfuels-corporation-cutback: 2 (y,n)\n",
        "  13. education-spending: 2 (y,n)\n",
        "  14. superfund-right-to-sue: 2 (y,n)\n",
        "  15. crime: 2 (y,n)\n",
        "  16. duty-free-exports: 2 (y,n)\n",
        "  17. export-administration-act-south-africa: 2 (y,n)"
      ]
    },
    {
      "metadata": {
        "id": "S7iJVNE9f9Hw",
        "colab_type": "text"
      },
      "cell_type": "markdown",
      "source": [
        "\n",
        "The  issues, that republicans support more than democrats with p < 0.01 are:\n",
        "\n",
        "- anti-satellite-test-ban\n",
        "- adoption-of-the-budget-resolution\n",
        "-  aid-to-nicaraguan-contras\n",
        "\n",
        "\n",
        "The  issues, that democrats support more than republicans with p < 0.01 are:\n",
        "- handicapped-infants\n",
        "- crime\n",
        "- physycian-fee-freeze\n",
        "- superfund-right-to-sue\n",
        "- el-salvador-aid\n",
        "- mx-missile\n",
        "- duty-free\n",
        "\n",
        "The issue where the difference between republicans and democrats has p > 0.1 are:\n",
        "\n",
        "- Democrats support more than Republicans the issue of immigration with p difference ~ 0.21\n",
        "- Democrats support more than Republicans the issue of synfuels-corporation-cutback with p difference ~ 0.85\n",
        "\n"
      ]
    }
  ]
}