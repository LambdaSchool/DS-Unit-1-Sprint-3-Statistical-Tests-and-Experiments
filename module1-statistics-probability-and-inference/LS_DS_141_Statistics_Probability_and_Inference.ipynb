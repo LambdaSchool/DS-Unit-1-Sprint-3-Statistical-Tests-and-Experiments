{
  "nbformat": 4,
  "nbformat_minor": 0,
  "metadata": {
    "colab": {
      "name": "LS_DS_141_Statistics_Probability_and_Inference.ipynb",
      "version": "0.3.2",
      "provenance": [],
      "include_colab_link": true
    },
    "kernelspec": {
      "name": "python3",
      "display_name": "Python 3"
    }
  },
  "cells": [
    {
      "cell_type": "markdown",
      "metadata": {
        "id": "view-in-github",
        "colab_type": "text"
      },
      "source": [
        "<a href=\"https://colab.research.google.com/github/standroidbeta/DS-Unit-1-Sprint-4-Statistical-Tests-and-Experiments/blob/master/module1-statistics-probability-and-inference/LS_DS_141_Statistics_Probability_and_Inference.ipynb\" target=\"_parent\"><img src=\"https://colab.research.google.com/assets/colab-badge.svg\" alt=\"Open In Colab\"/></a>"
      ]
    },
    {
      "metadata": {
        "id": "eJGtmni-DezY",
        "colab_type": "text"
      },
      "cell_type": "markdown",
      "source": [
        "# Lambda School Data Science Module 141\n",
        "## Statistics, Probability, and Inference"
      ]
    },
    {
      "metadata": {
        "id": "FMhDKOFND0qY",
        "colab_type": "text"
      },
      "cell_type": "markdown",
      "source": [
        "## Prepare - examine what's available in SciPy\n",
        "\n",
        "As we delve into statistics, we'll be using more libraries - in particular the [stats package from SciPy](https://docs.scipy.org/doc/scipy/reference/tutorial/stats.html)."
      ]
    },
    {
      "metadata": {
        "id": "fQ9rkLJmEbsk",
        "colab_type": "code",
        "outputId": "37d74827-b1e7-4681-8126-39282ab6bb1a",
        "colab": {
          "base_uri": "https://localhost:8080/",
          "height": 4233
        }
      },
      "cell_type": "code",
      "source": [
        "from scipy import stats\n",
        "dir(stats)"
      ],
      "execution_count": 1,
      "outputs": [
        {
          "output_type": "execute_result",
          "data": {
            "text/plain": [
              "['__all__',\n",
              " '__builtins__',\n",
              " '__cached__',\n",
              " '__doc__',\n",
              " '__file__',\n",
              " '__loader__',\n",
              " '__name__',\n",
              " '__package__',\n",
              " '__path__',\n",
              " '__spec__',\n",
              " '_binned_statistic',\n",
              " '_constants',\n",
              " '_continuous_distns',\n",
              " '_discrete_distns',\n",
              " '_distn_infrastructure',\n",
              " '_distr_params',\n",
              " '_multivariate',\n",
              " '_stats',\n",
              " '_stats_mstats_common',\n",
              " '_tukeylambda_stats',\n",
              " 'absolute_import',\n",
              " 'alpha',\n",
              " 'anderson',\n",
              " 'anderson_ksamp',\n",
              " 'anglit',\n",
              " 'ansari',\n",
              " 'arcsine',\n",
              " 'argus',\n",
              " 'bartlett',\n",
              " 'bayes_mvs',\n",
              " 'bernoulli',\n",
              " 'beta',\n",
              " 'betaprime',\n",
              " 'binned_statistic',\n",
              " 'binned_statistic_2d',\n",
              " 'binned_statistic_dd',\n",
              " 'binom',\n",
              " 'binom_test',\n",
              " 'boltzmann',\n",
              " 'boxcox',\n",
              " 'boxcox_llf',\n",
              " 'boxcox_normmax',\n",
              " 'boxcox_normplot',\n",
              " 'bradford',\n",
              " 'burr',\n",
              " 'burr12',\n",
              " 'cauchy',\n",
              " 'chi',\n",
              " 'chi2',\n",
              " 'chi2_contingency',\n",
              " 'chisquare',\n",
              " 'circmean',\n",
              " 'circstd',\n",
              " 'circvar',\n",
              " 'combine_pvalues',\n",
              " 'contingency',\n",
              " 'cosine',\n",
              " 'crystalball',\n",
              " 'cumfreq',\n",
              " 'describe',\n",
              " 'dgamma',\n",
              " 'dirichlet',\n",
              " 'distributions',\n",
              " 'division',\n",
              " 'dlaplace',\n",
              " 'dweibull',\n",
              " 'energy_distance',\n",
              " 'entropy',\n",
              " 'erlang',\n",
              " 'expon',\n",
              " 'exponnorm',\n",
              " 'exponpow',\n",
              " 'exponweib',\n",
              " 'f',\n",
              " 'f_oneway',\n",
              " 'fatiguelife',\n",
              " 'find_repeats',\n",
              " 'fisher_exact',\n",
              " 'fisk',\n",
              " 'fligner',\n",
              " 'foldcauchy',\n",
              " 'foldnorm',\n",
              " 'frechet_l',\n",
              " 'frechet_r',\n",
              " 'friedmanchisquare',\n",
              " 'gamma',\n",
              " 'gausshyper',\n",
              " 'gaussian_kde',\n",
              " 'genexpon',\n",
              " 'genextreme',\n",
              " 'gengamma',\n",
              " 'genhalflogistic',\n",
              " 'genlogistic',\n",
              " 'gennorm',\n",
              " 'genpareto',\n",
              " 'geom',\n",
              " 'gilbrat',\n",
              " 'gmean',\n",
              " 'gompertz',\n",
              " 'gumbel_l',\n",
              " 'gumbel_r',\n",
              " 'halfcauchy',\n",
              " 'halfgennorm',\n",
              " 'halflogistic',\n",
              " 'halfnorm',\n",
              " 'hmean',\n",
              " 'hypergeom',\n",
              " 'hypsecant',\n",
              " 'invgamma',\n",
              " 'invgauss',\n",
              " 'invweibull',\n",
              " 'invwishart',\n",
              " 'iqr',\n",
              " 'itemfreq',\n",
              " 'jarque_bera',\n",
              " 'johnsonsb',\n",
              " 'johnsonsu',\n",
              " 'kappa3',\n",
              " 'kappa4',\n",
              " 'kde',\n",
              " 'kendalltau',\n",
              " 'kruskal',\n",
              " 'ks_2samp',\n",
              " 'ksone',\n",
              " 'kstat',\n",
              " 'kstatvar',\n",
              " 'kstest',\n",
              " 'kstwobign',\n",
              " 'kurtosis',\n",
              " 'kurtosistest',\n",
              " 'laplace',\n",
              " 'levene',\n",
              " 'levy',\n",
              " 'levy_l',\n",
              " 'levy_stable',\n",
              " 'linregress',\n",
              " 'loggamma',\n",
              " 'logistic',\n",
              " 'loglaplace',\n",
              " 'lognorm',\n",
              " 'logser',\n",
              " 'lomax',\n",
              " 'mannwhitneyu',\n",
              " 'matrix_normal',\n",
              " 'maxwell',\n",
              " 'median_test',\n",
              " 'mielke',\n",
              " 'mode',\n",
              " 'moment',\n",
              " 'mood',\n",
              " 'morestats',\n",
              " 'moyal',\n",
              " 'mstats',\n",
              " 'mstats_basic',\n",
              " 'mstats_extras',\n",
              " 'multinomial',\n",
              " 'multivariate_normal',\n",
              " 'mvn',\n",
              " 'mvsdist',\n",
              " 'nakagami',\n",
              " 'nbinom',\n",
              " 'ncf',\n",
              " 'nct',\n",
              " 'ncx2',\n",
              " 'norm',\n",
              " 'normaltest',\n",
              " 'norminvgauss',\n",
              " 'obrientransform',\n",
              " 'ortho_group',\n",
              " 'pareto',\n",
              " 'pearson3',\n",
              " 'pearsonr',\n",
              " 'percentileofscore',\n",
              " 'planck',\n",
              " 'pointbiserialr',\n",
              " 'poisson',\n",
              " 'power_divergence',\n",
              " 'powerlaw',\n",
              " 'powerlognorm',\n",
              " 'powernorm',\n",
              " 'ppcc_max',\n",
              " 'ppcc_plot',\n",
              " 'print_function',\n",
              " 'probplot',\n",
              " 'randint',\n",
              " 'random_correlation',\n",
              " 'rankdata',\n",
              " 'ranksums',\n",
              " 'rayleigh',\n",
              " 'rdist',\n",
              " 'recipinvgauss',\n",
              " 'reciprocal',\n",
              " 'relfreq',\n",
              " 'rice',\n",
              " 'rv_continuous',\n",
              " 'rv_discrete',\n",
              " 'rv_histogram',\n",
              " 'scoreatpercentile',\n",
              " 'sem',\n",
              " 'semicircular',\n",
              " 'shapiro',\n",
              " 'sigmaclip',\n",
              " 'skellam',\n",
              " 'skew',\n",
              " 'skewnorm',\n",
              " 'skewtest',\n",
              " 'spearmanr',\n",
              " 'special_ortho_group',\n",
              " 'statlib',\n",
              " 'stats',\n",
              " 't',\n",
              " 'test',\n",
              " 'theilslopes',\n",
              " 'tiecorrect',\n",
              " 'tmax',\n",
              " 'tmean',\n",
              " 'tmin',\n",
              " 'trapz',\n",
              " 'triang',\n",
              " 'trim1',\n",
              " 'trim_mean',\n",
              " 'trimboth',\n",
              " 'truncexpon',\n",
              " 'truncnorm',\n",
              " 'tsem',\n",
              " 'tstd',\n",
              " 'ttest_1samp',\n",
              " 'ttest_ind',\n",
              " 'ttest_ind_from_stats',\n",
              " 'ttest_rel',\n",
              " 'tukeylambda',\n",
              " 'tvar',\n",
              " 'uniform',\n",
              " 'unitary_group',\n",
              " 'variation',\n",
              " 'vonmises',\n",
              " 'vonmises_line',\n",
              " 'wald',\n",
              " 'wasserstein_distance',\n",
              " 'weibull_max',\n",
              " 'weibull_min',\n",
              " 'weightedtau',\n",
              " 'wilcoxon',\n",
              " 'wishart',\n",
              " 'wrapcauchy',\n",
              " 'zipf',\n",
              " 'zmap',\n",
              " 'zscore']"
            ]
          },
          "metadata": {
            "tags": []
          },
          "execution_count": 1
        }
      ]
    },
    {
      "metadata": {
        "id": "bxW4SG_gJGlZ",
        "colab_type": "code",
        "outputId": "c326c0b9-56d5-496f-d868-aa1595ad3bef",
        "colab": {
          "base_uri": "https://localhost:8080/",
          "height": 68
        }
      },
      "cell_type": "code",
      "source": [
        "# As usual, lots of stuff here! There's our friend, the normal distribution\n",
        "norm = stats.norm()\n",
        "print(norm.mean())\n",
        "print(norm.std())\n",
        "print(norm.var())"
      ],
      "execution_count": 2,
      "outputs": [
        {
          "output_type": "stream",
          "text": [
            "0.0\n",
            "1.0\n",
            "1.0\n"
          ],
          "name": "stdout"
        }
      ]
    },
    {
      "metadata": {
        "id": "RyNKPt_tJk86",
        "colab_type": "code",
        "outputId": "5813f2fc-6d95-415e-c7a3-28c878c440c4",
        "colab": {
          "base_uri": "https://localhost:8080/",
          "height": 68
        }
      },
      "cell_type": "code",
      "source": [
        "# And a new friend - t\n",
        "t1 = stats.t(5)  # 5 is df \"shape\" parameter\n",
        "print(t1.mean())\n",
        "print(t1.std())\n",
        "print(t1.var())"
      ],
      "execution_count": 3,
      "outputs": [
        {
          "output_type": "stream",
          "text": [
            "0.0\n",
            "1.2909944487358056\n",
            "1.6666666666666667\n"
          ],
          "name": "stdout"
        }
      ]
    },
    {
      "metadata": {
        "id": "SRn1zMuaKgxX",
        "colab_type": "text"
      },
      "cell_type": "markdown",
      "source": [
        "![T distribution PDF with different shape parameters](https://upload.wikimedia.org/wikipedia/commons/4/41/Student_t_pdf.svg)\n",
        "\n",
        "*(Picture from [Wikipedia](https://en.wikipedia.org/wiki/Student's_t-distribution#/media/File:Student_t_pdf.svg))*\n",
        "\n",
        "The t-distribution is \"normal-ish\" - the larger the parameter (which reflects its degrees of freedom - more input data/features will increase it), the closer to true normal."
      ]
    },
    {
      "metadata": {
        "id": "seQv5unnJvpM",
        "colab_type": "code",
        "outputId": "8d724933-0754-4613-93f4-f67d041e5b8a",
        "colab": {
          "base_uri": "https://localhost:8080/",
          "height": 68
        }
      },
      "cell_type": "code",
      "source": [
        "t2 = stats.t(30)  # Will be closer to normal\n",
        "print(t2.mean())\n",
        "print(t2.std())\n",
        "print(t2.var())"
      ],
      "execution_count": 4,
      "outputs": [
        {
          "output_type": "stream",
          "text": [
            "0.0\n",
            "1.0350983390135313\n",
            "1.0714285714285714\n"
          ],
          "name": "stdout"
        }
      ]
    },
    {
      "metadata": {
        "id": "FOvEGMysLaE2",
        "colab_type": "text"
      },
      "cell_type": "markdown",
      "source": [
        "Why is it different from normal? To better reflect the tendencies of small data and situations with unknown population standard deviation. In other words, the normal distribution is still the nice pure ideal in the limit (thanks to the central limit theorem), but the t-distribution is much more useful in many real-world situations.\n",
        "\n",
        "History sidenote - this is \"Student\":\n",
        "\n",
        "![William Sealy Gosset](https://upload.wikimedia.org/wikipedia/commons/4/42/William_Sealy_Gosset.jpg)\n",
        "\n",
        "*(Picture from [Wikipedia](https://en.wikipedia.org/wiki/File:William_Sealy_Gosset.jpg))*\n",
        "\n",
        "His real name is William Sealy Gosset, and he published under the pen name \"Student\" because he was not an academic. He was a brewer, working at Guinness and using trial and error to determine the best ways to yield barley. He's also proof that, even 100 years ago, you don't need official credentials to do real data science!"
      ]
    },
    {
      "metadata": {
        "id": "1yx_QilAEC6o",
        "colab_type": "text"
      },
      "cell_type": "markdown",
      "source": [
        "## Live Lecture - let's perform and interpret a t-test\n",
        "\n",
        "We'll generate our own data, so we can know and alter the \"ground truth\" that the t-test should find. We will learn about p-values and how to interpret \"statistical significance\" based on the output of a hypothesis test. We will also dig a bit deeper into how the test statistic is calculated based on the sample error, and visually what it looks like to have 1 or 2 \"tailed\" t-tests."
      ]
    },
    {
      "metadata": {
        "id": "BuysRPs-Ed0v",
        "colab_type": "code",
        "colab": {
          "base_uri": "https://localhost:8080/",
          "height": 359
        },
        "outputId": "3eaafd74-f1a4-4802-bc74-25dc28227f36"
      },
      "cell_type": "code",
      "source": [
        "# TODO - during class, but please help!\n",
        "lambda_heights = [72, 72, 77, 72, 73, 67, 64, 58, 63, 78]\n",
        "\n",
        "import pandas as pd\n",
        "df = pd.DataFrame({'heights': lambda_heights})\n",
        "\n",
        "df.head(10)"
      ],
      "execution_count": 5,
      "outputs": [
        {
          "output_type": "execute_result",
          "data": {
            "text/html": [
              "<div>\n",
              "<style scoped>\n",
              "    .dataframe tbody tr th:only-of-type {\n",
              "        vertical-align: middle;\n",
              "    }\n",
              "\n",
              "    .dataframe tbody tr th {\n",
              "        vertical-align: top;\n",
              "    }\n",
              "\n",
              "    .dataframe thead th {\n",
              "        text-align: right;\n",
              "    }\n",
              "</style>\n",
              "<table border=\"1\" class=\"dataframe\">\n",
              "  <thead>\n",
              "    <tr style=\"text-align: right;\">\n",
              "      <th></th>\n",
              "      <th>heights</th>\n",
              "    </tr>\n",
              "  </thead>\n",
              "  <tbody>\n",
              "    <tr>\n",
              "      <th>0</th>\n",
              "      <td>72</td>\n",
              "    </tr>\n",
              "    <tr>\n",
              "      <th>1</th>\n",
              "      <td>72</td>\n",
              "    </tr>\n",
              "    <tr>\n",
              "      <th>2</th>\n",
              "      <td>77</td>\n",
              "    </tr>\n",
              "    <tr>\n",
              "      <th>3</th>\n",
              "      <td>72</td>\n",
              "    </tr>\n",
              "    <tr>\n",
              "      <th>4</th>\n",
              "      <td>73</td>\n",
              "    </tr>\n",
              "    <tr>\n",
              "      <th>5</th>\n",
              "      <td>67</td>\n",
              "    </tr>\n",
              "    <tr>\n",
              "      <th>6</th>\n",
              "      <td>64</td>\n",
              "    </tr>\n",
              "    <tr>\n",
              "      <th>7</th>\n",
              "      <td>58</td>\n",
              "    </tr>\n",
              "    <tr>\n",
              "      <th>8</th>\n",
              "      <td>63</td>\n",
              "    </tr>\n",
              "    <tr>\n",
              "      <th>9</th>\n",
              "      <td>78</td>\n",
              "    </tr>\n",
              "  </tbody>\n",
              "</table>\n",
              "</div>"
            ],
            "text/plain": [
              "   heights\n",
              "0       72\n",
              "1       72\n",
              "2       77\n",
              "3       72\n",
              "4       73\n",
              "5       67\n",
              "6       64\n",
              "7       58\n",
              "8       63\n",
              "9       78"
            ]
          },
          "metadata": {
            "tags": []
          },
          "execution_count": 5
        }
      ]
    },
    {
      "metadata": {
        "id": "mhG5PZY3ccH8",
        "colab_type": "code",
        "colab": {
          "base_uri": "https://localhost:8080/",
          "height": 34
        },
        "outputId": "93ddb4b8-731d-4431-de13-969c27b20d13"
      },
      "cell_type": "code",
      "source": [
        "df['heights'].mean()"
      ],
      "execution_count": 6,
      "outputs": [
        {
          "output_type": "execute_result",
          "data": {
            "text/plain": [
              "69.6"
            ]
          },
          "metadata": {
            "tags": []
          },
          "execution_count": 6
        }
      ]
    },
    {
      "metadata": {
        "id": "eJYI8LW8ct8p",
        "colab_type": "code",
        "colab": {
          "base_uri": "https://localhost:8080/",
          "height": 71
        },
        "outputId": "56c29418-eaa5-4b29-cffd-3720b71ef83a"
      },
      "cell_type": "code",
      "source": [
        "import random\n",
        "random.seed(10)\n",
        "\n",
        "population = []\n",
        "\n",
        "for _ in range(1000):\n",
        "  population.append(random.randint(0,1))\n",
        "\n",
        "print(population)\n",
        "print(len(population))"
      ],
      "execution_count": 7,
      "outputs": [
        {
          "output_type": "stream",
          "text": [
            "[0, 1, 1, 0, 0, 1, 1, 1, 0, 0, 1, 1, 0, 0, 1, 0, 1, 0, 1, 1, 1, 1, 1, 1, 0, 1, 1, 0, 1, 0, 1, 1, 0, 0, 0, 0, 0, 1, 1, 0, 1, 1, 1, 1, 0, 1, 0, 0, 1, 0, 0, 0, 1, 1, 0, 0, 0, 1, 1, 0, 0, 0, 1, 0, 0, 1, 1, 1, 1, 0, 1, 0, 0, 0, 1, 1, 1, 0, 0, 0, 1, 1, 1, 1, 0, 0, 0, 1, 1, 0, 0, 1, 1, 1, 0, 1, 1, 0, 1, 1, 1, 0, 0, 1, 1, 1, 0, 1, 1, 1, 1, 0, 1, 0, 1, 0, 0, 1, 0, 0, 1, 0, 0, 0, 1, 1, 0, 1, 1, 1, 1, 1, 1, 1, 1, 0, 0, 1, 0, 0, 1, 0, 0, 1, 1, 0, 1, 0, 0, 0, 1, 0, 1, 0, 1, 1, 0, 1, 0, 0, 0, 1, 0, 0, 1, 1, 1, 1, 0, 1, 1, 0, 0, 0, 1, 1, 1, 0, 0, 1, 0, 0, 1, 1, 1, 1, 1, 0, 1, 1, 1, 1, 1, 1, 1, 1, 1, 1, 1, 1, 1, 1, 0, 1, 1, 0, 1, 0, 1, 0, 1, 1, 0, 1, 1, 1, 0, 0, 0, 1, 0, 0, 0, 0, 1, 0, 1, 0, 1, 0, 1, 0, 1, 0, 0, 0, 1, 1, 1, 0, 0, 0, 1, 0, 0, 1, 0, 1, 1, 1, 0, 0, 1, 1, 1, 1, 0, 1, 1, 1, 1, 1, 0, 0, 1, 0, 0, 0, 0, 1, 1, 1, 0, 0, 0, 1, 0, 0, 0, 0, 1, 0, 1, 0, 1, 1, 0, 1, 0, 1, 0, 0, 1, 1, 1, 0, 0, 0, 1, 0, 1, 0, 1, 0, 0, 0, 1, 1, 1, 0, 1, 1, 0, 1, 0, 0, 1, 0, 0, 1, 0, 1, 0, 1, 1, 0, 0, 0, 0, 1, 0, 0, 1, 1, 0, 0, 1, 1, 1, 0, 0, 0, 0, 1, 0, 0, 0, 1, 1, 0, 0, 0, 0, 0, 0, 0, 0, 1, 0, 0, 1, 0, 1, 0, 0, 0, 1, 1, 1, 1, 0, 0, 1, 1, 1, 1, 0, 0, 1, 1, 0, 0, 1, 0, 0, 1, 0, 1, 0, 0, 0, 1, 1, 0, 1, 1, 0, 0, 0, 0, 0, 0, 0, 0, 1, 1, 0, 0, 1, 0, 1, 1, 1, 1, 0, 0, 0, 1, 0, 1, 0, 1, 1, 0, 0, 1, 1, 0, 1, 1, 0, 1, 1, 1, 0, 1, 1, 0, 0, 1, 0, 1, 0, 1, 0, 0, 0, 0, 0, 1, 1, 0, 1, 0, 0, 0, 1, 1, 1, 1, 0, 0, 1, 0, 0, 0, 1, 0, 1, 1, 0, 0, 0, 0, 0, 1, 1, 0, 0, 0, 1, 0, 0, 1, 1, 0, 0, 1, 1, 1, 0, 0, 1, 1, 1, 1, 0, 1, 1, 0, 1, 1, 1, 0, 0, 1, 1, 0, 0, 1, 0, 0, 1, 0, 0, 1, 1, 0, 1, 0, 1, 1, 0, 1, 0, 1, 1, 1, 1, 1, 0, 1, 0, 0, 1, 1, 1, 1, 1, 1, 0, 1, 1, 1, 0, 0, 0, 1, 0, 0, 0, 0, 0, 1, 1, 0, 0, 0, 0, 1, 1, 0, 0, 0, 0, 0, 1, 1, 1, 0, 1, 1, 1, 0, 0, 1, 0, 0, 0, 0, 1, 1, 1, 1, 1, 1, 1, 1, 0, 0, 1, 1, 1, 1, 1, 1, 0, 0, 0, 1, 1, 0, 0, 1, 0, 0, 0, 1, 1, 1, 0, 1, 0, 0, 0, 1, 0, 1, 1, 0, 0, 0, 0, 0, 1, 1, 0, 1, 0, 1, 1, 0, 0, 1, 1, 0, 0, 0, 0, 0, 0, 1, 0, 0, 1, 1, 1, 0, 1, 0, 1, 1, 1, 0, 1, 0, 0, 0, 0, 0, 1, 0, 1, 1, 1, 1, 0, 1, 0, 0, 0, 1, 0, 1, 0, 0, 0, 1, 0, 1, 1, 0, 0, 0, 1, 1, 0, 0, 1, 0, 0, 0, 1, 1, 1, 1, 1, 0, 1, 1, 1, 0, 1, 1, 1, 0, 1, 1, 1, 1, 1, 1, 0, 1, 0, 0, 0, 0, 1, 1, 1, 1, 0, 1, 0, 0, 0, 0, 0, 0, 0, 1, 1, 1, 1, 1, 1, 0, 0, 1, 0, 0, 0, 1, 0, 1, 1, 0, 1, 1, 1, 0, 1, 1, 1, 1, 1, 1, 0, 1, 1, 1, 0, 0, 1, 1, 1, 1, 0, 1, 0, 0, 0, 1, 1, 0, 0, 0, 0, 1, 0, 1, 0, 0, 0, 1, 0, 1, 1, 0, 1, 0, 1, 0, 0, 1, 0, 0, 0, 1, 1, 1, 0, 1, 0, 0, 1, 0, 1, 1, 1, 0, 0, 0, 1, 1, 0, 1, 1, 0, 1, 0, 1, 0, 0, 0, 0, 0, 0, 1, 0, 0, 1, 1, 0, 1, 1, 0, 0, 0, 0, 1, 0, 1, 0, 1, 1, 0, 0, 1, 0, 1, 0, 1, 1, 1, 0, 1, 1, 0, 1, 0, 0, 1, 1, 0, 0, 0, 0, 0, 0, 1, 0, 0, 1, 0, 1, 1, 1, 1, 1, 1, 1, 0, 0, 1, 0, 0, 1, 1, 1, 0, 0, 1, 1, 1, 1, 0, 0, 1, 1, 0, 1, 0, 1, 0, 1, 0, 1, 0, 1, 0, 0, 0, 1, 0, 1, 0, 1, 1, 1, 1, 1, 0, 0, 1, 0, 1, 1, 1, 1, 0, 1, 0, 0, 1, 1, 1, 0, 1, 0, 0, 0, 1, 0, 0, 0, 0, 1, 1, 0, 0, 0, 0, 0, 1, 0, 0, 1, 1, 1, 0, 0, 0, 0, 0, 1, 1, 0, 1, 0, 1, 0, 0, 1, 0, 1, 1, 1, 0, 1, 0, 1, 0, 1, 1, 0, 1, 0, 1, 1, 0, 1, 1, 0, 1, 0, 0, 1, 0]\n",
            "1000\n"
          ],
          "name": "stdout"
        }
      ]
    },
    {
      "metadata": {
        "id": "_aV1H-g5dQyy",
        "colab_type": "code",
        "colab": {
          "base_uri": "https://localhost:8080/",
          "height": 71
        },
        "outputId": "ceb85061-90bd-47b7-83a4-95981b74acb0"
      },
      "cell_type": "code",
      "source": [
        "sample = random.sample(population, 100)\n",
        "\n",
        "print(sample)\n",
        "print(len(sample))"
      ],
      "execution_count": 8,
      "outputs": [
        {
          "output_type": "stream",
          "text": [
            "[0, 0, 0, 0, 1, 0, 1, 1, 1, 1, 0, 1, 1, 1, 1, 1, 1, 0, 0, 0, 0, 1, 1, 0, 1, 0, 1, 0, 1, 1, 1, 0, 0, 1, 0, 0, 1, 1, 0, 0, 0, 1, 0, 0, 0, 0, 0, 0, 0, 0, 0, 0, 0, 0, 0, 1, 0, 0, 1, 0, 1, 1, 1, 0, 0, 1, 1, 0, 1, 0, 1, 1, 1, 0, 0, 1, 1, 0, 0, 0, 0, 1, 1, 1, 0, 0, 1, 1, 1, 0, 0, 1, 0, 1, 1, 0, 1, 0, 1, 0]\n",
            "100\n"
          ],
          "name": "stdout"
        }
      ]
    },
    {
      "metadata": {
        "id": "BLjCPj-adm9B",
        "colab_type": "code",
        "colab": {
          "base_uri": "https://localhost:8080/",
          "height": 34
        },
        "outputId": "0ce21bd5-8c59-41eb-ff75-6274b435d441"
      },
      "cell_type": "code",
      "source": [
        "df = pd.DataFrame({'likes_coke': sample})\n",
        "df.head()\n",
        "\n",
        "df['likes_coke'].mean()"
      ],
      "execution_count": 9,
      "outputs": [
        {
          "output_type": "execute_result",
          "data": {
            "text/plain": [
              "0.46"
            ]
          },
          "metadata": {
            "tags": []
          },
          "execution_count": 9
        }
      ]
    },
    {
      "metadata": {
        "id": "MeF03Cf0d7k-",
        "colab_type": "code",
        "colab": {
          "base_uri": "https://localhost:8080/",
          "height": 347
        },
        "outputId": "4aa4158d-efb6-4697-e7cb-acbbc136f598"
      },
      "cell_type": "code",
      "source": [
        "df.plot.hist();"
      ],
      "execution_count": 10,
      "outputs": [
        {
          "output_type": "display_data",
          "data": {
            "image/png": "[encoded data removed]",
            "text/plain": [
              "<Figure size 576x396 with 1 Axes>"
            ]
          },
          "metadata": {
            "tags": []
          }
        }
      ]
    },
    {
      "metadata": {
        "id": "3uj3ol6deBo1",
        "colab_type": "code",
        "colab": {
          "base_uri": "https://localhost:8080/",
          "height": 170
        },
        "outputId": "10114d96-43a5-461e-e46f-39b0d734b096"
      },
      "cell_type": "code",
      "source": [
        "df['likes_coke'].describe()"
      ],
      "execution_count": 11,
      "outputs": [
        {
          "output_type": "execute_result",
          "data": {
            "text/plain": [
              "count    100.000000\n",
              "mean       0.460000\n",
              "std        0.500908\n",
              "min        0.000000\n",
              "25%        0.000000\n",
              "50%        0.000000\n",
              "75%        1.000000\n",
              "max        1.000000\n",
              "Name: likes_coke, dtype: float64"
            ]
          },
          "metadata": {
            "tags": []
          },
          "execution_count": 11
        }
      ]
    },
    {
      "metadata": {
        "id": "Q4nGaAx2eH8O",
        "colab_type": "code",
        "colab": {
          "base_uri": "https://localhost:8080/",
          "height": 51
        },
        "outputId": "885e3036-7e8d-42d5-c774-b93d1a14feb9"
      },
      "cell_type": "code",
      "source": [
        "import numpy as np\n",
        "\n",
        "def mean(list):\n",
        "  average = np.sum(list)/len(list)\n",
        "  return average\n",
        "\n",
        "print('Population Mean:', mean(population))\n",
        "print('Sample Mean', mean(sample))"
      ],
      "execution_count": 12,
      "outputs": [
        {
          "output_type": "stream",
          "text": [
            "Population Mean: 0.507\n",
            "Sample Mean 0.46\n"
          ],
          "name": "stdout"
        }
      ]
    },
    {
      "metadata": {
        "id": "GXWIFPrpgb5o",
        "colab_type": "code",
        "colab": {
          "base_uri": "https://localhost:8080/",
          "height": 34
        },
        "outputId": "5c791f96-8f3b-4f48-fea6-715f0b722463"
      },
      "cell_type": "code",
      "source": [
        "def variance(list):\n",
        "  n = len(list)\n",
        "  return np.sum((list - mean(list))**2)/(n-1)\n",
        "\n",
        "variance(df['likes_coke'])"
      ],
      "execution_count": 13,
      "outputs": [
        {
          "output_type": "execute_result",
          "data": {
            "text/plain": [
              "0.25090909090909086"
            ]
          },
          "metadata": {
            "tags": []
          },
          "execution_count": 13
        }
      ]
    },
    {
      "metadata": {
        "id": "EAGyz7fthLDj",
        "colab_type": "code",
        "colab": {
          "base_uri": "https://localhost:8080/",
          "height": 34
        },
        "outputId": "f2d79e2b-0148-480b-b010-821f5c84a97b"
      },
      "cell_type": "code",
      "source": [
        "def stddev(list):\n",
        "  var = variance(list)\n",
        "  return var**(1/2)\n",
        "\n",
        "stddev(df['likes_coke'])"
      ],
      "execution_count": 14,
      "outputs": [
        {
          "output_type": "execute_result",
          "data": {
            "text/plain": [
              "0.5009082659620331"
            ]
          },
          "metadata": {
            "tags": []
          },
          "execution_count": 14
        }
      ]
    },
    {
      "metadata": {
        "id": "ikzLyHy6hlCT",
        "colab_type": "text"
      },
      "cell_type": "markdown",
      "source": [
        "<img src=\"https://www.ahajournals.org/cms/attachment/850f8023-e028-4694-a946-bbdbdaa9009b/15mm6.jpg\"  width='200'/>"
      ]
    },
    {
      "metadata": {
        "id": "7UxPgEgPhnMa",
        "colab_type": "code",
        "colab": {
          "base_uri": "https://localhost:8080/",
          "height": 34
        },
        "outputId": "26a2ca89-ffae-452b-bdb2-ad5059ee657c"
      },
      "cell_type": "code",
      "source": [
        "n = len(df['likes_coke'])\n",
        "t_stat = (mean(df['likes_coke']) - .5)/(stddev(df['likes_coke'])/n**(1/2))\n",
        "\n",
        "print(t_stat)"
      ],
      "execution_count": 15,
      "outputs": [
        {
          "output_type": "stream",
          "text": [
            "-0.7985494095046901\n"
          ],
          "name": "stdout"
        }
      ]
    },
    {
      "metadata": {
        "id": "9tYAUsrGjOSa",
        "colab_type": "code",
        "colab": {}
      },
      "cell_type": "code",
      "source": [
        "# dir(scipy.stats)"
      ],
      "execution_count": 0,
      "outputs": []
    },
    {
      "metadata": {
        "id": "fVhF4t9xikr4",
        "colab_type": "code",
        "colab": {
          "base_uri": "https://localhost:8080/",
          "height": 34
        },
        "outputId": "e6b2f340-c5d0-4c11-9ec1-ec9632cd4a08"
      },
      "cell_type": "code",
      "source": [
        "stats.ttest_1samp(df['likes_coke'], .5)"
      ],
      "execution_count": 17,
      "outputs": [
        {
          "output_type": "execute_result",
          "data": {
            "text/plain": [
              "Ttest_1sampResult(statistic=-0.7985494095046901, pvalue=0.4264632540527489)"
            ]
          },
          "metadata": {
            "tags": []
          },
          "execution_count": 17
        }
      ]
    },
    {
      "metadata": {
        "id": "B4gaT-vHjmKx",
        "colab_type": "text"
      },
      "cell_type": "markdown",
      "source": [
        "\\begin{align}\n",
        "t = \\frac{\\text{variance between groups}}{\\text{variance within groups}}\n",
        "\\end{align}"
      ]
    },
    {
      "metadata": {
        "id": "egXb7YpqEcZF",
        "colab_type": "text"
      },
      "cell_type": "markdown",
      "source": [
        "## Assignment - apply the t-test to real data\n",
        "\n",
        "Your assignment is to determine which issues have \"statistically significant\" differences between political parties in this [1980s congressional voting data](https://archive.ics.uci.edu/ml/datasets/Congressional+Voting+Records). The data consists of 435 instances (one for each congressperson), a class (democrat or republican), and 16 binary attributes (yes or no for voting for or against certain issues). Be aware - there are missing values!\n",
        "\n",
        "Your goals:\n",
        "\n",
        "1. Load and clean the data (or determine the best method to drop observations when running tests)\n",
        "2. Using hypothesis testing, find an issue that democrats support more than republicans with p < 0.01\n",
        "3. Using hypothesis testing, find an issue that republicans support more than democrats with p < 0.01\n",
        "4. Using hypothesis testing, find an issue where the difference between republicans and democrats has p > 0.1 (i.e. there may not be much of a difference)\n",
        "\n",
        "Note that this data will involve *2 sample* t-tests, because you're comparing averages across two groups (republicans and democrats) rather than a single group against a null hypothesis.\n",
        "\n",
        "Stretch goals:\n",
        "\n",
        "1. Refactor your code into functions so it's easy to rerun with arbitrary variables\n",
        "2. Apply hypothesis testing to your personal project data (for the purposes of this notebook you can type a summary of the hypothesis you formed and tested)"
      ]
    },
    {
      "metadata": {
        "id": "nstrmCG-Ecyk",
        "colab_type": "code",
        "colab": {
          "base_uri": "https://localhost:8080/",
          "height": 204
        },
        "outputId": "b860a0b8-f17b-49eb-82dd-57472f90e623"
      },
      "cell_type": "code",
      "source": [
        "# TODO - your code here!\n",
        "votes = pd.read_csv('https://archive.ics.uci.edu/ml/machine-learning-databases/voting-records/house-votes-84.data', header=None)\n",
        "\n",
        "votes.head()"
      ],
      "execution_count": 18,
      "outputs": [
        {
          "output_type": "execute_result",
          "data": {
            "text/html": [
              "<div>\n",
              "<style scoped>\n",
              "    .dataframe tbody tr th:only-of-type {\n",
              "        vertical-align: middle;\n",
              "    }\n",
              "\n",
              "    .dataframe tbody tr th {\n",
              "        vertical-align: top;\n",
              "    }\n",
              "\n",
              "    .dataframe thead th {\n",
              "        text-align: right;\n",
              "    }\n",
              "</style>\n",
              "<table border=\"1\" class=\"dataframe\">\n",
              "  <thead>\n",
              "    <tr style=\"text-align: right;\">\n",
              "      <th></th>\n",
              "      <th>0</th>\n",
              "      <th>1</th>\n",
              "      <th>2</th>\n",
              "      <th>3</th>\n",
              "      <th>4</th>\n",
              "      <th>5</th>\n",
              "      <th>6</th>\n",
              "      <th>7</th>\n",
              "      <th>8</th>\n",
              "      <th>9</th>\n",
              "      <th>10</th>\n",
              "      <th>11</th>\n",
              "      <th>12</th>\n",
              "      <th>13</th>\n",
              "      <th>14</th>\n",
              "      <th>15</th>\n",
              "      <th>16</th>\n",
              "    </tr>\n",
              "  </thead>\n",
              "  <tbody>\n",
              "    <tr>\n",
              "      <th>0</th>\n",
              "      <td>republican</td>\n",
              "      <td>n</td>\n",
              "      <td>y</td>\n",
              "      <td>n</td>\n",
              "      <td>y</td>\n",
              "      <td>y</td>\n",
              "      <td>y</td>\n",
              "      <td>n</td>\n",
              "      <td>n</td>\n",
              "      <td>n</td>\n",
              "      <td>y</td>\n",
              "      <td>?</td>\n",
              "      <td>y</td>\n",
              "      <td>y</td>\n",
              "      <td>y</td>\n",
              "      <td>n</td>\n",
              "      <td>y</td>\n",
              "    </tr>\n",
              "    <tr>\n",
              "      <th>1</th>\n",
              "      <td>republican</td>\n",
              "      <td>n</td>\n",
              "      <td>y</td>\n",
              "      <td>n</td>\n",
              "      <td>y</td>\n",
              "      <td>y</td>\n",
              "      <td>y</td>\n",
              "      <td>n</td>\n",
              "      <td>n</td>\n",
              "      <td>n</td>\n",
              "      <td>n</td>\n",
              "      <td>n</td>\n",
              "      <td>y</td>\n",
              "      <td>y</td>\n",
              "      <td>y</td>\n",
              "      <td>n</td>\n",
              "      <td>?</td>\n",
              "    </tr>\n",
              "    <tr>\n",
              "      <th>2</th>\n",
              "      <td>democrat</td>\n",
              "      <td>?</td>\n",
              "      <td>y</td>\n",
              "      <td>y</td>\n",
              "      <td>?</td>\n",
              "      <td>y</td>\n",
              "      <td>y</td>\n",
              "      <td>n</td>\n",
              "      <td>n</td>\n",
              "      <td>n</td>\n",
              "      <td>n</td>\n",
              "      <td>y</td>\n",
              "      <td>n</td>\n",
              "      <td>y</td>\n",
              "      <td>y</td>\n",
              "      <td>n</td>\n",
              "      <td>n</td>\n",
              "    </tr>\n",
              "    <tr>\n",
              "      <th>3</th>\n",
              "      <td>democrat</td>\n",
              "      <td>n</td>\n",
              "      <td>y</td>\n",
              "      <td>y</td>\n",
              "      <td>n</td>\n",
              "      <td>?</td>\n",
              "      <td>y</td>\n",
              "      <td>n</td>\n",
              "      <td>n</td>\n",
              "      <td>n</td>\n",
              "      <td>n</td>\n",
              "      <td>y</td>\n",
              "      <td>n</td>\n",
              "      <td>y</td>\n",
              "      <td>n</td>\n",
              "      <td>n</td>\n",
              "      <td>y</td>\n",
              "    </tr>\n",
              "    <tr>\n",
              "      <th>4</th>\n",
              "      <td>democrat</td>\n",
              "      <td>y</td>\n",
              "      <td>y</td>\n",
              "      <td>y</td>\n",
              "      <td>n</td>\n",
              "      <td>y</td>\n",
              "      <td>y</td>\n",
              "      <td>n</td>\n",
              "      <td>n</td>\n",
              "      <td>n</td>\n",
              "      <td>n</td>\n",
              "      <td>y</td>\n",
              "      <td>?</td>\n",
              "      <td>y</td>\n",
              "      <td>y</td>\n",
              "      <td>y</td>\n",
              "      <td>y</td>\n",
              "    </tr>\n",
              "  </tbody>\n",
              "</table>\n",
              "</div>"
            ],
            "text/plain": [
              "           0  1  2  3  4  5  6  7  8  9  10 11 12 13 14 15 16\n",
              "0  republican  n  y  n  y  y  y  n  n  n  y  ?  y  y  y  n  y\n",
              "1  republican  n  y  n  y  y  y  n  n  n  n  n  y  y  y  n  ?\n",
              "2    democrat  ?  y  y  ?  y  y  n  n  n  n  y  n  y  y  n  n\n",
              "3    democrat  n  y  y  n  ?  y  n  n  n  n  y  n  y  n  n  y\n",
              "4    democrat  y  y  y  n  y  y  n  n  n  n  y  ?  y  y  y  y"
            ]
          },
          "metadata": {
            "tags": []
          },
          "execution_count": 18
        }
      ]
    },
    {
      "metadata": {
        "id": "GBOmgAnhlSaa",
        "colab_type": "code",
        "colab": {
          "base_uri": "https://localhost:8080/",
          "height": 34
        },
        "outputId": "95d9a7dc-4d77-4f98-c3a6-adf52536edaa"
      },
      "cell_type": "code",
      "source": [
        "votes.columns"
      ],
      "execution_count": 19,
      "outputs": [
        {
          "output_type": "execute_result",
          "data": {
            "text/plain": [
              "Int64Index([0, 1, 2, 3, 4, 5, 6, 7, 8, 9, 10, 11, 12, 13, 14, 15, 16], dtype='int64')"
            ]
          },
          "metadata": {
            "tags": []
          },
          "execution_count": 19
        }
      ]
    },
    {
      "metadata": {
        "id": "de1IThLNlhsF",
        "colab_type": "code",
        "colab": {
          "base_uri": "https://localhost:8080/",
          "height": 255
        },
        "outputId": "0bbda3e2-25cc-4c90-941f-ef1d6e62e823"
      },
      "cell_type": "code",
      "source": [
        "votes = votes.rename(columns={0: 'party:', 1: 'handicapped-infants:', 2: 'water-project-cost-sharing:', 3: 'adoption-of-the-budget-resolution:', \n",
        "                      4: 'physician-fee-freeze:', 5: 'el-salvador-aid:', 6: 'religious-groups-in-schools:', 7: 'anti-satellite-test-ban:',\n",
        "                      8: 'aid-to-nicaraguan-contras:', 9: 'mx-missile:', 10: 'immigration:', 11: 'synfuels-corporation-cutback:', 12: 'education-spending:', \n",
        "                      13: 'superfund-right-to-sue:', 14: 'crime:', 15: 'duty-free-exports:', 16: 'export-administration-act-south-africa:'})\n",
        "\n",
        "votes.head()"
      ],
      "execution_count": 20,
      "outputs": [
        {
          "output_type": "execute_result",
          "data": {
            "text/html": [
              "<div>\n",
              "<style scoped>\n",
              "    .dataframe tbody tr th:only-of-type {\n",
              "        vertical-align: middle;\n",
              "    }\n",
              "\n",
              "    .dataframe tbody tr th {\n",
              "        vertical-align: top;\n",
              "    }\n",
              "\n",
              "    .dataframe thead th {\n",
              "        text-align: right;\n",
              "    }\n",
              "</style>\n",
              "<table border=\"1\" class=\"dataframe\">\n",
              "  <thead>\n",
              "    <tr style=\"text-align: right;\">\n",
              "      <th></th>\n",
              "      <th>party:</th>\n",
              "      <th>handicapped-infants:</th>\n",
              "      <th>water-project-cost-sharing:</th>\n",
              "      <th>adoption-of-the-budget-resolution:</th>\n",
              "      <th>physician-fee-freeze:</th>\n",
              "      <th>el-salvador-aid:</th>\n",
              "      <th>religious-groups-in-schools:</th>\n",
              "      <th>anti-satellite-test-ban:</th>\n",
              "      <th>aid-to-nicaraguan-contras:</th>\n",
              "      <th>mx-missile:</th>\n",
              "      <th>immigration:</th>\n",
              "      <th>synfuels-corporation-cutback:</th>\n",
              "      <th>education-spending:</th>\n",
              "      <th>superfund-right-to-sue:</th>\n",
              "      <th>crime:</th>\n",
              "      <th>duty-free-exports:</th>\n",
              "      <th>export-administration-act-south-africa:</th>\n",
              "    </tr>\n",
              "  </thead>\n",
              "  <tbody>\n",
              "    <tr>\n",
              "      <th>0</th>\n",
              "      <td>republican</td>\n",
              "      <td>n</td>\n",
              "      <td>y</td>\n",
              "      <td>n</td>\n",
              "      <td>y</td>\n",
              "      <td>y</td>\n",
              "      <td>y</td>\n",
              "      <td>n</td>\n",
              "      <td>n</td>\n",
              "      <td>n</td>\n",
              "      <td>y</td>\n",
              "      <td>?</td>\n",
              "      <td>y</td>\n",
              "      <td>y</td>\n",
              "      <td>y</td>\n",
              "      <td>n</td>\n",
              "      <td>y</td>\n",
              "    </tr>\n",
              "    <tr>\n",
              "      <th>1</th>\n",
              "      <td>republican</td>\n",
              "      <td>n</td>\n",
              "      <td>y</td>\n",
              "      <td>n</td>\n",
              "      <td>y</td>\n",
              "      <td>y</td>\n",
              "      <td>y</td>\n",
              "      <td>n</td>\n",
              "      <td>n</td>\n",
              "      <td>n</td>\n",
              "      <td>n</td>\n",
              "      <td>n</td>\n",
              "      <td>y</td>\n",
              "      <td>y</td>\n",
              "      <td>y</td>\n",
              "      <td>n</td>\n",
              "      <td>?</td>\n",
              "    </tr>\n",
              "    <tr>\n",
              "      <th>2</th>\n",
              "      <td>democrat</td>\n",
              "      <td>?</td>\n",
              "      <td>y</td>\n",
              "      <td>y</td>\n",
              "      <td>?</td>\n",
              "      <td>y</td>\n",
              "      <td>y</td>\n",
              "      <td>n</td>\n",
              "      <td>n</td>\n",
              "      <td>n</td>\n",
              "      <td>n</td>\n",
              "      <td>y</td>\n",
              "      <td>n</td>\n",
              "      <td>y</td>\n",
              "      <td>y</td>\n",
              "      <td>n</td>\n",
              "      <td>n</td>\n",
              "    </tr>\n",
              "    <tr>\n",
              "      <th>3</th>\n",
              "      <td>democrat</td>\n",
              "      <td>n</td>\n",
              "      <td>y</td>\n",
              "      <td>y</td>\n",
              "      <td>n</td>\n",
              "      <td>?</td>\n",
              "      <td>y</td>\n",
              "      <td>n</td>\n",
              "      <td>n</td>\n",
              "      <td>n</td>\n",
              "      <td>n</td>\n",
              "      <td>y</td>\n",
              "      <td>n</td>\n",
              "      <td>y</td>\n",
              "      <td>n</td>\n",
              "      <td>n</td>\n",
              "      <td>y</td>\n",
              "    </tr>\n",
              "    <tr>\n",
              "      <th>4</th>\n",
              "      <td>democrat</td>\n",
              "      <td>y</td>\n",
              "      <td>y</td>\n",
              "      <td>y</td>\n",
              "      <td>n</td>\n",
              "      <td>y</td>\n",
              "      <td>y</td>\n",
              "      <td>n</td>\n",
              "      <td>n</td>\n",
              "      <td>n</td>\n",
              "      <td>n</td>\n",
              "      <td>y</td>\n",
              "      <td>?</td>\n",
              "      <td>y</td>\n",
              "      <td>y</td>\n",
              "      <td>y</td>\n",
              "      <td>y</td>\n",
              "    </tr>\n",
              "  </tbody>\n",
              "</table>\n",
              "</div>"
            ],
            "text/plain": [
              "       party: handicapped-infants: water-project-cost-sharing:  \\\n",
              "0  republican                    n                           y   \n",
              "1  republican                    n                           y   \n",
              "2    democrat                    ?                           y   \n",
              "3    democrat                    n                           y   \n",
              "4    democrat                    y                           y   \n",
              "\n",
              "  adoption-of-the-budget-resolution: physician-fee-freeze: el-salvador-aid:  \\\n",
              "0                                  n                     y                y   \n",
              "1                                  n                     y                y   \n",
              "2                                  y                     ?                y   \n",
              "3                                  y                     n                ?   \n",
              "4                                  y                     n                y   \n",
              "\n",
              "  religious-groups-in-schools: anti-satellite-test-ban:  \\\n",
              "0                            y                        n   \n",
              "1                            y                        n   \n",
              "2                            y                        n   \n",
              "3                            y                        n   \n",
              "4                            y                        n   \n",
              "\n",
              "  aid-to-nicaraguan-contras: mx-missile: immigration:  \\\n",
              "0                          n           n            y   \n",
              "1                          n           n            n   \n",
              "2                          n           n            n   \n",
              "3                          n           n            n   \n",
              "4                          n           n            n   \n",
              "\n",
              "  synfuels-corporation-cutback: education-spending: superfund-right-to-sue:  \\\n",
              "0                             ?                   y                       y   \n",
              "1                             n                   y                       y   \n",
              "2                             y                   n                       y   \n",
              "3                             y                   n                       y   \n",
              "4                             y                   ?                       y   \n",
              "\n",
              "  crime: duty-free-exports: export-administration-act-south-africa:  \n",
              "0      y                  n                                       y  \n",
              "1      y                  n                                       ?  \n",
              "2      y                  n                                       n  \n",
              "3      n                  n                                       y  \n",
              "4      y                  y                                       y  "
            ]
          },
          "metadata": {
            "tags": []
          },
          "execution_count": 20
        }
      ]
    },
    {
      "metadata": {
        "id": "98GUp6Q4pydR",
        "colab_type": "code",
        "colab": {
          "base_uri": "https://localhost:8080/",
          "height": 323
        },
        "outputId": "5b89d10f-3b62-4dfa-ca33-eefdaa15b4c1"
      },
      "cell_type": "code",
      "source": [
        "votes = votes.replace({'?': -1, 'n': 0, 'y': 1})\n",
        "\n",
        "\n",
        "votes.isnull().sum()"
      ],
      "execution_count": 21,
      "outputs": [
        {
          "output_type": "execute_result",
          "data": {
            "text/plain": [
              "party:                                     0\n",
              "handicapped-infants:                       0\n",
              "water-project-cost-sharing:                0\n",
              "adoption-of-the-budget-resolution:         0\n",
              "physician-fee-freeze:                      0\n",
              "el-salvador-aid:                           0\n",
              "religious-groups-in-schools:               0\n",
              "anti-satellite-test-ban:                   0\n",
              "aid-to-nicaraguan-contras:                 0\n",
              "mx-missile:                                0\n",
              "immigration:                               0\n",
              "synfuels-corporation-cutback:              0\n",
              "education-spending:                        0\n",
              "superfund-right-to-sue:                    0\n",
              "crime:                                     0\n",
              "duty-free-exports:                         0\n",
              "export-administration-act-south-africa:    0\n",
              "dtype: int64"
            ]
          },
          "metadata": {
            "tags": []
          },
          "execution_count": 21
        }
      ]
    },
    {
      "metadata": {
        "id": "TMJHTqe6rBFj",
        "colab_type": "code",
        "colab": {
          "base_uri": "https://localhost:8080/",
          "height": 255
        },
        "outputId": "4d7c0a36-eb70-4b7b-c720-359aa29fac51"
      },
      "cell_type": "code",
      "source": [
        "votes.head()"
      ],
      "execution_count": 22,
      "outputs": [
        {
          "output_type": "execute_result",
          "data": {
            "text/html": [
              "<div>\n",
              "<style scoped>\n",
              "    .dataframe tbody tr th:only-of-type {\n",
              "        vertical-align: middle;\n",
              "    }\n",
              "\n",
              "    .dataframe tbody tr th {\n",
              "        vertical-align: top;\n",
              "    }\n",
              "\n",
              "    .dataframe thead th {\n",
              "        text-align: right;\n",
              "    }\n",
              "</style>\n",
              "<table border=\"1\" class=\"dataframe\">\n",
              "  <thead>\n",
              "    <tr style=\"text-align: right;\">\n",
              "      <th></th>\n",
              "      <th>party:</th>\n",
              "      <th>handicapped-infants:</th>\n",
              "      <th>water-project-cost-sharing:</th>\n",
              "      <th>adoption-of-the-budget-resolution:</th>\n",
              "      <th>physician-fee-freeze:</th>\n",
              "      <th>el-salvador-aid:</th>\n",
              "      <th>religious-groups-in-schools:</th>\n",
              "      <th>anti-satellite-test-ban:</th>\n",
              "      <th>aid-to-nicaraguan-contras:</th>\n",
              "      <th>mx-missile:</th>\n",
              "      <th>immigration:</th>\n",
              "      <th>synfuels-corporation-cutback:</th>\n",
              "      <th>education-spending:</th>\n",
              "      <th>superfund-right-to-sue:</th>\n",
              "      <th>crime:</th>\n",
              "      <th>duty-free-exports:</th>\n",
              "      <th>export-administration-act-south-africa:</th>\n",
              "    </tr>\n",
              "  </thead>\n",
              "  <tbody>\n",
              "    <tr>\n",
              "      <th>0</th>\n",
              "      <td>republican</td>\n",
              "      <td>0</td>\n",
              "      <td>1</td>\n",
              "      <td>0</td>\n",
              "      <td>1</td>\n",
              "      <td>1</td>\n",
              "      <td>1</td>\n",
              "      <td>0</td>\n",
              "      <td>0</td>\n",
              "      <td>0</td>\n",
              "      <td>1</td>\n",
              "      <td>-1</td>\n",
              "      <td>1</td>\n",
              "      <td>1</td>\n",
              "      <td>1</td>\n",
              "      <td>0</td>\n",
              "      <td>1</td>\n",
              "    </tr>\n",
              "    <tr>\n",
              "      <th>1</th>\n",
              "      <td>republican</td>\n",
              "      <td>0</td>\n",
              "      <td>1</td>\n",
              "      <td>0</td>\n",
              "      <td>1</td>\n",
              "      <td>1</td>\n",
              "      <td>1</td>\n",
              "      <td>0</td>\n",
              "      <td>0</td>\n",
              "      <td>0</td>\n",
              "      <td>0</td>\n",
              "      <td>0</td>\n",
              "      <td>1</td>\n",
              "      <td>1</td>\n",
              "      <td>1</td>\n",
              "      <td>0</td>\n",
              "      <td>-1</td>\n",
              "    </tr>\n",
              "    <tr>\n",
              "      <th>2</th>\n",
              "      <td>democrat</td>\n",
              "      <td>-1</td>\n",
              "      <td>1</td>\n",
              "      <td>1</td>\n",
              "      <td>-1</td>\n",
              "      <td>1</td>\n",
              "      <td>1</td>\n",
              "      <td>0</td>\n",
              "      <td>0</td>\n",
              "      <td>0</td>\n",
              "      <td>0</td>\n",
              "      <td>1</td>\n",
              "      <td>0</td>\n",
              "      <td>1</td>\n",
              "      <td>1</td>\n",
              "      <td>0</td>\n",
              "      <td>0</td>\n",
              "    </tr>\n",
              "    <tr>\n",
              "      <th>3</th>\n",
              "      <td>democrat</td>\n",
              "      <td>0</td>\n",
              "      <td>1</td>\n",
              "      <td>1</td>\n",
              "      <td>0</td>\n",
              "      <td>-1</td>\n",
              "      <td>1</td>\n",
              "      <td>0</td>\n",
              "      <td>0</td>\n",
              "      <td>0</td>\n",
              "      <td>0</td>\n",
              "      <td>1</td>\n",
              "      <td>0</td>\n",
              "      <td>1</td>\n",
              "      <td>0</td>\n",
              "      <td>0</td>\n",
              "      <td>1</td>\n",
              "    </tr>\n",
              "    <tr>\n",
              "      <th>4</th>\n",
              "      <td>democrat</td>\n",
              "      <td>1</td>\n",
              "      <td>1</td>\n",
              "      <td>1</td>\n",
              "      <td>0</td>\n",
              "      <td>1</td>\n",
              "      <td>1</td>\n",
              "      <td>0</td>\n",
              "      <td>0</td>\n",
              "      <td>0</td>\n",
              "      <td>0</td>\n",
              "      <td>1</td>\n",
              "      <td>-1</td>\n",
              "      <td>1</td>\n",
              "      <td>1</td>\n",
              "      <td>1</td>\n",
              "      <td>1</td>\n",
              "    </tr>\n",
              "  </tbody>\n",
              "</table>\n",
              "</div>"
            ],
            "text/plain": [
              "       party:  handicapped-infants:  water-project-cost-sharing:  \\\n",
              "0  republican                     0                            1   \n",
              "1  republican                     0                            1   \n",
              "2    democrat                    -1                            1   \n",
              "3    democrat                     0                            1   \n",
              "4    democrat                     1                            1   \n",
              "\n",
              "   adoption-of-the-budget-resolution:  physician-fee-freeze:  \\\n",
              "0                                   0                      1   \n",
              "1                                   0                      1   \n",
              "2                                   1                     -1   \n",
              "3                                   1                      0   \n",
              "4                                   1                      0   \n",
              "\n",
              "   el-salvador-aid:  religious-groups-in-schools:  anti-satellite-test-ban:  \\\n",
              "0                 1                             1                         0   \n",
              "1                 1                             1                         0   \n",
              "2                 1                             1                         0   \n",
              "3                -1                             1                         0   \n",
              "4                 1                             1                         0   \n",
              "\n",
              "   aid-to-nicaraguan-contras:  mx-missile:  immigration:  \\\n",
              "0                           0            0             1   \n",
              "1                           0            0             0   \n",
              "2                           0            0             0   \n",
              "3                           0            0             0   \n",
              "4                           0            0             0   \n",
              "\n",
              "   synfuels-corporation-cutback:  education-spending:  \\\n",
              "0                             -1                    1   \n",
              "1                              0                    1   \n",
              "2                              1                    0   \n",
              "3                              1                    0   \n",
              "4                              1                   -1   \n",
              "\n",
              "   superfund-right-to-sue:  crime:  duty-free-exports:  \\\n",
              "0                        1       1                   0   \n",
              "1                        1       1                   0   \n",
              "2                        1       1                   0   \n",
              "3                        1       0                   0   \n",
              "4                        1       1                   1   \n",
              "\n",
              "   export-administration-act-south-africa:  \n",
              "0                                        1  \n",
              "1                                       -1  \n",
              "2                                        0  \n",
              "3                                        1  \n",
              "4                                        1  "
            ]
          },
          "metadata": {
            "tags": []
          },
          "execution_count": 22
        }
      ]
    },
    {
      "metadata": {
        "id": "2GkIXf1hrKOU",
        "colab_type": "code",
        "colab": {
          "base_uri": "https://localhost:8080/",
          "height": 1969
        },
        "outputId": "e79ec146-24fb-4e7e-a709-8c6dcd36f487"
      },
      "cell_type": "code",
      "source": [
        "immigration = votes[['party:', 'immigration:']]\n",
        "\n",
        "immigration.head(100)"
      ],
      "execution_count": 27,
      "outputs": [
        {
          "output_type": "execute_result",
          "data": {
            "text/html": [
              "<div>\n",
              "<style scoped>\n",
              "    .dataframe tbody tr th:only-of-type {\n",
              "        vertical-align: middle;\n",
              "    }\n",
              "\n",
              "    .dataframe tbody tr th {\n",
              "        vertical-align: top;\n",
              "    }\n",
              "\n",
              "    .dataframe thead th {\n",
              "        text-align: right;\n",
              "    }\n",
              "</style>\n",
              "<table border=\"1\" class=\"dataframe\">\n",
              "  <thead>\n",
              "    <tr style=\"text-align: right;\">\n",
              "      <th></th>\n",
              "      <th>party:</th>\n",
              "      <th>immigration:</th>\n",
              "    </tr>\n",
              "  </thead>\n",
              "  <tbody>\n",
              "    <tr>\n",
              "      <th>0</th>\n",
              "      <td>republican</td>\n",
              "      <td>1</td>\n",
              "    </tr>\n",
              "    <tr>\n",
              "      <th>1</th>\n",
              "      <td>republican</td>\n",
              "      <td>0</td>\n",
              "    </tr>\n",
              "    <tr>\n",
              "      <th>2</th>\n",
              "      <td>democrat</td>\n",
              "      <td>0</td>\n",
              "    </tr>\n",
              "    <tr>\n",
              "      <th>3</th>\n",
              "      <td>democrat</td>\n",
              "      <td>0</td>\n",
              "    </tr>\n",
              "    <tr>\n",
              "      <th>4</th>\n",
              "      <td>democrat</td>\n",
              "      <td>0</td>\n",
              "    </tr>\n",
              "    <tr>\n",
              "      <th>5</th>\n",
              "      <td>democrat</td>\n",
              "      <td>0</td>\n",
              "    </tr>\n",
              "    <tr>\n",
              "      <th>6</th>\n",
              "      <td>democrat</td>\n",
              "      <td>0</td>\n",
              "    </tr>\n",
              "    <tr>\n",
              "      <th>7</th>\n",
              "      <td>republican</td>\n",
              "      <td>0</td>\n",
              "    </tr>\n",
              "    <tr>\n",
              "      <th>8</th>\n",
              "      <td>republican</td>\n",
              "      <td>0</td>\n",
              "    </tr>\n",
              "    <tr>\n",
              "      <th>9</th>\n",
              "      <td>democrat</td>\n",
              "      <td>0</td>\n",
              "    </tr>\n",
              "    <tr>\n",
              "      <th>10</th>\n",
              "      <td>republican</td>\n",
              "      <td>0</td>\n",
              "    </tr>\n",
              "    <tr>\n",
              "      <th>11</th>\n",
              "      <td>republican</td>\n",
              "      <td>0</td>\n",
              "    </tr>\n",
              "    <tr>\n",
              "      <th>12</th>\n",
              "      <td>democrat</td>\n",
              "      <td>0</td>\n",
              "    </tr>\n",
              "    <tr>\n",
              "      <th>13</th>\n",
              "      <td>democrat</td>\n",
              "      <td>1</td>\n",
              "    </tr>\n",
              "    <tr>\n",
              "      <th>14</th>\n",
              "      <td>republican</td>\n",
              "      <td>0</td>\n",
              "    </tr>\n",
              "    <tr>\n",
              "      <th>15</th>\n",
              "      <td>republican</td>\n",
              "      <td>1</td>\n",
              "    </tr>\n",
              "    <tr>\n",
              "      <th>16</th>\n",
              "      <td>democrat</td>\n",
              "      <td>1</td>\n",
              "    </tr>\n",
              "    <tr>\n",
              "      <th>17</th>\n",
              "      <td>democrat</td>\n",
              "      <td>0</td>\n",
              "    </tr>\n",
              "    <tr>\n",
              "      <th>18</th>\n",
              "      <td>republican</td>\n",
              "      <td>0</td>\n",
              "    </tr>\n",
              "    <tr>\n",
              "      <th>19</th>\n",
              "      <td>democrat</td>\n",
              "      <td>0</td>\n",
              "    </tr>\n",
              "    <tr>\n",
              "      <th>20</th>\n",
              "      <td>democrat</td>\n",
              "      <td>0</td>\n",
              "    </tr>\n",
              "    <tr>\n",
              "      <th>21</th>\n",
              "      <td>democrat</td>\n",
              "      <td>0</td>\n",
              "    </tr>\n",
              "    <tr>\n",
              "      <th>22</th>\n",
              "      <td>democrat</td>\n",
              "      <td>0</td>\n",
              "    </tr>\n",
              "    <tr>\n",
              "      <th>23</th>\n",
              "      <td>democrat</td>\n",
              "      <td>0</td>\n",
              "    </tr>\n",
              "    <tr>\n",
              "      <th>24</th>\n",
              "      <td>democrat</td>\n",
              "      <td>0</td>\n",
              "    </tr>\n",
              "    <tr>\n",
              "      <th>25</th>\n",
              "      <td>democrat</td>\n",
              "      <td>1</td>\n",
              "    </tr>\n",
              "    <tr>\n",
              "      <th>26</th>\n",
              "      <td>democrat</td>\n",
              "      <td>0</td>\n",
              "    </tr>\n",
              "    <tr>\n",
              "      <th>27</th>\n",
              "      <td>democrat</td>\n",
              "      <td>0</td>\n",
              "    </tr>\n",
              "    <tr>\n",
              "      <th>28</th>\n",
              "      <td>republican</td>\n",
              "      <td>0</td>\n",
              "    </tr>\n",
              "    <tr>\n",
              "      <th>29</th>\n",
              "      <td>democrat</td>\n",
              "      <td>0</td>\n",
              "    </tr>\n",
              "    <tr>\n",
              "      <th>...</th>\n",
              "      <td>...</td>\n",
              "      <td>...</td>\n",
              "    </tr>\n",
              "    <tr>\n",
              "      <th>70</th>\n",
              "      <td>democrat</td>\n",
              "      <td>0</td>\n",
              "    </tr>\n",
              "    <tr>\n",
              "      <th>71</th>\n",
              "      <td>republican</td>\n",
              "      <td>1</td>\n",
              "    </tr>\n",
              "    <tr>\n",
              "      <th>72</th>\n",
              "      <td>democrat</td>\n",
              "      <td>0</td>\n",
              "    </tr>\n",
              "    <tr>\n",
              "      <th>73</th>\n",
              "      <td>republican</td>\n",
              "      <td>1</td>\n",
              "    </tr>\n",
              "    <tr>\n",
              "      <th>74</th>\n",
              "      <td>democrat</td>\n",
              "      <td>1</td>\n",
              "    </tr>\n",
              "    <tr>\n",
              "      <th>75</th>\n",
              "      <td>democrat</td>\n",
              "      <td>1</td>\n",
              "    </tr>\n",
              "    <tr>\n",
              "      <th>76</th>\n",
              "      <td>democrat</td>\n",
              "      <td>1</td>\n",
              "    </tr>\n",
              "    <tr>\n",
              "      <th>77</th>\n",
              "      <td>democrat</td>\n",
              "      <td>1</td>\n",
              "    </tr>\n",
              "    <tr>\n",
              "      <th>78</th>\n",
              "      <td>democrat</td>\n",
              "      <td>1</td>\n",
              "    </tr>\n",
              "    <tr>\n",
              "      <th>79</th>\n",
              "      <td>republican</td>\n",
              "      <td>1</td>\n",
              "    </tr>\n",
              "    <tr>\n",
              "      <th>80</th>\n",
              "      <td>democrat</td>\n",
              "      <td>1</td>\n",
              "    </tr>\n",
              "    <tr>\n",
              "      <th>81</th>\n",
              "      <td>democrat</td>\n",
              "      <td>1</td>\n",
              "    </tr>\n",
              "    <tr>\n",
              "      <th>82</th>\n",
              "      <td>republican</td>\n",
              "      <td>1</td>\n",
              "    </tr>\n",
              "    <tr>\n",
              "      <th>83</th>\n",
              "      <td>republican</td>\n",
              "      <td>0</td>\n",
              "    </tr>\n",
              "    <tr>\n",
              "      <th>84</th>\n",
              "      <td>republican</td>\n",
              "      <td>1</td>\n",
              "    </tr>\n",
              "    <tr>\n",
              "      <th>85</th>\n",
              "      <td>democrat</td>\n",
              "      <td>1</td>\n",
              "    </tr>\n",
              "    <tr>\n",
              "      <th>86</th>\n",
              "      <td>republican</td>\n",
              "      <td>1</td>\n",
              "    </tr>\n",
              "    <tr>\n",
              "      <th>87</th>\n",
              "      <td>republican</td>\n",
              "      <td>0</td>\n",
              "    </tr>\n",
              "    <tr>\n",
              "      <th>88</th>\n",
              "      <td>democrat</td>\n",
              "      <td>1</td>\n",
              "    </tr>\n",
              "    <tr>\n",
              "      <th>89</th>\n",
              "      <td>republican</td>\n",
              "      <td>1</td>\n",
              "    </tr>\n",
              "    <tr>\n",
              "      <th>90</th>\n",
              "      <td>democrat</td>\n",
              "      <td>1</td>\n",
              "    </tr>\n",
              "    <tr>\n",
              "      <th>91</th>\n",
              "      <td>democrat</td>\n",
              "      <td>1</td>\n",
              "    </tr>\n",
              "    <tr>\n",
              "      <th>92</th>\n",
              "      <td>democrat</td>\n",
              "      <td>1</td>\n",
              "    </tr>\n",
              "    <tr>\n",
              "      <th>93</th>\n",
              "      <td>democrat</td>\n",
              "      <td>1</td>\n",
              "    </tr>\n",
              "    <tr>\n",
              "      <th>94</th>\n",
              "      <td>democrat</td>\n",
              "      <td>0</td>\n",
              "    </tr>\n",
              "    <tr>\n",
              "      <th>95</th>\n",
              "      <td>democrat</td>\n",
              "      <td>0</td>\n",
              "    </tr>\n",
              "    <tr>\n",
              "      <th>96</th>\n",
              "      <td>democrat</td>\n",
              "      <td>0</td>\n",
              "    </tr>\n",
              "    <tr>\n",
              "      <th>97</th>\n",
              "      <td>democrat</td>\n",
              "      <td>1</td>\n",
              "    </tr>\n",
              "    <tr>\n",
              "      <th>98</th>\n",
              "      <td>democrat</td>\n",
              "      <td>1</td>\n",
              "    </tr>\n",
              "    <tr>\n",
              "      <th>99</th>\n",
              "      <td>republican</td>\n",
              "      <td>1</td>\n",
              "    </tr>\n",
              "  </tbody>\n",
              "</table>\n",
              "<p>100 rows × 2 columns</p>\n",
              "</div>"
            ],
            "text/plain": [
              "        party:  immigration:\n",
              "0   republican             1\n",
              "1   republican             0\n",
              "2     democrat             0\n",
              "3     democrat             0\n",
              "4     democrat             0\n",
              "5     democrat             0\n",
              "6     democrat             0\n",
              "7   republican             0\n",
              "8   republican             0\n",
              "9     democrat             0\n",
              "10  republican             0\n",
              "11  republican             0\n",
              "12    democrat             0\n",
              "13    democrat             1\n",
              "14  republican             0\n",
              "15  republican             1\n",
              "16    democrat             1\n",
              "17    democrat             0\n",
              "18  republican             0\n",
              "19    democrat             0\n",
              "20    democrat             0\n",
              "21    democrat             0\n",
              "22    democrat             0\n",
              "23    democrat             0\n",
              "24    democrat             0\n",
              "25    democrat             1\n",
              "26    democrat             0\n",
              "27    democrat             0\n",
              "28  republican             0\n",
              "29    democrat             0\n",
              "..         ...           ...\n",
              "70    democrat             0\n",
              "71  republican             1\n",
              "72    democrat             0\n",
              "73  republican             1\n",
              "74    democrat             1\n",
              "75    democrat             1\n",
              "76    democrat             1\n",
              "77    democrat             1\n",
              "78    democrat             1\n",
              "79  republican             1\n",
              "80    democrat             1\n",
              "81    democrat             1\n",
              "82  republican             1\n",
              "83  republican             0\n",
              "84  republican             1\n",
              "85    democrat             1\n",
              "86  republican             1\n",
              "87  republican             0\n",
              "88    democrat             1\n",
              "89  republican             1\n",
              "90    democrat             1\n",
              "91    democrat             1\n",
              "92    democrat             1\n",
              "93    democrat             1\n",
              "94    democrat             0\n",
              "95    democrat             0\n",
              "96    democrat             0\n",
              "97    democrat             1\n",
              "98    democrat             1\n",
              "99  republican             1\n",
              "\n",
              "[100 rows x 2 columns]"
            ]
          },
          "metadata": {
            "tags": []
          },
          "execution_count": 27
        }
      ]
    },
    {
      "metadata": {
        "id": "j5CDP5WwxfaJ",
        "colab_type": "code",
        "colab": {
          "base_uri": "https://localhost:8080/",
          "height": 34
        },
        "outputId": "16d8bf94-e749-4e58-e426-aaa11c17d6e9"
      },
      "cell_type": "code",
      "source": [
        "immigration.shape"
      ],
      "execution_count": 24,
      "outputs": [
        {
          "output_type": "execute_result",
          "data": {
            "text/plain": [
              "(435, 2)"
            ]
          },
          "metadata": {
            "tags": []
          },
          "execution_count": 24
        }
      ]
    },
    {
      "metadata": {
        "id": "YxJ9qOYx24zL",
        "colab_type": "code",
        "colab": {
          "base_uri": "https://localhost:8080/",
          "height": 173
        },
        "outputId": "64adae00-592f-4dc1-9c21-ec0b73904b0d"
      },
      "cell_type": "code",
      "source": [
        "immigration_ct = pd.crosstab(immigration['immigration:'], \n",
        "                     immigration['party:'])\n",
        "\n",
        "immigration_ct"
      ],
      "execution_count": 32,
      "outputs": [
        {
          "output_type": "execute_result",
          "data": {
            "text/html": [
              "<div>\n",
              "<style scoped>\n",
              "    .dataframe tbody tr th:only-of-type {\n",
              "        vertical-align: middle;\n",
              "    }\n",
              "\n",
              "    .dataframe tbody tr th {\n",
              "        vertical-align: top;\n",
              "    }\n",
              "\n",
              "    .dataframe thead th {\n",
              "        text-align: right;\n",
              "    }\n",
              "</style>\n",
              "<table border=\"1\" class=\"dataframe\">\n",
              "  <thead>\n",
              "    <tr style=\"text-align: right;\">\n",
              "      <th>party:</th>\n",
              "      <th>democrat</th>\n",
              "      <th>republican</th>\n",
              "    </tr>\n",
              "    <tr>\n",
              "      <th>immigration:</th>\n",
              "      <th></th>\n",
              "      <th></th>\n",
              "    </tr>\n",
              "  </thead>\n",
              "  <tbody>\n",
              "    <tr>\n",
              "      <th>-1</th>\n",
              "      <td>4</td>\n",
              "      <td>3</td>\n",
              "    </tr>\n",
              "    <tr>\n",
              "      <th>0</th>\n",
              "      <td>139</td>\n",
              "      <td>73</td>\n",
              "    </tr>\n",
              "    <tr>\n",
              "      <th>1</th>\n",
              "      <td>124</td>\n",
              "      <td>92</td>\n",
              "    </tr>\n",
              "  </tbody>\n",
              "</table>\n",
              "</div>"
            ],
            "text/plain": [
              "party:        democrat  republican\n",
              "immigration:                      \n",
              "-1                   4           3\n",
              " 0                 139          73\n",
              " 1                 124          92"
            ]
          },
          "metadata": {
            "tags": []
          },
          "execution_count": 32
        }
      ]
    },
    {
      "metadata": {
        "id": "AwQLCuwkx_K8",
        "colab_type": "code",
        "colab": {
          "base_uri": "https://localhost:8080/",
          "height": 34
        },
        "outputId": "2c5bc473-f5f0-42a1-ce10-f941a8761cf0"
      },
      "cell_type": "code",
      "source": [
        "stats.ttest_1samp(immigration_ct, .5)"
      ],
      "execution_count": 35,
      "outputs": [
        {
          "output_type": "execute_result",
          "data": {
            "text/plain": [
              "Ttest_1sampResult(statistic=array([2.07162831, 2.05087212]), pvalue=array([0.17409562, 0.17675326]))"
            ]
          },
          "metadata": {
            "tags": []
          },
          "execution_count": 35
        }
      ]
    },
    {
      "metadata": {
        "id": "rAMGRDOdyseO",
        "colab_type": "code",
        "colab": {
          "base_uri": "https://localhost:8080/",
          "height": 204
        },
        "outputId": "d4c46604-103b-4577-d989-e0a9e07da856"
      },
      "cell_type": "code",
      "source": [
        "budget = votes[['party:', 'adoption-of-the-budget-resolution:']]\n",
        "\n",
        "budget.head()"
      ],
      "execution_count": 36,
      "outputs": [
        {
          "output_type": "execute_result",
          "data": {
            "text/html": [
              "<div>\n",
              "<style scoped>\n",
              "    .dataframe tbody tr th:only-of-type {\n",
              "        vertical-align: middle;\n",
              "    }\n",
              "\n",
              "    .dataframe tbody tr th {\n",
              "        vertical-align: top;\n",
              "    }\n",
              "\n",
              "    .dataframe thead th {\n",
              "        text-align: right;\n",
              "    }\n",
              "</style>\n",
              "<table border=\"1\" class=\"dataframe\">\n",
              "  <thead>\n",
              "    <tr style=\"text-align: right;\">\n",
              "      <th></th>\n",
              "      <th>party:</th>\n",
              "      <th>adoption-of-the-budget-resolution:</th>\n",
              "    </tr>\n",
              "  </thead>\n",
              "  <tbody>\n",
              "    <tr>\n",
              "      <th>0</th>\n",
              "      <td>republican</td>\n",
              "      <td>0</td>\n",
              "    </tr>\n",
              "    <tr>\n",
              "      <th>1</th>\n",
              "      <td>republican</td>\n",
              "      <td>0</td>\n",
              "    </tr>\n",
              "    <tr>\n",
              "      <th>2</th>\n",
              "      <td>democrat</td>\n",
              "      <td>1</td>\n",
              "    </tr>\n",
              "    <tr>\n",
              "      <th>3</th>\n",
              "      <td>democrat</td>\n",
              "      <td>1</td>\n",
              "    </tr>\n",
              "    <tr>\n",
              "      <th>4</th>\n",
              "      <td>democrat</td>\n",
              "      <td>1</td>\n",
              "    </tr>\n",
              "  </tbody>\n",
              "</table>\n",
              "</div>"
            ],
            "text/plain": [
              "       party:  adoption-of-the-budget-resolution:\n",
              "0  republican                                   0\n",
              "1  republican                                   0\n",
              "2    democrat                                   1\n",
              "3    democrat                                   1\n",
              "4    democrat                                   1"
            ]
          },
          "metadata": {
            "tags": []
          },
          "execution_count": 36
        }
      ]
    },
    {
      "metadata": {
        "id": "bv9uiR1OJhDC",
        "colab_type": "code",
        "colab": {
          "base_uri": "https://localhost:8080/",
          "height": 173
        },
        "outputId": "83820f24-0dec-4c94-f4d5-0dfea499e5c6"
      },
      "cell_type": "code",
      "source": [
        "budget_ct = pd.crosstab(budget['adoption-of-the-budget-resolution:'],\n",
        "                               budget['party:'])\n",
        "\n",
        "budget_ct"
      ],
      "execution_count": 38,
      "outputs": [
        {
          "output_type": "execute_result",
          "data": {
            "text/html": [
              "<div>\n",
              "<style scoped>\n",
              "    .dataframe tbody tr th:only-of-type {\n",
              "        vertical-align: middle;\n",
              "    }\n",
              "\n",
              "    .dataframe tbody tr th {\n",
              "        vertical-align: top;\n",
              "    }\n",
              "\n",
              "    .dataframe thead th {\n",
              "        text-align: right;\n",
              "    }\n",
              "</style>\n",
              "<table border=\"1\" class=\"dataframe\">\n",
              "  <thead>\n",
              "    <tr style=\"text-align: right;\">\n",
              "      <th>party:</th>\n",
              "      <th>democrat</th>\n",
              "      <th>republican</th>\n",
              "    </tr>\n",
              "    <tr>\n",
              "      <th>adoption-of-the-budget-resolution:</th>\n",
              "      <th></th>\n",
              "      <th></th>\n",
              "    </tr>\n",
              "  </thead>\n",
              "  <tbody>\n",
              "    <tr>\n",
              "      <th>-1</th>\n",
              "      <td>7</td>\n",
              "      <td>4</td>\n",
              "    </tr>\n",
              "    <tr>\n",
              "      <th>0</th>\n",
              "      <td>29</td>\n",
              "      <td>142</td>\n",
              "    </tr>\n",
              "    <tr>\n",
              "      <th>1</th>\n",
              "      <td>231</td>\n",
              "      <td>22</td>\n",
              "    </tr>\n",
              "  </tbody>\n",
              "</table>\n",
              "</div>"
            ],
            "text/plain": [
              "party:                              democrat  republican\n",
              "adoption-of-the-budget-resolution:                      \n",
              "-1                                         7           4\n",
              " 0                                        29         142\n",
              " 1                                       231          22"
            ]
          },
          "metadata": {
            "tags": []
          },
          "execution_count": 38
        }
      ]
    },
    {
      "metadata": {
        "id": "hBOryOsWKIqK",
        "colab_type": "code",
        "colab": {
          "base_uri": "https://localhost:8080/",
          "height": 34
        },
        "outputId": "984fcce3-9b19-41e7-8049-fbac1ad8f15c"
      },
      "cell_type": "code",
      "source": [
        "stats.ttest_1samp(budget_ct, .5)"
      ],
      "execution_count": 40,
      "outputs": [
        {
          "output_type": "execute_result",
          "data": {
            "text/plain": [
              "Ttest_1sampResult(statistic=array([1.24152202, 1.28137594]), pvalue=array([0.34026678, 0.32855397]))"
            ]
          },
          "metadata": {
            "tags": []
          },
          "execution_count": 40
        }
      ]
    },
    {
      "metadata": {
        "id": "ATlcaFM6Kw0K",
        "colab_type": "code",
        "colab": {
          "base_uri": "https://localhost:8080/",
          "height": 204
        },
        "outputId": "0a5d9432-558d-49ae-c23c-690f00a4d1f7"
      },
      "cell_type": "code",
      "source": [
        "education = votes[['party:', 'education-spending:']]\n",
        "\n",
        "education.head()"
      ],
      "execution_count": 42,
      "outputs": [
        {
          "output_type": "execute_result",
          "data": {
            "text/html": [
              "<div>\n",
              "<style scoped>\n",
              "    .dataframe tbody tr th:only-of-type {\n",
              "        vertical-align: middle;\n",
              "    }\n",
              "\n",
              "    .dataframe tbody tr th {\n",
              "        vertical-align: top;\n",
              "    }\n",
              "\n",
              "    .dataframe thead th {\n",
              "        text-align: right;\n",
              "    }\n",
              "</style>\n",
              "<table border=\"1\" class=\"dataframe\">\n",
              "  <thead>\n",
              "    <tr style=\"text-align: right;\">\n",
              "      <th></th>\n",
              "      <th>party:</th>\n",
              "      <th>education-spending:</th>\n",
              "    </tr>\n",
              "  </thead>\n",
              "  <tbody>\n",
              "    <tr>\n",
              "      <th>0</th>\n",
              "      <td>republican</td>\n",
              "      <td>1</td>\n",
              "    </tr>\n",
              "    <tr>\n",
              "      <th>1</th>\n",
              "      <td>republican</td>\n",
              "      <td>1</td>\n",
              "    </tr>\n",
              "    <tr>\n",
              "      <th>2</th>\n",
              "      <td>democrat</td>\n",
              "      <td>0</td>\n",
              "    </tr>\n",
              "    <tr>\n",
              "      <th>3</th>\n",
              "      <td>democrat</td>\n",
              "      <td>0</td>\n",
              "    </tr>\n",
              "    <tr>\n",
              "      <th>4</th>\n",
              "      <td>democrat</td>\n",
              "      <td>-1</td>\n",
              "    </tr>\n",
              "  </tbody>\n",
              "</table>\n",
              "</div>"
            ],
            "text/plain": [
              "       party:  education-spending:\n",
              "0  republican                    1\n",
              "1  republican                    1\n",
              "2    democrat                    0\n",
              "3    democrat                    0\n",
              "4    democrat                   -1"
            ]
          },
          "metadata": {
            "tags": []
          },
          "execution_count": 42
        }
      ]
    },
    {
      "metadata": {
        "id": "mQENeW_6MBKj",
        "colab_type": "code",
        "colab": {
          "base_uri": "https://localhost:8080/",
          "height": 173
        },
        "outputId": "801d5529-b07a-40ff-84ad-4f175a163118"
      },
      "cell_type": "code",
      "source": [
        "education_ct = pd.crosstab(education['education-spending:'],\n",
        "                           education['party:'])\n",
        "\n",
        "education_ct"
      ],
      "execution_count": 43,
      "outputs": [
        {
          "output_type": "execute_result",
          "data": {
            "text/html": [
              "<div>\n",
              "<style scoped>\n",
              "    .dataframe tbody tr th:only-of-type {\n",
              "        vertical-align: middle;\n",
              "    }\n",
              "\n",
              "    .dataframe tbody tr th {\n",
              "        vertical-align: top;\n",
              "    }\n",
              "\n",
              "    .dataframe thead th {\n",
              "        text-align: right;\n",
              "    }\n",
              "</style>\n",
              "<table border=\"1\" class=\"dataframe\">\n",
              "  <thead>\n",
              "    <tr style=\"text-align: right;\">\n",
              "      <th>party:</th>\n",
              "      <th>democrat</th>\n",
              "      <th>republican</th>\n",
              "    </tr>\n",
              "    <tr>\n",
              "      <th>education-spending:</th>\n",
              "      <th></th>\n",
              "      <th></th>\n",
              "    </tr>\n",
              "  </thead>\n",
              "  <tbody>\n",
              "    <tr>\n",
              "      <th>-1</th>\n",
              "      <td>18</td>\n",
              "      <td>13</td>\n",
              "    </tr>\n",
              "    <tr>\n",
              "      <th>0</th>\n",
              "      <td>213</td>\n",
              "      <td>20</td>\n",
              "    </tr>\n",
              "    <tr>\n",
              "      <th>1</th>\n",
              "      <td>36</td>\n",
              "      <td>135</td>\n",
              "    </tr>\n",
              "  </tbody>\n",
              "</table>\n",
              "</div>"
            ],
            "text/plain": [
              "party:               democrat  republican\n",
              "education-spending:                      \n",
              "-1                         18          13\n",
              " 0                        213          20\n",
              " 1                         36         135"
            ]
          },
          "metadata": {
            "tags": []
          },
          "execution_count": 43
        }
      ]
    },
    {
      "metadata": {
        "id": "EOSNP3ueMeO0",
        "colab_type": "code",
        "colab": {
          "base_uri": "https://localhost:8080/",
          "height": 34
        },
        "outputId": "4aab3ad2-c1d8-4c72-daf5-cb219d881911"
      },
      "cell_type": "code",
      "source": [
        "stats.ttest_1samp(education_ct, .5)"
      ],
      "execution_count": 44,
      "outputs": [
        {
          "output_type": "execute_result",
          "data": {
            "text/plain": [
              "Ttest_1sampResult(statistic=array([1.42243256, 1.4032283 ]), pvalue=array([0.2908474, 0.2956556]))"
            ]
          },
          "metadata": {
            "tags": []
          },
          "execution_count": 44
        }
      ]
    },
    {
      "metadata": {
        "id": "wiq83guLcuAE",
        "colab_type": "text"
      },
      "cell_type": "markdown",
      "source": [
        "# Resources\n",
        "\n",
        "- https://homepage.divms.uiowa.edu/~mbognar/applets/t.html\n",
        "- https://rpsychologist.com/d3/tdist/\n",
        "- https://gallery.shinyapps.io/tdist/\n",
        "- https://en.wikipedia.org/wiki/Standard_deviation#Sample_standard_deviation_of_metabolic_rate_of_northern_fulmars"
      ]
    }
  ]
}