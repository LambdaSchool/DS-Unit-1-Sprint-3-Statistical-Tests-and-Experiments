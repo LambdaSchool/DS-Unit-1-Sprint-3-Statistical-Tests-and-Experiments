{
  "nbformat": 4,
  "nbformat_minor": 0,
  "metadata": {
    "colab": {
      "name": "Paul K  Statistics_Probability_Assignment.ipynb",
      "version": "0.3.2",
      "provenance": [],
      "collapsed_sections": [],
      "include_colab_link": true
    },
    "language_info": {
      "codemirror_mode": {
        "name": "ipython",
        "version": 3
      },
      "file_extension": ".py",
      "mimetype": "text/x-python",
      "name": "python",
      "nbconvert_exporter": "python",
      "pygments_lexer": "ipython3",
      "version": "3.7.3"
    },
    "kernelspec": {
      "display_name": "Python 3",
      "language": "python",
      "name": "python3"
    }
  },
  "cells": [
    {
      "cell_type": "markdown",
      "metadata": {
        "id": "view-in-github",
        "colab_type": "text"
      },
      "source": [
        "<a href=\"https://colab.research.google.com/github/llpk79/DS-Unit-1-Sprint-4-Statistical-Tests-and-Experiments/blob/master/Paul_K_Statistics_Probability_Assignment.ipynb\" target=\"_parent\"><img src=\"https://colab.research.google.com/assets/colab-badge.svg\" alt=\"Open In Colab\"/></a>"
      ]
    },
    {
      "cell_type": "markdown",
      "metadata": {
        "id": "h97h_f1SCZrG",
        "colab_type": "text"
      },
      "source": [
        "<img align=\"left\" src=\"https://lever-client-logos.s3.amazonaws.com/864372b1-534c-480e-acd5-9711f850815c-1524247202159.png\" width=200>\n",
        "<br></br>\n",
        "<br></br>\n",
        "\n",
        "## *Data Science Unit 1 Sprint 3 Assignment 1*\n",
        "\n",
        "# Apply the t-test to real data\n",
        "\n",
        "Your assignment is to determine which issues have \"statistically significant\" differences between political parties in this [1980s congressional voting data](https://archive.ics.uci.edu/ml/datasets/Congressional+Voting+Records). The data consists of 435 instances (one for each congressperson), a class (democrat or republican), and 16 binary attributes (yes or no for voting for or against certain issues). Be aware - there are missing values!\n",
        "\n",
        "Your goals:\n",
        "\n",
        "1. Load and clean the data (or determine the best method to drop observations when running tests)\n",
        "2. Using hypothesis testing, find an issue that democrats support more than republicans with p < 0.01\n",
        "3. Using hypothesis testing, find an issue that republicans support more than democrats with p < 0.01\n",
        "4. Using hypothesis testing, find an issue where the difference between republicans and democrats has p > 0.1 (i.e. there may not be much of a difference)\n",
        "\n",
        "Note that this data will involve *2 sample* t-tests, because you're comparing averages across two groups (republicans and democrats) rather than a single group against a null hypothesis.\n",
        "\n",
        "Stretch goals:\n",
        "\n",
        "1. Refactor your code into functions so it's easy to rerun with arbitrary variables\n",
        "2. Apply hypothesis testing to your personal project data (for the purposes of this notebook you can type a summary of the hypothesis you formed and tested)"
      ]
    },
    {
      "cell_type": "code",
      "metadata": {
        "id": "tiPJePr-CZrJ",
        "colab_type": "code",
        "colab": {}
      },
      "source": [
        "import pandas as pd\n",
        "import numpy as np\n",
        "import matplotlib.pyplot as plt\n",
        "import seaborn as sns\n",
        "from scipy.stats import ttest_ind"
      ],
      "execution_count": 0,
      "outputs": []
    },
    {
      "cell_type": "code",
      "metadata": {
        "id": "7aPkaLomC0nY",
        "colab_type": "code",
        "outputId": "9c905598-ab4e-4f46-8352-4226befa0025",
        "colab": {
          "base_uri": "https://localhost:8080/",
          "height": 275
        }
      },
      "source": [
        "names = col_names = ['party','Disabled Infants', 'Water Project', 'Budget Resolution', 'Physician Fee', 'El Salvador Aid', 'Religion-Schools', 'Anti-Satellite Test', 'Nicaragua Contras Aid', 'MX Missile', 'Immigration', 'Synfuels Cutback', 'Education Spending', 'Superfund Right To Sue', 'Crime', 'Duty Free Exports', 'Export Admin S. Africa']\n",
        "gov = pd.read_csv('https://archive.ics.uci.edu/ml/machine-learning-databases/voting-records/house-votes-84.data',\n",
        "                  na_values='?', header=None, names=names)\n",
        "gov.head()"
      ],
      "execution_count": 17,
      "outputs": [
        {
          "output_type": "execute_result",
          "data": {
            "text/html": [
              "<div>\n",
              "<style scoped>\n",
              "    .dataframe tbody tr th:only-of-type {\n",
              "        vertical-align: middle;\n",
              "    }\n",
              "\n",
              "    .dataframe tbody tr th {\n",
              "        vertical-align: top;\n",
              "    }\n",
              "\n",
              "    .dataframe thead th {\n",
              "        text-align: right;\n",
              "    }\n",
              "</style>\n",
              "<table border=\"1\" class=\"dataframe\">\n",
              "  <thead>\n",
              "    <tr style=\"text-align: right;\">\n",
              "      <th></th>\n",
              "      <th>party</th>\n",
              "      <th>Disabled Infants</th>\n",
              "      <th>Water Project</th>\n",
              "      <th>Budget Resolution</th>\n",
              "      <th>Physician Fee</th>\n",
              "      <th>El Salvador Aid</th>\n",
              "      <th>Religion-Schools</th>\n",
              "      <th>Anti-Satellite Test</th>\n",
              "      <th>Nicaragua Contras Aid</th>\n",
              "      <th>MX Missile</th>\n",
              "      <th>Immigration</th>\n",
              "      <th>Synfuels Cutback</th>\n",
              "      <th>Education Spending</th>\n",
              "      <th>Superfund Right To Sue</th>\n",
              "      <th>Crime</th>\n",
              "      <th>Duty Free Exports</th>\n",
              "      <th>Export Admin S. Africa</th>\n",
              "    </tr>\n",
              "  </thead>\n",
              "  <tbody>\n",
              "    <tr>\n",
              "      <th>0</th>\n",
              "      <td>republican</td>\n",
              "      <td>n</td>\n",
              "      <td>y</td>\n",
              "      <td>n</td>\n",
              "      <td>y</td>\n",
              "      <td>y</td>\n",
              "      <td>y</td>\n",
              "      <td>n</td>\n",
              "      <td>n</td>\n",
              "      <td>n</td>\n",
              "      <td>y</td>\n",
              "      <td>NaN</td>\n",
              "      <td>y</td>\n",
              "      <td>y</td>\n",
              "      <td>y</td>\n",
              "      <td>n</td>\n",
              "      <td>y</td>\n",
              "    </tr>\n",
              "    <tr>\n",
              "      <th>1</th>\n",
              "      <td>republican</td>\n",
              "      <td>n</td>\n",
              "      <td>y</td>\n",
              "      <td>n</td>\n",
              "      <td>y</td>\n",
              "      <td>y</td>\n",
              "      <td>y</td>\n",
              "      <td>n</td>\n",
              "      <td>n</td>\n",
              "      <td>n</td>\n",
              "      <td>n</td>\n",
              "      <td>n</td>\n",
              "      <td>y</td>\n",
              "      <td>y</td>\n",
              "      <td>y</td>\n",
              "      <td>n</td>\n",
              "      <td>NaN</td>\n",
              "    </tr>\n",
              "    <tr>\n",
              "      <th>2</th>\n",
              "      <td>democrat</td>\n",
              "      <td>NaN</td>\n",
              "      <td>y</td>\n",
              "      <td>y</td>\n",
              "      <td>NaN</td>\n",
              "      <td>y</td>\n",
              "      <td>y</td>\n",
              "      <td>n</td>\n",
              "      <td>n</td>\n",
              "      <td>n</td>\n",
              "      <td>n</td>\n",
              "      <td>y</td>\n",
              "      <td>n</td>\n",
              "      <td>y</td>\n",
              "      <td>y</td>\n",
              "      <td>n</td>\n",
              "      <td>n</td>\n",
              "    </tr>\n",
              "    <tr>\n",
              "      <th>3</th>\n",
              "      <td>democrat</td>\n",
              "      <td>n</td>\n",
              "      <td>y</td>\n",
              "      <td>y</td>\n",
              "      <td>n</td>\n",
              "      <td>NaN</td>\n",
              "      <td>y</td>\n",
              "      <td>n</td>\n",
              "      <td>n</td>\n",
              "      <td>n</td>\n",
              "      <td>n</td>\n",
              "      <td>y</td>\n",
              "      <td>n</td>\n",
              "      <td>y</td>\n",
              "      <td>n</td>\n",
              "      <td>n</td>\n",
              "      <td>y</td>\n",
              "    </tr>\n",
              "    <tr>\n",
              "      <th>4</th>\n",
              "      <td>democrat</td>\n",
              "      <td>y</td>\n",
              "      <td>y</td>\n",
              "      <td>y</td>\n",
              "      <td>n</td>\n",
              "      <td>y</td>\n",
              "      <td>y</td>\n",
              "      <td>n</td>\n",
              "      <td>n</td>\n",
              "      <td>n</td>\n",
              "      <td>n</td>\n",
              "      <td>y</td>\n",
              "      <td>NaN</td>\n",
              "      <td>y</td>\n",
              "      <td>y</td>\n",
              "      <td>y</td>\n",
              "      <td>y</td>\n",
              "    </tr>\n",
              "  </tbody>\n",
              "</table>\n",
              "</div>"
            ],
            "text/plain": [
              "        party Disabled Infants Water Project Budget Resolution Physician Fee  \\\n",
              "0  republican                n             y                 n             y   \n",
              "1  republican                n             y                 n             y   \n",
              "2    democrat              NaN             y                 y           NaN   \n",
              "3    democrat                n             y                 y             n   \n",
              "4    democrat                y             y                 y             n   \n",
              "\n",
              "  El Salvador Aid Religion-Schools Anti-Satellite Test Nicaragua Contras Aid  \\\n",
              "0               y                y                   n                     n   \n",
              "1               y                y                   n                     n   \n",
              "2               y                y                   n                     n   \n",
              "3             NaN                y                   n                     n   \n",
              "4               y                y                   n                     n   \n",
              "\n",
              "  MX Missile Immigration Synfuels Cutback Education Spending  \\\n",
              "0          n           y              NaN                  y   \n",
              "1          n           n                n                  y   \n",
              "2          n           n                y                  n   \n",
              "3          n           n                y                  n   \n",
              "4          n           n                y                NaN   \n",
              "\n",
              "  Superfund Right To Sue Crime Duty Free Exports Export Admin S. Africa  \n",
              "0                      y     y                 n                      y  \n",
              "1                      y     y                 n                    NaN  \n",
              "2                      y     y                 n                      n  \n",
              "3                      y     n                 n                      y  \n",
              "4                      y     y                 y                      y  "
            ]
          },
          "metadata": {
            "tags": []
          },
          "execution_count": 17
        }
      ]
    },
    {
      "cell_type": "code",
      "metadata": {
        "id": "OY1lyzgoDMHm",
        "colab_type": "code",
        "colab": {}
      },
      "source": [
        "reps = gov[gov['party'] == 'republican']\n",
        "dems = gov[gov['party'] == 'democrat']"
      ],
      "execution_count": 0,
      "outputs": []
    },
    {
      "cell_type": "code",
      "metadata": {
        "id": "cO-DlgRIDo4K",
        "colab_type": "code",
        "colab": {}
      },
      "source": [
        "reps.head()"
      ],
      "execution_count": 0,
      "outputs": []
    },
    {
      "cell_type": "code",
      "metadata": {
        "id": "osRtwHUYDqWp",
        "colab_type": "code",
        "colab": {}
      },
      "source": [
        "dems.head()"
      ],
      "execution_count": 0,
      "outputs": []
    },
    {
      "cell_type": "code",
      "metadata": {
        "id": "39ydsXnrDsy0",
        "colab_type": "code",
        "colab": {}
      },
      "source": [
        "def convert_to_bool(x):\n",
        "  if str(x) == 'y':\n",
        "    return 1\n",
        "  if str(x) == 'n':\n",
        "    return 0\n",
        "  else:\n",
        "    return x"
      ],
      "execution_count": 0,
      "outputs": []
    },
    {
      "cell_type": "code",
      "metadata": {
        "id": "Y9nIJCzcEIau",
        "colab_type": "code",
        "colab": {}
      },
      "source": [
        "dems = dems.applymap(convert_to_bool)\n",
        "reps = reps.applymap(convert_to_bool)"
      ],
      "execution_count": 0,
      "outputs": []
    },
    {
      "cell_type": "code",
      "metadata": {
        "id": "Pw6nxU8PETwx",
        "colab_type": "code",
        "colab": {}
      },
      "source": [
        "reps.head()"
      ],
      "execution_count": 0,
      "outputs": []
    },
    {
      "cell_type": "code",
      "metadata": {
        "id": "Pb8F2Z7_EV62",
        "colab_type": "code",
        "colab": {}
      },
      "source": [
        "dems.head()"
      ],
      "execution_count": 0,
      "outputs": []
    },
    {
      "cell_type": "code",
      "metadata": {
        "id": "n7_LxbC4EXVO",
        "colab_type": "code",
        "colab": {}
      },
      "source": [
        "def fill_mode(column_names, frame):\n",
        "  for name in column_names[1:]:\n",
        "    frame[name].fillna(frame[name].mode()[0], inplace=True)\n"
      ],
      "execution_count": 0,
      "outputs": []
    },
    {
      "cell_type": "code",
      "metadata": {
        "id": "KXI0eZIsEjvC",
        "colab_type": "code",
        "colab": {}
      },
      "source": [
        "def fill_zero(column_names, frame):\n",
        "  for name in column_names[1:]:\n",
        "    frame[name].fillna(0, inplace=True)"
      ],
      "execution_count": 0,
      "outputs": []
    },
    {
      "cell_type": "code",
      "metadata": {
        "id": "F0gKFAmsYFLK",
        "colab_type": "code",
        "colab": {}
      },
      "source": [
        "def fill_mean(column_names, frame):\n",
        "  for name in column_names[1:]:\n",
        "    frame[name].fillna(frame[name].mean(), inplace=True)"
      ],
      "execution_count": 0,
      "outputs": []
    },
    {
      "cell_type": "code",
      "metadata": {
        "id": "mlqvQKTIVBbx",
        "colab_type": "code",
        "colab": {}
      },
      "source": [
        "def do_ttests(column_names, dems, reps):\n",
        "  # Make some empty lists.\n",
        "  dems_support, reps_support, bipartisan = [], [], []\n",
        "  \n",
        "  # Iterate though issue columns.\n",
        "  for name in column_names[1:]:\n",
        "    \n",
        "    # Get statistic and p value for each column.\n",
        "    stat, pval = ttest_ind(dems[name], reps[name], nan_policy='omit')\n",
        "    \n",
        "    # Set a boolean indicating if p value is below threshold.\n",
        "    sig = pval <= 0.01\n",
        "    if sig:\n",
        "      \n",
        "      # If dems support and reps do not, add to dems list.\n",
        "      if stat > 0 and (sum(dems[name] == 1) > sum(dems[name] == 0)):\n",
        "        dems_support.append(name)\n",
        "        \n",
        "      # If republicans support and dems do not, add to reps list.\n",
        "      elif stat < 0 and (sum(reps[name] == 1) > sum(reps[name] == 0)):\n",
        "        reps_support.append(name)\n",
        "        \n",
        "    # If no significant difference found, add to bipartisan list.\n",
        "    else:\n",
        "      bipartisan.append(name)\n",
        "  print('Dem supported issues: {}'.format(', '.join(dems_support)))\n",
        "  print('Rep supported issues: {}'.format(', '.join(reps_support)))\n",
        "  print('Bipartisan issues: {}\\n'.format(', '.join(bipartisan)))\n"
      ],
      "execution_count": 0,
      "outputs": []
    },
    {
      "cell_type": "code",
      "metadata": {
        "id": "f9MDUabIEozB",
        "colab_type": "code",
        "colab": {}
      },
      "source": [
        "def report_vote(columns, dems, reps):\n",
        "  for column in columns[1:]:\n",
        "    print(f'Issue: {column}')\n",
        "    print(f'Dems: Yea {sum(dems[column] == 1)}, Nay {sum(dems[column] == 0)}')\n",
        "    print(f'Reps: Yea {sum(reps[column] == 1)}, Nay {sum(reps[column] == 0)}\\n')\n",
        "    "
      ],
      "execution_count": 0,
      "outputs": []
    },
    {
      "cell_type": "code",
      "metadata": {
        "id": "IabFPYPMiGQa",
        "colab_type": "code",
        "colab": {}
      },
      "source": [
        "def do_it_all(data):\n",
        "  columns = data.columns\n",
        "  \n",
        "  dems = data[data['party'] == 'democrat']\n",
        "  reps = data[data['party'] == 'republican']\n",
        "  \n",
        "  dems = dems.applymap(convert_to_bool)\n",
        "  reps = reps.applymap(convert_to_bool)\n",
        "  \n",
        "  # Make copies and use various fill methods.\n",
        "  dems_zero = dems.copy()\n",
        "  fill_zero(columns, dems_zero)\n",
        "  \n",
        "  reps_zero = reps.copy()\n",
        "  fill_zero(columns, reps_zero)\n",
        "  \n",
        "  dems_mean = dems.copy()\n",
        "  fill_mean(columns, dems_mean)\n",
        "  \n",
        "  reps_mean = reps.copy()\n",
        "  fill_mean(columns, reps_mean)\n",
        "  \n",
        "  dems_mode = dems.copy()\n",
        "  fill_mode(columns, dems_mode)\n",
        "  \n",
        "  reps_mode = reps.copy()\n",
        "  fill_mode(columns, reps_mode)\n",
        "  \n",
        "  for name, dem, rep in zip(['exclude nan', 'zero fill', 'mean fill', 'mode fill'],\n",
        "                            [dems, dems_zero, dems_mean, dems_mode],\n",
        "                            [reps, reps_zero, reps_mean, reps_mode]):\n",
        "    print(f'Fill NA method: {name}')\n",
        "#     report_vote(columns, dem, rep)\n",
        "    do_ttests(columns, dem, rep)"
      ],
      "execution_count": 0,
      "outputs": []
    },
    {
      "cell_type": "code",
      "metadata": {
        "id": "17C5a6BjBN0B",
        "colab_type": "code",
        "colab": {
          "base_uri": "https://localhost:8080/",
          "height": 377
        },
        "outputId": "4a26250e-9df3-4720-e64f-571f10cf089b"
      },
      "source": [
        "do_it_all(gov)"
      ],
      "execution_count": 60,
      "outputs": [
        {
          "output_type": "stream",
          "text": [
            "Fill NA method: exclude nan\n",
            "Dem supported issues: Disabled Infants, Budget Resolution, Anti-Satellite Test, Nicaragua Contras Aid, MX Missile, Synfuels Cutback, Duty Free Exports, Export Admin S. Africa\n",
            "Rep supported issues: Physician Fee, El Salvador Aid, Religion-Schools, Education Spending, Superfund Right To Sue, Crime\n",
            "Bipartisan issues: Water Project, Immigration\n",
            "\n",
            "Fill NA method: zero fill\n",
            "Dem supported issues: Disabled Infants, Budget Resolution, Anti-Satellite Test, Nicaragua Contras Aid, MX Missile, Duty Free Exports\n",
            "Rep supported issues: Physician Fee, El Salvador Aid, Religion-Schools, Education Spending, Superfund Right To Sue, Crime\n",
            "Bipartisan issues: Water Project, Immigration, Export Admin S. Africa\n",
            "\n",
            "Fill NA method: mean fill\n",
            "Dem supported issues: Disabled Infants, Budget Resolution, Anti-Satellite Test, Nicaragua Contras Aid, MX Missile, Synfuels Cutback, Duty Free Exports, Export Admin S. Africa\n",
            "Rep supported issues: Physician Fee, El Salvador Aid, Religion-Schools, Education Spending, Superfund Right To Sue, Crime\n",
            "Bipartisan issues: Water Project, Immigration\n",
            "\n",
            "Fill NA method: mode fill\n",
            "Dem supported issues: Disabled Infants, Budget Resolution, Anti-Satellite Test, Nicaragua Contras Aid, MX Missile, Synfuels Cutback, Duty Free Exports, Export Admin S. Africa\n",
            "Rep supported issues: Physician Fee, El Salvador Aid, Religion-Schools, Education Spending, Superfund Right To Sue, Crime\n",
            "Bipartisan issues: Water Project, Immigration\n",
            "\n"
          ],
          "name": "stdout"
        }
      ]
    },
    {
      "cell_type": "code",
      "metadata": {
        "id": "uDkq9Rx3BQEk",
        "colab_type": "code",
        "colab": {}
      },
      "source": [
        ""
      ],
      "execution_count": 0,
      "outputs": []
    }
  ]
}