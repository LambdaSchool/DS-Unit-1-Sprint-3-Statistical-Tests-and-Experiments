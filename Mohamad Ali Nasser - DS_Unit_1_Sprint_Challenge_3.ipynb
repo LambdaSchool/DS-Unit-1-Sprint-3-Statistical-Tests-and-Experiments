{
  "nbformat": 4,
  "nbformat_minor": 0,
  "metadata": {
    "colab": {
      "name": "DS_Unit_1_Sprint_Challenge_3.ipynb",
      "version": "0.3.2",
      "provenance": [],
      "collapsed_sections": [],
      "include_colab_link": true
    },
    "kernelspec": {
      "name": "python3",
      "display_name": "Python 3"
    }
  },
  "cells": [
    {
      "cell_type": "markdown",
      "metadata": {
        "id": "view-in-github",
        "colab_type": "text"
      },
      "source": [
        "<a href=\"https://colab.research.google.com/github/cartman12/DS-Unit-1-Sprint-4-Statistical-Tests-and-Experiments/blob/master/Mohamad%20Ali%20Nasser%20-%20DS_Unit_1_Sprint_Challenge_3.ipynb\" target=\"_parent\"><img src=\"https://colab.research.google.com/assets/colab-badge.svg\" alt=\"Open In Colab\"/></a>"
      ]
    },
    {
      "cell_type": "markdown",
      "metadata": {
        "id": "NooAiTdnafkz",
        "colab_type": "text"
      },
      "source": [
        "# Data Science Unit 1 Sprint Challenge 4\n",
        "\n",
        "## Exploring Data, Testing Hypotheses\n",
        "\n",
        "In this sprint challenge you will look at a dataset of people being approved or rejected for credit.\n",
        "\n",
        "https://archive.ics.uci.edu/ml/datasets/Credit+Approval\n",
        "\n",
        "Data Set Information: This file concerns credit card applications. All attribute names and values have been changed to meaningless symbols to protect confidentiality of the data. This dataset is interesting because there is a good mix of attributes -- continuous, nominal with small numbers of values, and nominal with larger numbers of values. There are also a few missing values.\n",
        "\n",
        "Attribute Information:\n",
        "- A1: b, a.\n",
        "- A2: continuous.\n",
        "- A3: continuous.\n",
        "- A4: u, y, l, t.\n",
        "- A5: g, p, gg.\n",
        "- A6: c, d, cc, i, j, k, m, r, q, w, x, e, aa, ff.\n",
        "- A7: v, h, bb, j, n, z, dd, ff, o.\n",
        "- A8: continuous.\n",
        "- A9: t, f.\n",
        "- A10: t, f.\n",
        "- A11: continuous.\n",
        "- A12: t, f.\n",
        "- A13: g, p, s.\n",
        "- A14: continuous.\n",
        "- A15: continuous.\n",
        "- A16: +,- (class attribute)\n",
        "\n",
        "Yes, most of that doesn't mean anything. A16 (the class attribute) is the most interesting, as it separates the 307 approved cases from the 383 rejected cases. The remaining variables have been obfuscated for privacy - a challenge you may have to deal with in your data science career.\n",
        "\n",
        "Sprint challenges are evaluated based on satisfactory completion of each part. It is suggested you work through it in order, getting each aspect reasonably working, before trying to deeply explore, iterate, or refine any given step. Once you get to the end, if you want to go back and improve things, go for it!"
      ]
    },
    {
      "cell_type": "markdown",
      "metadata": {
        "id": "5wch6ksCbJtZ",
        "colab_type": "text"
      },
      "source": [
        "## Part 1 - Load and validate the data\n",
        "\n",
        "- Load the data as a `pandas` data frame.\n",
        "- Validate that it has the appropriate number of observations (you can check the raw file, and also read the dataset description from UCI).\n",
        "- UCI says there should be missing data - check, and if necessary change the data so pandas recognizes it as na\n",
        "- Make sure that the loaded features are of the types described above (continuous values should be treated as float), and correct as necessary\n",
        "\n",
        "This is review, but skills that you'll use at the start of any data exploration. Further, you may have to do some investigation to figure out which file to load from - that is part of the puzzle."
      ]
    },
    {
      "cell_type": "code",
      "metadata": {
        "id": "Jni5qAVRRY1k",
        "colab_type": "code",
        "colab": {}
      },
      "source": [
        "import pandas as pd\n",
        "import numpy as np\n",
        "import matplotlib.pyplot as plt\n",
        "from scipy.stats import chisquare\n",
        "from scipy import stats\n",
        "from scipy.stats import normaltest\n",
        "from scipy.stats import ttest_ind"
      ],
      "execution_count": 0,
      "outputs": []
    },
    {
      "cell_type": "code",
      "metadata": {
        "id": "qEKJoQQwR82r",
        "colab_type": "code",
        "colab": {}
      },
      "source": [
        "df = pd.read_csv('https://archive.ics.uci.edu/ml/machine-learning-databases/credit-screening/crx.data', header = None, names = ['a1','a2','a3','a4','a5','a6','a7','a8','a9','a10','a11','a12','a13','a14','a15','a16'], na_values=\"?\" )"
      ],
      "execution_count": 0,
      "outputs": []
    },
    {
      "cell_type": "code",
      "metadata": {
        "id": "Kn9le4GrSC6H",
        "colab_type": "code",
        "colab": {}
      },
      "source": [
        "df.head()"
      ],
      "execution_count": 0,
      "outputs": []
    },
    {
      "cell_type": "code",
      "metadata": {
        "id": "J-uvIiuCS7YI",
        "colab_type": "code",
        "colab": {}
      },
      "source": [
        "df['a16'].describe(exclude = np.number)"
      ],
      "execution_count": 0,
      "outputs": []
    },
    {
      "cell_type": "code",
      "metadata": {
        "id": "VB3UeiySTdci",
        "colab_type": "code",
        "colab": {}
      },
      "source": [
        "df.isnull().sum()"
      ],
      "execution_count": 0,
      "outputs": []
    },
    {
      "cell_type": "code",
      "metadata": {
        "id": "dszNAHLmTiDK",
        "colab_type": "code",
        "colab": {}
      },
      "source": [
        "df['a16'] = df['a16'].replace({'-': 0, '+': 1})"
      ],
      "execution_count": 0,
      "outputs": []
    },
    {
      "cell_type": "code",
      "metadata": {
        "id": "De_sL3gtXT28",
        "colab_type": "code",
        "colab": {}
      },
      "source": [
        "df = df.fillna(method='ffill')"
      ],
      "execution_count": 0,
      "outputs": []
    },
    {
      "cell_type": "code",
      "metadata": {
        "id": "1i1AAjANT6ig",
        "colab_type": "code",
        "colab": {
          "base_uri": "https://localhost:8080/",
          "height": 34
        },
        "outputId": "71306f06-12c1-4c23-eed3-8c9f1818d0b7"
      },
      "source": [
        "df.shape"
      ],
      "execution_count": 19,
      "outputs": [
        {
          "output_type": "execute_result",
          "data": {
            "text/plain": [
              "(690, 16)"
            ]
          },
          "metadata": {
            "tags": []
          },
          "execution_count": 19
        }
      ]
    },
    {
      "cell_type": "code",
      "metadata": {
        "id": "RgrpbqFrWEio",
        "colab_type": "code",
        "colab": {}
      },
      "source": [
        "df['a14'] = df['a14'].str.lstrip('0')"
      ],
      "execution_count": 0,
      "outputs": []
    },
    {
      "cell_type": "code",
      "metadata": {
        "id": "meNe4rlTVGEd",
        "colab_type": "code",
        "colab": {}
      },
      "source": [
        "df[['a2', 'a14', 'a11', 'a15']] = df[['a2', 'a14', 'a11', 'a15']].astype('float64')"
      ],
      "execution_count": 0,
      "outputs": []
    },
    {
      "cell_type": "code",
      "metadata": {
        "id": "EIFHhpf6U6mh",
        "colab_type": "code",
        "colab": {}
      },
      "source": [
        "df.dtypes"
      ],
      "execution_count": 0,
      "outputs": []
    },
    {
      "cell_type": "code",
      "metadata": {
        "id": "ZTJdocbNQnOJ",
        "colab_type": "code",
        "colab": {}
      },
      "source": [
        ""
      ],
      "execution_count": 0,
      "outputs": []
    },
    {
      "cell_type": "code",
      "metadata": {
        "id": "Q79xDLckzibS",
        "colab_type": "code",
        "colab": {}
      },
      "source": [
        "# TODO"
      ],
      "execution_count": 0,
      "outputs": []
    },
    {
      "cell_type": "markdown",
      "metadata": {
        "id": "G7rLytbrO38L",
        "colab_type": "text"
      },
      "source": [
        "## Part 2 - Exploring data, Testing hypotheses\n",
        "\n",
        "The only thing we really know about this data is that A16 is the class label. Besides that, we have 6 continuous (float) features and 9 categorical features.\n",
        "\n",
        "Explore the data: you can use whatever approach (tables, utility functions, visualizations) to get an impression of the distributions and relationships of the variables. In general, your goal is to understand how the features are different when grouped by the two class labels (`+` and `-`).\n",
        "\n",
        "For the 6 continuous features, how are they different when split between the two class labels? Choose two features to run t-tests (again split by class label) - specifically, select one feature that is *extremely* different between the classes, and another feature that is notably less different (though perhaps still \"statistically significantly\" different). You may have to explore more than two features to do this.\n",
        "\n",
        "For the categorical features, explore by creating \"cross tabs\" (aka [contingency tables](https://en.wikipedia.org/wiki/Contingency_table)) between them and the class label, and apply the Chi-squared test to them. [pandas.crosstab](http://pandas.pydata.org/pandas-docs/stable/reference/api/pandas.crosstab.html) can create contingency tables, and [scipy.stats.chi2_contingency](https://docs.scipy.org/doc/scipy/reference/generated/scipy.stats.chi2_contingency.html) can calculate the Chi-squared statistic for them.\n",
        "\n",
        "There are 9 categorical features - as with the t-test, try to find one where the Chi-squared test returns an extreme result (rejecting the null that the data are independent), and one where it is less extreme.\n",
        "\n",
        "**NOTE** - \"less extreme\" just means smaller test statistic/larger p-value. Even the least extreme differences may be strongly statistically significant.\n",
        "\n",
        "Your *main* goal is the hypothesis tests, so don't spend too much time on the exploration/visualization piece. That is just a means to an end - use simple visualizations, such as boxplots or a scatter matrix (both built in to pandas), to get a feel for the overall distribution of the variables.\n",
        "\n",
        "This is challenging, so manage your time and aim for a baseline of at least running two t-tests and two Chi-squared tests before polishing. And don't forget to answer the questions in part 3, even if your results in this part aren't what you want them to be."
      ]
    },
    {
      "cell_type": "code",
      "metadata": {
        "id": "q51JWVVKYH_K",
        "colab_type": "code",
        "colab": {}
      },
      "source": [
        "df_cat = df.select_dtypes(exclude = np.number)\n",
        "df_coun = df.select_dtypes(include =np.number)\n"
      ],
      "execution_count": 0,
      "outputs": []
    },
    {
      "cell_type": "code",
      "metadata": {
        "id": "eVyqaOEwZNwz",
        "colab_type": "code",
        "colab": {}
      },
      "source": [
        "df_coun"
      ],
      "execution_count": 0,
      "outputs": []
    },
    {
      "cell_type": "code",
      "metadata": {
        "id": "h0zwC8EDd1PI",
        "colab_type": "code",
        "colab": {}
      },
      "source": [
        "# creat function that calcultaes pvalue and compares to our CI, if Pvalue is lower than the CI, we will reject null H.\n",
        "def atrributepvalue(df, ci):\n",
        "  for column in df_coun[df_coun.columns[:-1]]:\n",
        "    pos = df_coun[df_coun['a16'] == 1][column]\n",
        "    neg = df_coun[df_coun['a16'] == 0][column]\n",
        "    p_val = ttest_ind(pos, neg).pvalue\n",
        "    t_val = ttest_ind(pos, neg).statistic\n",
        "    if p_val < ci and pos.mean()>neg.mean():\n",
        "      print(column, \"attribute plays a more favorable role in a postive outcome because the pvalue\", round(p_val,4), round(t_val,4), \"is less than the confidence interval\", ci, \"meaning that the probability that this attribute did not play a role is very low\")\n",
        "    elif p_val < ci and neg.mean()>pos.mean():\n",
        "      print(column, \"attribute plays a more favorable role in a negative outcome because the pvalue\", round(p_val,4), round(t_val,4), \"is less than the confidence interval\", ci, \"meaning that the probability that this attribute did not play a role is very low\")\n",
        "    else:\n",
        "      print(\"no signficant difference, therefore this attribute has no real role in deciding + or -\")"
      ],
      "execution_count": 0,
      "outputs": []
    },
    {
      "cell_type": "code",
      "metadata": {
        "id": "tC2PF9UOklKF",
        "colab_type": "code",
        "colab": {}
      },
      "source": [
        ""
      ],
      "execution_count": 0,
      "outputs": []
    },
    {
      "cell_type": "code",
      "metadata": {
        "id": "jpYGkeAVjaxk",
        "colab_type": "code",
        "colab": {
          "base_uri": "https://localhost:8080/",
          "height": 119
        },
        "outputId": "c83860e7-8b26-4917-d778-4aa02d612867"
      },
      "source": [
        "atrributepvalue(df_coun, 0.001)"
      ],
      "execution_count": 271,
      "outputs": [
        {
          "output_type": "stream",
          "text": [
            "a2 attribute plays a more favorable role in a postive outcome because the pvalue 0.0 4.3145 is less than the confidence interval 0.001 meaning that the probability that this attribute did not play a role is very low\n",
            "a3 attribute plays a more favorable role in a postive outcome because the pvalue 0.0 5.53 is less than the confidence interval 0.001 meaning that the probability that this attribute did not play a role is very low\n",
            "a8 attribute plays a more favorable role in a postive outcome because the pvalue 0.0 8.9358 is less than the confidence interval 0.001 meaning that the probability that this attribute did not play a role is very low\n",
            "a11 attribute plays a more favorable role in a postive outcome because the pvalue 0.0 11.667 is less than the confidence interval 0.001 meaning that the probability that this attribute did not play a role is very low\n",
            "no signficant difference, therefore this attribute has no real role in deciding + or -\n",
            "a15 attribute plays a more favorable role in a postive outcome because the pvalue 0.0 4.6802 is less than the confidence interval 0.001 meaning that the probability that this attribute did not play a role is very low\n"
          ],
          "name": "stdout"
        }
      ]
    },
    {
      "cell_type": "code",
      "metadata": {
        "id": "BNz32wHlsrbJ",
        "colab_type": "code",
        "colab": {}
      },
      "source": [
        "# Just me exploring data, wasting time sigh"
      ],
      "execution_count": 0,
      "outputs": []
    },
    {
      "cell_type": "code",
      "metadata": {
        "id": "vrmuGhPIiztz",
        "colab_type": "code",
        "colab": {}
      },
      "source": [
        "del ct, ct1, ct2"
      ],
      "execution_count": 0,
      "outputs": []
    },
    {
      "cell_type": "code",
      "metadata": {
        "id": "uiNBBG-bcuOp",
        "colab_type": "code",
        "colab": {}
      },
      "source": [
        "df_cat = pd.merge(df['a16'],df_cat,right_index=True, left_index=True)"
      ],
      "execution_count": 0,
      "outputs": []
    },
    {
      "cell_type": "code",
      "metadata": {
        "id": "XyUP6LEHdQPd",
        "colab_type": "code",
        "colab": {
          "base_uri": "https://localhost:8080/",
          "height": 204
        },
        "outputId": "ad5a8d62-7eb2-47bf-c9dc-f3774685a328"
      },
      "source": [
        "df_cat.head()"
      ],
      "execution_count": 253,
      "outputs": [
        {
          "output_type": "execute_result",
          "data": {
            "text/html": [
              "<div>\n",
              "<style scoped>\n",
              "    .dataframe tbody tr th:only-of-type {\n",
              "        vertical-align: middle;\n",
              "    }\n",
              "\n",
              "    .dataframe tbody tr th {\n",
              "        vertical-align: top;\n",
              "    }\n",
              "\n",
              "    .dataframe thead th {\n",
              "        text-align: right;\n",
              "    }\n",
              "</style>\n",
              "<table border=\"1\" class=\"dataframe\">\n",
              "  <thead>\n",
              "    <tr style=\"text-align: right;\">\n",
              "      <th></th>\n",
              "      <th>a16</th>\n",
              "      <th>a1</th>\n",
              "      <th>a4</th>\n",
              "      <th>a5</th>\n",
              "      <th>a6</th>\n",
              "      <th>a7</th>\n",
              "      <th>a9</th>\n",
              "      <th>a10</th>\n",
              "      <th>a12</th>\n",
              "      <th>a13</th>\n",
              "    </tr>\n",
              "  </thead>\n",
              "  <tbody>\n",
              "    <tr>\n",
              "      <th>0</th>\n",
              "      <td>1</td>\n",
              "      <td>b</td>\n",
              "      <td>u</td>\n",
              "      <td>g</td>\n",
              "      <td>w</td>\n",
              "      <td>v</td>\n",
              "      <td>t</td>\n",
              "      <td>t</td>\n",
              "      <td>f</td>\n",
              "      <td>g</td>\n",
              "    </tr>\n",
              "    <tr>\n",
              "      <th>1</th>\n",
              "      <td>1</td>\n",
              "      <td>a</td>\n",
              "      <td>u</td>\n",
              "      <td>g</td>\n",
              "      <td>q</td>\n",
              "      <td>h</td>\n",
              "      <td>t</td>\n",
              "      <td>t</td>\n",
              "      <td>f</td>\n",
              "      <td>g</td>\n",
              "    </tr>\n",
              "    <tr>\n",
              "      <th>2</th>\n",
              "      <td>1</td>\n",
              "      <td>a</td>\n",
              "      <td>u</td>\n",
              "      <td>g</td>\n",
              "      <td>q</td>\n",
              "      <td>h</td>\n",
              "      <td>t</td>\n",
              "      <td>f</td>\n",
              "      <td>f</td>\n",
              "      <td>g</td>\n",
              "    </tr>\n",
              "    <tr>\n",
              "      <th>3</th>\n",
              "      <td>1</td>\n",
              "      <td>b</td>\n",
              "      <td>u</td>\n",
              "      <td>g</td>\n",
              "      <td>w</td>\n",
              "      <td>v</td>\n",
              "      <td>t</td>\n",
              "      <td>t</td>\n",
              "      <td>t</td>\n",
              "      <td>g</td>\n",
              "    </tr>\n",
              "    <tr>\n",
              "      <th>4</th>\n",
              "      <td>1</td>\n",
              "      <td>b</td>\n",
              "      <td>u</td>\n",
              "      <td>g</td>\n",
              "      <td>w</td>\n",
              "      <td>v</td>\n",
              "      <td>t</td>\n",
              "      <td>f</td>\n",
              "      <td>f</td>\n",
              "      <td>s</td>\n",
              "    </tr>\n",
              "  </tbody>\n",
              "</table>\n",
              "</div>"
            ],
            "text/plain": [
              "   a16 a1 a4 a5 a6 a7 a9 a10 a12 a13\n",
              "0    1  b  u  g  w  v  t   t   f   g\n",
              "1    1  a  u  g  q  h  t   t   f   g\n",
              "2    1  a  u  g  q  h  t   f   f   g\n",
              "3    1  b  u  g  w  v  t   t   t   g\n",
              "4    1  b  u  g  w  v  t   f   f   s"
            ]
          },
          "metadata": {
            "tags": []
          },
          "execution_count": 253
        }
      ]
    },
    {
      "cell_type": "code",
      "metadata": {
        "id": "Ua5qeJNTd4lV",
        "colab_type": "code",
        "colab": {}
      },
      "source": [
        "ct = pd.crosstab(df_cat['a1'],df_cat['a16'])"
      ],
      "execution_count": 0,
      "outputs": []
    },
    {
      "cell_type": "code",
      "metadata": {
        "id": "ELMyuOTJZfN3",
        "colab_type": "code",
        "colab": {}
      },
      "source": [
        "names = ['a1','a2','a3','a4','a5','a6','a7','a8','a9','a10','a11','a12','a13','a14','a15','a16']\n",
        "for column in df_cat[1:]:\n",
        "  ct1 = pd.crosstab(df_cat['a16'], df_cat[column])\n",
        "  ct2 = pd.merge(ct2, ct1, right_index=True, left_index=True)"
      ],
      "execution_count": 0,
      "outputs": []
    },
    {
      "cell_type": "code",
      "metadata": {
        "id": "CKohaYCEe4-x",
        "colab_type": "code",
        "colab": {}
      },
      "source": [
        "pd.set_option('display.max_rows', 500)\n",
        "pd.set_option('display.max_columns', 500)\n",
        "pd.set_option('display.width', 1000)"
      ],
      "execution_count": 0,
      "outputs": []
    },
    {
      "cell_type": "code",
      "metadata": {
        "id": "lQq8oy3ffoiT",
        "colab_type": "code",
        "colab": {}
      },
      "source": [
        "ct"
      ],
      "execution_count": 0,
      "outputs": []
    },
    {
      "cell_type": "code",
      "metadata": {
        "id": "Pk6udhmehHr6",
        "colab_type": "code",
        "colab": {}
      },
      "source": [
        "foo = pd.Categorical(['a', 'b'], categories=['a', 'b', 'c'])"
      ],
      "execution_count": 0,
      "outputs": []
    },
    {
      "cell_type": "code",
      "metadata": {
        "id": "7JaIXpARfYSp",
        "colab_type": "code",
        "colab": {}
      },
      "source": [
        "ct2 = pd.DataFrame()\n",
        "for column in df_cat[1:]:\n",
        "  ct1 = pd.crosstab(df_cat[column],df_cat['a16'])\n",
        "  ct2 = ct2.append(ct1)"
      ],
      "execution_count": 0,
      "outputs": []
    },
    {
      "cell_type": "code",
      "metadata": {
        "id": "ArVkumbVcGm7",
        "colab_type": "code",
        "colab": {}
      },
      "source": [
        "ct2"
      ],
      "execution_count": 0,
      "outputs": []
    },
    {
      "cell_type": "code",
      "metadata": {
        "id": "y9A8BGKaimIT",
        "colab_type": "code",
        "colab": {}
      },
      "source": [
        "# i will test Chisqaure for A1 and A13\n",
        "\n",
        "a1ct = pd.crosstab(df_cat['a16'],df_cat['a1'], margins =True)\n"
      ],
      "execution_count": 0,
      "outputs": []
    },
    {
      "cell_type": "code",
      "metadata": {
        "id": "nCmw9TNoreGV",
        "colab_type": "code",
        "colab": {}
      },
      "source": [
        ""
      ],
      "execution_count": 0,
      "outputs": []
    },
    {
      "cell_type": "code",
      "metadata": {
        "id": "1LKJ1MTkq7cr",
        "colab_type": "code",
        "colab": {
          "base_uri": "https://localhost:8080/",
          "height": 173
        },
        "outputId": "de56d7c8-1111-4bfc-9a82-8405c79afd55"
      },
      "source": [
        "a1ct"
      ],
      "execution_count": 258,
      "outputs": [
        {
          "output_type": "execute_result",
          "data": {
            "text/html": [
              "<div>\n",
              "<style scoped>\n",
              "    .dataframe tbody tr th:only-of-type {\n",
              "        vertical-align: middle;\n",
              "    }\n",
              "\n",
              "    .dataframe tbody tr th {\n",
              "        vertical-align: top;\n",
              "    }\n",
              "\n",
              "    .dataframe thead th {\n",
              "        text-align: right;\n",
              "    }\n",
              "</style>\n",
              "<table border=\"1\" class=\"dataframe\">\n",
              "  <thead>\n",
              "    <tr style=\"text-align: right;\">\n",
              "      <th>a1</th>\n",
              "      <th>a</th>\n",
              "      <th>b</th>\n",
              "      <th>All</th>\n",
              "    </tr>\n",
              "    <tr>\n",
              "      <th>a16</th>\n",
              "      <th></th>\n",
              "      <th></th>\n",
              "      <th></th>\n",
              "    </tr>\n",
              "  </thead>\n",
              "  <tbody>\n",
              "    <tr>\n",
              "      <th>0</th>\n",
              "      <td>114</td>\n",
              "      <td>269</td>\n",
              "      <td>383</td>\n",
              "    </tr>\n",
              "    <tr>\n",
              "      <th>1</th>\n",
              "      <td>100</td>\n",
              "      <td>207</td>\n",
              "      <td>307</td>\n",
              "    </tr>\n",
              "    <tr>\n",
              "      <th>All</th>\n",
              "      <td>214</td>\n",
              "      <td>476</td>\n",
              "      <td>690</td>\n",
              "    </tr>\n",
              "  </tbody>\n",
              "</table>\n",
              "</div>"
            ],
            "text/plain": [
              "a1     a    b  All\n",
              "a16               \n",
              "0    114  269  383\n",
              "1    100  207  307\n",
              "All  214  476  690"
            ]
          },
          "metadata": {
            "tags": []
          },
          "execution_count": 258
        }
      ]
    },
    {
      "cell_type": "code",
      "metadata": {
        "id": "Z4N-a_H3rfHP",
        "colab_type": "code",
        "colab": {}
      },
      "source": [
        "row_sums = a1ct.iloc[0:2, 2].values\n",
        "col_sums = a1ct.iloc[2, 0:2].values"
      ],
      "execution_count": 0,
      "outputs": []
    },
    {
      "cell_type": "code",
      "metadata": {
        "id": "kdZwLTeCrobj",
        "colab_type": "code",
        "colab": {
          "base_uri": "https://localhost:8080/",
          "height": 34
        },
        "outputId": "a5c6affb-99cf-420c-cc3f-1f174f2de0b5"
      },
      "source": [
        "total = a1ct.loc['All','All']\n",
        "total"
      ],
      "execution_count": 266,
      "outputs": [
        {
          "output_type": "execute_result",
          "data": {
            "text/plain": [
              "690"
            ]
          },
          "metadata": {
            "tags": []
          },
          "execution_count": 266
        }
      ]
    },
    {
      "cell_type": "code",
      "metadata": {
        "id": "-ozP6YecrXdO",
        "colab_type": "code",
        "colab": {
          "base_uri": "https://localhost:8080/",
          "height": 51
        },
        "outputId": "237c3eb7-f419-4a27-8859-88c809a3dc21"
      },
      "source": [
        "expected = []\n",
        "for i in range(len(row_sums)):\n",
        "  expected_row = []\n",
        "  for column in col_sums:\n",
        "    expected_val = column*row_sums[i]/total\n",
        "    expected_row.append(expected_val)\n",
        "  expected.append(expected_row)\n",
        "  \n",
        "print(np.array(expected))"
      ],
      "execution_count": 267,
      "outputs": [
        {
          "output_type": "stream",
          "text": [
            "[[118.78550725 264.21449275]\n",
            " [ 95.21449275 211.78550725]]\n"
          ],
          "name": "stdout"
        }
      ]
    },
    {
      "cell_type": "code",
      "metadata": {
        "id": "TqT6Di1WsBFQ",
        "colab_type": "code",
        "colab": {}
      },
      "source": [
        "# Seems like the results are on par, we will calculate the Chi square to confirm that there is no signifcant difference"
      ],
      "execution_count": 0,
      "outputs": []
    },
    {
      "cell_type": "code",
      "metadata": {
        "id": "rG2Ol7E1sOSL",
        "colab_type": "code",
        "colab": {
          "base_uri": "https://localhost:8080/",
          "height": 34
        },
        "outputId": "e8339e4f-544f-456a-f749-3eeba0a91b6a"
      },
      "source": [
        "chisquare(pd.crosstab(df_cat['a16'],df_cat['a1']),np.array(expected) )"
      ],
      "execution_count": 273,
      "outputs": [
        {
          "output_type": "execute_result",
          "data": {
            "text/plain": [
              "Power_divergenceResult(statistic=array([0.43331449, 0.19480946]), pvalue=array([0.51036704, 0.65894353]))"
            ]
          },
          "metadata": {
            "tags": []
          },
          "execution_count": 273
        }
      ]
    },
    {
      "cell_type": "code",
      "metadata": {
        "id": "WsLzd86ItvjU",
        "colab_type": "code",
        "colab": {
          "base_uri": "https://localhost:8080/",
          "height": 102
        },
        "outputId": "8268f336-45ae-4d0c-d551-3a29816bc8f8"
      },
      "source": [
        "stats.chi2_contingency(pd.crosstab(df_cat['a16'],df_cat['a1']))"
      ],
      "execution_count": 275,
      "outputs": [
        {
          "output_type": "execute_result",
          "data": {
            "text/plain": [
              "(0.5037254160868209,\n",
              " 0.47786776443128076,\n",
              " 1,\n",
              " array([[118.78550725, 264.21449275],\n",
              "        [ 95.21449275, 211.78550725]]))"
            ]
          },
          "metadata": {
            "tags": []
          },
          "execution_count": 275
        }
      ]
    },
    {
      "cell_type": "code",
      "metadata": {
        "id": "OYKAFbj_uSmB",
        "colab_type": "code",
        "colab": {}
      },
      "source": [
        "# As expected insignifcant"
      ],
      "execution_count": 0,
      "outputs": []
    },
    {
      "cell_type": "code",
      "metadata": {
        "id": "gvt_un9luUni",
        "colab_type": "code",
        "colab": {}
      },
      "source": [
        "# now we create a function to do the same on all categorical attributes"
      ],
      "execution_count": 0,
      "outputs": []
    },
    {
      "cell_type": "code",
      "metadata": {
        "id": "Bd39yLHOuOtw",
        "colab_type": "code",
        "colab": {}
      },
      "source": [
        "df_cat.head()"
      ],
      "execution_count": 0,
      "outputs": []
    },
    {
      "cell_type": "code",
      "metadata": {
        "id": "Oul-YI27t7kN",
        "colab_type": "code",
        "colab": {}
      },
      "source": [
        "def chi(x):\n",
        "  chis = []\n",
        "  for i in df_cat.columns[1:]:\n",
        "    contingency = pd.crosstab(x['a16'], x[i])\n",
        "    chi_squared, p_value, dof, expected = stats.chi2_contingency(contingency)\n",
        "    chis.append(chi_squared)\n",
        "  return pd.DataFrame(data=[chis], columns = df_cat.columns[1:])"
      ],
      "execution_count": 0,
      "outputs": []
    },
    {
      "cell_type": "code",
      "metadata": {
        "id": "ESqPkAHLufOG",
        "colab_type": "code",
        "colab": {}
      },
      "source": [
        "chis = chi(df_cat).rename(index={0:'chis'})"
      ],
      "execution_count": 0,
      "outputs": []
    },
    {
      "cell_type": "code",
      "metadata": {
        "id": "h17mV4xrvBFj",
        "colab_type": "code",
        "colab": {}
      },
      "source": [
        "# the chisqaured is important in a9, a10, a6, but we are not sure for a7, so we will calculate the pvalue\n",
        "def pvalue(x):\n",
        "  peas = []\n",
        "  for i in df_cat.columns[1:]:\n",
        "    contingency = pd.crosstab(x['a16'], x[i])\n",
        "    p_value = stats.chi2_contingency(contingency)[1]\n",
        "    peas.append(p_value)\n",
        "  return pd.DataFrame(data=[peas], columns = df_cat.columns[1:])"
      ],
      "execution_count": 0,
      "outputs": []
    },
    {
      "cell_type": "code",
      "metadata": {
        "id": "tHSqtGVoxWcp",
        "colab_type": "code",
        "colab": {}
      },
      "source": [
        "peas = pvalue(df_cat).rename(index={0:'peas'})"
      ],
      "execution_count": 0,
      "outputs": []
    },
    {
      "cell_type": "code",
      "metadata": {
        "id": "95Trfa5hxm7s",
        "colab_type": "code",
        "colab": {}
      },
      "source": [
        "peas_chis = chis.append(peas)\n"
      ],
      "execution_count": 0,
      "outputs": []
    },
    {
      "cell_type": "code",
      "metadata": {
        "id": "eKp6maDrxyNx",
        "colab_type": "code",
        "colab": {
          "base_uri": "https://localhost:8080/",
          "height": 111
        },
        "outputId": "51719541-449c-492c-b0d9-5a81497b0e4f"
      },
      "source": [
        "peas_chis"
      ],
      "execution_count": 327,
      "outputs": [
        {
          "output_type": "execute_result",
          "data": {
            "text/html": [
              "<div>\n",
              "<style scoped>\n",
              "    .dataframe tbody tr th:only-of-type {\n",
              "        vertical-align: middle;\n",
              "    }\n",
              "\n",
              "    .dataframe tbody tr th {\n",
              "        vertical-align: top;\n",
              "    }\n",
              "\n",
              "    .dataframe thead th {\n",
              "        text-align: right;\n",
              "    }\n",
              "</style>\n",
              "<table border=\"1\" class=\"dataframe\">\n",
              "  <thead>\n",
              "    <tr style=\"text-align: right;\">\n",
              "      <th></th>\n",
              "      <th>a1</th>\n",
              "      <th>a4</th>\n",
              "      <th>a5</th>\n",
              "      <th>a6</th>\n",
              "      <th>a7</th>\n",
              "      <th>a9</th>\n",
              "      <th>a10</th>\n",
              "      <th>a12</th>\n",
              "      <th>a13</th>\n",
              "    </tr>\n",
              "  </thead>\n",
              "  <tbody>\n",
              "    <tr>\n",
              "      <th>chis</th>\n",
              "      <td>0.503725</td>\n",
              "      <td>27.381959</td>\n",
              "      <td>27.381959</td>\n",
              "      <td>1.011572e+02</td>\n",
              "      <td>4.713465e+01</td>\n",
              "      <td>3.552038e+02</td>\n",
              "      <td>1.430696e+02</td>\n",
              "      <td>0.568273</td>\n",
              "      <td>9.191570</td>\n",
              "    </tr>\n",
              "    <tr>\n",
              "      <th>peas</th>\n",
              "      <td>0.477868</td>\n",
              "      <td>0.000001</td>\n",
              "      <td>0.000001</td>\n",
              "      <td>9.895987e-16</td>\n",
              "      <td>1.445357e-07</td>\n",
              "      <td>3.118590e-79</td>\n",
              "      <td>5.675727e-33</td>\n",
              "      <td>0.450946</td>\n",
              "      <td>0.010094</td>\n",
              "    </tr>\n",
              "  </tbody>\n",
              "</table>\n",
              "</div>"
            ],
            "text/plain": [
              "            a1         a4         a5            a6            a7            a9           a10       a12       a13\n",
              "chis  0.503725  27.381959  27.381959  1.011572e+02  4.713465e+01  3.552038e+02  1.430696e+02  0.568273  9.191570\n",
              "peas  0.477868   0.000001   0.000001  9.895987e-16  1.445357e-07  3.118590e-79  5.675727e-33  0.450946  0.010094"
            ]
          },
          "metadata": {
            "tags": []
          },
          "execution_count": 327
        }
      ]
    },
    {
      "cell_type": "code",
      "metadata": {
        "id": "APxlu0JQ245K",
        "colab_type": "code",
        "colab": {}
      },
      "source": [
        "# So just to answer, we reject the null H for the following results: a4,a5,a6,a7,a9,a10 and a13 depends on the Confidence interval. And accpet the null H for a1, 12, and a13 depending on the CI."
      ],
      "execution_count": 0,
      "outputs": []
    },
    {
      "cell_type": "code",
      "metadata": {
        "id": "6_td8fwAzmuT",
        "colab_type": "code",
        "colab": {
          "base_uri": "https://localhost:8080/",
          "height": 269
        },
        "outputId": "6e0e2efe-7c15-4f10-abc9-f8579c6b99a4"
      },
      "source": [
        "plt.figure()\n",
        "plt.subplot(1,2,1)\n",
        "plt.plot(peas_chis.loc['chis',:])\n",
        "plt.subplot(1,2,2)\n",
        "plt.plot(peas_chis.loc['peas',:])\n",
        "\n",
        "\n",
        "plt.show()"
      ],
      "execution_count": 338,
      "outputs": [
        {
          "output_type": "display_data",
          "data": {
            "image/png": "[encoded data removed]",
            "text/plain": [
              "<Figure size 432x288 with 2 Axes>"
            ]
          },
          "metadata": {
            "tags": []
          }
        }
      ]
    },
    {
      "cell_type": "code",
      "metadata": {
        "id": "9W-U9nki10LN",
        "colab_type": "code",
        "colab": {}
      },
      "source": [
        "# We see a negative correlation "
      ],
      "execution_count": 0,
      "outputs": []
    },
    {
      "cell_type": "code",
      "metadata": {
        "id": "BAhKnavr1osK",
        "colab_type": "code",
        "colab": {
          "base_uri": "https://localhost:8080/",
          "height": 34
        },
        "outputId": "7c898b90-2de3-4a2d-b2de-c6c32af8284e"
      },
      "source": [
        "peas_chis.loc['chis',:].corr(peas_chis.loc['peas',:])"
      ],
      "execution_count": 339,
      "outputs": [
        {
          "output_type": "execute_result",
          "data": {
            "text/plain": [
              "-0.3944429117047019"
            ]
          },
          "metadata": {
            "tags": []
          },
          "execution_count": 339
        }
      ]
    },
    {
      "cell_type": "code",
      "metadata": {
        "id": "ndtb5Ixmvbaw",
        "colab_type": "code",
        "colab": {}
      },
      "source": [
        "# pvalue less than 0.05 which means this is important."
      ],
      "execution_count": 0,
      "outputs": []
    },
    {
      "cell_type": "code",
      "metadata": {
        "id": "_nqcgc0yzm68",
        "colab_type": "code",
        "colab": {}
      },
      "source": [
        "# TODO"
      ],
      "execution_count": 0,
      "outputs": []
    },
    {
      "cell_type": "markdown",
      "metadata": {
        "id": "ZM8JckA2bgnp",
        "colab_type": "text"
      },
      "source": [
        "## Part 3 - Analysis and Interpretation\n",
        "\n",
        "Now that you've looked at the data, answer the following questions:\n",
        "\n",
        "- Interpret and explain the two t-tests you ran - what do they tell you about the relationships between the continuous features you selected and the class labels?\n",
        "- Interpret and explain the two Chi-squared tests you ran - what do they tell you about the relationships between the categorical features you selected and the class labels?\n",
        "- What was the most challenging part of this sprint challenge?\n",
        "\n",
        "Answer with text, but feel free to intersperse example code/results or refer to it from earlier."
      ]
    },
    {
      "cell_type": "markdown",
      "metadata": {
        "id": "LIozLDNG2Uhu",
        "colab_type": "text"
      },
      "source": [
        "* **bold text**Your words here!*\n",
        "**1**\n",
        "From the tests i ran, I see that all the attributes have a pvalue that is less than 0.01 and 0.05, which mean that we reject the null hypothesis.\n",
        "Or Ho is that these attributes' there is no relationship between the attributes and the outcome. and a pvalue is the probability that such event (mean of Positives for example) is possible given that there is no relationship between these attributes and the outcome. So when the pvalue is less than the confidence interval, what we are really saying that the probability that this event occured under these circumstance is negligable therefore we reject the nukk hyopthesis that there is no relaitonship.\n",
        "I found that the attributes played a role, and their mean was more skwed toward a postive outocme rather than a negative outcome.\n",
        "**2**\n",
        "For the Chisquared what we did is count the occurance of each category in a single attribute relative to its class (+ or -), and then count the total of those. From the total ratios we calculate the expected value for each category, and then we calculate how far or close is the real data to that expected result, the farthest it is the bigger the chi square, the bigger the chi square the lower the probability (pvalue) that this event would occur. And thus this proves that indeed there is a relaitonship between this category and that outcome. When in doubt of what a certain Chisqaure indicate, we can refer to statistics, such as pvalue and ttest\n",
        "**3**\n",
        "Technical pythonic things, like manipulating the crosstable and stuff like that, i feel these always take the most time from me and not the questions themselves, I see some people are comfortbale with those, i need a lot of training maybe,  for example i keep forgetting how i've done something several time this past week, so theory okay, python writing and mainpulation was difficult."
      ]
    },
    {
      "cell_type": "code",
      "metadata": {
        "id": "tt1GPub6wJoC",
        "colab_type": "code",
        "colab": {}
      },
      "source": [
        ""
      ],
      "execution_count": 0,
      "outputs": []
    }
  ]
}