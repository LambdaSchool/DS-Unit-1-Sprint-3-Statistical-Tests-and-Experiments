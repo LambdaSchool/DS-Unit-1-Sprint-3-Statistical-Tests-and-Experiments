{
  "nbformat": 4,
  "nbformat_minor": 0,
  "metadata": {
    "colab": {
      "name": "Luc Guittard - LS_DS_133_Introduction_to_Bayesian_Inference_Assignment.ipynb",
      "version": "0.3.2",
      "provenance": [],
      "collapsed_sections": [
        "fIsmM5dKBcca",
        "GzJxZcjDBOMD",
        "1KUaa7QNA6JQ",
        "h63a5KaHBpiN",
        "V4z7_-q6kLji",
        "uWgWjp3PQ3Sq"
      ],
      "include_colab_link": true
    },
    "kernelspec": {
      "name": "python3",
      "display_name": "Python 3"
    }
  },
  "cells": [
    {
      "cell_type": "markdown",
      "metadata": {
        "id": "view-in-github",
        "colab_type": "text"
      },
      "source": [
        "<a href=\"https://colab.research.google.com/github/lucguittard/DS-Unit-1-Sprint-3-Statistical-Tests-and-Experiments/blob/master/Luc_Guittard_LS_DS_133_Introduction_to_Bayesian_Inference_Assignment.ipynb\" target=\"_parent\"><img src=\"https://colab.research.google.com/assets/colab-badge.svg\" alt=\"Open In Colab\"/></a>"
      ]
    },
    {
      "cell_type": "markdown",
      "metadata": {
        "id": "H7OLbevlbd_Z",
        "colab_type": "text"
      },
      "source": [
        "# Lambda School Data Science Module 133\n",
        "\n",
        "## Introduction to Bayesian Inference\n",
        "\n",
        "\n"
      ]
    },
    {
      "cell_type": "markdown",
      "metadata": {
        "id": "P-DzzRk5bf0z",
        "colab_type": "text"
      },
      "source": [
        "## Assignment - Code it up!\n",
        "\n",
        "Most of the above was pure math - now write Python code to reproduce the results! This is purposefully open ended - you'll have to think about how you should represent probabilities and events. You can and should look things up, and as a stretch goal - refactor your code into helpful reusable functions!\n",
        "\n",
        "Specific goals/targets:\n",
        "\n",
        "1. Write a function `def prob_drunk_given_positive(prob_drunk_prior, prob_positive, prob_positive_drunk)` that reproduces the example from lecture, and use it to calculate and visualize a range of situations\n",
        "2. Explore `scipy.stats.bayes_mvs` - read its documentation, and experiment with it on data you've tested in other ways earlier this week\n",
        "3. Create a visualization comparing the results of a Bayesian approach to a traditional/frequentist approach\n",
        "4. In your own words, summarize the difference between Bayesian and Frequentist statistics\n",
        "\n",
        "If you're unsure where to start, check out [this blog post of Bayes theorem with Python](https://dataconomy.com/2015/02/introduction-to-bayes-theorem-with-python/) - you could and should create something similar!\n",
        "\n",
        "Stretch goals:\n",
        "\n",
        "- Apply a Bayesian technique to a problem you previously worked (in an assignment or project work) on from a frequentist (standard) perspective\n",
        "- Check out [PyMC3](https://docs.pymc.io/) (note this goes beyond hypothesis tests into modeling) - read the guides and work through some examples\n",
        "- Take PyMC3 further - see if you can build something with it!"
      ]
    },
    {
      "cell_type": "markdown",
      "metadata": {
        "id": "fIsmM5dKBcca",
        "colab_type": "text"
      },
      "source": [
        "## **Bayesian Iterable Fxn**"
      ]
    },
    {
      "cell_type": "code",
      "metadata": {
        "id": "xpVhZyUnbf7o",
        "colab_type": "code",
        "colab": {
          "base_uri": "https://localhost:8080/",
          "height": 102
        },
        "outputId": "d4052471-41b1-49e2-a64f-dd7620dbed63"
      },
      "source": [
        "# TODO - code!\n",
        "\n",
        "# The Beyesian Iterable Function\n",
        "def beyesian_iterable(p_prior, p_true_positive, p_false_positive, iterations):\n",
        "  probabilities = []\n",
        "  for _ in range(iterations):\n",
        "    p_posterior = (p_true_positive * p_prior)/((p_true_positive * p_prior)+(p_false_positive * (1-p_prior)))  #Beyesian iterable formula\n",
        "    probabilities.append(p_posterior)\n",
        "    p_prior = p_posterior         #too easy\n",
        "    \n",
        "  return probabilities\n",
        "\n",
        "beyesian_iterable(.001, 1,.08,5)  #very nice "
      ],
      "execution_count": 90,
      "outputs": [
        {
          "output_type": "execute_result",
          "data": {
            "text/plain": [
              "[0.012357884330202669,\n",
              " 0.13525210993291495,\n",
              " 0.6615996951348605,\n",
              " 0.9606895076105054,\n",
              " 0.9967371577896734]"
            ]
          },
          "metadata": {
            "tags": []
          },
          "execution_count": 90
        }
      ]
    },
    {
      "cell_type": "markdown",
      "metadata": {
        "id": "GzJxZcjDBOMD",
        "colab_type": "text"
      },
      "source": [
        "## **Import of data**"
      ]
    },
    {
      "cell_type": "code",
      "metadata": {
        "id": "IvNplVjYcL4b",
        "colab_type": "code",
        "colab": {
          "resources": {
            "http://localhost:8080/nbextensions/google.colab/files.js": {
              "data": "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",
              "ok": true,
              "headers": [
                [
                  "content-type",
                  "application/javascript"
                ]
              ],
              "status": 200,
              "status_text": ""
            }
          },
          "base_uri": "https://localhost:8080/",
          "height": 112
        },
        "outputId": "435c20e4-3146-4909-919e-8683922d7c5d"
      },
      "source": [
        "from google.colab import files\n",
        "files.upload() \n",
        "\n"
      ],
      "execution_count": 92,
      "outputs": [
        {
          "output_type": "display_data",
          "data": {
            "text/html": [
              "\n",
              "     <input type=\"file\" id=\"files-8a368589-edc4-4381-91a6-6e0e84e1f526\" name=\"files[]\" multiple disabled />\n",
              "     <output id=\"result-8a368589-edc4-4381-91a6-6e0e84e1f526\">\n",
              "      Upload widget is only available when the cell has been executed in the\n",
              "      current browser session. Please rerun this cell to enable.\n",
              "      </output>\n",
              "      <script src=\"/nbextensions/google.colab/files.js\"></script> "
            ],
            "text/plain": [
              "<IPython.core.display.HTML object>"
            ]
          },
          "metadata": {
            "tags": []
          }
        },
        {
          "output_type": "stream",
          "text": [
            "Saving LobbyingData4 - z.csv to LobbyingData4 - z (3).csv\n"
          ],
          "name": "stdout"
        },
        {
          "output_type": "execute_result",
          "data": {
            "text/plain": [
              "{'LobbyingData4 - z.csv': b'Year,tS,tH,tT,bH,bS,bT,mH,mS,mT,miH,miS,miT,pmH,pmS,pmT\\r\\n2018,1015,658,1673,73,165,238,641,816,1457,1967,3259,5226,0.32587697,0.2503835532,0.2787983161\\r\\n2017,1167,859,2026,33,67,100,438,668,1106,2713,5619,8332,0.161444895,0.1188823634,0.1327412386\\r\\n2016,781,633,1414,73,141,214,485,659,1144,1466,2714,4180,0.3308321965,0.2428150332,0.2736842105\\r\\n2015,1074,805,1879,37,78,115,441,525,966,2823,5060,7883,0.1562167906,0.1037549407,0.1225421794\\r\\n2014,908,705,1613,61,163,224,501,565,1066,1432,2505,3937,0.3498603352,0.2255489022,0.2707645415\\r\\n2013,1095,768,1863,16,56,72,356,366,722,2280,4434,6714,0.1561403509,0.08254397835,0.1075364909\\r\\n2012,930,726,1656,54,139,193,479,479,958,2014,3381,5395,0.2378351539,0.1416740609,0.1775718258\\r\\n2011,1102,993,2095,24,66,90,402,384,786,2447,4456,6903,0.1642827953,0.08617594255,0.1138635376\\r\\n2010,1075,879,1954,80,178,258,569,922,1491,1506,3098,4604,0.3778220452,0.2976113622,0.3238488271\\r\\n2009,1421,1247,2668,38,87,125,478,970,1448,3380,5699,9079,0.1414201183,0.1702052992,0.1594889305\\r\\n2008,988,890,1878,97,183,280,589,999,1588,1590,3225,4815,0.3704402516,0.3097674419,0.3298026999\\r\\n2007,1376,1248,2624,45,135,180,621,1127,1748,3033,6194,9227,0.2047477745,0.1819502745,0.189444023\\r\\n2006,1028,850,1878,100,213,313,635,710,1345,2302,2451,4753,0.2758470895,0.2896776826,0.282979171\\r\\n2005,1222,1067,2289,50,119,169,624,715,1339,2618,5703,8321,0.2383498854,0.1253726109,0.1609181589\\r\\n2004,1032,879,1911,84,216,300,663,747,1410,1318,2338,3656,0.5030349014,0.3195038494,0.3856673961\\r\\n2003,1454,1015,2469,62,136,198,590,674,1264,2398,4616,7014,0.2460383653,0.1460138648,0.1802110066\\r\\n2002,1043,772,1815,42,199,241,523,623,1146,1558,2711,4269,0.3356867779,0.2298045002,0.2684469431\\r\\n2001,1236,922,2158,27,109,136,425,592,1017,2212,4318,6530,0.1921338156,0.1371005095,0.1557427259\\r\\n2000,1018,1054,2072,131,279,410,696,877,1573,1546,2701,4247,0.4501940492,0.3246945576,0.3703790911\\r\\n1999,1184,1125,2309,48,122,170,549,657,1206,2352,4241,6593,0.2334183673,0.1549162933,0.1829212801\\r\\n1998,1095,998,2093,91,150,241,506,642,1148,1321,2254,3575,0.3830431491,0.2848269743,0.3211188811\\r\\n1997,1093,1004,2097,49,104,153,385,544,929,1840,3728,5568,0.2092391304,0.1459227468,0.1668462644\\r\\n1996,1037,919,1956,53,192,245,476,529,1005,860,1899,2759,0.5534883721,0.2785676672,0.3642624139\\r\\n1995,1839,1525,3364,28,60,88,346,483,829,1801,3430,5231,0.1921154914,0.1408163265,0.1584783024\\r\\n1994,1244,905,2149,87,168,255,465,579,1044,999,2104,3103,0.4654654655,0.2751901141,0.3364485981\\r\\n1993,1270,982,2252,83,127,210,473,547,1020,2178,4543,6721,0.2171717172,0.1204050187,0.1517631305\\r\\n1992,1091,857,1948,113,234,347,651,746,1397,1544,2714,4258,0.4216321244,0.2748710391,0.3280883044\\r\\n1991,1201,939,2140,81,162,243,626,592,1218,2701,5057,7758,0.2317660126,0.1170654538,0.1569992266\\r\\n1990,1250,939,2189,179,231,410,716,772,1488,1636,2769,4405,0.4376528117,0.2788010112,0.3377979569\\r\\n1989,1003,749,1752,90,150,240,605,598,1203,2548,4842,7390,0.2374411303,0.1235026848,0.1627875507\\r\\n1988,1127,749,1876,10,31,41,814,858,1672,1328,2414,3742,0.6129518072,0.3554266777,0.4468198824\\r\\n1987,1215,910,2125,96,144,240,616,644,1260,2685,4857,7542,0.2294227188,0.1325921351,0.1670644391\\r\\n1986,1278,829,2107,187,237,424,747,772,1519,1429,2396,3825,0.522743177,0.3222036728,0.397124183\\r\\n1985,1253,965,2218,110,130,240,583,596,1179,2651,5126,7777,0.2199170124,0.1162699961,0.1516008744\\r\\n1984,940,853,1793,166,242,408,726,737,1463,1302,2462,3764,0.5576036866,0.2993501219,0.3886822529\\r\\n1983,1011,852,1863,101,114,215,596,611,1207,2795,5642,8437,0.2132379249,0.1082949309,0.1430603295\\r\\n1982,1080,767,1847,131,197,328,721,625,1346,1586,2934,4520,0.4546027743,0.2130197682,0.2977876106\\r\\n1981,1080,626,1706,70,75,145,488,433,921,2479,6241,8720,0.19685357,0.06937990707,0.1056192661\\r\\n1980,1165,901,2066,161,265,426,831,812,1643,1482,2841,4323,0.5607287449,0.2858148539,0.3800601434\\r\\n1979,1159,975,2134,60,127,187,651,666,1317,2712,7459,10171,0.2400442478,0.08928810833,0.1294857929\\r\\n1978,1366,1016,2382,159,252,411,891,881,1772,1617,5310,6927,0.5510204082,0.165913371,0.2558105962\\r\\n1977,1144,882,2026,70,153,223,705,734,1439,2896,12490,15386,0.2434392265,0.05876701361,0.09352658261\\r\\n1976,1033,846,1879,141,242,383,870,870,1740,1489,5780,7269,0.5842847549,0.1505190311,0.2393726785\\r\\n1975,1177,942,2119,67,138,205,682,754,1436,3424,13591,17015,0.199182243,0.05547788978,0.08439612107\\r\\n1974,1068,813,1881,168,236,404,838,807,1645,1793,6901,8694,0.4673731177,0.116939574,0.1892109501'}"
            ]
          },
          "metadata": {
            "tags": []
          },
          "execution_count": 92
        }
      ]
    },
    {
      "cell_type": "code",
      "metadata": {
        "id": "ZhDV2hyedvhD",
        "colab_type": "code",
        "colab": {
          "base_uri": "https://localhost:8080/",
          "height": 204
        },
        "outputId": "28666c60-be5f-4dbc-a584-9015ac110068"
      },
      "source": [
        "import pandas as pd\n",
        "\n",
        "congress_data = pd.read_csv('LobbyingData4 - z.csv')\n",
        "congress_data.head()"
      ],
      "execution_count": 93,
      "outputs": [
        {
          "output_type": "execute_result",
          "data": {
            "text/html": [
              "<div>\n",
              "<style scoped>\n",
              "    .dataframe tbody tr th:only-of-type {\n",
              "        vertical-align: middle;\n",
              "    }\n",
              "\n",
              "    .dataframe tbody tr th {\n",
              "        vertical-align: top;\n",
              "    }\n",
              "\n",
              "    .dataframe thead th {\n",
              "        text-align: right;\n",
              "    }\n",
              "</style>\n",
              "<table border=\"1\" class=\"dataframe\">\n",
              "  <thead>\n",
              "    <tr style=\"text-align: right;\">\n",
              "      <th></th>\n",
              "      <th>Year</th>\n",
              "      <th>tS</th>\n",
              "      <th>tH</th>\n",
              "      <th>tT</th>\n",
              "      <th>bH</th>\n",
              "      <th>bS</th>\n",
              "      <th>bT</th>\n",
              "      <th>mH</th>\n",
              "      <th>mS</th>\n",
              "      <th>mT</th>\n",
              "      <th>miH</th>\n",
              "      <th>miS</th>\n",
              "      <th>miT</th>\n",
              "      <th>pmH</th>\n",
              "      <th>pmS</th>\n",
              "      <th>pmT</th>\n",
              "    </tr>\n",
              "  </thead>\n",
              "  <tbody>\n",
              "    <tr>\n",
              "      <th>0</th>\n",
              "      <td>2018</td>\n",
              "      <td>1015</td>\n",
              "      <td>658</td>\n",
              "      <td>1673</td>\n",
              "      <td>73</td>\n",
              "      <td>165</td>\n",
              "      <td>238</td>\n",
              "      <td>641</td>\n",
              "      <td>816</td>\n",
              "      <td>1457</td>\n",
              "      <td>1967</td>\n",
              "      <td>3259</td>\n",
              "      <td>5226</td>\n",
              "      <td>0.325877</td>\n",
              "      <td>0.250384</td>\n",
              "      <td>0.278798</td>\n",
              "    </tr>\n",
              "    <tr>\n",
              "      <th>1</th>\n",
              "      <td>2017</td>\n",
              "      <td>1167</td>\n",
              "      <td>859</td>\n",
              "      <td>2026</td>\n",
              "      <td>33</td>\n",
              "      <td>67</td>\n",
              "      <td>100</td>\n",
              "      <td>438</td>\n",
              "      <td>668</td>\n",
              "      <td>1106</td>\n",
              "      <td>2713</td>\n",
              "      <td>5619</td>\n",
              "      <td>8332</td>\n",
              "      <td>0.161445</td>\n",
              "      <td>0.118882</td>\n",
              "      <td>0.132741</td>\n",
              "    </tr>\n",
              "    <tr>\n",
              "      <th>2</th>\n",
              "      <td>2016</td>\n",
              "      <td>781</td>\n",
              "      <td>633</td>\n",
              "      <td>1414</td>\n",
              "      <td>73</td>\n",
              "      <td>141</td>\n",
              "      <td>214</td>\n",
              "      <td>485</td>\n",
              "      <td>659</td>\n",
              "      <td>1144</td>\n",
              "      <td>1466</td>\n",
              "      <td>2714</td>\n",
              "      <td>4180</td>\n",
              "      <td>0.330832</td>\n",
              "      <td>0.242815</td>\n",
              "      <td>0.273684</td>\n",
              "    </tr>\n",
              "    <tr>\n",
              "      <th>3</th>\n",
              "      <td>2015</td>\n",
              "      <td>1074</td>\n",
              "      <td>805</td>\n",
              "      <td>1879</td>\n",
              "      <td>37</td>\n",
              "      <td>78</td>\n",
              "      <td>115</td>\n",
              "      <td>441</td>\n",
              "      <td>525</td>\n",
              "      <td>966</td>\n",
              "      <td>2823</td>\n",
              "      <td>5060</td>\n",
              "      <td>7883</td>\n",
              "      <td>0.156217</td>\n",
              "      <td>0.103755</td>\n",
              "      <td>0.122542</td>\n",
              "    </tr>\n",
              "    <tr>\n",
              "      <th>4</th>\n",
              "      <td>2014</td>\n",
              "      <td>908</td>\n",
              "      <td>705</td>\n",
              "      <td>1613</td>\n",
              "      <td>61</td>\n",
              "      <td>163</td>\n",
              "      <td>224</td>\n",
              "      <td>501</td>\n",
              "      <td>565</td>\n",
              "      <td>1066</td>\n",
              "      <td>1432</td>\n",
              "      <td>2505</td>\n",
              "      <td>3937</td>\n",
              "      <td>0.349860</td>\n",
              "      <td>0.225549</td>\n",
              "      <td>0.270765</td>\n",
              "    </tr>\n",
              "  </tbody>\n",
              "</table>\n",
              "</div>"
            ],
            "text/plain": [
              "   Year    tS   tH    tT  bH  ...   miS   miT       pmH       pmS       pmT\n",
              "0  2018  1015  658  1673  73  ...  3259  5226  0.325877  0.250384  0.278798\n",
              "1  2017  1167  859  2026  33  ...  5619  8332  0.161445  0.118882  0.132741\n",
              "2  2016   781  633  1414  73  ...  2714  4180  0.330832  0.242815  0.273684\n",
              "3  2015  1074  805  1879  37  ...  5060  7883  0.156217  0.103755  0.122542\n",
              "4  2014   908  705  1613  61  ...  2505  3937  0.349860  0.225549  0.270765\n",
              "\n",
              "[5 rows x 16 columns]"
            ]
          },
          "metadata": {
            "tags": []
          },
          "execution_count": 93
        }
      ]
    },
    {
      "cell_type": "code",
      "metadata": {
        "id": "KAkbPCZE6rQd",
        "colab_type": "code",
        "colab": {
          "base_uri": "https://localhost:8080/",
          "height": 153
        },
        "outputId": "4f89304d-2d3d-4d40-e87d-7a72075846cf"
      },
      "source": [
        "pmT_array = congress_data['pmT'].values\n",
        "print(pmT_array)"
      ],
      "execution_count": 94,
      "outputs": [
        {
          "output_type": "stream",
          "text": [
            "[0.27879832 0.13274124 0.27368421 0.12254218 0.27076454 0.10753649\n",
            " 0.17757183 0.11386354 0.32384883 0.15948893 0.3298027  0.18944402\n",
            " 0.28297917 0.16091816 0.3856674  0.18021101 0.26844694 0.15574273\n",
            " 0.37037909 0.18292128 0.32111888 0.16684626 0.36426241 0.1584783\n",
            " 0.3364486  0.15176313 0.3280883  0.15699923 0.33779796 0.16278755\n",
            " 0.44681988 0.16706444 0.39712418 0.15160087 0.38868225 0.14306033\n",
            " 0.29778761 0.10561927 0.38006014 0.12948579 0.2558106  0.09352658\n",
            " 0.23937268 0.08439612 0.18921095]\n"
          ],
          "name": "stdout"
        }
      ]
    },
    {
      "cell_type": "markdown",
      "metadata": {
        "id": "1KUaa7QNA6JQ",
        "colab_type": "text"
      },
      "source": [
        "## **CI calculations**"
      ]
    },
    {
      "cell_type": "code",
      "metadata": {
        "id": "EP6DTBYR6Rst",
        "colab_type": "code",
        "colab": {
          "base_uri": "https://localhost:8080/",
          "height": 34
        },
        "outputId": "44331edd-9c9b-43d7-fdb3-2a2e6ba2b50d"
      },
      "source": [
        "#testing\n",
        "import numpy as np\n",
        "def confidence_interval(data, confidence=.95):\n",
        "  n = len(data)\n",
        "  mean = sum(data)/n\n",
        "  data = np.array(data)\n",
        "  stderr = stats.sem(data)\n",
        "  interval = stderr * stats.t.ppf((1 - confidence) / 2.0, n-1) # division by 2 is done to get the area under one 'tail' of dist. curve\n",
        "                                                               # (1+confidence)/2 = alpha lvl.  \n",
        "  return (mean , mean+interval, mean-interval)\n",
        "\n",
        "print(confidence_interval(pmT_array)) # output mean and margin-error "
      ],
      "execution_count": 95,
      "outputs": [
        {
          "output_type": "stream",
          "text": [
            "(0.23159033167733337, 0.20143255897385265, 0.2617481043808141)\n"
          ],
          "name": "stdout"
        }
      ]
    },
    {
      "cell_type": "code",
      "metadata": {
        "id": "ONJeDR5YrRF-",
        "colab_type": "code",
        "colab": {
          "base_uri": "https://localhost:8080/",
          "height": 34
        },
        "outputId": "e49e613e-2afb-47f7-8df5-5fb3597fc972"
      },
      "source": [
        "# Exploration of the great scipy.stats.bayes_mvs; \n",
        "# Need data that can be used with the Beyes approach..\n",
        "# I'll be applying it to project data that I also used in running t-tests earlier this module\n",
        "\n",
        "# need to satisfy the variable requirements: \n",
        "#  p_prior - the original expected prob of the outcome in question;\n",
        "#  p_true_positive - probability of a true positive outcome;\n",
        "#  p_false_positive - probability of a false positive outcome\n",
        "\n",
        "# nevermind, see here: https://docs.scipy.org/doc/scipy/reference/generated/scipy.stats.bayes_mvs.html \n",
        "\n",
        "from scipy import stats\n",
        "\n",
        "#scipy.stats.bayes_mvs(congress_data['pmT'], alpha=0.95)\n",
        "mean_confidence_interval, _, _ = stats.bayes_mvs(pmT_array, alpha=.95)\n",
        "print(mean_confidence_interval) #matches test of function above, but so much easy - just need the data.values and an alpha "
      ],
      "execution_count": 96,
      "outputs": [
        {
          "output_type": "stream",
          "text": [
            "Mean(statistic=0.23159033167733334, minmax=(0.20143255897385265, 0.26174810438081403))\n"
          ],
          "name": "stdout"
        }
      ]
    },
    {
      "cell_type": "markdown",
      "metadata": {
        "id": "h63a5KaHBpiN",
        "colab_type": "text"
      },
      "source": [
        "## **Making Visualizations**"
      ]
    },
    {
      "cell_type": "code",
      "metadata": {
        "id": "_h6Qt4r_wj4G",
        "colab_type": "code",
        "colab": {
          "base_uri": "https://localhost:8080/",
          "height": 68
        },
        "outputId": "126d644d-18c1-4d2c-c3da-19689320e1ef"
      },
      "source": [
        "# playing with Bayesian tools\n",
        "mean, variance, std = stats.bayes_mvs(pmT_array)\n",
        "print(mean)\n",
        "print(variance)\n",
        "print(std)           #some nice practice, but only applicaple to Bayesian approach? - can .bayes_mvs \n",
        "                      # not be used more generaly to solve for for such measures? Where does a prior statistic \n",
        "                      # come into play here?"
      ],
      "execution_count": 97,
      "outputs": [
        {
          "output_type": "stream",
          "text": [
            "Mean(statistic=0.23159033167733334, minmax=(0.20644752674035147, 0.2567331366143152))\n",
            "Variance(statistic=0.010556158327606112, minmax=(0.007330558045902398, 0.014884061800732653))\n",
            "Std_dev(statistic=0.10213347428048938, minmax=(0.08561867813685514, 0.12200025328142827))\n"
          ],
          "name": "stdout"
        }
      ]
    },
    {
      "cell_type": "code",
      "metadata": {
        "id": "-U9oJ1vdEWFi",
        "colab_type": "code",
        "colab": {
          "base_uri": "https://localhost:8080/",
          "height": 51
        },
        "outputId": "2ebbafca-3327-45cf-fd42-c067d9983530"
      },
      "source": [
        "#testing the data.. (for normally distributed eg. see https://docs.scipy.org/doc/scipy/reference/generated/scipy.stats.bayes_mvs.html)\n",
        "\n",
        "  #alternatively, take a sample from selected dataset\n",
        "\n",
        "res_mean, res_var, res_std = stats.bayes_mvs(pmT_array, alpha=0.95)\n",
        "print(res_mean)  # res = residual, found deeper in statistics\n",
        "#print(res_var)   # res_var -> an estimate of the variation around a regression line\n",
        "#print(res_std)   # the standard deviation of residual values, ie. diff. b/w observed and expected/predicted values\n",
        "\n",
        "mean_confidence_interval, _, _ = stats.bayes_mvs(pmT_array, alpha=.95)\n",
        "\n",
        "print(mean_confidence_interval) #matches res_mean\n",
        " "
      ],
      "execution_count": 104,
      "outputs": [
        {
          "output_type": "stream",
          "text": [
            "Mean(statistic=0.23159033167733334, minmax=(0.20143255897385265, 0.26174810438081403))\n",
            "Mean(statistic=0.23159033167733334, minmax=(0.20143255897385265, 0.26174810438081403))\n"
          ],
          "name": "stdout"
        }
      ]
    },
    {
      "cell_type": "code",
      "metadata": {
        "id": "c2YeVac8HjYh",
        "colab_type": "code",
        "colab": {
          "base_uri": "https://localhost:8080/",
          "height": 357
        },
        "outputId": "d3258ee0-b2cb-43e1-a07f-64bbe99896d0"
      },
      "source": [
        "# making a hist showing mean CI based on 95% confidence level (Bayesian method)\n",
        "\n",
        "print(mean_confidence_interval)\n",
        "\n",
        "import matplotlib.pyplot as plt \n",
        "#(code sourced from: https://docs.scipy.org/doc/scipy/reference/generated/scipy.stats.bayes_mvs.html)\n",
        "fig, ax = plt.subplots(figsize=(7,5))\n",
        "ax.hist(pmT_array, bins=12, density=True)\n",
        "ax.vlines(res_mean.statistic, 0, 0.5, colors='r') #vline here is estimated mean \n",
        "ax.axvspan(res_mean.minmax[0],res_mean.minmax[1], facecolor='r', alpha=0.2) # red span is estimated mean with 95% CI\n",
        "\n",
        "#result demonstrates how CI is based on the mean, but doesn't show how prior data filters expectations - little blue is highlighted"
      ],
      "execution_count": 113,
      "outputs": [
        {
          "output_type": "stream",
          "text": [
            "Mean(statistic=0.23159033167733334, minmax=(0.20143255897385265, 0.26174810438081403))\n"
          ],
          "name": "stdout"
        },
        {
          "output_type": "execute_result",
          "data": {
            "text/plain": [
              "<matplotlib.patches.Polygon at 0x7f567159fef0>"
            ]
          },
          "metadata": {
            "tags": []
          },
          "execution_count": 113
        },
        {
          "output_type": "display_data",
          "data": {
            "image/png": "[encoded data removed]",
            "text/plain": [
              "<Figure size 504x360 with 1 Axes>"
            ]
          },
          "metadata": {
            "tags": []
          }
        }
      ]
    },
    {
      "cell_type": "code",
      "metadata": {
        "id": "UrZZcCjdQSYa",
        "colab_type": "code",
        "colab": {
          "base_uri": "https://localhost:8080/",
          "height": 374
        },
        "outputId": "7a650685-36b0-48a7-ea46-a8fba145ed82"
      },
      "source": [
        "# using Frequentist approach (refer to Ryan Alred's Suplemental Materials, Sprint3)\n",
        "\n",
        "#Calculating CI\n",
        "from scipy.stats import t\n",
        "\n",
        "n, dof = len(pmT_array), len(pmT_array) - 1\n",
        "mean = np.mean(pmT_array)\n",
        "std = np.std(pmT_array, ddof = dof)\n",
        "std_err = std/n**.5\n",
        "\n",
        "CI = t.interval(.95, dof, loc=mean, scale=std_err)\n",
        "print(mean)\n",
        "print(\"95% Confidence Interval: \", CI)\n",
        "\n",
        "#Plotting \n",
        "import matplotlib.pyplot as plt \n",
        "fig, ax = plt.subplots(figsize=(7,5))\n",
        "ax.hist(pmT_array, bins=12, density=True)\n",
        "ax.vlines(.232, 0, 0.5, colors='r') #vline here is estimated mean \n",
        "ax.axvspan(.032,.432, facecolor='r', alpha=0.2) # red span is estimated mean with 95% CI\n",
        "\n",
        "#Interpreting\n",
        "  # Larger CI for the frequentist approach\n",
        "  # Would have perhaps been better to use categorical data \n"
      ],
      "execution_count": 115,
      "outputs": [
        {
          "output_type": "stream",
          "text": [
            "0.23159033167733334\n",
            "95% Confidence Interval:  (0.031546298536798356, 0.4316343648178683)\n"
          ],
          "name": "stdout"
        },
        {
          "output_type": "execute_result",
          "data": {
            "text/plain": [
              "<matplotlib.patches.Polygon at 0x7f56713d30f0>"
            ]
          },
          "metadata": {
            "tags": []
          },
          "execution_count": 115
        },
        {
          "output_type": "display_data",
          "data": {
            "image/png": "[encoded data removed]",
            "text/plain": [
              "<Figure size 504x360 with 1 Axes>"
            ]
          },
          "metadata": {
            "tags": []
          }
        }
      ]
    },
    {
      "cell_type": "markdown",
      "metadata": {
        "id": "V4z7_-q6kLji",
        "colab_type": "text"
      },
      "source": [
        "## **A Final Word**"
      ]
    },
    {
      "cell_type": "markdown",
      "metadata": {
        "id": "H5kRA_PNkWwO",
        "colab_type": "text"
      },
      "source": [
        "It has been lots of fun getting to learn about Bayesian statistics. Still not sure I understand the Let's Make a Deal conundrum, but I do appreciate the depth Bayes' theorem adds to statistics; it adds nuance to probability calculations where true and false positives are considered. Iterating through the theorem, for a common sample, one will see that the weight of true and false positives change in a manner that reflects their actual probabilities. \n",
        "Bayesian differs from Frequentist stats in its observance of prior probabilities.  "
      ]
    },
    {
      "cell_type": "code",
      "metadata": {
        "id": "Z_IFkIunkQJ4",
        "colab_type": "code",
        "colab": {}
      },
      "source": [
        ""
      ],
      "execution_count": 0,
      "outputs": []
    },
    {
      "cell_type": "markdown",
      "metadata": {
        "id": "uWgWjp3PQ3Sq",
        "colab_type": "text"
      },
      "source": [
        "## Resources"
      ]
    },
    {
      "cell_type": "markdown",
      "metadata": {
        "id": "QRgHqmYIQ9qn",
        "colab_type": "text"
      },
      "source": [
        "- [Worked example of Bayes rule calculation](https://en.wikipedia.org/wiki/Bayes'_theorem#Examples) (helpful as it fully breaks out the denominator)\n",
        "- [Source code for mvsdist in scipy](https://github.com/scipy/scipy/blob/90534919e139d2a81c24bf08341734ff41a3db12/scipy/stats/morestats.py#L139)"
      ]
    }
  ]
}