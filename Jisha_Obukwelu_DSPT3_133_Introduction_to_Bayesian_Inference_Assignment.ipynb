{
  "nbformat": 4,
  "nbformat_minor": 0,
  "metadata": {
    "colab": {
      "name": "Jisha Obukwelu_DSPT3_133_Introduction_to_Bayesian_Inference_Assignment.ipynb",
      "provenance": [],
      "collapsed_sections": [],
      "include_colab_link": true
    },
    "kernelspec": {
      "name": "python3",
      "display_name": "Python 3"
    }
  },
  "cells": [
    {
      "cell_type": "markdown",
      "metadata": {
        "id": "view-in-github",
        "colab_type": "text"
      },
      "source": [
        "<a href=\"https://colab.research.google.com/github/jiobu1/DS-Unit-1-Sprint-3-Statistical-Tests-and-Experiments/blob/master/Jisha_Obukwelu_DSPT3_133_Introduction_to_Bayesian_Inference_Assignment.ipynb\" target=\"_parent\"><img src=\"https://colab.research.google.com/assets/colab-badge.svg\" alt=\"Open In Colab\"/></a>"
      ]
    },
    {
      "cell_type": "markdown",
      "metadata": {
        "id": "H7OLbevlbd_Z",
        "colab_type": "text"
      },
      "source": [
        "# Lambda School Data Science Module 133\n",
        "\n",
        "## Introduction to Bayesian Inference\n",
        "\n",
        "\n"
      ]
    },
    {
      "cell_type": "markdown",
      "metadata": {
        "id": "P-DzzRk5bf0z",
        "colab_type": "text"
      },
      "source": [
        "## Assignment - Code it up!\n",
        "\n",
        "Most of the above was pure math - now write Python code to reproduce the results! This is purposefully open ended - you'll have to think about how you should represent probabilities and events. You can and should look things up, and as a stretch goal - refactor your code into helpful reusable functions!\n",
        "\n",
        "Specific goals/targets:\n",
        "\n",
        "1. Write a function `def prob_drunk_given_positive(prob_drunk_prior, prob_positive, prob_positive_drunk)` that reproduces the example from lecture, and use it to calculate and visualize a range of situations\n",
        "2. Explore `scipy.stats.bayes_mvs` - read its documentation, and experiment with it on data you've tested in other ways earlier this week\n",
        "3. Create a visualization comparing the results of a Bayesian approach to a traditional/frequentist approach\n",
        "4. In your own words, summarize the difference between Bayesian and Frequentist statistics\n",
        "\n",
        "If you're unsure where to start, check out [this blog post of Bayes theorem with Python](https://dataconomy.com/2015/02/introduction-to-bayes-theorem-with-python/) - you could and should create something similar!\n",
        "\n",
        "Stretch goals:\n",
        "\n",
        "- Apply a Bayesian technique to a problem you previously worked (in an assignment or project work) on from a frequentist (standard) perspective\n",
        "- Check out [PyMC3](https://docs.pymc.io/) (note this goes beyond hypothesis tests into modeling) - read the guides and work through some examples\n",
        "- Take PyMC3 further - see if you can build something with it!"
      ]
    },
    {
      "cell_type": "markdown",
      "metadata": {
        "id": "Js9CTo4PPRCF",
        "colab_type": "text"
      },
      "source": [
        "###1. Iterative Bayesian Theorem\n",
        "DEF prob_drunk_given_positive"
      ]
    },
    {
      "cell_type": "code",
      "metadata": {
        "id": "ALzE36_16PmS",
        "colab_type": "code",
        "outputId": "1967e7e5-9f6d-48f3-e2ef-b7e7752596aa",
        "colab": {
          "base_uri": "https://localhost:8080/",
          "height": 34
        }
      },
      "source": [
        "#Trying out class example\n",
        "p_plus_user = 0.99\n",
        "p_user = 0.005\n",
        "p_non_user = 0.995\n",
        "\n",
        "p_user_plus = (p_plus_user*p_user)/(p_plus_user*p_user + (1-p_plus_user)*(p_non_user))\n",
        "p_user_plus"
      ],
      "execution_count": 114,
      "outputs": [
        {
          "output_type": "execute_result",
          "data": {
            "text/plain": [
              "0.33221476510067094"
            ]
          },
          "metadata": {
            "tags": []
          },
          "execution_count": 114
        }
      ]
    },
    {
      "cell_type": "code",
      "metadata": {
        "id": "oZE2F6v2zr3B",
        "colab_type": "code",
        "colab": {}
      },
      "source": [
        "#psuedo code\n",
        "#posterior P(user|+)\n",
        "#P(user|+) = prob_drunk_prior\n",
        "#P(+|user)P(user) = prob_positive_drunk * prob_drunk_prior\n",
        "#P(+|user)P(user) = prob_positive_drunk * prob_drunk_prior\n",
        "#p(+|non-user)p(non-user) = (prob_positive)*(1-prob_positive_drunk )"
      ],
      "execution_count": 0,
      "outputs": []
    },
    {
      "cell_type": "code",
      "metadata": {
        "id": "xpVhZyUnbf7o",
        "colab_type": "code",
        "colab": {}
      },
      "source": [
        "# TODO - code!\n",
        "def prob_drunk_given_positive(prob_drunk_prior, prob_positive, prob_positive_drunk):\n",
        "\n",
        "  prior_drunk = []\n",
        "  for i in range (0,20):\n",
        "    prob_drunk_prior = (prob_positive_drunk*prob_drunk_prior)/(prob_positive_drunk*prob_drunk_prior + prob_positive*(1-prob_drunk_prior))\n",
        "    # print(round(prob_drunk_prior, 10))\n",
        "    prior_drunk.append(prob_drunk_prior)           \n",
        "  return prior_drunk"
      ],
      "execution_count": 0,
      "outputs": []
    },
    {
      "cell_type": "code",
      "metadata": {
        "id": "bUNKtRN8QS07",
        "colab_type": "code",
        "outputId": "3d740379-cca1-43ac-f8b4-214fae346d33",
        "colab": {
          "base_uri": "https://localhost:8080/",
          "height": 357
        }
      },
      "source": [
        "prob_drunk_given_positive(.001, 0.08, 1)"
      ],
      "execution_count": 117,
      "outputs": [
        {
          "output_type": "execute_result",
          "data": {
            "text/plain": [
              "[0.012357884330202669,\n",
              " 0.13525210993291495,\n",
              " 0.6615996951348605,\n",
              " 0.9606895076105054,\n",
              " 0.9967371577896734,\n",
              " 0.9997381867081508,\n",
              " 0.9999790498904363,\n",
              " 0.9999983239589307,\n",
              " 0.9999998659165077,\n",
              " 0.9999999892733192,\n",
              " 0.9999999991418655,\n",
              " 0.9999999999313492,\n",
              " 0.999999999994508,\n",
              " 0.9999999999995607,\n",
              " 0.9999999999999648,\n",
              " 0.9999999999999972,\n",
              " 0.9999999999999998,\n",
              " 1.0,\n",
              " 1.0,\n",
              " 1.0]"
            ]
          },
          "metadata": {
            "tags": []
          },
          "execution_count": 117
        }
      ]
    },
    {
      "cell_type": "markdown",
      "metadata": {
        "id": "inMqRfnePdxM",
        "colab_type": "text"
      },
      "source": [
        "### 2. scipy.stats.bayes_mvs"
      ]
    },
    {
      "cell_type": "markdown",
      "metadata": {
        "id": "OU8RE1BEPyfa",
        "colab_type": "text"
      },
      "source": [
        "#### House Votes"
      ]
    },
    {
      "cell_type": "code",
      "metadata": {
        "id": "8lQAk46lP7ke",
        "colab_type": "code",
        "outputId": "f81670db-1122-4874-dede-f434888a38a2",
        "colab": {
          "base_uri": "https://localhost:8080/",
          "height": 204
        }
      },
      "source": [
        "!wget https://archive.ics.uci.edu/ml/machine-learning-databases/voting-records/house-votes-84.data"
      ],
      "execution_count": 118,
      "outputs": [
        {
          "output_type": "stream",
          "text": [
            "--2019-10-09 04:46:55--  https://archive.ics.uci.edu/ml/machine-learning-databases/voting-records/house-votes-84.data\n",
            "Resolving archive.ics.uci.edu (archive.ics.uci.edu)... 128.195.10.252\n",
            "Connecting to archive.ics.uci.edu (archive.ics.uci.edu)|128.195.10.252|:443... connected.\n",
            "HTTP request sent, awaiting response... 200 OK\n",
            "Length: 18171 (18K) [application/x-httpd-php]\n",
            "Saving to: ‘house-votes-84.data.2’\n",
            "\n",
            "\rhouse-votes-84.data   0%[                    ]       0  --.-KB/s               \rhouse-votes-84.data 100%[===================>]  17.75K  --.-KB/s    in 0.03s   \n",
            "\n",
            "2019-10-09 04:46:55 (629 KB/s) - ‘house-votes-84.data.2’ saved [18171/18171]\n",
            "\n"
          ],
          "name": "stdout"
        }
      ]
    },
    {
      "cell_type": "code",
      "metadata": {
        "id": "q7gHCy3iRZxI",
        "colab_type": "code",
        "colab": {}
      },
      "source": [
        "#Import libraries\n",
        "import pandas as pd\n",
        "import numpy as np\n",
        "\n",
        "import matplotlib.pyplot as plt\n",
        "import matplotlib.style as style\n",
        "import seaborn as sns\n",
        "\n",
        "from scipy import stats\n",
        "from scipy.stats import ttest_ind, ttest_ind_from_stats, ttest_rel"
      ],
      "execution_count": 0,
      "outputs": []
    },
    {
      "cell_type": "code",
      "metadata": {
        "id": "neFuZ_m_RbPu",
        "colab_type": "code",
        "colab": {}
      },
      "source": [
        "#Add headers to data\n",
        "df = pd.read_csv('house-votes-84.data', \n",
        "                header = None, \n",
        "               names = ['party', 'handicapped-infants', 'water-project-cost-sharing', \n",
        "                         'adoption-of-the-budget-resolution', 'physician-fee-freeze', \n",
        "                         'el-salvador-aid', 'religious-groups-in-schools', \n",
        "                         'anti-satellite-test-ban', 'aid-to-nicaraguan-contras',\n",
        "                         'mx-missile', 'immigration','synfuels-corporation-cutback', \n",
        "                         'education-spending', 'superfund-right-to-sue', \n",
        "                         'crime', 'duty-free-exports', \n",
        "                         'export-administration-act-south-africa'])\n",
        "\n",
        "#Clean data\n",
        "df = df.replace({'y':1, 'n':0, '?':np.NaN})\n",
        "\n",
        "reps = df[df['party'] == 'republican']\n",
        "dems = df[df['party'] == 'democrat']\n"
      ],
      "execution_count": 0,
      "outputs": []
    },
    {
      "cell_type": "markdown",
      "metadata": {
        "id": "Uhj4hdosUp4l",
        "colab_type": "text"
      },
      "source": [
        "####Confidence Interval"
      ]
    },
    {
      "cell_type": "code",
      "metadata": {
        "id": "B7v-UdExUTix",
        "colab_type": "code",
        "colab": {}
      },
      "source": [
        "def conf_int (data, confidence=0.95):\n",
        "\n",
        "  data = np.array(data)\n",
        "  mean = np.mean(data)\n",
        "  n = len(data)\n",
        "  stderr = stats.sem(data)\n",
        "  interval = stderr * stats.t.ppf((1 + confidence) / 2.0, n - 1)\n",
        "  return (mean, mean - interval, mean + interval)"
      ],
      "execution_count": 0,
      "outputs": []
    },
    {
      "cell_type": "code",
      "metadata": {
        "id": "dJt9h04jUyXz",
        "colab_type": "code",
        "outputId": "22d303c0-dc12-4418-ee69-aac05aae90d8",
        "colab": {
          "base_uri": "https://localhost:8080/",
          "height": 34
        }
      },
      "source": [
        "conf_int(dem['handicapped-infants'].dropna())"
      ],
      "execution_count": 122,
      "outputs": [
        {
          "output_type": "execute_result",
          "data": {
            "text/plain": [
              "(0.6046511627906976, 0.5445926997425515, 0.6647096258388437)"
            ]
          },
          "metadata": {
            "tags": []
          },
          "execution_count": 122
        }
      ]
    },
    {
      "cell_type": "markdown",
      "metadata": {
        "id": "xhcsrMSsUap9",
        "colab_type": "text"
      },
      "source": [
        "####Bayesian Interval"
      ]
    },
    {
      "cell_type": "code",
      "metadata": {
        "id": "1Iop-1enUWz5",
        "colab_type": "code",
        "outputId": "766b5bb0-6069-4ea0-c874-592b74ad6e0a",
        "colab": {
          "base_uri": "https://localhost:8080/",
          "height": 68
        }
      },
      "source": [
        "stats.bayes_mvs(dem['handicapped-infants'].dropna(), alpha=.95)"
      ],
      "execution_count": 123,
      "outputs": [
        {
          "output_type": "execute_result",
          "data": {
            "text/plain": [
              "(Mean(statistic=0.6046511627906976, minmax=(0.5445926997425515, 0.6647096258388437)),\n",
              " Variance(statistic=0.24186046511627907, minmax=(0.20334567221093322, 0.2875424084350645)),\n",
              " Std_dev(statistic=0.4913111995028866, minmax=(0.4509386568159057, 0.536229809349559)))"
            ]
          },
          "metadata": {
            "tags": []
          },
          "execution_count": 123
        }
      ]
    },
    {
      "cell_type": "markdown",
      "metadata": {
        "id": "p-pHo22TXtol",
        "colab_type": "text"
      },
      "source": [
        "### 3. Traditional vs. Bayesian\n",
        "\n",
        "Create a visualization comparing the results of a Bayesian approach to a traditional/frequentist approach"
      ]
    },
    {
      "cell_type": "code",
      "metadata": {
        "id": "Jh-P0AFqhHUr",
        "colab_type": "code",
        "colab": {}
      },
      "source": [
        "def prob_drunk_given_positive(prob_drunk_prior, prob_positive, prob_positive_drunk):\n",
        "\n",
        "  prior_drunk = []\n",
        "  for i in range (0,20):\n",
        "    prob_drunk_prior = (prob_positive_drunk*prob_drunk_prior)/(prob_positive_drunk*prob_drunk_prior + prob_positive*(1-prob_drunk_prior))\n",
        "    print(round(prob_drunk_prior, 5))\n",
        "    prior_drunk.append(prob_drunk_prior)           \n",
        "  return prior_drunk"
      ],
      "execution_count": 0,
      "outputs": []
    },
    {
      "cell_type": "code",
      "metadata": {
        "id": "MCw3S-jKgRk6",
        "colab_type": "code",
        "colab": {}
      },
      "source": [
        "def frequentist (positive,false_positive):\n",
        "  prior_drunk = []\n",
        "  for i in range (0, 20):\n",
        "    positive_drunk = positive - false_positive**(i)\n",
        "    prior_drunk.append(positive_drunk)\n",
        "  return prior_drunk"
      ],
      "execution_count": 0,
      "outputs": []
    },
    {
      "cell_type": "code",
      "metadata": {
        "id": "qOFQ947ctjTS",
        "colab_type": "code",
        "colab": {}
      },
      "source": [
        "bayesian = prob_drunk_given_positive(.001, 0.08, 1)\n",
        "frequentist = frequentist(1, .08)"
      ],
      "execution_count": 0,
      "outputs": []
    },
    {
      "cell_type": "code",
      "metadata": {
        "id": "kwzzb3AwxH58",
        "colab_type": "code",
        "outputId": "6f40e065-c0a8-4538-9a71-61f79ae7ed61",
        "colab": {
          "base_uri": "https://localhost:8080/",
          "height": 357
        }
      },
      "source": [
        "bayesian"
      ],
      "execution_count": 146,
      "outputs": [
        {
          "output_type": "execute_result",
          "data": {
            "text/plain": [
              "[0.012357884330202669,\n",
              " 0.13525210993291495,\n",
              " 0.6615996951348605,\n",
              " 0.9606895076105054,\n",
              " 0.9967371577896734,\n",
              " 0.9997381867081508,\n",
              " 0.9999790498904363,\n",
              " 0.9999983239589307,\n",
              " 0.9999998659165077,\n",
              " 0.9999999892733192,\n",
              " 0.9999999991418655,\n",
              " 0.9999999999313492,\n",
              " 0.999999999994508,\n",
              " 0.9999999999995607,\n",
              " 0.9999999999999648,\n",
              " 0.9999999999999972,\n",
              " 0.9999999999999998,\n",
              " 1.0,\n",
              " 1.0,\n",
              " 1.0]"
            ]
          },
          "metadata": {
            "tags": []
          },
          "execution_count": 146
        }
      ]
    },
    {
      "cell_type": "code",
      "metadata": {
        "id": "xfn-34m-xKIW",
        "colab_type": "code",
        "outputId": "440c9cea-bb04-47de-e9b2-ab744cbd64a0",
        "colab": {
          "base_uri": "https://localhost:8080/",
          "height": 357
        }
      },
      "source": [
        "frequentist"
      ],
      "execution_count": 147,
      "outputs": [
        {
          "output_type": "execute_result",
          "data": {
            "text/plain": [
              "[0.0,\n",
              " 0.92,\n",
              " 0.9936,\n",
              " 0.999488,\n",
              " 0.99995904,\n",
              " 0.9999967232,\n",
              " 0.999999737856,\n",
              " 0.99999997902848,\n",
              " 0.9999999983222784,\n",
              " 0.9999999998657823,\n",
              " 0.9999999999892626,\n",
              " 0.999999999999141,\n",
              " 0.9999999999999313,\n",
              " 0.9999999999999944,\n",
              " 0.9999999999999996,\n",
              " 1.0,\n",
              " 1.0,\n",
              " 1.0,\n",
              " 1.0,\n",
              " 1.0]"
            ]
          },
          "metadata": {
            "tags": []
          },
          "execution_count": 147
        }
      ]
    },
    {
      "cell_type": "code",
      "metadata": {
        "id": "x9OpmuaMyVQM",
        "colab_type": "code",
        "outputId": "c2fe8189-30cb-46de-ee40-9aa8f331c01c",
        "colab": {
          "base_uri": "https://localhost:8080/",
          "height": 400
        }
      },
      "source": [
        "fig, ax = plt.subplots(figsize=(10, 6))\n",
        "\n",
        "ax.plot(bayesian, label='Bayesian')\n",
        "ax.plot(frequentist, label='Frequentist')\n",
        "ax.set_ylabel('Drunkeness')\n",
        "ax.set_xlabel('Number of Tests')\n",
        "ax.set_title('Bayesian vs. Frequentist Probability for Breathalyzer Tests')\n",
        "ax.set_xlim(0,5)\n",
        "ax.legend()\n",
        "plt.show()"
      ],
      "execution_count": 148,
      "outputs": [
        {
          "output_type": "display_data",
          "data": {
            "image/png": "[encoded data removed]",
            "text/plain": [
              "<Figure size 720x432 with 1 Axes>"
            ]
          },
          "metadata": {
            "tags": []
          }
        }
      ]
    },
    {
      "cell_type": "markdown",
      "metadata": {
        "id": "xCFr4Sbb3UAA",
        "colab_type": "text"
      },
      "source": [
        "###4. In your own words, summarize the difference between Bayesian and Frequentist statistics"
      ]
    },
    {
      "cell_type": "markdown",
      "metadata": {
        "id": "GmgNvfJY3yJK",
        "colab_type": "text"
      },
      "source": [
        "The difference between Bayesian and Frequentist/Traditional statistics is \n",
        "- Bayesian Inference updates hypothesis as you get more information. This is a more intuitive approach to statistics.\n",
        "- Frequentist believe that there is an equal likelihood of all outcomes. Here you just divide the number of events by the number of possible events.\n"
      ]
    },
    {
      "cell_type": "markdown",
      "metadata": {
        "id": "uWgWjp3PQ3Sq",
        "colab_type": "text"
      },
      "source": [
        "## Resources"
      ]
    },
    {
      "cell_type": "markdown",
      "metadata": {
        "id": "QRgHqmYIQ9qn",
        "colab_type": "text"
      },
      "source": [
        "- [Worked example of Bayes rule calculation](https://en.wikipedia.org/wiki/Bayes'_theorem#Examples) (helpful as it fully breaks out the denominator)\n",
        "- [Source code for mvsdist in scipy](https://github.com/scipy/scipy/blob/90534919e139d2a81c24bf08341734ff41a3db12/scipy/stats/morestats.py#L139)"
      ]
    }
  ]
}