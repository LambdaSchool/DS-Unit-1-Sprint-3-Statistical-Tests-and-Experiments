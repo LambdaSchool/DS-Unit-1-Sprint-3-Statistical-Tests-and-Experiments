{
  "nbformat": 4,
  "nbformat_minor": 0,
  "metadata": {
    "colab": {
      "name": "Copy of LS_DS_143_Introduction_to_Bayesian_Inference_Jason_Meil_DS3.ipynb",
      "version": "0.3.2",
      "provenance": [],
      "collapsed_sections": [],
      "include_colab_link": true
    },
    "language_info": {
      "codemirror_mode": {
        "name": "ipython",
        "version": 3
      },
      "file_extension": ".py",
      "mimetype": "text/x-python",
      "name": "python",
      "nbconvert_exporter": "python",
      "pygments_lexer": "ipython3",
      "version": "3.7.2"
    },
    "kernelspec": {
      "display_name": "Python 3",
      "language": "python",
      "name": "python3"
    }
  },
  "cells": [
    {
      "cell_type": "markdown",
      "metadata": {
        "id": "view-in-github",
        "colab_type": "text"
      },
      "source": [
        "<a href=\"https://colab.research.google.com/github/RecursiveOuroboros/DS-Unit-1-Sprint-4-Statistical-Tests-and-Experiments/blob/master/Copy_of_LS_DS_143_Introduction_to_Bayesian_Inference_Jason_Meil_DS3.ipynb\" target=\"_parent\"><img src=\"https://colab.research.google.com/assets/colab-badge.svg\" alt=\"Open In Colab\"/></a>"
      ]
    },
    {
      "metadata": {
        "colab_type": "text",
        "id": "H7OLbevlbd_Z"
      },
      "cell_type": "markdown",
      "source": [
        "# Lambda School Data Science Module 143\n",
        "\n",
        "## Introduction to Bayesian Inference\n",
        "\n",
        "!['Detector! What would the Bayesian statistician say if I asked him whether the--' [roll] 'I AM A NEUTRINO DETECTOR, NOT A LABYRINTH GUARD. SERIOUSLY, DID YOUR BRAIN FALL OUT?' [roll] '... yes.'](https://imgs.xkcd.com/comics/frequentists_vs_bayesians.png)\n",
        "\n",
        "*[XKCD 1132](https://www.xkcd.com/1132/)*\n"
      ]
    },
    {
      "metadata": {
        "colab_type": "text",
        "id": "3mz8p08BsN6p"
      },
      "cell_type": "markdown",
      "source": [
        "## Prepare - Bayes' Theorem and the Bayesian mindset"
      ]
    },
    {
      "metadata": {
        "colab_type": "text",
        "id": "GhycNr-Sbeie"
      },
      "cell_type": "markdown",
      "source": [
        "Bayes' theorem possesses a near-mythical quality - a bit of math that somehow magically evaluates a situation. But this mythicalness has more to do with its reputation and advanced applications than the actual core of it - deriving it is actually remarkably straightforward.\n",
        "\n",
        "### The Law of Total Probability\n",
        "\n",
        "By definition, the total probability of all outcomes (events) if some variable (event space) $A$ is 1. That is:\n",
        "\n",
        "$$P(A) = \\sum_n P(A_n) = 1$$\n",
        "\n",
        "The law of total probability takes this further, considering two variables ($A$ and $B$) and relating their marginal probabilities (their likelihoods considered independently, without reference to one another) and their conditional probabilities (their likelihoods considered jointly). A marginal probability is simply notated as e.g. $P(A)$, while a conditional probability is notated $P(A|B)$, which reads \"probability of $A$ *given* $B$\".\n",
        "\n",
        "The law of total probability states:\n",
        "\n",
        "$$P(A) = \\sum_n P(A | B_n) P(B_n)$$\n",
        "\n",
        "In words - the total probability of $A$ is equal to the sum of the conditional probability of $A$ on any given event $B_n$ times the probability of that event $B_n$, and summed over all possible events in $B$.\n",
        "\n",
        "### The Law of Conditional Probability\n",
        "\n",
        "What's the probability of something conditioned on something else? To determine this we have to go back to set theory and think about the intersection of sets:\n",
        "\n",
        "The formula for actual calculation:\n",
        "\n",
        "$$P(A|B) = \\frac{P(A \\cap B)}{P(B)}$$\n",
        "\n",
        "![Visualization of set intersection](https://upload.wikimedia.org/wikipedia/commons/9/99/Venn0001.svg)\n",
        "\n",
        "Think of the overall rectangle as the whole probability space, $A$ as the left circle, $B$ as the right circle, and their intersection as the red area. Try to visualize the ratio being described in the above formula, and how it is different from just the $P(A)$ (not conditioned on $B$).\n",
        "\n",
        "We can see how this relates back to the law of total probability - multiply both sides by $P(B)$ and you get $P(A|B)P(B) = P(A \\cap B)$ - replaced back into the law of total probability we get $P(A) = \\sum_n P(A \\cap B_n)$.\n",
        "\n",
        "This may not seem like an improvement at first, but try to relate it back to the above picture - if you think of sets as physical objects, we're saying that the total probability of $A$ given $B$ is all the little pieces of it intersected with $B$, added together. The conditional probability is then just that again, but divided by the probability of $B$ itself happening in the first place.\n",
        "\n",
        "### Bayes Theorem\n",
        "\n",
        "Here is is, the seemingly magic tool:\n",
        "\n",
        "$$P(A|B) = \\frac{P(B|A)P(A)}{P(B)}$$\n",
        "\n",
        "In words - the probability of $A$ conditioned on $B$ is the probability of $B$ conditioned on $A$, times the probability of $A$ and divided by the probability of $B$. These unconditioned probabilities are referred to as \"prior beliefs\", and the conditioned probabilities as \"updated.\"\n",
        "\n",
        "Why is this important? Scroll back up to the XKCD example - the Bayesian statistician draws a less absurd conclusion because their prior belief in the likelihood that the sun will go nova is extremely low. So, even when updated based on evidence from a detector that is $35/36 = 0.972$ accurate, the prior belief doesn't shift enough to change their overall opinion.\n",
        "\n",
        "There's many examples of Bayes' theorem - one less absurd example is to apply to [breathalyzer tests](https://www.bayestheorem.net/breathalyzer-example/). You may think that a breathalyzer test that is 100% accurate for true positives (detecting somebody who is drunk) is pretty good, but what if it also has 8% false positives (indicating somebody is drunk when they're not)? And furthermore, the rate of drunk driving (and thus our prior belief)  is 1/1000.\n",
        "\n",
        "What is the likelihood somebody really is drunk if they test positive? Some may guess it's 92% - the difference between the true positives and the false positives. But we have a prior belief of the background/true rate of drunk driving. Sounds like a job for Bayes' theorem!\n",
        "\n",
        "$$\n",
        "\\begin{aligned}\n",
        "P(Drunk | Positive) &= \\frac{P(Positive | Drunk)P(Drunk)}{P(Positive)} \\\\\n",
        "&= \\frac{1 \\times 0.001}{0.08} \\\\\n",
        "&= 0.0125\n",
        "\\end{aligned}\n",
        "$$\n",
        "\n",
        "In other words, the likelihood that somebody is drunk given they tested positive with a breathalyzer in this situation is only 1.25% - probably much lower than you'd guess. This is why, in practice, it's important to have a repeated test to confirm (the probability of two false positives in a row is $0.08 * 0.08 = 0.0064$, much lower), and Bayes' theorem has been relevant in court cases where proper consideration of evidence was important."
      ]
    },
    {
      "metadata": {
        "colab_type": "text",
        "id": "htI3DGvDsRJF"
      },
      "cell_type": "markdown",
      "source": [
        "## Live Lecture - Deriving Bayes' Theorem, Calculating Bayesian Confidence"
      ]
    },
    {
      "metadata": {
        "colab_type": "text",
        "id": "moIJNQ-nbfe_"
      },
      "cell_type": "markdown",
      "source": [
        "Notice that $P(A|B)$ appears in the above laws - in Bayesian terms, this is the belief in $A$ updated for the evidence $B$. So all we need to do is solve for this term to derive Bayes' theorem. Let's do it together!"
      ]
    },
    {
      "metadata": {
        "colab_type": "code",
        "id": "ke-5EqJI0Tsn",
        "colab": {}
      },
      "cell_type": "code",
      "source": [
        "# Activity 2 - Use SciPy to calculate Bayesian confidence intervals\n",
        "# https://docs.scipy.org/doc/scipy/reference/generated/scipy.stats.bayes_mvs.html#scipy.stats.bayes_mvs"
      ],
      "execution_count": 0,
      "outputs": []
    },
    {
      "metadata": {
        "colab_type": "text",
        "id": "P-DzzRk5bf0z"
      },
      "cell_type": "markdown",
      "source": [
        "## Assignment - Code it up!\n",
        "\n",
        "Most of the above was pure math - now write Python code to reproduce the results! This is purposefully open ended - you'll have to think about how you should represent probabilities and events. You can and should look things up, and as a stretch goal - refactor your code into helpful reusable functions!\n",
        "\n",
        "Specific goals/targets:\n",
        "\n",
        "1. Write a function `def prob_drunk_given_positive(prob_drunk_prior, prob_positive, prob_positive_drunk)` that reproduces the example from lecture, and use it to calculate and visualize a range of situations\n",
        "2. Explore `scipy.stats.bayes_mvs` - read its documentation, and experiment with it on data you've tested in other ways earlier this week\n",
        "3. Create a visualization comparing the results of a Bayesian approach to a traditional/frequentist approach\n",
        "4. In your own words, summarize the difference between Bayesian and Frequentist statistics\n",
        "\n",
        "If you're unsure where to start, check out [this blog post of Bayes theorem with Python](https://dataconomy.com/2015/02/introduction-to-bayes-theorem-with-python/) - you could and should create something similar!\n",
        "\n",
        "Stretch goals:\n",
        "\n",
        "- Apply a Bayesian technique to a problem you previously worked (in an assignment or project work) on from a frequentist (standard) perspective\n",
        "- Check out [PyMC3](https://docs.pymc.io/) (note this goes beyond hypothesis tests into modeling) - read the guides and work through some examples\n",
        "- Take PyMC3 further - see if you can build something with it!"
      ]
    },
    {
      "metadata": {
        "colab_type": "code",
        "id": "xpVhZyUnbf7o",
        "colab": {}
      },
      "cell_type": "code",
      "source": [
        "import numpy as np\n",
        "import pandas as pd\n",
        "import matplotlib.pyplot as plt\n",
        "from scipy import stats"
      ],
      "execution_count": 0,
      "outputs": []
    },
    {
      "metadata": {
        "id": "HyEiocaOx7qq",
        "colab_type": "code",
        "colab": {}
      },
      "cell_type": "code",
      "source": [
        "def prob_drunk_given_positive(prob_drunk_prior, prob_positive, prob_positive_drunk):\n",
        "    return (prob_positive_drunk*prob_drunk_prior)/prob_positive"
      ],
      "execution_count": 0,
      "outputs": []
    },
    {
      "metadata": {
        "id": "UxbuQyRrx7qx",
        "colab_type": "code",
        "outputId": "1306428c-0df9-43be-cb5b-318f636e1a32",
        "colab": {
          "base_uri": "https://localhost:8080/",
          "height": 33
        }
      },
      "cell_type": "code",
      "source": [
        "print(prob_drunk_given_positive(0.001,0.08,1))"
      ],
      "execution_count": 17,
      "outputs": [
        {
          "output_type": "stream",
          "text": [
            "0.0125\n"
          ],
          "name": "stdout"
        }
      ]
    },
    {
      "metadata": {
        "id": "l7UwNxQ7x7q8",
        "colab_type": "code",
        "outputId": "b7762a50-78fe-45bd-b12a-22242fb43758",
        "colab": {
          "base_uri": "https://localhost:8080/",
          "height": 66
        }
      },
      "cell_type": "code",
      "source": [
        "stats.bayes_mvs([0,0,1,1,2,1,3,2,1,2])"
      ],
      "execution_count": 18,
      "outputs": [
        {
          "output_type": "execute_result",
          "data": {
            "text/plain": [
              "(Mean(statistic=1.3, minmax=(0.7500661202039098, 1.84993387979609)),\n",
              " Variance(statistic=1.157142857142857, minmax=(0.4787523329889596, 2.4360075529133662)),\n",
              " Std_dev(statistic=1.0380888090597227, minmax=(0.6919193110391988, 1.5607714608210153)))"
            ]
          },
          "metadata": {
            "tags": []
          },
          "execution_count": 18
        }
      ]
    },
    {
      "metadata": {
        "id": "fItLOnoNx7rC",
        "colab_type": "code",
        "colab": {}
      },
      "cell_type": "code",
      "source": [
        "### Create a list of bayes_mvs values for the data\n",
        "### Create a list of frequentist values for the data\n",
        "### Create two Plots one Bayes, one frequentist\n",
        "### Create one plot that plots difference of the differences.\n",
        "\n",
        "### Functions dealing with the data\n",
        "\n",
        "def confidence_interval(data, confidence=0.95):\n",
        "  \"\"\"\n",
        "  Calculate a confidence interval around a sample mean for given data.\n",
        "  Using t-distribution and two-tailed test, default 95% confidence. \n",
        "  \n",
        "  Arguments:\n",
        "    data - iterable (list or numpy array) of sample observations\n",
        "    confidence - level of confidence for the interval\n",
        "  \n",
        "  Returns:\n",
        "    tuple of (mean, lower bound, upper bound)\n",
        "  \"\"\"\n",
        "  data = np.array(data)\n",
        "  mean = np.mean(data)\n",
        "  n = len(data)\n",
        "  stderr = stats.sem(data)\n",
        "  interval = stderr * stats.t.ppf((1 + confidence) / 2., n - 1)\n",
        "  return (mean, mean - interval, mean + interval)\n",
        "\n"
      ],
      "execution_count": 0,
      "outputs": []
    },
    {
      "metadata": {
        "id": "9XQuvZRSx7rK",
        "colab_type": "code",
        "colab": {}
      },
      "cell_type": "code",
      "source": [
        "### Import and clean the data. Using the same data as before for earlier in the week\n",
        "votedf = pd.read_csv('https://archive.ics.uci.edu/ml/machine-learning-databases/voting-records/house-votes-84.data', header=None, na_values='?')\n",
        "votedf = votedf.set_index(0).sort_index()\n",
        "votedf = votedf.replace({'y':1, 'n':0})\n",
        "dempoll = votedf.loc['democrat']\n",
        "repoll= votedf.loc['republican']\n"
      ],
      "execution_count": 0,
      "outputs": []
    },
    {
      "metadata": {
        "id": "9CFz-AmNx7rN",
        "colab_type": "code",
        "colab": {}
      },
      "cell_type": "code",
      "source": [
        "### Bayes value creation\n",
        "bayesdems = []\n",
        "bayesrep = []\n",
        "\n",
        "for i in range(1,16):\n",
        "    bayesdems.append(stats.bayes_mvs(dempoll[i].dropna(), alpha=0.95))\n",
        "    \n",
        "for i in range(1,16):\n",
        "    bayesrep.append(stats.bayes_mvs(repoll[i].dropna()))"
      ],
      "execution_count": 0,
      "outputs": []
    },
    {
      "metadata": {
        "id": "qSOdEXu_x7rQ",
        "colab_type": "code",
        "colab": {}
      },
      "cell_type": "code",
      "source": [
        "### Frequentist value creation\n",
        "freqdems = []\n",
        "freqrep = []\n",
        "\n",
        "for i in range(1,16):\n",
        "    freqdems.append(confidence_interval(dempoll[i].dropna()))\n",
        "\n",
        "for i in range(1,16):\n",
        "    freqrep.append(confidence_interval(repoll[i].dropna()))"
      ],
      "execution_count": 0,
      "outputs": []
    },
    {
      "metadata": {
        "id": "aPH9phawx7rY",
        "colab_type": "code",
        "outputId": "ba09fe06-1c22-49c7-e188-0523aa41a979",
        "colab": {
          "base_uri": "https://localhost:8080/",
          "height": 33
        }
      },
      "cell_type": "code",
      "source": [
        "### Plot Bayes\n",
        "print(bayesdems[0][0][0])\n",
        "baydemsmeanci = []\n",
        "for i in range(0,15):\n",
        "    baydemsmeanci.append([bayesdems[i][0][0],bayesdems[i][0][1][0], bayesdems[i][0][1][1]])\n",
        "    \n",
        "\n",
        "    "
      ],
      "execution_count": 23,
      "outputs": [
        {
          "output_type": "stream",
          "text": [
            "0.6046511627906976\n"
          ],
          "name": "stdout"
        }
      ]
    },
    {
      "metadata": {
        "id": "uVMZow3Yx7rd",
        "colab_type": "code",
        "outputId": "80bea9f6-b85c-4a06-abe2-3df2459d6978",
        "colab": {
          "base_uri": "https://localhost:8080/",
          "height": 53
        }
      },
      "cell_type": "code",
      "source": [
        "print(baydemsmeanci)"
      ],
      "execution_count": 24,
      "outputs": [
        {
          "output_type": "stream",
          "text": [
            "[[0.6046511627906976, 0.5445926997425515, 0.6647096258388437], [0.502092050209205, 0.43824514095228484, 0.5659389594661252], [0.8884615384615384, 0.8499435153340716, 0.9269795615890052], [0.05405405405405406, 0.026331861497208852, 0.08177624661089926], [0.21568627450980393, 0.1648631139997972, 0.26650943501981067], [0.47674418604651164, 0.41539182663748236, 0.5380965454555409], [0.7722007722007722, 0.7207820216365644, 0.8236195227649801], [0.8288973384030418, 0.7830845214499412, 0.8747101553561424], [0.7580645161290323, 0.7043940111605527, 0.8117350210975118], [0.4714828897338403, 0.41075744059137587, 0.5322083388763047], [0.5058823529411764, 0.4441027014712158, 0.5676620044111371], [0.14457831325301204, 0.10059494022327561, 0.18856168628274847], [0.2896825396825397, 0.23329310265193048, 0.34607197671314893], [0.35019455252918286, 0.2914817910969736, 0.4089073139613921], [0.6374501992031872, 0.5775687099725446, 0.6973316884338299]]\n"
          ],
          "name": "stdout"
        }
      ]
    },
    {
      "metadata": {
        "id": "MohZfbN1x7rs",
        "colab_type": "code",
        "colab": {}
      },
      "cell_type": "code",
      "source": [
        "#for i in range(0,15):\n",
        "#plt.plot(range(1,16),baydemsmean)\n",
        "#plt.hist(baydemsmean)"
      ],
      "execution_count": 0,
      "outputs": []
    },
    {
      "metadata": {
        "id": "ItbfM8kwx7r5",
        "colab_type": "code",
        "outputId": "7e760b31-e53c-4b9d-de0a-3fcab2bd0eec",
        "colab": {
          "base_uri": "https://localhost:8080/",
          "height": 53
        }
      },
      "cell_type": "code",
      "source": [
        "### Plot Frequentist\n",
        "freqdemsmean = []\n",
        "for i in range(1,16):\n",
        "    freqdemsmean.append(confidence_interval(dempoll[i].dropna()))\n",
        "print(freqdemsmean)"
      ],
      "execution_count": 26,
      "outputs": [
        {
          "output_type": "stream",
          "text": [
            "[(0.6046511627906976, 0.5445926997425515, 0.6647096258388437), (0.502092050209205, 0.43824514095228484, 0.5659389594661252), (0.8884615384615384, 0.8499435153340716, 0.9269795615890052), (0.05405405405405406, 0.026331861497208852, 0.08177624661089926), (0.21568627450980393, 0.1648631139997972, 0.26650943501981067), (0.47674418604651164, 0.41539182663748236, 0.5380965454555409), (0.7722007722007722, 0.7207820216365644, 0.8236195227649801), (0.8288973384030418, 0.7830845214499413, 0.8747101553561423), (0.7580645161290323, 0.7043940111605527, 0.8117350210975118), (0.4714828897338403, 0.41075744059137587, 0.5322083388763047), (0.5058823529411764, 0.4441027014712158, 0.5676620044111371), (0.14457831325301204, 0.10059494022327561, 0.18856168628274847), (0.2896825396825397, 0.23329310265193048, 0.34607197671314893), (0.35019455252918286, 0.2914817910969736, 0.4089073139613921), (0.6374501992031872, 0.5775687099725446, 0.6973316884338299)]\n"
          ],
          "name": "stdout"
        }
      ]
    },
    {
      "metadata": {
        "id": "cdvhOld0x7sB",
        "colab_type": "code",
        "colab": {
          "base_uri": "https://localhost:8080/",
          "height": 158
        },
        "outputId": "4820f264-5689-4d6d-f3a8-114d74eb48cd"
      },
      "cell_type": "code",
      "source": [
        "baydemsmeanci.plt\n"
      ],
      "execution_count": 29,
      "outputs": [
        {
          "output_type": "error",
          "ename": "AttributeError",
          "evalue": "ignored",
          "traceback": [
            "\u001b[0;31m---------------------------------------------------------------------------\u001b[0m",
            "\u001b[0;31mAttributeError\u001b[0m                            Traceback (most recent call last)",
            "\u001b[0;32m<ipython-input-29-068caace2448>\u001b[0m in \u001b[0;36m<module>\u001b[0;34m()\u001b[0m\n\u001b[0;32m----> 1\u001b[0;31m \u001b[0mbaydemsmeanci\u001b[0m\u001b[0;34m.\u001b[0m\u001b[0mplt\u001b[0m\u001b[0;34m\u001b[0m\u001b[0;34m\u001b[0m\u001b[0m\n\u001b[0m",
            "\u001b[0;31mAttributeError\u001b[0m: 'list' object has no attribute 'plt'"
          ]
        }
      ]
    },
    {
      "metadata": {
        "id": "vJWu836Sx7sO",
        "colab_type": "text"
      },
      "cell_type": "markdown",
      "source": [
        "The Diff between frequentist, and baysian statistical methods.  \n",
        "Frequentists only rely on the frequency of the observations to derive their data.\n",
        "Baysians rely on the frequency and knowledge they gain prior, and during the\n",
        "observations."
      ]
    },
    {
      "metadata": {
        "colab_type": "text",
        "id": "uWgWjp3PQ3Sq"
      },
      "cell_type": "markdown",
      "source": [
        "## Resources"
      ]
    },
    {
      "metadata": {
        "colab_type": "text",
        "id": "QRgHqmYIQ9qn"
      },
      "cell_type": "markdown",
      "source": [
        "- [Worked example of Bayes rule calculation](https://en.wikipedia.org/wiki/Bayes'_theorem#Examples) (helpful as it fully breaks out the denominator)\n",
        "- [Source code for mvsdist in scipy](https://github.com/scipy/scipy/blob/90534919e139d2a81c24bf08341734ff41a3db12/scipy/stats/morestats.py#L139)"
      ]
    }
  ]
}