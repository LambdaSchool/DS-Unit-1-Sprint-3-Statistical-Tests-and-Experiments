{
  "nbformat": 4,
  "nbformat_minor": 0,
  "metadata": {
    "colab": {
      "name": "LS_DS_131_Statistics_Probability_Assignment.ipynb",
      "version": "0.3.2",
      "provenance": [],
      "collapsed_sections": [],
      "include_colab_link": true
    },
    "language_info": {
      "codemirror_mode": {
        "name": "ipython",
        "version": 3
      },
      "file_extension": ".py",
      "mimetype": "text/x-python",
      "name": "python",
      "nbconvert_exporter": "python",
      "pygments_lexer": "ipython3",
      "version": "3.7.3"
    },
    "kernelspec": {
      "display_name": "Python 3",
      "language": "python",
      "name": "python3"
    }
  },
  "cells": [
    {
      "cell_type": "markdown",
      "metadata": {
        "id": "view-in-github",
        "colab_type": "text"
      },
      "source": [
        "<a href=\"https://colab.research.google.com/github/unburied/DS-Unit-1-Sprint-3-Statistical-Tests-and-Experiments/blob/master/LS_DS_131_Statistics_Probability_Assignment.ipynb\" target=\"_parent\"><img src=\"https://colab.research.google.com/assets/colab-badge.svg\" alt=\"Open In Colab\"/></a>"
      ]
    },
    {
      "cell_type": "markdown",
      "metadata": {
        "id": "F-Mt-w7GOIlx",
        "colab_type": "text"
      },
      "source": [
        "<img align=\"left\" src=\"https://lever-client-logos.s3.amazonaws.com/864372b1-534c-480e-acd5-9711f850815c-1524247202159.png\" width=200>\n",
        "<br></br>\n",
        "<br></br>\n",
        "\n",
        "## *Data Science Unit 1 Sprint 3 Assignment 1*\n",
        "\n",
        "# Apply the t-test to real data\n",
        "\n",
        "Your assignment is to determine which issues have \"statistically significant\" differences between political parties in this [1980s congressional voting data](https://archive.ics.uci.edu/ml/datasets/Congressional+Voting+Records). The data consists of 435 instances (one for each congressperson), a class (democrat or republican), and 16 binary attributes (yes or no for voting for or against certain issues). Be aware - there are missing values!\n",
        "\n",
        "Your goals:\n",
        "\n",
        "1. Load and clean the data (or determine the best method to drop observations when running tests)\n",
        "2. Using hypothesis testing, find an issue that democrats support more than republicans with p < 0.01\n",
        "3. Using hypothesis testing, find an issue that republicans support more than democrats with p < 0.01\n",
        "4. Using hypothesis testing, find an issue where the difference between republicans and democrats has p > 0.1 (i.e. there may not be much of a difference)\n",
        "\n",
        "Note that this data will involve *2 sample* t-tests, because you're comparing averages across two groups (republicans and democrats) rather than a single group against a null hypothesis.\n",
        "\n",
        "Stretch goals:\n",
        "\n",
        "1. Refactor your code into functions so it's easy to rerun with arbitrary variables\n",
        "2. Apply hypothesis testing to your personal project data (for the purposes of this notebook you can type a summary of the hypothesis you formed and tested)"
      ]
    },
    {
      "cell_type": "code",
      "metadata": {
        "id": "hOAllm_UOIly",
        "colab_type": "code",
        "colab": {}
      },
      "source": [
        "import pandas as pd\n",
        "import numpy as np\n",
        "import seaborn as sns"
      ],
      "execution_count": 0,
      "outputs": []
    },
    {
      "cell_type": "code",
      "metadata": {
        "id": "9p_1G2YjQBqB",
        "colab_type": "code",
        "colab": {}
      },
      "source": [
        "columns = ['party', 'handicapped_infants', 'water_project_cost_sharing', \n",
        "           'adoption_of_the_budget_resolution', 'physician_fee_freeze',\n",
        "           'el_salvador_aid', 'religious_groups_in_schools', \n",
        "           'anti_satellite_test_ban', 'aid_to_nicaraguan_contras',\n",
        "           'mx_missile', 'immigration', 'synfuels_corporation_cutback',\n",
        "           'education_spending', 'superfund_right_to_sue' , 'crime' ,\n",
        "           'duty_free_exports', 'export_administration_act_south_africa']\n",
        "\n",
        "house_votes = pd.read_csv('https://archive.ics.uci.edu/ml/machine-learning-databases/voting-records/house-votes-84.data',\n",
        "                         header = None, names =  columns)"
      ],
      "execution_count": 0,
      "outputs": []
    },
    {
      "cell_type": "code",
      "metadata": {
        "id": "QnXHaz6yQHwu",
        "colab_type": "code",
        "outputId": "77141363-ff9a-45aa-ff37-ac27f70a6caf",
        "colab": {
          "base_uri": "https://localhost:8080/",
          "height": 224
        }
      },
      "source": [
        "house_votes.head()"
      ],
      "execution_count": 16,
      "outputs": [
        {
          "output_type": "execute_result",
          "data": {
            "text/html": [
              "<div>\n",
              "<style scoped>\n",
              "    .dataframe tbody tr th:only-of-type {\n",
              "        vertical-align: middle;\n",
              "    }\n",
              "\n",
              "    .dataframe tbody tr th {\n",
              "        vertical-align: top;\n",
              "    }\n",
              "\n",
              "    .dataframe thead th {\n",
              "        text-align: right;\n",
              "    }\n",
              "</style>\n",
              "<table border=\"1\" class=\"dataframe\">\n",
              "  <thead>\n",
              "    <tr style=\"text-align: right;\">\n",
              "      <th></th>\n",
              "      <th>party</th>\n",
              "      <th>handicapped_infants</th>\n",
              "      <th>water_project_cost_sharing</th>\n",
              "      <th>adoption_of_the_budget_resolution</th>\n",
              "      <th>physician_fee_freeze</th>\n",
              "      <th>el_salvador_aid</th>\n",
              "      <th>religious_groups_in_schools</th>\n",
              "      <th>anti_satellite_test_ban</th>\n",
              "      <th>aid_to_nicaraguan_contras</th>\n",
              "      <th>mx_missile</th>\n",
              "      <th>immigration</th>\n",
              "      <th>synfuels_corporation_cutback</th>\n",
              "      <th>education_spending</th>\n",
              "      <th>superfund_right_to_sue</th>\n",
              "      <th>crime</th>\n",
              "      <th>duty_free_exports</th>\n",
              "      <th>export_administration_act_south_africa</th>\n",
              "    </tr>\n",
              "  </thead>\n",
              "  <tbody>\n",
              "    <tr>\n",
              "      <th>0</th>\n",
              "      <td>republican</td>\n",
              "      <td>n</td>\n",
              "      <td>y</td>\n",
              "      <td>n</td>\n",
              "      <td>y</td>\n",
              "      <td>y</td>\n",
              "      <td>y</td>\n",
              "      <td>n</td>\n",
              "      <td>n</td>\n",
              "      <td>n</td>\n",
              "      <td>y</td>\n",
              "      <td>?</td>\n",
              "      <td>y</td>\n",
              "      <td>y</td>\n",
              "      <td>y</td>\n",
              "      <td>n</td>\n",
              "      <td>y</td>\n",
              "    </tr>\n",
              "    <tr>\n",
              "      <th>1</th>\n",
              "      <td>republican</td>\n",
              "      <td>n</td>\n",
              "      <td>y</td>\n",
              "      <td>n</td>\n",
              "      <td>y</td>\n",
              "      <td>y</td>\n",
              "      <td>y</td>\n",
              "      <td>n</td>\n",
              "      <td>n</td>\n",
              "      <td>n</td>\n",
              "      <td>n</td>\n",
              "      <td>n</td>\n",
              "      <td>y</td>\n",
              "      <td>y</td>\n",
              "      <td>y</td>\n",
              "      <td>n</td>\n",
              "      <td>?</td>\n",
              "    </tr>\n",
              "    <tr>\n",
              "      <th>2</th>\n",
              "      <td>democrat</td>\n",
              "      <td>?</td>\n",
              "      <td>y</td>\n",
              "      <td>y</td>\n",
              "      <td>?</td>\n",
              "      <td>y</td>\n",
              "      <td>y</td>\n",
              "      <td>n</td>\n",
              "      <td>n</td>\n",
              "      <td>n</td>\n",
              "      <td>n</td>\n",
              "      <td>y</td>\n",
              "      <td>n</td>\n",
              "      <td>y</td>\n",
              "      <td>y</td>\n",
              "      <td>n</td>\n",
              "      <td>n</td>\n",
              "    </tr>\n",
              "    <tr>\n",
              "      <th>3</th>\n",
              "      <td>democrat</td>\n",
              "      <td>n</td>\n",
              "      <td>y</td>\n",
              "      <td>y</td>\n",
              "      <td>n</td>\n",
              "      <td>?</td>\n",
              "      <td>y</td>\n",
              "      <td>n</td>\n",
              "      <td>n</td>\n",
              "      <td>n</td>\n",
              "      <td>n</td>\n",
              "      <td>y</td>\n",
              "      <td>n</td>\n",
              "      <td>y</td>\n",
              "      <td>n</td>\n",
              "      <td>n</td>\n",
              "      <td>y</td>\n",
              "    </tr>\n",
              "    <tr>\n",
              "      <th>4</th>\n",
              "      <td>democrat</td>\n",
              "      <td>y</td>\n",
              "      <td>y</td>\n",
              "      <td>y</td>\n",
              "      <td>n</td>\n",
              "      <td>y</td>\n",
              "      <td>y</td>\n",
              "      <td>n</td>\n",
              "      <td>n</td>\n",
              "      <td>n</td>\n",
              "      <td>n</td>\n",
              "      <td>y</td>\n",
              "      <td>?</td>\n",
              "      <td>y</td>\n",
              "      <td>y</td>\n",
              "      <td>y</td>\n",
              "      <td>y</td>\n",
              "    </tr>\n",
              "  </tbody>\n",
              "</table>\n",
              "</div>"
            ],
            "text/plain": [
              "        party  ... export_administration_act_south_africa\n",
              "0  republican  ...                                      y\n",
              "1  republican  ...                                      ?\n",
              "2    democrat  ...                                      n\n",
              "3    democrat  ...                                      y\n",
              "4    democrat  ...                                      y\n",
              "\n",
              "[5 rows x 17 columns]"
            ]
          },
          "metadata": {
            "tags": []
          },
          "execution_count": 16
        }
      ]
    },
    {
      "cell_type": "code",
      "metadata": {
        "id": "CHlFnz4IQMdV",
        "colab_type": "code",
        "outputId": "d3c81b54-3e45-4fe7-affb-929ee1d6db4c",
        "colab": {
          "base_uri": "https://localhost:8080/",
          "height": 85
        }
      },
      "source": [
        "house_votes[columns[1]].value_counts()"
      ],
      "execution_count": 17,
      "outputs": [
        {
          "output_type": "execute_result",
          "data": {
            "text/plain": [
              "n    236\n",
              "y    187\n",
              "?     12\n",
              "Name: handicapped_infants, dtype: int64"
            ]
          },
          "metadata": {
            "tags": []
          },
          "execution_count": 17
        }
      ]
    },
    {
      "cell_type": "code",
      "metadata": {
        "id": "k_Rw1WTqnVZR",
        "colab_type": "code",
        "colab": {}
      },
      "source": [
        "#Assign NA values based on the ratio in party votes\n",
        "def clean(features):  \n",
        "  \n",
        "  #get vote counts to replace NAN values\n",
        "  r_yays, r_nays = vote_counts('republican', features)\n",
        "  d_yays, d_nays = vote_counts('democrat' , features)\n",
        "  \n",
        "  #filter down to '?' for current feature and replace the top number of rows\n",
        "  #based on vote counts. Check to ensure vote counts are greater than zero\n",
        "  if r_yays > 0:\n",
        "    (house_votes.loc[(house_votes.party == 'republican') &\n",
        "                  (house_votes[features] == '?'), features])[:r_yays] = 'y'\n",
        "    (house_votes.loc[(house_votes.party == 'republican') &\n",
        "                  (house_votes[features] == '?'), features]) = 'n'\n",
        "  else:\n",
        "    (house_votes.loc[(house_votes.party == 'republican') &\n",
        "                  (house_votes[features] == '?'), features])[:r_nays] = 'n'\n",
        "    (house_votes.loc[(house_votes.party == 'republican') &\n",
        "                  (house_votes[features] == '?'), features]) = 'y'\n",
        "    \n",
        "  if d_yays > 0:\n",
        "    (house_votes.loc[(house_votes.party == 'democrat') &\n",
        "                  (house_votes[features] == '?'), features])[:d_yays] = 'y'\n",
        "    (house_votes.loc[(house_votes.party == 'democrat') &\n",
        "                  (house_votes[features] == '?'), features]) = 'n'\n",
        "  else:\n",
        "    (house_votes.loc[(house_votes.party == 'democrat') &\n",
        "                  (house_votes[features] == '?'), features])[:d_nays] = 'n'\n",
        "    (house_votes.loc[(house_votes.party == 'democrat') &\n",
        "                  (house_votes[features] == '?'), features]) = 'y'\n",
        "    \n",
        "    \n",
        "  "
      ],
      "execution_count": 0,
      "outputs": []
    },
    {
      "cell_type": "code",
      "metadata": {
        "id": "d3Ungi0aGlkO",
        "colab_type": "code",
        "colab": {}
      },
      "source": [
        "#return number of vote to fillNA based on party and feature\n",
        "def vote_counts(party, feature):\n",
        "\n",
        "    #get series of based off party and feature\n",
        "    subset = house_votes[house_votes.party == party]\n",
        "    \n",
        "    #divide values from the series\n",
        "    values = subset[feature].value_counts().to_dict()\n",
        "    yays = values['y']\n",
        "    nays = values['n']\n",
        "    abstained = values['?']\n",
        "\n",
        "    #convert above values to create NA replacement values\n",
        "    #based on ratio of current votes\n",
        "    vote_yay = int((yays / (yays + nays)) * abstained) \n",
        "    vote_nay = int((nays / (yays + nays)) * abstained)\n",
        "  \n",
        "    #ensure new values equal current NA sum\n",
        "    if (vote_yay - vote_nay) > 0:\n",
        "      while  (vote_yay + vote_nay) < abstained:\n",
        "            vote_yay += 1\n",
        "    else: \n",
        "      while (vote_yay + vote_nay) < abstained:\n",
        "             vote_nay += 1\n",
        "\n",
        "    return vote_yay, vote_nay"
      ],
      "execution_count": 0,
      "outputs": []
    },
    {
      "cell_type": "code",
      "metadata": {
        "id": "cII48qN6HO3Z",
        "colab_type": "code",
        "colab": {}
      },
      "source": [
        "#CLean all '?' values in dataframe based on ratio of party votes\n",
        "columns.pop(0)\n",
        "\n",
        "for col in columns:\n",
        "  clean(col)"
      ],
      "execution_count": 0,
      "outputs": []
    },
    {
      "cell_type": "code",
      "metadata": {
        "id": "wuB9mWXlk4WR",
        "colab_type": "code",
        "outputId": "9efd2c2c-8bb0-4237-da49-120d3741d39b",
        "colab": {
          "base_uri": "https://localhost:8080/",
          "height": 68
        }
      },
      "source": [
        "house_votes[columns[0]].value_counts()"
      ],
      "execution_count": 21,
      "outputs": [
        {
          "output_type": "execute_result",
          "data": {
            "text/plain": [
              "n    245\n",
              "y    190\n",
              "Name: handicapped_infants, dtype: int64"
            ]
          },
          "metadata": {
            "tags": []
          },
          "execution_count": 21
        }
      ]
    },
    {
      "cell_type": "code",
      "metadata": {
        "id": "FsDCnZapk9KX",
        "colab_type": "code",
        "colab": {}
      },
      "source": [
        "from scipy.stats import ttest_ind, ttest_ind_from_stats, ttest_rel"
      ],
      "execution_count": 0,
      "outputs": []
    },
    {
      "cell_type": "code",
      "metadata": {
        "id": "5ax5wl5iopq5",
        "colab_type": "code",
        "colab": {}
      },
      "source": [
        "for col in columns:\n",
        "  house_votes[col] = np.where(house_votes[col] == 'y', 1,0) "
      ],
      "execution_count": 0,
      "outputs": []
    },
    {
      "cell_type": "code",
      "metadata": {
        "id": "6nv5i_sPpSEn",
        "colab_type": "code",
        "outputId": "3c2a8b5e-2f04-4592-f9fd-c5f593b7ad23",
        "colab": {
          "base_uri": "https://localhost:8080/",
          "height": 224
        }
      },
      "source": [
        "house_votes.head()"
      ],
      "execution_count": 24,
      "outputs": [
        {
          "output_type": "execute_result",
          "data": {
            "text/html": [
              "<div>\n",
              "<style scoped>\n",
              "    .dataframe tbody tr th:only-of-type {\n",
              "        vertical-align: middle;\n",
              "    }\n",
              "\n",
              "    .dataframe tbody tr th {\n",
              "        vertical-align: top;\n",
              "    }\n",
              "\n",
              "    .dataframe thead th {\n",
              "        text-align: right;\n",
              "    }\n",
              "</style>\n",
              "<table border=\"1\" class=\"dataframe\">\n",
              "  <thead>\n",
              "    <tr style=\"text-align: right;\">\n",
              "      <th></th>\n",
              "      <th>party</th>\n",
              "      <th>handicapped_infants</th>\n",
              "      <th>water_project_cost_sharing</th>\n",
              "      <th>adoption_of_the_budget_resolution</th>\n",
              "      <th>physician_fee_freeze</th>\n",
              "      <th>el_salvador_aid</th>\n",
              "      <th>religious_groups_in_schools</th>\n",
              "      <th>anti_satellite_test_ban</th>\n",
              "      <th>aid_to_nicaraguan_contras</th>\n",
              "      <th>mx_missile</th>\n",
              "      <th>immigration</th>\n",
              "      <th>synfuels_corporation_cutback</th>\n",
              "      <th>education_spending</th>\n",
              "      <th>superfund_right_to_sue</th>\n",
              "      <th>crime</th>\n",
              "      <th>duty_free_exports</th>\n",
              "      <th>export_administration_act_south_africa</th>\n",
              "    </tr>\n",
              "  </thead>\n",
              "  <tbody>\n",
              "    <tr>\n",
              "      <th>0</th>\n",
              "      <td>republican</td>\n",
              "      <td>0</td>\n",
              "      <td>1</td>\n",
              "      <td>0</td>\n",
              "      <td>1</td>\n",
              "      <td>1</td>\n",
              "      <td>1</td>\n",
              "      <td>0</td>\n",
              "      <td>0</td>\n",
              "      <td>0</td>\n",
              "      <td>1</td>\n",
              "      <td>0</td>\n",
              "      <td>1</td>\n",
              "      <td>1</td>\n",
              "      <td>1</td>\n",
              "      <td>0</td>\n",
              "      <td>1</td>\n",
              "    </tr>\n",
              "    <tr>\n",
              "      <th>1</th>\n",
              "      <td>republican</td>\n",
              "      <td>0</td>\n",
              "      <td>1</td>\n",
              "      <td>0</td>\n",
              "      <td>1</td>\n",
              "      <td>1</td>\n",
              "      <td>1</td>\n",
              "      <td>0</td>\n",
              "      <td>0</td>\n",
              "      <td>0</td>\n",
              "      <td>0</td>\n",
              "      <td>0</td>\n",
              "      <td>1</td>\n",
              "      <td>1</td>\n",
              "      <td>1</td>\n",
              "      <td>0</td>\n",
              "      <td>0</td>\n",
              "    </tr>\n",
              "    <tr>\n",
              "      <th>2</th>\n",
              "      <td>democrat</td>\n",
              "      <td>0</td>\n",
              "      <td>1</td>\n",
              "      <td>1</td>\n",
              "      <td>1</td>\n",
              "      <td>1</td>\n",
              "      <td>1</td>\n",
              "      <td>0</td>\n",
              "      <td>0</td>\n",
              "      <td>0</td>\n",
              "      <td>0</td>\n",
              "      <td>1</td>\n",
              "      <td>0</td>\n",
              "      <td>1</td>\n",
              "      <td>1</td>\n",
              "      <td>0</td>\n",
              "      <td>0</td>\n",
              "    </tr>\n",
              "    <tr>\n",
              "      <th>3</th>\n",
              "      <td>democrat</td>\n",
              "      <td>0</td>\n",
              "      <td>1</td>\n",
              "      <td>1</td>\n",
              "      <td>0</td>\n",
              "      <td>0</td>\n",
              "      <td>1</td>\n",
              "      <td>0</td>\n",
              "      <td>0</td>\n",
              "      <td>0</td>\n",
              "      <td>0</td>\n",
              "      <td>1</td>\n",
              "      <td>0</td>\n",
              "      <td>1</td>\n",
              "      <td>0</td>\n",
              "      <td>0</td>\n",
              "      <td>1</td>\n",
              "    </tr>\n",
              "    <tr>\n",
              "      <th>4</th>\n",
              "      <td>democrat</td>\n",
              "      <td>1</td>\n",
              "      <td>1</td>\n",
              "      <td>1</td>\n",
              "      <td>0</td>\n",
              "      <td>1</td>\n",
              "      <td>1</td>\n",
              "      <td>0</td>\n",
              "      <td>0</td>\n",
              "      <td>0</td>\n",
              "      <td>0</td>\n",
              "      <td>1</td>\n",
              "      <td>0</td>\n",
              "      <td>1</td>\n",
              "      <td>1</td>\n",
              "      <td>1</td>\n",
              "      <td>1</td>\n",
              "    </tr>\n",
              "  </tbody>\n",
              "</table>\n",
              "</div>"
            ],
            "text/plain": [
              "        party  ...  export_administration_act_south_africa\n",
              "0  republican  ...                                       1\n",
              "1  republican  ...                                       0\n",
              "2    democrat  ...                                       0\n",
              "3    democrat  ...                                       1\n",
              "4    democrat  ...                                       1\n",
              "\n",
              "[5 rows x 17 columns]"
            ]
          },
          "metadata": {
            "tags": []
          },
          "execution_count": 24
        }
      ]
    },
    {
      "cell_type": "code",
      "metadata": {
        "id": "FQq7Tir6oegR",
        "colab_type": "code",
        "colab": {}
      },
      "source": [
        "def ptest(feature):\n",
        "  repubs = house_votes.loc[(house_votes.party == 'republican') , feature]\n",
        "  dems = house_votes.loc[(house_votes.party == 'democrat') , feature]\n",
        "\n",
        "  sts, pval =  ttest_ind(repubs, dems)\n",
        "\n",
        "  return sts, pval"
      ],
      "execution_count": 0,
      "outputs": []
    },
    {
      "cell_type": "code",
      "metadata": {
        "id": "Jo8n-vl3qPSF",
        "colab_type": "code",
        "colab": {}
      },
      "source": [
        "def party_issues_test(feature):\n",
        "  sts, pval = ptest(feature)\n",
        "  \n",
        "  if int(sts) < 0 and pval < .01:\n",
        "    return 'Republican'\n",
        "  elif int(sts) > 0 and pval <.01:\n",
        "    return 'Democrat'\n",
        "  else:\n",
        "    return 'Center'"
      ],
      "execution_count": 0,
      "outputs": []
    },
    {
      "cell_type": "code",
      "metadata": {
        "id": "I84W2U9aKp2n",
        "colab_type": "code",
        "colab": {
          "base_uri": "https://localhost:8080/",
          "height": 289
        },
        "outputId": "f89c8170-a046-483f-b988-8759be084818"
      },
      "source": [
        "for col in columns:\n",
        "  print(\"The\", col, ' issue is a ', party_issues_test(col), ' supported issue')"
      ],
      "execution_count": 108,
      "outputs": [
        {
          "output_type": "stream",
          "text": [
            "The handicapped_infants  issue is a  Republican  supported issue\n",
            "The water_project_cost_sharing  issue is a  Center  supported issue\n",
            "The adoption_of_the_budget_resolution  issue is a  Republican  supported issue\n",
            "The physician_fee_freeze  issue is a  Democrat  supported issue\n",
            "The el_salvador_aid  issue is a  Democrat  supported issue\n",
            "The religious_groups_in_schools  issue is a  Democrat  supported issue\n",
            "The anti_satellite_test_ban  issue is a  Republican  supported issue\n",
            "The aid_to_nicaraguan_contras  issue is a  Republican  supported issue\n",
            "The mx_missile  issue is a  Republican  supported issue\n",
            "The immigration  issue is a  Center  supported issue\n",
            "The synfuels_corporation_cutback  issue is a  Republican  supported issue\n",
            "The education_spending  issue is a  Democrat  supported issue\n",
            "The superfund_right_to_sue  issue is a  Democrat  supported issue\n",
            "The crime  issue is a  Democrat  supported issue\n",
            "The duty_free_exports  issue is a  Republican  supported issue\n",
            "The export_administration_act_south_africa  issue is a  Center  supported issue\n"
          ],
          "name": "stdout"
        }
      ]
    }
  ]
}