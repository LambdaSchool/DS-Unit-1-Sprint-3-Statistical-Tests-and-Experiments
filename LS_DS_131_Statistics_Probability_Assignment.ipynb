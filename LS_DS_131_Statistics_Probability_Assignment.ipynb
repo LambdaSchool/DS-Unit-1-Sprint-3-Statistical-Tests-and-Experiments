{
  "nbformat": 4,
  "nbformat_minor": 0,
  "metadata": {
    "kernelspec": {
      "display_name": "Python 3",
      "language": "python",
      "name": "python3"
    },
    "language_info": {
      "codemirror_mode": {
        "name": "ipython",
        "version": 3
      },
      "file_extension": ".py",
      "mimetype": "text/x-python",
      "name": "python",
      "nbconvert_exporter": "python",
      "pygments_lexer": "ipython3",
      "version": "3.7.3"
    },
    "colab": {
      "name": "LS_DS_131_Statistics_Probability_Assignment.ipynb",
      "version": "0.3.2",
      "provenance": [],
      "include_colab_link": true
    }
  },
  "cells": [
    {
      "cell_type": "markdown",
      "metadata": {
        "id": "view-in-github",
        "colab_type": "text"
      },
      "source": [
        "<a href=\"https://colab.research.google.com/github/justin-hsieh/DS-Unit-1-Sprint-3-Statistical-Tests-and-Experiments/blob/master/LS_DS_131_Statistics_Probability_Assignment.ipynb\" target=\"_parent\"><img src=\"https://colab.research.google.com/assets/colab-badge.svg\" alt=\"Open In Colab\"/></a>"
      ]
    },
    {
      "cell_type": "markdown",
      "metadata": {
        "id": "MT4gJ_O5km2_",
        "colab_type": "text"
      },
      "source": [
        "<img align=\"left\" src=\"https://lever-client-logos.s3.amazonaws.com/864372b1-534c-480e-acd5-9711f850815c-1524247202159.png\" width=200>\n",
        "<br></br>\n",
        "<br></br>\n",
        "\n",
        "## *Data Science Unit 1 Sprint 3 Assignment 1*\n",
        "\n",
        "# Apply the t-test to real data\n",
        "\n",
        "Your assignment is to determine which issues have \"statistically significant\" differences between political parties in this [1980s congressional voting data](https://archive.ics.uci.edu/ml/datasets/Congressional+Voting+Records). The data consists of 435 instances (one for each congressperson), a class (democrat or republican), and 16 binary attributes (yes or no for voting for or against certain issues). Be aware - there are missing values!\n",
        "\n",
        "Your goals:\n",
        "\n",
        "1. Load and clean the data (or determine the best method to drop observations when running tests)\n",
        "2. Using hypothesis testing, find an issue that democrats support more than republicans with p < 0.01\n",
        "3. Using hypothesis testing, find an issue that republicans support more than democrats with p < 0.01\n",
        "4. Using hypothesis testing, find an issue where the difference between republicans and democrats has p > 0.1 (i.e. there may not be much of a difference)\n",
        "\n",
        "Note that this data will involve *2 sample* t-tests, because you're comparing averages across two groups (republicans and democrats) rather than a single group against a null hypothesis.\n",
        "\n",
        "Stretch goals:\n",
        "\n",
        "1. Refactor your code into functions so it's easy to rerun with arbitrary variables\n",
        "2. Apply hypothesis testing to your personal project data (for the purposes of this notebook you can type a summary of the hypothesis you formed and tested)"
      ]
    },
    {
      "cell_type": "code",
      "metadata": {
        "id": "7DD5Llm3km3D",
        "colab_type": "code",
        "colab": {}
      },
      "source": [
        "import pandas as pd\n",
        "import numpy as np\n",
        "from scipy.stats import ttest_1samp\n",
        "from scipy.stats import ttest_ind, ttest_ind_from_stats, ttest_rel"
      ],
      "execution_count": 0,
      "outputs": []
    },
    {
      "cell_type": "code",
      "metadata": {
        "id": "IhR6j1Zjxdhh",
        "colab_type": "code",
        "colab": {
          "base_uri": "https://localhost:8080/",
          "height": 241
        },
        "outputId": "cc8c35d9-9886-499e-f149-3eacd5b71822"
      },
      "source": [
        "df = pd.read_csv('house-votes-84.data')\n",
        "df.columns = ['Class Name', 'Handicapped_Infants','Water_project_cost_sharing',\n",
        "              'Adoption_of_the_budget_res',\n",
        "              'Physician_fee_freeze','El_Salvador_aid', 'Religious_Groups_in_schools',\n",
        "              'Anti_Satellite_test_ban','Aid_to_Nicaraguan_contras','Mx_missile',\n",
        "              'Immigration','Synfuels_corporation_cutback','Education_spending',\n",
        "              'Superfund_right_to_sue','Crime','Duty_free_exports','export_Admin_act_SA']\n",
        "df.replace({'y':  1, 'n': 0,'?': np.nan}, inplace=True)\n",
        "df.head()"
      ],
      "execution_count": 3,
      "outputs": [
        {
          "output_type": "execute_result",
          "data": {
            "text/html": [
              "<div>\n",
              "<style scoped>\n",
              "    .dataframe tbody tr th:only-of-type {\n",
              "        vertical-align: middle;\n",
              "    }\n",
              "\n",
              "    .dataframe tbody tr th {\n",
              "        vertical-align: top;\n",
              "    }\n",
              "\n",
              "    .dataframe thead th {\n",
              "        text-align: right;\n",
              "    }\n",
              "</style>\n",
              "<table border=\"1\" class=\"dataframe\">\n",
              "  <thead>\n",
              "    <tr style=\"text-align: right;\">\n",
              "      <th></th>\n",
              "      <th>Class Name</th>\n",
              "      <th>Handicapped_Infants</th>\n",
              "      <th>Water_project_cost_sharing</th>\n",
              "      <th>Adoption_of_the_budget_res</th>\n",
              "      <th>Physician_fee_freeze</th>\n",
              "      <th>El_Salvador_aid</th>\n",
              "      <th>Religious_Groups_in_schools</th>\n",
              "      <th>Anti_Satellite_test_ban</th>\n",
              "      <th>Aid_to_Nicaraguan_contras</th>\n",
              "      <th>Mx_missile</th>\n",
              "      <th>Immigration</th>\n",
              "      <th>Synfuels_corporation_cutback</th>\n",
              "      <th>Education_spending</th>\n",
              "      <th>Superfund_right_to_sue</th>\n",
              "      <th>Crime</th>\n",
              "      <th>Duty_free_exports</th>\n",
              "      <th>export_Admin_act_SA</th>\n",
              "    </tr>\n",
              "  </thead>\n",
              "  <tbody>\n",
              "    <tr>\n",
              "      <th>0</th>\n",
              "      <td>republican</td>\n",
              "      <td>0.0</td>\n",
              "      <td>1.0</td>\n",
              "      <td>0.0</td>\n",
              "      <td>1.0</td>\n",
              "      <td>1.0</td>\n",
              "      <td>1.0</td>\n",
              "      <td>0.0</td>\n",
              "      <td>0.0</td>\n",
              "      <td>0.0</td>\n",
              "      <td>0.0</td>\n",
              "      <td>0.0</td>\n",
              "      <td>1.0</td>\n",
              "      <td>1.0</td>\n",
              "      <td>1.0</td>\n",
              "      <td>0.0</td>\n",
              "      <td>NaN</td>\n",
              "    </tr>\n",
              "    <tr>\n",
              "      <th>1</th>\n",
              "      <td>democrat</td>\n",
              "      <td>NaN</td>\n",
              "      <td>1.0</td>\n",
              "      <td>1.0</td>\n",
              "      <td>NaN</td>\n",
              "      <td>1.0</td>\n",
              "      <td>1.0</td>\n",
              "      <td>0.0</td>\n",
              "      <td>0.0</td>\n",
              "      <td>0.0</td>\n",
              "      <td>0.0</td>\n",
              "      <td>1.0</td>\n",
              "      <td>0.0</td>\n",
              "      <td>1.0</td>\n",
              "      <td>1.0</td>\n",
              "      <td>0.0</td>\n",
              "      <td>0.0</td>\n",
              "    </tr>\n",
              "    <tr>\n",
              "      <th>2</th>\n",
              "      <td>democrat</td>\n",
              "      <td>0.0</td>\n",
              "      <td>1.0</td>\n",
              "      <td>1.0</td>\n",
              "      <td>0.0</td>\n",
              "      <td>NaN</td>\n",
              "      <td>1.0</td>\n",
              "      <td>0.0</td>\n",
              "      <td>0.0</td>\n",
              "      <td>0.0</td>\n",
              "      <td>0.0</td>\n",
              "      <td>1.0</td>\n",
              "      <td>0.0</td>\n",
              "      <td>1.0</td>\n",
              "      <td>0.0</td>\n",
              "      <td>0.0</td>\n",
              "      <td>1.0</td>\n",
              "    </tr>\n",
              "    <tr>\n",
              "      <th>3</th>\n",
              "      <td>democrat</td>\n",
              "      <td>1.0</td>\n",
              "      <td>1.0</td>\n",
              "      <td>1.0</td>\n",
              "      <td>0.0</td>\n",
              "      <td>1.0</td>\n",
              "      <td>1.0</td>\n",
              "      <td>0.0</td>\n",
              "      <td>0.0</td>\n",
              "      <td>0.0</td>\n",
              "      <td>0.0</td>\n",
              "      <td>1.0</td>\n",
              "      <td>NaN</td>\n",
              "      <td>1.0</td>\n",
              "      <td>1.0</td>\n",
              "      <td>1.0</td>\n",
              "      <td>1.0</td>\n",
              "    </tr>\n",
              "    <tr>\n",
              "      <th>4</th>\n",
              "      <td>democrat</td>\n",
              "      <td>0.0</td>\n",
              "      <td>1.0</td>\n",
              "      <td>1.0</td>\n",
              "      <td>0.0</td>\n",
              "      <td>1.0</td>\n",
              "      <td>1.0</td>\n",
              "      <td>0.0</td>\n",
              "      <td>0.0</td>\n",
              "      <td>0.0</td>\n",
              "      <td>0.0</td>\n",
              "      <td>0.0</td>\n",
              "      <td>0.0</td>\n",
              "      <td>1.0</td>\n",
              "      <td>1.0</td>\n",
              "      <td>1.0</td>\n",
              "      <td>1.0</td>\n",
              "    </tr>\n",
              "  </tbody>\n",
              "</table>\n",
              "</div>"
            ],
            "text/plain": [
              "   Class Name  Handicapped_Infants  ...  Duty_free_exports  export_Admin_act_SA\n",
              "0  republican                  0.0  ...                0.0                  NaN\n",
              "1    democrat                  NaN  ...                0.0                  0.0\n",
              "2    democrat                  0.0  ...                0.0                  1.0\n",
              "3    democrat                  1.0  ...                1.0                  1.0\n",
              "4    democrat                  0.0  ...                1.0                  1.0\n",
              "\n",
              "[5 rows x 17 columns]"
            ]
          },
          "metadata": {
            "tags": []
          },
          "execution_count": 3
        }
      ]
    },
    {
      "cell_type": "code",
      "metadata": {
        "id": "akSfrJI9zZtY",
        "colab_type": "code",
        "colab": {
          "base_uri": "https://localhost:8080/",
          "height": 241
        },
        "outputId": "cece1ad3-1b20-4532-fd3d-4d4c7f3b8f78"
      },
      "source": [
        "dems = df[df['Class Name'] == 'democrat']\n",
        "dems.head()"
      ],
      "execution_count": 4,
      "outputs": [
        {
          "output_type": "execute_result",
          "data": {
            "text/html": [
              "<div>\n",
              "<style scoped>\n",
              "    .dataframe tbody tr th:only-of-type {\n",
              "        vertical-align: middle;\n",
              "    }\n",
              "\n",
              "    .dataframe tbody tr th {\n",
              "        vertical-align: top;\n",
              "    }\n",
              "\n",
              "    .dataframe thead th {\n",
              "        text-align: right;\n",
              "    }\n",
              "</style>\n",
              "<table border=\"1\" class=\"dataframe\">\n",
              "  <thead>\n",
              "    <tr style=\"text-align: right;\">\n",
              "      <th></th>\n",
              "      <th>Class Name</th>\n",
              "      <th>Handicapped_Infants</th>\n",
              "      <th>Water_project_cost_sharing</th>\n",
              "      <th>Adoption_of_the_budget_res</th>\n",
              "      <th>Physician_fee_freeze</th>\n",
              "      <th>El_Salvador_aid</th>\n",
              "      <th>Religious_Groups_in_schools</th>\n",
              "      <th>Anti_Satellite_test_ban</th>\n",
              "      <th>Aid_to_Nicaraguan_contras</th>\n",
              "      <th>Mx_missile</th>\n",
              "      <th>Immigration</th>\n",
              "      <th>Synfuels_corporation_cutback</th>\n",
              "      <th>Education_spending</th>\n",
              "      <th>Superfund_right_to_sue</th>\n",
              "      <th>Crime</th>\n",
              "      <th>Duty_free_exports</th>\n",
              "      <th>export_Admin_act_SA</th>\n",
              "    </tr>\n",
              "  </thead>\n",
              "  <tbody>\n",
              "    <tr>\n",
              "      <th>1</th>\n",
              "      <td>democrat</td>\n",
              "      <td>NaN</td>\n",
              "      <td>1.0</td>\n",
              "      <td>1.0</td>\n",
              "      <td>NaN</td>\n",
              "      <td>1.0</td>\n",
              "      <td>1.0</td>\n",
              "      <td>0.0</td>\n",
              "      <td>0.0</td>\n",
              "      <td>0.0</td>\n",
              "      <td>0.0</td>\n",
              "      <td>1.0</td>\n",
              "      <td>0.0</td>\n",
              "      <td>1.0</td>\n",
              "      <td>1.0</td>\n",
              "      <td>0.0</td>\n",
              "      <td>0.0</td>\n",
              "    </tr>\n",
              "    <tr>\n",
              "      <th>2</th>\n",
              "      <td>democrat</td>\n",
              "      <td>0.0</td>\n",
              "      <td>1.0</td>\n",
              "      <td>1.0</td>\n",
              "      <td>0.0</td>\n",
              "      <td>NaN</td>\n",
              "      <td>1.0</td>\n",
              "      <td>0.0</td>\n",
              "      <td>0.0</td>\n",
              "      <td>0.0</td>\n",
              "      <td>0.0</td>\n",
              "      <td>1.0</td>\n",
              "      <td>0.0</td>\n",
              "      <td>1.0</td>\n",
              "      <td>0.0</td>\n",
              "      <td>0.0</td>\n",
              "      <td>1.0</td>\n",
              "    </tr>\n",
              "    <tr>\n",
              "      <th>3</th>\n",
              "      <td>democrat</td>\n",
              "      <td>1.0</td>\n",
              "      <td>1.0</td>\n",
              "      <td>1.0</td>\n",
              "      <td>0.0</td>\n",
              "      <td>1.0</td>\n",
              "      <td>1.0</td>\n",
              "      <td>0.0</td>\n",
              "      <td>0.0</td>\n",
              "      <td>0.0</td>\n",
              "      <td>0.0</td>\n",
              "      <td>1.0</td>\n",
              "      <td>NaN</td>\n",
              "      <td>1.0</td>\n",
              "      <td>1.0</td>\n",
              "      <td>1.0</td>\n",
              "      <td>1.0</td>\n",
              "    </tr>\n",
              "    <tr>\n",
              "      <th>4</th>\n",
              "      <td>democrat</td>\n",
              "      <td>0.0</td>\n",
              "      <td>1.0</td>\n",
              "      <td>1.0</td>\n",
              "      <td>0.0</td>\n",
              "      <td>1.0</td>\n",
              "      <td>1.0</td>\n",
              "      <td>0.0</td>\n",
              "      <td>0.0</td>\n",
              "      <td>0.0</td>\n",
              "      <td>0.0</td>\n",
              "      <td>0.0</td>\n",
              "      <td>0.0</td>\n",
              "      <td>1.0</td>\n",
              "      <td>1.0</td>\n",
              "      <td>1.0</td>\n",
              "      <td>1.0</td>\n",
              "    </tr>\n",
              "    <tr>\n",
              "      <th>5</th>\n",
              "      <td>democrat</td>\n",
              "      <td>0.0</td>\n",
              "      <td>1.0</td>\n",
              "      <td>0.0</td>\n",
              "      <td>1.0</td>\n",
              "      <td>1.0</td>\n",
              "      <td>1.0</td>\n",
              "      <td>0.0</td>\n",
              "      <td>0.0</td>\n",
              "      <td>0.0</td>\n",
              "      <td>0.0</td>\n",
              "      <td>0.0</td>\n",
              "      <td>0.0</td>\n",
              "      <td>NaN</td>\n",
              "      <td>1.0</td>\n",
              "      <td>1.0</td>\n",
              "      <td>1.0</td>\n",
              "    </tr>\n",
              "  </tbody>\n",
              "</table>\n",
              "</div>"
            ],
            "text/plain": [
              "  Class Name  Handicapped_Infants  ...  Duty_free_exports  export_Admin_act_SA\n",
              "1   democrat                  NaN  ...                0.0                  0.0\n",
              "2   democrat                  0.0  ...                0.0                  1.0\n",
              "3   democrat                  1.0  ...                1.0                  1.0\n",
              "4   democrat                  0.0  ...                1.0                  1.0\n",
              "5   democrat                  0.0  ...                1.0                  1.0\n",
              "\n",
              "[5 rows x 17 columns]"
            ]
          },
          "metadata": {
            "tags": []
          },
          "execution_count": 4
        }
      ]
    },
    {
      "cell_type": "code",
      "metadata": {
        "id": "RyiIAZhTzkse",
        "colab_type": "code",
        "colab": {
          "base_uri": "https://localhost:8080/",
          "height": 241
        },
        "outputId": "6d88f17c-410b-495f-b21b-ec3971a85c31"
      },
      "source": [
        "reps = df[df['Class Name'] == 'republican']\n",
        "reps.head()"
      ],
      "execution_count": 5,
      "outputs": [
        {
          "output_type": "execute_result",
          "data": {
            "text/html": [
              "<div>\n",
              "<style scoped>\n",
              "    .dataframe tbody tr th:only-of-type {\n",
              "        vertical-align: middle;\n",
              "    }\n",
              "\n",
              "    .dataframe tbody tr th {\n",
              "        vertical-align: top;\n",
              "    }\n",
              "\n",
              "    .dataframe thead th {\n",
              "        text-align: right;\n",
              "    }\n",
              "</style>\n",
              "<table border=\"1\" class=\"dataframe\">\n",
              "  <thead>\n",
              "    <tr style=\"text-align: right;\">\n",
              "      <th></th>\n",
              "      <th>Class Name</th>\n",
              "      <th>Handicapped_Infants</th>\n",
              "      <th>Water_project_cost_sharing</th>\n",
              "      <th>Adoption_of_the_budget_res</th>\n",
              "      <th>Physician_fee_freeze</th>\n",
              "      <th>El_Salvador_aid</th>\n",
              "      <th>Religious_Groups_in_schools</th>\n",
              "      <th>Anti_Satellite_test_ban</th>\n",
              "      <th>Aid_to_Nicaraguan_contras</th>\n",
              "      <th>Mx_missile</th>\n",
              "      <th>Immigration</th>\n",
              "      <th>Synfuels_corporation_cutback</th>\n",
              "      <th>Education_spending</th>\n",
              "      <th>Superfund_right_to_sue</th>\n",
              "      <th>Crime</th>\n",
              "      <th>Duty_free_exports</th>\n",
              "      <th>export_Admin_act_SA</th>\n",
              "    </tr>\n",
              "  </thead>\n",
              "  <tbody>\n",
              "    <tr>\n",
              "      <th>0</th>\n",
              "      <td>republican</td>\n",
              "      <td>0.0</td>\n",
              "      <td>1.0</td>\n",
              "      <td>0.0</td>\n",
              "      <td>1.0</td>\n",
              "      <td>1.0</td>\n",
              "      <td>1.0</td>\n",
              "      <td>0.0</td>\n",
              "      <td>0.0</td>\n",
              "      <td>0.0</td>\n",
              "      <td>0.0</td>\n",
              "      <td>0.0</td>\n",
              "      <td>1.0</td>\n",
              "      <td>1.0</td>\n",
              "      <td>1.0</td>\n",
              "      <td>0.0</td>\n",
              "      <td>NaN</td>\n",
              "    </tr>\n",
              "    <tr>\n",
              "      <th>6</th>\n",
              "      <td>republican</td>\n",
              "      <td>0.0</td>\n",
              "      <td>1.0</td>\n",
              "      <td>0.0</td>\n",
              "      <td>1.0</td>\n",
              "      <td>1.0</td>\n",
              "      <td>1.0</td>\n",
              "      <td>0.0</td>\n",
              "      <td>0.0</td>\n",
              "      <td>0.0</td>\n",
              "      <td>0.0</td>\n",
              "      <td>0.0</td>\n",
              "      <td>0.0</td>\n",
              "      <td>1.0</td>\n",
              "      <td>1.0</td>\n",
              "      <td>NaN</td>\n",
              "      <td>1.0</td>\n",
              "    </tr>\n",
              "    <tr>\n",
              "      <th>7</th>\n",
              "      <td>republican</td>\n",
              "      <td>0.0</td>\n",
              "      <td>1.0</td>\n",
              "      <td>0.0</td>\n",
              "      <td>1.0</td>\n",
              "      <td>1.0</td>\n",
              "      <td>1.0</td>\n",
              "      <td>0.0</td>\n",
              "      <td>0.0</td>\n",
              "      <td>0.0</td>\n",
              "      <td>0.0</td>\n",
              "      <td>0.0</td>\n",
              "      <td>1.0</td>\n",
              "      <td>1.0</td>\n",
              "      <td>1.0</td>\n",
              "      <td>0.0</td>\n",
              "      <td>1.0</td>\n",
              "    </tr>\n",
              "    <tr>\n",
              "      <th>9</th>\n",
              "      <td>republican</td>\n",
              "      <td>0.0</td>\n",
              "      <td>1.0</td>\n",
              "      <td>0.0</td>\n",
              "      <td>1.0</td>\n",
              "      <td>1.0</td>\n",
              "      <td>0.0</td>\n",
              "      <td>0.0</td>\n",
              "      <td>0.0</td>\n",
              "      <td>0.0</td>\n",
              "      <td>0.0</td>\n",
              "      <td>NaN</td>\n",
              "      <td>NaN</td>\n",
              "      <td>1.0</td>\n",
              "      <td>1.0</td>\n",
              "      <td>0.0</td>\n",
              "      <td>0.0</td>\n",
              "    </tr>\n",
              "    <tr>\n",
              "      <th>10</th>\n",
              "      <td>republican</td>\n",
              "      <td>0.0</td>\n",
              "      <td>1.0</td>\n",
              "      <td>0.0</td>\n",
              "      <td>1.0</td>\n",
              "      <td>1.0</td>\n",
              "      <td>1.0</td>\n",
              "      <td>0.0</td>\n",
              "      <td>0.0</td>\n",
              "      <td>0.0</td>\n",
              "      <td>0.0</td>\n",
              "      <td>1.0</td>\n",
              "      <td>NaN</td>\n",
              "      <td>1.0</td>\n",
              "      <td>1.0</td>\n",
              "      <td>NaN</td>\n",
              "      <td>NaN</td>\n",
              "    </tr>\n",
              "  </tbody>\n",
              "</table>\n",
              "</div>"
            ],
            "text/plain": [
              "    Class Name  Handicapped_Infants  ...  Duty_free_exports  export_Admin_act_SA\n",
              "0   republican                  0.0  ...                0.0                  NaN\n",
              "6   republican                  0.0  ...                NaN                  1.0\n",
              "7   republican                  0.0  ...                0.0                  1.0\n",
              "9   republican                  0.0  ...                0.0                  0.0\n",
              "10  republican                  0.0  ...                NaN                  NaN\n",
              "\n",
              "[5 rows x 17 columns]"
            ]
          },
          "metadata": {
            "tags": []
          },
          "execution_count": 5
        }
      ]
    },
    {
      "cell_type": "markdown",
      "metadata": {
        "id": "PGVHm2HIoo47",
        "colab_type": "text"
      },
      "source": [
        "##1-Sample t-test Example\n",
        "\n"
      ]
    },
    {
      "cell_type": "code",
      "metadata": {
        "id": "NEAMjE1vzu3n",
        "colab_type": "code",
        "colab": {
          "base_uri": "https://localhost:8080/",
          "height": 68
        },
        "outputId": "03a79a6e-cd2d-402e-9806-36e7a3cae322"
      },
      "source": [
        "dems['Handicapped_Infants'].value_counts(dropna=True)"
      ],
      "execution_count": 23,
      "outputs": [
        {
          "output_type": "execute_result",
          "data": {
            "text/plain": [
              "1    156\n",
              "0    102\n",
              "Name: Handicapped_Infants, dtype: int64"
            ]
          },
          "metadata": {
            "tags": []
          },
          "execution_count": 23
        }
      ]
    },
    {
      "cell_type": "code",
      "metadata": {
        "id": "FLVZiQHIz2qG",
        "colab_type": "code",
        "colab": {
          "base_uri": "https://localhost:8080/",
          "height": 34
        },
        "outputId": "90a81e85-5245-44a3-8550-70664b2b1da9"
      },
      "source": [
        "dems['Handicapped_Infants'].mean()"
      ],
      "execution_count": 27,
      "outputs": [
        {
          "output_type": "execute_result",
          "data": {
            "text/plain": [
              "0.6046511627906976"
            ]
          },
          "metadata": {
            "tags": []
          },
          "execution_count": 27
        }
      ]
    },
    {
      "cell_type": "code",
      "metadata": {
        "id": "2463vSYo0OSJ",
        "colab_type": "code",
        "colab": {}
      },
      "source": [
        "ttest_1samp(dems['Handicapped_Infants'], 0.5, nan_policy='omit')"
      ],
      "execution_count": 0,
      "outputs": []
    },
    {
      "cell_type": "code",
      "metadata": {
        "id": "XlkoNr7x0Y79",
        "colab_type": "code",
        "colab": {}
      },
      "source": [
        "ttest_1samp(dems['Handicapped_Infants'], 0, nan_policy='omit')"
      ],
      "execution_count": 0,
      "outputs": []
    },
    {
      "cell_type": "code",
      "metadata": {
        "id": "2sxthPpK0bZQ",
        "colab_type": "code",
        "colab": {}
      },
      "source": [
        "ttest_1samp(dems['Handicapped_Infants'], 1, nan_policy='omit')"
      ],
      "execution_count": 0,
      "outputs": []
    },
    {
      "cell_type": "code",
      "metadata": {
        "id": "v8JN6kQl0ds0",
        "colab_type": "code",
        "colab": {}
      },
      "source": [
        "ttest_1samp(dems['Handicapped_Infants'], 0.6, nan_policy='omit')"
      ],
      "execution_count": 0,
      "outputs": []
    },
    {
      "cell_type": "markdown",
      "metadata": {
        "id": "aFzF0VS_owg9",
        "colab_type": "text"
      },
      "source": [
        "##2-Sample t-test Example"
      ]
    },
    {
      "cell_type": "code",
      "metadata": {
        "id": "NQTAFVY4o1mQ",
        "colab_type": "code",
        "colab": {}
      },
      "source": [
        "print('Democratic Support: ', dems['export_Admin_act_SA'].mean())\n",
        "print('Republican Support: ', reps['export_Admin_act_SA'].dropna().mean())"
      ],
      "execution_count": 0,
      "outputs": []
    },
    {
      "cell_type": "code",
      "metadata": {
        "id": "ISH9VjJXp95s",
        "colab_type": "code",
        "colab": {
          "base_uri": "https://localhost:8080/",
          "height": 34
        },
        "outputId": "134bc51f-2099-4c4d-9777-b23c27de48df"
      },
      "source": [
        "ttest_ind(dems['export_Admin_act_SA'], reps['export_Admin_act_SA'], nan_policy='omit')"
      ],
      "execution_count": 41,
      "outputs": [
        {
          "output_type": "execute_result",
          "data": {
            "text/plain": [
              "Ttest_indResult(statistic=6.893205322931943, pvalue=2.8060959129817107e-11)"
            ]
          },
          "metadata": {
            "tags": []
          },
          "execution_count": 41
        }
      ]
    },
    {
      "cell_type": "markdown",
      "metadata": {
        "id": "3EIQ_NC0uFed",
        "colab_type": "text"
      },
      "source": [
        "#Assignment"
      ]
    },
    {
      "cell_type": "markdown",
      "metadata": {
        "id": "yeCvIqNTIC0g",
        "colab_type": "text"
      },
      "source": [
        "### 2.\n",
        "Null Hypothesis: The number of votes are the same for both sides\n",
        "\n",
        "Alternate Hypothesis: Thenumber of votes are different"
      ]
    },
    {
      "cell_type": "code",
      "metadata": {
        "id": "0Y6J-46KwQnm",
        "colab_type": "code",
        "colab": {
          "base_uri": "https://localhost:8080/",
          "height": 51
        },
        "outputId": "ed0ce3dd-9656-4884-efe2-7d0b7287e508"
      },
      "source": [
        "print('Democratic Support: ', dems['Synfuels_corporation_cutback'].mean())\n",
        "print('Republican Support: ', reps['Synfuels_corporation_cutback'].mean())"
      ],
      "execution_count": 6,
      "outputs": [
        {
          "output_type": "stream",
          "text": [
            "Democratic Support:  0.5058823529411764\n",
            "Republican Support:  0.1320754716981132\n"
          ],
          "name": "stdout"
        }
      ]
    },
    {
      "cell_type": "code",
      "metadata": {
        "id": "qzFTiU51wmUQ",
        "colab_type": "code",
        "colab": {
          "base_uri": "https://localhost:8080/",
          "height": 34
        },
        "outputId": "13717f34-9e3e-40cb-f6b8-3685224bd243"
      },
      "source": [
        "ttest_ind(dems['Synfuels_corporation_cutback'], reps['Synfuels_corporation_cutback'], nan_policy='omit')"
      ],
      "execution_count": 7,
      "outputs": [
        {
          "output_type": "execute_result",
          "data": {
            "text/plain": [
              "Ttest_indResult(statistic=8.293603989407588, pvalue=1.5759322301054064e-15)"
            ]
          },
          "metadata": {
            "tags": []
          },
          "execution_count": 7
        }
      ]
    },
    {
      "cell_type": "markdown",
      "metadata": {
        "id": "MRRuFaZ6IjFS",
        "colab_type": "text"
      },
      "source": [
        "Conclusion: With a t-stat of 8.293603989407588 and a p-value of 1.5759322301054064e-15, the null hpyothesis is rejected"
      ]
    },
    {
      "cell_type": "markdown",
      "metadata": {
        "id": "5ZBXFeavI8xh",
        "colab_type": "text"
      },
      "source": [
        "### 3.\n",
        "Null Hypothesis: The number of votes are the same for both sides\n",
        "\n",
        "Alternate Hypothesis: Thenumber of votes are different"
      ]
    },
    {
      "cell_type": "code",
      "metadata": {
        "id": "GFCYw09Tua4y",
        "colab_type": "code",
        "colab": {
          "base_uri": "https://localhost:8080/",
          "height": 51
        },
        "outputId": "943263b0-5155-4baf-de41-8abfefe410cb"
      },
      "source": [
        "print('Democratic Support: ', dems['El_Salvador_aid'].mean())\n",
        "print('Republican Support: ', reps['El_Salvador_aid'].mean())"
      ],
      "execution_count": 8,
      "outputs": [
        {
          "output_type": "stream",
          "text": [
            "Democratic Support:  0.21568627450980393\n",
            "Republican Support:  0.9512195121951219\n"
          ],
          "name": "stdout"
        }
      ]
    },
    {
      "cell_type": "code",
      "metadata": {
        "id": "pnvvvrb4vwOn",
        "colab_type": "code",
        "colab": {
          "base_uri": "https://localhost:8080/",
          "height": 34
        },
        "outputId": "11331e57-61c9-4f95-e806-9cb558402264"
      },
      "source": [
        "ttest_ind(dems['El_Salvador_aid'], reps['El_Salvador_aid'], nan_policy='omit')"
      ],
      "execution_count": 9,
      "outputs": [
        {
          "output_type": "execute_result",
          "data": {
            "text/plain": [
              "Ttest_indResult(statistic=-21.06444879561732, pvalue=1.3035583587179729e-67)"
            ]
          },
          "metadata": {
            "tags": []
          },
          "execution_count": 9
        }
      ]
    },
    {
      "cell_type": "markdown",
      "metadata": {
        "id": "oG8WnZ4Avi1d",
        "colab_type": "text"
      },
      "source": [
        "Conclusion: With a t-stat of -21.06444879561732 and a p-value of 1.3035583587179729e-67, the null hpyothesis is rejected"
      ]
    },
    {
      "cell_type": "markdown",
      "metadata": {
        "id": "dHkPxGxLJXhM",
        "colab_type": "text"
      },
      "source": [
        "###4.\n",
        "Null Hypothesis: The number of votes are the same for both sides\n",
        "\n",
        "Alternate Hypothesis: Thenumber of votes are different"
      ]
    },
    {
      "cell_type": "code",
      "metadata": {
        "id": "URoMJRJ5JfMZ",
        "colab_type": "code",
        "colab": {
          "base_uri": "https://localhost:8080/",
          "height": 51
        },
        "outputId": "cbd05cf6-b1fc-4225-8122-d57bb256ad92"
      },
      "source": [
        "print('Democratic Support: ', dems['Water_project_cost_sharing'].mean())\n",
        "print('Republican Support: ', reps['Water_project_cost_sharing'].mean())"
      ],
      "execution_count": 25,
      "outputs": [
        {
          "output_type": "stream",
          "text": [
            "Democratic Support:  0.502092050209205\n",
            "Republican Support:  0.5034013605442177\n"
          ],
          "name": "stdout"
        }
      ]
    },
    {
      "cell_type": "code",
      "metadata": {
        "id": "shViq6fnJiXY",
        "colab_type": "code",
        "colab": {
          "base_uri": "https://localhost:8080/",
          "height": 34
        },
        "outputId": "babe6e20-0230-450a-9793-ddb1cc78f5e3"
      },
      "source": [
        "ttest_ind(dems['Water_project_cost_sharing'], reps['Water_project_cost_sharing'], nan_policy='omit')"
      ],
      "execution_count": 26,
      "outputs": [
        {
          "output_type": "execute_result",
          "data": {
            "text/plain": [
              "Ttest_indResult(statistic=-0.02491808700047811, pvalue=0.9801332440121653)"
            ]
          },
          "metadata": {
            "tags": []
          },
          "execution_count": 26
        }
      ]
    },
    {
      "cell_type": "markdown",
      "metadata": {
        "id": "gBYPMgjkLJzU",
        "colab_type": "text"
      },
      "source": [
        "Conclusion: With a t-stat of -0.02491808700047811 and a p-value of 0.9801332440121653, the null hpyothesis fails to be rejected"
      ]
    },
    {
      "cell_type": "code",
      "metadata": {
        "id": "Pb6yZUzcLeZD",
        "colab_type": "code",
        "colab": {}
      },
      "source": [
        "def support(Dcolumn1, Rcolumn2):\n",
        " \n",
        "  return (print('Democratic Support: ',  Dcolumn1.mean()),\n",
        "         print('Republican Support: ',Rcolumn2.mean()),\n",
        "         ttest_ind(Dcolumn1, Rcolumn2, nan_policy='omit'))\n"
      ],
      "execution_count": 0,
      "outputs": []
    },
    {
      "cell_type": "code",
      "metadata": {
        "id": "qHe9-k_GMff7",
        "colab_type": "code",
        "colab": {
          "base_uri": "https://localhost:8080/",
          "height": 103
        },
        "outputId": "96a6ff78-f93a-4327-8f16-1d09b1add1c6"
      },
      "source": [
        "support(dems['Water_project_cost_sharing'],reps['Water_project_cost_sharing'] )"
      ],
      "execution_count": 44,
      "outputs": [
        {
          "output_type": "stream",
          "text": [
            "Democratic Support:  0.502092050209205\n",
            "Republican Support:  0.5034013605442177\n"
          ],
          "name": "stdout"
        },
        {
          "output_type": "execute_result",
          "data": {
            "text/plain": [
              "(None,\n",
              " None,\n",
              " Ttest_indResult(statistic=-0.02491808700047811, pvalue=0.9801332440121653))"
            ]
          },
          "metadata": {
            "tags": []
          },
          "execution_count": 44
        }
      ]
    }
  ]
}