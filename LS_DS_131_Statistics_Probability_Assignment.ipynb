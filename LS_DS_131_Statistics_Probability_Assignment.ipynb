{
  "nbformat": 4,
  "nbformat_minor": 0,
  "metadata": {
    "colab": {
      "name": "Copy of Copy of Copy of LS_DS_131_Statistics_Probability_Assignment.ipynb",
      "version": "0.3.2",
      "provenance": [],
      "collapsed_sections": [],
      "include_colab_link": true
    },
    "language_info": {
      "codemirror_mode": {
        "name": "ipython",
        "version": 3
      },
      "file_extension": ".py",
      "mimetype": "text/x-python",
      "name": "python",
      "nbconvert_exporter": "python",
      "pygments_lexer": "ipython3",
      "version": "3.7.3"
    },
    "kernelspec": {
      "display_name": "Python 3",
      "language": "python",
      "name": "python3"
    }
  },
  "cells": [
    {
      "cell_type": "markdown",
      "metadata": {
        "id": "view-in-github",
        "colab_type": "text"
      },
      "source": [
        "<a href=\"https://colab.research.google.com/github/shmilyface/DS-Unit-1-Sprint-3-Statistical-Tests-and-Experiments/blob/master/Copy_of_Copy_of_Copy_of_LS_DS_131_Statistics_Probability_Assignment.ipynb\" target=\"_parent\"><img src=\"https://colab.research.google.com/assets/colab-badge.svg\" alt=\"Open In Colab\"/></a>"
      ]
    },
    {
      "cell_type": "markdown",
      "metadata": {
        "id": "HHtJkAeu-uuJ",
        "colab_type": "text"
      },
      "source": [
        "<img align=\"left\" src=\"https://lever-client-logos.s3.amazonaws.com/864372b1-534c-480e-acd5-9711f850815c-1524247202159.png\" width=200>\n",
        "<br></br>\n",
        "<br></br>\n",
        "\n",
        "## *Data Science Unit 1 Sprint 3 Assignment 1*\n",
        "\n",
        "# Apply the t-test to real data\n",
        "\n",
        "Your assignment is to determine which issues have \"statistically significant\" differences between political parties in this [1980s congressional voting data](https://archive.ics.uci.edu/ml/datasets/Congressional+Voting+Records). The data consists of 435 instances (one for each congressperson), a class (democrat or republican), and 16 binary attributes (yes or no for voting for or against certain issues). Be aware - there are missing values!\n",
        "\n",
        "Your goals:\n",
        "\n",
        "1. Load and clean the data (or determine the best method to drop observations when running tests)\n",
        "2. Using hypothesis testing, find an issue that democrats support more than republicans with p < 0.01\n",
        "3. Using hypothesis testing, find an issue that republicans support more than democrats with p < 0.01\n",
        "4. Using hypothesis testing, find an issue where the difference between republicans and democrats has p > 0.1 (i.e. there may not be much of a difference)\n",
        "\n",
        "Note that this data will involve *2 sample* t-tests, because you're comparing averages across two groups (republicans and democrats) rather than a single group against a null hypothesis.\n",
        "\n",
        "Stretch goals:\n",
        "\n",
        "1. Refactor your code into functions so it's easy to rerun with arbitrary variables\n",
        "2. Apply hypothesis testing to your personal project data (for the purposes of this notebook you can type a summary of the hypothesis you formed and tested)"
      ]
    },
    {
      "cell_type": "markdown",
      "metadata": {
        "id": "Jxwt6ljZ689o",
        "colab_type": "text"
      },
      "source": [
        ""
      ]
    },
    {
      "cell_type": "code",
      "metadata": {
        "id": "BUUbVdNS-uuL",
        "colab_type": "code",
        "outputId": "d9d74002-d18d-427f-9a99-470ad81daef9",
        "colab": {
          "base_uri": "https://localhost:8080/",
          "height": 85
        }
      },
      "source": [
        "### YOUR CODE STARTS HERE\n",
        "\n",
        "import pandas as pd\n",
        "import matplotlib.pyplot as plt\n",
        "import numpy as np\n",
        "import seaborn as sns\n",
        "import random as random\n",
        "\n",
        "df = pd.read_csv('https://archive.ics.uci.edu/ml/machine-learning-databases/voting-records/house-votes-84.data', header=None)\n",
        "df.columns =['party',\n",
        "         'handicap_infant',\n",
        "         'water_cost_share',\n",
        "         'budget_res_adoption',\n",
        "         'dr_fee_freeze',\n",
        "         'el_salvador_aid',\n",
        "         'schools_religious_groups',\n",
        "         'anti_satellite_ban',\n",
        "         'nicaraguan_aid',\n",
        "         'missile',\n",
        "         'immigration',\n",
        "         'fuel_corp_cutback',\n",
        "         'edu_spending',\n",
        "         'superfund_sue',\n",
        "         'crime',\n",
        "         'exports',\n",
        "         'south_africa_export_admin']\n",
        "df['handicap_infant'].value_counts()\n"
      ],
      "execution_count": 0,
      "outputs": [
        {
          "output_type": "execute_result",
          "data": {
            "text/plain": [
              "n    236\n",
              "y    187\n",
              "?     12\n",
              "Name: handicap_infant, dtype: int64"
            ]
          },
          "metadata": {
            "tags": []
          },
          "execution_count": 20
        }
      ]
    },
    {
      "cell_type": "code",
      "metadata": {
        "id": "hmSVZhW4hEU1",
        "colab_type": "code",
        "outputId": "9a7769d5-78d8-419b-a255-6884c3a22ccb",
        "colab": {
          "base_uri": "https://localhost:8080/",
          "height": 224
        }
      },
      "source": [
        "'''\n",
        "adjust columns (header=none)\n",
        "add column names\n",
        "deal with null values in a way that doesn't hurt the data\n",
        "(probably unknown is best)\n",
        "run a pair plot\n",
        "test hypotheses of issues\n",
        "\n",
        "'''\n",
        "df.head()\n"
      ],
      "execution_count": 0,
      "outputs": [
        {
          "output_type": "execute_result",
          "data": {
            "text/html": [
              "<div>\n",
              "<style scoped>\n",
              "    .dataframe tbody tr th:only-of-type {\n",
              "        vertical-align: middle;\n",
              "    }\n",
              "\n",
              "    .dataframe tbody tr th {\n",
              "        vertical-align: top;\n",
              "    }\n",
              "\n",
              "    .dataframe thead th {\n",
              "        text-align: right;\n",
              "    }\n",
              "</style>\n",
              "<table border=\"1\" class=\"dataframe\">\n",
              "  <thead>\n",
              "    <tr style=\"text-align: right;\">\n",
              "      <th></th>\n",
              "      <th>party</th>\n",
              "      <th>handicap_infant</th>\n",
              "      <th>water_cost_share</th>\n",
              "      <th>budget_res_adoption</th>\n",
              "      <th>dr_fee_freeze</th>\n",
              "      <th>el_salvador_aid</th>\n",
              "      <th>schools_religious_groups</th>\n",
              "      <th>anti_satellite_ban</th>\n",
              "      <th>nicaraguan_aid</th>\n",
              "      <th>missile</th>\n",
              "      <th>immigration</th>\n",
              "      <th>fuel_corp_cutback</th>\n",
              "      <th>edu_spending</th>\n",
              "      <th>superfund_sue</th>\n",
              "      <th>crime</th>\n",
              "      <th>exports</th>\n",
              "      <th>south_africa_export_admin</th>\n",
              "    </tr>\n",
              "  </thead>\n",
              "  <tbody>\n",
              "    <tr>\n",
              "      <th>0</th>\n",
              "      <td>republican</td>\n",
              "      <td>n</td>\n",
              "      <td>y</td>\n",
              "      <td>n</td>\n",
              "      <td>y</td>\n",
              "      <td>y</td>\n",
              "      <td>y</td>\n",
              "      <td>n</td>\n",
              "      <td>n</td>\n",
              "      <td>n</td>\n",
              "      <td>y</td>\n",
              "      <td>?</td>\n",
              "      <td>y</td>\n",
              "      <td>y</td>\n",
              "      <td>y</td>\n",
              "      <td>n</td>\n",
              "      <td>y</td>\n",
              "    </tr>\n",
              "    <tr>\n",
              "      <th>1</th>\n",
              "      <td>republican</td>\n",
              "      <td>n</td>\n",
              "      <td>y</td>\n",
              "      <td>n</td>\n",
              "      <td>y</td>\n",
              "      <td>y</td>\n",
              "      <td>y</td>\n",
              "      <td>n</td>\n",
              "      <td>n</td>\n",
              "      <td>n</td>\n",
              "      <td>n</td>\n",
              "      <td>n</td>\n",
              "      <td>y</td>\n",
              "      <td>y</td>\n",
              "      <td>y</td>\n",
              "      <td>n</td>\n",
              "      <td>?</td>\n",
              "    </tr>\n",
              "    <tr>\n",
              "      <th>2</th>\n",
              "      <td>democrat</td>\n",
              "      <td>?</td>\n",
              "      <td>y</td>\n",
              "      <td>y</td>\n",
              "      <td>?</td>\n",
              "      <td>y</td>\n",
              "      <td>y</td>\n",
              "      <td>n</td>\n",
              "      <td>n</td>\n",
              "      <td>n</td>\n",
              "      <td>n</td>\n",
              "      <td>y</td>\n",
              "      <td>n</td>\n",
              "      <td>y</td>\n",
              "      <td>y</td>\n",
              "      <td>n</td>\n",
              "      <td>n</td>\n",
              "    </tr>\n",
              "    <tr>\n",
              "      <th>3</th>\n",
              "      <td>democrat</td>\n",
              "      <td>n</td>\n",
              "      <td>y</td>\n",
              "      <td>y</td>\n",
              "      <td>n</td>\n",
              "      <td>?</td>\n",
              "      <td>y</td>\n",
              "      <td>n</td>\n",
              "      <td>n</td>\n",
              "      <td>n</td>\n",
              "      <td>n</td>\n",
              "      <td>y</td>\n",
              "      <td>n</td>\n",
              "      <td>y</td>\n",
              "      <td>n</td>\n",
              "      <td>n</td>\n",
              "      <td>y</td>\n",
              "    </tr>\n",
              "    <tr>\n",
              "      <th>4</th>\n",
              "      <td>democrat</td>\n",
              "      <td>y</td>\n",
              "      <td>y</td>\n",
              "      <td>y</td>\n",
              "      <td>n</td>\n",
              "      <td>y</td>\n",
              "      <td>y</td>\n",
              "      <td>n</td>\n",
              "      <td>n</td>\n",
              "      <td>n</td>\n",
              "      <td>n</td>\n",
              "      <td>y</td>\n",
              "      <td>?</td>\n",
              "      <td>y</td>\n",
              "      <td>y</td>\n",
              "      <td>y</td>\n",
              "      <td>y</td>\n",
              "    </tr>\n",
              "  </tbody>\n",
              "</table>\n",
              "</div>"
            ],
            "text/plain": [
              "        party handicap_infant  ... exports south_africa_export_admin\n",
              "0  republican               n  ...       n                         y\n",
              "1  republican               n  ...       n                         ?\n",
              "2    democrat               ?  ...       n                         n\n",
              "3    democrat               n  ...       n                         y\n",
              "4    democrat               y  ...       y                         y\n",
              "\n",
              "[5 rows x 17 columns]"
            ]
          },
          "metadata": {
            "tags": []
          },
          "execution_count": 21
        }
      ]
    },
    {
      "cell_type": "code",
      "metadata": {
        "id": "-xflEiOUltqV",
        "colab_type": "code",
        "outputId": "fa3d5ba0-201f-45d4-9479-86c8038ae7ef",
        "colab": {
          "base_uri": "https://localhost:8080/",
          "height": 224
        }
      },
      "source": [
        "df = df.replace(['n', 'y', '?'],[-1,1,0])\n",
        "df.head()"
      ],
      "execution_count": 0,
      "outputs": [
        {
          "output_type": "execute_result",
          "data": {
            "text/html": [
              "<div>\n",
              "<style scoped>\n",
              "    .dataframe tbody tr th:only-of-type {\n",
              "        vertical-align: middle;\n",
              "    }\n",
              "\n",
              "    .dataframe tbody tr th {\n",
              "        vertical-align: top;\n",
              "    }\n",
              "\n",
              "    .dataframe thead th {\n",
              "        text-align: right;\n",
              "    }\n",
              "</style>\n",
              "<table border=\"1\" class=\"dataframe\">\n",
              "  <thead>\n",
              "    <tr style=\"text-align: right;\">\n",
              "      <th></th>\n",
              "      <th>party</th>\n",
              "      <th>handicap_infant</th>\n",
              "      <th>water_cost_share</th>\n",
              "      <th>budget_res_adoption</th>\n",
              "      <th>dr_fee_freeze</th>\n",
              "      <th>el_salvador_aid</th>\n",
              "      <th>schools_religious_groups</th>\n",
              "      <th>anti_satellite_ban</th>\n",
              "      <th>nicaraguan_aid</th>\n",
              "      <th>missile</th>\n",
              "      <th>immigration</th>\n",
              "      <th>fuel_corp_cutback</th>\n",
              "      <th>edu_spending</th>\n",
              "      <th>superfund_sue</th>\n",
              "      <th>crime</th>\n",
              "      <th>exports</th>\n",
              "      <th>south_africa_export_admin</th>\n",
              "    </tr>\n",
              "  </thead>\n",
              "  <tbody>\n",
              "    <tr>\n",
              "      <th>0</th>\n",
              "      <td>republican</td>\n",
              "      <td>-1</td>\n",
              "      <td>1</td>\n",
              "      <td>-1</td>\n",
              "      <td>1</td>\n",
              "      <td>1</td>\n",
              "      <td>1</td>\n",
              "      <td>-1</td>\n",
              "      <td>-1</td>\n",
              "      <td>-1</td>\n",
              "      <td>1</td>\n",
              "      <td>0</td>\n",
              "      <td>1</td>\n",
              "      <td>1</td>\n",
              "      <td>1</td>\n",
              "      <td>-1</td>\n",
              "      <td>1</td>\n",
              "    </tr>\n",
              "    <tr>\n",
              "      <th>1</th>\n",
              "      <td>republican</td>\n",
              "      <td>-1</td>\n",
              "      <td>1</td>\n",
              "      <td>-1</td>\n",
              "      <td>1</td>\n",
              "      <td>1</td>\n",
              "      <td>1</td>\n",
              "      <td>-1</td>\n",
              "      <td>-1</td>\n",
              "      <td>-1</td>\n",
              "      <td>-1</td>\n",
              "      <td>-1</td>\n",
              "      <td>1</td>\n",
              "      <td>1</td>\n",
              "      <td>1</td>\n",
              "      <td>-1</td>\n",
              "      <td>0</td>\n",
              "    </tr>\n",
              "    <tr>\n",
              "      <th>2</th>\n",
              "      <td>democrat</td>\n",
              "      <td>0</td>\n",
              "      <td>1</td>\n",
              "      <td>1</td>\n",
              "      <td>0</td>\n",
              "      <td>1</td>\n",
              "      <td>1</td>\n",
              "      <td>-1</td>\n",
              "      <td>-1</td>\n",
              "      <td>-1</td>\n",
              "      <td>-1</td>\n",
              "      <td>1</td>\n",
              "      <td>-1</td>\n",
              "      <td>1</td>\n",
              "      <td>1</td>\n",
              "      <td>-1</td>\n",
              "      <td>-1</td>\n",
              "    </tr>\n",
              "    <tr>\n",
              "      <th>3</th>\n",
              "      <td>democrat</td>\n",
              "      <td>-1</td>\n",
              "      <td>1</td>\n",
              "      <td>1</td>\n",
              "      <td>-1</td>\n",
              "      <td>0</td>\n",
              "      <td>1</td>\n",
              "      <td>-1</td>\n",
              "      <td>-1</td>\n",
              "      <td>-1</td>\n",
              "      <td>-1</td>\n",
              "      <td>1</td>\n",
              "      <td>-1</td>\n",
              "      <td>1</td>\n",
              "      <td>-1</td>\n",
              "      <td>-1</td>\n",
              "      <td>1</td>\n",
              "    </tr>\n",
              "    <tr>\n",
              "      <th>4</th>\n",
              "      <td>democrat</td>\n",
              "      <td>1</td>\n",
              "      <td>1</td>\n",
              "      <td>1</td>\n",
              "      <td>-1</td>\n",
              "      <td>1</td>\n",
              "      <td>1</td>\n",
              "      <td>-1</td>\n",
              "      <td>-1</td>\n",
              "      <td>-1</td>\n",
              "      <td>-1</td>\n",
              "      <td>1</td>\n",
              "      <td>0</td>\n",
              "      <td>1</td>\n",
              "      <td>1</td>\n",
              "      <td>1</td>\n",
              "      <td>1</td>\n",
              "    </tr>\n",
              "  </tbody>\n",
              "</table>\n",
              "</div>"
            ],
            "text/plain": [
              "        party  handicap_infant  ...  exports  south_africa_export_admin\n",
              "0  republican               -1  ...       -1                          1\n",
              "1  republican               -1  ...       -1                          0\n",
              "2    democrat                0  ...       -1                         -1\n",
              "3    democrat               -1  ...       -1                          1\n",
              "4    democrat                1  ...        1                          1\n",
              "\n",
              "[5 rows x 17 columns]"
            ]
          },
          "metadata": {
            "tags": []
          },
          "execution_count": 22
        }
      ]
    },
    {
      "cell_type": "code",
      "metadata": {
        "id": "OCRAWF08te8p",
        "colab_type": "code",
        "outputId": "36930802-e168-47e0-db83-6feff2b9f510",
        "colab": {
          "base_uri": "https://localhost:8080/",
          "height": 323
        }
      },
      "source": [
        "df['handicap_infant'].describe()\n",
        "\n",
        "df.dtypes"
      ],
      "execution_count": 0,
      "outputs": [
        {
          "output_type": "execute_result",
          "data": {
            "text/plain": [
              "party                        object\n",
              "handicap_infant               int64\n",
              "water_cost_share              int64\n",
              "budget_res_adoption           int64\n",
              "dr_fee_freeze                 int64\n",
              "el_salvador_aid               int64\n",
              "schools_religious_groups      int64\n",
              "anti_satellite_ban            int64\n",
              "nicaraguan_aid                int64\n",
              "missile                       int64\n",
              "immigration                   int64\n",
              "fuel_corp_cutback             int64\n",
              "edu_spending                  int64\n",
              "superfund_sue                 int64\n",
              "crime                         int64\n",
              "exports                       int64\n",
              "south_africa_export_admin     int64\n",
              "dtype: object"
            ]
          },
          "metadata": {
            "tags": []
          },
          "execution_count": 23
        }
      ]
    },
    {
      "cell_type": "code",
      "metadata": {
        "id": "RkACDV6Hnvb7",
        "colab_type": "code",
        "outputId": "4e7d755b-840f-4a0f-932d-6b00b640a7e2",
        "colab": {
          "base_uri": "https://localhost:8080/",
          "height": 301
        }
      },
      "source": [
        "ax=sns.distplot\n",
        "ax(df['handicap_infant'], color='b')\n",
        "\n",
        "\n"
      ],
      "execution_count": 0,
      "outputs": [
        {
          "output_type": "execute_result",
          "data": {
            "text/plain": [
              "<matplotlib.axes._subplots.AxesSubplot at 0x7f13f1a8b550>"
            ]
          },
          "metadata": {
            "tags": []
          },
          "execution_count": 24
        },
        {
          "output_type": "display_data",
          "data": {
            "image/png": "[encoded data removed]",
            "text/plain": [
              "<Figure size 432x288 with 1 Axes>"
            ]
          },
          "metadata": {
            "tags": []
          }
        }
      ]
    },
    {
      "cell_type": "code",
      "metadata": {
        "id": "ycRHo0H-uFcg",
        "colab_type": "code",
        "colab": {}
      },
      "source": [
        ""
      ],
      "execution_count": 0,
      "outputs": []
    },
    {
      "cell_type": "code",
      "metadata": {
        "id": "iET_cm6udP7q",
        "colab_type": "code",
        "outputId": "eee1da5e-4927-4c7a-ef75-1842fc2a6d8b",
        "colab": {
          "base_uri": "https://localhost:8080/",
          "height": 224
        }
      },
      "source": [
        "democrat = df[df['party'] == 'democrat']\n",
        "democrat = democrat.drop(['party'], axis=1)\n",
        "\n",
        "republican = df[df['party'] == 'republican']\n",
        "republican = republican.drop(['party'], axis=1)\n",
        "democrat.head()\n"
      ],
      "execution_count": 0,
      "outputs": [
        {
          "output_type": "execute_result",
          "data": {
            "text/html": [
              "<div>\n",
              "<style scoped>\n",
              "    .dataframe tbody tr th:only-of-type {\n",
              "        vertical-align: middle;\n",
              "    }\n",
              "\n",
              "    .dataframe tbody tr th {\n",
              "        vertical-align: top;\n",
              "    }\n",
              "\n",
              "    .dataframe thead th {\n",
              "        text-align: right;\n",
              "    }\n",
              "</style>\n",
              "<table border=\"1\" class=\"dataframe\">\n",
              "  <thead>\n",
              "    <tr style=\"text-align: right;\">\n",
              "      <th></th>\n",
              "      <th>handicap_infant</th>\n",
              "      <th>water_cost_share</th>\n",
              "      <th>budget_res_adoption</th>\n",
              "      <th>dr_fee_freeze</th>\n",
              "      <th>el_salvador_aid</th>\n",
              "      <th>schools_religious_groups</th>\n",
              "      <th>anti_satellite_ban</th>\n",
              "      <th>nicaraguan_aid</th>\n",
              "      <th>missile</th>\n",
              "      <th>immigration</th>\n",
              "      <th>fuel_corp_cutback</th>\n",
              "      <th>edu_spending</th>\n",
              "      <th>superfund_sue</th>\n",
              "      <th>crime</th>\n",
              "      <th>exports</th>\n",
              "      <th>south_africa_export_admin</th>\n",
              "    </tr>\n",
              "  </thead>\n",
              "  <tbody>\n",
              "    <tr>\n",
              "      <th>2</th>\n",
              "      <td>0</td>\n",
              "      <td>1</td>\n",
              "      <td>1</td>\n",
              "      <td>0</td>\n",
              "      <td>1</td>\n",
              "      <td>1</td>\n",
              "      <td>-1</td>\n",
              "      <td>-1</td>\n",
              "      <td>-1</td>\n",
              "      <td>-1</td>\n",
              "      <td>1</td>\n",
              "      <td>-1</td>\n",
              "      <td>1</td>\n",
              "      <td>1</td>\n",
              "      <td>-1</td>\n",
              "      <td>-1</td>\n",
              "    </tr>\n",
              "    <tr>\n",
              "      <th>3</th>\n",
              "      <td>-1</td>\n",
              "      <td>1</td>\n",
              "      <td>1</td>\n",
              "      <td>-1</td>\n",
              "      <td>0</td>\n",
              "      <td>1</td>\n",
              "      <td>-1</td>\n",
              "      <td>-1</td>\n",
              "      <td>-1</td>\n",
              "      <td>-1</td>\n",
              "      <td>1</td>\n",
              "      <td>-1</td>\n",
              "      <td>1</td>\n",
              "      <td>-1</td>\n",
              "      <td>-1</td>\n",
              "      <td>1</td>\n",
              "    </tr>\n",
              "    <tr>\n",
              "      <th>4</th>\n",
              "      <td>1</td>\n",
              "      <td>1</td>\n",
              "      <td>1</td>\n",
              "      <td>-1</td>\n",
              "      <td>1</td>\n",
              "      <td>1</td>\n",
              "      <td>-1</td>\n",
              "      <td>-1</td>\n",
              "      <td>-1</td>\n",
              "      <td>-1</td>\n",
              "      <td>1</td>\n",
              "      <td>0</td>\n",
              "      <td>1</td>\n",
              "      <td>1</td>\n",
              "      <td>1</td>\n",
              "      <td>1</td>\n",
              "    </tr>\n",
              "    <tr>\n",
              "      <th>5</th>\n",
              "      <td>-1</td>\n",
              "      <td>1</td>\n",
              "      <td>1</td>\n",
              "      <td>-1</td>\n",
              "      <td>1</td>\n",
              "      <td>1</td>\n",
              "      <td>-1</td>\n",
              "      <td>-1</td>\n",
              "      <td>-1</td>\n",
              "      <td>-1</td>\n",
              "      <td>-1</td>\n",
              "      <td>-1</td>\n",
              "      <td>1</td>\n",
              "      <td>1</td>\n",
              "      <td>1</td>\n",
              "      <td>1</td>\n",
              "    </tr>\n",
              "    <tr>\n",
              "      <th>6</th>\n",
              "      <td>-1</td>\n",
              "      <td>1</td>\n",
              "      <td>-1</td>\n",
              "      <td>1</td>\n",
              "      <td>1</td>\n",
              "      <td>1</td>\n",
              "      <td>-1</td>\n",
              "      <td>-1</td>\n",
              "      <td>-1</td>\n",
              "      <td>-1</td>\n",
              "      <td>-1</td>\n",
              "      <td>-1</td>\n",
              "      <td>0</td>\n",
              "      <td>1</td>\n",
              "      <td>1</td>\n",
              "      <td>1</td>\n",
              "    </tr>\n",
              "  </tbody>\n",
              "</table>\n",
              "</div>"
            ],
            "text/plain": [
              "   handicap_infant  water_cost_share  ...  exports  south_africa_export_admin\n",
              "2                0                 1  ...       -1                         -1\n",
              "3               -1                 1  ...       -1                          1\n",
              "4                1                 1  ...        1                          1\n",
              "5               -1                 1  ...        1                          1\n",
              "6               -1                 1  ...        1                          1\n",
              "\n",
              "[5 rows x 16 columns]"
            ]
          },
          "metadata": {
            "tags": []
          },
          "execution_count": 25
        }
      ]
    },
    {
      "cell_type": "code",
      "metadata": {
        "id": "eBjWMjfrXisz",
        "colab_type": "code",
        "outputId": "cf5b1e6b-439a-4e12-cb20-cc81ddc09b97",
        "colab": {
          "base_uri": "https://localhost:8080/",
          "height": 224
        }
      },
      "source": [
        "republican.head()"
      ],
      "execution_count": 0,
      "outputs": [
        {
          "output_type": "execute_result",
          "data": {
            "text/html": [
              "<div>\n",
              "<style scoped>\n",
              "    .dataframe tbody tr th:only-of-type {\n",
              "        vertical-align: middle;\n",
              "    }\n",
              "\n",
              "    .dataframe tbody tr th {\n",
              "        vertical-align: top;\n",
              "    }\n",
              "\n",
              "    .dataframe thead th {\n",
              "        text-align: right;\n",
              "    }\n",
              "</style>\n",
              "<table border=\"1\" class=\"dataframe\">\n",
              "  <thead>\n",
              "    <tr style=\"text-align: right;\">\n",
              "      <th></th>\n",
              "      <th>handicap_infant</th>\n",
              "      <th>water_cost_share</th>\n",
              "      <th>budget_res_adoption</th>\n",
              "      <th>dr_fee_freeze</th>\n",
              "      <th>el_salvador_aid</th>\n",
              "      <th>schools_religious_groups</th>\n",
              "      <th>anti_satellite_ban</th>\n",
              "      <th>nicaraguan_aid</th>\n",
              "      <th>missile</th>\n",
              "      <th>immigration</th>\n",
              "      <th>fuel_corp_cutback</th>\n",
              "      <th>edu_spending</th>\n",
              "      <th>superfund_sue</th>\n",
              "      <th>crime</th>\n",
              "      <th>exports</th>\n",
              "      <th>south_africa_export_admin</th>\n",
              "    </tr>\n",
              "  </thead>\n",
              "  <tbody>\n",
              "    <tr>\n",
              "      <th>0</th>\n",
              "      <td>-1</td>\n",
              "      <td>1</td>\n",
              "      <td>-1</td>\n",
              "      <td>1</td>\n",
              "      <td>1</td>\n",
              "      <td>1</td>\n",
              "      <td>-1</td>\n",
              "      <td>-1</td>\n",
              "      <td>-1</td>\n",
              "      <td>1</td>\n",
              "      <td>0</td>\n",
              "      <td>1</td>\n",
              "      <td>1</td>\n",
              "      <td>1</td>\n",
              "      <td>-1</td>\n",
              "      <td>1</td>\n",
              "    </tr>\n",
              "    <tr>\n",
              "      <th>1</th>\n",
              "      <td>-1</td>\n",
              "      <td>1</td>\n",
              "      <td>-1</td>\n",
              "      <td>1</td>\n",
              "      <td>1</td>\n",
              "      <td>1</td>\n",
              "      <td>-1</td>\n",
              "      <td>-1</td>\n",
              "      <td>-1</td>\n",
              "      <td>-1</td>\n",
              "      <td>-1</td>\n",
              "      <td>1</td>\n",
              "      <td>1</td>\n",
              "      <td>1</td>\n",
              "      <td>-1</td>\n",
              "      <td>0</td>\n",
              "    </tr>\n",
              "    <tr>\n",
              "      <th>7</th>\n",
              "      <td>-1</td>\n",
              "      <td>1</td>\n",
              "      <td>-1</td>\n",
              "      <td>1</td>\n",
              "      <td>1</td>\n",
              "      <td>1</td>\n",
              "      <td>-1</td>\n",
              "      <td>-1</td>\n",
              "      <td>-1</td>\n",
              "      <td>-1</td>\n",
              "      <td>-1</td>\n",
              "      <td>-1</td>\n",
              "      <td>1</td>\n",
              "      <td>1</td>\n",
              "      <td>0</td>\n",
              "      <td>1</td>\n",
              "    </tr>\n",
              "    <tr>\n",
              "      <th>8</th>\n",
              "      <td>-1</td>\n",
              "      <td>1</td>\n",
              "      <td>-1</td>\n",
              "      <td>1</td>\n",
              "      <td>1</td>\n",
              "      <td>1</td>\n",
              "      <td>-1</td>\n",
              "      <td>-1</td>\n",
              "      <td>-1</td>\n",
              "      <td>-1</td>\n",
              "      <td>-1</td>\n",
              "      <td>1</td>\n",
              "      <td>1</td>\n",
              "      <td>1</td>\n",
              "      <td>-1</td>\n",
              "      <td>1</td>\n",
              "    </tr>\n",
              "    <tr>\n",
              "      <th>10</th>\n",
              "      <td>-1</td>\n",
              "      <td>1</td>\n",
              "      <td>-1</td>\n",
              "      <td>1</td>\n",
              "      <td>1</td>\n",
              "      <td>-1</td>\n",
              "      <td>-1</td>\n",
              "      <td>-1</td>\n",
              "      <td>-1</td>\n",
              "      <td>-1</td>\n",
              "      <td>0</td>\n",
              "      <td>0</td>\n",
              "      <td>1</td>\n",
              "      <td>1</td>\n",
              "      <td>-1</td>\n",
              "      <td>-1</td>\n",
              "    </tr>\n",
              "  </tbody>\n",
              "</table>\n",
              "</div>"
            ],
            "text/plain": [
              "    handicap_infant  water_cost_share  ...  exports  south_africa_export_admin\n",
              "0                -1                 1  ...       -1                          1\n",
              "1                -1                 1  ...       -1                          0\n",
              "7                -1                 1  ...        0                          1\n",
              "8                -1                 1  ...       -1                          1\n",
              "10               -1                 1  ...       -1                         -1\n",
              "\n",
              "[5 rows x 16 columns]"
            ]
          },
          "metadata": {
            "tags": []
          },
          "execution_count": 26
        }
      ]
    },
    {
      "cell_type": "code",
      "metadata": {
        "id": "zw0q1tb5YZ3D",
        "colab_type": "code",
        "colab": {}
      },
      "source": [
        "dem_sam= democrat.sample(n=20)\n",
        "rep_sam = republican.sample(n=20)"
      ],
      "execution_count": 0,
      "outputs": []
    },
    {
      "cell_type": "code",
      "metadata": {
        "id": "Q4od9TP3aDuL",
        "colab_type": "code",
        "outputId": "7fd435ce-c0c1-4fac-ce79-ebc873ac4ec8",
        "colab": {
          "base_uri": "https://localhost:8080/",
          "height": 34
        }
      },
      "source": [
        "dem_sam.shape"
      ],
      "execution_count": 0,
      "outputs": [
        {
          "output_type": "execute_result",
          "data": {
            "text/plain": [
              "(20, 16)"
            ]
          },
          "metadata": {
            "tags": []
          },
          "execution_count": 28
        }
      ]
    },
    {
      "cell_type": "code",
      "metadata": {
        "id": "p4ta_cuyaNL7",
        "colab_type": "code",
        "outputId": "cef0ba56-eef5-4dc3-a651-1a3517f7b65f",
        "colab": {
          "base_uri": "https://localhost:8080/",
          "height": 1020
        }
      },
      "source": [
        "print(\"The sample DF1 Mean:\\n\\n\", dem_sam.mean())\n",
        "print(\"\\nThe sample DF1 STD:\\n\\n\", dem_sam.std())\n",
        "print(\"\\nThe sample DF1 VAR:\\n\\n\", dem_sam.var())"
      ],
      "execution_count": 0,
      "outputs": [
        {
          "output_type": "stream",
          "text": [
            "The sample DF1 Mean:\n",
            "\n",
            " handicap_infant              0.15\n",
            "water_cost_share             0.25\n",
            "budget_res_adoption          0.80\n",
            "dr_fee_freeze               -0.85\n",
            "el_salvador_aid             -0.65\n",
            "schools_religious_groups     0.05\n",
            "anti_satellite_ban           0.50\n",
            "nicaraguan_aid               0.70\n",
            "missile                      0.25\n",
            "immigration                  0.00\n",
            "fuel_corp_cutback            0.05\n",
            "edu_spending                -0.50\n",
            "superfund_sue               -0.25\n",
            "crime                       -0.35\n",
            "exports                      0.45\n",
            "south_africa_export_admin    0.60\n",
            "dtype: float64\n",
            "\n",
            "The sample DF1 STD:\n",
            "\n",
            " handicap_infant              0.988087\n",
            "water_cost_share             0.910465\n",
            "budget_res_adoption          0.615587\n",
            "dr_fee_freeze                0.489360\n",
            "el_salvador_aid              0.745160\n",
            "schools_religious_groups     0.998683\n",
            "anti_satellite_ban           0.827170\n",
            "nicaraguan_aid               0.732695\n",
            "missile                      0.910465\n",
            "immigration                  1.025978\n",
            "fuel_corp_cutback            0.998683\n",
            "edu_spending                 0.760886\n",
            "superfund_sue                0.966546\n",
            "crime                        0.933302\n",
            "exports                      0.887041\n",
            "south_africa_export_admin    0.502625\n",
            "dtype: float64\n",
            "\n",
            "The sample DF1 VAR:\n",
            "\n",
            " handicap_infant              0.976316\n",
            "water_cost_share             0.828947\n",
            "budget_res_adoption          0.378947\n",
            "dr_fee_freeze                0.239474\n",
            "el_salvador_aid              0.555263\n",
            "schools_religious_groups     0.997368\n",
            "anti_satellite_ban           0.684211\n",
            "nicaraguan_aid               0.536842\n",
            "missile                      0.828947\n",
            "immigration                  1.052632\n",
            "fuel_corp_cutback            0.997368\n",
            "edu_spending                 0.578947\n",
            "superfund_sue                0.934211\n",
            "crime                        0.871053\n",
            "exports                      0.786842\n",
            "south_africa_export_admin    0.252632\n",
            "dtype: float64\n"
          ],
          "name": "stdout"
        }
      ]
    },
    {
      "cell_type": "markdown",
      "metadata": {
        "id": "JXlowndk0gar",
        "colab_type": "text"
      },
      "source": [
        "##T Tests"
      ]
    },
    {
      "cell_type": "code",
      "metadata": {
        "id": "ywG7TxNJbHKS",
        "colab_type": "code",
        "outputId": "1a982070-ac9a-43c7-e665-5411acd09c82",
        "colab": {
          "base_uri": "https://localhost:8080/",
          "height": 34
        }
      },
      "source": [
        "from scipy.stats import ttest_ind, ttest_ind_from_stats, ttest_rel\n",
        "\n",
        "#def dr_ttest(x,y):\n",
        "  #ttest_ind(dem_sam[x], rep_sam[y])\n",
        "  #print(dr_ttest(x,y))\n",
        "\n",
        "#handicap_infant\n",
        "handicap_infant = ttest_ind(dem_sam['handicap_infant'], rep_sam['handicap_infant'])\n",
        "f'{handicap_infant.pvalue:.20%}'\n",
        "\n",
        "#pvalue is higher than .05%, failed to reject null hypotheses. Means are highly likely to be the same. "
      ],
      "execution_count": 0,
      "outputs": [
        {
          "output_type": "execute_result",
          "data": {
            "text/plain": [
              "'0.07867807887549493895%'"
            ]
          },
          "metadata": {
            "tags": []
          },
          "execution_count": 31
        }
      ]
    },
    {
      "cell_type": "code",
      "metadata": {
        "id": "yvwITiwJG1CR",
        "colab_type": "code",
        "outputId": "32b8bb54-2381-4013-bb27-3a2fba7f1de5",
        "colab": {
          "base_uri": "https://localhost:8080/",
          "height": 187
        }
      },
      "source": [
        "def showTotes(k):\n",
        "  print(\"Democrat:\\n\", democrat[k].value_counts())\n",
        "  print(\"Republican:\\n\", republican[k].value_counts())\n",
        "  \n",
        "showTotes('handicap_infant')"
      ],
      "execution_count": 0,
      "outputs": [
        {
          "output_type": "stream",
          "text": [
            "Democrat:\n",
            "  1    156\n",
            "-1    102\n",
            " 0      9\n",
            "Name: handicap_infant, dtype: int64\n",
            "Republican:\n",
            " -1    134\n",
            " 1     31\n",
            " 0      3\n",
            "Name: handicap_infant, dtype: int64\n"
          ],
          "name": "stdout"
        }
      ]
    },
    {
      "cell_type": "markdown",
      "metadata": {
        "id": "CHM4SXFlJzR0",
        "colab_type": "text"
      },
      "source": [
        "###water cost share"
      ]
    },
    {
      "cell_type": "code",
      "metadata": {
        "id": "ysPXDzDZpjqi",
        "colab_type": "code",
        "outputId": "209dada2-135b-49ae-8328-2d40ec241a7e",
        "colab": {
          "base_uri": "https://localhost:8080/",
          "height": 34
        }
      },
      "source": [
        "#water cost share\n",
        "water = ttest_ind(dem_sam['water_cost_share'], rep_sam['water_cost_share'])\n",
        "f'{water.pvalue:.20%}'\n",
        "\n",
        "#pvalue is higher than .05%, failed to reject null hypotheses. Means are highly likely to be the same. "
      ],
      "execution_count": 0,
      "outputs": [
        {
          "output_type": "execute_result",
          "data": {
            "text/plain": [
              "'13.47481380387162097634%'"
            ]
          },
          "metadata": {
            "tags": []
          },
          "execution_count": 32
        }
      ]
    },
    {
      "cell_type": "code",
      "metadata": {
        "id": "Y0n8q2cGGcfi",
        "colab_type": "code",
        "outputId": "5a0f8930-8e1c-4985-9df5-2f534e924209",
        "colab": {
          "base_uri": "https://localhost:8080/",
          "height": 187
        }
      },
      "source": [
        "showTotes('water_cost_share')"
      ],
      "execution_count": 0,
      "outputs": [
        {
          "output_type": "stream",
          "text": [
            "Democrat:\n",
            "  1    120\n",
            "-1    119\n",
            " 0     28\n",
            "Name: water_cost_share, dtype: int64\n",
            "Republican:\n",
            "  1    75\n",
            "-1    73\n",
            " 0    20\n",
            "Name: water_cost_share, dtype: int64\n"
          ],
          "name": "stdout"
        }
      ]
    },
    {
      "cell_type": "markdown",
      "metadata": {
        "id": "qUPzMudLJ52C",
        "colab_type": "text"
      },
      "source": [
        "###Budget Res Adoption"
      ]
    },
    {
      "cell_type": "code",
      "metadata": {
        "id": "srQO-AH1vCUi",
        "colab_type": "code",
        "colab": {}
      },
      "source": [
        "#budget res adoption\n",
        "budget = ttest_ind(dem_sam['budget_res_adoption'], rep_sam['budget_res_adoption'])\n",
        "f'{budget.pvalue:.20%}'\n",
        "\n",
        "#pvalue is lower than .05%, reject null hypothesis. Means are highly likely to be different"
      ],
      "execution_count": 0,
      "outputs": []
    },
    {
      "cell_type": "code",
      "metadata": {
        "id": "GdWomJJnGhGr",
        "colab_type": "code",
        "outputId": "daac6992-4301-47e3-8e8f-d5d11e396157",
        "colab": {
          "base_uri": "https://localhost:8080/",
          "height": 187
        }
      },
      "source": [
        "showTotes('budget_res_adoption')"
      ],
      "execution_count": 0,
      "outputs": [
        {
          "output_type": "stream",
          "text": [
            "Democrat:\n",
            "  1    231\n",
            "-1     29\n",
            " 0      7\n",
            "Name: budget_res_adoption, dtype: int64\n",
            "Republican:\n",
            " -1    142\n",
            " 1     22\n",
            " 0      4\n",
            "Name: budget_res_adoption, dtype: int64\n"
          ],
          "name": "stdout"
        }
      ]
    },
    {
      "cell_type": "markdown",
      "metadata": {
        "id": "fxNEDsHzJ92Q",
        "colab_type": "text"
      },
      "source": [
        "###Dr Fee Freeze"
      ]
    },
    {
      "cell_type": "code",
      "metadata": {
        "id": "AxzDJ7S0vPOY",
        "colab_type": "code",
        "colab": {}
      },
      "source": [
        "#dr fee freeze\n",
        "dr_freeze = ttest_ind(dem_sam['dr_fee_freeze'], rep_sam['dr_fee_freeze'])\n",
        "f'{dr_freeze.pvalue:.20%}'\n",
        "\n",
        "#pvalue is lower than .05%, reject null hypothesis. Means are highly likely to be different"
      ],
      "execution_count": 0,
      "outputs": []
    },
    {
      "cell_type": "code",
      "metadata": {
        "id": "UesTsqg3IV99",
        "colab_type": "code",
        "outputId": "862763d7-1187-4918-a725-8f3f8b9b4bb2",
        "colab": {
          "base_uri": "https://localhost:8080/",
          "height": 187
        }
      },
      "source": [
        "showTotes('dr_fee_freeze')"
      ],
      "execution_count": 0,
      "outputs": [
        {
          "output_type": "stream",
          "text": [
            "Democrat:\n",
            " -1    245\n",
            " 1     14\n",
            " 0      8\n",
            "Name: dr_fee_freeze, dtype: int64\n",
            "Republican:\n",
            "  1    163\n",
            " 0      3\n",
            "-1      2\n",
            "Name: dr_fee_freeze, dtype: int64\n"
          ],
          "name": "stdout"
        }
      ]
    },
    {
      "cell_type": "markdown",
      "metadata": {
        "id": "LRTYqWiuKCFg",
        "colab_type": "text"
      },
      "source": [
        "###El Salvador Aid Comparison"
      ]
    },
    {
      "cell_type": "code",
      "metadata": {
        "id": "zyTFWa1nvyxo",
        "colab_type": "code",
        "colab": {}
      },
      "source": [
        "#el salvador aid comparison\n",
        "el_salv = ttest_ind(dem_sam['el_salvador_aid'], rep_sam['el_salvador_aid'])\n",
        "f'{el_salv.pvalue:.20%}'\n",
        "\n",
        "#pvalue is lower than .05%, reject null hypothesis. Means are highly likely to be different"
      ],
      "execution_count": 0,
      "outputs": []
    },
    {
      "cell_type": "code",
      "metadata": {
        "id": "WMKNxfMIIb_v",
        "colab_type": "code",
        "outputId": "b0f2e8de-997f-43cc-a3f9-63c9234b5026",
        "colab": {
          "base_uri": "https://localhost:8080/",
          "height": 187
        }
      },
      "source": [
        "showTotes('el_salvador_aid')"
      ],
      "execution_count": 0,
      "outputs": [
        {
          "output_type": "stream",
          "text": [
            "Democrat:\n",
            " -1    200\n",
            " 1     55\n",
            " 0     12\n",
            "Name: el_salvador_aid, dtype: int64\n",
            "Republican:\n",
            "  1    157\n",
            "-1      8\n",
            " 0      3\n",
            "Name: el_salvador_aid, dtype: int64\n"
          ],
          "name": "stdout"
        }
      ]
    },
    {
      "cell_type": "markdown",
      "metadata": {
        "id": "vLSYRq-lKHb9",
        "colab_type": "text"
      },
      "source": [
        "###School Religious Groups"
      ]
    },
    {
      "cell_type": "code",
      "metadata": {
        "id": "eIaj8NYHv5Qo",
        "colab_type": "code",
        "colab": {}
      },
      "source": [
        "#school religious groups\n",
        "school_church = ttest_ind(dem_sam['schools_religious_groups'], rep_sam['schools_religious_groups'])\n",
        "f'{school_church.pvalue:.20%}'\n",
        "\n",
        "#pvalue is lower than .05%, reject null hypothesis. Means are highly likely to be different"
      ],
      "execution_count": 0,
      "outputs": []
    },
    {
      "cell_type": "code",
      "metadata": {
        "id": "m-Im3CIAIglZ",
        "colab_type": "code",
        "outputId": "76f4218a-7a20-43d8-e977-ed69b6e39426",
        "colab": {
          "base_uri": "https://localhost:8080/",
          "height": 187
        }
      },
      "source": [
        "showTotes('schools_religious_groups')"
      ],
      "execution_count": 0,
      "outputs": [
        {
          "output_type": "stream",
          "text": [
            "Democrat:\n",
            " -1    135\n",
            " 1    123\n",
            " 0      9\n",
            "Name: schools_religious_groups, dtype: int64\n",
            "Republican:\n",
            "  1    149\n",
            "-1     17\n",
            " 0      2\n",
            "Name: schools_religious_groups, dtype: int64\n"
          ],
          "name": "stdout"
        }
      ]
    },
    {
      "cell_type": "markdown",
      "metadata": {
        "id": "q6qaEByaKLJK",
        "colab_type": "text"
      },
      "source": [
        "###Anti Satellite Ban"
      ]
    },
    {
      "cell_type": "code",
      "metadata": {
        "id": "z1SA1lO8wUb5",
        "colab_type": "code",
        "colab": {}
      },
      "source": [
        "#anti satellite ban\n",
        "asb = ttest_ind(dem_sam['anti_satellite_ban'], rep_sam['anti_satellite_ban'])\n",
        "f'{asb.pvalue:.20%}'\n",
        "\n",
        "#pvalue is lower than .05%, reject null hypothesis. Means are highly likely to be different"
      ],
      "execution_count": 0,
      "outputs": []
    },
    {
      "cell_type": "code",
      "metadata": {
        "id": "yf_M4N__Ilme",
        "colab_type": "code",
        "outputId": "21199985-41cd-4c29-9fce-f21ad61a4a7d",
        "colab": {
          "base_uri": "https://localhost:8080/",
          "height": 187
        }
      },
      "source": [
        "showTotes('anti_satellite_ban')"
      ],
      "execution_count": 0,
      "outputs": [
        {
          "output_type": "stream",
          "text": [
            "Democrat:\n",
            "  1    200\n",
            "-1     59\n",
            " 0      8\n",
            "Name: anti_satellite_ban, dtype: int64\n",
            "Republican:\n",
            " -1    123\n",
            " 1     39\n",
            " 0      6\n",
            "Name: anti_satellite_ban, dtype: int64\n"
          ],
          "name": "stdout"
        }
      ]
    },
    {
      "cell_type": "markdown",
      "metadata": {
        "id": "2Z2O5in_KPeQ",
        "colab_type": "text"
      },
      "source": [
        "###Nicaraguan Aid"
      ]
    },
    {
      "cell_type": "code",
      "metadata": {
        "id": "ehMjRzP3wYL4",
        "colab_type": "code",
        "colab": {}
      },
      "source": [
        "#nicaraguan aid\n",
        "nic_aid = ttest_ind(dem_sam['nicaraguan_aid'], rep_sam['nicaraguan_aid'])\n",
        "f'{nic_aid.pvalue:.20%}'\n",
        "\n",
        "#pvalue is lower than .05%, reject null hypothesis. Means are highly likely to be different"
      ],
      "execution_count": 0,
      "outputs": []
    },
    {
      "cell_type": "code",
      "metadata": {
        "id": "crWa-3MvIqYO",
        "colab_type": "code",
        "outputId": "90d6edc9-44d6-4a50-97a3-335cfe0d1fdb",
        "colab": {
          "base_uri": "https://localhost:8080/",
          "height": 187
        }
      },
      "source": [
        "showTotes('nicaraguan_aid')"
      ],
      "execution_count": 0,
      "outputs": [
        {
          "output_type": "stream",
          "text": [
            "Democrat:\n",
            "  1    218\n",
            "-1     45\n",
            " 0      4\n",
            "Name: nicaraguan_aid, dtype: int64\n",
            "Republican:\n",
            " -1    133\n",
            " 1     24\n",
            " 0     11\n",
            "Name: nicaraguan_aid, dtype: int64\n"
          ],
          "name": "stdout"
        }
      ]
    },
    {
      "cell_type": "markdown",
      "metadata": {
        "id": "7JJW9pHzKXV6",
        "colab_type": "text"
      },
      "source": [
        "###Fire Ze Missiles"
      ]
    },
    {
      "cell_type": "code",
      "metadata": {
        "id": "eozHnUNEwbpw",
        "colab_type": "code",
        "colab": {}
      },
      "source": [
        "#missile\n",
        "fire_ze_missiles = ttest_ind(dem_sam['missile'], rep_sam['missile'])\n",
        "f'{fire_ze_missiles.pvalue:.20%}'\n",
        "\n",
        "#pvalue is lower than .05%, reject null hypothesis. Means are highly likely to be different"
      ],
      "execution_count": 0,
      "outputs": []
    },
    {
      "cell_type": "code",
      "metadata": {
        "id": "qqYq8BFVIubH",
        "colab_type": "code",
        "outputId": "cea95c81-1b27-4fdc-b19d-d240df2878b0",
        "colab": {
          "base_uri": "https://localhost:8080/",
          "height": 187
        }
      },
      "source": [
        "showTotes('missile')"
      ],
      "execution_count": 0,
      "outputs": [
        {
          "output_type": "stream",
          "text": [
            "Democrat:\n",
            "  1    188\n",
            "-1     60\n",
            " 0     19\n",
            "Name: missile, dtype: int64\n",
            "Republican:\n",
            " -1    146\n",
            " 1     19\n",
            " 0      3\n",
            "Name: missile, dtype: int64\n"
          ],
          "name": "stdout"
        }
      ]
    },
    {
      "cell_type": "markdown",
      "metadata": {
        "id": "_K1G_oncKZvB",
        "colab_type": "text"
      },
      "source": [
        "###Immigration"
      ]
    },
    {
      "cell_type": "code",
      "metadata": {
        "id": "8wLSTg3_wcGw",
        "colab_type": "code",
        "colab": {}
      },
      "source": [
        "#immigration\n",
        "gatekeeping = ttest_ind(dem_sam['immigration'], rep_sam['immigration'])\n",
        "f'{gatekeeping.pvalue:.20%}'\n",
        "\n",
        "#pvalue is higher than .05%, failed to reject null hypotheses. Means are highly likely to be the same. "
      ],
      "execution_count": 0,
      "outputs": []
    },
    {
      "cell_type": "code",
      "metadata": {
        "id": "THr1Xmx2IxaD",
        "colab_type": "code",
        "outputId": "b6785db2-ae1b-430e-fe4a-46770a2954e2",
        "colab": {
          "base_uri": "https://localhost:8080/",
          "height": 187
        }
      },
      "source": [
        "showTotes('immigration')"
      ],
      "execution_count": 0,
      "outputs": [
        {
          "output_type": "stream",
          "text": [
            "Democrat:\n",
            " -1    139\n",
            " 1    124\n",
            " 0      4\n",
            "Name: immigration, dtype: int64\n",
            "Republican:\n",
            "  1    92\n",
            "-1    73\n",
            " 0     3\n",
            "Name: immigration, dtype: int64\n"
          ],
          "name": "stdout"
        }
      ]
    },
    {
      "cell_type": "markdown",
      "metadata": {
        "id": "chZfSOQDKf8-",
        "colab_type": "text"
      },
      "source": [
        "###Fuel Corp Cutback"
      ]
    },
    {
      "cell_type": "code",
      "metadata": {
        "id": "FSgfj7IIwcWY",
        "colab_type": "code",
        "colab": {}
      },
      "source": [
        "#fuel corp cutback\n",
        "fuel = ttest_ind(dem_sam['fuel_corp_cutback'], rep_sam['fuel_corp_cutback'])\n",
        "f'{fuel.pvalue:.20%}'\n",
        "\n",
        "#pvalue is higher than .05%, failed to reject null hypotheses. Means are highly likely to be the same. "
      ],
      "execution_count": 0,
      "outputs": []
    },
    {
      "cell_type": "code",
      "metadata": {
        "id": "9C1MD1oLI25B",
        "colab_type": "code",
        "outputId": "98cab993-4a19-448b-e9a4-d6ccaf0ffd8c",
        "colab": {
          "base_uri": "https://localhost:8080/",
          "height": 187
        }
      },
      "source": [
        "showTotes('fuel_corp_cutback')"
      ],
      "execution_count": 0,
      "outputs": [
        {
          "output_type": "stream",
          "text": [
            "Democrat:\n",
            "  1    129\n",
            "-1    126\n",
            " 0     12\n",
            "Name: fuel_corp_cutback, dtype: int64\n",
            "Republican:\n",
            " -1    138\n",
            " 1     21\n",
            " 0      9\n",
            "Name: fuel_corp_cutback, dtype: int64\n"
          ],
          "name": "stdout"
        }
      ]
    },
    {
      "cell_type": "markdown",
      "metadata": {
        "id": "G-Re1TiCKiKB",
        "colab_type": "text"
      },
      "source": [
        "###Edu Spending"
      ]
    },
    {
      "cell_type": "code",
      "metadata": {
        "id": "S9yu5JNzwcjw",
        "colab_type": "code",
        "colab": {}
      },
      "source": [
        "#edu spending\n",
        "edu_spend = ttest_ind(dem_sam['edu_spending'], rep_sam['edu_spending'])\n",
        "f'{edu_spend.pvalue:.20%}'\n",
        "\n",
        "#pvalue is lower than .05%, reject null hypothesis. Means are highly likely to be different"
      ],
      "execution_count": 0,
      "outputs": []
    },
    {
      "cell_type": "code",
      "metadata": {
        "id": "WF3NP_TlI8WN",
        "colab_type": "code",
        "outputId": "7f6f985c-0922-4ce6-8770-799da7376cd7",
        "colab": {
          "base_uri": "https://localhost:8080/",
          "height": 187
        }
      },
      "source": [
        "showTotes('edu_spending')"
      ],
      "execution_count": 0,
      "outputs": [
        {
          "output_type": "stream",
          "text": [
            "Democrat:\n",
            " -1    213\n",
            " 1     36\n",
            " 0     18\n",
            "Name: edu_spending, dtype: int64\n",
            "Republican:\n",
            "  1    135\n",
            "-1     20\n",
            " 0     13\n",
            "Name: edu_spending, dtype: int64\n"
          ],
          "name": "stdout"
        }
      ]
    },
    {
      "cell_type": "markdown",
      "metadata": {
        "id": "HDB4vFONKkr7",
        "colab_type": "text"
      },
      "source": [
        "###Superfund Sue"
      ]
    },
    {
      "cell_type": "code",
      "metadata": {
        "id": "4ZdbDsIuwcxo",
        "colab_type": "code",
        "colab": {}
      },
      "source": [
        "#superfund sue\n",
        "supersue = ttest_ind(dem_sam['superfund_sue'], rep_sam['superfund_sue'])\n",
        "f'{supersue.pvalue:.20%}'\n",
        "\n",
        "#pvalue is lower than .05%, reject null hypothesis. Means are highly likely to be different"
      ],
      "execution_count": 0,
      "outputs": []
    },
    {
      "cell_type": "code",
      "metadata": {
        "id": "0sePwLQ5JAV_",
        "colab_type": "code",
        "outputId": "c5150396-8e74-45b2-a935-c90259f4cc34",
        "colab": {
          "base_uri": "https://localhost:8080/",
          "height": 187
        }
      },
      "source": [
        "showTotes('superfund_sue')"
      ],
      "execution_count": 0,
      "outputs": [
        {
          "output_type": "stream",
          "text": [
            "Democrat:\n",
            " -1    179\n",
            " 1     73\n",
            " 0     15\n",
            "Name: superfund_sue, dtype: int64\n",
            "Republican:\n",
            "  1    136\n",
            "-1     22\n",
            " 0     10\n",
            "Name: superfund_sue, dtype: int64\n"
          ],
          "name": "stdout"
        }
      ]
    },
    {
      "cell_type": "markdown",
      "metadata": {
        "id": "w2TgTHa0KoWw",
        "colab_type": "text"
      },
      "source": [
        "###Crime"
      ]
    },
    {
      "cell_type": "code",
      "metadata": {
        "id": "MBb2Wxe_wc_o",
        "colab_type": "code",
        "colab": {}
      },
      "source": [
        "#crime\n",
        "criminy = ttest_ind(dem_sam['crime'], rep_sam['crime'])\n",
        "f'{criminy.pvalue:.20%}'\n",
        "\n",
        "#pvalue is lower than .05%, reject null hypothesis. Means are highly likely to be different"
      ],
      "execution_count": 0,
      "outputs": []
    },
    {
      "cell_type": "code",
      "metadata": {
        "id": "pnqVjqAsJFHc",
        "colab_type": "code",
        "outputId": "50b5648a-d25b-4279-b431-c7881fe4639d",
        "colab": {
          "base_uri": "https://localhost:8080/",
          "height": 187
        }
      },
      "source": [
        "showTotes('crime')"
      ],
      "execution_count": 0,
      "outputs": [
        {
          "output_type": "stream",
          "text": [
            "Democrat:\n",
            " -1    167\n",
            " 1     90\n",
            " 0     10\n",
            "Name: crime, dtype: int64\n",
            "Republican:\n",
            "  1    158\n",
            " 0      7\n",
            "-1      3\n",
            "Name: crime, dtype: int64\n"
          ],
          "name": "stdout"
        }
      ]
    },
    {
      "cell_type": "markdown",
      "metadata": {
        "id": "5geBREYBKqrB",
        "colab_type": "text"
      },
      "source": [
        "###Exports"
      ]
    },
    {
      "cell_type": "code",
      "metadata": {
        "id": "fDymv6ZBwdMA",
        "colab_type": "code",
        "colab": {}
      },
      "source": [
        "#exports\n",
        "ex_ports = ttest_ind(dem_sam['exports'], rep_sam['exports'])\n",
        "f'{ex_ports.pvalue:.20%}'\n",
        "\n",
        "#pvalue is lower than .05%, reject null hypothesis. Means are highly likely to be different"
      ],
      "execution_count": 0,
      "outputs": []
    },
    {
      "cell_type": "code",
      "metadata": {
        "id": "xTylBZgMJJGp",
        "colab_type": "code",
        "outputId": "25f32eee-76e9-455e-c91a-77fcf6d2e4f3",
        "colab": {
          "base_uri": "https://localhost:8080/",
          "height": 187
        }
      },
      "source": [
        "showTotes('exports')"
      ],
      "execution_count": 0,
      "outputs": [
        {
          "output_type": "stream",
          "text": [
            "Democrat:\n",
            "  1    160\n",
            "-1     91\n",
            " 0     16\n",
            "Name: exports, dtype: int64\n",
            "Republican:\n",
            " -1    142\n",
            " 1     14\n",
            " 0     12\n",
            "Name: exports, dtype: int64\n"
          ],
          "name": "stdout"
        }
      ]
    },
    {
      "cell_type": "markdown",
      "metadata": {
        "id": "yBbM7nUkKuAp",
        "colab_type": "text"
      },
      "source": [
        "###South African Export Admin"
      ]
    },
    {
      "cell_type": "code",
      "metadata": {
        "id": "rrDvt-XpwdZA",
        "colab_type": "code",
        "colab": {}
      },
      "source": [
        "#south african export admin\n",
        "saea = ttest_ind(dem_sam['south_africa_export_admin'], rep_sam['south_africa_export_admin'])\n",
        "f'{saea.pvalue:.20%}'\n",
        "\n",
        "#pvalue is higher than .05%, failed to reject null hypotheses. Means are highly likely to be the same. "
      ],
      "execution_count": 0,
      "outputs": []
    },
    {
      "cell_type": "code",
      "metadata": {
        "id": "DsckvD4YJNCl",
        "colab_type": "code",
        "outputId": "f271eaa1-8a39-4129-e9ac-5a565c6e29a3",
        "colab": {
          "base_uri": "https://localhost:8080/",
          "height": 187
        }
      },
      "source": [
        "showTotes('south_africa_export_admin')"
      ],
      "execution_count": 0,
      "outputs": [
        {
          "output_type": "stream",
          "text": [
            "Democrat:\n",
            "  1    173\n",
            " 0     82\n",
            "-1     12\n",
            "Name: south_africa_export_admin, dtype: int64\n",
            "Republican:\n",
            "  1    96\n",
            "-1    50\n",
            " 0    22\n",
            "Name: south_africa_export_admin, dtype: int64\n"
          ],
          "name": "stdout"
        }
      ]
    },
    {
      "cell_type": "markdown",
      "metadata": {
        "id": "R9MHNFCKD1px",
        "colab_type": "text"
      },
      "source": [
        "#Conclusions: \n",
        "\n",
        "##Democrats supported more than Republicans w/ P-Value: < .01\n",
        "\n",
        "\n",
        "\n",
        "*   Budget Res Adoption:  .00001%\n",
        "\n",
        "\n",
        "##Republicans supported more than Democrats w/ P-Value: < .01\n",
        "\n",
        "* Dr Fee Freeze : .000000002%\n",
        "\n",
        "##Difference between Dem and Rep with p-value > .01\n",
        "\n",
        "* Water Cost Share: 41.6%\n",
        "\n",
        "\n",
        "\n",
        "\n",
        "\n"
      ]
    },
    {
      "cell_type": "markdown",
      "metadata": {
        "id": "Hk3mI9Bsyj4B",
        "colab_type": "text"
      },
      "source": [
        "\n",
        "\n",
        "---\n",
        "\n"
      ]
    },
    {
      "cell_type": "markdown",
      "metadata": {
        "id": "pOpBLYh57XlA",
        "colab_type": "text"
      },
      "source": [
        "**Challenge**\n",
        "\n",
        "Write Python functions to calculate both the number of combinations and the number of permutations for given $n$ and $k$ (yes, these functions definitely exist out there - code your own, and compare!)."
      ]
    },
    {
      "cell_type": "code",
      "metadata": {
        "id": "9IPWlj117gQI",
        "colab_type": "code",
        "colab": {}
      },
      "source": [
        "#only need n since we define fact in the function\n",
        "#factorial will always be 1\n",
        "def combo_attack(n):\n",
        "  fact = 1\n",
        "#i stands for whatever the current value in the range is right now\n",
        "  for i in range(1, n+1):\n",
        "    fact = fact*i\n",
        "  return fact\n",
        "\n",
        "#premutation test\n",
        "def numb_perm(n,k):\n",
        "  #n!/k!(n-k)!\n",
        "  numb = combo_attack(n)/combo_attack(k) * (combo_attack(n-k))\n",
        "  return numb\n",
        "\n",
        "print(numb_perm(9,2))"
      ],
      "execution_count": 0,
      "outputs": []
    },
    {
      "cell_type": "markdown",
      "metadata": {
        "id": "GKeT8SUi6_Ex",
        "colab_type": "text"
      },
      "source": [
        "**Challenge**\n",
        "\n",
        "\n",
        "Using scipy.stats.ttest_1samp, perform a t-test on the above scenario, with the following data as input:\n",
        "\n",
        "Copy\n",
        "\n",
        "[0, 1, 0, 1, 0, 0, 0, 1, 1, 0, 0, 1, 1, 1, 1, 1, 1, 1, 0, 0,\n",
        " 1, 1, 1, 1, 1, 1, 1, 1, 1, 0, 1, 1, 1, 1, 1, 1, 1, 0, 1, 0, 1,\n",
        " 1, 0, 1, 0, 1, 1, 0, 0, 0]\n",
        "\n",
        "This list represents 50 respondents to the survey, where a 1 indicates preference for Pepsi and a 0 indicates preferences for Coke.\n",
        "\n",
        "After you perform the test, try to interpret your results - one hint is that, for most statistical tests, a larger test statistic means more “significant” or unusual results."
      ]
    },
    {
      "cell_type": "code",
      "metadata": {
        "id": "x-lpCgoO7g7w",
        "colab_type": "code",
        "colab": {}
      },
      "source": [
        "import scipy.stats\n",
        "\n",
        "scipy.stats.ttest_1samp([], popmean='array-like')"
      ],
      "execution_count": 0,
      "outputs": []
    },
    {
      "cell_type": "code",
      "metadata": {
        "id": "593pMywGDpz1",
        "colab_type": "code",
        "colab": {}
      },
      "source": [
        ""
      ],
      "execution_count": 0,
      "outputs": []
    }
  ]
}
