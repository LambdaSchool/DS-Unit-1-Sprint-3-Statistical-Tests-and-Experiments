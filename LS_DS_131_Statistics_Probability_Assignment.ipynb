{
  "nbformat": 4,
  "nbformat_minor": 0,
  "metadata": {
    "kernelspec": {
      "display_name": "Python 3",
      "language": "python",
      "name": "python3"
    },
    "language_info": {
      "codemirror_mode": {
        "name": "ipython",
        "version": 3
      },
      "file_extension": ".py",
      "mimetype": "text/x-python",
      "name": "python",
      "nbconvert_exporter": "python",
      "pygments_lexer": "ipython3",
      "version": "3.7.3"
    },
    "colab": {
      "name": "LS_DS_131_Statistics_Probability_Assignment.ipynb",
      "version": "0.3.2",
      "provenance": [],
      "collapsed_sections": [],
      "include_colab_link": true
    }
  },
  "cells": [
    {
      "cell_type": "markdown",
      "metadata": {
        "id": "view-in-github",
        "colab_type": "text"
      },
      "source": [
        "<a href=\"https://colab.research.google.com/github/Jordan-Ireland/DS-Unit-1-Sprint-3-Statistical-Tests-and-Experiments/blob/master/LS_DS_131_Statistics_Probability_Assignment.ipynb\" target=\"_parent\"><img src=\"https://colab.research.google.com/assets/colab-badge.svg\" alt=\"Open In Colab\"/></a>"
      ]
    },
    {
      "cell_type": "markdown",
      "metadata": {
        "id": "MVvM1LU1OCPo",
        "colab_type": "text"
      },
      "source": [
        "<img align=\"left\" src=\"https://lever-client-logos.s3.amazonaws.com/864372b1-534c-480e-acd5-9711f850815c-1524247202159.png\" width=200>\n",
        "<br></br>\n",
        "<br></br>\n",
        "\n",
        "## *Data Science Unit 1 Sprint 3 Assignment 1*\n",
        "\n",
        "# Apply the t-test to real data\n",
        "\n",
        "Your assignment is to determine which issues have \"statistically significant\" differences between political parties in this [1980s congressional voting data](https://archive.ics.uci.edu/ml/datasets/Congressional+Voting+Records). The data consists of 435 instances (one for each congressperson), a class (democrat or republican), and 16 binary attributes (yes or no for voting for or against certain issues). Be aware - there are missing values!\n",
        "\n",
        "Your goals:\n",
        "\n",
        "1. Load and clean the data (or determine the best method to drop observations when running tests)\n",
        "2. Using hypothesis testing, find an issue that democrats support more than republicans with p < 0.01\n",
        "3. Using hypothesis testing, find an issue that republicans support more than democrats with p < 0.01\n",
        "4. Using hypothesis testing, find an issue where the difference between republicans and democrats has p > 0.1 (i.e. there may not be much of a difference)\n",
        "\n",
        "Note that this data will involve *2 sample* t-tests, because you're comparing averages across two groups (republicans and democrats) rather than a single group against a null hypothesis.\n",
        "\n",
        "Stretch goals:\n",
        "\n",
        "1. Refactor your code into functions so it's easy to rerun with arbitrary variables\n",
        "2. Apply hypothesis testing to your personal project data (for the purposes of this notebook you can type a summary of the hypothesis you formed and tested)"
      ]
    },
    {
      "cell_type": "code",
      "metadata": {
        "id": "QYDQkgYZOCPp",
        "colab_type": "code",
        "colab": {}
      },
      "source": [
        "### YOUR CODE STARTS HERE\n",
        "import pandas as pd\n",
        "import numpy as np\n",
        "import seaborn as sns\n",
        "from scipy.stats import ttest_ind, ttest_ind_from_stats, ttest_rel, ttest_1samp"
      ],
      "execution_count": 0,
      "outputs": []
    },
    {
      "cell_type": "code",
      "metadata": {
        "id": "hNOzd21yO5Qv",
        "colab_type": "code",
        "outputId": "1439553b-cd8d-436b-f3f9-ffd8e8ea7e70",
        "colab": {
          "base_uri": "https://localhost:8080/",
          "height": 238
        }
      },
      "source": [
        "column_headers = ['party','handicapped-infant','water-project','adoption-budget','physician-fee-freeze',\n",
        "                  'el-salvado-aid','religious-groups-in-school','anti-satellite-ban',\n",
        "                  'aid-to-nicaragua','mx-missile','immigration','synfuels-corp-cutback',\n",
        "                  'education-spending','superfund-right-sue','crime','duty-free-exports',\n",
        "                  'export-admin-act']\n",
        "\n",
        "link = 'https://archive.ics.uci.edu/ml/machine-learning-databases/voting-records/house-votes-84.data'\n",
        "df = pd.read_csv(link,names=column_headers).replace(to_replace=('y','n','?'),value=(1,0,np.NaN))\n",
        "\n",
        "df.head()"
      ],
      "execution_count": 69,
      "outputs": [
        {
          "output_type": "execute_result",
          "data": {
            "text/html": [
              "<div>\n",
              "<style scoped>\n",
              "    .dataframe tbody tr th:only-of-type {\n",
              "        vertical-align: middle;\n",
              "    }\n",
              "\n",
              "    .dataframe tbody tr th {\n",
              "        vertical-align: top;\n",
              "    }\n",
              "\n",
              "    .dataframe thead th {\n",
              "        text-align: right;\n",
              "    }\n",
              "</style>\n",
              "<table border=\"1\" class=\"dataframe\">\n",
              "  <thead>\n",
              "    <tr style=\"text-align: right;\">\n",
              "      <th></th>\n",
              "      <th>party</th>\n",
              "      <th>handicapped-infant</th>\n",
              "      <th>water-project</th>\n",
              "      <th>adoption-budget</th>\n",
              "      <th>physician-fee-freeze</th>\n",
              "      <th>el-salvado-aid</th>\n",
              "      <th>religious-groups-in-school</th>\n",
              "      <th>anti-satellite-ban</th>\n",
              "      <th>aid-to-nicaragua</th>\n",
              "      <th>mx-missile</th>\n",
              "      <th>immigration</th>\n",
              "      <th>synfuels-corp-cutback</th>\n",
              "      <th>education-spending</th>\n",
              "      <th>superfund-right-sue</th>\n",
              "      <th>crime</th>\n",
              "      <th>duty-free-exports</th>\n",
              "      <th>export-admin-act</th>\n",
              "    </tr>\n",
              "  </thead>\n",
              "  <tbody>\n",
              "    <tr>\n",
              "      <th>0</th>\n",
              "      <td>republican</td>\n",
              "      <td>0.0</td>\n",
              "      <td>1.0</td>\n",
              "      <td>0.0</td>\n",
              "      <td>1.0</td>\n",
              "      <td>1.0</td>\n",
              "      <td>1.0</td>\n",
              "      <td>0.0</td>\n",
              "      <td>0.0</td>\n",
              "      <td>0.0</td>\n",
              "      <td>1.0</td>\n",
              "      <td>NaN</td>\n",
              "      <td>1.0</td>\n",
              "      <td>1.0</td>\n",
              "      <td>1.0</td>\n",
              "      <td>0.0</td>\n",
              "      <td>1.0</td>\n",
              "    </tr>\n",
              "    <tr>\n",
              "      <th>1</th>\n",
              "      <td>republican</td>\n",
              "      <td>0.0</td>\n",
              "      <td>1.0</td>\n",
              "      <td>0.0</td>\n",
              "      <td>1.0</td>\n",
              "      <td>1.0</td>\n",
              "      <td>1.0</td>\n",
              "      <td>0.0</td>\n",
              "      <td>0.0</td>\n",
              "      <td>0.0</td>\n",
              "      <td>0.0</td>\n",
              "      <td>0.0</td>\n",
              "      <td>1.0</td>\n",
              "      <td>1.0</td>\n",
              "      <td>1.0</td>\n",
              "      <td>0.0</td>\n",
              "      <td>NaN</td>\n",
              "    </tr>\n",
              "    <tr>\n",
              "      <th>2</th>\n",
              "      <td>democrat</td>\n",
              "      <td>NaN</td>\n",
              "      <td>1.0</td>\n",
              "      <td>1.0</td>\n",
              "      <td>NaN</td>\n",
              "      <td>1.0</td>\n",
              "      <td>1.0</td>\n",
              "      <td>0.0</td>\n",
              "      <td>0.0</td>\n",
              "      <td>0.0</td>\n",
              "      <td>0.0</td>\n",
              "      <td>1.0</td>\n",
              "      <td>0.0</td>\n",
              "      <td>1.0</td>\n",
              "      <td>1.0</td>\n",
              "      <td>0.0</td>\n",
              "      <td>0.0</td>\n",
              "    </tr>\n",
              "    <tr>\n",
              "      <th>3</th>\n",
              "      <td>democrat</td>\n",
              "      <td>0.0</td>\n",
              "      <td>1.0</td>\n",
              "      <td>1.0</td>\n",
              "      <td>0.0</td>\n",
              "      <td>NaN</td>\n",
              "      <td>1.0</td>\n",
              "      <td>0.0</td>\n",
              "      <td>0.0</td>\n",
              "      <td>0.0</td>\n",
              "      <td>0.0</td>\n",
              "      <td>1.0</td>\n",
              "      <td>0.0</td>\n",
              "      <td>1.0</td>\n",
              "      <td>0.0</td>\n",
              "      <td>0.0</td>\n",
              "      <td>1.0</td>\n",
              "    </tr>\n",
              "    <tr>\n",
              "      <th>4</th>\n",
              "      <td>democrat</td>\n",
              "      <td>1.0</td>\n",
              "      <td>1.0</td>\n",
              "      <td>1.0</td>\n",
              "      <td>0.0</td>\n",
              "      <td>1.0</td>\n",
              "      <td>1.0</td>\n",
              "      <td>0.0</td>\n",
              "      <td>0.0</td>\n",
              "      <td>0.0</td>\n",
              "      <td>0.0</td>\n",
              "      <td>1.0</td>\n",
              "      <td>NaN</td>\n",
              "      <td>1.0</td>\n",
              "      <td>1.0</td>\n",
              "      <td>1.0</td>\n",
              "      <td>1.0</td>\n",
              "    </tr>\n",
              "  </tbody>\n",
              "</table>\n",
              "</div>"
            ],
            "text/plain": [
              "        party  handicapped-infant  ...  duty-free-exports  export-admin-act\n",
              "0  republican                 0.0  ...                0.0               1.0\n",
              "1  republican                 0.0  ...                0.0               NaN\n",
              "2    democrat                 NaN  ...                0.0               0.0\n",
              "3    democrat                 0.0  ...                0.0               1.0\n",
              "4    democrat                 1.0  ...                1.0               1.0\n",
              "\n",
              "[5 rows x 17 columns]"
            ]
          },
          "metadata": {
            "tags": []
          },
          "execution_count": 69
        }
      ]
    },
    {
      "cell_type": "code",
      "metadata": {
        "id": "a6XWyDMmS0Kx",
        "colab_type": "code",
        "colab": {}
      },
      "source": [
        "dem = df[df['party'] == 'democrat']\n",
        "rep = df[df['party'] == 'republican']"
      ],
      "execution_count": 0,
      "outputs": []
    },
    {
      "cell_type": "code",
      "metadata": {
        "id": "dGSKFeTGPDpf",
        "colab_type": "code",
        "colab": {
          "base_uri": "https://localhost:8080/",
          "height": 289
        },
        "outputId": "a844c509-ac53-4fb3-ca6f-a7d0486d02f0"
      },
      "source": [
        "def support_stats(data1,data2=None,testvalue=None, key=None):\n",
        "  if data2 is not None:   \n",
        "    return {key: ttest_ind(data1, data2, nan_policy='omit')}\n",
        "  else:      \n",
        "    return {key: ttest_1samp(data1, testvalue, nan_policy='omit')}\n",
        "    \n",
        "\n",
        "test = [support_stats(rep[issue], data2=dem[issue], key=issue) for issue in df.loc[:, df.columns != 'party']]\n",
        "test\n",
        "  "
      ],
      "execution_count": 60,
      "outputs": [
        {
          "output_type": "execute_result",
          "data": {
            "text/plain": [
              "[{'handicapped-infant': Ttest_indResult(statistic=-9.205264294809222, pvalue=1.613440327937243e-18)},\n",
              " {'water-project': Ttest_indResult(statistic=0.08896538137868286, pvalue=0.9291556823993485)},\n",
              " {'adoption-budget': Ttest_indResult(statistic=-23.21277691701378, pvalue=2.0703402795404463e-77)},\n",
              " {'physician-fee-freeze': Ttest_indResult(statistic=49.36708157301406, pvalue=1.994262314074344e-177)},\n",
              " {'el-salvado-aid': Ttest_indResult(statistic=21.13669261173219, pvalue=5.600520111729011e-68)},\n",
              " {'religious-groups-in-school': Ttest_indResult(statistic=9.737575825219457, pvalue=2.3936722520597287e-20)},\n",
              " {'anti-satellite-ban': Ttest_indResult(statistic=-12.526187929077842, pvalue=8.521033017443867e-31)},\n",
              " {'aid-to-nicaragua': Ttest_indResult(statistic=-18.052093200819733, pvalue=2.82471841372357e-54)},\n",
              " {'mx-missile': Ttest_indResult(statistic=-16.437503268542994, pvalue=5.03079265310811e-47)},\n",
              " {'immigration': Ttest_indResult(statistic=1.7359117329695164, pvalue=0.08330248490425066)},\n",
              " {'synfuels-corp-cutback': Ttest_indResult(statistic=-8.293603989407588, pvalue=1.5759322301054064e-15)},\n",
              " {'education-spending': Ttest_indResult(statistic=20.500685724563073, pvalue=1.8834203990450192e-64)},\n",
              " {'superfund-right-sue': Ttest_indResult(statistic=13.51064251060933, pvalue=1.2278581709672758e-34)},\n",
              " {'crime': Ttest_indResult(statistic=16.342085656197696, pvalue=9.952342705606092e-47)},\n",
              " {'duty-free-exports': Ttest_indResult(statistic=-12.853146132542978, pvalue=5.997697174347365e-32)},\n",
              " {'export-admin-act': Ttest_indResult(statistic=-6.849454815841208, pvalue=3.652674361672226e-11)}]"
            ]
          },
          "metadata": {
            "tags": []
          },
          "execution_count": 60
        }
      ]
    },
    {
      "cell_type": "markdown",
      "metadata": {
        "id": "yqfC4Yj-kxuP",
        "colab_type": "text"
      },
      "source": [
        "##Answers \n",
        "###2: Using hypothesis testing, find an issue that democrats support more than republicans with p < 0.01\n",
        " - Democrats support **Adoption Budget** more than republicans with a p-value of **.(76 zeros)20**\n",
        "\n",
        "###3: Using hypothesis testing, find an issue that republicans support more than democrats with p < 0.01\n",
        " - Republicans support **El Salvador Aid** more than Democratss with a p-value of **.(67 zeros)56**\n",
        " \n",
        "###4: Using hypothesis testing, find an issue where the difference between republicans and democrats has p > 0.1 (i.e. there may not be much of a difference)\n",
        " - Republicans and Democrats roughly support **The Water Project** the same with a p-value of **0.8**"
      ]
    }
  ]
}