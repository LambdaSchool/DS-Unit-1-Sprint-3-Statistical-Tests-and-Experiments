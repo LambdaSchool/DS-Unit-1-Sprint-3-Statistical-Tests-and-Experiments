{
  "nbformat": 4,
  "nbformat_minor": 0,
  "metadata": {
    "colab": {
      "name": "LS_DS6_143_Introduction_to_Bayesian_Inference.ipynb",
      "version": "0.3.2",
      "provenance": [],
      "collapsed_sections": [],
      "include_colab_link": true
    },
    "kernelspec": {
      "name": "python3",
      "display_name": "Python 3"
    }
  },
  "cells": [
    {
      "cell_type": "markdown",
      "metadata": {
        "id": "view-in-github",
        "colab_type": "text"
      },
      "source": [
        "<a href=\"https://colab.research.google.com/github/Jordan-Ireland/DS-Unit-1-Sprint-3-Statistical-Tests-and-Experiments/blob/master/LS_DS6_143_Introduction_to_Bayesian_Inference.ipynb\" target=\"_parent\"><img src=\"https://colab.research.google.com/assets/colab-badge.svg\" alt=\"Open In Colab\"/></a>"
      ]
    },
    {
      "cell_type": "markdown",
      "metadata": {
        "id": "H7OLbevlbd_Z",
        "colab_type": "text"
      },
      "source": [
        "# Lambda School Data Science Module 143\n",
        "\n",
        "## Introduction to Bayesian Inference\n",
        "\n",
        "!['Detector! What would the Bayesian statistician say if I asked him whether the--' [roll] 'I AM A NEUTRINO DETECTOR, NOT A LABYRINTH GUARD. SERIOUSLY, DID YOUR BRAIN FALL OUT?' [roll] '... yes.'](https://imgs.xkcd.com/comics/frequentists_vs_bayesians.png)\n",
        "\n",
        "*[XKCD 1132](https://www.xkcd.com/1132/)*\n"
      ]
    },
    {
      "cell_type": "markdown",
      "metadata": {
        "id": "3mz8p08BsN6p",
        "colab_type": "text"
      },
      "source": [
        "## Prepare - Bayes' Theorem and the Bayesian mindset"
      ]
    },
    {
      "cell_type": "markdown",
      "metadata": {
        "id": "GhycNr-Sbeie",
        "colab_type": "text"
      },
      "source": [
        "Bayes' theorem possesses a near-mythical quality - a bit of math that somehow magically evaluates a situation. But this mythicalness has more to do with its reputation and advanced applications than the actual core of it - deriving it is actually remarkably straightforward.\n",
        "\n",
        "### The Law of Total Probability\n",
        "\n",
        "By definition, the total probability of all outcomes (events) if some variable (event space) $A$ is 1. That is:\n",
        "\n",
        "$$P(A) = \\sum_n P(A_n) = 1$$\n",
        "\n",
        "The law of total probability takes this further, considering two variables ($A$ and $B$) and relating their marginal probabilities (their likelihoods considered independently, without reference to one another) and their conditional probabilities (their likelihoods considered jointly). A marginal probability is simply notated as e.g. $P(A)$, while a conditional probability is notated $P(A|B)$, which reads \"probability of $A$ *given* $B$\".\n",
        "\n",
        "The law of total probability states:\n",
        "\n",
        "$$P(A) = \\sum_n P(A | B_n) P(B_n)$$\n",
        "\n",
        "In words - the total probability of $A$ is equal to the sum of the conditional probability of $A$ on any given event $B_n$ times the probability of that event $B_n$, and summed over all possible events in $B$.\n",
        "\n",
        "### The Law of Conditional Probability\n",
        "\n",
        "What's the probability of something conditioned on something else? To determine this we have to go back to set theory and think about the intersection of sets:\n",
        "\n",
        "The formula for actual calculation:\n",
        "\n",
        "$$P(A|B) = \\frac{P(A \\cap B)}{P(B)}$$\n",
        "\n",
        "![Visualization of set intersection](https://upload.wikimedia.org/wikipedia/commons/9/99/Venn0001.svg)\n",
        "\n",
        "Think of the overall rectangle as the whole probability space, $A$ as the left circle, $B$ as the right circle, and their intersection as the red area. Try to visualize the ratio being described in the above formula, and how it is different from just the $P(A)$ (not conditioned on $B$).\n",
        "\n",
        "We can see how this relates back to the law of total probability - multiply both sides by $P(B)$ and you get $P(A|B)P(B) = P(A \\cap B)$ - replaced back into the law of total probability we get $P(A) = \\sum_n P(A \\cap B_n)$.\n",
        "\n",
        "This may not seem like an improvement at first, but try to relate it back to the above picture - if you think of sets as physical objects, we're saying that the total probability of $A$ given $B$ is all the little pieces of it intersected with $B$, added together. The conditional probability is then just that again, but divided by the probability of $B$ itself happening in the first place.\n",
        "\n",
        "\\begin{align}\n",
        "P(A|B) &= \\frac{P(A \\cap B)}{P(B)}\\\\\n",
        "\\Rightarrow P(A|B)P(B) &= P(A \\cap B)\\\\\n",
        "P(B|A) &= \\frac{P(B \\cap A)}{P(A)}\\\\\n",
        "\\Rightarrow P(B|A)P(A) &= P(B \\cap A)\\\\\n",
        "\\Rightarrow P(A|B)P(B) &= P(B|A)P(A) \\\\\n",
        "P(A \\cap B) &= P(B \\cap A)\\\\\n",
        "P(A|B) &= \\frac{P(B|A) \\times P(A)}{P(B)}\n",
        "\\end{align}\n",
        "\n",
        "### Bayes Theorem\n",
        "\n",
        "Here is is, the seemingly magic tool:\n",
        "\n",
        "$$P(A|B) = \\frac{P(B|A)P(A)}{P(B)}$$\n",
        "\n",
        "In words - the probability of $A$ conditioned on $B$ is the probability of $B$ conditioned on $A$, times the probability of $A$ and divided by the probability of $B$. These unconditioned probabilities are referred to as \"prior beliefs\", and the conditioned probabilities as \"updated.\"\n",
        "\n",
        "Why is this important? Scroll back up to the XKCD example - the Bayesian statistician draws a less absurd conclusion because their prior belief in the likelihood that the sun will go nova is extremely low. So, even when updated based on evidence from a detector that is $35/36 = 0.972$ accurate, the prior belief doesn't shift enough to change their overall opinion.\n",
        "\n",
        "There's many examples of Bayes' theorem - one less absurd example is to apply to [breathalyzer tests](https://www.bayestheorem.net/breathalyzer-example/). You may think that a breathalyzer test that is 100% accurate for true positives (detecting somebody who is drunk) is pretty good, but what if it also has 8% false positives (indicating somebody is drunk when they're not)? And furthermore, the rate of drunk driving (and thus our prior belief)  is 1/1000.\n",
        "\n",
        "What is the likelihood somebody really is drunk if they test positive? Some may guess it's 92% - the difference between the true positives and the false positives. But we have a prior belief of the background/true rate of drunk driving. Sounds like a job for Bayes' theorem!\n",
        "\n",
        "$$\n",
        "\\begin{aligned}\n",
        "P(Drunk | Positive) &= \\frac{P(Positive | Drunk)P(Drunk)}{P(Positive)} \\\\\n",
        "&= \\frac{1 \\times 0.001}{0.08} \\\\\n",
        "&= 0.0125\n",
        "\\end{aligned}\n",
        "$$\n",
        "\n",
        "In other words, the likelihood that somebody is drunk given they tested positive with a breathalyzer in this situation is only 1.25% - probably much lower than you'd guess. This is why, in practice, it's important to have a repeated test to confirm (the probability of two false positives in a row is $0.08 * 0.08 = 0.0064$, much lower), and Bayes' theorem has been relevant in court cases where proper consideration of evidence was important.\n",
        "\n",
        "![Names of probabilities](https://miro.medium.com/max/1200/1*YTWinOBUgmStxkbUJZ1vNw.png)\n",
        "\n",
        "![Full Bayes Theorem Equation](https://wikimedia.org/api/rest_v1/media/math/render/svg/95c6524a3736c43e4bae139713f3df2392e6eda9)\n",
        "\n",
        "Source: <https://en.wikipedia.org/wiki/Bayes%27_theorem>"
      ]
    },
    {
      "cell_type": "markdown",
      "metadata": {
        "id": "htI3DGvDsRJF",
        "colab_type": "text"
      },
      "source": [
        "## Live Lecture - Deriving Bayes' Theorem, Calculating Bayesian Confidence"
      ]
    },
    {
      "cell_type": "markdown",
      "metadata": {
        "id": "moIJNQ-nbfe_",
        "colab_type": "text"
      },
      "source": [
        "Notice that $P(A|B)$ appears in the above laws - in Bayesian terms, this is the belief in $A$ updated for the evidence $B$. So all we need to do is solve for this term to derive Bayes' theorem. Let's do it together!"
      ]
    },
    {
      "cell_type": "code",
      "metadata": {
        "id": "ke-5EqJI0Tsn",
        "colab_type": "code",
        "outputId": "b7f9e9b3-267e-4c84-c2a9-f02c6250489c",
        "colab": {
          "base_uri": "https://localhost:8080/",
          "height": 35
        }
      },
      "source": [
        "# Activity 2 - Use SciPy to calculate Bayesian confidence intervals\n",
        "# https://docs.scipy.org/doc/scipy/reference/generated/scipy.stats.bayes_mvs.html#scipy.stats.bayes_mvs\n",
        "\n",
        "from scipy import stats\n",
        "import numpy as np\n",
        "\n",
        "# Set Random Seed for Reproducibility\n",
        "np.random.seed(seed=42)\n",
        "\n",
        "coinflips = np.random.binomial(n=1, p=.5, size=10)\n",
        "print(coinflips)"
      ],
      "execution_count": 0,
      "outputs": [
        {
          "output_type": "stream",
          "text": [
            "[0 1 1 1 0 0 0 1 1 1]\n"
          ],
          "name": "stdout"
        }
      ]
    },
    {
      "cell_type": "code",
      "metadata": {
        "id": "UF7lqJBnGigX",
        "colab_type": "code",
        "outputId": "c397daea-c728-4bc2-ce17-fd723a15aa97",
        "colab": {
          "base_uri": "https://localhost:8080/",
          "height": 35
        }
      },
      "source": [
        "def confidence_interval(data, confidence=.95):\n",
        "  n = len(data)\n",
        "  mean = sum(data)/n\n",
        "  data = np.array(data)\n",
        "  stderr = stats.sem(data)\n",
        "  interval = stderr * stats.t.ppf((1 + confidence) / 2.0, n-1)\n",
        "  return (mean , mean-interval, mean+interval)\n",
        "\n",
        "confidence_interval(coinflips)"
      ],
      "execution_count": 0,
      "outputs": [
        {
          "output_type": "execute_result",
          "data": {
            "text/plain": [
              "(0.6, 0.23059128222016295, 0.969408717779837)"
            ]
          },
          "metadata": {
            "tags": []
          },
          "execution_count": 18
        }
      ]
    },
    {
      "cell_type": "code",
      "metadata": {
        "id": "dq8jLF1fG7Ji",
        "colab_type": "code",
        "outputId": "25392b66-a54d-4434-bebf-81956e1b22d4",
        "colab": {
          "base_uri": "https://localhost:8080/",
          "height": 35
        }
      },
      "source": [
        "bayes_mean_CI, _, _ = stats.bayes_mvs(coinflips, alpha=.95)\n",
        "  \n",
        "bayes_mean_CI"
      ],
      "execution_count": 0,
      "outputs": [
        {
          "output_type": "execute_result",
          "data": {
            "text/plain": [
              "Mean(statistic=0.6, minmax=(0.23059128222016295, 0.969408717779837))"
            ]
          },
          "metadata": {
            "tags": []
          },
          "execution_count": 19
        }
      ]
    },
    {
      "cell_type": "code",
      "metadata": {
        "id": "V_F6sqHtHbO4",
        "colab_type": "code",
        "colab": {}
      },
      "source": [
        "??stats.bayes_mvs"
      ],
      "execution_count": 0,
      "outputs": []
    },
    {
      "cell_type": "code",
      "metadata": {
        "id": "0dERpY9_I-CK",
        "colab_type": "code",
        "outputId": "b07ed852-5f6e-4020-afee-427e0dd79798",
        "colab": {
          "base_uri": "https://localhost:8080/",
          "height": 35
        }
      },
      "source": [
        "coinflips_mean_dist, _, _ = stats.mvsdist(coinflips)\n",
        "coinflips_mean_dist"
      ],
      "execution_count": 0,
      "outputs": [
        {
          "output_type": "execute_result",
          "data": {
            "text/plain": [
              "<scipy.stats._distn_infrastructure.rv_frozen at 0x7fba2dac5da0>"
            ]
          },
          "metadata": {
            "tags": []
          },
          "execution_count": 21
        }
      ]
    },
    {
      "cell_type": "code",
      "metadata": {
        "id": "j4OrGRGGJIZM",
        "colab_type": "code",
        "outputId": "7d39536c-9dee-4ab5-ea37-931f22a998b9",
        "colab": {
          "base_uri": "https://localhost:8080/",
          "height": 1000
        }
      },
      "source": [
        "coinflips_mean_dist.rvs(1000)"
      ],
      "execution_count": 0,
      "outputs": [
        {
          "output_type": "execute_result",
          "data": {
            "text/plain": [
              "array([ 0.52985353,  0.47606763,  0.26177353,  0.51181854,  0.86314686,\n",
              "        0.99555377,  0.42135928,  0.5179047 ,  0.53130477,  0.50931403,\n",
              "        0.79485086,  0.96096814,  0.72023955,  0.33177325,  0.53843743,\n",
              "        0.41428753,  0.50041059,  0.68063441,  0.44606962,  0.4002185 ,\n",
              "        0.33988581,  0.73196787,  0.67252478,  0.83412409,  0.23194598,\n",
              "        0.4098086 ,  0.56575891,  0.48721614,  0.44402183,  0.66562629,\n",
              "        0.52032132,  0.82314853,  0.47061316,  0.83259348,  0.60092015,\n",
              "        0.52782795,  0.57513046,  0.48257365,  0.27224743,  0.6193866 ,\n",
              "        0.56962618,  0.65777394,  0.76301488,  0.49976094,  0.66295394,\n",
              "        0.53216537,  0.619234  ,  0.60170194,  0.43878057,  0.70960271,\n",
              "        0.45585712,  0.54685922,  0.62887788,  0.54203371,  0.63682986,\n",
              "        0.8772725 ,  0.63914184,  0.63161749,  0.65990655,  0.64136532,\n",
              "        0.42647148,  0.426866  ,  0.74825084,  0.45786485,  0.41293744,\n",
              "        0.75831566,  0.60160309,  0.35929208,  0.43780468,  0.5822486 ,\n",
              "        0.37990781,  0.42080738,  0.6268191 ,  0.64847478,  0.61346682,\n",
              "        0.71637843,  0.29999494,  0.64857449,  0.66507739,  0.781541  ,\n",
              "        0.72376495,  0.51020161,  0.24798298,  0.61534998,  0.73147343,\n",
              "        0.62639407,  0.62241243,  1.17133669,  0.63542896,  0.34848333,\n",
              "        0.75982907,  0.56311158,  0.66283228,  1.02983915,  0.51280173,\n",
              "        1.58374513,  0.2859823 ,  0.35323529,  0.62187318,  1.11783546,\n",
              "        0.68247778,  0.61005365,  0.73170512,  0.97204905,  0.71303827,\n",
              "        0.64100552,  0.71608548,  0.8044712 ,  0.69388201,  0.47886764,\n",
              "        0.62368558,  0.80818885,  0.80678195,  0.63322633,  0.60378403,\n",
              "        0.73413379,  0.58530812,  0.83661854,  0.42751121,  0.71354362,\n",
              "        0.31517453,  0.97333866,  0.5527402 ,  0.81727316,  0.52453632,\n",
              "        0.82194442,  0.31625515,  0.8142933 ,  0.87013161,  0.59928308,\n",
              "        0.47499921,  0.61284988,  0.53305602,  0.76299104,  0.51833694,\n",
              "        0.64387186,  0.46615643,  0.80671049,  0.51948143,  0.31684216,\n",
              "        0.87852181,  0.83707753,  0.91649845,  0.52164543,  0.81507635,\n",
              "        0.6743612 ,  0.50441946,  0.65124437,  0.60862572,  0.33642436,\n",
              "        0.66870501,  0.84164495,  0.47646943,  0.77038018,  0.99156084,\n",
              "        0.56070584,  0.85931603,  0.55426423,  0.35629531,  0.5832608 ,\n",
              "        0.61006089,  0.69151048,  0.59055891,  0.69799039,  0.75300508,\n",
              "        0.684048  ,  0.78159536,  0.5075291 ,  0.3992227 ,  0.57858762,\n",
              "        0.60530224,  0.81019005,  0.55455417,  0.70536357,  0.14069855,\n",
              "        0.27495278,  0.66845959,  0.62129   ,  0.63617227,  0.5904119 ,\n",
              "        0.42584675,  0.75483012,  0.75363346,  0.82743639,  0.57626075,\n",
              "        0.27209324,  0.70735786,  0.47625014,  0.47492676,  0.66762988,\n",
              "        0.51779004,  0.68528684,  0.35061086,  0.47474094,  0.32701847,\n",
              "        0.38472638,  0.58439345,  0.57204703,  0.79809636,  0.75713335,\n",
              "        0.0829857 ,  0.62818461,  0.61527348,  0.58021436,  0.50763934,\n",
              "        0.67297255,  0.7604783 ,  0.56820583,  0.25307796,  0.33287345,\n",
              "        0.87560703,  0.45980971,  0.40591555,  0.66545847,  0.62907795,\n",
              "        0.37040617,  0.61371857,  0.55125137,  0.54052846,  0.51641019,\n",
              "        0.70933151,  0.34102917,  0.38252233,  0.61788433,  0.61569383,\n",
              "        0.63314864,  0.83710389,  0.63045626,  0.42674786,  0.98091203,\n",
              "        0.57011543,  0.80623237,  0.26471227,  0.55294812,  0.56153948,\n",
              "        0.58204009,  0.85106539,  0.69379081,  0.41224848,  0.62676556,\n",
              "        0.5957879 ,  0.62652309,  0.53212667,  0.25816934,  0.27171478,\n",
              "        0.5360169 ,  0.45537083,  0.59045857,  0.85920632,  0.4586325 ,\n",
              "        0.69073063,  0.56700964,  0.65274951,  0.45122101,  0.51531077,\n",
              "        0.9423646 ,  0.73294873,  0.17702301,  1.09395311,  0.49364879,\n",
              "        0.65430776,  0.59424097,  0.59385225,  0.70947225,  0.55549937,\n",
              "        0.61632015,  0.49144634,  0.71452258,  0.81814034,  0.74806175,\n",
              "        0.36292929,  0.6394566 ,  0.42263771,  0.40690005,  1.0364988 ,\n",
              "        0.6352328 ,  0.63360442,  0.76896623,  1.06678622,  0.54136643,\n",
              "        0.87464759,  0.79776086,  0.68282153,  0.61780181,  0.80586617,\n",
              "        0.69702621,  0.62920007,  0.63039764,  0.73866061,  0.58898033,\n",
              "        0.47052313,  0.68060292,  0.51326766,  0.6166648 ,  0.62734316,\n",
              "        0.64708006,  0.73759713,  0.52809752,  0.50032658,  0.26797555,\n",
              "        0.53740547,  0.4201283 ,  0.65302627,  0.69263505,  0.57753   ,\n",
              "        0.49177537,  0.73032483,  0.61474419,  0.49300018,  0.57913571,\n",
              "        0.51075704,  0.53914658,  0.27904147,  0.63273931,  0.54208384,\n",
              "        0.79216313,  0.48933522,  0.41581129,  0.64779508,  0.90525777,\n",
              "        0.70850364,  0.74328297,  0.72357211,  0.72244798,  0.57262864,\n",
              "        0.49585887,  0.60367063,  0.81079537,  0.4057864 ,  0.84101147,\n",
              "        0.63000903,  0.9068742 ,  0.527702  ,  0.54094814,  0.91145241,\n",
              "        0.67127986,  0.87001526,  0.28000463,  0.12109819,  0.68796743,\n",
              "        0.64782819,  0.54848204,  1.01801785,  0.76042515,  0.44539037,\n",
              "        0.68639792,  0.65221314,  0.66772797,  0.62829683,  0.42292727,\n",
              "        0.52202651,  0.47383524,  0.76893497,  0.55271495,  0.43655296,\n",
              "        0.8333202 ,  0.43396203,  1.00990476,  0.56274674,  0.4526452 ,\n",
              "        0.41760591,  0.74510926,  0.79231617,  0.88238703,  0.73101554,\n",
              "        0.61565547,  1.02125845,  0.54030587,  0.47492243,  0.39951231,\n",
              "        0.59736453,  0.46692472,  0.60626432,  0.51899873,  0.52961233,\n",
              "        0.72962481,  0.27647637,  0.86632406,  0.58959375,  0.52969994,\n",
              "        0.81292263,  0.46599702,  0.49449914,  0.55645724,  0.47573893,\n",
              "        0.64373991,  0.44219738,  0.3618287 ,  0.69127745,  0.5546293 ,\n",
              "        0.36767276,  0.75069851,  0.71880307,  0.78946625,  0.67875882,\n",
              "        0.66558864,  0.59347506,  0.4276919 ,  0.27214771,  0.66123407,\n",
              "       -0.01872294,  0.65334154,  0.43483656,  0.48420404,  0.63718053,\n",
              "        0.92390402,  0.77000863,  0.66569471,  0.36259933,  0.65114084,\n",
              "        0.65144192,  0.85888593,  0.72912154,  0.70422766,  0.82673984,\n",
              "        0.36532001,  0.29112729,  0.91083638,  0.38448419,  0.45792375,\n",
              "        0.97677954,  0.8811512 ,  0.42780317,  0.70708829,  0.75427936,\n",
              "        0.68103397,  0.54004939,  0.44006257,  0.76957801,  0.77054716,\n",
              "        0.55063597,  0.70919783,  0.63987018,  0.58762901,  0.54435294,\n",
              "        0.67821888,  0.51308694,  0.52821454,  0.50225132,  0.48672542,\n",
              "        0.62975531,  0.41878326,  0.65342298,  0.91790861,  0.38435449,\n",
              "        0.59956328,  0.8228087 ,  0.76398546,  0.9719994 ,  0.48028944,\n",
              "        0.4465646 ,  0.70999281,  0.79457412,  0.45428137,  0.66946264,\n",
              "        0.49817814,  0.40083033,  0.61671174,  0.84053303,  0.41790574,\n",
              "        0.6292502 ,  0.63702426,  0.56548063,  0.34226304,  0.65483684,\n",
              "        0.40770016,  0.75684728,  0.67718642,  0.58531004,  0.70627641,\n",
              "        0.43061168,  0.77443697,  0.64850132,  0.5491934 ,  0.35544885,\n",
              "        0.43390891,  0.75164209,  0.45914843,  0.57845931,  0.37045684,\n",
              "        0.89241291,  0.51829976,  0.5488658 ,  0.48847665,  0.77963692,\n",
              "        1.16731801,  0.57088231,  0.53767147,  0.23919343,  0.39539298,\n",
              "        0.6405879 ,  0.59598271,  0.56276325,  0.59289803,  0.96605518,\n",
              "        0.14047125,  0.87787194,  0.55610735,  0.50379653,  0.73462279,\n",
              "        0.47486767,  0.92050308,  0.63869208,  0.76851205,  0.47495259,\n",
              "        0.54325412,  0.70588026,  0.84133245,  0.56334248,  0.84548684,\n",
              "        0.71435246,  0.86909614,  0.75973574,  0.55273416,  0.30861854,\n",
              "        0.62648789,  0.53194927,  0.76150748,  0.63656308,  0.5796295 ,\n",
              "        0.78422715,  0.60467861,  0.49028122,  0.36482323,  1.10415459,\n",
              "        0.61118391,  0.67596643,  0.68547324,  0.46441063,  0.27075423,\n",
              "        0.67059079,  0.90328959,  0.76499393,  0.44117077,  0.52156368,\n",
              "        0.26331479,  0.70999344,  0.40414173,  0.80510149,  0.43603487,\n",
              "        0.62103397,  0.85388995,  0.70072888,  0.83234102,  0.53801815,\n",
              "        0.75773055,  0.55895594,  0.58018743,  0.48311123,  0.54427817,\n",
              "        0.55058285,  0.40425235,  0.6398624 ,  0.78401658,  0.69990974,\n",
              "        0.40897557,  0.59681082,  0.72767353,  0.44236382,  0.65824592,\n",
              "        0.58211865,  0.66366625,  0.79144069,  0.51041413,  0.26393319,\n",
              "        0.64104919,  0.29633792,  0.43500004,  0.67985191,  0.45148675,\n",
              "        0.44575963,  0.70046172,  0.66196087,  0.64365879,  0.11886966,\n",
              "        0.55029144,  0.66804426,  0.8338439 ,  0.4647909 ,  0.84111163,\n",
              "        0.6584009 ,  0.54576023,  0.7527722 ,  0.43458196,  0.54408895,\n",
              "        0.30397624,  0.84916471,  0.73624217,  0.70282438,  0.75773716,\n",
              "        0.53706816,  0.64242182,  1.06653436,  0.63067201,  0.58785475,\n",
              "        0.74223135,  0.57461122,  0.60593746,  0.69100846,  0.4811098 ,\n",
              "        0.62134243,  0.50824117,  0.17877851,  0.5324892 ,  0.72548331,\n",
              "        0.49353941,  0.89729909,  0.40473121,  0.66892335,  0.67775566,\n",
              "        0.52488335,  0.53967707,  0.81456143,  0.28130476,  0.68351267,\n",
              "        0.70514927,  0.6738707 ,  0.44186247,  0.79355714,  0.64360064,\n",
              "        0.50709926,  0.56592818,  0.69292144,  0.77259465,  0.6420436 ,\n",
              "        0.25536567,  0.36164243,  0.65918476,  0.58151528,  0.61588922,\n",
              "        0.609161  ,  0.64543269,  0.74707923,  0.66423389,  0.41089958,\n",
              "        0.74223726,  0.8043711 ,  0.4562721 ,  0.54784988,  0.66953914,\n",
              "        0.60512888,  0.58125068,  0.4952303 ,  0.53067332,  0.38574301,\n",
              "        0.5652798 ,  0.53612656,  0.64686411,  0.57675071,  0.45898447,\n",
              "        0.78165535,  0.51978884,  0.12057095,  0.69374049,  0.52088358,\n",
              "        0.62881295,  0.542304  ,  0.43719267,  0.57813779,  0.69058517,\n",
              "        0.46441553,  0.62944259,  0.50463401,  0.61202882,  0.59406049,\n",
              "        1.11446048,  0.63573545,  0.70904353,  0.52514102,  0.38477997,\n",
              "        0.85155844,  0.23028959,  0.95598223,  0.47901546,  0.40202537,\n",
              "        0.41744149,  0.76342476,  0.56921995,  0.71524633,  0.96106738,\n",
              "        0.51930129,  0.58427107,  0.58353478,  0.26520228,  0.72865211,\n",
              "        0.20351398,  0.40427704,  0.85133969,  0.24870385,  0.33098553,\n",
              "        0.31742015,  0.56065198,  0.13865623,  0.64032695,  0.41437474,\n",
              "        0.59408058,  0.63856025,  0.54259065,  0.71580928,  0.57091005,\n",
              "        0.79352824,  0.29314503,  0.52539176,  1.09312974,  0.59129977,\n",
              "        0.65074488,  0.56523018,  0.80818231,  0.86875606,  0.95277905,\n",
              "        0.48090783,  0.82274221,  0.74336083,  0.67405213,  0.71411355,\n",
              "        0.6891915 ,  0.59431688,  0.15680435,  0.45470019,  0.60444473,\n",
              "        0.6002536 ,  0.57019147,  0.26694329,  0.77433404,  0.74772434,\n",
              "        0.32979558,  0.60951702,  0.46609531,  0.10981168,  0.49478638,\n",
              "        0.77759299,  0.62966058,  0.67585243,  0.28671906,  0.51427813,\n",
              "        0.49413109,  0.54640464,  0.486893  ,  0.31669089,  0.80709944,\n",
              "        0.74940108,  0.59269511,  0.79546527,  0.70984491,  0.61434673,\n",
              "        0.63705536,  0.57346336,  0.12128746,  0.46958977,  0.827185  ,\n",
              "        0.74377095,  0.55752218,  0.38151954,  0.77952921,  0.45867384,\n",
              "        0.6338549 ,  0.50385241,  0.3124819 ,  0.54939434,  0.87990569,\n",
              "        0.59650904,  0.92507452,  0.70279956,  0.56148934,  0.61232484,\n",
              "        0.84388327,  0.62774285,  0.10513716,  0.57200149,  0.48084762,\n",
              "        0.60335329,  0.55868671,  0.53102976,  0.64888056,  0.66544704,\n",
              "        0.43656341,  0.56442572,  0.6484704 ,  0.50875546,  0.60560407,\n",
              "        0.94284616,  0.76750345,  0.33154204,  0.55228011,  0.53652255,\n",
              "        0.60751987,  1.1011998 ,  0.62734105,  0.67193779,  0.57975153,\n",
              "        0.77435106,  0.65469826,  0.54686307,  0.71053042,  0.41574505,\n",
              "        0.66753742,  0.52466921,  0.4753756 ,  0.73211462,  0.24034886,\n",
              "        0.34793672,  0.70791532,  0.4264347 ,  0.34303635,  0.54109827,\n",
              "        0.42840244,  0.86758114,  0.74225095,  0.5739923 ,  0.38513601,\n",
              "        0.4050789 ,  0.54404164,  0.17874477,  0.53469007,  0.68839657,\n",
              "        0.61464437,  0.51270038,  0.86367166,  0.35272895,  0.77108138,\n",
              "        0.25079834,  0.72796497,  0.74157884,  1.0062354 ,  0.617904  ,\n",
              "        0.69435995,  0.76841466,  0.73688042,  0.78291455,  0.74647777,\n",
              "        0.6347256 ,  0.53871003,  0.47248244,  0.74503232,  0.59918706,\n",
              "        0.68839966,  0.54922425,  0.59081106,  0.73206524,  0.90573671,\n",
              "        0.69554066,  0.41861513,  0.4979503 ,  0.65304367,  0.76939371,\n",
              "        0.61396699,  0.34597859,  0.85994597,  0.45153436,  0.52361132,\n",
              "        0.62413017,  0.42201019,  0.53407976,  0.51463313,  0.50758107,\n",
              "        0.42170255,  0.40382236,  0.45633418,  0.43321348,  0.67731045,\n",
              "        0.56680231,  0.77569872,  0.29561461,  0.72479184,  0.64861066,\n",
              "        0.63706825,  0.79637634,  0.56202584,  0.58836496,  0.67176678,\n",
              "        0.57256552,  0.63596476,  0.32840712,  0.57899125,  0.70745586,\n",
              "        0.71836318,  0.51892788,  0.54073393,  0.63688268,  0.67539014,\n",
              "        0.69223622,  0.74118313,  0.60620306,  0.75983705,  0.41733394,\n",
              "        0.75753067,  0.78615485,  0.20223424,  0.77454601,  0.60078783,\n",
              "        0.89385852,  0.53035377,  0.66912584,  0.67503177,  0.33255061,\n",
              "        0.68071302,  0.72670989,  0.35496541,  0.38668433,  0.60197087,\n",
              "        0.69039885,  0.84143987,  0.39233929,  0.7011206 ,  0.76724626,\n",
              "        0.67613   ,  0.52229323,  0.74919794,  0.50673762,  0.71840094,\n",
              "        0.35025965,  0.77892861,  0.43148544,  0.52991944,  0.45477279,\n",
              "        0.57852073,  0.5485113 ,  0.59052575,  0.79817096,  0.80454805,\n",
              "        0.59314051,  0.57040597,  0.46208859,  0.56223886,  0.50214723,\n",
              "        0.51339022,  0.74831758,  0.30824572,  0.31897943,  0.74115957,\n",
              "        0.41896585,  0.83047455,  0.8076982 ,  0.69610288,  0.4236788 ,\n",
              "        0.68359954,  0.66922467,  0.83367144,  0.76343062,  0.3417235 ,\n",
              "        0.46507441,  0.48379187,  0.74514783,  0.5278649 ,  0.7415753 ,\n",
              "        0.42115042,  0.7163996 ,  0.50727068,  0.41680512,  0.70927083,\n",
              "        0.72717012,  0.82402438,  0.22766678,  0.81474446,  0.73997616,\n",
              "        0.69185394,  0.70646775,  0.51367424,  0.56136677,  0.69401821,\n",
              "        0.77707792,  0.92289578,  0.72121355,  0.52575428,  0.34999235,\n",
              "        0.68220521,  0.75269601,  0.45265065,  0.85136167,  0.4277238 ,\n",
              "        0.80684723,  0.44799738,  0.47980143,  0.6572604 ,  0.78827033,\n",
              "        1.09035997,  0.41167981,  0.74623555,  0.56835415,  0.56565492,\n",
              "        0.71013797,  0.62930129,  0.49997287,  0.61448283,  0.56927619,\n",
              "        0.65510069,  0.44968079,  0.46439747,  0.52120136,  0.49095373,\n",
              "        0.40524508,  0.48942523,  0.63388931,  0.65679012,  0.49325375,\n",
              "        0.64581053,  1.28027221,  0.73526324,  0.4047526 ,  0.33392225])"
            ]
          },
          "metadata": {
            "tags": []
          },
          "execution_count": 23
        }
      ]
    },
    {
      "cell_type": "markdown",
      "metadata": {
        "id": "P-DzzRk5bf0z",
        "colab_type": "text"
      },
      "source": [
        "## Assignment - Code it up!\n",
        "\n",
        "Most of the above was pure math - now write Python code to reproduce the results! This is purposefully open ended - you'll have to think about how you should represent probabilities and events. You can and should look things up, and as a stretch goal - refactor your code into helpful reusable functions!\n",
        "\n",
        "Specific goals/targets:\n",
        "\n",
        "1. Write a function `def prob_drunk_given_positive(prob_drunk_prior, prob_positive, prob_positive_drunk)` that reproduces the example from lecture, and use it to calculate and visualize a range of situations\n",
        "2. Explore `scipy.stats.bayes_mvs` - read its documentation, and experiment with it on data you've tested in other ways earlier this week\n",
        "3. Create a visualization comparing the results of a Bayesian approach to a traditional/frequentist approach\n",
        "4. In your own words, summarize the difference between Bayesian and Frequentist statistics\n",
        "\n",
        "If you're unsure where to start, check out [this blog post of Bayes theorem with Python](https://dataconomy.com/2015/02/introduction-to-bayes-theorem-with-python/) - you could and should create something similar!\n",
        "\n",
        "Stretch goals:\n",
        "\n",
        "- Apply a Bayesian technique to a problem you previously worked (in an assignment or project work) on from a frequentist (standard) perspective\n",
        "- Check out [PyMC3](https://docs.pymc.io/) (note this goes beyond hypothesis tests into modeling) - read the guides and work through some examples\n",
        "- Take PyMC3 further - see if you can build something with it!"
      ]
    },
    {
      "cell_type": "markdown",
      "metadata": {
        "id": "KqG-82niuh-0",
        "colab_type": "text"
      },
      "source": [
        "Difference between bayesian and frequentist is the frequentist only focuses on the majority data and changes opinion dependent on the data while the bayesian focuses on the overall probabilities"
      ]
    },
    {
      "cell_type": "code",
      "metadata": {
        "id": "xpVhZyUnbf7o",
        "colab_type": "code",
        "outputId": "6c80c3ee-e72c-4a3b-8819-ebb6356ea423",
        "colab": {
          "base_uri": "https://localhost:8080/",
          "height": 34
        }
      },
      "source": [
        "def prob_drunk_given_positive(prob_drunk_prior, prob_positive, prob_positive_drunk):\n",
        "  return (prob_positive_drunk * prob_drunk_prior)/prob_positive\n",
        "\n",
        "prob_drunk_given_positive(0.001,0.08,1)"
      ],
      "execution_count": 0,
      "outputs": [
        {
          "output_type": "execute_result",
          "data": {
            "text/plain": [
              "0.0125"
            ]
          },
          "metadata": {
            "tags": []
          },
          "execution_count": 1
        }
      ]
    },
    {
      "cell_type": "markdown",
      "metadata": {
        "id": "i_PUPYnAnFKY",
        "colab_type": "text"
      },
      "source": [
        "$$\n",
        "\\begin{aligned}\n",
        "P(Drunk | Positive) &= \\frac{P(Positive | Drunk)P(Drunk)}{P(Positive)} \\\\\n",
        "&= \\frac{1 \\times 0.001}{0.08} \\\\\n",
        "&= 0.0125\n",
        "\\end{aligned}\n",
        "$$\n",
        "\n",
        "You may think that a breathalyzer test that is 100% accurate for true positives (detecting somebody who is drunk) is pretty good, but what if it also has 8% false positives (indicating somebody is drunk when they're not)? And furthermore, the rate of drunk driving (and thus our prior belief) is 1/1000.\n",
        "\n",
        "![Names of probabilities](https://miro.medium.com/max/1200/1*YTWinOBUgmStxkbUJZ1vNw.png)"
      ]
    },
    {
      "cell_type": "markdown",
      "metadata": {
        "id": "uWgWjp3PQ3Sq",
        "colab_type": "text"
      },
      "source": [
        "## Resources"
      ]
    },
    {
      "cell_type": "markdown",
      "metadata": {
        "id": "QRgHqmYIQ9qn",
        "colab_type": "text"
      },
      "source": [
        "- [Worked example of Bayes rule calculation](https://en.wikipedia.org/wiki/Bayes'_theorem#Examples) (helpful as it fully breaks out the denominator)\n",
        "- [Source code for mvsdist in scipy](https://github.com/scipy/scipy/blob/90534919e139d2a81c24bf08341734ff41a3db12/scipy/stats/morestats.py#L139)"
      ]
    }
  ]
}