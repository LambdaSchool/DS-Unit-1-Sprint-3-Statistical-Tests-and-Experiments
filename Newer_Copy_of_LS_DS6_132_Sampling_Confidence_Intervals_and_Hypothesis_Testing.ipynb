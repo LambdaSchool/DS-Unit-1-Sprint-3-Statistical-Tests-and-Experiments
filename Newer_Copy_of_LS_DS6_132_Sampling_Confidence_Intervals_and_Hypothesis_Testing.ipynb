{
  "nbformat": 4,
  "nbformat_minor": 0,
  "metadata": {
    "colab": {
      "name": "Newer Copy of LS_DS6_132_Sampling_Confidence_Intervals_and_Hypothesis_Testing.ipynb",
      "version": "0.3.2",
      "provenance": [],
      "collapsed_sections": [],
      "toc_visible": true,
      "include_colab_link": true
    },
    "kernelspec": {
      "name": "python3",
      "display_name": "Python 3"
    }
  },
  "cells": [
    {
      "cell_type": "markdown",
      "metadata": {
        "id": "view-in-github",
        "colab_type": "text"
      },
      "source": [
        "<a href=\"https://colab.research.google.com/github/taylor-coleman/DS-Unit-1-Sprint-3-Statistical-Tests-and-Experiments/blob/master/Newer_Copy_of_LS_DS6_132_Sampling_Confidence_Intervals_and_Hypothesis_Testing.ipynb\" target=\"_parent\"><img src=\"https://colab.research.google.com/assets/colab-badge.svg\" alt=\"Open In Colab\"/></a>"
      ]
    },
    {
      "cell_type": "markdown",
      "metadata": {
        "id": "838Dmw1kM2LK",
        "colab_type": "text"
      },
      "source": [
        "# Lambda School Data Science Module 132\n",
        "## Sampling, Confidence Intervals, and Hypothesis Testing"
      ]
    },
    {
      "cell_type": "markdown",
      "metadata": {
        "id": "dbcPKIo5M6Ny",
        "colab_type": "text"
      },
      "source": [
        "## Prepare - examine other available hypothesis tests\n",
        "\n",
        "If you had to pick a single hypothesis test in your toolbox, t-test would probably be the best choice - but the good news is you don't have to pick just one! Here's some of the others to be aware of:"
      ]
    },
    {
      "cell_type": "code",
      "metadata": {
        "id": "tlBel8j9M6tB",
        "colab_type": "code",
        "outputId": "3288857d-8d0a-4c43-aba6-ff1db2a5deee",
        "colab": {
          "base_uri": "https://localhost:8080/",
          "height": 187
        }
      },
      "source": [
        "import numpy as np\n",
        "from scipy.stats import chisquare  # One-way chi square test\n",
        "\n",
        "# Generally greater than 1.5 or 2 then the range of reject the null-hypothesis\n",
        "\n",
        "\n",
        "# Chi square can take any crosstab/table and test the independence of rows/cols\n",
        "# The null hypothesis is that the rows/cols are independent -> low chi square\n",
        "# The alternative is that there is a dependence -> high chi square\n",
        "# Be aware! Chi square does *not* tell you direction/causation\n",
        "\n",
        "ind_obs = np.array([[1, 1], [2, 2]]).T\n",
        "print(ind_obs)\n",
        "print(chisquare(ind_obs, axis=None))\n",
        "\n",
        "dep_obs = np.array([[16, 18, 16, 14, 12, 12], [32, 24, 16, 28, 20, 24]]).T\n",
        "print(dep_obs)\n",
        "print(chisquare(dep_obs, axis=None))"
      ],
      "execution_count": 24,
      "outputs": [
        {
          "output_type": "stream",
          "text": [
            "[[1 2]\n",
            " [1 2]]\n",
            "Power_divergenceResult(statistic=0.6666666666666666, pvalue=0.8810148425137847)\n",
            "[[16 32]\n",
            " [18 24]\n",
            " [16 16]\n",
            " [14 28]\n",
            " [12 20]\n",
            " [12 24]]\n",
            "Power_divergenceResult(statistic=23.31034482758621, pvalue=0.015975692534127565)\n"
          ],
          "name": "stdout"
        }
      ]
    },
    {
      "cell_type": "code",
      "metadata": {
        "id": "nN0BdNiDPxbk",
        "colab_type": "code",
        "outputId": "2aa1f16e-4de3-4c3c-de0f-4d3ea4c3f571",
        "colab": {
          "base_uri": "https://localhost:8080/",
          "height": 34
        }
      },
      "source": [
        "# Distribution tests:\n",
        "# We often assume that something is normal, but it can be important to *check*\n",
        "\n",
        "# For example, later on with predictive modeling, a typical assumption is that\n",
        "# residuals (prediction errors) are normal - checking is a good diagnostic\n",
        "\n",
        "from scipy.stats import normaltest\n",
        "# Poisson models arrival times and is related to the binomial (coinflip)\n",
        "sample = np.random.poisson(5, 1000)\n",
        "print(normaltest(sample))  # Pretty clearly not normal"
      ],
      "execution_count": 25,
      "outputs": [
        {
          "output_type": "stream",
          "text": [
            "NormaltestResult(statistic=18.324298737266936, pvalue=0.00010493710695660014)\n"
          ],
          "name": "stdout"
        }
      ]
    },
    {
      "cell_type": "code",
      "metadata": {
        "id": "P5t0WhkDReFO",
        "colab_type": "code",
        "outputId": "cd1d75bf-df10-4fdb-af30-aa7d41b6354c",
        "colab": {
          "base_uri": "https://localhost:8080/",
          "height": 51
        }
      },
      "source": [
        "# Kruskal-Wallis H-test - compare the median rank between 2+ groups\n",
        "# Can be applied to ranking decisions/outcomes/recommendations\n",
        "# The underlying math comes from chi-square distribution, and is best for n>5\n",
        "from scipy.stats import kruskal\n",
        "\n",
        "x1 = [1, 3, 5, 7, 9]\n",
        "y1 = [2, 4, 6, 8, 10]\n",
        "print(kruskal(x1, y1))  # x1 is a little better, but not \"significantly\" so\n",
        "\n",
        "x2 = [1, 1, 1]\n",
        "y2 = [2, 2, 2]\n",
        "z = [2, 2]  # Hey, a third group, and of different size!\n",
        "print(kruskal(x2, y2, z))  # x clearly dominates"
      ],
      "execution_count": 26,
      "outputs": [
        {
          "output_type": "stream",
          "text": [
            "KruskalResult(statistic=0.2727272727272734, pvalue=0.6015081344405895)\n",
            "KruskalResult(statistic=7.0, pvalue=0.0301973834223185)\n"
          ],
          "name": "stdout"
        }
      ]
    },
    {
      "cell_type": "markdown",
      "metadata": {
        "id": "7pT3IP36Rh0b",
        "colab_type": "text"
      },
      "source": [
        "And there's many more! `scipy.stats` is fairly comprehensive, though there are even more available if you delve into the extended world of statistics packages. As tests get increasingly obscure and specialized, the importance of knowing them by heart becomes small - but being able to look them up and figure them out when they *are* relevant is still important."
      ]
    },
    {
      "cell_type": "markdown",
      "metadata": {
        "id": "3JqroCQYQqhy",
        "colab_type": "text"
      },
      "source": [
        "## T-test Assumptions"
      ]
    },
    {
      "cell_type": "code",
      "metadata": {
        "id": "sqy2hEFRZnvI",
        "colab_type": "code",
        "colab": {}
      },
      "source": [
        "from scipy.stats import ttest_ind\n",
        "\n",
        "?ttest_ind"
      ],
      "execution_count": 0,
      "outputs": []
    },
    {
      "cell_type": "markdown",
      "metadata": {
        "id": "xI-PcK5sZ1A9",
        "colab_type": "text"
      },
      "source": [
        "<https://statistics.laerd.com/statistical-guides/independent-t-test-statistical-guide.php>\n",
        "\n",
        "- Independence of means\n",
        "\n",
        "Are the means of our voting data independent (do not affect the outcome of one another)?\n",
        "  \n",
        "The best way to increase thel likelihood of our means being independent is to randomly sample (which we did not do).\n",
        "\n",
        "- \"Homogeneity\" of Variance? \n",
        "\n",
        "Is the magnitude of the variance between the two roughly the same?\n",
        "\n",
        "I think we're OK on this one for the voting data, although it probably could be better, one party was larger than the other.\n",
        "\n",
        "If we suspect this to be a problem then we can use Welch's T-test"
      ]
    },
    {
      "cell_type": "markdown",
      "metadata": {
        "id": "tjgoHHwGayoC",
        "colab_type": "text"
      },
      "source": [
        "- \"Dependent Variable\" (sample means) are Distributed Normally\n",
        "\n",
        "<https://stats.stackexchange.com/questions/9573/t-test-for-non-normal-when-n50>\n",
        "\n",
        "Lots of statistical tests depend on normal distributions. We can test for normality using Scipy as was shown above.\n",
        "\n",
        "This assumption is often assumed even if the assumption is a weak one. If you strongly suspect that things are not normally distributed, you can transform your data to get it looking more normal and then run your test. This problem typically goes away for large sample sizes (yay Central Limit Theorem) and is often why you don't hear it brought up. People declare the assumption to be satisfied either way. \n",
        "\n"
      ]
    },
    {
      "cell_type": "markdown",
      "metadata": {
        "id": "bvvPV-RJN2vA",
        "colab_type": "text"
      },
      "source": [
        "## Central Limit Theorem\n",
        "\n"
      ]
    },
    {
      "cell_type": "code",
      "metadata": {
        "id": "FBLoOF8qOJeJ",
        "colab_type": "code",
        "outputId": "115a2be2-1b52-4b95-babe-36ca06750ec5",
        "colab": {
          "base_uri": "https://localhost:8080/",
          "height": 111
        }
      },
      "source": [
        "import numpy as np\n",
        "import matplotlib.pyplot as plt\n",
        "import pandas as pd\n",
        "\n",
        "N = 3000\n",
        "sample_means = []\n",
        "for x in range(0,N):\n",
        "  coinflips = np.random.binomial(n=1, p=.5, size=100)\n",
        "  one_sample = coinflips\n",
        "  sample_means.append(coinflips.mean())\n",
        "\n",
        "print(len(sample_means))\n",
        "print(sample_means)"
      ],
      "execution_count": 28,
      "outputs": [
        {
          "output_type": "stream",
          "text": [
            "3000\n",
            "[0.61, 0.47, 0.44, 0.48, 0.47, 0.5, 0.56, 0.49, 0.52, 0.47, 0.55, 0.54, 0.47, 0.52, 0.47, 0.5, 0.46, 0.55, 0.53, 0.57, 0.49, 0.4, 0.51, 0.52, 0.48, 0.51, 0.44, 0.5, 0.51, 0.43, 0.44, 0.59, 0.5, 0.51, 0.46, 0.66, 0.59, 0.52, 0.46, 0.5, 0.57, 0.51, 0.48, 0.47, 0.41, 0.48, 0.58, 0.43, 0.53, 0.5, 0.54, 0.51, 0.53, 0.51, 0.52, 0.48, 0.48, 0.54, 0.47, 0.5, 0.54, 0.5, 0.52, 0.46, 0.51, 0.51, 0.47, 0.57, 0.58, 0.47, 0.43, 0.45, 0.47, 0.5, 0.47, 0.53, 0.5, 0.5, 0.46, 0.56, 0.47, 0.51, 0.47, 0.55, 0.5, 0.55, 0.48, 0.53, 0.46, 0.49, 0.47, 0.45, 0.53, 0.6, 0.38, 0.42, 0.5, 0.46, 0.46, 0.54, 0.44, 0.43, 0.53, 0.47, 0.53, 0.45, 0.54, 0.42, 0.55, 0.5, 0.56, 0.51, 0.5, 0.59, 0.45, 0.45, 0.49, 0.44, 0.5, 0.51, 0.51, 0.54, 0.48, 0.54, 0.45, 0.51, 0.55, 0.49, 0.54, 0.53, 0.47, 0.5, 0.53, 0.57, 0.47, 0.52, 0.47, 0.42, 0.48, 0.51, 0.56, 0.53, 0.52, 0.49, 0.54, 0.51, 0.52, 0.52, 0.47, 0.49, 0.48, 0.5, 0.49, 0.52, 0.57, 0.52, 0.46, 0.5, 0.53, 0.49, 0.43, 0.42, 0.51, 0.45, 0.52, 0.53, 0.54, 0.49, 0.52, 0.54, 0.53, 0.48, 0.48, 0.44, 0.57, 0.47, 0.51, 0.55, 0.49, 0.5, 0.57, 0.52, 0.5, 0.46, 0.55, 0.5, 0.47, 0.49, 0.55, 0.5, 0.42, 0.56, 0.47, 0.55, 0.47, 0.54, 0.46, 0.52, 0.61, 0.51, 0.49, 0.53, 0.46, 0.4, 0.4, 0.5, 0.49, 0.52, 0.52, 0.47, 0.42, 0.51, 0.51, 0.54, 0.43, 0.62, 0.49, 0.5, 0.45, 0.46, 0.45, 0.48, 0.47, 0.51, 0.52, 0.5, 0.5, 0.41, 0.5, 0.53, 0.45, 0.48, 0.49, 0.5, 0.53, 0.5, 0.5, 0.59, 0.43, 0.51, 0.48, 0.49, 0.47, 0.49, 0.43, 0.49, 0.45, 0.51, 0.54, 0.49, 0.41, 0.49, 0.51, 0.58, 0.52, 0.42, 0.51, 0.53, 0.41, 0.54, 0.52, 0.51, 0.58, 0.49, 0.5, 0.44, 0.52, 0.55, 0.51, 0.49, 0.51, 0.56, 0.47, 0.44, 0.41, 0.51, 0.5, 0.43, 0.6, 0.55, 0.55, 0.54, 0.45, 0.44, 0.53, 0.47, 0.49, 0.54, 0.41, 0.41, 0.55, 0.51, 0.39, 0.49, 0.44, 0.44, 0.5, 0.44, 0.48, 0.46, 0.51, 0.47, 0.47, 0.49, 0.41, 0.53, 0.54, 0.54, 0.47, 0.55, 0.56, 0.41, 0.39, 0.37, 0.5, 0.48, 0.47, 0.47, 0.58, 0.51, 0.47, 0.42, 0.45, 0.48, 0.56, 0.58, 0.5, 0.47, 0.56, 0.45, 0.41, 0.58, 0.44, 0.56, 0.46, 0.52, 0.45, 0.46, 0.52, 0.43, 0.56, 0.43, 0.5, 0.55, 0.54, 0.5, 0.54, 0.5, 0.58, 0.49, 0.45, 0.53, 0.52, 0.45, 0.6, 0.56, 0.57, 0.49, 0.5, 0.61, 0.46, 0.52, 0.44, 0.56, 0.44, 0.54, 0.56, 0.52, 0.51, 0.52, 0.43, 0.54, 0.47, 0.43, 0.48, 0.49, 0.45, 0.48, 0.52, 0.47, 0.49, 0.46, 0.56, 0.48, 0.45, 0.51, 0.46, 0.5, 0.55, 0.43, 0.52, 0.59, 0.52, 0.52, 0.55, 0.54, 0.52, 0.48, 0.49, 0.49, 0.63, 0.52, 0.48, 0.58, 0.59, 0.45, 0.5, 0.45, 0.43, 0.45, 0.53, 0.49, 0.5, 0.52, 0.51, 0.54, 0.49, 0.5, 0.51, 0.53, 0.5, 0.47, 0.55, 0.51, 0.54, 0.52, 0.51, 0.45, 0.39, 0.45, 0.49, 0.39, 0.6, 0.41, 0.47, 0.52, 0.41, 0.47, 0.55, 0.53, 0.42, 0.47, 0.47, 0.46, 0.51, 0.45, 0.49, 0.55, 0.55, 0.57, 0.47, 0.55, 0.43, 0.58, 0.45, 0.53, 0.61, 0.41, 0.54, 0.52, 0.37, 0.39, 0.53, 0.45, 0.48, 0.41, 0.54, 0.5, 0.57, 0.62, 0.46, 0.47, 0.58, 0.54, 0.57, 0.52, 0.41, 0.44, 0.48, 0.5, 0.53, 0.49, 0.52, 0.56, 0.55, 0.51, 0.5, 0.45, 0.5, 0.56, 0.44, 0.55, 0.55, 0.49, 0.49, 0.51, 0.55, 0.49, 0.52, 0.5, 0.44, 0.6, 0.5, 0.52, 0.6, 0.45, 0.54, 0.5, 0.47, 0.5, 0.46, 0.46, 0.55, 0.43, 0.48, 0.61, 0.56, 0.55, 0.47, 0.55, 0.52, 0.45, 0.43, 0.5, 0.49, 0.48, 0.48, 0.45, 0.56, 0.58, 0.51, 0.53, 0.4, 0.5, 0.5, 0.41, 0.5, 0.55, 0.49, 0.49, 0.52, 0.55, 0.5, 0.53, 0.5, 0.51, 0.51, 0.47, 0.52, 0.44, 0.45, 0.52, 0.56, 0.46, 0.56, 0.54, 0.52, 0.45, 0.47, 0.55, 0.5, 0.43, 0.48, 0.54, 0.51, 0.51, 0.51, 0.56, 0.51, 0.49, 0.47, 0.52, 0.46, 0.5, 0.52, 0.56, 0.42, 0.46, 0.47, 0.56, 0.62, 0.42, 0.53, 0.55, 0.51, 0.5, 0.46, 0.46, 0.55, 0.54, 0.55, 0.48, 0.47, 0.52, 0.41, 0.45, 0.41, 0.46, 0.49, 0.5, 0.5, 0.59, 0.49, 0.54, 0.51, 0.48, 0.5, 0.48, 0.43, 0.55, 0.49, 0.48, 0.46, 0.52, 0.52, 0.58, 0.44, 0.55, 0.53, 0.52, 0.51, 0.44, 0.51, 0.5, 0.51, 0.51, 0.46, 0.39, 0.51, 0.45, 0.47, 0.54, 0.47, 0.47, 0.49, 0.51, 0.57, 0.5, 0.49, 0.49, 0.52, 0.54, 0.56, 0.55, 0.47, 0.48, 0.61, 0.53, 0.51, 0.39, 0.48, 0.44, 0.5, 0.54, 0.5, 0.46, 0.45, 0.55, 0.58, 0.45, 0.51, 0.51, 0.41, 0.42, 0.61, 0.4, 0.51, 0.51, 0.52, 0.54, 0.41, 0.56, 0.47, 0.5, 0.41, 0.47, 0.51, 0.51, 0.52, 0.47, 0.53, 0.57, 0.57, 0.54, 0.54, 0.46, 0.52, 0.47, 0.57, 0.52, 0.51, 0.47, 0.55, 0.55, 0.46, 0.51, 0.48, 0.44, 0.55, 0.49, 0.57, 0.51, 0.47, 0.51, 0.52, 0.5, 0.54, 0.53, 0.51, 0.5, 0.5, 0.46, 0.54, 0.5, 0.46, 0.5, 0.49, 0.44, 0.49, 0.54, 0.48, 0.51, 0.5, 0.4, 0.42, 0.49, 0.48, 0.46, 0.37, 0.5, 0.4, 0.49, 0.59, 0.5, 0.45, 0.6, 0.56, 0.48, 0.46, 0.48, 0.54, 0.63, 0.56, 0.52, 0.57, 0.49, 0.58, 0.54, 0.57, 0.45, 0.51, 0.55, 0.55, 0.39, 0.55, 0.39, 0.53, 0.63, 0.52, 0.48, 0.5, 0.5, 0.46, 0.54, 0.58, 0.48, 0.52, 0.53, 0.5, 0.5, 0.46, 0.48, 0.5, 0.47, 0.48, 0.35, 0.45, 0.45, 0.52, 0.37, 0.48, 0.46, 0.54, 0.51, 0.52, 0.52, 0.48, 0.54, 0.42, 0.53, 0.49, 0.56, 0.49, 0.51, 0.48, 0.39, 0.52, 0.55, 0.48, 0.44, 0.38, 0.49, 0.55, 0.53, 0.46, 0.53, 0.44, 0.47, 0.47, 0.49, 0.56, 0.47, 0.42, 0.47, 0.45, 0.42, 0.54, 0.47, 0.43, 0.54, 0.52, 0.55, 0.48, 0.58, 0.46, 0.48, 0.51, 0.66, 0.48, 0.52, 0.68, 0.55, 0.52, 0.5, 0.45, 0.42, 0.53, 0.38, 0.54, 0.43, 0.51, 0.48, 0.52, 0.46, 0.53, 0.46, 0.53, 0.5, 0.43, 0.55, 0.64, 0.5, 0.63, 0.51, 0.48, 0.63, 0.59, 0.54, 0.48, 0.58, 0.47, 0.51, 0.52, 0.45, 0.51, 0.45, 0.5, 0.44, 0.46, 0.5, 0.37, 0.58, 0.46, 0.48, 0.52, 0.45, 0.56, 0.48, 0.49, 0.47, 0.59, 0.47, 0.53, 0.52, 0.48, 0.6, 0.47, 0.46, 0.44, 0.41, 0.43, 0.51, 0.51, 0.47, 0.47, 0.5, 0.5, 0.51, 0.42, 0.47, 0.49, 0.48, 0.47, 0.52, 0.46, 0.45, 0.4, 0.52, 0.5, 0.51, 0.58, 0.43, 0.47, 0.47, 0.55, 0.5, 0.52, 0.5, 0.45, 0.47, 0.39, 0.64, 0.53, 0.42, 0.56, 0.49, 0.53, 0.48, 0.49, 0.57, 0.55, 0.48, 0.49, 0.51, 0.5, 0.52, 0.49, 0.51, 0.52, 0.55, 0.54, 0.52, 0.45, 0.46, 0.41, 0.53, 0.55, 0.46, 0.64, 0.52, 0.59, 0.45, 0.48, 0.53, 0.54, 0.5, 0.58, 0.5, 0.55, 0.54, 0.53, 0.54, 0.45, 0.45, 0.47, 0.46, 0.52, 0.46, 0.49, 0.57, 0.45, 0.57, 0.42, 0.53, 0.43, 0.59, 0.49, 0.56, 0.4, 0.42, 0.44, 0.48, 0.52, 0.43, 0.57, 0.49, 0.55, 0.5, 0.44, 0.49, 0.46, 0.51, 0.49, 0.5, 0.62, 0.59, 0.48, 0.53, 0.56, 0.38, 0.59, 0.5, 0.42, 0.47, 0.48, 0.45, 0.51, 0.53, 0.48, 0.58, 0.37, 0.5, 0.45, 0.44, 0.46, 0.53, 0.55, 0.57, 0.49, 0.53, 0.54, 0.53, 0.55, 0.5, 0.47, 0.46, 0.46, 0.4, 0.42, 0.48, 0.42, 0.5, 0.44, 0.57, 0.52, 0.48, 0.49, 0.55, 0.51, 0.55, 0.58, 0.34, 0.45, 0.49, 0.46, 0.45, 0.54, 0.53, 0.52, 0.56, 0.56, 0.46, 0.48, 0.4, 0.43, 0.52, 0.46, 0.52, 0.4, 0.51, 0.53, 0.46, 0.46, 0.49, 0.57, 0.5, 0.56, 0.44, 0.52, 0.52, 0.47, 0.49, 0.52, 0.54, 0.42, 0.5, 0.43, 0.58, 0.51, 0.53, 0.35, 0.53, 0.49, 0.46, 0.48, 0.5, 0.51, 0.51, 0.42, 0.55, 0.49, 0.48, 0.49, 0.41, 0.48, 0.49, 0.61, 0.45, 0.51, 0.4, 0.56, 0.57, 0.53, 0.5, 0.55, 0.52, 0.46, 0.44, 0.55, 0.5, 0.45, 0.46, 0.53, 0.52, 0.54, 0.48, 0.5, 0.51, 0.51, 0.55, 0.51, 0.45, 0.5, 0.47, 0.56, 0.42, 0.44, 0.47, 0.5, 0.48, 0.5, 0.44, 0.45, 0.5, 0.48, 0.47, 0.49, 0.5, 0.47, 0.55, 0.47, 0.51, 0.53, 0.51, 0.5, 0.45, 0.58, 0.46, 0.5, 0.44, 0.44, 0.52, 0.53, 0.6, 0.47, 0.53, 0.57, 0.48, 0.43, 0.54, 0.45, 0.45, 0.43, 0.53, 0.49, 0.47, 0.54, 0.44, 0.48, 0.46, 0.52, 0.55, 0.46, 0.53, 0.42, 0.52, 0.52, 0.49, 0.47, 0.5, 0.48, 0.54, 0.48, 0.45, 0.45, 0.57, 0.49, 0.46, 0.47, 0.49, 0.45, 0.47, 0.48, 0.5, 0.56, 0.55, 0.47, 0.53, 0.52, 0.43, 0.43, 0.45, 0.49, 0.54, 0.47, 0.49, 0.53, 0.46, 0.46, 0.44, 0.45, 0.51, 0.55, 0.41, 0.44, 0.46, 0.46, 0.44, 0.51, 0.43, 0.4, 0.49, 0.5, 0.53, 0.53, 0.48, 0.56, 0.46, 0.5, 0.51, 0.5, 0.51, 0.45, 0.46, 0.55, 0.43, 0.51, 0.45, 0.56, 0.52, 0.54, 0.55, 0.55, 0.5, 0.49, 0.41, 0.48, 0.56, 0.49, 0.61, 0.54, 0.52, 0.51, 0.54, 0.54, 0.5, 0.54, 0.46, 0.4, 0.43, 0.47, 0.46, 0.5, 0.44, 0.53, 0.59, 0.53, 0.41, 0.48, 0.47, 0.6, 0.5, 0.57, 0.51, 0.54, 0.54, 0.49, 0.47, 0.43, 0.51, 0.52, 0.51, 0.54, 0.44, 0.56, 0.49, 0.58, 0.56, 0.44, 0.48, 0.6, 0.53, 0.51, 0.46, 0.55, 0.47, 0.61, 0.51, 0.53, 0.56, 0.44, 0.59, 0.57, 0.56, 0.4, 0.53, 0.51, 0.47, 0.5, 0.44, 0.46, 0.56, 0.48, 0.47, 0.52, 0.38, 0.6, 0.42, 0.39, 0.47, 0.48, 0.45, 0.48, 0.58, 0.38, 0.51, 0.46, 0.46, 0.56, 0.52, 0.5, 0.42, 0.48, 0.5, 0.46, 0.48, 0.42, 0.5, 0.42, 0.41, 0.48, 0.54, 0.56, 0.46, 0.48, 0.51, 0.48, 0.63, 0.55, 0.5, 0.41, 0.55, 0.46, 0.53, 0.59, 0.49, 0.45, 0.58, 0.57, 0.55, 0.44, 0.54, 0.41, 0.52, 0.44, 0.51, 0.5, 0.62, 0.53, 0.45, 0.48, 0.52, 0.5, 0.44, 0.46, 0.57, 0.56, 0.55, 0.55, 0.53, 0.5, 0.52, 0.42, 0.49, 0.48, 0.53, 0.59, 0.48, 0.51, 0.47, 0.48, 0.49, 0.46, 0.39, 0.54, 0.52, 0.53, 0.5, 0.56, 0.49, 0.39, 0.42, 0.45, 0.51, 0.61, 0.41, 0.44, 0.58, 0.51, 0.44, 0.5, 0.53, 0.47, 0.48, 0.5, 0.45, 0.54, 0.48, 0.54, 0.58, 0.48, 0.49, 0.47, 0.44, 0.5, 0.42, 0.52, 0.49, 0.48, 0.46, 0.6, 0.48, 0.62, 0.57, 0.46, 0.57, 0.52, 0.44, 0.54, 0.45, 0.44, 0.52, 0.5, 0.49, 0.47, 0.48, 0.53, 0.5, 0.49, 0.48, 0.51, 0.58, 0.57, 0.57, 0.42, 0.48, 0.54, 0.49, 0.47, 0.47, 0.55, 0.44, 0.55, 0.54, 0.54, 0.51, 0.49, 0.53, 0.48, 0.55, 0.51, 0.5, 0.46, 0.51, 0.52, 0.44, 0.53, 0.54, 0.53, 0.57, 0.47, 0.55, 0.45, 0.43, 0.6, 0.46, 0.48, 0.42, 0.41, 0.53, 0.43, 0.57, 0.48, 0.48, 0.51, 0.51, 0.58, 0.46, 0.46, 0.48, 0.68, 0.51, 0.35, 0.55, 0.54, 0.51, 0.51, 0.43, 0.53, 0.48, 0.52, 0.48, 0.48, 0.51, 0.44, 0.53, 0.47, 0.55, 0.55, 0.36, 0.49, 0.43, 0.58, 0.49, 0.52, 0.54, 0.44, 0.54, 0.55, 0.46, 0.47, 0.55, 0.43, 0.51, 0.52, 0.41, 0.48, 0.45, 0.55, 0.45, 0.48, 0.51, 0.41, 0.46, 0.49, 0.47, 0.48, 0.48, 0.56, 0.62, 0.51, 0.56, 0.44, 0.49, 0.52, 0.48, 0.48, 0.55, 0.55, 0.5, 0.47, 0.48, 0.48, 0.45, 0.52, 0.48, 0.51, 0.47, 0.51, 0.54, 0.47, 0.55, 0.48, 0.57, 0.53, 0.59, 0.55, 0.43, 0.51, 0.51, 0.49, 0.48, 0.58, 0.48, 0.5, 0.51, 0.57, 0.56, 0.5, 0.56, 0.56, 0.54, 0.47, 0.36, 0.54, 0.58, 0.57, 0.51, 0.55, 0.5, 0.53, 0.51, 0.59, 0.51, 0.43, 0.57, 0.48, 0.5, 0.48, 0.47, 0.51, 0.45, 0.5, 0.53, 0.56, 0.55, 0.5, 0.42, 0.43, 0.49, 0.47, 0.49, 0.56, 0.49, 0.47, 0.52, 0.35, 0.6, 0.5, 0.44, 0.49, 0.42, 0.5, 0.45, 0.49, 0.44, 0.56, 0.43, 0.42, 0.43, 0.44, 0.43, 0.47, 0.49, 0.44, 0.51, 0.52, 0.5, 0.5, 0.44, 0.54, 0.47, 0.48, 0.46, 0.55, 0.49, 0.44, 0.41, 0.55, 0.49, 0.48, 0.49, 0.5, 0.51, 0.46, 0.47, 0.5, 0.45, 0.48, 0.55, 0.5, 0.46, 0.6, 0.52, 0.52, 0.47, 0.54, 0.51, 0.49, 0.45, 0.49, 0.46, 0.54, 0.54, 0.54, 0.48, 0.48, 0.48, 0.41, 0.46, 0.48, 0.52, 0.48, 0.45, 0.5, 0.56, 0.54, 0.63, 0.52, 0.45, 0.5, 0.41, 0.4, 0.42, 0.5, 0.5, 0.5, 0.45, 0.52, 0.44, 0.59, 0.48, 0.53, 0.6, 0.42, 0.59, 0.56, 0.42, 0.54, 0.58, 0.47, 0.53, 0.51, 0.47, 0.56, 0.53, 0.5, 0.49, 0.38, 0.53, 0.52, 0.5, 0.53, 0.44, 0.51, 0.5, 0.55, 0.53, 0.56, 0.51, 0.51, 0.52, 0.46, 0.5, 0.51, 0.52, 0.53, 0.55, 0.46, 0.55, 0.54, 0.5, 0.49, 0.53, 0.51, 0.61, 0.53, 0.45, 0.53, 0.49, 0.45, 0.45, 0.5, 0.45, 0.49, 0.48, 0.48, 0.45, 0.6, 0.54, 0.38, 0.54, 0.51, 0.49, 0.48, 0.5, 0.49, 0.47, 0.52, 0.48, 0.55, 0.51, 0.54, 0.54, 0.46, 0.43, 0.43, 0.5, 0.49, 0.45, 0.46, 0.45, 0.53, 0.54, 0.49, 0.41, 0.53, 0.55, 0.41, 0.47, 0.43, 0.43, 0.49, 0.47, 0.52, 0.54, 0.56, 0.48, 0.45, 0.46, 0.43, 0.5, 0.54, 0.54, 0.45, 0.58, 0.52, 0.54, 0.51, 0.53, 0.53, 0.51, 0.48, 0.53, 0.5, 0.5, 0.49, 0.51, 0.52, 0.44, 0.55, 0.49, 0.48, 0.49, 0.47, 0.49, 0.5, 0.52, 0.47, 0.47, 0.44, 0.54, 0.54, 0.51, 0.46, 0.56, 0.45, 0.52, 0.51, 0.5, 0.45, 0.6, 0.42, 0.48, 0.41, 0.53, 0.47, 0.42, 0.45, 0.57, 0.6, 0.51, 0.47, 0.49, 0.5, 0.46, 0.52, 0.52, 0.41, 0.53, 0.48, 0.43, 0.49, 0.55, 0.44, 0.48, 0.46, 0.66, 0.47, 0.47, 0.49, 0.45, 0.5, 0.58, 0.57, 0.45, 0.51, 0.52, 0.4, 0.52, 0.58, 0.48, 0.5, 0.48, 0.5, 0.49, 0.41, 0.48, 0.51, 0.48, 0.55, 0.59, 0.5, 0.42, 0.55, 0.46, 0.56, 0.49, 0.47, 0.42, 0.46, 0.62, 0.55, 0.48, 0.46, 0.44, 0.57, 0.57, 0.49, 0.51, 0.46, 0.46, 0.53, 0.5, 0.51, 0.51, 0.46, 0.42, 0.5, 0.57, 0.55, 0.54, 0.52, 0.52, 0.53, 0.44, 0.54, 0.43, 0.54, 0.44, 0.54, 0.51, 0.52, 0.53, 0.54, 0.55, 0.59, 0.44, 0.51, 0.63, 0.48, 0.51, 0.55, 0.53, 0.57, 0.49, 0.41, 0.54, 0.5, 0.52, 0.46, 0.45, 0.51, 0.56, 0.45, 0.52, 0.55, 0.36, 0.57, 0.54, 0.49, 0.59, 0.47, 0.47, 0.54, 0.47, 0.48, 0.49, 0.42, 0.5, 0.55, 0.48, 0.42, 0.46, 0.51, 0.51, 0.54, 0.45, 0.42, 0.5, 0.46, 0.54, 0.47, 0.49, 0.4, 0.46, 0.51, 0.57, 0.47, 0.52, 0.37, 0.49, 0.49, 0.48, 0.55, 0.39, 0.44, 0.45, 0.54, 0.57, 0.51, 0.5, 0.49, 0.5, 0.51, 0.45, 0.52, 0.43, 0.45, 0.54, 0.51, 0.47, 0.5, 0.42, 0.45, 0.47, 0.45, 0.58, 0.44, 0.48, 0.4, 0.53, 0.6, 0.41, 0.5, 0.5, 0.58, 0.44, 0.45, 0.52, 0.43, 0.45, 0.48, 0.47, 0.45, 0.5, 0.48, 0.5, 0.44, 0.49, 0.51, 0.5, 0.53, 0.51, 0.5, 0.49, 0.51, 0.58, 0.5, 0.58, 0.46, 0.47, 0.53, 0.57, 0.46, 0.52, 0.49, 0.49, 0.5, 0.5, 0.54, 0.52, 0.41, 0.53, 0.49, 0.51, 0.6, 0.58, 0.59, 0.52, 0.58, 0.61, 0.53, 0.49, 0.48, 0.51, 0.5, 0.53, 0.51, 0.59, 0.47, 0.47, 0.51, 0.56, 0.52, 0.61, 0.5, 0.58, 0.5, 0.46, 0.58, 0.58, 0.49, 0.51, 0.37, 0.5, 0.49, 0.46, 0.46, 0.56, 0.46, 0.49, 0.57, 0.62, 0.45, 0.54, 0.5, 0.52, 0.49, 0.47, 0.44, 0.49, 0.61, 0.5, 0.49, 0.43, 0.54, 0.48, 0.47, 0.53, 0.48, 0.54, 0.48, 0.51, 0.5, 0.41, 0.44, 0.5, 0.5, 0.44, 0.48, 0.48, 0.54, 0.47, 0.5, 0.51, 0.5, 0.44, 0.49, 0.46, 0.5, 0.62, 0.47, 0.47, 0.46, 0.55, 0.48, 0.54, 0.53, 0.51, 0.54, 0.52, 0.52, 0.45, 0.53, 0.46, 0.49, 0.5, 0.4, 0.49, 0.43, 0.58, 0.46, 0.46, 0.4, 0.57, 0.45, 0.48, 0.45, 0.49, 0.47, 0.5, 0.44, 0.56, 0.44, 0.52, 0.42, 0.51, 0.51, 0.51, 0.54, 0.59, 0.51, 0.53, 0.53, 0.47, 0.53, 0.57, 0.63, 0.53, 0.52, 0.5, 0.48, 0.46, 0.51, 0.5, 0.5, 0.45, 0.38, 0.43, 0.5, 0.52, 0.52, 0.43, 0.5, 0.54, 0.48, 0.51, 0.59, 0.45, 0.57, 0.52, 0.45, 0.55, 0.58, 0.47, 0.53, 0.51, 0.57, 0.53, 0.52, 0.56, 0.48, 0.49, 0.5, 0.44, 0.47, 0.55, 0.47, 0.48, 0.56, 0.48, 0.48, 0.48, 0.48, 0.41, 0.48, 0.41, 0.57, 0.57, 0.49, 0.56, 0.42, 0.51, 0.52, 0.55, 0.5, 0.43, 0.5, 0.47, 0.61, 0.53, 0.46, 0.41, 0.54, 0.54, 0.49, 0.45, 0.51, 0.5, 0.53, 0.54, 0.48, 0.51, 0.5, 0.5, 0.42, 0.51, 0.47, 0.49, 0.43, 0.45, 0.4, 0.58, 0.43, 0.53, 0.57, 0.45, 0.47, 0.48, 0.57, 0.55, 0.47, 0.51, 0.43, 0.51, 0.43, 0.53, 0.55, 0.52, 0.58, 0.56, 0.48, 0.42, 0.47, 0.6, 0.47, 0.46, 0.5, 0.54, 0.6, 0.53, 0.52, 0.57, 0.47, 0.47, 0.61, 0.49, 0.52, 0.48, 0.51, 0.45, 0.57, 0.46, 0.47, 0.57, 0.58, 0.41, 0.5, 0.49, 0.53, 0.5, 0.51, 0.57, 0.61, 0.52, 0.47, 0.44, 0.37, 0.51, 0.45, 0.47, 0.54, 0.43, 0.45, 0.64, 0.53, 0.5, 0.54, 0.54, 0.52, 0.52, 0.55, 0.56, 0.58, 0.48, 0.56, 0.48, 0.54, 0.5, 0.41, 0.45, 0.55, 0.54, 0.52, 0.46, 0.5, 0.47, 0.42, 0.54, 0.45, 0.47, 0.52, 0.42, 0.52, 0.53, 0.54, 0.52, 0.54, 0.49, 0.55, 0.45, 0.56, 0.43, 0.45, 0.58, 0.49, 0.54, 0.56, 0.44, 0.52, 0.38, 0.57, 0.49, 0.53, 0.56, 0.47, 0.42, 0.49, 0.51, 0.52, 0.48, 0.49, 0.56, 0.49, 0.49, 0.4, 0.44, 0.5, 0.5, 0.53, 0.52, 0.6, 0.46, 0.58, 0.48, 0.47, 0.52, 0.53, 0.5, 0.47, 0.6, 0.56, 0.46, 0.48, 0.48, 0.48, 0.48, 0.48, 0.49, 0.58, 0.46, 0.42, 0.55, 0.49, 0.55, 0.57, 0.49, 0.46, 0.54, 0.54, 0.48, 0.52, 0.42, 0.48, 0.47, 0.51, 0.49, 0.55, 0.5, 0.48, 0.49, 0.52, 0.49, 0.44, 0.44, 0.59, 0.5, 0.5, 0.47, 0.46, 0.49, 0.49, 0.47, 0.47, 0.48, 0.55, 0.53, 0.45, 0.46, 0.48, 0.41, 0.46, 0.58, 0.39, 0.48, 0.52, 0.45, 0.45, 0.55, 0.48, 0.47, 0.55, 0.51, 0.53, 0.47, 0.54, 0.44, 0.43, 0.45, 0.47, 0.5, 0.52, 0.53, 0.48, 0.63, 0.52, 0.51, 0.48, 0.59, 0.47, 0.43, 0.53, 0.5, 0.53, 0.49, 0.5, 0.55, 0.54, 0.49, 0.51, 0.5, 0.49, 0.42, 0.45, 0.56, 0.48, 0.51, 0.45, 0.55, 0.51, 0.51, 0.51, 0.46, 0.43, 0.57, 0.52, 0.46, 0.48, 0.49, 0.52, 0.47, 0.52, 0.52, 0.53, 0.51, 0.54, 0.43, 0.53, 0.49, 0.49, 0.59, 0.48, 0.53, 0.52, 0.46, 0.5, 0.54, 0.4, 0.5, 0.51, 0.47, 0.56, 0.5, 0.56, 0.51, 0.55, 0.44, 0.54, 0.44, 0.45, 0.46, 0.51, 0.57, 0.59, 0.47, 0.49, 0.46, 0.47, 0.5, 0.54, 0.46, 0.57, 0.53, 0.54, 0.46, 0.58, 0.44, 0.54, 0.43, 0.63, 0.48, 0.47, 0.52, 0.52, 0.48, 0.54, 0.46, 0.43, 0.44, 0.48, 0.51, 0.47, 0.53, 0.6, 0.51, 0.51, 0.41, 0.55, 0.45, 0.58, 0.51, 0.47, 0.46, 0.36, 0.48, 0.49, 0.53, 0.54, 0.57, 0.57, 0.51, 0.51, 0.57, 0.46, 0.37, 0.55, 0.5, 0.51, 0.48, 0.47, 0.45, 0.49, 0.51, 0.49, 0.58, 0.41, 0.46, 0.49, 0.45, 0.46, 0.5, 0.48, 0.57, 0.58, 0.51, 0.54, 0.47, 0.46, 0.52, 0.47, 0.46, 0.43, 0.45, 0.6, 0.55, 0.5, 0.54, 0.43, 0.51, 0.49, 0.52, 0.51, 0.41, 0.47, 0.47, 0.53, 0.5, 0.52, 0.53, 0.5, 0.5, 0.48, 0.49, 0.65, 0.52, 0.59, 0.52, 0.43, 0.45, 0.38, 0.53, 0.52, 0.52, 0.53, 0.55, 0.55, 0.5, 0.44, 0.56, 0.45, 0.57, 0.43, 0.52, 0.63, 0.56, 0.56, 0.58, 0.46, 0.4, 0.5, 0.49, 0.5, 0.46, 0.47, 0.47, 0.47, 0.48, 0.54, 0.49, 0.44, 0.49, 0.55, 0.55, 0.42, 0.57, 0.44, 0.52, 0.55, 0.49, 0.57, 0.4, 0.46, 0.39, 0.53, 0.54, 0.54, 0.53, 0.58, 0.51, 0.53, 0.59, 0.51, 0.41, 0.48, 0.4, 0.52, 0.44, 0.49, 0.57, 0.5, 0.54, 0.54, 0.42, 0.45, 0.49, 0.51, 0.56, 0.51, 0.56, 0.52, 0.54, 0.49, 0.46, 0.51, 0.49, 0.57, 0.56, 0.51, 0.47, 0.5, 0.55, 0.44, 0.49, 0.47, 0.44, 0.49, 0.48, 0.57, 0.51, 0.53, 0.53, 0.58, 0.49, 0.51, 0.45, 0.56, 0.46, 0.4, 0.51, 0.49, 0.49, 0.45, 0.56, 0.49, 0.52, 0.48, 0.57, 0.52, 0.5, 0.45, 0.56, 0.58, 0.46, 0.55, 0.46, 0.47, 0.46, 0.42, 0.51, 0.47, 0.5, 0.52, 0.5, 0.52, 0.5, 0.45, 0.5, 0.57, 0.44, 0.52, 0.51, 0.44, 0.47, 0.43, 0.5, 0.52, 0.51, 0.5, 0.46, 0.42, 0.49, 0.49, 0.47, 0.52, 0.46, 0.44, 0.58, 0.52, 0.46, 0.55, 0.49, 0.48, 0.47, 0.48, 0.52, 0.47, 0.48, 0.48, 0.49, 0.55, 0.63, 0.49, 0.52, 0.49, 0.51, 0.5, 0.43, 0.6, 0.47, 0.48, 0.54, 0.47, 0.49, 0.56, 0.55, 0.5, 0.51, 0.58, 0.44, 0.51, 0.49, 0.53, 0.47, 0.56, 0.55, 0.55, 0.49, 0.51, 0.52, 0.52, 0.49, 0.54, 0.48, 0.48, 0.53, 0.63, 0.56, 0.48, 0.38, 0.44, 0.44, 0.43, 0.5, 0.56, 0.48, 0.47, 0.49, 0.48, 0.48, 0.39, 0.54, 0.54, 0.43, 0.5, 0.56, 0.5, 0.5, 0.53, 0.54, 0.46, 0.55, 0.48, 0.48, 0.5, 0.55, 0.56, 0.47, 0.45, 0.58, 0.53, 0.45, 0.57, 0.42, 0.52, 0.42, 0.49, 0.52, 0.52, 0.52, 0.48, 0.49, 0.56, 0.55, 0.46, 0.55, 0.58, 0.59, 0.59, 0.39, 0.42, 0.52, 0.52, 0.51, 0.43, 0.6, 0.51, 0.56, 0.43, 0.49, 0.43, 0.52, 0.5, 0.44, 0.51, 0.53, 0.58, 0.52, 0.57, 0.56, 0.47, 0.48, 0.46, 0.45, 0.52, 0.48, 0.58, 0.6, 0.56, 0.46, 0.54, 0.55, 0.48, 0.46, 0.42, 0.52, 0.48, 0.55, 0.5, 0.56, 0.44, 0.42, 0.49, 0.52, 0.52, 0.51, 0.46, 0.53, 0.61, 0.44, 0.44, 0.55, 0.47, 0.48, 0.51, 0.53, 0.55, 0.49, 0.53, 0.49, 0.54, 0.43, 0.5, 0.56, 0.55, 0.47, 0.45, 0.53, 0.44, 0.5, 0.48, 0.46, 0.46, 0.5, 0.54, 0.49, 0.56, 0.54, 0.54, 0.43]\n"
          ],
          "name": "stdout"
        }
      ]
    },
    {
      "cell_type": "code",
      "metadata": {
        "id": "rfeA06evOT2K",
        "colab_type": "code",
        "colab": {}
      },
      "source": [
        "# Create dataframe with single coin flip\n",
        "df = pd.DataFrame({'one-samp': one_sample})"
      ],
      "execution_count": 0,
      "outputs": []
    },
    {
      "cell_type": "code",
      "metadata": {
        "id": "GlMSNFX6OmBV",
        "colab_type": "code",
        "outputId": "fc2d1961-b994-49e7-a1b3-d10b2aeb6961",
        "colab": {
          "base_uri": "https://localhost:8080/",
          "height": 281
        }
      },
      "source": [
        "# Plot histogram to look at distribution of a single coin flip \n",
        "df.hist();"
      ],
      "execution_count": 30,
      "outputs": [
        {
          "output_type": "display_data",
          "data": {
            "image/png": "[encoded data removed]",
            "text/plain": [
              "<Figure size 432x288 with 1 Axes>"
            ]
          },
          "metadata": {
            "tags": []
          }
        }
      ]
    },
    {
      "cell_type": "code",
      "metadata": {
        "id": "Jie4ypgLOs5M",
        "colab_type": "code",
        "outputId": "8a525ddf-2626-428c-e192-c530ab236f1e",
        "colab": {
          "base_uri": "https://localhost:8080/",
          "height": 313
        }
      },
      "source": [
        "# Plot histogram to look at distribution of all coin flips\n",
        "\n",
        "ax = plt.hist(sample_means, bins=30)\n",
        "plt.title(f'Distriution of {N} sample means \\n (of 30 coinflips each)')"
      ],
      "execution_count": 31,
      "outputs": [
        {
          "output_type": "execute_result",
          "data": {
            "text/plain": [
              "Text(0.5, 1.0, 'Distriution of 3000 sample means \\n (of 30 coinflips each)')"
            ]
          },
          "metadata": {
            "tags": []
          },
          "execution_count": 31
        },
        {
          "output_type": "display_data",
          "data": {
            "image/png": "[encoded data removed]",
            "text/plain": [
              "<Figure size 432x288 with 1 Axes>"
            ]
          },
          "metadata": {
            "tags": []
          }
        }
      ]
    },
    {
      "cell_type": "markdown",
      "metadata": {
        "id": "LsEAjc4rOylm",
        "colab_type": "text"
      },
      "source": [
        "What does the Central Limit Theorem State? That no matter the initial distribution of the population, the distribution of sample means taken will approximate a normal distribution as $n \\rightarrow \\infty$.\n",
        "\n",
        "This has very important implications for hypothesis testing and is precisely the reason why the t-distribution begins to approximate the normal distribution as our sample size increases. "
      ]
    },
    {
      "cell_type": "markdown",
      "metadata": {
        "id": "EYqo5vZZSFUr",
        "colab_type": "text"
      },
      "source": [
        "## Standard Error of the Mean\n",
        "\n",
        "What does it mean to \"estimate\"? the Population mean?"
      ]
    },
    {
      "cell_type": "code",
      "metadata": {
        "id": "puGXH6vbSIE4",
        "colab_type": "code",
        "outputId": "ab7f5abc-c3ec-4084-ed88-d864ad71aa0b",
        "colab": {
          "base_uri": "https://localhost:8080/",
          "height": 68
        }
      },
      "source": [
        "import numpy as np\n",
        "import pandas as pd\n",
        "\n",
        "# Average Height\n",
        "mu = 70\n",
        "sigma = 3\n",
        "\n",
        "lambda_heights = np.random.normal(mu, sigma, 2000)\n",
        "print(len(lambda_heights))\n",
        "lambda_heights"
      ],
      "execution_count": 32,
      "outputs": [
        {
          "output_type": "stream",
          "text": [
            "2000\n"
          ],
          "name": "stdout"
        },
        {
          "output_type": "execute_result",
          "data": {
            "text/plain": [
              "array([68.09872009, 67.83319144, 71.82695411, ..., 72.15763163,\n",
              "       70.13089635, 68.00817695])"
            ]
          },
          "metadata": {
            "tags": []
          },
          "execution_count": 32
        }
      ]
    },
    {
      "cell_type": "code",
      "metadata": {
        "id": "2X-aKCTSXVOc",
        "colab_type": "code",
        "outputId": "a659a8c8-97de-4d6f-f46b-c0f842cf539a",
        "colab": {
          "base_uri": "https://localhost:8080/",
          "height": 281
        }
      },
      "source": [
        "import seaborn as sns\n",
        "\n",
        "sns.distplot(lambda_heights)\n",
        "plt.title('Distribution of Heights (in inches)');"
      ],
      "execution_count": 33,
      "outputs": [
        {
          "output_type": "display_data",
          "data": {
            "image/png": "[encoded data removed]",
            "text/plain": [
              "<Figure size 432x288 with 1 Axes>"
            ]
          },
          "metadata": {
            "tags": []
          }
        }
      ]
    },
    {
      "cell_type": "code",
      "metadata": {
        "id": "fQlloeU4qwuI",
        "colab_type": "code",
        "outputId": "661bcf31-710b-49c7-a8a6-a21647448676",
        "colab": {
          "base_uri": "https://localhost:8080/",
          "height": 51
        }
      },
      "source": [
        "print(\"Population Mean:\", lambda_heights.mean())\n",
        "print(\"Population Standard Deviation:\", lambda_heights.std())"
      ],
      "execution_count": 34,
      "outputs": [
        {
          "output_type": "stream",
          "text": [
            "Population Mean: 69.9000088676275\n",
            "Population Standard Deviation: 2.9289605258565232\n"
          ],
          "name": "stdout"
        }
      ]
    },
    {
      "cell_type": "code",
      "metadata": {
        "id": "sOD7gQMxq3ib",
        "colab_type": "code",
        "outputId": "a7c3067d-d6d2-4734-fe15-d83a4901b8a5",
        "colab": {
          "base_uri": "https://localhost:8080/",
          "height": 221
        }
      },
      "source": [
        "population = pd.DataFrame({'heights': lambda_heights})\n",
        "print(population.shape)\n",
        "population.head()"
      ],
      "execution_count": 35,
      "outputs": [
        {
          "output_type": "stream",
          "text": [
            "(2000, 1)\n"
          ],
          "name": "stdout"
        },
        {
          "output_type": "execute_result",
          "data": {
            "text/html": [
              "<div>\n",
              "<style scoped>\n",
              "    .dataframe tbody tr th:only-of-type {\n",
              "        vertical-align: middle;\n",
              "    }\n",
              "\n",
              "    .dataframe tbody tr th {\n",
              "        vertical-align: top;\n",
              "    }\n",
              "\n",
              "    .dataframe thead th {\n",
              "        text-align: right;\n",
              "    }\n",
              "</style>\n",
              "<table border=\"1\" class=\"dataframe\">\n",
              "  <thead>\n",
              "    <tr style=\"text-align: right;\">\n",
              "      <th></th>\n",
              "      <th>heights</th>\n",
              "    </tr>\n",
              "  </thead>\n",
              "  <tbody>\n",
              "    <tr>\n",
              "      <th>0</th>\n",
              "      <td>68.098720</td>\n",
              "    </tr>\n",
              "    <tr>\n",
              "      <th>1</th>\n",
              "      <td>67.833191</td>\n",
              "    </tr>\n",
              "    <tr>\n",
              "      <th>2</th>\n",
              "      <td>71.826954</td>\n",
              "    </tr>\n",
              "    <tr>\n",
              "      <th>3</th>\n",
              "      <td>67.237057</td>\n",
              "    </tr>\n",
              "    <tr>\n",
              "      <th>4</th>\n",
              "      <td>66.917272</td>\n",
              "    </tr>\n",
              "  </tbody>\n",
              "</table>\n",
              "</div>"
            ],
            "text/plain": [
              "     heights\n",
              "0  68.098720\n",
              "1  67.833191\n",
              "2  71.826954\n",
              "3  67.237057\n",
              "4  66.917272"
            ]
          },
          "metadata": {
            "tags": []
          },
          "execution_count": 35
        }
      ]
    },
    {
      "cell_type": "code",
      "metadata": {
        "id": "A1DEQgCAq75F",
        "colab_type": "code",
        "outputId": "beea9d8b-46d5-4497-b53f-3674ae76e4f1",
        "colab": {
          "base_uri": "https://localhost:8080/",
          "height": 221
        }
      },
      "source": [
        "# Take a random sample and print sample mean\n",
        "sample1 = population.sample(100)\n",
        "print(sample1.shape)\n",
        "sample1.head()"
      ],
      "execution_count": 36,
      "outputs": [
        {
          "output_type": "stream",
          "text": [
            "(100, 1)\n"
          ],
          "name": "stdout"
        },
        {
          "output_type": "execute_result",
          "data": {
            "text/html": [
              "<div>\n",
              "<style scoped>\n",
              "    .dataframe tbody tr th:only-of-type {\n",
              "        vertical-align: middle;\n",
              "    }\n",
              "\n",
              "    .dataframe tbody tr th {\n",
              "        vertical-align: top;\n",
              "    }\n",
              "\n",
              "    .dataframe thead th {\n",
              "        text-align: right;\n",
              "    }\n",
              "</style>\n",
              "<table border=\"1\" class=\"dataframe\">\n",
              "  <thead>\n",
              "    <tr style=\"text-align: right;\">\n",
              "      <th></th>\n",
              "      <th>heights</th>\n",
              "    </tr>\n",
              "  </thead>\n",
              "  <tbody>\n",
              "    <tr>\n",
              "      <th>1564</th>\n",
              "      <td>67.105815</td>\n",
              "    </tr>\n",
              "    <tr>\n",
              "      <th>1540</th>\n",
              "      <td>69.293274</td>\n",
              "    </tr>\n",
              "    <tr>\n",
              "      <th>295</th>\n",
              "      <td>68.127910</td>\n",
              "    </tr>\n",
              "    <tr>\n",
              "      <th>1107</th>\n",
              "      <td>71.155018</td>\n",
              "    </tr>\n",
              "    <tr>\n",
              "      <th>1651</th>\n",
              "      <td>70.260430</td>\n",
              "    </tr>\n",
              "  </tbody>\n",
              "</table>\n",
              "</div>"
            ],
            "text/plain": [
              "        heights\n",
              "1564  67.105815\n",
              "1540  69.293274\n",
              "295   68.127910\n",
              "1107  71.155018\n",
              "1651  70.260430"
            ]
          },
          "metadata": {
            "tags": []
          },
          "execution_count": 36
        }
      ]
    },
    {
      "cell_type": "code",
      "metadata": {
        "id": "SpMBMasFrJQK",
        "colab_type": "code",
        "outputId": "021f0ecc-2c66-4ec4-f296-fd2871349a3c",
        "colab": {
          "base_uri": "https://localhost:8080/",
          "height": 34
        }
      },
      "source": [
        "# Take a different random sample and print sample mean\n",
        "print('Sample Mean #1', sample1['heights'].mean())"
      ],
      "execution_count": 37,
      "outputs": [
        {
          "output_type": "stream",
          "text": [
            "Sample Mean #1 69.81651999764931\n"
          ],
          "name": "stdout"
        }
      ]
    },
    {
      "cell_type": "code",
      "metadata": {
        "id": "TqcuKixjSEUZ",
        "colab_type": "code",
        "outputId": "09c12791-9bf3-4890-e738-a085b224b980",
        "colab": {
          "base_uri": "https://localhost:8080/",
          "height": 221
        }
      },
      "source": [
        "sample2 = population.sample(100)\n",
        "print(sample1.shape)\n",
        "sample2.head()"
      ],
      "execution_count": 38,
      "outputs": [
        {
          "output_type": "stream",
          "text": [
            "(100, 1)\n"
          ],
          "name": "stdout"
        },
        {
          "output_type": "execute_result",
          "data": {
            "text/html": [
              "<div>\n",
              "<style scoped>\n",
              "    .dataframe tbody tr th:only-of-type {\n",
              "        vertical-align: middle;\n",
              "    }\n",
              "\n",
              "    .dataframe tbody tr th {\n",
              "        vertical-align: top;\n",
              "    }\n",
              "\n",
              "    .dataframe thead th {\n",
              "        text-align: right;\n",
              "    }\n",
              "</style>\n",
              "<table border=\"1\" class=\"dataframe\">\n",
              "  <thead>\n",
              "    <tr style=\"text-align: right;\">\n",
              "      <th></th>\n",
              "      <th>heights</th>\n",
              "    </tr>\n",
              "  </thead>\n",
              "  <tbody>\n",
              "    <tr>\n",
              "      <th>1822</th>\n",
              "      <td>74.639191</td>\n",
              "    </tr>\n",
              "    <tr>\n",
              "      <th>1979</th>\n",
              "      <td>73.047802</td>\n",
              "    </tr>\n",
              "    <tr>\n",
              "      <th>463</th>\n",
              "      <td>70.705063</td>\n",
              "    </tr>\n",
              "    <tr>\n",
              "      <th>554</th>\n",
              "      <td>73.534441</td>\n",
              "    </tr>\n",
              "    <tr>\n",
              "      <th>58</th>\n",
              "      <td>73.656817</td>\n",
              "    </tr>\n",
              "  </tbody>\n",
              "</table>\n",
              "</div>"
            ],
            "text/plain": [
              "        heights\n",
              "1822  74.639191\n",
              "1979  73.047802\n",
              "463   70.705063\n",
              "554   73.534441\n",
              "58    73.656817"
            ]
          },
          "metadata": {
            "tags": []
          },
          "execution_count": 38
        }
      ]
    },
    {
      "cell_type": "code",
      "metadata": {
        "id": "mNLvklzYSEQ5",
        "colab_type": "code",
        "outputId": "13880a29-f109-42c3-e1d6-391a9c8e37f1",
        "colab": {
          "base_uri": "https://localhost:8080/",
          "height": 34
        }
      },
      "source": [
        "print('Sample Mean #2', sample2['heights'].mean())"
      ],
      "execution_count": 39,
      "outputs": [
        {
          "output_type": "stream",
          "text": [
            "Sample Mean #2 70.05590163079074\n"
          ],
          "name": "stdout"
        }
      ]
    },
    {
      "cell_type": "markdown",
      "metadata": {
        "id": "nfdQf8QYUUmw",
        "colab_type": "text"
      },
      "source": [
        "## Build and Interpret a Confidence Interval\n",
        "\n",
        "<img src=\"https://github.com/ryanallredblog/ryanallredblog.github.io/blob/master/img/Confidence_Interval.png?raw=true\" width=400>"
      ]
    },
    {
      "cell_type": "code",
      "metadata": {
        "id": "tBx71Kf0UjT3",
        "colab_type": "code",
        "outputId": "6cc812f5-283c-42b4-fa27-1de6269b9c16",
        "colab": {
          "base_uri": "https://localhost:8080/",
          "height": 51
        }
      },
      "source": [
        "coinflips_100 = np.random.binomial(n=1, p=.5, size=100)\n",
        "\n",
        "sample_std = np.std(coinflips_100)\n",
        "print(\"Sample Std:\", sample_std)\n",
        "sample_size = len(coinflips_100)\n",
        "print(\"Sample size:\", sample_size)"
      ],
      "execution_count": 40,
      "outputs": [
        {
          "output_type": "stream",
          "text": [
            "Sample Std: 0.4963869458396343\n",
            "Sample size: 100\n"
          ],
          "name": "stdout"
        }
      ]
    },
    {
      "cell_type": "code",
      "metadata": {
        "id": "U0lwElmxTYe3",
        "colab_type": "code",
        "outputId": "322178d0-61c1-4583-88ea-e4fcb22d7b5c",
        "colab": {
          "base_uri": "https://localhost:8080/",
          "height": 34
        }
      },
      "source": [
        "standard_error = sample_std/np.sqrt(sample_size)\n",
        "print(standard_error)"
      ],
      "execution_count": 41,
      "outputs": [
        {
          "output_type": "stream",
          "text": [
            "0.04963869458396343\n"
          ],
          "name": "stdout"
        }
      ]
    },
    {
      "cell_type": "markdown",
      "metadata": {
        "id": "RkYC5rnUw914",
        "colab_type": "text"
      },
      "source": [
        "### What confidence level do we want our confidence interval to represent?\n",
        "\n",
        "95% confidence Interval? 99% confidence interval? "
      ]
    },
    {
      "cell_type": "code",
      "metadata": {
        "id": "jze1zJsewQx_",
        "colab_type": "code",
        "outputId": "f515b283-b13a-4070-a5ff-f6aeb67efdd7",
        "colab": {
          "base_uri": "https://localhost:8080/",
          "height": 34
        }
      },
      "source": [
        "import scipy.stats as stats\n",
        "\n",
        "t = stats.t.ppf(0.975, sample_size)\n",
        "t"
      ],
      "execution_count": 42,
      "outputs": [
        {
          "output_type": "execute_result",
          "data": {
            "text/plain": [
              "1.9839715184496334"
            ]
          },
          "metadata": {
            "tags": []
          },
          "execution_count": 42
        }
      ]
    },
    {
      "cell_type": "code",
      "metadata": {
        "id": "HEY92oc4VgnX",
        "colab_type": "code",
        "outputId": "fddde599-a2de-4021-a7ee-7e241e785e2c",
        "colab": {
          "base_uri": "https://localhost:8080/",
          "height": 68
        }
      },
      "source": [
        "sample_mean = coinflips_100.mean()\n",
        "confidence_interval = (sample_mean - t*standard_error, sample_mean + t*standard_error)\n",
        "margin_of_error = t*standard_error\n",
        "\n",
        "print(\"Sample Mean:\", sample_mean)\n",
        "print(\"Margin of Error:\", margin_of_error)\n",
        "print(\"Confidence Interval:\", confidence_interval)"
      ],
      "execution_count": 43,
      "outputs": [
        {
          "output_type": "stream",
          "text": [
            "Sample Mean: 0.56\n",
            "Margin of Error: 0.09848175626760351\n",
            "Confidence Interval: (0.4615182437323965, 0.6584817562676035)\n"
          ],
          "name": "stdout"
        }
      ]
    },
    {
      "cell_type": "markdown",
      "metadata": {
        "id": "C4rtc8luVUAK",
        "colab_type": "text"
      },
      "source": [
        "## Graphically Represent a Confidence Interval"
      ]
    },
    {
      "cell_type": "code",
      "metadata": {
        "id": "pz6F9_3_VmKr",
        "colab_type": "code",
        "outputId": "3167dad9-3724-4b0d-b85d-3c9e53f76267",
        "colab": {
          "base_uri": "https://localhost:8080/",
          "height": 269
        }
      },
      "source": [
        "import seaborn as sns\n",
        "import matplotlib.pyplot as plt\n",
        "\n",
        "sns.kdeplot(coinflips_100);\n",
        "plt.axvline(x=sample_mean, color=\"k\")\n",
        "plt.axvline(x=confidence_interval[0], color=\"r\")\n",
        "plt.axvline(x=confidence_interval[1], color=\"r\");"
      ],
      "execution_count": 44,
      "outputs": [
        {
          "output_type": "display_data",
          "data": {
            "image/png": "[encoded data removed]",
            "text/plain": [
              "<Figure size 432x288 with 1 Axes>"
            ]
          },
          "metadata": {
            "tags": []
          }
        }
      ]
    },
    {
      "cell_type": "markdown",
      "metadata": {
        "id": "_oy0uoBGeoEb",
        "colab_type": "text"
      },
      "source": [
        "## Relationship between Confidence Intervals and T-tests\n",
        "\n",
        "Confidence Interval == Bounds of statistical significance for our t-test\n",
        "\n",
        "A sample mean that falls inside of our confidence interval will \"FAIL TO REJECT\" our null hypothesis\n",
        "\n",
        "A sample mean that falls outside of our confidence interval will \"REJECT\" our null hypothesis"
      ]
    },
    {
      "cell_type": "code",
      "metadata": {
        "id": "izIyVavzfCXS",
        "colab_type": "code",
        "colab": {}
      },
      "source": [
        "from scipy.stats import t, ttest_1samp"
      ],
      "execution_count": 0,
      "outputs": []
    },
    {
      "cell_type": "code",
      "metadata": {
        "id": "Y7HwdMwDfL1N",
        "colab_type": "code",
        "outputId": "0252c563-7f75-4564-fc03-61e7026d2fda",
        "colab": {
          "base_uri": "https://localhost:8080/",
          "height": 94
        }
      },
      "source": [
        "import numpy as np\n",
        "\n",
        "coinflip_means = []\n",
        "for x in range(0,100):\n",
        "  coinflips = np.random.binomial(n=1, p=.5, size=30)\n",
        "  coinflip_means.append(coinflips.mean())\n",
        "\n",
        "print(coinflip_means)"
      ],
      "execution_count": 46,
      "outputs": [
        {
          "output_type": "stream",
          "text": [
            "[0.43333333333333335, 0.3333333333333333, 0.5, 0.5333333333333333, 0.4666666666666667, 0.4, 0.5, 0.5333333333333333, 0.4666666666666667, 0.43333333333333335, 0.5333333333333333, 0.3333333333333333, 0.43333333333333335, 0.6, 0.5333333333333333, 0.5, 0.5333333333333333, 0.7, 0.7333333333333333, 0.5333333333333333, 0.4666666666666667, 0.5666666666666667, 0.43333333333333335, 0.5333333333333333, 0.4666666666666667, 0.5333333333333333, 0.43333333333333335, 0.3, 0.5333333333333333, 0.43333333333333335, 0.36666666666666664, 0.5333333333333333, 0.36666666666666664, 0.3333333333333333, 0.5666666666666667, 0.6, 0.4, 0.4666666666666667, 0.6666666666666666, 0.5, 0.6666666666666666, 0.3333333333333333, 0.5333333333333333, 0.4, 0.5, 0.5, 0.6, 0.5333333333333333, 0.6666666666666666, 0.4, 0.5, 0.4, 0.5, 0.5666666666666667, 0.4666666666666667, 0.5, 0.6333333333333333, 0.5, 0.5, 0.43333333333333335, 0.5333333333333333, 0.5, 0.6666666666666666, 0.4, 0.4, 0.4666666666666667, 0.5333333333333333, 0.4666666666666667, 0.5666666666666667, 0.4666666666666667, 0.36666666666666664, 0.6, 0.43333333333333335, 0.5666666666666667, 0.6333333333333333, 0.5, 0.43333333333333335, 0.36666666666666664, 0.5, 0.5, 0.4666666666666667, 0.5333333333333333, 0.7333333333333333, 0.36666666666666664, 0.5, 0.4666666666666667, 0.5333333333333333, 0.43333333333333335, 0.5666666666666667, 0.4, 0.4666666666666667, 0.5666666666666667, 0.6, 0.5666666666666667, 0.4666666666666667, 0.5, 0.6666666666666666, 0.43333333333333335, 0.43333333333333335, 0.6666666666666666]\n"
          ],
          "name": "stdout"
        }
      ]
    },
    {
      "cell_type": "code",
      "metadata": {
        "id": "Oqxgx3mBZLri",
        "colab_type": "code",
        "outputId": "291768c6-03e0-48aa-e37f-1ee167a30ecc",
        "colab": {
          "base_uri": "https://localhost:8080/",
          "height": 34
        }
      },
      "source": [
        "np.mean(coinflip_means)"
      ],
      "execution_count": 47,
      "outputs": [
        {
          "output_type": "execute_result",
          "data": {
            "text/plain": [
              "0.49933333333333324"
            ]
          },
          "metadata": {
            "tags": []
          },
          "execution_count": 47
        }
      ]
    },
    {
      "cell_type": "code",
      "metadata": {
        "id": "jyNzqI50ZtgR",
        "colab_type": "code",
        "outputId": "75324d68-baef-4d5c-c0e7-0f91082889d0",
        "colab": {
          "base_uri": "https://localhost:8080/",
          "height": 51
        }
      },
      "source": [
        "# 95% confidence interval\n",
        "t_stat = stats.t.ppf(0.975, 99)\n",
        "print(\"T Stat:\",t_stat)\n",
        "\n",
        "std_sample = np.std(coinflip_means)\n",
        "std_err = std_sample/np.sqrt(len(coinflip_means))\n",
        "\n",
        "CI = stats.t.interval(.95, 99, loc=np.mean(coinflip_means), scale=std_err)\n",
        "print(\"95% Confidence Interval:\", CI)"
      ],
      "execution_count": 48,
      "outputs": [
        {
          "output_type": "stream",
          "text": [
            "T Stat: 1.9842169515086827\n",
            "95% Confidence Interval: (0.4811241258528682, 0.5175425408137982)\n"
          ],
          "name": "stdout"
        }
      ]
    },
    {
      "cell_type": "markdown",
      "metadata": {
        "id": "EamZNJhAf-fY",
        "colab_type": "text"
      },
      "source": [
        "A null hypothesis that's just inside of our confidence interval == fail to reject\n",
        "\n"
      ]
    },
    {
      "cell_type": "code",
      "metadata": {
        "id": "cNpzYbjpfirR",
        "colab_type": "code",
        "outputId": "9d29d324-6cf4-4623-e7a4-c2bd96d4d264",
        "colab": {
          "base_uri": "https://localhost:8080/",
          "height": 34
        }
      },
      "source": [
        "ttest_1samp(coinflip_means, 0.486)"
      ],
      "execution_count": 49,
      "outputs": [
        {
          "output_type": "execute_result",
          "data": {
            "text/plain": [
              "Ttest_1sampResult(statistic=1.4456209888051663, pvalue=0.1514417600891505)"
            ]
          },
          "metadata": {
            "tags": []
          },
          "execution_count": 49
        }
      ]
    },
    {
      "cell_type": "markdown",
      "metadata": {
        "id": "hO34mbL9gHn1",
        "colab_type": "text"
      },
      "source": [
        "A null hypothesis that's just outside of our confidence interval == reject\n",
        "\n"
      ]
    },
    {
      "cell_type": "code",
      "metadata": {
        "id": "N4SUjj82gKlv",
        "colab_type": "code",
        "outputId": "20bcffee-0820-46f1-dd34-34743f82c4e6",
        "colab": {
          "base_uri": "https://localhost:8080/",
          "height": 34
        }
      },
      "source": [
        "ttest_1samp(coinflip_means, 0.5226)"
      ],
      "execution_count": 50,
      "outputs": [
        {
          "output_type": "execute_result",
          "data": {
            "text/plain": [
              "Ttest_1sampResult(statistic=-2.5226086254650353, pvalue=0.013241995233951667)"
            ]
          },
          "metadata": {
            "tags": []
          },
          "execution_count": 50
        }
      ]
    },
    {
      "cell_type": "code",
      "metadata": {
        "id": "rQZvNu6B3b9b",
        "colab_type": "code",
        "colab": {}
      },
      "source": [
        "def confidence_interval(data, confidence=0.95):\n",
        "  \"\"\"\n",
        "  Calculate a confidence interval around a sample mean for given data.\n",
        "  Using t-distribution and two-tailed test, default 95% confidence. \n",
        "  \n",
        "  Arguments:\n",
        "    data - iterable (list or numpy array) of sample observations\n",
        "    confidence - level of confidence for the interval\n",
        "  \n",
        "  Returns:\n",
        "    tuple of (mean, lower bound, upper bound)\n",
        "  \"\"\"\n",
        "  data = np.array(data)\n",
        "  mean = np.mean(data)\n",
        "  n = len(data)\n",
        "  stderr = stats.sem(data)\n",
        "  interval = stderr * stats.t.ppf((1 + confidence) / 2.0, n - 1)\n",
        "  return (mean, mean - interval, mean + interval)"
      ],
      "execution_count": 0,
      "outputs": []
    },
    {
      "cell_type": "markdown",
      "metadata": {
        "id": "pTIzrkKdUaLl",
        "colab_type": "text"
      },
      "source": [
        "## Run a $\\chi^{2}$ Test \"by hand\" (Using Numpy)"
      ]
    },
    {
      "cell_type": "code",
      "metadata": {
        "id": "DDsovHUyUj3v",
        "colab_type": "code",
        "outputId": "20fe7593-3c39-460a-b1db-f5784fd67c7a",
        "colab": {
          "base_uri": "https://localhost:8080/",
          "height": 360
        }
      },
      "source": [
        "df = pd.read_csv('https://raw.githubusercontent.com/ryanleeallred/datasets/master/adult.csv', na_values=\" ?\")\n",
        "print(df.shape)\n",
        "df.head()"
      ],
      "execution_count": 52,
      "outputs": [
        {
          "output_type": "stream",
          "text": [
            "(32561, 15)\n"
          ],
          "name": "stdout"
        },
        {
          "output_type": "execute_result",
          "data": {
            "text/html": [
              "<div>\n",
              "<style scoped>\n",
              "    .dataframe tbody tr th:only-of-type {\n",
              "        vertical-align: middle;\n",
              "    }\n",
              "\n",
              "    .dataframe tbody tr th {\n",
              "        vertical-align: top;\n",
              "    }\n",
              "\n",
              "    .dataframe thead th {\n",
              "        text-align: right;\n",
              "    }\n",
              "</style>\n",
              "<table border=\"1\" class=\"dataframe\">\n",
              "  <thead>\n",
              "    <tr style=\"text-align: right;\">\n",
              "      <th></th>\n",
              "      <th>age</th>\n",
              "      <th>workclass</th>\n",
              "      <th>fnlwgt</th>\n",
              "      <th>education</th>\n",
              "      <th>education-num</th>\n",
              "      <th>marital-status</th>\n",
              "      <th>occupation</th>\n",
              "      <th>relationship</th>\n",
              "      <th>race</th>\n",
              "      <th>sex</th>\n",
              "      <th>capital-gain</th>\n",
              "      <th>capital-loss</th>\n",
              "      <th>hours-per-week</th>\n",
              "      <th>country</th>\n",
              "      <th>salary</th>\n",
              "    </tr>\n",
              "  </thead>\n",
              "  <tbody>\n",
              "    <tr>\n",
              "      <th>0</th>\n",
              "      <td>39</td>\n",
              "      <td>State-gov</td>\n",
              "      <td>77516</td>\n",
              "      <td>Bachelors</td>\n",
              "      <td>13</td>\n",
              "      <td>Never-married</td>\n",
              "      <td>Adm-clerical</td>\n",
              "      <td>Not-in-family</td>\n",
              "      <td>White</td>\n",
              "      <td>Male</td>\n",
              "      <td>2174</td>\n",
              "      <td>0</td>\n",
              "      <td>40</td>\n",
              "      <td>United-States</td>\n",
              "      <td>&lt;=50K</td>\n",
              "    </tr>\n",
              "    <tr>\n",
              "      <th>1</th>\n",
              "      <td>50</td>\n",
              "      <td>Self-emp-not-inc</td>\n",
              "      <td>83311</td>\n",
              "      <td>Bachelors</td>\n",
              "      <td>13</td>\n",
              "      <td>Married-civ-spouse</td>\n",
              "      <td>Exec-managerial</td>\n",
              "      <td>Husband</td>\n",
              "      <td>White</td>\n",
              "      <td>Male</td>\n",
              "      <td>0</td>\n",
              "      <td>0</td>\n",
              "      <td>13</td>\n",
              "      <td>United-States</td>\n",
              "      <td>&lt;=50K</td>\n",
              "    </tr>\n",
              "    <tr>\n",
              "      <th>2</th>\n",
              "      <td>38</td>\n",
              "      <td>Private</td>\n",
              "      <td>215646</td>\n",
              "      <td>HS-grad</td>\n",
              "      <td>9</td>\n",
              "      <td>Divorced</td>\n",
              "      <td>Handlers-cleaners</td>\n",
              "      <td>Not-in-family</td>\n",
              "      <td>White</td>\n",
              "      <td>Male</td>\n",
              "      <td>0</td>\n",
              "      <td>0</td>\n",
              "      <td>40</td>\n",
              "      <td>United-States</td>\n",
              "      <td>&lt;=50K</td>\n",
              "    </tr>\n",
              "    <tr>\n",
              "      <th>3</th>\n",
              "      <td>53</td>\n",
              "      <td>Private</td>\n",
              "      <td>234721</td>\n",
              "      <td>11th</td>\n",
              "      <td>7</td>\n",
              "      <td>Married-civ-spouse</td>\n",
              "      <td>Handlers-cleaners</td>\n",
              "      <td>Husband</td>\n",
              "      <td>Black</td>\n",
              "      <td>Male</td>\n",
              "      <td>0</td>\n",
              "      <td>0</td>\n",
              "      <td>40</td>\n",
              "      <td>United-States</td>\n",
              "      <td>&lt;=50K</td>\n",
              "    </tr>\n",
              "    <tr>\n",
              "      <th>4</th>\n",
              "      <td>28</td>\n",
              "      <td>Private</td>\n",
              "      <td>338409</td>\n",
              "      <td>Bachelors</td>\n",
              "      <td>13</td>\n",
              "      <td>Married-civ-spouse</td>\n",
              "      <td>Prof-specialty</td>\n",
              "      <td>Wife</td>\n",
              "      <td>Black</td>\n",
              "      <td>Female</td>\n",
              "      <td>0</td>\n",
              "      <td>0</td>\n",
              "      <td>40</td>\n",
              "      <td>Cuba</td>\n",
              "      <td>&lt;=50K</td>\n",
              "    </tr>\n",
              "  </tbody>\n",
              "</table>\n",
              "</div>"
            ],
            "text/plain": [
              "   age          workclass  fnlwgt  ... hours-per-week         country  salary\n",
              "0   39          State-gov   77516  ...             40   United-States   <=50K\n",
              "1   50   Self-emp-not-inc   83311  ...             13   United-States   <=50K\n",
              "2   38            Private  215646  ...             40   United-States   <=50K\n",
              "3   53            Private  234721  ...             40   United-States   <=50K\n",
              "4   28            Private  338409  ...             40            Cuba   <=50K\n",
              "\n",
              "[5 rows x 15 columns]"
            ]
          },
          "metadata": {
            "tags": []
          },
          "execution_count": 52
        }
      ]
    },
    {
      "cell_type": "code",
      "metadata": {
        "id": "ooYZljCudjsk",
        "colab_type": "code",
        "outputId": "b824bb71-fbae-4048-8eb9-e93ff521469a",
        "colab": {
          "base_uri": "https://localhost:8080/",
          "height": 269
        }
      },
      "source": [
        "df[\"hours-per-week\"].hist();"
      ],
      "execution_count": 53,
      "outputs": [
        {
          "output_type": "display_data",
          "data": {
            "image/png": "[encoded data removed]",
            "text/plain": [
              "<Figure size 432x288 with 1 Axes>"
            ]
          },
          "metadata": {
            "tags": []
          }
        }
      ]
    },
    {
      "cell_type": "code",
      "metadata": {
        "id": "1C3RLJbXdPuP",
        "colab_type": "code",
        "outputId": "a7af6846-6b73-41c6-fe1e-099881662a41",
        "colab": {
          "base_uri": "https://localhost:8080/",
          "height": 173
        }
      },
      "source": [
        "df.describe(exclude=\"number\")"
      ],
      "execution_count": 54,
      "outputs": [
        {
          "output_type": "execute_result",
          "data": {
            "text/html": [
              "<div>\n",
              "<style scoped>\n",
              "    .dataframe tbody tr th:only-of-type {\n",
              "        vertical-align: middle;\n",
              "    }\n",
              "\n",
              "    .dataframe tbody tr th {\n",
              "        vertical-align: top;\n",
              "    }\n",
              "\n",
              "    .dataframe thead th {\n",
              "        text-align: right;\n",
              "    }\n",
              "</style>\n",
              "<table border=\"1\" class=\"dataframe\">\n",
              "  <thead>\n",
              "    <tr style=\"text-align: right;\">\n",
              "      <th></th>\n",
              "      <th>workclass</th>\n",
              "      <th>education</th>\n",
              "      <th>marital-status</th>\n",
              "      <th>occupation</th>\n",
              "      <th>relationship</th>\n",
              "      <th>race</th>\n",
              "      <th>sex</th>\n",
              "      <th>country</th>\n",
              "      <th>salary</th>\n",
              "    </tr>\n",
              "  </thead>\n",
              "  <tbody>\n",
              "    <tr>\n",
              "      <th>count</th>\n",
              "      <td>30725</td>\n",
              "      <td>32561</td>\n",
              "      <td>32561</td>\n",
              "      <td>30718</td>\n",
              "      <td>32561</td>\n",
              "      <td>32561</td>\n",
              "      <td>32561</td>\n",
              "      <td>31978</td>\n",
              "      <td>32561</td>\n",
              "    </tr>\n",
              "    <tr>\n",
              "      <th>unique</th>\n",
              "      <td>8</td>\n",
              "      <td>16</td>\n",
              "      <td>7</td>\n",
              "      <td>14</td>\n",
              "      <td>6</td>\n",
              "      <td>5</td>\n",
              "      <td>2</td>\n",
              "      <td>41</td>\n",
              "      <td>2</td>\n",
              "    </tr>\n",
              "    <tr>\n",
              "      <th>top</th>\n",
              "      <td>Private</td>\n",
              "      <td>HS-grad</td>\n",
              "      <td>Married-civ-spouse</td>\n",
              "      <td>Prof-specialty</td>\n",
              "      <td>Husband</td>\n",
              "      <td>White</td>\n",
              "      <td>Male</td>\n",
              "      <td>United-States</td>\n",
              "      <td>&lt;=50K</td>\n",
              "    </tr>\n",
              "    <tr>\n",
              "      <th>freq</th>\n",
              "      <td>22696</td>\n",
              "      <td>10501</td>\n",
              "      <td>14976</td>\n",
              "      <td>4140</td>\n",
              "      <td>13193</td>\n",
              "      <td>27816</td>\n",
              "      <td>21790</td>\n",
              "      <td>29170</td>\n",
              "      <td>24720</td>\n",
              "    </tr>\n",
              "  </tbody>\n",
              "</table>\n",
              "</div>"
            ],
            "text/plain": [
              "       workclass education       marital-status  ...    sex         country  salary\n",
              "count      30725     32561                32561  ...  32561           31978   32561\n",
              "unique         8        16                    7  ...      2              41       2\n",
              "top      Private   HS-grad   Married-civ-spouse  ...   Male   United-States   <=50K\n",
              "freq       22696     10501                14976  ...  21790           29170   24720\n",
              "\n",
              "[4 rows x 9 columns]"
            ]
          },
          "metadata": {
            "tags": []
          },
          "execution_count": 54
        }
      ]
    },
    {
      "cell_type": "code",
      "metadata": {
        "id": "CzoTa25_drxR",
        "colab_type": "code",
        "outputId": "4481c8be-ecae-4b8b-bd91-5dee77cb250b",
        "colab": {
          "base_uri": "https://localhost:8080/",
          "height": 136
        }
      },
      "source": [
        "cut_points = [0,9,19,29,39,49,500]\n",
        "label_names = ['0-9', '10-19','20-29', '30-39', '40-49', '50+']\n",
        "df[\"hours_per_week_categories\"] = pd.cut(df['hours-per-week'], cut_points, labels=label_names)\n",
        "df.hours_per_week_categories.value_counts()"
      ],
      "execution_count": 55,
      "outputs": [
        {
          "output_type": "execute_result",
          "data": {
            "text/plain": [
              "40-49    18336\n",
              "50+       6462\n",
              "30-39     3667\n",
              "20-29     2392\n",
              "10-19     1246\n",
              "0-9        458\n",
              "Name: hours_per_week_categories, dtype: int64"
            ]
          },
          "metadata": {
            "tags": []
          },
          "execution_count": 55
        }
      ]
    },
    {
      "cell_type": "code",
      "metadata": {
        "id": "liZSubwRelXC",
        "colab_type": "code",
        "outputId": "7fbcefeb-2150-4397-a11d-2bd9bf1307c1",
        "colab": {
          "base_uri": "https://localhost:8080/",
          "height": 68
        }
      },
      "source": [
        "df.sex.value_counts()"
      ],
      "execution_count": 56,
      "outputs": [
        {
          "output_type": "execute_result",
          "data": {
            "text/plain": [
              " Male      21790\n",
              " Female    10771\n",
              "Name: sex, dtype: int64"
            ]
          },
          "metadata": {
            "tags": []
          },
          "execution_count": 56
        }
      ]
    },
    {
      "cell_type": "code",
      "metadata": {
        "id": "ueGX1gGUeqgI",
        "colab_type": "code",
        "outputId": "320703c7-288b-42f8-b348-ec9586e41a46",
        "colab": {
          "base_uri": "https://localhost:8080/",
          "height": 173
        }
      },
      "source": [
        "df = df.sort_values(by=\"hours_per_week_categories\")\n",
        "contigency_table = pd.crosstab(df['sex'], df['hours_per_week_categories'], margins=True)\n",
        "contigency_table"
      ],
      "execution_count": 57,
      "outputs": [
        {
          "output_type": "execute_result",
          "data": {
            "text/html": [
              "<div>\n",
              "<style scoped>\n",
              "    .dataframe tbody tr th:only-of-type {\n",
              "        vertical-align: middle;\n",
              "    }\n",
              "\n",
              "    .dataframe tbody tr th {\n",
              "        vertical-align: top;\n",
              "    }\n",
              "\n",
              "    .dataframe thead th {\n",
              "        text-align: right;\n",
              "    }\n",
              "</style>\n",
              "<table border=\"1\" class=\"dataframe\">\n",
              "  <thead>\n",
              "    <tr style=\"text-align: right;\">\n",
              "      <th>hours_per_week_categories</th>\n",
              "      <th>0-9</th>\n",
              "      <th>10-19</th>\n",
              "      <th>20-29</th>\n",
              "      <th>30-39</th>\n",
              "      <th>40-49</th>\n",
              "      <th>50+</th>\n",
              "      <th>All</th>\n",
              "    </tr>\n",
              "    <tr>\n",
              "      <th>sex</th>\n",
              "      <th></th>\n",
              "      <th></th>\n",
              "      <th></th>\n",
              "      <th></th>\n",
              "      <th></th>\n",
              "      <th></th>\n",
              "      <th></th>\n",
              "    </tr>\n",
              "  </thead>\n",
              "  <tbody>\n",
              "    <tr>\n",
              "      <th>Female</th>\n",
              "      <td>235</td>\n",
              "      <td>671</td>\n",
              "      <td>1287</td>\n",
              "      <td>1914</td>\n",
              "      <td>5636</td>\n",
              "      <td>1028</td>\n",
              "      <td>10771</td>\n",
              "    </tr>\n",
              "    <tr>\n",
              "      <th>Male</th>\n",
              "      <td>223</td>\n",
              "      <td>575</td>\n",
              "      <td>1105</td>\n",
              "      <td>1753</td>\n",
              "      <td>12700</td>\n",
              "      <td>5434</td>\n",
              "      <td>21790</td>\n",
              "    </tr>\n",
              "    <tr>\n",
              "      <th>All</th>\n",
              "      <td>458</td>\n",
              "      <td>1246</td>\n",
              "      <td>2392</td>\n",
              "      <td>3667</td>\n",
              "      <td>18336</td>\n",
              "      <td>6462</td>\n",
              "      <td>32561</td>\n",
              "    </tr>\n",
              "  </tbody>\n",
              "</table>\n",
              "</div>"
            ],
            "text/plain": [
              "hours_per_week_categories  0-9  10-19  20-29  30-39  40-49   50+    All\n",
              "sex                                                                    \n",
              " Female                    235    671   1287   1914   5636  1028  10771\n",
              " Male                      223    575   1105   1753  12700  5434  21790\n",
              "All                        458   1246   2392   3667  18336  6462  32561"
            ]
          },
          "metadata": {
            "tags": []
          },
          "execution_count": 57
        }
      ]
    },
    {
      "cell_type": "markdown",
      "metadata": {
        "id": "uyw_hby7-OHF",
        "colab_type": "text"
      },
      "source": [
        "## Expected Value Calculation\n",
        "\\begin{align}\n",
        "expected_{i,j} =\\frac{(row_{i} \\text{total})(column_{j} \\text{total}) }{(\\text{total observations})}  \n",
        "\\end{align}"
      ]
    },
    {
      "cell_type": "code",
      "metadata": {
        "id": "C11nWaal-acY",
        "colab_type": "code",
        "outputId": "fd849558-65ed-4b2d-f8fe-6907ff0c272a",
        "colab": {
          "base_uri": "https://localhost:8080/",
          "height": 51
        }
      },
      "source": [
        "rows_sums = contigency_table.iloc[0:2, 6].values\n",
        "col_sums =  contigency_table.iloc[2, 0:6].values\n",
        "\n",
        "print(rows_sums)\n",
        "print(col_sums)\n"
      ],
      "execution_count": 58,
      "outputs": [
        {
          "output_type": "stream",
          "text": [
            "[10771 21790]\n",
            "[  458  1246  2392  3667 18336  6462]\n"
          ],
          "name": "stdout"
        }
      ]
    },
    {
      "cell_type": "code",
      "metadata": {
        "id": "7ebqCdYUgcDQ",
        "colab_type": "code",
        "outputId": "898d9169-626f-40e9-834b-4dc97ce4dedf",
        "colab": {
          "base_uri": "https://localhost:8080/",
          "height": 34
        }
      },
      "source": [
        "total = contigency_table.loc['All', 'All']\n",
        "total"
      ],
      "execution_count": 59,
      "outputs": [
        {
          "output_type": "execute_result",
          "data": {
            "text/plain": [
              "32561"
            ]
          },
          "metadata": {
            "tags": []
          },
          "execution_count": 59
        }
      ]
    },
    {
      "cell_type": "code",
      "metadata": {
        "id": "EyFei1hNgs2L",
        "colab_type": "code",
        "outputId": "76bd1bb3-1324-4656-fa5b-0f3d9944526d",
        "colab": {
          "base_uri": "https://localhost:8080/",
          "height": 102
        }
      },
      "source": [
        "expected = []\n",
        "for i in range(len(rows_sums)):\n",
        "  expected_row = []\n",
        "  for column in col_sums:\n",
        "    expected_val = column*rows_sums[i]/total\n",
        "    expected_row.append(expected_val)\n",
        "  expected.append(expected_row)\n",
        "  \n",
        "expected = np.array(expected)\n",
        "print(expected.shape)\n",
        "print(expected)"
      ],
      "execution_count": 60,
      "outputs": [
        {
          "output_type": "stream",
          "text": [
            "(2, 6)\n",
            "[[  151.50388502   412.16995793   791.26046497  1213.02346365\n",
            "   6065.44811277  2137.59411566]\n",
            " [  306.49611498   833.83004207  1600.73953503  2453.97653635\n",
            "  12270.55188723  4324.40588434]]\n"
          ],
          "name": "stdout"
        }
      ]
    },
    {
      "cell_type": "code",
      "metadata": {
        "id": "Ac7fDyfyhWuj",
        "colab_type": "code",
        "outputId": "d9046d44-1532-41aa-fb2b-1eda3dd5c73d",
        "colab": {
          "base_uri": "https://localhost:8080/",
          "height": 173
        }
      },
      "source": [
        "contigency_table"
      ],
      "execution_count": 61,
      "outputs": [
        {
          "output_type": "execute_result",
          "data": {
            "text/html": [
              "<div>\n",
              "<style scoped>\n",
              "    .dataframe tbody tr th:only-of-type {\n",
              "        vertical-align: middle;\n",
              "    }\n",
              "\n",
              "    .dataframe tbody tr th {\n",
              "        vertical-align: top;\n",
              "    }\n",
              "\n",
              "    .dataframe thead th {\n",
              "        text-align: right;\n",
              "    }\n",
              "</style>\n",
              "<table border=\"1\" class=\"dataframe\">\n",
              "  <thead>\n",
              "    <tr style=\"text-align: right;\">\n",
              "      <th>hours_per_week_categories</th>\n",
              "      <th>0-9</th>\n",
              "      <th>10-19</th>\n",
              "      <th>20-29</th>\n",
              "      <th>30-39</th>\n",
              "      <th>40-49</th>\n",
              "      <th>50+</th>\n",
              "      <th>All</th>\n",
              "    </tr>\n",
              "    <tr>\n",
              "      <th>sex</th>\n",
              "      <th></th>\n",
              "      <th></th>\n",
              "      <th></th>\n",
              "      <th></th>\n",
              "      <th></th>\n",
              "      <th></th>\n",
              "      <th></th>\n",
              "    </tr>\n",
              "  </thead>\n",
              "  <tbody>\n",
              "    <tr>\n",
              "      <th>Female</th>\n",
              "      <td>235</td>\n",
              "      <td>671</td>\n",
              "      <td>1287</td>\n",
              "      <td>1914</td>\n",
              "      <td>5636</td>\n",
              "      <td>1028</td>\n",
              "      <td>10771</td>\n",
              "    </tr>\n",
              "    <tr>\n",
              "      <th>Male</th>\n",
              "      <td>223</td>\n",
              "      <td>575</td>\n",
              "      <td>1105</td>\n",
              "      <td>1753</td>\n",
              "      <td>12700</td>\n",
              "      <td>5434</td>\n",
              "      <td>21790</td>\n",
              "    </tr>\n",
              "    <tr>\n",
              "      <th>All</th>\n",
              "      <td>458</td>\n",
              "      <td>1246</td>\n",
              "      <td>2392</td>\n",
              "      <td>3667</td>\n",
              "      <td>18336</td>\n",
              "      <td>6462</td>\n",
              "      <td>32561</td>\n",
              "    </tr>\n",
              "  </tbody>\n",
              "</table>\n",
              "</div>"
            ],
            "text/plain": [
              "hours_per_week_categories  0-9  10-19  20-29  30-39  40-49   50+    All\n",
              "sex                                                                    \n",
              " Female                    235    671   1287   1914   5636  1028  10771\n",
              " Male                      223    575   1105   1753  12700  5434  21790\n",
              "All                        458   1246   2392   3667  18336  6462  32561"
            ]
          },
          "metadata": {
            "tags": []
          },
          "execution_count": 61
        }
      ]
    },
    {
      "cell_type": "markdown",
      "metadata": {
        "id": "R6AWydhG_P4s",
        "colab_type": "text"
      },
      "source": [
        "## Chi-Squared Statistic with Numpy\n",
        "\n",
        "\\begin{align}\n",
        "\\chi^2 = \\sum \\frac{(observed_{i}-expected_{i})^2}{(expected_{i})}\n",
        "\\end{align}\n",
        "\n",
        "For the $observed$ values we will just use a version of our contingency table without the margins as a numpy array. In this way, if our observed values array and our expected values array are the same shape, then we can subtract them and divide them directly which makes the calculations a lot cleaner. No for loops!"
      ]
    },
    {
      "cell_type": "code",
      "metadata": {
        "id": "35gsNBSQhivd",
        "colab_type": "code",
        "outputId": "baee7e07-c4bc-422a-d3ef-aeb33086f5ab",
        "colab": {
          "base_uri": "https://localhost:8080/",
          "height": 68
        }
      },
      "source": [
        "observed = pd.crosstab(df['sex'], df['hours_per_week_categories']).values\n",
        "print(observed.shape)\n",
        "observed"
      ],
      "execution_count": 62,
      "outputs": [
        {
          "output_type": "stream",
          "text": [
            "(2, 6)\n"
          ],
          "name": "stdout"
        },
        {
          "output_type": "execute_result",
          "data": {
            "text/plain": [
              "array([[  235,   671,  1287,  1914,  5636,  1028],\n",
              "       [  223,   575,  1105,  1753, 12700,  5434]])"
            ]
          },
          "metadata": {
            "tags": []
          },
          "execution_count": 62
        }
      ]
    },
    {
      "cell_type": "code",
      "metadata": {
        "id": "o7YgaNij_cSo",
        "colab_type": "code",
        "outputId": "7d0d87cf-7ef3-403c-c3b7-72b59af57b10",
        "colab": {
          "base_uri": "https://localhost:8080/",
          "height": 34
        }
      },
      "source": [
        "chi_square = ((observed - expected)**2/(expected)).sum()\n",
        "chi_square"
      ],
      "execution_count": 63,
      "outputs": [
        {
          "output_type": "execute_result",
          "data": {
            "text/plain": [
              "2287.190943926107"
            ]
          },
          "metadata": {
            "tags": []
          },
          "execution_count": 63
        }
      ]
    },
    {
      "cell_type": "markdown",
      "metadata": {
        "id": "7Igz-XHcVbW3",
        "colab_type": "text"
      },
      "source": [
        "## Run a $\\chi^{2}$ Test using Scipy"
      ]
    },
    {
      "cell_type": "code",
      "metadata": {
        "id": "kazgId8L9tYZ",
        "colab_type": "code",
        "outputId": "d9ee07b1-8234-41da-828a-3e7cf9c82e94",
        "colab": {
          "base_uri": "https://localhost:8080/",
          "height": 85
        }
      },
      "source": [
        "chi_squared, p_value, dof, expected = stats.chi2_contingency(observed)\n",
        "print(chi_squared, p_value, dof, expected)"
      ],
      "execution_count": 64,
      "outputs": [
        {
          "output_type": "stream",
          "text": [
            "2287.190943926107 0.0 5 [[  151.50388502   412.16995793   791.26046497  1213.02346365\n",
            "   6065.44811277  2137.59411566]\n",
            " [  306.49611498   833.83004207  1600.73953503  2453.97653635\n",
            "  12270.55188723  4324.40588434]]\n"
          ],
          "name": "stdout"
        }
      ]
    },
    {
      "cell_type": "markdown",
      "metadata": {
        "id": "TRtBEP3rA307",
        "colab_type": "text"
      },
      "source": [
        "Null Hypothesis: Hours worked per week bins is **independent** of sex. \n",
        "\n",
        "Due to a p-value of 0, we REJECT the null hypothesis that hours worked per week and sex are independent, and conclude that there is an association between hours worked per week and sex. "
      ]
    },
    {
      "cell_type": "markdown",
      "metadata": {
        "id": "11OzdxWTM7UR",
        "colab_type": "text"
      },
      "source": [
        "## Assignment - Build a confidence interval\n",
        "\n",
        "A confidence interval refers to a neighborhood around some point estimate, the size of which is determined by the desired p-value. For instance, we might say that 52% of Americans prefer tacos to burritos, with a 95% confidence interval of +/- 5%.\n",
        "\n",
        "52% (0.52) is the point estimate, and +/- 5% (the interval $[0.47, 0.57]$) is the confidence interval. \"95% confidence\" means a p-value $\\leq 1 - 0.95 = 0.05$.\n",
        "\n",
        "In this case, the confidence interval includes $0.5$ - which is the natural null hypothesis (that half of Americans prefer tacos and half burritos, thus there is no clear favorite). So in this case, we could use the confidence interval to report that we've failed to reject the null hypothesis.\n",
        "\n",
        "But providing the full analysis with a confidence interval, including a graphical representation of it, can be a helpful and powerful way to tell your story. Done well, it is also more intuitive to a layperson than simply saying \"fail to reject the null hypothesis\" - it shows that in fact the data does *not* give a single clear result (the point estimate) but a whole range of possibilities.\n",
        "\n",
        "How is a confidence interval built, and how should it be interpreted? It does *not* mean that 95% of the data lies in that interval - instead, the frequentist interpretation is \"if we were to repeat this experiment 100 times, we would expect the average result to lie in this interval ~95 times.\"\n",
        "\n",
        "For a 95% confidence interval and a normal(-ish) distribution, you can simply remember that +/-2 standard deviations contains 95% of the probability mass, and so the 95% confidence interval based on a given sample is centered at the mean (point estimate) and has a range of +/- 2 (or technically 1.96) standard deviations.\n",
        "\n",
        "Different distributions/assumptions (90% confidence, 99% confidence) will require different math, but the overall process and interpretation (with a frequentist approach) will be the same.\n",
        "\n",
        "Your assignment - using the data from the prior module ([congressional voting records](https://archive.ics.uci.edu/ml/datasets/Congressional+Voting+Records)):\n",
        "\n",
        "\n",
        "### Confidence Intervals:\n",
        "1. Generate and numerically represent a confidence interval\n",
        "2. Graphically (with a plot) represent the confidence interval\n",
        "3. Interpret the confidence interval - what does it tell you about the data and its distribution?\n",
        "\n",
        "### Chi-squared tests:\n",
        "4. Take a dataset that we have used in the past in class that has **categorical** variables. Pick two of those categorical variables and run a chi-squared tests on that data\n",
        "  - By hand using Numpy\n",
        "  - In a single line using Scipy\n",
        "\n",
        "Stretch goals:\n",
        "\n",
        "1. Write a summary of your findings, mixing prose and math/code/results. *Note* - yes, this is by definition a political topic. It is challenging but important to keep your writing voice *neutral* and stick to the facts of the data. Data science often involves considering controversial issues, so it's important to be sensitive about them (especially if you want to publish).\n",
        "2. Apply the techniques you learned today to your project data or other data of your choice, and write/discuss your findings here.\n",
        "3. Refactor your code so it is elegant, readable, and can be easily run for all issues."
      ]
    },
    {
      "cell_type": "code",
      "metadata": {
        "id": "Ckcr4A4FM7cs",
        "colab_type": "code",
        "colab": {
          "base_uri": "https://localhost:8080/",
          "height": 221
        },
        "outputId": "aa021b52-75cb-4be6-f164-61380a97bae8"
      },
      "source": [
        "df = pd.read_csv(\"house-votes-84.data\", header=None, na_values=\"?\")\n",
        "print(df.shape)\n",
        "df.head()"
      ],
      "execution_count": 77,
      "outputs": [
        {
          "output_type": "stream",
          "text": [
            "(435, 17)\n"
          ],
          "name": "stdout"
        },
        {
          "output_type": "execute_result",
          "data": {
            "text/html": [
              "<div>\n",
              "<style scoped>\n",
              "    .dataframe tbody tr th:only-of-type {\n",
              "        vertical-align: middle;\n",
              "    }\n",
              "\n",
              "    .dataframe tbody tr th {\n",
              "        vertical-align: top;\n",
              "    }\n",
              "\n",
              "    .dataframe thead th {\n",
              "        text-align: right;\n",
              "    }\n",
              "</style>\n",
              "<table border=\"1\" class=\"dataframe\">\n",
              "  <thead>\n",
              "    <tr style=\"text-align: right;\">\n",
              "      <th></th>\n",
              "      <th>0</th>\n",
              "      <th>1</th>\n",
              "      <th>2</th>\n",
              "      <th>3</th>\n",
              "      <th>4</th>\n",
              "      <th>5</th>\n",
              "      <th>6</th>\n",
              "      <th>7</th>\n",
              "      <th>8</th>\n",
              "      <th>9</th>\n",
              "      <th>10</th>\n",
              "      <th>11</th>\n",
              "      <th>12</th>\n",
              "      <th>13</th>\n",
              "      <th>14</th>\n",
              "      <th>15</th>\n",
              "      <th>16</th>\n",
              "    </tr>\n",
              "  </thead>\n",
              "  <tbody>\n",
              "    <tr>\n",
              "      <th>0</th>\n",
              "      <td>republican</td>\n",
              "      <td>n</td>\n",
              "      <td>y</td>\n",
              "      <td>n</td>\n",
              "      <td>y</td>\n",
              "      <td>y</td>\n",
              "      <td>y</td>\n",
              "      <td>n</td>\n",
              "      <td>n</td>\n",
              "      <td>n</td>\n",
              "      <td>y</td>\n",
              "      <td>NaN</td>\n",
              "      <td>y</td>\n",
              "      <td>y</td>\n",
              "      <td>y</td>\n",
              "      <td>n</td>\n",
              "      <td>y</td>\n",
              "    </tr>\n",
              "    <tr>\n",
              "      <th>1</th>\n",
              "      <td>republican</td>\n",
              "      <td>n</td>\n",
              "      <td>y</td>\n",
              "      <td>n</td>\n",
              "      <td>y</td>\n",
              "      <td>y</td>\n",
              "      <td>y</td>\n",
              "      <td>n</td>\n",
              "      <td>n</td>\n",
              "      <td>n</td>\n",
              "      <td>n</td>\n",
              "      <td>n</td>\n",
              "      <td>y</td>\n",
              "      <td>y</td>\n",
              "      <td>y</td>\n",
              "      <td>n</td>\n",
              "      <td>NaN</td>\n",
              "    </tr>\n",
              "    <tr>\n",
              "      <th>2</th>\n",
              "      <td>democrat</td>\n",
              "      <td>NaN</td>\n",
              "      <td>y</td>\n",
              "      <td>y</td>\n",
              "      <td>NaN</td>\n",
              "      <td>y</td>\n",
              "      <td>y</td>\n",
              "      <td>n</td>\n",
              "      <td>n</td>\n",
              "      <td>n</td>\n",
              "      <td>n</td>\n",
              "      <td>y</td>\n",
              "      <td>n</td>\n",
              "      <td>y</td>\n",
              "      <td>y</td>\n",
              "      <td>n</td>\n",
              "      <td>n</td>\n",
              "    </tr>\n",
              "    <tr>\n",
              "      <th>3</th>\n",
              "      <td>democrat</td>\n",
              "      <td>n</td>\n",
              "      <td>y</td>\n",
              "      <td>y</td>\n",
              "      <td>n</td>\n",
              "      <td>NaN</td>\n",
              "      <td>y</td>\n",
              "      <td>n</td>\n",
              "      <td>n</td>\n",
              "      <td>n</td>\n",
              "      <td>n</td>\n",
              "      <td>y</td>\n",
              "      <td>n</td>\n",
              "      <td>y</td>\n",
              "      <td>n</td>\n",
              "      <td>n</td>\n",
              "      <td>y</td>\n",
              "    </tr>\n",
              "    <tr>\n",
              "      <th>4</th>\n",
              "      <td>democrat</td>\n",
              "      <td>y</td>\n",
              "      <td>y</td>\n",
              "      <td>y</td>\n",
              "      <td>n</td>\n",
              "      <td>y</td>\n",
              "      <td>y</td>\n",
              "      <td>n</td>\n",
              "      <td>n</td>\n",
              "      <td>n</td>\n",
              "      <td>n</td>\n",
              "      <td>y</td>\n",
              "      <td>NaN</td>\n",
              "      <td>y</td>\n",
              "      <td>y</td>\n",
              "      <td>y</td>\n",
              "      <td>y</td>\n",
              "    </tr>\n",
              "  </tbody>\n",
              "</table>\n",
              "</div>"
            ],
            "text/plain": [
              "           0    1  2  3    4    5  6  7  8  9  10   11   12 13 14 15   16\n",
              "0  republican    n  y  n    y    y  y  n  n  n  y  NaN    y  y  y  n    y\n",
              "1  republican    n  y  n    y    y  y  n  n  n  n    n    y  y  y  n  NaN\n",
              "2    democrat  NaN  y  y  NaN    y  y  n  n  n  n    y    n  y  y  n    n\n",
              "3    democrat    n  y  y    n  NaN  y  n  n  n  n    y    n  y  n  n    y\n",
              "4    democrat    y  y  y    n    y  y  n  n  n  n    y  NaN  y  y  y    y"
            ]
          },
          "metadata": {
            "tags": []
          },
          "execution_count": 77
        }
      ]
    },
    {
      "cell_type": "code",
      "metadata": {
        "id": "r9zWiYxJoPkC",
        "colab_type": "code",
        "colab": {
          "base_uri": "https://localhost:8080/",
          "height": 323
        },
        "outputId": "1c6ba7fe-87b6-4354-da85-985dc8a6ae3c"
      },
      "source": [
        "df1 = df.dropna()\n",
        "df1.isna().sum()"
      ],
      "execution_count": 81,
      "outputs": [
        {
          "output_type": "execute_result",
          "data": {
            "text/plain": [
              "party                                     0\n",
              "handicapped_infants                       0\n",
              "water_project_cost_sharing                0\n",
              "adoption_of_the_budget_resolution         0\n",
              "physician_fee_freeze                      0\n",
              "el_salvador_aid                           0\n",
              "religious_groups_in_schools               0\n",
              "anti_satellite_test_ban                   0\n",
              "aid_to_nicaraguan_contras                 0\n",
              "mx_missile                                0\n",
              "immigration                               0\n",
              "synfuels_corporation_cutback              0\n",
              "education_spending                        0\n",
              "superfund_right_to_sue                    0\n",
              "crime                                     0\n",
              "duty_free_exports                         0\n",
              "export_administration_act_south_africa    0\n",
              "dtype: int64"
            ]
          },
          "metadata": {
            "tags": []
          },
          "execution_count": 81
        }
      ]
    },
    {
      "cell_type": "code",
      "metadata": {
        "id": "gCqVTCCbpEO7",
        "colab_type": "code",
        "colab": {}
      },
      "source": [
        "# renaming column names\n",
        "df1 = df.rename(columns={0: \"party\", \n",
        "                        1: \"handicapped_infants\", \n",
        "                        2: \"water_project_cost_sharing\",\n",
        "                        3: \"adoption_of_the_budget_resolution\",\n",
        "                        4: \"physician_fee_freeze\",\n",
        "                        5: \"el_salvador_aid\",\n",
        "                        6: \"religious_groups_in_schools\",\n",
        "                        7: \"anti_satellite_test_ban\",\n",
        "                        8: \"aid_to_nicaraguan_contras\",\n",
        "                        9: \"mx_missile\",\n",
        "                        10: \"immigration\",\n",
        "                        11: \"synfuels_corporation_cutback\",\n",
        "                        12: \"education_spending\",\n",
        "                        13: \"superfund_right_to_sue\",\n",
        "                        14: \"crime\",\n",
        "                        15: \"duty_free_exports\",\n",
        "                        16: \"export_administration_act_south_africa\"})"
      ],
      "execution_count": 0,
      "outputs": []
    },
    {
      "cell_type": "code",
      "metadata": {
        "id": "vCQRnGH6p_FH",
        "colab_type": "code",
        "colab": {
          "base_uri": "https://localhost:8080/",
          "height": 173
        },
        "outputId": "301d716d-23d7-4742-c265-4e9731883ca2"
      },
      "source": [
        "df1 = df1.sort_values(by=\"crime\")\n",
        "contigency_table = pd.crosstab(df['party'], df['crime'], margins=True)\n",
        "contigency_table"
      ],
      "execution_count": 93,
      "outputs": [
        {
          "output_type": "execute_result",
          "data": {
            "text/html": [
              "<div>\n",
              "<style scoped>\n",
              "    .dataframe tbody tr th:only-of-type {\n",
              "        vertical-align: middle;\n",
              "    }\n",
              "\n",
              "    .dataframe tbody tr th {\n",
              "        vertical-align: top;\n",
              "    }\n",
              "\n",
              "    .dataframe thead th {\n",
              "        text-align: right;\n",
              "    }\n",
              "</style>\n",
              "<table border=\"1\" class=\"dataframe\">\n",
              "  <thead>\n",
              "    <tr style=\"text-align: right;\">\n",
              "      <th>crime</th>\n",
              "      <th>n</th>\n",
              "      <th>y</th>\n",
              "      <th>All</th>\n",
              "    </tr>\n",
              "    <tr>\n",
              "      <th>party</th>\n",
              "      <th></th>\n",
              "      <th></th>\n",
              "      <th></th>\n",
              "    </tr>\n",
              "  </thead>\n",
              "  <tbody>\n",
              "    <tr>\n",
              "      <th>democrat</th>\n",
              "      <td>167</td>\n",
              "      <td>90</td>\n",
              "      <td>257</td>\n",
              "    </tr>\n",
              "    <tr>\n",
              "      <th>republican</th>\n",
              "      <td>3</td>\n",
              "      <td>158</td>\n",
              "      <td>161</td>\n",
              "    </tr>\n",
              "    <tr>\n",
              "      <th>All</th>\n",
              "      <td>170</td>\n",
              "      <td>248</td>\n",
              "      <td>418</td>\n",
              "    </tr>\n",
              "  </tbody>\n",
              "</table>\n",
              "</div>"
            ],
            "text/plain": [
              "crime         n    y  All\n",
              "party                    \n",
              "democrat    167   90  257\n",
              "republican    3  158  161\n",
              "All         170  248  418"
            ]
          },
          "metadata": {
            "tags": []
          },
          "execution_count": 93
        }
      ]
    },
    {
      "cell_type": "code",
      "metadata": {
        "id": "5mygkhhQshhk",
        "colab_type": "code",
        "colab": {
          "base_uri": "https://localhost:8080/",
          "height": 283
        },
        "outputId": "246193e2-3131-4e1f-ee7d-16f595816d83"
      },
      "source": [
        "sns.countplot(df['crime'],hue=df['party']);"
      ],
      "execution_count": 104,
      "outputs": [
        {
          "output_type": "display_data",
          "data": {
            "image/png": "[encoded data removed]",
            "text/plain": [
              "<Figure size 432x288 with 1 Axes>"
            ]
          },
          "metadata": {
            "tags": []
          }
        }
      ]
    },
    {
      "cell_type": "code",
      "metadata": {
        "id": "_jPHs-zBp6g7",
        "colab_type": "code",
        "colab": {}
      },
      "source": [
        "col = contigency_table.iloc[2][0:2].values\n",
        "row = contigency_table.iloc[0:2,2].values\n",
        "total = contigency_table.iloc[2,2]"
      ],
      "execution_count": 0,
      "outputs": []
    },
    {
      "cell_type": "code",
      "metadata": {
        "id": "gKQAu5Jmp6eu",
        "colab_type": "code",
        "colab": {
          "base_uri": "https://localhost:8080/",
          "height": 34
        },
        "outputId": "b76e1be6-a005-455c-d4c7-6caf6f650a0f"
      },
      "source": [
        "expected = []\n",
        "for i in range(len(row)):\n",
        "    expected_row = []\n",
        "    for column in col:\n",
        "        expected_val = column*row[i]/total\n",
        "        expected_row.append(expected_val)\n",
        "    expected.append(expected_row)\n",
        "    \n",
        "print(expected)"
      ],
      "execution_count": 95,
      "outputs": [
        {
          "output_type": "stream",
          "text": [
            "[[104.52153110047847, 152.47846889952154], [65.47846889952153, 95.52153110047847]]\n"
          ],
          "name": "stdout"
        }
      ]
    },
    {
      "cell_type": "code",
      "metadata": {
        "id": "J4i-QtO1p6bu",
        "colab_type": "code",
        "colab": {}
      },
      "source": [
        "observed1 = pd.crosstab(df['party'],df['crime']).values"
      ],
      "execution_count": 0,
      "outputs": []
    },
    {
      "cell_type": "code",
      "metadata": {
        "id": "r3fLh-jsp6XX",
        "colab_type": "code",
        "colab": {
          "base_uri": "https://localhost:8080/",
          "height": 51
        },
        "outputId": "6d481d25-b5eb-4031-edb1-bcf39af5a8e6"
      },
      "source": [
        "chi_squared, p_value, dof, expected = stats.chi2_contingency(observed1)\n",
        "print(\"Chi-squared:\", chi_square)\n",
        "print(\"P-value:\", p_value)\n"
      ],
      "execution_count": 99,
      "outputs": [
        {
          "output_type": "stream",
          "text": [
            "Chi-squared: 2287.190943926107\n",
            "P-value: 7.475002422878022e-37\n"
          ],
          "name": "stdout"
        }
      ]
    },
    {
      "cell_type": "markdown",
      "metadata": {
        "id": "nyJ3ySr7R2k9",
        "colab_type": "text"
      },
      "source": [
        "## Resources\n",
        "\n",
        "- [Interactive visualize the Chi-Squared test](https://homepage.divms.uiowa.edu/~mbognar/applets/chisq.html)\n",
        "- [Calculation of Chi-Squared test statistic](https://en.wikipedia.org/wiki/Pearson%27s_chi-squared_test)\n",
        "- [Visualization of a confidence interval generated by R code](https://commons.wikimedia.org/wiki/File:Confidence-interval.svg)\n",
        "- [Expected value of a squared standard normal](https://math.stackexchange.com/questions/264061/expected-value-calculation-for-squared-normal-distribution) (it's 1 - which is why the expected value of a Chi-Squared with $n$ degrees of freedom is $n$, as it's the sum of $n$ squared standard normals)"
      ]
    }
  ]
}