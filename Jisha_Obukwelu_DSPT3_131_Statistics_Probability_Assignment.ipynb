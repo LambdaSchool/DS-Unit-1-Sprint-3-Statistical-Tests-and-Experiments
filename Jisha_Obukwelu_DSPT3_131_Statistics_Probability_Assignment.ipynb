{
  "nbformat": 4,
  "nbformat_minor": 0,
  "metadata": {
    "kernelspec": {
      "display_name": "Python 3",
      "language": "python",
      "name": "python3"
    },
    "language_info": {
      "codemirror_mode": {
        "name": "ipython",
        "version": 3
      },
      "file_extension": ".py",
      "mimetype": "text/x-python",
      "name": "python",
      "nbconvert_exporter": "python",
      "pygments_lexer": "ipython3",
      "version": "3.7.3"
    },
    "colab": {
      "name": "Jisha Obukwelu_DSPT3_131_Statistics_Probability_Assignment.ipynb",
      "provenance": [],
      "collapsed_sections": [],
      "include_colab_link": true
    }
  },
  "cells": [
    {
      "cell_type": "markdown",
      "metadata": {
        "id": "view-in-github",
        "colab_type": "text"
      },
      "source": [
        "<a href=\"https://colab.research.google.com/github/jiobu1/DS-Unit-1-Sprint-3-Statistical-Tests-and-Experiments/blob/master/Jisha_Obukwelu_DSPT3_131_Statistics_Probability_Assignment.ipynb\" target=\"_parent\"><img src=\"https://colab.research.google.com/assets/colab-badge.svg\" alt=\"Open In Colab\"/></a>"
      ]
    },
    {
      "cell_type": "markdown",
      "metadata": {
        "id": "YxFX23_lCUnJ",
        "colab_type": "text"
      },
      "source": [
        "<img align=\"left\" src=\"https://lever-client-logos.s3.amazonaws.com/864372b1-534c-480e-acd5-9711f850815c-1524247202159.png\" width=200>\n",
        "<br></br>\n",
        "<br></br>\n",
        "\n",
        "## *Data Science Unit 1 Sprint 3 Assignment 1*\n",
        "\n",
        "# Apply the t-test to real data\n",
        "\n",
        "Your assignment is to determine which issues have \"statistically significant\" differences between political parties in this [1980s congressional voting data](https://archive.ics.uci.edu/ml/datasets/Congressional+Voting+Records). The data consists of 435 instances (one for each congressperson), a class (democrat or republican), and 16 binary attributes (yes or no for voting for or against certain issues). Be aware - there are missing values!\n",
        "\n",
        "Your goals:\n",
        "\n",
        "1. Load and clean the data (or determine the best method to drop observations when running tests)\n",
        "2. Using hypothesis testing, find an issue that democrats support more than republicans with p < 0.01\n",
        "3. Using hypothesis testing, find an issue that republicans support more than democrats with p < 0.01\n",
        "4. Using hypothesis testing, find an issue where the difference between republicans and democrats has p > 0.1 (i.e. there may not be much of a difference)\n",
        "\n",
        "Note that this data will involve *2 sample* t-tests, because you're comparing averages across two groups (republicans and democrats) rather than a single group against a null hypothesis.\n",
        "\n",
        "Stretch goals:\n",
        "\n",
        "1. Refactor your code into functions so it's easy to rerun with arbitrary variables\n",
        "2. Apply hypothesis testing to your personal project data (for the purposes of this notebook you can type a summary of the hypothesis you formed and tested)"
      ]
    },
    {
      "cell_type": "markdown",
      "metadata": {
        "id": "ZiJZGAjUcdGj",
        "colab_type": "text"
      },
      "source": [
        "##1. Load and clean the data (or determine the best method to drop observations when running tests)"
      ]
    },
    {
      "cell_type": "code",
      "metadata": {
        "id": "8LEUeX1MoiIe",
        "colab_type": "code",
        "colab": {}
      },
      "source": [
        "import pandas as pd\n",
        "import numpy as np\n",
        "import matplotlib.pyplot as plt\n",
        "import seaborn as sns\n",
        "from scipy import stats\n",
        "from scipy.stats import ttest_ind, ttest_ind_from_stats, ttest_rel\n"
      ],
      "execution_count": 0,
      "outputs": []
    },
    {
      "cell_type": "code",
      "metadata": {
        "id": "mygX59Z7CUnM",
        "colab_type": "code",
        "outputId": "39a994c8-0cc7-4b94-98f7-f6293bfb6981",
        "colab": {
          "resources": {
            "http://localhost:8080/nbextensions/google.colab/files.js": {
              "data": "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",
              "ok": true,
              "headers": [
                [
                  "content-type",
                  "application/javascript"
                ]
              ],
              "status": 200,
              "status_text": ""
            }
          },
          "base_uri": "https://localhost:8080/",
          "height": 71
        }
      },
      "source": [
        "from google.colab import files\n",
        "upload = files.upload()"
      ],
      "execution_count": 3,
      "outputs": [
        {
          "output_type": "display_data",
          "data": {
            "text/html": [
              "\n",
              "     <input type=\"file\" id=\"files-c6f71209-5c50-4da7-ab2d-fd2fcd8b92c5\" name=\"files[]\" multiple disabled />\n",
              "     <output id=\"result-c6f71209-5c50-4da7-ab2d-fd2fcd8b92c5\">\n",
              "      Upload widget is only available when the cell has been executed in the\n",
              "      current browser session. Please rerun this cell to enable.\n",
              "      </output>\n",
              "      <script src=\"/nbextensions/google.colab/files.js\"></script> "
            ],
            "text/plain": [
              "<IPython.core.display.HTML object>"
            ]
          },
          "metadata": {
            "tags": []
          }
        },
        {
          "output_type": "stream",
          "text": [
            "Saving house-votes-84-data to house-votes-84-data\n"
          ],
          "name": "stdout"
        }
      ]
    },
    {
      "cell_type": "markdown",
      "metadata": {
        "id": "GUS2iLUtpGYc",
        "colab_type": "text"
      },
      "source": [
        "####Finding Column Names\n",
        "Column Names\n",
        "1. Class Name: 2 (democrat, republican)\n",
        "2. handicapped-infants: 2 (y,n)\n",
        "3. water-project-cost-sharing: 2 (y,n)\n",
        "4. adoption-of-the-budget-resolution: 2 (y,n)\n",
        "5. physician-fee-freeze: 2 (y,n)\n",
        "6. el-salvador-aid: 2 (y,n)\n",
        "7. religious-groups-in-schools: 2 (y,n)\n",
        "8. anti-satellite-test-ban: 2 (y,n)\n",
        "9. aid-to-nicaraguan-contras: 2 (y,n)\n",
        "10. mx-missile: 2 (y,n)\n",
        "11. immigration: 2 (y,n)\n",
        "12. synfuels-corporation-cutback: 2 (y,n)\n",
        "13. education-spending: 2 (y,n)\n",
        "14. superfund-right-to-sue: 2 (y,n)\n",
        "15. crime: 2 (y,n)\n",
        "16. duty-free-exports: 2 (y,n)\n",
        "17. export-administration-act-south-africa: 2 (y,n)"
      ]
    },
    {
      "cell_type": "code",
      "metadata": {
        "id": "QQ7ss8ggn0AD",
        "colab_type": "code",
        "outputId": "054c5429-0953-4c53-9904-f629ca615042",
        "colab": {
          "base_uri": "https://localhost:8080/",
          "height": 275
        }
      },
      "source": [
        "#Loading dataset and creating header names\n",
        "column_heads = ['Party', 'handicapped-infants', 'water-project-cost-sharing', 'adoption-of-the-budget-resolution', \n",
        "                'physician-fee-freeze', 'el-salvador-aid', 'religious-groups-in-schools', 'anti-satellite-test-ban', \n",
        "                'aid-to-nicaraguan-contras','mx-missile', 'immigration', 'synfuels-corporation-cutback', \n",
        "                'education-spending', 'superfund-right-to-sue', 'crime', 'duty-free-exports', 'export-administration-act-south-africa']\n",
        "                \n",
        "house_votes = pd.read_csv('house-votes-84-data')\n",
        "house_votes.columns = column_heads\n",
        "house_votes.head()"
      ],
      "execution_count": 4,
      "outputs": [
        {
          "output_type": "execute_result",
          "data": {
            "text/html": [
              "<div>\n",
              "<style scoped>\n",
              "    .dataframe tbody tr th:only-of-type {\n",
              "        vertical-align: middle;\n",
              "    }\n",
              "\n",
              "    .dataframe tbody tr th {\n",
              "        vertical-align: top;\n",
              "    }\n",
              "\n",
              "    .dataframe thead th {\n",
              "        text-align: right;\n",
              "    }\n",
              "</style>\n",
              "<table border=\"1\" class=\"dataframe\">\n",
              "  <thead>\n",
              "    <tr style=\"text-align: right;\">\n",
              "      <th></th>\n",
              "      <th>Party</th>\n",
              "      <th>handicapped-infants</th>\n",
              "      <th>water-project-cost-sharing</th>\n",
              "      <th>adoption-of-the-budget-resolution</th>\n",
              "      <th>physician-fee-freeze</th>\n",
              "      <th>el-salvador-aid</th>\n",
              "      <th>religious-groups-in-schools</th>\n",
              "      <th>anti-satellite-test-ban</th>\n",
              "      <th>aid-to-nicaraguan-contras</th>\n",
              "      <th>mx-missile</th>\n",
              "      <th>immigration</th>\n",
              "      <th>synfuels-corporation-cutback</th>\n",
              "      <th>education-spending</th>\n",
              "      <th>superfund-right-to-sue</th>\n",
              "      <th>crime</th>\n",
              "      <th>duty-free-exports</th>\n",
              "      <th>export-administration-act-south-africa</th>\n",
              "    </tr>\n",
              "  </thead>\n",
              "  <tbody>\n",
              "    <tr>\n",
              "      <th>0</th>\n",
              "      <td>republican</td>\n",
              "      <td>n</td>\n",
              "      <td>y</td>\n",
              "      <td>n</td>\n",
              "      <td>y</td>\n",
              "      <td>y</td>\n",
              "      <td>y</td>\n",
              "      <td>n</td>\n",
              "      <td>n</td>\n",
              "      <td>n</td>\n",
              "      <td>n</td>\n",
              "      <td>n</td>\n",
              "      <td>y</td>\n",
              "      <td>y</td>\n",
              "      <td>y</td>\n",
              "      <td>n</td>\n",
              "      <td>?</td>\n",
              "    </tr>\n",
              "    <tr>\n",
              "      <th>1</th>\n",
              "      <td>democrat</td>\n",
              "      <td>?</td>\n",
              "      <td>y</td>\n",
              "      <td>y</td>\n",
              "      <td>?</td>\n",
              "      <td>y</td>\n",
              "      <td>y</td>\n",
              "      <td>n</td>\n",
              "      <td>n</td>\n",
              "      <td>n</td>\n",
              "      <td>n</td>\n",
              "      <td>y</td>\n",
              "      <td>n</td>\n",
              "      <td>y</td>\n",
              "      <td>y</td>\n",
              "      <td>n</td>\n",
              "      <td>n</td>\n",
              "    </tr>\n",
              "    <tr>\n",
              "      <th>2</th>\n",
              "      <td>democrat</td>\n",
              "      <td>n</td>\n",
              "      <td>y</td>\n",
              "      <td>y</td>\n",
              "      <td>n</td>\n",
              "      <td>?</td>\n",
              "      <td>y</td>\n",
              "      <td>n</td>\n",
              "      <td>n</td>\n",
              "      <td>n</td>\n",
              "      <td>n</td>\n",
              "      <td>y</td>\n",
              "      <td>n</td>\n",
              "      <td>y</td>\n",
              "      <td>n</td>\n",
              "      <td>n</td>\n",
              "      <td>y</td>\n",
              "    </tr>\n",
              "    <tr>\n",
              "      <th>3</th>\n",
              "      <td>democrat</td>\n",
              "      <td>y</td>\n",
              "      <td>y</td>\n",
              "      <td>y</td>\n",
              "      <td>n</td>\n",
              "      <td>y</td>\n",
              "      <td>y</td>\n",
              "      <td>n</td>\n",
              "      <td>n</td>\n",
              "      <td>n</td>\n",
              "      <td>n</td>\n",
              "      <td>y</td>\n",
              "      <td>?</td>\n",
              "      <td>y</td>\n",
              "      <td>y</td>\n",
              "      <td>y</td>\n",
              "      <td>y</td>\n",
              "    </tr>\n",
              "    <tr>\n",
              "      <th>4</th>\n",
              "      <td>democrat</td>\n",
              "      <td>n</td>\n",
              "      <td>y</td>\n",
              "      <td>y</td>\n",
              "      <td>n</td>\n",
              "      <td>y</td>\n",
              "      <td>y</td>\n",
              "      <td>n</td>\n",
              "      <td>n</td>\n",
              "      <td>n</td>\n",
              "      <td>n</td>\n",
              "      <td>n</td>\n",
              "      <td>n</td>\n",
              "      <td>y</td>\n",
              "      <td>y</td>\n",
              "      <td>y</td>\n",
              "      <td>y</td>\n",
              "    </tr>\n",
              "  </tbody>\n",
              "</table>\n",
              "</div>"
            ],
            "text/plain": [
              "        Party  ... export-administration-act-south-africa\n",
              "0  republican  ...                                      ?\n",
              "1    democrat  ...                                      n\n",
              "2    democrat  ...                                      y\n",
              "3    democrat  ...                                      y\n",
              "4    democrat  ...                                      y\n",
              "\n",
              "[5 rows x 17 columns]"
            ]
          },
          "metadata": {
            "tags": []
          },
          "execution_count": 4
        }
      ]
    },
    {
      "cell_type": "code",
      "metadata": {
        "id": "_cKOJ6ljr2ki",
        "colab_type": "code",
        "outputId": "ab203373-bd7a-4a82-eb19-21b026644bdb",
        "colab": {
          "base_uri": "https://localhost:8080/",
          "height": 244
        }
      },
      "source": [
        "house_votes.describe(exclude='number')"
      ],
      "execution_count": 5,
      "outputs": [
        {
          "output_type": "execute_result",
          "data": {
            "text/html": [
              "<div>\n",
              "<style scoped>\n",
              "    .dataframe tbody tr th:only-of-type {\n",
              "        vertical-align: middle;\n",
              "    }\n",
              "\n",
              "    .dataframe tbody tr th {\n",
              "        vertical-align: top;\n",
              "    }\n",
              "\n",
              "    .dataframe thead th {\n",
              "        text-align: right;\n",
              "    }\n",
              "</style>\n",
              "<table border=\"1\" class=\"dataframe\">\n",
              "  <thead>\n",
              "    <tr style=\"text-align: right;\">\n",
              "      <th></th>\n",
              "      <th>Party</th>\n",
              "      <th>handicapped-infants</th>\n",
              "      <th>water-project-cost-sharing</th>\n",
              "      <th>adoption-of-the-budget-resolution</th>\n",
              "      <th>physician-fee-freeze</th>\n",
              "      <th>el-salvador-aid</th>\n",
              "      <th>religious-groups-in-schools</th>\n",
              "      <th>anti-satellite-test-ban</th>\n",
              "      <th>aid-to-nicaraguan-contras</th>\n",
              "      <th>mx-missile</th>\n",
              "      <th>immigration</th>\n",
              "      <th>synfuels-corporation-cutback</th>\n",
              "      <th>education-spending</th>\n",
              "      <th>superfund-right-to-sue</th>\n",
              "      <th>crime</th>\n",
              "      <th>duty-free-exports</th>\n",
              "      <th>export-administration-act-south-africa</th>\n",
              "    </tr>\n",
              "  </thead>\n",
              "  <tbody>\n",
              "    <tr>\n",
              "      <th>count</th>\n",
              "      <td>434</td>\n",
              "      <td>434</td>\n",
              "      <td>434</td>\n",
              "      <td>434</td>\n",
              "      <td>434</td>\n",
              "      <td>434</td>\n",
              "      <td>434</td>\n",
              "      <td>434</td>\n",
              "      <td>434</td>\n",
              "      <td>434</td>\n",
              "      <td>434</td>\n",
              "      <td>434</td>\n",
              "      <td>434</td>\n",
              "      <td>434</td>\n",
              "      <td>434</td>\n",
              "      <td>434</td>\n",
              "      <td>434</td>\n",
              "    </tr>\n",
              "    <tr>\n",
              "      <th>unique</th>\n",
              "      <td>2</td>\n",
              "      <td>3</td>\n",
              "      <td>3</td>\n",
              "      <td>3</td>\n",
              "      <td>3</td>\n",
              "      <td>3</td>\n",
              "      <td>3</td>\n",
              "      <td>3</td>\n",
              "      <td>3</td>\n",
              "      <td>3</td>\n",
              "      <td>3</td>\n",
              "      <td>3</td>\n",
              "      <td>3</td>\n",
              "      <td>3</td>\n",
              "      <td>3</td>\n",
              "      <td>3</td>\n",
              "      <td>3</td>\n",
              "    </tr>\n",
              "    <tr>\n",
              "      <th>top</th>\n",
              "      <td>democrat</td>\n",
              "      <td>n</td>\n",
              "      <td>y</td>\n",
              "      <td>y</td>\n",
              "      <td>n</td>\n",
              "      <td>y</td>\n",
              "      <td>y</td>\n",
              "      <td>y</td>\n",
              "      <td>y</td>\n",
              "      <td>y</td>\n",
              "      <td>y</td>\n",
              "      <td>n</td>\n",
              "      <td>n</td>\n",
              "      <td>y</td>\n",
              "      <td>y</td>\n",
              "      <td>n</td>\n",
              "      <td>y</td>\n",
              "    </tr>\n",
              "    <tr>\n",
              "      <th>freq</th>\n",
              "      <td>267</td>\n",
              "      <td>235</td>\n",
              "      <td>194</td>\n",
              "      <td>253</td>\n",
              "      <td>247</td>\n",
              "      <td>211</td>\n",
              "      <td>271</td>\n",
              "      <td>239</td>\n",
              "      <td>242</td>\n",
              "      <td>207</td>\n",
              "      <td>215</td>\n",
              "      <td>264</td>\n",
              "      <td>233</td>\n",
              "      <td>208</td>\n",
              "      <td>247</td>\n",
              "      <td>232</td>\n",
              "      <td>268</td>\n",
              "    </tr>\n",
              "  </tbody>\n",
              "</table>\n",
              "</div>"
            ],
            "text/plain": [
              "           Party  ... export-administration-act-south-africa\n",
              "count        434  ...                                    434\n",
              "unique         2  ...                                      3\n",
              "top     democrat  ...                                      y\n",
              "freq         267  ...                                    268\n",
              "\n",
              "[4 rows x 17 columns]"
            ]
          },
          "metadata": {
            "tags": []
          },
          "execution_count": 5
        }
      ]
    },
    {
      "cell_type": "code",
      "metadata": {
        "id": "cNOmeM7qrsUy",
        "colab_type": "code",
        "outputId": "7c80417d-b5b3-4d30-afbb-7ba850bf8eb2",
        "colab": {
          "base_uri": "https://localhost:8080/",
          "height": 34
        }
      },
      "source": [
        "house_votes.shape"
      ],
      "execution_count": 6,
      "outputs": [
        {
          "output_type": "execute_result",
          "data": {
            "text/plain": [
              "(434, 17)"
            ]
          },
          "metadata": {
            "tags": []
          },
          "execution_count": 6
        }
      ]
    },
    {
      "cell_type": "markdown",
      "metadata": {
        "id": "Uu09w9XMAlsI",
        "colab_type": "text"
      },
      "source": [
        "###Cleaning: NaN and converting string to int"
      ]
    },
    {
      "cell_type": "code",
      "metadata": {
        "id": "1togXp8ylPbK",
        "colab_type": "code",
        "outputId": "dbb9b32b-607d-49dc-8ece-83c20dc5fde3",
        "colab": {
          "base_uri": "https://localhost:8080/",
          "height": 275
        }
      },
      "source": [
        "mymap = {'y':1, 'n':0, '?':np.NaN}\n",
        "house_votes = house_votes.applymap(lambda s: mymap.get(s) if s in mymap else s)             \n",
        "house_votes.head()"
      ],
      "execution_count": 7,
      "outputs": [
        {
          "output_type": "execute_result",
          "data": {
            "text/html": [
              "<div>\n",
              "<style scoped>\n",
              "    .dataframe tbody tr th:only-of-type {\n",
              "        vertical-align: middle;\n",
              "    }\n",
              "\n",
              "    .dataframe tbody tr th {\n",
              "        vertical-align: top;\n",
              "    }\n",
              "\n",
              "    .dataframe thead th {\n",
              "        text-align: right;\n",
              "    }\n",
              "</style>\n",
              "<table border=\"1\" class=\"dataframe\">\n",
              "  <thead>\n",
              "    <tr style=\"text-align: right;\">\n",
              "      <th></th>\n",
              "      <th>Party</th>\n",
              "      <th>handicapped-infants</th>\n",
              "      <th>water-project-cost-sharing</th>\n",
              "      <th>adoption-of-the-budget-resolution</th>\n",
              "      <th>physician-fee-freeze</th>\n",
              "      <th>el-salvador-aid</th>\n",
              "      <th>religious-groups-in-schools</th>\n",
              "      <th>anti-satellite-test-ban</th>\n",
              "      <th>aid-to-nicaraguan-contras</th>\n",
              "      <th>mx-missile</th>\n",
              "      <th>immigration</th>\n",
              "      <th>synfuels-corporation-cutback</th>\n",
              "      <th>education-spending</th>\n",
              "      <th>superfund-right-to-sue</th>\n",
              "      <th>crime</th>\n",
              "      <th>duty-free-exports</th>\n",
              "      <th>export-administration-act-south-africa</th>\n",
              "    </tr>\n",
              "  </thead>\n",
              "  <tbody>\n",
              "    <tr>\n",
              "      <th>0</th>\n",
              "      <td>republican</td>\n",
              "      <td>0.0</td>\n",
              "      <td>1.0</td>\n",
              "      <td>0.0</td>\n",
              "      <td>1.0</td>\n",
              "      <td>1.0</td>\n",
              "      <td>1.0</td>\n",
              "      <td>0.0</td>\n",
              "      <td>0.0</td>\n",
              "      <td>0.0</td>\n",
              "      <td>0.0</td>\n",
              "      <td>0.0</td>\n",
              "      <td>1.0</td>\n",
              "      <td>1.0</td>\n",
              "      <td>1.0</td>\n",
              "      <td>0.0</td>\n",
              "      <td>NaN</td>\n",
              "    </tr>\n",
              "    <tr>\n",
              "      <th>1</th>\n",
              "      <td>democrat</td>\n",
              "      <td>NaN</td>\n",
              "      <td>1.0</td>\n",
              "      <td>1.0</td>\n",
              "      <td>NaN</td>\n",
              "      <td>1.0</td>\n",
              "      <td>1.0</td>\n",
              "      <td>0.0</td>\n",
              "      <td>0.0</td>\n",
              "      <td>0.0</td>\n",
              "      <td>0.0</td>\n",
              "      <td>1.0</td>\n",
              "      <td>0.0</td>\n",
              "      <td>1.0</td>\n",
              "      <td>1.0</td>\n",
              "      <td>0.0</td>\n",
              "      <td>0.0</td>\n",
              "    </tr>\n",
              "    <tr>\n",
              "      <th>2</th>\n",
              "      <td>democrat</td>\n",
              "      <td>0.0</td>\n",
              "      <td>1.0</td>\n",
              "      <td>1.0</td>\n",
              "      <td>0.0</td>\n",
              "      <td>NaN</td>\n",
              "      <td>1.0</td>\n",
              "      <td>0.0</td>\n",
              "      <td>0.0</td>\n",
              "      <td>0.0</td>\n",
              "      <td>0.0</td>\n",
              "      <td>1.0</td>\n",
              "      <td>0.0</td>\n",
              "      <td>1.0</td>\n",
              "      <td>0.0</td>\n",
              "      <td>0.0</td>\n",
              "      <td>1.0</td>\n",
              "    </tr>\n",
              "    <tr>\n",
              "      <th>3</th>\n",
              "      <td>democrat</td>\n",
              "      <td>1.0</td>\n",
              "      <td>1.0</td>\n",
              "      <td>1.0</td>\n",
              "      <td>0.0</td>\n",
              "      <td>1.0</td>\n",
              "      <td>1.0</td>\n",
              "      <td>0.0</td>\n",
              "      <td>0.0</td>\n",
              "      <td>0.0</td>\n",
              "      <td>0.0</td>\n",
              "      <td>1.0</td>\n",
              "      <td>NaN</td>\n",
              "      <td>1.0</td>\n",
              "      <td>1.0</td>\n",
              "      <td>1.0</td>\n",
              "      <td>1.0</td>\n",
              "    </tr>\n",
              "    <tr>\n",
              "      <th>4</th>\n",
              "      <td>democrat</td>\n",
              "      <td>0.0</td>\n",
              "      <td>1.0</td>\n",
              "      <td>1.0</td>\n",
              "      <td>0.0</td>\n",
              "      <td>1.0</td>\n",
              "      <td>1.0</td>\n",
              "      <td>0.0</td>\n",
              "      <td>0.0</td>\n",
              "      <td>0.0</td>\n",
              "      <td>0.0</td>\n",
              "      <td>0.0</td>\n",
              "      <td>0.0</td>\n",
              "      <td>1.0</td>\n",
              "      <td>1.0</td>\n",
              "      <td>1.0</td>\n",
              "      <td>1.0</td>\n",
              "    </tr>\n",
              "  </tbody>\n",
              "</table>\n",
              "</div>"
            ],
            "text/plain": [
              "        Party  ...  export-administration-act-south-africa\n",
              "0  republican  ...                                     NaN\n",
              "1    democrat  ...                                     0.0\n",
              "2    democrat  ...                                     1.0\n",
              "3    democrat  ...                                     1.0\n",
              "4    democrat  ...                                     1.0\n",
              "\n",
              "[5 rows x 17 columns]"
            ]
          },
          "metadata": {
            "tags": []
          },
          "execution_count": 7
        }
      ]
    },
    {
      "cell_type": "code",
      "metadata": {
        "id": "3avyxwt8mg_5",
        "colab_type": "code",
        "outputId": "52e71dad-db06-4332-8cde-b26726506b0c",
        "colab": {
          "base_uri": "https://localhost:8080/",
          "height": 323
        }
      },
      "source": [
        "#No votes\n",
        "house_votes.isnull().sum()"
      ],
      "execution_count": 8,
      "outputs": [
        {
          "output_type": "execute_result",
          "data": {
            "text/plain": [
              "Party                                       0\n",
              "handicapped-infants                        12\n",
              "water-project-cost-sharing                 48\n",
              "adoption-of-the-budget-resolution          11\n",
              "physician-fee-freeze                       11\n",
              "el-salvador-aid                            15\n",
              "religious-groups-in-schools                11\n",
              "anti-satellite-test-ban                    14\n",
              "aid-to-nicaraguan-contras                  15\n",
              "mx-missile                                 22\n",
              "immigration                                 7\n",
              "synfuels-corporation-cutback               20\n",
              "education-spending                         31\n",
              "superfund-right-to-sue                     25\n",
              "crime                                      17\n",
              "duty-free-exports                          28\n",
              "export-administration-act-south-africa    104\n",
              "dtype: int64"
            ]
          },
          "metadata": {
            "tags": []
          },
          "execution_count": 8
        }
      ]
    },
    {
      "cell_type": "markdown",
      "metadata": {
        "id": "DCe-t8upAvRM",
        "colab_type": "text"
      },
      "source": [
        "###Separating data into democrat and republicans for further analysis"
      ]
    },
    {
      "cell_type": "code",
      "metadata": {
        "id": "fNMFeoB_cx9T",
        "colab_type": "code",
        "colab": {}
      },
      "source": [
        "republicans = house_votes[house_votes['Party'] == 'republican']\n",
        "democrats = house_votes[house_votes['Party'] == 'democrat']"
      ],
      "execution_count": 0,
      "outputs": []
    },
    {
      "cell_type": "code",
      "metadata": {
        "id": "_07cudNVd0eC",
        "colab_type": "code",
        "outputId": "25d89e3e-44d7-49b4-a35e-3cf4f742de67",
        "colab": {
          "base_uri": "https://localhost:8080/",
          "height": 34
        }
      },
      "source": [
        "republicans.shape"
      ],
      "execution_count": 10,
      "outputs": [
        {
          "output_type": "execute_result",
          "data": {
            "text/plain": [
              "(167, 17)"
            ]
          },
          "metadata": {
            "tags": []
          },
          "execution_count": 10
        }
      ]
    },
    {
      "cell_type": "code",
      "metadata": {
        "id": "Fa0u6XpsrdXz",
        "colab_type": "code",
        "outputId": "7ca63f88-a5f3-487e-8ca4-d1bb69542250",
        "colab": {
          "base_uri": "https://localhost:8080/",
          "height": 275
        }
      },
      "source": [
        "republicans = republicans.drop(['Party'], axis=1)\n",
        "republicans.head()\n"
      ],
      "execution_count": 11,
      "outputs": [
        {
          "output_type": "execute_result",
          "data": {
            "text/html": [
              "<div>\n",
              "<style scoped>\n",
              "    .dataframe tbody tr th:only-of-type {\n",
              "        vertical-align: middle;\n",
              "    }\n",
              "\n",
              "    .dataframe tbody tr th {\n",
              "        vertical-align: top;\n",
              "    }\n",
              "\n",
              "    .dataframe thead th {\n",
              "        text-align: right;\n",
              "    }\n",
              "</style>\n",
              "<table border=\"1\" class=\"dataframe\">\n",
              "  <thead>\n",
              "    <tr style=\"text-align: right;\">\n",
              "      <th></th>\n",
              "      <th>handicapped-infants</th>\n",
              "      <th>water-project-cost-sharing</th>\n",
              "      <th>adoption-of-the-budget-resolution</th>\n",
              "      <th>physician-fee-freeze</th>\n",
              "      <th>el-salvador-aid</th>\n",
              "      <th>religious-groups-in-schools</th>\n",
              "      <th>anti-satellite-test-ban</th>\n",
              "      <th>aid-to-nicaraguan-contras</th>\n",
              "      <th>mx-missile</th>\n",
              "      <th>immigration</th>\n",
              "      <th>synfuels-corporation-cutback</th>\n",
              "      <th>education-spending</th>\n",
              "      <th>superfund-right-to-sue</th>\n",
              "      <th>crime</th>\n",
              "      <th>duty-free-exports</th>\n",
              "      <th>export-administration-act-south-africa</th>\n",
              "    </tr>\n",
              "  </thead>\n",
              "  <tbody>\n",
              "    <tr>\n",
              "      <th>0</th>\n",
              "      <td>0.0</td>\n",
              "      <td>1.0</td>\n",
              "      <td>0.0</td>\n",
              "      <td>1.0</td>\n",
              "      <td>1.0</td>\n",
              "      <td>1.0</td>\n",
              "      <td>0.0</td>\n",
              "      <td>0.0</td>\n",
              "      <td>0.0</td>\n",
              "      <td>0.0</td>\n",
              "      <td>0.0</td>\n",
              "      <td>1.0</td>\n",
              "      <td>1.0</td>\n",
              "      <td>1.0</td>\n",
              "      <td>0.0</td>\n",
              "      <td>NaN</td>\n",
              "    </tr>\n",
              "    <tr>\n",
              "      <th>6</th>\n",
              "      <td>0.0</td>\n",
              "      <td>1.0</td>\n",
              "      <td>0.0</td>\n",
              "      <td>1.0</td>\n",
              "      <td>1.0</td>\n",
              "      <td>1.0</td>\n",
              "      <td>0.0</td>\n",
              "      <td>0.0</td>\n",
              "      <td>0.0</td>\n",
              "      <td>0.0</td>\n",
              "      <td>0.0</td>\n",
              "      <td>0.0</td>\n",
              "      <td>1.0</td>\n",
              "      <td>1.0</td>\n",
              "      <td>NaN</td>\n",
              "      <td>1.0</td>\n",
              "    </tr>\n",
              "    <tr>\n",
              "      <th>7</th>\n",
              "      <td>0.0</td>\n",
              "      <td>1.0</td>\n",
              "      <td>0.0</td>\n",
              "      <td>1.0</td>\n",
              "      <td>1.0</td>\n",
              "      <td>1.0</td>\n",
              "      <td>0.0</td>\n",
              "      <td>0.0</td>\n",
              "      <td>0.0</td>\n",
              "      <td>0.0</td>\n",
              "      <td>0.0</td>\n",
              "      <td>1.0</td>\n",
              "      <td>1.0</td>\n",
              "      <td>1.0</td>\n",
              "      <td>0.0</td>\n",
              "      <td>1.0</td>\n",
              "    </tr>\n",
              "    <tr>\n",
              "      <th>9</th>\n",
              "      <td>0.0</td>\n",
              "      <td>1.0</td>\n",
              "      <td>0.0</td>\n",
              "      <td>1.0</td>\n",
              "      <td>1.0</td>\n",
              "      <td>0.0</td>\n",
              "      <td>0.0</td>\n",
              "      <td>0.0</td>\n",
              "      <td>0.0</td>\n",
              "      <td>0.0</td>\n",
              "      <td>NaN</td>\n",
              "      <td>NaN</td>\n",
              "      <td>1.0</td>\n",
              "      <td>1.0</td>\n",
              "      <td>0.0</td>\n",
              "      <td>0.0</td>\n",
              "    </tr>\n",
              "    <tr>\n",
              "      <th>10</th>\n",
              "      <td>0.0</td>\n",
              "      <td>1.0</td>\n",
              "      <td>0.0</td>\n",
              "      <td>1.0</td>\n",
              "      <td>1.0</td>\n",
              "      <td>1.0</td>\n",
              "      <td>0.0</td>\n",
              "      <td>0.0</td>\n",
              "      <td>0.0</td>\n",
              "      <td>0.0</td>\n",
              "      <td>1.0</td>\n",
              "      <td>NaN</td>\n",
              "      <td>1.0</td>\n",
              "      <td>1.0</td>\n",
              "      <td>NaN</td>\n",
              "      <td>NaN</td>\n",
              "    </tr>\n",
              "  </tbody>\n",
              "</table>\n",
              "</div>"
            ],
            "text/plain": [
              "    handicapped-infants  ...  export-administration-act-south-africa\n",
              "0                   0.0  ...                                     NaN\n",
              "6                   0.0  ...                                     1.0\n",
              "7                   0.0  ...                                     1.0\n",
              "9                   0.0  ...                                     0.0\n",
              "10                  0.0  ...                                     NaN\n",
              "\n",
              "[5 rows x 16 columns]"
            ]
          },
          "metadata": {
            "tags": []
          },
          "execution_count": 11
        }
      ]
    },
    {
      "cell_type": "code",
      "metadata": {
        "id": "oShKUAVveH0X",
        "colab_type": "code",
        "outputId": "c692a7e7-5d66-4a63-9836-79e209fc03bb",
        "colab": {
          "base_uri": "https://localhost:8080/",
          "height": 34
        }
      },
      "source": [
        "democrats.shape"
      ],
      "execution_count": 12,
      "outputs": [
        {
          "output_type": "execute_result",
          "data": {
            "text/plain": [
              "(267, 17)"
            ]
          },
          "metadata": {
            "tags": []
          },
          "execution_count": 12
        }
      ]
    },
    {
      "cell_type": "code",
      "metadata": {
        "id": "EN9BBGFIrh7g",
        "colab_type": "code",
        "outputId": "db48080b-9af3-44f7-ab40-9f5db3ced72f",
        "colab": {
          "base_uri": "https://localhost:8080/",
          "height": 275
        }
      },
      "source": [
        "democrats = democrats.drop(['Party'], axis=1)\n",
        "democrats.head()"
      ],
      "execution_count": 13,
      "outputs": [
        {
          "output_type": "execute_result",
          "data": {
            "text/html": [
              "<div>\n",
              "<style scoped>\n",
              "    .dataframe tbody tr th:only-of-type {\n",
              "        vertical-align: middle;\n",
              "    }\n",
              "\n",
              "    .dataframe tbody tr th {\n",
              "        vertical-align: top;\n",
              "    }\n",
              "\n",
              "    .dataframe thead th {\n",
              "        text-align: right;\n",
              "    }\n",
              "</style>\n",
              "<table border=\"1\" class=\"dataframe\">\n",
              "  <thead>\n",
              "    <tr style=\"text-align: right;\">\n",
              "      <th></th>\n",
              "      <th>handicapped-infants</th>\n",
              "      <th>water-project-cost-sharing</th>\n",
              "      <th>adoption-of-the-budget-resolution</th>\n",
              "      <th>physician-fee-freeze</th>\n",
              "      <th>el-salvador-aid</th>\n",
              "      <th>religious-groups-in-schools</th>\n",
              "      <th>anti-satellite-test-ban</th>\n",
              "      <th>aid-to-nicaraguan-contras</th>\n",
              "      <th>mx-missile</th>\n",
              "      <th>immigration</th>\n",
              "      <th>synfuels-corporation-cutback</th>\n",
              "      <th>education-spending</th>\n",
              "      <th>superfund-right-to-sue</th>\n",
              "      <th>crime</th>\n",
              "      <th>duty-free-exports</th>\n",
              "      <th>export-administration-act-south-africa</th>\n",
              "    </tr>\n",
              "  </thead>\n",
              "  <tbody>\n",
              "    <tr>\n",
              "      <th>1</th>\n",
              "      <td>NaN</td>\n",
              "      <td>1.0</td>\n",
              "      <td>1.0</td>\n",
              "      <td>NaN</td>\n",
              "      <td>1.0</td>\n",
              "      <td>1.0</td>\n",
              "      <td>0.0</td>\n",
              "      <td>0.0</td>\n",
              "      <td>0.0</td>\n",
              "      <td>0.0</td>\n",
              "      <td>1.0</td>\n",
              "      <td>0.0</td>\n",
              "      <td>1.0</td>\n",
              "      <td>1.0</td>\n",
              "      <td>0.0</td>\n",
              "      <td>0.0</td>\n",
              "    </tr>\n",
              "    <tr>\n",
              "      <th>2</th>\n",
              "      <td>0.0</td>\n",
              "      <td>1.0</td>\n",
              "      <td>1.0</td>\n",
              "      <td>0.0</td>\n",
              "      <td>NaN</td>\n",
              "      <td>1.0</td>\n",
              "      <td>0.0</td>\n",
              "      <td>0.0</td>\n",
              "      <td>0.0</td>\n",
              "      <td>0.0</td>\n",
              "      <td>1.0</td>\n",
              "      <td>0.0</td>\n",
              "      <td>1.0</td>\n",
              "      <td>0.0</td>\n",
              "      <td>0.0</td>\n",
              "      <td>1.0</td>\n",
              "    </tr>\n",
              "    <tr>\n",
              "      <th>3</th>\n",
              "      <td>1.0</td>\n",
              "      <td>1.0</td>\n",
              "      <td>1.0</td>\n",
              "      <td>0.0</td>\n",
              "      <td>1.0</td>\n",
              "      <td>1.0</td>\n",
              "      <td>0.0</td>\n",
              "      <td>0.0</td>\n",
              "      <td>0.0</td>\n",
              "      <td>0.0</td>\n",
              "      <td>1.0</td>\n",
              "      <td>NaN</td>\n",
              "      <td>1.0</td>\n",
              "      <td>1.0</td>\n",
              "      <td>1.0</td>\n",
              "      <td>1.0</td>\n",
              "    </tr>\n",
              "    <tr>\n",
              "      <th>4</th>\n",
              "      <td>0.0</td>\n",
              "      <td>1.0</td>\n",
              "      <td>1.0</td>\n",
              "      <td>0.0</td>\n",
              "      <td>1.0</td>\n",
              "      <td>1.0</td>\n",
              "      <td>0.0</td>\n",
              "      <td>0.0</td>\n",
              "      <td>0.0</td>\n",
              "      <td>0.0</td>\n",
              "      <td>0.0</td>\n",
              "      <td>0.0</td>\n",
              "      <td>1.0</td>\n",
              "      <td>1.0</td>\n",
              "      <td>1.0</td>\n",
              "      <td>1.0</td>\n",
              "    </tr>\n",
              "    <tr>\n",
              "      <th>5</th>\n",
              "      <td>0.0</td>\n",
              "      <td>1.0</td>\n",
              "      <td>0.0</td>\n",
              "      <td>1.0</td>\n",
              "      <td>1.0</td>\n",
              "      <td>1.0</td>\n",
              "      <td>0.0</td>\n",
              "      <td>0.0</td>\n",
              "      <td>0.0</td>\n",
              "      <td>0.0</td>\n",
              "      <td>0.0</td>\n",
              "      <td>0.0</td>\n",
              "      <td>NaN</td>\n",
              "      <td>1.0</td>\n",
              "      <td>1.0</td>\n",
              "      <td>1.0</td>\n",
              "    </tr>\n",
              "  </tbody>\n",
              "</table>\n",
              "</div>"
            ],
            "text/plain": [
              "   handicapped-infants  ...  export-administration-act-south-africa\n",
              "1                  NaN  ...                                     0.0\n",
              "2                  0.0  ...                                     1.0\n",
              "3                  1.0  ...                                     1.0\n",
              "4                  0.0  ...                                     1.0\n",
              "5                  0.0  ...                                     1.0\n",
              "\n",
              "[5 rows x 16 columns]"
            ]
          },
          "metadata": {
            "tags": []
          },
          "execution_count": 13
        }
      ]
    },
    {
      "cell_type": "markdown",
      "metadata": {
        "id": "T74-AYrdA3F1",
        "colab_type": "text"
      },
      "source": [
        "###Making Preliminary Observations"
      ]
    },
    {
      "cell_type": "markdown",
      "metadata": {
        "id": "QnEZERGwA8oh",
        "colab_type": "text"
      },
      "source": [
        "####Abstention"
      ]
    },
    {
      "cell_type": "code",
      "metadata": {
        "id": "CXQh6o3X7PUm",
        "colab_type": "code",
        "outputId": "c137e3b0-2662-4d67-ba5d-7f8392766171",
        "colab": {
          "base_uri": "https://localhost:8080/",
          "height": 545
        }
      },
      "source": [
        "#Comparing Absentions by Party\n",
        "absention = pd.DataFrame.from_dict([dict(democrats.isnull().sum()),dict(republicans.isnull().sum())]).T\n",
        "absention\n",
        "\n",
        "absention.reset_index(drop=False, inplace=True)\n",
        "absention = absention.rename(columns = {'index':'Issue', 0:'Democrat', 1:'Republican'})\n",
        "absention"
      ],
      "execution_count": 14,
      "outputs": [
        {
          "output_type": "execute_result",
          "data": {
            "text/html": [
              "<div>\n",
              "<style scoped>\n",
              "    .dataframe tbody tr th:only-of-type {\n",
              "        vertical-align: middle;\n",
              "    }\n",
              "\n",
              "    .dataframe tbody tr th {\n",
              "        vertical-align: top;\n",
              "    }\n",
              "\n",
              "    .dataframe thead th {\n",
              "        text-align: right;\n",
              "    }\n",
              "</style>\n",
              "<table border=\"1\" class=\"dataframe\">\n",
              "  <thead>\n",
              "    <tr style=\"text-align: right;\">\n",
              "      <th></th>\n",
              "      <th>Issue</th>\n",
              "      <th>Democrat</th>\n",
              "      <th>Republican</th>\n",
              "    </tr>\n",
              "  </thead>\n",
              "  <tbody>\n",
              "    <tr>\n",
              "      <th>0</th>\n",
              "      <td>adoption-of-the-budget-resolution</td>\n",
              "      <td>7</td>\n",
              "      <td>4</td>\n",
              "    </tr>\n",
              "    <tr>\n",
              "      <th>1</th>\n",
              "      <td>aid-to-nicaraguan-contras</td>\n",
              "      <td>4</td>\n",
              "      <td>11</td>\n",
              "    </tr>\n",
              "    <tr>\n",
              "      <th>2</th>\n",
              "      <td>anti-satellite-test-ban</td>\n",
              "      <td>8</td>\n",
              "      <td>6</td>\n",
              "    </tr>\n",
              "    <tr>\n",
              "      <th>3</th>\n",
              "      <td>crime</td>\n",
              "      <td>10</td>\n",
              "      <td>7</td>\n",
              "    </tr>\n",
              "    <tr>\n",
              "      <th>4</th>\n",
              "      <td>duty-free-exports</td>\n",
              "      <td>16</td>\n",
              "      <td>12</td>\n",
              "    </tr>\n",
              "    <tr>\n",
              "      <th>5</th>\n",
              "      <td>education-spending</td>\n",
              "      <td>18</td>\n",
              "      <td>13</td>\n",
              "    </tr>\n",
              "    <tr>\n",
              "      <th>6</th>\n",
              "      <td>el-salvador-aid</td>\n",
              "      <td>12</td>\n",
              "      <td>3</td>\n",
              "    </tr>\n",
              "    <tr>\n",
              "      <th>7</th>\n",
              "      <td>export-administration-act-south-africa</td>\n",
              "      <td>82</td>\n",
              "      <td>22</td>\n",
              "    </tr>\n",
              "    <tr>\n",
              "      <th>8</th>\n",
              "      <td>handicapped-infants</td>\n",
              "      <td>9</td>\n",
              "      <td>3</td>\n",
              "    </tr>\n",
              "    <tr>\n",
              "      <th>9</th>\n",
              "      <td>immigration</td>\n",
              "      <td>4</td>\n",
              "      <td>3</td>\n",
              "    </tr>\n",
              "    <tr>\n",
              "      <th>10</th>\n",
              "      <td>mx-missile</td>\n",
              "      <td>19</td>\n",
              "      <td>3</td>\n",
              "    </tr>\n",
              "    <tr>\n",
              "      <th>11</th>\n",
              "      <td>physician-fee-freeze</td>\n",
              "      <td>8</td>\n",
              "      <td>3</td>\n",
              "    </tr>\n",
              "    <tr>\n",
              "      <th>12</th>\n",
              "      <td>religious-groups-in-schools</td>\n",
              "      <td>9</td>\n",
              "      <td>2</td>\n",
              "    </tr>\n",
              "    <tr>\n",
              "      <th>13</th>\n",
              "      <td>superfund-right-to-sue</td>\n",
              "      <td>15</td>\n",
              "      <td>10</td>\n",
              "    </tr>\n",
              "    <tr>\n",
              "      <th>14</th>\n",
              "      <td>synfuels-corporation-cutback</td>\n",
              "      <td>12</td>\n",
              "      <td>8</td>\n",
              "    </tr>\n",
              "    <tr>\n",
              "      <th>15</th>\n",
              "      <td>water-project-cost-sharing</td>\n",
              "      <td>28</td>\n",
              "      <td>20</td>\n",
              "    </tr>\n",
              "  </tbody>\n",
              "</table>\n",
              "</div>"
            ],
            "text/plain": [
              "                                     Issue  Democrat  Republican\n",
              "0        adoption-of-the-budget-resolution         7           4\n",
              "1                aid-to-nicaraguan-contras         4          11\n",
              "2                  anti-satellite-test-ban         8           6\n",
              "3                                    crime        10           7\n",
              "4                        duty-free-exports        16          12\n",
              "5                       education-spending        18          13\n",
              "6                          el-salvador-aid        12           3\n",
              "7   export-administration-act-south-africa        82          22\n",
              "8                      handicapped-infants         9           3\n",
              "9                              immigration         4           3\n",
              "10                              mx-missile        19           3\n",
              "11                    physician-fee-freeze         8           3\n",
              "12             religious-groups-in-schools         9           2\n",
              "13                  superfund-right-to-sue        15          10\n",
              "14            synfuels-corporation-cutback        12           8\n",
              "15              water-project-cost-sharing        28          20"
            ]
          },
          "metadata": {
            "tags": []
          },
          "execution_count": 14
        }
      ]
    },
    {
      "cell_type": "markdown",
      "metadata": {
        "id": "0BnLOUQ5BN-f",
        "colab_type": "text"
      },
      "source": [
        "####Comparing voting patterns to see what is important to each party"
      ]
    },
    {
      "cell_type": "code",
      "metadata": {
        "id": "CzCOtKG6ptgG",
        "colab_type": "code",
        "outputId": "0e1acc00-a6e0-4259-972a-ce41b88bff58",
        "colab": {
          "base_uri": "https://localhost:8080/",
          "height": 306
        }
      },
      "source": [
        "democrats.mean(axis = 0, skipna = True) "
      ],
      "execution_count": 15,
      "outputs": [
        {
          "output_type": "execute_result",
          "data": {
            "text/plain": [
              "handicapped-infants                       0.604651\n",
              "water-project-cost-sharing                0.502092\n",
              "adoption-of-the-budget-resolution         0.888462\n",
              "physician-fee-freeze                      0.054054\n",
              "el-salvador-aid                           0.215686\n",
              "religious-groups-in-schools               0.476744\n",
              "anti-satellite-test-ban                   0.772201\n",
              "aid-to-nicaraguan-contras                 0.828897\n",
              "mx-missile                                0.758065\n",
              "immigration                               0.471483\n",
              "synfuels-corporation-cutback              0.505882\n",
              "education-spending                        0.144578\n",
              "superfund-right-to-sue                    0.289683\n",
              "crime                                     0.350195\n",
              "duty-free-exports                         0.637450\n",
              "export-administration-act-south-africa    0.935135\n",
              "dtype: float64"
            ]
          },
          "metadata": {
            "tags": []
          },
          "execution_count": 15
        }
      ]
    },
    {
      "cell_type": "code",
      "metadata": {
        "id": "NzBYz7_m9fex",
        "colab_type": "code",
        "outputId": "ec4c48d2-7de5-4aba-9be1-1dbe3739740f",
        "colab": {
          "base_uri": "https://localhost:8080/",
          "height": 306
        }
      },
      "source": [
        "republicans.mean(axis = 0, skipna = True) "
      ],
      "execution_count": 16,
      "outputs": [
        {
          "output_type": "execute_result",
          "data": {
            "text/plain": [
              "handicapped-infants                       0.189024\n",
              "water-project-cost-sharing                0.503401\n",
              "adoption-of-the-budget-resolution         0.134969\n",
              "physician-fee-freeze                      0.987805\n",
              "el-salvador-aid                           0.951220\n",
              "religious-groups-in-schools               0.896970\n",
              "anti-satellite-test-ban                   0.242236\n",
              "aid-to-nicaraguan-contras                 0.153846\n",
              "mx-missile                                0.115854\n",
              "immigration                               0.554878\n",
              "synfuels-corporation-cutback              0.132075\n",
              "education-spending                        0.870130\n",
              "superfund-right-to-sue                    0.859873\n",
              "crime                                     0.981250\n",
              "duty-free-exports                         0.090323\n",
              "export-administration-act-south-africa    0.655172\n",
              "dtype: float64"
            ]
          },
          "metadata": {
            "tags": []
          },
          "execution_count": 16
        }
      ]
    },
    {
      "cell_type": "markdown",
      "metadata": {
        "id": "JeS_z8v0c2sY",
        "colab_type": "text"
      },
      "source": [
        "## 2. Using hypothesis testing, find an issue that democrats support more than republicans with p < 0.01"
      ]
    },
    {
      "cell_type": "markdown",
      "metadata": {
        "id": "iFcOS_woGlNE",
        "colab_type": "text"
      },
      "source": [
        "####Adoption of Budget Resolution"
      ]
    },
    {
      "cell_type": "code",
      "metadata": {
        "id": "_DNEBkwK-WOd",
        "colab_type": "code",
        "outputId": "2d44c49b-72d2-462f-ea2a-f9c9bcf8b969",
        "colab": {
          "base_uri": "https://localhost:8080/",
          "height": 68
        }
      },
      "source": [
        "print('T-Test results', ttest_ind(democrats['adoption-of-the-budget-resolution'], republicans['adoption-of-the-budget-resolution'], nan_policy='omit'))\n",
        "print('Average Republican votes', republicans['adoption-of-the-budget-resolution'].mean())\n",
        "print('Average Democrat votes', democrats['adoption-of-the-budget-resolution'].mean())"
      ],
      "execution_count": 17,
      "outputs": [
        {
          "output_type": "stream",
          "text": [
            "T-Test results Ttest_indResult(statistic=23.12119107755175, pvalue=6.013425749068062e-77)\n",
            "Average Republican votes 0.13496932515337423\n",
            "Average Democrat votes 0.8884615384615384\n"
          ],
          "name": "stdout"
        }
      ]
    },
    {
      "cell_type": "code",
      "metadata": {
        "id": "PjqclzzcVL6D",
        "colab_type": "code",
        "outputId": "32d6d824-36f5-4a98-e66a-c48af6a344e4",
        "colab": {
          "base_uri": "https://localhost:8080/",
          "height": 277
        }
      },
      "source": [
        "n_groups = 1\n",
        "y1 = republicans['adoption-of-the-budget-resolution'].sum()\n",
        "y2 = democrats['adoption-of-the-budget-resolution'].sum()\n",
        "\n",
        "# create plot\n",
        "fig, ax = plt.subplots()\n",
        "index = np.arange(n_groups)\n",
        "bar_width = 0.35\n",
        "opacity = 0.8\n",
        "\n",
        "rects1 = plt.bar(index, y1, bar_width,alpha=opacity,color='r',label='Republicans')\n",
        "rects2 = plt.bar(index + bar_width, y2, bar_width, alpha=opacity, color='b',label='Democrats')\n",
        "\n",
        "plt.text(x =-0.1, y = 250, s = \"House Votes on Adopting The Budget Resolution\")\n",
        "plt.xlabel('Parties')\n",
        "plt.ylabel('Votes')\n",
        "plt.text (x = 0, y = 23, s= '22')\n",
        "plt.text (x = 0.35, y= 232,s= '231')\n",
        "\n",
        "plt.xticks([])\n",
        "plt.legend()\n",
        "plt.show()"
      ],
      "execution_count": 18,
      "outputs": [
        {
          "output_type": "display_data",
          "data": {
            "image/png": "[encoded data removed]",
            "text/plain": [
              "<Figure size 432x288 with 1 Axes>"
            ]
          },
          "metadata": {
            "tags": []
          }
        }
      ]
    },
    {
      "cell_type": "markdown",
      "metadata": {
        "id": "ND4ysWvuBhTM",
        "colab_type": "text"
      },
      "source": [
        "* The p-value is much less than 0.01. In this instance, you have to accept the null hypothesis that Democrats support the adoption of a a budget resolution more than the Repbulicans. \n",
        "\n",
        "Results: \n",
        "- T-Test results Ttest_indResult(statistic=23.12119107755175, \n",
        "- pvalue=6.013425749068062e-77)\n",
        "- Average Republican votes 0.13496932515337423\n",
        "- Average Democrat votes 0.8884615384615384\n",
        "\n"
      ]
    },
    {
      "cell_type": "markdown",
      "metadata": {
        "id": "kcl9i6Jnes2v",
        "colab_type": "text"
      },
      "source": [
        "##3. Using hypothesis testing, find an issue that republicans support more than democrats with p < 0.01 \n"
      ]
    },
    {
      "cell_type": "markdown",
      "metadata": {
        "id": "sT1cenVTGqDG",
        "colab_type": "text"
      },
      "source": [
        "####Crime Bill"
      ]
    },
    {
      "cell_type": "code",
      "metadata": {
        "id": "OpcWgSvRCV2J",
        "colab_type": "code",
        "outputId": "8433972d-5483-4370-b5ca-0e0c04b5e95f",
        "colab": {
          "base_uri": "https://localhost:8080/",
          "height": 68
        }
      },
      "source": [
        "print('T-Test results', ttest_ind(republicans['crime'], democrats['crime'], nan_policy='omit'))\n",
        "print('Average Republican votes', republicans['crime'].mean())\n",
        "print('Average Democrat votes', democrats['crime'].mean())"
      ],
      "execution_count": 19,
      "outputs": [
        {
          "output_type": "stream",
          "text": [
            "T-Test results Ttest_indResult(statistic=16.288201256755894, pvalue=1.796481827173887e-46)\n",
            "Average Republican votes 0.98125\n",
            "Average Democrat votes 0.35019455252918286\n"
          ],
          "name": "stdout"
        }
      ]
    },
    {
      "cell_type": "code",
      "metadata": {
        "id": "MijFJapIWC5Z",
        "colab_type": "code",
        "outputId": "7472e8bf-9050-4040-c735-0bdea2dec95a",
        "colab": {
          "base_uri": "https://localhost:8080/",
          "height": 277
        }
      },
      "source": [
        "n_groups = 1\n",
        "y1 = republicans['crime'].sum()\n",
        "y2 = democrats['crime'].sum()\n",
        "\n",
        "# create plot\n",
        "fig, ax = plt.subplots()\n",
        "index = np.arange(n_groups)\n",
        "bar_width = 0.35\n",
        "opacity = 0.8\n",
        "\n",
        "rects1 = plt.bar(index, y1, bar_width,alpha=opacity,color='r',label='Republicans')\n",
        "rects2 = plt.bar(index + bar_width, y2, bar_width, alpha=opacity,color='b',label='Democrats')\n",
        "\n",
        "plt.text(x =-0.1, y = 170, s = \"House Votes on Crime Bill\")\n",
        "plt.xlabel('Parties')\n",
        "plt.ylabel('Votes')\n",
        "\n",
        "plt.text (x = 0,y = 158, s= '157')        \n",
        "plt.text (x = 0.35, y= 91,s= '90')\n",
        "\n",
        "plt.xticks([])\n",
        "plt.legend()\n",
        "plt.show()"
      ],
      "execution_count": 20,
      "outputs": [
        {
          "output_type": "display_data",
          "data": {
            "image/png": "[encoded data removed]",
            "text/plain": [
              "<Figure size 432x288 with 1 Axes>"
            ]
          },
          "metadata": {
            "tags": []
          }
        }
      ]
    },
    {
      "cell_type": "markdown",
      "metadata": {
        "id": "Olk5rvrACtqu",
        "colab_type": "text"
      },
      "source": [
        "* The p-value is much less than 0.01. In this instance, you have to accept the null hypothesis that Republicans support the crime bill more than the Democrats.\n",
        "\n",
        "Results\n",
        "- T-Test results Ttest_indResult(statistic=16.288201256755894, \n",
        "- pvalue=1.796481827173887e-46)\n",
        "- Average Republican votes 0.98125\n",
        "- Average Democrat votes 0.35019455252918286"
      ]
    },
    {
      "cell_type": "markdown",
      "metadata": {
        "id": "TQpGRCkmCIJO",
        "colab_type": "text"
      },
      "source": [
        "##4. Using hypothesis testing, find an issue where the difference between republicans and democrats has p > 0.1 (i.e. there may not be much of a difference)"
      ]
    },
    {
      "cell_type": "markdown",
      "metadata": {
        "id": "B2tbebquGt0_",
        "colab_type": "text"
      },
      "source": [
        "####Water Project Cost Sharing"
      ]
    },
    {
      "cell_type": "code",
      "metadata": {
        "id": "abqlBi77Dbh5",
        "colab_type": "code",
        "outputId": "15ea7cb5-1b70-41be-d376-e0543c32b078",
        "colab": {
          "base_uri": "https://localhost:8080/",
          "height": 68
        }
      },
      "source": [
        "print('T-Test results', ttest_ind(republicans['water-project-cost-sharing'], democrats['water-project-cost-sharing'], nan_policy='omit'))\n",
        "print('Average Republican votes', republicans['water-project-cost-sharing'].mean())\n",
        "print('Average Democrat votes', democrats['water-project-cost-sharing'].mean())"
      ],
      "execution_count": 21,
      "outputs": [
        {
          "output_type": "stream",
          "text": [
            "T-Test results Ttest_indResult(statistic=0.02491808700047811, pvalue=0.9801332440121653)\n",
            "Average Republican votes 0.5034013605442177\n",
            "Average Democrat votes 0.502092050209205\n"
          ],
          "name": "stdout"
        }
      ]
    },
    {
      "cell_type": "code",
      "metadata": {
        "id": "j-2QlsCnW2sW",
        "colab_type": "code",
        "outputId": "de26b455-d2d9-4f7a-d109-8032b1ab99c5",
        "colab": {
          "base_uri": "https://localhost:8080/",
          "height": 277
        }
      },
      "source": [
        "n_groups = 1\n",
        "y1 = republicans['water-project-cost-sharing'].sum()\n",
        "y2 = democrats['water-project-cost-sharing'].sum()\n",
        "\n",
        "# create plot\n",
        "fig, ax = plt.subplots()\n",
        "index = np.arange(n_groups)\n",
        "bar_width = 0.35\n",
        "opacity = 0.8\n",
        "\n",
        "rects1 = plt.bar(index, y1, bar_width,alpha=opacity,color='r',label='Republicans')\n",
        "rects2 = plt.bar(index + bar_width, y2, bar_width, alpha=opacity, color='b',label='Democrats')\n",
        "\n",
        "plt.text(x =-0.1, y = 130, s = \"House Votes on Water Project Cost Sharing\")\n",
        "plt.xlabel('Parties')\n",
        "plt.ylabel('Votes')\n",
        "\n",
        "plt.text (x = 0, y = 75, s= '74')        \n",
        "plt.text (x = 0.35, y= 121, s= '120')\n",
        "\n",
        "plt.xticks([])\n",
        "plt.legend()\n",
        "plt.show()"
      ],
      "execution_count": 22,
      "outputs": [
        {
          "output_type": "display_data",
          "data": {
            "image/png": "[encoded data removed]",
            "text/plain": [
              "<Figure size 432x288 with 1 Axes>"
            ]
          },
          "metadata": {
            "tags": []
          }
        }
      ]
    },
    {
      "cell_type": "markdown",
      "metadata": {
        "id": "hfmJMUf4Eo9w",
        "colab_type": "text"
      },
      "source": [
        "* With this issue the p-value is very close to 1 showing that both parties have similar view on the water project. \n",
        "\n",
        "Results: \n",
        "- T-Test results:  Ttest_indResult(statistic=0.02491808700047811, \n",
        "- pvalue=0.9801332440121653)\n",
        "- Average Republican votes 0.5034013605442177\n",
        "- Average Democrat votes 0.502092050209205"
      ]
    },
    {
      "cell_type": "markdown",
      "metadata": {
        "id": "91Ej2gr1G7Gs",
        "colab_type": "text"
      },
      "source": [
        "####Immigration"
      ]
    },
    {
      "cell_type": "code",
      "metadata": {
        "id": "zmRGIxplHAMp",
        "colab_type": "code",
        "outputId": "ba194daf-c2d2-4eb0-c050-d4a8d9e9654c",
        "colab": {
          "base_uri": "https://localhost:8080/",
          "height": 68
        }
      },
      "source": [
        "print('T-Test results', ttest_ind(republicans['immigration'], democrats['immigration'], nan_policy='omit'))\n",
        "print('Average Republican votes', republicans['immigration'].mean())\n",
        "print('Average Democrat votes', democrats['immigration'].mean())"
      ],
      "execution_count": 23,
      "outputs": [
        {
          "output_type": "stream",
          "text": [
            "T-Test results Ttest_indResult(statistic=1.677960615722372, pvalue=0.0940899398968142)\n",
            "Average Republican votes 0.5548780487804879\n",
            "Average Democrat votes 0.4714828897338403\n"
          ],
          "name": "stdout"
        }
      ]
    },
    {
      "cell_type": "code",
      "metadata": {
        "id": "sxgzT8LvXvHM",
        "colab_type": "code",
        "outputId": "a5e5fda2-f4b6-4044-95b2-b15b035efff8",
        "colab": {
          "base_uri": "https://localhost:8080/",
          "height": 278
        }
      },
      "source": [
        "n_groups = 1\n",
        "y1 = republicans['immigration'].sum()\n",
        "y2 = democrats['immigration'].sum()\n",
        "\n",
        "# create plot\n",
        "fig, ax = plt.subplots()\n",
        "index = np.arange(n_groups)\n",
        "bar_width = 0.35\n",
        "opacity = 0.8\n",
        "\n",
        "rects1 = plt.bar(index, y1, bar_width, alpha=opacity, color='r',label='Republicans')\n",
        "rects2 = plt.bar(index + bar_width, y2,bar_width, alpha=opacity, color='b',label='Democrats')\n",
        "\n",
        "plt.text(x =-0.1, y = 135, s = \"House Votes on Immigration Bill\")\n",
        "plt.xlabel('Parties')\n",
        "plt.ylabel('Votes')\n",
        "\n",
        "plt.text (x = 0, y = 92, s= '91')\n",
        "        \n",
        "plt.text (x = 0.35, y= 125, s= '124')\n",
        "\n",
        "plt.xticks([])\n",
        "plt.legend()\n",
        "plt.show()"
      ],
      "execution_count": 24,
      "outputs": [
        {
          "output_type": "display_data",
          "data": {
            "image/png": "[encoded data removed]",
            "text/plain": [
              "<Figure size 432x288 with 1 Axes>"
            ]
          },
          "metadata": {
            "tags": []
          }
        }
      ]
    },
    {
      "cell_type": "markdown",
      "metadata": {
        "id": "rAf1lpvDHQKy",
        "colab_type": "text"
      },
      "source": [
        "* Immigration is another issue which both parties have similar voting patterns. \n",
        "\n",
        "\n",
        "Results: \n",
        "- T-Test results Ttest_indResult(statistic=1.677960615722372, \n",
        "- pvalue=0.0940899398968142)\n",
        "- Average Republican votes 0.5548780487804879\n",
        "- Average Democrat votes 0.4714828897338403"
      ]
    },
    {
      "cell_type": "markdown",
      "metadata": {
        "id": "GWR8VC0M_AyT",
        "colab_type": "text"
      },
      "source": [
        "###Stretch Goal\n",
        "###Refactor your code into functions so it's easy to rerun with arbitrary variables"
      ]
    },
    {
      "cell_type": "markdown",
      "metadata": {
        "id": "NIvll50o_RqD",
        "colab_type": "text"
      },
      "source": [
        "#### Tried to create a function but this was too slow"
      ]
    },
    {
      "cell_type": "code",
      "metadata": {
        "id": "Z0-OWIvowevF",
        "colab_type": "code",
        "colab": {}
      },
      "source": [
        "def voting_results(x,y):\n",
        "  partisan_test = ttest_ind(x, y, nan_policy='omit').pvalue\n",
        "  print (partisan_test)\n",
        "  if partisan_test < 0.01 and x.mean() > y.mean():\n",
        "    print (\"More Democrats than Republicans\")\n",
        "  elif partisan_test < 0.01 and x.mean() < y.mean():\n",
        "    print (\"More Republicans thans Democrats\")\n",
        "  else:\n",
        "    print (\"Toss up\")"
      ],
      "execution_count": 0,
      "outputs": []
    },
    {
      "cell_type": "code",
      "metadata": {
        "id": "jY-gRr809z0G",
        "colab_type": "code",
        "outputId": "574d3915-c477-43ab-dfb5-08d19ffe9ae9",
        "colab": {
          "base_uri": "https://localhost:8080/",
          "height": 51
        }
      },
      "source": [
        "voting_results(democrats['export-administration-act-south-africa'], republicans['export-administration-act-south-africa'])"
      ],
      "execution_count": 26,
      "outputs": [
        {
          "output_type": "stream",
          "text": [
            "2.8060959129817107e-11\n",
            "More Democrats than Republicans\n"
          ],
          "name": "stdout"
        }
      ]
    },
    {
      "cell_type": "code",
      "metadata": {
        "id": "IKsud_FG-fxt",
        "colab_type": "code",
        "outputId": "9cf24e8f-a845-4e48-e415-2b002c65a034",
        "colab": {
          "base_uri": "https://localhost:8080/",
          "height": 51
        }
      },
      "source": [
        "voting_results(democrats['immigration'], republicans['immigration'])"
      ],
      "execution_count": 27,
      "outputs": [
        {
          "output_type": "stream",
          "text": [
            "0.0940899398968142\n",
            "Toss up\n"
          ],
          "name": "stdout"
        }
      ]
    },
    {
      "cell_type": "code",
      "metadata": {
        "id": "30t6VQPG-9N0",
        "colab_type": "code",
        "outputId": "3638c02a-6dce-454b-9c2b-2b97c9cee600",
        "colab": {
          "base_uri": "https://localhost:8080/",
          "height": 51
        }
      },
      "source": [
        "voting_results(democrats['water-project-cost-sharing'], republicans['water-project-cost-sharing'])"
      ],
      "execution_count": 28,
      "outputs": [
        {
          "output_type": "stream",
          "text": [
            "0.9801332440121653\n",
            "Toss up\n"
          ],
          "name": "stdout"
        }
      ]
    },
    {
      "cell_type": "markdown",
      "metadata": {
        "id": "Ni5v5jFY_YgQ",
        "colab_type": "text"
      },
      "source": [
        "####Created an ptest and means that would iterate through the columns and then created a dataframe of the values\n",
        "- do not know why I had to create my dataframe in multiple steps but I get generating an error when I tried to add pvalue, and party means in one step"
      ]
    },
    {
      "cell_type": "markdown",
      "metadata": {
        "id": "VTs4hry9y3Wh",
        "colab_type": "text"
      },
      "source": [
        "####T-test Table"
      ]
    },
    {
      "cell_type": "code",
      "metadata": {
        "id": "oeGiZFyt1QaT",
        "colab_type": "code",
        "outputId": "9f99925d-d75d-493c-e938-6579ae8567f4",
        "colab": {
          "base_uri": "https://localhost:8080/",
          "height": 681
        }
      },
      "source": [
        "#Columns\n",
        "col = republicans.columns\n",
        "\n",
        "#Pvalues\n",
        "df3 = []\n",
        "ptest = ttest_ind(republicans[col].values, democrats[col].values, nan_policy = 'omit').pvalue\n",
        "df3.append(ptest)\n",
        "df3\n",
        "print(df3)\n",
        "\n",
        "ttest_values = pd.DataFrame(col, df3)\n",
        "ttest_values.reset_index(drop=False, inplace=True)\n",
        "ttest_values = ttest_values.rename(columns = {'level_0':'PValue', 0:'Issue'})\n",
        "ttest_values\n",
        "\n",
        "ttest_values.reset_index(drop=False, inplace=True)\n",
        "ttest_values = ttest_values.rename(columns = {'index':'#'})\n",
        "ttest_values"
      ],
      "execution_count": 34,
      "outputs": [
        {
          "output_type": "stream",
          "text": [
            "[masked_array(data=[2.41955503e-018, 9.80133244e-001, 6.01342575e-077,\n",
            "                   1.04011546e-176, 1.30355836e-067, 3.41542525e-020,\n",
            "                   1.64142047e-030, 6.83553246e-054, 1.02551756e-046,\n",
            "                   9.40899399e-002, 1.57593223e-015, 4.96761978e-064,\n",
            "                   2.26287827e-034, 1.79648183e-046, 1.01197145e-031,\n",
            "                   2.80609591e-011],\n",
            "             mask=False,\n",
            "       fill_value=1e+20)]\n"
          ],
          "name": "stdout"
        },
        {
          "output_type": "execute_result",
          "data": {
            "text/html": [
              "<div>\n",
              "<style scoped>\n",
              "    .dataframe tbody tr th:only-of-type {\n",
              "        vertical-align: middle;\n",
              "    }\n",
              "\n",
              "    .dataframe tbody tr th {\n",
              "        vertical-align: top;\n",
              "    }\n",
              "\n",
              "    .dataframe thead th {\n",
              "        text-align: right;\n",
              "    }\n",
              "</style>\n",
              "<table border=\"1\" class=\"dataframe\">\n",
              "  <thead>\n",
              "    <tr style=\"text-align: right;\">\n",
              "      <th></th>\n",
              "      <th>#</th>\n",
              "      <th>PValue</th>\n",
              "      <th>Issue</th>\n",
              "    </tr>\n",
              "  </thead>\n",
              "  <tbody>\n",
              "    <tr>\n",
              "      <th>0</th>\n",
              "      <td>0</td>\n",
              "      <td>2.419555e-18</td>\n",
              "      <td>handicapped-infants</td>\n",
              "    </tr>\n",
              "    <tr>\n",
              "      <th>1</th>\n",
              "      <td>1</td>\n",
              "      <td>9.801332e-01</td>\n",
              "      <td>water-project-cost-sharing</td>\n",
              "    </tr>\n",
              "    <tr>\n",
              "      <th>2</th>\n",
              "      <td>2</td>\n",
              "      <td>6.013426e-77</td>\n",
              "      <td>adoption-of-the-budget-resolution</td>\n",
              "    </tr>\n",
              "    <tr>\n",
              "      <th>3</th>\n",
              "      <td>3</td>\n",
              "      <td>1.040115e-176</td>\n",
              "      <td>physician-fee-freeze</td>\n",
              "    </tr>\n",
              "    <tr>\n",
              "      <th>4</th>\n",
              "      <td>4</td>\n",
              "      <td>1.303558e-67</td>\n",
              "      <td>el-salvador-aid</td>\n",
              "    </tr>\n",
              "    <tr>\n",
              "      <th>5</th>\n",
              "      <td>5</td>\n",
              "      <td>3.415425e-20</td>\n",
              "      <td>religious-groups-in-schools</td>\n",
              "    </tr>\n",
              "    <tr>\n",
              "      <th>6</th>\n",
              "      <td>6</td>\n",
              "      <td>1.641420e-30</td>\n",
              "      <td>anti-satellite-test-ban</td>\n",
              "    </tr>\n",
              "    <tr>\n",
              "      <th>7</th>\n",
              "      <td>7</td>\n",
              "      <td>6.835532e-54</td>\n",
              "      <td>aid-to-nicaraguan-contras</td>\n",
              "    </tr>\n",
              "    <tr>\n",
              "      <th>8</th>\n",
              "      <td>8</td>\n",
              "      <td>1.025518e-46</td>\n",
              "      <td>mx-missile</td>\n",
              "    </tr>\n",
              "    <tr>\n",
              "      <th>9</th>\n",
              "      <td>9</td>\n",
              "      <td>9.408994e-02</td>\n",
              "      <td>immigration</td>\n",
              "    </tr>\n",
              "    <tr>\n",
              "      <th>10</th>\n",
              "      <td>10</td>\n",
              "      <td>1.575932e-15</td>\n",
              "      <td>synfuels-corporation-cutback</td>\n",
              "    </tr>\n",
              "    <tr>\n",
              "      <th>11</th>\n",
              "      <td>11</td>\n",
              "      <td>4.967620e-64</td>\n",
              "      <td>education-spending</td>\n",
              "    </tr>\n",
              "    <tr>\n",
              "      <th>12</th>\n",
              "      <td>12</td>\n",
              "      <td>2.262878e-34</td>\n",
              "      <td>superfund-right-to-sue</td>\n",
              "    </tr>\n",
              "    <tr>\n",
              "      <th>13</th>\n",
              "      <td>13</td>\n",
              "      <td>1.796482e-46</td>\n",
              "      <td>crime</td>\n",
              "    </tr>\n",
              "    <tr>\n",
              "      <th>14</th>\n",
              "      <td>14</td>\n",
              "      <td>1.011971e-31</td>\n",
              "      <td>duty-free-exports</td>\n",
              "    </tr>\n",
              "    <tr>\n",
              "      <th>15</th>\n",
              "      <td>15</td>\n",
              "      <td>2.806096e-11</td>\n",
              "      <td>export-administration-act-south-africa</td>\n",
              "    </tr>\n",
              "  </tbody>\n",
              "</table>\n",
              "</div>"
            ],
            "text/plain": [
              "     #         PValue                                   Issue\n",
              "0    0   2.419555e-18                     handicapped-infants\n",
              "1    1   9.801332e-01              water-project-cost-sharing\n",
              "2    2   6.013426e-77       adoption-of-the-budget-resolution\n",
              "3    3  1.040115e-176                    physician-fee-freeze\n",
              "4    4   1.303558e-67                         el-salvador-aid\n",
              "5    5   3.415425e-20             religious-groups-in-schools\n",
              "6    6   1.641420e-30                 anti-satellite-test-ban\n",
              "7    7   6.835532e-54               aid-to-nicaraguan-contras\n",
              "8    8   1.025518e-46                              mx-missile\n",
              "9    9   9.408994e-02                             immigration\n",
              "10  10   1.575932e-15            synfuels-corporation-cutback\n",
              "11  11   4.967620e-64                      education-spending\n",
              "12  12   2.262878e-34                  superfund-right-to-sue\n",
              "13  13   1.796482e-46                                   crime\n",
              "14  14   1.011971e-31                       duty-free-exports\n",
              "15  15   2.806096e-11  export-administration-act-south-africa"
            ]
          },
          "metadata": {
            "tags": []
          },
          "execution_count": 34
        }
      ]
    },
    {
      "cell_type": "markdown",
      "metadata": {
        "id": "Yo6t188my7Xv",
        "colab_type": "text"
      },
      "source": [
        "####Means Table"
      ]
    },
    {
      "cell_type": "code",
      "metadata": {
        "id": "oQ75dQT6NKVC",
        "colab_type": "code",
        "outputId": "48079291-ff88-4113-c72e-3c9b891f1df3",
        "colab": {
          "base_uri": "https://localhost:8080/",
          "height": 681
        }
      },
      "source": [
        "#Getting Republican Mean\n",
        "rep_mean = []\n",
        "mean_test = republicans.mean()\n",
        "rep_mean.append(mean_test.values)\n",
        "print('rep_mean', rep_mean)\n",
        "\n",
        "#Getting Democrat Mean\n",
        "dem_mean = []\n",
        "mean_test1 = democrats.mean()\n",
        "dem_mean.append(mean_test1.values)\n",
        "print('dem_mean', dem_mean)\n",
        "\n",
        "averages1 = pd.DataFrame(rep_mean).T\n",
        "averages1.reset_index(drop=False, inplace=True)\n",
        "averages1 = averages1.rename(columns = {'index':'#', 0:'Republican Average'})\n",
        "averages1\n",
        "\n",
        "averages2 = pd.DataFrame(dem_mean).T\n",
        "averages2.reset_index(drop=False, inplace=True)\n",
        "averages2 = averages2.rename(columns = {'index':'#', 0:'Democrat Average'})\n",
        "averages2\n",
        "\n",
        "merged = pd.merge(averages1, averages2)\n",
        "merged"
      ],
      "execution_count": 30,
      "outputs": [
        {
          "output_type": "stream",
          "text": [
            "rep_mean [array([0.18902439, 0.50340136, 0.13496933, 0.98780488, 0.95121951,\n",
            "       0.8969697 , 0.24223602, 0.15384615, 0.11585366, 0.55487805,\n",
            "       0.13207547, 0.87012987, 0.85987261, 0.98125   , 0.09032258,\n",
            "       0.65517241])]\n",
            "dem_mean [array([0.60465116, 0.50209205, 0.88846154, 0.05405405, 0.21568627,\n",
            "       0.47674419, 0.77220077, 0.82889734, 0.75806452, 0.47148289,\n",
            "       0.50588235, 0.14457831, 0.28968254, 0.35019455, 0.6374502 ,\n",
            "       0.93513514])]\n"
          ],
          "name": "stdout"
        },
        {
          "output_type": "execute_result",
          "data": {
            "text/html": [
              "<div>\n",
              "<style scoped>\n",
              "    .dataframe tbody tr th:only-of-type {\n",
              "        vertical-align: middle;\n",
              "    }\n",
              "\n",
              "    .dataframe tbody tr th {\n",
              "        vertical-align: top;\n",
              "    }\n",
              "\n",
              "    .dataframe thead th {\n",
              "        text-align: right;\n",
              "    }\n",
              "</style>\n",
              "<table border=\"1\" class=\"dataframe\">\n",
              "  <thead>\n",
              "    <tr style=\"text-align: right;\">\n",
              "      <th></th>\n",
              "      <th>#</th>\n",
              "      <th>Republican Average</th>\n",
              "      <th>Democrat Average</th>\n",
              "    </tr>\n",
              "  </thead>\n",
              "  <tbody>\n",
              "    <tr>\n",
              "      <th>0</th>\n",
              "      <td>0</td>\n",
              "      <td>0.189024</td>\n",
              "      <td>0.604651</td>\n",
              "    </tr>\n",
              "    <tr>\n",
              "      <th>1</th>\n",
              "      <td>1</td>\n",
              "      <td>0.503401</td>\n",
              "      <td>0.502092</td>\n",
              "    </tr>\n",
              "    <tr>\n",
              "      <th>2</th>\n",
              "      <td>2</td>\n",
              "      <td>0.134969</td>\n",
              "      <td>0.888462</td>\n",
              "    </tr>\n",
              "    <tr>\n",
              "      <th>3</th>\n",
              "      <td>3</td>\n",
              "      <td>0.987805</td>\n",
              "      <td>0.054054</td>\n",
              "    </tr>\n",
              "    <tr>\n",
              "      <th>4</th>\n",
              "      <td>4</td>\n",
              "      <td>0.951220</td>\n",
              "      <td>0.215686</td>\n",
              "    </tr>\n",
              "    <tr>\n",
              "      <th>5</th>\n",
              "      <td>5</td>\n",
              "      <td>0.896970</td>\n",
              "      <td>0.476744</td>\n",
              "    </tr>\n",
              "    <tr>\n",
              "      <th>6</th>\n",
              "      <td>6</td>\n",
              "      <td>0.242236</td>\n",
              "      <td>0.772201</td>\n",
              "    </tr>\n",
              "    <tr>\n",
              "      <th>7</th>\n",
              "      <td>7</td>\n",
              "      <td>0.153846</td>\n",
              "      <td>0.828897</td>\n",
              "    </tr>\n",
              "    <tr>\n",
              "      <th>8</th>\n",
              "      <td>8</td>\n",
              "      <td>0.115854</td>\n",
              "      <td>0.758065</td>\n",
              "    </tr>\n",
              "    <tr>\n",
              "      <th>9</th>\n",
              "      <td>9</td>\n",
              "      <td>0.554878</td>\n",
              "      <td>0.471483</td>\n",
              "    </tr>\n",
              "    <tr>\n",
              "      <th>10</th>\n",
              "      <td>10</td>\n",
              "      <td>0.132075</td>\n",
              "      <td>0.505882</td>\n",
              "    </tr>\n",
              "    <tr>\n",
              "      <th>11</th>\n",
              "      <td>11</td>\n",
              "      <td>0.870130</td>\n",
              "      <td>0.144578</td>\n",
              "    </tr>\n",
              "    <tr>\n",
              "      <th>12</th>\n",
              "      <td>12</td>\n",
              "      <td>0.859873</td>\n",
              "      <td>0.289683</td>\n",
              "    </tr>\n",
              "    <tr>\n",
              "      <th>13</th>\n",
              "      <td>13</td>\n",
              "      <td>0.981250</td>\n",
              "      <td>0.350195</td>\n",
              "    </tr>\n",
              "    <tr>\n",
              "      <th>14</th>\n",
              "      <td>14</td>\n",
              "      <td>0.090323</td>\n",
              "      <td>0.637450</td>\n",
              "    </tr>\n",
              "    <tr>\n",
              "      <th>15</th>\n",
              "      <td>15</td>\n",
              "      <td>0.655172</td>\n",
              "      <td>0.935135</td>\n",
              "    </tr>\n",
              "  </tbody>\n",
              "</table>\n",
              "</div>"
            ],
            "text/plain": [
              "     #  Republican Average  Democrat Average\n",
              "0    0            0.189024          0.604651\n",
              "1    1            0.503401          0.502092\n",
              "2    2            0.134969          0.888462\n",
              "3    3            0.987805          0.054054\n",
              "4    4            0.951220          0.215686\n",
              "5    5            0.896970          0.476744\n",
              "6    6            0.242236          0.772201\n",
              "7    7            0.153846          0.828897\n",
              "8    8            0.115854          0.758065\n",
              "9    9            0.554878          0.471483\n",
              "10  10            0.132075          0.505882\n",
              "11  11            0.870130          0.144578\n",
              "12  12            0.859873          0.289683\n",
              "13  13            0.981250          0.350195\n",
              "14  14            0.090323          0.637450\n",
              "15  15            0.655172          0.935135"
            ]
          },
          "metadata": {
            "tags": []
          },
          "execution_count": 30
        }
      ]
    },
    {
      "cell_type": "markdown",
      "metadata": {
        "id": "79OLyuoUy_vM",
        "colab_type": "text"
      },
      "source": [
        "####Merge PValues with Means"
      ]
    },
    {
      "cell_type": "code",
      "metadata": {
        "id": "eubFX05kTGc_",
        "colab_type": "code",
        "outputId": "f2077cc2-28b9-4202-d5c9-70539a1ab74f",
        "colab": {
          "base_uri": "https://localhost:8080/",
          "height": 545
        }
      },
      "source": [
        "overall_statistic = pd.merge(ttest_values, merged,  how = 'outer')\n",
        "overall_statistic\n",
        "\n",
        "overall_statistic.drop('#', axis =1)\n",
        "overall_statistic = overall_statistic[['Issue', 'PValue', 'Republican Average', 'Democrat Average']]\n",
        "overall_statistic"
      ],
      "execution_count": 48,
      "outputs": [
        {
          "output_type": "execute_result",
          "data": {
            "text/html": [
              "<div>\n",
              "<style scoped>\n",
              "    .dataframe tbody tr th:only-of-type {\n",
              "        vertical-align: middle;\n",
              "    }\n",
              "\n",
              "    .dataframe tbody tr th {\n",
              "        vertical-align: top;\n",
              "    }\n",
              "\n",
              "    .dataframe thead th {\n",
              "        text-align: right;\n",
              "    }\n",
              "</style>\n",
              "<table border=\"1\" class=\"dataframe\">\n",
              "  <thead>\n",
              "    <tr style=\"text-align: right;\">\n",
              "      <th></th>\n",
              "      <th>Issue</th>\n",
              "      <th>PValue</th>\n",
              "      <th>Republican Average</th>\n",
              "      <th>Democrat Average</th>\n",
              "    </tr>\n",
              "  </thead>\n",
              "  <tbody>\n",
              "    <tr>\n",
              "      <th>0</th>\n",
              "      <td>handicapped-infants</td>\n",
              "      <td>2.419555e-18</td>\n",
              "      <td>0.189024</td>\n",
              "      <td>0.604651</td>\n",
              "    </tr>\n",
              "    <tr>\n",
              "      <th>1</th>\n",
              "      <td>water-project-cost-sharing</td>\n",
              "      <td>9.801332e-01</td>\n",
              "      <td>0.503401</td>\n",
              "      <td>0.502092</td>\n",
              "    </tr>\n",
              "    <tr>\n",
              "      <th>2</th>\n",
              "      <td>adoption-of-the-budget-resolution</td>\n",
              "      <td>6.013426e-77</td>\n",
              "      <td>0.134969</td>\n",
              "      <td>0.888462</td>\n",
              "    </tr>\n",
              "    <tr>\n",
              "      <th>3</th>\n",
              "      <td>physician-fee-freeze</td>\n",
              "      <td>1.040115e-176</td>\n",
              "      <td>0.987805</td>\n",
              "      <td>0.054054</td>\n",
              "    </tr>\n",
              "    <tr>\n",
              "      <th>4</th>\n",
              "      <td>el-salvador-aid</td>\n",
              "      <td>1.303558e-67</td>\n",
              "      <td>0.951220</td>\n",
              "      <td>0.215686</td>\n",
              "    </tr>\n",
              "    <tr>\n",
              "      <th>5</th>\n",
              "      <td>religious-groups-in-schools</td>\n",
              "      <td>3.415425e-20</td>\n",
              "      <td>0.896970</td>\n",
              "      <td>0.476744</td>\n",
              "    </tr>\n",
              "    <tr>\n",
              "      <th>6</th>\n",
              "      <td>anti-satellite-test-ban</td>\n",
              "      <td>1.641420e-30</td>\n",
              "      <td>0.242236</td>\n",
              "      <td>0.772201</td>\n",
              "    </tr>\n",
              "    <tr>\n",
              "      <th>7</th>\n",
              "      <td>aid-to-nicaraguan-contras</td>\n",
              "      <td>6.835532e-54</td>\n",
              "      <td>0.153846</td>\n",
              "      <td>0.828897</td>\n",
              "    </tr>\n",
              "    <tr>\n",
              "      <th>8</th>\n",
              "      <td>mx-missile</td>\n",
              "      <td>1.025518e-46</td>\n",
              "      <td>0.115854</td>\n",
              "      <td>0.758065</td>\n",
              "    </tr>\n",
              "    <tr>\n",
              "      <th>9</th>\n",
              "      <td>immigration</td>\n",
              "      <td>9.408994e-02</td>\n",
              "      <td>0.554878</td>\n",
              "      <td>0.471483</td>\n",
              "    </tr>\n",
              "    <tr>\n",
              "      <th>10</th>\n",
              "      <td>synfuels-corporation-cutback</td>\n",
              "      <td>1.575932e-15</td>\n",
              "      <td>0.132075</td>\n",
              "      <td>0.505882</td>\n",
              "    </tr>\n",
              "    <tr>\n",
              "      <th>11</th>\n",
              "      <td>education-spending</td>\n",
              "      <td>4.967620e-64</td>\n",
              "      <td>0.870130</td>\n",
              "      <td>0.144578</td>\n",
              "    </tr>\n",
              "    <tr>\n",
              "      <th>12</th>\n",
              "      <td>superfund-right-to-sue</td>\n",
              "      <td>2.262878e-34</td>\n",
              "      <td>0.859873</td>\n",
              "      <td>0.289683</td>\n",
              "    </tr>\n",
              "    <tr>\n",
              "      <th>13</th>\n",
              "      <td>crime</td>\n",
              "      <td>1.796482e-46</td>\n",
              "      <td>0.981250</td>\n",
              "      <td>0.350195</td>\n",
              "    </tr>\n",
              "    <tr>\n",
              "      <th>14</th>\n",
              "      <td>duty-free-exports</td>\n",
              "      <td>1.011971e-31</td>\n",
              "      <td>0.090323</td>\n",
              "      <td>0.637450</td>\n",
              "    </tr>\n",
              "    <tr>\n",
              "      <th>15</th>\n",
              "      <td>export-administration-act-south-africa</td>\n",
              "      <td>2.806096e-11</td>\n",
              "      <td>0.655172</td>\n",
              "      <td>0.935135</td>\n",
              "    </tr>\n",
              "  </tbody>\n",
              "</table>\n",
              "</div>"
            ],
            "text/plain": [
              "                                     Issue  ...  Democrat Average\n",
              "0                      handicapped-infants  ...          0.604651\n",
              "1               water-project-cost-sharing  ...          0.502092\n",
              "2        adoption-of-the-budget-resolution  ...          0.888462\n",
              "3                     physician-fee-freeze  ...          0.054054\n",
              "4                          el-salvador-aid  ...          0.215686\n",
              "5              religious-groups-in-schools  ...          0.476744\n",
              "6                  anti-satellite-test-ban  ...          0.772201\n",
              "7                aid-to-nicaraguan-contras  ...          0.828897\n",
              "8                               mx-missile  ...          0.758065\n",
              "9                              immigration  ...          0.471483\n",
              "10            synfuels-corporation-cutback  ...          0.505882\n",
              "11                      education-spending  ...          0.144578\n",
              "12                  superfund-right-to-sue  ...          0.289683\n",
              "13                                   crime  ...          0.350195\n",
              "14                       duty-free-exports  ...          0.637450\n",
              "15  export-administration-act-south-africa  ...          0.935135\n",
              "\n",
              "[16 rows x 4 columns]"
            ]
          },
          "metadata": {
            "tags": []
          },
          "execution_count": 48
        }
      ]
    },
    {
      "cell_type": "markdown",
      "metadata": {
        "id": "jyiBJHcfzIE-",
        "colab_type": "text"
      },
      "source": [
        "####Iterate through dataframe and created a new column to see if issues were partisan or not"
      ]
    },
    {
      "cell_type": "markdown",
      "metadata": {
        "id": "OBqeqj_Ew_Jv",
        "colab_type": "text"
      },
      "source": [
        "Not sure why the if else statment does not work, I get the error that the 'return' outside function\n",
        "\n",
        "Through persistence got this work (still confused how to write if/else statements and function)"
      ]
    },
    {
      "cell_type": "code",
      "metadata": {
        "id": "31GHbEdfsC7e",
        "colab_type": "code",
        "colab": {
          "base_uri": "https://localhost:8080/",
          "height": 306
        },
        "outputId": "bb176a8b-5d75-4df9-83cb-76a4ea479b8b"
      },
      "source": [
        "# for ind, row in overall_statistic.iterrows():\n",
        "#   overall_statistic.loc[ind, 'Partisan?'] = row['PValue'] <0.01 and row['Republican Average'] > row['Democrat Average']\n",
        "#   if row['PValue'] <0.01 and row['Republican Average'] > row['Democrat Average']:\n",
        "#      return('Republican')\n",
        "#   elif row['PValue'] <0.01 and row['Republican Average'] < row['Democrat Average']:\n",
        "#      return('Democrat')\n",
        "#   else:\n",
        "#      return('Toss up')\n",
        "\n",
        "\n",
        "for ind, row in overall_statistic.iterrows():\n",
        "  if row['PValue'] < 0.01 and row['Republican Average'] > row['Democrat Average']:\n",
        "     overall_statistic.loc[ind, 'Partisan?'] = 'Republican'\n",
        "  elif row['PValue'] < 0.01 and row['Republican Average'] < row['Democrat Average']:\n",
        "     overall_statistic.loc[ind, 'Partisan?'] =  'Democrat'\n",
        "  else:\n",
        "     overall_statistic.loc[ind, 'Partisan?'] = 'Toss up'\n",
        "\n",
        "overall_statistic['Partisan?']"
      ],
      "execution_count": 53,
      "outputs": [
        {
          "output_type": "execute_result",
          "data": {
            "text/plain": [
              "0       Democrat\n",
              "1        Toss up\n",
              "2       Democrat\n",
              "3     Republican\n",
              "4     Republican\n",
              "5     Republican\n",
              "6       Democrat\n",
              "7       Democrat\n",
              "8       Democrat\n",
              "9        Toss up\n",
              "10      Democrat\n",
              "11    Republican\n",
              "12    Republican\n",
              "13    Republican\n",
              "14      Democrat\n",
              "15      Democrat\n",
              "Name: Partisan?, dtype: object"
            ]
          },
          "metadata": {
            "tags": []
          },
          "execution_count": 53
        }
      ]
    },
    {
      "cell_type": "code",
      "metadata": {
        "id": "IJqUqVVuu8Fz",
        "colab_type": "code",
        "outputId": "ff93c2ca-2970-456d-d9c5-579d3740e8f2",
        "colab": {
          "base_uri": "https://localhost:8080/",
          "height": 545
        }
      },
      "source": [
        "overall_statistic"
      ],
      "execution_count": 54,
      "outputs": [
        {
          "output_type": "execute_result",
          "data": {
            "text/html": [
              "<div>\n",
              "<style scoped>\n",
              "    .dataframe tbody tr th:only-of-type {\n",
              "        vertical-align: middle;\n",
              "    }\n",
              "\n",
              "    .dataframe tbody tr th {\n",
              "        vertical-align: top;\n",
              "    }\n",
              "\n",
              "    .dataframe thead th {\n",
              "        text-align: right;\n",
              "    }\n",
              "</style>\n",
              "<table border=\"1\" class=\"dataframe\">\n",
              "  <thead>\n",
              "    <tr style=\"text-align: right;\">\n",
              "      <th></th>\n",
              "      <th>Issue</th>\n",
              "      <th>PValue</th>\n",
              "      <th>Republican Average</th>\n",
              "      <th>Democrat Average</th>\n",
              "      <th>Partisan?</th>\n",
              "    </tr>\n",
              "  </thead>\n",
              "  <tbody>\n",
              "    <tr>\n",
              "      <th>0</th>\n",
              "      <td>handicapped-infants</td>\n",
              "      <td>2.419555e-18</td>\n",
              "      <td>0.189024</td>\n",
              "      <td>0.604651</td>\n",
              "      <td>Democrat</td>\n",
              "    </tr>\n",
              "    <tr>\n",
              "      <th>1</th>\n",
              "      <td>water-project-cost-sharing</td>\n",
              "      <td>9.801332e-01</td>\n",
              "      <td>0.503401</td>\n",
              "      <td>0.502092</td>\n",
              "      <td>Toss up</td>\n",
              "    </tr>\n",
              "    <tr>\n",
              "      <th>2</th>\n",
              "      <td>adoption-of-the-budget-resolution</td>\n",
              "      <td>6.013426e-77</td>\n",
              "      <td>0.134969</td>\n",
              "      <td>0.888462</td>\n",
              "      <td>Democrat</td>\n",
              "    </tr>\n",
              "    <tr>\n",
              "      <th>3</th>\n",
              "      <td>physician-fee-freeze</td>\n",
              "      <td>1.040115e-176</td>\n",
              "      <td>0.987805</td>\n",
              "      <td>0.054054</td>\n",
              "      <td>Republican</td>\n",
              "    </tr>\n",
              "    <tr>\n",
              "      <th>4</th>\n",
              "      <td>el-salvador-aid</td>\n",
              "      <td>1.303558e-67</td>\n",
              "      <td>0.951220</td>\n",
              "      <td>0.215686</td>\n",
              "      <td>Republican</td>\n",
              "    </tr>\n",
              "    <tr>\n",
              "      <th>5</th>\n",
              "      <td>religious-groups-in-schools</td>\n",
              "      <td>3.415425e-20</td>\n",
              "      <td>0.896970</td>\n",
              "      <td>0.476744</td>\n",
              "      <td>Republican</td>\n",
              "    </tr>\n",
              "    <tr>\n",
              "      <th>6</th>\n",
              "      <td>anti-satellite-test-ban</td>\n",
              "      <td>1.641420e-30</td>\n",
              "      <td>0.242236</td>\n",
              "      <td>0.772201</td>\n",
              "      <td>Democrat</td>\n",
              "    </tr>\n",
              "    <tr>\n",
              "      <th>7</th>\n",
              "      <td>aid-to-nicaraguan-contras</td>\n",
              "      <td>6.835532e-54</td>\n",
              "      <td>0.153846</td>\n",
              "      <td>0.828897</td>\n",
              "      <td>Democrat</td>\n",
              "    </tr>\n",
              "    <tr>\n",
              "      <th>8</th>\n",
              "      <td>mx-missile</td>\n",
              "      <td>1.025518e-46</td>\n",
              "      <td>0.115854</td>\n",
              "      <td>0.758065</td>\n",
              "      <td>Democrat</td>\n",
              "    </tr>\n",
              "    <tr>\n",
              "      <th>9</th>\n",
              "      <td>immigration</td>\n",
              "      <td>9.408994e-02</td>\n",
              "      <td>0.554878</td>\n",
              "      <td>0.471483</td>\n",
              "      <td>Toss up</td>\n",
              "    </tr>\n",
              "    <tr>\n",
              "      <th>10</th>\n",
              "      <td>synfuels-corporation-cutback</td>\n",
              "      <td>1.575932e-15</td>\n",
              "      <td>0.132075</td>\n",
              "      <td>0.505882</td>\n",
              "      <td>Democrat</td>\n",
              "    </tr>\n",
              "    <tr>\n",
              "      <th>11</th>\n",
              "      <td>education-spending</td>\n",
              "      <td>4.967620e-64</td>\n",
              "      <td>0.870130</td>\n",
              "      <td>0.144578</td>\n",
              "      <td>Republican</td>\n",
              "    </tr>\n",
              "    <tr>\n",
              "      <th>12</th>\n",
              "      <td>superfund-right-to-sue</td>\n",
              "      <td>2.262878e-34</td>\n",
              "      <td>0.859873</td>\n",
              "      <td>0.289683</td>\n",
              "      <td>Republican</td>\n",
              "    </tr>\n",
              "    <tr>\n",
              "      <th>13</th>\n",
              "      <td>crime</td>\n",
              "      <td>1.796482e-46</td>\n",
              "      <td>0.981250</td>\n",
              "      <td>0.350195</td>\n",
              "      <td>Republican</td>\n",
              "    </tr>\n",
              "    <tr>\n",
              "      <th>14</th>\n",
              "      <td>duty-free-exports</td>\n",
              "      <td>1.011971e-31</td>\n",
              "      <td>0.090323</td>\n",
              "      <td>0.637450</td>\n",
              "      <td>Democrat</td>\n",
              "    </tr>\n",
              "    <tr>\n",
              "      <th>15</th>\n",
              "      <td>export-administration-act-south-africa</td>\n",
              "      <td>2.806096e-11</td>\n",
              "      <td>0.655172</td>\n",
              "      <td>0.935135</td>\n",
              "      <td>Democrat</td>\n",
              "    </tr>\n",
              "  </tbody>\n",
              "</table>\n",
              "</div>"
            ],
            "text/plain": [
              "                                     Issue  ...   Partisan?\n",
              "0                      handicapped-infants  ...    Democrat\n",
              "1               water-project-cost-sharing  ...     Toss up\n",
              "2        adoption-of-the-budget-resolution  ...    Democrat\n",
              "3                     physician-fee-freeze  ...  Republican\n",
              "4                          el-salvador-aid  ...  Republican\n",
              "5              religious-groups-in-schools  ...  Republican\n",
              "6                  anti-satellite-test-ban  ...    Democrat\n",
              "7                aid-to-nicaraguan-contras  ...    Democrat\n",
              "8                               mx-missile  ...    Democrat\n",
              "9                              immigration  ...     Toss up\n",
              "10            synfuels-corporation-cutback  ...    Democrat\n",
              "11                      education-spending  ...  Republican\n",
              "12                  superfund-right-to-sue  ...  Republican\n",
              "13                                   crime  ...  Republican\n",
              "14                       duty-free-exports  ...    Democrat\n",
              "15  export-administration-act-south-africa  ...    Democrat\n",
              "\n",
              "[16 rows x 5 columns]"
            ]
          },
          "metadata": {
            "tags": []
          },
          "execution_count": 54
        }
      ]
    },
    {
      "cell_type": "markdown",
      "metadata": {
        "id": "qJZ1ooi9zS3P",
        "colab_type": "text"
      },
      "source": [
        "####Created a function that generated a list of whether issues were partisan or not"
      ]
    },
    {
      "cell_type": "code",
      "metadata": {
        "id": "dAAb48OsaYGU",
        "colab_type": "code",
        "outputId": "b72d5abe-b493-4920-a43e-f35bfd15b442",
        "colab": {
          "base_uri": "https://localhost:8080/",
          "height": 306
        }
      },
      "source": [
        "def partisan_issue(row):\n",
        "    row['PValue'] <0.01 and row['Republican Average'] > row['Democrat Average']\n",
        "    if row['PValue'] <0.01 and row['Republican Average'] > row['Democrat Average']:\n",
        "      return('Republican')\n",
        "    elif row['PValue'] <0.01 and row['Republican Average'] < row['Democrat Average']:\n",
        "      return('Democrat')\n",
        "    else:\n",
        "      return('Toss up')\n",
        "    \n",
        "overall_statistic.apply(partisan_issue, axis = 1)"
      ],
      "execution_count": 33,
      "outputs": [
        {
          "output_type": "execute_result",
          "data": {
            "text/plain": [
              "0       Democrat\n",
              "1        Toss up\n",
              "2       Democrat\n",
              "3     Republican\n",
              "4     Republican\n",
              "5     Republican\n",
              "6       Democrat\n",
              "7       Democrat\n",
              "8       Democrat\n",
              "9        Toss up\n",
              "10      Democrat\n",
              "11    Republican\n",
              "12    Republican\n",
              "13    Republican\n",
              "14      Democrat\n",
              "15      Democrat\n",
              "dtype: object"
            ]
          },
          "metadata": {
            "tags": []
          },
          "execution_count": 33
        }
      ]
    }
  ]
}