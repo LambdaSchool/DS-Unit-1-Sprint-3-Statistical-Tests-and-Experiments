{
  "nbformat": 4,
  "nbformat_minor": 0,
  "metadata": {
    "kernelspec": {
      "display_name": "Python 3",
      "language": "python",
      "name": "python3"
    },
    "language_info": {
      "codemirror_mode": {
        "name": "ipython",
        "version": 3
      },
      "file_extension": ".py",
      "mimetype": "text/x-python",
      "name": "python",
      "nbconvert_exporter": "python",
      "pygments_lexer": "ipython3",
      "version": "3.7.3"
    },
    "colab": {
      "name": "Nicholas_Staudacher_LS_DS_131_Statistics_Probability_Assignment.ipynb",
      "version": "0.3.2",
      "provenance": [],
      "collapsed_sections": [],
      "include_colab_link": true
    }
  },
  "cells": [
    {
      "cell_type": "markdown",
      "metadata": {
        "id": "view-in-github",
        "colab_type": "text"
      },
      "source": [
        "<a href=\"https://colab.research.google.com/github/nstaudac/DS-Unit-1-Sprint-3-Statistical-Tests-and-Experiments/blob/master/Nicholas_Staudacher_LS_DS_131_Statistics_Probability_Assignment.ipynb\" target=\"_parent\"><img src=\"https://colab.research.google.com/assets/colab-badge.svg\" alt=\"Open In Colab\"/></a>"
      ]
    },
    {
      "cell_type": "markdown",
      "metadata": {
        "id": "Qz4yqiTY35E4",
        "colab_type": "text"
      },
      "source": [
        "<img align=\"left\" src=\"https://lever-client-logos.s3.amazonaws.com/864372b1-534c-480e-acd5-9711f850815c-1524247202159.png\" width=200>\n",
        "<br></br>\n",
        "<br></br>\n",
        "\n",
        "## *Data Science Unit 1 Sprint 3 Assignment 1*\n",
        "\n",
        "# Apply the t-test to real data\n",
        "\n",
        "Your assignment is to determine which issues have \"statistically significant\" differences between political parties in this [1980s congressional voting data](https://archive.ics.uci.edu/ml/datasets/Congressional+Voting+Records). The data consists of 435 instances (one for each congressperson), a class (democrat or republican), and 16 binary attributes (yes or no for voting for or against certain issues). Be aware - there are missing values!\n",
        "\n",
        "Your goals:\n",
        "\n",
        "1. Load and clean the data (or determine the best method to drop observations when running tests)\n",
        "2. Using hypothesis testing, find an issue that democrats support more than republicans with p < 0.01\n",
        "3. Using hypothesis testing, find an issue that republicans support more than democrats with p < 0.01\n",
        "4. Using hypothesis testing, find an issue where the difference between republicans and democrats has p > 0.1 (i.e. there may not be much of a difference)\n",
        "\n",
        "Note that this data will involve *2 sample* t-tests, because you're comparing averages across two groups (republicans and democrats) rather than a single group against a null hypothesis.\n",
        "\n",
        "Stretch goals:\n",
        "\n",
        "1. Refactor your code into functions so it's easy to rerun with arbitrary variables\n",
        "2. Apply hypothesis testing to your personal project data (for the purposes of this notebook you can type a summary of the hypothesis you formed and tested)"
      ]
    },
    {
      "cell_type": "code",
      "metadata": {
        "id": "OhbpuFj-35E6",
        "colab_type": "code",
        "colab": {
          "base_uri": "https://localhost:8080/",
          "height": 1000
        },
        "outputId": "f53af08f-c8af-4c62-fef1-54155fa6a38c"
      },
      "source": [
        "### YOUR CODE STARTS HERE\n",
        "\n",
        "# importing raw data\n",
        "import pandas as pd\n",
        "voting_data_url = 'https://archive.ics.uci.edu/ml/machine-learning-databases/voting-records/house-votes-84.data'\n",
        "!curl https://archive.ics.uci.edu/ml/machine-learning-databases/voting-records/house-votes-84.data"
      ],
      "execution_count": 1,
      "outputs": [
        {
          "output_type": "stream",
          "text": [
            "republican,n,y,n,y,y,y,n,n,n,y,?,y,y,y,n,y\n",
            "republican,n,y,n,y,y,y,n,n,n,n,n,y,y,y,n,?\n",
            "democrat,?,y,y,?,y,y,n,n,n,n,y,n,y,y,n,n\n",
            "democrat,n,y,y,n,?,y,n,n,n,n,y,n,y,n,n,y\n",
            "democrat,y,y,y,n,y,y,n,n,n,n,y,?,y,y,y,y\n",
            "democrat,n,y,y,n,y,y,n,n,n,n,n,n,y,y,y,y\n",
            "democrat,n,y,n,y,y,y,n,n,n,n,n,n,?,y,y,y\n",
            "republican,n,y,n,y,y,y,n,n,n,n,n,n,y,y,?,y\n",
            "republican,n,y,n,y,y,y,n,n,n,n,n,y,y,y,n,y\n",
            "democrat,y,y,y,n,n,n,y,y,y,n,n,n,n,n,?,?\n",
            "republican,n,y,n,y,y,n,n,n,n,n,?,?,y,y,n,n\n",
            "republican,n,y,n,y,y,y,n,n,n,n,y,?,y,y,?,?\n",
            "democrat,n,y,y,n,n,n,y,y,y,n,n,n,y,n,?,?\n",
            "democrat,y,y,y,n,n,y,y,y,?,y,y,?,n,n,y,?\n",
            "republican,n,y,n,y,y,y,n,n,n,n,n,y,?,?,n,?\n",
            "republican,n,y,n,y,y,y,n,n,n,y,n,y,y,?,n,?\n",
            "democrat,y,n,y,n,n,y,n,y,?,y,y,y,?,n,n,y\n",
            "democrat,y,?,y,n,n,n,y,y,y,n,n,n,y,n,y,y\n",
            "republican,n,y,n,y,y,y,n,n,n,n,n,?,y,y,n,n\n",
            "democrat,y,y,y,n,n,n,y,y,y,n,y,n,n,n,y,y\n",
            "democrat,y,y,y,n,n,?,y,y,n,n,y,n,n,n,y,y\n",
            "democrat,y,y,y,n,n,n,y,y,y,n,n,n,?,?,y,y\n",
            "democrat,y,?,y,n,n,n,y,y,y,n,n,?,n,n,y,y\n",
            "democrat,y,y,y,n,n,n,y,y,y,n,n,n,n,n,y,y\n",
            "democrat,y,n,y,n,n,n,y,y,y,n,n,n,n,n,y,?\n",
            "democrat,y,n,y,n,n,n,y,y,y,y,n,n,n,n,y,y\n",
            "democrat,y,n,y,n,n,n,y,y,y,n,y,n,n,n,y,y\n",
            "democrat,y,y,y,n,n,n,y,y,y,n,y,n,n,n,y,y\n",
            "republican,y,n,n,y,y,n,y,y,y,n,n,y,y,y,n,y\n",
            "democrat,y,y,y,n,n,n,y,y,y,n,y,n,n,n,y,y\n",
            "republican,n,y,n,y,y,y,n,n,n,n,n,y,y,y,n,n\n",
            "democrat,y,y,y,n,n,n,y,y,y,n,y,n,n,n,y,?\n",
            "democrat,y,y,y,n,n,n,y,y,y,y,n,n,y,n,y,y\n",
            "republican,n,y,n,y,y,y,n,n,n,n,n,y,y,y,n,y\n",
            "democrat,y,y,y,n,n,n,y,y,y,n,n,n,n,n,y,y\n",
            "republican,n,y,n,y,y,y,n,n,n,n,n,y,y,y,n,n\n",
            "republican,y,?,n,y,y,y,n,n,n,y,n,y,?,y,n,y\n",
            "republican,y,y,n,y,y,y,n,n,n,n,n,n,y,y,n,y\n",
            "republican,n,y,n,y,y,y,n,n,n,y,n,y,y,y,n,n\n",
            "democrat,y,n,y,n,n,n,y,y,y,y,y,n,y,n,y,y\n",
            "democrat,y,y,y,n,n,n,y,y,y,n,?,n,n,n,n,?\n",
            "democrat,y,y,y,n,n,n,y,y,y,n,n,n,n,n,y,?\n",
            "democrat,y,n,y,n,n,n,y,y,y,n,n,n,n,n,n,y\n",
            "democrat,y,n,y,n,n,n,y,y,y,n,n,n,n,n,y,y\n",
            "democrat,y,y,y,n,n,n,y,y,y,n,y,n,n,n,n,?\n",
            "democrat,y,y,y,n,n,n,y,y,?,n,y,n,n,n,y,?\n",
            "democrat,y,y,y,n,n,n,y,y,y,n,n,n,n,n,n,y\n",
            "democrat,y,n,y,n,n,n,y,y,?,n,n,n,n,n,n,?\n",
            "democrat,y,y,y,n,n,n,y,y,n,n,n,n,n,y,n,y\n",
            "republican,n,?,n,y,y,y,n,n,n,n,n,y,y,y,n,n\n",
            "democrat,y,y,y,n,n,n,y,y,y,n,y,n,n,n,y,y\n",
            "republican,n,y,n,y,y,y,n,?,n,n,n,y,y,y,n,y\n",
            "democrat,y,y,y,n,n,n,y,y,y,n,n,n,n,n,?,?\n",
            "republican,y,y,n,y,y,y,n,n,n,y,n,y,y,y,n,n\n",
            "democrat,y,y,y,n,n,y,?,y,n,n,y,y,n,y,n,?\n",
            "republican,n,y,n,y,y,y,n,n,n,y,y,y,y,y,n,n\n",
            "republican,n,y,n,y,y,y,n,n,n,y,y,y,y,y,n,y\n",
            "republican,n,y,n,y,y,y,n,n,n,y,n,y,y,y,n,y\n",
            "republican,n,y,n,y,y,y,n,n,n,y,n,y,y,y,n,y\n",
            "republican,n,y,n,y,y,y,n,n,n,y,n,y,y,y,n,?\n",
            "democrat,y,y,y,n,n,?,y,y,y,y,n,n,n,n,y,?\n",
            "republican,n,y,n,y,y,y,n,n,n,n,n,y,y,y,n,n\n",
            "democrat,y,y,y,n,n,n,y,y,y,n,n,n,n,n,n,?\n",
            "democrat,y,y,y,n,n,n,y,y,y,n,y,n,n,n,n,y\n",
            "democrat,y,y,y,n,n,n,y,y,y,n,y,?,n,n,n,y\n",
            "republican,y,y,n,y,y,y,y,n,n,n,n,y,y,y,n,y\n",
            "republican,n,y,n,y,y,y,y,n,n,n,y,y,y,y,n,y\n",
            "republican,n,y,n,y,y,y,n,n,n,y,n,y,y,y,n,n\n",
            "democrat,y,?,y,n,n,n,y,y,y,n,n,n,y,n,y,y\n",
            "democrat,y,y,y,n,n,n,y,y,y,n,n,n,n,n,y,y\n",
            "democrat,y,n,y,n,n,n,y,y,y,n,n,n,y,n,y,?\n",
            "republican,y,y,y,y,n,n,y,y,y,y,y,n,n,y,n,y\n",
            "democrat,y,y,y,n,n,n,y,y,y,n,y,n,n,n,y,?\n",
            "republican,y,n,y,y,y,n,y,n,y,y,n,n,y,y,n,y\n",
            "democrat,y,n,y,n,n,y,y,y,y,y,y,n,n,y,y,y\n",
            "democrat,n,y,y,y,y,y,n,n,n,y,y,n,y,y,n,n\n",
            "democrat,n,y,y,n,y,y,n,n,n,y,y,y,y,y,n,?\n",
            "democrat,n,y,y,y,y,y,n,y,y,y,y,y,y,y,n,y\n",
            "democrat,y,y,y,n,y,y,n,n,n,y,y,n,y,y,n,y\n",
            "republican,n,n,n,y,y,n,n,n,n,y,n,y,y,y,n,n\n",
            "democrat,y,n,y,n,n,y,y,y,y,y,n,y,n,y,n,?\n",
            "democrat,y,n,y,n,n,n,y,y,?,y,y,y,n,y,n,y\n",
            "republican,n,n,n,y,y,y,n,n,n,y,n,y,y,y,n,y\n",
            "republican,n,n,n,y,y,y,n,n,n,n,n,y,y,y,n,n\n",
            "republican,n,?,n,y,y,y,n,n,n,y,n,y,y,y,n,n\n",
            "democrat,n,n,y,n,y,y,n,n,n,y,y,y,y,y,n,y\n",
            "republican,n,n,n,y,y,y,n,n,n,y,n,y,y,y,n,n\n",
            "republican,n,n,n,y,y,y,n,n,n,n,n,y,y,y,n,n\n",
            "democrat,n,y,y,n,y,y,y,n,y,y,y,n,y,y,n,y\n",
            "republican,n,n,n,y,y,y,n,n,n,y,n,?,y,y,n,?\n",
            "democrat,y,n,y,n,n,n,y,y,y,y,n,n,n,n,y,y\n",
            "democrat,y,n,y,n,n,n,y,y,y,y,y,n,n,n,y,y\n",
            "democrat,y,y,y,n,n,n,y,y,n,y,y,n,n,?,y,y\n",
            "democrat,y,n,y,n,n,n,y,n,y,y,y,n,n,n,y,y\n",
            "democrat,y,n,y,n,y,y,n,n,n,n,n,n,n,n,n,y\n",
            "democrat,y,n,y,n,y,y,n,?,?,n,y,?,?,?,y,y\n",
            "democrat,n,n,?,n,y,y,n,n,n,n,y,y,y,y,n,y\n",
            "democrat,y,n,n,n,y,y,y,n,n,y,y,n,n,y,n,y\n",
            "democrat,y,y,y,n,n,y,y,y,y,y,n,n,n,n,n,y\n",
            "republican,n,n,n,y,y,y,n,n,n,y,?,y,y,y,n,n\n",
            "democrat,y,n,n,n,y,y,n,n,n,n,y,y,n,y,n,y\n",
            "democrat,y,n,y,n,y,y,y,n,n,n,y,n,n,y,n,y\n",
            "democrat,y,n,y,n,y,y,y,n,?,n,y,n,y,y,y,?\n",
            "democrat,y,n,n,n,y,y,?,n,?,n,n,n,n,y,?,n\n",
            "democrat,?,?,?,?,n,y,y,y,y,y,?,n,y,y,n,?\n",
            "democrat,y,y,y,n,n,n,n,y,y,n,y,n,n,n,y,y\n",
            "republican,n,y,n,y,y,y,n,n,n,n,n,y,y,y,n,y\n",
            "republican,n,?,?,?,?,?,?,?,?,?,?,?,?,y,?,?\n",
            "democrat,y,?,y,n,n,n,y,y,y,n,n,n,n,n,y,?\n",
            "democrat,y,?,y,n,n,n,y,y,y,n,n,n,n,n,y,?\n",
            "democrat,n,n,y,n,n,n,y,y,y,y,n,n,n,n,y,y\n",
            "republican,n,?,n,y,y,y,n,n,n,y,n,y,y,y,n,y\n",
            "democrat,n,?,y,n,n,y,y,y,n,y,n,n,n,n,y,?\n",
            "republican,n,?,n,y,y,y,n,n,n,y,n,y,y,y,n,n\n",
            "democrat,y,?,y,n,n,n,y,y,y,n,n,n,n,n,y,?\n",
            "democrat,n,?,y,n,?,?,y,y,y,y,?,?,n,n,y,y\n",
            "democrat,y,n,y,n,n,n,y,y,y,n,y,n,n,n,y,y\n",
            "republican,y,y,y,y,y,n,y,n,n,n,n,y,y,y,n,y\n",
            "democrat,n,y,y,n,n,n,n,y,y,y,y,n,n,n,y,y\n",
            "republican,n,n,n,y,y,y,n,n,n,n,n,y,y,y,n,n\n",
            "republican,n,?,?,y,y,y,n,n,n,y,n,y,y,y,?,y\n",
            "republican,n,?,n,y,y,y,n,n,n,y,n,y,y,y,n,y\n",
            "republican,n,n,n,y,y,y,n,n,n,y,n,y,n,y,n,y\n",
            "republican,y,?,n,y,y,y,n,y,n,n,n,y,y,y,n,y\n",
            "democrat,n,?,y,n,n,n,y,y,y,n,n,n,n,n,y,y\n",
            "republican,n,?,n,y,y,y,n,n,n,y,n,y,y,y,n,y\n",
            "republican,n,?,n,y,y,y,n,n,n,n,n,y,y,y,n,n\n",
            "democrat,n,?,y,n,n,n,y,y,y,y,y,n,n,y,y,y\n",
            "democrat,n,?,y,n,n,y,n,y,n,y,y,n,n,n,y,y\n",
            "democrat,?,?,y,n,n,n,y,y,?,n,?,?,?,?,?,?\n",
            "democrat,y,?,y,n,?,?,y,y,y,n,n,n,n,n,y,?\n",
            "democrat,n,n,y,n,n,y,n,y,y,y,n,n,n,y,n,y\n",
            "republican,n,n,n,y,y,y,n,n,n,y,n,y,y,y,n,?\n",
            "republican,n,n,n,y,y,y,n,n,n,y,n,y,y,y,n,y\n",
            "republican,n,n,n,y,y,y,n,n,n,n,n,y,y,y,n,?\n",
            "republican,n,n,n,y,y,y,n,n,n,y,n,y,y,y,n,n\n",
            "republican,n,y,n,y,y,y,n,n,n,y,y,y,y,n,n,y\n",
            "democrat,n,?,y,n,n,y,y,y,y,y,n,n,n,y,y,y\n",
            "democrat,n,n,y,n,n,y,y,y,y,y,n,n,n,y,n,y\n",
            "democrat,y,n,y,n,n,y,y,y,y,n,n,n,n,n,y,y\n",
            "republican,n,n,n,y,n,n,y,y,y,y,n,n,y,y,n,y\n",
            "republican,n,n,n,y,y,y,y,y,y,y,n,y,y,y,?,y\n",
            "republican,n,n,n,y,y,y,y,y,y,y,n,y,y,y,n,y\n",
            "democrat,?,y,n,n,n,n,y,y,y,y,y,n,n,y,y,y\n",
            "democrat,n,?,n,n,n,y,y,y,y,y,n,n,n,y,n,?\n",
            "democrat,n,n,y,n,n,y,y,y,y,y,n,n,n,y,?,y\n",
            "republican,n,y,n,y,y,y,n,n,n,n,n,y,y,y,n,y\n",
            "democrat,n,n,n,n,n,n,y,y,y,y,n,y,y,y,y,y\n",
            "republican,n,y,n,y,y,y,n,n,n,y,y,y,y,y,n,y\n",
            "democrat,n,n,y,n,n,n,y,y,y,y,n,n,y,n,y,y\n",
            "republican,y,y,n,y,y,y,n,n,n,y,n,y,y,y,n,y\n",
            "democrat,y,y,?,y,y,y,n,n,y,n,y,?,y,y,n,n\n",
            "democrat,n,y,y,n,n,y,n,y,y,y,y,n,y,n,y,y\n",
            "democrat,n,n,y,n,n,y,y,y,y,y,y,n,y,y,n,y\n",
            "republican,n,y,n,y,y,y,n,n,n,n,n,y,y,y,n,n\n",
            "republican,y,y,n,y,y,y,n,?,n,n,y,y,y,y,n,n\n",
            "republican,y,y,n,y,y,y,y,n,n,n,n,y,y,y,n,n\n",
            "democrat,n,y,y,n,n,y,n,y,y,n,y,n,?,?,?,?\n",
            "republican,n,y,n,y,y,y,n,n,n,y,n,y,y,y,n,n\n",
            "democrat,n,y,y,n,?,y,y,y,y,y,y,n,n,?,n,?\n",
            "democrat,n,y,n,n,y,y,n,n,n,n,n,y,y,y,y,y\n",
            "democrat,n,n,n,n,y,y,y,n,n,n,n,y,y,y,n,y\n",
            "democrat,n,y,y,n,y,y,y,n,n,n,y,y,y,y,n,y\n",
            "republican,n,y,n,y,y,y,y,n,n,n,n,y,y,y,n,y\n",
            "democrat,y,y,n,n,y,y,n,n,n,y,y,y,y,y,n,?\n",
            "democrat,n,y,y,n,n,y,y,y,y,y,y,n,y,n,y,?\n",
            "republican,y,n,y,y,y,y,y,y,n,y,n,y,n,y,y,y\n",
            "republican,y,n,y,y,y,y,y,y,n,y,y,y,n,y,y,y\n",
            "democrat,n,n,y,y,y,y,n,n,y,n,n,n,y,y,y,?\n",
            "democrat,y,n,y,n,n,n,y,y,y,y,y,n,n,y,n,y\n",
            "democrat,y,n,y,n,n,n,?,y,y,?,n,n,n,n,y,?\n",
            "republican,n,?,n,y,y,y,n,n,n,y,n,y,y,y,n,y\n",
            "democrat,n,y,y,n,n,n,y,y,y,y,n,n,?,n,y,y\n",
            "democrat,n,n,n,n,y,y,n,n,n,y,y,y,y,y,n,y\n",
            "democrat,y,?,y,n,n,n,y,y,y,n,n,n,n,n,y,?\n",
            "democrat,n,y,y,n,n,n,y,y,y,y,n,n,n,n,y,y\n",
            "republican,n,n,y,y,n,n,y,y,y,y,n,n,n,y,y,y\n",
            "democrat,n,n,y,n,n,n,y,y,y,y,y,?,n,n,y,y\n",
            "democrat,?,n,y,n,n,n,y,y,y,y,y,?,n,n,y,?\n",
            "democrat,y,n,y,n,n,n,y,y,y,y,n,n,n,n,y,y\n",
            "democrat,?,?,y,n,n,n,y,y,y,?,?,n,n,n,?,?\n",
            "democrat,n,n,y,n,n,n,y,y,y,y,y,n,n,n,y,y\n",
            "democrat,y,?,y,n,n,n,y,y,y,n,n,n,n,n,y,y\n",
            "democrat,?,?,?,?,?,?,?,?,y,?,?,?,?,?,?,?\n",
            "democrat,n,n,y,n,n,n,y,y,y,y,y,n,n,n,y,y\n",
            "democrat,y,n,y,n,n,n,y,y,y,y,n,?,n,n,y,y\n",
            "democrat,n,y,y,n,n,n,y,y,y,y,y,n,n,n,y,y\n",
            "democrat,y,n,y,n,n,n,y,y,y,n,n,n,n,n,y,?\n",
            "republican,y,?,n,y,y,y,y,y,n,n,n,y,?,y,?,?\n",
            "democrat,y,n,y,n,n,n,y,y,y,n,n,n,n,n,y,y\n",
            "republican,n,?,n,y,y,y,n,n,n,n,n,y,y,y,n,?\n",
            "republican,n,y,n,y,y,y,n,?,n,y,n,y,y,y,n,?\n",
            "democrat,n,n,n,n,n,y,y,y,y,n,y,n,n,y,y,y\n",
            "democrat,n,n,y,n,n,n,y,y,y,n,n,n,n,n,y,y\n",
            "democrat,n,n,y,n,n,y,y,?,y,y,y,n,n,n,y,y\n",
            "republican,n,n,n,y,y,y,n,n,n,n,n,y,y,y,n,?\n",
            "democrat,n,n,y,n,n,y,y,y,y,n,y,y,n,y,y,?\n",
            "republican,n,?,y,y,y,y,n,n,n,y,n,n,n,y,n,y\n",
            "democrat,n,n,y,n,n,n,y,y,y,y,y,n,?,n,y,?\n",
            "democrat,y,y,n,n,n,n,y,y,?,n,y,n,n,n,y,?\n",
            "democrat,n,n,y,n,n,n,y,y,y,n,n,n,n,y,y,y\n",
            "democrat,y,y,y,n,n,n,y,y,y,n,n,n,n,n,y,y\n",
            "democrat,y,n,y,n,n,y,y,y,y,y,y,n,n,n,y,y\n",
            "democrat,y,n,y,n,n,n,y,y,y,y,n,n,n,n,y,y\n",
            "republican,n,n,y,y,y,y,y,n,n,n,n,y,y,y,n,y\n",
            "democrat,n,n,y,n,n,y,y,y,y,y,n,y,n,n,n,y\n",
            "republican,n,n,n,y,y,y,n,n,n,y,n,y,n,y,n,y\n",
            "republican,y,?,n,y,y,y,y,n,n,y,n,y,y,y,n,y\n",
            "democrat,n,n,y,n,n,n,y,y,y,n,n,?,n,n,y,y\n",
            "democrat,y,y,y,n,n,n,y,y,y,y,y,n,n,n,n,y\n",
            "democrat,n,n,y,n,n,y,y,y,y,n,n,n,n,n,y,y\n",
            "republican,n,y,n,y,y,y,n,n,n,y,n,y,y,y,n,y\n",
            "democrat,n,n,y,n,n,n,y,y,y,n,y,n,n,n,y,y\n",
            "democrat,n,y,y,n,n,y,n,y,y,n,y,n,y,n,y,y\n",
            "republican,y,y,n,y,y,y,n,n,n,y,n,y,y,y,n,y\n",
            "democrat,n,y,y,y,y,y,n,n,n,y,y,y,y,y,y,?\n",
            "democrat,y,y,y,n,y,y,n,n,?,y,n,n,n,y,y,?\n",
            "republican,n,y,n,y,y,y,n,n,n,y,n,y,y,y,n,n\n",
            "democrat,y,?,y,n,n,n,y,y,y,n,?,n,n,n,y,?\n",
            "democrat,n,y,y,n,n,n,n,y,y,n,y,n,n,y,y,y\n",
            "democrat,n,n,y,n,n,n,y,y,y,n,n,n,n,n,y,?\n",
            "democrat,n,y,y,n,y,y,n,n,n,n,y,n,n,n,y,?\n",
            "democrat,y,n,y,n,n,n,y,y,y,n,y,n,n,n,y,?\n",
            "republican,n,n,n,y,y,n,n,n,n,n,n,y,y,y,n,y\n",
            "republican,n,y,n,y,y,y,n,n,n,y,n,?,y,y,n,n\n",
            "republican,n,?,n,y,y,y,n,n,n,n,n,y,y,y,n,y\n",
            "democrat,n,n,y,n,n,y,y,y,y,n,y,n,n,y,y,y\n",
            "democrat,y,n,y,n,n,n,y,y,y,n,n,n,n,n,?,y\n",
            "republican,n,y,n,y,y,y,n,n,n,n,n,y,y,?,n,y\n",
            "republican,n,y,y,y,y,y,y,n,y,y,n,y,y,y,n,y\n",
            "republican,n,y,n,y,y,y,n,n,n,n,n,y,y,y,n,y\n",
            "republican,n,y,n,y,y,y,n,n,y,y,n,y,y,y,n,y\n",
            "democrat,n,y,y,n,n,n,y,y,n,n,y,n,n,n,y,?\n",
            "republican,n,y,n,y,y,y,n,n,n,y,n,y,y,y,n,y\n",
            "democrat,n,n,y,n,n,y,y,y,y,y,n,y,n,y,y,?\n",
            "republican,n,n,n,y,y,y,n,n,n,y,n,y,n,y,n,y\n",
            "democrat,n,n,y,n,n,n,y,y,y,n,n,n,n,n,y,y\n",
            "democrat,y,n,y,n,n,y,y,y,n,n,n,y,y,n,n,y\n",
            "democrat,y,y,y,n,n,n,y,y,?,y,n,n,n,n,y,?\n",
            "republican,n,n,n,y,y,y,y,n,n,y,n,n,n,y,y,y\n",
            "republican,n,n,n,y,n,y,y,?,y,n,n,y,y,y,n,y\n",
            "democrat,y,n,y,n,n,n,y,y,y,y,y,n,n,y,y,y\n",
            "republican,n,n,n,n,y,y,y,n,n,n,n,?,n,y,y,y\n",
            "democrat,n,y,y,n,n,n,y,y,?,y,n,n,y,n,y,y\n",
            "democrat,y,n,y,n,n,n,n,y,y,y,n,n,n,n,y,y\n",
            "democrat,y,n,y,n,n,n,y,y,y,y,y,n,n,n,y,y\n",
            "democrat,n,n,y,n,y,n,y,y,y,n,n,n,n,y,?,y\n",
            "republican,n,y,n,y,y,y,?,n,n,n,n,?,y,y,n,n\n",
            "republican,?,?,?,?,?,?,?,?,?,?,?,?,?,?,?,?\n",
            "democrat,y,n,y,n,n,n,y,y,?,n,y,n,n,n,y,y\n",
            "republican,n,y,n,y,y,y,n,n,n,n,n,y,y,y,n,n\n",
            "republican,n,y,n,y,y,y,n,n,n,n,n,y,y,y,n,n\n",
            "democrat,y,y,y,n,n,y,y,y,y,n,n,n,n,n,y,y\n",
            "republican,n,y,n,y,y,y,n,n,n,n,n,y,y,y,n,y\n",
            "democrat,y,n,y,n,n,n,y,y,y,y,n,n,n,n,n,y\n",
            "democrat,y,n,y,n,n,n,y,y,y,y,n,n,n,y,y,y\n",
            "republican,n,n,n,y,y,n,n,n,n,n,n,y,n,y,n,n\n",
            "republican,n,n,n,y,y,n,n,n,n,n,n,y,n,y,?,y\n",
            "democrat,n,n,y,n,n,n,y,y,y,n,y,n,n,n,y,y\n",
            "democrat,y,n,y,n,n,n,y,y,y,n,n,n,n,n,n,y\n",
            "democrat,y,n,y,n,n,n,y,y,y,y,n,n,n,n,n,y\n",
            "democrat,y,n,y,n,n,?,y,y,y,n,?,?,n,?,?,?\n",
            "democrat,y,n,y,n,n,n,y,y,y,y,n,n,?,n,y,y\n",
            "democrat,y,n,y,n,n,n,y,y,y,n,n,n,n,n,y,?\n",
            "democrat,y,n,y,n,n,n,y,y,y,n,n,n,n,n,y,?\n",
            "democrat,y,n,y,n,n,n,y,y,y,y,n,n,n,n,n,y\n",
            "republican,n,n,n,y,y,y,n,n,n,y,n,y,n,y,n,y\n",
            "republican,y,n,n,n,n,n,y,y,y,y,n,n,n,y,n,y\n",
            "democrat,y,n,y,n,n,n,y,y,y,n,n,n,n,n,y,?\n",
            "democrat,y,n,y,n,n,n,y,y,y,n,n,n,n,n,n,y\n",
            "democrat,y,y,y,n,n,n,y,y,y,n,n,n,n,n,y,y\n",
            "democrat,n,y,y,n,n,y,y,y,y,n,?,n,n,n,n,y\n",
            "democrat,y,n,y,n,n,n,y,y,y,y,n,n,n,n,y,?\n",
            "republican,n,n,n,y,y,n,y,y,n,y,n,y,y,y,?,y\n",
            "republican,y,n,n,y,y,n,y,n,n,y,n,n,n,y,y,y\n",
            "democrat,n,n,y,n,y,y,n,n,n,n,?,n,y,y,n,n\n",
            "republican,n,n,n,y,y,y,n,n,n,n,n,y,y,y,y,n\n",
            "republican,n,n,y,y,y,y,y,y,n,y,n,n,n,y,n,y\n",
            "republican,n,n,n,y,y,y,n,n,n,n,n,y,y,y,n,y\n",
            "republican,n,n,n,y,y,y,n,n,n,y,n,y,y,y,n,n\n",
            "democrat,n,n,y,n,n,n,y,y,y,y,n,n,n,y,n,y\n",
            "republican,y,n,y,y,y,y,y,y,n,n,n,n,n,y,n,?\n",
            "republican,y,n,n,y,y,y,n,n,n,y,n,?,y,y,n,n\n",
            "republican,n,n,n,y,y,y,n,n,n,n,n,y,y,y,n,y\n",
            "democrat,n,n,y,n,n,y,y,y,y,y,y,n,n,n,?,y\n",
            "democrat,n,n,y,n,n,y,y,y,y,y,y,n,n,n,y,y\n",
            "democrat,n,n,y,n,n,y,?,y,?,y,y,y,n,y,y,?\n",
            "democrat,y,y,y,?,n,y,y,y,y,n,y,n,y,n,?,y\n",
            "democrat,y,y,y,n,y,y,n,y,n,y,y,n,y,y,y,y\n",
            "democrat,y,y,y,n,y,y,n,y,n,y,y,n,y,y,n,?\n",
            "democrat,y,n,y,n,?,y,?,y,y,y,n,n,y,y,n,y\n",
            "democrat,y,n,y,n,n,y,y,y,y,y,n,?,n,y,n,y\n",
            "democrat,y,n,y,n,n,y,y,y,n,y,y,n,y,y,y,y\n",
            "democrat,y,y,y,n,n,y,y,y,y,y,y,n,y,y,y,y\n",
            "democrat,n,y,y,n,n,y,y,y,n,y,y,n,y,y,n,?\n",
            "republican,n,y,n,y,y,y,?,?,n,y,n,y,?,?,?,?\n",
            "republican,n,n,y,y,y,y,n,n,n,y,n,y,y,y,y,y\n",
            "democrat,y,y,y,n,n,y,y,y,y,y,n,n,?,n,y,?\n",
            "democrat,n,y,n,n,n,n,y,y,y,y,y,n,n,n,y,y\n",
            "democrat,n,y,y,n,n,y,y,y,y,y,n,n,y,y,y,y\n",
            "republican,n,n,n,y,y,n,y,y,y,y,n,y,y,y,n,y\n",
            "democrat,n,n,?,n,n,y,y,y,y,n,n,n,n,n,y,y\n",
            "republican,n,n,n,y,y,y,y,n,n,y,n,y,y,y,n,y\n",
            "republican,n,n,n,y,y,y,n,n,n,n,n,y,y,y,n,n\n",
            "republican,n,y,n,y,y,y,n,n,n,y,n,y,y,y,n,?\n",
            "republican,n,n,n,y,y,y,n,n,n,y,n,y,y,y,n,n\n",
            "republican,n,n,n,y,y,y,n,n,n,n,n,y,y,y,n,n\n",
            "democrat,y,n,y,n,n,y,y,y,y,n,n,n,n,y,n,?\n",
            "republican,n,n,n,y,y,y,n,n,n,y,n,y,y,y,n,n\n",
            "democrat,y,n,n,n,n,y,y,y,y,y,n,n,n,y,y,y\n",
            "republican,n,n,n,y,y,y,n,n,n,y,n,y,y,y,y,n\n",
            "democrat,n,n,y,n,n,y,y,y,y,y,n,n,y,n,n,y\n",
            "democrat,y,y,y,n,n,n,y,y,y,y,n,n,n,n,y,y\n",
            "republican,n,y,y,y,y,y,n,n,n,y,n,y,y,y,n,y\n",
            "republican,n,y,n,y,y,y,y,y,n,n,y,y,y,y,y,y\n",
            "republican,n,y,y,y,y,y,y,?,n,n,n,n,?,?,y,?\n",
            "democrat,n,n,n,n,n,y,n,y,y,n,y,y,y,y,y,n\n",
            "democrat,y,n,n,n,n,n,y,y,y,y,n,n,n,n,y,y\n",
            "democrat,n,n,y,n,n,n,y,y,y,n,n,n,n,n,y,?\n",
            "democrat,y,n,y,n,n,n,y,y,y,n,n,n,n,n,y,?\n",
            "democrat,n,y,y,n,n,y,n,y,y,y,n,n,y,y,n,y\n",
            "democrat,y,y,y,n,n,n,y,y,y,y,n,n,y,n,n,y\n",
            "democrat,y,y,y,n,?,y,n,?,n,n,y,n,y,y,n,?\n",
            "democrat,y,y,y,n,y,y,n,y,?,y,n,n,y,y,n,?\n",
            "republican,n,y,n,y,y,y,n,n,n,n,y,y,y,y,n,n\n",
            "democrat,n,y,n,n,y,y,n,n,?,n,n,y,y,y,n,y\n",
            "democrat,y,y,n,y,n,n,y,y,y,n,y,n,n,y,n,y\n",
            "republican,n,y,n,y,y,y,n,n,n,n,n,y,y,y,n,y\n",
            "democrat,y,y,y,n,n,n,y,y,y,n,y,n,n,n,n,y\n",
            "democrat,y,?,y,n,n,y,y,y,y,y,n,n,n,n,y,?\n",
            "republican,n,y,n,y,y,y,n,n,n,y,n,y,y,y,n,n\n",
            "democrat,y,?,y,n,n,n,y,y,y,n,n,n,n,n,y,?\n",
            "democrat,y,n,y,n,n,n,y,y,y,n,y,n,n,n,y,?\n",
            "democrat,n,n,y,n,n,n,y,y,y,n,n,n,n,n,y,y\n",
            "democrat,n,y,y,n,n,y,y,y,?,n,y,y,n,n,y,y\n",
            "republican,n,n,n,y,y,y,n,n,n,y,y,y,y,y,n,?\n",
            "democrat,n,n,y,n,n,y,y,y,n,n,y,n,n,y,?,y\n",
            "democrat,y,n,y,n,n,n,y,y,y,n,n,n,n,n,y,y\n",
            "democrat,y,n,y,n,n,n,y,y,y,y,n,n,n,y,y,y\n",
            "republican,y,n,n,y,y,y,n,n,n,n,y,y,y,y,n,n\n",
            "republican,n,n,n,y,y,y,n,n,n,y,y,y,n,y,n,y\n",
            "democrat,n,?,y,?,n,y,y,y,y,y,y,n,?,?,y,y\n",
            "democrat,n,y,y,n,y,?,y,n,n,y,y,n,y,n,y,y\n",
            "republican,n,n,n,y,y,n,y,n,y,y,n,n,n,y,n,y\n",
            "democrat,n,n,y,n,n,n,y,y,y,y,y,n,n,n,y,y\n",
            "republican,n,n,n,y,y,y,y,n,n,y,n,y,n,y,y,y\n",
            "republican,n,n,n,y,y,y,n,n,n,y,n,y,y,y,n,y\n",
            "republican,y,n,n,y,y,y,n,n,n,y,n,y,y,y,n,n\n",
            "democrat,y,n,y,n,n,n,y,y,y,y,n,y,n,n,y,?\n",
            "republican,n,y,y,y,y,y,y,y,y,n,n,y,y,y,n,y\n",
            "democrat,n,y,n,n,n,y,y,n,y,n,y,n,n,n,y,y\n",
            "republican,n,n,y,y,y,y,y,y,y,y,n,y,y,y,y,y\n",
            "democrat,n,y,n,y,n,y,y,y,y,n,y,n,y,n,y,?\n",
            "republican,n,n,y,y,y,y,y,n,n,y,y,y,y,y,n,y\n",
            "democrat,n,y,y,n,n,y,y,y,y,y,n,?,n,n,y,y\n",
            "republican,y,n,y,y,n,n,n,y,y,y,n,n,n,y,y,y\n",
            "republican,n,n,n,y,y,y,n,n,n,n,n,y,y,y,n,n\n",
            "republican,n,n,n,y,y,y,n,n,n,n,n,y,y,y,n,n\n",
            "democrat,y,y,y,n,n,y,y,y,y,y,y,y,y,y,n,?\n",
            "republican,n,n,n,y,y,y,n,n,n,y,?,y,y,y,n,y\n",
            "democrat,y,n,y,n,n,y,y,y,y,y,n,n,y,n,n,y\n",
            "democrat,y,n,y,n,y,y,y,n,y,y,n,n,y,y,n,?\n",
            "democrat,y,y,y,n,n,y,y,y,y,y,y,y,y,n,n,y\n",
            "republican,y,y,n,y,y,y,n,n,n,y,y,n,y,n,n,n\n",
            "republican,y,y,n,y,y,y,n,n,n,n,y,n,y,y,n,y\n",
            "democrat,n,y,n,n,y,y,n,n,n,y,y,n,y,y,n,n\n",
            "democrat,y,n,y,n,n,n,y,y,n,y,y,n,n,n,n,?\n",
            "democrat,y,y,y,n,y,y,y,y,n,y,y,n,n,n,y,?\n",
            "democrat,n,y,y,n,n,y,y,y,n,y,n,n,n,n,y,y\n",
            "republican,n,y,n,y,y,y,n,n,n,n,n,n,y,y,n,y\n",
            "democrat,y,y,y,n,?,y,y,y,n,y,?,?,n,n,y,y\n",
            "democrat,y,y,y,n,?,n,y,y,y,y,n,n,n,n,y,?\n",
            "democrat,n,y,y,y,y,y,n,n,n,n,y,y,?,y,n,n\n",
            "democrat,n,y,y,?,y,y,n,y,n,y,?,n,y,y,?,y\n",
            "republican,n,y,n,y,y,y,n,n,n,n,n,y,y,y,n,y\n",
            "democrat,n,y,n,y,y,y,n,n,n,n,y,y,n,y,n,n\n",
            "democrat,y,?,y,n,n,n,y,y,y,n,y,n,n,n,y,y\n",
            "republican,n,y,n,y,y,y,?,?,n,n,?,?,y,?,?,?\n",
            "republican,n,n,n,y,y,y,n,n,n,n,n,y,y,y,n,y\n",
            "republican,n,n,n,y,y,y,n,n,n,n,n,y,y,y,n,y\n",
            "democrat,y,y,y,n,n,y,?,y,y,n,y,n,y,n,y,y\n",
            "democrat,y,y,y,n,y,y,y,y,y,y,y,n,y,y,n,?\n",
            "democrat,y,y,n,y,y,y,n,n,n,n,y,n,y,y,n,?\n",
            "democrat,y,y,y,n,y,y,n,y,y,y,y,n,n,n,n,y\n",
            "democrat,y,y,y,y,y,y,n,n,n,n,y,y,y,y,n,y\n",
            "democrat,y,y,n,n,y,y,n,n,n,n,y,y,y,y,y,n\n",
            "democrat,n,?,y,n,y,y,n,y,n,n,y,n,n,n,n,?\n",
            "democrat,y,y,y,n,y,y,n,y,y,n,y,n,n,y,n,?\n",
            "democrat,n,y,y,y,y,y,n,n,n,n,n,y,y,y,n,?\n",
            "democrat,y,n,y,n,n,n,y,y,y,?,y,n,n,n,y,?\n",
            "democrat,?,?,n,n,?,y,?,n,n,n,y,y,n,y,n,?\n",
            "democrat,y,y,n,n,n,n,n,y,y,n,y,n,n,n,y,n\n",
            "republican,y,y,n,y,y,y,n,n,n,n,y,y,y,y,n,y\n",
            "republican,?,?,?,?,n,y,n,y,y,n,n,y,y,n,n,?\n",
            "democrat,y,y,?,?,?,y,n,n,n,n,y,n,y,n,n,y\n",
            "democrat,y,y,y,?,n,n,n,y,n,n,y,?,n,n,y,y\n",
            "democrat,y,y,y,n,y,y,n,y,n,n,y,n,y,n,y,y\n",
            "democrat,y,y,n,n,y,?,n,n,n,n,y,n,y,y,n,y\n",
            "democrat,n,y,y,n,y,y,n,y,n,n,n,n,n,n,n,y\n",
            "republican,n,y,n,y,?,y,n,n,n,y,n,y,y,y,n,n\n",
            "republican,n,y,n,y,y,y,n,?,n,n,?,?,?,y,n,?\n",
            "republican,n,y,n,y,y,y,n,n,n,y,y,y,y,y,n,n\n",
            "republican,?,n,y,y,n,y,y,y,y,y,n,y,n,y,n,y\n",
            "republican,n,y,n,y,y,y,n,n,n,y,n,y,?,y,n,n\n",
            "republican,y,y,n,y,y,y,n,n,n,y,n,y,y,y,n,y\n",
            "republican,n,n,n,y,y,y,n,n,n,n,n,y,y,y,n,y\n",
            "democrat,y,n,y,n,y,y,n,n,y,y,n,n,y,y,n,y\n",
            "democrat,n,n,n,y,y,y,n,n,n,n,y,y,y,y,n,n\n",
            "democrat,y,n,y,n,n,y,y,y,y,n,n,y,?,y,y,y\n",
            "republican,n,n,n,y,y,y,n,n,n,n,n,y,y,y,n,n\n",
            "republican,n,n,n,y,y,y,n,n,n,n,y,y,y,y,n,y\n",
            "democrat,y,n,y,n,n,y,y,y,y,y,y,n,n,n,n,y\n",
            "republican,n,n,n,y,y,y,n,n,n,y,n,y,y,y,n,y\n",
            "republican,y,y,y,y,y,y,y,y,n,y,?,?,?,y,n,y\n",
            "democrat,y,y,y,n,n,n,y,y,y,n,n,n,n,n,n,y\n",
            "democrat,n,y,y,n,n,y,y,y,?,y,n,n,n,n,n,y\n",
            "republican,y,y,n,y,y,y,n,n,n,y,n,n,y,y,n,y\n",
            "democrat,y,y,y,n,n,n,y,y,y,y,y,n,y,n,n,y\n",
            "democrat,y,y,y,n,n,n,y,y,n,y,n,n,n,n,n,y\n",
            "democrat,y,y,y,n,n,n,y,y,y,n,n,n,n,n,n,y\n",
            "republican,y,y,y,y,y,y,y,y,n,y,n,n,y,y,n,y\n",
            "democrat,n,y,y,n,y,y,y,y,n,n,y,n,y,n,y,y\n",
            "democrat,n,n,y,n,n,y,y,y,y,n,y,n,n,n,y,y\n",
            "democrat,n,y,y,n,n,y,y,y,y,n,y,n,n,y,y,y\n",
            "democrat,n,y,y,n,n,?,y,y,y,y,y,n,?,y,y,y\n",
            "democrat,n,n,y,n,n,n,y,y,n,y,y,n,n,n,y,?\n",
            "democrat,y,n,y,n,n,n,y,y,y,y,n,n,n,n,y,y\n",
            "republican,n,n,n,y,y,y,y,y,n,y,n,y,y,y,n,y\n",
            "democrat,?,?,?,n,n,n,y,y,y,y,n,n,y,n,y,y\n",
            "democrat,y,n,y,n,?,n,y,y,y,y,n,y,n,?,y,y\n",
            "republican,n,n,y,y,y,y,n,n,y,y,n,y,y,y,n,y\n",
            "democrat,n,n,y,n,n,n,y,y,y,y,n,n,n,n,n,y\n",
            "republican,n,?,n,y,y,y,n,n,n,n,y,y,y,y,n,y\n",
            "republican,n,n,n,y,y,y,?,?,?,?,n,y,y,y,n,y\n",
            "republican,n,y,n,y,y,y,n,n,n,y,n,y,y,y,?,n\n"
          ],
          "name": "stdout"
        }
      ]
    },
    {
      "cell_type": "code",
      "metadata": {
        "id": "YVzdu3K44-aj",
        "colab_type": "code",
        "colab": {}
      },
      "source": [
        "# reading data into a dataframe\n",
        "\n",
        "import pandas as pd\n",
        "voting_data = pd.read_csv(voting_data_url, header=None)\n"
      ],
      "execution_count": 0,
      "outputs": []
    },
    {
      "cell_type": "code",
      "metadata": {
        "id": "aecHlSSH6j9n",
        "colab_type": "code",
        "colab": {
          "base_uri": "https://localhost:8080/",
          "height": 34
        },
        "outputId": "9a43dcea-d1a9-4180-e558-4b78bac85b39"
      },
      "source": [
        "voting_data.shape"
      ],
      "execution_count": 3,
      "outputs": [
        {
          "output_type": "execute_result",
          "data": {
            "text/plain": [
              "(435, 17)"
            ]
          },
          "metadata": {
            "tags": []
          },
          "execution_count": 3
        }
      ]
    },
    {
      "cell_type": "code",
      "metadata": {
        "id": "6ifP18tf5WGX",
        "colab_type": "code",
        "colab": {
          "base_uri": "https://localhost:8080/",
          "height": 221
        },
        "outputId": "e2d37632-42a0-49cb-8a74-5c003a0ebbc8"
      },
      "source": [
        "# cleaning data by adding named columns\n",
        "voting_data.columns = ['party',\t'handicapped-infants', \n",
        "                       'water-project',\t'budget',\t'physician-fee-freeze',\t\n",
        "                       'el-salvador-aid',\t'religious-groups',\t\n",
        "                       'anti-satellite-ban', 'aid-to-contras', 'mx-missile',\t\n",
        "                       'immigration', 'synfuels', 'education',\n",
        "                       'right-to-sue',\t'crime', 'duty-free', 'south-africa']\n",
        "voting_data.head()"
      ],
      "execution_count": 4,
      "outputs": [
        {
          "output_type": "execute_result",
          "data": {
            "text/html": [
              "<div>\n",
              "<style scoped>\n",
              "    .dataframe tbody tr th:only-of-type {\n",
              "        vertical-align: middle;\n",
              "    }\n",
              "\n",
              "    .dataframe tbody tr th {\n",
              "        vertical-align: top;\n",
              "    }\n",
              "\n",
              "    .dataframe thead th {\n",
              "        text-align: right;\n",
              "    }\n",
              "</style>\n",
              "<table border=\"1\" class=\"dataframe\">\n",
              "  <thead>\n",
              "    <tr style=\"text-align: right;\">\n",
              "      <th></th>\n",
              "      <th>party</th>\n",
              "      <th>handicapped-infants</th>\n",
              "      <th>water-project</th>\n",
              "      <th>budget</th>\n",
              "      <th>physician-fee-freeze</th>\n",
              "      <th>el-salvador-aid</th>\n",
              "      <th>religious-groups</th>\n",
              "      <th>anti-satellite-ban</th>\n",
              "      <th>aid-to-contras</th>\n",
              "      <th>mx-missile</th>\n",
              "      <th>immigration</th>\n",
              "      <th>synfuels</th>\n",
              "      <th>education</th>\n",
              "      <th>right-to-sue</th>\n",
              "      <th>crime</th>\n",
              "      <th>duty-free</th>\n",
              "      <th>south-africa</th>\n",
              "    </tr>\n",
              "  </thead>\n",
              "  <tbody>\n",
              "    <tr>\n",
              "      <th>0</th>\n",
              "      <td>republican</td>\n",
              "      <td>n</td>\n",
              "      <td>y</td>\n",
              "      <td>n</td>\n",
              "      <td>y</td>\n",
              "      <td>y</td>\n",
              "      <td>y</td>\n",
              "      <td>n</td>\n",
              "      <td>n</td>\n",
              "      <td>n</td>\n",
              "      <td>y</td>\n",
              "      <td>?</td>\n",
              "      <td>y</td>\n",
              "      <td>y</td>\n",
              "      <td>y</td>\n",
              "      <td>n</td>\n",
              "      <td>y</td>\n",
              "    </tr>\n",
              "    <tr>\n",
              "      <th>1</th>\n",
              "      <td>republican</td>\n",
              "      <td>n</td>\n",
              "      <td>y</td>\n",
              "      <td>n</td>\n",
              "      <td>y</td>\n",
              "      <td>y</td>\n",
              "      <td>y</td>\n",
              "      <td>n</td>\n",
              "      <td>n</td>\n",
              "      <td>n</td>\n",
              "      <td>n</td>\n",
              "      <td>n</td>\n",
              "      <td>y</td>\n",
              "      <td>y</td>\n",
              "      <td>y</td>\n",
              "      <td>n</td>\n",
              "      <td>?</td>\n",
              "    </tr>\n",
              "    <tr>\n",
              "      <th>2</th>\n",
              "      <td>democrat</td>\n",
              "      <td>?</td>\n",
              "      <td>y</td>\n",
              "      <td>y</td>\n",
              "      <td>?</td>\n",
              "      <td>y</td>\n",
              "      <td>y</td>\n",
              "      <td>n</td>\n",
              "      <td>n</td>\n",
              "      <td>n</td>\n",
              "      <td>n</td>\n",
              "      <td>y</td>\n",
              "      <td>n</td>\n",
              "      <td>y</td>\n",
              "      <td>y</td>\n",
              "      <td>n</td>\n",
              "      <td>n</td>\n",
              "    </tr>\n",
              "    <tr>\n",
              "      <th>3</th>\n",
              "      <td>democrat</td>\n",
              "      <td>n</td>\n",
              "      <td>y</td>\n",
              "      <td>y</td>\n",
              "      <td>n</td>\n",
              "      <td>?</td>\n",
              "      <td>y</td>\n",
              "      <td>n</td>\n",
              "      <td>n</td>\n",
              "      <td>n</td>\n",
              "      <td>n</td>\n",
              "      <td>y</td>\n",
              "      <td>n</td>\n",
              "      <td>y</td>\n",
              "      <td>n</td>\n",
              "      <td>n</td>\n",
              "      <td>y</td>\n",
              "    </tr>\n",
              "    <tr>\n",
              "      <th>4</th>\n",
              "      <td>democrat</td>\n",
              "      <td>y</td>\n",
              "      <td>y</td>\n",
              "      <td>y</td>\n",
              "      <td>n</td>\n",
              "      <td>y</td>\n",
              "      <td>y</td>\n",
              "      <td>n</td>\n",
              "      <td>n</td>\n",
              "      <td>n</td>\n",
              "      <td>n</td>\n",
              "      <td>y</td>\n",
              "      <td>?</td>\n",
              "      <td>y</td>\n",
              "      <td>y</td>\n",
              "      <td>y</td>\n",
              "      <td>y</td>\n",
              "    </tr>\n",
              "  </tbody>\n",
              "</table>\n",
              "</div>"
            ],
            "text/plain": [
              "        party handicapped-infants water-project  ... crime duty-free south-africa\n",
              "0  republican                   n             y  ...     y         n            y\n",
              "1  republican                   n             y  ...     y         n            ?\n",
              "2    democrat                   ?             y  ...     y         n            n\n",
              "3    democrat                   n             y  ...     n         n            y\n",
              "4    democrat                   y             y  ...     y         y            y\n",
              "\n",
              "[5 rows x 17 columns]"
            ]
          },
          "metadata": {
            "tags": []
          },
          "execution_count": 4
        }
      ]
    },
    {
      "cell_type": "code",
      "metadata": {
        "id": "Vpw0E77yBV4R",
        "colab_type": "code",
        "colab": {
          "base_uri": "https://localhost:8080/",
          "height": 221
        },
        "outputId": "5beae125-9dc7-4146-b0ce-497fc61ad1b8"
      },
      "source": [
        "voting_data.set_index('party')\n",
        "voting_data.head()"
      ],
      "execution_count": 5,
      "outputs": [
        {
          "output_type": "execute_result",
          "data": {
            "text/html": [
              "<div>\n",
              "<style scoped>\n",
              "    .dataframe tbody tr th:only-of-type {\n",
              "        vertical-align: middle;\n",
              "    }\n",
              "\n",
              "    .dataframe tbody tr th {\n",
              "        vertical-align: top;\n",
              "    }\n",
              "\n",
              "    .dataframe thead th {\n",
              "        text-align: right;\n",
              "    }\n",
              "</style>\n",
              "<table border=\"1\" class=\"dataframe\">\n",
              "  <thead>\n",
              "    <tr style=\"text-align: right;\">\n",
              "      <th></th>\n",
              "      <th>party</th>\n",
              "      <th>handicapped-infants</th>\n",
              "      <th>water-project</th>\n",
              "      <th>budget</th>\n",
              "      <th>physician-fee-freeze</th>\n",
              "      <th>el-salvador-aid</th>\n",
              "      <th>religious-groups</th>\n",
              "      <th>anti-satellite-ban</th>\n",
              "      <th>aid-to-contras</th>\n",
              "      <th>mx-missile</th>\n",
              "      <th>immigration</th>\n",
              "      <th>synfuels</th>\n",
              "      <th>education</th>\n",
              "      <th>right-to-sue</th>\n",
              "      <th>crime</th>\n",
              "      <th>duty-free</th>\n",
              "      <th>south-africa</th>\n",
              "    </tr>\n",
              "  </thead>\n",
              "  <tbody>\n",
              "    <tr>\n",
              "      <th>0</th>\n",
              "      <td>republican</td>\n",
              "      <td>n</td>\n",
              "      <td>y</td>\n",
              "      <td>n</td>\n",
              "      <td>y</td>\n",
              "      <td>y</td>\n",
              "      <td>y</td>\n",
              "      <td>n</td>\n",
              "      <td>n</td>\n",
              "      <td>n</td>\n",
              "      <td>y</td>\n",
              "      <td>?</td>\n",
              "      <td>y</td>\n",
              "      <td>y</td>\n",
              "      <td>y</td>\n",
              "      <td>n</td>\n",
              "      <td>y</td>\n",
              "    </tr>\n",
              "    <tr>\n",
              "      <th>1</th>\n",
              "      <td>republican</td>\n",
              "      <td>n</td>\n",
              "      <td>y</td>\n",
              "      <td>n</td>\n",
              "      <td>y</td>\n",
              "      <td>y</td>\n",
              "      <td>y</td>\n",
              "      <td>n</td>\n",
              "      <td>n</td>\n",
              "      <td>n</td>\n",
              "      <td>n</td>\n",
              "      <td>n</td>\n",
              "      <td>y</td>\n",
              "      <td>y</td>\n",
              "      <td>y</td>\n",
              "      <td>n</td>\n",
              "      <td>?</td>\n",
              "    </tr>\n",
              "    <tr>\n",
              "      <th>2</th>\n",
              "      <td>democrat</td>\n",
              "      <td>?</td>\n",
              "      <td>y</td>\n",
              "      <td>y</td>\n",
              "      <td>?</td>\n",
              "      <td>y</td>\n",
              "      <td>y</td>\n",
              "      <td>n</td>\n",
              "      <td>n</td>\n",
              "      <td>n</td>\n",
              "      <td>n</td>\n",
              "      <td>y</td>\n",
              "      <td>n</td>\n",
              "      <td>y</td>\n",
              "      <td>y</td>\n",
              "      <td>n</td>\n",
              "      <td>n</td>\n",
              "    </tr>\n",
              "    <tr>\n",
              "      <th>3</th>\n",
              "      <td>democrat</td>\n",
              "      <td>n</td>\n",
              "      <td>y</td>\n",
              "      <td>y</td>\n",
              "      <td>n</td>\n",
              "      <td>?</td>\n",
              "      <td>y</td>\n",
              "      <td>n</td>\n",
              "      <td>n</td>\n",
              "      <td>n</td>\n",
              "      <td>n</td>\n",
              "      <td>y</td>\n",
              "      <td>n</td>\n",
              "      <td>y</td>\n",
              "      <td>n</td>\n",
              "      <td>n</td>\n",
              "      <td>y</td>\n",
              "    </tr>\n",
              "    <tr>\n",
              "      <th>4</th>\n",
              "      <td>democrat</td>\n",
              "      <td>y</td>\n",
              "      <td>y</td>\n",
              "      <td>y</td>\n",
              "      <td>n</td>\n",
              "      <td>y</td>\n",
              "      <td>y</td>\n",
              "      <td>n</td>\n",
              "      <td>n</td>\n",
              "      <td>n</td>\n",
              "      <td>n</td>\n",
              "      <td>y</td>\n",
              "      <td>?</td>\n",
              "      <td>y</td>\n",
              "      <td>y</td>\n",
              "      <td>y</td>\n",
              "      <td>y</td>\n",
              "    </tr>\n",
              "  </tbody>\n",
              "</table>\n",
              "</div>"
            ],
            "text/plain": [
              "        party handicapped-infants water-project  ... crime duty-free south-africa\n",
              "0  republican                   n             y  ...     y         n            y\n",
              "1  republican                   n             y  ...     y         n            ?\n",
              "2    democrat                   ?             y  ...     y         n            n\n",
              "3    democrat                   n             y  ...     n         n            y\n",
              "4    democrat                   y             y  ...     y         y            y\n",
              "\n",
              "[5 rows x 17 columns]"
            ]
          },
          "metadata": {
            "tags": []
          },
          "execution_count": 5
        }
      ]
    },
    {
      "cell_type": "code",
      "metadata": {
        "id": "o-otDr0e6ytd",
        "colab_type": "code",
        "colab": {
          "base_uri": "https://localhost:8080/",
          "height": 221
        },
        "outputId": "940c689a-7c4e-46b5-e3db-6d6056c2a74f"
      },
      "source": [
        "# cleaning data by changing 'y' and 'n' to \"1\", and \"0\" for ease of use\n",
        "voting_data_2 = voting_data.replace({'y': 1, 'n': 0})  \n",
        "voting_data_2.head() \n",
        "                                           \n",
        "                                      "
      ],
      "execution_count": 6,
      "outputs": [
        {
          "output_type": "execute_result",
          "data": {
            "text/html": [
              "<div>\n",
              "<style scoped>\n",
              "    .dataframe tbody tr th:only-of-type {\n",
              "        vertical-align: middle;\n",
              "    }\n",
              "\n",
              "    .dataframe tbody tr th {\n",
              "        vertical-align: top;\n",
              "    }\n",
              "\n",
              "    .dataframe thead th {\n",
              "        text-align: right;\n",
              "    }\n",
              "</style>\n",
              "<table border=\"1\" class=\"dataframe\">\n",
              "  <thead>\n",
              "    <tr style=\"text-align: right;\">\n",
              "      <th></th>\n",
              "      <th>party</th>\n",
              "      <th>handicapped-infants</th>\n",
              "      <th>water-project</th>\n",
              "      <th>budget</th>\n",
              "      <th>physician-fee-freeze</th>\n",
              "      <th>el-salvador-aid</th>\n",
              "      <th>religious-groups</th>\n",
              "      <th>anti-satellite-ban</th>\n",
              "      <th>aid-to-contras</th>\n",
              "      <th>mx-missile</th>\n",
              "      <th>immigration</th>\n",
              "      <th>synfuels</th>\n",
              "      <th>education</th>\n",
              "      <th>right-to-sue</th>\n",
              "      <th>crime</th>\n",
              "      <th>duty-free</th>\n",
              "      <th>south-africa</th>\n",
              "    </tr>\n",
              "  </thead>\n",
              "  <tbody>\n",
              "    <tr>\n",
              "      <th>0</th>\n",
              "      <td>republican</td>\n",
              "      <td>0</td>\n",
              "      <td>1</td>\n",
              "      <td>0</td>\n",
              "      <td>1</td>\n",
              "      <td>1</td>\n",
              "      <td>1</td>\n",
              "      <td>0</td>\n",
              "      <td>0</td>\n",
              "      <td>0</td>\n",
              "      <td>1</td>\n",
              "      <td>?</td>\n",
              "      <td>1</td>\n",
              "      <td>1</td>\n",
              "      <td>1</td>\n",
              "      <td>0</td>\n",
              "      <td>1</td>\n",
              "    </tr>\n",
              "    <tr>\n",
              "      <th>1</th>\n",
              "      <td>republican</td>\n",
              "      <td>0</td>\n",
              "      <td>1</td>\n",
              "      <td>0</td>\n",
              "      <td>1</td>\n",
              "      <td>1</td>\n",
              "      <td>1</td>\n",
              "      <td>0</td>\n",
              "      <td>0</td>\n",
              "      <td>0</td>\n",
              "      <td>0</td>\n",
              "      <td>0</td>\n",
              "      <td>1</td>\n",
              "      <td>1</td>\n",
              "      <td>1</td>\n",
              "      <td>0</td>\n",
              "      <td>?</td>\n",
              "    </tr>\n",
              "    <tr>\n",
              "      <th>2</th>\n",
              "      <td>democrat</td>\n",
              "      <td>?</td>\n",
              "      <td>1</td>\n",
              "      <td>1</td>\n",
              "      <td>?</td>\n",
              "      <td>1</td>\n",
              "      <td>1</td>\n",
              "      <td>0</td>\n",
              "      <td>0</td>\n",
              "      <td>0</td>\n",
              "      <td>0</td>\n",
              "      <td>1</td>\n",
              "      <td>0</td>\n",
              "      <td>1</td>\n",
              "      <td>1</td>\n",
              "      <td>0</td>\n",
              "      <td>0</td>\n",
              "    </tr>\n",
              "    <tr>\n",
              "      <th>3</th>\n",
              "      <td>democrat</td>\n",
              "      <td>0</td>\n",
              "      <td>1</td>\n",
              "      <td>1</td>\n",
              "      <td>0</td>\n",
              "      <td>?</td>\n",
              "      <td>1</td>\n",
              "      <td>0</td>\n",
              "      <td>0</td>\n",
              "      <td>0</td>\n",
              "      <td>0</td>\n",
              "      <td>1</td>\n",
              "      <td>0</td>\n",
              "      <td>1</td>\n",
              "      <td>0</td>\n",
              "      <td>0</td>\n",
              "      <td>1</td>\n",
              "    </tr>\n",
              "    <tr>\n",
              "      <th>4</th>\n",
              "      <td>democrat</td>\n",
              "      <td>1</td>\n",
              "      <td>1</td>\n",
              "      <td>1</td>\n",
              "      <td>0</td>\n",
              "      <td>1</td>\n",
              "      <td>1</td>\n",
              "      <td>0</td>\n",
              "      <td>0</td>\n",
              "      <td>0</td>\n",
              "      <td>0</td>\n",
              "      <td>1</td>\n",
              "      <td>?</td>\n",
              "      <td>1</td>\n",
              "      <td>1</td>\n",
              "      <td>1</td>\n",
              "      <td>1</td>\n",
              "    </tr>\n",
              "  </tbody>\n",
              "</table>\n",
              "</div>"
            ],
            "text/plain": [
              "        party handicapped-infants water-project  ... crime duty-free south-africa\n",
              "0  republican                   0             1  ...     1         0            1\n",
              "1  republican                   0             1  ...     1         0            ?\n",
              "2    democrat                   ?             1  ...     1         0            0\n",
              "3    democrat                   0             1  ...     0         0            1\n",
              "4    democrat                   1             1  ...     1         1            1\n",
              "\n",
              "[5 rows x 17 columns]"
            ]
          },
          "metadata": {
            "tags": []
          },
          "execution_count": 6
        }
      ]
    },
    {
      "cell_type": "code",
      "metadata": {
        "id": "lkmMHQnC72Ob",
        "colab_type": "code",
        "colab": {
          "base_uri": "https://localhost:8080/",
          "height": 221
        },
        "outputId": "ea13463c-fd70-4ec2-f0d8-0df488cdb0a1"
      },
      "source": [
        "#cleaning data by replacing \"?\" with NaN values\n",
        "\n",
        "import numpy as np\n",
        "\n",
        "voting_data_cleaned = voting_data_2.replace({'?': np.NaN})  \n",
        "voting_data_cleaned.head() "
      ],
      "execution_count": 7,
      "outputs": [
        {
          "output_type": "execute_result",
          "data": {
            "text/html": [
              "<div>\n",
              "<style scoped>\n",
              "    .dataframe tbody tr th:only-of-type {\n",
              "        vertical-align: middle;\n",
              "    }\n",
              "\n",
              "    .dataframe tbody tr th {\n",
              "        vertical-align: top;\n",
              "    }\n",
              "\n",
              "    .dataframe thead th {\n",
              "        text-align: right;\n",
              "    }\n",
              "</style>\n",
              "<table border=\"1\" class=\"dataframe\">\n",
              "  <thead>\n",
              "    <tr style=\"text-align: right;\">\n",
              "      <th></th>\n",
              "      <th>party</th>\n",
              "      <th>handicapped-infants</th>\n",
              "      <th>water-project</th>\n",
              "      <th>budget</th>\n",
              "      <th>physician-fee-freeze</th>\n",
              "      <th>el-salvador-aid</th>\n",
              "      <th>religious-groups</th>\n",
              "      <th>anti-satellite-ban</th>\n",
              "      <th>aid-to-contras</th>\n",
              "      <th>mx-missile</th>\n",
              "      <th>immigration</th>\n",
              "      <th>synfuels</th>\n",
              "      <th>education</th>\n",
              "      <th>right-to-sue</th>\n",
              "      <th>crime</th>\n",
              "      <th>duty-free</th>\n",
              "      <th>south-africa</th>\n",
              "    </tr>\n",
              "  </thead>\n",
              "  <tbody>\n",
              "    <tr>\n",
              "      <th>0</th>\n",
              "      <td>republican</td>\n",
              "      <td>0.0</td>\n",
              "      <td>1.0</td>\n",
              "      <td>0.0</td>\n",
              "      <td>1.0</td>\n",
              "      <td>1.0</td>\n",
              "      <td>1.0</td>\n",
              "      <td>0.0</td>\n",
              "      <td>0.0</td>\n",
              "      <td>0.0</td>\n",
              "      <td>1.0</td>\n",
              "      <td>NaN</td>\n",
              "      <td>1.0</td>\n",
              "      <td>1.0</td>\n",
              "      <td>1.0</td>\n",
              "      <td>0.0</td>\n",
              "      <td>1.0</td>\n",
              "    </tr>\n",
              "    <tr>\n",
              "      <th>1</th>\n",
              "      <td>republican</td>\n",
              "      <td>0.0</td>\n",
              "      <td>1.0</td>\n",
              "      <td>0.0</td>\n",
              "      <td>1.0</td>\n",
              "      <td>1.0</td>\n",
              "      <td>1.0</td>\n",
              "      <td>0.0</td>\n",
              "      <td>0.0</td>\n",
              "      <td>0.0</td>\n",
              "      <td>0.0</td>\n",
              "      <td>0.0</td>\n",
              "      <td>1.0</td>\n",
              "      <td>1.0</td>\n",
              "      <td>1.0</td>\n",
              "      <td>0.0</td>\n",
              "      <td>NaN</td>\n",
              "    </tr>\n",
              "    <tr>\n",
              "      <th>2</th>\n",
              "      <td>democrat</td>\n",
              "      <td>NaN</td>\n",
              "      <td>1.0</td>\n",
              "      <td>1.0</td>\n",
              "      <td>NaN</td>\n",
              "      <td>1.0</td>\n",
              "      <td>1.0</td>\n",
              "      <td>0.0</td>\n",
              "      <td>0.0</td>\n",
              "      <td>0.0</td>\n",
              "      <td>0.0</td>\n",
              "      <td>1.0</td>\n",
              "      <td>0.0</td>\n",
              "      <td>1.0</td>\n",
              "      <td>1.0</td>\n",
              "      <td>0.0</td>\n",
              "      <td>0.0</td>\n",
              "    </tr>\n",
              "    <tr>\n",
              "      <th>3</th>\n",
              "      <td>democrat</td>\n",
              "      <td>0.0</td>\n",
              "      <td>1.0</td>\n",
              "      <td>1.0</td>\n",
              "      <td>0.0</td>\n",
              "      <td>NaN</td>\n",
              "      <td>1.0</td>\n",
              "      <td>0.0</td>\n",
              "      <td>0.0</td>\n",
              "      <td>0.0</td>\n",
              "      <td>0.0</td>\n",
              "      <td>1.0</td>\n",
              "      <td>0.0</td>\n",
              "      <td>1.0</td>\n",
              "      <td>0.0</td>\n",
              "      <td>0.0</td>\n",
              "      <td>1.0</td>\n",
              "    </tr>\n",
              "    <tr>\n",
              "      <th>4</th>\n",
              "      <td>democrat</td>\n",
              "      <td>1.0</td>\n",
              "      <td>1.0</td>\n",
              "      <td>1.0</td>\n",
              "      <td>0.0</td>\n",
              "      <td>1.0</td>\n",
              "      <td>1.0</td>\n",
              "      <td>0.0</td>\n",
              "      <td>0.0</td>\n",
              "      <td>0.0</td>\n",
              "      <td>0.0</td>\n",
              "      <td>1.0</td>\n",
              "      <td>NaN</td>\n",
              "      <td>1.0</td>\n",
              "      <td>1.0</td>\n",
              "      <td>1.0</td>\n",
              "      <td>1.0</td>\n",
              "    </tr>\n",
              "  </tbody>\n",
              "</table>\n",
              "</div>"
            ],
            "text/plain": [
              "        party  handicapped-infants  ...  duty-free  south-africa\n",
              "0  republican                  0.0  ...        0.0           1.0\n",
              "1  republican                  0.0  ...        0.0           NaN\n",
              "2    democrat                  NaN  ...        0.0           0.0\n",
              "3    democrat                  0.0  ...        0.0           1.0\n",
              "4    democrat                  1.0  ...        1.0           1.0\n",
              "\n",
              "[5 rows x 17 columns]"
            ]
          },
          "metadata": {
            "tags": []
          },
          "execution_count": 7
        }
      ]
    },
    {
      "cell_type": "code",
      "metadata": {
        "id": "gNRr1_DeAtqQ",
        "colab_type": "code",
        "colab": {
          "base_uri": "https://localhost:8080/",
          "height": 221
        },
        "outputId": "39ebebbf-97bc-42c4-cb42-f840e26f53e3"
      },
      "source": [
        "#renaming voting_data_cleaned as df\n",
        "\n",
        "df = voting_data_cleaned\n",
        "df.head()"
      ],
      "execution_count": 8,
      "outputs": [
        {
          "output_type": "execute_result",
          "data": {
            "text/html": [
              "<div>\n",
              "<style scoped>\n",
              "    .dataframe tbody tr th:only-of-type {\n",
              "        vertical-align: middle;\n",
              "    }\n",
              "\n",
              "    .dataframe tbody tr th {\n",
              "        vertical-align: top;\n",
              "    }\n",
              "\n",
              "    .dataframe thead th {\n",
              "        text-align: right;\n",
              "    }\n",
              "</style>\n",
              "<table border=\"1\" class=\"dataframe\">\n",
              "  <thead>\n",
              "    <tr style=\"text-align: right;\">\n",
              "      <th></th>\n",
              "      <th>party</th>\n",
              "      <th>handicapped-infants</th>\n",
              "      <th>water-project</th>\n",
              "      <th>budget</th>\n",
              "      <th>physician-fee-freeze</th>\n",
              "      <th>el-salvador-aid</th>\n",
              "      <th>religious-groups</th>\n",
              "      <th>anti-satellite-ban</th>\n",
              "      <th>aid-to-contras</th>\n",
              "      <th>mx-missile</th>\n",
              "      <th>immigration</th>\n",
              "      <th>synfuels</th>\n",
              "      <th>education</th>\n",
              "      <th>right-to-sue</th>\n",
              "      <th>crime</th>\n",
              "      <th>duty-free</th>\n",
              "      <th>south-africa</th>\n",
              "    </tr>\n",
              "  </thead>\n",
              "  <tbody>\n",
              "    <tr>\n",
              "      <th>0</th>\n",
              "      <td>republican</td>\n",
              "      <td>0.0</td>\n",
              "      <td>1.0</td>\n",
              "      <td>0.0</td>\n",
              "      <td>1.0</td>\n",
              "      <td>1.0</td>\n",
              "      <td>1.0</td>\n",
              "      <td>0.0</td>\n",
              "      <td>0.0</td>\n",
              "      <td>0.0</td>\n",
              "      <td>1.0</td>\n",
              "      <td>NaN</td>\n",
              "      <td>1.0</td>\n",
              "      <td>1.0</td>\n",
              "      <td>1.0</td>\n",
              "      <td>0.0</td>\n",
              "      <td>1.0</td>\n",
              "    </tr>\n",
              "    <tr>\n",
              "      <th>1</th>\n",
              "      <td>republican</td>\n",
              "      <td>0.0</td>\n",
              "      <td>1.0</td>\n",
              "      <td>0.0</td>\n",
              "      <td>1.0</td>\n",
              "      <td>1.0</td>\n",
              "      <td>1.0</td>\n",
              "      <td>0.0</td>\n",
              "      <td>0.0</td>\n",
              "      <td>0.0</td>\n",
              "      <td>0.0</td>\n",
              "      <td>0.0</td>\n",
              "      <td>1.0</td>\n",
              "      <td>1.0</td>\n",
              "      <td>1.0</td>\n",
              "      <td>0.0</td>\n",
              "      <td>NaN</td>\n",
              "    </tr>\n",
              "    <tr>\n",
              "      <th>2</th>\n",
              "      <td>democrat</td>\n",
              "      <td>NaN</td>\n",
              "      <td>1.0</td>\n",
              "      <td>1.0</td>\n",
              "      <td>NaN</td>\n",
              "      <td>1.0</td>\n",
              "      <td>1.0</td>\n",
              "      <td>0.0</td>\n",
              "      <td>0.0</td>\n",
              "      <td>0.0</td>\n",
              "      <td>0.0</td>\n",
              "      <td>1.0</td>\n",
              "      <td>0.0</td>\n",
              "      <td>1.0</td>\n",
              "      <td>1.0</td>\n",
              "      <td>0.0</td>\n",
              "      <td>0.0</td>\n",
              "    </tr>\n",
              "    <tr>\n",
              "      <th>3</th>\n",
              "      <td>democrat</td>\n",
              "      <td>0.0</td>\n",
              "      <td>1.0</td>\n",
              "      <td>1.0</td>\n",
              "      <td>0.0</td>\n",
              "      <td>NaN</td>\n",
              "      <td>1.0</td>\n",
              "      <td>0.0</td>\n",
              "      <td>0.0</td>\n",
              "      <td>0.0</td>\n",
              "      <td>0.0</td>\n",
              "      <td>1.0</td>\n",
              "      <td>0.0</td>\n",
              "      <td>1.0</td>\n",
              "      <td>0.0</td>\n",
              "      <td>0.0</td>\n",
              "      <td>1.0</td>\n",
              "    </tr>\n",
              "    <tr>\n",
              "      <th>4</th>\n",
              "      <td>democrat</td>\n",
              "      <td>1.0</td>\n",
              "      <td>1.0</td>\n",
              "      <td>1.0</td>\n",
              "      <td>0.0</td>\n",
              "      <td>1.0</td>\n",
              "      <td>1.0</td>\n",
              "      <td>0.0</td>\n",
              "      <td>0.0</td>\n",
              "      <td>0.0</td>\n",
              "      <td>0.0</td>\n",
              "      <td>1.0</td>\n",
              "      <td>NaN</td>\n",
              "      <td>1.0</td>\n",
              "      <td>1.0</td>\n",
              "      <td>1.0</td>\n",
              "      <td>1.0</td>\n",
              "    </tr>\n",
              "  </tbody>\n",
              "</table>\n",
              "</div>"
            ],
            "text/plain": [
              "        party  handicapped-infants  ...  duty-free  south-africa\n",
              "0  republican                  0.0  ...        0.0           1.0\n",
              "1  republican                  0.0  ...        0.0           NaN\n",
              "2    democrat                  NaN  ...        0.0           0.0\n",
              "3    democrat                  0.0  ...        0.0           1.0\n",
              "4    democrat                  1.0  ...        1.0           1.0\n",
              "\n",
              "[5 rows x 17 columns]"
            ]
          },
          "metadata": {
            "tags": []
          },
          "execution_count": 8
        }
      ]
    },
    {
      "cell_type": "code",
      "metadata": {
        "id": "8bxjNlyE_0g9",
        "colab_type": "code",
        "colab": {
          "base_uri": "https://localhost:8080/",
          "height": 221
        },
        "outputId": "4a109dea-2775-4da2-ad52-70eb60fef2a7"
      },
      "source": [
        "# starting t-tests with separate dataframes by party affiliation\n",
        "rep = df[df['party'] == 'republican']\n",
        "rep.head()\n"
      ],
      "execution_count": 9,
      "outputs": [
        {
          "output_type": "execute_result",
          "data": {
            "text/html": [
              "<div>\n",
              "<style scoped>\n",
              "    .dataframe tbody tr th:only-of-type {\n",
              "        vertical-align: middle;\n",
              "    }\n",
              "\n",
              "    .dataframe tbody tr th {\n",
              "        vertical-align: top;\n",
              "    }\n",
              "\n",
              "    .dataframe thead th {\n",
              "        text-align: right;\n",
              "    }\n",
              "</style>\n",
              "<table border=\"1\" class=\"dataframe\">\n",
              "  <thead>\n",
              "    <tr style=\"text-align: right;\">\n",
              "      <th></th>\n",
              "      <th>party</th>\n",
              "      <th>handicapped-infants</th>\n",
              "      <th>water-project</th>\n",
              "      <th>budget</th>\n",
              "      <th>physician-fee-freeze</th>\n",
              "      <th>el-salvador-aid</th>\n",
              "      <th>religious-groups</th>\n",
              "      <th>anti-satellite-ban</th>\n",
              "      <th>aid-to-contras</th>\n",
              "      <th>mx-missile</th>\n",
              "      <th>immigration</th>\n",
              "      <th>synfuels</th>\n",
              "      <th>education</th>\n",
              "      <th>right-to-sue</th>\n",
              "      <th>crime</th>\n",
              "      <th>duty-free</th>\n",
              "      <th>south-africa</th>\n",
              "    </tr>\n",
              "  </thead>\n",
              "  <tbody>\n",
              "    <tr>\n",
              "      <th>0</th>\n",
              "      <td>republican</td>\n",
              "      <td>0.0</td>\n",
              "      <td>1.0</td>\n",
              "      <td>0.0</td>\n",
              "      <td>1.0</td>\n",
              "      <td>1.0</td>\n",
              "      <td>1.0</td>\n",
              "      <td>0.0</td>\n",
              "      <td>0.0</td>\n",
              "      <td>0.0</td>\n",
              "      <td>1.0</td>\n",
              "      <td>NaN</td>\n",
              "      <td>1.0</td>\n",
              "      <td>1.0</td>\n",
              "      <td>1.0</td>\n",
              "      <td>0.0</td>\n",
              "      <td>1.0</td>\n",
              "    </tr>\n",
              "    <tr>\n",
              "      <th>1</th>\n",
              "      <td>republican</td>\n",
              "      <td>0.0</td>\n",
              "      <td>1.0</td>\n",
              "      <td>0.0</td>\n",
              "      <td>1.0</td>\n",
              "      <td>1.0</td>\n",
              "      <td>1.0</td>\n",
              "      <td>0.0</td>\n",
              "      <td>0.0</td>\n",
              "      <td>0.0</td>\n",
              "      <td>0.0</td>\n",
              "      <td>0.0</td>\n",
              "      <td>1.0</td>\n",
              "      <td>1.0</td>\n",
              "      <td>1.0</td>\n",
              "      <td>0.0</td>\n",
              "      <td>NaN</td>\n",
              "    </tr>\n",
              "    <tr>\n",
              "      <th>7</th>\n",
              "      <td>republican</td>\n",
              "      <td>0.0</td>\n",
              "      <td>1.0</td>\n",
              "      <td>0.0</td>\n",
              "      <td>1.0</td>\n",
              "      <td>1.0</td>\n",
              "      <td>1.0</td>\n",
              "      <td>0.0</td>\n",
              "      <td>0.0</td>\n",
              "      <td>0.0</td>\n",
              "      <td>0.0</td>\n",
              "      <td>0.0</td>\n",
              "      <td>0.0</td>\n",
              "      <td>1.0</td>\n",
              "      <td>1.0</td>\n",
              "      <td>NaN</td>\n",
              "      <td>1.0</td>\n",
              "    </tr>\n",
              "    <tr>\n",
              "      <th>8</th>\n",
              "      <td>republican</td>\n",
              "      <td>0.0</td>\n",
              "      <td>1.0</td>\n",
              "      <td>0.0</td>\n",
              "      <td>1.0</td>\n",
              "      <td>1.0</td>\n",
              "      <td>1.0</td>\n",
              "      <td>0.0</td>\n",
              "      <td>0.0</td>\n",
              "      <td>0.0</td>\n",
              "      <td>0.0</td>\n",
              "      <td>0.0</td>\n",
              "      <td>1.0</td>\n",
              "      <td>1.0</td>\n",
              "      <td>1.0</td>\n",
              "      <td>0.0</td>\n",
              "      <td>1.0</td>\n",
              "    </tr>\n",
              "    <tr>\n",
              "      <th>10</th>\n",
              "      <td>republican</td>\n",
              "      <td>0.0</td>\n",
              "      <td>1.0</td>\n",
              "      <td>0.0</td>\n",
              "      <td>1.0</td>\n",
              "      <td>1.0</td>\n",
              "      <td>0.0</td>\n",
              "      <td>0.0</td>\n",
              "      <td>0.0</td>\n",
              "      <td>0.0</td>\n",
              "      <td>0.0</td>\n",
              "      <td>NaN</td>\n",
              "      <td>NaN</td>\n",
              "      <td>1.0</td>\n",
              "      <td>1.0</td>\n",
              "      <td>0.0</td>\n",
              "      <td>0.0</td>\n",
              "    </tr>\n",
              "  </tbody>\n",
              "</table>\n",
              "</div>"
            ],
            "text/plain": [
              "         party  handicapped-infants  ...  duty-free  south-africa\n",
              "0   republican                  0.0  ...        0.0           1.0\n",
              "1   republican                  0.0  ...        0.0           NaN\n",
              "7   republican                  0.0  ...        NaN           1.0\n",
              "8   republican                  0.0  ...        0.0           1.0\n",
              "10  republican                  0.0  ...        0.0           0.0\n",
              "\n",
              "[5 rows x 17 columns]"
            ]
          },
          "metadata": {
            "tags": []
          },
          "execution_count": 9
        }
      ]
    },
    {
      "cell_type": "code",
      "metadata": {
        "id": "HAhUi-EJAKMX",
        "colab_type": "code",
        "colab": {
          "base_uri": "https://localhost:8080/",
          "height": 221
        },
        "outputId": "2d0345ed-6f7c-4317-b1f0-84aaf3f1db87"
      },
      "source": [
        "dem = df[df['party'] == 'democrat']\n",
        "dem.head()"
      ],
      "execution_count": 10,
      "outputs": [
        {
          "output_type": "execute_result",
          "data": {
            "text/html": [
              "<div>\n",
              "<style scoped>\n",
              "    .dataframe tbody tr th:only-of-type {\n",
              "        vertical-align: middle;\n",
              "    }\n",
              "\n",
              "    .dataframe tbody tr th {\n",
              "        vertical-align: top;\n",
              "    }\n",
              "\n",
              "    .dataframe thead th {\n",
              "        text-align: right;\n",
              "    }\n",
              "</style>\n",
              "<table border=\"1\" class=\"dataframe\">\n",
              "  <thead>\n",
              "    <tr style=\"text-align: right;\">\n",
              "      <th></th>\n",
              "      <th>party</th>\n",
              "      <th>handicapped-infants</th>\n",
              "      <th>water-project</th>\n",
              "      <th>budget</th>\n",
              "      <th>physician-fee-freeze</th>\n",
              "      <th>el-salvador-aid</th>\n",
              "      <th>religious-groups</th>\n",
              "      <th>anti-satellite-ban</th>\n",
              "      <th>aid-to-contras</th>\n",
              "      <th>mx-missile</th>\n",
              "      <th>immigration</th>\n",
              "      <th>synfuels</th>\n",
              "      <th>education</th>\n",
              "      <th>right-to-sue</th>\n",
              "      <th>crime</th>\n",
              "      <th>duty-free</th>\n",
              "      <th>south-africa</th>\n",
              "    </tr>\n",
              "  </thead>\n",
              "  <tbody>\n",
              "    <tr>\n",
              "      <th>2</th>\n",
              "      <td>democrat</td>\n",
              "      <td>NaN</td>\n",
              "      <td>1.0</td>\n",
              "      <td>1.0</td>\n",
              "      <td>NaN</td>\n",
              "      <td>1.0</td>\n",
              "      <td>1.0</td>\n",
              "      <td>0.0</td>\n",
              "      <td>0.0</td>\n",
              "      <td>0.0</td>\n",
              "      <td>0.0</td>\n",
              "      <td>1.0</td>\n",
              "      <td>0.0</td>\n",
              "      <td>1.0</td>\n",
              "      <td>1.0</td>\n",
              "      <td>0.0</td>\n",
              "      <td>0.0</td>\n",
              "    </tr>\n",
              "    <tr>\n",
              "      <th>3</th>\n",
              "      <td>democrat</td>\n",
              "      <td>0.0</td>\n",
              "      <td>1.0</td>\n",
              "      <td>1.0</td>\n",
              "      <td>0.0</td>\n",
              "      <td>NaN</td>\n",
              "      <td>1.0</td>\n",
              "      <td>0.0</td>\n",
              "      <td>0.0</td>\n",
              "      <td>0.0</td>\n",
              "      <td>0.0</td>\n",
              "      <td>1.0</td>\n",
              "      <td>0.0</td>\n",
              "      <td>1.0</td>\n",
              "      <td>0.0</td>\n",
              "      <td>0.0</td>\n",
              "      <td>1.0</td>\n",
              "    </tr>\n",
              "    <tr>\n",
              "      <th>4</th>\n",
              "      <td>democrat</td>\n",
              "      <td>1.0</td>\n",
              "      <td>1.0</td>\n",
              "      <td>1.0</td>\n",
              "      <td>0.0</td>\n",
              "      <td>1.0</td>\n",
              "      <td>1.0</td>\n",
              "      <td>0.0</td>\n",
              "      <td>0.0</td>\n",
              "      <td>0.0</td>\n",
              "      <td>0.0</td>\n",
              "      <td>1.0</td>\n",
              "      <td>NaN</td>\n",
              "      <td>1.0</td>\n",
              "      <td>1.0</td>\n",
              "      <td>1.0</td>\n",
              "      <td>1.0</td>\n",
              "    </tr>\n",
              "    <tr>\n",
              "      <th>5</th>\n",
              "      <td>democrat</td>\n",
              "      <td>0.0</td>\n",
              "      <td>1.0</td>\n",
              "      <td>1.0</td>\n",
              "      <td>0.0</td>\n",
              "      <td>1.0</td>\n",
              "      <td>1.0</td>\n",
              "      <td>0.0</td>\n",
              "      <td>0.0</td>\n",
              "      <td>0.0</td>\n",
              "      <td>0.0</td>\n",
              "      <td>0.0</td>\n",
              "      <td>0.0</td>\n",
              "      <td>1.0</td>\n",
              "      <td>1.0</td>\n",
              "      <td>1.0</td>\n",
              "      <td>1.0</td>\n",
              "    </tr>\n",
              "    <tr>\n",
              "      <th>6</th>\n",
              "      <td>democrat</td>\n",
              "      <td>0.0</td>\n",
              "      <td>1.0</td>\n",
              "      <td>0.0</td>\n",
              "      <td>1.0</td>\n",
              "      <td>1.0</td>\n",
              "      <td>1.0</td>\n",
              "      <td>0.0</td>\n",
              "      <td>0.0</td>\n",
              "      <td>0.0</td>\n",
              "      <td>0.0</td>\n",
              "      <td>0.0</td>\n",
              "      <td>0.0</td>\n",
              "      <td>NaN</td>\n",
              "      <td>1.0</td>\n",
              "      <td>1.0</td>\n",
              "      <td>1.0</td>\n",
              "    </tr>\n",
              "  </tbody>\n",
              "</table>\n",
              "</div>"
            ],
            "text/plain": [
              "      party  handicapped-infants  water-project  ...  crime  duty-free  south-africa\n",
              "2  democrat                  NaN            1.0  ...    1.0        0.0           0.0\n",
              "3  democrat                  0.0            1.0  ...    0.0        0.0           1.0\n",
              "4  democrat                  1.0            1.0  ...    1.0        1.0           1.0\n",
              "5  democrat                  0.0            1.0  ...    1.0        1.0           1.0\n",
              "6  democrat                  0.0            1.0  ...    1.0        1.0           1.0\n",
              "\n",
              "[5 rows x 17 columns]"
            ]
          },
          "metadata": {
            "tags": []
          },
          "execution_count": 10
        }
      ]
    },
    {
      "cell_type": "code",
      "metadata": {
        "id": "lQDEsaVWAXKc",
        "colab_type": "code",
        "colab": {
          "base_uri": "https://localhost:8080/",
          "height": 85
        },
        "outputId": "1171a930-d07e-497c-8278-0e7998724511"
      },
      "source": [
        "# dropping the NaN values\n",
        "dem['handicapped-infants'].value_counts(dropna=False)"
      ],
      "execution_count": 30,
      "outputs": [
        {
          "output_type": "execute_result",
          "data": {
            "text/plain": [
              "1.0    156\n",
              "0.0    102\n",
              "NaN      9\n",
              "Name: handicapped-infants, dtype: int64"
            ]
          },
          "metadata": {
            "tags": []
          },
          "execution_count": 30
        }
      ]
    },
    {
      "cell_type": "markdown",
      "metadata": {
        "id": "rLnfm-1MRFu2",
        "colab_type": "text"
      },
      "source": [
        "**Pratice on One Sample t-Testing**"
      ]
    },
    {
      "cell_type": "code",
      "metadata": {
        "id": "dpPTkjL-AnDk",
        "colab_type": "code",
        "colab": {
          "base_uri": "https://localhost:8080/",
          "height": 34
        },
        "outputId": "5e55aae8-7cca-44f4-cf59-dbcc9dbc5817"
      },
      "source": [
        "# calculating mean of voting\n",
        "dem['handicapped-infants'].mean()"
      ],
      "execution_count": 12,
      "outputs": [
        {
          "output_type": "execute_result",
          "data": {
            "text/plain": [
              "0.6046511627906976"
            ]
          },
          "metadata": {
            "tags": []
          },
          "execution_count": 12
        }
      ]
    },
    {
      "cell_type": "code",
      "metadata": {
        "id": "MIHYXt8oC30T",
        "colab_type": "code",
        "colab": {}
      },
      "source": [
        "# importing scipy and ttest 1 sample \n",
        "from scipy.stats import ttest_1samp, ttest_ind, ttest_ind_from_stats, ttest_rel"
      ],
      "execution_count": 0,
      "outputs": []
    },
    {
      "cell_type": "code",
      "metadata": {
        "id": "aCHl5arBC9wl",
        "colab_type": "code",
        "colab": {
          "base_uri": "https://localhost:8080/",
          "height": 34
        },
        "outputId": "31a80ad0-4871-4321-ba31-0f9aba54efab"
      },
      "source": [
        "ttest_1samp(dem['handicapped-infants'], .5, nan_policy='omit')"
      ],
      "execution_count": 29,
      "outputs": [
        {
          "output_type": "execute_result",
          "data": {
            "text/plain": [
              "Ttest_1sampResult(statistic=3.431373087696574, pvalue=0.000699612317167372)"
            ]
          },
          "metadata": {
            "tags": []
          },
          "execution_count": 29
        }
      ]
    },
    {
      "cell_type": "code",
      "metadata": {
        "id": "HOBYc8oLDJ7K",
        "colab_type": "code",
        "colab": {
          "base_uri": "https://localhost:8080/",
          "height": 34
        },
        "outputId": "4f9cf462-d032-4102-e73e-3e9ad547609e"
      },
      "source": [
        "ttest_1samp(dem['handicapped-infants'], 1, nan_policy='omit')"
      ],
      "execution_count": 15,
      "outputs": [
        {
          "output_type": "execute_result",
          "data": {
            "text/plain": [
              "Ttest_1sampResult(statistic=-12.96296499796484, pvalue=6.590394568934029e-30)"
            ]
          },
          "metadata": {
            "tags": []
          },
          "execution_count": 15
        }
      ]
    },
    {
      "cell_type": "code",
      "metadata": {
        "id": "Ye-EIqSWDMYs",
        "colab_type": "code",
        "colab": {
          "base_uri": "https://localhost:8080/",
          "height": 34
        },
        "outputId": "ec8d06bf-0571-435f-f48b-30585aff313d"
      },
      "source": [
        "ttest_1samp(dem['handicapped-infants'], 0, nan_policy='omit')"
      ],
      "execution_count": 16,
      "outputs": [
        {
          "output_type": "execute_result",
          "data": {
            "text/plain": [
              "Ttest_1sampResult(statistic=19.825711173357988, pvalue=1.0391992873567661e-53)"
            ]
          },
          "metadata": {
            "tags": []
          },
          "execution_count": 16
        }
      ]
    },
    {
      "cell_type": "code",
      "metadata": {
        "id": "EQ81cOMnDQc1",
        "colab_type": "code",
        "colab": {
          "base_uri": "https://localhost:8080/",
          "height": 34
        },
        "outputId": "ea77e3d7-6821-4bdd-d339-4258d0dc255b"
      },
      "source": [
        "ttest_1samp(dem['handicapped-infants'], .6, nan_policy='omit')"
      ],
      "execution_count": 17,
      "outputs": [
        {
          "output_type": "execute_result",
          "data": {
            "text/plain": [
              "Ttest_1sampResult(statistic=0.15250547056429176, pvalue=0.8789079366662332)"
            ]
          },
          "metadata": {
            "tags": []
          },
          "execution_count": 17
        }
      ]
    },
    {
      "cell_type": "markdown",
      "metadata": {
        "id": "_o5alKPuq4bE",
        "colab_type": "text"
      },
      "source": [
        "Null hypothesis: The dem votes are neither particularly in favor or against this issue.\n",
        "\n",
        "Alternative hypothesis: The democrats voted in favor of the issue\n",
        "\n",
        "T statistic: 3.431\n",
        "\n",
        "P-value:0.000699612317167372\n",
        "\n",
        "Confidence interval - 99%, p-value < 0.01\n",
        "\n",
        "Interpretation:\n",
        "\n",
        "Due to calculating a t-statistic of T statistic: 3.431 which corresponds to a p-value of 0.000699612317167372, I failed to reject the null hypothesis that the democrats were neither particularly for or against this issue. "
      ]
    },
    {
      "cell_type": "code",
      "metadata": {
        "id": "RYz2OpNfqufy",
        "colab_type": "code",
        "colab": {
          "base_uri": "https://localhost:8080/",
          "height": 85
        },
        "outputId": "bf172fc0-4bea-4d13-8fa6-50e7651c2b0e"
      },
      "source": [
        "# dropping the NaN values\n",
        "dem['synfuels'].value_counts(dropna=False)"
      ],
      "execution_count": 32,
      "outputs": [
        {
          "output_type": "execute_result",
          "data": {
            "text/plain": [
              "1.0    129\n",
              "0.0    126\n",
              "NaN     12\n",
              "Name: synfuels, dtype: int64"
            ]
          },
          "metadata": {
            "tags": []
          },
          "execution_count": 32
        }
      ]
    },
    {
      "cell_type": "code",
      "metadata": {
        "id": "_DajG1KTYpAo",
        "colab_type": "code",
        "colab": {
          "base_uri": "https://localhost:8080/",
          "height": 34
        },
        "outputId": "ee4b1e81-302b-4df0-9e24-2fb44b72e338"
      },
      "source": [
        "# calculating one sampe t-test for 'synfuels'\n",
        "\n",
        "ttest_1samp(dem['synfuels'], .5, nan_policy='omit')"
      ],
      "execution_count": 33,
      "outputs": [
        {
          "output_type": "execute_result",
          "data": {
            "text/plain": [
              "Ttest_1sampResult(statistic=0.18751153526716705, pvalue=0.8514092819865365)"
            ]
          },
          "metadata": {
            "tags": []
          },
          "execution_count": 33
        }
      ]
    },
    {
      "cell_type": "code",
      "metadata": {
        "id": "cTQvLb0SY04c",
        "colab_type": "code",
        "colab": {
          "base_uri": "https://localhost:8080/",
          "height": 34
        },
        "outputId": "8f20c12b-38bf-42c3-87b8-1b39ab2b0ccc"
      },
      "source": [
        "ttest_1samp(dem['synfuels'], 0, nan_policy='omit')"
      ],
      "execution_count": 34,
      "outputs": [
        {
          "output_type": "execute_result",
          "data": {
            "text/plain": [
              "Ttest_1sampResult(statistic=16.125992032976423, pvalue=9.159793118867048e-41)"
            ]
          },
          "metadata": {
            "tags": []
          },
          "execution_count": 34
        }
      ]
    },
    {
      "cell_type": "code",
      "metadata": {
        "id": "qaIxrefQY6_e",
        "colab_type": "code",
        "colab": {
          "base_uri": "https://localhost:8080/",
          "height": 34
        },
        "outputId": "ece4d6a5-ea70-422e-fa29-bc6bc2004bea"
      },
      "source": [
        "ttest_1samp(dem['synfuels'], .6, nan_policy='omit')"
      ],
      "execution_count": 35,
      "outputs": [
        {
          "output_type": "execute_result",
          "data": {
            "text/plain": [
              "Ttest_1sampResult(statistic=-3.0001845642746834, pvalue=0.002966521634685216)"
            ]
          },
          "metadata": {
            "tags": []
          },
          "execution_count": 35
        }
      ]
    },
    {
      "cell_type": "code",
      "metadata": {
        "id": "f0fLl83HY_SY",
        "colab_type": "code",
        "colab": {
          "base_uri": "https://localhost:8080/",
          "height": 34
        },
        "outputId": "fe6ca102-3fd5-439d-b511-d50c77585bd5"
      },
      "source": [
        "ttest_1samp(dem['synfuels'], 1, nan_policy='omit')"
      ],
      "execution_count": 36,
      "outputs": [
        {
          "output_type": "execute_result",
          "data": {
            "text/plain": [
              "Ttest_1sampResult(statistic=-15.750968962442089, pvalue=1.839716417353916e-39)"
            ]
          },
          "metadata": {
            "tags": []
          },
          "execution_count": 36
        }
      ]
    },
    {
      "cell_type": "markdown",
      "metadata": {
        "id": "sfbFh33Ws66x",
        "colab_type": "text"
      },
      "source": [
        "Null hypothesis: The dem votes are neither particularly in favor or against this issue.\n",
        "\n",
        "Alternative hypothesis: The democrats voted in favor of the issue\n",
        "\n",
        "T statistic: 0.18751\n",
        "\n",
        "P-value:0.85140\n",
        "\n",
        "Confidence interval - 99%, p-value < 0.01\n",
        "\n",
        "Interpretation:\n",
        "\n",
        "Due to calculating a t-statistic of T statistic: 0.1875 which corresponds to a p-value of 0.8514092819865365, I  reject the null hypothesis that the democrats were neither particularly for or against this issue. "
      ]
    },
    {
      "cell_type": "markdown",
      "metadata": {
        "id": "oofA8y-0RKm3",
        "colab_type": "text"
      },
      "source": [
        "**Two Sample t-Testing**"
      ]
    },
    {
      "cell_type": "code",
      "metadata": {
        "id": "ljHowtjyD_LJ",
        "colab_type": "code",
        "colab": {
          "base_uri": "https://localhost:8080/",
          "height": 51
        },
        "outputId": "3c4bfe3f-1595-4c0c-af98-b7eb641553e3"
      },
      "source": [
        "# calculating two sample tests for duty-free\n",
        "\n",
        "print(\"Democratic Support: \", dem['duty-free'].mean())\n",
        "print(\"Republican Support: \", rep['duty-free'].mean())"
      ],
      "execution_count": 22,
      "outputs": [
        {
          "output_type": "stream",
          "text": [
            "Democratic Support:  0.6374501992031872\n",
            "Republican Support:  0.08974358974358974\n"
          ],
          "name": "stdout"
        }
      ]
    },
    {
      "cell_type": "code",
      "metadata": {
        "id": "ZwNOpWJ1G5vi",
        "colab_type": "code",
        "colab": {
          "base_uri": "https://localhost:8080/",
          "height": 34
        },
        "outputId": "0ec9c2bf-cf13-4873-b8d3-413d39a48dec"
      },
      "source": [
        "ttest_ind(rep['duty-free'], dem['duty-free'], nan_policy='omit')"
      ],
      "execution_count": 23,
      "outputs": [
        {
          "output_type": "execute_result",
          "data": {
            "text/plain": [
              "Ttest_indResult(statistic=-12.853146132542978, pvalue=5.997697174347365e-32)"
            ]
          },
          "metadata": {
            "tags": []
          },
          "execution_count": 23
        }
      ]
    },
    {
      "cell_type": "markdown",
      "metadata": {
        "colab_type": "text",
        "id": "51H3B9LlLIv0"
      },
      "source": [
        "1. Null hypothesis: The mean of dem support == The mean for republican support\n",
        "\n",
        "2. Alternative hypothesis: The means are different(not the same level of support)\n",
        "\n",
        "3. T statistic: 12.853\n",
        "\n",
        "4. P-value: 0.000000000000000000000000000000005997\n",
        "\n",
        "5. Confidence interval - 99%, p-value < 0.01\n",
        "\n",
        "Interpretation: \n",
        "\n",
        "Due to calculating a t-statistic of 9.737 which corresponds to a p-value  of 0.000000000000000000000000000000005997, I would reject the null hypothesis, that there is the same level of support for this bill among republicans and democrats. (Ie. the democrats support this bill more than republicans)"
      ]
    },
    {
      "cell_type": "code",
      "metadata": {
        "id": "eGyz0PZjFktN",
        "colab_type": "code",
        "colab": {
          "base_uri": "https://localhost:8080/",
          "height": 51
        },
        "outputId": "7abb4f47-78c8-49c0-f778-e207a8e7bdea"
      },
      "source": [
        "#calculating two sample tests for el-salvador-aid\n",
        "print(\"Democratic Support: \", dem['el-salvador-aid'].mean())\n",
        "print(\"Republican Support: \", rep['el-salvador-aid'].mean())"
      ],
      "execution_count": 24,
      "outputs": [
        {
          "output_type": "stream",
          "text": [
            "Democratic Support:  0.21568627450980393\n",
            "Republican Support:  0.9515151515151515\n"
          ],
          "name": "stdout"
        }
      ]
    },
    {
      "cell_type": "code",
      "metadata": {
        "id": "TBslqRa7HZyo",
        "colab_type": "code",
        "colab": {
          "base_uri": "https://localhost:8080/",
          "height": 34
        },
        "outputId": "c43d7afb-dfbc-4237-bcaa-059db3cec3c7"
      },
      "source": [
        "ttest_ind(rep['el-salvador-aid'], dem['el-salvador-aid'], nan_policy='omit')"
      ],
      "execution_count": 25,
      "outputs": [
        {
          "output_type": "execute_result",
          "data": {
            "text/plain": [
              "Ttest_indResult(statistic=21.13669261173219, pvalue=5.600520111729011e-68)"
            ]
          },
          "metadata": {
            "tags": []
          },
          "execution_count": 25
        }
      ]
    },
    {
      "cell_type": "markdown",
      "metadata": {
        "id": "iSSc2PkIKL6g",
        "colab_type": "text"
      },
      "source": [
        "1. Null hypothesis: The mean of dem support == The mean for republican support\n",
        "\n",
        "2. Alternative hypothesis: The means are different(not the same level of support)\n",
        "\n",
        "3. T statistic:21.136\n",
        "\n",
        "4. P-value: 0.5600520111729011e-68\n",
        "\n",
        "5. Confidence interval - 99%, p-value < 0.01\n",
        "\n",
        "Interpretation: \n",
        "\n",
        "Due to calculating a t-statistic of 21.136 which corresponds to a p-value  of 0.5600520111729011e-68, I would reject the null hypothesis, that there is the same level of support for this bill among republicans and democrats. (ie republicans support this bill more than democrats)"
      ]
    },
    {
      "cell_type": "code",
      "metadata": {
        "id": "g8gbfZAQHptB",
        "colab_type": "code",
        "colab": {
          "base_uri": "https://localhost:8080/",
          "height": 51
        },
        "outputId": "c820774b-4648-4960-9b16-5148b1fb213e"
      },
      "source": [
        "#calculating two sample tests for mx-missile\n",
        "\n",
        "print(\"Democratic Support: \", dem['anti-satellite-ban'].mean())\n",
        "print(\"Republican Support: \", rep['anti-satellite-ban'].mean())"
      ],
      "execution_count": 26,
      "outputs": [
        {
          "output_type": "stream",
          "text": [
            "Democratic Support:  0.7722007722007722\n",
            "Republican Support:  0.24074074074074073\n"
          ],
          "name": "stdout"
        }
      ]
    },
    {
      "cell_type": "code",
      "metadata": {
        "id": "kYIIRLSYH7kn",
        "colab_type": "code",
        "colab": {
          "base_uri": "https://localhost:8080/",
          "height": 34
        },
        "outputId": "da540005-3cc2-4883-f2e8-5a2c43b98efe"
      },
      "source": [
        "ttest_ind(rep['south-africa'], dem['anti-satellite-ban'], nan_policy='omit')"
      ],
      "execution_count": 27,
      "outputs": [
        {
          "output_type": "execute_result",
          "data": {
            "text/plain": [
              "Ttest_indResult(statistic=-2.511474145475195, pvalue=0.012413017063908115)"
            ]
          },
          "metadata": {
            "tags": []
          },
          "execution_count": 27
        }
      ]
    },
    {
      "cell_type": "markdown",
      "metadata": {
        "id": "6qATlOVQIoa6",
        "colab_type": "text"
      },
      "source": [
        "1. Null hypothesis: The mean of dem support == The mean for republican support\n",
        "\n",
        "2. Alternative hypothesis: The means are different(not the same level of support)\n",
        "\n",
        "3. T statistic: -2.511474145475195\n",
        "\n",
        "4. P-value: 0.0124130170\n",
        "\n",
        "5. Confidence interval - 99% p-value < 0.01\n",
        "\n",
        "Interpretation: \n",
        "\n",
        "Due to calculating a t-statistic of  -2.511  which corresponds to a p-value  of 0.012, I failed to reject the null hypothesis, that there is the same level of support for this bill among republicans and democrats. (ie there is not a great difference in support between republicans and democrats supporting this issue)"
      ]
    }
  ]
}