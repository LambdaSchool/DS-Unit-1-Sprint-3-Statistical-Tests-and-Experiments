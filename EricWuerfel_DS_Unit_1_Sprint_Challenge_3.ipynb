{
  "nbformat": 4,
  "nbformat_minor": 0,
  "metadata": {
    "colab": {
      "name": "EricWuerfel_DS_Unit_1_Sprint_Challenge_3.ipynb",
      "version": "0.3.2",
      "provenance": [],
      "collapsed_sections": [
        "5wch6ksCbJtZ",
        "I_77uigly3Qq",
        "0mY2E33vy_KD",
        "ag1q0jjQkP5-",
        "G7rLytbrO38L",
        "Dc1UGVozoYIK",
        "oiWFQuIxz8bi",
        "gewtyTsF0Mt-",
        "qVgIJyvW0ijL",
        "ZM8JckA2bgnp"
      ],
      "include_colab_link": true
    },
    "kernelspec": {
      "name": "python3",
      "display_name": "Python 3"
    }
  },
  "cells": [
    {
      "cell_type": "markdown",
      "metadata": {
        "id": "view-in-github",
        "colab_type": "text"
      },
      "source": [
        "<a href=\"https://colab.research.google.com/github/ewuerfel66/DS-Unit-1-Sprint-3-Statistical-Tests-and-Experiments/blob/master/EricWuerfel_DS_Unit_1_Sprint_Challenge_3.ipynb\" target=\"_parent\"><img src=\"https://colab.research.google.com/assets/colab-badge.svg\" alt=\"Open In Colab\"/></a>"
      ]
    },
    {
      "cell_type": "markdown",
      "metadata": {
        "id": "NooAiTdnafkz",
        "colab_type": "text"
      },
      "source": [
        "# Data Science Unit 1 Sprint Challenge 4\n",
        "\n",
        "## Exploring Data, Testing Hypotheses\n",
        "\n",
        "In this sprint challenge you will look at a dataset of people being approved or rejected for credit.\n",
        "\n",
        "https://archive.ics.uci.edu/ml/datasets/Credit+Approval\n",
        "\n",
        "Data Set Information: This file concerns credit card applications. All attribute names and values have been changed to meaningless symbols to protect confidentiality of the data. This dataset is interesting because there is a good mix of attributes -- continuous, nominal with small numbers of values, and nominal with larger numbers of values. There are also a few missing values.\n",
        "\n",
        "Attribute Information:\n",
        "- A1: b, a.\n",
        "- A2: continuous.\n",
        "- A3: continuous.\n",
        "- A4: u, y, l, t.\n",
        "- A5: g, p, gg.\n",
        "- A6: c, d, cc, i, j, k, m, r, q, w, x, e, aa, ff.\n",
        "- A7: v, h, bb, j, n, z, dd, ff, o.\n",
        "- A8: continuous.\n",
        "- A9: t, f.\n",
        "- A10: t, f.\n",
        "- A11: continuous.\n",
        "- A12: t, f.\n",
        "- A13: g, p, s.\n",
        "- A14: continuous.\n",
        "- A15: continuous.\n",
        "- A16: +,- (class attribute)\n",
        "\n",
        "Yes, most of that doesn't mean anything. A16 (the class attribute) is the most interesting, as it separates the 307 approved cases from the 383 rejected cases. The remaining variables have been obfuscated for privacy - a challenge you may have to deal with in your data science career.\n",
        "\n",
        "Sprint challenges are evaluated based on satisfactory completion of each part. It is suggested you work through it in order, getting each aspect reasonably working, before trying to deeply explore, iterate, or refine any given step. Once you get to the end, if you want to go back and improve things, go for it!"
      ]
    },
    {
      "cell_type": "markdown",
      "metadata": {
        "id": "Grf4qbAPhDS_",
        "colab_type": "text"
      },
      "source": [
        "## Imports"
      ]
    },
    {
      "cell_type": "code",
      "metadata": {
        "id": "zpmkaN7OhIw5",
        "colab_type": "code",
        "colab": {}
      },
      "source": [
        "import pandas as pd\n",
        "import numpy as np\n",
        "import seaborn as sns\n",
        "import scipy\n",
        "\n",
        "from statistics import mean, median\n",
        "from scipy.stats import ttest_ind"
      ],
      "execution_count": 0,
      "outputs": []
    },
    {
      "cell_type": "markdown",
      "metadata": {
        "id": "5wch6ksCbJtZ",
        "colab_type": "text"
      },
      "source": [
        "## Part 1 - Load and validate the data\n",
        "\n",
        "- Load the data as a `pandas` data frame.\n",
        "- Validate that it has the appropriate number of observations (you can check the raw file, and also read the dataset description from UCI).\n",
        "- UCI says there should be missing data - check, and if necessary change the data so pandas recognizes it as na\n",
        "- Make sure that the loaded features are of the types described above (continuous values should be treated as float), and correct as necessary\n",
        "\n",
        "This is review, but skills that you'll use at the start of any data exploration. Further, you may have to do some investigation to figure out which file to load from - that is part of the puzzle."
      ]
    },
    {
      "cell_type": "markdown",
      "metadata": {
        "id": "I_77uigly3Qq",
        "colab_type": "text"
      },
      "source": [
        "### Load Data & Validate Observations"
      ]
    },
    {
      "cell_type": "code",
      "metadata": {
        "id": "Q79xDLckzibS",
        "colab_type": "code",
        "colab": {}
      },
      "source": [
        "df = pd.read_csv('https://archive.ics.uci.edu/ml/machine-learning-databases/credit-screening/crx.data', header = None)"
      ],
      "execution_count": 0,
      "outputs": []
    },
    {
      "cell_type": "code",
      "metadata": {
        "id": "GeN9_7yIh_TE",
        "colab_type": "code",
        "colab": {
          "base_uri": "https://localhost:8080/",
          "height": 0
        },
        "outputId": "b531c543-44e2-4df4-f1de-d1b384cc6290"
      },
      "source": [
        "df.shape"
      ],
      "execution_count": 156,
      "outputs": [
        {
          "output_type": "execute_result",
          "data": {
            "text/plain": [
              "(690, 16)"
            ]
          },
          "metadata": {
            "tags": []
          },
          "execution_count": 156
        }
      ]
    },
    {
      "cell_type": "markdown",
      "metadata": {
        "id": "FkQe0uogiECI",
        "colab_type": "text"
      },
      "source": [
        "The dataframe has **the correct number of rows**\n",
        "\n",
        "According to UCI, there are 690 instances in the dataset and we have 690 rows."
      ]
    },
    {
      "cell_type": "markdown",
      "metadata": {
        "id": "0mY2E33vy_KD",
        "colab_type": "text"
      },
      "source": [
        "### Find & Replace Missing Values"
      ]
    },
    {
      "cell_type": "code",
      "metadata": {
        "id": "pAyJZeHfhVwi",
        "colab_type": "code",
        "colab": {}
      },
      "source": [
        "df = df.replace(to_replace = '+', value = 1)\n",
        "df = df.replace(to_replace = '-', value = 0)"
      ],
      "execution_count": 0,
      "outputs": []
    },
    {
      "cell_type": "code",
      "metadata": {
        "id": "IuzsPM7Tj5Dz",
        "colab_type": "code",
        "colab": {}
      },
      "source": [
        "df = df.rename(columns={15:'status'})"
      ],
      "execution_count": 0,
      "outputs": []
    },
    {
      "cell_type": "code",
      "metadata": {
        "id": "NOArNHd-ib-E",
        "colab_type": "code",
        "colab": {
          "base_uri": "https://localhost:8080/",
          "height": 0
        },
        "outputId": "ca225446-95e9-4c2c-8e4e-d830f1a6b555"
      },
      "source": [
        "df.isnull().sum()"
      ],
      "execution_count": 159,
      "outputs": [
        {
          "output_type": "execute_result",
          "data": {
            "text/plain": [
              "0         0\n",
              "1         0\n",
              "2         0\n",
              "3         0\n",
              "4         0\n",
              "5         0\n",
              "6         0\n",
              "7         0\n",
              "8         0\n",
              "9         0\n",
              "10        0\n",
              "11        0\n",
              "12        0\n",
              "13        0\n",
              "14        0\n",
              "status    0\n",
              "dtype: int64"
            ]
          },
          "metadata": {
            "tags": []
          },
          "execution_count": 159
        }
      ]
    },
    {
      "cell_type": "code",
      "metadata": {
        "id": "hHsqeh6phRtv",
        "colab_type": "code",
        "colab": {
          "base_uri": "https://localhost:8080/",
          "height": 0
        },
        "outputId": "a91eaaaa-2ed3-4fc5-d799-0cc2d18b440e"
      },
      "source": [
        "df['status'].value_counts()"
      ],
      "execution_count": 160,
      "outputs": [
        {
          "output_type": "execute_result",
          "data": {
            "text/plain": [
              "0    383\n",
              "1    307\n",
              "Name: status, dtype: int64"
            ]
          },
          "metadata": {
            "tags": []
          },
          "execution_count": 160
        }
      ]
    },
    {
      "cell_type": "markdown",
      "metadata": {
        "id": "1CdPCUITi7EL",
        "colab_type": "text"
      },
      "source": [
        "We only have 1s and 0s in 'status'.\n",
        "There isn't any missing data in the column we're interested in"
      ]
    },
    {
      "cell_type": "markdown",
      "metadata": {
        "id": "_ubi7e5bkzYj",
        "colab_type": "text"
      },
      "source": [
        "There's our missing value: '?'"
      ]
    },
    {
      "cell_type": "code",
      "metadata": {
        "id": "d7DTTP6xkvko",
        "colab_type": "code",
        "colab": {}
      },
      "source": [
        "df = df.replace(to_replace = '?', value = np.NaN)"
      ],
      "execution_count": 0,
      "outputs": []
    },
    {
      "cell_type": "markdown",
      "metadata": {
        "id": "ag1q0jjQkP5-",
        "colab_type": "text"
      },
      "source": [
        "### Check and Fix Data Types\n",
        "\n",
        "col 1, \n",
        "col 10, \n",
        "col 13, \n",
        "col 14 --> float"
      ]
    },
    {
      "cell_type": "code",
      "metadata": {
        "id": "F9wG30uLznU1",
        "colab_type": "code",
        "colab": {
          "base_uri": "https://localhost:8080/",
          "height": 0
        },
        "outputId": "fb978197-cada-4d59-cf7b-1d8e43e2704f"
      },
      "source": [
        "df.dtypes"
      ],
      "execution_count": 162,
      "outputs": [
        {
          "output_type": "execute_result",
          "data": {
            "text/plain": [
              "0          object\n",
              "1          object\n",
              "2         float64\n",
              "3          object\n",
              "4          object\n",
              "5          object\n",
              "6          object\n",
              "7         float64\n",
              "8          object\n",
              "9          object\n",
              "10          int64\n",
              "11         object\n",
              "12         object\n",
              "13         object\n",
              "14          int64\n",
              "status      int64\n",
              "dtype: object"
            ]
          },
          "metadata": {
            "tags": []
          },
          "execution_count": 162
        }
      ]
    },
    {
      "cell_type": "code",
      "metadata": {
        "id": "pqzhl4GXlwRV",
        "colab_type": "code",
        "colab": {}
      },
      "source": [
        "df[1] = df[1].astype(float)"
      ],
      "execution_count": 0,
      "outputs": []
    },
    {
      "cell_type": "code",
      "metadata": {
        "id": "R_8b1Cu9oBJM",
        "colab_type": "code",
        "colab": {}
      },
      "source": [
        "df[10] = df[10].astype(float)"
      ],
      "execution_count": 0,
      "outputs": []
    },
    {
      "cell_type": "code",
      "metadata": {
        "id": "OIcwO3P6ntpO",
        "colab_type": "code",
        "colab": {}
      },
      "source": [
        "df[13] = df[13].astype(float)"
      ],
      "execution_count": 0,
      "outputs": []
    },
    {
      "cell_type": "code",
      "metadata": {
        "id": "MzMYiHeLoG-R",
        "colab_type": "code",
        "colab": {}
      },
      "source": [
        "df[14] = df[14].astype(float)"
      ],
      "execution_count": 0,
      "outputs": []
    },
    {
      "cell_type": "code",
      "metadata": {
        "id": "dQOnxWkvn7gB",
        "colab_type": "code",
        "colab": {
          "base_uri": "https://localhost:8080/",
          "height": 0
        },
        "outputId": "88480aea-84e2-4f65-89f1-b43796f1abc7"
      },
      "source": [
        "df.dtypes"
      ],
      "execution_count": 167,
      "outputs": [
        {
          "output_type": "execute_result",
          "data": {
            "text/plain": [
              "0          object\n",
              "1         float64\n",
              "2         float64\n",
              "3          object\n",
              "4          object\n",
              "5          object\n",
              "6          object\n",
              "7         float64\n",
              "8          object\n",
              "9          object\n",
              "10        float64\n",
              "11         object\n",
              "12         object\n",
              "13        float64\n",
              "14        float64\n",
              "status      int64\n",
              "dtype: object"
            ]
          },
          "metadata": {
            "tags": []
          },
          "execution_count": 167
        }
      ]
    },
    {
      "cell_type": "code",
      "metadata": {
        "id": "tQaFxKUzjfL3",
        "colab_type": "code",
        "outputId": "e501fa44-c646-42c8-b0d3-85015c4b2559",
        "colab": {
          "base_uri": "https://localhost:8080/",
          "height": 0
        }
      },
      "source": [
        "df.head()"
      ],
      "execution_count": 168,
      "outputs": [
        {
          "output_type": "execute_result",
          "data": {
            "text/html": [
              "<div>\n",
              "<style scoped>\n",
              "    .dataframe tbody tr th:only-of-type {\n",
              "        vertical-align: middle;\n",
              "    }\n",
              "\n",
              "    .dataframe tbody tr th {\n",
              "        vertical-align: top;\n",
              "    }\n",
              "\n",
              "    .dataframe thead th {\n",
              "        text-align: right;\n",
              "    }\n",
              "</style>\n",
              "<table border=\"1\" class=\"dataframe\">\n",
              "  <thead>\n",
              "    <tr style=\"text-align: right;\">\n",
              "      <th></th>\n",
              "      <th>0</th>\n",
              "      <th>1</th>\n",
              "      <th>2</th>\n",
              "      <th>3</th>\n",
              "      <th>4</th>\n",
              "      <th>5</th>\n",
              "      <th>6</th>\n",
              "      <th>7</th>\n",
              "      <th>8</th>\n",
              "      <th>9</th>\n",
              "      <th>10</th>\n",
              "      <th>11</th>\n",
              "      <th>12</th>\n",
              "      <th>13</th>\n",
              "      <th>14</th>\n",
              "      <th>status</th>\n",
              "    </tr>\n",
              "  </thead>\n",
              "  <tbody>\n",
              "    <tr>\n",
              "      <th>0</th>\n",
              "      <td>b</td>\n",
              "      <td>30.83</td>\n",
              "      <td>0.000</td>\n",
              "      <td>u</td>\n",
              "      <td>g</td>\n",
              "      <td>w</td>\n",
              "      <td>v</td>\n",
              "      <td>1.25</td>\n",
              "      <td>t</td>\n",
              "      <td>t</td>\n",
              "      <td>1.0</td>\n",
              "      <td>f</td>\n",
              "      <td>g</td>\n",
              "      <td>202.0</td>\n",
              "      <td>0.0</td>\n",
              "      <td>1</td>\n",
              "    </tr>\n",
              "    <tr>\n",
              "      <th>1</th>\n",
              "      <td>a</td>\n",
              "      <td>58.67</td>\n",
              "      <td>4.460</td>\n",
              "      <td>u</td>\n",
              "      <td>g</td>\n",
              "      <td>q</td>\n",
              "      <td>h</td>\n",
              "      <td>3.04</td>\n",
              "      <td>t</td>\n",
              "      <td>t</td>\n",
              "      <td>6.0</td>\n",
              "      <td>f</td>\n",
              "      <td>g</td>\n",
              "      <td>43.0</td>\n",
              "      <td>560.0</td>\n",
              "      <td>1</td>\n",
              "    </tr>\n",
              "    <tr>\n",
              "      <th>2</th>\n",
              "      <td>a</td>\n",
              "      <td>24.50</td>\n",
              "      <td>0.500</td>\n",
              "      <td>u</td>\n",
              "      <td>g</td>\n",
              "      <td>q</td>\n",
              "      <td>h</td>\n",
              "      <td>1.50</td>\n",
              "      <td>t</td>\n",
              "      <td>f</td>\n",
              "      <td>0.0</td>\n",
              "      <td>f</td>\n",
              "      <td>g</td>\n",
              "      <td>280.0</td>\n",
              "      <td>824.0</td>\n",
              "      <td>1</td>\n",
              "    </tr>\n",
              "    <tr>\n",
              "      <th>3</th>\n",
              "      <td>b</td>\n",
              "      <td>27.83</td>\n",
              "      <td>1.540</td>\n",
              "      <td>u</td>\n",
              "      <td>g</td>\n",
              "      <td>w</td>\n",
              "      <td>v</td>\n",
              "      <td>3.75</td>\n",
              "      <td>t</td>\n",
              "      <td>t</td>\n",
              "      <td>5.0</td>\n",
              "      <td>t</td>\n",
              "      <td>g</td>\n",
              "      <td>100.0</td>\n",
              "      <td>3.0</td>\n",
              "      <td>1</td>\n",
              "    </tr>\n",
              "    <tr>\n",
              "      <th>4</th>\n",
              "      <td>b</td>\n",
              "      <td>20.17</td>\n",
              "      <td>5.625</td>\n",
              "      <td>u</td>\n",
              "      <td>g</td>\n",
              "      <td>w</td>\n",
              "      <td>v</td>\n",
              "      <td>1.71</td>\n",
              "      <td>t</td>\n",
              "      <td>f</td>\n",
              "      <td>0.0</td>\n",
              "      <td>f</td>\n",
              "      <td>s</td>\n",
              "      <td>120.0</td>\n",
              "      <td>0.0</td>\n",
              "      <td>1</td>\n",
              "    </tr>\n",
              "  </tbody>\n",
              "</table>\n",
              "</div>"
            ],
            "text/plain": [
              "   0      1      2  3  4  5  6     7  8  9   10 11 12     13     14  status\n",
              "0  b  30.83  0.000  u  g  w  v  1.25  t  t  1.0  f  g  202.0    0.0       1\n",
              "1  a  58.67  4.460  u  g  q  h  3.04  t  t  6.0  f  g   43.0  560.0       1\n",
              "2  a  24.50  0.500  u  g  q  h  1.50  t  f  0.0  f  g  280.0  824.0       1\n",
              "3  b  27.83  1.540  u  g  w  v  3.75  t  t  5.0  t  g  100.0    3.0       1\n",
              "4  b  20.17  5.625  u  g  w  v  1.71  t  f  0.0  f  s  120.0    0.0       1"
            ]
          },
          "metadata": {
            "tags": []
          },
          "execution_count": 168
        }
      ]
    },
    {
      "cell_type": "markdown",
      "metadata": {
        "id": "G7rLytbrO38L",
        "colab_type": "text"
      },
      "source": [
        "## Part 2 - Exploring data, Testing hypotheses\n",
        "\n",
        "The only thing we really know about this data is that A16 is the class label. Besides that, we have 6 continuous (float) features and 9 categorical features.\n",
        "\n",
        "Explore the data: you can use whatever approach (tables, utility functions, visualizations) to get an impression of the distributions and relationships of the variables. In general, your goal is to understand how the features are different when grouped by the two class labels (`+` and `-`).\n",
        "\n",
        "For the 6 continuous features, how are they different when split between the two class labels? Choose two features to run t-tests (again split by class label) - specifically, select one feature that is *extremely* different between the classes, and another feature that is notably less different (though perhaps still \"statistically significantly\" different). You may have to explore more than two features to do this.\n",
        "\n",
        "For the categorical features, explore by creating \"cross tabs\" (aka [contingency tables](https://en.wikipedia.org/wiki/Contingency_table)) between them and the class label, and apply the Chi-squared test to them. [pandas.crosstab](http://pandas.pydata.org/pandas-docs/stable/reference/api/pandas.crosstab.html) can create contingency tables, and [scipy.stats.chi2_contingency](https://docs.scipy.org/doc/scipy/reference/generated/scipy.stats.chi2_contingency.html) can calculate the Chi-squared statistic for them.\n",
        "\n",
        "There are 9 categorical features - as with the t-test, try to find one where the Chi-squared test returns an extreme result (rejecting the null that the data are independent), and one where it is less extreme.\n",
        "\n",
        "**NOTE** - \"less extreme\" just means smaller test statistic/larger p-value. Even the least extreme differences may be strongly statistically significant.\n",
        "\n",
        "Your *main* goal is the hypothesis tests, so don't spend too much time on the exploration/visualization piece. That is just a means to an end - use simple visualizations, such as boxplots or a scatter matrix (both built in to pandas), to get a feel for the overall distribution of the variables.\n",
        "\n",
        "This is challenging, so manage your time and aim for a baseline of at least running two t-tests and two Chi-squared tests before polishing. And don't forget to answer the questions in part 3, even if your results in this part aren't what you want them to be."
      ]
    },
    {
      "cell_type": "markdown",
      "metadata": {
        "id": "Dc1UGVozoYIK",
        "colab_type": "text"
      },
      "source": [
        "### Split"
      ]
    },
    {
      "cell_type": "code",
      "metadata": {
        "id": "8J__9KF_kurC",
        "colab_type": "code",
        "colab": {}
      },
      "source": [
        "approved = df[df['status'] == 1.]\n",
        "denied = df[df['status'] == 0.]"
      ],
      "execution_count": 0,
      "outputs": []
    },
    {
      "cell_type": "markdown",
      "metadata": {
        "id": "iL2-LENIoxVC",
        "colab_type": "text"
      },
      "source": [
        "### Continuous Variables\n",
        "\n",
        "1, 2, 7, 10, 13, 14\n",
        "\n",
        "Blue is Approved, Orange is Denied"
      ]
    },
    {
      "cell_type": "markdown",
      "metadata": {
        "id": "dvHET6baz3tR",
        "colab_type": "text"
      },
      "source": [
        "#### Visualize the Distributions (Histograms)"
      ]
    },
    {
      "cell_type": "code",
      "metadata": {
        "id": "jjNfOXlrpqSM",
        "colab_type": "code",
        "colab": {
          "base_uri": "https://localhost:8080/",
          "height": 269
        },
        "outputId": "1682937b-6cec-41e3-9a10-cfa98b0bd8e5"
      },
      "source": [
        "app_1 = approved[1].dropna().tolist()\n",
        "den_1 = denied[1].dropna().tolist()\n",
        "\n",
        "ax = sns.distplot(app_1, kde=False);\n",
        "ax = sns.distplot(den_1, kde=False);"
      ],
      "execution_count": 170,
      "outputs": [
        {
          "output_type": "display_data",
          "data": {
            "image/png": "[encoded data removed]",
            "text/plain": [
              "<Figure size 432x288 with 1 Axes>"
            ]
          },
          "metadata": {
            "tags": []
          }
        }
      ]
    },
    {
      "cell_type": "code",
      "metadata": {
        "id": "V4bh8JPGqBb3",
        "colab_type": "code",
        "colab": {
          "base_uri": "https://localhost:8080/",
          "height": 269
        },
        "outputId": "0fab1128-bf52-4e62-d798-97a598f134c0"
      },
      "source": [
        "app_2 = approved[2].dropna().tolist();\n",
        "den_2 = denied[2].dropna().tolist();\n",
        "\n",
        "ax = sns.distplot(app_2, kde=False);\n",
        "ax = sns.distplot(den_2, kde=False);"
      ],
      "execution_count": 171,
      "outputs": [
        {
          "output_type": "display_data",
          "data": {
            "image/png": "[encoded data removed]",
            "text/plain": [
              "<Figure size 432x288 with 1 Axes>"
            ]
          },
          "metadata": {
            "tags": []
          }
        }
      ]
    },
    {
      "cell_type": "code",
      "metadata": {
        "id": "rMQKlFosqBn2",
        "colab_type": "code",
        "colab": {
          "base_uri": "https://localhost:8080/",
          "height": 269
        },
        "outputId": "0a9cba86-e3ca-47ad-aa37-92932fdc6f6e"
      },
      "source": [
        "app_7 = approved[7].dropna().tolist();\n",
        "den_7 = denied[7].dropna().tolist();\n",
        "\n",
        "ax = sns.distplot(app_7, kde=False);\n",
        "ax = sns.distplot(den_7, kde=False);"
      ],
      "execution_count": 172,
      "outputs": [
        {
          "output_type": "display_data",
          "data": {
            "image/png": "[encoded data removed]",
            "text/plain": [
              "<Figure size 432x288 with 1 Axes>"
            ]
          },
          "metadata": {
            "tags": []
          }
        }
      ]
    },
    {
      "cell_type": "code",
      "metadata": {
        "id": "0zUy6ZB1qBvw",
        "colab_type": "code",
        "colab": {
          "base_uri": "https://localhost:8080/",
          "height": 270
        },
        "outputId": "0fefb13d-a36b-4adc-b624-19d1bb9043db"
      },
      "source": [
        "app_10 = approved[10].dropna().tolist();\n",
        "den_10 = denied[10].dropna().tolist();\n",
        "\n",
        "ax = sns.distplot(app_10, kde=False);\n",
        "ax = sns.distplot(den_10, kde=False);"
      ],
      "execution_count": 173,
      "outputs": [
        {
          "output_type": "display_data",
          "data": {
            "image/png": "[encoded data removed]",
            "text/plain": [
              "<Figure size 432x288 with 1 Axes>"
            ]
          },
          "metadata": {
            "tags": []
          }
        }
      ]
    },
    {
      "cell_type": "code",
      "metadata": {
        "id": "ly8c82tvqB3W",
        "colab_type": "code",
        "colab": {
          "base_uri": "https://localhost:8080/",
          "height": 269
        },
        "outputId": "2f1757ea-4a92-4c18-b6e3-a46547bf4ff8"
      },
      "source": [
        "app_13 = approved[13].dropna().tolist();\n",
        "den_13 = denied[13].dropna().tolist();\n",
        "\n",
        "ax = sns.distplot(app_13, kde=False);\n",
        "ax = sns.distplot(den_13, kde=False);"
      ],
      "execution_count": 174,
      "outputs": [
        {
          "output_type": "display_data",
          "data": {
            "image/png": "[encoded data removed]",
            "text/plain": [
              "<Figure size 432x288 with 1 Axes>"
            ]
          },
          "metadata": {
            "tags": []
          }
        }
      ]
    },
    {
      "cell_type": "code",
      "metadata": {
        "id": "u0q1_nkgq6CG",
        "colab_type": "code",
        "colab": {
          "base_uri": "https://localhost:8080/",
          "height": 269
        },
        "outputId": "c49ab1a2-691a-4b25-84f6-6864b7c6b7d9"
      },
      "source": [
        "app_14 = approved[14].dropna().tolist();\n",
        "den_14 = denied[14].dropna().tolist();\n",
        "\n",
        "ax = sns.distplot(app_14, kde=False);\n",
        "ax = sns.distplot(den_14, kde=False);"
      ],
      "execution_count": 175,
      "outputs": [
        {
          "output_type": "display_data",
          "data": {
            "image/png": "[encoded data removed]",
            "text/plain": [
              "<Figure size 432x288 with 1 Axes>"
            ]
          },
          "metadata": {
            "tags": []
          }
        }
      ]
    },
    {
      "cell_type": "markdown",
      "metadata": {
        "id": "oiWFQuIxz8bi",
        "colab_type": "text"
      },
      "source": [
        "#### t-tests"
      ]
    },
    {
      "cell_type": "markdown",
      "metadata": {
        "id": "FEXgJ3rXrhs7",
        "colab_type": "text"
      },
      "source": [
        "Variables **10 and 14** seem to show the biggest differences between the two groups"
      ]
    },
    {
      "cell_type": "code",
      "metadata": {
        "id": "r-HBnXGyrppS",
        "colab_type": "code",
        "colab": {
          "base_uri": "https://localhost:8080/",
          "height": 0
        },
        "outputId": "2f535f3e-1b60-4995-8be4-b8cdc6af955c"
      },
      "source": [
        "ttest_ind(approved[10], denied[10], nan_policy='omit')"
      ],
      "execution_count": 176,
      "outputs": [
        {
          "output_type": "execute_result",
          "data": {
            "text/plain": [
              "Ttest_indResult(statistic=11.667004222431277, pvalue=7.957718568079967e-29)"
            ]
          },
          "metadata": {
            "tags": []
          },
          "execution_count": 176
        }
      ]
    },
    {
      "cell_type": "markdown",
      "metadata": {
        "id": "fQFjoGSksyCH",
        "colab_type": "text"
      },
      "source": [
        "The positive t-statistic, and p-value << 0.01 indicate that we can reject the null hypothesis that the mean of column 10 for borrowers who were approved is the same as the mean of column 10 for borrowers who were denied."
      ]
    },
    {
      "cell_type": "code",
      "metadata": {
        "id": "1uBe8xMZtIbd",
        "colab_type": "code",
        "colab": {
          "base_uri": "https://localhost:8080/",
          "height": 0
        },
        "outputId": "02880ea3-6f35-46aa-98fb-86eba1e23893"
      },
      "source": [
        "ttest_ind(approved[14], denied[14], nan_policy='omit')"
      ],
      "execution_count": 177,
      "outputs": [
        {
          "output_type": "execute_result",
          "data": {
            "text/plain": [
              "Ttest_indResult(statistic=4.680216020964486, pvalue=3.4520256956287944e-06)"
            ]
          },
          "metadata": {
            "tags": []
          },
          "execution_count": 177
        }
      ]
    },
    {
      "cell_type": "markdown",
      "metadata": {
        "id": "yVTdrm1StQlz",
        "colab_type": "text"
      },
      "source": [
        "The positive t-statistic, and p-value << 0.01 indicate that we can reject the null hypothesis that the mean of column 14 for borrowers who were approved is the same as the mean of column 14 for borrowers who were denied."
      ]
    },
    {
      "cell_type": "markdown",
      "metadata": {
        "id": "gkj2llNatV1J",
        "colab_type": "text"
      },
      "source": [
        "### Categorical Variables"
      ]
    },
    {
      "cell_type": "markdown",
      "metadata": {
        "id": "gewtyTsF0Mt-",
        "colab_type": "text"
      },
      "source": [
        "#### Visualize (Crosstabs)"
      ]
    },
    {
      "cell_type": "code",
      "metadata": {
        "id": "bZE0dTWgtcKl",
        "colab_type": "code",
        "colab": {
          "base_uri": "https://localhost:8080/",
          "height": 0
        },
        "outputId": "02c62594-8fee-4796-e698-ce76e254487b"
      },
      "source": [
        "pd.crosstab(df['status'], df[3], margins=True)"
      ],
      "execution_count": 178,
      "outputs": [
        {
          "output_type": "execute_result",
          "data": {
            "text/html": [
              "<div>\n",
              "<style scoped>\n",
              "    .dataframe tbody tr th:only-of-type {\n",
              "        vertical-align: middle;\n",
              "    }\n",
              "\n",
              "    .dataframe tbody tr th {\n",
              "        vertical-align: top;\n",
              "    }\n",
              "\n",
              "    .dataframe thead th {\n",
              "        text-align: right;\n",
              "    }\n",
              "</style>\n",
              "<table border=\"1\" class=\"dataframe\">\n",
              "  <thead>\n",
              "    <tr style=\"text-align: right;\">\n",
              "      <th>3</th>\n",
              "      <th>l</th>\n",
              "      <th>u</th>\n",
              "      <th>y</th>\n",
              "      <th>All</th>\n",
              "    </tr>\n",
              "    <tr>\n",
              "      <th>status</th>\n",
              "      <th></th>\n",
              "      <th></th>\n",
              "      <th></th>\n",
              "      <th></th>\n",
              "    </tr>\n",
              "  </thead>\n",
              "  <tbody>\n",
              "    <tr>\n",
              "      <th>0</th>\n",
              "      <td>0</td>\n",
              "      <td>263</td>\n",
              "      <td>118</td>\n",
              "      <td>381</td>\n",
              "    </tr>\n",
              "    <tr>\n",
              "      <th>1</th>\n",
              "      <td>2</td>\n",
              "      <td>256</td>\n",
              "      <td>45</td>\n",
              "      <td>303</td>\n",
              "    </tr>\n",
              "    <tr>\n",
              "      <th>All</th>\n",
              "      <td>2</td>\n",
              "      <td>519</td>\n",
              "      <td>163</td>\n",
              "      <td>684</td>\n",
              "    </tr>\n",
              "  </tbody>\n",
              "</table>\n",
              "</div>"
            ],
            "text/plain": [
              "3       l    u    y  All\n",
              "status                  \n",
              "0       0  263  118  381\n",
              "1       2  256   45  303\n",
              "All     2  519  163  684"
            ]
          },
          "metadata": {
            "tags": []
          },
          "execution_count": 178
        }
      ]
    },
    {
      "cell_type": "code",
      "metadata": {
        "id": "119xl7HtuDIw",
        "colab_type": "code",
        "colab": {
          "base_uri": "https://localhost:8080/",
          "height": 0
        },
        "outputId": "efdef7d4-fca2-42f0-a60f-b58699b0da0b"
      },
      "source": [
        "pd.crosstab(df['status'], df[4], margins=True)"
      ],
      "execution_count": 179,
      "outputs": [
        {
          "output_type": "execute_result",
          "data": {
            "text/html": [
              "<div>\n",
              "<style scoped>\n",
              "    .dataframe tbody tr th:only-of-type {\n",
              "        vertical-align: middle;\n",
              "    }\n",
              "\n",
              "    .dataframe tbody tr th {\n",
              "        vertical-align: top;\n",
              "    }\n",
              "\n",
              "    .dataframe thead th {\n",
              "        text-align: right;\n",
              "    }\n",
              "</style>\n",
              "<table border=\"1\" class=\"dataframe\">\n",
              "  <thead>\n",
              "    <tr style=\"text-align: right;\">\n",
              "      <th>4</th>\n",
              "      <th>g</th>\n",
              "      <th>gg</th>\n",
              "      <th>p</th>\n",
              "      <th>All</th>\n",
              "    </tr>\n",
              "    <tr>\n",
              "      <th>status</th>\n",
              "      <th></th>\n",
              "      <th></th>\n",
              "      <th></th>\n",
              "      <th></th>\n",
              "    </tr>\n",
              "  </thead>\n",
              "  <tbody>\n",
              "    <tr>\n",
              "      <th>0</th>\n",
              "      <td>263</td>\n",
              "      <td>0</td>\n",
              "      <td>118</td>\n",
              "      <td>381</td>\n",
              "    </tr>\n",
              "    <tr>\n",
              "      <th>1</th>\n",
              "      <td>256</td>\n",
              "      <td>2</td>\n",
              "      <td>45</td>\n",
              "      <td>303</td>\n",
              "    </tr>\n",
              "    <tr>\n",
              "      <th>All</th>\n",
              "      <td>519</td>\n",
              "      <td>2</td>\n",
              "      <td>163</td>\n",
              "      <td>684</td>\n",
              "    </tr>\n",
              "  </tbody>\n",
              "</table>\n",
              "</div>"
            ],
            "text/plain": [
              "4         g  gg    p  All\n",
              "status                   \n",
              "0       263   0  118  381\n",
              "1       256   2   45  303\n",
              "All     519   2  163  684"
            ]
          },
          "metadata": {
            "tags": []
          },
          "execution_count": 179
        }
      ]
    },
    {
      "cell_type": "code",
      "metadata": {
        "id": "pSjUnj_LuDPO",
        "colab_type": "code",
        "colab": {
          "base_uri": "https://localhost:8080/",
          "height": 0
        },
        "outputId": "76f4bade-4c8b-46db-c886-ef226b589851"
      },
      "source": [
        "pd.crosstab(df['status'], df[5], margins=True)"
      ],
      "execution_count": 180,
      "outputs": [
        {
          "output_type": "execute_result",
          "data": {
            "text/html": [
              "<div>\n",
              "<style scoped>\n",
              "    .dataframe tbody tr th:only-of-type {\n",
              "        vertical-align: middle;\n",
              "    }\n",
              "\n",
              "    .dataframe tbody tr th {\n",
              "        vertical-align: top;\n",
              "    }\n",
              "\n",
              "    .dataframe thead th {\n",
              "        text-align: right;\n",
              "    }\n",
              "</style>\n",
              "<table border=\"1\" class=\"dataframe\">\n",
              "  <thead>\n",
              "    <tr style=\"text-align: right;\">\n",
              "      <th>5</th>\n",
              "      <th>aa</th>\n",
              "      <th>c</th>\n",
              "      <th>cc</th>\n",
              "      <th>d</th>\n",
              "      <th>e</th>\n",
              "      <th>ff</th>\n",
              "      <th>i</th>\n",
              "      <th>j</th>\n",
              "      <th>k</th>\n",
              "      <th>m</th>\n",
              "      <th>q</th>\n",
              "      <th>r</th>\n",
              "      <th>w</th>\n",
              "      <th>x</th>\n",
              "      <th>All</th>\n",
              "    </tr>\n",
              "    <tr>\n",
              "      <th>status</th>\n",
              "      <th></th>\n",
              "      <th></th>\n",
              "      <th></th>\n",
              "      <th></th>\n",
              "      <th></th>\n",
              "      <th></th>\n",
              "      <th></th>\n",
              "      <th></th>\n",
              "      <th></th>\n",
              "      <th></th>\n",
              "      <th></th>\n",
              "      <th></th>\n",
              "      <th></th>\n",
              "      <th></th>\n",
              "      <th></th>\n",
              "    </tr>\n",
              "  </thead>\n",
              "  <tbody>\n",
              "    <tr>\n",
              "      <th>0</th>\n",
              "      <td>35</td>\n",
              "      <td>75</td>\n",
              "      <td>12</td>\n",
              "      <td>23</td>\n",
              "      <td>11</td>\n",
              "      <td>46</td>\n",
              "      <td>45</td>\n",
              "      <td>7</td>\n",
              "      <td>37</td>\n",
              "      <td>22</td>\n",
              "      <td>27</td>\n",
              "      <td>1</td>\n",
              "      <td>31</td>\n",
              "      <td>6</td>\n",
              "      <td>378</td>\n",
              "    </tr>\n",
              "    <tr>\n",
              "      <th>1</th>\n",
              "      <td>19</td>\n",
              "      <td>62</td>\n",
              "      <td>29</td>\n",
              "      <td>7</td>\n",
              "      <td>14</td>\n",
              "      <td>7</td>\n",
              "      <td>14</td>\n",
              "      <td>3</td>\n",
              "      <td>14</td>\n",
              "      <td>16</td>\n",
              "      <td>51</td>\n",
              "      <td>2</td>\n",
              "      <td>33</td>\n",
              "      <td>32</td>\n",
              "      <td>303</td>\n",
              "    </tr>\n",
              "    <tr>\n",
              "      <th>All</th>\n",
              "      <td>54</td>\n",
              "      <td>137</td>\n",
              "      <td>41</td>\n",
              "      <td>30</td>\n",
              "      <td>25</td>\n",
              "      <td>53</td>\n",
              "      <td>59</td>\n",
              "      <td>10</td>\n",
              "      <td>51</td>\n",
              "      <td>38</td>\n",
              "      <td>78</td>\n",
              "      <td>3</td>\n",
              "      <td>64</td>\n",
              "      <td>38</td>\n",
              "      <td>681</td>\n",
              "    </tr>\n",
              "  </tbody>\n",
              "</table>\n",
              "</div>"
            ],
            "text/plain": [
              "5       aa    c  cc   d   e  ff   i   j   k   m   q  r   w   x  All\n",
              "status                                                             \n",
              "0       35   75  12  23  11  46  45   7  37  22  27  1  31   6  378\n",
              "1       19   62  29   7  14   7  14   3  14  16  51  2  33  32  303\n",
              "All     54  137  41  30  25  53  59  10  51  38  78  3  64  38  681"
            ]
          },
          "metadata": {
            "tags": []
          },
          "execution_count": 180
        }
      ]
    },
    {
      "cell_type": "code",
      "metadata": {
        "id": "Qnzq9660uDVv",
        "colab_type": "code",
        "colab": {
          "base_uri": "https://localhost:8080/",
          "height": 0
        },
        "outputId": "aca782ea-6e12-42e1-853f-ec025a8c3116"
      },
      "source": [
        "pd.crosstab(df['status'], df[6], margins=True)"
      ],
      "execution_count": 181,
      "outputs": [
        {
          "output_type": "execute_result",
          "data": {
            "text/html": [
              "<div>\n",
              "<style scoped>\n",
              "    .dataframe tbody tr th:only-of-type {\n",
              "        vertical-align: middle;\n",
              "    }\n",
              "\n",
              "    .dataframe tbody tr th {\n",
              "        vertical-align: top;\n",
              "    }\n",
              "\n",
              "    .dataframe thead th {\n",
              "        text-align: right;\n",
              "    }\n",
              "</style>\n",
              "<table border=\"1\" class=\"dataframe\">\n",
              "  <thead>\n",
              "    <tr style=\"text-align: right;\">\n",
              "      <th>6</th>\n",
              "      <th>bb</th>\n",
              "      <th>dd</th>\n",
              "      <th>ff</th>\n",
              "      <th>h</th>\n",
              "      <th>j</th>\n",
              "      <th>n</th>\n",
              "      <th>o</th>\n",
              "      <th>v</th>\n",
              "      <th>z</th>\n",
              "      <th>All</th>\n",
              "    </tr>\n",
              "    <tr>\n",
              "      <th>status</th>\n",
              "      <th></th>\n",
              "      <th></th>\n",
              "      <th></th>\n",
              "      <th></th>\n",
              "      <th></th>\n",
              "      <th></th>\n",
              "      <th></th>\n",
              "      <th></th>\n",
              "      <th></th>\n",
              "      <th></th>\n",
              "    </tr>\n",
              "  </thead>\n",
              "  <tbody>\n",
              "    <tr>\n",
              "      <th>0</th>\n",
              "      <td>34</td>\n",
              "      <td>4</td>\n",
              "      <td>49</td>\n",
              "      <td>51</td>\n",
              "      <td>5</td>\n",
              "      <td>2</td>\n",
              "      <td>1</td>\n",
              "      <td>230</td>\n",
              "      <td>2</td>\n",
              "      <td>378</td>\n",
              "    </tr>\n",
              "    <tr>\n",
              "      <th>1</th>\n",
              "      <td>25</td>\n",
              "      <td>2</td>\n",
              "      <td>8</td>\n",
              "      <td>87</td>\n",
              "      <td>3</td>\n",
              "      <td>2</td>\n",
              "      <td>1</td>\n",
              "      <td>169</td>\n",
              "      <td>6</td>\n",
              "      <td>303</td>\n",
              "    </tr>\n",
              "    <tr>\n",
              "      <th>All</th>\n",
              "      <td>59</td>\n",
              "      <td>6</td>\n",
              "      <td>57</td>\n",
              "      <td>138</td>\n",
              "      <td>8</td>\n",
              "      <td>4</td>\n",
              "      <td>2</td>\n",
              "      <td>399</td>\n",
              "      <td>8</td>\n",
              "      <td>681</td>\n",
              "    </tr>\n",
              "  </tbody>\n",
              "</table>\n",
              "</div>"
            ],
            "text/plain": [
              "6       bb  dd  ff    h  j  n  o    v  z  All\n",
              "status                                       \n",
              "0       34   4  49   51  5  2  1  230  2  378\n",
              "1       25   2   8   87  3  2  1  169  6  303\n",
              "All     59   6  57  138  8  4  2  399  8  681"
            ]
          },
          "metadata": {
            "tags": []
          },
          "execution_count": 181
        }
      ]
    },
    {
      "cell_type": "code",
      "metadata": {
        "id": "3CIbheoCuDcX",
        "colab_type": "code",
        "colab": {}
      },
      "source": [
        "contingency_8 = pd.crosstab(df['status'], df[8], margins=True)"
      ],
      "execution_count": 0,
      "outputs": []
    },
    {
      "cell_type": "code",
      "metadata": {
        "id": "h0IMebYeuDi-",
        "colab_type": "code",
        "colab": {}
      },
      "source": [
        "contingency_9 = pd.crosstab(df['status'], df[9], margins=True)"
      ],
      "execution_count": 0,
      "outputs": []
    },
    {
      "cell_type": "code",
      "metadata": {
        "id": "85WDbySuuDqO",
        "colab_type": "code",
        "colab": {
          "base_uri": "https://localhost:8080/",
          "height": 0
        },
        "outputId": "31d6ccca-dbe0-4121-ee1f-7bb90e166e7b"
      },
      "source": [
        "pd.crosstab(df['status'], df[11], margins=True)"
      ],
      "execution_count": 184,
      "outputs": [
        {
          "output_type": "execute_result",
          "data": {
            "text/html": [
              "<div>\n",
              "<style scoped>\n",
              "    .dataframe tbody tr th:only-of-type {\n",
              "        vertical-align: middle;\n",
              "    }\n",
              "\n",
              "    .dataframe tbody tr th {\n",
              "        vertical-align: top;\n",
              "    }\n",
              "\n",
              "    .dataframe thead th {\n",
              "        text-align: right;\n",
              "    }\n",
              "</style>\n",
              "<table border=\"1\" class=\"dataframe\">\n",
              "  <thead>\n",
              "    <tr style=\"text-align: right;\">\n",
              "      <th>11</th>\n",
              "      <th>f</th>\n",
              "      <th>t</th>\n",
              "      <th>All</th>\n",
              "    </tr>\n",
              "    <tr>\n",
              "      <th>status</th>\n",
              "      <th></th>\n",
              "      <th></th>\n",
              "      <th></th>\n",
              "    </tr>\n",
              "  </thead>\n",
              "  <tbody>\n",
              "    <tr>\n",
              "      <th>0</th>\n",
              "      <td>213</td>\n",
              "      <td>170</td>\n",
              "      <td>383</td>\n",
              "    </tr>\n",
              "    <tr>\n",
              "      <th>1</th>\n",
              "      <td>161</td>\n",
              "      <td>146</td>\n",
              "      <td>307</td>\n",
              "    </tr>\n",
              "    <tr>\n",
              "      <th>All</th>\n",
              "      <td>374</td>\n",
              "      <td>316</td>\n",
              "      <td>690</td>\n",
              "    </tr>\n",
              "  </tbody>\n",
              "</table>\n",
              "</div>"
            ],
            "text/plain": [
              "11        f    t  All\n",
              "status               \n",
              "0       213  170  383\n",
              "1       161  146  307\n",
              "All     374  316  690"
            ]
          },
          "metadata": {
            "tags": []
          },
          "execution_count": 184
        }
      ]
    },
    {
      "cell_type": "code",
      "metadata": {
        "id": "jdQa2YJouDxG",
        "colab_type": "code",
        "colab": {
          "base_uri": "https://localhost:8080/",
          "height": 0
        },
        "outputId": "88436d14-983e-4649-80cc-1c28fefee361"
      },
      "source": [
        "pd.crosstab(df['status'], df[12], margins=True)"
      ],
      "execution_count": 185,
      "outputs": [
        {
          "output_type": "execute_result",
          "data": {
            "text/html": [
              "<div>\n",
              "<style scoped>\n",
              "    .dataframe tbody tr th:only-of-type {\n",
              "        vertical-align: middle;\n",
              "    }\n",
              "\n",
              "    .dataframe tbody tr th {\n",
              "        vertical-align: top;\n",
              "    }\n",
              "\n",
              "    .dataframe thead th {\n",
              "        text-align: right;\n",
              "    }\n",
              "</style>\n",
              "<table border=\"1\" class=\"dataframe\">\n",
              "  <thead>\n",
              "    <tr style=\"text-align: right;\">\n",
              "      <th>12</th>\n",
              "      <th>g</th>\n",
              "      <th>p</th>\n",
              "      <th>s</th>\n",
              "      <th>All</th>\n",
              "    </tr>\n",
              "    <tr>\n",
              "      <th>status</th>\n",
              "      <th></th>\n",
              "      <th></th>\n",
              "      <th></th>\n",
              "      <th></th>\n",
              "    </tr>\n",
              "  </thead>\n",
              "  <tbody>\n",
              "    <tr>\n",
              "      <th>0</th>\n",
              "      <td>338</td>\n",
              "      <td>3</td>\n",
              "      <td>42</td>\n",
              "      <td>383</td>\n",
              "    </tr>\n",
              "    <tr>\n",
              "      <th>1</th>\n",
              "      <td>287</td>\n",
              "      <td>5</td>\n",
              "      <td>15</td>\n",
              "      <td>307</td>\n",
              "    </tr>\n",
              "    <tr>\n",
              "      <th>All</th>\n",
              "      <td>625</td>\n",
              "      <td>8</td>\n",
              "      <td>57</td>\n",
              "      <td>690</td>\n",
              "    </tr>\n",
              "  </tbody>\n",
              "</table>\n",
              "</div>"
            ],
            "text/plain": [
              "12        g  p   s  All\n",
              "status                 \n",
              "0       338  3  42  383\n",
              "1       287  5  15  307\n",
              "All     625  8  57  690"
            ]
          },
          "metadata": {
            "tags": []
          },
          "execution_count": 185
        }
      ]
    },
    {
      "cell_type": "markdown",
      "metadata": {
        "id": "qVgIJyvW0ijL",
        "colab_type": "text"
      },
      "source": [
        "#### chi2 tests"
      ]
    },
    {
      "cell_type": "code",
      "metadata": {
        "id": "4c7qyYohulJw",
        "colab_type": "code",
        "colab": {
          "base_uri": "https://localhost:8080/",
          "height": 0
        },
        "outputId": "93930244-89e6-49a7-eae9-4fe0df445238"
      },
      "source": [
        "scipy.stats.chi2_contingency(contingency_8)"
      ],
      "execution_count": 186,
      "outputs": [
        {
          "output_type": "execute_result",
          "data": {
            "text/plain": [
              "(358.1003264716328,\n",
              " 3.125328283651331e-76,\n",
              " 4,\n",
              " array([[182.61884058, 200.38115942, 383.        ],\n",
              "        [146.38115942, 160.61884058, 307.        ],\n",
              "        [329.        , 361.        , 690.        ]]))"
            ]
          },
          "metadata": {
            "tags": []
          },
          "execution_count": 186
        }
      ]
    },
    {
      "cell_type": "markdown",
      "metadata": {
        "id": "uRzYdYd4vfru",
        "colab_type": "text"
      },
      "source": [
        "With a p-value << 0.01 we can reject the null hypothesis that variable 8 and a borrower's approval status are independent."
      ]
    },
    {
      "cell_type": "code",
      "metadata": {
        "id": "s29qbVg_vfAb",
        "colab_type": "code",
        "colab": {
          "base_uri": "https://localhost:8080/",
          "height": 0
        },
        "outputId": "21a7e0a0-b5ed-41cf-8875-ef64362e00ec"
      },
      "source": [
        "scipy.stats.chi2_contingency(contingency_9)"
      ],
      "execution_count": 187,
      "outputs": [
        {
          "output_type": "execute_result",
          "data": {
            "text/plain": [
              "(144.9276762819937,\n",
              " 2.485584730494459e-30,\n",
              " 4,\n",
              " array([[219.25362319, 163.74637681, 383.        ],\n",
              "        [175.74637681, 131.25362319, 307.        ],\n",
              "        [395.        , 295.        , 690.        ]]))"
            ]
          },
          "metadata": {
            "tags": []
          },
          "execution_count": 187
        }
      ]
    },
    {
      "cell_type": "markdown",
      "metadata": {
        "id": "_WQWujuZwGDA",
        "colab_type": "text"
      },
      "source": [
        "Th ep-value for this chi2 test isn't nearly as extreme as it was for variable 8, but it's still << 0.01. This allows us to reject the null hypothesis that variable 9 and a borrower's approval status are independent."
      ]
    },
    {
      "cell_type": "markdown",
      "metadata": {
        "id": "ZM8JckA2bgnp",
        "colab_type": "text"
      },
      "source": [
        "## Part 3 - Analysis and Interpretation\n",
        "\n",
        "Now that you've looked at the data, answer the following questions:\n",
        "\n",
        "- Interpret and explain the two t-tests you ran - what do they tell you about the relationships between the continuous features you selected and the class labels?\n",
        "- Interpret and explain the two Chi-squared tests you ran - what do they tell you about the relationships between the categorical features you selected and the class labels?\n",
        "- What was the most challenging part of this sprint challenge?\n",
        "\n",
        "Answer with text, but feel free to intersperse example code/results or refer to it from earlier."
      ]
    },
    {
      "cell_type": "markdown",
      "metadata": {
        "id": "LIozLDNG2Uhu",
        "colab_type": "text"
      },
      "source": [
        "### t-test: Variable 10\n",
        "\n",
        "test-statistic: 11.7\n",
        "\n",
        "p-value: $7.96 * 10^{-29}$\n",
        "\n",
        "The borrowing data was first split in two according to the approval status of the borrower. From observing the two resulting distributions of Variable 10 led me to believe that the mean of Variable 10 for those who were approved would be higher than that for those who were denied.\n",
        "\n",
        "The t-test returned a positive test-statistic, meaning that the calculated mean of Variable 10 for those approved is higher than the calculated mean for those who were denied. But is it **significantly** higher?\n",
        "\n",
        "The p-value of $7.96 * 10^{-29}$ tells us that there is an extraordinarily small chance that the difference we observed in the means is due to chance.\n",
        "\n",
        "We can say that the mean of Variable 10 is higher for those approved than it is for those denied, with 99% confidence."
      ]
    },
    {
      "cell_type": "markdown",
      "metadata": {
        "id": "B_i-rwy08Cun",
        "colab_type": "text"
      },
      "source": [
        "### t-test: Variable 14\n",
        "\n",
        "test-statistic: 4.68\n",
        "\n",
        "p-value: $3.45 * 10^{-6}$\n",
        "\n",
        "From the distributions, it seems that the mean for Variable 14 is higher for those who were accepted than it is for those who were denied.\n",
        "\n",
        "The t-test again returned a positive statistic, confirming that the direction of my observation is at least correct.\n",
        "\n",
        "The p-value of  $3.45 * 10^{-6}$ tells us that there is a wildly small probability that the difference in means is due to chance.\n",
        "\n",
        "We can say that the mean of Variable 14 is higher for those approved than for those denied."
      ]
    },
    {
      "cell_type": "markdown",
      "metadata": {
        "id": "aHDXCbjo83eo",
        "colab_type": "text"
      },
      "source": [
        "### chi2-test: Variable 8\n",
        "\n",
        "chi2: 358\n",
        "\n",
        "p-value: $3.13 * 10^{-76}$\n",
        "\n",
        "From the crosstabs, it looked like many more of those who were approved belonged to 't' than belonged to 'f'.\n",
        "\n",
        "To confirm this suspicion, I ran a chi2 test. The extraordinarily low p-value allows us to reject the null hypothesis that approval status and Variable 8 are independent."
      ]
    },
    {
      "cell_type": "code",
      "metadata": {
        "id": "0ZpfVlqN9pJ7",
        "colab_type": "code",
        "colab": {
          "base_uri": "https://localhost:8080/",
          "height": 0
        },
        "outputId": "617e0c8e-4b27-4b15-96ed-1362251bd305"
      },
      "source": [
        "contingency_8"
      ],
      "execution_count": 188,
      "outputs": [
        {
          "output_type": "execute_result",
          "data": {
            "text/html": [
              "<div>\n",
              "<style scoped>\n",
              "    .dataframe tbody tr th:only-of-type {\n",
              "        vertical-align: middle;\n",
              "    }\n",
              "\n",
              "    .dataframe tbody tr th {\n",
              "        vertical-align: top;\n",
              "    }\n",
              "\n",
              "    .dataframe thead th {\n",
              "        text-align: right;\n",
              "    }\n",
              "</style>\n",
              "<table border=\"1\" class=\"dataframe\">\n",
              "  <thead>\n",
              "    <tr style=\"text-align: right;\">\n",
              "      <th>8</th>\n",
              "      <th>f</th>\n",
              "      <th>t</th>\n",
              "      <th>All</th>\n",
              "    </tr>\n",
              "    <tr>\n",
              "      <th>status</th>\n",
              "      <th></th>\n",
              "      <th></th>\n",
              "      <th></th>\n",
              "    </tr>\n",
              "  </thead>\n",
              "  <tbody>\n",
              "    <tr>\n",
              "      <th>0</th>\n",
              "      <td>306</td>\n",
              "      <td>77</td>\n",
              "      <td>383</td>\n",
              "    </tr>\n",
              "    <tr>\n",
              "      <th>1</th>\n",
              "      <td>23</td>\n",
              "      <td>284</td>\n",
              "      <td>307</td>\n",
              "    </tr>\n",
              "    <tr>\n",
              "      <th>All</th>\n",
              "      <td>329</td>\n",
              "      <td>361</td>\n",
              "      <td>690</td>\n",
              "    </tr>\n",
              "  </tbody>\n",
              "</table>\n",
              "</div>"
            ],
            "text/plain": [
              "8         f    t  All\n",
              "status               \n",
              "0       306   77  383\n",
              "1        23  284  307\n",
              "All     329  361  690"
            ]
          },
          "metadata": {
            "tags": []
          },
          "execution_count": 188
        }
      ]
    },
    {
      "cell_type": "markdown",
      "metadata": {
        "id": "XY0ir3LE-XF5",
        "colab_type": "text"
      },
      "source": [
        "### chi2-test: Variable 9\n",
        "\n",
        "chi2: 145\n",
        "\n",
        "p-value: $2.49 * 10^{-30}$\n",
        "\n",
        "The crosstab shows that a higher proportion of those approved are in 't' than in 'f'. Vice versa for those who were denied.\n",
        "\n",
        "The chi2 test returns a p-value of $2.49 * 10^{-30}$ which is again, far less than 0.01. This allows us to reject the null hypothesis that approval status and Variable 9 are independent."
      ]
    },
    {
      "cell_type": "code",
      "metadata": {
        "id": "IEYnX8-C-ZwN",
        "colab_type": "code",
        "colab": {
          "base_uri": "https://localhost:8080/",
          "height": 0
        },
        "outputId": "72109431-c8b2-4d7f-d71a-97477d1d714e"
      },
      "source": [
        "contingency_9"
      ],
      "execution_count": 189,
      "outputs": [
        {
          "output_type": "execute_result",
          "data": {
            "text/html": [
              "<div>\n",
              "<style scoped>\n",
              "    .dataframe tbody tr th:only-of-type {\n",
              "        vertical-align: middle;\n",
              "    }\n",
              "\n",
              "    .dataframe tbody tr th {\n",
              "        vertical-align: top;\n",
              "    }\n",
              "\n",
              "    .dataframe thead th {\n",
              "        text-align: right;\n",
              "    }\n",
              "</style>\n",
              "<table border=\"1\" class=\"dataframe\">\n",
              "  <thead>\n",
              "    <tr style=\"text-align: right;\">\n",
              "      <th>9</th>\n",
              "      <th>f</th>\n",
              "      <th>t</th>\n",
              "      <th>All</th>\n",
              "    </tr>\n",
              "    <tr>\n",
              "      <th>status</th>\n",
              "      <th></th>\n",
              "      <th></th>\n",
              "      <th></th>\n",
              "    </tr>\n",
              "  </thead>\n",
              "  <tbody>\n",
              "    <tr>\n",
              "      <th>0</th>\n",
              "      <td>297</td>\n",
              "      <td>86</td>\n",
              "      <td>383</td>\n",
              "    </tr>\n",
              "    <tr>\n",
              "      <th>1</th>\n",
              "      <td>98</td>\n",
              "      <td>209</td>\n",
              "      <td>307</td>\n",
              "    </tr>\n",
              "    <tr>\n",
              "      <th>All</th>\n",
              "      <td>395</td>\n",
              "      <td>295</td>\n",
              "      <td>690</td>\n",
              "    </tr>\n",
              "  </tbody>\n",
              "</table>\n",
              "</div>"
            ],
            "text/plain": [
              "9         f    t  All\n",
              "status               \n",
              "0       297   86  383\n",
              "1        98  209  307\n",
              "All     395  295  690"
            ]
          },
          "metadata": {
            "tags": []
          },
          "execution_count": 189
        }
      ]
    },
    {
      "cell_type": "markdown",
      "metadata": {
        "id": "6fycXcTA_YqV",
        "colab_type": "text"
      },
      "source": [
        "The most difficult part of this sprint challenge was finding the best way to search for differences in the continuous variables. Luckily, there are a few variables whose differences between approval status is pretty obvious. Once I had the data cleaned up and split into groups based on approval status, performing the tests was pretty simple.\n",
        "\n",
        "Explaining the results of t-tests and chi2-tests in meaningful ways is a challenge as well."
      ]
    }
  ]
}