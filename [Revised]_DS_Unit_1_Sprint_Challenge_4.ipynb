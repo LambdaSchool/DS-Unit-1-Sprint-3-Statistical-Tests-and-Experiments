{
  "nbformat": 4,
  "nbformat_minor": 0,
  "metadata": {
    "colab": {
      "name": "[Revised] DS_Unit_1_Sprint_Challenge_4.ipynb",
      "version": "0.3.2",
      "provenance": [],
      "collapsed_sections": [],
      "include_colab_link": true
    },
    "kernelspec": {
      "name": "python3",
      "display_name": "Python 3"
    }
  },
  "cells": [
    {
      "cell_type": "markdown",
      "metadata": {
        "id": "view-in-github",
        "colab_type": "text"
      },
      "source": [
        "<a href=\"https://colab.research.google.com/github/axrd/DS-Unit-1-Sprint-4-Statistical-Tests-and-Experiments/blob/master/%5BRevised%5D_DS_Unit_1_Sprint_Challenge_4.ipynb\" target=\"_parent\"><img src=\"https://colab.research.google.com/assets/colab-badge.svg\" alt=\"Open In Colab\"/></a>"
      ]
    },
    {
      "metadata": {
        "id": "NooAiTdnafkz",
        "colab_type": "text"
      },
      "cell_type": "markdown",
      "source": [
        "# Data Science Unit 1 Sprint Challenge 4\n",
        "\n",
        "## Exploring Data, Testing Hypotheses\n",
        "\n",
        "In this sprint challenge you will look at a dataset of people being approved or rejected for credit.\n",
        "\n",
        "https://archive.ics.uci.edu/ml/datasets/Credit+Approval\n",
        "\n",
        "Data Set Information: This file concerns credit card applications. All attribute names and values have been changed to meaningless symbols to protect confidentiality of the data. This dataset is interesting because there is a good mix of attributes -- continuous, nominal with small numbers of values, and nominal with larger numbers of values. There are also a few missing values.\n",
        "\n",
        "Attribute Information:\n",
        "- A1: b, a.\n",
        "- A2: continuous.\n",
        "- A3: continuous.\n",
        "- A4: u, y, l, t.\n",
        "- A5: g, p, gg.\n",
        "- A6: c, d, cc, i, j, k, m, r, q, w, x, e, aa, ff.\n",
        "- A7: v, h, bb, j, n, z, dd, ff, o.\n",
        "- A8: continuous.\n",
        "- A9: t, f.\n",
        "- A10: t, f.\n",
        "- A11: continuous.\n",
        "- A12: t, f.\n",
        "- A13: g, p, s.\n",
        "- A14: continuous.\n",
        "- A15: continuous.\n",
        "- A16: +,- (class attribute)\n",
        "\n",
        "Yes, most of that doesn't mean anything. A16 (the class attribute) is the most interesting, as it separates the 307 approved cases from the 383 rejected cases. The remaining variables have been obfuscated for privacy - a challenge you may have to deal with in your data science career.\n",
        "\n",
        "Sprint challenges are evaluated based on satisfactory completion of each part. It is suggested you work through it in order, getting each aspect reasonably working, before trying to deeply explore, iterate, or refine any given step. Once you get to the end, if you want to go back and improve things, go for it!"
      ]
    },
    {
      "metadata": {
        "id": "5wch6ksCbJtZ",
        "colab_type": "text"
      },
      "cell_type": "markdown",
      "source": [
        "## Part 1 - Load and validate the data\n",
        "\n",
        "- Load the data as a `pandas` data frame.\n",
        "- Validate that it has the appropriate number of observations (you can check the raw file, and also read the dataset description from UCI).\n",
        "- UCI says there should be missing data - check, and if necessary change the data so pandas recognizes it as na\n",
        "- Make sure that the loaded features are of the types described above (continuous values should be treated as float), and correct as necessary\n",
        "\n",
        "This is review, but skills that you'll use at the start of any data exploration. Further, you may have to do some investigation to figure out which file to load from - that is part of the puzzle."
      ]
    },
    {
      "metadata": {
        "id": "Q79xDLckzibS",
        "colab_type": "code",
        "outputId": "a10c4643-3c35-48c1-fabd-d5d89dd909a3",
        "colab": {
          "base_uri": "https://localhost:8080/",
          "height": 195
        }
      },
      "cell_type": "code",
      "source": [
        "# TODO\n",
        "import pandas as pd\n",
        "\n",
        "# Loading and assigning column names:\n",
        "df = pd.read_csv('https://archive.ics.uci.edu/ml/machine-learning-databases/credit-screening/crx.data')\n",
        "df.columns = ['A1', 'A2', 'A3', 'A4', 'A5', 'A6', 'A7', 'A8', 'A9', 'A10', 'A11', 'A12', 'A13', 'A14', 'A15', 'A16']\n",
        "df.shape\n",
        "df.head()"
      ],
      "execution_count": 2,
      "outputs": [
        {
          "output_type": "execute_result",
          "data": {
            "text/html": [
              "<div>\n",
              "<style scoped>\n",
              "    .dataframe tbody tr th:only-of-type {\n",
              "        vertical-align: middle;\n",
              "    }\n",
              "\n",
              "    .dataframe tbody tr th {\n",
              "        vertical-align: top;\n",
              "    }\n",
              "\n",
              "    .dataframe thead th {\n",
              "        text-align: right;\n",
              "    }\n",
              "</style>\n",
              "<table border=\"1\" class=\"dataframe\">\n",
              "  <thead>\n",
              "    <tr style=\"text-align: right;\">\n",
              "      <th></th>\n",
              "      <th>A1</th>\n",
              "      <th>A2</th>\n",
              "      <th>A3</th>\n",
              "      <th>A4</th>\n",
              "      <th>A5</th>\n",
              "      <th>A6</th>\n",
              "      <th>A7</th>\n",
              "      <th>A8</th>\n",
              "      <th>A9</th>\n",
              "      <th>A10</th>\n",
              "      <th>A11</th>\n",
              "      <th>A12</th>\n",
              "      <th>A13</th>\n",
              "      <th>A14</th>\n",
              "      <th>A15</th>\n",
              "      <th>A16</th>\n",
              "    </tr>\n",
              "  </thead>\n",
              "  <tbody>\n",
              "    <tr>\n",
              "      <th>0</th>\n",
              "      <td>a</td>\n",
              "      <td>58.67</td>\n",
              "      <td>4.460</td>\n",
              "      <td>u</td>\n",
              "      <td>g</td>\n",
              "      <td>q</td>\n",
              "      <td>h</td>\n",
              "      <td>3.04</td>\n",
              "      <td>t</td>\n",
              "      <td>t</td>\n",
              "      <td>6</td>\n",
              "      <td>f</td>\n",
              "      <td>g</td>\n",
              "      <td>00043</td>\n",
              "      <td>560</td>\n",
              "      <td>+</td>\n",
              "    </tr>\n",
              "    <tr>\n",
              "      <th>1</th>\n",
              "      <td>a</td>\n",
              "      <td>24.50</td>\n",
              "      <td>0.500</td>\n",
              "      <td>u</td>\n",
              "      <td>g</td>\n",
              "      <td>q</td>\n",
              "      <td>h</td>\n",
              "      <td>1.50</td>\n",
              "      <td>t</td>\n",
              "      <td>f</td>\n",
              "      <td>0</td>\n",
              "      <td>f</td>\n",
              "      <td>g</td>\n",
              "      <td>00280</td>\n",
              "      <td>824</td>\n",
              "      <td>+</td>\n",
              "    </tr>\n",
              "    <tr>\n",
              "      <th>2</th>\n",
              "      <td>b</td>\n",
              "      <td>27.83</td>\n",
              "      <td>1.540</td>\n",
              "      <td>u</td>\n",
              "      <td>g</td>\n",
              "      <td>w</td>\n",
              "      <td>v</td>\n",
              "      <td>3.75</td>\n",
              "      <td>t</td>\n",
              "      <td>t</td>\n",
              "      <td>5</td>\n",
              "      <td>t</td>\n",
              "      <td>g</td>\n",
              "      <td>00100</td>\n",
              "      <td>3</td>\n",
              "      <td>+</td>\n",
              "    </tr>\n",
              "    <tr>\n",
              "      <th>3</th>\n",
              "      <td>b</td>\n",
              "      <td>20.17</td>\n",
              "      <td>5.625</td>\n",
              "      <td>u</td>\n",
              "      <td>g</td>\n",
              "      <td>w</td>\n",
              "      <td>v</td>\n",
              "      <td>1.71</td>\n",
              "      <td>t</td>\n",
              "      <td>f</td>\n",
              "      <td>0</td>\n",
              "      <td>f</td>\n",
              "      <td>s</td>\n",
              "      <td>00120</td>\n",
              "      <td>0</td>\n",
              "      <td>+</td>\n",
              "    </tr>\n",
              "    <tr>\n",
              "      <th>4</th>\n",
              "      <td>b</td>\n",
              "      <td>32.08</td>\n",
              "      <td>4.000</td>\n",
              "      <td>u</td>\n",
              "      <td>g</td>\n",
              "      <td>m</td>\n",
              "      <td>v</td>\n",
              "      <td>2.50</td>\n",
              "      <td>t</td>\n",
              "      <td>f</td>\n",
              "      <td>0</td>\n",
              "      <td>t</td>\n",
              "      <td>g</td>\n",
              "      <td>00360</td>\n",
              "      <td>0</td>\n",
              "      <td>+</td>\n",
              "    </tr>\n",
              "  </tbody>\n",
              "</table>\n",
              "</div>"
            ],
            "text/plain": [
              "  A1     A2     A3 A4 A5 A6 A7    A8 A9 A10  A11 A12 A13    A14  A15 A16\n",
              "0  a  58.67  4.460  u  g  q  h  3.04  t   t    6   f   g  00043  560   +\n",
              "1  a  24.50  0.500  u  g  q  h  1.50  t   f    0   f   g  00280  824   +\n",
              "2  b  27.83  1.540  u  g  w  v  3.75  t   t    5   t   g  00100    3   +\n",
              "3  b  20.17  5.625  u  g  w  v  1.71  t   f    0   f   s  00120    0   +\n",
              "4  b  32.08  4.000  u  g  m  v  2.50  t   f    0   t   g  00360    0   +"
            ]
          },
          "metadata": {
            "tags": []
          },
          "execution_count": 2
        }
      ]
    },
    {
      "metadata": {
        "id": "1wxsdF7JergW",
        "colab_type": "code",
        "colab": {}
      },
      "cell_type": "code",
      "source": [
        "# UCI lists missing values as follows:\n",
        "    # A1:  12\n",
        "    # A2:  12\n",
        "    # A4:   6\n",
        "    # A5:   6\n",
        "    # A6:   9\n",
        "    # A7:   9\n",
        "    # A14: 13\n",
        "    \n",
        "# Going by columns we can find missing values and how they're written:\n",
        "#df.A14.value_counts()\n",
        "\n",
        "# They're all labeled as '?'. In total 37 cases (~5%) of missing data across the df. \n"
      ],
      "execution_count": 0,
      "outputs": []
    },
    {
      "metadata": {
        "id": "nIKEDyVCi11F",
        "colab_type": "code",
        "colab": {}
      },
      "cell_type": "code",
      "source": [
        "# Since it's only 5% of the data, I dropped all the rows that had missing values for now.  \n",
        "df = df[df != '?']\n"
      ],
      "execution_count": 0,
      "outputs": []
    },
    {
      "metadata": {
        "id": "fAqWqXivjkMA",
        "colab_type": "text"
      },
      "cell_type": "markdown",
      "source": [
        "**ADJUSTMENT #1: ** *I thought I dropped the missing values. Instead, \n",
        "my method just replaced \"?\" with NaNs, causing problems down the road. I addressed that further below in Part 2.*"
      ]
    },
    {
      "metadata": {
        "id": "24JPYhAVggNp",
        "colab_type": "code",
        "colab": {
          "base_uri": "https://localhost:8080/",
          "height": 302
        },
        "outputId": "5c5ed242-6100-49b6-8eff-084c828dd6b5"
      },
      "cell_type": "code",
      "source": [
        "df.isna().sum()"
      ],
      "execution_count": 4,
      "outputs": [
        {
          "output_type": "execute_result",
          "data": {
            "text/plain": [
              "A1     12\n",
              "A2     12\n",
              "A3      0\n",
              "A4      6\n",
              "A5      6\n",
              "A6      9\n",
              "A7      9\n",
              "A8      0\n",
              "A9      0\n",
              "A10     0\n",
              "A11     0\n",
              "A12     0\n",
              "A13     0\n",
              "A14    13\n",
              "A15     0\n",
              "A16     0\n",
              "dtype: int64"
            ]
          },
          "metadata": {
            "tags": []
          },
          "execution_count": 4
        }
      ]
    },
    {
      "metadata": {
        "colab_type": "text",
        "id": "A95MWyfEhv76"
      },
      "cell_type": "markdown",
      "source": [
        "**Data Types: ** *Switched up data from Object to Floats*"
      ]
    },
    {
      "metadata": {
        "id": "lh-hdh6KqMgX",
        "colab_type": "code",
        "colab": {}
      },
      "cell_type": "code",
      "source": [
        "# A2 and A14 are supposed to continous but have a dtype of object. Changing them to floats. \n",
        "df['A2'] = df.A2.astype(float)\n",
        "df['A14'] = df.A14.astype(float)\n"
      ],
      "execution_count": 0,
      "outputs": []
    },
    {
      "metadata": {
        "id": "ak0rYuuJsUbO",
        "colab_type": "code",
        "outputId": "b788e347-a2f7-4fd7-b4bb-93ed3782181d",
        "colab": {
          "base_uri": "https://localhost:8080/",
          "height": 302
        }
      },
      "cell_type": "code",
      "source": [
        "df.A2.describe(), df.A14.describe()"
      ],
      "execution_count": 6,
      "outputs": [
        {
          "output_type": "execute_result",
          "data": {
            "text/plain": [
              "(count    677.000000\n",
              " mean      31.569261\n",
              " std       11.966670\n",
              " min       13.750000\n",
              " 25%       22.580000\n",
              " 50%       28.420000\n",
              " 75%       38.250000\n",
              " max       80.250000\n",
              " Name: A2, dtype: float64, count     676.000000\n",
              " mean      183.988166\n",
              " std       173.934087\n",
              " min         0.000000\n",
              " 25%        74.500000\n",
              " 50%       160.000000\n",
              " 75%       277.000000\n",
              " max      2000.000000\n",
              " Name: A14, dtype: float64)"
            ]
          },
          "metadata": {
            "tags": []
          },
          "execution_count": 6
        }
      ]
    },
    {
      "metadata": {
        "id": "flvRcMLypEmR",
        "colab_type": "code",
        "colab": {
          "base_uri": "https://localhost:8080/",
          "height": 168
        },
        "outputId": "98f24def-04b6-496e-ace5-e8fd828ca217"
      },
      "cell_type": "code",
      "source": [
        "df.A16.describe()"
      ],
      "execution_count": 31,
      "outputs": [
        {
          "output_type": "execute_result",
          "data": {
            "text/plain": [
              "count    689.000000\n",
              "mean       0.444122\n",
              "std        0.497229\n",
              "min        0.000000\n",
              "25%        0.000000\n",
              "50%        0.000000\n",
              "75%        1.000000\n",
              "max        1.000000\n",
              "Name: A16, dtype: float64"
            ]
          },
          "metadata": {
            "tags": []
          },
          "execution_count": 31
        }
      ]
    },
    {
      "metadata": {
        "id": "G7rLytbrO38L",
        "colab_type": "text"
      },
      "cell_type": "markdown",
      "source": [
        "## Part 2 - Exploring data, Testing hypotheses\n",
        "\n",
        "The only thing we really know about this data is that A16 is the class label. Besides that, we have 6 continuous (float) features and 9 categorical features.\n",
        "\n",
        "Explore the data: you can use whatever approach (tables, utility functions, visualizations) to get an impression of the distributions and relationships of the variables. In general, your goal is to understand how the features are different when grouped by the two class labels (`+` and `-`).\n",
        "\n",
        "For the 6 continuous features, how are they different when split between the two class labels? Choose two features to run t-tests (again split by class label) - specifically, select one feature that is *extremely* different between the classes, and another feature that is notably less different (though perhaps still \"statistically significantly\" different). You may have to explore more than two features to do this.\n",
        "\n",
        "For the categorical features, explore by creating \"cross tabs\" between them and the class label, and apply the Chi-squared test to them. There are 9 categorical features - as with the t-test, try to find one where the Chi-squared test returns an extreme result (rejecting the null that the data are independent), and one where it is less extreme.\n",
        "\n",
        "**NOTE** - \"less extreme\" just means smaller test statistic/larger p-value. Even the least extreme differences may be strongly statistically significant.\n",
        "\n",
        "Your *main* goal is the hypothesis tests, so don't spend too much time on the exploration/visualization piece. That is just a means to an end. This is challenging, so manage your time and aim for a baseline of at least running two t-tests and two Chi-squared tests before polishing. And don't forget to answer the questions in part 3, even if your results in this part aren't what you want them to be."
      ]
    },
    {
      "metadata": {
        "id": "_nqcgc0yzm68",
        "colab_type": "code",
        "colab": {}
      },
      "cell_type": "code",
      "source": [
        "# Importing tools:\n",
        "from scipy import stats\n",
        "from scipy.stats import ttest_ind\n",
        "import numpy as np\n",
        "import matplotlib.pyplot as plt"
      ],
      "execution_count": 0,
      "outputs": []
    },
    {
      "metadata": {
        "colab_type": "text",
        "id": "AdFbXtjmnSdq"
      },
      "cell_type": "markdown",
      "source": [
        "**ADJUSTMENT #2: ** *I originally used a facetgrid of histograms with the seaborn library. This made it difficult to visualize relationships among the different features against the A16 class. Using boxplots instead is way better because you can see the quartile ranges and infer a lot more because of it. Omitting outliers also helps normalize the visuals by using relevant scales instead of a general one across the board.*"
      ]
    },
    {
      "metadata": {
        "id": "An_zsJBBt9fd",
        "colab_type": "code",
        "outputId": "d133095f-7ab7-45d8-858d-c85601799460",
        "colab": {
          "base_uri": "https://localhost:8080/",
          "height": 1721
        }
      },
      "cell_type": "code",
      "source": [
        "# Visualizing the continuous attributes against class (+,-) using Boxplots:\n",
        "cols = [\"A2\", \"A3\", \"A8\", \"A11\", \"A14\", \"A15\"]\n",
        "\n",
        "boxplots = [df.boxplot(column=col, by=\"A16\", showfliers=False) for col in cols]\n",
        "\n"
      ],
      "execution_count": 29,
      "outputs": [
        {
          "output_type": "display_data",
          "data": {
            "image/png": "[encoded data removed]",
            "text/plain": [
              "<matplotlib.figure.Figure at 0x7fedc76ab080>"
            ]
          },
          "metadata": {
            "tags": []
          }
        },
        {
          "output_type": "display_data",
          "data": {
            "image/png": "[encoded data removed]",
            "text/plain": [
              "<matplotlib.figure.Figure at 0x7fedc79ff4e0>"
            ]
          },
          "metadata": {
            "tags": []
          }
        },
        {
          "output_type": "display_data",
          "data": {
            "image/png": "[encoded data removed]",
            "text/plain": [
              "<matplotlib.figure.Figure at 0x7fedc7aba7b8>"
            ]
          },
          "metadata": {
            "tags": []
          }
        },
        {
          "output_type": "display_data",
          "data": {
            "image/png": "[encoded data removed]",
            "text/plain": [
              "<matplotlib.figure.Figure at 0x7fedc7aba748>"
            ]
          },
          "metadata": {
            "tags": []
          }
        },
        {
          "output_type": "display_data",
          "data": {
            "image/png": "[encoded data removed]",
            "text/plain": [
              "<matplotlib.figure.Figure at 0x7fedcb29d630>"
            ]
          },
          "metadata": {
            "tags": []
          }
        },
        {
          "output_type": "display_data",
          "data": {
            "image/png": "[encoded data removed]",
            "text/plain": [
              "<matplotlib.figure.Figure at 0x7fedc7c43160>"
            ]
          },
          "metadata": {
            "tags": []
          }
        }
      ]
    },
    {
      "metadata": {
        "id": "_UUnWjp1BiYY",
        "colab_type": "code",
        "colab": {
          "base_uri": "https://localhost:8080/",
          "height": 34
        },
        "outputId": "c577a393-9f2e-40d5-995c-d2dd5a1b790a"
      },
      "cell_type": "code",
      "source": [
        "# Now that we get a sense of which attributes correlate with approval we can run some T-tests. Starting with A15:\n",
        "\n",
        "# Splitting up DF into approved/not approved for convenience:\n",
        "pos_df = df[df.A16 == 1]\n",
        "neg_df = df[df.A16 == 0]\n",
        "\n",
        "# Really different case (A15)\n",
        "ttest_ind(pos_df.A15, neg_df.A15)"
      ],
      "execution_count": 35,
      "outputs": [
        {
          "output_type": "execute_result",
          "data": {
            "text/plain": [
              "Ttest_indResult(statistic=4.69003486307862, pvalue=3.296216085672561e-06)"
            ]
          },
          "metadata": {
            "tags": []
          },
          "execution_count": 35
        }
      ]
    },
    {
      "metadata": {
        "colab_type": "text",
        "id": "q2vqWteZqNRr"
      },
      "cell_type": "markdown",
      "source": [
        "**ADJUSTMENT #1: ** *Here the NaN values made the T-test produce a NaN output, so I just omitted them directly instead of incorrectly handling them across the dataframe like I originally did.*"
      ]
    },
    {
      "metadata": {
        "id": "fMvcBgiJppQ9",
        "colab_type": "code",
        "colab": {
          "base_uri": "https://localhost:8080/",
          "height": 34
        },
        "outputId": "5eac703c-a576-41ff-ab7f-7427b8826484"
      },
      "cell_type": "code",
      "source": [
        "# Less obvious case (A14)\n",
        "ttest_ind(pos_df.A14, neg_df.A14, nan_policy='omit')"
      ],
      "execution_count": 38,
      "outputs": [
        {
          "output_type": "execute_result",
          "data": {
            "text/plain": [
              "Ttest_indResult(statistic=-2.6408733636831654, pvalue=0.008460849261398617)"
            ]
          },
          "metadata": {
            "tags": []
          },
          "execution_count": 38
        }
      ]
    },
    {
      "metadata": {
        "id": "5vzKSZU1q5Ig",
        "colab_type": "code",
        "colab": {
          "base_uri": "https://localhost:8080/",
          "height": 1226
        },
        "outputId": "011c8684-5f38-411a-96a7-942a931eb122"
      },
      "cell_type": "code",
      "source": [
        "# Going to use one-way Chi Square for categorical features:\n",
        "from scipy.stats import chisquare \n",
        "\n",
        "categorical_feats = [df.A1, df.A4, df.A5, df.A6, df.A7, df.A9, df.A10, df.A12, df.A13]\n",
        "\n",
        "crosstabs = [pd.crosstab(df.A16, feat) for feat in categorical_feats]\n",
        "\n",
        "for crosstab in crosstabs:\n",
        "  print(crosstab)\n",
        "  print(chisquare(crosstab,axis=None))\n",
        "  print(\"\\n\\n\")"
      ],
      "execution_count": 39,
      "outputs": [
        {
          "output_type": "stream",
          "text": [
            "A1     a    b\n",
            "A16          \n",
            "0    112  262\n",
            "1     98  205\n",
            "Power_divergenceResult(statistic=107.73855243722305, pvalue=3.3649030043717534e-23)\n",
            "\n",
            "\n",
            "\n",
            "A4   l    u    y\n",
            "A16             \n",
            "0    0  263  118\n",
            "1    2  255   45\n",
            "Power_divergenceResult(statistic=636.0073206442169, pvalue=3.3482971675913735e-135)\n",
            "\n",
            "\n",
            "\n",
            "A5     g  gg    p\n",
            "A16              \n",
            "0    263   0  118\n",
            "1    255   2   45\n",
            "Power_divergenceResult(statistic=636.0073206442169, pvalue=3.3482971675913735e-135)\n",
            "\n",
            "\n",
            "\n",
            "A6   aa   c  cc   d   e  ff   i  j   k   m   q  r   w   x\n",
            "A16                                                      \n",
            "0    35  75  12  23  11  46  45  7  37  22  27  1  31   6\n",
            "1    19  62  29   7  14   7  14  3  14  16  51  2  32  32\n",
            "Power_divergenceResult(statistic=393.22352941176473, pvalue=1.196603255204163e-66)\n",
            "\n",
            "\n",
            "\n",
            "A7   bb  dd  ff   h  j  n  o    v  z\n",
            "A16                                 \n",
            "0    34   4  49  51  5  2  1  230  2\n",
            "1    25   2   8  87  3  2  1  168  6\n",
            "Power_divergenceResult(statistic=1851.7529411764706, pvalue=0.0)\n",
            "\n",
            "\n",
            "\n",
            "A9     f    t\n",
            "A16          \n",
            "0    306   77\n",
            "1     23  283\n",
            "Power_divergenceResult(statistic=357.05515239477506, pvalue=4.4256570604832364e-77)\n",
            "\n",
            "\n",
            "\n",
            "A10    f    t\n",
            "A16          \n",
            "0    297   86\n",
            "1     98  208\n",
            "Power_divergenceResult(statistic=172.96226415094338, pvalue=2.9182788819541667e-37)\n",
            "\n",
            "\n",
            "\n",
            "A12    f    t\n",
            "A16          \n",
            "0    213  170\n",
            "1    160  146\n",
            "Power_divergenceResult(statistic=14.541364296081277, pvalue=0.0022536509125048207)\n",
            "\n",
            "\n",
            "\n",
            "A13    g  p   s\n",
            "A16            \n",
            "0    338  3  42\n",
            "1    286  5  15\n",
            "Power_divergenceResult(statistic=1035.7866473149495, pvalue=1.0734179417834205e-221)\n",
            "\n",
            "\n",
            "\n"
          ],
          "name": "stdout"
        }
      ]
    },
    {
      "metadata": {
        "id": "ZM8JckA2bgnp",
        "colab_type": "text"
      },
      "cell_type": "markdown",
      "source": [
        "## Part 3 - Analysis and Interpretation\n",
        "\n",
        "Now that you've looked at the data, answer the following questions:\n",
        "\n",
        "- Interpret and explain the two t-tests you ran - what do they tell you about the relationships between the continuous features you selected and the class labels?\n",
        "- Interpret and explain the two Chi-squared tests you ran - what do they tell you about the relationships between the categorical features you selected and the class labels?\n",
        "- What was the most challenging part of this sprint challenge?\n",
        "\n",
        "Answer with text, but feel free to intersperse example code/results or refer to it from earlier."
      ]
    },
    {
      "metadata": {
        "id": "LjwPzdZV32Zt",
        "colab_type": "code",
        "colab": {}
      },
      "cell_type": "code",
      "source": [
        ""
      ],
      "execution_count": 0,
      "outputs": []
    },
    {
      "metadata": {
        "id": "jIm1bHgwqzns",
        "colab_type": "text"
      },
      "cell_type": "markdown",
      "source": [
        "For the **Continuous** features, I analyzed the relationship between A14 and A15 with getting approved (A16) using a T-Test. I chose these after visualizing them with boxplots and gauging their relationship. \n",
        "\n",
        "Upon closer inspection, A14 has a t-test statistic of -2.64 and a p-value of 0.0085. Clearly, it's statistically significant. A14 has a negative relationship with approval as evidenced by its negative statistic. If an applicant has more of whatever A14 measures, they're actually less likely to be approved. \n",
        "\n",
        "A15 on the other hand has a positive relationships. It's more likely that someone approved would have more of whatever A15 measures. It has a really small p-value of 0.0000033 and a positive statistic of 2.64.\n",
        "\n",
        "For the **Categorical** features, I analyzed the relationship between all of them (A1, A4, A5, A6, A7, A9, A10, A12, A13) and getting approved (A16) using a looping one-way Chi Squared Test. Chose A9 and A13 because they had small number of features. \n",
        "\n",
        "A9 has a really hjgh test statistic (>357) and suggests some sort of relationship between it's categorical features and the approval for credit (A16). Namely, the attribute 'f' in A9 appears far more often in cases where applicants were not approved, and the attribute 't' appears  far more often in cases where applicants were approved. \n",
        "\n",
        "A13 has an extreme statistic (>1035), probably in part because it has an attribute 'p' with barely any instances. However, the attribute 'S' appears to have a really different distribution between approved and not approved (roughly 3x more likely to be not approved).\n",
        "\n"
      ]
    }
  ]
}