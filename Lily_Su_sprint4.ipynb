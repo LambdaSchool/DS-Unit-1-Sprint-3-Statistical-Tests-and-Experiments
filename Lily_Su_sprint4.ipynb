{
  "nbformat": 4,
  "nbformat_minor": 0,
  "metadata": {
    "colab": {
      "name": "Lily_Su_sprint4.ipynb",
      "version": "0.3.2",
      "provenance": [],
      "collapsed_sections": [],
      "include_colab_link": true
    },
    "kernelspec": {
      "name": "python3",
      "display_name": "Python 3"
    }
  },
  "cells": [
    {
      "cell_type": "markdown",
      "metadata": {
        "id": "view-in-github",
        "colab_type": "text"
      },
      "source": [
        "<a href=\"https://colab.research.google.com/github/LilySu/DS-Unit-1-Sprint-4-Statistical-Tests-and-Experiments/blob/master/Lily_Su_sprint4.ipynb\" target=\"_parent\"><img src=\"https://colab.research.google.com/assets/colab-badge.svg\" alt=\"Open In Colab\"/></a>"
      ]
    },
    {
      "metadata": {
        "id": "NooAiTdnafkz",
        "colab_type": "text"
      },
      "cell_type": "markdown",
      "source": [
        "# Data Science Unit 1 Sprint Challenge 4\n",
        "\n",
        "## Exploring Data, Testing Hypotheses\n",
        "\n",
        "In this sprint challenge you will look at a dataset of people being approved or rejected for credit.\n",
        "\n",
        "https://archive.ics.uci.edu/ml/datasets/Credit+Approval\n",
        "\n",
        "Data Set Information: This file concerns credit card applications. All attribute names and values have been changed to meaningless symbols to protect confidentiality of the data. This dataset is interesting because there is a good mix of attributes -- continuous, nominal with small numbers of values, and nominal with larger numbers of values. There are also a few missing values.\n",
        "\n",
        "Attribute Information:\n",
        "- A1: b, a.\n",
        "- A2: continuous.\n",
        "- A3: continuous.\n",
        "- A4: u, y, l, t.\n",
        "- A5: g, p, gg.\n",
        "- A6: c, d, cc, i, j, k, m, r, q, w, x, e, aa, ff.\n",
        "- A7: v, h, bb, j, n, z, dd, ff, o.\n",
        "- A8: continuous.\n",
        "- A9: t, f.\n",
        "- A10: t, f.\n",
        "- A11: continuous.\n",
        "- A12: t, f.\n",
        "- A13: g, p, s.\n",
        "- A14: continuous.\n",
        "- A15: continuous.\n",
        "- A16: +,- (class attribute)\n",
        "\n",
        "Yes, most of that doesn't mean anything. A16 (the class attribute) is the most interesting, as it separates the 307 approved cases from the 383 rejected cases. The remaining variables have been obfuscated for privacy - a challenge you may have to deal with in your data science career.\n",
        "\n",
        "Sprint challenges are evaluated based on satisfactory completion of each part. It is suggested you work through it in order, getting each aspect reasonably working, before trying to deeply explore, iterate, or refine any given step. Once you get to the end, if you want to go back and improve things, go for it!"
      ]
    },
    {
      "metadata": {
        "id": "5wch6ksCbJtZ",
        "colab_type": "text"
      },
      "cell_type": "markdown",
      "source": [
        "## Part 1 - Load and validate the data\n",
        "\n",
        "- Load the data as a `pandas` data frame.\n",
        "- Validate that it has the appropriate number of observations (you can check the raw file, and also read the dataset description from UCI).\n",
        "- UCI says there should be missing data - check, and if necessary change the data so pandas recognizes it as na\n",
        "- Make sure that the loaded features are of the types described above (continuous values should be treated as float), and correct as necessary\n",
        "\n",
        "This is review, but skills that you'll use at the start of any data exploration. Further, you may have to do some investigation to figure out which file to load from - that is part of the puzzle."
      ]
    },
    {
      "metadata": {
        "id": "Q79xDLckzibS",
        "colab_type": "code",
        "colab": {}
      },
      "cell_type": "code",
      "source": [
        "# TODO\n",
        "import pandas as pd\n",
        "import numpy as np\n",
        "pd.options.display.max_rows\n",
        "credit = pd.read_csv('https://archive.ics.uci.edu/ml/machine-learning-databases/credit-screening/crx.data', names = [\n",
        "                     ' A1: b, a.',\n",
        "                      'A2: continuous.',\n",
        "                      'A3: continuous.',\n",
        "                      'A4: u, y, l, t.',\n",
        "                      'A5: g, p, gg.',\n",
        "                      'A6:',\n",
        "                      'A7:',\n",
        "                      'A8: continuous.',\n",
        "                      'A9: t, f.',\n",
        "                      'A10: t, f.',\n",
        "                      'A11: continuous.',\n",
        "                      'A12: t, f.',\n",
        "                      'A13: g, p, s.',\n",
        "                      'A14: continuous.',\n",
        "                      'A15: continuous.',\n",
        "                      'approved'])"
      ],
      "execution_count": 0,
      "outputs": []
    },
    {
      "metadata": {
        "id": "nhwhkyjsKr1T",
        "colab_type": "code",
        "colab": {
          "base_uri": "https://localhost:8080/",
          "height": 578
        },
        "outputId": "bbc5f129-0440-4545-e994-f082c9c0ea3d"
      },
      "cell_type": "code",
      "source": [
        "credit.head(15)"
      ],
      "execution_count": 89,
      "outputs": [
        {
          "output_type": "execute_result",
          "data": {
            "text/html": [
              "<div>\n",
              "<style scoped>\n",
              "    .dataframe tbody tr th:only-of-type {\n",
              "        vertical-align: middle;\n",
              "    }\n",
              "\n",
              "    .dataframe tbody tr th {\n",
              "        vertical-align: top;\n",
              "    }\n",
              "\n",
              "    .dataframe thead th {\n",
              "        text-align: right;\n",
              "    }\n",
              "</style>\n",
              "<table border=\"1\" class=\"dataframe\">\n",
              "  <thead>\n",
              "    <tr style=\"text-align: right;\">\n",
              "      <th></th>\n",
              "      <th>A1: b, a.</th>\n",
              "      <th>A2: continuous.</th>\n",
              "      <th>A3: continuous.</th>\n",
              "      <th>A4: u, y, l, t.</th>\n",
              "      <th>A5: g, p, gg.</th>\n",
              "      <th>A6:</th>\n",
              "      <th>A7:</th>\n",
              "      <th>A8: continuous.</th>\n",
              "      <th>A9: t, f.</th>\n",
              "      <th>A10: t, f.</th>\n",
              "      <th>A11: continuous.</th>\n",
              "      <th>A12: t, f.</th>\n",
              "      <th>A13: g, p, s.</th>\n",
              "      <th>A14: continuous.</th>\n",
              "      <th>A15: continuous.</th>\n",
              "      <th>approved</th>\n",
              "    </tr>\n",
              "  </thead>\n",
              "  <tbody>\n",
              "    <tr>\n",
              "      <th>0</th>\n",
              "      <td>b</td>\n",
              "      <td>30.83</td>\n",
              "      <td>0.000</td>\n",
              "      <td>u</td>\n",
              "      <td>g</td>\n",
              "      <td>w</td>\n",
              "      <td>v</td>\n",
              "      <td>1.250</td>\n",
              "      <td>t</td>\n",
              "      <td>t</td>\n",
              "      <td>1</td>\n",
              "      <td>f</td>\n",
              "      <td>g</td>\n",
              "      <td>00202</td>\n",
              "      <td>0</td>\n",
              "      <td>+</td>\n",
              "    </tr>\n",
              "    <tr>\n",
              "      <th>1</th>\n",
              "      <td>a</td>\n",
              "      <td>58.67</td>\n",
              "      <td>4.460</td>\n",
              "      <td>u</td>\n",
              "      <td>g</td>\n",
              "      <td>q</td>\n",
              "      <td>h</td>\n",
              "      <td>3.040</td>\n",
              "      <td>t</td>\n",
              "      <td>t</td>\n",
              "      <td>6</td>\n",
              "      <td>f</td>\n",
              "      <td>g</td>\n",
              "      <td>00043</td>\n",
              "      <td>560</td>\n",
              "      <td>+</td>\n",
              "    </tr>\n",
              "    <tr>\n",
              "      <th>2</th>\n",
              "      <td>a</td>\n",
              "      <td>24.50</td>\n",
              "      <td>0.500</td>\n",
              "      <td>u</td>\n",
              "      <td>g</td>\n",
              "      <td>q</td>\n",
              "      <td>h</td>\n",
              "      <td>1.500</td>\n",
              "      <td>t</td>\n",
              "      <td>f</td>\n",
              "      <td>0</td>\n",
              "      <td>f</td>\n",
              "      <td>g</td>\n",
              "      <td>00280</td>\n",
              "      <td>824</td>\n",
              "      <td>+</td>\n",
              "    </tr>\n",
              "    <tr>\n",
              "      <th>3</th>\n",
              "      <td>b</td>\n",
              "      <td>27.83</td>\n",
              "      <td>1.540</td>\n",
              "      <td>u</td>\n",
              "      <td>g</td>\n",
              "      <td>w</td>\n",
              "      <td>v</td>\n",
              "      <td>3.750</td>\n",
              "      <td>t</td>\n",
              "      <td>t</td>\n",
              "      <td>5</td>\n",
              "      <td>t</td>\n",
              "      <td>g</td>\n",
              "      <td>00100</td>\n",
              "      <td>3</td>\n",
              "      <td>+</td>\n",
              "    </tr>\n",
              "    <tr>\n",
              "      <th>4</th>\n",
              "      <td>b</td>\n",
              "      <td>20.17</td>\n",
              "      <td>5.625</td>\n",
              "      <td>u</td>\n",
              "      <td>g</td>\n",
              "      <td>w</td>\n",
              "      <td>v</td>\n",
              "      <td>1.710</td>\n",
              "      <td>t</td>\n",
              "      <td>f</td>\n",
              "      <td>0</td>\n",
              "      <td>f</td>\n",
              "      <td>s</td>\n",
              "      <td>00120</td>\n",
              "      <td>0</td>\n",
              "      <td>+</td>\n",
              "    </tr>\n",
              "    <tr>\n",
              "      <th>5</th>\n",
              "      <td>b</td>\n",
              "      <td>32.08</td>\n",
              "      <td>4.000</td>\n",
              "      <td>u</td>\n",
              "      <td>g</td>\n",
              "      <td>m</td>\n",
              "      <td>v</td>\n",
              "      <td>2.500</td>\n",
              "      <td>t</td>\n",
              "      <td>f</td>\n",
              "      <td>0</td>\n",
              "      <td>t</td>\n",
              "      <td>g</td>\n",
              "      <td>00360</td>\n",
              "      <td>0</td>\n",
              "      <td>+</td>\n",
              "    </tr>\n",
              "    <tr>\n",
              "      <th>6</th>\n",
              "      <td>b</td>\n",
              "      <td>33.17</td>\n",
              "      <td>1.040</td>\n",
              "      <td>u</td>\n",
              "      <td>g</td>\n",
              "      <td>r</td>\n",
              "      <td>h</td>\n",
              "      <td>6.500</td>\n",
              "      <td>t</td>\n",
              "      <td>f</td>\n",
              "      <td>0</td>\n",
              "      <td>t</td>\n",
              "      <td>g</td>\n",
              "      <td>00164</td>\n",
              "      <td>31285</td>\n",
              "      <td>+</td>\n",
              "    </tr>\n",
              "    <tr>\n",
              "      <th>7</th>\n",
              "      <td>a</td>\n",
              "      <td>22.92</td>\n",
              "      <td>11.585</td>\n",
              "      <td>u</td>\n",
              "      <td>g</td>\n",
              "      <td>cc</td>\n",
              "      <td>v</td>\n",
              "      <td>0.040</td>\n",
              "      <td>t</td>\n",
              "      <td>f</td>\n",
              "      <td>0</td>\n",
              "      <td>f</td>\n",
              "      <td>g</td>\n",
              "      <td>00080</td>\n",
              "      <td>1349</td>\n",
              "      <td>+</td>\n",
              "    </tr>\n",
              "    <tr>\n",
              "      <th>8</th>\n",
              "      <td>b</td>\n",
              "      <td>54.42</td>\n",
              "      <td>0.500</td>\n",
              "      <td>y</td>\n",
              "      <td>p</td>\n",
              "      <td>k</td>\n",
              "      <td>h</td>\n",
              "      <td>3.960</td>\n",
              "      <td>t</td>\n",
              "      <td>f</td>\n",
              "      <td>0</td>\n",
              "      <td>f</td>\n",
              "      <td>g</td>\n",
              "      <td>00180</td>\n",
              "      <td>314</td>\n",
              "      <td>+</td>\n",
              "    </tr>\n",
              "    <tr>\n",
              "      <th>9</th>\n",
              "      <td>b</td>\n",
              "      <td>42.50</td>\n",
              "      <td>4.915</td>\n",
              "      <td>y</td>\n",
              "      <td>p</td>\n",
              "      <td>w</td>\n",
              "      <td>v</td>\n",
              "      <td>3.165</td>\n",
              "      <td>t</td>\n",
              "      <td>f</td>\n",
              "      <td>0</td>\n",
              "      <td>t</td>\n",
              "      <td>g</td>\n",
              "      <td>00052</td>\n",
              "      <td>1442</td>\n",
              "      <td>+</td>\n",
              "    </tr>\n",
              "    <tr>\n",
              "      <th>10</th>\n",
              "      <td>b</td>\n",
              "      <td>22.08</td>\n",
              "      <td>0.830</td>\n",
              "      <td>u</td>\n",
              "      <td>g</td>\n",
              "      <td>c</td>\n",
              "      <td>h</td>\n",
              "      <td>2.165</td>\n",
              "      <td>f</td>\n",
              "      <td>f</td>\n",
              "      <td>0</td>\n",
              "      <td>t</td>\n",
              "      <td>g</td>\n",
              "      <td>00128</td>\n",
              "      <td>0</td>\n",
              "      <td>+</td>\n",
              "    </tr>\n",
              "    <tr>\n",
              "      <th>11</th>\n",
              "      <td>b</td>\n",
              "      <td>29.92</td>\n",
              "      <td>1.835</td>\n",
              "      <td>u</td>\n",
              "      <td>g</td>\n",
              "      <td>c</td>\n",
              "      <td>h</td>\n",
              "      <td>4.335</td>\n",
              "      <td>t</td>\n",
              "      <td>f</td>\n",
              "      <td>0</td>\n",
              "      <td>f</td>\n",
              "      <td>g</td>\n",
              "      <td>00260</td>\n",
              "      <td>200</td>\n",
              "      <td>+</td>\n",
              "    </tr>\n",
              "    <tr>\n",
              "      <th>12</th>\n",
              "      <td>a</td>\n",
              "      <td>38.25</td>\n",
              "      <td>6.000</td>\n",
              "      <td>u</td>\n",
              "      <td>g</td>\n",
              "      <td>k</td>\n",
              "      <td>v</td>\n",
              "      <td>1.000</td>\n",
              "      <td>t</td>\n",
              "      <td>f</td>\n",
              "      <td>0</td>\n",
              "      <td>t</td>\n",
              "      <td>g</td>\n",
              "      <td>00000</td>\n",
              "      <td>0</td>\n",
              "      <td>+</td>\n",
              "    </tr>\n",
              "    <tr>\n",
              "      <th>13</th>\n",
              "      <td>b</td>\n",
              "      <td>48.08</td>\n",
              "      <td>6.040</td>\n",
              "      <td>u</td>\n",
              "      <td>g</td>\n",
              "      <td>k</td>\n",
              "      <td>v</td>\n",
              "      <td>0.040</td>\n",
              "      <td>f</td>\n",
              "      <td>f</td>\n",
              "      <td>0</td>\n",
              "      <td>f</td>\n",
              "      <td>g</td>\n",
              "      <td>00000</td>\n",
              "      <td>2690</td>\n",
              "      <td>+</td>\n",
              "    </tr>\n",
              "    <tr>\n",
              "      <th>14</th>\n",
              "      <td>a</td>\n",
              "      <td>45.83</td>\n",
              "      <td>10.500</td>\n",
              "      <td>u</td>\n",
              "      <td>g</td>\n",
              "      <td>q</td>\n",
              "      <td>v</td>\n",
              "      <td>5.000</td>\n",
              "      <td>t</td>\n",
              "      <td>t</td>\n",
              "      <td>7</td>\n",
              "      <td>t</td>\n",
              "      <td>g</td>\n",
              "      <td>00000</td>\n",
              "      <td>0</td>\n",
              "      <td>+</td>\n",
              "    </tr>\n",
              "  </tbody>\n",
              "</table>\n",
              "</div>"
            ],
            "text/plain": [
              "    A1: b, a. A2: continuous.  A3: continuous. A4: u, y, l, t. A5: g, p, gg.  \\\n",
              "0           b           30.83            0.000               u             g   \n",
              "1           a           58.67            4.460               u             g   \n",
              "2           a           24.50            0.500               u             g   \n",
              "3           b           27.83            1.540               u             g   \n",
              "4           b           20.17            5.625               u             g   \n",
              "5           b           32.08            4.000               u             g   \n",
              "6           b           33.17            1.040               u             g   \n",
              "7           a           22.92           11.585               u             g   \n",
              "8           b           54.42            0.500               y             p   \n",
              "9           b           42.50            4.915               y             p   \n",
              "10          b           22.08            0.830               u             g   \n",
              "11          b           29.92            1.835               u             g   \n",
              "12          a           38.25            6.000               u             g   \n",
              "13          b           48.08            6.040               u             g   \n",
              "14          a           45.83           10.500               u             g   \n",
              "\n",
              "   A6: A7:  A8: continuous. A9: t, f. A10: t, f.  A11: continuous. A12: t, f.  \\\n",
              "0    w   v            1.250         t          t                 1          f   \n",
              "1    q   h            3.040         t          t                 6          f   \n",
              "2    q   h            1.500         t          f                 0          f   \n",
              "3    w   v            3.750         t          t                 5          t   \n",
              "4    w   v            1.710         t          f                 0          f   \n",
              "5    m   v            2.500         t          f                 0          t   \n",
              "6    r   h            6.500         t          f                 0          t   \n",
              "7   cc   v            0.040         t          f                 0          f   \n",
              "8    k   h            3.960         t          f                 0          f   \n",
              "9    w   v            3.165         t          f                 0          t   \n",
              "10   c   h            2.165         f          f                 0          t   \n",
              "11   c   h            4.335         t          f                 0          f   \n",
              "12   k   v            1.000         t          f                 0          t   \n",
              "13   k   v            0.040         f          f                 0          f   \n",
              "14   q   v            5.000         t          t                 7          t   \n",
              "\n",
              "   A13: g, p, s. A14: continuous.  A15: continuous. approved  \n",
              "0              g            00202                 0        +  \n",
              "1              g            00043               560        +  \n",
              "2              g            00280               824        +  \n",
              "3              g            00100                 3        +  \n",
              "4              s            00120                 0        +  \n",
              "5              g            00360                 0        +  \n",
              "6              g            00164             31285        +  \n",
              "7              g            00080              1349        +  \n",
              "8              g            00180               314        +  \n",
              "9              g            00052              1442        +  \n",
              "10             g            00128                 0        +  \n",
              "11             g            00260               200        +  \n",
              "12             g            00000                 0        +  \n",
              "13             g            00000              2690        +  \n",
              "14             g            00000                 0        +  "
            ]
          },
          "metadata": {
            "tags": []
          },
          "execution_count": 89
        }
      ]
    },
    {
      "metadata": {
        "id": "3vKH4QlhJnLu",
        "colab_type": "text"
      },
      "cell_type": "markdown",
      "source": [
        "*    Validate that it has the appropriate number of observations (you can check the raw file, and also read the dataset description from UCI).\n"
      ]
    },
    {
      "metadata": {
        "id": "7ZPm96aeJtVh",
        "colab_type": "code",
        "colab": {
          "base_uri": "https://localhost:8080/",
          "height": 34
        },
        "outputId": "675d7b8a-4641-445e-b734-32ffd7dd1de3"
      },
      "cell_type": "code",
      "source": [
        "credit.shape"
      ],
      "execution_count": 90,
      "outputs": [
        {
          "output_type": "execute_result",
          "data": {
            "text/plain": [
              "(690, 16)"
            ]
          },
          "metadata": {
            "tags": []
          },
          "execution_count": 90
        }
      ]
    },
    {
      "metadata": {
        "id": "31iqe2tWL8bp",
        "colab_type": "code",
        "colab": {
          "base_uri": "https://localhost:8080/",
          "height": 302
        },
        "outputId": "67b6fe01-0e84-4e7e-ce16-40a6d5e7a031"
      },
      "cell_type": "code",
      "source": [
        "credit.dtypes"
      ],
      "execution_count": 91,
      "outputs": [
        {
          "output_type": "execute_result",
          "data": {
            "text/plain": [
              " A1: b, a.           object\n",
              "A2: continuous.      object\n",
              "A3: continuous.     float64\n",
              "A4: u, y, l, t.      object\n",
              "A5: g, p, gg.        object\n",
              "A6:                  object\n",
              "A7:                  object\n",
              "A8: continuous.     float64\n",
              "A9: t, f.            object\n",
              "A10: t, f.           object\n",
              "A11: continuous.      int64\n",
              "A12: t, f.           object\n",
              "A13: g, p, s.        object\n",
              "A14: continuous.     object\n",
              "A15: continuous.      int64\n",
              "approved             object\n",
              "dtype: object"
            ]
          },
          "metadata": {
            "tags": []
          },
          "execution_count": 91
        }
      ]
    },
    {
      "metadata": {
        "id": "KAAeqcIVJtwQ",
        "colab_type": "text"
      },
      "cell_type": "markdown",
      "source": [
        "\n",
        "*    UCI says there should be missing data - check, and if necessary change the data so pandas recognizes it as na\n"
      ]
    },
    {
      "metadata": {
        "id": "I9xZNTOVM2th",
        "colab_type": "code",
        "colab": {}
      },
      "cell_type": "code",
      "source": [
        "credit = credit.replace({0:np.NaN})"
      ],
      "execution_count": 0,
      "outputs": []
    },
    {
      "metadata": {
        "id": "8Bwl90ncJzR5",
        "colab_type": "code",
        "colab": {
          "base_uri": "https://localhost:8080/",
          "height": 302
        },
        "outputId": "ce0611db-3c58-4945-c08f-78e4fb9807f4"
      },
      "cell_type": "code",
      "source": [
        "credit.isnull().sum()"
      ],
      "execution_count": 93,
      "outputs": [
        {
          "output_type": "execute_result",
          "data": {
            "text/plain": [
              " A1: b, a.            0\n",
              "A2: continuous.       0\n",
              "A3: continuous.      19\n",
              "A4: u, y, l, t.       0\n",
              "A5: g, p, gg.         0\n",
              "A6:                   0\n",
              "A7:                   0\n",
              "A8: continuous.      70\n",
              "A9: t, f.             0\n",
              "A10: t, f.            0\n",
              "A11: continuous.    395\n",
              "A12: t, f.            0\n",
              "A13: g, p, s.         0\n",
              "A14: continuous.      0\n",
              "A15: continuous.    295\n",
              "approved              0\n",
              "dtype: int64"
            ]
          },
          "metadata": {
            "tags": []
          },
          "execution_count": 93
        }
      ]
    },
    {
      "metadata": {
        "id": "G7rLytbrO38L",
        "colab_type": "text"
      },
      "cell_type": "markdown",
      "source": [
        "## Part 2 - Exploring data, Testing hypotheses\n",
        "\n",
        "The only thing we really know about this data is that A16 is the class label. Besides that, we have 6 continuous (float) features and 9 categorical features.\n",
        "\n",
        "Explore the data: you can use whatever approach (tables, utility functions, visualizations) to get an impression of the distributions and relationships of the variables. In general, your goal is to understand how the features are different when grouped by the two class labels (`+` and `-`).\n",
        "\n",
        "For the 6 continuous features, how are they different when split between the two class labels? Choose two features to run t-tests (again split by class label) - specifically, select one feature that is *extremely* different between the classes, and another feature that is notably less different (though perhaps still \"statistically significantly\" different). You may have to explore more than two features to do this.\n",
        "\n",
        "For the categorical features, explore by creating \"cross tabs\" (aka [contingency tables](https://en.wikipedia.org/wiki/Contingency_table)) between them and the class label, and apply the Chi-squared test to them. [pandas.crosstab](http://pandas.pydata.org/pandas-docs/stable/reference/api/pandas.crosstab.html) can create contingency tables, and [scipy.stats.chi2_contingency](https://docs.scipy.org/doc/scipy/reference/generated/scipy.stats.chi2_contingency.html) can calculate the Chi-squared statistic for them.\n",
        "\n",
        "There are 9 categorical features - as with the t-test, try to find one where the Chi-squared test returns an extreme result (rejecting the null that the data are independent), and one where it is less extreme.\n",
        "\n",
        "**NOTE** - \"less extreme\" just means smaller test statistic/larger p-value. Even the least extreme differences may be strongly statistically significant.\n",
        "\n",
        "Your *main* goal is the hypothesis tests, so don't spend too much time on the exploration/visualization piece. That is just a means to an end - use simple visualizations, such as boxplots or a scatter matrix (both built in to pandas), to get a feel for the overall distribution of the variables.\n",
        "\n",
        "This is challenging, so manage your time and aim for a baseline of at least running two t-tests and two Chi-squared tests before polishing. And don't forget to answer the questions in part 3, even if your results in this part aren't what you want them to be."
      ]
    },
    {
      "metadata": {
        "id": "_nqcgc0yzm68",
        "colab_type": "code",
        "colab": {}
      },
      "cell_type": "code",
      "source": [
        "# TODO\n",
        "import seaborn as sns\n",
        "import matplotlib.pyplot as plt"
      ],
      "execution_count": 0,
      "outputs": []
    },
    {
      "metadata": {
        "id": "A42jwNa1OCgR",
        "colab_type": "code",
        "colab": {
          "base_uri": "https://localhost:8080/",
          "height": 808
        },
        "outputId": "3330b883-5bff-4287-d29e-48b8503235dc"
      },
      "cell_type": "code",
      "source": [
        "see_credit_rel = sns.pairplot(credit, kind='reg', plot_kws={'line_kws':{'color':'red'},'scatter_kws':{'alpha': 0.1}})"
      ],
      "execution_count": 95,
      "outputs": [
        {
          "output_type": "stream",
          "text": [
            "/usr/local/lib/python3.6/dist-packages/numpy/lib/function_base.py:780: RuntimeWarning: invalid value encountered in greater_equal\n",
            "  keep = (tmp_a >= first_edge)\n",
            "/usr/local/lib/python3.6/dist-packages/numpy/lib/function_base.py:781: RuntimeWarning: invalid value encountered in less_equal\n",
            "  keep &= (tmp_a <= last_edge)\n"
          ],
          "name": "stderr"
        },
        {
          "output_type": "display_data",
          "data": {
            "image/png": "[encoded data removed]",
            "text/plain": [
              "<Figure size 720x720 with 20 Axes>"
            ]
          },
          "metadata": {
            "tags": []
          }
        }
      ]
    },
    {
      "metadata": {
        "id": "RGG6l3oOkFqa",
        "colab_type": "code",
        "colab": {
          "base_uri": "https://localhost:8080/",
          "height": 136
        },
        "outputId": "d5086a15-d2c7-4e1b-e40e-ab6eac6a1f99"
      },
      "cell_type": "code",
      "source": [
        "by_A16 = credit.groupby(['approved']).mean()\n",
        "by_A16\n",
        "#what does the average look like for all approved and denied loans across all continuous features"
      ],
      "execution_count": 105,
      "outputs": [
        {
          "output_type": "execute_result",
          "data": {
            "text/html": [
              "<div>\n",
              "<style scoped>\n",
              "    .dataframe tbody tr th:only-of-type {\n",
              "        vertical-align: middle;\n",
              "    }\n",
              "\n",
              "    .dataframe tbody tr th {\n",
              "        vertical-align: top;\n",
              "    }\n",
              "\n",
              "    .dataframe thead th {\n",
              "        text-align: right;\n",
              "    }\n",
              "</style>\n",
              "<table border=\"1\" class=\"dataframe\">\n",
              "  <thead>\n",
              "    <tr style=\"text-align: right;\">\n",
              "      <th></th>\n",
              "      <th>A3: continuous.</th>\n",
              "      <th>A8: continuous.</th>\n",
              "      <th>A11: continuous.</th>\n",
              "      <th>A15: continuous.</th>\n",
              "    </tr>\n",
              "    <tr>\n",
              "      <th>approved</th>\n",
              "      <th></th>\n",
              "      <th></th>\n",
              "      <th></th>\n",
              "      <th></th>\n",
              "    </tr>\n",
              "  </thead>\n",
              "  <tbody>\n",
              "    <tr>\n",
              "      <th>+</th>\n",
              "      <td>6.083289</td>\n",
              "      <td>3.641401</td>\n",
              "      <td>6.765550</td>\n",
              "      <td>3226.443299</td>\n",
              "    </tr>\n",
              "    <tr>\n",
              "      <th>-</th>\n",
              "      <td>3.942895</td>\n",
              "      <td>1.455544</td>\n",
              "      <td>2.813953</td>\n",
              "      <td>378.437811</td>\n",
              "    </tr>\n",
              "  </tbody>\n",
              "</table>\n",
              "</div>"
            ],
            "text/plain": [
              "          A3: continuous.  A8: continuous.  A11: continuous.  A15: continuous.\n",
              "approved                                                                      \n",
              "+                6.083289         3.641401          6.765550       3226.443299\n",
              "-                3.942895         1.455544          2.813953        378.437811"
            ]
          },
          "metadata": {
            "tags": []
          },
          "execution_count": 105
        }
      ]
    },
    {
      "metadata": {
        "id": "ep5dHns9mzXt",
        "colab_type": "code",
        "colab": {}
      },
      "cell_type": "code",
      "source": [
        "loan_approved = credit[credit.approved =='+']\n",
        "loan_denied = credit[credit.approved =='-']\n",
        "#separate loan approved and loan denied into separate dataframes"
      ],
      "execution_count": 0,
      "outputs": []
    },
    {
      "metadata": {
        "id": "aj4SoAXyq8MZ",
        "colab_type": "text"
      },
      "cell_type": "markdown",
      "source": [
        "# t-test #1 on first feature"
      ]
    },
    {
      "metadata": {
        "id": "ncw6J6-cl8jk",
        "colab_type": "code",
        "colab": {
          "base_uri": "https://localhost:8080/",
          "height": 34
        },
        "outputId": "c539a37c-8ba1-4d09-d020-5242c9e6760f"
      },
      "cell_type": "code",
      "source": [
        "stats.ttest_ind(loan_approved['A3: continuous.'],credit['A3: continuous.'], nan_policy='omit')"
      ],
      "execution_count": 103,
      "outputs": [
        {
          "output_type": "execute_result",
          "data": {
            "text/plain": [
              "Ttest_indResult(statistic=3.3303278207811164, pvalue=0.0009002398913828809)"
            ]
          },
          "metadata": {
            "tags": []
          },
          "execution_count": 103
        }
      ]
    },
    {
      "metadata": {
        "id": "pxTexUpuo5gN",
        "colab_type": "text"
      },
      "cell_type": "markdown",
      "source": [
        "The above high value t-statistic shows that having a higher continuous variable in the feature A3 on average increases the likelihood of receiving a loan. This is due to the fact that the average applicant who was approved has a higher A3 continuous value compared to the average of applicants of A3 features who were denied a loan. "
      ]
    },
    {
      "metadata": {
        "id": "N5Xi_VNbrBJr",
        "colab_type": "text"
      },
      "cell_type": "markdown",
      "source": [
        "# t-test #2 on second feature"
      ]
    },
    {
      "metadata": {
        "id": "4C4nDTyZo3az",
        "colab_type": "code",
        "colab": {
          "base_uri": "https://localhost:8080/",
          "height": 34
        },
        "outputId": "c4526e9b-1afd-4589-d7e7-566f5d60482f"
      },
      "cell_type": "code",
      "source": [
        "stats.ttest_ind(loan_approved['A11: continuous.'],credit['A11: continuous.'], nan_policy='omit')"
      ],
      "execution_count": 104,
      "outputs": [
        {
          "output_type": "execute_result",
          "data": {
            "text/plain": [
              "Ttest_indResult(statistic=2.0115199618506376, pvalue=0.044804481404700565)"
            ]
          },
          "metadata": {
            "tags": []
          },
          "execution_count": 104
        }
      ]
    },
    {
      "metadata": {
        "id": "wI37LwyBqjoO",
        "colab_type": "text"
      },
      "cell_type": "markdown",
      "source": [
        "The above t-statistic shows that having a higher continuous variable in the feature A11 on average increases the likelihood of receiving a loan slightly. Compared to having higher A3 features, having A11 features is less significant for approval of a loan. A11 is also less extreme because of a higher p-value."
      ]
    },
    {
      "metadata": {
        "id": "w1G8JoGJrYW0",
        "colab_type": "text"
      },
      "cell_type": "markdown",
      "source": [
        "\n",
        "\n",
        "---\n",
        "\n",
        "\n",
        "\n",
        "---\n",
        "\n"
      ]
    },
    {
      "metadata": {
        "id": "7CXEiDHrrTCR",
        "colab_type": "text"
      },
      "cell_type": "markdown",
      "source": [
        "For the categorical features, explore by creating \"cross tabs\" (aka contingency tables) between them and the class label, and apply the Chi-squared test to them. pandas.crosstab can create contingency tables, and scipy.stats.chi2_contingency can calculate the Chi-squared statistic for them.\n",
        "\n",
        "There are 9 categorical features - as with the t-test, try to find one where the Chi-squared test returns an extreme result (rejecting the null that the data are independent), and one where it is less extreme."
      ]
    },
    {
      "metadata": {
        "id": "csFSc-e-r7zP",
        "colab_type": "text"
      },
      "cell_type": "markdown",
      "source": [
        "Our null and alternative hypotheses:\n",
        "\n",
        "$H_{0}$ : There is *no* statistically significant relationship between chosen categorical feature and approval or denial of loan\n",
        "\n",
        "$H_{a}$ : There *is* a statistically significant relationship between chosen categorical feature and approval or denial of loan"
      ]
    },
    {
      "metadata": {
        "id": "e_5LuQZ0e2PT",
        "colab_type": "code",
        "colab": {
          "base_uri": "https://localhost:8080/",
          "height": 136
        },
        "outputId": "40178551-2d4e-46a4-a5a8-f090a4d2cea1"
      },
      "cell_type": "code",
      "source": [
        "#feature with more causal relationships to class attributes of attaining credit line\n",
        "#, margins=True, margins_name=\"Total\"\n",
        "loan_approval_A10 = pd.crosstab(credit['approved'], credit['A10: t, f.'])\n",
        "loan_approval_A10"
      ],
      "execution_count": 112,
      "outputs": [
        {
          "output_type": "execute_result",
          "data": {
            "text/html": [
              "<div>\n",
              "<style scoped>\n",
              "    .dataframe tbody tr th:only-of-type {\n",
              "        vertical-align: middle;\n",
              "    }\n",
              "\n",
              "    .dataframe tbody tr th {\n",
              "        vertical-align: top;\n",
              "    }\n",
              "\n",
              "    .dataframe thead th {\n",
              "        text-align: right;\n",
              "    }\n",
              "</style>\n",
              "<table border=\"1\" class=\"dataframe\">\n",
              "  <thead>\n",
              "    <tr style=\"text-align: right;\">\n",
              "      <th>A10: t, f.</th>\n",
              "      <th>f</th>\n",
              "      <th>t</th>\n",
              "    </tr>\n",
              "    <tr>\n",
              "      <th>approved</th>\n",
              "      <th></th>\n",
              "      <th></th>\n",
              "    </tr>\n",
              "  </thead>\n",
              "  <tbody>\n",
              "    <tr>\n",
              "      <th>+</th>\n",
              "      <td>98</td>\n",
              "      <td>209</td>\n",
              "    </tr>\n",
              "    <tr>\n",
              "      <th>-</th>\n",
              "      <td>297</td>\n",
              "      <td>86</td>\n",
              "    </tr>\n",
              "  </tbody>\n",
              "</table>\n",
              "</div>"
            ],
            "text/plain": [
              "A10: t, f.    f    t\n",
              "approved            \n",
              "+            98  209\n",
              "-           297   86"
            ]
          },
          "metadata": {
            "tags": []
          },
          "execution_count": 112
        }
      ]
    },
    {
      "metadata": {
        "id": "eTY8QaWjuPvp",
        "colab_type": "code",
        "colab": {
          "base_uri": "https://localhost:8080/",
          "height": 118
        },
        "outputId": "7ac3d650-725f-41d0-c2c1-9dcfc3229f0f"
      },
      "cell_type": "code",
      "source": [
        "chi_squared, p_value, dof, expected = stats.chi2_contingency(loan_approval_A10)\n",
        "\n",
        "print(f\"Chi-Squared: {chi_squared}\")\n",
        "print(f\"P-value: {p_value}\")\n",
        "print(f\"Degrees of Freedom: {dof}\") \n",
        "print(\"Expected: \\n\", np.array(expected))"
      ],
      "execution_count": 113,
      "outputs": [
        {
          "output_type": "stream",
          "text": [
            "Chi-Squared: 143.06956205083145\n",
            "P-value: 5.675727374527571e-33\n",
            "Degrees of Freedom: 1\n",
            "Expected: \n",
            " [[175.74637681 131.25362319]\n",
            " [219.25362319 163.74637681]]\n"
          ],
          "name": "stdout"
        }
      ]
    },
    {
      "metadata": {
        "id": "XTKgq1HOuhil",
        "colab_type": "code",
        "colab": {
          "base_uri": "https://localhost:8080/",
          "height": 34
        },
        "outputId": "2f0ffbc1-b69a-4216-b5ab-20a67dd206bf"
      },
      "cell_type": "code",
      "source": [
        "# Calculate the p-value from the chi_squared and dof\n",
        "p_value = stats.chi2.sf(chi_squared, dof)\n",
        "print(f\"P-value: {p_value}\")"
      ],
      "execution_count": 114,
      "outputs": [
        {
          "output_type": "stream",
          "text": [
            "P-value: 5.675727374527571e-33\n"
          ],
          "name": "stdout"
        }
      ]
    },
    {
      "metadata": {
        "id": "dAXxKqMDurJi",
        "colab_type": "text"
      },
      "cell_type": "markdown",
      "source": [
        "Due to the Chi-Squared test and P-value, we reject the null hypothesis that feature A10 and the approval or denial of a loan are independent. If an individual possesses the feature \"t\" in A10, it increases their chance of denial for a loan."
      ]
    },
    {
      "metadata": {
        "id": "j1JLyrokstii",
        "colab_type": "code",
        "colab": {
          "base_uri": "https://localhost:8080/",
          "height": 350
        },
        "outputId": "c314e969-756f-4780-8bf0-1ac769ee6e16"
      },
      "cell_type": "code",
      "source": [
        "#Assigns the frequency values\n",
        "app = loan_approval_A10.iloc[0][0:2].values\n",
        "den = loan_approval_A10.iloc[1][0:2].values\n",
        "\n",
        "#Plots the bar chart\n",
        "fig = plt.figure(figsize=(10, 5))\n",
        "sns.set(font_scale=1.8)\n",
        "categories = [\"f\",\"t\"]\n",
        "p1 = plt.bar(categories, app, 0.55, color='#d62728')\n",
        "p2 = plt.bar(categories, den, 0.55, bottom=app)\n",
        "plt.legend((p2[0], p1[0]), ('Approved', 'Denied'))\n",
        "plt.xlabel('A10 and approval or denial of loan')\n",
        "plt.ylabel('Count')\n",
        "plt.show()"
      ],
      "execution_count": 111,
      "outputs": [
        {
          "output_type": "display_data",
          "data": {
            "image/png": "[encoded data removed]",
            "text/plain": [
              "<Figure size 720x360 with 1 Axes>"
            ]
          },
          "metadata": {
            "tags": []
          }
        }
      ]
    },
    {
      "metadata": {
        "id": "pS1GtH5HvyLE",
        "colab_type": "code",
        "colab": {
          "base_uri": "https://localhost:8080/",
          "height": 136
        },
        "outputId": "df6d077c-1edb-44ac-eb56-db714d9d6e6b"
      },
      "cell_type": "code",
      "source": [
        "#feature with more causal relationships to class attributes of attaining credit line\n",
        "#, margins=True, margins_name=\"Total\"\n",
        "loan_approval_A12 = pd.crosstab(credit['approved'], credit['A12: t, f.'])\n",
        "loan_approval_A12"
      ],
      "execution_count": 115,
      "outputs": [
        {
          "output_type": "execute_result",
          "data": {
            "text/html": [
              "<div>\n",
              "<style scoped>\n",
              "    .dataframe tbody tr th:only-of-type {\n",
              "        vertical-align: middle;\n",
              "    }\n",
              "\n",
              "    .dataframe tbody tr th {\n",
              "        vertical-align: top;\n",
              "    }\n",
              "\n",
              "    .dataframe thead th {\n",
              "        text-align: right;\n",
              "    }\n",
              "</style>\n",
              "<table border=\"1\" class=\"dataframe\">\n",
              "  <thead>\n",
              "    <tr style=\"text-align: right;\">\n",
              "      <th>A12: t, f.</th>\n",
              "      <th>f</th>\n",
              "      <th>t</th>\n",
              "    </tr>\n",
              "    <tr>\n",
              "      <th>approved</th>\n",
              "      <th></th>\n",
              "      <th></th>\n",
              "    </tr>\n",
              "  </thead>\n",
              "  <tbody>\n",
              "    <tr>\n",
              "      <th>+</th>\n",
              "      <td>161</td>\n",
              "      <td>146</td>\n",
              "    </tr>\n",
              "    <tr>\n",
              "      <th>-</th>\n",
              "      <td>213</td>\n",
              "      <td>170</td>\n",
              "    </tr>\n",
              "  </tbody>\n",
              "</table>\n",
              "</div>"
            ],
            "text/plain": [
              "A12: t, f.    f    t\n",
              "approved            \n",
              "+           161  146\n",
              "-           213  170"
            ]
          },
          "metadata": {
            "tags": []
          },
          "execution_count": 115
        }
      ]
    },
    {
      "metadata": {
        "id": "TRMWwL1RwBjB",
        "colab_type": "code",
        "colab": {
          "base_uri": "https://localhost:8080/",
          "height": 118
        },
        "outputId": "4f95eb58-7299-4880-fcb2-c11c917901d7"
      },
      "cell_type": "code",
      "source": [
        "chi_squared, p_value, dof, expected = stats.chi2_contingency(loan_approval_A12)\n",
        "\n",
        "print(f\"Chi-Squared: {chi_squared}\")\n",
        "print(f\"P-value: {p_value}\")\n",
        "print(f\"Degrees of Freedom: {dof}\") \n",
        "print(\"Expected: \\n\", np.array(expected))"
      ],
      "execution_count": 116,
      "outputs": [
        {
          "output_type": "stream",
          "text": [
            "Chi-Squared: 0.568273300792113\n",
            "P-value: 0.45094587758631943\n",
            "Degrees of Freedom: 1\n",
            "Expected: \n",
            " [[166.40289855 140.59710145]\n",
            " [207.59710145 175.40289855]]\n"
          ],
          "name": "stdout"
        }
      ]
    },
    {
      "metadata": {
        "id": "MMKyF-LSwGWO",
        "colab_type": "code",
        "colab": {
          "base_uri": "https://localhost:8080/",
          "height": 34
        },
        "outputId": "1ef65ba2-63ae-46d7-ab63-91608f2a0811"
      },
      "cell_type": "code",
      "source": [
        "p_value = stats.chi2.sf(chi_squared, dof)\n",
        "print(f\"P-value: {p_value}\")"
      ],
      "execution_count": 117,
      "outputs": [
        {
          "output_type": "stream",
          "text": [
            "P-value: 0.45094587758631943\n"
          ],
          "name": "stdout"
        }
      ]
    },
    {
      "metadata": {
        "id": "DMdJ6hi4wJKG",
        "colab_type": "code",
        "colab": {
          "base_uri": "https://localhost:8080/",
          "height": 350
        },
        "outputId": "d1beeeec-254d-4623-ffa5-890e6a72f52c"
      },
      "cell_type": "code",
      "source": [
        "#Assigns the frequency values\n",
        "app = loan_approval_A12.iloc[0][0:2].values\n",
        "den = loan_approval_A12.iloc[1][0:2].values\n",
        "\n",
        "#Plots the bar chart\n",
        "fig = plt.figure(figsize=(10, 5))\n",
        "sns.set(font_scale=1.8)\n",
        "categories = [\"f\",\"t\"]\n",
        "p1 = plt.bar(categories, app, 0.55, color='#d62728')\n",
        "p2 = plt.bar(categories, den, 0.55, bottom=app)\n",
        "plt.legend((p2[0], p1[0]), ('Approved', 'Denied'))\n",
        "plt.xlabel('A12 and approval or denial of loan')\n",
        "plt.ylabel('Count')\n",
        "plt.show()"
      ],
      "execution_count": 119,
      "outputs": [
        {
          "output_type": "display_data",
          "data": {
            "image/png": "[encoded data removed]",
            "text/plain": [
              "<Figure size 720x360 with 1 Axes>"
            ]
          },
          "metadata": {
            "tags": []
          }
        }
      ]
    },
    {
      "metadata": {
        "id": "mLzk4HQcwTcQ",
        "colab_type": "text"
      },
      "cell_type": "markdown",
      "source": [
        "The above shows that feature A12 has less influence over approval or denial of loans than A10, but there are still a proportionally more cases of denial approval of loan than denial especially if one possesses feature 'f' for A12."
      ]
    },
    {
      "metadata": {
        "id": "ZM8JckA2bgnp",
        "colab_type": "text"
      },
      "cell_type": "markdown",
      "source": [
        "## Part 3 - Analysis and Interpretation\n",
        "\n",
        "Now that you've looked at the data, answer the following questions:\n",
        "\n",
        "- Interpret and explain the two t-tests you ran - what do they tell you about the relationships between the continuous features you selected and the class labels?\n",
        "- Interpret and explain the two Chi-squared tests you ran - what do they tell you about the relationships between the categorical features you selected and the class labels?\n",
        "- What was the most challenging part of this sprint challenge?\n",
        "\n",
        "Answer with text, but feel free to intersperse example code/results or refer to it from earlier."
      ]
    },
    {
      "metadata": {
        "id": "LIozLDNG2Uhu",
        "colab_type": "text"
      },
      "cell_type": "markdown",
      "source": [
        "Interpret and explain the two t-tests you ran - what do they tell you about the relationships between the continuous features you selected and the class labels?\n",
        "\n",
        "*   Possessing feature A3 is more impactful regarding a approval of a loan than A11, which is more neutral.\n",
        "\n",
        "Interpret and explain the two Chi-squared tests you ran - what do they tell you about the relationships between the categorical features you selected and the class labels?\n",
        "\n",
        "*   Possessing feature \"t\" in A10 increases the chance that one is to be denied from a loan. There is less correlation for features in A12, but having feature \"f\" in A12 increases one's likelihood to receive a loan.\n",
        "\n",
        "\n",
        "What was the most challenging part of this sprint challenge?\n",
        "\n",
        "*   Understanding what would be a reasonable null-hypothesis given the data parameters, specifically whether to interpret that there is an average approval proportion that should be the null hypothesis or to interpret that one should be approved for a loan by default, or if one has a 50/50 chance to garner approval for a loan."
      ]
    }
  ]
}