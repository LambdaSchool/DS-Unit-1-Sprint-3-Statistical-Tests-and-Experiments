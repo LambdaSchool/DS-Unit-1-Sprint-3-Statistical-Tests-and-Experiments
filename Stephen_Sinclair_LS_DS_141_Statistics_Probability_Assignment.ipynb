{
  "nbformat": 4,
  "nbformat_minor": 0,
  "metadata": {
    "colab": {
      "name": "Stephen_Sinclair_LS_DS_141_Statistics_Probability_Assignment.ipynb",
      "version": "0.3.2",
      "provenance": [],
      "include_colab_link": true
    },
    "language_info": {
      "codemirror_mode": {
        "name": "ipython",
        "version": 3
      },
      "file_extension": ".py",
      "mimetype": "text/x-python",
      "name": "python",
      "nbconvert_exporter": "python",
      "pygments_lexer": "ipython3",
      "version": "3.7.3"
    },
    "kernelspec": {
      "display_name": "Python 3",
      "language": "python",
      "name": "python3"
    }
  },
  "cells": [
    {
      "cell_type": "markdown",
      "metadata": {
        "id": "view-in-github",
        "colab_type": "text"
      },
      "source": [
        "<a href=\"https://colab.research.google.com/github/SMSinclair/DS-Unit-1-Sprint-4-Statistical-Tests-and-Experiments/blob/master/Stephen_Sinclair_LS_DS_141_Statistics_Probability_Assignment.ipynb\" target=\"_parent\"><img src=\"https://colab.research.google.com/assets/colab-badge.svg\" alt=\"Open In Colab\"/></a>"
      ]
    },
    {
      "cell_type": "markdown",
      "metadata": {
        "id": "pobvJ4LT6Pye",
        "colab_type": "text"
      },
      "source": [
        "<img align=\"left\" src=\"https://lever-client-logos.s3.amazonaws.com/864372b1-534c-480e-acd5-9711f850815c-1524247202159.png\" width=200>\n",
        "<br></br>\n",
        "<br></br>\n",
        "\n",
        "## *Data Science Unit 1 Sprint 3 Assignment 1*\n",
        "\n",
        "# Apply the t-test to real data\n",
        "\n",
        "Your assignment is to determine which issues have \"statistically significant\" differences between political parties in this [1980s congressional voting data](https://archive.ics.uci.edu/ml/datasets/Congressional+Voting+Records). The data consists of 435 instances (one for each congressperson), a class (democrat or republican), and 16 binary attributes (yes or no for voting for or against certain issues). Be aware - there are missing values!\n",
        "\n",
        "Your goals:\n",
        "\n",
        "1. Load and clean the data (or determine the best method to drop observations when running tests)\n",
        "2. Using hypothesis testing, find an issue that democrats support more than republicans with p < 0.01\n",
        "3. Using hypothesis testing, find an issue that republicans support more than democrats with p < 0.01\n",
        "4. Using hypothesis testing, find an issue where the difference between republicans and democrats has p > 0.1 (i.e. there may not be much of a difference)\n",
        "\n",
        "Note that this data will involve *2 sample* t-tests, because you're comparing averages across two groups (republicans and democrats) rather than a single group against a null hypothesis.\n",
        "\n",
        "Stretch goals:\n",
        "\n",
        "1. Refactor your code into functions so it's easy to rerun with arbitrary variables\n",
        "2. Apply hypothesis testing to your personal project data (for the purposes of this notebook you can type a summary of the hypothesis you formed and tested)"
      ]
    },
    {
      "cell_type": "code",
      "metadata": {
        "id": "zXAVSYdk6Pym",
        "colab_type": "code",
        "colab": {}
      },
      "source": [
        "### YOUR CODE STARTS HERE\n",
        "import pandas as pd\n",
        "import numpy as np"
      ],
      "execution_count": 0,
      "outputs": []
    },
    {
      "cell_type": "code",
      "metadata": {
        "id": "PDSE-299kVvi",
        "colab_type": "code",
        "colab": {
          "base_uri": "https://localhost:8080/",
          "height": 204
        },
        "outputId": "5c3d2d77-8f30-4892-8976-712ead620cf5"
      },
      "source": [
        "# GOAL 1: Load and clean the data\n",
        "\n",
        "df = pd.read_csv('https://archive.ics.uci.edu/ml/machine-learning-databases/voting-records/house-votes-84.data', header=None)\n",
        "df.head()"
      ],
      "execution_count": 43,
      "outputs": [
        {
          "output_type": "execute_result",
          "data": {
            "text/html": [
              "<div>\n",
              "<style scoped>\n",
              "    .dataframe tbody tr th:only-of-type {\n",
              "        vertical-align: middle;\n",
              "    }\n",
              "\n",
              "    .dataframe tbody tr th {\n",
              "        vertical-align: top;\n",
              "    }\n",
              "\n",
              "    .dataframe thead th {\n",
              "        text-align: right;\n",
              "    }\n",
              "</style>\n",
              "<table border=\"1\" class=\"dataframe\">\n",
              "  <thead>\n",
              "    <tr style=\"text-align: right;\">\n",
              "      <th></th>\n",
              "      <th>0</th>\n",
              "      <th>1</th>\n",
              "      <th>2</th>\n",
              "      <th>3</th>\n",
              "      <th>4</th>\n",
              "      <th>5</th>\n",
              "      <th>6</th>\n",
              "      <th>7</th>\n",
              "      <th>8</th>\n",
              "      <th>9</th>\n",
              "      <th>10</th>\n",
              "      <th>11</th>\n",
              "      <th>12</th>\n",
              "      <th>13</th>\n",
              "      <th>14</th>\n",
              "      <th>15</th>\n",
              "      <th>16</th>\n",
              "    </tr>\n",
              "  </thead>\n",
              "  <tbody>\n",
              "    <tr>\n",
              "      <th>0</th>\n",
              "      <td>republican</td>\n",
              "      <td>n</td>\n",
              "      <td>y</td>\n",
              "      <td>n</td>\n",
              "      <td>y</td>\n",
              "      <td>y</td>\n",
              "      <td>y</td>\n",
              "      <td>n</td>\n",
              "      <td>n</td>\n",
              "      <td>n</td>\n",
              "      <td>y</td>\n",
              "      <td>?</td>\n",
              "      <td>y</td>\n",
              "      <td>y</td>\n",
              "      <td>y</td>\n",
              "      <td>n</td>\n",
              "      <td>y</td>\n",
              "    </tr>\n",
              "    <tr>\n",
              "      <th>1</th>\n",
              "      <td>republican</td>\n",
              "      <td>n</td>\n",
              "      <td>y</td>\n",
              "      <td>n</td>\n",
              "      <td>y</td>\n",
              "      <td>y</td>\n",
              "      <td>y</td>\n",
              "      <td>n</td>\n",
              "      <td>n</td>\n",
              "      <td>n</td>\n",
              "      <td>n</td>\n",
              "      <td>n</td>\n",
              "      <td>y</td>\n",
              "      <td>y</td>\n",
              "      <td>y</td>\n",
              "      <td>n</td>\n",
              "      <td>?</td>\n",
              "    </tr>\n",
              "    <tr>\n",
              "      <th>2</th>\n",
              "      <td>democrat</td>\n",
              "      <td>?</td>\n",
              "      <td>y</td>\n",
              "      <td>y</td>\n",
              "      <td>?</td>\n",
              "      <td>y</td>\n",
              "      <td>y</td>\n",
              "      <td>n</td>\n",
              "      <td>n</td>\n",
              "      <td>n</td>\n",
              "      <td>n</td>\n",
              "      <td>y</td>\n",
              "      <td>n</td>\n",
              "      <td>y</td>\n",
              "      <td>y</td>\n",
              "      <td>n</td>\n",
              "      <td>n</td>\n",
              "    </tr>\n",
              "    <tr>\n",
              "      <th>3</th>\n",
              "      <td>democrat</td>\n",
              "      <td>n</td>\n",
              "      <td>y</td>\n",
              "      <td>y</td>\n",
              "      <td>n</td>\n",
              "      <td>?</td>\n",
              "      <td>y</td>\n",
              "      <td>n</td>\n",
              "      <td>n</td>\n",
              "      <td>n</td>\n",
              "      <td>n</td>\n",
              "      <td>y</td>\n",
              "      <td>n</td>\n",
              "      <td>y</td>\n",
              "      <td>n</td>\n",
              "      <td>n</td>\n",
              "      <td>y</td>\n",
              "    </tr>\n",
              "    <tr>\n",
              "      <th>4</th>\n",
              "      <td>democrat</td>\n",
              "      <td>y</td>\n",
              "      <td>y</td>\n",
              "      <td>y</td>\n",
              "      <td>n</td>\n",
              "      <td>y</td>\n",
              "      <td>y</td>\n",
              "      <td>n</td>\n",
              "      <td>n</td>\n",
              "      <td>n</td>\n",
              "      <td>n</td>\n",
              "      <td>y</td>\n",
              "      <td>?</td>\n",
              "      <td>y</td>\n",
              "      <td>y</td>\n",
              "      <td>y</td>\n",
              "      <td>y</td>\n",
              "    </tr>\n",
              "  </tbody>\n",
              "</table>\n",
              "</div>"
            ],
            "text/plain": [
              "           0  1  2  3  4  5  6  7  8  9  10 11 12 13 14 15 16\n",
              "0  republican  n  y  n  y  y  y  n  n  n  y  ?  y  y  y  n  y\n",
              "1  republican  n  y  n  y  y  y  n  n  n  n  n  y  y  y  n  ?\n",
              "2    democrat  ?  y  y  ?  y  y  n  n  n  n  y  n  y  y  n  n\n",
              "3    democrat  n  y  y  n  ?  y  n  n  n  n  y  n  y  n  n  y\n",
              "4    democrat  y  y  y  n  y  y  n  n  n  n  y  ?  y  y  y  y"
            ]
          },
          "metadata": {
            "tags": []
          },
          "execution_count": 43
        }
      ]
    },
    {
      "cell_type": "code",
      "metadata": {
        "id": "jimEGEekkafa",
        "colab_type": "code",
        "colab": {}
      },
      "source": [
        "!curl https://archive.ics.uci.edu/ml/machine-learning-databases/voting-records/house-votes-84.names"
      ],
      "execution_count": 0,
      "outputs": []
    },
    {
      "cell_type": "code",
      "metadata": {
        "id": "VFtmPoNCl5Dq",
        "colab_type": "code",
        "colab": {}
      },
      "source": [
        "feature_names = ['Class Name',\n",
        "          'handicapped-infants',\n",
        "   'water-project-cost-sharing',\n",
        "   'adoption-of-the-budget-resolution',\n",
        "   'physician-fee-freeze',\n",
        "   'el-salvador-aid',\n",
        "   'religious-groups-in-schools',\n",
        "   'anti-satellite-test-ban',\n",
        "   'aid-to-nicaraguan-contras',\n",
        "   'mx-missile',\n",
        "   'immigration',\n",
        "   'synfuels-corporation-cutback',\n",
        "   'education-spending',\n",
        "   'superfund-right-to-sue',\n",
        "   'crime',\n",
        "   'duty-free-exports',\n",
        "   'export-administration-act-south-africa'\n",
        "                ]"
      ],
      "execution_count": 0,
      "outputs": []
    },
    {
      "cell_type": "code",
      "metadata": {
        "id": "ftyMRfxVnRdH",
        "colab_type": "code",
        "colab": {
          "base_uri": "https://localhost:8080/",
          "height": 255
        },
        "outputId": "68a839e2-b9ec-44b6-d923-c4871a371495"
      },
      "source": [
        "df.columns = feature_names\n",
        "df.head()"
      ],
      "execution_count": 45,
      "outputs": [
        {
          "output_type": "execute_result",
          "data": {
            "text/html": [
              "<div>\n",
              "<style scoped>\n",
              "    .dataframe tbody tr th:only-of-type {\n",
              "        vertical-align: middle;\n",
              "    }\n",
              "\n",
              "    .dataframe tbody tr th {\n",
              "        vertical-align: top;\n",
              "    }\n",
              "\n",
              "    .dataframe thead th {\n",
              "        text-align: right;\n",
              "    }\n",
              "</style>\n",
              "<table border=\"1\" class=\"dataframe\">\n",
              "  <thead>\n",
              "    <tr style=\"text-align: right;\">\n",
              "      <th></th>\n",
              "      <th>Class Name</th>\n",
              "      <th>handicapped-infants</th>\n",
              "      <th>water-project-cost-sharing</th>\n",
              "      <th>adoption-of-the-budget-resolution</th>\n",
              "      <th>physician-fee-freeze</th>\n",
              "      <th>el-salvador-aid</th>\n",
              "      <th>religious-groups-in-schools</th>\n",
              "      <th>anti-satellite-test-ban</th>\n",
              "      <th>aid-to-nicaraguan-contras</th>\n",
              "      <th>mx-missile</th>\n",
              "      <th>immigration</th>\n",
              "      <th>synfuels-corporation-cutback</th>\n",
              "      <th>education-spending</th>\n",
              "      <th>superfund-right-to-sue</th>\n",
              "      <th>crime</th>\n",
              "      <th>duty-free-exports</th>\n",
              "      <th>export-administration-act-south-africa</th>\n",
              "    </tr>\n",
              "  </thead>\n",
              "  <tbody>\n",
              "    <tr>\n",
              "      <th>0</th>\n",
              "      <td>republican</td>\n",
              "      <td>n</td>\n",
              "      <td>y</td>\n",
              "      <td>n</td>\n",
              "      <td>y</td>\n",
              "      <td>y</td>\n",
              "      <td>y</td>\n",
              "      <td>n</td>\n",
              "      <td>n</td>\n",
              "      <td>n</td>\n",
              "      <td>y</td>\n",
              "      <td>?</td>\n",
              "      <td>y</td>\n",
              "      <td>y</td>\n",
              "      <td>y</td>\n",
              "      <td>n</td>\n",
              "      <td>y</td>\n",
              "    </tr>\n",
              "    <tr>\n",
              "      <th>1</th>\n",
              "      <td>republican</td>\n",
              "      <td>n</td>\n",
              "      <td>y</td>\n",
              "      <td>n</td>\n",
              "      <td>y</td>\n",
              "      <td>y</td>\n",
              "      <td>y</td>\n",
              "      <td>n</td>\n",
              "      <td>n</td>\n",
              "      <td>n</td>\n",
              "      <td>n</td>\n",
              "      <td>n</td>\n",
              "      <td>y</td>\n",
              "      <td>y</td>\n",
              "      <td>y</td>\n",
              "      <td>n</td>\n",
              "      <td>?</td>\n",
              "    </tr>\n",
              "    <tr>\n",
              "      <th>2</th>\n",
              "      <td>democrat</td>\n",
              "      <td>?</td>\n",
              "      <td>y</td>\n",
              "      <td>y</td>\n",
              "      <td>?</td>\n",
              "      <td>y</td>\n",
              "      <td>y</td>\n",
              "      <td>n</td>\n",
              "      <td>n</td>\n",
              "      <td>n</td>\n",
              "      <td>n</td>\n",
              "      <td>y</td>\n",
              "      <td>n</td>\n",
              "      <td>y</td>\n",
              "      <td>y</td>\n",
              "      <td>n</td>\n",
              "      <td>n</td>\n",
              "    </tr>\n",
              "    <tr>\n",
              "      <th>3</th>\n",
              "      <td>democrat</td>\n",
              "      <td>n</td>\n",
              "      <td>y</td>\n",
              "      <td>y</td>\n",
              "      <td>n</td>\n",
              "      <td>?</td>\n",
              "      <td>y</td>\n",
              "      <td>n</td>\n",
              "      <td>n</td>\n",
              "      <td>n</td>\n",
              "      <td>n</td>\n",
              "      <td>y</td>\n",
              "      <td>n</td>\n",
              "      <td>y</td>\n",
              "      <td>n</td>\n",
              "      <td>n</td>\n",
              "      <td>y</td>\n",
              "    </tr>\n",
              "    <tr>\n",
              "      <th>4</th>\n",
              "      <td>democrat</td>\n",
              "      <td>y</td>\n",
              "      <td>y</td>\n",
              "      <td>y</td>\n",
              "      <td>n</td>\n",
              "      <td>y</td>\n",
              "      <td>y</td>\n",
              "      <td>n</td>\n",
              "      <td>n</td>\n",
              "      <td>n</td>\n",
              "      <td>n</td>\n",
              "      <td>y</td>\n",
              "      <td>?</td>\n",
              "      <td>y</td>\n",
              "      <td>y</td>\n",
              "      <td>y</td>\n",
              "      <td>y</td>\n",
              "    </tr>\n",
              "  </tbody>\n",
              "</table>\n",
              "</div>"
            ],
            "text/plain": [
              "   Class Name handicapped-infants water-project-cost-sharing  \\\n",
              "0  republican                   n                          y   \n",
              "1  republican                   n                          y   \n",
              "2    democrat                   ?                          y   \n",
              "3    democrat                   n                          y   \n",
              "4    democrat                   y                          y   \n",
              "\n",
              "  adoption-of-the-budget-resolution physician-fee-freeze el-salvador-aid  \\\n",
              "0                                 n                    y               y   \n",
              "1                                 n                    y               y   \n",
              "2                                 y                    ?               y   \n",
              "3                                 y                    n               ?   \n",
              "4                                 y                    n               y   \n",
              "\n",
              "  religious-groups-in-schools anti-satellite-test-ban  \\\n",
              "0                           y                       n   \n",
              "1                           y                       n   \n",
              "2                           y                       n   \n",
              "3                           y                       n   \n",
              "4                           y                       n   \n",
              "\n",
              "  aid-to-nicaraguan-contras mx-missile immigration  \\\n",
              "0                         n          n           y   \n",
              "1                         n          n           n   \n",
              "2                         n          n           n   \n",
              "3                         n          n           n   \n",
              "4                         n          n           n   \n",
              "\n",
              "  synfuels-corporation-cutback education-spending superfund-right-to-sue  \\\n",
              "0                            ?                  y                      y   \n",
              "1                            n                  y                      y   \n",
              "2                            y                  n                      y   \n",
              "3                            y                  n                      y   \n",
              "4                            y                  ?                      y   \n",
              "\n",
              "  crime duty-free-exports export-administration-act-south-africa  \n",
              "0     y                 n                                      y  \n",
              "1     y                 n                                      ?  \n",
              "2     y                 n                                      n  \n",
              "3     n                 n                                      y  \n",
              "4     y                 y                                      y  "
            ]
          },
          "metadata": {
            "tags": []
          },
          "execution_count": 45
        }
      ]
    },
    {
      "cell_type": "code",
      "metadata": {
        "id": "aZ1Yn7vrnUcg",
        "colab_type": "code",
        "colab": {
          "base_uri": "https://localhost:8080/",
          "height": 34
        },
        "outputId": "98bfb233-e7dd-4a93-917b-c94a0fa6c22b"
      },
      "source": [
        "df.loc[2][1]"
      ],
      "execution_count": 32,
      "outputs": [
        {
          "output_type": "execute_result",
          "data": {
            "text/plain": [
              "'?'"
            ]
          },
          "metadata": {
            "tags": []
          },
          "execution_count": 32
        }
      ]
    },
    {
      "cell_type": "code",
      "metadata": {
        "id": "iGcll-1foE_9",
        "colab_type": "code",
        "colab": {
          "base_uri": "https://localhost:8080/",
          "height": 255
        },
        "outputId": "bf23f761-0f8d-4c35-9513-f8170e50db93"
      },
      "source": [
        "df = df.replace({'?':np.nan, 'n':0, 'y':1})\n",
        "df.head()"
      ],
      "execution_count": 46,
      "outputs": [
        {
          "output_type": "execute_result",
          "data": {
            "text/html": [
              "<div>\n",
              "<style scoped>\n",
              "    .dataframe tbody tr th:only-of-type {\n",
              "        vertical-align: middle;\n",
              "    }\n",
              "\n",
              "    .dataframe tbody tr th {\n",
              "        vertical-align: top;\n",
              "    }\n",
              "\n",
              "    .dataframe thead th {\n",
              "        text-align: right;\n",
              "    }\n",
              "</style>\n",
              "<table border=\"1\" class=\"dataframe\">\n",
              "  <thead>\n",
              "    <tr style=\"text-align: right;\">\n",
              "      <th></th>\n",
              "      <th>Class Name</th>\n",
              "      <th>handicapped-infants</th>\n",
              "      <th>water-project-cost-sharing</th>\n",
              "      <th>adoption-of-the-budget-resolution</th>\n",
              "      <th>physician-fee-freeze</th>\n",
              "      <th>el-salvador-aid</th>\n",
              "      <th>religious-groups-in-schools</th>\n",
              "      <th>anti-satellite-test-ban</th>\n",
              "      <th>aid-to-nicaraguan-contras</th>\n",
              "      <th>mx-missile</th>\n",
              "      <th>immigration</th>\n",
              "      <th>synfuels-corporation-cutback</th>\n",
              "      <th>education-spending</th>\n",
              "      <th>superfund-right-to-sue</th>\n",
              "      <th>crime</th>\n",
              "      <th>duty-free-exports</th>\n",
              "      <th>export-administration-act-south-africa</th>\n",
              "    </tr>\n",
              "  </thead>\n",
              "  <tbody>\n",
              "    <tr>\n",
              "      <th>0</th>\n",
              "      <td>republican</td>\n",
              "      <td>0.0</td>\n",
              "      <td>1.0</td>\n",
              "      <td>0.0</td>\n",
              "      <td>1.0</td>\n",
              "      <td>1.0</td>\n",
              "      <td>1.0</td>\n",
              "      <td>0.0</td>\n",
              "      <td>0.0</td>\n",
              "      <td>0.0</td>\n",
              "      <td>1.0</td>\n",
              "      <td>NaN</td>\n",
              "      <td>1.0</td>\n",
              "      <td>1.0</td>\n",
              "      <td>1.0</td>\n",
              "      <td>0.0</td>\n",
              "      <td>1.0</td>\n",
              "    </tr>\n",
              "    <tr>\n",
              "      <th>1</th>\n",
              "      <td>republican</td>\n",
              "      <td>0.0</td>\n",
              "      <td>1.0</td>\n",
              "      <td>0.0</td>\n",
              "      <td>1.0</td>\n",
              "      <td>1.0</td>\n",
              "      <td>1.0</td>\n",
              "      <td>0.0</td>\n",
              "      <td>0.0</td>\n",
              "      <td>0.0</td>\n",
              "      <td>0.0</td>\n",
              "      <td>0.0</td>\n",
              "      <td>1.0</td>\n",
              "      <td>1.0</td>\n",
              "      <td>1.0</td>\n",
              "      <td>0.0</td>\n",
              "      <td>NaN</td>\n",
              "    </tr>\n",
              "    <tr>\n",
              "      <th>2</th>\n",
              "      <td>democrat</td>\n",
              "      <td>NaN</td>\n",
              "      <td>1.0</td>\n",
              "      <td>1.0</td>\n",
              "      <td>NaN</td>\n",
              "      <td>1.0</td>\n",
              "      <td>1.0</td>\n",
              "      <td>0.0</td>\n",
              "      <td>0.0</td>\n",
              "      <td>0.0</td>\n",
              "      <td>0.0</td>\n",
              "      <td>1.0</td>\n",
              "      <td>0.0</td>\n",
              "      <td>1.0</td>\n",
              "      <td>1.0</td>\n",
              "      <td>0.0</td>\n",
              "      <td>0.0</td>\n",
              "    </tr>\n",
              "    <tr>\n",
              "      <th>3</th>\n",
              "      <td>democrat</td>\n",
              "      <td>0.0</td>\n",
              "      <td>1.0</td>\n",
              "      <td>1.0</td>\n",
              "      <td>0.0</td>\n",
              "      <td>NaN</td>\n",
              "      <td>1.0</td>\n",
              "      <td>0.0</td>\n",
              "      <td>0.0</td>\n",
              "      <td>0.0</td>\n",
              "      <td>0.0</td>\n",
              "      <td>1.0</td>\n",
              "      <td>0.0</td>\n",
              "      <td>1.0</td>\n",
              "      <td>0.0</td>\n",
              "      <td>0.0</td>\n",
              "      <td>1.0</td>\n",
              "    </tr>\n",
              "    <tr>\n",
              "      <th>4</th>\n",
              "      <td>democrat</td>\n",
              "      <td>1.0</td>\n",
              "      <td>1.0</td>\n",
              "      <td>1.0</td>\n",
              "      <td>0.0</td>\n",
              "      <td>1.0</td>\n",
              "      <td>1.0</td>\n",
              "      <td>0.0</td>\n",
              "      <td>0.0</td>\n",
              "      <td>0.0</td>\n",
              "      <td>0.0</td>\n",
              "      <td>1.0</td>\n",
              "      <td>NaN</td>\n",
              "      <td>1.0</td>\n",
              "      <td>1.0</td>\n",
              "      <td>1.0</td>\n",
              "      <td>1.0</td>\n",
              "    </tr>\n",
              "  </tbody>\n",
              "</table>\n",
              "</div>"
            ],
            "text/plain": [
              "   Class Name  handicapped-infants  water-project-cost-sharing  \\\n",
              "0  republican                  0.0                         1.0   \n",
              "1  republican                  0.0                         1.0   \n",
              "2    democrat                  NaN                         1.0   \n",
              "3    democrat                  0.0                         1.0   \n",
              "4    democrat                  1.0                         1.0   \n",
              "\n",
              "   adoption-of-the-budget-resolution  physician-fee-freeze  el-salvador-aid  \\\n",
              "0                                0.0                   1.0              1.0   \n",
              "1                                0.0                   1.0              1.0   \n",
              "2                                1.0                   NaN              1.0   \n",
              "3                                1.0                   0.0              NaN   \n",
              "4                                1.0                   0.0              1.0   \n",
              "\n",
              "   religious-groups-in-schools  anti-satellite-test-ban  \\\n",
              "0                          1.0                      0.0   \n",
              "1                          1.0                      0.0   \n",
              "2                          1.0                      0.0   \n",
              "3                          1.0                      0.0   \n",
              "4                          1.0                      0.0   \n",
              "\n",
              "   aid-to-nicaraguan-contras  mx-missile  immigration  \\\n",
              "0                        0.0         0.0          1.0   \n",
              "1                        0.0         0.0          0.0   \n",
              "2                        0.0         0.0          0.0   \n",
              "3                        0.0         0.0          0.0   \n",
              "4                        0.0         0.0          0.0   \n",
              "\n",
              "   synfuels-corporation-cutback  education-spending  superfund-right-to-sue  \\\n",
              "0                           NaN                 1.0                     1.0   \n",
              "1                           0.0                 1.0                     1.0   \n",
              "2                           1.0                 0.0                     1.0   \n",
              "3                           1.0                 0.0                     1.0   \n",
              "4                           1.0                 NaN                     1.0   \n",
              "\n",
              "   crime  duty-free-exports  export-administration-act-south-africa  \n",
              "0    1.0                0.0                                     1.0  \n",
              "1    1.0                0.0                                     NaN  \n",
              "2    1.0                0.0                                     0.0  \n",
              "3    0.0                0.0                                     1.0  \n",
              "4    1.0                1.0                                     1.0  "
            ]
          },
          "metadata": {
            "tags": []
          },
          "execution_count": 46
        }
      ]
    },
    {
      "cell_type": "code",
      "metadata": {
        "id": "mg1s0AKjEV2C",
        "colab_type": "code",
        "colab": {
          "base_uri": "https://localhost:8080/",
          "height": 68
        },
        "outputId": "2749ba48-a9c3-401b-8fc2-ee73a784ba82"
      },
      "source": [
        "df[\"Class Name\"].value_counts()"
      ],
      "execution_count": 92,
      "outputs": [
        {
          "output_type": "execute_result",
          "data": {
            "text/plain": [
              "democrat      267\n",
              "republican    168\n",
              "Name: Class Name, dtype: int64"
            ]
          },
          "metadata": {
            "tags": []
          },
          "execution_count": 92
        }
      ]
    },
    {
      "cell_type": "code",
      "metadata": {
        "id": "fIn6OG2l2b5L",
        "colab_type": "code",
        "colab": {}
      },
      "source": [
        "# GOAL 2: Using hypothesis testing, find an issue that democrats support more than republicans with p < 0.01"
      ],
      "execution_count": 0,
      "outputs": []
    },
    {
      "cell_type": "code",
      "metadata": {
        "id": "aawweP8ZuXUq",
        "colab_type": "code",
        "colab": {
          "base_uri": "https://localhost:8080/",
          "height": 210
        },
        "outputId": "c789ed50-8f99-4a9d-a43f-6e2c0aa0b818"
      },
      "source": [
        "# Make a pivot table to check the relative levels of support for the 16 bills.\n",
        "\n",
        "pd.pivot_table(data=df, index='Class Name')"
      ],
      "execution_count": 47,
      "outputs": [
        {
          "output_type": "execute_result",
          "data": {
            "text/html": [
              "<div>\n",
              "<style scoped>\n",
              "    .dataframe tbody tr th:only-of-type {\n",
              "        vertical-align: middle;\n",
              "    }\n",
              "\n",
              "    .dataframe tbody tr th {\n",
              "        vertical-align: top;\n",
              "    }\n",
              "\n",
              "    .dataframe thead th {\n",
              "        text-align: right;\n",
              "    }\n",
              "</style>\n",
              "<table border=\"1\" class=\"dataframe\">\n",
              "  <thead>\n",
              "    <tr style=\"text-align: right;\">\n",
              "      <th></th>\n",
              "      <th>adoption-of-the-budget-resolution</th>\n",
              "      <th>aid-to-nicaraguan-contras</th>\n",
              "      <th>anti-satellite-test-ban</th>\n",
              "      <th>crime</th>\n",
              "      <th>duty-free-exports</th>\n",
              "      <th>education-spending</th>\n",
              "      <th>el-salvador-aid</th>\n",
              "      <th>export-administration-act-south-africa</th>\n",
              "      <th>handicapped-infants</th>\n",
              "      <th>immigration</th>\n",
              "      <th>mx-missile</th>\n",
              "      <th>physician-fee-freeze</th>\n",
              "      <th>religious-groups-in-schools</th>\n",
              "      <th>superfund-right-to-sue</th>\n",
              "      <th>synfuels-corporation-cutback</th>\n",
              "      <th>water-project-cost-sharing</th>\n",
              "    </tr>\n",
              "    <tr>\n",
              "      <th>Class Name</th>\n",
              "      <th></th>\n",
              "      <th></th>\n",
              "      <th></th>\n",
              "      <th></th>\n",
              "      <th></th>\n",
              "      <th></th>\n",
              "      <th></th>\n",
              "      <th></th>\n",
              "      <th></th>\n",
              "      <th></th>\n",
              "      <th></th>\n",
              "      <th></th>\n",
              "      <th></th>\n",
              "      <th></th>\n",
              "      <th></th>\n",
              "      <th></th>\n",
              "    </tr>\n",
              "  </thead>\n",
              "  <tbody>\n",
              "    <tr>\n",
              "      <th>democrat</th>\n",
              "      <td>0.888462</td>\n",
              "      <td>0.828897</td>\n",
              "      <td>0.772201</td>\n",
              "      <td>0.350195</td>\n",
              "      <td>0.637450</td>\n",
              "      <td>0.144578</td>\n",
              "      <td>0.215686</td>\n",
              "      <td>0.935135</td>\n",
              "      <td>0.604651</td>\n",
              "      <td>0.471483</td>\n",
              "      <td>0.758065</td>\n",
              "      <td>0.054054</td>\n",
              "      <td>0.476744</td>\n",
              "      <td>0.289683</td>\n",
              "      <td>0.505882</td>\n",
              "      <td>0.502092</td>\n",
              "    </tr>\n",
              "    <tr>\n",
              "      <th>republican</th>\n",
              "      <td>0.134146</td>\n",
              "      <td>0.152866</td>\n",
              "      <td>0.240741</td>\n",
              "      <td>0.981366</td>\n",
              "      <td>0.089744</td>\n",
              "      <td>0.870968</td>\n",
              "      <td>0.951515</td>\n",
              "      <td>0.657534</td>\n",
              "      <td>0.187879</td>\n",
              "      <td>0.557576</td>\n",
              "      <td>0.115152</td>\n",
              "      <td>0.987879</td>\n",
              "      <td>0.897590</td>\n",
              "      <td>0.860759</td>\n",
              "      <td>0.132075</td>\n",
              "      <td>0.506757</td>\n",
              "    </tr>\n",
              "  </tbody>\n",
              "</table>\n",
              "</div>"
            ],
            "text/plain": [
              "            adoption-of-the-budget-resolution  aid-to-nicaraguan-contras  \\\n",
              "Class Name                                                                 \n",
              "democrat                             0.888462                   0.828897   \n",
              "republican                           0.134146                   0.152866   \n",
              "\n",
              "            anti-satellite-test-ban     crime  duty-free-exports  \\\n",
              "Class Name                                                         \n",
              "democrat                   0.772201  0.350195           0.637450   \n",
              "republican                 0.240741  0.981366           0.089744   \n",
              "\n",
              "            education-spending  el-salvador-aid  \\\n",
              "Class Name                                        \n",
              "democrat              0.144578         0.215686   \n",
              "republican            0.870968         0.951515   \n",
              "\n",
              "            export-administration-act-south-africa  handicapped-infants  \\\n",
              "Class Name                                                                \n",
              "democrat                                  0.935135             0.604651   \n",
              "republican                                0.657534             0.187879   \n",
              "\n",
              "            immigration  mx-missile  physician-fee-freeze  \\\n",
              "Class Name                                                  \n",
              "democrat       0.471483    0.758065              0.054054   \n",
              "republican     0.557576    0.115152              0.987879   \n",
              "\n",
              "            religious-groups-in-schools  superfund-right-to-sue  \\\n",
              "Class Name                                                        \n",
              "democrat                       0.476744                0.289683   \n",
              "republican                     0.897590                0.860759   \n",
              "\n",
              "            synfuels-corporation-cutback  water-project-cost-sharing  \n",
              "Class Name                                                            \n",
              "democrat                        0.505882                    0.502092  \n",
              "republican                      0.132075                    0.506757  "
            ]
          },
          "metadata": {
            "tags": []
          },
          "execution_count": 47
        }
      ]
    },
    {
      "cell_type": "code",
      "metadata": {
        "id": "6laB7C761Hwu",
        "colab_type": "code",
        "colab": {
          "base_uri": "https://localhost:8080/",
          "height": 119
        },
        "outputId": "a89b6c18-6f0d-4d11-fe13-ae72b4780ac1"
      },
      "source": [
        "# Democrats seemed to support the adoption of the budget resolution at a much\n",
        "# higher rate than Republicans.\n",
        "\n",
        "# Check the vote counts\n",
        "\n",
        "df.groupby('Class Name')['adoption-of-the-budget-resolution'].value_counts()"
      ],
      "execution_count": 54,
      "outputs": [
        {
          "output_type": "execute_result",
          "data": {
            "text/plain": [
              "Class Name  adoption-of-the-budget-resolution\n",
              "democrat    1.0                                  231\n",
              "            0.0                                   29\n",
              "republican  0.0                                  142\n",
              "            1.0                                   22\n",
              "Name: adoption-of-the-budget-resolution, dtype: int64"
            ]
          },
          "metadata": {
            "tags": []
          },
          "execution_count": 54
        }
      ]
    },
    {
      "cell_type": "code",
      "metadata": {
        "id": "FTdnAGqU1iR-",
        "colab_type": "code",
        "colab": {}
      },
      "source": [
        "from scipy.stats import ttest_ind"
      ],
      "execution_count": 0,
      "outputs": []
    },
    {
      "cell_type": "code",
      "metadata": {
        "id": "ZEe2FcXO3CU7",
        "colab_type": "code",
        "colab": {
          "base_uri": "https://localhost:8080/",
          "height": 34
        },
        "outputId": "b77b1863-d336-4179-f4ba-99414afab441"
      },
      "source": [
        "dem_budget = df[df['Class Name']=='democrat']['adoption-of-the-budget-resolution']\n",
        "dem_budget.shape"
      ],
      "execution_count": 57,
      "outputs": [
        {
          "output_type": "execute_result",
          "data": {
            "text/plain": [
              "(267,)"
            ]
          },
          "metadata": {
            "tags": []
          },
          "execution_count": 57
        }
      ]
    },
    {
      "cell_type": "code",
      "metadata": {
        "id": "SAhY5NKM3fnv",
        "colab_type": "code",
        "colab": {
          "base_uri": "https://localhost:8080/",
          "height": 34
        },
        "outputId": "76cd7759-248c-49fa-e257-70c9a337614c"
      },
      "source": [
        "rep_budget = df[df['Class Name']=='republican']['adoption-of-the-budget-resolution']\n",
        "rep_budget.shape"
      ],
      "execution_count": 59,
      "outputs": [
        {
          "output_type": "execute_result",
          "data": {
            "text/plain": [
              "(168,)"
            ]
          },
          "metadata": {
            "tags": []
          },
          "execution_count": 59
        }
      ]
    },
    {
      "cell_type": "code",
      "metadata": {
        "id": "sQIu_VCR3ut9",
        "colab_type": "code",
        "colab": {
          "base_uri": "https://localhost:8080/",
          "height": 34
        },
        "outputId": "c7882daa-6693-4f74-fc68-2be114ff5da9"
      },
      "source": [
        "ttest_ind(dem_budget, rep_budget, nan_policy='omit')"
      ],
      "execution_count": 61,
      "outputs": [
        {
          "output_type": "execute_result",
          "data": {
            "text/plain": [
              "Ttest_indResult(statistic=23.21277691701378, pvalue=2.0703402795404463e-77)"
            ]
          },
          "metadata": {
            "tags": []
          },
          "execution_count": 61
        }
      ]
    },
    {
      "cell_type": "code",
      "metadata": {
        "id": "N9ILLFmj30_Z",
        "colab_type": "code",
        "colab": {}
      },
      "source": [
        "statistic, pvalue = ttest_ind(dem_budget, rep_budget, nan_policy='omit')"
      ],
      "execution_count": 0,
      "outputs": []
    },
    {
      "cell_type": "code",
      "metadata": {
        "id": "MH8Pn-5h4uYk",
        "colab_type": "code",
        "colab": {
          "base_uri": "https://localhost:8080/",
          "height": 34
        },
        "outputId": "b60778d3-a0c3-452d-d111-84781c9d1802"
      },
      "source": [
        "# The p-value is well below the 0.01 threshold, so we can confidently reject the\n",
        "# null hypothesis that Republicans and Democrats had the same average support \n",
        "# for the bill.\n",
        "\n",
        "pvalue <= 0.01"
      ],
      "execution_count": 68,
      "outputs": [
        {
          "output_type": "execute_result",
          "data": {
            "text/plain": [
              "True"
            ]
          },
          "metadata": {
            "tags": []
          },
          "execution_count": 68
        }
      ]
    },
    {
      "cell_type": "code",
      "metadata": {
        "id": "TVgbyaGN5cw2",
        "colab_type": "code",
        "colab": {}
      },
      "source": [
        "# GOAL 3: Using hypothesis testing, find an issue that republicans support more than democrats with p < 0.01\n"
      ],
      "execution_count": 0,
      "outputs": []
    },
    {
      "cell_type": "code",
      "metadata": {
        "id": "zxhRNNk850Ab",
        "colab_type": "code",
        "colab": {
          "base_uri": "https://localhost:8080/",
          "height": 34
        },
        "outputId": "95b78d39-9e7a-444b-9067-a8a2db27eb0f"
      },
      "source": [
        "dem_freeze = df[df[\"Class Name\"]=='democrat']['physician-fee-freeze']\n",
        "rep_freeze = df[df['Class Name']=='republican']['physician-fee-freeze']\n",
        "dem_freeze.shape"
      ],
      "execution_count": 69,
      "outputs": [
        {
          "output_type": "execute_result",
          "data": {
            "text/plain": [
              "(267,)"
            ]
          },
          "metadata": {
            "tags": []
          },
          "execution_count": 69
        }
      ]
    },
    {
      "cell_type": "code",
      "metadata": {
        "id": "si_NNEYL6EZU",
        "colab_type": "code",
        "colab": {
          "base_uri": "https://localhost:8080/",
          "height": 34
        },
        "outputId": "c805ecc3-ac39-45cf-d9d2-ff9a67fc0ac0"
      },
      "source": [
        "rep_freeze.shape"
      ],
      "execution_count": 70,
      "outputs": [
        {
          "output_type": "execute_result",
          "data": {
            "text/plain": [
              "(168,)"
            ]
          },
          "metadata": {
            "tags": []
          },
          "execution_count": 70
        }
      ]
    },
    {
      "cell_type": "code",
      "metadata": {
        "id": "F4NPN1nA6HDw",
        "colab_type": "code",
        "colab": {
          "base_uri": "https://localhost:8080/",
          "height": 34
        },
        "outputId": "576d61f2-978e-4852-868d-b7a8826ae390"
      },
      "source": [
        "ttest_ind(dem_freeze, rep_freeze, nan_policy='omit')"
      ],
      "execution_count": 73,
      "outputs": [
        {
          "output_type": "execute_result",
          "data": {
            "text/plain": [
              "Ttest_indResult(statistic=-49.36708157301406, pvalue=1.994262314074344e-177)"
            ]
          },
          "metadata": {
            "tags": []
          },
          "execution_count": 73
        }
      ]
    },
    {
      "cell_type": "code",
      "metadata": {
        "id": "5MDJU4VY6riW",
        "colab_type": "code",
        "colab": {
          "base_uri": "https://localhost:8080/",
          "height": 34
        },
        "outputId": "bc6e930f-e0a8-491f-ec4d-2c9e2ea500cc"
      },
      "source": [
        "# The p-value is well below 0.01, so we can reject the null hypothesis in this \n",
        "# case as well.\n",
        "\n",
        "statistic, pvalue = ttest_ind(dem_freeze, rep_freeze, nan_policy='omit')\n",
        "pvalue <= 0.01"
      ],
      "execution_count": 74,
      "outputs": [
        {
          "output_type": "execute_result",
          "data": {
            "text/plain": [
              "True"
            ]
          },
          "metadata": {
            "tags": []
          },
          "execution_count": 74
        }
      ]
    },
    {
      "cell_type": "code",
      "metadata": {
        "id": "KZEdDod44eZw",
        "colab_type": "code",
        "colab": {
          "base_uri": "https://localhost:8080/",
          "height": 34
        },
        "outputId": "aabe14c4-9fb8-429d-9905-de1ae51aec6c"
      },
      "source": [
        "# GOAL 4: Using hypothesis testing, find an issue where the difference between \n",
        "# republicans and democrats has p > 0.1 (i.e. there may not be much of a \n",
        "# difference)\n",
        "\n",
        "dem_water = df[df[\"Class Name\"]=='democrat']['water-project-cost-sharing']\n",
        "rep_water = df[df['Class Name']=='republican']['water-project-cost-sharing']\n",
        "dem_freeze.shape"
      ],
      "execution_count": 75,
      "outputs": [
        {
          "output_type": "execute_result",
          "data": {
            "text/plain": [
              "(267,)"
            ]
          },
          "metadata": {
            "tags": []
          },
          "execution_count": 75
        }
      ]
    },
    {
      "cell_type": "code",
      "metadata": {
        "id": "bykWX4k87gJW",
        "colab_type": "code",
        "colab": {
          "base_uri": "https://localhost:8080/",
          "height": 34
        },
        "outputId": "7e997323-9c06-4aea-ecae-4f4b7039e341"
      },
      "source": [
        "rep_water.shape"
      ],
      "execution_count": 76,
      "outputs": [
        {
          "output_type": "execute_result",
          "data": {
            "text/plain": [
              "(168,)"
            ]
          },
          "metadata": {
            "tags": []
          },
          "execution_count": 76
        }
      ]
    },
    {
      "cell_type": "code",
      "metadata": {
        "id": "XEKOGYNN7ytp",
        "colab_type": "code",
        "colab": {
          "base_uri": "https://localhost:8080/",
          "height": 34
        },
        "outputId": "e23008f6-7eee-4ccf-8aec-279dd99f5a77"
      },
      "source": [
        "statistic, pvalue = ttest_ind(dem_water, rep_water, nan_policy='omit')\n",
        "pvalue"
      ],
      "execution_count": 80,
      "outputs": [
        {
          "output_type": "execute_result",
          "data": {
            "text/plain": [
              "0.9291556823993485"
            ]
          },
          "metadata": {
            "tags": []
          },
          "execution_count": 80
        }
      ]
    },
    {
      "cell_type": "code",
      "metadata": {
        "id": "rYADpeFD7-M0",
        "colab_type": "code",
        "colab": {
          "base_uri": "https://localhost:8080/",
          "height": 34
        },
        "outputId": "4d82e6f3-2dbb-4e07-d9fc-c38748cddce7"
      },
      "source": [
        "# The p-value is way over 0.1, so there's no evidence of an underlying \n",
        "#difference in support between Democrats and Republicans\n",
        "\n",
        "pvalue > 0.1"
      ],
      "execution_count": 81,
      "outputs": [
        {
          "output_type": "execute_result",
          "data": {
            "text/plain": [
              "True"
            ]
          },
          "metadata": {
            "tags": []
          },
          "execution_count": 81
        }
      ]
    },
    {
      "cell_type": "code",
      "metadata": {
        "id": "MCb4yVjs8kuT",
        "colab_type": "code",
        "colab": {}
      },
      "source": [
        "# Stretch goals:\n",
        "# 1.) Refactor\n",
        "\n",
        "# Define a function that takes a feature from the dataframe and a significance \n",
        "# level and returns a tuple with a boolean value (True if the pvalue < \n",
        "# significance level) and the pvalue.\n",
        "\n",
        "def support_ttest(feature, level):\n",
        "  dem = df[df[\"Class Name\"]=='democrat'][feature]\n",
        "  rep = df[df['Class Name']=='republican'][feature]\n",
        "  statistic, pvalue = ttest_ind(dem, rep, nan_policy='omit')\n",
        "  return pvalue < level, pvalue"
      ],
      "execution_count": 0,
      "outputs": []
    },
    {
      "cell_type": "code",
      "metadata": {
        "id": "J0D5DaFJ9Uig",
        "colab_type": "code",
        "colab": {
          "base_uri": "https://localhost:8080/",
          "height": 34
        },
        "outputId": "07a16d8e-7f4b-4129-8535-cb893f2b5479"
      },
      "source": [
        "support_ttest('water-project-cost-sharing', .05)"
      ],
      "execution_count": 87,
      "outputs": [
        {
          "output_type": "execute_result",
          "data": {
            "text/plain": [
              "(False, 0.9291556823993485)"
            ]
          },
          "metadata": {
            "tags": []
          },
          "execution_count": 87
        }
      ]
    },
    {
      "cell_type": "code",
      "metadata": {
        "id": "s_dNRqba9fOi",
        "colab_type": "code",
        "colab": {
          "base_uri": "https://localhost:8080/",
          "height": 34
        },
        "outputId": "a5d5ea22-475d-443c-9173-c57730b3a49f"
      },
      "source": [
        "support_ttest('physician-fee-freeze', .01)"
      ],
      "execution_count": 88,
      "outputs": [
        {
          "output_type": "execute_result",
          "data": {
            "text/plain": [
              "(True, 1.994262314074344e-177)"
            ]
          },
          "metadata": {
            "tags": []
          },
          "execution_count": 88
        }
      ]
    },
    {
      "cell_type": "code",
      "metadata": {
        "id": "n_OVha9i9jro",
        "colab_type": "code",
        "colab": {
          "base_uri": "https://localhost:8080/",
          "height": 34
        },
        "outputId": "2a17387e-a25e-431b-ae7d-fb233f91b232"
      },
      "source": [
        "support_ttest('adoption-of-the-budget-resolution', .01)"
      ],
      "execution_count": 91,
      "outputs": [
        {
          "output_type": "execute_result",
          "data": {
            "text/plain": [
              "(True, 2.0703402795404463e-77)"
            ]
          },
          "metadata": {
            "tags": []
          },
          "execution_count": 91
        }
      ]
    },
    {
      "cell_type": "code",
      "metadata": {
        "id": "qoI4nrQs-56l",
        "colab_type": "code",
        "colab": {}
      },
      "source": [
        ""
      ],
      "execution_count": 0,
      "outputs": []
    }
  ]
}