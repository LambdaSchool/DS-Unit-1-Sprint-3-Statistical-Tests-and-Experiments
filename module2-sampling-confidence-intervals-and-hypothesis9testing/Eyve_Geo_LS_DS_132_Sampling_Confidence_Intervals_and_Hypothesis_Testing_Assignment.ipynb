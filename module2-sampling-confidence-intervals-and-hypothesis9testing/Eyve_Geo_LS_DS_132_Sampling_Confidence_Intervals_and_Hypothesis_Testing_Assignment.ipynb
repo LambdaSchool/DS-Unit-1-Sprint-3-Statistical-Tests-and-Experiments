{
  "nbformat": 4,
  "nbformat_minor": 0,
  "metadata": {
    "colab": {
      "name": "Eyve Geo LS_DS_132_Sampling_Confidence_Intervals_and_Hypothesis_Testing_Assignment.ipynb",
      "version": "0.3.2",
      "provenance": [],
      "collapsed_sections": [],
      "include_colab_link": true
    },
    "kernelspec": {
      "name": "python3",
      "display_name": "Python 3"
    }
  },
  "cells": [
    {
      "cell_type": "markdown",
      "metadata": {
        "id": "view-in-github",
        "colab_type": "text"
      },
      "source": [
        "<a href=\"https://colab.research.google.com/github/eyvonne/DS-Unit-1-Sprint-3-Statistical-Tests-and-Experiments/blob/master/module2-sampling-confidence-intervals-and-hypothesis9testing/Eyve_Geo_LS_DS_132_Sampling_Confidence_Intervals_and_Hypothesis_Testing_Assignment.ipynb\" target=\"_parent\"><img src=\"https://colab.research.google.com/assets/colab-badge.svg\" alt=\"Open In Colab\"/></a>"
      ]
    },
    {
      "cell_type": "markdown",
      "metadata": {
        "id": "11OzdxWTM7UR",
        "colab_type": "text"
      },
      "source": [
        "## Assignment - Build a confidence interval\n",
        "\n",
        "A confidence interval refers to a neighborhood around some point estimate, the size of which is determined by the desired p-value. For instance, we might say that 52% of Americans prefer tacos to burritos, with a 95% confidence interval of +/- 5%.\n",
        "\n",
        "52% (0.52) is the point estimate, and +/- 5% (the interval $[0.47, 0.57]$) is the confidence interval. \"95% confidence\" means a p-value $\\leq 1 - 0.95 = 0.05$.\n",
        "\n",
        "In this case, the confidence interval includes $0.5$ - which is the natural null hypothesis (that half of Americans prefer tacos and half burritos, thus there is no clear favorite). So in this case, we could use the confidence interval to report that we've failed to reject the null hypothesis.\n",
        "\n",
        "But providing the full analysis with a confidence interval, including a graphical representation of it, can be a helpful and powerful way to tell your story. Done well, it is also more intuitive to a layperson than simply saying \"fail to reject the null hypothesis\" - it shows that in fact the data does *not* give a single clear result (the point estimate) but a whole range of possibilities.\n",
        "\n",
        "How is a confidence interval built, and how should it be interpreted? It does *not* mean that 95% of the data lies in that interval - instead, the frequentist interpretation is \"if we were to repeat this experiment 100 times, we would expect the average result to lie in this interval ~95 times.\"\n",
        "\n",
        "For a 95% confidence interval and a normal(-ish) distribution, you can simply remember that +/-2 standard deviations contains 95% of the probability mass, and so the 95% confidence interval based on a given sample is centered at the mean (point estimate) and has a range of +/- 2 (or technically 1.96) standard deviations.\n",
        "\n",
        "Different distributions/assumptions (90% confidence, 99% confidence) will require different math, but the overall process and interpretation (with a frequentist approach) will be the same.\n",
        "\n",
        "Your assignment - using the data from the prior module ([congressional voting records](https://archive.ics.uci.edu/ml/datasets/Congressional+Voting+Records)):\n",
        "\n",
        "\n",
        "### Confidence Intervals:\n",
        "1. Generate and numerically represent a confidence interval\n",
        "2. Graphically (with a plot) represent the confidence interval\n",
        "3. Interpret the confidence interval - what does it tell you about the data and its distribution?\n",
        "\n",
        "### Chi-squared tests:\n",
        "4. Take a dataset that we have used in the past in class that has **categorical** variables. Pick two of those categorical variables and run a chi-squared tests on that data\n",
        "  - By hand using Numpy\n",
        "  - In a single line using Scipy\n"
      ]
    },
    {
      "cell_type": "code",
      "metadata": {
        "id": "_qHJUd8Ti0b6",
        "colab_type": "code",
        "colab": {}
      },
      "source": [
        "import numpy as np\n",
        "import pandas as pd\n",
        "from scipy import stats"
      ],
      "execution_count": 0,
      "outputs": []
    },
    {
      "cell_type": "code",
      "metadata": {
        "id": "Ckcr4A4FM7cs",
        "colab_type": "code",
        "colab": {
          "base_uri": "https://localhost:8080/",
          "height": 298
        },
        "outputId": "93a4b5f1-7462-4368-bf5e-e02237f58562"
      },
      "source": [
        "# TODO - your code!\n",
        "#load in and clean up data\n",
        "heads=['party','handicapped-infants','water-project',\n",
        "        'budget','physician-fee-freeze', 'el-salvador-aid',\n",
        "        'religious-groups','anti-satellite-ban',\n",
        "        'aid-to-contras','mx-missile','immigration',\n",
        "        'synfuels', 'education', 'right-to-sue','crime','duty-free',\n",
        "        'south-africa']\n",
        "votes=pd.read_csv('https://archive.ics.uci.edu/ml/machine-learning-databases/voting-records/house-votes-84.data', names=heads)\n",
        "votes=votes.replace({'?':np.NaN, 'y':1,'n':0})\n",
        "votes.head()"
      ],
      "execution_count": 2,
      "outputs": [
        {
          "output_type": "execute_result",
          "data": {
            "text/html": [
              "<div>\n",
              "<style scoped>\n",
              "    .dataframe tbody tr th:only-of-type {\n",
              "        vertical-align: middle;\n",
              "    }\n",
              "\n",
              "    .dataframe tbody tr th {\n",
              "        vertical-align: top;\n",
              "    }\n",
              "\n",
              "    .dataframe thead th {\n",
              "        text-align: right;\n",
              "    }\n",
              "</style>\n",
              "<table border=\"1\" class=\"dataframe\">\n",
              "  <thead>\n",
              "    <tr style=\"text-align: right;\">\n",
              "      <th></th>\n",
              "      <th>party</th>\n",
              "      <th>handicapped-infants</th>\n",
              "      <th>water-project</th>\n",
              "      <th>budget</th>\n",
              "      <th>physician-fee-freeze</th>\n",
              "      <th>el-salvador-aid</th>\n",
              "      <th>religious-groups</th>\n",
              "      <th>anti-satellite-ban</th>\n",
              "      <th>aid-to-contras</th>\n",
              "      <th>mx-missile</th>\n",
              "      <th>immigration</th>\n",
              "      <th>synfuels</th>\n",
              "      <th>education</th>\n",
              "      <th>right-to-sue</th>\n",
              "      <th>crime</th>\n",
              "      <th>duty-free</th>\n",
              "      <th>south-africa</th>\n",
              "    </tr>\n",
              "  </thead>\n",
              "  <tbody>\n",
              "    <tr>\n",
              "      <th>0</th>\n",
              "      <td>republican</td>\n",
              "      <td>0.0</td>\n",
              "      <td>1.0</td>\n",
              "      <td>0.0</td>\n",
              "      <td>1.0</td>\n",
              "      <td>1.0</td>\n",
              "      <td>1.0</td>\n",
              "      <td>0.0</td>\n",
              "      <td>0.0</td>\n",
              "      <td>0.0</td>\n",
              "      <td>1.0</td>\n",
              "      <td>NaN</td>\n",
              "      <td>1.0</td>\n",
              "      <td>1.0</td>\n",
              "      <td>1.0</td>\n",
              "      <td>0.0</td>\n",
              "      <td>1.0</td>\n",
              "    </tr>\n",
              "    <tr>\n",
              "      <th>1</th>\n",
              "      <td>republican</td>\n",
              "      <td>0.0</td>\n",
              "      <td>1.0</td>\n",
              "      <td>0.0</td>\n",
              "      <td>1.0</td>\n",
              "      <td>1.0</td>\n",
              "      <td>1.0</td>\n",
              "      <td>0.0</td>\n",
              "      <td>0.0</td>\n",
              "      <td>0.0</td>\n",
              "      <td>0.0</td>\n",
              "      <td>0.0</td>\n",
              "      <td>1.0</td>\n",
              "      <td>1.0</td>\n",
              "      <td>1.0</td>\n",
              "      <td>0.0</td>\n",
              "      <td>NaN</td>\n",
              "    </tr>\n",
              "    <tr>\n",
              "      <th>2</th>\n",
              "      <td>democrat</td>\n",
              "      <td>NaN</td>\n",
              "      <td>1.0</td>\n",
              "      <td>1.0</td>\n",
              "      <td>NaN</td>\n",
              "      <td>1.0</td>\n",
              "      <td>1.0</td>\n",
              "      <td>0.0</td>\n",
              "      <td>0.0</td>\n",
              "      <td>0.0</td>\n",
              "      <td>0.0</td>\n",
              "      <td>1.0</td>\n",
              "      <td>0.0</td>\n",
              "      <td>1.0</td>\n",
              "      <td>1.0</td>\n",
              "      <td>0.0</td>\n",
              "      <td>0.0</td>\n",
              "    </tr>\n",
              "    <tr>\n",
              "      <th>3</th>\n",
              "      <td>democrat</td>\n",
              "      <td>0.0</td>\n",
              "      <td>1.0</td>\n",
              "      <td>1.0</td>\n",
              "      <td>0.0</td>\n",
              "      <td>NaN</td>\n",
              "      <td>1.0</td>\n",
              "      <td>0.0</td>\n",
              "      <td>0.0</td>\n",
              "      <td>0.0</td>\n",
              "      <td>0.0</td>\n",
              "      <td>1.0</td>\n",
              "      <td>0.0</td>\n",
              "      <td>1.0</td>\n",
              "      <td>0.0</td>\n",
              "      <td>0.0</td>\n",
              "      <td>1.0</td>\n",
              "    </tr>\n",
              "    <tr>\n",
              "      <th>4</th>\n",
              "      <td>democrat</td>\n",
              "      <td>1.0</td>\n",
              "      <td>1.0</td>\n",
              "      <td>1.0</td>\n",
              "      <td>0.0</td>\n",
              "      <td>1.0</td>\n",
              "      <td>1.0</td>\n",
              "      <td>0.0</td>\n",
              "      <td>0.0</td>\n",
              "      <td>0.0</td>\n",
              "      <td>0.0</td>\n",
              "      <td>1.0</td>\n",
              "      <td>NaN</td>\n",
              "      <td>1.0</td>\n",
              "      <td>1.0</td>\n",
              "      <td>1.0</td>\n",
              "      <td>1.0</td>\n",
              "    </tr>\n",
              "  </tbody>\n",
              "</table>\n",
              "</div>"
            ],
            "text/plain": [
              "        party  handicapped-infants      ...       duty-free  south-africa\n",
              "0  republican                  0.0      ...             0.0           1.0\n",
              "1  republican                  0.0      ...             0.0           NaN\n",
              "2    democrat                  NaN      ...             0.0           0.0\n",
              "3    democrat                  0.0      ...             0.0           1.0\n",
              "4    democrat                  1.0      ...             1.0           1.0\n",
              "\n",
              "[5 rows x 17 columns]"
            ]
          },
          "metadata": {
            "tags": []
          },
          "execution_count": 2
        }
      ]
    },
    {
      "cell_type": "code",
      "metadata": {
        "id": "WG4tdmaFjh_b",
        "colab_type": "code",
        "colab": {
          "base_uri": "https://localhost:8080/",
          "height": 204
        },
        "outputId": "741a27ec-5eaf-44b7-9d67-cb899d068413"
      },
      "source": [
        "#break up into all the df's I'll need\n",
        "dems=votes[votes['party']=='democrat'].reset_index(drop=True)\n",
        "reps=votes[votes['party']=='republican'].reset_index(drop=True)\n",
        "means=pd.DataFrame({'democrat': dems.mean(),'republican':reps.mean()})\n",
        "means.head()"
      ],
      "execution_count": 3,
      "outputs": [
        {
          "output_type": "execute_result",
          "data": {
            "text/html": [
              "<div>\n",
              "<style scoped>\n",
              "    .dataframe tbody tr th:only-of-type {\n",
              "        vertical-align: middle;\n",
              "    }\n",
              "\n",
              "    .dataframe tbody tr th {\n",
              "        vertical-align: top;\n",
              "    }\n",
              "\n",
              "    .dataframe thead th {\n",
              "        text-align: right;\n",
              "    }\n",
              "</style>\n",
              "<table border=\"1\" class=\"dataframe\">\n",
              "  <thead>\n",
              "    <tr style=\"text-align: right;\">\n",
              "      <th></th>\n",
              "      <th>democrat</th>\n",
              "      <th>republican</th>\n",
              "    </tr>\n",
              "  </thead>\n",
              "  <tbody>\n",
              "    <tr>\n",
              "      <th>handicapped-infants</th>\n",
              "      <td>0.604651</td>\n",
              "      <td>0.187879</td>\n",
              "    </tr>\n",
              "    <tr>\n",
              "      <th>water-project</th>\n",
              "      <td>0.502092</td>\n",
              "      <td>0.506757</td>\n",
              "    </tr>\n",
              "    <tr>\n",
              "      <th>budget</th>\n",
              "      <td>0.888462</td>\n",
              "      <td>0.134146</td>\n",
              "    </tr>\n",
              "    <tr>\n",
              "      <th>physician-fee-freeze</th>\n",
              "      <td>0.054054</td>\n",
              "      <td>0.987879</td>\n",
              "    </tr>\n",
              "    <tr>\n",
              "      <th>el-salvador-aid</th>\n",
              "      <td>0.215686</td>\n",
              "      <td>0.951515</td>\n",
              "    </tr>\n",
              "  </tbody>\n",
              "</table>\n",
              "</div>"
            ],
            "text/plain": [
              "                      democrat  republican\n",
              "handicapped-infants   0.604651    0.187879\n",
              "water-project         0.502092    0.506757\n",
              "budget                0.888462    0.134146\n",
              "physician-fee-freeze  0.054054    0.987879\n",
              "el-salvador-aid       0.215686    0.951515"
            ]
          },
          "metadata": {
            "tags": []
          },
          "execution_count": 3
        }
      ]
    },
    {
      "cell_type": "code",
      "metadata": {
        "id": "AaMOh3WqkHQO",
        "colab_type": "code",
        "colab": {}
      },
      "source": [
        "#get the confidence window of any issue/party combo.\n",
        "def confidence(issue, partyDF, confidence=.95):\n",
        "  party=partyDF['party'].loc[0]\n",
        "  avg = means[party].loc[issue]\n",
        "  std_dev=np.std(partyDF[issue], ddof=1)\n",
        "  st_err=std_dev/(len(list(partyDF[issue])))\n",
        "  margin=st_err * stats.t.ppf((1+confidence)/2, (len(list(partyDF[issue]))-1))\n",
        "  return (avg, avg+margin, avg-margin)"
      ],
      "execution_count": 0,
      "outputs": []
    },
    {
      "cell_type": "code",
      "metadata": {
        "id": "A2ebktKToBlO",
        "colab_type": "code",
        "colab": {
          "base_uri": "https://localhost:8080/",
          "height": 35
        },
        "outputId": "26c561d5-22d8-4284-f60a-2734a342d496"
      },
      "source": [
        "confidence('budget',dems)"
      ],
      "execution_count": 5,
      "outputs": [
        {
          "output_type": "execute_result",
          "data": {
            "text/plain": [
              "(0.8884615384615384, 0.8907874101626045, 0.8861356667604723)"
            ]
          },
          "metadata": {
            "tags": []
          },
          "execution_count": 5
        }
      ]
    },
    {
      "cell_type": "code",
      "metadata": {
        "id": "-dNPl2VjlcmD",
        "colab_type": "code",
        "colab": {
          "base_uri": "https://localhost:8080/",
          "height": 35
        },
        "outputId": "1f781a7c-a6e7-4728-cbb3-3306f20e8c33"
      },
      "source": [
        "dems['party'].loc[0]"
      ],
      "execution_count": 6,
      "outputs": [
        {
          "output_type": "execute_result",
          "data": {
            "text/plain": [
              "'democrat'"
            ]
          },
          "metadata": {
            "tags": []
          },
          "execution_count": 6
        }
      ]
    },
    {
      "cell_type": "code",
      "metadata": {
        "id": "qm_JTLoJqMhX",
        "colab_type": "code",
        "colab": {}
      },
      "source": [
        "import matplotlib.pyplot as plt\n"
      ],
      "execution_count": 0,
      "outputs": []
    },
    {
      "cell_type": "code",
      "metadata": {
        "id": "3cqOy7IlroR0",
        "colab_type": "code",
        "colab": {}
      },
      "source": [
        "#returns the margin of error only for the graph\n",
        "def margin(issue, partyDF, confidence=.95):\n",
        "  party=partyDF['party'].loc[0]\n",
        "  avg = means[party].loc[issue]\n",
        "  std_dev=np.std(partyDF[issue], ddof=1)\n",
        "  st_err=std_dev/(len(list(partyDF[issue])))\n",
        "  margin=st_err * stats.t.ppf((1+confidence)/2, (len(list(partyDF[issue]))-1))\n",
        "  return margin"
      ],
      "execution_count": 0,
      "outputs": []
    },
    {
      "cell_type": "code",
      "metadata": {
        "id": "z2qs38mWqYMn",
        "colab_type": "code",
        "colab": {
          "base_uri": "https://localhost:8080/",
          "height": 362
        },
        "outputId": "10072360-8be1-4ef8-c6fb-7ce9efbd8659"
      },
      "source": [
        "fig, ax = plt.subplots()\n",
        "ax=plt.bar(means.index, means['democrat'], yerr=margin(means.index, dems))\n",
        "plt.xticks(rotation='vertical');\n"
      ],
      "execution_count": 9,
      "outputs": [
        {
          "output_type": "display_data",
          "data": {
            "image/png": "[encoded data removed]",
            "text/plain": [
              "<Figure size 432x288 with 1 Axes>"
            ]
          },
          "metadata": {
            "tags": []
          }
        }
      ]
    },
    {
      "cell_type": "markdown",
      "metadata": {
        "id": "Ru0iwLujsWW5",
        "colab_type": "text"
      },
      "source": [
        "The confidence interval shows where the average is going to land 95% of the time that the sample is taken (theoretically). The narrower a confidence interval the more clustered around the mean the data is, leading to a more distinct central trend. "
      ]
    },
    {
      "cell_type": "markdown",
      "metadata": {
        "id": "5ICOLyjLszAc",
        "colab_type": "text"
      },
      "source": [
        "For my chi squared I'm going to use the data that I'm planning on using for my storytelling project because its all categorical and theres plenty of analysis to do. "
      ]
    },
    {
      "cell_type": "code",
      "metadata": {
        "id": "WWR4l76ls8wd",
        "colab_type": "code",
        "colab": {}
      },
      "source": [
        "df=pd.read_csv('https://storage.googleapis.com/kaggle-datasets/1357/2447/facebook-fact-check.csv?GoogleAccessId=web-data@kaggle-161607.iam.gserviceaccount.com&Expires=1566592203&Signature=l%2FHNQzV7Q5nxjPlrFxhKbXccBqN5%2Fv%2FnypxAffrNrAK%2FuP6mbeUD9CoAGMOE2wN8Qg1t6AVjHCwHZEPplN5Am2y51nWztPwD80weAF8%2B7W05HtPZk3nVxm63HSNstEbp7XwYlcmE%2BeDCEwhywNXOLqmG1M58KAHNmNSfq1rcBy7m7cNn2VM8YfGp7n74U7d5%2Fb1ILZxulOLoI0Shfd7m2ncRs44v8xmrj05GC71WCQqfLQcMrICYxVgW3VSNEkZC1aYTfar0ZrZxc%2BkX7gs93mTYEPTAPgWVRWl62vlLo6FCz0Ceh6wIclUCgDQ9ZjkJMS2G5nb4ghbvhCW2xbSxTQ%3D%3D')\n",
        "df.isna().sum()\n",
        "#I don't need Most of the data in this frame, rather than spending time cleaning I'll just \n",
        "# ditch all the columns that are potentially in my way\n",
        "df=df.drop(['account_id', 'post_id','Post URL', 'Date Published', 'Debate', 'share_count', 'reaction_count', 'comment_count','Category', 'Post Type'], axis=1)"
      ],
      "execution_count": 0,
      "outputs": []
    },
    {
      "cell_type": "code",
      "metadata": {
        "id": "GxeNGIbRvDRb",
        "colab_type": "code",
        "colab": {
          "base_uri": "https://localhost:8080/",
          "height": 352
        },
        "outputId": "e9f27669-a704-4556-bf97-4423ea4edfcd"
      },
      "source": [
        "!pip install pandas==0.23.4"
      ],
      "execution_count": 51,
      "outputs": [
        {
          "output_type": "stream",
          "text": [
            "Collecting pandas==0.23.4\n",
            "\u001b[?25l  Downloading https://files.pythonhosted.org/packages/e1/d8/feeb346d41f181e83fba45224ab14a8d8af019b48af742e047f3845d8cff/pandas-0.23.4-cp36-cp36m-manylinux1_x86_64.whl (8.9MB)\n",
            "\u001b[K     |████████████████████████████████| 8.9MB 4.7MB/s \n",
            "\u001b[?25hRequirement already satisfied: python-dateutil>=2.5.0 in /usr/local/lib/python3.6/dist-packages (from pandas==0.23.4) (2.5.3)\n",
            "Requirement already satisfied: numpy>=1.9.0 in /usr/local/lib/python3.6/dist-packages (from pandas==0.23.4) (1.16.4)\n",
            "Requirement already satisfied: pytz>=2011k in /usr/local/lib/python3.6/dist-packages (from pandas==0.23.4) (2018.9)\n",
            "Requirement already satisfied: six>=1.5 in /usr/local/lib/python3.6/dist-packages (from python-dateutil>=2.5.0->pandas==0.23.4) (1.12.0)\n",
            "\u001b[31mERROR: google-colab 1.0.0 has requirement pandas~=0.24.0, but you'll have pandas 0.23.4 which is incompatible.\u001b[0m\n",
            "Installing collected packages: pandas\n",
            "  Found existing installation: pandas 0.24.2\n",
            "    Uninstalling pandas-0.24.2:\n",
            "      Successfully uninstalled pandas-0.24.2\n",
            "Successfully installed pandas-0.23.4\n"
          ],
          "name": "stdout"
        },
        {
          "output_type": "display_data",
          "data": {
            "application/vnd.colab-display-data+json": {
              "pip_warning": {
                "packages": [
                  "pandas"
                ]
              }
            }
          },
          "metadata": {
            "tags": []
          }
        }
      ]
    },
    {
      "cell_type": "code",
      "metadata": {
        "id": "vrwNrPuQvbYY",
        "colab_type": "code",
        "colab": {
          "base_uri": "https://localhost:8080/",
          "height": 175
        },
        "outputId": "d59d7aee-1ed5-4b3d-d04b-dbcdfcb8dc7e"
      },
      "source": [
        "observed=pd.crosstab(df['Page'],df['Rating']).values\n",
        "observed"
      ],
      "execution_count": 20,
      "outputs": [
        {
          "output_type": "execute_result",
          "data": {
            "text/plain": [
              "array([[  2,   0, 172,  26],\n",
              "       [ 25,   8,  96,  11],\n",
              "       [  4,   0, 385,  20],\n",
              "       [ 54,  30, 121,  81],\n",
              "       [ 26,  26,  56,   4],\n",
              "       [ 33,   9, 102,  65],\n",
              "       [  2,   0, 528,   6],\n",
              "       [ 89,  26, 142,  11],\n",
              "       [ 10,   5,  67,  40]])"
            ]
          },
          "metadata": {
            "tags": []
          },
          "execution_count": 20
        }
      ]
    },
    {
      "cell_type": "code",
      "metadata": {
        "id": "tV69VJtbwQ55",
        "colab_type": "code",
        "colab": {}
      },
      "source": [
        "#get expected values\n",
        "rowSums=observed.iloc[0:9,4].values\n",
        "colSums=observed.iloc[9, 0:4].values\n",
        "total=len(df)"
      ],
      "execution_count": 0,
      "outputs": []
    },
    {
      "cell_type": "code",
      "metadata": {
        "id": "YpCuXWxnxnFz",
        "colab_type": "code",
        "colab": {
          "base_uri": "https://localhost:8080/",
          "height": 175
        },
        "outputId": "2c843862-6d1c-4ac2-f7d0-89bf4c042e1c"
      },
      "source": [
        "expected = []\n",
        "for row in rowSums:\n",
        "  expectedRow=[]\n",
        "  for col in colSums:\n",
        "    expectVal= col*row/total\n",
        "    expectedRow.append(expectVal)\n",
        "  expected.append(expectedRow)\n",
        "\n",
        "expected=np.array(expected)\n",
        "expected"
      ],
      "execution_count": 19,
      "outputs": [
        {
          "output_type": "execute_result",
          "data": {
            "text/plain": [
              "array([[ 21.47239264,   9.11481157, 146.2751972 ,  23.1375986 ],\n",
              "       [ 15.03067485,   6.3803681 , 102.39263804,  16.19631902],\n",
              "       [ 43.91104294,  18.63978966, 299.13277826,  47.31638913],\n",
              "       [ 30.70552147,  13.03418054, 209.17353199,  33.08676599],\n",
              "       [ 12.02453988,   5.10429448,  81.91411043,  12.95705521],\n",
              "       [ 22.43865031,   9.52497809, 152.85758107,  24.17879053],\n",
              "       [ 57.54601227,  24.427695  , 392.01752848,  62.00876424],\n",
              "       [ 28.77300613,  12.2138475 , 196.00876424,  31.00438212],\n",
              "       [ 13.09815951,   5.56003506,  89.22787029,  14.11393514]])"
            ]
          },
          "metadata": {
            "tags": []
          },
          "execution_count": 19
        }
      ]
    },
    {
      "cell_type": "code",
      "metadata": {
        "id": "XcFUDfp3ynPk",
        "colab_type": "code",
        "colab": {
          "base_uri": "https://localhost:8080/",
          "height": 35
        },
        "outputId": "d5cda00b-817e-45bd-fcb9-a0a46760013c"
      },
      "source": [
        "#calculate the chisquared using numpy\n",
        "chi2= ((observed-expected)**2/expected).sum()\n",
        "chi2"
      ],
      "execution_count": 21,
      "outputs": [
        {
          "output_type": "execute_result",
          "data": {
            "text/plain": [
              "888.417630218737"
            ]
          },
          "metadata": {
            "tags": []
          },
          "execution_count": 21
        }
      ]
    },
    {
      "cell_type": "code",
      "metadata": {
        "id": "5woPQumPyxlE",
        "colab_type": "code",
        "colab": {
          "base_uri": "https://localhost:8080/",
          "height": 192
        },
        "outputId": "e1b0a620-019e-476b-fd62-cc9bfdcb55b5"
      },
      "source": [
        "# and now using scipy \n",
        "chiSqu, p, dof, expected = stats.chi2_contingency(observed)\n",
        "print(chiSqu, p, dof, '\\n',expected)"
      ],
      "execution_count": 24,
      "outputs": [
        {
          "output_type": "stream",
          "text": [
            "888.417630218737 4.127912840398355e-172 24 \n",
            " [[ 21.47239264   9.11481157 146.2751972   23.1375986 ]\n",
            " [ 15.03067485   6.3803681  102.39263804  16.19631902]\n",
            " [ 43.91104294  18.63978966 299.13277826  47.31638913]\n",
            " [ 30.70552147  13.03418054 209.17353199  33.08676599]\n",
            " [ 12.02453988   5.10429448  81.91411043  12.95705521]\n",
            " [ 22.43865031   9.52497809 152.85758107  24.17879053]\n",
            " [ 57.54601227  24.427695   392.01752848  62.00876424]\n",
            " [ 28.77300613  12.2138475  196.00876424  31.00438212]\n",
            " [ 13.09815951   5.56003506  89.22787029  14.11393514]]\n"
          ],
          "name": "stdout"
        }
      ]
    },
    {
      "cell_type": "markdown",
      "metadata": {
        "id": "vfR07MOQzVkn",
        "colab_type": "text"
      },
      "source": [
        "Due to the high chi Squared and near-0 p value I reject the null hypothesis that the rating and source of the material are independent of one another. "
      ]
    },
    {
      "cell_type": "code",
      "metadata": {
        "id": "nMvl7D9_zVIH",
        "colab_type": "code",
        "colab": {}
      },
      "source": [
        ""
      ],
      "execution_count": 0,
      "outputs": []
    },
    {
      "cell_type": "markdown",
      "metadata": {
        "id": "4ohsJhQUmEuS",
        "colab_type": "text"
      },
      "source": [
        "## Stretch goals:\n",
        "\n",
        "1. Write a summary of your findings, mixing prose and math/code/results. *Note* - yes, this is by definition a political topic. It is challenging but important to keep your writing voice *neutral* and stick to the facts of the data. Data science often involves considering controversial issues, so it's important to be sensitive about them (especially if you want to publish).\n",
        "2. Apply the techniques you learned today to your project data or other data of your choice, and write/discuss your findings here.\n",
        "3. Refactor your code so it is elegant, readable, and can be easily run for all issues."
      ]
    },
    {
      "cell_type": "markdown",
      "metadata": {
        "id": "nyJ3ySr7R2k9",
        "colab_type": "text"
      },
      "source": [
        "## Resources\n",
        "\n",
        "- [Interactive visualize the Chi-Squared test](https://homepage.divms.uiowa.edu/~mbognar/applets/chisq.html)\n",
        "- [Calculation of Chi-Squared test statistic](https://en.wikipedia.org/wiki/Pearson%27s_chi-squared_test)\n",
        "- [Visualization of a confidence interval generated by R code](https://commons.wikimedia.org/wiki/File:Confidence-interval.svg)\n",
        "- [Expected value of a squared standard normal](https://math.stackexchange.com/questions/264061/expected-value-calculation-for-squared-normal-distribution) (it's 1 - which is why the expected value of a Chi-Squared with $n$ degrees of freedom is $n$, as it's the sum of $n$ squared standard normals)"
      ]
    }
  ]
}