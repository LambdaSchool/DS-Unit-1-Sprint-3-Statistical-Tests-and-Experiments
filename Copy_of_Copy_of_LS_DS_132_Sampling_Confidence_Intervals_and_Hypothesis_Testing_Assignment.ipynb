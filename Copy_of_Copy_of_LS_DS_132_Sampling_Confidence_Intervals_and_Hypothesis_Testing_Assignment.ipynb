{
  "nbformat": 4,
  "nbformat_minor": 0,
  "metadata": {
    "colab": {
      "name": "Copy of Copy of LS_DS_132_Sampling_Confidence_Intervals_and_Hypothesis_Testing_Assignment.ipynb",
      "provenance": [],
      "collapsed_sections": [],
      "include_colab_link": true
    },
    "kernelspec": {
      "name": "python3",
      "display_name": "Python 3"
    }
  },
  "cells": [
    {
      "cell_type": "markdown",
      "metadata": {
        "id": "view-in-github",
        "colab_type": "text"
      },
      "source": [
        "<a href=\"https://colab.research.google.com/github/misqualzarabi/DS-Unit-1-Sprint-3-Statistical-Tests-and-Experiments/blob/master/Copy_of_Copy_of_LS_DS_132_Sampling_Confidence_Intervals_and_Hypothesis_Testing_Assignment.ipynb\" target=\"_parent\"><img src=\"https://colab.research.google.com/assets/colab-badge.svg\" alt=\"Open In Colab\"/></a>"
      ]
    },
    {
      "cell_type": "markdown",
      "metadata": {
        "id": "11OzdxWTM7UR",
        "colab_type": "text"
      },
      "source": [
        "## Assignment - Build a confidence interval\n",
        "\n",
        "A confidence interval refers to a neighborhood around some point estimate, the size of which is determined by the desired p-value. For instance, we might say that 52% of Americans prefer tacos to burritos, with a 95% confidence interval of +/- 5%.\n",
        "\n",
        "52% (0.52) is the point estimate, and +/- 5% (the interval $[0.47, 0.57]$) is the confidence interval. \"95% confidence\" means a p-value $\\leq 1 - 0.95 = 0.05$.\n",
        "\n",
        "In this case, the confidence interval includes $0.5$ - which is the natural null hypothesis (that half of Americans prefer tacos and half burritos, thus there is no clear favorite). So in this case, we could use the confidence interval to report that we've failed to reject the null hypothesis.\n",
        "\n",
        "But providing the full analysis with a confidence interval, including a graphical representation of it, can be a helpful and powerful way to tell your story. Done well, it is also more intuitive to a layperson than simply saying \"fail to reject the null hypothesis\" - it shows that in fact the data does *not* give a single clear result (the point estimate) but a whole range of possibilities.\n",
        "\n",
        "How is a confidence interval built, and how should it be interpreted? It does *not* mean that 95% of the data lies in that interval - instead, the frequentist interpretation is \"if we were to repeat this experiment 100 times, we would expect the average result to lie in this interval ~95 times.\"\n",
        "\n",
        "For a 95% confidence interval and a normal(-ish) distribution, you can simply remember that +/-2 standard deviations contains 95% of the probability mass, and so the 95% confidence interval based on a given sample is centered at the mean (point estimate) and has a range of +/- 2 (or technically 1.96) standard deviations.\n",
        "\n",
        "Different distributions/assumptions (90% confidence, 99% confidence) will require different math, but the overall process and interpretation (with a frequentist approach) will be the same.\n",
        "\n",
        "Your assignment - using the data from the prior module ([congressional voting records](https://archive.ics.uci.edu/ml/datasets/Congressional+Voting+Records)):\n",
        "\n",
        "\n",
        "### Confidence Intervals:\n",
        "1. Generate and numerically represent a confidence interval\n",
        "2. Graphically (with a plot) represent the confidence interval\n",
        "3. Interpret the confidence interval - what does it tell you about the data and its distribution?\n",
        "\n",
        "### Chi-squared tests:\n",
        "4. Take a dataset that we have used in the past in class that has **categorical** variables. Pick two of those categorical variables and run a chi-squared tests on that data\n",
        "  - By hand using Numpy\n",
        "  - In a single line using Scipy\n"
      ]
    },
    {
      "cell_type": "code",
      "metadata": {
        "id": "Ckcr4A4FM7cs",
        "colab_type": "code",
        "colab": {}
      },
      "source": [
        "voting_data_url = \"https://archive.ics.uci.edu/ml/machine-learning-databases/voting-records/house-votes-84.data\"\n",
        "\n",
        "missing_values = [\"n/a\", \"na\", \"NaN\", \"?\"]"
      ],
      "execution_count": 0,
      "outputs": []
    },
    {
      "cell_type": "code",
      "metadata": {
        "id": "xn641mdaCUZa",
        "colab_type": "code",
        "outputId": "b24f924a-db58-46b9-b948-3c7124db4dc6",
        "colab": {
          "base_uri": "https://localhost:8080/",
          "height": 84
        }
      },
      "source": [
        "import pandas as pd\n",
        "import numpy as np\n",
        "from scipy.stats import ttest_ind, ttest_ind_from_stats, ttest_rel\n",
        "from scipy import stats \n",
        "%pylab inline\n"
      ],
      "execution_count": 29,
      "outputs": [
        {
          "output_type": "stream",
          "text": [
            "Populating the interactive namespace from numpy and matplotlib\n"
          ],
          "name": "stdout"
        },
        {
          "output_type": "stream",
          "text": [
            "/usr/local/lib/python3.6/dist-packages/IPython/core/magics/pylab.py:161: UserWarning: pylab import has clobbered these variables: ['randint']\n",
            "`%matplotlib` prevents importing * from pylab and numpy\n",
            "  \"\\n`%matplotlib` prevents importing * from pylab and numpy\"\n"
          ],
          "name": "stderr"
        }
      ]
    },
    {
      "cell_type": "code",
      "metadata": {
        "id": "ORnq7SI4CZ4M",
        "colab_type": "code",
        "colab": {}
      },
      "source": [
        "df = pd.read_csv(voting_data_url, header=None)\n"
      ],
      "execution_count": 0,
      "outputs": []
    },
    {
      "cell_type": "code",
      "metadata": {
        "id": "N4AwM9MpC1I1",
        "colab_type": "code",
        "colab": {}
      },
      "source": [
        "column_names = ['Class Name','handicapped-infants','water-project-cost-sharing','budget-resolution',' physician-fee-freeze', 'el-salvador-aid','religious-groups-in-schools',\n",
        "           \n",
        "           'anti-satellite-test-ban', 'aid-to-nicaraguan-contras', 'mx-missile','immigration','synfuels-corporation','education-spending', 'superfund-right-to-sue',\n",
        "           \n",
        "           'crime','duty-free-exports','export-administration-act-south-africa']"
      ],
      "execution_count": 0,
      "outputs": []
    },
    {
      "cell_type": "code",
      "metadata": {
        "id": "1j8sYvhoC76p",
        "colab_type": "code",
        "colab": {}
      },
      "source": [
        "df = pd.read_csv(voting_data_url, names=column_names, na_values=missing_values)"
      ],
      "execution_count": 0,
      "outputs": []
    },
    {
      "cell_type": "code",
      "metadata": {
        "id": "QigWxoqNDAHk",
        "colab_type": "code",
        "colab": {}
      },
      "source": [
        "df.replace({'n':0, 'y':1},inplace=True)"
      ],
      "execution_count": 0,
      "outputs": []
    },
    {
      "cell_type": "code",
      "metadata": {
        "id": "Y_EFB1c8DVGk",
        "colab_type": "code",
        "colab": {}
      },
      "source": [
        "df.fillna(method='ffill', inplace=True)"
      ],
      "execution_count": 0,
      "outputs": []
    },
    {
      "cell_type": "code",
      "metadata": {
        "id": "27nSs17HDKVC",
        "colab_type": "code",
        "outputId": "e933b8bc-1d3b-4a1e-f719-257e1cea2e5d",
        "colab": {
          "base_uri": "https://localhost:8080/",
          "height": 266
        }
      },
      "source": [
        "df.head()"
      ],
      "execution_count": 8,
      "outputs": [
        {
          "output_type": "execute_result",
          "data": {
            "text/html": [
              "<div>\n",
              "<style scoped>\n",
              "    .dataframe tbody tr th:only-of-type {\n",
              "        vertical-align: middle;\n",
              "    }\n",
              "\n",
              "    .dataframe tbody tr th {\n",
              "        vertical-align: top;\n",
              "    }\n",
              "\n",
              "    .dataframe thead th {\n",
              "        text-align: right;\n",
              "    }\n",
              "</style>\n",
              "<table border=\"1\" class=\"dataframe\">\n",
              "  <thead>\n",
              "    <tr style=\"text-align: right;\">\n",
              "      <th></th>\n",
              "      <th>Class Name</th>\n",
              "      <th>handicapped-infants</th>\n",
              "      <th>water-project-cost-sharing</th>\n",
              "      <th>budget-resolution</th>\n",
              "      <th>physician-fee-freeze</th>\n",
              "      <th>el-salvador-aid</th>\n",
              "      <th>religious-groups-in-schools</th>\n",
              "      <th>anti-satellite-test-ban</th>\n",
              "      <th>aid-to-nicaraguan-contras</th>\n",
              "      <th>mx-missile</th>\n",
              "      <th>immigration</th>\n",
              "      <th>synfuels-corporation</th>\n",
              "      <th>education-spending</th>\n",
              "      <th>superfund-right-to-sue</th>\n",
              "      <th>crime</th>\n",
              "      <th>duty-free-exports</th>\n",
              "      <th>export-administration-act-south-africa</th>\n",
              "    </tr>\n",
              "  </thead>\n",
              "  <tbody>\n",
              "    <tr>\n",
              "      <th>0</th>\n",
              "      <td>republican</td>\n",
              "      <td>0.0</td>\n",
              "      <td>1.0</td>\n",
              "      <td>0.0</td>\n",
              "      <td>1.0</td>\n",
              "      <td>1.0</td>\n",
              "      <td>1.0</td>\n",
              "      <td>0.0</td>\n",
              "      <td>0.0</td>\n",
              "      <td>0.0</td>\n",
              "      <td>1.0</td>\n",
              "      <td>NaN</td>\n",
              "      <td>1.0</td>\n",
              "      <td>1.0</td>\n",
              "      <td>1.0</td>\n",
              "      <td>0.0</td>\n",
              "      <td>1.0</td>\n",
              "    </tr>\n",
              "    <tr>\n",
              "      <th>1</th>\n",
              "      <td>republican</td>\n",
              "      <td>0.0</td>\n",
              "      <td>1.0</td>\n",
              "      <td>0.0</td>\n",
              "      <td>1.0</td>\n",
              "      <td>1.0</td>\n",
              "      <td>1.0</td>\n",
              "      <td>0.0</td>\n",
              "      <td>0.0</td>\n",
              "      <td>0.0</td>\n",
              "      <td>0.0</td>\n",
              "      <td>0.0</td>\n",
              "      <td>1.0</td>\n",
              "      <td>1.0</td>\n",
              "      <td>1.0</td>\n",
              "      <td>0.0</td>\n",
              "      <td>1.0</td>\n",
              "    </tr>\n",
              "    <tr>\n",
              "      <th>2</th>\n",
              "      <td>democrat</td>\n",
              "      <td>0.0</td>\n",
              "      <td>1.0</td>\n",
              "      <td>1.0</td>\n",
              "      <td>1.0</td>\n",
              "      <td>1.0</td>\n",
              "      <td>1.0</td>\n",
              "      <td>0.0</td>\n",
              "      <td>0.0</td>\n",
              "      <td>0.0</td>\n",
              "      <td>0.0</td>\n",
              "      <td>1.0</td>\n",
              "      <td>0.0</td>\n",
              "      <td>1.0</td>\n",
              "      <td>1.0</td>\n",
              "      <td>0.0</td>\n",
              "      <td>0.0</td>\n",
              "    </tr>\n",
              "    <tr>\n",
              "      <th>3</th>\n",
              "      <td>democrat</td>\n",
              "      <td>0.0</td>\n",
              "      <td>1.0</td>\n",
              "      <td>1.0</td>\n",
              "      <td>0.0</td>\n",
              "      <td>1.0</td>\n",
              "      <td>1.0</td>\n",
              "      <td>0.0</td>\n",
              "      <td>0.0</td>\n",
              "      <td>0.0</td>\n",
              "      <td>0.0</td>\n",
              "      <td>1.0</td>\n",
              "      <td>0.0</td>\n",
              "      <td>1.0</td>\n",
              "      <td>0.0</td>\n",
              "      <td>0.0</td>\n",
              "      <td>1.0</td>\n",
              "    </tr>\n",
              "    <tr>\n",
              "      <th>4</th>\n",
              "      <td>democrat</td>\n",
              "      <td>1.0</td>\n",
              "      <td>1.0</td>\n",
              "      <td>1.0</td>\n",
              "      <td>0.0</td>\n",
              "      <td>1.0</td>\n",
              "      <td>1.0</td>\n",
              "      <td>0.0</td>\n",
              "      <td>0.0</td>\n",
              "      <td>0.0</td>\n",
              "      <td>0.0</td>\n",
              "      <td>1.0</td>\n",
              "      <td>0.0</td>\n",
              "      <td>1.0</td>\n",
              "      <td>1.0</td>\n",
              "      <td>1.0</td>\n",
              "      <td>1.0</td>\n",
              "    </tr>\n",
              "  </tbody>\n",
              "</table>\n",
              "</div>"
            ],
            "text/plain": [
              "   Class Name  ...  export-administration-act-south-africa\n",
              "0  republican  ...                                     1.0\n",
              "1  republican  ...                                     1.0\n",
              "2    democrat  ...                                     0.0\n",
              "3    democrat  ...                                     1.0\n",
              "4    democrat  ...                                     1.0\n",
              "\n",
              "[5 rows x 17 columns]"
            ]
          },
          "metadata": {
            "tags": []
          },
          "execution_count": 8
        }
      ]
    },
    {
      "cell_type": "code",
      "metadata": {
        "id": "NYe9neoMiaZa",
        "colab_type": "code",
        "outputId": "0bfc451c-7da9-4906-d794-ce60dc232a16",
        "colab": {
          "base_uri": "https://localhost:8080/",
          "height": 34
        }
      },
      "source": [
        "df.shape"
      ],
      "execution_count": 9,
      "outputs": [
        {
          "output_type": "execute_result",
          "data": {
            "text/plain": [
              "(435, 17)"
            ]
          },
          "metadata": {
            "tags": []
          },
          "execution_count": 9
        }
      ]
    },
    {
      "cell_type": "code",
      "metadata": {
        "id": "fDGHB7qAmwoE",
        "colab_type": "code",
        "colab": {}
      },
      "source": [
        "n = len(df)"
      ],
      "execution_count": 0,
      "outputs": []
    },
    {
      "cell_type": "code",
      "metadata": {
        "id": "7s60EHE7EnKF",
        "colab_type": "code",
        "outputId": "8da0721e-f076-407f-b4c7-6c644194dffa",
        "colab": {
          "base_uri": "https://localhost:8080/",
          "height": 34
        }
      },
      "source": [
        "df_mean = df[\"budget-resolution\"].mean()\n",
        "df_std = np.std(df[\"budget-resolution\"], ddof=1)              # Mean and Standard deviation\n",
        "print(df_mean, df_std)"
      ],
      "execution_count": 11,
      "outputs": [
        {
          "output_type": "stream",
          "text": [
            "0.5862068965517241 0.49307938943351104\n"
          ],
          "name": "stdout"
        }
      ]
    },
    {
      "cell_type": "code",
      "metadata": {
        "id": "emyinQcmFdDt",
        "colab_type": "code",
        "colab": {}
      },
      "source": [
        "from scipy import stats \n",
        "\n",
        "def confidence_interval(data, confidence=0.95):\n",
        "  \"\"\"\n",
        "  Calculate a confidence interval around a sample mean for given data.\n",
        "  Using t-distribution and two-tailed test, default 95% confidence. \n",
        "  \n",
        "  Arguments:\n",
        "    data - iterable (list or numpy array) of sample observations\n",
        "    confidence - level of confidence for the interval\n",
        "  \n",
        "  Returns:\n",
        "    tuple of (mean, lower bound, upper bound)\n",
        "  \"\"\"\n",
        "  data = np.array(data)\n",
        "  mean = np.mean(data)\n",
        "  n = len(data)\n",
        "  stderr = stats.sem(data)\n",
        "  t = stats.t.ppf((1 + confidence) / 2.0, n - 1)\n",
        "  interval = stderr * t\n",
        "  return (mean, mean - interval, mean + interval)"
      ],
      "execution_count": 0,
      "outputs": []
    },
    {
      "cell_type": "code",
      "metadata": {
        "id": "TlS917nvE-kA",
        "colab_type": "code",
        "outputId": "608e687c-b357-46a9-d97b-c66e2663c689",
        "colab": {
          "base_uri": "https://localhost:8080/",
          "height": 34
        }
      },
      "source": [
        "standard_error = df_std/np.sqrt(n)\n",
        "standard_error"
      ],
      "execution_count": 13,
      "outputs": [
        {
          "output_type": "execute_result",
          "data": {
            "text/plain": [
              "0.023641347195218865"
            ]
          },
          "metadata": {
            "tags": []
          },
          "execution_count": 13
        }
      ]
    },
    {
      "cell_type": "code",
      "metadata": {
        "id": "vr_6h4-DnYsn",
        "colab_type": "code",
        "outputId": "fae9d2bd-9f5b-4a19-d770-799a5929edc5",
        "colab": {
          "base_uri": "https://localhost:8080/",
          "height": 34
        }
      },
      "source": [
        "t = 1.962\n",
        "(df_mean, df_mean - t*standard_error, df_mean + t*standard_error)"
      ],
      "execution_count": 14,
      "outputs": [
        {
          "output_type": "execute_result",
          "data": {
            "text/plain": [
              "(0.5862068965517241, 0.5398225733547046, 0.6325912197487435)"
            ]
          },
          "metadata": {
            "tags": []
          },
          "execution_count": 14
        }
      ]
    },
    {
      "cell_type": "code",
      "metadata": {
        "id": "nVE14XuBojHy",
        "colab_type": "code",
        "outputId": "c6d6bf84-4a20-4b72-892e-8cc86bc16ba7",
        "colab": {
          "base_uri": "https://localhost:8080/",
          "height": 34
        }
      },
      "source": [
        "confidence_interval(df[\"budget-resolution\"], confidence=0.95)"
      ],
      "execution_count": 15,
      "outputs": [
        {
          "output_type": "execute_result",
          "data": {
            "text/plain": [
              "(0.5862068965517241, 0.5397411274122058, 0.6326726656912424)"
            ]
          },
          "metadata": {
            "tags": []
          },
          "execution_count": 15
        }
      ]
    },
    {
      "cell_type": "code",
      "metadata": {
        "id": "JEib9Fzqu6Hu",
        "colab_type": "code",
        "outputId": "653ed340-48eb-46c3-db23-27b43d62afae",
        "colab": {
          "base_uri": "https://localhost:8080/",
          "height": 34
        }
      },
      "source": [
        "  t = stats.t.ppf((1 + 0.95) / 2.0, n - 1)\n",
        "  t"
      ],
      "execution_count": 16,
      "outputs": [
        {
          "output_type": "execute_result",
          "data": {
            "text/plain": [
              "1.9654450635078535"
            ]
          },
          "metadata": {
            "tags": []
          },
          "execution_count": 16
        }
      ]
    },
    {
      "cell_type": "code",
      "metadata": {
        "id": "2eOhr6BuwF6b",
        "colab_type": "code",
        "outputId": "5d97c535-a09a-4a78-d54d-99f306909e41",
        "colab": {
          "base_uri": "https://localhost:8080/",
          "height": 449
        }
      },
      "source": [
        "figure(figsize=(15,7))\n",
        "plot(df_mean,\"bo\")                                   # Graphically representing the confidence interval\n",
        "plot(df_mean - t*standard_error,\"ro\")\n",
        "plot(df_mean + t*standard_error,\"go\")\n",
        "\n",
        "ylim(0,10)"
      ],
      "execution_count": 17,
      "outputs": [
        {
          "output_type": "execute_result",
          "data": {
            "text/plain": [
              "(0, 10)"
            ]
          },
          "metadata": {
            "tags": []
          },
          "execution_count": 17
        },
        {
          "output_type": "display_data",
          "data": {
            "image/png": "[encoded data removed]",
            "text/plain": [
              "<Figure size 1080x504 with 1 Axes>"
            ]
          },
          "metadata": {
            "tags": []
          }
        }
      ]
    },
    {
      "cell_type": "markdown",
      "metadata": {
        "id": "ePsi_cQ_zgj2",
        "colab_type": "text"
      },
      "source": [
        "By hand using \"Numpy\""
      ]
    },
    {
      "cell_type": "code",
      "metadata": {
        "id": "8Xt573P_KISi",
        "colab_type": "code",
        "outputId": "47a6b789-b275-4d27-fc0b-d646d725f82f",
        "colab": {
          "base_uri": "https://localhost:8080/",
          "height": 313
        }
      },
      "source": [
        "data = pd.read_csv('https://raw.githubusercontent.com/ryanleeallred/datasets/master/adult.csv', na_values=\" ?\")\n",
        "print(data.shape)\n",
        "data.head()"
      ],
      "execution_count": 18,
      "outputs": [
        {
          "output_type": "stream",
          "text": [
            "(32561, 15)\n"
          ],
          "name": "stdout"
        },
        {
          "output_type": "execute_result",
          "data": {
            "text/html": [
              "<div>\n",
              "<style scoped>\n",
              "    .dataframe tbody tr th:only-of-type {\n",
              "        vertical-align: middle;\n",
              "    }\n",
              "\n",
              "    .dataframe tbody tr th {\n",
              "        vertical-align: top;\n",
              "    }\n",
              "\n",
              "    .dataframe thead th {\n",
              "        text-align: right;\n",
              "    }\n",
              "</style>\n",
              "<table border=\"1\" class=\"dataframe\">\n",
              "  <thead>\n",
              "    <tr style=\"text-align: right;\">\n",
              "      <th></th>\n",
              "      <th>age</th>\n",
              "      <th>workclass</th>\n",
              "      <th>fnlwgt</th>\n",
              "      <th>education</th>\n",
              "      <th>education-num</th>\n",
              "      <th>marital-status</th>\n",
              "      <th>occupation</th>\n",
              "      <th>relationship</th>\n",
              "      <th>race</th>\n",
              "      <th>sex</th>\n",
              "      <th>capital-gain</th>\n",
              "      <th>capital-loss</th>\n",
              "      <th>hours-per-week</th>\n",
              "      <th>country</th>\n",
              "      <th>salary</th>\n",
              "    </tr>\n",
              "  </thead>\n",
              "  <tbody>\n",
              "    <tr>\n",
              "      <th>0</th>\n",
              "      <td>39</td>\n",
              "      <td>State-gov</td>\n",
              "      <td>77516</td>\n",
              "      <td>Bachelors</td>\n",
              "      <td>13</td>\n",
              "      <td>Never-married</td>\n",
              "      <td>Adm-clerical</td>\n",
              "      <td>Not-in-family</td>\n",
              "      <td>White</td>\n",
              "      <td>Male</td>\n",
              "      <td>2174</td>\n",
              "      <td>0</td>\n",
              "      <td>40</td>\n",
              "      <td>United-States</td>\n",
              "      <td>&lt;=50K</td>\n",
              "    </tr>\n",
              "    <tr>\n",
              "      <th>1</th>\n",
              "      <td>50</td>\n",
              "      <td>Self-emp-not-inc</td>\n",
              "      <td>83311</td>\n",
              "      <td>Bachelors</td>\n",
              "      <td>13</td>\n",
              "      <td>Married-civ-spouse</td>\n",
              "      <td>Exec-managerial</td>\n",
              "      <td>Husband</td>\n",
              "      <td>White</td>\n",
              "      <td>Male</td>\n",
              "      <td>0</td>\n",
              "      <td>0</td>\n",
              "      <td>13</td>\n",
              "      <td>United-States</td>\n",
              "      <td>&lt;=50K</td>\n",
              "    </tr>\n",
              "    <tr>\n",
              "      <th>2</th>\n",
              "      <td>38</td>\n",
              "      <td>Private</td>\n",
              "      <td>215646</td>\n",
              "      <td>HS-grad</td>\n",
              "      <td>9</td>\n",
              "      <td>Divorced</td>\n",
              "      <td>Handlers-cleaners</td>\n",
              "      <td>Not-in-family</td>\n",
              "      <td>White</td>\n",
              "      <td>Male</td>\n",
              "      <td>0</td>\n",
              "      <td>0</td>\n",
              "      <td>40</td>\n",
              "      <td>United-States</td>\n",
              "      <td>&lt;=50K</td>\n",
              "    </tr>\n",
              "    <tr>\n",
              "      <th>3</th>\n",
              "      <td>53</td>\n",
              "      <td>Private</td>\n",
              "      <td>234721</td>\n",
              "      <td>11th</td>\n",
              "      <td>7</td>\n",
              "      <td>Married-civ-spouse</td>\n",
              "      <td>Handlers-cleaners</td>\n",
              "      <td>Husband</td>\n",
              "      <td>Black</td>\n",
              "      <td>Male</td>\n",
              "      <td>0</td>\n",
              "      <td>0</td>\n",
              "      <td>40</td>\n",
              "      <td>United-States</td>\n",
              "      <td>&lt;=50K</td>\n",
              "    </tr>\n",
              "    <tr>\n",
              "      <th>4</th>\n",
              "      <td>28</td>\n",
              "      <td>Private</td>\n",
              "      <td>338409</td>\n",
              "      <td>Bachelors</td>\n",
              "      <td>13</td>\n",
              "      <td>Married-civ-spouse</td>\n",
              "      <td>Prof-specialty</td>\n",
              "      <td>Wife</td>\n",
              "      <td>Black</td>\n",
              "      <td>Female</td>\n",
              "      <td>0</td>\n",
              "      <td>0</td>\n",
              "      <td>40</td>\n",
              "      <td>Cuba</td>\n",
              "      <td>&lt;=50K</td>\n",
              "    </tr>\n",
              "  </tbody>\n",
              "</table>\n",
              "</div>"
            ],
            "text/plain": [
              "   age          workclass  fnlwgt  ... hours-per-week         country  salary\n",
              "0   39          State-gov   77516  ...             40   United-States   <=50K\n",
              "1   50   Self-emp-not-inc   83311  ...             13   United-States   <=50K\n",
              "2   38            Private  215646  ...             40   United-States   <=50K\n",
              "3   53            Private  234721  ...             40   United-States   <=50K\n",
              "4   28            Private  338409  ...             40            Cuba   <=50K\n",
              "\n",
              "[5 rows x 15 columns]"
            ]
          },
          "metadata": {
            "tags": []
          },
          "execution_count": 18
        }
      ]
    },
    {
      "cell_type": "code",
      "metadata": {
        "id": "ehHJCvudNSRN",
        "colab_type": "code",
        "outputId": "a90fb7f3-7962-4d2c-c9ca-44f4b509e12b",
        "colab": {
          "base_uri": "https://localhost:8080/",
          "height": 134
        }
      },
      "source": [
        "cut_points = [20,30,40,50,60,70,100]\n",
        "label_names = ['20-30', '31-40', '41-50', '51-60', '61-70', '80+']\n",
        "data['age_by_categories'] = pd.cut(data['age'], cut_points, labels=label_names)\n",
        "data['age_by_categories'].value_counts()"
      ],
      "execution_count": 19,
      "outputs": [
        {
          "output_type": "execute_result",
          "data": {
            "text/plain": [
              "31-40    8546\n",
              "20-30    8162\n",
              "41-50    6983\n",
              "51-60    4128\n",
              "61-70    1792\n",
              "80+       540\n",
              "Name: age_by_categories, dtype: int64"
            ]
          },
          "metadata": {
            "tags": []
          },
          "execution_count": 19
        }
      ]
    },
    {
      "cell_type": "code",
      "metadata": {
        "id": "2xwTbrddOhFS",
        "colab_type": "code",
        "outputId": "8ccbc223-db09-48b6-ddbb-048bb60b8c05",
        "colab": {
          "base_uri": "https://localhost:8080/",
          "height": 302
        }
      },
      "source": [
        "data['education'].value_counts()"
      ],
      "execution_count": 20,
      "outputs": [
        {
          "output_type": "execute_result",
          "data": {
            "text/plain": [
              " HS-grad         10501\n",
              " Some-college     7291\n",
              " Bachelors        5355\n",
              " Masters          1723\n",
              " Assoc-voc        1382\n",
              " 11th             1175\n",
              " Assoc-acdm       1067\n",
              " 10th              933\n",
              " 7th-8th           646\n",
              " Prof-school       576\n",
              " 9th               514\n",
              " 12th              433\n",
              " Doctorate         413\n",
              " 5th-6th           333\n",
              " 1st-4th           168\n",
              " Preschool          51\n",
              "Name: education, dtype: int64"
            ]
          },
          "metadata": {
            "tags": []
          },
          "execution_count": 20
        }
      ]
    },
    {
      "cell_type": "code",
      "metadata": {
        "id": "M-RqunoUPnWQ",
        "colab_type": "code",
        "outputId": "fca27df3-3603-4582-d710-6a40d2d48df7",
        "colab": {
          "base_uri": "https://localhost:8080/",
          "height": 580
        }
      },
      "source": [
        "data = data.sort_values(by='age_by_categories')\n",
        "contingency_table = pd.crosstab(data['education'], data['age_by_categories'], margins=True)\n",
        "contingency_table\n"
      ],
      "execution_count": 21,
      "outputs": [
        {
          "output_type": "execute_result",
          "data": {
            "text/html": [
              "<div>\n",
              "<style scoped>\n",
              "    .dataframe tbody tr th:only-of-type {\n",
              "        vertical-align: middle;\n",
              "    }\n",
              "\n",
              "    .dataframe tbody tr th {\n",
              "        vertical-align: top;\n",
              "    }\n",
              "\n",
              "    .dataframe thead th {\n",
              "        text-align: right;\n",
              "    }\n",
              "</style>\n",
              "<table border=\"1\" class=\"dataframe\">\n",
              "  <thead>\n",
              "    <tr style=\"text-align: right;\">\n",
              "      <th>age_by_categories</th>\n",
              "      <th>20-30</th>\n",
              "      <th>31-40</th>\n",
              "      <th>41-50</th>\n",
              "      <th>51-60</th>\n",
              "      <th>61-70</th>\n",
              "      <th>80+</th>\n",
              "      <th>All</th>\n",
              "    </tr>\n",
              "    <tr>\n",
              "      <th>education</th>\n",
              "      <th></th>\n",
              "      <th></th>\n",
              "      <th></th>\n",
              "      <th></th>\n",
              "      <th></th>\n",
              "      <th></th>\n",
              "      <th></th>\n",
              "    </tr>\n",
              "  </thead>\n",
              "  <tbody>\n",
              "    <tr>\n",
              "      <th>10th</th>\n",
              "      <td>184</td>\n",
              "      <td>175</td>\n",
              "      <td>116</td>\n",
              "      <td>155</td>\n",
              "      <td>74</td>\n",
              "      <td>22</td>\n",
              "      <td>726</td>\n",
              "    </tr>\n",
              "    <tr>\n",
              "      <th>11th</th>\n",
              "      <td>226</td>\n",
              "      <td>206</td>\n",
              "      <td>143</td>\n",
              "      <td>106</td>\n",
              "      <td>58</td>\n",
              "      <td>18</td>\n",
              "      <td>757</td>\n",
              "    </tr>\n",
              "    <tr>\n",
              "      <th>12th</th>\n",
              "      <td>95</td>\n",
              "      <td>82</td>\n",
              "      <td>50</td>\n",
              "      <td>44</td>\n",
              "      <td>19</td>\n",
              "      <td>3</td>\n",
              "      <td>293</td>\n",
              "    </tr>\n",
              "    <tr>\n",
              "      <th>1st-4th</th>\n",
              "      <td>26</td>\n",
              "      <td>35</td>\n",
              "      <td>30</td>\n",
              "      <td>43</td>\n",
              "      <td>18</td>\n",
              "      <td>12</td>\n",
              "      <td>164</td>\n",
              "    </tr>\n",
              "    <tr>\n",
              "      <th>5th-6th</th>\n",
              "      <td>80</td>\n",
              "      <td>59</td>\n",
              "      <td>73</td>\n",
              "      <td>61</td>\n",
              "      <td>32</td>\n",
              "      <td>16</td>\n",
              "      <td>321</td>\n",
              "    </tr>\n",
              "    <tr>\n",
              "      <th>7th-8th</th>\n",
              "      <td>94</td>\n",
              "      <td>95</td>\n",
              "      <td>127</td>\n",
              "      <td>139</td>\n",
              "      <td>124</td>\n",
              "      <td>47</td>\n",
              "      <td>626</td>\n",
              "    </tr>\n",
              "    <tr>\n",
              "      <th>9th</th>\n",
              "      <td>107</td>\n",
              "      <td>116</td>\n",
              "      <td>80</td>\n",
              "      <td>90</td>\n",
              "      <td>53</td>\n",
              "      <td>17</td>\n",
              "      <td>463</td>\n",
              "    </tr>\n",
              "    <tr>\n",
              "      <th>Assoc-acdm</th>\n",
              "      <td>311</td>\n",
              "      <td>369</td>\n",
              "      <td>241</td>\n",
              "      <td>99</td>\n",
              "      <td>26</td>\n",
              "      <td>7</td>\n",
              "      <td>1053</td>\n",
              "    </tr>\n",
              "    <tr>\n",
              "      <th>Assoc-voc</th>\n",
              "      <td>376</td>\n",
              "      <td>462</td>\n",
              "      <td>319</td>\n",
              "      <td>142</td>\n",
              "      <td>55</td>\n",
              "      <td>15</td>\n",
              "      <td>1369</td>\n",
              "    </tr>\n",
              "    <tr>\n",
              "      <th>Bachelors</th>\n",
              "      <td>1556</td>\n",
              "      <td>1614</td>\n",
              "      <td>1310</td>\n",
              "      <td>572</td>\n",
              "      <td>239</td>\n",
              "      <td>61</td>\n",
              "      <td>5352</td>\n",
              "    </tr>\n",
              "    <tr>\n",
              "      <th>Doctorate</th>\n",
              "      <td>22</td>\n",
              "      <td>102</td>\n",
              "      <td>128</td>\n",
              "      <td>97</td>\n",
              "      <td>49</td>\n",
              "      <td>15</td>\n",
              "      <td>413</td>\n",
              "    </tr>\n",
              "    <tr>\n",
              "      <th>HS-grad</th>\n",
              "      <td>2613</td>\n",
              "      <td>2882</td>\n",
              "      <td>2140</td>\n",
              "      <td>1420</td>\n",
              "      <td>610</td>\n",
              "      <td>173</td>\n",
              "      <td>9838</td>\n",
              "    </tr>\n",
              "    <tr>\n",
              "      <th>Masters</th>\n",
              "      <td>197</td>\n",
              "      <td>463</td>\n",
              "      <td>616</td>\n",
              "      <td>321</td>\n",
              "      <td>94</td>\n",
              "      <td>30</td>\n",
              "      <td>1721</td>\n",
              "    </tr>\n",
              "    <tr>\n",
              "      <th>Preschool</th>\n",
              "      <td>10</td>\n",
              "      <td>13</td>\n",
              "      <td>7</td>\n",
              "      <td>11</td>\n",
              "      <td>6</td>\n",
              "      <td>2</td>\n",
              "      <td>49</td>\n",
              "    </tr>\n",
              "    <tr>\n",
              "      <th>Prof-school</th>\n",
              "      <td>61</td>\n",
              "      <td>171</td>\n",
              "      <td>196</td>\n",
              "      <td>83</td>\n",
              "      <td>43</td>\n",
              "      <td>22</td>\n",
              "      <td>576</td>\n",
              "    </tr>\n",
              "    <tr>\n",
              "      <th>Some-college</th>\n",
              "      <td>2204</td>\n",
              "      <td>1702</td>\n",
              "      <td>1407</td>\n",
              "      <td>745</td>\n",
              "      <td>292</td>\n",
              "      <td>80</td>\n",
              "      <td>6430</td>\n",
              "    </tr>\n",
              "    <tr>\n",
              "      <th>All</th>\n",
              "      <td>8162</td>\n",
              "      <td>8546</td>\n",
              "      <td>6983</td>\n",
              "      <td>4128</td>\n",
              "      <td>1792</td>\n",
              "      <td>540</td>\n",
              "      <td>30151</td>\n",
              "    </tr>\n",
              "  </tbody>\n",
              "</table>\n",
              "</div>"
            ],
            "text/plain": [
              "age_by_categories  20-30  31-40  41-50  51-60  61-70  80+    All\n",
              "education                                                       \n",
              " 10th                184    175    116    155     74   22    726\n",
              " 11th                226    206    143    106     58   18    757\n",
              " 12th                 95     82     50     44     19    3    293\n",
              " 1st-4th              26     35     30     43     18   12    164\n",
              " 5th-6th              80     59     73     61     32   16    321\n",
              " 7th-8th              94     95    127    139    124   47    626\n",
              " 9th                 107    116     80     90     53   17    463\n",
              " Assoc-acdm          311    369    241     99     26    7   1053\n",
              " Assoc-voc           376    462    319    142     55   15   1369\n",
              " Bachelors          1556   1614   1310    572    239   61   5352\n",
              " Doctorate            22    102    128     97     49   15    413\n",
              " HS-grad            2613   2882   2140   1420    610  173   9838\n",
              " Masters             197    463    616    321     94   30   1721\n",
              " Preschool            10     13      7     11      6    2     49\n",
              " Prof-school          61    171    196     83     43   22    576\n",
              " Some-college       2204   1702   1407    745    292   80   6430\n",
              "All                 8162   8546   6983   4128   1792  540  30151"
            ]
          },
          "metadata": {
            "tags": []
          },
          "execution_count": 21
        }
      ]
    },
    {
      "cell_type": "code",
      "metadata": {
        "id": "nKQn_R7QfYH2",
        "colab_type": "code",
        "outputId": "759469fa-6076-4dfe-ae9a-772516549de9",
        "colab": {
          "base_uri": "https://localhost:8080/",
          "height": 67
        }
      },
      "source": [
        "row_sums = contingency_table.iloc[0:16,6].values\n",
        "col_sums = contingency_table.iloc[16, 0:6].values\n",
        "\n",
        "print(row_sums)\n",
        "print(col_sums)"
      ],
      "execution_count": 22,
      "outputs": [
        {
          "output_type": "stream",
          "text": [
            "[ 726  757  293  164  321  626  463 1053 1369 5352  413 9838 1721   49\n",
            "  576 6430]\n",
            "[8162 8546 6983 4128 1792  540]\n"
          ],
          "name": "stdout"
        }
      ]
    },
    {
      "cell_type": "code",
      "metadata": {
        "id": "pGtQ1og4gXLY",
        "colab_type": "code",
        "outputId": "9b5f42be-1b4c-4f04-84ed-e175fb9be394",
        "colab": {
          "base_uri": "https://localhost:8080/",
          "height": 34
        }
      },
      "source": [
        "total = contingency_table.loc['All','All']\n",
        "total"
      ],
      "execution_count": 23,
      "outputs": [
        {
          "output_type": "execute_result",
          "data": {
            "text/plain": [
              "30151"
            ]
          },
          "metadata": {
            "tags": []
          },
          "execution_count": 23
        }
      ]
    },
    {
      "cell_type": "code",
      "metadata": {
        "id": "Ot-QFlwmgtYY",
        "colab_type": "code",
        "outputId": "05aeffca-3ca9-4eb1-fdbf-3575d9018d91",
        "colab": {
          "base_uri": "https://localhost:8080/",
          "height": 571
        }
      },
      "source": [
        "expected = []\n",
        "for row_sum in row_sums:\n",
        "  expected_row = []\n",
        "  for column in col_sums:\n",
        "    expected_val = column*row_sum/total\n",
        "    expected_row.append(expected_val)\n",
        "  expected.append(expected_row)\n",
        "  \n",
        "expected = np.array(expected)\n",
        "print(expected.shape)\n",
        "print(expected)"
      ],
      "execution_count": 24,
      "outputs": [
        {
          "output_type": "stream",
          "text": [
            "(16, 6)\n",
            "[[1.96531193e+02 2.05777453e+02 1.68142284e+02 9.93973003e+01\n",
            "  4.31492156e+01 1.30025538e+01]\n",
            " [2.04923021e+02 2.14564094e+02 1.75321913e+02 1.03641538e+02\n",
            "  4.49916752e+01 1.35577593e+01]\n",
            " [7.93163079e+01 8.30479254e+01 6.78590760e+01 4.01148884e+01\n",
            "  1.74142151e+01 5.24758714e+00]\n",
            " [4.43954761e+01 4.64841630e+01 3.79825545e+01 2.24533846e+01\n",
            "  9.74720573e+00 2.93721601e+00]\n",
            " [8.68960233e+01 9.09842460e+01 7.43439024e+01 4.39483931e+01\n",
            "  1.90783722e+01 5.74906305e+00]\n",
            " [1.69460781e+02 1.77433452e+02 1.44982190e+02 8.57062121e+01\n",
            "  3.72057975e+01 1.12115684e+01]\n",
            " [1.25336009e+02 1.31232729e+02 1.07231236e+02 6.33897383e+01\n",
            "  2.75180259e+01 8.29226228e+00]\n",
            " [2.85051441e+02 2.98462340e+02 2.43875792e+02 1.44167159e+02\n",
            "  6.25841929e+01 1.88590760e+01]\n",
            " [3.70593944e+02 3.88029385e+02 3.17061689e+02 1.87430997e+02\n",
            "  8.13653942e+01 2.45185898e+01]\n",
            " [1.44880846e+03 1.51697098e+03 1.23952824e+03 7.32747040e+02\n",
            "  3.18091738e+02 9.58535372e+01]\n",
            " [1.11800803e+02 1.17060728e+02 9.56511890e+01 5.65441942e+01\n",
            "  2.45463169e+01 7.39676959e+00]\n",
            " [2.66318716e+03 2.78848290e+03 2.27849007e+03 1.34692926e+03\n",
            "  5.84713476e+02 1.76197141e+02]\n",
            " [4.65881795e+02 4.87800272e+02 3.98585221e+02 2.35623628e+02\n",
            "  1.02286226e+02 3.08228583e+01]\n",
            " [1.32645020e+01 1.38885609e+01 1.13484462e+01 6.70863321e+00\n",
            "  2.91227488e+00 8.77582833e-01]\n",
            " [1.55925575e+02 1.63261451e+02 1.33402143e+02 7.88606680e+01\n",
            "  3.42340884e+01 1.03160758e+01]\n",
            " [1.74062751e+03 1.82251932e+03 1.48919406e+03 8.80336971e+02\n",
            "  3.82161786e+02 1.15160360e+02]]\n"
          ],
          "name": "stdout"
        }
      ]
    },
    {
      "cell_type": "code",
      "metadata": {
        "id": "pLTaOePVgxEE",
        "colab_type": "code",
        "outputId": "22b44e66-dfb6-4033-97e1-bf9868d921ea",
        "colab": {
          "base_uri": "https://localhost:8080/",
          "height": 286
        }
      },
      "source": [
        "observed = pd.crosstab(data['education'], data['age_by_categories']).values\n",
        "observed.shape\n",
        "observed"
      ],
      "execution_count": 25,
      "outputs": [
        {
          "output_type": "execute_result",
          "data": {
            "text/plain": [
              "array([[ 184,  175,  116,  155,   74,   22],\n",
              "       [ 226,  206,  143,  106,   58,   18],\n",
              "       [  95,   82,   50,   44,   19,    3],\n",
              "       [  26,   35,   30,   43,   18,   12],\n",
              "       [  80,   59,   73,   61,   32,   16],\n",
              "       [  94,   95,  127,  139,  124,   47],\n",
              "       [ 107,  116,   80,   90,   53,   17],\n",
              "       [ 311,  369,  241,   99,   26,    7],\n",
              "       [ 376,  462,  319,  142,   55,   15],\n",
              "       [1556, 1614, 1310,  572,  239,   61],\n",
              "       [  22,  102,  128,   97,   49,   15],\n",
              "       [2613, 2882, 2140, 1420,  610,  173],\n",
              "       [ 197,  463,  616,  321,   94,   30],\n",
              "       [  10,   13,    7,   11,    6,    2],\n",
              "       [  61,  171,  196,   83,   43,   22],\n",
              "       [2204, 1702, 1407,  745,  292,   80]])"
            ]
          },
          "metadata": {
            "tags": []
          },
          "execution_count": 25
        }
      ]
    },
    {
      "cell_type": "code",
      "metadata": {
        "id": "xrSUvooWH2qL",
        "colab_type": "code",
        "outputId": "354ff2ed-40ef-4657-be80-325b79d77ce2",
        "colab": {
          "base_uri": "https://localhost:8080/",
          "height": 34
        }
      },
      "source": [
        "chi_square = ((observed - expected)**2/(expected)).sum()\n",
        "chi_square"
      ],
      "execution_count": 26,
      "outputs": [
        {
          "output_type": "execute_result",
          "data": {
            "text/plain": [
              "1652.1475669928102"
            ]
          },
          "metadata": {
            "tags": []
          },
          "execution_count": 26
        }
      ]
    },
    {
      "cell_type": "markdown",
      "metadata": {
        "id": "F7dL6Esnz2AD",
        "colab_type": "text"
      },
      "source": [
        "-- In a single line using Scipy"
      ]
    },
    {
      "cell_type": "code",
      "metadata": {
        "id": "8heLLvDELG_X",
        "colab_type": "code",
        "outputId": "0b918008-0e56-4910-870a-53b03ed9af00",
        "colab": {
          "base_uri": "https://localhost:8080/",
          "height": 554
        }
      },
      "source": [
        "chi_squared, p_value, dof, expected = stats.chi2_contingency(observed)\n",
        "print(chi_squared, p_value, dof, expected)"
      ],
      "execution_count": 27,
      "outputs": [
        {
          "output_type": "stream",
          "text": [
            "1652.1475669928102 2.3896469370295212e-295 75 [[1.96531193e+02 2.05777453e+02 1.68142284e+02 9.93973003e+01\n",
            "  4.31492156e+01 1.30025538e+01]\n",
            " [2.04923021e+02 2.14564094e+02 1.75321913e+02 1.03641538e+02\n",
            "  4.49916752e+01 1.35577593e+01]\n",
            " [7.93163079e+01 8.30479254e+01 6.78590760e+01 4.01148884e+01\n",
            "  1.74142151e+01 5.24758714e+00]\n",
            " [4.43954761e+01 4.64841630e+01 3.79825545e+01 2.24533846e+01\n",
            "  9.74720573e+00 2.93721601e+00]\n",
            " [8.68960233e+01 9.09842460e+01 7.43439024e+01 4.39483931e+01\n",
            "  1.90783722e+01 5.74906305e+00]\n",
            " [1.69460781e+02 1.77433452e+02 1.44982190e+02 8.57062121e+01\n",
            "  3.72057975e+01 1.12115684e+01]\n",
            " [1.25336009e+02 1.31232729e+02 1.07231236e+02 6.33897383e+01\n",
            "  2.75180259e+01 8.29226228e+00]\n",
            " [2.85051441e+02 2.98462340e+02 2.43875792e+02 1.44167159e+02\n",
            "  6.25841929e+01 1.88590760e+01]\n",
            " [3.70593944e+02 3.88029385e+02 3.17061689e+02 1.87430997e+02\n",
            "  8.13653942e+01 2.45185898e+01]\n",
            " [1.44880846e+03 1.51697098e+03 1.23952824e+03 7.32747040e+02\n",
            "  3.18091738e+02 9.58535372e+01]\n",
            " [1.11800803e+02 1.17060728e+02 9.56511890e+01 5.65441942e+01\n",
            "  2.45463169e+01 7.39676959e+00]\n",
            " [2.66318716e+03 2.78848290e+03 2.27849007e+03 1.34692926e+03\n",
            "  5.84713476e+02 1.76197141e+02]\n",
            " [4.65881795e+02 4.87800272e+02 3.98585221e+02 2.35623628e+02\n",
            "  1.02286226e+02 3.08228583e+01]\n",
            " [1.32645020e+01 1.38885609e+01 1.13484462e+01 6.70863321e+00\n",
            "  2.91227488e+00 8.77582833e-01]\n",
            " [1.55925575e+02 1.63261451e+02 1.33402143e+02 7.88606680e+01\n",
            "  3.42340884e+01 1.03160758e+01]\n",
            " [1.74062751e+03 1.82251932e+03 1.48919406e+03 8.80336971e+02\n",
            "  3.82161786e+02 1.15160360e+02]]\n"
          ],
          "name": "stdout"
        }
      ]
    },
    {
      "cell_type": "markdown",
      "metadata": {
        "id": "kA9QkE8Q35Ir",
        "colab_type": "text"
      },
      "source": [
        "Null Hypothesis: Age per categories is independent of education.\n",
        "\n",
        "Due to a p-value of less than .05, we REJECT the null hypothesis that age per categories and education are independent, and conclude that there is an association between age per categories and education."
      ]
    },
    {
      "cell_type": "markdown",
      "metadata": {
        "id": "4ohsJhQUmEuS",
        "colab_type": "text"
      },
      "source": [
        "## Stretch goals:\n",
        "\n",
        "1. Write a summary of your findings, mixing prose and math/code/results. *Note* - yes, this is by definition a political topic. It is challenging but important to keep your writing voice *neutral* and stick to the facts of the data. Data science often involves considering controversial issues, so it's important to be sensitive about them (especially if you want to publish).\n",
        "2. Apply the techniques you learned today to your project data or other data of your choice, and write/discuss your findings here.\n",
        "3. Refactor your code so it is elegant, readable, and can be easily run for all issues."
      ]
    },
    {
      "cell_type": "markdown",
      "metadata": {
        "id": "nyJ3ySr7R2k9",
        "colab_type": "text"
      },
      "source": [
        "## Resources\n",
        "\n",
        "- [Interactive visualize the Chi-Squared test](https://homepage.divms.uiowa.edu/~mbognar/applets/chisq.html)\n",
        "- [Calculation of Chi-Squared test statistic](https://en.wikipedia.org/wiki/Pearson%27s_chi-squared_test)\n",
        "- [Visualization of a confidence interval generated by R code](https://commons.wikimedia.org/wiki/File:Confidence-interval.svg)\n",
        "- [Expected value of a squared standard normal](https://math.stackexchange.com/questions/264061/expected-value-calculation-for-squared-normal-distribution) (it's 1 - which is why the expected value of a Chi-Squared with $n$ degrees of freedom is $n$, as it's the sum of $n$ squared standard normals)"
      ]
    }
  ]
}