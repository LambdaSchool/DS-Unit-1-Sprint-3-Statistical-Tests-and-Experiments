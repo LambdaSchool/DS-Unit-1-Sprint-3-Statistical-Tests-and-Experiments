{
  "nbformat": 4,
  "nbformat_minor": 0,
  "metadata": {
    "colab": {
      "name": "Rob LeCheminant - DS_Unit_1_Sprint_Challenge_3.ipynb",
      "version": "0.3.2",
      "provenance": [],
      "collapsed_sections": [
        "5wch6ksCbJtZ",
        "wJiltRaEaXdL",
        "-EY8-4J3iCrb",
        "R97IEpHjfVgz",
        "G7rLytbrO38L",
        "F54fbXyZkH6O",
        "o0d0hmXDq3Vs",
        "K56DYLkG97eE",
        "miKDTXy6ygnH",
        "FGF3-A0n3nJB",
        "LuNJd4SB7LnZ",
        "w5ysq-l68M6r",
        "ZM8JckA2bgnp",
        "FyfBMCj19og2"
      ],
      "include_colab_link": true
    },
    "kernelspec": {
      "name": "python3",
      "display_name": "Python 3"
    }
  },
  "cells": [
    {
      "cell_type": "markdown",
      "metadata": {
        "id": "view-in-github",
        "colab_type": "text"
      },
      "source": [
        "<a href=\"https://colab.research.google.com/github/lechemrc/DS-Unit-1-Sprint-3-Statistical-Tests-and-Experiments/blob/master/Rob_LeCheminant_DS_Unit_1_Sprint_Challenge_3.ipynb\" target=\"_parent\"><img src=\"https://colab.research.google.com/assets/colab-badge.svg\" alt=\"Open In Colab\"/></a>"
      ]
    },
    {
      "cell_type": "markdown",
      "metadata": {
        "id": "NooAiTdnafkz",
        "colab_type": "text"
      },
      "source": [
        "# Data Science Unit 1 Sprint Challenge 4\n",
        "\n",
        "## Exploring Data, Testing Hypotheses\n",
        "\n",
        "In this sprint challenge you will look at a dataset of people being approved or rejected for credit.\n",
        "\n",
        "https://archive.ics.uci.edu/ml/datasets/Credit+Approval\n",
        "\n",
        "Data Set Information: This file concerns credit card applications. All attribute names and values have been changed to meaningless symbols to protect confidentiality of the data. This dataset is interesting because there is a good mix of attributes -- continuous, nominal with small numbers of values, and nominal with larger numbers of values. There are also a few missing values.\n",
        "\n",
        "Attribute Information:\n",
        "- A1: b, a.\n",
        "- A2: continuous.\n",
        "- A3: continuous.\n",
        "- A4: u, y, l, t.\n",
        "- A5: g, p, gg.\n",
        "- A6: c, d, cc, i, j, k, m, r, q, w, x, e, aa, ff.\n",
        "- A7: v, h, bb, j, n, z, dd, ff, o.\n",
        "- A8: continuous.\n",
        "- A9: t, f.\n",
        "- A10: t, f.\n",
        "- A11: continuous.\n",
        "- A12: t, f.\n",
        "- A13: g, p, s.\n",
        "- A14: continuous.\n",
        "- A15: continuous.\n",
        "- A16: +,- (class attribute)\n",
        "\n",
        "Yes, most of that doesn't mean anything. A16 (the class attribute) is the most interesting, as it separates the 307 approved cases from the 383 rejected cases. The remaining variables have been obfuscated for privacy - a challenge you may have to deal with in your data science career.\n",
        "\n",
        "Sprint challenges are evaluated based on satisfactory completion of each part. It is suggested you work through it in order, getting each aspect reasonably working, before trying to deeply explore, iterate, or refine any given step. Once you get to the end, if you want to go back and improve things, go for it!"
      ]
    },
    {
      "cell_type": "markdown",
      "metadata": {
        "id": "5wch6ksCbJtZ",
        "colab_type": "text"
      },
      "source": [
        "## Part 1 - Load and validate the data\n",
        "\n",
        "- Load the data as a `pandas` data frame.\n",
        "- Validate that it has the appropriate number of observations (you can check the raw file, and also read the dataset description from UCI).\n",
        "- UCI says there should be missing data - check, and if necessary change the data so pandas recognizes it as na\n",
        "- Make sure that the loaded features are of the types described above (continuous values should be treated as float), and correct as necessary\n",
        "\n",
        "This is review, but skills that you'll use at the start of any data exploration. Further, you may have to do some investigation to figure out which file to load from - that is part of the puzzle."
      ]
    },
    {
      "cell_type": "markdown",
      "metadata": {
        "id": "wJiltRaEaXdL",
        "colab_type": "text"
      },
      "source": [
        "#### Importing and viewing the data"
      ]
    },
    {
      "cell_type": "code",
      "metadata": {
        "id": "lKvti2kUaWw-",
        "colab_type": "code",
        "colab": {}
      },
      "source": [
        "import pandas as pd\n",
        "import numpy as np\n",
        "import matplotlib.pyplot as plt\n",
        "%matplotlib inline\n",
        "import seaborn as sns\n",
        "from scipy import stats"
      ],
      "execution_count": 0,
      "outputs": []
    },
    {
      "cell_type": "code",
      "metadata": {
        "id": "Q79xDLckzibS",
        "colab_type": "code",
        "colab": {
          "base_uri": "https://localhost:8080/",
          "height": 1000
        },
        "outputId": "8c8e87be-3169-48f8-d53c-2f5df1a09422"
      },
      "source": [
        "!curl https://archive.ics.uci.edu/ml/machine-learning-databases/credit-screening/crx.names"
      ],
      "execution_count": 301,
      "outputs": [
        {
          "output_type": "stream",
          "text": [
            "\n",
            "1. Title: Credit Approval\n",
            "\n",
            "2. Sources: \n",
            "    (confidential)\n",
            "    Submitted by quinlan@cs.su.oz.au\n",
            "\n",
            "3.  Past Usage:\n",
            "\n",
            "    See Quinlan,\n",
            "    * \"Simplifying decision trees\", Int J Man-Machine Studies 27,\n",
            "      Dec 1987, pp. 221-234.\n",
            "    * \"C4.5: Programs for Machine Learning\", Morgan Kaufmann, Oct 1992\n",
            "  \n",
            "4.  Relevant Information:\n",
            "\n",
            "    This file concerns credit card applications.  All attribute names\n",
            "    and values have been changed to meaningless symbols to protect\n",
            "    confidentiality of the data.\n",
            "  \n",
            "    This dataset is interesting because there is a good mix of\n",
            "    attributes -- continuous, nominal with small numbers of\n",
            "    values, and nominal with larger numbers of values.  There\n",
            "    are also a few missing values.\n",
            "  \n",
            "5.  Number of Instances: 690\n",
            "\n",
            "6.  Number of Attributes: 15 + class attribute\n",
            "\n",
            "7.  Attribute Information:\n",
            "\n",
            "    A1:\tb, a.\n",
            "    A2:\tcontinuous.\n",
            "    A3:\tcontinuous.\n",
            "    A4:\tu, y, l, t.\n",
            "    A5:\tg, p, gg.\n",
            "    A6:\tc, d, cc, i, j, k, m, r, q, w, x, e, aa, ff.\n",
            "    A7:\tv, h, bb, j, n, z, dd, ff, o.\n",
            "    A8:\tcontinuous.\n",
            "    A9:\tt, f.\n",
            "    A10:\tt, f.\n",
            "    A11:\tcontinuous.\n",
            "    A12:\tt, f.\n",
            "    A13:\tg, p, s.\n",
            "    A14:\tcontinuous.\n",
            "    A15:\tcontinuous.\n",
            "    A16: +,-         (class attribute)\n",
            "\n",
            "8.  Missing Attribute Values:\n",
            "    37 cases (5%) have one or more missing values.  The missing\n",
            "    values from particular attributes are:\n",
            "\n",
            "    A1:  12\n",
            "    A2:  12\n",
            "    A4:   6\n",
            "    A5:   6\n",
            "    A6:   9\n",
            "    A7:   9\n",
            "    A14: 13\n",
            "\n",
            "9.  Class Distribution\n",
            "  \n",
            "    +: 307 (44.5%)\n",
            "    -: 383 (55.5%)\n",
            "\n"
          ],
          "name": "stdout"
        }
      ]
    },
    {
      "cell_type": "code",
      "metadata": {
        "id": "wJ0IIRvYaVGA",
        "colab_type": "code",
        "colab": {
          "base_uri": "https://localhost:8080/",
          "height": 212
        },
        "outputId": "ab605272-c696-42ef-b042-396a65c106a4"
      },
      "source": [
        "!wget https://archive.ics.uci.edu/ml/machine-learning-databases/credit-screening/crx.data"
      ],
      "execution_count": 302,
      "outputs": [
        {
          "output_type": "stream",
          "text": [
            "--2019-08-19 03:26:03--  https://archive.ics.uci.edu/ml/machine-learning-databases/credit-screening/crx.data\n",
            "Resolving archive.ics.uci.edu (archive.ics.uci.edu)... 128.195.10.252\n",
            "Connecting to archive.ics.uci.edu (archive.ics.uci.edu)|128.195.10.252|:443... connected.\n",
            "HTTP request sent, awaiting response... 200 OK\n",
            "Length: 32218 (31K) [application/x-httpd-php]\n",
            "Saving to: ‘crx.data.3’\n",
            "\n",
            "\rcrx.data.3            0%[                    ]       0  --.-KB/s               \rcrx.data.3          100%[===================>]  31.46K  --.-KB/s    in 0.03s   \n",
            "\n",
            "2019-08-19 03:26:03 (993 KB/s) - ‘crx.data.3’ saved [32218/32218]\n",
            "\n"
          ],
          "name": "stdout"
        }
      ]
    },
    {
      "cell_type": "code",
      "metadata": {
        "id": "zNO4Ueivaq0r",
        "colab_type": "code",
        "colab": {
          "base_uri": "https://localhost:8080/",
          "height": 215
        },
        "outputId": "c936fb5e-a7dd-42d3-c38a-c66fafc51a3f"
      },
      "source": [
        "# setting column names to the a-numbered columns in the data set\n",
        "column_dict = {0:'a1', 1:'a2', 2:'a3', 3:'a4', 4:'a5', 5:'a6', 6:'a7', 7:'a8', \n",
        "           8:'a9', 9:'a10', 10:'a11', 11:'a12', 12:'a13', 13:'a14', 14:'a15', \n",
        "           15:'a16'}\n",
        "\n",
        "#importing data\n",
        "df = pd.read_csv('https://archive.ics.uci.edu/ml/machine-learning-databases/credit-screening/crx.data', header=None, na_values='?')\n",
        "df = df.rename(columns=column_dict)\n",
        "\n",
        "#viewing data\n",
        "print(df.shape)\n",
        "df.head()"
      ],
      "execution_count": 303,
      "outputs": [
        {
          "output_type": "stream",
          "text": [
            "(690, 16)\n"
          ],
          "name": "stdout"
        },
        {
          "output_type": "execute_result",
          "data": {
            "text/html": [
              "<div>\n",
              "<style scoped>\n",
              "    .dataframe tbody tr th:only-of-type {\n",
              "        vertical-align: middle;\n",
              "    }\n",
              "\n",
              "    .dataframe tbody tr th {\n",
              "        vertical-align: top;\n",
              "    }\n",
              "\n",
              "    .dataframe thead th {\n",
              "        text-align: right;\n",
              "    }\n",
              "</style>\n",
              "<table border=\"1\" class=\"dataframe\">\n",
              "  <thead>\n",
              "    <tr style=\"text-align: right;\">\n",
              "      <th></th>\n",
              "      <th>a1</th>\n",
              "      <th>a2</th>\n",
              "      <th>a3</th>\n",
              "      <th>a4</th>\n",
              "      <th>a5</th>\n",
              "      <th>a6</th>\n",
              "      <th>a7</th>\n",
              "      <th>a8</th>\n",
              "      <th>a9</th>\n",
              "      <th>a10</th>\n",
              "      <th>a11</th>\n",
              "      <th>a12</th>\n",
              "      <th>a13</th>\n",
              "      <th>a14</th>\n",
              "      <th>a15</th>\n",
              "      <th>a16</th>\n",
              "    </tr>\n",
              "  </thead>\n",
              "  <tbody>\n",
              "    <tr>\n",
              "      <th>0</th>\n",
              "      <td>b</td>\n",
              "      <td>30.83</td>\n",
              "      <td>0.000</td>\n",
              "      <td>u</td>\n",
              "      <td>g</td>\n",
              "      <td>w</td>\n",
              "      <td>v</td>\n",
              "      <td>1.25</td>\n",
              "      <td>t</td>\n",
              "      <td>t</td>\n",
              "      <td>1</td>\n",
              "      <td>f</td>\n",
              "      <td>g</td>\n",
              "      <td>202.0</td>\n",
              "      <td>0</td>\n",
              "      <td>+</td>\n",
              "    </tr>\n",
              "    <tr>\n",
              "      <th>1</th>\n",
              "      <td>a</td>\n",
              "      <td>58.67</td>\n",
              "      <td>4.460</td>\n",
              "      <td>u</td>\n",
              "      <td>g</td>\n",
              "      <td>q</td>\n",
              "      <td>h</td>\n",
              "      <td>3.04</td>\n",
              "      <td>t</td>\n",
              "      <td>t</td>\n",
              "      <td>6</td>\n",
              "      <td>f</td>\n",
              "      <td>g</td>\n",
              "      <td>43.0</td>\n",
              "      <td>560</td>\n",
              "      <td>+</td>\n",
              "    </tr>\n",
              "    <tr>\n",
              "      <th>2</th>\n",
              "      <td>a</td>\n",
              "      <td>24.50</td>\n",
              "      <td>0.500</td>\n",
              "      <td>u</td>\n",
              "      <td>g</td>\n",
              "      <td>q</td>\n",
              "      <td>h</td>\n",
              "      <td>1.50</td>\n",
              "      <td>t</td>\n",
              "      <td>f</td>\n",
              "      <td>0</td>\n",
              "      <td>f</td>\n",
              "      <td>g</td>\n",
              "      <td>280.0</td>\n",
              "      <td>824</td>\n",
              "      <td>+</td>\n",
              "    </tr>\n",
              "    <tr>\n",
              "      <th>3</th>\n",
              "      <td>b</td>\n",
              "      <td>27.83</td>\n",
              "      <td>1.540</td>\n",
              "      <td>u</td>\n",
              "      <td>g</td>\n",
              "      <td>w</td>\n",
              "      <td>v</td>\n",
              "      <td>3.75</td>\n",
              "      <td>t</td>\n",
              "      <td>t</td>\n",
              "      <td>5</td>\n",
              "      <td>t</td>\n",
              "      <td>g</td>\n",
              "      <td>100.0</td>\n",
              "      <td>3</td>\n",
              "      <td>+</td>\n",
              "    </tr>\n",
              "    <tr>\n",
              "      <th>4</th>\n",
              "      <td>b</td>\n",
              "      <td>20.17</td>\n",
              "      <td>5.625</td>\n",
              "      <td>u</td>\n",
              "      <td>g</td>\n",
              "      <td>w</td>\n",
              "      <td>v</td>\n",
              "      <td>1.71</td>\n",
              "      <td>t</td>\n",
              "      <td>f</td>\n",
              "      <td>0</td>\n",
              "      <td>f</td>\n",
              "      <td>s</td>\n",
              "      <td>120.0</td>\n",
              "      <td>0</td>\n",
              "      <td>+</td>\n",
              "    </tr>\n",
              "  </tbody>\n",
              "</table>\n",
              "</div>"
            ],
            "text/plain": [
              "  a1     a2     a3 a4 a5 a6 a7    a8 a9 a10  a11 a12 a13    a14  a15 a16\n",
              "0  b  30.83  0.000  u  g  w  v  1.25  t   t    1   f   g  202.0    0   +\n",
              "1  a  58.67  4.460  u  g  q  h  3.04  t   t    6   f   g   43.0  560   +\n",
              "2  a  24.50  0.500  u  g  q  h  1.50  t   f    0   f   g  280.0  824   +\n",
              "3  b  27.83  1.540  u  g  w  v  3.75  t   t    5   t   g  100.0    3   +\n",
              "4  b  20.17  5.625  u  g  w  v  1.71  t   f    0   f   s  120.0    0   +"
            ]
          },
          "metadata": {
            "tags": []
          },
          "execution_count": 303
        }
      ]
    },
    {
      "cell_type": "markdown",
      "metadata": {
        "id": "-EY8-4J3iCrb",
        "colab_type": "text"
      },
      "source": [
        "### checking and cleaning the data"
      ]
    },
    {
      "cell_type": "code",
      "metadata": {
        "id": "85J20DJYdqrT",
        "colab_type": "code",
        "colab": {
          "base_uri": "https://localhost:8080/",
          "height": 318
        },
        "outputId": "9cfa35d8-daa4-4dd2-e02a-4fc106b7ba83"
      },
      "source": [
        "#checking for null values ... I've found they're denoted by '?'\n",
        "df.isna().sum() "
      ],
      "execution_count": 304,
      "outputs": [
        {
          "output_type": "execute_result",
          "data": {
            "text/plain": [
              "a1     12\n",
              "a2     12\n",
              "a3      0\n",
              "a4      6\n",
              "a5      6\n",
              "a6      9\n",
              "a7      9\n",
              "a8      0\n",
              "a9      0\n",
              "a10     0\n",
              "a11     0\n",
              "a12     0\n",
              "a13     0\n",
              "a14    13\n",
              "a15     0\n",
              "a16     0\n",
              "dtype: int64"
            ]
          },
          "metadata": {
            "tags": []
          },
          "execution_count": 304
        }
      ]
    },
    {
      "cell_type": "code",
      "metadata": {
        "id": "D9j2Yo4dbMJH",
        "colab_type": "code",
        "colab": {
          "base_uri": "https://localhost:8080/",
          "height": 70
        },
        "outputId": "f32f61b0-7bde-4b00-a730-d2fa63607212"
      },
      "source": [
        "# checking against the names file's percents\n",
        "df['a16'].value_counts(normalize=True) "
      ],
      "execution_count": 305,
      "outputs": [
        {
          "output_type": "execute_result",
          "data": {
            "text/plain": [
              "-    0.555072\n",
              "+    0.444928\n",
              "Name: a16, dtype: float64"
            ]
          },
          "metadata": {
            "tags": []
          },
          "execution_count": 305
        }
      ]
    },
    {
      "cell_type": "code",
      "metadata": {
        "id": "i4A5Shc_dftr",
        "colab_type": "code",
        "colab": {
          "base_uri": "https://localhost:8080/",
          "height": 304
        },
        "outputId": "ba0ce71a-d00e-4be7-b426-9d46e1f9a5a2"
      },
      "source": [
        "pos = df[df['a16'] == '+']\n",
        "neg = df[df['a16'] == '-']\n",
        "\n",
        "print(pos.head())\n",
        "neg.head()"
      ],
      "execution_count": 306,
      "outputs": [
        {
          "output_type": "stream",
          "text": [
            "  a1     a2     a3 a4 a5 a6 a7    a8 a9 a10  a11 a12 a13    a14  a15 a16\n",
            "0  b  30.83  0.000  u  g  w  v  1.25  t   t    1   f   g  202.0    0   +\n",
            "1  a  58.67  4.460  u  g  q  h  3.04  t   t    6   f   g   43.0  560   +\n",
            "2  a  24.50  0.500  u  g  q  h  1.50  t   f    0   f   g  280.0  824   +\n",
            "3  b  27.83  1.540  u  g  w  v  3.75  t   t    5   t   g  100.0    3   +\n",
            "4  b  20.17  5.625  u  g  w  v  1.71  t   f    0   f   s  120.0    0   +\n"
          ],
          "name": "stdout"
        },
        {
          "output_type": "execute_result",
          "data": {
            "text/html": [
              "<div>\n",
              "<style scoped>\n",
              "    .dataframe tbody tr th:only-of-type {\n",
              "        vertical-align: middle;\n",
              "    }\n",
              "\n",
              "    .dataframe tbody tr th {\n",
              "        vertical-align: top;\n",
              "    }\n",
              "\n",
              "    .dataframe thead th {\n",
              "        text-align: right;\n",
              "    }\n",
              "</style>\n",
              "<table border=\"1\" class=\"dataframe\">\n",
              "  <thead>\n",
              "    <tr style=\"text-align: right;\">\n",
              "      <th></th>\n",
              "      <th>a1</th>\n",
              "      <th>a2</th>\n",
              "      <th>a3</th>\n",
              "      <th>a4</th>\n",
              "      <th>a5</th>\n",
              "      <th>a6</th>\n",
              "      <th>a7</th>\n",
              "      <th>a8</th>\n",
              "      <th>a9</th>\n",
              "      <th>a10</th>\n",
              "      <th>a11</th>\n",
              "      <th>a12</th>\n",
              "      <th>a13</th>\n",
              "      <th>a14</th>\n",
              "      <th>a15</th>\n",
              "      <th>a16</th>\n",
              "    </tr>\n",
              "  </thead>\n",
              "  <tbody>\n",
              "    <tr>\n",
              "      <th>70</th>\n",
              "      <td>b</td>\n",
              "      <td>32.33</td>\n",
              "      <td>7.5</td>\n",
              "      <td>u</td>\n",
              "      <td>g</td>\n",
              "      <td>e</td>\n",
              "      <td>bb</td>\n",
              "      <td>1.585</td>\n",
              "      <td>t</td>\n",
              "      <td>f</td>\n",
              "      <td>0</td>\n",
              "      <td>t</td>\n",
              "      <td>s</td>\n",
              "      <td>420.0</td>\n",
              "      <td>0</td>\n",
              "      <td>-</td>\n",
              "    </tr>\n",
              "    <tr>\n",
              "      <th>71</th>\n",
              "      <td>b</td>\n",
              "      <td>34.83</td>\n",
              "      <td>4.0</td>\n",
              "      <td>u</td>\n",
              "      <td>g</td>\n",
              "      <td>d</td>\n",
              "      <td>bb</td>\n",
              "      <td>12.500</td>\n",
              "      <td>t</td>\n",
              "      <td>f</td>\n",
              "      <td>0</td>\n",
              "      <td>t</td>\n",
              "      <td>g</td>\n",
              "      <td>NaN</td>\n",
              "      <td>0</td>\n",
              "      <td>-</td>\n",
              "    </tr>\n",
              "    <tr>\n",
              "      <th>72</th>\n",
              "      <td>a</td>\n",
              "      <td>38.58</td>\n",
              "      <td>5.0</td>\n",
              "      <td>u</td>\n",
              "      <td>g</td>\n",
              "      <td>cc</td>\n",
              "      <td>v</td>\n",
              "      <td>13.500</td>\n",
              "      <td>t</td>\n",
              "      <td>f</td>\n",
              "      <td>0</td>\n",
              "      <td>t</td>\n",
              "      <td>g</td>\n",
              "      <td>980.0</td>\n",
              "      <td>0</td>\n",
              "      <td>-</td>\n",
              "    </tr>\n",
              "    <tr>\n",
              "      <th>73</th>\n",
              "      <td>b</td>\n",
              "      <td>44.25</td>\n",
              "      <td>0.5</td>\n",
              "      <td>u</td>\n",
              "      <td>g</td>\n",
              "      <td>m</td>\n",
              "      <td>v</td>\n",
              "      <td>10.750</td>\n",
              "      <td>t</td>\n",
              "      <td>f</td>\n",
              "      <td>0</td>\n",
              "      <td>f</td>\n",
              "      <td>s</td>\n",
              "      <td>400.0</td>\n",
              "      <td>0</td>\n",
              "      <td>-</td>\n",
              "    </tr>\n",
              "    <tr>\n",
              "      <th>74</th>\n",
              "      <td>b</td>\n",
              "      <td>44.83</td>\n",
              "      <td>7.0</td>\n",
              "      <td>y</td>\n",
              "      <td>p</td>\n",
              "      <td>c</td>\n",
              "      <td>v</td>\n",
              "      <td>1.625</td>\n",
              "      <td>f</td>\n",
              "      <td>f</td>\n",
              "      <td>0</td>\n",
              "      <td>f</td>\n",
              "      <td>g</td>\n",
              "      <td>160.0</td>\n",
              "      <td>2</td>\n",
              "      <td>-</td>\n",
              "    </tr>\n",
              "  </tbody>\n",
              "</table>\n",
              "</div>"
            ],
            "text/plain": [
              "   a1     a2   a3 a4 a5  a6  a7      a8 a9 a10  a11 a12 a13    a14  a15 a16\n",
              "70  b  32.33  7.5  u  g   e  bb   1.585  t   f    0   t   s  420.0    0   -\n",
              "71  b  34.83  4.0  u  g   d  bb  12.500  t   f    0   t   g    NaN    0   -\n",
              "72  a  38.58  5.0  u  g  cc   v  13.500  t   f    0   t   g  980.0    0   -\n",
              "73  b  44.25  0.5  u  g   m   v  10.750  t   f    0   f   s  400.0    0   -\n",
              "74  b  44.83  7.0  y  p   c   v   1.625  f   f    0   f   g  160.0    2   -"
            ]
          },
          "metadata": {
            "tags": []
          },
          "execution_count": 306
        }
      ]
    },
    {
      "cell_type": "markdown",
      "metadata": {
        "id": "R97IEpHjfVgz",
        "colab_type": "text"
      },
      "source": [
        "### Filling NaN values with the mode in respective + and - sets\n",
        "\n",
        "I am doing this so that the mode doesn't become a number that may be associated with positive approvals in a negative row and visa versa"
      ]
    },
    {
      "cell_type": "code",
      "metadata": {
        "id": "XgD9mTOwfkJE",
        "colab_type": "code",
        "colab": {
          "base_uri": "https://localhost:8080/",
          "height": 304
        },
        "outputId": "4a983fb5-3a99-4c4f-dc41-39d1f0c92df7"
      },
      "source": [
        "# creating a copy of the previous dfs to avoid copy error\n",
        "approved = pos.copy()\n",
        "denied = neg.copy()\n",
        "\n",
        "# looping through each column\n",
        "for feat in pos.columns:\n",
        "  approved[feat].fillna(approved[feat].mode()[0], inplace=True)\n",
        "  denied[feat].fillna(denied[feat].mode()[0], inplace=True)\n",
        "  \n",
        "print(approved.head())\n",
        "denied.head()"
      ],
      "execution_count": 307,
      "outputs": [
        {
          "output_type": "stream",
          "text": [
            "  a1     a2     a3 a4 a5 a6 a7    a8 a9 a10  a11 a12 a13    a14  a15 a16\n",
            "0  b  30.83  0.000  u  g  w  v  1.25  t   t    1   f   g  202.0    0   +\n",
            "1  a  58.67  4.460  u  g  q  h  3.04  t   t    6   f   g   43.0  560   +\n",
            "2  a  24.50  0.500  u  g  q  h  1.50  t   f    0   f   g  280.0  824   +\n",
            "3  b  27.83  1.540  u  g  w  v  3.75  t   t    5   t   g  100.0    3   +\n",
            "4  b  20.17  5.625  u  g  w  v  1.71  t   f    0   f   s  120.0    0   +\n"
          ],
          "name": "stdout"
        },
        {
          "output_type": "execute_result",
          "data": {
            "text/html": [
              "<div>\n",
              "<style scoped>\n",
              "    .dataframe tbody tr th:only-of-type {\n",
              "        vertical-align: middle;\n",
              "    }\n",
              "\n",
              "    .dataframe tbody tr th {\n",
              "        vertical-align: top;\n",
              "    }\n",
              "\n",
              "    .dataframe thead th {\n",
              "        text-align: right;\n",
              "    }\n",
              "</style>\n",
              "<table border=\"1\" class=\"dataframe\">\n",
              "  <thead>\n",
              "    <tr style=\"text-align: right;\">\n",
              "      <th></th>\n",
              "      <th>a1</th>\n",
              "      <th>a2</th>\n",
              "      <th>a3</th>\n",
              "      <th>a4</th>\n",
              "      <th>a5</th>\n",
              "      <th>a6</th>\n",
              "      <th>a7</th>\n",
              "      <th>a8</th>\n",
              "      <th>a9</th>\n",
              "      <th>a10</th>\n",
              "      <th>a11</th>\n",
              "      <th>a12</th>\n",
              "      <th>a13</th>\n",
              "      <th>a14</th>\n",
              "      <th>a15</th>\n",
              "      <th>a16</th>\n",
              "    </tr>\n",
              "  </thead>\n",
              "  <tbody>\n",
              "    <tr>\n",
              "      <th>70</th>\n",
              "      <td>b</td>\n",
              "      <td>32.33</td>\n",
              "      <td>7.5</td>\n",
              "      <td>u</td>\n",
              "      <td>g</td>\n",
              "      <td>e</td>\n",
              "      <td>bb</td>\n",
              "      <td>1.585</td>\n",
              "      <td>t</td>\n",
              "      <td>f</td>\n",
              "      <td>0</td>\n",
              "      <td>t</td>\n",
              "      <td>s</td>\n",
              "      <td>420.0</td>\n",
              "      <td>0</td>\n",
              "      <td>-</td>\n",
              "    </tr>\n",
              "    <tr>\n",
              "      <th>71</th>\n",
              "      <td>b</td>\n",
              "      <td>34.83</td>\n",
              "      <td>4.0</td>\n",
              "      <td>u</td>\n",
              "      <td>g</td>\n",
              "      <td>d</td>\n",
              "      <td>bb</td>\n",
              "      <td>12.500</td>\n",
              "      <td>t</td>\n",
              "      <td>f</td>\n",
              "      <td>0</td>\n",
              "      <td>t</td>\n",
              "      <td>g</td>\n",
              "      <td>0.0</td>\n",
              "      <td>0</td>\n",
              "      <td>-</td>\n",
              "    </tr>\n",
              "    <tr>\n",
              "      <th>72</th>\n",
              "      <td>a</td>\n",
              "      <td>38.58</td>\n",
              "      <td>5.0</td>\n",
              "      <td>u</td>\n",
              "      <td>g</td>\n",
              "      <td>cc</td>\n",
              "      <td>v</td>\n",
              "      <td>13.500</td>\n",
              "      <td>t</td>\n",
              "      <td>f</td>\n",
              "      <td>0</td>\n",
              "      <td>t</td>\n",
              "      <td>g</td>\n",
              "      <td>980.0</td>\n",
              "      <td>0</td>\n",
              "      <td>-</td>\n",
              "    </tr>\n",
              "    <tr>\n",
              "      <th>73</th>\n",
              "      <td>b</td>\n",
              "      <td>44.25</td>\n",
              "      <td>0.5</td>\n",
              "      <td>u</td>\n",
              "      <td>g</td>\n",
              "      <td>m</td>\n",
              "      <td>v</td>\n",
              "      <td>10.750</td>\n",
              "      <td>t</td>\n",
              "      <td>f</td>\n",
              "      <td>0</td>\n",
              "      <td>f</td>\n",
              "      <td>s</td>\n",
              "      <td>400.0</td>\n",
              "      <td>0</td>\n",
              "      <td>-</td>\n",
              "    </tr>\n",
              "    <tr>\n",
              "      <th>74</th>\n",
              "      <td>b</td>\n",
              "      <td>44.83</td>\n",
              "      <td>7.0</td>\n",
              "      <td>y</td>\n",
              "      <td>p</td>\n",
              "      <td>c</td>\n",
              "      <td>v</td>\n",
              "      <td>1.625</td>\n",
              "      <td>f</td>\n",
              "      <td>f</td>\n",
              "      <td>0</td>\n",
              "      <td>f</td>\n",
              "      <td>g</td>\n",
              "      <td>160.0</td>\n",
              "      <td>2</td>\n",
              "      <td>-</td>\n",
              "    </tr>\n",
              "  </tbody>\n",
              "</table>\n",
              "</div>"
            ],
            "text/plain": [
              "   a1     a2   a3 a4 a5  a6  a7      a8 a9 a10  a11 a12 a13    a14  a15 a16\n",
              "70  b  32.33  7.5  u  g   e  bb   1.585  t   f    0   t   s  420.0    0   -\n",
              "71  b  34.83  4.0  u  g   d  bb  12.500  t   f    0   t   g    0.0    0   -\n",
              "72  a  38.58  5.0  u  g  cc   v  13.500  t   f    0   t   g  980.0    0   -\n",
              "73  b  44.25  0.5  u  g   m   v  10.750  t   f    0   f   s  400.0    0   -\n",
              "74  b  44.83  7.0  y  p   c   v   1.625  f   f    0   f   g  160.0    2   -"
            ]
          },
          "metadata": {
            "tags": []
          },
          "execution_count": 307
        }
      ]
    },
    {
      "cell_type": "code",
      "metadata": {
        "id": "Mx2P7nDPxa1x",
        "colab_type": "code",
        "colab": {}
      },
      "source": [
        "# continuous are: a2, a3, a8, a14, a15\n",
        "continuous = ['a2', 'a3', 'a8', 'a14', 'a15']\n",
        "# categorical are: a1, a4, a5, a6, a7, a9, a10, a12, a13, a16\n",
        "categorical = ['a1', 'a4', 'a5', 'a6', 'a7', 'a9', 'a10', 'a12', 'a13', 'a16']"
      ],
      "execution_count": 0,
      "outputs": []
    },
    {
      "cell_type": "markdown",
      "metadata": {
        "id": "3ZiKVWQXiRv0",
        "colab_type": "text"
      },
      "source": [
        "The datasets should be clean now and I will begin testing the different sets to find potential relationships "
      ]
    },
    {
      "cell_type": "markdown",
      "metadata": {
        "id": "G7rLytbrO38L",
        "colab_type": "text"
      },
      "source": [
        "## Part 2 - Exploring data, Testing hypotheses\n",
        "\n",
        "The only thing we really know about this data is that A16 is the class label. Besides that, we have 6 continuous (float) features and 9 categorical features.\n",
        "\n",
        "Explore the data: you can use whatever approach (tables, utility functions, visualizations) to get an impression of the distributions and relationships of the variables. In general, your goal is to understand how the features are different when grouped by the two class labels (`+` and `-`).\n",
        "\n",
        "For the 6 continuous features, how are they different when split between the two class labels? Choose two features to run t-tests (again split by class label) - specifically, select one feature that is *extremely* different between the classes, and another feature that is notably less different (though perhaps still \"statistically significantly\" different). You may have to explore more than two features to do this.\n",
        "\n",
        "For the categorical features, explore by creating \"cross tabs\" (aka [contingency tables](https://en.wikipedia.org/wiki/Contingency_table)) between them and the class label, and apply the Chi-squared test to them. [pandas.crosstab](http://pandas.pydata.org/pandas-docs/stable/reference/api/pandas.crosstab.html) can create contingency tables, and [scipy.stats.chi2_contingency](https://docs.scipy.org/doc/scipy/reference/generated/scipy.stats.chi2_contingency.html) can calculate the Chi-squared statistic for them.\n",
        "\n",
        "There are 9 categorical features - as with the t-test, try to find one where the Chi-squared test returns an extreme result (rejecting the null that the data are independent), and one where it is less extreme.\n",
        "\n",
        "**NOTE** - \"less extreme\" just means smaller test statistic/larger p-value. Even the least extreme differences may be strongly statistically significant.\n",
        "\n",
        "Your *main* goal is the hypothesis tests, so don't spend too much time on the exploration/visualization piece. That is just a means to an end - use simple visualizations, such as boxplots or a scatter matrix (both built in to pandas), to get a feel for the overall distribution of the variables.\n",
        "\n",
        "This is challenging, so manage your time and aim for a baseline of at least running two t-tests and two Chi-squared tests before polishing. And don't forget to answer the questions in part 3, even if your results in this part aren't what you want them to be."
      ]
    },
    {
      "cell_type": "markdown",
      "metadata": {
        "id": "F54fbXyZkH6O",
        "colab_type": "text"
      },
      "source": [
        "#### Finding common values and means in each column to see if there might be some correlation"
      ]
    },
    {
      "cell_type": "code",
      "metadata": {
        "id": "_nqcgc0yzm68",
        "colab_type": "code",
        "colab": {
          "base_uri": "https://localhost:8080/",
          "height": 1000
        },
        "outputId": "2f2e2a69-e11d-41c2-b400-045afd97e89c"
      },
      "source": [
        "# finding the most common value in each column\n",
        "for feat in approved.columns:\n",
        "  print(feat)\n",
        "  print(approved[feat].mode().values)\n",
        "  print(denied[feat].mode().values)\n",
        "#   if approved[feat].mode().values != denied[feat].mode().values:\n",
        "#         print('examine this column')\n",
        "  print('-------------\\n\\n')\n",
        "  \n",
        "# the idea in doing this is to see if the approved and denied values \n",
        "# differ at all in the mode. This may point me in the direction as to why \n",
        "# certain cases get approved or denied "
      ],
      "execution_count": 309,
      "outputs": [
        {
          "output_type": "stream",
          "text": [
            "a1\n",
            "['b']\n",
            "['b']\n",
            "-------------\n",
            "\n",
            "\n",
            "a2\n",
            "[20.42]\n",
            "[23.58]\n",
            "-------------\n",
            "\n",
            "\n",
            "a3\n",
            "[0. 3.]\n",
            "[1.25]\n",
            "-------------\n",
            "\n",
            "\n",
            "a4\n",
            "['u']\n",
            "['u']\n",
            "-------------\n",
            "\n",
            "\n",
            "a5\n",
            "['g']\n",
            "['g']\n",
            "-------------\n",
            "\n",
            "\n",
            "a6\n",
            "['c']\n",
            "['c']\n",
            "-------------\n",
            "\n",
            "\n",
            "a7\n",
            "['v']\n",
            "['v']\n",
            "-------------\n",
            "\n",
            "\n",
            "a8\n",
            "[0.]\n",
            "[0.]\n",
            "-------------\n",
            "\n",
            "\n",
            "a9\n",
            "['t']\n",
            "['f']\n",
            "-------------\n",
            "\n",
            "\n",
            "a10\n",
            "['t']\n",
            "['f']\n",
            "-------------\n",
            "\n",
            "\n",
            "a11\n",
            "[0]\n",
            "[0]\n",
            "-------------\n",
            "\n",
            "\n",
            "a12\n",
            "['f']\n",
            "['f']\n",
            "-------------\n",
            "\n",
            "\n",
            "a13\n",
            "['g']\n",
            "['g']\n",
            "-------------\n",
            "\n",
            "\n",
            "a14\n",
            "[0.]\n",
            "[0.]\n",
            "-------------\n",
            "\n",
            "\n",
            "a15\n",
            "[0]\n",
            "[0]\n",
            "-------------\n",
            "\n",
            "\n",
            "a16\n",
            "['+']\n",
            "['-']\n",
            "-------------\n",
            "\n",
            "\n"
          ],
          "name": "stdout"
        }
      ]
    },
    {
      "cell_type": "markdown",
      "metadata": {
        "id": "2V7mO1X0neDm",
        "colab_type": "text"
      },
      "source": [
        "a2, a3, a9, a10 are the ones that differ in the mode, so I will look into these ones first. "
      ]
    },
    {
      "cell_type": "markdown",
      "metadata": {
        "id": "o0d0hmXDq3Vs",
        "colab_type": "text"
      },
      "source": [
        "#### Feature 'a2'"
      ]
    },
    {
      "cell_type": "code",
      "metadata": {
        "id": "6u1vIlkDirNs",
        "colab_type": "code",
        "colab": {
          "base_uri": "https://localhost:8080/",
          "height": 227
        },
        "outputId": "a5ab99f8-c921-45e0-eefd-bcc9b5e687f2"
      },
      "source": [
        "app_a2_bins = pd.cut(approved['a2'], bins = 5)\n",
        "approved_a2 = pd.crosstab(app_a2_bins, approved['a16'])\n",
        "approved_a2"
      ],
      "execution_count": 310,
      "outputs": [
        {
          "output_type": "execute_result",
          "data": {
            "text/html": [
              "<div>\n",
              "<style scoped>\n",
              "    .dataframe tbody tr th:only-of-type {\n",
              "        vertical-align: middle;\n",
              "    }\n",
              "\n",
              "    .dataframe tbody tr th {\n",
              "        vertical-align: top;\n",
              "    }\n",
              "\n",
              "    .dataframe thead th {\n",
              "        text-align: right;\n",
              "    }\n",
              "</style>\n",
              "<table border=\"1\" class=\"dataframe\">\n",
              "  <thead>\n",
              "    <tr style=\"text-align: right;\">\n",
              "      <th>a16</th>\n",
              "      <th>+</th>\n",
              "    </tr>\n",
              "    <tr>\n",
              "      <th>a2</th>\n",
              "      <th></th>\n",
              "    </tr>\n",
              "  </thead>\n",
              "  <tbody>\n",
              "    <tr>\n",
              "      <th>(13.687, 26.35]</th>\n",
              "      <td>117</td>\n",
              "    </tr>\n",
              "    <tr>\n",
              "      <th>(26.35, 38.95]</th>\n",
              "      <td>93</td>\n",
              "    </tr>\n",
              "    <tr>\n",
              "      <th>(38.95, 51.55]</th>\n",
              "      <td>64</td>\n",
              "    </tr>\n",
              "    <tr>\n",
              "      <th>(51.55, 64.15]</th>\n",
              "      <td>26</td>\n",
              "    </tr>\n",
              "    <tr>\n",
              "      <th>(64.15, 76.75]</th>\n",
              "      <td>7</td>\n",
              "    </tr>\n",
              "  </tbody>\n",
              "</table>\n",
              "</div>"
            ],
            "text/plain": [
              "a16                +\n",
              "a2                  \n",
              "(13.687, 26.35]  117\n",
              "(26.35, 38.95]    93\n",
              "(38.95, 51.55]    64\n",
              "(51.55, 64.15]    26\n",
              "(64.15, 76.75]     7"
            ]
          },
          "metadata": {
            "tags": []
          },
          "execution_count": 310
        }
      ]
    },
    {
      "cell_type": "code",
      "metadata": {
        "id": "ZoV-KL_vn0NA",
        "colab_type": "code",
        "colab": {
          "base_uri": "https://localhost:8080/",
          "height": 227
        },
        "outputId": "4f2d3cfa-b37f-45c3-86de-b4bfb6d0ad3f"
      },
      "source": [
        "den_a2_bins = pd.cut(denied['a2'], bins = 5)\n",
        "denied_a2 = pd.crosstab(den_a2_bins, denied['a16'])\n",
        "denied_a2"
      ],
      "execution_count": 311,
      "outputs": [
        {
          "output_type": "execute_result",
          "data": {
            "text/html": [
              "<div>\n",
              "<style scoped>\n",
              "    .dataframe tbody tr th:only-of-type {\n",
              "        vertical-align: middle;\n",
              "    }\n",
              "\n",
              "    .dataframe tbody tr th {\n",
              "        vertical-align: top;\n",
              "    }\n",
              "\n",
              "    .dataframe thead th {\n",
              "        text-align: right;\n",
              "    }\n",
              "</style>\n",
              "<table border=\"1\" class=\"dataframe\">\n",
              "  <thead>\n",
              "    <tr style=\"text-align: right;\">\n",
              "      <th>a16</th>\n",
              "      <th>-</th>\n",
              "    </tr>\n",
              "    <tr>\n",
              "      <th>a2</th>\n",
              "      <th></th>\n",
              "    </tr>\n",
              "  </thead>\n",
              "  <tbody>\n",
              "    <tr>\n",
              "      <th>(15.105, 28.186]</th>\n",
              "      <td>210</td>\n",
              "    </tr>\n",
              "    <tr>\n",
              "      <th>(28.186, 41.202]</th>\n",
              "      <td>126</td>\n",
              "    </tr>\n",
              "    <tr>\n",
              "      <th>(41.202, 54.218]</th>\n",
              "      <td>34</td>\n",
              "    </tr>\n",
              "    <tr>\n",
              "      <th>(54.218, 67.234]</th>\n",
              "      <td>9</td>\n",
              "    </tr>\n",
              "    <tr>\n",
              "      <th>(67.234, 80.25]</th>\n",
              "      <td>4</td>\n",
              "    </tr>\n",
              "  </tbody>\n",
              "</table>\n",
              "</div>"
            ],
            "text/plain": [
              "a16                 -\n",
              "a2                   \n",
              "(15.105, 28.186]  210\n",
              "(28.186, 41.202]  126\n",
              "(41.202, 54.218]   34\n",
              "(54.218, 67.234]    9\n",
              "(67.234, 80.25]     4"
            ]
          },
          "metadata": {
            "tags": []
          },
          "execution_count": 311
        }
      ]
    },
    {
      "cell_type": "markdown",
      "metadata": {
        "id": "CB9IkRxJqsYh",
        "colab_type": "text"
      },
      "source": [
        "Comparing those two sets of numbers, I'm not convinced that the feature 'a2' is statistically significant, but we'll try visualizing things and doing a t-test and chi squared test, and creating confidence intervals to see if that gives us any insight. "
      ]
    },
    {
      "cell_type": "code",
      "metadata": {
        "id": "ItRO0vcFq1ef",
        "colab_type": "code",
        "colab": {
          "base_uri": "https://localhost:8080/",
          "height": 281
        },
        "outputId": "a6a4526f-d2f0-4b44-f6fa-7c9a656728f8"
      },
      "source": [
        "sns.distplot(denied_a2)\n",
        "sns.distplot(approved_a2)\n",
        "plt.title('Distribution of Approvals and Denials in column a2');"
      ],
      "execution_count": 312,
      "outputs": [
        {
          "output_type": "display_data",
          "data": {
            "image/png": "[encoded data removed]",
            "text/plain": [
              "<Figure size 432x288 with 1 Axes>"
            ]
          },
          "metadata": {
            "tags": []
          }
        }
      ]
    },
    {
      "cell_type": "markdown",
      "metadata": {
        "id": "VESYAqg0rY57",
        "colab_type": "text"
      },
      "source": [
        "This graph is showing me that it's a narrower margin that gets approved than the denials. "
      ]
    },
    {
      "cell_type": "code",
      "metadata": {
        "id": "lR5N6dXIrh0x",
        "colab_type": "code",
        "colab": {}
      },
      "source": [
        "def confidence_interval_kde(data, confidence=0.95):\n",
        "  \"\"\"\n",
        "  Calculate a confidence interval around a sample mean for given data.\n",
        "  Using t-distribution and two-tailed test, default 95% confidence.\n",
        "  \n",
        "  *** Displays Seaborn KDE plot as well with confidence intervals and mean ***\n",
        "  \n",
        "  Arguments:\n",
        "    data - iterable (list or numpy array) of sample observations\n",
        "    confidence - level of confidence for the interval\n",
        "  \n",
        "  Returns:\n",
        "    tuple of (mean, lower bound, upper bound)\n",
        "  \"\"\"\n",
        "  data = np.array(data)\n",
        "  mean = np.mean(data)\n",
        "  n = len(data)\n",
        "  stderr = stats.sem(data)\n",
        "  interval = stderr * stats.t.ppf((1 + confidence) / 2.0, n - 1)\n",
        "  \n",
        "  sns.kdeplot(data)\n",
        "  plt.axvline(mean, color='k')\n",
        "  plt.axvline(mean - interval, color='r')\n",
        "  plt.axvline(mean + interval, color='r')\n",
        "  plt.show()\n",
        "  \n",
        "  return mean, mean - interval, mean + interval"
      ],
      "execution_count": 0,
      "outputs": []
    },
    {
      "cell_type": "code",
      "metadata": {
        "id": "hCKAr4b4r4KP",
        "colab_type": "code",
        "colab": {
          "base_uri": "https://localhost:8080/",
          "height": 538
        },
        "outputId": "54db42dc-3477-4eea-aadb-9acab3a27b7a"
      },
      "source": [
        "# using the function above to create confidence intervals and produce a KDE plot\n",
        "# showing the distribution with the intervals and the mean of the data. \n",
        "\n",
        "confidence_interval_kde(approved['a2'])\n",
        "confidence_interval_kde(denied['a2'])"
      ],
      "execution_count": 314,
      "outputs": [
        {
          "output_type": "display_data",
          "data": {
            "image/png": "[encoded data removed]",
            "text/plain": [
              "<Figure size 432x288 with 1 Axes>"
            ]
          },
          "metadata": {
            "tags": []
          }
        },
        {
          "output_type": "display_data",
          "data": {
            "image/png": "[encoded data removed]",
            "text/plain": [
              "<Figure size 432x288 with 1 Axes>"
            ]
          },
          "metadata": {
            "tags": []
          }
        },
        {
          "output_type": "execute_result",
          "data": {
            "text/plain": [
              "(29.6456135770235, 28.558430206711282, 30.732796947335718)"
            ]
          },
          "metadata": {
            "tags": []
          },
          "execution_count": 314
        }
      ]
    },
    {
      "cell_type": "markdown",
      "metadata": {
        "id": "ypwg6zl4sLLb",
        "colab_type": "text"
      },
      "source": [
        "We can see that the confidence interval is narrower with the denials and that it skews right a bit. The mean for approvals is also a higher value. "
      ]
    },
    {
      "cell_type": "markdown",
      "metadata": {
        "id": "K56DYLkG97eE",
        "colab_type": "text"
      },
      "source": [
        "#### Looping through for t-tests and p-values"
      ]
    },
    {
      "cell_type": "code",
      "metadata": {
        "id": "i8tAEEQ9tTiK",
        "colab_type": "code",
        "colab": {
          "base_uri": "https://localhost:8080/",
          "height": 816
        },
        "outputId": "0a7b7ce4-55e2-4ac0-a1b9-6ac939b63ffe"
      },
      "source": [
        "# looping through each column \n",
        "\n",
        "n = 1\n",
        "for feat in ['a2', 'a3', 'a8', 'a14', 'a15']:\n",
        "\n",
        "  # printing out the t-stats\n",
        "  tstat, pvalue = ttest_ind(approved[feat], denied[feat])\n",
        "  print(approved.columns.values[n])\n",
        "  print('T-Stat: ' + str(tstat))\n",
        "  print('P Value: ' + str(pvalue))\n",
        "  print('Confidence: ' + str(100 - pvalue) + '%')\n",
        "  n += 1\n",
        "  \n",
        "  # testing if the p-value is within the extremes\n",
        "  if (pvalue <= 0.05):\n",
        "    print('REJECT null hypothesis')\n",
        "  else: \n",
        "    print('FAIL TO REJECT null hypothesis')\n",
        "  print('\\n\\n-----------------------\\n')\n",
        "  \n",
        "  # I'm really not sure if this is getting me what I want to see or if this is \n",
        "  # actually getting me the right values... I'm going to dig further"
      ],
      "execution_count": 315,
      "outputs": [
        {
          "output_type": "stream",
          "text": [
            "a2\n",
            "T-Stat: 4.431342274884706\n",
            "P Value: 1.0894771975697794e-05\n",
            "Confidence: 99.99998910522802%\n",
            "REJECT null hypothesis\n",
            "\n",
            "\n",
            "-----------------------\n",
            "\n",
            "a3\n",
            "T-Stat: 5.52998337614816\n",
            "P Value: 4.551680702308068e-08\n",
            "Confidence: 99.99999995448319%\n",
            "REJECT null hypothesis\n",
            "\n",
            "\n",
            "-----------------------\n",
            "\n",
            "a4\n",
            "T-Stat: 8.935819983773698\n",
            "P Value: 3.6710537401601785e-18\n",
            "Confidence: 100.0%\n",
            "REJECT null hypothesis\n",
            "\n",
            "\n",
            "-----------------------\n",
            "\n",
            "a5\n",
            "T-Stat: -2.6254915751389047\n",
            "P Value: 0.008844680277712815\n",
            "Confidence: 99.99115531972228%\n",
            "REJECT null hypothesis\n",
            "\n",
            "\n",
            "-----------------------\n",
            "\n",
            "a6\n",
            "T-Stat: 4.680216020964486\n",
            "P Value: 3.4520256956287944e-06\n",
            "Confidence: 99.9999965479743%\n",
            "REJECT null hypothesis\n",
            "\n",
            "\n",
            "-----------------------\n",
            "\n"
          ],
          "name": "stdout"
        }
      ]
    },
    {
      "cell_type": "markdown",
      "metadata": {
        "id": "miKDTXy6ygnH",
        "colab_type": "text"
      },
      "source": [
        "#### Chi squared test for feature 'a2'"
      ]
    },
    {
      "cell_type": "code",
      "metadata": {
        "id": "AfIyySLlyt2X",
        "colab_type": "code",
        "colab": {
          "base_uri": "https://localhost:8080/",
          "height": 176
        },
        "outputId": "2a896e5a-9bfc-42e0-f23d-bbfbadb1e8b2"
      },
      "source": [
        "df['a2'].describe()"
      ],
      "execution_count": 316,
      "outputs": [
        {
          "output_type": "execute_result",
          "data": {
            "text/plain": [
              "count    678.000000\n",
              "mean      31.568171\n",
              "std       11.957862\n",
              "min       13.750000\n",
              "25%       22.602500\n",
              "50%       28.460000\n",
              "75%       38.230000\n",
              "max       80.250000\n",
              "Name: a2, dtype: float64"
            ]
          },
          "metadata": {
            "tags": []
          },
          "execution_count": 316
        }
      ]
    },
    {
      "cell_type": "code",
      "metadata": {
        "id": "GWuJPC_6zD3H",
        "colab_type": "code",
        "colab": {
          "base_uri": "https://localhost:8080/",
          "height": 158
        },
        "outputId": "4793a215-309c-4bb7-e3ab-206606ae0f40"
      },
      "source": [
        "# Creating distinct bins for a crosstab\n",
        "cut_points = [0, 9, 19, 29, 39, 49, 59, 69]\n",
        "label_names = ['0-9', '10-19', '20-29', '30-39', '40-49', '50-59', '60+']\n",
        "df['a2'] = pd.cut(df['a2'], cut_points, labels=label_names)\n",
        "df['a2'].value_counts()       "
      ],
      "execution_count": 317,
      "outputs": [
        {
          "output_type": "execute_result",
          "data": {
            "text/plain": [
              "20-29    290\n",
              "30-39    166\n",
              "40-49     96\n",
              "10-19     63\n",
              "50-59     42\n",
              "60+       14\n",
              "0-9        0\n",
              "Name: a2, dtype: int64"
            ]
          },
          "metadata": {
            "tags": []
          },
          "execution_count": 317
        }
      ]
    },
    {
      "cell_type": "code",
      "metadata": {
        "id": "VRe_RCXlzjKT",
        "colab_type": "code",
        "colab": {
          "base_uri": "https://localhost:8080/",
          "height": 167
        },
        "outputId": "d3fb067d-f58b-4cbb-8899-52790101ae39"
      },
      "source": [
        "# sorting and displaying crosstab\n",
        "df = df.sort_values(by='a2', ascending=True)\n",
        "contingency_table = pd.crosstab(df['a16'], df['a2'], margins=True)\n",
        "contingency_table"
      ],
      "execution_count": 318,
      "outputs": [
        {
          "output_type": "execute_result",
          "data": {
            "text/html": [
              "<div>\n",
              "<style scoped>\n",
              "    .dataframe tbody tr th:only-of-type {\n",
              "        vertical-align: middle;\n",
              "    }\n",
              "\n",
              "    .dataframe tbody tr th {\n",
              "        vertical-align: top;\n",
              "    }\n",
              "\n",
              "    .dataframe thead th {\n",
              "        text-align: right;\n",
              "    }\n",
              "</style>\n",
              "<table border=\"1\" class=\"dataframe\">\n",
              "  <thead>\n",
              "    <tr style=\"text-align: right;\">\n",
              "      <th>a2</th>\n",
              "      <th>10-19</th>\n",
              "      <th>20-29</th>\n",
              "      <th>30-39</th>\n",
              "      <th>40-49</th>\n",
              "      <th>50-59</th>\n",
              "      <th>60+</th>\n",
              "      <th>All</th>\n",
              "    </tr>\n",
              "    <tr>\n",
              "      <th>a16</th>\n",
              "      <th></th>\n",
              "      <th></th>\n",
              "      <th></th>\n",
              "      <th></th>\n",
              "      <th></th>\n",
              "      <th></th>\n",
              "      <th></th>\n",
              "    </tr>\n",
              "  </thead>\n",
              "  <tbody>\n",
              "    <tr>\n",
              "      <th>+</th>\n",
              "      <td>18</td>\n",
              "      <td>126</td>\n",
              "      <td>65</td>\n",
              "      <td>58</td>\n",
              "      <td>24</td>\n",
              "      <td>11</td>\n",
              "      <td>302</td>\n",
              "    </tr>\n",
              "    <tr>\n",
              "      <th>-</th>\n",
              "      <td>45</td>\n",
              "      <td>164</td>\n",
              "      <td>101</td>\n",
              "      <td>38</td>\n",
              "      <td>18</td>\n",
              "      <td>3</td>\n",
              "      <td>369</td>\n",
              "    </tr>\n",
              "    <tr>\n",
              "      <th>All</th>\n",
              "      <td>63</td>\n",
              "      <td>290</td>\n",
              "      <td>166</td>\n",
              "      <td>96</td>\n",
              "      <td>42</td>\n",
              "      <td>14</td>\n",
              "      <td>671</td>\n",
              "    </tr>\n",
              "  </tbody>\n",
              "</table>\n",
              "</div>"
            ],
            "text/plain": [
              "a2   10-19  20-29  30-39  40-49  50-59  60+  All\n",
              "a16                                             \n",
              "+       18    126     65     58     24   11  302\n",
              "-       45    164    101     38     18    3  369\n",
              "All     63    290    166     96     42   14  671"
            ]
          },
          "metadata": {
            "tags": []
          },
          "execution_count": 318
        }
      ]
    },
    {
      "cell_type": "code",
      "metadata": {
        "id": "A1ntWyfu05AT",
        "colab_type": "code",
        "colab": {
          "base_uri": "https://localhost:8080/",
          "height": 52
        },
        "outputId": "a9c6741b-fc6a-4ca6-e3ce-282ddc7c9679"
      },
      "source": [
        "row_sums = contingency_table.iloc[0:2, 6].values\n",
        "col_sums = contingency_table.iloc[2, 0:6].values\n",
        "print(row_sums)\n",
        "print(col_sums)"
      ],
      "execution_count": 319,
      "outputs": [
        {
          "output_type": "stream",
          "text": [
            "[302 369]\n",
            "[ 63 290 166  96  42  14]\n"
          ],
          "name": "stdout"
        }
      ]
    },
    {
      "cell_type": "code",
      "metadata": {
        "id": "JNkZwLtv1K0N",
        "colab_type": "code",
        "colab": {
          "base_uri": "https://localhost:8080/",
          "height": 34
        },
        "outputId": "f89d9e0d-029a-4965-8e32-bb244fa6e0a3"
      },
      "source": [
        "total = contingency_table.loc['All', 'All']\n",
        "total"
      ],
      "execution_count": 320,
      "outputs": [
        {
          "output_type": "execute_result",
          "data": {
            "text/plain": [
              "671"
            ]
          },
          "metadata": {
            "tags": []
          },
          "execution_count": 320
        }
      ]
    },
    {
      "cell_type": "code",
      "metadata": {
        "id": "K-saDWEw1Zmj",
        "colab_type": "code",
        "colab": {
          "base_uri": "https://localhost:8080/",
          "height": 105
        },
        "outputId": "007c1a03-1841-4cbf-bd40-d75fd0dc1c03"
      },
      "source": [
        "expected = []\n",
        "for i in range(len(row_sums)):\n",
        "  expected_row = []\n",
        "  for column in col_sums:\n",
        "    expected_val = column * row_sums[i] / total\n",
        "    expected_row.append(expected_val)\n",
        "  expected.append(expected_row)\n",
        "  \n",
        "expected = np.array(expected)\n",
        "print(expected.shape)\n",
        "print(expected)"
      ],
      "execution_count": 321,
      "outputs": [
        {
          "output_type": "stream",
          "text": [
            "(2, 6)\n",
            "[[ 28.35469449 130.52160954  74.7123696   43.2071535   18.90312966\n",
            "    6.30104322]\n",
            " [ 34.64530551 159.47839046  91.2876304   52.7928465   23.09687034\n",
            "    7.69895678]]\n"
          ],
          "name": "stdout"
        }
      ]
    },
    {
      "cell_type": "code",
      "metadata": {
        "id": "Rvf60kMl3B24",
        "colab_type": "code",
        "colab": {
          "base_uri": "https://localhost:8080/",
          "height": 70
        },
        "outputId": "3d52a6a0-81e6-4047-a75c-c61a4b923b58"
      },
      "source": [
        "observed =  pd.crosstab(df['a16'], df['a2']).values\n",
        "print(observed.shape)\n",
        "observed"
      ],
      "execution_count": 322,
      "outputs": [
        {
          "output_type": "stream",
          "text": [
            "(2, 6)\n"
          ],
          "name": "stdout"
        },
        {
          "output_type": "execute_result",
          "data": {
            "text/plain": [
              "array([[ 18, 126,  65,  58,  24,  11],\n",
              "       [ 45, 164, 101,  38,  18,   3]])"
            ]
          },
          "metadata": {
            "tags": []
          },
          "execution_count": 322
        }
      ]
    },
    {
      "cell_type": "code",
      "metadata": {
        "id": "UsdlC-fk3IPB",
        "colab_type": "code",
        "colab": {
          "base_uri": "https://localhost:8080/",
          "height": 87
        },
        "outputId": "e63e6e03-2fd6-457b-a8c0-4f581776c43f"
      },
      "source": [
        "chi_square, p_value, dof, expected = stats.chi2_contingency(observed)\n",
        "print(chi_square, p_value, dof, expected)"
      ],
      "execution_count": 323,
      "outputs": [
        {
          "output_type": "stream",
          "text": [
            "27.537748321598226 4.4809455846405305e-05 5 [[ 28.35469449 130.52160954  74.7123696   43.2071535   18.90312966\n",
            "    6.30104322]\n",
            " [ 34.64530551 159.47839046  91.2876304   52.7928465   23.09687034\n",
            "    7.69895678]]\n"
          ],
          "name": "stdout"
        }
      ]
    },
    {
      "cell_type": "markdown",
      "metadata": {
        "id": "xFtEdPxF3Oh7",
        "colab_type": "text"
      },
      "source": [
        "The p-value is pretty small, so it's fairly safe to reject the null hypothesis"
      ]
    },
    {
      "cell_type": "markdown",
      "metadata": {
        "id": "FGF3-A0n3nJB",
        "colab_type": "text"
      },
      "source": [
        "#### Feature 'a3' -- chi squared"
      ]
    },
    {
      "cell_type": "code",
      "metadata": {
        "id": "8j1qM9av3Ld9",
        "colab_type": "code",
        "colab": {
          "base_uri": "https://localhost:8080/",
          "height": 176
        },
        "outputId": "79165ee3-d018-437c-e5cd-1a70c3bfdabc"
      },
      "source": [
        "df['a3'].describe()"
      ],
      "execution_count": 324,
      "outputs": [
        {
          "output_type": "execute_result",
          "data": {
            "text/plain": [
              "count    690.000000\n",
              "mean       4.758725\n",
              "std        4.978163\n",
              "min        0.000000\n",
              "25%        1.000000\n",
              "50%        2.750000\n",
              "75%        7.207500\n",
              "max       28.000000\n",
              "Name: a3, dtype: float64"
            ]
          },
          "metadata": {
            "tags": []
          },
          "execution_count": 324
        }
      ]
    },
    {
      "cell_type": "code",
      "metadata": {
        "colab_type": "code",
        "outputId": "91822b09-5125-47c9-ce7d-2f04da997401",
        "id": "lFIBXugr3sQh",
        "colab": {
          "base_uri": "https://localhost:8080/",
          "height": 123
        }
      },
      "source": [
        "# Creating distinct bins for a crosstab\n",
        "cut_points = [0, 6, 11, 16, 21, 26]\n",
        "label_names = ['0-5', '6-10', '11-15', '16-20', '21+']\n",
        "df['a3'] = pd.cut(df['a3'], cut_points, labels=label_names)\n",
        "df['a3'].value_counts()   "
      ],
      "execution_count": 325,
      "outputs": [
        {
          "output_type": "execute_result",
          "data": {
            "text/plain": [
              "0-5      469\n",
              "6-10     113\n",
              "11-15     69\n",
              "16-20     12\n",
              "21+        6\n",
              "Name: a3, dtype: int64"
            ]
          },
          "metadata": {
            "tags": []
          },
          "execution_count": 325
        }
      ]
    },
    {
      "cell_type": "code",
      "metadata": {
        "colab_type": "code",
        "outputId": "07a5ef22-70ff-485a-ed4f-13b0428afc2c",
        "id": "7v8tNfdu3sQl",
        "colab": {
          "base_uri": "https://localhost:8080/",
          "height": 167
        }
      },
      "source": [
        "# sorting and displaying crosstab\n",
        "df = df.sort_values(by='a3', ascending=True)\n",
        "contingency_table = pd.crosstab(df['a16'], df['a3'], margins=True)\n",
        "contingency_table"
      ],
      "execution_count": 326,
      "outputs": [
        {
          "output_type": "execute_result",
          "data": {
            "text/html": [
              "<div>\n",
              "<style scoped>\n",
              "    .dataframe tbody tr th:only-of-type {\n",
              "        vertical-align: middle;\n",
              "    }\n",
              "\n",
              "    .dataframe tbody tr th {\n",
              "        vertical-align: top;\n",
              "    }\n",
              "\n",
              "    .dataframe thead th {\n",
              "        text-align: right;\n",
              "    }\n",
              "</style>\n",
              "<table border=\"1\" class=\"dataframe\">\n",
              "  <thead>\n",
              "    <tr style=\"text-align: right;\">\n",
              "      <th>a3</th>\n",
              "      <th>0-5</th>\n",
              "      <th>6-10</th>\n",
              "      <th>11-15</th>\n",
              "      <th>16-20</th>\n",
              "      <th>21+</th>\n",
              "      <th>All</th>\n",
              "    </tr>\n",
              "    <tr>\n",
              "      <th>a16</th>\n",
              "      <th></th>\n",
              "      <th></th>\n",
              "      <th></th>\n",
              "      <th></th>\n",
              "      <th></th>\n",
              "      <th></th>\n",
              "    </tr>\n",
              "  </thead>\n",
              "  <tbody>\n",
              "    <tr>\n",
              "      <th>+</th>\n",
              "      <td>177</td>\n",
              "      <td>68</td>\n",
              "      <td>39</td>\n",
              "      <td>8</td>\n",
              "      <td>5</td>\n",
              "      <td>297</td>\n",
              "    </tr>\n",
              "    <tr>\n",
              "      <th>-</th>\n",
              "      <td>292</td>\n",
              "      <td>45</td>\n",
              "      <td>30</td>\n",
              "      <td>4</td>\n",
              "      <td>1</td>\n",
              "      <td>372</td>\n",
              "    </tr>\n",
              "    <tr>\n",
              "      <th>All</th>\n",
              "      <td>469</td>\n",
              "      <td>113</td>\n",
              "      <td>69</td>\n",
              "      <td>12</td>\n",
              "      <td>6</td>\n",
              "      <td>669</td>\n",
              "    </tr>\n",
              "  </tbody>\n",
              "</table>\n",
              "</div>"
            ],
            "text/plain": [
              "a3   0-5  6-10  11-15  16-20  21+  All\n",
              "a16                                   \n",
              "+    177    68     39      8    5  297\n",
              "-    292    45     30      4    1  372\n",
              "All  469   113     69     12    6  669"
            ]
          },
          "metadata": {
            "tags": []
          },
          "execution_count": 326
        }
      ]
    },
    {
      "cell_type": "code",
      "metadata": {
        "colab_type": "code",
        "outputId": "7752a94c-b482-4e8b-c960-40a709bef3fb",
        "id": "hdvtJUSy3sQn",
        "colab": {
          "base_uri": "https://localhost:8080/",
          "height": 52
        }
      },
      "source": [
        "row_sums = contingency_table.iloc[0:2, 5].values\n",
        "col_sums = contingency_table.iloc[2, 0:5].values\n",
        "print(row_sums)\n",
        "print(col_sums)"
      ],
      "execution_count": 327,
      "outputs": [
        {
          "output_type": "stream",
          "text": [
            "[297 372]\n",
            "[469 113  69  12   6]\n"
          ],
          "name": "stdout"
        }
      ]
    },
    {
      "cell_type": "code",
      "metadata": {
        "colab_type": "code",
        "outputId": "137640b4-31fc-47a7-ee6c-8e4835cf438e",
        "id": "H-fJYYnQ3sQp",
        "colab": {
          "base_uri": "https://localhost:8080/",
          "height": 34
        }
      },
      "source": [
        "total = contingency_table.loc['All', 'All']\n",
        "total"
      ],
      "execution_count": 328,
      "outputs": [
        {
          "output_type": "execute_result",
          "data": {
            "text/plain": [
              "669"
            ]
          },
          "metadata": {
            "tags": []
          },
          "execution_count": 328
        }
      ]
    },
    {
      "cell_type": "code",
      "metadata": {
        "colab_type": "code",
        "outputId": "626ce8cb-cbaf-494d-bfa3-6eb90ffc5f58",
        "id": "ksuRGYvv3sQr",
        "colab": {
          "base_uri": "https://localhost:8080/",
          "height": 70
        }
      },
      "source": [
        "expected = []\n",
        "for i in range(len(row_sums)):\n",
        "  expected_row = []\n",
        "  for column in col_sums:\n",
        "    expected_val = column * row_sums[i] / total\n",
        "    expected_row.append(expected_val)\n",
        "  expected.append(expected_row)\n",
        "  \n",
        "expected = np.array(expected)\n",
        "print(expected.shape)\n",
        "print(expected)"
      ],
      "execution_count": 329,
      "outputs": [
        {
          "output_type": "stream",
          "text": [
            "(2, 5)\n",
            "[[208.21076233  50.16591928  30.632287     5.32735426   2.66367713]\n",
            " [260.78923767  62.83408072  38.367713     6.67264574   3.33632287]]\n"
          ],
          "name": "stdout"
        }
      ]
    },
    {
      "cell_type": "code",
      "metadata": {
        "colab_type": "code",
        "outputId": "67c672f2-431a-4082-dcd2-0f9cc2872391",
        "id": "ofLdqPSY3sQt",
        "colab": {
          "base_uri": "https://localhost:8080/",
          "height": 70
        }
      },
      "source": [
        "observed =  pd.crosstab(df['a16'], df['a2']).values\n",
        "print(observed.shape)\n",
        "observed"
      ],
      "execution_count": 330,
      "outputs": [
        {
          "output_type": "stream",
          "text": [
            "(2, 6)\n"
          ],
          "name": "stdout"
        },
        {
          "output_type": "execute_result",
          "data": {
            "text/plain": [
              "array([[ 18, 126,  65,  58,  24,  11],\n",
              "       [ 45, 164, 101,  38,  18,   3]])"
            ]
          },
          "metadata": {
            "tags": []
          },
          "execution_count": 330
        }
      ]
    },
    {
      "cell_type": "code",
      "metadata": {
        "colab_type": "code",
        "outputId": "c72262c4-d66f-40ad-e93d-a5d7cca09f05",
        "id": "pTcXDZbA3sQv",
        "colab": {
          "base_uri": "https://localhost:8080/",
          "height": 87
        }
      },
      "source": [
        "chi_square, p_value, dof, expected = stats.chi2_contingency(observed)\n",
        "print(chi_square, p_value, dof, expected)"
      ],
      "execution_count": 331,
      "outputs": [
        {
          "output_type": "stream",
          "text": [
            "27.537748321598226 4.4809455846405305e-05 5 [[ 28.35469449 130.52160954  74.7123696   43.2071535   18.90312966\n",
            "    6.30104322]\n",
            " [ 34.64530551 159.47839046  91.2876304   52.7928465   23.09687034\n",
            "    7.69895678]]\n"
          ],
          "name": "stdout"
        }
      ]
    },
    {
      "cell_type": "markdown",
      "metadata": {
        "id": "lYNuKKw440Mx",
        "colab_type": "text"
      },
      "source": [
        "Again, there is a very small p-value and small chi squared number... it's safe to reject the null hypothesis. "
      ]
    },
    {
      "cell_type": "markdown",
      "metadata": {
        "id": "LuNJd4SB7LnZ",
        "colab_type": "text"
      },
      "source": [
        "#### Chi squared on feature 'a9'"
      ]
    },
    {
      "cell_type": "code",
      "metadata": {
        "id": "cSEnsI8E7KoA",
        "colab_type": "code",
        "colab": {
          "base_uri": "https://localhost:8080/",
          "height": 70
        },
        "outputId": "122def19-611b-437b-97b1-46fec404789e"
      },
      "source": [
        "observed =  pd.crosstab(df['a16'], df['a9']).values\n",
        "print(observed.shape)\n",
        "observed"
      ],
      "execution_count": 333,
      "outputs": [
        {
          "output_type": "stream",
          "text": [
            "(2, 2)\n"
          ],
          "name": "stdout"
        },
        {
          "output_type": "execute_result",
          "data": {
            "text/plain": [
              "array([[ 23, 284],\n",
              "       [306,  77]])"
            ]
          },
          "metadata": {
            "tags": []
          },
          "execution_count": 333
        }
      ]
    },
    {
      "cell_type": "code",
      "metadata": {
        "id": "tXEPhaVr7WXY",
        "colab_type": "code",
        "colab": {
          "base_uri": "https://localhost:8080/",
          "height": 167
        },
        "outputId": "df537a6d-73fe-49d4-cd63-1722474f8f7f"
      },
      "source": [
        "df = df.sort_values(by='a9', ascending=True)\n",
        "contingency_table = pd.crosstab(df['a16'], df['a9'], margins=True)\n",
        "contingency_table"
      ],
      "execution_count": 334,
      "outputs": [
        {
          "output_type": "execute_result",
          "data": {
            "text/html": [
              "<div>\n",
              "<style scoped>\n",
              "    .dataframe tbody tr th:only-of-type {\n",
              "        vertical-align: middle;\n",
              "    }\n",
              "\n",
              "    .dataframe tbody tr th {\n",
              "        vertical-align: top;\n",
              "    }\n",
              "\n",
              "    .dataframe thead th {\n",
              "        text-align: right;\n",
              "    }\n",
              "</style>\n",
              "<table border=\"1\" class=\"dataframe\">\n",
              "  <thead>\n",
              "    <tr style=\"text-align: right;\">\n",
              "      <th>a9</th>\n",
              "      <th>f</th>\n",
              "      <th>t</th>\n",
              "      <th>All</th>\n",
              "    </tr>\n",
              "    <tr>\n",
              "      <th>a16</th>\n",
              "      <th></th>\n",
              "      <th></th>\n",
              "      <th></th>\n",
              "    </tr>\n",
              "  </thead>\n",
              "  <tbody>\n",
              "    <tr>\n",
              "      <th>+</th>\n",
              "      <td>23</td>\n",
              "      <td>284</td>\n",
              "      <td>307</td>\n",
              "    </tr>\n",
              "    <tr>\n",
              "      <th>-</th>\n",
              "      <td>306</td>\n",
              "      <td>77</td>\n",
              "      <td>383</td>\n",
              "    </tr>\n",
              "    <tr>\n",
              "      <th>All</th>\n",
              "      <td>329</td>\n",
              "      <td>361</td>\n",
              "      <td>690</td>\n",
              "    </tr>\n",
              "  </tbody>\n",
              "</table>\n",
              "</div>"
            ],
            "text/plain": [
              "a9     f    t  All\n",
              "a16               \n",
              "+     23  284  307\n",
              "-    306   77  383\n",
              "All  329  361  690"
            ]
          },
          "metadata": {
            "tags": []
          },
          "execution_count": 334
        }
      ]
    },
    {
      "cell_type": "code",
      "metadata": {
        "id": "OBJkG4z67kmj",
        "colab_type": "code",
        "colab": {
          "base_uri": "https://localhost:8080/",
          "height": 52
        },
        "outputId": "505d1ce4-c4cc-4d6d-84b1-cf4ba59552d0"
      },
      "source": [
        "row_sums = contingency_table.iloc[0:2, 2].values\n",
        "col_sums = contingency_table.iloc[2, 0:2].values\n",
        "\n",
        "print(row_sums)\n",
        "print(col_sums)"
      ],
      "execution_count": 335,
      "outputs": [
        {
          "output_type": "stream",
          "text": [
            "[307 383]\n",
            "[329 361]\n"
          ],
          "name": "stdout"
        }
      ]
    },
    {
      "cell_type": "code",
      "metadata": {
        "id": "5m0JyzzJ7r-8",
        "colab_type": "code",
        "colab": {
          "base_uri": "https://localhost:8080/",
          "height": 34
        },
        "outputId": "9823bde9-3d21-4dd6-af20-66ba140f11e7"
      },
      "source": [
        "total = contingency_table.loc['All', 'All']\n",
        "total"
      ],
      "execution_count": 336,
      "outputs": [
        {
          "output_type": "execute_result",
          "data": {
            "text/plain": [
              "690"
            ]
          },
          "metadata": {
            "tags": []
          },
          "execution_count": 336
        }
      ]
    },
    {
      "cell_type": "code",
      "metadata": {
        "id": "gUBCkdi17sSd",
        "colab_type": "code",
        "colab": {
          "base_uri": "https://localhost:8080/",
          "height": 70
        },
        "outputId": "44ce99d3-004a-4e1e-d6c2-01d2a330924f"
      },
      "source": [
        "expected = []\n",
        "for i in range(len(row_sums)):\n",
        "  expected_row = []\n",
        "  for column in col_sums:\n",
        "    expected_val = column * row_sums[i] / total\n",
        "    expected_row.append(expected_val)\n",
        "  expected.append(expected_row)\n",
        "  \n",
        "expected = np.array(expected)\n",
        "print(expected.shape)\n",
        "print(expected)"
      ],
      "execution_count": 337,
      "outputs": [
        {
          "output_type": "stream",
          "text": [
            "(2, 2)\n",
            "[[146.38115942 160.61884058]\n",
            " [182.61884058 200.38115942]]\n"
          ],
          "name": "stdout"
        }
      ]
    },
    {
      "cell_type": "code",
      "metadata": {
        "id": "TAIgdGhc7uMl",
        "colab_type": "code",
        "colab": {
          "base_uri": "https://localhost:8080/",
          "height": 52
        },
        "outputId": "6ef017c3-6bf4-4455-ba77-0c7d221a4add"
      },
      "source": [
        "chi_square, p_value, dof, expected = stats.chi2_contingency(observed)\n",
        "print(chi_square, p_value, dof, expected)"
      ],
      "execution_count": 338,
      "outputs": [
        {
          "output_type": "stream",
          "text": [
            "355.2038167412799 3.1185900878457007e-79 1 [[146.38115942 160.61884058]\n",
            " [182.61884058 200.38115942]]\n"
          ],
          "name": "stdout"
        }
      ]
    },
    {
      "cell_type": "markdown",
      "metadata": {
        "id": "pxZ0tcPA7113",
        "colab_type": "text"
      },
      "source": [
        "This chi squared test verges a bit higher and we can likely reject the null hypothesis, which is corroborated by the p-value "
      ]
    },
    {
      "cell_type": "markdown",
      "metadata": {
        "id": "w5ysq-l68M6r",
        "colab_type": "text"
      },
      "source": [
        "#### Chi squared on feature 'a10'"
      ]
    },
    {
      "cell_type": "code",
      "metadata": {
        "id": "7mZFwoHu7ypx",
        "colab_type": "code",
        "colab": {}
      },
      "source": [
        ""
      ],
      "execution_count": 0,
      "outputs": []
    },
    {
      "cell_type": "code",
      "metadata": {
        "colab_type": "code",
        "outputId": "5a1401fc-378d-4786-cf66-ee4626e9f36d",
        "id": "0b4t6H_g8PQ4",
        "colab": {
          "base_uri": "https://localhost:8080/",
          "height": 70
        }
      },
      "source": [
        "observed =  pd.crosstab(df['a16'], df['a10']).values\n",
        "print(observed.shape)\n",
        "observed"
      ],
      "execution_count": 339,
      "outputs": [
        {
          "output_type": "stream",
          "text": [
            "(2, 2)\n"
          ],
          "name": "stdout"
        },
        {
          "output_type": "execute_result",
          "data": {
            "text/plain": [
              "array([[ 98, 209],\n",
              "       [297,  86]])"
            ]
          },
          "metadata": {
            "tags": []
          },
          "execution_count": 339
        }
      ]
    },
    {
      "cell_type": "code",
      "metadata": {
        "colab_type": "code",
        "outputId": "5d7ea7e2-daf5-4dbb-edb2-94d50b4f6604",
        "id": "BtekTyF98PQ8",
        "colab": {
          "base_uri": "https://localhost:8080/",
          "height": 167
        }
      },
      "source": [
        "df = df.sort_values(by='a10', ascending=True)\n",
        "contingency_table = pd.crosstab(df['a16'], df['a10'], margins=True)\n",
        "contingency_table"
      ],
      "execution_count": 340,
      "outputs": [
        {
          "output_type": "execute_result",
          "data": {
            "text/html": [
              "<div>\n",
              "<style scoped>\n",
              "    .dataframe tbody tr th:only-of-type {\n",
              "        vertical-align: middle;\n",
              "    }\n",
              "\n",
              "    .dataframe tbody tr th {\n",
              "        vertical-align: top;\n",
              "    }\n",
              "\n",
              "    .dataframe thead th {\n",
              "        text-align: right;\n",
              "    }\n",
              "</style>\n",
              "<table border=\"1\" class=\"dataframe\">\n",
              "  <thead>\n",
              "    <tr style=\"text-align: right;\">\n",
              "      <th>a10</th>\n",
              "      <th>f</th>\n",
              "      <th>t</th>\n",
              "      <th>All</th>\n",
              "    </tr>\n",
              "    <tr>\n",
              "      <th>a16</th>\n",
              "      <th></th>\n",
              "      <th></th>\n",
              "      <th></th>\n",
              "    </tr>\n",
              "  </thead>\n",
              "  <tbody>\n",
              "    <tr>\n",
              "      <th>+</th>\n",
              "      <td>98</td>\n",
              "      <td>209</td>\n",
              "      <td>307</td>\n",
              "    </tr>\n",
              "    <tr>\n",
              "      <th>-</th>\n",
              "      <td>297</td>\n",
              "      <td>86</td>\n",
              "      <td>383</td>\n",
              "    </tr>\n",
              "    <tr>\n",
              "      <th>All</th>\n",
              "      <td>395</td>\n",
              "      <td>295</td>\n",
              "      <td>690</td>\n",
              "    </tr>\n",
              "  </tbody>\n",
              "</table>\n",
              "</div>"
            ],
            "text/plain": [
              "a10    f    t  All\n",
              "a16               \n",
              "+     98  209  307\n",
              "-    297   86  383\n",
              "All  395  295  690"
            ]
          },
          "metadata": {
            "tags": []
          },
          "execution_count": 340
        }
      ]
    },
    {
      "cell_type": "code",
      "metadata": {
        "colab_type": "code",
        "outputId": "143bab40-b32e-446f-f0cb-1c10c1041ede",
        "id": "k7-zyMt08PQ-",
        "colab": {
          "base_uri": "https://localhost:8080/",
          "height": 52
        }
      },
      "source": [
        "row_sums = contingency_table.iloc[0:2, 2].values\n",
        "col_sums = contingency_table.iloc[2, 0:2].values\n",
        "\n",
        "print(row_sums)\n",
        "print(col_sums)"
      ],
      "execution_count": 341,
      "outputs": [
        {
          "output_type": "stream",
          "text": [
            "[307 383]\n",
            "[395 295]\n"
          ],
          "name": "stdout"
        }
      ]
    },
    {
      "cell_type": "code",
      "metadata": {
        "colab_type": "code",
        "outputId": "1ce8cced-7505-4fa1-b2f1-ec399860820d",
        "id": "Cy5GVyck8PRB",
        "colab": {
          "base_uri": "https://localhost:8080/",
          "height": 34
        }
      },
      "source": [
        "total = contingency_table.loc['All', 'All']\n",
        "total"
      ],
      "execution_count": 342,
      "outputs": [
        {
          "output_type": "execute_result",
          "data": {
            "text/plain": [
              "690"
            ]
          },
          "metadata": {
            "tags": []
          },
          "execution_count": 342
        }
      ]
    },
    {
      "cell_type": "code",
      "metadata": {
        "colab_type": "code",
        "outputId": "fd1ad518-1e4c-42b7-bf07-a603fc80d142",
        "id": "s3LmuyLY8PRC",
        "colab": {
          "base_uri": "https://localhost:8080/",
          "height": 70
        }
      },
      "source": [
        "expected = []\n",
        "for i in range(len(row_sums)):\n",
        "  expected_row = []\n",
        "  for column in col_sums:\n",
        "    expected_val = column * row_sums[i] / total\n",
        "    expected_row.append(expected_val)\n",
        "  expected.append(expected_row)\n",
        "  \n",
        "expected = np.array(expected)\n",
        "print(expected.shape)\n",
        "print(expected)"
      ],
      "execution_count": 343,
      "outputs": [
        {
          "output_type": "stream",
          "text": [
            "(2, 2)\n",
            "[[175.74637681 131.25362319]\n",
            " [219.25362319 163.74637681]]\n"
          ],
          "name": "stdout"
        }
      ]
    },
    {
      "cell_type": "code",
      "metadata": {
        "colab_type": "code",
        "outputId": "a28fb19d-1da4-42e8-ef6f-1ce55242e517",
        "id": "YPwQhz_I8PRG",
        "colab": {
          "base_uri": "https://localhost:8080/",
          "height": 52
        }
      },
      "source": [
        "chi_square, p_value, dof, expected = stats.chi2_contingency(observed)\n",
        "print(chi_square, p_value, dof, expected)"
      ],
      "execution_count": 344,
      "outputs": [
        {
          "output_type": "stream",
          "text": [
            "143.06956205083145 5.675727374527571e-33 1 [[175.74637681 131.25362319]\n",
            " [219.25362319 163.74637681]]\n"
          ],
          "name": "stdout"
        }
      ]
    },
    {
      "cell_type": "markdown",
      "metadata": {
        "id": "ViRw7d7T8cNb",
        "colab_type": "text"
      },
      "source": [
        "The same can go for this one. Though the value is not as high, it still has a small, almost non-existent p-value, thus we can probably reject. "
      ]
    },
    {
      "cell_type": "markdown",
      "metadata": {
        "id": "ZM8JckA2bgnp",
        "colab_type": "text"
      },
      "source": [
        "## Part 3 - Analysis and Interpretation\n",
        "\n",
        "Now that you've looked at the data, answer the following questions:\n",
        "\n",
        "- Interpret and explain the two t-tests you ran - what do they tell you about the relationships between the continuous features you selected and the class labels?\n",
        "- Interpret and explain the two Chi-squared tests you ran - what do they tell you about the relationships between the categorical features you selected and the class labels?\n",
        "- What was the most challenging part of this sprint challenge?\n",
        "\n",
        "Answer with text, but feel free to intersperse example code/results or refer to it from earlier."
      ]
    },
    {
      "cell_type": "markdown",
      "metadata": {
        "id": "FyfBMCj19og2",
        "colab_type": "text"
      },
      "source": [
        "### *First I want to note that I ran a mode comparison for every column using separated approved and denied data sets. This allowed me to specifically target features that I saw differed, since I figured that those that had different modes were more likely to be contributors to approval or denial.*"
      ]
    },
    {
      "cell_type": "code",
      "metadata": {
        "id": "fqlSro1L9roe",
        "colab_type": "code",
        "colab": {}
      },
      "source": [
        "# here is the code I used for that: \n",
        "\n",
        "# finding the most common value in each column\n",
        "for feat in approved.columns:\n",
        "  print(feat)\n",
        "  print(approved[feat].mode().values)\n",
        "  print(denied[feat].mode().values)\n",
        "#   if approved[feat].mode().values != denied[feat].mode().values:\n",
        "#         print('examine this column')\n",
        "  print('-------------\\n\\n')\n",
        "  \n",
        "# the idea in doing this is to see if the approved and denied values \n",
        "# differ at all in the mode. This may point me in the direction as to why \n",
        "# certain cases get approved or denied"
      ],
      "execution_count": 0,
      "outputs": []
    },
    {
      "cell_type": "markdown",
      "metadata": {
        "id": "LIozLDNG2Uhu",
        "colab_type": "text"
      },
      "source": [
        "\n",
        "\n",
        "1: I actually ran several t-tests but I'll focus on a2 and a3 features... <br><br>\n",
        "\n",
        "a2<br>\n",
        "T-Stat: 4.431342274884706<br>\n",
        "P Value: 1.0894771975697794e-05<br>\n",
        "Confidence: 99.99998910522802%<br>\n",
        "REJECT null hypothesis<br>\n",
        "\n",
        "-----------------------<br><br>\n",
        "\n",
        "a3<br>\n",
        "T-Stat: 5.52998337614816<br>\n",
        "P Value: 4.551680702308068e-08<br>\n",
        "Confidence: 99.99999995448319%<br>\n",
        "REJECT null hypothesis<br><br>\n",
        "\n",
        "\n",
        "This is showing me that the values are containing the p-value within a chosen 95% confidence interval, meaning that the null-hypothesis can be rejected. \n"
      ]
    },
    {
      "cell_type": "code",
      "metadata": {
        "id": "gqrq7kK6-BUC",
        "colab_type": "code",
        "colab": {}
      },
      "source": [
        "# This is the code I used \n",
        "\n",
        "# looping through each column \n",
        "\n",
        "n = 1\n",
        "for feat in ['a2', 'a3', 'a8', 'a14', 'a15']:\n",
        "\n",
        "  # printing out the t-stats\n",
        "  tstat, pvalue = ttest_ind(approved[feat], denied[feat])\n",
        "  print(approved.columns.values[n])\n",
        "  print('T-Stat: ' + str(tstat))\n",
        "  print('P Value: ' + str(pvalue))\n",
        "  print('Confidence: ' + str(100 - pvalue) + '%')\n",
        "  n += 1\n",
        "  \n",
        "  # testing if the p-value is within the extremes\n",
        "  if (pvalue <= 0.05):\n",
        "    print('REJECT null hypothesis')\n",
        "  else: \n",
        "    print('FAIL TO REJECT null hypothesis')\n",
        "  print('\\n\\n-----------------------\\n')\n",
        "  \n",
        "  # I'm really not sure if this is getting me what I want to see or if this is \n",
        "  # actually getting me the right values... I'm going to dig further"
      ],
      "execution_count": 0,
      "outputs": []
    },
    {
      "cell_type": "markdown",
      "metadata": {
        "id": "vMcuU8cK65ND",
        "colab_type": "text"
      },
      "source": [
        "**2: My tests were run on a9 and a10, both of which my initial value sorter picked out as having a potential to be a determiner in approval or denial based on the mode.**\n",
        "\n",
        "The values were as follows: \n",
        "\n",
        "\n",
        "**a9:**<br>\n",
        "$\\chi^{2}$ 355.2038167412799 <br>\n",
        "p- value: 3.1185900878457007e-79 <br>\n",
        "1 [[146.38115942 160.61884058]<br>\n",
        " [182.61884058 200.38115942]]<br><br>\n",
        " \n",
        " \n",
        "**a10:**<br>\n",
        "$\\chi^{2}$ 143.06956205083145 <br>\n",
        "p- value: 5.675727374527571e-33 <br>\n",
        "1 [[175.74637681 131.25362319]<br>\n",
        " [219.25362319 163.74637681]]<br><br>\n",
        " \n",
        " Both of these were showing me that they were likely determiners in approval or rejection, thus rejecting the null hypothesis that they had no effect. a10 is a lower number, however, so it could still fail to reject with further analysis. "
      ]
    },
    {
      "cell_type": "code",
      "metadata": {
        "id": "grOmC102-N29",
        "colab_type": "code",
        "colab": {}
      },
      "source": [
        "# Here is the code I used for the chi squared tests\n",
        "# This particular one is for feature 'a10'"
      ],
      "execution_count": 0,
      "outputs": []
    },
    {
      "cell_type": "code",
      "metadata": {
        "colab_type": "code",
        "outputId": "5a1401fc-378d-4786-cf66-ee4626e9f36d",
        "id": "mcYom_85-R6f",
        "colab": {
          "base_uri": "https://localhost:8080/",
          "height": 70
        }
      },
      "source": [
        "observed =  pd.crosstab(df['a16'], df['a10']).values\n",
        "print(observed.shape)\n",
        "observed"
      ],
      "execution_count": 0,
      "outputs": [
        {
          "output_type": "stream",
          "text": [
            "(2, 2)\n"
          ],
          "name": "stdout"
        },
        {
          "output_type": "execute_result",
          "data": {
            "text/plain": [
              "array([[ 98, 209],\n",
              "       [297,  86]])"
            ]
          },
          "metadata": {
            "tags": []
          },
          "execution_count": 339
        }
      ]
    },
    {
      "cell_type": "code",
      "metadata": {
        "colab_type": "code",
        "outputId": "5d7ea7e2-daf5-4dbb-edb2-94d50b4f6604",
        "id": "_fuLtCT3-R6i",
        "colab": {
          "base_uri": "https://localhost:8080/",
          "height": 167
        }
      },
      "source": [
        "df = df.sort_values(by='a10', ascending=True)\n",
        "contingency_table = pd.crosstab(df['a16'], df['a10'], margins=True)\n",
        "contingency_table"
      ],
      "execution_count": 0,
      "outputs": [
        {
          "output_type": "execute_result",
          "data": {
            "text/html": [
              "<div>\n",
              "<style scoped>\n",
              "    .dataframe tbody tr th:only-of-type {\n",
              "        vertical-align: middle;\n",
              "    }\n",
              "\n",
              "    .dataframe tbody tr th {\n",
              "        vertical-align: top;\n",
              "    }\n",
              "\n",
              "    .dataframe thead th {\n",
              "        text-align: right;\n",
              "    }\n",
              "</style>\n",
              "<table border=\"1\" class=\"dataframe\">\n",
              "  <thead>\n",
              "    <tr style=\"text-align: right;\">\n",
              "      <th>a10</th>\n",
              "      <th>f</th>\n",
              "      <th>t</th>\n",
              "      <th>All</th>\n",
              "    </tr>\n",
              "    <tr>\n",
              "      <th>a16</th>\n",
              "      <th></th>\n",
              "      <th></th>\n",
              "      <th></th>\n",
              "    </tr>\n",
              "  </thead>\n",
              "  <tbody>\n",
              "    <tr>\n",
              "      <th>+</th>\n",
              "      <td>98</td>\n",
              "      <td>209</td>\n",
              "      <td>307</td>\n",
              "    </tr>\n",
              "    <tr>\n",
              "      <th>-</th>\n",
              "      <td>297</td>\n",
              "      <td>86</td>\n",
              "      <td>383</td>\n",
              "    </tr>\n",
              "    <tr>\n",
              "      <th>All</th>\n",
              "      <td>395</td>\n",
              "      <td>295</td>\n",
              "      <td>690</td>\n",
              "    </tr>\n",
              "  </tbody>\n",
              "</table>\n",
              "</div>"
            ],
            "text/plain": [
              "a10    f    t  All\n",
              "a16               \n",
              "+     98  209  307\n",
              "-    297   86  383\n",
              "All  395  295  690"
            ]
          },
          "metadata": {
            "tags": []
          },
          "execution_count": 340
        }
      ]
    },
    {
      "cell_type": "code",
      "metadata": {
        "colab_type": "code",
        "outputId": "143bab40-b32e-446f-f0cb-1c10c1041ede",
        "id": "nPmcLf-5-R6n",
        "colab": {
          "base_uri": "https://localhost:8080/",
          "height": 52
        }
      },
      "source": [
        "row_sums = contingency_table.iloc[0:2, 2].values\n",
        "col_sums = contingency_table.iloc[2, 0:2].values\n",
        "\n",
        "print(row_sums)\n",
        "print(col_sums)"
      ],
      "execution_count": 0,
      "outputs": [
        {
          "output_type": "stream",
          "text": [
            "[307 383]\n",
            "[395 295]\n"
          ],
          "name": "stdout"
        }
      ]
    },
    {
      "cell_type": "code",
      "metadata": {
        "colab_type": "code",
        "outputId": "1ce8cced-7505-4fa1-b2f1-ec399860820d",
        "id": "Sjf37eCj-R6p",
        "colab": {
          "base_uri": "https://localhost:8080/",
          "height": 34
        }
      },
      "source": [
        "total = contingency_table.loc['All', 'All']\n",
        "total"
      ],
      "execution_count": 0,
      "outputs": [
        {
          "output_type": "execute_result",
          "data": {
            "text/plain": [
              "690"
            ]
          },
          "metadata": {
            "tags": []
          },
          "execution_count": 342
        }
      ]
    },
    {
      "cell_type": "code",
      "metadata": {
        "colab_type": "code",
        "outputId": "fd1ad518-1e4c-42b7-bf07-a603fc80d142",
        "id": "d2QwX6We-R6t",
        "colab": {
          "base_uri": "https://localhost:8080/",
          "height": 70
        }
      },
      "source": [
        "expected = []\n",
        "for i in range(len(row_sums)):\n",
        "  expected_row = []\n",
        "  for column in col_sums:\n",
        "    expected_val = column * row_sums[i] / total\n",
        "    expected_row.append(expected_val)\n",
        "  expected.append(expected_row)\n",
        "  \n",
        "expected = np.array(expected)\n",
        "print(expected.shape)\n",
        "print(expected)"
      ],
      "execution_count": 0,
      "outputs": [
        {
          "output_type": "stream",
          "text": [
            "(2, 2)\n",
            "[[175.74637681 131.25362319]\n",
            " [219.25362319 163.74637681]]\n"
          ],
          "name": "stdout"
        }
      ]
    },
    {
      "cell_type": "code",
      "metadata": {
        "colab_type": "code",
        "outputId": "a28fb19d-1da4-42e8-ef6f-1ce55242e517",
        "id": "CfdBR9Pg-R6v",
        "colab": {
          "base_uri": "https://localhost:8080/",
          "height": 52
        }
      },
      "source": [
        "chi_square, p_value, dof, expected = stats.chi2_contingency(observed)\n",
        "print(chi_square, p_value, dof, expected)"
      ],
      "execution_count": 0,
      "outputs": [
        {
          "output_type": "stream",
          "text": [
            "143.06956205083145 5.675727374527571e-33 1 [[175.74637681 131.25362319]\n",
            " [219.25362319 163.74637681]]\n"
          ],
          "name": "stdout"
        }
      ]
    },
    {
      "cell_type": "markdown",
      "metadata": {
        "id": "My2IYrhp86eC",
        "colab_type": "text"
      },
      "source": [
        "**The most challenging thing about this unit and this sprint was understanding the underlying statistics and what the values mean. It really feels like the definitions are quite convoluted and though they have specific use, I'm going to need to read, listen, and code some more in order to understand them more deeply. The code wasn't as hard as some other units, but the underlying ideas absolutely were.**"
      ]
    }
  ]
}