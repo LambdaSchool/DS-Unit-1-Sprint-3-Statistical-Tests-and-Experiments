{
  "nbformat": 4,
  "nbformat_minor": 0,
  "metadata": {
    "colab": {
      "name": "Hira DS3:CC4.ipynb",
      "version": "0.3.2",
      "provenance": [],
      "include_colab_link": true
    },
    "kernelspec": {
      "name": "python3",
      "display_name": "Python 3"
    }
  },
  "cells": [
    {
      "cell_type": "markdown",
      "metadata": {
        "id": "view-in-github",
        "colab_type": "text"
      },
      "source": [
        "<a href=\"https://colab.research.google.com/github/Hira63S/DS-Unit-1-Sprint-4-Statistical-Tests-and-Experiments/blob/master/Hira_DS3_CC4.ipynb\" target=\"_parent\"><img src=\"https://colab.research.google.com/assets/colab-badge.svg\" alt=\"Open In Colab\"/></a>"
      ]
    },
    {
      "metadata": {
        "id": "qcTKCzKiu7cc",
        "colab_type": "text"
      },
      "cell_type": "markdown",
      "source": [
        "###Lecture Content###\n",
        "- Get heights from people"
      ]
    },
    {
      "metadata": {
        "id": "GFYqg8YIu76v",
        "colab_type": "code",
        "colab": {}
      },
      "cell_type": "code",
      "source": [
        "import random\n",
        "random.seed(10)\n",
        "#dir(random)"
      ],
      "execution_count": 0,
      "outputs": []
    },
    {
      "metadata": {
        "id": "JREWpEAWzya2",
        "colab_type": "code",
        "colab": {}
      },
      "cell_type": "code",
      "source": [
        "population = [] "
      ],
      "execution_count": 0,
      "outputs": []
    },
    {
      "metadata": {
        "id": "Lkabbfesu73j",
        "colab_type": "code",
        "outputId": "796aa85e-238d-4a4f-cef8-c02994558872",
        "colab": {
          "base_uri": "https://localhost:8080/",
          "height": 70
        }
      },
      "cell_type": "code",
      "source": [
        "for _ in range(1000):\n",
        "  population.append(random.randint(0,1))\n",
        "  \n",
        "print(population)\n",
        "print(len(population))"
      ],
      "execution_count": 0,
      "outputs": [
        {
          "output_type": "stream",
          "text": [
            "[1, 0, 1, 0, 1, 1, 0, 0, 1, 1, 1, 0, 1, 1, 1, 1, 1, 1, 1, 1, 0, 1, 1, 1, 1, 0, 0, 1, 0, 1, 1, 1, 0, 1, 1, 0, 1, 0, 1, 0, 1, 0, 1, 0, 1, 1, 1, 0, 0, 0, 0, 1, 0, 1, 0, 1, 1, 0, 0, 0, 1, 1, 1, 1, 0, 0, 0, 1, 0, 1, 1, 1, 0, 0, 0, 1, 1, 1, 1, 0, 1, 0, 1, 1, 1, 1, 1, 0, 1, 0, 0, 1, 1, 1, 0, 1, 1, 0, 1, 0, 1, 0, 1, 0, 1, 0, 1, 0, 1, 1, 1, 1, 1, 0, 0, 0, 1, 1, 1, 0, 0, 1, 0, 1, 1, 1, 1, 0, 0, 0, 0, 1, 1, 1, 1, 0, 0, 1, 1, 0, 1, 1, 0, 0, 1, 0, 0, 1, 0, 1, 0, 0, 0, 1, 0, 0, 1, 0, 1, 1, 0, 1, 1, 1, 0, 0, 1, 1, 0, 1, 0, 1, 0, 0, 1, 1, 1, 0, 1, 0, 0, 0, 0, 1, 0, 1, 0, 1, 0, 1, 0, 1, 0, 1, 0, 0, 1, 1, 1, 0, 0, 1, 1, 1, 0, 0, 0, 0, 1, 1, 1, 0, 0, 1, 1, 1, 1, 0, 1, 1, 0, 1, 0, 0, 0, 1, 0, 1, 1, 0, 0, 0, 1, 0, 1, 1, 1, 1, 1, 0, 0, 0, 0, 1, 0, 0, 0, 1, 0, 1, 0, 1, 0, 0, 1, 0, 0, 0, 1, 0, 1, 1, 1, 1, 0, 0, 0, 1, 1, 0, 0, 1, 1, 1, 0, 1, 1, 1, 0, 1, 0, 1, 0, 0, 1, 1, 0, 1, 1, 0, 1, 1, 1, 1, 0, 0, 0, 0, 1, 1, 1, 1, 1, 1, 1, 1, 1, 1, 1, 0, 1, 1, 0, 0, 0, 1, 0, 0, 1, 1, 1, 1, 0, 0, 1, 1, 1, 0, 1, 1, 1, 1, 0, 0, 1, 1, 1, 1, 0, 0, 1, 1, 1, 1, 0, 1, 0, 0, 1, 0, 1, 1, 0, 1, 0, 0, 1, 1, 1, 1, 0, 1, 1, 1, 0, 0, 1, 1, 1, 0, 0, 0, 1, 1, 0, 1, 0, 0, 1, 1, 1, 0, 1, 0, 1, 1, 0, 0, 0, 0, 1, 0, 1, 0, 0, 1, 0, 0, 0, 0, 0, 1, 1, 0, 0, 1, 1, 0, 1, 0, 1, 1, 1, 0, 1, 1, 1, 1, 1, 1, 0, 0, 0, 1, 0, 0, 0, 0, 1, 0, 0, 1, 1, 1, 0, 1, 1, 0, 0, 0, 0, 0, 0, 0, 1, 1, 0, 1, 1, 0, 1, 0, 1, 0, 0, 1, 1, 1, 1, 0, 1, 0, 0, 1, 1, 1, 0, 1, 1, 0, 1, 0, 1, 0, 1, 0, 1, 0, 0, 0, 0, 1, 1, 0, 1, 1, 1, 0, 0, 0, 0, 0, 0, 0, 0, 0, 1, 0, 0, 0, 1, 0, 0, 0, 0, 1, 1, 1, 0, 0, 1, 0, 0, 1, 1, 0, 0, 1, 0, 1, 0, 1, 1, 1, 1, 0, 1, 0, 1, 0, 1, 1, 0, 0, 1, 0, 1, 0, 0, 0, 0, 1, 0, 1, 1, 0, 1, 1, 1, 0, 1, 1, 1, 1, 1, 0, 0, 1, 1, 1, 0, 0, 0, 1, 1, 1, 1, 0, 1, 0, 1, 0, 1, 0, 1, 1, 1, 1, 1, 0, 1, 0, 0, 0, 1, 1, 1, 1, 1, 1, 0, 1, 1, 1, 1, 1, 1, 1, 1, 0, 0, 0, 0, 1, 1, 1, 0, 1, 1, 1, 1, 0, 0, 1, 0, 0, 1, 0, 0, 0, 0, 1, 1, 1, 1, 0, 0, 1, 0, 1, 1, 0, 0, 0, 1, 0, 0, 0, 1, 1, 0, 1, 1, 0, 1, 1, 1, 0, 0, 0, 0, 0, 1, 1, 1, 1, 1, 0, 1, 0, 0, 0, 0, 0, 0, 0, 0, 0, 0, 1, 0, 0, 1, 1, 1, 0, 0, 1, 0, 0, 1, 1, 0, 1, 1, 1, 0, 0, 0, 0, 0, 0, 1, 0, 1, 1, 1, 0, 0, 0, 1, 0, 0, 0, 1, 0, 1, 0, 0, 0, 1, 0, 1, 1, 1, 0, 0, 1, 1, 0, 1, 0, 1, 0, 0, 1, 0, 1, 0, 1, 0, 1, 1, 1, 0, 0, 0, 0, 0, 0, 0, 0, 1, 1, 0, 1, 1, 1, 0, 0, 0, 0, 0, 1, 0, 0, 1, 1, 1, 0, 1, 0, 1, 0, 1, 1, 0, 1, 0, 1, 0, 0, 1, 1, 0, 1, 1, 1, 1, 1, 1, 0, 0, 1, 0, 1, 1, 0, 0, 1, 0, 0, 1, 0, 0, 0, 0, 0, 1, 0, 0, 1, 0, 1, 1, 1, 1, 0, 1, 0, 0, 1, 0, 0, 1, 0, 1, 1, 1, 0, 0, 1, 0, 1, 1, 0, 1, 1, 1, 0, 1, 1, 1, 0, 0, 1, 0, 1, 0, 1, 0, 1, 1, 0, 0, 0, 0, 0, 0, 0, 0, 0, 1, 1, 1, 1, 1, 0, 1, 1, 1, 1, 1, 0, 1, 1, 1, 1, 1, 1, 0, 0, 1, 1, 0, 1, 1, 1, 0, 0, 0, 0, 1, 1, 0, 1, 0, 1, 1, 1, 0, 0, 1, 0, 0, 1, 0, 1, 0, 0, 0, 0, 1, 1, 0, 1, 0, 1, 0, 1, 1, 1, 0, 0, 0, 1, 1, 1, 0, 1, 1, 1, 1, 1, 0, 0, 0, 0, 0, 0, 0, 1, 0, 1, 1, 1, 0, 0, 0, 1, 0, 0, 0, 1, 0, 0, 1, 1, 1, 0, 0, 0, 1, 1, 0, 0, 0, 1, 1, 1, 1, 1, 0, 0, 0, 1, 0, 0, 0, 1, 1, 0, 0, 1, 0, 1, 0, 0, 0, 0, 1, 1, 1, 1, 1, 0, 1, 1, 0, 1, 1, 0, 0, 0, 0, 0, 1, 1, 1, 0]\n",
            "1000\n"
          ],
          "name": "stdout"
        }
      ]
    },
    {
      "metadata": {
        "id": "zenvUbosz7fP",
        "colab_type": "code",
        "colab": {}
      },
      "cell_type": "code",
      "source": [
        "sample = random.sample(population, 100)\n",
        "#sample"
      ],
      "execution_count": 0,
      "outputs": []
    },
    {
      "metadata": {
        "id": "BxrrXwTj04qh",
        "colab_type": "code",
        "colab": {}
      },
      "cell_type": "code",
      "source": [
        "import statistics as stats"
      ],
      "execution_count": 0,
      "outputs": []
    },
    {
      "metadata": {
        "id": "Fhwv5ypa0w2O",
        "colab_type": "code",
        "outputId": "b6ab655e-3e0e-4821-e36a-a431cb14adf3",
        "colab": {
          "base_uri": "https://localhost:8080/",
          "height": 34
        }
      },
      "cell_type": "code",
      "source": [
        "import numpy as np\n",
        "def mean(list):\n",
        "  average = np.sum(list)/len(list)\n",
        "  return average\n",
        "\n",
        "mean(population)\n",
        "  "
      ],
      "execution_count": 0,
      "outputs": [
        {
          "output_type": "execute_result",
          "data": {
            "text/plain": [
              "0.523"
            ]
          },
          "metadata": {
            "tags": []
          },
          "execution_count": 21
        }
      ]
    },
    {
      "metadata": {
        "id": "vOBozZIt1QJC",
        "colab_type": "code",
        "outputId": "a71a9505-a7ff-4961-cf9a-2e96da316297",
        "colab": {
          "base_uri": "https://localhost:8080/",
          "height": 50
        }
      },
      "cell_type": "code",
      "source": [
        "print('Population Mean:', mean(population))\n",
        "print('Sample Mean:', mean(sample))"
      ],
      "execution_count": 0,
      "outputs": [
        {
          "output_type": "stream",
          "text": [
            "Population Mean: 0.523\n",
            "Sample Mean: 0.52\n"
          ],
          "name": "stdout"
        }
      ]
    },
    {
      "metadata": {
        "id": "OIwKc3BU1HFu",
        "colab_type": "code",
        "outputId": "64307eb8-b483-4a7f-ddc6-973bf03a07fe",
        "colab": {
          "base_uri": "https://localhost:8080/",
          "height": 34
        }
      },
      "cell_type": "code",
      "source": [
        "np.mean(population)"
      ],
      "execution_count": 0,
      "outputs": [
        {
          "output_type": "execute_result",
          "data": {
            "text/plain": [
              "0.523"
            ]
          },
          "metadata": {
            "tags": []
          },
          "execution_count": 18
        }
      ]
    },
    {
      "metadata": {
        "id": "PlplyvX20UDu",
        "colab_type": "code",
        "outputId": "89267385-1fa4-4950-dfd0-f0f6117cfcf5",
        "colab": {
          "base_uri": "https://localhost:8080/",
          "height": 34
        }
      },
      "cell_type": "code",
      "source": [
        "import scipy\n",
        "\n",
        "print(stats.mean(population))"
      ],
      "execution_count": 0,
      "outputs": [
        {
          "output_type": "stream",
          "text": [
            "0.523\n"
          ],
          "name": "stdout"
        }
      ]
    },
    {
      "metadata": {
        "id": "748Nbe9ru7v9",
        "colab_type": "code",
        "outputId": "4ec8874e-bcaa-4f3a-c5a0-127c251215c3",
        "colab": {
          "base_uri": "https://localhost:8080/",
          "height": 195
        }
      },
      "cell_type": "code",
      "source": [
        "import pandas as pd\n",
        "\n",
        "df = pd.DataFrame({'likes_coke':sample})\n",
        "\n",
        "df.head()\n",
        "\n",
        "\n"
      ],
      "execution_count": 0,
      "outputs": [
        {
          "output_type": "execute_result",
          "data": {
            "text/html": [
              "<div>\n",
              "<style scoped>\n",
              "    .dataframe tbody tr th:only-of-type {\n",
              "        vertical-align: middle;\n",
              "    }\n",
              "\n",
              "    .dataframe tbody tr th {\n",
              "        vertical-align: top;\n",
              "    }\n",
              "\n",
              "    .dataframe thead th {\n",
              "        text-align: right;\n",
              "    }\n",
              "</style>\n",
              "<table border=\"1\" class=\"dataframe\">\n",
              "  <thead>\n",
              "    <tr style=\"text-align: right;\">\n",
              "      <th></th>\n",
              "      <th>likes_coke</th>\n",
              "    </tr>\n",
              "  </thead>\n",
              "  <tbody>\n",
              "    <tr>\n",
              "      <th>0</th>\n",
              "      <td>0</td>\n",
              "    </tr>\n",
              "    <tr>\n",
              "      <th>1</th>\n",
              "      <td>0</td>\n",
              "    </tr>\n",
              "    <tr>\n",
              "      <th>2</th>\n",
              "      <td>1</td>\n",
              "    </tr>\n",
              "    <tr>\n",
              "      <th>3</th>\n",
              "      <td>1</td>\n",
              "    </tr>\n",
              "    <tr>\n",
              "      <th>4</th>\n",
              "      <td>1</td>\n",
              "    </tr>\n",
              "  </tbody>\n",
              "</table>\n",
              "</div>"
            ],
            "text/plain": [
              "   likes_coke\n",
              "0           0\n",
              "1           0\n",
              "2           1\n",
              "3           1\n",
              "4           1"
            ]
          },
          "metadata": {
            "tags": []
          },
          "execution_count": 34
        }
      ]
    },
    {
      "metadata": {
        "id": "e82EWLtu2C7q",
        "colab_type": "code",
        "outputId": "1e0a830d-737f-4efb-9ea6-7918d6fd8deb",
        "colab": {
          "base_uri": "https://localhost:8080/",
          "height": 364
        }
      },
      "cell_type": "code",
      "source": [
        "df.plot.hist()"
      ],
      "execution_count": 0,
      "outputs": [
        {
          "output_type": "execute_result",
          "data": {
            "text/plain": [
              "<matplotlib.axes._subplots.AxesSubplot at 0x7fd8e86b3470>"
            ]
          },
          "metadata": {
            "tags": []
          },
          "execution_count": 32
        },
        {
          "output_type": "display_data",
          "data": {
            "image/png": "[encoded data removed]",
            "text/plain": [
              "<Figure size 576x396 with 1 Axes>"
            ]
          },
          "metadata": {
            "tags": []
          }
        }
      ]
    },
    {
      "metadata": {
        "id": "JrMnu0C32hB_",
        "colab_type": "code",
        "outputId": "c920dfff-1b0f-4073-be13-4e231c102870",
        "colab": {
          "base_uri": "https://localhost:8080/",
          "height": 34
        }
      },
      "cell_type": "code",
      "source": [
        "scipy.stats.ttest_1samp(df['likes_coke'], 0.5)"
      ],
      "execution_count": 0,
      "outputs": [
        {
          "output_type": "execute_result",
          "data": {
            "text/plain": [
              "Ttest_1sampResult(statistic=0.39831375340784614, pvalue=0.6912566363051549)"
            ]
          },
          "metadata": {
            "tags": []
          },
          "execution_count": 47
        }
      ]
    },
    {
      "metadata": {
        "id": "V8DW2Fg96nos",
        "colab_type": "code",
        "outputId": "ec0a0935-793e-47e3-de9a-47cc5fcf9cc0",
        "colab": {
          "base_uri": "https://localhost:8080/",
          "height": 50
        }
      },
      "cell_type": "code",
      "source": [
        "def variance(list):\n",
        "  n = len(list)\n",
        "  print(np.sum((list - mean(list))**2)/(n-1))\n",
        "\n",
        "variance(df.likes_coke)\n",
        "df.likes_coke.var()"
      ],
      "execution_count": 0,
      "outputs": [
        {
          "output_type": "stream",
          "text": [
            "0.2521212121212121\n"
          ],
          "name": "stdout"
        },
        {
          "output_type": "execute_result",
          "data": {
            "text/plain": [
              "0.25212121212121186"
            ]
          },
          "metadata": {
            "tags": []
          },
          "execution_count": 44
        }
      ]
    },
    {
      "metadata": {
        "id": "4vZVdSS09rRd",
        "colab_type": "code",
        "colab": {}
      },
      "cell_type": "code",
      "source": [
        "def stddev(list):\n",
        "  var = variance(list)\n",
        "  return var**(1/2)\n",
        "\n",
        "stddev(df.likes_coke)"
      ],
      "execution_count": 0,
      "outputs": []
    },
    {
      "metadata": {
        "id": "5hG6JtKh_CfT",
        "colab_type": "code",
        "colab": {}
      },
      "cell_type": "code",
      "source": [
        "n = len(df.likes_coke)"
      ],
      "execution_count": 0,
      "outputs": []
    },
    {
      "metadata": {
        "id": "Goxam5FK-2vn",
        "colab_type": "code",
        "colab": {}
      },
      "cell_type": "code",
      "source": [
        "t_stat = (mean(df.likes_coke) - mean(population))/(stddev(df.likes_coke)/len(df.likes_coke)/n**(1/2))"
      ],
      "execution_count": 0,
      "outputs": []
    },
    {
      "metadata": {
        "id": "zu2q0HngC2Fd",
        "colab_type": "code",
        "colab": {}
      },
      "cell_type": "code",
      "source": [
        "scipy.stats.ttest_2samp()"
      ],
      "execution_count": 0,
      "outputs": []
    },
    {
      "metadata": {
        "id": "-qiR9nro8NRl",
        "colab_type": "text"
      },
      "cell_type": "markdown",
      "source": [
        "#Degrees of freedom:\n",
        "- "
      ]
    },
    {
      "metadata": {
        "id": "mR54aOu9JBrl",
        "colab_type": "code",
        "colab": {}
      },
      "cell_type": "code",
      "source": [
        "import pandas as pd"
      ],
      "execution_count": 0,
      "outputs": []
    },
    {
      "metadata": {
        "id": "9ApaMU94JDLe",
        "colab_type": "code",
        "colab": {}
      },
      "cell_type": "code",
      "source": [
        "real_estate = pd.read_csv('https://github.com/pierretd/data-dump/raw/master/before-hours/Real_Estate_Valuation.csv')"
      ],
      "execution_count": 0,
      "outputs": []
    },
    {
      "metadata": {
        "id": "onAcjoQmJPew",
        "colab_type": "code",
        "outputId": "b70a3b88-effb-49c6-a599-0fd18817e263",
        "colab": {
          "base_uri": "https://localhost:8080/",
          "height": 235
        }
      },
      "cell_type": "code",
      "source": [
        "real_estate.info()"
      ],
      "execution_count": 0,
      "outputs": [
        {
          "output_type": "stream",
          "text": [
            "<class 'pandas.core.frame.DataFrame'>\n",
            "RangeIndex: 414 entries, 0 to 413\n",
            "Data columns (total 8 columns):\n",
            "No           414 non-null int64\n",
            "Date         414 non-null float64\n",
            "Age          414 non-null float64\n",
            "Metro        414 non-null float64\n",
            "Stores       414 non-null int64\n",
            "Latitude     414 non-null float64\n",
            "Longitude    414 non-null float64\n",
            "Price        414 non-null float64\n",
            "dtypes: float64(6), int64(2)\n",
            "memory usage: 26.0 KB\n"
          ],
          "name": "stdout"
        }
      ]
    },
    {
      "metadata": {
        "id": "-yEwTW1LJQ7w",
        "colab_type": "code",
        "outputId": "530fcb19-7e68-4195-f89a-75c53a6df668",
        "colab": {
          "base_uri": "https://localhost:8080/",
          "height": 195
        }
      },
      "cell_type": "code",
      "source": [
        "real_estate.head()"
      ],
      "execution_count": 0,
      "outputs": [
        {
          "output_type": "execute_result",
          "data": {
            "text/html": [
              "<div>\n",
              "<style scoped>\n",
              "    .dataframe tbody tr th:only-of-type {\n",
              "        vertical-align: middle;\n",
              "    }\n",
              "\n",
              "    .dataframe tbody tr th {\n",
              "        vertical-align: top;\n",
              "    }\n",
              "\n",
              "    .dataframe thead th {\n",
              "        text-align: right;\n",
              "    }\n",
              "</style>\n",
              "<table border=\"1\" class=\"dataframe\">\n",
              "  <thead>\n",
              "    <tr style=\"text-align: right;\">\n",
              "      <th></th>\n",
              "      <th>No</th>\n",
              "      <th>Date</th>\n",
              "      <th>Age</th>\n",
              "      <th>Metro</th>\n",
              "      <th>Stores</th>\n",
              "      <th>Latitude</th>\n",
              "      <th>Longitude</th>\n",
              "      <th>Price</th>\n",
              "    </tr>\n",
              "  </thead>\n",
              "  <tbody>\n",
              "    <tr>\n",
              "      <th>0</th>\n",
              "      <td>1</td>\n",
              "      <td>2012.917</td>\n",
              "      <td>32.0</td>\n",
              "      <td>84.87882</td>\n",
              "      <td>10</td>\n",
              "      <td>24.98298</td>\n",
              "      <td>121.54024</td>\n",
              "      <td>37.9</td>\n",
              "    </tr>\n",
              "    <tr>\n",
              "      <th>1</th>\n",
              "      <td>2</td>\n",
              "      <td>2012.917</td>\n",
              "      <td>19.5</td>\n",
              "      <td>306.59470</td>\n",
              "      <td>9</td>\n",
              "      <td>24.98034</td>\n",
              "      <td>121.53951</td>\n",
              "      <td>42.2</td>\n",
              "    </tr>\n",
              "    <tr>\n",
              "      <th>2</th>\n",
              "      <td>3</td>\n",
              "      <td>2013.583</td>\n",
              "      <td>13.3</td>\n",
              "      <td>561.98450</td>\n",
              "      <td>5</td>\n",
              "      <td>24.98746</td>\n",
              "      <td>121.54391</td>\n",
              "      <td>47.3</td>\n",
              "    </tr>\n",
              "    <tr>\n",
              "      <th>3</th>\n",
              "      <td>4</td>\n",
              "      <td>2013.500</td>\n",
              "      <td>13.3</td>\n",
              "      <td>561.98450</td>\n",
              "      <td>5</td>\n",
              "      <td>24.98746</td>\n",
              "      <td>121.54391</td>\n",
              "      <td>54.8</td>\n",
              "    </tr>\n",
              "    <tr>\n",
              "      <th>4</th>\n",
              "      <td>5</td>\n",
              "      <td>2012.833</td>\n",
              "      <td>5.0</td>\n",
              "      <td>390.56840</td>\n",
              "      <td>5</td>\n",
              "      <td>24.97937</td>\n",
              "      <td>121.54245</td>\n",
              "      <td>43.1</td>\n",
              "    </tr>\n",
              "  </tbody>\n",
              "</table>\n",
              "</div>"
            ],
            "text/plain": [
              "   No      Date   Age      Metro  Stores  Latitude  Longitude  Price\n",
              "0   1  2012.917  32.0   84.87882      10  24.98298  121.54024   37.9\n",
              "1   2  2012.917  19.5  306.59470       9  24.98034  121.53951   42.2\n",
              "2   3  2013.583  13.3  561.98450       5  24.98746  121.54391   47.3\n",
              "3   4  2013.500  13.3  561.98450       5  24.98746  121.54391   54.8\n",
              "4   5  2012.833   5.0  390.56840       5  24.97937  121.54245   43.1"
            ]
          },
          "metadata": {
            "tags": []
          },
          "execution_count": 103
        }
      ]
    },
    {
      "metadata": {
        "id": "ZSpBcfvht-ob",
        "colab_type": "code",
        "colab": {}
      },
      "cell_type": "code",
      "source": [
        ""
      ],
      "execution_count": 0,
      "outputs": []
    },
    {
      "metadata": {
        "id": "irik3Wp4Jgjg",
        "colab_type": "code",
        "outputId": "ec68ada3-081d-45df-c56a-c999324ca1a8",
        "colab": {
          "base_uri": "https://localhost:8080/",
          "height": 34
        }
      },
      "cell_type": "code",
      "source": [
        "real_estate.Age.min()"
      ],
      "execution_count": 0,
      "outputs": [
        {
          "output_type": "execute_result",
          "data": {
            "text/plain": [
              "0.0"
            ]
          },
          "metadata": {
            "tags": []
          },
          "execution_count": 104
        }
      ]
    },
    {
      "metadata": {
        "id": "EtpUeWvFU3f9",
        "colab_type": "code",
        "outputId": "2ebd35b6-b911-4277-d259-1913e32b6aca",
        "colab": {
          "base_uri": "https://localhost:8080/",
          "height": 168
        }
      },
      "cell_type": "code",
      "source": [
        "real_estate.min()"
      ],
      "execution_count": 0,
      "outputs": [
        {
          "output_type": "execute_result",
          "data": {
            "text/plain": [
              "No              1.00000\n",
              "Date         2012.66700\n",
              "Age             0.00000\n",
              "Metro          23.38284\n",
              "Stores          0.00000\n",
              "Latitude       24.93207\n",
              "Longitude     121.47353\n",
              "Price           7.60000\n",
              "dtype: float64"
            ]
          },
          "metadata": {
            "tags": []
          },
          "execution_count": 105
        }
      ]
    },
    {
      "metadata": {
        "id": "MYveZIaOJlLl",
        "colab_type": "code",
        "outputId": "ce5213b9-8107-4b7e-9b2d-ab01496b7996",
        "colab": {
          "base_uri": "https://localhost:8080/",
          "height": 34
        }
      },
      "cell_type": "code",
      "source": [
        "real_estate.Stores.max()"
      ],
      "execution_count": 0,
      "outputs": [
        {
          "output_type": "execute_result",
          "data": {
            "text/plain": [
              "10"
            ]
          },
          "metadata": {
            "tags": []
          },
          "execution_count": 106
        }
      ]
    },
    {
      "metadata": {
        "id": "YmT8d3FcJm0c",
        "colab_type": "code",
        "outputId": "4e5176ea-3f10-4f45-fe6e-2866830f85ab",
        "colab": {
          "base_uri": "https://localhost:8080/",
          "height": 34
        }
      },
      "cell_type": "code",
      "source": [
        "real_estate.Longitude.median()"
      ],
      "execution_count": 0,
      "outputs": [
        {
          "output_type": "execute_result",
          "data": {
            "text/plain": [
              "121.53863"
            ]
          },
          "metadata": {
            "tags": []
          },
          "execution_count": 107
        }
      ]
    },
    {
      "metadata": {
        "id": "hC5UKEpxJqME",
        "colab_type": "code",
        "outputId": "7202cc29-3a2c-4d98-e8e0-a7c67bac1048",
        "colab": {
          "base_uri": "https://localhost:8080/",
          "height": 34
        }
      },
      "cell_type": "code",
      "source": [
        "real_estate.Metro.var()"
      ],
      "execution_count": 0,
      "outputs": [
        {
          "output_type": "execute_result",
          "data": {
            "text/plain": [
              "1592920.6308205703"
            ]
          },
          "metadata": {
            "tags": []
          },
          "execution_count": 108
        }
      ]
    },
    {
      "metadata": {
        "id": "sXuZJ0z3JuLh",
        "colab_type": "code",
        "outputId": "96f7d2fa-04c7-43bb-875f-1c5b749aba9f",
        "colab": {
          "base_uri": "https://localhost:8080/",
          "height": 34
        }
      },
      "cell_type": "code",
      "source": [
        "real_estate.Stores.std()"
      ],
      "execution_count": 0,
      "outputs": [
        {
          "output_type": "execute_result",
          "data": {
            "text/plain": [
              "2.945561805663617"
            ]
          },
          "metadata": {
            "tags": []
          },
          "execution_count": 109
        }
      ]
    },
    {
      "metadata": {
        "id": "ehAY4_3EJytx",
        "colab_type": "code",
        "outputId": "3ad6fa9a-6a5a-47b9-c9e9-f17816aa35eb",
        "colab": {
          "base_uri": "https://localhost:8080/",
          "height": 34
        }
      },
      "cell_type": "code",
      "source": [
        "real_estate.Latitude.skew()"
      ],
      "execution_count": 0,
      "outputs": [
        {
          "output_type": "execute_result",
          "data": {
            "text/plain": [
              "-0.4385984450391146"
            ]
          },
          "metadata": {
            "tags": []
          },
          "execution_count": 110
        }
      ]
    },
    {
      "metadata": {
        "id": "_7wz4ERpJ5PL",
        "colab_type": "code",
        "outputId": "dc258fbb-e687-48a5-c7ae-2b395125eb56",
        "colab": {
          "base_uri": "https://localhost:8080/",
          "height": 34
        }
      },
      "cell_type": "code",
      "source": [
        "real_estate.Price.kurt()"
      ],
      "execution_count": 0,
      "outputs": [
        {
          "output_type": "execute_result",
          "data": {
            "text/plain": [
              "2.1790970477396163"
            ]
          },
          "metadata": {
            "tags": []
          },
          "execution_count": 111
        }
      ]
    },
    {
      "metadata": {
        "id": "1wk95YS1J6xp",
        "colab_type": "code",
        "outputId": "a5c6acb0-23b9-40ed-a4e6-c90a1a1b93b1",
        "colab": {
          "base_uri": "https://localhost:8080/",
          "height": 304
        }
      },
      "cell_type": "code",
      "source": [
        "real_estate.corr()"
      ],
      "execution_count": 0,
      "outputs": [
        {
          "output_type": "execute_result",
          "data": {
            "text/html": [
              "<div>\n",
              "<style scoped>\n",
              "    .dataframe tbody tr th:only-of-type {\n",
              "        vertical-align: middle;\n",
              "    }\n",
              "\n",
              "    .dataframe tbody tr th {\n",
              "        vertical-align: top;\n",
              "    }\n",
              "\n",
              "    .dataframe thead th {\n",
              "        text-align: right;\n",
              "    }\n",
              "</style>\n",
              "<table border=\"1\" class=\"dataframe\">\n",
              "  <thead>\n",
              "    <tr style=\"text-align: right;\">\n",
              "      <th></th>\n",
              "      <th>No</th>\n",
              "      <th>Date</th>\n",
              "      <th>Age</th>\n",
              "      <th>Metro</th>\n",
              "      <th>Stores</th>\n",
              "      <th>Latitude</th>\n",
              "      <th>Longitude</th>\n",
              "      <th>Price</th>\n",
              "    </tr>\n",
              "  </thead>\n",
              "  <tbody>\n",
              "    <tr>\n",
              "      <th>No</th>\n",
              "      <td>1.000000</td>\n",
              "      <td>-0.048658</td>\n",
              "      <td>-0.032808</td>\n",
              "      <td>-0.013573</td>\n",
              "      <td>-0.012699</td>\n",
              "      <td>-0.010110</td>\n",
              "      <td>-0.011059</td>\n",
              "      <td>-0.028587</td>\n",
              "    </tr>\n",
              "    <tr>\n",
              "      <th>Date</th>\n",
              "      <td>-0.048658</td>\n",
              "      <td>1.000000</td>\n",
              "      <td>0.017549</td>\n",
              "      <td>0.060880</td>\n",
              "      <td>0.009635</td>\n",
              "      <td>0.035058</td>\n",
              "      <td>-0.041082</td>\n",
              "      <td>0.087491</td>\n",
              "    </tr>\n",
              "    <tr>\n",
              "      <th>Age</th>\n",
              "      <td>-0.032808</td>\n",
              "      <td>0.017549</td>\n",
              "      <td>1.000000</td>\n",
              "      <td>0.025622</td>\n",
              "      <td>0.049593</td>\n",
              "      <td>0.054420</td>\n",
              "      <td>-0.048520</td>\n",
              "      <td>-0.210567</td>\n",
              "    </tr>\n",
              "    <tr>\n",
              "      <th>Metro</th>\n",
              "      <td>-0.013573</td>\n",
              "      <td>0.060880</td>\n",
              "      <td>0.025622</td>\n",
              "      <td>1.000000</td>\n",
              "      <td>-0.602519</td>\n",
              "      <td>-0.591067</td>\n",
              "      <td>-0.806317</td>\n",
              "      <td>-0.673613</td>\n",
              "    </tr>\n",
              "    <tr>\n",
              "      <th>Stores</th>\n",
              "      <td>-0.012699</td>\n",
              "      <td>0.009635</td>\n",
              "      <td>0.049593</td>\n",
              "      <td>-0.602519</td>\n",
              "      <td>1.000000</td>\n",
              "      <td>0.444143</td>\n",
              "      <td>0.449099</td>\n",
              "      <td>0.571005</td>\n",
              "    </tr>\n",
              "    <tr>\n",
              "      <th>Latitude</th>\n",
              "      <td>-0.010110</td>\n",
              "      <td>0.035058</td>\n",
              "      <td>0.054420</td>\n",
              "      <td>-0.591067</td>\n",
              "      <td>0.444143</td>\n",
              "      <td>1.000000</td>\n",
              "      <td>0.412924</td>\n",
              "      <td>0.546307</td>\n",
              "    </tr>\n",
              "    <tr>\n",
              "      <th>Longitude</th>\n",
              "      <td>-0.011059</td>\n",
              "      <td>-0.041082</td>\n",
              "      <td>-0.048520</td>\n",
              "      <td>-0.806317</td>\n",
              "      <td>0.449099</td>\n",
              "      <td>0.412924</td>\n",
              "      <td>1.000000</td>\n",
              "      <td>0.523287</td>\n",
              "    </tr>\n",
              "    <tr>\n",
              "      <th>Price</th>\n",
              "      <td>-0.028587</td>\n",
              "      <td>0.087491</td>\n",
              "      <td>-0.210567</td>\n",
              "      <td>-0.673613</td>\n",
              "      <td>0.571005</td>\n",
              "      <td>0.546307</td>\n",
              "      <td>0.523287</td>\n",
              "      <td>1.000000</td>\n",
              "    </tr>\n",
              "  </tbody>\n",
              "</table>\n",
              "</div>"
            ],
            "text/plain": [
              "                 No      Date       Age     Metro    Stores  Latitude  \\\n",
              "No         1.000000 -0.048658 -0.032808 -0.013573 -0.012699 -0.010110   \n",
              "Date      -0.048658  1.000000  0.017549  0.060880  0.009635  0.035058   \n",
              "Age       -0.032808  0.017549  1.000000  0.025622  0.049593  0.054420   \n",
              "Metro     -0.013573  0.060880  0.025622  1.000000 -0.602519 -0.591067   \n",
              "Stores    -0.012699  0.009635  0.049593 -0.602519  1.000000  0.444143   \n",
              "Latitude  -0.010110  0.035058  0.054420 -0.591067  0.444143  1.000000   \n",
              "Longitude -0.011059 -0.041082 -0.048520 -0.806317  0.449099  0.412924   \n",
              "Price     -0.028587  0.087491 -0.210567 -0.673613  0.571005  0.546307   \n",
              "\n",
              "           Longitude     Price  \n",
              "No         -0.011059 -0.028587  \n",
              "Date       -0.041082  0.087491  \n",
              "Age        -0.048520 -0.210567  \n",
              "Metro      -0.806317 -0.673613  \n",
              "Stores      0.449099  0.571005  \n",
              "Latitude    0.412924  0.546307  \n",
              "Longitude   1.000000  0.523287  \n",
              "Price       0.523287  1.000000  "
            ]
          },
          "metadata": {
            "tags": []
          },
          "execution_count": 112
        }
      ]
    },
    {
      "metadata": {
        "id": "crYJl6q2KBTv",
        "colab_type": "code",
        "outputId": "8b0a225f-50f6-4407-9ba9-aa1f81a9762f",
        "colab": {
          "base_uri": "https://localhost:8080/",
          "height": 304
        }
      },
      "cell_type": "code",
      "source": [
        "real_estate.cov()"
      ],
      "execution_count": 0,
      "outputs": [
        {
          "output_type": "execute_result",
          "data": {
            "text/html": [
              "<div>\n",
              "<style scoped>\n",
              "    .dataframe tbody tr th:only-of-type {\n",
              "        vertical-align: middle;\n",
              "    }\n",
              "\n",
              "    .dataframe tbody tr th {\n",
              "        vertical-align: top;\n",
              "    }\n",
              "\n",
              "    .dataframe thead th {\n",
              "        text-align: right;\n",
              "    }\n",
              "</style>\n",
              "<table border=\"1\" class=\"dataframe\">\n",
              "  <thead>\n",
              "    <tr style=\"text-align: right;\">\n",
              "      <th></th>\n",
              "      <th>No</th>\n",
              "      <th>Date</th>\n",
              "      <th>Age</th>\n",
              "      <th>Metro</th>\n",
              "      <th>Stores</th>\n",
              "      <th>Latitude</th>\n",
              "      <th>Longitude</th>\n",
              "      <th>Price</th>\n",
              "    </tr>\n",
              "  </thead>\n",
              "  <tbody>\n",
              "    <tr>\n",
              "      <th>No</th>\n",
              "      <td>14317.500000</td>\n",
              "      <td>-1.641671</td>\n",
              "      <td>-44.723245</td>\n",
              "      <td>-2.049851e+03</td>\n",
              "      <td>-4.475787</td>\n",
              "      <td>-0.015012</td>\n",
              "      <td>-0.020309</td>\n",
              "      <td>-46.542615</td>\n",
              "    </tr>\n",
              "    <tr>\n",
              "      <th>Date</th>\n",
              "      <td>-1.641671</td>\n",
              "      <td>0.079506</td>\n",
              "      <td>0.056372</td>\n",
              "      <td>2.166557e+01</td>\n",
              "      <td>0.008003</td>\n",
              "      <td>0.000123</td>\n",
              "      <td>-0.000178</td>\n",
              "      <td>0.335665</td>\n",
              "    </tr>\n",
              "    <tr>\n",
              "      <th>Age</th>\n",
              "      <td>-44.723245</td>\n",
              "      <td>0.056372</td>\n",
              "      <td>129.788704</td>\n",
              "      <td>3.684082e+02</td>\n",
              "      <td>1.664189</td>\n",
              "      <td>0.007694</td>\n",
              "      <td>-0.008483</td>\n",
              "      <td>-32.640356</td>\n",
              "    </tr>\n",
              "    <tr>\n",
              "      <th>Metro</th>\n",
              "      <td>-2049.850694</td>\n",
              "      <td>21.665566</td>\n",
              "      <td>368.408249</td>\n",
              "      <td>1.592921e+06</td>\n",
              "      <td>-2239.938319</td>\n",
              "      <td>-9.257892</td>\n",
              "      <td>-15.618216</td>\n",
              "      <td>-11567.871845</td>\n",
              "    </tr>\n",
              "    <tr>\n",
              "      <th>Stores</th>\n",
              "      <td>-4.475787</td>\n",
              "      <td>0.008003</td>\n",
              "      <td>1.664189</td>\n",
              "      <td>-2.239938e+03</td>\n",
              "      <td>8.676334</td>\n",
              "      <td>0.016236</td>\n",
              "      <td>0.020302</td>\n",
              "      <td>22.885163</td>\n",
              "    </tr>\n",
              "    <tr>\n",
              "      <th>Latitude</th>\n",
              "      <td>-0.015012</td>\n",
              "      <td>0.000123</td>\n",
              "      <td>0.007694</td>\n",
              "      <td>-9.257892e+00</td>\n",
              "      <td>0.016236</td>\n",
              "      <td>0.000154</td>\n",
              "      <td>0.000079</td>\n",
              "      <td>0.092249</td>\n",
              "    </tr>\n",
              "    <tr>\n",
              "      <th>Longitude</th>\n",
              "      <td>-0.020309</td>\n",
              "      <td>-0.000178</td>\n",
              "      <td>-0.008483</td>\n",
              "      <td>-1.561822e+01</td>\n",
              "      <td>0.020302</td>\n",
              "      <td>0.000079</td>\n",
              "      <td>0.000236</td>\n",
              "      <td>0.109273</td>\n",
              "    </tr>\n",
              "    <tr>\n",
              "      <th>Price</th>\n",
              "      <td>-46.542615</td>\n",
              "      <td>0.335665</td>\n",
              "      <td>-32.640356</td>\n",
              "      <td>-1.156787e+04</td>\n",
              "      <td>22.885163</td>\n",
              "      <td>0.092249</td>\n",
              "      <td>0.109273</td>\n",
              "      <td>185.136507</td>\n",
              "    </tr>\n",
              "  </tbody>\n",
              "</table>\n",
              "</div>"
            ],
            "text/plain": [
              "                     No       Date         Age         Metro       Stores  \\\n",
              "No         14317.500000  -1.641671  -44.723245 -2.049851e+03    -4.475787   \n",
              "Date          -1.641671   0.079506    0.056372  2.166557e+01     0.008003   \n",
              "Age          -44.723245   0.056372  129.788704  3.684082e+02     1.664189   \n",
              "Metro      -2049.850694  21.665566  368.408249  1.592921e+06 -2239.938319   \n",
              "Stores        -4.475787   0.008003    1.664189 -2.239938e+03     8.676334   \n",
              "Latitude      -0.015012   0.000123    0.007694 -9.257892e+00     0.016236   \n",
              "Longitude     -0.020309  -0.000178   -0.008483 -1.561822e+01     0.020302   \n",
              "Price        -46.542615   0.335665  -32.640356 -1.156787e+04    22.885163   \n",
              "\n",
              "           Latitude  Longitude         Price  \n",
              "No        -0.015012  -0.020309    -46.542615  \n",
              "Date       0.000123  -0.000178      0.335665  \n",
              "Age        0.007694  -0.008483    -32.640356  \n",
              "Metro     -9.257892 -15.618216 -11567.871845  \n",
              "Stores     0.016236   0.020302     22.885163  \n",
              "Latitude   0.000154   0.000079      0.092249  \n",
              "Longitude  0.000079   0.000236      0.109273  \n",
              "Price      0.092249   0.109273    185.136507  "
            ]
          },
          "metadata": {
            "tags": []
          },
          "execution_count": 113
        }
      ]
    },
    {
      "metadata": {
        "id": "r5sc6VopLLR3",
        "colab_type": "code",
        "colab": {}
      },
      "cell_type": "code",
      "source": [
        "import numpy as np"
      ],
      "execution_count": 0,
      "outputs": []
    },
    {
      "metadata": {
        "id": "gpLH-cQ5Plrg",
        "colab_type": "code",
        "colab": {}
      },
      "cell_type": "code",
      "source": [
        "X = real_estate['Latitude'].values[:, np.newaxis]\n",
        "y = real_estate['Price'].values"
      ],
      "execution_count": 0,
      "outputs": []
    },
    {
      "metadata": {
        "id": "Q8_HkEa2PwyN",
        "colab_type": "code",
        "outputId": "ac04415c-7969-4fe9-b5a9-849320d7d409",
        "colab": {
          "base_uri": "https://localhost:8080/",
          "height": 34
        }
      },
      "cell_type": "code",
      "source": [
        "X.shape"
      ],
      "execution_count": 0,
      "outputs": [
        {
          "output_type": "execute_result",
          "data": {
            "text/plain": [
              "(414, 1)"
            ]
          },
          "metadata": {
            "tags": []
          },
          "execution_count": 116
        }
      ]
    },
    {
      "metadata": {
        "id": "ZqBBah3lQC7l",
        "colab_type": "code",
        "outputId": "aad213d3-5f7e-4a02-8e8d-79a3ecf87e46",
        "colab": {
          "base_uri": "https://localhost:8080/",
          "height": 34
        }
      },
      "cell_type": "code",
      "source": [
        "y.shape"
      ],
      "execution_count": 0,
      "outputs": [
        {
          "output_type": "execute_result",
          "data": {
            "text/plain": [
              "(414,)"
            ]
          },
          "metadata": {
            "tags": []
          },
          "execution_count": 117
        }
      ]
    },
    {
      "metadata": {
        "id": "8-KWSAfRQiqB",
        "colab_type": "code",
        "outputId": "d51c2711-b6bc-4876-c9b2-eff9984a6bda",
        "colab": {
          "base_uri": "https://localhost:8080/",
          "height": 50
        }
      },
      "cell_type": "code",
      "source": [
        "from sklearn.linear_model import LinearRegression\n",
        "\n",
        "model = LinearRegression()\n",
        "model.fit(X, y)"
      ],
      "execution_count": 0,
      "outputs": [
        {
          "output_type": "execute_result",
          "data": {
            "text/plain": [
              "LinearRegression(copy_X=True, fit_intercept=True, n_jobs=None,\n",
              "         normalize=False)"
            ]
          },
          "metadata": {
            "tags": []
          },
          "execution_count": 118
        }
      ]
    },
    {
      "metadata": {
        "id": "STvRBdQPQll9",
        "colab_type": "code",
        "outputId": "12e66fa3-ae10-4be1-bbd3-3f8e09181dec",
        "colab": {
          "base_uri": "https://localhost:8080/",
          "height": 67
        }
      },
      "cell_type": "code",
      "source": [
        "print(\"Slope Coefficient: \", model.coef_[0])\n",
        "print(\"\\nIntercept Value: \", model.intercept_)"
      ],
      "execution_count": 0,
      "outputs": [
        {
          "output_type": "stream",
          "text": [
            "Slope Coefficient:  598.9683315896156\n",
            "\n",
            "Intercept Value:  -14917.678090677844\n"
          ],
          "name": "stdout"
        }
      ]
    },
    {
      "metadata": {
        "id": "I1OJWCexQo1F",
        "colab_type": "code",
        "outputId": "32d152ae-7118-48b5-e7a6-9325b68d8745",
        "colab": {
          "base_uri": "https://localhost:8080/",
          "height": 376
        }
      },
      "cell_type": "code",
      "source": [
        "import matplotlib.pyplot as plt\n",
        "\n",
        "m_hat = model.coef_[0]\n",
        "b_hat = model.intercept_\n",
        "\n",
        "# Plot the points\n",
        "plt.scatter(real_estate.Latitude, real_estate.Price)\n",
        "\n",
        "# Plot the line\n",
        "y_hat = [m_hat*x + b_hat for x in X]\n",
        "plt.plot(X, y_hat)\n",
        "\n",
        "# Graph axes and title\n",
        "plt.ylabel(\"Price\")\n",
        "plt.xlabel(\"Latitude\")\n",
        "plt.title(\"Price vs Latitude\")\n",
        "plt.show();"
      ],
      "execution_count": 0,
      "outputs": [
        {
          "output_type": "display_data",
          "data": {
            "image/png": "[encoded data removed]",
            "text/plain": [
              "<Figure size 576x396 with 1 Axes>"
            ]
          },
          "metadata": {
            "tags": []
          }
        }
      ]
    },
    {
      "metadata": {
        "id": "uXchp-DoQqrN",
        "colab_type": "code",
        "outputId": "e4ef80ca-a3bc-4748-ad1c-434029b4e6f0",
        "colab": {
          "base_uri": "https://localhost:8080/",
          "height": 413
        }
      },
      "cell_type": "code",
      "source": [
        "# Make a single prediction for a latitude of 24.97\n",
        "x_value = 24.97\n",
        "\n",
        "# Plug our temperature into our equation (model)\n",
        "prediction = m_hat*x_value + b_hat\n",
        "print(\"Prediction\", y_hat)\n",
        "\n",
        "# Plot the points\n",
        "plt.scatter(df.Latitude, df.Price)\n",
        "\n",
        "# Plot the line\n",
        "y_hat = [m_hat*x + b_hat for x in X]\n",
        "plt.plot(X, y_hat)\n",
        "plt.plot(x_value, prediction, 'ro')\n",
        "\n",
        "# Graph axes and title\n",
        "plt.ylabel(\"Price\")\n",
        "plt.xlabel(\"Latitude\")\n",
        "plt.title(\"Price vs Latitude\")\n",
        "plt.show();"
      ],
      "execution_count": 0,
      "outputs": [
        {
          "output_type": "stream",
          "text": [
            "Prediction [array([46.33575806]), array([44.75448166]), array([49.01913618]), array([49.01913618]), array([44.17348238]), array([34.39831921]), array([44.14952365]), array([44.80239913]), array([27.1508024]), array([36.9499243]), array([40.65154859]), array([41.15468199]), array([35.65615271]), array([33.2183516]), array([51.47490634]), array([45.98835643]), array([43.0174735]), array([41.81953684]), array([37.06372829]), array([37.19550132]), array([34.45222636]), array([41.72370191]), array([27.80367788]), array([41.72370191]), array([40.67550733]), array([41.80755747]), array([45.05995551]), array([30.13366469]), array([41.07082642]), array([41.93334082]), array([25.53957759]), array([46.23393344]), array([40.65154859]), array([43.59847278]), array([47.06050974]), array([65.26914702]), array([34.88348356]), array([27.80367788]), array([39.76507546]), array([45.76673814]), array([21.52050008]), array([22.37103511]), array([34.39831921]), array([49.03111555]), array([41.22655819]), array([38.65099436]), array([38.74083961]), array([41.93334082]), array([24.68904256]), array([26.13255623]), array([40.95702244]), array([28.98963518]), array([41.07082642]), array([35.65615271]), array([45.76673814]), array([26.39011262]), array([40.08252868]), array([31.03810687]), array([26.13255623]), array([31.22977674]), array([34.75770021]), array([42.06511385]), array([34.38633984]), array([41.22655819]), array([34.39831921]), array([42.36459802]), array([35.99157497]), array([36.60851235]), array([44.33520383]), array([49.01913618]), array([41.15468199]), array([41.93334082]), array([42.07709322]), array([21.52050008]), array([46.60529381]), array([27.80367788]), array([42.89169015]), array([34.50014383]), array([42.14297974]), array([27.67190485]), array([41.22655819]), array([35.12906057]), array([36.9139862]), array([32.90688806]), array([36.97388304]), array([37.68066567]), array([27.30054448]), array([22.37103511]), array([47.98292097]), array([25.2820212]), array([41.43619711]), array([47.95896224]), array([33.2183516]), array([26.10260782]), array([36.34496629]), array([36.60851235]), array([41.15468199]), array([43.02945287]), array([45.76673814]), array([41.15468199]), array([49.77383628]), array([40.78332163]), array([35.99157497]), array([30.28340677]), array([34.95535976]), array([43.0174735]), array([42.79585522]), array([27.80367788]), array([40.11846678]), array([34.36238111]), array([36.60851235]), array([42.75991712]), array([32.83501186]), array([33.60169133]), array([45.47923334]), array([45.1018833]), array([22.83823041]), array([19.90328559]), array([36.29704882]), array([45.76673814]), array([35.65615271]), array([35.65615271]), array([45.74277941]), array([39.22001428]), array([41.72370191]), array([35.99157497]), array([43.58050373]), array([45.05995551]), array([36.60851235]), array([45.0659452]), array([45.1018833]), array([34.36238111]), array([41.15468199]), array([48.50402342]), array([36.18923452]), array([34.70978274]), array([44.17348238]), array([35.53635904]), array([43.61045215]), array([35.65615271]), array([45.76673814]), array([39.83695166]), array([38.66297373]), array([35.65615271]), array([27.80367788]), array([41.93334082]), array([39.22001428]), array([38.66297373]), array([16.35739306]), array([40.65154859]), array([36.8780481]), array([45.25761506]), array([27.80367788]), array([29.08547011]), array([22.37103511]), array([21.52050008]), array([25.88098954]), array([43.86800853]), array([44.17348238]), array([43.86800853]), array([31.58915774]), array([42.89169015]), array([22.37103511]), array([36.60851235]), array([39.22001428]), array([42.71798934]), array([43.0174735]), array([41.00493991]), array([34.36238111]), array([29.38495427]), array([25.0304545]), array([45.05995551]), array([41.15468199]), array([46.50346919]), array([44.8503166]), array([38.59109753]), array([25.7851546]), array([42.73595839]), array([51.59470001]), array([41.51406299]), array([25.97083478]), array([47.47978757]), array([34.36238111]), array([21.52050008]), array([29.54667572]), array([40.26820886]), array([34.50014383]), array([29.36099554]), array([42.79585522]), array([22.37103511]), array([44.22139985]), array([40.78332163]), array([37.06372829]), array([46.02429453]), array([16.77667089]), array([29.12739789]), array([45.14980076]), array([37.8483768]), array([36.33298692]), array([38.23171653]), array([34.39831921]), array([49.01913618]), array([41.90938209]), array([45.76673814]), array([27.67190485]), array([40.29216759]), array([46.60529381]), array([41.57395982]), array([27.80367788]), array([40.63956923]), array([44.17348238]), array([41.43619711]), array([48.57589962]), array([41.15468199]), array([36.9499243]), array([39.75908578]), array([39.47757066]), array([43.58050373]), array([35.65615271]), array([45.16178013]), array([42.77189649]), array([47.95896224]), array([45.28756348]), array([47.95896224]), array([43.43675133]), array([35.99157497]), array([21.52050008]), array([44.90422375]), array([57.21901264]), array([25.92291732]), array([34.36238111]), array([21.99967475]), array([26.77345235]), array([44.64666736]), array([32.61339358]), array([36.20121389]), array([46.47951046]), array([42.56225757]), array([42.56225757]), array([34.57202003]), array([35.03921533]), array([36.20121389]), array([34.70978274]), array([45.96439769]), array([39.83695166]), array([40.10648741]), array([35.03921533]), array([33.83528898]), array([34.70978274]), array([31.03211719]), array([41.13072326]), array([26.34219515]), array([41.15468199]), array([35.35067886]), array([46.07221199]), array([27.1508024]), array([41.66979476]), array([41.56198046]), array([43.0174735]), array([34.57202003]), array([38.998396]), array([31.88265222]), array([45.76673814]), array([34.36238111]), array([38.36947925]), array([43.86800853]), array([36.9499243]), array([41.15468199]), array([44.17348238]), array([34.57202003]), array([41.31640344]), array([38.23171653]), array([35.65615271]), array([40.78332163]), array([40.38800253]), array([37.19550132]), array([29.12739789]), array([34.50014383]), array([30.28340677]), array([38.71688088]), array([36.05147181]), array([45.25761506]), array([27.30054448]), array([48.58787899]), array([36.97388304]), array([41.60989792]), array([41.15468199]), array([29.12739789]), array([43.59847278]), array([45.76673814]), array([39.86091039]), array([31.03810687]), array([30.61882904]), array([36.97388304]), array([44.3112451]), array([34.36238111]), array([51.59470001]), array([38.57911816]), array([21.52050008]), array([45.61699606]), array([36.74028539]), array([39.93278659]), array([31.88265222]), array([39.52548813]), array([36.29704882]), array([45.76673814]), array([40.77134226]), array([29.33703681]), array([45.76673814]), array([25.88098954]), array([28.94171771]), array([41.10676452]), array([38.98641663]), array([36.60851235]), array([39.76507546]), array([46.46753109]), array([36.20121389]), array([43.32294735]), array([46.60529381]), array([29.94798451]), array([19.90328559]), array([49.77383628]), array([40.88514624]), array([42.34063929]), array([35.03921533]), array([38.65099436]), array([31.03810687]), array([41.78359874]), array([38.57911816]), array([19.90328559]), array([26.19245307]), array([25.53957759]), array([42.01719639]), array([36.60851235]), array([50.57645385]), array([35.15301931]), array([46.98863354]), array([37.78847997]), array([37.76452123]), array([46.07221199]), array([40.24425013]), array([40.78332163]), array([41.15468199]), array([45.88653181]), array([55.3322624]), array([39.22001428]), array([35.03921533]), array([30.88836479]), array([42.06511385]), array([36.60851235]), array([35.65615271]), array([34.51212319]), array([33.42799051]), array([34.36238111]), array([27.80367788]), array([45.05995551]), array([41.05884706]), array([37.68066567]), array([35.99157497]), array([29.60657256]), array([46.34773743]), array([40.62758986]), array([49.77383628]), array([45.64095479]), array([44.02972998]), array([33.66158816]), array([27.49820403]), array([35.35067886]), array([41.81953684]), array([34.50014383]), array([45.76673814]), array([30.12168532]), array([36.33298692]), array([41.43619711]), array([44.17348238]), array([33.55976355]), array([35.24885424]), array([31.58915774]), array([39.02235473]), array([43.0174735]), array([45.76673814]), array([46.33575806]), array([15.8422803]), array([43.62243152]), array([22.37103511]), array([46.34773743]), array([39.22001428]), array([32.8230325]), array([32.31390942]), array([37.09966639]), array([39.4655913]), array([27.5101834]), array([44.11358555]), array([49.77383628]), array([29.84017021]), array([40.95702244]), array([39.74710641]), array([51.47490634]), array([35.24885424]), array([40.78332163]), array([41.15468199]), array([34.39831921]), array([40.88514624]), array([46.66519064]), array([45.76673814]), array([30.55294252]), array([40.31612633]), array([29.60657256]), array([34.54806129]), array([21.52050008]), array([41.15468199]), array([44.08962682]), array([36.60851235]), array([41.15468199])]\n"
          ],
          "name": "stdout"
        },
        {
          "output_type": "display_data",
          "data": {
            "image/png": "[encoded data removed]",
            "text/plain": [
              "<Figure size 576x396 with 1 Axes>"
            ]
          },
          "metadata": {
            "tags": []
          }
        }
      ]
    }
  ]
}