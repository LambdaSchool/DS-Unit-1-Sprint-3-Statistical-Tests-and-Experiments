{
  "nbformat": 4,
  "nbformat_minor": 0,
  "metadata": {
    "colab": {
      "name": "Dakota_LS DS 143 Introduction to Bayesian Inference.ipynb",
      "version": "0.3.2",
      "provenance": [],
      "include_colab_link": true
    },
    "kernelspec": {
      "name": "python3",
      "display_name": "Python 3"
    }
  },
  "cells": [
    {
      "cell_type": "markdown",
      "metadata": {
        "id": "view-in-github",
        "colab_type": "text"
      },
      "source": [
        "<a href=\"https://colab.research.google.com/github/Dpgofast/DS-Unit-1-Sprint-4-Statistical-Tests-and-Experiments/blob/master/Dakota_LS_DS_143_Introduction_to_Bayesian_Inference.ipynb\" target=\"_parent\"><img src=\"https://colab.research.google.com/assets/colab-badge.svg\" alt=\"Open In Colab\"/></a>"
      ]
    },
    {
      "metadata": {
        "id": "H7OLbevlbd_Z",
        "colab_type": "text"
      },
      "cell_type": "markdown",
      "source": [
        "# Lambda School Data Science Module 143\n",
        "\n",
        "## Introduction to Bayesian Inference\n",
        "\n",
        "!['Detector! What would the Bayesian statistician say if I asked him whether the--' [roll] 'I AM A NEUTRINO DETECTOR, NOT A LABYRINTH GUARD. SERIOUSLY, DID YOUR BRAIN FALL OUT?' [roll] '... yes.'](https://imgs.xkcd.com/comics/frequentists_vs_bayesians_2x.png)\n",
        "\n",
        "*[XKCD 1132](https://www.xkcd.com/1132/)*\n"
      ]
    },
    {
      "metadata": {
        "id": "3mz8p08BsN6p",
        "colab_type": "text"
      },
      "cell_type": "markdown",
      "source": [
        "## Prepare - Bayes' Theorem and the Bayesian mindset"
      ]
    },
    {
      "metadata": {
        "id": "GhycNr-Sbeie",
        "colab_type": "text"
      },
      "cell_type": "markdown",
      "source": [
        "Bayes' theorem possesses a near-mythical quality - a bit of math that somehow magically evaluates a situation. But this mythicalness has more to do with its reputation and advanced applications than the actual core of it - deriving it is actually remarkably straightforward.\n",
        "\n",
        "### The Law of Total Probability\n",
        "\n",
        "By definition, the total probability of all outcomes (events) if some variable (event space) $A$ is 1. That is:\n",
        "\n",
        "$$P(A) = \\sum_n P(A_n) = 1$$\n",
        "\n",
        "The law of total probability takes this further, considering two variables ($A$ and $B$) and relating their marginal probabilities (their likelihoods considered independently, without reference to one another) and their conditional probabilities (their likelihoods considered jointly). A marginal probability is simply notated as e.g. $P(A)$, while a conditional probability is notated $P(A|B)$, which reads \"probability of $A$ *given* $B$\".\n",
        "\n",
        "The law of total probability states:\n",
        "\n",
        "$$P(A) = \\sum_n P(A | B_n) P(B_n)$$\n",
        "\n",
        "In words - the total probability of $A$ is equal to the sum of the conditional probability of $A$ on any given event $B_n$ times the probability of that event $B_n$, and summed over all possible events in $B$.\n",
        "\n",
        "### The Law of Conditional Probability\n",
        "\n",
        "What's the probability of something conditioned on something else? To determine this we have to go back to set theory and think about the intersection of sets:\n",
        "\n",
        "The formula for actual calculation:\n",
        "\n",
        "$$P(A|B) = \\frac{P(A \\cap B)}{P(B)}$$\n",
        "\n",
        "We can see how this relates back to the law of total probability - multiply both sides by $P(B)$ and you get $P(A|B)P(B) = P(A \\cap B)$ - replaced back into the law of total probability we get $P(A) = \\sum_n P(A \\cap B_n)$.\n",
        "\n",
        "This may not seem like an improvement at first, but try to relate it back to the above picture - if you think of sets as physical objects, we're saying that the total probability of $A$ given $B$ is all the little pieces of it intersected with $B$, added together. The conditional probability is then just that again, but divided by the probability of $B$ itself happening in the first place.\n",
        "\n",
        "### Bayes Theorem\n",
        "\n",
        "Here is is, the seemingly magic tool:\n",
        "\n",
        "$$P(A|B) = \\frac{P(B|A)P(A)}{P(B)}$$\n",
        "\n",
        "In words - the probability of $A$ conditioned on $B$ is the probability of $B$ conditioned on $A$, times the probability of $A$ and divided by the probability of $B$. These unconditioned probabilities are referred to as \"prior beliefs\", and the conditioned probabilities as \"updated.\"\n",
        "\n",
        "Why is this important? Scroll back up to the XKCD example - the Bayesian statistician draws a less absurd conclusion because their prior belief in the likelihood that the sun will go nova is extremely low. So, even when updated based on evidence from a detector that is $35/36 = 0.972$ accurate, the prior belief doesn't shift enough to change their overall opinion.\n",
        "\n",
        "There's many examples of Bayes' theorem - one less absurd example is to apply to [breathalyzer tests](https://www.bayestheorem.net/breathalyzer-example/). You may think that a breathalyzer test that is 100% accurate for true positives (detecting somebody who is drunk) is pretty good, but what if it also has 8% false positives (indicating somebody is drunk when they're not)? And furthermore, the rate of drunk driving (and thus our prior belief)  is 1/1000.\n",
        "\n",
        "What is the likelihood somebody really is drunk if they test positive? Some may guess it's 92% - the difference between the true positives and the false positives. But we have a prior belief of the background/true rate of drunk driving. Sounds like a job for Bayes' theorem!\n",
        "\n",
        "$$\n",
        "\\begin{aligned}\n",
        "P(Drunk | Positive) &= \\frac{P(Positive | Drunk)P(Drunk)}{P(Positive)} \\\\\n",
        "&= \\frac{1 \\times 0.001}{0.08} \\\\\n",
        "&= 0.0125\n",
        "\\end{aligned}\n",
        "$$\n",
        "\n",
        "In other words, the likelihood that somebody is drunk given they tested positive with a breathalyzer in this situation is only 1.25% - probably much lower than you'd guess. This is why, in practice, it's important to have a repeated test to confirm (the probability of two false positives in a row is $0.08 * 0.08 = 0.0064$, much lower), and Bayes' theorem has been relevant in court cases where proper consideration of evidence was important."
      ]
    },
    {
      "metadata": {
        "id": "htI3DGvDsRJF",
        "colab_type": "text"
      },
      "cell_type": "markdown",
      "source": [
        "## Live Lecture - Deriving Bayes' Theorem, Calculating Bayesian Confidence"
      ]
    },
    {
      "metadata": {
        "id": "moIJNQ-nbfe_",
        "colab_type": "text"
      },
      "cell_type": "markdown",
      "source": [
        "Notice that $P(A|B)$ appears in the above laws - in Bayesian terms, this is the belief in $A$ updated for the evidence $B$. So all we need to do is solve for this term to derive Bayes' theorem. Let's do it together!\n",
        "$$\n",
        "\\begin{aligned}\n",
        "P(A|B)&= \\frac{P(A\\cap B)}{P(B)}\\\\\n",
        "&=\\frac{P(B|A)P(A)}{P(B)}\\\\\n",
        "&\\ldots\\\\\n",
        "P(A|B)P(B)&= \\ P(A\\cap B)\\\\\n",
        "\\end{aligned}\n",
        "$$"
      ]
    },
    {
      "metadata": {
        "id": "ke-5EqJI0Tsn",
        "colab_type": "code",
        "colab": {}
      },
      "cell_type": "code",
      "source": [
        "# Activity 2 - Use SciPy to calculate Bayesian confidence intervals\n",
        "# https://docs.scipy.org/doc/scipy/reference/generated/scipy.stats.bayes_mvs.html#scipy.stats.bayes_mvs\n",
        "import scipy.stats as st\n"
      ],
      "execution_count": 0,
      "outputs": []
    },
    {
      "metadata": {
        "id": "c39C7Oq5m0aH",
        "colab_type": "code",
        "outputId": "3c2e950f-73e7-4700-b3d9-99ab98b024b5",
        "colab": {
          "base_uri": "https://localhost:8080/",
          "height": 72
        }
      },
      "cell_type": "code",
      "source": [
        "#frequintist approach\n",
        "import numpy as np\n",
        "#Confidence interval \n",
        "def confidence_interval(data, confidence=0.95):\n",
        "  data = np.array(data)\n",
        "  mean = np.mean(data)\n",
        "  n= len(data)\n",
        "  stderr = st.sem(data)\n",
        "  interval= stderr * st.t.ppf((1 + confidence)/2., n - 1)\n",
        "  \n",
        "  return (mean,mean - interval, mean + interval)\n",
        "coinflips = np.random.binomial(n=1 , p=0.5, size= 100)\n",
        "def report_confidence_interval(confidence_interval):\n",
        "  print('Mean: {}'.format(confidence_interval[0]))\n",
        "  print('Lower bound: {}'.format(confidence_interval[1]))\n",
        "  print('Upper bound: {}'.format(confidence_interval[2]))\n",
        "report_confidence_interval(confidence_interval(coinflips))"
      ],
      "execution_count": 0,
      "outputs": [
        {
          "output_type": "stream",
          "text": [
            "Mean: 0.49\n",
            "Lower bound: 0.3903092906280824\n",
            "Upper bound: 0.5896907093719176\n"
          ],
          "name": "stdout"
        }
      ]
    },
    {
      "metadata": {
        "id": "XYFv5koCnYU3",
        "colab_type": "code",
        "outputId": "20d74ae0-5b52-4267-ce59-e335b41445df",
        "colab": {
          "base_uri": "https://localhost:8080/",
          "height": 35
        }
      },
      "cell_type": "code",
      "source": [
        "#Basian approach\n",
        "mean, var, std = st.bayes_mvs(coinflips)\n",
        "mean\n",
        "var\n",
        "std\n"
      ],
      "execution_count": 0,
      "outputs": [
        {
          "output_type": "execute_result",
          "data": {
            "text/plain": [
              "Std_dev(statistic=0.5062650711820841, minmax=(0.45033253500354314, 0.5695175931583903))"
            ]
          },
          "metadata": {
            "tags": []
          },
          "execution_count": 10
        }
      ]
    },
    {
      "metadata": {
        "id": "P-DzzRk5bf0z",
        "colab_type": "text"
      },
      "cell_type": "markdown",
      "source": [
        "## Assignment - Code it up!\n",
        "\n",
        "Most of the above was pure math - write Python code to reproduce the results. This is purposefully open ended - you'll have to think about how you should represent probabilities and events. You can and should look things up, and as a stretch goal - refactor your code into helpful reusable functions!\n",
        "\n",
        "If you're unsure where to start, check out [this blog post of Bayes theorem with Python](https://dataconomy.com/2015/02/introduction-to-bayes-theorem-with-python/) - you could and should create something similar!\n",
        "\n",
        "Stretch goal - apply a Bayesian technique to a problem you previously worked (in an assignment or project work) on from a frequentist (standard) perspective."
      ]
    },
    {
      "metadata": {
        "id": "xpVhZyUnbf7o",
        "colab_type": "code",
        "colab": {}
      },
      "cell_type": "code",
      "source": [
        "import pandas as pd"
      ],
      "execution_count": 0,
      "outputs": []
    },
    {
      "metadata": {
        "id": "GJjL59oGATKo",
        "colab_type": "code",
        "outputId": "ba998748-937c-495f-fc70-b842ebef1585",
        "colab": {
          "base_uri": "https://localhost:8080/",
          "height": 381
        }
      },
      "cell_type": "code",
      "source": [
        "#Experiment data\n",
        "import pandas as pd\n",
        "import random\n",
        "def reroll(rolls):\n",
        "  counts= []\n",
        "  for x in range(rolls):\n",
        "    x = [random.randint(1,6),random.randint(1,6),random.randint(1,6)]\n",
        "    counts.append(x)\n",
        "  return( counts)\n",
        "reroll(20)\n"
      ],
      "execution_count": 0,
      "outputs": [
        {
          "output_type": "execute_result",
          "data": {
            "text/plain": [
              "[[2, 3, 5],\n",
              " [2, 4, 4],\n",
              " [4, 4, 4],\n",
              " [1, 5, 6],\n",
              " [1, 2, 2],\n",
              " [4, 5, 4],\n",
              " [4, 6, 6],\n",
              " [2, 5, 4],\n",
              " [3, 4, 2],\n",
              " [6, 3, 1],\n",
              " [6, 4, 3],\n",
              " [6, 3, 2],\n",
              " [6, 1, 6],\n",
              " [4, 6, 5],\n",
              " [6, 5, 6],\n",
              " [3, 1, 3],\n",
              " [2, 2, 1],\n",
              " [6, 6, 1],\n",
              " [2, 4, 4],\n",
              " [2, 6, 3]]"
            ]
          },
          "metadata": {
            "tags": []
          },
          "execution_count": 187
        }
      ]
    },
    {
      "metadata": {
        "id": "B3An3vVqF0M-",
        "colab_type": "code",
        "outputId": "ae2641a4-6100-455c-afb5-3b38da41e5c5",
        "colab": {
          "base_uri": "https://localhost:8080/",
          "height": 648
        }
      },
      "cell_type": "code",
      "source": [
        "rl = pd.DataFrame(reroll(20),columns=['Box 1','Box 2','Box 3'])# I've made a data set that grow's everytime its queried. \n",
        "rl"
      ],
      "execution_count": 0,
      "outputs": [
        {
          "output_type": "execute_result",
          "data": {
            "text/html": [
              "<div>\n",
              "<style scoped>\n",
              "    .dataframe tbody tr th:only-of-type {\n",
              "        vertical-align: middle;\n",
              "    }\n",
              "\n",
              "    .dataframe tbody tr th {\n",
              "        vertical-align: top;\n",
              "    }\n",
              "\n",
              "    .dataframe thead th {\n",
              "        text-align: right;\n",
              "    }\n",
              "</style>\n",
              "<table border=\"1\" class=\"dataframe\">\n",
              "  <thead>\n",
              "    <tr style=\"text-align: right;\">\n",
              "      <th></th>\n",
              "      <th>Box 1</th>\n",
              "      <th>Box 2</th>\n",
              "      <th>Box 3</th>\n",
              "    </tr>\n",
              "  </thead>\n",
              "  <tbody>\n",
              "    <tr>\n",
              "      <th>0</th>\n",
              "      <td>3</td>\n",
              "      <td>5</td>\n",
              "      <td>4</td>\n",
              "    </tr>\n",
              "    <tr>\n",
              "      <th>1</th>\n",
              "      <td>6</td>\n",
              "      <td>5</td>\n",
              "      <td>1</td>\n",
              "    </tr>\n",
              "    <tr>\n",
              "      <th>2</th>\n",
              "      <td>6</td>\n",
              "      <td>6</td>\n",
              "      <td>4</td>\n",
              "    </tr>\n",
              "    <tr>\n",
              "      <th>3</th>\n",
              "      <td>5</td>\n",
              "      <td>3</td>\n",
              "      <td>1</td>\n",
              "    </tr>\n",
              "    <tr>\n",
              "      <th>4</th>\n",
              "      <td>1</td>\n",
              "      <td>3</td>\n",
              "      <td>5</td>\n",
              "    </tr>\n",
              "    <tr>\n",
              "      <th>5</th>\n",
              "      <td>6</td>\n",
              "      <td>5</td>\n",
              "      <td>2</td>\n",
              "    </tr>\n",
              "    <tr>\n",
              "      <th>6</th>\n",
              "      <td>5</td>\n",
              "      <td>1</td>\n",
              "      <td>5</td>\n",
              "    </tr>\n",
              "    <tr>\n",
              "      <th>7</th>\n",
              "      <td>6</td>\n",
              "      <td>1</td>\n",
              "      <td>3</td>\n",
              "    </tr>\n",
              "    <tr>\n",
              "      <th>8</th>\n",
              "      <td>3</td>\n",
              "      <td>2</td>\n",
              "      <td>3</td>\n",
              "    </tr>\n",
              "    <tr>\n",
              "      <th>9</th>\n",
              "      <td>6</td>\n",
              "      <td>1</td>\n",
              "      <td>1</td>\n",
              "    </tr>\n",
              "    <tr>\n",
              "      <th>10</th>\n",
              "      <td>1</td>\n",
              "      <td>2</td>\n",
              "      <td>1</td>\n",
              "    </tr>\n",
              "    <tr>\n",
              "      <th>11</th>\n",
              "      <td>3</td>\n",
              "      <td>1</td>\n",
              "      <td>4</td>\n",
              "    </tr>\n",
              "    <tr>\n",
              "      <th>12</th>\n",
              "      <td>3</td>\n",
              "      <td>4</td>\n",
              "      <td>1</td>\n",
              "    </tr>\n",
              "    <tr>\n",
              "      <th>13</th>\n",
              "      <td>3</td>\n",
              "      <td>3</td>\n",
              "      <td>6</td>\n",
              "    </tr>\n",
              "    <tr>\n",
              "      <th>14</th>\n",
              "      <td>6</td>\n",
              "      <td>3</td>\n",
              "      <td>1</td>\n",
              "    </tr>\n",
              "    <tr>\n",
              "      <th>15</th>\n",
              "      <td>1</td>\n",
              "      <td>4</td>\n",
              "      <td>6</td>\n",
              "    </tr>\n",
              "    <tr>\n",
              "      <th>16</th>\n",
              "      <td>4</td>\n",
              "      <td>6</td>\n",
              "      <td>3</td>\n",
              "    </tr>\n",
              "    <tr>\n",
              "      <th>17</th>\n",
              "      <td>3</td>\n",
              "      <td>6</td>\n",
              "      <td>4</td>\n",
              "    </tr>\n",
              "    <tr>\n",
              "      <th>18</th>\n",
              "      <td>2</td>\n",
              "      <td>3</td>\n",
              "      <td>2</td>\n",
              "    </tr>\n",
              "    <tr>\n",
              "      <th>19</th>\n",
              "      <td>3</td>\n",
              "      <td>1</td>\n",
              "      <td>5</td>\n",
              "    </tr>\n",
              "  </tbody>\n",
              "</table>\n",
              "</div>"
            ],
            "text/plain": [
              "    Box 1  Box 2  Box 3\n",
              "0       3      5      4\n",
              "1       6      5      1\n",
              "2       6      6      4\n",
              "3       5      3      1\n",
              "4       1      3      5\n",
              "5       6      5      2\n",
              "6       5      1      5\n",
              "7       6      1      3\n",
              "8       3      2      3\n",
              "9       6      1      1\n",
              "10      1      2      1\n",
              "11      3      1      4\n",
              "12      3      4      1\n",
              "13      3      3      6\n",
              "14      6      3      1\n",
              "15      1      4      6\n",
              "16      4      6      3\n",
              "17      3      6      4\n",
              "18      2      3      2\n",
              "19      3      1      5"
            ]
          },
          "metadata": {
            "tags": []
          },
          "execution_count": 188
        }
      ]
    },
    {
      "metadata": {
        "id": "_KOhDkvEO6L9",
        "colab_type": "code",
        "outputId": "da26b04d-933a-4b77-810f-48d20b41672c",
        "colab": {
          "base_uri": "https://localhost:8080/",
          "height": 288
        }
      },
      "cell_type": "code",
      "source": [
        "rl.describe()"
      ],
      "execution_count": 0,
      "outputs": [
        {
          "output_type": "execute_result",
          "data": {
            "text/html": [
              "<div>\n",
              "<style scoped>\n",
              "    .dataframe tbody tr th:only-of-type {\n",
              "        vertical-align: middle;\n",
              "    }\n",
              "\n",
              "    .dataframe tbody tr th {\n",
              "        vertical-align: top;\n",
              "    }\n",
              "\n",
              "    .dataframe thead th {\n",
              "        text-align: right;\n",
              "    }\n",
              "</style>\n",
              "<table border=\"1\" class=\"dataframe\">\n",
              "  <thead>\n",
              "    <tr style=\"text-align: right;\">\n",
              "      <th></th>\n",
              "      <th>Box 1</th>\n",
              "      <th>Box 2</th>\n",
              "      <th>Box 3</th>\n",
              "    </tr>\n",
              "  </thead>\n",
              "  <tbody>\n",
              "    <tr>\n",
              "      <th>count</th>\n",
              "      <td>20.000000</td>\n",
              "      <td>20.000000</td>\n",
              "      <td>20.000000</td>\n",
              "    </tr>\n",
              "    <tr>\n",
              "      <th>mean</th>\n",
              "      <td>3.550000</td>\n",
              "      <td>4.000000</td>\n",
              "      <td>3.400000</td>\n",
              "    </tr>\n",
              "    <tr>\n",
              "      <th>std</th>\n",
              "      <td>1.605091</td>\n",
              "      <td>1.486784</td>\n",
              "      <td>1.500877</td>\n",
              "    </tr>\n",
              "    <tr>\n",
              "      <th>min</th>\n",
              "      <td>1.000000</td>\n",
              "      <td>1.000000</td>\n",
              "      <td>1.000000</td>\n",
              "    </tr>\n",
              "    <tr>\n",
              "      <th>25%</th>\n",
              "      <td>2.000000</td>\n",
              "      <td>3.000000</td>\n",
              "      <td>2.000000</td>\n",
              "    </tr>\n",
              "    <tr>\n",
              "      <th>50%</th>\n",
              "      <td>3.000000</td>\n",
              "      <td>4.000000</td>\n",
              "      <td>4.000000</td>\n",
              "    </tr>\n",
              "    <tr>\n",
              "      <th>75%</th>\n",
              "      <td>5.000000</td>\n",
              "      <td>5.000000</td>\n",
              "      <td>4.250000</td>\n",
              "    </tr>\n",
              "    <tr>\n",
              "      <th>max</th>\n",
              "      <td>6.000000</td>\n",
              "      <td>6.000000</td>\n",
              "      <td>6.000000</td>\n",
              "    </tr>\n",
              "  </tbody>\n",
              "</table>\n",
              "</div>"
            ],
            "text/plain": [
              "           Box 1      Box 2      Box 3\n",
              "count  20.000000  20.000000  20.000000\n",
              "mean    3.550000   4.000000   3.400000\n",
              "std     1.605091   1.486784   1.500877\n",
              "min     1.000000   1.000000   1.000000\n",
              "25%     2.000000   3.000000   2.000000\n",
              "50%     3.000000   4.000000   4.000000\n",
              "75%     5.000000   5.000000   4.250000\n",
              "max     6.000000   6.000000   6.000000"
            ]
          },
          "metadata": {
            "tags": []
          },
          "execution_count": 180
        }
      ]
    },
    {
      "metadata": {
        "id": "1j5v6tQ-Tzq5",
        "colab_type": "code",
        "colab": {}
      },
      "cell_type": "code",
      "source": [
        "meanr, varr, stdr = st.bayes_mvs(rl)"
      ],
      "execution_count": 0,
      "outputs": []
    },
    {
      "metadata": {
        "id": "V_C45BvLXJPl",
        "colab_type": "code",
        "outputId": "80833db5-31d2-40d2-a99c-32e0708f8868",
        "colab": {
          "base_uri": "https://localhost:8080/",
          "height": 72
        }
      },
      "cell_type": "code",
      "source": [
        "print(meanr)\n",
        "print(varr)\n",
        "print(stdr)"
      ],
      "execution_count": 0,
      "outputs": [
        {
          "output_type": "stream",
          "text": [
            "Mean(statistic=3.3833333333333333, minmax=(2.995999686574595, 3.7706669800920714))\n",
            "Variance(statistic=3.336549707602339, minmax=(2.440421596660292, 4.491885756508653))\n",
            "Std_dev(statistic=1.8186289366559565, minmax=(1.5621848791549262, 2.1194069350902516))\n"
          ],
          "name": "stdout"
        }
      ]
    },
    {
      "metadata": {
        "id": "KaWTQ2StZYFi",
        "colab_type": "text"
      },
      "cell_type": "markdown",
      "source": [
        "With the data prepped and a baseline completed with library provided Bayes operation. Ill try to write functions to achieve the same results. "
      ]
    },
    {
      "metadata": {
        "id": "jBtHLTpl9W4D",
        "colab_type": "text"
      },
      "cell_type": "markdown",
      "source": [
        "# A story for me to recreate using bayes\n",
        "Let's say that Billy Bob has two boxes, one with one fair die in it, labelled with the numbers 1 through 6, and one with two fair dice in it, labelled with the numbers 1 through 6. Let's say he picks one box at random and then rolls the dice in the box. Let's use Bayes' rule to figure out the probability that he picked the box with one die given the fact that the total of the die (or dice) he rolled was a 3. First we need to translate the words into the symbols we used in the previous paragraph. Let's use A to denote the event that Billy Bob picks the box with one die and B the event that he rolls a 3. Then as we assumed, P(A) = .5, and we can calculate P(B) = .5*(1/6) + .5*(2/36)= 4/36 = 1/9. This is because there's a 1/2 chance he'll pick box 1, and if he does there's a 1/6 chance he'll roll a 3. Also, there's a 1/2 chance he'll pick box 2 and a 2/36 chance he'll roll a 3 (he can get a 1,2 or a 2,1). Now since what we want to figure out the probability that he picked box 1 (event A) given the fact that he rolled a 3 (event B), we want to use Bayes rule to figure out P(A|B). To use the formula we need to figure out what P(B|A) is. This is the probability that he rolls a 3 given the fact that he picks box A, so P(B|A) = 1/6. Then P(A|B) = (1/6)*(1/2)/(1/9) = 3/4. This makes sense because if he picks the box with two dice he is unlikely to get a 3, while if he picks the box with 1 die he is more likely to get a 3.[*source](http://pi.math.cornell.edu/~numb3rs/samuelson/manhunt.html)\n",
        "\n",
        "$$P(A|B) = \\frac{P(B|A)P(A)}{P(B)}$$"
      ]
    },
    {
      "metadata": {
        "id": "hFvJgl1NZISq",
        "colab_type": "code",
        "colab": {}
      },
      "cell_type": "code",
      "source": [
        "#All the answers are here, its just plugging them in correctly. \n",
        "#it says the proabability of him rolling a 3 is .25 if he chooses box 2 \n",
        "## and .75 if he chooses box 1\n",
        "p_a=0.5\n",
        "p_b=0.11 \n",
        "p_ba=0.16\n",
        "# so p_ab should be p_ba*p_a/p_b?\n",
        "bayes = p_ba*p_a/p_b"
      ],
      "execution_count": 0,
      "outputs": []
    },
    {
      "metadata": {
        "id": "Kc_yB_USfTYN",
        "colab_type": "code",
        "outputId": "a9b2b6b8-89ab-4aa2-d22a-75588f9b4b07",
        "colab": {
          "base_uri": "https://localhost:8080/",
          "height": 35
        }
      },
      "cell_type": "code",
      "source": [
        "bayes"
      ],
      "execution_count": 0,
      "outputs": [
        {
          "output_type": "execute_result",
          "data": {
            "text/plain": [
              "0.7272727272727273"
            ]
          },
          "metadata": {
            "tags": []
          },
          "execution_count": 201
        }
      ]
    },
    {
      "metadata": {
        "id": "JaKIJbUjfWnU",
        "colab_type": "code",
        "colab": {}
      },
      "cell_type": "code",
      "source": [
        "def bayes(pa,pb,pba):\n",
        "  return (pba * pa / pb)*100 "
      ],
      "execution_count": 0,
      "outputs": []
    },
    {
      "metadata": {
        "id": "ETTAeg_jjk7L",
        "colab_type": "code",
        "outputId": "0ad08abb-6818-4b65-c78b-6fc81108fb7f",
        "colab": {
          "base_uri": "https://localhost:8080/",
          "height": 35
        }
      },
      "cell_type": "code",
      "source": [
        "bayes(.5,.11,.16)"
      ],
      "execution_count": 0,
      "outputs": [
        {
          "output_type": "execute_result",
          "data": {
            "text/plain": [
              "72.72727272727273"
            ]
          },
          "metadata": {
            "tags": []
          },
          "execution_count": 219
        }
      ]
    },
    {
      "metadata": {
        "id": "IJU-kYSbksIq",
        "colab_type": "text"
      },
      "cell_type": "markdown",
      "source": [
        "# It Works!\n",
        "The hardest thing to do now is find the probabilities of the events needed to plug into the function. "
      ]
    }
  ]
}