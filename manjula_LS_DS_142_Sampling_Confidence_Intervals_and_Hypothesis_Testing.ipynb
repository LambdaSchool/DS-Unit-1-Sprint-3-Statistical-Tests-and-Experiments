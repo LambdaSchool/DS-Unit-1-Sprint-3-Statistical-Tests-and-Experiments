{
  "nbformat": 4,
  "nbformat_minor": 0,
  "metadata": {
    "colab": {
      "name": " manjula LS DS 142 Sampling Confidence Intervals and Hypothesis Testing.ipynb",
      "version": "0.3.2",
      "provenance": [],
      "collapsed_sections": [],
      "include_colab_link": true
    },
    "kernelspec": {
      "name": "python3",
      "display_name": "Python 3"
    }
  },
  "cells": [
    {
      "cell_type": "markdown",
      "metadata": {
        "id": "view-in-github",
        "colab_type": "text"
      },
      "source": [
        "<a href=\"https://colab.research.google.com/github/manjulamishra/DS-Unit-1-Sprint-4-Statistical-Tests-and-Experiments/blob/master/manjula_LS_DS_142_Sampling_Confidence_Intervals_and_Hypothesis_Testing.ipynb\" target=\"_parent\"><img src=\"https://colab.research.google.com/assets/colab-badge.svg\" alt=\"Open In Colab\"/></a>"
      ]
    },
    {
      "metadata": {
        "id": "838Dmw1kM2LK",
        "colab_type": "text"
      },
      "cell_type": "markdown",
      "source": [
        "# Lambda School Data Science Module 142\n",
        "## Sampling, Confidence Intervals, and Hypothesis Testing"
      ]
    },
    {
      "metadata": {
        "id": "dbcPKIo5M6Ny",
        "colab_type": "text"
      },
      "cell_type": "markdown",
      "source": [
        "## Prepare - examine other available hypothesis tests\n",
        "\n",
        "If you had to pick a single hypothesis test in your toolbox, t-test would probably be the best choice - but the good news is you don't have to pick just one! Here's some of the others to be aware of:"
      ]
    },
    {
      "metadata": {
        "id": "tlBel8j9M6tB",
        "colab_type": "code",
        "outputId": "0a2e7048-f8ff-42ae-be20-e46bcd209195",
        "colab": {
          "base_uri": "https://localhost:8080/",
          "height": 199
        }
      },
      "cell_type": "code",
      "source": [
        "import numpy as np\n",
        "from scipy.stats import chisquare  # One-way chi square test\n",
        "\n",
        "# Chi square can take any crosstab/table and test the independence of rows/cols\n",
        "# The null hypothesis is that the rows/cols are independent -> low chi square\n",
        "# The alternative is that there is a dependence -> high chi square\n",
        "# Be aware! Chi square does *not* tell you direction/causation\n",
        "\n",
        "ind_obs = np.array([[1, 1], [2, 2]]).T\n",
        "print(ind_obs)\n",
        "print(chisquare(ind_obs, axis=None))\n",
        "\n",
        "dep_obs = np.array([[16, 18, 16, 14, 12, 12], [32, 24, 16, 28, 20, 24]]).T\n",
        "print(dep_obs)\n",
        "print(chisquare(dep_obs, axis=None))"
      ],
      "execution_count": 0,
      "outputs": [
        {
          "output_type": "stream",
          "text": [
            "[[1 2]\n",
            " [1 2]]\n",
            "Power_divergenceResult(statistic=0.6666666666666666, pvalue=0.8810148425137847)\n",
            "[[16 32]\n",
            " [18 24]\n",
            " [16 16]\n",
            " [14 28]\n",
            " [12 20]\n",
            " [12 24]]\n",
            "Power_divergenceResult(statistic=23.31034482758621, pvalue=0.015975692534127565)\n"
          ],
          "name": "stdout"
        }
      ]
    },
    {
      "metadata": {
        "id": "nN0BdNiDPxbk",
        "colab_type": "code",
        "outputId": "20f761c0-90fd-40de-fa09-d250c8b1e20c",
        "colab": {
          "base_uri": "https://localhost:8080/",
          "height": 35
        }
      },
      "cell_type": "code",
      "source": [
        "# Distribution tests:\n",
        "# We often assume that something is normal, but it can be important to *check*\n",
        "\n",
        "# For example, later on with predictive modeling, a typical assumption is that\n",
        "# residuals (prediction errors) are normal - checking is a good diagnostic\n",
        "\n",
        "from scipy.stats import normaltest\n",
        "# Poisson models arrival times and is related to the binomial (coinflip)\n",
        "sample = np.random.poisson(5, 1000)\n",
        "print(normaltest(sample))  # Pretty clearly not normal"
      ],
      "execution_count": 0,
      "outputs": [
        {
          "output_type": "stream",
          "text": [
            "NormaltestResult(statistic=33.8930211809825, pvalue=4.367409988652586e-08)\n"
          ],
          "name": "stdout"
        }
      ]
    },
    {
      "metadata": {
        "id": "P5t0WhkDReFO",
        "colab_type": "code",
        "outputId": "abb64854-09a4-46bf-c93f-860cfdd620f1",
        "colab": {
          "base_uri": "https://localhost:8080/",
          "height": 54
        }
      },
      "cell_type": "code",
      "source": [
        "# Kruskal-Wallis H-test - compare the median rank between 2+ groups\n",
        "# Can be applied to ranking decisions/outcomes/recommendations\n",
        "# The underlying math comes from chi-square distribution, and is best for n>5\n",
        "from scipy.stats import kruskal\n",
        "\n",
        "x1 = [1, 3, 5, 7, 9]\n",
        "y1 = [2, 4, 6, 8, 10]\n",
        "print(kruskal(x1, y1))  # x1 is a little better, but not \"significantly\" so\n",
        "\n",
        "x2 = [1, 1, 1]\n",
        "y2 = [2, 2, 2]\n",
        "z = [2, 2]  # Hey, a third group, and of different size!\n",
        "print(kruskal(x2, y2, z))  # x clearly dominates"
      ],
      "execution_count": 0,
      "outputs": [
        {
          "output_type": "stream",
          "text": [
            "KruskalResult(statistic=0.2727272727272734, pvalue=0.6015081344405895)\n",
            "KruskalResult(statistic=7.0, pvalue=0.0301973834223185)\n"
          ],
          "name": "stdout"
        }
      ]
    },
    {
      "metadata": {
        "id": "7pT3IP36Rh0b",
        "colab_type": "text"
      },
      "cell_type": "markdown",
      "source": [
        "And there's many more! `scipy.stats` is fairly comprehensive, though there are even more available if you delve into the extended world of statistics packages. As tests get increasingly obscure and specialized, the importance of knowing them by heart becomes small - but being able to look them up and figure them out when they *are* relevant is still important."
      ]
    },
    {
      "metadata": {
        "id": "L1_KRuHCM7BW",
        "colab_type": "text"
      },
      "cell_type": "markdown",
      "source": [
        "## Live Lecture - let's explore some more of scipy.stats"
      ]
    },
    {
      "metadata": {
        "id": "qW6k0dorM7Lz",
        "colab_type": "code",
        "colab": {}
      },
      "cell_type": "code",
      "source": [
        "# Taking requests! Come to lecture with a topic or problem and we'll try it.\n",
        "from scipy import stats\n",
        "help(binom)"
      ],
      "execution_count": 0,
      "outputs": []
    },
    {
      "metadata": {
        "id": "11OzdxWTM7UR",
        "colab_type": "text"
      },
      "cell_type": "markdown",
      "source": [
        "## Assignment - Build a confidence interval\n",
        "\n",
        "A confidence interval refers to a neighborhood around some point estimate, the size of which is determined by the desired p-value. For instance, we might say that 52% of Americans prefer tacos to burritos, with a 95% confidence interval of +/- 5%.\n",
        "\n",
        "52% (0.52) is the point estimate, and +/- 5% (the interval $[0.47, 0.57]$) is the confidence interval. \"95% confidence\" means a p-value $\\leq 1 - 0.95 = 0.05$.\n",
        "\n",
        "In this case, the confidence interval includes $0.5$ - which is the natural null hypothesis (that half of Americans prefer tacos and half burritos, thus there is no clear favorite). So in this case, we could use the confidence interval to report that we've failed to reject the null hypothesis.\n",
        "\n",
        "But providing the full analysis with a confidence interval, including a graphical representation of it, can be a helpful and powerful way to tell your story. Done well, it is also more intuitive to a layperson than simply saying \"fail to reject the null hypothesis\" - it shows that in fact the data does *not* give a single clear result (the point estimate) but a whole range of possibilities.\n",
        "\n",
        "How is a confidence interval built, and how should it be interpreted? It does *not* mean that 95% of the data lies in that interval - instead, the frequentist interpretation is \"if we were to repeat this experiment 100 times, we would expect the average result to lie in this interval ~95 times.\"\n",
        "\n",
        "For a 95% confidence interval and a normal(-ish) distribution, you can simply remember that +/-2 standard deviations contains 95% of the probability mass, and so the 95% confidence interval based on a given sample is centered at the mean (point estimate) and has a range of +/- 2 (or technically 1.96) standard deviations.\n",
        "\n",
        "Different distributions/assumptions (90% confidence, 99% confidence) will require different math, but the overall process and interpretation (with a frequentist approach) will be the same.\n",
        "\n",
        "Your assignment - using the data from the prior module ([congressional voting records](https://archive.ics.uci.edu/ml/datasets/Congressional+Voting+Records)):\n",
        "\n",
        "1. Generate and numerically represent a confidence interval\n",
        "2. Graphically (with a plot) represent the confidence interval\n",
        "3. Interpret the confidence interval - what does it tell you about the data and its distribution?\n",
        "\n",
        "Stretch goals:\n",
        "\n",
        "1. Write a summary of your findings, mixing prose and math/code/results. *Note* - yes, this is by definition a political topic. It is challenging but important to keep your writing voice *neutral* and stick to the facts of the data. Data science often involves considering controversial issues, so it's important to be sensitive about them (especially if you want to publish).\n",
        "2. Apply the techniques you learned today to your project data or other data of your choice, and write/discuss your findings here."
      ]
    },
    {
      "metadata": {
        "id": "OVGSvdJh_RSO",
        "colab_type": "text"
      },
      "cell_type": "markdown",
      "source": [
        "### Get the data from\n",
        "http://archive.ics.uci.edu/ml/datasets/Drug+Review+Dataset+%28Drugs.com%29#"
      ]
    },
    {
      "metadata": {
        "id": "Ckcr4A4FM7cs",
        "colab_type": "code",
        "outputId": "42b68da8-2ff9-483d-90a3-83a49353752b",
        "colab": {
          "base_uri": "https://localhost:8080/",
          "height": 217
        }
      },
      "cell_type": "code",
      "source": [
        "\n",
        "# Getting started with drug data\n",
        "# http://archive.ics.uci.edu/ml/datasets/Drug+Review+Dataset+%28Drugs.com%29\n",
        "\n",
        "!wget http://archive.ics.uci.edu/ml/machine-learning-databases/00462/drugsCom_raw.zip"
      ],
      "execution_count": 0,
      "outputs": [
        {
          "output_type": "stream",
          "text": [
            "--2018-12-04 20:44:41--  http://archive.ics.uci.edu/ml/machine-learning-databases/00462/drugsCom_raw.zip\n",
            "Resolving archive.ics.uci.edu (archive.ics.uci.edu)... 128.195.10.249\n",
            "Connecting to archive.ics.uci.edu (archive.ics.uci.edu)|128.195.10.249|:80... connected.\n",
            "HTTP request sent, awaiting response... 200 OK\n",
            "Length: 42989872 (41M) [application/zip]\n",
            "Saving to: ‘drugsCom_raw.zip’\n",
            "\n",
            "drugsCom_raw.zip    100%[===================>]  41.00M  18.9MB/s    in 2.2s    \n",
            "\n",
            "2018-12-04 20:44:43 (18.9 MB/s) - ‘drugsCom_raw.zip’ saved [42989872/42989872]\n",
            "\n"
          ],
          "name": "stdout"
        }
      ]
    },
    {
      "metadata": {
        "id": "1cXPaVG1949L",
        "colab_type": "code",
        "outputId": "5c12ec03-5b1a-4014-e1a5-ddb9debfebdf",
        "colab": {
          "base_uri": "https://localhost:8080/",
          "height": 72
        }
      },
      "cell_type": "code",
      "source": [
        "#unzip the file\n",
        "3!unzip drugsCom_raw.zip"
      ],
      "execution_count": 0,
      "outputs": [
        {
          "output_type": "stream",
          "text": [
            "Archive:  drugsCom_raw.zip\n",
            "  inflating: drugsComTest_raw.tsv    \n",
            "  inflating: drugsComTrain_raw.tsv   \n"
          ],
          "name": "stdout"
        }
      ]
    },
    {
      "metadata": {
        "id": "isYMgNpi99TL",
        "colab_type": "code",
        "outputId": "9eb45910-2ec7-4c1e-dbbb-5128a08bb806",
        "colab": {
          "base_uri": "https://localhost:8080/",
          "height": 948
        }
      },
      "cell_type": "code",
      "source": [
        "#.tsv can be imported as pd.read_table\n",
        "import pandas as pd\n",
        "df = pd.read_table('drugsComTrain_raw.tsv')\n",
        "df.head(30)"
      ],
      "execution_count": 0,
      "outputs": [
        {
          "output_type": "execute_result",
          "data": {
            "text/html": [
              "<div>\n",
              "<style scoped>\n",
              "    .dataframe tbody tr th:only-of-type {\n",
              "        vertical-align: middle;\n",
              "    }\n",
              "\n",
              "    .dataframe tbody tr th {\n",
              "        vertical-align: top;\n",
              "    }\n",
              "\n",
              "    .dataframe thead th {\n",
              "        text-align: right;\n",
              "    }\n",
              "</style>\n",
              "<table border=\"1\" class=\"dataframe\">\n",
              "  <thead>\n",
              "    <tr style=\"text-align: right;\">\n",
              "      <th></th>\n",
              "      <th>Unnamed: 0</th>\n",
              "      <th>drugName</th>\n",
              "      <th>condition</th>\n",
              "      <th>review</th>\n",
              "      <th>rating</th>\n",
              "      <th>date</th>\n",
              "      <th>usefulCount</th>\n",
              "    </tr>\n",
              "  </thead>\n",
              "  <tbody>\n",
              "    <tr>\n",
              "      <th>0</th>\n",
              "      <td>206461</td>\n",
              "      <td>Valsartan</td>\n",
              "      <td>Left Ventricular Dysfunction</td>\n",
              "      <td>\"It has no side effect, I take it in combinati...</td>\n",
              "      <td>9.0</td>\n",
              "      <td>May 20, 2012</td>\n",
              "      <td>27</td>\n",
              "    </tr>\n",
              "    <tr>\n",
              "      <th>1</th>\n",
              "      <td>95260</td>\n",
              "      <td>Guanfacine</td>\n",
              "      <td>ADHD</td>\n",
              "      <td>\"My son is halfway through his fourth week of ...</td>\n",
              "      <td>8.0</td>\n",
              "      <td>April 27, 2010</td>\n",
              "      <td>192</td>\n",
              "    </tr>\n",
              "    <tr>\n",
              "      <th>2</th>\n",
              "      <td>92703</td>\n",
              "      <td>Lybrel</td>\n",
              "      <td>Birth Control</td>\n",
              "      <td>\"I used to take another oral contraceptive, wh...</td>\n",
              "      <td>5.0</td>\n",
              "      <td>December 14, 2009</td>\n",
              "      <td>17</td>\n",
              "    </tr>\n",
              "    <tr>\n",
              "      <th>3</th>\n",
              "      <td>138000</td>\n",
              "      <td>Ortho Evra</td>\n",
              "      <td>Birth Control</td>\n",
              "      <td>\"This is my first time using any form of birth...</td>\n",
              "      <td>8.0</td>\n",
              "      <td>November 3, 2015</td>\n",
              "      <td>10</td>\n",
              "    </tr>\n",
              "    <tr>\n",
              "      <th>4</th>\n",
              "      <td>35696</td>\n",
              "      <td>Buprenorphine / naloxone</td>\n",
              "      <td>Opiate Dependence</td>\n",
              "      <td>\"Suboxone has completely turned my life around...</td>\n",
              "      <td>9.0</td>\n",
              "      <td>November 27, 2016</td>\n",
              "      <td>37</td>\n",
              "    </tr>\n",
              "    <tr>\n",
              "      <th>5</th>\n",
              "      <td>155963</td>\n",
              "      <td>Cialis</td>\n",
              "      <td>Benign Prostatic Hyperplasia</td>\n",
              "      <td>\"2nd day on 5mg started to work with rock hard...</td>\n",
              "      <td>2.0</td>\n",
              "      <td>November 28, 2015</td>\n",
              "      <td>43</td>\n",
              "    </tr>\n",
              "    <tr>\n",
              "      <th>6</th>\n",
              "      <td>165907</td>\n",
              "      <td>Levonorgestrel</td>\n",
              "      <td>Emergency Contraception</td>\n",
              "      <td>\"He pulled out, but he cummed a bit in me. I t...</td>\n",
              "      <td>1.0</td>\n",
              "      <td>March 7, 2017</td>\n",
              "      <td>5</td>\n",
              "    </tr>\n",
              "    <tr>\n",
              "      <th>7</th>\n",
              "      <td>102654</td>\n",
              "      <td>Aripiprazole</td>\n",
              "      <td>Bipolar Disorde</td>\n",
              "      <td>\"Abilify changed my life. There is hope. I was...</td>\n",
              "      <td>10.0</td>\n",
              "      <td>March 14, 2015</td>\n",
              "      <td>32</td>\n",
              "    </tr>\n",
              "    <tr>\n",
              "      <th>8</th>\n",
              "      <td>74811</td>\n",
              "      <td>Keppra</td>\n",
              "      <td>Epilepsy</td>\n",
              "      <td>\" I Ve had  nothing but problems with the Kepp...</td>\n",
              "      <td>1.0</td>\n",
              "      <td>August 9, 2016</td>\n",
              "      <td>11</td>\n",
              "    </tr>\n",
              "    <tr>\n",
              "      <th>9</th>\n",
              "      <td>48928</td>\n",
              "      <td>Ethinyl estradiol / levonorgestrel</td>\n",
              "      <td>Birth Control</td>\n",
              "      <td>\"I had been on the pill for many years. When m...</td>\n",
              "      <td>8.0</td>\n",
              "      <td>December 8, 2016</td>\n",
              "      <td>1</td>\n",
              "    </tr>\n",
              "    <tr>\n",
              "      <th>10</th>\n",
              "      <td>29607</td>\n",
              "      <td>Topiramate</td>\n",
              "      <td>Migraine Prevention</td>\n",
              "      <td>\"I have been on this medication almost two wee...</td>\n",
              "      <td>9.0</td>\n",
              "      <td>January 1, 2015</td>\n",
              "      <td>19</td>\n",
              "    </tr>\n",
              "    <tr>\n",
              "      <th>11</th>\n",
              "      <td>75612</td>\n",
              "      <td>L-methylfolate</td>\n",
              "      <td>Depression</td>\n",
              "      <td>\"I have taken anti-depressants for years, with...</td>\n",
              "      <td>10.0</td>\n",
              "      <td>March 9, 2017</td>\n",
              "      <td>54</td>\n",
              "    </tr>\n",
              "    <tr>\n",
              "      <th>12</th>\n",
              "      <td>191290</td>\n",
              "      <td>Pentasa</td>\n",
              "      <td>Crohn's Disease</td>\n",
              "      <td>\"I had Crohn&amp;#039;s with a resection 30 years ...</td>\n",
              "      <td>4.0</td>\n",
              "      <td>July 6, 2013</td>\n",
              "      <td>8</td>\n",
              "    </tr>\n",
              "    <tr>\n",
              "      <th>13</th>\n",
              "      <td>221320</td>\n",
              "      <td>Dextromethorphan</td>\n",
              "      <td>Cough</td>\n",
              "      <td>\"Have a little bit of a lingering cough from a...</td>\n",
              "      <td>4.0</td>\n",
              "      <td>September 7, 2017</td>\n",
              "      <td>1</td>\n",
              "    </tr>\n",
              "    <tr>\n",
              "      <th>14</th>\n",
              "      <td>98494</td>\n",
              "      <td>Nexplanon</td>\n",
              "      <td>Birth Control</td>\n",
              "      <td>\"Started Nexplanon 2 months ago because I have...</td>\n",
              "      <td>3.0</td>\n",
              "      <td>August 7, 2014</td>\n",
              "      <td>10</td>\n",
              "    </tr>\n",
              "    <tr>\n",
              "      <th>15</th>\n",
              "      <td>81890</td>\n",
              "      <td>Liraglutide</td>\n",
              "      <td>Obesity</td>\n",
              "      <td>\"I have been taking Saxenda since July 2016.  ...</td>\n",
              "      <td>9.0</td>\n",
              "      <td>January 19, 2017</td>\n",
              "      <td>20</td>\n",
              "    </tr>\n",
              "    <tr>\n",
              "      <th>16</th>\n",
              "      <td>48188</td>\n",
              "      <td>Trimethoprim</td>\n",
              "      <td>Urinary Tract Infection</td>\n",
              "      <td>\"This drug worked very well for me and cleared...</td>\n",
              "      <td>9.0</td>\n",
              "      <td>September 22, 2017</td>\n",
              "      <td>0</td>\n",
              "    </tr>\n",
              "    <tr>\n",
              "      <th>17</th>\n",
              "      <td>219869</td>\n",
              "      <td>Amitriptyline</td>\n",
              "      <td>ibromyalgia</td>\n",
              "      <td>\"I&amp;#039;ve been taking amitriptyline since Jan...</td>\n",
              "      <td>9.0</td>\n",
              "      <td>March 15, 2017</td>\n",
              "      <td>39</td>\n",
              "    </tr>\n",
              "    <tr>\n",
              "      <th>18</th>\n",
              "      <td>212077</td>\n",
              "      <td>Lamotrigine</td>\n",
              "      <td>Bipolar Disorde</td>\n",
              "      <td>\"I&amp;#039;ve been on every medicine under the su...</td>\n",
              "      <td>10.0</td>\n",
              "      <td>November 9, 2014</td>\n",
              "      <td>18</td>\n",
              "    </tr>\n",
              "    <tr>\n",
              "      <th>19</th>\n",
              "      <td>119705</td>\n",
              "      <td>Nilotinib</td>\n",
              "      <td>Chronic Myelogenous Leukemia</td>\n",
              "      <td>\"I have been on Tasigna for just over 3 years ...</td>\n",
              "      <td>10.0</td>\n",
              "      <td>September 1, 2015</td>\n",
              "      <td>11</td>\n",
              "    </tr>\n",
              "    <tr>\n",
              "      <th>20</th>\n",
              "      <td>12372</td>\n",
              "      <td>Atripla</td>\n",
              "      <td>HIV Infection</td>\n",
              "      <td>\"Spring of 2008 I was hospitalized with pnuemo...</td>\n",
              "      <td>8.0</td>\n",
              "      <td>July 9, 2010</td>\n",
              "      <td>11</td>\n",
              "    </tr>\n",
              "    <tr>\n",
              "      <th>21</th>\n",
              "      <td>231466</td>\n",
              "      <td>Trazodone</td>\n",
              "      <td>Insomnia</td>\n",
              "      <td>\"I have insomnia, it&amp;#039;s horrible. My story...</td>\n",
              "      <td>10.0</td>\n",
              "      <td>April 3, 2016</td>\n",
              "      <td>43</td>\n",
              "    </tr>\n",
              "    <tr>\n",
              "      <th>22</th>\n",
              "      <td>227020</td>\n",
              "      <td>Etonogestrel</td>\n",
              "      <td>Birth Control</td>\n",
              "      <td>\"Nexplanon does its job. I can have worry free...</td>\n",
              "      <td>9.0</td>\n",
              "      <td>August 11, 2014</td>\n",
              "      <td>11</td>\n",
              "    </tr>\n",
              "    <tr>\n",
              "      <th>23</th>\n",
              "      <td>41928</td>\n",
              "      <td>Etanercept</td>\n",
              "      <td>Rheumatoid Arthritis</td>\n",
              "      <td>\"I live in Western Australia and disturbed by ...</td>\n",
              "      <td>10.0</td>\n",
              "      <td>September 16, 2017</td>\n",
              "      <td>4</td>\n",
              "    </tr>\n",
              "    <tr>\n",
              "      <th>24</th>\n",
              "      <td>213649</td>\n",
              "      <td>Tioconazole</td>\n",
              "      <td>Vaginal Yeast Infection</td>\n",
              "      <td>\"Do not use the cream that comes with this. It...</td>\n",
              "      <td>1.0</td>\n",
              "      <td>April 17, 2017</td>\n",
              "      <td>7</td>\n",
              "    </tr>\n",
              "    <tr>\n",
              "      <th>25</th>\n",
              "      <td>51215</td>\n",
              "      <td>Azithromycin</td>\n",
              "      <td>Chlamydia Infection</td>\n",
              "      <td>\"Was prescribed one dose over the course of on...</td>\n",
              "      <td>7.0</td>\n",
              "      <td>December 14, 2015</td>\n",
              "      <td>7</td>\n",
              "    </tr>\n",
              "    <tr>\n",
              "      <th>26</th>\n",
              "      <td>206180</td>\n",
              "      <td>Eflornithine</td>\n",
              "      <td>Hirsutism</td>\n",
              "      <td>\"I&amp;#039;m writing a second review on Vaniqa.  ...</td>\n",
              "      <td>10.0</td>\n",
              "      <td>May 11, 2014</td>\n",
              "      <td>99</td>\n",
              "    </tr>\n",
              "    <tr>\n",
              "      <th>27</th>\n",
              "      <td>78563</td>\n",
              "      <td>Daytrana</td>\n",
              "      <td>ADHD</td>\n",
              "      <td>\"Hi all, My son who is 12 was diagnosed when h...</td>\n",
              "      <td>10.0</td>\n",
              "      <td>January 12, 2017</td>\n",
              "      <td>11</td>\n",
              "    </tr>\n",
              "    <tr>\n",
              "      <th>28</th>\n",
              "      <td>132258</td>\n",
              "      <td>Ativan</td>\n",
              "      <td>Panic Disorde</td>\n",
              "      <td>\"Honestly, I have been taking ativan for 2 yea...</td>\n",
              "      <td>6.0</td>\n",
              "      <td>June 1, 2015</td>\n",
              "      <td>47</td>\n",
              "    </tr>\n",
              "    <tr>\n",
              "      <th>29</th>\n",
              "      <td>27339</td>\n",
              "      <td>Imitrex</td>\n",
              "      <td>Migraine</td>\n",
              "      <td>\"At first I suffered through them. This includ...</td>\n",
              "      <td>8.0</td>\n",
              "      <td>October 16, 2012</td>\n",
              "      <td>6</td>\n",
              "    </tr>\n",
              "  </tbody>\n",
              "</table>\n",
              "</div>"
            ],
            "text/plain": [
              "    Unnamed: 0                            drugName  \\\n",
              "0       206461                           Valsartan   \n",
              "1        95260                          Guanfacine   \n",
              "2        92703                              Lybrel   \n",
              "3       138000                          Ortho Evra   \n",
              "4        35696            Buprenorphine / naloxone   \n",
              "5       155963                              Cialis   \n",
              "6       165907                      Levonorgestrel   \n",
              "7       102654                        Aripiprazole   \n",
              "8        74811                              Keppra   \n",
              "9        48928  Ethinyl estradiol / levonorgestrel   \n",
              "10       29607                          Topiramate   \n",
              "11       75612                      L-methylfolate   \n",
              "12      191290                             Pentasa   \n",
              "13      221320                    Dextromethorphan   \n",
              "14       98494                           Nexplanon   \n",
              "15       81890                         Liraglutide   \n",
              "16       48188                        Trimethoprim   \n",
              "17      219869                       Amitriptyline   \n",
              "18      212077                         Lamotrigine   \n",
              "19      119705                           Nilotinib   \n",
              "20       12372                             Atripla   \n",
              "21      231466                           Trazodone   \n",
              "22      227020                        Etonogestrel   \n",
              "23       41928                          Etanercept   \n",
              "24      213649                         Tioconazole   \n",
              "25       51215                        Azithromycin   \n",
              "26      206180                        Eflornithine   \n",
              "27       78563                            Daytrana   \n",
              "28      132258                              Ativan   \n",
              "29       27339                             Imitrex   \n",
              "\n",
              "                       condition  \\\n",
              "0   Left Ventricular Dysfunction   \n",
              "1                           ADHD   \n",
              "2                  Birth Control   \n",
              "3                  Birth Control   \n",
              "4              Opiate Dependence   \n",
              "5   Benign Prostatic Hyperplasia   \n",
              "6        Emergency Contraception   \n",
              "7                Bipolar Disorde   \n",
              "8                       Epilepsy   \n",
              "9                  Birth Control   \n",
              "10           Migraine Prevention   \n",
              "11                    Depression   \n",
              "12               Crohn's Disease   \n",
              "13                         Cough   \n",
              "14                 Birth Control   \n",
              "15                       Obesity   \n",
              "16       Urinary Tract Infection   \n",
              "17                   ibromyalgia   \n",
              "18               Bipolar Disorde   \n",
              "19  Chronic Myelogenous Leukemia   \n",
              "20                 HIV Infection   \n",
              "21                      Insomnia   \n",
              "22                 Birth Control   \n",
              "23          Rheumatoid Arthritis   \n",
              "24       Vaginal Yeast Infection   \n",
              "25           Chlamydia Infection   \n",
              "26                     Hirsutism   \n",
              "27                          ADHD   \n",
              "28                 Panic Disorde   \n",
              "29                      Migraine   \n",
              "\n",
              "                                               review  rating  \\\n",
              "0   \"It has no side effect, I take it in combinati...     9.0   \n",
              "1   \"My son is halfway through his fourth week of ...     8.0   \n",
              "2   \"I used to take another oral contraceptive, wh...     5.0   \n",
              "3   \"This is my first time using any form of birth...     8.0   \n",
              "4   \"Suboxone has completely turned my life around...     9.0   \n",
              "5   \"2nd day on 5mg started to work with rock hard...     2.0   \n",
              "6   \"He pulled out, but he cummed a bit in me. I t...     1.0   \n",
              "7   \"Abilify changed my life. There is hope. I was...    10.0   \n",
              "8   \" I Ve had  nothing but problems with the Kepp...     1.0   \n",
              "9   \"I had been on the pill for many years. When m...     8.0   \n",
              "10  \"I have been on this medication almost two wee...     9.0   \n",
              "11  \"I have taken anti-depressants for years, with...    10.0   \n",
              "12  \"I had Crohn&#039;s with a resection 30 years ...     4.0   \n",
              "13  \"Have a little bit of a lingering cough from a...     4.0   \n",
              "14  \"Started Nexplanon 2 months ago because I have...     3.0   \n",
              "15  \"I have been taking Saxenda since July 2016.  ...     9.0   \n",
              "16  \"This drug worked very well for me and cleared...     9.0   \n",
              "17  \"I&#039;ve been taking amitriptyline since Jan...     9.0   \n",
              "18  \"I&#039;ve been on every medicine under the su...    10.0   \n",
              "19  \"I have been on Tasigna for just over 3 years ...    10.0   \n",
              "20  \"Spring of 2008 I was hospitalized with pnuemo...     8.0   \n",
              "21  \"I have insomnia, it&#039;s horrible. My story...    10.0   \n",
              "22  \"Nexplanon does its job. I can have worry free...     9.0   \n",
              "23  \"I live in Western Australia and disturbed by ...    10.0   \n",
              "24  \"Do not use the cream that comes with this. It...     1.0   \n",
              "25  \"Was prescribed one dose over the course of on...     7.0   \n",
              "26  \"I&#039;m writing a second review on Vaniqa.  ...    10.0   \n",
              "27  \"Hi all, My son who is 12 was diagnosed when h...    10.0   \n",
              "28  \"Honestly, I have been taking ativan for 2 yea...     6.0   \n",
              "29  \"At first I suffered through them. This includ...     8.0   \n",
              "\n",
              "                  date  usefulCount  \n",
              "0         May 20, 2012           27  \n",
              "1       April 27, 2010          192  \n",
              "2    December 14, 2009           17  \n",
              "3     November 3, 2015           10  \n",
              "4    November 27, 2016           37  \n",
              "5    November 28, 2015           43  \n",
              "6        March 7, 2017            5  \n",
              "7       March 14, 2015           32  \n",
              "8       August 9, 2016           11  \n",
              "9     December 8, 2016            1  \n",
              "10     January 1, 2015           19  \n",
              "11       March 9, 2017           54  \n",
              "12        July 6, 2013            8  \n",
              "13   September 7, 2017            1  \n",
              "14      August 7, 2014           10  \n",
              "15    January 19, 2017           20  \n",
              "16  September 22, 2017            0  \n",
              "17      March 15, 2017           39  \n",
              "18    November 9, 2014           18  \n",
              "19   September 1, 2015           11  \n",
              "20        July 9, 2010           11  \n",
              "21       April 3, 2016           43  \n",
              "22     August 11, 2014           11  \n",
              "23  September 16, 2017            4  \n",
              "24      April 17, 2017            7  \n",
              "25   December 14, 2015            7  \n",
              "26        May 11, 2014           99  \n",
              "27    January 12, 2017           11  \n",
              "28        June 1, 2015           47  \n",
              "29    October 16, 2012            6  "
            ]
          },
          "metadata": {
            "tags": []
          },
          "execution_count": 89
        }
      ]
    },
    {
      "metadata": {
        "id": "CRl8UyyR-hMS",
        "colab_type": "code",
        "outputId": "3fae1862-4d90-4238-986d-5a4b20ca324d",
        "colab": {
          "base_uri": "https://localhost:8080/",
          "height": 35
        }
      },
      "cell_type": "code",
      "source": [
        "df.shape "
      ],
      "execution_count": 0,
      "outputs": [
        {
          "output_type": "execute_result",
          "data": {
            "text/plain": [
              "(161297, 7)"
            ]
          },
          "metadata": {
            "tags": []
          },
          "execution_count": 3
        }
      ]
    },
    {
      "metadata": {
        "id": "eAPlboQ_KXkS",
        "colab_type": "code",
        "colab": {}
      },
      "cell_type": "code",
      "source": [
        "#subset of the df where \n",
        "df_Topiramate = df.loc[df['drugName'] == 'Topiramate'] #column drugName == to this med"
      ],
      "execution_count": 0,
      "outputs": []
    },
    {
      "metadata": {
        "id": "omxuypDjKaXB",
        "colab_type": "code",
        "outputId": "3a4b5917-60b9-4277-cb79-a7578f6c6085",
        "colab": {
          "base_uri": "https://localhost:8080/",
          "height": 35
        }
      },
      "cell_type": "code",
      "source": [
        "df_Topiramate.shape #check the shape od this df"
      ],
      "execution_count": 0,
      "outputs": [
        {
          "output_type": "execute_result",
          "data": {
            "text/plain": [
              "(606, 7)"
            ]
          },
          "metadata": {
            "tags": []
          },
          "execution_count": 52
        }
      ]
    },
    {
      "metadata": {
        "id": "wtPivx9zKg0z",
        "colab_type": "code",
        "outputId": "e0028507-f535-4bcc-c0b1-59181a2560da",
        "colab": {
          "base_uri": "https://localhost:8080/",
          "height": 198
        }
      },
      "cell_type": "code",
      "source": [
        "df_Topiramate.head() #first five rows"
      ],
      "execution_count": 0,
      "outputs": [
        {
          "output_type": "execute_result",
          "data": {
            "text/html": [
              "<div>\n",
              "<style scoped>\n",
              "    .dataframe tbody tr th:only-of-type {\n",
              "        vertical-align: middle;\n",
              "    }\n",
              "\n",
              "    .dataframe tbody tr th {\n",
              "        vertical-align: top;\n",
              "    }\n",
              "\n",
              "    .dataframe thead th {\n",
              "        text-align: right;\n",
              "    }\n",
              "</style>\n",
              "<table border=\"1\" class=\"dataframe\">\n",
              "  <thead>\n",
              "    <tr style=\"text-align: right;\">\n",
              "      <th></th>\n",
              "      <th>Unnamed: 0</th>\n",
              "      <th>drugName</th>\n",
              "      <th>condition</th>\n",
              "      <th>review</th>\n",
              "      <th>rating</th>\n",
              "      <th>date</th>\n",
              "      <th>usefulCount</th>\n",
              "    </tr>\n",
              "  </thead>\n",
              "  <tbody>\n",
              "    <tr>\n",
              "      <th>10</th>\n",
              "      <td>29607</td>\n",
              "      <td>Topiramate</td>\n",
              "      <td>Migraine Prevention</td>\n",
              "      <td>\"I have been on this medication almost two wee...</td>\n",
              "      <td>9.0</td>\n",
              "      <td>January 1, 2015</td>\n",
              "      <td>19</td>\n",
              "    </tr>\n",
              "    <tr>\n",
              "      <th>404</th>\n",
              "      <td>29709</td>\n",
              "      <td>Topiramate</td>\n",
              "      <td>ibromyalgia</td>\n",
              "      <td>\"I didn&amp;#039;t like Topamax. I became very par...</td>\n",
              "      <td>1.0</td>\n",
              "      <td>August 10, 2011</td>\n",
              "      <td>42</td>\n",
              "    </tr>\n",
              "    <tr>\n",
              "      <th>1133</th>\n",
              "      <td>29193</td>\n",
              "      <td>Topiramate</td>\n",
              "      <td>Migraine Prevention</td>\n",
              "      <td>\"I have been taking 75mg topamax one a day for...</td>\n",
              "      <td>9.0</td>\n",
              "      <td>November 15, 2016</td>\n",
              "      <td>42</td>\n",
              "    </tr>\n",
              "    <tr>\n",
              "      <th>2107</th>\n",
              "      <td>29682</td>\n",
              "      <td>Topiramate</td>\n",
              "      <td>Obesity</td>\n",
              "      <td>\"Topamax is amazing. I originally took it 6 ye...</td>\n",
              "      <td>9.0</td>\n",
              "      <td>February 24, 2012</td>\n",
              "      <td>314</td>\n",
              "    </tr>\n",
              "    <tr>\n",
              "      <th>2965</th>\n",
              "      <td>29702</td>\n",
              "      <td>Topiramate</td>\n",
              "      <td>Obesity</td>\n",
              "      <td>\"Definitely takes away my hunger.\"</td>\n",
              "      <td>10.0</td>\n",
              "      <td>September 12, 2011</td>\n",
              "      <td>175</td>\n",
              "    </tr>\n",
              "  </tbody>\n",
              "</table>\n",
              "</div>"
            ],
            "text/plain": [
              "      Unnamed: 0    drugName            condition  \\\n",
              "10         29607  Topiramate  Migraine Prevention   \n",
              "404        29709  Topiramate          ibromyalgia   \n",
              "1133       29193  Topiramate  Migraine Prevention   \n",
              "2107       29682  Topiramate              Obesity   \n",
              "2965       29702  Topiramate              Obesity   \n",
              "\n",
              "                                                 review  rating  \\\n",
              "10    \"I have been on this medication almost two wee...     9.0   \n",
              "404   \"I didn&#039;t like Topamax. I became very par...     1.0   \n",
              "1133  \"I have been taking 75mg topamax one a day for...     9.0   \n",
              "2107  \"Topamax is amazing. I originally took it 6 ye...     9.0   \n",
              "2965                 \"Definitely takes away my hunger.\"    10.0   \n",
              "\n",
              "                    date  usefulCount  \n",
              "10       January 1, 2015           19  \n",
              "404      August 10, 2011           42  \n",
              "1133   November 15, 2016           42  \n",
              "2107   February 24, 2012          314  \n",
              "2965  September 12, 2011          175  "
            ]
          },
          "metadata": {
            "tags": []
          },
          "execution_count": 53
        }
      ]
    },
    {
      "metadata": {
        "id": "iIdwztZtnX4W",
        "colab_type": "text"
      },
      "cell_type": "markdown",
      "source": [
        "### I didn't continue with Topiramate. I want to pick four brands of birth control pills and see how they are rated"
      ]
    },
    {
      "metadata": {
        "id": "PnYHN-PbRe_x",
        "colab_type": "code",
        "colab": {}
      },
      "cell_type": "code",
      "source": [
        "#brand 1\n",
        "df_Lybrel\t= df.loc[df['drugName'] == 'Lybrel'] #get all the Lybrel from column drugName"
      ],
      "execution_count": 0,
      "outputs": []
    },
    {
      "metadata": {
        "id": "bTcx4pQXLMzZ",
        "colab_type": "code",
        "colab": {}
      },
      "cell_type": "code",
      "source": [
        "#assign the rating column into a new variable\n",
        "birth_control_l = df_Lybrel['rating']"
      ],
      "execution_count": 0,
      "outputs": []
    },
    {
      "metadata": {
        "id": "VMuvCiq8R4YF",
        "colab_type": "code",
        "colab": {}
      },
      "cell_type": "code",
      "source": [
        "#brand 2\n",
        "df_Nexplanon\t= df.loc[df['drugName'] == 'Nexplanon'] #get all the Nexplanon from column drugName"
      ],
      "execution_count": 0,
      "outputs": []
    },
    {
      "metadata": {
        "id": "XNTZ0IChSCT_",
        "colab_type": "code",
        "colab": {}
      },
      "cell_type": "code",
      "source": [
        "birth_control_n = df_Nexplanon['rating'] #assign the rating column into a new variable"
      ],
      "execution_count": 0,
      "outputs": []
    },
    {
      "metadata": {
        "id": "-3O_j7e_SIay",
        "colab_type": "code",
        "colab": {}
      },
      "cell_type": "code",
      "source": [
        "#brand 3\n",
        "df_Etonogestrel\t= df.loc[df['drugName'] == 'Etonogestrel']#get all the Etonogestrel from column drugName"
      ],
      "execution_count": 0,
      "outputs": []
    },
    {
      "metadata": {
        "id": "gTKinL0VSXJ_",
        "colab_type": "code",
        "colab": {}
      },
      "cell_type": "code",
      "source": [
        "birth_control_e = df_Etonogestrel['rating'] #assign the rating column into a new variable"
      ],
      "execution_count": 0,
      "outputs": []
    },
    {
      "metadata": {
        "id": "t6ChwCIVDeNK",
        "colab_type": "code",
        "colab": {}
      },
      "cell_type": "code",
      "source": [
        "#Brand 4\n",
        "df_Ethinyl = df.loc[df['drugName'] == 'Ethinyl estradiol / levonorgestrel']#get all the Ethinyl estradiol from column drugName"
      ],
      "execution_count": 0,
      "outputs": []
    },
    {
      "metadata": {
        "id": "PdgPrlQbNrOl",
        "colab_type": "code",
        "colab": {}
      },
      "cell_type": "code",
      "source": [
        "y = df_Ethinyl['rating']#assign the rating column into a new variable"
      ],
      "execution_count": 0,
      "outputs": []
    },
    {
      "metadata": {
        "id": "vzyEepBVEKpE",
        "colab_type": "code",
        "outputId": "c55b2b4d-c67a-40f9-999e-41279b31d604",
        "colab": {
          "base_uri": "https://localhost:8080/",
          "height": 35
        }
      },
      "cell_type": "code",
      "source": [
        "df_Ethinyl.shape #Just checking the shape "
      ],
      "execution_count": 0,
      "outputs": [
        {
          "output_type": "execute_result",
          "data": {
            "text/plain": [
              "(1888, 7)"
            ]
          },
          "metadata": {
            "tags": []
          },
          "execution_count": 57
        }
      ]
    },
    {
      "metadata": {
        "id": "B1sUjYxvD1GF",
        "colab_type": "code",
        "outputId": "e56033f6-7fb5-44a4-b3d3-7b3371e7cd7a",
        "colab": {
          "base_uri": "https://localhost:8080/",
          "height": 163
        }
      },
      "cell_type": "code",
      "source": [
        "df_Ethinyl.isna().sum()"
      ],
      "execution_count": 0,
      "outputs": [
        {
          "output_type": "execute_result",
          "data": {
            "text/plain": [
              "Unnamed: 0      0\n",
              "drugName        0\n",
              "condition      79\n",
              "review          0\n",
              "rating          0\n",
              "date            0\n",
              "usefulCount     0\n",
              "dtype: int64"
            ]
          },
          "metadata": {
            "tags": []
          },
          "execution_count": 58
        }
      ]
    },
    {
      "metadata": {
        "id": "Yr7O0JAlD6Xf",
        "colab_type": "code",
        "colab": {}
      },
      "cell_type": "code",
      "source": [
        "#Another med ofr ADHD which I didn't use\n",
        "df_Guanfacine  = df.loc[df['drugName'] == 'Guanfacine']"
      ],
      "execution_count": 0,
      "outputs": []
    },
    {
      "metadata": {
        "id": "Z7nZg8-YEDyF",
        "colab_type": "code",
        "outputId": "1ac718d5-1714-47d8-b316-35203983ab05",
        "colab": {
          "base_uri": "https://localhost:8080/",
          "height": 35
        }
      },
      "cell_type": "code",
      "source": [
        "df_Guanfacine.shape"
      ],
      "execution_count": 0,
      "outputs": [
        {
          "output_type": "execute_result",
          "data": {
            "text/plain": [
              "(127, 7)"
            ]
          },
          "metadata": {
            "tags": []
          },
          "execution_count": 72
        }
      ]
    },
    {
      "metadata": {
        "id": "Mwk0soNFOFNP",
        "colab_type": "code",
        "colab": {}
      },
      "cell_type": "code",
      "source": [
        "z = df_Guanfacine['rating']"
      ],
      "execution_count": 0,
      "outputs": []
    },
    {
      "metadata": {
        "id": "GKch1bx_Dux1",
        "colab_type": "code",
        "outputId": "f6db2ccf-27aa-4fd8-be46-fbb64a110d17",
        "colab": {
          "base_uri": "https://localhost:8080/",
          "height": 35
        }
      },
      "cell_type": "code",
      "source": [
        "z.shape"
      ],
      "execution_count": 0,
      "outputs": [
        {
          "output_type": "execute_result",
          "data": {
            "text/plain": [
              "(127,)"
            ]
          },
          "metadata": {
            "tags": []
          },
          "execution_count": 74
        }
      ]
    },
    {
      "metadata": {
        "id": "1bHYWLpTk4X7",
        "colab_type": "text"
      },
      "cell_type": "markdown",
      "source": [
        "#Generate and numerically represent a confidence interval\n",
        "We learned this in teh class"
      ]
    },
    {
      "metadata": {
        "id": "JC3lOdyI-ldR",
        "colab_type": "code",
        "colab": {}
      },
      "cell_type": "code",
      "source": [
        "# Confidence intervals!\n",
        "# Similar to hypothesis testing, but centered at sample mean\n",
        "# Better than reporting the \"point estimate\" (sample mean)\n",
        "# Why? Because point estimates aren't always perfect\n",
        "\n",
        "import numpy as np\n",
        "from scipy import stats\n",
        "\n",
        "def confidence_interval(data, confidence=0.95):\n",
        "  \"\"\"\n",
        "  Calculate a confidence interval around a sample mean for given data.\n",
        "  Using t-distribution and two-tailed test, default 95% confidence. \n",
        "  \n",
        "  Arguments:\n",
        "    data - iterable (list or numpy array) of sample observations\n",
        "    confidence - level of confidence for the interval\n",
        "  \n",
        "  Returns:\n",
        "    tuple of (mean, lower bound, upper bound)\n",
        "  \"\"\"\n",
        "  data = np.array(data)\n",
        "  mean = np.mean(data)\n",
        "  n = len(data)\n",
        "  stderr = stats.sem(data)\n",
        "  interval = stderr * stats.t.ppf((1 + confidence) / 2., n - 1)\n",
        "  return (mean, mean - interval, mean + interval)\n",
        "\n",
        "def report_confidence_interval(confidence_interval):\n",
        "  \"\"\"\n",
        "  Return a string with a pretty report of a confidence interval.\n",
        "  \n",
        "  Arguments:\n",
        "    confidence_interval - tuple of (mean, lower bound, upper bound)\n",
        "  \n",
        "  Returns:\n",
        "    None, but prints to screen the report\n",
        "  \"\"\"\n",
        "  #print('Mean: {}'.format(confidence_interval[0]))\n",
        "  #print('Lower bound: {}'.format(confidence_interval[1]))\n",
        "  #print('Upper bound: {}'.format(confidence_interval[2]))\n",
        "  s = \"our mean lies in the interval {:.2}, {:.2}\".format(\n",
        "      confidence_interval[1], confidence_interval[2])\n",
        "  return s"
      ],
      "execution_count": 0,
      "outputs": []
    },
    {
      "metadata": {
        "id": "zzORh5E-G7ZK",
        "colab_type": "code",
        "outputId": "4389278b-43d8-4e0a-ba32-9c3a3bad0fac",
        "colab": {
          "base_uri": "https://localhost:8080/",
          "height": 35
        }
      },
      "cell_type": "code",
      "source": [
        "\n",
        "confidence_interval_Topiramate = confidence_interval(x, confidence=0.95)\n",
        "print(confidence_interval_Topiramate)"
      ],
      "execution_count": 0,
      "outputs": [
        {
          "output_type": "stream",
          "text": [
            "(6.632013201320132, 6.369457264416656, 6.894569138223607)\n"
          ],
          "name": "stdout"
        }
      ]
    },
    {
      "metadata": {
        "id": "8-2q8yf4VAZj",
        "colab_type": "code",
        "outputId": "a0e8482b-1a96-4da1-a66b-a8f740156e37",
        "colab": {
          "base_uri": "https://localhost:8080/",
          "height": 35
        }
      },
      "cell_type": "code",
      "source": [
        "report_confidence_interval(confidence_interval_Topiramate)"
      ],
      "execution_count": 0,
      "outputs": [
        {
          "output_type": "execute_result",
          "data": {
            "text/plain": [
              "'our mean lies in the interval 6.4, 6.9'"
            ]
          },
          "metadata": {
            "tags": []
          },
          "execution_count": 108
        }
      ]
    },
    {
      "metadata": {
        "id": "ggCp12QpN_M_",
        "colab_type": "code",
        "outputId": "5d00fbaf-2c51-4d6c-a217-ac19a1a9a88d",
        "colab": {
          "base_uri": "https://localhost:8080/",
          "height": 54
        }
      },
      "cell_type": "code",
      "source": [
        "confidence_interval_Guanfacine = confidence_interval(z, confidence=0.95)\n",
        "print(confidence_interval_Guanfacine)\n",
        "report_confidence_interval(confidence_interval_Guanfacine)"
      ],
      "execution_count": 0,
      "outputs": [
        {
          "output_type": "stream",
          "text": [
            "(5.9763779527559056, 5.372317073711144, 6.5804388318006675)\n"
          ],
          "name": "stdout"
        },
        {
          "output_type": "execute_result",
          "data": {
            "text/plain": [
              "'our mean lies in the interval 5.4, 6.6'"
            ]
          },
          "metadata": {
            "tags": []
          },
          "execution_count": 110
        }
      ]
    },
    {
      "metadata": {
        "id": "sC9c92gdWIsM",
        "colab_type": "text"
      },
      "cell_type": "markdown",
      "source": [
        "##finding confidence interval (CI) for different Birth Control pills"
      ]
    },
    {
      "metadata": {
        "id": "Em63dPA2lEj7",
        "colab_type": "text"
      },
      "cell_type": "markdown",
      "source": [
        "#### Pill 1. Ethinyl"
      ]
    },
    {
      "metadata": {
        "id": "77LD4h4JowWj",
        "colab_type": "code",
        "colab": {}
      },
      "cell_type": "code",
      "source": [
        ""
      ],
      "execution_count": 0,
      "outputs": []
    },
    {
      "metadata": {
        "id": "wziciqKnNx3v",
        "colab_type": "code",
        "outputId": "dafefc97-6858-45c1-f31d-bde471077c44",
        "colab": {
          "base_uri": "https://localhost:8080/",
          "height": 54
        }
      },
      "cell_type": "code",
      "source": [
        "confidence_interval_Ethinyl = confidence_interval(y, confidence=0.95)\n",
        "print(confidence_interval_Ethinyl)\n",
        "report_confidence_interval(confidence_interval_Ethinyl)"
      ],
      "execution_count": 0,
      "outputs": [
        {
          "output_type": "stream",
          "text": [
            "(5.799258474576271, 5.651051793863935, 5.947465155288606)\n"
          ],
          "name": "stdout"
        },
        {
          "output_type": "execute_result",
          "data": {
            "text/plain": [
              "'our mean lies in the interval 5.7, 5.9'"
            ]
          },
          "metadata": {
            "tags": []
          },
          "execution_count": 109
        }
      ]
    },
    {
      "metadata": {
        "id": "8vUwkRkRlJLe",
        "colab_type": "text"
      },
      "cell_type": "markdown",
      "source": [
        "#### Standard error (Mean - lower bound)"
      ]
    },
    {
      "metadata": {
        "id": "PE57VXjcbvHG",
        "colab_type": "code",
        "outputId": "57b08fd1-0961-4bc2-e84c-487902ada923",
        "colab": {
          "base_uri": "https://localhost:8080/",
          "height": 35
        }
      },
      "cell_type": "code",
      "source": [
        "strr1 = 5.799258474576271 - 5.651051793863935\n",
        "print(strr1)"
      ],
      "execution_count": 0,
      "outputs": [
        {
          "output_type": "stream",
          "text": [
            "0.14820668071233545\n"
          ],
          "name": "stdout"
        }
      ]
    },
    {
      "metadata": {
        "id": "Vcc6DIe9lRi2",
        "colab_type": "text"
      },
      "cell_type": "markdown",
      "source": [
        "#### Pill 2. Etonogestrel"
      ]
    },
    {
      "metadata": {
        "id": "5TWbav0USkEj",
        "colab_type": "code",
        "outputId": "13698861-7a5c-457f-e21e-8a63ab3580d7",
        "colab": {
          "base_uri": "https://localhost:8080/",
          "height": 54
        }
      },
      "cell_type": "code",
      "source": [
        "confidence_interval_birth_control_e = confidence_interval(birth_control_e, confidence=0.95)\n",
        "print(confidence_interval_birth_control_e)\n",
        "report_confidence_interval(confidence_interval_birth_control_e)"
      ],
      "execution_count": 0,
      "outputs": [
        {
          "output_type": "stream",
          "text": [
            "(5.802458033573141, 5.689871099831397, 5.915044967314886)\n"
          ],
          "name": "stdout"
        },
        {
          "output_type": "execute_result",
          "data": {
            "text/plain": [
              "'our mean lies in the interval 5.7, 5.9'"
            ]
          },
          "metadata": {
            "tags": []
          },
          "execution_count": 111
        }
      ]
    },
    {
      "metadata": {
        "id": "w_HcHA1Hl89h",
        "colab_type": "text"
      },
      "cell_type": "markdown",
      "source": [
        "####SE (mean - lower bound)"
      ]
    },
    {
      "metadata": {
        "id": "4R2St5mFcABQ",
        "colab_type": "code",
        "outputId": "9f3b4b4e-6a3e-4845-a1cd-2760bcf7f421",
        "colab": {
          "base_uri": "https://localhost:8080/",
          "height": 35
        }
      },
      "cell_type": "code",
      "source": [
        "strr2 = 5.802458033573141 - 5.689871099831397\n",
        "print(strr2)"
      ],
      "execution_count": 0,
      "outputs": [
        {
          "output_type": "stream",
          "text": [
            "0.11258693374174467\n"
          ],
          "name": "stdout"
        }
      ]
    },
    {
      "metadata": {
        "id": "z14DCzhtlyLr",
        "colab_type": "text"
      },
      "cell_type": "markdown",
      "source": [
        "#### Pill 3. Nexplanon"
      ]
    },
    {
      "metadata": {
        "id": "GFSveuboTCF5",
        "colab_type": "code",
        "outputId": "77474f24-3676-4e65-ea92-6aad6949a4d0",
        "colab": {
          "base_uri": "https://localhost:8080/",
          "height": 54
        }
      },
      "cell_type": "code",
      "source": [
        "confidence_interval_birth_control_n = confidence_interval(birth_control_n, confidence=0.95)\n",
        "print(confidence_interval_birth_control_n)\n",
        "report_confidence_interval(confidence_interval_birth_control_n)"
      ],
      "execution_count": 0,
      "outputs": [
        {
          "output_type": "stream",
          "text": [
            "(5.6730055658627085, 5.532388438116763, 5.813622693608654)\n"
          ],
          "name": "stdout"
        },
        {
          "output_type": "execute_result",
          "data": {
            "text/plain": [
              "'our mean lies in the interval 5.5, 5.8'"
            ]
          },
          "metadata": {
            "tags": []
          },
          "execution_count": 112
        }
      ]
    },
    {
      "metadata": {
        "id": "wzo7ZLxOmCOe",
        "colab_type": "text"
      },
      "cell_type": "markdown",
      "source": [
        "####SE (mean - lower bound)"
      ]
    },
    {
      "metadata": {
        "id": "yQPaMJrscLty",
        "colab_type": "code",
        "outputId": "58724b2a-881a-4bcc-bd37-34078adebd5f",
        "colab": {
          "base_uri": "https://localhost:8080/",
          "height": 35
        }
      },
      "cell_type": "code",
      "source": [
        "strr3 = 5.6730055658627085 - 5.532388438116763\n",
        "print(strr3)"
      ],
      "execution_count": 0,
      "outputs": [
        {
          "output_type": "stream",
          "text": [
            "0.14061712774594515\n"
          ],
          "name": "stdout"
        }
      ]
    },
    {
      "metadata": {
        "id": "cQ-NjCZ7l0vr",
        "colab_type": "text"
      },
      "cell_type": "markdown",
      "source": [
        "#### Pill 4. Nexplanon"
      ]
    },
    {
      "metadata": {
        "id": "0w_hGOY5TRxu",
        "colab_type": "code",
        "outputId": "d8bc7ec4-1aa2-4adf-a611-e17fdeefcd8c",
        "colab": {
          "base_uri": "https://localhost:8080/",
          "height": 54
        }
      },
      "cell_type": "code",
      "source": [
        "confidence_interval_birth_control_l = confidence_interval(birth_control_l, confidence=0.95)\n",
        "print(confidence_interval_birth_control_l)\n",
        "report_confidence_interval(confidence_interval_birth_control_l)"
      ],
      "execution_count": 0,
      "outputs": [
        {
          "output_type": "stream",
          "text": [
            "(7.6, 5.5157577337154, 9.684242266284599)\n"
          ],
          "name": "stdout"
        },
        {
          "output_type": "execute_result",
          "data": {
            "text/plain": [
              "'our mean lies in the interval 5.5, 9.7'"
            ]
          },
          "metadata": {
            "tags": []
          },
          "execution_count": 114
        }
      ]
    },
    {
      "metadata": {
        "id": "fOrqnrI0mGTt",
        "colab_type": "text"
      },
      "cell_type": "markdown",
      "source": [
        "####SE (mean - lower bound)"
      ]
    },
    {
      "metadata": {
        "id": "bP8YvVMNcYYS",
        "colab_type": "code",
        "outputId": "5594b4c9-e3f6-4221-d854-ce50d1e28ca0",
        "colab": {
          "base_uri": "https://localhost:8080/",
          "height": 35
        }
      },
      "cell_type": "code",
      "source": [
        "strr4 = 7.6 - 5.5157577337154\n",
        "print(strr4)"
      ],
      "execution_count": 0,
      "outputs": [
        {
          "output_type": "stream",
          "text": [
            "2.0842422662845994\n"
          ],
          "name": "stdout"
        }
      ]
    },
    {
      "metadata": {
        "id": "IRp1yh8TmKs5",
        "colab_type": "text"
      },
      "cell_type": "markdown",
      "source": [
        "### Making list of all four SE"
      ]
    },
    {
      "metadata": {
        "id": "nKgqXUmGsUUp",
        "colab_type": "code",
        "colab": {}
      },
      "cell_type": "code",
      "source": [
        ""
      ],
      "execution_count": 0,
      "outputs": []
    },
    {
      "metadata": {
        "id": "2FfJVmDBcqhR",
        "colab_type": "code",
        "outputId": "aea3da61-dc59-449b-c670-277c15c58ba1",
        "colab": {
          "base_uri": "https://localhost:8080/",
          "height": 55
        }
      },
      "cell_type": "code",
      "source": [
        "Strr_all = [strr, strr1, strr2, strr3, strr4]\n",
        "print(Strr_all)"
      ],
      "execution_count": 0,
      "outputs": [
        {
          "output_type": "stream",
          "text": [
            "[0.14820668071233545, 0.14820668071233545, 0.11258693374174467, 0.14061712774594515, 2.0842422662845994]\n"
          ],
          "name": "stdout"
        }
      ]
    },
    {
      "metadata": {
        "id": "Dk-r7IoPmTQ9",
        "colab_type": "text"
      },
      "cell_type": "markdown",
      "source": [
        "##Plotting the error for the four meds at 95% CI "
      ]
    },
    {
      "metadata": {
        "id": "0jvkUFy6SjTk",
        "colab_type": "code",
        "outputId": "924b5203-5591-45ba-c82f-b8b0167d4632",
        "colab": {
          "base_uri": "https://localhost:8080/",
          "height": 298
        }
      },
      "cell_type": "code",
      "source": [
        "import pandas as pd\n",
        "import matplotlib.pyplot as plt\n",
        "%pylab inline\n",
        "#The actual code\n",
        "#plt.errorbar(mean.index, mean, xerr=0.5, yerr=2*std, linestyle='')\n",
        "\n",
        "plt.errorbar([0,1,2,3], [5.799258474576271, 5.802458033573141, \n",
        "                         5.6730055658627085, 7.6 ], xerr = 0.02,\n",
        "              yerr=[0.14820668071233545, 0.11258693374174467, \n",
        "                               0.14061712774594515, 2.0842422662845994], \n",
        "             linestyle='', fmt='.k')\n",
        "plt.margins(0.2)\n",
        "#ylim(0,10)\n",
        "plt.title('Error Size in Four Different Types of Birth Control Med Rating')\n",
        "\n",
        "#plt.xticks(x, labels, rotation='vertical')\n",
        "#plt.xlabel('Ethinyl','Etonogestre', 'Nexplanon')\n",
        "plt.ylabel('Rating')\n",
        "\n",
        "plt.show();"
      ],
      "execution_count": 0,
      "outputs": [
        {
          "output_type": "stream",
          "text": [
            "Populating the interactive namespace from numpy and matplotlib\n"
          ],
          "name": "stdout"
        },
        {
          "output_type": "display_data",
          "data": {
            "image/png": "[encoded data removed]",
            "text/plain": [
              "<matplotlib.figure.Figure at 0x7f90c60460b8>"
            ]
          },
          "metadata": {
            "tags": []
          }
        }
      ]
    },
    {
      "metadata": {
        "id": "oR-yDNTgsWtB",
        "colab_type": "text"
      },
      "cell_type": "markdown",
      "source": [
        "####Ref [Python Data Science handbook](https://jakevdp.github.io/PythonDataScienceHandbook/04.03-errorbars.html)"
      ]
    },
    {
      "metadata": {
        "id": "so8dNn8armkv",
        "colab_type": "code",
        "outputId": "47151a02-a0e7-41af-efd7-a186bd2ac93e",
        "colab": {
          "base_uri": "https://localhost:8080/",
          "height": 265
        }
      },
      "cell_type": "code",
      "source": [
        "plt.errorbar([0,1,2,3], [5.799258474576271, 5.802458033573141, \n",
        "                         5.6730055658627085, 7.6 ],\n",
        "              yerr=[0.14820668071233545, 0.11258693374174467, \n",
        "                               0.14061712774594515, 2.0842422662845994], fmt='o', color='black',\n",
        "             ecolor='lightgray', elinewidth=5, capsize=0);"
      ],
      "execution_count": 0,
      "outputs": [
        {
          "output_type": "display_data",
          "data": {
            "image/png": "[encoded data removed]",
            "text/plain": [
              "<matplotlib.figure.Figure at 0x7f90c64d7710>"
            ]
          },
          "metadata": {
            "tags": []
          }
        }
      ]
    },
    {
      "metadata": {
        "id": "6hJrfOdNsAtd",
        "colab_type": "code",
        "outputId": "0c44fc34-ad12-4c52-86fd-67d476ecf579",
        "colab": {
          "base_uri": "https://localhost:8080/",
          "height": 265
        }
      },
      "cell_type": "code",
      "source": [
        "plt.errorbar([0,1,2,3], [5.799258474576271, 5.802458033573141, \n",
        "                         5.6730055658627085, 7.6 ], xerr = 0.04,\n",
        "              yerr=[0.14820668071233545, 0.11258693374174467, \n",
        "                               0.14061712774594515, 2.0842422662845994], fmt='.k');"
      ],
      "execution_count": 0,
      "outputs": [
        {
          "output_type": "display_data",
          "data": {
            "image/png": "[encoded data removed]",
            "text/plain": [
              "<matplotlib.figure.Figure at 0x7f90c5f820b8>"
            ]
          },
          "metadata": {
            "tags": []
          }
        }
      ]
    },
    {
      "metadata": {
        "id": "3txvVal-4zS1",
        "colab_type": "text"
      },
      "cell_type": "markdown",
      "source": [
        ""
      ]
    },
    {
      "metadata": {
        "id": "BEeHxYD1alwq",
        "colab_type": "text"
      },
      "cell_type": "markdown",
      "source": [
        "#Interpretation of Confidence Level\n",
        "\n",
        "if we sample same number number of people again and run the experiment, there is 95% likelihood that the mean rating for these birth control medicines will be between the lower bound and the upper bound. \n",
        "\n",
        "a 95% confidence interval covers 95% of the normal curve -- the probability of observing a value outside of this area is less than 0.05. ... A 95% confidence interval for the standard normal distribution, then, is the interval (-1.96, 1.96), since 95% of the area under the curve falls within this interval."
      ]
    }
  ]
}