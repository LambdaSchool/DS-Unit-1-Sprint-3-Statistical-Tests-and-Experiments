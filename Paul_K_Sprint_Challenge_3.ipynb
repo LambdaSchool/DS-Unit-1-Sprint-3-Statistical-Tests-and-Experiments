{
  "nbformat": 4,
  "nbformat_minor": 0,
  "metadata": {
    "colab": {
      "name": "Paul K Sprint_Challenge_3.ipynb",
      "version": "0.3.2",
      "provenance": [],
      "collapsed_sections": [],
      "include_colab_link": true
    },
    "kernelspec": {
      "name": "python3",
      "display_name": "Python 3"
    }
  },
  "cells": [
    {
      "cell_type": "markdown",
      "metadata": {
        "id": "view-in-github",
        "colab_type": "text"
      },
      "source": [
        "<a href=\"https://colab.research.google.com/github/llpk79/DS-Unit-1-Sprint-4-Statistical-Tests-and-Experiments/blob/master/Paul_K_Sprint_Challenge_3.ipynb\" target=\"_parent\"><img src=\"https://colab.research.google.com/assets/colab-badge.svg\" alt=\"Open In Colab\"/></a>"
      ]
    },
    {
      "cell_type": "markdown",
      "metadata": {
        "id": "NooAiTdnafkz",
        "colab_type": "text"
      },
      "source": [
        "# Data Science Unit 1 Sprint Challenge 4\n",
        "\n",
        "## Exploring Data, Testing Hypotheses\n",
        "\n",
        "In this sprint challenge you will look at a dataset of people being approved or rejected for credit.\n",
        "\n",
        "https://archive.ics.uci.edu/ml/datasets/Credit+Approval\n",
        "\n",
        "Data Set Information: This file concerns credit card applications. All attribute names and values have been changed to meaningless symbols to protect confidentiality of the data. This dataset is interesting because there is a good mix of attributes -- continuous, nominal with small numbers of values, and nominal with larger numbers of values. There are also a few missing values.\n",
        "\n",
        "Attribute Information:\n",
        "- A1: b, a.\n",
        "- A2: continuous.\n",
        "- A3: continuous.\n",
        "- A4: u, y, l, t.\n",
        "- A5: g, p, gg.\n",
        "- A6: c, d, cc, i, j, k, m, r, q, w, x, e, aa, ff.\n",
        "- A7: v, h, bb, j, n, z, dd, ff, o.\n",
        "- A8: continuous.\n",
        "- A9: t, f.\n",
        "- A10: t, f.\n",
        "- A11: continuous.\n",
        "- A12: t, f.\n",
        "- A13: g, p, s.\n",
        "- A14: continuous.\n",
        "- A15: continuous.\n",
        "- A16: +,- (class attribute)\n",
        "\n",
        "Yes, most of that doesn't mean anything. A16 (the class attribute) is the most interesting, as it separates the 307 approved cases from the 383 rejected cases. The remaining variables have been obfuscated for privacy - a challenge you may have to deal with in your data science career.\n",
        "\n",
        "Sprint challenges are evaluated based on satisfactory completion of each part. It is suggested you work through it in order, getting each aspect reasonably working, before trying to deeply explore, iterate, or refine any given step. Once you get to the end, if you want to go back and improve things, go for it!"
      ]
    },
    {
      "cell_type": "markdown",
      "metadata": {
        "id": "5wch6ksCbJtZ",
        "colab_type": "text"
      },
      "source": [
        "## Part 1 - Load and validate the data\n",
        "\n",
        "- Load the data as a `pandas` data frame.\n",
        "- Validate that it has the appropriate number of observations (you can check the raw file, and also read the dataset description from UCI).\n",
        "- UCI says there should be missing data - check, and if necessary change the data so pandas recognizes it as na\n",
        "- Make sure that the loaded features are of the types described above (continuous values should be treated as float), and correct as necessary\n",
        "\n",
        "This is review, but skills that you'll use at the start of any data exploration. Further, you may have to do some investigation to figure out which file to load from - that is part of the puzzle."
      ]
    },
    {
      "cell_type": "code",
      "metadata": {
        "id": "Q79xDLckzibS",
        "colab_type": "code",
        "colab": {}
      },
      "source": [
        "import pandas as pd\n",
        "import numpy as np\n",
        "import scipy.stats as st\n",
        "import matplotlib.pyplot as plt\n",
        "import seaborn as sns"
      ],
      "execution_count": 0,
      "outputs": []
    },
    {
      "cell_type": "code",
      "metadata": {
        "id": "NuAudzWMSm4m",
        "colab_type": "code",
        "colab": {}
      },
      "source": [
        "url = 'https://archive.ics.uci.edu/ml/machine-learning-databases/credit-screening/crx.data'"
      ],
      "execution_count": 0,
      "outputs": []
    },
    {
      "cell_type": "code",
      "metadata": {
        "id": "f0Txj9YrSutl",
        "colab_type": "code",
        "colab": {}
      },
      "source": [
        "columns = ['A1', 'A2', 'A3', 'A4', 'A5', 'A6', 'A7', 'A8', 'A9', 'A10', 'A11', 'A12', 'A13', 'A14', 'A15', 'A16']\n",
        "data = pd.read_csv(url, header=None, names=columns, na_values='?')\n",
        "data = data.fillna(method='bfill')\n",
        "data.isna().sum()"
      ],
      "execution_count": 0,
      "outputs": []
    },
    {
      "cell_type": "code",
      "metadata": {
        "id": "AM5FCVggVBmb",
        "colab_type": "code",
        "colab": {
          "base_uri": "https://localhost:8080/",
          "height": 173
        },
        "outputId": "f54e3d81-73e2-4d8b-f925-7d1c8c6402f9"
      },
      "source": [
        "data.describe(include='object')"
      ],
      "execution_count": 28,
      "outputs": [
        {
          "output_type": "execute_result",
          "data": {
            "text/html": [
              "<div>\n",
              "<style scoped>\n",
              "    .dataframe tbody tr th:only-of-type {\n",
              "        vertical-align: middle;\n",
              "    }\n",
              "\n",
              "    .dataframe tbody tr th {\n",
              "        vertical-align: top;\n",
              "    }\n",
              "\n",
              "    .dataframe thead th {\n",
              "        text-align: right;\n",
              "    }\n",
              "</style>\n",
              "<table border=\"1\" class=\"dataframe\">\n",
              "  <thead>\n",
              "    <tr style=\"text-align: right;\">\n",
              "      <th></th>\n",
              "      <th>A1</th>\n",
              "      <th>A4</th>\n",
              "      <th>A5</th>\n",
              "      <th>A6</th>\n",
              "      <th>A7</th>\n",
              "      <th>A9</th>\n",
              "      <th>A10</th>\n",
              "      <th>A12</th>\n",
              "      <th>A13</th>\n",
              "      <th>A16</th>\n",
              "    </tr>\n",
              "  </thead>\n",
              "  <tbody>\n",
              "    <tr>\n",
              "      <th>count</th>\n",
              "      <td>690</td>\n",
              "      <td>690</td>\n",
              "      <td>690</td>\n",
              "      <td>690</td>\n",
              "      <td>690</td>\n",
              "      <td>690</td>\n",
              "      <td>690</td>\n",
              "      <td>690</td>\n",
              "      <td>690</td>\n",
              "      <td>690</td>\n",
              "    </tr>\n",
              "    <tr>\n",
              "      <th>unique</th>\n",
              "      <td>2</td>\n",
              "      <td>3</td>\n",
              "      <td>3</td>\n",
              "      <td>14</td>\n",
              "      <td>9</td>\n",
              "      <td>2</td>\n",
              "      <td>2</td>\n",
              "      <td>2</td>\n",
              "      <td>3</td>\n",
              "      <td>2</td>\n",
              "    </tr>\n",
              "    <tr>\n",
              "      <th>top</th>\n",
              "      <td>b</td>\n",
              "      <td>u</td>\n",
              "      <td>g</td>\n",
              "      <td>c</td>\n",
              "      <td>v</td>\n",
              "      <td>t</td>\n",
              "      <td>f</td>\n",
              "      <td>f</td>\n",
              "      <td>g</td>\n",
              "      <td>-</td>\n",
              "    </tr>\n",
              "    <tr>\n",
              "      <th>freq</th>\n",
              "      <td>475</td>\n",
              "      <td>523</td>\n",
              "      <td>523</td>\n",
              "      <td>140</td>\n",
              "      <td>407</td>\n",
              "      <td>361</td>\n",
              "      <td>395</td>\n",
              "      <td>374</td>\n",
              "      <td>625</td>\n",
              "      <td>383</td>\n",
              "    </tr>\n",
              "  </tbody>\n",
              "</table>\n",
              "</div>"
            ],
            "text/plain": [
              "         A1   A4   A5   A6   A7   A9  A10  A12  A13  A16\n",
              "count   690  690  690  690  690  690  690  690  690  690\n",
              "unique    2    3    3   14    9    2    2    2    3    2\n",
              "top       b    u    g    c    v    t    f    f    g    -\n",
              "freq    475  523  523  140  407  361  395  374  625  383"
            ]
          },
          "metadata": {
            "tags": []
          },
          "execution_count": 28
        }
      ]
    },
    {
      "cell_type": "markdown",
      "metadata": {
        "id": "G7rLytbrO38L",
        "colab_type": "text"
      },
      "source": [
        "## Part 2 - Exploring data, Testing hypotheses\n",
        "\n",
        "The only thing we really know about this data is that A16 is the class label. Besides that, we have 6 continuous (float) features and 9 categorical features.\n",
        "\n",
        "Explore the data: you can use whatever approach (tables, utility functions, visualizations) to get an impression of the distributions and relationships of the variables. In general, your goal is to understand how the features are different when grouped by the two class labels (`+` and `-`).\n",
        "\n",
        "For the 6 continuous features, how are they different when split between the two class labels? Choose two features to run t-tests (again split by class label) - specifically, select one feature that is *extremely* different between the classes, and another feature that is notably less different (though perhaps still \"statistically significantly\" different). You may have to explore more than two features to do this.\n",
        "\n",
        "For the categorical features, explore by creating \"cross tabs\" (aka [contingency tables](https://en.wikipedia.org/wiki/Contingency_table)) between them and the class label, and apply the Chi-squared test to them. [pandas.crosstab](http://pandas.pydata.org/pandas-docs/stable/reference/api/pandas.crosstab.html) can create contingency tables, and [scipy.stats.chi2_contingency](https://docs.scipy.org/doc/scipy/reference/generated/scipy.stats.chi2_contingency.html) can calculate the Chi-squared statistic for them.\n",
        "\n",
        "There are 9 categorical features - as with the t-test, try to find one where the Chi-squared test returns an extreme result (rejecting the null that the data are independent), and one where it is less extreme.\n",
        "\n",
        "**NOTE** - \"less extreme\" just means smaller test statistic/larger p-value. Even the least extreme differences may be strongly statistically significant.\n",
        "\n",
        "Your *main* goal is the hypothesis tests, so don't spend too much time on the exploration/visualization piece. That is just a means to an end - use simple visualizations, such as boxplots or a scatter matrix (both built in to pandas), to get a feel for the overall distribution of the variables.\n",
        "\n",
        "This is challenging, so manage your time and aim for a baseline of at least running two t-tests and two Chi-squared tests before polishing. And don't forget to answer the questions in part 3, even if your results in this part aren't what you want them to be."
      ]
    },
    {
      "cell_type": "code",
      "metadata": {
        "id": "_nqcgc0yzm68",
        "colab_type": "code",
        "colab": {}
      },
      "source": [
        "pos = data[data['A16'] == '+']\n",
        "neg = data[data['A16'] == '-']"
      ],
      "execution_count": 0,
      "outputs": []
    },
    {
      "cell_type": "code",
      "metadata": {
        "id": "qRTVlYLJWZRj",
        "colab_type": "code",
        "colab": {}
      },
      "source": [
        "pos.describe()"
      ],
      "execution_count": 0,
      "outputs": []
    },
    {
      "cell_type": "code",
      "metadata": {
        "id": "An0_eobTWoH1",
        "colab_type": "code",
        "colab": {}
      },
      "source": [
        "neg.describe()"
      ],
      "execution_count": 0,
      "outputs": []
    },
    {
      "cell_type": "code",
      "metadata": {
        "id": "8x52tBn6Xvb5",
        "colab_type": "code",
        "colab": {}
      },
      "source": [
        "cont_columns = ['A2',\t'A3',\t'A8',\t'A11',\t'A14',\t'A15']"
      ],
      "execution_count": 0,
      "outputs": []
    },
    {
      "cell_type": "code",
      "metadata": {
        "id": "5FoP_g2CYKJX",
        "colab_type": "code",
        "colab": {
          "base_uri": "https://localhost:8080/",
          "height": 119
        },
        "outputId": "668f73c0-4f04-42b4-ec30-b465703f096b"
      },
      "source": [
        "for column in cont_columns:\n",
        "  stat, pval = st.ttest_ind(pos[column], neg[column])\n",
        "  print(column, stat, pval)"
      ],
      "execution_count": 27,
      "outputs": [
        {
          "output_type": "stream",
          "text": [
            "A2 4.426470508079215 1.1136636133412522e-05\n",
            "A3 5.52998337614816 4.551680702308068e-08\n",
            "A8 8.935819983773698 3.6710537401601785e-18\n",
            "A11 11.667004222431277 7.957718568079967e-29\n",
            "A14 -2.778766584532883 0.005605436656742499\n",
            "A15 4.680216020964486 3.4520256956287944e-06\n"
          ],
          "name": "stdout"
        }
      ]
    },
    {
      "cell_type": "markdown",
      "metadata": {
        "id": "3arzKd57Y-MH",
        "colab_type": "text"
      },
      "source": [
        "Most are \"extremely\" different as evidenced by the very low P values, with the exception of maybe A14, as I don't know what qualifies as extreme, but it is less different."
      ]
    },
    {
      "cell_type": "code",
      "metadata": {
        "id": "vD1nCYa3ahIb",
        "colab_type": "code",
        "colab": {}
      },
      "source": [
        "cat_columns = ['A1',\t'A4',\t'A5',\t'A6',\t'A7',\t'A9',\t'A10',\t'A12',\t'A13']"
      ],
      "execution_count": 0,
      "outputs": []
    },
    {
      "cell_type": "code",
      "metadata": {
        "id": "oK6JwpA5bCuU",
        "colab_type": "code",
        "colab": {
          "base_uri": "https://localhost:8080/",
          "height": 170
        },
        "outputId": "83a8f2e0-0065-4d65-f481-2ae60b466403"
      },
      "source": [
        "for column in cat_columns:\n",
        "  tab = pd.crosstab(index=pos['A16'], columns=pos[column])\n",
        "  chi_squared, p_value, dof, expected = st.chi2_contingency(tab)\n",
        "  print(column, p_value)"
      ],
      "execution_count": 35,
      "outputs": [
        {
          "output_type": "stream",
          "text": [
            "A1 0.6384724108987662\n",
            "A4 7.998275136625324e-07\n",
            "A5 7.998275136625324e-07\n",
            "A6 1.6060658740367989e-15\n",
            "A7 2.5758929132392513e-07\n",
            "A9 3.1185900878457007e-79\n",
            "A10 5.675727374527571e-33\n",
            "A12 0.45094587758631943\n",
            "A13 0.010094291370456362\n"
          ],
          "name": "stdout"
        }
      ]
    },
    {
      "cell_type": "markdown",
      "metadata": {
        "id": "If8z3R-4e6QQ",
        "colab_type": "text"
      },
      "source": [
        "We reject the null hypothesis of independence with A1 and A12. They are on the same order of magnetude of \"extremeness\" in their dependence with A16."
      ]
    },
    {
      "cell_type": "code",
      "metadata": {
        "id": "tlk9LmcydR43",
        "colab_type": "code",
        "colab": {
          "base_uri": "https://localhost:8080/",
          "height": 170
        },
        "outputId": "29bf417f-ea84-4b3b-b4a9-9b7078abbd78"
      },
      "source": [
        "for column in cat_columns:\n",
        "  tab = pd.crosstab(index=neg['A16'], columns=neg[column])\n",
        "  chi_squared, p_value, dof, expected = st.chi2_contingency(tab)\n",
        "  print(column, p_value)"
      ],
      "execution_count": 39,
      "outputs": [
        {
          "output_type": "stream",
          "text": [
            "A1 1.0\n",
            "A4 1.0\n",
            "A5 1.0\n",
            "A6 1.0\n",
            "A7 1.0\n",
            "A9 1.0\n",
            "A10 1.0\n",
            "A12 1.0\n",
            "A13 1.0\n"
          ],
          "name": "stdout"
        }
      ]
    },
    {
      "cell_type": "markdown",
      "metadata": {
        "id": "FVbGtCrvdHLS",
        "colab_type": "text"
      },
      "source": [
        "There are apparently no independent variables among the rejected applications, but this just makes me think I'm missing something major."
      ]
    },
    {
      "cell_type": "code",
      "metadata": {
        "id": "EDJhWVgrhrGj",
        "colab_type": "code",
        "colab": {}
      },
      "source": [
        "for column in columns[:-1]:\n",
        "  tab = pd.crosstab(index=data['A16'], columns=data[column])\n",
        "  chi_squared, p_value, dof, expected = st.chi2_contingency(tab)\n",
        "  print(column, p_value)"
      ],
      "execution_count": 0,
      "outputs": []
    },
    {
      "cell_type": "markdown",
      "metadata": {
        "id": "ZM8JckA2bgnp",
        "colab_type": "text"
      },
      "source": [
        "## Part 3 - Analysis and Interpretation\n",
        "\n",
        "Now that you've looked at the data, answer the following questions:\n",
        "\n",
        "- Interpret and explain the two t-tests you ran - what do they tell you about the relationships between the continuous features you selected and the class labels?\n",
        "- Interpret and explain the two Chi-squared tests you ran - what do they tell you about the relationships between the categorical features you selected and the class labels?\n",
        "- What was the most challenging part of this sprint challenge?\n",
        "\n",
        "Answer with text, but feel free to intersperse example code/results or refer to it from earlier."
      ]
    },
    {
      "cell_type": "markdown",
      "metadata": {
        "id": "LIozLDNG2Uhu",
        "colab_type": "text"
      },
      "source": [
        "- I'll go with A11 and A14. The p_value for A11 is very small, so we conclude that the neg and pos groups are significantly different on column A11. A14 has a much higher p_value so we cannot reject the null hypothesis that they are not different.\n",
        "\n",
        "- I'm pretty sure I've screwed the chi2 test up somehow, but, within the pos group, A1 and A12 are not independent from A16. Within the neg groups all appear to be dependent on A16. \n",
        "\n",
        "- The most challenging part of this is that I feel like this was rushed through in lectures with broken and simplistic examples and I never got very thourough answers to questions in office hours. I feel like I should probably repeat this week in flex.\n",
        "\n",
        "  The lack of meaningful labels is also challenging."
      ]
    }
  ]
}