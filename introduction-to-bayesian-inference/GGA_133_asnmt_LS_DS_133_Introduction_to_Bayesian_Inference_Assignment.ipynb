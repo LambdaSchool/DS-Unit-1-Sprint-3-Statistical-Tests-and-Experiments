{
  "nbformat": 4,
  "nbformat_minor": 0,
  "metadata": {
    "colab": {
      "name": "GGA 133 asnmt LS_DS_133_Introduction_to_Bayesian_Inference_Assignment.ipynb",
      "provenance": [],
      "include_colab_link": true
    },
    "kernelspec": {
      "name": "python3",
      "display_name": "Python 3"
    }
  },
  "cells": [
    {
      "cell_type": "markdown",
      "metadata": {
        "id": "view-in-github",
        "colab_type": "text"
      },
      "source": [
        "<a href=\"https://colab.research.google.com/github/lineality/DS-Unit-1-Sprint-3-Statistical-Tests-and-Experiments/blob/master/introduction-to-bayesian-inference/GGA_133_asnmt_LS_DS_133_Introduction_to_Bayesian_Inference_Assignment.ipynb\" target=\"_parent\"><img src=\"https://colab.research.google.com/assets/colab-badge.svg\" alt=\"Open In Colab\"/></a>"
      ]
    },
    {
      "cell_type": "markdown",
      "metadata": {
        "id": "H7OLbevlbd_Z",
        "colab_type": "text"
      },
      "source": [
        "# Lambda School Data Science Module 133\n",
        "\n",
        "## Introduction to Bayesian Inference\n",
        "\n",
        "\n"
      ]
    },
    {
      "cell_type": "markdown",
      "metadata": {
        "id": "P-DzzRk5bf0z",
        "colab_type": "text"
      },
      "source": [
        "## Assignment - Code it up!\n",
        "\n",
        "Most of the above was pure math - now write Python code to reproduce the results! This is purposefully open ended - you'll have to think about how you should represent probabilities and events. You can and should look things up, and as a stretch goal - refactor your code into helpful reusable functions!\n",
        "\n",
        "Specific goals/targets:\n",
        "\n",
        "1. Write a function `def prob_drunk_given_positive(prob_drunk_prior, prob_positive, prob_positive_drunk)` that reproduces the example from lecture, and use it to calculate and visualize a range of situations\n",
        "2. Explore `scipy.stats.bayes_mvs` - read its documentation, and experiment with it on data you've tested in other ways earlier this week\n",
        "3. Create a visualization comparing the results of a Bayesian approach to a traditional/frequentist approach\n",
        "4. In your own words, summarize the difference between Bayesian and Frequentist statistics\n",
        "\n",
        "If you're unsure where to start, check out [this blog post of Bayes theorem with Python](https://dataconomy.com/2015/02/introduction-to-bayes-theorem-with-python/) - you could and should create something similar!\n",
        "\n",
        "Stretch goals:\n",
        "\n",
        "- Apply a Bayesian technique to a problem you previously worked (in an assignment or project work) on from a frequentist (standard) perspective\n",
        "- Check out [PyMC3](https://docs.pymc.io/) (note this goes beyond hypothesis tests into modeling) - read the guides and work through some examples\n",
        "- Take PyMC3 further - see if you can build something with it!"
      ]
    },
    {
      "cell_type": "code",
      "metadata": {
        "id": "xpVhZyUnbf7o",
        "colab_type": "code",
        "colab": {}
      },
      "source": [
        "# TODO - code! def bayes_theorem_applier"
      ],
      "execution_count": 0,
      "outputs": []
    },
    {
      "cell_type": "code",
      "metadata": {
        "id": "FLWJKVb430li",
        "colab_type": "code",
        "colab": {}
      },
      "source": [
        "def bayes_theorum_drunk(prior, false_positive):\n",
        "  #creating a list to store values\n",
        "  prior_list = [0,0,0,0,0,0,0,0,0,0]\n",
        "\n",
        "  for i in prior_list:\n",
        "      \n",
        "    # setting variables\n",
        "    P_Drunk = prior #probability of being user: 0.005\n",
        "    P_Drunk_and_Test_Positive = 1 - false_positive \n",
        "    # false_positive = false_positive =  0.01\n",
        "    P_Sober_Not_Drunk = 1 - prior \n",
        "\n",
        "    #equation\n",
        "    new_prior = (P_Drunk_and_Test_Positive  * P_Drunk) / ((P_Drunk_and_Test_Positive * P_Drunk) + (false_positive * P_Sober_Not_Drunk)) \n",
        "      \n",
        "    #store values\n",
        "    prior_list[i] = new_prior\n",
        "\n",
        "    #for next recursive iteration, update prior\n",
        "    prior = new_prior\n",
        "\n",
        "  return prior_list\n"
      ],
      "execution_count": 0,
      "outputs": []
    },
    {
      "cell_type": "code",
      "metadata": {
        "id": "Wiv8VyAVSA6E",
        "colab_type": "code",
        "colab": {
          "base_uri": "https://localhost:8080/",
          "height": 33
        },
        "outputId": "5b30b515-7674-4d7b-a1ec-2ec2ec3a0a28"
      },
      "source": [
        "bayes_theorum_drunk(.005, 0.01)"
      ],
      "execution_count": 4,
      "outputs": [
        {
          "output_type": "execute_result",
          "data": {
            "text/plain": [
              "[1.0, 0, 0, 0, 0, 0, 0, 0, 0, 0]"
            ]
          },
          "metadata": {
            "tags": []
          },
          "execution_count": 4
        }
      ]
    },
    {
      "cell_type": "code",
      "metadata": {
        "id": "h5kPK8bCSZ8D",
        "colab_type": "code",
        "colab": {}
      },
      "source": [
        "def bayes_theorum_drunk(prior, false_positive):\n",
        "  #creating a list to store values\n",
        "#  prior_list = [0,0,0,0,0,0,0,0,0,0]\n",
        "\n",
        "#  for i in prior_list:\n",
        "      \n",
        "    # setting variables\n",
        "    P_Drunk = prior #probability of being user: 0.005\n",
        "    P_Drunk_and_Test_Positive = 1 - false_positive \n",
        "    # false_positive = false_positive =  0.01\n",
        "    P_Sober_Not_Drunk = 1 - prior \n",
        "\n",
        "    #equation\n",
        "    new_prior = (P_Drunk_and_Test_Positive  * P_Drunk) / ((P_Drunk_and_Test_Positive * P_Drunk) + (false_positive * P_Sober_Not_Drunk)) \n",
        "      \n",
        "    #store values\n",
        "#    prior_list[i] = new_prior\n",
        "\n",
        "    #for next recursive iteration, update prior\n",
        "    return new_prior\n",
        "\n",
        "\n",
        "#  return prior_list\n"
      ],
      "execution_count": 0,
      "outputs": []
    },
    {
      "cell_type": "code",
      "metadata": {
        "id": "nKPnZJrQVISS",
        "colab_type": "code",
        "colab": {
          "base_uri": "https://localhost:8080/",
          "height": 161
        },
        "outputId": "024b365f-2ace-4982-a3b7-1c371361990d"
      },
      "source": [
        ""
      ],
      "execution_count": 7,
      "outputs": [
        {
          "output_type": "error",
          "ename": "NameError",
          "evalue": "ignored",
          "traceback": [
            "\u001b[0;31m---------------------------------------------------------------------------\u001b[0m",
            "\u001b[0;31mNameError\u001b[0m                                 Traceback (most recent call last)",
            "\u001b[0;32m<ipython-input-7-a4f58bf8aafd>\u001b[0m in \u001b[0;36m<module>\u001b[0;34m()\u001b[0m\n\u001b[0;32m----> 1\u001b[0;31m \u001b[0mnew_prior\u001b[0m\u001b[0;34m\u001b[0m\u001b[0;34m\u001b[0m\u001b[0m\n\u001b[0m",
            "\u001b[0;31mNameError\u001b[0m: name 'new_prior' is not defined"
          ]
        }
      ]
    },
    {
      "cell_type": "markdown",
      "metadata": {
        "id": "uWgWjp3PQ3Sq",
        "colab_type": "text"
      },
      "source": [
        "## Resources"
      ]
    },
    {
      "cell_type": "markdown",
      "metadata": {
        "id": "QRgHqmYIQ9qn",
        "colab_type": "text"
      },
      "source": [
        "- [Worked example of Bayes rule calculation](https://en.wikipedia.org/wiki/Bayes'_theorem#Examples) (helpful as it fully breaks out the denominator)\n",
        "- [Source code for mvsdist in scipy](https://github.com/scipy/scipy/blob/90534919e139d2a81c24bf08341734ff41a3db12/scipy/stats/morestats.py#L139)"
      ]
    }
  ]
}