{
  "nbformat": 4,
  "nbformat_minor": 0,
  "metadata": {
    "colab": {
      "name": "Nicolae Dubenco DS_Unit_1_SC_3.ipynb",
      "version": "0.3.2",
      "provenance": [],
      "collapsed_sections": [],
      "include_colab_link": true
    },
    "kernelspec": {
      "name": "python3",
      "display_name": "Python 3"
    }
  },
  "cells": [
    {
      "cell_type": "markdown",
      "metadata": {
        "id": "view-in-github",
        "colab_type": "text"
      },
      "source": [
        "<a href=\"https://colab.research.google.com/github/NikuDubenco/DS-Unit-1-Sprint-4-Statistical-Tests-and-Experiments/blob/master/Nicolae_Dubenco_DS_Unit_1_SC_3.ipynb\" target=\"_parent\"><img src=\"https://colab.research.google.com/assets/colab-badge.svg\" alt=\"Open In Colab\"/></a>"
      ]
    },
    {
      "cell_type": "markdown",
      "metadata": {
        "id": "NooAiTdnafkz",
        "colab_type": "text"
      },
      "source": [
        "# Data Science Unit 1 Sprint Challenge 4\n",
        "\n",
        "## Exploring Data, Testing Hypotheses\n",
        "\n",
        "In this sprint challenge you will look at a dataset of people being approved or rejected for credit.\n",
        "\n",
        "https://archive.ics.uci.edu/ml/datasets/Credit+Approval\n",
        "\n",
        "Data Set Information: This file concerns credit card applications. All attribute names and values have been changed to meaningless symbols to protect confidentiality of the data. This dataset is interesting because there is a good mix of attributes -- continuous, nominal with small numbers of values, and nominal with larger numbers of values. There are also a few missing values.\n",
        "\n",
        "Attribute Information:\n",
        "- A1: b, a.\n",
        "- A2: continuous.\n",
        "- A3: continuous.\n",
        "- A4: u, y, l, t.\n",
        "- A5: g, p, gg.\n",
        "- A6: c, d, cc, i, j, k, m, r, q, w, x, e, aa, ff.\n",
        "- A7: v, h, bb, j, n, z, dd, ff, o.\n",
        "- A8: continuous.\n",
        "- A9: t, f.\n",
        "- A10: t, f.\n",
        "- A11: continuous.\n",
        "- A12: t, f.\n",
        "- A13: g, p, s.\n",
        "- A14: continuous.\n",
        "- A15: continuous.\n",
        "- A16: +,- (class attribute)\n",
        "\n",
        "Yes, most of that doesn't mean anything. A16 (the class attribute) is the most interesting, as it separates the 307 approved cases from the 383 rejected cases. The remaining variables have been obfuscated for privacy - a challenge you may have to deal with in your data science career.\n",
        "\n",
        "Sprint challenges are evaluated based on satisfactory completion of each part. It is suggested you work through it in order, getting each aspect reasonably working, before trying to deeply explore, iterate, or refine any given step. Once you get to the end, if you want to go back and improve things, go for it!"
      ]
    },
    {
      "cell_type": "markdown",
      "metadata": {
        "id": "5wch6ksCbJtZ",
        "colab_type": "text"
      },
      "source": [
        "## Part 1 - Load and validate the data\n",
        "\n",
        "- Load the data as a `pandas` data frame.\n",
        "- Validate that it has the appropriate number of observations (you can check the raw file, and also read the dataset description from UCI).\n",
        "- UCI says there should be missing data - check, and if necessary change the data so pandas recognizes it as na\n",
        "- Make sure that the loaded features are of the types described above (continuous values should be treated as float), and correct as necessary\n",
        "\n",
        "This is review, but skills that you'll use at the start of any data exploration. Further, you may have to do some investigation to figure out which file to load from - that is part of the puzzle."
      ]
    },
    {
      "cell_type": "code",
      "metadata": {
        "id": "Q79xDLckzibS",
        "colab_type": "code",
        "colab": {}
      },
      "source": [
        "# TODO\n",
        "import pandas as pd\n",
        "import numpy as np\n",
        "from scipy import stats\n",
        "import matplotlib.pyplot as plt\n",
        "import seaborn as sns"
      ],
      "execution_count": 0,
      "outputs": []
    },
    {
      "cell_type": "code",
      "metadata": {
        "id": "3GxFDnpgR7qp",
        "colab_type": "code",
        "colab": {
          "base_uri": "https://localhost:8080/",
          "height": 207
        },
        "outputId": "c744e5bd-84da-4a47-90c7-3f43cdb14216"
      },
      "source": [
        "!wget https://archive.ics.uci.edu/ml/machine-learning-databases/credit-screening/crx.data"
      ],
      "execution_count": 57,
      "outputs": [
        {
          "output_type": "stream",
          "text": [
            "--2019-05-10 15:54:08--  https://archive.ics.uci.edu/ml/machine-learning-databases/credit-screening/crx.data\n",
            "Resolving archive.ics.uci.edu (archive.ics.uci.edu)... 128.195.10.252\n",
            "Connecting to archive.ics.uci.edu (archive.ics.uci.edu)|128.195.10.252|:443... connected.\n",
            "HTTP request sent, awaiting response... 200 OK\n",
            "Length: 32218 (31K) [application/x-httpd-php]\n",
            "Saving to: ‘crx.data.2’\n",
            "\n",
            "\rcrx.data.2            0%[                    ]       0  --.-KB/s               \rcrx.data.2          100%[===================>]  31.46K  --.-KB/s    in 0.04s   \n",
            "\n",
            "2019-05-10 15:54:08 (852 KB/s) - ‘crx.data.2’ saved [32218/32218]\n",
            "\n"
          ],
          "name": "stdout"
        }
      ]
    },
    {
      "cell_type": "code",
      "metadata": {
        "id": "ZK0XF-reS6U9",
        "colab_type": "code",
        "colab": {
          "base_uri": "https://localhost:8080/",
          "height": 219
        },
        "outputId": "1e69f3c2-9565-42b2-e9dd-ac7ab5e31f14"
      },
      "source": [
        "df = pd.read_csv('crx.data', header=None, names=['A1', 'A2', 'A3', 'A4', 'A5', \n",
        "                                                 'A6', 'A7', 'A8', 'A9', 'A10', \n",
        "                                                 'A11', 'A12', 'A13', 'A14',\n",
        "                                                 'A15', 'A16'])\n",
        "\n",
        "print(df.shape)\n",
        "df.head()"
      ],
      "execution_count": 58,
      "outputs": [
        {
          "output_type": "stream",
          "text": [
            "(690, 16)\n"
          ],
          "name": "stdout"
        },
        {
          "output_type": "execute_result",
          "data": {
            "text/html": [
              "<div>\n",
              "<style scoped>\n",
              "    .dataframe tbody tr th:only-of-type {\n",
              "        vertical-align: middle;\n",
              "    }\n",
              "\n",
              "    .dataframe tbody tr th {\n",
              "        vertical-align: top;\n",
              "    }\n",
              "\n",
              "    .dataframe thead th {\n",
              "        text-align: right;\n",
              "    }\n",
              "</style>\n",
              "<table border=\"1\" class=\"dataframe\">\n",
              "  <thead>\n",
              "    <tr style=\"text-align: right;\">\n",
              "      <th></th>\n",
              "      <th>A1</th>\n",
              "      <th>A2</th>\n",
              "      <th>A3</th>\n",
              "      <th>A4</th>\n",
              "      <th>A5</th>\n",
              "      <th>A6</th>\n",
              "      <th>A7</th>\n",
              "      <th>A8</th>\n",
              "      <th>A9</th>\n",
              "      <th>A10</th>\n",
              "      <th>A11</th>\n",
              "      <th>A12</th>\n",
              "      <th>A13</th>\n",
              "      <th>A14</th>\n",
              "      <th>A15</th>\n",
              "      <th>A16</th>\n",
              "    </tr>\n",
              "  </thead>\n",
              "  <tbody>\n",
              "    <tr>\n",
              "      <th>0</th>\n",
              "      <td>b</td>\n",
              "      <td>30.83</td>\n",
              "      <td>0.000</td>\n",
              "      <td>u</td>\n",
              "      <td>g</td>\n",
              "      <td>w</td>\n",
              "      <td>v</td>\n",
              "      <td>1.25</td>\n",
              "      <td>t</td>\n",
              "      <td>t</td>\n",
              "      <td>1</td>\n",
              "      <td>f</td>\n",
              "      <td>g</td>\n",
              "      <td>00202</td>\n",
              "      <td>0</td>\n",
              "      <td>+</td>\n",
              "    </tr>\n",
              "    <tr>\n",
              "      <th>1</th>\n",
              "      <td>a</td>\n",
              "      <td>58.67</td>\n",
              "      <td>4.460</td>\n",
              "      <td>u</td>\n",
              "      <td>g</td>\n",
              "      <td>q</td>\n",
              "      <td>h</td>\n",
              "      <td>3.04</td>\n",
              "      <td>t</td>\n",
              "      <td>t</td>\n",
              "      <td>6</td>\n",
              "      <td>f</td>\n",
              "      <td>g</td>\n",
              "      <td>00043</td>\n",
              "      <td>560</td>\n",
              "      <td>+</td>\n",
              "    </tr>\n",
              "    <tr>\n",
              "      <th>2</th>\n",
              "      <td>a</td>\n",
              "      <td>24.50</td>\n",
              "      <td>0.500</td>\n",
              "      <td>u</td>\n",
              "      <td>g</td>\n",
              "      <td>q</td>\n",
              "      <td>h</td>\n",
              "      <td>1.50</td>\n",
              "      <td>t</td>\n",
              "      <td>f</td>\n",
              "      <td>0</td>\n",
              "      <td>f</td>\n",
              "      <td>g</td>\n",
              "      <td>00280</td>\n",
              "      <td>824</td>\n",
              "      <td>+</td>\n",
              "    </tr>\n",
              "    <tr>\n",
              "      <th>3</th>\n",
              "      <td>b</td>\n",
              "      <td>27.83</td>\n",
              "      <td>1.540</td>\n",
              "      <td>u</td>\n",
              "      <td>g</td>\n",
              "      <td>w</td>\n",
              "      <td>v</td>\n",
              "      <td>3.75</td>\n",
              "      <td>t</td>\n",
              "      <td>t</td>\n",
              "      <td>5</td>\n",
              "      <td>t</td>\n",
              "      <td>g</td>\n",
              "      <td>00100</td>\n",
              "      <td>3</td>\n",
              "      <td>+</td>\n",
              "    </tr>\n",
              "    <tr>\n",
              "      <th>4</th>\n",
              "      <td>b</td>\n",
              "      <td>20.17</td>\n",
              "      <td>5.625</td>\n",
              "      <td>u</td>\n",
              "      <td>g</td>\n",
              "      <td>w</td>\n",
              "      <td>v</td>\n",
              "      <td>1.71</td>\n",
              "      <td>t</td>\n",
              "      <td>f</td>\n",
              "      <td>0</td>\n",
              "      <td>f</td>\n",
              "      <td>s</td>\n",
              "      <td>00120</td>\n",
              "      <td>0</td>\n",
              "      <td>+</td>\n",
              "    </tr>\n",
              "  </tbody>\n",
              "</table>\n",
              "</div>"
            ],
            "text/plain": [
              "  A1     A2     A3 A4 A5 A6 A7    A8 A9 A10  A11 A12 A13    A14  A15 A16\n",
              "0  b  30.83  0.000  u  g  w  v  1.25  t   t    1   f   g  00202    0   +\n",
              "1  a  58.67  4.460  u  g  q  h  3.04  t   t    6   f   g  00043  560   +\n",
              "2  a  24.50  0.500  u  g  q  h  1.50  t   f    0   f   g  00280  824   +\n",
              "3  b  27.83  1.540  u  g  w  v  3.75  t   t    5   t   g  00100    3   +\n",
              "4  b  20.17  5.625  u  g  w  v  1.71  t   f    0   f   s  00120    0   +"
            ]
          },
          "metadata": {
            "tags": []
          },
          "execution_count": 58
        }
      ]
    },
    {
      "cell_type": "code",
      "metadata": {
        "id": "82XqJDRWWA0g",
        "colab_type": "code",
        "colab": {
          "base_uri": "https://localhost:8080/",
          "height": 311
        },
        "outputId": "ad519ebe-43e4-4e72-fe1f-183f3e08818e"
      },
      "source": [
        "df.isnull().sum()"
      ],
      "execution_count": 59,
      "outputs": [
        {
          "output_type": "execute_result",
          "data": {
            "text/plain": [
              "A1     0\n",
              "A2     0\n",
              "A3     0\n",
              "A4     0\n",
              "A5     0\n",
              "A6     0\n",
              "A7     0\n",
              "A8     0\n",
              "A9     0\n",
              "A10    0\n",
              "A11    0\n",
              "A12    0\n",
              "A13    0\n",
              "A14    0\n",
              "A15    0\n",
              "A16    0\n",
              "dtype: int64"
            ]
          },
          "metadata": {
            "tags": []
          },
          "execution_count": 59
        }
      ]
    },
    {
      "cell_type": "code",
      "metadata": {
        "id": "5jVXMfijWIiH",
        "colab_type": "code",
        "colab": {
          "base_uri": "https://localhost:8080/",
          "height": 1369
        },
        "outputId": "26c6f4ee-9e5d-48e9-cf57-ab2b7a1c0837"
      },
      "source": [
        "df.A1.unique(), df.A2.unique(), df.A3.unique()"
      ],
      "execution_count": 60,
      "outputs": [
        {
          "output_type": "execute_result",
          "data": {
            "text/plain": [
              "(array(['b', 'a', '?'], dtype=object),\n",
              " array(['30.83', '58.67', '24.50', '27.83', '20.17', '32.08', '33.17',\n",
              "        '22.92', '54.42', '42.50', '22.08', '29.92', '38.25', '48.08',\n",
              "        '45.83', '36.67', '28.25', '23.25', '21.83', '19.17', '25.00',\n",
              "        '47.75', '27.42', '41.17', '15.83', '47.00', '56.58', '57.42',\n",
              "        '42.08', '29.25', '42.00', '49.50', '36.75', '22.58', '27.25',\n",
              "        '23.00', '27.75', '54.58', '34.17', '28.92', '29.67', '39.58',\n",
              "        '56.42', '54.33', '41.00', '31.92', '41.50', '23.92', '25.75',\n",
              "        '26.00', '37.42', '34.92', '34.25', '23.33', '23.17', '44.33',\n",
              "        '35.17', '43.25', '56.75', '31.67', '23.42', '20.42', '26.67',\n",
              "        '36.00', '25.50', '19.42', '32.33', '34.83', '38.58', '44.25',\n",
              "        '44.83', '20.67', '34.08', '21.67', '21.50', '49.58', '27.67',\n",
              "        '39.83', '?', '37.17', '25.67', '34.00', '49.00', '62.50', '31.42',\n",
              "        '52.33', '28.75', '28.58', '22.50', '28.50', '37.50', '35.25',\n",
              "        '18.67', '54.83', '40.92', '19.75', '29.17', '24.58', '33.75',\n",
              "        '25.42', '37.75', '52.50', '57.83', '20.75', '39.92', '24.75',\n",
              "        '44.17', '23.50', '47.67', '22.75', '34.42', '28.42', '67.75',\n",
              "        '47.42', '36.25', '32.67', '48.58', '33.58', '18.83', '26.92',\n",
              "        '31.25', '56.50', '43.00', '22.33', '32.83', '40.33', '30.50',\n",
              "        '52.83', '46.67', '58.33', '37.33', '23.08', '32.75', '68.67',\n",
              "        '28.00', '44.00', '25.08', '32.00', '60.58', '40.83', '19.33',\n",
              "        '41.33', '56.00', '49.83', '22.67', '27.00', '26.08', '18.42',\n",
              "        '21.25', '57.08', '22.42', '48.75', '40.00', '40.58', '28.67',\n",
              "        '33.08', '21.33', '41.75', '34.50', '48.17', '27.58', '24.08',\n",
              "        '24.83', '36.33', '35.42', '71.58', '39.50', '39.33', '24.33',\n",
              "        '60.08', '55.92', '53.92', '18.92', '50.08', '65.42', '17.58',\n",
              "        '18.08', '19.67', '25.17', '33.50', '58.42', '26.17', '42.83',\n",
              "        '38.17', '20.50', '48.25', '28.33', '18.75', '18.50', '45.00',\n",
              "        '40.25', '41.42', '17.83', '18.17', '20.00', '52.17', '50.75',\n",
              "        '17.08', '18.33', '59.67', '18.00', '37.58', '30.67', '18.58',\n",
              "        '16.25', '21.17', '17.67', '16.50', '29.50', '21.75', '18.25',\n",
              "        '35.75', '16.08', '69.17', '32.92', '16.33', '22.17', '57.58',\n",
              "        '15.92', '31.75', '19.00', '17.50', '33.67', '30.17', '33.25',\n",
              "        '25.25', '34.75', '47.33', '39.08', '42.75', '38.92', '62.75',\n",
              "        '32.25', '26.75', '63.33', '30.75', '16.00', '19.50', '32.42',\n",
              "        '30.25', '26.83', '16.92', '24.42', '39.42', '23.58', '21.42',\n",
              "        '33.00', '26.33', '26.25', '28.17', '20.83', '43.17', '56.83',\n",
              "        '15.17', '29.83', '31.00', '51.92', '69.50', '19.58', '22.25',\n",
              "        '38.42', '26.58', '35.00', '29.42', '49.17', '51.83', '58.58',\n",
              "        '53.33', '27.17', '25.92', '30.58', '17.25', '27.33', '36.50',\n",
              "        '29.75', '52.42', '36.17', '34.58', '21.92', '36.58', '31.08',\n",
              "        '30.42', '21.08', '17.42', '39.17', '26.50', '17.33', '23.75',\n",
              "        '34.67', '74.83', '45.33', '47.25', '24.17', '39.25', '39.00',\n",
              "        '64.08', '31.33', '21.00', '13.75', '46.00', '20.25', '60.92',\n",
              "        '30.00', '22.83', '45.17', '41.58', '55.75', '25.33', '31.83',\n",
              "        '33.92', '24.92', '80.25', '30.08', '48.33', '76.75', '51.33',\n",
              "        '41.92', '29.58', '32.17', '51.42', '42.17', '43.08', '59.50',\n",
              "        '65.17', '20.33', '48.50', '28.08', '73.42', '51.58', '38.67',\n",
              "        '46.08', '20.08', '42.25', '16.17', '47.83', '22.00', '38.33',\n",
              "        '25.58', '21.58', '36.08', '38.75', '35.58', '31.58', '15.75',\n",
              "        '17.92', '30.33', '47.17', '25.83', '50.25', '36.42'], dtype=object),\n",
              " array([ 0.   ,  4.46 ,  0.5  ,  1.54 ,  5.625,  4.   ,  1.04 , 11.585,\n",
              "         4.915,  0.83 ,  1.835,  6.   ,  6.04 , 10.5  ,  4.415,  0.875,\n",
              "         5.875,  0.25 ,  8.585, 11.25 ,  1.   ,  8.   , 14.5  ,  6.5  ,\n",
              "         0.585, 13.   , 18.5  ,  8.5  , 14.79 ,  9.79 ,  7.585,  5.125,\n",
              "        10.75 ,  1.5  ,  1.585, 11.75 ,  9.415,  9.17 , 15.   ,  1.415,\n",
              "        13.915, 28.   ,  6.75 ,  2.04 ,  0.665,  2.5  ,  3.   , 11.625,\n",
              "         4.5  , 12.25 , 16.165,  0.79 ,  0.835,  4.25 ,  0.375, 25.125,\n",
              "         7.5  ,  5.   ,  7.   ,  5.29 ,  1.165,  9.75 , 19.   ,  3.5  ,\n",
              "         0.625,  2.21 , 12.75 , 15.5  ,  1.375,  3.54 , 11.   ,  1.75 ,\n",
              "        16.5  , 12.   ,  2.25 ,  0.75 , 12.5  ,  1.25 ,  1.125,  7.04 ,\n",
              "        10.335,  6.21 ,  6.665,  9.   ,  5.5  ,  0.54 ,  2.75 ,  9.5  ,\n",
              "        13.5  ,  3.75 , 16.   ,  0.29 ,  1.665,  7.54 ,  0.46 , 10.   ,\n",
              "        11.5  ,  3.04 ,  2.   ,  0.08 ,  1.71 ,  3.25 ,  2.54 , 13.585,\n",
              "         8.665,  9.25 ,  8.17 ,  2.335, 19.5  ,  5.665,  4.625,  0.205,\n",
              "         0.96 ,  4.04 ,  5.04 ,  3.165,  7.625, 10.04 , 10.25 ,  2.125,\n",
              "         9.335,  6.625,  2.71 ,  9.625, 12.54 ,  9.54 ,  8.46 , 13.75 ,\n",
              "        21.   , 10.125, 25.085,  0.21 , 21.5  , 11.125, 11.045,  1.335,\n",
              "         0.085,  1.21 ,  0.165,  5.71 ,  5.415, 12.625,  0.58 ,  0.415,\n",
              "         2.415,  0.335,  3.125, 12.125,  2.875, 13.665, 26.335, 10.29 ,\n",
              "         1.29 , 22.   ,  0.125,  1.085,  4.085,  4.71 ,  6.165,  4.585,\n",
              "        11.46 , 14.585,  0.17 ,  1.625,  2.085,  5.085,  8.125,  2.835,\n",
              "         1.79 ,  0.705,  2.165,  2.29 , 18.125,  3.085, 11.665,  4.125,\n",
              "         1.08 , 13.335, 11.835,  4.79 ,  9.96 ,  7.08 , 25.21 ,  0.67 ,\n",
              "         3.79 , 22.29 ,  3.335,  0.42 ,  1.46 ,  0.04 , 12.33 , 12.335,\n",
              "         0.915, 14.   , 17.75 , 20.   ,  5.25 ,  4.165, 10.915,  4.75 ,\n",
              "        10.415,  7.835,  0.71 ,  2.46 ,  9.585,  3.625,  2.665,  5.835,\n",
              "        12.835, 10.665,  7.25 , 10.21 ,  3.29 , 10.085,  3.375]))"
            ]
          },
          "metadata": {
            "tags": []
          },
          "execution_count": 60
        }
      ]
    },
    {
      "cell_type": "code",
      "metadata": {
        "id": "-2JEN0s1W88_",
        "colab_type": "code",
        "colab": {
          "base_uri": "https://localhost:8080/",
          "height": 86
        },
        "outputId": "f73290e5-602e-4644-c311-c7a91bd1d3b0"
      },
      "source": [
        "df.A4.unique(), df.A5.unique(), df.A6.unique()"
      ],
      "execution_count": 61,
      "outputs": [
        {
          "output_type": "execute_result",
          "data": {
            "text/plain": [
              "(array(['u', 'y', '?', 'l'], dtype=object),\n",
              " array(['g', 'p', '?', 'gg'], dtype=object),\n",
              " array(['w', 'q', 'm', 'r', 'cc', 'k', 'c', 'd', 'x', 'i', 'e', 'aa', 'ff',\n",
              "        'j', '?'], dtype=object))"
            ]
          },
          "metadata": {
            "tags": []
          },
          "execution_count": 61
        }
      ]
    },
    {
      "cell_type": "code",
      "metadata": {
        "id": "NihdUkltXZ3I",
        "colab_type": "code",
        "colab": {}
      },
      "source": [
        "df = df.replace({'?':np.NaN})"
      ],
      "execution_count": 0,
      "outputs": []
    },
    {
      "cell_type": "code",
      "metadata": {
        "id": "YEuaVhszXkiX",
        "colab_type": "code",
        "colab": {
          "base_uri": "https://localhost:8080/",
          "height": 311
        },
        "outputId": "9fc636bf-78be-42d2-b482-84967e715deb"
      },
      "source": [
        "df.isnull().sum()"
      ],
      "execution_count": 63,
      "outputs": [
        {
          "output_type": "execute_result",
          "data": {
            "text/plain": [
              "A1     12\n",
              "A2     12\n",
              "A3      0\n",
              "A4      6\n",
              "A5      6\n",
              "A6      9\n",
              "A7      9\n",
              "A8      0\n",
              "A9      0\n",
              "A10     0\n",
              "A11     0\n",
              "A12     0\n",
              "A13     0\n",
              "A14    13\n",
              "A15     0\n",
              "A16     0\n",
              "dtype: int64"
            ]
          },
          "metadata": {
            "tags": []
          },
          "execution_count": 63
        }
      ]
    },
    {
      "cell_type": "code",
      "metadata": {
        "id": "hDoazjJ6X5n1",
        "colab_type": "code",
        "colab": {
          "base_uri": "https://localhost:8080/",
          "height": 381
        },
        "outputId": "cb5f1ca8-0915-4b10-e781-dda309782ac9"
      },
      "source": [
        "df.info()"
      ],
      "execution_count": 64,
      "outputs": [
        {
          "output_type": "stream",
          "text": [
            "<class 'pandas.core.frame.DataFrame'>\n",
            "RangeIndex: 690 entries, 0 to 689\n",
            "Data columns (total 16 columns):\n",
            "A1     678 non-null object\n",
            "A2     678 non-null object\n",
            "A3     690 non-null float64\n",
            "A4     684 non-null object\n",
            "A5     684 non-null object\n",
            "A6     681 non-null object\n",
            "A7     681 non-null object\n",
            "A8     690 non-null float64\n",
            "A9     690 non-null object\n",
            "A10    690 non-null object\n",
            "A11    690 non-null int64\n",
            "A12    690 non-null object\n",
            "A13    690 non-null object\n",
            "A14    677 non-null object\n",
            "A15    690 non-null int64\n",
            "A16    690 non-null object\n",
            "dtypes: float64(2), int64(2), object(12)\n",
            "memory usage: 86.3+ KB\n"
          ],
          "name": "stdout"
        }
      ]
    },
    {
      "cell_type": "code",
      "metadata": {
        "id": "Tg8UJOW7ZAbn",
        "colab_type": "code",
        "colab": {
          "base_uri": "https://localhost:8080/",
          "height": 51
        },
        "outputId": "8151ee41-4243-449b-9464-56677a8ab324"
      },
      "source": [
        "df.A11.unique()"
      ],
      "execution_count": 65,
      "outputs": [
        {
          "output_type": "execute_result",
          "data": {
            "text/plain": [
              "array([ 1,  6,  0,  5,  7, 10,  3, 17,  2,  9,  8, 15, 11, 12, 40, 23,  4,\n",
              "       20, 67, 14, 16, 13, 19])"
            ]
          },
          "metadata": {
            "tags": []
          },
          "execution_count": 65
        }
      ]
    },
    {
      "cell_type": "code",
      "metadata": {
        "id": "TWqVdO8JZNJ7",
        "colab_type": "code",
        "colab": {
          "base_uri": "https://localhost:8080/",
          "height": 450
        },
        "outputId": "4bd5eb5c-5bc3-4c1d-85cd-edc581ce4d4f"
      },
      "source": [
        "df.A14.unique()"
      ],
      "execution_count": 66,
      "outputs": [
        {
          "output_type": "execute_result",
          "data": {
            "text/plain": [
              "array(['00202', '00043', '00280', '00100', '00120', '00360', '00164',\n",
              "       '00080', '00180', '00052', '00128', '00260', '00000', '00320',\n",
              "       '00396', '00096', '00200', '00300', '00145', '00500', '00168',\n",
              "       '00434', '00583', '00030', '00240', '00070', '00455', '00311',\n",
              "       '00216', '00491', '00400', '00239', '00160', '00711', '00250',\n",
              "       '00520', '00515', '00420', nan, '00980', '00443', '00140', '00094',\n",
              "       '00368', '00288', '00928', '00188', '00112', '00171', '00268',\n",
              "       '00167', '00075', '00152', '00176', '00329', '00212', '00410',\n",
              "       '00274', '00375', '00408', '00350', '00204', '00040', '00181',\n",
              "       '00399', '00440', '00093', '00060', '00395', '00393', '00021',\n",
              "       '00029', '00102', '00431', '00370', '00024', '00020', '00129',\n",
              "       '00510', '00195', '00144', '00380', '00049', '00050', '00381',\n",
              "       '00150', '00117', '00056', '00211', '00230', '00156', '00022',\n",
              "       '00228', '00519', '00253', '00487', '00220', '00088', '00073',\n",
              "       '00121', '00470', '00136', '00132', '00292', '00154', '00272',\n",
              "       '00340', '00108', '00720', '00450', '00232', '00170', '01160',\n",
              "       '00411', '00460', '00348', '00480', '00640', '00372', '00276',\n",
              "       '00221', '00352', '00141', '00178', '00600', '00550', '02000',\n",
              "       '00225', '00210', '00110', '00356', '00045', '00062', '00092',\n",
              "       '00174', '00017', '00086', '00454', '00254', '00028', '00263',\n",
              "       '00333', '00312', '00290', '00371', '00099', '00252', '00760',\n",
              "       '00560', '00130', '00523', '00680', '00163', '00208', '00383',\n",
              "       '00330', '00422', '00840', '00432', '00032', '00186', '00303',\n",
              "       '00349', '00224', '00369', '00076', '00231', '00309', '00416',\n",
              "       '00465', '00256'], dtype=object)"
            ]
          },
          "metadata": {
            "tags": []
          },
          "execution_count": 66
        }
      ]
    },
    {
      "cell_type": "code",
      "metadata": {
        "id": "YpWJBUnOYsUe",
        "colab_type": "code",
        "colab": {}
      },
      "source": [
        "df[['A2', 'A14']] = df[['A2', 'A14']].astype('float64')"
      ],
      "execution_count": 0,
      "outputs": []
    },
    {
      "cell_type": "code",
      "metadata": {
        "id": "ugi9NwABeA4V",
        "colab_type": "code",
        "colab": {
          "base_uri": "https://localhost:8080/",
          "height": 202
        },
        "outputId": "9c8d46c6-329a-497f-b9ac-49fd0235f02c"
      },
      "source": [
        "df.head()"
      ],
      "execution_count": 79,
      "outputs": [
        {
          "output_type": "execute_result",
          "data": {
            "text/html": [
              "<div>\n",
              "<style scoped>\n",
              "    .dataframe tbody tr th:only-of-type {\n",
              "        vertical-align: middle;\n",
              "    }\n",
              "\n",
              "    .dataframe tbody tr th {\n",
              "        vertical-align: top;\n",
              "    }\n",
              "\n",
              "    .dataframe thead th {\n",
              "        text-align: right;\n",
              "    }\n",
              "</style>\n",
              "<table border=\"1\" class=\"dataframe\">\n",
              "  <thead>\n",
              "    <tr style=\"text-align: right;\">\n",
              "      <th></th>\n",
              "      <th>A1</th>\n",
              "      <th>A2</th>\n",
              "      <th>A3</th>\n",
              "      <th>A4</th>\n",
              "      <th>A5</th>\n",
              "      <th>A6</th>\n",
              "      <th>A7</th>\n",
              "      <th>A8</th>\n",
              "      <th>A9</th>\n",
              "      <th>A10</th>\n",
              "      <th>A11</th>\n",
              "      <th>A12</th>\n",
              "      <th>A13</th>\n",
              "      <th>A14</th>\n",
              "      <th>A15</th>\n",
              "      <th>A16</th>\n",
              "    </tr>\n",
              "  </thead>\n",
              "  <tbody>\n",
              "    <tr>\n",
              "      <th>0</th>\n",
              "      <td>b</td>\n",
              "      <td>30.83</td>\n",
              "      <td>0.000</td>\n",
              "      <td>u</td>\n",
              "      <td>g</td>\n",
              "      <td>w</td>\n",
              "      <td>v</td>\n",
              "      <td>1.25</td>\n",
              "      <td>t</td>\n",
              "      <td>t</td>\n",
              "      <td>1</td>\n",
              "      <td>f</td>\n",
              "      <td>g</td>\n",
              "      <td>202.0</td>\n",
              "      <td>0</td>\n",
              "      <td>+</td>\n",
              "    </tr>\n",
              "    <tr>\n",
              "      <th>1</th>\n",
              "      <td>a</td>\n",
              "      <td>58.67</td>\n",
              "      <td>4.460</td>\n",
              "      <td>u</td>\n",
              "      <td>g</td>\n",
              "      <td>q</td>\n",
              "      <td>h</td>\n",
              "      <td>3.04</td>\n",
              "      <td>t</td>\n",
              "      <td>t</td>\n",
              "      <td>6</td>\n",
              "      <td>f</td>\n",
              "      <td>g</td>\n",
              "      <td>43.0</td>\n",
              "      <td>560</td>\n",
              "      <td>+</td>\n",
              "    </tr>\n",
              "    <tr>\n",
              "      <th>2</th>\n",
              "      <td>a</td>\n",
              "      <td>24.50</td>\n",
              "      <td>0.500</td>\n",
              "      <td>u</td>\n",
              "      <td>g</td>\n",
              "      <td>q</td>\n",
              "      <td>h</td>\n",
              "      <td>1.50</td>\n",
              "      <td>t</td>\n",
              "      <td>f</td>\n",
              "      <td>0</td>\n",
              "      <td>f</td>\n",
              "      <td>g</td>\n",
              "      <td>280.0</td>\n",
              "      <td>824</td>\n",
              "      <td>+</td>\n",
              "    </tr>\n",
              "    <tr>\n",
              "      <th>3</th>\n",
              "      <td>b</td>\n",
              "      <td>27.83</td>\n",
              "      <td>1.540</td>\n",
              "      <td>u</td>\n",
              "      <td>g</td>\n",
              "      <td>w</td>\n",
              "      <td>v</td>\n",
              "      <td>3.75</td>\n",
              "      <td>t</td>\n",
              "      <td>t</td>\n",
              "      <td>5</td>\n",
              "      <td>t</td>\n",
              "      <td>g</td>\n",
              "      <td>100.0</td>\n",
              "      <td>3</td>\n",
              "      <td>+</td>\n",
              "    </tr>\n",
              "    <tr>\n",
              "      <th>4</th>\n",
              "      <td>b</td>\n",
              "      <td>20.17</td>\n",
              "      <td>5.625</td>\n",
              "      <td>u</td>\n",
              "      <td>g</td>\n",
              "      <td>w</td>\n",
              "      <td>v</td>\n",
              "      <td>1.71</td>\n",
              "      <td>t</td>\n",
              "      <td>f</td>\n",
              "      <td>0</td>\n",
              "      <td>f</td>\n",
              "      <td>s</td>\n",
              "      <td>120.0</td>\n",
              "      <td>0</td>\n",
              "      <td>+</td>\n",
              "    </tr>\n",
              "  </tbody>\n",
              "</table>\n",
              "</div>"
            ],
            "text/plain": [
              "  A1     A2     A3 A4 A5 A6 A7    A8 A9 A10  A11 A12 A13    A14  A15 A16\n",
              "0  b  30.83  0.000  u  g  w  v  1.25  t   t    1   f   g  202.0    0   +\n",
              "1  a  58.67  4.460  u  g  q  h  3.04  t   t    6   f   g   43.0  560   +\n",
              "2  a  24.50  0.500  u  g  q  h  1.50  t   f    0   f   g  280.0  824   +\n",
              "3  b  27.83  1.540  u  g  w  v  3.75  t   t    5   t   g  100.0    3   +\n",
              "4  b  20.17  5.625  u  g  w  v  1.71  t   f    0   f   s  120.0    0   +"
            ]
          },
          "metadata": {
            "tags": []
          },
          "execution_count": 79
        }
      ]
    },
    {
      "cell_type": "code",
      "metadata": {
        "id": "pNiSLoiwZzTC",
        "colab_type": "code",
        "colab": {
          "base_uri": "https://localhost:8080/",
          "height": 381
        },
        "outputId": "dc60f20b-d1b8-452f-b255-1877bf43e0d6"
      },
      "source": [
        "df.info()"
      ],
      "execution_count": 80,
      "outputs": [
        {
          "output_type": "stream",
          "text": [
            "<class 'pandas.core.frame.DataFrame'>\n",
            "RangeIndex: 690 entries, 0 to 689\n",
            "Data columns (total 16 columns):\n",
            "A1     678 non-null object\n",
            "A2     678 non-null float64\n",
            "A3     690 non-null float64\n",
            "A4     684 non-null object\n",
            "A5     684 non-null object\n",
            "A6     681 non-null object\n",
            "A7     681 non-null object\n",
            "A8     690 non-null float64\n",
            "A9     690 non-null object\n",
            "A10    690 non-null object\n",
            "A11    690 non-null int64\n",
            "A12    690 non-null object\n",
            "A13    690 non-null object\n",
            "A14    677 non-null float64\n",
            "A15    690 non-null int64\n",
            "A16    690 non-null object\n",
            "dtypes: float64(4), int64(2), object(10)\n",
            "memory usage: 86.3+ KB\n"
          ],
          "name": "stdout"
        }
      ]
    },
    {
      "cell_type": "code",
      "metadata": {
        "id": "gDDyuyjpb1Yy",
        "colab_type": "code",
        "colab": {
          "base_uri": "https://localhost:8080/",
          "height": 294
        },
        "outputId": "203a4af2-c25d-496c-a742-5774e47c7b3a"
      },
      "source": [
        "df.describe()"
      ],
      "execution_count": 81,
      "outputs": [
        {
          "output_type": "execute_result",
          "data": {
            "text/html": [
              "<div>\n",
              "<style scoped>\n",
              "    .dataframe tbody tr th:only-of-type {\n",
              "        vertical-align: middle;\n",
              "    }\n",
              "\n",
              "    .dataframe tbody tr th {\n",
              "        vertical-align: top;\n",
              "    }\n",
              "\n",
              "    .dataframe thead th {\n",
              "        text-align: right;\n",
              "    }\n",
              "</style>\n",
              "<table border=\"1\" class=\"dataframe\">\n",
              "  <thead>\n",
              "    <tr style=\"text-align: right;\">\n",
              "      <th></th>\n",
              "      <th>A2</th>\n",
              "      <th>A3</th>\n",
              "      <th>A8</th>\n",
              "      <th>A11</th>\n",
              "      <th>A14</th>\n",
              "      <th>A15</th>\n",
              "    </tr>\n",
              "  </thead>\n",
              "  <tbody>\n",
              "    <tr>\n",
              "      <th>count</th>\n",
              "      <td>678.000000</td>\n",
              "      <td>690.000000</td>\n",
              "      <td>690.000000</td>\n",
              "      <td>690.00000</td>\n",
              "      <td>677.000000</td>\n",
              "      <td>690.000000</td>\n",
              "    </tr>\n",
              "    <tr>\n",
              "      <th>mean</th>\n",
              "      <td>31.568171</td>\n",
              "      <td>4.758725</td>\n",
              "      <td>2.223406</td>\n",
              "      <td>2.40000</td>\n",
              "      <td>184.014771</td>\n",
              "      <td>1017.385507</td>\n",
              "    </tr>\n",
              "    <tr>\n",
              "      <th>std</th>\n",
              "      <td>11.957862</td>\n",
              "      <td>4.978163</td>\n",
              "      <td>3.346513</td>\n",
              "      <td>4.86294</td>\n",
              "      <td>173.806768</td>\n",
              "      <td>5210.102598</td>\n",
              "    </tr>\n",
              "    <tr>\n",
              "      <th>min</th>\n",
              "      <td>13.750000</td>\n",
              "      <td>0.000000</td>\n",
              "      <td>0.000000</td>\n",
              "      <td>0.00000</td>\n",
              "      <td>0.000000</td>\n",
              "      <td>0.000000</td>\n",
              "    </tr>\n",
              "    <tr>\n",
              "      <th>25%</th>\n",
              "      <td>22.602500</td>\n",
              "      <td>1.000000</td>\n",
              "      <td>0.165000</td>\n",
              "      <td>0.00000</td>\n",
              "      <td>75.000000</td>\n",
              "      <td>0.000000</td>\n",
              "    </tr>\n",
              "    <tr>\n",
              "      <th>50%</th>\n",
              "      <td>28.460000</td>\n",
              "      <td>2.750000</td>\n",
              "      <td>1.000000</td>\n",
              "      <td>0.00000</td>\n",
              "      <td>160.000000</td>\n",
              "      <td>5.000000</td>\n",
              "    </tr>\n",
              "    <tr>\n",
              "      <th>75%</th>\n",
              "      <td>38.230000</td>\n",
              "      <td>7.207500</td>\n",
              "      <td>2.625000</td>\n",
              "      <td>3.00000</td>\n",
              "      <td>276.000000</td>\n",
              "      <td>395.500000</td>\n",
              "    </tr>\n",
              "    <tr>\n",
              "      <th>max</th>\n",
              "      <td>80.250000</td>\n",
              "      <td>28.000000</td>\n",
              "      <td>28.500000</td>\n",
              "      <td>67.00000</td>\n",
              "      <td>2000.000000</td>\n",
              "      <td>100000.000000</td>\n",
              "    </tr>\n",
              "  </tbody>\n",
              "</table>\n",
              "</div>"
            ],
            "text/plain": [
              "               A2          A3          A8        A11          A14  \\\n",
              "count  678.000000  690.000000  690.000000  690.00000   677.000000   \n",
              "mean    31.568171    4.758725    2.223406    2.40000   184.014771   \n",
              "std     11.957862    4.978163    3.346513    4.86294   173.806768   \n",
              "min     13.750000    0.000000    0.000000    0.00000     0.000000   \n",
              "25%     22.602500    1.000000    0.165000    0.00000    75.000000   \n",
              "50%     28.460000    2.750000    1.000000    0.00000   160.000000   \n",
              "75%     38.230000    7.207500    2.625000    3.00000   276.000000   \n",
              "max     80.250000   28.000000   28.500000   67.00000  2000.000000   \n",
              "\n",
              "                 A15  \n",
              "count     690.000000  \n",
              "mean     1017.385507  \n",
              "std      5210.102598  \n",
              "min         0.000000  \n",
              "25%         0.000000  \n",
              "50%         5.000000  \n",
              "75%       395.500000  \n",
              "max    100000.000000  "
            ]
          },
          "metadata": {
            "tags": []
          },
          "execution_count": 81
        }
      ]
    },
    {
      "cell_type": "code",
      "metadata": {
        "id": "qeUj_KDOfBBQ",
        "colab_type": "code",
        "colab": {
          "base_uri": "https://localhost:8080/",
          "height": 386
        },
        "outputId": "08262862-6a1c-4fad-836b-894ce0d5001c"
      },
      "source": [
        "df.describe(include='all')"
      ],
      "execution_count": 85,
      "outputs": [
        {
          "output_type": "execute_result",
          "data": {
            "text/html": [
              "<div>\n",
              "<style scoped>\n",
              "    .dataframe tbody tr th:only-of-type {\n",
              "        vertical-align: middle;\n",
              "    }\n",
              "\n",
              "    .dataframe tbody tr th {\n",
              "        vertical-align: top;\n",
              "    }\n",
              "\n",
              "    .dataframe thead th {\n",
              "        text-align: right;\n",
              "    }\n",
              "</style>\n",
              "<table border=\"1\" class=\"dataframe\">\n",
              "  <thead>\n",
              "    <tr style=\"text-align: right;\">\n",
              "      <th></th>\n",
              "      <th>A1</th>\n",
              "      <th>A2</th>\n",
              "      <th>A3</th>\n",
              "      <th>A4</th>\n",
              "      <th>A5</th>\n",
              "      <th>A6</th>\n",
              "      <th>A7</th>\n",
              "      <th>A8</th>\n",
              "      <th>A9</th>\n",
              "      <th>A10</th>\n",
              "      <th>A11</th>\n",
              "      <th>A12</th>\n",
              "      <th>A13</th>\n",
              "      <th>A14</th>\n",
              "      <th>A15</th>\n",
              "      <th>A16</th>\n",
              "    </tr>\n",
              "  </thead>\n",
              "  <tbody>\n",
              "    <tr>\n",
              "      <th>count</th>\n",
              "      <td>678</td>\n",
              "      <td>678.000000</td>\n",
              "      <td>690.000000</td>\n",
              "      <td>684</td>\n",
              "      <td>684</td>\n",
              "      <td>681</td>\n",
              "      <td>681</td>\n",
              "      <td>690.000000</td>\n",
              "      <td>690</td>\n",
              "      <td>690</td>\n",
              "      <td>690.00000</td>\n",
              "      <td>690</td>\n",
              "      <td>690</td>\n",
              "      <td>677.000000</td>\n",
              "      <td>690.000000</td>\n",
              "      <td>690</td>\n",
              "    </tr>\n",
              "    <tr>\n",
              "      <th>unique</th>\n",
              "      <td>2</td>\n",
              "      <td>NaN</td>\n",
              "      <td>NaN</td>\n",
              "      <td>3</td>\n",
              "      <td>3</td>\n",
              "      <td>14</td>\n",
              "      <td>9</td>\n",
              "      <td>NaN</td>\n",
              "      <td>2</td>\n",
              "      <td>2</td>\n",
              "      <td>NaN</td>\n",
              "      <td>2</td>\n",
              "      <td>3</td>\n",
              "      <td>NaN</td>\n",
              "      <td>NaN</td>\n",
              "      <td>2</td>\n",
              "    </tr>\n",
              "    <tr>\n",
              "      <th>top</th>\n",
              "      <td>b</td>\n",
              "      <td>NaN</td>\n",
              "      <td>NaN</td>\n",
              "      <td>u</td>\n",
              "      <td>g</td>\n",
              "      <td>c</td>\n",
              "      <td>v</td>\n",
              "      <td>NaN</td>\n",
              "      <td>t</td>\n",
              "      <td>f</td>\n",
              "      <td>NaN</td>\n",
              "      <td>f</td>\n",
              "      <td>g</td>\n",
              "      <td>NaN</td>\n",
              "      <td>NaN</td>\n",
              "      <td>-</td>\n",
              "    </tr>\n",
              "    <tr>\n",
              "      <th>freq</th>\n",
              "      <td>468</td>\n",
              "      <td>NaN</td>\n",
              "      <td>NaN</td>\n",
              "      <td>519</td>\n",
              "      <td>519</td>\n",
              "      <td>137</td>\n",
              "      <td>399</td>\n",
              "      <td>NaN</td>\n",
              "      <td>361</td>\n",
              "      <td>395</td>\n",
              "      <td>NaN</td>\n",
              "      <td>374</td>\n",
              "      <td>625</td>\n",
              "      <td>NaN</td>\n",
              "      <td>NaN</td>\n",
              "      <td>383</td>\n",
              "    </tr>\n",
              "    <tr>\n",
              "      <th>mean</th>\n",
              "      <td>NaN</td>\n",
              "      <td>31.568171</td>\n",
              "      <td>4.758725</td>\n",
              "      <td>NaN</td>\n",
              "      <td>NaN</td>\n",
              "      <td>NaN</td>\n",
              "      <td>NaN</td>\n",
              "      <td>2.223406</td>\n",
              "      <td>NaN</td>\n",
              "      <td>NaN</td>\n",
              "      <td>2.40000</td>\n",
              "      <td>NaN</td>\n",
              "      <td>NaN</td>\n",
              "      <td>184.014771</td>\n",
              "      <td>1017.385507</td>\n",
              "      <td>NaN</td>\n",
              "    </tr>\n",
              "    <tr>\n",
              "      <th>std</th>\n",
              "      <td>NaN</td>\n",
              "      <td>11.957862</td>\n",
              "      <td>4.978163</td>\n",
              "      <td>NaN</td>\n",
              "      <td>NaN</td>\n",
              "      <td>NaN</td>\n",
              "      <td>NaN</td>\n",
              "      <td>3.346513</td>\n",
              "      <td>NaN</td>\n",
              "      <td>NaN</td>\n",
              "      <td>4.86294</td>\n",
              "      <td>NaN</td>\n",
              "      <td>NaN</td>\n",
              "      <td>173.806768</td>\n",
              "      <td>5210.102598</td>\n",
              "      <td>NaN</td>\n",
              "    </tr>\n",
              "    <tr>\n",
              "      <th>min</th>\n",
              "      <td>NaN</td>\n",
              "      <td>13.750000</td>\n",
              "      <td>0.000000</td>\n",
              "      <td>NaN</td>\n",
              "      <td>NaN</td>\n",
              "      <td>NaN</td>\n",
              "      <td>NaN</td>\n",
              "      <td>0.000000</td>\n",
              "      <td>NaN</td>\n",
              "      <td>NaN</td>\n",
              "      <td>0.00000</td>\n",
              "      <td>NaN</td>\n",
              "      <td>NaN</td>\n",
              "      <td>0.000000</td>\n",
              "      <td>0.000000</td>\n",
              "      <td>NaN</td>\n",
              "    </tr>\n",
              "    <tr>\n",
              "      <th>25%</th>\n",
              "      <td>NaN</td>\n",
              "      <td>22.602500</td>\n",
              "      <td>1.000000</td>\n",
              "      <td>NaN</td>\n",
              "      <td>NaN</td>\n",
              "      <td>NaN</td>\n",
              "      <td>NaN</td>\n",
              "      <td>0.165000</td>\n",
              "      <td>NaN</td>\n",
              "      <td>NaN</td>\n",
              "      <td>0.00000</td>\n",
              "      <td>NaN</td>\n",
              "      <td>NaN</td>\n",
              "      <td>75.000000</td>\n",
              "      <td>0.000000</td>\n",
              "      <td>NaN</td>\n",
              "    </tr>\n",
              "    <tr>\n",
              "      <th>50%</th>\n",
              "      <td>NaN</td>\n",
              "      <td>28.460000</td>\n",
              "      <td>2.750000</td>\n",
              "      <td>NaN</td>\n",
              "      <td>NaN</td>\n",
              "      <td>NaN</td>\n",
              "      <td>NaN</td>\n",
              "      <td>1.000000</td>\n",
              "      <td>NaN</td>\n",
              "      <td>NaN</td>\n",
              "      <td>0.00000</td>\n",
              "      <td>NaN</td>\n",
              "      <td>NaN</td>\n",
              "      <td>160.000000</td>\n",
              "      <td>5.000000</td>\n",
              "      <td>NaN</td>\n",
              "    </tr>\n",
              "    <tr>\n",
              "      <th>75%</th>\n",
              "      <td>NaN</td>\n",
              "      <td>38.230000</td>\n",
              "      <td>7.207500</td>\n",
              "      <td>NaN</td>\n",
              "      <td>NaN</td>\n",
              "      <td>NaN</td>\n",
              "      <td>NaN</td>\n",
              "      <td>2.625000</td>\n",
              "      <td>NaN</td>\n",
              "      <td>NaN</td>\n",
              "      <td>3.00000</td>\n",
              "      <td>NaN</td>\n",
              "      <td>NaN</td>\n",
              "      <td>276.000000</td>\n",
              "      <td>395.500000</td>\n",
              "      <td>NaN</td>\n",
              "    </tr>\n",
              "    <tr>\n",
              "      <th>max</th>\n",
              "      <td>NaN</td>\n",
              "      <td>80.250000</td>\n",
              "      <td>28.000000</td>\n",
              "      <td>NaN</td>\n",
              "      <td>NaN</td>\n",
              "      <td>NaN</td>\n",
              "      <td>NaN</td>\n",
              "      <td>28.500000</td>\n",
              "      <td>NaN</td>\n",
              "      <td>NaN</td>\n",
              "      <td>67.00000</td>\n",
              "      <td>NaN</td>\n",
              "      <td>NaN</td>\n",
              "      <td>2000.000000</td>\n",
              "      <td>100000.000000</td>\n",
              "      <td>NaN</td>\n",
              "    </tr>\n",
              "  </tbody>\n",
              "</table>\n",
              "</div>"
            ],
            "text/plain": [
              "         A1          A2          A3   A4   A5   A6   A7          A8   A9  A10  \\\n",
              "count   678  678.000000  690.000000  684  684  681  681  690.000000  690  690   \n",
              "unique    2         NaN         NaN    3    3   14    9         NaN    2    2   \n",
              "top       b         NaN         NaN    u    g    c    v         NaN    t    f   \n",
              "freq    468         NaN         NaN  519  519  137  399         NaN  361  395   \n",
              "mean    NaN   31.568171    4.758725  NaN  NaN  NaN  NaN    2.223406  NaN  NaN   \n",
              "std     NaN   11.957862    4.978163  NaN  NaN  NaN  NaN    3.346513  NaN  NaN   \n",
              "min     NaN   13.750000    0.000000  NaN  NaN  NaN  NaN    0.000000  NaN  NaN   \n",
              "25%     NaN   22.602500    1.000000  NaN  NaN  NaN  NaN    0.165000  NaN  NaN   \n",
              "50%     NaN   28.460000    2.750000  NaN  NaN  NaN  NaN    1.000000  NaN  NaN   \n",
              "75%     NaN   38.230000    7.207500  NaN  NaN  NaN  NaN    2.625000  NaN  NaN   \n",
              "max     NaN   80.250000   28.000000  NaN  NaN  NaN  NaN   28.500000  NaN  NaN   \n",
              "\n",
              "              A11  A12  A13          A14            A15  A16  \n",
              "count   690.00000  690  690   677.000000     690.000000  690  \n",
              "unique        NaN    2    3          NaN            NaN    2  \n",
              "top           NaN    f    g          NaN            NaN    -  \n",
              "freq          NaN  374  625          NaN            NaN  383  \n",
              "mean      2.40000  NaN  NaN   184.014771    1017.385507  NaN  \n",
              "std       4.86294  NaN  NaN   173.806768    5210.102598  NaN  \n",
              "min       0.00000  NaN  NaN     0.000000       0.000000  NaN  \n",
              "25%       0.00000  NaN  NaN    75.000000       0.000000  NaN  \n",
              "50%       0.00000  NaN  NaN   160.000000       5.000000  NaN  \n",
              "75%       3.00000  NaN  NaN   276.000000     395.500000  NaN  \n",
              "max      67.00000  NaN  NaN  2000.000000  100000.000000  NaN  "
            ]
          },
          "metadata": {
            "tags": []
          },
          "execution_count": 85
        }
      ]
    },
    {
      "cell_type": "markdown",
      "metadata": {
        "id": "G7rLytbrO38L",
        "colab_type": "text"
      },
      "source": [
        "## Part 2 - Exploring data, Testing hypotheses\n",
        "\n",
        "The only thing we really know about this data is that A16 is the class label. Besides that, we have 6 continuous (float) features and 9 categorical features.\n",
        "\n",
        "Explore the data: you can use whatever approach (tables, utility functions, visualizations) to get an impression of the distributions and relationships of the variables. In general, your goal is to understand how the features are different when grouped by the two class labels (`+` and `-`).\n",
        "\n",
        "For the 6 continuous features, how are they different when split between the two class labels? Choose two features to run t-tests (again split by class label) - specifically, select one feature that is *extremely* different between the classes, and another feature that is notably less different (though perhaps still \"statistically significantly\" different). You may have to explore more than two features to do this.\n",
        "\n",
        "For the categorical features, explore by creating \"cross tabs\" (aka [contingency tables](https://en.wikipedia.org/wiki/Contingency_table)) between them and the class label, and apply the Chi-squared test to them. [pandas.crosstab](http://pandas.pydata.org/pandas-docs/stable/reference/api/pandas.crosstab.html) can create contingency tables, and [scipy.stats.chi2_contingency](https://docs.scipy.org/doc/scipy/reference/generated/scipy.stats.chi2_contingency.html) can calculate the Chi-squared statistic for them.\n",
        "\n",
        "There are 9 categorical features - as with the t-test, try to find one where the Chi-squared test returns an extreme result (rejecting the null that the data are independent), and one where it is less extreme.\n",
        "\n",
        "**NOTE** - \"less extreme\" just means smaller test statistic/larger p-value. Even the least extreme differences may be strongly statistically significant.\n",
        "\n",
        "Your *main* goal is the hypothesis tests, so don't spend too much time on the exploration/visualization piece. That is just a means to an end - use simple visualizations, such as boxplots or a scatter matrix (both built in to pandas), to get a feel for the overall distribution of the variables.\n",
        "\n",
        "This is challenging, so manage your time and aim for a baseline of at least running two t-tests and two Chi-squared tests before polishing. And don't forget to answer the questions in part 3, even if your results in this part aren't what you want them to be."
      ]
    },
    {
      "cell_type": "code",
      "metadata": {
        "id": "rWB00xsvli-M",
        "colab_type": "code",
        "colab": {
          "base_uri": "https://localhost:8080/",
          "height": 1175
        },
        "outputId": "ab75a29f-c9df-4890-b135-ce6ec6c32d01"
      },
      "source": [
        "sns.pairplot(df, kind='reg', plot_kws={'line_kws':{'color':'red'}, 'scatter_kws': {'alpha': 0.1}})"
      ],
      "execution_count": 90,
      "outputs": [
        {
          "output_type": "stream",
          "text": [
            "/usr/local/lib/python3.6/dist-packages/numpy/lib/histograms.py:824: RuntimeWarning: invalid value encountered in greater_equal\n",
            "  keep = (tmp_a >= first_edge)\n",
            "/usr/local/lib/python3.6/dist-packages/numpy/lib/histograms.py:825: RuntimeWarning: invalid value encountered in less_equal\n",
            "  keep &= (tmp_a <= last_edge)\n"
          ],
          "name": "stderr"
        },
        {
          "output_type": "execute_result",
          "data": {
            "text/plain": [
              "<seaborn.axisgrid.PairGrid at 0x7f4733be6d30>"
            ]
          },
          "metadata": {
            "tags": []
          },
          "execution_count": 90
        },
        {
          "output_type": "display_data",
          "data": {
            "image/png": "[encoded data removed]",
            "text/plain": [
              "<Figure size 1080x1080 with 42 Axes>"
            ]
          },
          "metadata": {
            "tags": []
          }
        }
      ]
    },
    {
      "cell_type": "code",
      "metadata": {
        "id": "bgT2gprumXMj",
        "colab_type": "code",
        "colab": {
          "base_uri": "https://localhost:8080/",
          "height": 219
        },
        "outputId": "4026ed3b-7698-491c-c7d7-02485a10d460"
      },
      "source": [
        "# Create approved for credit\n",
        "df_approved = df[df.A16 == \"+\"]\n",
        "print(df_approved.shape)\n",
        "df_approved.head()"
      ],
      "execution_count": 96,
      "outputs": [
        {
          "output_type": "stream",
          "text": [
            "(307, 16)\n"
          ],
          "name": "stdout"
        },
        {
          "output_type": "execute_result",
          "data": {
            "text/html": [
              "<div>\n",
              "<style scoped>\n",
              "    .dataframe tbody tr th:only-of-type {\n",
              "        vertical-align: middle;\n",
              "    }\n",
              "\n",
              "    .dataframe tbody tr th {\n",
              "        vertical-align: top;\n",
              "    }\n",
              "\n",
              "    .dataframe thead th {\n",
              "        text-align: right;\n",
              "    }\n",
              "</style>\n",
              "<table border=\"1\" class=\"dataframe\">\n",
              "  <thead>\n",
              "    <tr style=\"text-align: right;\">\n",
              "      <th></th>\n",
              "      <th>A1</th>\n",
              "      <th>A2</th>\n",
              "      <th>A3</th>\n",
              "      <th>A4</th>\n",
              "      <th>A5</th>\n",
              "      <th>A6</th>\n",
              "      <th>A7</th>\n",
              "      <th>A8</th>\n",
              "      <th>A9</th>\n",
              "      <th>A10</th>\n",
              "      <th>A11</th>\n",
              "      <th>A12</th>\n",
              "      <th>A13</th>\n",
              "      <th>A14</th>\n",
              "      <th>A15</th>\n",
              "      <th>A16</th>\n",
              "    </tr>\n",
              "  </thead>\n",
              "  <tbody>\n",
              "    <tr>\n",
              "      <th>0</th>\n",
              "      <td>b</td>\n",
              "      <td>30.83</td>\n",
              "      <td>0.000</td>\n",
              "      <td>u</td>\n",
              "      <td>g</td>\n",
              "      <td>w</td>\n",
              "      <td>v</td>\n",
              "      <td>1.25</td>\n",
              "      <td>t</td>\n",
              "      <td>t</td>\n",
              "      <td>1</td>\n",
              "      <td>f</td>\n",
              "      <td>g</td>\n",
              "      <td>202.0</td>\n",
              "      <td>0</td>\n",
              "      <td>+</td>\n",
              "    </tr>\n",
              "    <tr>\n",
              "      <th>1</th>\n",
              "      <td>a</td>\n",
              "      <td>58.67</td>\n",
              "      <td>4.460</td>\n",
              "      <td>u</td>\n",
              "      <td>g</td>\n",
              "      <td>q</td>\n",
              "      <td>h</td>\n",
              "      <td>3.04</td>\n",
              "      <td>t</td>\n",
              "      <td>t</td>\n",
              "      <td>6</td>\n",
              "      <td>f</td>\n",
              "      <td>g</td>\n",
              "      <td>43.0</td>\n",
              "      <td>560</td>\n",
              "      <td>+</td>\n",
              "    </tr>\n",
              "    <tr>\n",
              "      <th>2</th>\n",
              "      <td>a</td>\n",
              "      <td>24.50</td>\n",
              "      <td>0.500</td>\n",
              "      <td>u</td>\n",
              "      <td>g</td>\n",
              "      <td>q</td>\n",
              "      <td>h</td>\n",
              "      <td>1.50</td>\n",
              "      <td>t</td>\n",
              "      <td>f</td>\n",
              "      <td>0</td>\n",
              "      <td>f</td>\n",
              "      <td>g</td>\n",
              "      <td>280.0</td>\n",
              "      <td>824</td>\n",
              "      <td>+</td>\n",
              "    </tr>\n",
              "    <tr>\n",
              "      <th>3</th>\n",
              "      <td>b</td>\n",
              "      <td>27.83</td>\n",
              "      <td>1.540</td>\n",
              "      <td>u</td>\n",
              "      <td>g</td>\n",
              "      <td>w</td>\n",
              "      <td>v</td>\n",
              "      <td>3.75</td>\n",
              "      <td>t</td>\n",
              "      <td>t</td>\n",
              "      <td>5</td>\n",
              "      <td>t</td>\n",
              "      <td>g</td>\n",
              "      <td>100.0</td>\n",
              "      <td>3</td>\n",
              "      <td>+</td>\n",
              "    </tr>\n",
              "    <tr>\n",
              "      <th>4</th>\n",
              "      <td>b</td>\n",
              "      <td>20.17</td>\n",
              "      <td>5.625</td>\n",
              "      <td>u</td>\n",
              "      <td>g</td>\n",
              "      <td>w</td>\n",
              "      <td>v</td>\n",
              "      <td>1.71</td>\n",
              "      <td>t</td>\n",
              "      <td>f</td>\n",
              "      <td>0</td>\n",
              "      <td>f</td>\n",
              "      <td>s</td>\n",
              "      <td>120.0</td>\n",
              "      <td>0</td>\n",
              "      <td>+</td>\n",
              "    </tr>\n",
              "  </tbody>\n",
              "</table>\n",
              "</div>"
            ],
            "text/plain": [
              "  A1     A2     A3 A4 A5 A6 A7    A8 A9 A10  A11 A12 A13    A14  A15 A16\n",
              "0  b  30.83  0.000  u  g  w  v  1.25  t   t    1   f   g  202.0    0   +\n",
              "1  a  58.67  4.460  u  g  q  h  3.04  t   t    6   f   g   43.0  560   +\n",
              "2  a  24.50  0.500  u  g  q  h  1.50  t   f    0   f   g  280.0  824   +\n",
              "3  b  27.83  1.540  u  g  w  v  3.75  t   t    5   t   g  100.0    3   +\n",
              "4  b  20.17  5.625  u  g  w  v  1.71  t   f    0   f   s  120.0    0   +"
            ]
          },
          "metadata": {
            "tags": []
          },
          "execution_count": 96
        }
      ]
    },
    {
      "cell_type": "code",
      "metadata": {
        "id": "TBF6LPVFoYaw",
        "colab_type": "code",
        "colab": {
          "base_uri": "https://localhost:8080/",
          "height": 34
        },
        "outputId": "bf0b51da-90e9-4807-b095-b58bbcc56c99"
      },
      "source": [
        "# Null Hypothesis value is 0.\n",
        "stats.ttest_1samp(df_approved['A2'], 0, nan_policy='omit')"
      ],
      "execution_count": 106,
      "outputs": [
        {
          "output_type": "execute_result",
          "data": {
            "text/plain": [
              "Ttest_1sampResult(statistic=45.97342606135877, pvalue=6.4964550720881594e-139)"
            ]
          },
          "metadata": {
            "tags": []
          },
          "execution_count": 106
        }
      ]
    },
    {
      "cell_type": "code",
      "metadata": {
        "id": "SSHvd_w7sUlR",
        "colab_type": "code",
        "colab": {
          "base_uri": "https://localhost:8080/",
          "height": 34
        },
        "outputId": "8c956de4-e54b-40b6-f7b0-515984bbb41b"
      },
      "source": [
        "# Null Hypothesis value is .5\n",
        "stats.ttest_1samp(df_approved['A2'], .5, nan_policy='omit')"
      ],
      "execution_count": 102,
      "outputs": [
        {
          "output_type": "execute_result",
          "data": {
            "text/plain": [
              "Ttest_1sampResult(statistic=45.291742260162124, pvalue=3.423943736856431e-137)"
            ]
          },
          "metadata": {
            "tags": []
          },
          "execution_count": 102
        }
      ]
    },
    {
      "cell_type": "code",
      "metadata": {
        "id": "MGJjfAPVs1Sl",
        "colab_type": "code",
        "colab": {
          "base_uri": "https://localhost:8080/",
          "height": 34
        },
        "outputId": "64173d71-740d-495c-9f39-7c4ba5de8c76"
      },
      "source": [
        "# Null Hypothesis value is 1\n",
        "stats.ttest_1samp(df_approved['A2'], 1, nan_policy='omit')"
      ],
      "execution_count": 109,
      "outputs": [
        {
          "output_type": "execute_result",
          "data": {
            "text/plain": [
              "Ttest_1sampResult(statistic=44.61005845896548, pvalue=1.886841661602601e-135)"
            ]
          },
          "metadata": {
            "tags": []
          },
          "execution_count": 109
        }
      ]
    },
    {
      "cell_type": "code",
      "metadata": {
        "id": "xlTatuq2vJfL",
        "colab_type": "code",
        "colab": {
          "base_uri": "https://localhost:8080/",
          "height": 1265
        },
        "outputId": "ddcbd1a6-1b17-4c7a-fe1f-160160c1ba05"
      },
      "source": [
        "for i in ['A2', 'A3', 'A8', 'A11', 'A14', 'A15']:\n",
        "  print(\n",
        "    '         '*10, '\\n',\n",
        "    '+-+-+-+-'*10, '\\n',\n",
        "    i, '\\n',\n",
        "    '         '*10, '\\n',  \n",
        "    '# Null Hypothesis value is 0:  \\n',\n",
        "    stats.ttest_1samp(df_approved[i], 0, nan_policy='omit'), '\\n',\n",
        "    '*******'*10, '\\n',\n",
        "    '# Null Hypothesis value is .5:  \\n',\n",
        "    stats.ttest_1samp(df_approved[i], .5, nan_policy='omit'), '\\n',\n",
        "    '*******'*10, '\\n',\n",
        "    '# Null Hypothesis value is 1:  \\n',\n",
        "    stats.ttest_1samp(df_approved[i], 1, nan_policy='omit'))"
      ],
      "execution_count": 124,
      "outputs": [
        {
          "output_type": "stream",
          "text": [
            "                                                                                           \n",
            " +-+-+-+-+-+-+-+-+-+-+-+-+-+-+-+-+-+-+-+-+-+-+-+-+-+-+-+-+-+-+-+-+-+-+-+-+-+-+-+- \n",
            " A2 \n",
            "                                                                                            \n",
            " # Null Hypothesis value is 0:  \n",
            " Ttest_1sampResult(statistic=45.97342606135877, pvalue=6.4964550720881594e-139) \n",
            " ********************************************************************** \n",
            " # Null Hypothesis value is .5:  \n",
            " Ttest_1sampResult(statistic=45.291742260162124, pvalue=3.423943736856431e-137) \n",
            " ********************************************************************** \n",
            " # Null Hypothesis value is 1:  \n",
            " Ttest_1sampResult(statistic=44.61005845896548, pvalue=1.886841661602601e-135)\n",
            "                                                                                           \n",
            " +-+-+-+-+-+-+-+-+-+-+-+-+-+-+-+-+-+-+-+-+-+-+-+-+-+-+-+-+-+-+-+-+-+-+-+-+-+-+-+- \n",
            " A3 \n",
            "                                                                                            \n",
            " # Null Hypothesis value is 0:  \n",
            " Ttest_1sampResult(statistic=18.909510346819104, pvalue=2.283165673993893e-53) \n",
            " ********************************************************************** \n",
            " # Null Hypothesis value is .5:  \n",
            " Ttest_1sampResult(statistic=17.30835312313626, pvalue=2.8402779104335877e-47) \n",
            " ********************************************************************** \n",
            " # Null Hypothesis value is 1:  \n",
            " Ttest_1sampResult(statistic=15.707195899453417, pvalue=3.5051889316636454e-41)\n",
            "                                                                                           \n",
            " +-+-+-+-+-+-+-+-+-+-+-+-+-+-+-+-+-+-+-+-+-+-+-+-+-+-+-+-+-+-+-+-+-+-+-+-+-+-+-+- \n",
            " A8 \n",
            "                                                                                            \n",
            " # Null Hypothesis value is 0:  \n",
            " Ttest_1sampResult(statistic=14.57526606455854, pvalue=6.56392450621188e-37) \n",
            " ********************************************************************** \n",
            " # Null Hypothesis value is .5:  \n",
            " Ttest_1sampResult(statistic=12.449289487126055, pvalue=4.6132667541039515e-29) \n",
            " ********************************************************************** \n",
            " # Null Hypothesis value is 1:  \n",
            " Ttest_1sampResult(statistic=10.323312909693572, pvalue=1.2382462427781256e-21)\n",
            "                                                                                           \n",
            " +-+-+-+-+-+-+-+-+-+-+-+-+-+-+-+-+-+-+-+-+-+-+-+-+-+-+-+-+-+-+-+-+-+-+-+-+-+-+-+- \n",
            " A11 \n",
            "                                                                                            \n",
            " # Null Hypothesis value is 0:  \n",
            " Ttest_1sampResult(statistic=12.768695540982494, pvalue=3.205533238752987e-30) \n",
            " ********************************************************************** \n",
            " # Null Hypothesis value is .5:  \n",
            " Ttest_1sampResult(statistic=11.382560629001722, pvalue=2.8798299332810433e-25) \n",
            " ********************************************************************** \n",
            " # Null Hypothesis value is 1:  \n",
            " Ttest_1sampResult(statistic=9.99642571702095, pvalue=1.5187350187968308e-20)\n",
            "                                                                                           \n",
            " +-+-+-+-+-+-+-+-+-+-+-+-+-+-+-+-+-+-+-+-+-+-+-+-+-+-+-+-+-+-+-+-+-+-+-+-+-+-+-+- \n",
            " A14 \n",
            "                                                                                            \n",
            " # Null Hypothesis value is 0:  \n",
            " Ttest_1sampResult(statistic=17.633689240150865, pvalue=2.991972677241164e-48) \n",
            " ********************************************************************** \n",
            " # Null Hypothesis value is .5:  \n",
            " Ttest_1sampResult(statistic=17.580065950448844, pvalue=4.7671099613531714e-48) \n",
            " ********************************************************************** \n",
            " # Null Hypothesis value is 1:  \n",
            " Ttest_1sampResult(statistic=17.526442660746824, pvalue=7.595664921767883e-48)\n",
            "                                                                                           \n",
            " +-+-+-+-+-+-+-+-+-+-+-+-+-+-+-+-+-+-+-+-+-+-+-+-+-+-+-+-+-+-+-+-+-+-+-+-+-+-+-+- \n",
            " A15 \n",
            "                                                                                            \n",
            " # Null Hypothesis value is 0:  \n",
            " Ttest_1sampResult(statistic=4.663813699093638, pvalue=4.644002354009927e-06) \n",
            " ********************************************************************** \n",
            " # Null Hypothesis value is .5:  \n",
            " Ttest_1sampResult(statistic=4.6626699683205315, pvalue=4.668167713773681e-06) \n",
            " ********************************************************************** \n",
            " # Null Hypothesis value is 1:  \n",
            " Ttest_1sampResult(statistic=4.661526237547425, pvalue=4.6924540901978225e-06)\n"
          ],
          "name": "stdout"
        }
      ]
    },
    {
      "cell_type": "code",
      "metadata": {
        "id": "pwZ3t4Alm9WO",
        "colab_type": "code",
        "colab": {
          "base_uri": "https://localhost:8080/",
          "height": 219
        },
        "outputId": "f3e29026-c868-4207-f65d-3c61f4ca7ffb"
      },
      "source": [
        "# Create rejected for credit\n",
        "df_rejected = df[df.A16 == \"-\"]\n",
        "print(df_rejected.shape)\n",
        "df_rejected.head()"
      ],
      "execution_count": 97,
      "outputs": [
        {
          "output_type": "stream",
          "text": [
            "(383, 16)\n"
          ],
          "name": "stdout"
        },
        {
          "output_type": "execute_result",
          "data": {
            "text/html": [
              "<div>\n",
              "<style scoped>\n",
              "    .dataframe tbody tr th:only-of-type {\n",
              "        vertical-align: middle;\n",
              "    }\n",
              "\n",
              "    .dataframe tbody tr th {\n",
              "        vertical-align: top;\n",
              "    }\n",
              "\n",
              "    .dataframe thead th {\n",
              "        text-align: right;\n",
              "    }\n",
              "</style>\n",
              "<table border=\"1\" class=\"dataframe\">\n",
              "  <thead>\n",
              "    <tr style=\"text-align: right;\">\n",
              "      <th></th>\n",
              "      <th>A1</th>\n",
              "      <th>A2</th>\n",
              "      <th>A3</th>\n",
              "      <th>A4</th>\n",
              "      <th>A5</th>\n",
              "      <th>A6</th>\n",
              "      <th>A7</th>\n",
              "      <th>A8</th>\n",
              "      <th>A9</th>\n",
              "      <th>A10</th>\n",
              "      <th>A11</th>\n",
              "      <th>A12</th>\n",
              "      <th>A13</th>\n",
              "      <th>A14</th>\n",
              "      <th>A15</th>\n",
              "      <th>A16</th>\n",
              "    </tr>\n",
              "  </thead>\n",
              "  <tbody>\n",
              "    <tr>\n",
              "      <th>70</th>\n",
              "      <td>b</td>\n",
              "      <td>32.33</td>\n",
              "      <td>7.5</td>\n",
              "      <td>u</td>\n",
              "      <td>g</td>\n",
              "      <td>e</td>\n",
              "      <td>bb</td>\n",
              "      <td>1.585</td>\n",
              "      <td>t</td>\n",
              "      <td>f</td>\n",
              "      <td>0</td>\n",
              "      <td>t</td>\n",
              "      <td>s</td>\n",
              "      <td>420.0</td>\n",
              "      <td>0</td>\n",
              "      <td>-</td>\n",
              "    </tr>\n",
              "    <tr>\n",
              "      <th>71</th>\n",
              "      <td>b</td>\n",
              "      <td>34.83</td>\n",
              "      <td>4.0</td>\n",
              "      <td>u</td>\n",
              "      <td>g</td>\n",
              "      <td>d</td>\n",
              "      <td>bb</td>\n",
              "      <td>12.500</td>\n",
              "      <td>t</td>\n",
              "      <td>f</td>\n",
              "      <td>0</td>\n",
              "      <td>t</td>\n",
              "      <td>g</td>\n",
              "      <td>NaN</td>\n",
              "      <td>0</td>\n",
              "      <td>-</td>\n",
              "    </tr>\n",
              "    <tr>\n",
              "      <th>72</th>\n",
              "      <td>a</td>\n",
              "      <td>38.58</td>\n",
              "      <td>5.0</td>\n",
              "      <td>u</td>\n",
              "      <td>g</td>\n",
              "      <td>cc</td>\n",
              "      <td>v</td>\n",
              "      <td>13.500</td>\n",
              "      <td>t</td>\n",
              "      <td>f</td>\n",
              "      <td>0</td>\n",
              "      <td>t</td>\n",
              "      <td>g</td>\n",
              "      <td>980.0</td>\n",
              "      <td>0</td>\n",
              "      <td>-</td>\n",
              "    </tr>\n",
              "    <tr>\n",
              "      <th>73</th>\n",
              "      <td>b</td>\n",
              "      <td>44.25</td>\n",
              "      <td>0.5</td>\n",
              "      <td>u</td>\n",
              "      <td>g</td>\n",
              "      <td>m</td>\n",
              "      <td>v</td>\n",
              "      <td>10.750</td>\n",
              "      <td>t</td>\n",
              "      <td>f</td>\n",
              "      <td>0</td>\n",
              "      <td>f</td>\n",
              "      <td>s</td>\n",
              "      <td>400.0</td>\n",
              "      <td>0</td>\n",
              "      <td>-</td>\n",
              "    </tr>\n",
              "    <tr>\n",
              "      <th>74</th>\n",
              "      <td>b</td>\n",
              "      <td>44.83</td>\n",
              "      <td>7.0</td>\n",
              "      <td>y</td>\n",
              "      <td>p</td>\n",
              "      <td>c</td>\n",
              "      <td>v</td>\n",
              "      <td>1.625</td>\n",
              "      <td>f</td>\n",
              "      <td>f</td>\n",
              "      <td>0</td>\n",
              "      <td>f</td>\n",
              "      <td>g</td>\n",
              "      <td>160.0</td>\n",
              "      <td>2</td>\n",
              "      <td>-</td>\n",
              "    </tr>\n",
              "  </tbody>\n",
              "</table>\n",
              "</div>"
            ],
            "text/plain": [
              "   A1     A2   A3 A4 A5  A6  A7      A8 A9 A10  A11 A12 A13    A14  A15 A16\n",
              "70  b  32.33  7.5  u  g   e  bb   1.585  t   f    0   t   s  420.0    0   -\n",
              "71  b  34.83  4.0  u  g   d  bb  12.500  t   f    0   t   g    NaN    0   -\n",
              "72  a  38.58  5.0  u  g  cc   v  13.500  t   f    0   t   g  980.0    0   -\n",
              "73  b  44.25  0.5  u  g   m   v  10.750  t   f    0   f   s  400.0    0   -\n",
              "74  b  44.83  7.0  y  p   c   v   1.625  f   f    0   f   g  160.0    2   -"
            ]
          },
          "metadata": {
            "tags": []
          },
          "execution_count": 97
        }
      ]
    },
    {
      "cell_type": "code",
      "metadata": {
        "id": "QNLD0N76xFyv",
        "colab_type": "code",
        "colab": {
          "base_uri": "https://localhost:8080/",
          "height": 1265
        },
        "outputId": "702bf46a-336c-4cbe-c6a1-6bee63fd48f6"
      },
      "source": [
        "for i in ['A2', 'A3', 'A8', 'A11', 'A14', 'A15']:\n",
        "  print(\n",
        "    '         '*10, '\\n',\n",
        "    '+-+-+-+-'*10, '\\n',\n",
        "    i, '\\n',\n",
        "    '         '*10, '\\n',  \n",
        "    '# Null Hypothesis value is 0:  \\n',\n",
        "    stats.ttest_1samp(df_rejected[i], 0, nan_policy='omit'), '\\n',\n",
        "    '*******'*10, '\\n',\n",
        "    '# Null Hypothesis value is .5:  \\n',\n",
        "    stats.ttest_1samp(df_rejected[i], .5, nan_policy='omit'), '\\n',\n",
        "    '*******'*10, '\\n',\n",
        "    '# Null Hypothesis value is 1:  \\n',\n",
        "    stats.ttest_1samp(df_rejected[i], 1, nan_policy='omit'))"
      ],
      "execution_count": 123,
      "outputs": [
        {
          "output_type": "stream",
          "text": [
            "                                                                                           \n",
            " +-+-+-+-+-+-+-+-+-+-+-+-+-+-+-+-+-+-+-+-+-+-+-+-+-+-+-+-+-+-+-+-+-+-+-+-+-+-+-+- \n",
            " A2 \n",
            "                                                                                            \n",
            " # Null Hypothesis value is 0:  \n",
            " Ttest_1sampResult(statistic=52.72252131659304, pvalue=1.0865560275945647e-174) \n",
            " ********************************************************************** \n",
            " # Null Hypothesis value is .5:  \n",
            " Ttest_1sampResult(statistic=51.838159509119116, pvalue=2.7696876994315467e-172) \n",
            " ********************************************************************** \n",
            " # Null Hypothesis value is 1:  \n",
            " Ttest_1sampResult(statistic=50.953797701645186, pvalue=7.587702684551264e-170)\n",
            "                                                                                           \n",
            " +-+-+-+-+-+-+-+-+-+-+-+-+-+-+-+-+-+-+-+-+-+-+-+-+-+-+-+-+-+-+-+-+-+-+-+-+-+-+-+- \n",
            " A3 \n",
            "                                                                                            \n",
            " # Null Hypothesis value is 0:  \n",
            " Ttest_1sampResult(statistic=17.324830922943736, pvalue=4.903884813077117e-50) \n",
            " ********************************************************************** \n",
            " # Null Hypothesis value is .5:  \n",
            " Ttest_1sampResult(statistic=15.068962886128801, pvalue=1.3340212686882321e-40) \n",
            " ********************************************************************** \n",
            " # Null Hypothesis value is 1:  \n",
            " Ttest_1sampResult(statistic=12.813094849313865, pvalue=1.631953028693275e-31)\n",
            "                                                                                           \n",
            " +-+-+-+-+-+-+-+-+-+-+-+-+-+-+-+-+-+-+-+-+-+-+-+-+-+-+-+-+-+-+-+-+-+-+-+-+-+-+-+- \n",
            " A8 \n",
            "                                                                                            \n",
            " # Null Hypothesis value is 0:  \n",
            " Ttest_1sampResult(statistic=11.60966198140022, pvalue=6.781758152446081e-27) \n",
            " ********************************************************************** \n",
            " # Null Hypothesis value is .5:  \n",
            " Ttest_1sampResult(statistic=6.995051170689755, pvalue=1.1936831195754194e-11) \n",
            " ********************************************************************** \n",
            " # Null Hypothesis value is 1:  \n",
            " Ttest_1sampResult(statistic=2.3804403599792883, pvalue=0.017781680918963507)\n",
            "                                                                                           \n",
            " +-+-+-+-+-+-+-+-+-+-+-+-+-+-+-+-+-+-+-+-+-+-+-+-+-+-+-+-+-+-+-+-+-+-+-+-+-+-+-+- \n",
            " A11 \n",
            "                                                                                            \n",
            " # Null Hypothesis value is 0:  \n",
            " Ttest_1sampResult(statistic=6.508053851495346, pvalue=2.394534319320562e-10) \n",
            " ********************************************************************** \n",
            " # Null Hypothesis value is .5:  \n",
            " Ttest_1sampResult(statistic=1.3580856177707235, pvalue=0.17523808826084886) \n",
            " ********************************************************************** \n",
            " # Null Hypothesis value is 1:  \n",
            " Ttest_1sampResult(statistic=-3.791882615953899, pvalue=0.00017371524554758564)\n",
            "                                                                                           \n",
            " +-+-+-+-+-+-+-+-+-+-+-+-+-+-+-+-+-+-+-+-+-+-+-+-+-+-+-+-+-+-+-+-+-+-+-+-+-+-+-+- \n",
            " A14 \n",
            "                                                                                            \n",
            " # Null Hypothesis value is 0:  \n",
            " Ttest_1sampResult(statistic=21.32745775463401, pvalue=1.1525662675687651e-66) \n",
            " ********************************************************************** \n",
            " # Null Hypothesis value is .5:  \n",
            " Ttest_1sampResult(statistic=21.274058869902017, pvalue=1.9305575371234623e-66) \n",
            " ********************************************************************** \n",
            " # Null Hypothesis value is 1:  \n",
            " Ttest_1sampResult(statistic=21.220659985170023, pvalue=3.2341097962265795e-66)\n",
            "                                                                                           \n",
            " +-+-+-+-+-+-+-+-+-+-+-+-+-+-+-+-+-+-+-+-+-+-+-+-+-+-+-+-+-+-+-+-+-+-+-+-+-+-+-+- \n",
            " A15 \n",
            "                                                                                            \n",
            " # Null Hypothesis value is 0:  \n",
            " Ttest_1sampResult(statistic=5.787283914053776, pvalue=1.4923508038203516e-08) \n",
            " ********************************************************************** \n",
            " # Null Hypothesis value is .5:  \n",
            " Ttest_1sampResult(statistic=5.772714134263314, pvalue=1.6160412586061775e-08) \n",
            " ********************************************************************** \n",
            " # Null Hypothesis value is 1:  \n",
            " Ttest_1sampResult(statistic=5.758144354472852, pvalue=1.7497070027806093e-08)\n"
          ],
          "name": "stdout"
        }
      ]
    },
    {
      "cell_type": "markdown",
      "metadata": {
        "id": "pdp8nt4kymHK",
        "colab_type": "text"
      },
      "source": [
        "## ttest_ind"
      ]
    },
    {
      "cell_type": "code",
      "metadata": {
        "id": "X9EL3RLiziGW",
        "colab_type": "code",
        "colab": {
          "base_uri": "https://localhost:8080/",
          "height": 69
        },
        "outputId": "281a43c3-3d4f-453a-ec96-88a11e5c6be4"
      },
      "source": [
        "print(df_approved['A2'].mean())\n",
        "print(df_rejected['A2'].mean())\n",
        "\n",
        "stats.ttest_ind(df_approved['A2'], df_rejected['A2'], nan_policy='omit')"
      ],
      "execution_count": 120,
      "outputs": [
        {
          "output_type": "stream",
          "text": [
            "33.7204918032787\n",
            "29.80823056300268\n"
          ],
          "name": "stdout"
        },
        {
          "output_type": "execute_result",
          "data": {
            "text/plain": [
              "Ttest_indResult(statistic=4.2922156166315535, pvalue=2.0276637071781407e-05)"
            ]
          },
          "metadata": {
            "tags": []
          },
          "execution_count": 120
        }
      ]
    },
    {
      "cell_type": "code",
      "metadata": {
        "id": "kzB60f8aylGH",
        "colab_type": "code",
        "colab": {
          "base_uri": "https://localhost:8080/",
          "height": 537
        },
        "outputId": "1ec52974-93fd-49dc-8d5a-275cfcd19cf9"
      },
      "source": [
        "for i in ['A2', 'A3', 'A8', 'A11', 'A14', 'A15']:\n",
        "  print(\n",
        "      '----'*20, '\\n',\n",
        "      i, '\\n',\n",
        "      \n",
        "      'approved mean: ', df_approved[i].mean(), '\\n',\n",
        "        'rejected mean: ', df_rejected[i].mean(), '\\n',\n",
        "\n",
        "        stats.ttest_ind(df_approved[i], df_rejected[i], nan_policy='omit'))"
      ],
      "execution_count": 125,
      "outputs": [
        {
          "output_type": "stream",
          "text": [
            "-------------------------------------------------------------------------------- \n",
            " A2 \n",
            " approved mean:  33.7204918032787 \n",
            " rejected mean:  29.80823056300268 \n",
            " Ttest_indResult(statistic=4.2922156166315535, pvalue=2.0276637071781407e-05)\n",
            "-------------------------------------------------------------------------------- \n",
            " A3 \n",
            " approved mean:  5.904951140065144 \n",
            " rejected mean:  3.839947780678851 \n",
            " Ttest_indResult(statistic=5.52998337614816, pvalue=4.551680702308068e-08)\n",
            "-------------------------------------------------------------------------------- \n",
            " A8 \n",
            " approved mean:  3.427899022801302 \n",
            " rejected mean:  1.2579242819843346 \n",
            " Ttest_indResult(statistic=8.935819983773698, pvalue=3.6710537401601785e-18)\n",
            "-------------------------------------------------------------------------------- \n",
            " A11 \n",
            " approved mean:  4.605863192182411 \n",
            " rejected mean:  0.6318537859007833 \n",
            " Ttest_indResult(statistic=11.667004222431277, pvalue=7.957718568079967e-29)\n",
            "-------------------------------------------------------------------------------- \n",
            " A14 \n",
            " approved mean:  164.421926910299 \n",
            " rejected mean:  199.6994680851064 \n",
            " Ttest_indResult(statistic=-2.6358251986645476, pvalue=0.008586135473979569)\n",
            "-------------------------------------------------------------------------------- \n",
            " A15 \n",
            " approved mean:  2038.85993485342 \n",
            " rejected mean:  198.60574412532637 \n",
            " Ttest_indResult(statistic=4.680216020964486, pvalue=3.4520256956287944e-06)\n"
          ],
          "name": "stdout"
        }
      ]
    },
    {
      "cell_type": "markdown",
      "metadata": {
        "id": "nNy94MWmybTc",
        "colab_type": "text"
      },
      "source": [
        "## Categorical data"
      ]
    },
    {
      "cell_type": "code",
      "metadata": {
        "id": "_nqcgc0yzm68",
        "colab_type": "code",
        "colab": {
          "base_uri": "https://localhost:8080/",
          "height": 2929
        },
        "outputId": "00f729b8-47ce-423b-e390-d73009812e86"
      },
      "source": [
        "# TODO\n",
        "for i in ['A1', 'A4', 'A5', 'A6', 'A7', 'A9', 'A10', 'A12', 'A13']:\n",
        "    contingency_table = pd.crosstab(df['A16'], df[i])\n",
        "    print('++++' * 20)\n",
        "    print('----' * 20)\n",
        "    print('++++' * 20)\n",
        "    print(contingency_table)\n",
        "    print(''' ''')\n",
        "    print('>>>>> <<<<<   ' * 2)\n",
        "    print(''' ''')\n",
        "    chi_squared, p_value, dof, expected = stats.chi2_contingency(contingency_table)\n",
        "\n",
        "    print('chi-squared = ', chi_squared)\n",
        "    print('p-value = ', p_value)\n",
        "    print('degree of freedom = ', dof)\n",
        "    print('expected: \\n', np.array(expected))\n",
        "    print('''     \n",
        "    ''')"
      ],
      "execution_count": 89,
      "outputs": [
        {
          "output_type": "stream",
          "text": [
            "++++++++++++++++++++++++++++++++++++++++++++++++++++++++++++++++++++++++++++++++\n",
            "--------------------------------------------------------------------------------\n",
            "++++++++++++++++++++++++++++++++++++++++++++++++++++++++++++++++++++++++++++++++\n",
            "A1     a    b\n",
            "A16          \n",
            "+     98  206\n",
            "-    112  262\n",
            " \n",
            ">>>>> <<<<<   >>>>> <<<<<   \n",
            " \n",
            "chi-squared =  0.31128326491619945\n",
            "p-value =  0.5768937883001117\n",
            "degree of freedom =  1\n",
            "expected: \n",
            " [[ 94.15929204 209.84070796]\n",
            " [115.84070796 258.15929204]]\n",
            "     \n",
            "    \n",
            "++++++++++++++++++++++++++++++++++++++++++++++++++++++++++++++++++++++++++++++++\n",
            "--------------------------------------------------------------------------------\n",
            "++++++++++++++++++++++++++++++++++++++++++++++++++++++++++++++++++++++++++++++++\n",
            "A4   l    u    y\n",
            "A16             \n",
            "+    2  256   45\n",
            "-    0  263  118\n",
            " \n",
            ">>>>> <<<<<   >>>>> <<<<<   \n",
            " \n",
            "chi-squared =  26.234074966202144\n",
            "p-value =  2.010680204180363e-06\n",
            "degree of freedom =  2\n",
            "expected: \n",
            " [[  0.88596491 229.90789474  72.20614035]\n",
            " [  1.11403509 289.09210526  90.79385965]]\n",
            "     \n",
            "    \n",
            "++++++++++++++++++++++++++++++++++++++++++++++++++++++++++++++++++++++++++++++++\n",
            "--------------------------------------------------------------------------------\n",
            "++++++++++++++++++++++++++++++++++++++++++++++++++++++++++++++++++++++++++++++++\n",
            "A5     g  gg    p\n",
            "A16              \n",
            "+    256   2   45\n",
            "-    263   0  118\n",
            " \n",
            ">>>>> <<<<<   >>>>> <<<<<   \n",
            " \n",
            "chi-squared =  26.234074966202144\n",
            "p-value =  2.010680204180363e-06\n",
            "degree of freedom =  2\n",
            "expected: \n",
            " [[229.90789474   0.88596491  72.20614035]\n",
            " [289.09210526   1.11403509  90.79385965]]\n",
            "     \n",
            "    \n",
            "++++++++++++++++++++++++++++++++++++++++++++++++++++++++++++++++++++++++++++++++\n",
            "--------------------------------------------------------------------------------\n",
            "++++++++++++++++++++++++++++++++++++++++++++++++++++++++++++++++++++++++++++++++\n",
            "A6   aa   c  cc   d   e  ff   i  j   k   m   q  r   w   x\n",
            "A16                                                      \n",
            "+    19  62  29   7  14   7  14  3  14  16  51  2  33  32\n",
            "-    35  75  12  23  11  46  45  7  37  22  27  1  31   6\n",
            " \n",
            ">>>>> <<<<<   >>>>> <<<<<   \n",
            " \n",
            "chi-squared =  98.32520342679135\n",
            "p-value =  3.4999300402715717e-15\n",
            "degree of freedom =  13\n",
            "expected: \n",
            " [[24.02643172 60.95594714 18.24229075 13.34801762 11.12334802 23.5814978\n",
            "  26.25110132  4.44933921 22.69162996 16.90748899 34.70484581  1.33480176\n",
            "  28.47577093 16.90748899]\n",
            " [29.97356828 76.04405286 22.75770925 16.65198238 13.87665198 29.4185022\n",
            "  32.74889868  5.55066079 28.30837004 21.09251101 43.29515419  1.66519824\n",
            "  35.52422907 21.09251101]]\n",
            "     \n",
            "    \n",
            "++++++++++++++++++++++++++++++++++++++++++++++++++++++++++++++++++++++++++++++++\n",
            "--------------------------------------------------------------------------------\n",
            "++++++++++++++++++++++++++++++++++++++++++++++++++++++++++++++++++++++++++++++++\n",
            "A7   bb  dd  ff   h  j  n  o    v  z\n",
            "A16                                 \n",
            "+    25   2   8  87  3  2  1  169  6\n",
            "-    34   4  49  51  5  2  1  230  2\n",
            " \n",
            ">>>>> <<<<<   >>>>> <<<<<   \n",
            " \n",
            "chi-squared =  45.034207140240554\n",
            "p-value =  3.625452872372267e-07\n",
            "degree of freedom =  8\n",
            "expected: \n",
            " [[ 26.25110132   2.66960352  25.36123348  61.40088106   3.55947137\n",
            "    1.77973568   0.88986784 177.52863436   3.55947137]\n",
            " [ 32.74889868   3.33039648  31.63876652  76.59911894   4.44052863\n",
            "    2.22026432   1.11013216 221.47136564   4.44052863]]\n",
            "     \n",
            "    \n",
            "++++++++++++++++++++++++++++++++++++++++++++++++++++++++++++++++++++++++++++++++\n",
            "--------------------------------------------------------------------------------\n",
            "++++++++++++++++++++++++++++++++++++++++++++++++++++++++++++++++++++++++++++++++\n",
            "A9     f    t\n",
            "A16          \n",
            "+     23  284\n",
            "-    306   77\n",
            " \n",
            ">>>>> <<<<<   >>>>> <<<<<   \n",
            " \n",
            "chi-squared =  355.2038167412799\n",
            "p-value =  3.1185900878457007e-79\n",
            "degree of freedom =  1\n",
            "expected: \n",
            " [[146.38115942 160.61884058]\n",
            " [182.61884058 200.38115942]]\n",
            "     \n",
            "    \n",
            "++++++++++++++++++++++++++++++++++++++++++++++++++++++++++++++++++++++++++++++++\n",
            "--------------------------------------------------------------------------------\n",
            "++++++++++++++++++++++++++++++++++++++++++++++++++++++++++++++++++++++++++++++++\n",
            "A10    f    t\n",
            "A16          \n",
            "+     98  209\n",
            "-    297   86\n",
            " \n",
            ">>>>> <<<<<   >>>>> <<<<<   \n",
            " \n",
            "chi-squared =  143.06956205083145\n",
            "p-value =  5.675727374527571e-33\n",
            "degree of freedom =  1\n",
            "expected: \n",
            " [[175.74637681 131.25362319]\n",
            " [219.25362319 163.74637681]]\n",
            "     \n",
            "    \n",
            "++++++++++++++++++++++++++++++++++++++++++++++++++++++++++++++++++++++++++++++++\n",
            "--------------------------------------------------------------------------------\n",
            "++++++++++++++++++++++++++++++++++++++++++++++++++++++++++++++++++++++++++++++++\n",
            "A12    f    t\n",
            "A16          \n",
            "+    161  146\n",
            "-    213  170\n",
            " \n",
            ">>>>> <<<<<   >>>>> <<<<<   \n",
            " \n",
            "chi-squared =  0.568273300792113\n",
            "p-value =  0.45094587758631943\n",
            "degree of freedom =  1\n",
            "expected: \n",
            " [[166.40289855 140.59710145]\n",
            " [207.59710145 175.40289855]]\n",
            "     \n",
            "    \n",
            "++++++++++++++++++++++++++++++++++++++++++++++++++++++++++++++++++++++++++++++++\n",
            "--------------------------------------------------------------------------------\n",
            "++++++++++++++++++++++++++++++++++++++++++++++++++++++++++++++++++++++++++++++++\n",
            "A13    g  p   s\n",
            "A16            \n",
            "+    287  5  15\n",
            "-    338  3  42\n",
            " \n",
            ">>>>> <<<<<   >>>>> <<<<<   \n",
            " \n",
            "chi-squared =  9.191570451545383\n",
            "p-value =  0.010094291370456362\n",
            "degree of freedom =  2\n",
            "expected: \n",
            " [[278.07971014   3.55942029  25.36086957]\n",
            " [346.92028986   4.44057971  31.63913043]]\n",
            "     \n",
            "    \n"
          ],
          "name": "stdout"
        }
      ]
    },
    {
      "cell_type": "markdown",
      "metadata": {
        "id": "ZM8JckA2bgnp",
        "colab_type": "text"
      },
      "source": [
        "## Part 3 - Analysis and Interpretation\n",
        "\n",
        "Now that you've looked at the data, answer the following questions:\n",
        "\n",
        "- Interpret and explain the two t-tests you ran - what do they tell you about the relationships between the continuous features you selected and the class labels?\n",
        "- Interpret and explain the two Chi-squared tests you ran - what do they tell you about the relationships between the categorical features you selected and the class labels?\n",
        "- What was the most challenging part of this sprint challenge?\n",
        "\n",
        "Answer with text, but feel free to intersperse example code/results or refer to it from earlier."
      ]
    },
    {
      "cell_type": "markdown",
      "metadata": {
        "id": "LIozLDNG2Uhu",
        "colab_type": "text"
      },
      "source": [
        "*Your words here!*"
      ]
    },
    {
      "cell_type": "markdown",
      "metadata": {
        "id": "m9xHLGCe1Yp8",
        "colab_type": "text"
      },
      "source": [
        "- Interpret and explain the two t-tests you ran - what do they tell you about the relationships between the continuous features you selected and the class labels?\n",
        "- A2: reject the null hypothesis for feature A2, it's influence the rezult\n",
        "-\n",
        "-\n",
        "- Interpret and explain the two Chi-squared tests you ran - what do they tell you about the relationships between the categorical features you selected and the class labels?\n",
        "-\n",
        "- A6 =>> Reject the null hypothesis that approve/reject credit  and feature A6 are independent. They have to be associated. Pvalue:  0 (or 3.4999300402715717e-15)\n",
        "- A1 =>> Don't reject the null hypothesis that approve/reject credit  and feature A6 are independent. They are not associated. Pvalue: 0.5768937883001117\n",
        "-\n",
        "- What was the most challenging part of this sprint challenge?\n",
        "- Second and third parts\n",
        "-\n",
        "-"
      ]
    }
  ]
}