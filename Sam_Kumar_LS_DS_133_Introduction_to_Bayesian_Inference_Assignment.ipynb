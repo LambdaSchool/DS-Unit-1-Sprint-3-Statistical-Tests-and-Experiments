{
  "nbformat": 4,
  "nbformat_minor": 0,
  "metadata": {
    "colab": {
      "name": "Sam Kumar LS_DS_133_Introduction_to_Bayesian_Inference_Assignment.ipynb",
      "provenance": [],
      "collapsed_sections": [],
      "include_colab_link": true
    },
    "kernelspec": {
      "name": "python3",
      "display_name": "Python 3"
    }
  },
  "cells": [
    {
      "cell_type": "markdown",
      "metadata": {
        "id": "view-in-github",
        "colab_type": "text"
      },
      "source": [
        "<a href=\"https://colab.research.google.com/github/sampath11/DS-Unit-1-Sprint-3-Statistical-Tests-and-Experiments/blob/master/Sam_Kumar_LS_DS_133_Introduction_to_Bayesian_Inference_Assignment.ipynb\" target=\"_parent\"><img src=\"https://colab.research.google.com/assets/colab-badge.svg\" alt=\"Open In Colab\"/></a>"
      ]
    },
    {
      "cell_type": "markdown",
      "metadata": {
        "id": "H7OLbevlbd_Z",
        "colab_type": "text"
      },
      "source": [
        "# Lambda School Data Science Module 133\n",
        "\n",
        "## Introduction to Bayesian Inference\n",
        "\n",
        "\n"
      ]
    },
    {
      "cell_type": "markdown",
      "metadata": {
        "id": "P-DzzRk5bf0z",
        "colab_type": "text"
      },
      "source": [
        "## Assignment - Code it up!\n",
        "\n",
        "Most of the above was pure math - now write Python code to reproduce the results! This is purposefully open ended - you'll have to think about how you should represent probabilities and events. You can and should look things up, and as a stretch goal - refactor your code into helpful reusable functions!\n",
        "\n",
        "Specific goals/targets:\n",
        "\n",
        "1. Write a function `def prob_drunk_given_positive(prob_drunk_prior, prob_positive, prob_positive_drunk)` that reproduces the example from lecture, and use it to calculate and visualize a range of situations\n",
        "2. Explore `scipy.stats.bayes_mvs` - read its documentation, and experiment with it on data you've tested in other ways earlier this week\n",
        "3. Create a visualization comparing the results of a Bayesian approach to a traditional/frequentist approach\n",
        "4. In your own words, summarize the difference between Bayesian and Frequentist statistics\n",
        "\n",
        "If you're unsure where to start, check out [this blog post of Bayes theorem with Python](https://dataconomy.com/2015/02/introduction-to-bayes-theorem-with-python/) - you could and should create something similar!\n",
        "\n",
        "Stretch goals:\n",
        "\n",
        "- Apply a Bayesian technique to a problem you previously worked (in an assignment or project work) on from a frequentist (standard) perspective\n",
        "- Check out [PyMC3](https://docs.pymc.io/) (note this goes beyond hypothesis tests into modeling) - read the guides and work through some examples\n",
        "- Take PyMC3 further - see if you can build something with it!"
      ]
    },
    {
      "cell_type": "code",
      "metadata": {
        "id": "xpVhZyUnbf7o",
        "colab_type": "code",
        "colab": {}
      },
      "source": [
        "# TODO - code!\n",
        "\n",
        "import numpy as np\n",
        "import matplotlib.pyplot as plt"
      ],
      "execution_count": 0,
      "outputs": []
    },
    {
      "cell_type": "code",
      "metadata": {
        "id": "y7efpunotFWH",
        "colab_type": "code",
        "colab": {}
      },
      "source": [
        "def prob_drunk_given_positive(prob_drunk_prior, prob_positive_drunk, prob_positive):\n",
        "  return (prob_drunk_prior * prob_positive_drunk) / prob_positive"
      ],
      "execution_count": 0,
      "outputs": []
    },
    {
      "cell_type": "code",
      "metadata": {
        "id": "hG2kk3M4tNKb",
        "colab_type": "code",
        "outputId": "9fa3c83a-2262-467f-9689-3f7b22770717",
        "colab": {
          "base_uri": "https://localhost:8080/",
          "height": 34
        }
      },
      "source": [
        "# scenario for breathalyzer test in the lecture\n",
        "prob_drunk_given_positive(0.001, 1, 0.08)"
      ],
      "execution_count": 0,
      "outputs": [
        {
          "output_type": "execute_result",
          "data": {
            "text/plain": [
              "0.0125"
            ]
          },
          "metadata": {
            "tags": []
          },
          "execution_count": 7
        }
      ]
    },
    {
      "cell_type": "code",
      "metadata": {
        "id": "WBQbmmXWtTTB",
        "colab_type": "code",
        "outputId": "f02e098c-3825-4de9-eb66-07bc99f31640",
        "colab": {
          "base_uri": "https://localhost:8080/",
          "height": 34
        }
      },
      "source": [
        "# One more scenario\n",
        "\n",
        "prob_drunk_given_positive(0.001, 0.8, 0.1)"
      ],
      "execution_count": 0,
      "outputs": [
        {
          "output_type": "execute_result",
          "data": {
            "text/plain": [
              "0.008"
            ]
          },
          "metadata": {
            "tags": []
          },
          "execution_count": 8
        }
      ]
    },
    {
      "cell_type": "code",
      "metadata": {
        "id": "0ny19gj9tf2Y",
        "colab_type": "code",
        "outputId": "9934a7d8-6233-4985-8866-208880d0b4a3",
        "colab": {
          "base_uri": "https://localhost:8080/",
          "height": 400
        }
      },
      "source": [
        "# Explore scipy.stats.bayes_mvs - read its documentation, and experiment with it on data you've tested in other ways earlier this week\n",
        "\n",
        "import pandas as pd\n",
        "import numpy as np\n",
        "df = pd.read_csv('https://raw.githubusercontent.com/bs3537/DS-Unit-1-Sprint-3-Statistical-Tests-and-Experiments/master/master.csv')\n",
        "df.head()"
      ],
      "execution_count": 1,
      "outputs": [
        {
          "output_type": "execute_result",
          "data": {
            "text/html": [
              "<div>\n",
              "<style scoped>\n",
              "    .dataframe tbody tr th:only-of-type {\n",
              "        vertical-align: middle;\n",
              "    }\n",
              "\n",
              "    .dataframe tbody tr th {\n",
              "        vertical-align: top;\n",
              "    }\n",
              "\n",
              "    .dataframe thead th {\n",
              "        text-align: right;\n",
              "    }\n",
              "</style>\n",
              "<table border=\"1\" class=\"dataframe\">\n",
              "  <thead>\n",
              "    <tr style=\"text-align: right;\">\n",
              "      <th></th>\n",
              "      <th>country</th>\n",
              "      <th>year</th>\n",
              "      <th>sex</th>\n",
              "      <th>age</th>\n",
              "      <th>suicides_no</th>\n",
              "      <th>population</th>\n",
              "      <th>suicides/100k pop</th>\n",
              "      <th>country-year</th>\n",
              "      <th>HDI for year</th>\n",
              "      <th>gdp_for_year ($)</th>\n",
              "      <th>gdp_per_capita ($)</th>\n",
              "      <th>generation</th>\n",
              "    </tr>\n",
              "  </thead>\n",
              "  <tbody>\n",
              "    <tr>\n",
              "      <th>0</th>\n",
              "      <td>Albania</td>\n",
              "      <td>1987</td>\n",
              "      <td>male</td>\n",
              "      <td>15-24 years</td>\n",
              "      <td>21</td>\n",
              "      <td>312900</td>\n",
              "      <td>6.71</td>\n",
              "      <td>Albania1987</td>\n",
              "      <td>NaN</td>\n",
              "      <td>2,156,624,900</td>\n",
              "      <td>796</td>\n",
              "      <td>Generation X</td>\n",
              "    </tr>\n",
              "    <tr>\n",
              "      <th>1</th>\n",
              "      <td>Albania</td>\n",
              "      <td>1987</td>\n",
              "      <td>male</td>\n",
              "      <td>35-54 years</td>\n",
              "      <td>16</td>\n",
              "      <td>308000</td>\n",
              "      <td>5.19</td>\n",
              "      <td>Albania1987</td>\n",
              "      <td>NaN</td>\n",
              "      <td>2,156,624,900</td>\n",
              "      <td>796</td>\n",
              "      <td>Silent</td>\n",
              "    </tr>\n",
              "    <tr>\n",
              "      <th>2</th>\n",
              "      <td>Albania</td>\n",
              "      <td>1987</td>\n",
              "      <td>female</td>\n",
              "      <td>15-24 years</td>\n",
              "      <td>14</td>\n",
              "      <td>289700</td>\n",
              "      <td>4.83</td>\n",
              "      <td>Albania1987</td>\n",
              "      <td>NaN</td>\n",
              "      <td>2,156,624,900</td>\n",
              "      <td>796</td>\n",
              "      <td>Generation X</td>\n",
              "    </tr>\n",
              "    <tr>\n",
              "      <th>3</th>\n",
              "      <td>Albania</td>\n",
              "      <td>1987</td>\n",
              "      <td>male</td>\n",
              "      <td>75+ years</td>\n",
              "      <td>1</td>\n",
              "      <td>21800</td>\n",
              "      <td>4.59</td>\n",
              "      <td>Albania1987</td>\n",
              "      <td>NaN</td>\n",
              "      <td>2,156,624,900</td>\n",
              "      <td>796</td>\n",
              "      <td>G.I. Generation</td>\n",
              "    </tr>\n",
              "    <tr>\n",
              "      <th>4</th>\n",
              "      <td>Albania</td>\n",
              "      <td>1987</td>\n",
              "      <td>male</td>\n",
              "      <td>25-34 years</td>\n",
              "      <td>9</td>\n",
              "      <td>274300</td>\n",
              "      <td>3.28</td>\n",
              "      <td>Albania1987</td>\n",
              "      <td>NaN</td>\n",
              "      <td>2,156,624,900</td>\n",
              "      <td>796</td>\n",
              "      <td>Boomers</td>\n",
              "    </tr>\n",
              "  </tbody>\n",
              "</table>\n",
              "</div>"
            ],
            "text/plain": [
              "   country  year  ... gdp_per_capita ($)       generation\n",
              "0  Albania  1987  ...                796     Generation X\n",
              "1  Albania  1987  ...                796           Silent\n",
              "2  Albania  1987  ...                796     Generation X\n",
              "3  Albania  1987  ...                796  G.I. Generation\n",
              "4  Albania  1987  ...                796          Boomers\n",
              "\n",
              "[5 rows x 12 columns]"
            ]
          },
          "metadata": {
            "tags": []
          },
          "execution_count": 1
        }
      ]
    },
    {
      "cell_type": "code",
      "metadata": {
        "id": "EJuKlqNN9KFq",
        "colab_type": "code",
        "colab": {
          "base_uri": "https://localhost:8080/",
          "height": 366
        },
        "outputId": "60c3814d-b1d6-4fd9-fe27-bc717c4e712b"
      },
      "source": [
        "## Will compare US suicide rate for 2015 and 1985 using bayesian and frequentist techniques\n",
        "df.tail()"
      ],
      "execution_count": 2,
      "outputs": [
        {
          "output_type": "execute_result",
          "data": {
            "text/html": [
              "<div>\n",
              "<style scoped>\n",
              "    .dataframe tbody tr th:only-of-type {\n",
              "        vertical-align: middle;\n",
              "    }\n",
              "\n",
              "    .dataframe tbody tr th {\n",
              "        vertical-align: top;\n",
              "    }\n",
              "\n",
              "    .dataframe thead th {\n",
              "        text-align: right;\n",
              "    }\n",
              "</style>\n",
              "<table border=\"1\" class=\"dataframe\">\n",
              "  <thead>\n",
              "    <tr style=\"text-align: right;\">\n",
              "      <th></th>\n",
              "      <th>country</th>\n",
              "      <th>year</th>\n",
              "      <th>sex</th>\n",
              "      <th>age</th>\n",
              "      <th>suicides_no</th>\n",
              "      <th>population</th>\n",
              "      <th>suicides/100k pop</th>\n",
              "      <th>country-year</th>\n",
              "      <th>HDI for year</th>\n",
              "      <th>gdp_for_year ($)</th>\n",
              "      <th>gdp_per_capita ($)</th>\n",
              "      <th>generation</th>\n",
              "    </tr>\n",
              "  </thead>\n",
              "  <tbody>\n",
              "    <tr>\n",
              "      <th>27815</th>\n",
              "      <td>Uzbekistan</td>\n",
              "      <td>2014</td>\n",
              "      <td>female</td>\n",
              "      <td>35-54 years</td>\n",
              "      <td>107</td>\n",
              "      <td>3620833</td>\n",
              "      <td>2.96</td>\n",
              "      <td>Uzbekistan2014</td>\n",
              "      <td>0.675</td>\n",
              "      <td>63,067,077,179</td>\n",
              "      <td>2309</td>\n",
              "      <td>Generation X</td>\n",
              "    </tr>\n",
              "    <tr>\n",
              "      <th>27816</th>\n",
              "      <td>Uzbekistan</td>\n",
              "      <td>2014</td>\n",
              "      <td>female</td>\n",
              "      <td>75+ years</td>\n",
              "      <td>9</td>\n",
              "      <td>348465</td>\n",
              "      <td>2.58</td>\n",
              "      <td>Uzbekistan2014</td>\n",
              "      <td>0.675</td>\n",
              "      <td>63,067,077,179</td>\n",
              "      <td>2309</td>\n",
              "      <td>Silent</td>\n",
              "    </tr>\n",
              "    <tr>\n",
              "      <th>27817</th>\n",
              "      <td>Uzbekistan</td>\n",
              "      <td>2014</td>\n",
              "      <td>male</td>\n",
              "      <td>5-14 years</td>\n",
              "      <td>60</td>\n",
              "      <td>2762158</td>\n",
              "      <td>2.17</td>\n",
              "      <td>Uzbekistan2014</td>\n",
              "      <td>0.675</td>\n",
              "      <td>63,067,077,179</td>\n",
              "      <td>2309</td>\n",
              "      <td>Generation Z</td>\n",
              "    </tr>\n",
              "    <tr>\n",
              "      <th>27818</th>\n",
              "      <td>Uzbekistan</td>\n",
              "      <td>2014</td>\n",
              "      <td>female</td>\n",
              "      <td>5-14 years</td>\n",
              "      <td>44</td>\n",
              "      <td>2631600</td>\n",
              "      <td>1.67</td>\n",
              "      <td>Uzbekistan2014</td>\n",
              "      <td>0.675</td>\n",
              "      <td>63,067,077,179</td>\n",
              "      <td>2309</td>\n",
              "      <td>Generation Z</td>\n",
              "    </tr>\n",
              "    <tr>\n",
              "      <th>27819</th>\n",
              "      <td>Uzbekistan</td>\n",
              "      <td>2014</td>\n",
              "      <td>female</td>\n",
              "      <td>55-74 years</td>\n",
              "      <td>21</td>\n",
              "      <td>1438935</td>\n",
              "      <td>1.46</td>\n",
              "      <td>Uzbekistan2014</td>\n",
              "      <td>0.675</td>\n",
              "      <td>63,067,077,179</td>\n",
              "      <td>2309</td>\n",
              "      <td>Boomers</td>\n",
              "    </tr>\n",
              "  </tbody>\n",
              "</table>\n",
              "</div>"
            ],
            "text/plain": [
              "          country  year  ... gdp_per_capita ($)    generation\n",
              "27815  Uzbekistan  2014  ...               2309  Generation X\n",
              "27816  Uzbekistan  2014  ...               2309        Silent\n",
              "27817  Uzbekistan  2014  ...               2309  Generation Z\n",
              "27818  Uzbekistan  2014  ...               2309  Generation Z\n",
              "27819  Uzbekistan  2014  ...               2309       Boomers\n",
              "\n",
              "[5 rows x 12 columns]"
            ]
          },
          "metadata": {
            "tags": []
          },
          "execution_count": 2
        }
      ]
    },
    {
      "cell_type": "code",
      "metadata": {
        "id": "G-Htsacy9Z7v",
        "colab_type": "code",
        "colab": {
          "base_uri": "https://localhost:8080/",
          "height": 400
        },
        "outputId": "4d8e67c6-dc89-4def-941a-3f512a1a1840"
      },
      "source": [
        "df_country = df[df['country'] == \"United States\"]\n",
        "df_country.head()"
      ],
      "execution_count": 6,
      "outputs": [
        {
          "output_type": "execute_result",
          "data": {
            "text/html": [
              "<div>\n",
              "<style scoped>\n",
              "    .dataframe tbody tr th:only-of-type {\n",
              "        vertical-align: middle;\n",
              "    }\n",
              "\n",
              "    .dataframe tbody tr th {\n",
              "        vertical-align: top;\n",
              "    }\n",
              "\n",
              "    .dataframe thead th {\n",
              "        text-align: right;\n",
              "    }\n",
              "</style>\n",
              "<table border=\"1\" class=\"dataframe\">\n",
              "  <thead>\n",
              "    <tr style=\"text-align: right;\">\n",
              "      <th></th>\n",
              "      <th>country</th>\n",
              "      <th>year</th>\n",
              "      <th>sex</th>\n",
              "      <th>age</th>\n",
              "      <th>suicides_no</th>\n",
              "      <th>population</th>\n",
              "      <th>suicides/100k pop</th>\n",
              "      <th>country-year</th>\n",
              "      <th>HDI for year</th>\n",
              "      <th>gdp_for_year ($)</th>\n",
              "      <th>gdp_per_capita ($)</th>\n",
              "      <th>generation</th>\n",
              "    </tr>\n",
              "  </thead>\n",
              "  <tbody>\n",
              "    <tr>\n",
              "      <th>26848</th>\n",
              "      <td>United States</td>\n",
              "      <td>1985</td>\n",
              "      <td>male</td>\n",
              "      <td>75+ years</td>\n",
              "      <td>2177</td>\n",
              "      <td>4064000</td>\n",
              "      <td>53.57</td>\n",
              "      <td>United States1985</td>\n",
              "      <td>0.841</td>\n",
              "      <td>4,346,734,000,000</td>\n",
              "      <td>19693</td>\n",
              "      <td>G.I. Generation</td>\n",
              "    </tr>\n",
              "    <tr>\n",
              "      <th>26849</th>\n",
              "      <td>United States</td>\n",
              "      <td>1985</td>\n",
              "      <td>male</td>\n",
              "      <td>55-74 years</td>\n",
              "      <td>5302</td>\n",
              "      <td>17971000</td>\n",
              "      <td>29.50</td>\n",
              "      <td>United States1985</td>\n",
              "      <td>0.841</td>\n",
              "      <td>4,346,734,000,000</td>\n",
              "      <td>19693</td>\n",
              "      <td>G.I. Generation</td>\n",
              "    </tr>\n",
              "    <tr>\n",
              "      <th>26850</th>\n",
              "      <td>United States</td>\n",
              "      <td>1985</td>\n",
              "      <td>male</td>\n",
              "      <td>25-34 years</td>\n",
              "      <td>5134</td>\n",
              "      <td>20986000</td>\n",
              "      <td>24.46</td>\n",
              "      <td>United States1985</td>\n",
              "      <td>0.841</td>\n",
              "      <td>4,346,734,000,000</td>\n",
              "      <td>19693</td>\n",
              "      <td>Boomers</td>\n",
              "    </tr>\n",
              "    <tr>\n",
              "      <th>26851</th>\n",
              "      <td>United States</td>\n",
              "      <td>1985</td>\n",
              "      <td>male</td>\n",
              "      <td>35-54 years</td>\n",
              "      <td>6053</td>\n",
              "      <td>26589000</td>\n",
              "      <td>22.77</td>\n",
              "      <td>United States1985</td>\n",
              "      <td>0.841</td>\n",
              "      <td>4,346,734,000,000</td>\n",
              "      <td>19693</td>\n",
              "      <td>Silent</td>\n",
              "    </tr>\n",
              "    <tr>\n",
              "      <th>26852</th>\n",
              "      <td>United States</td>\n",
              "      <td>1985</td>\n",
              "      <td>male</td>\n",
              "      <td>15-24 years</td>\n",
              "      <td>4267</td>\n",
              "      <td>19962000</td>\n",
              "      <td>21.38</td>\n",
              "      <td>United States1985</td>\n",
              "      <td>0.841</td>\n",
              "      <td>4,346,734,000,000</td>\n",
              "      <td>19693</td>\n",
              "      <td>Generation X</td>\n",
              "    </tr>\n",
              "  </tbody>\n",
              "</table>\n",
              "</div>"
            ],
            "text/plain": [
              "             country  year  ... gdp_per_capita ($)       generation\n",
              "26848  United States  1985  ...              19693  G.I. Generation\n",
              "26849  United States  1985  ...              19693  G.I. Generation\n",
              "26850  United States  1985  ...              19693          Boomers\n",
              "26851  United States  1985  ...              19693           Silent\n",
              "26852  United States  1985  ...              19693     Generation X\n",
              "\n",
              "[5 rows x 12 columns]"
            ]
          },
          "metadata": {
            "tags": []
          },
          "execution_count": 6
        }
      ]
    },
    {
      "cell_type": "code",
      "metadata": {
        "id": "GbsuJ5au-Wdf",
        "colab_type": "code",
        "colab": {
          "base_uri": "https://localhost:8080/",
          "height": 34
        },
        "outputId": "b39596a7-4c6f-43e2-aecb-b28873855271"
      },
      "source": [
        "print (df_country['year'].max(), df_country['year'].min())"
      ],
      "execution_count": 7,
      "outputs": [
        {
          "output_type": "stream",
          "text": [
            "2015 1985\n"
          ],
          "name": "stdout"
        }
      ]
    },
    {
      "cell_type": "code",
      "metadata": {
        "id": "QYygX4Gn-kln",
        "colab_type": "code",
        "colab": {
          "base_uri": "https://localhost:8080/",
          "height": 400
        },
        "outputId": "abae504e-754b-492c-937e-aa7132bddb7f"
      },
      "source": [
        "df_yr85 = df_country[df_country['year'] == 1985]\n",
        "\n",
        "df_yr85.head()"
      ],
      "execution_count": 10,
      "outputs": [
        {
          "output_type": "execute_result",
          "data": {
            "text/html": [
              "<div>\n",
              "<style scoped>\n",
              "    .dataframe tbody tr th:only-of-type {\n",
              "        vertical-align: middle;\n",
              "    }\n",
              "\n",
              "    .dataframe tbody tr th {\n",
              "        vertical-align: top;\n",
              "    }\n",
              "\n",
              "    .dataframe thead th {\n",
              "        text-align: right;\n",
              "    }\n",
              "</style>\n",
              "<table border=\"1\" class=\"dataframe\">\n",
              "  <thead>\n",
              "    <tr style=\"text-align: right;\">\n",
              "      <th></th>\n",
              "      <th>country</th>\n",
              "      <th>year</th>\n",
              "      <th>sex</th>\n",
              "      <th>age</th>\n",
              "      <th>suicides_no</th>\n",
              "      <th>population</th>\n",
              "      <th>suicides/100k pop</th>\n",
              "      <th>country-year</th>\n",
              "      <th>HDI for year</th>\n",
              "      <th>gdp_for_year ($)</th>\n",
              "      <th>gdp_per_capita ($)</th>\n",
              "      <th>generation</th>\n",
              "    </tr>\n",
              "  </thead>\n",
              "  <tbody>\n",
              "    <tr>\n",
              "      <th>26848</th>\n",
              "      <td>United States</td>\n",
              "      <td>1985</td>\n",
              "      <td>male</td>\n",
              "      <td>75+ years</td>\n",
              "      <td>2177</td>\n",
              "      <td>4064000</td>\n",
              "      <td>53.57</td>\n",
              "      <td>United States1985</td>\n",
              "      <td>0.841</td>\n",
              "      <td>4,346,734,000,000</td>\n",
              "      <td>19693</td>\n",
              "      <td>G.I. Generation</td>\n",
              "    </tr>\n",
              "    <tr>\n",
              "      <th>26849</th>\n",
              "      <td>United States</td>\n",
              "      <td>1985</td>\n",
              "      <td>male</td>\n",
              "      <td>55-74 years</td>\n",
              "      <td>5302</td>\n",
              "      <td>17971000</td>\n",
              "      <td>29.50</td>\n",
              "      <td>United States1985</td>\n",
              "      <td>0.841</td>\n",
              "      <td>4,346,734,000,000</td>\n",
              "      <td>19693</td>\n",
              "      <td>G.I. Generation</td>\n",
              "    </tr>\n",
              "    <tr>\n",
              "      <th>26850</th>\n",
              "      <td>United States</td>\n",
              "      <td>1985</td>\n",
              "      <td>male</td>\n",
              "      <td>25-34 years</td>\n",
              "      <td>5134</td>\n",
              "      <td>20986000</td>\n",
              "      <td>24.46</td>\n",
              "      <td>United States1985</td>\n",
              "      <td>0.841</td>\n",
              "      <td>4,346,734,000,000</td>\n",
              "      <td>19693</td>\n",
              "      <td>Boomers</td>\n",
              "    </tr>\n",
              "    <tr>\n",
              "      <th>26851</th>\n",
              "      <td>United States</td>\n",
              "      <td>1985</td>\n",
              "      <td>male</td>\n",
              "      <td>35-54 years</td>\n",
              "      <td>6053</td>\n",
              "      <td>26589000</td>\n",
              "      <td>22.77</td>\n",
              "      <td>United States1985</td>\n",
              "      <td>0.841</td>\n",
              "      <td>4,346,734,000,000</td>\n",
              "      <td>19693</td>\n",
              "      <td>Silent</td>\n",
              "    </tr>\n",
              "    <tr>\n",
              "      <th>26852</th>\n",
              "      <td>United States</td>\n",
              "      <td>1985</td>\n",
              "      <td>male</td>\n",
              "      <td>15-24 years</td>\n",
              "      <td>4267</td>\n",
              "      <td>19962000</td>\n",
              "      <td>21.38</td>\n",
              "      <td>United States1985</td>\n",
              "      <td>0.841</td>\n",
              "      <td>4,346,734,000,000</td>\n",
              "      <td>19693</td>\n",
              "      <td>Generation X</td>\n",
              "    </tr>\n",
              "  </tbody>\n",
              "</table>\n",
              "</div>"
            ],
            "text/plain": [
              "             country  year  ... gdp_per_capita ($)       generation\n",
              "26848  United States  1985  ...              19693  G.I. Generation\n",
              "26849  United States  1985  ...              19693  G.I. Generation\n",
              "26850  United States  1985  ...              19693          Boomers\n",
              "26851  United States  1985  ...              19693           Silent\n",
              "26852  United States  1985  ...              19693     Generation X\n",
              "\n",
              "[5 rows x 12 columns]"
            ]
          },
          "metadata": {
            "tags": []
          },
          "execution_count": 10
        }
      ]
    },
    {
      "cell_type": "code",
      "metadata": {
        "id": "KZRm83Lm_LuV",
        "colab_type": "code",
        "colab": {
          "base_uri": "https://localhost:8080/",
          "height": 792
        },
        "outputId": "261f7f86-b7d3-41ce-8700-718150da5923"
      },
      "source": [
        "df_yr85"
      ],
      "execution_count": 13,
      "outputs": [
        {
          "output_type": "execute_result",
          "data": {
            "text/html": [
              "<div>\n",
              "<style scoped>\n",
              "    .dataframe tbody tr th:only-of-type {\n",
              "        vertical-align: middle;\n",
              "    }\n",
              "\n",
              "    .dataframe tbody tr th {\n",
              "        vertical-align: top;\n",
              "    }\n",
              "\n",
              "    .dataframe thead th {\n",
              "        text-align: right;\n",
              "    }\n",
              "</style>\n",
              "<table border=\"1\" class=\"dataframe\">\n",
              "  <thead>\n",
              "    <tr style=\"text-align: right;\">\n",
              "      <th></th>\n",
              "      <th>country</th>\n",
              "      <th>year</th>\n",
              "      <th>sex</th>\n",
              "      <th>age</th>\n",
              "      <th>suicides_no</th>\n",
              "      <th>population</th>\n",
              "      <th>suicides/100k pop</th>\n",
              "      <th>country-year</th>\n",
              "      <th>HDI for year</th>\n",
              "      <th>gdp_for_year ($)</th>\n",
              "      <th>gdp_per_capita ($)</th>\n",
              "      <th>generation</th>\n",
              "    </tr>\n",
              "  </thead>\n",
              "  <tbody>\n",
              "    <tr>\n",
              "      <th>26848</th>\n",
              "      <td>United States</td>\n",
              "      <td>1985</td>\n",
              "      <td>male</td>\n",
              "      <td>75+ years</td>\n",
              "      <td>2177</td>\n",
              "      <td>4064000</td>\n",
              "      <td>53.57</td>\n",
              "      <td>United States1985</td>\n",
              "      <td>0.841</td>\n",
              "      <td>4,346,734,000,000</td>\n",
              "      <td>19693</td>\n",
              "      <td>G.I. Generation</td>\n",
              "    </tr>\n",
              "    <tr>\n",
              "      <th>26849</th>\n",
              "      <td>United States</td>\n",
              "      <td>1985</td>\n",
              "      <td>male</td>\n",
              "      <td>55-74 years</td>\n",
              "      <td>5302</td>\n",
              "      <td>17971000</td>\n",
              "      <td>29.50</td>\n",
              "      <td>United States1985</td>\n",
              "      <td>0.841</td>\n",
              "      <td>4,346,734,000,000</td>\n",
              "      <td>19693</td>\n",
              "      <td>G.I. Generation</td>\n",
              "    </tr>\n",
              "    <tr>\n",
              "      <th>26850</th>\n",
              "      <td>United States</td>\n",
              "      <td>1985</td>\n",
              "      <td>male</td>\n",
              "      <td>25-34 years</td>\n",
              "      <td>5134</td>\n",
              "      <td>20986000</td>\n",
              "      <td>24.46</td>\n",
              "      <td>United States1985</td>\n",
              "      <td>0.841</td>\n",
              "      <td>4,346,734,000,000</td>\n",
              "      <td>19693</td>\n",
              "      <td>Boomers</td>\n",
              "    </tr>\n",
              "    <tr>\n",
              "      <th>26851</th>\n",
              "      <td>United States</td>\n",
              "      <td>1985</td>\n",
              "      <td>male</td>\n",
              "      <td>35-54 years</td>\n",
              "      <td>6053</td>\n",
              "      <td>26589000</td>\n",
              "      <td>22.77</td>\n",
              "      <td>United States1985</td>\n",
              "      <td>0.841</td>\n",
              "      <td>4,346,734,000,000</td>\n",
              "      <td>19693</td>\n",
              "      <td>Silent</td>\n",
              "    </tr>\n",
              "    <tr>\n",
              "      <th>26852</th>\n",
              "      <td>United States</td>\n",
              "      <td>1985</td>\n",
              "      <td>male</td>\n",
              "      <td>15-24 years</td>\n",
              "      <td>4267</td>\n",
              "      <td>19962000</td>\n",
              "      <td>21.38</td>\n",
              "      <td>United States1985</td>\n",
              "      <td>0.841</td>\n",
              "      <td>4,346,734,000,000</td>\n",
              "      <td>19693</td>\n",
              "      <td>Generation X</td>\n",
              "    </tr>\n",
              "    <tr>\n",
              "      <th>26853</th>\n",
              "      <td>United States</td>\n",
              "      <td>1985</td>\n",
              "      <td>female</td>\n",
              "      <td>35-54 years</td>\n",
              "      <td>2105</td>\n",
              "      <td>27763000</td>\n",
              "      <td>7.58</td>\n",
              "      <td>United States1985</td>\n",
              "      <td>0.841</td>\n",
              "      <td>4,346,734,000,000</td>\n",
              "      <td>19693</td>\n",
              "      <td>Silent</td>\n",
              "    </tr>\n",
              "    <tr>\n",
              "      <th>26854</th>\n",
              "      <td>United States</td>\n",
              "      <td>1985</td>\n",
              "      <td>female</td>\n",
              "      <td>55-74 years</td>\n",
              "      <td>1568</td>\n",
              "      <td>21366000</td>\n",
              "      <td>7.34</td>\n",
              "      <td>United States1985</td>\n",
              "      <td>0.841</td>\n",
              "      <td>4,346,734,000,000</td>\n",
              "      <td>19693</td>\n",
              "      <td>G.I. Generation</td>\n",
              "    </tr>\n",
              "    <tr>\n",
              "      <th>26855</th>\n",
              "      <td>United States</td>\n",
              "      <td>1985</td>\n",
              "      <td>female</td>\n",
              "      <td>75+ years</td>\n",
              "      <td>466</td>\n",
              "      <td>7469000</td>\n",
              "      <td>6.24</td>\n",
              "      <td>United States1985</td>\n",
              "      <td>0.841</td>\n",
              "      <td>4,346,734,000,000</td>\n",
              "      <td>19693</td>\n",
              "      <td>G.I. Generation</td>\n",
              "    </tr>\n",
              "    <tr>\n",
              "      <th>26856</th>\n",
              "      <td>United States</td>\n",
              "      <td>1985</td>\n",
              "      <td>female</td>\n",
              "      <td>25-34 years</td>\n",
              "      <td>1242</td>\n",
              "      <td>21041000</td>\n",
              "      <td>5.90</td>\n",
              "      <td>United States1985</td>\n",
              "      <td>0.841</td>\n",
              "      <td>4,346,734,000,000</td>\n",
              "      <td>19693</td>\n",
              "      <td>Boomers</td>\n",
              "    </tr>\n",
              "    <tr>\n",
              "      <th>26857</th>\n",
              "      <td>United States</td>\n",
              "      <td>1985</td>\n",
              "      <td>female</td>\n",
              "      <td>15-24 years</td>\n",
              "      <td>854</td>\n",
              "      <td>19589000</td>\n",
              "      <td>4.36</td>\n",
              "      <td>United States1985</td>\n",
              "      <td>0.841</td>\n",
              "      <td>4,346,734,000,000</td>\n",
              "      <td>19693</td>\n",
              "      <td>Generation X</td>\n",
              "    </tr>\n",
              "    <tr>\n",
              "      <th>26858</th>\n",
              "      <td>United States</td>\n",
              "      <td>1985</td>\n",
              "      <td>male</td>\n",
              "      <td>5-14 years</td>\n",
              "      <td>205</td>\n",
              "      <td>17370000</td>\n",
              "      <td>1.18</td>\n",
              "      <td>United States1985</td>\n",
              "      <td>0.841</td>\n",
              "      <td>4,346,734,000,000</td>\n",
              "      <td>19693</td>\n",
              "      <td>Generation X</td>\n",
              "    </tr>\n",
              "    <tr>\n",
              "      <th>26859</th>\n",
              "      <td>United States</td>\n",
              "      <td>1985</td>\n",
              "      <td>female</td>\n",
              "      <td>5-14 years</td>\n",
              "      <td>73</td>\n",
              "      <td>16553000</td>\n",
              "      <td>0.44</td>\n",
              "      <td>United States1985</td>\n",
              "      <td>0.841</td>\n",
              "      <td>4,346,734,000,000</td>\n",
              "      <td>19693</td>\n",
              "      <td>Generation X</td>\n",
              "    </tr>\n",
              "  </tbody>\n",
              "</table>\n",
              "</div>"
            ],
            "text/plain": [
              "             country  year  ... gdp_per_capita ($)       generation\n",
              "26848  United States  1985  ...              19693  G.I. Generation\n",
              "26849  United States  1985  ...              19693  G.I. Generation\n",
              "26850  United States  1985  ...              19693          Boomers\n",
              "26851  United States  1985  ...              19693           Silent\n",
              "26852  United States  1985  ...              19693     Generation X\n",
              "26853  United States  1985  ...              19693           Silent\n",
              "26854  United States  1985  ...              19693  G.I. Generation\n",
              "26855  United States  1985  ...              19693  G.I. Generation\n",
              "26856  United States  1985  ...              19693          Boomers\n",
              "26857  United States  1985  ...              19693     Generation X\n",
              "26858  United States  1985  ...              19693     Generation X\n",
              "26859  United States  1985  ...              19693     Generation X\n",
              "\n",
              "[12 rows x 12 columns]"
            ]
          },
          "metadata": {
            "tags": []
          },
          "execution_count": 13
        }
      ]
    },
    {
      "cell_type": "code",
      "metadata": {
        "id": "raK0scQK_DCS",
        "colab_type": "code",
        "colab": {
          "base_uri": "https://localhost:8080/",
          "height": 235
        },
        "outputId": "ae72c1c2-b184-421d-d1f4-26d0e4408b1a"
      },
      "source": [
        "df_yr85.count()"
      ],
      "execution_count": 12,
      "outputs": [
        {
          "output_type": "execute_result",
          "data": {
            "text/plain": [
              "country               12\n",
              "year                  12\n",
              "sex                   12\n",
              "age                   12\n",
              "suicides_no           12\n",
              "population            12\n",
              "suicides/100k pop     12\n",
              "country-year          12\n",
              "HDI for year          12\n",
              " gdp_for_year ($)     12\n",
              "gdp_per_capita ($)    12\n",
              "generation            12\n",
              "dtype: int64"
            ]
          },
          "metadata": {
            "tags": []
          },
          "execution_count": 12
        }
      ]
    },
    {
      "cell_type": "code",
      "metadata": {
        "id": "cX4CoxyOBMPp",
        "colab_type": "code",
        "colab": {
          "base_uri": "https://localhost:8080/",
          "height": 235
        },
        "outputId": "c37ef821-8c41-4b8b-bce5-c940682dadcf"
      },
      "source": [
        "df_yr85 = df_yr85['suicides/100k pop']\n",
        "\n",
        "df_yr85.head(20)"
      ],
      "execution_count": 14,
      "outputs": [
        {
          "output_type": "execute_result",
          "data": {
            "text/plain": [
              "26848    53.57\n",
              "26849    29.50\n",
              "26850    24.46\n",
              "26851    22.77\n",
              "26852    21.38\n",
              "26853     7.58\n",
              "26854     7.34\n",
              "26855     6.24\n",
              "26856     5.90\n",
              "26857     4.36\n",
              "26858     1.18\n",
              "26859     0.44\n",
              "Name: suicides/100k pop, dtype: float64"
            ]
          },
          "metadata": {
            "tags": []
          },
          "execution_count": 14
        }
      ]
    },
    {
      "cell_type": "code",
      "metadata": {
        "id": "qTZBhvynCIpd",
        "colab_type": "code",
        "colab": {
          "base_uri": "https://localhost:8080/",
          "height": 168
        },
        "outputId": "3df42645-cabf-4f56-f5e7-1b490c8a6175"
      },
      "source": [
        "df_yr85.describe()"
      ],
      "execution_count": 21,
      "outputs": [
        {
          "output_type": "execute_result",
          "data": {
            "text/plain": [
              "count    12.000000\n",
              "mean     15.393333\n",
              "std      15.597443\n",
              "min       0.440000\n",
              "25%       5.515000\n",
              "50%       7.460000\n",
              "75%      23.192500\n",
              "max      53.570000\n",
              "Name: suicides/100k pop, dtype: float64"
            ]
          },
          "metadata": {
            "tags": []
          },
          "execution_count": 21
        }
      ]
    },
    {
      "cell_type": "code",
      "metadata": {
        "id": "0YxefbpFBZ7M",
        "colab_type": "code",
        "colab": {
          "base_uri": "https://localhost:8080/",
          "height": 400
        },
        "outputId": "b351ba7b-e367-44ee-d04b-8b5668f3e336"
      },
      "source": [
        "df_yr15 = df_country[df_country['year'] == 2015]\n",
        "\n",
        "df_yr15.head()"
      ],
      "execution_count": 18,
      "outputs": [
        {
          "output_type": "execute_result",
          "data": {
            "text/html": [
              "<div>\n",
              "<style scoped>\n",
              "    .dataframe tbody tr th:only-of-type {\n",
              "        vertical-align: middle;\n",
              "    }\n",
              "\n",
              "    .dataframe tbody tr th {\n",
              "        vertical-align: top;\n",
              "    }\n",
              "\n",
              "    .dataframe thead th {\n",
              "        text-align: right;\n",
              "    }\n",
              "</style>\n",
              "<table border=\"1\" class=\"dataframe\">\n",
              "  <thead>\n",
              "    <tr style=\"text-align: right;\">\n",
              "      <th></th>\n",
              "      <th>country</th>\n",
              "      <th>year</th>\n",
              "      <th>sex</th>\n",
              "      <th>age</th>\n",
              "      <th>suicides_no</th>\n",
              "      <th>population</th>\n",
              "      <th>suicides/100k pop</th>\n",
              "      <th>country-year</th>\n",
              "      <th>HDI for year</th>\n",
              "      <th>gdp_for_year ($)</th>\n",
              "      <th>gdp_per_capita ($)</th>\n",
              "      <th>generation</th>\n",
              "    </tr>\n",
              "  </thead>\n",
              "  <tbody>\n",
              "    <tr>\n",
              "      <th>27208</th>\n",
              "      <td>United States</td>\n",
              "      <td>2015</td>\n",
              "      <td>male</td>\n",
              "      <td>75+ years</td>\n",
              "      <td>3171</td>\n",
              "      <td>8171136</td>\n",
              "      <td>38.81</td>\n",
              "      <td>United States2015</td>\n",
              "      <td>NaN</td>\n",
              "      <td>18,120,714,000,000</td>\n",
              "      <td>60387</td>\n",
              "      <td>Silent</td>\n",
              "    </tr>\n",
              "    <tr>\n",
              "      <th>27209</th>\n",
              "      <td>United States</td>\n",
              "      <td>2015</td>\n",
              "      <td>male</td>\n",
              "      <td>55-74 years</td>\n",
              "      <td>9068</td>\n",
              "      <td>32264697</td>\n",
              "      <td>28.11</td>\n",
              "      <td>United States2015</td>\n",
              "      <td>NaN</td>\n",
              "      <td>18,120,714,000,000</td>\n",
              "      <td>60387</td>\n",
              "      <td>Boomers</td>\n",
              "    </tr>\n",
              "    <tr>\n",
              "      <th>27210</th>\n",
              "      <td>United States</td>\n",
              "      <td>2015</td>\n",
              "      <td>male</td>\n",
              "      <td>35-54 years</td>\n",
              "      <td>11634</td>\n",
              "      <td>41658010</td>\n",
              "      <td>27.93</td>\n",
              "      <td>United States2015</td>\n",
              "      <td>NaN</td>\n",
              "      <td>18,120,714,000,000</td>\n",
              "      <td>60387</td>\n",
              "      <td>Generation X</td>\n",
              "    </tr>\n",
              "    <tr>\n",
              "      <th>27211</th>\n",
              "      <td>United States</td>\n",
              "      <td>2015</td>\n",
              "      <td>male</td>\n",
              "      <td>25-34 years</td>\n",
              "      <td>5503</td>\n",
              "      <td>22137097</td>\n",
              "      <td>24.86</td>\n",
              "      <td>United States2015</td>\n",
              "      <td>NaN</td>\n",
              "      <td>18,120,714,000,000</td>\n",
              "      <td>60387</td>\n",
              "      <td>Millenials</td>\n",
              "    </tr>\n",
              "    <tr>\n",
              "      <th>27212</th>\n",
              "      <td>United States</td>\n",
              "      <td>2015</td>\n",
              "      <td>male</td>\n",
              "      <td>15-24 years</td>\n",
              "      <td>4359</td>\n",
              "      <td>22615073</td>\n",
              "      <td>19.27</td>\n",
              "      <td>United States2015</td>\n",
              "      <td>NaN</td>\n",
              "      <td>18,120,714,000,000</td>\n",
              "      <td>60387</td>\n",
              "      <td>Millenials</td>\n",
              "    </tr>\n",
              "  </tbody>\n",
              "</table>\n",
              "</div>"
            ],
            "text/plain": [
              "             country  year  ... gdp_per_capita ($)    generation\n",
              "27208  United States  2015  ...              60387        Silent\n",
              "27209  United States  2015  ...              60387       Boomers\n",
              "27210  United States  2015  ...              60387  Generation X\n",
              "27211  United States  2015  ...              60387    Millenials\n",
              "27212  United States  2015  ...              60387    Millenials\n",
              "\n",
              "[5 rows x 12 columns]"
            ]
          },
          "metadata": {
            "tags": []
          },
          "execution_count": 18
        }
      ]
    },
    {
      "cell_type": "code",
      "metadata": {
        "id": "-FKURWOqBqek",
        "colab_type": "code",
        "colab": {
          "base_uri": "https://localhost:8080/",
          "height": 235
        },
        "outputId": "af45982e-c484-4032-9cc8-dd0d22775ad0"
      },
      "source": [
        "df_yr15 = df_yr15['suicides/100k pop']\n",
        "\n",
        "df_yr15.head(20)"
      ],
      "execution_count": 19,
      "outputs": [
        {
          "output_type": "execute_result",
          "data": {
            "text/plain": [
              "27208    38.81\n",
              "27209    28.11\n",
              "27210    27.93\n",
              "27211    24.86\n",
              "27212    19.27\n",
              "27213     9.76\n",
              "27214     8.18\n",
              "27215     6.70\n",
              "27216     5.23\n",
              "27217     4.58\n",
              "27218     1.20\n",
              "27219     0.78\n",
              "Name: suicides/100k pop, dtype: float64"
            ]
          },
          "metadata": {
            "tags": []
          },
          "execution_count": 19
        }
      ]
    },
    {
      "cell_type": "code",
      "metadata": {
        "id": "UbWuRtY7CBcj",
        "colab_type": "code",
        "colab": {
          "base_uri": "https://localhost:8080/",
          "height": 168
        },
        "outputId": "45ea4b3e-d7af-4b6c-b3c1-04340b52119c"
      },
      "source": [
        "df_yr15.describe()"
      ],
      "execution_count": 20,
      "outputs": [
        {
          "output_type": "execute_result",
          "data": {
            "text/plain": [
              "count    12.000000\n",
              "mean     14.617500\n",
              "std      12.646263\n",
              "min       0.780000\n",
              "25%       5.067500\n",
              "50%       8.970000\n",
              "75%      25.627500\n",
              "max      38.810000\n",
              "Name: suicides/100k pop, dtype: float64"
            ]
          },
          "metadata": {
            "tags": []
          },
          "execution_count": 20
        }
      ]
    },
    {
      "cell_type": "code",
      "metadata": {
        "id": "uKwvQgnYFne1",
        "colab_type": "code",
        "colab": {}
      },
      "source": [
        "df_suicide = df_yr15['']"
      ],
      "execution_count": 0,
      "outputs": []
    },
    {
      "cell_type": "code",
      "metadata": {
        "id": "ryYEgArJFRox",
        "colab_type": "code",
        "colab": {}
      },
      "source": [
        "Bayesian method, using alpha =0.95, for measuring 95% confidence intervals\n",
        "# this function also returns the confidence intervals.\n",
        "\n",
        "stats.bayes_mvs(df8, alpha=0.95)"
      ],
      "execution_count": 0,
      "outputs": []
    },
    {
      "cell_type": "code",
      "metadata": {
        "id": "Ic2gKaUECY95",
        "colab_type": "code",
        "colab": {}
      },
      "source": [
        "## Now lets use the ttest for yr 1985 and yr 2015\n",
        "\n",
        "from scipy import stats\n",
        "\n",
        "from scipy.stats import ttest_ind, ttest_ind_from_stats, ttest_rel"
      ],
      "execution_count": 0,
      "outputs": []
    },
    {
      "cell_type": "code",
      "metadata": {
        "id": "ay_CokXwCstf",
        "colab_type": "code",
        "colab": {
          "base_uri": "https://localhost:8080/",
          "height": 34
        },
        "outputId": "2e2d2004-a19e-4409-d0bd-f3d57fe40442"
      },
      "source": [
        "ttest_ind(df_yr85, df_yr15, equal_var=False)"
      ],
      "execution_count": 24,
      "outputs": [
        {
          "output_type": "execute_result",
          "data": {
            "text/plain": [
              "Ttest_indResult(statistic=0.1338426064235618, pvalue=0.8947955182545053)"
            ]
          },
          "metadata": {
            "tags": []
          },
          "execution_count": 24
        }
      ]
    },
    {
      "cell_type": "markdown",
      "metadata": {
        "id": "TBk1cc85C6EQ",
        "colab_type": "text"
      },
      "source": [
        "## We see that p -value from ttest_ind is > 0.05, this indicates that NULL HYPOTHESIS is TRUE, i.e there is no differene between suicide rates in US between 1985 an 2015"
      ]
    },
    {
      "cell_type": "markdown",
      "metadata": {
        "id": "uWgWjp3PQ3Sq",
        "colab_type": "text"
      },
      "source": [
        "## Resources"
      ]
    },
    {
      "cell_type": "code",
      "metadata": {
        "id": "IG1Rmwz5DIk-",
        "colab_type": "code",
        "colab": {}
      },
      "source": [
        "# combine both year"
      ],
      "execution_count": 0,
      "outputs": []
    },
    {
      "cell_type": "code",
      "metadata": {
        "id": "tnz8qaENJMoH",
        "colab_type": "code",
        "colab": {}
      },
      "source": [
        "df_full_suicide = pd.concat ([df_yr15, df_yr85])"
      ],
      "execution_count": 0,
      "outputs": []
    },
    {
      "cell_type": "code",
      "metadata": {
        "id": "sfGyipktJ1vt",
        "colab_type": "code",
        "colab": {
          "base_uri": "https://localhost:8080/",
          "height": 34
        },
        "outputId": "c386079e-84a7-481a-ef11-a97ab450499f"
      },
      "source": [
        "df_full_suicide.count()"
      ],
      "execution_count": 30,
      "outputs": [
        {
          "output_type": "execute_result",
          "data": {
            "text/plain": [
              "24"
            ]
          },
          "metadata": {
            "tags": []
          },
          "execution_count": 30
        }
      ]
    },
    {
      "cell_type": "code",
      "metadata": {
        "id": "EhknVmcmMNlC",
        "colab_type": "code",
        "colab": {
          "base_uri": "https://localhost:8080/",
          "height": 168
        },
        "outputId": "6c147742-cfba-44d5-b159-cd9e585c6b36"
      },
      "source": [
        "df_full_suicide.describe()"
      ],
      "execution_count": 32,
      "outputs": [
        {
          "output_type": "execute_result",
          "data": {
            "text/plain": [
              "count    24.000000\n",
              "mean     15.005417\n",
              "std      13.892290\n",
              "min       0.440000\n",
              "25%       5.067500\n",
              "50%       7.880000\n",
              "75%      24.560000\n",
              "max      53.570000\n",
              "Name: suicides/100k pop, dtype: float64"
            ]
          },
          "metadata": {
            "tags": []
          },
          "execution_count": 32
        }
      ]
    },
    {
      "cell_type": "code",
      "metadata": {
        "id": "wrPM5uL8J8mD",
        "colab_type": "code",
        "colab": {
          "base_uri": "https://localhost:8080/",
          "height": 67
        },
        "outputId": "94f99b21-034d-4ded-c5ee-d786ef711349"
      },
      "source": [
        "# Bayesian method, using alpha =0.95, for measuring 95% confidence intervals\n",
        "# this function also returns the confidence intervals.\n",
        "\n",
        "stats.bayes_mvs(df_full_suicide, alpha=0.95)\n",
        "\n",
        "# first line of the output gives the mean and 95% CI using Bayesian method"
      ],
      "execution_count": 31,
      "outputs": [
        {
          "output_type": "execute_result",
          "data": {
            "text/plain": [
              "(Mean(statistic=15.005416666666667, minmax=(9.13921707799783, 20.871616255335503)),\n",
              " Variance(statistic=211.37626646825393, minmax=(116.58118109641525, 379.76488664149105)),\n",
              " Std_dev(statistic=14.366794760928489, minmax=(10.797276559226184, 19.487557226124853)))"
            ]
          },
          "metadata": {
            "tags": []
          },
          "execution_count": 31
        }
      ]
    },
    {
      "cell_type": "code",
      "metadata": {
        "id": "Zuc9ReCHK8U1",
        "colab_type": "code",
        "colab": {
          "base_uri": "https://localhost:8080/",
          "height": 166
        },
        "outputId": "02aa585a-26b7-44c3-9a79-ccbeb79f5150"
      },
      "source": [
        "# frequentist and Bayesian approach means are same = 15.005\n",
        "\n",
        "means = 15.005, 15.005\n",
        "\n",
        "# standard deviation by frequentist method = 13.89\n",
        "# standard deviation by Bayesian method = 14.36\n",
        "\n",
        "stdevs = 14.36, 13.89\n",
        "dist = pd.DataFrame(\n",
        "    np.random.normal(loc=means, scale=stdevs, size=(1000, 2)),\n",
        "    columns=['frequentist', 'Bayesian'])\n",
        "dist.agg(['min', 'max', 'mean', 'std']).round(decimals=2)\n",
        "\n",
        "    "
      ],
      "execution_count": 38,
      "outputs": [
        {
          "output_type": "execute_result",
          "data": {
            "text/html": [
              "<div>\n",
              "<style scoped>\n",
              "    .dataframe tbody tr th:only-of-type {\n",
              "        vertical-align: middle;\n",
              "    }\n",
              "\n",
              "    .dataframe tbody tr th {\n",
              "        vertical-align: top;\n",
              "    }\n",
              "\n",
              "    .dataframe thead th {\n",
              "        text-align: right;\n",
              "    }\n",
              "</style>\n",
              "<table border=\"1\" class=\"dataframe\">\n",
              "  <thead>\n",
              "    <tr style=\"text-align: right;\">\n",
              "      <th></th>\n",
              "      <th>frequentist</th>\n",
              "      <th>Bayesian</th>\n",
              "    </tr>\n",
              "  </thead>\n",
              "  <tbody>\n",
              "    <tr>\n",
              "      <th>min</th>\n",
              "      <td>-29.95</td>\n",
              "      <td>-32.45</td>\n",
              "    </tr>\n",
              "    <tr>\n",
              "      <th>max</th>\n",
              "      <td>58.23</td>\n",
              "      <td>60.57</td>\n",
              "    </tr>\n",
              "    <tr>\n",
              "      <th>mean</th>\n",
              "      <td>15.01</td>\n",
              "      <td>15.16</td>\n",
              "    </tr>\n",
              "    <tr>\n",
              "      <th>std</th>\n",
              "      <td>13.77</td>\n",
              "      <td>13.55</td>\n",
              "    </tr>\n",
              "  </tbody>\n",
              "</table>\n",
              "</div>"
            ],
            "text/plain": [
              "      frequentist  Bayesian\n",
              "min        -29.95    -32.45\n",
              "max         58.23     60.57\n",
              "mean        15.01     15.16\n",
              "std         13.77     13.55"
            ]
          },
          "metadata": {
            "tags": []
          },
          "execution_count": 38
        }
      ]
    },
    {
      "cell_type": "code",
      "metadata": {
        "id": "48FIZvsEM8K3",
        "colab_type": "code",
        "colab": {
          "base_uri": "https://localhost:8080/",
          "height": 281
        },
        "outputId": "63cfe2d5-72cd-4adc-cb66-afad89e4d17f"
      },
      "source": [
        "fig, ax = plt.subplots()\n",
        "dist.plot.kde(ax=ax, legend=False, title='Histogram: frequentist vs. Bayesian methods')\n",
        "dist.plot.hist(density=True, ax=ax)\n",
        "ax.set_ylabel('Probability')\n",
        "ax.grid(axis='y')\n",
        "ax.set_facecolor('#d8dcd6')"
      ],
      "execution_count": 39,
      "outputs": [
        {
          "output_type": "display_data",
          "data": {
            "image/png": "[encoded data removed]",
            "text/plain": [
              "<Figure size 432x288 with 1 Axes>"
            ]
          },
          "metadata": {
            "tags": []
          }
        }
      ]
    },
    {
      "cell_type": "markdown",
      "metadata": {
        "id": "JDyCvmEUOxUR",
        "colab_type": "text"
      },
      "source": [
        "##We can see that Bayesian approach relies heavily on prior information while frequentist approach does not rely on prior information."
      ]
    },
    {
      "cell_type": "markdown",
      "metadata": {
        "id": "QRgHqmYIQ9qn",
        "colab_type": "text"
      },
      "source": [
        "- [Worked example of Bayes rule calculation](https://en.wikipedia.org/wiki/Bayes'_theorem#Examples) (helpful as it fully breaks out the denominator)\n",
        "- [Source code for mvsdist in scipy](https://github.com/scipy/scipy/blob/90534919e139d2a81c24bf08341734ff41a3db12/scipy/stats/morestats.py#L139)"
      ]
    }
  ]
}