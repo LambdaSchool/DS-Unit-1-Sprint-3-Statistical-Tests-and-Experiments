{
  "nbformat": 4,
  "nbformat_minor": 0,
  "metadata": {
    "colab": {
      "name": "Copy of LS_DS5_131_Statistics_Probability_Assignment.ipynb",
      "version": "0.3.2",
      "provenance": [],
      "collapsed_sections": [],
      "include_colab_link": true
    },
    "language_info": {
      "codemirror_mode": {
        "name": "ipython",
        "version": 3
      },
      "file_extension": ".py",
      "mimetype": "text/x-python",
      "name": "python",
      "nbconvert_exporter": "python",
      "pygments_lexer": "ipython3",
      "version": "3.7.3"
    },
    "kernelspec": {
      "display_name": "Python 3",
      "language": "python",
      "name": "python3"
    }
  },
  "cells": [
    {
      "cell_type": "markdown",
      "metadata": {
        "id": "view-in-github",
        "colab_type": "text"
      },
      "source": [
        "<a href=\"https://colab.research.google.com/github/eliza0shrug/DS-Unit-1-Sprint-3-Statistical-Tests-and-Experiments/blob/master/Copy_of_LS_DS5_131_Statistics_Probability_Assignment.ipynb\" target=\"_parent\"><img src=\"https://colab.research.google.com/assets/colab-badge.svg\" alt=\"Open In Colab\"/></a>"
      ]
    },
    {
      "cell_type": "markdown",
      "metadata": {
        "id": "7033GeBh4la9",
        "colab_type": "text"
      },
      "source": [
        "<img align=\"left\" src=\"https://lever-client-logos.s3.amazonaws.com/864372b1-534c-480e-acd5-9711f850815c-1524247202159.png\" width=200>\n",
        "<br></br>\n",
        "<br></br>\n",
        "\n",
        "## *Data Science Unit 1 Sprint 3 Assignment 1*\n",
        "\n",
        "# Apply the t-test to real data\n",
        "\n",
        "Your assignment is to determine which issues have \"statistically significant\" differences between political parties in this [1980s congressional voting data](https://archive.ics.uci.edu/ml/datasets/Congressional+Voting+Records). The data consists of 435 instances (one for each congressperson), a class (democrat or republican), and 16 binary attributes (yes or no for voting for or against certain issues). Be aware - there are missing values!\n",
        "\n",
        "Your goals:\n",
        "\n",
        "1. Load and clean the data (or determine the best method to drop observations when running tests)\n",
        "2. Using hypothesis testing, find an issue that democrats support more than republicans with p < 0.01\n",
        "3. Using hypothesis testing, find an issue that republicans support more than democrats with p < 0.01\n",
        "4. Using hypothesis testing, find an issue where the difference between republicans and democrats has p > 0.1 (i.e. there may not be much of a difference)\n",
        "\n",
        "Note that this data will involve *2 sample* t-tests, because you're comparing averages across two groups (republicans and democrats) rather than a single group against a null hypothesis.\n",
        "\n",
        "Stretch goals:\n",
        "\n",
        "1. Refactor your code into functions so it's easy to rerun with arbitrary variables\n",
        "2. Apply hypothesis testing to your personal project data (for the purposes of this notebook you can type a summary of the hypothesis you formed and tested)"
      ]
    },
    {
      "cell_type": "code",
      "metadata": {
        "id": "5HHrFzSft1nZ",
        "colab_type": "code",
        "colab": {}
      },
      "source": [
        "import pandas as pd\n",
        "import numpy as np"
      ],
      "execution_count": 0,
      "outputs": []
    },
    {
      "cell_type": "code",
      "metadata": {
        "id": "6GN2c9JSlJKl",
        "colab_type": "code",
        "colab": {}
      },
      "source": [
        "from scipy.stats import ttest_ind, ttest_ind_from_stats, ttest_rel"
      ],
      "execution_count": 0,
      "outputs": []
    },
    {
      "cell_type": "code",
      "metadata": {
        "id": "_pi4ZAyk4la_",
        "colab_type": "code",
        "colab": {}
      },
      "source": [
        "congress_data = 'https://archive.ics.uci.edu/ml/machine-learning-databases/voting-records/house-votes-84.data'"
      ],
      "execution_count": 0,
      "outputs": []
    },
    {
      "cell_type": "code",
      "metadata": {
        "id": "fVH_uTwV5FG_",
        "colab_type": "code",
        "colab": {}
      },
      "source": [
        "columns = ['party','handicapped-infants' \n",
        "     ,'water-project-cost-sharing' \n",
        "     ,'adoption-of-the-budget-resolution'\n",
        "     ,'physician-fee-freeze'\n",
        "     ,'el-salvador-aid'\n",
        "     ,'religious-groups-in-schools'\n",
        "     ,'anti-satellite-test-ban'\n",
        "     ,'aid-to-nicaraguan-contras' \n",
        "     ,'mx-missile'\n",
        "     ,'immigration'\n",
        "     ,'synfuels-corporation-cutback'\n",
        "     ,'education-spending'\n",
        "     ,'superfund-right-to-sue'\n",
        "     ,'crime'\n",
        "     ,'duty-free-exports'\n",
        "     ,'export-administration-act-south-africa']"
      ],
      "execution_count": 0,
      "outputs": []
    },
    {
      "cell_type": "code",
      "metadata": {
        "id": "UE4OsbQOtq9a",
        "colab_type": "code",
        "colab": {}
      },
      "source": [
        "df = pd.read_csv(congress_data, names=columns)\n",
        "pd.set_option('display.max_columns', 500)"
      ],
      "execution_count": 0,
      "outputs": []
    },
    {
      "cell_type": "code",
      "metadata": {
        "id": "4kO5beiov8BR",
        "colab_type": "code",
        "colab": {}
      },
      "source": [
        "df.head()"
      ],
      "execution_count": 0,
      "outputs": []
    },
    {
      "cell_type": "code",
      "metadata": {
        "id": "-RoMiB_lesqm",
        "colab_type": "code",
        "colab": {}
      },
      "source": [
        "modifieddf['handicapped-infants'] = modifieddf['handicapped-infants'].map({\"y\":1, \"n\":0 })"
      ],
      "execution_count": 0,
      "outputs": []
    },
    {
      "cell_type": "code",
      "metadata": {
        "id": "2J9ryyYwiEgd",
        "colab_type": "code",
        "colab": {}
      },
      "source": [
        "modifieddf['water-project-cost-sharing'] = modifieddf['water-project-cost-sharing'].map({\"y\":1, \"n\":0 })"
      ],
      "execution_count": 0,
      "outputs": []
    },
    {
      "cell_type": "code",
      "metadata": {
        "id": "OlLeShFIibpF",
        "colab_type": "code",
        "colab": {}
      },
      "source": [
        "modifieddf['adoption-of-the-budget-resolution'] = modifieddf['adoption-of-the-budget-resolution'].map({\"y\":1, \"n\":0 })"
      ],
      "execution_count": 0,
      "outputs": []
    },
    {
      "cell_type": "code",
      "metadata": {
        "id": "l_zAryDPipUd",
        "colab_type": "code",
        "colab": {}
      },
      "source": [
        "modifieddf['physician-fee-freeze'] = modifieddf['physician-fee-freeze'].map({\"y\":1, \"n\":0 })"
      ],
      "execution_count": 0,
      "outputs": []
    },
    {
      "cell_type": "code",
      "metadata": {
        "id": "YF_lrljeiw7l",
        "colab_type": "code",
        "colab": {}
      },
      "source": [
        "modifieddf['el-salvador-aid'] = modifieddf['el-salvador-aid'].map({\"y\":1, \"n\":0 })"
      ],
      "execution_count": 0,
      "outputs": []
    },
    {
      "cell_type": "code",
      "metadata": {
        "id": "gITclDlii2XN",
        "colab_type": "code",
        "colab": {}
      },
      "source": [
        "modifieddf['religious-groups-in-schools'] = modifieddf['religious-groups-in-schools'].map({\"y\":1, \"n\":0 })"
      ],
      "execution_count": 0,
      "outputs": []
    },
    {
      "cell_type": "code",
      "metadata": {
        "id": "4QqtNe2Hi7IG",
        "colab_type": "code",
        "colab": {}
      },
      "source": [
        "modifieddf['anti-satellite-test-ban'] = modifieddf['anti-satellite-test-ban'].map({\"y\":1, \"n\":0 })"
      ],
      "execution_count": 0,
      "outputs": []
    },
    {
      "cell_type": "code",
      "metadata": {
        "id": "31i2hq3PjBRX",
        "colab_type": "code",
        "colab": {}
      },
      "source": [
        "modifieddf['aid-to-nicaraguan-contras'] = modifieddf['aid-to-nicaraguan-contras'].map({\"y\":1, \"n\":0 })"
      ],
      "execution_count": 0,
      "outputs": []
    },
    {
      "cell_type": "code",
      "metadata": {
        "id": "QLdWcFPEjJZt",
        "colab_type": "code",
        "colab": {}
      },
      "source": [
        "modifieddf['mx-missile'] = modifieddf['mx-missile'].map({\"y\":1, \"n\":0 })"
      ],
      "execution_count": 0,
      "outputs": []
    },
    {
      "cell_type": "code",
      "metadata": {
        "id": "4Xa4IkNDoefW",
        "colab_type": "code",
        "colab": {}
      },
      "source": [
        "modifieddf['immigration'] = modifieddf['immigration'].map({\"y\":1, \"n\":0 })"
      ],
      "execution_count": 0,
      "outputs": []
    },
    {
      "cell_type": "code",
      "metadata": {
        "id": "ZI1TBg0ZQ51V",
        "colab_type": "code",
        "colab": {}
      },
      "source": [
        "##modifieddf=df.replace([\"?\"], \" \")"
      ],
      "execution_count": 0,
      "outputs": []
    },
    {
      "cell_type": "code",
      "metadata": {
        "id": "NaD3DNLRYz9y",
        "colab_type": "code",
        "colab": {}
      },
      "source": [
        "##modifieddf['handicapped-infants'] = modifieddf['handicapped-infants'].map({\"y\":1, \"n\":0 })"
      ],
      "execution_count": 0,
      "outputs": []
    },
    {
      "cell_type": "code",
      "metadata": {
        "id": "fZsfPHOWey3W",
        "colab_type": "code",
        "colab": {}
      },
      "source": [
        "modifieddf=df.fillna(\" \")"
      ],
      "execution_count": 0,
      "outputs": []
    },
    {
      "cell_type": "code",
      "metadata": {
        "id": "nOTOoDmiZH5w",
        "colab_type": "code",
        "colab": {
          "base_uri": "https://localhost:8080/",
          "height": 270
        },
        "outputId": "a9bc7e9f-d618-452b-94cf-14c7a1f1cda9"
      },
      "source": [
        "modifieddf.head()"
      ],
      "execution_count": 175,
      "outputs": [
        {
          "output_type": "execute_result",
          "data": {
            "text/html": [
              "<div>\n",
              "<style scoped>\n",
              "    .dataframe tbody tr th:only-of-type {\n",
              "        vertical-align: middle;\n",
              "    }\n",
              "\n",
              "    .dataframe tbody tr th {\n",
              "        vertical-align: top;\n",
              "    }\n",
              "\n",
              "    .dataframe thead th {\n",
              "        text-align: right;\n",
              "    }\n",
              "</style>\n",
              "<table border=\"1\" class=\"dataframe\">\n",
              "  <thead>\n",
              "    <tr style=\"text-align: right;\">\n",
              "      <th></th>\n",
              "      <th>party</th>\n",
              "      <th>handicapped-infants</th>\n",
              "      <th>water-project-cost-sharing</th>\n",
              "      <th>adoption-of-the-budget-resolution</th>\n",
              "      <th>physician-fee-freeze</th>\n",
              "      <th>el-salvador-aid</th>\n",
              "      <th>religious-groups-in-schools</th>\n",
              "      <th>anti-satellite-test-ban</th>\n",
              "      <th>aid-to-nicaraguan-contras</th>\n",
              "      <th>mx-missile</th>\n",
              "      <th>immigration</th>\n",
              "      <th>synfuels-corporation-cutback</th>\n",
              "      <th>education-spending</th>\n",
              "      <th>superfund-right-to-sue</th>\n",
              "      <th>crime</th>\n",
              "      <th>duty-free-exports</th>\n",
              "      <th>export-administration-act-south-africa</th>\n",
              "    </tr>\n",
              "  </thead>\n",
              "  <tbody>\n",
              "    <tr>\n",
              "      <th>0</th>\n",
              "      <td>republican</td>\n",
              "      <td>0.0</td>\n",
              "      <td>1.0</td>\n",
              "      <td>0.0</td>\n",
              "      <td>1.0</td>\n",
              "      <td>1.0</td>\n",
              "      <td>1.0</td>\n",
              "      <td>0.0</td>\n",
              "      <td>NaN</td>\n",
              "      <td>0.0</td>\n",
              "      <td>y</td>\n",
              "      <td></td>\n",
              "      <td>y</td>\n",
              "      <td>y</td>\n",
              "      <td>y</td>\n",
              "      <td>n</td>\n",
              "      <td>y</td>\n",
              "    </tr>\n",
              "    <tr>\n",
              "      <th>1</th>\n",
              "      <td>republican</td>\n",
              "      <td>0.0</td>\n",
              "      <td>1.0</td>\n",
              "      <td>0.0</td>\n",
              "      <td>1.0</td>\n",
              "      <td>1.0</td>\n",
              "      <td>1.0</td>\n",
              "      <td>0.0</td>\n",
              "      <td>NaN</td>\n",
              "      <td>0.0</td>\n",
              "      <td>n</td>\n",
              "      <td>n</td>\n",
              "      <td>y</td>\n",
              "      <td>y</td>\n",
              "      <td>y</td>\n",
              "      <td>n</td>\n",
              "      <td></td>\n",
              "    </tr>\n",
              "    <tr>\n",
              "      <th>2</th>\n",
              "      <td>democrat</td>\n",
              "      <td>NaN</td>\n",
              "      <td>1.0</td>\n",
              "      <td>1.0</td>\n",
              "      <td>NaN</td>\n",
              "      <td>1.0</td>\n",
              "      <td>1.0</td>\n",
              "      <td>0.0</td>\n",
              "      <td>NaN</td>\n",
              "      <td>0.0</td>\n",
              "      <td>n</td>\n",
              "      <td>y</td>\n",
              "      <td>n</td>\n",
              "      <td>y</td>\n",
              "      <td>y</td>\n",
              "      <td>n</td>\n",
              "      <td>n</td>\n",
              "    </tr>\n",
              "    <tr>\n",
              "      <th>3</th>\n",
              "      <td>democrat</td>\n",
              "      <td>0.0</td>\n",
              "      <td>1.0</td>\n",
              "      <td>1.0</td>\n",
              "      <td>0.0</td>\n",
              "      <td>NaN</td>\n",
              "      <td>1.0</td>\n",
              "      <td>0.0</td>\n",
              "      <td>NaN</td>\n",
              "      <td>0.0</td>\n",
              "      <td>n</td>\n",
              "      <td>y</td>\n",
              "      <td>n</td>\n",
              "      <td>y</td>\n",
              "      <td>n</td>\n",
              "      <td>n</td>\n",
              "      <td>y</td>\n",
              "    </tr>\n",
              "    <tr>\n",
              "      <th>4</th>\n",
              "      <td>democrat</td>\n",
              "      <td>1.0</td>\n",
              "      <td>1.0</td>\n",
              "      <td>1.0</td>\n",
              "      <td>0.0</td>\n",
              "      <td>1.0</td>\n",
              "      <td>1.0</td>\n",
              "      <td>0.0</td>\n",
              "      <td>NaN</td>\n",
              "      <td>0.0</td>\n",
              "      <td>n</td>\n",
              "      <td>y</td>\n",
              "      <td></td>\n",
              "      <td>y</td>\n",
              "      <td>y</td>\n",
              "      <td>y</td>\n",
              "      <td>y</td>\n",
              "    </tr>\n",
              "  </tbody>\n",
              "</table>\n",
              "</div>"
            ],
            "text/plain": [
              "        party  handicapped-infants  water-project-cost-sharing  \\\n",
              "0  republican                  0.0                         1.0   \n",
              "1  republican                  0.0                         1.0   \n",
              "2    democrat                  NaN                         1.0   \n",
              "3    democrat                  0.0                         1.0   \n",
              "4    democrat                  1.0                         1.0   \n",
              "\n",
              "   adoption-of-the-budget-resolution  physician-fee-freeze  el-salvador-aid  \\\n",
              "0                                0.0                   1.0              1.0   \n",
              "1                                0.0                   1.0              1.0   \n",
              "2                                1.0                   NaN              1.0   \n",
              "3                                1.0                   0.0              NaN   \n",
              "4                                1.0                   0.0              1.0   \n",
              "\n",
              "   religious-groups-in-schools  anti-satellite-test-ban  \\\n",
              "0                          1.0                      0.0   \n",
              "1                          1.0                      0.0   \n",
              "2                          1.0                      0.0   \n",
              "3                          1.0                      0.0   \n",
              "4                          1.0                      0.0   \n",
              "\n",
              "   aid-to-nicaraguan-contras  mx-missile immigration  \\\n",
              "0                        NaN         0.0           y   \n",
              "1                        NaN         0.0           n   \n",
              "2                        NaN         0.0           n   \n",
              "3                        NaN         0.0           n   \n",
              "4                        NaN         0.0           n   \n",
              "\n",
              "  synfuels-corporation-cutback education-spending superfund-right-to-sue  \\\n",
              "0                                               y                      y   \n",
              "1                            n                  y                      y   \n",
              "2                            y                  n                      y   \n",
              "3                            y                  n                      y   \n",
              "4                            y                                         y   \n",
              "\n",
              "  crime duty-free-exports export-administration-act-south-africa  \n",
              "0     y                 n                                      y  \n",
              "1     y                 n                                         \n",
              "2     y                 n                                      n  \n",
              "3     n                 n                                      y  \n",
              "4     y                 y                                      y  "
            ]
          },
          "metadata": {
            "tags": []
          },
          "execution_count": 175
        }
      ]
    },
    {
      "cell_type": "code",
      "metadata": {
        "id": "gupfbNsoZi_W",
        "colab_type": "code",
        "colab": {}
      },
      "source": [
        "rep = modifieddf[modifieddf['party'] == 'republican']\n",
        "dem = modifieddf[modifieddf['party'] == 'democrat']"
      ],
      "execution_count": 0,
      "outputs": []
    },
    {
      "cell_type": "code",
      "metadata": {
        "id": "VebaK4byiBHF",
        "colab_type": "code",
        "colab": {}
      },
      "source": [
        "dem"
      ],
      "execution_count": 0,
      "outputs": []
    },
    {
      "cell_type": "code",
      "metadata": {
        "id": "84-vq4zKmPAB",
        "colab_type": "code",
        "colab": {}
      },
      "source": [
        "rep"
      ],
      "execution_count": 0,
      "outputs": []
    },
    {
      "cell_type": "markdown",
      "metadata": {
        "id": "J_y1IRf2ZxSH",
        "colab_type": "text"
      },
      "source": [
        "Democrats support more than republicans\n",
        "first issue to test: handicapped-infants"
      ]
    },
    {
      "cell_type": "markdown",
      "metadata": {
        "id": "ChHVCu7ubsMc",
        "colab_type": "text"
      },
      "source": [
        "hypothesis: support is the same"
      ]
    },
    {
      "cell_type": "code",
      "metadata": {
        "id": "I1s6aXFcZtua",
        "colab_type": "code",
        "colab": {
          "base_uri": "https://localhost:8080/",
          "height": 34
        },
        "outputId": "1d1b6bdf-4b61-4d31-9833-f0f1ad89f9b2"
      },
      "source": [
        "from scipy.stats import ttest_1samp\n",
        "\n",
        "\n",
        "ttest_1samp(dem['handicapped-infants'], .60, nan_policy='omit')"
      ],
      "execution_count": 169,
      "outputs": [
        {
          "output_type": "execute_result",
          "data": {
            "text/plain": [
              "Ttest_1sampResult(statistic=0.15250547056429176, pvalue=0.8789079366662332)"
            ]
          },
          "metadata": {
            "tags": []
          },
          "execution_count": 169
        }
      ]
    },
    {
      "cell_type": "markdown",
      "metadata": {
        "id": "50_VcZ0_g34N",
        "colab_type": "text"
      },
      "source": [
        ""
      ]
    },
    {
      "cell_type": "code",
      "metadata": {
        "id": "pQVKHGQ9hFSj",
        "colab_type": "code",
        "colab": {
          "base_uri": "https://localhost:8080/",
          "height": 34
        },
        "outputId": "85475ac8-6001-46ec-e72a-77abad443e63"
      },
      "source": [
        "ttest_ind(dem['handicapped-infants'], rep['handicapped-infants'], nan_policy='omit')"
      ],
      "execution_count": 172,
      "outputs": [
        {
          "output_type": "execute_result",
          "data": {
            "text/plain": [
              "Ttest_indResult(statistic=9.205264294809222, pvalue=1.613440327937243e-18)"
            ]
          },
          "metadata": {
            "tags": []
          },
          "execution_count": 172
        }
      ]
    },
    {
      "cell_type": "code",
      "metadata": {
        "id": "YewLH970l7K1",
        "colab_type": "code",
        "colab": {
          "base_uri": "https://localhost:8080/",
          "height": 52
        },
        "outputId": "dc45b7d8-ba22-4df1-e1fc-fed9e905f429"
      },
      "source": [
        "print(dem['handicapped-infants'].mean())\n",
        "print(rep['handicapped-infants'].mean())"
      ],
      "execution_count": 173,
      "outputs": [
        {
          "output_type": "stream",
          "text": [
            "0.6046511627906976\n",
            "0.18787878787878787\n"
          ],
          "name": "stdout"
        }
      ]
    },
    {
      "cell_type": "markdown",
      "metadata": {
        "id": "AxYvRDVvmTfM",
        "colab_type": "text"
      },
      "source": [
        "My hypothesis was wrong, there is a big difference in support"
      ]
    },
    {
      "cell_type": "markdown",
      "metadata": {
        "id": "f0g8te34mlUu",
        "colab_type": "text"
      },
      "source": [
        "Next: resolution of the budget\n",
        "\n",
        "hypothesis: similar support"
      ]
    },
    {
      "cell_type": "code",
      "metadata": {
        "id": "SaS3KIZomdsE",
        "colab_type": "code",
        "colab": {}
      },
      "source": [
        "'adoption-of-the-budget-resolution'"
      ],
      "execution_count": 0,
      "outputs": []
    },
    {
      "cell_type": "code",
      "metadata": {
        "id": "Wzpo_xSSm2cV",
        "colab_type": "code",
        "colab": {
          "base_uri": "https://localhost:8080/",
          "height": 52
        },
        "outputId": "a5abef3d-d6eb-400e-df1a-260feb9c2b09"
      },
      "source": [
        "print(dem['adoption-of-the-budget-resolution'].mean())\n",
        "print(rep['adoption-of-the-budget-resolution'].mean())"
      ],
      "execution_count": 178,
      "outputs": [
        {
          "output_type": "stream",
          "text": [
            "0.8884615384615384\n",
            "0.13414634146341464\n"
          ],
          "name": "stdout"
        }
      ]
    },
    {
      "cell_type": "code",
      "metadata": {
        "id": "1gm27v40mvW3",
        "colab_type": "code",
        "colab": {
          "base_uri": "https://localhost:8080/",
          "height": 34
        },
        "outputId": "9670fb80-3159-4dbb-efe9-957e1c5d2514"
      },
      "source": [
        "ttest_ind(dem['adoption-of-the-budget-resolution'], rep['adoption-of-the-budget-resolution'], nan_policy='omit')"
      ],
      "execution_count": 177,
      "outputs": [
        {
          "output_type": "execute_result",
          "data": {
            "text/plain": [
              "Ttest_indResult(statistic=23.21277691701378, pvalue=2.0703402795404463e-77)"
            ]
          },
          "metadata": {
            "tags": []
          },
          "execution_count": 177
        }
      ]
    },
    {
      "cell_type": "code",
      "metadata": {
        "id": "s2mxd2-znXhm",
        "colab_type": "code",
        "colab": {}
      },
      "source": [
        "ttest_ind(rep['religious-groups-in-schools'], dem['religious-groups-in-schools'], nan_policy='omit')"
      ],
      "execution_count": 0,
      "outputs": []
    },
    {
      "cell_type": "code",
      "metadata": {
        "id": "A_WRm3K2novI",
        "colab_type": "code",
        "colab": {
          "base_uri": "https://localhost:8080/",
          "height": 52
        },
        "outputId": "698c68cb-4167-4cb6-d388-9ad5f91ef113"
      },
      "source": [
        "print(dem['physician-fee-freeze'].mean())\n",
        "print(rep['physician-fee-freeze'].mean())"
      ],
      "execution_count": 182,
      "outputs": [
        {
          "output_type": "stream",
          "text": [
            "0.05405405405405406\n",
            "0.9878787878787879\n"
          ],
          "name": "stdout"
        }
      ]
    },
    {
      "cell_type": "code",
      "metadata": {
        "id": "Ti7cxKTdn04X",
        "colab_type": "code",
        "colab": {
          "base_uri": "https://localhost:8080/",
          "height": 34
        },
        "outputId": "d79e1927-73c6-47d0-ca8d-ae2a81e65d3b"
      },
      "source": [
        "ttest_ind(rep['physician-fee-freeze'], dem['religious-groups-in-schools'], nan_policy='omit')"
      ],
      "execution_count": 183,
      "outputs": [
        {
          "output_type": "execute_result",
          "data": {
            "text/plain": [
              "Ttest_indResult(statistic=12.917622899225762, pvalue=2.1821905827006575e-32)"
            ]
          },
          "metadata": {
            "tags": []
          },
          "execution_count": 183
        }
      ]
    },
    {
      "cell_type": "markdown",
      "metadata": {
        "id": "JzzORM8Rn89_",
        "colab_type": "text"
      },
      "source": [
        "Seems there is much more republican support"
      ]
    },
    {
      "cell_type": "markdown",
      "metadata": {
        "id": "wA7NLjugoEd1",
        "colab_type": "text"
      },
      "source": [
        "Now to try and find where they are similar"
      ]
    },
    {
      "cell_type": "code",
      "metadata": {
        "id": "LQhpMvVBnlv2",
        "colab_type": "code",
        "colab": {
          "base_uri": "https://localhost:8080/",
          "height": 52
        },
        "outputId": "cb2efa1a-6cf5-4761-d653-66f315efba31"
      },
      "source": [
        "print(dem['el-salvador-aid'].mean())\n",
        "print(rep['el-salvador-aid'].mean())"
      ],
      "execution_count": 185,
      "outputs": [
        {
          "output_type": "stream",
          "text": [
            "0.21568627450980393\n",
            "0.9515151515151515\n"
          ],
          "name": "stdout"
        }
      ]
    },
    {
      "cell_type": "code",
      "metadata": {
        "id": "OmEKGLheoM53",
        "colab_type": "code",
        "colab": {
          "base_uri": "https://localhost:8080/",
          "height": 34
        },
        "outputId": "92052e64-c481-4e97-dc8d-158aff19a405"
      },
      "source": [
        "ttest_ind(rep['el-salvador-aid'], dem['el-salvador-aid'], nan_policy='omit')"
      ],
      "execution_count": 184,
      "outputs": [
        {
          "output_type": "execute_result",
          "data": {
            "text/plain": [
              "Ttest_indResult(statistic=21.13669261173219, pvalue=5.600520111729011e-68)"
            ]
          },
          "metadata": {
            "tags": []
          },
          "execution_count": 184
        }
      ]
    },
    {
      "cell_type": "code",
      "metadata": {
        "id": "nTA_U2c5omQv",
        "colab_type": "code",
        "colab": {
          "base_uri": "https://localhost:8080/",
          "height": 52
        },
        "outputId": "896d999b-ce0c-4eaa-dfac-afdda78e9e22"
      },
      "source": [
        "print(dem['immigration'].mean())\n",
        "print(rep['immigration'].mean())"
      ],
      "execution_count": 189,
      "outputs": [
        {
          "output_type": "stream",
          "text": [
            "0.4714828897338403\n",
            "0.5575757575757576\n"
          ],
          "name": "stdout"
        }
      ]
    },
    {
      "cell_type": "code",
      "metadata": {
        "id": "PV_6Y3aUowI0",
        "colab_type": "code",
        "colab": {
          "base_uri": "https://localhost:8080/",
          "height": 34
        },
        "outputId": "ba5b54d6-bd6f-4ba5-8cfa-da23c4c35ea8"
      },
      "source": [
        "ttest_ind(rep['immigration'], dem['immigration'], nan_policy='omit')"
      ],
      "execution_count": 190,
      "outputs": [
        {
          "output_type": "execute_result",
          "data": {
            "text/plain": [
              "Ttest_indResult(statistic=1.7359117329695164, pvalue=0.08330248490425066)"
            ]
          },
          "metadata": {
            "tags": []
          },
          "execution_count": 190
        }
      ]
    },
    {
      "cell_type": "markdown",
      "metadata": {
        "id": "ng-ZRtAJo2Yc",
        "colab_type": "text"
      },
      "source": [
        "I cheated and picked an issue I already knew they were pretty similar on, but I found one"
      ]
    }
  ]
}