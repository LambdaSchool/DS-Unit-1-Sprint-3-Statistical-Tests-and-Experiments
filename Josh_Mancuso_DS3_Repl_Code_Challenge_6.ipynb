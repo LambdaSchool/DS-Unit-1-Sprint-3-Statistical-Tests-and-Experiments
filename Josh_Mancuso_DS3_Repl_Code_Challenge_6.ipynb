{
  "nbformat": 4,
  "nbformat_minor": 0,
  "metadata": {
    "colab": {
      "name": "Josh Mancuso DS3 Repl Code Challenge # 6",
      "version": "0.3.2",
      "provenance": [],
      "include_colab_link": true
    },
    "kernelspec": {
      "name": "python3",
      "display_name": "Python 3"
    }
  },
  "cells": [
    {
      "cell_type": "markdown",
      "metadata": {
        "id": "view-in-github",
        "colab_type": "text"
      },
      "source": [
        "<a href=\"https://colab.research.google.com/github/Nolanole/DS-Unit-1-Sprint-4-Statistical-Tests-and-Experiments/blob/master/Josh_Mancuso_DS3_Repl_Code_Challenge_6.ipynb\" target=\"_parent\"><img src=\"https://colab.research.google.com/assets/colab-badge.svg\" alt=\"Open In Colab\"/></a>"
      ]
    },
    {
      "metadata": {
        "id": "V9aqAHnmePlA",
        "colab_type": "code",
        "colab": {
          "base_uri": "https://localhost:8080/",
          "height": 54
        },
        "outputId": "a5a7a1ef-2154-479b-dad4-d028d0f07343"
      },
      "cell_type": "code",
      "source": [
        "import pandas as pd\n",
        "import numpy as np\n",
        "import matplotlib.pyplot as plt\n",
        "import seaborn as sns\n",
        "%matplotlib inline\n",
        "\n",
        "url='https://github.com/pierretd/data-dump/raw/master/before-hours/Real_Estate_Valuation.csv'\n",
        "df = pd.read_csv(url)\n",
        "\n",
        "print(df.head(1))"
      ],
      "execution_count": 18,
      "outputs": [
        {
          "output_type": "stream",
          "text": [
            "   No      Date   Age     Metro  Stores  Latitude  Longitude  Price\n",
            "0   1  2012.917  32.0  84.87882      10  24.98298  121.54024   37.9\n"
          ],
          "name": "stdout"
        }
      ]
    },
    {
      "metadata": {
        "colab_type": "text",
        "id": "diPqnu-zeeVP"
      },
      "cell_type": "markdown",
      "source": [
        "Questions\n",
        "\n",
        "1) What is the minimum value of Age?\n",
        "\n"
      ]
    },
    {
      "metadata": {
        "id": "tWShVc7AeZyw",
        "colab_type": "code",
        "colab": {
          "base_uri": "https://localhost:8080/",
          "height": 35
        },
        "outputId": "c1832551-e372-45b3-b1b8-d3ca8bd0aede"
      },
      "cell_type": "code",
      "source": [
        "df['Age'].min()"
      ],
      "execution_count": 6,
      "outputs": [
        {
          "output_type": "execute_result",
          "data": {
            "text/plain": [
              "0.0"
            ]
          },
          "metadata": {
            "tags": []
          },
          "execution_count": 6
        }
      ]
    },
    {
      "metadata": {
        "id": "X8Kecbz3ejOn",
        "colab_type": "text"
      },
      "cell_type": "markdown",
      "source": [
        "2) What is the maximum value of Stores?\n",
        "\n"
      ]
    },
    {
      "metadata": {
        "id": "H7EWQuo4e_Tl",
        "colab_type": "code",
        "colab": {
          "base_uri": "https://localhost:8080/",
          "height": 35
        },
        "outputId": "40473b0e-c827-4bf9-9701-ed93609c7922"
      },
      "cell_type": "code",
      "source": [
        "df['Stores'].max()"
      ],
      "execution_count": 7,
      "outputs": [
        {
          "output_type": "execute_result",
          "data": {
            "text/plain": [
              "10"
            ]
          },
          "metadata": {
            "tags": []
          },
          "execution_count": 7
        }
      ]
    },
    {
      "metadata": {
        "id": "0xRKZoqoelef",
        "colab_type": "text"
      },
      "cell_type": "markdown",
      "source": [
        "3) What is the median Longitude?\n",
        "\n"
      ]
    },
    {
      "metadata": {
        "id": "UkrnHgJcfF4_",
        "colab_type": "code",
        "colab": {
          "base_uri": "https://localhost:8080/",
          "height": 35
        },
        "outputId": "ea54fecb-c267-4d8d-83e5-c3e6d9b0ac73"
      },
      "cell_type": "code",
      "source": [
        "df['Longitude'].median()"
      ],
      "execution_count": 8,
      "outputs": [
        {
          "output_type": "execute_result",
          "data": {
            "text/plain": [
              "121.53863"
            ]
          },
          "metadata": {
            "tags": []
          },
          "execution_count": 8
        }
      ]
    },
    {
      "metadata": {
        "id": "jo08hT3aentY",
        "colab_type": "text"
      },
      "cell_type": "markdown",
      "source": [
        "4) What is the sample variance of Metro?\n",
        "\n"
      ]
    },
    {
      "metadata": {
        "id": "1hG5BYMzfKpA",
        "colab_type": "code",
        "colab": {
          "base_uri": "https://localhost:8080/",
          "height": 35
        },
        "outputId": "d8a0dd30-fd55-4ecd-d47d-e00f0603841f"
      },
      "cell_type": "code",
      "source": [
        "df['Metro'].std()**2"
      ],
      "execution_count": 11,
      "outputs": [
        {
          "output_type": "execute_result",
          "data": {
            "text/plain": [
              "1592920.6308205705"
            ]
          },
          "metadata": {
            "tags": []
          },
          "execution_count": 11
        }
      ]
    },
    {
      "metadata": {
        "id": "tTfpL68oepL2",
        "colab_type": "text"
      },
      "cell_type": "markdown",
      "source": [
        "5) What is the standard deviation of Stores?\n",
        "\n"
      ]
    },
    {
      "metadata": {
        "id": "6IVLTh7bfYfr",
        "colab_type": "code",
        "colab": {
          "base_uri": "https://localhost:8080/",
          "height": 35
        },
        "outputId": "c09fa4de-808f-4ee5-9dcb-92ddd56aa6f0"
      },
      "cell_type": "code",
      "source": [
        "df['Stores'].std()"
      ],
      "execution_count": 12,
      "outputs": [
        {
          "output_type": "execute_result",
          "data": {
            "text/plain": [
              "2.945561805663617"
            ]
          },
          "metadata": {
            "tags": []
          },
          "execution_count": 12
        }
      ]
    },
    {
      "metadata": {
        "id": "T9-QXCbMerEy",
        "colab_type": "text"
      },
      "cell_type": "markdown",
      "source": [
        "6) What is the skew of Latitude?\n",
        "\n"
      ]
    },
    {
      "metadata": {
        "id": "hhgcSL-Qff-E",
        "colab_type": "code",
        "colab": {
          "base_uri": "https://localhost:8080/",
          "height": 35
        },
        "outputId": "23367b20-b1ce-4d11-c92f-3fba2d6721c0"
      },
      "cell_type": "code",
      "source": [
        "df['Latitude'].skew()"
      ],
      "execution_count": 13,
      "outputs": [
        {
          "output_type": "execute_result",
          "data": {
            "text/plain": [
              "-0.4385984450391146"
            ]
          },
          "metadata": {
            "tags": []
          },
          "execution_count": 13
        }
      ]
    },
    {
      "metadata": {
        "id": "U8_AQis-esg4",
        "colab_type": "text"
      },
      "cell_type": "markdown",
      "source": [
        "7) What is the Kurtosis of Price?\n",
        "\n"
      ]
    },
    {
      "metadata": {
        "id": "DKAl7ZACfqK-",
        "colab_type": "code",
        "colab": {
          "base_uri": "https://localhost:8080/",
          "height": 35
        },
        "outputId": "ab9dd2f8-1994-47c6-8611-985ef23e0157"
      },
      "cell_type": "code",
      "source": [
        "df['Price'].kurtosis()"
      ],
      "execution_count": 14,
      "outputs": [
        {
          "output_type": "execute_result",
          "data": {
            "text/plain": [
              "2.1790970477396163"
            ]
          },
          "metadata": {
            "tags": []
          },
          "execution_count": 14
        }
      ]
    },
    {
      "metadata": {
        "id": "GeZAco7DeuMh",
        "colab_type": "text"
      },
      "cell_type": "markdown",
      "source": [
        "8) Create a Correlation Matrix of Values\n",
        "\n"
      ]
    },
    {
      "metadata": {
        "id": "0iHK1Eb8fvnB",
        "colab_type": "code",
        "colab": {
          "base_uri": "https://localhost:8080/",
          "height": 288
        },
        "outputId": "3766ace6-63f4-48f8-b981-5f6207c045b9"
      },
      "cell_type": "code",
      "source": [
        "df.corr()"
      ],
      "execution_count": 15,
      "outputs": [
        {
          "output_type": "execute_result",
          "data": {
            "text/html": [
              "<div>\n",
              "<style scoped>\n",
              "    .dataframe tbody tr th:only-of-type {\n",
              "        vertical-align: middle;\n",
              "    }\n",
              "\n",
              "    .dataframe tbody tr th {\n",
              "        vertical-align: top;\n",
              "    }\n",
              "\n",
              "    .dataframe thead th {\n",
              "        text-align: right;\n",
              "    }\n",
              "</style>\n",
              "<table border=\"1\" class=\"dataframe\">\n",
              "  <thead>\n",
              "    <tr style=\"text-align: right;\">\n",
              "      <th></th>\n",
              "      <th>No</th>\n",
              "      <th>Date</th>\n",
              "      <th>Age</th>\n",
              "      <th>Metro</th>\n",
              "      <th>Stores</th>\n",
              "      <th>Latitude</th>\n",
              "      <th>Longitude</th>\n",
              "      <th>Price</th>\n",
              "    </tr>\n",
              "  </thead>\n",
              "  <tbody>\n",
              "    <tr>\n",
              "      <th>No</th>\n",
              "      <td>1.000000</td>\n",
              "      <td>-0.048658</td>\n",
              "      <td>-0.032808</td>\n",
              "      <td>-0.013573</td>\n",
              "      <td>-0.012699</td>\n",
              "      <td>-0.010110</td>\n",
              "      <td>-0.011059</td>\n",
              "      <td>-0.028587</td>\n",
              "    </tr>\n",
              "    <tr>\n",
              "      <th>Date</th>\n",
              "      <td>-0.048658</td>\n",
              "      <td>1.000000</td>\n",
              "      <td>0.017549</td>\n",
              "      <td>0.060880</td>\n",
              "      <td>0.009635</td>\n",
              "      <td>0.035058</td>\n",
              "      <td>-0.041082</td>\n",
              "      <td>0.087491</td>\n",
              "    </tr>\n",
              "    <tr>\n",
              "      <th>Age</th>\n",
              "      <td>-0.032808</td>\n",
              "      <td>0.017549</td>\n",
              "      <td>1.000000</td>\n",
              "      <td>0.025622</td>\n",
              "      <td>0.049593</td>\n",
              "      <td>0.054420</td>\n",
              "      <td>-0.048520</td>\n",
              "      <td>-0.210567</td>\n",
              "    </tr>\n",
              "    <tr>\n",
              "      <th>Metro</th>\n",
              "      <td>-0.013573</td>\n",
              "      <td>0.060880</td>\n",
              "      <td>0.025622</td>\n",
              "      <td>1.000000</td>\n",
              "      <td>-0.602519</td>\n",
              "      <td>-0.591067</td>\n",
              "      <td>-0.806317</td>\n",
              "      <td>-0.673613</td>\n",
              "    </tr>\n",
              "    <tr>\n",
              "      <th>Stores</th>\n",
              "      <td>-0.012699</td>\n",
              "      <td>0.009635</td>\n",
              "      <td>0.049593</td>\n",
              "      <td>-0.602519</td>\n",
              "      <td>1.000000</td>\n",
              "      <td>0.444143</td>\n",
              "      <td>0.449099</td>\n",
              "      <td>0.571005</td>\n",
              "    </tr>\n",
              "    <tr>\n",
              "      <th>Latitude</th>\n",
              "      <td>-0.010110</td>\n",
              "      <td>0.035058</td>\n",
              "      <td>0.054420</td>\n",
              "      <td>-0.591067</td>\n",
              "      <td>0.444143</td>\n",
              "      <td>1.000000</td>\n",
              "      <td>0.412924</td>\n",
              "      <td>0.546307</td>\n",
              "    </tr>\n",
              "    <tr>\n",
              "      <th>Longitude</th>\n",
              "      <td>-0.011059</td>\n",
              "      <td>-0.041082</td>\n",
              "      <td>-0.048520</td>\n",
              "      <td>-0.806317</td>\n",
              "      <td>0.449099</td>\n",
              "      <td>0.412924</td>\n",
              "      <td>1.000000</td>\n",
              "      <td>0.523287</td>\n",
              "    </tr>\n",
              "    <tr>\n",
              "      <th>Price</th>\n",
              "      <td>-0.028587</td>\n",
              "      <td>0.087491</td>\n",
              "      <td>-0.210567</td>\n",
              "      <td>-0.673613</td>\n",
              "      <td>0.571005</td>\n",
              "      <td>0.546307</td>\n",
              "      <td>0.523287</td>\n",
              "      <td>1.000000</td>\n",
              "    </tr>\n",
              "  </tbody>\n",
              "</table>\n",
              "</div>"
            ],
            "text/plain": [
              "                 No      Date       Age     Metro    Stores  Latitude  \\\n",
              "No         1.000000 -0.048658 -0.032808 -0.013573 -0.012699 -0.010110   \n",
              "Date      -0.048658  1.000000  0.017549  0.060880  0.009635  0.035058   \n",
              "Age       -0.032808  0.017549  1.000000  0.025622  0.049593  0.054420   \n",
              "Metro     -0.013573  0.060880  0.025622  1.000000 -0.602519 -0.591067   \n",
              "Stores    -0.012699  0.009635  0.049593 -0.602519  1.000000  0.444143   \n",
              "Latitude  -0.010110  0.035058  0.054420 -0.591067  0.444143  1.000000   \n",
              "Longitude -0.011059 -0.041082 -0.048520 -0.806317  0.449099  0.412924   \n",
              "Price     -0.028587  0.087491 -0.210567 -0.673613  0.571005  0.546307   \n",
              "\n",
              "           Longitude     Price  \n",
              "No         -0.011059 -0.028587  \n",
              "Date       -0.041082  0.087491  \n",
              "Age        -0.048520 -0.210567  \n",
              "Metro      -0.806317 -0.673613  \n",
              "Stores      0.449099  0.571005  \n",
              "Latitude    0.412924  0.546307  \n",
              "Longitude   1.000000  0.523287  \n",
              "Price       0.523287  1.000000  "
            ]
          },
          "metadata": {
            "tags": []
          },
          "execution_count": 15
        }
      ]
    },
    {
      "metadata": {
        "id": "eLJWd-Vbevtx",
        "colab_type": "text"
      },
      "cell_type": "markdown",
      "source": [
        "9) Create a Covariance Matrix of Values\n"
      ]
    },
    {
      "metadata": {
        "id": "JKYgVsg7f0iI",
        "colab_type": "code",
        "colab": {
          "base_uri": "https://localhost:8080/",
          "height": 288
        },
        "outputId": "e57894ad-96eb-4bd7-c1ca-454d6d64d955"
      },
      "cell_type": "code",
      "source": [
        "df.cov()"
      ],
      "execution_count": 16,
      "outputs": [
        {
          "output_type": "execute_result",
          "data": {
            "text/html": [
              "<div>\n",
              "<style scoped>\n",
              "    .dataframe tbody tr th:only-of-type {\n",
              "        vertical-align: middle;\n",
              "    }\n",
              "\n",
              "    .dataframe tbody tr th {\n",
              "        vertical-align: top;\n",
              "    }\n",
              "\n",
              "    .dataframe thead th {\n",
              "        text-align: right;\n",
              "    }\n",
              "</style>\n",
              "<table border=\"1\" class=\"dataframe\">\n",
              "  <thead>\n",
              "    <tr style=\"text-align: right;\">\n",
              "      <th></th>\n",
              "      <th>No</th>\n",
              "      <th>Date</th>\n",
              "      <th>Age</th>\n",
              "      <th>Metro</th>\n",
              "      <th>Stores</th>\n",
              "      <th>Latitude</th>\n",
              "      <th>Longitude</th>\n",
              "      <th>Price</th>\n",
              "    </tr>\n",
              "  </thead>\n",
              "  <tbody>\n",
              "    <tr>\n",
              "      <th>No</th>\n",
              "      <td>14317.500000</td>\n",
              "      <td>-1.641671</td>\n",
              "      <td>-44.723245</td>\n",
              "      <td>-2.049851e+03</td>\n",
              "      <td>-4.475787</td>\n",
              "      <td>-0.015012</td>\n",
              "      <td>-0.020309</td>\n",
              "      <td>-46.542615</td>\n",
              "    </tr>\n",
              "    <tr>\n",
              "      <th>Date</th>\n",
              "      <td>-1.641671</td>\n",
              "      <td>0.079506</td>\n",
              "      <td>0.056372</td>\n",
              "      <td>2.166557e+01</td>\n",
              "      <td>0.008003</td>\n",
              "      <td>0.000123</td>\n",
              "      <td>-0.000178</td>\n",
              "      <td>0.335665</td>\n",
              "    </tr>\n",
              "    <tr>\n",
              "      <th>Age</th>\n",
              "      <td>-44.723245</td>\n",
              "      <td>0.056372</td>\n",
              "      <td>129.788704</td>\n",
              "      <td>3.684082e+02</td>\n",
              "      <td>1.664189</td>\n",
              "      <td>0.007694</td>\n",
              "      <td>-0.008483</td>\n",
              "      <td>-32.640356</td>\n",
              "    </tr>\n",
              "    <tr>\n",
              "      <th>Metro</th>\n",
              "      <td>-2049.850694</td>\n",
              "      <td>21.665566</td>\n",
              "      <td>368.408249</td>\n",
              "      <td>1.592921e+06</td>\n",
              "      <td>-2239.938319</td>\n",
              "      <td>-9.257892</td>\n",
              "      <td>-15.618216</td>\n",
              "      <td>-11567.871845</td>\n",
              "    </tr>\n",
              "    <tr>\n",
              "      <th>Stores</th>\n",
              "      <td>-4.475787</td>\n",
              "      <td>0.008003</td>\n",
              "      <td>1.664189</td>\n",
              "      <td>-2.239938e+03</td>\n",
              "      <td>8.676334</td>\n",
              "      <td>0.016236</td>\n",
              "      <td>0.020302</td>\n",
              "      <td>22.885163</td>\n",
              "    </tr>\n",
              "    <tr>\n",
              "      <th>Latitude</th>\n",
              "      <td>-0.015012</td>\n",
              "      <td>0.000123</td>\n",
              "      <td>0.007694</td>\n",
              "      <td>-9.257892e+00</td>\n",
              "      <td>0.016236</td>\n",
              "      <td>0.000154</td>\n",
              "      <td>0.000079</td>\n",
              "      <td>0.092249</td>\n",
              "    </tr>\n",
              "    <tr>\n",
              "      <th>Longitude</th>\n",
              "      <td>-0.020309</td>\n",
              "      <td>-0.000178</td>\n",
              "      <td>-0.008483</td>\n",
              "      <td>-1.561822e+01</td>\n",
              "      <td>0.020302</td>\n",
              "      <td>0.000079</td>\n",
              "      <td>0.000236</td>\n",
              "      <td>0.109273</td>\n",
              "    </tr>\n",
              "    <tr>\n",
              "      <th>Price</th>\n",
              "      <td>-46.542615</td>\n",
              "      <td>0.335665</td>\n",
              "      <td>-32.640356</td>\n",
              "      <td>-1.156787e+04</td>\n",
              "      <td>22.885163</td>\n",
              "      <td>0.092249</td>\n",
              "      <td>0.109273</td>\n",
              "      <td>185.136507</td>\n",
              "    </tr>\n",
              "  </tbody>\n",
              "</table>\n",
              "</div>"
            ],
            "text/plain": [
              "                     No       Date         Age         Metro       Stores  \\\n",
              "No         14317.500000  -1.641671  -44.723245 -2.049851e+03    -4.475787   \n",
              "Date          -1.641671   0.079506    0.056372  2.166557e+01     0.008003   \n",
              "Age          -44.723245   0.056372  129.788704  3.684082e+02     1.664189   \n",
              "Metro      -2049.850694  21.665566  368.408249  1.592921e+06 -2239.938319   \n",
              "Stores        -4.475787   0.008003    1.664189 -2.239938e+03     8.676334   \n",
              "Latitude      -0.015012   0.000123    0.007694 -9.257892e+00     0.016236   \n",
              "Longitude     -0.020309  -0.000178   -0.008483 -1.561822e+01     0.020302   \n",
              "Price        -46.542615   0.335665  -32.640356 -1.156787e+04    22.885163   \n",
              "\n",
              "           Latitude  Longitude         Price  \n",
              "No        -0.015012  -0.020309    -46.542615  \n",
              "Date       0.000123  -0.000178      0.335665  \n",
              "Age        0.007694  -0.008483    -32.640356  \n",
              "Metro     -9.257892 -15.618216 -11567.871845  \n",
              "Stores     0.016236   0.020302     22.885163  \n",
              "Latitude   0.000154   0.000079      0.092249  \n",
              "Longitude  0.000079   0.000236      0.109273  \n",
              "Price      0.092249   0.109273    185.136507  "
            ]
          },
          "metadata": {
            "tags": []
          },
          "execution_count": 16
        }
      ]
    }
  ]
}