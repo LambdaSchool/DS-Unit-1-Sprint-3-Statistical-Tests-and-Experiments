{
  "nbformat": 4,
  "nbformat_minor": 0,
  "metadata": {
    "colab": {
      "name": "LS DS 141 Statistics Probability and Inference.ipynb",
      "version": "0.3.2",
      "provenance": [],
      "collapsed_sections": [],
      "include_colab_link": true
    },
    "kernelspec": {
      "name": "python3",
      "display_name": "Python 3"
    }
  },
  "cells": [
    {
      "cell_type": "markdown",
      "metadata": {
        "id": "view-in-github",
        "colab_type": "text"
      },
      "source": [
        "<a href=\"https://colab.research.google.com/github/a-apte/DS-Unit-1-Sprint-4-Statistical-Tests-and-Experiments/blob/master/LS_DS_141_Statistics_Probability_and_Inference.ipynb\" target=\"_parent\"><img src=\"https://colab.research.google.com/assets/colab-badge.svg\" alt=\"Open In Colab\"/></a>"
      ]
    },
    {
      "metadata": {
        "id": "eJGtmni-DezY",
        "colab_type": "text"
      },
      "cell_type": "markdown",
      "source": [
        "# Lambda School Data Science Module 141\n",
        "## Statistics, Probability, and Inference"
      ]
    },
    {
      "metadata": {
        "id": "FMhDKOFND0qY",
        "colab_type": "text"
      },
      "cell_type": "markdown",
      "source": [
        "## Prepare - examine what's available in SciPy\n",
        "\n",
        "As we delve into statistics, we'll be using more libraries - in particular the [stats package from SciPy](https://docs.scipy.org/doc/scipy/reference/tutorial/stats.html)."
      ]
    },
    {
      "metadata": {
        "id": "fQ9rkLJmEbsk",
        "colab_type": "code",
        "outputId": "4823ed7d-fb3e-4e0d-e48c-76661e8a73c9",
        "colab": {
          "base_uri": "https://localhost:8080/",
          "height": 4316
        }
      },
      "cell_type": "code",
      "source": [
        "from scipy import stats\n",
        "dir(stats)"
      ],
      "execution_count": 1,
      "outputs": [
        {
          "output_type": "execute_result",
          "data": {
            "text/plain": [
              "['__all__',\n",
              " '__builtins__',\n",
              " '__cached__',\n",
              " '__doc__',\n",
              " '__file__',\n",
              " '__loader__',\n",
              " '__name__',\n",
              " '__package__',\n",
              " '__path__',\n",
              " '__spec__',\n",
              " '_binned_statistic',\n",
              " '_constants',\n",
              " '_continuous_distns',\n",
              " '_discrete_distns',\n",
              " '_distn_infrastructure',\n",
              " '_distr_params',\n",
              " '_multivariate',\n",
              " '_stats',\n",
              " '_stats_mstats_common',\n",
              " '_tukeylambda_stats',\n",
              " 'absolute_import',\n",
              " 'alpha',\n",
              " 'anderson',\n",
              " 'anderson_ksamp',\n",
              " 'anglit',\n",
              " 'ansari',\n",
              " 'arcsine',\n",
              " 'argus',\n",
              " 'bartlett',\n",
              " 'bayes_mvs',\n",
              " 'bernoulli',\n",
              " 'beta',\n",
              " 'betaprime',\n",
              " 'binned_statistic',\n",
              " 'binned_statistic_2d',\n",
              " 'binned_statistic_dd',\n",
              " 'binom',\n",
              " 'binom_test',\n",
              " 'boltzmann',\n",
              " 'boxcox',\n",
              " 'boxcox_llf',\n",
              " 'boxcox_normmax',\n",
              " 'boxcox_normplot',\n",
              " 'bradford',\n",
              " 'burr',\n",
              " 'burr12',\n",
              " 'cauchy',\n",
              " 'chi',\n",
              " 'chi2',\n",
              " 'chi2_contingency',\n",
              " 'chisquare',\n",
              " 'circmean',\n",
              " 'circstd',\n",
              " 'circvar',\n",
              " 'combine_pvalues',\n",
              " 'contingency',\n",
              " 'cosine',\n",
              " 'crystalball',\n",
              " 'cumfreq',\n",
              " 'describe',\n",
              " 'dgamma',\n",
              " 'dirichlet',\n",
              " 'distributions',\n",
              " 'division',\n",
              " 'dlaplace',\n",
              " 'dweibull',\n",
              " 'energy_distance',\n",
              " 'entropy',\n",
              " 'erlang',\n",
              " 'expon',\n",
              " 'exponnorm',\n",
              " 'exponpow',\n",
              " 'exponweib',\n",
              " 'f',\n",
              " 'f_oneway',\n",
              " 'fatiguelife',\n",
              " 'find_repeats',\n",
              " 'fisher_exact',\n",
              " 'fisk',\n",
              " 'fligner',\n",
              " 'foldcauchy',\n",
              " 'foldnorm',\n",
              " 'frechet_l',\n",
              " 'frechet_r',\n",
              " 'friedmanchisquare',\n",
              " 'gamma',\n",
              " 'gausshyper',\n",
              " 'gaussian_kde',\n",
              " 'genexpon',\n",
              " 'genextreme',\n",
              " 'gengamma',\n",
              " 'genhalflogistic',\n",
              " 'genlogistic',\n",
              " 'gennorm',\n",
              " 'genpareto',\n",
              " 'geom',\n",
              " 'gilbrat',\n",
              " 'gmean',\n",
              " 'gompertz',\n",
              " 'gumbel_l',\n",
              " 'gumbel_r',\n",
              " 'halfcauchy',\n",
              " 'halfgennorm',\n",
              " 'halflogistic',\n",
              " 'halfnorm',\n",
              " 'hmean',\n",
              " 'hypergeom',\n",
              " 'hypsecant',\n",
              " 'invgamma',\n",
              " 'invgauss',\n",
              " 'invweibull',\n",
              " 'invwishart',\n",
              " 'iqr',\n",
              " 'itemfreq',\n",
              " 'jarque_bera',\n",
              " 'johnsonsb',\n",
              " 'johnsonsu',\n",
              " 'kappa3',\n",
              " 'kappa4',\n",
              " 'kde',\n",
              " 'kendalltau',\n",
              " 'kruskal',\n",
              " 'ks_2samp',\n",
              " 'ksone',\n",
              " 'kstat',\n",
              " 'kstatvar',\n",
              " 'kstest',\n",
              " 'kstwobign',\n",
              " 'kurtosis',\n",
              " 'kurtosistest',\n",
              " 'laplace',\n",
              " 'levene',\n",
              " 'levy',\n",
              " 'levy_l',\n",
              " 'levy_stable',\n",
              " 'linregress',\n",
              " 'loggamma',\n",
              " 'logistic',\n",
              " 'loglaplace',\n",
              " 'lognorm',\n",
              " 'logser',\n",
              " 'lomax',\n",
              " 'mannwhitneyu',\n",
              " 'matrix_normal',\n",
              " 'maxwell',\n",
              " 'median_test',\n",
              " 'mielke',\n",
              " 'mode',\n",
              " 'moment',\n",
              " 'mood',\n",
              " 'morestats',\n",
              " 'moyal',\n",
              " 'mstats',\n",
              " 'mstats_basic',\n",
              " 'mstats_extras',\n",
              " 'multinomial',\n",
              " 'multivariate_normal',\n",
              " 'mvn',\n",
              " 'mvsdist',\n",
              " 'nakagami',\n",
              " 'nbinom',\n",
              " 'ncf',\n",
              " 'nct',\n",
              " 'ncx2',\n",
              " 'norm',\n",
              " 'normaltest',\n",
              " 'norminvgauss',\n",
              " 'obrientransform',\n",
              " 'ortho_group',\n",
              " 'pareto',\n",
              " 'pearson3',\n",
              " 'pearsonr',\n",
              " 'percentileofscore',\n",
              " 'planck',\n",
              " 'pointbiserialr',\n",
              " 'poisson',\n",
              " 'power_divergence',\n",
              " 'powerlaw',\n",
              " 'powerlognorm',\n",
              " 'powernorm',\n",
              " 'ppcc_max',\n",
              " 'ppcc_plot',\n",
              " 'print_function',\n",
              " 'probplot',\n",
              " 'randint',\n",
              " 'random_correlation',\n",
              " 'rankdata',\n",
              " 'ranksums',\n",
              " 'rayleigh',\n",
              " 'rdist',\n",
              " 'recipinvgauss',\n",
              " 'reciprocal',\n",
              " 'relfreq',\n",
              " 'rice',\n",
              " 'rv_continuous',\n",
              " 'rv_discrete',\n",
              " 'rv_histogram',\n",
              " 'scoreatpercentile',\n",
              " 'sem',\n",
              " 'semicircular',\n",
              " 'shapiro',\n",
              " 'sigmaclip',\n",
              " 'skellam',\n",
              " 'skew',\n",
              " 'skewnorm',\n",
              " 'skewtest',\n",
              " 'spearmanr',\n",
              " 'special_ortho_group',\n",
              " 'statlib',\n",
              " 'stats',\n",
              " 't',\n",
              " 'test',\n",
              " 'theilslopes',\n",
              " 'tiecorrect',\n",
              " 'tmax',\n",
              " 'tmean',\n",
              " 'tmin',\n",
              " 'trapz',\n",
              " 'triang',\n",
              " 'trim1',\n",
              " 'trim_mean',\n",
              " 'trimboth',\n",
              " 'truncexpon',\n",
              " 'truncnorm',\n",
              " 'tsem',\n",
              " 'tstd',\n",
              " 'ttest_1samp',\n",
              " 'ttest_ind',\n",
              " 'ttest_ind_from_stats',\n",
              " 'ttest_rel',\n",
              " 'tukeylambda',\n",
              " 'tvar',\n",
              " 'uniform',\n",
              " 'unitary_group',\n",
              " 'variation',\n",
              " 'vonmises',\n",
              " 'vonmises_line',\n",
              " 'wald',\n",
              " 'wasserstein_distance',\n",
              " 'weibull_max',\n",
              " 'weibull_min',\n",
              " 'weightedtau',\n",
              " 'wilcoxon',\n",
              " 'wishart',\n",
              " 'wrapcauchy',\n",
              " 'zipf',\n",
              " 'zmap',\n",
              " 'zscore']"
            ]
          },
          "metadata": {
            "tags": []
          },
          "execution_count": 1
        }
      ]
    },
    {
      "metadata": {
        "id": "bxW4SG_gJGlZ",
        "colab_type": "code",
        "outputId": "f7621126-7a4f-4aeb-e981-ed6c1c13ec06",
        "colab": {
          "base_uri": "https://localhost:8080/",
          "height": 69
        }
      },
      "cell_type": "code",
      "source": [
        "# As usual, lots of stuff here! There's our friend, the normal distribution\n",
        "norm = stats.norm()\n",
        "print(norm.mean())\n",
        "print(norm.std())\n",
        "print(norm.var())\n",
        "\n",
        "# STANDARD NORMAL DISTRIBUTION, N ~ (0,1)"
      ],
      "execution_count": 2,
      "outputs": [
        {
          "output_type": "stream",
          "text": [
            "0.0\n",
            "1.0\n",
            "1.0\n"
          ],
          "name": "stdout"
        }
      ]
    },
    {
      "metadata": {
        "id": "RyNKPt_tJk86",
        "colab_type": "code",
        "outputId": "9cb354ce-fb45-4c09-a168-7cd9197b6368",
        "colab": {
          "base_uri": "https://localhost:8080/",
          "height": 69
        }
      },
      "cell_type": "code",
      "source": [
        "# And a new friend - t\n",
        "t1 = stats.t(5)  # 5 is df \"shape\" parameter, df = 5\n",
        "print(t1.mean())\n",
        "print(t1.std())\n",
        "print(t1.var())"
      ],
      "execution_count": 3,
      "outputs": [
        {
          "output_type": "stream",
          "text": [
            "0.0\n",
            "1.2909944487358056\n",
            "1.6666666666666667\n"
          ],
          "name": "stdout"
        }
      ]
    },
    {
      "metadata": {
        "id": "SRn1zMuaKgxX",
        "colab_type": "text"
      },
      "cell_type": "markdown",
      "source": [
        "![T distribution PDF with different shape parameters](https://upload.wikimedia.org/wikipedia/commons/4/41/Student_t_pdf.svg)\n",
        "\n",
        "*(Picture from [Wikipedia](https://en.wikipedia.org/wiki/Student's_t-distribution#/media/File:Student_t_pdf.svg))*\n",
        "\n",
        "The t-distribution is \"normal-ish\" - the larger the parameter (which reflects its degrees of freedom - more input data/features will increase it), the closer to true normal."
      ]
    },
    {
      "metadata": {
        "id": "seQv5unnJvpM",
        "colab_type": "code",
        "outputId": "c28a3da4-5f9e-4bb8-88b3-bee6dd601b14",
        "colab": {
          "base_uri": "https://localhost:8080/",
          "height": 69
        }
      },
      "cell_type": "code",
      "source": [
        "t2 = stats.t(30)  # Will be closer to normal, df = 30\n",
        "print(t2.mean())\n",
        "print(t2.std())\n",
        "print(t2.var())"
      ],
      "execution_count": 4,
      "outputs": [
        {
          "output_type": "stream",
          "text": [
            "0.0\n",
            "1.0350983390135313\n",
            "1.0714285714285714\n"
          ],
          "name": "stdout"
        }
      ]
    },
    {
      "metadata": {
        "id": "FOvEGMysLaE2",
        "colab_type": "text"
      },
      "cell_type": "markdown",
      "source": [
        "Why is it different from normal? To better reflect the tendencies of small data and situations with unknown population standard deviation. In other words, the normal distribution is still the nice pure ideal in the limit (thanks to the central limit theorem), but the t-distribution is much more useful in many real-world situations.\n",
        "\n",
        "History sidenote - this is \"Student\":\n",
        "\n",
        "![William Sealy Gosset](https://upload.wikimedia.org/wikipedia/commons/4/42/William_Sealy_Gosset.jpg)\n",
        "\n",
        "*(Picture from [Wikipedia](https://en.wikipedia.org/wiki/File:William_Sealy_Gosset.jpg))*\n",
        "\n",
        "His real name is William Sealy Gosset, and he published under the pen name \"Student\" because he was not an academic. He was a brewer, working at Guinness and using trial and error to determine the best ways to yield barley. He's also proof that, even 100 years ago, you don't need official credentials to do real data science!"
      ]
    },
    {
      "metadata": {
        "id": "1yx_QilAEC6o",
        "colab_type": "text"
      },
      "cell_type": "markdown",
      "source": [
        "## Live Lecture - let's perform and interpret a t-test\n",
        "\n",
        "We'll generate our own data, so we can know and alter the \"ground truth\" that the t-test should find. We will learn about p-values and how to interpret \"statistical significance\" based on the output of a hypothesis test."
      ]
    },
    {
      "metadata": {
        "id": "BuysRPs-Ed0v",
        "colab_type": "code",
        "colab": {
          "base_uri": "https://localhost:8080/",
          "height": 34
        },
        "outputId": "8ce81eeb-015a-49a5-92bc-1b639ab7bf3e"
      },
      "cell_type": "code",
      "source": [
        "# TODO - during class, but please help!\n",
        "\n",
        "import numpy as np\n",
        "\n",
        "survey_data = [0, 1, 0, 1, 0, 0, 0, 1, 1, 0, 0, 1, 1, 1, 1, 1, 1, 1, 0, 0,\n",
        " 1, 1, 1, 1, 1, 1, 1, 1, 1, 0, 1, 1, 1, 1, 1, 1, 1, 0, 1, 0, 1,\n",
        " 1, 0, 1, 0, 1, 1, 0, 0, 0]\n",
        "\n",
        "mean = np.mean(survey_data) #.sum() / len(survey_data)\n",
        "\n",
        "print(mean)"
      ],
      "execution_count": 7,
      "outputs": [
        {
          "output_type": "stream",
          "text": [
            "0.66\n"
          ],
          "name": "stdout"
        }
      ]
    },
    {
      "metadata": {
        "id": "7mZA_eKoNsQ_",
        "colab_type": "code",
        "colab": {
          "base_uri": "https://localhost:8080/",
          "height": 294
        },
        "outputId": "6d722da3-65f4-46e8-f37c-8e6d01201e17"
      },
      "cell_type": "code",
      "source": [
        "import pandas as pd\n",
        "\n",
        "df = pd.DataFrame(survey_data)\n",
        "\n",
        "df.describe()"
      ],
      "execution_count": 35,
      "outputs": [
        {
          "output_type": "execute_result",
          "data": {
            "text/html": [
              "<div>\n",
              "<style scoped>\n",
              "    .dataframe tbody tr th:only-of-type {\n",
              "        vertical-align: middle;\n",
              "    }\n",
              "\n",
              "    .dataframe tbody tr th {\n",
              "        vertical-align: top;\n",
              "    }\n",
              "\n",
              "    .dataframe thead th {\n",
              "        text-align: right;\n",
              "    }\n",
              "</style>\n",
              "<table border=\"1\" class=\"dataframe\">\n",
              "  <thead>\n",
              "    <tr style=\"text-align: right;\">\n",
              "      <th></th>\n",
              "      <th>0</th>\n",
              "    </tr>\n",
              "  </thead>\n",
              "  <tbody>\n",
              "    <tr>\n",
              "      <th>count</th>\n",
              "      <td>50.000000</td>\n",
              "    </tr>\n",
              "    <tr>\n",
              "      <th>mean</th>\n",
              "      <td>0.660000</td>\n",
              "    </tr>\n",
              "    <tr>\n",
              "      <th>std</th>\n",
              "      <td>0.478518</td>\n",
              "    </tr>\n",
              "    <tr>\n",
              "      <th>min</th>\n",
              "      <td>0.000000</td>\n",
              "    </tr>\n",
              "    <tr>\n",
              "      <th>25%</th>\n",
              "      <td>0.000000</td>\n",
              "    </tr>\n",
              "    <tr>\n",
              "      <th>50%</th>\n",
              "      <td>1.000000</td>\n",
              "    </tr>\n",
              "    <tr>\n",
              "      <th>75%</th>\n",
              "      <td>1.000000</td>\n",
              "    </tr>\n",
              "    <tr>\n",
              "      <th>max</th>\n",
              "      <td>1.000000</td>\n",
              "    </tr>\n",
              "  </tbody>\n",
              "</table>\n",
              "</div>"
            ],
            "text/plain": [
              "               0\n",
              "count  50.000000\n",
              "mean    0.660000\n",
              "std     0.478518\n",
              "min     0.000000\n",
              "25%     0.000000\n",
              "50%     1.000000\n",
              "75%     1.000000\n",
              "max     1.000000"
            ]
          },
          "metadata": {
            "tags": []
          },
          "execution_count": 35
        }
      ]
    },
    {
      "metadata": {
        "id": "GOpSdxkqODmx",
        "colab_type": "code",
        "colab": {
          "base_uri": "https://localhost:8080/",
          "height": 365
        },
        "outputId": "dc0ef921-649c-436b-9cb7-682300cdd1e1"
      },
      "cell_type": "code",
      "source": [
        "df.plot.hist()"
      ],
      "execution_count": 11,
      "outputs": [
        {
          "output_type": "execute_result",
          "data": {
            "text/plain": [
              "<matplotlib.axes._subplots.AxesSubplot at 0x7f0c128a67b8>"
            ]
          },
          "metadata": {
            "tags": []
          },
          "execution_count": 11
        },
        {
          "output_type": "display_data",
          "data": {
            "image/png": "[encoded data removed]",
            "text/plain": [
              "<matplotlib.figure.Figure at 0x7f0c12912ac8>"
            ]
          },
          "metadata": {
            "tags": []
          }
        }
      ]
    },
    {
      "metadata": {
        "id": "fyK9dsg4OI2y",
        "colab_type": "code",
        "colab": {
          "base_uri": "https://localhost:8080/",
          "height": 34
        },
        "outputId": "9f52518a-95d5-47c5-e256-68e610c1849f"
      },
      "cell_type": "code",
      "source": [
        "import scipy\n",
        "scipy.stats.ttest_1samp(survey_data, 0.5)\n",
        "\n",
        "# the t-statistic is the ratio of the departure of the estimated value of  a parameter from its hypothesized value to its standard error"
      ],
      "execution_count": 14,
      "outputs": [
        {
          "output_type": "execute_result",
          "data": {
            "text/plain": [
              "Ttest_1sampResult(statistic=2.364321853156195, pvalue=0.02207003200903075)"
            ]
          },
          "metadata": {
            "tags": []
          },
          "execution_count": 14
        }
      ]
    },
    {
      "metadata": {
        "id": "L1MAEOsGOIy8",
        "colab_type": "code",
        "colab": {
          "base_uri": "https://localhost:8080/",
          "height": 34
        },
        "outputId": "795d696c-9205-462b-e323-895fea7a44a1"
      },
      "cell_type": "code",
      "source": [
        "def t_test(col, u = 0):\n",
        "  n = len(col)\n",
        "  sd = col.std()\n",
        "  mean = col.mean()\n",
        "  t_stat = (mean - u) / (sd / np.sqrt(n))\n",
        "  return t_stat\n",
        "  \n",
        "print(t_test(df,0.5))"
      ],
      "execution_count": 18,
      "outputs": [
        {
          "output_type": "stream",
          "text": [
            "2.3643218531561954\n"
          ],
          "name": "stdout"
        }
      ]
    },
    {
      "metadata": {
        "id": "9crvCWefUYDM",
        "colab_type": "code",
        "colab": {
          "base_uri": "https://localhost:8080/",
          "height": 294
        },
        "outputId": "16359cbd-24b0-421b-e78b-acd063bdc34d"
      },
      "cell_type": "code",
      "source": [
        "import random\n",
        "\n",
        "def make_soda_data(n=50):\n",
        "  return pd.DataFrame([random.randint(0,1) for _ in range(n)])\n",
        "\n",
        "# make_soda_data(50)\n",
        "\n",
        "t_stats = []\n",
        "p_values = []\n",
        "n_experiments = 10000\n",
        "\n",
        "for _ in range(n_experiments):\n",
        "  df = make_soda_data()\n",
        "  t_test = scipy.stats.ttest_1samp(df, 0.5)\n",
        "  t_stats.append(t_test.statistic)\n",
        "  p_values.append(t_test.pvalue)\n",
        "\n",
        "pd.DataFrame(t_stats).describe()\n",
        "# pd.DataFrame(p_values).describe()"
      ],
      "execution_count": 33,
      "outputs": [
        {
          "output_type": "execute_result",
          "data": {
            "text/html": [
              "<div>\n",
              "<style scoped>\n",
              "    .dataframe tbody tr th:only-of-type {\n",
              "        vertical-align: middle;\n",
              "    }\n",
              "\n",
              "    .dataframe tbody tr th {\n",
              "        vertical-align: top;\n",
              "    }\n",
              "\n",
              "    .dataframe thead th {\n",
              "        text-align: right;\n",
              "    }\n",
              "</style>\n",
              "<table border=\"1\" class=\"dataframe\">\n",
              "  <thead>\n",
              "    <tr style=\"text-align: right;\">\n",
              "      <th></th>\n",
              "      <th>0</th>\n",
              "    </tr>\n",
              "  </thead>\n",
              "  <tbody>\n",
              "    <tr>\n",
              "      <th>count</th>\n",
              "      <td>10000.000000</td>\n",
              "    </tr>\n",
              "    <tr>\n",
              "      <th>mean</th>\n",
              "      <td>0.003971</td>\n",
              "    </tr>\n",
              "    <tr>\n",
              "      <th>std</th>\n",
              "      <td>1.024142</td>\n",
              "    </tr>\n",
              "    <tr>\n",
              "      <th>min</th>\n",
              "      <td>-4.261465</td>\n",
              "    </tr>\n",
              "    <tr>\n",
              "      <th>25%</th>\n",
              "      <td>-0.561801</td>\n",
              "    </tr>\n",
              "    <tr>\n",
              "      <th>50%</th>\n",
              "      <td>0.000000</td>\n",
              "    </tr>\n",
              "    <tr>\n",
              "      <th>75%</th>\n",
              "      <td>0.561801</td>\n",
              "    </tr>\n",
              "    <tr>\n",
              "      <th>max</th>\n",
              "      <td>4.731485</td>\n",
              "    </tr>\n",
              "  </tbody>\n",
              "</table>\n",
              "</div>"
            ],
            "text/plain": [
              "                  0\n",
              "count  10000.000000\n",
              "mean       0.003971\n",
              "std        1.024142\n",
              "min       -4.261465\n",
              "25%       -0.561801\n",
              "50%        0.000000\n",
              "75%        0.561801\n",
              "max        4.731485"
            ]
          },
          "metadata": {
            "tags": []
          },
          "execution_count": 33
        }
      ]
    },
    {
      "metadata": {
        "id": "FRnj08-YTXpl",
        "colab_type": "code",
        "colab": {
          "base_uri": "https://localhost:8080/",
          "height": 52
        },
        "outputId": "65301bb6-f96f-49a0-9b12-ad8f99dfa8bd"
      },
      "cell_type": "code",
      "source": [
        "print (df.var())\n",
        "print (df.std())"
      ],
      "execution_count": 20,
      "outputs": [
        {
          "output_type": "stream",
          "text": [
            "0.22897959183673472\n",
            "0.4785181206984065\n"
          ],
          "name": "stdout"
        }
      ]
    },
    {
      "metadata": {
        "id": "HzBKWWrUZkB9",
        "colab_type": "text"
      },
      "cell_type": "markdown",
      "source": [
        "**STRETCH GOAL - Functions to calculate these outside of Stats**"
      ]
    },
    {
      "metadata": {
        "id": "Cu-x_abMSxRk",
        "colab_type": "code",
        "colab": {}
      },
      "cell_type": "code",
      "source": [
        "def standard_error_pooled (col1,col2):\n",
        "  len1 = len(col1)\n",
        "  len2 = len(col2)\n",
        "  var1 = col1.var()\n",
        "  var2 = col2.var()\n",
        "  se = np.sqrt((var1/len1) + (var2/len2))\n",
        "  return se\n",
        "\n",
        "# Source: https://stattrek.com/hypothesis-test/difference-in-means.aspx"
      ],
      "execution_count": 0,
      "outputs": []
    },
    {
      "metadata": {
        "id": "_KnAqvd8oSyC",
        "colab_type": "code",
        "colab": {}
      },
      "cell_type": "code",
      "source": [
        "def degrees_freedom_pooled (col1, col2):\n",
        "  len1 = len(col1)\n",
        "  len2 = len(col2)\n",
        "  var1 = col1.var()\n",
        "  var2 = col2.var()\n",
        "  df1 = var1 / len1\n",
        "  df2 = var2 / len2\n",
        "  df = ((df1 + df2)**2) / ((df1**2/(len1 - 1)) + (df2**2/(len2 - 1)))\n",
        "  \n",
        "  return int(df)\n",
        "  \n",
        "  \n",
        "# Source: https://stattrek.com/hypothesis-test/difference-in-means.aspx"
      ],
      "execution_count": 0,
      "outputs": []
    },
    {
      "metadata": {
        "id": "L_TggYvaSxMi",
        "colab_type": "code",
        "colab": {}
      },
      "cell_type": "code",
      "source": [
        "def t_test_2mean(col1, col2, d=0):\n",
        "  mean1 = col1.mean()\n",
        "  mean2 = col2.mean()\n",
        "  t_stat = ((mean1 - mean2) - d) / standard_error_pooled(col1,col2)\n",
        "  return t_stat\n",
        "  "
      ],
      "execution_count": 0,
      "outputs": []
    },
    {
      "metadata": {
        "id": "egXb7YpqEcZF",
        "colab_type": "text"
      },
      "cell_type": "markdown",
      "source": [
        "## Assignment - apply the t-test to real data\n",
        "\n",
        "Your assignment is to determine which issues have \"statistically significant\" differences between political parties in this [1980s congressional voting data](https://archive.ics.uci.edu/ml/datasets/Congressional+Voting+Records). The data consists of 435 instances (one for each congressperson), a class (democrat or republican), and 16 binary attributes (yes or no for voting for or against certain issues). Be aware - there are missing values!\n",
        "\n",
        "Your goals:\n",
        "\n",
        "1. Load and clean the data (or determine the best method to drop observations when running tests)\n",
        "2. Using hypothesis testing, find an issue that democrats support more than republicans with p < 0.01\n",
        "3. Using hypothesis testing, find an issue that republicans support more than democrats with p < 0.01\n",
        "4. Using hypothesis testing, find an issue where the difference between republicans and democrats has p > 0.1 (i.e. there may not be much of a difference)\n",
        "\n",
        "Note that this data will involve *2 sample* t-tests, because you're comparing averages across two groups (republicans and democrats) rather than a single group against a null hypothesis.\n",
        "\n",
        "Stretch goals:\n",
        "\n",
        "1. Refactor your code into functions so it's easy to rerun with arbitrary variables\n",
        "2. Apply hypothesis testing to your personal project data (for the purposes of this notebook you can type a summary of the hypothesis you formed and tested)"
      ]
    },
    {
      "metadata": {
        "id": "B96lQIX8au__",
        "colab_type": "text"
      },
      "cell_type": "markdown",
      "source": [
        "**NULL HYPOTHESIS** : The difference between the voting percentages between Democrats and Republicans is _due to chance_.\n",
        "\n",
        "**ALTERNATE HYPOTHESIS**: The difference between the voting percentages between Democrats and Republicans is not due to chance."
      ]
    },
    {
      "metadata": {
        "id": "nstrmCG-Ecyk",
        "colab_type": "code",
        "colab": {}
      },
      "cell_type": "code",
      "source": [
        "import pandas as pd\n",
        "\n",
        "from scipy import stats\n",
        "\n",
        "import numpy as np"
      ],
      "execution_count": 0,
      "outputs": []
    },
    {
      "metadata": {
        "id": "c9lGvlMvLHXZ",
        "colab_type": "code",
        "colab": {
          "base_uri": "https://localhost:8080/",
          "height": 222
        },
        "outputId": "a07c5f69-b0a7-44af-c0d2-5e90aec0aa14"
      },
      "cell_type": "code",
      "source": [
        "'''   Attribute Information:\n",
        "   1. Class Name: 2 (democrat, republican)\n",
        "   2. handicapped-infants: 2 (y,n)\n",
        "   3. water-project-cost-sharing: 2 (y,n)\n",
        "   4. adoption-of-the-budget-resolution: 2 (y,n)\n",
        "   5. physician-fee-freeze: 2 (y,n)\n",
        "   6. el-salvador-aid: 2 (y,n)\n",
        "   7. religious-groups-in-schools: 2 (y,n)\n",
        "   8. anti-satellite-test-ban: 2 (y,n)\n",
        "   9. aid-to-nicaraguan-contras: 2 (y,n)\n",
        "  10. mx-missile: 2 (y,n)\n",
        "  11. immigration: 2 (y,n)\n",
        "  12. synfuels-corporation-cutback: 2 (y,n)\n",
        "  13. education-spending: 2 (y,n)\n",
        "  14. superfund-right-to-sue: 2 (y,n)\n",
        "  15. crime: 2 (y,n)\n",
        "  16. duty-free-exports: 2 (y,n)\n",
        "  17. export-administration-act-south-africa: 2 (y,n)\n",
        "'''\n",
        "\n",
        "\n",
        "\n",
        "\n",
        "url = 'https://archive.ics.uci.edu/ml/machine-learning-databases/voting-records/house-votes-84.data'\n",
        "\n",
        "headers = ['party', 'hand_infants', 'water_project', 'budget_adoption',\n",
        "           'freeze_physicians', 'el_salvador', 'religion_school', 'satellite_ban',\n",
        "           'contras_aid', 'mx_missile', 'immigration', 'synfuels_cutback',\n",
        "           'education','superfund','crime','duty_free', 'south_africa']\n",
        "\n",
        "df = pd.read_csv(url, names = headers) # Use \"names\", not \"headers\"\n",
        "\n",
        "df.head()"
      ],
      "execution_count": 43,
      "outputs": [
        {
          "output_type": "execute_result",
          "data": {
            "text/html": [
              "<div>\n",
              "<style scoped>\n",
              "    .dataframe tbody tr th:only-of-type {\n",
              "        vertical-align: middle;\n",
              "    }\n",
              "\n",
              "    .dataframe tbody tr th {\n",
              "        vertical-align: top;\n",
              "    }\n",
              "\n",
              "    .dataframe thead th {\n",
              "        text-align: right;\n",
              "    }\n",
              "</style>\n",
              "<table border=\"1\" class=\"dataframe\">\n",
              "  <thead>\n",
              "    <tr style=\"text-align: right;\">\n",
              "      <th></th>\n",
              "      <th>party</th>\n",
              "      <th>hand_infants</th>\n",
              "      <th>water_project</th>\n",
              "      <th>budget_adoption</th>\n",
              "      <th>freeze_physicians</th>\n",
              "      <th>el_salvador</th>\n",
              "      <th>religion_school</th>\n",
              "      <th>satellite_ban</th>\n",
              "      <th>contras_aid</th>\n",
              "      <th>mx_missile</th>\n",
              "      <th>immigration</th>\n",
              "      <th>synfuels_cutback</th>\n",
              "      <th>education</th>\n",
              "      <th>superfund</th>\n",
              "      <th>crime</th>\n",
              "      <th>duty_free</th>\n",
              "      <th>south_africa</th>\n",
              "    </tr>\n",
              "  </thead>\n",
              "  <tbody>\n",
              "    <tr>\n",
              "      <th>0</th>\n",
              "      <td>republican</td>\n",
              "      <td>n</td>\n",
              "      <td>y</td>\n",
              "      <td>n</td>\n",
              "      <td>y</td>\n",
              "      <td>y</td>\n",
              "      <td>y</td>\n",
              "      <td>n</td>\n",
              "      <td>n</td>\n",
              "      <td>n</td>\n",
              "      <td>y</td>\n",
              "      <td>?</td>\n",
              "      <td>y</td>\n",
              "      <td>y</td>\n",
              "      <td>y</td>\n",
              "      <td>n</td>\n",
              "      <td>y</td>\n",
              "    </tr>\n",
              "    <tr>\n",
              "      <th>1</th>\n",
              "      <td>republican</td>\n",
              "      <td>n</td>\n",
              "      <td>y</td>\n",
              "      <td>n</td>\n",
              "      <td>y</td>\n",
              "      <td>y</td>\n",
              "      <td>y</td>\n",
              "      <td>n</td>\n",
              "      <td>n</td>\n",
              "      <td>n</td>\n",
              "      <td>n</td>\n",
              "      <td>n</td>\n",
              "      <td>y</td>\n",
              "      <td>y</td>\n",
              "      <td>y</td>\n",
              "      <td>n</td>\n",
              "      <td>?</td>\n",
              "    </tr>\n",
              "    <tr>\n",
              "      <th>2</th>\n",
              "      <td>democrat</td>\n",
              "      <td>?</td>\n",
              "      <td>y</td>\n",
              "      <td>y</td>\n",
              "      <td>?</td>\n",
              "      <td>y</td>\n",
              "      <td>y</td>\n",
              "      <td>n</td>\n",
              "      <td>n</td>\n",
              "      <td>n</td>\n",
              "      <td>n</td>\n",
              "      <td>y</td>\n",
              "      <td>n</td>\n",
              "      <td>y</td>\n",
              "      <td>y</td>\n",
              "      <td>n</td>\n",
              "      <td>n</td>\n",
              "    </tr>\n",
              "    <tr>\n",
              "      <th>3</th>\n",
              "      <td>democrat</td>\n",
              "      <td>n</td>\n",
              "      <td>y</td>\n",
              "      <td>y</td>\n",
              "      <td>n</td>\n",
              "      <td>?</td>\n",
              "      <td>y</td>\n",
              "      <td>n</td>\n",
              "      <td>n</td>\n",
              "      <td>n</td>\n",
              "      <td>n</td>\n",
              "      <td>y</td>\n",
              "      <td>n</td>\n",
              "      <td>y</td>\n",
              "      <td>n</td>\n",
              "      <td>n</td>\n",
              "      <td>y</td>\n",
              "    </tr>\n",
              "    <tr>\n",
              "      <th>4</th>\n",
              "      <td>democrat</td>\n",
              "      <td>y</td>\n",
              "      <td>y</td>\n",
              "      <td>y</td>\n",
              "      <td>n</td>\n",
              "      <td>y</td>\n",
              "      <td>y</td>\n",
              "      <td>n</td>\n",
              "      <td>n</td>\n",
              "      <td>n</td>\n",
              "      <td>n</td>\n",
              "      <td>y</td>\n",
              "      <td>?</td>\n",
              "      <td>y</td>\n",
              "      <td>y</td>\n",
              "      <td>y</td>\n",
              "      <td>y</td>\n",
              "    </tr>\n",
              "  </tbody>\n",
              "</table>\n",
              "</div>"
            ],
            "text/plain": [
              "        party hand_infants water_project budget_adoption freeze_physicians  \\\n",
              "0  republican            n             y               n                 y   \n",
              "1  republican            n             y               n                 y   \n",
              "2    democrat            ?             y               y                 ?   \n",
              "3    democrat            n             y               y                 n   \n",
              "4    democrat            y             y               y                 n   \n",
              "\n",
              "  el_salvador religion_school satellite_ban contras_aid mx_missile  \\\n",
              "0           y               y             n           n          n   \n",
              "1           y               y             n           n          n   \n",
              "2           y               y             n           n          n   \n",
              "3           ?               y             n           n          n   \n",
              "4           y               y             n           n          n   \n",
              "\n",
              "  immigration synfuels_cutback education superfund crime duty_free  \\\n",
              "0           y                ?         y         y     y         n   \n",
              "1           n                n         y         y     y         n   \n",
              "2           n                y         n         y     y         n   \n",
              "3           n                y         n         y     n         n   \n",
              "4           n                y         ?         y     y         y   \n",
              "\n",
              "  south_africa  \n",
              "0            y  \n",
              "1            ?  \n",
              "2            n  \n",
              "3            y  \n",
              "4            y  "
            ]
          },
          "metadata": {
            "tags": []
          },
          "execution_count": 43
        }
      ]
    },
    {
      "metadata": {
        "id": "PVOEl_J9LV-t",
        "colab_type": "code",
        "colab": {
          "base_uri": "https://localhost:8080/",
          "height": 329
        },
        "outputId": "4de234fb-9031-47c2-a134-a50d587b6e2c"
      },
      "cell_type": "code",
      "source": [
        "df.isnull().sum()"
      ],
      "execution_count": 44,
      "outputs": [
        {
          "output_type": "execute_result",
          "data": {
            "text/plain": [
              "party                0\n",
              "hand_infants         0\n",
              "water_project        0\n",
              "budget_adoption      0\n",
              "freeze_physicians    0\n",
              "el_salvador          0\n",
              "religion_school      0\n",
              "satellite_ban        0\n",
              "contras_aid          0\n",
              "mx_missile           0\n",
              "immigration          0\n",
              "synfuels_cutback     0\n",
              "education            0\n",
              "superfund            0\n",
              "crime                0\n",
              "duty_free            0\n",
              "south_africa         0\n",
              "dtype: int64"
            ]
          },
          "metadata": {
            "tags": []
          },
          "execution_count": 44
        }
      ]
    },
    {
      "metadata": {
        "id": "kFSLg88BLHTn",
        "colab_type": "code",
        "colab": {
          "base_uri": "https://localhost:8080/",
          "height": 329
        },
        "outputId": "450d70cb-b4f3-40fa-ca17-ee9ddf703df8"
      },
      "cell_type": "code",
      "source": [
        "'''   Attribute:  #Missing Values:\n",
        "           1:  0\n",
        "           2:  0\n",
        "           3:  12\n",
        "           4:  48\n",
        "           5:  11\n",
        "           6:  11\n",
        "           7:  15\n",
        "           8:  11\n",
        "           9:  14\n",
        "          10:  15\n",
        "          11:  22\n",
        "          12:  7\n",
        "          13:  21\n",
        "          14:  31\n",
        "          15:  25\n",
        "          16:  17\n",
        "          17:  28\n",
        "           '''\n",
        "\n",
        "df.replace('?', np.nan, inplace = True) # Null values come from replacing ?\n",
        "df.replace('n', 0, inplace = True)\n",
        "df.replace('y', 1, inplace = True)\n",
        "\n",
        "df.isnull().sum()"
      ],
      "execution_count": 45,
      "outputs": [
        {
          "output_type": "execute_result",
          "data": {
            "text/plain": [
              "party                  0\n",
              "hand_infants          12\n",
              "water_project         48\n",
              "budget_adoption       11\n",
              "freeze_physicians     11\n",
              "el_salvador           15\n",
              "religion_school       11\n",
              "satellite_ban         14\n",
              "contras_aid           15\n",
              "mx_missile            22\n",
              "immigration            7\n",
              "synfuels_cutback      21\n",
              "education             31\n",
              "superfund             25\n",
              "crime                 17\n",
              "duty_free             28\n",
              "south_africa         104\n",
              "dtype: int64"
            ]
          },
          "metadata": {
            "tags": []
          },
          "execution_count": 45
        }
      ]
    },
    {
      "metadata": {
        "id": "FuxBqNoXLHRJ",
        "colab_type": "code",
        "colab": {
          "base_uri": "https://localhost:8080/",
          "height": 222
        },
        "outputId": "e3cdf17d-ab60-4dd1-fa85-44e5210605ae"
      },
      "cell_type": "code",
      "source": [
        "df.head()"
      ],
      "execution_count": 46,
      "outputs": [
        {
          "output_type": "execute_result",
          "data": {
            "text/html": [
              "<div>\n",
              "<style scoped>\n",
              "    .dataframe tbody tr th:only-of-type {\n",
              "        vertical-align: middle;\n",
              "    }\n",
              "\n",
              "    .dataframe tbody tr th {\n",
              "        vertical-align: top;\n",
              "    }\n",
              "\n",
              "    .dataframe thead th {\n",
              "        text-align: right;\n",
              "    }\n",
              "</style>\n",
              "<table border=\"1\" class=\"dataframe\">\n",
              "  <thead>\n",
              "    <tr style=\"text-align: right;\">\n",
              "      <th></th>\n",
              "      <th>party</th>\n",
              "      <th>hand_infants</th>\n",
              "      <th>water_project</th>\n",
              "      <th>budget_adoption</th>\n",
              "      <th>freeze_physicians</th>\n",
              "      <th>el_salvador</th>\n",
              "      <th>religion_school</th>\n",
              "      <th>satellite_ban</th>\n",
              "      <th>contras_aid</th>\n",
              "      <th>mx_missile</th>\n",
              "      <th>immigration</th>\n",
              "      <th>synfuels_cutback</th>\n",
              "      <th>education</th>\n",
              "      <th>superfund</th>\n",
              "      <th>crime</th>\n",
              "      <th>duty_free</th>\n",
              "      <th>south_africa</th>\n",
              "    </tr>\n",
              "  </thead>\n",
              "  <tbody>\n",
              "    <tr>\n",
              "      <th>0</th>\n",
              "      <td>republican</td>\n",
              "      <td>0.0</td>\n",
              "      <td>1.0</td>\n",
              "      <td>0.0</td>\n",
              "      <td>1.0</td>\n",
              "      <td>1.0</td>\n",
              "      <td>1.0</td>\n",
              "      <td>0.0</td>\n",
              "      <td>0.0</td>\n",
              "      <td>0.0</td>\n",
              "      <td>1.0</td>\n",
              "      <td>NaN</td>\n",
              "      <td>1.0</td>\n",
              "      <td>1.0</td>\n",
              "      <td>1.0</td>\n",
              "      <td>0.0</td>\n",
              "      <td>1.0</td>\n",
              "    </tr>\n",
              "    <tr>\n",
              "      <th>1</th>\n",
              "      <td>republican</td>\n",
              "      <td>0.0</td>\n",
              "      <td>1.0</td>\n",
              "      <td>0.0</td>\n",
              "      <td>1.0</td>\n",
              "      <td>1.0</td>\n",
              "      <td>1.0</td>\n",
              "      <td>0.0</td>\n",
              "      <td>0.0</td>\n",
              "      <td>0.0</td>\n",
              "      <td>0.0</td>\n",
              "      <td>0.0</td>\n",
              "      <td>1.0</td>\n",
              "      <td>1.0</td>\n",
              "      <td>1.0</td>\n",
              "      <td>0.0</td>\n",
              "      <td>NaN</td>\n",
              "    </tr>\n",
              "    <tr>\n",
              "      <th>2</th>\n",
              "      <td>democrat</td>\n",
              "      <td>NaN</td>\n",
              "      <td>1.0</td>\n",
              "      <td>1.0</td>\n",
              "      <td>NaN</td>\n",
              "      <td>1.0</td>\n",
              "      <td>1.0</td>\n",
              "      <td>0.0</td>\n",
              "      <td>0.0</td>\n",
              "      <td>0.0</td>\n",
              "      <td>0.0</td>\n",
              "      <td>1.0</td>\n",
              "      <td>0.0</td>\n",
              "      <td>1.0</td>\n",
              "      <td>1.0</td>\n",
              "      <td>0.0</td>\n",
              "      <td>0.0</td>\n",
              "    </tr>\n",
              "    <tr>\n",
              "      <th>3</th>\n",
              "      <td>democrat</td>\n",
              "      <td>0.0</td>\n",
              "      <td>1.0</td>\n",
              "      <td>1.0</td>\n",
              "      <td>0.0</td>\n",
              "      <td>NaN</td>\n",
              "      <td>1.0</td>\n",
              "      <td>0.0</td>\n",
              "      <td>0.0</td>\n",
              "      <td>0.0</td>\n",
              "      <td>0.0</td>\n",
              "      <td>1.0</td>\n",
              "      <td>0.0</td>\n",
              "      <td>1.0</td>\n",
              "      <td>0.0</td>\n",
              "      <td>0.0</td>\n",
              "      <td>1.0</td>\n",
              "    </tr>\n",
              "    <tr>\n",
              "      <th>4</th>\n",
              "      <td>democrat</td>\n",
              "      <td>1.0</td>\n",
              "      <td>1.0</td>\n",
              "      <td>1.0</td>\n",
              "      <td>0.0</td>\n",
              "      <td>1.0</td>\n",
              "      <td>1.0</td>\n",
              "      <td>0.0</td>\n",
              "      <td>0.0</td>\n",
              "      <td>0.0</td>\n",
              "      <td>0.0</td>\n",
              "      <td>1.0</td>\n",
              "      <td>NaN</td>\n",
              "      <td>1.0</td>\n",
              "      <td>1.0</td>\n",
              "      <td>1.0</td>\n",
              "      <td>1.0</td>\n",
              "    </tr>\n",
              "  </tbody>\n",
              "</table>\n",
              "</div>"
            ],
            "text/plain": [
              "        party  hand_infants  water_project  budget_adoption  \\\n",
              "0  republican           0.0            1.0              0.0   \n",
              "1  republican           0.0            1.0              0.0   \n",
              "2    democrat           NaN            1.0              1.0   \n",
              "3    democrat           0.0            1.0              1.0   \n",
              "4    democrat           1.0            1.0              1.0   \n",
              "\n",
              "   freeze_physicians  el_salvador  religion_school  satellite_ban  \\\n",
              "0                1.0          1.0              1.0            0.0   \n",
              "1                1.0          1.0              1.0            0.0   \n",
              "2                NaN          1.0              1.0            0.0   \n",
              "3                0.0          NaN              1.0            0.0   \n",
              "4                0.0          1.0              1.0            0.0   \n",
              "\n",
              "   contras_aid  mx_missile  immigration  synfuels_cutback  education  \\\n",
              "0          0.0         0.0          1.0               NaN        1.0   \n",
              "1          0.0         0.0          0.0               0.0        1.0   \n",
              "2          0.0         0.0          0.0               1.0        0.0   \n",
              "3          0.0         0.0          0.0               1.0        0.0   \n",
              "4          0.0         0.0          0.0               1.0        NaN   \n",
              "\n",
              "   superfund  crime  duty_free  south_africa  \n",
              "0        1.0    1.0        0.0           1.0  \n",
              "1        1.0    1.0        0.0           NaN  \n",
              "2        1.0    1.0        0.0           0.0  \n",
              "3        1.0    0.0        0.0           1.0  \n",
              "4        1.0    1.0        1.0           1.0  "
            ]
          },
          "metadata": {
            "tags": []
          },
          "execution_count": 46
        }
      ]
    },
    {
      "metadata": {
        "id": "0m70rKszLHPg",
        "colab_type": "code",
        "colab": {
          "base_uri": "https://localhost:8080/",
          "height": 86
        },
        "outputId": "cdb0ec0c-1077-4bb2-fe06-f2498b754a87"
      },
      "cell_type": "code",
      "source": [
        "dem_df = df.loc[df['party'] == 'democrat']\n",
        "rep_df = df.loc[df['party'] == 'republican']\n",
        "\n",
        "print(len(dem_df))\n",
        "print(len(rep_df))\n",
        "print(len(dem_df)+len(rep_df))\n",
        "print(len(df))"
      ],
      "execution_count": 47,
      "outputs": [
        {
          "output_type": "stream",
          "text": [
            "267\n",
            "168\n",
            "435\n",
            "435\n"
          ],
          "name": "stdout"
        }
      ]
    },
    {
      "metadata": {
        "id": "gq0Osd3WMWwI",
        "colab_type": "code",
        "colab": {
          "base_uri": "https://localhost:8080/",
          "height": 329
        },
        "outputId": "2a738d63-8812-4c8d-fc0a-119be85b7e93"
      },
      "cell_type": "code",
      "source": [
        "dem_df.isnull().sum()"
      ],
      "execution_count": 101,
      "outputs": [
        {
          "output_type": "execute_result",
          "data": {
            "text/plain": [
              "party                 0\n",
              "hand_infants          9\n",
              "water_project        28\n",
              "budget_adoption       7\n",
              "freeze_physicians     8\n",
              "el_salvador          12\n",
              "religion_school       9\n",
              "satellite_ban         8\n",
              "contras_aid           4\n",
              "mx_missile           19\n",
              "immigration           4\n",
              "synfuels_cutback     12\n",
              "education            18\n",
              "superfund            15\n",
              "crime                10\n",
              "duty_free            16\n",
              "south_africa         82\n",
              "dtype: int64"
            ]
          },
          "metadata": {
            "tags": []
          },
          "execution_count": 101
        }
      ]
    },
    {
      "metadata": {
        "id": "ahYFeZazMdtf",
        "colab_type": "code",
        "colab": {
          "base_uri": "https://localhost:8080/",
          "height": 329
        },
        "outputId": "e0de3e7b-f22b-4306-fbc2-ab8ebba8c45e"
      },
      "cell_type": "code",
      "source": [
        "rep_df.isnull().sum()"
      ],
      "execution_count": 102,
      "outputs": [
        {
          "output_type": "execute_result",
          "data": {
            "text/plain": [
              "party                 0\n",
              "hand_infants          3\n",
              "water_project        20\n",
              "budget_adoption       4\n",
              "freeze_physicians     3\n",
              "el_salvador           3\n",
              "religion_school       2\n",
              "satellite_ban         6\n",
              "contras_aid          11\n",
              "mx_missile            3\n",
              "immigration           3\n",
              "synfuels_cutback      9\n",
              "education            13\n",
              "superfund            10\n",
              "crime                 7\n",
              "duty_free            12\n",
              "south_africa         22\n",
              "dtype: int64"
            ]
          },
          "metadata": {
            "tags": []
          },
          "execution_count": 102
        }
      ]
    },
    {
      "metadata": {
        "id": "pj-Hb4vxf9sF",
        "colab_type": "code",
        "colab": {
          "base_uri": "https://localhost:8080/",
          "height": 52
        },
        "outputId": "b66b9114-719c-4cf9-8627-efa6b447518b"
      },
      "cell_type": "code",
      "source": [
        "# TEST\n",
        "\n",
        "col = 'hand_infants'\n",
        "\n",
        "print(stats.ttest_ind(dem_df[col], rep_df[col]).statistic)\n",
        "print(stats.ttest_ind(dem_df[col], rep_df[col]).pvalue)"
      ],
      "execution_count": 51,
      "outputs": [
        {
          "output_type": "stream",
          "text": [
            "nan\n",
            "nan\n"
          ],
          "name": "stdout"
        }
      ]
    },
    {
      "metadata": {
        "id": "Oy6cKCQ0sHb1",
        "colab_type": "text"
      },
      "cell_type": "markdown",
      "source": [
        "**SCIPY Stats has issues with null values, the following are calculated using functions I made that bypass the Nulls**"
      ]
    },
    {
      "metadata": {
        "id": "cWCknhJAf9oR",
        "colab_type": "code",
        "colab": {
          "base_uri": "https://localhost:8080/",
          "height": 34
        },
        "outputId": "1b867862-bf4c-4072-b76b-d9f24486417a"
      },
      "cell_type": "code",
      "source": [
        "print(t_test_2mean(dem_df[col], rep_df[col])) # No issues with nulls here"
      ],
      "execution_count": 52,
      "outputs": [
        {
          "output_type": "stream",
          "text": [
            "9.7893533959554\n"
          ],
          "name": "stdout"
        }
      ]
    },
    {
      "metadata": {
        "id": "t0GbkVrbf9m1",
        "colab_type": "code",
        "colab": {
          "base_uri": "https://localhost:8080/",
          "height": 312
        },
        "outputId": "68588ca6-2065-4d74-e7b2-8f92a1a83d09"
      },
      "cell_type": "code",
      "source": [
        "header_new = ['hand_infants', 'water_project', 'budget_adoption',\n",
        "           'freeze_physicians', 'el_salvador', 'religion_school', 'satellite_ban',\n",
        "           'contras_aid', 'mx_missile', 'immigration', 'synfuels_cutback',\n",
        "           'education','superfund','crime','duty_free', 'south_africa']\n",
        "\n",
        "print(\"    Issue                 T-Stat                            p-value\")\n",
        "\n",
        "for col in header_new:\n",
        "  deg = degrees_freedom_pooled(dem_df[col], rep_df[col])\n",
        "  tt = t_test_2mean(dem_df[col], rep_df[col])\n",
        "  pval = 2*(1-stats.t.cdf(np.abs(tt), deg))\n",
        "  print('{:<18}   {:>10}   {:>30}'.format(col,tt, pval))"
      ],
      "execution_count": 88,
      "outputs": [
        {
          "output_type": "stream",
          "text": [
            "    Issue                 T-Stat                            p-value\n",
            "hand_infants         9.7893533959554                              0.0\n",
            "water_project        -0.09446922985621549               0.9247898723223926\n",
            "budget_adoption      23.079483674193753                              0.0\n",
            "freeze_physicians    -57.47742211129807                              0.0\n",
            "el_salvador          -24.360977229831718                              0.0\n",
            "religion_school      -10.908427231203559                              0.0\n",
            "satellite_ban        12.6820892564636                              0.0\n",
            "contras_aid          18.685329068643604                              0.0\n",
            "mx_missile           17.832031483344764                              0.0\n",
            "immigration          -1.7522009422616271              0.08060020013130109\n",
            "synfuels_cutback     9.268630930517325                              0.0\n",
            "education            -21.529276094661263                              0.0\n",
            "superfund            -14.786188218075184                              0.0\n",
            "crime                -20.316720464974445                              0.0\n",
            "duty_free            14.860424121200015                              0.0\n",
            "south_africa         6.988155686925184            3.152078598134267e-11\n"
          ],
          "name": "stdout"
        }
      ]
    },
    {
      "metadata": {
        "id": "dZpfV9oBsxNd",
        "colab_type": "code",
        "colab": {
          "base_uri": "https://localhost:8080/",
          "height": 574
        },
        "outputId": "c849b91b-f2b3-45d4-88a8-21f8ea3cc1e7"
      },
      "cell_type": "code",
      "source": [
        "# Uploading data into Pandas\n",
        "\n",
        "issues = []\n",
        "for col in header_new:\n",
        "  dem_mean = 100*dem_df[col].mean()\n",
        "  rep_mean = 100*rep_df[col].mean()\n",
        "  diff = dem_mean - rep_mean\n",
        "  deg = degrees_freedom_pooled(dem_df[col], rep_df[col])\n",
        "  tt = t_test_2mean(dem_df[col], rep_df[col])\n",
        "  pval = 2*(1-stats.t.cdf(np.abs(tt), deg))\n",
        "  issues.append({'0_Issue': col, '1_Dem_mean%': dem_mean, '2_Rep_mean%': rep_mean,\n",
        "                 '3_Difference':diff,'4_T-Stat': tt, '4_P-Value': pval, '5_DF': deg}) # List of dictionaries\n",
        "  \n",
        "print(\"Issues that Democrats favor vs Republicans \\n\")\n",
        "\n",
        "pd.DataFrame(issues)"
      ],
      "execution_count": 103,
      "outputs": [
        {
          "output_type": "stream",
          "text": [
            "Issues that Democrats favor vs Republicans \n",
            "\n"
          ],
          "name": "stdout"
        },
        {
          "output_type": "execute_result",
          "data": {
            "text/html": [
              "<div>\n",
              "<style scoped>\n",
              "    .dataframe tbody tr th:only-of-type {\n",
              "        vertical-align: middle;\n",
              "    }\n",
              "\n",
              "    .dataframe tbody tr th {\n",
              "        vertical-align: top;\n",
              "    }\n",
              "\n",
              "    .dataframe thead th {\n",
              "        text-align: right;\n",
              "    }\n",
              "</style>\n",
              "<table border=\"1\" class=\"dataframe\">\n",
              "  <thead>\n",
              "    <tr style=\"text-align: right;\">\n",
              "      <th></th>\n",
              "      <th>0_Issue</th>\n",
              "      <th>1_Dem_mean%</th>\n",
              "      <th>2_Rep_mean%</th>\n",
              "      <th>3_Difference</th>\n",
              "      <th>4_P-Value</th>\n",
              "      <th>4_T-Stat</th>\n",
              "      <th>5_DF</th>\n",
              "    </tr>\n",
              "  </thead>\n",
              "  <tbody>\n",
              "    <tr>\n",
              "      <th>0</th>\n",
              "      <td>hand_infants</td>\n",
              "      <td>60.465116</td>\n",
              "      <td>18.787879</td>\n",
              "      <td>41.677237</td>\n",
              "      <td>0.000000e+00</td>\n",
              "      <td>9.789353</td>\n",
              "      <td>408</td>\n",
              "    </tr>\n",
              "    <tr>\n",
              "      <th>1</th>\n",
              "      <td>water_project</td>\n",
              "      <td>50.209205</td>\n",
              "      <td>50.675676</td>\n",
              "      <td>-0.466471</td>\n",
              "      <td>9.247899e-01</td>\n",
              "      <td>-0.094469</td>\n",
              "      <td>354</td>\n",
              "    </tr>\n",
              "    <tr>\n",
              "      <th>2</th>\n",
              "      <td>budget_adoption</td>\n",
              "      <td>88.846154</td>\n",
              "      <td>13.414634</td>\n",
              "      <td>75.431520</td>\n",
              "      <td>0.000000e+00</td>\n",
              "      <td>23.079484</td>\n",
              "      <td>333</td>\n",
              "    </tr>\n",
              "    <tr>\n",
              "      <th>3</th>\n",
              "      <td>freeze_physicians</td>\n",
              "      <td>5.405405</td>\n",
              "      <td>98.787879</td>\n",
              "      <td>-93.382473</td>\n",
              "      <td>0.000000e+00</td>\n",
              "      <td>-57.477422</td>\n",
              "      <td>410</td>\n",
              "    </tr>\n",
              "    <tr>\n",
              "      <th>4</th>\n",
              "      <td>el_salvador</td>\n",
              "      <td>21.568627</td>\n",
              "      <td>95.151515</td>\n",
              "      <td>-73.582888</td>\n",
              "      <td>0.000000e+00</td>\n",
              "      <td>-24.360977</td>\n",
              "      <td>420</td>\n",
              "    </tr>\n",
              "    <tr>\n",
              "      <th>5</th>\n",
              "      <td>religion_school</td>\n",
              "      <td>47.674419</td>\n",
              "      <td>89.759036</td>\n",
              "      <td>-42.084618</td>\n",
              "      <td>0.000000e+00</td>\n",
              "      <td>-10.908427</td>\n",
              "      <td>432</td>\n",
              "    </tr>\n",
              "    <tr>\n",
              "      <th>6</th>\n",
              "      <td>satellite_ban</td>\n",
              "      <td>77.220077</td>\n",
              "      <td>24.074074</td>\n",
              "      <td>53.146003</td>\n",
              "      <td>0.000000e+00</td>\n",
              "      <td>12.682089</td>\n",
              "      <td>349</td>\n",
              "    </tr>\n",
              "    <tr>\n",
              "      <th>7</th>\n",
              "      <td>contras_aid</td>\n",
              "      <td>82.889734</td>\n",
              "      <td>15.286624</td>\n",
              "      <td>67.603110</td>\n",
              "      <td>0.000000e+00</td>\n",
              "      <td>18.685329</td>\n",
              "      <td>366</td>\n",
              "    </tr>\n",
              "    <tr>\n",
              "      <th>8</th>\n",
              "      <td>mx_missile</td>\n",
              "      <td>75.806452</td>\n",
              "      <td>11.515152</td>\n",
              "      <td>64.291300</td>\n",
              "      <td>0.000000e+00</td>\n",
              "      <td>17.832031</td>\n",
              "      <td>420</td>\n",
              "    </tr>\n",
              "    <tr>\n",
              "      <th>9</th>\n",
              "      <td>immigration</td>\n",
              "      <td>47.148289</td>\n",
              "      <td>55.757576</td>\n",
              "      <td>-8.609287</td>\n",
              "      <td>8.060020e-02</td>\n",
              "      <td>-1.752201</td>\n",
              "      <td>356</td>\n",
              "    </tr>\n",
              "    <tr>\n",
              "      <th>10</th>\n",
              "      <td>synfuels_cutback</td>\n",
              "      <td>50.588235</td>\n",
              "      <td>13.207547</td>\n",
              "      <td>37.380688</td>\n",
              "      <td>0.000000e+00</td>\n",
              "      <td>9.268631</td>\n",
              "      <td>430</td>\n",
              "    </tr>\n",
              "    <tr>\n",
              "      <th>11</th>\n",
              "      <td>education</td>\n",
              "      <td>14.457831</td>\n",
              "      <td>87.096774</td>\n",
              "      <td>-72.638943</td>\n",
              "      <td>0.000000e+00</td>\n",
              "      <td>-21.529276</td>\n",
              "      <td>367</td>\n",
              "    </tr>\n",
              "    <tr>\n",
              "      <th>12</th>\n",
              "      <td>superfund</td>\n",
              "      <td>28.968254</td>\n",
              "      <td>86.075949</td>\n",
              "      <td>-57.107695</td>\n",
              "      <td>0.000000e+00</td>\n",
              "      <td>-14.786188</td>\n",
              "      <td>416</td>\n",
              "    </tr>\n",
              "    <tr>\n",
              "      <th>13</th>\n",
              "      <td>crime</td>\n",
              "      <td>35.019455</td>\n",
              "      <td>98.136646</td>\n",
              "      <td>-63.117191</td>\n",
              "      <td>0.000000e+00</td>\n",
              "      <td>-20.316720</td>\n",
              "      <td>329</td>\n",
              "    </tr>\n",
              "    <tr>\n",
              "      <th>14</th>\n",
              "      <td>duty_free</td>\n",
              "      <td>63.745020</td>\n",
              "      <td>8.974359</td>\n",
              "      <td>54.770661</td>\n",
              "      <td>0.000000e+00</td>\n",
              "      <td>14.860424</td>\n",
              "      <td>431</td>\n",
              "    </tr>\n",
              "    <tr>\n",
              "      <th>15</th>\n",
              "      <td>south_africa</td>\n",
              "      <td>93.513514</td>\n",
              "      <td>65.753425</td>\n",
              "      <td>27.760089</td>\n",
              "      <td>3.152079e-11</td>\n",
              "      <td>6.988156</td>\n",
              "      <td>224</td>\n",
              "    </tr>\n",
              "  </tbody>\n",
              "</table>\n",
              "</div>"
            ],
            "text/plain": [
              "              0_Issue  1_Dem_mean%  2_Rep_mean%  3_Difference     4_P-Value  \\\n",
              "0        hand_infants    60.465116    18.787879     41.677237  0.000000e+00   \n",
              "1       water_project    50.209205    50.675676     -0.466471  9.247899e-01   \n",
              "2     budget_adoption    88.846154    13.414634     75.431520  0.000000e+00   \n",
              "3   freeze_physicians     5.405405    98.787879    -93.382473  0.000000e+00   \n",
              "4         el_salvador    21.568627    95.151515    -73.582888  0.000000e+00   \n",
              "5     religion_school    47.674419    89.759036    -42.084618  0.000000e+00   \n",
              "6       satellite_ban    77.220077    24.074074     53.146003  0.000000e+00   \n",
              "7         contras_aid    82.889734    15.286624     67.603110  0.000000e+00   \n",
              "8          mx_missile    75.806452    11.515152     64.291300  0.000000e+00   \n",
              "9         immigration    47.148289    55.757576     -8.609287  8.060020e-02   \n",
              "10   synfuels_cutback    50.588235    13.207547     37.380688  0.000000e+00   \n",
              "11          education    14.457831    87.096774    -72.638943  0.000000e+00   \n",
              "12          superfund    28.968254    86.075949    -57.107695  0.000000e+00   \n",
              "13              crime    35.019455    98.136646    -63.117191  0.000000e+00   \n",
              "14          duty_free    63.745020     8.974359     54.770661  0.000000e+00   \n",
              "15       south_africa    93.513514    65.753425     27.760089  3.152079e-11   \n",
              "\n",
              "     4_T-Stat  5_DF  \n",
              "0    9.789353   408  \n",
              "1   -0.094469   354  \n",
              "2   23.079484   333  \n",
              "3  -57.477422   410  \n",
              "4  -24.360977   420  \n",
              "5  -10.908427   432  \n",
              "6   12.682089   349  \n",
              "7   18.685329   366  \n",
              "8   17.832031   420  \n",
              "9   -1.752201   356  \n",
              "10   9.268631   430  \n",
              "11 -21.529276   367  \n",
              "12 -14.786188   416  \n",
              "13 -20.316720   329  \n",
              "14  14.860424   431  \n",
              "15   6.988156   224  "
            ]
          },
          "metadata": {
            "tags": []
          },
          "execution_count": 103
        }
      ]
    },
    {
      "metadata": {
        "id": "qVuPY89dPuJB",
        "colab_type": "text"
      },
      "cell_type": "markdown",
      "source": [
        "### Issues that Democrats support more than Republicans with p < 0.01\n",
        "\n",
        "**2. handicapped-infants: 2 (y,n)**\n",
        "\n",
        "** 4. adoption-of-the-budget-resolution: 2 (y,n)**\n",
        "   \n",
        "**8. anti-satellite-test-ban: 2 (y,n)**\n",
        "  \n",
        "**9. aid-to-nicaraguan-contras: 2 (y,n)**\n",
        " \n",
        "**10. mx-missile: 2 (y,n)**\n",
        " \n",
        "**12. synfuels-corporation-cutback: 2 (y,n)**\n",
        " \n",
        "**16. duty-free-exports: 2 (y,n)**\n",
        "  \n",
        "** 17. export-administration-act-south-africa: 2 (y,n) **"
      ]
    },
    {
      "metadata": {
        "id": "PEhP6ORyP-Es",
        "colab_type": "text"
      },
      "cell_type": "markdown",
      "source": [
        "### Issues that Republicans support more than Democrats with p < 0.01\n",
        "\n",
        "  \n",
        "**5. physician-fee-freeze: 2 (y,n)**\n",
        " \n",
        "**6. el-salvador-aid: 2 (y,n)**\n",
        " \n",
        "**7. religious-groups-in-schools: 2 (y,n)**\n",
        " \n",
        "**11. immigration: 2 (y,n)**\n",
        " \n",
        "**13. education-spending: 2 (y,n)**\n",
        " \n",
        "**14. superfund-right-to-sue: 2 (y,n)**\n",
        " \n",
        "**15. crime: 2 (y,n)**\n",
        " \n"
      ]
    },
    {
      "metadata": {
        "id": "VcPjkUtIQHTk",
        "colab_type": "text"
      },
      "cell_type": "markdown",
      "source": [
        "### Issues that neither party supports more than the other (p > 0.01) \n",
        "\n",
        "   \n",
        " **  3. water-project-cost-sharing: 2 (y,n)**\n",
        "  \n"
      ]
    }
  ]
}