{
  "nbformat": 4,
  "nbformat_minor": 0,
  "metadata": {
    "colab": {
      "name": "2019-06-13_office hour_DS5_Sprint_Challenge_preview.ipynb",
      "version": "0.3.2",
      "provenance": [],
      "collapsed_sections": [],
      "include_colab_link": true
    },
    "kernelspec": {
      "name": "python3",
      "display_name": "Python 3"
    }
  },
  "cells": [
    {
      "cell_type": "markdown",
      "metadata": {
        "id": "view-in-github",
        "colab_type": "text"
      },
      "source": [
        "<a href=\"https://colab.research.google.com/github/Nov05/DS-Unit-1-Sprint-3-Statistical-Tests-and-Experiments/blob/master/others/2019_06_13_office_hour_DS5_Sprint_Challenge_preview.ipynb\" target=\"_parent\"><img src=\"https://colab.research.google.com/assets/colab-badge.svg\" alt=\"Open In Colab\"/></a>"
      ]
    },
    {
      "cell_type": "code",
      "metadata": {
        "id": "DBD0uvxdW6Y9",
        "colab_type": "code",
        "colab": {}
      },
      "source": [
        "# modified by nov05\n",
        "# originally written by Elizabeth Ter Sahakyan\n",
        "# DS-Unit-1-Sprint-3-Statistical-Tests-and-Experiments\n",
        "# others/"
      ],
      "execution_count": 0,
      "outputs": []
    },
    {
      "cell_type": "code",
      "metadata": {
        "id": "22ZJo1V9ruio",
        "colab_type": "code",
        "colab": {}
      },
      "source": [
        "from scipy import stats\n",
        "from scipy.stats import norm, sem, t, ttest_1samp, ttest_ind\n",
        "from numpy import sqrt \n",
        "import seaborn as sns\n",
        "import numpy as np\n",
        "import pandas as pd\n",
        "import matplotlib.pyplot as plt"
      ],
      "execution_count": 0,
      "outputs": []
    },
    {
      "cell_type": "code",
      "metadata": {
        "id": "71EG5ntgsmAA",
        "colab_type": "code",
        "colab": {
          "base_uri": "https://localhost:8080/",
          "height": 52
        },
        "outputId": "ae282007-760c-4014-fa6d-4336de1ef4ed"
      },
      "source": [
        "# normal distribution\n",
        "sample1 = norm(20.14458, 6.4147).rvs(249)\n",
        "sample2 = norm(30.48101, 6.10771).rvs(79)\n",
        "sample1[:10]"
      ],
      "execution_count": 18,
      "outputs": [
        {
          "output_type": "execute_result",
          "data": {
            "text/plain": [
              "array([12.19990106, 18.19283539, 30.56896809, 15.13903528, 20.9396646 ,\n",
              "       24.18497716, 16.39799059, 14.65927278, 17.12496045, 22.55539453])"
            ]
          },
          "metadata": {
            "tags": []
          },
          "execution_count": 18
        }
      ]
    },
    {
      "cell_type": "code",
      "metadata": {
        "id": "lxA4ysdyY3hI",
        "colab_type": "code",
        "colab": {
          "base_uri": "https://localhost:8080/",
          "height": 214
        },
        "outputId": "adf57194-4f05-44cd-fdcc-c889298c5ea7"
      },
      "source": [
        "plt.figure(figsize=(12, 3))\n",
        "plt.subplot(1, 2, 1)\n",
        "plt.hist(sample1, bins=40)\n",
        "plt.subplot(1, 2, 2)\n",
        "sns.distplot(sample1, bins=40);"
      ],
      "execution_count": 69,
      "outputs": [
        {
          "output_type": "display_data",
          "data": {
            "image/png": "[encoded data removed]",
            "text/plain": [
              "<Figure size 864x216 with 2 Axes>"
            ]
          },
          "metadata": {
            "tags": []
          }
        }
      ]
    },
    {
      "cell_type": "code",
      "metadata": {
        "id": "Arh8f5ZFtpSP",
        "colab_type": "code",
        "outputId": "41d8aa5d-84ec-467f-ae6a-20a498b09f51",
        "colab": {
          "base_uri": "https://localhost:8080/",
          "height": 87
        }
      },
      "source": [
        "# t-statistic for two samples\n",
        "print(len(sample1), len(sample2))\n",
        "print(ttest_ind(sample1, sample2, equal_var=True))\n",
        "print(ttest_ind(sample1, sample2, equal_var=False)) # important\n",
        "t1 = ((sample1.mean() - sample2.mean()) \n",
        "      / sqrt((sample1.var(ddof=1)/len(sample1)) \n",
        "             + (sample2.var(ddof=1)/len(sample2)))\n",
        "     )\n",
        "print(t1)"
      ],
      "execution_count": 35,
      "outputs": [
        {
          "output_type": "stream",
          "text": [
            "249 79\n",
            "Ttest_indResult(statistic=-13.775221326483631, pvalue=2.4312337112832564e-34)\n",
            "Ttest_indResult(statistic=-14.500980995809403, pvalue=6.80173589641557e-30)\n",
            "-14.500980995809403\n"
          ],
          "name": "stdout"
        }
      ]
    },
    {
      "cell_type": "markdown",
      "metadata": {
        "id": "ajRiKcFYwGMB",
        "colab_type": "text"
      },
      "source": [
        "https://docs.scipy.org/doc/scipy-0.14.0/reference/generated/scipy.stats.levene.html  \n",
        "*Three variations of Levene’s test are possible. The possibilities and their recommended usages are:*  \n",
        "‘median’ : Recommended for skewed (non-normal) distributions  \n",
        "‘mean’ : Recommended for symmetric, moderate-tailed distributions.  \n",
        "‘trimmed’ : Recommended for heavy-tailed distributions.  "
      ]
    },
    {
      "cell_type": "code",
      "metadata": {
        "id": "-LG3UvxGj5bZ",
        "colab_type": "code",
        "colab": {
          "base_uri": "https://localhost:8080/",
          "height": 34
        },
        "outputId": "37d5dddb-16b4-4156-e1ae-72d1220b64d9"
      },
      "source": [
        "stats.levene(sample1, sample2, \n",
        "             center='mean') # default 'median'"
      ],
      "execution_count": 36,
      "outputs": [
        {
          "output_type": "execute_result",
          "data": {
            "text/plain": [
              "LeveneResult(statistic=0.7896061630301027, pvalue=0.3748744172102779)"
            ]
          },
          "metadata": {
            "tags": []
          },
          "execution_count": 36
        }
      ]
    },
    {
      "cell_type": "code",
      "metadata": {
        "id": "EJ3a7y04wp_6",
        "colab_type": "code",
        "colab": {}
      },
      "source": [
        "# Confidence level + alpha = 1\n",
        "alpha = 0.05\n",
        "q = 1 - alpha/2"
      ],
      "execution_count": 0,
      "outputs": []
    },
    {
      "cell_type": "markdown",
      "metadata": {
        "id": "ySX6ncNzxlFI",
        "colab_type": "text"
      },
      "source": [
        "We reject the null hypothesis if\n",
        "\n",
        "|T| > t1-α/2,ν\n",
        "\n",
        "\n",
        "so T = -12.1\n",
        "and alpha = 0.975\n",
        "\n",
        "\n",
        "We reject the null hypothesis\n",
        "\n",
        "https://docs.scipy.org/doc/scipy-0.14.0/reference/generated/scipy.stats.t.html  "
      ]
    },
    {
      "cell_type": "code",
      "metadata": {
        "id": "ZDyLFh41yy_Z",
        "colab_type": "code",
        "colab": {
          "base_uri": "https://localhost:8080/",
          "height": 34
        },
        "outputId": "26adb76e-d72a-4aea-ddd5-5f0eff872ed7"
      },
      "source": [
        "# t.ppf takes 2 arguements (probaility, n-1)\n",
        "# if you are using two samples, use the one w/ the smaller n\n",
        "# as we increase dof the t distribution aprroximates the normal dist \n",
        "# (t score approaches z-score) as t dist approaches normal\n",
        "\n",
        "# t distribution graph represents a distribution of sample means\n",
        "# if you have a population, and sample from the population repeatedly, and plot\n",
        "# the dist of means, it will have a t dist (thats w/ a small sample size)\n",
        "# once the sample size gets larger it becomes normal and you can use approaches \n",
        "# that derive from the normal dist\n",
        "\n",
        "# the dof of the t dist is the number of sample means \n",
        "\n",
        "# you can use the https://homepage.divms.uiowa.edu/~mbognar/applets/t.html \n",
        "# calc for looking at the t dist\n",
        "\n",
        "\n",
        "t_stat = t.ppf(q, 1000)\n",
        "t_stat"
      ],
      "execution_count": 44,
      "outputs": [
        {
          "output_type": "execute_result",
          "data": {
            "text/plain": [
              "1.9623390808264074"
            ]
          },
          "metadata": {
            "tags": []
          },
          "execution_count": 44
        }
      ]
    },
    {
      "cell_type": "code",
      "metadata": {
        "id": "mpaFD_qG26Be",
        "colab_type": "code",
        "outputId": "9da24358-b870-42b9-a831-ad62257ab2a7",
        "colab": {
          "base_uri": "https://localhost:8080/",
          "height": 34
        }
      },
      "source": [
        "# standard error of measure\n",
        "stderr = sem(sample1)\n",
        "stderr"
      ],
      "execution_count": 45,
      "outputs": [
        {
          "output_type": "execute_result",
          "data": {
            "text/plain": [
              "0.3690819851203897"
            ]
          },
          "metadata": {
            "tags": []
          },
          "execution_count": 45
        }
      ]
    },
    {
      "cell_type": "code",
      "metadata": {
        "id": "zFLmLm2s3wws",
        "colab_type": "code",
        "outputId": "aa192a1c-63e4-40f5-d479-b239189aad19",
        "colab": {
          "base_uri": "https://localhost:8080/",
          "height": 34
        }
      },
      "source": [
        "# margin of error\n",
        "MOE = t_stat * stderr\n",
        "MOE"
      ],
      "execution_count": 46,
      "outputs": [
        {
          "output_type": "execute_result",
          "data": {
            "text/plain": [
              "0.7242640034307313"
            ]
          },
          "metadata": {
            "tags": []
          },
          "execution_count": 46
        }
      ]
    },
    {
      "cell_type": "code",
      "metadata": {
        "id": "yD1ILTMJ382J",
        "colab_type": "code",
        "outputId": "a69c06ec-f62c-433b-965a-ced8cf1b5b98",
        "colab": {
          "base_uri": "https://localhost:8080/",
          "height": 34
        }
      },
      "source": [
        "# confidence interval\n",
        "ci = ((sample1.mean()-MOE), (sample1.mean()+MOE))\n",
        "ci"
      ],
      "execution_count": 48,
      "outputs": [
        {
          "output_type": "execute_result",
          "data": {
            "text/plain": [
              "(20.3898194703056, 21.838347477167066)"
            ]
          },
          "metadata": {
            "tags": []
          },
          "execution_count": 48
        }
      ]
    },
    {
      "cell_type": "code",
      "metadata": {
        "id": "AGAM6z0Q1yS_",
        "colab_type": "code",
        "outputId": "edd78497-90af-46cf-adc8-2e5327599ae1",
        "colab": {
          "base_uri": "https://localhost:8080/",
          "height": 269
        }
      },
      "source": [
        "# t-statistic only applies to t-distribution\n",
        "# this is a sample distribution\n",
        "\n",
        "# as sample size gets bigger, confidence interval estimates get smaller bc we can be more precise\n",
        "# as the confidence level we are looking for gets bigger, our confidence interval is smaller \n",
        "# as our confidence level goes up, the confidence interval gets bigger\n",
        "\n",
        "# alpha value and confidence interval move in opposite directions\n",
        "# if alpha decreases, the confidence level and the confidence interval both increase\n",
        "\n",
        "ax = sns.distplot(sample1, bins=40)\n",
        "ax.axvline(x=ci[0], color='r')\n",
        "ax.axvline(x=ci[1], color='r');\n"
      ],
      "execution_count": 56,
      "outputs": [
        {
          "output_type": "display_data",
          "data": {
            "image/png": "[encoded data removed]",
            "text/plain": [
              "<Figure size 432x288 with 1 Axes>"
            ]
          },
          "metadata": {
            "tags": []
          }
        }
      ]
    },
    {
      "cell_type": "code",
      "metadata": {
        "id": "wwzRsqWpGMpR",
        "colab_type": "code",
        "colab": {
          "base_uri": "https://localhost:8080/",
          "height": 34
        },
        "outputId": "26df28f5-7199-45cc-8e62-50774a73f305"
      },
      "source": [
        "# to do a 1 sample t-test:\n",
        "# ttest_1samp(<sample 1>, <null hypothesis>, nan_policy='omit' )\n",
        "\n",
        "# to do a 2 sample t test:\n",
        "ttest_ind(sample1, sample2, nan_policy='omit',\n",
        "          equal_var=False # default True\n",
        "         )"
      ],
      "execution_count": 57,
      "outputs": [
        {
          "output_type": "execute_result",
          "data": {
            "text/plain": [
              "Ttest_indResult(statistic=-14.500980995809403, pvalue=6.80173589641557e-30)"
            ]
          },
          "metadata": {
            "tags": []
          },
          "execution_count": 57
        }
      ]
    },
    {
      "cell_type": "markdown",
      "metadata": {
        "id": "zMm9T9hL1xBy",
        "colab_type": "text"
      },
      "source": [
        "https://homepage.stat.uiowa.edu/~mbognar/applets/chisq.html  \n",
        "https://docs.scipy.org/doc/scipy/reference/generated/scipy.stats.chi2_contingency.html  "
      ]
    },
    {
      "cell_type": "code",
      "metadata": {
        "id": "TAlVg6t_sroX",
        "colab_type": "code",
        "colab": {}
      },
      "source": [
        "# chi squared tests for independence between two variables\n",
        "\n",
        "# chi squared value increases, p value is lower\n",
        "# chi squared tests for independence btwn categorical variables\n",
        "\n",
        "# dof makes the chi squared values very broad\n",
        "# you can calculate dof: (rows - 1) * (cols - 1)\n",
        "\n",
        "# scipy.stats can be used for chi squared tests\n",
        "# use scipy.stats.chi2_contingency (contingency table here w/o the margins!!)\n",
        "# returns [chi squared stat, p- val , dof, expected value contingency table]\n"
      ],
      "execution_count": 0,
      "outputs": []
    },
    {
      "cell_type": "markdown",
      "metadata": {
        "id": "fKolZiAISiws",
        "colab_type": "text"
      },
      "source": [
        "<img src=\"https://image.slidesharecdn.com/chisquaretestfinal-140131063217-phpapp02/95/chi-square-test-final-39-638.jpg\" width=\"300\">    "
      ]
    },
    {
      "cell_type": "markdown",
      "metadata": {
        "id": "YXBLbUhr-huj",
        "colab_type": "text"
      },
      "source": [
        "Expected Value Calculation\n",
        "\n",
        "\n",
        "\\begin{align}\n",
        "expected_{i,j} =\\frac{(row_{i} \\text{total})(column_{j} \\text{total}) }{(\\text{total observations})}  \n",
        "\\end{align}"
      ]
    },
    {
      "cell_type": "markdown",
      "metadata": {
        "id": "XjQmMqJNBNfv",
        "colab_type": "text"
      },
      "source": [
        "## Chi-Squared Statistic with Numpy\n",
        "\n",
        "\\begin{align}\n",
        "\\chi^2 = \\sum \\frac{(observed_{i}-expected_{i})^2}{(expected_{i})}\n",
        "\\end{align}\n",
        "\n",
        "For the $observed$ values we will just use a version of our contingency table without the margins as a numpy array. In this way, if our observed values array and our expected values array are the same shape, then we can subtract them and divide them directly which makes the calculations a lot cleaner. No for loops!"
      ]
    },
    {
      "cell_type": "code",
      "metadata": {
        "id": "50bu8m0EAeSJ",
        "colab_type": "code",
        "colab": {}
      },
      "source": [
        "# you can use this after you have the numpy arrays in the same shape\n",
        "chi_squared = ((observed - expected)**2/(expected)).sum()"
      ],
      "execution_count": 0,
      "outputs": []
    },
    {
      "cell_type": "markdown",
      "metadata": {
        "id": "HLanrr8yENVP",
        "colab_type": "text"
      },
      "source": [
        "4 parts to hypothesis tests:\n",
        "\n",
        "- null hypothesis\n",
        "- alt hypothesis\n",
        "- test statistic (t statistic or chi squared statistic)  **test statistic is just a general term for any statistic that comes out of a hypothesis test**  \n",
        "- p-value\n",
        "\n"
      ]
    }
  ]
}