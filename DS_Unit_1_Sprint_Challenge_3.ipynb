{
  "nbformat": 4,
  "nbformat_minor": 0,
  "metadata": {
    "colab": {
      "name": "DS_Unit_1_Sprint_Challenge_3.ipynb",
      "version": "0.3.2",
      "provenance": [],
      "collapsed_sections": [],
      "include_colab_link": true
    },
    "kernelspec": {
      "name": "python3",
      "display_name": "Python 3"
    }
  },
  "cells": [
    {
      "cell_type": "markdown",
      "metadata": {
        "id": "view-in-github",
        "colab_type": "text"
      },
      "source": [
        "<a href=\"https://colab.research.google.com/github/elizabethts/DS-Unit-1-Sprint-3-Statistical-Tests-and-Experiments/blob/master/DS_Unit_1_Sprint_Challenge_3.ipynb\" target=\"_parent\"><img src=\"https://colab.research.google.com/assets/colab-badge.svg\" alt=\"Open In Colab\"/></a>"
      ]
    },
    {
      "cell_type": "markdown",
      "metadata": {
        "id": "NooAiTdnafkz",
        "colab_type": "text"
      },
      "source": [
        "# Data Science Unit 1 Sprint Challenge 3\n",
        "\n",
        "## Exploring Data, Testing Hypotheses\n",
        "\n",
        "In this sprint challenge you will look at a dataset of people being approved or rejected for credit.\n",
        "\n",
        "https://archive.ics.uci.edu/ml/datasets/Credit+Approval\n",
        "\n",
        "Data Set Information: This file concerns credit card applications. All attribute names and values have been changed to meaningless symbols to protect confidentiality of the data. This dataset is interesting because there is a good mix of attributes -- continuous, nominal with small numbers of values, and nominal with larger numbers of values. There are also a few missing values.\n",
        "\n",
        "Attribute Information:\n",
        "- A1: b, a.\n",
        "- A2: continuous.\n",
        "- A3: continuous.\n",
        "- A4: u, y, l, t.\n",
        "- A5: g, p, gg.\n",
        "- A6: c, d, cc, i, j, k, m, r, q, w, x, e, aa, ff.\n",
        "- A7: v, h, bb, j, n, z, dd, ff, o.\n",
        "- A8: continuous.\n",
        "- A9: t, f.\n",
        "- A10: t, f.\n",
        "- A11: continuous.\n",
        "- A12: t, f.\n",
        "- A13: g, p, s.\n",
        "- A14: continuous.\n",
        "- A15: continuous.\n",
        "- A16: +,- (class attribute)\n",
        "\n",
        "Yes, most of that doesn't mean anything. A16 (the class attribute) is the most interesting, as it separates the 307 approved cases from the 383 rejected cases. The remaining variables have been obfuscated for privacy - a challenge you may have to deal with in your data science career.\n",
        "\n",
        "Sprint challenges are evaluated based on satisfactory completion of each part. It is suggested you work through it in order, getting each aspect reasonably working, before trying to deeply explore, iterate, or refine any given step. Once you get to the end, if you want to go back and improve things, go for it!"
      ]
    },
    {
      "cell_type": "markdown",
      "metadata": {
        "id": "5wch6ksCbJtZ",
        "colab_type": "text"
      },
      "source": [
        "## Part 1 - Load and validate the data\n",
        "\n",
        "- Load the data as a `pandas` data frame.\n",
        "- Validate that it has the appropriate number of observations (you can check the raw file, and also read the dataset description from UCI).\n",
        "- UCI says there should be missing data - check, and if necessary change the data so pandas recognizes it as na\n",
        "- Make sure that the loaded features are of the types described above (continuous values should be treated as float), and correct as necessary\n",
        "\n",
        "This is review, but skills that you'll use at the start of any data exploration. Further, you may have to do some investigation to figure out which file to load from - that is part of the puzzle."
      ]
    },
    {
      "cell_type": "code",
      "metadata": {
        "id": "MB6D3g6fgyog",
        "colab_type": "code",
        "colab": {}
      },
      "source": [
        "import pandas as pd\n",
        "from scipy.stats import norm, sem, t, ttest_1samp, ttest_ind, chi2_contingency\n",
        "import numpy as np\n",
        "import seaborn as sns\n",
        "import matplotlib.pyplot as plt"
      ],
      "execution_count": 0,
      "outputs": []
    },
    {
      "cell_type": "code",
      "metadata": {
        "id": "Q79xDLckzibS",
        "colab_type": "code",
        "outputId": "3cd448e1-7bb9-469a-f1dd-444bb1d19bdc",
        "colab": {
          "base_uri": "https://localhost:8080/",
          "height": 204
        }
      },
      "source": [
        "url = 'https://archive.ics.uci.edu/ml/machine-learning-databases/credit-screening/crx.data'\n",
        "column_headers = ['A1', 'A2','A3', 'A4','A5', 'A6','A7', 'A8','A9', 'A10','A11'\n",
        "                  ,'A12', 'A13','A14', 'A15','A16']\n",
        "df = pd.read_csv(url, names = column_headers)\n",
        "\n",
        "#fix NaN values\n",
        "nan_values = {'?': np.nan}\n",
        "df = df.replace(nan_values)\n",
        "\n",
        "#convert continuous variables to floats\n",
        "df['A2'] = pd.to_numeric(df['A2'], errors='coerce')\n",
        "df['A14'] = pd.to_numeric(df['A14'], errors='coerce')\n",
        "df['A11'] = df['A11'].astype(float)\n",
        "df['A15'] = df['A15'].astype(float)\n",
        "\n",
        "df.head()"
      ],
      "execution_count": 0,
      "outputs": [
        {
          "output_type": "execute_result",
          "data": {
            "text/html": [
              "<div>\n",
              "<style scoped>\n",
              "    .dataframe tbody tr th:only-of-type {\n",
              "        vertical-align: middle;\n",
              "    }\n",
              "\n",
              "    .dataframe tbody tr th {\n",
              "        vertical-align: top;\n",
              "    }\n",
              "\n",
              "    .dataframe thead th {\n",
              "        text-align: right;\n",
              "    }\n",
              "</style>\n",
              "<table border=\"1\" class=\"dataframe\">\n",
              "  <thead>\n",
              "    <tr style=\"text-align: right;\">\n",
              "      <th></th>\n",
              "      <th>A1</th>\n",
              "      <th>A2</th>\n",
              "      <th>A3</th>\n",
              "      <th>A4</th>\n",
              "      <th>A5</th>\n",
              "      <th>A6</th>\n",
              "      <th>A7</th>\n",
              "      <th>A8</th>\n",
              "      <th>A9</th>\n",
              "      <th>A10</th>\n",
              "      <th>A11</th>\n",
              "      <th>A12</th>\n",
              "      <th>A13</th>\n",
              "      <th>A14</th>\n",
              "      <th>A15</th>\n",
              "      <th>A16</th>\n",
              "    </tr>\n",
              "  </thead>\n",
              "  <tbody>\n",
              "    <tr>\n",
              "      <th>0</th>\n",
              "      <td>b</td>\n",
              "      <td>30.83</td>\n",
              "      <td>0.000</td>\n",
              "      <td>u</td>\n",
              "      <td>g</td>\n",
              "      <td>w</td>\n",
              "      <td>v</td>\n",
              "      <td>1.25</td>\n",
              "      <td>t</td>\n",
              "      <td>t</td>\n",
              "      <td>1.0</td>\n",
              "      <td>f</td>\n",
              "      <td>g</td>\n",
              "      <td>202.0</td>\n",
              "      <td>0.0</td>\n",
              "      <td>+</td>\n",
              "    </tr>\n",
              "    <tr>\n",
              "      <th>1</th>\n",
              "      <td>a</td>\n",
              "      <td>58.67</td>\n",
              "      <td>4.460</td>\n",
              "      <td>u</td>\n",
              "      <td>g</td>\n",
              "      <td>q</td>\n",
              "      <td>h</td>\n",
              "      <td>3.04</td>\n",
              "      <td>t</td>\n",
              "      <td>t</td>\n",
              "      <td>6.0</td>\n",
              "      <td>f</td>\n",
              "      <td>g</td>\n",
              "      <td>43.0</td>\n",
              "      <td>560.0</td>\n",
              "      <td>+</td>\n",
              "    </tr>\n",
              "    <tr>\n",
              "      <th>2</th>\n",
              "      <td>a</td>\n",
              "      <td>24.50</td>\n",
              "      <td>0.500</td>\n",
              "      <td>u</td>\n",
              "      <td>g</td>\n",
              "      <td>q</td>\n",
              "      <td>h</td>\n",
              "      <td>1.50</td>\n",
              "      <td>t</td>\n",
              "      <td>f</td>\n",
              "      <td>0.0</td>\n",
              "      <td>f</td>\n",
              "      <td>g</td>\n",
              "      <td>280.0</td>\n",
              "      <td>824.0</td>\n",
              "      <td>+</td>\n",
              "    </tr>\n",
              "    <tr>\n",
              "      <th>3</th>\n",
              "      <td>b</td>\n",
              "      <td>27.83</td>\n",
              "      <td>1.540</td>\n",
              "      <td>u</td>\n",
              "      <td>g</td>\n",
              "      <td>w</td>\n",
              "      <td>v</td>\n",
              "      <td>3.75</td>\n",
              "      <td>t</td>\n",
              "      <td>t</td>\n",
              "      <td>5.0</td>\n",
              "      <td>t</td>\n",
              "      <td>g</td>\n",
              "      <td>100.0</td>\n",
              "      <td>3.0</td>\n",
              "      <td>+</td>\n",
              "    </tr>\n",
              "    <tr>\n",
              "      <th>4</th>\n",
              "      <td>b</td>\n",
              "      <td>20.17</td>\n",
              "      <td>5.625</td>\n",
              "      <td>u</td>\n",
              "      <td>g</td>\n",
              "      <td>w</td>\n",
              "      <td>v</td>\n",
              "      <td>1.71</td>\n",
              "      <td>t</td>\n",
              "      <td>f</td>\n",
              "      <td>0.0</td>\n",
              "      <td>f</td>\n",
              "      <td>s</td>\n",
              "      <td>120.0</td>\n",
              "      <td>0.0</td>\n",
              "      <td>+</td>\n",
              "    </tr>\n",
              "  </tbody>\n",
              "</table>\n",
              "</div>"
            ],
            "text/plain": [
              "  A1     A2     A3 A4 A5 A6 A7    A8 A9 A10  A11 A12 A13    A14    A15 A16\n",
              "0  b  30.83  0.000  u  g  w  v  1.25  t   t  1.0   f   g  202.0    0.0   +\n",
              "1  a  58.67  4.460  u  g  q  h  3.04  t   t  6.0   f   g   43.0  560.0   +\n",
              "2  a  24.50  0.500  u  g  q  h  1.50  t   f  0.0   f   g  280.0  824.0   +\n",
              "3  b  27.83  1.540  u  g  w  v  3.75  t   t  5.0   t   g  100.0    3.0   +\n",
              "4  b  20.17  5.625  u  g  w  v  1.71  t   f  0.0   f   s  120.0    0.0   +"
            ]
          },
          "metadata": {
            "tags": []
          },
          "execution_count": 43
        }
      ]
    },
    {
      "cell_type": "code",
      "metadata": {
        "id": "-csavl5bhbr7",
        "colab_type": "code",
        "outputId": "a7ec7316-b606-4943-a04d-46f36fc5e3d0",
        "colab": {
          "base_uri": "https://localhost:8080/",
          "height": 323
        }
      },
      "source": [
        "print(df.shape)\n",
        "df.dtypes"
      ],
      "execution_count": 0,
      "outputs": [
        {
          "output_type": "stream",
          "text": [
            "(690, 16)\n"
          ],
          "name": "stdout"
        },
        {
          "output_type": "execute_result",
          "data": {
            "text/plain": [
              "A1      object\n",
              "A2     float64\n",
              "A3     float64\n",
              "A4      object\n",
              "A5      object\n",
              "A6      object\n",
              "A7      object\n",
              "A8     float64\n",
              "A9      object\n",
              "A10     object\n",
              "A11    float64\n",
              "A12     object\n",
              "A13     object\n",
              "A14    float64\n",
              "A15    float64\n",
              "A16     object\n",
              "dtype: object"
            ]
          },
          "metadata": {
            "tags": []
          },
          "execution_count": 44
        }
      ]
    },
    {
      "cell_type": "markdown",
      "metadata": {
        "id": "G7rLytbrO38L",
        "colab_type": "text"
      },
      "source": [
        "## Part 2 - Exploring data, Testing hypotheses\n",
        "\n",
        "The only thing we really know about this data is that A16 is the class label. Besides that, we have 6 continuous (float) features and 9 categorical features.\n",
        "\n",
        "Explore the data: you can use whatever approach (tables, utility functions, visualizations) to get an impression of the distributions and relationships of the variables. In general, your goal is to understand how the features are different when grouped by the two class labels (`+` and `-`).\n",
        "\n",
        "For the 6 continuous features, how are they different when split between the two class labels? Choose two features to run t-tests (again split by class label) - specifically, select one feature that is *extremely* different between the classes, and another feature that is notably less different (though perhaps still \"statistically significantly\" different). You may have to explore more than two features to do this.\n",
        "\n",
        "For the categorical features, explore by creating \"cross tabs\" (aka [contingency tables](https://en.wikipedia.org/wiki/Contingency_table)) between them and the class label, and apply the Chi-squared test to them. [pandas.crosstab](http://pandas.pydata.org/pandas-docs/stable/reference/api/pandas.crosstab.html) can create contingency tables, and [scipy.stats.chi2_contingency](https://docs.scipy.org/doc/scipy/reference/generated/scipy.stats.chi2_contingency.html) can calculate the Chi-squared statistic for them.\n",
        "\n",
        "There are 9 categorical features - as with the t-test, try to find one where the Chi-squared test returns an extreme result (rejecting the null that the data are independent), and one where it is less extreme.\n",
        "\n",
        "**NOTE** - \"less extreme\" just means smaller test statistic/larger p-value. Even the least extreme differences may be strongly statistically significant.\n",
        "\n",
        "Your *main* goal is the hypothesis tests, so don't spend too much time on the exploration/visualization piece. That is just a means to an end - use simple visualizations, such as boxplots or a scatter matrix (both built in to pandas), to get a feel for the overall distribution of the variables.\n",
        "\n",
        "This is challenging, so manage your time and aim for a baseline of at least running two t-tests and two Chi-squared tests before polishing. And don't forget to answer the questions in part 3, even if your results in this part aren't what you want them to be."
      ]
    },
    {
      "cell_type": "code",
      "metadata": {
        "id": "_nqcgc0yzm68",
        "colab_type": "code",
        "colab": {}
      },
      "source": [
        "plus = df[df['A16'] == '+']\n",
        "minus = df[df['A16'] == '-']"
      ],
      "execution_count": 0,
      "outputs": []
    },
    {
      "cell_type": "code",
      "metadata": {
        "id": "KtbEKraPo5Ge",
        "colab_type": "code",
        "outputId": "9a15eaf9-0cb3-4002-cce3-c6aab7696b3b",
        "colab": {
          "base_uri": "https://localhost:8080/",
          "height": 51
        }
      },
      "source": [
        "print('Plus w/ A2: ', plus['A2'].mean())\n",
        "print('Minus w/ A2: ', minus['A2'].mean())"
      ],
      "execution_count": 0,
      "outputs": [
        {
          "output_type": "stream",
          "text": [
            "Plus w/ A2:  33.7204918032787\n",
            "Minus w/ A2:  29.80823056300268\n"
          ],
          "name": "stdout"
        }
      ]
    },
    {
      "cell_type": "code",
      "metadata": {
        "id": "hOnqcd-Kp3aF",
        "colab_type": "code",
        "outputId": "9027e70b-9e47-4b41-fc00-969be1d30003",
        "colab": {
          "base_uri": "https://localhost:8080/",
          "height": 34
        }
      },
      "source": [
        "ttest_ind(plus['A2'],minus['A2'], nan_policy = 'omit')"
      ],
      "execution_count": 0,
      "outputs": [
        {
          "output_type": "execute_result",
          "data": {
            "text/plain": [
              "Ttest_indResult(statistic=4.2922156166315535, pvalue=2.0276637071781407e-05)"
            ]
          },
          "metadata": {
            "tags": []
          },
          "execution_count": 59
        }
      ]
    },
    {
      "cell_type": "code",
      "metadata": {
        "id": "Dk_jnPTXpRjx",
        "colab_type": "code",
        "outputId": "212b7094-0205-4e01-d202-8e84558dd032",
        "colab": {
          "base_uri": "https://localhost:8080/",
          "height": 51
        }
      },
      "source": [
        "print('Plus w/ A3: ', plus['A3'].mean())\n",
        "print('Minus w/ A3: ', minus['A3'].mean())"
      ],
      "execution_count": 0,
      "outputs": [
        {
          "output_type": "stream",
          "text": [
            "Plus w/ A3:  5.904951140065144\n",
            "Minus w/ A3:  3.839947780678851\n"
          ],
          "name": "stdout"
        }
      ]
    },
    {
      "cell_type": "code",
      "metadata": {
        "id": "j7G7JfzspZU2",
        "colab_type": "code",
        "outputId": "648d2806-6a4f-4e53-fd92-4b0b035228b1",
        "colab": {
          "base_uri": "https://localhost:8080/",
          "height": 34
        }
      },
      "source": [
        "ttest_ind(plus['A3'],minus['A3'], nan_policy = 'omit')"
      ],
      "execution_count": 0,
      "outputs": [
        {
          "output_type": "execute_result",
          "data": {
            "text/plain": [
              "Ttest_indResult(statistic=5.52998337614816, pvalue=4.551680702308068e-08)"
            ]
          },
          "metadata": {
            "tags": []
          },
          "execution_count": 57
        }
      ]
    },
    {
      "cell_type": "code",
      "metadata": {
        "id": "lzEpw1kQpUqE",
        "colab_type": "code",
        "outputId": "b6daeef2-7cc9-4238-a8ad-a7d8e3e3f7e9",
        "colab": {
          "base_uri": "https://localhost:8080/",
          "height": 51
        }
      },
      "source": [
        "print('Plus w/ A8: ', plus['A8'].mean())\n",
        "print('Minus w/ A8: ', minus['A8'].mean())"
      ],
      "execution_count": 0,
      "outputs": [
        {
          "output_type": "stream",
          "text": [
            "Plus w/ A8:  3.427899022801302\n",
            "Minus w/ A8:  1.2579242819843346\n"
          ],
          "name": "stdout"
        }
      ]
    },
    {
      "cell_type": "code",
      "metadata": {
        "id": "2i3fYvIbpq6g",
        "colab_type": "code",
        "outputId": "0dc5e09a-13f1-402b-cf07-922b782418d2",
        "colab": {
          "base_uri": "https://localhost:8080/",
          "height": 34
        }
      },
      "source": [
        "ttest_ind(plus['A8'],minus['A8'], nan_policy = 'omit')"
      ],
      "execution_count": 0,
      "outputs": [
        {
          "output_type": "execute_result",
          "data": {
            "text/plain": [
              "Ttest_indResult(statistic=8.935819983773698, pvalue=3.6710537401601785e-18)"
            ]
          },
          "metadata": {
            "tags": []
          },
          "execution_count": 60
        }
      ]
    },
    {
      "cell_type": "code",
      "metadata": {
        "id": "Q3GrucfFp_iX",
        "colab_type": "code",
        "outputId": "3ec1675d-cb8e-40bb-db9c-70d1d15dbdc9",
        "colab": {
          "base_uri": "https://localhost:8080/",
          "height": 51
        }
      },
      "source": [
        "print('Plus w/ A 11: ', plus['A11'].mean())\n",
        "print('Minus w/ A 11: ', minus['A11'].mean())"
      ],
      "execution_count": 0,
      "outputs": [
        {
          "output_type": "stream",
          "text": [
            "Plus w/ A 11:  4.605863192182411\n",
            "Minus w/ A 11:  0.6318537859007833\n"
          ],
          "name": "stdout"
        }
      ]
    },
    {
      "cell_type": "code",
      "metadata": {
        "id": "rKVjQItKqhFG",
        "colab_type": "code",
        "outputId": "65588795-f9d7-4726-9950-6012037fe1ba",
        "colab": {
          "base_uri": "https://localhost:8080/",
          "height": 34
        }
      },
      "source": [
        "ttest_ind(plus['A11'],minus['A11'], nan_policy = 'omit')"
      ],
      "execution_count": 0,
      "outputs": [
        {
          "output_type": "execute_result",
          "data": {
            "text/plain": [
              "Ttest_indResult(statistic=11.667004222431277, pvalue=7.957718568079967e-29)"
            ]
          },
          "metadata": {
            "tags": []
          },
          "execution_count": 83
        }
      ]
    },
    {
      "cell_type": "code",
      "metadata": {
        "id": "ZjVpGyw1qDax",
        "colab_type": "code",
        "outputId": "6e7f6536-aa55-4a29-b909-f6e418e45333",
        "colab": {
          "base_uri": "https://localhost:8080/",
          "height": 51
        }
      },
      "source": [
        "print('Plus w/ A14: ', plus['A14'].mean())\n",
        "print('Minus w/ A14: ', minus['A14'].mean())"
      ],
      "execution_count": 0,
      "outputs": [
        {
          "output_type": "stream",
          "text": [
            "Plus w/ A14:  164.421926910299\n",
            "Minus w/ A14:  199.6994680851064\n"
          ],
          "name": "stdout"
        }
      ]
    },
    {
      "cell_type": "code",
      "metadata": {
        "id": "NyyIdCDJqhyw",
        "colab_type": "code",
        "outputId": "7a42926b-3cc2-4a58-ccf7-a1d65867af19",
        "colab": {
          "base_uri": "https://localhost:8080/",
          "height": 34
        }
      },
      "source": [
        "ttest_ind(plus['A14'],minus['A14'], nan_policy = 'omit')"
      ],
      "execution_count": 0,
      "outputs": [
        {
          "output_type": "execute_result",
          "data": {
            "text/plain": [
              "Ttest_indResult(statistic=-2.6358251986645476, pvalue=0.008586135473979569)"
            ]
          },
          "metadata": {
            "tags": []
          },
          "execution_count": 68
        }
      ]
    },
    {
      "cell_type": "code",
      "metadata": {
        "id": "3bsKoFHdqFam",
        "colab_type": "code",
        "outputId": "e8c81039-5521-43ad-f21d-815877436a32",
        "colab": {
          "base_uri": "https://localhost:8080/",
          "height": 51
        }
      },
      "source": [
        "print('Plus w/ A15: ', plus['A15'].mean())\n",
        "print('Minus w/ A15: ', minus['A15'].mean())"
      ],
      "execution_count": 0,
      "outputs": [
        {
          "output_type": "stream",
          "text": [
            "Plus w/ A15:  2038.85993485342\n",
            "Minus w/ A15:  198.60574412532637\n"
          ],
          "name": "stdout"
        }
      ]
    },
    {
      "cell_type": "code",
      "metadata": {
        "id": "wfiJSpPVqiOa",
        "colab_type": "code",
        "outputId": "df1dfe23-4292-4f70-834f-b90ed9c4da1f",
        "colab": {
          "base_uri": "https://localhost:8080/",
          "height": 34
        }
      },
      "source": [
        "ttest_ind(plus['A15'],minus['A15'], nan_policy = 'omit')"
      ],
      "execution_count": 0,
      "outputs": [
        {
          "output_type": "execute_result",
          "data": {
            "text/plain": [
              "Ttest_indResult(statistic=4.680216020964486, pvalue=3.4520256956287944e-06)"
            ]
          },
          "metadata": {
            "tags": []
          },
          "execution_count": 69
        }
      ]
    },
    {
      "cell_type": "code",
      "metadata": {
        "id": "fmYGBaDwrG0_",
        "colab_type": "code",
        "outputId": "168eb814-eae4-43d0-a1ce-b1e434c6823f",
        "colab": {
          "base_uri": "https://localhost:8080/",
          "height": 308
        }
      },
      "source": [
        "#Plot the bar chart\n",
        "continuous = ['A2', 'A3', 'A8', 'A11', 'A14', 'A15']\n",
        "df.boxplot(column=continuous, by='A16', grid = False, fontsize=5);\n"
      ],
      "execution_count": 0,
      "outputs": [
        {
          "output_type": "display_data",
          "data": {
            "image/png": "[encoded data removed]",
            "text/plain": [
              "<Figure size 432x288 with 6 Axes>"
            ]
          },
          "metadata": {
            "tags": []
          }
        }
      ]
    },
    {
      "cell_type": "code",
      "metadata": {
        "id": "BI-yKriIFsDx",
        "colab_type": "code",
        "outputId": "655b1474-b116-4731-acc0-1dc2ea7e212d",
        "colab": {
          "base_uri": "https://localhost:8080/",
          "height": 1748
        }
      },
      "source": [
        "df.groupby('A16').boxplot(column='A2')\n",
        "df.groupby('A16').boxplot(column='A3')\n",
        "df.groupby('A16').boxplot(column='A8')\n",
        "df.groupby('A16').boxplot(column='A11')\n",
        "df.groupby('A16').boxplot(column='A14')\n",
        "df.groupby('A16').boxplot(column='A15')"
      ],
      "execution_count": 0,
      "outputs": [
        {
          "output_type": "execute_result",
          "data": {
            "text/plain": [
              "+         AxesSubplot(0.1,0.15;0.363636x0.75)\n",
              "-    AxesSubplot(0.536364,0.15;0.363636x0.75)\n",
              "dtype: object"
            ]
          },
          "metadata": {
            "tags": []
          },
          "execution_count": 238
        },
        {
          "output_type": "display_data",
          "data": {
            "image/png": "[encoded data removed]",
            "text/plain": [
              "<Figure size 432x288 with 2 Axes>"
            ]
          },
          "metadata": {
            "tags": []
          }
        },
        {
          "output_type": "display_data",
          "data": {
            "image/png": "[encoded data removed]",
            "text/plain": [
              "<Figure size 432x288 with 2 Axes>"
            ]
          },
          "metadata": {
            "tags": []
          }
        },
        {
          "output_type": "display_data",
          "data": {
            "image/png": "[encoded data removed]",
            "text/plain": [
              "<Figure size 432x288 with 2 Axes>"
            ]
          },
          "metadata": {
            "tags": []
          }
        },
        {
          "output_type": "display_data",
          "data": {
            "image/png": "[encoded data removed]",
            "text/plain": [
              "<Figure size 432x288 with 2 Axes>"
            ]
          },
          "metadata": {
            "tags": []
          }
        },
        {
          "output_type": "display_data",
          "data": {
            "image/png": "[encoded data removed]",
            "text/plain": [
              "<Figure size 432x288 with 2 Axes>"
            ]
          },
          "metadata": {
            "tags": []
          }
        },
        {
          "output_type": "display_data",
          "data": {
            "image/png": "[encoded data removed]",
            "text/plain": [
              "<Figure size 432x288 with 2 Axes>"
            ]
          },
          "metadata": {
            "tags": []
          }
        }
      ]
    },
    {
      "cell_type": "code",
      "metadata": {
        "id": "2fUPZISWoKrn",
        "colab_type": "code",
        "outputId": "36834efe-586e-4d9c-91ea-4f5a3fc55587",
        "colab": {
          "base_uri": "https://localhost:8080/",
          "height": 629
        }
      },
      "source": [
        "ctable1 = pd.crosstab(df['A16'],df['A1'])\n",
        "print(ctable1)\n",
        "\n",
        "ctable2 = pd.crosstab(df['A16'],df['A4'])\n",
        "print(ctable2)\n",
        "\n",
        "ctable3 = pd.crosstab(df['A16'],df['A5'])\n",
        "print(ctable3)\n",
        "\n",
        "ctable4 = pd.crosstab(df['A16'],df['A6'])\n",
        "print(ctable4)\n",
        "\n",
        "ctable5 = pd.crosstab(df['A16'],df['A7'])\n",
        "print(ctable5)\n",
        "\n",
        "ctable6 = pd.crosstab(df['A16'],df['A9'])\n",
        "print(ctable6)\n",
        "\n",
        "ctable7 = pd.crosstab(df['A16'],df['A10'])\n",
        "print(ctable7)\n",
        "\n",
        "ctable8 = pd.crosstab(df['A16'],df['A12'])\n",
        "print(ctable8)\n",
        "\n",
        "ctable9 = pd.crosstab(df['A16'],df['A13'])\n",
        "print(ctable9)"
      ],
      "execution_count": 0,
      "outputs": [
        {
          "output_type": "stream",
          "text": [
            "A1     a    b\n",
            "A16          \n",
            "+     98  206\n",
            "-    112  262\n",
            "A4   l    u    y\n",
            "A16             \n",
            "+    2  256   45\n",
            "-    0  263  118\n",
            "A5     g  gg    p\n",
            "A16              \n",
            "+    256   2   45\n",
            "-    263   0  118\n",
            "A6   aa   c  cc   d   e  ff   i  j   k   m   q  r   w   x\n",
            "A16                                                      \n",
            "+    19  62  29   7  14   7  14  3  14  16  51  2  33  32\n",
            "-    35  75  12  23  11  46  45  7  37  22  27  1  31   6\n",
            "A7   bb  dd  ff   h  j  n  o    v  z\n",
            "A16                                 \n",
            "+    25   2   8  87  3  2  1  169  6\n",
            "-    34   4  49  51  5  2  1  230  2\n",
            "A9     f    t\n",
            "A16          \n",
            "+     23  284\n",
            "-    306   77\n",
            "A10    f    t\n",
            "A16          \n",
            "+     98  209\n",
            "-    297   86\n",
            "A12    f    t\n",
            "A16          \n",
            "+    161  146\n",
            "-    213  170\n",
            "A13    g  p   s\n",
            "A16            \n",
            "+    287  5  15\n",
            "-    338  3  42\n"
          ],
          "name": "stdout"
        }
      ]
    },
    {
      "cell_type": "code",
      "metadata": {
        "id": "tR_rgPpGv6X8",
        "colab_type": "code",
        "outputId": "1119df44-33cc-4780-ea12-212b38264cd3",
        "colab": {
          "base_uri": "https://localhost:8080/",
          "height": 170
        }
      },
      "source": [
        "#chi2_contingency() returns [chi squared stat, p- val , dof, expected value contingency table]\n",
        "\n",
        "#A16 w A1\n",
        "chi1, p1, _, _ = chi2_contingency(ctable1)\n",
        "print('A1: chi-squared=', round(chi1,4), 'p-value=', round(p1,4))\n",
        "\n",
        "#A16 w A4\n",
        "chi2, p2, _, _ = chi2_contingency(ctable2)\n",
        "print('A4: chi-squared=', round(chi2,4), 'p-value=', round(p2,10))\n",
        "\n",
        "#A16 w A5\n",
        "chi3, p3, _, _ = chi2_contingency(ctable3)\n",
        "print('A5: chi-squared=', round(chi3,4), 'p-value=', round(p3,10))\n",
        "\n",
        "#A16 w A6\n",
        "chi4, p4, _, _ = chi2_contingency(ctable4)\n",
        "print('A6: chi-squared=', round(chi4,4), 'p-value=', round(p4,15))\n",
        "\n",
        "#A16 w A7\n",
        "chi5, p5, _, _ = chi2_contingency(ctable5)\n",
        "print('A7: chi-squared=', round(chi5,4), 'p-value=', round(p5,10))\n",
        "\n",
        "#A16 w A9\n",
        "chi6, p6, _, _ = chi2_contingency(ctable6)\n",
        "print('A9: chi-squared=', round(chi6,4), 'p-value=', round(p6,79))\n",
        "\n",
        "#A16 w A10\n",
        "chi7, p7, _, _ = chi2_contingency(ctable7)\n",
        "print('A10: chi-squared=', round(chi7,4), 'p-value=', round(p7,33))\n",
        "\n",
        "#A16 w A12\n",
        "chi8, p8, _, _ = chi2_contingency(ctable8)\n",
        "print('A12: chi-squared=', round(chi8,4), 'p-value=', round(p8,4))\n",
        "\n",
        "#A16 w A13\n",
        "chi9, p9, _, _ = chi2_contingency(ctable9)\n",
        "print('A13: chi-squared=', round(chi9,4), 'p-value=', round(p9,4))"
      ],
      "execution_count": 0,
      "outputs": [
        {
          "output_type": "stream",
          "text": [
            "A1: chi-squared= 0.3113 p-value= 0.5769\n",
            "A4: chi-squared= 26.2341 p-value= 2.0107e-06\n",
            "A5: chi-squared= 26.2341 p-value= 2.0107e-06\n",
            "A6: chi-squared= 98.3252 p-value= 3e-15\n",
            "A7: chi-squared= 45.0342 p-value= 3.625e-07\n",
            "A9: chi-squared= 355.2038 p-value= 2.9999999999999994e-79\n",
            "A10: chi-squared= 143.0696 p-value= 6e-33\n",
            "A12: chi-squared= 0.5683 p-value= 0.4509\n",
            "A13: chi-squared= 9.1916 p-value= 0.0101\n"
          ],
          "name": "stdout"
        }
      ]
    },
    {
      "cell_type": "code",
      "metadata": {
        "id": "SpEZ5_ot6ojC",
        "colab_type": "code",
        "outputId": "440d84ec-9c4c-4361-be8f-81acce8271c3",
        "colab": {
          "base_uri": "https://localhost:8080/",
          "height": 416
        }
      },
      "source": [
        "#define categories\n",
        "A9_categories = [\"f\",\"t\"]\n",
        "plus_values = ctable6.iloc[0][0:2]\n",
        "minus_values = ctable6.iloc[1][0:2]\n",
        "\n",
        "#Plot the bar chart\n",
        "fig = plt.figure(figsize=(8, 6))\n",
        "sns.set(font_scale=1.8)\n",
        "categories = [\"f\",\"t\"]\n",
        "p1 = plt.bar(categories, plus_values, .5, color='#d62728')\n",
        "p2 = plt.bar(categories, minus_values, 0.5, color = 'pink', bottom=plus_values)\n",
        "plt.legend((p2[0], p1[0]), ('minus', 'plus'))\n",
        "plt.xlabel('A9')\n",
        "plt.ylabel('Count')\n",
        "plt.show()"
      ],
      "execution_count": 0,
      "outputs": [
        {
          "output_type": "display_data",
          "data": {
            "image/png": "[encoded data removed]",
            "text/plain": [
              "<Figure size 576x432 with 1 Axes>"
            ]
          },
          "metadata": {
            "tags": []
          }
        }
      ]
    },
    {
      "cell_type": "markdown",
      "metadata": {
        "id": "ZM8JckA2bgnp",
        "colab_type": "text"
      },
      "source": [
        "## Part 3 - Analysis and Interpretation\n",
        "\n",
        "Now that you've looked at the data, answer the following questions:\n",
        "\n",
        "- Interpret and explain the two t-tests you ran - what do they tell you about the relationships between the continuous features you selected and the class labels?\n",
        "- Interpret and explain the two Chi-squared tests you ran - what do they tell you about the relationships between the categorical features you selected and the class labels?\n",
        "- What was the most challenging part of this sprint challenge?\n",
        "\n",
        "Answer with text, but feel free to intersperse example code/results or refer to it from earlier."
      ]
    },
    {
      "cell_type": "markdown",
      "metadata": {
        "id": "LIozLDNG2Uhu",
        "colab_type": "text"
      },
      "source": [
        "##For Testing on Continuous Variables\n",
        " - The null hypothesis is that the means between the +, - classes are the same\n",
        " - The alternative hypothesis is that the means between +, - classes are not the same and there are outside factors affecting them\n",
        " \n",
        "###A14:\n",
        " - The t statistic is -2.63 and pvalue=0.008\n",
        " - Since p< 0.05 we reject the null hypothesis, but barely\n",
        " \n",
        " \n",
        "### A11:\n",
        " - The t statistic=11.66, and pvalue=7.95e-29\n",
        " - Since p<<< 0.05 we reject the null hypothesis, and this is extremely significant because the p value is so low \n",
        " \n",
        " \n",
        "## For Testing on Categorical Variables\n",
        "- The null hypothesis is that the variables are independent\n",
        "- The alternative hypothesis is that the variables are dependent\n",
        "\n",
        "###A9\n",
        "-  The chi-squared value is 355.2038 and the p-value is 3e-79\n",
        "- The p-value <<<< 0.5, and we can reject the null hypothesis\n",
        "- This tells us that A16 has a very strong dependence on A9\n",
        "\n",
        "\n",
        "###A13\n",
        "- The chi-squared value is 9.1916 and the p-value= 0.0101\n",
        "- The p-value is just barely under 0.05, and we can reject the null hypothesis\n",
        "- This tells us that A16 has dependence on A13\n",
        "\n",
        "##Challenges\n",
        "- plotting the box plots"
      ]
    }
  ]
}