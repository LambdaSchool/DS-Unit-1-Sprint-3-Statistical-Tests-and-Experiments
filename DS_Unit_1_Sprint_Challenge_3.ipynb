{
  "nbformat": 4,
  "nbformat_minor": 0,
  "metadata": {
    "colab": {
      "name": "DS_Unit_1_Sprint_Challenge_3.ipynb",
      "version": "0.3.2",
      "provenance": [],
      "collapsed_sections": [],
      "include_colab_link": true
    },
    "kernelspec": {
      "name": "python3",
      "display_name": "Python 3"
    }
  },
  "cells": [
    {
      "cell_type": "markdown",
      "metadata": {
        "id": "view-in-github",
        "colab_type": "text"
      },
      "source": [
        "<a href=\"https://colab.research.google.com/github/martinclehman/DS-Unit-1-Sprint-3-Statistical-Tests-and-Experiments/blob/master/DS_Unit_1_Sprint_Challenge_3.ipynb\" target=\"_parent\"><img src=\"https://colab.research.google.com/assets/colab-badge.svg\" alt=\"Open In Colab\"/></a>"
      ]
    },
    {
      "cell_type": "markdown",
      "metadata": {
        "id": "NooAiTdnafkz",
        "colab_type": "text"
      },
      "source": [
        "# Data Science Unit 1 Sprint Challenge 3\n",
        "\n",
        "## Exploring Data, Testing Hypotheses\n",
        "\n",
        "In this sprint challenge you will look at a dataset of people being approved or rejected for credit.\n",
        "\n",
        "https://archive.ics.uci.edu/ml/datasets/Credit+Approval\n",
        "\n",
        "Data Set Information: This file concerns credit card applications. All attribute names and values have been changed to meaningless symbols to protect confidentiality of the data. This dataset is interesting because there is a good mix of attributes -- continuous, nominal with small numbers of values, and nominal with larger numbers of values. There are also a few missing values.\n",
        "\n",
        "Attribute Information:\n",
        "- A1: b, a.\n",
        "- A2: continuous.\n",
        "- A3: continuous.\n",
        "- A4: u, y, l, t.\n",
        "- A5: g, p, gg.\n",
        "- A6: c, d, cc, i, j, k, m, r, q, w, x, e, aa, ff.\n",
        "- A7: v, h, bb, j, n, z, dd, ff, o.\n",
        "- A8: continuous.\n",
        "- A9: t, f.\n",
        "- A10: t, f.\n",
        "- A11: continuous.\n",
        "- A12: t, f.\n",
        "- A13: g, p, s.\n",
        "- A14: continuous.\n",
        "- A15: continuous.\n",
        "- A16: +,- (class attribute)\n",
        "\n",
        "Yes, most of that doesn't mean anything. A16 (the class attribute) is the most interesting, as it separates the 307 approved cases from the 383 rejected cases. The remaining variables have been obfuscated for privacy - a challenge you may have to deal with in your data science career.\n",
        "\n",
        "Sprint challenges are evaluated based on satisfactory completion of each part. It is suggested you work through it in order, getting each aspect reasonably working, before trying to deeply explore, iterate, or refine any given step. Once you get to the end, if you want to go back and improve things, go for it!"
      ]
    },
    {
      "cell_type": "markdown",
      "metadata": {
        "id": "5wch6ksCbJtZ",
        "colab_type": "text"
      },
      "source": [
        "## Part 1 - Load and validate the data\n",
        "\n",
        "- Load the data as a `pandas` data frame.\n",
        "- Validate that it has the appropriate number of observations (you can check the raw file, and also read the dataset description from UCI).\n",
        "- UCI says there should be missing data - check, and if necessary change the data so pandas recognizes it as na\n",
        "- Make sure that the loaded features are of the types described above (continuous values should be treated as float), and correct as necessary\n",
        "\n",
        "This is review, but skills that you'll use at the start of any data exploration. Further, you may have to do some investigation to figure out which file to load from - that is part of the puzzle."
      ]
    },
    {
      "cell_type": "code",
      "metadata": {
        "id": "Q79xDLckzibS",
        "colab_type": "code",
        "outputId": "7cd7659a-6cfe-48a8-e99a-6459436f1382",
        "colab": {
          "base_uri": "https://localhost:8080/",
          "height": 195
        }
      },
      "source": [
        "# Begin by loading data into a dataframe. \n",
        "# Attribute info taken from above.\n",
        "# '?' seen when glancing data -> Turn into NaNs\n",
        "#    for example, search for ? using df.A1.value_counts()\n",
        "import pandas as pd\n",
        "\n",
        "columns = [\"A\" + str(i) for i in range(1,17)]\n",
        "df = pd.read_csv(\"https://archive.ics.uci.edu/ml/machine-learning-databases/\" \\\n",
        "                 \"credit-screening/crx.data\",\n",
        "                 header=None,\n",
        "                 names=columns,\n",
        "                 na_values='?')   # Replace ? with NaN\n",
        "                                  # Or can do: df.replace('?', np.NaN, inplace = True))\n",
        "df.head()"
      ],
      "execution_count": 1,
      "outputs": [
        {
          "output_type": "execute_result",
          "data": {
            "text/html": [
              "<div>\n",
              "<style scoped>\n",
              "    .dataframe tbody tr th:only-of-type {\n",
              "        vertical-align: middle;\n",
              "    }\n",
              "\n",
              "    .dataframe tbody tr th {\n",
              "        vertical-align: top;\n",
              "    }\n",
              "\n",
              "    .dataframe thead th {\n",
              "        text-align: right;\n",
              "    }\n",
              "</style>\n",
              "<table border=\"1\" class=\"dataframe\">\n",
              "  <thead>\n",
              "    <tr style=\"text-align: right;\">\n",
              "      <th></th>\n",
              "      <th>A1</th>\n",
              "      <th>A2</th>\n",
              "      <th>A3</th>\n",
              "      <th>A4</th>\n",
              "      <th>A5</th>\n",
              "      <th>A6</th>\n",
              "      <th>A7</th>\n",
              "      <th>A8</th>\n",
              "      <th>A9</th>\n",
              "      <th>A10</th>\n",
              "      <th>A11</th>\n",
              "      <th>A12</th>\n",
              "      <th>A13</th>\n",
              "      <th>A14</th>\n",
              "      <th>A15</th>\n",
              "      <th>A16</th>\n",
              "    </tr>\n",
              "  </thead>\n",
              "  <tbody>\n",
              "    <tr>\n",
              "      <th>0</th>\n",
              "      <td>b</td>\n",
              "      <td>30.83</td>\n",
              "      <td>0.000</td>\n",
              "      <td>u</td>\n",
              "      <td>g</td>\n",
              "      <td>w</td>\n",
              "      <td>v</td>\n",
              "      <td>1.25</td>\n",
              "      <td>t</td>\n",
              "      <td>t</td>\n",
              "      <td>1</td>\n",
              "      <td>f</td>\n",
              "      <td>g</td>\n",
              "      <td>202.0</td>\n",
              "      <td>0</td>\n",
              "      <td>+</td>\n",
              "    </tr>\n",
              "    <tr>\n",
              "      <th>1</th>\n",
              "      <td>a</td>\n",
              "      <td>58.67</td>\n",
              "      <td>4.460</td>\n",
              "      <td>u</td>\n",
              "      <td>g</td>\n",
              "      <td>q</td>\n",
              "      <td>h</td>\n",
              "      <td>3.04</td>\n",
              "      <td>t</td>\n",
              "      <td>t</td>\n",
              "      <td>6</td>\n",
              "      <td>f</td>\n",
              "      <td>g</td>\n",
              "      <td>43.0</td>\n",
              "      <td>560</td>\n",
              "      <td>+</td>\n",
              "    </tr>\n",
              "    <tr>\n",
              "      <th>2</th>\n",
              "      <td>a</td>\n",
              "      <td>24.50</td>\n",
              "      <td>0.500</td>\n",
              "      <td>u</td>\n",
              "      <td>g</td>\n",
              "      <td>q</td>\n",
              "      <td>h</td>\n",
              "      <td>1.50</td>\n",
              "      <td>t</td>\n",
              "      <td>f</td>\n",
              "      <td>0</td>\n",
              "      <td>f</td>\n",
              "      <td>g</td>\n",
              "      <td>280.0</td>\n",
              "      <td>824</td>\n",
              "      <td>+</td>\n",
              "    </tr>\n",
              "    <tr>\n",
              "      <th>3</th>\n",
              "      <td>b</td>\n",
              "      <td>27.83</td>\n",
              "      <td>1.540</td>\n",
              "      <td>u</td>\n",
              "      <td>g</td>\n",
              "      <td>w</td>\n",
              "      <td>v</td>\n",
              "      <td>3.75</td>\n",
              "      <td>t</td>\n",
              "      <td>t</td>\n",
              "      <td>5</td>\n",
              "      <td>t</td>\n",
              "      <td>g</td>\n",
              "      <td>100.0</td>\n",
              "      <td>3</td>\n",
              "      <td>+</td>\n",
              "    </tr>\n",
              "    <tr>\n",
              "      <th>4</th>\n",
              "      <td>b</td>\n",
              "      <td>20.17</td>\n",
              "      <td>5.625</td>\n",
              "      <td>u</td>\n",
              "      <td>g</td>\n",
              "      <td>w</td>\n",
              "      <td>v</td>\n",
              "      <td>1.71</td>\n",
              "      <td>t</td>\n",
              "      <td>f</td>\n",
              "      <td>0</td>\n",
              "      <td>f</td>\n",
              "      <td>s</td>\n",
              "      <td>120.0</td>\n",
              "      <td>0</td>\n",
              "      <td>+</td>\n",
              "    </tr>\n",
              "  </tbody>\n",
              "</table>\n",
              "</div>"
            ],
            "text/plain": [
              "  A1     A2     A3 A4 A5 A6 A7    A8 A9 A10  A11 A12 A13    A14  A15 A16\n",
              "0  b  30.83  0.000  u  g  w  v  1.25  t   t    1   f   g  202.0    0   +\n",
              "1  a  58.67  4.460  u  g  q  h  3.04  t   t    6   f   g   43.0  560   +\n",
              "2  a  24.50  0.500  u  g  q  h  1.50  t   f    0   f   g  280.0  824   +\n",
              "3  b  27.83  1.540  u  g  w  v  3.75  t   t    5   t   g  100.0    3   +\n",
              "4  b  20.17  5.625  u  g  w  v  1.71  t   f    0   f   s  120.0    0   +"
            ]
          },
          "metadata": {
            "tags": []
          },
          "execution_count": 1
        }
      ]
    },
    {
      "cell_type": "code",
      "metadata": {
        "id": "tjtChTGNy8GC",
        "colab_type": "code",
        "outputId": "2046323b-cf28-461e-978d-1d96d5fc4320",
        "colab": {
          "base_uri": "https://localhost:8080/",
          "height": 1109
        }
      },
      "source": [
        "#Let's check the UCI dataset description\n",
        "!curl 'https://archive.ics.uci.edu/ml/machine-learning-databases/credit-screening/crx.names'"
      ],
      "execution_count": 2,
      "outputs": [
        {
          "output_type": "stream",
          "text": [
            "\n",
            "1. Title: Credit Approval\n",
            "\n",
            "2. Sources: \n",
            "    (confidential)\n",
            "    Submitted by quinlan@cs.su.oz.au\n",
            "\n",
            "3.  Past Usage:\n",
            "\n",
            "    See Quinlan,\n",
            "    * \"Simplifying decision trees\", Int J Man-Machine Studies 27,\n",
            "      Dec 1987, pp. 221-234.\n",
            "    * \"C4.5: Programs for Machine Learning\", Morgan Kaufmann, Oct 1992\n",
            "  \n",
            "4.  Relevant Information:\n",
            "\n",
            "    This file concerns credit card applications.  All attribute names\n",
            "    and values have been changed to meaningless symbols to protect\n",
            "    confidentiality of the data.\n",
            "  \n",
            "    This dataset is interesting because there is a good mix of\n",
            "    attributes -- continuous, nominal with small numbers of\n",
            "    values, and nominal with larger numbers of values.  There\n",
            "    are also a few missing values.\n",
            "  \n",
            "5.  Number of Instances: 690\n",
            "\n",
            "6.  Number of Attributes: 15 + class attribute\n",
            "\n",
            "7.  Attribute Information:\n",
            "\n",
            "    A1:\tb, a.\n",
            "    A2:\tcontinuous.\n",
            "    A3:\tcontinuous.\n",
            "    A4:\tu, y, l, t.\n",
            "    A5:\tg, p, gg.\n",
            "    A6:\tc, d, cc, i, j, k, m, r, q, w, x, e, aa, ff.\n",
            "    A7:\tv, h, bb, j, n, z, dd, ff, o.\n",
            "    A8:\tcontinuous.\n",
            "    A9:\tt, f.\n",
            "    A10:\tt, f.\n",
            "    A11:\tcontinuous.\n",
            "    A12:\tt, f.\n",
            "    A13:\tg, p, s.\n",
            "    A14:\tcontinuous.\n",
            "    A15:\tcontinuous.\n",
            "    A16: +,-         (class attribute)\n",
            "\n",
            "8.  Missing Attribute Values:\n",
            "    37 cases (5%) have one or more missing values.  The missing\n",
            "    values from particular attributes are:\n",
            "\n",
            "    A1:  12\n",
            "    A2:  12\n",
            "    A4:   6\n",
            "    A5:   6\n",
            "    A6:   9\n",
            "    A7:   9\n",
            "    A14: 13\n",
            "\n",
            "9.  Class Distribution\n",
            "  \n",
            "    +: 307 (44.5%)\n",
            "    -: 383 (55.5%)\n",
            "\n"
          ],
          "name": "stdout"
        }
      ]
    },
    {
      "cell_type": "code",
      "metadata": {
        "id": "Nv8SYK_I0JX9",
        "colab_type": "code",
        "outputId": "cce1d7a4-49fd-4f95-aa2c-8fbe5238a8a8",
        "colab": {
          "base_uri": "https://localhost:8080/",
          "height": 34
        }
      },
      "source": [
        "'''Data matches appropriate observations from UCI - \n",
        "\"#5.  Number of Instances: 690\"\n",
        "\"#6.  Number of Attributes: 15 + class attribute\"\n",
        "'''\n",
        "df.shape"
      ],
      "execution_count": 3,
      "outputs": [
        {
          "output_type": "execute_result",
          "data": {
            "text/plain": [
              "(690, 16)"
            ]
          },
          "metadata": {
            "tags": []
          },
          "execution_count": 3
        }
      ]
    },
    {
      "cell_type": "code",
      "metadata": {
        "id": "lA_9NkOi3S2E",
        "colab_type": "code",
        "outputId": "7256d59b-fb5c-4455-d43c-5a36aae99443",
        "colab": {
          "base_uri": "https://localhost:8080/",
          "height": 302
        }
      },
      "source": [
        "# Check that NaN's match dataset description\n",
        "df.isna().sum()"
      ],
      "execution_count": 4,
      "outputs": [
        {
          "output_type": "execute_result",
          "data": {
            "text/plain": [
              "A1     12\n",
              "A2     12\n",
              "A3      0\n",
              "A4      6\n",
              "A5      6\n",
              "A6      9\n",
              "A7      9\n",
              "A8      0\n",
              "A9      0\n",
              "A10     0\n",
              "A11     0\n",
              "A12     0\n",
              "A13     0\n",
              "A14    13\n",
              "A15     0\n",
              "A16     0\n",
              "dtype: int64"
            ]
          },
          "metadata": {
            "tags": []
          },
          "execution_count": 4
        }
      ]
    },
    {
      "cell_type": "code",
      "metadata": {
        "id": "qN9TdGE04VnO",
        "colab_type": "code",
        "outputId": "208b3d7b-3932-4cc1-ffbf-33c9327c5478",
        "colab": {
          "base_uri": "https://localhost:8080/",
          "height": 302
        }
      },
      "source": [
        "# Check datatypes\n",
        "df.dtypes"
      ],
      "execution_count": 5,
      "outputs": [
        {
          "output_type": "execute_result",
          "data": {
            "text/plain": [
              "A1      object\n",
              "A2     float64\n",
              "A3     float64\n",
              "A4      object\n",
              "A5      object\n",
              "A6      object\n",
              "A7      object\n",
              "A8     float64\n",
              "A9      object\n",
              "A10     object\n",
              "A11      int64\n",
              "A12     object\n",
              "A13     object\n",
              "A14    float64\n",
              "A15      int64\n",
              "A16     object\n",
              "dtype: object"
            ]
          },
          "metadata": {
            "tags": []
          },
          "execution_count": 5
        }
      ]
    },
    {
      "cell_type": "code",
      "metadata": {
        "id": "jUfJw7bL6DDx",
        "colab_type": "code",
        "outputId": "ad4f21f6-d858-4f39-9e4f-a9532408f3c7",
        "colab": {
          "base_uri": "https://localhost:8080/",
          "height": 302
        }
      },
      "source": [
        "# Continuous variables need to be converted to float, so convert A11 & A15 \n",
        "df['A11'] = df['A11'].astype('float') \n",
        "df['A15'] = df['A15'].astype('float') \n",
        "df.dtypes"
      ],
      "execution_count": 6,
      "outputs": [
        {
          "output_type": "execute_result",
          "data": {
            "text/plain": [
              "A1      object\n",
              "A2     float64\n",
              "A3     float64\n",
              "A4      object\n",
              "A5      object\n",
              "A6      object\n",
              "A7      object\n",
              "A8     float64\n",
              "A9      object\n",
              "A10     object\n",
              "A11    float64\n",
              "A12     object\n",
              "A13     object\n",
              "A14    float64\n",
              "A15    float64\n",
              "A16     object\n",
              "dtype: object"
            ]
          },
          "metadata": {
            "tags": []
          },
          "execution_count": 6
        }
      ]
    },
    {
      "cell_type": "code",
      "metadata": {
        "id": "bhzK9a2bUsWC",
        "colab_type": "code",
        "colab": {}
      },
      "source": [
        "# Might make more sense to turn column A16 into a boolean\n",
        "# df.replace(['+','-'],[1,0], inplace=True)\n",
        "# df.dtypes\n",
        "\n",
        "# May make more sense to rename column A16 to 'Aprroval'\n",
        "# df = df.rename(columns={\"A16\": \"Approval\"})"
      ],
      "execution_count": 0,
      "outputs": []
    },
    {
      "cell_type": "markdown",
      "metadata": {
        "id": "G7rLytbrO38L",
        "colab_type": "text"
      },
      "source": [
        "## Part 2 - Exploring data, Testing hypotheses\n",
        "\n",
        "The only thing we really know about this data is that A16 is the class label. Besides that, we have 6 continuous (float) features and 9 categorical features.\n",
        "\n",
        "Explore the data: you can use whatever approach (tables, utility functions, visualizations) to get an impression of the distributions and relationships of the variables. In general, your goal is to understand how the features are different when grouped by the two class labels (`+` and `-`).\n",
        "\n",
        "For the 6 continuous features, how are they different when split between the two class labels? Choose two features to run t-tests (again split by class label) - specifically, select one feature that is *extremely* different between the classes, and another feature that is notably less different (though perhaps still \"statistically significantly\" different). You may have to explore more than two features to do this.\n",
        "\n",
        "For the categorical features, explore by creating \"cross tabs\" (aka [contingency tables](https://en.wikipedia.org/wiki/Contingency_table)) between them and the class label, and apply the Chi-squared test to them. [pandas.crosstab](http://pandas.pydata.org/pandas-docs/stable/reference/api/pandas.crosstab.html) can create contingency tables, and [scipy.stats.chi2_contingency](https://docs.scipy.org/doc/scipy/reference/generated/scipy.stats.chi2_contingency.html) can calculate the Chi-squared statistic for them.\n",
        "\n",
        "There are 9 categorical features - as with the t-test, try to find one where the Chi-squared test returns an extreme result (rejecting the null that the data are independent), and one where it is less extreme.\n",
        "\n",
        "**NOTE** - \"less extreme\" just means smaller test statistic/larger p-value. Even the least extreme differences may be strongly statistically significant.\n",
        "\n",
        "Your *main* goal is the hypothesis tests, so don't spend too much time on the exploration/visualization piece. That is just a means to an end - use simple visualizations, such as boxplots or a scatter matrix (both built in to pandas), to get a feel for the overall distribution of the variables.\n",
        "\n",
        "This is challenging, so manage your time and aim for a baseline of at least running two t-tests and two Chi-squared tests before polishing. And don't forget to answer the questions in part 3, even if your results in this part aren't what you want them to be."
      ]
    },
    {
      "cell_type": "code",
      "metadata": {
        "id": "ToDldDI_IUr7",
        "colab_type": "code",
        "colab": {}
      },
      "source": [
        "# Load libraries\n",
        "import matplotlib.pyplot as plt\n",
        "import seaborn as sns\n",
        "from scipy.stats import ttest_ind"
      ],
      "execution_count": 0,
      "outputs": []
    },
    {
      "cell_type": "code",
      "metadata": {
        "id": "3jxOgTp2gVqX",
        "colab_type": "code",
        "colab": {}
      },
      "source": [
        "# SOLUTION\n",
        "# pd.plotting.scatter_matrix(df); # or use sns.pairplot(df)\n",
        "# df.boxplot(vert=False, by='A16', showfliers=False);\n",
        "  ## use showfliers because outliers are ruining boxplots\n",
        "  ## A15 is stretching the range for the other features so we plot individually...\n",
        "# Run boxplots in a list comprehension\n",
        "# cont_columns = ['A2','A3','A8','A11','A14','A15']\n",
        "# boxplots = [df.boxplot(column=col, by='A16', showfliers=False) for col in cont_columns]"
      ],
      "execution_count": 0,
      "outputs": []
    },
    {
      "cell_type": "code",
      "metadata": {
        "id": "_nqcgc0yzm68",
        "colab_type": "code",
        "outputId": "a8ec5f4d-9e7a-452b-b094-fa9bfff76694",
        "colab": {
          "base_uri": "https://localhost:8080/",
          "height": 50
        }
      },
      "source": [
        "# For the 6 continuous features, split up the dataset between the two class labels\n",
        "approved = df[df['A16'] == '+']\n",
        "rejected = df[df['A16'] == '-']\n",
        "\n",
        "# Keep only continuous column types for ttest analysis\n",
        "cont_columns = ['A2','A3','A8','A11','A14','A15']\n",
        "approved_cont = approved[cont_columns]\n",
        "rejected_cont = rejected[cont_columns]\n",
        "\n",
        "# alternative method of selecting out continuous columns\n",
        "# approved_cont = approved.select_dtypes(include=['float64'])\n",
        "# rejected_cont = rejected.select_dtypes(include=['float64'])\n",
        "\n",
        "print(\"Approved dataset shape:\", approved_cont.shape)\n",
        "print(\"Rejected dataset shape:\", rejected_cont.shape)"
      ],
      "execution_count": 10,
      "outputs": [
        {
          "output_type": "stream",
          "text": [
            "Approved dataset shape: (307, 6)\n",
            "Rejected dataset shape: (383, 6)\n"
          ],
          "name": "stdout"
        }
      ]
    },
    {
      "cell_type": "code",
      "metadata": {
        "id": "SvSZA7H3HoVP",
        "colab_type": "code",
        "colab": {}
      },
      "source": [
        "# Generalize ttest calculation and plot into a function\n",
        "def compare_cases(feature,plot=False):\n",
        "  group1 = approved[feature].dropna()\n",
        "  group2 = rejected[feature].dropna()\n",
        "  \n",
        "  statistic, pvalue = ttest_ind(group1, group2, equal_var=False)\n",
        "    #If you don't .dropna() the two groups, you can also run ttest_ind with option \"non_policy='omit'\"  \n",
        "  if plot==True:\n",
        "    sns.kdeplot(group1, color='black', legend=None);\n",
        "    sns.kdeplot(group2, color='red', legend=None);\n",
        "  \n",
        "  return statistic,pvalue"
      ],
      "execution_count": 0,
      "outputs": []
    },
    {
      "cell_type": "code",
      "metadata": {
        "id": "rFFVjcdIImF2",
        "colab_type": "code",
        "outputId": "022d3957-4859-4404-e8eb-e2c9ff5cc820",
        "colab": {
          "base_uri": "https://localhost:8080/",
          "height": 1618
        }
      },
      "source": [
        "# Let's go ahead and visually compare all 6 continuous varriable distributions\n",
        "# SOLUTION uses side by side boxplots (see a few codeblocks above. I actually prefer SOLUTION's version slightly\n",
        "for feature in approved_cont.columns:\n",
        "  statistic,pvalue = compare_cases(feature, True)\n",
        "  plt.title(f'Feature: {feature}. P-value: {pvalue:.4f}')\n",
        "  plt.figure()"
      ],
      "execution_count": 12,
      "outputs": [
        {
          "output_type": "display_data",
          "data": {
            "image/png": "[encoded data removed]",
            "text/plain": [
              "<Figure size 432x288 with 1 Axes>"
            ]
          },
          "metadata": {
            "tags": []
          }
        },
        {
          "output_type": "display_data",
          "data": {
            "image/png": "[encoded data removed]",
            "text/plain": [
              "<Figure size 432x288 with 1 Axes>"
            ]
          },
          "metadata": {
            "tags": []
          }
        },
        {
          "output_type": "display_data",
          "data": {
            "image/png": "[encoded data removed]",
            "text/plain": [
              "<Figure size 432x288 with 1 Axes>"
            ]
          },
          "metadata": {
            "tags": []
          }
        },
        {
          "output_type": "display_data",
          "data": {
            "image/png": "[encoded data removed]",
            "text/plain": [
              "<Figure size 432x288 with 1 Axes>"
            ]
          },
          "metadata": {
            "tags": []
          }
        },
        {
          "output_type": "display_data",
          "data": {
            "image/png": "[encoded data removed]",
            "text/plain": [
              "<Figure size 432x288 with 1 Axes>"
            ]
          },
          "metadata": {
            "tags": []
          }
        },
        {
          "output_type": "display_data",
          "data": {
            "image/png": "[encoded data removed]",
            "text/plain": [
              "<Figure size 432x288 with 1 Axes>"
            ]
          },
          "metadata": {
            "tags": []
          }
        },
        {
          "output_type": "display_data",
          "data": {
            "text/plain": [
              "<Figure size 432x288 with 0 Axes>"
            ]
          },
          "metadata": {
            "tags": []
          }
        }
      ]
    },
    {
      "cell_type": "code",
      "metadata": {
        "id": "xOo6TA9cNVkB",
        "colab_type": "code",
        "outputId": "cf062852-cdd0-428f-c153-0106940e2f1c",
        "colab": {
          "base_uri": "https://localhost:8080/",
          "height": 118
        }
      },
      "source": [
        "# Print a table of ttest results\n",
        "for feat in approved_cont.columns:\n",
        "  statistic, pvalue = compare_cases(feat)\n",
        "  print(f\"Feature: {feat:3s}       t-test: {statistic: 7.3f}\"\\\n",
        "                             f\"     p-value: {pvalue:8.6f}\")"
      ],
      "execution_count": 13,
      "outputs": [
        {
          "output_type": "stream",
          "text": [
            "Feature: A2        t-test:   4.224     p-value: 0.000028\n",
            "Feature: A3        t-test:   5.393     p-value: 0.000000\n",
            "Feature: A8        t-test:   8.380     p-value: 0.000000\n",
            "Feature: A11       t-test:  10.638     p-value: 0.000000\n",
            "Feature: A14       t-test:  -2.670     p-value: 0.007778\n",
            "Feature: A15       t-test:   4.197     p-value: 0.000035\n"
          ],
          "name": "stdout"
        }
      ]
    },
    {
      "cell_type": "code",
      "metadata": {
        "id": "sDglh9vGTH7J",
        "colab_type": "code",
        "colab": {}
      },
      "source": [
        "# Load chi2 library\n",
        "from scipy.stats import chi2_contingency"
      ],
      "execution_count": 0,
      "outputs": []
    },
    {
      "cell_type": "code",
      "metadata": {
        "id": "ZhBcj6-4QtjD",
        "colab_type": "code",
        "outputId": "7351c5e3-0313-4089-a5d4-c5ef80e53ba5",
        "colab": {
          "base_uri": "https://localhost:8080/",
          "height": 168
        }
      },
      "source": [
        "# Now look at categorical columns and examine with chi-squared test\n",
        "\n",
        "# Select categorical columns\n",
        "cat_columns = ['A1','A4','A5','A6','A7','A9','A10','A12','A13']\n",
        "\n",
        "for feat in cat_columns:\n",
        "  table_temp = pd.crosstab(df[feat],df['A16'])\n",
        "  chi2, p, dof, expect = chi2_contingency(table_temp)  \n",
        "                         # should turn off Yates correction for chi2_contingency\n",
        "                         # (see documentation)\n",
        "  \n",
        "  print(f\"Feature: {feat:3s}       Chi2: {chi2: 8.3f}\"\\\n",
        "                         f\"     p-value: {p:8.6f}\")\n"
      ],
      "execution_count": 15,
      "outputs": [
        {
          "output_type": "stream",
          "text": [
            "Feature: A1        Chi2:    0.311     p-value: 0.576894\n",
            "Feature: A4        Chi2:   26.234     p-value: 0.000002\n",
            "Feature: A5        Chi2:   26.234     p-value: 0.000002\n",
            "Feature: A6        Chi2:   98.325     p-value: 0.000000\n",
            "Feature: A7        Chi2:   45.034     p-value: 0.000000\n",
            "Feature: A9        Chi2:  355.204     p-value: 0.000000\n",
            "Feature: A10       Chi2:  143.070     p-value: 0.000000\n",
            "Feature: A12       Chi2:    0.568     p-value: 0.450946\n",
            "Feature: A13       Chi2:    9.192     p-value: 0.010094\n"
          ],
          "name": "stdout"
        }
      ]
    },
    {
      "cell_type": "code",
      "metadata": {
        "id": "1HvDU4xkjLhT",
        "colab_type": "code",
        "colab": {
          "base_uri": "https://localhost:8080/",
          "height": 1226
        },
        "outputId": "c7f5364b-f18d-49a0-c988-aea70230072a"
      },
      "source": [
        "# SOLUTION puts crosstabs into a list comprehension\n",
        "# This way is cleverer\n",
        "\n",
        "cat_columns = ['A1','A4','A5','A6','A7','A9','A10','A12','A13']\n",
        "crosstabs = [pd.crosstab(df.A16,df[feature]) for feature in cat_columns]\n",
        "crosstabs[0]\n",
        "  \n",
        "for crosstab in crosstabs:\n",
        "  print(crosstab) \n",
        "  chi2 = (chi2_contingency(crosstab, correction=False)) # No Yates correction\n",
        "  print('Chi-square statistic: {}'.format(chi2[0]))\n",
        "  print('p-value: {}'.format(chi2[1]))\n",
        "  print('\\n')"
      ],
      "execution_count": 31,
      "outputs": [
        {
          "output_type": "stream",
          "text": [
            "A1     a    b\n",
            "A16          \n",
            "+     98  206\n",
            "-    112  262\n",
            "Chi-square statistic: 0.41143508194591916\n",
            "p-value: 0.5212420117494805\n",
            "\n",
            "\n",
            "A4   l    u    y\n",
            "A16             \n",
            "+    2  256   45\n",
            "-    0  263  118\n",
            "Chi-square statistic: 26.234074966202144\n",
            "p-value: 2.010680204180363e-06\n",
            "\n",
            "\n",
            "A5     g  gg    p\n",
            "A16              \n",
            "+    256   2   45\n",
            "-    263   0  118\n",
            "Chi-square statistic: 26.234074966202144\n",
            "p-value: 2.010680204180363e-06\n",
            "\n",
            "\n",
            "A6   aa   c  cc   d   e  ff   i  j   k   m   q  r   w   x\n",
            "A16                                                      \n",
            "+    19  62  29   7  14   7  14  3  14  16  51  2  33  32\n",
            "-    35  75  12  23  11  46  45  7  37  22  27  1  31   6\n",
            "Chi-square statistic: 98.32520342679135\n",
            "p-value: 3.4999300402715717e-15\n",
            "\n",
            "\n",
            "A7   bb  dd  ff   h  j  n  o    v  z\n",
            "A16                                 \n",
            "+    25   2   8  87  3  2  1  169  6\n",
            "-    34   4  49  51  5  2  1  230  2\n",
            "Chi-square statistic: 45.034207140240554\n",
            "p-value: 3.625452872372267e-07\n",
            "\n",
            "\n",
            "A9     f    t\n",
            "A16          \n",
            "+     23  284\n",
            "-    306   77\n",
            "Chi-square statistic: 358.10032647163285\n",
            "p-value: 7.298530125411091e-80\n",
            "\n",
            "\n",
            "A10    f    t\n",
            "A16          \n",
            "+     98  209\n",
            "-    297   86\n",
            "Chi-square statistic: 144.9276762819937\n",
            "p-value: 2.227269345312281e-33\n",
            "\n",
            "\n",
            "A12    f    t\n",
            "A16          \n",
            "+    161  146\n",
            "-    213  170\n",
            "Chi-square statistic: 0.6900889348793988\n",
            "p-value: 0.4061341323141693\n",
            "\n",
            "\n",
            "A13    g  p   s\n",
            "A16            \n",
            "+    287  5  15\n",
            "-    338  3  42\n",
            "Chi-square statistic: 9.191570451545383\n",
            "p-value: 0.010094291370456362\n",
            "\n",
            "\n"
          ],
          "name": "stdout"
        }
      ]
    },
    {
      "cell_type": "markdown",
      "metadata": {
        "id": "ZM8JckA2bgnp",
        "colab_type": "text"
      },
      "source": [
        "## Part 3 - Analysis and Interpretation\n",
        "\n",
        "Now that you've looked at the data, answer the following questions:\n",
        "\n",
        "- Interpret and explain the two t-tests you ran - what do they tell you about the relationships between the continuous features you selected and the class labels?\n",
        "- Interpret and explain the two Chi-squared tests you ran - what do they tell you about the relationships between the categorical features you selected and the class labels?\n",
        "- What was the most challenging part of this sprint challenge?\n",
        "\n",
        "Answer with text, but feel free to intersperse example code/results or refer to it from earlier."
      ]
    },
    {
      "cell_type": "markdown",
      "metadata": {
        "id": "LIozLDNG2Uhu",
        "colab_type": "text"
      },
      "source": [
        "- The t-test on each continuous feature  generates values that are all above the 99% confidence interval. Therefore, we would generally reject the null hypothesis that the two samples were obtained from the same distribution.\n",
        "- The Chi2 test on all features revealed results that were above and below typical null hypothesis testing levels. For 'A1' for example, the p-value yielded a result of 0.577 which suggests a likelihood that there **was not** a relationship of 'A1' on getting the applicant approved. For 'A4' for example, the p-value was much above the 99.9% confidence interval which suggests a high likelihood that there **was** a relationship of 'A1' on getting the applicant approved.\n",
        "- Solving a pernicious bug when assigning 'df' to both the dataframe and degrees of freedom."
      ]
    },
    {
      "cell_type": "markdown",
      "metadata": {
        "id": "bP-G1w9Hk3Sm",
        "colab_type": "text"
      },
      "source": [
        "**SOLUTION**\n",
        "\n",
        "Continuous: \n",
        "- A8 had an extremely large and positive test statistic, sugesting that (whatever it represents) it is a characteristic that peole who get credit approved have much more strongly than those who fail to get approved for credit\n",
        "- A14 had a still significant but relatively smaller and negative test statistic, suggesting that it is a characteristic more common/extreme amongst peole who fail to get approved for credit\n",
        "\n",
        "Categorical (note- Chi-squared itself doesn't really tell us much, so we have to look at the counts themselves):\n",
        "- A9 is a simple t/f category with an extremely different distribution between those who receive credit and don't, suggesting some sort of relationship\n",
        "- A1 is two categories like A( (though a/b instead of t/f), but much less dramatically diferent - we cannot reject the null hypothesis tat A1 is independent of our class label, with a rather large p-value.)\n",
        "\n"
      ]
    }
  ]
}