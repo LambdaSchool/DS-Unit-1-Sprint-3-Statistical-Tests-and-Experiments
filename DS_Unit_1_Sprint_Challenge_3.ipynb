{
 "cells": [
  {
   "cell_type": "markdown",
   "metadata": {
    "colab_type": "text",
    "id": "NooAiTdnafkz"
   },
   "source": [
    "# Data Science Unit 1 Sprint Challenge 4\n",
    "\n",
    "## Exploring Data, Testing Hypotheses\n",
    "\n",
    "In this sprint challenge you will look at a dataset of people being approved or rejected for credit.\n",
    "\n",
    "https://archive.ics.uci.edu/ml/datasets/Credit+Approval\n",
    "\n",
    "Data Set Information: This file concerns credit card applications. All attribute names and values have been changed to meaningless symbols to protect confidentiality of the data. This dataset is interesting because there is a good mix of attributes -- continuous, nominal with small numbers of values, and nominal with larger numbers of values. There are also a few missing values.\n",
    "\n",
    "Attribute Information:\n",
    "- A1: b, a.\n",
    "- A2: continuous.\n",
    "- A3: continuous.\n",
    "- A4: u, y, l, t.\n",
    "- A5: g, p, gg.\n",
    "- A6: c, d, cc, i, j, k, m, r, q, w, x, e, aa, ff.\n",
    "- A7: v, h, bb, j, n, z, dd, ff, o.\n",
    "- A8: continuous.\n",
    "- A9: t, f.\n",
    "- A10: t, f.\n",
    "- A11: continuous.\n",
    "- A12: t, f.\n",
    "- A13: g, p, s.\n",
    "- A14: continuous.\n",
    "- A15: continuous.\n",
    "- A16: +,- (class attribute)\n",
    "\n",
    "Yes, most of that doesn't mean anything. A16 (the class attribute) is the most interesting, as it separates the 307 approved cases from the 383 rejected cases. The remaining variables have been obfuscated for privacy - a challenge you may have to deal with in your data science career.\n",
    "\n",
    "Sprint challenges are evaluated based on satisfactory completion of each part. It is suggested you work through it in order, getting each aspect reasonably working, before trying to deeply explore, iterate, or refine any given step. Once you get to the end, if you want to go back and improve things, go for it!"
   ]
  },
  {
   "cell_type": "markdown",
   "metadata": {
    "colab_type": "text",
    "id": "5wch6ksCbJtZ"
   },
   "source": [
    "## Part 1 - Load and validate the data\n",
    "\n",
    "- Load the data as a `pandas` data frame.\n",
    "- Validate that it has the appropriate number of observations (you can check the raw file, and also read the dataset description from UCI).\n",
    "- UCI says there should be missing data - check, and if necessary change the data so pandas recognizes it as na\n",
    "- Make sure that the loaded features are of the types described above (continuous values should be treated as float), and correct as necessary\n",
    "\n",
    "This is review, but skills that you'll use at the start of any data exploration. Further, you may have to do some investigation to figure out which file to load from - that is part of the puzzle."
   ]
  },
  {
   "cell_type": "code",
   "execution_count": 2,
   "metadata": {},
   "outputs": [
    {
     "name": "stdout",
     "output_type": "stream",
     "text": [
      "  % Total    % Received % Xferd  Average Speed   Time    Time     Time  Current\n",
      "                                 Dload  Upload   Total   Spent    Left  Speed\n",
      "100 32218  100 32218    0     0   170k      0 --:--:-- --:--:-- --:--:--  170k\n",
      "  % Total    % Received % Xferd  Average Speed   Time    Time     Time  Current\n",
      "                                 Dload  Upload   Total   Spent    Left  Speed\n",
      "100  1486  100  1486    0     0  12593      0 --:--:-- --:--:-- --:--:-- 12593\n",
      "  % Total    % Received % Xferd  Average Speed   Time    Time     Time  Current\n",
      "                                 Dload  Upload   Total   Spent    Left  Speed\n",
      "100 12314  100 12314    0     0  94000      0 --:--:-- --:--:-- --:--:-- 94000\n",
      "  % Total    % Received % Xferd  Average Speed   Time    Time     Time  Current\n",
      "                                 Dload  Upload   Total   Spent    Left  Speed\n",
      "100   522  100   522    0     0   4176      0 --:--:-- --:--:-- --:--:--  4176\n"
     ]
    }
   ],
   "source": [
    "!curl -O https://archive.ics.uci.edu/ml/machine-learning-databases/credit-screening/crx.data\n",
    "!curl -O https://archive.ics.uci.edu/ml/machine-learning-databases/credit-screening/crx.names\n",
    "!curl -O https://archive.ics.uci.edu/ml/machine-learning-databases/credit-screening/credit.lisp\n",
    "!curl -O https://archive.ics.uci.edu/ml/machine-learning-databases/credit-screening/credit.names"
   ]
  },
  {
   "cell_type": "code",
   "execution_count": 3,
   "metadata": {},
   "outputs": [
    {
     "name": "stdout",
     "output_type": "stream",
     "text": [
      "-rw-r--r--  1 l  staff  12314 May 10 08:51 credit.lisp\r\n",
      "-rw-r--r--  1 l  staff    522 May 10 08:51 credit.names\r\n",
      "-rw-r--r--  1 l  staff  32218 May 10 08:51 crx.data\r\n",
      "-rw-r--r--  1 l  staff   1486 May 10 08:51 crx.names\r\n"
     ]
    }
   ],
   "source": [
    "!ls -l c*"
   ]
  },
  {
   "cell_type": "code",
   "execution_count": 10,
   "metadata": {},
   "outputs": [
    {
     "name": "stdout",
     "output_type": "stream",
     "text": [
      ";; positive examples represent people that were granted credit\r\n",
      "(def-pred credit_screening :type (:person) \r\n",
      "  :pos\r\n",
      "  ((s1) (s2) (s4) (s5) (s6) (s7) (s8) (s9) (s14) (s15) (s17) (s18) (s19)\r\n",
      "   (s21) (s22) (s24) (s28) (s29) (s31) (s32) (s35) (s38) (s40) (s41)\r\n",
      "   (s42) (s43) (s45) (s46) (s47) (s49) (s50) (s51) (s53) (s54) (s55)\r\n",
      "   (s56) (s57) (s59) (s61) (s62) (s63) (s64) (s65) (s66) (s69) (s70)\r\n",
      "   (s71) (s72) (s73) (s74) (s75) (s76) (s77) (s78) (s79) (s80) (s81)\r\n",
      "   (s83) (s84) (s85) (s86) (s87) (s89) (s90) (s91) (s92) (s93) (s94)\r\n",
      "   (s96) (s97) (s98) (s100) (s103) (s104) (s106) (s108) (s110) (s116)\r\n",
      "   (s117) (s118) (s119) (s121) (s122) (s123) (s124))\r\n",
      "  :neg\r\n",
      "  ((s3) (s10) (s11) (s12) (s13) (s16) (s20) (s23) (s25) (s26) (s27) \r\n",
      "   (s30) (s33) (s34) (s36) (s37) (s39) (s44) (s48) (s52) (s58) (s60)\r\n",
      "   (s67) (s68) (s82) (s88) (s95) (s99) (s101) (s102) (s105) (s107)\r\n",
      "   (s109) (s111) (s112) (s113) (s114) (s115) (s120) (s125)))\r\n",
      "\r\n",
      "(def-pred jobless :type (:person) :pos\r\n",
      "  ((s3) (s10) (s12) (s23) (s34) (s39) (s44) (s56) (s60) (s82) (s85) (s88)\r\n",
      "   (s99) (s115)))\r\n",
      "\r\n",
      ";; item purchased that loan is for.\r\n",
      "(def-pred purchase_item  :type (:person :atom) :pos\r\n",
      "  ((s1 pc) (s2 pc) (s3 pc) (s4 pc) (s5 pc) (s6 pc) (s7 pc) (s8 pc) \r\n",
      "   (s9 pc) (s10 pc) (s11 car) (s12 car) (s13 car) (s14 car) (s15 car) \r\n",
      "   (s16 car) (s17 car) (s18 car) (s19 car) (s20 car) (s21 stereo)\r\n",
      "   (s22 stereo) (s23 stereo) (s24 stereo) (s25 stereo) (s26 stereo) \r\n",
      "   (s27 stereo) (s28 stereo) (s29 stereo) (s30 stereo) (s31 stereo) \r\n",
      "   (s32 stereo) (s33 stereo) (s34 stereo) (s35 stereo) (s36 stereo) \r\n",
      "   (s37 stereo) (s38 stereo) (s39 stereo) (s40 stereo) (s41 stereo) \r\n",
      "   (s42 jewel) (s43 jewel) (s44 jewel) (s45 jewel) (s46 jewel) \r\n",
      "   (s47 jewel) (s48 jewel) (s49 jewel) (s50 jewel) (s51 jewel) \r\n",
      "   (s52 jewel) (s53 jewel) (s54 jewel) (s55 jewel) (s56 jewel) \r\n",
      "   (s57 jewel) (s58 jewel) (s59 jewel) (s60 jewel) (s61 jewel) \r\n",
      "   (s62 jewel) (s63 medinstru) (s64 medinstru) (s65 medinstru) \r\n",
      "   (s66 medinstru) (s67 medinstru) (s68 medinstru) (s69 medinstru) \r\n",
      "   (s70 medinstru) (s71 medinstru) (s72 medinstru) (s73 medinstru) \r\n",
      "   (s74 medinstru) (s75 medinstru) (s76 medinstru) (s77 medinstru) \r\n",
      "   (s78 medinstru) (s79 medinstru) (s80 medinstru) (s81 medinstru) \r\n",
      "   (s82 medinstru) (s83 medinstru) (s84 jewel) (s85 stereo)\r\n",
      "   (s86 medinstru) (s87 stereo) (s88 stereo) (s89 stereo) \r\n",
      "   (s90 stereo) (s91 stereo) (s92 medinstru) (s93 medinstru) \r\n",
      "   (s94 medinstru) (s95 medinstru) (s96 jewel) (s97 jewel) \r\n",
      "   (s98 jewel) (s99 jewel) (s100 jewel) (s101 jewel) (s102 jewel) \r\n",
      "   (s103 jewel) (s104 jewel) (s105 jewel) (s106 bike) \r\n",
      "   (s107 bike) (s108 bike) (s109 bike) (s110 bike) (s111 bike) \r\n",
      "   (s112 bike) (s113 bike) (s114 bike) (s115 bike) (s116 furniture) \r\n",
      "   (s117 furniture) (s118 furniture) (s119 furniture) \r\n",
      "   (s120 furniture) (s121 furniture) (s122 furniture) \r\n",
      "   (s123 furniture) (s124 furniture) (s125 furniture)))\r\n",
      "\r\n",
      "(def-pred male :type (:person) :pos\r\n",
      "  ((s6) (s7) (s8) (s9) (s10) (s16) (s17) (s18) (s19) (s20) (s21) (s22)\r\n",
      "   (s25) (s27) (s29) (s37) (s38) (s39) (s40) (s41) (s42) (s43) (s45)\r\n",
      "   (s48) (s49) (s51) (s58) (s59) (s60) (s61) (s62) (s68) (s69) (s70)\r\n",
      "   (s71) (s72) (s74) (s76) (s77) (s79) (s80) (s82) (s84) (s86) (s89)\r\n",
      "   (s90) (s91) (s92) (s94) (s97) (s98) (s102) (s103) (s104) (s105) (s106)\r\n",
      "   (s107) (s108) (s109) (s110) (s121) (s122) (s123) (s124) (s125)))\r\n",
      "\r\n",
      "(def-pred female :type (:person) :pos\r\n",
      "  ((s1) (s2) (s3) (s4) (s5) (s11) (s12) (s13) (s14) (s15) (s23) (s24) (s26)\r\n",
      "   (s28) (s30) (s31) (s32) (s33) (s34) (s35) (s36) (s44) (s46) (s47) (s50)\r\n",
      "   (s52) (s53) (s54) (s55) (s56) (s57) (s63) (s64) (s65) (s66) (s67) (s73)\r\n",
      "   (s75) (s78) (s81) (s83) (s85) (s87) (s88) (s93) (s95) (s96) (s99) (s100)\r\n",
      "   (s101) (s111) (s112) (s113) (s114) (s115) (s116) (s117) (s118) (s119)\r\n",
      "   (s120)))\r\n",
      "\r\n",
      "(def-pred unmarried :type (:person) :pos\r\n",
      "  ((s1) (s2) (s5) (s6) (s7) (s11) (s13) (s14) (s16) (s18) (s22) (s25) (s26)\r\n",
      "   (s28) (s30) (s31) (s32) (s33) (s34) (s37) (s41) (s43) (s46) (s48) (s50)\r\n",
      "   (s52) (s53) (s54) (s55) (s59) (s60) (s63) (s68) (s70) (s74) (s75) (s76)\r\n",
      "   (s78) (s82) (s84) (s86) (s87) (s90) (s93) (s95) (s96) (s97) (s100) (s101)\r\n",
      "   (s102) (s104) (s105) (s106) (s107) (s108) (s109) (s114) (s118) (s123)))\r\n",
      "\r\n",
      ";; people who live in a problematic region\r\n",
      "(def-pred problematic_region :type (:person) :pos\r\n",
      "  ((s3) (s5) (s23) (s30) (s33) (s39) (s48) (s60) (s68) (s72) (s76) (s78) \r\n",
      "   (s84) (s105)))\r\n",
      "\r\n",
      "(def-pred age :type (:person :number) :pos\r\n",
      "  ((s1 18) (s2 20) (s3 25) (s4 40) (s5 50) (s6 18) (s7 22)\r\n",
      "   (s8 28) (s9 40) (s10 50) (s11 18) (s12 20) (s13 25) \r\n",
      "   (s14 38) (s15 50) (s16 19) (s17 21) (s18 25) (s19 38) \r\n",
      "   (s20 50) (s21 42) (s22 28) (s23 55) (s24 21) (s25 81) \r\n",
      "   (s26 23) (s27 35) (s28 47) (s29 98) (s30 68) (s31 27) \r\n",
      "   (s32 19) (s33 23) (s34 25) (s35 31) (s36 34) (s37 20) \r\n",
      "   (s38 32) (s39 38) (s40 45) (s41 57) (s42 25) (s43 42) \r\n",
      "   (s44 61) (s45 48) (s46 29) (s47 35) (s48 40) (s49 31)\r\n",
      "   (s50 37) (s51 23) (s52 70) (s53 21) (s54 29) (s55 37) \r\n",
      "   (s56 43) (s57 51) (s58 19) (s59 24) (s60 33) (s61 42) \r\n",
      "   (s62 59) (s63 32) (s64 37) (s65 41) (s66 50) (s67 55) \r\n",
      "   (s68 37) (s69 40) (s70 46) (s71 57) (s72 63) (s73 52) \r\n",
      "   (s74 27) (s75 35) (s76 26) (s77 59) (s78 23) (s79 51)\r\n",
      "   (s80 38) (s81 48) (s82 67) (s83 33) (s84 37) (s85 52) \r\n",
      "   (s86 29) (s87 23) (s88 70) (s89 25) (s90 65) (s91 30) \r\n",
      "   (s92 35) (s93 27) (s94 40) (s95 37) (s96 40) (s97 27) \r\n",
      "   (s98 55) (s99 60) (s100 45) (s101 20) (s102 18) (s103 35) \r\n",
      "   (s104 35) (s105 35) (s106 18) (s107 18) (s108 22) (s109 22) \r\n",
      "   (s110 25) (s111 18) (s112 18) (s113 22) (s114 22) (s115 25) \r\n",
      "   (s116 40) (s117 50) (s118 30) (s119 35) (s120 25) (s121 40) \r\n",
      "   (s122 50) (s123 30) (s124 35) (s125 25)))\r\n",
      "\r\n",
      ";; Amount of money on deposit in bank, Unit of currency is 10000 yen\r\n",
      "(def-pred deposit :type (:person :number) :pos\r\n",
      "  ((s1 20) (s2 10) (s3 5) (s4 5) (s5 5) (s6 10) (s7 10) (s8 15) (s9 20)\r\n",
      "   (s10 5) (s11 50) (s12 50) (s13 50) (s14 150) (s15 50) (s16 50) (s17 150)\r\n",
      "   (s18 150) (s19 100) (s20 50) (s21 90) (s22 10) (s23 30) (s24 10) (s25 20)\r\n",
      "   (s26 80) (s27 7) (s28 5) (s29 10) (s30 2) (s31 6) (s32 5) (s33 5) (s34 10)\r\n",
      "   (s35 10) (s36 1) (s37 10) (s38 5) (s39 3) (s40 10) (s41 70) (s42 16)\r\n",
      "   (s43 19) (s44 49) (s45 30) (s46 31) (s47 21) (s48 9) (s49 6) (s50 9)\r\n",
      "   (s51 21) (s52 9) (s53 40) (s54 10) (s55 35) (s56 10) (s57 40) (s58 5)\r\n",
      "   (s59 40) (s60 100) (s61 30) (s62 50) (s63 400) (s64 100) (s65 50) (s66 300)\r\n",
      "   (s67 100) (s68 300) (s69 500) (s70 200) (s71 100) (s72 50) (s73 50)\r\n",
      "   (s74 500) (s75 150) (s76 200) (s77 100) (s78 250) (s79 50) (s80 300)\r\n",
      "   (s81 100) (s82 400) (s83 500) (s84 200) (s85 100) (s86 100) (s87 2)\r\n",
      "   (s88 2) (s89 5) (s90 5) (s91 10) (s92 500) (s93 50) (s94 50) (s95 200)\r\n",
      "   (s96 30) (s97 15) (s98 50) (s99 5) (s100 20) (s101 20) (s102 10) \r\n",
      "   (s103 20) (s104 10) (s105 10) (s106 15) (s107 10) (s108 20) (s109 10)\r\n",
      "   (s110 10) (s111 10) (s112 10) (s113 20) (s114 10) (s115 10) (s116 50)\r\n",
      "   (s117 100) (s118 50) (s119 20) (s120 30) (s121 60) (s122 90) (s123 70)\r\n",
      "   (s124 20) (s125 20)))\r\n",
      "\r\n",
      ";; monthly loan payment amount, Unit of currency is 10000 yen ($70)\r\n",
      "(def-pred monthly_payment :type (:person :number) :pos\r\n",
      "  ((s1 2) (s2 2) (s3 4) (s4 7) (s5 4) (s6 5) (s7 3) (s8 4) (s9 2)\r\n",
      "   (s10 4) (s11 8) (s12 10) (s13 5) (s14 10) (s15 15) (s16 7) (s17 3)\r\n",
      "   (s18 10) (s19 10) (s20 10) (s21 2) (s22 10) (s23 10) (s24 1) (s25 4)\r\n",
      "   (s26 10) (s27 10) (s28 3) (s29 15) (s30 7) (s31 10) (s32 2) (s33 1) (s34 4)\r\n",
      "   (s35 2) (s36 10) (s37 2) (s38 4) (s39 1) (s40 7) (s41 6) (s42 3)\r\n",
      "   (s43 9) (s44 8) (s45 2) (s46 10) (s47 19) (s48 9) (s49 2) (s50 5)\r\n",
      "   (s51 9) (s52 4) (s53 5) (s54 2) (s55 3) (s56 2) (s57 3) (s58 1)\r\n",
      "   (s59 5) (s60 2) (s61 3) (s62 4) (s63 20) (s64 80) (s65 50) (s66 30)\r\n",
      "   (s67 60) (s68 50) (s69 20) (s70 50) (s71 50) (s72 50) (s73 20)\r\n",
      "   (s74 10) (s75 18) (s76 20) (s77 20) (s78 10) (s79 20) (s80 10)\r\n",
      "   (s81 20) (s82 15) (s83 12) (s84 50) (s85 5) (s86 30) (s87 2)\r\n",
      "   (s88 10) (s89 2) (s90 2) (s91 10) (s92 20) (s93 50) (s94 50) (s95 40)\r\n",
      "   (s96 2) (s97 2) (s98 3) (s99 10) (s100 20) (s101 10) (s102 7) \r\n",
      "   (s103 10) (s104 10) (s105 10) (s106 1) (s107 5) (s108 5) (s109 5)\r\n",
      "   (s110 5) (s111 2) (s112 5) (s113 5) (s114 5) (s115 5) (s116 5)\r\n",
      "   (s117 10) (s118 5) (s119 10) (s120 7) (s121 5) (s122 10) (s123 5)\r\n",
      "   (s124 4) (s125 7)))\r\n",
      "\r\n",
      ";; number of months expected to pay off the loan\r\n",
      "(def-pred numb_of_months :type (:person :number) :pos\r\n",
      "  ((s1 15) (s2 20) (s3 12) (s4 12) (s5 12) (s6 8) (s7 8) (s8 10) (s9 20)\r\n",
      "   (s10 12) (s11 20) (s12 20) (s13 20) (s14 20) (s15 20) (s16 20) (s17 20)\r\n",
      "   (s18 20) (s19 20) (s20 30) (s21 6) (s22 5) (s23 8) (s24 12) (s25 10)\r\n",
      "   (s26 6) (s27 4) (s28 7) (s29 5) (s30 8) (s31 6) (s32 20) (s33 10) (s34 20)\r\n",
      "   (s35 10) (s36 20) (s37 20) (s38 10) (s39 20) (s40 20) (s41 5) (s42 20)\r\n",
      "   (s43 8) (s44 4) (s45 10) (s46 8) (s47 5) (s48 10) (s49 15) (s50 12)\r\n",
      "   (s51 10) (s52 8) (s53 10) (s54 12) (s55 10) (s56 20) (s57 10) (s58 20)\r\n",
      "   (s59 10) (s60 5) (s61 10) (s62 10) (s63 20) (s64 10) (s65 20) (s66 20)\r\n",
      "   (s67 20) (s68 10) (s69 20) (s70 10) (s71 20) (s72 20) (s73 20)\r\n",
      "   (s74 5) (s75 12) (s76 10) (s77 20) (s78 10) (s79 20) (s80 10)\r\n",
      "   (s81 20) (s82 5) (s83 5) (s84 10) (s85 5) (s86 20) (s87 10)\r\n",
      "   (s88 5) (s89 10) (s90 10) (s91 10) (s92 20) (s93 20) (s94 20) (s95 20)\r\n",
      "   (s96 10) (s97 12) (s98 10) (s99 10) (s100 10) (s101 10) (s102 12) \r\n",
      "   (s103 10) (s104 10) (s105 10) (s106 10) (s107 10) (s108 10) (s109 10)\r\n",
      "   (s110 10) (s111 10) (s112 10) (s113 10) (s114 10) (s115 10) (s116 20)\r\n",
      "   (s117 12) (s118 20) (s119 15) (s120 20) (s121 20) (s122 12) (s123 20)\r\n",
      "   (s124 15) (s125 20)))\r\n",
      "\r\n",
      ";; number of years working at current company\r\n",
      "(def-pred numb_of_years_in_company :type (:person :number) :pos\r\n",
      "  ((s1 1) (s2 2) (s3 0) (S4 2) (S5 25) (s6 1) (s7 4) (s8 5) (s9 15)\r\n",
      "   (s10 0) (s11 1) (s12 2) (s13 5) (s14 15) (s16 2) (s17 3) (s18 2)\r\n",
      "   (s19 15) (s20 2) (s21 7) (s22 3) (s23 0) (s24 1) (s25 0) (s26 1)\r\n",
      "   (s27 5) (s28 8) (s29 0) (s30 0) (s31 4) (s32 1) (s33 3) (s34 0) \r\n",
      "   (s35 9) (s36 12) (s37 2) (s38 14) (s39 0) (s40 1) (s41 35) \r\n",
      "   (s42 3) (s43 7) (s44 0) (s45 11) (s46 5) (s47 13) (s48 1) (s49 6)\r\n",
      "   (s50 9) (s51 2) (s52 0) (s53 3) (s54 7) (s55 13) (s56 0) (s57 11)\r\n",
      "   (s58 1) (s59 2) (s60 0) (s61 20) (s62 37) (s63 2) (s64 1) \r\n",
      "   (s65 18) (s66 27) (s67 30) (s68 1) (s69 10) (s70 18) (s71 30)\r\n",
      "   (s72 25) (s73 11) (s74 2)(s75 7) (s76 13) (s77 3)\r\n",
      "   (s78 1) (s79 9) (s80 5) (s81 6) (s82 0) (s83 6)\r\n",
      "   (s84 25) (s85 0) (s86 1) (s87 5) (s88 0) (s89 5)\r\n",
      "   (s90 5) (s91 7) (s92 7) (s93 1) (s94 12) (s95 2)\r\n",
      "   (s96 5) (s97 5) (s98 25) (s99 0) (s100 10) (s101 2)\r\n",
      "   (s102 1) (s103 13) (s104 2) (s105 2) (s106 1) (s107 1)\r\n",
      "   (s108 5) (s109 2) (s110 5) (s111 1) (s112 1) (s113 5)\r\n",
      "   (s114 2) (s115 5) (s116 20) (s117 20) (s118 3) (s119 13)\r\n",
      "   (s120 2) (s121 20) (s122 20) (s123 10) (s124 13) (s125 1)))\r\n",
      "\r\n",
      "(def-rule jobless_mascu_reject\r\n",
      "  (((jobles_mascu_reject ?s) \r\n",
      "    (jobless ?s) \r\n",
      "    (male ?s))))\r\n",
      "\r\n",
      ";;This is a quite discriminatory rule against feminine, but the reality of\r\n",
      ";;Japan presently seems so.\r\n",
      "(def-rule jobless_unmarried_fem_reject\r\n",
      "   (((jobless_unmarried_fem_reject ?s) \r\n",
      "     (jobless ?s) \r\n",
      "     (female ?s) \r\n",
      "     (unmarried ?s))))\r\n",
      "\r\n",
      "(def-rule jobless_unmatch_fem_reject\r\n",
      "   (((jobless_unmatch_fem_reject ?s) \r\n",
      "     (jobless ?s) \r\n",
      "     (female ?s) \r\n",
      "     (not (unmarried ?s)) \r\n",
      "     (unmatch_fem ?s))))\r\n",
      "\r\n",
      "(def-rule unmatch_fem\r\n",
      "  (((unmatch_fem ?s)\r\n",
      "    (female ?s)\r\n",
      "    (purchase_item ?s bike))\r\n",
      "   ((unmatch_fem ?s)\r\n",
      "    (female ?s)\r\n",
      "    ;(aged_more_60 ?s ?b)\r\n",
      "    (deposit ?s ?b)\r\n",
      "    (monthly_payment ?s ?c)\r\n",
      "    (numb_of_months ?s ?d)\r\n",
      "    (is ?m (* ?c ?d))\r\n",
      "    (>  ?m ?b))))\r\n",
      "\r\n",
      "(def-rule discredit_bad_region\r\n",
      "  (((discredit_bad_region ?s)\r\n",
      "    (problematic_region ?s)\r\n",
      "    (numb_of_years_in_company ?s ?n)\r\n",
      "    (not (< 10 ?n)))))\r\n",
      "\t\t\t\t      \r\n",
      "(def-rule rejected_aged_unstable_work\r\n",
      "  (((reject_aged_unstable_work ?s)\r\n",
      "    (age ?s ?n1)\r\n",
      "    (< 59 ?n1)\r\n",
      "    (numb_of_years_in_company ?s ?n2)\r\n",
      "    (< ?n2 3))))\r\n",
      "\r\n",
      "(def-rule bad_credit\r\n",
      "  (((bad_credit ?s)(rejected_aged_unstable_work ?s))\r\n",
      "   ((bad_credit ?s )(discredit_bad_region ?s))\r\n",
      "   ((bad_credit ?s )(jobless_unmatch_fem_reject ?s))\r\n",
      "   ((bad_credit ?s )(jobless_unmarried_fem_reject ?s))\r\n",
      "   ((bad_credit ?s )(jobless_mascu_reject ?s))))\r\n",
      "\r\n",
      "(def-rule ok_credit \r\n",
      "  (((ok_credit ?s )\r\n",
      "    ;(not (rejected_aged_unstable_work ?s))\r\n",
      "    (not(discredit_bad_region ?s))\r\n",
      "    (not(jobless_unmatch_fem_reject ?s))\r\n",
      "    (not(jobless_unmarried_fem_reject ?s))\r\n",
      "    (not(jobless_mascu_reject ?s)))))\r\n",
      "\r\n",
      "\r\n",
      "\r\n"
     ]
    }
   ],
   "source": [
    "!cat credit.lisp"
   ]
  },
  {
   "cell_type": "code",
   "execution_count": 63,
   "metadata": {
    "colab": {},
    "colab_type": "code",
    "id": "Q79xDLckzibS"
   },
   "outputs": [],
   "source": [
    "import pandas as pd"
   ]
  },
  {
   "cell_type": "code",
   "execution_count": 64,
   "metadata": {},
   "outputs": [],
   "source": [
    "df = pd.read_csv('crx.data', header=None, na_values='?')"
   ]
  },
  {
   "cell_type": "code",
   "execution_count": 65,
   "metadata": {},
   "outputs": [
    {
     "data": {
      "text/html": [
       "<div>\n",
       "<style scoped>\n",
       "    .dataframe tbody tr th:only-of-type {\n",
       "        vertical-align: middle;\n",
       "    }\n",
       "\n",
       "    .dataframe tbody tr th {\n",
       "        vertical-align: top;\n",
       "    }\n",
       "\n",
       "    .dataframe thead th {\n",
       "        text-align: right;\n",
       "    }\n",
       "</style>\n",
       "<table border=\"1\" class=\"dataframe\">\n",
       "  <thead>\n",
       "    <tr style=\"text-align: right;\">\n",
       "      <th></th>\n",
       "      <th>0</th>\n",
       "      <th>1</th>\n",
       "      <th>2</th>\n",
       "      <th>3</th>\n",
       "      <th>4</th>\n",
       "      <th>5</th>\n",
       "      <th>6</th>\n",
       "      <th>7</th>\n",
       "      <th>8</th>\n",
       "      <th>9</th>\n",
       "      <th>10</th>\n",
       "      <th>11</th>\n",
       "      <th>12</th>\n",
       "      <th>13</th>\n",
       "      <th>14</th>\n",
       "      <th>15</th>\n",
       "    </tr>\n",
       "  </thead>\n",
       "  <tbody>\n",
       "    <tr>\n",
       "      <th>0</th>\n",
       "      <td>b</td>\n",
       "      <td>30.83</td>\n",
       "      <td>0.000</td>\n",
       "      <td>u</td>\n",
       "      <td>g</td>\n",
       "      <td>w</td>\n",
       "      <td>v</td>\n",
       "      <td>1.25</td>\n",
       "      <td>t</td>\n",
       "      <td>t</td>\n",
       "      <td>1</td>\n",
       "      <td>f</td>\n",
       "      <td>g</td>\n",
       "      <td>202.0</td>\n",
       "      <td>0</td>\n",
       "      <td>+</td>\n",
       "    </tr>\n",
       "    <tr>\n",
       "      <th>1</th>\n",
       "      <td>a</td>\n",
       "      <td>58.67</td>\n",
       "      <td>4.460</td>\n",
       "      <td>u</td>\n",
       "      <td>g</td>\n",
       "      <td>q</td>\n",
       "      <td>h</td>\n",
       "      <td>3.04</td>\n",
       "      <td>t</td>\n",
       "      <td>t</td>\n",
       "      <td>6</td>\n",
       "      <td>f</td>\n",
       "      <td>g</td>\n",
       "      <td>43.0</td>\n",
       "      <td>560</td>\n",
       "      <td>+</td>\n",
       "    </tr>\n",
       "    <tr>\n",
       "      <th>2</th>\n",
       "      <td>a</td>\n",
       "      <td>24.50</td>\n",
       "      <td>0.500</td>\n",
       "      <td>u</td>\n",
       "      <td>g</td>\n",
       "      <td>q</td>\n",
       "      <td>h</td>\n",
       "      <td>1.50</td>\n",
       "      <td>t</td>\n",
       "      <td>f</td>\n",
       "      <td>0</td>\n",
       "      <td>f</td>\n",
       "      <td>g</td>\n",
       "      <td>280.0</td>\n",
       "      <td>824</td>\n",
       "      <td>+</td>\n",
       "    </tr>\n",
       "    <tr>\n",
       "      <th>3</th>\n",
       "      <td>b</td>\n",
       "      <td>27.83</td>\n",
       "      <td>1.540</td>\n",
       "      <td>u</td>\n",
       "      <td>g</td>\n",
       "      <td>w</td>\n",
       "      <td>v</td>\n",
       "      <td>3.75</td>\n",
       "      <td>t</td>\n",
       "      <td>t</td>\n",
       "      <td>5</td>\n",
       "      <td>t</td>\n",
       "      <td>g</td>\n",
       "      <td>100.0</td>\n",
       "      <td>3</td>\n",
       "      <td>+</td>\n",
       "    </tr>\n",
       "    <tr>\n",
       "      <th>4</th>\n",
       "      <td>b</td>\n",
       "      <td>20.17</td>\n",
       "      <td>5.625</td>\n",
       "      <td>u</td>\n",
       "      <td>g</td>\n",
       "      <td>w</td>\n",
       "      <td>v</td>\n",
       "      <td>1.71</td>\n",
       "      <td>t</td>\n",
       "      <td>f</td>\n",
       "      <td>0</td>\n",
       "      <td>f</td>\n",
       "      <td>s</td>\n",
       "      <td>120.0</td>\n",
       "      <td>0</td>\n",
       "      <td>+</td>\n",
       "    </tr>\n",
       "  </tbody>\n",
       "</table>\n",
       "</div>"
      ],
      "text/plain": [
       "  0      1      2  3  4  5  6     7  8  9   10 11 12     13   14 15\n",
       "0  b  30.83  0.000  u  g  w  v  1.25  t  t   1  f  g  202.0    0  +\n",
       "1  a  58.67  4.460  u  g  q  h  3.04  t  t   6  f  g   43.0  560  +\n",
       "2  a  24.50  0.500  u  g  q  h  1.50  t  f   0  f  g  280.0  824  +\n",
       "3  b  27.83  1.540  u  g  w  v  3.75  t  t   5  t  g  100.0    3  +\n",
       "4  b  20.17  5.625  u  g  w  v  1.71  t  f   0  f  s  120.0    0  +"
      ]
     },
     "execution_count": 65,
     "metadata": {},
     "output_type": "execute_result"
    }
   ],
   "source": [
    "df.head()"
   ]
  },
  {
   "cell_type": "code",
   "execution_count": 66,
   "metadata": {},
   "outputs": [
    {
     "data": {
      "text/plain": [
       "array(['u', 'y', nan, 'l'], dtype=object)"
      ]
     },
     "execution_count": 66,
     "metadata": {},
     "output_type": "execute_result"
    }
   ],
   "source": [
    "df[3].unique()"
   ]
  },
  {
   "cell_type": "markdown",
   "metadata": {
    "colab_type": "text",
    "id": "G7rLytbrO38L"
   },
   "source": [
    "## Part 2 - Exploring data, Testing hypotheses\n",
    "\n",
    "The only thing we really know about this data is that A16 is the class label. Besides that, we have 6 continuous (float) features and 9 categorical features.\n",
    "\n",
    "Explore the data: you can use whatever approach (tables, utility functions, visualizations) to get an impression of the distributions and relationships of the variables. In general, your goal is to understand how the features are different when grouped by the two class labels (`+` and `-`).\n",
    "\n",
    "For the 6 continuous features, how are they different when split between the two class labels? **Choose two features to run t-tests (again split by class label)** - specifically, select one feature that is *extremely* different between the classes, and another feature that is notably less different (though perhaps still \"statistically significantly\" different). You may have to explore more than two features to do this.\n",
    "\n",
    "For the categorical features, explore by creating \"cross tabs\" (aka [contingency tables](https://en.wikipedia.org/wiki/Contingency_table)) between them and the class label, and apply the Chi-squared test to them. [pandas.crosstab](http://pandas.pydata.org/pandas-docs/stable/reference/api/pandas.crosstab.html) can create contingency tables, and [scipy.stats.chi2_contingency](https://docs.scipy.org/doc/scipy/reference/generated/scipy.stats.chi2_contingency.html) can calculate the Chi-squared statistic for them.\n",
    "\n",
    "**There are 9 categorical features - as with the t-test, try to find one where the Chi-squared test returns an extreme result** (rejecting the null that the data are independent), and one where it is less extreme.\n",
    "\n",
    "**NOTE** - \"less extreme\" just means smaller test statistic/larger p-value. Even the least extreme differences may be strongly statistically significant.\n",
    "\n",
    "Your *main* goal is the hypothesis tests, so don't spend too much time on the exploration/visualization piece. That is just a means to an end - use simple visualizations, such as boxplots or a scatter matrix (both built in to pandas), to get a feel for the overall distribution of the variables.\n",
    "\n",
    "This is challenging, so manage your time and aim for a baseline of at least running two t-tests and two Chi-squared tests before polishing. And don't forget to answer the questions in part 3, even if your results in this part aren't what you want them to be."
   ]
  },
  {
   "cell_type": "code",
   "execution_count": 67,
   "metadata": {},
   "outputs": [
    {
     "data": {
      "text/plain": [
       "array(['+', '-'], dtype=object)"
      ]
     },
     "execution_count": 67,
     "metadata": {},
     "output_type": "execute_result"
    }
   ],
   "source": [
    "df[15].unique()"
   ]
  },
  {
   "cell_type": "code",
   "execution_count": 68,
   "metadata": {
    "colab": {},
    "colab_type": "code",
    "id": "_nqcgc0yzm68"
   },
   "outputs": [],
   "source": [
    "approved = df.loc[df[15] == '+']\n",
    "disappro = df.loc[df[15]=='-']\n",
    "\n",
    "assert len(df)== len(approved) + len(disappro)"
   ]
  },
  {
   "cell_type": "code",
   "execution_count": 79,
   "metadata": {},
   "outputs": [
    {
     "data": {
      "text/plain": [
       "0     3\n",
       "1     2\n",
       "2     0\n",
       "3     4\n",
       "4     4\n",
       "5     4\n",
       "6     4\n",
       "7     0\n",
       "8     0\n",
       "9     0\n",
       "10    0\n",
       "11    0\n",
       "12    0\n",
       "13    6\n",
       "14    0\n",
       "15    0\n",
       "dtype: int64"
      ]
     },
     "execution_count": 79,
     "metadata": {},
     "output_type": "execute_result"
    }
   ],
   "source": [
    "approved.isna().sum()"
   ]
  },
  {
   "cell_type": "code",
   "execution_count": 81,
   "metadata": {},
   "outputs": [
    {
     "data": {
      "text/plain": [
       "0      9\n",
       "1     10\n",
       "2      0\n",
       "3      2\n",
       "4      2\n",
       "5      5\n",
       "6      5\n",
       "7      0\n",
       "8      0\n",
       "9      0\n",
       "10     0\n",
       "11     0\n",
       "12     0\n",
       "13     7\n",
       "14     0\n",
       "15     0\n",
       "dtype: int64"
      ]
     },
     "execution_count": 81,
     "metadata": {},
     "output_type": "execute_result"
    }
   ],
   "source": [
    "disappro.isna().sum()"
   ]
  },
  {
   "cell_type": "code",
   "execution_count": 69,
   "metadata": {},
   "outputs": [
    {
     "data": {
      "text/html": [
       "<div>\n",
       "<style scoped>\n",
       "    .dataframe tbody tr th:only-of-type {\n",
       "        vertical-align: middle;\n",
       "    }\n",
       "\n",
       "    .dataframe tbody tr th {\n",
       "        vertical-align: top;\n",
       "    }\n",
       "\n",
       "    .dataframe thead th {\n",
       "        text-align: right;\n",
       "    }\n",
       "</style>\n",
       "<table border=\"1\" class=\"dataframe\">\n",
       "  <thead>\n",
       "    <tr style=\"text-align: right;\">\n",
       "      <th></th>\n",
       "      <th>1</th>\n",
       "      <th>2</th>\n",
       "      <th>7</th>\n",
       "      <th>10</th>\n",
       "      <th>13</th>\n",
       "      <th>14</th>\n",
       "    </tr>\n",
       "  </thead>\n",
       "  <tbody>\n",
       "    <tr>\n",
       "      <th>count</th>\n",
       "      <td>305.000000</td>\n",
       "      <td>307.000000</td>\n",
       "      <td>307.000000</td>\n",
       "      <td>307.000000</td>\n",
       "      <td>301.000000</td>\n",
       "      <td>307.000000</td>\n",
       "    </tr>\n",
       "    <tr>\n",
       "      <th>mean</th>\n",
       "      <td>33.720492</td>\n",
       "      <td>5.904951</td>\n",
       "      <td>3.427899</td>\n",
       "      <td>4.605863</td>\n",
       "      <td>164.421927</td>\n",
       "      <td>2038.859935</td>\n",
       "    </tr>\n",
       "    <tr>\n",
       "      <th>std</th>\n",
       "      <td>12.809641</td>\n",
       "      <td>5.471485</td>\n",
       "      <td>4.120792</td>\n",
       "      <td>6.320242</td>\n",
       "      <td>161.770675</td>\n",
       "      <td>7659.763941</td>\n",
       "    </tr>\n",
       "    <tr>\n",
       "      <th>min</th>\n",
       "      <td>13.750000</td>\n",
       "      <td>0.000000</td>\n",
       "      <td>0.000000</td>\n",
       "      <td>0.000000</td>\n",
       "      <td>0.000000</td>\n",
       "      <td>0.000000</td>\n",
       "    </tr>\n",
       "    <tr>\n",
       "      <th>25%</th>\n",
       "      <td>23.170000</td>\n",
       "      <td>1.500000</td>\n",
       "      <td>0.750000</td>\n",
       "      <td>0.000000</td>\n",
       "      <td>0.000000</td>\n",
       "      <td>0.000000</td>\n",
       "    </tr>\n",
       "    <tr>\n",
       "      <th>50%</th>\n",
       "      <td>30.500000</td>\n",
       "      <td>4.460000</td>\n",
       "      <td>2.000000</td>\n",
       "      <td>3.000000</td>\n",
       "      <td>120.000000</td>\n",
       "      <td>221.000000</td>\n",
       "    </tr>\n",
       "    <tr>\n",
       "      <th>75%</th>\n",
       "      <td>41.330000</td>\n",
       "      <td>9.520000</td>\n",
       "      <td>5.000000</td>\n",
       "      <td>7.000000</td>\n",
       "      <td>280.000000</td>\n",
       "      <td>1209.000000</td>\n",
       "    </tr>\n",
       "    <tr>\n",
       "      <th>max</th>\n",
       "      <td>76.750000</td>\n",
       "      <td>28.000000</td>\n",
       "      <td>28.500000</td>\n",
       "      <td>67.000000</td>\n",
       "      <td>840.000000</td>\n",
       "      <td>100000.000000</td>\n",
       "    </tr>\n",
       "  </tbody>\n",
       "</table>\n",
       "</div>"
      ],
      "text/plain": [
       "               1           2           7           10          13  \\\n",
       "count  305.000000  307.000000  307.000000  307.000000  301.000000   \n",
       "mean    33.720492    5.904951    3.427899    4.605863  164.421927   \n",
       "std     12.809641    5.471485    4.120792    6.320242  161.770675   \n",
       "min     13.750000    0.000000    0.000000    0.000000    0.000000   \n",
       "25%     23.170000    1.500000    0.750000    0.000000    0.000000   \n",
       "50%     30.500000    4.460000    2.000000    3.000000  120.000000   \n",
       "75%     41.330000    9.520000    5.000000    7.000000  280.000000   \n",
       "max     76.750000   28.000000   28.500000   67.000000  840.000000   \n",
       "\n",
       "                  14  \n",
       "count     307.000000  \n",
       "mean     2038.859935  \n",
       "std      7659.763941  \n",
       "min         0.000000  \n",
       "25%         0.000000  \n",
       "50%       221.000000  \n",
       "75%      1209.000000  \n",
       "max    100000.000000  "
      ]
     },
     "execution_count": 69,
     "metadata": {},
     "output_type": "execute_result"
    }
   ],
   "source": [
    "approved.describe()"
   ]
  },
  {
   "cell_type": "code",
   "execution_count": 70,
   "metadata": {},
   "outputs": [
    {
     "data": {
      "text/html": [
       "<div>\n",
       "<style scoped>\n",
       "    .dataframe tbody tr th:only-of-type {\n",
       "        vertical-align: middle;\n",
       "    }\n",
       "\n",
       "    .dataframe tbody tr th {\n",
       "        vertical-align: top;\n",
       "    }\n",
       "\n",
       "    .dataframe thead th {\n",
       "        text-align: right;\n",
       "    }\n",
       "</style>\n",
       "<table border=\"1\" class=\"dataframe\">\n",
       "  <thead>\n",
       "    <tr style=\"text-align: right;\">\n",
       "      <th></th>\n",
       "      <th>1</th>\n",
       "      <th>2</th>\n",
       "      <th>7</th>\n",
       "      <th>10</th>\n",
       "      <th>13</th>\n",
       "      <th>14</th>\n",
       "    </tr>\n",
       "  </thead>\n",
       "  <tbody>\n",
       "    <tr>\n",
       "      <th>count</th>\n",
       "      <td>373.000000</td>\n",
       "      <td>383.000000</td>\n",
       "      <td>383.000000</td>\n",
       "      <td>383.000000</td>\n",
       "      <td>376.000000</td>\n",
       "      <td>383.000000</td>\n",
       "    </tr>\n",
       "    <tr>\n",
       "      <th>mean</th>\n",
       "      <td>29.808231</td>\n",
       "      <td>3.839948</td>\n",
       "      <td>1.257924</td>\n",
       "      <td>0.631854</td>\n",
       "      <td>199.699468</td>\n",
       "      <td>198.605744</td>\n",
       "    </tr>\n",
       "    <tr>\n",
       "      <th>std</th>\n",
       "      <td>10.919291</td>\n",
       "      <td>4.337662</td>\n",
       "      <td>2.120481</td>\n",
       "      <td>1.900049</td>\n",
       "      <td>181.564835</td>\n",
       "      <td>671.608839</td>\n",
       "    </tr>\n",
       "    <tr>\n",
       "      <th>min</th>\n",
       "      <td>15.170000</td>\n",
       "      <td>0.000000</td>\n",
       "      <td>0.000000</td>\n",
       "      <td>0.000000</td>\n",
       "      <td>0.000000</td>\n",
       "      <td>0.000000</td>\n",
       "    </tr>\n",
       "    <tr>\n",
       "      <th>25%</th>\n",
       "      <td>22.000000</td>\n",
       "      <td>0.835000</td>\n",
       "      <td>0.125000</td>\n",
       "      <td>0.000000</td>\n",
       "      <td>100.000000</td>\n",
       "      <td>0.000000</td>\n",
       "    </tr>\n",
       "    <tr>\n",
       "      <th>50%</th>\n",
       "      <td>27.330000</td>\n",
       "      <td>2.210000</td>\n",
       "      <td>0.415000</td>\n",
       "      <td>0.000000</td>\n",
       "      <td>167.500000</td>\n",
       "      <td>1.000000</td>\n",
       "    </tr>\n",
       "    <tr>\n",
       "      <th>75%</th>\n",
       "      <td>34.830000</td>\n",
       "      <td>5.000000</td>\n",
       "      <td>1.500000</td>\n",
       "      <td>0.000000</td>\n",
       "      <td>272.000000</td>\n",
       "      <td>67.000000</td>\n",
       "    </tr>\n",
       "    <tr>\n",
       "      <th>max</th>\n",
       "      <td>80.250000</td>\n",
       "      <td>26.335000</td>\n",
       "      <td>13.875000</td>\n",
       "      <td>20.000000</td>\n",
       "      <td>2000.000000</td>\n",
       "      <td>5552.000000</td>\n",
       "    </tr>\n",
       "  </tbody>\n",
       "</table>\n",
       "</div>"
      ],
      "text/plain": [
       "               1           2           7           10           13  \\\n",
       "count  373.000000  383.000000  383.000000  383.000000   376.000000   \n",
       "mean    29.808231    3.839948    1.257924    0.631854   199.699468   \n",
       "std     10.919291    4.337662    2.120481    1.900049   181.564835   \n",
       "min     15.170000    0.000000    0.000000    0.000000     0.000000   \n",
       "25%     22.000000    0.835000    0.125000    0.000000   100.000000   \n",
       "50%     27.330000    2.210000    0.415000    0.000000   167.500000   \n",
       "75%     34.830000    5.000000    1.500000    0.000000   272.000000   \n",
       "max     80.250000   26.335000   13.875000   20.000000  2000.000000   \n",
       "\n",
       "                14  \n",
       "count   383.000000  \n",
       "mean    198.605744  \n",
       "std     671.608839  \n",
       "min       0.000000  \n",
       "25%       0.000000  \n",
       "50%       1.000000  \n",
       "75%      67.000000  \n",
       "max    5552.000000  "
      ]
     },
     "execution_count": 70,
     "metadata": {},
     "output_type": "execute_result"
    }
   ],
   "source": [
    "disappro.describe()"
   ]
  },
  {
   "cell_type": "code",
   "execution_count": 93,
   "metadata": {},
   "outputs": [],
   "source": [
    "import scipy.stats"
   ]
  },
  {
   "cell_type": "code",
   "execution_count": 105,
   "metadata": {},
   "outputs": [
    {
     "name": "stdout",
     "output_type": "stream",
     "text": [
      "1 : Ttest_indResult(statistic=nan, pvalue=nan)\n",
      "2 : Ttest_indResult(statistic=5.52998337614816, pvalue=4.551680702308068e-08)\n",
      "7 : Ttest_indResult(statistic=8.935819983773698, pvalue=3.6710537401601785e-18)\n",
      "10 : Ttest_indResult(statistic=11.667004222431277, pvalue=7.957718568079967e-29)\n",
      "13 : Ttest_indResult(statistic=nan, pvalue=nan)\n",
      "14 : Ttest_indResult(statistic=4.680216020964486, pvalue=3.4520256956287944e-06)\n"
     ]
    }
   ],
   "source": [
    "columns = [1, 2, 7, 10, 13, 14]\n",
    "for elem in columns:\n",
    "    print(elem, ':', ttest_ind(approved[elem], disappro[elem]))"
   ]
  },
  {
   "cell_type": "code",
   "execution_count": 106,
   "metadata": {},
   "outputs": [
    {
     "name": "stdout",
     "output_type": "stream",
     "text": [
      "1 : Ttest_indResult(statistic=4.675662433767456, pvalue=3.5636710933835225e-06)\n",
      "2 : Ttest_indResult(statistic=5.400813416576192, pvalue=9.310154396147606e-08)\n",
      "7 : Ttest_indResult(statistic=9.002392498622463, pvalue=2.4079238505859142e-18)\n",
      "10 : Ttest_indResult(statistic=11.336964562239809, pvalue=2.5864649620278843e-27)\n",
      "13 : Ttest_indResult(statistic=-2.18221936438708, pvalue=0.029450100409286473)\n",
      "14 : Ttest_indResult(statistic=4.475369764700449, pvalue=9.003915641872878e-06)\n"
     ]
    }
   ],
   "source": [
    "columns = [1, 2, 7, 10, 13, 14]\n",
    "for elem in columns:\n",
    "    print(elem, ':', ttest_ind(approved.dropna()[elem], disappro.dropna()[elem]))"
   ]
  },
  {
   "cell_type": "code",
   "execution_count": 74,
   "metadata": {},
   "outputs": [],
   "source": [
    "import numpy as np"
   ]
  },
  {
   "cell_type": "code",
   "execution_count": 75,
   "metadata": {},
   "outputs": [
    {
     "data": {
      "text/html": [
       "<div>\n",
       "<style scoped>\n",
       "    .dataframe tbody tr th:only-of-type {\n",
       "        vertical-align: middle;\n",
       "    }\n",
       "\n",
       "    .dataframe tbody tr th {\n",
       "        vertical-align: top;\n",
       "    }\n",
       "\n",
       "    .dataframe thead th {\n",
       "        text-align: right;\n",
       "    }\n",
       "</style>\n",
       "<table border=\"1\" class=\"dataframe\">\n",
       "  <thead>\n",
       "    <tr style=\"text-align: right;\">\n",
       "      <th></th>\n",
       "      <th>0</th>\n",
       "      <th>3</th>\n",
       "      <th>4</th>\n",
       "      <th>5</th>\n",
       "      <th>6</th>\n",
       "      <th>8</th>\n",
       "      <th>9</th>\n",
       "      <th>11</th>\n",
       "      <th>12</th>\n",
       "      <th>15</th>\n",
       "    </tr>\n",
       "  </thead>\n",
       "  <tbody>\n",
       "    <tr>\n",
       "      <th>count</th>\n",
       "      <td>304</td>\n",
       "      <td>303</td>\n",
       "      <td>303</td>\n",
       "      <td>303</td>\n",
       "      <td>303</td>\n",
       "      <td>307</td>\n",
       "      <td>307</td>\n",
       "      <td>307</td>\n",
       "      <td>307</td>\n",
       "      <td>307</td>\n",
       "    </tr>\n",
       "    <tr>\n",
       "      <th>unique</th>\n",
       "      <td>2</td>\n",
       "      <td>3</td>\n",
       "      <td>3</td>\n",
       "      <td>14</td>\n",
       "      <td>9</td>\n",
       "      <td>2</td>\n",
       "      <td>2</td>\n",
       "      <td>2</td>\n",
       "      <td>3</td>\n",
       "      <td>1</td>\n",
       "    </tr>\n",
       "    <tr>\n",
       "      <th>top</th>\n",
       "      <td>b</td>\n",
       "      <td>u</td>\n",
       "      <td>g</td>\n",
       "      <td>c</td>\n",
       "      <td>v</td>\n",
       "      <td>t</td>\n",
       "      <td>t</td>\n",
       "      <td>f</td>\n",
       "      <td>g</td>\n",
       "      <td>+</td>\n",
       "    </tr>\n",
       "    <tr>\n",
       "      <th>freq</th>\n",
       "      <td>206</td>\n",
       "      <td>256</td>\n",
       "      <td>256</td>\n",
       "      <td>62</td>\n",
       "      <td>169</td>\n",
       "      <td>284</td>\n",
       "      <td>209</td>\n",
       "      <td>161</td>\n",
       "      <td>287</td>\n",
       "      <td>307</td>\n",
       "    </tr>\n",
       "  </tbody>\n",
       "</table>\n",
       "</div>"
      ],
      "text/plain": [
       "         0    3    4    5    6    8    9    11   12   15\n",
       "count   304  303  303  303  303  307  307  307  307  307\n",
       "unique    2    3    3   14    9    2    2    2    3    1\n",
       "top       b    u    g    c    v    t    t    f    g    +\n",
       "freq    206  256  256   62  169  284  209  161  287  307"
      ]
     },
     "execution_count": 75,
     "metadata": {},
     "output_type": "execute_result"
    }
   ],
   "source": [
    "approved.describe(exclude=np.number)"
   ]
  },
  {
   "cell_type": "code",
   "execution_count": 76,
   "metadata": {},
   "outputs": [
    {
     "data": {
      "text/html": [
       "<div>\n",
       "<style scoped>\n",
       "    .dataframe tbody tr th:only-of-type {\n",
       "        vertical-align: middle;\n",
       "    }\n",
       "\n",
       "    .dataframe tbody tr th {\n",
       "        vertical-align: top;\n",
       "    }\n",
       "\n",
       "    .dataframe thead th {\n",
       "        text-align: right;\n",
       "    }\n",
       "</style>\n",
       "<table border=\"1\" class=\"dataframe\">\n",
       "  <thead>\n",
       "    <tr style=\"text-align: right;\">\n",
       "      <th></th>\n",
       "      <th>0</th>\n",
       "      <th>3</th>\n",
       "      <th>4</th>\n",
       "      <th>5</th>\n",
       "      <th>6</th>\n",
       "      <th>8</th>\n",
       "      <th>9</th>\n",
       "      <th>11</th>\n",
       "      <th>12</th>\n",
       "      <th>15</th>\n",
       "    </tr>\n",
       "  </thead>\n",
       "  <tbody>\n",
       "    <tr>\n",
       "      <th>count</th>\n",
       "      <td>374</td>\n",
       "      <td>381</td>\n",
       "      <td>381</td>\n",
       "      <td>378</td>\n",
       "      <td>378</td>\n",
       "      <td>383</td>\n",
       "      <td>383</td>\n",
       "      <td>383</td>\n",
       "      <td>383</td>\n",
       "      <td>383</td>\n",
       "    </tr>\n",
       "    <tr>\n",
       "      <th>unique</th>\n",
       "      <td>2</td>\n",
       "      <td>2</td>\n",
       "      <td>2</td>\n",
       "      <td>14</td>\n",
       "      <td>9</td>\n",
       "      <td>2</td>\n",
       "      <td>2</td>\n",
       "      <td>2</td>\n",
       "      <td>3</td>\n",
       "      <td>1</td>\n",
       "    </tr>\n",
       "    <tr>\n",
       "      <th>top</th>\n",
       "      <td>b</td>\n",
       "      <td>u</td>\n",
       "      <td>g</td>\n",
       "      <td>c</td>\n",
       "      <td>v</td>\n",
       "      <td>f</td>\n",
       "      <td>f</td>\n",
       "      <td>f</td>\n",
       "      <td>g</td>\n",
       "      <td>-</td>\n",
       "    </tr>\n",
       "    <tr>\n",
       "      <th>freq</th>\n",
       "      <td>262</td>\n",
       "      <td>263</td>\n",
       "      <td>263</td>\n",
       "      <td>75</td>\n",
       "      <td>230</td>\n",
       "      <td>306</td>\n",
       "      <td>297</td>\n",
       "      <td>213</td>\n",
       "      <td>338</td>\n",
       "      <td>383</td>\n",
       "    </tr>\n",
       "  </tbody>\n",
       "</table>\n",
       "</div>"
      ],
      "text/plain": [
       "         0    3    4    5    6    8    9    11   12   15\n",
       "count   374  381  381  378  378  383  383  383  383  383\n",
       "unique    2    2    2   14    9    2    2    2    3    1\n",
       "top       b    u    g    c    v    f    f    f    g    -\n",
       "freq    262  263  263   75  230  306  297  213  338  383"
      ]
     },
     "execution_count": 76,
     "metadata": {},
     "output_type": "execute_result"
    }
   ],
   "source": [
    "disappro.describe(exclude=np.number)"
   ]
  },
  {
   "cell_type": "code",
   "execution_count": 110,
   "metadata": {},
   "outputs": [
    {
     "name": "stdout",
     "output_type": "stream",
     "text": [
      "0 :  chisqr = 0.31128326491619945   p_val = 0.5768937883001117\n",
      "3 :  chisqr = 26.234074966202144   p_val = 2.010680204180363e-06\n",
      "4 :  chisqr = 26.234074966202144   p_val = 2.010680204180363e-06\n",
      "5 :  chisqr = 98.32520342679135   p_val = 3.4999300402715717e-15\n",
      "6 :  chisqr = 45.034207140240554   p_val = 3.625452872372267e-07\n",
      "8 :  chisqr = 355.2038167412799   p_val = 3.1185900878457007e-79\n",
      "9 :  chisqr = 143.06956205083145   p_val = 5.675727374527571e-33\n",
      "11 :  chisqr = 0.568273300792113   p_val = 0.45094587758631943\n",
      "12 :  chisqr = 9.191570451545383   p_val = 0.010094291370456362\n"
     ]
    }
   ],
   "source": [
    "columns = [0, 3, 4, 5, 6, 8, 9, 11, 12]\n",
    "for subject in columns:\n",
    "    ct = pd.crosstab(df[15], df[subject])\n",
    "    chi_sqr, p_value, dof, expected = scipy.stats.chi2_contingency(ct)\n",
    "    print(subject, ':  chisqr =', chi_sqr,'  p_val =', p_value)"
   ]
  },
  {
   "cell_type": "markdown",
   "metadata": {
    "colab_type": "text",
    "id": "ZM8JckA2bgnp"
   },
   "source": [
    "## Part 3 - Analysis and Interpretation\n",
    "\n",
    "Now that you've looked at the data, answer the following questions:\n",
    "\n",
    "- Interpret and explain the two t-tests you ran - what do they tell you about the relationships between the continuous features you selected and the class labels?\n",
    "- Interpret and explain the two Chi-squared tests you ran - what do they tell you about the relationships between the categorical features you selected and the class labels?\n",
    "- What was the most challenging part of this sprint challenge?\n",
    "\n",
    "Answer with text, but feel free to intersperse example code/results or refer to it from earlier."
   ]
  },
  {
   "cell_type": "markdown",
   "metadata": {},
   "source": [
    "### T-Tests:"
   ]
  },
  {
   "cell_type": "code",
   "execution_count": 103,
   "metadata": {},
   "outputs": [
    {
     "data": {
      "text/plain": [
       "Ttest_indResult(statistic=11.667004222431277, pvalue=7.957718568079967e-29)"
      ]
     },
     "execution_count": 103,
     "metadata": {},
     "output_type": "execute_result"
    }
   ],
   "source": [
    "ttest_ind(approved[10], disappro[10])"
   ]
  },
  {
   "cell_type": "markdown",
   "metadata": {},
   "source": [
    "Column 10 has a t-stat of 11.667, or a .0000000000000000000000000001% chance of approval being independent of column 10. This can also be read as a 99.99999999999999999999999999% confidence level. I'm confident in my assertion that column 10 does strongly affect the outcome of approval."
   ]
  },
  {
   "cell_type": "code",
   "execution_count": 107,
   "metadata": {},
   "outputs": [
    {
     "data": {
      "text/plain": [
       "Ttest_indResult(statistic=-2.18221936438708, pvalue=0.029450100409286473)"
      ]
     },
     "execution_count": 107,
     "metadata": {},
     "output_type": "execute_result"
    }
   ],
   "source": [
    "ttest_ind(approved.dropna()[13], disappro.dropna()[13])"
   ]
  },
  {
   "cell_type": "markdown",
   "metadata": {},
   "source": [
    "Column 13 has a t-stat of -2.182293. This disproves the Null hypothesis that column 13 does not effect approval. This is however only at a 97.05498995907136% Confidence level. This is still above the traditionally used standard of 95%. "
   ]
  },
  {
   "cell_type": "markdown",
   "metadata": {},
   "source": [
    "## Chi_squared tests:"
   ]
  },
  {
   "cell_type": "code",
   "execution_count": 111,
   "metadata": {},
   "outputs": [
    {
     "data": {
      "text/plain": [
       "(355.2038167412799, 3.1185900878457007e-79)"
      ]
     },
     "execution_count": 111,
     "metadata": {},
     "output_type": "execute_result"
    }
   ],
   "source": [
    "subject = 8\n",
    "chi_sqr, p_value, dof, expected = scipy.stats.chi2_contingency(pd.crosstab(df[15], df[subject]))\n",
    "chi_sqr, p_value"
   ]
  },
  {
   "cell_type": "markdown",
   "metadata": {},
   "source": [
    "Column 13 has a chi_sqr value of 355. This shows near certainty that Approval is dependent on this value. The probability that this is from chance is at 3.1185900878457007e-79. "
   ]
  },
  {
   "cell_type": "code",
   "execution_count": 112,
   "metadata": {},
   "outputs": [
    {
     "data": {
      "text/plain": [
       "(0.31128326491619945, 0.5768937883001117)"
      ]
     },
     "execution_count": 112,
     "metadata": {},
     "output_type": "execute_result"
    }
   ],
   "source": [
    "subject = 0\n",
    "chi_sqr, p_value, dof, expected = scipy.stats.chi2_contingency(pd.crosstab(df[15], df[subject]))\n",
    "chi_sqr, p_value"
   ]
  },
  {
   "cell_type": "markdown",
   "metadata": {},
   "source": [
    "Column 0 has a chi-sqr value of .311. This is not enough to disprove the Null hypothesis, it has a 60% probability of the results being simply due to chance, and not the column 0 stat."
   ]
  },
  {
   "cell_type": "markdown",
   "metadata": {},
   "source": [
    "## Final question:"
   ]
  },
  {
   "cell_type": "markdown",
   "metadata": {},
   "source": [
    "The hardest part of this sprint challenge was describing what our results meant. It was challenging because you had to beable to not only understand the results, but be able to describe them in a simple way."
   ]
  },
  {
   "cell_type": "markdown",
   "metadata": {
    "colab_type": "text",
    "id": "LIozLDNG2Uhu"
   },
   "source": []
  },
  {
   "cell_type": "code",
   "execution_count": null,
   "metadata": {},
   "outputs": [],
   "source": []
  }
 ],
 "metadata": {
  "colab": {
   "collapsed_sections": [],
   "name": "DS Unit 1 Sprint Challenge 4.ipynb",
   "provenance": [],
   "version": "0.3.2"
  },
  "kernelspec": {
   "display_name": "Python 3",
   "language": "python",
   "name": "python3"
  },
  "language_info": {
   "codemirror_mode": {
    "name": "ipython",
    "version": 3
   },
   "file_extension": ".py",
   "mimetype": "text/x-python",
   "name": "python",
   "nbconvert_exporter": "python",
   "pygments_lexer": "ipython3",
   "version": "3.7.3"
  }
 },
 "nbformat": 4,
 "nbformat_minor": 1
}
