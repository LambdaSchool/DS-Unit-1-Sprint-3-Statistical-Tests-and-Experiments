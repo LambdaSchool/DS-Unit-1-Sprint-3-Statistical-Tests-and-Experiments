{
  "nbformat": 4,
  "nbformat_minor": 0,
  "metadata": {
    "colab": {
      "name": "DS_Unit_1_Sprint_Challenge_3.ipynb",
      "version": "0.3.2",
      "provenance": [],
      "collapsed_sections": [],
      "include_colab_link": true
    },
    "language_info": {
      "codemirror_mode": {
        "name": "ipython",
        "version": 3
      },
      "file_extension": ".py",
      "mimetype": "text/x-python",
      "name": "python",
      "nbconvert_exporter": "python",
      "pygments_lexer": "ipython3",
      "version": "3.6.8"
    },
    "kernelspec": {
      "display_name": "Python 3",
      "language": "python",
      "name": "python3"
    }
  },
  "cells": [
    {
      "cell_type": "markdown",
      "metadata": {
        "id": "view-in-github",
        "colab_type": "text"
      },
      "source": [
        "<a href=\"https://colab.research.google.com/github/leehanchung/DS-Unit-1-Sprint-3-Statistical-Tests-and-Experiments/blob/master/DS_Unit_1_Sprint_Challenge_3.ipynb\" target=\"_parent\"><img src=\"https://colab.research.google.com/assets/colab-badge.svg\" alt=\"Open In Colab\"/></a>"
      ]
    },
    {
      "cell_type": "markdown",
      "metadata": {
        "colab_type": "text",
        "id": "NooAiTdnafkz"
      },
      "source": [
        "# Data Science Unit 1 Sprint Challenge 4\n",
        "\n",
        "## Exploring Data, Testing Hypotheses\n",
        "\n",
        "In this sprint challenge you will look at a dataset of people being approved or rejected for credit.\n",
        "\n",
        "https://archive.ics.uci.edu/ml/datasets/Credit+Approval\n",
        "\n",
        "Data Set Information: This file concerns credit card applications. All attribute names and values have been changed to meaningless symbols to protect confidentiality of the data. This dataset is interesting because there is a good mix of attributes -- continuous, nominal with small numbers of values, and nominal with larger numbers of values. There are also a few missing values.\n",
        "\n",
        "Attribute Information:\n",
        "- A1: b, a.\n",
        "- A2: continuous.\n",
        "- A3: continuous.\n",
        "- A4: u, y, l, t.\n",
        "- A5: g, p, gg.\n",
        "- A6: c, d, cc, i, j, k, m, r, q, w, x, e, aa, ff.\n",
        "- A7: v, h, bb, j, n, z, dd, ff, o.\n",
        "- A8: continuous.\n",
        "- A9: t, f.\n",
        "- A10: t, f.\n",
        "- A11: continuous.\n",
        "- A12: t, f.\n",
        "- A13: g, p, s.\n",
        "- A14: continuous.\n",
        "- A15: continuous.\n",
        "- A16: +,- (class attribute)\n",
        "\n",
        "Yes, most of that doesn't mean anything. A16 (the class attribute) is the most interesting, as it separates the 307 approved cases from the 383 rejected cases. The remaining variables have been obfuscated for privacy - a challenge you may have to deal with in your data science career.\n",
        "\n",
        "Sprint challenges are evaluated based on satisfactory completion of each part. It is suggested you work through it in order, getting each aspect reasonably working, before trying to deeply explore, iterate, or refine any given step. Once you get to the end, if you want to go back and improve things, go for it!"
      ]
    },
    {
      "cell_type": "markdown",
      "metadata": {
        "colab_type": "text",
        "id": "5wch6ksCbJtZ"
      },
      "source": [
        "## Part 1 - Load and validate the data\n",
        "\n",
        "- Load the data as a `pandas` data frame.\n",
        "- Validate that it has the appropriate number of observations (you can check the raw file, and also read the dataset description from UCI).\n",
        "- UCI says there should be missing data - check, and if necessary change the data so pandas recognizes it as na\n",
        "- Make sure that the loaded features are of the types described above (continuous values should be treated as float), and correct as necessary\n",
        "\n",
        "This is review, but skills that you'll use at the start of any data exploration. Further, you may have to do some investigation to figure out which file to load from - that is part of the puzzle."
      ]
    },
    {
      "cell_type": "code",
      "metadata": {
        "id": "mIwH3laZHNPu",
        "colab_type": "code",
        "colab": {}
      },
      "source": [
        "import pandas as pd\n",
        "import numpy as np\n",
        "import matplotlib.pyplot as plt\n",
        "import seaborn as sns\n",
        "import scipy.stats as st\n",
        "pd.set_option('display.max_columns', None)"
      ],
      "execution_count": 0,
      "outputs": []
    },
    {
      "cell_type": "code",
      "metadata": {
        "colab_type": "code",
        "id": "Q79xDLckzibS",
        "scrolled": false,
        "colab": {
          "base_uri": "https://localhost:8080/",
          "height": 879
        },
        "outputId": "d9634ffb-ebd9-4383-c040-afa037cfee8d"
      },
      "source": [
        "col_names = ['A1', 'A2', 'A3', 'A4', 'A5', 'A6', 'A7', 'A8', 'A9', 'A10', 'A11', 'A12', 'A13', 'A14', 'A15', 'A16']\n",
        "raw = pd.read_csv(\"https://archive.ics.uci.edu/ml/machine-learning-databases/credit-screening/crx.data\",\n",
        "                  names=col_names)\n",
        "print(raw.isnull().any())\n",
        "print(raw.describe())\n",
        "print(raw.head())\n",
        "print(raw.dtypes)\n",
        "assert raw.shape[0] == 690"
      ],
      "execution_count": 2,
      "outputs": [
        {
          "output_type": "stream",
          "text": [
            "A1     False\n",
            "A2     False\n",
            "A3     False\n",
            "A4     False\n",
            "A5     False\n",
            "A6     False\n",
            "A7     False\n",
            "A8     False\n",
            "A9     False\n",
            "A10    False\n",
            "A11    False\n",
            "A12    False\n",
            "A13    False\n",
            "A14    False\n",
            "A15    False\n",
            "A16    False\n",
            "dtype: bool\n",
            "               A3          A8        A11            A15\n",
            "count  690.000000  690.000000  690.00000     690.000000\n",
            "mean     4.758725    2.223406    2.40000    1017.385507\n",
            "std      4.978163    3.346513    4.86294    5210.102598\n",
            "min      0.000000    0.000000    0.00000       0.000000\n",
            "25%      1.000000    0.165000    0.00000       0.000000\n",
            "50%      2.750000    1.000000    0.00000       5.000000\n",
            "75%      7.207500    2.625000    3.00000     395.500000\n",
            "max     28.000000   28.500000   67.00000  100000.000000\n",
            "  A1     A2     A3 A4 A5 A6 A7    A8 A9 A10  A11 A12 A13    A14  A15 A16\n",
            "0  b  30.83  0.000  u  g  w  v  1.25  t   t    1   f   g  00202    0   +\n",
            "1  a  58.67  4.460  u  g  q  h  3.04  t   t    6   f   g  00043  560   +\n",
            "2  a  24.50  0.500  u  g  q  h  1.50  t   f    0   f   g  00280  824   +\n",
            "3  b  27.83  1.540  u  g  w  v  3.75  t   t    5   t   g  00100    3   +\n",
            "4  b  20.17  5.625  u  g  w  v  1.71  t   f    0   f   s  00120    0   +\n",
            "A1      object\n",
            "A2      object\n",
            "A3     float64\n",
            "A4      object\n",
            "A5      object\n",
            "A6      object\n",
            "A7      object\n",
            "A8     float64\n",
            "A9      object\n",
            "A10     object\n",
            "A11      int64\n",
            "A12     object\n",
            "A13     object\n",
            "A14     object\n",
            "A15      int64\n",
            "A16     object\n",
            "dtype: object\n"
          ],
          "name": "stdout"
        }
      ]
    },
    {
      "cell_type": "code",
      "metadata": {
        "id": "R16IMredHNQK",
        "colab_type": "code",
        "colab": {}
      },
      "source": [
        "cont_cols = ['A2', 'A3', 'A8', 'A11', 'A14', 'A15']\n",
        "cat_cols = ['A1', 'A4', 'A5', 'A6', 'A7', 'A9', 'A10', 'A12', 'A13']"
      ],
      "execution_count": 0,
      "outputs": []
    },
    {
      "cell_type": "code",
      "metadata": {
        "id": "vleU5GxOHNQO",
        "colab_type": "code",
        "colab": {}
      },
      "source": [
        "\"\"\"\n",
        "FROM crx.names Documentation\n",
        "\n",
        "8.  Missing Attribute Values:\n",
        "    37 cases (5%) have one or more missing values.  The missing\n",
        "    values from particular attributes are:\n",
        "\n",
        "    A1:  12\n",
        "    A2:  12\n",
        "    A4:   6\n",
        "    A5:   6\n",
        "    A6:   9\n",
        "    A7:   9\n",
        "    A14: 13\n",
        "\"\"\"\n",
        "df = raw.replace('?', np.NaN)\n",
        "# some numeric categories have dtype of object. change those to numeric\n",
        "df[cont_cols] = df[cont_cols].apply(pd.to_numeric)\n",
        "assert(df.isnull().sum().tolist() == [12, 12, 0, 6, 6, 9, 9, 0, 0, 0, 0, 0, 0, 13, 0, 0])"
      ],
      "execution_count": 0,
      "outputs": []
    },
    {
      "cell_type": "markdown",
      "metadata": {
        "colab_type": "text",
        "id": "G7rLytbrO38L"
      },
      "source": [
        "## Part 2 - Exploring data, Testing hypotheses\n",
        "\n",
        "The only thing we really know about this data is that A16 is the class label. Besides that, we have 6 continuous (float) features and 9 categorical features.\n",
        "\n",
        "Explore the data: you can use whatever approach (tables, utility functions, visualizations) to get an impression of the distributions and relationships of the variables. In general, your goal is to understand how the features are different when grouped by the two class labels (`+` and `-`).\n",
        "\n",
        "For the 6 continuous features, how are they different when split between the two class labels? Choose two features to run t-tests (again split by class label) - specifically, select one feature that is *extremely* different between the classes, and another feature that is notably less different (though perhaps still \"statistically significantly\" different). You may have to explore more than two features to do this.\n",
        "\n",
        "For the categorical features, explore by creating \"cross tabs\" (aka [contingency tables](https://en.wikipedia.org/wiki/Contingency_table)) between them and the class label, and apply the Chi-squared test to them. [pandas.crosstab](http://pandas.pydata.org/pandas-docs/stable/reference/api/pandas.crosstab.html) can create contingency tables, and [scipy.stats.chi2_contingency](https://docs.scipy.org/doc/scipy/reference/generated/scipy.stats.chi2_contingency.html) can calculate the Chi-squared statistic for them.\n",
        "\n",
        "There are 9 categorical features - as with the t-test, try to find one where the Chi-squared test returns an extreme result (rejecting the null that the data are independent), and one where it is less extreme.\n",
        "\n",
        "**NOTE** - \"less extreme\" just means smaller test statistic/larger p-value. Even the least extreme differences may be strongly statistically significant.\n",
        "\n",
        "Your *main* goal is the hypothesis tests, so don't spend too much time on the exploration/visualization piece. That is just a means to an end - use simple visualizations, such as boxplots or a scatter matrix (both built in to pandas), to get a feel for the overall distribution of the variables.\n",
        "\n",
        "This is challenging, so manage your time and aim for a baseline of at least running two t-tests and two Chi-squared tests before polishing. And don't forget to answer the questions in part 3, even if your results in this part aren't what you want them to be."
      ]
    },
    {
      "cell_type": "code",
      "metadata": {
        "id": "PIzAWGd6HNQS",
        "colab_type": "code",
        "colab": {
          "base_uri": "https://localhost:8080/",
          "height": 246
        },
        "outputId": "cde0a194-95a5-42b2-89d7-4fee61e47f01"
      },
      "source": [
        "print(\"Mean:\\n {}\\n\".format(df.groupby(['A16']).mean()))\n",
        "print(\"Standard Deviation:\\n {}\\n\\n\".format(df.groupby(['A16']).std()))\n",
        "#print(\"Descriptive Statistics:\\n {}\".format(df[cont_cols+['A16']].groupby(['A16']).describe()))"
      ],
      "execution_count": 5,
      "outputs": [
        {
          "output_type": "stream",
          "text": [
            "Mean:\n",
            "             A2        A3        A8       A11         A14          A15\n",
            "A16                                                                  \n",
            "+    33.720492  5.904951  3.427899  4.605863  164.421927  2038.859935\n",
            "-    29.808231  3.839948  1.257924  0.631854  199.699468   198.605744\n",
            "\n",
            "Standard Deviation:\n",
            "             A2        A3        A8       A11         A14          A15\n",
            "A16                                                                  \n",
            "+    12.809641  5.471485  4.120792  6.320242  161.770675  7659.763941\n",
            "-    10.919291  4.337662  2.120481  1.900049  181.564835   671.608839\n",
            "\n",
            "\n"
          ],
          "name": "stdout"
        }
      ]
    },
    {
      "cell_type": "markdown",
      "metadata": {
        "id": "pYNkxlMhHNQd",
        "colab_type": "text"
      },
      "source": [
        "**For continous features, we notice A15 has extremely different descriptive stats between the + and - classes and A2 has similar descriptive stats. Thus, we will run a two sample t test to see if they differ.**\n",
        "\n",
        "**H0**: For feature A15, '+' class and '-' class have the same mean\n",
        "\n",
        "**Ha**: For feature A15, '+' class and '-' class have do not have the same mean\n",
        "\n",
        "Alpha is set to 0.05"
      ]
    },
    {
      "cell_type": "code",
      "metadata": {
        "id": "9Zz37FK6HNQh",
        "colab_type": "code",
        "colab": {}
      },
      "source": [
        "cont_plus = df[df['A16'] == '+'][cont_cols]\n",
        "cont_minus = df[df['A16'] == '-'][cont_cols]"
      ],
      "execution_count": 0,
      "outputs": []
    },
    {
      "cell_type": "code",
      "metadata": {
        "id": "QmpeeCGzHNQu",
        "colab_type": "code",
        "colab": {
          "base_uri": "https://localhost:8080/",
          "height": 35
        },
        "outputId": "6da9239d-35cf-41b7-9f1b-d686a2b4e7b4"
      },
      "source": [
        "st.ttest_ind(cont_plus['A15'], cont_minus['A15'], nan_policy='omit')"
      ],
      "execution_count": 7,
      "outputs": [
        {
          "output_type": "execute_result",
          "data": {
            "text/plain": [
              "Ttest_indResult(statistic=4.680216020964486, pvalue=3.4520256956287944e-06)"
            ]
          },
          "metadata": {
            "tags": []
          },
          "execution_count": 7
        }
      ]
    },
    {
      "cell_type": "code",
      "metadata": {
        "id": "-F3NptfZHNQ5",
        "colab_type": "code",
        "colab": {
          "base_uri": "https://localhost:8080/",
          "height": 283
        },
        "outputId": "fcf951a2-f04c-4dcc-dc3c-b4c79259a804"
      },
      "source": [
        "fig, ax = plt.subplots()\n",
        "sns.distplot(cont_plus['A15'].dropna(),label='+', ax=ax)\n",
        "sns.distplot(cont_minus['A15'].dropna(),label='-', ax=ax)\n",
        "ax.set_xlim([-1000,4000]);"
      ],
      "execution_count": 8,
      "outputs": [
        {
          "output_type": "display_data",
          "data": {
            "image/png": "[encoded data removed]",
            "text/plain": [
              "<Figure size 432x288 with 1 Axes>"
            ]
          },
          "metadata": {
            "tags": []
          }
        }
      ]
    },
    {
      "cell_type": "code",
      "metadata": {
        "id": "alkj47StHNQ9",
        "colab_type": "code",
        "colab": {
          "base_uri": "https://localhost:8080/",
          "height": 283
        },
        "outputId": "26defa80-6a22-448d-f1a8-02056962f311"
      },
      "source": [
        "sns.violinplot(x=\"A16\", y=\"A15\", data=df);"
      ],
      "execution_count": 9,
      "outputs": [
        {
          "output_type": "display_data",
          "data": {
            "image/png": "[encoded data removed]",
            "text/plain": [
              "<Figure size 432x288 with 1 Axes>"
            ]
          },
          "metadata": {
            "tags": []
          }
        }
      ]
    },
    {
      "cell_type": "markdown",
      "metadata": {
        "id": "KdKhVAw1HNRB",
        "colab_type": "text"
      },
      "source": [
        "Since p-value < 0.05 of the two sample t-test is less than 0.05, we can reject **H0** that '+' and '-' for feature 'A15' have the same mean.\n",
        "\n",
        "Now for A2.\n",
        "\n",
        "**H0**: For feature A2, '+' class and '-' class have enough evidence to show that they have the same mean\n",
        "\n",
        "**Ha**: For feature A2, '+' class and '-' class do not have enough evidence to show the same mean\n",
        "\n",
        "Alpha is set to 0.05"
      ]
    },
    {
      "cell_type": "code",
      "metadata": {
        "id": "iB3F8E6-HNRD",
        "colab_type": "code",
        "colab": {
          "base_uri": "https://localhost:8080/",
          "height": 35
        },
        "outputId": "753795b7-7ecd-4ab1-97a5-3e1848eb0c2f"
      },
      "source": [
        "st.ttest_ind(cont_plus['A2'], cont_minus['A2'], nan_policy='omit')"
      ],
      "execution_count": 10,
      "outputs": [
        {
          "output_type": "execute_result",
          "data": {
            "text/plain": [
              "Ttest_indResult(statistic=4.2922156166315535, pvalue=2.0276637071781407e-05)"
            ]
          },
          "metadata": {
            "tags": []
          },
          "execution_count": 10
        }
      ]
    },
    {
      "cell_type": "markdown",
      "metadata": {
        "id": "tqCJGLJQHNRJ",
        "colab_type": "text"
      },
      "source": [
        "Since p-value of the two sample t-test is less than 0.05, we can reject the Null that for feature 'A2', '+' class and '-' class have the same mean. Plotting some random charts for sanity check."
      ]
    },
    {
      "cell_type": "code",
      "metadata": {
        "id": "obr6OiLuHNRK",
        "colab_type": "code",
        "colab": {
          "base_uri": "https://localhost:8080/",
          "height": 283
        },
        "outputId": "369e3a6a-cff8-4605-ea4d-f674eb43b58d"
      },
      "source": [
        "sns.distplot(cont_plus['A2'].dropna(),label='+');\n",
        "sns.distplot(cont_minus['A2'].dropna(),label='-');"
      ],
      "execution_count": 11,
      "outputs": [
        {
          "output_type": "display_data",
          "data": {
            "image/png": "[encoded data removed]",
            "text/plain": [
              "<Figure size 432x288 with 1 Axes>"
            ]
          },
          "metadata": {
            "tags": []
          }
        }
      ]
    },
    {
      "cell_type": "code",
      "metadata": {
        "id": "F8UlwyTYHNRO",
        "colab_type": "code",
        "colab": {
          "base_uri": "https://localhost:8080/",
          "height": 283
        },
        "outputId": "bbfc1d0f-3da9-432e-9709-0016a3393ba3"
      },
      "source": [
        "sns.violinplot(x=\"A16\", y=\"A2\", data=df);"
      ],
      "execution_count": 12,
      "outputs": [
        {
          "output_type": "display_data",
          "data": {
            "image/png": "[encoded data removed]",
            "text/plain": [
              "<Figure size 432x288 with 1 Axes>"
            ]
          },
          "metadata": {
            "tags": []
          }
        }
      ]
    },
    {
      "cell_type": "code",
      "metadata": {
        "id": "umWMAJejHNRX",
        "colab_type": "code",
        "colab": {
          "base_uri": "https://localhost:8080/",
          "height": 123
        },
        "outputId": "9d5082fa-d8c2-4058-c931-6b9a7d816e90"
      },
      "source": [
        "for cont in cont_cols:\n",
        "    _, pval = st.ttest_ind(cont_plus[cont], cont_minus[cont], nan_policy='omit')\n",
        "    print(\"Two sample t-test for {} produces an result of {}\".format(cont,pval))\n",
        "    "
      ],
      "execution_count": 13,
      "outputs": [
        {
          "output_type": "stream",
          "text": [
            "Two sample t-test for A2 produces an result of 2.0276637071781407e-05\n",
            "Two sample t-test for A3 produces an result of 4.551680702308068e-08\n",
            "Two sample t-test for A8 produces an result of 3.6710537401601785e-18\n",
            "Two sample t-test for A11 produces an result of 7.957718568079967e-29\n",
            "Two sample t-test for A14 produces an result of 0.008586135473979569\n",
            "Two sample t-test for A15 produces an result of 3.4520256956287944e-06\n"
          ],
          "name": "stdout"
        }
      ]
    },
    {
      "cell_type": "markdown",
      "metadata": {
        "id": "q4wI8xYEHNRc",
        "colab_type": "text"
      },
      "source": [
        "For the categorical features, explore by creating **\"cross tabs\" (aka contingency tables) between them and the class label, and apply the Chi-squared test to them.** pandas.crosstab can create contingency tables, and scipy.stats.chi2_contingency can calculate the Chi-squared statistic for them.\n",
        "\n",
        "### There are 9 categorical features - as with the t-test, try to find one where the Chi-squared test returns an extreme result (rejecting the null that the data are independent), and one where it is less extreme.###"
      ]
    },
    {
      "cell_type": "markdown",
      "metadata": {
        "id": "ZUnI0vC1HNRd",
        "colab_type": "text"
      },
      "source": [
        "#### Cross Tabs"
      ]
    },
    {
      "cell_type": "code",
      "metadata": {
        "scrolled": false,
        "id": "nTIeTDeXHNRf",
        "colab_type": "code",
        "colab": {
          "base_uri": "https://localhost:8080/",
          "height": 967
        },
        "outputId": "6cd6faf5-3034-47a8-93b4-9af66b8d0bbf"
      },
      "source": [
        "for cat in cat_cols:\n",
        "    print(pd.crosstab(df['A16'], df[cat]))\n",
        "    print('\\n')"
      ],
      "execution_count": 14,
      "outputs": [
        {
          "output_type": "stream",
          "text": [
            "A1     a    b\n",
            "A16          \n",
            "+     98  206\n",
            "-    112  262\n",
            "\n",
            "\n",
            "A4   l    u    y\n",
            "A16             \n",
            "+    2  256   45\n",
            "-    0  263  118\n",
            "\n",
            "\n",
            "A5     g  gg    p\n",
            "A16              \n",
            "+    256   2   45\n",
            "-    263   0  118\n",
            "\n",
            "\n",
            "A6   aa   c  cc   d   e  ff   i  j   k   m   q  r   w   x\n",
            "A16                                                      \n",
            "+    19  62  29   7  14   7  14  3  14  16  51  2  33  32\n",
            "-    35  75  12  23  11  46  45  7  37  22  27  1  31   6\n",
            "\n",
            "\n",
            "A7   bb  dd  ff   h  j  n  o    v  z\n",
            "A16                                 \n",
            "+    25   2   8  87  3  2  1  169  6\n",
            "-    34   4  49  51  5  2  1  230  2\n",
            "\n",
            "\n",
            "A9     f    t\n",
            "A16          \n",
            "+     23  284\n",
            "-    306   77\n",
            "\n",
            "\n",
            "A10    f    t\n",
            "A16          \n",
            "+     98  209\n",
            "-    297   86\n",
            "\n",
            "\n",
            "A12    f    t\n",
            "A16          \n",
            "+    161  146\n",
            "-    213  170\n",
            "\n",
            "\n",
            "A13    g  p   s\n",
            "A16            \n",
            "+    287  5  15\n",
            "-    338  3  42\n",
            "\n",
            "\n"
          ],
          "name": "stdout"
        }
      ]
    },
    {
      "cell_type": "markdown",
      "metadata": {
        "id": "dsfBsx8gHNRk",
        "colab_type": "text"
      },
      "source": [
        "#### Chi square tests"
      ]
    },
    {
      "cell_type": "code",
      "metadata": {
        "id": "iTR0998eHNRk",
        "colab_type": "code",
        "colab": {
          "base_uri": "https://localhost:8080/",
          "height": 175
        },
        "outputId": "889a60a7-3498-4b9e-8e38-1484097139db"
      },
      "source": [
        "for cat in cat_cols:\n",
        "    _, pval, _, _ = st.chi2_contingency(pd.crosstab(df['A1'], df[cat]), correction=False)\n",
        "    if pval > 0.05:\n",
        "        print(\"For {}, we can reject the null that classes are independent with p-value of {}.\".format(cat, pval))\n",
        "    else:\n",
        "        print(\"For {}, we CANNOT reject the null that classes are independent with p-value of {}.\".format(cat, pval))"
      ],
      "execution_count": 15,
      "outputs": [
        {
          "output_type": "stream",
          "text": [
            "For A1, we CANNOT reject the null that classes are independent with p-value of 1.8191044737481392e-149.\n",
            "For A4, we can reject the null that classes are independent with p-value of 0.16927014245378488.\n",
            "For A5, we can reject the null that classes are independent with p-value of 0.16927014245378488.\n",
            "For A6, we CANNOT reject the null that classes are independent with p-value of 7.057474341497169e-13.\n",
            "For A7, we CANNOT reject the null that classes are independent with p-value of 0.00014212870614743197.\n",
            "For A9, we can reject the null that classes are independent with p-value of 0.6406280767021049.\n",
            "For A10, we can reject the null that classes are independent with p-value of 0.052548206557927704.\n",
            "For A12, we can reject the null that classes are independent with p-value of 0.1651171396624529.\n",
            "For A13, we can reject the null that classes are independent with p-value of 0.09199124541769176.\n"
          ],
          "name": "stdout"
        }
      ]
    },
    {
      "cell_type": "markdown",
      "metadata": {
        "colab_type": "text",
        "id": "ZM8JckA2bgnp"
      },
      "source": [
        "## Part 3 - Analysis and Interpretation\n",
        "\n",
        "Now that you've looked at the data, answer the following questions:\n",
        "\n",
        "- Interpret and explain the two t-tests you ran - what do they tell you about the relationships between the continuous features you selected and the class labels?\n",
        "- Interpret and explain the two Chi-squared tests you ran - what do they tell you about the relationships between the categorical features you selected and the class labels?\n",
        "- What was the most challenging part of this sprint challenge?\n",
        "\n",
        "Answer with text, but feel free to intersperse example code/results or refer to it from earlier."
      ]
    },
    {
      "cell_type": "markdown",
      "metadata": {
        "colab_type": "text",
        "id": "LIozLDNG2Uhu"
      },
      "source": [
        "*Your words here!*"
      ]
    },
    {
      "cell_type": "markdown",
      "metadata": {
        "id": "hmTx3TNUHNRs",
        "colab_type": "text"
      },
      "source": [
        "**For the two t-tests,** we chose A2 and A15 to test if class '+' and class '-' have the same mean.  We fail to reject both, thus they do not have the same means. \n",
        "\n",
        "We found that interesting so we made a few plots for sanity check. For A15, it is quite clear that the distribution for both classes are very different due to the extreme outliers. However, for A2, the distributions of both classes looks to have similar shapes yet the two sample t-test fail to reject the null that both classes have same means. Upon further investigation throughout every single continuous variable, we found that we were able to reject the null hypothesis that both classes have the same mean for all numeric categories. Perhaps there might not be enough evidences to show.\n",
        "\n",
        "**For the categorical variables,** we simply run chi-square tests through all of them. For category A1, A6, and A7, we *cannot* reject the null hypothesis that the two classes are independent.  For category A4, A5, A9, A10, A12, A13, we *can* reject the null hypothesis that the classes are independent.\n",
        "\n",
        "**The most challenging part** of this sprint challenge is trying to make sense of the two sample t-tests failing to reject the null when the mean and standard deviation are similar.\n"
      ]
    },
    {
      "cell_type": "markdown",
      "metadata": {
        "id": "1p1Mj7JwHNRv",
        "colab_type": "text"
      },
      "source": [
        "*Your words there!*"
      ]
    }
  ]
}