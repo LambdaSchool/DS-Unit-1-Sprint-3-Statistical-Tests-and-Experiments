{
  "nbformat": 4,
  "nbformat_minor": 0,
  "metadata": {
    "colab": {
      "name": "DS_Unit_1_Sprint_Challenge_3.ipynb",
      "version": "0.3.2",
      "provenance": [],
      "collapsed_sections": [],
      "include_colab_link": true
    },
    "kernelspec": {
      "name": "python3",
      "display_name": "Python 3"
    }
  },
  "cells": [
    {
      "cell_type": "markdown",
      "metadata": {
        "id": "view-in-github",
        "colab_type": "text"
      },
      "source": [
        "<a href=\"https://colab.research.google.com/github/Nov05/DS-Unit-1-Sprint-3-Statistical-Tests-and-Experiments/blob/master/DS_Unit_1_Sprint_Challenge_3.ipynb\" target=\"_parent\"><img src=\"https://colab.research.google.com/assets/colab-badge.svg\" alt=\"Open In Colab\"/></a>"
      ]
    },
    {
      "cell_type": "code",
      "metadata": {
        "id": "NjoRcNWvgjvz",
        "colab_type": "code",
        "colab": {}
      },
      "source": [
        "# modified by nov05 on 2019-06-14"
      ],
      "execution_count": 0,
      "outputs": []
    },
    {
      "cell_type": "code",
      "metadata": {
        "id": "O1-4EqVshZhu",
        "colab_type": "code",
        "colab": {}
      },
      "source": [
        "from scipy import stats \n",
        "from scipy.stats import ttest_1samp\n",
        "from scipy.stats import ttest_ind\n",
        "\n",
        "import numpy as np\n",
        "import pandas as pd\n",
        "\n",
        "import matplotlib\n",
        "import matplotlib.pyplot as plt\n",
        "import matplotlib.ticker as ticker\n",
        "import seaborn as sns\n",
        "import altair as alt\n",
        "\n",
        "from IPython.display import display, Image\n",
        "from google.colab import files\n",
        "\n",
        "%matplotlib inline\n",
        "pd.set_option('display.max_rows', 500)\n",
        "pd.set_option('display.max_columns', 500)\n",
        "\n",
        "# import warnings\n",
        "# warnings.filterwarnings('ignore')\n",
        "# warnings.filterwarnings(action='once')"
      ],
      "execution_count": 0,
      "outputs": []
    },
    {
      "cell_type": "markdown",
      "metadata": {
        "id": "NooAiTdnafkz",
        "colab_type": "text"
      },
      "source": [
        "# Data Science Unit 1 Sprint Challenge 4\n",
        "\n",
        "## Exploring Data, Testing Hypotheses\n",
        "\n",
        "In this sprint challenge you will look at a dataset of people being approved or rejected for credit.\n",
        "\n",
        "https://archive.ics.uci.edu/ml/datasets/Credit+Approval\n",
        "\n",
        "Data Set Information: This file concerns credit card applications. All attribute names and values have been changed to meaningless symbols to protect confidentiality of the data. This dataset is interesting because there is a good mix of attributes -- continuous, nominal with small numbers of values, and nominal with larger numbers of values. There are also a few missing values.\n",
        "\n",
        "Attribute Information:\n",
        "- A1: b, a.\n",
        "- A2: continuous.\n",
        "- A3: continuous.\n",
        "- A4: u, y, l, t.\n",
        "- A5: g, p, gg.\n",
        "- A6: c, d, cc, i, j, k, m, r, q, w, x, e, aa, ff.\n",
        "- A7: v, h, bb, j, n, z, dd, ff, o.\n",
        "- A8: continuous.\n",
        "- A9: t, f.\n",
        "- A10: t, f.\n",
        "- A11: continuous.\n",
        "- A12: t, f.\n",
        "- A13: g, p, s.\n",
        "- A14: continuous.\n",
        "- A15: continuous.\n",
        "- A16: +,- (class attribute)\n",
        "\n",
        "Yes, most of that doesn't mean anything. A16 (the class attribute) is the most interesting, as it separates the 307 approved cases from the 383 rejected cases. The remaining variables have been obfuscated for privacy - a challenge you may have to deal with in your data science career.\n",
        "\n",
        "Sprint challenges are evaluated based on satisfactory completion of each part. It is suggested you work through it in order, getting each aspect reasonably working, before trying to deeply explore, iterate, or refine any given step. Once you get to the end, if you want to go back and improve things, go for it!"
      ]
    },
    {
      "cell_type": "markdown",
      "metadata": {
        "id": "5wch6ksCbJtZ",
        "colab_type": "text"
      },
      "source": [
        "## Part 1 - Load and validate the data\n",
        "\n",
        "- Load the data as a `pandas` data frame.\n",
        "- Validate that it has the appropriate number of observations (you can check the raw file, and also read the dataset description from UCI).\n",
        "- UCI says there should be missing data - check, and if necessary change the data so pandas recognizes it as na\n",
        "- Make sure that the loaded features are of the types described above (continuous values should be treated as float), and correct as necessary\n",
        "\n",
        "This is review, but skills that you'll use at the start of any data exploration. Further, you may have to do some investigation to figure out which file to load from - that is part of the puzzle."
      ]
    },
    {
      "cell_type": "code",
      "metadata": {
        "id": "Q79xDLckzibS",
        "colab_type": "code",
        "colab": {}
      },
      "source": [
        "# TODO\n",
        "url_data = \"https://archive.ics.uci.edu/ml/machine-learning-databases/credit-screening/crx.data\"\n",
        "url_names = \"https://archive.ics.uci.edu/ml/machine-learning-databases/credit-screening/crx.names\""
      ],
      "execution_count": 0,
      "outputs": []
    },
    {
      "cell_type": "code",
      "metadata": {
        "id": "XIEhF7yWijgu",
        "colab_type": "code",
        "outputId": "64691854-49e6-4c03-8cea-10d2640e09d9",
        "colab": {
          "base_uri": "https://localhost:8080/",
          "height": 1151
        }
      },
      "source": [
        "!curl https://archive.ics.uci.edu/ml/machine-learning-databases/credit-screening/crx.names"
      ],
      "execution_count": 0,
      "outputs": [
        {
          "output_type": "stream",
          "text": [
            "\n",
            "1. Title: Credit Approval\n",
            "\n",
            "2. Sources: \n",
            "    (confidential)\n",
            "    Submitted by quinlan@cs.su.oz.au\n",
            "\n",
            "3.  Past Usage:\n",
            "\n",
            "    See Quinlan,\n",
            "    * \"Simplifying decision trees\", Int J Man-Machine Studies 27,\n",
            "      Dec 1987, pp. 221-234.\n",
            "    * \"C4.5: Programs for Machine Learning\", Morgan Kaufmann, Oct 1992\n",
            "  \n",
            "4.  Relevant Information:\n",
            "\n",
            "    This file concerns credit card applications.  All attribute names\n",
            "    and values have been changed to meaningless symbols to protect\n",
            "    confidentiality of the data.\n",
            "  \n",
            "    This dataset is interesting because there is a good mix of\n",
            "    attributes -- continuous, nominal with small numbers of\n",
            "    values, and nominal with larger numbers of values.  There\n",
            "    are also a few missing values.\n",
            "  \n",
            "5.  Number of Instances: 690\n",
            "\n",
            "6.  Number of Attributes: 15 + class attribute\n",
            "\n",
            "7.  Attribute Information:\n",
            "\n",
            "    A1:\tb, a.\n",
            "    A2:\tcontinuous.\n",
            "    A3:\tcontinuous.\n",
            "    A4:\tu, y, l, t.\n",
            "    A5:\tg, p, gg.\n",
            "    A6:\tc, d, cc, i, j, k, m, r, q, w, x, e, aa, ff.\n",
            "    A7:\tv, h, bb, j, n, z, dd, ff, o.\n",
            "    A8:\tcontinuous.\n",
            "    A9:\tt, f.\n",
            "    A10:\tt, f.\n",
            "    A11:\tcontinuous.\n",
            "    A12:\tt, f.\n",
            "    A13:\tg, p, s.\n",
            "    A14:\tcontinuous.\n",
            "    A15:\tcontinuous.\n",
            "    A16: +,-         (class attribute)\n",
            "\n",
            "8.  Missing Attribute Values:\n",
            "    37 cases (5%) have one or more missing values.  The missing\n",
            "    values from particular attributes are:\n",
            "\n",
            "    A1:  12\n",
            "    A2:  12\n",
            "    A4:   6\n",
            "    A5:   6\n",
            "    A6:   9\n",
            "    A7:   9\n",
            "    A14: 13\n",
            "\n",
            "9.  Class Distribution\n",
            "  \n",
            "    +: 307 (44.5%)\n",
            "    -: 383 (55.5%)\n",
            "\n"
          ],
          "name": "stdout"
        }
      ]
    },
    {
      "cell_type": "code",
      "metadata": {
        "id": "2_F7C2hShlSl",
        "colab_type": "code",
        "outputId": "2976d79b-5e03-4dd8-bafe-4751e383ed81",
        "colab": {
          "base_uri": "https://localhost:8080/",
          "height": 220
        }
      },
      "source": [
        "my_data = pd.read_csv(url_data, header=None)\n",
        "print(my_data.shape) # (690, 15)\n",
        "my_data.head()"
      ],
      "execution_count": 0,
      "outputs": [
        {
          "output_type": "stream",
          "text": [
            "(690, 16)\n"
          ],
          "name": "stdout"
        },
        {
          "output_type": "execute_result",
          "data": {
            "text/html": [
              "<div>\n",
              "<style scoped>\n",
              "    .dataframe tbody tr th:only-of-type {\n",
              "        vertical-align: middle;\n",
              "    }\n",
              "\n",
              "    .dataframe tbody tr th {\n",
              "        vertical-align: top;\n",
              "    }\n",
              "\n",
              "    .dataframe thead th {\n",
              "        text-align: right;\n",
              "    }\n",
              "</style>\n",
              "<table border=\"1\" class=\"dataframe\">\n",
              "  <thead>\n",
              "    <tr style=\"text-align: right;\">\n",
              "      <th></th>\n",
              "      <th>0</th>\n",
              "      <th>1</th>\n",
              "      <th>2</th>\n",
              "      <th>3</th>\n",
              "      <th>4</th>\n",
              "      <th>5</th>\n",
              "      <th>6</th>\n",
              "      <th>7</th>\n",
              "      <th>8</th>\n",
              "      <th>9</th>\n",
              "      <th>10</th>\n",
              "      <th>11</th>\n",
              "      <th>12</th>\n",
              "      <th>13</th>\n",
              "      <th>14</th>\n",
              "      <th>15</th>\n",
              "    </tr>\n",
              "  </thead>\n",
              "  <tbody>\n",
              "    <tr>\n",
              "      <th>0</th>\n",
              "      <td>b</td>\n",
              "      <td>30.83</td>\n",
              "      <td>0.000</td>\n",
              "      <td>u</td>\n",
              "      <td>g</td>\n",
              "      <td>w</td>\n",
              "      <td>v</td>\n",
              "      <td>1.25</td>\n",
              "      <td>t</td>\n",
              "      <td>t</td>\n",
              "      <td>1</td>\n",
              "      <td>f</td>\n",
              "      <td>g</td>\n",
              "      <td>00202</td>\n",
              "      <td>0</td>\n",
              "      <td>+</td>\n",
              "    </tr>\n",
              "    <tr>\n",
              "      <th>1</th>\n",
              "      <td>a</td>\n",
              "      <td>58.67</td>\n",
              "      <td>4.460</td>\n",
              "      <td>u</td>\n",
              "      <td>g</td>\n",
              "      <td>q</td>\n",
              "      <td>h</td>\n",
              "      <td>3.04</td>\n",
              "      <td>t</td>\n",
              "      <td>t</td>\n",
              "      <td>6</td>\n",
              "      <td>f</td>\n",
              "      <td>g</td>\n",
              "      <td>00043</td>\n",
              "      <td>560</td>\n",
              "      <td>+</td>\n",
              "    </tr>\n",
              "    <tr>\n",
              "      <th>2</th>\n",
              "      <td>a</td>\n",
              "      <td>24.50</td>\n",
              "      <td>0.500</td>\n",
              "      <td>u</td>\n",
              "      <td>g</td>\n",
              "      <td>q</td>\n",
              "      <td>h</td>\n",
              "      <td>1.50</td>\n",
              "      <td>t</td>\n",
              "      <td>f</td>\n",
              "      <td>0</td>\n",
              "      <td>f</td>\n",
              "      <td>g</td>\n",
              "      <td>00280</td>\n",
              "      <td>824</td>\n",
              "      <td>+</td>\n",
              "    </tr>\n",
              "    <tr>\n",
              "      <th>3</th>\n",
              "      <td>b</td>\n",
              "      <td>27.83</td>\n",
              "      <td>1.540</td>\n",
              "      <td>u</td>\n",
              "      <td>g</td>\n",
              "      <td>w</td>\n",
              "      <td>v</td>\n",
              "      <td>3.75</td>\n",
              "      <td>t</td>\n",
              "      <td>t</td>\n",
              "      <td>5</td>\n",
              "      <td>t</td>\n",
              "      <td>g</td>\n",
              "      <td>00100</td>\n",
              "      <td>3</td>\n",
              "      <td>+</td>\n",
              "    </tr>\n",
              "    <tr>\n",
              "      <th>4</th>\n",
              "      <td>b</td>\n",
              "      <td>20.17</td>\n",
              "      <td>5.625</td>\n",
              "      <td>u</td>\n",
              "      <td>g</td>\n",
              "      <td>w</td>\n",
              "      <td>v</td>\n",
              "      <td>1.71</td>\n",
              "      <td>t</td>\n",
              "      <td>f</td>\n",
              "      <td>0</td>\n",
              "      <td>f</td>\n",
              "      <td>s</td>\n",
              "      <td>00120</td>\n",
              "      <td>0</td>\n",
              "      <td>+</td>\n",
              "    </tr>\n",
              "  </tbody>\n",
              "</table>\n",
              "</div>"
            ],
            "text/plain": [
              "  0      1      2  3  4  5  6     7  8  9   10 11 12     13   14 15\n",
              "0  b  30.83  0.000  u  g  w  v  1.25  t  t   1  f  g  00202    0  +\n",
              "1  a  58.67  4.460  u  g  q  h  3.04  t  t   6  f  g  00043  560  +\n",
              "2  a  24.50  0.500  u  g  q  h  1.50  t  f   0  f  g  00280  824  +\n",
              "3  b  27.83  1.540  u  g  w  v  3.75  t  t   5  t  g  00100    3  +\n",
              "4  b  20.17  5.625  u  g  w  v  1.71  t  f   0  f  s  00120    0  +"
            ]
          },
          "metadata": {
            "tags": []
          },
          "execution_count": 8
        }
      ]
    },
    {
      "cell_type": "code",
      "metadata": {
        "id": "MsTcS5wqor2Y",
        "colab_type": "code",
        "outputId": "9865ff7a-6e75-41f2-f2f0-ad1bf51b7104",
        "colab": {
          "base_uri": "https://localhost:8080/",
          "height": 79
        }
      },
      "source": [
        "# rename columns\n",
        "names = ['A'+str(x) for x in range(1,17)]\n",
        "my_data.columns = names\n",
        "my_data.head(1)"
      ],
      "execution_count": 0,
      "outputs": [
        {
          "output_type": "execute_result",
          "data": {
            "text/html": [
              "<div>\n",
              "<style scoped>\n",
              "    .dataframe tbody tr th:only-of-type {\n",
              "        vertical-align: middle;\n",
              "    }\n",
              "\n",
              "    .dataframe tbody tr th {\n",
              "        vertical-align: top;\n",
              "    }\n",
              "\n",
              "    .dataframe thead th {\n",
              "        text-align: right;\n",
              "    }\n",
              "</style>\n",
              "<table border=\"1\" class=\"dataframe\">\n",
              "  <thead>\n",
              "    <tr style=\"text-align: right;\">\n",
              "      <th></th>\n",
              "      <th>A1</th>\n",
              "      <th>A2</th>\n",
              "      <th>A3</th>\n",
              "      <th>A4</th>\n",
              "      <th>A5</th>\n",
              "      <th>A6</th>\n",
              "      <th>A7</th>\n",
              "      <th>A8</th>\n",
              "      <th>A9</th>\n",
              "      <th>A10</th>\n",
              "      <th>A11</th>\n",
              "      <th>A12</th>\n",
              "      <th>A13</th>\n",
              "      <th>A14</th>\n",
              "      <th>A15</th>\n",
              "      <th>A16</th>\n",
              "    </tr>\n",
              "  </thead>\n",
              "  <tbody>\n",
              "    <tr>\n",
              "      <th>0</th>\n",
              "      <td>b</td>\n",
              "      <td>30.83</td>\n",
              "      <td>0.0</td>\n",
              "      <td>u</td>\n",
              "      <td>g</td>\n",
              "      <td>w</td>\n",
              "      <td>v</td>\n",
              "      <td>1.25</td>\n",
              "      <td>t</td>\n",
              "      <td>t</td>\n",
              "      <td>1</td>\n",
              "      <td>f</td>\n",
              "      <td>g</td>\n",
              "      <td>00202</td>\n",
              "      <td>0</td>\n",
              "      <td>+</td>\n",
              "    </tr>\n",
              "  </tbody>\n",
              "</table>\n",
              "</div>"
            ],
            "text/plain": [
              "  A1     A2   A3 A4 A5 A6 A7    A8 A9 A10  A11 A12 A13    A14  A15 A16\n",
              "0  b  30.83  0.0  u  g  w  v  1.25  t   t    1   f   g  00202    0   +"
            ]
          },
          "metadata": {
            "tags": []
          },
          "execution_count": 49
        }
      ]
    },
    {
      "cell_type": "code",
      "metadata": {
        "id": "cKThEdhXlXUj",
        "colab_type": "code",
        "outputId": "68fca0a7-e25f-4939-fcfd-84cbd79e1dbf",
        "colab": {
          "base_uri": "https://localhost:8080/",
          "height": 203
        }
      },
      "source": [
        "my_data.replace(to_replace='?', value=np.nan, inplace=True)\n",
        "my_data[my_data['A3']==0].head()"
      ],
      "execution_count": 0,
      "outputs": [
        {
          "output_type": "execute_result",
          "data": {
            "text/html": [
              "<div>\n",
              "<style scoped>\n",
              "    .dataframe tbody tr th:only-of-type {\n",
              "        vertical-align: middle;\n",
              "    }\n",
              "\n",
              "    .dataframe tbody tr th {\n",
              "        vertical-align: top;\n",
              "    }\n",
              "\n",
              "    .dataframe thead th {\n",
              "        text-align: right;\n",
              "    }\n",
              "</style>\n",
              "<table border=\"1\" class=\"dataframe\">\n",
              "  <thead>\n",
              "    <tr style=\"text-align: right;\">\n",
              "      <th></th>\n",
              "      <th>0</th>\n",
              "      <th>1</th>\n",
              "      <th>2</th>\n",
              "      <th>3</th>\n",
              "      <th>4</th>\n",
              "      <th>5</th>\n",
              "      <th>6</th>\n",
              "      <th>7</th>\n",
              "      <th>8</th>\n",
              "      <th>9</th>\n",
              "      <th>10</th>\n",
              "      <th>11</th>\n",
              "      <th>12</th>\n",
              "      <th>13</th>\n",
              "      <th>14</th>\n",
              "      <th>15</th>\n",
              "    </tr>\n",
              "  </thead>\n",
              "  <tbody>\n",
              "    <tr>\n",
              "      <th>0</th>\n",
              "      <td>b</td>\n",
              "      <td>30.83</td>\n",
              "      <td>0.0</td>\n",
              "      <td>u</td>\n",
              "      <td>g</td>\n",
              "      <td>w</td>\n",
              "      <td>v</td>\n",
              "      <td>1.250</td>\n",
              "      <td>t</td>\n",
              "      <td>t</td>\n",
              "      <td>1</td>\n",
              "      <td>f</td>\n",
              "      <td>g</td>\n",
              "      <td>00202</td>\n",
              "      <td>0</td>\n",
              "      <td>+</td>\n",
              "    </tr>\n",
              "    <tr>\n",
              "      <th>56</th>\n",
              "      <td>b</td>\n",
              "      <td>23.17</td>\n",
              "      <td>0.0</td>\n",
              "      <td>u</td>\n",
              "      <td>g</td>\n",
              "      <td>cc</td>\n",
              "      <td>v</td>\n",
              "      <td>0.085</td>\n",
              "      <td>t</td>\n",
              "      <td>f</td>\n",
              "      <td>0</td>\n",
              "      <td>f</td>\n",
              "      <td>g</td>\n",
              "      <td>00000</td>\n",
              "      <td>0</td>\n",
              "      <td>+</td>\n",
              "    </tr>\n",
              "    <tr>\n",
              "      <th>171</th>\n",
              "      <td>b</td>\n",
              "      <td>41.33</td>\n",
              "      <td>0.0</td>\n",
              "      <td>u</td>\n",
              "      <td>g</td>\n",
              "      <td>c</td>\n",
              "      <td>bb</td>\n",
              "      <td>15.000</td>\n",
              "      <td>t</td>\n",
              "      <td>f</td>\n",
              "      <td>0</td>\n",
              "      <td>f</td>\n",
              "      <td>g</td>\n",
              "      <td>00000</td>\n",
              "      <td>0</td>\n",
              "      <td>+</td>\n",
              "    </tr>\n",
              "    <tr>\n",
              "      <th>206</th>\n",
              "      <td>a</td>\n",
              "      <td>71.58</td>\n",
              "      <td>0.0</td>\n",
              "      <td>NaN</td>\n",
              "      <td>NaN</td>\n",
              "      <td>NaN</td>\n",
              "      <td>NaN</td>\n",
              "      <td>0.000</td>\n",
              "      <td>f</td>\n",
              "      <td>f</td>\n",
              "      <td>0</td>\n",
              "      <td>f</td>\n",
              "      <td>p</td>\n",
              "      <td>NaN</td>\n",
              "      <td>0</td>\n",
              "      <td>+</td>\n",
              "    </tr>\n",
              "    <tr>\n",
              "      <th>257</th>\n",
              "      <td>b</td>\n",
              "      <td>20.00</td>\n",
              "      <td>0.0</td>\n",
              "      <td>u</td>\n",
              "      <td>g</td>\n",
              "      <td>d</td>\n",
              "      <td>v</td>\n",
              "      <td>0.500</td>\n",
              "      <td>f</td>\n",
              "      <td>f</td>\n",
              "      <td>0</td>\n",
              "      <td>f</td>\n",
              "      <td>g</td>\n",
              "      <td>00144</td>\n",
              "      <td>0</td>\n",
              "      <td>-</td>\n",
              "    </tr>\n",
              "  </tbody>\n",
              "</table>\n",
              "</div>"
            ],
            "text/plain": [
              "    0      1    2    3    4    5    6       7  8  9   10 11 12     13  14 15\n",
              "0    b  30.83  0.0    u    g    w    v   1.250  t  t   1  f  g  00202   0  +\n",
              "56   b  23.17  0.0    u    g   cc    v   0.085  t  f   0  f  g  00000   0  +\n",
              "171  b  41.33  0.0    u    g    c   bb  15.000  t  f   0  f  g  00000   0  +\n",
              "206  a  71.58  0.0  NaN  NaN  NaN  NaN   0.000  f  f   0  f  p    NaN   0  +\n",
              "257  b  20.00  0.0    u    g    d    v   0.500  f  f   0  f  g  00144   0  -"
            ]
          },
          "metadata": {
            "tags": []
          },
          "execution_count": 31
        }
      ]
    },
    {
      "cell_type": "code",
      "metadata": {
        "id": "5wM6AW6NiuyX",
        "colab_type": "code",
        "outputId": "e8c27d02-3e77-4b83-84bd-1e49f5585d11",
        "colab": {
          "base_uri": "https://localhost:8080/",
          "height": 314
        }
      },
      "source": [
        "# check NAs\n",
        "my_data.isna().sum()"
      ],
      "execution_count": 0,
      "outputs": [
        {
          "output_type": "execute_result",
          "data": {
            "text/plain": [
              "A1     12\n",
              "A2     12\n",
              "A3      0\n",
              "A4      6\n",
              "A5      6\n",
              "A6      9\n",
              "A7      9\n",
              "A8      0\n",
              "A9      0\n",
              "A10     0\n",
              "A11     0\n",
              "A12     0\n",
              "A13     0\n",
              "A14    13\n",
              "A15     0\n",
              "A16     0\n",
              "dtype: int64"
            ]
          },
          "metadata": {
            "tags": []
          },
          "execution_count": 53
        }
      ]
    },
    {
      "cell_type": "code",
      "metadata": {
        "id": "Lb9Shtgti0rH",
        "colab_type": "code",
        "outputId": "9cd32356-9fe2-4281-bc0a-80c70d117d47",
        "colab": {
          "base_uri": "https://localhost:8080/",
          "height": 296
        }
      },
      "source": [
        "# describe numeric values\n",
        "my_data.describe()"
      ],
      "execution_count": 0,
      "outputs": [
        {
          "output_type": "execute_result",
          "data": {
            "text/html": [
              "<div>\n",
              "<style scoped>\n",
              "    .dataframe tbody tr th:only-of-type {\n",
              "        vertical-align: middle;\n",
              "    }\n",
              "\n",
              "    .dataframe tbody tr th {\n",
              "        vertical-align: top;\n",
              "    }\n",
              "\n",
              "    .dataframe thead th {\n",
              "        text-align: right;\n",
              "    }\n",
              "</style>\n",
              "<table border=\"1\" class=\"dataframe\">\n",
              "  <thead>\n",
              "    <tr style=\"text-align: right;\">\n",
              "      <th></th>\n",
              "      <th>A3</th>\n",
              "      <th>A8</th>\n",
              "      <th>A11</th>\n",
              "      <th>A15</th>\n",
              "    </tr>\n",
              "  </thead>\n",
              "  <tbody>\n",
              "    <tr>\n",
              "      <th>count</th>\n",
              "      <td>690.000000</td>\n",
              "      <td>690.000000</td>\n",
              "      <td>690.00000</td>\n",
              "      <td>690.000000</td>\n",
              "    </tr>\n",
              "    <tr>\n",
              "      <th>mean</th>\n",
              "      <td>4.758725</td>\n",
              "      <td>2.223406</td>\n",
              "      <td>2.40000</td>\n",
              "      <td>1017.385507</td>\n",
              "    </tr>\n",
              "    <tr>\n",
              "      <th>std</th>\n",
              "      <td>4.978163</td>\n",
              "      <td>3.346513</td>\n",
              "      <td>4.86294</td>\n",
              "      <td>5210.102598</td>\n",
              "    </tr>\n",
              "    <tr>\n",
              "      <th>min</th>\n",
              "      <td>0.000000</td>\n",
              "      <td>0.000000</td>\n",
              "      <td>0.00000</td>\n",
              "      <td>0.000000</td>\n",
              "    </tr>\n",
              "    <tr>\n",
              "      <th>25%</th>\n",
              "      <td>1.000000</td>\n",
              "      <td>0.165000</td>\n",
              "      <td>0.00000</td>\n",
              "      <td>0.000000</td>\n",
              "    </tr>\n",
              "    <tr>\n",
              "      <th>50%</th>\n",
              "      <td>2.750000</td>\n",
              "      <td>1.000000</td>\n",
              "      <td>0.00000</td>\n",
              "      <td>5.000000</td>\n",
              "    </tr>\n",
              "    <tr>\n",
              "      <th>75%</th>\n",
              "      <td>7.207500</td>\n",
              "      <td>2.625000</td>\n",
              "      <td>3.00000</td>\n",
              "      <td>395.500000</td>\n",
              "    </tr>\n",
              "    <tr>\n",
              "      <th>max</th>\n",
              "      <td>28.000000</td>\n",
              "      <td>28.500000</td>\n",
              "      <td>67.00000</td>\n",
              "      <td>100000.000000</td>\n",
              "    </tr>\n",
              "  </tbody>\n",
              "</table>\n",
              "</div>"
            ],
            "text/plain": [
              "               A3          A8        A11            A15\n",
              "count  690.000000  690.000000  690.00000     690.000000\n",
              "mean     4.758725    2.223406    2.40000    1017.385507\n",
              "std      4.978163    3.346513    4.86294    5210.102598\n",
              "min      0.000000    0.000000    0.00000       0.000000\n",
              "25%      1.000000    0.165000    0.00000       0.000000\n",
              "50%      2.750000    1.000000    0.00000       5.000000\n",
              "75%      7.207500    2.625000    3.00000     395.500000\n",
              "max     28.000000   28.500000   67.00000  100000.000000"
            ]
          },
          "metadata": {
            "tags": []
          },
          "execution_count": 55
        }
      ]
    },
    {
      "cell_type": "code",
      "metadata": {
        "id": "nppGjBkAja4R",
        "colab_type": "code",
        "outputId": "3d0b335e-1c19-41d9-d369-7ce32da4142d",
        "colab": {
          "base_uri": "https://localhost:8080/",
          "height": 172
        }
      },
      "source": [
        "# describe non-numeric values\n",
        "my_data.describe(exclude=np.number)"
      ],
      "execution_count": 0,
      "outputs": [
        {
          "output_type": "execute_result",
          "data": {
            "text/html": [
              "<div>\n",
              "<style scoped>\n",
              "    .dataframe tbody tr th:only-of-type {\n",
              "        vertical-align: middle;\n",
              "    }\n",
              "\n",
              "    .dataframe tbody tr th {\n",
              "        vertical-align: top;\n",
              "    }\n",
              "\n",
              "    .dataframe thead th {\n",
              "        text-align: right;\n",
              "    }\n",
              "</style>\n",
              "<table border=\"1\" class=\"dataframe\">\n",
              "  <thead>\n",
              "    <tr style=\"text-align: right;\">\n",
              "      <th></th>\n",
              "      <th>A1</th>\n",
              "      <th>A2</th>\n",
              "      <th>A4</th>\n",
              "      <th>A5</th>\n",
              "      <th>A6</th>\n",
              "      <th>A7</th>\n",
              "      <th>A9</th>\n",
              "      <th>A10</th>\n",
              "      <th>A12</th>\n",
              "      <th>A13</th>\n",
              "      <th>A14</th>\n",
              "      <th>A16</th>\n",
              "    </tr>\n",
              "  </thead>\n",
              "  <tbody>\n",
              "    <tr>\n",
              "      <th>count</th>\n",
              "      <td>678</td>\n",
              "      <td>678</td>\n",
              "      <td>684</td>\n",
              "      <td>684</td>\n",
              "      <td>681</td>\n",
              "      <td>681</td>\n",
              "      <td>690</td>\n",
              "      <td>690</td>\n",
              "      <td>690</td>\n",
              "      <td>690</td>\n",
              "      <td>677</td>\n",
              "      <td>690</td>\n",
              "    </tr>\n",
              "    <tr>\n",
              "      <th>unique</th>\n",
              "      <td>2</td>\n",
              "      <td>349</td>\n",
              "      <td>3</td>\n",
              "      <td>3</td>\n",
              "      <td>14</td>\n",
              "      <td>9</td>\n",
              "      <td>2</td>\n",
              "      <td>2</td>\n",
              "      <td>2</td>\n",
              "      <td>3</td>\n",
              "      <td>170</td>\n",
              "      <td>2</td>\n",
              "    </tr>\n",
              "    <tr>\n",
              "      <th>top</th>\n",
              "      <td>b</td>\n",
              "      <td>22.67</td>\n",
              "      <td>u</td>\n",
              "      <td>g</td>\n",
              "      <td>c</td>\n",
              "      <td>v</td>\n",
              "      <td>t</td>\n",
              "      <td>f</td>\n",
              "      <td>f</td>\n",
              "      <td>g</td>\n",
              "      <td>00000</td>\n",
              "      <td>-</td>\n",
              "    </tr>\n",
              "    <tr>\n",
              "      <th>freq</th>\n",
              "      <td>468</td>\n",
              "      <td>9</td>\n",
              "      <td>519</td>\n",
              "      <td>519</td>\n",
              "      <td>137</td>\n",
              "      <td>399</td>\n",
              "      <td>361</td>\n",
              "      <td>395</td>\n",
              "      <td>374</td>\n",
              "      <td>625</td>\n",
              "      <td>132</td>\n",
              "      <td>383</td>\n",
              "    </tr>\n",
              "  </tbody>\n",
              "</table>\n",
              "</div>"
            ],
            "text/plain": [
              "         A1     A2   A4   A5   A6   A7   A9  A10  A12  A13    A14  A16\n",
              "count   678    678  684  684  681  681  690  690  690  690    677  690\n",
              "unique    2    349    3    3   14    9    2    2    2    3    170    2\n",
              "top       b  22.67    u    g    c    v    t    f    f    g  00000    -\n",
              "freq    468      9  519  519  137  399  361  395  374  625    132  383"
            ]
          },
          "metadata": {
            "tags": []
          },
          "execution_count": 56
        }
      ]
    },
    {
      "cell_type": "markdown",
      "metadata": {
        "id": "11cpHWRbnLAl",
        "colab_type": "text"
      },
      "source": [
        "**Missing Attribute Values:**  \n",
        "    37 cases (5%) have one or more missing values.  \n",
        "    The missing values from particular attributes are:\n",
        "\n",
        "    A1:  12\n",
        "    A2:  12\n",
        "    A4:   6\n",
        "    A5:   6\n",
        "    A6:   9\n",
        "    A7:   9\n",
        "    A14: 13"
      ]
    },
    {
      "cell_type": "code",
      "metadata": {
        "id": "c35QT5xNkMef",
        "colab_type": "code",
        "outputId": "f4ed8219-f054-46bc-ddbf-f1bdf96282b5",
        "colab": {
          "base_uri": "https://localhost:8080/",
          "height": 156
        }
      },
      "source": [
        "# those non-numeric columns have missing values\n",
        "# marked as np.nan, verified\n",
        "cols = ['A1', 'A2', 'A4', 'A5', 'A6', 'A7', 'A14']\n",
        "my_data[cols].isna().sum()"
      ],
      "execution_count": 0,
      "outputs": [
        {
          "output_type": "execute_result",
          "data": {
            "text/plain": [
              "A1     12\n",
              "A2     12\n",
              "A4      6\n",
              "A5      6\n",
              "A6      9\n",
              "A7      9\n",
              "A14    13\n",
              "dtype: int64"
            ]
          },
          "metadata": {
            "tags": []
          },
          "execution_count": 59
        }
      ]
    },
    {
      "cell_type": "markdown",
      "metadata": {
        "id": "G7rLytbrO38L",
        "colab_type": "text"
      },
      "source": [
        "## Part 2 - Exploring data, Testing hypotheses\n",
        "\n",
        "The only thing we really know about this data is that **A16 is the class label**. Besides that, we have 6 continuous (float) features and 9 categorical features.\n",
        "\n",
        "Explore the data: you can use whatever approach (tables, utility functions, visualizations) to get an impression of the distributions and relationships of the variables. In general, your goal is to understand how the features are different when grouped by the two class labels (`+` and `-`).\n",
        "\n",
        "For the 6 continuous features, how are they different when split between the two class labels? **Choose two features to run t-tests (again split by class label)** - specifically, select one feature that is *extremely* different between the classes, and another feature that is notably less different (though perhaps still \"statistically significantly\" different). You may have to explore more than two features to do this.\n",
        "\n",
        "For the categorical features, explore by creating \"cross tabs\" (aka [contingency tables](https://en.wikipedia.org/wiki/Contingency_table)) between them and the class label, and apply the Chi-squared test to them. [pandas.crosstab](http://pandas.pydata.org/pandas-docs/stable/reference/api/pandas.crosstab.html) can create contingency tables, and [scipy.stats.chi2_contingency](https://docs.scipy.org/doc/scipy/reference/generated/scipy.stats.chi2_contingency.html) can calculate the Chi-squared statistic for them.\n",
        "\n",
        "There are 9 categorical features - as with the t-test, try to find one where the Chi-squared test returns an extreme result (rejecting the null that the data are independent), and one where it is less extreme.\n",
        "\n",
        "**NOTE** - \"less extreme\" just means smaller test statistic/larger p-value. Even the least extreme differences may be strongly statistically significant.\n",
        "\n",
        "Your *main* goal is the hypothesis tests, so don't spend too much time on the exploration/visualization piece. That is just a means to an end - use simple visualizations, such as boxplots or a scatter matrix (both built in to pandas), to get a feel for the overall distribution of the variables.\n",
        "\n",
        "This is challenging, so manage your time and aim for a baseline of at least running two t-tests and two Chi-squared tests before polishing. And don't forget to answer the questions in part 3, even if your results in this part aren't what you want them to be."
      ]
    },
    {
      "cell_type": "code",
      "metadata": {
        "id": "rIqY8S1Frcsd",
        "colab_type": "code",
        "outputId": "1522b806-2891-4b35-9912-ca8262a481fd",
        "colab": {
          "base_uri": "https://localhost:8080/",
          "height": 110
        }
      },
      "source": [
        "# split data by class\n",
        "class1 = my_data[my_data['A16']=='+']\n",
        "class2 = my_data[my_data['A16']=='-']\n",
        "class1.head(2)"
      ],
      "execution_count": 0,
      "outputs": [
        {
          "output_type": "execute_result",
          "data": {
            "text/html": [
              "<div>\n",
              "<style scoped>\n",
              "    .dataframe tbody tr th:only-of-type {\n",
              "        vertical-align: middle;\n",
              "    }\n",
              "\n",
              "    .dataframe tbody tr th {\n",
              "        vertical-align: top;\n",
              "    }\n",
              "\n",
              "    .dataframe thead th {\n",
              "        text-align: right;\n",
              "    }\n",
              "</style>\n",
              "<table border=\"1\" class=\"dataframe\">\n",
              "  <thead>\n",
              "    <tr style=\"text-align: right;\">\n",
              "      <th></th>\n",
              "      <th>A1</th>\n",
              "      <th>A2</th>\n",
              "      <th>A3</th>\n",
              "      <th>A4</th>\n",
              "      <th>A5</th>\n",
              "      <th>A6</th>\n",
              "      <th>A7</th>\n",
              "      <th>A8</th>\n",
              "      <th>A9</th>\n",
              "      <th>A10</th>\n",
              "      <th>A11</th>\n",
              "      <th>A12</th>\n",
              "      <th>A13</th>\n",
              "      <th>A14</th>\n",
              "      <th>A15</th>\n",
              "      <th>A16</th>\n",
              "    </tr>\n",
              "  </thead>\n",
              "  <tbody>\n",
              "    <tr>\n",
              "      <th>0</th>\n",
              "      <td>b</td>\n",
              "      <td>30.83</td>\n",
              "      <td>0.00</td>\n",
              "      <td>u</td>\n",
              "      <td>g</td>\n",
              "      <td>w</td>\n",
              "      <td>v</td>\n",
              "      <td>1.25</td>\n",
              "      <td>t</td>\n",
              "      <td>t</td>\n",
              "      <td>1</td>\n",
              "      <td>f</td>\n",
              "      <td>g</td>\n",
              "      <td>00202</td>\n",
              "      <td>0</td>\n",
              "      <td>+</td>\n",
              "    </tr>\n",
              "    <tr>\n",
              "      <th>1</th>\n",
              "      <td>a</td>\n",
              "      <td>58.67</td>\n",
              "      <td>4.46</td>\n",
              "      <td>u</td>\n",
              "      <td>g</td>\n",
              "      <td>q</td>\n",
              "      <td>h</td>\n",
              "      <td>3.04</td>\n",
              "      <td>t</td>\n",
              "      <td>t</td>\n",
              "      <td>6</td>\n",
              "      <td>f</td>\n",
              "      <td>g</td>\n",
              "      <td>00043</td>\n",
              "      <td>560</td>\n",
              "      <td>+</td>\n",
              "    </tr>\n",
              "  </tbody>\n",
              "</table>\n",
              "</div>"
            ],
            "text/plain": [
              "  A1     A2    A3 A4 A5 A6 A7    A8 A9 A10  A11 A12 A13    A14  A15 A16\n",
              "0  b  30.83  0.00  u  g  w  v  1.25  t   t    1   f   g  00202    0   +\n",
              "1  a  58.67  4.46  u  g  q  h  3.04  t   t    6   f   g  00043  560   +"
            ]
          },
          "metadata": {
            "tags": []
          },
          "execution_count": 63
        }
      ]
    },
    {
      "cell_type": "code",
      "metadata": {
        "id": "_nqcgc0yzm68",
        "colab_type": "code",
        "outputId": "4f97824f-38fd-4500-c439-3dc5749b62f7",
        "colab": {
          "base_uri": "https://localhost:8080/",
          "height": 609
        }
      },
      "source": [
        "# TODO\n",
        "# A3 is continous\n",
        "plt.figure(figsize=(16, 10))\n",
        "for i, col in enumerate(['A3', 'A8', 'A11', 'A15']):\n",
        "  plt.subplot(2, 2, i+1)\n",
        "  sns.distplot(class1[col], color='r') # A16 = +\n",
        "  sns.distplot(class2[col], color='b'); # A16 = -"
      ],
      "execution_count": 0,
      "outputs": [
        {
          "output_type": "display_data",
          "data": {
            "image/png": "[encoded data removed]",
            "text/plain": [
              "<Figure size 1152x720 with 4 Axes>"
            ]
          },
          "metadata": {
            "tags": []
          }
        }
      ]
    },
    {
      "cell_type": "markdown",
      "metadata": {
        "id": "HgbWbwT1967x",
        "colab_type": "text"
      },
      "source": [
        "#### 1-sample test"
      ]
    },
    {
      "cell_type": "markdown",
      "metadata": {
        "id": "ialCdRUu_kkw",
        "colab_type": "text"
      },
      "source": [
        "**【Inference】The alternative hypothesis is that there is some difference between the true mean (a.k.a. population mean, actually we don't know, I use sample mean to demostrate) and the sample mean. The null hypothesis assumes that no difference exists. Give the sample data p > 0.05, failed to reject the null hypothesis for the following samples.**"
      ]
    },
    {
      "cell_type": "code",
      "metadata": {
        "id": "kfguEH2W9mSS",
        "colab_type": "code",
        "outputId": "4eb09877-b4dd-4e7d-f721-d21402f41d8a",
        "colab": {
          "base_uri": "https://localhost:8080/",
          "height": 34
        }
      },
      "source": [
        "ttest_1samp(my_data['A3'], my_data['A3'].mean(), nan_policy='omit')"
      ],
      "execution_count": 0,
      "outputs": [
        {
          "output_type": "execute_result",
          "data": {
            "text/plain": [
              "Ttest_1sampResult(statistic=4.6865756083721505e-15, pvalue=0.9999999999999962)"
            ]
          },
          "metadata": {
            "tags": []
          },
          "execution_count": 113
        }
      ]
    },
    {
      "cell_type": "code",
      "metadata": {
        "id": "qJSZRPY592cn",
        "colab_type": "code",
        "outputId": "9f1789e5-8da1-4a09-dc2e-b45b9545a2ea",
        "colab": {
          "base_uri": "https://localhost:8080/",
          "height": 52
        }
      },
      "source": [
        "print(ttest_1samp(class1['A3'], class1['A3'].mean(), nan_policy='omit'))\n",
        "print(ttest_1samp(class2['A3'], class2['A3'].mean(), nan_policy='omit'))"
      ],
      "execution_count": 0,
      "outputs": [
        {
          "output_type": "stream",
          "text": [
            "Ttest_1sampResult(statistic=1.1376906340976542e-14, pvalue=0.9999999999999909)\n",
            "Ttest_1sampResult(statistic=0.0, pvalue=1.0)\n"
          ],
          "name": "stdout"
        }
      ]
    },
    {
      "cell_type": "markdown",
      "metadata": {
        "id": "YRJREMBVuArA",
        "colab_type": "text"
      },
      "source": [
        "### 2-sample t-test"
      ]
    },
    {
      "cell_type": "code",
      "metadata": {
        "id": "VmcNbOJNs7YN",
        "colab_type": "code",
        "outputId": "65385c7c-07f0-43ce-c413-7555e27a1831",
        "colab": {
          "base_uri": "https://localhost:8080/",
          "height": 34
        }
      },
      "source": [
        "stats.levene(class1['A3'], class2['A3'], \n",
        "             center='median')"
      ],
      "execution_count": 0,
      "outputs": [
        {
          "output_type": "execute_result",
          "data": {
            "text/plain": [
              "LeveneResult(statistic=24.891538482377484, pvalue=7.689474674761265e-07)"
            ]
          },
          "metadata": {
            "tags": []
          },
          "execution_count": 78
        }
      ]
    },
    {
      "cell_type": "code",
      "metadata": {
        "id": "i9O7mX12sVt-",
        "colab_type": "code",
        "outputId": "30d4c74b-cd5d-4c75-bbdb-4e41f3db39c6",
        "colab": {
          "base_uri": "https://localhost:8080/",
          "height": 34
        }
      },
      "source": [
        "stats.levene(class1['A3'], class2['A3'], \n",
        "             center='mean') # default 'median'"
      ],
      "execution_count": 0,
      "outputs": [
        {
          "output_type": "execute_result",
          "data": {
            "text/plain": [
              "LeveneResult(statistic=26.42730448461563, pvalue=3.5704502554627907e-07)"
            ]
          },
          "metadata": {
            "tags": []
          },
          "execution_count": 77
        }
      ]
    },
    {
      "cell_type": "code",
      "metadata": {
        "id": "OieWP2xttCt3",
        "colab_type": "code",
        "outputId": "d69c60e0-44bb-4e9a-fe79-044527922e79",
        "colab": {
          "base_uri": "https://localhost:8080/",
          "height": 122
        }
      },
      "source": [
        "print('mean:', class1['A3'].mean(), class2['A3'].mean())\n",
        "print('median:', class1['A3'].median(), class2['A3'].median())\n",
        "print('sample count:', len(class1['A3']), len(class2['A3']))\n",
        "print(ttest_ind(class1['A3'], class2['A3'], \n",
        "                equal_var=True, nan_policy='omit'))\n",
        "print(ttest_ind(class1['A3'], class2['A3'], \n",
        "                equal_var=False, nan_policy='omit')) # important\n",
        "t_stats = ((class1['A3'].mean() - class2['A3'].mean()) \n",
        "          / np.sqrt((class1['A3'].var(ddof=1)/len(class1['A3'])) \n",
        "          + (class2['A3'].var(ddof=1)/len(class2['A3'])))\n",
        "     )\n",
        "print('t-statistic:', t_stats)"
      ],
      "execution_count": 0,
      "outputs": [
        {
          "output_type": "stream",
          "text": [
            "mean: 5.904951140065144 3.839947780678851\n",
            "median: 4.46 2.21\n",
            "sample count: 307 383\n",
            "Ttest_indResult(statistic=5.52998337614816, pvalue=4.551680702308068e-08)\n",
            "Ttest_indResult(statistic=5.392530906223675, pvalue=1.0158807568737146e-07)\n",
            "t-statistic: 5.392530906223664\n"
          ],
          "name": "stdout"
        }
      ]
    },
    {
      "cell_type": "code",
      "metadata": {
        "id": "cZj6MA_guh_M",
        "colab_type": "code",
        "outputId": "0dd87959-0367-4388-a52e-6160d5c8ef1a",
        "colab": {
          "base_uri": "https://localhost:8080/",
          "height": 575
        }
      },
      "source": [
        "# 2-sample t-test for all continous value columns\n",
        "for col in ['A3', 'A8', 'A11', 'A15']:\n",
        "  print('attribute:', col)\n",
        "  print('mean:', class1[col].mean(), class2[col].mean())\n",
        "  print('median:', class1[col].median(), class2[col].median())\n",
        "  print('sample count:', len(class1[col]), len(class2[col]))\n",
        "  print(ttest_ind(class1[col], class2[col], \n",
        "                  equal_var=True, nan_policy='omit'))\n",
        "  print(ttest_ind(class1[col], class2[col], \n",
        "                  equal_var=False, nan_policy='omit')) # important\n",
        "  t_stats = ((class1[col].mean() - class2[col].mean()) \n",
        "            / np.sqrt((class1[col].var(ddof=1)/len(class1[col])) \n",
        "            + (class2[col].var(ddof=1)/len(class2[col])))\n",
        "       )\n",
        "  print('t-statistic:', t_stats, '\\n')"
      ],
      "execution_count": 0,
      "outputs": [
        {
          "output_type": "stream",
          "text": [
            "attribute: A3\n",
            "mean: 5.904951140065144 3.839947780678851\n",
            "median: 4.46 2.21\n",
            "sample count: 307 383\n",
            "Ttest_indResult(statistic=5.52998337614816, pvalue=4.551680702308068e-08)\n",
            "Ttest_indResult(statistic=5.392530906223675, pvalue=1.0158807568737146e-07)\n",
            "t-statistic: 5.392530906223664 \n",
            "\n",
            "attribute: A8\n",
            "mean: 3.427899022801302 1.2579242819843346\n",
            "median: 2.0 0.415\n",
            "sample count: 307 383\n",
            "Ttest_indResult(statistic=8.935819983773698, pvalue=3.6710537401601785e-18)\n",
            "Ttest_indResult(statistic=8.38006008674286, pvalue=7.425348666782441e-16)\n",
            "t-statistic: 8.380060086742857 \n",
            "\n",
            "attribute: A11\n",
            "mean: 4.605863192182411 0.6318537859007833\n",
            "median: 3.0 0.0\n",
            "sample count: 307 383\n",
            "Ttest_indResult(statistic=11.667004222431277, pvalue=7.957718568079967e-29)\n",
            "Ttest_indResult(statistic=10.6384190682749, pvalue=4.310254123415665e-23)\n",
            "t-statistic: 10.638419068274906 \n",
            "\n",
            "attribute: A15\n",
            "mean: 2038.85993485342 198.60574412532637\n",
            "median: 221.0 1.0\n",
            "sample count: 307 383\n",
            "Ttest_indResult(statistic=4.680216020964486, pvalue=3.4520256956287944e-06)\n",
            "Ttest_indResult(statistic=4.196600236397611, pvalue=3.5433798702024966e-05)\n",
            "t-statistic: 4.196600236397614 \n",
            "\n"
          ],
          "name": "stdout"
        }
      ]
    },
    {
      "cell_type": "markdown",
      "metadata": {
        "id": "9OVtV0GZAPK1",
        "colab_type": "text"
      },
      "source": [
        "**【Inference】The alternative hypothesis is that there is some difference between one sample (A16='+') mean and other sample (A16='-') mean. The null hypothesis assumes that no difference exists. Give the sample data p < 0.05, reject the null hypothesis for the samples above.**"
      ]
    },
    {
      "cell_type": "markdown",
      "metadata": {
        "id": "x8V8kYMSw6gB",
        "colab_type": "text"
      },
      "source": [
        "### Chi-squre test"
      ]
    },
    {
      "cell_type": "markdown",
      "metadata": {
        "id": "kxSUMqWZy9CT",
        "colab_type": "text"
      },
      "source": [
        "**Attribute Information:**\n",
        "\n",
        "    A1:\tb, a.  \n",
        "    A2:\tcontinuous.  \n",
        "    A3:\tcontinuous.  \n",
        "    A4:\tu, y, l, t.  \n",
        "    A5:\tg, p, gg.  \n",
        "    A6:\tc, d, cc, i, j, k, m, r, q, w, x, e, aa, ff.  \n",
        "    A7:\tv, h, bb, j, n, z, dd, ff, o.  \n",
        "    A8:\tcontinuous.  \n",
        "    A9:\tt, f.  \n",
        "    A10:\tt, f.  \n",
        "    A11:\tcontinuous.  \n",
        "    A12:\tt, f.  \n",
        "    A13:\tg, p, s.  \n",
        "    A14:\tcontinuous.  \n",
        "    A15:\tcontinuous.  \n",
        "    A16: +,-         (class attribute)  "
      ]
    },
    {
      "cell_type": "code",
      "metadata": {
        "id": "b2MUCh1qxqjp",
        "colab_type": "code",
        "colab": {}
      },
      "source": [
        "# categorical attributes\n",
        "cols = ['A1', 'A4', 'A5', 'A6', 'A7', 'A9', 'A10', 'A12', 'A13']"
      ],
      "execution_count": 0,
      "outputs": []
    },
    {
      "cell_type": "markdown",
      "metadata": {
        "id": "JrSFw9oL15Qr",
        "colab_type": "text"
      },
      "source": [
        "#### Chi-test for 2 attributes"
      ]
    },
    {
      "cell_type": "code",
      "metadata": {
        "id": "mP9cR4LVzWIQ",
        "colab_type": "code",
        "outputId": "ce183894-b0e7-4a4d-b662-cb7f994ca96c",
        "colab": {
          "base_uri": "https://localhost:8080/",
          "height": 69
        }
      },
      "source": [
        "observed = pd.crosstab(my_data['A4'].dropna(), \n",
        "                       my_data['A5'].dropna()).values\n",
        "observed"
      ],
      "execution_count": 0,
      "outputs": [
        {
          "output_type": "execute_result",
          "data": {
            "text/plain": [
              "array([[  0,   2,   0],\n",
              "       [519,   0,   0],\n",
              "       [  0,   0, 163]])"
            ]
          },
          "metadata": {
            "tags": []
          },
          "execution_count": 97
        }
      ]
    },
    {
      "cell_type": "code",
      "metadata": {
        "id": "6QERF23H0Bd9",
        "colab_type": "code",
        "outputId": "55672020-db27-4509-90c3-1fc8f67b2c03",
        "colab": {
          "base_uri": "https://localhost:8080/",
          "height": 139
        }
      },
      "source": [
        "chi_squared, p_value, dof, expected = stats.chi2_contingency(observed)\n",
        "print(f\"Chi-squared: {chi_squared}\")\n",
        "print(f\"P-value: {p_value}\")\n",
        "print(f\"Degrees of freedom: {dof}\") \n",
        "print(\"Expected: \\n\", np.array(expected))"
      ],
      "execution_count": 0,
      "outputs": [
        {
          "output_type": "stream",
          "text": [
            "Chi-squared: 1368.0\n",
            "P-value: 6.001571019304877e-295\n",
            "Degrees of freedom: 4\n",
            "Expected: \n",
            " [[1.51754386e+00 5.84795322e-03 4.76608187e-01]\n",
            " [3.93802632e+02 1.51754386e+00 1.23679825e+02]\n",
            " [1.23679825e+02 4.76608187e-01 3.88435673e+01]]\n"
          ],
          "name": "stdout"
        }
      ]
    },
    {
      "cell_type": "markdown",
      "metadata": {
        "id": "pNAsB28t2AVJ",
        "colab_type": "text"
      },
      "source": [
        "#### Chi-square test for all the attribute combinations"
      ]
    },
    {
      "cell_type": "code",
      "metadata": {
        "id": "BBgZzC0j0M7_",
        "colab_type": "code",
        "outputId": "7e5f652d-afdc-437e-c4fa-da292caa0115",
        "colab": {
          "base_uri": "https://localhost:8080/",
          "height": 8552
        }
      },
      "source": [
        "i = 1\n",
        "for c1 in cols:\n",
        "  for c2 in cols[i:]:\n",
        "    observed = pd.crosstab(my_data[c1].dropna(), \n",
        "                       my_data[c2].dropna()).values\n",
        "    chi_squared, p_value, dof, expected = stats.chi2_contingency(observed)\n",
        "    print('Attributes:', c1, c2)\n",
        "    print(f\"Chi-squared: {chi_squared}\")\n",
        "    print(f\"P-value: {p_value}\")\n",
        "    print(f\"Degrees of freedom: {dof}\") \n",
        "    print(\"Expected: \\n\", np.array(expected))\n",
        "    print(); print()\n",
        "  i+=1"
      ],
      "execution_count": 0,
      "outputs": [
        {
          "output_type": "stream",
          "text": [
            "Attributes: A1 A4\n",
            "Chi-squared: 3.552518728408426\n",
            "P-value: 0.16927014245378488\n",
            "Degrees of freedom: 2\n",
            "Expected: \n",
            " [[  0.61904762 158.16666667  49.21428571]\n",
            " [  1.38095238 352.83333333 109.78571429]]\n",
            "\n",
            "\n",
            "Attributes: A1 A5\n",
            "Chi-squared: 3.552518728408426\n",
            "P-value: 0.16927014245378488\n",
            "Degrees of freedom: 2\n",
            "Expected: \n",
            " [[158.16666667   0.61904762  49.21428571]\n",
            " [352.83333333   1.38095238 109.78571429]]\n",
            "\n",
            "\n",
            "Attributes: A1 A6\n",
            "Chi-squared: 86.3123367641298\n",
            "P-value: 7.057474341497169e-13\n",
            "Degrees of freedom: 13\n",
            "Expected: \n",
            " [[16.42921013 41.84798808 12.39940387  9.29955291  7.43964232 16.42921013\n",
            "  17.97913562  3.09985097 15.49925484 11.77943368 23.55886736  0.92995529\n",
            "  19.5290611  11.77943368]\n",
            " [36.57078987 93.15201192 27.60059613 20.70044709 16.56035768 36.57078987\n",
            "  40.02086438  6.90014903 34.50074516 26.22056632 52.44113264  2.07004471\n",
            "  43.4709389  26.22056632]]\n",
            "\n",
            "\n",
            "Attributes: A1 A7\n",
            "Chi-squared: 30.971930656869876\n",
            "P-value: 0.00014212870614743197\n",
            "Degrees of freedom: 8\n",
            "Expected: \n",
            " [[ 17.66915052   1.85991058  17.66915052  42.46795827   2.47988077\n",
            "    1.23994039   0.61997019 121.51415797   2.47988077]\n",
            " [ 39.33084948   4.14008942  39.33084948  94.53204173   5.52011923\n",
            "    2.76005961   1.38002981 270.48584203   5.52011923]]\n",
            "\n",
            "\n",
            "Attributes: A1 A9\n",
            "Chi-squared: 0.1471625723234602\n",
            "P-value: 0.7012617877873799\n",
            "Degrees of freedom: 1\n",
            "Expected: \n",
            " [[ 98.80530973 111.19469027]\n",
            " [220.19469027 247.80530973]]\n",
            "\n",
            "\n",
            "Attributes: A1 A10\n",
            "Chi-squared: 3.4400868858411107\n",
            "P-value: 0.06363234628445771\n",
            "Degrees of freedom: 1\n",
            "Expected: \n",
            " [[119.55752212  90.44247788]\n",
            " [266.44247788 201.55752212]]\n",
            "\n",
            "\n",
            "Attributes: A1 A12\n",
            "Chi-squared: 1.702300662005665\n",
            "P-value: 0.19198737535408877\n",
            "Degrees of freedom: 1\n",
            "Expected: \n",
            " [[113.67256637  96.32743363]\n",
            " [253.32743363 214.67256637]]\n",
            "\n",
            "\n",
            "Attributes: A1 A13\n",
            "Chi-squared: 4.77212372992861\n",
            "P-value: 0.09199124541769176\n",
            "Degrees of freedom: 2\n",
            "Expected: \n",
            " [[190.48672566   2.47787611  17.03539823]\n",
            " [424.51327434   5.52212389  37.96460177]]\n",
            "\n",
            "\n",
            "Attributes: A4 A5\n",
            "Chi-squared: 1368.0\n",
            "P-value: 6.001571019304877e-295\n",
            "Degrees of freedom: 4\n",
            "Expected: \n",
            " [[1.51754386e+00 5.84795322e-03 4.76608187e-01]\n",
            " [3.93802632e+02 1.51754386e+00 1.23679825e+02]\n",
            " [1.23679825e+02 4.76608187e-01 3.88435673e+01]]\n",
            "\n",
            "\n",
            "Attributes: A4 A6\n",
            "Chi-squared: 34.9103426347795\n",
            "P-value: 0.11360129882655552\n",
            "Degrees of freedom: 26\n",
            "Expected: \n",
            " [[1.58590308e-01 4.02349486e-01 1.20411160e-01 8.81057269e-02\n",
            "  7.34214391e-02 1.55653451e-01 1.73274596e-01 2.93685756e-02\n",
            "  1.49779736e-01 1.11600587e-01 2.29074890e-01 8.81057269e-03\n",
            "  1.87958884e-01 1.11600587e-01]\n",
            " [4.10748899e+01 1.04208517e+02 3.11864905e+01 2.28193833e+01\n",
            "  1.90161527e+01 4.03142438e+01 4.48781204e+01 7.60646109e+00\n",
            "  3.87929515e+01 2.89045521e+01 5.93303965e+01 2.28193833e+00\n",
            "  4.86813510e+01 2.89045521e+01]\n",
            " [1.27665198e+01 3.23891336e+01 9.69309838e+00 7.09251101e+00\n",
            "  5.91042584e+00 1.25301028e+01 1.39486050e+01 2.36417034e+00\n",
            "  1.20572687e+01 8.98384728e+00 1.84405286e+01 7.09251101e-01\n",
            "  1.51306902e+01 8.98384728e+00]]\n",
            "\n",
            "\n",
            "Attributes: A4 A7\n",
            "Chi-squared: 182.1382176911382\n",
            "P-value: 3.1381304408399662e-30\n",
            "Degrees of freedom: 16\n",
            "Expected: \n",
            " [[1.73274596e-01 1.76211454e-02 1.67400881e-01 4.05286344e-01\n",
            "  2.34948605e-02 1.17474302e-02 5.87371512e-03 1.17180617e+00\n",
            "  2.34948605e-02]\n",
            " [4.48781204e+01 4.56387665e+00 4.33568282e+01 1.04969163e+02\n",
            "  6.08516887e+00 3.04258443e+00 1.52129222e+00 3.03497797e+02\n",
            "  6.08516887e+00]\n",
            " [1.39486050e+01 1.41850220e+00 1.34757709e+01 3.26255507e+01\n",
            "  1.89133627e+00 9.45668135e-01 4.72834068e-01 9.43303965e+01\n",
            "  1.89133627e+00]]\n",
            "\n",
            "\n",
            "Attributes: A4 A9\n",
            "Chi-squared: 16.88982230118824\n",
            "P-value: 0.00021499169669747674\n",
            "Degrees of freedom: 2\n",
            "Expected: \n",
            " [[  0.94444444   1.05555556]\n",
            " [245.08333333 273.91666667]\n",
            " [ 76.97222222  86.02777778]]\n",
            "\n",
            "\n",
            "Attributes: A4 A10\n",
            "Chi-squared: 22.90324547793459\n",
            "P-value: 1.0632207300355644e-05\n",
            "Degrees of freedom: 2\n",
            "Expected: \n",
            " [[  1.1374269   0.8625731]\n",
            " [295.1622807 223.8377193]\n",
            " [ 92.7002924  70.2997076]]\n",
            "\n",
            "\n",
            "Attributes: A4 A12\n",
            "Chi-squared: 2.336015576691039\n",
            "P-value: 0.3109858742210559\n",
            "Degrees of freedom: 2\n",
            "Expected: \n",
            " [[  1.07602339   0.92397661]\n",
            " [279.22807018 239.77192982]\n",
            " [ 87.69590643  75.30409357]]\n",
            "\n",
            "\n",
            "Attributes: A4 A13\n",
            "Chi-squared: 175.87928201709283\n",
            "P-value: 5.719980412368391e-37\n",
            "Degrees of freedom: 4\n",
            "Expected: \n",
            " [[1.82748538e+00 5.84795322e-03 1.66666667e-01]\n",
            " [4.74232456e+02 1.51754386e+00 4.32500000e+01]\n",
            " [1.48940058e+02 4.76608187e-01 1.35833333e+01]]\n",
            "\n",
            "\n",
            "Attributes: A5 A6\n",
            "Chi-squared: 34.910342634779504\n",
            "P-value: 0.11360129882655547\n",
            "Degrees of freedom: 26\n",
            "Expected: \n",
            " [[4.10748899e+01 1.04208517e+02 3.11864905e+01 2.28193833e+01\n",
            "  1.90161527e+01 4.03142438e+01 4.48781204e+01 7.60646109e+00\n",
            "  3.87929515e+01 2.89045521e+01 5.93303965e+01 2.28193833e+00\n",
            "  4.86813510e+01 2.89045521e+01]\n",
            " [1.58590308e-01 4.02349486e-01 1.20411160e-01 8.81057269e-02\n",
            "  7.34214391e-02 1.55653451e-01 1.73274596e-01 2.93685756e-02\n",
            "  1.49779736e-01 1.11600587e-01 2.29074890e-01 8.81057269e-03\n",
            "  1.87958884e-01 1.11600587e-01]\n",
            " [1.27665198e+01 3.23891336e+01 9.69309838e+00 7.09251101e+00\n",
            "  5.91042584e+00 1.25301028e+01 1.39486050e+01 2.36417034e+00\n",
            "  1.20572687e+01 8.98384728e+00 1.84405286e+01 7.09251101e-01\n",
            "  1.51306902e+01 8.98384728e+00]]\n",
            "\n",
            "\n",
            "Attributes: A5 A7\n",
            "Chi-squared: 182.13821769113818\n",
            "P-value: 3.138130440839991e-30\n",
            "Degrees of freedom: 16\n",
            "Expected: \n",
            " [[4.48781204e+01 4.56387665e+00 4.33568282e+01 1.04969163e+02\n",
            "  6.08516887e+00 3.04258443e+00 1.52129222e+00 3.03497797e+02\n",
            "  6.08516887e+00]\n",
            " [1.73274596e-01 1.76211454e-02 1.67400881e-01 4.05286344e-01\n",
            "  2.34948605e-02 1.17474302e-02 5.87371512e-03 1.17180617e+00\n",
            "  2.34948605e-02]\n",
            " [1.39486050e+01 1.41850220e+00 1.34757709e+01 3.26255507e+01\n",
            "  1.89133627e+00 9.45668135e-01 4.72834068e-01 9.43303965e+01\n",
            "  1.89133627e+00]]\n",
            "\n",
            "\n",
            "Attributes: A5 A9\n",
            "Chi-squared: 16.88982230118824\n",
            "P-value: 0.00021499169669747674\n",
            "Degrees of freedom: 2\n",
            "Expected: \n",
            " [[245.08333333 273.91666667]\n",
            " [  0.94444444   1.05555556]\n",
            " [ 76.97222222  86.02777778]]\n",
            "\n",
            "\n",
            "Attributes: A5 A10\n",
            "Chi-squared: 22.90324547793459\n",
            "P-value: 1.0632207300355644e-05\n",
            "Degrees of freedom: 2\n",
            "Expected: \n",
            " [[295.1622807 223.8377193]\n",
            " [  1.1374269   0.8625731]\n",
            " [ 92.7002924  70.2997076]]\n",
            "\n",
            "\n",
            "Attributes: A5 A12\n",
            "Chi-squared: 2.336015576691039\n",
            "P-value: 0.3109858742210559\n",
            "Degrees of freedom: 2\n",
            "Expected: \n",
            " [[279.22807018 239.77192982]\n",
            " [  1.07602339   0.92397661]\n",
            " [ 87.69590643  75.30409357]]\n",
            "\n",
            "\n",
            "Attributes: A5 A13\n",
            "Chi-squared: 175.87928201709283\n",
            "P-value: 5.719980412368391e-37\n",
            "Degrees of freedom: 4\n",
            "Expected: \n",
            " [[4.74232456e+02 1.51754386e+00 4.32500000e+01]\n",
            " [1.82748538e+00 5.84795322e-03 1.66666667e-01]\n",
            " [1.48940058e+02 4.76608187e-01 1.35833333e+01]]\n",
            "\n",
            "\n",
            "Attributes: A6 A7\n",
            "Chi-squared: 1894.1706707731985\n",
            "P-value: 0.0\n",
            "Degrees of freedom: 104\n",
            "Expected: \n",
            " [[4.67841410e+00 4.75770925e-01 4.51982379e+00 1.09427313e+01\n",
            "  6.34361233e-01 3.17180617e-01 1.58590308e-01 3.16387665e+01\n",
            "  6.34361233e-01]\n",
            " [1.18693098e+01 1.20704846e+00 1.14669604e+01 2.77621145e+01\n",
            "  1.60939794e+00 8.04698972e-01 4.02349486e-01 8.02687225e+01\n",
            "  1.60939794e+00]\n",
            " [3.55212922e+00 3.61233480e-01 3.43171806e+00 8.30837004e+00\n",
            "  4.81644640e-01 2.40822320e-01 1.20411160e-01 2.40220264e+01\n",
            "  4.81644640e-01]\n",
            " [2.59911894e+00 2.64317181e-01 2.51101322e+00 6.07929515e+00\n",
            "  3.52422907e-01 1.76211454e-01 8.81057269e-02 1.75770925e+01\n",
            "  3.52422907e-01]\n",
            " [2.16593245e+00 2.20264317e-01 2.09251101e+00 5.06607930e+00\n",
            "  2.93685756e-01 1.46842878e-01 7.34214391e-02 1.46475771e+01\n",
            "  2.93685756e-01]\n",
            " [4.59177680e+00 4.66960352e-01 4.43612335e+00 1.07400881e+01\n",
            "  6.22613803e-01 3.11306902e-01 1.55653451e-01 3.10528634e+01\n",
            "  6.22613803e-01]\n",
            " [5.11160059e+00 5.19823789e-01 4.93832599e+00 1.19559471e+01\n",
            "  6.93098385e-01 3.46549192e-01 1.73274596e-01 3.45682819e+01\n",
            "  6.93098385e-01]\n",
            " [8.66372981e-01 8.81057269e-02 8.37004405e-01 2.02643172e+00\n",
            "  1.17474302e-01 5.87371512e-02 2.93685756e-02 5.85903084e+00\n",
            "  1.17474302e-01]\n",
            " [4.41850220e+00 4.49339207e-01 4.26872247e+00 1.03348018e+01\n",
            "  5.99118943e-01 2.99559471e-01 1.49779736e-01 2.98810573e+01\n",
            "  5.99118943e-01]\n",
            " [3.29221733e+00 3.34801762e-01 3.18061674e+00 7.70044053e+00\n",
            "  4.46402349e-01 2.23201175e-01 1.11600587e-01 2.22643172e+01\n",
            "  4.46402349e-01]\n",
            " [6.75770925e+00 6.87224670e-01 6.52863436e+00 1.58061674e+01\n",
            "  9.16299559e-01 4.58149780e-01 2.29074890e-01 4.57004405e+01\n",
            "  9.16299559e-01]\n",
            " [2.59911894e-01 2.64317181e-02 2.51101322e-01 6.07929515e-01\n",
            "  3.52422907e-02 1.76211454e-02 8.81057269e-03 1.75770925e+00\n",
            "  3.52422907e-02]\n",
            " [5.54478708e+00 5.63876652e-01 5.35682819e+00 1.29691630e+01\n",
            "  7.51835536e-01 3.75917768e-01 1.87958884e-01 3.74977974e+01\n",
            "  7.51835536e-01]\n",
            " [3.29221733e+00 3.34801762e-01 3.18061674e+00 7.70044053e+00\n",
            "  4.46402349e-01 2.23201175e-01 1.11600587e-01 2.22643172e+01\n",
            "  4.46402349e-01]]\n",
            "\n",
            "\n",
            "Attributes: A6 A9\n",
            "Chi-squared: 72.91210315309782\n",
            "P-value: 2.3257251762453796e-10\n",
            "Degrees of freedom: 13\n",
            "Expected: \n",
            " [[25.45374449 28.54625551]\n",
            " [64.57709251 72.42290749]\n",
            " [19.32599119 21.67400881]\n",
            " [14.14096916 15.85903084]\n",
            " [11.78414097 13.21585903]\n",
            " [24.98237885 28.01762115]\n",
            " [27.81057269 31.18942731]\n",
            " [ 4.71365639  5.28634361]\n",
            " [24.03964758 26.96035242]\n",
            " [17.91189427 20.08810573]\n",
            " [36.76651982 41.23348018]\n",
            " [ 1.41409692  1.58590308]\n",
            " [30.16740088 33.83259912]\n",
            " [17.91189427 20.08810573]]\n",
            "\n",
            "\n",
            "Attributes: A6 A10\n",
            "Chi-squared: 54.30349731968899\n",
            "P-value: 5.352364814949802e-07\n",
            "Degrees of freedom: 13\n",
            "Expected: \n",
            " [[30.60792952 23.39207048]\n",
            " [77.65345081 59.34654919]\n",
            " [23.23935389 17.76064611]\n",
            " [17.00440529 12.99559471]\n",
            " [14.17033774 10.82966226]\n",
            " [30.04111601 22.95888399]\n",
            " [33.44199706 25.55800294]\n",
            " [ 5.6681351   4.3318649 ]\n",
            " [28.90748899 22.09251101]\n",
            " [21.53891336 16.46108664]\n",
            " [44.21145374 33.78854626]\n",
            " [ 1.70044053  1.29955947]\n",
            " [36.27606461 27.72393539]\n",
            " [21.53891336 16.46108664]]\n",
            "\n",
            "\n",
            "Attributes: A6 A12\n",
            "Chi-squared: 23.23900197137253\n",
            "P-value: 0.03889597510069881\n",
            "Degrees of freedom: 13\n",
            "Expected: \n",
            " [[29.02202643 24.97797357]\n",
            " [73.62995595 63.37004405]\n",
            " [22.03524229 18.96475771]\n",
            " [16.12334802 13.87665198]\n",
            " [13.43612335 11.56387665]\n",
            " [28.4845815  24.5154185 ]\n",
            " [31.7092511  27.2907489 ]\n",
            " [ 5.37444934  4.62555066]\n",
            " [27.40969163 23.59030837]\n",
            " [20.42290749 17.57709251]\n",
            " [41.92070485 36.07929515]\n",
            " [ 1.6123348   1.3876652 ]\n",
            " [34.39647577 29.60352423]\n",
            " [20.42290749 17.57709251]]\n",
            "\n",
            "\n",
            "Attributes: A6 A13\n",
            "Chi-squared: 57.48474496263652\n",
            "P-value: 0.0003618255120321375\n",
            "Degrees of freedom: 26\n",
            "Expected: \n",
            " [[4.94008811e+01 1.58590308e-01 4.44052863e+00]\n",
            " [1.25331865e+02 4.02349486e-01 1.12657856e+01]\n",
            " [3.75080764e+01 1.20411160e-01 3.37151248e+00]\n",
            " [2.74449339e+01 8.81057269e-02 2.46696035e+00]\n",
            " [2.28707783e+01 7.34214391e-02 2.05580029e+00]\n",
            " [4.84860499e+01 1.55653451e-01 4.35829662e+00]\n",
            " [5.39750367e+01 1.73274596e-01 4.85168869e+00]\n",
            " [9.14831131e+00 2.93685756e-02 8.22320117e-01]\n",
            " [4.66563877e+01 1.49779736e-01 4.19383260e+00]\n",
            " [3.47635830e+01 1.11600587e-01 3.12481645e+00]\n",
            " [7.13568282e+01 2.29074890e-01 6.41409692e+00]\n",
            " [2.74449339e+00 8.81057269e-03 2.46696035e-01]\n",
            " [5.85491924e+01 1.87958884e-01 5.26284875e+00]\n",
            " [3.47635830e+01 1.11600587e-01 3.12481645e+00]]\n",
            "\n",
            "\n",
            "Attributes: A7 A9\n",
            "Chi-squared: 49.90673048808829\n",
            "P-value: 4.258928981307644e-08\n",
            "Degrees of freedom: 8\n",
            "Expected: \n",
            " [[ 27.81057269  31.18942731]\n",
            " [  2.82819383   3.17180617]\n",
            " [ 26.86784141  30.13215859]\n",
            " [ 65.04845815  72.95154185]\n",
            " [  3.77092511   4.22907489]\n",
            " [  1.88546256   2.11453744]\n",
            " [  0.94273128   1.05726872]\n",
            " [188.07488987 210.92511013]\n",
            " [  3.77092511   4.22907489]]\n",
            "\n",
            "\n",
            "Attributes: A7 A10\n",
            "Chi-squared: 10.998714604422457\n",
            "P-value: 0.20177204163285895\n",
            "Degrees of freedom: 8\n",
            "Expected: \n",
            " [[ 33.44199706  25.55800294]\n",
            " [  3.40088106   2.59911894]\n",
            " [ 32.30837004  24.69162996]\n",
            " [ 78.22026432  59.77973568]\n",
            " [  4.53450808   3.46549192]\n",
            " [  2.26725404   1.73274596]\n",
            " [  1.13362702   0.86637298]\n",
            " [226.15859031 172.84140969]\n",
            " [  4.53450808   3.46549192]]\n",
            "\n",
            "\n",
            "Attributes: A7 A12\n",
            "Chi-squared: 16.42271054976917\n",
            "P-value: 0.03671429577698703\n",
            "Degrees of freedom: 8\n",
            "Expected: \n",
            " [[ 31.7092511   27.2907489 ]\n",
            " [  3.2246696    2.7753304 ]\n",
            " [ 30.63436123  26.36563877]\n",
            " [ 74.16740088  63.83259912]\n",
            " [  4.29955947   3.70044053]\n",
            " [  2.14977974   1.85022026]\n",
            " [  1.07488987   0.92511013]\n",
            " [214.44052863 184.55947137]\n",
            " [  4.29955947   3.70044053]]\n",
            "\n",
            "\n",
            "Attributes: A7 A13\n",
            "Chi-squared: 178.01134620766\n",
            "P-value: 2.1084050494553377e-29\n",
            "Degrees of freedom: 16\n",
            "Expected: \n",
            " [[5.39750367e+01 1.73274596e-01 4.85168869e+00]\n",
            " [5.48898678e+00 1.76211454e-02 4.93392070e-01]\n",
            " [5.21453744e+01 1.67400881e-01 4.68722467e+00]\n",
            " [1.26246696e+02 4.05286344e-01 1.13480176e+01]\n",
            " [7.31864905e+00 2.34948605e-02 6.57856094e-01]\n",
            " [3.65932452e+00 1.17474302e-02 3.28928047e-01]\n",
            " [1.82966226e+00 5.87371512e-03 1.64464023e-01]\n",
            " [3.65017621e+02 1.17180617e+00 3.28105727e+01]\n",
            " [7.31864905e+00 2.34948605e-02 6.57856094e-01]]\n",
            "\n",
            "\n",
            "Attributes: A9 A10\n",
            "Chi-squared: 127.0473385738199\n",
            "P-value: 1.813947266862159e-29\n",
            "Degrees of freedom: 1\n",
            "Expected: \n",
            " [[188.34057971 140.65942029]\n",
            " [206.65942029 154.34057971]]\n",
            "\n",
            "\n",
            "Attributes: A9 A12\n",
            "Chi-squared: 5.387629294550122\n",
            "P-value: 0.020280005160192446\n",
            "Degrees of freedom: 1\n",
            "Expected: \n",
            " [[178.32753623 150.67246377]\n",
            " [195.67246377 165.32753623]]\n",
            "\n",
            "\n",
            "Attributes: A9 A13\n",
            "Chi-squared: 15.336295887948792\n",
            "P-value: 0.0004674828268250095\n",
            "Degrees of freedom: 2\n",
            "Expected: \n",
            " [[298.00724638   3.81449275  27.17826087]\n",
            " [326.99275362   4.18550725  29.82173913]]\n",
            "\n",
            "\n",
            "Attributes: A10 A12\n",
            "Chi-squared: 0.13723575961893125\n",
            "P-value: 0.7110446536733814\n",
            "Degrees of freedom: 1\n",
            "Expected: \n",
            " [[214.10144928 180.89855072]\n",
            " [159.89855072 135.10144928]]\n",
            "\n",
            "\n",
            "Attributes: A10 A13\n",
            "Chi-squared: 42.725838439910106\n",
            "P-value: 5.274752242356338e-10\n",
            "Degrees of freedom: 2\n",
            "Expected: \n",
            " [[357.78985507   4.57971014  32.63043478]\n",
            " [267.21014493   3.42028986  24.36956522]]\n",
            "\n",
            "\n",
            "Attributes: A12 A13\n",
            "Chi-squared: 3.830849335736959\n",
            "P-value: 0.14727927452831843\n",
            "Degrees of freedom: 2\n",
            "Expected: \n",
            " [[338.76811594   4.33623188  30.89565217]\n",
            " [286.23188406   3.66376812  26.10434783]]\n",
            "\n",
            "\n"
          ],
          "name": "stdout"
        }
      ]
    },
    {
      "cell_type": "markdown",
      "metadata": {
        "id": "ZM8JckA2bgnp",
        "colab_type": "text"
      },
      "source": [
        "## Part 3 - Analysis and Interpretation\n",
        "\n",
        "Now that you've looked at the data, answer the following questions:\n",
        "\n",
        "- Interpret and explain the two t-tests you ran - what do they tell you about the relationships between the continuous features you selected and the class labels?\n",
        "- Interpret and explain the two Chi-squared tests you ran - what do they tell you about the relationships between the categorical features you selected and the class labels?\n",
        "- What was the most challenging part of this sprint challenge?\n",
        "\n",
        "Answer with text, but feel free to intersperse example code/results or refer to it from earlier."
      ]
    },
    {
      "cell_type": "markdown",
      "metadata": {
        "id": "_FpUmVmJ73VD",
        "colab_type": "text"
      },
      "source": [
        "*Your words here!*\n",
        "\n",
        "**For 1-sample t-test and 2-sample t-test, the inferences are listed in Part 2**"
      ]
    },
    {
      "cell_type": "markdown",
      "metadata": {
        "id": "LIozLDNG2Uhu",
        "colab_type": "text"
      },
      "source": [
        "**For Chi-square test:**\n",
        "\n",
        "chosen significance level (α = 0.05)  \n",
        "\n",
        "\n",
        "**Attributes: A5 A12**  \n",
        "Chi-squared: 2.336015576691039  \n",
        "P-value: 0.3109858742210559  \n",
        "Degrees of freedom: 2  \n",
        "\n",
        "The null hypothesis is two attributes are independent. Given the p-value > 0.05, failed to reject the null hypothesis.\n",
        "\n",
        "**Attributes: A7 A13**  \n",
        "Chi-squared: 178.01134620766  \n",
        "P-value: 2.1084050494553377e-29  \n",
        "Degrees of freedom: 16  \n",
        "\n",
        "The null hypothesis is two attributes are independent. Given the small p-value, reject the null hypothesis. Hence there is strong evidence that A7 and A13 are related.\n",
        "\n",
        "**Attributes: A6 A7**  \n",
        "Chi-squared: 1894.1706707731985  \n",
        "P-value: 0.0   \n",
        "Degrees of freedom: 104  \n",
        "\n",
        "For this pair of attributes, the p-value is almost zero, which gives us strong confidence to reject null hypothesis that the two arrtributes are not related.\n",
        "\n",
        "\n"
      ]
    }
  ]
}