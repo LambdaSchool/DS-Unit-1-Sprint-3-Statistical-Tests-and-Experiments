{
  "nbformat": 4,
  "nbformat_minor": 0,
  "metadata": {
    "colab": {
      "name": "DS_Unit_1_Sprint_Challenge_3.ipynb",
      "version": "0.3.2",
      "provenance": [],
      "collapsed_sections": [],
      "include_colab_link": true
    },
    "kernelspec": {
      "name": "python3",
      "display_name": "Python 3"
    }
  },
  "cells": [
    {
      "cell_type": "markdown",
      "metadata": {
        "id": "view-in-github",
        "colab_type": "text"
      },
      "source": [
        "<a href=\"https://colab.research.google.com/github/kmk028/DS-Unit-1-Sprint-3-Statistical-Tests-and-Experiments/blob/master/DS_Unit_1_Sprint_Challenge_3.ipynb\" target=\"_parent\"><img src=\"https://colab.research.google.com/assets/colab-badge.svg\" alt=\"Open In Colab\"/></a>"
      ]
    },
    {
      "cell_type": "markdown",
      "metadata": {
        "id": "NooAiTdnafkz",
        "colab_type": "text"
      },
      "source": [
        "# Data Science Unit 1 Sprint Challenge 3\n",
        "\n",
        "## Exploring Data, Testing Hypotheses\n",
        "\n",
        "In this sprint challenge you will look at a dataset of people being approved or rejected for credit.\n",
        "\n",
        "https://archive.ics.uci.edu/ml/datasets/Credit+Approval\n",
        "\n",
        "Data Set Information: This file concerns credit card applications. All attribute names and values have been changed to meaningless symbols to protect confidentiality of the data. This dataset is interesting because there is a good mix of attributes -- continuous, nominal with small numbers of values, and nominal with larger numbers of values. There are also a few missing values.\n",
        "\n",
        "Attribute Information:\n",
        "- A1: b, a.\n",
        "- A2: continuous.\n",
        "- A3: continuous.\n",
        "- A4: u, y, l, t.\n",
        "- A5: g, p, gg.\n",
        "- A6: c, d, cc, i, j, k, m, r, q, w, x, e, aa, ff.\n",
        "- A7: v, h, bb, j, n, z, dd, ff, o.\n",
        "- A8: continuous.\n",
        "- A9: t, f.\n",
        "- A10: t, f.\n",
        "- A11: continuous.\n",
        "- A12: t, f.\n",
        "- A13: g, p, s.\n",
        "- A14: continuous.\n",
        "- A15: continuous.\n",
        "- A16: +,- (class attribute)\n",
        "\n",
        "Yes, most of that doesn't mean anything. A16 (the class attribute) is the most interesting, as it separates the 307 approved cases from the 383 rejected cases. The remaining variables have been obfuscated for privacy - a challenge you may have to deal with in your data science career.\n",
        "\n",
        "Sprint challenges are evaluated based on satisfactory completion of each part. It is suggested you work through it in order, getting each aspect reasonably working, before trying to deeply explore, iterate, or refine any given step. Once you get to the end, if you want to go back and improve things, go for it!"
      ]
    },
    {
      "cell_type": "markdown",
      "metadata": {
        "id": "5wch6ksCbJtZ",
        "colab_type": "text"
      },
      "source": [
        "## Part 1 - Load and validate the data\n",
        "\n",
        "- Load the data as a `pandas` data frame.\n",
        "- Validate that it has the appropriate number of observations (you can check the raw file, and also read the dataset description from UCI).\n",
        "- UCI says there should be missing data - check, and if necessary change the data so pandas recognizes it as na\n",
        "- Make sure that the loaded features are of the types described above (continuous values should be treated as float), and correct as necessary\n",
        "\n",
        "This is review, but skills that you'll use at the start of any data exploration. Further, you may have to do some investigation to figure out which file to load from - that is part of the puzzle."
      ]
    },
    {
      "cell_type": "code",
      "metadata": {
        "id": "Q79xDLckzibS",
        "colab_type": "code",
        "colab": {}
      },
      "source": [
        "import pandas as pd\n",
        "import numpy as np\n",
        "import scipy.stats as st\n",
        "import seaborn as sns\n",
        "import matplotlib.pyplot as plt\n"
      ],
      "execution_count": 0,
      "outputs": []
    },
    {
      "cell_type": "code",
      "metadata": {
        "id": "MPUWaU1H6ZoJ",
        "colab_type": "code",
        "colab": {}
      },
      "source": [
        "# read in the data frame\n",
        "features = ['A1','A2','A3','A4','A5','A6','A7','A8','A9','A10','A11','A12','A13','A14','A15','A16']\n",
        "df = pd.read_csv('https://archive.ics.uci.edu/ml/machine-learning-databases/credit-screening/crx.data',header = None,names = features)"
      ],
      "execution_count": 0,
      "outputs": []
    },
    {
      "cell_type": "code",
      "metadata": {
        "id": "buWvJldg6cRQ",
        "colab_type": "code",
        "colab": {
          "base_uri": "https://localhost:8080/",
          "height": 204
        },
        "outputId": "031a1c40-428d-4a16-bb8b-4d46870b0ca8"
      },
      "source": [
        "# figure out non 'a' , 'b' values in dataframe\n",
        "df[~df['A1'].isin(['a','b'])].head()"
      ],
      "execution_count": 26,
      "outputs": [
        {
          "output_type": "execute_result",
          "data": {
            "text/html": [
              "<div>\n",
              "<style scoped>\n",
              "    .dataframe tbody tr th:only-of-type {\n",
              "        vertical-align: middle;\n",
              "    }\n",
              "\n",
              "    .dataframe tbody tr th {\n",
              "        vertical-align: top;\n",
              "    }\n",
              "\n",
              "    .dataframe thead th {\n",
              "        text-align: right;\n",
              "    }\n",
              "</style>\n",
              "<table border=\"1\" class=\"dataframe\">\n",
              "  <thead>\n",
              "    <tr style=\"text-align: right;\">\n",
              "      <th></th>\n",
              "      <th>A1</th>\n",
              "      <th>A2</th>\n",
              "      <th>A3</th>\n",
              "      <th>A4</th>\n",
              "      <th>A5</th>\n",
              "      <th>A6</th>\n",
              "      <th>A7</th>\n",
              "      <th>A8</th>\n",
              "      <th>A9</th>\n",
              "      <th>A10</th>\n",
              "      <th>A11</th>\n",
              "      <th>A12</th>\n",
              "      <th>A13</th>\n",
              "      <th>A14</th>\n",
              "      <th>A15</th>\n",
              "      <th>A16</th>\n",
              "    </tr>\n",
              "  </thead>\n",
              "  <tbody>\n",
              "    <tr>\n",
              "      <th>248</th>\n",
              "      <td>?</td>\n",
              "      <td>24.50</td>\n",
              "      <td>12.750</td>\n",
              "      <td>u</td>\n",
              "      <td>g</td>\n",
              "      <td>c</td>\n",
              "      <td>bb</td>\n",
              "      <td>4.75</td>\n",
              "      <td>t</td>\n",
              "      <td>t</td>\n",
              "      <td>2</td>\n",
              "      <td>f</td>\n",
              "      <td>g</td>\n",
              "      <td>00073</td>\n",
              "      <td>444</td>\n",
              "      <td>+</td>\n",
              "    </tr>\n",
              "    <tr>\n",
              "      <th>327</th>\n",
              "      <td>?</td>\n",
              "      <td>40.83</td>\n",
              "      <td>3.500</td>\n",
              "      <td>u</td>\n",
              "      <td>g</td>\n",
              "      <td>i</td>\n",
              "      <td>bb</td>\n",
              "      <td>0.50</td>\n",
              "      <td>f</td>\n",
              "      <td>f</td>\n",
              "      <td>0</td>\n",
              "      <td>f</td>\n",
              "      <td>s</td>\n",
              "      <td>01160</td>\n",
              "      <td>0</td>\n",
              "      <td>-</td>\n",
              "    </tr>\n",
              "    <tr>\n",
              "      <th>346</th>\n",
              "      <td>?</td>\n",
              "      <td>32.25</td>\n",
              "      <td>1.500</td>\n",
              "      <td>u</td>\n",
              "      <td>g</td>\n",
              "      <td>c</td>\n",
              "      <td>v</td>\n",
              "      <td>0.25</td>\n",
              "      <td>f</td>\n",
              "      <td>f</td>\n",
              "      <td>0</td>\n",
              "      <td>t</td>\n",
              "      <td>g</td>\n",
              "      <td>00372</td>\n",
              "      <td>122</td>\n",
              "      <td>-</td>\n",
              "    </tr>\n",
              "    <tr>\n",
              "      <th>374</th>\n",
              "      <td>?</td>\n",
              "      <td>28.17</td>\n",
              "      <td>0.585</td>\n",
              "      <td>u</td>\n",
              "      <td>g</td>\n",
              "      <td>aa</td>\n",
              "      <td>v</td>\n",
              "      <td>0.04</td>\n",
              "      <td>f</td>\n",
              "      <td>f</td>\n",
              "      <td>0</td>\n",
              "      <td>f</td>\n",
              "      <td>g</td>\n",
              "      <td>00260</td>\n",
              "      <td>1004</td>\n",
              "      <td>-</td>\n",
              "    </tr>\n",
              "    <tr>\n",
              "      <th>453</th>\n",
              "      <td>?</td>\n",
              "      <td>29.75</td>\n",
              "      <td>0.665</td>\n",
              "      <td>u</td>\n",
              "      <td>g</td>\n",
              "      <td>w</td>\n",
              "      <td>v</td>\n",
              "      <td>0.25</td>\n",
              "      <td>f</td>\n",
              "      <td>f</td>\n",
              "      <td>0</td>\n",
              "      <td>t</td>\n",
              "      <td>g</td>\n",
              "      <td>00300</td>\n",
              "      <td>0</td>\n",
              "      <td>-</td>\n",
              "    </tr>\n",
              "  </tbody>\n",
              "</table>\n",
              "</div>"
            ],
            "text/plain": [
              "    A1     A2      A3 A4 A5  A6  A7    A8 A9 A10  A11 A12 A13    A14   A15 A16\n",
              "248  ?  24.50  12.750  u  g   c  bb  4.75  t   t    2   f   g  00073   444   +\n",
              "327  ?  40.83   3.500  u  g   i  bb  0.50  f   f    0   f   s  01160     0   -\n",
              "346  ?  32.25   1.500  u  g   c   v  0.25  f   f    0   t   g  00372   122   -\n",
              "374  ?  28.17   0.585  u  g  aa   v  0.04  f   f    0   f   g  00260  1004   -\n",
              "453  ?  29.75   0.665  u  g   w   v  0.25  f   f    0   t   g  00300     0   -"
            ]
          },
          "metadata": {
            "tags": []
          },
          "execution_count": 26
        }
      ]
    },
    {
      "cell_type": "code",
      "metadata": {
        "id": "-7GoWhf47VY6",
        "colab_type": "code",
        "colab": {}
      },
      "source": [
        "# replace '?' values with NaN\n",
        "df = pd.read_csv('https://archive.ics.uci.edu/ml/machine-learning-databases/credit-screening/crx.data',header = None,names = features, na_values = '?')"
      ],
      "execution_count": 0,
      "outputs": []
    },
    {
      "cell_type": "code",
      "metadata": {
        "id": "Ne8qLmrl7dRF",
        "colab_type": "code",
        "colab": {
          "base_uri": "https://localhost:8080/",
          "height": 306
        },
        "outputId": "b0a29914-3756-4048-aeb9-32900feff712"
      },
      "source": [
        "df.isnull().sum()"
      ],
      "execution_count": 28,
      "outputs": [
        {
          "output_type": "execute_result",
          "data": {
            "text/plain": [
              "A1     12\n",
              "A2     12\n",
              "A3      0\n",
              "A4      6\n",
              "A5      6\n",
              "A6      9\n",
              "A7      9\n",
              "A8      0\n",
              "A9      0\n",
              "A10     0\n",
              "A11     0\n",
              "A12     0\n",
              "A13     0\n",
              "A14    13\n",
              "A15     0\n",
              "A16     0\n",
              "dtype: int64"
            ]
          },
          "metadata": {
            "tags": []
          },
          "execution_count": 28
        }
      ]
    },
    {
      "cell_type": "code",
      "metadata": {
        "id": "DCEyyItk7i-D",
        "colab_type": "code",
        "colab": {
          "base_uri": "https://localhost:8080/",
          "height": 306
        },
        "outputId": "e31d26cb-8302-4520-b467-30e9a3f54f8a"
      },
      "source": [
        "df.dtypes"
      ],
      "execution_count": 29,
      "outputs": [
        {
          "output_type": "execute_result",
          "data": {
            "text/plain": [
              "A1      object\n",
              "A2     float64\n",
              "A3     float64\n",
              "A4      object\n",
              "A5      object\n",
              "A6      object\n",
              "A7      object\n",
              "A8     float64\n",
              "A9      object\n",
              "A10     object\n",
              "A11      int64\n",
              "A12     object\n",
              "A13     object\n",
              "A14    float64\n",
              "A15      int64\n",
              "A16     object\n",
              "dtype: object"
            ]
          },
          "metadata": {
            "tags": []
          },
          "execution_count": 29
        }
      ]
    },
    {
      "cell_type": "code",
      "metadata": {
        "id": "_VxJKoat8P2O",
        "colab_type": "code",
        "colab": {}
      },
      "source": [
        "# Convert all continous features to float\n",
        "df['A11'] = df['A11'].astype('float')\n",
        "df['A15'] = df['A15'].astype('float')"
      ],
      "execution_count": 0,
      "outputs": []
    },
    {
      "cell_type": "code",
      "metadata": {
        "id": "RV5rso178hQj",
        "colab_type": "code",
        "colab": {
          "base_uri": "https://localhost:8080/",
          "height": 306
        },
        "outputId": "a3fb5d85-f39b-42e7-b9f0-1eb79d3c7eab"
      },
      "source": [
        "df.dtypes"
      ],
      "execution_count": 31,
      "outputs": [
        {
          "output_type": "execute_result",
          "data": {
            "text/plain": [
              "A1      object\n",
              "A2     float64\n",
              "A3     float64\n",
              "A4      object\n",
              "A5      object\n",
              "A6      object\n",
              "A7      object\n",
              "A8     float64\n",
              "A9      object\n",
              "A10     object\n",
              "A11    float64\n",
              "A12     object\n",
              "A13     object\n",
              "A14    float64\n",
              "A15    float64\n",
              "A16     object\n",
              "dtype: object"
            ]
          },
          "metadata": {
            "tags": []
          },
          "execution_count": 31
        }
      ]
    },
    {
      "cell_type": "code",
      "metadata": {
        "id": "9Csv5bLR80GG",
        "colab_type": "code",
        "colab": {
          "base_uri": "https://localhost:8080/",
          "height": 34
        },
        "outputId": "10ff7f41-8f2a-4e7f-8978-b7b7a937063e"
      },
      "source": [
        "df.shape"
      ],
      "execution_count": 32,
      "outputs": [
        {
          "output_type": "execute_result",
          "data": {
            "text/plain": [
              "(690, 16)"
            ]
          },
          "metadata": {
            "tags": []
          },
          "execution_count": 32
        }
      ]
    },
    {
      "cell_type": "markdown",
      "metadata": {
        "id": "G7rLytbrO38L",
        "colab_type": "text"
      },
      "source": [
        "## Part 2 - Exploring data, Testing hypotheses\n",
        "\n",
        "The only thing we really know about this data is that A16 is the class label. Besides that, we have 6 continuous (float) features and 9 categorical features.\n",
        "\n",
        "Explore the data: you can use whatever approach (tables, utility functions, visualizations) to get an impression of the distributions and relationships of the variables. In general, your goal is to understand how the features are different when grouped by the two class labels (`+` and `-`).\n",
        "\n",
        "For the 6 continuous features, how are they different when split between the two class labels? Choose two features to run t-tests (again split by class label) - specifically, select one feature that is *extremely* different between the classes, and another feature that is notably less different (though perhaps still \"statistically significantly\" different). You may have to explore more than two features to do this.\n",
        "\n",
        "For the categorical features, explore by creating \"cross tabs\" (aka [contingency tables](https://en.wikipedia.org/wiki/Contingency_table)) between them and the class label, and apply the Chi-squared test to them. [pandas.crosstab](http://pandas.pydata.org/pandas-docs/stable/reference/api/pandas.crosstab.html) can create contingency tables, and [scipy.stats.chi2_contingency](https://docs.scipy.org/doc/scipy/reference/generated/scipy.stats.chi2_contingency.html) can calculate the Chi-squared statistic for them.\n",
        "\n",
        "There are 9 categorical features - as with the t-test, try to find one where the Chi-squared test returns an extreme result (rejecting the null that the data are independent), and one where it is less extreme.\n",
        "\n",
        "**NOTE** - \"less extreme\" just means smaller test statistic/larger p-value. Even the least extreme differences may be strongly statistically significant.\n",
        "\n",
        "Your *main* goal is the hypothesis tests, so don't spend too much time on the exploration/visualization piece. That is just a means to an end - use simple visualizations, such as boxplots or a scatter matrix (both built in to pandas), to get a feel for the overall distribution of the variables.\n",
        "\n",
        "This is challenging, so manage your time and aim for a baseline of at least running two t-tests and two Chi-squared tests before polishing. And don't forget to answer the questions in part 3, even if your results in this part aren't what you want them to be."
      ]
    },
    {
      "cell_type": "code",
      "metadata": {
        "id": "_nqcgc0yzm68",
        "colab_type": "code",
        "colab": {
          "base_uri": "https://localhost:8080/",
          "height": 297
        },
        "outputId": "601cde3a-5c50-40cf-9a11-9fc940c0bdf3"
      },
      "source": [
        "# data frame of approved applications\n",
        "approval = df.loc[df['A16'] == '+']\n",
        "approval.sample(8)"
      ],
      "execution_count": 33,
      "outputs": [
        {
          "output_type": "execute_result",
          "data": {
            "text/html": [
              "<div>\n",
              "<style scoped>\n",
              "    .dataframe tbody tr th:only-of-type {\n",
              "        vertical-align: middle;\n",
              "    }\n",
              "\n",
              "    .dataframe tbody tr th {\n",
              "        vertical-align: top;\n",
              "    }\n",
              "\n",
              "    .dataframe thead th {\n",
              "        text-align: right;\n",
              "    }\n",
              "</style>\n",
              "<table border=\"1\" class=\"dataframe\">\n",
              "  <thead>\n",
              "    <tr style=\"text-align: right;\">\n",
              "      <th></th>\n",
              "      <th>A1</th>\n",
              "      <th>A2</th>\n",
              "      <th>A3</th>\n",
              "      <th>A4</th>\n",
              "      <th>A5</th>\n",
              "      <th>A6</th>\n",
              "      <th>A7</th>\n",
              "      <th>A8</th>\n",
              "      <th>A9</th>\n",
              "      <th>A10</th>\n",
              "      <th>A11</th>\n",
              "      <th>A12</th>\n",
              "      <th>A13</th>\n",
              "      <th>A14</th>\n",
              "      <th>A15</th>\n",
              "      <th>A16</th>\n",
              "    </tr>\n",
              "  </thead>\n",
              "  <tbody>\n",
              "    <tr>\n",
              "      <th>244</th>\n",
              "      <td>b</td>\n",
              "      <td>18.50</td>\n",
              "      <td>2.000</td>\n",
              "      <td>u</td>\n",
              "      <td>g</td>\n",
              "      <td>i</td>\n",
              "      <td>v</td>\n",
              "      <td>1.50</td>\n",
              "      <td>t</td>\n",
              "      <td>t</td>\n",
              "      <td>2.0</td>\n",
              "      <td>f</td>\n",
              "      <td>g</td>\n",
              "      <td>120.0</td>\n",
              "      <td>300.0</td>\n",
              "      <td>+</td>\n",
              "    </tr>\n",
              "    <tr>\n",
              "      <th>208</th>\n",
              "      <td>b</td>\n",
              "      <td>35.17</td>\n",
              "      <td>2.500</td>\n",
              "      <td>u</td>\n",
              "      <td>g</td>\n",
              "      <td>k</td>\n",
              "      <td>v</td>\n",
              "      <td>4.50</td>\n",
              "      <td>t</td>\n",
              "      <td>t</td>\n",
              "      <td>7.0</td>\n",
              "      <td>f</td>\n",
              "      <td>g</td>\n",
              "      <td>150.0</td>\n",
              "      <td>1270.0</td>\n",
              "      <td>+</td>\n",
              "    </tr>\n",
              "    <tr>\n",
              "      <th>169</th>\n",
              "      <td>b</td>\n",
              "      <td>37.50</td>\n",
              "      <td>1.125</td>\n",
              "      <td>y</td>\n",
              "      <td>p</td>\n",
              "      <td>d</td>\n",
              "      <td>v</td>\n",
              "      <td>1.50</td>\n",
              "      <td>f</td>\n",
              "      <td>f</td>\n",
              "      <td>0.0</td>\n",
              "      <td>t</td>\n",
              "      <td>g</td>\n",
              "      <td>431.0</td>\n",
              "      <td>0.0</td>\n",
              "      <td>+</td>\n",
              "    </tr>\n",
              "    <tr>\n",
              "      <th>576</th>\n",
              "      <td>b</td>\n",
              "      <td>30.17</td>\n",
              "      <td>0.500</td>\n",
              "      <td>u</td>\n",
              "      <td>g</td>\n",
              "      <td>c</td>\n",
              "      <td>v</td>\n",
              "      <td>1.75</td>\n",
              "      <td>t</td>\n",
              "      <td>t</td>\n",
              "      <td>11.0</td>\n",
              "      <td>f</td>\n",
              "      <td>g</td>\n",
              "      <td>32.0</td>\n",
              "      <td>540.0</td>\n",
              "      <td>+</td>\n",
              "    </tr>\n",
              "    <tr>\n",
              "      <th>573</th>\n",
              "      <td>a</td>\n",
              "      <td>65.17</td>\n",
              "      <td>14.000</td>\n",
              "      <td>u</td>\n",
              "      <td>g</td>\n",
              "      <td>ff</td>\n",
              "      <td>ff</td>\n",
              "      <td>0.00</td>\n",
              "      <td>t</td>\n",
              "      <td>t</td>\n",
              "      <td>11.0</td>\n",
              "      <td>t</td>\n",
              "      <td>g</td>\n",
              "      <td>0.0</td>\n",
              "      <td>1400.0</td>\n",
              "      <td>+</td>\n",
              "    </tr>\n",
              "    <tr>\n",
              "      <th>17</th>\n",
              "      <td>a</td>\n",
              "      <td>23.25</td>\n",
              "      <td>5.875</td>\n",
              "      <td>u</td>\n",
              "      <td>g</td>\n",
              "      <td>q</td>\n",
              "      <td>v</td>\n",
              "      <td>3.17</td>\n",
              "      <td>t</td>\n",
              "      <td>t</td>\n",
              "      <td>10.0</td>\n",
              "      <td>f</td>\n",
              "      <td>g</td>\n",
              "      <td>120.0</td>\n",
              "      <td>245.0</td>\n",
              "      <td>+</td>\n",
              "    </tr>\n",
              "    <tr>\n",
              "      <th>122</th>\n",
              "      <td>a</td>\n",
              "      <td>24.75</td>\n",
              "      <td>12.500</td>\n",
              "      <td>u</td>\n",
              "      <td>g</td>\n",
              "      <td>aa</td>\n",
              "      <td>v</td>\n",
              "      <td>1.50</td>\n",
              "      <td>t</td>\n",
              "      <td>t</td>\n",
              "      <td>12.0</td>\n",
              "      <td>t</td>\n",
              "      <td>g</td>\n",
              "      <td>120.0</td>\n",
              "      <td>567.0</td>\n",
              "      <td>+</td>\n",
              "    </tr>\n",
              "    <tr>\n",
              "      <th>29</th>\n",
              "      <td>b</td>\n",
              "      <td>42.08</td>\n",
              "      <td>1.040</td>\n",
              "      <td>u</td>\n",
              "      <td>g</td>\n",
              "      <td>w</td>\n",
              "      <td>v</td>\n",
              "      <td>5.00</td>\n",
              "      <td>t</td>\n",
              "      <td>t</td>\n",
              "      <td>6.0</td>\n",
              "      <td>t</td>\n",
              "      <td>g</td>\n",
              "      <td>500.0</td>\n",
              "      <td>10000.0</td>\n",
              "      <td>+</td>\n",
              "    </tr>\n",
              "  </tbody>\n",
              "</table>\n",
              "</div>"
            ],
            "text/plain": [
              "    A1     A2      A3 A4 A5  A6  A7  ...  A10   A11 A12  A13    A14      A15  A16\n",
              "244  b  18.50   2.000  u  g   i   v  ...    t   2.0   f    g  120.0    300.0    +\n",
              "208  b  35.17   2.500  u  g   k   v  ...    t   7.0   f    g  150.0   1270.0    +\n",
              "169  b  37.50   1.125  y  p   d   v  ...    f   0.0   t    g  431.0      0.0    +\n",
              "576  b  30.17   0.500  u  g   c   v  ...    t  11.0   f    g   32.0    540.0    +\n",
              "573  a  65.17  14.000  u  g  ff  ff  ...    t  11.0   t    g    0.0   1400.0    +\n",
              "17   a  23.25   5.875  u  g   q   v  ...    t  10.0   f    g  120.0    245.0    +\n",
              "122  a  24.75  12.500  u  g  aa   v  ...    t  12.0   t    g  120.0    567.0    +\n",
              "29   b  42.08   1.040  u  g   w   v  ...    t   6.0   t    g  500.0  10000.0    +\n",
              "\n",
              "[8 rows x 16 columns]"
            ]
          },
          "metadata": {
            "tags": []
          },
          "execution_count": 33
        }
      ]
    },
    {
      "cell_type": "code",
      "metadata": {
        "id": "XukmmQyJ-75J",
        "colab_type": "code",
        "colab": {
          "base_uri": "https://localhost:8080/",
          "height": 297
        },
        "outputId": "2ca99430-fb77-412f-d705-8b007da32362"
      },
      "source": [
        "#data frame of rejected applications\n",
        "rejection = df.loc[df['A16'] == '-']\n",
        "rejection.sample(8)"
      ],
      "execution_count": 34,
      "outputs": [
        {
          "output_type": "execute_result",
          "data": {
            "text/html": [
              "<div>\n",
              "<style scoped>\n",
              "    .dataframe tbody tr th:only-of-type {\n",
              "        vertical-align: middle;\n",
              "    }\n",
              "\n",
              "    .dataframe tbody tr th {\n",
              "        vertical-align: top;\n",
              "    }\n",
              "\n",
              "    .dataframe thead th {\n",
              "        text-align: right;\n",
              "    }\n",
              "</style>\n",
              "<table border=\"1\" class=\"dataframe\">\n",
              "  <thead>\n",
              "    <tr style=\"text-align: right;\">\n",
              "      <th></th>\n",
              "      <th>A1</th>\n",
              "      <th>A2</th>\n",
              "      <th>A3</th>\n",
              "      <th>A4</th>\n",
              "      <th>A5</th>\n",
              "      <th>A6</th>\n",
              "      <th>A7</th>\n",
              "      <th>A8</th>\n",
              "      <th>A9</th>\n",
              "      <th>A10</th>\n",
              "      <th>A11</th>\n",
              "      <th>A12</th>\n",
              "      <th>A13</th>\n",
              "      <th>A14</th>\n",
              "      <th>A15</th>\n",
              "      <th>A16</th>\n",
              "    </tr>\n",
              "  </thead>\n",
              "  <tbody>\n",
              "    <tr>\n",
              "      <th>483</th>\n",
              "      <td>b</td>\n",
              "      <td>23.75</td>\n",
              "      <td>0.415</td>\n",
              "      <td>y</td>\n",
              "      <td>p</td>\n",
              "      <td>c</td>\n",
              "      <td>v</td>\n",
              "      <td>0.040</td>\n",
              "      <td>f</td>\n",
              "      <td>t</td>\n",
              "      <td>2.0</td>\n",
              "      <td>f</td>\n",
              "      <td>g</td>\n",
              "      <td>128.0</td>\n",
              "      <td>6.0</td>\n",
              "      <td>-</td>\n",
              "    </tr>\n",
              "    <tr>\n",
              "      <th>335</th>\n",
              "      <td>b</td>\n",
              "      <td>27.67</td>\n",
              "      <td>0.750</td>\n",
              "      <td>u</td>\n",
              "      <td>g</td>\n",
              "      <td>q</td>\n",
              "      <td>h</td>\n",
              "      <td>0.165</td>\n",
              "      <td>f</td>\n",
              "      <td>f</td>\n",
              "      <td>0.0</td>\n",
              "      <td>t</td>\n",
              "      <td>g</td>\n",
              "      <td>220.0</td>\n",
              "      <td>251.0</td>\n",
              "      <td>-</td>\n",
              "    </tr>\n",
              "    <tr>\n",
              "      <th>290</th>\n",
              "      <td>b</td>\n",
              "      <td>23.00</td>\n",
              "      <td>0.750</td>\n",
              "      <td>u</td>\n",
              "      <td>g</td>\n",
              "      <td>m</td>\n",
              "      <td>v</td>\n",
              "      <td>0.500</td>\n",
              "      <td>f</td>\n",
              "      <td>f</td>\n",
              "      <td>0.0</td>\n",
              "      <td>t</td>\n",
              "      <td>s</td>\n",
              "      <td>320.0</td>\n",
              "      <td>0.0</td>\n",
              "      <td>-</td>\n",
              "    </tr>\n",
              "    <tr>\n",
              "      <th>680</th>\n",
              "      <td>b</td>\n",
              "      <td>19.50</td>\n",
              "      <td>0.290</td>\n",
              "      <td>u</td>\n",
              "      <td>g</td>\n",
              "      <td>k</td>\n",
              "      <td>v</td>\n",
              "      <td>0.290</td>\n",
              "      <td>f</td>\n",
              "      <td>f</td>\n",
              "      <td>0.0</td>\n",
              "      <td>f</td>\n",
              "      <td>g</td>\n",
              "      <td>280.0</td>\n",
              "      <td>364.0</td>\n",
              "      <td>-</td>\n",
              "    </tr>\n",
              "    <tr>\n",
              "      <th>423</th>\n",
              "      <td>b</td>\n",
              "      <td>26.17</td>\n",
              "      <td>0.835</td>\n",
              "      <td>u</td>\n",
              "      <td>g</td>\n",
              "      <td>cc</td>\n",
              "      <td>v</td>\n",
              "      <td>1.165</td>\n",
              "      <td>f</td>\n",
              "      <td>f</td>\n",
              "      <td>0.0</td>\n",
              "      <td>f</td>\n",
              "      <td>g</td>\n",
              "      <td>100.0</td>\n",
              "      <td>0.0</td>\n",
              "      <td>-</td>\n",
              "    </tr>\n",
              "    <tr>\n",
              "      <th>100</th>\n",
              "      <td>b</td>\n",
              "      <td>37.50</td>\n",
              "      <td>1.750</td>\n",
              "      <td>y</td>\n",
              "      <td>p</td>\n",
              "      <td>c</td>\n",
              "      <td>bb</td>\n",
              "      <td>0.250</td>\n",
              "      <td>t</td>\n",
              "      <td>f</td>\n",
              "      <td>0.0</td>\n",
              "      <td>t</td>\n",
              "      <td>g</td>\n",
              "      <td>164.0</td>\n",
              "      <td>400.0</td>\n",
              "      <td>-</td>\n",
              "    </tr>\n",
              "    <tr>\n",
              "      <th>544</th>\n",
              "      <td>b</td>\n",
              "      <td>30.08</td>\n",
              "      <td>1.040</td>\n",
              "      <td>y</td>\n",
              "      <td>p</td>\n",
              "      <td>i</td>\n",
              "      <td>bb</td>\n",
              "      <td>0.500</td>\n",
              "      <td>t</td>\n",
              "      <td>t</td>\n",
              "      <td>10.0</td>\n",
              "      <td>t</td>\n",
              "      <td>g</td>\n",
              "      <td>132.0</td>\n",
              "      <td>28.0</td>\n",
              "      <td>-</td>\n",
              "    </tr>\n",
              "    <tr>\n",
              "      <th>330</th>\n",
              "      <td>b</td>\n",
              "      <td>20.42</td>\n",
              "      <td>0.000</td>\n",
              "      <td>NaN</td>\n",
              "      <td>NaN</td>\n",
              "      <td>NaN</td>\n",
              "      <td>NaN</td>\n",
              "      <td>0.000</td>\n",
              "      <td>f</td>\n",
              "      <td>f</td>\n",
              "      <td>0.0</td>\n",
              "      <td>f</td>\n",
              "      <td>p</td>\n",
              "      <td>NaN</td>\n",
              "      <td>0.0</td>\n",
              "      <td>-</td>\n",
              "    </tr>\n",
              "  </tbody>\n",
              "</table>\n",
              "</div>"
            ],
            "text/plain": [
              "    A1     A2     A3   A4   A5   A6   A7  ...  A10   A11 A12  A13    A14    A15  A16\n",
              "483  b  23.75  0.415    y    p    c    v  ...    t   2.0   f    g  128.0    6.0    -\n",
              "335  b  27.67  0.750    u    g    q    h  ...    f   0.0   t    g  220.0  251.0    -\n",
              "290  b  23.00  0.750    u    g    m    v  ...    f   0.0   t    s  320.0    0.0    -\n",
              "680  b  19.50  0.290    u    g    k    v  ...    f   0.0   f    g  280.0  364.0    -\n",
              "423  b  26.17  0.835    u    g   cc    v  ...    f   0.0   f    g  100.0    0.0    -\n",
              "100  b  37.50  1.750    y    p    c   bb  ...    f   0.0   t    g  164.0  400.0    -\n",
              "544  b  30.08  1.040    y    p    i   bb  ...    t  10.0   t    g  132.0   28.0    -\n",
              "330  b  20.42  0.000  NaN  NaN  NaN  NaN  ...    f   0.0   f    p    NaN    0.0    -\n",
              "\n",
              "[8 rows x 16 columns]"
            ]
          },
          "metadata": {
            "tags": []
          },
          "execution_count": 34
        }
      ]
    },
    {
      "cell_type": "code",
      "metadata": {
        "id": "01OdR0YZ_EEW",
        "colab_type": "code",
        "colab": {
          "base_uri": "https://localhost:8080/",
          "height": 51
        },
        "outputId": "cd4f96af-feac-4839-c6ed-74a1bf7204a4"
      },
      "source": [
        "print(approval.shape)\n",
        "print(rejection.shape)"
      ],
      "execution_count": 35,
      "outputs": [
        {
          "output_type": "stream",
          "text": [
            "(307, 16)\n",
            "(383, 16)\n"
          ],
          "name": "stdout"
        }
      ]
    },
    {
      "cell_type": "code",
      "metadata": {
        "id": "KWxaIKwPArPe",
        "colab_type": "code",
        "colab": {}
      },
      "source": [
        "# Function to calculate t-test p-Value omitting NaNs in process\n",
        "def t_test(feature):\n",
        "  stat, pvalue = st.ttest_ind(approval[feature], rejection[feature], nan_policy='omit')\n",
        "  print (f\"Statistic of {feature} is {stat}.\")\n",
        "  print (f\"P-Value of {feature} is {pvalue}.\")\n",
        "  return pvalue\n",
        "  "
      ],
      "execution_count": 0,
      "outputs": []
    },
    {
      "cell_type": "code",
      "metadata": {
        "id": "cdDLLpylEZgE",
        "colab_type": "code",
        "colab": {
          "base_uri": "https://localhost:8080/",
          "height": 425
        },
        "outputId": "9f423301-3e15-4467-826e-3c901714ddb3"
      },
      "source": [
        "# Interpretation of p values : to reject or not reject null hypothesis \n",
        "#ie, means of approval and rejection dataframe features are same or different and different by how much \n",
        "cont_feature = ['A2','A3','A8','A11','A14','A15']\n",
        "for i in cont_feature:\n",
        "  if t_test(i) <0.05:\n",
        "    print('We can reject null hypothesis that 2 features have identical means\\n')\n",
        "  else:\n",
        "    print('We cannot reject null hypothesis that 2 features have identical means\\n')\n",
        "    \n",
        "        "
      ],
      "execution_count": 43,
      "outputs": [
        {
          "output_type": "stream",
          "text": [
            "Statistic of A2 is 4.2922156166315535.\n",
            "P-Value of A2 is 2.0276637071781407e-05.\n",
            "We can reject null hypothesis that 2 features have identical means\n",
            "\n",
            "Statistic of A3 is 5.52998337614816.\n",
            "P-Value of A3 is 4.551680702308068e-08.\n",
            "We can reject null hypothesis that 2 features have identical means\n",
            "\n",
            "Statistic of A8 is 8.935819983773698.\n",
            "P-Value of A8 is 3.6710537401601785e-18.\n",
            "We can reject null hypothesis that 2 features have identical means\n",
            "\n",
            "Statistic of A11 is 11.667004222431277.\n",
            "P-Value of A11 is 7.957718568079967e-29.\n",
            "We can reject null hypothesis that 2 features have identical means\n",
            "\n",
            "Statistic of A14 is -2.6358251986645476.\n",
            "P-Value of A14 is 0.008586135473979569.\n",
            "We can reject null hypothesis that 2 features have identical means\n",
            "\n",
            "Statistic of A15 is 4.680216020964486.\n",
            "P-Value of A15 is 3.4520256956287944e-06.\n",
            "We can reject null hypothesis that 2 features have identical means\n",
            "\n"
          ],
          "name": "stdout"
        }
      ]
    },
    {
      "cell_type": "code",
      "metadata": {
        "id": "WplHacBXHdcE",
        "colab_type": "code",
        "colab": {
          "base_uri": "https://localhost:8080/",
          "height": 629
        },
        "outputId": "2c85fb51-15b5-4671-d40b-d270206f2bb0"
      },
      "source": [
        "# Function to calculate crosstab and find if credidt approval is independant of \n",
        "# a particular feature. \n",
        "cat_feature = ['A1','A4','A5','A6','A7','A9','A10','A12','A13']\n",
        "\n",
        "for i in cat_feature:\n",
        "  crosstab = pd.crosstab(df['A16'], df[i])\n",
        "  chi_squared, pvalue, _, _ = st.chi2_contingency(crosstab)\n",
        "  print (f\"P-Value of {i} is {pvalue}.\")\n",
        "  print (f\"Statistic of {i} is {chi_squared}.\")\n",
        "  if pvalue <0.05:\n",
        "    print(f\"We can say credit approval and {i} are not independant\\n\")\n",
        "  else:\n",
        "    print(f\"We cannot say credit approval and {i} are not independant\\n\")\n",
        "    "
      ],
      "execution_count": 50,
      "outputs": [
        {
          "output_type": "stream",
          "text": [
            "P-Value of A1 is 0.5768937883001117.\n",
            "Statistic of A1 is 0.31128326491619945.\n",
            "We cannot say credit approval and A1 are not independant\n",
            "\n",
            "P-Value of A4 is 2.010680204180363e-06.\n",
            "Statistic of A4 is 26.234074966202144.\n",
            "We can say credit approval and A4 are not independant\n",
            "\n",
            "P-Value of A5 is 2.010680204180363e-06.\n",
            "Statistic of A5 is 26.234074966202144.\n",
            "We can say credit approval and A5 are not independant\n",
            "\n",
            "P-Value of A6 is 3.4999300402715717e-15.\n",
            "Statistic of A6 is 98.32520342679135.\n",
            "We can say credit approval and A6 are not independant\n",
            "\n",
            "P-Value of A7 is 3.625452872372267e-07.\n",
            "Statistic of A7 is 45.034207140240554.\n",
            "We can say credit approval and A7 are not independant\n",
            "\n",
            "P-Value of A9 is 3.1185900878457007e-79.\n",
            "Statistic of A9 is 355.2038167412799.\n",
            "We can say credit approval and A9 are not independant\n",
            "\n",
            "P-Value of A10 is 5.675727374527571e-33.\n",
            "Statistic of A10 is 143.06956205083145.\n",
            "We can say credit approval and A10 are not independant\n",
            "\n",
            "P-Value of A12 is 0.45094587758631943.\n",
            "Statistic of A12 is 0.568273300792113.\n",
            "We cannot say credit approval and A12 are not independant\n",
            "\n",
            "P-Value of A13 is 0.010094291370456362.\n",
            "Statistic of A13 is 9.191570451545383.\n",
            "We can say credit approval and A13 are not independant\n",
            "\n"
          ],
          "name": "stdout"
        }
      ]
    },
    {
      "cell_type": "markdown",
      "metadata": {
        "id": "ZM8JckA2bgnp",
        "colab_type": "text"
      },
      "source": [
        "## Part 3 - Analysis and Interpretation\n",
        "\n",
        "Now that you've looked at the data, answer the following questions:\n",
        "\n",
        "- Interpret and explain the two t-tests you ran - what do they tell you about the relationships between the continuous features you selected and the class labels?\n",
        "- Interpret and explain the two Chi-squared tests you ran - what do they tell you about the relationships between the categorical features you selected and the class labels?\n",
        "- What was the most challenging part of this sprint challenge?\n",
        "\n",
        "Answer with text, but feel free to intersperse example code/results or refer to it from earlier."
      ]
    },
    {
      "cell_type": "markdown",
      "metadata": {
        "id": "LIozLDNG2Uhu",
        "colab_type": "text"
      },
      "source": [
        "*Your words here!*"
      ]
    },
    {
      "cell_type": "markdown",
      "metadata": {
        "id": "oGZLWkoqOFWT",
        "colab_type": "text"
      },
      "source": [
        "1. A11 has lowest p-Value(7.957718568079967e-29), which shows means of A11 in approved and rejected cases vary a lot. So this can be one good indicator to predict approval or rejection. \n",
        "\n",
        "    A14 has the higest p-Value amongst all features (0.008586135473979569). This still suggests means of A14 in approved and rejected cases are different, but to a lesser extent. So we can say A14 is not a great feature to look at for chances of approval when compared to other features"
      ]
    },
    {
      "cell_type": "markdown",
      "metadata": {
        "id": "THMr0Om0P8Il",
        "colab_type": "text"
      },
      "source": [
        "2. A9 has very low p-value (3.1185900878457007e-79). This suggests that credit approval and A9\n",
        "are not independant ie, this feature is very differnt for approval cases and rejection cases. \n",
        "\n",
        "    A12 has highest p-values among all features. This suggests this feature is pretty similar for both approved and rejected cases. Hence we can say credit approval and A12 are independant"
      ]
    },
    {
      "cell_type": "markdown",
      "metadata": {
        "id": "GzsjPLYHUN5p",
        "colab_type": "text"
      },
      "source": [
        "3. Most tough part for me was understanding what is the null hypothesis in each case, ie how to interpret results. "
      ]
    }
  ]
}