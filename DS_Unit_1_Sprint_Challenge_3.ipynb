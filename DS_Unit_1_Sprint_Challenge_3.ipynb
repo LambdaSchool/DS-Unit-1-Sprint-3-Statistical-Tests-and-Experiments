{
 "cells": [
  {
   "cell_type": "markdown",
   "metadata": {
    "colab_type": "text",
    "id": "NooAiTdnafkz"
   },
   "source": [
    "# Data Science Unit 1 Sprint Challenge 4\n",
    "\n",
    "## Exploring Data, Testing Hypotheses\n",
    "\n",
    "In this sprint challenge you will look at a dataset of people being approved or rejected for credit.\n",
    "\n",
    "https://archive.ics.uci.edu/ml/datasets/Credit+Approval\n",
    "\n",
    "Data Set Information: This file concerns credit card applications. All attribute names and values have been changed to meaningless symbols to protect confidentiality of the data. This dataset is interesting because there is a good mix of attributes -- continuous, nominal with small numbers of values, and nominal with larger numbers of values. There are also a few missing values.\n",
    "\n",
    "Attribute Information:\n",
    "- A1: b, a.\n",
    "- A2: continuous.\n",
    "- A3: continuous.\n",
    "- A4: u, y, l, t.\n",
    "- A5: g, p, gg.\n",
    "- A6: c, d, cc, i, j, k, m, r, q, w, x, e, aa, ff.\n",
    "- A7: v, h, bb, j, n, z, dd, ff, o.\n",
    "- A8: continuous.\n",
    "- A9: t, f.\n",
    "- A10: t, f.\n",
    "- A11: continuous.\n",
    "- A12: t, f.\n",
    "- A13: g, p, s.\n",
    "- A14: continuous.\n",
    "- A15: continuous.\n",
    "- A16: +,- (class attribute)\n",
    "\n",
    "Yes, most of that doesn't mean anything. A16 (the class attribute) is the most interesting, as it separates the 307 approved cases from the 383 rejected cases. The remaining variables have been obfuscated for privacy - a challenge you may have to deal with in your data science career.\n",
    "\n",
    "Sprint challenges are evaluated based on satisfactory completion of each part. It is suggested you work through it in order, getting each aspect reasonably working, before trying to deeply explore, iterate, or refine any given step. Once you get to the end, if you want to go back and improve things, go for it!"
   ]
  },
  {
   "cell_type": "markdown",
   "metadata": {
    "colab_type": "text",
    "id": "5wch6ksCbJtZ"
   },
   "source": [
    "## Part 1 - Load and validate the data\n",
    "\n",
    "- Load the data as a `pandas` data frame.\n",
    "- Validate that it has the appropriate number of observations (you can check the raw file, and also read the dataset description from UCI).\n",
    "- UCI says there should be missing data - check, and if necessary change the data so pandas recognizes it as na\n",
    "- Make sure that the loaded features are of the types described above (continuous values should be treated as float), and correct as necessary\n",
    "\n",
    "This is review, but skills that you'll use at the start of any data exploration. Further, you may have to do some investigation to figure out which file to load from - that is part of the puzzle."
   ]
  },
  {
   "cell_type": "code",
   "execution_count": 96,
   "metadata": {},
   "outputs": [],
   "source": [
    "#import libs\n",
    "import pandas as pd\n",
    "import numpy as np\n",
    "import scipy.stats as st\n",
    "import seaborn as sns\n",
    "import matplotlib.pyplot as plt"
   ]
  },
  {
   "cell_type": "code",
   "execution_count": 14,
   "metadata": {
    "colab": {},
    "colab_type": "code",
    "id": "Q79xDLckzibS"
   },
   "outputs": [
    {
     "data": {
      "text/html": [
       "<div>\n",
       "<style scoped>\n",
       "    .dataframe tbody tr th:only-of-type {\n",
       "        vertical-align: middle;\n",
       "    }\n",
       "\n",
       "    .dataframe tbody tr th {\n",
       "        vertical-align: top;\n",
       "    }\n",
       "\n",
       "    .dataframe thead th {\n",
       "        text-align: right;\n",
       "    }\n",
       "</style>\n",
       "<table border=\"1\" class=\"dataframe\">\n",
       "  <thead>\n",
       "    <tr style=\"text-align: right;\">\n",
       "      <th></th>\n",
       "      <th>A1</th>\n",
       "      <th>A2</th>\n",
       "      <th>A3</th>\n",
       "      <th>A4</th>\n",
       "      <th>A5</th>\n",
       "      <th>A6</th>\n",
       "      <th>A7</th>\n",
       "      <th>A8</th>\n",
       "      <th>A9</th>\n",
       "      <th>A10</th>\n",
       "      <th>A11</th>\n",
       "      <th>A12</th>\n",
       "      <th>A13</th>\n",
       "      <th>A14</th>\n",
       "      <th>A15</th>\n",
       "      <th>A16</th>\n",
       "    </tr>\n",
       "  </thead>\n",
       "  <tbody>\n",
       "    <tr>\n",
       "      <th>0</th>\n",
       "      <td>b</td>\n",
       "      <td>30.83</td>\n",
       "      <td>0.000</td>\n",
       "      <td>u</td>\n",
       "      <td>g</td>\n",
       "      <td>w</td>\n",
       "      <td>v</td>\n",
       "      <td>1.25</td>\n",
       "      <td>t</td>\n",
       "      <td>t</td>\n",
       "      <td>1</td>\n",
       "      <td>f</td>\n",
       "      <td>g</td>\n",
       "      <td>202.0</td>\n",
       "      <td>0</td>\n",
       "      <td>+</td>\n",
       "    </tr>\n",
       "    <tr>\n",
       "      <th>1</th>\n",
       "      <td>a</td>\n",
       "      <td>58.67</td>\n",
       "      <td>4.460</td>\n",
       "      <td>u</td>\n",
       "      <td>g</td>\n",
       "      <td>q</td>\n",
       "      <td>h</td>\n",
       "      <td>3.04</td>\n",
       "      <td>t</td>\n",
       "      <td>t</td>\n",
       "      <td>6</td>\n",
       "      <td>f</td>\n",
       "      <td>g</td>\n",
       "      <td>43.0</td>\n",
       "      <td>560</td>\n",
       "      <td>+</td>\n",
       "    </tr>\n",
       "    <tr>\n",
       "      <th>2</th>\n",
       "      <td>a</td>\n",
       "      <td>24.50</td>\n",
       "      <td>0.500</td>\n",
       "      <td>u</td>\n",
       "      <td>g</td>\n",
       "      <td>q</td>\n",
       "      <td>h</td>\n",
       "      <td>1.50</td>\n",
       "      <td>t</td>\n",
       "      <td>f</td>\n",
       "      <td>0</td>\n",
       "      <td>f</td>\n",
       "      <td>g</td>\n",
       "      <td>280.0</td>\n",
       "      <td>824</td>\n",
       "      <td>+</td>\n",
       "    </tr>\n",
       "    <tr>\n",
       "      <th>3</th>\n",
       "      <td>b</td>\n",
       "      <td>27.83</td>\n",
       "      <td>1.540</td>\n",
       "      <td>u</td>\n",
       "      <td>g</td>\n",
       "      <td>w</td>\n",
       "      <td>v</td>\n",
       "      <td>3.75</td>\n",
       "      <td>t</td>\n",
       "      <td>t</td>\n",
       "      <td>5</td>\n",
       "      <td>t</td>\n",
       "      <td>g</td>\n",
       "      <td>100.0</td>\n",
       "      <td>3</td>\n",
       "      <td>+</td>\n",
       "    </tr>\n",
       "    <tr>\n",
       "      <th>4</th>\n",
       "      <td>b</td>\n",
       "      <td>20.17</td>\n",
       "      <td>5.625</td>\n",
       "      <td>u</td>\n",
       "      <td>g</td>\n",
       "      <td>w</td>\n",
       "      <td>v</td>\n",
       "      <td>1.71</td>\n",
       "      <td>t</td>\n",
       "      <td>f</td>\n",
       "      <td>0</td>\n",
       "      <td>f</td>\n",
       "      <td>s</td>\n",
       "      <td>120.0</td>\n",
       "      <td>0</td>\n",
       "      <td>+</td>\n",
       "    </tr>\n",
       "  </tbody>\n",
       "</table>\n",
       "</div>"
      ],
      "text/plain": [
       "  A1     A2     A3 A4 A5 A6 A7    A8 A9 A10  A11 A12 A13    A14  A15 A16\n",
       "0  b  30.83  0.000  u  g  w  v  1.25  t   t    1   f   g  202.0    0   +\n",
       "1  a  58.67  4.460  u  g  q  h  3.04  t   t    6   f   g   43.0  560   +\n",
       "2  a  24.50  0.500  u  g  q  h  1.50  t   f    0   f   g  280.0  824   +\n",
       "3  b  27.83  1.540  u  g  w  v  3.75  t   t    5   t   g  100.0    3   +\n",
       "4  b  20.17  5.625  u  g  w  v  1.71  t   f    0   f   s  120.0    0   +"
      ]
     },
     "execution_count": 14,
     "metadata": {},
     "output_type": "execute_result"
    }
   ],
   "source": [
    "# Load Data, replace ? to NaN, rename the features to the above instruction names \n",
    "feature_labels = ['A1','A2','A3','A4','A5','A6','A7','A8','A9','A10','A11','A12','A13','A14','A15','A16']\n",
    "credit_approval = pd.read_csv('crx.data',header=None,na_values='?',names=feature_labels)\n",
    "credit_approval.head()"
   ]
  },
  {
   "cell_type": "code",
   "execution_count": 16,
   "metadata": {},
   "outputs": [
    {
     "data": {
      "text/plain": [
       "(690, 16)"
      ]
     },
     "execution_count": 16,
     "metadata": {},
     "output_type": "execute_result"
    }
   ],
   "source": [
    "# Shape matches \n",
    "credit_approval.shape"
   ]
  },
  {
   "cell_type": "code",
   "execution_count": 17,
   "metadata": {},
   "outputs": [
    {
     "data": {
      "text/plain": [
       "A1     12\n",
       "A2     12\n",
       "A3      0\n",
       "A4      6\n",
       "A5      6\n",
       "A6      9\n",
       "A7      9\n",
       "A8      0\n",
       "A9      0\n",
       "A10     0\n",
       "A11     0\n",
       "A12     0\n",
       "A13     0\n",
       "A14    13\n",
       "A15     0\n",
       "A16     0\n",
       "dtype: int64"
      ]
     },
     "execution_count": 17,
     "metadata": {},
     "output_type": "execute_result"
    }
   ],
   "source": [
    "#Sum the NaNs across features\n",
    "credit_approval.isna().sum()"
   ]
  },
  {
   "cell_type": "code",
   "execution_count": 32,
   "metadata": {},
   "outputs": [
    {
     "name": "stdout",
     "output_type": "stream",
     "text": [
      "A1      object\n",
      "A2     float64\n",
      "A3     float64\n",
      "A4      object\n",
      "A5      object\n",
      "A6      object\n",
      "A7      object\n",
      "A8     float64\n",
      "A9      object\n",
      "A10     object\n",
      "A11    float64\n",
      "A12     object\n",
      "A13     object\n",
      "A14    float64\n",
      "A15    float64\n",
      "A16     object\n",
      "dtype: object\n"
     ]
    }
   ],
   "source": [
    "#Cast types to match the instructions \n",
    "print(credit_approval.dtypes)\n",
    "credit_approval['A11'] = credit_approval['A11'].astype(float)\n",
    "credit_approval['A15'] = credit_approval['A11'].astype(float)"
   ]
  },
  {
   "cell_type": "code",
   "execution_count": 33,
   "metadata": {},
   "outputs": [
    {
     "data": {
      "text/plain": [
       "A1      object\n",
       "A2     float64\n",
       "A3     float64\n",
       "A4      object\n",
       "A5      object\n",
       "A6      object\n",
       "A7      object\n",
       "A8     float64\n",
       "A9      object\n",
       "A10     object\n",
       "A11    float64\n",
       "A12     object\n",
       "A13     object\n",
       "A14    float64\n",
       "A15    float64\n",
       "A16     object\n",
       "dtype: object"
      ]
     },
     "execution_count": 33,
     "metadata": {},
     "output_type": "execute_result"
    }
   ],
   "source": [
    "#Check the types were cast correctly \n",
    "credit_approval.dtypes"
   ]
  },
  {
   "cell_type": "markdown",
   "metadata": {
    "colab_type": "text",
    "id": "G7rLytbrO38L"
   },
   "source": [
    "## Part 2 - Exploring data, Testing hypotheses\n",
    "\n",
    "The only thing we really know about this data is that A16 is the class label. Besides that, we have 6 continuous (float) features and 9 categorical features.\n",
    "\n",
    "Explore the data: you can use whatever approach (tables, utility functions, visualizations) to get an impression of the distributions and relationships of the variables. In general, your goal is to understand how the features are different when grouped by the two class labels (`+` and `-`).\n",
    "\n",
    "For the 6 continuous features, how are they different when split between the two class labels? Choose two features to run t-tests (again split by class label) - specifically, select one feature that is *extremely* different between the classes, and another feature that is notably less different (though perhaps still \"statistically significantly\" different). You may have to explore more than two features to do this.\n",
    "\n",
    "For the categorical features, explore by creating \"cross tabs\" (aka [contingency tables](https://en.wikipedia.org/wiki/Contingency_table)) between them and the class label, and apply the Chi-squared test to them. [pandas.crosstab](http://pandas.pydata.org/pandas-docs/stable/reference/api/pandas.crosstab.html) can create contingency tables, and [scipy.stats.chi2_contingency](https://docs.scipy.org/doc/scipy/reference/generated/scipy.stats.chi2_contingency.html) can calculate the Chi-squared statistic for them.\n",
    "\n",
    "There are 9 categorical features - as with the t-test, try to find one where the Chi-squared test returns an extreme result (rejecting the null that the data are independent), and one where it is less extreme.\n",
    "\n",
    "**NOTE** - \"less extreme\" just means smaller test statistic/larger p-value. Even the least extreme differences may be strongly statistically significant.\n",
    "\n",
    "Your *main* goal is the hypothesis tests, so don't spend too much time on the exploration/visualization piece. That is just a means to an end - use simple visualizations, such as boxplots or a scatter matrix (both built in to pandas), to get a feel for the overall distribution of the variables.\n",
    "\n",
    "This is challenging, so manage your time and aim for a baseline of at least running two t-tests and two Chi-squared tests before polishing. And don't forget to answer the questions in part 3, even if your results in this part aren't what you want them to be."
   ]
  },
  {
   "cell_type": "code",
   "execution_count": 34,
   "metadata": {
    "colab": {},
    "colab_type": "code",
    "id": "_nqcgc0yzm68"
   },
   "outputs": [],
   "source": [
    "# Replace A16 to 0 for rejected and 1 for approved \n",
    "credit_approval['A16'] = credit_approval['A16'].replace({'-': 0, '+': 1})"
   ]
  },
  {
   "cell_type": "code",
   "execution_count": 35,
   "metadata": {},
   "outputs": [
    {
     "data": {
      "text/plain": [
       "array([1, 0])"
      ]
     },
     "execution_count": 35,
     "metadata": {},
     "output_type": "execute_result"
    }
   ],
   "source": [
    "credit_approval['A16'].unique()"
   ]
  },
  {
   "cell_type": "code",
   "execution_count": 45,
   "metadata": {},
   "outputs": [
    {
     "name": "stdout",
     "output_type": "stream",
     "text": [
      "  A1     A2     A3 A4 A5 A6 A7    A8 A9 A10  A11 A12 A13    A14  A15  A16\n",
      "0  b  30.83  0.000  u  g  w  v  1.25  t   t  1.0   f   g  202.0  1.0    1\n",
      "1  a  58.67  4.460  u  g  q  h  3.04  t   t  6.0   f   g   43.0  6.0    1\n",
      "2  a  24.50  0.500  u  g  q  h  1.50  t   f  0.0   f   g  280.0  0.0    1\n",
      "3  b  27.83  1.540  u  g  w  v  3.75  t   t  5.0   t   g  100.0  5.0    1\n",
      "4  b  20.17  5.625  u  g  w  v  1.71  t   f  0.0   f   s  120.0  0.0    1\n"
     ]
    }
   ],
   "source": [
    "#Create separate dataframes for approved and rejected\n",
    "approved = credit_approval.loc[credit_approval['A16']==1]\n",
    "print(approved.head())"
   ]
  },
  {
   "cell_type": "code",
   "execution_count": 47,
   "metadata": {},
   "outputs": [
    {
     "data": {
      "text/html": [
       "<div>\n",
       "<style scoped>\n",
       "    .dataframe tbody tr th:only-of-type {\n",
       "        vertical-align: middle;\n",
       "    }\n",
       "\n",
       "    .dataframe tbody tr th {\n",
       "        vertical-align: top;\n",
       "    }\n",
       "\n",
       "    .dataframe thead th {\n",
       "        text-align: right;\n",
       "    }\n",
       "</style>\n",
       "<table border=\"1\" class=\"dataframe\">\n",
       "  <thead>\n",
       "    <tr style=\"text-align: right;\">\n",
       "      <th></th>\n",
       "      <th>A1</th>\n",
       "      <th>A2</th>\n",
       "      <th>A3</th>\n",
       "      <th>A4</th>\n",
       "      <th>A5</th>\n",
       "      <th>A6</th>\n",
       "      <th>A7</th>\n",
       "      <th>A8</th>\n",
       "      <th>A9</th>\n",
       "      <th>A10</th>\n",
       "      <th>A11</th>\n",
       "      <th>A12</th>\n",
       "      <th>A13</th>\n",
       "      <th>A14</th>\n",
       "      <th>A15</th>\n",
       "      <th>A16</th>\n",
       "    </tr>\n",
       "  </thead>\n",
       "  <tbody>\n",
       "    <tr>\n",
       "      <th>70</th>\n",
       "      <td>b</td>\n",
       "      <td>32.33</td>\n",
       "      <td>7.5</td>\n",
       "      <td>u</td>\n",
       "      <td>g</td>\n",
       "      <td>e</td>\n",
       "      <td>bb</td>\n",
       "      <td>1.585</td>\n",
       "      <td>t</td>\n",
       "      <td>f</td>\n",
       "      <td>0.0</td>\n",
       "      <td>t</td>\n",
       "      <td>s</td>\n",
       "      <td>420.0</td>\n",
       "      <td>0.0</td>\n",
       "      <td>0</td>\n",
       "    </tr>\n",
       "    <tr>\n",
       "      <th>71</th>\n",
       "      <td>b</td>\n",
       "      <td>34.83</td>\n",
       "      <td>4.0</td>\n",
       "      <td>u</td>\n",
       "      <td>g</td>\n",
       "      <td>d</td>\n",
       "      <td>bb</td>\n",
       "      <td>12.500</td>\n",
       "      <td>t</td>\n",
       "      <td>f</td>\n",
       "      <td>0.0</td>\n",
       "      <td>t</td>\n",
       "      <td>g</td>\n",
       "      <td>NaN</td>\n",
       "      <td>0.0</td>\n",
       "      <td>0</td>\n",
       "    </tr>\n",
       "    <tr>\n",
       "      <th>72</th>\n",
       "      <td>a</td>\n",
       "      <td>38.58</td>\n",
       "      <td>5.0</td>\n",
       "      <td>u</td>\n",
       "      <td>g</td>\n",
       "      <td>cc</td>\n",
       "      <td>v</td>\n",
       "      <td>13.500</td>\n",
       "      <td>t</td>\n",
       "      <td>f</td>\n",
       "      <td>0.0</td>\n",
       "      <td>t</td>\n",
       "      <td>g</td>\n",
       "      <td>980.0</td>\n",
       "      <td>0.0</td>\n",
       "      <td>0</td>\n",
       "    </tr>\n",
       "    <tr>\n",
       "      <th>73</th>\n",
       "      <td>b</td>\n",
       "      <td>44.25</td>\n",
       "      <td>0.5</td>\n",
       "      <td>u</td>\n",
       "      <td>g</td>\n",
       "      <td>m</td>\n",
       "      <td>v</td>\n",
       "      <td>10.750</td>\n",
       "      <td>t</td>\n",
       "      <td>f</td>\n",
       "      <td>0.0</td>\n",
       "      <td>f</td>\n",
       "      <td>s</td>\n",
       "      <td>400.0</td>\n",
       "      <td>0.0</td>\n",
       "      <td>0</td>\n",
       "    </tr>\n",
       "    <tr>\n",
       "      <th>74</th>\n",
       "      <td>b</td>\n",
       "      <td>44.83</td>\n",
       "      <td>7.0</td>\n",
       "      <td>y</td>\n",
       "      <td>p</td>\n",
       "      <td>c</td>\n",
       "      <td>v</td>\n",
       "      <td>1.625</td>\n",
       "      <td>f</td>\n",
       "      <td>f</td>\n",
       "      <td>0.0</td>\n",
       "      <td>f</td>\n",
       "      <td>g</td>\n",
       "      <td>160.0</td>\n",
       "      <td>0.0</td>\n",
       "      <td>0</td>\n",
       "    </tr>\n",
       "  </tbody>\n",
       "</table>\n",
       "</div>"
      ],
      "text/plain": [
       "   A1     A2   A3 A4 A5  A6  A7      A8 A9 A10  A11 A12 A13    A14  A15  A16\n",
       "70  b  32.33  7.5  u  g   e  bb   1.585  t   f  0.0   t   s  420.0  0.0    0\n",
       "71  b  34.83  4.0  u  g   d  bb  12.500  t   f  0.0   t   g    NaN  0.0    0\n",
       "72  a  38.58  5.0  u  g  cc   v  13.500  t   f  0.0   t   g  980.0  0.0    0\n",
       "73  b  44.25  0.5  u  g   m   v  10.750  t   f  0.0   f   s  400.0  0.0    0\n",
       "74  b  44.83  7.0  y  p   c   v   1.625  f   f  0.0   f   g  160.0  0.0    0"
      ]
     },
     "execution_count": 47,
     "metadata": {},
     "output_type": "execute_result"
    }
   ],
   "source": [
    "rejected = credit_approval.loc[credit_approval['A16']==0]\n",
    "rejected.head()"
   ]
  },
  {
   "cell_type": "code",
   "execution_count": 53,
   "metadata": {},
   "outputs": [
    {
     "name": "stdout",
     "output_type": "stream",
     "text": [
      "         A1   A4   A5   A6   A7   A9  A10  A12  A13\n",
      "count   678  684  684  681  681  690  690  690  690\n",
      "unique    2    3    3   14    9    2    2    2    3\n",
      "top       b    u    g    c    v    t    f    f    g\n",
      "freq    468  519  519  137  399  361  395  374  625\n"
     ]
    },
    {
     "data": {
      "text/html": [
       "<div>\n",
       "<style scoped>\n",
       "    .dataframe tbody tr th:only-of-type {\n",
       "        vertical-align: middle;\n",
       "    }\n",
       "\n",
       "    .dataframe tbody tr th {\n",
       "        vertical-align: top;\n",
       "    }\n",
       "\n",
       "    .dataframe thead th {\n",
       "        text-align: right;\n",
       "    }\n",
       "</style>\n",
       "<table border=\"1\" class=\"dataframe\">\n",
       "  <thead>\n",
       "    <tr style=\"text-align: right;\">\n",
       "      <th></th>\n",
       "      <th>A2</th>\n",
       "      <th>A3</th>\n",
       "      <th>A8</th>\n",
       "      <th>A11</th>\n",
       "      <th>A14</th>\n",
       "      <th>A15</th>\n",
       "      <th>A16</th>\n",
       "    </tr>\n",
       "  </thead>\n",
       "  <tbody>\n",
       "    <tr>\n",
       "      <th>count</th>\n",
       "      <td>678.000000</td>\n",
       "      <td>690.000000</td>\n",
       "      <td>690.000000</td>\n",
       "      <td>690.00000</td>\n",
       "      <td>677.000000</td>\n",
       "      <td>690.00000</td>\n",
       "      <td>690.000000</td>\n",
       "    </tr>\n",
       "    <tr>\n",
       "      <th>mean</th>\n",
       "      <td>31.568171</td>\n",
       "      <td>4.758725</td>\n",
       "      <td>2.223406</td>\n",
       "      <td>2.40000</td>\n",
       "      <td>184.014771</td>\n",
       "      <td>2.40000</td>\n",
       "      <td>0.444928</td>\n",
       "    </tr>\n",
       "    <tr>\n",
       "      <th>std</th>\n",
       "      <td>11.957862</td>\n",
       "      <td>4.978163</td>\n",
       "      <td>3.346513</td>\n",
       "      <td>4.86294</td>\n",
       "      <td>173.806768</td>\n",
       "      <td>4.86294</td>\n",
       "      <td>0.497318</td>\n",
       "    </tr>\n",
       "    <tr>\n",
       "      <th>min</th>\n",
       "      <td>13.750000</td>\n",
       "      <td>0.000000</td>\n",
       "      <td>0.000000</td>\n",
       "      <td>0.00000</td>\n",
       "      <td>0.000000</td>\n",
       "      <td>0.00000</td>\n",
       "      <td>0.000000</td>\n",
       "    </tr>\n",
       "    <tr>\n",
       "      <th>25%</th>\n",
       "      <td>22.602500</td>\n",
       "      <td>1.000000</td>\n",
       "      <td>0.165000</td>\n",
       "      <td>0.00000</td>\n",
       "      <td>75.000000</td>\n",
       "      <td>0.00000</td>\n",
       "      <td>0.000000</td>\n",
       "    </tr>\n",
       "    <tr>\n",
       "      <th>50%</th>\n",
       "      <td>28.460000</td>\n",
       "      <td>2.750000</td>\n",
       "      <td>1.000000</td>\n",
       "      <td>0.00000</td>\n",
       "      <td>160.000000</td>\n",
       "      <td>0.00000</td>\n",
       "      <td>0.000000</td>\n",
       "    </tr>\n",
       "    <tr>\n",
       "      <th>75%</th>\n",
       "      <td>38.230000</td>\n",
       "      <td>7.207500</td>\n",
       "      <td>2.625000</td>\n",
       "      <td>3.00000</td>\n",
       "      <td>276.000000</td>\n",
       "      <td>3.00000</td>\n",
       "      <td>1.000000</td>\n",
       "    </tr>\n",
       "    <tr>\n",
       "      <th>max</th>\n",
       "      <td>80.250000</td>\n",
       "      <td>28.000000</td>\n",
       "      <td>28.500000</td>\n",
       "      <td>67.00000</td>\n",
       "      <td>2000.000000</td>\n",
       "      <td>67.00000</td>\n",
       "      <td>1.000000</td>\n",
       "    </tr>\n",
       "  </tbody>\n",
       "</table>\n",
       "</div>"
      ],
      "text/plain": [
       "               A2          A3          A8        A11          A14        A15  \\\n",
       "count  678.000000  690.000000  690.000000  690.00000   677.000000  690.00000   \n",
       "mean    31.568171    4.758725    2.223406    2.40000   184.014771    2.40000   \n",
       "std     11.957862    4.978163    3.346513    4.86294   173.806768    4.86294   \n",
       "min     13.750000    0.000000    0.000000    0.00000     0.000000    0.00000   \n",
       "25%     22.602500    1.000000    0.165000    0.00000    75.000000    0.00000   \n",
       "50%     28.460000    2.750000    1.000000    0.00000   160.000000    0.00000   \n",
       "75%     38.230000    7.207500    2.625000    3.00000   276.000000    3.00000   \n",
       "max     80.250000   28.000000   28.500000   67.00000  2000.000000   67.00000   \n",
       "\n",
       "              A16  \n",
       "count  690.000000  \n",
       "mean     0.444928  \n",
       "std      0.497318  \n",
       "min      0.000000  \n",
       "25%      0.000000  \n",
       "50%      0.000000  \n",
       "75%      1.000000  \n",
       "max      1.000000  "
      ]
     },
     "execution_count": 53,
     "metadata": {},
     "output_type": "execute_result"
    }
   ],
   "source": [
    "print(credit_approval.describe(exclude=np.number))\n",
    "credit_approval.describe(exclude=np.object)"
   ]
  },
  {
   "cell_type": "code",
   "execution_count": 48,
   "metadata": {},
   "outputs": [
    {
     "name": "stdout",
     "output_type": "stream",
     "text": [
      "(307, 16)\n"
     ]
    },
    {
     "data": {
      "text/plain": [
       "(383, 16)"
      ]
     },
     "execution_count": 48,
     "metadata": {},
     "output_type": "execute_result"
    }
   ],
   "source": [
    "print(approved.shape)\n",
    "rejected.shape"
   ]
  },
  {
   "cell_type": "code",
   "execution_count": 51,
   "metadata": {},
   "outputs": [
    {
     "name": "stdout",
     "output_type": "stream",
     "text": [
      "         A1   A4   A5   A6   A7   A9  A10  A12  A13\n",
      "count   304  303  303  303  303  307  307  307  307\n",
      "unique    2    3    3   14    9    2    2    2    3\n",
      "top       b    u    g    c    v    t    t    f    g\n",
      "freq    206  256  256   62  169  284  209  161  287\n"
     ]
    },
    {
     "data": {
      "text/html": [
       "<div>\n",
       "<style scoped>\n",
       "    .dataframe tbody tr th:only-of-type {\n",
       "        vertical-align: middle;\n",
       "    }\n",
       "\n",
       "    .dataframe tbody tr th {\n",
       "        vertical-align: top;\n",
       "    }\n",
       "\n",
       "    .dataframe thead th {\n",
       "        text-align: right;\n",
       "    }\n",
       "</style>\n",
       "<table border=\"1\" class=\"dataframe\">\n",
       "  <thead>\n",
       "    <tr style=\"text-align: right;\">\n",
       "      <th></th>\n",
       "      <th>A2</th>\n",
       "      <th>A3</th>\n",
       "      <th>A8</th>\n",
       "      <th>A11</th>\n",
       "      <th>A14</th>\n",
       "      <th>A15</th>\n",
       "      <th>A16</th>\n",
       "    </tr>\n",
       "  </thead>\n",
       "  <tbody>\n",
       "    <tr>\n",
       "      <th>count</th>\n",
       "      <td>305.000000</td>\n",
       "      <td>307.000000</td>\n",
       "      <td>307.000000</td>\n",
       "      <td>307.000000</td>\n",
       "      <td>301.000000</td>\n",
       "      <td>307.000000</td>\n",
       "      <td>307.0</td>\n",
       "    </tr>\n",
       "    <tr>\n",
       "      <th>mean</th>\n",
       "      <td>33.720492</td>\n",
       "      <td>5.904951</td>\n",
       "      <td>3.427899</td>\n",
       "      <td>4.605863</td>\n",
       "      <td>164.421927</td>\n",
       "      <td>4.605863</td>\n",
       "      <td>1.0</td>\n",
       "    </tr>\n",
       "    <tr>\n",
       "      <th>std</th>\n",
       "      <td>12.809641</td>\n",
       "      <td>5.471485</td>\n",
       "      <td>4.120792</td>\n",
       "      <td>6.320242</td>\n",
       "      <td>161.770675</td>\n",
       "      <td>6.320242</td>\n",
       "      <td>0.0</td>\n",
       "    </tr>\n",
       "    <tr>\n",
       "      <th>min</th>\n",
       "      <td>13.750000</td>\n",
       "      <td>0.000000</td>\n",
       "      <td>0.000000</td>\n",
       "      <td>0.000000</td>\n",
       "      <td>0.000000</td>\n",
       "      <td>0.000000</td>\n",
       "      <td>1.0</td>\n",
       "    </tr>\n",
       "    <tr>\n",
       "      <th>25%</th>\n",
       "      <td>23.170000</td>\n",
       "      <td>1.500000</td>\n",
       "      <td>0.750000</td>\n",
       "      <td>0.000000</td>\n",
       "      <td>0.000000</td>\n",
       "      <td>0.000000</td>\n",
       "      <td>1.0</td>\n",
       "    </tr>\n",
       "    <tr>\n",
       "      <th>50%</th>\n",
       "      <td>30.500000</td>\n",
       "      <td>4.460000</td>\n",
       "      <td>2.000000</td>\n",
       "      <td>3.000000</td>\n",
       "      <td>120.000000</td>\n",
       "      <td>3.000000</td>\n",
       "      <td>1.0</td>\n",
       "    </tr>\n",
       "    <tr>\n",
       "      <th>75%</th>\n",
       "      <td>41.330000</td>\n",
       "      <td>9.520000</td>\n",
       "      <td>5.000000</td>\n",
       "      <td>7.000000</td>\n",
       "      <td>280.000000</td>\n",
       "      <td>7.000000</td>\n",
       "      <td>1.0</td>\n",
       "    </tr>\n",
       "    <tr>\n",
       "      <th>max</th>\n",
       "      <td>76.750000</td>\n",
       "      <td>28.000000</td>\n",
       "      <td>28.500000</td>\n",
       "      <td>67.000000</td>\n",
       "      <td>840.000000</td>\n",
       "      <td>67.000000</td>\n",
       "      <td>1.0</td>\n",
       "    </tr>\n",
       "  </tbody>\n",
       "</table>\n",
       "</div>"
      ],
      "text/plain": [
       "               A2          A3          A8         A11         A14         A15  \\\n",
       "count  305.000000  307.000000  307.000000  307.000000  301.000000  307.000000   \n",
       "mean    33.720492    5.904951    3.427899    4.605863  164.421927    4.605863   \n",
       "std     12.809641    5.471485    4.120792    6.320242  161.770675    6.320242   \n",
       "min     13.750000    0.000000    0.000000    0.000000    0.000000    0.000000   \n",
       "25%     23.170000    1.500000    0.750000    0.000000    0.000000    0.000000   \n",
       "50%     30.500000    4.460000    2.000000    3.000000  120.000000    3.000000   \n",
       "75%     41.330000    9.520000    5.000000    7.000000  280.000000    7.000000   \n",
       "max     76.750000   28.000000   28.500000   67.000000  840.000000   67.000000   \n",
       "\n",
       "         A16  \n",
       "count  307.0  \n",
       "mean     1.0  \n",
       "std      0.0  \n",
       "min      1.0  \n",
       "25%      1.0  \n",
       "50%      1.0  \n",
       "75%      1.0  \n",
       "max      1.0  "
      ]
     },
     "execution_count": 51,
     "metadata": {},
     "output_type": "execute_result"
    }
   ],
   "source": [
    "print(approved.describe(exclude=np.number))\n",
    "approved.describe(exclude=np.object)"
   ]
  },
  {
   "cell_type": "code",
   "execution_count": 52,
   "metadata": {},
   "outputs": [
    {
     "name": "stdout",
     "output_type": "stream",
     "text": [
      "         A1   A4   A5   A6   A7   A9  A10  A12  A13\n",
      "count   374  381  381  378  378  383  383  383  383\n",
      "unique    2    2    2   14    9    2    2    2    3\n",
      "top       b    u    g    c    v    f    f    f    g\n",
      "freq    262  263  263   75  230  306  297  213  338\n"
     ]
    },
    {
     "data": {
      "text/html": [
       "<div>\n",
       "<style scoped>\n",
       "    .dataframe tbody tr th:only-of-type {\n",
       "        vertical-align: middle;\n",
       "    }\n",
       "\n",
       "    .dataframe tbody tr th {\n",
       "        vertical-align: top;\n",
       "    }\n",
       "\n",
       "    .dataframe thead th {\n",
       "        text-align: right;\n",
       "    }\n",
       "</style>\n",
       "<table border=\"1\" class=\"dataframe\">\n",
       "  <thead>\n",
       "    <tr style=\"text-align: right;\">\n",
       "      <th></th>\n",
       "      <th>A2</th>\n",
       "      <th>A3</th>\n",
       "      <th>A8</th>\n",
       "      <th>A11</th>\n",
       "      <th>A14</th>\n",
       "      <th>A15</th>\n",
       "      <th>A16</th>\n",
       "    </tr>\n",
       "  </thead>\n",
       "  <tbody>\n",
       "    <tr>\n",
       "      <th>count</th>\n",
       "      <td>373.000000</td>\n",
       "      <td>383.000000</td>\n",
       "      <td>383.000000</td>\n",
       "      <td>383.000000</td>\n",
       "      <td>376.000000</td>\n",
       "      <td>383.000000</td>\n",
       "      <td>383.0</td>\n",
       "    </tr>\n",
       "    <tr>\n",
       "      <th>mean</th>\n",
       "      <td>29.808231</td>\n",
       "      <td>3.839948</td>\n",
       "      <td>1.257924</td>\n",
       "      <td>0.631854</td>\n",
       "      <td>199.699468</td>\n",
       "      <td>0.631854</td>\n",
       "      <td>0.0</td>\n",
       "    </tr>\n",
       "    <tr>\n",
       "      <th>std</th>\n",
       "      <td>10.919291</td>\n",
       "      <td>4.337662</td>\n",
       "      <td>2.120481</td>\n",
       "      <td>1.900049</td>\n",
       "      <td>181.564835</td>\n",
       "      <td>1.900049</td>\n",
       "      <td>0.0</td>\n",
       "    </tr>\n",
       "    <tr>\n",
       "      <th>min</th>\n",
       "      <td>15.170000</td>\n",
       "      <td>0.000000</td>\n",
       "      <td>0.000000</td>\n",
       "      <td>0.000000</td>\n",
       "      <td>0.000000</td>\n",
       "      <td>0.000000</td>\n",
       "      <td>0.0</td>\n",
       "    </tr>\n",
       "    <tr>\n",
       "      <th>25%</th>\n",
       "      <td>22.000000</td>\n",
       "      <td>0.835000</td>\n",
       "      <td>0.125000</td>\n",
       "      <td>0.000000</td>\n",
       "      <td>100.000000</td>\n",
       "      <td>0.000000</td>\n",
       "      <td>0.0</td>\n",
       "    </tr>\n",
       "    <tr>\n",
       "      <th>50%</th>\n",
       "      <td>27.330000</td>\n",
       "      <td>2.210000</td>\n",
       "      <td>0.415000</td>\n",
       "      <td>0.000000</td>\n",
       "      <td>167.500000</td>\n",
       "      <td>0.000000</td>\n",
       "      <td>0.0</td>\n",
       "    </tr>\n",
       "    <tr>\n",
       "      <th>75%</th>\n",
       "      <td>34.830000</td>\n",
       "      <td>5.000000</td>\n",
       "      <td>1.500000</td>\n",
       "      <td>0.000000</td>\n",
       "      <td>272.000000</td>\n",
       "      <td>0.000000</td>\n",
       "      <td>0.0</td>\n",
       "    </tr>\n",
       "    <tr>\n",
       "      <th>max</th>\n",
       "      <td>80.250000</td>\n",
       "      <td>26.335000</td>\n",
       "      <td>13.875000</td>\n",
       "      <td>20.000000</td>\n",
       "      <td>2000.000000</td>\n",
       "      <td>20.000000</td>\n",
       "      <td>0.0</td>\n",
       "    </tr>\n",
       "  </tbody>\n",
       "</table>\n",
       "</div>"
      ],
      "text/plain": [
       "               A2          A3          A8         A11          A14  \\\n",
       "count  373.000000  383.000000  383.000000  383.000000   376.000000   \n",
       "mean    29.808231    3.839948    1.257924    0.631854   199.699468   \n",
       "std     10.919291    4.337662    2.120481    1.900049   181.564835   \n",
       "min     15.170000    0.000000    0.000000    0.000000     0.000000   \n",
       "25%     22.000000    0.835000    0.125000    0.000000   100.000000   \n",
       "50%     27.330000    2.210000    0.415000    0.000000   167.500000   \n",
       "75%     34.830000    5.000000    1.500000    0.000000   272.000000   \n",
       "max     80.250000   26.335000   13.875000   20.000000  2000.000000   \n",
       "\n",
       "              A15    A16  \n",
       "count  383.000000  383.0  \n",
       "mean     0.631854    0.0  \n",
       "std      1.900049    0.0  \n",
       "min      0.000000    0.0  \n",
       "25%      0.000000    0.0  \n",
       "50%      0.000000    0.0  \n",
       "75%      0.000000    0.0  \n",
       "max     20.000000    0.0  "
      ]
     },
     "execution_count": 52,
     "metadata": {},
     "output_type": "execute_result"
    }
   ],
   "source": [
    "print(rejected.describe(exclude=np.number))\n",
    "rejected.describe(exclude=np.object)"
   ]
  },
  {
   "cell_type": "code",
   "execution_count": 67,
   "metadata": {},
   "outputs": [],
   "source": [
    "# Define a function that takes a feature as an argument and returns a 2 sample ttest (for approved + rejected) result\n",
    "def ttest(feature): \n",
    "    #Omit NaNs when calling .ttest_ind\n",
    "    stat, pvalue = st.ttest_ind(approved[feature], rejected[feature], nan_policy='omit')\n",
    "    ttest_result = {'stat':stat,'pvalue':pvalue}\n",
    "    return ttest_result"
   ]
  },
  {
   "cell_type": "code",
   "execution_count": 94,
   "metadata": {},
   "outputs": [
    {
     "name": "stdout",
     "output_type": "stream",
     "text": [
      "Feature A2\n",
      "T Statistic: 4.2922156166315535\n",
      "pvalue:2.0276637071781407e-05\n",
      "\n",
      "Feature A3\n",
      "T Statistic: 5.52998337614816\n",
      "pvalue:4.551680702308068e-08\n",
      "\n",
      "Feature A8\n",
      "T Statistic: 8.935819983773698\n",
      "pvalue:3.6710537401601785e-18\n",
      "\n",
      "Feature A11\n",
      "T Statistic: 11.667004222431277\n",
      "pvalue:7.957718568079967e-29\n",
      "\n",
      "Feature A14\n",
      "T Statistic: -2.6358251986645476\n",
      "pvalue:0.008586135473979569\n",
      "\n",
      "Feature A15\n",
      "T Statistic: 11.667004222431277\n",
      "pvalue:7.957718568079967e-29\n",
      "\n"
     ]
    }
   ],
   "source": [
    "# Continuous features\n",
    "cont_feat = ['A2','A3','A8','A11','A14','A15']\n",
    "\n",
    "# Run the above ttest function for each continuous feature\n",
    "for c in cont_feat:\n",
    "    if ttest(c)['pvalue'] < .05:\n",
    "        print(f\"Feature {c}\\nT Statistic: {ttest(c)['stat']}\\npvalue:{ttest(c)['pvalue']}\\n\")\n",
    "    else:\n",
    "        print(f\"We cannot reject the null hypothesis that these two samples have identical average values.\")"
   ]
  },
  {
   "cell_type": "code",
   "execution_count": 112,
   "metadata": {},
   "outputs": [
    {
     "data": {
      "image/png": "[encoded data removed]",
      "text/plain": [
       "<Figure size 432x288 with 1 Axes>"
      ]
     },
     "metadata": {
      "needs_background": "light"
     },
     "output_type": "display_data"
    }
   ],
   "source": [
    "sns.distplot(approved['A11'], color=\"green\", label=\"plus\")\n",
    "sns.distplot(rejected['A11'], color=\"red\", label=\"minus\")\n",
    "plt.title('Feature A11 Comparison');"
   ]
  },
  {
   "cell_type": "code",
   "execution_count": 109,
   "metadata": {},
   "outputs": [
    {
     "data": {
      "image/png": "[encoded data removed]",
      "text/plain": [
       "<Figure size 432x288 with 1 Axes>"
      ]
     },
     "metadata": {
      "needs_background": "light"
     },
     "output_type": "display_data"
    }
   ],
   "source": [
    "sns.distplot(approved['A8'], color=\"green\", label=\"plus\")\n",
    "sns.distplot(rejected['A8'], color=\"red\", label=\"minus\")\n",
    "plt.title('Feature A8 Comparison');"
   ]
  },
  {
   "cell_type": "code",
   "execution_count": 143,
   "metadata": {},
   "outputs": [],
   "source": [
    "#Drop NaNs \n",
    "approved['A14'].dropna(inplace=True)\n",
    "rejected['A14'].dropna(inplace=True)"
   ]
  },
  {
   "cell_type": "code",
   "execution_count": 144,
   "metadata": {},
   "outputs": [
    {
     "data": {
      "image/png": "[encoded data removed]",
      "text/plain": [
       "<Figure size 432x288 with 1 Axes>"
      ]
     },
     "metadata": {
      "needs_background": "light"
     },
     "output_type": "display_data"
    }
   ],
   "source": [
    "sns.distplot(approved['A14'], color=\"green\", label=\"plus\")\n",
    "sns.distplot(rejected['A14'], color=\"red\", label=\"minus\")\n",
    "plt.title('Feature A14 Comparison');"
   ]
  },
  {
   "cell_type": "code",
   "execution_count": 120,
   "metadata": {},
   "outputs": [
    {
     "name": "stdout",
     "output_type": "stream",
     "text": [
      "A1     a    b  All\n",
      "A16               \n",
      "0    112  262  374\n",
      "1     98  206  304\n",
      "All  210  468  678\n",
      "\n",
      "A4   l    u    y  All\n",
      "A16                  \n",
      "0    0  263  118  381\n",
      "1    2  256   45  303\n",
      "All  2  519  163  684\n",
      "\n",
      "A5     g  gg    p  All\n",
      "A16                   \n",
      "0    263   0  118  381\n",
      "1    256   2   45  303\n",
      "All  519   2  163  684\n",
      "\n",
      "A6   aa    c  cc   d   e  ff   i   j   k   m   q  r   w   x  All\n",
      "A16                                                             \n",
      "0    35   75  12  23  11  46  45   7  37  22  27  1  31   6  378\n",
      "1    19   62  29   7  14   7  14   3  14  16  51  2  33  32  303\n",
      "All  54  137  41  30  25  53  59  10  51  38  78  3  64  38  681\n",
      "\n",
      "A7   bb  dd  ff    h  j  n  o    v  z  All\n",
      "A16                                       \n",
      "0    34   4  49   51  5  2  1  230  2  378\n",
      "1    25   2   8   87  3  2  1  169  6  303\n",
      "All  59   6  57  138  8  4  2  399  8  681\n",
      "\n",
      "A9     f    t  All\n",
      "A16               \n",
      "0    306   77  383\n",
      "1     23  284  307\n",
      "All  329  361  690\n",
      "\n",
      "A10    f    t  All\n",
      "A16               \n",
      "0    297   86  383\n",
      "1     98  209  307\n",
      "All  395  295  690\n",
      "\n",
      "A12    f    t  All\n",
      "A16               \n",
      "0    213  170  383\n",
      "1    161  146  307\n",
      "All  374  316  690\n",
      "\n",
      "A13    g  p   s  All\n",
      "A16                 \n",
      "0    338  3  42  383\n",
      "1    287  5  15  307\n",
      "All  625  8  57  690\n",
      "\n"
     ]
    }
   ],
   "source": [
    "#Categorical features (9)\n",
    "cat_feat = ['A1','A4','A5','A6','A7','A9','A10','A12','A13']\n",
    "\n",
    "# Explore approval split via crosstabs for each feature\n",
    "for c in credit_approval[cat_feat]:\n",
    "    print(f\"{pd.crosstab(credit_approval['A16'],credit_approval[c],margins=True)}\\n\")"
   ]
  },
  {
   "cell_type": "code",
   "execution_count": 145,
   "metadata": {},
   "outputs": [
    {
     "name": "stdout",
     "output_type": "stream",
     "text": [
      "A1\n",
      "Test stat:0.3112832649161994\n",
      "pvalue:0.5768937883001118\n",
      "Degrees of freedom:1\n",
      "Expected frequencies:[[115.84070796 258.15929204]\n",
      " [ 94.15929204 209.84070796]]\n",
      "We cannot reject null hypothesis that these variables are independent\n",
      "\n",
      "A4\n",
      "Test stat:26.234074966202144\n",
      "pvalue:2.010680204180363e-06\n",
      "Degrees of freedom:2\n",
      "Expected frequencies:[[  1.11403509 289.09210526  90.79385965]\n",
      " [  0.88596491 229.90789474  72.20614035]]\n",
      "We can reject the null hypothesis that these variables are independent.\n",
      "\n",
      "A5\n",
      "Test stat:26.234074966202144\n",
      "pvalue:2.010680204180363e-06\n",
      "Degrees of freedom:2\n",
      "Expected frequencies:[[289.09210526   1.11403509  90.79385965]\n",
      " [229.90789474   0.88596491  72.20614035]]\n",
      "We can reject the null hypothesis that these variables are independent.\n",
      "\n",
      "A6\n",
      "Test stat:98.32520342679135\n",
      "pvalue:3.4999300402715717e-15\n",
      "Degrees of freedom:13\n",
      "Expected frequencies:[[29.97356828 76.04405286 22.75770925 16.65198238 13.87665198 29.4185022\n",
      "  32.74889868  5.55066079 28.30837004 21.09251101 43.29515419  1.66519824\n",
      "  35.52422907 21.09251101]\n",
      " [24.02643172 60.95594714 18.24229075 13.34801762 11.12334802 23.5814978\n",
      "  26.25110132  4.44933921 22.69162996 16.90748899 34.70484581  1.33480176\n",
      "  28.47577093 16.90748899]]\n",
      "We can reject the null hypothesis that these variables are independent.\n",
      "\n",
      "A7\n",
      "Test stat:45.03420714024057\n",
      "pvalue:3.6254528723722447e-07\n",
      "Degrees of freedom:8\n",
      "Expected frequencies:[[ 32.74889868   3.33039648  31.63876652  76.59911894   4.44052863\n",
      "    2.22026432   1.11013216 221.47136564   4.44052863]\n",
      " [ 26.25110132   2.66960352  25.36123348  61.40088106   3.55947137\n",
      "    1.77973568   0.88986784 177.52863436   3.55947137]]\n",
      "We can reject the null hypothesis that these variables are independent.\n",
      "\n",
      "A9\n",
      "Test stat:355.2038167412799\n",
      "pvalue:3.1185900878457007e-79\n",
      "Degrees of freedom:1\n",
      "Expected frequencies:[[182.61884058 200.38115942]\n",
      " [146.38115942 160.61884058]]\n",
      "We can reject the null hypothesis that these variables are independent.\n",
      "\n",
      "A10\n",
      "Test stat:143.06956205083148\n",
      "pvalue:5.6757273745274924e-33\n",
      "Degrees of freedom:1\n",
      "Expected frequencies:[[219.25362319 163.74637681]\n",
      " [175.74637681 131.25362319]]\n",
      "We can reject the null hypothesis that these variables are independent.\n",
      "\n",
      "A12\n",
      "Test stat:0.568273300792113\n",
      "pvalue:0.45094587758631943\n",
      "Degrees of freedom:1\n",
      "Expected frequencies:[[207.59710145 175.40289855]\n",
      " [166.40289855 140.59710145]]\n",
      "We cannot reject null hypothesis that these variables are independent\n",
      "\n",
      "A13\n",
      "Test stat:9.191570451545381\n",
      "pvalue:0.010094291370456372\n",
      "Degrees of freedom:2\n",
      "Expected frequencies:[[346.92028986   4.44057971  31.63913043]\n",
      " [278.07971014   3.55942029  25.36086957]]\n",
      "We can reject the null hypothesis that these variables are independent.\n",
      "\n"
     ]
    }
   ],
   "source": [
    "#Apply chi-squared tests for categorical features\n",
    "for c in credit_approval[cat_feat]:\n",
    "    chi2, p, dof, expected = st.chi2_contingency(pd.crosstab(credit_approval['A16'],credit_approval[c]))\n",
    "    print(f\"{c}\\nTest stat:{chi2}\\npvalue:{p}\\nDegrees of freedom:{dof}\\nExpected frequencies:{expected}\")\n",
    "    if p < .05:\n",
    "        print('We can reject the null hypothesis that these variables are independent.\\n')\n",
    "    else:\n",
    "        print('We cannot reject null hypothesis that these variables are independent\\n')\n"
   ]
  },
  {
   "cell_type": "code",
   "execution_count": null,
   "metadata": {},
   "outputs": [],
   "source": [
    "#More extreme are A1, A12 where we could not reject the null hypothesis. \n",
    "#Less extreme were the remaining categorical features"
   ]
  },
  {
   "cell_type": "markdown",
   "metadata": {
    "colab_type": "text",
    "id": "ZM8JckA2bgnp"
   },
   "source": [
    "## Part 3 - Analysis and Interpretation\n",
    "\n",
    "Now that you've looked at the data, answer the following questions:\n",
    "\n",
    "- Interpret and explain the two t-tests you ran - what do they tell you about the relationships between the continuous features you selected and the class labels?\n",
    "- Interpret and explain the two Chi-squared tests you ran - what do they tell you about the relationships between the categorical features you selected and the class labels?\n",
    "- What was the most challenging part of this sprint challenge?\n",
    "\n",
    "Answer with text, but feel free to intersperse example code/results or refer to it from earlier."
   ]
  },
  {
   "cell_type": "markdown",
   "metadata": {
    "colab_type": "text",
    "id": "LIozLDNG2Uhu"
   },
   "source": [
    "1) I ran a ttest on all of the continuous features. The more extreme example I explored was feature A11, where the calculated t statistic was > 11 and very low p-value. This tells us that the A11 feature for approvals is quite a (positive) departure from rejections. Meaning that there is a significant difference between the means and could potentially have a relationship with approvals. Conversely (less extreme), while still a low p-value, the A14 feature's approvals was just below the rejections.\n",
    "\n",
    "2) For this, I also ran chi-squared tests for all of the categorical features. The more extreme examples were features A1 and A12 where we could not reject the null hypothesis that these variables are independent. In the cases where we did reject the null hypothesis, we can say that the feature potentially has a relationship with the approval feature. \n",
    "\n",
    "3) Honestly, I think the most challenging part was just planning the exploration. I knew what I had to do re: code, libraries, etc. but just organizing each aspect took some rework. For example, I thought about running both types of tests multiple times but given it was repeatitive, I scrapped that and wrote a function to do each test for all of their respective features to have a better view of each, speed up the process, and reduce any repetitive code. "
   ]
  }
 ],
 "metadata": {
  "colab": {
   "collapsed_sections": [],
   "name": "DS Unit 1 Sprint Challenge 4.ipynb",
   "provenance": [],
   "version": "0.3.2"
  },
  "kernelspec": {
   "display_name": "Python 3",
   "language": "python",
   "name": "python3"
  },
  "language_info": {
   "codemirror_mode": {
    "name": "ipython",
    "version": 3
   },
   "file_extension": ".py",
   "mimetype": "text/x-python",
   "name": "python",
   "nbconvert_exporter": "python",
   "pygments_lexer": "ipython3",
   "version": "3.7.3"
  }
 },
 "nbformat": 4,
 "nbformat_minor": 1
}
