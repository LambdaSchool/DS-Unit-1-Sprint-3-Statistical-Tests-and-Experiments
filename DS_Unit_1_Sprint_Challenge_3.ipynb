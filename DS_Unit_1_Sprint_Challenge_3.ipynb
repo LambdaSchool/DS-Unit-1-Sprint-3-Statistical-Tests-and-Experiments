{
 "cells": [
  {
   "cell_type": "markdown",
   "metadata": {
    "colab_type": "text",
    "id": "NooAiTdnafkz"
   },
   "source": [
    "# Data Science Unit 1 Sprint Challenge 4\n",
    "\n",
    "## Exploring Data, Testing Hypotheses\n",
    "\n",
    "In this sprint challenge you will look at a dataset of people being approved or rejected for credit.\n",
    "\n",
    "https://archive.ics.uci.edu/ml/datasets/Credit+Approval\n",
    "\n",
    "Data Set Information: This file concerns credit card applications. All attribute names and values have been changed to meaningless symbols to protect confidentiality of the data. This dataset is interesting because there is a good mix of attributes -- continuous, nominal with small numbers of values, and nominal with larger numbers of values. There are also a few missing values.\n",
    "\n",
    "Attribute Information:\n",
    "- A1: b, a.\n",
    "- A2: continuous.\n",
    "- A3: continuous.\n",
    "- A4: u, y, l, t.\n",
    "- A5: g, p, gg.\n",
    "- A6: c, d, cc, i, j, k, m, r, q, w, x, e, aa, ff.\n",
    "- A7: v, h, bb, j, n, z, dd, ff, o.\n",
    "- A8: continuous.\n",
    "- A9: t, f.\n",
    "- A10: t, f.\n",
    "- A11: continuous.\n",
    "- A12: t, f.\n",
    "- A13: g, p, s.\n",
    "- A14: continuous.\n",
    "- A15: continuous.\n",
    "- A16: +,- (class attribute)\n",
    "\n",
    "Yes, most of that doesn't mean anything. A16 (the class attribute) is the most interesting, as it separates the 307 approved cases from the 383 rejected cases. The remaining variables have been obfuscated for privacy - a challenge you may have to deal with in your data science career.\n",
    "\n",
    "Sprint challenges are evaluated based on satisfactory completion of each part. It is suggested you work through it in order, getting each aspect reasonably working, before trying to deeply explore, iterate, or refine any given step. Once you get to the end, if you want to go back and improve things, go for it!"
   ]
  },
  {
   "cell_type": "markdown",
   "metadata": {
    "colab_type": "text",
    "id": "5wch6ksCbJtZ"
   },
   "source": [
    "## Part 1 - Load and validate the data\n",
    "\n",
    "- Load the data as a `pandas` data frame.\n",
    "- Validate that it has the appropriate number of observations (you can check the raw file, and also read the dataset description from UCI).\n",
    "- UCI says there should be missing data - check, and if necessary change the data so pandas recognizes it as na\n",
    "- Make sure that the loaded features are of the types described above (continuous values should be treated as float), and correct as necessary\n",
    "\n",
    "This is review, but skills that you'll use at the start of any data exploration. Further, you may have to do some investigation to figure out which file to load from - that is part of the puzzle."
   ]
  },
  {
   "cell_type": "code",
   "execution_count": 0,
   "metadata": {
    "colab": {},
    "colab_type": "code",
    "id": "1NK7P9FJ_IS4"
   },
   "outputs": [],
   "source": [
    "import pandas as pd\n",
    "from scipy import stats\n",
    "import matplotlib.pyplot as plt\n",
    "import seaborn as sns"
   ]
  },
  {
   "cell_type": "code",
   "execution_count": 0,
   "metadata": {
    "colab": {},
    "colab_type": "code",
    "id": "Q79xDLckzibS"
   },
   "outputs": [],
   "source": [
    "url = 'https://archive.ics.uci.edu/ml/machine-learning-databases/credit-screening/crx.data'\n",
    "names = ['A1', 'A2', 'A3', 'A4', 'A5', 'A6', 'A7', 'A8', 'A9', 'A10', 'A11', 'A12', 'A13', 'A14', 'A15', 'A16']\n",
    "\n",
    "df = pd.read_csv(url, names=names, na_values='?')"
   ]
  },
  {
   "cell_type": "code",
   "execution_count": 128,
   "metadata": {
    "colab": {
     "base_uri": "https://localhost:8080/",
     "height": 219
    },
    "colab_type": "code",
    "id": "xm2kvY5r_VHN",
    "outputId": "068ae132-b745-4063-9c80-a72dea623241"
   },
   "outputs": [
    {
     "name": "stdout",
     "output_type": "stream",
     "text": [
      "(690, 16)\n"
     ]
    },
    {
     "data": {
      "text/html": [
       "<div>\n",
       "<style scoped>\n",
       "    .dataframe tbody tr th:only-of-type {\n",
       "        vertical-align: middle;\n",
       "    }\n",
       "\n",
       "    .dataframe tbody tr th {\n",
       "        vertical-align: top;\n",
       "    }\n",
       "\n",
       "    .dataframe thead th {\n",
       "        text-align: right;\n",
       "    }\n",
       "</style>\n",
       "<table border=\"1\" class=\"dataframe\">\n",
       "  <thead>\n",
       "    <tr style=\"text-align: right;\">\n",
       "      <th></th>\n",
       "      <th>A1</th>\n",
       "      <th>A2</th>\n",
       "      <th>A3</th>\n",
       "      <th>A4</th>\n",
       "      <th>A5</th>\n",
       "      <th>A6</th>\n",
       "      <th>A7</th>\n",
       "      <th>A8</th>\n",
       "      <th>A9</th>\n",
       "      <th>A10</th>\n",
       "      <th>A11</th>\n",
       "      <th>A12</th>\n",
       "      <th>A13</th>\n",
       "      <th>A14</th>\n",
       "      <th>A15</th>\n",
       "      <th>A16</th>\n",
       "    </tr>\n",
       "  </thead>\n",
       "  <tbody>\n",
       "    <tr>\n",
       "      <th>0</th>\n",
       "      <td>b</td>\n",
       "      <td>30.830</td>\n",
       "      <td>0.000</td>\n",
       "      <td>u</td>\n",
       "      <td>g</td>\n",
       "      <td>w</td>\n",
       "      <td>v</td>\n",
       "      <td>1.250</td>\n",
       "      <td>t</td>\n",
       "      <td>t</td>\n",
       "      <td>1</td>\n",
       "      <td>f</td>\n",
       "      <td>g</td>\n",
       "      <td>202.000</td>\n",
       "      <td>0</td>\n",
       "      <td>+</td>\n",
       "    </tr>\n",
       "    <tr>\n",
       "      <th>1</th>\n",
       "      <td>a</td>\n",
       "      <td>58.670</td>\n",
       "      <td>4.460</td>\n",
       "      <td>u</td>\n",
       "      <td>g</td>\n",
       "      <td>q</td>\n",
       "      <td>h</td>\n",
       "      <td>3.040</td>\n",
       "      <td>t</td>\n",
       "      <td>t</td>\n",
       "      <td>6</td>\n",
       "      <td>f</td>\n",
       "      <td>g</td>\n",
       "      <td>43.000</td>\n",
       "      <td>560</td>\n",
       "      <td>+</td>\n",
       "    </tr>\n",
       "    <tr>\n",
       "      <th>2</th>\n",
       "      <td>a</td>\n",
       "      <td>24.500</td>\n",
       "      <td>0.500</td>\n",
       "      <td>u</td>\n",
       "      <td>g</td>\n",
       "      <td>q</td>\n",
       "      <td>h</td>\n",
       "      <td>1.500</td>\n",
       "      <td>t</td>\n",
       "      <td>f</td>\n",
       "      <td>0</td>\n",
       "      <td>f</td>\n",
       "      <td>g</td>\n",
       "      <td>280.000</td>\n",
       "      <td>824</td>\n",
       "      <td>+</td>\n",
       "    </tr>\n",
       "    <tr>\n",
       "      <th>3</th>\n",
       "      <td>b</td>\n",
       "      <td>27.830</td>\n",
       "      <td>1.540</td>\n",
       "      <td>u</td>\n",
       "      <td>g</td>\n",
       "      <td>w</td>\n",
       "      <td>v</td>\n",
       "      <td>3.750</td>\n",
       "      <td>t</td>\n",
       "      <td>t</td>\n",
       "      <td>5</td>\n",
       "      <td>t</td>\n",
       "      <td>g</td>\n",
       "      <td>100.000</td>\n",
       "      <td>3</td>\n",
       "      <td>+</td>\n",
       "    </tr>\n",
       "    <tr>\n",
       "      <th>4</th>\n",
       "      <td>b</td>\n",
       "      <td>20.170</td>\n",
       "      <td>5.625</td>\n",
       "      <td>u</td>\n",
       "      <td>g</td>\n",
       "      <td>w</td>\n",
       "      <td>v</td>\n",
       "      <td>1.710</td>\n",
       "      <td>t</td>\n",
       "      <td>f</td>\n",
       "      <td>0</td>\n",
       "      <td>f</td>\n",
       "      <td>s</td>\n",
       "      <td>120.000</td>\n",
       "      <td>0</td>\n",
       "      <td>+</td>\n",
       "    </tr>\n",
       "  </tbody>\n",
       "</table>\n",
       "</div>"
      ],
      "text/plain": [
       "  A1     A2    A3 A4 A5 A6 A7    A8 A9 A10  A11 A12 A13     A14  A15 A16\n",
       "0  b 30.830 0.000  u  g  w  v 1.250  t   t    1   f   g 202.000    0   +\n",
       "1  a 58.670 4.460  u  g  q  h 3.040  t   t    6   f   g  43.000  560   +\n",
       "2  a 24.500 0.500  u  g  q  h 1.500  t   f    0   f   g 280.000  824   +\n",
       "3  b 27.830 1.540  u  g  w  v 3.750  t   t    5   t   g 100.000    3   +\n",
       "4  b 20.170 5.625  u  g  w  v 1.710  t   f    0   f   s 120.000    0   +"
      ]
     },
     "execution_count": 128,
     "metadata": {
      "tags": []
     },
     "output_type": "execute_result"
    }
   ],
   "source": [
    "print(df.shape)\n",
    "df.head()"
   ]
  },
  {
   "cell_type": "markdown",
   "metadata": {
    "colab_type": "text",
    "id": "G7rLytbrO38L"
   },
   "source": [
    "## Part 2 - Exploring data, Testing hypotheses\n",
    "\n",
    "The only thing we really know about this data is that A16 is the class label. Besides that, we have 6 continuous (float) features and 9 categorical features.\n",
    "\n",
    "Explore the data: you can use whatever approach (tables, utility functions, visualizations) to get an impression of the distributions and relationships of the variables. In general, your goal is to understand how the features are different when grouped by the two class labels (`+` and `-`).\n",
    "\n",
    "For the 6 continuous features, how are they different when split between the two class labels? Choose two features to run t-tests (again split by class label) - specifically, select one feature that is *extremely* different between the classes, and another feature that is notably less different (though perhaps still \"statistically significantly\" different). You may have to explore more than two features to do this.\n",
    "\n",
    "For the categorical features, explore by creating \"cross tabs\" (aka [contingency tables](https://en.wikipedia.org/wiki/Contingency_table)) between them and the class label, and apply the Chi-squared test to them. [pandas.crosstab](http://pandas.pydata.org/pandas-docs/stable/reference/api/pandas.crosstab.html) can create contingency tables, and [scipy.stats.chi2_contingency](https://docs.scipy.org/doc/scipy/reference/generated/scipy.stats.chi2_contingency.html) can calculate the Chi-squared statistic for them.\n",
    "\n",
    "There are 9 categorical features - as with the t-test, try to find one where the Chi-squared test returns an extreme result (rejecting the null that the data are independent), and one where it is less extreme.\n",
    "\n",
    "**NOTE** - \"less extreme\" just means smaller test statistic/larger p-value. Even the least extreme differences may be strongly statistically significant.\n",
    "\n",
    "Your *main* goal is the hypothesis tests, so don't spend too much time on the exploration/visualization piece. That is just a means to an end - use simple visualizations, such as boxplots or a scatter matrix (both built in to pandas), to get a feel for the overall distribution of the variables.\n",
    "\n",
    "This is challenging, so manage your time and aim for a baseline of at least running two t-tests and two Chi-squared tests before polishing. And don't forget to answer the questions in part 3, even if your results in this part aren't what you want them to be."
   ]
  },
  {
   "cell_type": "code",
   "execution_count": 129,
   "metadata": {
    "colab": {
     "base_uri": "https://localhost:8080/",
     "height": 1000
    },
    "colab_type": "code",
    "id": "nBFqzivuCuTo",
    "outputId": "a8b5e6fe-1ab9-4b7a-dae8-21d606d60a91"
   },
   "outputs": [
    {
     "name": "stdout",
     "output_type": "stream",
     "text": [
      "A1\n",
      "['b' 'a' nan]\n",
      "---------------------------------------------\n",
      "A2\n",
      "[30.83 58.67 24.5  27.83 20.17 32.08 33.17 22.92 54.42 42.5  22.08 29.92\n",
      " 38.25 48.08 45.83 36.67 28.25 23.25 21.83 19.17 25.   47.75 27.42 41.17\n",
      " 15.83 47.   56.58 57.42 42.08 29.25 42.   49.5  36.75 22.58 27.25 23.\n",
      " 27.75 54.58 34.17 28.92 29.67 39.58 56.42 54.33 41.   31.92 41.5  23.92\n",
      " 25.75 26.   37.42 34.92 34.25 23.33 23.17 44.33 35.17 43.25 56.75 31.67\n",
      " 23.42 20.42 26.67 36.   25.5  19.42 32.33 34.83 38.58 44.25 44.83 20.67\n",
      " 34.08 21.67 21.5  49.58 27.67 39.83   nan 37.17 25.67 34.   49.   62.5\n",
      " 31.42 52.33 28.75 28.58 22.5  28.5  37.5  35.25 18.67 54.83 40.92 19.75\n",
      " 29.17 24.58 33.75 25.42 37.75 52.5  57.83 20.75 39.92 24.75 44.17 23.5\n",
      " 47.67 22.75 34.42 28.42 67.75 47.42 36.25 32.67 48.58 33.58 18.83 26.92\n",
      " 31.25 56.5  43.   22.33 32.83 40.33 30.5  52.83 46.67 58.33 37.33 23.08\n",
      " 32.75 68.67 28.   44.   25.08 32.   60.58 40.83 19.33 41.33 56.   49.83\n",
      " 22.67 27.   26.08 18.42 21.25 57.08 22.42 48.75 40.   40.58 28.67 33.08\n",
      " 21.33 41.75 34.5  48.17 27.58 24.08 24.83 36.33 35.42 71.58 39.5  39.33\n",
      " 24.33 60.08 55.92 53.92 18.92 50.08 65.42 17.58 18.08 19.67 25.17 33.5\n",
      " 58.42 26.17 42.83 38.17 20.5  48.25 28.33 18.75 18.5  45.   40.25 41.42\n",
      " 17.83 18.17 20.   52.17 50.75 17.08 18.33 59.67 18.   37.58 30.67 18.58\n",
      " 16.25 21.17 17.67 16.5  29.5  21.75 18.25 35.75 16.08 69.17 32.92 16.33\n",
      " 22.17 57.58 15.92 31.75 19.   17.5  33.67 30.17 33.25 25.25 34.75 47.33\n",
      " 39.08 42.75 38.92 62.75 32.25 26.75 63.33 30.75 16.   19.5  32.42 30.25\n",
      " 26.83 16.92 24.42 39.42 23.58 21.42 33.   26.33 26.25 28.17 20.83 43.17\n",
      " 56.83 15.17 29.83 31.   51.92 69.5  19.58 22.25 38.42 26.58 35.   29.42\n",
      " 49.17 51.83 58.58 53.33 27.17 25.92 30.58 17.25 27.33 36.5  29.75 52.42\n",
      " 36.17 34.58 21.92 36.58 31.08 30.42 21.08 17.42 39.17 26.5  17.33 23.75\n",
      " 34.67 74.83 45.33 47.25 24.17 39.25 39.   64.08 31.33 21.   13.75 46.\n",
      " 20.25 60.92 30.   22.83 45.17 41.58 55.75 25.33 31.83 33.92 24.92 80.25\n",
      " 30.08 48.33 76.75 51.33 41.92 29.58 32.17 51.42 42.17 43.08 59.5  65.17\n",
      " 20.33 48.5  28.08 73.42 51.58 38.67 46.08 20.08 42.25 16.17 47.83 22.\n",
      " 38.33 25.58 21.58 36.08 38.75 35.58 31.58 15.75 17.92 30.33 47.17 25.83\n",
      " 50.25 36.42]\n",
      "---------------------------------------------\n",
      "A3\n",
      "[ 0.     4.46   0.5    1.54   5.625  4.     1.04  11.585  4.915  0.83\n",
      "  1.835  6.     6.04  10.5    4.415  0.875  5.875  0.25   8.585 11.25\n",
      "  1.     8.    14.5    6.5    0.585 13.    18.5    8.5   14.79   9.79\n",
      "  7.585  5.125 10.75   1.5    1.585 11.75   9.415  9.17  15.     1.415\n",
      " 13.915 28.     6.75   2.04   0.665  2.5    3.    11.625  4.5   12.25\n",
      " 16.165  0.79   0.835  4.25   0.375 25.125  7.5    5.     7.     5.29\n",
      "  1.165  9.75  19.     3.5    0.625  2.21  12.75  15.5    1.375  3.54\n",
      " 11.     1.75  16.5   12.     2.25   0.75  12.5    1.25   1.125  7.04\n",
      " 10.335  6.21   6.665  9.     5.5    0.54   2.75   9.5   13.5    3.75\n",
      " 16.     0.29   1.665  7.54   0.46  10.    11.5    3.04   2.     0.08\n",
      "  1.71   3.25   2.54  13.585  8.665  9.25   8.17   2.335 19.5    5.665\n",
      "  4.625  0.205  0.96   4.04   5.04   3.165  7.625 10.04  10.25   2.125\n",
      "  9.335  6.625  2.71   9.625 12.54   9.54   8.46  13.75  21.    10.125\n",
      " 25.085  0.21  21.5   11.125 11.045  1.335  0.085  1.21   0.165  5.71\n",
      "  5.415 12.625  0.58   0.415  2.415  0.335  3.125 12.125  2.875 13.665\n",
      " 26.335 10.29   1.29  22.     0.125  1.085  4.085  4.71   6.165  4.585\n",
      " 11.46  14.585  0.17   1.625  2.085  5.085  8.125  2.835  1.79   0.705\n",
      "  2.165  2.29  18.125  3.085 11.665  4.125  1.08  13.335 11.835  4.79\n",
      "  9.96   7.08  25.21   0.67   3.79  22.29   3.335  0.42   1.46   0.04\n",
      " 12.33  12.335  0.915 14.    17.75  20.     5.25   4.165 10.915  4.75\n",
      " 10.415  7.835  0.71   2.46   9.585  3.625  2.665  5.835 12.835 10.665\n",
      "  7.25  10.21   3.29  10.085  3.375]\n",
      "---------------------------------------------\n",
      "A4\n",
      "['u' 'y' nan 'l']\n",
      "---------------------------------------------\n",
      "A5\n",
      "['g' 'p' nan 'gg']\n",
      "---------------------------------------------\n",
      "A6\n",
      "['w' 'q' 'm' 'r' 'cc' 'k' 'c' 'd' 'x' 'i' 'e' 'aa' 'ff' 'j' nan]\n",
      "---------------------------------------------\n",
      "A7\n",
      "['v' 'h' 'bb' 'ff' 'j' 'z' nan 'o' 'dd' 'n']\n",
      "---------------------------------------------\n",
      "A8\n",
      "[ 1.25   3.04   1.5    3.75   1.71   2.5    6.5    0.04   3.96   3.165\n",
      "  2.165  4.335  1.     5.     0.25   0.96   3.17   0.665  0.75   0.835\n",
      "  7.875  3.085  0.5    5.165 15.     7.     5.04   7.96   7.585  0.415\n",
      "  2.     1.835 14.415  4.5    5.335  8.625 28.5    2.625  0.125  6.04\n",
      "  3.5    0.165  0.875  1.75   0.     7.415  0.085  5.75   6.     3.\n",
      "  1.585  4.29   1.54   1.46   1.625 12.5   13.5   10.75   0.375  0.585\n",
      "  0.455  4.     8.5    9.46   2.25  10.     0.795  1.375  1.29  11.5\n",
      "  6.29  14.     0.335  1.21   7.375  7.5    3.25  13.     5.5    4.25\n",
      "  0.625  5.085  2.75   2.375  8.     1.085  2.54   4.165  1.665 11.\n",
      "  9.     1.335  1.415  1.96   2.585  5.125 15.5    0.71   5.665 18.\n",
      "  5.25   8.665  2.29  20.     2.46  13.875  2.085  4.58   2.71   2.04\n",
      "  0.29   4.75   0.46   0.21   0.54   3.335  2.335  1.165  2.415  2.79\n",
      "  4.625  1.04   6.75   1.875 16.    12.75   5.375  2.125 17.5    3.125\n",
      "  0.79   8.29 ]\n",
      "---------------------------------------------\n",
      "A9\n",
      "['t' 'f']\n",
      "---------------------------------------------\n",
      "A10\n",
      "['t' 'f']\n",
      "---------------------------------------------\n",
      "A11\n",
      "[ 1  6  0  5  7 10  3 17  2  9  8 15 11 12 40 23  4 20 67 14 16 13 19]\n",
      "---------------------------------------------\n",
      "A12\n",
      "['f' 't']\n",
      "---------------------------------------------\n",
      "A13\n",
      "['g' 's' 'p']\n",
      "---------------------------------------------\n",
      "A14\n",
      "[ 202.   43.  280.  100.  120.  360.  164.   80.  180.   52.  128.  260.\n",
      "    0.  320.  396.   96.  200.  300.  145.  500.  168.  434.  583.   30.\n",
      "  240.   70.  455.  311.  216.  491.  400.  239.  160.  711.  250.  520.\n",
      "  515.  420.   nan  980.  443.  140.   94.  368.  288.  928.  188.  112.\n",
      "  171.  268.  167.   75.  152.  176.  329.  212.  410.  274.  375.  408.\n",
      "  350.  204.   40.  181.  399.  440.   93.   60.  395.  393.   21.   29.\n",
      "  102.  431.  370.   24.   20.  129.  510.  195.  144.  380.   49.   50.\n",
      "  381.  150.  117.   56.  211.  230.  156.   22.  228.  519.  253.  487.\n",
      "  220.   88.   73.  121.  470.  136.  132.  292.  154.  272.  340.  108.\n",
      "  720.  450.  232.  170. 1160.  411.  460.  348.  480.  640.  372.  276.\n",
      "  221.  352.  141.  178.  600.  550. 2000.  225.  210.  110.  356.   45.\n",
      "   62.   92.  174.   17.   86.  454.  254.   28.  263.  333.  312.  290.\n",
      "  371.   99.  252.  760.  560.  130.  523.  680.  163.  208.  383.  330.\n",
      "  422.  840.  432.   32.  186.  303.  349.  224.  369.   76.  231.  309.\n",
      "  416.  465.  256.]\n",
      "---------------------------------------------\n",
      "A15\n",
      "[     0    560    824      3  31285   1349    314   1442    200   2690\n",
      "    245   1208   1260     11  10000   5000   4000     35    713    551\n",
      "    500    300    221   2283    100     15    284   1236   5800    730\n",
      "    400  50000    456  15108   2954      2     20     27    225      1\n",
      "     38      5    130    147    210  11202   1332     50    258    567\n",
      "   1000   2510    809    610    150  51100    367    600    247    375\n",
      "    278    827   2072    582   2300   3065   2200      6   1602   2184\n",
      "   3376   2000   7544  10561    837  11177    639   2028   1065    540\n",
      "    158  15000   3000   3257   1655   1430      7    790    396    678\n",
      "   1187   6590    168   1270   1210    742   8851   7059   1704    857\n",
      "   6700   2503   9800    196     14  26726  18027     99    444   1200\n",
      "   2010     13    120     32    722     40    484    204     98   5552\n",
      "    105   2803    126      4     21    173     10     25     42 100000\n",
      "    113      8     44   2732    179     16   1062    251    228     67\n",
      "     12    122   4208   1300    112   1110   1004    286   4500   1212\n",
      "    195     87     17    184    140     18    146     22     55     70\n",
      "     60   1058    769   5200     19    316    350   3552    687   1950\n",
      "     53     41     33     80    351   2100    475    892   4607   2206\n",
      "   5860     28   1391   2279    591    960    690    234    800    990\n",
      "   2197     90    340    347    327   4071    109   1249    134   1344\n",
      "    321    948   2079   2384    458   5298    162   1583     58     59\n",
      "   1400   1465   8000   4700   1097   3290  13212   5777   5124     23\n",
      "   4159    918    768    283    108      9     68    587    141    501\n",
      "    160    390    154    117    246    237    364    537    394    750]\n",
      "---------------------------------------------\n",
      "A16\n",
      "['+' '-']\n",
      "---------------------------------------------\n"
     ]
    }
   ],
   "source": [
    "#Checking out all unique values across all columns\n",
    "for col in df.columns:\n",
    "  print(col)\n",
    "  print(df[col].unique())\n",
    "  print('---------------------------------------------')"
   ]
  },
  {
   "cell_type": "code",
   "execution_count": 130,
   "metadata": {
    "colab": {
     "base_uri": "https://localhost:8080/",
     "height": 312
    },
    "colab_type": "code",
    "id": "_nqcgc0yzm68",
    "outputId": "be3e0bb4-23b6-46ef-a7c1-0bc0e7f13118"
   },
   "outputs": [
    {
     "data": {
      "text/plain": [
       "A1     12\n",
       "A2     12\n",
       "A3      0\n",
       "A4      6\n",
       "A5      6\n",
       "A6      9\n",
       "A7      9\n",
       "A8      0\n",
       "A9      0\n",
       "A10     0\n",
       "A11     0\n",
       "A12     0\n",
       "A13     0\n",
       "A14    13\n",
       "A15     0\n",
       "A16     0\n",
       "dtype: int64"
      ]
     },
     "execution_count": 130,
     "metadata": {
      "tags": []
     },
     "output_type": "execute_result"
    }
   ],
   "source": [
    "df.isna().sum()"
   ]
  },
  {
   "cell_type": "code",
   "execution_count": 131,
   "metadata": {
    "colab": {
     "base_uri": "https://localhost:8080/",
     "height": 294
    },
    "colab_type": "code",
    "id": "VA6aUvKmGiuC",
    "outputId": "3dfb8064-8082-49cf-d653-e86e0ce81fc1"
   },
   "outputs": [
    {
     "data": {
      "text/html": [
       "<div>\n",
       "<style scoped>\n",
       "    .dataframe tbody tr th:only-of-type {\n",
       "        vertical-align: middle;\n",
       "    }\n",
       "\n",
       "    .dataframe tbody tr th {\n",
       "        vertical-align: top;\n",
       "    }\n",
       "\n",
       "    .dataframe thead th {\n",
       "        text-align: right;\n",
       "    }\n",
       "</style>\n",
       "<table border=\"1\" class=\"dataframe\">\n",
       "  <thead>\n",
       "    <tr style=\"text-align: right;\">\n",
       "      <th></th>\n",
       "      <th>A2</th>\n",
       "      <th>A3</th>\n",
       "      <th>A8</th>\n",
       "      <th>A11</th>\n",
       "      <th>A14</th>\n",
       "      <th>A15</th>\n",
       "    </tr>\n",
       "  </thead>\n",
       "  <tbody>\n",
       "    <tr>\n",
       "      <th>count</th>\n",
       "      <td>678.000</td>\n",
       "      <td>690.000</td>\n",
       "      <td>690.000</td>\n",
       "      <td>690.000</td>\n",
       "      <td>677.000</td>\n",
       "      <td>690.000</td>\n",
       "    </tr>\n",
       "    <tr>\n",
       "      <th>mean</th>\n",
       "      <td>31.568</td>\n",
       "      <td>4.759</td>\n",
       "      <td>2.223</td>\n",
       "      <td>2.400</td>\n",
       "      <td>184.015</td>\n",
       "      <td>1017.386</td>\n",
       "    </tr>\n",
       "    <tr>\n",
       "      <th>std</th>\n",
       "      <td>11.958</td>\n",
       "      <td>4.978</td>\n",
       "      <td>3.347</td>\n",
       "      <td>4.863</td>\n",
       "      <td>173.807</td>\n",
       "      <td>5210.103</td>\n",
       "    </tr>\n",
       "    <tr>\n",
       "      <th>min</th>\n",
       "      <td>13.750</td>\n",
       "      <td>0.000</td>\n",
       "      <td>0.000</td>\n",
       "      <td>0.000</td>\n",
       "      <td>0.000</td>\n",
       "      <td>0.000</td>\n",
       "    </tr>\n",
       "    <tr>\n",
       "      <th>25%</th>\n",
       "      <td>22.602</td>\n",
       "      <td>1.000</td>\n",
       "      <td>0.165</td>\n",
       "      <td>0.000</td>\n",
       "      <td>75.000</td>\n",
       "      <td>0.000</td>\n",
       "    </tr>\n",
       "    <tr>\n",
       "      <th>50%</th>\n",
       "      <td>28.460</td>\n",
       "      <td>2.750</td>\n",
       "      <td>1.000</td>\n",
       "      <td>0.000</td>\n",
       "      <td>160.000</td>\n",
       "      <td>5.000</td>\n",
       "    </tr>\n",
       "    <tr>\n",
       "      <th>75%</th>\n",
       "      <td>38.230</td>\n",
       "      <td>7.207</td>\n",
       "      <td>2.625</td>\n",
       "      <td>3.000</td>\n",
       "      <td>276.000</td>\n",
       "      <td>395.500</td>\n",
       "    </tr>\n",
       "    <tr>\n",
       "      <th>max</th>\n",
       "      <td>80.250</td>\n",
       "      <td>28.000</td>\n",
       "      <td>28.500</td>\n",
       "      <td>67.000</td>\n",
       "      <td>2000.000</td>\n",
       "      <td>100000.000</td>\n",
       "    </tr>\n",
       "  </tbody>\n",
       "</table>\n",
       "</div>"
      ],
      "text/plain": [
       "           A2      A3      A8     A11      A14        A15\n",
       "count 678.000 690.000 690.000 690.000  677.000    690.000\n",
       "mean   31.568   4.759   2.223   2.400  184.015   1017.386\n",
       "std    11.958   4.978   3.347   4.863  173.807   5210.103\n",
       "min    13.750   0.000   0.000   0.000    0.000      0.000\n",
       "25%    22.602   1.000   0.165   0.000   75.000      0.000\n",
       "50%    28.460   2.750   1.000   0.000  160.000      5.000\n",
       "75%    38.230   7.207   2.625   3.000  276.000    395.500\n",
       "max    80.250  28.000  28.500  67.000 2000.000 100000.000"
      ]
     },
     "execution_count": 131,
     "metadata": {
      "tags": []
     },
     "output_type": "execute_result"
    }
   ],
   "source": [
    "df.describe()"
   ]
  },
  {
   "cell_type": "code",
   "execution_count": 132,
   "metadata": {
    "colab": {
     "base_uri": "https://localhost:8080/",
     "height": 381
    },
    "colab_type": "code",
    "id": "EW32B9DZGkow",
    "outputId": "aad6ee7b-50fb-41b2-e186-4f8d4f84edf8"
   },
   "outputs": [
    {
     "name": "stdout",
     "output_type": "stream",
     "text": [
      "<class 'pandas.core.frame.DataFrame'>\n",
      "RangeIndex: 690 entries, 0 to 689\n",
      "Data columns (total 16 columns):\n",
      "A1     678 non-null object\n",
      "A2     678 non-null float64\n",
      "A3     690 non-null float64\n",
      "A4     684 non-null object\n",
      "A5     684 non-null object\n",
      "A6     681 non-null object\n",
      "A7     681 non-null object\n",
      "A8     690 non-null float64\n",
      "A9     690 non-null object\n",
      "A10    690 non-null object\n",
      "A11    690 non-null int64\n",
      "A12    690 non-null object\n",
      "A13    690 non-null object\n",
      "A14    677 non-null float64\n",
      "A15    690 non-null int64\n",
      "A16    690 non-null object\n",
      "dtypes: float64(4), int64(2), object(10)\n",
      "memory usage: 86.3+ KB\n"
     ]
    }
   ],
   "source": [
    "df.info()"
   ]
  },
  {
   "cell_type": "code",
   "execution_count": 133,
   "metadata": {
    "colab": {
     "base_uri": "https://localhost:8080/",
     "height": 901
    },
    "colab_type": "code",
    "id": "1TfRaUz-EUm6",
    "outputId": "c392ce32-156d-4867-e8f6-5d399c510eac"
   },
   "outputs": [
    {
     "data": {
      "image/png": "[encoded data removed]",
      "text/plain": [
       "<Figure size 1080x1080 with 36 Axes>"
      ]
     },
     "metadata": {
      "tags": []
     },
     "output_type": "display_data"
    }
   ],
   "source": [
    "#pairplot to see distobutions\n",
    "pd.plotting.scatter_matrix(df.dropna(), figsize=(15,15));"
   ]
  },
  {
   "cell_type": "code",
   "execution_count": 134,
   "metadata": {
    "colab": {
     "base_uri": "https://localhost:8080/",
     "height": 301
    },
    "colab_type": "code",
    "id": "sXU-oRlLjXE4",
    "outputId": "bf32be5d-99ed-4c2c-98d0-8e4340427245"
   },
   "outputs": [
    {
     "data": {
      "text/plain": [
       "<matplotlib.axes._subplots.AxesSubplot at 0x7f65769d1978>"
      ]
     },
     "execution_count": 134,
     "metadata": {
      "tags": []
     },
     "output_type": "execute_result"
    },
    {
     "data": {
      "image/png": "[encoded data removed]",
      "text/plain": [
       "<Figure size 432x288 with 1 Axes>"
      ]
     },
     "metadata": {
      "tags": []
     },
     "output_type": "display_data"
    }
   ],
   "source": [
    "sns.distplot(df['A2'].dropna())"
   ]
  },
  {
   "cell_type": "code",
   "execution_count": 135,
   "metadata": {
    "colab": {
     "base_uri": "https://localhost:8080/",
     "height": 319
    },
    "colab_type": "code",
    "id": "LexilqWWgrEs",
    "outputId": "c032ae90-b479-41f8-bcc4-1812fdf95b4b"
   },
   "outputs": [
    {
     "data": {
      "text/plain": [
       "<matplotlib.axes._subplots.AxesSubplot at 0x7f657681a198>"
      ]
     },
     "execution_count": 135,
     "metadata": {
      "tags": []
     },
     "output_type": "execute_result"
    },
    {
     "data": {
      "image/png": "[encoded data removed]",
      "text/plain": [
       "<Figure size 432x288 with 1 Axes>"
      ]
     },
     "metadata": {
      "tags": []
     },
     "output_type": "display_data"
    }
   ],
   "source": [
    "df.boxplot(column='A15', by='A16')"
   ]
  },
  {
   "cell_type": "code",
   "execution_count": 0,
   "metadata": {
    "colab": {},
    "colab_type": "code",
    "id": "yIWdpOScIvSj"
   },
   "outputs": [],
   "source": [
    "#replacing some strings with ints\n",
    "map1 = {'a': 0, 'b': 1}\n",
    "map16 = {'-': 0, '+' : 1}\n",
    "df['A1'] = df['A1'].replace(map1)\n",
    "df['A16'] = df['A16'].replace(map16)"
   ]
  },
  {
   "cell_type": "code",
   "execution_count": 0,
   "metadata": {
    "colab": {},
    "colab_type": "code",
    "id": "pMyGsjzeJ69K"
   },
   "outputs": [],
   "source": [
    "map4 = {'u': 0, 'y': 1, 'l': 2}\n",
    "map9_12 = {'t': 0, 'f' : 1}\n",
    "map13 = {'g': 0, 's': 1, 'p': 2}\n",
    "\n",
    "df['A4'] = df['A4'].replace(map4)\n",
    "df['A9'] = df['A9'].replace(map9_12)\n",
    "df['A10'] = df['A10'].replace(map9_12)\n",
    "df['A12'] = df['A12'].replace(map9_12)\n",
    "df['A13'] = df['A13'].replace(map13)"
   ]
  },
  {
   "cell_type": "code",
   "execution_count": 138,
   "metadata": {
    "colab": {
     "base_uri": "https://localhost:8080/",
     "height": 202
    },
    "colab_type": "code",
    "id": "2K0eoRerJ1AX",
    "outputId": "6cd8ea52-5d9b-430b-ab7d-517699173b37"
   },
   "outputs": [
    {
     "data": {
      "text/html": [
       "<div>\n",
       "<style scoped>\n",
       "    .dataframe tbody tr th:only-of-type {\n",
       "        vertical-align: middle;\n",
       "    }\n",
       "\n",
       "    .dataframe tbody tr th {\n",
       "        vertical-align: top;\n",
       "    }\n",
       "\n",
       "    .dataframe thead th {\n",
       "        text-align: right;\n",
       "    }\n",
       "</style>\n",
       "<table border=\"1\" class=\"dataframe\">\n",
       "  <thead>\n",
       "    <tr style=\"text-align: right;\">\n",
       "      <th></th>\n",
       "      <th>A1</th>\n",
       "      <th>A2</th>\n",
       "      <th>A3</th>\n",
       "      <th>A4</th>\n",
       "      <th>A5</th>\n",
       "      <th>A6</th>\n",
       "      <th>A7</th>\n",
       "      <th>A8</th>\n",
       "      <th>A9</th>\n",
       "      <th>A10</th>\n",
       "      <th>A11</th>\n",
       "      <th>A12</th>\n",
       "      <th>A13</th>\n",
       "      <th>A14</th>\n",
       "      <th>A15</th>\n",
       "      <th>A16</th>\n",
       "    </tr>\n",
       "  </thead>\n",
       "  <tbody>\n",
       "    <tr>\n",
       "      <th>0</th>\n",
       "      <td>1.000</td>\n",
       "      <td>30.830</td>\n",
       "      <td>0.000</td>\n",
       "      <td>0.000</td>\n",
       "      <td>g</td>\n",
       "      <td>w</td>\n",
       "      <td>v</td>\n",
       "      <td>1.250</td>\n",
       "      <td>0</td>\n",
       "      <td>0</td>\n",
       "      <td>1</td>\n",
       "      <td>1</td>\n",
       "      <td>0</td>\n",
       "      <td>202.000</td>\n",
       "      <td>0</td>\n",
       "      <td>1</td>\n",
       "    </tr>\n",
       "    <tr>\n",
       "      <th>1</th>\n",
       "      <td>0.000</td>\n",
       "      <td>58.670</td>\n",
       "      <td>4.460</td>\n",
       "      <td>0.000</td>\n",
       "      <td>g</td>\n",
       "      <td>q</td>\n",
       "      <td>h</td>\n",
       "      <td>3.040</td>\n",
       "      <td>0</td>\n",
       "      <td>0</td>\n",
       "      <td>6</td>\n",
       "      <td>1</td>\n",
       "      <td>0</td>\n",
       "      <td>43.000</td>\n",
       "      <td>560</td>\n",
       "      <td>1</td>\n",
       "    </tr>\n",
       "    <tr>\n",
       "      <th>2</th>\n",
       "      <td>0.000</td>\n",
       "      <td>24.500</td>\n",
       "      <td>0.500</td>\n",
       "      <td>0.000</td>\n",
       "      <td>g</td>\n",
       "      <td>q</td>\n",
       "      <td>h</td>\n",
       "      <td>1.500</td>\n",
       "      <td>0</td>\n",
       "      <td>1</td>\n",
       "      <td>0</td>\n",
       "      <td>1</td>\n",
       "      <td>0</td>\n",
       "      <td>280.000</td>\n",
       "      <td>824</td>\n",
       "      <td>1</td>\n",
       "    </tr>\n",
       "    <tr>\n",
       "      <th>3</th>\n",
       "      <td>1.000</td>\n",
       "      <td>27.830</td>\n",
       "      <td>1.540</td>\n",
       "      <td>0.000</td>\n",
       "      <td>g</td>\n",
       "      <td>w</td>\n",
       "      <td>v</td>\n",
       "      <td>3.750</td>\n",
       "      <td>0</td>\n",
       "      <td>0</td>\n",
       "      <td>5</td>\n",
       "      <td>0</td>\n",
       "      <td>0</td>\n",
       "      <td>100.000</td>\n",
       "      <td>3</td>\n",
       "      <td>1</td>\n",
       "    </tr>\n",
       "    <tr>\n",
       "      <th>4</th>\n",
       "      <td>1.000</td>\n",
       "      <td>20.170</td>\n",
       "      <td>5.625</td>\n",
       "      <td>0.000</td>\n",
       "      <td>g</td>\n",
       "      <td>w</td>\n",
       "      <td>v</td>\n",
       "      <td>1.710</td>\n",
       "      <td>0</td>\n",
       "      <td>1</td>\n",
       "      <td>0</td>\n",
       "      <td>1</td>\n",
       "      <td>1</td>\n",
       "      <td>120.000</td>\n",
       "      <td>0</td>\n",
       "      <td>1</td>\n",
       "    </tr>\n",
       "  </tbody>\n",
       "</table>\n",
       "</div>"
      ],
      "text/plain": [
       "     A1     A2    A3    A4 A5 A6 A7  ...  A10  A11  A12  A13     A14  A15  A16\n",
       "0 1.000 30.830 0.000 0.000  g  w  v  ...    0    1    1    0 202.000    0    1\n",
       "1 0.000 58.670 4.460 0.000  g  q  h  ...    0    6    1    0  43.000  560    1\n",
       "2 0.000 24.500 0.500 0.000  g  q  h  ...    1    0    1    0 280.000  824    1\n",
       "3 1.000 27.830 1.540 0.000  g  w  v  ...    0    5    0    0 100.000    3    1\n",
       "4 1.000 20.170 5.625 0.000  g  w  v  ...    1    0    1    1 120.000    0    1\n",
       "\n",
       "[5 rows x 16 columns]"
      ]
     },
     "execution_count": 138,
     "metadata": {
      "tags": []
     },
     "output_type": "execute_result"
    }
   ],
   "source": [
    "df.head()"
   ]
  },
  {
   "cell_type": "code",
   "execution_count": 0,
   "metadata": {
    "colab": {},
    "colab_type": "code",
    "id": "lyRFN5azCqBv"
   },
   "outputs": [],
   "source": [
    "#splitting dataframe by the class variable\n",
    "approved = df[df['A16'] == 1]\n",
    "not_approved = df[df['A16'] == 0]"
   ]
  },
  {
   "cell_type": "code",
   "execution_count": 140,
   "metadata": {
    "colab": {
     "base_uri": "https://localhost:8080/",
     "height": 219
    },
    "colab_type": "code",
    "id": "pkf5S5HBFp_T",
    "outputId": "2b77f7b0-c47c-4b70-9d20-3805517ee52f"
   },
   "outputs": [
    {
     "name": "stdout",
     "output_type": "stream",
     "text": [
      "(307, 16)\n"
     ]
    },
    {
     "data": {
      "text/html": [
       "<div>\n",
       "<style scoped>\n",
       "    .dataframe tbody tr th:only-of-type {\n",
       "        vertical-align: middle;\n",
       "    }\n",
       "\n",
       "    .dataframe tbody tr th {\n",
       "        vertical-align: top;\n",
       "    }\n",
       "\n",
       "    .dataframe thead th {\n",
       "        text-align: right;\n",
       "    }\n",
       "</style>\n",
       "<table border=\"1\" class=\"dataframe\">\n",
       "  <thead>\n",
       "    <tr style=\"text-align: right;\">\n",
       "      <th></th>\n",
       "      <th>A1</th>\n",
       "      <th>A2</th>\n",
       "      <th>A3</th>\n",
       "      <th>A4</th>\n",
       "      <th>A5</th>\n",
       "      <th>A6</th>\n",
       "      <th>A7</th>\n",
       "      <th>A8</th>\n",
       "      <th>A9</th>\n",
       "      <th>A10</th>\n",
       "      <th>A11</th>\n",
       "      <th>A12</th>\n",
       "      <th>A13</th>\n",
       "      <th>A14</th>\n",
       "      <th>A15</th>\n",
       "      <th>A16</th>\n",
       "    </tr>\n",
       "  </thead>\n",
       "  <tbody>\n",
       "    <tr>\n",
       "      <th>0</th>\n",
       "      <td>1.000</td>\n",
       "      <td>30.830</td>\n",
       "      <td>0.000</td>\n",
       "      <td>0.000</td>\n",
       "      <td>g</td>\n",
       "      <td>w</td>\n",
       "      <td>v</td>\n",
       "      <td>1.250</td>\n",
       "      <td>0</td>\n",
       "      <td>0</td>\n",
       "      <td>1</td>\n",
       "      <td>1</td>\n",
       "      <td>0</td>\n",
       "      <td>202.000</td>\n",
       "      <td>0</td>\n",
       "      <td>1</td>\n",
       "    </tr>\n",
       "    <tr>\n",
       "      <th>1</th>\n",
       "      <td>0.000</td>\n",
       "      <td>58.670</td>\n",
       "      <td>4.460</td>\n",
       "      <td>0.000</td>\n",
       "      <td>g</td>\n",
       "      <td>q</td>\n",
       "      <td>h</td>\n",
       "      <td>3.040</td>\n",
       "      <td>0</td>\n",
       "      <td>0</td>\n",
       "      <td>6</td>\n",
       "      <td>1</td>\n",
       "      <td>0</td>\n",
       "      <td>43.000</td>\n",
       "      <td>560</td>\n",
       "      <td>1</td>\n",
       "    </tr>\n",
       "    <tr>\n",
       "      <th>2</th>\n",
       "      <td>0.000</td>\n",
       "      <td>24.500</td>\n",
       "      <td>0.500</td>\n",
       "      <td>0.000</td>\n",
       "      <td>g</td>\n",
       "      <td>q</td>\n",
       "      <td>h</td>\n",
       "      <td>1.500</td>\n",
       "      <td>0</td>\n",
       "      <td>1</td>\n",
       "      <td>0</td>\n",
       "      <td>1</td>\n",
       "      <td>0</td>\n",
       "      <td>280.000</td>\n",
       "      <td>824</td>\n",
       "      <td>1</td>\n",
       "    </tr>\n",
       "    <tr>\n",
       "      <th>3</th>\n",
       "      <td>1.000</td>\n",
       "      <td>27.830</td>\n",
       "      <td>1.540</td>\n",
       "      <td>0.000</td>\n",
       "      <td>g</td>\n",
       "      <td>w</td>\n",
       "      <td>v</td>\n",
       "      <td>3.750</td>\n",
       "      <td>0</td>\n",
       "      <td>0</td>\n",
       "      <td>5</td>\n",
       "      <td>0</td>\n",
       "      <td>0</td>\n",
       "      <td>100.000</td>\n",
       "      <td>3</td>\n",
       "      <td>1</td>\n",
       "    </tr>\n",
       "    <tr>\n",
       "      <th>4</th>\n",
       "      <td>1.000</td>\n",
       "      <td>20.170</td>\n",
       "      <td>5.625</td>\n",
       "      <td>0.000</td>\n",
       "      <td>g</td>\n",
       "      <td>w</td>\n",
       "      <td>v</td>\n",
       "      <td>1.710</td>\n",
       "      <td>0</td>\n",
       "      <td>1</td>\n",
       "      <td>0</td>\n",
       "      <td>1</td>\n",
       "      <td>1</td>\n",
       "      <td>120.000</td>\n",
       "      <td>0</td>\n",
       "      <td>1</td>\n",
       "    </tr>\n",
       "  </tbody>\n",
       "</table>\n",
       "</div>"
      ],
      "text/plain": [
       "     A1     A2    A3    A4 A5 A6 A7  ...  A10  A11  A12  A13     A14  A15  A16\n",
       "0 1.000 30.830 0.000 0.000  g  w  v  ...    0    1    1    0 202.000    0    1\n",
       "1 0.000 58.670 4.460 0.000  g  q  h  ...    0    6    1    0  43.000  560    1\n",
       "2 0.000 24.500 0.500 0.000  g  q  h  ...    1    0    1    0 280.000  824    1\n",
       "3 1.000 27.830 1.540 0.000  g  w  v  ...    0    5    0    0 100.000    3    1\n",
       "4 1.000 20.170 5.625 0.000  g  w  v  ...    1    0    1    1 120.000    0    1\n",
       "\n",
       "[5 rows x 16 columns]"
      ]
     },
     "execution_count": 140,
     "metadata": {
      "tags": []
     },
     "output_type": "execute_result"
    }
   ],
   "source": [
    "print(approved.shape)\n",
    "approved.head()"
   ]
  },
  {
   "cell_type": "code",
   "execution_count": 141,
   "metadata": {
    "colab": {
     "base_uri": "https://localhost:8080/",
     "height": 219
    },
    "colab_type": "code",
    "id": "vGu8q073LDZC",
    "outputId": "c75bdfb2-6f71-4947-fdd5-9120fca298b9"
   },
   "outputs": [
    {
     "name": "stdout",
     "output_type": "stream",
     "text": [
      "(383, 16)\n"
     ]
    },
    {
     "data": {
      "text/html": [
       "<div>\n",
       "<style scoped>\n",
       "    .dataframe tbody tr th:only-of-type {\n",
       "        vertical-align: middle;\n",
       "    }\n",
       "\n",
       "    .dataframe tbody tr th {\n",
       "        vertical-align: top;\n",
       "    }\n",
       "\n",
       "    .dataframe thead th {\n",
       "        text-align: right;\n",
       "    }\n",
       "</style>\n",
       "<table border=\"1\" class=\"dataframe\">\n",
       "  <thead>\n",
       "    <tr style=\"text-align: right;\">\n",
       "      <th></th>\n",
       "      <th>A1</th>\n",
       "      <th>A2</th>\n",
       "      <th>A3</th>\n",
       "      <th>A4</th>\n",
       "      <th>A5</th>\n",
       "      <th>A6</th>\n",
       "      <th>A7</th>\n",
       "      <th>A8</th>\n",
       "      <th>A9</th>\n",
       "      <th>A10</th>\n",
       "      <th>A11</th>\n",
       "      <th>A12</th>\n",
       "      <th>A13</th>\n",
       "      <th>A14</th>\n",
       "      <th>A15</th>\n",
       "      <th>A16</th>\n",
       "    </tr>\n",
       "  </thead>\n",
       "  <tbody>\n",
       "    <tr>\n",
       "      <th>70</th>\n",
       "      <td>1.000</td>\n",
       "      <td>32.330</td>\n",
       "      <td>7.500</td>\n",
       "      <td>0.000</td>\n",
       "      <td>g</td>\n",
       "      <td>e</td>\n",
       "      <td>bb</td>\n",
       "      <td>1.585</td>\n",
       "      <td>0</td>\n",
       "      <td>1</td>\n",
       "      <td>0</td>\n",
       "      <td>0</td>\n",
       "      <td>1</td>\n",
       "      <td>420.000</td>\n",
       "      <td>0</td>\n",
       "      <td>0</td>\n",
       "    </tr>\n",
       "    <tr>\n",
       "      <th>71</th>\n",
       "      <td>1.000</td>\n",
       "      <td>34.830</td>\n",
       "      <td>4.000</td>\n",
       "      <td>0.000</td>\n",
       "      <td>g</td>\n",
       "      <td>d</td>\n",
       "      <td>bb</td>\n",
       "      <td>12.500</td>\n",
       "      <td>0</td>\n",
       "      <td>1</td>\n",
       "      <td>0</td>\n",
       "      <td>0</td>\n",
       "      <td>0</td>\n",
       "      <td>nan</td>\n",
       "      <td>0</td>\n",
       "      <td>0</td>\n",
       "    </tr>\n",
       "    <tr>\n",
       "      <th>72</th>\n",
       "      <td>0.000</td>\n",
       "      <td>38.580</td>\n",
       "      <td>5.000</td>\n",
       "      <td>0.000</td>\n",
       "      <td>g</td>\n",
       "      <td>cc</td>\n",
       "      <td>v</td>\n",
       "      <td>13.500</td>\n",
       "      <td>0</td>\n",
       "      <td>1</td>\n",
       "      <td>0</td>\n",
       "      <td>0</td>\n",
       "      <td>0</td>\n",
       "      <td>980.000</td>\n",
       "      <td>0</td>\n",
       "      <td>0</td>\n",
       "    </tr>\n",
       "    <tr>\n",
       "      <th>73</th>\n",
       "      <td>1.000</td>\n",
       "      <td>44.250</td>\n",
       "      <td>0.500</td>\n",
       "      <td>0.000</td>\n",
       "      <td>g</td>\n",
       "      <td>m</td>\n",
       "      <td>v</td>\n",
       "      <td>10.750</td>\n",
       "      <td>0</td>\n",
       "      <td>1</td>\n",
       "      <td>0</td>\n",
       "      <td>1</td>\n",
       "      <td>1</td>\n",
       "      <td>400.000</td>\n",
       "      <td>0</td>\n",
       "      <td>0</td>\n",
       "    </tr>\n",
       "    <tr>\n",
       "      <th>74</th>\n",
       "      <td>1.000</td>\n",
       "      <td>44.830</td>\n",
       "      <td>7.000</td>\n",
       "      <td>1.000</td>\n",
       "      <td>p</td>\n",
       "      <td>c</td>\n",
       "      <td>v</td>\n",
       "      <td>1.625</td>\n",
       "      <td>1</td>\n",
       "      <td>1</td>\n",
       "      <td>0</td>\n",
       "      <td>1</td>\n",
       "      <td>0</td>\n",
       "      <td>160.000</td>\n",
       "      <td>2</td>\n",
       "      <td>0</td>\n",
       "    </tr>\n",
       "  </tbody>\n",
       "</table>\n",
       "</div>"
      ],
      "text/plain": [
       "      A1     A2    A3    A4 A5  A6  A7  ...  A10  A11  A12  A13     A14  A15  A16\n",
       "70 1.000 32.330 7.500 0.000  g   e  bb  ...    1    0    0    1 420.000    0    0\n",
       "71 1.000 34.830 4.000 0.000  g   d  bb  ...    1    0    0    0     nan    0    0\n",
       "72 0.000 38.580 5.000 0.000  g  cc   v  ...    1    0    0    0 980.000    0    0\n",
       "73 1.000 44.250 0.500 0.000  g   m   v  ...    1    0    1    1 400.000    0    0\n",
       "74 1.000 44.830 7.000 1.000  p   c   v  ...    1    0    1    0 160.000    2    0\n",
       "\n",
       "[5 rows x 16 columns]"
      ]
     },
     "execution_count": 141,
     "metadata": {
      "tags": []
     },
     "output_type": "execute_result"
    }
   ],
   "source": [
    "print(not_approved.shape)\n",
    "not_approved.head()"
   ]
  },
  {
   "cell_type": "code",
   "execution_count": 142,
   "metadata": {
    "colab": {
     "base_uri": "https://localhost:8080/",
     "height": 294
    },
    "colab_type": "code",
    "id": "gtBjfkt9K-9m",
    "outputId": "9c223f36-c270-4ffe-fb9b-d087725c8185"
   },
   "outputs": [
    {
     "data": {
      "text/html": [
       "<div>\n",
       "<style scoped>\n",
       "    .dataframe tbody tr th:only-of-type {\n",
       "        vertical-align: middle;\n",
       "    }\n",
       "\n",
       "    .dataframe tbody tr th {\n",
       "        vertical-align: top;\n",
       "    }\n",
       "\n",
       "    .dataframe thead th {\n",
       "        text-align: right;\n",
       "    }\n",
       "</style>\n",
       "<table border=\"1\" class=\"dataframe\">\n",
       "  <thead>\n",
       "    <tr style=\"text-align: right;\">\n",
       "      <th></th>\n",
       "      <th>A1</th>\n",
       "      <th>A2</th>\n",
       "      <th>A3</th>\n",
       "      <th>A4</th>\n",
       "      <th>A8</th>\n",
       "      <th>A9</th>\n",
       "      <th>A10</th>\n",
       "      <th>A11</th>\n",
       "      <th>A12</th>\n",
       "      <th>A13</th>\n",
       "      <th>A14</th>\n",
       "      <th>A15</th>\n",
       "      <th>A16</th>\n",
       "    </tr>\n",
       "  </thead>\n",
       "  <tbody>\n",
       "    <tr>\n",
       "      <th>count</th>\n",
       "      <td>304.000</td>\n",
       "      <td>305.000</td>\n",
       "      <td>307.000</td>\n",
       "      <td>303.000</td>\n",
       "      <td>307.000</td>\n",
       "      <td>307.000</td>\n",
       "      <td>307.000</td>\n",
       "      <td>307.000</td>\n",
       "      <td>307.000</td>\n",
       "      <td>307.000</td>\n",
       "      <td>301.000</td>\n",
       "      <td>307.000</td>\n",
       "      <td>307.000</td>\n",
       "    </tr>\n",
       "    <tr>\n",
       "      <th>mean</th>\n",
       "      <td>0.678</td>\n",
       "      <td>33.720</td>\n",
       "      <td>5.905</td>\n",
       "      <td>0.162</td>\n",
       "      <td>3.428</td>\n",
       "      <td>0.075</td>\n",
       "      <td>0.319</td>\n",
       "      <td>4.606</td>\n",
       "      <td>0.524</td>\n",
       "      <td>0.081</td>\n",
       "      <td>164.422</td>\n",
       "      <td>2038.860</td>\n",
       "      <td>1.000</td>\n",
       "    </tr>\n",
       "    <tr>\n",
       "      <th>std</th>\n",
       "      <td>0.468</td>\n",
       "      <td>12.810</td>\n",
       "      <td>5.471</td>\n",
       "      <td>0.386</td>\n",
       "      <td>4.121</td>\n",
       "      <td>0.264</td>\n",
       "      <td>0.467</td>\n",
       "      <td>6.320</td>\n",
       "      <td>0.500</td>\n",
       "      <td>0.328</td>\n",
       "      <td>161.771</td>\n",
       "      <td>7659.764</td>\n",
       "      <td>0.000</td>\n",
       "    </tr>\n",
       "    <tr>\n",
       "      <th>min</th>\n",
       "      <td>0.000</td>\n",
       "      <td>13.750</td>\n",
       "      <td>0.000</td>\n",
       "      <td>0.000</td>\n",
       "      <td>0.000</td>\n",
       "      <td>0.000</td>\n",
       "      <td>0.000</td>\n",
       "      <td>0.000</td>\n",
       "      <td>0.000</td>\n",
       "      <td>0.000</td>\n",
       "      <td>0.000</td>\n",
       "      <td>0.000</td>\n",
       "      <td>1.000</td>\n",
       "    </tr>\n",
       "    <tr>\n",
       "      <th>25%</th>\n",
       "      <td>0.000</td>\n",
       "      <td>23.170</td>\n",
       "      <td>1.500</td>\n",
       "      <td>0.000</td>\n",
       "      <td>0.750</td>\n",
       "      <td>0.000</td>\n",
       "      <td>0.000</td>\n",
       "      <td>0.000</td>\n",
       "      <td>0.000</td>\n",
       "      <td>0.000</td>\n",
       "      <td>0.000</td>\n",
       "      <td>0.000</td>\n",
       "      <td>1.000</td>\n",
       "    </tr>\n",
       "    <tr>\n",
       "      <th>50%</th>\n",
       "      <td>1.000</td>\n",
       "      <td>30.500</td>\n",
       "      <td>4.460</td>\n",
       "      <td>0.000</td>\n",
       "      <td>2.000</td>\n",
       "      <td>0.000</td>\n",
       "      <td>0.000</td>\n",
       "      <td>3.000</td>\n",
       "      <td>1.000</td>\n",
       "      <td>0.000</td>\n",
       "      <td>120.000</td>\n",
       "      <td>221.000</td>\n",
       "      <td>1.000</td>\n",
       "    </tr>\n",
       "    <tr>\n",
       "      <th>75%</th>\n",
       "      <td>1.000</td>\n",
       "      <td>41.330</td>\n",
       "      <td>9.520</td>\n",
       "      <td>0.000</td>\n",
       "      <td>5.000</td>\n",
       "      <td>0.000</td>\n",
       "      <td>1.000</td>\n",
       "      <td>7.000</td>\n",
       "      <td>1.000</td>\n",
       "      <td>0.000</td>\n",
       "      <td>280.000</td>\n",
       "      <td>1209.000</td>\n",
       "      <td>1.000</td>\n",
       "    </tr>\n",
       "    <tr>\n",
       "      <th>max</th>\n",
       "      <td>1.000</td>\n",
       "      <td>76.750</td>\n",
       "      <td>28.000</td>\n",
       "      <td>2.000</td>\n",
       "      <td>28.500</td>\n",
       "      <td>1.000</td>\n",
       "      <td>1.000</td>\n",
       "      <td>67.000</td>\n",
       "      <td>1.000</td>\n",
       "      <td>2.000</td>\n",
       "      <td>840.000</td>\n",
       "      <td>100000.000</td>\n",
       "      <td>1.000</td>\n",
       "    </tr>\n",
       "  </tbody>\n",
       "</table>\n",
       "</div>"
      ],
      "text/plain": [
       "           A1      A2      A3      A4  ...     A13     A14        A15     A16\n",
       "count 304.000 305.000 307.000 303.000  ... 307.000 301.000    307.000 307.000\n",
       "mean    0.678  33.720   5.905   0.162  ...   0.081 164.422   2038.860   1.000\n",
       "std     0.468  12.810   5.471   0.386  ...   0.328 161.771   7659.764   0.000\n",
       "min     0.000  13.750   0.000   0.000  ...   0.000   0.000      0.000   1.000\n",
       "25%     0.000  23.170   1.500   0.000  ...   0.000   0.000      0.000   1.000\n",
       "50%     1.000  30.500   4.460   0.000  ...   0.000 120.000    221.000   1.000\n",
       "75%     1.000  41.330   9.520   0.000  ...   0.000 280.000   1209.000   1.000\n",
       "max     1.000  76.750  28.000   2.000  ...   2.000 840.000 100000.000   1.000\n",
       "\n",
       "[8 rows x 13 columns]"
      ]
     },
     "execution_count": 142,
     "metadata": {
      "tags": []
     },
     "output_type": "execute_result"
    }
   ],
   "source": [
    "approved.describe()"
   ]
  },
  {
   "cell_type": "code",
   "execution_count": 143,
   "metadata": {
    "colab": {
     "base_uri": "https://localhost:8080/",
     "height": 294
    },
    "colab_type": "code",
    "id": "wlksUj8BLoPG",
    "outputId": "e944e2ef-a8a3-4c5e-d59c-a1f5da6f89e8"
   },
   "outputs": [
    {
     "data": {
      "text/html": [
       "<div>\n",
       "<style scoped>\n",
       "    .dataframe tbody tr th:only-of-type {\n",
       "        vertical-align: middle;\n",
       "    }\n",
       "\n",
       "    .dataframe tbody tr th {\n",
       "        vertical-align: top;\n",
       "    }\n",
       "\n",
       "    .dataframe thead th {\n",
       "        text-align: right;\n",
       "    }\n",
       "</style>\n",
       "<table border=\"1\" class=\"dataframe\">\n",
       "  <thead>\n",
       "    <tr style=\"text-align: right;\">\n",
       "      <th></th>\n",
       "      <th>A1</th>\n",
       "      <th>A2</th>\n",
       "      <th>A3</th>\n",
       "      <th>A4</th>\n",
       "      <th>A8</th>\n",
       "      <th>A9</th>\n",
       "      <th>A10</th>\n",
       "      <th>A11</th>\n",
       "      <th>A12</th>\n",
       "      <th>A13</th>\n",
       "      <th>A14</th>\n",
       "      <th>A15</th>\n",
       "      <th>A16</th>\n",
       "    </tr>\n",
       "  </thead>\n",
       "  <tbody>\n",
       "    <tr>\n",
       "      <th>count</th>\n",
       "      <td>374.000</td>\n",
       "      <td>373.000</td>\n",
       "      <td>383.000</td>\n",
       "      <td>381.000</td>\n",
       "      <td>383.000</td>\n",
       "      <td>383.000</td>\n",
       "      <td>383.000</td>\n",
       "      <td>383.000</td>\n",
       "      <td>383.000</td>\n",
       "      <td>383.000</td>\n",
       "      <td>376.000</td>\n",
       "      <td>383.000</td>\n",
       "      <td>383.000</td>\n",
       "    </tr>\n",
       "    <tr>\n",
       "      <th>mean</th>\n",
       "      <td>0.701</td>\n",
       "      <td>29.808</td>\n",
       "      <td>3.840</td>\n",
       "      <td>0.310</td>\n",
       "      <td>1.258</td>\n",
       "      <td>0.799</td>\n",
       "      <td>0.775</td>\n",
       "      <td>0.632</td>\n",
       "      <td>0.556</td>\n",
       "      <td>0.125</td>\n",
       "      <td>199.699</td>\n",
       "      <td>198.606</td>\n",
       "      <td>0.000</td>\n",
       "    </tr>\n",
       "    <tr>\n",
       "      <th>std</th>\n",
       "      <td>0.459</td>\n",
       "      <td>10.919</td>\n",
       "      <td>4.338</td>\n",
       "      <td>0.463</td>\n",
       "      <td>2.120</td>\n",
       "      <td>0.401</td>\n",
       "      <td>0.418</td>\n",
       "      <td>1.900</td>\n",
       "      <td>0.497</td>\n",
       "      <td>0.354</td>\n",
       "      <td>181.565</td>\n",
       "      <td>671.609</td>\n",
       "      <td>0.000</td>\n",
       "    </tr>\n",
       "    <tr>\n",
       "      <th>min</th>\n",
       "      <td>0.000</td>\n",
       "      <td>15.170</td>\n",
       "      <td>0.000</td>\n",
       "      <td>0.000</td>\n",
       "      <td>0.000</td>\n",
       "      <td>0.000</td>\n",
       "      <td>0.000</td>\n",
       "      <td>0.000</td>\n",
       "      <td>0.000</td>\n",
       "      <td>0.000</td>\n",
       "      <td>0.000</td>\n",
       "      <td>0.000</td>\n",
       "      <td>0.000</td>\n",
       "    </tr>\n",
       "    <tr>\n",
       "      <th>25%</th>\n",
       "      <td>0.000</td>\n",
       "      <td>22.000</td>\n",
       "      <td>0.835</td>\n",
       "      <td>0.000</td>\n",
       "      <td>0.125</td>\n",
       "      <td>1.000</td>\n",
       "      <td>1.000</td>\n",
       "      <td>0.000</td>\n",
       "      <td>0.000</td>\n",
       "      <td>0.000</td>\n",
       "      <td>100.000</td>\n",
       "      <td>0.000</td>\n",
       "      <td>0.000</td>\n",
       "    </tr>\n",
       "    <tr>\n",
       "      <th>50%</th>\n",
       "      <td>1.000</td>\n",
       "      <td>27.330</td>\n",
       "      <td>2.210</td>\n",
       "      <td>0.000</td>\n",
       "      <td>0.415</td>\n",
       "      <td>1.000</td>\n",
       "      <td>1.000</td>\n",
       "      <td>0.000</td>\n",
       "      <td>1.000</td>\n",
       "      <td>0.000</td>\n",
       "      <td>167.500</td>\n",
       "      <td>1.000</td>\n",
       "      <td>0.000</td>\n",
       "    </tr>\n",
       "    <tr>\n",
       "      <th>75%</th>\n",
       "      <td>1.000</td>\n",
       "      <td>34.830</td>\n",
       "      <td>5.000</td>\n",
       "      <td>1.000</td>\n",
       "      <td>1.500</td>\n",
       "      <td>1.000</td>\n",
       "      <td>1.000</td>\n",
       "      <td>0.000</td>\n",
       "      <td>1.000</td>\n",
       "      <td>0.000</td>\n",
       "      <td>272.000</td>\n",
       "      <td>67.000</td>\n",
       "      <td>0.000</td>\n",
       "    </tr>\n",
       "    <tr>\n",
       "      <th>max</th>\n",
       "      <td>1.000</td>\n",
       "      <td>80.250</td>\n",
       "      <td>26.335</td>\n",
       "      <td>1.000</td>\n",
       "      <td>13.875</td>\n",
       "      <td>1.000</td>\n",
       "      <td>1.000</td>\n",
       "      <td>20.000</td>\n",
       "      <td>1.000</td>\n",
       "      <td>2.000</td>\n",
       "      <td>2000.000</td>\n",
       "      <td>5552.000</td>\n",
       "      <td>0.000</td>\n",
       "    </tr>\n",
       "  </tbody>\n",
       "</table>\n",
       "</div>"
      ],
      "text/plain": [
       "           A1      A2      A3      A4  ...     A13      A14      A15     A16\n",
       "count 374.000 373.000 383.000 381.000  ... 383.000  376.000  383.000 383.000\n",
       "mean    0.701  29.808   3.840   0.310  ...   0.125  199.699  198.606   0.000\n",
       "std     0.459  10.919   4.338   0.463  ...   0.354  181.565  671.609   0.000\n",
       "min     0.000  15.170   0.000   0.000  ...   0.000    0.000    0.000   0.000\n",
       "25%     0.000  22.000   0.835   0.000  ...   0.000  100.000    0.000   0.000\n",
       "50%     1.000  27.330   2.210   0.000  ...   0.000  167.500    1.000   0.000\n",
       "75%     1.000  34.830   5.000   1.000  ...   0.000  272.000   67.000   0.000\n",
       "max     1.000  80.250  26.335   1.000  ...   2.000 2000.000 5552.000   0.000\n",
       "\n",
       "[8 rows x 13 columns]"
      ]
     },
     "execution_count": 143,
     "metadata": {
      "tags": []
     },
     "output_type": "execute_result"
    }
   ],
   "source": [
    "not_approved.describe()"
   ]
  },
  {
   "cell_type": "code",
   "execution_count": 144,
   "metadata": {
    "colab": {
     "base_uri": "https://localhost:8080/",
     "height": 283
    },
    "colab_type": "code",
    "id": "Ip5mZrncjfzz",
    "outputId": "a89116e9-8cbf-49c1-dc23-31d85896d271"
   },
   "outputs": [
    {
     "data": {
      "image/png": "[encoded data removed]",
      "text/plain": [
       "<Figure size 432x288 with 1 Axes>"
      ]
     },
     "metadata": {
      "tags": []
     },
     "output_type": "display_data"
    }
   ],
   "source": [
    "sns.distplot(approved['A2'].dropna(), color='g')\n",
    "sns.distplot(not_approved['A2'].dropna(), color='purple');"
   ]
  },
  {
   "cell_type": "code",
   "execution_count": 145,
   "metadata": {
    "colab": {
     "base_uri": "https://localhost:8080/",
     "height": 283
    },
    "colab_type": "code",
    "id": "Bb3iIiz2jynS",
    "outputId": "2092935c-cbfb-42c1-a605-4438cf5c00ce"
   },
   "outputs": [
    {
     "data": {
      "image/png": "[encoded data removed]",
      "text/plain": [
       "<Figure size 432x288 with 1 Axes>"
      ]
     },
     "metadata": {
      "tags": []
     },
     "output_type": "display_data"
    }
   ],
   "source": [
    "sns.distplot(approved['A3'].dropna(), color='b')\n",
    "sns.distplot(not_approved['A3'].dropna(), color='r');"
   ]
  },
  {
   "cell_type": "code",
   "execution_count": 146,
   "metadata": {
    "colab": {
     "base_uri": "https://localhost:8080/",
     "height": 283
    },
    "colab_type": "code",
    "id": "p3p-K4DejzHA",
    "outputId": "5ab91e75-ae52-4d69-923b-b76b6c48d6b4"
   },
   "outputs": [
    {
     "data": {
      "image/png": "[encoded data removed]",
      "text/plain": [
       "<Figure size 432x288 with 1 Axes>"
      ]
     },
     "metadata": {
      "tags": []
     },
     "output_type": "display_data"
    }
   ],
   "source": [
    "sns.distplot(approved['A14'].dropna(), color='magenta')\n",
    "sns.distplot(not_approved['A14'].dropna(), color='gold');"
   ]
  },
  {
   "cell_type": "code",
   "execution_count": 147,
   "metadata": {
    "colab": {
     "base_uri": "https://localhost:8080/",
     "height": 35
    },
    "colab_type": "code",
    "id": "y1htU8ICLq2_",
    "outputId": "ce631d05-4fe9-44be-e8be-ee531ef538e0"
   },
   "outputs": [
    {
     "data": {
      "text/plain": [
       "Ttest_indResult(statistic=4.2922156166315535, pvalue=2.0276637071781407e-05)"
      ]
     },
     "execution_count": 147,
     "metadata": {
      "tags": []
     },
     "output_type": "execute_result"
    }
   ],
   "source": [
    "stats.ttest_ind(approved['A2'], not_approved['A2'], nan_policy='omit')"
   ]
  },
  {
   "cell_type": "markdown",
   "metadata": {
    "colab_type": "text",
    "id": "47_RfMviL7OB"
   },
   "source": [
    "## T Tests\n",
    "\n",
    "### The null hypothesis on these featurs that there are no differences between the means of the two class labels.\n",
    "### The alt hypothesis is that THERE IS A DIFFERENCE between the means of both class labels\n"
   ]
  },
  {
   "cell_type": "code",
   "execution_count": 0,
   "metadata": {
    "colab": {},
    "colab_type": "code",
    "id": "gCjw27O8L9_R"
   },
   "outputs": [],
   "source": [
    "#function to run 2 sample t tests against both class variables\n",
    "def ttest(approved, not_approved):\n",
    "  cols = ['A2', 'A3', 'A8', 'A11', 'A14', 'A15']\n",
    "  for col in cols:\n",
    "    print('Column ' + col + ' T Statistic and P value')\n",
    "    print('Approved Mean ' + str(approved[col].mean()))\n",
    "    print('NOT Approved Mean ' + str(not_approved[col].mean()))\n",
    "    tstat, pval = stats.ttest_ind(approved[col], not_approved[col], nan_policy='omit')\n",
    "    print('T Stat ' + str(tstat))\n",
    "    print('P Value ' + str(pval))\n",
    "    print('---------------------------------------------')\n",
    "  "
   ]
  },
  {
   "cell_type": "code",
   "execution_count": 149,
   "metadata": {
    "colab": {
     "base_uri": "https://localhost:8080/",
     "height": 641
    },
    "colab_type": "code",
    "id": "Msxmu9GIL-pM",
    "outputId": "5f40ea0d-a3bd-4d71-9416-7cde382dcac6"
   },
   "outputs": [
    {
     "name": "stdout",
     "output_type": "stream",
     "text": [
      "Column A2 T Statistic and P value\n",
      "Approved Mean 33.7204918032787\n",
      "NOT Approved Mean 29.80823056300268\n",
      "T Stat 4.2922156166315535\n",
      "P Value 2.0276637071781407e-05\n",
      "---------------------------------------------\n",
      "Column A3 T Statistic and P value\n",
      "Approved Mean 5.904951140065144\n",
      "NOT Approved Mean 3.839947780678851\n",
      "T Stat 5.52998337614816\n",
      "P Value 4.551680702308068e-08\n",
      "---------------------------------------------\n",
      "Column A8 T Statistic and P value\n",
      "Approved Mean 3.427899022801302\n",
      "NOT Approved Mean 1.2579242819843346\n",
      "T Stat 8.935819983773698\n",
      "P Value 3.6710537401601785e-18\n",
      "---------------------------------------------\n",
      "Column A11 T Statistic and P value\n",
      "Approved Mean 4.605863192182411\n",
      "NOT Approved Mean 0.6318537859007833\n",
      "T Stat 11.667004222431277\n",
      "P Value 7.957718568079967e-29\n",
      "---------------------------------------------\n",
      "Column A14 T Statistic and P value\n",
      "Approved Mean 164.421926910299\n",
      "NOT Approved Mean 199.6994680851064\n",
      "T Stat -2.6358251986645476\n",
      "P Value 0.008586135473979569\n",
      "---------------------------------------------\n",
      "Column A15 T Statistic and P value\n",
      "Approved Mean 2038.85993485342\n",
      "NOT Approved Mean 198.60574412532637\n",
      "T Stat 4.680216020964486\n",
      "P Value 3.4520256956287944e-06\n",
      "---------------------------------------------\n"
     ]
    }
   ],
   "source": [
    "ttest(approved, not_approved)"
   ]
  },
  {
   "cell_type": "markdown",
   "metadata": {
    "colab_type": "text",
    "id": "UUKciKpUR5ir"
   },
   "source": [
    "### Every value has a P Value smaller than 0.05 (p < 0.05), thus we can *REJECT* the null hypothesis for this data"
   ]
  },
  {
   "cell_type": "markdown",
   "metadata": {
    "colab_type": "text",
    "id": "hcIwTBR4Tcuc"
   },
   "source": [
    "## Chi Squared"
   ]
  },
  {
   "cell_type": "code",
   "execution_count": 150,
   "metadata": {
    "colab": {
     "base_uri": "https://localhost:8080/",
     "height": 87
    },
    "colab_type": "code",
    "id": "OuKxiN7UL-rM",
    "outputId": "14133e81-1a5b-4e77-aaf8-6bbc7be51eeb"
   },
   "outputs": [
    {
     "name": "stdout",
     "output_type": "stream",
     "text": [
      "A4   0.000  1.000  2.000\n",
      "A16                     \n",
      "0    0.507  0.724  0.000\n",
      "1    0.493  0.276  1.000\n"
     ]
    }
   ],
   "source": [
    "#A16 -- 1= +    0= -\n",
    "\n",
    "print(pd.crosstab(df['A16'], df['A4'], normalize='columns'))"
   ]
  },
  {
   "cell_type": "code",
   "execution_count": 0,
   "metadata": {
    "colab": {},
    "colab_type": "code",
    "id": "pnbezqLnWEQu"
   },
   "outputs": [],
   "source": [
    "#function to do a simplke crosstab of all catigorical columns against the class variable\n",
    "def crosstabs(df):\n",
    "  cols = ['A1', 'A4', 'A5', 'A6', 'A7', 'A9', 'A10', 'A12', 'A13']\n",
    "  for col in cols:\n",
    "    print(pd.crosstab(df['A16'], df[col], normalize='columns'))\n",
    "    print('------------------------------------------')"
   ]
  },
  {
   "cell_type": "code",
   "execution_count": 152,
   "metadata": {
    "colab": {
     "base_uri": "https://localhost:8080/",
     "height": 832
    },
    "colab_type": "code",
    "id": "YvedF0oWWYk5",
    "outputId": "f2867d80-d536-4257-82dc-0b573c808ac3"
   },
   "outputs": [
    {
     "name": "stdout",
     "output_type": "stream",
     "text": [
      "A1   0.000  1.000\n",
      "A16              \n",
      "0    0.533  0.560\n",
      "1    0.467  0.440\n",
      "------------------------------------------\n",
      "A4   0.000  1.000  2.000\n",
      "A16                     \n",
      "0    0.507  0.724  0.000\n",
      "1    0.493  0.276  1.000\n",
      "------------------------------------------\n",
      "A5      g    gg     p\n",
      "A16                  \n",
      "0   0.507 0.000 0.724\n",
      "1   0.493 1.000 0.276\n",
      "------------------------------------------\n",
      "A6     aa     c    cc     d     e    ff  ...     k     m     q     r     w     x\n",
      "A16                                      ...                                    \n",
      "0   0.648 0.547 0.293 0.767 0.440 0.868  ... 0.725 0.579 0.346 0.333 0.484 0.158\n",
      "1   0.352 0.453 0.707 0.233 0.560 0.132  ... 0.275 0.421 0.654 0.667 0.516 0.842\n",
      "\n",
      "[2 rows x 14 columns]\n",
      "------------------------------------------\n",
      "A7     bb    dd    ff     h     j     n     o     v     z\n",
      "A16                                                      \n",
      "0   0.576 0.667 0.860 0.370 0.625 0.500 0.500 0.576 0.250\n",
      "1   0.424 0.333 0.140 0.630 0.375 0.500 0.500 0.424 0.750\n",
      "------------------------------------------\n",
      "A9      0     1\n",
      "A16            \n",
      "0   0.213 0.930\n",
      "1   0.787 0.070\n",
      "------------------------------------------\n",
      "A10     0     1\n",
      "A16            \n",
      "0   0.292 0.752\n",
      "1   0.708 0.248\n",
      "------------------------------------------\n",
      "A12     0     1\n",
      "A16            \n",
      "0   0.538 0.570\n",
      "1   0.462 0.430\n",
      "------------------------------------------\n",
      "A13     0     1     2\n",
      "A16                  \n",
      "0   0.541 0.737 0.375\n",
      "1   0.459 0.263 0.625\n",
      "------------------------------------------\n"
     ]
    }
   ],
   "source": [
    "crosstabs(df)"
   ]
  },
  {
   "cell_type": "code",
   "execution_count": 0,
   "metadata": {
    "colab": {},
    "colab_type": "code",
    "id": "F6lGxuepL-tW"
   },
   "outputs": [],
   "source": [
    "#fuction to run chi2 test on all columns against the class variable\n",
    "def chi_tests(df):\n",
    "  cols = ['A1', 'A4', 'A5', 'A6', 'A7', 'A9', 'A10', 'A12', 'A13']\n",
    "  for col in cols:\n",
    "    chi2, pval, dof, expt = stats.chi2_contingency(pd.crosstab(df['A16'], df[col]))\n",
    "    print(col)\n",
    "    print('Chi Squared: {}'.format(chi2))\n",
    "    print('P Value: {}'.format(pval))\n",
    "    print('Degrees of Freedom: {}'.format(dof))\n",
    "    print('Expected: {}'.format(expt))\n",
    "    print('-------------------------------------------------')"
   ]
  },
  {
   "cell_type": "code",
   "execution_count": 154,
   "metadata": {
    "colab": {
     "base_uri": "https://localhost:8080/",
     "height": 1000
    },
    "colab_type": "code",
    "id": "75wKqsDIL-vX",
    "outputId": "38f691db-d991-45b6-a20f-3cc5622f32ff"
   },
   "outputs": [
    {
     "name": "stdout",
     "output_type": "stream",
     "text": [
      "A1\n",
      "Chi Squared: 0.3112832649161994\n",
      "P Value: 0.5768937883001118\n",
      "Degrees of Freedom: 1\n",
      "Expected: [[115.84070796 258.15929204]\n",
      " [ 94.15929204 209.84070796]]\n",
      "-------------------------------------------------\n",
      "A4\n",
      "Chi Squared: 26.234074966202144\n",
      "P Value: 2.010680204180363e-06\n",
      "Degrees of Freedom: 2\n",
      "Expected: [[289.09210526  90.79385965   1.11403509]\n",
      " [229.90789474  72.20614035   0.88596491]]\n",
      "-------------------------------------------------\n",
      "A5\n",
      "Chi Squared: 26.234074966202144\n",
      "P Value: 2.010680204180363e-06\n",
      "Degrees of Freedom: 2\n",
      "Expected: [[289.09210526   1.11403509  90.79385965]\n",
      " [229.90789474   0.88596491  72.20614035]]\n",
      "-------------------------------------------------\n",
      "A6\n",
      "Chi Squared: 98.32520342679135\n",
      "P Value: 3.4999300402715717e-15\n",
      "Degrees of Freedom: 13\n",
      "Expected: [[29.97356828 76.04405286 22.75770925 16.65198238 13.87665198 29.4185022\n",
      "  32.74889868  5.55066079 28.30837004 21.09251101 43.29515419  1.66519824\n",
      "  35.52422907 21.09251101]\n",
      " [24.02643172 60.95594714 18.24229075 13.34801762 11.12334802 23.5814978\n",
      "  26.25110132  4.44933921 22.69162996 16.90748899 34.70484581  1.33480176\n",
      "  28.47577093 16.90748899]]\n",
      "-------------------------------------------------\n",
      "A7\n",
      "Chi Squared: 45.03420714024057\n",
      "P Value: 3.6254528723722447e-07\n",
      "Degrees of Freedom: 8\n",
      "Expected: [[ 32.74889868   3.33039648  31.63876652  76.59911894   4.44052863\n",
      "    2.22026432   1.11013216 221.47136564   4.44052863]\n",
      " [ 26.25110132   2.66960352  25.36123348  61.40088106   3.55947137\n",
      "    1.77973568   0.88986784 177.52863436   3.55947137]]\n",
      "-------------------------------------------------\n",
      "A9\n",
      "Chi Squared: 355.2038167412799\n",
      "P Value: 3.1185900878457007e-79\n",
      "Degrees of Freedom: 1\n",
      "Expected: [[200.38115942 182.61884058]\n",
      " [160.61884058 146.38115942]]\n",
      "-------------------------------------------------\n",
      "A10\n",
      "Chi Squared: 143.06956205083145\n",
      "P Value: 5.675727374527571e-33\n",
      "Degrees of Freedom: 1\n",
      "Expected: [[163.74637681 219.25362319]\n",
      " [131.25362319 175.74637681]]\n",
      "-------------------------------------------------\n",
      "A12\n",
      "Chi Squared: 0.568273300792113\n",
      "P Value: 0.45094587758631943\n",
      "Degrees of Freedom: 1\n",
      "Expected: [[175.40289855 207.59710145]\n",
      " [140.59710145 166.40289855]]\n",
      "-------------------------------------------------\n",
      "A13\n",
      "Chi Squared: 9.191570451545383\n",
      "P Value: 0.010094291370456362\n",
      "Degrees of Freedom: 2\n",
      "Expected: [[346.92028986  31.63913043   4.44057971]\n",
      " [278.07971014  25.36086957   3.55942029]]\n",
      "-------------------------------------------------\n"
     ]
    }
   ],
   "source": [
    "chi_tests(df)"
   ]
  },
  {
   "cell_type": "markdown",
   "metadata": {
    "colab_type": "text",
    "id": "ZM8JckA2bgnp"
   },
   "source": [
    "## Part 3 - Analysis and Interpretation\n",
    "\n",
    "Now that you've looked at the data, answer the following questions:\n",
    "\n",
    "- Interpret and explain the two t-tests you ran - what do they tell you about the relationships between the continuous features you selected and the class labels?\n",
    "- Interpret and explain the two Chi-squared tests you ran - what do they tell you about the relationships between the categorical features you selected and the class labels?\n",
    "- What was the most challenging part of this sprint challenge?\n",
    "\n",
    "Answer with text, but feel free to intersperse example code/results or refer to it from earlier."
   ]
  },
  {
   "cell_type": "markdown",
   "metadata": {
    "colab_type": "text",
    "id": "LIozLDNG2Uhu"
   },
   "source": [
    "#### 1) Not for just 2, but for all t-tests on all of the concontinuous features, the mean of the features for the approved (+) class label were always higher. Sometimes only slightly, and other times the difference was very large. In all cases the null hypotheses, stating that there is no difference between both class label means, is rejected using the 2 sample t-test. The feature that had the most difference between the 2 samples is A15. Overall the means of the approved class are higher than the means of the not approved class, exept for the column A14, which was the exeption(p value is still lower than 0.05).\n",
    "\n",
    "#### 2) Most features in the Chi^2 tests resulted in the null hypothesis for those features be Rejected. There is an exeption with Column 12, and column 1. In both of those columns, we *FAIL TO REJECT* the null hypothesis. It seems that 1, and 12 do not have a relationship with the class variable, and all of the other catigorical variables do. Column A13 also *came close* to having its null hypothesis fail to be rejected. \n",
    "\n",
    "\n",
    "#### Over all is seems to make sense that this data is split based on the class labels of either being approved or not. It is very likely that the data in those features is what contributed to the decisision to either approve or deny credit to someone. But there are also a handful of features that do not seem to have an infulence.  \n",
    "\n",
    "#### 3) This was a difficult sprint for me. I feel like statistics is a large subject to to cover in such a short time. I also feel like I might have missed doing something, as I did not create as many plots as I though I would have, and the ammount of coding I actally did seems kind of small. The hardest part for me is probably interpretation of the results. "
   ]
  }
 ],
 "metadata": {
  "colab": {
   "collapsed_sections": [],
   "name": "DS_Unit_1_Sprint_Challenge_3.ipynb",
   "provenance": [],
   "version": "0.3.2"
  },
  "kernelspec": {
   "display_name": "Python 3",
   "language": "python",
   "name": "python3"
  },
  "language_info": {
   "codemirror_mode": {
    "name": "ipython",
    "version": 3
   },
   "file_extension": ".py",
   "mimetype": "text/x-python",
   "name": "python",
   "nbconvert_exporter": "python",
   "pygments_lexer": "ipython3",
   "version": "3.7.3"
  }
 },
 "nbformat": 4,
 "nbformat_minor": 1
}
