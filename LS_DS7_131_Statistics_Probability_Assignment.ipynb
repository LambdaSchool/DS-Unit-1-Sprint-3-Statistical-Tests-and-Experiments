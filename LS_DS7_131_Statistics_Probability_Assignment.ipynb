{
  "nbformat": 4,
  "nbformat_minor": 0,
  "metadata": {
    "kernelspec": {
      "display_name": "Python 3",
      "language": "python",
      "name": "python3"
    },
    "language_info": {
      "codemirror_mode": {
        "name": "ipython",
        "version": 3
      },
      "file_extension": ".py",
      "mimetype": "text/x-python",
      "name": "python",
      "nbconvert_exporter": "python",
      "pygments_lexer": "ipython3",
      "version": "3.7.3"
    },
    "colab": {
      "name": "LS_DS7_131_Statistics_Probability_Assignment.ipynb",
      "version": "0.3.2",
      "provenance": [],
      "collapsed_sections": [],
      "include_colab_link": true
    }
  },
  "cells": [
    {
      "cell_type": "markdown",
      "metadata": {
        "id": "view-in-github",
        "colab_type": "text"
      },
      "source": [
        "<a href=\"https://colab.research.google.com/github/ldtownsend/DS-Unit-1-Sprint-3-Statistical-Tests-and-Experiments/blob/master/LS_DS7_131_Statistics_Probability_Assignment.ipynb\" target=\"_parent\"><img src=\"https://colab.research.google.com/assets/colab-badge.svg\" alt=\"Open In Colab\"/></a>"
      ]
    },
    {
      "cell_type": "markdown",
      "metadata": {
        "id": "kio1UBbCn_fr",
        "colab_type": "text"
      },
      "source": [
        "<img align=\"left\" src=\"https://lever-client-logos.s3.amazonaws.com/864372b1-534c-480e-acd5-9711f850815c-1524247202159.png\" width=200>\n",
        "<br></br>\n",
        "<br></br>\n",
        "\n",
        "## *Data Science Unit 1 Sprint 3 Assignment 1*\n",
        "\n",
        "# Apply the t-test to real data\n",
        "\n",
        "Your assignment is to determine which issues have \"statistically significant\" differences between political parties in this [1980s congressional voting data](https://archive.ics.uci.edu/ml/datasets/Congressional+Voting+Records). The data consists of 435 instances (one for each congressperson), a class (democrat or republican), and 16 binary attributes (yes or no for voting for or against certain issues). Be aware - there are missing values!\n",
        "\n",
        "Your goals:\n",
        "\n",
        "1. Load and clean the data (or determine the best method to drop observations when running tests)\n",
        "2. Using hypothesis testing, find an issue that democrats support more than republicans with p < 0.01\n",
        "3. Using hypothesis testing, find an issue that republicans support more than democrats with p < 0.01\n",
        "4. Using hypothesis testing, find an issue where the difference between republicans and democrats has p > 0.1 (i.e. there may not be much of a difference)\n",
        "\n",
        "Note that this data will involve *2 sample* t-tests, because you're comparing averages across two groups (republicans and democrats) rather than a single group against a null hypothesis.\n",
        "\n",
        "Stretch goals:\n",
        "\n",
        "1. Refactor your code into functions so it's easy to rerun with arbitrary variables\n",
        "2. Apply hypothesis testing to your personal project data (for the purposes of this notebook you can type a summary of the hypothesis you formed and tested)"
      ]
    },
    {
      "cell_type": "code",
      "metadata": {
        "id": "bwtycVINn_fw",
        "colab_type": "code",
        "outputId": "20b2881c-7eee-454d-b0c6-4f077a3611c9",
        "colab": {
          "base_uri": "https://localhost:8080/",
          "height": 208
        }
      },
      "source": [
        "!wget https://archive.ics.uci.edu/ml/machine-learning-databases/voting-records/house-votes-84.data"
      ],
      "execution_count": 1,
      "outputs": [
        {
          "output_type": "stream",
          "text": [
            "--2019-08-21 21:23:24--  https://archive.ics.uci.edu/ml/machine-learning-databases/voting-records/house-votes-84.data\n",
            "Resolving archive.ics.uci.edu (archive.ics.uci.edu)... 128.195.10.252\n",
            "Connecting to archive.ics.uci.edu (archive.ics.uci.edu)|128.195.10.252|:443... connected.\n",
            "HTTP request sent, awaiting response... 200 OK\n",
            "Length: 18171 (18K) [application/x-httpd-php]\n",
            "Saving to: ‘house-votes-84.data’\n",
            "\n",
            "house-votes-84.data 100%[===================>]  17.75K  --.-KB/s    in 0.06s   \n",
            "\n",
            "2019-08-21 21:23:24 (279 KB/s) - ‘house-votes-84.data’ saved [18171/18171]\n",
            "\n"
          ],
          "name": "stdout"
        }
      ]
    },
    {
      "cell_type": "code",
      "metadata": {
        "id": "G2tuZbm8zUMZ",
        "colab_type": "code",
        "colab": {}
      },
      "source": [
        "import pandas as pd\n",
        "import numpy as np\n",
        "import seaborn as sns\n",
        "import matplotlib as plt"
      ],
      "execution_count": 0,
      "outputs": []
    },
    {
      "cell_type": "code",
      "metadata": {
        "id": "RCVUfW54zKFe",
        "colab_type": "code",
        "outputId": "a58aefda-78b0-438c-8e96-0785aeef3b1c",
        "colab": {
          "base_uri": "https://localhost:8080/",
          "height": 274
        }
      },
      "source": [
        "# Load Data\n",
        "df = pd.read_csv('house-votes-84.data', \n",
        "                 header=None,\n",
        "                 names=['party','handicapped-infants','water-project',\n",
        "                          'budget','physician-fee-freeze', 'el-salvador-aid',\n",
        "                          'religious-groups','anti-satellite-ban',\n",
        "                          'aid-to-contras','mx-missile','immigration',\n",
        "                          'synfuels', 'education', 'right-to-sue','crime','duty-free',\n",
        "                          'south-africa'])\n",
        "print(df.shape)\n",
        "df.head()"
      ],
      "execution_count": 3,
      "outputs": [
        {
          "output_type": "stream",
          "text": [
            "(435, 17)\n"
          ],
          "name": "stdout"
        },
        {
          "output_type": "execute_result",
          "data": {
            "text/html": [
              "<div>\n",
              "<style scoped>\n",
              "    .dataframe tbody tr th:only-of-type {\n",
              "        vertical-align: middle;\n",
              "    }\n",
              "\n",
              "    .dataframe tbody tr th {\n",
              "        vertical-align: top;\n",
              "    }\n",
              "\n",
              "    .dataframe thead th {\n",
              "        text-align: right;\n",
              "    }\n",
              "</style>\n",
              "<table border=\"1\" class=\"dataframe\">\n",
              "  <thead>\n",
              "    <tr style=\"text-align: right;\">\n",
              "      <th></th>\n",
              "      <th>party</th>\n",
              "      <th>handicapped-infants</th>\n",
              "      <th>water-project</th>\n",
              "      <th>budget</th>\n",
              "      <th>physician-fee-freeze</th>\n",
              "      <th>el-salvador-aid</th>\n",
              "      <th>religious-groups</th>\n",
              "      <th>anti-satellite-ban</th>\n",
              "      <th>aid-to-contras</th>\n",
              "      <th>mx-missile</th>\n",
              "      <th>immigration</th>\n",
              "      <th>synfuels</th>\n",
              "      <th>education</th>\n",
              "      <th>right-to-sue</th>\n",
              "      <th>crime</th>\n",
              "      <th>duty-free</th>\n",
              "      <th>south-africa</th>\n",
              "    </tr>\n",
              "  </thead>\n",
              "  <tbody>\n",
              "    <tr>\n",
              "      <th>0</th>\n",
              "      <td>republican</td>\n",
              "      <td>n</td>\n",
              "      <td>y</td>\n",
              "      <td>n</td>\n",
              "      <td>y</td>\n",
              "      <td>y</td>\n",
              "      <td>y</td>\n",
              "      <td>n</td>\n",
              "      <td>n</td>\n",
              "      <td>n</td>\n",
              "      <td>y</td>\n",
              "      <td>?</td>\n",
              "      <td>y</td>\n",
              "      <td>y</td>\n",
              "      <td>y</td>\n",
              "      <td>n</td>\n",
              "      <td>y</td>\n",
              "    </tr>\n",
              "    <tr>\n",
              "      <th>1</th>\n",
              "      <td>republican</td>\n",
              "      <td>n</td>\n",
              "      <td>y</td>\n",
              "      <td>n</td>\n",
              "      <td>y</td>\n",
              "      <td>y</td>\n",
              "      <td>y</td>\n",
              "      <td>n</td>\n",
              "      <td>n</td>\n",
              "      <td>n</td>\n",
              "      <td>n</td>\n",
              "      <td>n</td>\n",
              "      <td>y</td>\n",
              "      <td>y</td>\n",
              "      <td>y</td>\n",
              "      <td>n</td>\n",
              "      <td>?</td>\n",
              "    </tr>\n",
              "    <tr>\n",
              "      <th>2</th>\n",
              "      <td>democrat</td>\n",
              "      <td>?</td>\n",
              "      <td>y</td>\n",
              "      <td>y</td>\n",
              "      <td>?</td>\n",
              "      <td>y</td>\n",
              "      <td>y</td>\n",
              "      <td>n</td>\n",
              "      <td>n</td>\n",
              "      <td>n</td>\n",
              "      <td>n</td>\n",
              "      <td>y</td>\n",
              "      <td>n</td>\n",
              "      <td>y</td>\n",
              "      <td>y</td>\n",
              "      <td>n</td>\n",
              "      <td>n</td>\n",
              "    </tr>\n",
              "    <tr>\n",
              "      <th>3</th>\n",
              "      <td>democrat</td>\n",
              "      <td>n</td>\n",
              "      <td>y</td>\n",
              "      <td>y</td>\n",
              "      <td>n</td>\n",
              "      <td>?</td>\n",
              "      <td>y</td>\n",
              "      <td>n</td>\n",
              "      <td>n</td>\n",
              "      <td>n</td>\n",
              "      <td>n</td>\n",
              "      <td>y</td>\n",
              "      <td>n</td>\n",
              "      <td>y</td>\n",
              "      <td>n</td>\n",
              "      <td>n</td>\n",
              "      <td>y</td>\n",
              "    </tr>\n",
              "    <tr>\n",
              "      <th>4</th>\n",
              "      <td>democrat</td>\n",
              "      <td>y</td>\n",
              "      <td>y</td>\n",
              "      <td>y</td>\n",
              "      <td>n</td>\n",
              "      <td>y</td>\n",
              "      <td>y</td>\n",
              "      <td>n</td>\n",
              "      <td>n</td>\n",
              "      <td>n</td>\n",
              "      <td>n</td>\n",
              "      <td>y</td>\n",
              "      <td>?</td>\n",
              "      <td>y</td>\n",
              "      <td>y</td>\n",
              "      <td>y</td>\n",
              "      <td>y</td>\n",
              "    </tr>\n",
              "  </tbody>\n",
              "</table>\n",
              "</div>"
            ],
            "text/plain": [
              "        party handicapped-infants water-project  ... crime duty-free south-africa\n",
              "0  republican                   n             y  ...     y         n            y\n",
              "1  republican                   n             y  ...     y         n            ?\n",
              "2    democrat                   ?             y  ...     y         n            n\n",
              "3    democrat                   n             y  ...     n         n            y\n",
              "4    democrat                   y             y  ...     y         y            y\n",
              "\n",
              "[5 rows x 17 columns]"
            ]
          },
          "metadata": {
            "tags": []
          },
          "execution_count": 3
        }
      ]
    },
    {
      "cell_type": "code",
      "metadata": {
        "id": "57BMYlqnzSqe",
        "colab_type": "code",
        "outputId": "bb929185-bb0f-4e66-b0ea-f3a9ab9c1d5f",
        "colab": {
          "base_uri": "https://localhost:8080/",
          "height": 257
        }
      },
      "source": [
        "df = df.replace({'?':np.NaN, 'n':0, 'y':1})\n",
        "\n",
        "df.head()"
      ],
      "execution_count": 4,
      "outputs": [
        {
          "output_type": "execute_result",
          "data": {
            "text/html": [
              "<div>\n",
              "<style scoped>\n",
              "    .dataframe tbody tr th:only-of-type {\n",
              "        vertical-align: middle;\n",
              "    }\n",
              "\n",
              "    .dataframe tbody tr th {\n",
              "        vertical-align: top;\n",
              "    }\n",
              "\n",
              "    .dataframe thead th {\n",
              "        text-align: right;\n",
              "    }\n",
              "</style>\n",
              "<table border=\"1\" class=\"dataframe\">\n",
              "  <thead>\n",
              "    <tr style=\"text-align: right;\">\n",
              "      <th></th>\n",
              "      <th>party</th>\n",
              "      <th>handicapped-infants</th>\n",
              "      <th>water-project</th>\n",
              "      <th>budget</th>\n",
              "      <th>physician-fee-freeze</th>\n",
              "      <th>el-salvador-aid</th>\n",
              "      <th>religious-groups</th>\n",
              "      <th>anti-satellite-ban</th>\n",
              "      <th>aid-to-contras</th>\n",
              "      <th>mx-missile</th>\n",
              "      <th>immigration</th>\n",
              "      <th>synfuels</th>\n",
              "      <th>education</th>\n",
              "      <th>right-to-sue</th>\n",
              "      <th>crime</th>\n",
              "      <th>duty-free</th>\n",
              "      <th>south-africa</th>\n",
              "    </tr>\n",
              "  </thead>\n",
              "  <tbody>\n",
              "    <tr>\n",
              "      <th>0</th>\n",
              "      <td>republican</td>\n",
              "      <td>0.0</td>\n",
              "      <td>1.0</td>\n",
              "      <td>0.0</td>\n",
              "      <td>1.0</td>\n",
              "      <td>1.0</td>\n",
              "      <td>1.0</td>\n",
              "      <td>0.0</td>\n",
              "      <td>0.0</td>\n",
              "      <td>0.0</td>\n",
              "      <td>1.0</td>\n",
              "      <td>NaN</td>\n",
              "      <td>1.0</td>\n",
              "      <td>1.0</td>\n",
              "      <td>1.0</td>\n",
              "      <td>0.0</td>\n",
              "      <td>1.0</td>\n",
              "    </tr>\n",
              "    <tr>\n",
              "      <th>1</th>\n",
              "      <td>republican</td>\n",
              "      <td>0.0</td>\n",
              "      <td>1.0</td>\n",
              "      <td>0.0</td>\n",
              "      <td>1.0</td>\n",
              "      <td>1.0</td>\n",
              "      <td>1.0</td>\n",
              "      <td>0.0</td>\n",
              "      <td>0.0</td>\n",
              "      <td>0.0</td>\n",
              "      <td>0.0</td>\n",
              "      <td>0.0</td>\n",
              "      <td>1.0</td>\n",
              "      <td>1.0</td>\n",
              "      <td>1.0</td>\n",
              "      <td>0.0</td>\n",
              "      <td>NaN</td>\n",
              "    </tr>\n",
              "    <tr>\n",
              "      <th>2</th>\n",
              "      <td>democrat</td>\n",
              "      <td>NaN</td>\n",
              "      <td>1.0</td>\n",
              "      <td>1.0</td>\n",
              "      <td>NaN</td>\n",
              "      <td>1.0</td>\n",
              "      <td>1.0</td>\n",
              "      <td>0.0</td>\n",
              "      <td>0.0</td>\n",
              "      <td>0.0</td>\n",
              "      <td>0.0</td>\n",
              "      <td>1.0</td>\n",
              "      <td>0.0</td>\n",
              "      <td>1.0</td>\n",
              "      <td>1.0</td>\n",
              "      <td>0.0</td>\n",
              "      <td>0.0</td>\n",
              "    </tr>\n",
              "    <tr>\n",
              "      <th>3</th>\n",
              "      <td>democrat</td>\n",
              "      <td>0.0</td>\n",
              "      <td>1.0</td>\n",
              "      <td>1.0</td>\n",
              "      <td>0.0</td>\n",
              "      <td>NaN</td>\n",
              "      <td>1.0</td>\n",
              "      <td>0.0</td>\n",
              "      <td>0.0</td>\n",
              "      <td>0.0</td>\n",
              "      <td>0.0</td>\n",
              "      <td>1.0</td>\n",
              "      <td>0.0</td>\n",
              "      <td>1.0</td>\n",
              "      <td>0.0</td>\n",
              "      <td>0.0</td>\n",
              "      <td>1.0</td>\n",
              "    </tr>\n",
              "    <tr>\n",
              "      <th>4</th>\n",
              "      <td>democrat</td>\n",
              "      <td>1.0</td>\n",
              "      <td>1.0</td>\n",
              "      <td>1.0</td>\n",
              "      <td>0.0</td>\n",
              "      <td>1.0</td>\n",
              "      <td>1.0</td>\n",
              "      <td>0.0</td>\n",
              "      <td>0.0</td>\n",
              "      <td>0.0</td>\n",
              "      <td>0.0</td>\n",
              "      <td>1.0</td>\n",
              "      <td>NaN</td>\n",
              "      <td>1.0</td>\n",
              "      <td>1.0</td>\n",
              "      <td>1.0</td>\n",
              "      <td>1.0</td>\n",
              "    </tr>\n",
              "  </tbody>\n",
              "</table>\n",
              "</div>"
            ],
            "text/plain": [
              "        party  handicapped-infants  ...  duty-free  south-africa\n",
              "0  republican                  0.0  ...        0.0           1.0\n",
              "1  republican                  0.0  ...        0.0           NaN\n",
              "2    democrat                  NaN  ...        0.0           0.0\n",
              "3    democrat                  0.0  ...        0.0           1.0\n",
              "4    democrat                  1.0  ...        1.0           1.0\n",
              "\n",
              "[5 rows x 17 columns]"
            ]
          },
          "metadata": {
            "tags": []
          },
          "execution_count": 4
        }
      ]
    },
    {
      "cell_type": "code",
      "metadata": {
        "id": "RE42bIZt1Ny8",
        "colab_type": "code",
        "outputId": "25c953e2-bbe5-43b7-9bdd-205863a3853f",
        "colab": {
          "base_uri": "https://localhost:8080/",
          "height": 329
        }
      },
      "source": [
        "df.isnull().sum()"
      ],
      "execution_count": 5,
      "outputs": [
        {
          "output_type": "execute_result",
          "data": {
            "text/plain": [
              "party                     0\n",
              "handicapped-infants      12\n",
              "water-project            48\n",
              "budget                   11\n",
              "physician-fee-freeze     11\n",
              "el-salvador-aid          15\n",
              "religious-groups         11\n",
              "anti-satellite-ban       14\n",
              "aid-to-contras           15\n",
              "mx-missile               22\n",
              "immigration               7\n",
              "synfuels                 21\n",
              "education                31\n",
              "right-to-sue             25\n",
              "crime                    17\n",
              "duty-free                28\n",
              "south-africa            104\n",
              "dtype: int64"
            ]
          },
          "metadata": {
            "tags": []
          },
          "execution_count": 5
        }
      ]
    },
    {
      "cell_type": "code",
      "metadata": {
        "id": "hw393X5O1RQP",
        "colab_type": "code",
        "outputId": "b837e632-c36f-42d1-cceb-00f98939d67a",
        "colab": {
          "base_uri": "https://localhost:8080/",
          "height": 274
        }
      },
      "source": [
        "rep = df[df.party == \"republican\"]\n",
        "print(rep.shape)\n",
        "rep.head()"
      ],
      "execution_count": 6,
      "outputs": [
        {
          "output_type": "stream",
          "text": [
            "(168, 17)\n"
          ],
          "name": "stdout"
        },
        {
          "output_type": "execute_result",
          "data": {
            "text/html": [
              "<div>\n",
              "<style scoped>\n",
              "    .dataframe tbody tr th:only-of-type {\n",
              "        vertical-align: middle;\n",
              "    }\n",
              "\n",
              "    .dataframe tbody tr th {\n",
              "        vertical-align: top;\n",
              "    }\n",
              "\n",
              "    .dataframe thead th {\n",
              "        text-align: right;\n",
              "    }\n",
              "</style>\n",
              "<table border=\"1\" class=\"dataframe\">\n",
              "  <thead>\n",
              "    <tr style=\"text-align: right;\">\n",
              "      <th></th>\n",
              "      <th>party</th>\n",
              "      <th>handicapped-infants</th>\n",
              "      <th>water-project</th>\n",
              "      <th>budget</th>\n",
              "      <th>physician-fee-freeze</th>\n",
              "      <th>el-salvador-aid</th>\n",
              "      <th>religious-groups</th>\n",
              "      <th>anti-satellite-ban</th>\n",
              "      <th>aid-to-contras</th>\n",
              "      <th>mx-missile</th>\n",
              "      <th>immigration</th>\n",
              "      <th>synfuels</th>\n",
              "      <th>education</th>\n",
              "      <th>right-to-sue</th>\n",
              "      <th>crime</th>\n",
              "      <th>duty-free</th>\n",
              "      <th>south-africa</th>\n",
              "    </tr>\n",
              "  </thead>\n",
              "  <tbody>\n",
              "    <tr>\n",
              "      <th>0</th>\n",
              "      <td>republican</td>\n",
              "      <td>0.0</td>\n",
              "      <td>1.0</td>\n",
              "      <td>0.0</td>\n",
              "      <td>1.0</td>\n",
              "      <td>1.0</td>\n",
              "      <td>1.0</td>\n",
              "      <td>0.0</td>\n",
              "      <td>0.0</td>\n",
              "      <td>0.0</td>\n",
              "      <td>1.0</td>\n",
              "      <td>NaN</td>\n",
              "      <td>1.0</td>\n",
              "      <td>1.0</td>\n",
              "      <td>1.0</td>\n",
              "      <td>0.0</td>\n",
              "      <td>1.0</td>\n",
              "    </tr>\n",
              "    <tr>\n",
              "      <th>1</th>\n",
              "      <td>republican</td>\n",
              "      <td>0.0</td>\n",
              "      <td>1.0</td>\n",
              "      <td>0.0</td>\n",
              "      <td>1.0</td>\n",
              "      <td>1.0</td>\n",
              "      <td>1.0</td>\n",
              "      <td>0.0</td>\n",
              "      <td>0.0</td>\n",
              "      <td>0.0</td>\n",
              "      <td>0.0</td>\n",
              "      <td>0.0</td>\n",
              "      <td>1.0</td>\n",
              "      <td>1.0</td>\n",
              "      <td>1.0</td>\n",
              "      <td>0.0</td>\n",
              "      <td>NaN</td>\n",
              "    </tr>\n",
              "    <tr>\n",
              "      <th>7</th>\n",
              "      <td>republican</td>\n",
              "      <td>0.0</td>\n",
              "      <td>1.0</td>\n",
              "      <td>0.0</td>\n",
              "      <td>1.0</td>\n",
              "      <td>1.0</td>\n",
              "      <td>1.0</td>\n",
              "      <td>0.0</td>\n",
              "      <td>0.0</td>\n",
              "      <td>0.0</td>\n",
              "      <td>0.0</td>\n",
              "      <td>0.0</td>\n",
              "      <td>0.0</td>\n",
              "      <td>1.0</td>\n",
              "      <td>1.0</td>\n",
              "      <td>NaN</td>\n",
              "      <td>1.0</td>\n",
              "    </tr>\n",
              "    <tr>\n",
              "      <th>8</th>\n",
              "      <td>republican</td>\n",
              "      <td>0.0</td>\n",
              "      <td>1.0</td>\n",
              "      <td>0.0</td>\n",
              "      <td>1.0</td>\n",
              "      <td>1.0</td>\n",
              "      <td>1.0</td>\n",
              "      <td>0.0</td>\n",
              "      <td>0.0</td>\n",
              "      <td>0.0</td>\n",
              "      <td>0.0</td>\n",
              "      <td>0.0</td>\n",
              "      <td>1.0</td>\n",
              "      <td>1.0</td>\n",
              "      <td>1.0</td>\n",
              "      <td>0.0</td>\n",
              "      <td>1.0</td>\n",
              "    </tr>\n",
              "    <tr>\n",
              "      <th>10</th>\n",
              "      <td>republican</td>\n",
              "      <td>0.0</td>\n",
              "      <td>1.0</td>\n",
              "      <td>0.0</td>\n",
              "      <td>1.0</td>\n",
              "      <td>1.0</td>\n",
              "      <td>0.0</td>\n",
              "      <td>0.0</td>\n",
              "      <td>0.0</td>\n",
              "      <td>0.0</td>\n",
              "      <td>0.0</td>\n",
              "      <td>NaN</td>\n",
              "      <td>NaN</td>\n",
              "      <td>1.0</td>\n",
              "      <td>1.0</td>\n",
              "      <td>0.0</td>\n",
              "      <td>0.0</td>\n",
              "    </tr>\n",
              "  </tbody>\n",
              "</table>\n",
              "</div>"
            ],
            "text/plain": [
              "         party  handicapped-infants  ...  duty-free  south-africa\n",
              "0   republican                  0.0  ...        0.0           1.0\n",
              "1   republican                  0.0  ...        0.0           NaN\n",
              "7   republican                  0.0  ...        NaN           1.0\n",
              "8   republican                  0.0  ...        0.0           1.0\n",
              "10  republican                  0.0  ...        0.0           0.0\n",
              "\n",
              "[5 rows x 17 columns]"
            ]
          },
          "metadata": {
            "tags": []
          },
          "execution_count": 6
        }
      ]
    },
    {
      "cell_type": "code",
      "metadata": {
        "id": "qTDccvbP1Umh",
        "colab_type": "code",
        "outputId": "6409fb55-cd3c-47d7-8510-7f0610bdb655",
        "colab": {
          "base_uri": "https://localhost:8080/",
          "height": 274
        }
      },
      "source": [
        "dem = df[df.party == \"democrat\"]\n",
        "print(dem.shape)\n",
        "dem.head()"
      ],
      "execution_count": 7,
      "outputs": [
        {
          "output_type": "stream",
          "text": [
            "(267, 17)\n"
          ],
          "name": "stdout"
        },
        {
          "output_type": "execute_result",
          "data": {
            "text/html": [
              "<div>\n",
              "<style scoped>\n",
              "    .dataframe tbody tr th:only-of-type {\n",
              "        vertical-align: middle;\n",
              "    }\n",
              "\n",
              "    .dataframe tbody tr th {\n",
              "        vertical-align: top;\n",
              "    }\n",
              "\n",
              "    .dataframe thead th {\n",
              "        text-align: right;\n",
              "    }\n",
              "</style>\n",
              "<table border=\"1\" class=\"dataframe\">\n",
              "  <thead>\n",
              "    <tr style=\"text-align: right;\">\n",
              "      <th></th>\n",
              "      <th>party</th>\n",
              "      <th>handicapped-infants</th>\n",
              "      <th>water-project</th>\n",
              "      <th>budget</th>\n",
              "      <th>physician-fee-freeze</th>\n",
              "      <th>el-salvador-aid</th>\n",
              "      <th>religious-groups</th>\n",
              "      <th>anti-satellite-ban</th>\n",
              "      <th>aid-to-contras</th>\n",
              "      <th>mx-missile</th>\n",
              "      <th>immigration</th>\n",
              "      <th>synfuels</th>\n",
              "      <th>education</th>\n",
              "      <th>right-to-sue</th>\n",
              "      <th>crime</th>\n",
              "      <th>duty-free</th>\n",
              "      <th>south-africa</th>\n",
              "    </tr>\n",
              "  </thead>\n",
              "  <tbody>\n",
              "    <tr>\n",
              "      <th>2</th>\n",
              "      <td>democrat</td>\n",
              "      <td>NaN</td>\n",
              "      <td>1.0</td>\n",
              "      <td>1.0</td>\n",
              "      <td>NaN</td>\n",
              "      <td>1.0</td>\n",
              "      <td>1.0</td>\n",
              "      <td>0.0</td>\n",
              "      <td>0.0</td>\n",
              "      <td>0.0</td>\n",
              "      <td>0.0</td>\n",
              "      <td>1.0</td>\n",
              "      <td>0.0</td>\n",
              "      <td>1.0</td>\n",
              "      <td>1.0</td>\n",
              "      <td>0.0</td>\n",
              "      <td>0.0</td>\n",
              "    </tr>\n",
              "    <tr>\n",
              "      <th>3</th>\n",
              "      <td>democrat</td>\n",
              "      <td>0.0</td>\n",
              "      <td>1.0</td>\n",
              "      <td>1.0</td>\n",
              "      <td>0.0</td>\n",
              "      <td>NaN</td>\n",
              "      <td>1.0</td>\n",
              "      <td>0.0</td>\n",
              "      <td>0.0</td>\n",
              "      <td>0.0</td>\n",
              "      <td>0.0</td>\n",
              "      <td>1.0</td>\n",
              "      <td>0.0</td>\n",
              "      <td>1.0</td>\n",
              "      <td>0.0</td>\n",
              "      <td>0.0</td>\n",
              "      <td>1.0</td>\n",
              "    </tr>\n",
              "    <tr>\n",
              "      <th>4</th>\n",
              "      <td>democrat</td>\n",
              "      <td>1.0</td>\n",
              "      <td>1.0</td>\n",
              "      <td>1.0</td>\n",
              "      <td>0.0</td>\n",
              "      <td>1.0</td>\n",
              "      <td>1.0</td>\n",
              "      <td>0.0</td>\n",
              "      <td>0.0</td>\n",
              "      <td>0.0</td>\n",
              "      <td>0.0</td>\n",
              "      <td>1.0</td>\n",
              "      <td>NaN</td>\n",
              "      <td>1.0</td>\n",
              "      <td>1.0</td>\n",
              "      <td>1.0</td>\n",
              "      <td>1.0</td>\n",
              "    </tr>\n",
              "    <tr>\n",
              "      <th>5</th>\n",
              "      <td>democrat</td>\n",
              "      <td>0.0</td>\n",
              "      <td>1.0</td>\n",
              "      <td>1.0</td>\n",
              "      <td>0.0</td>\n",
              "      <td>1.0</td>\n",
              "      <td>1.0</td>\n",
              "      <td>0.0</td>\n",
              "      <td>0.0</td>\n",
              "      <td>0.0</td>\n",
              "      <td>0.0</td>\n",
              "      <td>0.0</td>\n",
              "      <td>0.0</td>\n",
              "      <td>1.0</td>\n",
              "      <td>1.0</td>\n",
              "      <td>1.0</td>\n",
              "      <td>1.0</td>\n",
              "    </tr>\n",
              "    <tr>\n",
              "      <th>6</th>\n",
              "      <td>democrat</td>\n",
              "      <td>0.0</td>\n",
              "      <td>1.0</td>\n",
              "      <td>0.0</td>\n",
              "      <td>1.0</td>\n",
              "      <td>1.0</td>\n",
              "      <td>1.0</td>\n",
              "      <td>0.0</td>\n",
              "      <td>0.0</td>\n",
              "      <td>0.0</td>\n",
              "      <td>0.0</td>\n",
              "      <td>0.0</td>\n",
              "      <td>0.0</td>\n",
              "      <td>NaN</td>\n",
              "      <td>1.0</td>\n",
              "      <td>1.0</td>\n",
              "      <td>1.0</td>\n",
              "    </tr>\n",
              "  </tbody>\n",
              "</table>\n",
              "</div>"
            ],
            "text/plain": [
              "      party  handicapped-infants  water-project  ...  crime  duty-free  south-africa\n",
              "2  democrat                  NaN            1.0  ...    1.0        0.0           0.0\n",
              "3  democrat                  0.0            1.0  ...    0.0        0.0           1.0\n",
              "4  democrat                  1.0            1.0  ...    1.0        1.0           1.0\n",
              "5  democrat                  0.0            1.0  ...    1.0        1.0           1.0\n",
              "6  democrat                  0.0            1.0  ...    1.0        1.0           1.0\n",
              "\n",
              "[5 rows x 17 columns]"
            ]
          },
          "metadata": {
            "tags": []
          },
          "execution_count": 7
        }
      ]
    },
    {
      "cell_type": "code",
      "metadata": {
        "id": "3lD5smb02IXf",
        "colab_type": "code",
        "colab": {}
      },
      "source": [
        "from scipy.stats import ttest_1samp, ttest_ind"
      ],
      "execution_count": 0,
      "outputs": []
    },
    {
      "cell_type": "code",
      "metadata": {
        "id": "B8sWMA4LzUao",
        "colab_type": "code",
        "colab": {}
      },
      "source": [
        "?ttest_1samp"
      ],
      "execution_count": 0,
      "outputs": []
    },
    {
      "cell_type": "code",
      "metadata": {
        "id": "3fRMsIyQ1XHz",
        "colab_type": "code",
        "outputId": "1be0d300-d4c6-4c44-a89c-6ca944889aa8",
        "colab": {
          "base_uri": "https://localhost:8080/",
          "height": 35
        }
      },
      "source": [
        "ttest_ind(rep['handicapped-infants'], dem['handicapped-infants'], nan_policy='omit')"
      ],
      "execution_count": 10,
      "outputs": [
        {
          "output_type": "execute_result",
          "data": {
            "text/plain": [
              "Ttest_indResult(statistic=-9.205264294809222, pvalue=1.613440327937243e-18)"
            ]
          },
          "metadata": {
            "tags": []
          },
          "execution_count": 10
        }
      ]
    },
    {
      "cell_type": "code",
      "metadata": {
        "id": "3wejGi9z2ER4",
        "colab_type": "code",
        "outputId": "13d7e5b5-bbd0-4387-bf16-b5135cafe567",
        "colab": {
          "base_uri": "https://localhost:8080/",
          "height": 55
        }
      },
      "source": [
        "issues = list(df.columns.values)\n",
        "print(issues)"
      ],
      "execution_count": 11,
      "outputs": [
        {
          "output_type": "stream",
          "text": [
            "['party', 'handicapped-infants', 'water-project', 'budget', 'physician-fee-freeze', 'el-salvador-aid', 'religious-groups', 'anti-satellite-ban', 'aid-to-contras', 'mx-missile', 'immigration', 'synfuels', 'education', 'right-to-sue', 'crime', 'duty-free', 'south-africa']\n"
          ],
          "name": "stdout"
        }
      ]
    },
    {
      "cell_type": "code",
      "metadata": {
        "id": "PoMK6Hus293b",
        "colab_type": "code",
        "outputId": "bb770c10-983c-45e9-91ef-2c066456ce6b",
        "colab": {
          "base_uri": "https://localhost:8080/",
          "height": 295
        }
      },
      "source": [
        "issues.remove('party')\n",
        "issues"
      ],
      "execution_count": 12,
      "outputs": [
        {
          "output_type": "execute_result",
          "data": {
            "text/plain": [
              "['handicapped-infants',\n",
              " 'water-project',\n",
              " 'budget',\n",
              " 'physician-fee-freeze',\n",
              " 'el-salvador-aid',\n",
              " 'religious-groups',\n",
              " 'anti-satellite-ban',\n",
              " 'aid-to-contras',\n",
              " 'mx-missile',\n",
              " 'immigration',\n",
              " 'synfuels',\n",
              " 'education',\n",
              " 'right-to-sue',\n",
              " 'crime',\n",
              " 'duty-free',\n",
              " 'south-africa']"
            ]
          },
          "metadata": {
            "tags": []
          },
          "execution_count": 12
        }
      ]
    },
    {
      "cell_type": "code",
      "metadata": {
        "id": "MqlMOr2EDX5c",
        "colab_type": "code",
        "colab": {
          "base_uri": "https://localhost:8080/",
          "height": 539
        },
        "outputId": "dc6c9503-f090-4d81-f5da-543615377ee4"
      },
      "source": [
        "# Goal 2, this cell and next.\n",
        "\n",
        "rep_results= []\n",
        "\n",
        "for n in issues:\n",
        "  x = ttest_1samp(rep[n], 0, nan_policy='omit',)\n",
        "  rep_results.append(x)\n",
        "  \n",
        "rep_results_df = pd.DataFrame(rep_results, issues)\n",
        "rep_results_df\n",
        "# The table below shows a that we reject the null hypothesis of no support from Republicans for each bill\n",
        "# This suggests that Republicans have at least some support for all bills "
      ],
      "execution_count": 28,
      "outputs": [
        {
          "output_type": "execute_result",
          "data": {
            "text/html": [
              "<div>\n",
              "<style scoped>\n",
              "    .dataframe tbody tr th:only-of-type {\n",
              "        vertical-align: middle;\n",
              "    }\n",
              "\n",
              "    .dataframe tbody tr th {\n",
              "        vertical-align: top;\n",
              "    }\n",
              "\n",
              "    .dataframe thead th {\n",
              "        text-align: right;\n",
              "    }\n",
              "</style>\n",
              "<table border=\"1\" class=\"dataframe\">\n",
              "  <thead>\n",
              "    <tr style=\"text-align: right;\">\n",
              "      <th></th>\n",
              "      <th>statistic</th>\n",
              "      <th>pvalue</th>\n",
              "    </tr>\n",
              "  </thead>\n",
              "  <tbody>\n",
              "    <tr>\n",
              "      <th>handicapped-infants</th>\n",
              "      <td>6.159570</td>\n",
              "      <td>5.434588e-09</td>\n",
              "    </tr>\n",
              "    <tr>\n",
              "      <th>water-project</th>\n",
              "      <td>12.289320</td>\n",
              "      <td>2.525483e-24</td>\n",
              "    </tr>\n",
              "    <tr>\n",
              "      <th>budget</th>\n",
              "      <td>5.025288</td>\n",
              "      <td>1.310752e-06</td>\n",
              "    </tr>\n",
              "    <tr>\n",
              "      <th>physician-fee-freeze</th>\n",
              "      <td>115.611418</td>\n",
              "      <td>4.438624e-159</td>\n",
              "    </tr>\n",
              "    <tr>\n",
              "      <th>el-salvador-aid</th>\n",
              "      <td>56.731825</td>\n",
              "      <td>1.057330e-109</td>\n",
              "    </tr>\n",
              "    <tr>\n",
              "      <th>religious-groups</th>\n",
              "      <td>38.028627</td>\n",
              "      <td>1.475107e-83</td>\n",
              "    </tr>\n",
              "    <tr>\n",
              "      <th>anti-satellite-ban</th>\n",
              "      <td>7.144843</td>\n",
              "      <td>2.954237e-11</td>\n",
              "    </tr>\n",
              "    <tr>\n",
              "      <th>aid-to-contras</th>\n",
              "      <td>5.305693</td>\n",
              "      <td>3.790392e-07</td>\n",
              "    </tr>\n",
              "    <tr>\n",
              "      <th>mx-missile</th>\n",
              "      <td>4.619791</td>\n",
              "      <td>7.731593e-06</td>\n",
              "    </tr>\n",
              "    <tr>\n",
              "      <th>immigration</th>\n",
              "      <td>14.376541</td>\n",
              "      <td>7.541249e-31</td>\n",
              "    </tr>\n",
              "    <tr>\n",
              "      <th>synfuels</th>\n",
              "      <td>4.903415</td>\n",
              "      <td>2.318861e-06</td>\n",
              "    </tr>\n",
              "    <tr>\n",
              "      <th>education</th>\n",
              "      <td>32.241278</td>\n",
              "      <td>2.295256e-70</td>\n",
              "    </tr>\n",
              "    <tr>\n",
              "      <th>right-to-sue</th>\n",
              "      <td>31.153579</td>\n",
              "      <td>4.178459e-69</td>\n",
              "    </tr>\n",
              "    <tr>\n",
              "      <th>crime</th>\n",
              "      <td>91.796877</td>\n",
              "      <td>2.672177e-140</td>\n",
              "    </tr>\n",
              "    <tr>\n",
              "      <th>duty-free</th>\n",
              "      <td>3.909180</td>\n",
              "      <td>1.380978e-04</td>\n",
              "    </tr>\n",
              "    <tr>\n",
              "      <th>south-africa</th>\n",
              "      <td>16.685323</td>\n",
              "      <td>1.478311e-35</td>\n",
              "    </tr>\n",
              "  </tbody>\n",
              "</table>\n",
              "</div>"
            ],
            "text/plain": [
              "                       statistic         pvalue\n",
              "handicapped-infants     6.159570   5.434588e-09\n",
              "water-project          12.289320   2.525483e-24\n",
              "budget                  5.025288   1.310752e-06\n",
              "physician-fee-freeze  115.611418  4.438624e-159\n",
              "el-salvador-aid        56.731825  1.057330e-109\n",
              "religious-groups       38.028627   1.475107e-83\n",
              "anti-satellite-ban      7.144843   2.954237e-11\n",
              "aid-to-contras          5.305693   3.790392e-07\n",
              "mx-missile              4.619791   7.731593e-06\n",
              "immigration            14.376541   7.541249e-31\n",
              "synfuels                4.903415   2.318861e-06\n",
              "education              32.241278   2.295256e-70\n",
              "right-to-sue           31.153579   4.178459e-69\n",
              "crime                  91.796877  2.672177e-140\n",
              "duty-free               3.909180   1.380978e-04\n",
              "south-africa           16.685323   1.478311e-35"
            ]
          },
          "metadata": {
            "tags": []
          },
          "execution_count": 28
        }
      ]
    },
    {
      "cell_type": "code",
      "metadata": {
        "id": "F4z_YtHPFIwl",
        "colab_type": "code",
        "colab": {
          "base_uri": "https://localhost:8080/",
          "height": 539
        },
        "outputId": "1c300dfe-4a93-4981-a868-6aba96784c5d"
      },
      "source": [
        "# Goal 3, this cell and next.\n",
        "\n",
        "dem_results= []\n",
        "\n",
        "for n in issues:\n",
        "  x = ttest_1samp(dem[n], 0, nan_policy='omit',)\n",
        "  dem_results.append(x)\n",
        "  \n",
        "dem_results_df = pd.DataFrame(dem_results, issues)\n",
        "dem_results_df\n",
        "# The table below shows a that we reject the null hypothesis of no support from Democrats for each bill\n",
        "# This suggests that Democrats have at least some support for all bills"
      ],
      "execution_count": 29,
      "outputs": [
        {
          "output_type": "execute_result",
          "data": {
            "text/html": [
              "<div>\n",
              "<style scoped>\n",
              "    .dataframe tbody tr th:only-of-type {\n",
              "        vertical-align: middle;\n",
              "    }\n",
              "\n",
              "    .dataframe tbody tr th {\n",
              "        vertical-align: top;\n",
              "    }\n",
              "\n",
              "    .dataframe thead th {\n",
              "        text-align: right;\n",
              "    }\n",
              "</style>\n",
              "<table border=\"1\" class=\"dataframe\">\n",
              "  <thead>\n",
              "    <tr style=\"text-align: right;\">\n",
              "      <th></th>\n",
              "      <th>statistic</th>\n",
              "      <th>pvalue</th>\n",
              "    </tr>\n",
              "  </thead>\n",
              "  <tbody>\n",
              "    <tr>\n",
              "      <th>handicapped-infants</th>\n",
              "      <td>19.825711</td>\n",
              "      <td>1.039199e-53</td>\n",
              "    </tr>\n",
              "    <tr>\n",
              "      <th>water-project</th>\n",
              "      <td>15.491933</td>\n",
              "      <td>6.633847e-38</td>\n",
              "    </tr>\n",
              "    <tr>\n",
              "      <th>budget</th>\n",
              "      <td>45.421019</td>\n",
              "      <td>2.300569e-125</td>\n",
              "    </tr>\n",
              "    <tr>\n",
              "      <th>physician-fee-freeze</th>\n",
              "      <td>3.839643</td>\n",
              "      <td>1.550891e-04</td>\n",
              "    </tr>\n",
              "    <tr>\n",
              "      <th>el-salvador-aid</th>\n",
              "      <td>8.357631</td>\n",
              "      <td>4.230829e-15</td>\n",
              "    </tr>\n",
              "    <tr>\n",
              "      <th>religious-groups</th>\n",
              "      <td>15.302142</td>\n",
              "      <td>5.132677e-38</td>\n",
              "    </tr>\n",
              "    <tr>\n",
              "      <th>anti-satellite-ban</th>\n",
              "      <td>29.573236</td>\n",
              "      <td>7.509185e-85</td>\n",
              "    </tr>\n",
              "    <tr>\n",
              "      <th>aid-to-contras</th>\n",
              "      <td>35.626457</td>\n",
              "      <td>1.947251e-102</td>\n",
              "    </tr>\n",
              "    <tr>\n",
              "      <th>mx-missile</th>\n",
              "      <td>27.819657</td>\n",
              "      <td>4.483745e-78</td>\n",
              "    </tr>\n",
              "    <tr>\n",
              "      <th>immigration</th>\n",
              "      <td>15.288120</td>\n",
              "      <td>3.754506e-38</td>\n",
              "    </tr>\n",
              "    <tr>\n",
              "      <th>synfuels</th>\n",
              "      <td>16.125992</td>\n",
              "      <td>9.159793e-41</td>\n",
              "    </tr>\n",
              "    <tr>\n",
              "      <th>education</th>\n",
              "      <td>6.474218</td>\n",
              "      <td>5.068052e-10</td>\n",
              "    </tr>\n",
              "    <tr>\n",
              "      <th>right-to-sue</th>\n",
              "      <td>10.117467</td>\n",
              "      <td>2.108067e-20</td>\n",
              "    </tr>\n",
              "    <tr>\n",
              "      <th>crime</th>\n",
              "      <td>11.745811</td>\n",
              "      <td>9.087410e-26</td>\n",
              "    </tr>\n",
              "    <tr>\n",
              "      <th>duty-free</th>\n",
              "      <td>20.965697</td>\n",
              "      <td>5.251662e-57</td>\n",
              "    </tr>\n",
              "    <tr>\n",
              "      <th>south-africa</th>\n",
              "      <td>51.504045</td>\n",
              "      <td>3.077639e-111</td>\n",
              "    </tr>\n",
              "  </tbody>\n",
              "</table>\n",
              "</div>"
            ],
            "text/plain": [
              "                      statistic         pvalue\n",
              "handicapped-infants   19.825711   1.039199e-53\n",
              "water-project         15.491933   6.633847e-38\n",
              "budget                45.421019  2.300569e-125\n",
              "physician-fee-freeze   3.839643   1.550891e-04\n",
              "el-salvador-aid        8.357631   4.230829e-15\n",
              "religious-groups      15.302142   5.132677e-38\n",
              "anti-satellite-ban    29.573236   7.509185e-85\n",
              "aid-to-contras        35.626457  1.947251e-102\n",
              "mx-missile            27.819657   4.483745e-78\n",
              "immigration           15.288120   3.754506e-38\n",
              "synfuels              16.125992   9.159793e-41\n",
              "education              6.474218   5.068052e-10\n",
              "right-to-sue          10.117467   2.108067e-20\n",
              "crime                 11.745811   9.087410e-26\n",
              "duty-free             20.965697   5.251662e-57\n",
              "south-africa          51.504045  3.077639e-111"
            ]
          },
          "metadata": {
            "tags": []
          },
          "execution_count": 29
        }
      ]
    },
    {
      "cell_type": "code",
      "metadata": {
        "id": "hc3gxoVd7OfS",
        "colab_type": "code",
        "outputId": "0d48bfca-094a-48ad-f4c6-125d327bbeb5",
        "colab": {
          "base_uri": "https://localhost:8080/",
          "height": 295
        }
      },
      "source": [
        "results= []\n",
        "\n",
        "for n in issues:\n",
        "  x = ttest_ind(rep[n], dem[n], nan_policy='omit',)\n",
        "  results.append(x)\n",
        "  \n",
        "results"
      ],
      "execution_count": 14,
      "outputs": [
        {
          "output_type": "execute_result",
          "data": {
            "text/plain": [
              "[Ttest_indResult(statistic=-9.205264294809222, pvalue=1.613440327937243e-18),\n",
              " Ttest_indResult(statistic=0.08896538137868286, pvalue=0.9291556823993485),\n",
              " Ttest_indResult(statistic=-23.21277691701378, pvalue=2.0703402795404463e-77),\n",
              " Ttest_indResult(statistic=49.36708157301406, pvalue=1.994262314074344e-177),\n",
              " Ttest_indResult(statistic=21.13669261173219, pvalue=5.600520111729011e-68),\n",
              " Ttest_indResult(statistic=9.737575825219457, pvalue=2.3936722520597287e-20),\n",
              " Ttest_indResult(statistic=-12.526187929077842, pvalue=8.521033017443867e-31),\n",
              " Ttest_indResult(statistic=-18.052093200819733, pvalue=2.82471841372357e-54),\n",
              " Ttest_indResult(statistic=-16.437503268542994, pvalue=5.03079265310811e-47),\n",
              " Ttest_indResult(statistic=1.7359117329695164, pvalue=0.08330248490425066),\n",
              " Ttest_indResult(statistic=-8.293603989407588, pvalue=1.5759322301054064e-15),\n",
              " Ttest_indResult(statistic=20.500685724563073, pvalue=1.8834203990450192e-64),\n",
              " Ttest_indResult(statistic=13.51064251060933, pvalue=1.2278581709672758e-34),\n",
              " Ttest_indResult(statistic=16.342085656197696, pvalue=9.952342705606092e-47),\n",
              " Ttest_indResult(statistic=-12.853146132542978, pvalue=5.997697174347365e-32),\n",
              " Ttest_indResult(statistic=-6.849454815841208, pvalue=3.652674361672226e-11)]"
            ]
          },
          "metadata": {
            "tags": []
          },
          "execution_count": 14
        }
      ]
    },
    {
      "cell_type": "code",
      "metadata": {
        "id": "TeQVFeL93Ypi",
        "colab_type": "code",
        "outputId": "c0b399ca-7b06-4478-ed27-1283260df0ea",
        "colab": {
          "base_uri": "https://localhost:8080/",
          "height": 539
        }
      },
      "source": [
        "all_results = pd.DataFrame(results, issues)\n",
        "\n",
        "'''\n",
        "The water project bill seems to be the only bill \n",
        "Null hypothesis: Support among the two parties is equal\n",
        "Alternative: Support among the two parties is different\n",
        "\n",
        "Goals 2 & 3:\n",
        "I'm not sure which direction to interpret the signs of the T-statistic\n",
        "\n",
        "Goal 4:\n",
        "Due to a p-value of .9291557, I fail to reject the null hypothesis for the Water Project bill.\n",
        "\n",
        "I reject the null hypothesis for all other bills and suggest support is different (for a threshold of p > 0.1)\n",
        "\n",
        "'''\n",
        "all_results"
      ],
      "execution_count": 25,
      "outputs": [
        {
          "output_type": "execute_result",
          "data": {
            "text/html": [
              "<div>\n",
              "<style scoped>\n",
              "    .dataframe tbody tr th:only-of-type {\n",
              "        vertical-align: middle;\n",
              "    }\n",
              "\n",
              "    .dataframe tbody tr th {\n",
              "        vertical-align: top;\n",
              "    }\n",
              "\n",
              "    .dataframe thead th {\n",
              "        text-align: right;\n",
              "    }\n",
              "</style>\n",
              "<table border=\"1\" class=\"dataframe\">\n",
              "  <thead>\n",
              "    <tr style=\"text-align: right;\">\n",
              "      <th></th>\n",
              "      <th>statistic</th>\n",
              "      <th>pvalue</th>\n",
              "    </tr>\n",
              "  </thead>\n",
              "  <tbody>\n",
              "    <tr>\n",
              "      <th>handicapped-infants</th>\n",
              "      <td>-9.205264</td>\n",
              "      <td>1.613440e-18</td>\n",
              "    </tr>\n",
              "    <tr>\n",
              "      <th>water-project</th>\n",
              "      <td>0.088965</td>\n",
              "      <td>9.291557e-01</td>\n",
              "    </tr>\n",
              "    <tr>\n",
              "      <th>budget</th>\n",
              "      <td>-23.212777</td>\n",
              "      <td>2.070340e-77</td>\n",
              "    </tr>\n",
              "    <tr>\n",
              "      <th>physician-fee-freeze</th>\n",
              "      <td>49.367082</td>\n",
              "      <td>1.994262e-177</td>\n",
              "    </tr>\n",
              "    <tr>\n",
              "      <th>el-salvador-aid</th>\n",
              "      <td>21.136693</td>\n",
              "      <td>5.600520e-68</td>\n",
              "    </tr>\n",
              "    <tr>\n",
              "      <th>religious-groups</th>\n",
              "      <td>9.737576</td>\n",
              "      <td>2.393672e-20</td>\n",
              "    </tr>\n",
              "    <tr>\n",
              "      <th>anti-satellite-ban</th>\n",
              "      <td>-12.526188</td>\n",
              "      <td>8.521033e-31</td>\n",
              "    </tr>\n",
              "    <tr>\n",
              "      <th>aid-to-contras</th>\n",
              "      <td>-18.052093</td>\n",
              "      <td>2.824718e-54</td>\n",
              "    </tr>\n",
              "    <tr>\n",
              "      <th>mx-missile</th>\n",
              "      <td>-16.437503</td>\n",
              "      <td>5.030793e-47</td>\n",
              "    </tr>\n",
              "    <tr>\n",
              "      <th>immigration</th>\n",
              "      <td>1.735912</td>\n",
              "      <td>8.330248e-02</td>\n",
              "    </tr>\n",
              "    <tr>\n",
              "      <th>synfuels</th>\n",
              "      <td>-8.293604</td>\n",
              "      <td>1.575932e-15</td>\n",
              "    </tr>\n",
              "    <tr>\n",
              "      <th>education</th>\n",
              "      <td>20.500686</td>\n",
              "      <td>1.883420e-64</td>\n",
              "    </tr>\n",
              "    <tr>\n",
              "      <th>right-to-sue</th>\n",
              "      <td>13.510643</td>\n",
              "      <td>1.227858e-34</td>\n",
              "    </tr>\n",
              "    <tr>\n",
              "      <th>crime</th>\n",
              "      <td>16.342086</td>\n",
              "      <td>9.952343e-47</td>\n",
              "    </tr>\n",
              "    <tr>\n",
              "      <th>duty-free</th>\n",
              "      <td>-12.853146</td>\n",
              "      <td>5.997697e-32</td>\n",
              "    </tr>\n",
              "    <tr>\n",
              "      <th>south-africa</th>\n",
              "      <td>-6.849455</td>\n",
              "      <td>3.652674e-11</td>\n",
              "    </tr>\n",
              "  </tbody>\n",
              "</table>\n",
              "</div>"
            ],
            "text/plain": [
              "                      statistic         pvalue\n",
              "handicapped-infants   -9.205264   1.613440e-18\n",
              "water-project          0.088965   9.291557e-01\n",
              "budget               -23.212777   2.070340e-77\n",
              "physician-fee-freeze  49.367082  1.994262e-177\n",
              "el-salvador-aid       21.136693   5.600520e-68\n",
              "religious-groups       9.737576   2.393672e-20\n",
              "anti-satellite-ban   -12.526188   8.521033e-31\n",
              "aid-to-contras       -18.052093   2.824718e-54\n",
              "mx-missile           -16.437503   5.030793e-47\n",
              "immigration            1.735912   8.330248e-02\n",
              "synfuels              -8.293604   1.575932e-15\n",
              "education             20.500686   1.883420e-64\n",
              "right-to-sue          13.510643   1.227858e-34\n",
              "crime                 16.342086   9.952343e-47\n",
              "duty-free            -12.853146   5.997697e-32\n",
              "south-africa          -6.849455   3.652674e-11"
            ]
          },
          "metadata": {
            "tags": []
          },
          "execution_count": 25
        }
      ]
    },
    {
      "cell_type": "markdown",
      "metadata": {
        "id": "0bs4L-7l8UUg",
        "colab_type": "text"
      },
      "source": [
        ""
      ]
    },
    {
      "cell_type": "code",
      "metadata": {
        "id": "Xo-Sb-w4DijU",
        "colab_type": "code",
        "colab": {}
      },
      "source": [
        "rep_totals = []\n",
        "dem_totals = []\n",
        "\n",
        "for n in issues:\n",
        "  y = rep[n].sum()\n",
        "  z = dem[n].sum()\n",
        "  rep_totals.append(y)\n",
        "  dem_totals.append(z)\n",
        "\n",
        "rep_totals_df = pd.DataFrame(rep_totals, issues)\n",
        "dem_totals_df = pd.DataFrame(dem_totals, issues)"
      ],
      "execution_count": 0,
      "outputs": []
    },
    {
      "cell_type": "code",
      "metadata": {
        "id": "3Z0GyT6BJfvO",
        "colab_type": "code",
        "outputId": "6ac513d6-279a-42d6-9295-a7dba4c736e5",
        "colab": {
          "base_uri": "https://localhost:8080/",
          "height": 52
        }
      },
      "source": [
        "print(rep_totals_df.shape)\n",
        "print(dem_totals_df.shape)"
      ],
      "execution_count": 17,
      "outputs": [
        {
          "output_type": "stream",
          "text": [
            "(16, 1)\n",
            "(16, 1)\n"
          ],
          "name": "stdout"
        }
      ]
    },
    {
      "cell_type": "code",
      "metadata": {
        "id": "fkoBPH4jEHOi",
        "colab_type": "code",
        "colab": {}
      },
      "source": [
        "rep_totals_df.columns = ['rep_total_votes']\n",
        "dem_totals_df.columns = ['dem_total_votes']\n",
        "rep_totals_df['new_col'] = range(0, len(rep_totals_df))\n",
        "dem_totals_df['new_col'] = range(0, len(dem_totals_df))"
      ],
      "execution_count": 0,
      "outputs": []
    },
    {
      "cell_type": "code",
      "metadata": {
        "id": "MkG3uFmIKuS6",
        "colab_type": "code",
        "outputId": "60b6bb86-04ee-4740-e422-42e9a9b97668",
        "colab": {
          "base_uri": "https://localhost:8080/",
          "height": 202
        }
      },
      "source": [
        "dem_totals_df.head()"
      ],
      "execution_count": 19,
      "outputs": [
        {
          "output_type": "execute_result",
          "data": {
            "text/html": [
              "<div>\n",
              "<style scoped>\n",
              "    .dataframe tbody tr th:only-of-type {\n",
              "        vertical-align: middle;\n",
              "    }\n",
              "\n",
              "    .dataframe tbody tr th {\n",
              "        vertical-align: top;\n",
              "    }\n",
              "\n",
              "    .dataframe thead th {\n",
              "        text-align: right;\n",
              "    }\n",
              "</style>\n",
              "<table border=\"1\" class=\"dataframe\">\n",
              "  <thead>\n",
              "    <tr style=\"text-align: right;\">\n",
              "      <th></th>\n",
              "      <th>dem_total_votes</th>\n",
              "      <th>new_col</th>\n",
              "    </tr>\n",
              "  </thead>\n",
              "  <tbody>\n",
              "    <tr>\n",
              "      <th>handicapped-infants</th>\n",
              "      <td>156.0</td>\n",
              "      <td>0</td>\n",
              "    </tr>\n",
              "    <tr>\n",
              "      <th>water-project</th>\n",
              "      <td>120.0</td>\n",
              "      <td>1</td>\n",
              "    </tr>\n",
              "    <tr>\n",
              "      <th>budget</th>\n",
              "      <td>231.0</td>\n",
              "      <td>2</td>\n",
              "    </tr>\n",
              "    <tr>\n",
              "      <th>physician-fee-freeze</th>\n",
              "      <td>14.0</td>\n",
              "      <td>3</td>\n",
              "    </tr>\n",
              "    <tr>\n",
              "      <th>el-salvador-aid</th>\n",
              "      <td>55.0</td>\n",
              "      <td>4</td>\n",
              "    </tr>\n",
              "  </tbody>\n",
              "</table>\n",
              "</div>"
            ],
            "text/plain": [
              "                      dem_total_votes  new_col\n",
              "handicapped-infants             156.0        0\n",
              "water-project                   120.0        1\n",
              "budget                          231.0        2\n",
              "physician-fee-freeze             14.0        3\n",
              "el-salvador-aid                  55.0        4"
            ]
          },
          "metadata": {
            "tags": []
          },
          "execution_count": 19
        }
      ]
    },
    {
      "cell_type": "code",
      "metadata": {
        "id": "G97J-Up8EilY",
        "colab_type": "code",
        "outputId": "49e023f5-c30f-498a-bfba-8726381a5fae",
        "colab": {
          "base_uri": "https://localhost:8080/",
          "height": 202
        }
      },
      "source": [
        "all_results = pd.merge(rep_totals_df, dem_totals_df)\n",
        "all_results.head()"
      ],
      "execution_count": 20,
      "outputs": [
        {
          "output_type": "execute_result",
          "data": {
            "text/html": [
              "<div>\n",
              "<style scoped>\n",
              "    .dataframe tbody tr th:only-of-type {\n",
              "        vertical-align: middle;\n",
              "    }\n",
              "\n",
              "    .dataframe tbody tr th {\n",
              "        vertical-align: top;\n",
              "    }\n",
              "\n",
              "    .dataframe thead th {\n",
              "        text-align: right;\n",
              "    }\n",
              "</style>\n",
              "<table border=\"1\" class=\"dataframe\">\n",
              "  <thead>\n",
              "    <tr style=\"text-align: right;\">\n",
              "      <th></th>\n",
              "      <th>rep_total_votes</th>\n",
              "      <th>new_col</th>\n",
              "      <th>dem_total_votes</th>\n",
              "    </tr>\n",
              "  </thead>\n",
              "  <tbody>\n",
              "    <tr>\n",
              "      <th>0</th>\n",
              "      <td>31.0</td>\n",
              "      <td>0</td>\n",
              "      <td>156.0</td>\n",
              "    </tr>\n",
              "    <tr>\n",
              "      <th>1</th>\n",
              "      <td>75.0</td>\n",
              "      <td>1</td>\n",
              "      <td>120.0</td>\n",
              "    </tr>\n",
              "    <tr>\n",
              "      <th>2</th>\n",
              "      <td>22.0</td>\n",
              "      <td>2</td>\n",
              "      <td>231.0</td>\n",
              "    </tr>\n",
              "    <tr>\n",
              "      <th>3</th>\n",
              "      <td>163.0</td>\n",
              "      <td>3</td>\n",
              "      <td>14.0</td>\n",
              "    </tr>\n",
              "    <tr>\n",
              "      <th>4</th>\n",
              "      <td>157.0</td>\n",
              "      <td>4</td>\n",
              "      <td>55.0</td>\n",
              "    </tr>\n",
              "  </tbody>\n",
              "</table>\n",
              "</div>"
            ],
            "text/plain": [
              "   rep_total_votes  new_col  dem_total_votes\n",
              "0             31.0        0            156.0\n",
              "1             75.0        1            120.0\n",
              "2             22.0        2            231.0\n",
              "3            163.0        3             14.0\n",
              "4            157.0        4             55.0"
            ]
          },
          "metadata": {
            "tags": []
          },
          "execution_count": 20
        }
      ]
    },
    {
      "cell_type": "code",
      "metadata": {
        "id": "I6RrLDTyHJLa",
        "colab_type": "code",
        "colab": {
          "base_uri": "https://localhost:8080/",
          "height": 35
        },
        "outputId": "c2888fad-a3bd-49f2-ecf9-eb8993f78d19"
      },
      "source": [
        "# Replicating the 1 Sample T-Test from lecture\n",
        "# Null Hypothesis: There is 0 support for this bill among Republicans in the house\n",
        "# Alternative: There is non-0 support (some support) for the this bill\n",
        "ttest_1samp(rep['handicapped-infants'], 0, nan_policy='omit')\n",
        "\n",
        "# Conclusion: due to a t-statistic of 6.16 and a p-value of .000000000543,\n",
        "# we reject the null hypothesis that there is 0 support for the H-I bill\n",
        "# among Republicans in congress, and suggest the alternative that there is *some*\n",
        "# support for the bill among republicans"
      ],
      "execution_count": 21,
      "outputs": [
        {
          "output_type": "execute_result",
          "data": {
            "text/plain": [
              "Ttest_1sampResult(statistic=6.159569669016066, pvalue=5.434587970316366e-09)"
            ]
          },
          "metadata": {
            "tags": []
          },
          "execution_count": 21
        }
      ]
    },
    {
      "cell_type": "code",
      "metadata": {
        "id": "AVZBgP7a93kr",
        "colab_type": "code",
        "colab": {
          "base_uri": "https://localhost:8080/",
          "height": 35
        },
        "outputId": "843eac63-2cee-444a-f49a-13200b2b50f7"
      },
      "source": [
        "# Replicating the 2 Sample T-Test from lecture\n",
        "\n",
        "'''\n",
        "Null Hypothesis: Support among the two parties is equal \n",
        "Alternative: Support among the two parties is different\n",
        "\n",
        "'''\n",
        "\n",
        "ttest_ind(rep['handicapped-infants'], dem['handicapped-infants'], nan_policy='omit')"
      ],
      "execution_count": 22,
      "outputs": [
        {
          "output_type": "execute_result",
          "data": {
            "text/plain": [
              "Ttest_indResult(statistic=-9.205264294809222, pvalue=1.613440327937243e-18)"
            ]
          },
          "metadata": {
            "tags": []
          },
          "execution_count": 22
        }
      ]
    },
    {
      "cell_type": "code",
      "metadata": {
        "id": "nd7pjZ-eA8_u",
        "colab_type": "code",
        "colab": {
          "base_uri": "https://localhost:8080/",
          "height": 35
        },
        "outputId": "39ecd24c-9f76-41e2-bcee-0f743691876c"
      },
      "source": [
        "ttest_ind(dem['handicapped-infants'], rep['handicapped-infants'], nan_policy='omit')"
      ],
      "execution_count": 23,
      "outputs": [
        {
          "output_type": "execute_result",
          "data": {
            "text/plain": [
              "Ttest_indResult(statistic=9.205264294809222, pvalue=1.613440327937243e-18)"
            ]
          },
          "metadata": {
            "tags": []
          },
          "execution_count": 23
        }
      ]
    },
    {
      "cell_type": "code",
      "metadata": {
        "id": "wJ8fTxDdBCDp",
        "colab_type": "code",
        "colab": {}
      },
      "source": [
        "# Note: When using a two sample T-test, it does not matter which sample you put first. "
      ],
      "execution_count": 0,
      "outputs": []
    }
  ]
}