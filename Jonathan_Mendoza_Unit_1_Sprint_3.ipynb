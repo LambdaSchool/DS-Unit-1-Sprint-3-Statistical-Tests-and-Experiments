{
  "nbformat": 4,
  "nbformat_minor": 0,
  "metadata": {
    "colab": {
      "name": "Jonathan Mendoza Unit 1 Sprint 3.ipynb",
      "version": "0.3.2",
      "provenance": [],
      "collapsed_sections": [],
      "include_colab_link": true
    },
    "kernelspec": {
      "name": "python3",
      "display_name": "Python 3"
    }
  },
  "cells": [
    {
      "cell_type": "markdown",
      "metadata": {
        "id": "view-in-github",
        "colab_type": "text"
      },
      "source": [
        "<a href=\"https://colab.research.google.com/github/jonathanmendoza-tx/DS-Unit-1-Sprint-3-Statistical-Tests-and-Experiments/blob/master/Jonathan_Mendoza_Unit_1_Sprint_3.ipynb\" target=\"_parent\"><img src=\"https://colab.research.google.com/assets/colab-badge.svg\" alt=\"Open In Colab\"/></a>"
      ]
    },
    {
      "cell_type": "code",
      "metadata": {
        "id": "H4jNV4VOdC3V",
        "colab_type": "code",
        "outputId": "0fe03a01-accf-4452-a35f-fd2f99e14cfc",
        "colab": {
          "base_uri": "https://localhost:8080/",
          "height": 1000
        }
      },
      "source": [
        "{\n",
        "  \"nbformat\": 4,\n",
        "  \"nbformat_minor\": 0,\n",
        "  \"metadata\": {\n",
        "    \"colab\": {\n",
        "      \"name\": \"DS Unit 1 Sprint Challenge 4.ipynb\",\n",
        "      \"version\": \"0.3.2\",\n",
        "      \"provenance\": [],\n",
        "      \"collapsed_sections\": []\n",
        "    },\n",
        "    \"kernelspec\": {\n",
        "      \"name\": \"python3\",\n",
        "      \"display_name\": \"Python 3\"\n",
        "    }\n",
        "  },\n",
        "  \"cells\": [\n",
        "    {\n",
        "      \"metadata\": {\n",
        "        \"id\": \"NooAiTdnafkz\",\n",
        "        \"colab_type\": \"text\"\n",
        "      },\n",
        "      \"cell_type\": \"markdown\",\n",
        "      \"source\": [\n",
        "        \"# Data Science Unit 1 Sprint Challenge 4\\n\",\n",
        "        \"\\n\",\n",
        "        \"## Exploring Data, Testing Hypotheses\\n\",\n",
        "        \"\\n\",\n",
        "        \"In this sprint challenge you will look at a dataset of people being approved or rejected for credit.\\n\",\n",
        "        \"\\n\",\n",
        "        \"https://archive.ics.uci.edu/ml/datasets/Credit+Approval\\n\",\n",
        "        \"\\n\",\n",
        "        \"Data Set Information: This file concerns credit card applications. All attribute names and values have been changed to meaningless symbols to protect confidentiality of the data. This dataset is interesting because there is a good mix of attributes -- continuous, nominal with small numbers of values, and nominal with larger numbers of values. There are also a few missing values.\\n\",\n",
        "        \"\\n\",\n",
        "        \"Attribute Information:\\n\",\n",
        "        \"- A1: b, a.\\n\",\n",
        "        \"- A2: continuous.\\n\",\n",
        "        \"- A3: continuous.\\n\",\n",
        "        \"- A4: u, y, l, t.\\n\",\n",
        "        \"- A5: g, p, gg.\\n\",\n",
        "        \"- A6: c, d, cc, i, j, k, m, r, q, w, x, e, aa, ff.\\n\",\n",
        "        \"- A7: v, h, bb, j, n, z, dd, ff, o.\\n\",\n",
        "        \"- A8: continuous.\\n\",\n",
        "        \"- A9: t, f.\\n\",\n",
        "        \"- A10: t, f.\\n\",\n",
        "        \"- A11: continuous.\\n\",\n",
        "        \"- A12: t, f.\\n\",\n",
        "        \"- A13: g, p, s.\\n\",\n",
        "        \"- A14: continuous.\\n\",\n",
        "        \"- A15: continuous.\\n\",\n",
        "        \"- A16: +,- (class attribute)\\n\",\n",
        "        \"\\n\",\n",
        "        \"Yes, most of that doesn't mean anything. A16 (the class attribute) is the most interesting, as it separates the 307 approved cases from the 383 rejected cases. The remaining variables have been obfuscated for privacy - a challenge you may have to deal with in your data science career.\\n\",\n",
        "        \"\\n\",\n",
        "        \"Sprint challenges are evaluated based on satisfactory completion of each part. It is suggested you work through it in order, getting each aspect reasonably working, before trying to deeply explore, iterate, or refine any given step. Once you get to the end, if you want to go back and improve things, go for it!\"\n",
        "      ]\n",
        "    },\n",
        "    {\n",
        "      \"metadata\": {\n",
        "        \"id\": \"5wch6ksCbJtZ\",\n",
        "        \"colab_type\": \"text\"\n",
        "      },\n",
        "      \"cell_type\": \"markdown\",\n",
        "      \"source\": [\n",
        "        \"## Part 1 - Load and validate the data\\n\",\n",
        "        \"\\n\",\n",
        "        \"- Load the data as a `pandas` data frame.\\n\",\n",
        "        \"- Validate that it has the appropriate number of observations (you can check the raw file, and also read the dataset description from UCI).\\n\",\n",
        "        \"- UCI says there should be missing data - check, and if necessary change the data so pandas recognizes it as na\\n\",\n",
        "        \"- Make sure that the loaded features are of the types described above (continuous values should be treated as float), and correct as necessary\\n\",\n",
        "        \"\\n\",\n",
        "        \"This is review, but skills that you'll use at the start of any data exploration. Further, you may have to do some investigation to figure out which file to load from - that is part of the puzzle.\"\n",
        "      ]\n",
        "    },\n",
        "    {\n",
        "      \"metadata\": {\n",
        "        \"id\": \"Q79xDLckzibS\",\n",
        "        \"colab_type\": \"code\",\n",
        "        \"colab\": {}\n",
        "      },\n",
        "      \"cell_type\": \"code\",\n",
        "      \"source\": [\n",
        "        \"# TODO\"\n",
        "      ],\n",
        "      \"execution_count\": 0,\n",
        "      \"outputs\": []\n",
        "    },\n",
        "    {\n",
        "      \"metadata\": {\n",
        "        \"id\": \"G7rLytbrO38L\",\n",
        "        \"colab_type\": \"text\"\n",
        "      },\n",
        "      \"cell_type\": \"markdown\",\n",
        "      \"source\": [\n",
        "        \"## Part 2 - Exploring data, Testing hypotheses\\n\",\n",
        "        \"\\n\",\n",
        "        \"The only thing we really know about this data is that A16 is the class label. Besides that, we have 6 continuous (float) features and 9 categorical features.\\n\",\n",
        "        \"\\n\",\n",
        "        \"Explore the data: you can use whatever approach (tables, utility functions, visualizations) to get an impression of the distributions and relationships of the variables. In general, your goal is to understand how the features are different when grouped by the two class labels (`+` and `-`).\\n\",\n",
        "        \"\\n\",\n",
        "        \"For the 6 continuous features, how are they different when split between the two class labels? Choose two features to run t-tests (again split by class label) - specifically, select one feature that is *extremely* different between the classes, and another feature that is notably less different (though perhaps still \\\"statistically significantly\\\" different). You may have to explore more than two features to do this.\\n\",\n",
        "        \"\\n\",\n",
        "        \"For the categorical features, explore by creating \\\"cross tabs\\\" (aka [contingency tables](https://en.wikipedia.org/wiki/Contingency_table)) between them and the class label, and apply the Chi-squared test to them. [pandas.crosstab](http://pandas.pydata.org/pandas-docs/stable/reference/api/pandas.crosstab.html) can create contingency tables, and [scipy.stats.chi2_contingency](https://docs.scipy.org/doc/scipy/reference/generated/scipy.stats.chi2_contingency.html) can calculate the Chi-squared statistic for them.\\n\",\n",
        "        \"\\n\",\n",
        "        \"There are 9 categorical features - as with the t-test, try to find one where the Chi-squared test returns an extreme result (rejecting the null that the data are independent), and one where it is less extreme.\\n\",\n",
        "        \"\\n\",\n",
        "        \"**NOTE** - \\\"less extreme\\\" just means smaller test statistic/larger p-value. Even the least extreme differences may be strongly statistically significant.\\n\",\n",
        "        \"\\n\",\n",
        "        \"Your *main* goal is the hypothesis tests, so don't spend too much time on the exploration/visualization piece. That is just a means to an end - use simple visualizations, such as boxplots or a scatter matrix (both built in to pandas), to get a feel for the overall distribution of the variables.\\n\",\n",
        "        \"\\n\",\n",
        "        \"This is challenging, so manage your time and aim for a baseline of at least running two t-tests and two Chi-squared tests before polishing. And don't forget to answer the questions in part 3, even if your results in this part aren't what you want them to be.\"\n",
        "      ]\n",
        "    },\n",
        "    {\n",
        "      \"metadata\": {\n",
        "        \"id\": \"_nqcgc0yzm68\",\n",
        "        \"colab_type\": \"code\",\n",
        "        \"colab\": {}\n",
        "      },\n",
        "      \"cell_type\": \"code\",\n",
        "      \"source\": [\n",
        "        \"# TODO\"\n",
        "      ],\n",
        "      \"execution_count\": 0,\n",
        "      \"outputs\": []\n",
        "    },\n",
        "    {\n",
        "      \"metadata\": {\n",
        "        \"id\": \"ZM8JckA2bgnp\",\n",
        "        \"colab_type\": \"text\"\n",
        "      },\n",
        "      \"cell_type\": \"markdown\",\n",
        "      \"source\": [\n",
        "        \"## Part 3 - Analysis and Interpretation\\n\",\n",
        "        \"\\n\",\n",
        "        \"Now that you've looked at the data, answer the following questions:\\n\",\n",
        "        \"\\n\",\n",
        "        \"- Interpret and explain the two t-tests you ran - what do they tell you about the relationships between the continuous features you selected and the class labels?\\n\",\n",
        "        \"- Interpret and explain the two Chi-squared tests you ran - what do they tell you about the relationships between the categorical features you selected and the class labels?\\n\",\n",
        "        \"- What was the most challenging part of this sprint challenge?\\n\",\n",
        "        \"\\n\",\n",
        "        \"Answer with text, but feel free to intersperse example code/results or refer to it from earlier.\"\n",
        "      ]\n",
        "    },\n",
        "    {\n",
        "      \"metadata\": {\n",
        "        \"id\": \"LIozLDNG2Uhu\",\n",
        "        \"colab_type\": \"text\"\n",
        "      },\n",
        "      \"cell_type\": \"markdown\",\n",
        "      \"source\": [\n",
        "        \"*Your words here!*\"\n",
        "      ]\n",
        "    }\n",
        "  ]\n",
        "}"
      ],
      "execution_count": 0,
      "outputs": [
        {
          "output_type": "execute_result",
          "data": {
            "text/plain": [
              "{'cells': [{'cell_type': 'markdown',\n",
              "   'metadata': {'colab_type': 'text', 'id': 'NooAiTdnafkz'},\n",
              "   'source': ['# Data Science Unit 1 Sprint Challenge 4\\n',\n",
              "    '\\n',\n",
              "    '## Exploring Data, Testing Hypotheses\\n',\n",
              "    '\\n',\n",
              "    'In this sprint challenge you will look at a dataset of people being approved or rejected for credit.\\n',\n",
              "    '\\n',\n",
              "    'https://archive.ics.uci.edu/ml/datasets/Credit+Approval\\n',\n",
              "    '\\n',\n",
              "    'Data Set Information: This file concerns credit card applications. All attribute names and values have been changed to meaningless symbols to protect confidentiality of the data. This dataset is interesting because there is a good mix of attributes -- continuous, nominal with small numbers of values, and nominal with larger numbers of values. There are also a few missing values.\\n',\n",
              "    '\\n',\n",
              "    'Attribute Information:\\n',\n",
              "    '- A1: b, a.\\n',\n",
              "    '- A2: continuous.\\n',\n",
              "    '- A3: continuous.\\n',\n",
              "    '- A4: u, y, l, t.\\n',\n",
              "    '- A5: g, p, gg.\\n',\n",
              "    '- A6: c, d, cc, i, j, k, m, r, q, w, x, e, aa, ff.\\n',\n",
              "    '- A7: v, h, bb, j, n, z, dd, ff, o.\\n',\n",
              "    '- A8: continuous.\\n',\n",
              "    '- A9: t, f.\\n',\n",
              "    '- A10: t, f.\\n',\n",
              "    '- A11: continuous.\\n',\n",
              "    '- A12: t, f.\\n',\n",
              "    '- A13: g, p, s.\\n',\n",
              "    '- A14: continuous.\\n',\n",
              "    '- A15: continuous.\\n',\n",
              "    '- A16: +,- (class attribute)\\n',\n",
              "    '\\n',\n",
              "    \"Yes, most of that doesn't mean anything. A16 (the class attribute) is the most interesting, as it separates the 307 approved cases from the 383 rejected cases. The remaining variables have been obfuscated for privacy - a challenge you may have to deal with in your data science career.\\n\",\n",
              "    '\\n',\n",
              "    'Sprint challenges are evaluated based on satisfactory completion of each part. It is suggested you work through it in order, getting each aspect reasonably working, before trying to deeply explore, iterate, or refine any given step. Once you get to the end, if you want to go back and improve things, go for it!']},\n",
              "  {'cell_type': 'markdown',\n",
              "   'metadata': {'colab_type': 'text', 'id': '5wch6ksCbJtZ'},\n",
              "   'source': ['## Part 1 - Load and validate the data\\n',\n",
              "    '\\n',\n",
              "    '- Load the data as a `pandas` data frame.\\n',\n",
              "    '- Validate that it has the appropriate number of observations (you can check the raw file, and also read the dataset description from UCI).\\n',\n",
              "    '- UCI says there should be missing data - check, and if necessary change the data so pandas recognizes it as na\\n',\n",
              "    '- Make sure that the loaded features are of the types described above (continuous values should be treated as float), and correct as necessary\\n',\n",
              "    '\\n',\n",
              "    \"This is review, but skills that you'll use at the start of any data exploration. Further, you may have to do some investigation to figure out which file to load from - that is part of the puzzle.\"]},\n",
              "  {'cell_type': 'code',\n",
              "   'execution_count': 0,\n",
              "   'metadata': {'colab': {}, 'colab_type': 'code', 'id': 'Q79xDLckzibS'},\n",
              "   'outputs': [],\n",
              "   'source': ['# TODO']},\n",
              "  {'cell_type': 'markdown',\n",
              "   'metadata': {'colab_type': 'text', 'id': 'G7rLytbrO38L'},\n",
              "   'source': ['## Part 2 - Exploring data, Testing hypotheses\\n',\n",
              "    '\\n',\n",
              "    'The only thing we really know about this data is that A16 is the class label. Besides that, we have 6 continuous (float) features and 9 categorical features.\\n',\n",
              "    '\\n',\n",
              "    'Explore the data: you can use whatever approach (tables, utility functions, visualizations) to get an impression of the distributions and relationships of the variables. In general, your goal is to understand how the features are different when grouped by the two class labels (`+` and `-`).\\n',\n",
              "    '\\n',\n",
              "    'For the 6 continuous features, how are they different when split between the two class labels? Choose two features to run t-tests (again split by class label) - specifically, select one feature that is *extremely* different between the classes, and another feature that is notably less different (though perhaps still \"statistically significantly\" different). You may have to explore more than two features to do this.\\n',\n",
              "    '\\n',\n",
              "    'For the categorical features, explore by creating \"cross tabs\" (aka [contingency tables](https://en.wikipedia.org/wiki/Contingency_table)) between them and the class label, and apply the Chi-squared test to them. [pandas.crosstab](http://pandas.pydata.org/pandas-docs/stable/reference/api/pandas.crosstab.html) can create contingency tables, and [scipy.stats.chi2_contingency](https://docs.scipy.org/doc/scipy/reference/generated/scipy.stats.chi2_contingency.html) can calculate the Chi-squared statistic for them.\\n',\n",
              "    '\\n',\n",
              "    'There are 9 categorical features - as with the t-test, try to find one where the Chi-squared test returns an extreme result (rejecting the null that the data are independent), and one where it is less extreme.\\n',\n",
              "    '\\n',\n",
              "    '**NOTE** - \"less extreme\" just means smaller test statistic/larger p-value. Even the least extreme differences may be strongly statistically significant.\\n',\n",
              "    '\\n',\n",
              "    \"Your *main* goal is the hypothesis tests, so don't spend too much time on the exploration/visualization piece. That is just a means to an end - use simple visualizations, such as boxplots or a scatter matrix (both built in to pandas), to get a feel for the overall distribution of the variables.\\n\",\n",
              "    '\\n',\n",
              "    \"This is challenging, so manage your time and aim for a baseline of at least running two t-tests and two Chi-squared tests before polishing. And don't forget to answer the questions in part 3, even if your results in this part aren't what you want them to be.\"]},\n",
              "  {'cell_type': 'code',\n",
              "   'execution_count': 0,\n",
              "   'metadata': {'colab': {}, 'colab_type': 'code', 'id': '_nqcgc0yzm68'},\n",
              "   'outputs': [],\n",
              "   'source': ['# TODO']},\n",
              "  {'cell_type': 'markdown',\n",
              "   'metadata': {'colab_type': 'text', 'id': 'ZM8JckA2bgnp'},\n",
              "   'source': ['## Part 3 - Analysis and Interpretation\\n',\n",
              "    '\\n',\n",
              "    \"Now that you've looked at the data, answer the following questions:\\n\",\n",
              "    '\\n',\n",
              "    '- Interpret and explain the two t-tests you ran - what do they tell you about the relationships between the continuous features you selected and the class labels?\\n',\n",
              "    '- Interpret and explain the two Chi-squared tests you ran - what do they tell you about the relationships between the categorical features you selected and the class labels?\\n',\n",
              "    '- What was the most challenging part of this sprint challenge?\\n',\n",
              "    '\\n',\n",
              "    'Answer with text, but feel free to intersperse example code/results or refer to it from earlier.']},\n",
              "  {'cell_type': 'markdown',\n",
              "   'metadata': {'colab_type': 'text', 'id': 'LIozLDNG2Uhu'},\n",
              "   'source': ['*Your words here!*']}],\n",
              " 'metadata': {'colab': {'collapsed_sections': [],\n",
              "   'name': 'DS Unit 1 Sprint Challenge 4.ipynb',\n",
              "   'provenance': [],\n",
              "   'version': '0.3.2'},\n",
              "  'kernelspec': {'display_name': 'Python 3', 'name': 'python3'}},\n",
              " 'nbformat': 4,\n",
              " 'nbformat_minor': 0}"
            ]
          },
          "metadata": {
            "tags": []
          },
          "execution_count": 1
        }
      ]
    },
    {
      "cell_type": "markdown",
      "metadata": {
        "id": "b1YEHZUQqGtb",
        "colab_type": "text"
      },
      "source": [
        "## Load and clean data"
      ]
    },
    {
      "cell_type": "code",
      "metadata": {
        "id": "gFdXq3-fim4h",
        "colab_type": "code",
        "outputId": "c5227ed2-2fb9-461b-918e-623fff43d7aa",
        "colab": {
          "base_uri": "https://localhost:8080/",
          "height": 225
        }
      },
      "source": [
        "import pandas as pd\n",
        "import numpy as np\n",
        "import matplotlib.pyplot as plt\n",
        "\n",
        "col_names = ['A1','A2','A3','A4','A5','A6','A7','A8','A9','A10','A11','A12','A13','A14','A15','A16']\n",
        "\n",
        "df = pd.read_csv('https://archive.ics.uci.edu/ml/machine-learning-databases/credit-screening/crx.data', header = None, names = col_names, na_values = '?')\n",
        "\n",
        "print(df.shape)\n",
        "df.head()"
      ],
      "execution_count": 0,
      "outputs": [
        {
          "output_type": "stream",
          "text": [
            "(690, 16)\n"
          ],
          "name": "stdout"
        },
        {
          "output_type": "execute_result",
          "data": {
            "text/html": [
              "<div>\n",
              "<style scoped>\n",
              "    .dataframe tbody tr th:only-of-type {\n",
              "        vertical-align: middle;\n",
              "    }\n",
              "\n",
              "    .dataframe tbody tr th {\n",
              "        vertical-align: top;\n",
              "    }\n",
              "\n",
              "    .dataframe thead th {\n",
              "        text-align: right;\n",
              "    }\n",
              "</style>\n",
              "<table border=\"1\" class=\"dataframe\">\n",
              "  <thead>\n",
              "    <tr style=\"text-align: right;\">\n",
              "      <th></th>\n",
              "      <th>A1</th>\n",
              "      <th>A2</th>\n",
              "      <th>A3</th>\n",
              "      <th>A4</th>\n",
              "      <th>A5</th>\n",
              "      <th>A6</th>\n",
              "      <th>A7</th>\n",
              "      <th>A8</th>\n",
              "      <th>A9</th>\n",
              "      <th>A10</th>\n",
              "      <th>A11</th>\n",
              "      <th>A12</th>\n",
              "      <th>A13</th>\n",
              "      <th>A14</th>\n",
              "      <th>A15</th>\n",
              "      <th>A16</th>\n",
              "    </tr>\n",
              "  </thead>\n",
              "  <tbody>\n",
              "    <tr>\n",
              "      <th>0</th>\n",
              "      <td>b</td>\n",
              "      <td>30.83</td>\n",
              "      <td>0.000</td>\n",
              "      <td>u</td>\n",
              "      <td>g</td>\n",
              "      <td>w</td>\n",
              "      <td>v</td>\n",
              "      <td>1.25</td>\n",
              "      <td>t</td>\n",
              "      <td>t</td>\n",
              "      <td>1</td>\n",
              "      <td>f</td>\n",
              "      <td>g</td>\n",
              "      <td>202.0</td>\n",
              "      <td>0</td>\n",
              "      <td>+</td>\n",
              "    </tr>\n",
              "    <tr>\n",
              "      <th>1</th>\n",
              "      <td>a</td>\n",
              "      <td>58.67</td>\n",
              "      <td>4.460</td>\n",
              "      <td>u</td>\n",
              "      <td>g</td>\n",
              "      <td>q</td>\n",
              "      <td>h</td>\n",
              "      <td>3.04</td>\n",
              "      <td>t</td>\n",
              "      <td>t</td>\n",
              "      <td>6</td>\n",
              "      <td>f</td>\n",
              "      <td>g</td>\n",
              "      <td>43.0</td>\n",
              "      <td>560</td>\n",
              "      <td>+</td>\n",
              "    </tr>\n",
              "    <tr>\n",
              "      <th>2</th>\n",
              "      <td>a</td>\n",
              "      <td>24.50</td>\n",
              "      <td>0.500</td>\n",
              "      <td>u</td>\n",
              "      <td>g</td>\n",
              "      <td>q</td>\n",
              "      <td>h</td>\n",
              "      <td>1.50</td>\n",
              "      <td>t</td>\n",
              "      <td>f</td>\n",
              "      <td>0</td>\n",
              "      <td>f</td>\n",
              "      <td>g</td>\n",
              "      <td>280.0</td>\n",
              "      <td>824</td>\n",
              "      <td>+</td>\n",
              "    </tr>\n",
              "    <tr>\n",
              "      <th>3</th>\n",
              "      <td>b</td>\n",
              "      <td>27.83</td>\n",
              "      <td>1.540</td>\n",
              "      <td>u</td>\n",
              "      <td>g</td>\n",
              "      <td>w</td>\n",
              "      <td>v</td>\n",
              "      <td>3.75</td>\n",
              "      <td>t</td>\n",
              "      <td>t</td>\n",
              "      <td>5</td>\n",
              "      <td>t</td>\n",
              "      <td>g</td>\n",
              "      <td>100.0</td>\n",
              "      <td>3</td>\n",
              "      <td>+</td>\n",
              "    </tr>\n",
              "    <tr>\n",
              "      <th>4</th>\n",
              "      <td>b</td>\n",
              "      <td>20.17</td>\n",
              "      <td>5.625</td>\n",
              "      <td>u</td>\n",
              "      <td>g</td>\n",
              "      <td>w</td>\n",
              "      <td>v</td>\n",
              "      <td>1.71</td>\n",
              "      <td>t</td>\n",
              "      <td>f</td>\n",
              "      <td>0</td>\n",
              "      <td>f</td>\n",
              "      <td>s</td>\n",
              "      <td>120.0</td>\n",
              "      <td>0</td>\n",
              "      <td>+</td>\n",
              "    </tr>\n",
              "  </tbody>\n",
              "</table>\n",
              "</div>"
            ],
            "text/plain": [
              "  A1     A2     A3 A4 A5 A6 A7    A8 A9 A10  A11 A12 A13    A14  A15 A16\n",
              "0  b  30.83  0.000  u  g  w  v  1.25  t   t    1   f   g  202.0    0   +\n",
              "1  a  58.67  4.460  u  g  q  h  3.04  t   t    6   f   g   43.0  560   +\n",
              "2  a  24.50  0.500  u  g  q  h  1.50  t   f    0   f   g  280.0  824   +\n",
              "3  b  27.83  1.540  u  g  w  v  3.75  t   t    5   t   g  100.0    3   +\n",
              "4  b  20.17  5.625  u  g  w  v  1.71  t   f    0   f   s  120.0    0   +"
            ]
          },
          "metadata": {
            "tags": []
          },
          "execution_count": 34
        }
      ]
    },
    {
      "cell_type": "code",
      "metadata": {
        "id": "WdAAxlHBi_jR",
        "colab_type": "code",
        "outputId": "1727e429-0e8b-4a6d-fc02-685999d8fd2d",
        "colab": {
          "base_uri": "https://localhost:8080/",
          "height": 410
        }
      },
      "source": [
        "df.info()"
      ],
      "execution_count": 0,
      "outputs": [
        {
          "output_type": "stream",
          "text": [
            "<class 'pandas.core.frame.DataFrame'>\n",
            "RangeIndex: 690 entries, 0 to 689\n",
            "Data columns (total 16 columns):\n",
            "A1     678 non-null object\n",
            "A2     678 non-null float64\n",
            "A3     690 non-null float64\n",
            "A4     684 non-null object\n",
            "A5     684 non-null object\n",
            "A6     681 non-null object\n",
            "A7     681 non-null object\n",
            "A8     690 non-null float64\n",
            "A9     690 non-null object\n",
            "A10    690 non-null object\n",
            "A11    690 non-null int64\n",
            "A12    690 non-null object\n",
            "A13    690 non-null object\n",
            "A14    677 non-null float64\n",
            "A15    690 non-null int64\n",
            "A16    690 non-null object\n",
            "dtypes: float64(4), int64(2), object(10)\n",
            "memory usage: 86.3+ KB\n"
          ],
          "name": "stdout"
        }
      ]
    },
    {
      "cell_type": "code",
      "metadata": {
        "id": "FZrvbbKAoQvj",
        "colab_type": "code",
        "colab": {}
      },
      "source": [
        "df['A11']=df['A11'].astype(float)\n",
        "df['A15']=df['A15'].astype(float) #change value types to float"
      ],
      "execution_count": 0,
      "outputs": []
    },
    {
      "cell_type": "code",
      "metadata": {
        "id": "7RNSMvseofsq",
        "colab_type": "code",
        "outputId": "c79b8f0f-978c-4f1f-b9e0-6982a021a16c",
        "colab": {
          "base_uri": "https://localhost:8080/",
          "height": 335
        }
      },
      "source": [
        "df.dtypes"
      ],
      "execution_count": 0,
      "outputs": [
        {
          "output_type": "execute_result",
          "data": {
            "text/plain": [
              "A1           object\n",
              "A2          float64\n",
              "A3          float64\n",
              "A4           object\n",
              "A5           object\n",
              "A6           object\n",
              "A7           object\n",
              "A8          float64\n",
              "A9           object\n",
              "A10          object\n",
              "A11         float64\n",
              "A12          object\n",
              "A13          object\n",
              "A14         float64\n",
              "A15         float64\n",
              "approved      int64\n",
              "dtype: object"
            ]
          },
          "metadata": {
            "tags": []
          },
          "execution_count": 42
        }
      ]
    },
    {
      "cell_type": "code",
      "metadata": {
        "id": "eUNdbc-Fla0R",
        "colab_type": "code",
        "outputId": "01785724-9ed4-45fe-d7a0-98476959d3ec",
        "colab": {
          "base_uri": "https://localhost:8080/",
          "height": 335
        }
      },
      "source": [
        "df.isna().sum()"
      ],
      "execution_count": 0,
      "outputs": [
        {
          "output_type": "execute_result",
          "data": {
            "text/plain": [
              "A1          12\n",
              "A2          12\n",
              "A3           0\n",
              "A4           6\n",
              "A5           6\n",
              "A6           9\n",
              "A7           9\n",
              "A8           0\n",
              "A9           0\n",
              "A10          0\n",
              "A11          0\n",
              "A12          0\n",
              "A13          0\n",
              "A14         13\n",
              "A15          0\n",
              "approved     0\n",
              "dtype: int64"
            ]
          },
          "metadata": {
            "tags": []
          },
          "execution_count": 47
        }
      ]
    },
    {
      "cell_type": "markdown",
      "metadata": {
        "id": "D_CMk93PuZnC",
        "colab_type": "text"
      },
      "source": [
        "#Explore"
      ]
    },
    {
      "cell_type": "code",
      "metadata": {
        "id": "mLqQi_VMqAia",
        "colab_type": "code",
        "outputId": "c2cffef2-b73a-4553-bb7a-0a474d867371",
        "colab": {
          "base_uri": "https://localhost:8080/",
          "height": 206
        }
      },
      "source": [
        "df = df.rename(columns = {'A16':'approved'})\n",
        "df['approved'] = np.where(df['approved']=='+',1,0) #change approval info to a binary set for analysis\n",
        "df.head()"
      ],
      "execution_count": 0,
      "outputs": [
        {
          "output_type": "execute_result",
          "data": {
            "text/html": [
              "<div>\n",
              "<style scoped>\n",
              "    .dataframe tbody tr th:only-of-type {\n",
              "        vertical-align: middle;\n",
              "    }\n",
              "\n",
              "    .dataframe tbody tr th {\n",
              "        vertical-align: top;\n",
              "    }\n",
              "\n",
              "    .dataframe thead th {\n",
              "        text-align: right;\n",
              "    }\n",
              "</style>\n",
              "<table border=\"1\" class=\"dataframe\">\n",
              "  <thead>\n",
              "    <tr style=\"text-align: right;\">\n",
              "      <th></th>\n",
              "      <th>A1</th>\n",
              "      <th>A2</th>\n",
              "      <th>A3</th>\n",
              "      <th>A4</th>\n",
              "      <th>A5</th>\n",
              "      <th>A6</th>\n",
              "      <th>A7</th>\n",
              "      <th>A8</th>\n",
              "      <th>A9</th>\n",
              "      <th>A10</th>\n",
              "      <th>A11</th>\n",
              "      <th>A12</th>\n",
              "      <th>A13</th>\n",
              "      <th>A14</th>\n",
              "      <th>A15</th>\n",
              "      <th>approved</th>\n",
              "    </tr>\n",
              "  </thead>\n",
              "  <tbody>\n",
              "    <tr>\n",
              "      <th>0</th>\n",
              "      <td>b</td>\n",
              "      <td>30.83</td>\n",
              "      <td>0.000</td>\n",
              "      <td>u</td>\n",
              "      <td>g</td>\n",
              "      <td>w</td>\n",
              "      <td>v</td>\n",
              "      <td>1.25</td>\n",
              "      <td>t</td>\n",
              "      <td>t</td>\n",
              "      <td>1.0</td>\n",
              "      <td>f</td>\n",
              "      <td>g</td>\n",
              "      <td>202.0</td>\n",
              "      <td>0.0</td>\n",
              "      <td>1</td>\n",
              "    </tr>\n",
              "    <tr>\n",
              "      <th>1</th>\n",
              "      <td>a</td>\n",
              "      <td>58.67</td>\n",
              "      <td>4.460</td>\n",
              "      <td>u</td>\n",
              "      <td>g</td>\n",
              "      <td>q</td>\n",
              "      <td>h</td>\n",
              "      <td>3.04</td>\n",
              "      <td>t</td>\n",
              "      <td>t</td>\n",
              "      <td>6.0</td>\n",
              "      <td>f</td>\n",
              "      <td>g</td>\n",
              "      <td>43.0</td>\n",
              "      <td>560.0</td>\n",
              "      <td>1</td>\n",
              "    </tr>\n",
              "    <tr>\n",
              "      <th>2</th>\n",
              "      <td>a</td>\n",
              "      <td>24.50</td>\n",
              "      <td>0.500</td>\n",
              "      <td>u</td>\n",
              "      <td>g</td>\n",
              "      <td>q</td>\n",
              "      <td>h</td>\n",
              "      <td>1.50</td>\n",
              "      <td>t</td>\n",
              "      <td>f</td>\n",
              "      <td>0.0</td>\n",
              "      <td>f</td>\n",
              "      <td>g</td>\n",
              "      <td>280.0</td>\n",
              "      <td>824.0</td>\n",
              "      <td>1</td>\n",
              "    </tr>\n",
              "    <tr>\n",
              "      <th>3</th>\n",
              "      <td>b</td>\n",
              "      <td>27.83</td>\n",
              "      <td>1.540</td>\n",
              "      <td>u</td>\n",
              "      <td>g</td>\n",
              "      <td>w</td>\n",
              "      <td>v</td>\n",
              "      <td>3.75</td>\n",
              "      <td>t</td>\n",
              "      <td>t</td>\n",
              "      <td>5.0</td>\n",
              "      <td>t</td>\n",
              "      <td>g</td>\n",
              "      <td>100.0</td>\n",
              "      <td>3.0</td>\n",
              "      <td>1</td>\n",
              "    </tr>\n",
              "    <tr>\n",
              "      <th>4</th>\n",
              "      <td>b</td>\n",
              "      <td>20.17</td>\n",
              "      <td>5.625</td>\n",
              "      <td>u</td>\n",
              "      <td>g</td>\n",
              "      <td>w</td>\n",
              "      <td>v</td>\n",
              "      <td>1.71</td>\n",
              "      <td>t</td>\n",
              "      <td>f</td>\n",
              "      <td>0.0</td>\n",
              "      <td>f</td>\n",
              "      <td>s</td>\n",
              "      <td>120.0</td>\n",
              "      <td>0.0</td>\n",
              "      <td>1</td>\n",
              "    </tr>\n",
              "  </tbody>\n",
              "</table>\n",
              "</div>"
            ],
            "text/plain": [
              "  A1     A2     A3 A4 A5 A6 A7  ...  A10  A11 A12  A13    A14    A15  approved\n",
              "0  b  30.83  0.000  u  g  w  v  ...    t  1.0   f    g  202.0    0.0         1\n",
              "1  a  58.67  4.460  u  g  q  h  ...    t  6.0   f    g   43.0  560.0         1\n",
              "2  a  24.50  0.500  u  g  q  h  ...    f  0.0   f    g  280.0  824.0         1\n",
              "3  b  27.83  1.540  u  g  w  v  ...    t  5.0   t    g  100.0    3.0         1\n",
              "4  b  20.17  5.625  u  g  w  v  ...    f  0.0   f    s  120.0    0.0         1\n",
              "\n",
              "[5 rows x 16 columns]"
            ]
          },
          "metadata": {
            "tags": []
          },
          "execution_count": 36
        }
      ]
    },
    {
      "cell_type": "code",
      "metadata": {
        "id": "cZgSlctrwxUm",
        "colab_type": "code",
        "colab": {}
      },
      "source": [
        "df = df.fillna(method = 'ffill') # forward fill for NA valus"
      ],
      "execution_count": 0,
      "outputs": []
    },
    {
      "cell_type": "code",
      "metadata": {
        "id": "MdbfX1eTw9K7",
        "colab_type": "code",
        "outputId": "c97fe715-f816-49d3-a31a-8aa802575ebc",
        "colab": {
          "base_uri": "https://localhost:8080/",
          "height": 335
        }
      },
      "source": [
        "df.isna().sum()"
      ],
      "execution_count": 0,
      "outputs": [
        {
          "output_type": "execute_result",
          "data": {
            "text/plain": [
              "A1          0\n",
              "A2          0\n",
              "A3          0\n",
              "A4          0\n",
              "A5          0\n",
              "A6          0\n",
              "A7          0\n",
              "A8          0\n",
              "A9          0\n",
              "A10         0\n",
              "A11         0\n",
              "A12         0\n",
              "A13         0\n",
              "A14         0\n",
              "A15         0\n",
              "approved    0\n",
              "dtype: int64"
            ]
          },
          "metadata": {
            "tags": []
          },
          "execution_count": 49
        }
      ]
    },
    {
      "cell_type": "code",
      "metadata": {
        "id": "4iIflL6EufmZ",
        "colab_type": "code",
        "outputId": "0af6987f-c5f9-4d12-db78-1c2faab865d9",
        "colab": {
          "base_uri": "https://localhost:8080/",
          "height": 195
        }
      },
      "source": [
        "df.groupby('approved').describe()"
      ],
      "execution_count": 0,
      "outputs": [
        {
          "output_type": "execute_result",
          "data": {
            "text/html": [
              "<div>\n",
              "<style scoped>\n",
              "    .dataframe tbody tr th:only-of-type {\n",
              "        vertical-align: middle;\n",
              "    }\n",
              "\n",
              "    .dataframe tbody tr th {\n",
              "        vertical-align: top;\n",
              "    }\n",
              "\n",
              "    .dataframe thead tr th {\n",
              "        text-align: left;\n",
              "    }\n",
              "\n",
              "    .dataframe thead tr:last-of-type th {\n",
              "        text-align: right;\n",
              "    }\n",
              "</style>\n",
              "<table border=\"1\" class=\"dataframe\">\n",
              "  <thead>\n",
              "    <tr>\n",
              "      <th></th>\n",
              "      <th colspan=\"8\" halign=\"left\">A2</th>\n",
              "      <th colspan=\"8\" halign=\"left\">A3</th>\n",
              "      <th colspan=\"8\" halign=\"left\">A8</th>\n",
              "      <th colspan=\"8\" halign=\"left\">A11</th>\n",
              "      <th colspan=\"8\" halign=\"left\">A14</th>\n",
              "      <th colspan=\"8\" halign=\"left\">A15</th>\n",
              "    </tr>\n",
              "    <tr>\n",
              "      <th></th>\n",
              "      <th>count</th>\n",
              "      <th>mean</th>\n",
              "      <th>std</th>\n",
              "      <th>min</th>\n",
              "      <th>25%</th>\n",
              "      <th>50%</th>\n",
              "      <th>75%</th>\n",
              "      <th>max</th>\n",
              "      <th>count</th>\n",
              "      <th>mean</th>\n",
              "      <th>std</th>\n",
              "      <th>min</th>\n",
              "      <th>25%</th>\n",
              "      <th>50%</th>\n",
              "      <th>75%</th>\n",
              "      <th>max</th>\n",
              "      <th>count</th>\n",
              "      <th>mean</th>\n",
              "      <th>std</th>\n",
              "      <th>min</th>\n",
              "      <th>25%</th>\n",
              "      <th>50%</th>\n",
              "      <th>75%</th>\n",
              "      <th>max</th>\n",
              "      <th>count</th>\n",
              "      <th>mean</th>\n",
              "      <th>std</th>\n",
              "      <th>min</th>\n",
              "      <th>25%</th>\n",
              "      <th>50%</th>\n",
              "      <th>75%</th>\n",
              "      <th>max</th>\n",
              "      <th>count</th>\n",
              "      <th>mean</th>\n",
              "      <th>std</th>\n",
              "      <th>min</th>\n",
              "      <th>25%</th>\n",
              "      <th>50%</th>\n",
              "      <th>75%</th>\n",
              "      <th>max</th>\n",
              "      <th>count</th>\n",
              "      <th>mean</th>\n",
              "      <th>std</th>\n",
              "      <th>min</th>\n",
              "      <th>25%</th>\n",
              "      <th>50%</th>\n",
              "      <th>75%</th>\n",
              "      <th>max</th>\n",
              "    </tr>\n",
              "    <tr>\n",
              "      <th>approved</th>\n",
              "      <th></th>\n",
              "      <th></th>\n",
              "      <th></th>\n",
              "      <th></th>\n",
              "      <th></th>\n",
              "      <th></th>\n",
              "      <th></th>\n",
              "      <th></th>\n",
              "      <th></th>\n",
              "      <th></th>\n",
              "      <th></th>\n",
              "      <th></th>\n",
              "      <th></th>\n",
              "      <th></th>\n",
              "      <th></th>\n",
              "      <th></th>\n",
              "      <th></th>\n",
              "      <th></th>\n",
              "      <th></th>\n",
              "      <th></th>\n",
              "      <th></th>\n",
              "      <th></th>\n",
              "      <th></th>\n",
              "      <th></th>\n",
              "      <th></th>\n",
              "      <th></th>\n",
              "      <th></th>\n",
              "      <th></th>\n",
              "      <th></th>\n",
              "      <th></th>\n",
              "      <th></th>\n",
              "      <th></th>\n",
              "      <th></th>\n",
              "      <th></th>\n",
              "      <th></th>\n",
              "      <th></th>\n",
              "      <th></th>\n",
              "      <th></th>\n",
              "      <th></th>\n",
              "      <th></th>\n",
              "      <th></th>\n",
              "      <th></th>\n",
              "      <th></th>\n",
              "      <th></th>\n",
              "      <th></th>\n",
              "      <th></th>\n",
              "      <th></th>\n",
              "      <th></th>\n",
              "    </tr>\n",
              "  </thead>\n",
              "  <tbody>\n",
              "    <tr>\n",
              "      <th>0</th>\n",
              "      <td>383.0</td>\n",
              "      <td>29.753185</td>\n",
              "      <td>10.856638</td>\n",
              "      <td>15.17</td>\n",
              "      <td>22.00</td>\n",
              "      <td>27.33</td>\n",
              "      <td>34.83</td>\n",
              "      <td>80.25</td>\n",
              "      <td>383.0</td>\n",
              "      <td>3.839948</td>\n",
              "      <td>4.337662</td>\n",
              "      <td>0.0</td>\n",
              "      <td>0.835</td>\n",
              "      <td>2.21</td>\n",
              "      <td>5.00</td>\n",
              "      <td>26.335</td>\n",
              "      <td>383.0</td>\n",
              "      <td>1.257924</td>\n",
              "      <td>2.120481</td>\n",
              "      <td>0.0</td>\n",
              "      <td>0.125</td>\n",
              "      <td>0.415</td>\n",
              "      <td>1.5</td>\n",
              "      <td>13.875</td>\n",
              "      <td>383.0</td>\n",
              "      <td>0.631854</td>\n",
              "      <td>1.900049</td>\n",
              "      <td>0.0</td>\n",
              "      <td>0.0</td>\n",
              "      <td>0.0</td>\n",
              "      <td>0.0</td>\n",
              "      <td>20.0</td>\n",
              "      <td>383.0</td>\n",
              "      <td>200.375979</td>\n",
              "      <td>181.301778</td>\n",
              "      <td>0.0</td>\n",
              "      <td>100.0</td>\n",
              "      <td>168.0</td>\n",
              "      <td>278.0</td>\n",
              "      <td>2000.0</td>\n",
              "      <td>383.0</td>\n",
              "      <td>198.605744</td>\n",
              "      <td>671.608839</td>\n",
              "      <td>0.0</td>\n",
              "      <td>0.0</td>\n",
              "      <td>1.0</td>\n",
              "      <td>67.0</td>\n",
              "      <td>5552.0</td>\n",
              "    </tr>\n",
              "    <tr>\n",
              "      <th>1</th>\n",
              "      <td>307.0</td>\n",
              "      <td>33.641173</td>\n",
              "      <td>12.805674</td>\n",
              "      <td>13.75</td>\n",
              "      <td>23.17</td>\n",
              "      <td>30.17</td>\n",
              "      <td>41.33</td>\n",
              "      <td>76.75</td>\n",
              "      <td>307.0</td>\n",
              "      <td>5.904951</td>\n",
              "      <td>5.471485</td>\n",
              "      <td>0.0</td>\n",
              "      <td>1.500</td>\n",
              "      <td>4.46</td>\n",
              "      <td>9.52</td>\n",
              "      <td>28.000</td>\n",
              "      <td>307.0</td>\n",
              "      <td>3.427899</td>\n",
              "      <td>4.120792</td>\n",
              "      <td>0.0</td>\n",
              "      <td>0.750</td>\n",
              "      <td>2.000</td>\n",
              "      <td>5.0</td>\n",
              "      <td>28.500</td>\n",
              "      <td>307.0</td>\n",
              "      <td>4.605863</td>\n",
              "      <td>6.320242</td>\n",
              "      <td>0.0</td>\n",
              "      <td>0.0</td>\n",
              "      <td>3.0</td>\n",
              "      <td>7.0</td>\n",
              "      <td>67.0</td>\n",
              "      <td>307.0</td>\n",
              "      <td>163.104235</td>\n",
              "      <td>161.320700</td>\n",
              "      <td>0.0</td>\n",
              "      <td>0.0</td>\n",
              "      <td>120.0</td>\n",
              "      <td>280.0</td>\n",
              "      <td>840.0</td>\n",
              "      <td>307.0</td>\n",
              "      <td>2038.859935</td>\n",
              "      <td>7659.763941</td>\n",
              "      <td>0.0</td>\n",
              "      <td>0.0</td>\n",
              "      <td>221.0</td>\n",
              "      <td>1209.0</td>\n",
              "      <td>100000.0</td>\n",
              "    </tr>\n",
              "  </tbody>\n",
              "</table>\n",
              "</div>"
            ],
            "text/plain": [
              "             A2                               ...  A15                         \n",
              "          count       mean        std    min  ...  25%    50%     75%       max\n",
              "approved                                      ...                              \n",
              "0         383.0  29.753185  10.856638  15.17  ...  0.0    1.0    67.0    5552.0\n",
              "1         307.0  33.641173  12.805674  13.75  ...  0.0  221.0  1209.0  100000.0\n",
              "\n",
              "[2 rows x 48 columns]"
            ]
          },
          "metadata": {
            "tags": []
          },
          "execution_count": 50
        }
      ]
    },
    {
      "cell_type": "code",
      "metadata": {
        "id": "_H6Jq9aqu0Qu",
        "colab_type": "code",
        "outputId": "149ff79c-89d8-4537-e157-fd6e8c601d0a",
        "colab": {
          "base_uri": "https://localhost:8080/",
          "height": 1000
        }
      },
      "source": [
        "df.groupby('approved')['A2'].hist(alpha = .6) # could use a for loop here if had more time. It would plot a graph if df.dtype == 'float64'\n",
        "plt.title('A2')\n",
        "plt.show()\n",
        "df.groupby('approved')['A3'].hist(alpha = .6)\n",
        "plt.title('A3')\n",
        "plt.show()\n",
        "df.groupby('approved')['A8'].hist(alpha = .6)\n",
        "plt.title('A8')\n",
        "plt.show()\n",
        "df.groupby('approved')['A11'].hist(alpha = .6)\n",
        "plt.title('A11')\n",
        "plt.show()\n",
        "df.groupby('approved')['A14'].hist(alpha = .6)\n",
        "plt.title('A14')\n",
        "plt.show\n",
        "df.groupby('approved')['A15'].hist(alpha = .6)\n",
        "plt.title('A15')\n",
        "plt.show()"
      ],
      "execution_count": 0,
      "outputs": [
        {
          "output_type": "display_data",
          "data": {
            "image/png": "[encoded data removed]",
            "text/plain": [
              "<Figure size 432x288 with 1 Axes>"
            ]
          },
          "metadata": {
            "tags": []
          }
        },
        {
          "output_type": "display_data",
          "data": {
            "image/png": "[encoded data removed]",
            "text/plain": [
              "<Figure size 432x288 with 1 Axes>"
            ]
          },
          "metadata": {
            "tags": []
          }
        },
        {
          "output_type": "display_data",
          "data": {
            "image/png": "[encoded data removed]",
            "text/plain": [
              "<Figure size 432x288 with 1 Axes>"
            ]
          },
          "metadata": {
            "tags": []
          }
        },
        {
          "output_type": "display_data",
          "data": {
            "image/png": "[encoded data removed]",
            "text/plain": [
              "<Figure size 432x288 with 1 Axes>"
            ]
          },
          "metadata": {
            "tags": []
          }
        },
        {
          "output_type": "display_data",
          "data": {
            "image/png": "[encoded data removed]",
            "text/plain": [
              "<Figure size 432x288 with 1 Axes>"
            ]
          },
          "metadata": {
            "tags": []
          }
        }
      ]
    },
    {
      "cell_type": "markdown",
      "metadata": {
        "id": "uP97tlIB4w-0",
        "colab_type": "text"
      },
      "source": [
        "### Hypothesis testing"
      ]
    },
    {
      "cell_type": "code",
      "metadata": {
        "id": "8GJaO9xCvaV4",
        "colab_type": "code",
        "outputId": "b8455a9f-78f9-461a-f1f6-6e0494786971",
        "colab": {
          "base_uri": "https://localhost:8080/",
          "height": 54
        }
      },
      "source": [
        "import scipy.stats as stats\n",
        "\n",
        "approved2 = df[df['approved']==1]['A2']\n",
        "denied2 = df[df['approved']==0]['A2']\n",
        "\n",
        "tstat, pvalue = stats.ttest_ind(approved2, denied2, equal_var = False)\n",
        "print(tstat)\n",
        "print(pvalue)"
      ],
      "execution_count": 0,
      "outputs": [
        {
          "output_type": "stream",
          "text": [
            "4.2373530940401\n",
            "2.617353017680618e-05\n"
          ],
          "name": "stdout"
        }
      ]
    },
    {
      "cell_type": "code",
      "metadata": {
        "id": "M_re36ukzrGF",
        "colab_type": "code",
        "outputId": "15c14a9a-fcd2-4689-c605-aa8d7e61cf9f",
        "colab": {
          "base_uri": "https://localhost:8080/",
          "height": 1000
        }
      },
      "source": [
        "observed2 = pd.crosstab(df['approved'],df['A2']).values\n",
        "\n",
        "chi_sqrd2, p_value2, dof2, expected2 = stats.chi2_contingency(observed2) \n",
        "print(chi_sqrd2,'\\n', p_value2,'\\n', dof2,'\\n',expected2)"
      ],
      "execution_count": 0,
      "outputs": [
        {
          "output_type": "stream",
          "text": [
            "381.4230402871211 \n",
            " 0.10500352115644833 \n",
            " 348 \n",
            " [[0.55507246 0.55507246 0.55507246 1.11014493 0.55507246 1.11014493\n",
            "  1.11014493 0.55507246 1.11014493 1.66521739 1.11014493 1.11014493\n",
            "  1.66521739 0.55507246 0.55507246 0.55507246 0.55507246 1.66521739\n",
            "  1.66521739 0.55507246 1.66521739 0.55507246 1.66521739 1.66521739\n",
            "  1.11014493 0.55507246 1.11014493 0.55507246 1.66521739 0.55507246\n",
            "  0.55507246 3.33043478 1.11014493 1.11014493 3.33043478 1.11014493\n",
            "  1.66521739 1.66521739 1.66521739 1.66521739 0.55507246 2.77536232\n",
            "  1.66521739 1.66521739 0.55507246 0.55507246 4.44057971 1.66521739\n",
            "  3.33043478 2.22028986 1.66521739 1.11014493 1.66521739 1.66521739\n",
            "  1.11014493 1.11014493 0.55507246 1.66521739 0.55507246 1.11014493\n",
            "  1.11014493 1.66521739 1.66521739 1.11014493 2.22028986 1.66521739\n",
            "  1.66521739 0.55507246 1.11014493 3.33043478 1.66521739 5.55072464\n",
            "  1.66521739 1.11014493 2.22028986 3.33043478 2.77536232 2.22028986\n",
            "  2.77536232 1.11014493 1.66521739 2.22028986 3.33043478 1.66521739\n",
            "  1.66521739 1.66521739 0.55507246 1.11014493 1.11014493 3.33043478\n",
            "  2.22028986 2.22028986 1.11014493 0.55507246 3.33043478 1.11014493\n",
            "  2.22028986 1.66521739 1.11014493 1.11014493 0.55507246 1.11014493\n",
            "  2.22028986 1.66521739 0.55507246 0.55507246 0.55507246 0.55507246\n",
            "  2.22028986 0.55507246 0.55507246 0.55507246 0.55507246 2.22028986\n",
            "  1.66521739 0.55507246 1.11014493 1.11014493 0.55507246 2.22028986\n",
            "  0.55507246 1.11014493 1.66521739 2.77536232 1.11014493 2.77536232\n",
            "  1.11014493 0.55507246 1.66521739 1.66521739 0.55507246 0.55507246\n",
            "  1.11014493 2.22028986 1.66521739 1.66521739 1.11014493 0.55507246\n",
            "  1.11014493 1.11014493 2.22028986 1.66521739 1.11014493 0.55507246\n",
            "  1.66521739 0.55507246 0.55507246 0.55507246 1.66521739 0.55507246\n",
            "  0.55507246 0.55507246 0.55507246 1.11014493 1.11014493 0.55507246\n",
            "  0.55507246 0.55507246 1.11014493 1.66521739 0.55507246 1.11014493\n",
            "  0.55507246 1.11014493 0.55507246 1.11014493 1.11014493 1.11014493\n",
            "  1.11014493 0.55507246 1.66521739 2.77536232 1.11014493 1.11014493\n",
            "  1.11014493 0.55507246 0.55507246 0.55507246 1.11014493 2.77536232\n",
            "  1.11014493 0.55507246 1.66521739 1.66521739 1.11014493 0.55507246\n",
            "  1.66521739 1.66521739 2.22028986 1.11014493 1.11014493 0.55507246\n",
            "  0.55507246 0.55507246 1.11014493 2.22028986 1.11014493 1.11014493\n",
            "  2.22028986 1.11014493 0.55507246 0.55507246 1.11014493 0.55507246\n",
            "  0.55507246 1.66521739 0.55507246 1.11014493 0.55507246 0.55507246\n",
            "  0.55507246 1.66521739 1.66521739 1.11014493 1.66521739 0.55507246\n",
            "  1.66521739 0.55507246 1.11014493 0.55507246 1.11014493 0.55507246\n",
            "  0.55507246 1.11014493 0.55507246 0.55507246 1.11014493 0.55507246\n",
            "  1.11014493 1.66521739 0.55507246 0.55507246 0.55507246 1.11014493\n",
            "  1.11014493 1.11014493 1.66521739 0.55507246 0.55507246 1.11014493\n",
            "  1.66521739 1.11014493 1.66521739 1.11014493 2.22028986 1.11014493\n",
            "  0.55507246 0.55507246 1.11014493 0.55507246 0.55507246 1.11014493\n",
            "  0.55507246 0.55507246 0.55507246 0.55507246 1.11014493 1.11014493\n",
            "  0.55507246 0.55507246 1.11014493 1.11014493 0.55507246 0.55507246\n",
            "  1.11014493 1.11014493 0.55507246 1.11014493 0.55507246 0.55507246\n",
            "  0.55507246 0.55507246 0.55507246 0.55507246 0.55507246 0.55507246\n",
            "  0.55507246 0.55507246 1.11014493 1.11014493 0.55507246 0.55507246\n",
            "  1.11014493 1.66521739 0.55507246 0.55507246 0.55507246 1.11014493\n",
            "  1.11014493 0.55507246 0.55507246 0.55507246 0.55507246 0.55507246\n",
            "  0.55507246 0.55507246 0.55507246 0.55507246 0.55507246 0.55507246\n",
            "  1.11014493 0.55507246 0.55507246 0.55507246 0.55507246 1.11014493\n",
            "  0.55507246 0.55507246 0.55507246 0.55507246 0.55507246 0.55507246\n",
            "  0.55507246 0.55507246 0.55507246 0.55507246 0.55507246 0.55507246\n",
            "  0.55507246 0.55507246 0.55507246 1.11014493 0.55507246 0.55507246\n",
            "  0.55507246 0.55507246 0.55507246 0.55507246 0.55507246 0.55507246\n",
            "  0.55507246 0.55507246 0.55507246 0.55507246 0.55507246 0.55507246\n",
            "  0.55507246 1.11014493 0.55507246 0.55507246 0.55507246 0.55507246\n",
            "  0.55507246 0.55507246 0.55507246 0.55507246 0.55507246 0.55507246\n",
            "  0.55507246]\n",
            " [0.44492754 0.44492754 0.44492754 0.88985507 0.44492754 0.88985507\n",
            "  0.88985507 0.44492754 0.88985507 1.33478261 0.88985507 0.88985507\n",
            "  1.33478261 0.44492754 0.44492754 0.44492754 0.44492754 1.33478261\n",
            "  1.33478261 0.44492754 1.33478261 0.44492754 1.33478261 1.33478261\n",
            "  0.88985507 0.44492754 0.88985507 0.44492754 1.33478261 0.44492754\n",
            "  0.44492754 2.66956522 0.88985507 0.88985507 2.66956522 0.88985507\n",
            "  1.33478261 1.33478261 1.33478261 1.33478261 0.44492754 2.22463768\n",
            "  1.33478261 1.33478261 0.44492754 0.44492754 3.55942029 1.33478261\n",
            "  2.66956522 1.77971014 1.33478261 0.88985507 1.33478261 1.33478261\n",
            "  0.88985507 0.88985507 0.44492754 1.33478261 0.44492754 0.88985507\n",
            "  0.88985507 1.33478261 1.33478261 0.88985507 1.77971014 1.33478261\n",
            "  1.33478261 0.44492754 0.88985507 2.66956522 1.33478261 4.44927536\n",
            "  1.33478261 0.88985507 1.77971014 2.66956522 2.22463768 1.77971014\n",
            "  2.22463768 0.88985507 1.33478261 1.77971014 2.66956522 1.33478261\n",
            "  1.33478261 1.33478261 0.44492754 0.88985507 0.88985507 2.66956522\n",
            "  1.77971014 1.77971014 0.88985507 0.44492754 2.66956522 0.88985507\n",
            "  1.77971014 1.33478261 0.88985507 0.88985507 0.44492754 0.88985507\n",
            "  1.77971014 1.33478261 0.44492754 0.44492754 0.44492754 0.44492754\n",
            "  1.77971014 0.44492754 0.44492754 0.44492754 0.44492754 1.77971014\n",
            "  1.33478261 0.44492754 0.88985507 0.88985507 0.44492754 1.77971014\n",
            "  0.44492754 0.88985507 1.33478261 2.22463768 0.88985507 2.22463768\n",
            "  0.88985507 0.44492754 1.33478261 1.33478261 0.44492754 0.44492754\n",
            "  0.88985507 1.77971014 1.33478261 1.33478261 0.88985507 0.44492754\n",
            "  0.88985507 0.88985507 1.77971014 1.33478261 0.88985507 0.44492754\n",
            "  1.33478261 0.44492754 0.44492754 0.44492754 1.33478261 0.44492754\n",
            "  0.44492754 0.44492754 0.44492754 0.88985507 0.88985507 0.44492754\n",
            "  0.44492754 0.44492754 0.88985507 1.33478261 0.44492754 0.88985507\n",
            "  0.44492754 0.88985507 0.44492754 0.88985507 0.88985507 0.88985507\n",
            "  0.88985507 0.44492754 1.33478261 2.22463768 0.88985507 0.88985507\n",
            "  0.88985507 0.44492754 0.44492754 0.44492754 0.88985507 2.22463768\n",
            "  0.88985507 0.44492754 1.33478261 1.33478261 0.88985507 0.44492754\n",
            "  1.33478261 1.33478261 1.77971014 0.88985507 0.88985507 0.44492754\n",
            "  0.44492754 0.44492754 0.88985507 1.77971014 0.88985507 0.88985507\n",
            "  1.77971014 0.88985507 0.44492754 0.44492754 0.88985507 0.44492754\n",
            "  0.44492754 1.33478261 0.44492754 0.88985507 0.44492754 0.44492754\n",
            "  0.44492754 1.33478261 1.33478261 0.88985507 1.33478261 0.44492754\n",
            "  1.33478261 0.44492754 0.88985507 0.44492754 0.88985507 0.44492754\n",
            "  0.44492754 0.88985507 0.44492754 0.44492754 0.88985507 0.44492754\n",
            "  0.88985507 1.33478261 0.44492754 0.44492754 0.44492754 0.88985507\n",
            "  0.88985507 0.88985507 1.33478261 0.44492754 0.44492754 0.88985507\n",
            "  1.33478261 0.88985507 1.33478261 0.88985507 1.77971014 0.88985507\n",
            "  0.44492754 0.44492754 0.88985507 0.44492754 0.44492754 0.88985507\n",
            "  0.44492754 0.44492754 0.44492754 0.44492754 0.88985507 0.88985507\n",
            "  0.44492754 0.44492754 0.88985507 0.88985507 0.44492754 0.44492754\n",
            "  0.88985507 0.88985507 0.44492754 0.88985507 0.44492754 0.44492754\n",
            "  0.44492754 0.44492754 0.44492754 0.44492754 0.44492754 0.44492754\n",
            "  0.44492754 0.44492754 0.88985507 0.88985507 0.44492754 0.44492754\n",
            "  0.88985507 1.33478261 0.44492754 0.44492754 0.44492754 0.88985507\n",
            "  0.88985507 0.44492754 0.44492754 0.44492754 0.44492754 0.44492754\n",
            "  0.44492754 0.44492754 0.44492754 0.44492754 0.44492754 0.44492754\n",
            "  0.88985507 0.44492754 0.44492754 0.44492754 0.44492754 0.88985507\n",
            "  0.44492754 0.44492754 0.44492754 0.44492754 0.44492754 0.44492754\n",
            "  0.44492754 0.44492754 0.44492754 0.44492754 0.44492754 0.44492754\n",
            "  0.44492754 0.44492754 0.44492754 0.88985507 0.44492754 0.44492754\n",
            "  0.44492754 0.44492754 0.44492754 0.44492754 0.44492754 0.44492754\n",
            "  0.44492754 0.44492754 0.44492754 0.44492754 0.44492754 0.44492754\n",
            "  0.44492754 0.88985507 0.44492754 0.44492754 0.44492754 0.44492754\n",
            "  0.44492754 0.44492754 0.44492754 0.44492754 0.44492754 0.44492754\n",
            "  0.44492754]]\n"
          ],
          "name": "stdout"
        }
      ]
    },
    {
      "cell_type": "code",
      "metadata": {
        "id": "Vy90azD_2hp4",
        "colab_type": "code",
        "outputId": "d6c3bbd4-63bd-4862-a9ec-e3933d02868b",
        "colab": {
          "base_uri": "https://localhost:8080/",
          "height": 54
        }
      },
      "source": [
        "approved15 = df[df['approved']==1]['A15']\n",
        "denied15 = df[df['approved']==0]['A15']\n",
        "\n",
        "tstat15, pvalue15 = stats.ttest_ind(approved15, denied15, equal_var = False)\n",
        "print(tstat15)\n",
        "print(pvalue15)"
      ],
      "execution_count": 0,
      "outputs": [
        {
          "output_type": "stream",
          "text": [
            "4.196600236397611\n",
            "3.5433798702024966e-05\n"
          ],
          "name": "stdout"
        }
      ]
    },
    {
      "cell_type": "code",
      "metadata": {
        "id": "qwL2e7XO3Jlf",
        "colab_type": "code",
        "outputId": "041cca4a-6fe2-4ef6-fcb5-fc8014dfa9e7",
        "colab": {
          "base_uri": "https://localhost:8080/",
          "height": 1000
        }
      },
      "source": [
        "observed15 = pd.crosstab(df['approved'],df['A15']).values\n",
        "\n",
        "chi_sqrd15, p_value15, dof15, expected15 = stats.chi2_contingency(observed15) \n",
        "print(chi_sqrd15,'\\n', p_value15,'\\n', dof15,'\\n',expected15)"
      ],
      "execution_count": 0,
      "outputs": [
        {
          "output_type": "stream",
          "text": [
            "314.9405211993805 \n",
            " 0.0007080702494902256 \n",
            " 239 \n",
            " [[163.74637681  16.09710145   4.99565217   3.33043478   2.77536232\n",
            "    4.44057971   4.44057971   2.22028986   1.11014493   0.55507246\n",
            "    2.22028986   1.11014493   0.55507246   1.11014493   0.55507246\n",
            "    1.11014493   1.11014493   1.11014493   1.66521739   1.11014493\n",
            "    2.22028986   1.11014493   0.55507246   0.55507246   0.55507246\n",
            "    1.11014493   1.11014493   0.55507246   0.55507246   1.11014493\n",
            "    0.55507246   1.11014493   0.55507246   0.55507246   1.11014493\n",
            "    2.77536232   0.55507246   0.55507246   0.55507246   0.55507246\n",
            "    0.55507246   1.11014493   1.11014493   0.55507246   0.55507246\n",
            "    0.55507246   0.55507246   0.55507246   1.11014493   3.33043478\n",
            "    0.55507246   1.11014493   0.55507246   0.55507246   0.55507246\n",
            "    0.55507246   0.55507246   0.55507246   0.55507246   0.55507246\n",
            "    0.55507246   0.55507246   0.55507246   0.55507246   0.55507246\n",
            "    2.22028986   0.55507246   0.55507246   0.55507246   0.55507246\n",
            "    0.55507246   0.55507246   0.55507246   0.55507246   0.55507246\n",
            "    0.55507246   3.33043478   1.11014493   0.55507246   0.55507246\n",
            "    0.55507246   0.55507246   0.55507246   0.55507246   0.55507246\n",
            "    0.55507246   0.55507246   0.55507246   0.55507246   0.55507246\n",
            "    0.55507246   1.11014493   0.55507246   4.44057971   0.55507246\n",
            "    0.55507246   0.55507246   0.55507246   0.55507246   0.55507246\n",
            "    1.11014493   1.11014493   0.55507246   0.55507246   1.11014493\n",
            "    0.55507246   0.55507246   0.55507246   1.66521739   1.11014493\n",
            "    1.11014493   0.55507246   0.55507246   0.55507246   5.55072464\n",
            "    0.55507246   0.55507246   1.11014493   0.55507246   1.66521739\n",
            "    0.55507246   0.55507246   0.55507246   0.55507246   1.66521739\n",
            "    0.55507246   0.55507246   0.55507246   0.55507246   0.55507246\n",
            "    0.55507246   0.55507246   0.55507246   0.55507246   0.55507246\n",
            "    0.55507246   0.55507246   0.55507246   0.55507246   1.11014493\n",
            "    0.55507246   0.55507246   0.55507246   0.55507246   0.55507246\n",
            "    0.55507246   0.55507246   0.55507246   0.55507246   5.55072464\n",
            "    0.55507246   0.55507246   0.55507246   0.55507246   0.55507246\n",
            "    0.55507246   0.55507246   1.11014493   0.55507246   1.11014493\n",
            "    0.55507246   0.55507246   0.55507246   0.55507246   0.55507246\n",
            "    0.55507246   0.55507246   0.55507246   0.55507246   0.55507246\n",
            "    0.55507246   0.55507246   0.55507246   0.55507246   0.55507246\n",
            "    0.55507246   0.55507246   0.55507246   0.55507246   1.66521739\n",
            "    0.55507246   0.55507246   0.55507246   0.55507246   0.55507246\n",
            "    0.55507246   0.55507246   0.55507246   0.55507246   0.55507246\n",
            "    0.55507246   0.55507246   0.55507246   0.55507246   0.55507246\n",
            "    0.55507246   0.55507246   0.55507246   0.55507246   2.22028986\n",
            "    1.11014493   0.55507246   0.55507246   0.55507246   0.55507246\n",
            "    1.66521739   0.55507246   0.55507246   0.55507246   0.55507246\n",
            "    0.55507246   0.55507246   1.66521739   0.55507246   0.55507246\n",
            "    0.55507246   0.55507246   0.55507246   0.55507246   0.55507246\n",
            "    0.55507246   0.55507246   0.55507246   0.55507246   0.55507246\n",
            "    0.55507246   0.55507246   0.55507246   0.55507246   0.55507246\n",
            "    0.55507246   0.55507246   0.55507246   0.55507246   0.55507246\n",
            "    0.55507246   0.55507246   0.55507246   0.55507246   0.55507246]\n",
            " [131.25362319  12.90289855   4.00434783   2.66956522   2.22463768\n",
            "    3.55942029   3.55942029   1.77971014   0.88985507   0.44492754\n",
            "    1.77971014   0.88985507   0.44492754   0.88985507   0.44492754\n",
            "    0.88985507   0.88985507   0.88985507   1.33478261   0.88985507\n",
            "    1.77971014   0.88985507   0.44492754   0.44492754   0.44492754\n",
            "    0.88985507   0.88985507   0.44492754   0.44492754   0.88985507\n",
            "    0.44492754   0.88985507   0.44492754   0.44492754   0.88985507\n",
            "    2.22463768   0.44492754   0.44492754   0.44492754   0.44492754\n",
            "    0.44492754   0.88985507   0.88985507   0.44492754   0.44492754\n",
            "    0.44492754   0.44492754   0.44492754   0.88985507   2.66956522\n",
            "    0.44492754   0.88985507   0.44492754   0.44492754   0.44492754\n",
            "    0.44492754   0.44492754   0.44492754   0.44492754   0.44492754\n",
            "    0.44492754   0.44492754   0.44492754   0.44492754   0.44492754\n",
            "    1.77971014   0.44492754   0.44492754   0.44492754   0.44492754\n",
            "    0.44492754   0.44492754   0.44492754   0.44492754   0.44492754\n",
            "    0.44492754   2.66956522   0.88985507   0.44492754   0.44492754\n",
            "    0.44492754   0.44492754   0.44492754   0.44492754   0.44492754\n",
            "    0.44492754   0.44492754   0.44492754   0.44492754   0.44492754\n",
            "    0.44492754   0.88985507   0.44492754   3.55942029   0.44492754\n",
            "    0.44492754   0.44492754   0.44492754   0.44492754   0.44492754\n",
            "    0.88985507   0.88985507   0.44492754   0.44492754   0.88985507\n",
            "    0.44492754   0.44492754   0.44492754   1.33478261   0.88985507\n",
            "    0.88985507   0.44492754   0.44492754   0.44492754   4.44927536\n",
            "    0.44492754   0.44492754   0.88985507   0.44492754   1.33478261\n",
            "    0.44492754   0.44492754   0.44492754   0.44492754   1.33478261\n",
            "    0.44492754   0.44492754   0.44492754   0.44492754   0.44492754\n",
            "    0.44492754   0.44492754   0.44492754   0.44492754   0.44492754\n",
            "    0.44492754   0.44492754   0.44492754   0.44492754   0.88985507\n",
            "    0.44492754   0.44492754   0.44492754   0.44492754   0.44492754\n",
            "    0.44492754   0.44492754   0.44492754   0.44492754   4.44927536\n",
            "    0.44492754   0.44492754   0.44492754   0.44492754   0.44492754\n",
            "    0.44492754   0.44492754   0.88985507   0.44492754   0.88985507\n",
            "    0.44492754   0.44492754   0.44492754   0.44492754   0.44492754\n",
            "    0.44492754   0.44492754   0.44492754   0.44492754   0.44492754\n",
            "    0.44492754   0.44492754   0.44492754   0.44492754   0.44492754\n",
            "    0.44492754   0.44492754   0.44492754   0.44492754   1.33478261\n",
            "    0.44492754   0.44492754   0.44492754   0.44492754   0.44492754\n",
            "    0.44492754   0.44492754   0.44492754   0.44492754   0.44492754\n",
            "    0.44492754   0.44492754   0.44492754   0.44492754   0.44492754\n",
            "    0.44492754   0.44492754   0.44492754   0.44492754   1.77971014\n",
            "    0.88985507   0.44492754   0.44492754   0.44492754   0.44492754\n",
            "    1.33478261   0.44492754   0.44492754   0.44492754   0.44492754\n",
            "    0.44492754   0.44492754   1.33478261   0.44492754   0.44492754\n",
            "    0.44492754   0.44492754   0.44492754   0.44492754   0.44492754\n",
            "    0.44492754   0.44492754   0.44492754   0.44492754   0.44492754\n",
            "    0.44492754   0.44492754   0.44492754   0.44492754   0.44492754\n",
            "    0.44492754   0.44492754   0.44492754   0.44492754   0.44492754\n",
            "    0.44492754   0.44492754   0.44492754   0.44492754   0.44492754]]\n"
          ],
          "name": "stdout"
        }
      ]
    },
    {
      "cell_type": "markdown",
      "metadata": {
        "id": "6Sn2aIm-5XoP",
        "colab_type": "text"
      },
      "source": [
        "# Report"
      ]
    },
    {
      "cell_type": "markdown",
      "metadata": {
        "id": "JJeg8mYl5byY",
        "colab_type": "text"
      },
      "source": [
        "In order to determine if there are dependencies or correlations between features of our dataframe we run independece tests. I chose A2 because the values seem to be dependent and close to each other, primarily indicative of a linear dependence. A15 was chosen because it's data between groups of approved and unapproved approved looked remarkably different, possibly indicating a different type of dependency."
      ]
    },
    {
      "cell_type": "markdown",
      "metadata": {
        "id": "aJZzTorQ8K12",
        "colab_type": "text"
      },
      "source": [
        "## Student tests"
      ]
    },
    {
      "cell_type": "markdown",
      "metadata": {
        "id": "x7mwir3x8VqI",
        "colab_type": "text"
      },
      "source": [
        "### Approved vs A2"
      ]
    },
    {
      "cell_type": "markdown",
      "metadata": {
        "id": "dYUsYuNj8nfk",
        "colab_type": "text"
      },
      "source": [
        "Using the ttest method, the following was obtained:"
      ]
    },
    {
      "cell_type": "code",
      "metadata": {
        "id": "h_uQ6PKj5alV",
        "colab_type": "code",
        "outputId": "6926ecf4-098b-4221-de9c-a0727ee6150b",
        "colab": {
          "base_uri": "https://localhost:8080/",
          "height": 36
        }
      },
      "source": [
        "print(f\"P-Value for relationship between 'approved' and 'A2': {pvalue}\")"
      ],
      "execution_count": 0,
      "outputs": [
        {
          "output_type": "stream",
          "text": [
            "P-Value for relationship between being approved and A2: 2.617353017680618e-05\n"
          ],
          "name": "stdout"
        }
      ]
    },
    {
      "cell_type": "markdown",
      "metadata": {
        "id": "l1V8jOTM8AOp",
        "colab_type": "text"
      },
      "source": [
        "For A2, the results of the ttest indicate we can reject the null hypothesis that the two values are independent.  There is some underlying dependency between being approved or not and the values in A2."
      ]
    },
    {
      "cell_type": "markdown",
      "metadata": {
        "id": "sA0m1t2d9D1P",
        "colab_type": "text"
      },
      "source": [
        "The Chi-Squared test gave the following result:"
      ]
    },
    {
      "cell_type": "code",
      "metadata": {
        "id": "4gyypxLL9Lbk",
        "colab_type": "code",
        "outputId": "c7152aaf-068c-44b2-9cf9-c7eaa8b0b941",
        "colab": {
          "base_uri": "https://localhost:8080/",
          "height": 36
        }
      },
      "source": [
        "print(f\"P-Value for relationship between 'approved' and 'A2': {p_value2}\")"
      ],
      "execution_count": 0,
      "outputs": [
        {
          "output_type": "stream",
          "text": [
            "P-Value for relationship between 'approved' and 'A2': 0.10500352115644833\n"
          ],
          "name": "stdout"
        }
      ]
    },
    {
      "cell_type": "markdown",
      "metadata": {
        "id": "I1409JKl9lsN",
        "colab_type": "text"
      },
      "source": [
        "This result is contradictory to what the ttest indicated. Upon further inspection of the documentation of chi2_contingency, there is a statement which reads \"An often quoted guideline for the validity of this calculation is that the test should be used only if the observed and expected frequencies in each cell are at least 5.\" Inspecting our expected frequencies, we see that we can disregard the test results because the criteria does not meet the validity standard. "
      ]
    },
    {
      "cell_type": "code",
      "metadata": {
        "id": "Q7bc-d5B_1P0",
        "colab_type": "code",
        "outputId": "64493c48-f032-43fd-c981-0b1182ccd90b",
        "colab": {
          "base_uri": "https://localhost:8080/",
          "height": 1000
        }
      },
      "source": [
        "print(f'Expected: \\n {expected2}')"
      ],
      "execution_count": 0,
      "outputs": [
        {
          "output_type": "stream",
          "text": [
            "Expected: \n",
            " [[0.55507246 0.55507246 0.55507246 1.11014493 0.55507246 1.11014493\n",
            "  1.11014493 0.55507246 1.11014493 1.66521739 1.11014493 1.11014493\n",
            "  1.66521739 0.55507246 0.55507246 0.55507246 0.55507246 1.66521739\n",
            "  1.66521739 0.55507246 1.66521739 0.55507246 1.66521739 1.66521739\n",
            "  1.11014493 0.55507246 1.11014493 0.55507246 1.66521739 0.55507246\n",
            "  0.55507246 3.33043478 1.11014493 1.11014493 3.33043478 1.11014493\n",
            "  1.66521739 1.66521739 1.66521739 1.66521739 0.55507246 2.77536232\n",
            "  1.66521739 1.66521739 0.55507246 0.55507246 4.44057971 1.66521739\n",
            "  3.33043478 2.22028986 1.66521739 1.11014493 1.66521739 1.66521739\n",
            "  1.11014493 1.11014493 0.55507246 1.66521739 0.55507246 1.11014493\n",
            "  1.11014493 1.66521739 1.66521739 1.11014493 2.22028986 1.66521739\n",
            "  1.66521739 0.55507246 1.11014493 3.33043478 1.66521739 5.55072464\n",
            "  1.66521739 1.11014493 2.22028986 3.33043478 2.77536232 2.22028986\n",
            "  2.77536232 1.11014493 1.66521739 2.22028986 3.33043478 1.66521739\n",
            "  1.66521739 1.66521739 0.55507246 1.11014493 1.11014493 3.33043478\n",
            "  2.22028986 2.22028986 1.11014493 0.55507246 3.33043478 1.11014493\n",
            "  2.22028986 1.66521739 1.11014493 1.11014493 0.55507246 1.11014493\n",
            "  2.22028986 1.66521739 0.55507246 0.55507246 0.55507246 0.55507246\n",
            "  2.22028986 0.55507246 0.55507246 0.55507246 0.55507246 2.22028986\n",
            "  1.66521739 0.55507246 1.11014493 1.11014493 0.55507246 2.22028986\n",
            "  0.55507246 1.11014493 1.66521739 2.77536232 1.11014493 2.77536232\n",
            "  1.11014493 0.55507246 1.66521739 1.66521739 0.55507246 0.55507246\n",
            "  1.11014493 2.22028986 1.66521739 1.66521739 1.11014493 0.55507246\n",
            "  1.11014493 1.11014493 2.22028986 1.66521739 1.11014493 0.55507246\n",
            "  1.66521739 0.55507246 0.55507246 0.55507246 1.66521739 0.55507246\n",
            "  0.55507246 0.55507246 0.55507246 1.11014493 1.11014493 0.55507246\n",
            "  0.55507246 0.55507246 1.11014493 1.66521739 0.55507246 1.11014493\n",
            "  0.55507246 1.11014493 0.55507246 1.11014493 1.11014493 1.11014493\n",
            "  1.11014493 0.55507246 1.66521739 2.77536232 1.11014493 1.11014493\n",
            "  1.11014493 0.55507246 0.55507246 0.55507246 1.11014493 2.77536232\n",
            "  1.11014493 0.55507246 1.66521739 1.66521739 1.11014493 0.55507246\n",
            "  1.66521739 1.66521739 2.22028986 1.11014493 1.11014493 0.55507246\n",
            "  0.55507246 0.55507246 1.11014493 2.22028986 1.11014493 1.11014493\n",
            "  2.22028986 1.11014493 0.55507246 0.55507246 1.11014493 0.55507246\n",
            "  0.55507246 1.66521739 0.55507246 1.11014493 0.55507246 0.55507246\n",
            "  0.55507246 1.66521739 1.66521739 1.11014493 1.66521739 0.55507246\n",
            "  1.66521739 0.55507246 1.11014493 0.55507246 1.11014493 0.55507246\n",
            "  0.55507246 1.11014493 0.55507246 0.55507246 1.11014493 0.55507246\n",
            "  1.11014493 1.66521739 0.55507246 0.55507246 0.55507246 1.11014493\n",
            "  1.11014493 1.11014493 1.66521739 0.55507246 0.55507246 1.11014493\n",
            "  1.66521739 1.11014493 1.66521739 1.11014493 2.22028986 1.11014493\n",
            "  0.55507246 0.55507246 1.11014493 0.55507246 0.55507246 1.11014493\n",
            "  0.55507246 0.55507246 0.55507246 0.55507246 1.11014493 1.11014493\n",
            "  0.55507246 0.55507246 1.11014493 1.11014493 0.55507246 0.55507246\n",
            "  1.11014493 1.11014493 0.55507246 1.11014493 0.55507246 0.55507246\n",
            "  0.55507246 0.55507246 0.55507246 0.55507246 0.55507246 0.55507246\n",
            "  0.55507246 0.55507246 1.11014493 1.11014493 0.55507246 0.55507246\n",
            "  1.11014493 1.66521739 0.55507246 0.55507246 0.55507246 1.11014493\n",
            "  1.11014493 0.55507246 0.55507246 0.55507246 0.55507246 0.55507246\n",
            "  0.55507246 0.55507246 0.55507246 0.55507246 0.55507246 0.55507246\n",
            "  1.11014493 0.55507246 0.55507246 0.55507246 0.55507246 1.11014493\n",
            "  0.55507246 0.55507246 0.55507246 0.55507246 0.55507246 0.55507246\n",
            "  0.55507246 0.55507246 0.55507246 0.55507246 0.55507246 0.55507246\n",
            "  0.55507246 0.55507246 0.55507246 1.11014493 0.55507246 0.55507246\n",
            "  0.55507246 0.55507246 0.55507246 0.55507246 0.55507246 0.55507246\n",
            "  0.55507246 0.55507246 0.55507246 0.55507246 0.55507246 0.55507246\n",
            "  0.55507246 1.11014493 0.55507246 0.55507246 0.55507246 0.55507246\n",
            "  0.55507246 0.55507246 0.55507246 0.55507246 0.55507246 0.55507246\n",
            "  0.55507246]\n",
            " [0.44492754 0.44492754 0.44492754 0.88985507 0.44492754 0.88985507\n",
            "  0.88985507 0.44492754 0.88985507 1.33478261 0.88985507 0.88985507\n",
            "  1.33478261 0.44492754 0.44492754 0.44492754 0.44492754 1.33478261\n",
            "  1.33478261 0.44492754 1.33478261 0.44492754 1.33478261 1.33478261\n",
            "  0.88985507 0.44492754 0.88985507 0.44492754 1.33478261 0.44492754\n",
            "  0.44492754 2.66956522 0.88985507 0.88985507 2.66956522 0.88985507\n",
            "  1.33478261 1.33478261 1.33478261 1.33478261 0.44492754 2.22463768\n",
            "  1.33478261 1.33478261 0.44492754 0.44492754 3.55942029 1.33478261\n",
            "  2.66956522 1.77971014 1.33478261 0.88985507 1.33478261 1.33478261\n",
            "  0.88985507 0.88985507 0.44492754 1.33478261 0.44492754 0.88985507\n",
            "  0.88985507 1.33478261 1.33478261 0.88985507 1.77971014 1.33478261\n",
            "  1.33478261 0.44492754 0.88985507 2.66956522 1.33478261 4.44927536\n",
            "  1.33478261 0.88985507 1.77971014 2.66956522 2.22463768 1.77971014\n",
            "  2.22463768 0.88985507 1.33478261 1.77971014 2.66956522 1.33478261\n",
            "  1.33478261 1.33478261 0.44492754 0.88985507 0.88985507 2.66956522\n",
            "  1.77971014 1.77971014 0.88985507 0.44492754 2.66956522 0.88985507\n",
            "  1.77971014 1.33478261 0.88985507 0.88985507 0.44492754 0.88985507\n",
            "  1.77971014 1.33478261 0.44492754 0.44492754 0.44492754 0.44492754\n",
            "  1.77971014 0.44492754 0.44492754 0.44492754 0.44492754 1.77971014\n",
            "  1.33478261 0.44492754 0.88985507 0.88985507 0.44492754 1.77971014\n",
            "  0.44492754 0.88985507 1.33478261 2.22463768 0.88985507 2.22463768\n",
            "  0.88985507 0.44492754 1.33478261 1.33478261 0.44492754 0.44492754\n",
            "  0.88985507 1.77971014 1.33478261 1.33478261 0.88985507 0.44492754\n",
            "  0.88985507 0.88985507 1.77971014 1.33478261 0.88985507 0.44492754\n",
            "  1.33478261 0.44492754 0.44492754 0.44492754 1.33478261 0.44492754\n",
            "  0.44492754 0.44492754 0.44492754 0.88985507 0.88985507 0.44492754\n",
            "  0.44492754 0.44492754 0.88985507 1.33478261 0.44492754 0.88985507\n",
            "  0.44492754 0.88985507 0.44492754 0.88985507 0.88985507 0.88985507\n",
            "  0.88985507 0.44492754 1.33478261 2.22463768 0.88985507 0.88985507\n",
            "  0.88985507 0.44492754 0.44492754 0.44492754 0.88985507 2.22463768\n",
            "  0.88985507 0.44492754 1.33478261 1.33478261 0.88985507 0.44492754\n",
            "  1.33478261 1.33478261 1.77971014 0.88985507 0.88985507 0.44492754\n",
            "  0.44492754 0.44492754 0.88985507 1.77971014 0.88985507 0.88985507\n",
            "  1.77971014 0.88985507 0.44492754 0.44492754 0.88985507 0.44492754\n",
            "  0.44492754 1.33478261 0.44492754 0.88985507 0.44492754 0.44492754\n",
            "  0.44492754 1.33478261 1.33478261 0.88985507 1.33478261 0.44492754\n",
            "  1.33478261 0.44492754 0.88985507 0.44492754 0.88985507 0.44492754\n",
            "  0.44492754 0.88985507 0.44492754 0.44492754 0.88985507 0.44492754\n",
            "  0.88985507 1.33478261 0.44492754 0.44492754 0.44492754 0.88985507\n",
            "  0.88985507 0.88985507 1.33478261 0.44492754 0.44492754 0.88985507\n",
            "  1.33478261 0.88985507 1.33478261 0.88985507 1.77971014 0.88985507\n",
            "  0.44492754 0.44492754 0.88985507 0.44492754 0.44492754 0.88985507\n",
            "  0.44492754 0.44492754 0.44492754 0.44492754 0.88985507 0.88985507\n",
            "  0.44492754 0.44492754 0.88985507 0.88985507 0.44492754 0.44492754\n",
            "  0.88985507 0.88985507 0.44492754 0.88985507 0.44492754 0.44492754\n",
            "  0.44492754 0.44492754 0.44492754 0.44492754 0.44492754 0.44492754\n",
            "  0.44492754 0.44492754 0.88985507 0.88985507 0.44492754 0.44492754\n",
            "  0.88985507 1.33478261 0.44492754 0.44492754 0.44492754 0.88985507\n",
            "  0.88985507 0.44492754 0.44492754 0.44492754 0.44492754 0.44492754\n",
            "  0.44492754 0.44492754 0.44492754 0.44492754 0.44492754 0.44492754\n",
            "  0.88985507 0.44492754 0.44492754 0.44492754 0.44492754 0.88985507\n",
            "  0.44492754 0.44492754 0.44492754 0.44492754 0.44492754 0.44492754\n",
            "  0.44492754 0.44492754 0.44492754 0.44492754 0.44492754 0.44492754\n",
            "  0.44492754 0.44492754 0.44492754 0.88985507 0.44492754 0.44492754\n",
            "  0.44492754 0.44492754 0.44492754 0.44492754 0.44492754 0.44492754\n",
            "  0.44492754 0.44492754 0.44492754 0.44492754 0.44492754 0.44492754\n",
            "  0.44492754 0.88985507 0.44492754 0.44492754 0.44492754 0.44492754\n",
            "  0.44492754 0.44492754 0.44492754 0.44492754 0.44492754 0.44492754\n",
            "  0.44492754]]\n"
          ],
          "name": "stdout"
        }
      ]
    },
    {
      "cell_type": "markdown",
      "metadata": {
        "id": "HDtm9yb2_kWG",
        "colab_type": "text"
      },
      "source": [
        "### Approved vs A15"
      ]
    },
    {
      "cell_type": "markdown",
      "metadata": {
        "id": "9m7SJ1fzAAy8",
        "colab_type": "text"
      },
      "source": [
        "Using the ttest method, the following was obtained:"
      ]
    },
    {
      "cell_type": "code",
      "metadata": {
        "id": "xa36LjIOAFDN",
        "colab_type": "code",
        "outputId": "d38b7bfb-b11f-4ce7-9424-15fb23ac51bb",
        "colab": {
          "base_uri": "https://localhost:8080/",
          "height": 36
        }
      },
      "source": [
        "print(f\"P-Value for relationship between 'approved' and 'A15': {pvalue15}\")"
      ],
      "execution_count": 0,
      "outputs": [
        {
          "output_type": "stream",
          "text": [
            "P-Value for relationship between 'approved' and 'A15': 3.5433798702024966e-05\n"
          ],
          "name": "stdout"
        }
      ]
    },
    {
      "cell_type": "markdown",
      "metadata": {
        "id": "U-4dSXsMAKsb",
        "colab_type": "text"
      },
      "source": [
        "For A15, the results of the ttest indicate we can reject the null hypothesis that the two values are independent. There is some underlying dependency between being approved or not and the values in A15.\n",
        "\n",
        "The Chi-Squared test gave the following result:"
      ]
    },
    {
      "cell_type": "code",
      "metadata": {
        "id": "biTGwfUIAT2h",
        "colab_type": "code",
        "outputId": "41e14f77-910b-4553-de01-882eff0521ae",
        "colab": {
          "base_uri": "https://localhost:8080/",
          "height": 36
        }
      },
      "source": [
        "print(f\"P-Value for relationship between 'approved' and 'A15': {p_value15}\")"
      ],
      "execution_count": 0,
      "outputs": [
        {
          "output_type": "stream",
          "text": [
            "P-Value for relationship between 'approved' and 'A15': 0.0007080702494902256\n"
          ],
          "name": "stdout"
        }
      ]
    },
    {
      "cell_type": "markdown",
      "metadata": {
        "id": "TyBMsUFFAfDD",
        "colab_type": "text"
      },
      "source": [
        "This p-value would indicate that a dependency exists between the two features, however, referring again the the documentation, we see that most of the expected values are less than 5, invalidating the Chi-Squared results."
      ]
    },
    {
      "cell_type": "code",
      "metadata": {
        "id": "0g_uZObrA9kq",
        "colab_type": "code",
        "outputId": "f380dfb1-dae8-4ea3-a6fd-4878919e85e3",
        "colab": {
          "base_uri": "https://localhost:8080/",
          "height": 1000
        }
      },
      "source": [
        "print(f'Expected: \\n {expected15}')"
      ],
      "execution_count": 0,
      "outputs": [
        {
          "output_type": "stream",
          "text": [
            "Expected: \n",
            " [[163.74637681  16.09710145   4.99565217   3.33043478   2.77536232\n",
            "    4.44057971   4.44057971   2.22028986   1.11014493   0.55507246\n",
            "    2.22028986   1.11014493   0.55507246   1.11014493   0.55507246\n",
            "    1.11014493   1.11014493   1.11014493   1.66521739   1.11014493\n",
            "    2.22028986   1.11014493   0.55507246   0.55507246   0.55507246\n",
            "    1.11014493   1.11014493   0.55507246   0.55507246   1.11014493\n",
            "    0.55507246   1.11014493   0.55507246   0.55507246   1.11014493\n",
            "    2.77536232   0.55507246   0.55507246   0.55507246   0.55507246\n",
            "    0.55507246   1.11014493   1.11014493   0.55507246   0.55507246\n",
            "    0.55507246   0.55507246   0.55507246   1.11014493   3.33043478\n",
            "    0.55507246   1.11014493   0.55507246   0.55507246   0.55507246\n",
            "    0.55507246   0.55507246   0.55507246   0.55507246   0.55507246\n",
            "    0.55507246   0.55507246   0.55507246   0.55507246   0.55507246\n",
            "    2.22028986   0.55507246   0.55507246   0.55507246   0.55507246\n",
            "    0.55507246   0.55507246   0.55507246   0.55507246   0.55507246\n",
            "    0.55507246   3.33043478   1.11014493   0.55507246   0.55507246\n",
            "    0.55507246   0.55507246   0.55507246   0.55507246   0.55507246\n",
            "    0.55507246   0.55507246   0.55507246   0.55507246   0.55507246\n",
            "    0.55507246   1.11014493   0.55507246   4.44057971   0.55507246\n",
            "    0.55507246   0.55507246   0.55507246   0.55507246   0.55507246\n",
            "    1.11014493   1.11014493   0.55507246   0.55507246   1.11014493\n",
            "    0.55507246   0.55507246   0.55507246   1.66521739   1.11014493\n",
            "    1.11014493   0.55507246   0.55507246   0.55507246   5.55072464\n",
            "    0.55507246   0.55507246   1.11014493   0.55507246   1.66521739\n",
            "    0.55507246   0.55507246   0.55507246   0.55507246   1.66521739\n",
            "    0.55507246   0.55507246   0.55507246   0.55507246   0.55507246\n",
            "    0.55507246   0.55507246   0.55507246   0.55507246   0.55507246\n",
            "    0.55507246   0.55507246   0.55507246   0.55507246   1.11014493\n",
            "    0.55507246   0.55507246   0.55507246   0.55507246   0.55507246\n",
            "    0.55507246   0.55507246   0.55507246   0.55507246   5.55072464\n",
            "    0.55507246   0.55507246   0.55507246   0.55507246   0.55507246\n",
            "    0.55507246   0.55507246   1.11014493   0.55507246   1.11014493\n",
            "    0.55507246   0.55507246   0.55507246   0.55507246   0.55507246\n",
            "    0.55507246   0.55507246   0.55507246   0.55507246   0.55507246\n",
            "    0.55507246   0.55507246   0.55507246   0.55507246   0.55507246\n",
            "    0.55507246   0.55507246   0.55507246   0.55507246   1.66521739\n",
            "    0.55507246   0.55507246   0.55507246   0.55507246   0.55507246\n",
            "    0.55507246   0.55507246   0.55507246   0.55507246   0.55507246\n",
            "    0.55507246   0.55507246   0.55507246   0.55507246   0.55507246\n",
            "    0.55507246   0.55507246   0.55507246   0.55507246   2.22028986\n",
            "    1.11014493   0.55507246   0.55507246   0.55507246   0.55507246\n",
            "    1.66521739   0.55507246   0.55507246   0.55507246   0.55507246\n",
            "    0.55507246   0.55507246   1.66521739   0.55507246   0.55507246\n",
            "    0.55507246   0.55507246   0.55507246   0.55507246   0.55507246\n",
            "    0.55507246   0.55507246   0.55507246   0.55507246   0.55507246\n",
            "    0.55507246   0.55507246   0.55507246   0.55507246   0.55507246\n",
            "    0.55507246   0.55507246   0.55507246   0.55507246   0.55507246\n",
            "    0.55507246   0.55507246   0.55507246   0.55507246   0.55507246]\n",
            " [131.25362319  12.90289855   4.00434783   2.66956522   2.22463768\n",
            "    3.55942029   3.55942029   1.77971014   0.88985507   0.44492754\n",
            "    1.77971014   0.88985507   0.44492754   0.88985507   0.44492754\n",
            "    0.88985507   0.88985507   0.88985507   1.33478261   0.88985507\n",
            "    1.77971014   0.88985507   0.44492754   0.44492754   0.44492754\n",
            "    0.88985507   0.88985507   0.44492754   0.44492754   0.88985507\n",
            "    0.44492754   0.88985507   0.44492754   0.44492754   0.88985507\n",
            "    2.22463768   0.44492754   0.44492754   0.44492754   0.44492754\n",
            "    0.44492754   0.88985507   0.88985507   0.44492754   0.44492754\n",
            "    0.44492754   0.44492754   0.44492754   0.88985507   2.66956522\n",
            "    0.44492754   0.88985507   0.44492754   0.44492754   0.44492754\n",
            "    0.44492754   0.44492754   0.44492754   0.44492754   0.44492754\n",
            "    0.44492754   0.44492754   0.44492754   0.44492754   0.44492754\n",
            "    1.77971014   0.44492754   0.44492754   0.44492754   0.44492754\n",
            "    0.44492754   0.44492754   0.44492754   0.44492754   0.44492754\n",
            "    0.44492754   2.66956522   0.88985507   0.44492754   0.44492754\n",
            "    0.44492754   0.44492754   0.44492754   0.44492754   0.44492754\n",
            "    0.44492754   0.44492754   0.44492754   0.44492754   0.44492754\n",
            "    0.44492754   0.88985507   0.44492754   3.55942029   0.44492754\n",
            "    0.44492754   0.44492754   0.44492754   0.44492754   0.44492754\n",
            "    0.88985507   0.88985507   0.44492754   0.44492754   0.88985507\n",
            "    0.44492754   0.44492754   0.44492754   1.33478261   0.88985507\n",
            "    0.88985507   0.44492754   0.44492754   0.44492754   4.44927536\n",
            "    0.44492754   0.44492754   0.88985507   0.44492754   1.33478261\n",
            "    0.44492754   0.44492754   0.44492754   0.44492754   1.33478261\n",
            "    0.44492754   0.44492754   0.44492754   0.44492754   0.44492754\n",
            "    0.44492754   0.44492754   0.44492754   0.44492754   0.44492754\n",
            "    0.44492754   0.44492754   0.44492754   0.44492754   0.88985507\n",
            "    0.44492754   0.44492754   0.44492754   0.44492754   0.44492754\n",
            "    0.44492754   0.44492754   0.44492754   0.44492754   4.44927536\n",
            "    0.44492754   0.44492754   0.44492754   0.44492754   0.44492754\n",
            "    0.44492754   0.44492754   0.88985507   0.44492754   0.88985507\n",
            "    0.44492754   0.44492754   0.44492754   0.44492754   0.44492754\n",
            "    0.44492754   0.44492754   0.44492754   0.44492754   0.44492754\n",
            "    0.44492754   0.44492754   0.44492754   0.44492754   0.44492754\n",
            "    0.44492754   0.44492754   0.44492754   0.44492754   1.33478261\n",
            "    0.44492754   0.44492754   0.44492754   0.44492754   0.44492754\n",
            "    0.44492754   0.44492754   0.44492754   0.44492754   0.44492754\n",
            "    0.44492754   0.44492754   0.44492754   0.44492754   0.44492754\n",
            "    0.44492754   0.44492754   0.44492754   0.44492754   1.77971014\n",
            "    0.88985507   0.44492754   0.44492754   0.44492754   0.44492754\n",
            "    1.33478261   0.44492754   0.44492754   0.44492754   0.44492754\n",
            "    0.44492754   0.44492754   1.33478261   0.44492754   0.44492754\n",
            "    0.44492754   0.44492754   0.44492754   0.44492754   0.44492754\n",
            "    0.44492754   0.44492754   0.44492754   0.44492754   0.44492754\n",
            "    0.44492754   0.44492754   0.44492754   0.44492754   0.44492754\n",
            "    0.44492754   0.44492754   0.44492754   0.44492754   0.44492754\n",
            "    0.44492754   0.44492754   0.44492754   0.44492754   0.44492754]]\n"
          ],
          "name": "stdout"
        }
      ]
    },
    {
      "cell_type": "markdown",
      "metadata": {
        "id": "w_EWIHzNBV2L",
        "colab_type": "text"
      },
      "source": [
        "## Hardest part?"
      ]
    },
    {
      "cell_type": "markdown",
      "metadata": {
        "id": "WY3oBamMBc9c",
        "colab_type": "text"
      },
      "source": [
        "To me, the hardest part of this sprint was determining which features would be best to use for analysis. Once that was done interpreting the chi-squared test results were difficult to interpret at first, but the documentation saved me from confusion. "
      ]
    }
  ]
}