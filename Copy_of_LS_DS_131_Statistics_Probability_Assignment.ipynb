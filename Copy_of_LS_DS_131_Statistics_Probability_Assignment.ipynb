{
  "nbformat": 4,
  "nbformat_minor": 0,
  "metadata": {
    "kernelspec": {
      "display_name": "Python 3",
      "language": "python",
      "name": "python3"
    },
    "language_info": {
      "codemirror_mode": {
        "name": "ipython",
        "version": 3
      },
      "file_extension": ".py",
      "mimetype": "text/x-python",
      "name": "python",
      "nbconvert_exporter": "python",
      "pygments_lexer": "ipython3",
      "version": "3.7.3"
    },
    "colab": {
      "name": "Copy of LS_DS_131_Statistics_Probability_Assignment.ipynb",
      "version": "0.3.2",
      "provenance": [],
      "include_colab_link": true
    }
  },
  "cells": [
    {
      "cell_type": "markdown",
      "metadata": {
        "id": "view-in-github",
        "colab_type": "text"
      },
      "source": [
        "<a href=\"https://colab.research.google.com/github/noreallyimfine/DS-Unit-1-Sprint-3-Statistical-Tests-and-Experiments/blob/master/Copy_of_LS_DS_131_Statistics_Probability_Assignment.ipynb\" target=\"_parent\"><img src=\"https://colab.research.google.com/assets/colab-badge.svg\" alt=\"Open In Colab\"/></a>"
      ]
    },
    {
      "cell_type": "markdown",
      "metadata": {
        "id": "uZcUZIv7jicn",
        "colab_type": "text"
      },
      "source": [
        "<img align=\"left\" src=\"https://lever-client-logos.s3.amazonaws.com/864372b1-534c-480e-acd5-9711f850815c-1524247202159.png\" width=200>\n",
        "<br></br>\n",
        "<br></br>\n",
        "\n",
        "## *Data Science Unit 1 Sprint 3 Assignment 1*\n",
        "\n",
        "# Apply the t-test to real data\n",
        "\n",
        "Your assignment is to determine which issues have \"statistically significant\" differences between political parties in this [1980s congressional voting data](https://archive.ics.uci.edu/ml/datasets/Congressional+Voting+Records). The data consists of 435 instances (one for each congressperson), a class (democrat or republican), and 16 binary attributes (yes or no for voting for or against certain issues). Be aware - there are missing values!\n",
        "\n",
        "Your goals:\n",
        "\n",
        "1. Load and clean the data (or determine the best method to drop observations when running tests)\n",
        "2. Using hypothesis testing, find an issue that democrats support more than republicans with p < 0.01\n",
        "3. Using hypothesis testing, find an issue that republicans support more than democrats with p < 0.01\n",
        "4. Using hypothesis testing, find an issue where the difference between republicans and democrats has p > 0.1 (i.e. there may not be much of a difference)\n",
        "\n",
        "Note that this data will involve *2 sample* t-tests, because you're comparing averages across two groups (republicans and democrats) rather than a single group against a null hypothesis.\n",
        "\n",
        "Stretch goals:\n",
        "\n",
        "1. Refactor your code into functions so it's easy to rerun with arbitrary variables\n",
        "2. Apply hypothesis testing to your personal project data (for the purposes of this notebook you can type a summary of the hypothesis you formed and tested)"
      ]
    },
    {
      "cell_type": "code",
      "metadata": {
        "id": "nB-gfeSsjic8",
        "colab_type": "code",
        "colab": {}
      },
      "source": [
        "### YOUR CODE STARTS HERE\n",
        "\n",
        "# Import pandas as t-tests\n",
        "import pandas as pd\n",
        "from scipy.stats import ttest_1samp, ttest_ind, ttest_ind_from_stats, ttest_rel"
      ],
      "execution_count": 0,
      "outputs": []
    },
    {
      "cell_type": "code",
      "metadata": {
        "id": "uwl45FrUvzOZ",
        "colab_type": "code",
        "colab": {
          "base_uri": "https://localhost:8080/",
          "height": 214
        },
        "outputId": "88a80c2b-a359-42ad-c7df-c119a401ee6a"
      },
      "source": [
        "# List of column names\n",
        "col_names = ['party', 'handicapped-infants', 'water-project', 'budget',\n",
        "             'physician-fee-freeze', 'el-salvador-aid', 'religious-groups',\n",
        "             'anti-satellite-ban', 'aid-to-contras', 'mx-missile', 'immigration',\n",
        "             'synfuels', 'education', 'right-to-sue', 'crime', 'duty-free', 'south-africa']\n",
        "\n",
        "# Load data into df and change '?' to NaN\n",
        "votes = pd.read_csv('/content/house-votes-84.data', names=col_names, na_values='?')\n",
        "\n",
        "# Change y/n to 1/0\n",
        "votes.replace({'y': 1, 'n': 0}, inplace=True)\n",
        "\n",
        "votes.head()"
      ],
      "execution_count": 3,
      "outputs": [
        {
          "output_type": "execute_result",
          "data": {
            "text/html": [
              "<div>\n",
              "<style scoped>\n",
              "    .dataframe tbody tr th:only-of-type {\n",
              "        vertical-align: middle;\n",
              "    }\n",
              "\n",
              "    .dataframe tbody tr th {\n",
              "        vertical-align: top;\n",
              "    }\n",
              "\n",
              "    .dataframe thead th {\n",
              "        text-align: right;\n",
              "    }\n",
              "</style>\n",
              "<table border=\"1\" class=\"dataframe\">\n",
              "  <thead>\n",
              "    <tr style=\"text-align: right;\">\n",
              "      <th></th>\n",
              "      <th>party</th>\n",
              "      <th>handicapped-infants</th>\n",
              "      <th>water-project</th>\n",
              "      <th>budget</th>\n",
              "      <th>physician-fee-freeze</th>\n",
              "      <th>el-salvador-aid</th>\n",
              "      <th>religious-groups</th>\n",
              "      <th>anti-satellite-ban</th>\n",
              "      <th>aid-to-contras</th>\n",
              "      <th>mx-missile</th>\n",
              "      <th>immigration</th>\n",
              "      <th>synfuels</th>\n",
              "      <th>education</th>\n",
              "      <th>right-to-sue</th>\n",
              "      <th>crime</th>\n",
              "      <th>duty-free</th>\n",
              "      <th>south-africa</th>\n",
              "    </tr>\n",
              "  </thead>\n",
              "  <tbody>\n",
              "    <tr>\n",
              "      <th>0</th>\n",
              "      <td>republican</td>\n",
              "      <td>0.0</td>\n",
              "      <td>1.0</td>\n",
              "      <td>0.0</td>\n",
              "      <td>1.0</td>\n",
              "      <td>1.0</td>\n",
              "      <td>1.0</td>\n",
              "      <td>0.0</td>\n",
              "      <td>0.0</td>\n",
              "      <td>0.0</td>\n",
              "      <td>1.0</td>\n",
              "      <td>NaN</td>\n",
              "      <td>1.0</td>\n",
              "      <td>1.0</td>\n",
              "      <td>1.0</td>\n",
              "      <td>0.0</td>\n",
              "      <td>1.0</td>\n",
              "    </tr>\n",
              "    <tr>\n",
              "      <th>1</th>\n",
              "      <td>republican</td>\n",
              "      <td>0.0</td>\n",
              "      <td>1.0</td>\n",
              "      <td>0.0</td>\n",
              "      <td>1.0</td>\n",
              "      <td>1.0</td>\n",
              "      <td>1.0</td>\n",
              "      <td>0.0</td>\n",
              "      <td>0.0</td>\n",
              "      <td>0.0</td>\n",
              "      <td>0.0</td>\n",
              "      <td>0.0</td>\n",
              "      <td>1.0</td>\n",
              "      <td>1.0</td>\n",
              "      <td>1.0</td>\n",
              "      <td>0.0</td>\n",
              "      <td>NaN</td>\n",
              "    </tr>\n",
              "    <tr>\n",
              "      <th>2</th>\n",
              "      <td>democrat</td>\n",
              "      <td>NaN</td>\n",
              "      <td>1.0</td>\n",
              "      <td>1.0</td>\n",
              "      <td>NaN</td>\n",
              "      <td>1.0</td>\n",
              "      <td>1.0</td>\n",
              "      <td>0.0</td>\n",
              "      <td>0.0</td>\n",
              "      <td>0.0</td>\n",
              "      <td>0.0</td>\n",
              "      <td>1.0</td>\n",
              "      <td>0.0</td>\n",
              "      <td>1.0</td>\n",
              "      <td>1.0</td>\n",
              "      <td>0.0</td>\n",
              "      <td>0.0</td>\n",
              "    </tr>\n",
              "    <tr>\n",
              "      <th>3</th>\n",
              "      <td>democrat</td>\n",
              "      <td>0.0</td>\n",
              "      <td>1.0</td>\n",
              "      <td>1.0</td>\n",
              "      <td>0.0</td>\n",
              "      <td>NaN</td>\n",
              "      <td>1.0</td>\n",
              "      <td>0.0</td>\n",
              "      <td>0.0</td>\n",
              "      <td>0.0</td>\n",
              "      <td>0.0</td>\n",
              "      <td>1.0</td>\n",
              "      <td>0.0</td>\n",
              "      <td>1.0</td>\n",
              "      <td>0.0</td>\n",
              "      <td>0.0</td>\n",
              "      <td>1.0</td>\n",
              "    </tr>\n",
              "    <tr>\n",
              "      <th>4</th>\n",
              "      <td>democrat</td>\n",
              "      <td>1.0</td>\n",
              "      <td>1.0</td>\n",
              "      <td>1.0</td>\n",
              "      <td>0.0</td>\n",
              "      <td>1.0</td>\n",
              "      <td>1.0</td>\n",
              "      <td>0.0</td>\n",
              "      <td>0.0</td>\n",
              "      <td>0.0</td>\n",
              "      <td>0.0</td>\n",
              "      <td>1.0</td>\n",
              "      <td>NaN</td>\n",
              "      <td>1.0</td>\n",
              "      <td>1.0</td>\n",
              "      <td>1.0</td>\n",
              "      <td>1.0</td>\n",
              "    </tr>\n",
              "  </tbody>\n",
              "</table>\n",
              "</div>"
            ],
            "text/plain": [
              "        party  handicapped-infants  ...  duty-free  south-africa\n",
              "0  republican                  0.0  ...        0.0           1.0\n",
              "1  republican                  0.0  ...        0.0           NaN\n",
              "2    democrat                  NaN  ...        0.0           0.0\n",
              "3    democrat                  0.0  ...        0.0           1.0\n",
              "4    democrat                  1.0  ...        1.0           1.0\n",
              "\n",
              "[5 rows x 17 columns]"
            ]
          },
          "metadata": {
            "tags": []
          },
          "execution_count": 3
        }
      ]
    },
    {
      "cell_type": "code",
      "metadata": {
        "id": "B8LUcyPZNkNn",
        "colab_type": "code",
        "colab": {
          "base_uri": "https://localhost:8080/",
          "height": 301
        },
        "outputId": "2042fa56-8820-47da-a084-d0bddeb94967"
      },
      "source": [
        "# Split df into dem and rep\n",
        "rep = votes[votes['party'] == 'republican']\n",
        "dem = votes[votes['party'] == 'democrat']\n",
        "\n",
        "rep.head(), dem.head()"
      ],
      "execution_count": 5,
      "outputs": [
        {
          "output_type": "execute_result",
          "data": {
            "text/plain": [
              "(         party  handicapped-infants  ...  duty-free  south-africa\n",
              " 0   republican                  0.0  ...        0.0           1.0\n",
              " 1   republican                  0.0  ...        0.0           NaN\n",
              " 7   republican                  0.0  ...        NaN           1.0\n",
              " 8   republican                  0.0  ...        0.0           1.0\n",
              " 10  republican                  0.0  ...        0.0           0.0\n",
              " \n",
              " [5 rows x 17 columns],\n",
              "       party  handicapped-infants  water-project  ...  crime  duty-free  south-africa\n",
              " 2  democrat                  NaN            1.0  ...    1.0        0.0           0.0\n",
              " 3  democrat                  0.0            1.0  ...    0.0        0.0           1.0\n",
              " 4  democrat                  1.0            1.0  ...    1.0        1.0           1.0\n",
              " 5  democrat                  0.0            1.0  ...    1.0        1.0           1.0\n",
              " 6  democrat                  0.0            1.0  ...    1.0        1.0           1.0\n",
              " \n",
              " [5 rows x 17 columns])"
            ]
          },
          "metadata": {
            "tags": []
          },
          "execution_count": 5
        }
      ]
    },
    {
      "cell_type": "markdown",
      "metadata": {
        "id": "nXGyh7e2OWA2",
        "colab_type": "text"
      },
      "source": [
        "Null Hypothesis: Democrats are no more likely or less than chance to support this bill\n",
        "\n",
        "Alternative Hypothesis: Democrats are more likely than chance to lean one way on this bill\n",
        "\n",
        "Confidence Interval: 95% (We need 95% confidence to reject the null hypothesis)\n"
      ]
    },
    {
      "cell_type": "code",
      "metadata": {
        "id": "NVvbQzP2OFPj",
        "colab_type": "code",
        "colab": {
          "base_uri": "https://localhost:8080/",
          "height": 34
        },
        "outputId": "4e95a533-4517-49da-b0fd-515ba018241d"
      },
      "source": [
        "# Rerun t-test from lecture\n",
        "ttest_1samp(dem['handicapped-infants'], .5, nan_policy='omit')"
      ],
      "execution_count": 6,
      "outputs": [
        {
          "output_type": "execute_result",
          "data": {
            "text/plain": [
              "Ttest_1sampResult(statistic=3.431373087696574, pvalue=0.000699612317167372)"
            ]
          },
          "metadata": {
            "tags": []
          },
          "execution_count": 6
        }
      ]
    },
    {
      "cell_type": "markdown",
      "metadata": {
        "id": "BhySAAvUPtzw",
        "colab_type": "text"
      },
      "source": [
        "t-statistic: 3.43\n",
        "\n",
        "p-value = .0007\n",
        "\n",
        "From the results of the test above, our p-value < .05 therefore we reject the null hypothesis"
      ]
    },
    {
      "cell_type": "markdown",
      "metadata": {
        "id": "TN2yUyMSQDLB",
        "colab_type": "text"
      },
      "source": [
        "### Another Test\n",
        "\n",
        "Null Hypothesis: Democrats and Republicans are equally likely to support\n",
        "\n",
        "Alternative Hypothesis: Dems and Reps are not equally likely to support\n",
        "\n",
        "Confidence Interval: 99%"
      ]
    },
    {
      "cell_type": "code",
      "metadata": {
        "id": "XqvMlsxHORfV",
        "colab_type": "code",
        "colab": {
          "base_uri": "https://localhost:8080/",
          "height": 34
        },
        "outputId": "72712c5d-aeb5-4cbd-97bf-afb93f8ae922"
      },
      "source": [
        "# 2 sample ttest on crime bill\n",
        "ttest_ind(dem['crime'], rep['crime'], nan_policy='omit')"
      ],
      "execution_count": 7,
      "outputs": [
        {
          "output_type": "execute_result",
          "data": {
            "text/plain": [
              "Ttest_indResult(statistic=-16.342085656197696, pvalue=9.952342705606092e-47)"
            ]
          },
          "metadata": {
            "tags": []
          },
          "execution_count": 7
        }
      ]
    },
    {
      "cell_type": "markdown",
      "metadata": {
        "id": "8m1G4Hb3Ql56",
        "colab_type": "text"
      },
      "source": [
        "t-statistic: -16.34\n",
        "\n",
        "p-value: .0000000000000000000000000000000000000000000000000000000000001 (not enough zeros)\n",
        "\n",
        "Due to the results of the test run above, we can reject the null hypothesis as our p-value < .05\n"
      ]
    },
    {
      "cell_type": "code",
      "metadata": {
        "id": "2Xpr2-W-Tfp2",
        "colab_type": "code",
        "colab": {
          "base_uri": "https://localhost:8080/",
          "height": 123
        },
        "outputId": "5af9e73c-938c-420f-891f-63f34797aa9a"
      },
      "source": [
        "# See how they actually voted\n",
        "print(dem['crime'].value_counts())\n",
        "print(rep['crime'].value_counts())"
      ],
      "execution_count": 25,
      "outputs": [
        {
          "output_type": "stream",
          "text": [
            "0.0    167\n",
            "1.0     90\n",
            "Name: crime, dtype: int64\n",
            "1.0    158\n",
            "0.0      3\n",
            "Name: crime, dtype: int64\n"
          ],
          "name": "stdout"
        }
      ]
    },
    {
      "cell_type": "markdown",
      "metadata": {
        "id": "obDluNQyT1AU",
        "colab_type": "text"
      },
      "source": [
        "Republicans are more likely to support the crime bill than democrats with p < .01"
      ]
    },
    {
      "cell_type": "markdown",
      "metadata": {
        "id": "iqKWIN8HUN9r",
        "colab_type": "text"
      },
      "source": [
        "### Another Test\n",
        "\n",
        "Null Hypothesis: Dem mean == Rep mean for budget bill\n",
        "\n",
        "Alternative Hypothesis: The mean of Dem and Rep support for budget bill differ\n",
        "\n",
        "Confidence Interval: 99%"
      ]
    },
    {
      "cell_type": "code",
      "metadata": {
        "id": "QBboXnZyUDqa",
        "colab_type": "code",
        "colab": {
          "base_uri": "https://localhost:8080/",
          "height": 34
        },
        "outputId": "95d02548-5e4e-436d-c47f-f8fb1decec7e"
      },
      "source": [
        "# 2 sample ttest on budget bill\n",
        "ttest_ind(dem['budget'], rep['budget'], nan_policy='omit')"
      ],
      "execution_count": 26,
      "outputs": [
        {
          "output_type": "execute_result",
          "data": {
            "text/plain": [
              "Ttest_indResult(statistic=23.21277691701378, pvalue=2.0703402795404463e-77)"
            ]
          },
          "metadata": {
            "tags": []
          },
          "execution_count": 26
        }
      ]
    },
    {
      "cell_type": "markdown",
      "metadata": {
        "id": "L-97fAHWUi36",
        "colab_type": "text"
      },
      "source": [
        "t-statistic: 23.212\n",
        "\n",
        "p-value: .000000000000000000000000000000000000000000021 (est. # of 0s)\n",
        "\n",
        "From the results of test above, we see a p-value < .01 and therefore reject the null hypothesis"
      ]
    },
    {
      "cell_type": "code",
      "metadata": {
        "id": "u8I5YppHUiSP",
        "colab_type": "code",
        "colab": {
          "base_uri": "https://localhost:8080/",
          "height": 123
        },
        "outputId": "64f32dbd-6c88-4395-8689-2926dbe404df"
      },
      "source": [
        "# See how they voted\n",
        "print(dem['budget'].value_counts())\n",
        "print(rep['budget'].value_counts())"
      ],
      "execution_count": 27,
      "outputs": [
        {
          "output_type": "stream",
          "text": [
            "1.0    231\n",
            "0.0     29\n",
            "Name: budget, dtype: int64\n",
            "0.0    142\n",
            "1.0     22\n",
            "Name: budget, dtype: int64\n"
          ],
          "name": "stdout"
        }
      ]
    },
    {
      "cell_type": "markdown",
      "metadata": {
        "id": "F7Tr8kFiVLaW",
        "colab_type": "text"
      },
      "source": [
        "Democrats are more likely than Republicans to support the budget bill, with p < .01"
      ]
    },
    {
      "cell_type": "markdown",
      "metadata": {
        "id": "98Dvy5cxVWa0",
        "colab_type": "text"
      },
      "source": [
        "### Another Test\n",
        "\n",
        "Null Hypothesis: Dems and Reps are equally likely to support immigration bill\n",
        "\n",
        "Alternative Hypothesis: They are not equally likely to support\n",
        "\n",
        "Confidence Interval: 99%"
      ]
    },
    {
      "cell_type": "code",
      "metadata": {
        "id": "qAaXFFpuVt9V",
        "colab_type": "code",
        "colab": {
          "base_uri": "https://localhost:8080/",
          "height": 34
        },
        "outputId": "32f9549a-ba67-43fe-f274-005668d087be"
      },
      "source": [
        "# 2 Sample ttest on immigration bill\n",
        "ttest_ind(dem['immigration'], rep['immigration'], nan_policy='omit')"
      ],
      "execution_count": 28,
      "outputs": [
        {
          "output_type": "execute_result",
          "data": {
            "text/plain": [
              "Ttest_indResult(statistic=-1.7359117329695164, pvalue=0.08330248490425066)"
            ]
          },
          "metadata": {
            "tags": []
          },
          "execution_count": 28
        }
      ]
    },
    {
      "cell_type": "markdown",
      "metadata": {
        "id": "-1eTZ4OFV9wD",
        "colab_type": "text"
      },
      "source": [
        "t-statistic: -1.74\n",
        "\n",
        "p-value: .08\n",
        "\n",
        "From the results of the test above, with a p-value > .01, we fail to reject the null hypothesis\n",
        "\n",
        "We cannot rule out that Dems and Reps are equally likely to support this immigration bill"
      ]
    },
    {
      "cell_type": "code",
      "metadata": {
        "id": "lIFE5xETSVYP",
        "colab_type": "code",
        "colab": {
          "base_uri": "https://localhost:8080/",
          "height": 301
        },
        "outputId": "a0aa3530-45c6-44dc-d7b3-c0b64ff6171b"
      },
      "source": [
        "# Drop party column for ttest function\n",
        "test_rep = rep.drop('party', axis=1)\n",
        "test_dem = dem.drop('party', axis=1)\n",
        "\n",
        "test_dem.head(), test_rep.head()"
      ],
      "execution_count": 17,
      "outputs": [
        {
          "output_type": "execute_result",
          "data": {
            "text/plain": [
              "(   handicapped-infants  water-project  budget  ...  crime  duty-free  south-africa\n",
              " 2                  NaN            1.0     1.0  ...    1.0        0.0           0.0\n",
              " 3                  0.0            1.0     1.0  ...    0.0        0.0           1.0\n",
              " 4                  1.0            1.0     1.0  ...    1.0        1.0           1.0\n",
              " 5                  0.0            1.0     1.0  ...    1.0        1.0           1.0\n",
              " 6                  0.0            1.0     0.0  ...    1.0        1.0           1.0\n",
              " \n",
              " [5 rows x 16 columns],\n",
              "     handicapped-infants  water-project  budget  ...  crime  duty-free  south-africa\n",
              " 0                   0.0            1.0     0.0  ...    1.0        0.0           1.0\n",
              " 1                   0.0            1.0     0.0  ...    1.0        0.0           NaN\n",
              " 7                   0.0            1.0     0.0  ...    1.0        NaN           1.0\n",
              " 8                   0.0            1.0     0.0  ...    1.0        0.0           1.0\n",
              " 10                  0.0            1.0     0.0  ...    1.0        0.0           0.0\n",
              " \n",
              " [5 rows x 16 columns])"
            ]
          },
          "metadata": {
            "tags": []
          },
          "execution_count": 17
        }
      ]
    },
    {
      "cell_type": "code",
      "metadata": {
        "id": "uV4Y_LnXQih6",
        "colab_type": "code",
        "colab": {}
      },
      "source": [
        "# Function to run ttests on all the colummns in one df\n",
        "# Null Hypothesis: party is random chance to support bill\n",
        "\n",
        "def ttest_1(df):\n",
        "  for column in df.columns:\n",
        "    results = ttest_1samp(df[column], .5, nan_policy='omit')\n",
        "    print(column)\n",
        "    print('t-statistic: ', results[0])\n",
        "    print('p-value: ', results[1])\n",
        "    print('---'*10)"
      ],
      "execution_count": 0,
      "outputs": []
    },
    {
      "cell_type": "code",
      "metadata": {
        "id": "c311lP3cR5U7",
        "colab_type": "code",
        "colab": {
          "base_uri": "https://localhost:8080/",
          "height": 1000
        },
        "outputId": "bfe53252-a042-43a3-ad54-41c1ed176c68"
      },
      "source": [
        "# Run ttest on dem df\n",
        "ttest_1(test_dem)"
      ],
      "execution_count": 21,
      "outputs": [
        {
          "output_type": "stream",
          "text": [
            "handicapped-infants\n",
            "t-statistic:  3.431373087696574\n",
            "p-value:  0.000699612317167372\n",
            "------------------------------\n",
            "water-project\n",
            "t-statistic:  0.06454972243678961\n",
            "p-value:  0.9485867005339235\n",
            "------------------------------\n",
            "budget\n",
            "t-statistic:  19.859406568628835\n",
            "p-value:  5.75931504660857e-54\n",
            "------------------------------\n",
            "physician-fee-freeze\n",
            "t-statistic:  -31.67705343439813\n",
            "p-value:  6.796885728494356e-91\n",
            "------------------------------\n",
            "el-salvador-aid\n",
            "t-statistic:  -11.016877548066462\n",
            "p-value:  2.5007537432253433e-23\n",
            "------------------------------\n",
            "religious-groups\n",
            "t-statistic:  -0.7464459604122172\n",
            "p-value:  0.45608033540995874\n",
            "------------------------------\n",
            "anti-satellite-ban\n",
            "t-statistic:  10.424565592705058\n",
            "p-value:  1.8326900884510166e-21\n",
            "------------------------------\n",
            "aid-to-contras\n",
            "t-statistic:  14.13618595353591\n",
            "p-value:  4.190313037098042e-34\n",
            "------------------------------\n",
            "mx-missile\n",
            "t-statistic:  9.470521640429526\n",
            "p-value:  2.3590277159598606e-18\n",
            "------------------------------\n",
            "immigration\n",
            "t-statistic:  -0.9246846884388146\n",
            "p-value:  0.35598081794452796\n",
            "------------------------------\n",
            "synfuels\n",
            "t-statistic:  0.18751153526716705\n",
            "p-value:  0.8514092819865365\n",
            "------------------------------\n",
            "education\n",
            "t-statistic:  -15.915784824279635\n",
            "p-value:  8.900198902856228e-40\n",
            "------------------------------\n",
            "right-to-sue\n",
            "t-statistic:  -7.345557873917365\n",
            "p-value:  2.8653808528045386e-12\n",
            "------------------------------\n",
            "crime\n",
            "t-statistic:  -5.024596851452603\n",
            "p-value:  9.478256683740221e-07\n",
            "------------------------------\n",
            "duty-free\n",
            "t-statistic:  4.5207283583632725\n",
            "p-value:  9.519196003952435e-06\n",
            "------------------------------\n",
            "south-africa\n",
            "t-statistic:  23.965755112488182\n",
            "p-value:  1.7513759267849718e-58\n",
            "------------------------------\n"
          ],
          "name": "stdout"
        }
      ]
    },
    {
      "cell_type": "code",
      "metadata": {
        "id": "wzR99Qv3SQLT",
        "colab_type": "code",
        "colab": {}
      },
      "source": [
        "# Function to run 2 sample ttest on dfs\n",
        "# Null Hypothesis is that they have the same mean\n",
        "\n",
        "def ttest_2(df_a, df_b):\n",
        "  for column in df_a.columns:\n",
        "    results = ttest_ind(df_a[column], df_b[column], nan_policy='omit')\n",
        "    print(column)\n",
        "    print('t-statistic: ', results[0])\n",
        "    print('p-value: ', results[1])\n",
        "    print('---'*10)"
      ],
      "execution_count": 0,
      "outputs": []
    },
    {
      "cell_type": "code",
      "metadata": {
        "id": "VM_ktKL4XHSs",
        "colab_type": "code",
        "colab": {
          "base_uri": "https://localhost:8080/",
          "height": 1000
        },
        "outputId": "f439e4d7-bda6-4b15-c56c-bd606ad61d91"
      },
      "source": [
        "# Run ttests on all columns in dfs\n",
        "ttest_2(test_dem, test_rep)"
      ],
      "execution_count": 33,
      "outputs": [
        {
          "output_type": "stream",
          "text": [
            "handicapped-infants\n",
            "t-statistic:  9.205264294809222\n",
            "p-value:  1.613440327937243e-18\n",
            "------------------------------\n",
            "water-project\n",
            "t-statistic:  -0.08896538137868286\n",
            "p-value:  0.9291556823993485\n",
            "------------------------------\n",
            "budget\n",
            "t-statistic:  23.21277691701378\n",
            "p-value:  2.0703402795404463e-77\n",
            "------------------------------\n",
            "physician-fee-freeze\n",
            "t-statistic:  -49.36708157301406\n",
            "p-value:  1.994262314074344e-177\n",
            "------------------------------\n",
            "el-salvador-aid\n",
            "t-statistic:  -21.13669261173219\n",
            "p-value:  5.600520111729011e-68\n",
            "------------------------------\n",
            "religious-groups\n",
            "t-statistic:  -9.737575825219457\n",
            "p-value:  2.3936722520597287e-20\n",
            "------------------------------\n",
            "anti-satellite-ban\n",
            "t-statistic:  12.526187929077842\n",
            "p-value:  8.521033017443867e-31\n",
            "------------------------------\n",
            "aid-to-contras\n",
            "t-statistic:  18.052093200819733\n",
            "p-value:  2.82471841372357e-54\n",
            "------------------------------\n",
            "mx-missile\n",
            "t-statistic:  16.437503268542994\n",
            "p-value:  5.03079265310811e-47\n",
            "------------------------------\n",
            "immigration\n",
            "t-statistic:  -1.7359117329695164\n",
            "p-value:  0.08330248490425066\n",
            "------------------------------\n",
            "synfuels\n",
            "t-statistic:  8.293603989407588\n",
            "p-value:  1.5759322301054064e-15\n",
            "------------------------------\n",
            "education\n",
            "t-statistic:  -20.500685724563073\n",
            "p-value:  1.8834203990450192e-64\n",
            "------------------------------\n",
            "right-to-sue\n",
            "t-statistic:  -13.51064251060933\n",
            "p-value:  1.2278581709672758e-34\n",
            "------------------------------\n",
            "crime\n",
            "t-statistic:  -16.342085656197696\n",
            "p-value:  9.952342705606092e-47\n",
            "------------------------------\n",
            "duty-free\n",
            "t-statistic:  12.853146132542978\n",
            "p-value:  5.997697174347365e-32\n",
            "------------------------------\n",
            "south-africa\n",
            "t-statistic:  6.849454815841208\n",
            "p-value:  3.652674361672226e-11\n",
            "------------------------------\n"
          ],
          "name": "stdout"
        }
      ]
    },
    {
      "cell_type": "code",
      "metadata": {
        "id": "zNM0XnIMXPPa",
        "colab_type": "code",
        "colab": {}
      },
      "source": [
        ""
      ],
      "execution_count": 0,
      "outputs": []
    }
  ]
}