{
  "nbformat": 4,
  "nbformat_minor": 0,
  "metadata": {
    "kernelspec": {
      "display_name": "Python 3",
      "language": "python",
      "name": "python3"
    },
    "language_info": {
      "codemirror_mode": {
        "name": "ipython",
        "version": 3
      },
      "file_extension": ".py",
      "mimetype": "text/x-python",
      "name": "python",
      "nbconvert_exporter": "python",
      "pygments_lexer": "ipython3",
      "version": "3.7.3"
    },
    "colab": {
      "name": "Copy of LS_DS_131_Statistics_Probability_Assignment.ipynb",
      "version": "0.3.2",
      "provenance": [],
      "collapsed_sections": [],
      "include_colab_link": true
    }
  },
  "cells": [
    {
      "cell_type": "markdown",
      "metadata": {
        "id": "view-in-github",
        "colab_type": "text"
      },
      "source": [
        "<a href=\"https://colab.research.google.com/github/KhaSab5292/DS-Unit-1-Sprint-3-Statistical-Tests-and-Experiments/blob/master/Copy_of_LS_DS_131_Statistics_Probability_Assignment.ipynb\" target=\"_parent\"><img src=\"https://colab.research.google.com/assets/colab-badge.svg\" alt=\"Open In Colab\"/></a>"
      ]
    },
    {
      "cell_type": "markdown",
      "metadata": {
        "id": "GnxJ3VRtXuDq",
        "colab_type": "text"
      },
      "source": [
        "<img align=\"left\" src=\"https://lever-client-logos.s3.amazonaws.com/864372b1-534c-480e-acd5-9711f850815c-1524247202159.png\" width=200>\n",
        "<br></br>\n",
        "<br></br>\n",
        "\n",
        "## *Data Science Unit 1 Sprint 3 Assignment 1*\n",
        "\n",
        "# Apply the t-test to real data\n",
        "\n",
        "Your assignment is to determine which issues have \"statistically significant\" differences between political parties in this [1980s congressional voting data](https://archive.ics.uci.edu/ml/datasets/Congressional+Voting+Records). The data consists of 435 instances (one for each congressperson), a class (democrat or republican), and 16 binary attributes (yes or no for voting for or against certain issues). Be aware - there are missing values!\n",
        "\n",
        "Your goals:\n",
        "\n",
        "1. Load and clean the data (or determine the best method to drop observations when running tests)\n",
        "2. Using hypothesis testing, find an issue that democrats support more than republicans with p < 0.01\n",
        "3. Using hypothesis testing, find an issue that republicans support more than democrats with p < 0.01\n",
        "4. Using hypothesis testing, find an issue where the difference between republicans and democrats has p > 0.1 (i.e. there may not be much of a difference)\n",
        "\n",
        "Note that this data will involve *2 sample* t-tests, because you're comparing averages across two groups (republicans and democrats) rather than a single group against a null hypothesis.\n",
        "\n",
        "Stretch goals:\n",
        "\n",
        "1. Refactor your code into functions so it's easy to rerun with arbitrary variables\n",
        "2. Apply hypothesis testing to your personal project data (for the purposes of this notebook you can type a summary of the hypothesis you formed and tested)"
      ]
    },
    {
      "cell_type": "code",
      "metadata": {
        "id": "2lP5aR6RXuDt",
        "colab_type": "code",
        "colab": {}
      },
      "source": [
        "import pandas as pd\n",
        "import numpy as np\n",
        "import seaborn as sns\n",
        "from scipy.stats import  ttest_ind"
      ],
      "execution_count": 0,
      "outputs": []
    },
    {
      "cell_type": "markdown",
      "metadata": {
        "id": "lTbsQEZdva3L",
        "colab_type": "text"
      },
      "source": [
        "**1.**"
      ]
    },
    {
      "cell_type": "code",
      "metadata": {
        "id": "MJ_NoZJCuTwX",
        "colab_type": "code",
        "colab": {
          "base_uri": "https://localhost:8080/",
          "height": 204
        },
        "outputId": "d1603e38-4c3f-42dc-95e5-e6a1e48438da"
      },
      "source": [
        "!wget https://archive.ics.uci.edu/ml/machine-learning-databases/voting-records/house-votes-84.data"
      ],
      "execution_count": 2,
      "outputs": [
        {
          "output_type": "stream",
          "text": [
            "--2019-09-16 20:21:25--  https://archive.ics.uci.edu/ml/machine-learning-databases/voting-records/house-votes-84.data\n",
            "Resolving archive.ics.uci.edu (archive.ics.uci.edu)... 128.195.10.252\n",
            "Connecting to archive.ics.uci.edu (archive.ics.uci.edu)|128.195.10.252|:443... connected.\n",
            "HTTP request sent, awaiting response... 200 OK\n",
            "Length: 18171 (18K) [application/x-httpd-php]\n",
            "Saving to: ‘house-votes-84.data’\n",
            "\n",
            "\rhouse-votes-84.data   0%[                    ]       0  --.-KB/s               \rhouse-votes-84.data 100%[===================>]  17.75K  --.-KB/s    in 0.06s   \n",
            "\n",
            "2019-09-16 20:21:25 (278 KB/s) - ‘house-votes-84.data’ saved [18171/18171]\n",
            "\n"
          ],
          "name": "stdout"
        }
      ]
    },
    {
      "cell_type": "code",
      "metadata": {
        "id": "tlP57anNvQbM",
        "colab_type": "code",
        "colab": {
          "base_uri": "https://localhost:8080/",
          "height": 275
        },
        "outputId": "59749aa3-b8ca-48dd-bcf3-cc79f3d2b19f"
      },
      "source": [
        "df = pd.read_csv('house-votes-84.data', header = None,\n",
        "                names=['party','handicapped-infants','water-project',\n",
        "                          'budget','physician-fee-freeze', 'el-salvador-aid',\n",
        "                          'religious-groups','anti-satellite-ban',\n",
        "                          'aid-to-contras','mx-missile','immigration',\n",
        "                          'synfuels', 'education', 'right-to-sue','crime','duty-free',\n",
        "                          'south-africa'])\n",
        "print(df.shape)\n",
        "df.head()"
      ],
      "execution_count": 5,
      "outputs": [
        {
          "output_type": "stream",
          "text": [
            "(435, 17)\n"
          ],
          "name": "stdout"
        },
        {
          "output_type": "execute_result",
          "data": {
            "text/html": [
              "<div>\n",
              "<style scoped>\n",
              "    .dataframe tbody tr th:only-of-type {\n",
              "        vertical-align: middle;\n",
              "    }\n",
              "\n",
              "    .dataframe tbody tr th {\n",
              "        vertical-align: top;\n",
              "    }\n",
              "\n",
              "    .dataframe thead th {\n",
              "        text-align: right;\n",
              "    }\n",
              "</style>\n",
              "<table border=\"1\" class=\"dataframe\">\n",
              "  <thead>\n",
              "    <tr style=\"text-align: right;\">\n",
              "      <th></th>\n",
              "      <th>party</th>\n",
              "      <th>handicapped-infants</th>\n",
              "      <th>water-project</th>\n",
              "      <th>budget</th>\n",
              "      <th>physician-fee-freeze</th>\n",
              "      <th>el-salvador-aid</th>\n",
              "      <th>religious-groups</th>\n",
              "      <th>anti-satellite-ban</th>\n",
              "      <th>aid-to-contras</th>\n",
              "      <th>mx-missile</th>\n",
              "      <th>immigration</th>\n",
              "      <th>synfuels</th>\n",
              "      <th>education</th>\n",
              "      <th>right-to-sue</th>\n",
              "      <th>crime</th>\n",
              "      <th>duty-free</th>\n",
              "      <th>south-africa</th>\n",
              "    </tr>\n",
              "  </thead>\n",
              "  <tbody>\n",
              "    <tr>\n",
              "      <th>0</th>\n",
              "      <td>republican</td>\n",
              "      <td>n</td>\n",
              "      <td>y</td>\n",
              "      <td>n</td>\n",
              "      <td>y</td>\n",
              "      <td>y</td>\n",
              "      <td>y</td>\n",
              "      <td>n</td>\n",
              "      <td>n</td>\n",
              "      <td>n</td>\n",
              "      <td>y</td>\n",
              "      <td>?</td>\n",
              "      <td>y</td>\n",
              "      <td>y</td>\n",
              "      <td>y</td>\n",
              "      <td>n</td>\n",
              "      <td>y</td>\n",
              "    </tr>\n",
              "    <tr>\n",
              "      <th>1</th>\n",
              "      <td>republican</td>\n",
              "      <td>n</td>\n",
              "      <td>y</td>\n",
              "      <td>n</td>\n",
              "      <td>y</td>\n",
              "      <td>y</td>\n",
              "      <td>y</td>\n",
              "      <td>n</td>\n",
              "      <td>n</td>\n",
              "      <td>n</td>\n",
              "      <td>n</td>\n",
              "      <td>n</td>\n",
              "      <td>y</td>\n",
              "      <td>y</td>\n",
              "      <td>y</td>\n",
              "      <td>n</td>\n",
              "      <td>?</td>\n",
              "    </tr>\n",
              "    <tr>\n",
              "      <th>2</th>\n",
              "      <td>democrat</td>\n",
              "      <td>?</td>\n",
              "      <td>y</td>\n",
              "      <td>y</td>\n",
              "      <td>?</td>\n",
              "      <td>y</td>\n",
              "      <td>y</td>\n",
              "      <td>n</td>\n",
              "      <td>n</td>\n",
              "      <td>n</td>\n",
              "      <td>n</td>\n",
              "      <td>y</td>\n",
              "      <td>n</td>\n",
              "      <td>y</td>\n",
              "      <td>y</td>\n",
              "      <td>n</td>\n",
              "      <td>n</td>\n",
              "    </tr>\n",
              "    <tr>\n",
              "      <th>3</th>\n",
              "      <td>democrat</td>\n",
              "      <td>n</td>\n",
              "      <td>y</td>\n",
              "      <td>y</td>\n",
              "      <td>n</td>\n",
              "      <td>?</td>\n",
              "      <td>y</td>\n",
              "      <td>n</td>\n",
              "      <td>n</td>\n",
              "      <td>n</td>\n",
              "      <td>n</td>\n",
              "      <td>y</td>\n",
              "      <td>n</td>\n",
              "      <td>y</td>\n",
              "      <td>n</td>\n",
              "      <td>n</td>\n",
              "      <td>y</td>\n",
              "    </tr>\n",
              "    <tr>\n",
              "      <th>4</th>\n",
              "      <td>democrat</td>\n",
              "      <td>y</td>\n",
              "      <td>y</td>\n",
              "      <td>y</td>\n",
              "      <td>n</td>\n",
              "      <td>y</td>\n",
              "      <td>y</td>\n",
              "      <td>n</td>\n",
              "      <td>n</td>\n",
              "      <td>n</td>\n",
              "      <td>n</td>\n",
              "      <td>y</td>\n",
              "      <td>?</td>\n",
              "      <td>y</td>\n",
              "      <td>y</td>\n",
              "      <td>y</td>\n",
              "      <td>y</td>\n",
              "    </tr>\n",
              "  </tbody>\n",
              "</table>\n",
              "</div>"
            ],
            "text/plain": [
              "        party handicapped-infants water-project  ... crime duty-free south-africa\n",
              "0  republican                   n             y  ...     y         n            y\n",
              "1  republican                   n             y  ...     y         n            ?\n",
              "2    democrat                   ?             y  ...     y         n            n\n",
              "3    democrat                   n             y  ...     n         n            y\n",
              "4    democrat                   y             y  ...     y         y            y\n",
              "\n",
              "[5 rows x 17 columns]"
            ]
          },
          "metadata": {
            "tags": []
          },
          "execution_count": 5
        }
      ]
    },
    {
      "cell_type": "code",
      "metadata": {
        "id": "t58OXMjswmsH",
        "colab_type": "code",
        "colab": {
          "base_uri": "https://localhost:8080/",
          "height": 258
        },
        "outputId": "b7fcc58d-17f3-4985-f5b5-ee26807cc853"
      },
      "source": [
        "df = df.replace({'?':np.NaN, 'n':0, 'y':1})\n",
        "\n",
        "df.head()"
      ],
      "execution_count": 9,
      "outputs": [
        {
          "output_type": "execute_result",
          "data": {
            "text/html": [
              "<div>\n",
              "<style scoped>\n",
              "    .dataframe tbody tr th:only-of-type {\n",
              "        vertical-align: middle;\n",
              "    }\n",
              "\n",
              "    .dataframe tbody tr th {\n",
              "        vertical-align: top;\n",
              "    }\n",
              "\n",
              "    .dataframe thead th {\n",
              "        text-align: right;\n",
              "    }\n",
              "</style>\n",
              "<table border=\"1\" class=\"dataframe\">\n",
              "  <thead>\n",
              "    <tr style=\"text-align: right;\">\n",
              "      <th></th>\n",
              "      <th>party</th>\n",
              "      <th>handicapped-infants</th>\n",
              "      <th>water-project</th>\n",
              "      <th>budget</th>\n",
              "      <th>physician-fee-freeze</th>\n",
              "      <th>el-salvador-aid</th>\n",
              "      <th>religious-groups</th>\n",
              "      <th>anti-satellite-ban</th>\n",
              "      <th>aid-to-contras</th>\n",
              "      <th>mx-missile</th>\n",
              "      <th>immigration</th>\n",
              "      <th>synfuels</th>\n",
              "      <th>education</th>\n",
              "      <th>right-to-sue</th>\n",
              "      <th>crime</th>\n",
              "      <th>duty-free</th>\n",
              "      <th>south-africa</th>\n",
              "    </tr>\n",
              "  </thead>\n",
              "  <tbody>\n",
              "    <tr>\n",
              "      <th>0</th>\n",
              "      <td>republican</td>\n",
              "      <td>0.0</td>\n",
              "      <td>1.0</td>\n",
              "      <td>0.0</td>\n",
              "      <td>1.0</td>\n",
              "      <td>1.0</td>\n",
              "      <td>1.0</td>\n",
              "      <td>0.0</td>\n",
              "      <td>0.0</td>\n",
              "      <td>0.0</td>\n",
              "      <td>1.0</td>\n",
              "      <td>NaN</td>\n",
              "      <td>1.0</td>\n",
              "      <td>1.0</td>\n",
              "      <td>1.0</td>\n",
              "      <td>0.0</td>\n",
              "      <td>1.0</td>\n",
              "    </tr>\n",
              "    <tr>\n",
              "      <th>1</th>\n",
              "      <td>republican</td>\n",
              "      <td>0.0</td>\n",
              "      <td>1.0</td>\n",
              "      <td>0.0</td>\n",
              "      <td>1.0</td>\n",
              "      <td>1.0</td>\n",
              "      <td>1.0</td>\n",
              "      <td>0.0</td>\n",
              "      <td>0.0</td>\n",
              "      <td>0.0</td>\n",
              "      <td>0.0</td>\n",
              "      <td>0.0</td>\n",
              "      <td>1.0</td>\n",
              "      <td>1.0</td>\n",
              "      <td>1.0</td>\n",
              "      <td>0.0</td>\n",
              "      <td>NaN</td>\n",
              "    </tr>\n",
              "    <tr>\n",
              "      <th>2</th>\n",
              "      <td>democrat</td>\n",
              "      <td>NaN</td>\n",
              "      <td>1.0</td>\n",
              "      <td>1.0</td>\n",
              "      <td>NaN</td>\n",
              "      <td>1.0</td>\n",
              "      <td>1.0</td>\n",
              "      <td>0.0</td>\n",
              "      <td>0.0</td>\n",
              "      <td>0.0</td>\n",
              "      <td>0.0</td>\n",
              "      <td>1.0</td>\n",
              "      <td>0.0</td>\n",
              "      <td>1.0</td>\n",
              "      <td>1.0</td>\n",
              "      <td>0.0</td>\n",
              "      <td>0.0</td>\n",
              "    </tr>\n",
              "    <tr>\n",
              "      <th>3</th>\n",
              "      <td>democrat</td>\n",
              "      <td>0.0</td>\n",
              "      <td>1.0</td>\n",
              "      <td>1.0</td>\n",
              "      <td>0.0</td>\n",
              "      <td>NaN</td>\n",
              "      <td>1.0</td>\n",
              "      <td>0.0</td>\n",
              "      <td>0.0</td>\n",
              "      <td>0.0</td>\n",
              "      <td>0.0</td>\n",
              "      <td>1.0</td>\n",
              "      <td>0.0</td>\n",
              "      <td>1.0</td>\n",
              "      <td>0.0</td>\n",
              "      <td>0.0</td>\n",
              "      <td>1.0</td>\n",
              "    </tr>\n",
              "    <tr>\n",
              "      <th>4</th>\n",
              "      <td>democrat</td>\n",
              "      <td>1.0</td>\n",
              "      <td>1.0</td>\n",
              "      <td>1.0</td>\n",
              "      <td>0.0</td>\n",
              "      <td>1.0</td>\n",
              "      <td>1.0</td>\n",
              "      <td>0.0</td>\n",
              "      <td>0.0</td>\n",
              "      <td>0.0</td>\n",
              "      <td>0.0</td>\n",
              "      <td>1.0</td>\n",
              "      <td>NaN</td>\n",
              "      <td>1.0</td>\n",
              "      <td>1.0</td>\n",
              "      <td>1.0</td>\n",
              "      <td>1.0</td>\n",
              "    </tr>\n",
              "  </tbody>\n",
              "</table>\n",
              "</div>"
            ],
            "text/plain": [
              "        party  handicapped-infants  ...  duty-free  south-africa\n",
              "0  republican                  0.0  ...        0.0           1.0\n",
              "1  republican                  0.0  ...        0.0           NaN\n",
              "2    democrat                  NaN  ...        0.0           0.0\n",
              "3    democrat                  0.0  ...        0.0           1.0\n",
              "4    democrat                  1.0  ...        1.0           1.0\n",
              "\n",
              "[5 rows x 17 columns]"
            ]
          },
          "metadata": {
            "tags": []
          },
          "execution_count": 9
        }
      ]
    },
    {
      "cell_type": "code",
      "metadata": {
        "id": "6fz5vk6Hx02B",
        "colab_type": "code",
        "colab": {
          "base_uri": "https://localhost:8080/",
          "height": 34
        },
        "outputId": "204b1080-6fa8-4c64-bbf3-bfb38685ca37"
      },
      "source": [
        "dem = df[df['party'] == 'democrat']\n",
        "rep = df[df['party'] == 'republican']\n",
        "dem.shape, rep.shape"
      ],
      "execution_count": 11,
      "outputs": [
        {
          "output_type": "execute_result",
          "data": {
            "text/plain": [
              "((267, 17), (168, 17))"
            ]
          },
          "metadata": {
            "tags": []
          },
          "execution_count": 11
        }
      ]
    },
    {
      "cell_type": "code",
      "metadata": {
        "id": "Hs5kBk97yd4F",
        "colab_type": "code",
        "colab": {
          "base_uri": "https://localhost:8080/",
          "height": 258
        },
        "outputId": "5e8d265b-a142-4409-8f84-9fb3afcde2a5"
      },
      "source": [
        "dem.head()"
      ],
      "execution_count": 12,
      "outputs": [
        {
          "output_type": "execute_result",
          "data": {
            "text/html": [
              "<div>\n",
              "<style scoped>\n",
              "    .dataframe tbody tr th:only-of-type {\n",
              "        vertical-align: middle;\n",
              "    }\n",
              "\n",
              "    .dataframe tbody tr th {\n",
              "        vertical-align: top;\n",
              "    }\n",
              "\n",
              "    .dataframe thead th {\n",
              "        text-align: right;\n",
              "    }\n",
              "</style>\n",
              "<table border=\"1\" class=\"dataframe\">\n",
              "  <thead>\n",
              "    <tr style=\"text-align: right;\">\n",
              "      <th></th>\n",
              "      <th>party</th>\n",
              "      <th>handicapped-infants</th>\n",
              "      <th>water-project</th>\n",
              "      <th>budget</th>\n",
              "      <th>physician-fee-freeze</th>\n",
              "      <th>el-salvador-aid</th>\n",
              "      <th>religious-groups</th>\n",
              "      <th>anti-satellite-ban</th>\n",
              "      <th>aid-to-contras</th>\n",
              "      <th>mx-missile</th>\n",
              "      <th>immigration</th>\n",
              "      <th>synfuels</th>\n",
              "      <th>education</th>\n",
              "      <th>right-to-sue</th>\n",
              "      <th>crime</th>\n",
              "      <th>duty-free</th>\n",
              "      <th>south-africa</th>\n",
              "    </tr>\n",
              "  </thead>\n",
              "  <tbody>\n",
              "    <tr>\n",
              "      <th>2</th>\n",
              "      <td>democrat</td>\n",
              "      <td>NaN</td>\n",
              "      <td>1.0</td>\n",
              "      <td>1.0</td>\n",
              "      <td>NaN</td>\n",
              "      <td>1.0</td>\n",
              "      <td>1.0</td>\n",
              "      <td>0.0</td>\n",
              "      <td>0.0</td>\n",
              "      <td>0.0</td>\n",
              "      <td>0.0</td>\n",
              "      <td>1.0</td>\n",
              "      <td>0.0</td>\n",
              "      <td>1.0</td>\n",
              "      <td>1.0</td>\n",
              "      <td>0.0</td>\n",
              "      <td>0.0</td>\n",
              "    </tr>\n",
              "    <tr>\n",
              "      <th>3</th>\n",
              "      <td>democrat</td>\n",
              "      <td>0.0</td>\n",
              "      <td>1.0</td>\n",
              "      <td>1.0</td>\n",
              "      <td>0.0</td>\n",
              "      <td>NaN</td>\n",
              "      <td>1.0</td>\n",
              "      <td>0.0</td>\n",
              "      <td>0.0</td>\n",
              "      <td>0.0</td>\n",
              "      <td>0.0</td>\n",
              "      <td>1.0</td>\n",
              "      <td>0.0</td>\n",
              "      <td>1.0</td>\n",
              "      <td>0.0</td>\n",
              "      <td>0.0</td>\n",
              "      <td>1.0</td>\n",
              "    </tr>\n",
              "    <tr>\n",
              "      <th>4</th>\n",
              "      <td>democrat</td>\n",
              "      <td>1.0</td>\n",
              "      <td>1.0</td>\n",
              "      <td>1.0</td>\n",
              "      <td>0.0</td>\n",
              "      <td>1.0</td>\n",
              "      <td>1.0</td>\n",
              "      <td>0.0</td>\n",
              "      <td>0.0</td>\n",
              "      <td>0.0</td>\n",
              "      <td>0.0</td>\n",
              "      <td>1.0</td>\n",
              "      <td>NaN</td>\n",
              "      <td>1.0</td>\n",
              "      <td>1.0</td>\n",
              "      <td>1.0</td>\n",
              "      <td>1.0</td>\n",
              "    </tr>\n",
              "    <tr>\n",
              "      <th>5</th>\n",
              "      <td>democrat</td>\n",
              "      <td>0.0</td>\n",
              "      <td>1.0</td>\n",
              "      <td>1.0</td>\n",
              "      <td>0.0</td>\n",
              "      <td>1.0</td>\n",
              "      <td>1.0</td>\n",
              "      <td>0.0</td>\n",
              "      <td>0.0</td>\n",
              "      <td>0.0</td>\n",
              "      <td>0.0</td>\n",
              "      <td>0.0</td>\n",
              "      <td>0.0</td>\n",
              "      <td>1.0</td>\n",
              "      <td>1.0</td>\n",
              "      <td>1.0</td>\n",
              "      <td>1.0</td>\n",
              "    </tr>\n",
              "    <tr>\n",
              "      <th>6</th>\n",
              "      <td>democrat</td>\n",
              "      <td>0.0</td>\n",
              "      <td>1.0</td>\n",
              "      <td>0.0</td>\n",
              "      <td>1.0</td>\n",
              "      <td>1.0</td>\n",
              "      <td>1.0</td>\n",
              "      <td>0.0</td>\n",
              "      <td>0.0</td>\n",
              "      <td>0.0</td>\n",
              "      <td>0.0</td>\n",
              "      <td>0.0</td>\n",
              "      <td>0.0</td>\n",
              "      <td>NaN</td>\n",
              "      <td>1.0</td>\n",
              "      <td>1.0</td>\n",
              "      <td>1.0</td>\n",
              "    </tr>\n",
              "  </tbody>\n",
              "</table>\n",
              "</div>"
            ],
            "text/plain": [
              "      party  handicapped-infants  water-project  ...  crime  duty-free  south-africa\n",
              "2  democrat                  NaN            1.0  ...    1.0        0.0           0.0\n",
              "3  democrat                  0.0            1.0  ...    0.0        0.0           1.0\n",
              "4  democrat                  1.0            1.0  ...    1.0        1.0           1.0\n",
              "5  democrat                  0.0            1.0  ...    1.0        1.0           1.0\n",
              "6  democrat                  0.0            1.0  ...    1.0        1.0           1.0\n",
              "\n",
              "[5 rows x 17 columns]"
            ]
          },
          "metadata": {
            "tags": []
          },
          "execution_count": 12
        }
      ]
    },
    {
      "cell_type": "code",
      "metadata": {
        "id": "4JgYUzB-yfjF",
        "colab_type": "code",
        "colab": {
          "base_uri": "https://localhost:8080/",
          "height": 258
        },
        "outputId": "1a903724-032a-471d-b65f-9232dcfeecb6"
      },
      "source": [
        "rep.head()"
      ],
      "execution_count": 13,
      "outputs": [
        {
          "output_type": "execute_result",
          "data": {
            "text/html": [
              "<div>\n",
              "<style scoped>\n",
              "    .dataframe tbody tr th:only-of-type {\n",
              "        vertical-align: middle;\n",
              "    }\n",
              "\n",
              "    .dataframe tbody tr th {\n",
              "        vertical-align: top;\n",
              "    }\n",
              "\n",
              "    .dataframe thead th {\n",
              "        text-align: right;\n",
              "    }\n",
              "</style>\n",
              "<table border=\"1\" class=\"dataframe\">\n",
              "  <thead>\n",
              "    <tr style=\"text-align: right;\">\n",
              "      <th></th>\n",
              "      <th>party</th>\n",
              "      <th>handicapped-infants</th>\n",
              "      <th>water-project</th>\n",
              "      <th>budget</th>\n",
              "      <th>physician-fee-freeze</th>\n",
              "      <th>el-salvador-aid</th>\n",
              "      <th>religious-groups</th>\n",
              "      <th>anti-satellite-ban</th>\n",
              "      <th>aid-to-contras</th>\n",
              "      <th>mx-missile</th>\n",
              "      <th>immigration</th>\n",
              "      <th>synfuels</th>\n",
              "      <th>education</th>\n",
              "      <th>right-to-sue</th>\n",
              "      <th>crime</th>\n",
              "      <th>duty-free</th>\n",
              "      <th>south-africa</th>\n",
              "    </tr>\n",
              "  </thead>\n",
              "  <tbody>\n",
              "    <tr>\n",
              "      <th>0</th>\n",
              "      <td>republican</td>\n",
              "      <td>0.0</td>\n",
              "      <td>1.0</td>\n",
              "      <td>0.0</td>\n",
              "      <td>1.0</td>\n",
              "      <td>1.0</td>\n",
              "      <td>1.0</td>\n",
              "      <td>0.0</td>\n",
              "      <td>0.0</td>\n",
              "      <td>0.0</td>\n",
              "      <td>1.0</td>\n",
              "      <td>NaN</td>\n",
              "      <td>1.0</td>\n",
              "      <td>1.0</td>\n",
              "      <td>1.0</td>\n",
              "      <td>0.0</td>\n",
              "      <td>1.0</td>\n",
              "    </tr>\n",
              "    <tr>\n",
              "      <th>1</th>\n",
              "      <td>republican</td>\n",
              "      <td>0.0</td>\n",
              "      <td>1.0</td>\n",
              "      <td>0.0</td>\n",
              "      <td>1.0</td>\n",
              "      <td>1.0</td>\n",
              "      <td>1.0</td>\n",
              "      <td>0.0</td>\n",
              "      <td>0.0</td>\n",
              "      <td>0.0</td>\n",
              "      <td>0.0</td>\n",
              "      <td>0.0</td>\n",
              "      <td>1.0</td>\n",
              "      <td>1.0</td>\n",
              "      <td>1.0</td>\n",
              "      <td>0.0</td>\n",
              "      <td>NaN</td>\n",
              "    </tr>\n",
              "    <tr>\n",
              "      <th>7</th>\n",
              "      <td>republican</td>\n",
              "      <td>0.0</td>\n",
              "      <td>1.0</td>\n",
              "      <td>0.0</td>\n",
              "      <td>1.0</td>\n",
              "      <td>1.0</td>\n",
              "      <td>1.0</td>\n",
              "      <td>0.0</td>\n",
              "      <td>0.0</td>\n",
              "      <td>0.0</td>\n",
              "      <td>0.0</td>\n",
              "      <td>0.0</td>\n",
              "      <td>0.0</td>\n",
              "      <td>1.0</td>\n",
              "      <td>1.0</td>\n",
              "      <td>NaN</td>\n",
              "      <td>1.0</td>\n",
              "    </tr>\n",
              "    <tr>\n",
              "      <th>8</th>\n",
              "      <td>republican</td>\n",
              "      <td>0.0</td>\n",
              "      <td>1.0</td>\n",
              "      <td>0.0</td>\n",
              "      <td>1.0</td>\n",
              "      <td>1.0</td>\n",
              "      <td>1.0</td>\n",
              "      <td>0.0</td>\n",
              "      <td>0.0</td>\n",
              "      <td>0.0</td>\n",
              "      <td>0.0</td>\n",
              "      <td>0.0</td>\n",
              "      <td>1.0</td>\n",
              "      <td>1.0</td>\n",
              "      <td>1.0</td>\n",
              "      <td>0.0</td>\n",
              "      <td>1.0</td>\n",
              "    </tr>\n",
              "    <tr>\n",
              "      <th>10</th>\n",
              "      <td>republican</td>\n",
              "      <td>0.0</td>\n",
              "      <td>1.0</td>\n",
              "      <td>0.0</td>\n",
              "      <td>1.0</td>\n",
              "      <td>1.0</td>\n",
              "      <td>0.0</td>\n",
              "      <td>0.0</td>\n",
              "      <td>0.0</td>\n",
              "      <td>0.0</td>\n",
              "      <td>0.0</td>\n",
              "      <td>NaN</td>\n",
              "      <td>NaN</td>\n",
              "      <td>1.0</td>\n",
              "      <td>1.0</td>\n",
              "      <td>0.0</td>\n",
              "      <td>0.0</td>\n",
              "    </tr>\n",
              "  </tbody>\n",
              "</table>\n",
              "</div>"
            ],
            "text/plain": [
              "         party  handicapped-infants  ...  duty-free  south-africa\n",
              "0   republican                  0.0  ...        0.0           1.0\n",
              "1   republican                  0.0  ...        0.0           NaN\n",
              "7   republican                  0.0  ...        NaN           1.0\n",
              "8   republican                  0.0  ...        0.0           1.0\n",
              "10  republican                  0.0  ...        0.0           0.0\n",
              "\n",
              "[5 rows x 17 columns]"
            ]
          },
          "metadata": {
            "tags": []
          },
          "execution_count": 13
        }
      ]
    },
    {
      "cell_type": "code",
      "metadata": {
        "id": "vius8uq102DW",
        "colab_type": "code",
        "colab": {
          "base_uri": "https://localhost:8080/",
          "height": 323
        },
        "outputId": "9cfd86cf-9f57-4d50-ab32-462aa7fc6af3"
      },
      "source": [
        "df.isnull().sum() "
      ],
      "execution_count": 18,
      "outputs": [
        {
          "output_type": "execute_result",
          "data": {
            "text/plain": [
              "party                     0\n",
              "handicapped-infants      12\n",
              "water-project            48\n",
              "budget                   11\n",
              "physician-fee-freeze     11\n",
              "el-salvador-aid          15\n",
              "religious-groups         11\n",
              "anti-satellite-ban       14\n",
              "aid-to-contras           15\n",
              "mx-missile               22\n",
              "immigration               7\n",
              "synfuels                 21\n",
              "education                31\n",
              "right-to-sue             25\n",
              "crime                    17\n",
              "duty-free                28\n",
              "south-africa            104\n",
              "dtype: int64"
            ]
          },
          "metadata": {
            "tags": []
          },
          "execution_count": 18
        }
      ]
    },
    {
      "cell_type": "markdown",
      "metadata": {
        "id": "dXquslqI11-M",
        "colab_type": "text"
      },
      "source": [
        "**2.** On average, Democrats support this issue more than Republicans. "
      ]
    },
    {
      "cell_type": "code",
      "metadata": {
        "id": "1Btd-6gI7DxC",
        "colab_type": "code",
        "colab": {
          "base_uri": "https://localhost:8080/",
          "height": 34
        },
        "outputId": "ef255a11-78b8-4e9d-aab9-177a5663f900"
      },
      "source": [
        "dem['handicapped-infants'].mean(), rep['handicapped-infants'].mean()"
      ],
      "execution_count": 29,
      "outputs": [
        {
          "output_type": "execute_result",
          "data": {
            "text/plain": [
              "(0.6046511627906976, 0.18787878787878787)"
            ]
          },
          "metadata": {
            "tags": []
          },
          "execution_count": 29
        }
      ]
    },
    {
      "cell_type": "code",
      "metadata": {
        "id": "1CEJ6yga7trH",
        "colab_type": "code",
        "colab": {
          "base_uri": "https://localhost:8080/",
          "height": 34
        },
        "outputId": "7796b741-3e5f-4544-d4f8-69c3749e6a2a"
      },
      "source": [
        "ttest_ind(dem['handicapped-infants'], rep['handicapped-infants'], nan_policy = 'omit')"
      ],
      "execution_count": 30,
      "outputs": [
        {
          "output_type": "execute_result",
          "data": {
            "text/plain": [
              "Ttest_indResult(statistic=9.205264294809222, pvalue=1.613440327937243e-18)"
            ]
          },
          "metadata": {
            "tags": []
          },
          "execution_count": 30
        }
      ]
    },
    {
      "cell_type": "markdown",
      "metadata": {
        "id": "VuulbjdG5iFn",
        "colab_type": "text"
      },
      "source": [
        "**3.**  On average, Republicans support this issue more than Democrats. "
      ]
    },
    {
      "cell_type": "code",
      "metadata": {
        "id": "IvLgy5lb1vL3",
        "colab_type": "code",
        "colab": {
          "base_uri": "https://localhost:8080/",
          "height": 34
        },
        "outputId": "3a0df983-9d2a-4dcb-e739-e82b29466326"
      },
      "source": [
        "dem['religious-groups'].mean(), rep['religious-groups'].mean()"
      ],
      "execution_count": 26,
      "outputs": [
        {
          "output_type": "execute_result",
          "data": {
            "text/plain": [
              "(0.47674418604651164, 0.8975903614457831)"
            ]
          },
          "metadata": {
            "tags": []
          },
          "execution_count": 26
        }
      ]
    },
    {
      "cell_type": "code",
      "metadata": {
        "id": "1W4aVdKg3aeJ",
        "colab_type": "code",
        "colab": {
          "base_uri": "https://localhost:8080/",
          "height": 34
        },
        "outputId": "c04632e9-689f-444b-a475-2ae05548d498"
      },
      "source": [
        "ttest_ind(dem['religious-groups'], rep['religious-groups'], nan_policy = 'omit')"
      ],
      "execution_count": 52,
      "outputs": [
        {
          "output_type": "execute_result",
          "data": {
            "text/plain": [
              "Ttest_indResult(statistic=-9.737575825219457, pvalue=2.3936722520597287e-20)"
            ]
          },
          "metadata": {
            "tags": []
          },
          "execution_count": 52
        }
      ]
    },
    {
      "cell_type": "markdown",
      "metadata": {
        "id": "hnrjtDc79VQq",
        "colab_type": "text"
      },
      "source": [
        "**4.**  p-value for water project support is greater than 0.1.  This implies that Democrats and Republicans don't seem that different regarding this issue."
      ]
    },
    {
      "cell_type": "code",
      "metadata": {
        "id": "U9Skab0R-ErG",
        "colab_type": "code",
        "colab": {
          "base_uri": "https://localhost:8080/",
          "height": 34
        },
        "outputId": "bf85f016-119e-4560-e441-08c6819e72f7"
      },
      "source": [
        "dem['water-project'].mean(), rep['water-project'].mean()"
      ],
      "execution_count": 62,
      "outputs": [
        {
          "output_type": "execute_result",
          "data": {
            "text/plain": [
              "(0.502092050209205, 0.5067567567567568)"
            ]
          },
          "metadata": {
            "tags": []
          },
          "execution_count": 62
        }
      ]
    },
    {
      "cell_type": "code",
      "metadata": {
        "id": "9AvgZY6O-Rw5",
        "colab_type": "code",
        "colab": {
          "base_uri": "https://localhost:8080/",
          "height": 34
        },
        "outputId": "8f22948c-49f0-4e50-d5a6-fa0135b90a8f"
      },
      "source": [
        "ttest_ind(dem['water-project'], rep['water-project'], nan_policy = 'omit')"
      ],
      "execution_count": 63,
      "outputs": [
        {
          "output_type": "execute_result",
          "data": {
            "text/plain": [
              "Ttest_indResult(statistic=-0.08896538137868286, pvalue=0.9291556823993485)"
            ]
          },
          "metadata": {
            "tags": []
          },
          "execution_count": 63
        }
      ]
    },
    {
      "cell_type": "markdown",
      "metadata": {
        "id": "bpwmghHfIP62",
        "colab_type": "text"
      },
      "source": [
        "**Visualization**"
      ]
    },
    {
      "cell_type": "code",
      "metadata": {
        "id": "QA9Y-BKiESUV",
        "colab_type": "code",
        "colab": {
          "base_uri": "https://localhost:8080/",
          "height": 306
        },
        "outputId": "bdf9e709-a6e3-47a5-d630-0821dbf206dd"
      },
      "source": [
        "dem['handicapped-infants'].describe(), rep['handicapped-infants'].describe()"
      ],
      "execution_count": 76,
      "outputs": [
        {
          "output_type": "execute_result",
          "data": {
            "text/plain": [
              "(count    258.000000\n",
              " mean       0.604651\n",
              " std        0.489876\n",
              " min        0.000000\n",
              " 25%        0.000000\n",
              " 50%        1.000000\n",
              " 75%        1.000000\n",
              " max        1.000000\n",
              " Name: handicapped-infants, dtype: float64, count    165.000000\n",
              " mean       0.187879\n",
              " std        0.391804\n",
              " min        0.000000\n",
              " 25%        0.000000\n",
              " 50%        0.000000\n",
              " 75%        0.000000\n",
              " max        1.000000\n",
              " Name: handicapped-infants, dtype: float64)"
            ]
          },
          "metadata": {
            "tags": []
          },
          "execution_count": 76
        }
      ]
    },
    {
      "cell_type": "code",
      "metadata": {
        "id": "bT4VMzrxH0YO",
        "colab_type": "code",
        "colab": {
          "base_uri": "https://localhost:8080/",
          "height": 269
        },
        "outputId": "4cca28a5-5686-41a0-e7bd-de8a2b5a19c1"
      },
      "source": [
        "subsetdem = np.random.normal(0.604651, 0.489876, 258)\n",
        "subsetrep = np.random.normal(0.187879, 0.391804, 165)\n",
        "\n",
        "for sample in [subsetdem, subsetrep]:\n",
        "  sns.distplot(sample)"
      ],
      "execution_count": 112,
      "outputs": [
        {
          "output_type": "display_data",
          "data": {
            "image/png": "[encoded data removed]",
            "text/plain": [
              "<Figure size 432x288 with 1 Axes>"
            ]
          },
          "metadata": {
            "tags": []
          }
        }
      ]
    },
    {
      "cell_type": "code",
      "metadata": {
        "id": "a_LJkfhRJo72",
        "colab_type": "code",
        "colab": {
          "base_uri": "https://localhost:8080/",
          "height": 306
        },
        "outputId": "34209c32-89a7-47b7-d210-ca847dc5dd1e"
      },
      "source": [
        "dem['religious-groups'].describe(), rep['religious-groups'].describe()"
      ],
      "execution_count": 98,
      "outputs": [
        {
          "output_type": "execute_result",
          "data": {
            "text/plain": [
              "(count    258.000000\n",
              " mean       0.476744\n",
              " std        0.500430\n",
              " min        0.000000\n",
              " 25%        0.000000\n",
              " 50%        0.000000\n",
              " 75%        1.000000\n",
              " max        1.000000\n",
              " Name: religious-groups, dtype: float64, count    166.000000\n",
              " mean       0.897590\n",
              " std        0.304104\n",
              " min        0.000000\n",
              " 25%        1.000000\n",
              " 50%        1.000000\n",
              " 75%        1.000000\n",
              " max        1.000000\n",
              " Name: religious-groups, dtype: float64)"
            ]
          },
          "metadata": {
            "tags": []
          },
          "execution_count": 98
        }
      ]
    },
    {
      "cell_type": "code",
      "metadata": {
        "id": "OEb1yDkoJxSE",
        "colab_type": "code",
        "colab": {
          "base_uri": "https://localhost:8080/",
          "height": 269
        },
        "outputId": "542ecde0-0583-4b3c-ae57-3d143293f963"
      },
      "source": [
        "subsetdem = np.random.normal(0.476744, 0.500430, 258)\n",
        "subsetrep = np.random.normal(0.897590, 0.304104, 165)\n",
        "\n",
        "for sample in [subsetdem, subsetrep]:\n",
        "  sns.distplot(sample)"
      ],
      "execution_count": 106,
      "outputs": [
        {
          "output_type": "display_data",
          "data": {
            "image/png": "[encoded data removed]",
            "text/plain": [
              "<Figure size 432x288 with 1 Axes>"
            ]
          },
          "metadata": {
            "tags": []
          }
        }
      ]
    },
    {
      "cell_type": "code",
      "metadata": {
        "id": "PFmSpjrEKr7h",
        "colab_type": "code",
        "colab": {
          "base_uri": "https://localhost:8080/",
          "height": 306
        },
        "outputId": "e8777ed3-d3bd-4e6b-b8d8-1a40afcc8391"
      },
      "source": [
        "dem['water-project'].describe(), rep['water-project'].describe()"
      ],
      "execution_count": 101,
      "outputs": [
        {
          "output_type": "execute_result",
          "data": {
            "text/plain": [
              "(count    239.000000\n",
              " mean       0.502092\n",
              " std        0.501045\n",
              " min        0.000000\n",
              " 25%        0.000000\n",
              " 50%        1.000000\n",
              " 75%        1.000000\n",
              " max        1.000000\n",
              " Name: water-project, dtype: float64, count    148.000000\n",
              " mean       0.506757\n",
              " std        0.501652\n",
              " min        0.000000\n",
              " 25%        0.000000\n",
              " 50%        1.000000\n",
              " 75%        1.000000\n",
              " max        1.000000\n",
              " Name: water-project, dtype: float64)"
            ]
          },
          "metadata": {
            "tags": []
          },
          "execution_count": 101
        }
      ]
    },
    {
      "cell_type": "code",
      "metadata": {
        "id": "pAOmkUrBKznP",
        "colab_type": "code",
        "colab": {
          "base_uri": "https://localhost:8080/",
          "height": 269
        },
        "outputId": "7df9f081-a3ae-4da7-831c-02652236cac3"
      },
      "source": [
        "subsetdem = np.random.normal(0.502092, 0.501045, 258)\n",
        "subsetrep = np.random.normal(0.506757, 0.501652, 165)\n",
        "\n",
        "for sample in [subsetdem, subsetrep]:\n",
        "  sns.distplot(sample)"
      ],
      "execution_count": 104,
      "outputs": [
        {
          "output_type": "display_data",
          "data": {
            "image/png": "[encoded data removed]",
            "text/plain": [
              "<Figure size 432x288 with 1 Axes>"
            ]
          },
          "metadata": {
            "tags": []
          }
        }
      ]
    }
  ]
}