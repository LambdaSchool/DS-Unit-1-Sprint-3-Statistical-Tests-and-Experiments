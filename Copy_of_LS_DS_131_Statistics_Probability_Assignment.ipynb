{
  "nbformat": 4,
  "nbformat_minor": 0,
  "metadata": {
    "colab": {
      "name": "Copy of LS_DS_131_Statistics_Probability_Assignment.ipynb",
      "version": "0.3.2",
      "provenance": [],
      "include_colab_link": true
    },
    "language_info": {
      "codemirror_mode": {
        "name": "ipython",
        "version": 3
      },
      "file_extension": ".py",
      "mimetype": "text/x-python",
      "name": "python",
      "nbconvert_exporter": "python",
      "pygments_lexer": "ipython3",
      "version": "3.7.3"
    },
    "kernelspec": {
      "display_name": "Python 3",
      "language": "python",
      "name": "python3"
    }
  },
  "cells": [
    {
      "cell_type": "markdown",
      "metadata": {
        "id": "view-in-github",
        "colab_type": "text"
      },
      "source": [
        "<a href=\"https://colab.research.google.com/github/StevenMElliott/DS-Unit-1-Sprint-3-Statistical-Tests-and-Experiments/blob/master/Copy_of_LS_DS_131_Statistics_Probability_Assignment.ipynb\" target=\"_parent\"><img src=\"https://colab.research.google.com/assets/colab-badge.svg\" alt=\"Open In Colab\"/></a>"
      ]
    },
    {
      "cell_type": "markdown",
      "metadata": {
        "id": "38Wpiw2T2ars",
        "colab_type": "text"
      },
      "source": [
        "<img align=\"left\" src=\"https://lever-client-logos.s3.amazonaws.com/864372b1-534c-480e-acd5-9711f850815c-1524247202159.png\" width=200>\n",
        "<br></br>\n",
        "<br></br>\n",
        "\n",
        "## *Data Science Unit 1 Sprint 3 Assignment 1*\n",
        "\n",
        "# Apply the t-test to real data\n",
        "\n",
        "Your assignment is to determine which issues have \"statistically significant\" differences between political parties in this [1980s congressional voting data](https://archive.ics.uci.edu/ml/datasets/Congressional+Voting+Records). The data consists of 435 instances (one for each congressperson), a class (democrat or republican), and 16 binary attributes (yes or no for voting for or against certain issues). Be aware - there are missing values!\n",
        "\n",
        "Your goals:\n",
        "\n",
        "1. Load and clean the data (or determine the best method to drop observations when running tests)\n",
        "2. Using hypothesis testing, find an issue that democrats support more than republicans with p < 0.01\n",
        "3. Using hypothesis testing, find an issue that republicans support more than democrats with p < 0.01\n",
        "4. Using hypothesis testing, find an issue where the difference between republicans and democrats has p > 0.1 (i.e. there may not be much of a difference)\n",
        "\n",
        "Note that this data will involve *2 sample* t-tests, because you're comparing averages across two groups (republicans and democrats) rather than a single group against a null hypothesis.\n",
        "\n",
        "Stretch goals:\n",
        "\n",
        "1. Refactor your code into functions so it's easy to rerun with arbitrary variables\n",
        "2. Apply hypothesis testing to your personal project data (for the purposes of this notebook you can type a summary of the hypothesis you formed and tested)"
      ]
    },
    {
      "cell_type": "markdown",
      "metadata": {
        "id": "2byVxQMJGvhi",
        "colab_type": "text"
      },
      "source": [
        "#Get and Clean the Data"
      ]
    },
    {
      "cell_type": "code",
      "metadata": {
        "id": "XK0jGQSIGrXp",
        "colab_type": "code",
        "colab": {}
      },
      "source": [
        "%matplotlib inline\n",
        "import pandas as pd\n",
        "import matplotlib.pyplot as plt\n",
        "import random\n",
        "from statistics import mean, stdev\n",
        "import numpy as np\n",
        "from scipy.stats import ttest_1samp, ttest_ind"
      ],
      "execution_count": 0,
      "outputs": []
    },
    {
      "cell_type": "code",
      "metadata": {
        "id": "yGbHkkcP2art",
        "colab_type": "code",
        "outputId": "7585e143-865d-414c-9345-0a978e97e071",
        "colab": {
          "base_uri": "https://localhost:8080/",
          "height": 204
        }
      },
      "source": [
        "!wget https://archive.ics.uci.edu/ml/machine-learning-databases/voting-records/house-votes-84.data"
      ],
      "execution_count": 2,
      "outputs": [
        {
          "output_type": "stream",
          "text": [
            "--2019-06-14 11:34:21--  https://archive.ics.uci.edu/ml/machine-learning-databases/voting-records/house-votes-84.data\n",
            "Resolving archive.ics.uci.edu (archive.ics.uci.edu)... 128.195.10.252\n",
            "Connecting to archive.ics.uci.edu (archive.ics.uci.edu)|128.195.10.252|:443... connected.\n",
            "HTTP request sent, awaiting response... 200 OK\n",
            "Length: 18171 (18K) [application/x-httpd-php]\n",
            "Saving to: ‘house-votes-84.data’\n",
            "\n",
            "\rhouse-votes-84.data   0%[                    ]       0  --.-KB/s               \rhouse-votes-84.data 100%[===================>]  17.75K  --.-KB/s    in 0.03s   \n",
            "\n",
            "2019-06-14 11:34:21 (616 KB/s) - ‘house-votes-84.data’ saved [18171/18171]\n",
            "\n"
          ],
          "name": "stdout"
        }
      ]
    },
    {
      "cell_type": "code",
      "metadata": {
        "id": "rVj8QK87Gkwr",
        "colab_type": "code",
        "outputId": "fae8ea9d-8f51-4683-974f-710aa5676fcd",
        "colab": {
          "base_uri": "https://localhost:8080/",
          "height": 204
        }
      },
      "source": [
        "!wget https://archive.ics.uci.edu/ml/machine-learning-databases/voting-records/house-votes-84.names"
      ],
      "execution_count": 3,
      "outputs": [
        {
          "output_type": "stream",
          "text": [
            "--2019-06-14 11:34:22--  https://archive.ics.uci.edu/ml/machine-learning-databases/voting-records/house-votes-84.names\n",
            "Resolving archive.ics.uci.edu (archive.ics.uci.edu)... 128.195.10.252\n",
            "Connecting to archive.ics.uci.edu (archive.ics.uci.edu)|128.195.10.252|:443... connected.\n",
            "HTTP request sent, awaiting response... 200 OK\n",
            "Length: 6868 (6.7K) [application/x-httpd-php]\n",
            "Saving to: ‘house-votes-84.names’\n",
            "\n",
            "\rhouse-votes-84.name   0%[                    ]       0  --.-KB/s               \rhouse-votes-84.name 100%[===================>]   6.71K  --.-KB/s    in 0s      \n",
            "\n",
            "2019-06-14 11:34:22 (134 MB/s) - ‘house-votes-84.names’ saved [6868/6868]\n",
            "\n"
          ],
          "name": "stdout"
        }
      ]
    },
    {
      "cell_type": "code",
      "metadata": {
        "id": "Zz3cQg4pHHe5",
        "colab_type": "code",
        "outputId": "90121913-0af5-49e9-9b08-ed32f0f04239",
        "colab": {
          "base_uri": "https://localhost:8080/",
          "height": 34
        }
      },
      "source": [
        "file = open('house-votes-84.data', \"r\")\n",
        "file.readline()"
      ],
      "execution_count": 4,
      "outputs": [
        {
          "output_type": "execute_result",
          "data": {
            "text/plain": [
              "'republican,n,y,n,y,y,y,n,n,n,y,?,y,y,y,n,y\\n'"
            ]
          },
          "metadata": {
            "tags": []
          },
          "execution_count": 4
        }
      ]
    },
    {
      "cell_type": "code",
      "metadata": {
        "id": "OPj06K_F-Oiy",
        "colab_type": "code",
        "outputId": "ba26ef58-fcbb-4d00-b93b-25e74a8aeb88",
        "colab": {
          "base_uri": "https://localhost:8080/",
          "height": 204
        }
      },
      "source": [
        "df = pd.read_csv('house-votes-84.data', header=None)\n",
        "df.head()"
      ],
      "execution_count": 5,
      "outputs": [
        {
          "output_type": "execute_result",
          "data": {
            "text/html": [
              "<div>\n",
              "<style scoped>\n",
              "    .dataframe tbody tr th:only-of-type {\n",
              "        vertical-align: middle;\n",
              "    }\n",
              "\n",
              "    .dataframe tbody tr th {\n",
              "        vertical-align: top;\n",
              "    }\n",
              "\n",
              "    .dataframe thead th {\n",
              "        text-align: right;\n",
              "    }\n",
              "</style>\n",
              "<table border=\"1\" class=\"dataframe\">\n",
              "  <thead>\n",
              "    <tr style=\"text-align: right;\">\n",
              "      <th></th>\n",
              "      <th>0</th>\n",
              "      <th>1</th>\n",
              "      <th>2</th>\n",
              "      <th>3</th>\n",
              "      <th>4</th>\n",
              "      <th>5</th>\n",
              "      <th>6</th>\n",
              "      <th>7</th>\n",
              "      <th>8</th>\n",
              "      <th>9</th>\n",
              "      <th>10</th>\n",
              "      <th>11</th>\n",
              "      <th>12</th>\n",
              "      <th>13</th>\n",
              "      <th>14</th>\n",
              "      <th>15</th>\n",
              "      <th>16</th>\n",
              "    </tr>\n",
              "  </thead>\n",
              "  <tbody>\n",
              "    <tr>\n",
              "      <th>0</th>\n",
              "      <td>republican</td>\n",
              "      <td>n</td>\n",
              "      <td>y</td>\n",
              "      <td>n</td>\n",
              "      <td>y</td>\n",
              "      <td>y</td>\n",
              "      <td>y</td>\n",
              "      <td>n</td>\n",
              "      <td>n</td>\n",
              "      <td>n</td>\n",
              "      <td>y</td>\n",
              "      <td>?</td>\n",
              "      <td>y</td>\n",
              "      <td>y</td>\n",
              "      <td>y</td>\n",
              "      <td>n</td>\n",
              "      <td>y</td>\n",
              "    </tr>\n",
              "    <tr>\n",
              "      <th>1</th>\n",
              "      <td>republican</td>\n",
              "      <td>n</td>\n",
              "      <td>y</td>\n",
              "      <td>n</td>\n",
              "      <td>y</td>\n",
              "      <td>y</td>\n",
              "      <td>y</td>\n",
              "      <td>n</td>\n",
              "      <td>n</td>\n",
              "      <td>n</td>\n",
              "      <td>n</td>\n",
              "      <td>n</td>\n",
              "      <td>y</td>\n",
              "      <td>y</td>\n",
              "      <td>y</td>\n",
              "      <td>n</td>\n",
              "      <td>?</td>\n",
              "    </tr>\n",
              "    <tr>\n",
              "      <th>2</th>\n",
              "      <td>democrat</td>\n",
              "      <td>?</td>\n",
              "      <td>y</td>\n",
              "      <td>y</td>\n",
              "      <td>?</td>\n",
              "      <td>y</td>\n",
              "      <td>y</td>\n",
              "      <td>n</td>\n",
              "      <td>n</td>\n",
              "      <td>n</td>\n",
              "      <td>n</td>\n",
              "      <td>y</td>\n",
              "      <td>n</td>\n",
              "      <td>y</td>\n",
              "      <td>y</td>\n",
              "      <td>n</td>\n",
              "      <td>n</td>\n",
              "    </tr>\n",
              "    <tr>\n",
              "      <th>3</th>\n",
              "      <td>democrat</td>\n",
              "      <td>n</td>\n",
              "      <td>y</td>\n",
              "      <td>y</td>\n",
              "      <td>n</td>\n",
              "      <td>?</td>\n",
              "      <td>y</td>\n",
              "      <td>n</td>\n",
              "      <td>n</td>\n",
              "      <td>n</td>\n",
              "      <td>n</td>\n",
              "      <td>y</td>\n",
              "      <td>n</td>\n",
              "      <td>y</td>\n",
              "      <td>n</td>\n",
              "      <td>n</td>\n",
              "      <td>y</td>\n",
              "    </tr>\n",
              "    <tr>\n",
              "      <th>4</th>\n",
              "      <td>democrat</td>\n",
              "      <td>y</td>\n",
              "      <td>y</td>\n",
              "      <td>y</td>\n",
              "      <td>n</td>\n",
              "      <td>y</td>\n",
              "      <td>y</td>\n",
              "      <td>n</td>\n",
              "      <td>n</td>\n",
              "      <td>n</td>\n",
              "      <td>n</td>\n",
              "      <td>y</td>\n",
              "      <td>?</td>\n",
              "      <td>y</td>\n",
              "      <td>y</td>\n",
              "      <td>y</td>\n",
              "      <td>y</td>\n",
              "    </tr>\n",
              "  </tbody>\n",
              "</table>\n",
              "</div>"
            ],
            "text/plain": [
              "           0  1  2  3  4  5  6  7  8  9  10 11 12 13 14 15 16\n",
              "0  republican  n  y  n  y  y  y  n  n  n  y  ?  y  y  y  n  y\n",
              "1  republican  n  y  n  y  y  y  n  n  n  n  n  y  y  y  n  ?\n",
              "2    democrat  ?  y  y  ?  y  y  n  n  n  n  y  n  y  y  n  n\n",
              "3    democrat  n  y  y  n  ?  y  n  n  n  n  y  n  y  n  n  y\n",
              "4    democrat  y  y  y  n  y  y  n  n  n  n  y  ?  y  y  y  y"
            ]
          },
          "metadata": {
            "tags": []
          },
          "execution_count": 5
        }
      ]
    },
    {
      "cell_type": "code",
      "metadata": {
        "id": "ZTcdcmatBaSr",
        "colab_type": "code",
        "colab": {}
      },
      "source": [
        "df.columns = ['party'\n",
        "             , 'handicapped_infants'\n",
        "             , 'water_project'\n",
        "             , 'budget_resolution'\n",
        "             , 'pysician_fee_freeze'\n",
        "             , 'el_salvador_aid'\n",
        "             , 'religious_groups_in_school'\n",
        "             , 'anit_satellite_test_ban'\n",
        "             , 'contras'\n",
        "             , 'mx_missle'\n",
        "             , 'immegration'\n",
        "             , 'synfuels_corperation_cutback'\n",
        "             , 'education_spending'\n",
        "             , 'superfund_right_to_sue'\n",
        "             , 'crime'\n",
        "             , 'duty_free_exports'\n",
        "             , 'south_africa']"
      ],
      "execution_count": 0,
      "outputs": []
    },
    {
      "cell_type": "code",
      "metadata": {
        "id": "-F6jz6gjDRM3",
        "colab_type": "code",
        "outputId": "608cd9fb-8fb2-43ba-a26f-fe866abb3f7b",
        "colab": {
          "base_uri": "https://localhost:8080/",
          "height": 224
        }
      },
      "source": [
        "df.head()"
      ],
      "execution_count": 7,
      "outputs": [
        {
          "output_type": "execute_result",
          "data": {
            "text/html": [
              "<div>\n",
              "<style scoped>\n",
              "    .dataframe tbody tr th:only-of-type {\n",
              "        vertical-align: middle;\n",
              "    }\n",
              "\n",
              "    .dataframe tbody tr th {\n",
              "        vertical-align: top;\n",
              "    }\n",
              "\n",
              "    .dataframe thead th {\n",
              "        text-align: right;\n",
              "    }\n",
              "</style>\n",
              "<table border=\"1\" class=\"dataframe\">\n",
              "  <thead>\n",
              "    <tr style=\"text-align: right;\">\n",
              "      <th></th>\n",
              "      <th>party</th>\n",
              "      <th>handicapped_infants</th>\n",
              "      <th>water_project</th>\n",
              "      <th>budget_resolution</th>\n",
              "      <th>pysician_fee_freeze</th>\n",
              "      <th>el_salvador_aid</th>\n",
              "      <th>religious_groups_in_school</th>\n",
              "      <th>anit_satellite_test_ban</th>\n",
              "      <th>contras</th>\n",
              "      <th>mx_missle</th>\n",
              "      <th>immegration</th>\n",
              "      <th>synfuels_corperation_cutback</th>\n",
              "      <th>education_spending</th>\n",
              "      <th>superfund_right_to_sue</th>\n",
              "      <th>crime</th>\n",
              "      <th>duty_free_exports</th>\n",
              "      <th>south_africa</th>\n",
              "    </tr>\n",
              "  </thead>\n",
              "  <tbody>\n",
              "    <tr>\n",
              "      <th>0</th>\n",
              "      <td>republican</td>\n",
              "      <td>n</td>\n",
              "      <td>y</td>\n",
              "      <td>n</td>\n",
              "      <td>y</td>\n",
              "      <td>y</td>\n",
              "      <td>y</td>\n",
              "      <td>n</td>\n",
              "      <td>n</td>\n",
              "      <td>n</td>\n",
              "      <td>y</td>\n",
              "      <td>?</td>\n",
              "      <td>y</td>\n",
              "      <td>y</td>\n",
              "      <td>y</td>\n",
              "      <td>n</td>\n",
              "      <td>y</td>\n",
              "    </tr>\n",
              "    <tr>\n",
              "      <th>1</th>\n",
              "      <td>republican</td>\n",
              "      <td>n</td>\n",
              "      <td>y</td>\n",
              "      <td>n</td>\n",
              "      <td>y</td>\n",
              "      <td>y</td>\n",
              "      <td>y</td>\n",
              "      <td>n</td>\n",
              "      <td>n</td>\n",
              "      <td>n</td>\n",
              "      <td>n</td>\n",
              "      <td>n</td>\n",
              "      <td>y</td>\n",
              "      <td>y</td>\n",
              "      <td>y</td>\n",
              "      <td>n</td>\n",
              "      <td>?</td>\n",
              "    </tr>\n",
              "    <tr>\n",
              "      <th>2</th>\n",
              "      <td>democrat</td>\n",
              "      <td>?</td>\n",
              "      <td>y</td>\n",
              "      <td>y</td>\n",
              "      <td>?</td>\n",
              "      <td>y</td>\n",
              "      <td>y</td>\n",
              "      <td>n</td>\n",
              "      <td>n</td>\n",
              "      <td>n</td>\n",
              "      <td>n</td>\n",
              "      <td>y</td>\n",
              "      <td>n</td>\n",
              "      <td>y</td>\n",
              "      <td>y</td>\n",
              "      <td>n</td>\n",
              "      <td>n</td>\n",
              "    </tr>\n",
              "    <tr>\n",
              "      <th>3</th>\n",
              "      <td>democrat</td>\n",
              "      <td>n</td>\n",
              "      <td>y</td>\n",
              "      <td>y</td>\n",
              "      <td>n</td>\n",
              "      <td>?</td>\n",
              "      <td>y</td>\n",
              "      <td>n</td>\n",
              "      <td>n</td>\n",
              "      <td>n</td>\n",
              "      <td>n</td>\n",
              "      <td>y</td>\n",
              "      <td>n</td>\n",
              "      <td>y</td>\n",
              "      <td>n</td>\n",
              "      <td>n</td>\n",
              "      <td>y</td>\n",
              "    </tr>\n",
              "    <tr>\n",
              "      <th>4</th>\n",
              "      <td>democrat</td>\n",
              "      <td>y</td>\n",
              "      <td>y</td>\n",
              "      <td>y</td>\n",
              "      <td>n</td>\n",
              "      <td>y</td>\n",
              "      <td>y</td>\n",
              "      <td>n</td>\n",
              "      <td>n</td>\n",
              "      <td>n</td>\n",
              "      <td>n</td>\n",
              "      <td>y</td>\n",
              "      <td>?</td>\n",
              "      <td>y</td>\n",
              "      <td>y</td>\n",
              "      <td>y</td>\n",
              "      <td>y</td>\n",
              "    </tr>\n",
              "  </tbody>\n",
              "</table>\n",
              "</div>"
            ],
            "text/plain": [
              "        party handicapped_infants  ... duty_free_exports south_africa\n",
              "0  republican                   n  ...                 n            y\n",
              "1  republican                   n  ...                 n            ?\n",
              "2    democrat                   ?  ...                 n            n\n",
              "3    democrat                   n  ...                 n            y\n",
              "4    democrat                   y  ...                 y            y\n",
              "\n",
              "[5 rows x 17 columns]"
            ]
          },
          "metadata": {
            "tags": []
          },
          "execution_count": 7
        }
      ]
    },
    {
      "cell_type": "code",
      "metadata": {
        "id": "OLXRY6d_Dan_",
        "colab_type": "code",
        "outputId": "47ca1244-3759-4774-d341-55ae7e6bc78c",
        "colab": {
          "base_uri": "https://localhost:8080/",
          "height": 85
        }
      },
      "source": [
        "df['contras'].value_counts()"
      ],
      "execution_count": 8,
      "outputs": [
        {
          "output_type": "execute_result",
          "data": {
            "text/plain": [
              "y    242\n",
              "n    178\n",
              "?     15\n",
              "Name: contras, dtype: int64"
            ]
          },
          "metadata": {
            "tags": []
          },
          "execution_count": 8
        }
      ]
    },
    {
      "cell_type": "code",
      "metadata": {
        "id": "LDF3LePynG9z",
        "colab_type": "code",
        "colab": {}
      },
      "source": [
        "df.to_csv('clean_congress.csv')"
      ],
      "execution_count": 0,
      "outputs": []
    },
    {
      "cell_type": "code",
      "metadata": {
        "id": "2nF9VS2UEViJ",
        "colab_type": "code",
        "colab": {}
      },
      "source": [
        "#filling the NaN\n",
        "df = df.replace(to_replace='?', value=np.NaN)"
      ],
      "execution_count": 0,
      "outputs": []
    },
    {
      "cell_type": "code",
      "metadata": {
        "id": "JInu1u5UEuJU",
        "colab_type": "code",
        "colab": {}
      },
      "source": [
        "df = df.replace('n', 0.0)"
      ],
      "execution_count": 0,
      "outputs": []
    },
    {
      "cell_type": "code",
      "metadata": {
        "id": "RcWJCkMGF1vD",
        "colab_type": "code",
        "colab": {}
      },
      "source": [
        "df = df.replace('y', 1.0)"
      ],
      "execution_count": 0,
      "outputs": []
    },
    {
      "cell_type": "code",
      "metadata": {
        "id": "XQFl1BlrFrCy",
        "colab_type": "code",
        "colab": {}
      },
      "source": [
        "#make the subsets\n",
        "rep = df[df['party'] == 'republican']\n",
        "dem = df[df['party'] == 'democrat']"
      ],
      "execution_count": 0,
      "outputs": []
    },
    {
      "cell_type": "code",
      "metadata": {
        "id": "7wtK8TVSGacZ",
        "colab_type": "code",
        "outputId": "36318754-3e93-4899-f599-0a1e2b629b63",
        "colab": {
          "base_uri": "https://localhost:8080/",
          "height": 34
        }
      },
      "source": [
        "dem.shape + rep.shape"
      ],
      "execution_count": 14,
      "outputs": [
        {
          "output_type": "execute_result",
          "data": {
            "text/plain": [
              "(267, 17, 168, 17)"
            ]
          },
          "metadata": {
            "tags": []
          },
          "execution_count": 14
        }
      ]
    },
    {
      "cell_type": "code",
      "metadata": {
        "id": "OKowySxSGlax",
        "colab_type": "code",
        "outputId": "7135942b-84ff-4b96-c16e-1d3e72515177",
        "colab": {
          "base_uri": "https://localhost:8080/",
          "height": 68
        }
      },
      "source": [
        "df.party.value_counts()"
      ],
      "execution_count": 15,
      "outputs": [
        {
          "output_type": "execute_result",
          "data": {
            "text/plain": [
              "democrat      267\n",
              "republican    168\n",
              "Name: party, dtype: int64"
            ]
          },
          "metadata": {
            "tags": []
          },
          "execution_count": 15
        }
      ]
    },
    {
      "cell_type": "markdown",
      "metadata": {
        "id": "Ywhfq-KZTuDP",
        "colab_type": "text"
      },
      "source": [
        "#Hypothesis Testing"
      ]
    },
    {
      "cell_type": "markdown",
      "metadata": {
        "id": "B_xkcLMQ26e3",
        "colab_type": "text"
      },
      "source": [
        "## Contras - Dems show greater support"
      ]
    },
    {
      "cell_type": "code",
      "metadata": {
        "id": "CRv3aADUUhOs",
        "colab_type": "code",
        "outputId": "ddfa9008-9568-41d6-f3ae-41a57c4a73e4",
        "colab": {
          "base_uri": "https://localhost:8080/",
          "height": 34
        }
      },
      "source": [
        "ttest_1samp(dem['contras'], .8, nan_policy='omit')"
      ],
      "execution_count": 17,
      "outputs": [
        {
          "output_type": "execute_result",
          "data": {
            "text/plain": [
              "Ttest_1sampResult(statistic=1.24202327453032, pvalue=0.21533860496566257)"
            ]
          },
          "metadata": {
            "tags": []
          },
          "execution_count": 17
        }
      ]
    },
    {
      "cell_type": "markdown",
      "metadata": {
        "id": "Z8dCrvJoi9rK",
        "colab_type": "text"
      },
      "source": [
        "Null Hypothesis: .8 - 80% of Democrats support Contras\n",
        "\n",
        "Alt Hypothesis: There is no 80% Democratic support for Contras\n",
        "\n",
        "Given the results of the about test I would FAIL TO REJECT the null hypothesis at the 95% significance level."
      ]
    },
    {
      "cell_type": "code",
      "metadata": {
        "id": "jD-GC6EXHOsq",
        "colab_type": "code",
        "outputId": "b13b30ed-56f3-491e-afed-c17e8ee94b40",
        "colab": {
          "base_uri": "https://localhost:8080/",
          "height": 34
        }
      },
      "source": [
        "ttest_ind(dem['contras'], rep['contras'], nan_policy='omit')"
      ],
      "execution_count": 18,
      "outputs": [
        {
          "output_type": "execute_result",
          "data": {
            "text/plain": [
              "Ttest_indResult(statistic=18.052093200819733, pvalue=2.82471841372357e-54)"
            ]
          },
          "metadata": {
            "tags": []
          },
          "execution_count": 18
        }
      ]
    },
    {
      "cell_type": "markdown",
      "metadata": {
        "id": "sDrBFDd60ML0",
        "colab_type": "text"
      },
      "source": [
        "Null Hypothesis: There is equal support for contras between republican's and democrats.\n",
        "\n",
        "Alt Hypothesis: The support is from both parties is not equal.\n",
        "\n",
        "Given the results of the test about I would REJECT the null hypothesis that the level of support is the same between Republicans and Democrats."
      ]
    },
    {
      "cell_type": "code",
      "metadata": {
        "id": "3iAIn5cQUUhT",
        "colab_type": "code",
        "outputId": "d8703ded-a39f-4be8-e0e0-1bf7060d9673",
        "colab": {
          "base_uri": "https://localhost:8080/",
          "height": 51
        }
      },
      "source": [
        "print('Democrat:', dem.contras.mean()) \n",
        "print('Republican:', rep.contras.mean())"
      ],
      "execution_count": 48,
      "outputs": [
        {
          "output_type": "stream",
          "text": [
            "Democrat: 0.8288973384030418\n",
            "Republican: 0.15286624203821655\n"
          ],
          "name": "stdout"
        }
      ]
    },
    {
      "cell_type": "markdown",
      "metadata": {
        "id": "bv0qK0wZ4-_3",
        "colab_type": "text"
      },
      "source": [
        "## Religious Groups in Schools - Republicans show greater support"
      ]
    },
    {
      "cell_type": "code",
      "metadata": {
        "id": "dOGjy2In5d_6",
        "colab_type": "code",
        "colab": {
          "base_uri": "https://localhost:8080/",
          "height": 34
        },
        "outputId": "f08c9a30-406c-4041-fb13-ac644106aab7"
      },
      "source": [
        "ttest_ind(dem['religious_groups_in_school'], rep['religious_groups_in_school'], nan_policy='omit')"
      ],
      "execution_count": 58,
      "outputs": [
        {
          "output_type": "execute_result",
          "data": {
            "text/plain": [
              "Ttest_indResult(statistic=-9.737575825219457, pvalue=2.3936722520597287e-20)"
            ]
          },
          "metadata": {
            "tags": []
          },
          "execution_count": 58
        }
      ]
    },
    {
      "cell_type": "markdown",
      "metadata": {
        "id": "RMiyLMpP5uGi",
        "colab_type": "text"
      },
      "source": [
        "Null Hypothesis: Support for Religious Groups in Schools is  equal among both parties.\n",
        "\n",
        "Alt Hypothesis: Support for Religous Groups in Schools is not equal.\n",
        "\n",
        "Based on the test above, I REJECT the null hypothesis that the level of support is the same between Republicans and Democrats."
      ]
    },
    {
      "cell_type": "code",
      "metadata": {
        "id": "1P3qc40A6TX6",
        "colab_type": "code",
        "colab": {
          "base_uri": "https://localhost:8080/",
          "height": 51
        },
        "outputId": "25cb905c-eb1b-4305-cfd5-ae0c44876fe9"
      },
      "source": [
        "print('Scenario One:', ttest_1samp(dem['religious_groups_in_school'], .5, nan_policy='omit')\n",
        "      ,\"\\n Scenario Two:\" ,ttest_1samp(dem['religious_groups_in_school'], .6, nan_policy='omit'))"
      ],
      "execution_count": 65,
      "outputs": [
        {
          "output_type": "stream",
          "text": [
            "Scenario One: Ttest_1sampResult(statistic=-0.7464459604122172, pvalue=0.45608033540995874) \n",
            " Scenario Two: Ttest_1sampResult(statistic=-3.9561635901847527, pvalue=9.857653395038522e-05)\n"
          ],
          "name": "stdout"
        }
      ]
    },
    {
      "cell_type": "markdown",
      "metadata": {
        "id": "6HxGGWSO62ls",
        "colab_type": "text"
      },
      "source": [
        "- Scenario 1\n",
        "\n",
        "Null Hypothesis: There is 50-50 support among Democrats\n",
        "\n",
        "Alt Hypothesis: There is not 50-50 support among Democrats\n",
        "\n",
        "Given the test above, I FAIL TO REJECT the null hypothesis of 50-50 support among Democrats.\n",
        "\n",
        "- Scenario 2\n",
        "\n",
        "Null Hpothesis: There is 60% support among Democrats\n",
        "\n",
        "Alt Hypothesis: There isn't 60% support among Democrats\n",
        "\n",
        "Given the test above, I REJECT the hull hypothesis of  60% support from Democrats.\n",
        "\n",
        "- Conclusion\n",
        "\n",
        "By comparing the results of both scenarios, I conclude that 50% support is closer to the mean than 60%"
      ]
    },
    {
      "cell_type": "code",
      "metadata": {
        "id": "LfEOFLkH8o6c",
        "colab_type": "code",
        "colab": {
          "base_uri": "https://localhost:8080/",
          "height": 51
        },
        "outputId": "df37fea7-a901-4863-95ba-a341aa7a3bdc"
      },
      "source": [
        "print('Scenario One:', ttest_1samp(rep['religious_groups_in_school'], .5, nan_policy='omit')\n",
        "      ,\"\\n Scenario Two:\" ,ttest_1samp(rep['religious_groups_in_school'], .6, nan_policy='omit'))"
      ],
      "execution_count": 66,
      "outputs": [
        {
          "output_type": "stream",
          "text": [
            "Scenario One: Ttest_1sampResult(statistic=16.844895175868118, pvalue=1.103043623086e-37) \n",
            " Scenario Two: Ttest_1sampResult(statistic=12.608148813452804, pvalue=5.898826128224674e-26)\n"
          ],
          "name": "stdout"
        }
      ]
    },
    {
      "cell_type": "markdown",
      "metadata": {
        "id": "yy6oGBzV8p4-",
        "colab_type": "text"
      },
      "source": [
        "- Scenario 1\n",
        "\n",
        "Null Hypothesis: There is 50-50 support among Republicans.\n",
        "\n",
        "Alt Hypothesis: There is not 50-50 support amongRepublicans.\n",
        "\n",
        "Given the test above, I REJECT the null hypothesis of 50-50 support among Republicans.\n",
        "\n",
        "- Scenario 2\n",
        "\n",
        "Null Hpothesis: There is 60% support among Republicans.\n",
        "\n",
        "Alt Hypothesis: There isn't 60% support among Republicans.\n",
        "\n",
        "Given the test above, I REJECT the hull hypothesis of  60% support from Republicans.\n",
        "\n",
        "- Conclusion\n",
        "\n",
        "By comparing the results of both scenarios, I conclude that 60% support is closer to the mean than 50%"
      ]
    },
    {
      "cell_type": "code",
      "metadata": {
        "id": "_Wv0gC1Y4WND",
        "colab_type": "code",
        "colab": {
          "base_uri": "https://localhost:8080/",
          "height": 51
        },
        "outputId": "905edf54-c1e2-49be-9e87-1afd84713740"
      },
      "source": [
        "print('Democrat:', dem['religious_groups_in_school'].mean()) \n",
        "print('Republican:',rep ['religious_groups_in_school'].mean())"
      ],
      "execution_count": 68,
      "outputs": [
        {
          "output_type": "stream",
          "text": [
            "Democrat: 0.47674418604651164\n",
            "Republican: 0.8975903614457831\n"
          ],
          "name": "stdout"
        }
      ]
    },
    {
      "cell_type": "markdown",
      "metadata": {
        "id": "UwKVW09G3lI3",
        "colab_type": "text"
      },
      "source": [
        "## Bi-partisan Support"
      ]
    },
    {
      "cell_type": "code",
      "metadata": {
        "id": "JxP_kF9F3qI5",
        "colab_type": "code",
        "colab": {
          "base_uri": "https://localhost:8080/",
          "height": 34
        },
        "outputId": "49746ceb-8a68-4d17-b1a4-dcec192efccb"
      },
      "source": [
        "ttest_ind(dem['water_project'], rep['water_project'], nan_policy='omit')"
      ],
      "execution_count": 49,
      "outputs": [
        {
          "output_type": "execute_result",
          "data": {
            "text/plain": [
              "Ttest_indResult(statistic=-0.08896538137868286, pvalue=0.9291556823993485)"
            ]
          },
          "metadata": {
            "tags": []
          },
          "execution_count": 49
        }
      ]
    },
    {
      "cell_type": "markdown",
      "metadata": {
        "id": "HR4EUdwg39I2",
        "colab_type": "text"
      },
      "source": [
        "Null Hypothesis: Both parties support the Water Project equally.\n",
        "\n",
        "Alt Hypothesis: Support for the Water Project is not equal.\n",
        "\n",
        "Based on the test about, I FAIL TO REJECT the null hypothesis that both parties support the Water Project equally"
      ]
    },
    {
      "cell_type": "code",
      "metadata": {
        "id": "9jX0L0w517eH",
        "colab_type": "code",
        "colab": {
          "base_uri": "https://localhost:8080/",
          "height": 51
        },
        "outputId": "303f1596-9a2c-4514-8ad9-13d192f29673"
      },
      "source": [
        "print('Democrat:', dem['water_project'].mean()) \n",
        "print('Republican:',rep ['water_project'].mean())"
      ],
      "execution_count": 50,
      "outputs": [
        {
          "output_type": "stream",
          "text": [
            "Democrat: 0.502092050209205\n",
            "Republican: 0.5067567567567568\n"
          ],
          "name": "stdout"
        }
      ]
    }
  ]
}