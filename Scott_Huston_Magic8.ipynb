{
  "nbformat": 4,
  "nbformat_minor": 0,
  "metadata": {
    "colab": {
      "name": "Scott Huston - Magic8.ipynb",
      "version": "0.3.2",
      "provenance": [],
      "include_colab_link": true
    },
    "kernelspec": {
      "name": "python3",
      "display_name": "Python 3"
    }
  },
  "cells": [
    {
      "cell_type": "markdown",
      "metadata": {
        "id": "view-in-github",
        "colab_type": "text"
      },
      "source": [
        "<a href=\"https://colab.research.google.com/github/Scott-Huston/DS-Unit-1-Sprint-3-Statistical-Tests-and-Experiments/blob/master/Scott_Huston_Magic8.ipynb\" target=\"_parent\"><img src=\"https://colab.research.google.com/assets/colab-badge.svg\" alt=\"Open In Colab\"/></a>"
      ]
    },
    {
      "cell_type": "markdown",
      "metadata": {
        "id": "Za5YRtK7tNpM",
        "colab_type": "text"
      },
      "source": [
        "# What's your fortune? \n",
        "\n"
      ]
    },
    {
      "cell_type": "markdown",
      "metadata": {
        "id": "OMXml87Z_EnE",
        "colab_type": "text"
      },
      "source": [
        "## Create a Python project of a Magic 8 Ball which is a toy used for fortune-telling or seeking advice.\n",
        "\n",
        "### Key Objectives:\n",
        "\n",
        "*  Allow the user to input their question.\n",
        "*  Show an in progress message.\n",
        "*  Create 10/20 responses, and show a random response.\n",
        "*  Allow the user to ask another question/advice or quit the game.\n"
      ]
    },
    {
      "cell_type": "code",
      "metadata": {
        "id": "jTh3cZAGAcRU",
        "colab_type": "code",
        "outputId": "e6f2e3c2-c256-4f41-c8c8-c385d8b527d8",
        "colab": {
          "base_uri": "https://localhost:8080/",
          "height": 291
        }
      },
      "source": [
        "#Write your code here \n",
        "\n",
        "from IPython.display import display, Image\n",
        "import random\n",
        "import time\n",
        "\n",
        "url = 'https://png.pngtree.com/png-clipart/20190612/original/pngtree-load-the-map-png-image_3273350.jpg'\n",
        "loading_image = Image(url=url, width=100)\n",
        "\n",
        "responses = ['That may be so'\n",
        "         ,'That is very probable'\n",
        "         ,'I wouldn\\'t count on it'\n",
        "         , 'I cannot say'\n",
        "         , 'Your future is unclear at this time'\n",
        "         , 'You are an incredible human... but no'\n",
        "         , 'Maybe, but if so you will need others'\n",
        "         , 'It would be unwise to give you more information than you have at this time'\n",
        "         , 'That will certainly happen. If not in this universe than a parallel one'\n",
        "         , 'It is unlikely'\n",
        "         , 'It would take a great amount of luck'd\n",
        "         , 'Methinks not'\n",
        "         , 'Look within, the answer is there'\n",
        "         , 'Don\\'t ask what the future will be, decide what the future will be and make it so'\n",
        "         , 'That is not the most important question'\n",
        "         , '']\n",
        " \n",
        "print(' __    __            ___    _____  ____      ___   ')\n",
        "print('/  \\  /  \\    /\\    /   \\     |   /    \\    /   \\  ')\n",
        "print('|   \\/   |   /__\\   |   |     |   |         |___|  ')\n",
        "print('|        |  /    \\  |  __     |   \\         |   |  ')\n",
        "print('|        | /      \\ \\___/   __|__  \\___/    \\___/  ')  \n",
        "\n",
        "while True:\n",
        "  print('Please input your question or press enter to exit.')\n",
        "  question = input()\n",
        "  if question == '':\n",
        "    break\n",
        "  time.sleep(.5)\n",
        "  display(loading_image)\n",
        "  time.sleep(1)\n",
        "  print(random.choice(responses))\n",
        "\n",
        "\n",
        "\n"
      ],
      "execution_count": 1,
      "outputs": [
        {
          "output_type": "stream",
          "text": [
            " __    __            ___    _____  ____      ___   \n",
            "/  \\  /  \\    /\\    /   \\     |   /    \\    /   \\  \n",
            "|   \\/   |   /__\\   |   |     |   |         |___|  \n",
            "|        |  /    \\  |  __     |   \\         |   |  \n",
            "|        | /      \\ \\___/   __|__  \\___/    \\___/  \n",
            "Please input your question or press enter to exit.\n",
            "test\n"
          ],
          "name": "stdout"
        },
        {
          "output_type": "display_data",
          "data": {
            "text/html": [
              "<img src=\"https://png.pngtree.com/png-clipart/20190612/original/pngtree-load-the-map-png-image_3273350.jpg\" width=\"100\"/>"
            ],
            "text/plain": [
              "<IPython.core.display.Image object>"
            ]
          },
          "metadata": {
            "tags": []
          }
        },
        {
          "output_type": "stream",
          "text": [
            "That may be so\n",
            "Please input your question or press enter to exit.\n",
            "\n"
          ],
          "name": "stdout"
        }
      ]
    }
  ]
}