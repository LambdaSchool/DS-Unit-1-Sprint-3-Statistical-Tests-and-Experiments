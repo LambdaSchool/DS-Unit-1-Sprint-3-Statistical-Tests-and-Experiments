{
  "nbformat": 4,
  "nbformat_minor": 0,
  "metadata": {
    "kernelspec": {
      "display_name": "Python 3",
      "language": "python",
      "name": "python3"
    },
    "language_info": {
      "codemirror_mode": {
        "name": "ipython",
        "version": 3
      },
      "file_extension": ".py",
      "mimetype": "text/x-python",
      "name": "python",
      "nbconvert_exporter": "python",
      "pygments_lexer": "ipython3",
      "version": "3.7.3"
    },
    "colab": {
      "name": "Sarmen-Sinanian-LS_DS_131_Statistics_Probability_Assignment.ipynb",
      "version": "0.3.2",
      "provenance": [],
      "collapsed_sections": [],
      "include_colab_link": true
    }
  },
  "cells": [
    {
      "cell_type": "markdown",
      "metadata": {
        "id": "view-in-github",
        "colab_type": "text"
      },
      "source": [
        "<a href=\"https://colab.research.google.com/github/SarmenSinanian/DS-Unit-1-Sprint-3-Statistical-Tests-and-Experiments/blob/master/Sarmen_Sinanian_LS_DS_131_Statistics_Probability_Assignment.ipynb\" target=\"_parent\"><img src=\"https://colab.research.google.com/assets/colab-badge.svg\" alt=\"Open In Colab\"/></a>"
      ]
    },
    {
      "cell_type": "markdown",
      "metadata": {
        "id": "m7kf6DMsGFGN",
        "colab_type": "text"
      },
      "source": [
        "<img align=\"left\" src=\"https://lever-client-logos.s3.amazonaws.com/864372b1-534c-480e-acd5-9711f850815c-1524247202159.png\" width=200>\n",
        "<br></br>\n",
        "<br></br>\n",
        "\n",
        "## *Data Science Unit 1 Sprint 3 Assignment 1*\n",
        "\n",
        "# Apply the t-test to real data\n",
        "\n",
        "Your assignment is to determine which issues have \"statistically significant\" differences between political parties in this [1980s congressional voting data](https://archive.ics.uci.edu/ml/datasets/Congressional+Voting+Records). The data consists of 435 instances (one for each congressperson), a class (democrat or republican), and 16 binary attributes (yes or no for voting for or against certain issues). Be aware - there are missing values!\n",
        "\n",
        "Your goals:\n",
        "\n",
        "1. Load and clean the data (or determine the best method to drop observations when running tests)\n",
        "2. Using hypothesis testing, find an issue that democrats support more than republicans with p < 0.01\n",
        "3. Using hypothesis testing, find an issue that republicans support more than democrats with p < 0.01\n",
        "4. Using hypothesis testing, find an issue where the difference between republicans and democrats has p > 0.1 (i.e. there may not be much of a difference)\n",
        "\n",
        "Note that this data will involve *2 sample* t-tests, because you're comparing averages across two groups (republicans and democrats) rather than a single group against a null hypothesis.\n",
        "\n",
        "Stretch goals:\n",
        "\n",
        "1. Refactor your code into functions so it's easy to rerun with arbitrary variables\n",
        "2. Apply hypothesis testing to your personal project data (for the purposes of this notebook you can type a summary of the hypothesis you formed and tested)\n",
        "\n",
        "\n",
        "###WRITE OUT\n",
        "- 1) NULL HYPOTHESIS\n",
        "- 2) ALTERNATIVE HYPOTHESIS\n",
        "- 3) CONFIDENCE LEVEL\n",
        "- 4) T-STATISTIC\n",
        "- 5) P-VALUE\n",
        "- 6) INTERPRETATION"
      ]
    },
    {
      "cell_type": "markdown",
      "metadata": {
        "id": "Vd9Z9WpISpqN",
        "colab_type": "text"
      },
      "source": [
        "## The Four Parts of a T-test\n",
        "\n",
        "### Before:\n",
        "\n",
        "1) Null Hypothesis: \"The Boring Hypothesis\", \"The default state of the world\"\n",
        "\n",
        " - The cooking times between the two burners is the same: $\\mu_{1} = \\mu_{2}$\n",
        "\n",
        "2) Alternative Hypothesis: \"The opposite of the null hypothesis\"\n",
        "\n",
        "- The cooking times are different $\\mu_{1} \\neq \\mu_{2}$\n",
        "\n",
        "3) Confidence Level: 95%\n",
        "\n",
        "**Confidence level of 95%** (reach an incorrect conclusion only 5% of the time)\n",
        "\n",
        "p < 1 - Confidence Level\n",
        "\n",
        "1 - Confidence Level = $\\alpha$\n",
        "\n",
        "- I reject the null hypothesis when P-value < alpha (1 - Confidence Level)"
      ]
    },
    {
      "cell_type": "markdown",
      "metadata": {
        "id": "rE-tIEVDSqzq",
        "colab_type": "text"
      },
      "source": [
        "### After:\n",
        "\n",
        "4) T-statistic: 6.362\n",
        "\n",
        "5) P-value: .000000000251\n",
        "\n",
        "What is the t-statistic?: ~Roughly the number of standard deviations away from the mean, that corresponds to the differences in means that we have observed given their sample sizes. \n",
        "\n",
        "What is the P-value: The probability that the difference that we have observed (The t-statist that we get) could have happened by random chance. \n",
        "\n",
        "### Interpretation: \n",
        "\n",
        "Due to calculating a t-statistic of 6.362 which corresponds to a p-value of .000000000251, we reject the null hypothesis that the mean of cooking times between the two burners is equal, and suggest the alternative hypothesis that they are different. \n",
        "\n"
      ]
    },
    {
      "cell_type": "code",
      "metadata": {
        "id": "2qcs_J-8HVkX",
        "colab_type": "code",
        "colab": {}
      },
      "source": [
        "import numpy as np\n",
        "import pandas as pd\n",
        "from scipy.stats import ttest_ind, ttest_ind_from_stats, ttest_rel, ttest_1samp"
      ],
      "execution_count": 0,
      "outputs": []
    },
    {
      "cell_type": "code",
      "metadata": {
        "id": "Q4kFTcfFHWDB",
        "colab_type": "code",
        "outputId": "c0a22d3d-7dc5-413e-ed3f-2af70c1b308a",
        "colab": {
          "base_uri": "https://localhost:8080/",
          "height": 1000
        }
      },
      "source": [
        "house_votes_url = 'https://archive.ics.uci.edu/ml/machine-learning-databases/voting-records/house-votes-84.data'\n",
        "!curl https://archive.ics.uci.edu/ml/machine-learning-databases/voting-records/house-votes-84.data"
      ],
      "execution_count": 51,
      "outputs": [
        {
          "output_type": "stream",
          "text": [
            "republican,n,y,n,y,y,y,n,n,n,y,?,y,y,y,n,y\n",
            "republican,n,y,n,y,y,y,n,n,n,n,n,y,y,y,n,?\n",
            "democrat,?,y,y,?,y,y,n,n,n,n,y,n,y,y,n,n\n",
            "democrat,n,y,y,n,?,y,n,n,n,n,y,n,y,n,n,y\n",
            "democrat,y,y,y,n,y,y,n,n,n,n,y,?,y,y,y,y\n",
            "democrat,n,y,y,n,y,y,n,n,n,n,n,n,y,y,y,y\n",
            "democrat,n,y,n,y,y,y,n,n,n,n,n,n,?,y,y,y\n",
            "republican,n,y,n,y,y,y,n,n,n,n,n,n,y,y,?,y\n",
            "republican,n,y,n,y,y,y,n,n,n,n,n,y,y,y,n,y\n",
            "democrat,y,y,y,n,n,n,y,y,y,n,n,n,n,n,?,?\n",
            "republican,n,y,n,y,y,n,n,n,n,n,?,?,y,y,n,n\n",
            "republican,n,y,n,y,y,y,n,n,n,n,y,?,y,y,?,?\n",
            "democrat,n,y,y,n,n,n,y,y,y,n,n,n,y,n,?,?\n",
            "democrat,y,y,y,n,n,y,y,y,?,y,y,?,n,n,y,?\n",
            "republican,n,y,n,y,y,y,n,n,n,n,n,y,?,?,n,?\n",
            "republican,n,y,n,y,y,y,n,n,n,y,n,y,y,?,n,?\n",
            "democrat,y,n,y,n,n,y,n,y,?,y,y,y,?,n,n,y\n",
            "democrat,y,?,y,n,n,n,y,y,y,n,n,n,y,n,y,y\n",
            "republican,n,y,n,y,y,y,n,n,n,n,n,?,y,y,n,n\n",
            "democrat,y,y,y,n,n,n,y,y,y,n,y,n,n,n,y,y\n",
            "democrat,y,y,y,n,n,?,y,y,n,n,y,n,n,n,y,y\n",
            "democrat,y,y,y,n,n,n,y,y,y,n,n,n,?,?,y,y\n",
            "democrat,y,?,y,n,n,n,y,y,y,n,n,?,n,n,y,y\n",
            "democrat,y,y,y,n,n,n,y,y,y,n,n,n,n,n,y,y\n",
            "democrat,y,n,y,n,n,n,y,y,y,n,n,n,n,n,y,?\n",
            "democrat,y,n,y,n,n,n,y,y,y,y,n,n,n,n,y,y\n",
            "democrat,y,n,y,n,n,n,y,y,y,n,y,n,n,n,y,y\n",
            "democrat,y,y,y,n,n,n,y,y,y,n,y,n,n,n,y,y\n",
            "republican,y,n,n,y,y,n,y,y,y,n,n,y,y,y,n,y\n",
            "democrat,y,y,y,n,n,n,y,y,y,n,y,n,n,n,y,y\n",
            "republican,n,y,n,y,y,y,n,n,n,n,n,y,y,y,n,n\n",
            "democrat,y,y,y,n,n,n,y,y,y,n,y,n,n,n,y,?\n",
            "democrat,y,y,y,n,n,n,y,y,y,y,n,n,y,n,y,y\n",
            "republican,n,y,n,y,y,y,n,n,n,n,n,y,y,y,n,y\n",
            "democrat,y,y,y,n,n,n,y,y,y,n,n,n,n,n,y,y\n",
            "republican,n,y,n,y,y,y,n,n,n,n,n,y,y,y,n,n\n",
            "republican,y,?,n,y,y,y,n,n,n,y,n,y,?,y,n,y\n",
            "republican,y,y,n,y,y,y,n,n,n,n,n,n,y,y,n,y\n",
            "republican,n,y,n,y,y,y,n,n,n,y,n,y,y,y,n,n\n",
            "democrat,y,n,y,n,n,n,y,y,y,y,y,n,y,n,y,y\n",
            "democrat,y,y,y,n,n,n,y,y,y,n,?,n,n,n,n,?\n",
            "democrat,y,y,y,n,n,n,y,y,y,n,n,n,n,n,y,?\n",
            "democrat,y,n,y,n,n,n,y,y,y,n,n,n,n,n,n,y\n",
            "democrat,y,n,y,n,n,n,y,y,y,n,n,n,n,n,y,y\n",
            "democrat,y,y,y,n,n,n,y,y,y,n,y,n,n,n,n,?\n",
            "democrat,y,y,y,n,n,n,y,y,?,n,y,n,n,n,y,?\n",
            "democrat,y,y,y,n,n,n,y,y,y,n,n,n,n,n,n,y\n",
            "democrat,y,n,y,n,n,n,y,y,?,n,n,n,n,n,n,?\n",
            "democrat,y,y,y,n,n,n,y,y,n,n,n,n,n,y,n,y\n",
            "republican,n,?,n,y,y,y,n,n,n,n,n,y,y,y,n,n\n",
            "democrat,y,y,y,n,n,n,y,y,y,n,y,n,n,n,y,y\n",
            "republican,n,y,n,y,y,y,n,?,n,n,n,y,y,y,n,y\n",
            "democrat,y,y,y,n,n,n,y,y,y,n,n,n,n,n,?,?\n",
            "republican,y,y,n,y,y,y,n,n,n,y,n,y,y,y,n,n\n",
            "democrat,y,y,y,n,n,y,?,y,n,n,y,y,n,y,n,?\n",
            "republican,n,y,n,y,y,y,n,n,n,y,y,y,y,y,n,n\n",
            "republican,n,y,n,y,y,y,n,n,n,y,y,y,y,y,n,y\n",
            "republican,n,y,n,y,y,y,n,n,n,y,n,y,y,y,n,y\n",
            "republican,n,y,n,y,y,y,n,n,n,y,n,y,y,y,n,y\n",
            "republican,n,y,n,y,y,y,n,n,n,y,n,y,y,y,n,?\n",
            "democrat,y,y,y,n,n,?,y,y,y,y,n,n,n,n,y,?\n",
            "republican,n,y,n,y,y,y,n,n,n,n,n,y,y,y,n,n\n",
            "democrat,y,y,y,n,n,n,y,y,y,n,n,n,n,n,n,?\n",
            "democrat,y,y,y,n,n,n,y,y,y,n,y,n,n,n,n,y\n",
            "democrat,y,y,y,n,n,n,y,y,y,n,y,?,n,n,n,y\n",
            "republican,y,y,n,y,y,y,y,n,n,n,n,y,y,y,n,y\n",
            "republican,n,y,n,y,y,y,y,n,n,n,y,y,y,y,n,y\n",
            "republican,n,y,n,y,y,y,n,n,n,y,n,y,y,y,n,n\n",
            "democrat,y,?,y,n,n,n,y,y,y,n,n,n,y,n,y,y\n",
            "democrat,y,y,y,n,n,n,y,y,y,n,n,n,n,n,y,y\n",
            "democrat,y,n,y,n,n,n,y,y,y,n,n,n,y,n,y,?\n",
            "republican,y,y,y,y,n,n,y,y,y,y,y,n,n,y,n,y\n",
            "democrat,y,y,y,n,n,n,y,y,y,n,y,n,n,n,y,?\n",
            "republican,y,n,y,y,y,n,y,n,y,y,n,n,y,y,n,y\n",
            "democrat,y,n,y,n,n,y,y,y,y,y,y,n,n,y,y,y\n",
            "democrat,n,y,y,y,y,y,n,n,n,y,y,n,y,y,n,n\n",
            "democrat,n,y,y,n,y,y,n,n,n,y,y,y,y,y,n,?\n",
            "democrat,n,y,y,y,y,y,n,y,y,y,y,y,y,y,n,y\n",
            "democrat,y,y,y,n,y,y,n,n,n,y,y,n,y,y,n,y\n",
            "republican,n,n,n,y,y,n,n,n,n,y,n,y,y,y,n,n\n",
            "democrat,y,n,y,n,n,y,y,y,y,y,n,y,n,y,n,?\n",
            "democrat,y,n,y,n,n,n,y,y,?,y,y,y,n,y,n,y\n",
            "republican,n,n,n,y,y,y,n,n,n,y,n,y,y,y,n,y\n",
            "republican,n,n,n,y,y,y,n,n,n,n,n,y,y,y,n,n\n",
            "republican,n,?,n,y,y,y,n,n,n,y,n,y,y,y,n,n\n",
            "democrat,n,n,y,n,y,y,n,n,n,y,y,y,y,y,n,y\n",
            "republican,n,n,n,y,y,y,n,n,n,y,n,y,y,y,n,n\n",
            "republican,n,n,n,y,y,y,n,n,n,n,n,y,y,y,n,n\n",
            "democrat,n,y,y,n,y,y,y,n,y,y,y,n,y,y,n,y\n",
            "republican,n,n,n,y,y,y,n,n,n,y,n,?,y,y,n,?\n",
            "democrat,y,n,y,n,n,n,y,y,y,y,n,n,n,n,y,y\n",
            "democrat,y,n,y,n,n,n,y,y,y,y,y,n,n,n,y,y\n",
            "democrat,y,y,y,n,n,n,y,y,n,y,y,n,n,?,y,y\n",
            "democrat,y,n,y,n,n,n,y,n,y,y,y,n,n,n,y,y\n",
            "democrat,y,n,y,n,y,y,n,n,n,n,n,n,n,n,n,y\n",
            "democrat,y,n,y,n,y,y,n,?,?,n,y,?,?,?,y,y\n",
            "democrat,n,n,?,n,y,y,n,n,n,n,y,y,y,y,n,y\n",
            "democrat,y,n,n,n,y,y,y,n,n,y,y,n,n,y,n,y\n",
            "democrat,y,y,y,n,n,y,y,y,y,y,n,n,n,n,n,y\n",
            "republican,n,n,n,y,y,y,n,n,n,y,?,y,y,y,n,n\n",
            "democrat,y,n,n,n,y,y,n,n,n,n,y,y,n,y,n,y\n",
            "democrat,y,n,y,n,y,y,y,n,n,n,y,n,n,y,n,y\n",
            "democrat,y,n,y,n,y,y,y,n,?,n,y,n,y,y,y,?\n",
            "democrat,y,n,n,n,y,y,?,n,?,n,n,n,n,y,?,n\n",
            "democrat,?,?,?,?,n,y,y,y,y,y,?,n,y,y,n,?\n",
            "democrat,y,y,y,n,n,n,n,y,y,n,y,n,n,n,y,y\n",
            "republican,n,y,n,y,y,y,n,n,n,n,n,y,y,y,n,y\n",
            "republican,n,?,?,?,?,?,?,?,?,?,?,?,?,y,?,?\n",
            "democrat,y,?,y,n,n,n,y,y,y,n,n,n,n,n,y,?\n",
            "democrat,y,?,y,n,n,n,y,y,y,n,n,n,n,n,y,?\n",
            "democrat,n,n,y,n,n,n,y,y,y,y,n,n,n,n,y,y\n",
            "republican,n,?,n,y,y,y,n,n,n,y,n,y,y,y,n,y\n",
            "democrat,n,?,y,n,n,y,y,y,n,y,n,n,n,n,y,?\n",
            "republican,n,?,n,y,y,y,n,n,n,y,n,y,y,y,n,n\n",
            "democrat,y,?,y,n,n,n,y,y,y,n,n,n,n,n,y,?\n",
            "democrat,n,?,y,n,?,?,y,y,y,y,?,?,n,n,y,y\n",
            "democrat,y,n,y,n,n,n,y,y,y,n,y,n,n,n,y,y\n",
            "republican,y,y,y,y,y,n,y,n,n,n,n,y,y,y,n,y\n",
            "democrat,n,y,y,n,n,n,n,y,y,y,y,n,n,n,y,y\n",
            "republican,n,n,n,y,y,y,n,n,n,n,n,y,y,y,n,n\n",
            "republican,n,?,?,y,y,y,n,n,n,y,n,y,y,y,?,y\n",
            "republican,n,?,n,y,y,y,n,n,n,y,n,y,y,y,n,y\n",
            "republican,n,n,n,y,y,y,n,n,n,y,n,y,n,y,n,y\n",
            "republican,y,?,n,y,y,y,n,y,n,n,n,y,y,y,n,y\n",
            "democrat,n,?,y,n,n,n,y,y,y,n,n,n,n,n,y,y\n",
            "republican,n,?,n,y,y,y,n,n,n,y,n,y,y,y,n,y\n",
            "republican,n,?,n,y,y,y,n,n,n,n,n,y,y,y,n,n\n",
            "democrat,n,?,y,n,n,n,y,y,y,y,y,n,n,y,y,y\n",
            "democrat,n,?,y,n,n,y,n,y,n,y,y,n,n,n,y,y\n",
            "democrat,?,?,y,n,n,n,y,y,?,n,?,?,?,?,?,?\n",
            "democrat,y,?,y,n,?,?,y,y,y,n,n,n,n,n,y,?\n",
            "democrat,n,n,y,n,n,y,n,y,y,y,n,n,n,y,n,y\n",
            "republican,n,n,n,y,y,y,n,n,n,y,n,y,y,y,n,?\n",
            "republican,n,n,n,y,y,y,n,n,n,y,n,y,y,y,n,y\n",
            "republican,n,n,n,y,y,y,n,n,n,n,n,y,y,y,n,?\n",
            "republican,n,n,n,y,y,y,n,n,n,y,n,y,y,y,n,n\n",
            "republican,n,y,n,y,y,y,n,n,n,y,y,y,y,n,n,y\n",
            "democrat,n,?,y,n,n,y,y,y,y,y,n,n,n,y,y,y\n",
            "democrat,n,n,y,n,n,y,y,y,y,y,n,n,n,y,n,y\n",
            "democrat,y,n,y,n,n,y,y,y,y,n,n,n,n,n,y,y\n",
            "republican,n,n,n,y,n,n,y,y,y,y,n,n,y,y,n,y\n",
            "republican,n,n,n,y,y,y,y,y,y,y,n,y,y,y,?,y\n",
            "republican,n,n,n,y,y,y,y,y,y,y,n,y,y,y,n,y\n",
            "democrat,?,y,n,n,n,n,y,y,y,y,y,n,n,y,y,y\n",
            "democrat,n,?,n,n,n,y,y,y,y,y,n,n,n,y,n,?\n",
            "democrat,n,n,y,n,n,y,y,y,y,y,n,n,n,y,?,y\n",
            "republican,n,y,n,y,y,y,n,n,n,n,n,y,y,y,n,y\n",
            "democrat,n,n,n,n,n,n,y,y,y,y,n,y,y,y,y,y\n",
            "republican,n,y,n,y,y,y,n,n,n,y,y,y,y,y,n,y\n",
            "democrat,n,n,y,n,n,n,y,y,y,y,n,n,y,n,y,y\n",
            "republican,y,y,n,y,y,y,n,n,n,y,n,y,y,y,n,y\n",
            "democrat,y,y,?,y,y,y,n,n,y,n,y,?,y,y,n,n\n",
            "democrat,n,y,y,n,n,y,n,y,y,y,y,n,y,n,y,y\n",
            "democrat,n,n,y,n,n,y,y,y,y,y,y,n,y,y,n,y\n",
            "republican,n,y,n,y,y,y,n,n,n,n,n,y,y,y,n,n\n",
            "republican,y,y,n,y,y,y,n,?,n,n,y,y,y,y,n,n\n",
            "republican,y,y,n,y,y,y,y,n,n,n,n,y,y,y,n,n\n",
            "democrat,n,y,y,n,n,y,n,y,y,n,y,n,?,?,?,?\n",
            "republican,n,y,n,y,y,y,n,n,n,y,n,y,y,y,n,n\n",
            "democrat,n,y,y,n,?,y,y,y,y,y,y,n,n,?,n,?\n",
            "democrat,n,y,n,n,y,y,n,n,n,n,n,y,y,y,y,y\n",
            "democrat,n,n,n,n,y,y,y,n,n,n,n,y,y,y,n,y\n",
            "democrat,n,y,y,n,y,y,y,n,n,n,y,y,y,y,n,y\n",
            "republican,n,y,n,y,y,y,y,n,n,n,n,y,y,y,n,y\n",
            "democrat,y,y,n,n,y,y,n,n,n,y,y,y,y,y,n,?\n",
            "democrat,n,y,y,n,n,y,y,y,y,y,y,n,y,n,y,?\n",
            "republican,y,n,y,y,y,y,y,y,n,y,n,y,n,y,y,y\n",
            "republican,y,n,y,y,y,y,y,y,n,y,y,y,n,y,y,y\n",
            "democrat,n,n,y,y,y,y,n,n,y,n,n,n,y,y,y,?\n",
            "democrat,y,n,y,n,n,n,y,y,y,y,y,n,n,y,n,y\n",
            "democrat,y,n,y,n,n,n,?,y,y,?,n,n,n,n,y,?\n",
            "republican,n,?,n,y,y,y,n,n,n,y,n,y,y,y,n,y\n",
            "democrat,n,y,y,n,n,n,y,y,y,y,n,n,?,n,y,y\n",
            "democrat,n,n,n,n,y,y,n,n,n,y,y,y,y,y,n,y\n",
            "democrat,y,?,y,n,n,n,y,y,y,n,n,n,n,n,y,?\n",
            "democrat,n,y,y,n,n,n,y,y,y,y,n,n,n,n,y,y\n",
            "republican,n,n,y,y,n,n,y,y,y,y,n,n,n,y,y,y\n",
            "democrat,n,n,y,n,n,n,y,y,y,y,y,?,n,n,y,y\n",
            "democrat,?,n,y,n,n,n,y,y,y,y,y,?,n,n,y,?\n",
            "democrat,y,n,y,n,n,n,y,y,y,y,n,n,n,n,y,y\n",
            "democrat,?,?,y,n,n,n,y,y,y,?,?,n,n,n,?,?\n",
            "democrat,n,n,y,n,n,n,y,y,y,y,y,n,n,n,y,y\n",
            "democrat,y,?,y,n,n,n,y,y,y,n,n,n,n,n,y,y\n",
            "democrat,?,?,?,?,?,?,?,?,y,?,?,?,?,?,?,?\n",
            "democrat,n,n,y,n,n,n,y,y,y,y,y,n,n,n,y,y\n",
            "democrat,y,n,y,n,n,n,y,y,y,y,n,?,n,n,y,y\n",
            "democrat,n,y,y,n,n,n,y,y,y,y,y,n,n,n,y,y\n",
            "democrat,y,n,y,n,n,n,y,y,y,n,n,n,n,n,y,?\n",
            "republican,y,?,n,y,y,y,y,y,n,n,n,y,?,y,?,?\n",
            "democrat,y,n,y,n,n,n,y,y,y,n,n,n,n,n,y,y\n",
            "republican,n,?,n,y,y,y,n,n,n,n,n,y,y,y,n,?\n",
            "republican,n,y,n,y,y,y,n,?,n,y,n,y,y,y,n,?\n",
            "democrat,n,n,n,n,n,y,y,y,y,n,y,n,n,y,y,y\n",
            "democrat,n,n,y,n,n,n,y,y,y,n,n,n,n,n,y,y\n",
            "democrat,n,n,y,n,n,y,y,?,y,y,y,n,n,n,y,y\n",
            "republican,n,n,n,y,y,y,n,n,n,n,n,y,y,y,n,?\n",
            "democrat,n,n,y,n,n,y,y,y,y,n,y,y,n,y,y,?\n",
            "republican,n,?,y,y,y,y,n,n,n,y,n,n,n,y,n,y\n",
            "democrat,n,n,y,n,n,n,y,y,y,y,y,n,?,n,y,?\n",
            "democrat,y,y,n,n,n,n,y,y,?,n,y,n,n,n,y,?\n",
            "democrat,n,n,y,n,n,n,y,y,y,n,n,n,n,y,y,y\n",
            "democrat,y,y,y,n,n,n,y,y,y,n,n,n,n,n,y,y\n",
            "democrat,y,n,y,n,n,y,y,y,y,y,y,n,n,n,y,y\n",
            "democrat,y,n,y,n,n,n,y,y,y,y,n,n,n,n,y,y\n",
            "republican,n,n,y,y,y,y,y,n,n,n,n,y,y,y,n,y\n",
            "democrat,n,n,y,n,n,y,y,y,y,y,n,y,n,n,n,y\n",
            "republican,n,n,n,y,y,y,n,n,n,y,n,y,n,y,n,y\n",
            "republican,y,?,n,y,y,y,y,n,n,y,n,y,y,y,n,y\n",
            "democrat,n,n,y,n,n,n,y,y,y,n,n,?,n,n,y,y\n",
            "democrat,y,y,y,n,n,n,y,y,y,y,y,n,n,n,n,y\n",
            "democrat,n,n,y,n,n,y,y,y,y,n,n,n,n,n,y,y\n",
            "republican,n,y,n,y,y,y,n,n,n,y,n,y,y,y,n,y\n",
            "democrat,n,n,y,n,n,n,y,y,y,n,y,n,n,n,y,y\n",
            "democrat,n,y,y,n,n,y,n,y,y,n,y,n,y,n,y,y\n",
            "republican,y,y,n,y,y,y,n,n,n,y,n,y,y,y,n,y\n",
            "democrat,n,y,y,y,y,y,n,n,n,y,y,y,y,y,y,?\n",
            "democrat,y,y,y,n,y,y,n,n,?,y,n,n,n,y,y,?\n",
            "republican,n,y,n,y,y,y,n,n,n,y,n,y,y,y,n,n\n",
            "democrat,y,?,y,n,n,n,y,y,y,n,?,n,n,n,y,?\n",
            "democrat,n,y,y,n,n,n,n,y,y,n,y,n,n,y,y,y\n",
            "democrat,n,n,y,n,n,n,y,y,y,n,n,n,n,n,y,?\n",
            "democrat,n,y,y,n,y,y,n,n,n,n,y,n,n,n,y,?\n",
            "democrat,y,n,y,n,n,n,y,y,y,n,y,n,n,n,y,?\n",
            "republican,n,n,n,y,y,n,n,n,n,n,n,y,y,y,n,y\n",
            "republican,n,y,n,y,y,y,n,n,n,y,n,?,y,y,n,n\n",
            "republican,n,?,n,y,y,y,n,n,n,n,n,y,y,y,n,y\n",
            "democrat,n,n,y,n,n,y,y,y,y,n,y,n,n,y,y,y\n",
            "democrat,y,n,y,n,n,n,y,y,y,n,n,n,n,n,?,y\n",
            "republican,n,y,n,y,y,y,n,n,n,n,n,y,y,?,n,y\n",
            "republican,n,y,y,y,y,y,y,n,y,y,n,y,y,y,n,y\n",
            "republican,n,y,n,y,y,y,n,n,n,n,n,y,y,y,n,y\n",
            "republican,n,y,n,y,y,y,n,n,y,y,n,y,y,y,n,y\n",
            "democrat,n,y,y,n,n,n,y,y,n,n,y,n,n,n,y,?\n",
            "republican,n,y,n,y,y,y,n,n,n,y,n,y,y,y,n,y\n",
            "democrat,n,n,y,n,n,y,y,y,y,y,n,y,n,y,y,?\n",
            "republican,n,n,n,y,y,y,n,n,n,y,n,y,n,y,n,y\n",
            "democrat,n,n,y,n,n,n,y,y,y,n,n,n,n,n,y,y\n",
            "democrat,y,n,y,n,n,y,y,y,n,n,n,y,y,n,n,y\n",
            "democrat,y,y,y,n,n,n,y,y,?,y,n,n,n,n,y,?\n",
            "republican,n,n,n,y,y,y,y,n,n,y,n,n,n,y,y,y\n",
            "republican,n,n,n,y,n,y,y,?,y,n,n,y,y,y,n,y\n",
            "democrat,y,n,y,n,n,n,y,y,y,y,y,n,n,y,y,y\n",
            "republican,n,n,n,n,y,y,y,n,n,n,n,?,n,y,y,y\n",
            "democrat,n,y,y,n,n,n,y,y,?,y,n,n,y,n,y,y\n",
            "democrat,y,n,y,n,n,n,n,y,y,y,n,n,n,n,y,y\n",
            "democrat,y,n,y,n,n,n,y,y,y,y,y,n,n,n,y,y\n",
            "democrat,n,n,y,n,y,n,y,y,y,n,n,n,n,y,?,y\n",
            "republican,n,y,n,y,y,y,?,n,n,n,n,?,y,y,n,n\n",
            "republican,?,?,?,?,?,?,?,?,?,?,?,?,?,?,?,?\n",
            "democrat,y,n,y,n,n,n,y,y,?,n,y,n,n,n,y,y\n",
            "republican,n,y,n,y,y,y,n,n,n,n,n,y,y,y,n,n\n",
            "republican,n,y,n,y,y,y,n,n,n,n,n,y,y,y,n,n\n",
            "democrat,y,y,y,n,n,y,y,y,y,n,n,n,n,n,y,y\n",
            "republican,n,y,n,y,y,y,n,n,n,n,n,y,y,y,n,y\n",
            "democrat,y,n,y,n,n,n,y,y,y,y,n,n,n,n,n,y\n",
            "democrat,y,n,y,n,n,n,y,y,y,y,n,n,n,y,y,y\n",
            "republican,n,n,n,y,y,n,n,n,n,n,n,y,n,y,n,n\n",
            "republican,n,n,n,y,y,n,n,n,n,n,n,y,n,y,?,y\n",
            "democrat,n,n,y,n,n,n,y,y,y,n,y,n,n,n,y,y\n",
            "democrat,y,n,y,n,n,n,y,y,y,n,n,n,n,n,n,y\n",
            "democrat,y,n,y,n,n,n,y,y,y,y,n,n,n,n,n,y\n",
            "democrat,y,n,y,n,n,?,y,y,y,n,?,?,n,?,?,?\n",
            "democrat,y,n,y,n,n,n,y,y,y,y,n,n,?,n,y,y\n",
            "democrat,y,n,y,n,n,n,y,y,y,n,n,n,n,n,y,?\n",
            "democrat,y,n,y,n,n,n,y,y,y,n,n,n,n,n,y,?\n",
            "democrat,y,n,y,n,n,n,y,y,y,y,n,n,n,n,n,y\n",
            "republican,n,n,n,y,y,y,n,n,n,y,n,y,n,y,n,y\n",
            "republican,y,n,n,n,n,n,y,y,y,y,n,n,n,y,n,y\n",
            "democrat,y,n,y,n,n,n,y,y,y,n,n,n,n,n,y,?\n",
            "democrat,y,n,y,n,n,n,y,y,y,n,n,n,n,n,n,y\n",
            "democrat,y,y,y,n,n,n,y,y,y,n,n,n,n,n,y,y\n",
            "democrat,n,y,y,n,n,y,y,y,y,n,?,n,n,n,n,y\n",
            "democrat,y,n,y,n,n,n,y,y,y,y,n,n,n,n,y,?\n",
            "republican,n,n,n,y,y,n,y,y,n,y,n,y,y,y,?,y\n",
            "republican,y,n,n,y,y,n,y,n,n,y,n,n,n,y,y,y\n",
            "democrat,n,n,y,n,y,y,n,n,n,n,?,n,y,y,n,n\n",
            "republican,n,n,n,y,y,y,n,n,n,n,n,y,y,y,y,n\n",
            "republican,n,n,y,y,y,y,y,y,n,y,n,n,n,y,n,y\n",
            "republican,n,n,n,y,y,y,n,n,n,n,n,y,y,y,n,y\n",
            "republican,n,n,n,y,y,y,n,n,n,y,n,y,y,y,n,n\n",
            "democrat,n,n,y,n,n,n,y,y,y,y,n,n,n,y,n,y\n",
            "republican,y,n,y,y,y,y,y,y,n,n,n,n,n,y,n,?\n",
            "republican,y,n,n,y,y,y,n,n,n,y,n,?,y,y,n,n\n",
            "republican,n,n,n,y,y,y,n,n,n,n,n,y,y,y,n,y\n",
            "democrat,n,n,y,n,n,y,y,y,y,y,y,n,n,n,?,y\n",
            "democrat,n,n,y,n,n,y,y,y,y,y,y,n,n,n,y,y\n",
            "democrat,n,n,y,n,n,y,?,y,?,y,y,y,n,y,y,?\n",
            "democrat,y,y,y,?,n,y,y,y,y,n,y,n,y,n,?,y\n",
            "democrat,y,y,y,n,y,y,n,y,n,y,y,n,y,y,y,y\n",
            "democrat,y,y,y,n,y,y,n,y,n,y,y,n,y,y,n,?\n",
            "democrat,y,n,y,n,?,y,?,y,y,y,n,n,y,y,n,y\n",
            "democrat,y,n,y,n,n,y,y,y,y,y,n,?,n,y,n,y\n",
            "democrat,y,n,y,n,n,y,y,y,n,y,y,n,y,y,y,y\n",
            "democrat,y,y,y,n,n,y,y,y,y,y,y,n,y,y,y,y\n",
            "democrat,n,y,y,n,n,y,y,y,n,y,y,n,y,y,n,?\n",
            "republican,n,y,n,y,y,y,?,?,n,y,n,y,?,?,?,?\n",
            "republican,n,n,y,y,y,y,n,n,n,y,n,y,y,y,y,y\n",
            "democrat,y,y,y,n,n,y,y,y,y,y,n,n,?,n,y,?\n",
            "democrat,n,y,n,n,n,n,y,y,y,y,y,n,n,n,y,y\n",
            "democrat,n,y,y,n,n,y,y,y,y,y,n,n,y,y,y,y\n",
            "republican,n,n,n,y,y,n,y,y,y,y,n,y,y,y,n,y\n",
            "democrat,n,n,?,n,n,y,y,y,y,n,n,n,n,n,y,y\n",
            "republican,n,n,n,y,y,y,y,n,n,y,n,y,y,y,n,y\n",
            "republican,n,n,n,y,y,y,n,n,n,n,n,y,y,y,n,n\n",
            "republican,n,y,n,y,y,y,n,n,n,y,n,y,y,y,n,?\n",
            "republican,n,n,n,y,y,y,n,n,n,y,n,y,y,y,n,n\n",
            "republican,n,n,n,y,y,y,n,n,n,n,n,y,y,y,n,n\n",
            "democrat,y,n,y,n,n,y,y,y,y,n,n,n,n,y,n,?\n",
            "republican,n,n,n,y,y,y,n,n,n,y,n,y,y,y,n,n\n",
            "democrat,y,n,n,n,n,y,y,y,y,y,n,n,n,y,y,y\n",
            "republican,n,n,n,y,y,y,n,n,n,y,n,y,y,y,y,n\n",
            "democrat,n,n,y,n,n,y,y,y,y,y,n,n,y,n,n,y\n",
            "democrat,y,y,y,n,n,n,y,y,y,y,n,n,n,n,y,y\n",
            "republican,n,y,y,y,y,y,n,n,n,y,n,y,y,y,n,y\n",
            "republican,n,y,n,y,y,y,y,y,n,n,y,y,y,y,y,y\n",
            "republican,n,y,y,y,y,y,y,?,n,n,n,n,?,?,y,?\n",
            "democrat,n,n,n,n,n,y,n,y,y,n,y,y,y,y,y,n\n",
            "democrat,y,n,n,n,n,n,y,y,y,y,n,n,n,n,y,y\n",
            "democrat,n,n,y,n,n,n,y,y,y,n,n,n,n,n,y,?\n",
            "democrat,y,n,y,n,n,n,y,y,y,n,n,n,n,n,y,?\n",
            "democrat,n,y,y,n,n,y,n,y,y,y,n,n,y,y,n,y\n",
            "democrat,y,y,y,n,n,n,y,y,y,y,n,n,y,n,n,y\n",
            "democrat,y,y,y,n,?,y,n,?,n,n,y,n,y,y,n,?\n",
            "democrat,y,y,y,n,y,y,n,y,?,y,n,n,y,y,n,?\n",
            "republican,n,y,n,y,y,y,n,n,n,n,y,y,y,y,n,n\n",
            "democrat,n,y,n,n,y,y,n,n,?,n,n,y,y,y,n,y\n",
            "democrat,y,y,n,y,n,n,y,y,y,n,y,n,n,y,n,y\n",
            "republican,n,y,n,y,y,y,n,n,n,n,n,y,y,y,n,y\n",
            "democrat,y,y,y,n,n,n,y,y,y,n,y,n,n,n,n,y\n",
            "democrat,y,?,y,n,n,y,y,y,y,y,n,n,n,n,y,?\n",
            "republican,n,y,n,y,y,y,n,n,n,y,n,y,y,y,n,n\n",
            "democrat,y,?,y,n,n,n,y,y,y,n,n,n,n,n,y,?\n",
            "democrat,y,n,y,n,n,n,y,y,y,n,y,n,n,n,y,?\n",
            "democrat,n,n,y,n,n,n,y,y,y,n,n,n,n,n,y,y\n",
            "democrat,n,y,y,n,n,y,y,y,?,n,y,y,n,n,y,y\n",
            "republican,n,n,n,y,y,y,n,n,n,y,y,y,y,y,n,?\n",
            "democrat,n,n,y,n,n,y,y,y,n,n,y,n,n,y,?,y\n",
            "democrat,y,n,y,n,n,n,y,y,y,n,n,n,n,n,y,y\n",
            "democrat,y,n,y,n,n,n,y,y,y,y,n,n,n,y,y,y\n",
            "republican,y,n,n,y,y,y,n,n,n,n,y,y,y,y,n,n\n",
            "republican,n,n,n,y,y,y,n,n,n,y,y,y,n,y,n,y\n",
            "democrat,n,?,y,?,n,y,y,y,y,y,y,n,?,?,y,y\n",
            "democrat,n,y,y,n,y,?,y,n,n,y,y,n,y,n,y,y\n",
            "republican,n,n,n,y,y,n,y,n,y,y,n,n,n,y,n,y\n",
            "democrat,n,n,y,n,n,n,y,y,y,y,y,n,n,n,y,y\n",
            "republican,n,n,n,y,y,y,y,n,n,y,n,y,n,y,y,y\n",
            "republican,n,n,n,y,y,y,n,n,n,y,n,y,y,y,n,y\n",
            "republican,y,n,n,y,y,y,n,n,n,y,n,y,y,y,n,n\n",
            "democrat,y,n,y,n,n,n,y,y,y,y,n,y,n,n,y,?\n",
            "republican,n,y,y,y,y,y,y,y,y,n,n,y,y,y,n,y\n",
            "democrat,n,y,n,n,n,y,y,n,y,n,y,n,n,n,y,y\n",
            "republican,n,n,y,y,y,y,y,y,y,y,n,y,y,y,y,y\n",
            "democrat,n,y,n,y,n,y,y,y,y,n,y,n,y,n,y,?\n",
            "republican,n,n,y,y,y,y,y,n,n,y,y,y,y,y,n,y\n",
            "democrat,n,y,y,n,n,y,y,y,y,y,n,?,n,n,y,y\n",
            "republican,y,n,y,y,n,n,n,y,y,y,n,n,n,y,y,y\n",
            "republican,n,n,n,y,y,y,n,n,n,n,n,y,y,y,n,n\n",
            "republican,n,n,n,y,y,y,n,n,n,n,n,y,y,y,n,n\n",
            "democrat,y,y,y,n,n,y,y,y,y,y,y,y,y,y,n,?\n",
            "republican,n,n,n,y,y,y,n,n,n,y,?,y,y,y,n,y\n",
            "democrat,y,n,y,n,n,y,y,y,y,y,n,n,y,n,n,y\n",
            "democrat,y,n,y,n,y,y,y,n,y,y,n,n,y,y,n,?\n",
            "democrat,y,y,y,n,n,y,y,y,y,y,y,y,y,n,n,y\n",
            "republican,y,y,n,y,y,y,n,n,n,y,y,n,y,n,n,n\n",
            "republican,y,y,n,y,y,y,n,n,n,n,y,n,y,y,n,y\n",
            "democrat,n,y,n,n,y,y,n,n,n,y,y,n,y,y,n,n\n",
            "democrat,y,n,y,n,n,n,y,y,n,y,y,n,n,n,n,?\n",
            "democrat,y,y,y,n,y,y,y,y,n,y,y,n,n,n,y,?\n",
            "democrat,n,y,y,n,n,y,y,y,n,y,n,n,n,n,y,y\n",
            "republican,n,y,n,y,y,y,n,n,n,n,n,n,y,y,n,y\n",
            "democrat,y,y,y,n,?,y,y,y,n,y,?,?,n,n,y,y\n",
            "democrat,y,y,y,n,?,n,y,y,y,y,n,n,n,n,y,?\n",
            "democrat,n,y,y,y,y,y,n,n,n,n,y,y,?,y,n,n\n",
            "democrat,n,y,y,?,y,y,n,y,n,y,?,n,y,y,?,y\n",
            "republican,n,y,n,y,y,y,n,n,n,n,n,y,y,y,n,y\n",
            "democrat,n,y,n,y,y,y,n,n,n,n,y,y,n,y,n,n\n",
            "democrat,y,?,y,n,n,n,y,y,y,n,y,n,n,n,y,y\n",
            "republican,n,y,n,y,y,y,?,?,n,n,?,?,y,?,?,?\n",
            "republican,n,n,n,y,y,y,n,n,n,n,n,y,y,y,n,y\n",
            "republican,n,n,n,y,y,y,n,n,n,n,n,y,y,y,n,y\n",
            "democrat,y,y,y,n,n,y,?,y,y,n,y,n,y,n,y,y\n",
            "democrat,y,y,y,n,y,y,y,y,y,y,y,n,y,y,n,?\n",
            "democrat,y,y,n,y,y,y,n,n,n,n,y,n,y,y,n,?\n",
            "democrat,y,y,y,n,y,y,n,y,y,y,y,n,n,n,n,y\n",
            "democrat,y,y,y,y,y,y,n,n,n,n,y,y,y,y,n,y\n",
            "democrat,y,y,n,n,y,y,n,n,n,n,y,y,y,y,y,n\n",
            "democrat,n,?,y,n,y,y,n,y,n,n,y,n,n,n,n,?\n",
            "democrat,y,y,y,n,y,y,n,y,y,n,y,n,n,y,n,?\n",
            "democrat,n,y,y,y,y,y,n,n,n,n,n,y,y,y,n,?\n",
            "democrat,y,n,y,n,n,n,y,y,y,?,y,n,n,n,y,?\n",
            "democrat,?,?,n,n,?,y,?,n,n,n,y,y,n,y,n,?\n",
            "democrat,y,y,n,n,n,n,n,y,y,n,y,n,n,n,y,n\n",
            "republican,y,y,n,y,y,y,n,n,n,n,y,y,y,y,n,y\n",
            "republican,?,?,?,?,n,y,n,y,y,n,n,y,y,n,n,?\n",
            "democrat,y,y,?,?,?,y,n,n,n,n,y,n,y,n,n,y\n",
            "democrat,y,y,y,?,n,n,n,y,n,n,y,?,n,n,y,y\n",
            "democrat,y,y,y,n,y,y,n,y,n,n,y,n,y,n,y,y\n",
            "democrat,y,y,n,n,y,?,n,n,n,n,y,n,y,y,n,y\n",
            "democrat,n,y,y,n,y,y,n,y,n,n,n,n,n,n,n,y\n",
            "republican,n,y,n,y,?,y,n,n,n,y,n,y,y,y,n,n\n",
            "republican,n,y,n,y,y,y,n,?,n,n,?,?,?,y,n,?\n",
            "republican,n,y,n,y,y,y,n,n,n,y,y,y,y,y,n,n\n",
            "republican,?,n,y,y,n,y,y,y,y,y,n,y,n,y,n,y\n",
            "republican,n,y,n,y,y,y,n,n,n,y,n,y,?,y,n,n\n",
            "republican,y,y,n,y,y,y,n,n,n,y,n,y,y,y,n,y\n",
            "republican,n,n,n,y,y,y,n,n,n,n,n,y,y,y,n,y\n",
            "democrat,y,n,y,n,y,y,n,n,y,y,n,n,y,y,n,y\n",
            "democrat,n,n,n,y,y,y,n,n,n,n,y,y,y,y,n,n\n",
            "democrat,y,n,y,n,n,y,y,y,y,n,n,y,?,y,y,y\n",
            "republican,n,n,n,y,y,y,n,n,n,n,n,y,y,y,n,n\n",
            "republican,n,n,n,y,y,y,n,n,n,n,y,y,y,y,n,y\n",
            "democrat,y,n,y,n,n,y,y,y,y,y,y,n,n,n,n,y\n",
            "republican,n,n,n,y,y,y,n,n,n,y,n,y,y,y,n,y\n",
            "republican,y,y,y,y,y,y,y,y,n,y,?,?,?,y,n,y\n",
            "democrat,y,y,y,n,n,n,y,y,y,n,n,n,n,n,n,y\n",
            "democrat,n,y,y,n,n,y,y,y,?,y,n,n,n,n,n,y\n",
            "republican,y,y,n,y,y,y,n,n,n,y,n,n,y,y,n,y\n",
            "democrat,y,y,y,n,n,n,y,y,y,y,y,n,y,n,n,y\n",
            "democrat,y,y,y,n,n,n,y,y,n,y,n,n,n,n,n,y\n",
            "democrat,y,y,y,n,n,n,y,y,y,n,n,n,n,n,n,y\n",
            "republican,y,y,y,y,y,y,y,y,n,y,n,n,y,y,n,y\n",
            "democrat,n,y,y,n,y,y,y,y,n,n,y,n,y,n,y,y\n",
            "democrat,n,n,y,n,n,y,y,y,y,n,y,n,n,n,y,y\n",
            "democrat,n,y,y,n,n,y,y,y,y,n,y,n,n,y,y,y\n",
            "democrat,n,y,y,n,n,?,y,y,y,y,y,n,?,y,y,y\n",
            "democrat,n,n,y,n,n,n,y,y,n,y,y,n,n,n,y,?\n",
            "democrat,y,n,y,n,n,n,y,y,y,y,n,n,n,n,y,y\n",
            "republican,n,n,n,y,y,y,y,y,n,y,n,y,y,y,n,y\n",
            "democrat,?,?,?,n,n,n,y,y,y,y,n,n,y,n,y,y\n",
            "democrat,y,n,y,n,?,n,y,y,y,y,n,y,n,?,y,y\n",
            "republican,n,n,y,y,y,y,n,n,y,y,n,y,y,y,n,y\n",
            "democrat,n,n,y,n,n,n,y,y,y,y,n,n,n,n,n,y\n",
            "republican,n,?,n,y,y,y,n,n,n,n,y,y,y,y,n,y\n",
            "republican,n,n,n,y,y,y,?,?,?,?,n,y,y,y,n,y\n",
            "republican,n,y,n,y,y,y,n,n,n,y,n,y,y,y,?,n\n"
          ],
          "name": "stdout"
        }
      ]
    },
    {
      "cell_type": "code",
      "metadata": {
        "id": "p07U90LhjF1u",
        "colab_type": "code",
        "colab": {}
      },
      "source": [
        "df = pd.read_csv(house_votes_url, header=None, na_values = '?')"
      ],
      "execution_count": 0,
      "outputs": []
    },
    {
      "cell_type": "code",
      "metadata": {
        "id": "KMe3w1amJ3pq",
        "colab_type": "code",
        "outputId": "acba9453-fa98-494a-873d-640ef78fd1f4",
        "colab": {
          "base_uri": "https://localhost:8080/",
          "height": 204
        }
      },
      "source": [
        "df.head()"
      ],
      "execution_count": 53,
      "outputs": [
        {
          "output_type": "execute_result",
          "data": {
            "text/html": [
              "<div>\n",
              "<style scoped>\n",
              "    .dataframe tbody tr th:only-of-type {\n",
              "        vertical-align: middle;\n",
              "    }\n",
              "\n",
              "    .dataframe tbody tr th {\n",
              "        vertical-align: top;\n",
              "    }\n",
              "\n",
              "    .dataframe thead th {\n",
              "        text-align: right;\n",
              "    }\n",
              "</style>\n",
              "<table border=\"1\" class=\"dataframe\">\n",
              "  <thead>\n",
              "    <tr style=\"text-align: right;\">\n",
              "      <th></th>\n",
              "      <th>0</th>\n",
              "      <th>1</th>\n",
              "      <th>2</th>\n",
              "      <th>3</th>\n",
              "      <th>4</th>\n",
              "      <th>5</th>\n",
              "      <th>6</th>\n",
              "      <th>7</th>\n",
              "      <th>8</th>\n",
              "      <th>9</th>\n",
              "      <th>10</th>\n",
              "      <th>11</th>\n",
              "      <th>12</th>\n",
              "      <th>13</th>\n",
              "      <th>14</th>\n",
              "      <th>15</th>\n",
              "      <th>16</th>\n",
              "    </tr>\n",
              "  </thead>\n",
              "  <tbody>\n",
              "    <tr>\n",
              "      <th>0</th>\n",
              "      <td>republican</td>\n",
              "      <td>n</td>\n",
              "      <td>y</td>\n",
              "      <td>n</td>\n",
              "      <td>y</td>\n",
              "      <td>y</td>\n",
              "      <td>y</td>\n",
              "      <td>n</td>\n",
              "      <td>n</td>\n",
              "      <td>n</td>\n",
              "      <td>y</td>\n",
              "      <td>NaN</td>\n",
              "      <td>y</td>\n",
              "      <td>y</td>\n",
              "      <td>y</td>\n",
              "      <td>n</td>\n",
              "      <td>y</td>\n",
              "    </tr>\n",
              "    <tr>\n",
              "      <th>1</th>\n",
              "      <td>republican</td>\n",
              "      <td>n</td>\n",
              "      <td>y</td>\n",
              "      <td>n</td>\n",
              "      <td>y</td>\n",
              "      <td>y</td>\n",
              "      <td>y</td>\n",
              "      <td>n</td>\n",
              "      <td>n</td>\n",
              "      <td>n</td>\n",
              "      <td>n</td>\n",
              "      <td>n</td>\n",
              "      <td>y</td>\n",
              "      <td>y</td>\n",
              "      <td>y</td>\n",
              "      <td>n</td>\n",
              "      <td>NaN</td>\n",
              "    </tr>\n",
              "    <tr>\n",
              "      <th>2</th>\n",
              "      <td>democrat</td>\n",
              "      <td>NaN</td>\n",
              "      <td>y</td>\n",
              "      <td>y</td>\n",
              "      <td>NaN</td>\n",
              "      <td>y</td>\n",
              "      <td>y</td>\n",
              "      <td>n</td>\n",
              "      <td>n</td>\n",
              "      <td>n</td>\n",
              "      <td>n</td>\n",
              "      <td>y</td>\n",
              "      <td>n</td>\n",
              "      <td>y</td>\n",
              "      <td>y</td>\n",
              "      <td>n</td>\n",
              "      <td>n</td>\n",
              "    </tr>\n",
              "    <tr>\n",
              "      <th>3</th>\n",
              "      <td>democrat</td>\n",
              "      <td>n</td>\n",
              "      <td>y</td>\n",
              "      <td>y</td>\n",
              "      <td>n</td>\n",
              "      <td>NaN</td>\n",
              "      <td>y</td>\n",
              "      <td>n</td>\n",
              "      <td>n</td>\n",
              "      <td>n</td>\n",
              "      <td>n</td>\n",
              "      <td>y</td>\n",
              "      <td>n</td>\n",
              "      <td>y</td>\n",
              "      <td>n</td>\n",
              "      <td>n</td>\n",
              "      <td>y</td>\n",
              "    </tr>\n",
              "    <tr>\n",
              "      <th>4</th>\n",
              "      <td>democrat</td>\n",
              "      <td>y</td>\n",
              "      <td>y</td>\n",
              "      <td>y</td>\n",
              "      <td>n</td>\n",
              "      <td>y</td>\n",
              "      <td>y</td>\n",
              "      <td>n</td>\n",
              "      <td>n</td>\n",
              "      <td>n</td>\n",
              "      <td>n</td>\n",
              "      <td>y</td>\n",
              "      <td>NaN</td>\n",
              "      <td>y</td>\n",
              "      <td>y</td>\n",
              "      <td>y</td>\n",
              "      <td>y</td>\n",
              "    </tr>\n",
              "  </tbody>\n",
              "</table>\n",
              "</div>"
            ],
            "text/plain": [
              "           0    1  2  3    4    5  6  7  8  9  10   11   12 13 14 15   16\n",
              "0  republican    n  y  n    y    y  y  n  n  n  y  NaN    y  y  y  n    y\n",
              "1  republican    n  y  n    y    y  y  n  n  n  n    n    y  y  y  n  NaN\n",
              "2    democrat  NaN  y  y  NaN    y  y  n  n  n  n    y    n  y  y  n    n\n",
              "3    democrat    n  y  y    n  NaN  y  n  n  n  n    y    n  y  n  n    y\n",
              "4    democrat    y  y  y    n    y  y  n  n  n  n    y  NaN  y  y  y    y"
            ]
          },
          "metadata": {
            "tags": []
          },
          "execution_count": 53
        }
      ]
    },
    {
      "cell_type": "code",
      "metadata": {
        "id": "0garNYd0MPO5",
        "colab_type": "code",
        "colab": {}
      },
      "source": [
        "# 1. Class Name: 2 (democrat, republican) \n",
        "# 2. handicapped-infants: 2 (y,n) \n",
        "# 3. water-project-cost-sharing: 2 (y,n) \n",
        "# 4. adoption-of-the-budget-resolution: 2 (y,n) \n",
        "# 5. physician-fee-freeze: 2 (y,n) \n",
        "# 6. el-salvador-aid: 2 (y,n) \n",
        "# 7. religious-groups-in-schools: 2 (y,n) \n",
        "# 8. anti-satellite-test-ban: 2 (y,n) \n",
        "# 9. aid-to-nicaraguan-contras: 2 (y,n) \n",
        "# 10. mx-missile: 2 (y,n) \n",
        "# 11. immigration: 2 (y,n) \n",
        "# 12. synfuels-corporation-cutback: 2 (y,n) \n",
        "# 13. education-spending: 2 (y,n) \n",
        "# 14. superfund-right-to-sue: 2 (y,n) \n",
        "# 15. crime: 2 (y,n) \n",
        "# 16. duty-free-exports: 2 (y,n) \n",
        "# 17. export-administration-act-south-africa: 2 (y,n)"
      ],
      "execution_count": 0,
      "outputs": []
    },
    {
      "cell_type": "code",
      "metadata": {
        "id": "lvvakGwkMgt6",
        "colab_type": "code",
        "colab": {}
      },
      "source": [
        "columns = ['party','handicapped-infants','water-project-cost-sharing',\n",
        "           'adoption-of-the-budget-resolution','physician-fee-freeze',\n",
        "           'el-salvador-aid','religious-groups-in-schools',\n",
        "           'anti-satellite-test-ban','aid-to-nicaraguan-contras'\n",
        "           ,'mx-missile','immigration','synfuels-corporation-cutback'\n",
        "           ,'education-spending','superfund-right-to-sue','crime',\n",
        "           'duty-free-exports','export-administration-act-south-africa']\n"
      ],
      "execution_count": 0,
      "outputs": []
    },
    {
      "cell_type": "code",
      "metadata": {
        "id": "8ERefHnKNBi1",
        "colab_type": "code",
        "colab": {}
      },
      "source": [
        "df.columns = columns"
      ],
      "execution_count": 0,
      "outputs": []
    },
    {
      "cell_type": "code",
      "metadata": {
        "id": "KSSyI5Sfin19",
        "colab_type": "code",
        "outputId": "1c3147a1-9bf7-45f9-992f-ba3b639037c3",
        "colab": {
          "base_uri": "https://localhost:8080/",
          "height": 391
        }
      },
      "source": [
        "df.info()"
      ],
      "execution_count": 57,
      "outputs": [
        {
          "output_type": "stream",
          "text": [
            "<class 'pandas.core.frame.DataFrame'>\n",
            "RangeIndex: 435 entries, 0 to 434\n",
            "Data columns (total 17 columns):\n",
            "party                                     435 non-null object\n",
            "handicapped-infants                       423 non-null object\n",
            "water-project-cost-sharing                387 non-null object\n",
            "adoption-of-the-budget-resolution         424 non-null object\n",
            "physician-fee-freeze                      424 non-null object\n",
            "el-salvador-aid                           420 non-null object\n",
            "religious-groups-in-schools               424 non-null object\n",
            "anti-satellite-test-ban                   421 non-null object\n",
            "aid-to-nicaraguan-contras                 420 non-null object\n",
            "mx-missile                                413 non-null object\n",
            "immigration                               428 non-null object\n",
            "synfuels-corporation-cutback              414 non-null object\n",
            "education-spending                        404 non-null object\n",
            "superfund-right-to-sue                    410 non-null object\n",
            "crime                                     418 non-null object\n",
            "duty-free-exports                         407 non-null object\n",
            "export-administration-act-south-africa    331 non-null object\n",
            "dtypes: object(17)\n",
            "memory usage: 57.9+ KB\n"
          ],
          "name": "stdout"
        }
      ]
    },
    {
      "cell_type": "code",
      "metadata": {
        "id": "v5trA2sLiETP",
        "colab_type": "code",
        "colab": {}
      },
      "source": [
        "df.replace('y',1, inplace=True)"
      ],
      "execution_count": 0,
      "outputs": []
    },
    {
      "cell_type": "code",
      "metadata": {
        "id": "bpgCuTnciGo1",
        "colab_type": "code",
        "colab": {}
      },
      "source": [
        "df.replace('n',0,inplace=True)"
      ],
      "execution_count": 0,
      "outputs": []
    },
    {
      "cell_type": "code",
      "metadata": {
        "id": "dDcXTQc0noui",
        "colab_type": "code",
        "colab": {}
      },
      "source": [
        "rep =df[df['party'] =='republican']"
      ],
      "execution_count": 0,
      "outputs": []
    },
    {
      "cell_type": "code",
      "metadata": {
        "id": "g8sv0v0gntWd",
        "colab_type": "code",
        "colab": {}
      },
      "source": [
        "dem = df[df['party'] == 'democrat']"
      ],
      "execution_count": 0,
      "outputs": []
    },
    {
      "cell_type": "code",
      "metadata": {
        "id": "eDLteexQNJUU",
        "colab_type": "code",
        "colab": {
          "base_uri": "https://localhost:8080/",
          "height": 275
        },
        "outputId": "c1d16f18-ae1f-4682-bb4a-808035c49162"
      },
      "source": [
        "df.head()"
      ],
      "execution_count": 62,
      "outputs": [
        {
          "output_type": "execute_result",
          "data": {
            "text/html": [
              "<div>\n",
              "<style scoped>\n",
              "    .dataframe tbody tr th:only-of-type {\n",
              "        vertical-align: middle;\n",
              "    }\n",
              "\n",
              "    .dataframe tbody tr th {\n",
              "        vertical-align: top;\n",
              "    }\n",
              "\n",
              "    .dataframe thead th {\n",
              "        text-align: right;\n",
              "    }\n",
              "</style>\n",
              "<table border=\"1\" class=\"dataframe\">\n",
              "  <thead>\n",
              "    <tr style=\"text-align: right;\">\n",
              "      <th></th>\n",
              "      <th>party</th>\n",
              "      <th>handicapped-infants</th>\n",
              "      <th>water-project-cost-sharing</th>\n",
              "      <th>adoption-of-the-budget-resolution</th>\n",
              "      <th>physician-fee-freeze</th>\n",
              "      <th>el-salvador-aid</th>\n",
              "      <th>religious-groups-in-schools</th>\n",
              "      <th>anti-satellite-test-ban</th>\n",
              "      <th>aid-to-nicaraguan-contras</th>\n",
              "      <th>mx-missile</th>\n",
              "      <th>immigration</th>\n",
              "      <th>synfuels-corporation-cutback</th>\n",
              "      <th>education-spending</th>\n",
              "      <th>superfund-right-to-sue</th>\n",
              "      <th>crime</th>\n",
              "      <th>duty-free-exports</th>\n",
              "      <th>export-administration-act-south-africa</th>\n",
              "    </tr>\n",
              "  </thead>\n",
              "  <tbody>\n",
              "    <tr>\n",
              "      <th>0</th>\n",
              "      <td>republican</td>\n",
              "      <td>0.0</td>\n",
              "      <td>1.0</td>\n",
              "      <td>0.0</td>\n",
              "      <td>1.0</td>\n",
              "      <td>1.0</td>\n",
              "      <td>1.0</td>\n",
              "      <td>0.0</td>\n",
              "      <td>0.0</td>\n",
              "      <td>0.0</td>\n",
              "      <td>1.0</td>\n",
              "      <td>NaN</td>\n",
              "      <td>1.0</td>\n",
              "      <td>1.0</td>\n",
              "      <td>1.0</td>\n",
              "      <td>0.0</td>\n",
              "      <td>1.0</td>\n",
              "    </tr>\n",
              "    <tr>\n",
              "      <th>1</th>\n",
              "      <td>republican</td>\n",
              "      <td>0.0</td>\n",
              "      <td>1.0</td>\n",
              "      <td>0.0</td>\n",
              "      <td>1.0</td>\n",
              "      <td>1.0</td>\n",
              "      <td>1.0</td>\n",
              "      <td>0.0</td>\n",
              "      <td>0.0</td>\n",
              "      <td>0.0</td>\n",
              "      <td>0.0</td>\n",
              "      <td>0.0</td>\n",
              "      <td>1.0</td>\n",
              "      <td>1.0</td>\n",
              "      <td>1.0</td>\n",
              "      <td>0.0</td>\n",
              "      <td>NaN</td>\n",
              "    </tr>\n",
              "    <tr>\n",
              "      <th>2</th>\n",
              "      <td>democrat</td>\n",
              "      <td>NaN</td>\n",
              "      <td>1.0</td>\n",
              "      <td>1.0</td>\n",
              "      <td>NaN</td>\n",
              "      <td>1.0</td>\n",
              "      <td>1.0</td>\n",
              "      <td>0.0</td>\n",
              "      <td>0.0</td>\n",
              "      <td>0.0</td>\n",
              "      <td>0.0</td>\n",
              "      <td>1.0</td>\n",
              "      <td>0.0</td>\n",
              "      <td>1.0</td>\n",
              "      <td>1.0</td>\n",
              "      <td>0.0</td>\n",
              "      <td>0.0</td>\n",
              "    </tr>\n",
              "    <tr>\n",
              "      <th>3</th>\n",
              "      <td>democrat</td>\n",
              "      <td>0.0</td>\n",
              "      <td>1.0</td>\n",
              "      <td>1.0</td>\n",
              "      <td>0.0</td>\n",
              "      <td>NaN</td>\n",
              "      <td>1.0</td>\n",
              "      <td>0.0</td>\n",
              "      <td>0.0</td>\n",
              "      <td>0.0</td>\n",
              "      <td>0.0</td>\n",
              "      <td>1.0</td>\n",
              "      <td>0.0</td>\n",
              "      <td>1.0</td>\n",
              "      <td>0.0</td>\n",
              "      <td>0.0</td>\n",
              "      <td>1.0</td>\n",
              "    </tr>\n",
              "    <tr>\n",
              "      <th>4</th>\n",
              "      <td>democrat</td>\n",
              "      <td>1.0</td>\n",
              "      <td>1.0</td>\n",
              "      <td>1.0</td>\n",
              "      <td>0.0</td>\n",
              "      <td>1.0</td>\n",
              "      <td>1.0</td>\n",
              "      <td>0.0</td>\n",
              "      <td>0.0</td>\n",
              "      <td>0.0</td>\n",
              "      <td>0.0</td>\n",
              "      <td>1.0</td>\n",
              "      <td>NaN</td>\n",
              "      <td>1.0</td>\n",
              "      <td>1.0</td>\n",
              "      <td>1.0</td>\n",
              "      <td>1.0</td>\n",
              "    </tr>\n",
              "  </tbody>\n",
              "</table>\n",
              "</div>"
            ],
            "text/plain": [
              "        party  ...  export-administration-act-south-africa\n",
              "0  republican  ...                                     1.0\n",
              "1  republican  ...                                     NaN\n",
              "2    democrat  ...                                     0.0\n",
              "3    democrat  ...                                     1.0\n",
              "4    democrat  ...                                     1.0\n",
              "\n",
              "[5 rows x 17 columns]"
            ]
          },
          "metadata": {
            "tags": []
          },
          "execution_count": 62
        }
      ]
    },
    {
      "cell_type": "code",
      "metadata": {
        "id": "nnWUY_QLN41Q",
        "colab_type": "code",
        "outputId": "05f6d156-b085-4ba3-98b9-87258b3c6fa8",
        "colab": {
          "base_uri": "https://localhost:8080/",
          "height": 34
        }
      },
      "source": [
        "df.shape"
      ],
      "execution_count": 63,
      "outputs": [
        {
          "output_type": "execute_result",
          "data": {
            "text/plain": [
              "(435, 17)"
            ]
          },
          "metadata": {
            "tags": []
          },
          "execution_count": 63
        }
      ]
    },
    {
      "cell_type": "code",
      "metadata": {
        "id": "w37dMn5cNSJP",
        "colab_type": "code",
        "outputId": "ce61ff98-6961-4878-9a92-334ff7d0f6a6",
        "colab": {
          "base_uri": "https://localhost:8080/",
          "height": 323
        }
      },
      "source": [
        "df.isnull().sum()"
      ],
      "execution_count": 64,
      "outputs": [
        {
          "output_type": "execute_result",
          "data": {
            "text/plain": [
              "party                                       0\n",
              "handicapped-infants                        12\n",
              "water-project-cost-sharing                 48\n",
              "adoption-of-the-budget-resolution          11\n",
              "physician-fee-freeze                       11\n",
              "el-salvador-aid                            15\n",
              "religious-groups-in-schools                11\n",
              "anti-satellite-test-ban                    14\n",
              "aid-to-nicaraguan-contras                  15\n",
              "mx-missile                                 22\n",
              "immigration                                 7\n",
              "synfuels-corporation-cutback               21\n",
              "education-spending                         31\n",
              "superfund-right-to-sue                     25\n",
              "crime                                      17\n",
              "duty-free-exports                          28\n",
              "export-administration-act-south-africa    104\n",
              "dtype: int64"
            ]
          },
          "metadata": {
            "tags": []
          },
          "execution_count": 64
        }
      ]
    },
    {
      "cell_type": "markdown",
      "metadata": {
        "colab_type": "text",
        "id": "fpkZVqjAcxi0"
      },
      "source": [
        "## The Four Parts of a T-test\n",
        "\n",
        "### Before:\n",
        "\n",
        "1) Null Hypothesis: \"The Boring Hypothesis\", \"The default state of the world\"\n",
        "\n",
        " - The cooking times between the two burners is the same: $\\mu_{1} = \\mu_{2}$\n",
        "\n",
        "2) Alternative Hypothesis: \"The opposite of the null hypothesis\"\n",
        "\n",
        "- The cooking times are different $\\mu_{1} \\neq \\mu_{2}$\n",
        "\n",
        "3) Confidence Level: 95%\n",
        "\n",
        "**Confidence level of 95%** (reach an incorrect conclusion only 5% of the time)\n",
        "\n",
        "p < 1 - Confidence Level\n",
        "\n",
        "1 - Confidence Level = $\\alpha$\n",
        "\n",
        "- I reject the null hypothesis when P-value < alpha (1 - Confidence Level)"
      ]
    },
    {
      "cell_type": "markdown",
      "metadata": {
        "colab_type": "text",
        "id": "JNNDb5n0cxi0"
      },
      "source": [
        "### After:\n",
        "\n",
        "4) T-statistic: 6.362\n",
        "\n",
        "5) P-value: .000000000251\n",
        "\n",
        "What is the t-statistic?: ~Roughly the number of standard deviations away from the mean, that corresponds to the differences in means that we have observed given their sample sizes. \n",
        "\n",
        "What is the P-value: The probability that the difference that we have observed (The t-statist that we get) could have happened by random chance. \n",
        "\n",
        "### Interpretation: \n",
        "\n",
        "Due to calculating a t-statistic of 6.362 which corresponds to a p-value of .000000000251, we reject the null hypothesis that the mean of cooking times between the two burners is equal, and suggest the alternative hypothesis that they are different. \n",
        "\n"
      ]
    },
    {
      "cell_type": "markdown",
      "metadata": {
        "id": "roZI_hvrc4U9",
        "colab_type": "text"
      },
      "source": [
        "###WRITE OUT\n",
        "- 1) NULL HYPOTHESIS\n",
        "- 2) ALTERNATIVE HYPOTHESIS\n",
        "- 3) CONFIDENCE LEVEL\n",
        "- 4) T-STATISTIC\n",
        "- 5) P-VALUE\n",
        "- 6) INTERPRETATION"
      ]
    },
    {
      "cell_type": "code",
      "metadata": {
        "id": "JNVk3HYNZN-y",
        "colab_type": "code",
        "colab": {
          "base_uri": "https://localhost:8080/",
          "height": 51
        },
        "outputId": "7834fc7c-35cc-4dd7-d2df-e12e16ebad67"
      },
      "source": [
        "print('Republican Support: ', rep['handicapped-infants'].mean())\n",
        "print('Democrat Support: ', dem['handicapped-infants'].mean())"
      ],
      "execution_count": 65,
      "outputs": [
        {
          "output_type": "stream",
          "text": [
            "Republican Support:  0.18787878787878787\n",
            "Democrat Support:  0.6046511627906976\n"
          ],
          "name": "stdout"
        }
      ]
    },
    {
      "cell_type": "code",
      "metadata": {
        "id": "iyCopnjfhksb",
        "colab_type": "code",
        "colab": {
          "base_uri": "https://localhost:8080/",
          "height": 34
        },
        "outputId": "4e7b2a32-1807-4068-94b1-0ddf80ecbe71"
      },
      "source": [
        "ttest_ind(rep['handicapped-infants'], dem['handicapped-infants'], nan_policy='omit')\n",
        "#No null hypothesis passed like in the 1 sample t-test (i.e. the test sample,\n",
        "# then the null hypothesis (a value which is being compared against)\n",
        "#ttest_ind looks at the lengths each () then grab the sample size on its own\n",
        "# and compare to see which one has the smaller sample size, then uses\n",
        "# that smaller sample size as the \"n\" then use n-1 as the degrees of freedom."
      ],
      "execution_count": 66,
      "outputs": [
        {
          "output_type": "execute_result",
          "data": {
            "text/plain": [
              "Ttest_indResult(statistic=-9.205264294809222, pvalue=1.613440327937243e-18)"
            ]
          },
          "metadata": {
            "tags": []
          },
          "execution_count": 66
        }
      ]
    },
    {
      "cell_type": "markdown",
      "metadata": {
        "id": "ttxSRlnklTw8",
        "colab_type": "text"
      },
      "source": [
        "- 1) NULL HYPOTHESIS: The support gauged by the mean number of votes from republicans and democrats on the subject of *handicapped-infants* **is the same**.\n",
        "- 2) ALTERNATIVE HYPOTHESIS: The support gauged by the mean number of votes from republicans and democrats on the subject of *handicapped-infants* **is different**.\n",
        "- 3) CONFIDENCE LEVEL: 99%\n",
        "- 4) T-STATISTIC: -9.205\n",
        "- 5) P-VALUE: .00000000000000000161\n",
        "- 6) INTERPRETATION: We **REJECT** the null hypothesis that the support gauged by the mean number of votes from republicans and democrats on the subject of handicapped-infants is the same."
      ]
    },
    {
      "cell_type": "code",
      "metadata": {
        "id": "s1f_VXds4NvB",
        "colab_type": "code",
        "colab": {
          "base_uri": "https://localhost:8080/",
          "height": 51
        },
        "outputId": "6e8bd538-a873-453f-a223-67573acd4c23"
      },
      "source": [
        "print('Republican Support: ', rep['physician-fee-freeze'].mean())\n",
        "print('Democrat Support: ', dem['physician-fee-freeze'].mean()) "
      ],
      "execution_count": 67,
      "outputs": [
        {
          "output_type": "stream",
          "text": [
            "Republican Support:  0.9878787878787879\n",
            "Democrat Support:  0.05405405405405406\n"
          ],
          "name": "stdout"
        }
      ]
    },
    {
      "cell_type": "code",
      "metadata": {
        "id": "45ON9TtDjgjv",
        "colab_type": "code",
        "colab": {
          "base_uri": "https://localhost:8080/",
          "height": 34
        },
        "outputId": "44a6b3cf-f5a4-4436-8ce2-881a21856af8"
      },
      "source": [
        "ttest_ind(rep['physician-fee-freeze'], dem['physician-fee-freeze'], nan_policy='omit')\n"
      ],
      "execution_count": 68,
      "outputs": [
        {
          "output_type": "execute_result",
          "data": {
            "text/plain": [
              "Ttest_indResult(statistic=49.36708157301406, pvalue=1.994262314074344e-177)"
            ]
          },
          "metadata": {
            "tags": []
          },
          "execution_count": 68
        }
      ]
    },
    {
      "cell_type": "markdown",
      "metadata": {
        "id": "Y24hKYNwmc4K",
        "colab_type": "text"
      },
      "source": [
        "- 1) NULL HYPOTHESIS: The support gauged by the mean number of votes from republicans and democrats on the subject of *freezing physician fees* **is the same**.\n",
        "- 2) ALTERNATIVE HYPOTHESIS: The support gauged by the mean number of votes from republicans and democrats on the subject of *freezing physician fees* **is  different**.\n",
        "- 3) CONFIDENCE LEVEL: 95%\n",
        "- 4) T-STATISTIC: -49.367\n",
        "- 5) P-VALUE: ~0\n",
        "- 6) INTERPRETATION: We **REJECT** the null hypothesis that the support gauged by the mean number of votes from republicans and democrats on the subject of freezing physician fees is the same."
      ]
    },
    {
      "cell_type": "code",
      "metadata": {
        "id": "f1BAgTAG4N1C",
        "colab_type": "code",
        "colab": {
          "base_uri": "https://localhost:8080/",
          "height": 51
        },
        "outputId": "87a2daeb-895b-470f-e0bb-d9f4649dd70e"
      },
      "source": [
        "print('Republican Support: ', rep['water-project-cost-sharing'].mean())\n",
        "print('Democrat Support: ', dem['water-project-cost-sharing'].mean()) "
      ],
      "execution_count": 69,
      "outputs": [
        {
          "output_type": "stream",
          "text": [
            "Republican Support:  0.5067567567567568\n",
            "Democrat Support:  0.502092050209205\n"
          ],
          "name": "stdout"
        }
      ]
    },
    {
      "cell_type": "code",
      "metadata": {
        "id": "sC801sIv4N7B",
        "colab_type": "code",
        "colab": {
          "base_uri": "https://localhost:8080/",
          "height": 34
        },
        "outputId": "5e03b4e7-7dbe-4da4-ea5c-4dd69b5cd63c"
      },
      "source": [
        "ttest_ind(rep['water-project-cost-sharing'], dem['water-project-cost-sharing'], nan_policy='omit')"
      ],
      "execution_count": 70,
      "outputs": [
        {
          "output_type": "execute_result",
          "data": {
            "text/plain": [
              "Ttest_indResult(statistic=0.08896538137868286, pvalue=0.9291556823993485)"
            ]
          },
          "metadata": {
            "tags": []
          },
          "execution_count": 70
        }
      ]
    },
    {
      "cell_type": "markdown",
      "metadata": {
        "id": "tALwYNx3oJPR",
        "colab_type": "text"
      },
      "source": [
        "- 1) NULL HYPOTHESIS: The support gauged by the mean number of votes from republicans and democrats on the subject of *water cost sharing* **is the same**.\n",
        "- 2) ALTERNATIVE HYPOTHESIS: The support gauged by the mean number of votes from republicans and democrats on the subject of *water cost sharing*  **is  different**.\n",
        "- 3) CONFIDENCE LEVEL: 95%\n",
        "- 4) T-STATISTIC: .089\n",
        "- 5) P-VALUE: ~0.929\n",
        "- 6) INTERPRETATION: We **FAIL TO REJECT** the null hypothesis that the support gauged by the mean number of votes from republicans and democrats on the subject of freezing physician fees is the same."
      ]
    },
    {
      "cell_type": "code",
      "metadata": {
        "id": "xNY_MHfljoiY",
        "colab_type": "code",
        "colab": {}
      },
      "source": [
        ""
      ],
      "execution_count": 0,
      "outputs": []
    }
  ]
}