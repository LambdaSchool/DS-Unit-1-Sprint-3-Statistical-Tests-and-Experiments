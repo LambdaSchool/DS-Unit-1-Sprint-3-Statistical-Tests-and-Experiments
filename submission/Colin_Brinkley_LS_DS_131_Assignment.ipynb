{
  "nbformat": 4,
  "nbformat_minor": 0,
  "metadata": {
    "kernelspec": {
      "display_name": "Python 3",
      "language": "python",
      "name": "python3"
    },
    "language_info": {
      "codemirror_mode": {
        "name": "ipython",
        "version": 3
      },
      "file_extension": ".py",
      "mimetype": "text/x-python",
      "name": "python",
      "nbconvert_exporter": "python",
      "pygments_lexer": "ipython3",
      "version": "3.7.3"
    },
    "colab": {
      "name": "Colin_Brinkley_LS_DS_131_Assignment.ipynb",
      "version": "0.3.2",
      "provenance": [],
      "include_colab_link": true
    }
  },
  "cells": [
    {
      "cell_type": "markdown",
      "metadata": {
        "id": "view-in-github",
        "colab_type": "text"
      },
      "source": [
        "<a href=\"https://colab.research.google.com/github/Vertex138/DS-Unit-1-Sprint-3-Statistical-Tests-and-Experiments/blob/master/submission/Colin_Brinkley_LS_DS_131_Assignment.ipynb\" target=\"_parent\"><img src=\"https://colab.research.google.com/assets/colab-badge.svg\" alt=\"Open In Colab\"/></a>"
      ]
    },
    {
      "cell_type": "markdown",
      "metadata": {
        "id": "aj3gn_fPkXAJ",
        "colab_type": "text"
      },
      "source": [
        "<img align=\"left\" src=\"https://lever-client-logos.s3.amazonaws.com/864372b1-534c-480e-acd5-9711f850815c-1524247202159.png\" width=200>\n",
        "<br></br>\n",
        "<br></br>\n",
        "\n",
        "## *Data Science Unit 1 Sprint 3 Assignment 1*\n",
        "\n",
        "# Apply the t-test to real data\n",
        "\n",
        "Your assignment is to determine which issues have \"statistically significant\" differences between political parties in this [1980s congressional voting data](https://archive.ics.uci.edu/ml/datasets/Congressional+Voting+Records). The data consists of 435 instances (one for each congressperson), a class (democrat or republican), and 16 binary attributes (yes or no for voting for or against certain issues). Be aware - there are missing values!\n",
        "\n",
        "Your goals:\n",
        "\n",
        "1. Load and clean the data (or determine the best method to drop observations when running tests)\n",
        "2. Using hypothesis testing, find an issue that democrats support more than republicans with p < 0.01\n",
        "3. Using hypothesis testing, find an issue that republicans support more than democrats with p < 0.01\n",
        "4. Using hypothesis testing, find an issue where the difference between republicans and democrats has p > 0.1 (i.e. there may not be much of a difference)\n",
        "\n",
        "Note that this data will involve *2 sample* t-tests, because you're comparing averages across two groups (republicans and democrats) rather than a single group against a null hypothesis.\n",
        "\n",
        "Stretch goals:\n",
        "\n",
        "1. Refactor your code into functions so it's easy to rerun with arbitrary variables\n",
        "2. Apply hypothesis testing to your personal project data (for the purposes of this notebook you can type a summary of the hypothesis you formed and tested)"
      ]
    },
    {
      "cell_type": "code",
      "metadata": {
        "id": "1m9aakugkXAL",
        "colab_type": "code",
        "colab": {}
      },
      "source": [
        "import pandas as pd\n",
        "import numpy as np\n",
        "from scipy.stats import ttest_ind, ttest_1samp"
      ],
      "execution_count": 0,
      "outputs": []
    },
    {
      "cell_type": "code",
      "metadata": {
        "id": "BujZzrv9krqG",
        "colab_type": "code",
        "colab": {}
      },
      "source": [
        "#Importing the dataset, freshing it up for it's debut, and splitting it in two by 'class'\n",
        "columnNames = [\n",
        "    'class',\n",
        "    'infant',\n",
        "    'water',\n",
        "    'budget',\n",
        "    'physician',\n",
        "    'elsalvador',\n",
        "    'religion',\n",
        "    'satellite',\n",
        "    'contras',\n",
        "    'missile',\n",
        "    'immigration',\n",
        "    'synfuels',\n",
        "    'education',\n",
        "    'superfund',\n",
        "    'crime',\n",
        "    'exports',\n",
        "    'africa']\n",
        "congressDF = pd.read_csv('https://archive.ics.uci.edu/ml/machine-learning-databases/voting-records/house-votes-84.data',names=columnNames)\n",
        "congressDF = congressDF.replace({'?':np.NaN, 'n':0, 'y':1})\n",
        "demDF = congressDF[congressDF['class'] == 'democrat']\n",
        "repDF = congressDF[congressDF['class'] == 'republican']"
      ],
      "execution_count": 0,
      "outputs": []
    },
    {
      "cell_type": "markdown",
      "metadata": {
        "id": "KvOe6CigQ22c",
        "colab_type": "text"
      },
      "source": [
        "# 1 Value T-Testing"
      ]
    },
    {
      "cell_type": "code",
      "metadata": {
        "id": "_KMnrC5pRCQA",
        "colab_type": "code",
        "colab": {}
      },
      "source": [
        "def dem0TTest(name, conf = .05):\n",
        "  ttest_1samp(repDF[name], 0, nan_policy='omit')"
      ],
      "execution_count": 0,
      "outputs": []
    },
    {
      "cell_type": "markdown",
      "metadata": {
        "id": "aD22FvlMQWXg",
        "colab_type": "text"
      },
      "source": [
        "# 2 Value T-Testing"
      ]
    },
    {
      "cell_type": "code",
      "metadata": {
        "id": "rkvdjcsH0Va8",
        "colab_type": "code",
        "colab": {}
      },
      "source": [
        "def twoPartyTTest(name, conf = .05):\n",
        "  \n",
        "  #Calculate P Value and means\n",
        "  pvalue = ttest_ind(repDF[name], demDF[name], nan_policy='omit').pvalue\n",
        "  stat = ttest_ind(repDF[name], demDF[name], nan_policy='omit').statistic\n",
        "  repMean = repDF[name].mean()\n",
        "  demMean = demDF[name].mean()\n",
        "  \n",
        "  #Calculate whether to reject or not reject the null hypothesis, and give a reason why\n",
        "  if (pvalue < conf):\n",
        "    print(\"Reject the null hypothesis.\")\n",
        "    if (repMean > demMean):\n",
        "      print(\"Republicans are more in favor for the \\'\"+ name+ \"\\' vote than Democrats.\")\n",
        "    else:\n",
        "      print(\"Democrats are more in favor for the \\'\"+ name+ \"\\' vote than Republicans.\")\n",
        "  else:\n",
        "    print(\"Fail to reject the null hypothesis.\\n\",\n",
        "          \"Democrats and Republicans are in similar amounts of favor for the \\'\"+ name+ \"\\' vote.\")\n",
        "    \n",
        "  #Output the variables calculated during the function\n",
        "  print(\"RAW VALUES:\\n\",\n",
        "        \"P Value:\\t\\t\"+ str(pvalue)+\"\\n\",\n",
        "        \"Confidence:\\t\\t\"+str((1-conf)*100)+\"%\\n\",\n",
        "        \"Rebuplican Mean:\\t\"+str(repMean)+\"\\n\",\n",
        "        \"Democrat Mean:\\t\\t\" +str(demMean)+\"\\n\",\n",
        "        \"T-Statistic:\\t\\t\"+str(stat))"
      ],
      "execution_count": 0,
      "outputs": []
    },
    {
      "cell_type": "markdown",
      "metadata": {
        "id": "wowhlT31NWz6",
        "colab_type": "text"
      },
      "source": [
        "## Democrat Support Hypothesis Testing\n",
        "\n",
        "**Null Hypothesis:** Democrats and Republicans have similar favor for 'budget'.\n",
        "\n",
        "**Alternative Hypothesis:** Democrats prefer 'budget' more than Republicans\n",
        "\n",
        "**Confidence Interval:** 95%\n",
        "\n",
        "**T-Statistic:** -23.21277691701378\n",
        "\n",
        "**P-Value:** 2.0703402795404463e-77"
      ]
    },
    {
      "cell_type": "code",
      "metadata": {
        "id": "skvF0nyMx5c6",
        "colab_type": "code",
        "outputId": "2cc499c8-dc4a-427d-c4f1-8714483228be",
        "colab": {
          "base_uri": "https://localhost:8080/",
          "height": 153
        }
      },
      "source": [
        "# Democrats prefer 'budget' more than Republicans with a 95% confidence interval:\n",
        "twoPartyTTest('budget')"
      ],
      "execution_count": 7,
      "outputs": [
        {
          "output_type": "stream",
          "text": [
            "Reject the null hypothesis.\n",
            "Democrats are more in favor for the 'budget' vote than Republicans.\n",
            "RAW VALUES:\n",
            " P Value:\t\t2.0703402795404463e-77\n",
            " Confidence:\t\t95.0%\n",
            " Rebuplican Mean:\t0.13414634146341464\n",
            " Democrat Mean:\t\t0.8884615384615384\n",
            " T-Statistic:\t\t-23.21277691701378\n"
          ],
          "name": "stdout"
        }
      ]
    },
    {
      "cell_type": "markdown",
      "metadata": {
        "id": "dzu3sDVvOeRm",
        "colab_type": "text"
      },
      "source": [
        "## Republican Support Hypothesis Testing\n",
        "\n",
        "**Null Hypothesis:** Democrats and Republicans have similar favor for 'physician'.\n",
        "\n",
        "**Alternative Hypothesis:** Republicans prefer 'physician' more than Democrats\n",
        "\n",
        "**Confidence Interval:** 95%\n",
        "\n",
        "**T-Statistic:** 49.36708157301406\n",
        "\n",
        "**P-Value:** 1.994262314074344e-177"
      ]
    },
    {
      "cell_type": "code",
      "metadata": {
        "id": "h_ihllPTFcU8",
        "colab_type": "code",
        "outputId": "0fa07c48-6c52-4c13-c2df-e578c40aec86",
        "colab": {
          "base_uri": "https://localhost:8080/",
          "height": 153
        }
      },
      "source": [
        "# Rebuplicans prefer 'physician' more than Democrats with a 95% confidence interval\n",
        "twoPartyTTest('physician')"
      ],
      "execution_count": 5,
      "outputs": [
        {
          "output_type": "stream",
          "text": [
            "Reject the null hypothesis.\n",
            "Republicans are more in favor for the 'physician' vote than Democrats.\n",
            "RAW VALUES:\n",
            " P Value:\t\t1.994262314074344e-177\n",
            " Confidence:\t\t95.0%\n",
            " Rebuplican Mean:\t0.9878787878787879\n",
            " Democrat Mean:\t\t0.05405405405405406\n",
            " T-Statistic:\t\t49.36708157301406\n"
          ],
          "name": "stdout"
        }
      ]
    },
    {
      "cell_type": "markdown",
      "metadata": {
        "id": "qN_9T5sdO1hG",
        "colab_type": "text"
      },
      "source": [
        "## Similar Support Hypothesis Testing\n",
        "\n",
        "**Null Hypothesis:** Democrats and Republicans have similar favor for 'immigration'.\n",
        "\n",
        "**Alternative Hypothesis:** Democrats and Republicans have different favors for 'immigration'.\n",
        "\n",
        "**Confidence Interval:** 95%\n",
        "\n",
        "**T-Statistic:** 1.7359117329695164\n",
        "\n",
        "**P-Value:** 0.08330248490425066"
      ]
    },
    {
      "cell_type": "code",
      "metadata": {
        "id": "DARMZ2rWG6FX",
        "colab_type": "code",
        "outputId": "7ce9248b-b83a-4a8b-f0f7-05883c72ec5d",
        "colab": {
          "base_uri": "https://localhost:8080/",
          "height": 153
        }
      },
      "source": [
        "# Democrats and Republicans both prefer 'immigration' similar amounts with a 95% confidence interval\n",
        "twoPartyTTest('immigration')"
      ],
      "execution_count": 6,
      "outputs": [
        {
          "output_type": "stream",
          "text": [
            "Fail to reject the null hypothesis.\n",
            " Democrats and Republicans are in similar amounts of favor for the 'immigration' vote.\n",
            "RAW VALUES:\n",
            " P Value:\t\t0.08330248490425066\n",
            " Confidence:\t\t95.0%\n",
            " Rebuplican Mean:\t0.5575757575757576\n",
            " Democrat Mean:\t\t0.4714828897338403\n",
            " T-Statistic:\t\t1.7359117329695164\n"
          ],
          "name": "stdout"
        }
      ]
    }
  ]
}