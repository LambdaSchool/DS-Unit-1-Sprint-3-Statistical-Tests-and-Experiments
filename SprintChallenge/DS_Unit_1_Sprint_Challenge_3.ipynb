{
  "nbformat": 4,
  "nbformat_minor": 0,
  "metadata": {
    "colab": {
      "name": "DS_Unit_1_Sprint_Challenge_3.ipynb",
      "version": "0.3.2",
      "provenance": [],
      "collapsed_sections": [
        "nEg2SUSY4bSK",
        "LtH6d_9b3I38",
        "8WCS5H7N7h40",
        "Hyg-XAJ-7i5o",
        "pGWFCXls7kZR",
        "F9V2QKrQ7lgi",
        "GE0zHY-Z7oRY",
        "Wl5sYj9V7pdN",
        "_RR9Eb3_7rBq"
      ],
      "include_colab_link": true
    },
    "kernelspec": {
      "name": "python3",
      "display_name": "Python 3"
    }
  },
  "cells": [
    {
      "cell_type": "markdown",
      "metadata": {
        "id": "view-in-github",
        "colab_type": "text"
      },
      "source": [
        "<a href=\"https://colab.research.google.com/github/andrewwhite5/DS-Unit-1-Sprint-3-Statistical-Tests-and-Experiments/blob/master/SprintChallenge/DS_Unit_1_Sprint_Challenge_3.ipynb\" target=\"_parent\"><img src=\"https://colab.research.google.com/assets/colab-badge.svg\" alt=\"Open In Colab\"/></a>"
      ]
    },
    {
      "cell_type": "markdown",
      "metadata": {
        "id": "NooAiTdnafkz",
        "colab_type": "text"
      },
      "source": [
        "# Data Science Unit 1 Sprint Challenge 3\n",
        "\n",
        "## Exploring Data, Testing Hypotheses\n",
        "\n",
        "In this sprint challenge you will look at a dataset of people being approved or rejected for credit.\n",
        "\n",
        "https://archive.ics.uci.edu/ml/datasets/Credit+Approval\n",
        "\n",
        "Data Set Information: This file concerns credit card applications. All attribute names and values have been changed to meaningless symbols to protect confidentiality of the data. This dataset is interesting because there is a good mix of attributes -- continuous, nominal with small numbers of values, and nominal with larger numbers of values. There are also a few missing values.\n",
        "\n",
        "Attribute Information:\n",
        "- A1: b, a.\n",
        "- A2: continuous.\n",
        "- A3: continuous.\n",
        "- A4: u, y, l, t.\n",
        "- A5: g, p, gg.\n",
        "- A6: c, d, cc, i, j, k, m, r, q, w, x, e, aa, ff.\n",
        "- A7: v, h, bb, j, n, z, dd, ff, o.\n",
        "- A8: continuous.\n",
        "- A9: t, f.\n",
        "- A10: t, f.\n",
        "- A11: continuous.\n",
        "- A12: t, f.\n",
        "- A13: g, p, s.\n",
        "- A14: continuous.\n",
        "- A15: continuous.\n",
        "- A16: +,- (class attribute)\n",
        "\n",
        "Yes, most of that doesn't mean anything. A16 (the class attribute) is the most interesting, as it separates the 307 approved cases from the 383 rejected cases. The remaining variables have been obfuscated for privacy - a challenge you may have to deal with in your data science career.\n",
        "\n",
        "Sprint challenges are evaluated based on satisfactory completion of each part. It is suggested you work through it in order, getting each aspect reasonably working, before trying to deeply explore, iterate, or refine any given step. Once you get to the end, if you want to go back and improve things, go for it!"
      ]
    },
    {
      "cell_type": "markdown",
      "metadata": {
        "id": "5wch6ksCbJtZ",
        "colab_type": "text"
      },
      "source": [
        "## Part 1 - Load and validate the data\n",
        "\n",
        "- Load the data as a `pandas` data frame.\n",
        "- Validate that it has the appropriate number of observations (you can check the raw file, and also read the dataset description from UCI).\n",
        "- UCI says there should be missing data - check, and if necessary change the data so pandas recognizes it as na\n",
        "- Make sure that the loaded features are of the types described above (continuous values should be treated as float), and correct as necessary\n",
        "\n",
        "This is review, but skills that you'll use at the start of any data exploration. Further, you may have to do some investigation to figure out which file to load from - that is part of the puzzle."
      ]
    },
    {
      "cell_type": "code",
      "metadata": {
        "id": "Q79xDLckzibS",
        "colab_type": "code",
        "colab": {}
      },
      "source": [
        "import numpy as np\n",
        "import pandas as pd\n",
        "import seaborn as sns\n",
        "import scipy.stats as stats\n",
        "import statistics\n",
        "from scipy.stats import ttest_ind, ttest_ind_from_stats, ttest_rel"
      ],
      "execution_count": 0,
      "outputs": []
    },
    {
      "cell_type": "code",
      "metadata": {
        "id": "GFZ61x1-aOXk",
        "colab_type": "code",
        "colab": {}
      },
      "source": [
        "from google.colab import files\n",
        "uploaded = files.upload()"
      ],
      "execution_count": 0,
      "outputs": []
    },
    {
      "cell_type": "code",
      "metadata": {
        "id": "6HctanKCaWI_",
        "colab_type": "code",
        "colab": {
          "base_uri": "https://localhost:8080/",
          "height": 221
        },
        "outputId": "bcf89eb3-15f9-4e28-de09-1cf4cae20bf8"
      },
      "source": [
        "col_headers = ['A1', 'A2', 'A3', 'A4', 'A5', 'A6', 'A7', 'A8', 'A9', 'A10', 'A11', 'A12', 'A13', 'A14', 'A15', 'A16']\n",
        "\n",
        "df = pd.read_csv('crx.data', header=None, names=col_headers, na_values='?')  # Add headers and change '?' to na values\n",
        "print(df.shape)  # Should be 690 by 16\n",
        "df.head()"
      ],
      "execution_count": 145,
      "outputs": [
        {
          "output_type": "stream",
          "text": [
            "(690, 16)\n"
          ],
          "name": "stdout"
        },
        {
          "output_type": "execute_result",
          "data": {
            "text/html": [
              "<div>\n",
              "<style scoped>\n",
              "    .dataframe tbody tr th:only-of-type {\n",
              "        vertical-align: middle;\n",
              "    }\n",
              "\n",
              "    .dataframe tbody tr th {\n",
              "        vertical-align: top;\n",
              "    }\n",
              "\n",
              "    .dataframe thead th {\n",
              "        text-align: right;\n",
              "    }\n",
              "</style>\n",
              "<table border=\"1\" class=\"dataframe\">\n",
              "  <thead>\n",
              "    <tr style=\"text-align: right;\">\n",
              "      <th></th>\n",
              "      <th>A1</th>\n",
              "      <th>A2</th>\n",
              "      <th>A3</th>\n",
              "      <th>A4</th>\n",
              "      <th>A5</th>\n",
              "      <th>A6</th>\n",
              "      <th>A7</th>\n",
              "      <th>A8</th>\n",
              "      <th>A9</th>\n",
              "      <th>A10</th>\n",
              "      <th>A11</th>\n",
              "      <th>A12</th>\n",
              "      <th>A13</th>\n",
              "      <th>A14</th>\n",
              "      <th>A15</th>\n",
              "      <th>A16</th>\n",
              "    </tr>\n",
              "  </thead>\n",
              "  <tbody>\n",
              "    <tr>\n",
              "      <th>0</th>\n",
              "      <td>b</td>\n",
              "      <td>30.83</td>\n",
              "      <td>0.000</td>\n",
              "      <td>u</td>\n",
              "      <td>g</td>\n",
              "      <td>w</td>\n",
              "      <td>v</td>\n",
              "      <td>1.25</td>\n",
              "      <td>t</td>\n",
              "      <td>t</td>\n",
              "      <td>1</td>\n",
              "      <td>f</td>\n",
              "      <td>g</td>\n",
              "      <td>202.0</td>\n",
              "      <td>0</td>\n",
              "      <td>+</td>\n",
              "    </tr>\n",
              "    <tr>\n",
              "      <th>1</th>\n",
              "      <td>a</td>\n",
              "      <td>58.67</td>\n",
              "      <td>4.460</td>\n",
              "      <td>u</td>\n",
              "      <td>g</td>\n",
              "      <td>q</td>\n",
              "      <td>h</td>\n",
              "      <td>3.04</td>\n",
              "      <td>t</td>\n",
              "      <td>t</td>\n",
              "      <td>6</td>\n",
              "      <td>f</td>\n",
              "      <td>g</td>\n",
              "      <td>43.0</td>\n",
              "      <td>560</td>\n",
              "      <td>+</td>\n",
              "    </tr>\n",
              "    <tr>\n",
              "      <th>2</th>\n",
              "      <td>a</td>\n",
              "      <td>24.50</td>\n",
              "      <td>0.500</td>\n",
              "      <td>u</td>\n",
              "      <td>g</td>\n",
              "      <td>q</td>\n",
              "      <td>h</td>\n",
              "      <td>1.50</td>\n",
              "      <td>t</td>\n",
              "      <td>f</td>\n",
              "      <td>0</td>\n",
              "      <td>f</td>\n",
              "      <td>g</td>\n",
              "      <td>280.0</td>\n",
              "      <td>824</td>\n",
              "      <td>+</td>\n",
              "    </tr>\n",
              "    <tr>\n",
              "      <th>3</th>\n",
              "      <td>b</td>\n",
              "      <td>27.83</td>\n",
              "      <td>1.540</td>\n",
              "      <td>u</td>\n",
              "      <td>g</td>\n",
              "      <td>w</td>\n",
              "      <td>v</td>\n",
              "      <td>3.75</td>\n",
              "      <td>t</td>\n",
              "      <td>t</td>\n",
              "      <td>5</td>\n",
              "      <td>t</td>\n",
              "      <td>g</td>\n",
              "      <td>100.0</td>\n",
              "      <td>3</td>\n",
              "      <td>+</td>\n",
              "    </tr>\n",
              "    <tr>\n",
              "      <th>4</th>\n",
              "      <td>b</td>\n",
              "      <td>20.17</td>\n",
              "      <td>5.625</td>\n",
              "      <td>u</td>\n",
              "      <td>g</td>\n",
              "      <td>w</td>\n",
              "      <td>v</td>\n",
              "      <td>1.71</td>\n",
              "      <td>t</td>\n",
              "      <td>f</td>\n",
              "      <td>0</td>\n",
              "      <td>f</td>\n",
              "      <td>s</td>\n",
              "      <td>120.0</td>\n",
              "      <td>0</td>\n",
              "      <td>+</td>\n",
              "    </tr>\n",
              "  </tbody>\n",
              "</table>\n",
              "</div>"
            ],
            "text/plain": [
              "  A1     A2     A3 A4 A5 A6 A7    A8 A9 A10  A11 A12 A13    A14  A15 A16\n",
              "0  b  30.83  0.000  u  g  w  v  1.25  t   t    1   f   g  202.0    0   +\n",
              "1  a  58.67  4.460  u  g  q  h  3.04  t   t    6   f   g   43.0  560   +\n",
              "2  a  24.50  0.500  u  g  q  h  1.50  t   f    0   f   g  280.0  824   +\n",
              "3  b  27.83  1.540  u  g  w  v  3.75  t   t    5   t   g  100.0    3   +\n",
              "4  b  20.17  5.625  u  g  w  v  1.71  t   f    0   f   s  120.0    0   +"
            ]
          },
          "metadata": {
            "tags": []
          },
          "execution_count": 145
        }
      ]
    },
    {
      "cell_type": "code",
      "metadata": {
        "id": "-9UpnOR7cvOl",
        "colab_type": "code",
        "colab": {
          "base_uri": "https://localhost:8080/",
          "height": 34
        },
        "outputId": "4163482c-d1ba-49b8-f086-1095d8f1ecde"
      },
      "source": [
        "df['A1'].unique()  # Previously, this was how I checked to see which values were present (NaN was '?')"
      ],
      "execution_count": 146,
      "outputs": [
        {
          "output_type": "execute_result",
          "data": {
            "text/plain": [
              "array(['b', 'a', nan], dtype=object)"
            ]
          },
          "metadata": {
            "tags": []
          },
          "execution_count": 146
        }
      ]
    },
    {
      "cell_type": "code",
      "metadata": {
        "id": "jAbYo0aniDyh",
        "colab_type": "code",
        "colab": {
          "base_uri": "https://localhost:8080/",
          "height": 119
        },
        "outputId": "4e2effda-8dec-483b-8244-9670a9347d4d"
      },
      "source": [
        "print('A2 =', df['A2'].dtypes)  # Check to make sure the values are floats and ints\n",
        "print('A3 =', df['A3'].dtypes)\n",
        "print('A8 =', df['A8'].dtypes)\n",
        "print('A11 =', df['A11'].dtypes)\n",
        "print('A14 =', df['A14'].dtypes)\n",
        "print('A15 =', df['A15'].dtypes)"
      ],
      "execution_count": 147,
      "outputs": [
        {
          "output_type": "stream",
          "text": [
            "A2 = float64\n",
            "A3 = float64\n",
            "A8 = float64\n",
            "A11 = int64\n",
            "A14 = float64\n",
            "A15 = int64\n"
          ],
          "name": "stdout"
        }
      ]
    },
    {
      "cell_type": "code",
      "metadata": {
        "id": "SRrk2TSGcn6F",
        "colab_type": "code",
        "colab": {
          "base_uri": "https://localhost:8080/",
          "height": 306
        },
        "outputId": "1eba48fd-63b6-4b32-ffee-85e3a1fed953"
      },
      "source": [
        "df.isna().sum()"
      ],
      "execution_count": 148,
      "outputs": [
        {
          "output_type": "execute_result",
          "data": {
            "text/plain": [
              "A1     12\n",
              "A2     12\n",
              "A3      0\n",
              "A4      6\n",
              "A5      6\n",
              "A6      9\n",
              "A7      9\n",
              "A8      0\n",
              "A9      0\n",
              "A10     0\n",
              "A11     0\n",
              "A12     0\n",
              "A13     0\n",
              "A14    13\n",
              "A15     0\n",
              "A16     0\n",
              "dtype: int64"
            ]
          },
          "metadata": {
            "tags": []
          },
          "execution_count": 148
        }
      ]
    },
    {
      "cell_type": "code",
      "metadata": {
        "id": "loVNaefzmY1p",
        "colab_type": "code",
        "colab": {}
      },
      "source": [
        "df['A2'] = df['A2'].fillna(df['A2'].mean())\n",
        "df['A14'] = df['A2'].fillna(df['A14'].mean())"
      ],
      "execution_count": 0,
      "outputs": []
    },
    {
      "cell_type": "code",
      "metadata": {
        "id": "7ebUtn8-otZN",
        "colab_type": "code",
        "colab": {}
      },
      "source": [
        "df = df.dropna()"
      ],
      "execution_count": 0,
      "outputs": []
    },
    {
      "cell_type": "code",
      "metadata": {
        "id": "ibWsY30Zovmi",
        "colab_type": "code",
        "colab": {
          "base_uri": "https://localhost:8080/",
          "height": 306
        },
        "outputId": "dc39fd0f-1987-4150-9972-02ae6d1c0af7"
      },
      "source": [
        "df.isna().sum()"
      ],
      "execution_count": 151,
      "outputs": [
        {
          "output_type": "execute_result",
          "data": {
            "text/plain": [
              "A1     0\n",
              "A2     0\n",
              "A3     0\n",
              "A4     0\n",
              "A5     0\n",
              "A6     0\n",
              "A7     0\n",
              "A8     0\n",
              "A9     0\n",
              "A10    0\n",
              "A11    0\n",
              "A12    0\n",
              "A13    0\n",
              "A14    0\n",
              "A15    0\n",
              "A16    0\n",
              "dtype: int64"
            ]
          },
          "metadata": {
            "tags": []
          },
          "execution_count": 151
        }
      ]
    },
    {
      "cell_type": "code",
      "metadata": {
        "id": "IkoYR0cqs4zZ",
        "colab_type": "code",
        "colab": {}
      },
      "source": [
        "# df.replace({'-':0,'+':1},inplace=True)\n",
        "# df.head()"
      ],
      "execution_count": 0,
      "outputs": []
    },
    {
      "cell_type": "code",
      "metadata": {
        "id": "aNx62GXAtTj5",
        "colab_type": "code",
        "colab": {
          "base_uri": "https://localhost:8080/",
          "height": 34
        },
        "outputId": "7116f3b3-3d2b-4fa4-a9ce-ea567619a3e8"
      },
      "source": [
        "df['A16'].unique()"
      ],
      "execution_count": 153,
      "outputs": [
        {
          "output_type": "execute_result",
          "data": {
            "text/plain": [
              "array(['+', '-'], dtype=object)"
            ]
          },
          "metadata": {
            "tags": []
          },
          "execution_count": 153
        }
      ]
    },
    {
      "cell_type": "markdown",
      "metadata": {
        "id": "G7rLytbrO38L",
        "colab_type": "text"
      },
      "source": [
        "## Part 2 - Exploring data, Testing hypotheses\n",
        "\n",
        "The only thing we really know about this data is that A16 is the class label. Besides that, we have 6 continuous (float) features and 9 categorical features.\n",
        "\n",
        "Explore the data: you can use whatever approach (tables, utility functions, visualizations) to get an impression of the distributions and relationships of the variables. In general, your goal is to understand how the features are different when grouped by the two class labels (`+` and `-`).\n",
        "\n",
        "For the 6 continuous features, how are they different when split between the two class labels? Choose two features to run t-tests (again split by class label) - specifically, select one feature that is *extremely* different between the classes, and another feature that is notably less different (though perhaps still \"statistically significantly\" different). You may have to explore more than two features to do this.\n",
        "\n",
        "For the categorical features, explore by creating \"cross tabs\" (aka [contingency tables](https://en.wikipedia.org/wiki/Contingency_table)) between them and the class label, and apply the Chi-squared test to them. [pandas.crosstab](http://pandas.pydata.org/pandas-docs/stable/reference/api/pandas.crosstab.html) can create contingency tables, and [scipy.stats.chi2_contingency](https://docs.scipy.org/doc/scipy/reference/generated/scipy.stats.chi2_contingency.html) can calculate the Chi-squared statistic for them.\n",
        "\n",
        "There are 9 categorical features - as with the t-test, try to find one where the Chi-squared test returns an extreme result (rejecting the null that the data are independent), and one where it is less extreme.\n",
        "\n",
        "**NOTE** - \"less extreme\" just means smaller test statistic/larger p-value. Even the least extreme differences may be strongly statistically significant.\n",
        "\n",
        "Your *main* goal is the hypothesis tests, so don't spend too much time on the exploration/visualization piece. That is just a means to an end - use simple visualizations, such as boxplots or a scatter matrix (both built in to pandas), to get a feel for the overall distribution of the variables.\n",
        "\n",
        "This is challenging, so manage your time and aim for a baseline of at least running two t-tests and two Chi-squared tests before polishing. And don't forget to answer the questions in part 3, even if your results in this part aren't what you want them to be."
      ]
    },
    {
      "cell_type": "markdown",
      "metadata": {
        "id": "nEg2SUSY4bSK",
        "colab_type": "text"
      },
      "source": [
        "##Visual Description"
      ]
    },
    {
      "cell_type": "code",
      "metadata": {
        "id": "BmrPUpwkpXa_",
        "colab_type": "code",
        "colab": {
          "base_uri": "https://localhost:8080/",
          "height": 738
        },
        "outputId": "c0a083cf-230b-4ec2-8490-72e2ba29b519"
      },
      "source": [
        "pd.plotting.scatter_matrix(df, figsize=(20,12));"
      ],
      "execution_count": 154,
      "outputs": [
        {
          "output_type": "display_data",
          "data": {
            "image/png": "[encoded data removed]",
            "text/plain": [
              "<Figure size 1440x864 with 36 Axes>"
            ]
          },
          "metadata": {
            "tags": []
          }
        }
      ]
    },
    {
      "cell_type": "code",
      "metadata": {
        "id": "1tTXB_fJv6GU",
        "colab_type": "code",
        "colab": {
          "base_uri": "https://localhost:8080/",
          "height": 204
        },
        "outputId": "1c2bcb8b-765b-45cd-91eb-8f905f442043"
      },
      "source": [
        "plus = df[df['A16'].isin(['+'])]\n",
        "minus = df[df['A16'].isin(['-'])]\n",
        "plus.head()"
      ],
      "execution_count": 155,
      "outputs": [
        {
          "output_type": "execute_result",
          "data": {
            "text/html": [
              "<div>\n",
              "<style scoped>\n",
              "    .dataframe tbody tr th:only-of-type {\n",
              "        vertical-align: middle;\n",
              "    }\n",
              "\n",
              "    .dataframe tbody tr th {\n",
              "        vertical-align: top;\n",
              "    }\n",
              "\n",
              "    .dataframe thead th {\n",
              "        text-align: right;\n",
              "    }\n",
              "</style>\n",
              "<table border=\"1\" class=\"dataframe\">\n",
              "  <thead>\n",
              "    <tr style=\"text-align: right;\">\n",
              "      <th></th>\n",
              "      <th>A1</th>\n",
              "      <th>A2</th>\n",
              "      <th>A3</th>\n",
              "      <th>A4</th>\n",
              "      <th>A5</th>\n",
              "      <th>A6</th>\n",
              "      <th>A7</th>\n",
              "      <th>A8</th>\n",
              "      <th>A9</th>\n",
              "      <th>A10</th>\n",
              "      <th>A11</th>\n",
              "      <th>A12</th>\n",
              "      <th>A13</th>\n",
              "      <th>A14</th>\n",
              "      <th>A15</th>\n",
              "      <th>A16</th>\n",
              "    </tr>\n",
              "  </thead>\n",
              "  <tbody>\n",
              "    <tr>\n",
              "      <th>0</th>\n",
              "      <td>b</td>\n",
              "      <td>30.83</td>\n",
              "      <td>0.000</td>\n",
              "      <td>u</td>\n",
              "      <td>g</td>\n",
              "      <td>w</td>\n",
              "      <td>v</td>\n",
              "      <td>1.25</td>\n",
              "      <td>t</td>\n",
              "      <td>t</td>\n",
              "      <td>1</td>\n",
              "      <td>f</td>\n",
              "      <td>g</td>\n",
              "      <td>30.83</td>\n",
              "      <td>0</td>\n",
              "      <td>+</td>\n",
              "    </tr>\n",
              "    <tr>\n",
              "      <th>1</th>\n",
              "      <td>a</td>\n",
              "      <td>58.67</td>\n",
              "      <td>4.460</td>\n",
              "      <td>u</td>\n",
              "      <td>g</td>\n",
              "      <td>q</td>\n",
              "      <td>h</td>\n",
              "      <td>3.04</td>\n",
              "      <td>t</td>\n",
              "      <td>t</td>\n",
              "      <td>6</td>\n",
              "      <td>f</td>\n",
              "      <td>g</td>\n",
              "      <td>58.67</td>\n",
              "      <td>560</td>\n",
              "      <td>+</td>\n",
              "    </tr>\n",
              "    <tr>\n",
              "      <th>2</th>\n",
              "      <td>a</td>\n",
              "      <td>24.50</td>\n",
              "      <td>0.500</td>\n",
              "      <td>u</td>\n",
              "      <td>g</td>\n",
              "      <td>q</td>\n",
              "      <td>h</td>\n",
              "      <td>1.50</td>\n",
              "      <td>t</td>\n",
              "      <td>f</td>\n",
              "      <td>0</td>\n",
              "      <td>f</td>\n",
              "      <td>g</td>\n",
              "      <td>24.50</td>\n",
              "      <td>824</td>\n",
              "      <td>+</td>\n",
              "    </tr>\n",
              "    <tr>\n",
              "      <th>3</th>\n",
              "      <td>b</td>\n",
              "      <td>27.83</td>\n",
              "      <td>1.540</td>\n",
              "      <td>u</td>\n",
              "      <td>g</td>\n",
              "      <td>w</td>\n",
              "      <td>v</td>\n",
              "      <td>3.75</td>\n",
              "      <td>t</td>\n",
              "      <td>t</td>\n",
              "      <td>5</td>\n",
              "      <td>t</td>\n",
              "      <td>g</td>\n",
              "      <td>27.83</td>\n",
              "      <td>3</td>\n",
              "      <td>+</td>\n",
              "    </tr>\n",
              "    <tr>\n",
              "      <th>4</th>\n",
              "      <td>b</td>\n",
              "      <td>20.17</td>\n",
              "      <td>5.625</td>\n",
              "      <td>u</td>\n",
              "      <td>g</td>\n",
              "      <td>w</td>\n",
              "      <td>v</td>\n",
              "      <td>1.71</td>\n",
              "      <td>t</td>\n",
              "      <td>f</td>\n",
              "      <td>0</td>\n",
              "      <td>f</td>\n",
              "      <td>s</td>\n",
              "      <td>20.17</td>\n",
              "      <td>0</td>\n",
              "      <td>+</td>\n",
              "    </tr>\n",
              "  </tbody>\n",
              "</table>\n",
              "</div>"
            ],
            "text/plain": [
              "  A1     A2     A3 A4 A5 A6 A7    A8 A9 A10  A11 A12 A13    A14  A15 A16\n",
              "0  b  30.83  0.000  u  g  w  v  1.25  t   t    1   f   g  30.83    0   +\n",
              "1  a  58.67  4.460  u  g  q  h  3.04  t   t    6   f   g  58.67  560   +\n",
              "2  a  24.50  0.500  u  g  q  h  1.50  t   f    0   f   g  24.50  824   +\n",
              "3  b  27.83  1.540  u  g  w  v  3.75  t   t    5   t   g  27.83    3   +\n",
              "4  b  20.17  5.625  u  g  w  v  1.71  t   f    0   f   s  20.17    0   +"
            ]
          },
          "metadata": {
            "tags": []
          },
          "execution_count": 155
        }
      ]
    },
    {
      "cell_type": "markdown",
      "metadata": {
        "id": "ZVYZsT_q390z",
        "colab_type": "text"
      },
      "source": [
        "##Continuous Features"
      ]
    },
    {
      "cell_type": "markdown",
      "metadata": {
        "id": "H_O22Cvq6fXU",
        "colab_type": "text"
      },
      "source": [
        "Continuous:\n",
        "A2\n",
        "A3\n",
        "A8\n",
        "A11\n",
        "A14\n",
        "A15"
      ]
    },
    {
      "cell_type": "markdown",
      "metadata": {
        "id": "4vCyMpIk6jDG",
        "colab_type": "text"
      },
      "source": [
        "Categorical: \n",
        "A1\n",
        "A4\n",
        "A5\n",
        "A6\n",
        "A7\n",
        "A9\n",
        "A10\n",
        "A12\n",
        "A13"
      ]
    },
    {
      "cell_type": "code",
      "metadata": {
        "id": "rBaggCRQvV8k",
        "colab_type": "code",
        "colab": {
          "base_uri": "https://localhost:8080/",
          "height": 170
        },
        "outputId": "6c3c923b-10dd-4ee0-9bcc-09772b9b549f"
      },
      "source": [
        "plus['A2'].describe()"
      ],
      "execution_count": 156,
      "outputs": [
        {
          "output_type": "execute_result",
          "data": {
            "text/plain": [
              "count    300.000000\n",
              "mean      33.749921\n",
              "std       12.646152\n",
              "min       13.750000\n",
              "25%       23.250000\n",
              "50%       31.040000\n",
              "75%       41.352500\n",
              "max       76.750000\n",
              "Name: A2, dtype: float64"
            ]
          },
          "metadata": {
            "tags": []
          },
          "execution_count": 156
        }
      ]
    },
    {
      "cell_type": "code",
      "metadata": {
        "id": "Di0Uo6ASvRtV",
        "colab_type": "code",
        "colab": {
          "base_uri": "https://localhost:8080/",
          "height": 170
        },
        "outputId": "523a7759-d617-45e6-dda2-16a8f5e791dc"
      },
      "source": [
        "minus['A2'].describe()"
      ],
      "execution_count": 157,
      "outputs": [
        {
          "output_type": "execute_result",
          "data": {
            "text/plain": [
              "count    371.000000\n",
              "mean      29.625746\n",
              "std       10.548350\n",
              "min       15.170000\n",
              "25%       22.040000\n",
              "50%       27.420000\n",
              "75%       34.710000\n",
              "max       74.830000\n",
              "Name: A2, dtype: float64"
            ]
          },
          "metadata": {
            "tags": []
          },
          "execution_count": 157
        }
      ]
    },
    {
      "cell_type": "code",
      "metadata": {
        "id": "YjdRr3QgubLx",
        "colab_type": "code",
        "colab": {}
      },
      "source": [
        "N = len(df)\n",
        "N_plus = len(plus)\n",
        "N_minus = len(minus)"
      ],
      "execution_count": 0,
      "outputs": []
    },
    {
      "cell_type": "markdown",
      "metadata": {
        "id": "LtH6d_9b3I38",
        "colab_type": "text"
      },
      "source": [
        "###Exploration"
      ]
    },
    {
      "cell_type": "code",
      "metadata": {
        "id": "mQN0IXW82pMT",
        "colab_type": "code",
        "colab": {
          "base_uri": "https://localhost:8080/",
          "height": 51
        },
        "outputId": "2ceaed42-2fbd-4542-b778-2ac50c48812f"
      },
      "source": [
        "tstat, pvalue = ttest_ind((plus['A3']), (minus['A3']))\n",
        "print(tstat)\n",
        "print(pvalue)"
      ],
      "execution_count": 183,
      "outputs": [
        {
          "output_type": "stream",
          "text": [
            "5.439901646485027\n",
            "7.484203855791718e-08\n"
          ],
          "name": "stdout"
        }
      ]
    },
    {
      "cell_type": "code",
      "metadata": {
        "id": "edEVjd0f2qPv",
        "colab_type": "code",
        "colab": {
          "base_uri": "https://localhost:8080/",
          "height": 51
        },
        "outputId": "e8f255f8-b177-4f8a-88e3-eecd52146b0d"
      },
      "source": [
        "tstat, pvalue = ttest_ind((plus['A8']), (minus['A8']))\n",
        "print(tstat)\n",
        "print(pvalue)"
      ],
      "execution_count": 184,
      "outputs": [
        {
          "output_type": "stream",
          "text": [
            "8.88248772912562\n",
            "5.981017316904924e-18\n"
          ],
          "name": "stdout"
        }
      ]
    },
    {
      "cell_type": "code",
      "metadata": {
        "id": "rkADLbon2qLn",
        "colab_type": "code",
        "colab": {
          "base_uri": "https://localhost:8080/",
          "height": 51
        },
        "outputId": "c69e4043-2f92-4821-ed65-52af33525998"
      },
      "source": [
        "tstat, pvalue = ttest_ind((plus['A14']), (minus['A14']))\n",
        "print(tstat)\n",
        "print(pvalue)"
      ],
      "execution_count": 185,
      "outputs": [
        {
          "output_type": "stream",
          "text": [
            "4.60547074718652\n",
            "4.9268643141858815e-06\n"
          ],
          "name": "stdout"
        }
      ]
    },
    {
      "cell_type": "code",
      "metadata": {
        "id": "aBlAwk5k2qJ2",
        "colab_type": "code",
        "colab": {
          "base_uri": "https://localhost:8080/",
          "height": 51
        },
        "outputId": "2dd5cb84-6c99-409b-a364-d148d2b7abc5"
      },
      "source": [
        "tstat, pvalue = ttest_ind((plus['A15']), (minus['A15']))\n",
        "print(tstat)\n",
        "print(pvalue)"
      ],
      "execution_count": 186,
      "outputs": [
        {
          "output_type": "stream",
          "text": [
            "4.6573224452641995\n",
            "3.8652553184309034e-06\n"
          ],
          "name": "stdout"
        }
      ]
    },
    {
      "cell_type": "markdown",
      "metadata": {
        "id": "9GjutiCu2_mc",
        "colab_type": "text"
      },
      "source": [
        "###A3 -- Not very different (still statistically significant)"
      ]
    },
    {
      "cell_type": "code",
      "metadata": {
        "id": "2rv3WZpwyMhF",
        "colab_type": "code",
        "colab": {
          "base_uri": "https://localhost:8080/",
          "height": 119
        },
        "outputId": "857fbaff-afb1-43b5-eba6-ecdb5cc15c5e"
      },
      "source": [
        "# The confidence interval for A2\n",
        "A2_std = np.std(df['A2'])\n",
        "print('A2 St Dev:', A2_std)\n",
        "print('Sample Size:', N)\n",
        "\n",
        "standard_error = A2_std/np.sqrt(N)\n",
        "print('Standard Error:', standard_error)\n",
        "\n",
        "t = stats.t.ppf(0.975, N-1) # This is a 95% confidence interval\n",
        "\n",
        "sample_mean = statistics.mean(df['A2'])\n",
        "\n",
        "margin_of_error = t*standard_error\n",
        "CI = (sample_mean - margin_of_error, sample_mean + margin_of_error)\n",
        "\n",
        "print('Sample Mean:', sample_mean)\n",
        "print('Margin of Error:', margin_of_error)\n",
        "print('Confidence Interval', CI)"
      ],
      "execution_count": 168,
      "outputs": [
        {
          "output_type": "stream",
          "text": [
            "A2 St Dev: 11.697118422043584\n",
            "Sample Size: 671\n",
            "Standard Error: 0.4515622482588918\n",
            "Sample Mean: 31.469639423393957\n",
            "Margin of Error: 0.8866474343995595\n",
            "Confidence Interval (30.582991988994397, 32.35628685779351)\n"
          ],
          "name": "stdout"
        }
      ]
    },
    {
      "cell_type": "code",
      "metadata": {
        "id": "u_3G2o54z-3s",
        "colab_type": "code",
        "colab": {
          "base_uri": "https://localhost:8080/",
          "height": 68
        },
        "outputId": "14f8d4fc-c11a-4071-d2d4-16948bf1037b"
      },
      "source": [
        "tstat, pvalue = ttest_ind((plus['A2']), (minus['A2']))\n",
        "print('A2\\n',tstat)\n",
        "print('',pvalue)"
      ],
      "execution_count": 182,
      "outputs": [
        {
          "output_type": "stream",
          "text": [
            "A2\n",
            " 4.60547074718652\n",
            " 4.9268643141858815e-06\n"
          ],
          "name": "stdout"
        }
      ]
    },
    {
      "cell_type": "markdown",
      "metadata": {
        "id": "zAl-VWKj3F98",
        "colab_type": "text"
      },
      "source": [
        "###A11 -- Extremely different"
      ]
    },
    {
      "cell_type": "code",
      "metadata": {
        "id": "uY1I26O30uwf",
        "colab_type": "code",
        "colab": {
          "base_uri": "https://localhost:8080/",
          "height": 119
        },
        "outputId": "31941553-817f-4837-95b7-209b33372859"
      },
      "source": [
        "# The confidence interval for A11\n",
        "A11_std = np.std(df['A11'])\n",
        "print('A11 St Dev:', A11_std)\n",
        "print('Sample Size:', N)\n",
        "\n",
        "standard_error = A11_std/np.sqrt(N)\n",
        "print('Standard Error:', standard_error)\n",
        "\n",
        "sample_mean = statistics.mean(df['A11'])\n",
        "\n",
        "margin_of_error = t*standard_error\n",
        "CI = (sample_mean - margin_of_error, sample_mean + margin_of_error)\n",
        "\n",
        "print('Sample Mean:', sample_mean)\n",
        "print('Margin of Error:', margin_of_error)\n",
        "print('Confidence Interval', CI)"
      ],
      "execution_count": 178,
      "outputs": [
        {
          "output_type": "stream",
          "text": [
            "A11 St Dev: 4.91276826118111\n",
            "Sample Size: 671\n",
            "Standard Error: 0.18965531519396997\n",
            "Sample Mean: 2.4619970193740683\n",
            "Margin of Error: 0.3723902945504082\n",
            "Confidence Interval (2.08960672482366, 2.8343873139244766)\n"
          ],
          "name": "stdout"
        }
      ]
    },
    {
      "cell_type": "code",
      "metadata": {
        "id": "NB50A3Bs1MmC",
        "colab_type": "code",
        "colab": {
          "base_uri": "https://localhost:8080/",
          "height": 68
        },
        "outputId": "5e0f9477-abaf-42e9-ba11-0e2c121684bd"
      },
      "source": [
        "tstat, pvalue = ttest_ind((plus['A11']), (minus['A11']))\n",
        "print('A11\\n',tstat)\n",
        "print('',pvalue)"
      ],
      "execution_count": 181,
      "outputs": [
        {
          "output_type": "stream",
          "text": [
            "A11\n",
            " 11.614745357569337\n",
            " 1.5418580913707525e-28\n"
          ],
          "name": "stdout"
        }
      ]
    },
    {
      "cell_type": "markdown",
      "metadata": {
        "id": "qefjVqBg31KV",
        "colab_type": "text"
      },
      "source": [
        "##Categorical Features"
      ]
    },
    {
      "cell_type": "markdown",
      "metadata": {
        "id": "-VL54q4a5F7E",
        "colab_type": "text"
      },
      "source": [
        "Continuous:\n",
        "A2\n",
        "A3\n",
        "A8\n",
        "A11\n",
        "A14\n",
        "A15"
      ]
    },
    {
      "cell_type": "markdown",
      "metadata": {
        "id": "cz_FEOsu30aM",
        "colab_type": "text"
      },
      "source": [
        "Categorical: \n",
        "A1\n",
        "A4\n",
        "A5\n",
        "A6\n",
        "A7\n",
        "A9\n",
        "A10\n",
        "A12\n",
        "A13"
      ]
    },
    {
      "cell_type": "code",
      "metadata": {
        "id": "7TaNF-4h4QRH",
        "colab_type": "code",
        "colab": {}
      },
      "source": [
        "# def crosstabulator(df):\n",
        "#   for feat in df.columns:\n",
        "#     if feat == 'A2' or 'A3' or 'A8' or 'A11' or 'A14' or 'A15' or 'A16':\n",
        "#       next\n",
        "#     else:\n",
        "#       print(pd.crosstab(df['A16'], df[feat], margins=True))\n",
        "      \n",
        "# crosstabulator(df)"
      ],
      "execution_count": 0,
      "outputs": []
    },
    {
      "cell_type": "markdown",
      "metadata": {
        "id": "h0kEpglF7ga8",
        "colab_type": "text"
      },
      "source": [
        "###A1 -- Not significant"
      ]
    },
    {
      "cell_type": "code",
      "metadata": {
        "id": "ciPUawzD5gVq",
        "colab_type": "code",
        "colab": {
          "base_uri": "https://localhost:8080/",
          "height": 173
        },
        "outputId": "f3fb90a8-99c4-4a4c-b74f-89f162baeac6"
      },
      "source": [
        "pd.crosstab(df['A16'], df['A1'], margins=True)"
      ],
      "execution_count": 228,
      "outputs": [
        {
          "output_type": "execute_result",
          "data": {
            "text/html": [
              "<div>\n",
              "<style scoped>\n",
              "    .dataframe tbody tr th:only-of-type {\n",
              "        vertical-align: middle;\n",
              "    }\n",
              "\n",
              "    .dataframe tbody tr th {\n",
              "        vertical-align: top;\n",
              "    }\n",
              "\n",
              "    .dataframe thead th {\n",
              "        text-align: right;\n",
              "    }\n",
              "</style>\n",
              "<table border=\"1\" class=\"dataframe\">\n",
              "  <thead>\n",
              "    <tr style=\"text-align: right;\">\n",
              "      <th>A1</th>\n",
              "      <th>a</th>\n",
              "      <th>b</th>\n",
              "      <th>All</th>\n",
              "    </tr>\n",
              "    <tr>\n",
              "      <th>A16</th>\n",
              "      <th></th>\n",
              "      <th></th>\n",
              "      <th></th>\n",
              "    </tr>\n",
              "  </thead>\n",
              "  <tbody>\n",
              "    <tr>\n",
              "      <th>+</th>\n",
              "      <td>96</td>\n",
              "      <td>204</td>\n",
              "      <td>300</td>\n",
              "    </tr>\n",
              "    <tr>\n",
              "      <th>-</th>\n",
              "      <td>112</td>\n",
              "      <td>259</td>\n",
              "      <td>371</td>\n",
              "    </tr>\n",
              "    <tr>\n",
              "      <th>All</th>\n",
              "      <td>208</td>\n",
              "      <td>463</td>\n",
              "      <td>671</td>\n",
              "    </tr>\n",
              "  </tbody>\n",
              "</table>\n",
              "</div>"
            ],
            "text/plain": [
              "A1     a    b  All\n",
              "A16               \n",
              "+     96  204  300\n",
              "-    112  259  371\n",
              "All  208  463  671"
            ]
          },
          "metadata": {
            "tags": []
          },
          "execution_count": 228
        }
      ]
    },
    {
      "cell_type": "code",
      "metadata": {
        "id": "1jkEyPz761vE",
        "colab_type": "code",
        "colab": {
          "base_uri": "https://localhost:8080/",
          "height": 68
        },
        "outputId": "610f0dc7-01d0-4dfb-e7b6-75af6897d29a"
      },
      "source": [
        "observed_A1 = pd.crosstab(df['A16'], df['A1']).values\n",
        "print(observed.shape)\n",
        "observed_A1"
      ],
      "execution_count": 229,
      "outputs": [
        {
          "output_type": "stream",
          "text": [
            "(2, 2)\n"
          ],
          "name": "stdout"
        },
        {
          "output_type": "execute_result",
          "data": {
            "text/plain": [
              "array([[ 96, 204],\n",
              "       [112, 259]])"
            ]
          },
          "metadata": {
            "tags": []
          },
          "execution_count": 229
        }
      ]
    },
    {
      "cell_type": "code",
      "metadata": {
        "id": "0hH6P5Me7fju",
        "colab_type": "code",
        "colab": {
          "base_uri": "https://localhost:8080/",
          "height": 51
        },
        "outputId": "8d868f58-0554-4142-cecd-5074bdce0674"
      },
      "source": [
        "chi_squared, p_value, dof, expected = stats.chi2_contingency(observed_A1)\n",
        "print(chi_squared, p_value, dof, expected)"
      ],
      "execution_count": 230,
      "outputs": [
        {
          "output_type": "stream",
          "text": [
            "0.1767909638113253 0.6741456644073701 1 [[ 92.99552906 207.00447094]\n",
            " [115.00447094 255.99552906]]\n"
          ],
          "name": "stdout"
        }
      ]
    },
    {
      "cell_type": "markdown",
      "metadata": {
        "id": "JdyYnqKXAVXa",
        "colab_type": "text"
      },
      "source": [
        "###A9 -- Extremely significant"
      ]
    },
    {
      "cell_type": "code",
      "metadata": {
        "id": "-xBpCH85AJ8g",
        "colab_type": "code",
        "colab": {
          "base_uri": "https://localhost:8080/",
          "height": 173
        },
        "outputId": "f36acb35-5526-4856-b33a-e6a7b7ee362e"
      },
      "source": [
        "pd.crosstab(df['A16'], df['A9'], margins=True)"
      ],
      "execution_count": 234,
      "outputs": [
        {
          "output_type": "execute_result",
          "data": {
            "text/html": [
              "<div>\n",
              "<style scoped>\n",
              "    .dataframe tbody tr th:only-of-type {\n",
              "        vertical-align: middle;\n",
              "    }\n",
              "\n",
              "    .dataframe tbody tr th {\n",
              "        vertical-align: top;\n",
              "    }\n",
              "\n",
              "    .dataframe thead th {\n",
              "        text-align: right;\n",
              "    }\n",
              "</style>\n",
              "<table border=\"1\" class=\"dataframe\">\n",
              "  <thead>\n",
              "    <tr style=\"text-align: right;\">\n",
              "      <th>A9</th>\n",
              "      <th>f</th>\n",
              "      <th>t</th>\n",
              "      <th>All</th>\n",
              "    </tr>\n",
              "    <tr>\n",
              "      <th>A16</th>\n",
              "      <th></th>\n",
              "      <th></th>\n",
              "      <th></th>\n",
              "    </tr>\n",
              "  </thead>\n",
              "  <tbody>\n",
              "    <tr>\n",
              "      <th>+</th>\n",
              "      <td>18</td>\n",
              "      <td>282</td>\n",
              "      <td>300</td>\n",
              "    </tr>\n",
              "    <tr>\n",
              "      <th>-</th>\n",
              "      <td>295</td>\n",
              "      <td>76</td>\n",
              "      <td>371</td>\n",
              "    </tr>\n",
              "    <tr>\n",
              "      <th>All</th>\n",
              "      <td>313</td>\n",
              "      <td>358</td>\n",
              "      <td>671</td>\n",
              "    </tr>\n",
              "  </tbody>\n",
              "</table>\n",
              "</div>"
            ],
            "text/plain": [
              "A9     f    t  All\n",
              "A16               \n",
              "+     18  282  300\n",
              "-    295   76  371\n",
              "All  313  358  671"
            ]
          },
          "metadata": {
            "tags": []
          },
          "execution_count": 234
        }
      ]
    },
    {
      "cell_type": "code",
      "metadata": {
        "id": "Ywv34AfLAUOP",
        "colab_type": "code",
        "colab": {
          "base_uri": "https://localhost:8080/",
          "height": 68
        },
        "outputId": "ec49a92e-44be-44a5-c624-75a3e449758e"
      },
      "source": [
        "observed_A9 = pd.crosstab(df['A16'], df['A9']).values\n",
        "print(observed.shape)\n",
        "observed_A9"
      ],
      "execution_count": 235,
      "outputs": [
        {
          "output_type": "stream",
          "text": [
            "(2, 2)\n"
          ],
          "name": "stdout"
        },
        {
          "output_type": "execute_result",
          "data": {
            "text/plain": [
              "array([[ 18, 282],\n",
              "       [295,  76]])"
            ]
          },
          "metadata": {
            "tags": []
          },
          "execution_count": 235
        }
      ]
    },
    {
      "cell_type": "code",
      "metadata": {
        "id": "5K1sXTxqAUCD",
        "colab_type": "code",
        "colab": {
          "base_uri": "https://localhost:8080/",
          "height": 51
        },
        "outputId": "845ae67a-d226-433c-aeba-860d669bd429"
      },
      "source": [
        "chi_squared, p_value, dof, expected = stats.chi2_contingency(observed_A9)\n",
        "print(chi_squared, p_value, dof, expected)"
      ],
      "execution_count": 236,
      "outputs": [
        {
          "output_type": "stream",
          "text": [
            "357.24924571405785 1.1183019749553839e-79 1 [[139.94038748 160.05961252]\n",
            " [173.05961252 197.94038748]]\n"
          ],
          "name": "stdout"
        }
      ]
    },
    {
      "cell_type": "markdown",
      "metadata": {
        "id": "x-GDw_juAiWF",
        "colab_type": "text"
      },
      "source": [
        "###The rest are supplemental"
      ]
    },
    {
      "cell_type": "markdown",
      "metadata": {
        "id": "8WCS5H7N7h40",
        "colab_type": "text"
      },
      "source": [
        "###A4"
      ]
    },
    {
      "cell_type": "code",
      "metadata": {
        "id": "lme1t5AZ6F3J",
        "colab_type": "code",
        "colab": {
          "base_uri": "https://localhost:8080/",
          "height": 173
        },
        "outputId": "2d246b4b-a801-47eb-ff21-7cc56808ddd7"
      },
      "source": [
        "pd.crosstab(df['A16'], df['A4'], margins=True)"
      ],
      "execution_count": 192,
      "outputs": [
        {
          "output_type": "execute_result",
          "data": {
            "text/html": [
              "<div>\n",
              "<style scoped>\n",
              "    .dataframe tbody tr th:only-of-type {\n",
              "        vertical-align: middle;\n",
              "    }\n",
              "\n",
              "    .dataframe tbody tr th {\n",
              "        vertical-align: top;\n",
              "    }\n",
              "\n",
              "    .dataframe thead th {\n",
              "        text-align: right;\n",
              "    }\n",
              "</style>\n",
              "<table border=\"1\" class=\"dataframe\">\n",
              "  <thead>\n",
              "    <tr style=\"text-align: right;\">\n",
              "      <th>A4</th>\n",
              "      <th>l</th>\n",
              "      <th>u</th>\n",
              "      <th>y</th>\n",
              "      <th>All</th>\n",
              "    </tr>\n",
              "    <tr>\n",
              "      <th>A16</th>\n",
              "      <th></th>\n",
              "      <th></th>\n",
              "      <th></th>\n",
              "      <th></th>\n",
              "    </tr>\n",
              "  </thead>\n",
              "  <tbody>\n",
              "    <tr>\n",
              "      <th>+</th>\n",
              "      <td>2</td>\n",
              "      <td>253</td>\n",
              "      <td>45</td>\n",
              "      <td>300</td>\n",
              "    </tr>\n",
              "    <tr>\n",
              "      <th>-</th>\n",
              "      <td>0</td>\n",
              "      <td>257</td>\n",
              "      <td>114</td>\n",
              "      <td>371</td>\n",
              "    </tr>\n",
              "    <tr>\n",
              "      <th>All</th>\n",
              "      <td>2</td>\n",
              "      <td>510</td>\n",
              "      <td>159</td>\n",
              "      <td>671</td>\n",
              "    </tr>\n",
              "  </tbody>\n",
              "</table>\n",
              "</div>"
            ],
            "text/plain": [
              "A4   l    u    y  All\n",
              "A16                  \n",
              "+    2  253   45  300\n",
              "-    0  257  114  371\n",
              "All  2  510  159  671"
            ]
          },
          "metadata": {
            "tags": []
          },
          "execution_count": 192
        }
      ]
    },
    {
      "cell_type": "code",
      "metadata": {
        "id": "vlkI2fuE9Bgm",
        "colab_type": "code",
        "colab": {
          "base_uri": "https://localhost:8080/",
          "height": 68
        },
        "outputId": "ae79a0f6-0c5d-4279-b85c-1782a184e6b8"
      },
      "source": [
        "observed = pd.crosstab(df['A16'], df['A4']).values\n",
        "print(observed.shape)\n",
        "observed"
      ],
      "execution_count": 207,
      "outputs": [
        {
          "output_type": "stream",
          "text": [
            "(2, 3)\n"
          ],
          "name": "stdout"
        },
        {
          "output_type": "execute_result",
          "data": {
            "text/plain": [
              "array([[  2, 253,  45],\n",
              "       [  0, 257, 114]])"
            ]
          },
          "metadata": {
            "tags": []
          },
          "execution_count": 207
        }
      ]
    },
    {
      "cell_type": "code",
      "metadata": {
        "id": "UwbbOsLz9F1u",
        "colab_type": "code",
        "colab": {
          "base_uri": "https://localhost:8080/",
          "height": 51
        },
        "outputId": "2d49c75f-eecd-4c5e-db2e-f4690734d1a2"
      },
      "source": [
        "chi_squared, p_value, dof, expected = stats.chi2_contingency(observed)\n",
        "print(chi_squared, p_value, dof, expected)"
      ],
      "execution_count": 208,
      "outputs": [
        {
          "output_type": "stream",
          "text": [
            "24.73908550813229 4.245959411054058e-06 2 [[  0.89418778 228.01788376  71.08792846]\n",
            " [  1.10581222 281.98211624  87.91207154]]\n"
          ],
          "name": "stdout"
        }
      ]
    },
    {
      "cell_type": "markdown",
      "metadata": {
        "id": "Hyg-XAJ-7i5o",
        "colab_type": "text"
      },
      "source": [
        "###A5"
      ]
    },
    {
      "cell_type": "code",
      "metadata": {
        "id": "drvy-vxB6FxD",
        "colab_type": "code",
        "colab": {
          "base_uri": "https://localhost:8080/",
          "height": 173
        },
        "outputId": "82d1d6e9-99a8-4f58-b5f8-f6e35ab55048"
      },
      "source": [
        "pd.crosstab(df['A16'], df['A5'], margins=True)"
      ],
      "execution_count": 193,
      "outputs": [
        {
          "output_type": "execute_result",
          "data": {
            "text/html": [
              "<div>\n",
              "<style scoped>\n",
              "    .dataframe tbody tr th:only-of-type {\n",
              "        vertical-align: middle;\n",
              "    }\n",
              "\n",
              "    .dataframe tbody tr th {\n",
              "        vertical-align: top;\n",
              "    }\n",
              "\n",
              "    .dataframe thead th {\n",
              "        text-align: right;\n",
              "    }\n",
              "</style>\n",
              "<table border=\"1\" class=\"dataframe\">\n",
              "  <thead>\n",
              "    <tr style=\"text-align: right;\">\n",
              "      <th>A5</th>\n",
              "      <th>g</th>\n",
              "      <th>gg</th>\n",
              "      <th>p</th>\n",
              "      <th>All</th>\n",
              "    </tr>\n",
              "    <tr>\n",
              "      <th>A16</th>\n",
              "      <th></th>\n",
              "      <th></th>\n",
              "      <th></th>\n",
              "      <th></th>\n",
              "    </tr>\n",
              "  </thead>\n",
              "  <tbody>\n",
              "    <tr>\n",
              "      <th>+</th>\n",
              "      <td>253</td>\n",
              "      <td>2</td>\n",
              "      <td>45</td>\n",
              "      <td>300</td>\n",
              "    </tr>\n",
              "    <tr>\n",
              "      <th>-</th>\n",
              "      <td>257</td>\n",
              "      <td>0</td>\n",
              "      <td>114</td>\n",
              "      <td>371</td>\n",
              "    </tr>\n",
              "    <tr>\n",
              "      <th>All</th>\n",
              "      <td>510</td>\n",
              "      <td>2</td>\n",
              "      <td>159</td>\n",
              "      <td>671</td>\n",
              "    </tr>\n",
              "  </tbody>\n",
              "</table>\n",
              "</div>"
            ],
            "text/plain": [
              "A5     g  gg    p  All\n",
              "A16                   \n",
              "+    253   2   45  300\n",
              "-    257   0  114  371\n",
              "All  510   2  159  671"
            ]
          },
          "metadata": {
            "tags": []
          },
          "execution_count": 193
        }
      ]
    },
    {
      "cell_type": "code",
      "metadata": {
        "id": "fnxLVYe29Jro",
        "colab_type": "code",
        "colab": {
          "base_uri": "https://localhost:8080/",
          "height": 68
        },
        "outputId": "b2825ce8-a4f2-4c9b-8b8f-926abacdcb90"
      },
      "source": [
        "observed = pd.crosstab(df['A16'], df['A5']).values\n",
        "print(observed.shape)\n",
        "observed"
      ],
      "execution_count": 209,
      "outputs": [
        {
          "output_type": "stream",
          "text": [
            "(2, 3)\n"
          ],
          "name": "stdout"
        },
        {
          "output_type": "execute_result",
          "data": {
            "text/plain": [
              "array([[253,   2,  45],\n",
              "       [257,   0, 114]])"
            ]
          },
          "metadata": {
            "tags": []
          },
          "execution_count": 209
        }
      ]
    },
    {
      "cell_type": "code",
      "metadata": {
        "id": "GyKyFyc09JlH",
        "colab_type": "code",
        "colab": {
          "base_uri": "https://localhost:8080/",
          "height": 51
        },
        "outputId": "00845f7b-3279-4c37-c236-68c400c0a8d3"
      },
      "source": [
        "chi_squared, p_value, dof, expected = stats.chi2_contingency(observed)\n",
        "print(chi_squared, p_value, dof, expected)"
      ],
      "execution_count": 210,
      "outputs": [
        {
          "output_type": "stream",
          "text": [
            "24.73908550813229 4.245959411054058e-06 2 [[228.01788376   0.89418778  71.08792846]\n",
            " [281.98211624   1.10581222  87.91207154]]\n"
          ],
          "name": "stdout"
        }
      ]
    },
    {
      "cell_type": "markdown",
      "metadata": {
        "id": "pGWFCXls7kZR",
        "colab_type": "text"
      },
      "source": [
        "###A6"
      ]
    },
    {
      "cell_type": "code",
      "metadata": {
        "id": "HVPSdr6O6FjK",
        "colab_type": "code",
        "colab": {
          "base_uri": "https://localhost:8080/",
          "height": 173
        },
        "outputId": "4a3ab43f-8f5a-4cf1-f24e-03bfdcff8223"
      },
      "source": [
        "pd.crosstab(df['A16'], df['A6'], margins=True)"
      ],
      "execution_count": 194,
      "outputs": [
        {
          "output_type": "execute_result",
          "data": {
            "text/html": [
              "<div>\n",
              "<style scoped>\n",
              "    .dataframe tbody tr th:only-of-type {\n",
              "        vertical-align: middle;\n",
              "    }\n",
              "\n",
              "    .dataframe tbody tr th {\n",
              "        vertical-align: top;\n",
              "    }\n",
              "\n",
              "    .dataframe thead th {\n",
              "        text-align: right;\n",
              "    }\n",
              "</style>\n",
              "<table border=\"1\" class=\"dataframe\">\n",
              "  <thead>\n",
              "    <tr style=\"text-align: right;\">\n",
              "      <th>A6</th>\n",
              "      <th>aa</th>\n",
              "      <th>c</th>\n",
              "      <th>cc</th>\n",
              "      <th>d</th>\n",
              "      <th>e</th>\n",
              "      <th>ff</th>\n",
              "      <th>i</th>\n",
              "      <th>j</th>\n",
              "      <th>k</th>\n",
              "      <th>m</th>\n",
              "      <th>q</th>\n",
              "      <th>r</th>\n",
              "      <th>w</th>\n",
              "      <th>x</th>\n",
              "      <th>All</th>\n",
              "    </tr>\n",
              "    <tr>\n",
              "      <th>A16</th>\n",
              "      <th></th>\n",
              "      <th></th>\n",
              "      <th></th>\n",
              "      <th></th>\n",
              "      <th></th>\n",
              "      <th></th>\n",
              "      <th></th>\n",
              "      <th></th>\n",
              "      <th></th>\n",
              "      <th></th>\n",
              "      <th></th>\n",
              "      <th></th>\n",
              "      <th></th>\n",
              "      <th></th>\n",
              "      <th></th>\n",
              "    </tr>\n",
              "  </thead>\n",
              "  <tbody>\n",
              "    <tr>\n",
              "      <th>+</th>\n",
              "      <td>19</td>\n",
              "      <td>61</td>\n",
              "      <td>29</td>\n",
              "      <td>7</td>\n",
              "      <td>14</td>\n",
              "      <td>7</td>\n",
              "      <td>14</td>\n",
              "      <td>3</td>\n",
              "      <td>13</td>\n",
              "      <td>16</td>\n",
              "      <td>50</td>\n",
              "      <td>2</td>\n",
              "      <td>33</td>\n",
              "      <td>32</td>\n",
              "      <td>300</td>\n",
              "    </tr>\n",
              "    <tr>\n",
              "      <th>-</th>\n",
              "      <td>34</td>\n",
              "      <td>74</td>\n",
              "      <td>11</td>\n",
              "      <td>23</td>\n",
              "      <td>10</td>\n",
              "      <td>46</td>\n",
              "      <td>44</td>\n",
              "      <td>7</td>\n",
              "      <td>37</td>\n",
              "      <td>22</td>\n",
              "      <td>26</td>\n",
              "      <td>1</td>\n",
              "      <td>30</td>\n",
              "      <td>6</td>\n",
              "      <td>371</td>\n",
              "    </tr>\n",
              "    <tr>\n",
              "      <th>All</th>\n",
              "      <td>53</td>\n",
              "      <td>135</td>\n",
              "      <td>40</td>\n",
              "      <td>30</td>\n",
              "      <td>24</td>\n",
              "      <td>53</td>\n",
              "      <td>58</td>\n",
              "      <td>10</td>\n",
              "      <td>50</td>\n",
              "      <td>38</td>\n",
              "      <td>76</td>\n",
              "      <td>3</td>\n",
              "      <td>63</td>\n",
              "      <td>38</td>\n",
              "      <td>671</td>\n",
              "    </tr>\n",
              "  </tbody>\n",
              "</table>\n",
              "</div>"
            ],
            "text/plain": [
              "A6   aa    c  cc   d   e  ff   i   j   k   m   q  r   w   x  All\n",
              "A16                                                             \n",
              "+    19   61  29   7  14   7  14   3  13  16  50  2  33  32  300\n",
              "-    34   74  11  23  10  46  44   7  37  22  26  1  30   6  371\n",
              "All  53  135  40  30  24  53  58  10  50  38  76  3  63  38  671"
            ]
          },
          "metadata": {
            "tags": []
          },
          "execution_count": 194
        }
      ]
    },
    {
      "cell_type": "code",
      "metadata": {
        "id": "_QqN7LPk9mGs",
        "colab_type": "code",
        "colab": {
          "base_uri": "https://localhost:8080/",
          "height": 68
        },
        "outputId": "a0124c7c-95f7-4d95-df90-0af7d939dd05"
      },
      "source": [
        "observed = pd.crosstab(df['A16'], df['A6']).values\n",
        "print(observed.shape)\n",
        "observed"
      ],
      "execution_count": 211,
      "outputs": [
        {
          "output_type": "stream",
          "text": [
            "(2, 14)\n"
          ],
          "name": "stdout"
        },
        {
          "output_type": "execute_result",
          "data": {
            "text/plain": [
              "array([[19, 61, 29,  7, 14,  7, 14,  3, 13, 16, 50,  2, 33, 32],\n",
              "       [34, 74, 11, 23, 10, 46, 44,  7, 37, 22, 26,  1, 30,  6]])"
            ]
          },
          "metadata": {
            "tags": []
          },
          "execution_count": 211
        }
      ]
    },
    {
      "cell_type": "code",
      "metadata": {
        "id": "guRSaCHk9pOq",
        "colab_type": "code",
        "colab": {
          "base_uri": "https://localhost:8080/",
          "height": 119
        },
        "outputId": "c40e0e7c-6207-40d1-e53b-ac0f2c3879d6"
      },
      "source": [
        "chi_squared, p_value, dof, expected = stats.chi2_contingency(observed)\n",
        "print(chi_squared, p_value, dof, expected)"
      ],
      "execution_count": 212,
      "outputs": [
        {
          "output_type": "stream",
          "text": [
            "100.53744166774614 1.3052053320128543e-15 13 [[23.69597615 60.35767511 17.88375559 13.41281669 10.73025335 23.69597615\n",
            "  25.9314456   4.4709389  22.35469449 16.98956781 33.97913562  1.34128167\n",
            "  28.16691505 16.98956781]\n",
            " [29.30402385 74.64232489 22.11624441 16.58718331 13.26974665 29.30402385\n",
            "  32.0685544   5.5290611  27.64530551 21.01043219 42.02086438  1.65871833\n",
            "  34.83308495 21.01043219]]\n"
          ],
          "name": "stdout"
        }
      ]
    },
    {
      "cell_type": "markdown",
      "metadata": {
        "id": "F9V2QKrQ7lgi",
        "colab_type": "text"
      },
      "source": [
        "###A7"
      ]
    },
    {
      "cell_type": "code",
      "metadata": {
        "id": "0snjHeKE6FZ8",
        "colab_type": "code",
        "colab": {
          "base_uri": "https://localhost:8080/",
          "height": 173
        },
        "outputId": "4b4f68c9-c242-494f-9e58-69bb575d312b"
      },
      "source": [
        "pd.crosstab(df['A16'], df['A7'], margins=True)"
      ],
      "execution_count": 195,
      "outputs": [
        {
          "output_type": "execute_result",
          "data": {
            "text/html": [
              "<div>\n",
              "<style scoped>\n",
              "    .dataframe tbody tr th:only-of-type {\n",
              "        vertical-align: middle;\n",
              "    }\n",
              "\n",
              "    .dataframe tbody tr th {\n",
              "        vertical-align: top;\n",
              "    }\n",
              "\n",
              "    .dataframe thead th {\n",
              "        text-align: right;\n",
              "    }\n",
              "</style>\n",
              "<table border=\"1\" class=\"dataframe\">\n",
              "  <thead>\n",
              "    <tr style=\"text-align: right;\">\n",
              "      <th>A7</th>\n",
              "      <th>bb</th>\n",
              "      <th>dd</th>\n",
              "      <th>ff</th>\n",
              "      <th>h</th>\n",
              "      <th>j</th>\n",
              "      <th>n</th>\n",
              "      <th>o</th>\n",
              "      <th>v</th>\n",
              "      <th>z</th>\n",
              "      <th>All</th>\n",
              "    </tr>\n",
              "    <tr>\n",
              "      <th>A16</th>\n",
              "      <th></th>\n",
              "      <th></th>\n",
              "      <th></th>\n",
              "      <th></th>\n",
              "      <th></th>\n",
              "      <th></th>\n",
              "      <th></th>\n",
              "      <th></th>\n",
              "      <th></th>\n",
              "      <th></th>\n",
              "    </tr>\n",
              "  </thead>\n",
              "  <tbody>\n",
              "    <tr>\n",
              "      <th>+</th>\n",
              "      <td>24</td>\n",
              "      <td>2</td>\n",
              "      <td>8</td>\n",
              "      <td>87</td>\n",
              "      <td>3</td>\n",
              "      <td>2</td>\n",
              "      <td>1</td>\n",
              "      <td>167</td>\n",
              "      <td>6</td>\n",
              "      <td>300</td>\n",
              "    </tr>\n",
              "    <tr>\n",
              "      <th>-</th>\n",
              "      <td>33</td>\n",
              "      <td>4</td>\n",
              "      <td>49</td>\n",
              "      <td>50</td>\n",
              "      <td>5</td>\n",
              "      <td>2</td>\n",
              "      <td>1</td>\n",
              "      <td>225</td>\n",
              "      <td>2</td>\n",
              "      <td>371</td>\n",
              "    </tr>\n",
              "    <tr>\n",
              "      <th>All</th>\n",
              "      <td>57</td>\n",
              "      <td>6</td>\n",
              "      <td>57</td>\n",
              "      <td>137</td>\n",
              "      <td>8</td>\n",
              "      <td>4</td>\n",
              "      <td>2</td>\n",
              "      <td>392</td>\n",
              "      <td>8</td>\n",
              "      <td>671</td>\n",
              "    </tr>\n",
              "  </tbody>\n",
              "</table>\n",
              "</div>"
            ],
            "text/plain": [
              "A7   bb  dd  ff    h  j  n  o    v  z  All\n",
              "A16                                       \n",
              "+    24   2   8   87  3  2  1  167  6  300\n",
              "-    33   4  49   50  5  2  1  225  2  371\n",
              "All  57   6  57  137  8  4  2  392  8  671"
            ]
          },
          "metadata": {
            "tags": []
          },
          "execution_count": 195
        }
      ]
    },
    {
      "cell_type": "code",
      "metadata": {
        "id": "qlfpz6l09uSe",
        "colab_type": "code",
        "colab": {
          "base_uri": "https://localhost:8080/",
          "height": 68
        },
        "outputId": "87eb9126-c067-40ed-938b-ad8091ce2dba"
      },
      "source": [
        "observed = pd.crosstab(df['A16'], df['A7']).values\n",
        "print(observed.shape)\n",
        "observed"
      ],
      "execution_count": 213,
      "outputs": [
        {
          "output_type": "stream",
          "text": [
            "(2, 9)\n"
          ],
          "name": "stdout"
        },
        {
          "output_type": "execute_result",
          "data": {
            "text/plain": [
              "array([[ 24,   2,   8,  87,   3,   2,   1, 167,   6],\n",
              "       [ 33,   4,  49,  50,   5,   2,   1, 225,   2]])"
            ]
          },
          "metadata": {
            "tags": []
          },
          "execution_count": 213
        }
      ]
    },
    {
      "cell_type": "code",
      "metadata": {
        "id": "dOayHI1N9xIs",
        "colab_type": "code",
        "colab": {
          "base_uri": "https://localhost:8080/",
          "height": 85
        },
        "outputId": "802fd36a-fa65-4a29-9792-871a13540738"
      },
      "source": [
        "chi_squared, p_value, dof, expected = stats.chi2_contingency(observed)\n",
        "print(chi_squared, p_value, dof, expected)"
      ],
      "execution_count": 214,
      "outputs": [
        {
          "output_type": "stream",
          "text": [
            "45.651740293789906 2.768207109177882e-07 8 [[ 25.48435171   2.68256334  25.48435171  61.25186289   3.57675112\n",
            "    1.78837556   0.89418778 175.26080477   3.57675112]\n",
            " [ 31.51564829   3.31743666  31.51564829  75.74813711   4.42324888\n",
            "    2.21162444   1.10581222 216.73919523   4.42324888]]\n"
          ],
          "name": "stdout"
        }
      ]
    },
    {
      "cell_type": "markdown",
      "metadata": {
        "id": "GE0zHY-Z7oRY",
        "colab_type": "text"
      },
      "source": [
        "###A10"
      ]
    },
    {
      "cell_type": "code",
      "metadata": {
        "id": "WGwfqm966N3E",
        "colab_type": "code",
        "colab": {
          "base_uri": "https://localhost:8080/",
          "height": 173
        },
        "outputId": "9ee8cf08-0a0c-4803-d03c-f4da21360910"
      },
      "source": [
        "pd.crosstab(df['A16'], df['A10'], margins=True)"
      ],
      "execution_count": 197,
      "outputs": [
        {
          "output_type": "execute_result",
          "data": {
            "text/html": [
              "<div>\n",
              "<style scoped>\n",
              "    .dataframe tbody tr th:only-of-type {\n",
              "        vertical-align: middle;\n",
              "    }\n",
              "\n",
              "    .dataframe tbody tr th {\n",
              "        vertical-align: top;\n",
              "    }\n",
              "\n",
              "    .dataframe thead th {\n",
              "        text-align: right;\n",
              "    }\n",
              "</style>\n",
              "<table border=\"1\" class=\"dataframe\">\n",
              "  <thead>\n",
              "    <tr style=\"text-align: right;\">\n",
              "      <th>A10</th>\n",
              "      <th>f</th>\n",
              "      <th>t</th>\n",
              "      <th>All</th>\n",
              "    </tr>\n",
              "    <tr>\n",
              "      <th>A16</th>\n",
              "      <th></th>\n",
              "      <th></th>\n",
              "      <th></th>\n",
              "    </tr>\n",
              "  </thead>\n",
              "  <tbody>\n",
              "    <tr>\n",
              "      <th>+</th>\n",
              "      <td>94</td>\n",
              "      <td>206</td>\n",
              "      <td>300</td>\n",
              "    </tr>\n",
              "    <tr>\n",
              "      <th>-</th>\n",
              "      <td>285</td>\n",
              "      <td>86</td>\n",
              "      <td>371</td>\n",
              "    </tr>\n",
              "    <tr>\n",
              "      <th>All</th>\n",
              "      <td>379</td>\n",
              "      <td>292</td>\n",
              "      <td>671</td>\n",
              "    </tr>\n",
              "  </tbody>\n",
              "</table>\n",
              "</div>"
            ],
            "text/plain": [
              "A10    f    t  All\n",
              "A16               \n",
              "+     94  206  300\n",
              "-    285   86  371\n",
              "All  379  292  671"
            ]
          },
          "metadata": {
            "tags": []
          },
          "execution_count": 197
        }
      ]
    },
    {
      "cell_type": "code",
      "metadata": {
        "id": "ifUCNKzX9-cB",
        "colab_type": "code",
        "colab": {
          "base_uri": "https://localhost:8080/",
          "height": 68
        },
        "outputId": "dce96469-6027-4f4a-a37c-3b54e9caf7a8"
      },
      "source": [
        "observed = pd.crosstab(df['A16'], df['A10']).values\n",
        "print(observed.shape)\n",
        "observed"
      ],
      "execution_count": 218,
      "outputs": [
        {
          "output_type": "stream",
          "text": [
            "(2, 2)\n"
          ],
          "name": "stdout"
        },
        {
          "output_type": "execute_result",
          "data": {
            "text/plain": [
              "array([[ 94, 206],\n",
              "       [285,  86]])"
            ]
          },
          "metadata": {
            "tags": []
          },
          "execution_count": 218
        }
      ]
    },
    {
      "cell_type": "code",
      "metadata": {
        "id": "KTzIvs889-UX",
        "colab_type": "code",
        "colab": {
          "base_uri": "https://localhost:8080/",
          "height": 51
        },
        "outputId": "157e9858-bab8-4864-9a35-1e7679365fb2"
      },
      "source": [
        "chi_squared, p_value, dof, expected = stats.chi2_contingency(observed)\n",
        "print(chi_squared, p_value, dof, expected)"
      ],
      "execution_count": 219,
      "outputs": [
        {
          "output_type": "stream",
          "text": [
            "137.77715144095052 8.153165456905943e-32 1 [[169.4485842 130.5514158]\n",
            " [209.5514158 161.4485842]]\n"
          ],
          "name": "stdout"
        }
      ]
    },
    {
      "cell_type": "markdown",
      "metadata": {
        "id": "Wl5sYj9V7pdN",
        "colab_type": "text"
      },
      "source": [
        "###A12"
      ]
    },
    {
      "cell_type": "code",
      "metadata": {
        "id": "gtGfGQy06Nvb",
        "colab_type": "code",
        "colab": {
          "base_uri": "https://localhost:8080/",
          "height": 173
        },
        "outputId": "c4418a73-3253-4f4f-ede8-cc415438b171"
      },
      "source": [
        "pd.crosstab(df['A16'], df['A12'], margins=True)"
      ],
      "execution_count": 198,
      "outputs": [
        {
          "output_type": "execute_result",
          "data": {
            "text/html": [
              "<div>\n",
              "<style scoped>\n",
              "    .dataframe tbody tr th:only-of-type {\n",
              "        vertical-align: middle;\n",
              "    }\n",
              "\n",
              "    .dataframe tbody tr th {\n",
              "        vertical-align: top;\n",
              "    }\n",
              "\n",
              "    .dataframe thead th {\n",
              "        text-align: right;\n",
              "    }\n",
              "</style>\n",
              "<table border=\"1\" class=\"dataframe\">\n",
              "  <thead>\n",
              "    <tr style=\"text-align: right;\">\n",
              "      <th>A12</th>\n",
              "      <th>f</th>\n",
              "      <th>t</th>\n",
              "      <th>All</th>\n",
              "    </tr>\n",
              "    <tr>\n",
              "      <th>A16</th>\n",
              "      <th></th>\n",
              "      <th></th>\n",
              "      <th></th>\n",
              "    </tr>\n",
              "  </thead>\n",
              "  <tbody>\n",
              "    <tr>\n",
              "      <th>+</th>\n",
              "      <td>154</td>\n",
              "      <td>146</td>\n",
              "      <td>300</td>\n",
              "    </tr>\n",
              "    <tr>\n",
              "      <th>-</th>\n",
              "      <td>206</td>\n",
              "      <td>165</td>\n",
              "      <td>371</td>\n",
              "    </tr>\n",
              "    <tr>\n",
              "      <th>All</th>\n",
              "      <td>360</td>\n",
              "      <td>311</td>\n",
              "      <td>671</td>\n",
              "    </tr>\n",
              "  </tbody>\n",
              "</table>\n",
              "</div>"
            ],
            "text/plain": [
              "A12    f    t  All\n",
              "A16               \n",
              "+    154  146  300\n",
              "-    206  165  371\n",
              "All  360  311  671"
            ]
          },
          "metadata": {
            "tags": []
          },
          "execution_count": 198
        }
      ]
    },
    {
      "cell_type": "code",
      "metadata": {
        "id": "UhhT5OLu-HsA",
        "colab_type": "code",
        "colab": {
          "base_uri": "https://localhost:8080/",
          "height": 68
        },
        "outputId": "4f8e5db3-9f6e-4cb8-dfc4-d0093cae0980"
      },
      "source": [
        "observed = pd.crosstab(df['A16'], df['A12']).values\n",
        "print(observed.shape)\n",
        "observed"
      ],
      "execution_count": 220,
      "outputs": [
        {
          "output_type": "stream",
          "text": [
            "(2, 2)\n"
          ],
          "name": "stdout"
        },
        {
          "output_type": "execute_result",
          "data": {
            "text/plain": [
              "array([[154, 146],\n",
              "       [206, 165]])"
            ]
          },
          "metadata": {
            "tags": []
          },
          "execution_count": 220
        }
      ]
    },
    {
      "cell_type": "code",
      "metadata": {
        "id": "woJNilOn-Hhe",
        "colab_type": "code",
        "colab": {
          "base_uri": "https://localhost:8080/",
          "height": 51
        },
        "outputId": "f9185b32-d099-4987-c46c-e88b48488842"
      },
      "source": [
        "chi_squared, p_value, dof, expected = stats.chi2_contingency(observed)\n",
        "print(chi_squared, p_value, dof, expected)"
      ],
      "execution_count": 221,
      "outputs": [
        {
          "output_type": "stream",
          "text": [
            "1.0098120572639042 0.3149478684803797 1 [[160.9538003 139.0461997]\n",
            " [199.0461997 171.9538003]]\n"
          ],
          "name": "stdout"
        }
      ]
    },
    {
      "cell_type": "markdown",
      "metadata": {
        "id": "_RR9Eb3_7rBq",
        "colab_type": "text"
      },
      "source": [
        "###A13"
      ]
    },
    {
      "cell_type": "code",
      "metadata": {
        "id": "1-UpFEEY6NoX",
        "colab_type": "code",
        "colab": {
          "base_uri": "https://localhost:8080/",
          "height": 173
        },
        "outputId": "38c4a5cf-47e3-4db5-e96b-e1ea2187f9b7"
      },
      "source": [
        "pd.crosstab(df['A16'], df['A13'], margins=True)"
      ],
      "execution_count": 199,
      "outputs": [
        {
          "output_type": "execute_result",
          "data": {
            "text/html": [
              "<div>\n",
              "<style scoped>\n",
              "    .dataframe tbody tr th:only-of-type {\n",
              "        vertical-align: middle;\n",
              "    }\n",
              "\n",
              "    .dataframe tbody tr th {\n",
              "        vertical-align: top;\n",
              "    }\n",
              "\n",
              "    .dataframe thead th {\n",
              "        text-align: right;\n",
              "    }\n",
              "</style>\n",
              "<table border=\"1\" class=\"dataframe\">\n",
              "  <thead>\n",
              "    <tr style=\"text-align: right;\">\n",
              "      <th>A13</th>\n",
              "      <th>g</th>\n",
              "      <th>p</th>\n",
              "      <th>s</th>\n",
              "      <th>All</th>\n",
              "    </tr>\n",
              "    <tr>\n",
              "      <th>A16</th>\n",
              "      <th></th>\n",
              "      <th></th>\n",
              "      <th></th>\n",
              "      <th></th>\n",
              "    </tr>\n",
              "  </thead>\n",
              "  <tbody>\n",
              "    <tr>\n",
              "      <th>+</th>\n",
              "      <td>284</td>\n",
              "      <td>1</td>\n",
              "      <td>15</td>\n",
              "      <td>300</td>\n",
              "    </tr>\n",
              "    <tr>\n",
              "      <th>-</th>\n",
              "      <td>330</td>\n",
              "      <td>1</td>\n",
              "      <td>40</td>\n",
              "      <td>371</td>\n",
              "    </tr>\n",
              "    <tr>\n",
              "      <th>All</th>\n",
              "      <td>614</td>\n",
              "      <td>2</td>\n",
              "      <td>55</td>\n",
              "      <td>671</td>\n",
              "    </tr>\n",
              "  </tbody>\n",
              "</table>\n",
              "</div>"
            ],
            "text/plain": [
              "A13    g  p   s  All\n",
              "A16                 \n",
              "+    284  1  15  300\n",
              "-    330  1  40  371\n",
              "All  614  2  55  671"
            ]
          },
          "metadata": {
            "tags": []
          },
          "execution_count": 199
        }
      ]
    },
    {
      "cell_type": "code",
      "metadata": {
        "id": "72lweaYm-uZK",
        "colab_type": "code",
        "colab": {
          "base_uri": "https://localhost:8080/",
          "height": 68
        },
        "outputId": "a24f1443-914d-43ac-9def-827380493b13"
      },
      "source": [
        "observed = pd.crosstab(df['A16'], df['A13']).values\n",
        "print(observed.shape)\n",
        "observed"
      ],
      "execution_count": 222,
      "outputs": [
        {
          "output_type": "stream",
          "text": [
            "(2, 3)\n"
          ],
          "name": "stdout"
        },
        {
          "output_type": "execute_result",
          "data": {
            "text/plain": [
              "array([[284,   1,  15],\n",
              "       [330,   1,  40]])"
            ]
          },
          "metadata": {
            "tags": []
          },
          "execution_count": 222
        }
      ]
    },
    {
      "cell_type": "code",
      "metadata": {
        "id": "nEVS2QjN-uPj",
        "colab_type": "code",
        "colab": {
          "base_uri": "https://localhost:8080/",
          "height": 51
        },
        "outputId": "6f46dcdf-a5f1-4053-e4dd-507baebdd755"
      },
      "source": [
        "chi_squared, p_value, dof, expected = stats.chi2_contingency(observed)\n",
        "print(chi_squared, p_value, dof, expected)"
      ],
      "execution_count": 223,
      "outputs": [
        {
          "output_type": "stream",
          "text": [
            "7.379849235127643 0.024973884563579983 2 [[274.51564829   0.89418778  24.59016393]\n",
            " [339.48435171   1.10581222  30.40983607]]\n"
          ],
          "name": "stdout"
        }
      ]
    },
    {
      "cell_type": "code",
      "metadata": {
        "id": "UVgbHqwP4MRH",
        "colab_type": "code",
        "colab": {}
      },
      "source": [
        "# for feat in df.columns:\n",
        "  \n",
        "#   if feat == 'A16':\n",
        "#     next\n",
        "#   else:\n",
        "#     plus = df[df['A16'] == '1'][feat]\n",
        "#     minus = df[df['A16'] == '0'][feat]\n",
        "    \n",
        "#     mu, sigma = np.mean(df[feat]), np.std(df[feat])\n",
        "#     mu_plus, sigma_plus = np.mean(plus), np.std(plus)\n",
        "#     mu_minus, sigma_minus = np.mean(minus), np.std(minus)\n",
        "\n",
        "#     ci = stats.norm.interval(0.95, loc=mu, scale=sigma/np.sqrt(len(df[feat])))\n",
        "#     ci_plus = stats.norm.interval(0.95, loc=mu_plus, scale=sigma_plus/np.sqrt(len(plus)))\n",
        "#     ci_minus = stats.norm.interval(0.95, loc=mu_minus, scale=sigma_minus/np.sqrt(len(minus)))\n",
        "\n",
        "# print(ci)\n",
        "# print(ci_plus)\n",
        "# print(ci_minus)"
      ],
      "execution_count": 0,
      "outputs": []
    },
    {
      "cell_type": "code",
      "metadata": {
        "id": "W1dE6khSqowM",
        "colab_type": "code",
        "colab": {}
      },
      "source": [
        "# y1 = [mu, mu_r, mu_d]\n",
        "#     yer1 = [ci[1]-mu,ci_d[1]-mu_d, ci_r[1]-mu_r]\n",
        "#     xlength = np.arange(len(y1))\n",
        "     \n",
        "#     color=['g','r','b']\n",
        "#     fig, ax = plt.subplots(figsize=(2,4));\n",
        "#     plt.title(feat)\n",
        "#     plt.ylabel(\"Percentage voted Yes\")\n",
        "#     for i in xlength:\n",
        "#       plt.errorbar(xlength[i], y1[i], yerr=yer1[i],ls='none',marker='o',capsize=7,c=color[i])\n",
        "      \n",
        "#     ax.set_xticks(xlength)\n",
        "#     ax.set_xticklabels(['Total','Rep','Dem'])\n",
        "#     ax.set_yticklabels(['0%','20%','40%','60%','80%','100%'])\n",
        "#     plt.ylim(0, 1)"
      ],
      "execution_count": 0,
      "outputs": []
    },
    {
      "cell_type": "markdown",
      "metadata": {
        "id": "ZM8JckA2bgnp",
        "colab_type": "text"
      },
      "source": [
        "## Part 3 - Analysis and Interpretation\n",
        "\n",
        "Now that you've looked at the data, answer the following questions:\n",
        "\n",
        "- Interpret and explain the two t-tests you ran - what do they tell you about the relationships between the continuous features you selected and the class labels?\n",
        "- Interpret and explain the two Chi-squared tests you ran - what do they tell you about the relationships between the categorical features you selected and the class labels?\n",
        "- What was the most challenging part of this sprint challenge?\n",
        "\n",
        "Answer with text, but feel free to intersperse example code/results or refer to it from earlier."
      ]
    },
    {
      "cell_type": "markdown",
      "metadata": {
        "id": "ixT7SD4kBEt2",
        "colab_type": "text"
      },
      "source": [
        "###Analysis"
      ]
    },
    {
      "cell_type": "markdown",
      "metadata": {
        "id": "LIozLDNG2Uhu",
        "colab_type": "text"
      },
      "source": [
        "It's clear that whatever the A9 and A11 features represent highly impact whether or not a person was accepted for a credit card."
      ]
    },
    {
      "cell_type": "markdown",
      "metadata": {
        "id": "xsfZsB-4BupB",
        "colab_type": "text"
      },
      "source": [
        "**A11 T-test**"
      ]
    },
    {
      "cell_type": "code",
      "metadata": {
        "id": "pdFY-cYRBDWS",
        "colab_type": "code",
        "colab": {
          "base_uri": "https://localhost:8080/",
          "height": 68
        },
        "outputId": "c7f23d12-a249-4c4a-c5a1-b1ea2270cc5e"
      },
      "source": [
        "tstat, pvalue = ttest_ind((plus['A11']), (minus['A11']))\n",
        "print('A11\\n',tstat)\n",
        "print('',pvalue)"
      ],
      "execution_count": 227,
      "outputs": [
        {
          "output_type": "stream",
          "text": [
            "A11\n",
            " 11.614745357569337\n",
            " 1.5418580913707525e-28\n"
          ],
          "name": "stdout"
        }
      ]
    },
    {
      "cell_type": "markdown",
      "metadata": {
        "id": "xJxeZ9XPCD6U",
        "colab_type": "text"
      },
      "source": [
        "**A9 Chi-squared test**"
      ]
    },
    {
      "cell_type": "code",
      "metadata": {
        "id": "WnYzDXOCC5l2",
        "colab_type": "code",
        "colab": {
          "base_uri": "https://localhost:8080/",
          "height": 173
        },
        "outputId": "36fc75e7-6f55-4f10-8c51-05d2bf8f55dd"
      },
      "source": [
        "pd.crosstab(df['A16'], df['A9'], margins=True)"
      ],
      "execution_count": 238,
      "outputs": [
        {
          "output_type": "execute_result",
          "data": {
            "text/html": [
              "<div>\n",
              "<style scoped>\n",
              "    .dataframe tbody tr th:only-of-type {\n",
              "        vertical-align: middle;\n",
              "    }\n",
              "\n",
              "    .dataframe tbody tr th {\n",
              "        vertical-align: top;\n",
              "    }\n",
              "\n",
              "    .dataframe thead th {\n",
              "        text-align: right;\n",
              "    }\n",
              "</style>\n",
              "<table border=\"1\" class=\"dataframe\">\n",
              "  <thead>\n",
              "    <tr style=\"text-align: right;\">\n",
              "      <th>A9</th>\n",
              "      <th>f</th>\n",
              "      <th>t</th>\n",
              "      <th>All</th>\n",
              "    </tr>\n",
              "    <tr>\n",
              "      <th>A16</th>\n",
              "      <th></th>\n",
              "      <th></th>\n",
              "      <th></th>\n",
              "    </tr>\n",
              "  </thead>\n",
              "  <tbody>\n",
              "    <tr>\n",
              "      <th>+</th>\n",
              "      <td>18</td>\n",
              "      <td>282</td>\n",
              "      <td>300</td>\n",
              "    </tr>\n",
              "    <tr>\n",
              "      <th>-</th>\n",
              "      <td>295</td>\n",
              "      <td>76</td>\n",
              "      <td>371</td>\n",
              "    </tr>\n",
              "    <tr>\n",
              "      <th>All</th>\n",
              "      <td>313</td>\n",
              "      <td>358</td>\n",
              "      <td>671</td>\n",
              "    </tr>\n",
              "  </tbody>\n",
              "</table>\n",
              "</div>"
            ],
            "text/plain": [
              "A9     f    t  All\n",
              "A16               \n",
              "+     18  282  300\n",
              "-    295   76  371\n",
              "All  313  358  671"
            ]
          },
          "metadata": {
            "tags": []
          },
          "execution_count": 238
        }
      ]
    },
    {
      "cell_type": "code",
      "metadata": {
        "id": "GhJ7f9iFB__F",
        "colab_type": "code",
        "colab": {
          "base_uri": "https://localhost:8080/",
          "height": 51
        },
        "outputId": "20fbd733-0a6c-40d5-90ce-6c41e0276e22"
      },
      "source": [
        "observed_A9 = pd.crosstab(df['A16'], df['A9']).values\n",
        "chi_squared, p_value, dof, expected = stats.chi2_contingency(observed_A9)\n",
        "print(chi_squared, p_value, dof, expected)"
      ],
      "execution_count": 237,
      "outputs": [
        {
          "output_type": "stream",
          "text": [
            "357.24924571405785 1.1183019749553839e-79 1 [[139.94038748 160.05961252]\n",
            " [173.05961252 197.94038748]]\n"
          ],
          "name": "stdout"
        }
      ]
    }
  ]
}