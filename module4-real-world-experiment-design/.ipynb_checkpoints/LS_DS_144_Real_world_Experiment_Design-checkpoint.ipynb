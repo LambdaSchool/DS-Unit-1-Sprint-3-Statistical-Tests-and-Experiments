{
 "cells": [
  {
   "cell_type": "markdown",
   "metadata": {
    "colab_type": "text",
    "id": "meHdbCmyxDKn"
   },
   "source": [
    "# Lambda School Data Science Module 144\n",
    "## Real-world Experiment Design\n",
    "\n",
    "![Induction experiment](https://upload.wikimedia.org/wikipedia/commons/1/1c/Induction_experiment.png)\n",
    "\n",
    "[Induction experiment, Wikipedia](https://commons.wikimedia.org/wiki/File:Induction_experiment.png)"
   ]
  },
  {
   "cell_type": "markdown",
   "metadata": {
    "colab_type": "text",
    "id": "LayAf_2GxCKc"
   },
   "source": [
    "## Prepare - Learn about JavaScript and Google Analytics"
   ]
  },
  {
   "cell_type": "markdown",
   "metadata": {
    "colab_type": "text",
    "id": "tn7eCITsx5HB"
   },
   "source": [
    "Python is great - but with web applications, it's impossible to avoid JavaScript. The lingua franca of the web, JavaScript runs in all browsers, and thus all front-end code must either be JS or transpiled to it. As a data scientist you don't have to learn JavaScript - but you do have to be aware of it, and being able to figure out snippets of it is an invaluable skill to connect your skills with real-world applications.\n",
    "\n",
    "So, we leave the warm comfort of Python, and venture to a bigger world - check out the [LambdaSchool/AB-Demo repo](https://github.com/LambdaSchool/AB-Demo) and [live experiment](https://lambdaschool.github.io/AB-Demo/) before class.\n",
    "\n",
    "Additionally, sign up for [Google Analytics](https://www.google.com/analytics) - if you're not sure on the steps or what \"property\" to give it, you can put a placeholder or wait until the live lecture. Google also has [Analytics documentation](https://support.google.com/analytics/) that is worth a look.\n",
    "\n",
    "Note - if you use any of the various tracker blocking techniques, it's quite likely you won't show up in Google Analytics. You'll have to disable them to be able to fully test your experiment."
   ]
  },
  {
   "cell_type": "markdown",
   "metadata": {
    "colab_type": "text",
    "id": "RmQDF8OlxEey"
   },
   "source": [
    "## Live Lecture - Using Google Analytics with a live A/B test"
   ]
  },
  {
   "cell_type": "markdown",
   "metadata": {
    "colab_type": "text",
    "id": "C-uO6iZQCT2l"
   },
   "source": [
    "Again we won't do much Python here, but we'll put a few notes and results in the notebook as we go."
   ]
  },
  {
   "cell_type": "markdown",
   "metadata": {
    "colab_type": "text",
    "id": "n0btUZvwxE_T"
   },
   "source": [
    "## Assignment - Set up your own A/B test!"
   ]
  },
  {
   "cell_type": "markdown",
   "metadata": {
    "colab_type": "text",
    "id": "U427Ao84Cfpx"
   },
   "source": [
    "For a baseline, a straight fork of the Lambda School repo is OK. Getting that working with your own Analytics profile is already a task. But if you get through that, stretch goals:\n",
    "\n",
    "1. Explore Google Analytics - it's big and changes frequently, but powerful (can track conversions and events, flows, etc.)\n",
    "2. Customize the experiment to be more interesting/different (try colors!)\n",
    "3. Check out the various tools for setting up A/B experiments (e.g. [Optimizely](https://www.optimizely.com/) and [alternatives](https://alternativeto.net/software/optimizely/))\n",
    "4. Try to get enough traffic to actually have more real data (don't spam people, but do share with friends)\n",
    "5. If you do get more traffic, don't just apply a t-test - dig into the results and use both math and writing to describe your findings"
   ]
  },
  {
   "cell_type": "markdown",
   "metadata": {},
   "source": [
    "Here's a link to my functional A/B test!\n",
    "\n",
    "https://danielmartinalarcon.github.io/AB-Demo/"
   ]
  },
  {
   "cell_type": "code",
   "execution_count": null,
   "metadata": {},
   "outputs": [],
   "source": []
  }
 ],
 "metadata": {
  "colab": {
   "name": "LS DS 144 Real-world Experiment Design.ipynb",
   "provenance": [],
   "version": "0.3.2"
  },
  "kernelspec": {
   "display_name": "Python 3",
   "language": "python",
   "name": "python3"
  },
  "language_info": {
   "codemirror_mode": {
    "name": "ipython",
    "version": 3
   },
   "file_extension": ".py",
   "mimetype": "text/x-python",
   "name": "python",
   "nbconvert_exporter": "python",
   "pygments_lexer": "ipython3",
   "version": "3.7.0"
  }
 },
 "nbformat": 4,
 "nbformat_minor": 1
}
