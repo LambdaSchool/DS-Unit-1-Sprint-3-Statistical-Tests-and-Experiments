{
  "nbformat": 4,
  "nbformat_minor": 0,
  "metadata": {
    "colab": {
      "name": "LS_DS_144_Real_world_Experiment_Design.ipynb",
      "version": "0.3.2",
      "provenance": [],
      "include_colab_link": true
    },
    "kernelspec": {
      "name": "python3",
      "display_name": "Python 3"
    }
  },
  "cells": [
    {
      "cell_type": "markdown",
      "metadata": {
        "id": "view-in-github",
        "colab_type": "text"
      },
      "source": [
        "<a href=\"https://colab.research.google.com/github/hurshd0/DS-Unit-1-Sprint-3-Statistical-Tests-and-Experiments/blob/master/module4-real-world-experiment-design/LS_DS_134_Real_world_Experiment_Design.ipynb\" target=\"_parent\"><img src=\"https://colab.research.google.com/assets/colab-badge.svg\" alt=\"Open In Colab\"/></a>"
      ]
    },
    {
      "cell_type": "markdown",
      "metadata": {
        "id": "meHdbCmyxDKn",
        "colab_type": "text"
      },
      "source": [
        "# Lambda School Data Science Module 144\n",
        "## Real-world Experiment Design\n",
        "\n",
        "![Induction experiment](https://upload.wikimedia.org/wikipedia/commons/1/1c/Induction_experiment.png)\n",
        "\n",
        "[Induction experiment, Wikipedia](https://commons.wikimedia.org/wiki/File:Induction_experiment.png)"
      ]
    },
    {
      "cell_type": "markdown",
      "metadata": {
        "id": "LayAf_2GxCKc",
        "colab_type": "text"
      },
      "source": [
        "## Prepare - Learn about JavaScript and Google Analytics"
      ]
    },
    {
      "cell_type": "markdown",
      "metadata": {
        "id": "tn7eCITsx5HB",
        "colab_type": "text"
      },
      "source": [
        "Python is great - but with web applications, it's impossible to avoid JavaScript. The lingua franca of the web, JavaScript runs in all browsers, and thus all front-end code must either be JS or transpiled to it. As a data scientist you don't have to learn JavaScript - but you do have to be aware of it, and being able to figure out snippets of it is an invaluable skill to connect your skills with real-world applications.\n",
        "\n",
        "So, we leave the warm comfort of Python, and venture to a bigger world - check out the [LambdaSchool/AB-Demo repo](https://github.com/LambdaSchool/AB-Demo) and [live experiment](https://lambdaschool.github.io/AB-Demo/) before class.\n",
        "\n",
        "Additionally, sign up for [Google Analytics](https://www.google.com/analytics) - if you're not sure on the steps or what \"property\" to give it, you can put a placeholder or wait until the live lecture. Google also has [Analytics documentation](https://support.google.com/analytics/) that is worth a look.\n",
        "\n",
        "Note - if you use any of the various tracker blocking techniques, it's quite likely you won't show up in Google Analytics. You'll have to disable them to be able to fully test your experiment."
      ]
    },
    {
      "cell_type": "markdown",
      "metadata": {
        "id": "RmQDF8OlxEey",
        "colab_type": "text"
      },
      "source": [
        "## Live Lecture - Using Google Analytics with a live A/B test"
      ]
    },
    {
      "cell_type": "markdown",
      "metadata": {
        "id": "C-uO6iZQCT2l",
        "colab_type": "text"
      },
      "source": [
        "Again we won't do much Python here, but we'll put a few notes and results in the notebook as we go."
      ]
    },
    {
      "cell_type": "markdown",
      "metadata": {
        "id": "n0btUZvwxE_T",
        "colab_type": "text"
      },
      "source": [
        "## Assignment - Set up your own A/B test!"
      ]
    },
    {
      "cell_type": "markdown",
      "metadata": {
        "id": "U427Ao84Cfpx",
        "colab_type": "text"
      },
      "source": [
        "For a baseline, a straight fork of the Lambda School repo is OK. Getting that working with your own Analytics profile is already a task. But if you get through that, stretch goals:\n",
        "\n",
        "1. Explore Google Analytics - it's big and changes frequently, but powerful (can track conversions and events, flows, etc.)\n",
        "2. Customize the experiment to be more interesting/different (try colors!)\n",
        "3. Check out the various tools for setting up A/B experiments (e.g. [Optimizely](https://www.optimizely.com/) and [alternatives](https://alternativeto.net/software/optimizely/))\n",
        "4. Try to get enough traffic to actually have more real data (don't spam people, but do share with friends)\n",
        "5. If you do get more traffic, don't just apply a t-test - dig into the results and use both math and writing to describe your findings\n",
        "\n",
        "Additionally, today it is a good idea to go back and review the frequentist hypothesis testing material from the first two modules. And if you feel on top of things - you can use your newfound GitHub Pages and Google Analytics skills to build/iterate a portfolio page, and maybe even instrument it with Analytics!"
      ]
    },
    {
      "cell_type": "markdown",
      "metadata": {
        "id": "vilrDBUNoDOa",
        "colab_type": "text"
      },
      "source": [
        "# Analyzing A/B Test Results"
      ]
    },
    {
      "cell_type": "markdown",
      "metadata": {
        "id": "iLD7k-WGRuyk",
        "colab_type": "text"
      },
      "source": [
        "Added different color buttons, to distinguish experiment, so we can test click rate based on type of color user prefer:\n",
        "\n",
        "A/B Testing Site: https://hurshdesai.com/AB-Demo/\n",
        "\n",
        "Now let's load the data:"
      ]
    },
    {
      "cell_type": "code",
      "metadata": {
        "id": "PHaNRUSAo9ke",
        "colab_type": "code",
        "colab": {}
      },
      "source": [
        "import pandas as pd\n",
        "import matplotlib.pyplot as plt\n",
        "import seaborn as sns\n",
        "from scipy import stats\n",
        "# Matplotlib and Seaborn params\n",
        "from matplotlib import rcParams\n",
        "rcParams['figure.figsize'] = 10, 6\n",
        "# Pick style of plots \n",
        "plt.style.use('seaborn-darkgrid')\n",
        "sns.set_context('notebook')"
      ],
      "execution_count": 0,
      "outputs": []
    },
    {
      "cell_type": "code",
      "metadata": {
        "id": "qwUZ98pHpSh-",
        "colab_type": "code",
        "colab": {
          "base_uri": "https://localhost:8080/",
          "height": 257
        },
        "outputId": "1d3b6390-c656-4ee9-8d4b-2b67a1fdf4bb"
      },
      "source": [
        "!rm -f 'ab_test_analytics_result.csv'\n",
        "!wget -q 'https://raw.githubusercontent.com/hurshd0/DS-Unit-1-Sprint-3-Statistical-Tests-and-Experiments/master/module4-real-world-experiment-design/ab_test_analytics_result.csv'\n",
        "!ls -lh\n",
        "!head 'ab_test_analytics_result.csv'"
      ],
      "execution_count": 6,
      "outputs": [
        {
          "output_type": "stream",
          "text": [
            "total 8.0K\n",
            "-rw-r--r-- 1 root root  293 Jul 26 00:21 ab_test_analytics_result.csv\n",
            "drwxr-xr-x 1 root root 4.0K Jul 19 16:14 sample_data\n",
            "# ----------------------------------------\n",
            "# All Web Site Data\n",
            "# Top Events\n",
            "# 20190725-20190725\n",
            "# ----------------------------------------\n",
            "\n",
            "Event Action,Total Events,Unique Events,Event Value,Avg. Value\n",
            "stern,44,22,0,0.00\n",
            "nice,18,14,0,0.00\n",
            ",62,36,0,0.00\n"
          ],
          "name": "stdout"
        }
      ]
    },
    {
      "cell_type": "code",
      "metadata": {
        "id": "HuSzUnq5qEE-",
        "colab_type": "code",
        "colab": {
          "base_uri": "https://localhost:8080/",
          "height": 202
        },
        "outputId": "8b8fb832-0634-4c1a-bcdb-fe347189d447"
      },
      "source": [
        "!tail 'ab_test_analytics_result.csv'"
      ],
      "execution_count": 7,
      "outputs": [
        {
          "output_type": "stream",
          "text": [
            "# ----------------------------------------\n",
            "\n",
            "Event Action,Total Events,Unique Events,Event Value,Avg. Value\n",
            "stern,44,22,0,0.00\n",
            "nice,18,14,0,0.00\n",
            ",62,36,0,0.00\n",
            "\n",
            "Day Index,Total Events\n",
            "7/25/19,62\n",
            ",62\n"
          ],
          "name": "stdout"
        }
      ]
    },
    {
      "cell_type": "code",
      "metadata": {
        "id": "x-z3cdPfqTDb",
        "colab_type": "code",
        "colab": {
          "base_uri": "https://localhost:8080/",
          "height": 35
        },
        "outputId": "aa0c8464-bb57-40ad-bf42-c60c4d0a8da2"
      },
      "source": [
        "!wc -l 'ab_test_analytics_result.csv'"
      ],
      "execution_count": 8,
      "outputs": [
        {
          "output_type": "stream",
          "text": [
            "14 ab_test_analytics_result.csv\n"
          ],
          "name": "stdout"
        }
      ]
    },
    {
      "cell_type": "code",
      "metadata": {
        "id": "V_kVS2UUnbI9",
        "colab_type": "code",
        "colab": {
          "base_uri": "https://localhost:8080/",
          "height": 201
        },
        "outputId": "844fbf7f-012f-43bc-c26d-4c4af15d2448"
      },
      "source": [
        "df = pd.read_csv('ab_test_analytics_result.csv', index_col=0, usecols = ['Event Action', 'Total Events', 'Unique Events'], comment='#', skipfooter=5)\n",
        "df"
      ],
      "execution_count": 20,
      "outputs": [
        {
          "output_type": "stream",
          "text": [
            "/usr/local/lib/python3.6/dist-packages/ipykernel_launcher.py:1: ParserWarning: Falling back to the 'python' engine because the 'c' engine does not support skipfooter; you can avoid this warning by specifying engine='python'.\n",
            "  \"\"\"Entry point for launching an IPython kernel.\n"
          ],
          "name": "stderr"
        },
        {
          "output_type": "execute_result",
          "data": {
            "text/html": [
              "<div>\n",
              "<style scoped>\n",
              "    .dataframe tbody tr th:only-of-type {\n",
              "        vertical-align: middle;\n",
              "    }\n",
              "\n",
              "    .dataframe tbody tr th {\n",
              "        vertical-align: top;\n",
              "    }\n",
              "\n",
              "    .dataframe thead th {\n",
              "        text-align: right;\n",
              "    }\n",
              "</style>\n",
              "<table border=\"1\" class=\"dataframe\">\n",
              "  <thead>\n",
              "    <tr style=\"text-align: right;\">\n",
              "      <th></th>\n",
              "      <th>Total Events</th>\n",
              "      <th>Unique Events</th>\n",
              "    </tr>\n",
              "    <tr>\n",
              "      <th>Event Action</th>\n",
              "      <th></th>\n",
              "      <th></th>\n",
              "    </tr>\n",
              "  </thead>\n",
              "  <tbody>\n",
              "    <tr>\n",
              "      <th>stern</th>\n",
              "      <td>44</td>\n",
              "      <td>22</td>\n",
              "    </tr>\n",
              "    <tr>\n",
              "      <th>nice</th>\n",
              "      <td>18</td>\n",
              "      <td>14</td>\n",
              "    </tr>\n",
              "  </tbody>\n",
              "</table>\n",
              "</div>"
            ],
            "text/plain": [
              "              Total Events  Unique Events\n",
              "Event Action                             \n",
              "stern                   44             22\n",
              "nice                    18             14"
            ]
          },
          "metadata": {
            "tags": []
          },
          "execution_count": 20
        }
      ]
    },
    {
      "cell_type": "code",
      "metadata": {
        "id": "xlJA7Gs2sjb5",
        "colab_type": "code",
        "colab": {
          "base_uri": "https://localhost:8080/",
          "height": 144
        },
        "outputId": "cfb3c0a6-e0aa-4078-b284-32d071d92501"
      },
      "source": [
        "df / df.sum(axis=0)"
      ],
      "execution_count": 22,
      "outputs": [
        {
          "output_type": "execute_result",
          "data": {
            "text/html": [
              "<div>\n",
              "<style scoped>\n",
              "    .dataframe tbody tr th:only-of-type {\n",
              "        vertical-align: middle;\n",
              "    }\n",
              "\n",
              "    .dataframe tbody tr th {\n",
              "        vertical-align: top;\n",
              "    }\n",
              "\n",
              "    .dataframe thead th {\n",
              "        text-align: right;\n",
              "    }\n",
              "</style>\n",
              "<table border=\"1\" class=\"dataframe\">\n",
              "  <thead>\n",
              "    <tr style=\"text-align: right;\">\n",
              "      <th></th>\n",
              "      <th>Total Events</th>\n",
              "      <th>Unique Events</th>\n",
              "    </tr>\n",
              "    <tr>\n",
              "      <th>Event Action</th>\n",
              "      <th></th>\n",
              "      <th></th>\n",
              "    </tr>\n",
              "  </thead>\n",
              "  <tbody>\n",
              "    <tr>\n",
              "      <th>stern</th>\n",
              "      <td>0.709677</td>\n",
              "      <td>0.611111</td>\n",
              "    </tr>\n",
              "    <tr>\n",
              "      <th>nice</th>\n",
              "      <td>0.290323</td>\n",
              "      <td>0.388889</td>\n",
              "    </tr>\n",
              "  </tbody>\n",
              "</table>\n",
              "</div>"
            ],
            "text/plain": [
              "              Total Events  Unique Events\n",
              "Event Action                             \n",
              "stern             0.709677       0.611111\n",
              "nice              0.290323       0.388889"
            ]
          },
          "metadata": {
            "tags": []
          },
          "execution_count": 22
        }
      ]
    },
    {
      "cell_type": "code",
      "metadata": {
        "id": "P2c6Q7YKxyuM",
        "colab_type": "code",
        "colab": {
          "base_uri": "https://localhost:8080/",
          "height": 173
        },
        "outputId": "01901bab-bef8-414d-e807-69915f2aeed8"
      },
      "source": [
        "from statsmodels import stats"
      ],
      "execution_count": 24,
      "outputs": [
        {
          "output_type": "error",
          "ename": "NameError",
          "evalue": "ignored",
          "traceback": [
            "\u001b[0;31m---------------------------------------------------------------------------\u001b[0m",
            "\u001b[0;31mNameError\u001b[0m                                 Traceback (most recent call last)",
            "\u001b[0;32m<ipython-input-24-2d5c3a19aba4>\u001b[0m in \u001b[0;36m<module>\u001b[0;34m()\u001b[0m\n\u001b[0;32m----> 1\u001b[0;31m \u001b[0mscipy\u001b[0m\u001b[0;34m.\u001b[0m\u001b[0mstats\u001b[0m\u001b[0;34m.\u001b[0m\u001b[0mzscore\u001b[0m\u001b[0;34m\u001b[0m\u001b[0;34m\u001b[0m\u001b[0m\n\u001b[0m",
            "\u001b[0;31mNameError\u001b[0m: name 'scipy' is not defined"
          ]
        }
      ]
    },
    {
      "cell_type": "markdown",
      "metadata": {
        "id": "fFhbnfDCna1m",
        "colab_type": "text"
      },
      "source": [
        ""
      ]
    },
    {
      "cell_type": "markdown",
      "metadata": {
        "id": "R2zgFT0cxBzy",
        "colab_type": "text"
      },
      "source": [
        "## Resources"
      ]
    },
    {
      "cell_type": "markdown",
      "metadata": {
        "id": "QVnoP22VxVyC",
        "colab_type": "text"
      },
      "source": [
        "- [Demo Google Analytics Data](https://support.google.com/analytics/answer/6367342?hl=en) - an Analytics profile you can add to your account with real data from the Google swag store\n",
        "- [Design of Experiment](https://explorable.com/design-of-experiment) - an essay summarizing some of the things to be aware of when designing and running an experiment"
      ]
    }
  ]
}