{
  "nbformat": 4,
  "nbformat_minor": 0,
  "metadata": {
    "colab": {
      "name": "LS_DS_144_Real_world_Experiment_Design.ipynb",
      "version": "0.3.2",
      "provenance": [],
      "include_colab_link": true
    },
    "kernelspec": {
      "name": "python3",
      "display_name": "Python 3"
    }
  },
  "cells": [
    {
      "cell_type": "markdown",
      "metadata": {
        "id": "view-in-github",
        "colab_type": "text"
      },
      "source": [
        "<a href=\"https://colab.research.google.com/github/AndrewMarksArt/DS-Unit-1-Sprint-3-Statistical-Tests-and-Experiments/blob/master/module4-real-world-experiment-design/LS_DS_134_Real_world_Experiment_Design.ipynb\" target=\"_parent\"><img src=\"https://colab.research.google.com/assets/colab-badge.svg\" alt=\"Open In Colab\"/></a>"
      ]
    },
    {
      "cell_type": "markdown",
      "metadata": {
        "id": "meHdbCmyxDKn",
        "colab_type": "text"
      },
      "source": [
        "# Lambda School Data Science Module 144\n",
        "## Real-world Experiment Design\n",
        "\n",
        "![Induction experiment](https://upload.wikimedia.org/wikipedia/commons/1/1c/Induction_experiment.png)\n",
        "\n",
        "[Induction experiment, Wikipedia](https://commons.wikimedia.org/wiki/File:Induction_experiment.png)"
      ]
    },
    {
      "cell_type": "markdown",
      "metadata": {
        "id": "LayAf_2GxCKc",
        "colab_type": "text"
      },
      "source": [
        "## Prepare - Learn about JavaScript and Google Analytics"
      ]
    },
    {
      "cell_type": "markdown",
      "metadata": {
        "id": "tn7eCITsx5HB",
        "colab_type": "text"
      },
      "source": [
        "Python is great - but with web applications, it's impossible to avoid JavaScript. The lingua franca of the web, JavaScript runs in all browsers, and thus all front-end code must either be JS or transpiled to it. As a data scientist you don't have to learn JavaScript - but you do have to be aware of it, and being able to figure out snippets of it is an invaluable skill to connect your skills with real-world applications.\n",
        "\n",
        "So, we leave the warm comfort of Python, and venture to a bigger world - check out the [LambdaSchool/AB-Demo repo](https://github.com/LambdaSchool/AB-Demo) and [live experiment](https://lambdaschool.github.io/AB-Demo/) before class.\n",
        "\n",
        "Additionally, sign up for [Google Analytics](https://www.google.com/analytics) - if you're not sure on the steps or what \"property\" to give it, you can put a placeholder or wait until the live lecture. Google also has [Analytics documentation](https://support.google.com/analytics/) that is worth a look.\n",
        "\n",
        "Note - if you use any of the various tracker blocking techniques, it's quite likely you won't show up in Google Analytics. You'll have to disable them to be able to fully test your experiment."
      ]
    },
    {
      "cell_type": "markdown",
      "metadata": {
        "id": "RmQDF8OlxEey",
        "colab_type": "text"
      },
      "source": [
        "## Live Lecture - Using Google Analytics with a live A/B test"
      ]
    },
    {
      "cell_type": "markdown",
      "metadata": {
        "id": "C-uO6iZQCT2l",
        "colab_type": "text"
      },
      "source": [
        "Again we won't do much Python here, but we'll put a few notes and results in the notebook as we go."
      ]
    },
    {
      "cell_type": "markdown",
      "metadata": {
        "id": "n0btUZvwxE_T",
        "colab_type": "text"
      },
      "source": [
        "## Assignment - Set up your own A/B test!"
      ]
    },
    {
      "cell_type": "markdown",
      "metadata": {
        "id": "U427Ao84Cfpx",
        "colab_type": "text"
      },
      "source": [
        "For a baseline, a straight fork of the Lambda School repo is OK. Getting that working with your own Analytics profile is already a task. But if you get through that, stretch goals:\n",
        "\n",
        "1. Explore Google Analytics - it's big and changes frequently, but powerful (can track conversions and events, flows, etc.)\n",
        "2. Customize the experiment to be more interesting/different (try colors!)\n",
        "3. Check out the various tools for setting up A/B experiments (e.g. [Optimizely](https://www.optimizely.com/) and [alternatives](https://alternativeto.net/software/optimizely/))\n",
        "4. Try to get enough traffic to actually have more real data (don't spam people, but do share with friends)\n",
        "5. If you do get more traffic, don't just apply a t-test - dig into the results and use both math and writing to describe your findings\n",
        "\n",
        "Additionally, today it is a good idea to go back and review the frequentist hypothesis testing material from the first two modules. And if you feel on top of things - you can use your newfound GitHub Pages and Google Analytics skills to build/iterate a portfolio page, and maybe even instrument it with Analytics!"
      ]
    },
    {
      "cell_type": "markdown",
      "metadata": {
        "id": "gIGNTXRO-3jq",
        "colab_type": "text"
      },
      "source": [
        "##Assignment Question 1\n",
        "Forked Lambdas AB-Demo and set up Google Analytics at [my AB-Demo Site](https://www.andrewmarksart.github.io/AB-Demo/)\n"
      ]
    },
    {
      "cell_type": "markdown",
      "metadata": {
        "id": "bh9w6dZF_ZhZ",
        "colab_type": "text"
      },
      "source": [
        "##Assignment Question 2\n",
        "Updated the experiment by changing the nice and stern buttons and alert messages.\n",
        "\n",
        "- nice now says 'Click to win a prize!' and the alert says you have won a dad joke and has a really bad but great dad joke.\n",
        "\n",
        "- stern now says 'DONT click the button' and the alert says why didn't you listen now we are all doomed."
      ]
    },
    {
      "cell_type": "markdown",
      "metadata": {
        "id": "n_bW5fKy_inP",
        "colab_type": "text"
      },
      "source": [
        "##Assignment Question 3\n",
        "Looking through Optimizely case study on the BBC, reading the link Alex gave us on Multi Arm Bandit Problem.\n",
        "\n",
        "This is an area I am very interested in and will continue to research this area.\n"
      ]
    },
    {
      "cell_type": "markdown",
      "metadata": {
        "id": "mKE2JIhv_iBf",
        "colab_type": "text"
      },
      "source": [
        "##Assignment Question 4\n",
        "unfortunately I'm having lots of trouble getting my site to load/update so I wasn't able to get any traffic.\n",
        "\n",
        "However I have used Google analytics a lot in the past with my families company and our website so I feel comfortable using it."
      ]
    },
    {
      "cell_type": "markdown",
      "metadata": {
        "id": "YkF7dDGs_gRH",
        "colab_type": "text"
      },
      "source": [
        "##Assignment Question 5\n",
        "Didn’t get more traffic to do a t-test or compare the experiment but I can talk to how I used Google Analytics and the data from our business to make decisions.\n",
        "\n",
        "\n",
        "When we first started our family business in the health and wellness industry our target market was older customers who were recovering from injuries or illness. This was inspired by my fathers battle with cancer and how exercising dramatically improved his health during and after treatment. \n",
        "\n",
        "\n",
        "However after a while we noticed that our content and program was converting significantly more with younger women especially those who were new mothers.\n",
        "\n",
        "\n",
        "This realization lead us make changes that led to much higher sales.\n"
      ]
    },
    {
      "cell_type": "markdown",
      "metadata": {
        "id": "R2zgFT0cxBzy",
        "colab_type": "text"
      },
      "source": [
        "## Resources"
      ]
    },
    {
      "cell_type": "markdown",
      "metadata": {
        "id": "QVnoP22VxVyC",
        "colab_type": "text"
      },
      "source": [
        "- [Demo Google Analytics Data](https://support.google.com/analytics/answer/6367342?hl=en) - an Analytics profile you can add to your account with real data from the Google swag store\n",
        "- [Design of Experiment](https://explorable.com/design-of-experiment) - an essay summarizing some of the things to be aware of when designing and running an experiment"
      ]
    }
  ]
}