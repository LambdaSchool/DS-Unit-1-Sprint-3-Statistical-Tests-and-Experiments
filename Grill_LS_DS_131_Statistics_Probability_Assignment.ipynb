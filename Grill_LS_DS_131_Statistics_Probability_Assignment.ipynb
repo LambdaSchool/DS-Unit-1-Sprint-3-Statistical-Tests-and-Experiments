{
  "nbformat": 4,
  "nbformat_minor": 0,
  "metadata": {
    "kernelspec": {
      "display_name": "Python 3",
      "language": "python",
      "name": "python3"
    },
    "language_info": {
      "codemirror_mode": {
        "name": "ipython",
        "version": 3
      },
      "file_extension": ".py",
      "mimetype": "text/x-python",
      "name": "python",
      "nbconvert_exporter": "python",
      "pygments_lexer": "ipython3",
      "version": "3.7.3"
    },
    "colab": {
      "name": "Grill_LS_DS_131_Statistics_Probability_Assignment.ipynb",
      "version": "0.3.2",
      "provenance": [],
      "collapsed_sections": [],
      "include_colab_link": true
    }
  },
  "cells": [
    {
      "cell_type": "markdown",
      "metadata": {
        "id": "view-in-github",
        "colab_type": "text"
      },
      "source": [
        "<a href=\"https://colab.research.google.com/github/serinamarie/DS-Unit-1-Sprint-3-Statistical-Tests-and-Experiments/blob/master/Grill_LS_DS_131_Statistics_Probability_Assignment.ipynb\" target=\"_parent\"><img src=\"https://colab.research.google.com/assets/colab-badge.svg\" alt=\"Open In Colab\"/></a>"
      ]
    },
    {
      "cell_type": "markdown",
      "metadata": {
        "id": "PEjBjX_Nm12r",
        "colab_type": "text"
      },
      "source": [
        "<img align=\"left\" src=\"https://lever-client-logos.s3.amazonaws.com/864372b1-534c-480e-acd5-9711f850815c-1524247202159.png\" width=200>\n",
        "<br></br>\n",
        "<br></br>\n",
        "\n",
        "## *Data Science Unit 1 Sprint 3 Assignment 1*\n",
        "\n",
        "# Apply the t-test to real data\n",
        "\n",
        "Your assignment is to determine which issues have \"statistically significant\" differences between political parties in this [1980s congressional voting data](https://archive.ics.uci.edu/ml/datasets/Congressional+Voting+Records). The data consists of 435 instances (one for each congressperson), a class (democrat or republican), and 16 binary attributes (yes or no for voting for or against certain issues). Be aware - there are missing values!\n",
        "\n",
        "Your goals:\n",
        "\n",
        "1. Load and clean the data (or determine the best method to drop observations when running tests)\n",
        "2. Using hypothesis testing, find an issue that democrats support more than republicans with p < 0.01\n",
        "3. Using hypothesis testing, find an issue that republicans support more than democrats with p < 0.01\n",
        "4. Using hypothesis testing, find an issue where the difference between republicans and democrats has p > 0.1 (i.e. there may not be much of a difference)\n",
        "\n",
        "Note that this data will involve *2 sample* t-tests, because you're comparing averages across two groups (republicans and democrats) rather than a single group against a null hypothesis.\n",
        "\n",
        "Stretch goals:\n",
        "\n",
        "1. Refactor your code into functions so it's easy to rerun with arbitrary variables\n",
        "2. Apply hypothesis testing to your personal project data (for the purposes of this notebook you can type a summary of the hypothesis you formed and tested)"
      ]
    },
    {
      "cell_type": "code",
      "metadata": {
        "id": "QyxbrdHzm12u",
        "colab_type": "code",
        "colab": {}
      },
      "source": [
        "import pandas as pd\n",
        "from scipy.stats import ttest_ind, ttest_ind_from_stats, ttest_rel"
      ],
      "execution_count": 0,
      "outputs": []
    },
    {
      "cell_type": "code",
      "metadata": {
        "id": "1YAxj6uJl3V5",
        "colab_type": "code",
        "colab": {}
      },
      "source": [
        "cols = ['party', 'handicapped_infants', \n",
        "'water_project_cost_sharing',\n",
        "'adoption_of_budget_resolution',\n",
        "'physician_fee_freeze' ,\n",
        "'el_salvador_aid',\n",
        "'religious_groups_in_schools',\n",
        "'anti_satellite_test_ban',\n",
        "'aid_to_nicaraguan_contras',\n",
        "'mx_missile',\n",
        "'immigration',\n",
        "'synfuels_corporation_cutback',\n",
        "'education_spending',\n",
        "'superfund_right_to_sue',\n",
        "'crime',\n",
        "'duty_free_exports',\n",
        "'export_administration_act_south_africa']"
      ],
      "execution_count": 0,
      "outputs": []
    },
    {
      "cell_type": "code",
      "metadata": {
        "id": "MLr-vILZlLyo",
        "colab_type": "code",
        "colab": {
          "base_uri": "https://localhost:8080/",
          "height": 170
        },
        "outputId": "58f5dbd2-6253-4c46-c795-cf781ef94e47"
      },
      "source": [
        "df = pd.read_csv('house-votes-84.data', names= cols)\n",
        "print(df.head())\n",
        "df.shape"
      ],
      "execution_count": 486,
      "outputs": [
        {
          "output_type": "stream",
          "text": [
            "        party  ... export_administration_act_south_africa\n",
            "0  republican  ...                                      y\n",
            "1  republican  ...                                      ?\n",
            "2    democrat  ...                                      n\n",
            "3    democrat  ...                                      y\n",
            "4    democrat  ...                                      y\n",
            "\n",
            "[5 rows x 17 columns]\n"
          ],
          "name": "stdout"
        },
        {
          "output_type": "execute_result",
          "data": {
            "text/plain": [
              "(435, 17)"
            ]
          },
          "metadata": {
            "tags": []
          },
          "execution_count": 486
        }
      ]
    },
    {
      "cell_type": "code",
      "metadata": {
        "id": "eYFrPMFbuxlL",
        "colab_type": "code",
        "colab": {}
      },
      "source": [
        "df = df.drop([183,248])\n",
        "#DROP 183,248 all or almost all null values"
      ],
      "execution_count": 0,
      "outputs": []
    },
    {
      "cell_type": "code",
      "metadata": {
        "id": "GVD-ZTfhxxel",
        "colab_type": "code",
        "colab": {}
      },
      "source": [
        "df['crime'] = df['crime'].str.replace('y','1').str.replace('n','0',).str.replace('?','0.5').astype(float)\n",
        "df['mx_missile'] = df['mx_missile'].str.replace('y','1').str.replace('n','0',).str.replace('?','0.5').astype(float)\n",
        "df['physician_fee_freeze'] = df['physician_fee_freeze'].str.replace('y','1').str.replace('n','0',).str.replace('?','0.5').astype(float)\n",
        "df['immigration'] = df['immigration'].str.replace('y','1').str.replace('n','0',).str.replace('?','0.5').astype(float)\n"
      ],
      "execution_count": 0,
      "outputs": []
    },
    {
      "cell_type": "code",
      "metadata": {
        "id": "GRq_O5QJycS2",
        "colab_type": "code",
        "colab": {}
      },
      "source": [
        "republican = df[df['party'] == 'republican']\n",
        "democrat = df[df['party'] == 'democrat']"
      ],
      "execution_count": 0,
      "outputs": []
    },
    {
      "cell_type": "code",
      "metadata": {
        "id": "T4otiihOzVoT",
        "colab_type": "code",
        "colab": {}
      },
      "source": [
        "rep_on_crime = republican['crime']\n",
        "dem_on_crime = democrat['crime']\n",
        "rep_on_mx = republican['mx_missile']\n",
        "dem_on_mx = democrat['mx_missile']\n",
        "rep_on_fee = republican['physician_fee_freeze']\n",
        "dem_on_fee = democrat['physician_fee_freeze']\n",
        "rep_on_imm = republican['immigration']\n",
        "dem_on_imm = democrat['immigration']"
      ],
      "execution_count": 0,
      "outputs": []
    },
    {
      "cell_type": "code",
      "metadata": {
        "id": "lDrB0DClqis3",
        "colab_type": "code",
        "colab": {
          "base_uri": "https://localhost:8080/",
          "height": 51
        },
        "outputId": "25677fa5-76a3-4dc4-918e-388b177dcc2a"
      },
      "source": [
        "tstat, pvalue = ttest_ind(dem_on_mx, rep_on_mx,equal_var=False)\n",
        "print(tstat)\n",
        "print(pvalue)"
      ],
      "execution_count": 491,
      "outputs": [
        {
          "output_type": "stream",
          "text": [
            "17.314211371741084\n",
            "6.346304242762773e-51\n"
          ],
          "name": "stdout"
        }
      ]
    },
    {
      "cell_type": "code",
      "metadata": {
        "id": "w4Fc5TqtG-b4",
        "colab_type": "code",
        "colab": {
          "base_uri": "https://localhost:8080/",
          "height": 51
        },
        "outputId": "8207f6af-8ada-441c-e7c2-8d82f5783b21"
      },
      "source": [
        "tstat, pvalue = ttest_ind(rep_on_imm, dem_on_imm)\n",
        "print(tstat)\n",
        "print(pvalue)\n",
        "#Highest p-value I could find"
      ],
      "execution_count": 497,
      "outputs": [
        {
          "output_type": "stream",
          "text": [
            "1.7356788302177497\n",
            "0.08333534129952935\n"
          ],
          "name": "stdout"
        }
      ]
    },
    {
      "cell_type": "code",
      "metadata": {
        "id": "D-6iU4rd1Ryx",
        "colab_type": "code",
        "colab": {
          "base_uri": "https://localhost:8080/",
          "height": 51
        },
        "outputId": "604e0282-5a64-4419-a77c-eb5f526b822e"
      },
      "source": [
        "tstat, pvalue = ttest_ind(rep_on_fee, dem_on_fee,)\n",
        "print(tstat)\n",
        "print(pvalue)"
      ],
      "execution_count": 494,
      "outputs": [
        {
          "output_type": "stream",
          "text": [
            "46.66703352340275\n",
            "1.2879342225217048e-170\n"
          ],
          "name": "stdout"
        }
      ]
    },
    {
      "cell_type": "code",
      "metadata": {
        "id": "-BQlCNJs0Grq",
        "colab_type": "code",
        "colab": {
          "base_uri": "https://localhost:8080/",
          "height": 296
        },
        "outputId": "2bffe1ea-b7d4-482a-e957-47c1e0af6736"
      },
      "source": [
        "import seaborn as sns\n",
        "sns.distplot(rep_on_mx, color='r', label='Republican').set_title(\"Distribution of Votes on MX Missle\")\n",
        "sns.distplot(dem_on_mx, color='b', label=\"Democrat\")\n",
        "plt.xticks([0,1])\n",
        "plt.text(x=-0.1, y=12, s='Voted No')\n",
        "plt.text(x=0.65, y=6, s='Voted Yes')\n",
        "plt.legend();\n"
      ],
      "execution_count": 495,
      "outputs": [
        {
          "output_type": "display_data",
          "data": {
            "image/png": "[encoded data removed]",
            "text/plain": [
              "<Figure size 432x288 with 1 Axes>"
            ]
          },
          "metadata": {
            "tags": []
          }
        }
      ]
    },
    {
      "cell_type": "code",
      "metadata": {
        "id": "I6qffHXY2JvU",
        "colab_type": "code",
        "colab": {
          "base_uri": "https://localhost:8080/",
          "height": 296
        },
        "outputId": "89ce0749-d9e1-4ee1-ed50-19add0353a5e"
      },
      "source": [
        "sns.distplot(dem_on_fee, color='b', label=\"Democrat\")\n",
        "\n",
        "sns.distplot(rep_on_fee, color='r', label=\"Republican\").set_title(\"Distribution of Votes on the Physician Fee Freeze\")\n",
        "\n",
        "plt.xticks([0,1])\n",
        "plt.text(x=0.1, y=12, s='Voted No')\n",
        "plt.text(x=0.75, y=10, s='Voted Yes')\n",
        "plt.legend();"
      ],
      "execution_count": 496,
      "outputs": [
        {
          "output_type": "display_data",
          "data": {
            "image/png": "[encoded data removed]",
            "text/plain": [
              "<Figure size 432x288 with 1 Axes>"
            ]
          },
          "metadata": {
            "tags": []
          }
        }
      ]
    },
    {
      "cell_type": "code",
      "metadata": {
        "id": "uqoa9s52JWZi",
        "colab_type": "code",
        "colab": {
          "base_uri": "https://localhost:8080/",
          "height": 295
        },
        "outputId": "09b9c45a-2f3d-401c-efb6-55a20ae33800"
      },
      "source": [
        "import seaborn as sns\n",
        "sns.distplot(rep_on_imm, color='r', label='Republican').set_title(\"Similar Voting on Immigration\")\n",
        "sns.distplot(dem_on_imm, color='b', label=\"Democrat\")\n",
        "plt.text(x=-.20, y=.25, s='Voted No')\n",
        "plt.text(x=.8, y=.25, s='Voted Yes')\n",
        "plt.legend();\n"
      ],
      "execution_count": 510,
      "outputs": [
        {
          "output_type": "display_data",
          "data": {
            "image/png": "[encoded data removed]",
            "text/plain": [
              "<Figure size 432x288 with 1 Axes>"
            ]
          },
          "metadata": {
            "tags": []
          }
        }
      ]
    },
    {
      "cell_type": "code",
      "metadata": {
        "id": "U4nd04xoJZwO",
        "colab_type": "code",
        "colab": {
          "base_uri": "https://localhost:8080/",
          "height": 85
        },
        "outputId": "db9a5e3a-47b3-49e9-cfa7-5d7cb21f9570"
      },
      "source": [
        "rep_on_imm.value_counts()"
      ],
      "execution_count": 511,
      "outputs": [
        {
          "output_type": "execute_result",
          "data": {
            "text/plain": [
              "1.0    92\n",
              "0.0    73\n",
              "0.5     2\n",
              "Name: immigration, dtype: int64"
            ]
          },
          "metadata": {
            "tags": []
          },
          "execution_count": 511
        }
      ]
    },
    {
      "cell_type": "code",
      "metadata": {
        "id": "_NJOpAYEJ6mV",
        "colab_type": "code",
        "colab": {}
      },
      "source": [
        ""
      ],
      "execution_count": 0,
      "outputs": []
    }
  ]
}