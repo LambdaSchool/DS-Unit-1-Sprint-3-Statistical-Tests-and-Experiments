{
  "nbformat": 4,
  "nbformat_minor": 0,
  "metadata": {
    "colab": {
      "name": "Krista Shepherd, Nayomi Chibana - Thursday June 13th.ipynb",
      "version": "0.3.2",
      "provenance": [],
      "include_colab_link": true
    },
    "kernelspec": {
      "name": "python3",
      "display_name": "Python 3"
    }
  },
  "cells": [
    {
      "cell_type": "markdown",
      "metadata": {
        "id": "view-in-github",
        "colab_type": "text"
      },
      "source": [
        "<a href=\"https://colab.research.google.com/github/nchibana/DS-Unit-1-Sprint-3-Statistical-Tests-and-Experiments/blob/master/Krista_Shepherd%2C_Nayomi_Chibana_Thursday_June_13th.ipynb\" target=\"_parent\"><img src=\"https://colab.research.google.com/assets/colab-badge.svg\" alt=\"Open In Colab\"/></a>"
      ]
    },
    {
      "cell_type": "markdown",
      "metadata": {
        "id": "iRL19Gj6-dvw",
        "colab_type": "text"
      },
      "source": [
        "# Build your own statistics library\n",
        "\n",
        "# _no imports allowed_ besides the ones already here\n",
        "\n",
        "find the math on wikipedia, but don't google for code. "
      ]
    },
    {
      "cell_type": "code",
      "metadata": {
        "id": "yH5BxWkx-ZG_",
        "colab_type": "code",
        "colab": {}
      },
      "source": [
        "import matplotlib.pyplot as plt\n",
        "from numpy import linspace, pi, sqrt, divide, exp"
      ],
      "execution_count": 0,
      "outputs": []
    },
    {
      "cell_type": "markdown",
      "metadata": {
        "id": "s247WSRM-gzF",
        "colab_type": "text"
      },
      "source": [
        "**Note**: `exp` is the function `lambda x: e ** x` where `e` is _euler's constant_. _Euler's constant_ is exceptional because `exp` is the only function who's value at every point is the same as the rate of change at that point. `divide(a, b)` is another way of writing `a/b`. "
      ]
    },
    {
      "cell_type": "code",
      "metadata": {
        "id": "jAx3Xhwj-igC",
        "colab_type": "code",
        "colab": {}
      },
      "source": [
        "def mean(numbers): \n",
        "    total = sum(numbers)\n",
        "    mean = total / len(numbers)\n",
        "    return mean\n",
        "\n",
        "def variance(numbers): \n",
        "    for i in numbers:\n",
        "      list = []\n",
        "      mean = sum(numbers) / len(numbers)\n",
        "      squared = (i - mean)**2\n",
        "      list.append(squared)\n",
        "      total = sum(list)\n",
        "      var = total/(len(numbers)-1)\n",
        "      \n",
        "      return var\n",
        "    \n",
        "\n",
        "def stdv(xs): \n",
        "    '''take: data as a list\n",
        "        return: its standard deviation\n",
        "    '''\n",
        "    pass\n",
        "\n",
        "def covariance(xs, ys): \n",
        "    '''take: two lists. They could be an equal number \n",
        "    of draws from two random variables, or two features in a dataset.\n",
        "    return: the covariance\n",
        "    ''' \n",
        "    pass\n",
        "\n",
        "def correlation(xs, ys): \n",
        "    '''take: two lists, as above. \n",
        "    return: pearson's correlation coefficient'''\n",
        "    pass\n",
        "\n",
        "def z_list(xs): \n",
        "    ''' take: a list, as above\n",
        "    return: a list of z-scores of each element. \n",
        "    '''\n",
        "    pass\n",
        "def normal_pdf(mu, sigma): \n",
        "    '''take: a mean mu and a stdev sigma\n",
        "    return: the probability density function of a normal \n",
        "    distribution with parameters mu,sigma\n",
        "    \n",
        "    a probability density function is a function \n",
        "    that takes an outcome and returns the probability \n",
        "    that you will observe that outcome under a certain distribution. \n",
        "    '''\n",
        "    # your code here\n",
        "    # your code where `None` is. \n",
        "    return lambda x: None\n",
        "\n"
      ],
      "execution_count": 0,
      "outputs": []
    },
    {
      "cell_type": "code",
      "metadata": {
        "id": "hdQst02zaGBd",
        "colab_type": "code",
        "colab": {
          "base_uri": "https://localhost:8080/",
          "height": 34
        },
        "outputId": "2a639d50-1f4b-480d-a4c8-a5650b320cd2"
      },
      "source": [
        "mean([1,2,3,4,5])"
      ],
      "execution_count": 78,
      "outputs": [
        {
          "output_type": "execute_result",
          "data": {
            "text/plain": [
              "3.0"
            ]
          },
          "metadata": {
            "tags": []
          },
          "execution_count": 78
        }
      ]
    },
    {
      "cell_type": "code",
      "metadata": {
        "id": "olmg3Qm0brVX",
        "colab_type": "code",
        "colab": {
          "base_uri": "https://localhost:8080/",
          "height": 34
        },
        "outputId": "acd4b1ef-ffcc-4cac-edd5-6c859bec7a40"
      },
      "source": [
        "variance([1,2,3,4])"
      ],
      "execution_count": 80,
      "outputs": [
        {
          "output_type": "execute_result",
          "data": {
            "text/plain": [
              "0.75"
            ]
          },
          "metadata": {
            "tags": []
          },
          "execution_count": 80
        }
      ]
    },
    {
      "cell_type": "markdown",
      "metadata": {
        "id": "yZCvRXOz-lys",
        "colab_type": "text"
      },
      "source": [
        "The `linspace` function just makes a float line, all the floats between a bottom and a top value. \n",
        "\n",
        "`x = linspace(-7, 7, 100)` means that \"x is an _interval_ of floats, bounded by \\[-32,32\\]\". It is an array that when put into a function returns the array which is that function evaluated at every point.  \n",
        "\n",
        "it is demonstrated below to plot an arbitrary curve. "
      ]
    },
    {
      "cell_type": "code",
      "metadata": {
        "id": "k4FVV0s0-ktY",
        "colab_type": "code",
        "outputId": "13535b26-13b3-429a-8323-2d6b49b62b56",
        "colab": {
          "base_uri": "https://localhost:8080/",
          "height": 269
        }
      },
      "source": [
        "x = linspace(-7, 7, 100)\n",
        "\n",
        "def func(x):\n",
        "    '''an arbitrary function from float to \n",
        "    float, purely to demonstrate curves''' \n",
        "    return 2.7 ** x - 3*x**3 - 2*x**2 - x\n",
        "\n",
        "plt.plot(x = x, y = func(x));"
      ],
      "execution_count": 0,
      "outputs": [
        {
          "output_type": "display_data",
          "data": {
            "image/png": "[encoded data removed]",
            "text/plain": [
              "<Figure size 432x288 with 1 Axes>"
            ]
          },
          "metadata": {
            "tags": []
          }
        }
      ]
    },
    {
      "cell_type": "markdown",
      "metadata": {
        "id": "DS_Zq-v5-uAW",
        "colab_type": "text"
      },
      "source": [
        "Using `x` and `normal_pdf` defined above, `plt.plot` and `plt.axvline` to replicate the following picture for the specified parameters. \n",
        "\n",
        "![mean and particular standard deviations away from it in](http://image.slideserve.com/190245/slide25-l.jpg)\n",
        "\n",
        "**Note**: do not bother replicating anything with text, labeling, just show the basic information. It should under 10 lines of code. I just want to see the bell curve and some vertical lines in the right place. "
      ]
    },
    {
      "cell_type": "code",
      "metadata": {
        "id": "zPfXRM0I-qbG",
        "colab_type": "code",
        "colab": {}
      },
      "source": [
        "mu, sigma = 0, 1\n",
        "\n",
        "\n",
        "\n",
        "## fill in any needed code here\n",
        "plt.plot(x, normal_pdf(mu=mu, sigma=sigma)(x)); # example call to plt.plot"
      ],
      "execution_count": 0,
      "outputs": []
    },
    {
      "cell_type": "code",
      "metadata": {
        "id": "acWmohmO_s6V",
        "colab_type": "code",
        "colab": {}
      },
      "source": [
        "mu, sigma = -6/7, 71/19\n",
        "\n",
        "\n",
        "\n",
        "## fill in any needed code here\n",
        "plt.plot(x, normal_pdf(mu=mu, sigma=sigma)(x)); # example call to plt.plot"
      ],
      "execution_count": 0,
      "outputs": []
    }
  ]
}