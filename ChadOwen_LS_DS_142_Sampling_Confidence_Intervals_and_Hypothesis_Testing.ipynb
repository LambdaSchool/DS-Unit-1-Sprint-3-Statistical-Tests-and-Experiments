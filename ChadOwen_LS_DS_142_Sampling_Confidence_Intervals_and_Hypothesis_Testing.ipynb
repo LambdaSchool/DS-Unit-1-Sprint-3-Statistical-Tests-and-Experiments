{
  "nbformat": 4,
  "nbformat_minor": 0,
  "metadata": {
    "colab": {
      "name": "ChadOwen-LS DS 142 Sampling Confidence Intervals and Hypothesis Testing.ipynb",
      "version": "0.3.2",
      "provenance": [],
      "collapsed_sections": [],
      "include_colab_link": true
    },
    "kernelspec": {
      "name": "python3",
      "display_name": "Python 3"
    }
  },
  "cells": [
    {
      "cell_type": "markdown",
      "metadata": {
        "id": "view-in-github",
        "colab_type": "text"
      },
      "source": [
        "<a href=\"https://colab.research.google.com/github/chadeowen/DS-Unit-1-Sprint-4-Statistical-Tests-and-Experiments/blob/master/ChadOwen_LS_DS_142_Sampling_Confidence_Intervals_and_Hypothesis_Testing.ipynb\" target=\"_parent\"><img src=\"https://colab.research.google.com/assets/colab-badge.svg\" alt=\"Open In Colab\"/></a>"
      ]
    },
    {
      "metadata": {
        "id": "838Dmw1kM2LK",
        "colab_type": "text"
      },
      "cell_type": "markdown",
      "source": [
        "# Lambda School Data Science Module 142\n",
        "## Sampling, Confidence Intervals, and Hypothesis Testing"
      ]
    },
    {
      "metadata": {
        "id": "dbcPKIo5M6Ny",
        "colab_type": "text"
      },
      "cell_type": "markdown",
      "source": [
        "## Prepare - examine other available hypothesis tests\n",
        "\n",
        "If you had to pick a single hypothesis test in your toolbox, t-test would probably be the best choice - but the good news is you don't have to pick just one! Here's some of the others to be aware of:"
      ]
    },
    {
      "metadata": {
        "id": "tlBel8j9M6tB",
        "colab_type": "code",
        "outputId": "d136f72d-ba42-4fef-cff4-edafcd5c99a4",
        "colab": {
          "base_uri": "https://localhost:8080/",
          "height": 187
        }
      },
      "cell_type": "code",
      "source": [
        "import numpy as np\n",
        "from scipy.stats import chisquare  # One-way chi square test\n",
        "\n",
        "# Chi square can take any crosstab/table and test the independence of rows/cols\n",
        "# The null hypothesis is that the rows/cols are independent -> low chi square\n",
        "# The alternative is that there is a dependence -> high chi square\n",
        "# Be aware! Chi square does *not* tell you direction/causation\n",
        "\n",
        "ind_obs = np.array([[1, 1], [2, 2]]).T\n",
        "print(ind_obs)\n",
        "print(chisquare(ind_obs, axis=None))\n",
        "\n",
        "dep_obs = np.array([[16, 18, 16, 14, 12, 12], [32, 24, 16, 28, 20, 24]]).T\n",
        "print(dep_obs)\n",
        "print(chisquare(dep_obs, axis=None))"
      ],
      "execution_count": 1,
      "outputs": [
        {
          "output_type": "stream",
          "text": [
            "[[1 2]\n",
            " [1 2]]\n",
            "Power_divergenceResult(statistic=0.6666666666666666, pvalue=0.8810148425137847)\n",
            "[[16 32]\n",
            " [18 24]\n",
            " [16 16]\n",
            " [14 28]\n",
            " [12 20]\n",
            " [12 24]]\n",
            "Power_divergenceResult(statistic=23.31034482758621, pvalue=0.015975692534127565)\n"
          ],
          "name": "stdout"
        }
      ]
    },
    {
      "metadata": {
        "id": "nN0BdNiDPxbk",
        "colab_type": "code",
        "outputId": "c2fe534b-3008-456c-d43c-55ce8877dc37",
        "colab": {
          "base_uri": "https://localhost:8080/",
          "height": 34
        }
      },
      "cell_type": "code",
      "source": [
        "# Distribution tests:\n",
        "# We often assume that something is normal, but it can be important to *check*\n",
        "\n",
        "# For example, later on with predictive modeling, a typical assumption is that\n",
        "# residuals (prediction errors) are normal - checking is a good diagnostic\n",
        "\n",
        "from scipy.stats import normaltest\n",
        "# Poisson models arrival times and is related to the binomial (coinflip)\n",
        "sample = np.random.poisson(5, 1000)\n",
        "print(normaltest(sample))  # Pretty clearly not normal"
      ],
      "execution_count": 2,
      "outputs": [
        {
          "output_type": "stream",
          "text": [
            "NormaltestResult(statistic=23.668887807231613, pvalue=7.2504726101471515e-06)\n"
          ],
          "name": "stdout"
        }
      ]
    },
    {
      "metadata": {
        "id": "P5t0WhkDReFO",
        "colab_type": "code",
        "outputId": "b81b5658-ff1a-49ea-c8cb-f8f9d6c215f4",
        "colab": {
          "base_uri": "https://localhost:8080/",
          "height": 51
        }
      },
      "cell_type": "code",
      "source": [
        "# Kruskal-Wallis H-test - compare the median rank between 2+ groups\n",
        "# Can be applied to ranking decisions/outcomes/recommendations\n",
        "# The underlying math comes from chi-square distribution, and is best for n>5\n",
        "from scipy.stats import kruskal\n",
        "\n",
        "x1 = [1, 3, 5, 7, 9]\n",
        "y1 = [2, 4, 6, 8, 10]\n",
        "print(kruskal(x1, y1))  # x1 is a little better, but not \"significantly\" so\n",
        "\n",
        "x2 = [1, 1, 1]\n",
        "y2 = [2, 2, 2]\n",
        "z = [2, 2]  # Hey, a third group, and of different size!\n",
        "print(kruskal(x2, y2, z))  # x clearly dominates"
      ],
      "execution_count": 3,
      "outputs": [
        {
          "output_type": "stream",
          "text": [
            "KruskalResult(statistic=0.2727272727272734, pvalue=0.6015081344405895)\n",
            "KruskalResult(statistic=7.0, pvalue=0.0301973834223185)\n"
          ],
          "name": "stdout"
        }
      ]
    },
    {
      "metadata": {
        "id": "7pT3IP36Rh0b",
        "colab_type": "text"
      },
      "cell_type": "markdown",
      "source": [
        "And there's many more! `scipy.stats` is fairly comprehensive, though there are even more available if you delve into the extended world of statistics packages. As tests get increasingly obscure and specialized, the importance of knowing them by heart becomes small - but being able to look them up and figure them out when they *are* relevant is still important."
      ]
    },
    {
      "metadata": {
        "id": "L1_KRuHCM7BW",
        "colab_type": "text"
      },
      "cell_type": "markdown",
      "source": [
        "## Live Lecture - let's explore some more of scipy.stats"
      ]
    },
    {
      "metadata": {
        "id": "qW6k0dorM7Lz",
        "colab_type": "code",
        "colab": {}
      },
      "cell_type": "code",
      "source": [
        "# Taking requests! Come to lecture with a topic or problem and we'll try it.\n",
        "from scipy import stats\n",
        "b1 = stats.binom(n=100, p=0.6)"
      ],
      "execution_count": 0,
      "outputs": []
    },
    {
      "metadata": {
        "id": "MQQKL9iWYV7o",
        "colab_type": "code",
        "outputId": "3d4b9db9-8ac8-4977-deb2-51fdaf72894f",
        "colab": {
          "base_uri": "https://localhost:8080/",
          "height": 34
        }
      },
      "cell_type": "code",
      "source": [
        "b1.mean()"
      ],
      "execution_count": 5,
      "outputs": [
        {
          "output_type": "execute_result",
          "data": {
            "text/plain": [
              "60.0"
            ]
          },
          "metadata": {
            "tags": []
          },
          "execution_count": 5
        }
      ]
    },
    {
      "metadata": {
        "id": "wT8iAfObYoq9",
        "colab_type": "code",
        "outputId": "739a40ff-41bc-45c3-c234-f4ff9c30e811",
        "colab": {
          "base_uri": "https://localhost:8080/",
          "height": 34
        }
      },
      "cell_type": "code",
      "source": [
        "b1.median()"
      ],
      "execution_count": 6,
      "outputs": [
        {
          "output_type": "execute_result",
          "data": {
            "text/plain": [
              "60.0"
            ]
          },
          "metadata": {
            "tags": []
          },
          "execution_count": 6
        }
      ]
    },
    {
      "metadata": {
        "id": "2XDffrinYzGX",
        "colab_type": "code",
        "outputId": "6848f83b-5ee0-4128-8fa8-42f545e57f8b",
        "colab": {
          "base_uri": "https://localhost:8080/",
          "height": 34
        }
      },
      "cell_type": "code",
      "source": [
        "import random\n",
        "random.seed(100)  # Reproducibility! Next line should give 2386\n",
        "random.randint(0, 10000)"
      ],
      "execution_count": 7,
      "outputs": [
        {
          "output_type": "execute_result",
          "data": {
            "text/plain": [
              "2386"
            ]
          },
          "metadata": {
            "tags": []
          },
          "execution_count": 7
        }
      ]
    },
    {
      "metadata": {
        "id": "FGsbKoMoZdLS",
        "colab_type": "code",
        "outputId": "03f3c2e0-7241-4d78-f400-c99bad68d633",
        "colab": {
          "base_uri": "https://localhost:8080/",
          "height": 34
        }
      },
      "cell_type": "code",
      "source": [
        "chi2 = stats.chi2(500)\n",
        "chi2.mean()"
      ],
      "execution_count": 8,
      "outputs": [
        {
          "output_type": "execute_result",
          "data": {
            "text/plain": [
              "500.0"
            ]
          },
          "metadata": {
            "tags": []
          },
          "execution_count": 8
        }
      ]
    },
    {
      "metadata": {
        "id": "POFJa1FAZtcw",
        "colab_type": "code",
        "outputId": "932ca9ef-94ec-441d-d1d7-3ce4daf643b2",
        "colab": {
          "base_uri": "https://localhost:8080/",
          "height": 34
        }
      },
      "cell_type": "code",
      "source": [
        "chi2.median()"
      ],
      "execution_count": 9,
      "outputs": [
        {
          "output_type": "execute_result",
          "data": {
            "text/plain": [
              "499.3334915888738"
            ]
          },
          "metadata": {
            "tags": []
          },
          "execution_count": 9
        }
      ]
    },
    {
      "metadata": {
        "id": "8V_bRg2xc_KJ",
        "colab_type": "code",
        "colab": {}
      },
      "cell_type": "code",
      "source": [
        "# Confidence intervals!\n",
        "# Similar to hypothesis testing, but centered at sample mean\n",
        "# Better than reporting the \"point estimate\" (sample mean)\n",
        "# Why? Because point estimates aren't always perfect\n",
        "\n",
        "import numpy as np\n",
        "from scipy import stats\n",
        "\n",
        "def confidence_interval(data, confidence=0.95):\n",
        "  \"\"\"\n",
        "  Calculate a confidence interval around a sample mean for given data.\n",
        "  Using t-distribution and two-tailed test, default 95% confidence. \n",
        "  \n",
        "  Arguments:\n",
        "    data - iterable (list or numpy array) of sample observations\n",
        "    confidence - level of confidence for the interval\n",
        "  \n",
        "  Returns:\n",
        "    tuple of (mean, lower bound, upper bound)\n",
        "  \"\"\"\n",
        "  data = np.array(data)\n",
        "  mean = np.mean(data)\n",
        "  n = len(data)\n",
        "  stderr = stats.sem(data)\n",
        "  interval = stderr * stats.t.ppf((1 + confidence) / 2., n - 1)\n",
        "  return (mean, mean - interval, mean + interval)\n",
        "\n",
        "def report_confidence_interval(confidence_interval):\n",
        "  \"\"\"\n",
        "  Return a string with a pretty report of a confidence interval.\n",
        "  \n",
        "  Arguments:\n",
        "    confidence_interval - tuple of (mean, lower bound, upper bound)\n",
        "  \n",
        "  Returns:\n",
        "    None, but prints to screen the report\n",
        "  \"\"\"\n",
        "  print('Mean: {}'.format(confidence_interval[0]))\n",
        "  print('Lower bound: {}'.format(confidence_interval[1]))\n",
        "  print('Upper bound: {}'.format(confidence_interval[2]))"
      ],
      "execution_count": 0,
      "outputs": []
    },
    {
      "metadata": {
        "id": "2hHudVt9jjE-",
        "colab_type": "code",
        "outputId": "df94c3da-a71d-465d-bc3b-13e57d4ee6a9",
        "colab": {
          "base_uri": "https://localhost:8080/",
          "height": 34
        }
      },
      "cell_type": "code",
      "source": [
        "x = 2\n",
        "print('x is: {}'.format(x))"
      ],
      "execution_count": 11,
      "outputs": [
        {
          "output_type": "stream",
          "text": [
            "x is: 2\n"
          ],
          "name": "stdout"
        }
      ]
    },
    {
      "metadata": {
        "id": "m-DbjeVYhu-P",
        "colab_type": "code",
        "outputId": "d84d4df0-e91b-4f84-c2d9-c2e2e61c11af",
        "colab": {
          "base_uri": "https://localhost:8080/",
          "height": 68
        }
      },
      "cell_type": "code",
      "source": [
        "coinflips = np.random.binomial(n=1, p=0.5, size=100)\n",
        "print(coinflips)"
      ],
      "execution_count": 12,
      "outputs": [
        {
          "output_type": "stream",
          "text": [
            "[0 0 0 1 0 1 1 0 0 0 0 1 1 1 0 0 1 0 1 1 1 1 1 1 1 0 1 1 1 1 1 0 1 1 0 0 1\n",
            " 0 1 0 0 0 0 0 1 0 0 0 0 0 0 0 0 0 1 0 0 0 1 0 0 1 1 0 1 0 1 1 0 1 1 0 0 0\n",
            " 0 0 0 1 1 1 1 1 0 1 0 0 0 0 1 1 1 0 0 1 0 1 0 0 0 0]\n"
          ],
          "name": "stdout"
        }
      ]
    },
    {
      "metadata": {
        "id": "QS_3fOo3iMna",
        "colab_type": "code",
        "outputId": "c358c6de-43f8-4c18-8109-07f64fbf1b08",
        "colab": {
          "base_uri": "https://localhost:8080/",
          "height": 297
        }
      },
      "cell_type": "code",
      "source": [
        "import pandas as pd\n",
        "df = pd.DataFrame(coinflips)\n",
        "df.describe()"
      ],
      "execution_count": 13,
      "outputs": [
        {
          "output_type": "execute_result",
          "data": {
            "text/html": [
              "<div>\n",
              "<style scoped>\n",
              "    .dataframe tbody tr th:only-of-type {\n",
              "        vertical-align: middle;\n",
              "    }\n",
              "\n",
              "    .dataframe tbody tr th {\n",
              "        vertical-align: top;\n",
              "    }\n",
              "\n",
              "    .dataframe thead th {\n",
              "        text-align: right;\n",
              "    }\n",
              "</style>\n",
              "<table border=\"1\" class=\"dataframe\">\n",
              "  <thead>\n",
              "    <tr style=\"text-align: right;\">\n",
              "      <th></th>\n",
              "      <th>0</th>\n",
              "    </tr>\n",
              "  </thead>\n",
              "  <tbody>\n",
              "    <tr>\n",
              "      <th>count</th>\n",
              "      <td>100.000000</td>\n",
              "    </tr>\n",
              "    <tr>\n",
              "      <th>mean</th>\n",
              "      <td>0.440000</td>\n",
              "    </tr>\n",
              "    <tr>\n",
              "      <th>std</th>\n",
              "      <td>0.498888</td>\n",
              "    </tr>\n",
              "    <tr>\n",
              "      <th>min</th>\n",
              "      <td>0.000000</td>\n",
              "    </tr>\n",
              "    <tr>\n",
              "      <th>25%</th>\n",
              "      <td>0.000000</td>\n",
              "    </tr>\n",
              "    <tr>\n",
              "      <th>50%</th>\n",
              "      <td>0.000000</td>\n",
              "    </tr>\n",
              "    <tr>\n",
              "      <th>75%</th>\n",
              "      <td>1.000000</td>\n",
              "    </tr>\n",
              "    <tr>\n",
              "      <th>max</th>\n",
              "      <td>1.000000</td>\n",
              "    </tr>\n",
              "  </tbody>\n",
              "</table>\n",
              "</div>"
            ],
            "text/plain": [
              "                0\n",
              "count  100.000000\n",
              "mean     0.440000\n",
              "std      0.498888\n",
              "min      0.000000\n",
              "25%      0.000000\n",
              "50%      0.000000\n",
              "75%      1.000000\n",
              "max      1.000000"
            ]
          },
          "metadata": {
            "tags": []
          },
          "execution_count": 13
        }
      ]
    },
    {
      "metadata": {
        "id": "__rL1ObHiR6w",
        "colab_type": "code",
        "outputId": "c1e641e8-8b6b-4451-ec0e-cd6aa52602fd",
        "colab": {
          "base_uri": "https://localhost:8080/",
          "height": 34
        }
      },
      "cell_type": "code",
      "source": [
        "coinflip_interval = confidence_interval(coinflips, confidence=0.95)\n",
        "coinflip_interval"
      ],
      "execution_count": 14,
      "outputs": [
        {
          "output_type": "execute_result",
          "data": {
            "text/plain": [
              "(0.44, 0.3410098664856729, 0.5389901335143271)"
            ]
          },
          "metadata": {
            "tags": []
          },
          "execution_count": 14
        }
      ]
    },
    {
      "metadata": {
        "id": "jolnxSPuj9Kb",
        "colab_type": "code",
        "outputId": "324a835c-84d6-4c5b-9b2a-e3b490cc08ce",
        "colab": {
          "base_uri": "https://localhost:8080/",
          "height": 68
        }
      },
      "cell_type": "code",
      "source": [
        "report_confidence_interval(coinflip_interval)"
      ],
      "execution_count": 15,
      "outputs": [
        {
          "output_type": "stream",
          "text": [
            "Mean: 0.44\n",
            "Lower bound: 0.3410098664856729\n",
            "Upper bound: 0.5389901335143271\n"
          ],
          "name": "stdout"
        }
      ]
    },
    {
      "metadata": {
        "id": "11OzdxWTM7UR",
        "colab_type": "text"
      },
      "cell_type": "markdown",
      "source": [
        "## Assignment - Build a confidence interval\n",
        "\n",
        "A confidence interval refers to a neighborhood around some point estimate, the size of which is determined by the desired p-value. For instance, we might say that 52% of Americans prefer tacos to burritos, with a 95% confidence interval of +/- 5%.\n",
        "\n",
        "52% (0.52) is the point estimate, and +/- 5% (the interval $[0.47, 0.57]$) is the confidence interval. \"95% confidence\" means a p-value $\\leq 1 - 0.95 = 0.05$.\n",
        "\n",
        "In this case, the confidence interval includes $0.5$ - which is the natural null hypothesis (that half of Americans prefer tacos and half burritos, thus there is no clear favorite). So in this case, we could use the confidence interval to report that we've failed to reject the null hypothesis.\n",
        "\n",
        "But providing the full analysis with a confidence interval, including a graphical representation of it, can be a helpful and powerful way to tell your story. Done well, it is also more intuitive to a layperson than simply saying \"fail to reject the null hypothesis\" - it shows that in fact the data does *not* give a single clear result (the point estimate) but a whole range of possibilities.\n",
        "\n",
        "How is a confidence interval built, and how should it be interpreted? It does *not* mean that 95% of the data lies in that interval - instead, the frequentist interpretation is \"if we were to repeat this experiment 100 times, we would expect the average result to lie in this interval ~95 times.\"\n",
        "\n",
        "For a 95% confidence interval and a normal(-ish) distribution, you can simply remember that +/-2 standard deviations contains 95% of the probability mass, and so the 95% confidence interval based on a given sample is centered at the mean (point estimate) and has a range of +/- 2 (or technically 1.96) standard deviations.\n",
        "\n",
        "Different distributions/assumptions (90% confidence, 99% confidence) will require different math, but the overall process and interpretation (with a frequentist approach) will be the same.\n",
        "\n",
        "Your assignment - using the data from the prior module ([congressional voting records](https://archive.ics.uci.edu/ml/datasets/Congressional+Voting+Records)):\n",
        "\n",
        "1. Generate and numerically represent a confidence interval\n",
        "2. Graphically (with a plot) represent the confidence interval\n",
        "3. Interpret the confidence interval - what does it tell you about the data and its distribution?\n",
        "\n",
        "Stretch goals:\n",
        "\n",
        "1. Write a summary of your findings, mixing prose and math/code/results. *Note* - yes, this is by definition a political topic. It is challenging but important to keep your writing voice *neutral* and stick to the facts of the data. Data science often involves considering controversial issues, so it's important to be sensitive about them (especially if you want to publish).\n",
        "2. Apply the techniques you learned today to your project data or other data of your choice, and write/discuss your findings here."
      ]
    },
    {
      "metadata": {
        "id": "Ckcr4A4FM7cs",
        "colab_type": "code",
        "outputId": "d3fc522c-2038-4490-8275-04303a42711b",
        "colab": {
          "base_uri": "https://localhost:8080/",
          "height": 204
        }
      },
      "cell_type": "code",
      "source": [
        "# Getting started with drug data\n",
        "# http://archive.ics.uci.edu/ml/datasets/Drug+Review+Dataset+%28Drugs.com%29\n",
        "\n",
        "!wget http://archive.ics.uci.edu/ml/machine-learning-databases/00462/drugsCom_raw.zip"
      ],
      "execution_count": 16,
      "outputs": [
        {
          "output_type": "stream",
          "text": [
            "--2018-12-05 13:32:06--  http://archive.ics.uci.edu/ml/machine-learning-databases/00462/drugsCom_raw.zip\n",
            "Resolving archive.ics.uci.edu (archive.ics.uci.edu)... 128.195.10.249\n",
            "Connecting to archive.ics.uci.edu (archive.ics.uci.edu)|128.195.10.249|:80... connected.\n",
            "HTTP request sent, awaiting response... 200 OK\n",
            "Length: 42989872 (41M) [application/zip]\n",
            "Saving to: ‘drugsCom_raw.zip’\n",
            "\n",
            "drugsCom_raw.zip    100%[===================>]  41.00M  12.6MB/s    in 4.6s    \n",
            "\n",
            "2018-12-05 13:32:16 (8.97 MB/s) - ‘drugsCom_raw.zip’ saved [42989872/42989872]\n",
            "\n"
          ],
          "name": "stdout"
        }
      ]
    },
    {
      "metadata": {
        "id": "uw0sIvJslq1T",
        "colab_type": "code",
        "outputId": "0722de36-910d-4b06-bc90-c550d2f2d9b1",
        "colab": {
          "base_uri": "https://localhost:8080/",
          "height": 68
        }
      },
      "cell_type": "code",
      "source": [
        "!unzip drugsCom_raw.zip"
      ],
      "execution_count": 17,
      "outputs": [
        {
          "output_type": "stream",
          "text": [
            "Archive:  drugsCom_raw.zip\n",
            "  inflating: drugsComTest_raw.tsv    \n",
            "  inflating: drugsComTrain_raw.tsv   \n"
          ],
          "name": "stdout"
        }
      ]
    },
    {
      "metadata": {
        "id": "bK6v98eZltpk",
        "colab_type": "code",
        "outputId": "4edbfe25-c6e3-4959-ff61-4403d96d6312",
        "colab": {
          "base_uri": "https://localhost:8080/",
          "height": 207
        }
      },
      "cell_type": "code",
      "source": [
        "!head drugsComTrain_raw.tsv"
      ],
      "execution_count": 18,
      "outputs": [
        {
          "output_type": "stream",
          "text": [
            "\tdrugName\tcondition\treview\trating\tdate\tusefulCount\r\n",
            "206461\tValsartan\tLeft Ventricular Dysfunction\t\"\"\"It has no side effect, I take it in combination of Bystolic 5 Mg and Fish Oil\"\"\"\t9.0\tMay 20, 2012\t27\r\n",
            "95260\tGuanfacine\tADHD\t\"\"\"My son is halfway through his fourth week of Intuniv. We became concerned when he began this last week, when he started taking the highest dose he will be on. For two days, he could hardly get out of bed, was very cranky, and slept for nearly 8 hours on a drive home from school vacation (very unusual for him.) I called his doctor on Monday morning and she said to stick it out a few days. See how he did at school, and with getting up in the morning. The last two days have been problem free. He is MUCH more agreeable than ever. He is less emotional (a good thing), less cranky. He is remembering all the things he should. Overall his behavior is better. \r\n",
            "We have tried many different medications and so far this is the most effective.\"\"\"\t8.0\tApril 27, 2010\t192\r\n",
            "92703\tLybrel\tBirth Control\t\"\"\"I used to take another oral contraceptive, which had 21 pill cycle, and was very happy- very light periods, max 5 days, no other side effects. But it contained hormone gestodene, which is not available in US, so I switched to Lybrel, because the ingredients are similar. When my other pills ended, I started Lybrel immediately, on my first day of period, as the instructions said. And the period lasted for two weeks. When taking the second pack- same two weeks. And now, with third pack things got even worse- my third period lasted for two weeks and now it&#039;s the end of the third week- I still have daily brown discharge.\r\n",
            "The positive side is that I didn&#039;t have any other side effects. The idea of being period free was so tempting... Alas.\"\"\"\t5.0\tDecember 14, 2009\t17\r\n",
            "138000\tOrtho Evra\tBirth Control\t\"\"\"This is my first time using any form of birth control. I&#039;m glad I went with the patch, I have been on it for 8 months. At first It decreased my libido but that subsided. The only downside is that it made my periods longer (5-6 days to be exact) I used to only have periods for 3-4 days max also made my cramps intense for the first two days of my period, I never had cramps before using birth control. Other than that in happy with the patch\"\"\"\t8.0\tNovember 3, 2015\t10\r\n",
            "35696\tBuprenorphine / naloxone\tOpiate Dependence\t\"\"\"Suboxone has completely turned my life around.  I feel healthier, I&#039;m excelling at my job and I always have money in my pocket and my savings account.  I had none of those before Suboxone and spent years abusing oxycontin.  My paycheck was already spent by the time I got it and I started resorting to scheming and stealing to fund my addiction.  All that is history.  If you&#039;re ready to stop, there&#039;s a good chance that suboxone will put you on the path of great life again.  I have found the side-effects to be minimal compared to oxycontin.  I&#039;m actually sleeping better.   Slight constipation is about it for me.  It truly is amazing. The cost pales in comparison to what I spent on oxycontin.\"\"\"\t9.0\tNovember 27, 2016\t37\r\n",
            "155963\tCialis\tBenign Prostatic Hyperplasia\t\"\"\"2nd day on 5mg started to work with rock hard erections however experianced headache, lower bowel preassure. 3rd day erections would wake me up &amp; hurt! Leg/ankles aches   severe lower bowel preassure like you need to go #2 but can&#039;t! Enjoyed the initial rockhard erections but not at these side effects or $230 for months supply! I&#039;m 50 &amp; work out 3Xs a week. Not worth side effects!\"\"\"\t2.0\tNovember 28, 2015\t43\r\n",
            "165907\tLevonorgestrel\tEmergency Contraception\t\"\"\"He pulled out, but he cummed a bit in me. I took the Plan B 26 hours later, and took a pregnancy test two weeks later - - I&#039;m pregnant.\"\"\"\t1.0\tMarch 7, 2017\t5\r\n"
          ],
          "name": "stdout"
        }
      ]
    },
    {
      "metadata": {
        "id": "PhZGPJ-ol3bY",
        "colab_type": "code",
        "outputId": "1192104c-3066-46d9-eacc-4364ee4212c4",
        "colab": {
          "base_uri": "https://localhost:8080/",
          "height": 204
        }
      },
      "cell_type": "code",
      "source": [
        "df = pd.read_table('drugsComTrain_raw.tsv')\n",
        "df.head()"
      ],
      "execution_count": 19,
      "outputs": [
        {
          "output_type": "execute_result",
          "data": {
            "text/html": [
              "<div>\n",
              "<style scoped>\n",
              "    .dataframe tbody tr th:only-of-type {\n",
              "        vertical-align: middle;\n",
              "    }\n",
              "\n",
              "    .dataframe tbody tr th {\n",
              "        vertical-align: top;\n",
              "    }\n",
              "\n",
              "    .dataframe thead th {\n",
              "        text-align: right;\n",
              "    }\n",
              "</style>\n",
              "<table border=\"1\" class=\"dataframe\">\n",
              "  <thead>\n",
              "    <tr style=\"text-align: right;\">\n",
              "      <th></th>\n",
              "      <th>Unnamed: 0</th>\n",
              "      <th>drugName</th>\n",
              "      <th>condition</th>\n",
              "      <th>review</th>\n",
              "      <th>rating</th>\n",
              "      <th>date</th>\n",
              "      <th>usefulCount</th>\n",
              "    </tr>\n",
              "  </thead>\n",
              "  <tbody>\n",
              "    <tr>\n",
              "      <th>0</th>\n",
              "      <td>206461</td>\n",
              "      <td>Valsartan</td>\n",
              "      <td>Left Ventricular Dysfunction</td>\n",
              "      <td>\"It has no side effect, I take it in combinati...</td>\n",
              "      <td>9.0</td>\n",
              "      <td>May 20, 2012</td>\n",
              "      <td>27</td>\n",
              "    </tr>\n",
              "    <tr>\n",
              "      <th>1</th>\n",
              "      <td>95260</td>\n",
              "      <td>Guanfacine</td>\n",
              "      <td>ADHD</td>\n",
              "      <td>\"My son is halfway through his fourth week of ...</td>\n",
              "      <td>8.0</td>\n",
              "      <td>April 27, 2010</td>\n",
              "      <td>192</td>\n",
              "    </tr>\n",
              "    <tr>\n",
              "      <th>2</th>\n",
              "      <td>92703</td>\n",
              "      <td>Lybrel</td>\n",
              "      <td>Birth Control</td>\n",
              "      <td>\"I used to take another oral contraceptive, wh...</td>\n",
              "      <td>5.0</td>\n",
              "      <td>December 14, 2009</td>\n",
              "      <td>17</td>\n",
              "    </tr>\n",
              "    <tr>\n",
              "      <th>3</th>\n",
              "      <td>138000</td>\n",
              "      <td>Ortho Evra</td>\n",
              "      <td>Birth Control</td>\n",
              "      <td>\"This is my first time using any form of birth...</td>\n",
              "      <td>8.0</td>\n",
              "      <td>November 3, 2015</td>\n",
              "      <td>10</td>\n",
              "    </tr>\n",
              "    <tr>\n",
              "      <th>4</th>\n",
              "      <td>35696</td>\n",
              "      <td>Buprenorphine / naloxone</td>\n",
              "      <td>Opiate Dependence</td>\n",
              "      <td>\"Suboxone has completely turned my life around...</td>\n",
              "      <td>9.0</td>\n",
              "      <td>November 27, 2016</td>\n",
              "      <td>37</td>\n",
              "    </tr>\n",
              "  </tbody>\n",
              "</table>\n",
              "</div>"
            ],
            "text/plain": [
              "   Unnamed: 0                  drugName                     condition  \\\n",
              "0      206461                 Valsartan  Left Ventricular Dysfunction   \n",
              "1       95260                Guanfacine                          ADHD   \n",
              "2       92703                    Lybrel                 Birth Control   \n",
              "3      138000                Ortho Evra                 Birth Control   \n",
              "4       35696  Buprenorphine / naloxone             Opiate Dependence   \n",
              "\n",
              "                                              review  rating  \\\n",
              "0  \"It has no side effect, I take it in combinati...     9.0   \n",
              "1  \"My son is halfway through his fourth week of ...     8.0   \n",
              "2  \"I used to take another oral contraceptive, wh...     5.0   \n",
              "3  \"This is my first time using any form of birth...     8.0   \n",
              "4  \"Suboxone has completely turned my life around...     9.0   \n",
              "\n",
              "                date  usefulCount  \n",
              "0       May 20, 2012           27  \n",
              "1     April 27, 2010          192  \n",
              "2  December 14, 2009           17  \n",
              "3   November 3, 2015           10  \n",
              "4  November 27, 2016           37  "
            ]
          },
          "metadata": {
            "tags": []
          },
          "execution_count": 19
        }
      ]
    },
    {
      "metadata": {
        "id": "towxQnuJmcnq",
        "colab_type": "code",
        "colab": {
          "base_uri": "https://localhost:8080/",
          "height": 153
        },
        "outputId": "add8a1e7-a7ee-4036-8ae6-db6d05832e16"
      },
      "cell_type": "code",
      "source": [
        "df.isna().sum()"
      ],
      "execution_count": 20,
      "outputs": [
        {
          "output_type": "execute_result",
          "data": {
            "text/plain": [
              "Unnamed: 0       0\n",
              "drugName         0\n",
              "condition      899\n",
              "review           0\n",
              "rating           0\n",
              "date             0\n",
              "usefulCount      0\n",
              "dtype: int64"
            ]
          },
          "metadata": {
            "tags": []
          },
          "execution_count": 20
        }
      ]
    },
    {
      "metadata": {
        "id": "zRy5_Y21U7PP",
        "colab_type": "code",
        "colab": {}
      },
      "cell_type": "code",
      "source": [
        "df = df.dropna()"
      ],
      "execution_count": 0,
      "outputs": []
    },
    {
      "metadata": {
        "id": "Fnjo-58hVKE4",
        "colab_type": "code",
        "colab": {
          "base_uri": "https://localhost:8080/",
          "height": 153
        },
        "outputId": "4cb7d0eb-eb42-4848-b5db-20141245e521"
      },
      "cell_type": "code",
      "source": [
        "df.isna().sum()"
      ],
      "execution_count": 22,
      "outputs": [
        {
          "output_type": "execute_result",
          "data": {
            "text/plain": [
              "Unnamed: 0     0\n",
              "drugName       0\n",
              "condition      0\n",
              "review         0\n",
              "rating         0\n",
              "date           0\n",
              "usefulCount    0\n",
              "dtype: int64"
            ]
          },
          "metadata": {
            "tags": []
          },
          "execution_count": 22
        }
      ]
    },
    {
      "metadata": {
        "id": "O15rOKuaVVUj",
        "colab_type": "code",
        "colab": {
          "base_uri": "https://localhost:8080/",
          "height": 34
        },
        "outputId": "2bf1c8df-e4ea-43d6-be34-a524be480c21"
      },
      "cell_type": "code",
      "source": [
        "df.shape"
      ],
      "execution_count": 23,
      "outputs": [
        {
          "output_type": "execute_result",
          "data": {
            "text/plain": [
              "(160398, 7)"
            ]
          },
          "metadata": {
            "tags": []
          },
          "execution_count": 23
        }
      ]
    },
    {
      "metadata": {
        "id": "DLDiI7p2kjYk",
        "colab_type": "code",
        "colab": {
          "base_uri": "https://localhost:8080/",
          "height": 7242
        },
        "outputId": "6c0dd510-6446-4a51-e8ff-630a6a70e30e"
      },
      "cell_type": "code",
      "source": [
        "df['condition'].unique()"
      ],
      "execution_count": 35,
      "outputs": [
        {
          "output_type": "execute_result",
          "data": {
            "text/plain": [
              "array(['Left Ventricular Dysfunction', 'ADHD', 'Birth Control',\n",
              "       'Opiate Dependence', 'Benign Prostatic Hyperplasia',\n",
              "       'Emergency Contraception', 'Bipolar Disorde', 'Epilepsy',\n",
              "       'Migraine Prevention', 'Depression', \"Crohn's Disease\", 'Cough',\n",
              "       'Obesity', 'Urinary Tract Infection', 'ibromyalgia',\n",
              "       'Chronic Myelogenous Leukemia', 'HIV Infection', 'Insomnia',\n",
              "       'Rheumatoid Arthritis', 'Vaginal Yeast Infection',\n",
              "       'Chlamydia Infection', 'Hirsutism', 'Panic Disorde', 'Migraine',\n",
              "       'Pain', 'Irritable Bowel Syndrome', 'Osteoarthritis',\n",
              "       'Constipation', 'Bowel Preparation', 'Psychosis', 'Muscle Spasm',\n",
              "       'Hepatitis C', 'Overactive Bladde', 'Diabetes, Type 2',\n",
              "       'Asthma, Maintenance', 'Non-Small Cell Lung Cance',\n",
              "       'Schizophrenia', 'Dysuria', 'Smoking Cessation', 'Anxiety', 'Acne',\n",
              "       'emale Infertility', 'Constipation, Acute',\n",
              "       'Constipation, Drug Induced', 'Erectile Dysfunction',\n",
              "       'Trigeminal Neuralgia', 'Underactive Thyroid', 'Chronic Pain',\n",
              "       'Atrophic Vaginitis', 'Skin and Structure Infection', 'Tinnitus',\n",
              "       'Major Depressive Disorde', 'Anxiety and Stress', 'Rosacea',\n",
              "       'High Blood Pressure',\n",
              "       '2</span> users found this comment helpful.',\n",
              "       'Restless Legs Syndrome',\n",
              "       'Osteolytic Bone Metastases of Solid Tumors', 'Bronchitis',\n",
              "       'Skin or Soft Tissue Infection', 'Obsessive Compulsive Disorde',\n",
              "       'Endometriosis', 'Keratoconjunctivitis Sicca', 'Breakthrough Pain',\n",
              "       'Seizures', 'Neuropathic Pain', 'Sedation', 'Menstrual Disorders',\n",
              "       'Allergic Rhinitis', 'Anesthesia',\n",
              "       'Undifferentiated Connective Tissue Disease', 'Diabetes, Type 1',\n",
              "       'Abnormal Uterine Bleeding', 'Weight Loss',\n",
              "       'Constipation, Chronic', 'Breast Cancer, Metastatic',\n",
              "       'Period Pain', 'Helicobacter Pylori Infection',\n",
              "       'Atrial Fibrillation', 'Uterine Fibroids',\n",
              "       '4</span> users found this comment helpful.', 'Kidney Infections',\n",
              "       'Generalized Anxiety Disorde', 'Asthma', 'Postmenopausal Symptoms',\n",
              "       'High Cholesterol', 'Hypogonadism, Male', 'Hyperthyroidism',\n",
              "       'Back Pain', 'Anaplastic Oligodendroglioma', \"Sjogren's Syndrome\",\n",
              "       'Asthma, acute', 'Hot Flashes',\n",
              "       '3</span> users found this comment helpful.',\n",
              "       'Herpes Simplex, Suppression', 'Bacterial Infection', 'Bursitis',\n",
              "       'Diaper Rash', 'Systemic Mastocytosis', 'Trichotillomania',\n",
              "       \"Hashimoto's disease\", 'Eczema', 'Dental Abscess', 'Headache',\n",
              "       'Hypersomnia', 'Xerostomia', 'Breast Cance', 'Sore Throat',\n",
              "       \"Barrett's Esophagus\", 'Pain/Feve', 'Diverticulitis', 'Sinusitis',\n",
              "       'Polycystic Ovary Syndrome', 'Influenza',\n",
              "       'Hypothyroidism, After Thyroid Removal', 'Onychomycosis, Toenail',\n",
              "       'Progesterone Insufficiency',\n",
              "       '11</span> users found this comment helpful.', 'GERD',\n",
              "       'Nausea/Vomiting, Postoperative', 'Herpes Simplex',\n",
              "       'Gastroparesis', 'Gout, Acute', 'Motion Sickness',\n",
              "       'Multiple Sclerosis', 'Autism', 'Otitis Media',\n",
              "       'Upper Respiratory Tract Infection', 'Surgical Prophylaxis',\n",
              "       'Psoriatic Arthritis', 'Erosive Esophagitis',\n",
              "       'Premature Ventricular Depolarizations', 'Stomach Ulce',\n",
              "       'Nausea/Vomiting', 'Light Anesthesia',\n",
              "       'Angina Pectoris Prophylaxis',\n",
              "       '0</span> users found this comment helpful.', 'Paranoid Disorde',\n",
              "       'Prostatitis', 'Extrapyramidal Reaction', 'mance Anxiety',\n",
              "       'Night Terrors', 'High Cholesterol, Familial Heterozygous',\n",
              "       'Spondyloarthritis', 'Clostridial Infection', 'Dermatomyositis',\n",
              "       'Bronchiectasis', 'Nasal Congestion', 'Benign Essential Trem',\n",
              "       'Angina', 'moterol / mometasone)', 'Impetig',\n",
              "       'Conjunctivitis, Bacterial', 'Post Traumatic Stress Disorde',\n",
              "       'Alcohol Withdrawal', 'Psoriasis', 'Cold Sores', 'Hyperhidrosis',\n",
              "       '1</span> users found this comment helpful.',\n",
              "       'Ankylosing Spondylitis', 'Hemorrhoids',\n",
              "       '142</span> users found this comment helpful.',\n",
              "       'Schizoaffective Disorde', 'Not Listed / Othe', 'Rhinitis',\n",
              "       'Oral Thrush', 'Hyperlipoproteinemia',\n",
              "       'Neutropenia Associated with Chemotherapy', 'Osteoporosis',\n",
              "       'Reflex Sympathetic Dystrophy Syndrome', 'Urticaria', 'Narcolepsy',\n",
              "       'Systemic Lupus Erythematosus', 'Ulcerative Colitis',\n",
              "       'Adult Human Growth Hormone Deficiency', 'Bacterial Vaginitis',\n",
              "       'COPD, Maintenance', 'Anorexia', 'TSH Suppression',\n",
              "       'Breast Cancer, Adjuvant', 'Glaucoma',\n",
              "       'Cough and Nasal Congestion',\n",
              "       '8</span> users found this comment helpful.',\n",
              "       'Inflammatory Conditions', 'Urinary Incontinence', 'Gout',\n",
              "       'Bladder Infection', 'Human Papillomavirus Prophylaxis',\n",
              "       'Glioblastoma Multiforme', 'Strep Throat',\n",
              "       'Bacterial Skin Infection', 'Hereditary Angioedema',\n",
              "       'Cold Symptoms', 'Labor Pain', 'Dry Skin', 'Diabetes Insipidus',\n",
              "       'Methicillin-Resistant Staphylococcus Aureus Infection',\n",
              "       'Borderline Personality Disorde', 'Amenorrhea', 'Pneumonia',\n",
              "       'Seborrheic Dermatitis', 'Interstitial Cystitis',\n",
              "       'Malaria Prevention', 'Prevention of Dental Caries',\n",
              "       'Herbal Supplementation', 'Plaque Psoriasis', \"Raynaud's Syndrome\",\n",
              "       \"Addison's Disease\", 'Prostate Cance', 'Allergies',\n",
              "       'Opioid-Induced Constipation', 'moterol)',\n",
              "       '13</span> users found this comment helpful.', 'Diarrhea',\n",
              "       'Seasonal Allergic Conjunctivitis', 'Opioid Overdose',\n",
              "       'Spondylolisthesis', 'Shift Work Sleep Disorde',\n",
              "       'Obstructive Sleep Apnea/Hypopnea Syndrome',\n",
              "       'Nausea/Vomiting of Pregnancy', 'Mucositis',\n",
              "       'Ulcerative Colitis, Active', 'Head Lice',\n",
              "       'Tonsillitis/Pharyngitis', 'Pseudotumor Cerebri',\n",
              "       \"Parkinson's Disease\", 'Sciatica', 'Cance',\n",
              "       'Bacterial Endocarditis Prevention', 'Diarrhea, Chronic',\n",
              "       'Hypertensive Emergency', 'Keratosis', 'Ovarian Cysts',\n",
              "       \"Behcet's Disease\", 'Chronic Idiopathic Constipation',\n",
              "       'lic Acid Deficiency', 'Chronic Fatigue Syndrome',\n",
              "       'Basal Cell Carcinoma', 'Cataplexy',\n",
              "       \"Crohn's Disease, Maintenance\", 'Diabetic Peripheral Neuropathy',\n",
              "       'Arrhythmia', 'Primary Ovarian Failure', 'Influenza Prophylaxis',\n",
              "       'Agitated State', 'Heart Failure', 'atigue', 'Opiate Withdrawal',\n",
              "       'Endometrial Hyperplasia, Prophylaxis', 'Immunosuppression',\n",
              "       'Dystonia', 'Alopecia', 'Vulvodynia',\n",
              "       'Premenstrual Dysphoric Disorde', 'Alcohol Dependence',\n",
              "       'Myasthenia Gravis', 'Social Anxiety Disorde', 'Atopic Dermatitis',\n",
              "       'Schistosoma japonicum', 'Sinus Symptoms', 'min / sitagliptin)',\n",
              "       'Dermatitis', 'Eye Redness', 'Warts', 'Menorrhagia',\n",
              "       'Seizure Prevention', 'Ophthalmic Surgery', 'Skin Rash',\n",
              "       'Condylomata Acuminata', 'NSAID-Induced Ulcer Prophylaxis',\n",
              "       'Tinea Versicol', 'Peripheral Neuropathy', 'Deep Vein Thrombosis',\n",
              "       '6</span> users found this comment helpful.', 'Heart Attack',\n",
              "       'Pulmonary Embolism, Recurrent Event', 'Light Sedation',\n",
              "       'Acute Lymphoblastic Leukemia', 'Hyperprolactinemia',\n",
              "       'Indigestion', 'Hepatitis B', 'Dysautonomia', 'Status Epilepticus',\n",
              "       'Postpartum Depression', 'Multiple Myeloma',\n",
              "       'Prevention of Hypokalemia', 'Edema', 'Urinary Retention',\n",
              "       'Prevention of Thromboembolism in Atrial Fibrillation',\n",
              "       'Cluster Headaches', 'Sexual Dysfunction, SSRI Induced',\n",
              "       'Dermatitis Herpetiformis', 'Temporomandibular Joint Disorde',\n",
              "       'Burns, External', 'Actinic Keratosis', 'Pharyngitis',\n",
              "       'Melanoma, Metastatic', 'Atrial Flutte', 'Lyme Disease',\n",
              "       'Dry Eye Disease', 'Allergic Reactions', 'Hypertriglyceridemia',\n",
              "       'Pruritus', 'Carcinoid Tum', 'Muscle Pain', 'Colorectal Cance',\n",
              "       'Vitamin/Mineral Supplementation during Pregnancy/Lactation',\n",
              "       'Nausea/Vomiting, Chemotherapy Induced', 'Women (oxybutynin)',\n",
              "       'Primary Immunodeficiency Syndrome',\n",
              "       'New Daily Persistent Headache',\n",
              "       'Pneumococcal Disease Prophylaxis', 'Burning Mouth Syndrome',\n",
              "       'Urinary Tract Stones', 'Pseudobulbar Affect',\n",
              "       '94</span> users found this comment helpful.',\n",
              "       'Eye Redness/Itching', 'Deep Vein Thrombosis, First Event',\n",
              "       'Pulmonary Hypertension', 'Malaria', 'Sarcoidosis',\n",
              "       'Dietary Supplementation', 'Bulimia', 'Tendonitis', 'Nasal Polyps',\n",
              "       'Hypokalemia', 'Anemia, Sickle Cell', 'Uveitis',\n",
              "       'Streptococcal Infection', 'Perimenopausal Symptoms',\n",
              "       'Asperger Syndrome', 'Tinea Corporis', 'Mania',\n",
              "       'Renal Cell Carcinoma', 'COPD', 'Biliary Cirrhosis', 'Vertig',\n",
              "       'Reversal of Opioid Sedation', \"Non-Hodgkin's Lymphoma\",\n",
              "       'High Cholesterol, Familial Homozygous',\n",
              "       'Periodic Limb Movement Disorde', 'Supraventricular Tachycardia',\n",
              "       'Hypoestrogenism', 'Juvenile Idiopathic Arthritis', 'Swine Flu',\n",
              "       'Giardiasis', 'Binge Eating Disorde', \"Tourette's Syndrome\",\n",
              "       'Trichomoniasis', 'acial Wrinkles',\n",
              "       '28</span> users found this comment helpful.',\n",
              "       'Pulmonary Embolism', 'Conjunctivitis, Allergic',\n",
              "       'Avian Influenza', '16</span> users found this comment helpful.',\n",
              "       'Hemangioma', 'Nocturnal Leg Cramps', 'Thyroid Suppression Test',\n",
              "       'Muscle Twitching', 'Pupillary Dilation',\n",
              "       'Lennox-Gastaut Syndrome', 'Opiate Adjunct', 'Postoperative Pain',\n",
              "       'Candida Urinary Tract Infection', 'Cerebral Spasticity',\n",
              "       'Lipodystrophy', 'Androgenetic Alopecia', 'Computed Tomography',\n",
              "       'Mitral Valve Prolapse', 'Vitamin D Deficiency',\n",
              "       'Glaucoma, Open Angle', 'Endoscopy or Radiology Premedication',\n",
              "       \"Alzheimer's Disease\", 'Gouty Arthritis',\n",
              "       'Paroxysmal Supraventricular Tachycardia',\n",
              "       'Deep Vein Thrombosis, Prophylaxis', 'Gaucher Disease',\n",
              "       'Lymphocytic Colitis', 'Pancreatic Cance', 'Cystic Fibrosis',\n",
              "       'Noninfectious Colitis',\n",
              "       '27</span> users found this comment helpful.', 'Nephrocalcinosis',\n",
              "       'Iron Deficiency Anemia', 'mulation) (phenylephrine)', 'Hiccups',\n",
              "       '75</span> users found this comment helpful.',\n",
              "       'Bronchospasm Prophylaxis', 'Chronic Spasticity',\n",
              "       'min / saxagliptin)', 'Post-Cholecystectomy Diarrhea',\n",
              "       'Postherpetic Neuralgia', 'Insomnia, Stimulant-Associated',\n",
              "       'COPD, Acute', 'Herpes Simplex Dendritic Keratitis',\n",
              "       'Oophorectomy', 'Cyclic Vomiting Syndrome',\n",
              "       'Chronic Lymphocytic Leukemia', 'Lyme Disease, Arthritis',\n",
              "       'Pseudomembranous Colitis', 'Conjunctivitis',\n",
              "       '15</span> users found this comment helpful.', 'min)',\n",
              "       'Intraocular Hypertension', 'Aphthous Ulce',\n",
              "       'Ulcerative Colitis, Maintenance', 'Melasma',\n",
              "       'Lyme Disease, Neurologic', 'ge (amlodipine / valsartan)',\n",
              "       'Herpes Zoste', '12</span> users found this comment helpful.',\n",
              "       'Cervical Dystonia', 'Labor Induction', 'Human Papilloma Virus',\n",
              "       'Chronic Pancreatitis', 'Polycythemia Vera',\n",
              "       '9</span> users found this comment helpful.',\n",
              "       'Dermatological Disorders', 'Lewy Body Dementia',\n",
              "       'amilial Mediterranean Feve', 'Neurosurgery', 'Gastroenteritis',\n",
              "       'Macular Edema', 'Tinea Pedis',\n",
              "       '7</span> users found this comment helpful.',\n",
              "       'Diagnosis and Investigation',\n",
              "       '35</span> users found this comment helpful.', 'Gas', 'Neuralgia',\n",
              "       'Local Anesthesia', '54</span> users found this comment helpful.',\n",
              "       'Acute Coronary Syndrome', 'Aspiration Pneumonia',\n",
              "       'Idiopathic Thrombocytopenic Purpura', 'Onychomycosis, Fingernail',\n",
              "       'Photoaging of the Skin', 'Premature Lab', 'Precocious Puberty',\n",
              "       'Prevention of Bladder infection', 'Seasonal Affective Disorde',\n",
              "       'Diabetic Kidney Disease', \"Crohn's Disease, Acute\",\n",
              "       'Insulin Resistance Syndrome', 'Pudendal Neuralgia',\n",
              "       \"Reiter's Syndrome\", '17</span> users found this comment helpful.',\n",
              "       'Amyotrophic Lateral Sclerosis', 'Body Dysmorphic Disorde',\n",
              "       'Prosthetic Heart Valves, Mechanical Valves - Thrombosis Prophylaxis',\n",
              "       'Dandruff', 'Vitamin B12 Deficiency', 'Bone infection',\n",
              "       'Prosthetic Heart Valves, Tissue Valves - Thrombosis Prophylaxis',\n",
              "       'Iritis', 'Allergic Urticaria', 'Cardiovascular Risk Reduction',\n",
              "       'Giant Cell Tumor of Bone', 'Babesiosis',\n",
              "       'Secondary Hyperparathyroidism', 'Hypoparathyroidism',\n",
              "       'Performance Anxiety', 'Abortion', 'Skin Cance',\n",
              "       'Ovulation Induction', 'Liver Magnetic Resonance Imaging',\n",
              "       'Vitamin/Mineral Supplementation and Deficiency',\n",
              "       '79</span> users found this comment helpful.',\n",
              "       'Herpes Simplex, Mucocutaneous/Immunocompetent Host',\n",
              "       '10</span> users found this comment helpful.',\n",
              "       'Anemia Associated with Chronic Renal Failure',\n",
              "       'Hyperphosphatemia of Renal Failure',\n",
              "       'Dissociative Identity Disorde', 'Anal Fissure and Fistula',\n",
              "       '14</span> users found this comment helpful.',\n",
              "       'Herpes Simplex, Mucocutaneous/Immunocompromised Host', 'Scabies',\n",
              "       '5</span> users found this comment helpful.', 'Endometrial Cance',\n",
              "       'Transient Ischemic Attack', 'Granuloma Annulare',\n",
              "       \"Traveler's Diarrhea\", 'Candidemia',\n",
              "       't Pac with Cyclobenzaprine (cyclobenzaprine)',\n",
              "       'Hypoactive Sexual Desire Disorde', 'Epicondylitis, Tennis Elbow',\n",
              "       'Nightmares', 'Dientamoeba fragilis', 'Ventricular Tachycardia',\n",
              "       'Dumping Syndrome', 'Myelodysplastic Syndrome', 'Hypodermoclysis',\n",
              "       'zen Shoulde', 'Topical Disinfection', 'Perioral Dermatitis',\n",
              "       'Agitation', 'Intermittent Claudication',\n",
              "       'Prevention of Osteoporosis', 'Leukemia', 'Dermatitis Herpeti',\n",
              "       'mis', 'Eosinophilic Esophagitis',\n",
              "       'Hyperlipoproteinemia Type IIa, Elevated LDL',\n",
              "       'Endometrial Hyperplasia',\n",
              "       '19</span> users found this comment helpful.', 'Peptic Ulce',\n",
              "       'Chronic Myofascial Pain', 'Enterocolitis',\n",
              "       'Secondary Cutaneous Bacterial Infections', 'Syringomyelia',\n",
              "       'Postoperative Ocular Inflammation',\n",
              "       'Persistent Depressive Disorde', 'Otitis Externa',\n",
              "       'Organ Transplant, Rejection Prophylaxis',\n",
              "       'Intermittent Explosive Disorde', 'Dermatophytosis',\n",
              "       'Inflammatory Bowel Disease', 'Porphyria', 'Anemia',\n",
              "       'Hyperuricemia Secondary to Chemotherapy',\n",
              "       'Wolff-Parkinson-White Syndrome', 'eve', 'Ectopic Pregnancy',\n",
              "       'Thyroid Cance', 'Tuberculosis, Latent',\n",
              "       'Nasal Carriage of Staphylococcus aureus', 'Systemic Candidiasis',\n",
              "       'Ear Wax Impaction', 'Hepatocellular Carcinoma', 'Dyspareunia',\n",
              "       '41</span> users found this comment helpful.', 'Tic Disorde',\n",
              "       'Head and Neck Cance', 'Klinefelter Syndrome', 'Rhinorrhea',\n",
              "       'Soft Tissue Sarcoma', 'Diabetic Macular Edema',\n",
              "       'Menopausal Disorders', 'Anesthetic Adjunct', 'Tinea Cruris',\n",
              "       'tic (mycophenolic acid)', 'Ischemic Stroke', 'Malignant Glioma',\n",
              "       'Thrombocythemia', 'Atrophic Urethritis', 'Systemic Sclerosis',\n",
              "       'Macular Degeneration', 'AIDS Related Wasting', 'Hemophilia A',\n",
              "       'Osteolytic Bone Lesions of Multiple Myeloma',\n",
              "       'Autoimmune Hemolytic Anemia', 'ailure to Thrive',\n",
              "       'Strongyloidiasis', 'Vitamin K Deficiency', 'Ulcerative Proctitis',\n",
              "       'Premenstrual Syndrome',\n",
              "       '23</span> users found this comment helpful.',\n",
              "       'Primary Hyperaldosteronism', 'Lactose Intolerance',\n",
              "       'Anal Itching', 'amilial Cold Autoinflammatory Syndrome',\n",
              "       'Duodenal Ulce', 'Tuberculosis, Prophylaxis', 'Neurosis',\n",
              "       \"Turner's Syndrome\", 'NSAID-Induced Gastric Ulce',\n",
              "       'CNS Magnetic Resonance Imaging', 'Atherosclerosis',\n",
              "       'Deep Vein Thrombosis Prophylaxis after Hip Replacement Surgery',\n",
              "       'Gastritis/Duodenitis', 'Diarrhea, Acute', 'Costochondritis',\n",
              "       'Portal Hypertension', 'Glaucoma/Intraocular Hypertension',\n",
              "       'Toothache', 'Benzodiazepine Withdrawal', 'm Pain Disorde',\n",
              "       'Esophageal Candidiasis',\n",
              "       'Deep Vein Thrombosis Prophylaxis after Knee Replacement Surgery',\n",
              "       'Peripheral Arterial Disease',\n",
              "       'Deep Vein Thrombosis, Recurrent Event', 'Pseudogout, Prophylaxis',\n",
              "       'Lichen Planus', 'CMV Prophylaxis',\n",
              "       '64</span> users found this comment helpful.', 'Neuritis',\n",
              "       'Typhoid Feve', 'Tardive Dyskinesia', 'Ichthyosis',\n",
              "       'Juvenile Rheumatoid Arthritis', 'B12 Nutritional Deficiency',\n",
              "       '18</span> users found this comment helpful.',\n",
              "       'Primary Nocturnal Enuresis',\n",
              "       '146</span> users found this comment helpful.', \"Dercum's Disease\",\n",
              "       'Cutaneous Candidiasis', 'Gingivitis', 'Q Feve', 'Hyperekplexia',\n",
              "       '44</span> users found this comment helpful.', 'Niacin Deficiency',\n",
              "       'Dietary Fiber Supplementation', 'Nephrotic Syndrome',\n",
              "       'Pinworm Infection (Enterobius vermicularis)',\n",
              "       'Pancreatic Exocrine Dysfunction',\n",
              "       'Nausea/Vomiting, Radiation Induced', 'Schilling Test',\n",
              "       'Mild Cognitive Impairment', 'Ischemic Stroke, Prophylaxis',\n",
              "       '20</span> users found this comment helpful.',\n",
              "       'Gonococcal Infection, Uncomplicated', 'Ovarian Cance',\n",
              "       'Eyelash Hypotrichosis', \"Meniere's Disease\", 'Tinea Capitis',\n",
              "       '21</span> users found this comment helpful.', 'Lichen Sclerosus',\n",
              "       'min / pioglitazone)', 'Renal Transplant', 'Gout, Prophylaxis',\n",
              "       \"von Willebrand's Disease\",\n",
              "       'Prevention of Atherothrombotic Events', 'Small Fiber Neuropathy',\n",
              "       '110</span> users found this comment helpful.',\n",
              "       'min / rosiglitazone)', \"Peyronie's Disease\",\n",
              "       'Autoimmune Hepatitis', 'llicular Lymphoma',\n",
              "       'Auditory Processing Disorde', 'Herpes Zoster, Prophylaxis',\n",
              "       'Submental Fullness', 'Lactation Augmentation',\n",
              "       'Radionuclide Myocardial Perfusion Study',\n",
              "       'Prevention of Cardiovascular Disease', 'Varicella-Zoste',\n",
              "       'Pelvic Inflammatory Disease', 'Intraabdominal Infection', 'Croup',\n",
              "       '85</span> users found this comment helpful.',\n",
              "       'Dermatologic Lesion',\n",
              "       'Hyperlipoproteinemia Type IV, Elevated VLDL', 'Expectoration',\n",
              "       'Primary Hyperaldosteronism Diagnosis', 'Abdominal Distension',\n",
              "       'Salivary Gland Cance', 'Pulmonary Embolism, First Event',\n",
              "       'Postpartum Breast Pain',\n",
              "       'Postural Orthostatic Tachycardia Syndrome',\n",
              "       '46</span> users found this comment helpful.',\n",
              "       'Pediatric Growth Hormone Deficiency', 'Hypomagnesemia',\n",
              "       'ge HCT (amlodipine / hydrochlorothiazide / valsartan)',\n",
              "       'Hairy Cell Leukemia', 'Histoplasmosis', 'Hypoglycemia',\n",
              "       '31</span> users found this comment helpful.', 'Brain Tum',\n",
              "       'Gastrointestinal Stromal Tum', 'Tetanus',\n",
              "       'Breast Cancer, Prevention', 'ICU Agitation', 'Women (minoxidil)',\n",
              "       'Peripheral T-cell Lymphoma',\n",
              "       'Chronic Inflammatory Demyelinating Polyradiculoneuropathy',\n",
              "       'Pathological Hypersecretory Conditions',\n",
              "       'Oral and Dental Conditions', 'Antiphospholipid Syndrome',\n",
              "       'Ventricular Arrhythmia', 'Asystole', \"Wegener's Granulomatosis\",\n",
              "       'Thromboembolic Stroke Prophylaxis',\n",
              "       'Platelet Aggregation Inhibition', 'Sleep Paralysis',\n",
              "       'Rejection Prophylaxis', 'Delayed Puberty, Male', 'Ascariasis',\n",
              "       '25</span> users found this comment helpful.',\n",
              "       'Acute Promyelocytic Leukemia',\n",
              "       '32</span> users found this comment helpful.', 'Bartonellosis',\n",
              "       'Cyclothymic Disorde', 'Hypokalemic Periodic Paralysis',\n",
              "       'Varicose Veins', 'Mononucleosis', 'Cachexia', 'Hyperkalemia',\n",
              "       \"Still's Disease\", '48</span> users found this comment helpful.',\n",
              "       'Dementia', 'Ocular Rosacea', 'Hidradenitis Suppurativa', 'SIADH',\n",
              "       'Bullous Pemphigoid', 'Angioedema',\n",
              "       'Mountain Sickness / Altitude Sickness',\n",
              "       'Severe Mood Dysregulation', 'Cutaneous T-cell Lymphoma',\n",
              "       'Adrenocortical Insufficiency', 'Myxedema Coma',\n",
              "       'Small Bowel Bacterial Overgrowth', 'Sunburn',\n",
              "       '33</span> users found this comment helpful.',\n",
              "       'Transverse Myelitis', 'Squamous Cell Carcinoma', 'Parkinsonism',\n",
              "       '22</span> users found this comment helpful.', 'Thyrotoxicosis',\n",
              "       '29</span> users found this comment helpful.',\n",
              "       '30</span> users found this comment helpful.',\n",
              "       'Epididymitis, Sexually Transmitted', 'Neck Pain',\n",
              "       'Bleeding Disorde', '63</span> users found this comment helpful.',\n",
              "       'actor IX Deficiency', 'Melanoma', 'Thrombocytopenia',\n",
              "       'Esophageal Variceal Hemorrhage Prophylaxis', 'Glioblastoma Multi',\n",
              "       'Cholera', 'Anorexia/Feeding Problems',\n",
              "       '45</span> users found this comment helpful.', 'Peritonitis',\n",
              "       'AV Heart Block', 'Pe', \"Wilson's Disease\",\n",
              "       'Nonalcoholic Fatty Liver Disease',\n",
              "       '34</span> users found this comment helpful.', 'Sepsis', 'Anthrax',\n",
              "       'Body Imaging', 'Aggressive Behavi', 'Hepatic Tum', 'Ehrlichiosis',\n",
              "       'Hypopituitarism', 'Gender Dysphoria', 'Infectious Diarrhea',\n",
              "       'Ventricular Fibrillation', 'Anaphylaxis', 'Pemphigus',\n",
              "       'Multiple Endocrine Adenomas', 'Pre-Exposure Prophylaxis',\n",
              "       'Postoperative Increased Intraocular Pressure',\n",
              "       'Pruritus of Partial Biliary Obstruction', 'Pertussis',\n",
              "       'Periodontitis', 'Lymphoma', 'Hypercalcemia of Malignancy',\n",
              "       'Pityriasis rubra pilaris', 'Amebiasis', 't Care',\n",
              "       'Hepatic Encephalopathy',\n",
              "       '55</span> users found this comment helpful.',\n",
              "       'Deep Neck Infection', 'Meningitis, Meningococcal',\n",
              "       'Parkinsonian Trem', 'Rabies Prophylaxis',\n",
              "       '39</span> users found this comment helpful.', 'Hypotension',\n",
              "       'Myelofibrosis', '98</span> users found this comment helpful.',\n",
              "       'cal Segmental Glomerulosclerosis',\n",
              "       'Gastric Ulcer Maintenance Treatment', \"Paget's Disease\",\n",
              "       'Infection Prophylaxis', 'Gastrointestinal Decontamination',\n",
              "       'Mixed Connective Tissue Disease',\n",
              "       '24</span> users found this comment helpful.',\n",
              "       'Somatoform Pain Disorde', 'Esophageal Spasm',\n",
              "       'Campylobacter Gastroenteritis', 'Hyperphosphatemia',\n",
              "       'Oligospermia', 'Wound Cleansing', 'Euvolemic Hyponatremia',\n",
              "       'Gallbladder Disease',\n",
              "       '84</span> users found this comment helpful.',\n",
              "       'Mycobacterium avium-intracellulare, Treatment',\n",
              "       'Oppositional Defiant Disorde', 'Legionella Pneumonia',\n",
              "       'Breast Cancer, Palliative', 'Hydrocephalus',\n",
              "       'Hyperlipoproteinemia Type III, Elevated beta-VLDL   IDL',\n",
              "       '36</span> users found this comment helpful.',\n",
              "       'Anaplastic Astrocytoma', \"Dupuytren's contracture\",\n",
              "       '40</span> users found this comment helpful.', 'Mumps Prophylaxis',\n",
              "       'Skin Disinfection, Preoperative', 'Hyperbilirubinemia',\n",
              "       'Meningitis', 'Corneal Ulce', 'acial Lipoatrophy',\n",
              "       '43</span> users found this comment helpful.',\n",
              "       'Percutaneous Coronary Intervention', 'Hepatitis B Prevention',\n",
              "       'Tuberculosis, Active', 'Cerebrovascular Insufficiency',\n",
              "       'Head Injury', 'Anti NMDA Receptor Encephalitis',\n",
              "       'Nonoccupational Exposure',\n",
              "       '72</span> users found this comment helpful.',\n",
              "       'Gonadotropin Inhibition', 'unctional Gastric Disorde',\n",
              "       'Chronic Eosinophilic Leukemia', 'Acetaminophen Overdose',\n",
              "       'Duodenal Ulcer Prophylaxis', 'Paragonimus westermani, Lung Fluke',\n",
              "       'Alpha-1 Proteinase Inhibitor Deficiency', \"Cogan's Syndrome\",\n",
              "       'Uterine Bleeding', 'Stomach Cance', 'Sporotrichosis',\n",
              "       'Cluster-Tic Syndrome', 'Gestational Diabetes',\n",
              "       'Stress Ulcer Prophylaxis',\n",
              "       'Reversal of Nondepolarizing Muscle Relaxants', 'Solid Tumors',\n",
              "       'mist (', 'Schnitzler Syndrome', 'Hypocalcemia',\n",
              "       '26</span> users found this comment helpful.',\n",
              "       'Meningococcal Meningitis Prophylaxis', 'Nocardiosis',\n",
              "       'Hemophilia B', '42</span> users found this comment helpful.',\n",
              "       'Microscopic polyangiitis', 'Gonococcal Infection, Disseminated',\n",
              "       'Neurotic Depression', 'Keratitis',\n",
              "       '99</span> users found this comment helpful.',\n",
              "       \"Hodgkin's Lymphoma\", 'me', 'STD Prophylaxis',\n",
              "       '123</span> users found this comment helpful.',\n",
              "       'Small Bowel or Pancreatic Fistula',\n",
              "       'Prevention of Perinatal Group B Streptococcal Disease',\n",
              "       '74</span> users found this comment helpful.', 'Cerebral Edema',\n",
              "       'Testicular Cance', 'Short Stature for Age',\n",
              "       '47</span> users found this comment helpful.',\n",
              "       'Aspergillosis, Aspergilloma', 'Pemphigoid',\n",
              "       'Hyperparathyroidism Secondary to Renal Impairment',\n",
              "       '76</span> users found this comment helpful.',\n",
              "       'Ramsay Hunt Syndrome', 'Cutaneous Larva Migrans',\n",
              "       'Occipital Neuralgia', 'Blepharitis', 'Patent Ductus Arteriosus',\n",
              "       'Joint Infection', '77</span> users found this comment helpful.',\n",
              "       'Manscaping Pain', 'Strabismus',\n",
              "       'Organ Transplant, Rejection Reversal',\n",
              "       'Leukocytoclastic Vasculitis', 'Coronary Artery Disease',\n",
              "       'Gastric Cance', 'ibrocystic Breast Disease',\n",
              "       '121</span> users found this comment helpful.',\n",
              "       'ungal Infection Prophylaxis', 'Short Stature', 'Hypercalcemia',\n",
              "       'Coccidioidomycosis', 'Cyclitis', 'Anemia, Chemotherapy Induced',\n",
              "       'Upper Limb Spasticity',\n",
              "       '95</span> users found this comment helpful.',\n",
              "       '61</span> users found this comment helpful.',\n",
              "       'Diagnostic Bronchograms', 'Neoplastic Diseases',\n",
              "       '51</span> users found this comment helpful.',\n",
              "       'Mycoplasma Pneumonia', 'Linear IgA Disease',\n",
              "       'Subarachnoid Hemorrhage', 'Myeloproliferative Disorders',\n",
              "       'ungal Pneumonia', '145</span> users found this comment helpful.',\n",
              "       'Scleroderma', 'Zollinger-Ellison Syndrome', 'Tinea Barbae',\n",
              "       'Acute Nonlymphocytic Leukemia',\n",
              "       '62</span> users found this comment helpful.',\n",
              "       '92</span> users found this comment helpful.', 'Neutropenia'],\n",
              "      dtype=object)"
            ]
          },
          "metadata": {
            "tags": []
          },
          "execution_count": 35
        }
      ]
    },
    {
      "metadata": {
        "id": "4qbVLPMkknQY",
        "colab_type": "code",
        "colab": {
          "base_uri": "https://localhost:8080/",
          "height": 34
        },
        "outputId": "ebd7193a-d202-4fe9-8070-df6041a8959b"
      },
      "cell_type": "code",
      "source": [
        "len(df['drugName'].unique())"
      ],
      "execution_count": 36,
      "outputs": [
        {
          "output_type": "execute_result",
          "data": {
            "text/plain": [
              "3431"
            ]
          },
          "metadata": {
            "tags": []
          },
          "execution_count": 36
        }
      ]
    },
    {
      "metadata": {
        "id": "AJDibjcklK9i",
        "colab_type": "code",
        "colab": {}
      },
      "cell_type": "code",
      "source": [
        "df = df[~df.condition.str.contains(\"</span>\")]"
      ],
      "execution_count": 0,
      "outputs": []
    },
    {
      "metadata": {
        "id": "vo6ar1Elk-hX",
        "colab_type": "code",
        "colab": {
          "base_uri": "https://localhost:8080/",
          "height": 2000
        },
        "outputId": "a498175b-2f85-4725-9997-a75a6c8e5220"
      },
      "cell_type": "code",
      "source": [
        "df.groupby('condition').count().sort_values(by=['rating'],ascending=False)"
      ],
      "execution_count": 39,
      "outputs": [
        {
          "output_type": "execute_result",
          "data": {
            "text/html": [
              "<div>\n",
              "<style scoped>\n",
              "    .dataframe tbody tr th:only-of-type {\n",
              "        vertical-align: middle;\n",
              "    }\n",
              "\n",
              "    .dataframe tbody tr th {\n",
              "        vertical-align: top;\n",
              "    }\n",
              "\n",
              "    .dataframe thead th {\n",
              "        text-align: right;\n",
              "    }\n",
              "</style>\n",
              "<table border=\"1\" class=\"dataframe\">\n",
              "  <thead>\n",
              "    <tr style=\"text-align: right;\">\n",
              "      <th></th>\n",
              "      <th>Unnamed: 0</th>\n",
              "      <th>drugName</th>\n",
              "      <th>review</th>\n",
              "      <th>rating</th>\n",
              "      <th>date</th>\n",
              "      <th>usefulCount</th>\n",
              "    </tr>\n",
              "    <tr>\n",
              "      <th>condition</th>\n",
              "      <th></th>\n",
              "      <th></th>\n",
              "      <th></th>\n",
              "      <th></th>\n",
              "      <th></th>\n",
              "      <th></th>\n",
              "    </tr>\n",
              "  </thead>\n",
              "  <tbody>\n",
              "    <tr>\n",
              "      <th>Birth Control</th>\n",
              "      <td>28788</td>\n",
              "      <td>28788</td>\n",
              "      <td>28788</td>\n",
              "      <td>28788</td>\n",
              "      <td>28788</td>\n",
              "      <td>28788</td>\n",
              "    </tr>\n",
              "    <tr>\n",
              "      <th>Depression</th>\n",
              "      <td>9069</td>\n",
              "      <td>9069</td>\n",
              "      <td>9069</td>\n",
              "      <td>9069</td>\n",
              "      <td>9069</td>\n",
              "      <td>9069</td>\n",
              "    </tr>\n",
              "    <tr>\n",
              "      <th>Pain</th>\n",
              "      <td>6145</td>\n",
              "      <td>6145</td>\n",
              "      <td>6145</td>\n",
              "      <td>6145</td>\n",
              "      <td>6145</td>\n",
              "      <td>6145</td>\n",
              "    </tr>\n",
              "    <tr>\n",
              "      <th>Anxiety</th>\n",
              "      <td>5904</td>\n",
              "      <td>5904</td>\n",
              "      <td>5904</td>\n",
              "      <td>5904</td>\n",
              "      <td>5904</td>\n",
              "      <td>5904</td>\n",
              "    </tr>\n",
              "    <tr>\n",
              "      <th>Acne</th>\n",
              "      <td>5588</td>\n",
              "      <td>5588</td>\n",
              "      <td>5588</td>\n",
              "      <td>5588</td>\n",
              "      <td>5588</td>\n",
              "      <td>5588</td>\n",
              "    </tr>\n",
              "    <tr>\n",
              "      <th>Bipolar Disorde</th>\n",
              "      <td>4224</td>\n",
              "      <td>4224</td>\n",
              "      <td>4224</td>\n",
              "      <td>4224</td>\n",
              "      <td>4224</td>\n",
              "      <td>4224</td>\n",
              "    </tr>\n",
              "    <tr>\n",
              "      <th>Insomnia</th>\n",
              "      <td>3673</td>\n",
              "      <td>3673</td>\n",
              "      <td>3673</td>\n",
              "      <td>3673</td>\n",
              "      <td>3673</td>\n",
              "      <td>3673</td>\n",
              "    </tr>\n",
              "    <tr>\n",
              "      <th>Weight Loss</th>\n",
              "      <td>3609</td>\n",
              "      <td>3609</td>\n",
              "      <td>3609</td>\n",
              "      <td>3609</td>\n",
              "      <td>3609</td>\n",
              "      <td>3609</td>\n",
              "    </tr>\n",
              "    <tr>\n",
              "      <th>Obesity</th>\n",
              "      <td>3568</td>\n",
              "      <td>3568</td>\n",
              "      <td>3568</td>\n",
              "      <td>3568</td>\n",
              "      <td>3568</td>\n",
              "      <td>3568</td>\n",
              "    </tr>\n",
              "    <tr>\n",
              "      <th>ADHD</th>\n",
              "      <td>3383</td>\n",
              "      <td>3383</td>\n",
              "      <td>3383</td>\n",
              "      <td>3383</td>\n",
              "      <td>3383</td>\n",
              "      <td>3383</td>\n",
              "    </tr>\n",
              "    <tr>\n",
              "      <th>Diabetes, Type 2</th>\n",
              "      <td>2554</td>\n",
              "      <td>2554</td>\n",
              "      <td>2554</td>\n",
              "      <td>2554</td>\n",
              "      <td>2554</td>\n",
              "      <td>2554</td>\n",
              "    </tr>\n",
              "    <tr>\n",
              "      <th>Emergency Contraception</th>\n",
              "      <td>2463</td>\n",
              "      <td>2463</td>\n",
              "      <td>2463</td>\n",
              "      <td>2463</td>\n",
              "      <td>2463</td>\n",
              "      <td>2463</td>\n",
              "    </tr>\n",
              "    <tr>\n",
              "      <th>High Blood Pressure</th>\n",
              "      <td>2321</td>\n",
              "      <td>2321</td>\n",
              "      <td>2321</td>\n",
              "      <td>2321</td>\n",
              "      <td>2321</td>\n",
              "      <td>2321</td>\n",
              "    </tr>\n",
              "    <tr>\n",
              "      <th>Vaginal Yeast Infection</th>\n",
              "      <td>2274</td>\n",
              "      <td>2274</td>\n",
              "      <td>2274</td>\n",
              "      <td>2274</td>\n",
              "      <td>2274</td>\n",
              "      <td>2274</td>\n",
              "    </tr>\n",
              "    <tr>\n",
              "      <th>Abnormal Uterine Bleeding</th>\n",
              "      <td>2096</td>\n",
              "      <td>2096</td>\n",
              "      <td>2096</td>\n",
              "      <td>2096</td>\n",
              "      <td>2096</td>\n",
              "      <td>2096</td>\n",
              "    </tr>\n",
              "    <tr>\n",
              "      <th>Bowel Preparation</th>\n",
              "      <td>1859</td>\n",
              "      <td>1859</td>\n",
              "      <td>1859</td>\n",
              "      <td>1859</td>\n",
              "      <td>1859</td>\n",
              "      <td>1859</td>\n",
              "    </tr>\n",
              "    <tr>\n",
              "      <th>ibromyalgia</th>\n",
              "      <td>1791</td>\n",
              "      <td>1791</td>\n",
              "      <td>1791</td>\n",
              "      <td>1791</td>\n",
              "      <td>1791</td>\n",
              "      <td>1791</td>\n",
              "    </tr>\n",
              "    <tr>\n",
              "      <th>Smoking Cessation</th>\n",
              "      <td>1780</td>\n",
              "      <td>1780</td>\n",
              "      <td>1780</td>\n",
              "      <td>1780</td>\n",
              "      <td>1780</td>\n",
              "      <td>1780</td>\n",
              "    </tr>\n",
              "    <tr>\n",
              "      <th>Migraine</th>\n",
              "      <td>1694</td>\n",
              "      <td>1694</td>\n",
              "      <td>1694</td>\n",
              "      <td>1694</td>\n",
              "      <td>1694</td>\n",
              "      <td>1694</td>\n",
              "    </tr>\n",
              "    <tr>\n",
              "      <th>Anxiety and Stress</th>\n",
              "      <td>1663</td>\n",
              "      <td>1663</td>\n",
              "      <td>1663</td>\n",
              "      <td>1663</td>\n",
              "      <td>1663</td>\n",
              "      <td>1663</td>\n",
              "    </tr>\n",
              "    <tr>\n",
              "      <th>Major Depressive Disorde</th>\n",
              "      <td>1607</td>\n",
              "      <td>1607</td>\n",
              "      <td>1607</td>\n",
              "      <td>1607</td>\n",
              "      <td>1607</td>\n",
              "      <td>1607</td>\n",
              "    </tr>\n",
              "    <tr>\n",
              "      <th>Constipation</th>\n",
              "      <td>1595</td>\n",
              "      <td>1595</td>\n",
              "      <td>1595</td>\n",
              "      <td>1595</td>\n",
              "      <td>1595</td>\n",
              "      <td>1595</td>\n",
              "    </tr>\n",
              "    <tr>\n",
              "      <th>Panic Disorde</th>\n",
              "      <td>1463</td>\n",
              "      <td>1463</td>\n",
              "      <td>1463</td>\n",
              "      <td>1463</td>\n",
              "      <td>1463</td>\n",
              "      <td>1463</td>\n",
              "    </tr>\n",
              "    <tr>\n",
              "      <th>Chronic Pain</th>\n",
              "      <td>1455</td>\n",
              "      <td>1455</td>\n",
              "      <td>1455</td>\n",
              "      <td>1455</td>\n",
              "      <td>1455</td>\n",
              "      <td>1455</td>\n",
              "    </tr>\n",
              "    <tr>\n",
              "      <th>Migraine Prevention</th>\n",
              "      <td>1413</td>\n",
              "      <td>1413</td>\n",
              "      <td>1413</td>\n",
              "      <td>1413</td>\n",
              "      <td>1413</td>\n",
              "      <td>1413</td>\n",
              "    </tr>\n",
              "    <tr>\n",
              "      <th>Urinary Tract Infection</th>\n",
              "      <td>1316</td>\n",
              "      <td>1316</td>\n",
              "      <td>1316</td>\n",
              "      <td>1316</td>\n",
              "      <td>1316</td>\n",
              "      <td>1316</td>\n",
              "    </tr>\n",
              "    <tr>\n",
              "      <th>Muscle Spasm</th>\n",
              "      <td>1244</td>\n",
              "      <td>1244</td>\n",
              "      <td>1244</td>\n",
              "      <td>1244</td>\n",
              "      <td>1244</td>\n",
              "      <td>1244</td>\n",
              "    </tr>\n",
              "    <tr>\n",
              "      <th>Osteoarthritis</th>\n",
              "      <td>1239</td>\n",
              "      <td>1239</td>\n",
              "      <td>1239</td>\n",
              "      <td>1239</td>\n",
              "      <td>1239</td>\n",
              "      <td>1239</td>\n",
              "    </tr>\n",
              "    <tr>\n",
              "      <th>Generalized Anxiety Disorde</th>\n",
              "      <td>1164</td>\n",
              "      <td>1164</td>\n",
              "      <td>1164</td>\n",
              "      <td>1164</td>\n",
              "      <td>1164</td>\n",
              "      <td>1164</td>\n",
              "    </tr>\n",
              "    <tr>\n",
              "      <th>Erectile Dysfunction</th>\n",
              "      <td>1086</td>\n",
              "      <td>1086</td>\n",
              "      <td>1086</td>\n",
              "      <td>1086</td>\n",
              "      <td>1086</td>\n",
              "      <td>1086</td>\n",
              "    </tr>\n",
              "    <tr>\n",
              "      <th>...</th>\n",
              "      <td>...</td>\n",
              "      <td>...</td>\n",
              "      <td>...</td>\n",
              "      <td>...</td>\n",
              "      <td>...</td>\n",
              "      <td>...</td>\n",
              "    </tr>\n",
              "    <tr>\n",
              "      <th>Upper Limb Spasticity</th>\n",
              "      <td>1</td>\n",
              "      <td>1</td>\n",
              "      <td>1</td>\n",
              "      <td>1</td>\n",
              "      <td>1</td>\n",
              "      <td>1</td>\n",
              "    </tr>\n",
              "    <tr>\n",
              "      <th>Anti NMDA Receptor Encephalitis</th>\n",
              "      <td>1</td>\n",
              "      <td>1</td>\n",
              "      <td>1</td>\n",
              "      <td>1</td>\n",
              "      <td>1</td>\n",
              "      <td>1</td>\n",
              "    </tr>\n",
              "    <tr>\n",
              "      <th>Gestational Diabetes</th>\n",
              "      <td>1</td>\n",
              "      <td>1</td>\n",
              "      <td>1</td>\n",
              "      <td>1</td>\n",
              "      <td>1</td>\n",
              "      <td>1</td>\n",
              "    </tr>\n",
              "    <tr>\n",
              "      <th>Gastric Cance</th>\n",
              "      <td>1</td>\n",
              "      <td>1</td>\n",
              "      <td>1</td>\n",
              "      <td>1</td>\n",
              "      <td>1</td>\n",
              "      <td>1</td>\n",
              "    </tr>\n",
              "    <tr>\n",
              "      <th>Gallbladder Disease</th>\n",
              "      <td>1</td>\n",
              "      <td>1</td>\n",
              "      <td>1</td>\n",
              "      <td>1</td>\n",
              "      <td>1</td>\n",
              "      <td>1</td>\n",
              "    </tr>\n",
              "    <tr>\n",
              "      <th>Occipital Neuralgia</th>\n",
              "      <td>1</td>\n",
              "      <td>1</td>\n",
              "      <td>1</td>\n",
              "      <td>1</td>\n",
              "      <td>1</td>\n",
              "      <td>1</td>\n",
              "    </tr>\n",
              "    <tr>\n",
              "      <th>Scleroderma</th>\n",
              "      <td>1</td>\n",
              "      <td>1</td>\n",
              "      <td>1</td>\n",
              "      <td>1</td>\n",
              "      <td>1</td>\n",
              "      <td>1</td>\n",
              "    </tr>\n",
              "    <tr>\n",
              "      <th>Aspergillosis, Aspergilloma</th>\n",
              "      <td>1</td>\n",
              "      <td>1</td>\n",
              "      <td>1</td>\n",
              "      <td>1</td>\n",
              "      <td>1</td>\n",
              "      <td>1</td>\n",
              "    </tr>\n",
              "    <tr>\n",
              "      <th>Esophageal Spasm</th>\n",
              "      <td>1</td>\n",
              "      <td>1</td>\n",
              "      <td>1</td>\n",
              "      <td>1</td>\n",
              "      <td>1</td>\n",
              "      <td>1</td>\n",
              "    </tr>\n",
              "    <tr>\n",
              "      <th>Transverse Myelitis</th>\n",
              "      <td>1</td>\n",
              "      <td>1</td>\n",
              "      <td>1</td>\n",
              "      <td>1</td>\n",
              "      <td>1</td>\n",
              "      <td>1</td>\n",
              "    </tr>\n",
              "    <tr>\n",
              "      <th>Oppositional Defiant Disorde</th>\n",
              "      <td>1</td>\n",
              "      <td>1</td>\n",
              "      <td>1</td>\n",
              "      <td>1</td>\n",
              "      <td>1</td>\n",
              "      <td>1</td>\n",
              "    </tr>\n",
              "    <tr>\n",
              "      <th>Asystole</th>\n",
              "      <td>1</td>\n",
              "      <td>1</td>\n",
              "      <td>1</td>\n",
              "      <td>1</td>\n",
              "      <td>1</td>\n",
              "      <td>1</td>\n",
              "    </tr>\n",
              "    <tr>\n",
              "      <th>Epididymitis, Sexually Transmitted</th>\n",
              "      <td>1</td>\n",
              "      <td>1</td>\n",
              "      <td>1</td>\n",
              "      <td>1</td>\n",
              "      <td>1</td>\n",
              "      <td>1</td>\n",
              "    </tr>\n",
              "    <tr>\n",
              "      <th>Epicondylitis, Tennis Elbow</th>\n",
              "      <td>1</td>\n",
              "      <td>1</td>\n",
              "      <td>1</td>\n",
              "      <td>1</td>\n",
              "      <td>1</td>\n",
              "      <td>1</td>\n",
              "    </tr>\n",
              "    <tr>\n",
              "      <th>Organ Transplant, Rejection Reversal</th>\n",
              "      <td>1</td>\n",
              "      <td>1</td>\n",
              "      <td>1</td>\n",
              "      <td>1</td>\n",
              "      <td>1</td>\n",
              "      <td>1</td>\n",
              "    </tr>\n",
              "    <tr>\n",
              "      <th>Ehrlichiosis</th>\n",
              "      <td>1</td>\n",
              "      <td>1</td>\n",
              "      <td>1</td>\n",
              "      <td>1</td>\n",
              "      <td>1</td>\n",
              "      <td>1</td>\n",
              "    </tr>\n",
              "    <tr>\n",
              "      <th>Paragonimus westermani, Lung Fluke</th>\n",
              "      <td>1</td>\n",
              "      <td>1</td>\n",
              "      <td>1</td>\n",
              "      <td>1</td>\n",
              "      <td>1</td>\n",
              "      <td>1</td>\n",
              "    </tr>\n",
              "    <tr>\n",
              "      <th>Parkinsonian Trem</th>\n",
              "      <td>1</td>\n",
              "      <td>1</td>\n",
              "      <td>1</td>\n",
              "      <td>1</td>\n",
              "      <td>1</td>\n",
              "      <td>1</td>\n",
              "    </tr>\n",
              "    <tr>\n",
              "      <th>Parkinsonism</th>\n",
              "      <td>1</td>\n",
              "      <td>1</td>\n",
              "      <td>1</td>\n",
              "      <td>1</td>\n",
              "      <td>1</td>\n",
              "      <td>1</td>\n",
              "    </tr>\n",
              "    <tr>\n",
              "      <th>Tinea Barbae</th>\n",
              "      <td>1</td>\n",
              "      <td>1</td>\n",
              "      <td>1</td>\n",
              "      <td>1</td>\n",
              "      <td>1</td>\n",
              "      <td>1</td>\n",
              "    </tr>\n",
              "    <tr>\n",
              "      <th>Patent Ductus Arteriosus</th>\n",
              "      <td>1</td>\n",
              "      <td>1</td>\n",
              "      <td>1</td>\n",
              "      <td>1</td>\n",
              "      <td>1</td>\n",
              "      <td>1</td>\n",
              "    </tr>\n",
              "    <tr>\n",
              "      <th>Thyrotoxicosis</th>\n",
              "      <td>1</td>\n",
              "      <td>1</td>\n",
              "      <td>1</td>\n",
              "      <td>1</td>\n",
              "      <td>1</td>\n",
              "      <td>1</td>\n",
              "    </tr>\n",
              "    <tr>\n",
              "      <th>Thyroid Suppression Test</th>\n",
              "      <td>1</td>\n",
              "      <td>1</td>\n",
              "      <td>1</td>\n",
              "      <td>1</td>\n",
              "      <td>1</td>\n",
              "      <td>1</td>\n",
              "    </tr>\n",
              "    <tr>\n",
              "      <th>Pemphigoid</th>\n",
              "      <td>1</td>\n",
              "      <td>1</td>\n",
              "      <td>1</td>\n",
              "      <td>1</td>\n",
              "      <td>1</td>\n",
              "      <td>1</td>\n",
              "    </tr>\n",
              "    <tr>\n",
              "      <th>Dissociative Identity Disorde</th>\n",
              "      <td>1</td>\n",
              "      <td>1</td>\n",
              "      <td>1</td>\n",
              "      <td>1</td>\n",
              "      <td>1</td>\n",
              "      <td>1</td>\n",
              "    </tr>\n",
              "    <tr>\n",
              "      <th>Diagnostic Bronchograms</th>\n",
              "      <td>1</td>\n",
              "      <td>1</td>\n",
              "      <td>1</td>\n",
              "      <td>1</td>\n",
              "      <td>1</td>\n",
              "      <td>1</td>\n",
              "    </tr>\n",
              "    <tr>\n",
              "      <th>Portal Hypertension</th>\n",
              "      <td>1</td>\n",
              "      <td>1</td>\n",
              "      <td>1</td>\n",
              "      <td>1</td>\n",
              "      <td>1</td>\n",
              "      <td>1</td>\n",
              "    </tr>\n",
              "    <tr>\n",
              "      <th>Dermatitis Herpetiformis</th>\n",
              "      <td>1</td>\n",
              "      <td>1</td>\n",
              "      <td>1</td>\n",
              "      <td>1</td>\n",
              "      <td>1</td>\n",
              "      <td>1</td>\n",
              "    </tr>\n",
              "    <tr>\n",
              "      <th>Dermatitis Herpeti</th>\n",
              "      <td>1</td>\n",
              "      <td>1</td>\n",
              "      <td>1</td>\n",
              "      <td>1</td>\n",
              "      <td>1</td>\n",
              "      <td>1</td>\n",
              "    </tr>\n",
              "    <tr>\n",
              "      <th>Tuberculosis, Active</th>\n",
              "      <td>1</td>\n",
              "      <td>1</td>\n",
              "      <td>1</td>\n",
              "      <td>1</td>\n",
              "      <td>1</td>\n",
              "      <td>1</td>\n",
              "    </tr>\n",
              "  </tbody>\n",
              "</table>\n",
              "<p>811 rows × 6 columns</p>\n",
              "</div>"
            ],
            "text/plain": [
              "                                      Unnamed: 0  drugName  review  rating  \\\n",
              "condition                                                                    \n",
              "Birth Control                              28788     28788   28788   28788   \n",
              "Depression                                  9069      9069    9069    9069   \n",
              "Pain                                        6145      6145    6145    6145   \n",
              "Anxiety                                     5904      5904    5904    5904   \n",
              "Acne                                        5588      5588    5588    5588   \n",
              "Bipolar Disorde                             4224      4224    4224    4224   \n",
              "Insomnia                                    3673      3673    3673    3673   \n",
              "Weight Loss                                 3609      3609    3609    3609   \n",
              "Obesity                                     3568      3568    3568    3568   \n",
              "ADHD                                        3383      3383    3383    3383   \n",
              "Diabetes, Type 2                            2554      2554    2554    2554   \n",
              "Emergency Contraception                     2463      2463    2463    2463   \n",
              "High Blood Pressure                         2321      2321    2321    2321   \n",
              "Vaginal Yeast Infection                     2274      2274    2274    2274   \n",
              "Abnormal Uterine Bleeding                   2096      2096    2096    2096   \n",
              "Bowel Preparation                           1859      1859    1859    1859   \n",
              "ibromyalgia                                 1791      1791    1791    1791   \n",
              "Smoking Cessation                           1780      1780    1780    1780   \n",
              "Migraine                                    1694      1694    1694    1694   \n",
              "Anxiety and Stress                          1663      1663    1663    1663   \n",
              "Major Depressive Disorde                    1607      1607    1607    1607   \n",
              "Constipation                                1595      1595    1595    1595   \n",
              "Panic Disorde                               1463      1463    1463    1463   \n",
              "Chronic Pain                                1455      1455    1455    1455   \n",
              "Migraine Prevention                         1413      1413    1413    1413   \n",
              "Urinary Tract Infection                     1316      1316    1316    1316   \n",
              "Muscle Spasm                                1244      1244    1244    1244   \n",
              "Osteoarthritis                              1239      1239    1239    1239   \n",
              "Generalized Anxiety Disorde                 1164      1164    1164    1164   \n",
              "Erectile Dysfunction                        1086      1086    1086    1086   \n",
              "...                                          ...       ...     ...     ...   \n",
              "Upper Limb Spasticity                          1         1       1       1   \n",
              "Anti NMDA Receptor Encephalitis                1         1       1       1   \n",
              "Gestational Diabetes                           1         1       1       1   \n",
              "Gastric Cance                                  1         1       1       1   \n",
              "Gallbladder Disease                            1         1       1       1   \n",
              "Occipital Neuralgia                            1         1       1       1   \n",
              "Scleroderma                                    1         1       1       1   \n",
              "Aspergillosis, Aspergilloma                    1         1       1       1   \n",
              "Esophageal Spasm                               1         1       1       1   \n",
              "Transverse Myelitis                            1         1       1       1   \n",
              "Oppositional Defiant Disorde                   1         1       1       1   \n",
              "Asystole                                       1         1       1       1   \n",
              "Epididymitis, Sexually Transmitted             1         1       1       1   \n",
              "Epicondylitis, Tennis Elbow                    1         1       1       1   \n",
              "Organ Transplant, Rejection Reversal           1         1       1       1   \n",
              "Ehrlichiosis                                   1         1       1       1   \n",
              "Paragonimus westermani, Lung Fluke             1         1       1       1   \n",
              "Parkinsonian Trem                              1         1       1       1   \n",
              "Parkinsonism                                   1         1       1       1   \n",
              "Tinea Barbae                                   1         1       1       1   \n",
              "Patent Ductus Arteriosus                       1         1       1       1   \n",
              "Thyrotoxicosis                                 1         1       1       1   \n",
              "Thyroid Suppression Test                       1         1       1       1   \n",
              "Pemphigoid                                     1         1       1       1   \n",
              "Dissociative Identity Disorde                  1         1       1       1   \n",
              "Diagnostic Bronchograms                        1         1       1       1   \n",
              "Portal Hypertension                            1         1       1       1   \n",
              "Dermatitis Herpetiformis                       1         1       1       1   \n",
              "Dermatitis Herpeti                             1         1       1       1   \n",
              "Tuberculosis, Active                           1         1       1       1   \n",
              "\n",
              "                                       date  usefulCount  \n",
              "condition                                                 \n",
              "Birth Control                         28788        28788  \n",
              "Depression                             9069         9069  \n",
              "Pain                                   6145         6145  \n",
              "Anxiety                                5904         5904  \n",
              "Acne                                   5588         5588  \n",
              "Bipolar Disorde                        4224         4224  \n",
              "Insomnia                               3673         3673  \n",
              "Weight Loss                            3609         3609  \n",
              "Obesity                                3568         3568  \n",
              "ADHD                                   3383         3383  \n",
              "Diabetes, Type 2                       2554         2554  \n",
              "Emergency Contraception                2463         2463  \n",
              "High Blood Pressure                    2321         2321  \n",
              "Vaginal Yeast Infection                2274         2274  \n",
              "Abnormal Uterine Bleeding              2096         2096  \n",
              "Bowel Preparation                      1859         1859  \n",
              "ibromyalgia                            1791         1791  \n",
              "Smoking Cessation                      1780         1780  \n",
              "Migraine                               1694         1694  \n",
              "Anxiety and Stress                     1663         1663  \n",
              "Major Depressive Disorde               1607         1607  \n",
              "Constipation                           1595         1595  \n",
              "Panic Disorde                          1463         1463  \n",
              "Chronic Pain                           1455         1455  \n",
              "Migraine Prevention                    1413         1413  \n",
              "Urinary Tract Infection                1316         1316  \n",
              "Muscle Spasm                           1244         1244  \n",
              "Osteoarthritis                         1239         1239  \n",
              "Generalized Anxiety Disorde            1164         1164  \n",
              "Erectile Dysfunction                   1086         1086  \n",
              "...                                     ...          ...  \n",
              "Upper Limb Spasticity                     1            1  \n",
              "Anti NMDA Receptor Encephalitis           1            1  \n",
              "Gestational Diabetes                      1            1  \n",
              "Gastric Cance                             1            1  \n",
              "Gallbladder Disease                       1            1  \n",
              "Occipital Neuralgia                       1            1  \n",
              "Scleroderma                               1            1  \n",
              "Aspergillosis, Aspergilloma               1            1  \n",
              "Esophageal Spasm                          1            1  \n",
              "Transverse Myelitis                       1            1  \n",
              "Oppositional Defiant Disorde              1            1  \n",
              "Asystole                                  1            1  \n",
              "Epididymitis, Sexually Transmitted        1            1  \n",
              "Epicondylitis, Tennis Elbow               1            1  \n",
              "Organ Transplant, Rejection Reversal      1            1  \n",
              "Ehrlichiosis                              1            1  \n",
              "Paragonimus westermani, Lung Fluke        1            1  \n",
              "Parkinsonian Trem                         1            1  \n",
              "Parkinsonism                              1            1  \n",
              "Tinea Barbae                              1            1  \n",
              "Patent Ductus Arteriosus                  1            1  \n",
              "Thyrotoxicosis                            1            1  \n",
              "Thyroid Suppression Test                  1            1  \n",
              "Pemphigoid                                1            1  \n",
              "Dissociative Identity Disorde             1            1  \n",
              "Diagnostic Bronchograms                   1            1  \n",
              "Portal Hypertension                       1            1  \n",
              "Dermatitis Herpetiformis                  1            1  \n",
              "Dermatitis Herpeti                        1            1  \n",
              "Tuberculosis, Active                      1            1  \n",
              "\n",
              "[811 rows x 6 columns]"
            ]
          },
          "metadata": {
            "tags": []
          },
          "execution_count": 39
        }
      ]
    },
    {
      "metadata": {
        "id": "HMbQcqbUVWaL",
        "colab_type": "code",
        "colab": {
          "base_uri": "https://localhost:8080/",
          "height": 204
        },
        "outputId": "5020a449-790d-4785-aba7-59b2d8a1dd8e"
      },
      "cell_type": "code",
      "source": [
        "birth_control = df[df['condition'] == 'Birth Control']\n",
        "birth_control.head()"
      ],
      "execution_count": 41,
      "outputs": [
        {
          "output_type": "execute_result",
          "data": {
            "text/html": [
              "<div>\n",
              "<style scoped>\n",
              "    .dataframe tbody tr th:only-of-type {\n",
              "        vertical-align: middle;\n",
              "    }\n",
              "\n",
              "    .dataframe tbody tr th {\n",
              "        vertical-align: top;\n",
              "    }\n",
              "\n",
              "    .dataframe thead th {\n",
              "        text-align: right;\n",
              "    }\n",
              "</style>\n",
              "<table border=\"1\" class=\"dataframe\">\n",
              "  <thead>\n",
              "    <tr style=\"text-align: right;\">\n",
              "      <th></th>\n",
              "      <th>Unnamed: 0</th>\n",
              "      <th>drugName</th>\n",
              "      <th>condition</th>\n",
              "      <th>review</th>\n",
              "      <th>rating</th>\n",
              "      <th>date</th>\n",
              "      <th>usefulCount</th>\n",
              "    </tr>\n",
              "  </thead>\n",
              "  <tbody>\n",
              "    <tr>\n",
              "      <th>2</th>\n",
              "      <td>92703</td>\n",
              "      <td>Lybrel</td>\n",
              "      <td>Birth Control</td>\n",
              "      <td>\"I used to take another oral contraceptive, wh...</td>\n",
              "      <td>5.0</td>\n",
              "      <td>December 14, 2009</td>\n",
              "      <td>17</td>\n",
              "    </tr>\n",
              "    <tr>\n",
              "      <th>3</th>\n",
              "      <td>138000</td>\n",
              "      <td>Ortho Evra</td>\n",
              "      <td>Birth Control</td>\n",
              "      <td>\"This is my first time using any form of birth...</td>\n",
              "      <td>8.0</td>\n",
              "      <td>November 3, 2015</td>\n",
              "      <td>10</td>\n",
              "    </tr>\n",
              "    <tr>\n",
              "      <th>9</th>\n",
              "      <td>48928</td>\n",
              "      <td>Ethinyl estradiol / levonorgestrel</td>\n",
              "      <td>Birth Control</td>\n",
              "      <td>\"I had been on the pill for many years. When m...</td>\n",
              "      <td>8.0</td>\n",
              "      <td>December 8, 2016</td>\n",
              "      <td>1</td>\n",
              "    </tr>\n",
              "    <tr>\n",
              "      <th>14</th>\n",
              "      <td>98494</td>\n",
              "      <td>Nexplanon</td>\n",
              "      <td>Birth Control</td>\n",
              "      <td>\"Started Nexplanon 2 months ago because I have...</td>\n",
              "      <td>3.0</td>\n",
              "      <td>August 7, 2014</td>\n",
              "      <td>10</td>\n",
              "    </tr>\n",
              "    <tr>\n",
              "      <th>22</th>\n",
              "      <td>227020</td>\n",
              "      <td>Etonogestrel</td>\n",
              "      <td>Birth Control</td>\n",
              "      <td>\"Nexplanon does its job. I can have worry free...</td>\n",
              "      <td>9.0</td>\n",
              "      <td>August 11, 2014</td>\n",
              "      <td>11</td>\n",
              "    </tr>\n",
              "  </tbody>\n",
              "</table>\n",
              "</div>"
            ],
            "text/plain": [
              "    Unnamed: 0                            drugName      condition  \\\n",
              "2        92703                              Lybrel  Birth Control   \n",
              "3       138000                          Ortho Evra  Birth Control   \n",
              "9        48928  Ethinyl estradiol / levonorgestrel  Birth Control   \n",
              "14       98494                           Nexplanon  Birth Control   \n",
              "22      227020                        Etonogestrel  Birth Control   \n",
              "\n",
              "                                               review  rating  \\\n",
              "2   \"I used to take another oral contraceptive, wh...     5.0   \n",
              "3   \"This is my first time using any form of birth...     8.0   \n",
              "9   \"I had been on the pill for many years. When m...     8.0   \n",
              "14  \"Started Nexplanon 2 months ago because I have...     3.0   \n",
              "22  \"Nexplanon does its job. I can have worry free...     9.0   \n",
              "\n",
              "                 date  usefulCount  \n",
              "2   December 14, 2009           17  \n",
              "3    November 3, 2015           10  \n",
              "9    December 8, 2016            1  \n",
              "14     August 7, 2014           10  \n",
              "22    August 11, 2014           11  "
            ]
          },
          "metadata": {
            "tags": []
          },
          "execution_count": 41
        }
      ]
    },
    {
      "metadata": {
        "id": "Lv2qVZCpVeTA",
        "colab_type": "code",
        "colab": {
          "base_uri": "https://localhost:8080/",
          "height": 297
        },
        "outputId": "76602981-faea-4ba5-e2a3-79345c458c2c"
      },
      "cell_type": "code",
      "source": [
        "birth_control.describe()"
      ],
      "execution_count": 42,
      "outputs": [
        {
          "output_type": "execute_result",
          "data": {
            "text/html": [
              "<div>\n",
              "<style scoped>\n",
              "    .dataframe tbody tr th:only-of-type {\n",
              "        vertical-align: middle;\n",
              "    }\n",
              "\n",
              "    .dataframe tbody tr th {\n",
              "        vertical-align: top;\n",
              "    }\n",
              "\n",
              "    .dataframe thead th {\n",
              "        text-align: right;\n",
              "    }\n",
              "</style>\n",
              "<table border=\"1\" class=\"dataframe\">\n",
              "  <thead>\n",
              "    <tr style=\"text-align: right;\">\n",
              "      <th></th>\n",
              "      <th>Unnamed: 0</th>\n",
              "      <th>rating</th>\n",
              "      <th>usefulCount</th>\n",
              "    </tr>\n",
              "  </thead>\n",
              "  <tbody>\n",
              "    <tr>\n",
              "      <th>count</th>\n",
              "      <td>28788.000000</td>\n",
              "      <td>28788.000000</td>\n",
              "      <td>28788.000000</td>\n",
              "    </tr>\n",
              "    <tr>\n",
              "      <th>mean</th>\n",
              "      <td>110572.633945</td>\n",
              "      <td>6.089933</td>\n",
              "      <td>7.792344</td>\n",
              "    </tr>\n",
              "    <tr>\n",
              "      <th>std</th>\n",
              "      <td>64290.776034</td>\n",
              "      <td>3.305941</td>\n",
              "      <td>17.673734</td>\n",
              "    </tr>\n",
              "    <tr>\n",
              "      <th>min</th>\n",
              "      <td>4.000000</td>\n",
              "      <td>1.000000</td>\n",
              "      <td>0.000000</td>\n",
              "    </tr>\n",
              "    <tr>\n",
              "      <th>25%</th>\n",
              "      <td>59980.500000</td>\n",
              "      <td>3.000000</td>\n",
              "      <td>2.000000</td>\n",
              "    </tr>\n",
              "    <tr>\n",
              "      <th>50%</th>\n",
              "      <td>107863.500000</td>\n",
              "      <td>7.000000</td>\n",
              "      <td>5.000000</td>\n",
              "    </tr>\n",
              "    <tr>\n",
              "      <th>75%</th>\n",
              "      <td>148931.250000</td>\n",
              "      <td>9.000000</td>\n",
              "      <td>9.000000</td>\n",
              "    </tr>\n",
              "    <tr>\n",
              "      <th>max</th>\n",
              "      <td>232200.000000</td>\n",
              "      <td>10.000000</td>\n",
              "      <td>1247.000000</td>\n",
              "    </tr>\n",
              "  </tbody>\n",
              "</table>\n",
              "</div>"
            ],
            "text/plain": [
              "          Unnamed: 0        rating   usefulCount\n",
              "count   28788.000000  28788.000000  28788.000000\n",
              "mean   110572.633945      6.089933      7.792344\n",
              "std     64290.776034      3.305941     17.673734\n",
              "min         4.000000      1.000000      0.000000\n",
              "25%     59980.500000      3.000000      2.000000\n",
              "50%    107863.500000      7.000000      5.000000\n",
              "75%    148931.250000      9.000000      9.000000\n",
              "max    232200.000000     10.000000   1247.000000"
            ]
          },
          "metadata": {
            "tags": []
          },
          "execution_count": 42
        }
      ]
    },
    {
      "metadata": {
        "id": "mQMfJq9Zh8qS",
        "colab_type": "code",
        "colab": {
          "base_uri": "https://localhost:8080/",
          "height": 204
        },
        "outputId": "35e4d96f-883e-4e28-f738-fe8f56ff829d"
      },
      "cell_type": "code",
      "source": [
        "erectile_dysfunction = df[df['condition'] == 'Erectile Dysfunction']\n",
        "erectile_dysfunction.head()"
      ],
      "execution_count": 43,
      "outputs": [
        {
          "output_type": "execute_result",
          "data": {
            "text/html": [
              "<div>\n",
              "<style scoped>\n",
              "    .dataframe tbody tr th:only-of-type {\n",
              "        vertical-align: middle;\n",
              "    }\n",
              "\n",
              "    .dataframe tbody tr th {\n",
              "        vertical-align: top;\n",
              "    }\n",
              "\n",
              "    .dataframe thead th {\n",
              "        text-align: right;\n",
              "    }\n",
              "</style>\n",
              "<table border=\"1\" class=\"dataframe\">\n",
              "  <thead>\n",
              "    <tr style=\"text-align: right;\">\n",
              "      <th></th>\n",
              "      <th>Unnamed: 0</th>\n",
              "      <th>drugName</th>\n",
              "      <th>condition</th>\n",
              "      <th>review</th>\n",
              "      <th>rating</th>\n",
              "      <th>date</th>\n",
              "      <th>usefulCount</th>\n",
              "    </tr>\n",
              "  </thead>\n",
              "  <tbody>\n",
              "    <tr>\n",
              "      <th>76</th>\n",
              "      <td>216434</td>\n",
              "      <td>Sildenafil</td>\n",
              "      <td>Erectile Dysfunction</td>\n",
              "      <td>\"Awesome!  My new boyfriend has a few issues; ...</td>\n",
              "      <td>10.0</td>\n",
              "      <td>October 14, 2015</td>\n",
              "      <td>14</td>\n",
              "    </tr>\n",
              "    <tr>\n",
              "      <th>368</th>\n",
              "      <td>156065</td>\n",
              "      <td>Cialis</td>\n",
              "      <td>Erectile Dysfunction</td>\n",
              "      <td>\"I have only tried the generic version of Cial...</td>\n",
              "      <td>2.0</td>\n",
              "      <td>November 6, 2013</td>\n",
              "      <td>34</td>\n",
              "    </tr>\n",
              "    <tr>\n",
              "      <th>660</th>\n",
              "      <td>156013</td>\n",
              "      <td>Cialis</td>\n",
              "      <td>Erectile Dysfunction</td>\n",
              "      <td>\"I am 60 and have ED. I have been taking Ciali...</td>\n",
              "      <td>10.0</td>\n",
              "      <td>February 25, 2016</td>\n",
              "      <td>79</td>\n",
              "    </tr>\n",
              "    <tr>\n",
              "      <th>795</th>\n",
              "      <td>155931</td>\n",
              "      <td>Cialis</td>\n",
              "      <td>Erectile Dysfunction</td>\n",
              "      <td>\"I&amp;#039;ve been taking 10mg Cialis daily for t...</td>\n",
              "      <td>10.0</td>\n",
              "      <td>November 7, 2014</td>\n",
              "      <td>92</td>\n",
              "    </tr>\n",
              "    <tr>\n",
              "      <th>1104</th>\n",
              "      <td>228866</td>\n",
              "      <td>Tadalafil</td>\n",
              "      <td>Erectile Dysfunction</td>\n",
              "      <td>\"This stuff straight up works. I&amp;#039;m a 27 y...</td>\n",
              "      <td>9.0</td>\n",
              "      <td>January 28, 2017</td>\n",
              "      <td>75</td>\n",
              "    </tr>\n",
              "  </tbody>\n",
              "</table>\n",
              "</div>"
            ],
            "text/plain": [
              "      Unnamed: 0    drugName             condition  \\\n",
              "76        216434  Sildenafil  Erectile Dysfunction   \n",
              "368       156065      Cialis  Erectile Dysfunction   \n",
              "660       156013      Cialis  Erectile Dysfunction   \n",
              "795       155931      Cialis  Erectile Dysfunction   \n",
              "1104      228866   Tadalafil  Erectile Dysfunction   \n",
              "\n",
              "                                                 review  rating  \\\n",
              "76    \"Awesome!  My new boyfriend has a few issues; ...    10.0   \n",
              "368   \"I have only tried the generic version of Cial...     2.0   \n",
              "660   \"I am 60 and have ED. I have been taking Ciali...    10.0   \n",
              "795   \"I&#039;ve been taking 10mg Cialis daily for t...    10.0   \n",
              "1104  \"This stuff straight up works. I&#039;m a 27 y...     9.0   \n",
              "\n",
              "                   date  usefulCount  \n",
              "76     October 14, 2015           14  \n",
              "368    November 6, 2013           34  \n",
              "660   February 25, 2016           79  \n",
              "795    November 7, 2014           92  \n",
              "1104   January 28, 2017           75  "
            ]
          },
          "metadata": {
            "tags": []
          },
          "execution_count": 43
        }
      ]
    },
    {
      "metadata": {
        "id": "KeOGkSsimSrX",
        "colab_type": "code",
        "colab": {
          "base_uri": "https://localhost:8080/",
          "height": 297
        },
        "outputId": "bf815915-ecc6-47d5-d57b-2cf9a694a91f"
      },
      "cell_type": "code",
      "source": [
        "erectile_dysfunction.describe()"
      ],
      "execution_count": 44,
      "outputs": [
        {
          "output_type": "execute_result",
          "data": {
            "text/html": [
              "<div>\n",
              "<style scoped>\n",
              "    .dataframe tbody tr th:only-of-type {\n",
              "        vertical-align: middle;\n",
              "    }\n",
              "\n",
              "    .dataframe tbody tr th {\n",
              "        vertical-align: top;\n",
              "    }\n",
              "\n",
              "    .dataframe thead th {\n",
              "        text-align: right;\n",
              "    }\n",
              "</style>\n",
              "<table border=\"1\" class=\"dataframe\">\n",
              "  <thead>\n",
              "    <tr style=\"text-align: right;\">\n",
              "      <th></th>\n",
              "      <th>Unnamed: 0</th>\n",
              "      <th>rating</th>\n",
              "      <th>usefulCount</th>\n",
              "    </tr>\n",
              "  </thead>\n",
              "  <tbody>\n",
              "    <tr>\n",
              "      <th>count</th>\n",
              "      <td>1086.000000</td>\n",
              "      <td>1086.000000</td>\n",
              "      <td>1086.000000</td>\n",
              "    </tr>\n",
              "    <tr>\n",
              "      <th>mean</th>\n",
              "      <td>154701.965930</td>\n",
              "      <td>8.352670</td>\n",
              "      <td>52.901473</td>\n",
              "    </tr>\n",
              "    <tr>\n",
              "      <th>std</th>\n",
              "      <td>82870.776317</td>\n",
              "      <td>2.656342</td>\n",
              "      <td>40.048317</td>\n",
              "    </tr>\n",
              "    <tr>\n",
              "      <th>min</th>\n",
              "      <td>5858.000000</td>\n",
              "      <td>1.000000</td>\n",
              "      <td>0.000000</td>\n",
              "    </tr>\n",
              "    <tr>\n",
              "      <th>25%</th>\n",
              "      <td>155760.250000</td>\n",
              "      <td>8.000000</td>\n",
              "      <td>24.000000</td>\n",
              "    </tr>\n",
              "    <tr>\n",
              "      <th>50%</th>\n",
              "      <td>171238.000000</td>\n",
              "      <td>10.000000</td>\n",
              "      <td>44.000000</td>\n",
              "    </tr>\n",
              "    <tr>\n",
              "      <th>75%</th>\n",
              "      <td>228799.750000</td>\n",
              "      <td>10.000000</td>\n",
              "      <td>73.000000</td>\n",
              "    </tr>\n",
              "    <tr>\n",
              "      <th>max</th>\n",
              "      <td>229273.000000</td>\n",
              "      <td>10.000000</td>\n",
              "      <td>299.000000</td>\n",
              "    </tr>\n",
              "  </tbody>\n",
              "</table>\n",
              "</div>"
            ],
            "text/plain": [
              "          Unnamed: 0       rating  usefulCount\n",
              "count    1086.000000  1086.000000  1086.000000\n",
              "mean   154701.965930     8.352670    52.901473\n",
              "std     82870.776317     2.656342    40.048317\n",
              "min      5858.000000     1.000000     0.000000\n",
              "25%    155760.250000     8.000000    24.000000\n",
              "50%    171238.000000    10.000000    44.000000\n",
              "75%    228799.750000    10.000000    73.000000\n",
              "max    229273.000000    10.000000   299.000000"
            ]
          },
          "metadata": {
            "tags": []
          },
          "execution_count": 44
        }
      ]
    },
    {
      "metadata": {
        "id": "lxLFf5JImUe9",
        "colab_type": "code",
        "colab": {
          "base_uri": "https://localhost:8080/",
          "height": 34
        },
        "outputId": "99d31c79-ae99-4793-e023-f266a8fec95f"
      },
      "cell_type": "code",
      "source": [
        "confidence_interval(birth_control['rating'])"
      ],
      "execution_count": 45,
      "outputs": [
        {
          "output_type": "execute_result",
          "data": {
            "text/plain": [
              "(6.089933305543977, 6.051742776352936, 6.128123834735018)"
            ]
          },
          "metadata": {
            "tags": []
          },
          "execution_count": 45
        }
      ]
    },
    {
      "metadata": {
        "id": "vVjqlcjMmb4V",
        "colab_type": "code",
        "colab": {
          "base_uri": "https://localhost:8080/",
          "height": 34
        },
        "outputId": "9ca703c7-f67e-42b4-8bfc-ec51ebbb2707"
      },
      "cell_type": "code",
      "source": [
        "confidence_interval(erectile_dysfunction['rating'])"
      ],
      "execution_count": 46,
      "outputs": [
        {
          "output_type": "execute_result",
          "data": {
            "text/plain": [
              "(8.35267034990792, 8.194508424271028, 8.51083227554481)"
            ]
          },
          "metadata": {
            "tags": []
          },
          "execution_count": 46
        }
      ]
    },
    {
      "metadata": {
        "id": "xPMwpnzCmebr",
        "colab_type": "code",
        "colab": {
          "base_uri": "https://localhost:8080/",
          "height": 68
        },
        "outputId": "ee3a1699-a04e-4c99-85b2-00eaed3ea23f"
      },
      "cell_type": "code",
      "source": [
        "top_conditions = [\"Birth Control\",\"Depression\",\"Pain\",\"Anxiety\", \"Acne\",\n",
        "                      \"Bipolar Disorde\",\"Insomnia\",\"Weight Loss\",\"Obesity\",\n",
        "                      \"ADHD\"]\n",
        "\n",
        "df2 = df[df['condition'].isin(top_conditions)]\n",
        "df2.condition.unique()"
      ],
      "execution_count": 47,
      "outputs": [
        {
          "output_type": "execute_result",
          "data": {
            "text/plain": [
              "array(['ADHD', 'Birth Control', 'Bipolar Disorde', 'Depression',\n",
              "       'Obesity', 'Insomnia', 'Pain', 'Anxiety', 'Acne', 'Weight Loss'],\n",
              "      dtype=object)"
            ]
          },
          "metadata": {
            "tags": []
          },
          "execution_count": 47
        }
      ]
    },
    {
      "metadata": {
        "id": "Wv2jZvWNm3KB",
        "colab_type": "code",
        "colab": {}
      },
      "cell_type": "code",
      "source": [
        "df2['condition'].replace({'Birth Control': 1 ,\"Depression\": 2 ,\"Pain\": 3 ,\"Anxiety\": 4 ,\n",
        "                   \"Acne\": 5 ,\"Bipolar Disorde\": 6 ,\"Insomnia\": 7 ,\n",
        "                   \"Weight Loss\": 8 ,\"Obesity\": 9 ,\"ADHD\": 10}, inplace=True)"
      ],
      "execution_count": 0,
      "outputs": []
    },
    {
      "metadata": {
        "id": "53HoElHAm7_4",
        "colab_type": "code",
        "colab": {
          "base_uri": "https://localhost:8080/",
          "height": 204
        },
        "outputId": "fc86f946-e2b9-4463-ce52-b448d39306b6"
      },
      "cell_type": "code",
      "source": [
        "df2.head()"
      ],
      "execution_count": 52,
      "outputs": [
        {
          "output_type": "execute_result",
          "data": {
            "text/html": [
              "<div>\n",
              "<style scoped>\n",
              "    .dataframe tbody tr th:only-of-type {\n",
              "        vertical-align: middle;\n",
              "    }\n",
              "\n",
              "    .dataframe tbody tr th {\n",
              "        vertical-align: top;\n",
              "    }\n",
              "\n",
              "    .dataframe thead th {\n",
              "        text-align: right;\n",
              "    }\n",
              "</style>\n",
              "<table border=\"1\" class=\"dataframe\">\n",
              "  <thead>\n",
              "    <tr style=\"text-align: right;\">\n",
              "      <th></th>\n",
              "      <th>Unnamed: 0</th>\n",
              "      <th>drugName</th>\n",
              "      <th>condition</th>\n",
              "      <th>review</th>\n",
              "      <th>rating</th>\n",
              "      <th>date</th>\n",
              "      <th>usefulCount</th>\n",
              "    </tr>\n",
              "  </thead>\n",
              "  <tbody>\n",
              "    <tr>\n",
              "      <th>1</th>\n",
              "      <td>95260</td>\n",
              "      <td>Guanfacine</td>\n",
              "      <td>10</td>\n",
              "      <td>\"My son is halfway through his fourth week of ...</td>\n",
              "      <td>8.0</td>\n",
              "      <td>April 27, 2010</td>\n",
              "      <td>192</td>\n",
              "    </tr>\n",
              "    <tr>\n",
              "      <th>2</th>\n",
              "      <td>92703</td>\n",
              "      <td>Lybrel</td>\n",
              "      <td>1</td>\n",
              "      <td>\"I used to take another oral contraceptive, wh...</td>\n",
              "      <td>5.0</td>\n",
              "      <td>December 14, 2009</td>\n",
              "      <td>17</td>\n",
              "    </tr>\n",
              "    <tr>\n",
              "      <th>3</th>\n",
              "      <td>138000</td>\n",
              "      <td>Ortho Evra</td>\n",
              "      <td>1</td>\n",
              "      <td>\"This is my first time using any form of birth...</td>\n",
              "      <td>8.0</td>\n",
              "      <td>November 3, 2015</td>\n",
              "      <td>10</td>\n",
              "    </tr>\n",
              "    <tr>\n",
              "      <th>7</th>\n",
              "      <td>102654</td>\n",
              "      <td>Aripiprazole</td>\n",
              "      <td>6</td>\n",
              "      <td>\"Abilify changed my life. There is hope. I was...</td>\n",
              "      <td>10.0</td>\n",
              "      <td>March 14, 2015</td>\n",
              "      <td>32</td>\n",
              "    </tr>\n",
              "    <tr>\n",
              "      <th>9</th>\n",
              "      <td>48928</td>\n",
              "      <td>Ethinyl estradiol / levonorgestrel</td>\n",
              "      <td>1</td>\n",
              "      <td>\"I had been on the pill for many years. When m...</td>\n",
              "      <td>8.0</td>\n",
              "      <td>December 8, 2016</td>\n",
              "      <td>1</td>\n",
              "    </tr>\n",
              "  </tbody>\n",
              "</table>\n",
              "</div>"
            ],
            "text/plain": [
              "   Unnamed: 0                            drugName  condition  \\\n",
              "1       95260                          Guanfacine         10   \n",
              "2       92703                              Lybrel          1   \n",
              "3      138000                          Ortho Evra          1   \n",
              "7      102654                        Aripiprazole          6   \n",
              "9       48928  Ethinyl estradiol / levonorgestrel          1   \n",
              "\n",
              "                                              review  rating  \\\n",
              "1  \"My son is halfway through his fourth week of ...     8.0   \n",
              "2  \"I used to take another oral contraceptive, wh...     5.0   \n",
              "3  \"This is my first time using any form of birth...     8.0   \n",
              "7  \"Abilify changed my life. There is hope. I was...    10.0   \n",
              "9  \"I had been on the pill for many years. When m...     8.0   \n",
              "\n",
              "                date  usefulCount  \n",
              "1     April 27, 2010          192  \n",
              "2  December 14, 2009           17  \n",
              "3   November 3, 2015           10  \n",
              "7     March 14, 2015           32  \n",
              "9   December 8, 2016            1  "
            ]
          },
          "metadata": {
            "tags": []
          },
          "execution_count": 52
        }
      ]
    },
    {
      "metadata": {
        "id": "vPKraO3voqdg",
        "colab_type": "text"
      },
      "cell_type": "markdown",
      "source": [
        "# Average Drug Ratings by Condition _(with 95% Confidence)_"
      ]
    },
    {
      "metadata": {
        "id": "kn7xrermnHJ_",
        "colab_type": "code",
        "colab": {
          "base_uri": "https://localhost:8080/",
          "height": 654
        },
        "outputId": "69363fb4-21ed-4732-b66b-3f0a30507fcc"
      },
      "cell_type": "code",
      "source": [
        "import matplotlib.pyplot as plt\n",
        "\n",
        "confidence = .95\n",
        "mean = df2.groupby('condition')['rating'].mean()\n",
        "stderr = df2.groupby('condition')['rating'].sem()\n",
        "interval = stderr * stats.t.ppf((1 + confidence) / 2., len(df2.groupby('condition')['rating']) - 1)\n",
        "\n",
        "f, ax = plt.subplots()\n",
        "plt.ylim(0,10)\n",
        "plt.xlim(0,11)\n",
        "ax.set(xticks=(np.arange(1, 11, step=1)), \n",
        "       xticklabels=(\"Birth Control\",\"Depression\",\"Pain\",\"Anxiety\",\n",
        "                   \"Acne\",\"Bipolar Disorder\",\"Insomnia\",\n",
        "                   \"Weight Loss\",\"Obesity\",\"ADHD\"))\n",
        "plt.xticks(rotation='vertical')\n",
        "plt.title('Average Projected Drug Ratings by Condition with 95% Confidence Interval')\n",
        "plt.ylabel('Rating')\n",
        "\n",
        "plt.errorbar(\n",
        "    mean.index,\n",
        "    mean,\n",
        "    xerr=0.1,\n",
        "    yerr= interval,\n",
        "    linestyle='',\n",
        ")\n",
        "plt.show()\n",
        "\n",
        "# 95% confidence interval shows ratings close to the mean"
      ],
      "execution_count": 61,
      "outputs": [
        {
          "output_type": "display_data",
          "data": {
            "image/png": "[encoded data removed]",
            "text/plain": [
              "<matplotlib.figure.Figure at 0x7f9915bb92b0>"
            ]
          },
          "metadata": {
            "tags": []
          }
        }
      ]
    },
    {
      "metadata": {
        "id": "kl7XFI58pPOJ",
        "colab_type": "code",
        "colab": {}
      },
      "cell_type": "code",
      "source": [
        ""
      ],
      "execution_count": 0,
      "outputs": []
    }
  ]
}