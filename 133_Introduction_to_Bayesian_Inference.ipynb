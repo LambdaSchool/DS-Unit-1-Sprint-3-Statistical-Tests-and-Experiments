{
  "nbformat": 4,
  "nbformat_minor": 0,
  "metadata": {
    "colab": {
      "name": "133_Introduction_to_Bayesian_Inference.ipynb",
      "version": "0.3.2",
      "provenance": [],
      "collapsed_sections": [],
      "include_colab_link": true
    },
    "kernelspec": {
      "name": "python3",
      "display_name": "Python 3"
    }
  },
  "cells": [
    {
      "cell_type": "markdown",
      "metadata": {
        "id": "view-in-github",
        "colab_type": "text"
      },
      "source": [
        "<a href=\"https://colab.research.google.com/github/JohnMorrisonn/DS-Unit-1-Sprint-3-Statistical-Tests-and-Experiments/blob/master/133_Introduction_to_Bayesian_Inference.ipynb\" target=\"_parent\"><img src=\"https://colab.research.google.com/assets/colab-badge.svg\" alt=\"Open In Colab\"/></a>"
      ]
    },
    {
      "cell_type": "markdown",
      "metadata": {
        "id": "H7OLbevlbd_Z",
        "colab_type": "text"
      },
      "source": [
        "# Lambda School Data Science Module 143\n",
        "\n",
        "## Introduction to Bayesian Inference\n",
        "\n",
        "!['Detector! What would the Bayesian statistician say if I asked him whether the--' [roll] 'I AM A NEUTRINO DETECTOR, NOT A LABYRINTH GUARD. SERIOUSLY, DID YOUR BRAIN FALL OUT?' [roll] '... yes.'](https://imgs.xkcd.com/comics/frequentists_vs_bayesians.png)\n",
        "\n",
        "*[XKCD 1132](https://www.xkcd.com/1132/)*\n"
      ]
    },
    {
      "cell_type": "markdown",
      "metadata": {
        "id": "3mz8p08BsN6p",
        "colab_type": "text"
      },
      "source": [
        "## Prepare - Bayes' Theorem and the Bayesian mindset"
      ]
    },
    {
      "cell_type": "markdown",
      "metadata": {
        "id": "GhycNr-Sbeie",
        "colab_type": "text"
      },
      "source": [
        "Bayes' theorem possesses a near-mythical quality - a bit of math that somehow magically evaluates a situation. But this mythicalness has more to do with its reputation and advanced applications than the actual core of it - deriving it is actually remarkably straightforward.\n",
        "\n",
        "### The Law of Total Probability\n",
        "\n",
        "By definition, the total probability of all outcomes (events) if some variable (event space) $A$ is 1. That is:\n",
        "\n",
        "$$P(A) = \\sum_n P(A_n) = 1$$\n",
        "\n",
        "The law of total probability takes this further, considering two variables ($A$ and $B$) and relating their marginal probabilities (their likelihoods considered independently, without reference to one another) and their conditional probabilities (their likelihoods considered jointly). A marginal probability is simply notated as e.g. $P(A)$, while a conditional probability is notated $P(A|B)$, which reads \"probability of $A$ *given* $B$\".\n",
        "\n",
        "The law of total probability states:\n",
        "\n",
        "$$P(A) = \\sum_n P(A | B_n) P(B_n)$$\n",
        "\n",
        "In words - the total probability of $A$ is equal to the sum of the conditional probability of $A$ on any given event $B_n$ times the probability of that event $B_n$, and summed over all possible events in $B$.\n",
        "\n",
        "### The Law of Conditional Probability\n",
        "\n",
        "What's the probability of something conditioned on something else? To determine this we have to go back to set theory and think about the intersection of sets:\n",
        "\n",
        "The formula for actual calculation:\n",
        "\n",
        "$$P(A|B) = \\frac{P(A \\cap B)}{P(B)}$$\n",
        "\n",
        "![Visualization of set intersection](https://upload.wikimedia.org/wikipedia/commons/9/99/Venn0001.svg)\n",
        "\n",
        "Think of the overall rectangle as the whole probability space, $A$ as the left circle, $B$ as the right circle, and their intersection as the red area. Try to visualize the ratio being described in the above formula, and how it is different from just the $P(A)$ (not conditioned on $B$).\n",
        "\n",
        "We can see how this relates back to the law of total probability - multiply both sides by $P(B)$ and you get $P(A|B)P(B) = P(A \\cap B)$ - replaced back into the law of total probability we get $P(A) = \\sum_n P(A \\cap B_n)$.\n",
        "\n",
        "This may not seem like an improvement at first, but try to relate it back to the above picture - if you think of sets as physical objects, we're saying that the total probability of $A$ given $B$ is all the little pieces of it intersected with $B$, added together. The conditional probability is then just that again, but divided by the probability of $B$ itself happening in the first place.\n",
        "\n",
        "\\begin{align}\n",
        "P(A|B) &= \\frac{P(A \\cap B)}{P(B)}\\\\\n",
        "\\Rightarrow P(A|B)P(B) &= P(A \\cap B)\\\\\n",
        "P(B|A) &= \\frac{P(B \\cap A)}{P(A)}\\\\\n",
        "\\Rightarrow P(B|A)P(A) &= P(B \\cap A)\\\\\n",
        "\\Rightarrow P(A|B)P(B) &= P(B|A)P(A) \\\\\n",
        "P(A \\cap B) &= P(B \\cap A)\\\\\n",
        "P(A|B) &= \\frac{P(B|A) \\times P(A)}{P(B)}\n",
        "\\end{align}\n",
        "\n",
        "### Bayes Theorem\n",
        "\n",
        "Here is is, the seemingly magic tool:\n",
        "\n",
        "$$P(A|B) = \\frac{P(B|A)P(A)}{P(B)}$$\n",
        "\n",
        "In words - the probability of $A$ conditioned on $B$ is the probability of $B$ conditioned on $A$, times the probability of $A$ and divided by the probability of $B$. These unconditioned probabilities are referred to as \"prior beliefs\", and the conditioned probabilities as \"updated.\"\n",
        "\n",
        "Why is this important? Scroll back up to the XKCD example - the Bayesian statistician draws a less absurd conclusion because their prior belief in the likelihood that the sun will go nova is extremely low. So, even when updated based on evidence from a detector that is $35/36 = 0.972$ accurate, the prior belief doesn't shift enough to change their overall opinion.\n",
        "\n",
        "There's many examples of Bayes' theorem - one less absurd example is to apply to [breathalyzer tests](https://www.bayestheorem.net/breathalyzer-example/). You may think that a breathalyzer test that is 100% accurate for true positives (detecting somebody who is drunk) is pretty good, but what if it also has 8% false positives (indicating somebody is drunk when they're not)? And furthermore, the rate of drunk driving (and thus our prior belief)  is 1/1000.\n",
        "\n",
        "What is the likelihood somebody really is drunk if they test positive? Some may guess it's 92% - the difference between the true positives and the false positives. But we have a prior belief of the background/true rate of drunk driving. Sounds like a job for Bayes' theorem!\n",
        "\n",
        "$$\n",
        "\\begin{aligned}\n",
        "P(Drunk | Positive) &= \\frac{P(Positive | Drunk)P(Drunk)}{P(Positive)} \\\\\n",
        "&= \\frac{1 \\times 0.001}{0.08} \\\\\n",
        "&= 0.0125\n",
        "\\end{aligned}\n",
        "$$\n",
        "\n",
        "In other words, the likelihood that somebody is drunk given they tested positive with a breathalyzer in this situation is only 1.25% - probably much lower than you'd guess. This is why, in practice, it's important to have a repeated test to confirm (the probability of two false positives in a row is $0.08 * 0.08 = 0.0064$, much lower), and Bayes' theorem has been relevant in court cases where proper consideration of evidence was important.\n",
        "\n",
        "![Names of probabilities](https://miro.medium.com/max/1200/1*YTWinOBUgmStxkbUJZ1vNw.png)\n",
        "\n",
        "![Full Bayes Theorem Equation](https://wikimedia.org/api/rest_v1/media/math/render/svg/95c6524a3736c43e4bae139713f3df2392e6eda9)\n",
        "\n",
        "Source: <https://en.wikipedia.org/wiki/Bayes%27_theorem>"
      ]
    },
    {
      "cell_type": "markdown",
      "metadata": {
        "id": "htI3DGvDsRJF",
        "colab_type": "text"
      },
      "source": [
        "## Live Lecture - Deriving Bayes' Theorem, Calculating Bayesian Confidence"
      ]
    },
    {
      "cell_type": "markdown",
      "metadata": {
        "id": "moIJNQ-nbfe_",
        "colab_type": "text"
      },
      "source": [
        "Notice that $P(A|B)$ appears in the above laws - in Bayesian terms, this is the belief in $A$ updated for the evidence $B$. So all we need to do is solve for this term to derive Bayes' theorem. Let's do it together!"
      ]
    },
    {
      "cell_type": "code",
      "metadata": {
        "id": "ke-5EqJI0Tsn",
        "colab_type": "code",
        "colab": {
          "base_uri": "https://localhost:8080/",
          "height": 68
        },
        "outputId": "7dff44b3-b9a8-4302-ed03-d37bf4bc0045"
      },
      "source": [
        "# Activity 2 - Use SciPy to calculate Bayesian confidence intervals\n",
        "# https://docs.scipy.org/doc/scipy/reference/generated/scipy.stats.bayes_mvs.html#scipy.stats.bayes_mvs\n",
        "\n",
        "from scipy import stats\n",
        "import numpy as np\n",
        "\n",
        "np.random.seed(seed=42)\n",
        "\n",
        "coinflips = np.random.binomial(n=1, p=.5, size=100)\n",
        "print(coinflips)"
      ],
      "execution_count": 1,
      "outputs": [
        {
          "output_type": "stream",
          "text": [
            "[0 1 1 1 0 0 0 1 1 1 0 1 1 0 0 0 0 1 0 0 1 0 0 0 0 1 0 1 1 0 1 0 0 1 1 1 0\n",
            " 0 1 0 0 0 0 1 0 1 0 1 1 0 1 1 1 1 1 1 0 0 0 0 0 0 1 0 0 1 0 1 0 1 1 0 0 1\n",
            " 1 1 1 0 0 0 1 1 0 0 0 0 1 1 1 0 0 1 1 1 1 0 1 0 0 0]\n"
          ],
          "name": "stdout"
        }
      ]
    },
    {
      "cell_type": "code",
      "metadata": {
        "id": "7tivCt1yGrG7",
        "colab_type": "code",
        "colab": {
          "base_uri": "https://localhost:8080/",
          "height": 34
        },
        "outputId": "1efda4e7-b874-4765-effc-e06b35328349"
      },
      "source": [
        "def confidence_interval(data, confidence=.95):\n",
        "  n = len(data)\n",
        "  mean = sum(data)/n\n",
        "  data = np.array(data)\n",
        "  stderr = stats.sem(data)\n",
        "  interval = stderr * stats.t.ppf((1 + confidence) / 2.0, n-1)\n",
        "  return (mean , mean-interval, mean+interval)\n",
        "\n",
        "confidence_interval(coinflips)"
      ],
      "execution_count": 2,
      "outputs": [
        {
          "output_type": "execute_result",
          "data": {
            "text/plain": [
              "(0.47, 0.3704689875017368, 0.5695310124982632)"
            ]
          },
          "metadata": {
            "tags": []
          },
          "execution_count": 2
        }
      ]
    },
    {
      "cell_type": "code",
      "metadata": {
        "id": "1DoMthICG_gK",
        "colab_type": "code",
        "colab": {
          "base_uri": "https://localhost:8080/",
          "height": 34
        },
        "outputId": "62de0789-4a1f-457c-a8aa-b03cacd500e4"
      },
      "source": [
        "bayes_mean_CI, _, _ = stats.bayes_mvs(coinflips, alpha=.95)\n",
        "\n",
        "bayes_mean_CI"
      ],
      "execution_count": 3,
      "outputs": [
        {
          "output_type": "execute_result",
          "data": {
            "text/plain": [
              "Mean(statistic=0.47, minmax=(0.37046898750173674, 0.5695310124982632))"
            ]
          },
          "metadata": {
            "tags": []
          },
          "execution_count": 3
        }
      ]
    },
    {
      "cell_type": "code",
      "metadata": {
        "id": "MYoHBVq5Hc8R",
        "colab_type": "code",
        "colab": {}
      },
      "source": [
        "??stats.bayes_mvs"
      ],
      "execution_count": 0,
      "outputs": []
    },
    {
      "cell_type": "code",
      "metadata": {
        "id": "zoWtuSRAJB0c",
        "colab_type": "code",
        "colab": {
          "base_uri": "https://localhost:8080/",
          "height": 34
        },
        "outputId": "f3c45221-1de4-423c-a6fc-5b745401daa0"
      },
      "source": [
        "coinflips_mean_dist, _, _ =stats.mvsdist(coinflips)\n",
        "coinflips_mean_dist"
      ],
      "execution_count": 5,
      "outputs": [
        {
          "output_type": "execute_result",
          "data": {
            "text/plain": [
              "<scipy.stats._distn_infrastructure.rv_frozen at 0x7f2acfbbe6d8>"
            ]
          },
          "metadata": {
            "tags": []
          },
          "execution_count": 5
        }
      ]
    },
    {
      "cell_type": "code",
      "metadata": {
        "id": "vROH6lCjJLWJ",
        "colab_type": "code",
        "colab": {
          "base_uri": "https://localhost:8080/",
          "height": 1000
        },
        "outputId": "46e0ee95-b478-4518-b71b-5bd77523a6f6"
      },
      "source": [
        "#Froze the sample distribution, now sampling from it\n",
        "coinflips_mean_dist.rvs(1000)"
      ],
      "execution_count": 6,
      "outputs": [
        {
          "output_type": "execute_result",
          "data": {
            "text/plain": [
              "array([0.47447628, 0.51541425, 0.54722018, 0.4589882 , 0.51501386,\n",
              "       0.53819192, 0.43382292, 0.53546659, 0.47026173, 0.44967562,\n",
              "       0.4621107 , 0.42691904, 0.37324325, 0.47531437, 0.46052277,\n",
              "       0.48711257, 0.52456771, 0.43332181, 0.49545882, 0.44671454,\n",
              "       0.47520117, 0.47047251, 0.41828918, 0.50159477, 0.42965501,\n",
              "       0.45273383, 0.48045849, 0.45342529, 0.48238344, 0.53966291,\n",
              "       0.48230241, 0.48073422, 0.48553525, 0.47962228, 0.41274185,\n",
              "       0.42892633, 0.5170948 , 0.42678096, 0.42249309, 0.51499109,\n",
              "       0.47059199, 0.39903942, 0.41790336, 0.46406817, 0.42232382,\n",
              "       0.42163269, 0.47848227, 0.48232842, 0.4731858 , 0.51077244,\n",
              "       0.3957508 , 0.48504646, 0.49014295, 0.53252732, 0.45495376,\n",
              "       0.47883978, 0.60393033, 0.4492549 , 0.44797902, 0.54782121,\n",
              "       0.43380002, 0.5760073 , 0.36941266, 0.44467418, 0.4939245 ,\n",
              "       0.45278835, 0.55635162, 0.48695459, 0.39080983, 0.45948606,\n",
              "       0.2941779 , 0.35950718, 0.44805696, 0.4725126 , 0.42218381,\n",
              "       0.45985418, 0.47545393, 0.44317753, 0.46267013, 0.4458753 ,\n",
              "       0.44204707, 0.51334913, 0.50914181, 0.49923748, 0.46895674,\n",
              "       0.43892798, 0.45984946, 0.44984632, 0.53560791, 0.45865723,\n",
              "       0.48646824, 0.55937503, 0.41464303, 0.50701457, 0.46934196,\n",
              "       0.37681534, 0.42748113, 0.49812825, 0.48278895, 0.4964763 ,\n",
              "       0.3891381 , 0.43956744, 0.48413544, 0.45477873, 0.48725027,\n",
              "       0.49464113, 0.50575373, 0.47327346, 0.47520013, 0.58130199,\n",
              "       0.5845843 , 0.46478398, 0.4258629 , 0.52948199, 0.48513203,\n",
              "       0.49687534, 0.41137211, 0.46621924, 0.3914774 , 0.48360179,\n",
              "       0.38619449, 0.48277886, 0.47026304, 0.45226139, 0.47583911,\n",
              "       0.51800201, 0.48765985, 0.47519588, 0.56197092, 0.41764152,\n",
              "       0.49955199, 0.4476301 , 0.53072591, 0.51503605, 0.54521753,\n",
              "       0.51825987, 0.38392617, 0.46969675, 0.40735953, 0.41644585,\n",
              "       0.46704857, 0.44673322, 0.44172829, 0.39682358, 0.56863866,\n",
              "       0.49382431, 0.46425614, 0.43441607, 0.45352793, 0.43280667,\n",
              "       0.49838641, 0.42134069, 0.39030482, 0.46056071, 0.43477593,\n",
              "       0.48030697, 0.46963763, 0.58135074, 0.41707759, 0.54735952,\n",
              "       0.40234266, 0.44587394, 0.43824819, 0.34994202, 0.45715098,\n",
              "       0.48171551, 0.49707708, 0.56201387, 0.43796178, 0.48736057,\n",
              "       0.48396275, 0.4137432 , 0.43730294, 0.44127354, 0.49414193,\n",
              "       0.37391405, 0.48951459, 0.49203495, 0.48750347, 0.4535989 ,\n",
              "       0.4826649 , 0.45727017, 0.35957717, 0.52627891, 0.48671508,\n",
              "       0.5146115 , 0.40126273, 0.49351532, 0.47899387, 0.41170621,\n",
              "       0.47372827, 0.45349404, 0.45541059, 0.44761163, 0.50985422,\n",
              "       0.38946749, 0.38924167, 0.477608  , 0.47523283, 0.48057958,\n",
              "       0.55631265, 0.47918939, 0.41974198, 0.59314567, 0.46179892,\n",
              "       0.52111564, 0.39858206, 0.39293582, 0.45738699, 0.51094648,\n",
              "       0.55605523, 0.42063349, 0.4553239 , 0.47003479, 0.47070228,\n",
              "       0.46428309, 0.46828548, 0.55559626, 0.54327956, 0.48485723,\n",
              "       0.39503943, 0.45169487, 0.51312502, 0.43261878, 0.44449548,\n",
              "       0.45205734, 0.50467902, 0.55919291, 0.50052268, 0.39552378,\n",
              "       0.44554284, 0.54545754, 0.41285254, 0.37820216, 0.4433361 ,\n",
              "       0.51902109, 0.45162443, 0.57347586, 0.47871392, 0.40561444,\n",
              "       0.48058706, 0.56598937, 0.48203328, 0.42126387, 0.368201  ,\n",
              "       0.45272922, 0.43585457, 0.54199909, 0.42996167, 0.474737  ,\n",
              "       0.44127776, 0.39061556, 0.46844006, 0.38929335, 0.49974341,\n",
              "       0.38804905, 0.46641358, 0.52312717, 0.49613505, 0.44815583,\n",
              "       0.49130684, 0.51080517, 0.41943377, 0.52715474, 0.51901749,\n",
              "       0.40173031, 0.48157307, 0.45698766, 0.54181905, 0.5128087 ,\n",
              "       0.4738456 , 0.53469041, 0.58876563, 0.37350851, 0.44841936,\n",
              "       0.41531469, 0.46828303, 0.41863695, 0.52030773, 0.59197971,\n",
              "       0.47809192, 0.39139708, 0.43735205, 0.44473506, 0.54450722,\n",
              "       0.4877697 , 0.48142576, 0.4282081 , 0.43828492, 0.49536959,\n",
              "       0.46056192, 0.51769419, 0.44435832, 0.2833451 , 0.44709257,\n",
              "       0.39013597, 0.49752388, 0.48941684, 0.51950258, 0.43841402,\n",
              "       0.461676  , 0.4364845 , 0.47132422, 0.5159512 , 0.40504394,\n",
              "       0.54411978, 0.48126155, 0.53768622, 0.44783793, 0.45195711,\n",
              "       0.53732665, 0.48919172, 0.54916543, 0.38184422, 0.3839936 ,\n",
              "       0.50047602, 0.4827814 , 0.45782355, 0.57051467, 0.51586565,\n",
              "       0.41297865, 0.49549503, 0.4867028 , 0.49218095, 0.47941133,\n",
              "       0.4179382 , 0.43990307, 0.43267506, 0.51435874, 0.45603811,\n",
              "       0.44264597, 0.5258102 , 0.42116497, 0.59109176, 0.45889992,\n",
              "       0.42601209, 0.41855971, 0.51763858, 0.53603004, 0.55891986,\n",
              "       0.51308977, 0.47539497, 0.57980186, 0.45166958, 0.4360487 ,\n",
              "       0.4160565 , 0.46894016, 0.42544503, 0.4718965 , 0.44509759,\n",
              "       0.4553363 , 0.51417409, 0.40125374, 0.40141203, 0.52444062,\n",
              "       0.38433692, 0.53755945, 0.49124436, 0.44092107, 0.48664193,\n",
              "       0.49809931, 0.35939896, 0.45019818, 0.51452836, 0.44702996,\n",
              "       0.39014382, 0.4742493 , 0.45802077, 0.54117637, 0.50917065,\n",
              "       0.48864846, 0.45513837, 0.46638664, 0.46289285, 0.474597  ,\n",
              "       0.47679289, 0.53272938, 0.4273865 , 0.53018322, 0.48459184,\n",
              "       0.46054965, 0.46864369, 0.47940797, 0.47963348, 0.50495819,\n",
              "       0.43197032, 0.46684607, 0.48552696, 0.45851019, 0.52062144,\n",
              "       0.45638092, 0.4765386 , 0.40863058, 0.42996211, 0.43454883,\n",
              "       0.47898572, 0.44026601, 0.47275271, 0.39097285, 0.58139265,\n",
              "       0.49820118, 0.45762952, 0.43127976, 0.42291755, 0.47822454,\n",
              "       0.54221029, 0.41974753, 0.42307496, 0.4404098 , 0.54071199,\n",
              "       0.47650072, 0.52908201, 0.43292955, 0.52911544, 0.40416927,\n",
              "       0.51208142, 0.43676583, 0.59252479, 0.50098008, 0.52513111,\n",
              "       0.43895871, 0.48582562, 0.43385598, 0.51551279, 0.49560729,\n",
              "       0.4116628 , 0.47181415, 0.44020566, 0.48571059, 0.40538225,\n",
              "       0.55172833, 0.47509918, 0.49899901, 0.42421471, 0.43601874,\n",
              "       0.44018693, 0.5304447 , 0.43289087, 0.476795  , 0.41250698,\n",
              "       0.38083118, 0.58788278, 0.46971184, 0.45125409, 0.47414778,\n",
              "       0.4974292 , 0.46069729, 0.42235771, 0.52285515, 0.59676334,\n",
              "       0.4705739 , 0.44988487, 0.47274685, 0.37493384, 0.42223226,\n",
              "       0.49987446, 0.46030573, 0.44077887, 0.43844871, 0.47083241,\n",
              "       0.49024836, 0.49153355, 0.40008594, 0.53218928, 0.43465945,\n",
              "       0.51603003, 0.39652748, 0.41985494, 0.53091204, 0.40977991,\n",
              "       0.46225922, 0.41771646, 0.43867606, 0.38712168, 0.58344414,\n",
              "       0.48316133, 0.47170139, 0.47396495, 0.45185247, 0.43308114,\n",
              "       0.53336288, 0.44655484, 0.52674401, 0.49790806, 0.45346429,\n",
              "       0.49966867, 0.43964157, 0.5347767 , 0.49514565, 0.49845113,\n",
              "       0.40907362, 0.4988595 , 0.45864058, 0.40669431, 0.46175527,\n",
              "       0.5317036 , 0.50075453, 0.48638633, 0.49108861, 0.471713  ,\n",
              "       0.48383151, 0.37494445, 0.50690883, 0.43971337, 0.45880774,\n",
              "       0.48454783, 0.41166892, 0.48265585, 0.43225349, 0.39086731,\n",
              "       0.50734673, 0.42186418, 0.48059622, 0.55935268, 0.39964071,\n",
              "       0.47968735, 0.44197047, 0.5523577 , 0.5194387 , 0.46967629,\n",
              "       0.46114995, 0.51547562, 0.41173477, 0.42714514, 0.54287129,\n",
              "       0.47917532, 0.52899054, 0.52902622, 0.55529675, 0.39260093,\n",
              "       0.47808929, 0.5227214 , 0.49686402, 0.41385472, 0.46877338,\n",
              "       0.51290447, 0.42081246, 0.48763814, 0.46488503, 0.48815416,\n",
              "       0.51874676, 0.44349542, 0.35529184, 0.48235864, 0.38829235,\n",
              "       0.41629837, 0.49353573, 0.42837918, 0.43078333, 0.51282674,\n",
              "       0.49055841, 0.48687382, 0.4024712 , 0.45031963, 0.49709223,\n",
              "       0.54003902, 0.43554303, 0.53183842, 0.486558  , 0.45249906,\n",
              "       0.51469574, 0.42098649, 0.45018556, 0.37915825, 0.55746338,\n",
              "       0.50905594, 0.49594724, 0.51327984, 0.4526535 , 0.48421933,\n",
              "       0.58224419, 0.47947599, 0.46611747, 0.52237733, 0.46120613,\n",
              "       0.47167891, 0.49850872, 0.4311296 , 0.47774032, 0.45230789,\n",
              "       0.35840294, 0.44659314, 0.51071187, 0.44069454, 0.55320876,\n",
              "       0.39988476, 0.49035529, 0.48985295, 0.44694677, 0.45049715,\n",
              "       0.51842605, 0.37342115, 0.49553783, 0.504753  , 0.49098663,\n",
              "       0.4218805 , 0.52620235, 0.4827884 , 0.44288146, 0.45916104,\n",
              "       0.49631062, 0.51646158, 0.48630302, 0.37307539, 0.41265663,\n",
              "       0.49024564, 0.46467903, 0.47432696, 0.47325263, 0.48613461,\n",
              "       0.51737977, 0.49745443, 0.43226223, 0.51386209, 0.54409309,\n",
              "       0.42166633, 0.45683158, 0.49113578, 0.47195372, 0.46461796,\n",
              "       0.43912749, 0.4570565 , 0.3981925 , 0.45969044, 0.45356353,\n",
              "       0.49012313, 0.46231133, 0.42623662, 0.52407443, 0.4489394 ,\n",
              "       0.36793671, 0.50496954, 0.4459393 , 0.47762308, 0.45557782,\n",
              "       0.42430219, 0.46342973, 0.49607806, 0.42021132, 0.47986594,\n",
              "       0.43995321, 0.47310004, 0.46830237, 0.6095986 , 0.47867353,\n",
              "       0.50938602, 0.44119682, 0.41853036, 0.54135276, 0.3737122 ,\n",
              "       0.54427806, 0.4251556 , 0.41348475, 0.41993261, 0.52989098,\n",
              "       0.462017  , 0.51346035, 0.56842082, 0.44612654, 0.4650062 ,\n",
              "       0.46543262, 0.37686614, 0.50593036, 0.38350366, 0.41051578,\n",
              "       0.5477685 , 0.37572632, 0.40238182, 0.37546585, 0.46061846,\n",
              "       0.34000573, 0.48379551, 0.4102443 , 0.46841925, 0.48235662,\n",
              "       0.4521498 , 0.50212742, 0.46316433, 0.52688369, 0.39250788,\n",
              "       0.44273506, 0.60936845, 0.46729244, 0.48883352, 0.45995963,\n",
              "       0.52954227, 0.50744425, 0.5702215 , 0.4322026 , 0.52990493,\n",
              "       0.51626873, 0.4946539 , 0.5082119 , 0.49850001, 0.46857659,\n",
              "       0.37680806, 0.42922449, 0.4714559 , 0.47006439, 0.46103295,\n",
              "       0.38448095, 0.51598495, 0.51233212, 0.39171157, 0.47295778,\n",
              "       0.42799097, 0.31999544, 0.43777493, 0.51361593, 0.48083238,\n",
              "       0.49048985, 0.37754081, 0.44390605, 0.43851769, 0.45367766,\n",
              "       0.43004286, 0.39810176, 0.52425887, 0.5132496 , 0.46711766,\n",
              "       0.5371266 , 0.49789306, 0.47440018, 0.48044375, 0.46275003,\n",
              "       0.32760769, 0.43969128, 0.53361144, 0.50404316, 0.45660878,\n",
              "       0.39614646, 0.5306167 , 0.41652062, 0.47978152, 0.44229313,\n",
              "       0.38296985, 0.4576275 , 0.51705712, 0.46901214, 0.57001682,\n",
              "       0.50423767, 0.45819868, 0.47460827, 0.52497238, 0.47857488,\n",
              "       0.34748446, 0.46412874, 0.43491473, 0.47103418, 0.45914633,\n",
              "       0.4506799 , 0.48795458, 0.49316724, 0.41450339, 0.45860263,\n",
              "       0.48590433, 0.43353272, 0.47182887, 0.57180098, 0.51429135,\n",
              "       0.36982541, 0.45893858, 0.44927164, 0.47235794, 0.58265714,\n",
              "       0.478167  , 0.49140614, 0.46531855, 0.50984351, 0.4827639 ,\n",
              "       0.45424265, 0.5015955 , 0.40968418, 0.49247972, 0.44791535,\n",
              "       0.43087735, 0.5079453 , 0.39380662, 0.38242163, 0.49299987,\n",
              "       0.41208436, 0.39335919, 0.45047663, 0.40227791, 0.55079414,\n",
              "       0.51004866, 0.46107434, 0.44619307, 0.40856549, 0.45213558,\n",
              "       0.34076475, 0.44746926, 0.50151825, 0.47512069, 0.44447584,\n",
              "       0.51219988, 0.41074984, 0.52785383, 0.37876592, 0.51172916,\n",
              "       0.51014685, 0.5534993 , 0.4745541 , 0.49519006, 0.50658855,\n",
              "       0.51617094, 0.55167752, 0.52080632, 0.48118055, 0.4497149 ,\n",
              "       0.43954218, 0.51988854, 0.46973126, 0.49375973, 0.45512846,\n",
              "       0.4670614 , 0.51303675, 0.56130338, 0.49572266, 0.41883276,\n",
              "       0.44433704, 0.48790926, 0.50805016, 0.47367689, 0.41275913,\n",
              "       0.53529189, 0.4393815 , 0.44798915, 0.47777408, 0.41248419,\n",
              "       0.44957019, 0.44111031, 0.47174419, 0.54963872, 0.37056181,\n",
              "       0.42624852, 0.42007032, 0.47428632, 0.44194326, 0.53917971,\n",
              "       0.51442597, 0.39569021, 0.52024419, 0.45939336, 0.51860329,\n",
              "       0.4722443 , 0.49892044, 0.45117057, 0.4687997 , 0.48571876,\n",
              "       0.44523495, 0.47080056, 0.40803152, 0.4873699 , 0.42852689,\n",
              "       0.5576894 , 0.44129667, 0.48988382, 0.47362904, 0.53799032,\n",
              "       0.43168666, 0.47733785, 0.42619853, 0.52326113, 0.40582344,\n",
              "       0.3752876 , 0.44395294, 0.43526222, 0.44753265, 0.4335338 ,\n",
              "       0.50883482, 0.43585868, 0.41200332, 0.36602514, 0.49333628,\n",
              "       0.40624739, 0.45769445, 0.39957451, 0.51484301, 0.45243127,\n",
              "       0.49550451, 0.42045661, 0.51606437, 0.45627401, 0.45883254,\n",
              "       0.40159611, 0.39777387, 0.47548967, 0.37814115, 0.52078691,\n",
              "       0.33737182, 0.49376712, 0.42425788, 0.49313496, 0.51393986,\n",
              "       0.33733477, 0.61310296, 0.4179583 , 0.48252206, 0.48776153,\n",
              "       0.52774351, 0.48715976, 0.42955008, 0.45700497, 0.43991845,\n",
              "       0.45648164, 0.37957614, 0.39961823, 0.43406117, 0.53066173,\n",
              "       0.505644  , 0.48217836, 0.49081739, 0.50618318, 0.4919582 ,\n",
              "       0.4350554 , 0.48444719, 0.49467042, 0.4789851 , 0.46491457,\n",
              "       0.42527415, 0.42989511, 0.47073809, 0.48158046, 0.49392888,\n",
              "       0.52054431, 0.47831854, 0.42700402, 0.49578621, 0.52062022,\n",
              "       0.43633741, 0.42671723, 0.48976181, 0.41265183, 0.45424771,\n",
              "       0.44743247, 0.50648504, 0.46491952, 0.46800249, 0.3828106 ,\n",
              "       0.49856068, 0.51699582, 0.48166775, 0.56224234, 0.49789532,\n",
              "       0.46000952, 0.49959486, 0.46650966, 0.42187689, 0.47007628,\n",
              "       0.51639958, 0.49191647, 0.50020547, 0.51637026, 0.54369003,\n",
              "       0.42976058, 0.48321571, 0.47720863, 0.44630105, 0.42892523,\n",
              "       0.41553131, 0.46174644, 0.51717268, 0.48445115, 0.44363908,\n",
              "       0.486894  , 0.45906175, 0.43506012, 0.44476889, 0.38141848,\n",
              "       0.40464606, 0.44997479, 0.44733676, 0.45134756, 0.46831684,\n",
              "       0.53670241, 0.47772302, 0.40203076, 0.46568984, 0.39886807,\n",
              "       0.55712779, 0.45029969, 0.45676884, 0.55615739, 0.53303594,\n",
              "       0.45722586, 0.55022421, 0.48445879, 0.58295224, 0.3706536 ,\n",
              "       0.48182352, 0.42183159, 0.44396719, 0.473292  , 0.53361495,\n",
              "       0.47621795, 0.44416008, 0.43392763, 0.42497657, 0.48451716])"
            ]
          },
          "metadata": {
            "tags": []
          },
          "execution_count": 6
        }
      ]
    },
    {
      "cell_type": "markdown",
      "metadata": {
        "id": "P-DzzRk5bf0z",
        "colab_type": "text"
      },
      "source": [
        "## Assignment - Code it up!\n",
        "\n",
        "Most of the above was pure math - now write Python code to reproduce the results! This is purposefully open ended - you'll have to think about how you should represent probabilities and events. You can and should look things up, and as a stretch goal - refactor your code into helpful reusable functions!\n",
        "\n",
        "Specific goals/targets:\n",
        "\n",
        "1. Write a function `def prob_drunk_given_positive(prob_drunk_prior, prob_positive, prob_positive_drunk)` that reproduces the example from lecture, and use it to calculate and visualize a range of situations\n",
        "2. Explore `scipy.stats.bayes_mvs` - read its documentation, and experiment with it on data you've tested in other ways earlier this week\n",
        "3. Create a visualization comparing the results of a Bayesian approach to a traditional/frequentist approach\n",
        "4. In your own words, summarize the difference between Bayesian and Frequentist statistics\n",
        "\n",
        "If you're unsure where to start, check out [this blog post of Bayes theorem with Python](https://dataconomy.com/2015/02/introduction-to-bayes-theorem-with-python/) - you could and should create something similar!\n",
        "\n",
        "Stretch goals:\n",
        "\n",
        "- Apply a Bayesian technique to a problem you previously worked (in an assignment or project work) on from a frequentist (standard) perspective\n",
        "- Check out [PyMC3](https://docs.pymc.io/) (note this goes beyond hypothesis tests into modeling) - read the guides and work through some examples\n",
        "- Take PyMC3 further - see if you can build something with it!"
      ]
    },
    {
      "cell_type": "code",
      "metadata": {
        "id": "Q12UgdJ5GlS1",
        "colab_type": "code",
        "colab": {}
      },
      "source": [
        "#Creating the Bayes problem for the drunk situation\n",
        "\n",
        "def prob_drunk_given_positive(prob_drunk_prior, prob_false_positive, prob_positive_drunk):\n",
        "  prob_sober = 1 - prob_drunk_prior\n",
        "  prob_positive = (prob_positive_drunk * prob_drunk_prior) + (prob_false_positive * prob_sober)\n",
        "  return (prob_positive_drunk * prob_drunk_prior) / prob_positive\n",
        "  \n",
        "prob_drunk_given_positive(0.001, 0.08, 1)\n",
        "\n",
        "#Creating the Bayes problem for A given B\n",
        "\n",
        "def A_given_B(prob_A, prob_B, prob_B_given_A):\n",
        "  prob_not_A = 1 - prob_A\n",
        "  prob_is_B = (prob_B_given_A) + (prob_B * prob_not_A)\n",
        "  return (prob_B_given_A * prob_A) / prob_is_B"
      ],
      "execution_count": 0,
      "outputs": []
    },
    {
      "cell_type": "code",
      "metadata": {
        "id": "DkpvdZmv2BRn",
        "colab_type": "code",
        "colab": {
          "base_uri": "https://localhost:8080/",
          "height": 269
        },
        "outputId": "dfc3c18f-3d29-4616-84ad-4386b25e25f8"
      },
      "source": [
        "#Creating the range for the drunk function to update the prior knowledge\n",
        "import matplotlib.pyplot as plt\n",
        "\n",
        "#Bayesian model\n",
        "post = []\n",
        "n=5\n",
        "prob_drunk_prior = 0.001\n",
        "prob_false_positive = 0.08\n",
        "prob_positive_drunk = 1\n",
        "\n",
        "for i in range(n):\n",
        "  prob_drunk_prior = prob_drunk_given_positive(prob_drunk_prior, prob_false_positive, prob_positive_drunk)\n",
        "  post.append(prob_drunk_prior)\n",
        "  \n",
        "#Frequent model\n",
        "import random\n",
        "import numpy as np\n",
        "\n",
        "drunk_vs_non = 81, (1000-81)\n",
        "  \n",
        "f, (bayesian, freq) = plt.subplots(1, 2)\n",
        "bayesian.plot(post)\n",
        "x_pos = np.arange(2)\n",
        "freq.bar(x_pos, drunk_vs_non )\n",
        "plt.show()"
      ],
      "execution_count": 13,
      "outputs": [
        {
          "output_type": "display_data",
          "data": {
            "image/png": "[encoded data removed]",
            "text/plain": [
              "<Figure size 432x288 with 2 Axes>"
            ]
          },
          "metadata": {
            "tags": []
          }
        }
      ]
    },
    {
      "cell_type": "code",
      "metadata": {
        "id": "xpVhZyUnbf7o",
        "colab_type": "code",
        "colab": {}
      },
      "source": [
        "import pandas as pd\n",
        "#Cleaning the data\n",
        "columns = [\n",
        "    'party', 'hcapped-infants',\n",
        "    'water-project', 'budget-resolution',\n",
        "    'phys-fee-freeze', 'el-salvador-aid',\n",
        "    'relig-groups', 'anti-satellite',\n",
        "    'aid-to-nic', 'mx-missile',\n",
        "    'immigration','synfuels-cutback',\n",
        "    'edu-spending', 'superfund-sue',\n",
        "    'crime', 'duty-exports',\n",
        "    'export-africa'\n",
        "]\n",
        "\n",
        "df = pd.read_csv('https://archive.ics.uci.edu/ml/machine-learning-databases/voting-records/house-votes-84.data', names=columns)\n",
        "df = df.replace({'n': int(0), 'y': int(1), '?': None})\n",
        "rep = df[df['party'] == 'republican']\n",
        "dem = df[df['party'] == 'democrat']"
      ],
      "execution_count": 0,
      "outputs": []
    },
    {
      "cell_type": "code",
      "metadata": {
        "id": "XopvNI_diK8v",
        "colab_type": "code",
        "colab": {
          "base_uri": "https://localhost:8080/",
          "height": 68
        },
        "outputId": "aca044c5-3c6b-4fda-e905-b391449949c2"
      },
      "source": [
        "#My own CI function\n",
        "'water-project Mean: 0.502092050209205 CI: (0.43824514095228484, 0.5659389594661252) ME: 0.06384690925692016'\n",
        "\n",
        "confidence_interval(dem['water-project'].dropna())\n",
        "'(0.502092050209205, 0.43824514095228484, 0.5659389594661252)'\n",
        "\n",
        "stats.bayes_mvs(dem['water-project'].dropna(), alpha=.95)"
      ],
      "execution_count": 10,
      "outputs": [
        {
          "output_type": "execute_result",
          "data": {
            "text/plain": [
              "(Mean(statistic=0.502092050209205, minmax=(0.43824514095228484, 0.5659389594661252)),\n",
              " Variance(statistic=0.25317353379192964, minmax=(0.2114086380840171, 0.30304303169474467)),\n",
              " Std_dev(statistic=0.5026307974956246, minmax=(0.45979195086910457, 0.5504934438253962)))"
            ]
          },
          "metadata": {
            "tags": []
          },
          "execution_count": 10
        }
      ]
    },
    {
      "cell_type": "code",
      "metadata": {
        "id": "jA1FM1K1pEce",
        "colab_type": "code",
        "colab": {}
      },
      "source": [
        ""
      ],
      "execution_count": 0,
      "outputs": []
    },
    {
      "cell_type": "markdown",
      "metadata": {
        "id": "9_xyzWVtDx2n",
        "colab_type": "text"
      },
      "source": [
        "Bayesian takes upon the principle of previous data and uses heavily data known from prior trials or experiences. Frequentists take upon the data known at the moment of the scenario and focus on the sample size to help in determining the outcome, since a larger sample size in a sense shows prior data as it is the experience of 1000+ outcomes hopefully."
      ]
    },
    {
      "cell_type": "markdown",
      "metadata": {
        "id": "uWgWjp3PQ3Sq",
        "colab_type": "text"
      },
      "source": [
        "## Resources"
      ]
    },
    {
      "cell_type": "markdown",
      "metadata": {
        "id": "QRgHqmYIQ9qn",
        "colab_type": "text"
      },
      "source": [
        "- [Worked example of Bayes rule calculation](https://en.wikipedia.org/wiki/Bayes'_theorem#Examples) (helpful as it fully breaks out the denominator)\n",
        "- [Source code for mvsdist in scipy](https://github.com/scipy/scipy/blob/90534919e139d2a81c24bf08341734ff41a3db12/scipy/stats/morestats.py#L139)"
      ]
    }
  ]
}