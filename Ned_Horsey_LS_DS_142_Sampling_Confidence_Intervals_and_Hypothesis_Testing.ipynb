{
  "nbformat": 4,
  "nbformat_minor": 0,
  "metadata": {
    "colab": {
      "name": "Ned_Horsey_LS_DS_142_Sampling_Confidence_Intervals_and_Hypothesis_Testing.ipynb",
      "version": "0.3.2",
      "provenance": [],
      "collapsed_sections": [],
      "include_colab_link": true
    },
    "kernelspec": {
      "name": "python3",
      "display_name": "Python 3"
    }
  },
  "cells": [
    {
      "cell_type": "markdown",
      "metadata": {
        "id": "view-in-github",
        "colab_type": "text"
      },
      "source": [
        "<a href=\"https://colab.research.google.com/github/Rice-from-data/DS-Unit-1-Sprint-4-Statistical-Tests-and-Experiments/blob/master/Ned_Horsey_LS_DS_142_Sampling_Confidence_Intervals_and_Hypothesis_Testing.ipynb\" target=\"_parent\"><img src=\"https://colab.research.google.com/assets/colab-badge.svg\" alt=\"Open In Colab\"/></a>"
      ]
    },
    {
      "metadata": {
        "id": "838Dmw1kM2LK",
        "colab_type": "text"
      },
      "cell_type": "markdown",
      "source": [
        "# Lambda School Data Science Module 142\n",
        "## Sampling, Confidence Intervals, and Hypothesis Testing"
      ]
    },
    {
      "metadata": {
        "id": "dbcPKIo5M6Ny",
        "colab_type": "text"
      },
      "cell_type": "markdown",
      "source": [
        "## Prepare - examine other available hypothesis tests\n",
        "\n",
        "If you had to pick a single hypothesis test in your toolbox, t-test would probably be the best choice - but the good news is you don't have to pick just one! Here's some of the others to be aware of:"
      ]
    },
    {
      "metadata": {
        "id": "tlBel8j9M6tB",
        "colab_type": "code",
        "outputId": "53d3dbe4-ab58-4c60-c228-fe9fbc61a4b1",
        "colab": {
          "base_uri": "https://localhost:8080/",
          "height": 199
        }
      },
      "cell_type": "code",
      "source": [
        "import numpy as np\n",
        "from scipy.stats import chisquare  # One-way chi square test\n",
        "\n",
        "# Chi square can take any crosstab/table and test the independence of rows/cols\n",
        "# The null hypothesis is that the rows/cols are independent -> low chi square\n",
        "# The alternative is that there is a dependence -> high chi square\n",
        "# Be aware! Chi square does *not* tell you direction/causation\n",
        "\n",
        "ind_obs = np.array([[1, 1], [2, 2]]).T\n",
        "print(ind_obs)\n",
        "print(chisquare(ind_obs, axis=None))\n",
        "\n",
        "dep_obs = np.array([[16, 18, 16, 14, 12, 12], [32, 24, 16, 28, 20, 24]]).T\n",
        "print(dep_obs)\n",
        "print(chisquare(dep_obs, axis=None))"
      ],
      "execution_count": 50,
      "outputs": [
        {
          "output_type": "stream",
          "text": [
            "[[1 2]\n",
            " [1 2]]\n",
            "Power_divergenceResult(statistic=0.6666666666666666, pvalue=0.8810148425137847)\n",
            "[[16 32]\n",
            " [18 24]\n",
            " [16 16]\n",
            " [14 28]\n",
            " [12 20]\n",
            " [12 24]]\n",
            "Power_divergenceResult(statistic=23.31034482758621, pvalue=0.015975692534127565)\n"
          ],
          "name": "stdout"
        }
      ]
    },
    {
      "metadata": {
        "id": "nN0BdNiDPxbk",
        "colab_type": "code",
        "outputId": "501b73bc-b476-43e5-d6dc-5fd58091871a",
        "colab": {
          "base_uri": "https://localhost:8080/",
          "height": 35
        }
      },
      "cell_type": "code",
      "source": [
        "# Distribution tests:\n",
        "# We often assume that something is normal, but it can be important to *check*\n",
        "\n",
        "# For example, later on with predictive modeling, a typical assumption is that\n",
        "# residuals (prediction errors) are normal - checking is a good diagnostic\n",
        "\n",
        "from scipy.stats import normaltest\n",
        "# Poisson models arrival times and is related to the binomial (coinflip)\n",
        "sample = np.random.poisson(5, 1000)\n",
        "print(normaltest(sample))  # Pretty clearly not normal"
      ],
      "execution_count": 51,
      "outputs": [
        {
          "output_type": "stream",
          "text": [
            "NormaltestResult(statistic=36.67081161106961, pvalue=1.0890164379983385e-08)\n"
          ],
          "name": "stdout"
        }
      ]
    },
    {
      "metadata": {
        "id": "P5t0WhkDReFO",
        "colab_type": "code",
        "outputId": "8bbdec3a-93a4-4e95-89b7-5fbe4a71345c",
        "colab": {
          "base_uri": "https://localhost:8080/",
          "height": 54
        }
      },
      "cell_type": "code",
      "source": [
        "# Kruskal-Wallis H-test - compare the median rank between 2+ groups\n",
        "# Can be applied to ranking decisions/outcomes/recommendations\n",
        "# The underlying math comes from chi-square distribution, and is best for n>5\n",
        "from scipy.stats import kruskal\n",
        "\n",
        "x1 = [1, 3, 5, 7, 9]\n",
        "y1 = [2, 4, 6, 8, 10]\n",
        "print(kruskal(x1, y1))  # x1 is a little better, but not \"significantly\" so\n",
        "\n",
        "x2 = [1, 1, 1]\n",
        "y2 = [2, 2, 2]\n",
        "z = [2, 2]  # Hey, a third group, and of different size!\n",
        "print(kruskal(x2, y2, z))  # x clearly dominates"
      ],
      "execution_count": 52,
      "outputs": [
        {
          "output_type": "stream",
          "text": [
            "KruskalResult(statistic=0.2727272727272734, pvalue=0.6015081344405895)\n",
            "KruskalResult(statistic=7.0, pvalue=0.0301973834223185)\n"
          ],
          "name": "stdout"
        }
      ]
    },
    {
      "metadata": {
        "id": "7pT3IP36Rh0b",
        "colab_type": "text"
      },
      "cell_type": "markdown",
      "source": [
        "And there's many more! `scipy.stats` is fairly comprehensive, though there are even more available if you delve into the extended world of statistics packages. As tests get increasingly obscure and specialized, the importance of knowing them by heart becomes small - but being able to look them up and figure them out when they *are* relevant is still important."
      ]
    },
    {
      "metadata": {
        "id": "L1_KRuHCM7BW",
        "colab_type": "text"
      },
      "cell_type": "markdown",
      "source": [
        "## Live Lecture - let's explore some more of scipy.stats\n",
        "\n",
        "Candidate topics to explore:\n",
        "\n",
        "- `scipy.stats.chi2` - the Chi-squared distribution, which we can use to reproduce the Chi-squared test\n",
        "- Calculate the Chi-Squared test statistic \"by hand\" (with code), and feed it into `chi2`\n",
        "- Build a confidence interval with `stats.t.ppf`, the t-distribution percentile point function (the inverse of the CDF) - we can write a function to return a tuple of `(mean, lower bound, upper bound)` that you can then use for the assignment (visualizing confidence intervals)"
      ]
    },
    {
      "metadata": {
        "id": "anEtwkQIKECE",
        "colab_type": "code",
        "colab": {
          "base_uri": "https://localhost:8080/",
          "height": 35
        },
        "outputId": "83972e05-ec2a-43d8-bf96-2227e6006a0e"
      },
      "cell_type": "code",
      "source": [
        "# playing with distributions\n",
        "from scipy.stats import chi2\n",
        "\n",
        "chi2_5 = chi2(5)\n",
        "chi2"
      ],
      "execution_count": 53,
      "outputs": [
        {
          "output_type": "execute_result",
          "data": {
            "text/plain": [
              "<scipy.stats._continuous_distns.chi2_gen at 0x7fd9e3086470>"
            ]
          },
          "metadata": {
            "tags": []
          },
          "execution_count": 53
        }
      ]
    },
    {
      "metadata": {
        "id": "iriGFEc9Kb9q",
        "colab_type": "code",
        "colab": {
          "base_uri": "https://localhost:8080/",
          "height": 35
        },
        "outputId": "559cb3b9-c31e-403c-dc10-397bf9cd02f6"
      },
      "cell_type": "code",
      "source": [
        "chi2_5.mean()"
      ],
      "execution_count": 54,
      "outputs": [
        {
          "output_type": "execute_result",
          "data": {
            "text/plain": [
              "5.0"
            ]
          },
          "metadata": {
            "tags": []
          },
          "execution_count": 54
        }
      ]
    },
    {
      "metadata": {
        "id": "iKhPL8FiKfJY",
        "colab_type": "code",
        "colab": {
          "base_uri": "https://localhost:8080/",
          "height": 35
        },
        "outputId": "e8e7591b-0c9d-4399-9966-a251c73240a3"
      },
      "cell_type": "code",
      "source": [
        "chi2_5.median()"
      ],
      "execution_count": 55,
      "outputs": [
        {
          "output_type": "execute_result",
          "data": {
            "text/plain": [
              "4.351460191095526"
            ]
          },
          "metadata": {
            "tags": []
          },
          "execution_count": 55
        }
      ]
    },
    {
      "metadata": {
        "id": "ndYh6QZQKpw7",
        "colab_type": "code",
        "colab": {
          "base_uri": "https://localhost:8080/",
          "height": 54
        },
        "outputId": "0c4a872b-c795-4c93-caac-609b9c9d1351"
      },
      "cell_type": "code",
      "source": [
        "chi2_500 = chi2(500)\n",
        "print(chi2_500.mean())\n",
        "print(chi2_500.median())"
      ],
      "execution_count": 56,
      "outputs": [
        {
          "output_type": "stream",
          "text": [
            "500.0\n",
            "499.3334915888738\n"
          ],
          "name": "stdout"
        }
      ]
    },
    {
      "metadata": {
        "id": "AZ9OqeGXLlOx",
        "colab_type": "code",
        "colab": {
          "base_uri": "https://localhost:8080/",
          "height": 347
        },
        "outputId": "8303c989-da9f-4dfd-b1eb-b906d94f1c34"
      },
      "cell_type": "code",
      "source": [
        "import scipy\n",
        "import numpy as np\n",
        "import matplotlib.pyplot as plt\n",
        "\n",
        "data = scipy.stats.norm.rvs(size=100000, loc=0, scale=1.5, random_state =123)\n",
        "\n",
        "# drawing a lot of random normals \n",
        "\n",
        "X = np.linspace(-5, 5, 100)\n",
        "hist = np.histogram(data, bins = 150)\n",
        "# bins 100x so it looks like a density plot, but too many bins will show off the randomness of the distribution\n",
        "\n",
        "hist_dist = scipy.stats.rv_histogram(hist)\n",
        "plt.plot(X, hist_dist.pdf(X), label='PDF');"
      ],
      "execution_count": 57,
      "outputs": [
        {
          "output_type": "display_data",
          "data": {
            "image/png": "[encoded data removed]",
            "text/plain": [
              "<Figure size 576x396 with 1 Axes>"
            ]
          },
          "metadata": {
            "tags": []
          }
        }
      ]
    },
    {
      "metadata": {
        "id": "lBoj1oK0Mmw1",
        "colab_type": "code",
        "colab": {
          "base_uri": "https://localhost:8080/",
          "height": 35
        },
        "outputId": "bcf38360-681d-4de0-c394-ebb8be5c8115"
      },
      "cell_type": "code",
      "source": [
        "# let's see if a chi500 is normal\n",
        "from scipy.stats import normaltest\n",
        "normaltest(chi2_500.rvs(100000))\n",
        "# pvalue is high means that we have to reject the null hypoth which is that this comes from a normal dist - which is true, it's a chi2 dist"
      ],
      "execution_count": 58,
      "outputs": [
        {
          "output_type": "execute_result",
          "data": {
            "text/plain": [
              "NormaltestResult(statistic=329.68899472435425, pvalue=2.564155881415153e-72)"
            ]
          },
          "metadata": {
            "tags": []
          },
          "execution_count": 58
        }
      ]
    },
    {
      "metadata": {
        "id": "1IuOGN8wcRn3",
        "colab_type": "code",
        "colab": {
          "base_uri": "https://localhost:8080/",
          "height": 35
        },
        "outputId": "2be9b050-8e8b-4b90-d556-fedf39bb941c"
      },
      "cell_type": "code",
      "source": [
        "chisquare(chi2_500.rvs(10000))"
      ],
      "execution_count": 59,
      "outputs": [
        {
          "output_type": "execute_result",
          "data": {
            "text/plain": [
              "Power_divergenceResult(statistic=20432.144672220835, pvalue=0.0)"
            ]
          },
          "metadata": {
            "tags": []
          },
          "execution_count": 59
        }
      ]
    },
    {
      "metadata": {
        "id": "jXT6uR-_cc8P",
        "colab_type": "code",
        "colab": {
          "base_uri": "https://localhost:8080/",
          "height": 35
        },
        "outputId": "665e1ef0-4d0d-46b2-b09d-14f108eb7d2a"
      },
      "cell_type": "code",
      "source": [
        "chisquare(chi2_5.rvs(100))"
      ],
      "execution_count": 60,
      "outputs": [
        {
          "output_type": "execute_result",
          "data": {
            "text/plain": [
              "Power_divergenceResult(statistic=194.70412727096567, pvalue=3.226372768027346e-08)"
            ]
          },
          "metadata": {
            "tags": []
          },
          "execution_count": 60
        }
      ]
    },
    {
      "metadata": {
        "id": "trPNzIonci-W",
        "colab_type": "code",
        "colab": {
          "base_uri": "https://localhost:8080/",
          "height": 2035
        },
        "outputId": "a06250f5-362a-4b6c-fdbe-43f9ace1c43d"
      },
      "cell_type": "code",
      "source": [
        "help(chisquare)"
      ],
      "execution_count": 61,
      "outputs": [
        {
          "output_type": "stream",
          "text": [
            "Help on function chisquare in module scipy.stats.stats:\n",
            "\n",
            "chisquare(f_obs, f_exp=None, ddof=0, axis=0)\n",
            "    Calculate a one-way chi square test.\n",
            "    \n",
            "    The chi square test tests the null hypothesis that the categorical data\n",
            "    has the given frequencies.\n",
            "    \n",
            "    Parameters\n",
            "    ----------\n",
            "    f_obs : array_like\n",
            "        Observed frequencies in each category.\n",
            "    f_exp : array_like, optional\n",
            "        Expected frequencies in each category.  By default the categories are\n",
            "        assumed to be equally likely.\n",
            "    ddof : int, optional\n",
            "        \"Delta degrees of freedom\": adjustment to the degrees of freedom\n",
            "        for the p-value.  The p-value is computed using a chi-squared\n",
            "        distribution with ``k - 1 - ddof`` degrees of freedom, where `k`\n",
            "        is the number of observed frequencies.  The default value of `ddof`\n",
            "        is 0.\n",
            "    axis : int or None, optional\n",
            "        The axis of the broadcast result of `f_obs` and `f_exp` along which to\n",
            "        apply the test.  If axis is None, all values in `f_obs` are treated\n",
            "        as a single data set.  Default is 0.\n",
            "    \n",
            "    Returns\n",
            "    -------\n",
            "    chisq : float or ndarray\n",
            "        The chi-squared test statistic.  The value is a float if `axis` is\n",
            "        None or `f_obs` and `f_exp` are 1-D.\n",
            "    p : float or ndarray\n",
            "        The p-value of the test.  The value is a float if `ddof` and the\n",
            "        return value `chisq` are scalars.\n",
            "    \n",
            "    See Also\n",
            "    --------\n",
            "    power_divergence\n",
            "    mstats.chisquare\n",
            "    \n",
            "    Notes\n",
            "    -----\n",
            "    This test is invalid when the observed or expected frequencies in each\n",
            "    category are too small.  A typical rule is that all of the observed\n",
            "    and expected frequencies should be at least 5.\n",
            "    \n",
            "    The default degrees of freedom, k-1, are for the case when no parameters\n",
            "    of the distribution are estimated. If p parameters are estimated by\n",
            "    efficient maximum likelihood then the correct degrees of freedom are\n",
            "    k-1-p. If the parameters are estimated in a different way, then the\n",
            "    dof can be between k-1-p and k-1. However, it is also possible that\n",
            "    the asymptotic distribution is not a chisquare, in which case this\n",
            "    test is not appropriate.\n",
            "    \n",
            "    References\n",
            "    ----------\n",
            "    .. [1] Lowry, Richard.  \"Concepts and Applications of Inferential\n",
            "           Statistics\". Chapter 8. http://faculty.vassar.edu/lowry/ch8pt1.html\n",
            "    .. [2] \"Chi-squared test\", http://en.wikipedia.org/wiki/Chi-squared_test\n",
            "    \n",
            "    Examples\n",
            "    --------\n",
            "    When just `f_obs` is given, it is assumed that the expected frequencies\n",
            "    are uniform and given by the mean of the observed frequencies.\n",
            "    \n",
            "    >>> from scipy.stats import chisquare\n",
            "    >>> chisquare([16, 18, 16, 14, 12, 12])\n",
            "    (2.0, 0.84914503608460956)\n",
            "    \n",
            "    With `f_exp` the expected frequencies can be given.\n",
            "    \n",
            "    >>> chisquare([16, 18, 16, 14, 12, 12], f_exp=[16, 16, 16, 16, 16, 8])\n",
            "    (3.5, 0.62338762774958223)\n",
            "    \n",
            "    When `f_obs` is 2-D, by default the test is applied to each column.\n",
            "    \n",
            "    >>> obs = np.array([[16, 18, 16, 14, 12, 12], [32, 24, 16, 28, 20, 24]]).T\n",
            "    >>> obs.shape\n",
            "    (6, 2)\n",
            "    >>> chisquare(obs)\n",
            "    (array([ 2.        ,  6.66666667]), array([ 0.84914504,  0.24663415]))\n",
            "    \n",
            "    By setting ``axis=None``, the test is applied to all data in the array,\n",
            "    which is equivalent to applying the test to the flattened array.\n",
            "    \n",
            "    >>> chisquare(obs, axis=None)\n",
            "    (23.31034482758621, 0.015975692534127565)\n",
            "    >>> chisquare(obs.ravel())\n",
            "    (23.31034482758621, 0.015975692534127565)\n",
            "    \n",
            "    `ddof` is the change to make to the default degrees of freedom.\n",
            "    \n",
            "    >>> chisquare([16, 18, 16, 14, 12, 12], ddof=1)\n",
            "    (2.0, 0.73575888234288467)\n",
            "    \n",
            "    The calculation of the p-values is done by broadcasting the\n",
            "    chi-squared statistic with `ddof`.\n",
            "    \n",
            "    >>> chisquare([16, 18, 16, 14, 12, 12], ddof=[0,1,2])\n",
            "    (2.0, array([ 0.84914504,  0.73575888,  0.5724067 ]))\n",
            "    \n",
            "    `f_obs` and `f_exp` are also broadcast.  In the following, `f_obs` has\n",
            "    shape (6,) and `f_exp` has shape (2, 6), so the result of broadcasting\n",
            "    `f_obs` and `f_exp` has shape (2, 6).  To compute the desired chi-squared\n",
            "    statistics, we use ``axis=1``:\n",
            "    \n",
            "    >>> chisquare([16, 18, 16, 14, 12, 12],\n",
            "    ...           f_exp=[[16, 16, 16, 16, 16, 8], [8, 20, 20, 16, 12, 12]],\n",
            "    ...           axis=1)\n",
            "    (array([ 3.5 ,  9.25]), array([ 0.62338763,  0.09949846]))\n",
            "\n"
          ],
          "name": "stdout"
        }
      ]
    },
    {
      "metadata": {
        "id": "2Wib-3fTNJyY",
        "colab_type": "code",
        "colab": {
          "base_uri": "https://localhost:8080/",
          "height": 1054
        },
        "outputId": "0cd14a64-1325-481b-ff5c-746e622d0231"
      },
      "cell_type": "code",
      "source": [
        "help(normaltest)"
      ],
      "execution_count": 62,
      "outputs": [
        {
          "output_type": "stream",
          "text": [
            "Help on function normaltest in module scipy.stats.stats:\n",
            "\n",
            "normaltest(a, axis=0, nan_policy='propagate')\n",
            "    Test whether a sample differs from a normal distribution.\n",
            "    \n",
            "    This function tests the null hypothesis that a sample comes\n",
            "    from a normal distribution.  It is based on D'Agostino and\n",
            "    Pearson's [1]_, [2]_ test that combines skew and kurtosis to\n",
            "    produce an omnibus test of normality.\n",
            "    \n",
            "    \n",
            "    Parameters\n",
            "    ----------\n",
            "    a : array_like\n",
            "        The array containing the sample to be tested.\n",
            "    axis : int or None, optional\n",
            "        Axis along which to compute test. Default is 0. If None,\n",
            "        compute over the whole array `a`.\n",
            "    nan_policy : {'propagate', 'raise', 'omit'}, optional\n",
            "        Defines how to handle when input contains nan. 'propagate' returns nan,\n",
            "        'raise' throws an error, 'omit' performs the calculations ignoring nan\n",
            "        values. Default is 'propagate'.\n",
            "    \n",
            "    Returns\n",
            "    -------\n",
            "    statistic : float or array\n",
            "        ``s^2 + k^2``, where ``s`` is the z-score returned by `skewtest` and\n",
            "        ``k`` is the z-score returned by `kurtosistest`.\n",
            "    pvalue : float or array\n",
            "       A 2-sided chi squared probability for the hypothesis test.\n",
            "    \n",
            "    References\n",
            "    ----------\n",
            "    .. [1] D'Agostino, R. B. (1971), \"An omnibus test of normality for\n",
            "           moderate and large sample size\", Biometrika, 58, 341-348\n",
            "    \n",
            "    .. [2] D'Agostino, R. and Pearson, E. S. (1973), \"Tests for departure from\n",
            "           normality\", Biometrika, 60, 613-622\n",
            "    \n",
            "    Examples\n",
            "    --------\n",
            "    >>> from scipy import stats\n",
            "    >>> pts = 1000\n",
            "    >>> np.random.seed(28041990)\n",
            "    >>> a = np.random.normal(0, 1, size=pts)\n",
            "    >>> b = np.random.normal(2, 1, size=pts)\n",
            "    >>> x = np.concatenate((a, b))\n",
            "    >>> k2, p = stats.normaltest(x)\n",
            "    >>> alpha = 1e-3\n",
            "    >>> print(\"p = {:g}\".format(p))\n",
            "    p = 3.27207e-11\n",
            "    >>> if p < alpha:  # null hypothesis: x comes from a normal distribution\n",
            "    ...     print(\"The null hypothesis can be rejected\")\n",
            "    ... else:\n",
            "    ...     print(\"The null hypothesis cannot be rejected\")\n",
            "    The null hypothesis can be rejected\n",
            "\n"
          ],
          "name": "stdout"
        }
      ]
    },
    {
      "metadata": {
        "id": "boTVV1rBWcro",
        "colab_type": "code",
        "colab": {
          "base_uri": "https://localhost:8080/",
          "height": 108
        },
        "outputId": "c5a813d2-73ea-4fd9-88f2-95704b4ccad2"
      },
      "cell_type": "code",
      "source": [
        "# calculate chi squared test stat by hand\n",
        "\n",
        "# 1 male wants t oeat outside, 2 insite\n",
        "# 2 females want houtside, 1 inside\n",
        "\n",
        "chi_data = [[1,2], [2,1]]\n",
        "import pandas as pd\n",
        "chi_data= pd.DataFrame(chi_data, columns = ['Outside', 'Inside'], index = ['Male', 'Female'])\n",
        "chi_data"
      ],
      "execution_count": 63,
      "outputs": [
        {
          "output_type": "execute_result",
          "data": {
            "text/html": [
              "<div>\n",
              "<style scoped>\n",
              "    .dataframe tbody tr th:only-of-type {\n",
              "        vertical-align: middle;\n",
              "    }\n",
              "\n",
              "    .dataframe tbody tr th {\n",
              "        vertical-align: top;\n",
              "    }\n",
              "\n",
              "    .dataframe thead th {\n",
              "        text-align: right;\n",
              "    }\n",
              "</style>\n",
              "<table border=\"1\" class=\"dataframe\">\n",
              "  <thead>\n",
              "    <tr style=\"text-align: right;\">\n",
              "      <th></th>\n",
              "      <th>Outside</th>\n",
              "      <th>Inside</th>\n",
              "    </tr>\n",
              "  </thead>\n",
              "  <tbody>\n",
              "    <tr>\n",
              "      <th>Male</th>\n",
              "      <td>1</td>\n",
              "      <td>2</td>\n",
              "    </tr>\n",
              "    <tr>\n",
              "      <th>Female</th>\n",
              "      <td>2</td>\n",
              "      <td>1</td>\n",
              "    </tr>\n",
              "  </tbody>\n",
              "</table>\n",
              "</div>"
            ],
            "text/plain": [
              "        Outside  Inside\n",
              "Male          1       2\n",
              "Female        2       1"
            ]
          },
          "metadata": {
            "tags": []
          },
          "execution_count": 63
        }
      ]
    },
    {
      "metadata": {
        "id": "DF_VbkybWwte",
        "colab_type": "code",
        "colab": {
          "base_uri": "https://localhost:8080/",
          "height": 35
        },
        "outputId": "42a3bc75-a1d4-4670-f776-a91f2ab8f9d1"
      },
      "cell_type": "code",
      "source": [
        "# chi data looks at the margins???\n",
        "# typout / expalin margins\n",
        "# Total # of males (first row) = 3\n",
        "# Total # of femails (2nrd row) =3\n",
        "# Total number of ppl outside = 3\n",
        "# Total number of ppl prefer inside = 3\n",
        "\n",
        "# Now lets think about margin *proportions*\n",
        "# % of males? = 50%\n",
        "# % of feamles = 50%\n",
        "# ...everything = .5\n",
        "# expected value of top left cell (males who want to eat outside) = (.5 (proportion of males) * .5 (proportion of outside eaters) * 6) = 1.5\n",
        "# actual value is 1\n",
        "\n",
        "# Because of symetry of this example, we know the expected value of all cells is 1.5 b/c margins are all the same\n",
        "\n",
        "# chi-squared test statistic is the sum of square deviation from these E.V.\n",
        "chi_data = [[1,2], [2,1]]\n",
        "expected_values = [[1.5,1.5], [1.5,1.5]]\n",
        "\n",
        "deviation = (((.5)**2)/1.5) * 4\n",
        "\n",
        "print(deviation)\n",
        "\n"
      ],
      "execution_count": 64,
      "outputs": [
        {
          "output_type": "stream",
          "text": [
            "0.6666666666666666\n"
          ],
          "name": "stdout"
        }
      ]
    },
    {
      "metadata": {
        "id": "cn27wCrgZ7YW",
        "colab_type": "code",
        "colab": {}
      },
      "cell_type": "code",
      "source": [
        "# a little bit more properly chi squared test\n",
        "\n",
        "def lazy_chisquare(observed, expected):\n",
        "  chisquare = 0\n",
        "  for row_obs, row_exp in zip(observed, expected):\n",
        "    for obs, exp in zip(row_obs, row_exp):\n",
        "      chisquare += ((obs - exp) ** 2) /exp\n",
        "  return chisquare\n",
        "\n",
        "chi_data = [[1,2], [2,1]]\n",
        "expected_values = [[1.5,1.5], [1.5,1.5]]"
      ],
      "execution_count": 0,
      "outputs": []
    },
    {
      "metadata": {
        "id": "8L7Yld9vaX-3",
        "colab_type": "code",
        "colab": {
          "base_uri": "https://localhost:8080/",
          "height": 35
        },
        "outputId": "92e99ef0-fdcc-4651-d694-83e409150d53"
      },
      "cell_type": "code",
      "source": [
        "lazy_chisquare(chi_data, expected_values)"
      ],
      "execution_count": 66,
      "outputs": [
        {
          "output_type": "execute_result",
          "data": {
            "text/plain": [
              "0.6666666666666666"
            ]
          },
          "metadata": {
            "tags": []
          },
          "execution_count": 66
        }
      ]
    },
    {
      "metadata": {
        "id": "cId3SBtbZh4o",
        "colab_type": "code",
        "colab": {
          "base_uri": "https://localhost:8080/",
          "height": 35
        },
        "outputId": "a49192a3-cadb-4838-8aed-6262d6f01fae"
      },
      "cell_type": "code",
      "source": [
        "from scipy.stats import chisquare\n",
        "\n",
        "chisquare(chi_data, axis=None)  \n"
      ],
      "execution_count": 67,
      "outputs": [
        {
          "output_type": "execute_result",
          "data": {
            "text/plain": [
              "Power_divergenceResult(statistic=0.6666666666666666, pvalue=0.8810148425137847)"
            ]
          },
          "metadata": {
            "tags": []
          },
          "execution_count": 67
        }
      ]
    },
    {
      "metadata": {
        "id": "qW6k0dorM7Lz",
        "colab_type": "code",
        "colab": {}
      },
      "cell_type": "code",
      "source": [
        "# Taking requests! Come to lecture with a topic or problem and we'll try it.\n"
      ],
      "execution_count": 0,
      "outputs": []
    },
    {
      "metadata": {
        "id": "trHAdcNFcsNX",
        "colab_type": "code",
        "colab": {}
      },
      "cell_type": "code",
      "source": [
        "#confidence intervals\n",
        "# similar to hypothesis testing, but centered at sample mean\n",
        "# Generally better than reporting the \"point estimate\" (sample mean)\n",
        "# Why? Because point estimates aren't always perfect\n",
        "\n",
        "import numpy as np\n",
        "from scipy import stats\n",
        "\n",
        "def confidence_interval(data, confidence=0.95):\n",
        "  '''\n",
        "  Calculate a confidence interval around a sample mean for given data.\n",
        "  using t-distribution and two tailed test, default 95% confidence.\n",
        "  \n",
        "  Arguments:\n",
        "  data = iterable (list or np array) of sample observations\n",
        "  confidence - level of confidence for interval\n",
        "  '''\n",
        "  \n",
        "  data = np.array(data)\n",
        "  mean = np.mean(data)\n",
        "  n = len(data)\n",
        "  stderr = stats.sem(data)\n",
        "  interval = stderr * stats.t.ppf((1 + confidence) / 2., n-1)\n",
        "  return (mean, mean - interval, mean + interval)\n",
        "\n",
        "def report_confidence_interval(confidence_interval):\n",
        "  '''\n",
        "  Return a string with a pretty report of a confidence interval\n",
        "  \n",
        "  Arguments:\n",
        "    confidence_interval - a tuple of (mean, lower bount, upper bound)\n",
        "    \n",
        "   Returns:\n",
        "    None, but prints to screen the report\n",
        "    '''\n",
        "#   print('Mean: {}'.format(confidence_interval[0]))\n",
        "#   print('Lower bound: {}'.format(confidence_interval[1]))\n",
        "#   print('Upper bound: {}'.format(confidence_interval[2]))\n",
        "  s = 'our mean lies in the interval [{:.2}, {:.2}]'.format(\n",
        "    confidence_interval[1], confidence_interval[2])\n",
        "  return s\n"
      ],
      "execution_count": 0,
      "outputs": []
    },
    {
      "metadata": {
        "id": "qCtqVh8njiPg",
        "colab_type": "code",
        "colab": {
          "base_uri": "https://localhost:8080/",
          "height": 872
        },
        "outputId": "04fbfb93-5721-4a8c-8307-0b030d9f5c14"
      },
      "cell_type": "code",
      "source": [
        "help(stats.sem)"
      ],
      "execution_count": 84,
      "outputs": [
        {
          "output_type": "stream",
          "text": [
            "Help on function sem in module scipy.stats.stats:\n",
            "\n",
            "sem(a, axis=0, ddof=1, nan_policy='propagate')\n",
            "    Calculate the standard error of the mean (or standard error of\n",
            "    measurement) of the values in the input array.\n",
            "    \n",
            "    Parameters\n",
            "    ----------\n",
            "    a : array_like\n",
            "        An array containing the values for which the standard error is\n",
            "        returned.\n",
            "    axis : int or None, optional\n",
            "        Axis along which to operate. Default is 0. If None, compute over\n",
            "        the whole array `a`.\n",
            "    ddof : int, optional\n",
            "        Delta degrees-of-freedom. How many degrees of freedom to adjust\n",
            "        for bias in limited samples relative to the population estimate\n",
            "        of variance. Defaults to 1.\n",
            "    nan_policy : {'propagate', 'raise', 'omit'}, optional\n",
            "        Defines how to handle when input contains nan. 'propagate' returns nan,\n",
            "        'raise' throws an error, 'omit' performs the calculations ignoring nan\n",
            "        values. Default is 'propagate'.\n",
            "    \n",
            "    Returns\n",
            "    -------\n",
            "    s : ndarray or float\n",
            "        The standard error of the mean in the sample(s), along the input axis.\n",
            "    \n",
            "    Notes\n",
            "    -----\n",
            "    The default value for `ddof` is different to the default (0) used by other\n",
            "    ddof containing routines, such as np.std and np.nanstd.\n",
            "    \n",
            "    Examples\n",
            "    --------\n",
            "    Find standard error along the first axis:\n",
            "    \n",
            "    >>> from scipy import stats\n",
            "    >>> a = np.arange(20).reshape(5,4)\n",
            "    >>> stats.sem(a)\n",
            "    array([ 2.8284,  2.8284,  2.8284,  2.8284])\n",
            "    \n",
            "    Find standard error across the whole array, using n degrees of freedom:\n",
            "    \n",
            "    >>> stats.sem(a, axis=None, ddof=0)\n",
            "    1.2893796958227628\n",
            "\n"
          ],
          "name": "stdout"
        }
      ]
    },
    {
      "metadata": {
        "id": "v_vfoS5KhvZW",
        "colab_type": "code",
        "colab": {}
      },
      "cell_type": "code",
      "source": [
        "help(stats.ttest_1samp)"
      ],
      "execution_count": 0,
      "outputs": []
    },
    {
      "metadata": {
        "id": "TOQT-UtBixYW",
        "colab_type": "code",
        "colab": {
          "base_uri": "https://localhost:8080/",
          "height": 72
        },
        "outputId": "49c13da5-9c13-4229-8899-4dc15809d88e"
      },
      "cell_type": "code",
      "source": [
        "coinflips = np.random.binomial(n=1, p=0.7, size=100)\n",
        "print(coinflips)"
      ],
      "execution_count": 87,
      "outputs": [
        {
          "output_type": "stream",
          "text": [
            "[0 1 0 1 1 1 1 0 1 1 1 0 1 1 0 1 1 1 1 1 0 1 1 1 1 0 0 1 1 0 0 1 0 1 1 1 1\n",
            " 1 1 1 1 1 1 0 1 1 0 0 1 0 1 1 1 1 1 1 0 1 1 0 1 1 1 0 1 1 1 1 1 1 0 1 1 1\n",
            " 1 1 1 1 0 1 1 1 1 1 1 1 1 1 0 0 1 1 1 1 0 0 0 1 1 1]\n"
          ],
          "name": "stdout"
        }
      ]
    },
    {
      "metadata": {
        "id": "TUCfOcqEi4xj",
        "colab_type": "code",
        "colab": {
          "base_uri": "https://localhost:8080/",
          "height": 35
        },
        "outputId": "128efc09-3dc2-48a2-a936-42457fdd4acc"
      },
      "cell_type": "code",
      "source": [
        "stats.ttest_1samp(coinflips, 0.5)"
      ],
      "execution_count": 88,
      "outputs": [
        {
          "output_type": "execute_result",
          "data": {
            "text/plain": [
              "Ttest_1sampResult(statistic=5.744562646538029, pvalue=1.0174517823555106e-07)"
            ]
          },
          "metadata": {
            "tags": []
          },
          "execution_count": 88
        }
      ]
    },
    {
      "metadata": {
        "id": "SmRa8gVKjBsD",
        "colab_type": "code",
        "colab": {
          "base_uri": "https://localhost:8080/",
          "height": 288
        },
        "outputId": "5f56c497-7aa5-451d-dd17-399d812c84ae"
      },
      "cell_type": "code",
      "source": [
        "df = pd.DataFrame(coinflips)\n",
        "df.describe()"
      ],
      "execution_count": 89,
      "outputs": [
        {
          "output_type": "execute_result",
          "data": {
            "text/html": [
              "<div>\n",
              "<style scoped>\n",
              "    .dataframe tbody tr th:only-of-type {\n",
              "        vertical-align: middle;\n",
              "    }\n",
              "\n",
              "    .dataframe tbody tr th {\n",
              "        vertical-align: top;\n",
              "    }\n",
              "\n",
              "    .dataframe thead th {\n",
              "        text-align: right;\n",
              "    }\n",
              "</style>\n",
              "<table border=\"1\" class=\"dataframe\">\n",
              "  <thead>\n",
              "    <tr style=\"text-align: right;\">\n",
              "      <th></th>\n",
              "      <th>0</th>\n",
              "    </tr>\n",
              "  </thead>\n",
              "  <tbody>\n",
              "    <tr>\n",
              "      <th>count</th>\n",
              "      <td>100.000000</td>\n",
              "    </tr>\n",
              "    <tr>\n",
              "      <th>mean</th>\n",
              "      <td>0.750000</td>\n",
              "    </tr>\n",
              "    <tr>\n",
              "      <th>std</th>\n",
              "      <td>0.435194</td>\n",
              "    </tr>\n",
              "    <tr>\n",
              "      <th>min</th>\n",
              "      <td>0.000000</td>\n",
              "    </tr>\n",
              "    <tr>\n",
              "      <th>25%</th>\n",
              "      <td>0.750000</td>\n",
              "    </tr>\n",
              "    <tr>\n",
              "      <th>50%</th>\n",
              "      <td>1.000000</td>\n",
              "    </tr>\n",
              "    <tr>\n",
              "      <th>75%</th>\n",
              "      <td>1.000000</td>\n",
              "    </tr>\n",
              "    <tr>\n",
              "      <th>max</th>\n",
              "      <td>1.000000</td>\n",
              "    </tr>\n",
              "  </tbody>\n",
              "</table>\n",
              "</div>"
            ],
            "text/plain": [
              "                0\n",
              "count  100.000000\n",
              "mean     0.750000\n",
              "std      0.435194\n",
              "min      0.000000\n",
              "25%      0.750000\n",
              "50%      1.000000\n",
              "75%      1.000000\n",
              "max      1.000000"
            ]
          },
          "metadata": {
            "tags": []
          },
          "execution_count": 89
        }
      ]
    },
    {
      "metadata": {
        "id": "pF5wkIJxjSHM",
        "colab_type": "code",
        "colab": {
          "base_uri": "https://localhost:8080/",
          "height": 35
        },
        "outputId": "90299eed-fa57-41d8-8751-049b0087e199"
      },
      "cell_type": "code",
      "source": [
        "coinflip_interval = confidence_interval(coinflips) #default 95% conf\n",
        "\n",
        "coinflip_interval"
      ],
      "execution_count": 90,
      "outputs": [
        {
          "output_type": "execute_result",
          "data": {
            "text/plain": [
              "(0.75, 0.663648041043452, 0.836351958956548)"
            ]
          },
          "metadata": {
            "tags": []
          },
          "execution_count": 90
        }
      ]
    },
    {
      "metadata": {
        "id": "AzpCseFOjs-v",
        "colab_type": "code",
        "colab": {
          "base_uri": "https://localhost:8080/",
          "height": 35
        },
        "outputId": "02003404-1d64-4ad5-d44f-8eb6ad579f9c"
      },
      "cell_type": "code",
      "source": [
        "report_confidence_interval(coinflip_interval)"
      ],
      "execution_count": 91,
      "outputs": [
        {
          "output_type": "execute_result",
          "data": {
            "text/plain": [
              "'our mean lies in the interval [0.66, 0.84]'"
            ]
          },
          "metadata": {
            "tags": []
          },
          "execution_count": 91
        }
      ]
    },
    {
      "metadata": {
        "id": "11OzdxWTM7UR",
        "colab_type": "text"
      },
      "cell_type": "markdown",
      "source": [
        "## Assignment - Build a confidence interval\n",
        "\n",
        "A confidence interval refers to a neighborhood around some point estimate, the size of which is determined by the desired p-value. For instance, we might say that 52% of Americans prefer tacos to burritos, with a 95% confidence interval of +/- 5%.\n",
        "\n",
        "52% (0.52) is the point estimate, and +/- 5% (the interval $[0.47, 0.57]$) is the confidence interval. \"95% confidence\" means a p-value $\\leq 1 - 0.95 = 0.05$.\n",
        "\n",
        "In this case, the confidence interval includes $0.5$ - which is the natural null hypothesis (that half of Americans prefer tacos and half burritos, thus there is no clear favorite). So in this case, we could use the confidence interval to report that we've failed to reject the null hypothesis.\n",
        "\n",
        "But providing the full analysis with a confidence interval, including a graphical representation of it, can be a helpful and powerful way to tell your story. Done well, it is also more intuitive to a layperson than simply saying \"fail to reject the null hypothesis\" - it shows that in fact the data does *not* give a single clear result (the point estimate) but a whole range of possibilities.\n",
        "\n",
        "How is a confidence interval built, and how should it be interpreted? It does *not* mean that 95% of the data lies in that interval - instead, the frequentist interpretation is \"if we were to repeat this experiment 100 times, we would expect the average result to lie in this interval ~95 times.\"\n",
        "\n",
        "For a 95% confidence interval and a normal(-ish) distribution, you can simply remember that +/-2 standard deviations contains 95% of the probability mass, and so the 95% confidence interval based on a given sample is centered at the mean (point estimate) and has a range of +/- 2 (or technically 1.96) standard deviations.\n",
        "\n",
        "Different distributions/assumptions (90% confidence, 99% confidence) will require different math, but the overall process and interpretation (with a frequentist approach) will be the same.\n",
        "\n",
        "Your assignment - using the data from the prior module ([congressional voting records](https://archive.ics.uci.edu/ml/datasets/Congressional+Voting+Records)):\n",
        "\n",
        "1. Generate and numerically represent a confidence interval\n",
        "2. Graphically (with a plot) represent the confidence interval\n",
        "3. Interpret the confidence interval - what does it tell you about the data and its distribution?\n",
        "\n",
        "Stretch goals:\n",
        "\n",
        "1. Write a summary of your findings, mixing prose and math/code/results. *Note* - yes, this is by definition a political topic. It is challenging but important to keep your writing voice *neutral* and stick to the facts of the data. Data science often involves considering controversial issues, so it's important to be sensitive about them (especially if you want to publish).\n",
        "2. Apply the techniques you learned today to your project data or other data of your choice, and write/discuss your findings here.\n",
        "3. Refactor your code so it is elegant, readable, and can be easily run for all issues."
      ]
    },
    {
      "metadata": {
        "id": "Ckcr4A4FM7cs",
        "colab_type": "code",
        "colab": {
          "base_uri": "https://localhost:8080/",
          "height": 250
        },
        "outputId": "02b9fa1f-505e-4a6f-c19e-e66690810e5b"
      },
      "cell_type": "code",
      "source": [
        "# Load in all data\n",
        "\n",
        "df_url = 'https://archive.ics.uci.edu/ml/machine-learning-databases/voting-records/house-votes-84.data'\n",
        "\n",
        "names = ['Class Name', \n",
        "'handicapped-infants: 2 (y,n)', \n",
        "'water-project-cost-sharing: 2 (y,n)',\n",
        "'adoption-of-the-budget-resolution: 2 (y,n)', \n",
        "'physician-fee-freeze: 2 (y,n)', \n",
        "'el-salvador-aid: 2 (y,n)',\n",
        "'religious-groups-in-schools: 2 (y,n)', \n",
        "'anti-satellite-test-ban: 2 (y,n)', \n",
        "'aid-to-nicaraguan-contras: 2 (y,n)', \n",
        "'mx-missile: 2 (y,n)', \n",
        "'immigration: 2 (y,n)', \n",
        "'synfuels-corporation-cutback: 2 (y,n)', \n",
        "'education-spending: 2 (y,n)', \n",
        "'superfund-right-to-sue: 2 (y,n)', \n",
        "'crime: 2 (y,n)',\n",
        "'duty-free-exports: 2 (y,n)', \n",
        "'export-administration-act-south-africa: 2 (y,n)']\n",
        "# TODO - your code here!\n",
        "import pandas as pd\n",
        "import numpy as np\n",
        "from scipy.stats  import ttest_ind\n",
        "\n",
        "dfv = pd.read_csv(df_url, header=None, names=names)\n",
        "\n",
        "dfv.columns = dfv.columns.str.strip().str.lower().str.replace(' ', '_').str.replace('(', '').str.replace(')', '').str.replace(':_2_y,n', '')\n",
        "\n",
        "dfv.head()"
      ],
      "execution_count": 16,
      "outputs": [
        {
          "output_type": "execute_result",
          "data": {
            "text/html": [
              "<div>\n",
              "<style scoped>\n",
              "    .dataframe tbody tr th:only-of-type {\n",
              "        vertical-align: middle;\n",
              "    }\n",
              "\n",
              "    .dataframe tbody tr th {\n",
              "        vertical-align: top;\n",
              "    }\n",
              "\n",
              "    .dataframe thead th {\n",
              "        text-align: right;\n",
              "    }\n",
              "</style>\n",
              "<table border=\"1\" class=\"dataframe\">\n",
              "  <thead>\n",
              "    <tr style=\"text-align: right;\">\n",
              "      <th></th>\n",
              "      <th>class_name</th>\n",
              "      <th>handicapped-infants</th>\n",
              "      <th>water-project-cost-sharing</th>\n",
              "      <th>adoption-of-the-budget-resolution</th>\n",
              "      <th>physician-fee-freeze</th>\n",
              "      <th>el-salvador-aid</th>\n",
              "      <th>religious-groups-in-schools</th>\n",
              "      <th>anti-satellite-test-ban</th>\n",
              "      <th>aid-to-nicaraguan-contras</th>\n",
              "      <th>mx-missile</th>\n",
              "      <th>immigration</th>\n",
              "      <th>synfuels-corporation-cutback</th>\n",
              "      <th>education-spending</th>\n",
              "      <th>superfund-right-to-sue</th>\n",
              "      <th>crime</th>\n",
              "      <th>duty-free-exports</th>\n",
              "      <th>export-administration-act-south-africa</th>\n",
              "    </tr>\n",
              "  </thead>\n",
              "  <tbody>\n",
              "    <tr>\n",
              "      <th>0</th>\n",
              "      <td>republican</td>\n",
              "      <td>n</td>\n",
              "      <td>y</td>\n",
              "      <td>n</td>\n",
              "      <td>y</td>\n",
              "      <td>y</td>\n",
              "      <td>y</td>\n",
              "      <td>n</td>\n",
              "      <td>n</td>\n",
              "      <td>n</td>\n",
              "      <td>y</td>\n",
              "      <td>?</td>\n",
              "      <td>y</td>\n",
              "      <td>y</td>\n",
              "      <td>y</td>\n",
              "      <td>n</td>\n",
              "      <td>y</td>\n",
              "    </tr>\n",
              "    <tr>\n",
              "      <th>1</th>\n",
              "      <td>republican</td>\n",
              "      <td>n</td>\n",
              "      <td>y</td>\n",
              "      <td>n</td>\n",
              "      <td>y</td>\n",
              "      <td>y</td>\n",
              "      <td>y</td>\n",
              "      <td>n</td>\n",
              "      <td>n</td>\n",
              "      <td>n</td>\n",
              "      <td>n</td>\n",
              "      <td>n</td>\n",
              "      <td>y</td>\n",
              "      <td>y</td>\n",
              "      <td>y</td>\n",
              "      <td>n</td>\n",
              "      <td>?</td>\n",
              "    </tr>\n",
              "    <tr>\n",
              "      <th>2</th>\n",
              "      <td>democrat</td>\n",
              "      <td>?</td>\n",
              "      <td>y</td>\n",
              "      <td>y</td>\n",
              "      <td>?</td>\n",
              "      <td>y</td>\n",
              "      <td>y</td>\n",
              "      <td>n</td>\n",
              "      <td>n</td>\n",
              "      <td>n</td>\n",
              "      <td>n</td>\n",
              "      <td>y</td>\n",
              "      <td>n</td>\n",
              "      <td>y</td>\n",
              "      <td>y</td>\n",
              "      <td>n</td>\n",
              "      <td>n</td>\n",
              "    </tr>\n",
              "    <tr>\n",
              "      <th>3</th>\n",
              "      <td>democrat</td>\n",
              "      <td>n</td>\n",
              "      <td>y</td>\n",
              "      <td>y</td>\n",
              "      <td>n</td>\n",
              "      <td>?</td>\n",
              "      <td>y</td>\n",
              "      <td>n</td>\n",
              "      <td>n</td>\n",
              "      <td>n</td>\n",
              "      <td>n</td>\n",
              "      <td>y</td>\n",
              "      <td>n</td>\n",
              "      <td>y</td>\n",
              "      <td>n</td>\n",
              "      <td>n</td>\n",
              "      <td>y</td>\n",
              "    </tr>\n",
              "    <tr>\n",
              "      <th>4</th>\n",
              "      <td>democrat</td>\n",
              "      <td>y</td>\n",
              "      <td>y</td>\n",
              "      <td>y</td>\n",
              "      <td>n</td>\n",
              "      <td>y</td>\n",
              "      <td>y</td>\n",
              "      <td>n</td>\n",
              "      <td>n</td>\n",
              "      <td>n</td>\n",
              "      <td>n</td>\n",
              "      <td>y</td>\n",
              "      <td>?</td>\n",
              "      <td>y</td>\n",
              "      <td>y</td>\n",
              "      <td>y</td>\n",
              "      <td>y</td>\n",
              "    </tr>\n",
              "  </tbody>\n",
              "</table>\n",
              "</div>"
            ],
            "text/plain": [
              "   class_name handicapped-infants water-project-cost-sharing  \\\n",
              "0  republican                   n                          y   \n",
              "1  republican                   n                          y   \n",
              "2    democrat                   ?                          y   \n",
              "3    democrat                   n                          y   \n",
              "4    democrat                   y                          y   \n",
              "\n",
              "  adoption-of-the-budget-resolution physician-fee-freeze el-salvador-aid  \\\n",
              "0                                 n                    y               y   \n",
              "1                                 n                    y               y   \n",
              "2                                 y                    ?               y   \n",
              "3                                 y                    n               ?   \n",
              "4                                 y                    n               y   \n",
              "\n",
              "  religious-groups-in-schools anti-satellite-test-ban  \\\n",
              "0                           y                       n   \n",
              "1                           y                       n   \n",
              "2                           y                       n   \n",
              "3                           y                       n   \n",
              "4                           y                       n   \n",
              "\n",
              "  aid-to-nicaraguan-contras mx-missile immigration  \\\n",
              "0                         n          n           y   \n",
              "1                         n          n           n   \n",
              "2                         n          n           n   \n",
              "3                         n          n           n   \n",
              "4                         n          n           n   \n",
              "\n",
              "  synfuels-corporation-cutback education-spending superfund-right-to-sue  \\\n",
              "0                            ?                  y                      y   \n",
              "1                            n                  y                      y   \n",
              "2                            y                  n                      y   \n",
              "3                            y                  n                      y   \n",
              "4                            y                  ?                      y   \n",
              "\n",
              "  crime duty-free-exports export-administration-act-south-africa  \n",
              "0     y                 n                                      y  \n",
              "1     y                 n                                      ?  \n",
              "2     y                 n                                      n  \n",
              "3     n                 n                                      y  \n",
              "4     y                 y                                      y  "
            ]
          },
          "metadata": {
            "tags": []
          },
          "execution_count": 16
        }
      ]
    },
    {
      "metadata": {
        "id": "6Opx4nesuoml",
        "colab_type": "code",
        "colab": {
          "base_uri": "https://localhost:8080/",
          "height": 250
        },
        "outputId": "54558ed2-78ee-484c-baf3-6302afc5ba38"
      },
      "cell_type": "code",
      "source": [
        "# convert data to numerical values and NaNs\n",
        "\n",
        "boolean_filter = {'y' : 1, 'n' : 0, '?': np.nan}\n",
        "\n",
        "dfv = dfv.replace(boolean_filter)\n",
        "\n",
        "dfv.head()"
      ],
      "execution_count": 45,
      "outputs": [
        {
          "output_type": "execute_result",
          "data": {
            "text/html": [
              "<div>\n",
              "<style scoped>\n",
              "    .dataframe tbody tr th:only-of-type {\n",
              "        vertical-align: middle;\n",
              "    }\n",
              "\n",
              "    .dataframe tbody tr th {\n",
              "        vertical-align: top;\n",
              "    }\n",
              "\n",
              "    .dataframe thead th {\n",
              "        text-align: right;\n",
              "    }\n",
              "</style>\n",
              "<table border=\"1\" class=\"dataframe\">\n",
              "  <thead>\n",
              "    <tr style=\"text-align: right;\">\n",
              "      <th></th>\n",
              "      <th>class_name</th>\n",
              "      <th>handicapped-infants</th>\n",
              "      <th>water-project-cost-sharing</th>\n",
              "      <th>adoption-of-the-budget-resolution</th>\n",
              "      <th>physician-fee-freeze</th>\n",
              "      <th>el-salvador-aid</th>\n",
              "      <th>religious-groups-in-schools</th>\n",
              "      <th>anti-satellite-test-ban</th>\n",
              "      <th>aid-to-nicaraguan-contras</th>\n",
              "      <th>mx-missile</th>\n",
              "      <th>immigration</th>\n",
              "      <th>synfuels-corporation-cutback</th>\n",
              "      <th>education-spending</th>\n",
              "      <th>superfund-right-to-sue</th>\n",
              "      <th>crime</th>\n",
              "      <th>duty-free-exports</th>\n",
              "      <th>export-administration-act-south-africa</th>\n",
              "    </tr>\n",
              "  </thead>\n",
              "  <tbody>\n",
              "    <tr>\n",
              "      <th>0</th>\n",
              "      <td>republican</td>\n",
              "      <td>0.0</td>\n",
              "      <td>1.0</td>\n",
              "      <td>0.0</td>\n",
              "      <td>1.0</td>\n",
              "      <td>1.0</td>\n",
              "      <td>1.0</td>\n",
              "      <td>0.0</td>\n",
              "      <td>0.0</td>\n",
              "      <td>0.0</td>\n",
              "      <td>1.0</td>\n",
              "      <td>NaN</td>\n",
              "      <td>1.0</td>\n",
              "      <td>1.0</td>\n",
              "      <td>1.0</td>\n",
              "      <td>0.0</td>\n",
              "      <td>1.0</td>\n",
              "    </tr>\n",
              "    <tr>\n",
              "      <th>1</th>\n",
              "      <td>republican</td>\n",
              "      <td>0.0</td>\n",
              "      <td>1.0</td>\n",
              "      <td>0.0</td>\n",
              "      <td>1.0</td>\n",
              "      <td>1.0</td>\n",
              "      <td>1.0</td>\n",
              "      <td>0.0</td>\n",
              "      <td>0.0</td>\n",
              "      <td>0.0</td>\n",
              "      <td>0.0</td>\n",
              "      <td>0.0</td>\n",
              "      <td>1.0</td>\n",
              "      <td>1.0</td>\n",
              "      <td>1.0</td>\n",
              "      <td>0.0</td>\n",
              "      <td>NaN</td>\n",
              "    </tr>\n",
              "    <tr>\n",
              "      <th>2</th>\n",
              "      <td>democrat</td>\n",
              "      <td>NaN</td>\n",
              "      <td>1.0</td>\n",
              "      <td>1.0</td>\n",
              "      <td>NaN</td>\n",
              "      <td>1.0</td>\n",
              "      <td>1.0</td>\n",
              "      <td>0.0</td>\n",
              "      <td>0.0</td>\n",
              "      <td>0.0</td>\n",
              "      <td>0.0</td>\n",
              "      <td>1.0</td>\n",
              "      <td>0.0</td>\n",
              "      <td>1.0</td>\n",
              "      <td>1.0</td>\n",
              "      <td>0.0</td>\n",
              "      <td>0.0</td>\n",
              "    </tr>\n",
              "    <tr>\n",
              "      <th>3</th>\n",
              "      <td>democrat</td>\n",
              "      <td>0.0</td>\n",
              "      <td>1.0</td>\n",
              "      <td>1.0</td>\n",
              "      <td>0.0</td>\n",
              "      <td>NaN</td>\n",
              "      <td>1.0</td>\n",
              "      <td>0.0</td>\n",
              "      <td>0.0</td>\n",
              "      <td>0.0</td>\n",
              "      <td>0.0</td>\n",
              "      <td>1.0</td>\n",
              "      <td>0.0</td>\n",
              "      <td>1.0</td>\n",
              "      <td>0.0</td>\n",
              "      <td>0.0</td>\n",
              "      <td>1.0</td>\n",
              "    </tr>\n",
              "    <tr>\n",
              "      <th>4</th>\n",
              "      <td>democrat</td>\n",
              "      <td>1.0</td>\n",
              "      <td>1.0</td>\n",
              "      <td>1.0</td>\n",
              "      <td>0.0</td>\n",
              "      <td>1.0</td>\n",
              "      <td>1.0</td>\n",
              "      <td>0.0</td>\n",
              "      <td>0.0</td>\n",
              "      <td>0.0</td>\n",
              "      <td>0.0</td>\n",
              "      <td>1.0</td>\n",
              "      <td>NaN</td>\n",
              "      <td>1.0</td>\n",
              "      <td>1.0</td>\n",
              "      <td>1.0</td>\n",
              "      <td>1.0</td>\n",
              "    </tr>\n",
              "  </tbody>\n",
              "</table>\n",
              "</div>"
            ],
            "text/plain": [
              "   class_name  handicapped-infants  water-project-cost-sharing  \\\n",
              "0  republican                  0.0                         1.0   \n",
              "1  republican                  0.0                         1.0   \n",
              "2    democrat                  NaN                         1.0   \n",
              "3    democrat                  0.0                         1.0   \n",
              "4    democrat                  1.0                         1.0   \n",
              "\n",
              "   adoption-of-the-budget-resolution  physician-fee-freeze  el-salvador-aid  \\\n",
              "0                                0.0                   1.0              1.0   \n",
              "1                                0.0                   1.0              1.0   \n",
              "2                                1.0                   NaN              1.0   \n",
              "3                                1.0                   0.0              NaN   \n",
              "4                                1.0                   0.0              1.0   \n",
              "\n",
              "   religious-groups-in-schools  anti-satellite-test-ban  \\\n",
              "0                          1.0                      0.0   \n",
              "1                          1.0                      0.0   \n",
              "2                          1.0                      0.0   \n",
              "3                          1.0                      0.0   \n",
              "4                          1.0                      0.0   \n",
              "\n",
              "   aid-to-nicaraguan-contras  mx-missile  immigration  \\\n",
              "0                        0.0         0.0          1.0   \n",
              "1                        0.0         0.0          0.0   \n",
              "2                        0.0         0.0          0.0   \n",
              "3                        0.0         0.0          0.0   \n",
              "4                        0.0         0.0          0.0   \n",
              "\n",
              "   synfuels-corporation-cutback  education-spending  superfund-right-to-sue  \\\n",
              "0                           NaN                 1.0                     1.0   \n",
              "1                           0.0                 1.0                     1.0   \n",
              "2                           1.0                 0.0                     1.0   \n",
              "3                           1.0                 0.0                     1.0   \n",
              "4                           1.0                 NaN                     1.0   \n",
              "\n",
              "   crime  duty-free-exports  export-administration-act-south-africa  \n",
              "0    1.0                0.0                                     1.0  \n",
              "1    1.0                0.0                                     NaN  \n",
              "2    1.0                0.0                                     0.0  \n",
              "3    0.0                0.0                                     1.0  \n",
              "4    1.0                1.0                                     1.0  "
            ]
          },
          "metadata": {
            "tags": []
          },
          "execution_count": 45
        }
      ]
    },
    {
      "metadata": {
        "id": "SGj2csrTpgqB",
        "colab_type": "code",
        "colab": {}
      },
      "cell_type": "code",
      "source": [
        "# resurrect the T-value function from last lesson:\n",
        "\n",
        "def asses_T(df, **kwargs):\n",
        "  results=[]\n",
        "  for col in df.select_dtypes(include=np.number):\n",
        "    result = ttest_ind(df.loc[df['class_name']=='democrat', col],\n",
        "                                   df.loc[df['class_name']=='republican', col],\n",
        "                                  **kwargs)\n",
        "    results.append({'Issue': col,\n",
        "                   't-value': result.statistic,\n",
        "                   'p-value': result.pvalue})\n",
        "  return pd.DataFrame(results).sort_values(['p-value', 't-value'])"
      ],
      "execution_count": 0,
      "outputs": []
    },
    {
      "metadata": {
        "id": "5RkFLYLGpuys",
        "colab_type": "code",
        "colab": {
          "base_uri": "https://localhost:8080/",
          "height": 528
        },
        "outputId": "31a95571-17ab-4d44-8c76-2ba5f7c310b4"
      },
      "cell_type": "code",
      "source": [
        "(asses_T(dfv, nan_policy='omit', equal_var=False))"
      ],
      "execution_count": 48,
      "outputs": [
        {
          "output_type": "execute_result",
          "data": {
            "text/html": [
              "<div>\n",
              "<style scoped>\n",
              "    .dataframe tbody tr th:only-of-type {\n",
              "        vertical-align: middle;\n",
              "    }\n",
              "\n",
              "    .dataframe tbody tr th {\n",
              "        vertical-align: top;\n",
              "    }\n",
              "\n",
              "    .dataframe thead th {\n",
              "        text-align: right;\n",
              "    }\n",
              "</style>\n",
              "<table border=\"1\" class=\"dataframe\">\n",
              "  <thead>\n",
              "    <tr style=\"text-align: right;\">\n",
              "      <th></th>\n",
              "      <th>Issue</th>\n",
              "      <th>p-value</th>\n",
              "      <th>t-value</th>\n",
              "    </tr>\n",
              "  </thead>\n",
              "  <tbody>\n",
              "    <tr>\n",
              "      <th>3</th>\n",
              "      <td>physician-fee-freeze</td>\n",
              "      <td>8.820761e-193</td>\n",
              "      <td>-56.704806</td>\n",
              "    </tr>\n",
              "    <tr>\n",
              "      <th>4</th>\n",
              "      <td>el-salvador-aid</td>\n",
              "      <td>2.898373e-79</td>\n",
              "      <td>-23.907288</td>\n",
              "    </tr>\n",
              "    <tr>\n",
              "      <th>2</th>\n",
              "      <td>adoption-of-the-budget-resolution</td>\n",
              "      <td>1.946704e-69</td>\n",
              "      <td>22.793246</td>\n",
              "    </tr>\n",
              "    <tr>\n",
              "      <th>11</th>\n",
              "      <td>education-spending</td>\n",
              "      <td>3.568751e-62</td>\n",
              "      <td>-20.724816</td>\n",
              "    </tr>\n",
              "    <tr>\n",
              "      <th>13</th>\n",
              "      <td>crime</td>\n",
              "      <td>6.862816e-58</td>\n",
              "      <td>-19.927656</td>\n",
              "    </tr>\n",
              "    <tr>\n",
              "      <th>7</th>\n",
              "      <td>aid-to-nicaraguan-contras</td>\n",
              "      <td>2.288121e-52</td>\n",
              "      <td>18.254856</td>\n",
              "    </tr>\n",
              "    <tr>\n",
              "      <th>8</th>\n",
              "      <td>mx-missile</td>\n",
              "      <td>4.289262e-51</td>\n",
              "      <td>17.409048</td>\n",
              "    </tr>\n",
              "    <tr>\n",
              "      <th>14</th>\n",
              "      <td>duty-free-exports</td>\n",
              "      <td>3.812922e-38</td>\n",
              "      <td>14.376245</td>\n",
              "    </tr>\n",
              "    <tr>\n",
              "      <th>12</th>\n",
              "      <td>superfund-right-to-sue</td>\n",
              "      <td>7.597900e-38</td>\n",
              "      <td>-14.352567</td>\n",
              "    </tr>\n",
              "    <tr>\n",
              "      <th>6</th>\n",
              "      <td>anti-satellite-test-ban</td>\n",
              "      <td>1.362781e-29</td>\n",
              "      <td>12.467493</td>\n",
              "    </tr>\n",
              "    <tr>\n",
              "      <th>5</th>\n",
              "      <td>religious-groups-in-schools</td>\n",
              "      <td>4.830932e-24</td>\n",
              "      <td>-10.767025</td>\n",
              "    </tr>\n",
              "    <tr>\n",
              "      <th>0</th>\n",
              "      <td>handicapped-infants</td>\n",
              "      <td>5.429019e-20</td>\n",
              "      <td>9.662337</td>\n",
              "    </tr>\n",
              "    <tr>\n",
              "      <th>10</th>\n",
              "      <td>synfuels-corporation-cutback</td>\n",
              "      <td>6.298960e-18</td>\n",
              "      <td>9.040574</td>\n",
              "    </tr>\n",
              "    <tr>\n",
              "      <th>15</th>\n",
              "      <td>export-administration-act-south-africa</td>\n",
              "      <td>1.042864e-09</td>\n",
              "      <td>6.397887</td>\n",
              "    </tr>\n",
              "    <tr>\n",
              "      <th>9</th>\n",
              "      <td>immigration</td>\n",
              "      <td>8.318509e-02</td>\n",
              "      <td>-1.737470</td>\n",
              "    </tr>\n",
              "    <tr>\n",
              "      <th>1</th>\n",
              "      <td>water-project-cost-sharing</td>\n",
              "      <td>9.291868e-01</td>\n",
              "      <td>-0.088940</td>\n",
              "    </tr>\n",
              "  </tbody>\n",
              "</table>\n",
              "</div>"
            ],
            "text/plain": [
              "                                     Issue        p-value    t-value\n",
              "3                     physician-fee-freeze  8.820761e-193 -56.704806\n",
              "4                          el-salvador-aid   2.898373e-79 -23.907288\n",
              "2        adoption-of-the-budget-resolution   1.946704e-69  22.793246\n",
              "11                      education-spending   3.568751e-62 -20.724816\n",
              "13                                   crime   6.862816e-58 -19.927656\n",
              "7                aid-to-nicaraguan-contras   2.288121e-52  18.254856\n",
              "8                               mx-missile   4.289262e-51  17.409048\n",
              "14                       duty-free-exports   3.812922e-38  14.376245\n",
              "12                  superfund-right-to-sue   7.597900e-38 -14.352567\n",
              "6                  anti-satellite-test-ban   1.362781e-29  12.467493\n",
              "5              religious-groups-in-schools   4.830932e-24 -10.767025\n",
              "0                      handicapped-infants   5.429019e-20   9.662337\n",
              "10            synfuels-corporation-cutback   6.298960e-18   9.040574\n",
              "15  export-administration-act-south-africa   1.042864e-09   6.397887\n",
              "9                              immigration   8.318509e-02  -1.737470\n",
              "1               water-project-cost-sharing   9.291868e-01  -0.088940"
            ]
          },
          "metadata": {
            "tags": []
          },
          "execution_count": 48
        }
      ]
    },
    {
      "metadata": {
        "id": "N423oFGZvD0R",
        "colab_type": "text"
      },
      "cell_type": "markdown",
      "source": [
        "So a T test tells us that for all of these issues, the sample mean( of each party's votes) are quite different except for immigraiton and water costs.\n",
        "\n",
        "I'm going to dig into T-Values for a moment"
      ]
    },
    {
      "metadata": {
        "id": "oK0gclhHycBb",
        "colab_type": "code",
        "colab": {
          "base_uri": "https://localhost:8080/",
          "height": 108
        },
        "outputId": "e8ffc563-42af-4282-b75a-a4b008b19b4c"
      },
      "cell_type": "code",
      "source": [
        "dfv['class_name'].describe()"
      ],
      "execution_count": 87,
      "outputs": [
        {
          "output_type": "execute_result",
          "data": {
            "text/plain": [
              "count          435\n",
              "unique           2\n",
              "top       democrat\n",
              "freq           267\n",
              "Name: class_name, dtype: object"
            ]
          },
          "metadata": {
            "tags": []
          },
          "execution_count": 87
        }
      ]
    },
    {
      "metadata": {
        "id": "4vUHqd9exQWG",
        "colab_type": "code",
        "colab": {
          "base_uri": "https://localhost:8080/",
          "height": 108
        },
        "outputId": "2e65cadc-14c7-4000-f049-5e4f88a301c5"
      },
      "cell_type": "code",
      "source": [
        "print(dfv.groupby(['class_name']).agg({'handicapped-infants':'mean'}) )\n",
        "print(dfv['handicapped-infants'].mean())"
      ],
      "execution_count": 106,
      "outputs": [
        {
          "output_type": "stream",
          "text": [
            "            handicapped-infants\n",
            "class_name                     \n",
            "democrat               0.604651\n",
            "republican             0.187879\n",
            "0.44208037825059104\n"
          ],
          "name": "stdout"
        }
      ]
    },
    {
      "metadata": {
        "id": "BVJaOq2LuyWX",
        "colab_type": "text"
      },
      "cell_type": "markdown",
      "source": [
        "So for handicapped infants we have 267 total democrats, 258 support the bill. For republicans we have 168 total, 165 support the bill. So this T value is positive because 3% of democrats didn't vote yes and 2% of republicans didn't vote yes. "
      ]
    },
    {
      "metadata": {
        "id": "O3_eYKkk7LPy",
        "colab_type": "code",
        "colab": {
          "base_uri": "https://localhost:8080/",
          "height": 108
        },
        "outputId": "fce680ba-c6cb-4bc1-8d47-602d3c2b8918"
      },
      "cell_type": "code",
      "source": [
        "print(dfv.groupby(['class_name']).agg({'physician-fee-freeze':'mean'}))\n",
        "print(dfv['physician-fee-freeze'].mean())"
      ],
      "execution_count": 103,
      "outputs": [
        {
          "output_type": "stream",
          "text": [
            "            physician-fee-freeze\n",
            "class_name                      \n",
            "democrat                0.054054\n",
            "republican              0.987879\n",
            "0.41745283018867924\n"
          ],
          "name": "stdout"
        }
      ]
    },
    {
      "metadata": {
        "id": "-Bk3CVxm9_8F",
        "colab_type": "code",
        "colab": {
          "base_uri": "https://localhost:8080/",
          "height": 35
        },
        "outputId": "6f6ef219-d16a-4678-a132-1f7e1dc5854f"
      },
      "cell_type": "code",
      "source": [
        "dfv['physician-fee-freeze'].mean()"
      ],
      "execution_count": 101,
      "outputs": [
        {
          "output_type": "execute_result",
          "data": {
            "text/plain": [
              "0.41745283018867924"
            ]
          },
          "metadata": {
            "tags": []
          },
          "execution_count": 101
        }
      ]
    },
    {
      "metadata": {
        "id": "bV11u1w88WPU",
        "colab_type": "text"
      },
      "cell_type": "markdown",
      "source": [
        "Ok, based on these vote numbers I do not see how the T-Value is so different based on very small voting changes.  Or because the mean changes based on the change of a single vote the T-Value changes "
      ]
    },
    {
      "metadata": {
        "id": "BJpDkGSz5-r1",
        "colab_type": "code",
        "colab": {
          "base_uri": "https://localhost:8080/",
          "height": 190
        },
        "outputId": "d1441dad-c0de-4b1a-93b7-43cd061e2c4a"
      },
      "cell_type": "code",
      "source": [
        "dfv.groupby(['class_name']).agg('count')"
      ],
      "execution_count": 90,
      "outputs": [
        {
          "output_type": "execute_result",
          "data": {
            "text/html": [
              "<div>\n",
              "<style scoped>\n",
              "    .dataframe tbody tr th:only-of-type {\n",
              "        vertical-align: middle;\n",
              "    }\n",
              "\n",
              "    .dataframe tbody tr th {\n",
              "        vertical-align: top;\n",
              "    }\n",
              "\n",
              "    .dataframe thead th {\n",
              "        text-align: right;\n",
              "    }\n",
              "</style>\n",
              "<table border=\"1\" class=\"dataframe\">\n",
              "  <thead>\n",
              "    <tr style=\"text-align: right;\">\n",
              "      <th></th>\n",
              "      <th>handicapped-infants</th>\n",
              "      <th>water-project-cost-sharing</th>\n",
              "      <th>adoption-of-the-budget-resolution</th>\n",
              "      <th>physician-fee-freeze</th>\n",
              "      <th>el-salvador-aid</th>\n",
              "      <th>religious-groups-in-schools</th>\n",
              "      <th>anti-satellite-test-ban</th>\n",
              "      <th>aid-to-nicaraguan-contras</th>\n",
              "      <th>mx-missile</th>\n",
              "      <th>immigration</th>\n",
              "      <th>synfuels-corporation-cutback</th>\n",
              "      <th>education-spending</th>\n",
              "      <th>superfund-right-to-sue</th>\n",
              "      <th>crime</th>\n",
              "      <th>duty-free-exports</th>\n",
              "      <th>export-administration-act-south-africa</th>\n",
              "    </tr>\n",
              "    <tr>\n",
              "      <th>class_name</th>\n",
              "      <th></th>\n",
              "      <th></th>\n",
              "      <th></th>\n",
              "      <th></th>\n",
              "      <th></th>\n",
              "      <th></th>\n",
              "      <th></th>\n",
              "      <th></th>\n",
              "      <th></th>\n",
              "      <th></th>\n",
              "      <th></th>\n",
              "      <th></th>\n",
              "      <th></th>\n",
              "      <th></th>\n",
              "      <th></th>\n",
              "      <th></th>\n",
              "    </tr>\n",
              "  </thead>\n",
              "  <tbody>\n",
              "    <tr>\n",
              "      <th>democrat</th>\n",
              "      <td>258</td>\n",
              "      <td>239</td>\n",
              "      <td>260</td>\n",
              "      <td>259</td>\n",
              "      <td>255</td>\n",
              "      <td>258</td>\n",
              "      <td>259</td>\n",
              "      <td>263</td>\n",
              "      <td>248</td>\n",
              "      <td>263</td>\n",
              "      <td>255</td>\n",
              "      <td>249</td>\n",
              "      <td>252</td>\n",
              "      <td>257</td>\n",
              "      <td>251</td>\n",
              "      <td>185</td>\n",
              "    </tr>\n",
              "    <tr>\n",
              "      <th>republican</th>\n",
              "      <td>165</td>\n",
              "      <td>148</td>\n",
              "      <td>164</td>\n",
              "      <td>165</td>\n",
              "      <td>165</td>\n",
              "      <td>166</td>\n",
              "      <td>162</td>\n",
              "      <td>157</td>\n",
              "      <td>165</td>\n",
              "      <td>165</td>\n",
              "      <td>159</td>\n",
              "      <td>155</td>\n",
              "      <td>158</td>\n",
              "      <td>161</td>\n",
              "      <td>156</td>\n",
              "      <td>146</td>\n",
              "    </tr>\n",
              "  </tbody>\n",
              "</table>\n",
              "</div>"
            ],
            "text/plain": [
              "            handicapped-infants  water-project-cost-sharing  \\\n",
              "class_name                                                    \n",
              "democrat                    258                         239   \n",
              "republican                  165                         148   \n",
              "\n",
              "            adoption-of-the-budget-resolution  physician-fee-freeze  \\\n",
              "class_name                                                            \n",
              "democrat                                  260                   259   \n",
              "republican                                164                   165   \n",
              "\n",
              "            el-salvador-aid  religious-groups-in-schools  \\\n",
              "class_name                                                 \n",
              "democrat                255                          258   \n",
              "republican              165                          166   \n",
              "\n",
              "            anti-satellite-test-ban  aid-to-nicaraguan-contras  mx-missile  \\\n",
              "class_name                                                                   \n",
              "democrat                        259                        263         248   \n",
              "republican                      162                        157         165   \n",
              "\n",
              "            immigration  synfuels-corporation-cutback  education-spending  \\\n",
              "class_name                                                                  \n",
              "democrat            263                           255                 249   \n",
              "republican          165                           159                 155   \n",
              "\n",
              "            superfund-right-to-sue  crime  duty-free-exports  \\\n",
              "class_name                                                     \n",
              "democrat                       252    257                251   \n",
              "republican                     158    161                156   \n",
              "\n",
              "            export-administration-act-south-africa  \n",
              "class_name                                          \n",
              "democrat                                       185  \n",
              "republican                                     146  "
            ]
          },
          "metadata": {
            "tags": []
          },
          "execution_count": 90
        }
      ]
    },
    {
      "metadata": {
        "id": "hb7igxY5RkUv",
        "colab_type": "text"
      },
      "cell_type": "markdown",
      "source": [
        "The above groupby shows that democrats and republicans vote in a very narrow margin on each issue, this might help explain why T-values flucuate so wildly for a single vote cast either way."
      ]
    },
    {
      "metadata": {
        "id": "dHGDJHGG8jW_",
        "colab_type": "code",
        "colab": {}
      },
      "cell_type": "code",
      "source": [
        "# I've addapted this funciton to create a dataframe with the mean and CI for each issue\n",
        "\n",
        "def assess_mean_and_CI(df, party, confidence=0.95):\n",
        "  results=[]\n",
        "  for col in df.select_dtypes(include=np.number):\n",
        "    data = (df.loc[df['class_name']== party, col]).dropna()\n",
        "    mean = (data).mean()\n",
        "    n = len(data)\n",
        "    stderr = stats.sem(data)\n",
        "    interval = stderr * stats.t.ppf((1 + confidence) / 2., n-1)\n",
        "    \n",
        "    results.append({'Issue': col,\n",
        "                   'mean': mean,\n",
        "                    'lower CI' : mean - interval,\n",
        "                    'upper CI' : mean + interval\n",
        "                   })\n",
        "  \n",
        "  \n",
        "  return pd.DataFrame(results).sort_values('mean')"
      ],
      "execution_count": 0,
      "outputs": []
    },
    {
      "metadata": {
        "id": "7gw2p3iB95dH",
        "colab_type": "code",
        "colab": {
          "base_uri": "https://localhost:8080/",
          "height": 528
        },
        "outputId": "accb7a67-3801-46c1-d34d-8144d3feb220"
      },
      "cell_type": "code",
      "source": [
        "democrats = assess_mean_and_CI(dfv, 'democrat')\n",
        "republicans = assess_mean_and_CI(dfv, 'republican')\n",
        "# two dataframes with our mean vote per issue\n",
        "democrats"
      ],
      "execution_count": 195,
      "outputs": [
        {
          "output_type": "execute_result",
          "data": {
            "text/html": [
              "<div>\n",
              "<style scoped>\n",
              "    .dataframe tbody tr th:only-of-type {\n",
              "        vertical-align: middle;\n",
              "    }\n",
              "\n",
              "    .dataframe tbody tr th {\n",
              "        vertical-align: top;\n",
              "    }\n",
              "\n",
              "    .dataframe thead th {\n",
              "        text-align: right;\n",
              "    }\n",
              "</style>\n",
              "<table border=\"1\" class=\"dataframe\">\n",
              "  <thead>\n",
              "    <tr style=\"text-align: right;\">\n",
              "      <th></th>\n",
              "      <th>Issue</th>\n",
              "      <th>lower CI</th>\n",
              "      <th>mean</th>\n",
              "      <th>upper CI</th>\n",
              "    </tr>\n",
              "  </thead>\n",
              "  <tbody>\n",
              "    <tr>\n",
              "      <th>3</th>\n",
              "      <td>physician-fee-freeze</td>\n",
              "      <td>0.026332</td>\n",
              "      <td>0.054054</td>\n",
              "      <td>0.081776</td>\n",
              "    </tr>\n",
              "    <tr>\n",
              "      <th>11</th>\n",
              "      <td>education-spending</td>\n",
              "      <td>0.100595</td>\n",
              "      <td>0.144578</td>\n",
              "      <td>0.188562</td>\n",
              "    </tr>\n",
              "    <tr>\n",
              "      <th>4</th>\n",
              "      <td>el-salvador-aid</td>\n",
              "      <td>0.164863</td>\n",
              "      <td>0.215686</td>\n",
              "      <td>0.266509</td>\n",
              "    </tr>\n",
              "    <tr>\n",
              "      <th>12</th>\n",
              "      <td>superfund-right-to-sue</td>\n",
              "      <td>0.233293</td>\n",
              "      <td>0.289683</td>\n",
              "      <td>0.346072</td>\n",
              "    </tr>\n",
              "    <tr>\n",
              "      <th>13</th>\n",
              "      <td>crime</td>\n",
              "      <td>0.291482</td>\n",
              "      <td>0.350195</td>\n",
              "      <td>0.408907</td>\n",
              "    </tr>\n",
              "    <tr>\n",
              "      <th>9</th>\n",
              "      <td>immigration</td>\n",
              "      <td>0.410757</td>\n",
              "      <td>0.471483</td>\n",
              "      <td>0.532208</td>\n",
              "    </tr>\n",
              "    <tr>\n",
              "      <th>5</th>\n",
              "      <td>religious-groups-in-schools</td>\n",
              "      <td>0.415392</td>\n",
              "      <td>0.476744</td>\n",
              "      <td>0.538097</td>\n",
              "    </tr>\n",
              "    <tr>\n",
              "      <th>1</th>\n",
              "      <td>water-project-cost-sharing</td>\n",
              "      <td>0.438245</td>\n",
              "      <td>0.502092</td>\n",
              "      <td>0.565939</td>\n",
              "    </tr>\n",
              "    <tr>\n",
              "      <th>10</th>\n",
              "      <td>synfuels-corporation-cutback</td>\n",
              "      <td>0.444103</td>\n",
              "      <td>0.505882</td>\n",
              "      <td>0.567662</td>\n",
              "    </tr>\n",
              "    <tr>\n",
              "      <th>0</th>\n",
              "      <td>handicapped-infants</td>\n",
              "      <td>0.544593</td>\n",
              "      <td>0.604651</td>\n",
              "      <td>0.664710</td>\n",
              "    </tr>\n",
              "    <tr>\n",
              "      <th>14</th>\n",
              "      <td>duty-free-exports</td>\n",
              "      <td>0.577569</td>\n",
              "      <td>0.637450</td>\n",
              "      <td>0.697332</td>\n",
              "    </tr>\n",
              "    <tr>\n",
              "      <th>8</th>\n",
              "      <td>mx-missile</td>\n",
              "      <td>0.704394</td>\n",
              "      <td>0.758065</td>\n",
              "      <td>0.811735</td>\n",
              "    </tr>\n",
              "    <tr>\n",
              "      <th>6</th>\n",
              "      <td>anti-satellite-test-ban</td>\n",
              "      <td>0.720782</td>\n",
              "      <td>0.772201</td>\n",
              "      <td>0.823620</td>\n",
              "    </tr>\n",
              "    <tr>\n",
              "      <th>7</th>\n",
              "      <td>aid-to-nicaraguan-contras</td>\n",
              "      <td>0.783085</td>\n",
              "      <td>0.828897</td>\n",
              "      <td>0.874710</td>\n",
              "    </tr>\n",
              "    <tr>\n",
              "      <th>2</th>\n",
              "      <td>adoption-of-the-budget-resolution</td>\n",
              "      <td>0.849944</td>\n",
              "      <td>0.888462</td>\n",
              "      <td>0.926980</td>\n",
              "    </tr>\n",
              "    <tr>\n",
              "      <th>15</th>\n",
              "      <td>export-administration-act-south-africa</td>\n",
              "      <td>0.899313</td>\n",
              "      <td>0.935135</td>\n",
              "      <td>0.970957</td>\n",
              "    </tr>\n",
              "  </tbody>\n",
              "</table>\n",
              "</div>"
            ],
            "text/plain": [
              "                                     Issue  lower CI      mean  upper CI\n",
              "3                     physician-fee-freeze  0.026332  0.054054  0.081776\n",
              "11                      education-spending  0.100595  0.144578  0.188562\n",
              "4                          el-salvador-aid  0.164863  0.215686  0.266509\n",
              "12                  superfund-right-to-sue  0.233293  0.289683  0.346072\n",
              "13                                   crime  0.291482  0.350195  0.408907\n",
              "9                              immigration  0.410757  0.471483  0.532208\n",
              "5              religious-groups-in-schools  0.415392  0.476744  0.538097\n",
              "1               water-project-cost-sharing  0.438245  0.502092  0.565939\n",
              "10            synfuels-corporation-cutback  0.444103  0.505882  0.567662\n",
              "0                      handicapped-infants  0.544593  0.604651  0.664710\n",
              "14                       duty-free-exports  0.577569  0.637450  0.697332\n",
              "8                               mx-missile  0.704394  0.758065  0.811735\n",
              "6                  anti-satellite-test-ban  0.720782  0.772201  0.823620\n",
              "7                aid-to-nicaraguan-contras  0.783085  0.828897  0.874710\n",
              "2        adoption-of-the-budget-resolution  0.849944  0.888462  0.926980\n",
              "15  export-administration-act-south-africa  0.899313  0.935135  0.970957"
            ]
          },
          "metadata": {
            "tags": []
          },
          "execution_count": 195
        }
      ]
    },
    {
      "metadata": {
        "id": "1fglj0wwC5XI",
        "colab_type": "text"
      },
      "cell_type": "markdown",
      "source": [
        "This table shows the mean value of all democratic votes cast in the 1984 Congressional Voting Records dataset. \n",
        "\n",
        "Because this mean is calculated with 1 as a yes and 0 as a no, it is sort of analagous to the probability of a democrat voting yes on a given issue. "
      ]
    },
    {
      "metadata": {
        "id": "sZxlq7OdFO2R",
        "colab_type": "code",
        "colab": {
          "base_uri": "https://localhost:8080/",
          "height": 198
        },
        "outputId": "39fea568-74c0-4e56-fe71-a4eb9eb14ab4"
      },
      "cell_type": "code",
      "source": [
        "# I'm going to graph these using a boxplot\n",
        "import seaborn as sns\n",
        "import matplotlib.pyplot as plt\n",
        "\n",
        "democrats.head()"
      ],
      "execution_count": 197,
      "outputs": [
        {
          "output_type": "execute_result",
          "data": {
            "text/html": [
              "<div>\n",
              "<style scoped>\n",
              "    .dataframe tbody tr th:only-of-type {\n",
              "        vertical-align: middle;\n",
              "    }\n",
              "\n",
              "    .dataframe tbody tr th {\n",
              "        vertical-align: top;\n",
              "    }\n",
              "\n",
              "    .dataframe thead th {\n",
              "        text-align: right;\n",
              "    }\n",
              "</style>\n",
              "<table border=\"1\" class=\"dataframe\">\n",
              "  <thead>\n",
              "    <tr style=\"text-align: right;\">\n",
              "      <th></th>\n",
              "      <th>Issue</th>\n",
              "      <th>lower CI</th>\n",
              "      <th>mean</th>\n",
              "      <th>upper CI</th>\n",
              "    </tr>\n",
              "  </thead>\n",
              "  <tbody>\n",
              "    <tr>\n",
              "      <th>3</th>\n",
              "      <td>physician-fee-freeze</td>\n",
              "      <td>0.026332</td>\n",
              "      <td>0.054054</td>\n",
              "      <td>0.081776</td>\n",
              "    </tr>\n",
              "    <tr>\n",
              "      <th>11</th>\n",
              "      <td>education-spending</td>\n",
              "      <td>0.100595</td>\n",
              "      <td>0.144578</td>\n",
              "      <td>0.188562</td>\n",
              "    </tr>\n",
              "    <tr>\n",
              "      <th>4</th>\n",
              "      <td>el-salvador-aid</td>\n",
              "      <td>0.164863</td>\n",
              "      <td>0.215686</td>\n",
              "      <td>0.266509</td>\n",
              "    </tr>\n",
              "    <tr>\n",
              "      <th>12</th>\n",
              "      <td>superfund-right-to-sue</td>\n",
              "      <td>0.233293</td>\n",
              "      <td>0.289683</td>\n",
              "      <td>0.346072</td>\n",
              "    </tr>\n",
              "    <tr>\n",
              "      <th>13</th>\n",
              "      <td>crime</td>\n",
              "      <td>0.291482</td>\n",
              "      <td>0.350195</td>\n",
              "      <td>0.408907</td>\n",
              "    </tr>\n",
              "  </tbody>\n",
              "</table>\n",
              "</div>"
            ],
            "text/plain": [
              "                     Issue  lower CI      mean  upper CI\n",
              "3     physician-fee-freeze  0.026332  0.054054  0.081776\n",
              "11      education-spending  0.100595  0.144578  0.188562\n",
              "4          el-salvador-aid  0.164863  0.215686  0.266509\n",
              "12  superfund-right-to-sue  0.233293  0.289683  0.346072\n",
              "13                   crime  0.291482  0.350195  0.408907"
            ]
          },
          "metadata": {
            "tags": []
          },
          "execution_count": 197
        }
      ]
    },
    {
      "metadata": {
        "id": "XprT35qxYM-W",
        "colab_type": "code",
        "colab": {}
      },
      "cell_type": "code",
      "source": [
        "democrats['Issue'].tolist()\n",
        "\n",
        "xlabels = 'physician-fee-freeze', 'education-spending', 'el-salvador-aid', 'superfund-right-to-sue', 'crime', 'immigration', 'religious-groups-in-schools', 'water-project-cost-sharing', 'synfuels-corporation-cutback', 'handicapped-infants', 'duty-free-exports', 'mx-missile', 'anti-satellite-test-ban', 'aid-to-nicaraguan-contras',  'adoption-of-the-budget-resolution', 'export-administration-act-south-africa'"
      ],
      "execution_count": 0,
      "outputs": []
    },
    {
      "metadata": {
        "id": "QgvSeB9wS6Yu",
        "colab_type": "code",
        "colab": {
          "base_uri": "https://localhost:8080/",
          "height": 651
        },
        "outputId": "c3968278-f721-4702-8981-3513c7f97f84"
      },
      "cell_type": "code",
      "source": [
        "\n",
        "dem_means, dem_std = democrats['mean'], (democrats['upper CI'] - democrats['mean']);\n",
        "rep_means, rep_std = republicans['mean'], (republicans['upper CI'] - republicans['mean']);\n",
        "\n",
        "# x locations for the groups\n",
        "ind = np.arange(len(democrats));\n",
        "width = 0.3 #width of the bars\n",
        "\n",
        "# create the plot\n",
        "\n",
        "fig, ax = plt.subplots(figsize=(25, 8.27));\n",
        "\n",
        "dem_rects = ax.bar(ind - width/2, dem_means, width, yerr=dem_std,\n",
        "                   color='SkyBlue', label='Congressional Democrats');\n",
        "rep_rects = ax.bar(ind + width/2, rep_means, width, yerr=rep_std,\n",
        "                  color='IndianRed', label='Congressional Democrats' );\n",
        "\n",
        "\n",
        "# Labeling\n",
        "ax.set_title('Distribution of Dempcrats Congressional voting in 1984');\n",
        "ax.set_ylabel('Probability to vote yes');\n",
        "ax.set_xticks(ind);\n",
        "ax.set_xticklabels(('physician-fee-freeze', 'education-spending', 'el-salvador-aid', 'superfund-right-to-sue', 'crime', \n",
        "                    'immigration', 'religious-groups-in-schools', 'water-project-cost-sharing', 'synfuels-corporation-cutback', 'handicapped-infants', 'duty-free-exports', 'mx-missile', \n",
        "                    'anti-satellite-test-ban', 'aid-to-nicaraguan-contras',  'adoption-of-the-budget-resolution', 'export-administration-act-south-africa'));\n",
        "ax.set_xticklabels(ax.get_xticklabels(), rotation=60);\n",
        "ax.legend();\n",
        "\n",
        "def autolabel(rects, xpos='center'):\n",
        "  '''\n",
        "  Attach a text label above each bar in *rects*, displaying its height.\n",
        "  \n",
        "  *xpos* indicates which side to place the text wrt the center of the \n",
        "  bar. It can be {'center', 'right', 'left'}\n",
        "  '''\n",
        "  xpos = xpos.lower() #normalize the case of the parameter\n",
        "  ha = {'center': 'center', 'right' : 'right', 'left' : 'left'}\n",
        "  offset = {'center' : 0.5 , 'right': 0.57, 'left':0.43} #x_txt = x + w*off\n",
        "  \n",
        "  for rect in rects:\n",
        "    height = rect.get_height().round(3)\n",
        "    ax.text(rect.get_x() + rect.get_width()*offset[xpos], 1.01*height,\n",
        "           '{}'.format(height), ha=ha[xpos], va='bottom')\n",
        "\n",
        "autolabel(dem_rects ,'right')\n",
        "autolabel(rep_rects ,'left')\n",
        "  "
      ],
      "execution_count": 232,
      "outputs": [
        {
          "output_type": "display_data",
          "data": {
            "image/png": "[encoded data removed]",
            "text/plain": [
              "<Figure size 1800x595.44 with 1 Axes>"
            ]
          },
          "metadata": {
            "tags": []
          }
        }
      ]
    },
    {
      "metadata": {
        "id": "HDPQtY17b8RC",
        "colab_type": "text"
      },
      "cell_type": "markdown",
      "source": [
        "This graph represents the chance to vote yes on various issues for Democrats and Republicans in the 1984 Congress. The blue bars represent democrats voting yes, the red bars represent republicans voting yes, and the black bars is the 95% confidence interval for the mean per vote.\n",
        "\n",
        "The confidence interval shows us that the actual population mean of the vote is 95% likely to be within the black bar. \n",
        "\n",
        "My understanding is that this means that if we were to take any democrat (or republican) in this congress and have them vote on any of the above issues, they would vote yes with probability equal to a value within the confidence interval 95% of the time. \n",
        "\n",
        "This chart shows us that both parties vote in blocks, with a confidence interval less than .2 most of the time (that's a statistically significant satement btw).\n",
        "\n",
        "it also shows that democrats and republicans most diverge in their yes votes on Superfund (environment), crime, imigration, and religion.\n",
        "\n",
        "Below is a Barplot of the overall population means.\n"
      ]
    },
    {
      "metadata": {
        "id": "2rcJYSQBGHhz",
        "colab_type": "code",
        "colab": {
          "base_uri": "https://localhost:8080/",
          "height": 687
        },
        "outputId": "aa5edd8e-d949-4aa4-cc47-8d07dc818cde"
      },
      "cell_type": "code",
      "source": [
        "a4_dims = (11.7, 8.27);\n",
        "\n",
        "fig, ax = plt.subplots(figsize=a4_dims);\n",
        "\n",
        "ax = sns.boxplot(data=data_count, notch=False, showmeans=True);\n",
        "\n",
        "ax.set_xticklabels(ax.get_xticklabels(), rotation=60);\n",
        "\n",
        "plt.title('Distribution of Dems (high) and Republicans (low) Congressional voting', loc='center');\n",
        "\n"
      ],
      "execution_count": 234,
      "outputs": [
        {
          "output_type": "stream",
          "text": [
            "/usr/local/lib/python3.6/dist-packages/seaborn/categorical.py:454: FutureWarning: remove_na is deprecated and is a private function. Do not use.\n",
            "  box_data = remove_na(group_data)\n"
          ],
          "name": "stderr"
        },
        {
          "output_type": "display_data",
          "data": {
            "image/png": "[encoded data removed]",
            "text/plain": [
              "<Figure size 842.4x595.44 with 1 Axes>"
            ]
          },
          "metadata": {
            "tags": []
          }
        }
      ]
    },
    {
      "metadata": {
        "id": "M1hPzEJf3mFT",
        "colab_type": "text"
      },
      "cell_type": "markdown",
      "source": [
        "This chark shows the mean or P of each yes vote, with the democratic mean at the top black bar and the republican mean at the bottom black bar.\n",
        "\n",
        "This chart really illustrates that the democrats had the majority in this congress so they take the top bar on every vote. However, the power of means is that the republicans voting brings the population average down significanty.\n",
        "\n",
        "I think this chart helps show the power of a minority faction in a legislature. When they vote together, they produce a statistically significant influence on the mean of the population."
      ]
    },
    {
      "metadata": {
        "id": "nyJ3ySr7R2k9",
        "colab_type": "text"
      },
      "cell_type": "markdown",
      "source": [
        "## Resources\n",
        "\n",
        "- [Interactive visualize the Chi-Squared test](https://homepage.divms.uiowa.edu/~mbognar/applets/chisq.html)\n",
        "- [Calculation of Chi-Squared test statistic](https://en.wikipedia.org/wiki/Pearson%27s_chi-squared_test)\n",
        "- [Visualization of a confidence interval generated by R code](https://commons.wikimedia.org/wiki/File:Confidence-interval.svg)\n",
        "- [Expected value of a squared standard normal](https://math.stackexchange.com/questions/264061/expected-value-calculation-for-squared-normal-distribution) (it's 1 - which is why the expected value of a Chi-Squared with $n$ degrees of freedom is $n$, as it's the sum of $n$ squared standard normals)"
      ]
    }
  ]
}