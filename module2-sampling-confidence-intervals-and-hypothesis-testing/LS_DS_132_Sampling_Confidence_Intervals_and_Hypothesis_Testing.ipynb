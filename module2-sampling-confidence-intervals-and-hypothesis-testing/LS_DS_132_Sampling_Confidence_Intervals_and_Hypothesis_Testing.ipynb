{
  "nbformat": 4,
  "nbformat_minor": 0,
  "metadata": {
    "colab": {
      "name": "LS_DS_132_Sampling_Confidence_Intervals_and_Hypothesis_Testing.ipynb",
      "version": "0.3.2",
      "provenance": [],
      "collapsed_sections": [],
      "include_colab_link": true
    },
    "kernelspec": {
      "name": "python3",
      "display_name": "Python 3"
    }
  },
  "cells": [
    {
      "cell_type": "markdown",
      "metadata": {
        "id": "view-in-github",
        "colab_type": "text"
      },
      "source": [
        "<a href=\"https://colab.research.google.com/github/ElisabethShah/DS-Unit-1-Sprint-3-Statistical-Tests-and-Experiments/blob/master/module2-sampling-confidence-intervals-and-hypothesis-testing/LS_DS_132_Sampling_Confidence_Intervals_and_Hypothesis_Testing.ipynb\" target=\"_parent\"><img src=\"https://colab.research.google.com/assets/colab-badge.svg\" alt=\"Open In Colab\"/></a>"
      ]
    },
    {
      "cell_type": "markdown",
      "metadata": {
        "id": "838Dmw1kM2LK",
        "colab_type": "text"
      },
      "source": [
        "# Lambda School Data Science Module 132\n",
        "## Sampling, Confidence Intervals, and Hypothesis Testing"
      ]
    },
    {
      "cell_type": "markdown",
      "metadata": {
        "id": "dbcPKIo5M6Ny",
        "colab_type": "text"
      },
      "source": [
        "## Prepare - examine other available hypothesis tests\n",
        "\n",
        "If you had to pick a single hypothesis test in your toolbox, t-test would probably be the best choice - but the good news is you don't have to pick just one! Here's some of the others to be aware of:"
      ]
    },
    {
      "cell_type": "code",
      "metadata": {
        "id": "tlBel8j9M6tB",
        "colab_type": "code",
        "outputId": "da6c0d72-da75-451a-b428-d41d382a8703",
        "colab": {
          "base_uri": "https://localhost:8080/",
          "height": 199
        }
      },
      "source": [
        "import numpy as np\n",
        "from scipy.stats import chisquare  # One-way chi square test\n",
        "\n",
        "# Chi square can take any crosstab/table and test the independence of rows/cols\n",
        "# The null hypothesis is that the rows/cols are independent -> low chi square\n",
        "# The alternative is that there is a dependence -> high chi square\n",
        "# Be aware! Chi square does *not* tell you direction/causation\n",
        "\n",
        "ind_obs = np.array([[1, 1], [2, 2]]).T\n",
        "print(ind_obs)\n",
        "print(chisquare(ind_obs, axis=None))\n",
        "\n",
        "dep_obs = np.array([[16, 18, 16, 14, 12, 12], [32, 24, 16, 28, 20, 24]]).T\n",
        "print(dep_obs)\n",
        "print(chisquare(dep_obs, axis=None))"
      ],
      "execution_count": 1,
      "outputs": [
        {
          "output_type": "stream",
          "text": [
            "[[1 2]\n",
            " [1 2]]\n",
            "Power_divergenceResult(statistic=0.6666666666666666, pvalue=0.8810148425137847)\n",
            "[[16 32]\n",
            " [18 24]\n",
            " [16 16]\n",
            " [14 28]\n",
            " [12 20]\n",
            " [12 24]]\n",
            "Power_divergenceResult(statistic=23.31034482758621, pvalue=0.015975692534127565)\n"
          ],
          "name": "stdout"
        }
      ]
    },
    {
      "cell_type": "code",
      "metadata": {
        "id": "nN0BdNiDPxbk",
        "colab_type": "code",
        "outputId": "aec13a15-a9b9-4609-e9f3-832de0ea7dee",
        "colab": {
          "base_uri": "https://localhost:8080/",
          "height": 35
        }
      },
      "source": [
        "# Distribution tests:\n",
        "# We often assume that something is normal, but it can be important to *check*\n",
        "\n",
        "# For example, later on with predictive modeling, a typical assumption is that\n",
        "# residuals (prediction errors) are normal - checking is a good diagnostic\n",
        "\n",
        "from scipy.stats import normaltest\n",
        "# Poisson models arrival times and is related to the binomial (coinflip)\n",
        "sample = np.random.poisson(5, 1000)\n",
        "print(normaltest(sample))  # Pretty clearly not normal"
      ],
      "execution_count": 5,
      "outputs": [
        {
          "output_type": "stream",
          "text": [
            "NormaltestResult(statistic=38.65098958749434, pvalue=4.046171167440167e-09)\n"
          ],
          "name": "stdout"
        }
      ]
    },
    {
      "cell_type": "code",
      "metadata": {
        "id": "zOML_4GW3A1t",
        "colab_type": "code",
        "colab": {
          "base_uri": "https://localhost:8080/",
          "height": 35
        },
        "outputId": "e0010093-901e-4e6d-b3b7-9d16832d2b71"
      },
      "source": [
        "sample = np.random.normal(0, 5, 1000)\n",
        "print(normaltest(sample))"
      ],
      "execution_count": 7,
      "outputs": [
        {
          "output_type": "stream",
          "text": [
            "NormaltestResult(statistic=1.0487771913778277, pvalue=0.5919171544555749)\n"
          ],
          "name": "stdout"
        }
      ]
    },
    {
      "cell_type": "code",
      "metadata": {
        "id": "P5t0WhkDReFO",
        "colab_type": "code",
        "outputId": "3c89b00f-66d3-4a23-f11d-537e7c0d7caa",
        "colab": {
          "base_uri": "https://localhost:8080/",
          "height": 53
        }
      },
      "source": [
        "# Kruskal-Wallis H-test - compare the median rank between 2+ groups\n",
        "# Can be applied to ranking decisions/outcomes/recommendations\n",
        "# The underlying math comes from chi-square distribution, and is best for n>5\n",
        "from scipy.stats import kruskal\n",
        "\n",
        "x1 = [1, 3, 5, 7, 9]\n",
        "y1 = [2, 4, 6, 8, 10]\n",
        "print(kruskal(x1, y1))  # x1 is a little better, but not \"significantly\" so\n",
        "\n",
        "x2 = [1, 1, 1]\n",
        "y2 = [2, 2, 2]\n",
        "z = [2, 2]  # Hey, a third group, and of different size!\n",
        "print(kruskal(x2, y2, z))  # x clearly dominates"
      ],
      "execution_count": 3,
      "outputs": [
        {
          "output_type": "stream",
          "text": [
            "KruskalResult(statistic=0.2727272727272734, pvalue=0.6015081344405895)\n",
            "KruskalResult(statistic=7.0, pvalue=0.0301973834223185)\n"
          ],
          "name": "stdout"
        }
      ]
    },
    {
      "cell_type": "markdown",
      "metadata": {
        "id": "7pT3IP36Rh0b",
        "colab_type": "text"
      },
      "source": [
        "And there's many more! `scipy.stats` is fairly comprehensive, though there are even more available if you delve into the extended world of statistics packages. As tests get increasingly obscure and specialized, the importance of knowing them by heart becomes small - but being able to look them up and figure them out when they *are* relevant is still important."
      ]
    },
    {
      "cell_type": "markdown",
      "metadata": {
        "id": "L1_KRuHCM7BW",
        "colab_type": "text"
      },
      "source": [
        "## Live Lecture - let's explore some more of scipy.stats\n",
        "\n",
        "Candidate topics to explore:\n",
        "\n",
        "- `scipy.stats.chi2` - the Chi-squared distribution, which we can use to reproduce the Chi-squared test\n",
        "- Calculate the Chi-Squared test statistic \"by hand\" (with code), and feed it into `chi2`\n",
        "- Build a confidence interval with `stats.t.ppf`, the t-distribution percentile point function (the inverse of the CDF) - we can write a function to return a tuple of `(mean, lower bound, upper bound)` that you can then use for the assignment (visualizing confidence intervals)"
      ]
    },
    {
      "cell_type": "code",
      "metadata": {
        "id": "qW6k0dorM7Lz",
        "colab_type": "code",
        "colab": {
          "base_uri": "https://localhost:8080/",
          "height": 206
        },
        "outputId": "0693672e-6304-40ee-95da-96e738a74cdc"
      },
      "source": [
        "# Taking requests! Come to lecture with a topic or problem and we'll try it.\n",
        "\n",
        "import pandas as pd\n",
        "\n",
        "df = pd.read_csv('https://math.tntech.edu/e-stat/DASL/popularkids.txt', sep='\\t')\n",
        "df.head()"
      ],
      "execution_count": 8,
      "outputs": [
        {
          "output_type": "execute_result",
          "data": {
            "text/html": [
              "<div>\n",
              "<style scoped>\n",
              "    .dataframe tbody tr th:only-of-type {\n",
              "        vertical-align: middle;\n",
              "    }\n",
              "\n",
              "    .dataframe tbody tr th {\n",
              "        vertical-align: top;\n",
              "    }\n",
              "\n",
              "    .dataframe thead th {\n",
              "        text-align: right;\n",
              "    }\n",
              "</style>\n",
              "<table border=\"1\" class=\"dataframe\">\n",
              "  <thead>\n",
              "    <tr style=\"text-align: right;\">\n",
              "      <th></th>\n",
              "      <th>Gender</th>\n",
              "      <th>Grade</th>\n",
              "      <th>Age</th>\n",
              "      <th>Race</th>\n",
              "      <th>Urban.Rural</th>\n",
              "      <th>School</th>\n",
              "      <th>Goals</th>\n",
              "      <th>Grades</th>\n",
              "      <th>Sports</th>\n",
              "      <th>Looks</th>\n",
              "      <th>Money</th>\n",
              "    </tr>\n",
              "  </thead>\n",
              "  <tbody>\n",
              "    <tr>\n",
              "      <th>0</th>\n",
              "      <td>boy</td>\n",
              "      <td>5</td>\n",
              "      <td>11</td>\n",
              "      <td>White</td>\n",
              "      <td>Rural</td>\n",
              "      <td>Elm</td>\n",
              "      <td>Sports</td>\n",
              "      <td>1</td>\n",
              "      <td>2</td>\n",
              "      <td>4</td>\n",
              "      <td>3</td>\n",
              "    </tr>\n",
              "    <tr>\n",
              "      <th>1</th>\n",
              "      <td>boy</td>\n",
              "      <td>5</td>\n",
              "      <td>10</td>\n",
              "      <td>White</td>\n",
              "      <td>Rural</td>\n",
              "      <td>Elm</td>\n",
              "      <td>Popular</td>\n",
              "      <td>2</td>\n",
              "      <td>1</td>\n",
              "      <td>4</td>\n",
              "      <td>3</td>\n",
              "    </tr>\n",
              "    <tr>\n",
              "      <th>2</th>\n",
              "      <td>girl</td>\n",
              "      <td>5</td>\n",
              "      <td>11</td>\n",
              "      <td>White</td>\n",
              "      <td>Rural</td>\n",
              "      <td>Elm</td>\n",
              "      <td>Popular</td>\n",
              "      <td>4</td>\n",
              "      <td>3</td>\n",
              "      <td>1</td>\n",
              "      <td>2</td>\n",
              "    </tr>\n",
              "    <tr>\n",
              "      <th>3</th>\n",
              "      <td>girl</td>\n",
              "      <td>5</td>\n",
              "      <td>11</td>\n",
              "      <td>White</td>\n",
              "      <td>Rural</td>\n",
              "      <td>Elm</td>\n",
              "      <td>Popular</td>\n",
              "      <td>2</td>\n",
              "      <td>3</td>\n",
              "      <td>4</td>\n",
              "      <td>1</td>\n",
              "    </tr>\n",
              "    <tr>\n",
              "      <th>4</th>\n",
              "      <td>girl</td>\n",
              "      <td>5</td>\n",
              "      <td>10</td>\n",
              "      <td>White</td>\n",
              "      <td>Rural</td>\n",
              "      <td>Elm</td>\n",
              "      <td>Popular</td>\n",
              "      <td>4</td>\n",
              "      <td>2</td>\n",
              "      <td>1</td>\n",
              "      <td>3</td>\n",
              "    </tr>\n",
              "  </tbody>\n",
              "</table>\n",
              "</div>"
            ],
            "text/plain": [
              "  Gender  Grade  Age   Race Urban.Rural  ...    Goals Grades  Sports  Looks  Money\n",
              "0    boy      5   11  White       Rural  ...   Sports      1       2      4      3\n",
              "1    boy      5   10  White       Rural  ...  Popular      2       1      4      3\n",
              "2   girl      5   11  White       Rural  ...  Popular      4       3      1      2\n",
              "3   girl      5   11  White       Rural  ...  Popular      2       3      4      1\n",
              "4   girl      5   10  White       Rural  ...  Popular      4       2      1      3\n",
              "\n",
              "[5 rows x 11 columns]"
            ]
          },
          "metadata": {
            "tags": []
          },
          "execution_count": 8
        }
      ]
    },
    {
      "cell_type": "code",
      "metadata": {
        "id": "pOnCuZcT4JG2",
        "colab_type": "code",
        "colab": {
          "base_uri": "https://localhost:8080/",
          "height": 235
        },
        "outputId": "e539c59c-a3f9-4862-ec49-47b9d9e7e70b"
      },
      "source": [
        "df.isnull().sum()"
      ],
      "execution_count": 9,
      "outputs": [
        {
          "output_type": "execute_result",
          "data": {
            "text/plain": [
              "Gender         0\n",
              "Grade          0\n",
              "Age            0\n",
              "Race           0\n",
              "Urban.Rural    0\n",
              "School         0\n",
              "Goals          0\n",
              "Grades         0\n",
              "Sports         0\n",
              "Looks          0\n",
              "Money          0\n",
              "dtype: int64"
            ]
          },
          "metadata": {
            "tags": []
          },
          "execution_count": 9
        }
      ]
    },
    {
      "cell_type": "code",
      "metadata": {
        "id": "HQVWHi8Y4LLX",
        "colab_type": "code",
        "colab": {
          "base_uri": "https://localhost:8080/",
          "height": 175
        },
        "outputId": "08161fbf-8d38-4cef-dfd8-cc20a3a60270"
      },
      "source": [
        "table_observed = pd.crosstab(df['Goals'], df['Grade'])\n",
        "table_observed"
      ],
      "execution_count": 10,
      "outputs": [
        {
          "output_type": "execute_result",
          "data": {
            "text/html": [
              "<div>\n",
              "<style scoped>\n",
              "    .dataframe tbody tr th:only-of-type {\n",
              "        vertical-align: middle;\n",
              "    }\n",
              "\n",
              "    .dataframe tbody tr th {\n",
              "        vertical-align: top;\n",
              "    }\n",
              "\n",
              "    .dataframe thead th {\n",
              "        text-align: right;\n",
              "    }\n",
              "</style>\n",
              "<table border=\"1\" class=\"dataframe\">\n",
              "  <thead>\n",
              "    <tr style=\"text-align: right;\">\n",
              "      <th>Grade</th>\n",
              "      <th>4</th>\n",
              "      <th>5</th>\n",
              "      <th>6</th>\n",
              "    </tr>\n",
              "    <tr>\n",
              "      <th>Goals</th>\n",
              "      <th></th>\n",
              "      <th></th>\n",
              "      <th></th>\n",
              "    </tr>\n",
              "  </thead>\n",
              "  <tbody>\n",
              "    <tr>\n",
              "      <th>Grades</th>\n",
              "      <td>63</td>\n",
              "      <td>88</td>\n",
              "      <td>96</td>\n",
              "    </tr>\n",
              "    <tr>\n",
              "      <th>Popular</th>\n",
              "      <td>31</td>\n",
              "      <td>55</td>\n",
              "      <td>55</td>\n",
              "    </tr>\n",
              "    <tr>\n",
              "      <th>Sports</th>\n",
              "      <td>25</td>\n",
              "      <td>33</td>\n",
              "      <td>32</td>\n",
              "    </tr>\n",
              "  </tbody>\n",
              "</table>\n",
              "</div>"
            ],
            "text/plain": [
              "Grade     4   5   6\n",
              "Goals              \n",
              "Grades   63  88  96\n",
              "Popular  31  55  55\n",
              "Sports   25  33  32"
            ]
          },
          "metadata": {
            "tags": []
          },
          "execution_count": 10
        }
      ]
    },
    {
      "cell_type": "code",
      "metadata": {
        "id": "dRYtFDuY4PzN",
        "colab_type": "code",
        "colab": {
          "base_uri": "https://localhost:8080/",
          "height": 206
        },
        "outputId": "83807e66-bdd4-4247-c3b7-fcf557d997b1"
      },
      "source": [
        "table_observed_w_marg = pd.crosstab(df['Goals'], df['Grade'], margins=True)\n",
        "table_observed_w_marg.head()"
      ],
      "execution_count": 11,
      "outputs": [
        {
          "output_type": "execute_result",
          "data": {
            "text/html": [
              "<div>\n",
              "<style scoped>\n",
              "    .dataframe tbody tr th:only-of-type {\n",
              "        vertical-align: middle;\n",
              "    }\n",
              "\n",
              "    .dataframe tbody tr th {\n",
              "        vertical-align: top;\n",
              "    }\n",
              "\n",
              "    .dataframe thead th {\n",
              "        text-align: right;\n",
              "    }\n",
              "</style>\n",
              "<table border=\"1\" class=\"dataframe\">\n",
              "  <thead>\n",
              "    <tr style=\"text-align: right;\">\n",
              "      <th>Grade</th>\n",
              "      <th>4</th>\n",
              "      <th>5</th>\n",
              "      <th>6</th>\n",
              "      <th>All</th>\n",
              "    </tr>\n",
              "    <tr>\n",
              "      <th>Goals</th>\n",
              "      <th></th>\n",
              "      <th></th>\n",
              "      <th></th>\n",
              "      <th></th>\n",
              "    </tr>\n",
              "  </thead>\n",
              "  <tbody>\n",
              "    <tr>\n",
              "      <th>Grades</th>\n",
              "      <td>63</td>\n",
              "      <td>88</td>\n",
              "      <td>96</td>\n",
              "      <td>247</td>\n",
              "    </tr>\n",
              "    <tr>\n",
              "      <th>Popular</th>\n",
              "      <td>31</td>\n",
              "      <td>55</td>\n",
              "      <td>55</td>\n",
              "      <td>141</td>\n",
              "    </tr>\n",
              "    <tr>\n",
              "      <th>Sports</th>\n",
              "      <td>25</td>\n",
              "      <td>33</td>\n",
              "      <td>32</td>\n",
              "      <td>90</td>\n",
              "    </tr>\n",
              "    <tr>\n",
              "      <th>All</th>\n",
              "      <td>119</td>\n",
              "      <td>176</td>\n",
              "      <td>183</td>\n",
              "      <td>478</td>\n",
              "    </tr>\n",
              "  </tbody>\n",
              "</table>\n",
              "</div>"
            ],
            "text/plain": [
              "Grade      4    5    6  All\n",
              "Goals                      \n",
              "Grades    63   88   96  247\n",
              "Popular   31   55   55  141\n",
              "Sports    25   33   32   90\n",
              "All      119  176  183  478"
            ]
          },
          "metadata": {
            "tags": []
          },
          "execution_count": 11
        }
      ]
    },
    {
      "cell_type": "code",
      "metadata": {
        "id": "-T5gev9X4e_k",
        "colab_type": "code",
        "colab": {
          "base_uri": "https://localhost:8080/",
          "height": 126
        },
        "outputId": "61b3b172-5a84-48b7-aa4c-5d82c176a2bc"
      },
      "source": [
        "table_observed_w_marg['All']"
      ],
      "execution_count": 12,
      "outputs": [
        {
          "output_type": "execute_result",
          "data": {
            "text/plain": [
              "Goals\n",
              "Grades     247\n",
              "Popular    141\n",
              "Sports      90\n",
              "All        478\n",
              "Name: All, dtype: int64"
            ]
          },
          "metadata": {
            "tags": []
          },
          "execution_count": 12
        }
      ]
    },
    {
      "cell_type": "code",
      "metadata": {
        "id": "JpvBUfEY4jJe",
        "colab_type": "code",
        "colab": {
          "base_uri": "https://localhost:8080/",
          "height": 126
        },
        "outputId": "4e4682f7-62a3-42ce-e813-a8d3048bae94"
      },
      "source": [
        "table_observed_w_marg.T['All']"
      ],
      "execution_count": 13,
      "outputs": [
        {
          "output_type": "execute_result",
          "data": {
            "text/plain": [
              "Grade\n",
              "4      119\n",
              "5      176\n",
              "6      183\n",
              "All    478\n",
              "Name: All, dtype: int64"
            ]
          },
          "metadata": {
            "tags": []
          },
          "execution_count": 13
        }
      ]
    },
    {
      "cell_type": "code",
      "metadata": {
        "id": "BCjYaZ4G4mCj",
        "colab_type": "code",
        "colab": {
          "base_uri": "https://localhost:8080/",
          "height": 35
        },
        "outputId": "32dab736-f9d0-4aa7-c590-7e02494a5410"
      },
      "source": [
        "table_observed_w_marg['All'].values[:-1]"
      ],
      "execution_count": 14,
      "outputs": [
        {
          "output_type": "execute_result",
          "data": {
            "text/plain": [
              "array([247, 141,  90])"
            ]
          },
          "metadata": {
            "tags": []
          },
          "execution_count": 14
        }
      ]
    },
    {
      "cell_type": "code",
      "metadata": {
        "id": "7ziagfSh4qYX",
        "colab_type": "code",
        "colab": {
          "base_uri": "https://localhost:8080/",
          "height": 72
        },
        "outputId": "0a7310a8-5f67-4926-9e84-2f9d48a1c58a"
      },
      "source": [
        "np.outer(table_observed_w_marg['All'].values[:-1], \n",
        "         table_observed_w_marg.T['All'].values[:-1])/table_observed_w_marg.T['All'].values[-1]"
      ],
      "execution_count": 15,
      "outputs": [
        {
          "output_type": "execute_result",
          "data": {
            "text/plain": [
              "array([[61.4916318 , 90.94560669, 94.56276151],\n",
              "       [35.10251046, 51.91631799, 53.98117155],\n",
              "       [22.40585774, 33.13807531, 34.45606695]])"
            ]
          },
          "metadata": {
            "tags": []
          },
          "execution_count": 15
        }
      ]
    },
    {
      "cell_type": "code",
      "metadata": {
        "id": "9Qruvzih5CLs",
        "colab_type": "code",
        "colab": {
          "base_uri": "https://localhost:8080/",
          "height": 35
        },
        "outputId": "99e839e0-25d2-4ab8-9a2d-2bac31c7a461"
      },
      "source": [
        "goals_totals = table_observed_w_marg['All'].values[:-1]\n",
        "goals_totals"
      ],
      "execution_count": 16,
      "outputs": [
        {
          "output_type": "execute_result",
          "data": {
            "text/plain": [
              "array([247, 141,  90])"
            ]
          },
          "metadata": {
            "tags": []
          },
          "execution_count": 16
        }
      ]
    },
    {
      "cell_type": "code",
      "metadata": {
        "id": "HZYcUQ4_5FGa",
        "colab_type": "code",
        "colab": {
          "base_uri": "https://localhost:8080/",
          "height": 35
        },
        "outputId": "ed777df4-95ba-43b8-854d-b398ff848342"
      },
      "source": [
        "grade_totals = table_observed_w_marg.T['All'].values[:-1]\n",
        "grade_totals"
      ],
      "execution_count": 17,
      "outputs": [
        {
          "output_type": "execute_result",
          "data": {
            "text/plain": [
              "array([119, 176, 183])"
            ]
          },
          "metadata": {
            "tags": []
          },
          "execution_count": 17
        }
      ]
    },
    {
      "cell_type": "code",
      "metadata": {
        "id": "mSXNJwxI5SuP",
        "colab_type": "code",
        "colab": {}
      },
      "source": [
        "assert goals_totals.sum() == grade_totals.sum()"
      ],
      "execution_count": 0,
      "outputs": []
    },
    {
      "cell_type": "code",
      "metadata": {
        "id": "9JPTi-Ep5hNm",
        "colab_type": "code",
        "colab": {
          "base_uri": "https://localhost:8080/",
          "height": 35
        },
        "outputId": "70995dc2-a00d-45e2-c5c8-b0a83d583d19"
      },
      "source": [
        "grade_totals.sum()"
      ],
      "execution_count": 19,
      "outputs": [
        {
          "output_type": "execute_result",
          "data": {
            "text/plain": [
              "478"
            ]
          },
          "metadata": {
            "tags": []
          },
          "execution_count": 19
        }
      ]
    },
    {
      "cell_type": "code",
      "metadata": {
        "id": "O2qoSHjW5lWb",
        "colab_type": "code",
        "colab": {
          "base_uri": "https://localhost:8080/",
          "height": 72
        },
        "outputId": "2af2dd40-0eff-45c1-ce16-b8e72314de45"
      },
      "source": [
        "expected = np.outer(goals_totals, grade_totals)/grade_totals.sum()\n",
        "expected"
      ],
      "execution_count": 20,
      "outputs": [
        {
          "output_type": "execute_result",
          "data": {
            "text/plain": [
              "array([[61.4916318 , 90.94560669, 94.56276151],\n",
              "       [35.10251046, 51.91631799, 53.98117155],\n",
              "       [22.40585774, 33.13807531, 34.45606695]])"
            ]
          },
          "metadata": {
            "tags": []
          },
          "execution_count": 20
        }
      ]
    },
    {
      "cell_type": "code",
      "metadata": {
        "id": "PPqQoxg76JhS",
        "colab_type": "code",
        "colab": {
          "base_uri": "https://localhost:8080/",
          "height": 175
        },
        "outputId": "78e16a50-4c72-4b64-fa8e-11320fc871d6"
      },
      "source": [
        "deviation = table_observed - table_expected\n",
        "deviation"
      ],
      "execution_count": 25,
      "outputs": [
        {
          "output_type": "execute_result",
          "data": {
            "text/html": [
              "<div>\n",
              "<style scoped>\n",
              "    .dataframe tbody tr th:only-of-type {\n",
              "        vertical-align: middle;\n",
              "    }\n",
              "\n",
              "    .dataframe tbody tr th {\n",
              "        vertical-align: top;\n",
              "    }\n",
              "\n",
              "    .dataframe thead th {\n",
              "        text-align: right;\n",
              "    }\n",
              "</style>\n",
              "<table border=\"1\" class=\"dataframe\">\n",
              "  <thead>\n",
              "    <tr style=\"text-align: right;\">\n",
              "      <th>Grade</th>\n",
              "      <th>4</th>\n",
              "      <th>5</th>\n",
              "      <th>6</th>\n",
              "    </tr>\n",
              "    <tr>\n",
              "      <th>Goals</th>\n",
              "      <th></th>\n",
              "      <th></th>\n",
              "      <th></th>\n",
              "    </tr>\n",
              "  </thead>\n",
              "  <tbody>\n",
              "    <tr>\n",
              "      <th>Grades</th>\n",
              "      <td>1.508368</td>\n",
              "      <td>-2.945607</td>\n",
              "      <td>1.437238</td>\n",
              "    </tr>\n",
              "    <tr>\n",
              "      <th>Popular</th>\n",
              "      <td>-4.102510</td>\n",
              "      <td>3.083682</td>\n",
              "      <td>1.018828</td>\n",
              "    </tr>\n",
              "    <tr>\n",
              "      <th>Sports</th>\n",
              "      <td>2.594142</td>\n",
              "      <td>-0.138075</td>\n",
              "      <td>-2.456067</td>\n",
              "    </tr>\n",
              "  </tbody>\n",
              "</table>\n",
              "</div>"
            ],
            "text/plain": [
              "Grade           4         5         6\n",
              "Goals                                \n",
              "Grades   1.508368 -2.945607  1.437238\n",
              "Popular -4.102510  3.083682  1.018828\n",
              "Sports   2.594142 -0.138075 -2.456067"
            ]
          },
          "metadata": {
            "tags": []
          },
          "execution_count": 25
        }
      ]
    },
    {
      "cell_type": "code",
      "metadata": {
        "id": "0L_s8wv56OYZ",
        "colab_type": "code",
        "colab": {
          "base_uri": "https://localhost:8080/",
          "height": 175
        },
        "outputId": "c41dc0b6-bafb-4f6e-9468-d24df243dc0c"
      },
      "source": [
        "table_expected = pd.DataFrame(expected)\n",
        "table_expected.columns = table_observed.columns\n",
        "table_expected.index = table_observed.index\n",
        "table_expected"
      ],
      "execution_count": 23,
      "outputs": [
        {
          "output_type": "execute_result",
          "data": {
            "text/html": [
              "<div>\n",
              "<style scoped>\n",
              "    .dataframe tbody tr th:only-of-type {\n",
              "        vertical-align: middle;\n",
              "    }\n",
              "\n",
              "    .dataframe tbody tr th {\n",
              "        vertical-align: top;\n",
              "    }\n",
              "\n",
              "    .dataframe thead th {\n",
              "        text-align: right;\n",
              "    }\n",
              "</style>\n",
              "<table border=\"1\" class=\"dataframe\">\n",
              "  <thead>\n",
              "    <tr style=\"text-align: right;\">\n",
              "      <th>Grade</th>\n",
              "      <th>4</th>\n",
              "      <th>5</th>\n",
              "      <th>6</th>\n",
              "    </tr>\n",
              "    <tr>\n",
              "      <th>Goals</th>\n",
              "      <th></th>\n",
              "      <th></th>\n",
              "      <th></th>\n",
              "    </tr>\n",
              "  </thead>\n",
              "  <tbody>\n",
              "    <tr>\n",
              "      <th>Grades</th>\n",
              "      <td>61.491632</td>\n",
              "      <td>90.945607</td>\n",
              "      <td>94.562762</td>\n",
              "    </tr>\n",
              "    <tr>\n",
              "      <th>Popular</th>\n",
              "      <td>35.102510</td>\n",
              "      <td>51.916318</td>\n",
              "      <td>53.981172</td>\n",
              "    </tr>\n",
              "    <tr>\n",
              "      <th>Sports</th>\n",
              "      <td>22.405858</td>\n",
              "      <td>33.138075</td>\n",
              "      <td>34.456067</td>\n",
              "    </tr>\n",
              "  </tbody>\n",
              "</table>\n",
              "</div>"
            ],
            "text/plain": [
              "Grade            4          5          6\n",
              "Goals                                   \n",
              "Grades   61.491632  90.945607  94.562762\n",
              "Popular  35.102510  51.916318  53.981172\n",
              "Sports   22.405858  33.138075  34.456067"
            ]
          },
          "metadata": {
            "tags": []
          },
          "execution_count": 23
        }
      ]
    },
    {
      "cell_type": "code",
      "metadata": {
        "id": "a7tSY8mN6CQC",
        "colab_type": "code",
        "colab": {
          "base_uri": "https://localhost:8080/",
          "height": 175
        },
        "outputId": "5893a009-3d34-402a-b681-4190276c4dae"
      },
      "source": [
        "table_observed"
      ],
      "execution_count": 24,
      "outputs": [
        {
          "output_type": "execute_result",
          "data": {
            "text/html": [
              "<div>\n",
              "<style scoped>\n",
              "    .dataframe tbody tr th:only-of-type {\n",
              "        vertical-align: middle;\n",
              "    }\n",
              "\n",
              "    .dataframe tbody tr th {\n",
              "        vertical-align: top;\n",
              "    }\n",
              "\n",
              "    .dataframe thead th {\n",
              "        text-align: right;\n",
              "    }\n",
              "</style>\n",
              "<table border=\"1\" class=\"dataframe\">\n",
              "  <thead>\n",
              "    <tr style=\"text-align: right;\">\n",
              "      <th>Grade</th>\n",
              "      <th>4</th>\n",
              "      <th>5</th>\n",
              "      <th>6</th>\n",
              "    </tr>\n",
              "    <tr>\n",
              "      <th>Goals</th>\n",
              "      <th></th>\n",
              "      <th></th>\n",
              "      <th></th>\n",
              "    </tr>\n",
              "  </thead>\n",
              "  <tbody>\n",
              "    <tr>\n",
              "      <th>Grades</th>\n",
              "      <td>63</td>\n",
              "      <td>88</td>\n",
              "      <td>96</td>\n",
              "    </tr>\n",
              "    <tr>\n",
              "      <th>Popular</th>\n",
              "      <td>31</td>\n",
              "      <td>55</td>\n",
              "      <td>55</td>\n",
              "    </tr>\n",
              "    <tr>\n",
              "      <th>Sports</th>\n",
              "      <td>25</td>\n",
              "      <td>33</td>\n",
              "      <td>32</td>\n",
              "    </tr>\n",
              "  </tbody>\n",
              "</table>\n",
              "</div>"
            ],
            "text/plain": [
              "Grade     4   5   6\n",
              "Goals              \n",
              "Grades   63  88  96\n",
              "Popular  31  55  55\n",
              "Sports   25  33  32"
            ]
          },
          "metadata": {
            "tags": []
          },
          "execution_count": 24
        }
      ]
    },
    {
      "cell_type": "code",
      "metadata": {
        "id": "BnzkZvSl6dME",
        "colab_type": "code",
        "colab": {
          "base_uri": "https://localhost:8080/",
          "height": 175
        },
        "outputId": "35e364cc-831e-45ff-bb08-a680640ef3a1"
      },
      "source": [
        "deviation_sq = deviation**2\n",
        "deviation_sq"
      ],
      "execution_count": 26,
      "outputs": [
        {
          "output_type": "execute_result",
          "data": {
            "text/html": [
              "<div>\n",
              "<style scoped>\n",
              "    .dataframe tbody tr th:only-of-type {\n",
              "        vertical-align: middle;\n",
              "    }\n",
              "\n",
              "    .dataframe tbody tr th {\n",
              "        vertical-align: top;\n",
              "    }\n",
              "\n",
              "    .dataframe thead th {\n",
              "        text-align: right;\n",
              "    }\n",
              "</style>\n",
              "<table border=\"1\" class=\"dataframe\">\n",
              "  <thead>\n",
              "    <tr style=\"text-align: right;\">\n",
              "      <th>Grade</th>\n",
              "      <th>4</th>\n",
              "      <th>5</th>\n",
              "      <th>6</th>\n",
              "    </tr>\n",
              "    <tr>\n",
              "      <th>Goals</th>\n",
              "      <th></th>\n",
              "      <th></th>\n",
              "      <th></th>\n",
              "    </tr>\n",
              "  </thead>\n",
              "  <tbody>\n",
              "    <tr>\n",
              "      <th>Grades</th>\n",
              "      <td>2.275175</td>\n",
              "      <td>8.676599</td>\n",
              "      <td>2.065654</td>\n",
              "    </tr>\n",
              "    <tr>\n",
              "      <th>Popular</th>\n",
              "      <td>16.830592</td>\n",
              "      <td>9.509095</td>\n",
              "      <td>1.038011</td>\n",
              "    </tr>\n",
              "    <tr>\n",
              "      <th>Sports</th>\n",
              "      <td>6.729574</td>\n",
              "      <td>0.019065</td>\n",
              "      <td>6.032265</td>\n",
              "    </tr>\n",
              "  </tbody>\n",
              "</table>\n",
              "</div>"
            ],
            "text/plain": [
              "Grade            4         5         6\n",
              "Goals                                 \n",
              "Grades    2.275175  8.676599  2.065654\n",
              "Popular  16.830592  9.509095  1.038011\n",
              "Sports    6.729574  0.019065  6.032265"
            ]
          },
          "metadata": {
            "tags": []
          },
          "execution_count": 26
        }
      ]
    },
    {
      "cell_type": "code",
      "metadata": {
        "id": "3fBMzYFm6lZ-",
        "colab_type": "code",
        "colab": {
          "base_uri": "https://localhost:8080/",
          "height": 175
        },
        "outputId": "44147285-8669-4d38-a8cd-ea57c9931b3c"
      },
      "source": [
        "fraction = deviation_sq/table_expected\n",
        "fraction"
      ],
      "execution_count": 29,
      "outputs": [
        {
          "output_type": "execute_result",
          "data": {
            "text/html": [
              "<div>\n",
              "<style scoped>\n",
              "    .dataframe tbody tr th:only-of-type {\n",
              "        vertical-align: middle;\n",
              "    }\n",
              "\n",
              "    .dataframe tbody tr th {\n",
              "        vertical-align: top;\n",
              "    }\n",
              "\n",
              "    .dataframe thead th {\n",
              "        text-align: right;\n",
              "    }\n",
              "</style>\n",
              "<table border=\"1\" class=\"dataframe\">\n",
              "  <thead>\n",
              "    <tr style=\"text-align: right;\">\n",
              "      <th>Grade</th>\n",
              "      <th>4</th>\n",
              "      <th>5</th>\n",
              "      <th>6</th>\n",
              "    </tr>\n",
              "    <tr>\n",
              "      <th>Goals</th>\n",
              "      <th></th>\n",
              "      <th></th>\n",
              "      <th></th>\n",
              "    </tr>\n",
              "  </thead>\n",
              "  <tbody>\n",
              "    <tr>\n",
              "      <th>Grades</th>\n",
              "      <td>0.037000</td>\n",
              "      <td>0.095404</td>\n",
              "      <td>0.021844</td>\n",
              "    </tr>\n",
              "    <tr>\n",
              "      <th>Popular</th>\n",
              "      <td>0.479470</td>\n",
              "      <td>0.183162</td>\n",
              "      <td>0.019229</td>\n",
              "    </tr>\n",
              "    <tr>\n",
              "      <th>Sports</th>\n",
              "      <td>0.300349</td>\n",
              "      <td>0.000575</td>\n",
              "      <td>0.175071</td>\n",
              "    </tr>\n",
              "  </tbody>\n",
              "</table>\n",
              "</div>"
            ],
            "text/plain": [
              "Grade           4         5         6\n",
              "Goals                                \n",
              "Grades   0.037000  0.095404  0.021844\n",
              "Popular  0.479470  0.183162  0.019229\n",
              "Sports   0.300349  0.000575  0.175071"
            ]
          },
          "metadata": {
            "tags": []
          },
          "execution_count": 29
        }
      ]
    },
    {
      "cell_type": "code",
      "metadata": {
        "id": "t2IVQlae6gIX",
        "colab_type": "code",
        "colab": {
          "base_uri": "https://localhost:8080/",
          "height": 35
        },
        "outputId": "3156b3c7-49fb-4cab-b3de-331d4a62fb2d"
      },
      "source": [
        "fraction.values.sum()"
      ],
      "execution_count": 30,
      "outputs": [
        {
          "output_type": "execute_result",
          "data": {
            "text/plain": [
              "1.3121045153815976"
            ]
          },
          "metadata": {
            "tags": []
          },
          "execution_count": 30
        }
      ]
    },
    {
      "cell_type": "code",
      "metadata": {
        "id": "g8UJCwO56qUW",
        "colab_type": "code",
        "colab": {
          "base_uri": "https://localhost:8080/",
          "height": 175
        },
        "outputId": "eac2c4f7-d2ba-40a3-9a16-2930533379e8"
      },
      "source": [
        "table_observed"
      ],
      "execution_count": 31,
      "outputs": [
        {
          "output_type": "execute_result",
          "data": {
            "text/html": [
              "<div>\n",
              "<style scoped>\n",
              "    .dataframe tbody tr th:only-of-type {\n",
              "        vertical-align: middle;\n",
              "    }\n",
              "\n",
              "    .dataframe tbody tr th {\n",
              "        vertical-align: top;\n",
              "    }\n",
              "\n",
              "    .dataframe thead th {\n",
              "        text-align: right;\n",
              "    }\n",
              "</style>\n",
              "<table border=\"1\" class=\"dataframe\">\n",
              "  <thead>\n",
              "    <tr style=\"text-align: right;\">\n",
              "      <th>Grade</th>\n",
              "      <th>4</th>\n",
              "      <th>5</th>\n",
              "      <th>6</th>\n",
              "    </tr>\n",
              "    <tr>\n",
              "      <th>Goals</th>\n",
              "      <th></th>\n",
              "      <th></th>\n",
              "      <th></th>\n",
              "    </tr>\n",
              "  </thead>\n",
              "  <tbody>\n",
              "    <tr>\n",
              "      <th>Grades</th>\n",
              "      <td>63</td>\n",
              "      <td>88</td>\n",
              "      <td>96</td>\n",
              "    </tr>\n",
              "    <tr>\n",
              "      <th>Popular</th>\n",
              "      <td>31</td>\n",
              "      <td>55</td>\n",
              "      <td>55</td>\n",
              "    </tr>\n",
              "    <tr>\n",
              "      <th>Sports</th>\n",
              "      <td>25</td>\n",
              "      <td>33</td>\n",
              "      <td>32</td>\n",
              "    </tr>\n",
              "  </tbody>\n",
              "</table>\n",
              "</div>"
            ],
            "text/plain": [
              "Grade     4   5   6\n",
              "Goals              \n",
              "Grades   63  88  96\n",
              "Popular  31  55  55\n",
              "Sports   25  33  32"
            ]
          },
          "metadata": {
            "tags": []
          },
          "execution_count": 31
        }
      ]
    },
    {
      "cell_type": "code",
      "metadata": {
        "id": "yDmZs_6j6t4l",
        "colab_type": "code",
        "colab": {
          "base_uri": "https://localhost:8080/",
          "height": 126
        },
        "outputId": "74181ecf-ebc5-4d04-d2d8-794b22922a10"
      },
      "source": [
        "from scipy.stats import chi2_contingency\n",
        "\n",
        "chi2, p, df, expect = chi2_contingency(table_observed)\n",
        "print(f'chi2 stat: {chi2}')\n",
        "print(f'p-value: {p}')\n",
        "print(f'df: {df}')\n",
        "print(f'expected freq: {expect}')"
      ],
      "execution_count": 32,
      "outputs": [
        {
          "output_type": "stream",
          "text": [
            "chi2 stat: 1.3121045153815976\n",
            "p-value: 0.8593185000807877\n",
            "df: 4\n",
            "expected freq: [[61.4916318  90.94560669 94.56276151]\n",
            " [35.10251046 51.91631799 53.98117155]\n",
            " [22.40585774 33.13807531 34.45606695]]\n"
          ],
          "name": "stdout"
        }
      ]
    },
    {
      "cell_type": "markdown",
      "metadata": {
        "id": "fBebI-4T7CxV",
        "colab_type": "text"
      },
      "source": [
        "##Confidence intervals"
      ]
    },
    {
      "cell_type": "code",
      "metadata": {
        "id": "6Hc_nwou68MB",
        "colab_type": "code",
        "colab": {
          "base_uri": "https://localhost:8080/",
          "height": 35
        },
        "outputId": "5f15c94c-ec9b-4c95-cfa1-34d9ac70347c"
      },
      "source": [
        "import scipy.stats as stats\n",
        "import numpy as np\n",
        "\n",
        "#confidence_interval = [lower_bound, upper_bound]\n",
        "\n",
        "coinflips = np.random.binomial(n=1, p=.501, size=10000000)\n",
        "print(coinflips[:20])"
      ],
      "execution_count": 33,
      "outputs": [
        {
          "output_type": "stream",
          "text": [
            "[0 1 1 0 0 1 1 1 0 1 0 1 0 0 1 0 0 0 0 1]\n"
          ],
          "name": "stdout"
        }
      ]
    },
    {
      "cell_type": "code",
      "metadata": {
        "id": "lUfDdsIw75__",
        "colab_type": "code",
        "colab": {
          "base_uri": "https://localhost:8080/",
          "height": 35
        },
        "outputId": "46561529-5302-4c5c-afc0-cd40cb0c77a2"
      },
      "source": [
        "stats.ttest_1samp(coinflips, 0.5)"
      ],
      "execution_count": 34,
      "outputs": [
        {
          "output_type": "execute_result",
          "data": {
            "text/plain": [
              "Ttest_1sampResult(statistic=6.78499822613274, pvalue=1.1609435334330485e-11)"
            ]
          },
          "metadata": {
            "tags": []
          },
          "execution_count": 34
        }
      ]
    },
    {
      "cell_type": "code",
      "metadata": {
        "id": "7D3MSUeI8D1n",
        "colab_type": "code",
        "colab": {
          "base_uri": "https://localhost:8080/",
          "height": 35
        },
        "outputId": "8e4656af-9e45-421a-ac52-cb9de0170e96"
      },
      "source": [
        "stats.ttest_1samp(coinflips, 0.6)"
      ],
      "execution_count": 35,
      "outputs": [
        {
          "output_type": "execute_result",
          "data": {
            "text/plain": [
              "Ttest_1sampResult(statistic=-625.6719579756601, pvalue=0.0)"
            ]
          },
          "metadata": {
            "tags": []
          },
          "execution_count": 35
        }
      ]
    },
    {
      "cell_type": "code",
      "metadata": {
        "id": "WnWX2xYk8uMj",
        "colab_type": "code",
        "colab": {
          "base_uri": "https://localhost:8080/",
          "height": 53
        },
        "outputId": "f0ee2313-1a50-46a6-dde9-f9e51440b928"
      },
      "source": [
        "coinflips_100 = np.random.binomial(n=1, p=.5, size=100)\n",
        "coinflips_1000 = np.random.binomial(n=1, p=.5, size=1000)\n",
        "\n",
        "print(\"100 Coinflips Standard Deviation:\", np.std(coinflips_100, ddof=1))\n",
        "print(\"1000 Coinflips Standard Deviation:\", np.std(coinflips_1000, ddof=1))"
      ],
      "execution_count": 36,
      "outputs": [
        {
          "output_type": "stream",
          "text": [
            "100 Coinflips Standard Deviation: 0.502518907629606\n",
            "1000 Coinflips Standard Deviation: 0.5000810745080053\n"
          ],
          "name": "stdout"
        }
      ]
    },
    {
      "cell_type": "code",
      "metadata": {
        "id": "Rbg4vvkn82KC",
        "colab_type": "code",
        "colab": {}
      },
      "source": [
        "def my_stdev(sample_data):\n",
        "  mu = sample_data.mean()\n",
        "  diff = sample_data - mu\n",
        "  diff_sq = diff**2\n",
        "  stdev = np.sqrt(diff_sq.sum()/(len(sample_data)-1))\n",
        "  return stdev"
      ],
      "execution_count": 0,
      "outputs": []
    },
    {
      "cell_type": "code",
      "metadata": {
        "id": "DJy7iIeG8zSa",
        "colab_type": "code",
        "colab": {
          "base_uri": "https://localhost:8080/",
          "height": 35
        },
        "outputId": "f40827db-2474-4fcf-fa10-3a67857da67a"
      },
      "source": [
        "delta_100 = my_stdev(coinflips_100)/np.sqrt(100)\n",
        "delta_100"
      ],
      "execution_count": 38,
      "outputs": [
        {
          "output_type": "execute_result",
          "data": {
            "text/plain": [
              "0.050251890762960605"
            ]
          },
          "metadata": {
            "tags": []
          },
          "execution_count": 38
        }
      ]
    },
    {
      "cell_type": "code",
      "metadata": {
        "id": "yA6Dxs1Y89lv",
        "colab_type": "code",
        "colab": {
          "base_uri": "https://localhost:8080/",
          "height": 35
        },
        "outputId": "3260b44f-88d4-42f6-d99b-b09794b4d92d"
      },
      "source": [
        "delta_1000 = my_stdev(coinflips_1000)/np.sqrt(1000)\n",
        "delta_1000"
      ],
      "execution_count": 39,
      "outputs": [
        {
          "output_type": "execute_result",
          "data": {
            "text/plain": [
              "0.01581395210189664"
            ]
          },
          "metadata": {
            "tags": []
          },
          "execution_count": 39
        }
      ]
    },
    {
      "cell_type": "code",
      "metadata": {
        "id": "Hg1F7s2d9GAj",
        "colab_type": "code",
        "colab": {
          "base_uri": "https://localhost:8080/",
          "height": 35
        },
        "outputId": "b104f569-a1dc-4ded-8ab9-54c050d1a7b1"
      },
      "source": [
        "coinflips_1000.mean() - delta_1000"
      ],
      "execution_count": 40,
      "outputs": [
        {
          "output_type": "execute_result",
          "data": {
            "text/plain": [
              "0.4971860478981034"
            ]
          },
          "metadata": {
            "tags": []
          },
          "execution_count": 40
        }
      ]
    },
    {
      "cell_type": "code",
      "metadata": {
        "id": "Y8WlkcXj9ipp",
        "colab_type": "code",
        "colab": {
          "base_uri": "https://localhost:8080/",
          "height": 35
        },
        "outputId": "51a87243-4b06-4f0b-fa93-6933d20c3c73"
      },
      "source": [
        "coinflips_1000.mean() + delta_1000"
      ],
      "execution_count": 41,
      "outputs": [
        {
          "output_type": "execute_result",
          "data": {
            "text/plain": [
              "0.5288139521018966"
            ]
          },
          "metadata": {
            "tags": []
          },
          "execution_count": 41
        }
      ]
    },
    {
      "cell_type": "code",
      "metadata": {
        "id": "XO9mDYto9lZW",
        "colab_type": "code",
        "colab": {
          "base_uri": "https://localhost:8080/",
          "height": 35
        },
        "outputId": "e19b634d-b15b-40b1-e777-d47407763b77"
      },
      "source": [
        "coinflips_100.mean() - delta_100"
      ],
      "execution_count": 42,
      "outputs": [
        {
          "output_type": "execute_result",
          "data": {
            "text/plain": [
              "0.4497481092370394"
            ]
          },
          "metadata": {
            "tags": []
          },
          "execution_count": 42
        }
      ]
    },
    {
      "cell_type": "code",
      "metadata": {
        "id": "cRbAygqN9qvK",
        "colab_type": "code",
        "colab": {
          "base_uri": "https://localhost:8080/",
          "height": 35
        },
        "outputId": "ba80228f-e202-49c3-8f0a-3dd72930b2d5"
      },
      "source": [
        "coinflips_100.mean() + delta_100"
      ],
      "execution_count": 43,
      "outputs": [
        {
          "output_type": "execute_result",
          "data": {
            "text/plain": [
              "0.5502518907629605"
            ]
          },
          "metadata": {
            "tags": []
          },
          "execution_count": 43
        }
      ]
    },
    {
      "cell_type": "markdown",
      "metadata": {
        "id": "11OzdxWTM7UR",
        "colab_type": "text"
      },
      "source": [
        "## Assignment - Build a confidence interval\n",
        "\n",
        "A confidence interval refers to a neighborhood around some point estimate, the size of which is determined by the desired p-value. For instance, we might say that 52% of Americans prefer tacos to burritos, with a 95% confidence interval of +/- 5%.\n",
        "\n",
        "52% (0.52) is the point estimate, and +/- 5% (the interval $[0.47, 0.57]$) is the confidence interval. \"95% confidence\" means a p-value $\\leq 1 - 0.95 = 0.05$.\n",
        "\n",
        "In this case, the confidence interval includes $0.5$ - which is the natural null hypothesis (that half of Americans prefer tacos and half burritos, thus there is no clear favorite). So in this case, we could use the confidence interval to report that we've failed to reject the null hypothesis.\n",
        "\n",
        "But providing the full analysis with a confidence interval, including a graphical representation of it, can be a helpful and powerful way to tell your story. Done well, it is also more intuitive to a layperson than simply saying \"fail to reject the null hypothesis\" - it shows that in fact the data does *not* give a single clear result (the point estimate) but a whole range of possibilities.\n",
        "\n",
        "How is a confidence interval built, and how should it be interpreted? It does *not* mean that 95% of the data lies in that interval - instead, the frequentist interpretation is \"if we were to repeat this experiment 100 times, we would expect the average result to lie in this interval ~95 times.\"\n",
        "\n",
        "For a 95% confidence interval and a normal(-ish) distribution, you can simply remember that +/-2 standard deviations contains 95% of the probability mass, and so the 95% confidence interval based on a given sample is centered at the mean (point estimate) and has a range of +/- 2 (or technically 1.96) standard deviations.\n",
        "\n",
        "Different distributions/assumptions (90% confidence, 99% confidence) will require different math, but the overall process and interpretation (with a frequentist approach) will be the same.\n",
        "\n",
        "Your assignment - using the data from the prior module ([congressional voting records](https://archive.ics.uci.edu/ml/datasets/Congressional+Voting+Records)):\n",
        "\n",
        "1. Generate and numerically represent a confidence interval\n",
        "2. Graphically (with a plot) represent the confidence interval\n",
        "3. Interpret the confidence interval - what does it tell you about the data and its distribution?\n",
        "\n",
        "Stretch goals:\n",
        "\n",
        "1. Write a summary of your findings, mixing prose and math/code/results. *Note* - yes, this is by definition a political topic. It is challenging but important to keep your writing voice *neutral* and stick to the facts of the data. Data science often involves considering controversial issues, so it's important to be sensitive about them (especially if you want to publish).\n",
        "2. Apply the techniques you learned today to your project data or other data of your choice, and write/discuss your findings here.\n",
        "3. Refactor your code so it is elegant, readable, and can be easily run for all issues."
      ]
    },
    {
      "cell_type": "code",
      "metadata": {
        "id": "Ckcr4A4FM7cs",
        "colab_type": "code",
        "colab": {
          "base_uri": "https://localhost:8080/",
          "height": 3523
        },
        "outputId": "dec803f8-18d8-4bcf-df10-9a1a724a62ef"
      },
      "source": [
        "\n",
        "\n",
        "columns = ['party', 'handicapped-infants', 'water-project-cost-sharing', \n",
        "           'adoption-of-the-budget-resolution', 'physician-fee-freeze', \n",
        "           'el-salvador-aid', 'religious-groups-in-schools', \n",
        "           'anti-satellite-test-ban', 'aid-to-nicaraguan-contras', \n",
        "           'mx-missile', 'immigration', 'synfuels-corporation-cutback', \n",
        "           'education-spending', 'superfund-right-to-sue', 'crime', \n",
        "           'duty-free-exports', 'export-administration-act-south-africa']!curl 'https://archive.ics.uci.edu/ml/machine-learning-databases/voting-records/house-votes-84.names'"
      ],
      "execution_count": 44,
      "outputs": [
        {
          "output_type": "stream",
          "text": [
            "1. Title: 1984 United States Congressional Voting Records Database\n",
            "\n",
            "2. Source Information:\n",
            "    (a) Source:  Congressional Quarterly Almanac, 98th Congress, \n",
            "                 2nd session 1984, Volume XL: Congressional Quarterly Inc. \n",
            "                 Washington, D.C., 1985.\n",
            "    (b) Donor: Jeff Schlimmer (Jeffrey.Schlimmer@a.gp.cs.cmu.edu)\n",
            "    (c) Date: 27 April 1987 \n",
            "\n",
            "3. Past Usage\n",
            "   - Publications\n",
            "     1. Schlimmer, J. C. (1987).  Concept acquisition through \n",
            "        representational adjustment.  Doctoral dissertation, Department of \n",
            "        Information and Computer Science, University of California, Irvine, CA.\n",
            "        -- Results: about 90%-95% accuracy appears to be STAGGER's asymptote\n",
            "     - Predicted attribute: party affiliation (2 classes)\n",
            "\n",
            "4. Relevant Information:\n",
            "      This data set includes votes for each of the U.S. House of\n",
            "      Representatives Congressmen on the 16 key votes identified by the\n",
            "      CQA.  The CQA lists nine different types of votes: voted for, paired\n",
            "      for, and announced for (these three simplified to yea), voted\n",
            "      against, paired against, and announced against (these three\n",
            "      simplified to nay), voted present, voted present to avoid conflict\n",
            "      of interest, and did not vote or otherwise make a position known\n",
            "      (these three simplified to an unknown disposition).\n",
            "\n",
            "5. Number of Instances: 435 (267 democrats, 168 republicans)\n",
            "\n",
            "6. Number of Attributes: 16 + class name = 17 (all Boolean valued)\n",
            "\n",
            "7. Attribute Information:\n",
            "   1. Class Name: 2 (democrat, republican)\n",
            "   2. handicapped-infants: 2 (y,n)\n",
            "   3. water-project-cost-sharing: 2 (y,n)\n",
            "   4. adoption-of-the-budget-resolution: 2 (y,n)\n",
            "   5. physician-fee-freeze: 2 (y,n)\n",
            "   6. el-salvador-aid: 2 (y,n)\n",
            "   7. religious-groups-in-schools: 2 (y,n)\n",
            "   8. anti-satellite-test-ban: 2 (y,n)\n",
            "   9. aid-to-nicaraguan-contras: 2 (y,n)\n",
            "  10. mx-missile: 2 (y,n)\n",
            "  11. immigration: 2 (y,n)\n",
            "  12. synfuels-corporation-cutback: 2 (y,n)\n",
            "  13. education-spending: 2 (y,n)\n",
            "  14. superfund-right-to-sue: 2 (y,n)\n",
            "  15. crime: 2 (y,n)\n",
            "  16. duty-free-exports: 2 (y,n)\n",
            "  17. export-administration-act-south-africa: 2 (y,n)\n",
            "\n",
            "8. Missing Attribute Values: Denoted by \"?\"\n",
            "\n",
            "   NOTE: It is important to recognize that \"?\" in this database does \n",
            "         not mean that the value of the attribute is unknown.  It \n",
            "         means simply, that the value is not \"yea\" or \"nay\" (see \n",
            "         \"Relevant Information\" section above).\n",
            "\n",
            "   Attribute:  #Missing Values:\n",
            "           1:  0\n",
            "           2:  0\n",
            "           3:  12\n",
            "           4:  48\n",
            "           5:  11\n",
            "           6:  11\n",
            "           7:  15\n",
            "           8:  11\n",
            "           9:  14\n",
            "          10:  15\n",
            "          11:  22\n",
            "          12:  7\n",
            "          13:  21\n",
            "          14:  31\n",
            "          15:  25\n",
            "          16:  17\n",
            "          17:  28\n",
            "\n",
            "9. Class Distribution: (2 classes)\n",
            "   1. 45.2 percent are democrat\n",
            "   2. 54.8 percent are republican\n",
            "\n",
            "Class predictiveness and predictability: Pr(C|A=V) and Pr(A=V|C)\n",
            " Attribute 1: (A = handicapped-infants)\n",
            "  0.91;  1.21  (C=democrat; V=y)\n",
            "  0.09;  0.10  (C=republican; V=y)\n",
            "  0.43;  0.38  (C=democrat; V=n)\n",
            "  0.57;  0.41  (C=republican; V=n)\n",
            "  0.75;  0.03  (C=democrat; V=?)\n",
            "  0.25;  0.01  (C=republican; V=?)\n",
            " Attribute 2: (A = water-project-cost-sharing)\n",
            "  0.62;  0.45  (C=democrat; V=y)\n",
            "  0.38;  0.23  (C=republican; V=y)\n",
            "  0.62;  0.45  (C=democrat; V=n)\n",
            "  0.38;  0.23  (C=republican; V=n)\n",
            "  0.58;  0.10  (C=democrat; V=?)\n",
            "  0.42;  0.06  (C=republican; V=?)\n",
            " Attribute 3: (A = adoption-of-the-budget-resolution)\n",
            "  0.91;  0.87  (C=democrat; V=y)\n",
            "  0.09;  0.07  (C=republican; V=y)\n",
            "  0.17;  0.11  (C=democrat; V=n)\n",
            "  0.83;  0.44  (C=republican; V=n)\n",
            "  0.64;  0.03  (C=democrat; V=?)\n",
            "  0.36;  0.01  (C=republican; V=?)\n",
            " Attribute 4: (A = physician-fee-freeze)\n",
            "  0.08;  0.05  (C=democrat; V=y)\n",
            "  0.92;  0.50  (C=republican; V=y)\n",
            "  0.99;  0.92  (C=democrat; V=n)\n",
            "  0.01;  0.01  (C=republican; V=n)\n",
            "  0.73;  0.03  (C=democrat; V=?)\n",
            "  0.27;  0.01  (C=republican; V=?)\n",
            " Attribute 5: (A = el-salvador-aid)\n",
            "  0.26;  0.21  (C=democrat; V=y)\n",
            "  0.74;  0.48  (C=republican; V=y)\n",
            "  0.96;  0.75  (C=democrat; V=n)\n",
            "  0.04;  0.02  (C=republican; V=n)\n",
            "  0.80;  0.04  (C=democrat; V=?)\n",
            "  0.20;  0.01  (C=republican; V=?)\n",
            " Attribute 6: (A = religious-groups-in-schools)\n",
            "  0.45;  0.46  (C=democrat; V=y)\n",
            "  0.55;  0.46  (C=republican; V=y)\n",
            "  0.89;  0.51  (C=democrat; V=n)\n",
            "  0.11;  0.05  (C=republican; V=n)\n",
            "  0.82;  0.03  (C=democrat; V=?)\n",
            "  0.18;  0.01  (C=republican; V=?)\n",
            " Attribute 7: (A = anti-satellite-test-ban)\n",
            "  0.84;  0.75  (C=democrat; V=y)\n",
            "  0.16;  0.12  (C=republican; V=y)\n",
            "  0.32;  0.22  (C=democrat; V=n)\n",
            "  0.68;  0.38  (C=republican; V=n)\n",
            "  0.57;  0.03  (C=democrat; V=?)\n",
            "  0.43;  0.02  (C=republican; V=?)\n",
            " Attribute 8: (A = aid-to-nicaraguan-contras)\n",
            "  0.90;  0.82  (C=democrat; V=y)\n",
            "  0.10;  0.07  (C=republican; V=y)\n",
            "  0.25;  0.17  (C=democrat; V=n)\n",
            "  0.75;  0.41  (C=republican; V=n)\n",
            "  0.27;  0.01  (C=democrat; V=?)\n",
            "  0.73;  0.03  (C=republican; V=?)\n",
            " Attribute 9: (A = mx-missile)\n",
            "  0.91;  0.70  (C=democrat; V=y)\n",
            "  0.09;  0.06  (C=republican; V=y)\n",
            "  0.29;  0.22  (C=democrat; V=n)\n",
            "  0.71;  0.45  (C=republican; V=n)\n",
            "  0.86;  0.07  (C=democrat; V=?)\n",
            "  0.14;  0.01  (C=republican; V=?)\n",
            " Attribute 10: (A = immigration)\n",
            "  0.57;  0.46  (C=democrat; V=y)\n",
            "  0.43;  0.28  (C=republican; V=y)\n",
            "  0.66;  0.52  (C=democrat; V=n)\n",
            "  0.34;  0.23  (C=republican; V=n)\n",
            "  0.57;  0.01  (C=democrat; V=?)\n",
            "  0.43;  0.01  (C=republican; V=?)\n",
            " Attribute 11: (A = synfuels-corporation-cutback)\n",
            "  0.86;  0.48  (C=democrat; V=y)\n",
            "  0.14;  0.06  (C=republican; V=y)\n",
            "  0.48;  0.47  (C=democrat; V=n)\n",
            "  0.52;  0.43  (C=republican; V=n)\n",
            "  0.57;  0.04  (C=democrat; V=?)\n",
            "  0.43;  0.03  (C=republican; V=?)\n",
            " Attribute 12: (A = education-spending)\n",
            "  0.21;  0.13  (C=democrat; V=y)\n",
            "  0.79;  0.42  (C=republican; V=y)\n",
            "  0.91;  0.80  (C=democrat; V=n)\n",
            "  0.09;  0.06  (C=republican; V=n)\n",
            "  0.58;  0.07  (C=democrat; V=?)\n",
            "  0.42;  0.04  (C=republican; V=?)\n",
            " Attribute 13: (A = superfund-right-to-sue)\n",
            "  0.35;  0.27  (C=democrat; V=y)\n",
            "  0.65;  0.42  (C=republican; V=y)\n",
            "  0.89;  0.67  (C=democrat; V=n)\n",
            "  0.11;  0.07  (C=republican; V=n)\n",
            "  0.60;  0.06  (C=democrat; V=?)\n",
            "  0.40;  0.03  (C=republican; V=?)\n",
            " Attribute 14: (A = crime)\n",
            "  0.36;  0.34  (C=democrat; V=y)\n",
            "  0.64;  0.49  (C=republican; V=y)\n",
            "  0.98;  0.63  (C=democrat; V=n)\n",
            "  0.02;  0.01  (C=republican; V=n)\n",
            "  0.59;  0.04  (C=democrat; V=?)\n",
            "  0.41;  0.02  (C=republican; V=?)\n",
            " Attribute 15: (A = duty-free-exports)\n",
            "  0.92;  0.60  (C=democrat; V=y)\n",
            "  0.08;  0.04  (C=republican; V=y)\n",
            "  0.39;  0.34  (C=democrat; V=n)\n",
            "  0.61;  0.44  (C=republican; V=n)\n",
            "  0.57;  0.06  (C=democrat; V=?)\n",
            "  0.43;  0.04  (C=republican; V=?)\n",
            " Attribute 16: (A = export-administration-act-south-africa)\n",
            "  0.64;  0.65  (C=democrat; V=y)\n",
            "  0.36;  0.30  (C=republican; V=y)\n",
            "  0.19;  0.04  (C=democrat; V=n)\n",
            "  0.81;  0.15  (C=republican; V=n)\n",
            "  0.79;  0.31  (C=democrat; V=?)\n",
            "  0.21;  0.07  (C=republican; V=?)\n"
          ],
          "name": "stdout"
        }
      ]
    },
    {
      "cell_type": "code",
      "metadata": {
        "id": "vgdjHN23C9JO",
        "colab_type": "code",
        "colab": {
          "base_uri": "https://localhost:8080/",
          "height": 278
        },
        "outputId": "cefe2412-3055-42ae-ec90-b1ca97d4c26b"
      },
      "source": [
        "names = ['party', 'handicapped-infants', 'water-project-cost-sharing', \n",
        "           'adoption-of-the-budget-resolution', 'physician-fee-freeze', \n",
        "           'el-salvador-aid', 'religious-groups-in-schools', \n",
        "           'anti-satellite-test-ban', 'aid-to-nicaraguan-contras', \n",
        "           'mx-missile', 'immigration', 'synfuels-corporation-cutback', \n",
        "           'education-spending', 'superfund-right-to-sue', 'crime', \n",
        "           'duty-free-exports', 'export-administration-act-south-africa']\n",
        "\n",
        "df = pd.read_csv('https://archive.ics.uci.edu/ml/machine-learning-databases/'\n",
        "                 'voting-records/house-votes-84.data', header=None,\n",
        "                 names=names, na_values='?')\n",
        "df.head()"
      ],
      "execution_count": 45,
      "outputs": [
        {
          "output_type": "execute_result",
          "data": {
            "text/html": [
              "<div>\n",
              "<style scoped>\n",
              "    .dataframe tbody tr th:only-of-type {\n",
              "        vertical-align: middle;\n",
              "    }\n",
              "\n",
              "    .dataframe tbody tr th {\n",
              "        vertical-align: top;\n",
              "    }\n",
              "\n",
              "    .dataframe thead th {\n",
              "        text-align: right;\n",
              "    }\n",
              "</style>\n",
              "<table border=\"1\" class=\"dataframe\">\n",
              "  <thead>\n",
              "    <tr style=\"text-align: right;\">\n",
              "      <th></th>\n",
              "      <th>party</th>\n",
              "      <th>handicapped-infants</th>\n",
              "      <th>water-project-cost-sharing</th>\n",
              "      <th>adoption-of-the-budget-resolution</th>\n",
              "      <th>physician-fee-freeze</th>\n",
              "      <th>el-salvador-aid</th>\n",
              "      <th>religious-groups-in-schools</th>\n",
              "      <th>anti-satellite-test-ban</th>\n",
              "      <th>aid-to-nicaraguan-contras</th>\n",
              "      <th>mx-missile</th>\n",
              "      <th>immigration</th>\n",
              "      <th>synfuels-corporation-cutback</th>\n",
              "      <th>education-spending</th>\n",
              "      <th>superfund-right-to-sue</th>\n",
              "      <th>crime</th>\n",
              "      <th>duty-free-exports</th>\n",
              "      <th>export-administration-act-south-africa</th>\n",
              "    </tr>\n",
              "  </thead>\n",
              "  <tbody>\n",
              "    <tr>\n",
              "      <th>0</th>\n",
              "      <td>republican</td>\n",
              "      <td>n</td>\n",
              "      <td>y</td>\n",
              "      <td>n</td>\n",
              "      <td>y</td>\n",
              "      <td>y</td>\n",
              "      <td>y</td>\n",
              "      <td>n</td>\n",
              "      <td>n</td>\n",
              "      <td>n</td>\n",
              "      <td>y</td>\n",
              "      <td>NaN</td>\n",
              "      <td>y</td>\n",
              "      <td>y</td>\n",
              "      <td>y</td>\n",
              "      <td>n</td>\n",
              "      <td>y</td>\n",
              "    </tr>\n",
              "    <tr>\n",
              "      <th>1</th>\n",
              "      <td>republican</td>\n",
              "      <td>n</td>\n",
              "      <td>y</td>\n",
              "      <td>n</td>\n",
              "      <td>y</td>\n",
              "      <td>y</td>\n",
              "      <td>y</td>\n",
              "      <td>n</td>\n",
              "      <td>n</td>\n",
              "      <td>n</td>\n",
              "      <td>n</td>\n",
              "      <td>n</td>\n",
              "      <td>y</td>\n",
              "      <td>y</td>\n",
              "      <td>y</td>\n",
              "      <td>n</td>\n",
              "      <td>NaN</td>\n",
              "    </tr>\n",
              "    <tr>\n",
              "      <th>2</th>\n",
              "      <td>democrat</td>\n",
              "      <td>NaN</td>\n",
              "      <td>y</td>\n",
              "      <td>y</td>\n",
              "      <td>NaN</td>\n",
              "      <td>y</td>\n",
              "      <td>y</td>\n",
              "      <td>n</td>\n",
              "      <td>n</td>\n",
              "      <td>n</td>\n",
              "      <td>n</td>\n",
              "      <td>y</td>\n",
              "      <td>n</td>\n",
              "      <td>y</td>\n",
              "      <td>y</td>\n",
              "      <td>n</td>\n",
              "      <td>n</td>\n",
              "    </tr>\n",
              "    <tr>\n",
              "      <th>3</th>\n",
              "      <td>democrat</td>\n",
              "      <td>n</td>\n",
              "      <td>y</td>\n",
              "      <td>y</td>\n",
              "      <td>n</td>\n",
              "      <td>NaN</td>\n",
              "      <td>y</td>\n",
              "      <td>n</td>\n",
              "      <td>n</td>\n",
              "      <td>n</td>\n",
              "      <td>n</td>\n",
              "      <td>y</td>\n",
              "      <td>n</td>\n",
              "      <td>y</td>\n",
              "      <td>n</td>\n",
              "      <td>n</td>\n",
              "      <td>y</td>\n",
              "    </tr>\n",
              "    <tr>\n",
              "      <th>4</th>\n",
              "      <td>democrat</td>\n",
              "      <td>y</td>\n",
              "      <td>y</td>\n",
              "      <td>y</td>\n",
              "      <td>n</td>\n",
              "      <td>y</td>\n",
              "      <td>y</td>\n",
              "      <td>n</td>\n",
              "      <td>n</td>\n",
              "      <td>n</td>\n",
              "      <td>n</td>\n",
              "      <td>y</td>\n",
              "      <td>NaN</td>\n",
              "      <td>y</td>\n",
              "      <td>y</td>\n",
              "      <td>y</td>\n",
              "      <td>y</td>\n",
              "    </tr>\n",
              "  </tbody>\n",
              "</table>\n",
              "</div>"
            ],
            "text/plain": [
              "        party  ... export-administration-act-south-africa\n",
              "0  republican  ...                                      y\n",
              "1  republican  ...                                    NaN\n",
              "2    democrat  ...                                      n\n",
              "3    democrat  ...                                      y\n",
              "4    democrat  ...                                      y\n",
              "\n",
              "[5 rows x 17 columns]"
            ]
          },
          "metadata": {
            "tags": []
          },
          "execution_count": 45
        }
      ]
    },
    {
      "cell_type": "code",
      "metadata": {
        "id": "yK_TZpCh58rF",
        "colab_type": "code",
        "colab": {
          "base_uri": "https://localhost:8080/",
          "height": 278
        },
        "outputId": "27fc788d-e3c7-4627-bf01-5351f25baaf3"
      },
      "source": [
        "df = df.replace({'n': 0, 'y': 1})\n",
        "df.head()"
      ],
      "execution_count": 46,
      "outputs": [
        {
          "output_type": "execute_result",
          "data": {
            "text/html": [
              "<div>\n",
              "<style scoped>\n",
              "    .dataframe tbody tr th:only-of-type {\n",
              "        vertical-align: middle;\n",
              "    }\n",
              "\n",
              "    .dataframe tbody tr th {\n",
              "        vertical-align: top;\n",
              "    }\n",
              "\n",
              "    .dataframe thead th {\n",
              "        text-align: right;\n",
              "    }\n",
              "</style>\n",
              "<table border=\"1\" class=\"dataframe\">\n",
              "  <thead>\n",
              "    <tr style=\"text-align: right;\">\n",
              "      <th></th>\n",
              "      <th>party</th>\n",
              "      <th>handicapped-infants</th>\n",
              "      <th>water-project-cost-sharing</th>\n",
              "      <th>adoption-of-the-budget-resolution</th>\n",
              "      <th>physician-fee-freeze</th>\n",
              "      <th>el-salvador-aid</th>\n",
              "      <th>religious-groups-in-schools</th>\n",
              "      <th>anti-satellite-test-ban</th>\n",
              "      <th>aid-to-nicaraguan-contras</th>\n",
              "      <th>mx-missile</th>\n",
              "      <th>immigration</th>\n",
              "      <th>synfuels-corporation-cutback</th>\n",
              "      <th>education-spending</th>\n",
              "      <th>superfund-right-to-sue</th>\n",
              "      <th>crime</th>\n",
              "      <th>duty-free-exports</th>\n",
              "      <th>export-administration-act-south-africa</th>\n",
              "    </tr>\n",
              "  </thead>\n",
              "  <tbody>\n",
              "    <tr>\n",
              "      <th>0</th>\n",
              "      <td>republican</td>\n",
              "      <td>0.0</td>\n",
              "      <td>1.0</td>\n",
              "      <td>0.0</td>\n",
              "      <td>1.0</td>\n",
              "      <td>1.0</td>\n",
              "      <td>1.0</td>\n",
              "      <td>0.0</td>\n",
              "      <td>0.0</td>\n",
              "      <td>0.0</td>\n",
              "      <td>1.0</td>\n",
              "      <td>NaN</td>\n",
              "      <td>1.0</td>\n",
              "      <td>1.0</td>\n",
              "      <td>1.0</td>\n",
              "      <td>0.0</td>\n",
              "      <td>1.0</td>\n",
              "    </tr>\n",
              "    <tr>\n",
              "      <th>1</th>\n",
              "      <td>republican</td>\n",
              "      <td>0.0</td>\n",
              "      <td>1.0</td>\n",
              "      <td>0.0</td>\n",
              "      <td>1.0</td>\n",
              "      <td>1.0</td>\n",
              "      <td>1.0</td>\n",
              "      <td>0.0</td>\n",
              "      <td>0.0</td>\n",
              "      <td>0.0</td>\n",
              "      <td>0.0</td>\n",
              "      <td>0.0</td>\n",
              "      <td>1.0</td>\n",
              "      <td>1.0</td>\n",
              "      <td>1.0</td>\n",
              "      <td>0.0</td>\n",
              "      <td>NaN</td>\n",
              "    </tr>\n",
              "    <tr>\n",
              "      <th>2</th>\n",
              "      <td>democrat</td>\n",
              "      <td>NaN</td>\n",
              "      <td>1.0</td>\n",
              "      <td>1.0</td>\n",
              "      <td>NaN</td>\n",
              "      <td>1.0</td>\n",
              "      <td>1.0</td>\n",
              "      <td>0.0</td>\n",
              "      <td>0.0</td>\n",
              "      <td>0.0</td>\n",
              "      <td>0.0</td>\n",
              "      <td>1.0</td>\n",
              "      <td>0.0</td>\n",
              "      <td>1.0</td>\n",
              "      <td>1.0</td>\n",
              "      <td>0.0</td>\n",
              "      <td>0.0</td>\n",
              "    </tr>\n",
              "    <tr>\n",
              "      <th>3</th>\n",
              "      <td>democrat</td>\n",
              "      <td>0.0</td>\n",
              "      <td>1.0</td>\n",
              "      <td>1.0</td>\n",
              "      <td>0.0</td>\n",
              "      <td>NaN</td>\n",
              "      <td>1.0</td>\n",
              "      <td>0.0</td>\n",
              "      <td>0.0</td>\n",
              "      <td>0.0</td>\n",
              "      <td>0.0</td>\n",
              "      <td>1.0</td>\n",
              "      <td>0.0</td>\n",
              "      <td>1.0</td>\n",
              "      <td>0.0</td>\n",
              "      <td>0.0</td>\n",
              "      <td>1.0</td>\n",
              "    </tr>\n",
              "    <tr>\n",
              "      <th>4</th>\n",
              "      <td>democrat</td>\n",
              "      <td>1.0</td>\n",
              "      <td>1.0</td>\n",
              "      <td>1.0</td>\n",
              "      <td>0.0</td>\n",
              "      <td>1.0</td>\n",
              "      <td>1.0</td>\n",
              "      <td>0.0</td>\n",
              "      <td>0.0</td>\n",
              "      <td>0.0</td>\n",
              "      <td>0.0</td>\n",
              "      <td>1.0</td>\n",
              "      <td>NaN</td>\n",
              "      <td>1.0</td>\n",
              "      <td>1.0</td>\n",
              "      <td>1.0</td>\n",
              "      <td>1.0</td>\n",
              "    </tr>\n",
              "  </tbody>\n",
              "</table>\n",
              "</div>"
            ],
            "text/plain": [
              "        party  ...  export-administration-act-south-africa\n",
              "0  republican  ...                                     1.0\n",
              "1  republican  ...                                     NaN\n",
              "2    democrat  ...                                     0.0\n",
              "3    democrat  ...                                     1.0\n",
              "4    democrat  ...                                     1.0\n",
              "\n",
              "[5 rows x 17 columns]"
            ]
          },
          "metadata": {
            "tags": []
          },
          "execution_count": 46
        }
      ]
    },
    {
      "cell_type": "code",
      "metadata": {
        "id": "2-8b7nx4D3YG",
        "colab_type": "code",
        "colab": {
          "base_uri": "https://localhost:8080/",
          "height": 372
        },
        "outputId": "eace0bb4-028f-4f69-abe1-9e556533e6eb"
      },
      "source": [
        "df.describe()"
      ],
      "execution_count": 47,
      "outputs": [
        {
          "output_type": "execute_result",
          "data": {
            "text/html": [
              "<div>\n",
              "<style scoped>\n",
              "    .dataframe tbody tr th:only-of-type {\n",
              "        vertical-align: middle;\n",
              "    }\n",
              "\n",
              "    .dataframe tbody tr th {\n",
              "        vertical-align: top;\n",
              "    }\n",
              "\n",
              "    .dataframe thead th {\n",
              "        text-align: right;\n",
              "    }\n",
              "</style>\n",
              "<table border=\"1\" class=\"dataframe\">\n",
              "  <thead>\n",
              "    <tr style=\"text-align: right;\">\n",
              "      <th></th>\n",
              "      <th>handicapped-infants</th>\n",
              "      <th>water-project-cost-sharing</th>\n",
              "      <th>adoption-of-the-budget-resolution</th>\n",
              "      <th>physician-fee-freeze</th>\n",
              "      <th>el-salvador-aid</th>\n",
              "      <th>religious-groups-in-schools</th>\n",
              "      <th>anti-satellite-test-ban</th>\n",
              "      <th>aid-to-nicaraguan-contras</th>\n",
              "      <th>mx-missile</th>\n",
              "      <th>immigration</th>\n",
              "      <th>synfuels-corporation-cutback</th>\n",
              "      <th>education-spending</th>\n",
              "      <th>superfund-right-to-sue</th>\n",
              "      <th>crime</th>\n",
              "      <th>duty-free-exports</th>\n",
              "      <th>export-administration-act-south-africa</th>\n",
              "    </tr>\n",
              "  </thead>\n",
              "  <tbody>\n",
              "    <tr>\n",
              "      <th>count</th>\n",
              "      <td>423.000000</td>\n",
              "      <td>387.000000</td>\n",
              "      <td>424.000000</td>\n",
              "      <td>424.000000</td>\n",
              "      <td>420.000000</td>\n",
              "      <td>424.000000</td>\n",
              "      <td>421.000000</td>\n",
              "      <td>420.00000</td>\n",
              "      <td>413.000000</td>\n",
              "      <td>428.000000</td>\n",
              "      <td>414.000000</td>\n",
              "      <td>404.000000</td>\n",
              "      <td>410.000000</td>\n",
              "      <td>418.000000</td>\n",
              "      <td>407.000000</td>\n",
              "      <td>331.000000</td>\n",
              "    </tr>\n",
              "    <tr>\n",
              "      <th>mean</th>\n",
              "      <td>0.442080</td>\n",
              "      <td>0.503876</td>\n",
              "      <td>0.596698</td>\n",
              "      <td>0.417453</td>\n",
              "      <td>0.504762</td>\n",
              "      <td>0.641509</td>\n",
              "      <td>0.567696</td>\n",
              "      <td>0.57619</td>\n",
              "      <td>0.501211</td>\n",
              "      <td>0.504673</td>\n",
              "      <td>0.362319</td>\n",
              "      <td>0.423267</td>\n",
              "      <td>0.509756</td>\n",
              "      <td>0.593301</td>\n",
              "      <td>0.427518</td>\n",
              "      <td>0.812689</td>\n",
              "    </tr>\n",
              "    <tr>\n",
              "      <th>std</th>\n",
              "      <td>0.497222</td>\n",
              "      <td>0.500632</td>\n",
              "      <td>0.491140</td>\n",
              "      <td>0.493721</td>\n",
              "      <td>0.500574</td>\n",
              "      <td>0.480124</td>\n",
              "      <td>0.495985</td>\n",
              "      <td>0.49475</td>\n",
              "      <td>0.500605</td>\n",
              "      <td>0.500563</td>\n",
              "      <td>0.481252</td>\n",
              "      <td>0.494690</td>\n",
              "      <td>0.500516</td>\n",
              "      <td>0.491806</td>\n",
              "      <td>0.495327</td>\n",
              "      <td>0.390752</td>\n",
              "    </tr>\n",
              "    <tr>\n",
              "      <th>min</th>\n",
              "      <td>0.000000</td>\n",
              "      <td>0.000000</td>\n",
              "      <td>0.000000</td>\n",
              "      <td>0.000000</td>\n",
              "      <td>0.000000</td>\n",
              "      <td>0.000000</td>\n",
              "      <td>0.000000</td>\n",
              "      <td>0.00000</td>\n",
              "      <td>0.000000</td>\n",
              "      <td>0.000000</td>\n",
              "      <td>0.000000</td>\n",
              "      <td>0.000000</td>\n",
              "      <td>0.000000</td>\n",
              "      <td>0.000000</td>\n",
              "      <td>0.000000</td>\n",
              "      <td>0.000000</td>\n",
              "    </tr>\n",
              "    <tr>\n",
              "      <th>25%</th>\n",
              "      <td>0.000000</td>\n",
              "      <td>0.000000</td>\n",
              "      <td>0.000000</td>\n",
              "      <td>0.000000</td>\n",
              "      <td>0.000000</td>\n",
              "      <td>0.000000</td>\n",
              "      <td>0.000000</td>\n",
              "      <td>0.00000</td>\n",
              "      <td>0.000000</td>\n",
              "      <td>0.000000</td>\n",
              "      <td>0.000000</td>\n",
              "      <td>0.000000</td>\n",
              "      <td>0.000000</td>\n",
              "      <td>0.000000</td>\n",
              "      <td>0.000000</td>\n",
              "      <td>1.000000</td>\n",
              "    </tr>\n",
              "    <tr>\n",
              "      <th>50%</th>\n",
              "      <td>0.000000</td>\n",
              "      <td>1.000000</td>\n",
              "      <td>1.000000</td>\n",
              "      <td>0.000000</td>\n",
              "      <td>1.000000</td>\n",
              "      <td>1.000000</td>\n",
              "      <td>1.000000</td>\n",
              "      <td>1.00000</td>\n",
              "      <td>1.000000</td>\n",
              "      <td>1.000000</td>\n",
              "      <td>0.000000</td>\n",
              "      <td>0.000000</td>\n",
              "      <td>1.000000</td>\n",
              "      <td>1.000000</td>\n",
              "      <td>0.000000</td>\n",
              "      <td>1.000000</td>\n",
              "    </tr>\n",
              "    <tr>\n",
              "      <th>75%</th>\n",
              "      <td>1.000000</td>\n",
              "      <td>1.000000</td>\n",
              "      <td>1.000000</td>\n",
              "      <td>1.000000</td>\n",
              "      <td>1.000000</td>\n",
              "      <td>1.000000</td>\n",
              "      <td>1.000000</td>\n",
              "      <td>1.00000</td>\n",
              "      <td>1.000000</td>\n",
              "      <td>1.000000</td>\n",
              "      <td>1.000000</td>\n",
              "      <td>1.000000</td>\n",
              "      <td>1.000000</td>\n",
              "      <td>1.000000</td>\n",
              "      <td>1.000000</td>\n",
              "      <td>1.000000</td>\n",
              "    </tr>\n",
              "    <tr>\n",
              "      <th>max</th>\n",
              "      <td>1.000000</td>\n",
              "      <td>1.000000</td>\n",
              "      <td>1.000000</td>\n",
              "      <td>1.000000</td>\n",
              "      <td>1.000000</td>\n",
              "      <td>1.000000</td>\n",
              "      <td>1.000000</td>\n",
              "      <td>1.00000</td>\n",
              "      <td>1.000000</td>\n",
              "      <td>1.000000</td>\n",
              "      <td>1.000000</td>\n",
              "      <td>1.000000</td>\n",
              "      <td>1.000000</td>\n",
              "      <td>1.000000</td>\n",
              "      <td>1.000000</td>\n",
              "      <td>1.000000</td>\n",
              "    </tr>\n",
              "  </tbody>\n",
              "</table>\n",
              "</div>"
            ],
            "text/plain": [
              "       handicapped-infants  ...  export-administration-act-south-africa\n",
              "count           423.000000  ...                              331.000000\n",
              "mean              0.442080  ...                                0.812689\n",
              "std               0.497222  ...                                0.390752\n",
              "min               0.000000  ...                                0.000000\n",
              "25%               0.000000  ...                                1.000000\n",
              "50%               0.000000  ...                                1.000000\n",
              "75%               1.000000  ...                                1.000000\n",
              "max               1.000000  ...                                1.000000\n",
              "\n",
              "[8 rows x 16 columns]"
            ]
          },
          "metadata": {
            "tags": []
          },
          "execution_count": 47
        }
      ]
    },
    {
      "cell_type": "code",
      "metadata": {
        "id": "4elE9TZpD5YG",
        "colab_type": "code",
        "colab": {}
      },
      "source": [
        ""
      ],
      "execution_count": 0,
      "outputs": []
    },
    {
      "cell_type": "markdown",
      "metadata": {
        "id": "nyJ3ySr7R2k9",
        "colab_type": "text"
      },
      "source": [
        "## Resources\n",
        "\n",
        "- [Interactive visualize the Chi-Squared test](https://homepage.divms.uiowa.edu/~mbognar/applets/chisq.html)\n",
        "- [Calculation of Chi-Squared test statistic](https://en.wikipedia.org/wiki/Pearson%27s_chi-squared_test)\n",
        "- [Visualization of a confidence interval generated by R code](https://commons.wikimedia.org/wiki/File:Confidence-interval.svg)\n",
        "- [Expected value of a squared standard normal](https://math.stackexchange.com/questions/264061/expected-value-calculation-for-squared-normal-distribution) (it's 1 - which is why the expected value of a Chi-Squared with $n$ degrees of freedom is $n$, as it's the sum of $n$ squared standard normals)"
      ]
    }
  ]
}