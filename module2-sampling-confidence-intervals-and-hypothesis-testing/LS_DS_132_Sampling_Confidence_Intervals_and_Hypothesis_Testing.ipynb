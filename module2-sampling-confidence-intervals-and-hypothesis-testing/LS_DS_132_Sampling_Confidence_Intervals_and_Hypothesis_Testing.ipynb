{
  "nbformat": 4,
  "nbformat_minor": 0,
  "metadata": {
    "colab": {
      "name": "LS_DS6_132_Sampling_Confidence_Intervals_and_Hypothesis_Testing.ipynb",
      "version": "0.3.2",
      "provenance": [],
      "collapsed_sections": [],
      "include_colab_link": true
    },
    "kernelspec": {
      "name": "python3",
      "display_name": "Python 3"
    }
  },
  "cells": [
    {
      "cell_type": "markdown",
      "metadata": {
        "id": "view-in-github",
        "colab_type": "text"
      },
      "source": [
        "<a href=\"https://colab.research.google.com/github/adphelps/DS-Unit-1-Sprint-3-Statistical-Tests-and-Experiments/blob/master/module2-sampling-confidence-intervals-and-hypothesis-testing/LS_DS_132_Sampling_Confidence_Intervals_and_Hypothesis_Testing.ipynb\" target=\"_parent\"><img src=\"https://colab.research.google.com/assets/colab-badge.svg\" alt=\"Open In Colab\"/></a>"
      ]
    },
    {
      "cell_type": "markdown",
      "metadata": {
        "id": "838Dmw1kM2LK",
        "colab_type": "text"
      },
      "source": [
        "# Lambda School Data Science Module 132\n",
        "## Sampling, Confidence Intervals, and Hypothesis Testing"
      ]
    },
    {
      "cell_type": "markdown",
      "metadata": {
        "id": "dbcPKIo5M6Ny",
        "colab_type": "text"
      },
      "source": [
        "## Prepare - examine other available hypothesis tests\n",
        "\n",
        "If you had to pick a single hypothesis test in your toolbox, t-test would probably be the best choice - but the good news is you don't have to pick just one! Here's some of the others to be aware of:"
      ]
    },
    {
      "cell_type": "code",
      "metadata": {
        "id": "tlBel8j9M6tB",
        "colab_type": "code",
        "outputId": "1d4d1db0-3425-4851-974e-72b914e36dd3",
        "colab": {
          "base_uri": "https://localhost:8080/",
          "height": 187
        }
      },
      "source": [
        "import numpy as np\n",
        "from scipy.stats import chisquare  # One-way chi square test\n",
        "\n",
        "# Chi square can take any crosstab/table and test the independence of rows/cols\n",
        "# The null hypothesis is that the rows/cols are independent -> low chi square\n",
        "# The alternative is that there is a dependence -> high chi square\n",
        "# Be aware! Chi square does *not* tell you direction/causation\n",
        "\n",
        "ind_obs = np.array([[1, 1], [2, 2]]).T\n",
        "print(ind_obs)\n",
        "print(chisquare(ind_obs, axis=None))\n",
        "\n",
        "dep_obs = np.array([[16, 18, 16, 14, 12, 12], [32, 24, 16, 28, 20, 24]]).T\n",
        "print(dep_obs)\n",
        "print(chisquare(dep_obs, axis=None))"
      ],
      "execution_count": 1,
      "outputs": [
        {
          "output_type": "stream",
          "text": [
            "[[1 2]\n",
            " [1 2]]\n",
            "Power_divergenceResult(statistic=0.6666666666666666, pvalue=0.8810148425137847)\n",
            "[[16 32]\n",
            " [18 24]\n",
            " [16 16]\n",
            " [14 28]\n",
            " [12 20]\n",
            " [12 24]]\n",
            "Power_divergenceResult(statistic=23.31034482758621, pvalue=0.015975692534127565)\n"
          ],
          "name": "stdout"
        }
      ]
    },
    {
      "cell_type": "code",
      "metadata": {
        "id": "nN0BdNiDPxbk",
        "colab_type": "code",
        "outputId": "9c1c77ee-f445-4d99-ae39-ac3310d01a37",
        "colab": {
          "base_uri": "https://localhost:8080/",
          "height": 34
        }
      },
      "source": [
        "# Distribution tests:\n",
        "# We often assume that something is normal, but it can be important to *check*\n",
        "\n",
        "# For example, later on with predictive modeling, a typical assumption is that\n",
        "# residuals (prediction errors) are normal - checking is a good diagnostic\n",
        "\n",
        "from scipy.stats import normaltest\n",
        "# Poisson models arrival times and is related to the binomial (coinflip)\n",
        "sample = np.random.poisson(5, 1000)\n",
        "print(normaltest(sample))  # Pretty clearly not normal"
      ],
      "execution_count": 2,
      "outputs": [
        {
          "output_type": "stream",
          "text": [
            "NormaltestResult(statistic=35.90723987088557, pvalue=1.595298408186152e-08)\n"
          ],
          "name": "stdout"
        }
      ]
    },
    {
      "cell_type": "code",
      "metadata": {
        "id": "P5t0WhkDReFO",
        "colab_type": "code",
        "outputId": "d5f7faa4-d7dc-48d0-8107-c096ad8aa9aa",
        "colab": {
          "base_uri": "https://localhost:8080/",
          "height": 51
        }
      },
      "source": [
        "# Kruskal-Wallis H-test - compare the median rank between 2+ groups\n",
        "# Can be applied to ranking decisions/outcomes/recommendations\n",
        "# The underlying math comes from chi-square distribution, and is best for n>5\n",
        "from scipy.stats import kruskal\n",
        "\n",
        "x1 = [1, 3, 5, 7, 9]\n",
        "y1 = [2, 4, 6, 8, 10]\n",
        "print(kruskal(x1, y1))  # x1 is a little better, but not \"significantly\" so\n",
        "\n",
        "x2 = [1, 1, 1]\n",
        "y2 = [2, 2, 2]\n",
        "z = [2, 2]  # Hey, a third group, and of different size!\n",
        "print(kruskal(x2, y2, z))  # x clearly dominates"
      ],
      "execution_count": 3,
      "outputs": [
        {
          "output_type": "stream",
          "text": [
            "KruskalResult(statistic=0.2727272727272734, pvalue=0.6015081344405895)\n",
            "KruskalResult(statistic=7.0, pvalue=0.0301973834223185)\n"
          ],
          "name": "stdout"
        }
      ]
    },
    {
      "cell_type": "markdown",
      "metadata": {
        "id": "7pT3IP36Rh0b",
        "colab_type": "text"
      },
      "source": [
        "And there's many more! `scipy.stats` is fairly comprehensive, though there are even more available if you delve into the extended world of statistics packages. As tests get increasingly obscure and specialized, the importance of knowing them by heart becomes small - but being able to look them up and figure them out when they *are* relevant is still important."
      ]
    },
    {
      "cell_type": "markdown",
      "metadata": {
        "id": "3JqroCQYQqhy",
        "colab_type": "text"
      },
      "source": [
        "## T-test Assumptions"
      ]
    },
    {
      "cell_type": "code",
      "metadata": {
        "id": "sqy2hEFRZnvI",
        "colab_type": "code",
        "colab": {}
      },
      "source": [
        "from scipy.stats import ttest_ind\n",
        "\n",
        "?ttest_ind"
      ],
      "execution_count": 0,
      "outputs": []
    },
    {
      "cell_type": "markdown",
      "metadata": {
        "id": "xI-PcK5sZ1A9",
        "colab_type": "text"
      },
      "source": [
        "<https://statistics.laerd.com/statistical-guides/independent-t-test-statistical-guide.php>\n",
        "\n",
        "- Independence of means\n",
        "\n",
        "Are the means of our voting data independent (do not affect the outcome of one another)?\n",
        "  \n",
        "The best way to increase thel likelihood of our means being independent is to randomly sample (which we did not do).\n",
        "\n",
        "- \"Homogeneity\" of Variance? \n",
        "\n",
        "Is the magnitude of the variance between the two roughly the same?\n",
        "\n",
        "I think we're OK on this one for the voting data, although it probably could be better, one party was larger than the other.\n",
        "\n",
        "If we suspect this to be a problem then we can use Welch's T-test"
      ]
    },
    {
      "cell_type": "markdown",
      "metadata": {
        "id": "tjgoHHwGayoC",
        "colab_type": "text"
      },
      "source": [
        "- \"Dependent Variable\" (sample means) are Distributed Normally\n",
        "\n",
        "<https://stats.stackexchange.com/questions/9573/t-test-for-non-normal-when-n50>\n",
        "\n",
        "Lots of statistical tests depend on normal distributions. We can test for normality using Scipy as was shown above.\n",
        "\n",
        "This assumption is often assumed even if the assumption is a weak one. If you strongly suspect that things are not normally distributed, you can transform your data to get it looking more normal and then run your test. This problem typically goes away for large sample sizes (yay Central Limit Theorem) and is often why you don't hear it brought up. People declare the assumption to be satisfied either way. \n",
        "\n"
      ]
    },
    {
      "cell_type": "markdown",
      "metadata": {
        "id": "bvvPV-RJN2vA",
        "colab_type": "text"
      },
      "source": [
        "## Central Limit Theorem\n",
        "\n"
      ]
    },
    {
      "cell_type": "code",
      "metadata": {
        "id": "FBLoOF8qOJeJ",
        "colab_type": "code",
        "outputId": "0c7d4a38-a593-4a69-ad71-3965ccba9095",
        "colab": {
          "base_uri": "https://localhost:8080/",
          "height": 71
        }
      },
      "source": [
        "import numpy as np\n",
        "import matplotlib.pyplot as plt\n",
        "import pandas as pd\n",
        "\n",
        "N = 3000\n",
        "sample_means = []\n",
        "for x in range(0,N):\n",
        "  coinflips = np.random.binomial(n=1, p=.5, size=100)\n",
        "  one_sample = coinflips\n",
        "  sample_means.append(coinflips.mean())\n",
        "\n",
        "print(len(sample_means))\n",
        "print(sample_means)"
      ],
      "execution_count": 5,
      "outputs": [
        {
          "output_type": "stream",
          "text": [
            "3000\n",
            "[0.4, 0.61, 0.52, 0.45, 0.45, 0.51, 0.52, 0.53, 0.54, 0.49, 0.53, 0.48, 0.51, 0.58, 0.43, 0.53, 0.5, 0.43, 0.46, 0.45, 0.49, 0.46, 0.52, 0.39, 0.48, 0.43, 0.55, 0.48, 0.45, 0.54, 0.51, 0.55, 0.55, 0.48, 0.49, 0.46, 0.52, 0.5, 0.45, 0.58, 0.59, 0.52, 0.48, 0.46, 0.51, 0.56, 0.5, 0.57, 0.57, 0.58, 0.41, 0.5, 0.55, 0.54, 0.58, 0.47, 0.48, 0.55, 0.5, 0.45, 0.45, 0.47, 0.5, 0.42, 0.48, 0.48, 0.43, 0.52, 0.59, 0.55, 0.47, 0.53, 0.44, 0.47, 0.53, 0.52, 0.46, 0.5, 0.45, 0.52, 0.55, 0.41, 0.45, 0.62, 0.45, 0.47, 0.57, 0.45, 0.54, 0.5, 0.45, 0.51, 0.48, 0.52, 0.63, 0.57, 0.34, 0.5, 0.52, 0.48, 0.47, 0.51, 0.44, 0.5, 0.42, 0.49, 0.55, 0.5, 0.67, 0.37, 0.51, 0.47, 0.57, 0.5, 0.61, 0.53, 0.53, 0.53, 0.44, 0.47, 0.51, 0.53, 0.52, 0.5, 0.44, 0.6, 0.54, 0.45, 0.46, 0.56, 0.48, 0.55, 0.51, 0.45, 0.54, 0.47, 0.6, 0.51, 0.51, 0.43, 0.53, 0.46, 0.58, 0.53, 0.51, 0.53, 0.47, 0.56, 0.56, 0.53, 0.51, 0.47, 0.46, 0.49, 0.51, 0.53, 0.46, 0.45, 0.5, 0.53, 0.54, 0.53, 0.5, 0.61, 0.44, 0.56, 0.52, 0.43, 0.43, 0.48, 0.5, 0.52, 0.48, 0.44, 0.53, 0.55, 0.52, 0.46, 0.56, 0.53, 0.48, 0.49, 0.5, 0.49, 0.45, 0.51, 0.48, 0.55, 0.52, 0.52, 0.48, 0.5, 0.59, 0.46, 0.45, 0.49, 0.53, 0.47, 0.55, 0.55, 0.48, 0.52, 0.4, 0.44, 0.52, 0.41, 0.51, 0.45, 0.43, 0.52, 0.44, 0.59, 0.48, 0.49, 0.51, 0.5, 0.52, 0.5, 0.56, 0.5, 0.5, 0.47, 0.48, 0.54, 0.44, 0.46, 0.5, 0.42, 0.39, 0.57, 0.43, 0.41, 0.45, 0.56, 0.47, 0.5, 0.42, 0.46, 0.53, 0.6, 0.46, 0.51, 0.46, 0.53, 0.53, 0.51, 0.5, 0.44, 0.54, 0.5, 0.46, 0.53, 0.6, 0.53, 0.49, 0.57, 0.57, 0.57, 0.51, 0.46, 0.56, 0.45, 0.53, 0.5, 0.52, 0.42, 0.62, 0.48, 0.53, 0.49, 0.49, 0.57, 0.58, 0.37, 0.42, 0.46, 0.54, 0.44, 0.49, 0.52, 0.42, 0.51, 0.57, 0.48, 0.46, 0.42, 0.52, 0.48, 0.55, 0.48, 0.47, 0.5, 0.43, 0.52, 0.52, 0.43, 0.52, 0.52, 0.52, 0.54, 0.45, 0.42, 0.52, 0.47, 0.39, 0.5, 0.52, 0.52, 0.6, 0.44, 0.59, 0.51, 0.44, 0.46, 0.45, 0.52, 0.47, 0.47, 0.58, 0.53, 0.59, 0.5, 0.58, 0.59, 0.53, 0.5, 0.57, 0.59, 0.48, 0.49, 0.48, 0.48, 0.52, 0.59, 0.49, 0.53, 0.55, 0.54, 0.45, 0.5, 0.48, 0.52, 0.45, 0.58, 0.46, 0.57, 0.53, 0.4, 0.6, 0.47, 0.49, 0.4, 0.52, 0.5, 0.52, 0.58, 0.52, 0.46, 0.48, 0.45, 0.52, 0.53, 0.47, 0.55, 0.45, 0.53, 0.32, 0.49, 0.52, 0.44, 0.5, 0.5, 0.51, 0.56, 0.51, 0.51, 0.55, 0.57, 0.55, 0.58, 0.43, 0.5, 0.46, 0.49, 0.51, 0.49, 0.43, 0.56, 0.49, 0.58, 0.47, 0.46, 0.62, 0.43, 0.45, 0.49, 0.51, 0.49, 0.5, 0.47, 0.62, 0.52, 0.44, 0.47, 0.57, 0.5, 0.48, 0.54, 0.52, 0.42, 0.5, 0.51, 0.5, 0.55, 0.53, 0.47, 0.55, 0.47, 0.43, 0.54, 0.41, 0.49, 0.49, 0.54, 0.49, 0.58, 0.53, 0.57, 0.51, 0.48, 0.47, 0.52, 0.47, 0.48, 0.44, 0.5, 0.51, 0.49, 0.45, 0.43, 0.51, 0.48, 0.42, 0.46, 0.47, 0.49, 0.53, 0.45, 0.49, 0.49, 0.52, 0.47, 0.4, 0.53, 0.41, 0.47, 0.4, 0.46, 0.46, 0.53, 0.47, 0.45, 0.52, 0.58, 0.56, 0.48, 0.55, 0.46, 0.52, 0.5, 0.49, 0.57, 0.49, 0.52, 0.49, 0.51, 0.53, 0.46, 0.56, 0.51, 0.6, 0.5, 0.55, 0.53, 0.56, 0.52, 0.51, 0.57, 0.44, 0.45, 0.5, 0.5, 0.45, 0.49, 0.44, 0.52, 0.58, 0.61, 0.42, 0.45, 0.51, 0.45, 0.48, 0.51, 0.51, 0.42, 0.56, 0.53, 0.56, 0.59, 0.53, 0.46, 0.54, 0.54, 0.56, 0.53, 0.44, 0.51, 0.42, 0.58, 0.4, 0.59, 0.56, 0.49, 0.53, 0.45, 0.5, 0.52, 0.52, 0.47, 0.5, 0.51, 0.46, 0.48, 0.56, 0.49, 0.45, 0.47, 0.47, 0.54, 0.44, 0.53, 0.46, 0.47, 0.48, 0.48, 0.53, 0.52, 0.51, 0.49, 0.46, 0.45, 0.43, 0.47, 0.45, 0.48, 0.44, 0.53, 0.5, 0.56, 0.51, 0.54, 0.5, 0.52, 0.57, 0.47, 0.53, 0.59, 0.54, 0.56, 0.5, 0.46, 0.54, 0.46, 0.5, 0.48, 0.53, 0.57, 0.51, 0.46, 0.55, 0.49, 0.46, 0.52, 0.44, 0.55, 0.56, 0.55, 0.49, 0.57, 0.45, 0.54, 0.49, 0.47, 0.42, 0.47, 0.49, 0.47, 0.57, 0.6, 0.55, 0.44, 0.43, 0.49, 0.47, 0.45, 0.53, 0.61, 0.41, 0.49, 0.46, 0.46, 0.52, 0.5, 0.54, 0.54, 0.58, 0.54, 0.55, 0.51, 0.45, 0.47, 0.44, 0.59, 0.43, 0.47, 0.58, 0.52, 0.43, 0.48, 0.54, 0.57, 0.55, 0.55, 0.59, 0.47, 0.56, 0.51, 0.4, 0.56, 0.44, 0.49, 0.47, 0.51, 0.46, 0.49, 0.53, 0.53, 0.54, 0.49, 0.5, 0.46, 0.55, 0.47, 0.47, 0.51, 0.39, 0.51, 0.39, 0.43, 0.47, 0.51, 0.57, 0.53, 0.43, 0.57, 0.54, 0.54, 0.56, 0.52, 0.6, 0.49, 0.51, 0.49, 0.47, 0.6, 0.54, 0.5, 0.37, 0.51, 0.48, 0.5, 0.49, 0.45, 0.45, 0.48, 0.48, 0.5, 0.49, 0.44, 0.41, 0.48, 0.42, 0.48, 0.51, 0.54, 0.61, 0.52, 0.51, 0.46, 0.54, 0.5, 0.55, 0.47, 0.54, 0.51, 0.44, 0.55, 0.51, 0.49, 0.54, 0.51, 0.47, 0.51, 0.52, 0.53, 0.44, 0.54, 0.41, 0.43, 0.46, 0.54, 0.5, 0.47, 0.47, 0.52, 0.52, 0.54, 0.52, 0.55, 0.5, 0.53, 0.49, 0.48, 0.46, 0.49, 0.47, 0.53, 0.5, 0.51, 0.61, 0.36, 0.45, 0.45, 0.5, 0.44, 0.47, 0.5, 0.49, 0.46, 0.5, 0.59, 0.53, 0.49, 0.48, 0.52, 0.56, 0.5, 0.41, 0.47, 0.57, 0.49, 0.49, 0.58, 0.41, 0.44, 0.45, 0.49, 0.53, 0.5, 0.53, 0.55, 0.43, 0.4, 0.57, 0.46, 0.45, 0.45, 0.53, 0.48, 0.49, 0.48, 0.47, 0.55, 0.48, 0.59, 0.52, 0.59, 0.55, 0.52, 0.43, 0.43, 0.55, 0.53, 0.55, 0.51, 0.51, 0.46, 0.54, 0.57, 0.45, 0.54, 0.43, 0.5, 0.6, 0.41, 0.44, 0.52, 0.49, 0.55, 0.51, 0.47, 0.47, 0.44, 0.54, 0.4, 0.52, 0.37, 0.61, 0.53, 0.46, 0.5, 0.53, 0.43, 0.45, 0.48, 0.45, 0.46, 0.56, 0.4, 0.51, 0.5, 0.47, 0.39, 0.55, 0.49, 0.46, 0.61, 0.44, 0.44, 0.5, 0.6, 0.54, 0.52, 0.55, 0.47, 0.51, 0.47, 0.47, 0.56, 0.52, 0.5, 0.45, 0.52, 0.5, 0.48, 0.58, 0.47, 0.45, 0.51, 0.49, 0.51, 0.5, 0.53, 0.57, 0.41, 0.57, 0.45, 0.47, 0.42, 0.48, 0.5, 0.44, 0.52, 0.5, 0.56, 0.48, 0.47, 0.44, 0.43, 0.6, 0.59, 0.51, 0.48, 0.49, 0.48, 0.48, 0.53, 0.59, 0.46, 0.49, 0.44, 0.41, 0.46, 0.48, 0.5, 0.52, 0.54, 0.54, 0.57, 0.5, 0.56, 0.42, 0.51, 0.5, 0.39, 0.55, 0.4, 0.49, 0.37, 0.43, 0.48, 0.5, 0.61, 0.5, 0.39, 0.5, 0.5, 0.53, 0.45, 0.49, 0.51, 0.49, 0.47, 0.54, 0.42, 0.51, 0.42, 0.42, 0.51, 0.49, 0.57, 0.52, 0.53, 0.57, 0.47, 0.5, 0.41, 0.5, 0.51, 0.57, 0.52, 0.48, 0.48, 0.49, 0.47, 0.53, 0.48, 0.54, 0.54, 0.53, 0.54, 0.47, 0.45, 0.53, 0.5, 0.55, 0.47, 0.46, 0.44, 0.47, 0.46, 0.49, 0.46, 0.5, 0.41, 0.48, 0.47, 0.51, 0.42, 0.49, 0.48, 0.46, 0.4, 0.54, 0.51, 0.46, 0.56, 0.42, 0.48, 0.55, 0.57, 0.54, 0.49, 0.45, 0.49, 0.48, 0.48, 0.43, 0.58, 0.43, 0.51, 0.53, 0.58, 0.39, 0.54, 0.51, 0.55, 0.56, 0.54, 0.47, 0.49, 0.44, 0.56, 0.45, 0.57, 0.52, 0.53, 0.54, 0.49, 0.46, 0.5, 0.44, 0.55, 0.5, 0.47, 0.37, 0.51, 0.47, 0.5, 0.52, 0.49, 0.49, 0.53, 0.48, 0.42, 0.39, 0.44, 0.51, 0.51, 0.48, 0.52, 0.44, 0.48, 0.47, 0.53, 0.52, 0.53, 0.57, 0.51, 0.51, 0.48, 0.48, 0.49, 0.48, 0.49, 0.44, 0.5, 0.5, 0.48, 0.53, 0.52, 0.42, 0.54, 0.43, 0.51, 0.43, 0.53, 0.49, 0.5, 0.46, 0.53, 0.52, 0.47, 0.43, 0.56, 0.51, 0.46, 0.49, 0.51, 0.58, 0.47, 0.5, 0.44, 0.56, 0.49, 0.41, 0.63, 0.56, 0.46, 0.42, 0.53, 0.42, 0.44, 0.48, 0.51, 0.38, 0.45, 0.5, 0.55, 0.49, 0.51, 0.55, 0.45, 0.53, 0.56, 0.54, 0.44, 0.47, 0.37, 0.6, 0.5, 0.52, 0.43, 0.5, 0.61, 0.49, 0.45, 0.41, 0.42, 0.47, 0.48, 0.47, 0.47, 0.45, 0.4, 0.55, 0.48, 0.52, 0.48, 0.44, 0.54, 0.49, 0.46, 0.51, 0.6, 0.5, 0.61, 0.53, 0.5, 0.5, 0.56, 0.44, 0.46, 0.51, 0.46, 0.52, 0.47, 0.49, 0.47, 0.44, 0.53, 0.46, 0.51, 0.52, 0.53, 0.55, 0.51, 0.46, 0.48, 0.49, 0.47, 0.5, 0.52, 0.49, 0.52, 0.45, 0.56, 0.51, 0.51, 0.41, 0.52, 0.52, 0.48, 0.5, 0.5, 0.44, 0.46, 0.56, 0.47, 0.44, 0.53, 0.49, 0.53, 0.43, 0.54, 0.48, 0.53, 0.58, 0.49, 0.55, 0.49, 0.59, 0.55, 0.56, 0.47, 0.47, 0.49, 0.47, 0.53, 0.43, 0.45, 0.55, 0.43, 0.51, 0.48, 0.55, 0.42, 0.54, 0.49, 0.52, 0.53, 0.55, 0.46, 0.39, 0.52, 0.48, 0.44, 0.47, 0.57, 0.46, 0.51, 0.5, 0.53, 0.42, 0.52, 0.53, 0.46, 0.52, 0.48, 0.65, 0.57, 0.51, 0.58, 0.56, 0.52, 0.43, 0.45, 0.54, 0.42, 0.53, 0.4, 0.44, 0.49, 0.55, 0.52, 0.49, 0.56, 0.44, 0.52, 0.47, 0.52, 0.48, 0.5, 0.54, 0.47, 0.6, 0.53, 0.59, 0.58, 0.52, 0.47, 0.44, 0.5, 0.46, 0.51, 0.51, 0.55, 0.55, 0.5, 0.56, 0.52, 0.54, 0.42, 0.56, 0.53, 0.48, 0.41, 0.48, 0.53, 0.48, 0.55, 0.49, 0.48, 0.56, 0.56, 0.42, 0.5, 0.51, 0.53, 0.49, 0.44, 0.51, 0.57, 0.57, 0.44, 0.52, 0.48, 0.51, 0.57, 0.56, 0.47, 0.56, 0.52, 0.43, 0.49, 0.54, 0.46, 0.45, 0.48, 0.44, 0.5, 0.57, 0.49, 0.51, 0.44, 0.47, 0.46, 0.49, 0.51, 0.51, 0.49, 0.49, 0.44, 0.48, 0.45, 0.47, 0.44, 0.43, 0.47, 0.5, 0.51, 0.5, 0.4, 0.5, 0.5, 0.55, 0.46, 0.53, 0.49, 0.49, 0.51, 0.49, 0.54, 0.48, 0.58, 0.53, 0.5, 0.5, 0.49, 0.54, 0.5, 0.53, 0.57, 0.51, 0.49, 0.54, 0.41, 0.37, 0.45, 0.43, 0.48, 0.46, 0.55, 0.47, 0.46, 0.47, 0.4, 0.42, 0.5, 0.53, 0.63, 0.53, 0.48, 0.56, 0.43, 0.51, 0.46, 0.62, 0.52, 0.55, 0.41, 0.39, 0.44, 0.45, 0.55, 0.43, 0.46, 0.46, 0.5, 0.46, 0.48, 0.35, 0.47, 0.62, 0.56, 0.47, 0.48, 0.5, 0.46, 0.47, 0.49, 0.56, 0.5, 0.41, 0.51, 0.52, 0.46, 0.44, 0.45, 0.44, 0.61, 0.47, 0.56, 0.5, 0.51, 0.53, 0.51, 0.57, 0.59, 0.46, 0.49, 0.49, 0.46, 0.45, 0.53, 0.5, 0.5, 0.49, 0.5, 0.52, 0.57, 0.51, 0.47, 0.53, 0.54, 0.44, 0.53, 0.52, 0.4, 0.47, 0.59, 0.47, 0.48, 0.5, 0.52, 0.53, 0.48, 0.34, 0.48, 0.53, 0.42, 0.43, 0.45, 0.56, 0.54, 0.47, 0.5, 0.57, 0.53, 0.46, 0.52, 0.48, 0.45, 0.52, 0.55, 0.51, 0.52, 0.48, 0.45, 0.47, 0.52, 0.48, 0.58, 0.48, 0.51, 0.46, 0.45, 0.57, 0.45, 0.47, 0.4, 0.56, 0.49, 0.44, 0.41, 0.53, 0.48, 0.53, 0.42, 0.5, 0.46, 0.47, 0.51, 0.52, 0.54, 0.49, 0.42, 0.56, 0.5, 0.49, 0.48, 0.48, 0.47, 0.44, 0.53, 0.49, 0.57, 0.45, 0.48, 0.54, 0.46, 0.51, 0.57, 0.45, 0.45, 0.53, 0.52, 0.41, 0.47, 0.57, 0.47, 0.51, 0.56, 0.53, 0.46, 0.48, 0.46, 0.55, 0.48, 0.45, 0.51, 0.45, 0.47, 0.54, 0.48, 0.54, 0.55, 0.54, 0.56, 0.48, 0.49, 0.53, 0.5, 0.52, 0.55, 0.57, 0.48, 0.51, 0.36, 0.57, 0.53, 0.55, 0.5, 0.5, 0.46, 0.52, 0.46, 0.55, 0.49, 0.5, 0.46, 0.44, 0.52, 0.44, 0.47, 0.55, 0.45, 0.53, 0.43, 0.5, 0.48, 0.54, 0.53, 0.53, 0.45, 0.52, 0.46, 0.42, 0.6, 0.55, 0.52, 0.49, 0.63, 0.52, 0.45, 0.52, 0.5, 0.61, 0.46, 0.47, 0.53, 0.53, 0.46, 0.47, 0.46, 0.45, 0.45, 0.55, 0.48, 0.52, 0.48, 0.51, 0.5, 0.46, 0.49, 0.46, 0.48, 0.38, 0.53, 0.47, 0.45, 0.47, 0.36, 0.6, 0.4, 0.58, 0.54, 0.52, 0.5, 0.54, 0.61, 0.55, 0.47, 0.47, 0.44, 0.58, 0.45, 0.62, 0.51, 0.46, 0.58, 0.47, 0.51, 0.57, 0.51, 0.41, 0.52, 0.51, 0.47, 0.47, 0.49, 0.55, 0.5, 0.48, 0.5, 0.56, 0.54, 0.53, 0.42, 0.46, 0.53, 0.5, 0.49, 0.46, 0.55, 0.56, 0.48, 0.5, 0.55, 0.47, 0.47, 0.43, 0.48, 0.47, 0.53, 0.56, 0.53, 0.4, 0.52, 0.46, 0.54, 0.55, 0.54, 0.52, 0.56, 0.46, 0.49, 0.46, 0.45, 0.6, 0.54, 0.54, 0.48, 0.47, 0.52, 0.57, 0.48, 0.53, 0.44, 0.51, 0.46, 0.48, 0.45, 0.54, 0.56, 0.5, 0.51, 0.56, 0.49, 0.41, 0.48, 0.52, 0.5, 0.41, 0.45, 0.46, 0.55, 0.55, 0.45, 0.49, 0.5, 0.51, 0.45, 0.46, 0.47, 0.57, 0.47, 0.54, 0.51, 0.55, 0.53, 0.48, 0.5, 0.38, 0.57, 0.5, 0.53, 0.52, 0.51, 0.53, 0.58, 0.44, 0.42, 0.55, 0.53, 0.5, 0.53, 0.53, 0.58, 0.46, 0.52, 0.53, 0.46, 0.42, 0.46, 0.5, 0.51, 0.52, 0.51, 0.55, 0.61, 0.45, 0.4, 0.55, 0.48, 0.41, 0.48, 0.46, 0.47, 0.44, 0.47, 0.57, 0.58, 0.42, 0.59, 0.47, 0.46, 0.58, 0.47, 0.44, 0.55, 0.43, 0.48, 0.49, 0.5, 0.53, 0.55, 0.49, 0.5, 0.54, 0.4, 0.46, 0.53, 0.44, 0.4, 0.49, 0.52, 0.47, 0.56, 0.49, 0.53, 0.45, 0.38, 0.59, 0.57, 0.43, 0.49, 0.48, 0.5, 0.4, 0.51, 0.51, 0.41, 0.38, 0.53, 0.47, 0.55, 0.44, 0.48, 0.46, 0.5, 0.48, 0.53, 0.43, 0.48, 0.57, 0.39, 0.53, 0.55, 0.5, 0.51, 0.49, 0.55, 0.59, 0.49, 0.54, 0.53, 0.47, 0.45, 0.49, 0.49, 0.53, 0.5, 0.59, 0.52, 0.49, 0.49, 0.53, 0.51, 0.47, 0.47, 0.5, 0.52, 0.38, 0.49, 0.52, 0.55, 0.48, 0.5, 0.47, 0.44, 0.55, 0.49, 0.44, 0.51, 0.43, 0.44, 0.53, 0.58, 0.5, 0.48, 0.42, 0.55, 0.49, 0.52, 0.45, 0.48, 0.5, 0.55, 0.53, 0.47, 0.56, 0.45, 0.54, 0.42, 0.55, 0.59, 0.48, 0.5, 0.53, 0.56, 0.52, 0.49, 0.47, 0.48, 0.52, 0.54, 0.48, 0.52, 0.55, 0.46, 0.49, 0.59, 0.54, 0.49, 0.55, 0.44, 0.49, 0.57, 0.53, 0.51, 0.56, 0.45, 0.46, 0.43, 0.55, 0.42, 0.47, 0.55, 0.5, 0.5, 0.56, 0.52, 0.49, 0.49, 0.52, 0.53, 0.56, 0.37, 0.43, 0.44, 0.52, 0.59, 0.44, 0.48, 0.58, 0.41, 0.46, 0.52, 0.59, 0.5, 0.48, 0.46, 0.56, 0.43, 0.55, 0.49, 0.46, 0.49, 0.47, 0.51, 0.47, 0.43, 0.43, 0.53, 0.47, 0.51, 0.47, 0.53, 0.45, 0.56, 0.55, 0.48, 0.45, 0.4, 0.44, 0.47, 0.52, 0.48, 0.38, 0.54, 0.5, 0.49, 0.53, 0.44, 0.47, 0.5, 0.52, 0.5, 0.49, 0.58, 0.43, 0.47, 0.41, 0.49, 0.46, 0.66, 0.51, 0.62, 0.42, 0.54, 0.49, 0.5, 0.49, 0.55, 0.45, 0.5, 0.5, 0.48, 0.51, 0.52, 0.51, 0.44, 0.5, 0.49, 0.42, 0.4, 0.45, 0.49, 0.61, 0.43, 0.51, 0.58, 0.52, 0.47, 0.41, 0.41, 0.49, 0.47, 0.52, 0.51, 0.4, 0.49, 0.52, 0.52, 0.59, 0.63, 0.48, 0.5, 0.54, 0.45, 0.48, 0.46, 0.49, 0.4, 0.5, 0.56, 0.45, 0.43, 0.5, 0.49, 0.53, 0.51, 0.4, 0.45, 0.49, 0.46, 0.54, 0.43, 0.48, 0.55, 0.5, 0.47, 0.52, 0.5, 0.52, 0.49, 0.6, 0.48, 0.56, 0.51, 0.49, 0.59, 0.49, 0.51, 0.57, 0.47, 0.5, 0.44, 0.45, 0.5, 0.57, 0.54, 0.48, 0.59, 0.47, 0.5, 0.47, 0.43, 0.52, 0.52, 0.58, 0.51, 0.52, 0.54, 0.45, 0.53, 0.49, 0.5, 0.41, 0.46, 0.49, 0.47, 0.51, 0.51, 0.49, 0.53, 0.48, 0.47, 0.51, 0.55, 0.48, 0.52, 0.52, 0.49, 0.52, 0.37, 0.55, 0.47, 0.66, 0.58, 0.47, 0.46, 0.55, 0.56, 0.47, 0.53, 0.42, 0.61, 0.44, 0.57, 0.5, 0.44, 0.51, 0.61, 0.52, 0.5, 0.47, 0.53, 0.53, 0.55, 0.44, 0.56, 0.57, 0.48, 0.55, 0.48, 0.54, 0.51, 0.54, 0.66, 0.62, 0.46, 0.47, 0.55, 0.59, 0.55, 0.44, 0.52, 0.48, 0.45, 0.41, 0.51, 0.47, 0.5, 0.47, 0.5, 0.5, 0.45, 0.5, 0.52, 0.43, 0.44, 0.59, 0.46, 0.5, 0.56, 0.46, 0.53, 0.42, 0.53, 0.55, 0.42, 0.4, 0.5, 0.48, 0.48, 0.52, 0.5, 0.49, 0.51, 0.51, 0.49, 0.47, 0.46, 0.5, 0.46, 0.52, 0.51, 0.47, 0.5, 0.57, 0.4, 0.56, 0.5, 0.49, 0.51, 0.48, 0.51, 0.54, 0.58, 0.59, 0.52, 0.53, 0.61, 0.5, 0.54, 0.53, 0.52, 0.43, 0.54, 0.55, 0.52, 0.44, 0.46, 0.54, 0.54, 0.5, 0.47, 0.52, 0.49, 0.39, 0.51, 0.56, 0.43, 0.47, 0.47, 0.52, 0.53, 0.48, 0.52, 0.49, 0.57, 0.5, 0.48, 0.55, 0.49, 0.52, 0.53, 0.5, 0.56, 0.49, 0.53, 0.44, 0.47, 0.61, 0.51, 0.4, 0.48, 0.51, 0.48, 0.59, 0.58, 0.53, 0.52, 0.43, 0.54, 0.43, 0.52, 0.53, 0.48, 0.49, 0.48, 0.52, 0.48, 0.47, 0.43, 0.54, 0.48, 0.47, 0.47, 0.41, 0.51, 0.53, 0.46, 0.43, 0.52, 0.44, 0.54, 0.5, 0.51, 0.43, 0.53, 0.44, 0.45, 0.43, 0.42, 0.48, 0.42, 0.52, 0.51, 0.53, 0.4, 0.61, 0.49, 0.5, 0.5, 0.41, 0.56, 0.52, 0.41, 0.57, 0.48, 0.4, 0.56, 0.4, 0.51, 0.56, 0.51, 0.45, 0.49, 0.48, 0.57, 0.42, 0.55, 0.47, 0.43, 0.54, 0.52, 0.51, 0.48, 0.43, 0.39, 0.49, 0.47, 0.53, 0.52, 0.57, 0.49, 0.56, 0.54, 0.47, 0.51, 0.43, 0.52, 0.38, 0.53, 0.49, 0.59, 0.5, 0.42, 0.57, 0.5, 0.47, 0.5, 0.5, 0.47, 0.54, 0.55, 0.58, 0.52, 0.45, 0.52, 0.42, 0.45, 0.48, 0.53, 0.45, 0.54, 0.52, 0.48, 0.47, 0.48, 0.47, 0.45, 0.49, 0.49, 0.49, 0.48, 0.48, 0.55, 0.51, 0.53, 0.55, 0.48, 0.47, 0.53, 0.58, 0.58, 0.46, 0.42, 0.46, 0.56, 0.52, 0.52, 0.51, 0.54, 0.47, 0.54, 0.47, 0.44, 0.53, 0.57, 0.55, 0.43, 0.49, 0.45, 0.46, 0.46, 0.52, 0.52, 0.5, 0.5, 0.39, 0.47, 0.52, 0.54, 0.57, 0.43, 0.52, 0.41, 0.43, 0.56, 0.55, 0.49, 0.44, 0.56, 0.51, 0.42, 0.58, 0.48, 0.59, 0.51, 0.46, 0.49, 0.5, 0.53, 0.43, 0.54, 0.49, 0.46, 0.47, 0.52, 0.47, 0.54, 0.51, 0.59, 0.51, 0.52, 0.49, 0.44, 0.52, 0.48, 0.54, 0.6, 0.5, 0.48, 0.48, 0.49, 0.48, 0.55, 0.52, 0.57, 0.48, 0.52, 0.59, 0.47, 0.45, 0.49, 0.48, 0.5, 0.51, 0.5, 0.44, 0.52, 0.45, 0.56, 0.48, 0.49, 0.43, 0.55, 0.42, 0.43, 0.5, 0.58, 0.57, 0.49, 0.53, 0.52, 0.51, 0.51, 0.58, 0.6, 0.44, 0.48, 0.56, 0.49, 0.42, 0.57, 0.48, 0.47, 0.53, 0.45, 0.47, 0.53, 0.44, 0.48, 0.42, 0.55, 0.57, 0.54, 0.52, 0.47, 0.5, 0.5, 0.49, 0.52, 0.54, 0.43, 0.51, 0.49, 0.47, 0.5, 0.6, 0.48, 0.53, 0.48, 0.44, 0.37, 0.48, 0.5, 0.51, 0.46, 0.46, 0.54, 0.52, 0.61, 0.39, 0.48, 0.49, 0.55, 0.57, 0.47, 0.49, 0.41, 0.46, 0.5, 0.43, 0.48, 0.41, 0.51, 0.56, 0.54, 0.47, 0.51, 0.62, 0.35, 0.5, 0.51, 0.55, 0.53, 0.46, 0.45, 0.59, 0.51, 0.52, 0.48, 0.38, 0.49, 0.59, 0.5, 0.58, 0.49, 0.52, 0.54, 0.42, 0.53, 0.38, 0.46, 0.51, 0.55, 0.55, 0.58, 0.49, 0.43, 0.49, 0.51, 0.51, 0.5, 0.42, 0.53, 0.42, 0.54, 0.52, 0.47, 0.51, 0.49, 0.51, 0.51, 0.52, 0.48, 0.49, 0.53, 0.55, 0.44, 0.49, 0.58, 0.52, 0.44, 0.43, 0.48, 0.46, 0.52, 0.57, 0.47, 0.56, 0.49, 0.43, 0.51, 0.55, 0.39, 0.53, 0.39, 0.51, 0.58, 0.54, 0.46, 0.65, 0.45, 0.46, 0.52, 0.41, 0.4, 0.52, 0.52, 0.53, 0.46, 0.5, 0.54, 0.47, 0.46, 0.57, 0.56, 0.5, 0.53, 0.49, 0.43, 0.53, 0.52, 0.6, 0.52, 0.45, 0.55, 0.51, 0.54, 0.56, 0.47, 0.53, 0.53, 0.51, 0.49, 0.53, 0.33, 0.47, 0.54, 0.53, 0.5, 0.55, 0.55, 0.49, 0.5, 0.56, 0.4, 0.53, 0.52, 0.4, 0.59, 0.51, 0.46, 0.54, 0.43, 0.5, 0.53, 0.45, 0.55, 0.5, 0.43, 0.57, 0.6, 0.48, 0.46, 0.52, 0.49, 0.53, 0.49, 0.33, 0.45, 0.5, 0.51, 0.57, 0.48, 0.47, 0.51, 0.5, 0.45, 0.53, 0.48, 0.46, 0.6, 0.48, 0.45, 0.46, 0.5, 0.48, 0.45, 0.53, 0.5, 0.45, 0.48, 0.49, 0.5, 0.53, 0.45, 0.45, 0.44, 0.44, 0.46, 0.45, 0.53, 0.5, 0.39, 0.55, 0.39, 0.59, 0.48, 0.57, 0.43, 0.63, 0.42, 0.59, 0.53, 0.56, 0.49, 0.48, 0.47, 0.53, 0.55, 0.56, 0.5, 0.53, 0.53, 0.5, 0.47, 0.54, 0.5, 0.49, 0.57, 0.6, 0.5, 0.51, 0.39, 0.49, 0.56, 0.45, 0.55, 0.48, 0.47, 0.49, 0.56, 0.49, 0.44, 0.45, 0.58, 0.47, 0.5, 0.47, 0.49, 0.59, 0.43, 0.46, 0.44, 0.43, 0.42, 0.5, 0.41, 0.52, 0.43, 0.49, 0.5, 0.52, 0.52, 0.48, 0.64, 0.41, 0.47, 0.51, 0.53, 0.48, 0.46, 0.47, 0.52, 0.55, 0.44, 0.44, 0.49, 0.6, 0.53, 0.57, 0.5, 0.52, 0.49, 0.5, 0.55, 0.51, 0.38, 0.47, 0.53, 0.38, 0.45, 0.46, 0.58, 0.5, 0.53, 0.5, 0.46, 0.46, 0.53, 0.5, 0.58, 0.52, 0.52, 0.53, 0.45, 0.59, 0.42, 0.6, 0.51, 0.47, 0.43, 0.48, 0.57, 0.47, 0.51, 0.57, 0.45, 0.49, 0.51, 0.49, 0.45, 0.55, 0.59, 0.48, 0.45, 0.56, 0.46, 0.41, 0.45, 0.45, 0.43, 0.5, 0.51, 0.62, 0.49, 0.45, 0.48, 0.54, 0.55, 0.48, 0.47, 0.46, 0.56, 0.43, 0.46, 0.54, 0.44, 0.47, 0.43, 0.58, 0.53, 0.55, 0.49, 0.47, 0.52, 0.47, 0.48, 0.47, 0.45, 0.46, 0.48, 0.48, 0.55, 0.58, 0.5, 0.48, 0.58, 0.52, 0.47, 0.55, 0.45, 0.53, 0.51, 0.46, 0.5, 0.5, 0.51, 0.54, 0.57, 0.52, 0.51, 0.48, 0.57, 0.5, 0.44, 0.58, 0.46, 0.5, 0.49, 0.49, 0.54, 0.58, 0.49, 0.52, 0.48, 0.51, 0.57, 0.52, 0.46, 0.51, 0.53, 0.52, 0.53, 0.4, 0.55, 0.46, 0.53, 0.46, 0.45, 0.52, 0.55, 0.44, 0.51, 0.46, 0.49, 0.51, 0.52, 0.46, 0.48, 0.52, 0.5, 0.56, 0.46, 0.53, 0.58, 0.44, 0.47, 0.48, 0.48, 0.5, 0.51, 0.6, 0.47, 0.47, 0.44, 0.41, 0.58, 0.52, 0.47, 0.44, 0.51, 0.48, 0.48, 0.52, 0.47, 0.51, 0.5, 0.45, 0.5, 0.41, 0.51, 0.59, 0.52, 0.57, 0.47, 0.53, 0.48, 0.51, 0.48, 0.56, 0.56, 0.59, 0.53, 0.52, 0.45, 0.53, 0.53, 0.56, 0.5, 0.59, 0.5, 0.53, 0.58, 0.52, 0.51, 0.53, 0.48, 0.45, 0.5, 0.51, 0.53, 0.45, 0.55, 0.44, 0.48, 0.44, 0.5, 0.46, 0.4, 0.44, 0.56, 0.56, 0.49, 0.49, 0.48, 0.46, 0.51, 0.4, 0.48, 0.44, 0.48]\n"
          ],
          "name": "stdout"
        }
      ]
    },
    {
      "cell_type": "code",
      "metadata": {
        "id": "rfeA06evOT2K",
        "colab_type": "code",
        "outputId": "0bb89ea9-34c0-497d-a0aa-575433d248d1",
        "colab": {
          "base_uri": "https://localhost:8080/",
          "height": 204
        }
      },
      "source": [
        "# Create dataframe with single coin flip\n",
        "df = pd.DataFrame({'one-samp': one_sample})\n",
        "df.head()"
      ],
      "execution_count": 6,
      "outputs": [
        {
          "output_type": "execute_result",
          "data": {
            "text/html": [
              "<div>\n",
              "<style scoped>\n",
              "    .dataframe tbody tr th:only-of-type {\n",
              "        vertical-align: middle;\n",
              "    }\n",
              "\n",
              "    .dataframe tbody tr th {\n",
              "        vertical-align: top;\n",
              "    }\n",
              "\n",
              "    .dataframe thead th {\n",
              "        text-align: right;\n",
              "    }\n",
              "</style>\n",
              "<table border=\"1\" class=\"dataframe\">\n",
              "  <thead>\n",
              "    <tr style=\"text-align: right;\">\n",
              "      <th></th>\n",
              "      <th>one-samp</th>\n",
              "    </tr>\n",
              "  </thead>\n",
              "  <tbody>\n",
              "    <tr>\n",
              "      <th>0</th>\n",
              "      <td>0</td>\n",
              "    </tr>\n",
              "    <tr>\n",
              "      <th>1</th>\n",
              "      <td>0</td>\n",
              "    </tr>\n",
              "    <tr>\n",
              "      <th>2</th>\n",
              "      <td>0</td>\n",
              "    </tr>\n",
              "    <tr>\n",
              "      <th>3</th>\n",
              "      <td>1</td>\n",
              "    </tr>\n",
              "    <tr>\n",
              "      <th>4</th>\n",
              "      <td>1</td>\n",
              "    </tr>\n",
              "  </tbody>\n",
              "</table>\n",
              "</div>"
            ],
            "text/plain": [
              "   one-samp\n",
              "0         0\n",
              "1         0\n",
              "2         0\n",
              "3         1\n",
              "4         1"
            ]
          },
          "metadata": {
            "tags": []
          },
          "execution_count": 6
        }
      ]
    },
    {
      "cell_type": "code",
      "metadata": {
        "id": "GlMSNFX6OmBV",
        "colab_type": "code",
        "outputId": "9d2dc07d-8d06-4014-f01f-c66821922f67",
        "colab": {
          "base_uri": "https://localhost:8080/",
          "height": 281
        }
      },
      "source": [
        "# Plot histogram to look at distribution of a single coin flip \n",
        "df.hist();"
      ],
      "execution_count": 7,
      "outputs": [
        {
          "output_type": "display_data",
          "data": {
            "image/png": "[encoded data removed]",
            "text/plain": [
              "<Figure size 432x288 with 1 Axes>"
            ]
          },
          "metadata": {
            "tags": []
          }
        }
      ]
    },
    {
      "cell_type": "code",
      "metadata": {
        "id": "Jie4ypgLOs5M",
        "colab_type": "code",
        "outputId": "fedbab1d-8a9f-42ba-cbf1-8cda14a63be9",
        "colab": {
          "base_uri": "https://localhost:8080/",
          "height": 313
        }
      },
      "source": [
        "# Plot histogram to look at distribution of all coin flips\n",
        "ax = plt.hist(sample_means, bins=30)\n",
        "plt.title(f'Distribution of {N} sample means \\n (of 30 coinflips each)')"
      ],
      "execution_count": 8,
      "outputs": [
        {
          "output_type": "execute_result",
          "data": {
            "text/plain": [
              "Text(0.5, 1.0, 'Distribution of 3000 sample means \\n (of 30 coinflips each)')"
            ]
          },
          "metadata": {
            "tags": []
          },
          "execution_count": 8
        },
        {
          "output_type": "display_data",
          "data": {
            "image/png": "[encoded data removed]",
            "text/plain": [
              "<Figure size 432x288 with 1 Axes>"
            ]
          },
          "metadata": {
            "tags": []
          }
        }
      ]
    },
    {
      "cell_type": "markdown",
      "metadata": {
        "id": "LsEAjc4rOylm",
        "colab_type": "text"
      },
      "source": [
        "What does the Central Limit Theorem State? That no matter the initial distribution of the population, the distribution of sample means taken will approximate a normal distribution as $n \\rightarrow \\infty$.\n",
        "\n",
        "This has very important implications for hypothesis testing and is precisely the reason why the t-distribution begins to approximate the normal distribution as our sample size increases. "
      ]
    },
    {
      "cell_type": "markdown",
      "metadata": {
        "id": "EYqo5vZZSFUr",
        "colab_type": "text"
      },
      "source": [
        "## Standard Error of the Mean\n",
        "\n",
        "What does it mean to \"estimate\"? the Population mean?"
      ]
    },
    {
      "cell_type": "code",
      "metadata": {
        "id": "puGXH6vbSIE4",
        "colab_type": "code",
        "outputId": "66f62a27-fb6d-44dd-af24-4c1702bd9bfb",
        "colab": {
          "base_uri": "https://localhost:8080/",
          "height": 68
        }
      },
      "source": [
        "import numpy as np\n",
        "import pandas as pd\n",
        "\n",
        "# Average Height\n",
        "mu = 70\n",
        "sigma = 3\n",
        "\n",
        "lambda_heights = np.random.normal(mu, sigma, 2000)\n",
        "print(len(lambda_heights))\n",
        "lambda_heights"
      ],
      "execution_count": 9,
      "outputs": [
        {
          "output_type": "stream",
          "text": [
            "2000\n"
          ],
          "name": "stdout"
        },
        {
          "output_type": "execute_result",
          "data": {
            "text/plain": [
              "array([71.07494482, 68.9847121 , 57.84720629, ..., 69.5023358 ,\n",
              "       67.11246137, 68.84576022])"
            ]
          },
          "metadata": {
            "tags": []
          },
          "execution_count": 9
        }
      ]
    },
    {
      "cell_type": "code",
      "metadata": {
        "id": "2X-aKCTSXVOc",
        "colab_type": "code",
        "outputId": "6398f958-951f-43f0-c4af-26b13f298dd4",
        "colab": {
          "base_uri": "https://localhost:8080/",
          "height": 281
        }
      },
      "source": [
        "import seaborn as sns\n",
        "\n",
        "sns.distplot(lambda_heights)\n",
        "plt.title('Distribution of Heights (in inches)');"
      ],
      "execution_count": 10,
      "outputs": [
        {
          "output_type": "display_data",
          "data": {
            "image/png": "[encoded data removed]",
            "text/plain": [
              "<Figure size 432x288 with 1 Axes>"
            ]
          },
          "metadata": {
            "tags": []
          }
        }
      ]
    },
    {
      "cell_type": "code",
      "metadata": {
        "id": "fQlloeU4qwuI",
        "colab_type": "code",
        "outputId": "50f68545-4b7f-46a1-a2dc-09e23be16e70",
        "colab": {
          "base_uri": "https://localhost:8080/",
          "height": 51
        }
      },
      "source": [
        "print(\"Population Mean:\", lambda_heights.mean())\n",
        "print(\"Population Standard Deviation:\", lambda_heights.std())"
      ],
      "execution_count": 11,
      "outputs": [
        {
          "output_type": "stream",
          "text": [
            "Population Mean: 69.98463345069867\n",
            "Population Standard Deviation: 2.9532765097657276\n"
          ],
          "name": "stdout"
        }
      ]
    },
    {
      "cell_type": "code",
      "metadata": {
        "id": "sOD7gQMxq3ib",
        "colab_type": "code",
        "outputId": "6a385961-ea14-4c80-f985-60eb9c9be8c9",
        "colab": {
          "base_uri": "https://localhost:8080/",
          "height": 221
        }
      },
      "source": [
        "population = pd.DataFrame({'heights': lambda_heights})\n",
        "print(population.shape)\n",
        "population.head()"
      ],
      "execution_count": 12,
      "outputs": [
        {
          "output_type": "stream",
          "text": [
            "(2000, 1)\n"
          ],
          "name": "stdout"
        },
        {
          "output_type": "execute_result",
          "data": {
            "text/html": [
              "<div>\n",
              "<style scoped>\n",
              "    .dataframe tbody tr th:only-of-type {\n",
              "        vertical-align: middle;\n",
              "    }\n",
              "\n",
              "    .dataframe tbody tr th {\n",
              "        vertical-align: top;\n",
              "    }\n",
              "\n",
              "    .dataframe thead th {\n",
              "        text-align: right;\n",
              "    }\n",
              "</style>\n",
              "<table border=\"1\" class=\"dataframe\">\n",
              "  <thead>\n",
              "    <tr style=\"text-align: right;\">\n",
              "      <th></th>\n",
              "      <th>heights</th>\n",
              "    </tr>\n",
              "  </thead>\n",
              "  <tbody>\n",
              "    <tr>\n",
              "      <th>0</th>\n",
              "      <td>71.074945</td>\n",
              "    </tr>\n",
              "    <tr>\n",
              "      <th>1</th>\n",
              "      <td>68.984712</td>\n",
              "    </tr>\n",
              "    <tr>\n",
              "      <th>2</th>\n",
              "      <td>57.847206</td>\n",
              "    </tr>\n",
              "    <tr>\n",
              "      <th>3</th>\n",
              "      <td>65.679671</td>\n",
              "    </tr>\n",
              "    <tr>\n",
              "      <th>4</th>\n",
              "      <td>74.271550</td>\n",
              "    </tr>\n",
              "  </tbody>\n",
              "</table>\n",
              "</div>"
            ],
            "text/plain": [
              "     heights\n",
              "0  71.074945\n",
              "1  68.984712\n",
              "2  57.847206\n",
              "3  65.679671\n",
              "4  74.271550"
            ]
          },
          "metadata": {
            "tags": []
          },
          "execution_count": 12
        }
      ]
    },
    {
      "cell_type": "code",
      "metadata": {
        "id": "A1DEQgCAq75F",
        "colab_type": "code",
        "outputId": "796410d0-4c61-4630-b7ce-fd0976ec6495",
        "colab": {
          "base_uri": "https://localhost:8080/",
          "height": 153
        }
      },
      "source": [
        "# Take a random sample and print sample mean\n",
        "sample1 = population.sample(100)\n",
        "print(sample1.shape)\n",
        "print(sample1.head())\n",
        "print('Sample Mean #1:', sample1['heights'].mean())"
      ],
      "execution_count": 13,
      "outputs": [
        {
          "output_type": "stream",
          "text": [
            "(100, 1)\n",
            "        heights\n",
            "1588  69.577783\n",
            "759   73.079375\n",
            "412   70.017185\n",
            "930   67.230371\n",
            "468   70.321898\n",
            "Sample Mean #1: 69.66655071574692\n"
          ],
          "name": "stdout"
        }
      ]
    },
    {
      "cell_type": "code",
      "metadata": {
        "id": "SpMBMasFrJQK",
        "colab_type": "code",
        "outputId": "3a5d2197-f9b0-47cc-bce2-0e15204e93a7",
        "colab": {
          "base_uri": "https://localhost:8080/",
          "height": 51
        }
      },
      "source": [
        "# Take a different random sample and print sample mean\n",
        "sample2 = population.sample(100)\n",
        "print(sample2.shape)\n",
        "sample2.head()\n",
        "print('Sample Mean #2:', sample2['heights'].mean())"
      ],
      "execution_count": 14,
      "outputs": [
        {
          "output_type": "stream",
          "text": [
            "(100, 1)\n",
            "Sample Mean #2: 69.92528088656749\n"
          ],
          "name": "stdout"
        }
      ]
    },
    {
      "cell_type": "markdown",
      "metadata": {
        "id": "nfdQf8QYUUmw",
        "colab_type": "text"
      },
      "source": [
        "## Build and Interpret a Confidence Interval\n",
        "\n",
        "<img src=\"https://github.com/ryanallredblog/ryanallredblog.github.io/blob/master/img/Confidence_Interval.png?raw=true\" width=400>"
      ]
    },
    {
      "cell_type": "code",
      "metadata": {
        "id": "tBx71Kf0UjT3",
        "colab_type": "code",
        "outputId": "868a1909-6d50-4058-a671-2363ea76c3d0",
        "colab": {
          "base_uri": "https://localhost:8080/",
          "height": 51
        }
      },
      "source": [
        "coinflips_100 = np.random.binomial(n=1, p=0.5, size=100)\n",
        "\n",
        "sample_std = np.std(coinflips_100)\n",
        "print('sample St Dev:', sample_std)\n",
        "sample_size = len(coinflips_100)\n",
        "print('Sample Size:', sample_size)"
      ],
      "execution_count": 15,
      "outputs": [
        {
          "output_type": "stream",
          "text": [
            "sample St Dev: 0.4828043081829324\n",
            "Sample Size: 100\n"
          ],
          "name": "stdout"
        }
      ]
    },
    {
      "cell_type": "code",
      "metadata": {
        "id": "QXjQ-jX2TIDM",
        "colab_type": "code",
        "outputId": "8c641428-b6b8-4094-a79f-a566963cdb43",
        "colab": {
          "base_uri": "https://localhost:8080/",
          "height": 34
        }
      },
      "source": [
        "standard_error = sample_std/np.sqrt(sample_size)\n",
        "print(standard_error)"
      ],
      "execution_count": 16,
      "outputs": [
        {
          "output_type": "stream",
          "text": [
            "0.04828043081829324\n"
          ],
          "name": "stdout"
        }
      ]
    },
    {
      "cell_type": "markdown",
      "metadata": {
        "id": "RkYC5rnUw914",
        "colab_type": "text"
      },
      "source": [
        "### What confidence level do we want our confidence interval to represent?\n",
        "\n",
        "95% confidence Interval? 99% confidence interval? "
      ]
    },
    {
      "cell_type": "code",
      "metadata": {
        "id": "jze1zJsewQx_",
        "colab_type": "code",
        "outputId": "828bef59-5de3-4edb-e810-c3dfbde76024",
        "colab": {
          "base_uri": "https://localhost:8080/",
          "height": 34
        }
      },
      "source": [
        "import scipy.stats as stats\n",
        "\n",
        "t = stats.t.ppf(0.975, sample_size-1)\n",
        "t"
      ],
      "execution_count": 17,
      "outputs": [
        {
          "output_type": "execute_result",
          "data": {
            "text/plain": [
              "1.9842169515086827"
            ]
          },
          "metadata": {
            "tags": []
          },
          "execution_count": 17
        }
      ]
    },
    {
      "cell_type": "code",
      "metadata": {
        "id": "0qcIc6WHVdpf",
        "colab_type": "code",
        "outputId": "922194ab-ab1c-4a42-bf46-461e8f8b2893",
        "colab": {
          "base_uri": "https://localhost:8080/",
          "height": 68
        }
      },
      "source": [
        "sample_mean = coinflips_100.mean()\n",
        "confidence_interval = (sample_mean - t*standard_error, sample_mean + t*standard_error)\n",
        "margin_of_error = t*standard_error\n",
        "\n",
        "print('Sample Mean:', sample_mean)\n",
        "print('Margin of Error:', margin_of_error)\n",
        "print('Confidence Interval:', confidence_interval)"
      ],
      "execution_count": 18,
      "outputs": [
        {
          "output_type": "stream",
          "text": [
            "Sample Mean: 0.37\n",
            "Margin of Error: 0.09579884925579966\n",
            "Confidence Interval: (0.2742011507442003, 0.4657988492557997)\n"
          ],
          "name": "stdout"
        }
      ]
    },
    {
      "cell_type": "markdown",
      "metadata": {
        "id": "C4rtc8luVUAK",
        "colab_type": "text"
      },
      "source": [
        "## Graphically Represent a Confidence Interval"
      ]
    },
    {
      "cell_type": "code",
      "metadata": {
        "id": "pz6F9_3_VmKr",
        "colab_type": "code",
        "colab": {}
      },
      "source": [
        ""
      ],
      "execution_count": 0,
      "outputs": []
    },
    {
      "cell_type": "markdown",
      "metadata": {
        "id": "_oy0uoBGeoEb",
        "colab_type": "text"
      },
      "source": [
        "## Relationship between Confidence Intervals and T-tests\n",
        "\n",
        "Confidence Interval == Bounds of statistical significance for our t-test\n",
        "\n",
        "A sample mean that falls inside of our confidence interval will \"FAIL TO REJECT\" our null hypothesis\n",
        "\n",
        "A sample mean that falls outside of our confidence interval will \"REJECT\" our null hypothesis"
      ]
    },
    {
      "cell_type": "code",
      "metadata": {
        "id": "izIyVavzfCXS",
        "colab_type": "code",
        "colab": {}
      },
      "source": [
        "from scipy.stats import t, ttest_1samp"
      ],
      "execution_count": 0,
      "outputs": []
    },
    {
      "cell_type": "code",
      "metadata": {
        "id": "Y7HwdMwDfL1N",
        "colab_type": "code",
        "outputId": "017f6899-f590-477a-c260-b6d101951f9f",
        "colab": {
          "base_uri": "https://localhost:8080/",
          "height": 54
        }
      },
      "source": [
        "import numpy as np\n",
        "\n",
        "coinflip_means = []\n",
        "for x in range(0,100):\n",
        "  coinflips = np.random.binomial(n=1, p=.5, size=30)\n",
        "  coinflip_means.append(coinflips.mean())\n",
        "\n",
        "print(coinflip_means)"
      ],
      "execution_count": 20,
      "outputs": [
        {
          "output_type": "stream",
          "text": [
            "[0.36666666666666664, 0.5333333333333333, 0.5, 0.5666666666666667, 0.4666666666666667, 0.5333333333333333, 0.5, 0.5666666666666667, 0.5, 0.43333333333333335, 0.36666666666666664, 0.43333333333333335, 0.5333333333333333, 0.43333333333333335, 0.5, 0.4666666666666667, 0.5666666666666667, 0.4666666666666667, 0.43333333333333335, 0.43333333333333335, 0.3, 0.5666666666666667, 0.5, 0.7, 0.6333333333333333, 0.5666666666666667, 0.3333333333333333, 0.5666666666666667, 0.43333333333333335, 0.4, 0.5666666666666667, 0.4666666666666667, 0.4, 0.5333333333333333, 0.6, 0.4666666666666667, 0.43333333333333335, 0.5666666666666667, 0.5, 0.36666666666666664, 0.5, 0.6666666666666666, 0.5, 0.4666666666666667, 0.5333333333333333, 0.6666666666666666, 0.5, 0.5666666666666667, 0.43333333333333335, 0.5666666666666667, 0.5, 0.4666666666666667, 0.5, 0.4, 0.3333333333333333, 0.6666666666666666, 0.6, 0.4, 0.4666666666666667, 0.6333333333333333, 0.5666666666666667, 0.6, 0.4666666666666667, 0.7333333333333333, 0.4666666666666667, 0.5, 0.5333333333333333, 0.5666666666666667, 0.5, 0.43333333333333335, 0.5666666666666667, 0.7666666666666667, 0.4666666666666667, 0.4, 0.5666666666666667, 0.5333333333333333, 0.4, 0.6333333333333333, 0.6333333333333333, 0.23333333333333334, 0.6, 0.43333333333333335, 0.5, 0.4666666666666667, 0.6, 0.5, 0.4, 0.36666666666666664, 0.4666666666666667, 0.4666666666666667, 0.3333333333333333, 0.5, 0.4, 0.6666666666666666, 0.5, 0.5, 0.4666666666666667, 0.4, 0.5666666666666667, 0.36666666666666664]\n"
          ],
          "name": "stdout"
        }
      ]
    },
    {
      "cell_type": "code",
      "metadata": {
        "id": "lnzGmaAbZvL8",
        "colab_type": "code",
        "outputId": "b20e6839-0e30-4c9f-a35a-34564cea81c4",
        "colab": {
          "base_uri": "https://localhost:8080/",
          "height": 51
        }
      },
      "source": [
        "# 95% confidence interval\n",
        "\n",
        "t_stat = stats.t.ppf(0.975, 99)\n",
        "print('T Statistic:', t_stat)\n",
        "\n",
        "std_sample = np.std(coinflip_means)\n",
        "std_err = std_sample/np.sqrt(len(coinflip_means))\n",
        "\n",
        "ci = stats.t.interval(0.95, 99, loc=np.mean(coinflip_means), scale=std_err)\n",
        "print('95% confidence interval:', ci)"
      ],
      "execution_count": 21,
      "outputs": [
        {
          "output_type": "stream",
          "text": [
            "T Statistic: 1.9842169515086827\n",
            "95% confidence interval: (0.4804402719543873, 0.5182263947122793)\n"
          ],
          "name": "stdout"
        }
      ]
    },
    {
      "cell_type": "markdown",
      "metadata": {
        "id": "EamZNJhAf-fY",
        "colab_type": "text"
      },
      "source": [
        "A null hypothesis that's just inside of our confidence interval == fail to reject\n",
        "\n"
      ]
    },
    {
      "cell_type": "code",
      "metadata": {
        "id": "cNpzYbjpfirR",
        "colab_type": "code",
        "outputId": "da7cb04e-2fe2-4a28-e485-0f9f9e3d88c3",
        "colab": {
          "base_uri": "https://localhost:8080/",
          "height": 34
        }
      },
      "source": [
        "ttest_1samp(coinflip_means, 0.48959)"
      ],
      "execution_count": 22,
      "outputs": [
        {
          "output_type": "execute_result",
          "data": {
            "text/plain": [
              "Ttest_1sampResult(statistic=1.0181504979819997, pvalue=0.31108817234344405)"
            ]
          },
          "metadata": {
            "tags": []
          },
          "execution_count": 22
        }
      ]
    },
    {
      "cell_type": "markdown",
      "metadata": {
        "id": "hO34mbL9gHn1",
        "colab_type": "text"
      },
      "source": [
        "A null hypothesis that's just outside of our confidence interval == reject\n",
        "\n"
      ]
    },
    {
      "cell_type": "code",
      "metadata": {
        "id": "N4SUjj82gKlv",
        "colab_type": "code",
        "outputId": "bb3c468b-5f9c-4471-8855-34432700a6b5",
        "colab": {
          "base_uri": "https://localhost:8080/",
          "height": 34
        }
      },
      "source": [
        "ttest_1samp(coinflip_means, 0.52441)"
      ],
      "execution_count": 23,
      "outputs": [
        {
          "output_type": "execute_result",
          "data": {
            "text/plain": [
              "Ttest_1sampResult(statistic=-2.6204400261097014, pvalue=0.010164842968409037)"
            ]
          },
          "metadata": {
            "tags": []
          },
          "execution_count": 23
        }
      ]
    },
    {
      "cell_type": "code",
      "metadata": {
        "id": "rQZvNu6B3b9b",
        "colab_type": "code",
        "colab": {}
      },
      "source": [
        "def confidence_interval(data, confidence=0.95):\n",
        "  \"\"\"\n",
        "  Calculate a confidence interval around a sample mean for given data.\n",
        "  Using t-distribution and two-tailed test, default 95% confidence. \n",
        "  \n",
        "  Arguments:\n",
        "    data - iterable (list or numpy array) of sample observations\n",
        "    confidence - level of confidence for the interval\n",
        "  \n",
        "  Returns:\n",
        "    tuple of (mean, lower bound, upper bound)\n",
        "  \"\"\"\n",
        "  data = np.array(data)\n",
        "  mean = np.mean(data)\n",
        "  n = len(data)\n",
        "  stderr = stats.sem(data)\n",
        "  interval = stderr * stats.t.ppf((1 + confidence) / 2.0, n - 1)\n",
        "  return (mean, mean - interval, mean + interval)"
      ],
      "execution_count": 0,
      "outputs": []
    },
    {
      "cell_type": "markdown",
      "metadata": {
        "id": "pTIzrkKdUaLl",
        "colab_type": "text"
      },
      "source": [
        "## Run a $\\chi^{2}$ Test \"by hand\" (Using Numpy)"
      ]
    },
    {
      "cell_type": "code",
      "metadata": {
        "id": "DDsovHUyUj3v",
        "colab_type": "code",
        "outputId": "f3e4ec46-deaa-4166-b5b9-d2deea930549",
        "colab": {
          "base_uri": "https://localhost:8080/",
          "height": 221
        }
      },
      "source": [
        "df = pd.read_csv('https://raw.githubusercontent.com/ryanleeallred/datasets/master/adult.csv', na_values=\" ?\")\n",
        "print(df.shape)\n",
        "df.head()"
      ],
      "execution_count": 25,
      "outputs": [
        {
          "output_type": "stream",
          "text": [
            "(32561, 15)\n"
          ],
          "name": "stdout"
        },
        {
          "output_type": "execute_result",
          "data": {
            "text/html": [
              "<div>\n",
              "<style scoped>\n",
              "    .dataframe tbody tr th:only-of-type {\n",
              "        vertical-align: middle;\n",
              "    }\n",
              "\n",
              "    .dataframe tbody tr th {\n",
              "        vertical-align: top;\n",
              "    }\n",
              "\n",
              "    .dataframe thead th {\n",
              "        text-align: right;\n",
              "    }\n",
              "</style>\n",
              "<table border=\"1\" class=\"dataframe\">\n",
              "  <thead>\n",
              "    <tr style=\"text-align: right;\">\n",
              "      <th></th>\n",
              "      <th>age</th>\n",
              "      <th>workclass</th>\n",
              "      <th>fnlwgt</th>\n",
              "      <th>education</th>\n",
              "      <th>education-num</th>\n",
              "      <th>marital-status</th>\n",
              "      <th>occupation</th>\n",
              "      <th>relationship</th>\n",
              "      <th>race</th>\n",
              "      <th>sex</th>\n",
              "      <th>capital-gain</th>\n",
              "      <th>capital-loss</th>\n",
              "      <th>hours-per-week</th>\n",
              "      <th>country</th>\n",
              "      <th>salary</th>\n",
              "    </tr>\n",
              "  </thead>\n",
              "  <tbody>\n",
              "    <tr>\n",
              "      <th>0</th>\n",
              "      <td>39</td>\n",
              "      <td>State-gov</td>\n",
              "      <td>77516</td>\n",
              "      <td>Bachelors</td>\n",
              "      <td>13</td>\n",
              "      <td>Never-married</td>\n",
              "      <td>Adm-clerical</td>\n",
              "      <td>Not-in-family</td>\n",
              "      <td>White</td>\n",
              "      <td>Male</td>\n",
              "      <td>2174</td>\n",
              "      <td>0</td>\n",
              "      <td>40</td>\n",
              "      <td>United-States</td>\n",
              "      <td>&lt;=50K</td>\n",
              "    </tr>\n",
              "    <tr>\n",
              "      <th>1</th>\n",
              "      <td>50</td>\n",
              "      <td>Self-emp-not-inc</td>\n",
              "      <td>83311</td>\n",
              "      <td>Bachelors</td>\n",
              "      <td>13</td>\n",
              "      <td>Married-civ-spouse</td>\n",
              "      <td>Exec-managerial</td>\n",
              "      <td>Husband</td>\n",
              "      <td>White</td>\n",
              "      <td>Male</td>\n",
              "      <td>0</td>\n",
              "      <td>0</td>\n",
              "      <td>13</td>\n",
              "      <td>United-States</td>\n",
              "      <td>&lt;=50K</td>\n",
              "    </tr>\n",
              "    <tr>\n",
              "      <th>2</th>\n",
              "      <td>38</td>\n",
              "      <td>Private</td>\n",
              "      <td>215646</td>\n",
              "      <td>HS-grad</td>\n",
              "      <td>9</td>\n",
              "      <td>Divorced</td>\n",
              "      <td>Handlers-cleaners</td>\n",
              "      <td>Not-in-family</td>\n",
              "      <td>White</td>\n",
              "      <td>Male</td>\n",
              "      <td>0</td>\n",
              "      <td>0</td>\n",
              "      <td>40</td>\n",
              "      <td>United-States</td>\n",
              "      <td>&lt;=50K</td>\n",
              "    </tr>\n",
              "    <tr>\n",
              "      <th>3</th>\n",
              "      <td>53</td>\n",
              "      <td>Private</td>\n",
              "      <td>234721</td>\n",
              "      <td>11th</td>\n",
              "      <td>7</td>\n",
              "      <td>Married-civ-spouse</td>\n",
              "      <td>Handlers-cleaners</td>\n",
              "      <td>Husband</td>\n",
              "      <td>Black</td>\n",
              "      <td>Male</td>\n",
              "      <td>0</td>\n",
              "      <td>0</td>\n",
              "      <td>40</td>\n",
              "      <td>United-States</td>\n",
              "      <td>&lt;=50K</td>\n",
              "    </tr>\n",
              "    <tr>\n",
              "      <th>4</th>\n",
              "      <td>28</td>\n",
              "      <td>Private</td>\n",
              "      <td>338409</td>\n",
              "      <td>Bachelors</td>\n",
              "      <td>13</td>\n",
              "      <td>Married-civ-spouse</td>\n",
              "      <td>Prof-specialty</td>\n",
              "      <td>Wife</td>\n",
              "      <td>Black</td>\n",
              "      <td>Female</td>\n",
              "      <td>0</td>\n",
              "      <td>0</td>\n",
              "      <td>40</td>\n",
              "      <td>Cuba</td>\n",
              "      <td>&lt;=50K</td>\n",
              "    </tr>\n",
              "  </tbody>\n",
              "</table>\n",
              "</div>"
            ],
            "text/plain": [
              "   age          workclass  fnlwgt  ... hours-per-week         country  salary\n",
              "0   39          State-gov   77516  ...             40   United-States   <=50K\n",
              "1   50   Self-emp-not-inc   83311  ...             13   United-States   <=50K\n",
              "2   38            Private  215646  ...             40   United-States   <=50K\n",
              "3   53            Private  234721  ...             40   United-States   <=50K\n",
              "4   28            Private  338409  ...             40            Cuba   <=50K\n",
              "\n",
              "[5 rows x 15 columns]"
            ]
          },
          "metadata": {
            "tags": []
          },
          "execution_count": 25
        }
      ]
    },
    {
      "cell_type": "code",
      "metadata": {
        "id": "_QYe_grRcT_z",
        "colab_type": "code",
        "outputId": "62ea838b-5bd6-4a2c-95fe-7c47e4191992",
        "colab": {
          "base_uri": "https://localhost:8080/",
          "height": 235
        }
      },
      "source": [
        "df.corr()"
      ],
      "execution_count": 26,
      "outputs": [
        {
          "output_type": "execute_result",
          "data": {
            "text/html": [
              "<div>\n",
              "<style scoped>\n",
              "    .dataframe tbody tr th:only-of-type {\n",
              "        vertical-align: middle;\n",
              "    }\n",
              "\n",
              "    .dataframe tbody tr th {\n",
              "        vertical-align: top;\n",
              "    }\n",
              "\n",
              "    .dataframe thead th {\n",
              "        text-align: right;\n",
              "    }\n",
              "</style>\n",
              "<table border=\"1\" class=\"dataframe\">\n",
              "  <thead>\n",
              "    <tr style=\"text-align: right;\">\n",
              "      <th></th>\n",
              "      <th>age</th>\n",
              "      <th>fnlwgt</th>\n",
              "      <th>education-num</th>\n",
              "      <th>capital-gain</th>\n",
              "      <th>capital-loss</th>\n",
              "      <th>hours-per-week</th>\n",
              "    </tr>\n",
              "  </thead>\n",
              "  <tbody>\n",
              "    <tr>\n",
              "      <th>age</th>\n",
              "      <td>1.000000</td>\n",
              "      <td>-0.076646</td>\n",
              "      <td>0.036527</td>\n",
              "      <td>0.077674</td>\n",
              "      <td>0.057775</td>\n",
              "      <td>0.068756</td>\n",
              "    </tr>\n",
              "    <tr>\n",
              "      <th>fnlwgt</th>\n",
              "      <td>-0.076646</td>\n",
              "      <td>1.000000</td>\n",
              "      <td>-0.043195</td>\n",
              "      <td>0.000432</td>\n",
              "      <td>-0.010252</td>\n",
              "      <td>-0.018768</td>\n",
              "    </tr>\n",
              "    <tr>\n",
              "      <th>education-num</th>\n",
              "      <td>0.036527</td>\n",
              "      <td>-0.043195</td>\n",
              "      <td>1.000000</td>\n",
              "      <td>0.122630</td>\n",
              "      <td>0.079923</td>\n",
              "      <td>0.148123</td>\n",
              "    </tr>\n",
              "    <tr>\n",
              "      <th>capital-gain</th>\n",
              "      <td>0.077674</td>\n",
              "      <td>0.000432</td>\n",
              "      <td>0.122630</td>\n",
              "      <td>1.000000</td>\n",
              "      <td>-0.031615</td>\n",
              "      <td>0.078409</td>\n",
              "    </tr>\n",
              "    <tr>\n",
              "      <th>capital-loss</th>\n",
              "      <td>0.057775</td>\n",
              "      <td>-0.010252</td>\n",
              "      <td>0.079923</td>\n",
              "      <td>-0.031615</td>\n",
              "      <td>1.000000</td>\n",
              "      <td>0.054256</td>\n",
              "    </tr>\n",
              "    <tr>\n",
              "      <th>hours-per-week</th>\n",
              "      <td>0.068756</td>\n",
              "      <td>-0.018768</td>\n",
              "      <td>0.148123</td>\n",
              "      <td>0.078409</td>\n",
              "      <td>0.054256</td>\n",
              "      <td>1.000000</td>\n",
              "    </tr>\n",
              "  </tbody>\n",
              "</table>\n",
              "</div>"
            ],
            "text/plain": [
              "                     age    fnlwgt  ...  capital-loss  hours-per-week\n",
              "age             1.000000 -0.076646  ...      0.057775        0.068756\n",
              "fnlwgt         -0.076646  1.000000  ...     -0.010252       -0.018768\n",
              "education-num   0.036527 -0.043195  ...      0.079923        0.148123\n",
              "capital-gain    0.077674  0.000432  ...     -0.031615        0.078409\n",
              "capital-loss    0.057775 -0.010252  ...      1.000000        0.054256\n",
              "hours-per-week  0.068756 -0.018768  ...      0.054256        1.000000\n",
              "\n",
              "[6 rows x 6 columns]"
            ]
          },
          "metadata": {
            "tags": []
          },
          "execution_count": 26
        }
      ]
    },
    {
      "cell_type": "code",
      "metadata": {
        "id": "VgVyqKzUeVIL",
        "colab_type": "code",
        "outputId": "c64e402b-e99f-4336-d219-830a69308ee1",
        "colab": {
          "base_uri": "https://localhost:8080/",
          "height": 269
        }
      },
      "source": [
        "df['hours-per-week'].hist();"
      ],
      "execution_count": 27,
      "outputs": [
        {
          "output_type": "display_data",
          "data": {
            "image/png": "[encoded data removed]",
            "text/plain": [
              "<Figure size 432x288 with 1 Axes>"
            ]
          },
          "metadata": {
            "tags": []
          }
        }
      ]
    },
    {
      "cell_type": "code",
      "metadata": {
        "id": "_9l27J5OdxUs",
        "colab_type": "code",
        "outputId": "3da25c25-13e8-4da5-a069-dede0ed520fb",
        "colab": {
          "base_uri": "https://localhost:8080/",
          "height": 173
        }
      },
      "source": [
        "df.describe(exclude='number')"
      ],
      "execution_count": 28,
      "outputs": [
        {
          "output_type": "execute_result",
          "data": {
            "text/html": [
              "<div>\n",
              "<style scoped>\n",
              "    .dataframe tbody tr th:only-of-type {\n",
              "        vertical-align: middle;\n",
              "    }\n",
              "\n",
              "    .dataframe tbody tr th {\n",
              "        vertical-align: top;\n",
              "    }\n",
              "\n",
              "    .dataframe thead th {\n",
              "        text-align: right;\n",
              "    }\n",
              "</style>\n",
              "<table border=\"1\" class=\"dataframe\">\n",
              "  <thead>\n",
              "    <tr style=\"text-align: right;\">\n",
              "      <th></th>\n",
              "      <th>workclass</th>\n",
              "      <th>education</th>\n",
              "      <th>marital-status</th>\n",
              "      <th>occupation</th>\n",
              "      <th>relationship</th>\n",
              "      <th>race</th>\n",
              "      <th>sex</th>\n",
              "      <th>country</th>\n",
              "      <th>salary</th>\n",
              "    </tr>\n",
              "  </thead>\n",
              "  <tbody>\n",
              "    <tr>\n",
              "      <th>count</th>\n",
              "      <td>30725</td>\n",
              "      <td>32561</td>\n",
              "      <td>32561</td>\n",
              "      <td>30718</td>\n",
              "      <td>32561</td>\n",
              "      <td>32561</td>\n",
              "      <td>32561</td>\n",
              "      <td>31978</td>\n",
              "      <td>32561</td>\n",
              "    </tr>\n",
              "    <tr>\n",
              "      <th>unique</th>\n",
              "      <td>8</td>\n",
              "      <td>16</td>\n",
              "      <td>7</td>\n",
              "      <td>14</td>\n",
              "      <td>6</td>\n",
              "      <td>5</td>\n",
              "      <td>2</td>\n",
              "      <td>41</td>\n",
              "      <td>2</td>\n",
              "    </tr>\n",
              "    <tr>\n",
              "      <th>top</th>\n",
              "      <td>Private</td>\n",
              "      <td>HS-grad</td>\n",
              "      <td>Married-civ-spouse</td>\n",
              "      <td>Prof-specialty</td>\n",
              "      <td>Husband</td>\n",
              "      <td>White</td>\n",
              "      <td>Male</td>\n",
              "      <td>United-States</td>\n",
              "      <td>&lt;=50K</td>\n",
              "    </tr>\n",
              "    <tr>\n",
              "      <th>freq</th>\n",
              "      <td>22696</td>\n",
              "      <td>10501</td>\n",
              "      <td>14976</td>\n",
              "      <td>4140</td>\n",
              "      <td>13193</td>\n",
              "      <td>27816</td>\n",
              "      <td>21790</td>\n",
              "      <td>29170</td>\n",
              "      <td>24720</td>\n",
              "    </tr>\n",
              "  </tbody>\n",
              "</table>\n",
              "</div>"
            ],
            "text/plain": [
              "       workclass education       marital-status  ...    sex         country  salary\n",
              "count      30725     32561                32561  ...  32561           31978   32561\n",
              "unique         8        16                    7  ...      2              41       2\n",
              "top      Private   HS-grad   Married-civ-spouse  ...   Male   United-States   <=50K\n",
              "freq       22696     10501                14976  ...  21790           29170   24720\n",
              "\n",
              "[4 rows x 9 columns]"
            ]
          },
          "metadata": {
            "tags": []
          },
          "execution_count": 28
        }
      ]
    },
    {
      "cell_type": "code",
      "metadata": {
        "id": "O4sM8bbod1Lq",
        "colab_type": "code",
        "outputId": "79f6827f-7329-4671-e380-e0f88702a035",
        "colab": {
          "base_uri": "https://localhost:8080/",
          "height": 136
        }
      },
      "source": [
        "cut_points = [0, 9, 19, 29, 39, 49, 500]\n",
        "label_names = ['0-9', '10-19', '20-29', '30-39', '40-49', '50+']\n",
        "df['hours_per_week_categories'] = pd.cut(df['hours-per-week'], cut_points, labels=label_names)\n",
        "df.hours_per_week_categories.value_counts()"
      ],
      "execution_count": 29,
      "outputs": [
        {
          "output_type": "execute_result",
          "data": {
            "text/plain": [
              "40-49    18336\n",
              "50+       6462\n",
              "30-39     3667\n",
              "20-29     2392\n",
              "10-19     1246\n",
              "0-9        458\n",
              "Name: hours_per_week_categories, dtype: int64"
            ]
          },
          "metadata": {
            "tags": []
          },
          "execution_count": 29
        }
      ]
    },
    {
      "cell_type": "code",
      "metadata": {
        "id": "JCZ1xF_hegmt",
        "colab_type": "code",
        "outputId": "1383e25f-8d74-4e57-f48e-a29ffc5967c8",
        "colab": {
          "base_uri": "https://localhost:8080/",
          "height": 68
        }
      },
      "source": [
        "df.sex.value_counts()"
      ],
      "execution_count": 30,
      "outputs": [
        {
          "output_type": "execute_result",
          "data": {
            "text/plain": [
              " Male      21790\n",
              " Female    10771\n",
              "Name: sex, dtype: int64"
            ]
          },
          "metadata": {
            "tags": []
          },
          "execution_count": 30
        }
      ]
    },
    {
      "cell_type": "code",
      "metadata": {
        "id": "nEqCjnFvemI8",
        "colab_type": "code",
        "outputId": "3e3d93e0-e0a4-42ef-b1f6-9c12be0b3e11",
        "colab": {
          "base_uri": "https://localhost:8080/",
          "height": 173
        }
      },
      "source": [
        "df = df.sort_values(by='hours_per_week_categories')\n",
        "contingency_table = pd.crosstab(df['sex'], df['hours_per_week_categories'], margins=True)\n",
        "contingency_table"
      ],
      "execution_count": 31,
      "outputs": [
        {
          "output_type": "execute_result",
          "data": {
            "text/html": [
              "<div>\n",
              "<style scoped>\n",
              "    .dataframe tbody tr th:only-of-type {\n",
              "        vertical-align: middle;\n",
              "    }\n",
              "\n",
              "    .dataframe tbody tr th {\n",
              "        vertical-align: top;\n",
              "    }\n",
              "\n",
              "    .dataframe thead th {\n",
              "        text-align: right;\n",
              "    }\n",
              "</style>\n",
              "<table border=\"1\" class=\"dataframe\">\n",
              "  <thead>\n",
              "    <tr style=\"text-align: right;\">\n",
              "      <th>hours_per_week_categories</th>\n",
              "      <th>0-9</th>\n",
              "      <th>10-19</th>\n",
              "      <th>20-29</th>\n",
              "      <th>30-39</th>\n",
              "      <th>40-49</th>\n",
              "      <th>50+</th>\n",
              "      <th>All</th>\n",
              "    </tr>\n",
              "    <tr>\n",
              "      <th>sex</th>\n",
              "      <th></th>\n",
              "      <th></th>\n",
              "      <th></th>\n",
              "      <th></th>\n",
              "      <th></th>\n",
              "      <th></th>\n",
              "      <th></th>\n",
              "    </tr>\n",
              "  </thead>\n",
              "  <tbody>\n",
              "    <tr>\n",
              "      <th>Female</th>\n",
              "      <td>235</td>\n",
              "      <td>671</td>\n",
              "      <td>1287</td>\n",
              "      <td>1914</td>\n",
              "      <td>5636</td>\n",
              "      <td>1028</td>\n",
              "      <td>10771</td>\n",
              "    </tr>\n",
              "    <tr>\n",
              "      <th>Male</th>\n",
              "      <td>223</td>\n",
              "      <td>575</td>\n",
              "      <td>1105</td>\n",
              "      <td>1753</td>\n",
              "      <td>12700</td>\n",
              "      <td>5434</td>\n",
              "      <td>21790</td>\n",
              "    </tr>\n",
              "    <tr>\n",
              "      <th>All</th>\n",
              "      <td>458</td>\n",
              "      <td>1246</td>\n",
              "      <td>2392</td>\n",
              "      <td>3667</td>\n",
              "      <td>18336</td>\n",
              "      <td>6462</td>\n",
              "      <td>32561</td>\n",
              "    </tr>\n",
              "  </tbody>\n",
              "</table>\n",
              "</div>"
            ],
            "text/plain": [
              "hours_per_week_categories  0-9  10-19  20-29  30-39  40-49   50+    All\n",
              "sex                                                                    \n",
              " Female                    235    671   1287   1914   5636  1028  10771\n",
              " Male                      223    575   1105   1753  12700  5434  21790\n",
              "All                        458   1246   2392   3667  18336  6462  32561"
            ]
          },
          "metadata": {
            "tags": []
          },
          "execution_count": 31
        }
      ]
    },
    {
      "cell_type": "markdown",
      "metadata": {
        "id": "uyw_hby7-OHF",
        "colab_type": "text"
      },
      "source": [
        "## Expected Value Calculation\n",
        "\\begin{align}\n",
        "expected_{i,j} =\\frac{(row_{i} \\text{total})(column_{j} \\text{total}) }{(\\text{total observations})}  \n",
        "\\end{align}"
      ]
    },
    {
      "cell_type": "code",
      "metadata": {
        "id": "Sorc0f3Vfb7t",
        "colab_type": "code",
        "outputId": "65e9e931-59aa-4f21-86cd-612a0cc0cde2",
        "colab": {
          "base_uri": "https://localhost:8080/",
          "height": 51
        }
      },
      "source": [
        "row_sums = contingency_table.iloc[0:2, 6].values\n",
        "col_sums = contingency_table.iloc[2, 0:6].values\n",
        "print(row_sums)\n",
        "print(col_sums)"
      ],
      "execution_count": 32,
      "outputs": [
        {
          "output_type": "stream",
          "text": [
            "[10771 21790]\n",
            "[  458  1246  2392  3667 18336  6462]\n"
          ],
          "name": "stdout"
        }
      ]
    },
    {
      "cell_type": "code",
      "metadata": {
        "id": "C11nWaal-acY",
        "colab_type": "code",
        "outputId": "555377db-7e1e-4241-e313-29096fa4ef81",
        "colab": {
          "base_uri": "https://localhost:8080/",
          "height": 34
        }
      },
      "source": [
        "total = contingency_table.loc['All', 'All']\n",
        "total"
      ],
      "execution_count": 33,
      "outputs": [
        {
          "output_type": "execute_result",
          "data": {
            "text/plain": [
              "32561"
            ]
          },
          "metadata": {
            "tags": []
          },
          "execution_count": 33
        }
      ]
    },
    {
      "cell_type": "code",
      "metadata": {
        "id": "jOu4gyQDgqKo",
        "colab_type": "code",
        "outputId": "44572862-4497-473e-8720-daae4dd61b71",
        "colab": {
          "base_uri": "https://localhost:8080/",
          "height": 102
        }
      },
      "source": [
        "expected =[]\n",
        "for i in range(len(row_sums)):\n",
        "  expected_row = []\n",
        "  for column in col_sums:\n",
        "    expected_val = column*row_sums[i]/total\n",
        "    expected_row.append(expected_val)\n",
        "  expected.append(expected_row)\n",
        "expected = np.array(expected)\n",
        "print(expected.shape)\n",
        "print(expected)"
      ],
      "execution_count": 34,
      "outputs": [
        {
          "output_type": "stream",
          "text": [
            "(2, 6)\n",
            "[[  151.50388502   412.16995793   791.26046497  1213.02346365\n",
            "   6065.44811277  2137.59411566]\n",
            " [  306.49611498   833.83004207  1600.73953503  2453.97653635\n",
            "  12270.55188723  4324.40588434]]\n"
          ],
          "name": "stdout"
        }
      ]
    },
    {
      "cell_type": "markdown",
      "metadata": {
        "id": "R6AWydhG_P4s",
        "colab_type": "text"
      },
      "source": [
        "## Chi-Squared Statistic with Numpy\n",
        "\n",
        "\\begin{align}\n",
        "\\chi^2 = \\sum \\frac{(observed_{i}-expected_{i})^2}{(expected_{i})}\n",
        "\\end{align}\n",
        "\n",
        "For the $observed$ values we will just use a version of our contingency table without the margins as a numpy array. In this way, if our observed values array and our expected values array are the same shape, then we can subtract them and divide them directly which makes the calculations a lot cleaner. No for loops!"
      ]
    },
    {
      "cell_type": "code",
      "metadata": {
        "id": "0y5gBeJZhjMs",
        "colab_type": "code",
        "outputId": "9d0fbafe-fa88-4e0b-fcb0-8f262ed7b32a",
        "colab": {
          "base_uri": "https://localhost:8080/",
          "height": 68
        }
      },
      "source": [
        "observed = pd.crosstab(df['sex'], df['hours_per_week_categories']).values\n",
        "print(observed.shape)\n",
        "observed"
      ],
      "execution_count": 35,
      "outputs": [
        {
          "output_type": "stream",
          "text": [
            "(2, 6)\n"
          ],
          "name": "stdout"
        },
        {
          "output_type": "execute_result",
          "data": {
            "text/plain": [
              "array([[  235,   671,  1287,  1914,  5636,  1028],\n",
              "       [  223,   575,  1105,  1753, 12700,  5434]])"
            ]
          },
          "metadata": {
            "tags": []
          },
          "execution_count": 35
        }
      ]
    },
    {
      "cell_type": "code",
      "metadata": {
        "id": "o7YgaNij_cSo",
        "colab_type": "code",
        "outputId": "7b702805-b53d-4075-9f5f-21782268e1d7",
        "colab": {
          "base_uri": "https://localhost:8080/",
          "height": 34
        }
      },
      "source": [
        "chi_square = ((observed - expected)**2/(expected)).sum()\n",
        "chi_square"
      ],
      "execution_count": 36,
      "outputs": [
        {
          "output_type": "execute_result",
          "data": {
            "text/plain": [
              "2287.190943926107"
            ]
          },
          "metadata": {
            "tags": []
          },
          "execution_count": 36
        }
      ]
    },
    {
      "cell_type": "markdown",
      "metadata": {
        "id": "7Igz-XHcVbW3",
        "colab_type": "text"
      },
      "source": [
        "## Run a $\\chi^{2}$ Test using Scipy"
      ]
    },
    {
      "cell_type": "code",
      "metadata": {
        "id": "kazgId8L9tYZ",
        "colab_type": "code",
        "outputId": "405f7923-1d59-43c5-e64e-dc38dd6f68ba",
        "colab": {
          "base_uri": "https://localhost:8080/",
          "height": 85
        }
      },
      "source": [
        "chi_squared, p_value, dof, expected = stats.chi2_contingency(observed)\n",
        "print(chi_squared, p_value, dof, expected)"
      ],
      "execution_count": 37,
      "outputs": [
        {
          "output_type": "stream",
          "text": [
            "2287.190943926107 0.0 5 [[  151.50388502   412.16995793   791.26046497  1213.02346365\n",
            "   6065.44811277  2137.59411566]\n",
            " [  306.49611498   833.83004207  1600.73953503  2453.97653635\n",
            "  12270.55188723  4324.40588434]]\n"
          ],
          "name": "stdout"
        }
      ]
    },
    {
      "cell_type": "code",
      "metadata": {
        "id": "iK4l6Yd9if3O",
        "colab_type": "code",
        "colab": {}
      },
      "source": [
        ""
      ],
      "execution_count": 0,
      "outputs": []
    },
    {
      "cell_type": "markdown",
      "metadata": {
        "id": "TRtBEP3rA307",
        "colab_type": "text"
      },
      "source": [
        "Null Hypothesis: Hours worked per week bins is **independent** of sex. \n",
        "\n",
        "Due to a p-value of 0, we REJECT the null hypothesis that hours worked per week and sex are independent, and conclude that there is an association between hours worked per week and sex. "
      ]
    },
    {
      "cell_type": "markdown",
      "metadata": {
        "id": "11OzdxWTM7UR",
        "colab_type": "text"
      },
      "source": [
        "## Assignment - Build a confidence interval\n",
        "\n",
        "A confidence interval refers to a neighborhood around some point estimate, the size of which is determined by the desired p-value. For instance, we might say that 52% of Americans prefer tacos to burritos, with a 95% confidence interval of +/- 5%.\n",
        "\n",
        "52% (0.52) is the point estimate, and +/- 5% (the interval $[0.47, 0.57]$) is the confidence interval. \"95% confidence\" means a p-value $\\leq 1 - 0.95 = 0.05$.\n",
        "\n",
        "In this case, the confidence interval includes $0.5$ - which is the natural null hypothesis (that half of Americans prefer tacos and half burritos, thus there is no clear favorite). So in this case, we could use the confidence interval to report that we've failed to reject the null hypothesis.\n",
        "\n",
        "But providing the full analysis with a confidence interval, including a graphical representation of it, can be a helpful and powerful way to tell your story. Done well, it is also more intuitive to a layperson than simply saying \"fail to reject the null hypothesis\" - it shows that in fact the data does *not* give a single clear result (the point estimate) but a whole range of possibilities.\n",
        "\n",
        "How is a confidence interval built, and how should it be interpreted? It does *not* mean that 95% of the data lies in that interval - instead, the frequentist interpretation is \"if we were to repeat this experiment 100 times, we would expect the average result to lie in this interval ~95 times.\"\n",
        "\n",
        "For a 95% confidence interval and a normal(-ish) distribution, you can simply remember that +/-2 standard deviations contains 95% of the probability mass, and so the 95% confidence interval based on a given sample is centered at the mean (point estimate) and has a range of +/- 2 (or technically 1.96) standard deviations.\n",
        "\n",
        "Different distributions/assumptions (90% confidence, 99% confidence) will require different math, but the overall process and interpretation (with a frequentist approach) will be the same.\n",
        "\n",
        "Your assignment - using the data from the prior module ([congressional voting records](https://archive.ics.uci.edu/ml/datasets/Congressional+Voting+Records)):\n",
        "\n",
        "\n",
        "### Confidence Intervals:\n",
        "1. Generate and numerically represent a confidence interval\n",
        "2. Graphically (with a plot) represent the confidence interval\n",
        "3. Interpret the confidence interval - what does it tell you about the data and its distribution?\n",
        "\n",
        "### Chi-squared tests:\n",
        "4. Take a dataset that we have used in the past in class that has **categorical** variables. Pick two of those categorical variables and run a chi-squared tests on that data\n",
        "  - By hand using Numpy\n",
        "  - In a single line using Scipy\n",
        "\n",
        "Stretch goals:\n",
        "\n",
        "1. Write a summary of your findings, mixing prose and math/code/results. *Note* - yes, this is by definition a political topic. It is challenging but important to keep your writing voice *neutral* and stick to the facts of the data. Data science often involves considering controversial issues, so it's important to be sensitive about them (especially if you want to publish).\n",
        "2. Apply the techniques you learned today to your project data or other data of your choice, and write/discuss your findings here.\n",
        "3. Refactor your code so it is elegant, readable, and can be easily run for all issues."
      ]
    },
    {
      "cell_type": "code",
      "metadata": {
        "id": "Ckcr4A4FM7cs",
        "colab_type": "code",
        "colab": {}
      },
      "source": [
        "# TODO - your code!\n",
        "\n",
        "import pandas as pd\n",
        "import matplotlib.pyplot as plt"
      ],
      "execution_count": 0,
      "outputs": []
    },
    {
      "cell_type": "code",
      "metadata": {
        "id": "roi82394FirU",
        "colab_type": "code",
        "colab": {
          "base_uri": "https://localhost:8080/",
          "height": 221
        },
        "outputId": "06a6a860-4669-4cbe-fc62-28af923c2891"
      },
      "source": [
        "df = pd.read_csv('house-votes-84.data', names=(1, 2, 3, 4, 5, 6, 7, 8, 9, 10, 11, 12, 13, 14, 15, 16, 17))\n",
        "print(df.shape)\n",
        "df.head()"
      ],
      "execution_count": 39,
      "outputs": [
        {
          "output_type": "stream",
          "text": [
            "(435, 17)\n"
          ],
          "name": "stdout"
        },
        {
          "output_type": "execute_result",
          "data": {
            "text/html": [
              "<div>\n",
              "<style scoped>\n",
              "    .dataframe tbody tr th:only-of-type {\n",
              "        vertical-align: middle;\n",
              "    }\n",
              "\n",
              "    .dataframe tbody tr th {\n",
              "        vertical-align: top;\n",
              "    }\n",
              "\n",
              "    .dataframe thead th {\n",
              "        text-align: right;\n",
              "    }\n",
              "</style>\n",
              "<table border=\"1\" class=\"dataframe\">\n",
              "  <thead>\n",
              "    <tr style=\"text-align: right;\">\n",
              "      <th></th>\n",
              "      <th>1</th>\n",
              "      <th>2</th>\n",
              "      <th>3</th>\n",
              "      <th>4</th>\n",
              "      <th>5</th>\n",
              "      <th>6</th>\n",
              "      <th>7</th>\n",
              "      <th>8</th>\n",
              "      <th>9</th>\n",
              "      <th>10</th>\n",
              "      <th>11</th>\n",
              "      <th>12</th>\n",
              "      <th>13</th>\n",
              "      <th>14</th>\n",
              "      <th>15</th>\n",
              "      <th>16</th>\n",
              "      <th>17</th>\n",
              "    </tr>\n",
              "  </thead>\n",
              "  <tbody>\n",
              "    <tr>\n",
              "      <th>0</th>\n",
              "      <td>republican</td>\n",
              "      <td>n</td>\n",
              "      <td>y</td>\n",
              "      <td>n</td>\n",
              "      <td>y</td>\n",
              "      <td>y</td>\n",
              "      <td>y</td>\n",
              "      <td>n</td>\n",
              "      <td>n</td>\n",
              "      <td>n</td>\n",
              "      <td>y</td>\n",
              "      <td>?</td>\n",
              "      <td>y</td>\n",
              "      <td>y</td>\n",
              "      <td>y</td>\n",
              "      <td>n</td>\n",
              "      <td>y</td>\n",
              "    </tr>\n",
              "    <tr>\n",
              "      <th>1</th>\n",
              "      <td>republican</td>\n",
              "      <td>n</td>\n",
              "      <td>y</td>\n",
              "      <td>n</td>\n",
              "      <td>y</td>\n",
              "      <td>y</td>\n",
              "      <td>y</td>\n",
              "      <td>n</td>\n",
              "      <td>n</td>\n",
              "      <td>n</td>\n",
              "      <td>n</td>\n",
              "      <td>n</td>\n",
              "      <td>y</td>\n",
              "      <td>y</td>\n",
              "      <td>y</td>\n",
              "      <td>n</td>\n",
              "      <td>?</td>\n",
              "    </tr>\n",
              "    <tr>\n",
              "      <th>2</th>\n",
              "      <td>democrat</td>\n",
              "      <td>?</td>\n",
              "      <td>y</td>\n",
              "      <td>y</td>\n",
              "      <td>?</td>\n",
              "      <td>y</td>\n",
              "      <td>y</td>\n",
              "      <td>n</td>\n",
              "      <td>n</td>\n",
              "      <td>n</td>\n",
              "      <td>n</td>\n",
              "      <td>y</td>\n",
              "      <td>n</td>\n",
              "      <td>y</td>\n",
              "      <td>y</td>\n",
              "      <td>n</td>\n",
              "      <td>n</td>\n",
              "    </tr>\n",
              "    <tr>\n",
              "      <th>3</th>\n",
              "      <td>democrat</td>\n",
              "      <td>n</td>\n",
              "      <td>y</td>\n",
              "      <td>y</td>\n",
              "      <td>n</td>\n",
              "      <td>?</td>\n",
              "      <td>y</td>\n",
              "      <td>n</td>\n",
              "      <td>n</td>\n",
              "      <td>n</td>\n",
              "      <td>n</td>\n",
              "      <td>y</td>\n",
              "      <td>n</td>\n",
              "      <td>y</td>\n",
              "      <td>n</td>\n",
              "      <td>n</td>\n",
              "      <td>y</td>\n",
              "    </tr>\n",
              "    <tr>\n",
              "      <th>4</th>\n",
              "      <td>democrat</td>\n",
              "      <td>y</td>\n",
              "      <td>y</td>\n",
              "      <td>y</td>\n",
              "      <td>n</td>\n",
              "      <td>y</td>\n",
              "      <td>y</td>\n",
              "      <td>n</td>\n",
              "      <td>n</td>\n",
              "      <td>n</td>\n",
              "      <td>n</td>\n",
              "      <td>y</td>\n",
              "      <td>?</td>\n",
              "      <td>y</td>\n",
              "      <td>y</td>\n",
              "      <td>y</td>\n",
              "      <td>y</td>\n",
              "    </tr>\n",
              "  </tbody>\n",
              "</table>\n",
              "</div>"
            ],
            "text/plain": [
              "           1  2  3  4  5  6  7  8  9  10 11 12 13 14 15 16 17\n",
              "0  republican  n  y  n  y  y  y  n  n  n  y  ?  y  y  y  n  y\n",
              "1  republican  n  y  n  y  y  y  n  n  n  n  n  y  y  y  n  ?\n",
              "2    democrat  ?  y  y  ?  y  y  n  n  n  n  y  n  y  y  n  n\n",
              "3    democrat  n  y  y  n  ?  y  n  n  n  n  y  n  y  n  n  y\n",
              "4    democrat  y  y  y  n  y  y  n  n  n  n  y  ?  y  y  y  y"
            ]
          },
          "metadata": {
            "tags": []
          },
          "execution_count": 39
        }
      ]
    },
    {
      "cell_type": "code",
      "metadata": {
        "id": "OxdwKfBkFo68",
        "colab_type": "code",
        "colab": {
          "base_uri": "https://localhost:8080/",
          "height": 238
        },
        "outputId": "cbe4e25e-e478-48ad-b484-f7f05cb98de2"
      },
      "source": [
        "df = df.rename(columns={\n",
        "1: 'Class Name',\n",
        "2: 'handicapped-infants',\n",
        "3: 'water-project-cost-sharing',\n",
        "4: 'adoption-of-the-budget-resolution',\n",
        "5: 'physician-fee-freeze',\n",
        "6: 'el-salvador-aid',\n",
        "7: 'religious-groups-in-schools',\n",
        "8: 'anti-satellite-test-ban',\n",
        "9: 'aid-to-nicaraguan-contras',\n",
        "10: 'mx-missile',\n",
        "11: 'immigration',\n",
        "12: 'synfuels-corporation-cutback',\n",
        "13: 'education-spending',\n",
        "14: 'superfund-right-to-sue',\n",
        "15: 'crime',\n",
        "16: 'duty-free-exports',\n",
        "17: 'export-administration-act-south-africa'\n",
        "})\n",
        "df.head()"
      ],
      "execution_count": 40,
      "outputs": [
        {
          "output_type": "execute_result",
          "data": {
            "text/html": [
              "<div>\n",
              "<style scoped>\n",
              "    .dataframe tbody tr th:only-of-type {\n",
              "        vertical-align: middle;\n",
              "    }\n",
              "\n",
              "    .dataframe tbody tr th {\n",
              "        vertical-align: top;\n",
              "    }\n",
              "\n",
              "    .dataframe thead th {\n",
              "        text-align: right;\n",
              "    }\n",
              "</style>\n",
              "<table border=\"1\" class=\"dataframe\">\n",
              "  <thead>\n",
              "    <tr style=\"text-align: right;\">\n",
              "      <th></th>\n",
              "      <th>Class Name</th>\n",
              "      <th>handicapped-infants</th>\n",
              "      <th>water-project-cost-sharing</th>\n",
              "      <th>adoption-of-the-budget-resolution</th>\n",
              "      <th>physician-fee-freeze</th>\n",
              "      <th>el-salvador-aid</th>\n",
              "      <th>religious-groups-in-schools</th>\n",
              "      <th>anti-satellite-test-ban</th>\n",
              "      <th>aid-to-nicaraguan-contras</th>\n",
              "      <th>mx-missile</th>\n",
              "      <th>immigration</th>\n",
              "      <th>synfuels-corporation-cutback</th>\n",
              "      <th>education-spending</th>\n",
              "      <th>superfund-right-to-sue</th>\n",
              "      <th>crime</th>\n",
              "      <th>duty-free-exports</th>\n",
              "      <th>export-administration-act-south-africa</th>\n",
              "    </tr>\n",
              "  </thead>\n",
              "  <tbody>\n",
              "    <tr>\n",
              "      <th>0</th>\n",
              "      <td>republican</td>\n",
              "      <td>n</td>\n",
              "      <td>y</td>\n",
              "      <td>n</td>\n",
              "      <td>y</td>\n",
              "      <td>y</td>\n",
              "      <td>y</td>\n",
              "      <td>n</td>\n",
              "      <td>n</td>\n",
              "      <td>n</td>\n",
              "      <td>y</td>\n",
              "      <td>?</td>\n",
              "      <td>y</td>\n",
              "      <td>y</td>\n",
              "      <td>y</td>\n",
              "      <td>n</td>\n",
              "      <td>y</td>\n",
              "    </tr>\n",
              "    <tr>\n",
              "      <th>1</th>\n",
              "      <td>republican</td>\n",
              "      <td>n</td>\n",
              "      <td>y</td>\n",
              "      <td>n</td>\n",
              "      <td>y</td>\n",
              "      <td>y</td>\n",
              "      <td>y</td>\n",
              "      <td>n</td>\n",
              "      <td>n</td>\n",
              "      <td>n</td>\n",
              "      <td>n</td>\n",
              "      <td>n</td>\n",
              "      <td>y</td>\n",
              "      <td>y</td>\n",
              "      <td>y</td>\n",
              "      <td>n</td>\n",
              "      <td>?</td>\n",
              "    </tr>\n",
              "    <tr>\n",
              "      <th>2</th>\n",
              "      <td>democrat</td>\n",
              "      <td>?</td>\n",
              "      <td>y</td>\n",
              "      <td>y</td>\n",
              "      <td>?</td>\n",
              "      <td>y</td>\n",
              "      <td>y</td>\n",
              "      <td>n</td>\n",
              "      <td>n</td>\n",
              "      <td>n</td>\n",
              "      <td>n</td>\n",
              "      <td>y</td>\n",
              "      <td>n</td>\n",
              "      <td>y</td>\n",
              "      <td>y</td>\n",
              "      <td>n</td>\n",
              "      <td>n</td>\n",
              "    </tr>\n",
              "    <tr>\n",
              "      <th>3</th>\n",
              "      <td>democrat</td>\n",
              "      <td>n</td>\n",
              "      <td>y</td>\n",
              "      <td>y</td>\n",
              "      <td>n</td>\n",
              "      <td>?</td>\n",
              "      <td>y</td>\n",
              "      <td>n</td>\n",
              "      <td>n</td>\n",
              "      <td>n</td>\n",
              "      <td>n</td>\n",
              "      <td>y</td>\n",
              "      <td>n</td>\n",
              "      <td>y</td>\n",
              "      <td>n</td>\n",
              "      <td>n</td>\n",
              "      <td>y</td>\n",
              "    </tr>\n",
              "    <tr>\n",
              "      <th>4</th>\n",
              "      <td>democrat</td>\n",
              "      <td>y</td>\n",
              "      <td>y</td>\n",
              "      <td>y</td>\n",
              "      <td>n</td>\n",
              "      <td>y</td>\n",
              "      <td>y</td>\n",
              "      <td>n</td>\n",
              "      <td>n</td>\n",
              "      <td>n</td>\n",
              "      <td>n</td>\n",
              "      <td>y</td>\n",
              "      <td>?</td>\n",
              "      <td>y</td>\n",
              "      <td>y</td>\n",
              "      <td>y</td>\n",
              "      <td>y</td>\n",
              "    </tr>\n",
              "  </tbody>\n",
              "</table>\n",
              "</div>"
            ],
            "text/plain": [
              "   Class Name  ... export-administration-act-south-africa\n",
              "0  republican  ...                                      y\n",
              "1  republican  ...                                      ?\n",
              "2    democrat  ...                                      n\n",
              "3    democrat  ...                                      y\n",
              "4    democrat  ...                                      y\n",
              "\n",
              "[5 rows x 17 columns]"
            ]
          },
          "metadata": {
            "tags": []
          },
          "execution_count": 40
        }
      ]
    },
    {
      "cell_type": "code",
      "metadata": {
        "id": "kAWK_3bfFyy0",
        "colab_type": "code",
        "colab": {
          "base_uri": "https://localhost:8080/",
          "height": 238
        },
        "outputId": "22fdf673-b7ce-4940-affb-8ec1acdb0a64"
      },
      "source": [
        "df = df.replace('n', 0)\n",
        "df = df.replace('y', 1)\n",
        "df = df.replace('?', 0.5)\n",
        "df = df.replace('republican', 0)\n",
        "df = df.replace('democrat', 1)\n",
        "df = df.astype('float')\n",
        "df['Class Name'] = df['Class Name'].replace(0, 'republican')\n",
        "df['Class Name'] = df['Class Name'].replace(1, 'democrat')\n",
        "df.head()"
      ],
      "execution_count": 41,
      "outputs": [
        {
          "output_type": "execute_result",
          "data": {
            "text/html": [
              "<div>\n",
              "<style scoped>\n",
              "    .dataframe tbody tr th:only-of-type {\n",
              "        vertical-align: middle;\n",
              "    }\n",
              "\n",
              "    .dataframe tbody tr th {\n",
              "        vertical-align: top;\n",
              "    }\n",
              "\n",
              "    .dataframe thead th {\n",
              "        text-align: right;\n",
              "    }\n",
              "</style>\n",
              "<table border=\"1\" class=\"dataframe\">\n",
              "  <thead>\n",
              "    <tr style=\"text-align: right;\">\n",
              "      <th></th>\n",
              "      <th>Class Name</th>\n",
              "      <th>handicapped-infants</th>\n",
              "      <th>water-project-cost-sharing</th>\n",
              "      <th>adoption-of-the-budget-resolution</th>\n",
              "      <th>physician-fee-freeze</th>\n",
              "      <th>el-salvador-aid</th>\n",
              "      <th>religious-groups-in-schools</th>\n",
              "      <th>anti-satellite-test-ban</th>\n",
              "      <th>aid-to-nicaraguan-contras</th>\n",
              "      <th>mx-missile</th>\n",
              "      <th>immigration</th>\n",
              "      <th>synfuels-corporation-cutback</th>\n",
              "      <th>education-spending</th>\n",
              "      <th>superfund-right-to-sue</th>\n",
              "      <th>crime</th>\n",
              "      <th>duty-free-exports</th>\n",
              "      <th>export-administration-act-south-africa</th>\n",
              "    </tr>\n",
              "  </thead>\n",
              "  <tbody>\n",
              "    <tr>\n",
              "      <th>0</th>\n",
              "      <td>republican</td>\n",
              "      <td>0.0</td>\n",
              "      <td>1.0</td>\n",
              "      <td>0.0</td>\n",
              "      <td>1.0</td>\n",
              "      <td>1.0</td>\n",
              "      <td>1.0</td>\n",
              "      <td>0.0</td>\n",
              "      <td>0.0</td>\n",
              "      <td>0.0</td>\n",
              "      <td>1.0</td>\n",
              "      <td>0.5</td>\n",
              "      <td>1.0</td>\n",
              "      <td>1.0</td>\n",
              "      <td>1.0</td>\n",
              "      <td>0.0</td>\n",
              "      <td>1.0</td>\n",
              "    </tr>\n",
              "    <tr>\n",
              "      <th>1</th>\n",
              "      <td>republican</td>\n",
              "      <td>0.0</td>\n",
              "      <td>1.0</td>\n",
              "      <td>0.0</td>\n",
              "      <td>1.0</td>\n",
              "      <td>1.0</td>\n",
              "      <td>1.0</td>\n",
              "      <td>0.0</td>\n",
              "      <td>0.0</td>\n",
              "      <td>0.0</td>\n",
              "      <td>0.0</td>\n",
              "      <td>0.0</td>\n",
              "      <td>1.0</td>\n",
              "      <td>1.0</td>\n",
              "      <td>1.0</td>\n",
              "      <td>0.0</td>\n",
              "      <td>0.5</td>\n",
              "    </tr>\n",
              "    <tr>\n",
              "      <th>2</th>\n",
              "      <td>democrat</td>\n",
              "      <td>0.5</td>\n",
              "      <td>1.0</td>\n",
              "      <td>1.0</td>\n",
              "      <td>0.5</td>\n",
              "      <td>1.0</td>\n",
              "      <td>1.0</td>\n",
              "      <td>0.0</td>\n",
              "      <td>0.0</td>\n",
              "      <td>0.0</td>\n",
              "      <td>0.0</td>\n",
              "      <td>1.0</td>\n",
              "      <td>0.0</td>\n",
              "      <td>1.0</td>\n",
              "      <td>1.0</td>\n",
              "      <td>0.0</td>\n",
              "      <td>0.0</td>\n",
              "    </tr>\n",
              "    <tr>\n",
              "      <th>3</th>\n",
              "      <td>democrat</td>\n",
              "      <td>0.0</td>\n",
              "      <td>1.0</td>\n",
              "      <td>1.0</td>\n",
              "      <td>0.0</td>\n",
              "      <td>0.5</td>\n",
              "      <td>1.0</td>\n",
              "      <td>0.0</td>\n",
              "      <td>0.0</td>\n",
              "      <td>0.0</td>\n",
              "      <td>0.0</td>\n",
              "      <td>1.0</td>\n",
              "      <td>0.0</td>\n",
              "      <td>1.0</td>\n",
              "      <td>0.0</td>\n",
              "      <td>0.0</td>\n",
              "      <td>1.0</td>\n",
              "    </tr>\n",
              "    <tr>\n",
              "      <th>4</th>\n",
              "      <td>democrat</td>\n",
              "      <td>1.0</td>\n",
              "      <td>1.0</td>\n",
              "      <td>1.0</td>\n",
              "      <td>0.0</td>\n",
              "      <td>1.0</td>\n",
              "      <td>1.0</td>\n",
              "      <td>0.0</td>\n",
              "      <td>0.0</td>\n",
              "      <td>0.0</td>\n",
              "      <td>0.0</td>\n",
              "      <td>1.0</td>\n",
              "      <td>0.5</td>\n",
              "      <td>1.0</td>\n",
              "      <td>1.0</td>\n",
              "      <td>1.0</td>\n",
              "      <td>1.0</td>\n",
              "    </tr>\n",
              "  </tbody>\n",
              "</table>\n",
              "</div>"
            ],
            "text/plain": [
              "   Class Name  ...  export-administration-act-south-africa\n",
              "0  republican  ...                                     1.0\n",
              "1  republican  ...                                     0.5\n",
              "2    democrat  ...                                     0.0\n",
              "3    democrat  ...                                     1.0\n",
              "4    democrat  ...                                     1.0\n",
              "\n",
              "[5 rows x 17 columns]"
            ]
          },
          "metadata": {
            "tags": []
          },
          "execution_count": 41
        }
      ]
    },
    {
      "cell_type": "code",
      "metadata": {
        "id": "MgBCusBQGiCK",
        "colab_type": "code",
        "colab": {
          "base_uri": "https://localhost:8080/",
          "height": 119
        },
        "outputId": "023204ef-14e5-4b86-b1c0-55ceed018f07"
      },
      "source": [
        "import numpy as np\n",
        "import scipy.stats as stats\n",
        "\n",
        "std = np.std(df.immigration)\n",
        "size = len(df.immigration)\n",
        "std_err = std/np.sqrt(size)\n",
        "t = stats.t.ppf(0.975, size-1)\n",
        "mean = df['immigration'].mean()\n",
        "ci = (mean - t*std_err, mean + t*std_err)\n",
        "margin_of_error = t*std_err\n",
        "\n",
        "print('Standard deviation:', std)\n",
        "print('Sample size:', size)\n",
        "print('Standard error:', std_err)\n",
        "print('Sample mean:', mean)\n",
        "print('Margin of error:', margin_of_error)\n",
        "print('Confidence interval:', ci)"
      ],
      "execution_count": 42,
      "outputs": [
        {
          "output_type": "stream",
          "text": [
            "Standard deviation: 0.49593938403638904\n",
            "Sample size: 435\n",
            "Standard error: 0.02377847344067149\n",
            "Sample mean: 0.5045977011494253\n",
            "Margin of error: 0.04673528324172038\n",
            "Confidence interval: (0.4578624179077049, 0.5513329843911456)\n"
          ],
          "name": "stdout"
        }
      ]
    },
    {
      "cell_type": "code",
      "metadata": {
        "id": "B1qE2LKEJxoG",
        "colab_type": "code",
        "colab": {
          "base_uri": "https://localhost:8080/",
          "height": 269
        },
        "outputId": "3ba6fe56-6ea3-4b86-98af-4fdeb73a1cf4"
      },
      "source": [
        "import seaborn as sns\n",
        "\n",
        "sns.kdeplot(df['immigration'])\n",
        "plt.axvline(x=mean, color='k')\n",
        "plt.axvline(x=ci[0], color='r')\n",
        "plt.axvline(x=ci[1], color='r');"
      ],
      "execution_count": 44,
      "outputs": [
        {
          "output_type": "display_data",
          "data": {
            "image/png": "[encoded data removed]",
            "text/plain": [
              "<Figure size 432x288 with 1 Axes>"
            ]
          },
          "metadata": {
            "tags": []
          }
        }
      ]
    },
    {
      "cell_type": "code",
      "metadata": {
        "id": "qVmfmxJKKm-5",
        "colab_type": "code",
        "colab": {}
      },
      "source": [
        "# the mean falls outside our confidence interval, so we can reject the null hypothesis."
      ],
      "execution_count": 0,
      "outputs": []
    },
    {
      "cell_type": "code",
      "metadata": {
        "id": "YxOl50L8MqZV",
        "colab_type": "code",
        "colab": {
          "base_uri": "https://localhost:8080/",
          "height": 221
        },
        "outputId": "59ad3507-aac7-4bc1-ab9c-c5920d670e4a"
      },
      "source": [
        "df = pd.read_csv('https://raw.githubusercontent.com/open-numbers/ddf--gapminder--systema_globalis/master/ddf--entities--geo--country.csv', usecols= ('income_groups', 'world_6region'))\n",
        "print(df.shape)\n",
        "df.head()"
      ],
      "execution_count": 50,
      "outputs": [
        {
          "output_type": "stream",
          "text": [
            "(273, 2)\n"
          ],
          "name": "stdout"
        },
        {
          "output_type": "execute_result",
          "data": {
            "text/html": [
              "<div>\n",
              "<style scoped>\n",
              "    .dataframe tbody tr th:only-of-type {\n",
              "        vertical-align: middle;\n",
              "    }\n",
              "\n",
              "    .dataframe tbody tr th {\n",
              "        vertical-align: top;\n",
              "    }\n",
              "\n",
              "    .dataframe thead th {\n",
              "        text-align: right;\n",
              "    }\n",
              "</style>\n",
              "<table border=\"1\" class=\"dataframe\">\n",
              "  <thead>\n",
              "    <tr style=\"text-align: right;\">\n",
              "      <th></th>\n",
              "      <th>income_groups</th>\n",
              "      <th>world_6region</th>\n",
              "    </tr>\n",
              "  </thead>\n",
              "  <tbody>\n",
              "    <tr>\n",
              "      <th>0</th>\n",
              "      <td>NaN</td>\n",
              "      <td>europe_central_asia</td>\n",
              "    </tr>\n",
              "    <tr>\n",
              "      <th>1</th>\n",
              "      <td>high_income</td>\n",
              "      <td>america</td>\n",
              "    </tr>\n",
              "    <tr>\n",
              "      <th>2</th>\n",
              "      <td>low_income</td>\n",
              "      <td>south_asia</td>\n",
              "    </tr>\n",
              "    <tr>\n",
              "      <th>3</th>\n",
              "      <td>upper_middle_income</td>\n",
              "      <td>sub_saharan_africa</td>\n",
              "    </tr>\n",
              "    <tr>\n",
              "      <th>4</th>\n",
              "      <td>NaN</td>\n",
              "      <td>america</td>\n",
              "    </tr>\n",
              "  </tbody>\n",
              "</table>\n",
              "</div>"
            ],
            "text/plain": [
              "         income_groups        world_6region\n",
              "0                  NaN  europe_central_asia\n",
              "1          high_income              america\n",
              "2           low_income           south_asia\n",
              "3  upper_middle_income   sub_saharan_africa\n",
              "4                  NaN              america"
            ]
          },
          "metadata": {
            "tags": []
          },
          "execution_count": 50
        }
      ]
    },
    {
      "cell_type": "code",
      "metadata": {
        "id": "LNZ0Nq_iOCtv",
        "colab_type": "code",
        "colab": {
          "base_uri": "https://localhost:8080/",
          "height": 68
        },
        "outputId": "dd246a09-dc85-4dba-ca0a-12e010faae06"
      },
      "source": [
        "df.isna().sum()"
      ],
      "execution_count": 51,
      "outputs": [
        {
          "output_type": "execute_result",
          "data": {
            "text/plain": [
              "income_groups    59\n",
              "world_6region    13\n",
              "dtype: int64"
            ]
          },
          "metadata": {
            "tags": []
          },
          "execution_count": 51
        }
      ]
    },
    {
      "cell_type": "code",
      "metadata": {
        "id": "__OUu6HuOJ7f",
        "colab_type": "code",
        "colab": {
          "base_uri": "https://localhost:8080/",
          "height": 68
        },
        "outputId": "d79b6ee4-a75d-40e5-8798-83351b6c80db"
      },
      "source": [
        "df.dropna(inplace=True)\n",
        "df.isna().sum()"
      ],
      "execution_count": 53,
      "outputs": [
        {
          "output_type": "execute_result",
          "data": {
            "text/plain": [
              "income_groups    0\n",
              "world_6region    0\n",
              "dtype: int64"
            ]
          },
          "metadata": {
            "tags": []
          },
          "execution_count": 53
        }
      ]
    },
    {
      "cell_type": "code",
      "metadata": {
        "id": "wYB6GxPVOQ0m",
        "colab_type": "code",
        "colab": {
          "base_uri": "https://localhost:8080/",
          "height": 34
        },
        "outputId": "062d3923-f9a7-4232-82a1-bd2c700dc669"
      },
      "source": [
        "df.shape"
      ],
      "execution_count": 54,
      "outputs": [
        {
          "output_type": "execute_result",
          "data": {
            "text/plain": [
              "(213, 2)"
            ]
          },
          "metadata": {
            "tags": []
          },
          "execution_count": 54
        }
      ]
    },
    {
      "cell_type": "code",
      "metadata": {
        "id": "eTjNv9Y-Ozmj",
        "colab_type": "code",
        "colab": {
          "base_uri": "https://localhost:8080/",
          "height": 102
        },
        "outputId": "997d9cb5-d59f-4425-f544-c5489a21f948"
      },
      "source": [
        "df['income_groups'].value_counts()"
      ],
      "execution_count": 55,
      "outputs": [
        {
          "output_type": "execute_result",
          "data": {
            "text/plain": [
              "high_income            74\n",
              "upper_middle_income    55\n",
              "lower_middle_income    48\n",
              "low_income             36\n",
              "Name: income_groups, dtype: int64"
            ]
          },
          "metadata": {
            "tags": []
          },
          "execution_count": 55
        }
      ]
    },
    {
      "cell_type": "code",
      "metadata": {
        "id": "QUhDbrKCPI4l",
        "colab_type": "code",
        "colab": {
          "base_uri": "https://localhost:8080/",
          "height": 136
        },
        "outputId": "848c9ea7-9e15-43b8-fa6a-be7b91d91d1c"
      },
      "source": [
        "df['world_6region'].value_counts()"
      ],
      "execution_count": 57,
      "outputs": [
        {
          "output_type": "execute_result",
          "data": {
            "text/plain": [
              "europe_central_asia         58\n",
              "sub_saharan_africa          48\n",
              "america                     43\n",
              "east_asia_pacific           36\n",
              "middle_east_north_africa    20\n",
              "south_asia                   8\n",
              "Name: world_6region, dtype: int64"
            ]
          },
          "metadata": {
            "tags": []
          },
          "execution_count": 57
        }
      ]
    },
    {
      "cell_type": "code",
      "metadata": {
        "id": "87Kvmf5wPY2M",
        "colab_type": "code",
        "colab": {
          "base_uri": "https://localhost:8080/",
          "height": 297
        },
        "outputId": "cf29a6fd-de8e-4fc0-cb7f-81e4d7ea22be"
      },
      "source": [
        "df = df.sort_values(by='income_groups')\n",
        "ct = pd.crosstab(df['world_6region'], df['income_groups'], margins=True)\n",
        "ct"
      ],
      "execution_count": 58,
      "outputs": [
        {
          "output_type": "execute_result",
          "data": {
            "text/html": [
              "<div>\n",
              "<style scoped>\n",
              "    .dataframe tbody tr th:only-of-type {\n",
              "        vertical-align: middle;\n",
              "    }\n",
              "\n",
              "    .dataframe tbody tr th {\n",
              "        vertical-align: top;\n",
              "    }\n",
              "\n",
              "    .dataframe thead th {\n",
              "        text-align: right;\n",
              "    }\n",
              "</style>\n",
              "<table border=\"1\" class=\"dataframe\">\n",
              "  <thead>\n",
              "    <tr style=\"text-align: right;\">\n",
              "      <th>income_groups</th>\n",
              "      <th>high_income</th>\n",
              "      <th>low_income</th>\n",
              "      <th>lower_middle_income</th>\n",
              "      <th>upper_middle_income</th>\n",
              "      <th>All</th>\n",
              "    </tr>\n",
              "    <tr>\n",
              "      <th>world_6region</th>\n",
              "      <th></th>\n",
              "      <th></th>\n",
              "      <th></th>\n",
              "      <th></th>\n",
              "      <th></th>\n",
              "    </tr>\n",
              "  </thead>\n",
              "  <tbody>\n",
              "    <tr>\n",
              "      <th>america</th>\n",
              "      <td>17</td>\n",
              "      <td>1</td>\n",
              "      <td>7</td>\n",
              "      <td>18</td>\n",
              "      <td>43</td>\n",
              "    </tr>\n",
              "    <tr>\n",
              "      <th>east_asia_pacific</th>\n",
              "      <td>12</td>\n",
              "      <td>3</td>\n",
              "      <td>12</td>\n",
              "      <td>9</td>\n",
              "      <td>36</td>\n",
              "    </tr>\n",
              "    <tr>\n",
              "      <th>europe_central_asia</th>\n",
              "      <td>37</td>\n",
              "      <td>2</td>\n",
              "      <td>6</td>\n",
              "      <td>13</td>\n",
              "      <td>58</td>\n",
              "    </tr>\n",
              "    <tr>\n",
              "      <th>middle_east_north_africa</th>\n",
              "      <td>7</td>\n",
              "      <td>0</td>\n",
              "      <td>6</td>\n",
              "      <td>7</td>\n",
              "      <td>20</td>\n",
              "    </tr>\n",
              "    <tr>\n",
              "      <th>south_asia</th>\n",
              "      <td>0</td>\n",
              "      <td>3</td>\n",
              "      <td>4</td>\n",
              "      <td>1</td>\n",
              "      <td>8</td>\n",
              "    </tr>\n",
              "    <tr>\n",
              "      <th>sub_saharan_africa</th>\n",
              "      <td>1</td>\n",
              "      <td>27</td>\n",
              "      <td>13</td>\n",
              "      <td>7</td>\n",
              "      <td>48</td>\n",
              "    </tr>\n",
              "    <tr>\n",
              "      <th>All</th>\n",
              "      <td>74</td>\n",
              "      <td>36</td>\n",
              "      <td>48</td>\n",
              "      <td>55</td>\n",
              "      <td>213</td>\n",
              "    </tr>\n",
              "  </tbody>\n",
              "</table>\n",
              "</div>"
            ],
            "text/plain": [
              "income_groups             high_income  low_income  ...  upper_middle_income  All\n",
              "world_6region                                      ...                          \n",
              "america                            17           1  ...                   18   43\n",
              "east_asia_pacific                  12           3  ...                    9   36\n",
              "europe_central_asia                37           2  ...                   13   58\n",
              "middle_east_north_africa            7           0  ...                    7   20\n",
              "south_asia                          0           3  ...                    1    8\n",
              "sub_saharan_africa                  1          27  ...                    7   48\n",
              "All                                74          36  ...                   55  213\n",
              "\n",
              "[7 rows x 5 columns]"
            ]
          },
          "metadata": {
            "tags": []
          },
          "execution_count": 58
        }
      ]
    },
    {
      "cell_type": "code",
      "metadata": {
        "id": "BtUBp4wbQCRz",
        "colab_type": "code",
        "colab": {
          "base_uri": "https://localhost:8080/",
          "height": 51
        },
        "outputId": "e3571599-5582-4a9f-b56b-c859ff248ebe"
      },
      "source": [
        "row_sums = ct.iloc[0:6, 4].values\n",
        "col_sums = ct.iloc[6, 0:4].values\n",
        "print(row_sums)\n",
        "print(col_sums)"
      ],
      "execution_count": 62,
      "outputs": [
        {
          "output_type": "stream",
          "text": [
            "[43 36 58 20  8 48]\n",
            "[74 36 48 55]\n"
          ],
          "name": "stdout"
        }
      ]
    },
    {
      "cell_type": "code",
      "metadata": {
        "id": "6mS0M5ZHPmI_",
        "colab_type": "code",
        "colab": {
          "base_uri": "https://localhost:8080/",
          "height": 34
        },
        "outputId": "41497f60-7002-4a43-cde6-095f0a99b3e7"
      },
      "source": [
        "total = ct.loc['All', 'All']\n",
        "total"
      ],
      "execution_count": 59,
      "outputs": [
        {
          "output_type": "execute_result",
          "data": {
            "text/plain": [
              "213"
            ]
          },
          "metadata": {
            "tags": []
          },
          "execution_count": 59
        }
      ]
    },
    {
      "cell_type": "code",
      "metadata": {
        "id": "L6-8HXhTP9NE",
        "colab_type": "code",
        "colab": {
          "base_uri": "https://localhost:8080/",
          "height": 136
        },
        "outputId": "abf983cb-69c8-4b57-f29e-90a897bc5f5b"
      },
      "source": [
        "expected = []\n",
        "for i in range(len(row_sums)):\n",
        "  expected_row = []\n",
        "  for column in col_sums:\n",
        "    expected_val = column*row_sums[i]/total\n",
        "    expected_row.append(expected_val)\n",
        "  expected.append(expected_row)\n",
        "expected = np.array(expected)\n",
        "print(expected.shape)\n",
        "print(expected)"
      ],
      "execution_count": 64,
      "outputs": [
        {
          "output_type": "stream",
          "text": [
            "(6, 4)\n",
            "[[14.93896714  7.26760563  9.69014085 11.10328638]\n",
            " [12.50704225  6.08450704  8.11267606  9.29577465]\n",
            " [20.15023474  9.8028169  13.07042254 14.97652582]\n",
            " [ 6.94835681  3.38028169  4.50704225  5.16431925]\n",
            " [ 2.77934272  1.35211268  1.8028169   2.0657277 ]\n",
            " [16.67605634  8.11267606 10.81690141 12.3943662 ]]\n"
          ],
          "name": "stdout"
        }
      ]
    },
    {
      "cell_type": "code",
      "metadata": {
        "id": "kEue2d4vQ3Xs",
        "colab_type": "code",
        "colab": {
          "base_uri": "https://localhost:8080/",
          "height": 136
        },
        "outputId": "32c77623-7979-49fc-98c9-5f31f523a7c7"
      },
      "source": [
        "observed = pd.crosstab(df['world_6region'], df['income_groups']).values\n",
        "print(observed.shape)\n",
        "observed"
      ],
      "execution_count": 65,
      "outputs": [
        {
          "output_type": "stream",
          "text": [
            "(6, 4)\n"
          ],
          "name": "stdout"
        },
        {
          "output_type": "execute_result",
          "data": {
            "text/plain": [
              "array([[17,  1,  7, 18],\n",
              "       [12,  3, 12,  9],\n",
              "       [37,  2,  6, 13],\n",
              "       [ 7,  0,  6,  7],\n",
              "       [ 0,  3,  4,  1],\n",
              "       [ 1, 27, 13,  7]])"
            ]
          },
          "metadata": {
            "tags": []
          },
          "execution_count": 65
        }
      ]
    },
    {
      "cell_type": "code",
      "metadata": {
        "id": "24gWEzlPRG3w",
        "colab_type": "code",
        "colab": {
          "base_uri": "https://localhost:8080/",
          "height": 34
        },
        "outputId": "8aecbf51-1cfe-4266-e668-99da38c545fa"
      },
      "source": [
        "chi_square = ((observed - expected)**2/(expected)).sum()\n",
        "chi_square"
      ],
      "execution_count": 66,
      "outputs": [
        {
          "output_type": "execute_result",
          "data": {
            "text/plain": [
              "112.60236492756654"
            ]
          },
          "metadata": {
            "tags": []
          },
          "execution_count": 66
        }
      ]
    },
    {
      "cell_type": "code",
      "metadata": {
        "id": "seWqdwoSROG7",
        "colab_type": "code",
        "colab": {
          "base_uri": "https://localhost:8080/",
          "height": 119
        },
        "outputId": "9cb6493d-b97d-4814-a00d-7012407e053c"
      },
      "source": [
        "chi_squared, p_value, dof, expected = stats.chi2_contingency(observed)\n",
        "print(chi_squared, p_value, dof, expected)"
      ],
      "execution_count": 67,
      "outputs": [
        {
          "output_type": "stream",
          "text": [
            "112.60236492756654 5.094803393946951e-17 15 [[14.93896714  7.26760563  9.69014085 11.10328638]\n",
            " [12.50704225  6.08450704  8.11267606  9.29577465]\n",
            " [20.15023474  9.8028169  13.07042254 14.97652582]\n",
            " [ 6.94835681  3.38028169  4.50704225  5.16431925]\n",
            " [ 2.77934272  1.35211268  1.8028169   2.0657277 ]\n",
            " [16.67605634  8.11267606 10.81690141 12.3943662 ]]\n"
          ],
          "name": "stdout"
        }
      ]
    },
    {
      "cell_type": "markdown",
      "metadata": {
        "id": "nyJ3ySr7R2k9",
        "colab_type": "text"
      },
      "source": [
        "## Resources\n",
        "\n",
        "- [Interactive visualize the Chi-Squared test](https://homepage.divms.uiowa.edu/~mbognar/applets/chisq.html)\n",
        "- [Calculation of Chi-Squared test statistic](https://en.wikipedia.org/wiki/Pearson%27s_chi-squared_test)\n",
        "- [Visualization of a confidence interval generated by R code](https://commons.wikimedia.org/wiki/File:Confidence-interval.svg)\n",
        "- [Expected value of a squared standard normal](https://math.stackexchange.com/questions/264061/expected-value-calculation-for-squared-normal-distribution) (it's 1 - which is why the expected value of a Chi-Squared with $n$ degrees of freedom is $n$, as it's the sum of $n$ squared standard normals)"
      ]
    }
  ]
}