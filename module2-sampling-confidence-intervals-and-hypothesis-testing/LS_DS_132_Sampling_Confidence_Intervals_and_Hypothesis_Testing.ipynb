{
  "nbformat": 4,
  "nbformat_minor": 0,
  "metadata": {
    "colab": {
      "name": "LS_DS_132_Sampling_Confidence_Intervals_and_Hypothesis_Testing.ipynb",
      "version": "0.3.2",
      "provenance": [],
      "collapsed_sections": []
    },
    "kernelspec": {
      "name": "python3",
      "display_name": "Python 3"
    }
  },
  "cells": [
    {
      "cell_type": "markdown",
      "metadata": {
        "id": "838Dmw1kM2LK",
        "colab_type": "text"
      },
      "source": [
        "# Lambda School Data Science Module 142\n",
        "## Sampling, Confidence Intervals, and Hypothesis Testing"
      ]
    },
    {
      "cell_type": "markdown",
      "metadata": {
        "id": "dbcPKIo5M6Ny",
        "colab_type": "text"
      },
      "source": [
        "## Prepare - examine other available hypothesis tests\n",
        "\n",
        "If you had to pick a single hypothesis test in your toolbox, t-test would probably be the best choice - but the good news is you don't have to pick just one! Here's some of the others to be aware of:"
      ]
    },
    {
      "cell_type": "code",
      "metadata": {
        "id": "tlBel8j9M6tB",
        "colab_type": "code",
        "outputId": "fa4b7a93-78dd-4095-8efa-5249f52f7f8d",
        "colab": {
          "base_uri": "https://localhost:8080/",
          "height": 205
        }
      },
      "source": [
        "import numpy as np\n",
        "from scipy.stats import chisquare  # One-way chi square test\n",
        "\n",
        "# Chi square can take any crosstab/table and test the independence of rows/cols\n",
        "# The null hypothesis is that the rows/cols are independent -> low chi square\n",
        "# The alternative is that there is a dependence -> high chi square\n",
        "# Be aware! Chi square does *not* tell you direction/causation\n",
        "\n",
        "ind_obs = np.array([[1, 1], [2, 2]]).T\n",
        "print(ind_obs)\n",
        "print(chisquare(ind_obs, axis=None))\n",
        "\n",
        "dep_obs = np.array([[16, 18, 16, 14, 12, 12], [32, 24, 16, 28, 20, 24]]).T\n",
        "print(dep_obs)\n",
        "print(chisquare(dep_obs, axis=None))"
      ],
      "execution_count": 1,
      "outputs": [
        {
          "output_type": "stream",
          "text": [
            "[[1 2]\n",
            " [1 2]]\n",
            "Power_divergenceResult(statistic=0.6666666666666666, pvalue=0.8810148425137847)\n",
            "[[16 32]\n",
            " [18 24]\n",
            " [16 16]\n",
            " [14 28]\n",
            " [12 20]\n",
            " [12 24]]\n",
            "Power_divergenceResult(statistic=23.31034482758621, pvalue=0.015975692534127565)\n"
          ],
          "name": "stdout"
        }
      ]
    },
    {
      "cell_type": "code",
      "metadata": {
        "id": "nN0BdNiDPxbk",
        "colab_type": "code",
        "outputId": "44674af8-9ed3-42db-d77a-ecd47255b1c0",
        "colab": {
          "base_uri": "https://localhost:8080/",
          "height": 36
        }
      },
      "source": [
        "# Distribution tests:\n",
        "# We often assume that something is normal, but it can be important to *check*\n",
        "\n",
        "# For example, later on with predictive modeling, a typical assumption is that\n",
        "# residuals (prediction errors) are normal - checking is a good diagnostic\n",
        "\n",
        "from scipy.stats import normaltest\n",
        "# Poisson models arrival times and is related to the binomial (coinflip)\n",
        "sample = np.random.poisson(5, 1000)\n",
        "print(normaltest(sample))  # Pretty clearly not normal"
      ],
      "execution_count": 2,
      "outputs": [
        {
          "output_type": "stream",
          "text": [
            "NormaltestResult(statistic=53.78724316431932, pvalue=2.0904921856302882e-12)\n"
          ],
          "name": "stdout"
        }
      ]
    },
    {
      "cell_type": "code",
      "metadata": {
        "id": "P5t0WhkDReFO",
        "colab_type": "code",
        "outputId": "0dd1327e-c6ab-4ddb-c74f-85010e95388b",
        "colab": {
          "base_uri": "https://localhost:8080/",
          "height": 55
        }
      },
      "source": [
        "# Kruskal-Wallis H-test - compare the median rank between 2+ groups\n",
        "# Can be applied to ranking decisions/outcomes/recommendations\n",
        "# The underlying math comes from chi-square distribution, and is best for n>5\n",
        "from scipy.stats import kruskal\n",
        "\n",
        "x1 = [1, 3, 5, 7, 9]\n",
        "y1 = [2, 4, 6, 8, 10]\n",
        "print(kruskal(x1, y1))  # x1 is a little better, but not \"significantly\" so\n",
        "\n",
        "x2 = [1, 1, 1]\n",
        "y2 = [2, 2, 2]\n",
        "z = [2, 2]  # Hey, a third group, and of different size!\n",
        "print(kruskal(x2, y2, z))  # x clearly dominates"
      ],
      "execution_count": 3,
      "outputs": [
        {
          "output_type": "stream",
          "text": [
            "KruskalResult(statistic=0.2727272727272734, pvalue=0.6015081344405895)\n",
            "KruskalResult(statistic=7.0, pvalue=0.0301973834223185)\n"
          ],
          "name": "stdout"
        }
      ]
    },
    {
      "cell_type": "markdown",
      "metadata": {
        "id": "7pT3IP36Rh0b",
        "colab_type": "text"
      },
      "source": [
        "And there's many more! `scipy.stats` is fairly comprehensive, though there are even more available if you delve into the extended world of statistics packages. As tests get increasingly obscure and specialized, the importance of knowing them by heart becomes small - but being able to look them up and figure them out when they *are* relevant is still important."
      ]
    },
    {
      "cell_type": "markdown",
      "metadata": {
        "id": "3JqroCQYQqhy",
        "colab_type": "text"
      },
      "source": [
        "## T-test Assumptions\n",
        "\n",
        "<https://statistics.laerd.com/statistical-guides/independent-t-test-statistical-guide.php>\n",
        "\n",
        "- Independence of means\n",
        "\n",
        "Are the means of our voting data independent (do not affect the outcome of one another)?\n",
        "  \n",
        "The best way to increase thel likelihood of our means being independent is to randomly sample (which we did not do).\n"
      ]
    },
    {
      "cell_type": "code",
      "metadata": {
        "id": "sqy2hEFRZnvI",
        "colab_type": "code",
        "colab": {}
      },
      "source": [
        "from scipy.stats import ttest_ind\n",
        "\n",
        "?ttest_ind"
      ],
      "execution_count": 0,
      "outputs": []
    },
    {
      "cell_type": "markdown",
      "metadata": {
        "id": "xI-PcK5sZ1A9",
        "colab_type": "text"
      },
      "source": [
        "- \"Homogeneity\" of Variance? \n",
        "\n",
        "Is the magnitude of the variance between the two roughly the same?\n",
        "\n",
        "I think we're OK on this one for the voting data, although it probably could be better, one party was larger than the other.\n",
        "\n",
        "If we suspect this to be a problem then we can use Welch's T-test"
      ]
    },
    {
      "cell_type": "markdown",
      "metadata": {
        "id": "tjgoHHwGayoC",
        "colab_type": "text"
      },
      "source": [
        "- \"Dependent Variable\" (sample means) are Distributed Normally\n",
        "\n",
        "<https://stats.stackexchange.com/questions/9573/t-test-for-non-normal-when-n50>\n",
        "\n",
        "Lots of statistical tests depend on normal distributions. We can test for normality using Scipy as was shown above.\n",
        "\n",
        "This assumption is often assumed even if the assumption is a weak one. If you strongly suspect that things are not normally distributed, you can transform your data to get it looking more normal and then run your test. This problem typically goes away for large sample sizes (yay Central Limit Theorem) and is often why you don't hear it brought up. People declare the assumption to be satisfied either way. \n",
        "\n"
      ]
    },
    {
      "cell_type": "markdown",
      "metadata": {
        "id": "bvvPV-RJN2vA",
        "colab_type": "text"
      },
      "source": [
        "## Central Limit Theorem\n",
        "\n"
      ]
    },
    {
      "cell_type": "code",
      "metadata": {
        "id": "gY8Ft5jhaAjr",
        "colab_type": "code",
        "colab": {
          "base_uri": "https://localhost:8080/",
          "height": 55
        },
        "outputId": "a0510690-be36-40f8-fa68-a76691a09e70"
      },
      "source": [
        "np.random.binomial(n=1, p=.5, size=30)"
      ],
      "execution_count": 5,
      "outputs": [
        {
          "output_type": "execute_result",
          "data": {
            "text/plain": [
              "array([1, 0, 1, 0, 0, 1, 0, 1, 1, 1, 1, 0, 1, 1, 1, 0, 0, 1, 1, 1, 1, 0,\n",
              "       0, 1, 1, 0, 0, 1, 0, 1])"
            ]
          },
          "metadata": {
            "tags": []
          },
          "execution_count": 5
        }
      ]
    },
    {
      "cell_type": "code",
      "metadata": {
        "id": "FBLoOF8qOJeJ",
        "colab_type": "code",
        "outputId": "2d8bba0d-43bf-493f-c452-1b7b56bcc8a9",
        "colab": {
          "base_uri": "https://localhost:8080/",
          "height": 75
        }
      },
      "source": [
        "import numpy as np\n",
        "import matplotlib.pyplot as plt\n",
        "import pandas as pd\n",
        "\n",
        "N = 1000\n",
        "sample_means = []\n",
        "for x in range(0,N):\n",
        "  coinflips = np.random.binomial(n=1, p=.5, size=30)\n",
        "  one_sample = coinflips\n",
        "  sample_means.append(coinflips.mean())\n",
        "\n",
        "print(len(sample_means))\n",
        "print(sample_means)"
      ],
      "execution_count": 6,
      "outputs": [
        {
          "output_type": "stream",
          "text": [
            "1000\n",
            "[0.4666666666666667, 0.5, 0.43333333333333335, 0.6666666666666666, 0.4666666666666667, 0.43333333333333335, 0.4, 0.6, 0.5, 0.36666666666666664, 0.4666666666666667, 0.6, 0.5, 0.5666666666666667, 0.4666666666666667, 0.43333333333333335, 0.4666666666666667, 0.4, 0.5, 0.4666666666666667, 0.4666666666666667, 0.36666666666666664, 0.4, 0.3333333333333333, 0.43333333333333335, 0.5666666666666667, 0.6, 0.5333333333333333, 0.5333333333333333, 0.43333333333333335, 0.5, 0.5333333333333333, 0.4, 0.36666666666666664, 0.5333333333333333, 0.5666666666666667, 0.5666666666666667, 0.4, 0.6333333333333333, 0.4666666666666667, 0.6333333333333333, 0.6, 0.36666666666666664, 0.6, 0.5333333333333333, 0.5333333333333333, 0.4666666666666667, 0.5666666666666667, 0.5333333333333333, 0.4666666666666667, 0.4, 0.43333333333333335, 0.5, 0.5, 0.5666666666666667, 0.5666666666666667, 0.6333333333333333, 0.4666666666666667, 0.5, 0.5333333333333333, 0.4666666666666667, 0.5666666666666667, 0.5666666666666667, 0.5333333333333333, 0.36666666666666664, 0.5333333333333333, 0.6666666666666666, 0.4666666666666667, 0.3333333333333333, 0.5, 0.4666666666666667, 0.23333333333333334, 0.4, 0.43333333333333335, 0.7333333333333333, 0.43333333333333335, 0.43333333333333335, 0.5666666666666667, 0.36666666666666664, 0.4666666666666667, 0.4666666666666667, 0.5333333333333333, 0.5333333333333333, 0.6666666666666666, 0.4, 0.4, 0.5333333333333333, 0.5666666666666667, 0.4666666666666667, 0.4, 0.6, 0.6333333333333333, 0.4666666666666667, 0.6333333333333333, 0.5333333333333333, 0.5333333333333333, 0.4666666666666667, 0.36666666666666664, 0.5666666666666667, 0.4, 0.4, 0.5333333333333333, 0.4666666666666667, 0.5666666666666667, 0.5, 0.5, 0.4666666666666667, 0.5333333333333333, 0.5, 0.6333333333333333, 0.4, 0.4666666666666667, 0.5, 0.5, 0.4666666666666667, 0.4666666666666667, 0.5666666666666667, 0.5333333333333333, 0.4666666666666667, 0.5333333333333333, 0.5333333333333333, 0.5, 0.3333333333333333, 0.4, 0.4666666666666667, 0.5333333333333333, 0.5333333333333333, 0.5666666666666667, 0.3333333333333333, 0.5333333333333333, 0.4, 0.5333333333333333, 0.5333333333333333, 0.6, 0.4666666666666667, 0.4666666666666667, 0.6, 0.5, 0.5666666666666667, 0.5333333333333333, 0.5666666666666667, 0.6333333333333333, 0.5333333333333333, 0.26666666666666666, 0.6, 0.4, 0.7, 0.5, 0.43333333333333335, 0.6666666666666666, 0.5666666666666667, 0.26666666666666666, 0.5333333333333333, 0.6333333333333333, 0.43333333333333335, 0.6666666666666666, 0.5, 0.6, 0.3333333333333333, 0.5333333333333333, 0.5, 0.4, 0.4, 0.6333333333333333, 0.4666666666666667, 0.4666666666666667, 0.4666666666666667, 0.5666666666666667, 0.5666666666666667, 0.4666666666666667, 0.5333333333333333, 0.5666666666666667, 0.4666666666666667, 0.6, 0.6333333333333333, 0.4666666666666667, 0.6, 0.4666666666666667, 0.43333333333333335, 0.4, 0.4, 0.5, 0.5333333333333333, 0.6, 0.5, 0.3333333333333333, 0.5, 0.5, 0.5, 0.4, 0.4666666666666667, 0.6333333333333333, 0.6, 0.43333333333333335, 0.5333333333333333, 0.5666666666666667, 0.6, 0.5666666666666667, 0.5, 0.5, 0.6, 0.6666666666666666, 0.43333333333333335, 0.43333333333333335, 0.36666666666666664, 0.5333333333333333, 0.6, 0.5, 0.5333333333333333, 0.5, 0.4666666666666667, 0.3333333333333333, 0.5333333333333333, 0.6, 0.6666666666666666, 0.5, 0.4, 0.43333333333333335, 0.6333333333333333, 0.6, 0.5333333333333333, 0.4, 0.5333333333333333, 0.5333333333333333, 0.5, 0.4, 0.43333333333333335, 0.4666666666666667, 0.4666666666666667, 0.5, 0.5666666666666667, 0.6, 0.43333333333333335, 0.4, 0.5, 0.5666666666666667, 0.5333333333333333, 0.43333333333333335, 0.3, 0.4666666666666667, 0.43333333333333335, 0.6, 0.5666666666666667, 0.36666666666666664, 0.5, 0.5, 0.6, 0.5, 0.5666666666666667, 0.6666666666666666, 0.5333333333333333, 0.5, 0.5, 0.5666666666666667, 0.36666666666666664, 0.5666666666666667, 0.5333333333333333, 0.5, 0.4, 0.5333333333333333, 0.3, 0.6, 0.5666666666666667, 0.4666666666666667, 0.4666666666666667, 0.6333333333333333, 0.6, 0.36666666666666664, 0.5333333333333333, 0.4666666666666667, 0.4666666666666667, 0.5333333333333333, 0.4666666666666667, 0.5, 0.5333333333333333, 0.5333333333333333, 0.5666666666666667, 0.4666666666666667, 0.6, 0.6333333333333333, 0.4666666666666667, 0.43333333333333335, 0.4, 0.43333333333333335, 0.43333333333333335, 0.3333333333333333, 0.6333333333333333, 0.5, 0.5333333333333333, 0.4, 0.6, 0.4, 0.4666666666666667, 0.5666666666666667, 0.5, 0.5333333333333333, 0.5, 0.4666666666666667, 0.5666666666666667, 0.5333333333333333, 0.36666666666666664, 0.4, 0.43333333333333335, 0.6, 0.5333333333333333, 0.6, 0.5, 0.26666666666666666, 0.5333333333333333, 0.6, 0.5, 0.3333333333333333, 0.4, 0.6666666666666666, 0.4, 0.5666666666666667, 0.5666666666666667, 0.5333333333333333, 0.5, 0.4, 0.6333333333333333, 0.6, 0.4666666666666667, 0.5, 0.5333333333333333, 0.4, 0.6333333333333333, 0.4, 0.6, 0.4666666666666667, 0.5666666666666667, 0.6333333333333333, 0.5, 0.5333333333333333, 0.26666666666666666, 0.5333333333333333, 0.43333333333333335, 0.5666666666666667, 0.5666666666666667, 0.6333333333333333, 0.4666666666666667, 0.5333333333333333, 0.6, 0.4666666666666667, 0.4, 0.5, 0.7, 0.4, 0.3, 0.4666666666666667, 0.3333333333333333, 0.36666666666666664, 0.4666666666666667, 0.5, 0.6, 0.43333333333333335, 0.3333333333333333, 0.4666666666666667, 0.5333333333333333, 0.6666666666666666, 0.6666666666666666, 0.6, 0.5, 0.3, 0.5666666666666667, 0.5, 0.43333333333333335, 0.5333333333333333, 0.43333333333333335, 0.4, 0.43333333333333335, 0.43333333333333335, 0.5, 0.6333333333333333, 0.6666666666666666, 0.36666666666666664, 0.5666666666666667, 0.4666666666666667, 0.6, 0.5333333333333333, 0.43333333333333335, 0.6, 0.5333333333333333, 0.4, 0.5, 0.5666666666666667, 0.5333333333333333, 0.43333333333333335, 0.43333333333333335, 0.4, 0.4666666666666667, 0.5, 0.4666666666666667, 0.5, 0.5, 0.43333333333333335, 0.6, 0.5333333333333333, 0.36666666666666664, 0.6, 0.6, 0.4666666666666667, 0.4666666666666667, 0.6, 0.6333333333333333, 0.5666666666666667, 0.4666666666666667, 0.5666666666666667, 0.4, 0.4666666666666667, 0.3, 0.5666666666666667, 0.6, 0.4, 0.5333333333333333, 0.6, 0.5, 0.4666666666666667, 0.4, 0.5666666666666667, 0.6333333333333333, 0.4, 0.6, 0.6, 0.4666666666666667, 0.5666666666666667, 0.4666666666666667, 0.5666666666666667, 0.5333333333333333, 0.4, 0.4666666666666667, 0.6333333333333333, 0.6333333333333333, 0.4666666666666667, 0.4666666666666667, 0.5333333333333333, 0.5, 0.6666666666666666, 0.5333333333333333, 0.5, 0.4666666666666667, 0.6666666666666666, 0.4666666666666667, 0.43333333333333335, 0.4666666666666667, 0.7, 0.4666666666666667, 0.4, 0.4, 0.5666666666666667, 0.5333333333333333, 0.4666666666666667, 0.5666666666666667, 0.4666666666666667, 0.5666666666666667, 0.4, 0.5333333333333333, 0.43333333333333335, 0.3, 0.5, 0.36666666666666664, 0.43333333333333335, 0.5, 0.3, 0.6, 0.5666666666666667, 0.5666666666666667, 0.43333333333333335, 0.5, 0.43333333333333335, 0.43333333333333335, 0.5666666666666667, 0.4, 0.4, 0.6, 0.5333333333333333, 0.5, 0.5333333333333333, 0.5333333333333333, 0.3333333333333333, 0.36666666666666664, 0.5666666666666667, 0.5666666666666667, 0.4, 0.43333333333333335, 0.5333333333333333, 0.4, 0.4666666666666667, 0.4, 0.5666666666666667, 0.5333333333333333, 0.5333333333333333, 0.43333333333333335, 0.6333333333333333, 0.4666666666666667, 0.5, 0.5, 0.5666666666666667, 0.5666666666666667, 0.43333333333333335, 0.4666666666666667, 0.4666666666666667, 0.5, 0.4, 0.5333333333333333, 0.36666666666666664, 0.4666666666666667, 0.5, 0.5666666666666667, 0.5333333333333333, 0.43333333333333335, 0.4, 0.5666666666666667, 0.43333333333333335, 0.5333333333333333, 0.43333333333333335, 0.4666666666666667, 0.4666666666666667, 0.6, 0.6333333333333333, 0.43333333333333335, 0.4666666666666667, 0.5666666666666667, 0.36666666666666664, 0.43333333333333335, 0.6666666666666666, 0.5, 0.5, 0.6333333333333333, 0.5333333333333333, 0.6, 0.7333333333333333, 0.36666666666666664, 0.4, 0.6, 0.4, 0.4666666666666667, 0.5, 0.5, 0.43333333333333335, 0.5333333333333333, 0.43333333333333335, 0.3333333333333333, 0.3333333333333333, 0.3, 0.5666666666666667, 0.5, 0.6333333333333333, 0.6333333333333333, 0.43333333333333335, 0.7666666666666667, 0.4666666666666667, 0.4666666666666667, 0.3333333333333333, 0.5, 0.4666666666666667, 0.5333333333333333, 0.5333333333333333, 0.5, 0.36666666666666664, 0.5333333333333333, 0.4666666666666667, 0.3333333333333333, 0.5333333333333333, 0.4666666666666667, 0.43333333333333335, 0.4666666666666667, 0.5, 0.26666666666666666, 0.5666666666666667, 0.6, 0.5, 0.6, 0.26666666666666666, 0.5, 0.4666666666666667, 0.4, 0.5333333333333333, 0.6333333333333333, 0.5, 0.6666666666666666, 0.5333333333333333, 0.5333333333333333, 0.5, 0.3333333333333333, 0.5, 0.3333333333333333, 0.4666666666666667, 0.6, 0.43333333333333335, 0.5666666666666667, 0.4666666666666667, 0.43333333333333335, 0.4666666666666667, 0.5333333333333333, 0.6, 0.4666666666666667, 0.6333333333333333, 0.6, 0.4, 0.5333333333333333, 0.5333333333333333, 0.4666666666666667, 0.6333333333333333, 0.36666666666666664, 0.5, 0.5666666666666667, 0.3333333333333333, 0.4, 0.4666666666666667, 0.5666666666666667, 0.6333333333333333, 0.6, 0.4666666666666667, 0.43333333333333335, 0.5, 0.4, 0.6, 0.5333333333333333, 0.6333333333333333, 0.5333333333333333, 0.6333333333333333, 0.5333333333333333, 0.43333333333333335, 0.5, 0.43333333333333335, 0.5, 0.4, 0.5666666666666667, 0.5333333333333333, 0.6, 0.43333333333333335, 0.3, 0.43333333333333335, 0.43333333333333335, 0.5333333333333333, 0.5, 0.6, 0.43333333333333335, 0.5666666666666667, 0.5666666666666667, 0.36666666666666664, 0.5333333333333333, 0.4, 0.5, 0.6, 0.4, 0.43333333333333335, 0.4, 0.6, 0.36666666666666664, 0.4666666666666667, 0.43333333333333335, 0.5, 0.5333333333333333, 0.6333333333333333, 0.6666666666666666, 0.26666666666666666, 0.7, 0.43333333333333335, 0.6, 0.5666666666666667, 0.5666666666666667, 0.6666666666666666, 0.5333333333333333, 0.4666666666666667, 0.5333333333333333, 0.4, 0.4666666666666667, 0.5, 0.6, 0.43333333333333335, 0.6666666666666666, 0.5333333333333333, 0.5333333333333333, 0.4666666666666667, 0.6, 0.4666666666666667, 0.43333333333333335, 0.5, 0.4, 0.4666666666666667, 0.4666666666666667, 0.4666666666666667, 0.7, 0.43333333333333335, 0.5, 0.4, 0.5333333333333333, 0.5, 0.43333333333333335, 0.4666666666666667, 0.5666666666666667, 0.36666666666666664, 0.6666666666666666, 0.4, 0.43333333333333335, 0.43333333333333335, 0.4666666666666667, 0.5666666666666667, 0.5, 0.5666666666666667, 0.36666666666666664, 0.7, 0.4, 0.23333333333333334, 0.36666666666666664, 0.6, 0.5666666666666667, 0.6, 0.5666666666666667, 0.23333333333333334, 0.5, 0.5333333333333333, 0.6, 0.43333333333333335, 0.4666666666666667, 0.5, 0.6666666666666666, 0.43333333333333335, 0.4, 0.4, 0.5, 0.36666666666666664, 0.5333333333333333, 0.43333333333333335, 0.6, 0.5333333333333333, 0.5, 0.43333333333333335, 0.6666666666666666, 0.5333333333333333, 0.6, 0.4, 0.36666666666666664, 0.7, 0.6333333333333333, 0.6, 0.4666666666666667, 0.5666666666666667, 0.3333333333333333, 0.6, 0.6666666666666666, 0.5333333333333333, 0.5333333333333333, 0.5666666666666667, 0.5, 0.6666666666666666, 0.4666666666666667, 0.3333333333333333, 0.43333333333333335, 0.43333333333333335, 0.43333333333333335, 0.5666666666666667, 0.6, 0.43333333333333335, 0.5, 0.5, 0.5, 0.5, 0.4666666666666667, 0.7, 0.5333333333333333, 0.43333333333333335, 0.5, 0.43333333333333335, 0.43333333333333335, 0.36666666666666664, 0.43333333333333335, 0.5333333333333333, 0.4666666666666667, 0.4666666666666667, 0.5, 0.6, 0.43333333333333335, 0.5, 0.36666666666666664, 0.3333333333333333, 0.5, 0.5, 0.5333333333333333, 0.3333333333333333, 0.5333333333333333, 0.5333333333333333, 0.5, 0.43333333333333335, 0.5333333333333333, 0.4666666666666667, 0.6333333333333333, 0.4, 0.6666666666666666, 0.5666666666666667, 0.4666666666666667, 0.6333333333333333, 0.6666666666666666, 0.5, 0.43333333333333335, 0.8, 0.5333333333333333, 0.5, 0.5666666666666667, 0.5333333333333333, 0.4666666666666667, 0.4666666666666667, 0.5, 0.4666666666666667, 0.6666666666666666, 0.4, 0.5, 0.5333333333333333, 0.5, 0.5, 0.5, 0.4666666666666667, 0.6333333333333333, 0.5333333333333333, 0.43333333333333335, 0.4666666666666667, 0.3333333333333333, 0.4666666666666667, 0.43333333333333335, 0.5666666666666667, 0.5666666666666667, 0.4, 0.23333333333333334, 0.6333333333333333, 0.5, 0.4, 0.36666666666666664, 0.43333333333333335, 0.43333333333333335, 0.4666666666666667, 0.36666666666666664, 0.5, 0.5, 0.4666666666666667, 0.6333333333333333, 0.36666666666666664, 0.5, 0.36666666666666664, 0.5666666666666667, 0.4666666666666667, 0.43333333333333335, 0.4, 0.6333333333333333, 0.36666666666666664, 0.43333333333333335, 0.4666666666666667, 0.7, 0.6, 0.5, 0.5666666666666667, 0.36666666666666664, 0.6333333333333333, 0.3, 0.4666666666666667, 0.43333333333333335, 0.6, 0.4, 0.5666666666666667, 0.3333333333333333, 0.3333333333333333, 0.36666666666666664, 0.4666666666666667, 0.5333333333333333, 0.4, 0.6, 0.5, 0.6, 0.5333333333333333, 0.4666666666666667, 0.4, 0.4666666666666667, 0.3333333333333333, 0.5, 0.5, 0.4, 0.5, 0.5666666666666667, 0.5, 0.43333333333333335, 0.5, 0.4666666666666667, 0.4, 0.5333333333333333, 0.4666666666666667, 0.4666666666666667, 0.3333333333333333, 0.4666666666666667, 0.3333333333333333, 0.36666666666666664, 0.6333333333333333, 0.5333333333333333, 0.3333333333333333, 0.5, 0.5, 0.4666666666666667, 0.43333333333333335, 0.5666666666666667, 0.5, 0.43333333333333335, 0.6333333333333333, 0.4, 0.4, 0.4666666666666667, 0.36666666666666664, 0.4, 0.43333333333333335, 0.4, 0.3333333333333333, 0.6, 0.4, 0.5666666666666667, 0.5333333333333333, 0.3333333333333333, 0.43333333333333335, 0.4, 0.4666666666666667, 0.4666666666666667, 0.5666666666666667, 0.43333333333333335, 0.5666666666666667, 0.5333333333333333, 0.36666666666666664, 0.3, 0.5333333333333333, 0.4, 0.6, 0.43333333333333335, 0.5, 0.7, 0.5666666666666667, 0.4, 0.5666666666666667, 0.43333333333333335, 0.5333333333333333, 0.5333333333333333, 0.5666666666666667, 0.4, 0.6, 0.4666666666666667, 0.5, 0.43333333333333335, 0.5, 0.4666666666666667, 0.5, 0.6333333333333333, 0.4, 0.6, 0.7, 0.6, 0.4666666666666667, 0.43333333333333335, 0.5, 0.4, 0.4666666666666667, 0.5, 0.4666666666666667, 0.43333333333333335, 0.3, 0.6666666666666666, 0.5333333333333333, 0.5666666666666667, 0.5, 0.5333333333333333, 0.4, 0.5, 0.6333333333333333, 0.6, 0.5, 0.5, 0.4666666666666667, 0.6, 0.4666666666666667, 0.6666666666666666, 0.3333333333333333, 0.3, 0.5333333333333333, 0.4666666666666667, 0.4666666666666667, 0.5, 0.36666666666666664, 0.43333333333333335, 0.43333333333333335, 0.3333333333333333, 0.3333333333333333, 0.4666666666666667, 0.6, 0.5333333333333333, 0.6666666666666666, 0.36666666666666664, 0.3333333333333333, 0.4666666666666667, 0.5, 0.43333333333333335, 0.6666666666666666, 0.4, 0.36666666666666664, 0.5666666666666667, 0.6]\n"
          ],
          "name": "stdout"
        }
      ]
    },
    {
      "cell_type": "code",
      "metadata": {
        "id": "rfeA06evOT2K",
        "colab_type": "code",
        "outputId": "f39de815-11df-4e90-82d1-b43ad3af5fe7",
        "colab": {
          "base_uri": "https://localhost:8080/",
          "height": 206
        }
      },
      "source": [
        "df = pd.DataFrame({'onesamp': one_sample})\n",
        "df.head()"
      ],
      "execution_count": 7,
      "outputs": [
        {
          "output_type": "execute_result",
          "data": {
            "text/html": [
              "<div>\n",
              "<style scoped>\n",
              "    .dataframe tbody tr th:only-of-type {\n",
              "        vertical-align: middle;\n",
              "    }\n",
              "\n",
              "    .dataframe tbody tr th {\n",
              "        vertical-align: top;\n",
              "    }\n",
              "\n",
              "    .dataframe thead th {\n",
              "        text-align: right;\n",
              "    }\n",
              "</style>\n",
              "<table border=\"1\" class=\"dataframe\">\n",
              "  <thead>\n",
              "    <tr style=\"text-align: right;\">\n",
              "      <th></th>\n",
              "      <th>onesamp</th>\n",
              "    </tr>\n",
              "  </thead>\n",
              "  <tbody>\n",
              "    <tr>\n",
              "      <th>0</th>\n",
              "      <td>1</td>\n",
              "    </tr>\n",
              "    <tr>\n",
              "      <th>1</th>\n",
              "      <td>0</td>\n",
              "    </tr>\n",
              "    <tr>\n",
              "      <th>2</th>\n",
              "      <td>1</td>\n",
              "    </tr>\n",
              "    <tr>\n",
              "      <th>3</th>\n",
              "      <td>0</td>\n",
              "    </tr>\n",
              "    <tr>\n",
              "      <th>4</th>\n",
              "      <td>1</td>\n",
              "    </tr>\n",
              "  </tbody>\n",
              "</table>\n",
              "</div>"
            ],
            "text/plain": [
              "   onesamp\n",
              "0        1\n",
              "1        0\n",
              "2        1\n",
              "3        0\n",
              "4        1"
            ]
          },
          "metadata": {
            "tags": []
          },
          "execution_count": 7
        }
      ]
    },
    {
      "cell_type": "code",
      "metadata": {
        "id": "GlMSNFX6OmBV",
        "colab_type": "code",
        "outputId": "d2b37109-b5db-4bff-c956-15098dc7164a",
        "colab": {
          "base_uri": "https://localhost:8080/",
          "height": 319
        }
      },
      "source": [
        "df.hist()"
      ],
      "execution_count": 8,
      "outputs": [
        {
          "output_type": "execute_result",
          "data": {
            "text/plain": [
              "array([[<matplotlib.axes._subplots.AxesSubplot object at 0x7f1cc8d235f8>]],\n",
              "      dtype=object)"
            ]
          },
          "metadata": {
            "tags": []
          },
          "execution_count": 8
        },
        {
          "output_type": "display_data",
          "data": {
            "image/png": "[encoded data removed]",
            "text/plain": [
              "<Figure size 432x288 with 1 Axes>"
            ]
          },
          "metadata": {
            "tags": []
          }
        }
      ]
    },
    {
      "cell_type": "code",
      "metadata": {
        "id": "Jie4ypgLOs5M",
        "colab_type": "code",
        "outputId": "4e6c4d36-b094-4c86-c3ef-ace03ef8b33c",
        "colab": {
          "base_uri": "https://localhost:8080/",
          "height": 296
        }
      },
      "source": [
        "ax = plt.hist(sample_means)\n",
        "plt.title('Distribution of 3000 sample means \\n (of 12 coinflips each)');"
      ],
      "execution_count": 9,
      "outputs": [
        {
          "output_type": "display_data",
          "data": {
            "image/png": "[encoded data removed]",
            "text/plain": [
              "<Figure size 432x288 with 1 Axes>"
            ]
          },
          "metadata": {
            "tags": []
          }
        }
      ]
    },
    {
      "cell_type": "markdown",
      "metadata": {
        "id": "LsEAjc4rOylm",
        "colab_type": "text"
      },
      "source": [
        "What does the Central Limit Theorem State? That no matter the initial distribution of the population, the distribution of sample means taken will approximate a normal distribution as $n \\rightarrow \\infty$.\n",
        "\n",
        "This has very important implications for hypothesis testing and is precisely the reason why the t-distribution begins to approximate the normal distribution as our sample size increases. "
      ]
    },
    {
      "cell_type": "markdown",
      "metadata": {
        "id": "EYqo5vZZSFUr",
        "colab_type": "text"
      },
      "source": [
        "## Standard Error of the Mean\n",
        "\n",
        "What does it mean to \"estimate\"? the Population mean?"
      ]
    },
    {
      "cell_type": "code",
      "metadata": {
        "id": "puGXH6vbSIE4",
        "colab_type": "code",
        "colab": {
          "base_uri": "https://localhost:8080/",
          "height": 73
        },
        "outputId": "f4469256-b270-4dbd-dbf1-f67861cc1ebb"
      },
      "source": [
        "import numpy as np\n",
        "import pandas as pd\n",
        "\n",
        "# Average Height\n",
        "mu = 70\n",
        "sigma = 3\n",
        "\n",
        "lambda_heights = np.random.normal(mu, sigma, 2000)\n",
        "print(len(lambda_heights))\n",
        "lambda_heights"
      ],
      "execution_count": 10,
      "outputs": [
        {
          "output_type": "stream",
          "text": [
            "2000\n"
          ],
          "name": "stdout"
        },
        {
          "output_type": "execute_result",
          "data": {
            "text/plain": [
              "array([67.22125707, 68.94503796, 66.15072588, ..., 69.75988293,\n",
              "       69.47869679, 69.72832213])"
            ]
          },
          "metadata": {
            "tags": []
          },
          "execution_count": 10
        }
      ]
    },
    {
      "cell_type": "code",
      "metadata": {
        "id": "wwGl1WvlbjFw",
        "colab_type": "code",
        "colab": {
          "base_uri": "https://localhost:8080/",
          "height": 281
        },
        "outputId": "408f360a-db91-4fb6-acce-85e8a78e7a43"
      },
      "source": [
        "import seaborn as sns\n",
        "\n",
        "sns.distplot(lambda_heights)\n",
        "plt.title('Distribution of Heights (in inches)');"
      ],
      "execution_count": 11,
      "outputs": [
        {
          "output_type": "display_data",
          "data": {
            "image/png": "[encoded data removed]",
            "text/plain": [
              "<Figure size 432x288 with 1 Axes>"
            ]
          },
          "metadata": {
            "tags": []
          }
        }
      ]
    },
    {
      "cell_type": "code",
      "metadata": {
        "id": "nMOqrng9bjND",
        "colab_type": "code",
        "colab": {
          "base_uri": "https://localhost:8080/",
          "height": 55
        },
        "outputId": "e875808f-0fb8-45c6-8c72-5635d7b05595"
      },
      "source": [
        "print(\"Population Mean:\", lambda_heights.mean())\n",
        "print(\"Population Standard Deviation:\", lambda_heights.std())"
      ],
      "execution_count": 12,
      "outputs": [
        {
          "output_type": "stream",
          "text": [
            "Population Mean: 69.955150866373\n",
            "Population Standard Deviation: 3.020900674007455\n"
          ],
          "name": "stdout"
        }
      ]
    },
    {
      "cell_type": "code",
      "metadata": {
        "id": "xXKzR1bVbptA",
        "colab_type": "code",
        "colab": {
          "base_uri": "https://localhost:8080/",
          "height": 225
        },
        "outputId": "ef1875b2-e85d-4cdd-ad00-2fce014f764b"
      },
      "source": [
        "population = pd.DataFrame({'heights': lambda_heights})\n",
        "print(population.shape)\n",
        "population.head()"
      ],
      "execution_count": 13,
      "outputs": [
        {
          "output_type": "stream",
          "text": [
            "(2000, 1)\n"
          ],
          "name": "stdout"
        },
        {
          "output_type": "execute_result",
          "data": {
            "text/html": [
              "<div>\n",
              "<style scoped>\n",
              "    .dataframe tbody tr th:only-of-type {\n",
              "        vertical-align: middle;\n",
              "    }\n",
              "\n",
              "    .dataframe tbody tr th {\n",
              "        vertical-align: top;\n",
              "    }\n",
              "\n",
              "    .dataframe thead th {\n",
              "        text-align: right;\n",
              "    }\n",
              "</style>\n",
              "<table border=\"1\" class=\"dataframe\">\n",
              "  <thead>\n",
              "    <tr style=\"text-align: right;\">\n",
              "      <th></th>\n",
              "      <th>heights</th>\n",
              "    </tr>\n",
              "  </thead>\n",
              "  <tbody>\n",
              "    <tr>\n",
              "      <th>0</th>\n",
              "      <td>67.221257</td>\n",
              "    </tr>\n",
              "    <tr>\n",
              "      <th>1</th>\n",
              "      <td>68.945038</td>\n",
              "    </tr>\n",
              "    <tr>\n",
              "      <th>2</th>\n",
              "      <td>66.150726</td>\n",
              "    </tr>\n",
              "    <tr>\n",
              "      <th>3</th>\n",
              "      <td>68.200231</td>\n",
              "    </tr>\n",
              "    <tr>\n",
              "      <th>4</th>\n",
              "      <td>70.455036</td>\n",
              "    </tr>\n",
              "  </tbody>\n",
              "</table>\n",
              "</div>"
            ],
            "text/plain": [
              "     heights\n",
              "0  67.221257\n",
              "1  68.945038\n",
              "2  66.150726\n",
              "3  68.200231\n",
              "4  70.455036"
            ]
          },
          "metadata": {
            "tags": []
          },
          "execution_count": 13
        }
      ]
    },
    {
      "cell_type": "code",
      "metadata": {
        "id": "-Vuwkjvybpo-",
        "colab_type": "code",
        "colab": {
          "base_uri": "https://localhost:8080/",
          "height": 225
        },
        "outputId": "7674755e-a245-4101-b945-559571cfac3e"
      },
      "source": [
        "# Take a random sample and print sample mean\n",
        "sample1 = population.sample(100)\n",
        "print(sample1.shape)\n",
        "sample1.head()"
      ],
      "execution_count": 14,
      "outputs": [
        {
          "output_type": "stream",
          "text": [
            "(100, 1)\n"
          ],
          "name": "stdout"
        },
        {
          "output_type": "execute_result",
          "data": {
            "text/html": [
              "<div>\n",
              "<style scoped>\n",
              "    .dataframe tbody tr th:only-of-type {\n",
              "        vertical-align: middle;\n",
              "    }\n",
              "\n",
              "    .dataframe tbody tr th {\n",
              "        vertical-align: top;\n",
              "    }\n",
              "\n",
              "    .dataframe thead th {\n",
              "        text-align: right;\n",
              "    }\n",
              "</style>\n",
              "<table border=\"1\" class=\"dataframe\">\n",
              "  <thead>\n",
              "    <tr style=\"text-align: right;\">\n",
              "      <th></th>\n",
              "      <th>heights</th>\n",
              "    </tr>\n",
              "  </thead>\n",
              "  <tbody>\n",
              "    <tr>\n",
              "      <th>1150</th>\n",
              "      <td>66.101377</td>\n",
              "    </tr>\n",
              "    <tr>\n",
              "      <th>1074</th>\n",
              "      <td>69.355026</td>\n",
              "    </tr>\n",
              "    <tr>\n",
              "      <th>1543</th>\n",
              "      <td>71.390240</td>\n",
              "    </tr>\n",
              "    <tr>\n",
              "      <th>1960</th>\n",
              "      <td>73.462303</td>\n",
              "    </tr>\n",
              "    <tr>\n",
              "      <th>429</th>\n",
              "      <td>68.362697</td>\n",
              "    </tr>\n",
              "  </tbody>\n",
              "</table>\n",
              "</div>"
            ],
            "text/plain": [
              "        heights\n",
              "1150  66.101377\n",
              "1074  69.355026\n",
              "1543  71.390240\n",
              "1960  73.462303\n",
              "429   68.362697"
            ]
          },
          "metadata": {
            "tags": []
          },
          "execution_count": 14
        }
      ]
    },
    {
      "cell_type": "code",
      "metadata": {
        "id": "KwGKLx4lbvfS",
        "colab_type": "code",
        "colab": {
          "base_uri": "https://localhost:8080/",
          "height": 36
        },
        "outputId": "a7cc93db-1ee4-4d53-c4a3-a3cfd4e2e787"
      },
      "source": [
        "print('Sample Mean #1:', sample1['heights'].mean())"
      ],
      "execution_count": 15,
      "outputs": [
        {
          "output_type": "stream",
          "text": [
            "Sample Mean #1: 70.00320156275887\n"
          ],
          "name": "stdout"
        }
      ]
    },
    {
      "cell_type": "code",
      "metadata": {
        "id": "-J2ge9FKbvbu",
        "colab_type": "code",
        "colab": {
          "base_uri": "https://localhost:8080/",
          "height": 225
        },
        "outputId": "604831c0-ca2e-4c62-d1c1-1ad07479c39a"
      },
      "source": [
        "# Take a different random sample and print sample mean\n",
        "sample2 = population.sample(100)\n",
        "print(sample2.shape)\n",
        "sample2.head()"
      ],
      "execution_count": 16,
      "outputs": [
        {
          "output_type": "stream",
          "text": [
            "(100, 1)\n"
          ],
          "name": "stdout"
        },
        {
          "output_type": "execute_result",
          "data": {
            "text/html": [
              "<div>\n",
              "<style scoped>\n",
              "    .dataframe tbody tr th:only-of-type {\n",
              "        vertical-align: middle;\n",
              "    }\n",
              "\n",
              "    .dataframe tbody tr th {\n",
              "        vertical-align: top;\n",
              "    }\n",
              "\n",
              "    .dataframe thead th {\n",
              "        text-align: right;\n",
              "    }\n",
              "</style>\n",
              "<table border=\"1\" class=\"dataframe\">\n",
              "  <thead>\n",
              "    <tr style=\"text-align: right;\">\n",
              "      <th></th>\n",
              "      <th>heights</th>\n",
              "    </tr>\n",
              "  </thead>\n",
              "  <tbody>\n",
              "    <tr>\n",
              "      <th>369</th>\n",
              "      <td>71.331882</td>\n",
              "    </tr>\n",
              "    <tr>\n",
              "      <th>246</th>\n",
              "      <td>70.530314</td>\n",
              "    </tr>\n",
              "    <tr>\n",
              "      <th>1661</th>\n",
              "      <td>63.005883</td>\n",
              "    </tr>\n",
              "    <tr>\n",
              "      <th>1182</th>\n",
              "      <td>68.886432</td>\n",
              "    </tr>\n",
              "    <tr>\n",
              "      <th>787</th>\n",
              "      <td>68.280167</td>\n",
              "    </tr>\n",
              "  </tbody>\n",
              "</table>\n",
              "</div>"
            ],
            "text/plain": [
              "        heights\n",
              "369   71.331882\n",
              "246   70.530314\n",
              "1661  63.005883\n",
              "1182  68.886432\n",
              "787   68.280167"
            ]
          },
          "metadata": {
            "tags": []
          },
          "execution_count": 16
        }
      ]
    },
    {
      "cell_type": "code",
      "metadata": {
        "id": "uso-Jh9db0Zs",
        "colab_type": "code",
        "colab": {
          "base_uri": "https://localhost:8080/",
          "height": 36
        },
        "outputId": "6e13df80-a9f0-41c0-9316-badb53491136"
      },
      "source": [
        "print('Sample Mean #2:', sample2['heights'].mean())"
      ],
      "execution_count": 17,
      "outputs": [
        {
          "output_type": "stream",
          "text": [
            "Sample Mean #2: 69.89538254698823\n"
          ],
          "name": "stdout"
        }
      ]
    },
    {
      "cell_type": "markdown",
      "metadata": {
        "id": "nfdQf8QYUUmw",
        "colab_type": "text"
      },
      "source": [
        "## Build and Interpret a Confidence Interval\n",
        "\n",
        "<img src=\"https://github.com/ryanallredblog/ryanallredblog.github.io/blob/master/img/Confidence_Interval.png?raw=true\" width=400>"
      ]
    },
    {
      "cell_type": "code",
      "metadata": {
        "id": "dkLZtCc9b8sX",
        "colab_type": "code",
        "colab": {
          "base_uri": "https://localhost:8080/",
          "height": 55
        },
        "outputId": "91ffacb5-5398-4939-f88c-98b39fce28ee"
      },
      "source": [
        "coinflips_10000 = np.random.binomial(n=1, p=0.5, size=10000)\n",
        "\n",
        "sample_std = np.std(coinflips_10000)\n",
        "print('Sample St Dev:', sample_std)\n",
        "sample_size = len(coinflips_10000)\n",
        "print('Sample Size:', sample_size)"
      ],
      "execution_count": 18,
      "outputs": [
        {
          "output_type": "stream",
          "text": [
            "Sample St Dev: 0.49996030842457884\n",
            "Sample Size: 10000\n"
          ],
          "name": "stdout"
        }
      ]
    },
    {
      "cell_type": "code",
      "metadata": {
        "id": "5uGTd6NvcCY9",
        "colab_type": "code",
        "colab": {
          "base_uri": "https://localhost:8080/",
          "height": 36
        },
        "outputId": "ce55dbd8-8e33-4846-ef26-6a85f067768a"
      },
      "source": [
        "standard_error = sample_std/np.sqrt(sample_size)\n",
        "print(standard_error)"
      ],
      "execution_count": 19,
      "outputs": [
        {
          "output_type": "stream",
          "text": [
            "0.004999603084245788\n"
          ],
          "name": "stdout"
        }
      ]
    },
    {
      "cell_type": "code",
      "metadata": {
        "id": "rhkAN47OcClm",
        "colab_type": "code",
        "colab": {
          "base_uri": "https://localhost:8080/",
          "height": 430
        },
        "outputId": "9bf2efa0-5bc7-4cd6-cf73-6b4d6070dd41"
      },
      "source": [
        "'''\n",
        "What confidence level do we want our confidence interval to represent?¶\n",
        "\n",
        "95% confidence Interval? 99% confidence interval?\n",
        "'''\n",
        "\n",
        "import scipy.stats as stats\n",
        "help(stats.t.ppf)"
      ],
      "execution_count": 20,
      "outputs": [
        {
          "output_type": "stream",
          "text": [
            "Help on method ppf in module scipy.stats._distn_infrastructure:\n",
            "\n",
            "ppf(q, *args, **kwds) method of scipy.stats._continuous_distns.t_gen instance\n",
            "    Percent point function (inverse of `cdf`) at q of the given RV.\n",
            "    \n",
            "    Parameters\n",
            "    ----------\n",
            "    q : array_like\n",
            "        lower tail probability\n",
            "    arg1, arg2, arg3,... : array_like\n",
            "        The shape parameter(s) for the distribution (see docstring of the\n",
            "        instance object for more information)\n",
            "    loc : array_like, optional\n",
            "        location parameter (default=0)\n",
            "    scale : array_like, optional\n",
            "        scale parameter (default=1)\n",
            "    \n",
            "    Returns\n",
            "    -------\n",
            "    x : array_like\n",
            "        quantile corresponding to the lower tail probability q.\n",
            "\n"
          ],
          "name": "stdout"
        }
      ]
    },
    {
      "cell_type": "code",
      "metadata": {
        "id": "_iqlIdYTcCjz",
        "colab_type": "code",
        "colab": {
          "base_uri": "https://localhost:8080/",
          "height": 36
        },
        "outputId": "d91e7ca3-a417-45a0-b653-16573a5e212f"
      },
      "source": [
        "t = stats.t.ppf(0.975, sample_size-1)\n",
        "t"
      ],
      "execution_count": 21,
      "outputs": [
        {
          "output_type": "execute_result",
          "data": {
            "text/plain": [
              "1.9602012636213575"
            ]
          },
          "metadata": {
            "tags": []
          },
          "execution_count": 21
        }
      ]
    },
    {
      "cell_type": "code",
      "metadata": {
        "id": "3by7TcVOcCeP",
        "colab_type": "code",
        "colab": {
          "base_uri": "https://localhost:8080/",
          "height": 73
        },
        "outputId": "6f4127cb-dad8-4f0e-dea5-c1219e9e9c5a"
      },
      "source": [
        "sample_mean = coinflips_10000.mean()\n",
        "confidence_interval = (sample_mean - t*standard_error, sample_mean + t*standard_error)\n",
        "margin_of_error = t*standard_error\n",
        "\n",
        "print(\"Sample Mean: \", sample_mean)\n",
        "print(\"Margin of Error: \", margin_of_error)\n",
        "print(\"Confidence Interval: \", confidence_interval)"
      ],
      "execution_count": 22,
      "outputs": [
        {
          "output_type": "stream",
          "text": [
            "Sample Mean:  0.4937\n",
            "Margin of Error:  0.00980022828334383\n",
            "Confidence Interval:  (0.4838997717166562, 0.5035002282833438)\n"
          ],
          "name": "stdout"
        }
      ]
    },
    {
      "cell_type": "code",
      "metadata": {
        "id": "6OrEsLpgcCUu",
        "colab_type": "code",
        "colab": {
          "base_uri": "https://localhost:8080/",
          "height": 288
        },
        "outputId": "7818d2fb-55ef-44b4-f360-956d01d63fd8"
      },
      "source": [
        "'''\n",
        "Graphically Represent a Confidence Interval\n",
        "'''\n",
        "\n",
        "import seaborn as sns\n",
        "\n",
        "sns.kdeplot(coinflips_10000)\n",
        "plt.axvline(x=sample_mean, color='k')\n",
        "plt.axvline(x=confidence_interval[0], color='r')\n",
        "plt.axvline(x=confidence_interval[1], color='r')"
      ],
      "execution_count": 23,
      "outputs": [
        {
          "output_type": "execute_result",
          "data": {
            "text/plain": [
              "<matplotlib.lines.Line2D at 0x7f1cc519c828>"
            ]
          },
          "metadata": {
            "tags": []
          },
          "execution_count": 23
        },
        {
          "output_type": "display_data",
          "data": {
            "image/png": "[encoded data removed]",
            "text/plain": [
              "<Figure size 432x288 with 1 Axes>"
            ]
          },
          "metadata": {
            "tags": []
          }
        }
      ]
    },
    {
      "cell_type": "markdown",
      "metadata": {
        "id": "KFb9j6Rxcz9k",
        "colab_type": "text"
      },
      "source": [
        "\n",
        "Relationship between Confidence Intervals and T-tests\n",
        "\n",
        "Confidence Interval == Bounds of statistical significance for our t-test\n",
        "\n",
        "A sample mean that falls inside of our confidence interval will \"FAIL TO REJECT\" our null hypothesis\n",
        "\n",
        "A sample mean that falls outside of our confidence interval will \"REJECT\" our null hypothesis\n"
      ]
    },
    {
      "cell_type": "code",
      "metadata": {
        "id": "WpUoxzoPcoQE",
        "colab_type": "code",
        "colab": {}
      },
      "source": [
        "from scipy.stats import t, ttest_1samp"
      ],
      "execution_count": 0,
      "outputs": []
    },
    {
      "cell_type": "code",
      "metadata": {
        "id": "C5G2G2iJcog7",
        "colab_type": "code",
        "colab": {
          "base_uri": "https://localhost:8080/",
          "height": 56
        },
        "outputId": "7a1155b7-fb74-46d8-c829-034db5812283"
      },
      "source": [
        "import numpy as np\n",
        "\n",
        "coinflip_means = []\n",
        "for x in range(0,100):\n",
        "  coinflips = np.random.binomial(n=1, p=.5, size=30)\n",
        "  coinflip_means.append(coinflips.mean())\n",
        "\n",
        "print(coinflip_means)"
      ],
      "execution_count": 25,
      "outputs": [
        {
          "output_type": "stream",
          "text": [
            "[0.26666666666666666, 0.36666666666666664, 0.4666666666666667, 0.5, 0.4666666666666667, 0.3333333333333333, 0.5333333333333333, 0.5333333333333333, 0.7, 0.6, 0.5666666666666667, 0.7, 0.43333333333333335, 0.36666666666666664, 0.5333333333333333, 0.43333333333333335, 0.5, 0.4666666666666667, 0.5, 0.6, 0.5, 0.6, 0.4, 0.5, 0.36666666666666664, 0.5333333333333333, 0.5333333333333333, 0.7, 0.5666666666666667, 0.5, 0.4666666666666667, 0.4, 0.4, 0.5333333333333333, 0.5666666666666667, 0.43333333333333335, 0.36666666666666664, 0.6, 0.43333333333333335, 0.5333333333333333, 0.5, 0.6, 0.6333333333333333, 0.4, 0.3333333333333333, 0.5333333333333333, 0.5333333333333333, 0.5333333333333333, 0.43333333333333335, 0.5333333333333333, 0.5666666666666667, 0.6333333333333333, 0.4666666666666667, 0.5, 0.5, 0.43333333333333335, 0.5333333333333333, 0.4666666666666667, 0.5666666666666667, 0.5, 0.5, 0.4666666666666667, 0.5333333333333333, 0.5333333333333333, 0.7333333333333333, 0.5333333333333333, 0.43333333333333335, 0.6, 0.5333333333333333, 0.5333333333333333, 0.4666666666666667, 0.5333333333333333, 0.6, 0.43333333333333335, 0.5333333333333333, 0.3333333333333333, 0.6333333333333333, 0.3, 0.5, 0.4666666666666667, 0.4, 0.36666666666666664, 0.3333333333333333, 0.5333333333333333, 0.4666666666666667, 0.6, 0.5333333333333333, 0.43333333333333335, 0.4, 0.4666666666666667, 0.4666666666666667, 0.5, 0.5, 0.3333333333333333, 0.5333333333333333, 0.5, 0.5333333333333333, 0.3333333333333333, 0.4666666666666667, 0.5333333333333333]\n"
          ],
          "name": "stdout"
        }
      ]
    },
    {
      "cell_type": "code",
      "metadata": {
        "id": "TxZoJwZGc70k",
        "colab_type": "code",
        "colab": {
          "base_uri": "https://localhost:8080/",
          "height": 36
        },
        "outputId": "74887e20-a695-4704-bc0c-3545d6aa2c4c"
      },
      "source": [
        "np.mean(coinflip_means)"
      ],
      "execution_count": 26,
      "outputs": [
        {
          "output_type": "execute_result",
          "data": {
            "text/plain": [
              "0.4943333333333333"
            ]
          },
          "metadata": {
            "tags": []
          },
          "execution_count": 26
        }
      ]
    },
    {
      "cell_type": "code",
      "metadata": {
        "id": "foKTBcDXc9rq",
        "colab_type": "code",
        "colab": {
          "base_uri": "https://localhost:8080/",
          "height": 467
        },
        "outputId": "a88cdd23-6539-46ea-d003-9d5b0b94354b"
      },
      "source": [
        "help(stats.t.interval)"
      ],
      "execution_count": 27,
      "outputs": [
        {
          "output_type": "stream",
          "text": [
            "Help on method interval in module scipy.stats._distn_infrastructure:\n",
            "\n",
            "interval(alpha, *args, **kwds) method of scipy.stats._continuous_distns.t_gen instance\n",
            "    Confidence interval with equal areas around the median.\n",
            "    \n",
            "    Parameters\n",
            "    ----------\n",
            "    alpha : array_like of float\n",
            "        Probability that an rv will be drawn from the returned range.\n",
            "        Each value should be in the range [0, 1].\n",
            "    arg1, arg2, ... : array_like\n",
            "        The shape parameter(s) for the distribution (see docstring of the\n",
            "        instance object for more information).\n",
            "    loc : array_like, optional\n",
            "        location parameter, Default is 0.\n",
            "    scale : array_like, optional\n",
            "        scale parameter, Default is 1.\n",
            "    \n",
            "    Returns\n",
            "    -------\n",
            "    a, b : ndarray of float\n",
            "        end-points of range that contain ``100 * alpha %`` of the rv's\n",
            "        possible values.\n",
            "\n"
          ],
          "name": "stdout"
        }
      ]
    },
    {
      "cell_type": "code",
      "metadata": {
        "id": "si_cJQU-c9ps",
        "colab_type": "code",
        "colab": {
          "base_uri": "https://localhost:8080/",
          "height": 55
        },
        "outputId": "4eb4ba0b-e87a-4061-ba35-93d5d08ba134"
      },
      "source": [
        "# 95% confidence interval\n",
        "t_stat = stats.t.ppf(0.975, 99)\n",
        "print('T Statistic: ', t_stat)\n",
        "\n",
        "std_sample = np.std(coinflip_means)\n",
        "std_err = std_sample/np.sqrt(len(coinflip_means))\n",
        "\n",
        "CI = stats.t.interval(0.95, 99, loc=np.mean(coinflip_means), scale=std_err)\n",
        "print('95% confidence interval:', CI)"
      ],
      "execution_count": 28,
      "outputs": [
        {
          "output_type": "stream",
          "text": [
            "T Statistic:  1.9842169515086827\n",
            "95% confidence interval: (0.4763885070003084, 0.5122781596663581)\n"
          ],
          "name": "stdout"
        }
      ]
    },
    {
      "cell_type": "code",
      "metadata": {
        "id": "qVXPyZBpc9l4",
        "colab_type": "code",
        "colab": {
          "base_uri": "https://localhost:8080/",
          "height": 36
        },
        "outputId": "c1f3a0f4-1fb6-4be3-bca4-7ef718c98801"
      },
      "source": [
        "ttest_1samp(coinflip_means, 0.48186)"
      ],
      "execution_count": 29,
      "outputs": [
        {
          "output_type": "execute_result",
          "data": {
            "text/plain": [
              "Ttest_1sampResult(statistic=1.3723030280988209, pvalue=0.17307040770467372)"
            ]
          },
          "metadata": {
            "tags": []
          },
          "execution_count": 29
        }
      ]
    },
    {
      "cell_type": "code",
      "metadata": {
        "id": "QED6hCHVdJMj",
        "colab_type": "code",
        "colab": {
          "base_uri": "https://localhost:8080/",
          "height": 36
        },
        "outputId": "26e9ba91-3290-4cbd-f7d4-9ae08d7fc36e"
      },
      "source": [
        "ttest_1samp(coinflip_means, 0.51813)"
      ],
      "execution_count": 30,
      "outputs": [
        {
          "output_type": "execute_result",
          "data": {
            "text/plain": [
              "Ttest_1sampResult(statistic=-2.61808426445685, pvalue=0.010230613435891378)"
            ]
          },
          "metadata": {
            "tags": []
          },
          "execution_count": 30
        }
      ]
    },
    {
      "cell_type": "code",
      "metadata": {
        "id": "tBx71Kf0UjT3",
        "colab_type": "code",
        "colab": {}
      },
      "source": [
        "def confidence_interval(data, confidence=0.95):\n",
        "  \"\"\"\n",
        "  Calculate a confidence interval around a sample mean for given data.\n",
        "  Using t-distribution and two-tailed test, default 95% confidence. \n",
        "  \n",
        "  Arguments:\n",
        "    data - iterable (list or numpy array) of sample observations\n",
        "    confidence - level of confidence for the interval\n",
        "  \n",
        "  Returns:\n",
        "    tuple of (mean, lower bound, upper bound)\n",
        "  \"\"\"\n",
        "  data = np.array(data)\n",
        "  mean = np.mean(data)\n",
        "  n = len(data)\n",
        "  stderr = stats.sem(data)\n",
        "  interval = stderr * stats.t.ppf((1 + confidence) / 2.0, n - 1)\n",
        "  return (mean, mean - interval, mean + interval)"
      ],
      "execution_count": 0,
      "outputs": []
    },
    {
      "cell_type": "markdown",
      "metadata": {
        "id": "pTIzrkKdUaLl",
        "colab_type": "text"
      },
      "source": [
        "## Run a $\\chi^{2}$ Test \"by hand\" (Using Numpy)"
      ]
    },
    {
      "cell_type": "code",
      "metadata": {
        "id": "DDsovHUyUj3v",
        "colab_type": "code",
        "colab": {}
      },
      "source": [
        ""
      ],
      "execution_count": 0,
      "outputs": []
    },
    {
      "cell_type": "markdown",
      "metadata": {
        "id": "7Igz-XHcVbW3",
        "colab_type": "text"
      },
      "source": [
        "## Run a $\\chi^{2}$ Test using Scipy"
      ]
    },
    {
      "cell_type": "code",
      "metadata": {
        "id": "X52Nwt7AVlvk",
        "colab_type": "code",
        "colab": {}
      },
      "source": [
        ""
      ],
      "execution_count": 0,
      "outputs": []
    },
    {
      "cell_type": "markdown",
      "metadata": {
        "id": "11OzdxWTM7UR",
        "colab_type": "text"
      },
      "source": [
        "## Assignment - Build a confidence interval\n",
        "\n",
        "A confidence interval refers to a neighborhood around some point estimate, the size of which is determined by the desired p-value. For instance, we might say that 52% of Americans prefer tacos to burritos, with a 95% confidence interval of +/- 5%.\n",
        "\n",
        "52% (0.52) is the point estimate, and +/- 5% (the interval $[0.47, 0.57]$) is the confidence interval. \"95% confidence\" means a p-value $\\leq 1 - 0.95 = 0.05$.\n",
        "\n",
        "In this case, the confidence interval includes $0.5$ - which is the natural null hypothesis (that half of Americans prefer tacos and half burritos, thus there is no clear favorite). So in this case, we could use the confidence interval to report that we've failed to reject the null hypothesis.\n",
        "\n",
        "But providing the full analysis with a confidence interval, including a graphical representation of it, can be a helpful and powerful way to tell your story. Done well, it is also more intuitive to a layperson than simply saying \"fail to reject the null hypothesis\" - it shows that in fact the data does *not* give a single clear result (the point estimate) but a whole range of possibilities.\n",
        "\n",
        "How is a confidence interval built, and how should it be interpreted? It does *not* mean that 95% of the data lies in that interval - instead, the frequentist interpretation is \"if we were to repeat this experiment 100 times, we would expect the average result to lie in this interval ~95 times.\"\n",
        "\n",
        "For a 95% confidence interval and a normal(-ish) distribution, you can simply remember that +/-2 standard deviations contains 95% of the probability mass, and so the 95% confidence interval based on a given sample is centered at the mean (point estimate) and has a range of +/- 2 (or technically 1.96) standard deviations.\n",
        "\n",
        "Different distributions/assumptions (90% confidence, 99% confidence) will require different math, but the overall process and interpretation (with a frequentist approach) will be the same.\n",
        "\n",
        "Your assignment - using the data from the prior module ([congressional voting records](https://archive.ics.uci.edu/ml/datasets/Congressional+Voting+Records)):\n",
        "\n",
        "\n",
        "### Confidence Intervals:\n",
        "1. Generate and numerically represent a confidence interval\n",
        "2. Graphically (with a plot) represent the confidence interval\n",
        "3. Interpret the confidence interval - what does it tell you about the data and its distribution?\n",
        "\n",
        "### Chi-squared tests:\n",
        "4. Take a dataset that we have used in the past in class that has **categorical** variables. Pick two of those categorical variables and run a chi-squared tests on that data\n",
        "  - By hand using Numpy\n",
        "  - In a single line using Scipy\n",
        "\n",
        "Stretch goals:\n",
        "\n",
        "1. Write a summary of your findings, mixing prose and math/code/results. *Note* - yes, this is by definition a political topic. It is challenging but important to keep your writing voice *neutral* and stick to the facts of the data. Data science often involves considering controversial issues, so it's important to be sensitive about them (especially if you want to publish).\n",
        "2. Apply the techniques you learned today to your project data or other data of your choice, and write/discuss your findings here.\n",
        "3. Refactor your code so it is elegant, readable, and can be easily run for all issues."
      ]
    },
    {
      "cell_type": "code",
      "metadata": {
        "id": "Ckcr4A4FM7cs",
        "colab_type": "code",
        "colab": {}
      },
      "source": [
        "# TODO - your code!"
      ],
      "execution_count": 0,
      "outputs": []
    },
    {
      "cell_type": "markdown",
      "metadata": {
        "id": "nyJ3ySr7R2k9",
        "colab_type": "text"
      },
      "source": [
        "## Resources\n",
        "\n",
        "- [Interactive visualize the Chi-Squared test](https://homepage.divms.uiowa.edu/~mbognar/applets/chisq.html)\n",
        "- [Calculation of Chi-Squared test statistic](https://en.wikipedia.org/wiki/Pearson%27s_chi-squared_test)\n",
        "- [Visualization of a confidence interval generated by R code](https://commons.wikimedia.org/wiki/File:Confidence-interval.svg)\n",
        "- [Expected value of a squared standard normal](https://math.stackexchange.com/questions/264061/expected-value-calculation-for-squared-normal-distribution) (it's 1 - which is why the expected value of a Chi-Squared with $n$ degrees of freedom is $n$, as it's the sum of $n$ squared standard normals)"
      ]
    }
  ]
}