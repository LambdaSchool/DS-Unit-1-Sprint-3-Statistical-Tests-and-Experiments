{
  "nbformat": 4,
  "nbformat_minor": 0,
  "metadata": {
    "colab": {
      "name": "My Notes LS_DS_132_Sampling_Confidence_Intervals_and_Hypothesis_Testing.ipynb",
      "version": "0.3.2",
      "provenance": [],
      "collapsed_sections": [],
      "include_colab_link": true
    },
    "kernelspec": {
      "name": "python3",
      "display_name": "Python 3"
    }
  },
  "cells": [
    {
      "cell_type": "markdown",
      "metadata": {
        "id": "view-in-github",
        "colab_type": "text"
      },
      "source": [
        "<a href=\"https://colab.research.google.com/github/Nckflannery/DS-Unit-1-Sprint-3-Statistical-Tests-and-Experiments/blob/master/module2-sampling-confidence-intervals-and-hypothesis-testing/My_Notes_LS_DS_132_Sampling_Confidence_Intervals_and_Hypothesis_Testing.ipynb\" target=\"_parent\"><img src=\"https://colab.research.google.com/assets/colab-badge.svg\" alt=\"Open In Colab\"/></a>"
      ]
    },
    {
      "cell_type": "markdown",
      "metadata": {
        "id": "838Dmw1kM2LK",
        "colab_type": "text"
      },
      "source": [
        "# Lambda School Data Science Module 132\n",
        "## Sampling, Confidence Intervals, and Hypothesis Testing"
      ]
    },
    {
      "cell_type": "markdown",
      "metadata": {
        "id": "dbcPKIo5M6Ny",
        "colab_type": "text"
      },
      "source": [
        "## Prepare - examine other available hypothesis tests\n",
        "\n",
        "If you had to pick a single hypothesis test in your toolbox, t-test would probably be the best choice - but the good news is you don't have to pick just one! Here's some of the others to be aware of:"
      ]
    },
    {
      "cell_type": "code",
      "metadata": {
        "id": "tlBel8j9M6tB",
        "colab_type": "code",
        "outputId": "811623c9-885a-42e3-c3f7-159ced2ce330",
        "colab": {
          "base_uri": "https://localhost:8080/",
          "height": 215
        }
      },
      "source": [
        "import numpy as np\n",
        "from scipy.stats import chisquare  # One-way chi square test\n",
        "\n",
        "# Chi square can take any crosstab/table and test the independence of rows/cols\n",
        "# The null hypothesis is that the rows/cols are independent -> low chi square\n",
        "# The alternative is that there is a dependence -> high chi square\n",
        "# Be aware! Chi square does *not* tell you direction/causation\n",
        "\n",
        "ind_obs = np.array([[1, 1], [2, 2]]).T\n",
        "print(ind_obs)\n",
        "print(chisquare(ind_obs, axis=None))\n",
        "\n",
        "dep_obs = np.array([[16, 18, 16, 14, 12, 12], [32, 24, 16, 28, 20, 24]]).T\n",
        "print(dep_obs)\n",
        "print(chisquare(dep_obs, axis=None))"
      ],
      "execution_count": 0,
      "outputs": [
        {
          "output_type": "stream",
          "text": [
            "[[1 2]\n",
            " [1 2]]\n",
            "Power_divergenceResult(statistic=0.6666666666666666, pvalue=0.8810148425137847)\n",
            "[[16 32]\n",
            " [18 24]\n",
            " [16 16]\n",
            " [14 28]\n",
            " [12 20]\n",
            " [12 24]]\n",
            "Power_divergenceResult(statistic=23.31034482758621, pvalue=0.015975692534127565)\n"
          ],
          "name": "stdout"
        }
      ]
    },
    {
      "cell_type": "code",
      "metadata": {
        "id": "nN0BdNiDPxbk",
        "colab_type": "code",
        "outputId": "36426de9-d1b9-4790-ae20-9d5eb578a77a",
        "colab": {
          "base_uri": "https://localhost:8080/",
          "height": 35
        }
      },
      "source": [
        "# Distribution tests:\n",
        "# We often assume that something is normal, but it can be important to *check*\n",
        "\n",
        "# For example, later on with predictive modeling, a typical assumption is that\n",
        "# residuals (prediction errors) are normal - checking is a good diagnostic\n",
        "\n",
        "from scipy.stats import normaltest\n",
        "# Poisson models arrival times and is related to the binomial (coinflip)\n",
        "sample = np.random.poisson(5, 1000)\n",
        "print(normaltest(sample))  # Pretty clearly not normal"
      ],
      "execution_count": 0,
      "outputs": [
        {
          "output_type": "stream",
          "text": [
            "NormaltestResult(statistic=38.69323106073592, pvalue=3.961609200867749e-09)\n"
          ],
          "name": "stdout"
        }
      ]
    },
    {
      "cell_type": "code",
      "metadata": {
        "id": "P5t0WhkDReFO",
        "colab_type": "code",
        "outputId": "7d6438bf-8042-4297-a8f7-cef083d22444",
        "colab": {
          "base_uri": "https://localhost:8080/",
          "height": 53
        }
      },
      "source": [
        "# Kruskal-Wallis H-test - compare the median rank between 2+ groups\n",
        "# Can be applied to ranking decisions/outcomes/recommendations\n",
        "# The underlying math comes from chi-square distribution, and is best for n>5\n",
        "from scipy.stats import kruskal\n",
        "\n",
        "x1 = [1, 3, 5, 7, 9]\n",
        "y1 = [2, 4, 6, 8, 10]\n",
        "print(kruskal(x1, y1))  # x1 is a little better, but not \"significantly\" so\n",
        "\n",
        "x2 = [1, 1, 1]\n",
        "y2 = [2, 2, 2]\n",
        "z = [2, 2]  # Hey, a third group, and of different size!\n",
        "print(kruskal(x2, y2, z))  # x clearly dominates"
      ],
      "execution_count": 0,
      "outputs": [
        {
          "output_type": "stream",
          "text": [
            "KruskalResult(statistic=0.2727272727272734, pvalue=0.6015081344405895)\n",
            "KruskalResult(statistic=7.0, pvalue=0.0301973834223185)\n"
          ],
          "name": "stdout"
        }
      ]
    },
    {
      "cell_type": "markdown",
      "metadata": {
        "id": "7pT3IP36Rh0b",
        "colab_type": "text"
      },
      "source": [
        "And there's many more! `scipy.stats` is fairly comprehensive, though there are even more available if you delve into the extended world of statistics packages. As tests get increasingly obscure and specialized, the importance of knowing them by heart becomes small - but being able to look them up and figure them out when they *are* relevant is still important."
      ]
    },
    {
      "cell_type": "markdown",
      "metadata": {
        "id": "icF6t7hbBtXV",
        "colab_type": "text"
      },
      "source": [
        "##Degrees of Freedom"
      ]
    },
    {
      "cell_type": "code",
      "metadata": {
        "id": "0DbMSEsLBvm7",
        "colab_type": "code",
        "colab": {}
      },
      "source": [
        "mean = 20\n",
        "n = 7\n",
        "\n",
        "# Given 6 numbers:\n",
        "[5, 9, 10, 20, 15, 12, X]\n",
        "# X cannot be just any number, it HAS to fit mean=20\n",
        "# So the last value must satisfy sum = 140\n",
        "# 140-71 = 69\n",
        "# X=69"
      ],
      "execution_count": 0,
      "outputs": []
    },
    {
      "cell_type": "markdown",
      "metadata": {
        "id": "3JqroCQYQqhy",
        "colab_type": "text"
      },
      "source": [
        "## T-test Assumptions\n",
        "\n",
        "<https://statistics.laerd.com/statistical-guides/independent-t-test-statistical-guide.php>\n",
        "\n",
        "- Independence of means\n",
        "\n",
        "Are the means of our voting data independent (do not affect the outcome of one another)?\n",
        "  \n",
        "The best way to increase the likelihood of our means being independent is to randomly sample (which we did not do).\n"
      ]
    },
    {
      "cell_type": "code",
      "metadata": {
        "id": "sqy2hEFRZnvI",
        "colab_type": "code",
        "colab": {}
      },
      "source": [
        "from scipy.stats import ttest_ind\n",
        "\n",
        "?ttest_ind"
      ],
      "execution_count": 0,
      "outputs": []
    },
    {
      "cell_type": "markdown",
      "metadata": {
        "id": "xI-PcK5sZ1A9",
        "colab_type": "text"
      },
      "source": [
        "- \"Homogeneity\" of Variance? \n",
        "\n",
        "Is the magnitude of the variance between the two roughly the same?\n",
        "\n",
        "I think we're OK on this one for the voting data, although it probably could be better, one party was larger than the other.\n",
        "\n",
        "If we suspect this to be a problem then we can use Welch's T-test"
      ]
    },
    {
      "cell_type": "code",
      "metadata": {
        "id": "P02dL0waauN5",
        "colab_type": "code",
        "colab": {}
      },
      "source": [
        "?ttest_ind"
      ],
      "execution_count": 0,
      "outputs": []
    },
    {
      "cell_type": "markdown",
      "metadata": {
        "id": "tjgoHHwGayoC",
        "colab_type": "text"
      },
      "source": [
        "- \"Dependent Variable\" (sample means) are Distributed Normally\n",
        "\n",
        "<https://stats.stackexchange.com/questions/9573/t-test-for-non-normal-when-n50>\n",
        "\n",
        "Lots of statistical tests depend on normal distributions. We can test for normality using Scipy as was shown above.\n",
        "\n",
        "This assumption is often assumed even if the assumption is a weak one. If you strongly suspect that things are not normally distributed, you can transform your data to get it looking more normal and then run your test. This problem typically goes away for large sample sizes (yay Central Limit Theorem) and is often why you don't hear it brought up. People declare the assumption to be satisfied either way. \n",
        "\n"
      ]
    },
    {
      "cell_type": "markdown",
      "metadata": {
        "id": "bvvPV-RJN2vA",
        "colab_type": "text"
      },
      "source": [
        "## Central Limit Theorem\n",
        "\n"
      ]
    },
    {
      "cell_type": "code",
      "metadata": {
        "id": "FBLoOF8qOJeJ",
        "colab_type": "code",
        "outputId": "ab2f6809-52f2-4813-f980-a4849eeb984b",
        "colab": {
          "base_uri": "https://localhost:8080/",
          "height": 71
        }
      },
      "source": [
        "import numpy as np\n",
        "import matplotlib.pyplot as plt\n",
        "import pandas as pd\n",
        "\n",
        "sample_means = []\n",
        "for x in range(0,3000):\n",
        "  coinflips = np.random.binomial(n=1, p=.5, size=50)\n",
        "  one_sample = coinflips\n",
        "  sample_means.append(coinflips.mean())\n",
        "\n",
        "print(len(sample_means))\n",
        "print(sample_means)"
      ],
      "execution_count": 21,
      "outputs": [
        {
          "output_type": "stream",
          "text": [
            "3000\n",
            "[0.5, 0.48, 0.44, 0.44, 0.36, 0.32, 0.5, 0.46, 0.38, 0.54, 0.42, 0.5, 0.54, 0.4, 0.5, 0.4, 0.44, 0.5, 0.46, 0.58, 0.56, 0.48, 0.52, 0.44, 0.5, 0.5, 0.56, 0.44, 0.56, 0.6, 0.5, 0.7, 0.46, 0.44, 0.44, 0.58, 0.52, 0.62, 0.52, 0.56, 0.58, 0.5, 0.52, 0.46, 0.5, 0.42, 0.54, 0.48, 0.42, 0.54, 0.46, 0.5, 0.56, 0.58, 0.52, 0.54, 0.44, 0.42, 0.48, 0.6, 0.44, 0.58, 0.52, 0.38, 0.5, 0.58, 0.5, 0.44, 0.52, 0.5, 0.32, 0.54, 0.5, 0.44, 0.48, 0.52, 0.44, 0.48, 0.62, 0.58, 0.5, 0.58, 0.54, 0.66, 0.58, 0.42, 0.42, 0.4, 0.54, 0.56, 0.48, 0.4, 0.48, 0.44, 0.36, 0.48, 0.62, 0.54, 0.38, 0.64, 0.52, 0.52, 0.5, 0.56, 0.46, 0.46, 0.52, 0.6, 0.44, 0.42, 0.44, 0.58, 0.52, 0.48, 0.52, 0.48, 0.38, 0.42, 0.56, 0.38, 0.32, 0.48, 0.44, 0.48, 0.54, 0.46, 0.58, 0.46, 0.6, 0.44, 0.5, 0.54, 0.54, 0.52, 0.6, 0.52, 0.54, 0.64, 0.56, 0.48, 0.52, 0.4, 0.46, 0.48, 0.64, 0.42, 0.5, 0.56, 0.52, 0.46, 0.44, 0.46, 0.44, 0.36, 0.5, 0.52, 0.58, 0.4, 0.5, 0.56, 0.54, 0.56, 0.44, 0.58, 0.62, 0.56, 0.46, 0.44, 0.54, 0.6, 0.5, 0.44, 0.5, 0.44, 0.58, 0.48, 0.4, 0.52, 0.6, 0.48, 0.44, 0.52, 0.52, 0.52, 0.42, 0.48, 0.64, 0.52, 0.4, 0.5, 0.4, 0.46, 0.54, 0.44, 0.5, 0.56, 0.44, 0.5, 0.66, 0.46, 0.4, 0.54, 0.48, 0.54, 0.42, 0.46, 0.52, 0.44, 0.44, 0.6, 0.58, 0.34, 0.54, 0.48, 0.56, 0.46, 0.44, 0.56, 0.4, 0.48, 0.48, 0.48, 0.44, 0.5, 0.5, 0.46, 0.4, 0.56, 0.5, 0.46, 0.4, 0.54, 0.42, 0.48, 0.46, 0.52, 0.6, 0.4, 0.62, 0.54, 0.42, 0.68, 0.46, 0.46, 0.44, 0.46, 0.58, 0.44, 0.38, 0.54, 0.5, 0.56, 0.32, 0.44, 0.52, 0.52, 0.52, 0.44, 0.52, 0.46, 0.52, 0.52, 0.42, 0.52, 0.56, 0.52, 0.5, 0.56, 0.46, 0.5, 0.52, 0.66, 0.34, 0.52, 0.46, 0.66, 0.6, 0.38, 0.44, 0.6, 0.62, 0.44, 0.44, 0.48, 0.42, 0.44, 0.54, 0.52, 0.44, 0.5, 0.5, 0.62, 0.48, 0.48, 0.46, 0.58, 0.4, 0.42, 0.44, 0.6, 0.52, 0.52, 0.58, 0.52, 0.5, 0.42, 0.52, 0.5, 0.52, 0.62, 0.58, 0.4, 0.62, 0.62, 0.46, 0.32, 0.5, 0.64, 0.48, 0.56, 0.54, 0.36, 0.54, 0.4, 0.5, 0.62, 0.38, 0.56, 0.48, 0.48, 0.46, 0.42, 0.58, 0.42, 0.6, 0.44, 0.58, 0.48, 0.54, 0.6, 0.5, 0.56, 0.4, 0.52, 0.62, 0.54, 0.44, 0.6, 0.54, 0.46, 0.5, 0.54, 0.48, 0.3, 0.5, 0.62, 0.62, 0.52, 0.34, 0.44, 0.56, 0.58, 0.56, 0.54, 0.44, 0.44, 0.54, 0.56, 0.44, 0.44, 0.5, 0.44, 0.4, 0.48, 0.62, 0.46, 0.48, 0.52, 0.56, 0.46, 0.46, 0.48, 0.48, 0.48, 0.64, 0.44, 0.46, 0.46, 0.54, 0.56, 0.46, 0.5, 0.42, 0.4, 0.54, 0.5, 0.44, 0.52, 0.68, 0.54, 0.52, 0.44, 0.58, 0.48, 0.44, 0.48, 0.44, 0.54, 0.42, 0.54, 0.44, 0.42, 0.48, 0.3, 0.5, 0.46, 0.54, 0.54, 0.66, 0.58, 0.52, 0.48, 0.42, 0.52, 0.58, 0.44, 0.52, 0.54, 0.56, 0.4, 0.44, 0.5, 0.38, 0.5, 0.54, 0.52, 0.6, 0.46, 0.44, 0.4, 0.6, 0.54, 0.5, 0.52, 0.5, 0.48, 0.56, 0.56, 0.52, 0.54, 0.48, 0.5, 0.4, 0.46, 0.38, 0.4, 0.48, 0.46, 0.5, 0.44, 0.52, 0.52, 0.5, 0.48, 0.54, 0.42, 0.48, 0.54, 0.52, 0.44, 0.48, 0.62, 0.48, 0.54, 0.46, 0.54, 0.54, 0.54, 0.48, 0.54, 0.46, 0.4, 0.52, 0.6, 0.5, 0.5, 0.5, 0.46, 0.34, 0.52, 0.5, 0.54, 0.42, 0.54, 0.42, 0.52, 0.48, 0.5, 0.56, 0.54, 0.4, 0.5, 0.44, 0.44, 0.48, 0.52, 0.56, 0.62, 0.4, 0.52, 0.5, 0.48, 0.42, 0.54, 0.46, 0.44, 0.48, 0.48, 0.52, 0.5, 0.54, 0.56, 0.5, 0.44, 0.44, 0.5, 0.42, 0.58, 0.62, 0.48, 0.68, 0.36, 0.46, 0.4, 0.56, 0.52, 0.4, 0.36, 0.44, 0.48, 0.42, 0.48, 0.52, 0.6, 0.42, 0.46, 0.54, 0.62, 0.48, 0.5, 0.5, 0.4, 0.52, 0.44, 0.54, 0.5, 0.56, 0.36, 0.4, 0.52, 0.52, 0.5, 0.54, 0.6, 0.62, 0.46, 0.46, 0.48, 0.44, 0.56, 0.6, 0.38, 0.4, 0.58, 0.46, 0.46, 0.46, 0.54, 0.56, 0.58, 0.38, 0.5, 0.48, 0.46, 0.44, 0.48, 0.52, 0.38, 0.44, 0.44, 0.3, 0.38, 0.52, 0.54, 0.52, 0.52, 0.4, 0.62, 0.56, 0.38, 0.5, 0.48, 0.58, 0.58, 0.46, 0.44, 0.62, 0.28, 0.56, 0.38, 0.38, 0.64, 0.5, 0.44, 0.42, 0.56, 0.52, 0.48, 0.48, 0.58, 0.52, 0.48, 0.5, 0.6, 0.42, 0.62, 0.56, 0.5, 0.54, 0.46, 0.5, 0.58, 0.56, 0.44, 0.66, 0.56, 0.52, 0.66, 0.54, 0.48, 0.58, 0.44, 0.46, 0.56, 0.44, 0.54, 0.44, 0.48, 0.54, 0.54, 0.5, 0.42, 0.58, 0.38, 0.6, 0.44, 0.54, 0.56, 0.48, 0.36, 0.54, 0.5, 0.44, 0.48, 0.5, 0.48, 0.52, 0.76, 0.4, 0.54, 0.52, 0.62, 0.56, 0.54, 0.58, 0.62, 0.5, 0.52, 0.54, 0.56, 0.34, 0.44, 0.58, 0.6, 0.46, 0.58, 0.54, 0.48, 0.5, 0.52, 0.54, 0.62, 0.5, 0.52, 0.38, 0.52, 0.54, 0.46, 0.58, 0.52, 0.54, 0.54, 0.52, 0.6, 0.5, 0.44, 0.48, 0.5, 0.52, 0.56, 0.36, 0.44, 0.44, 0.42, 0.54, 0.6, 0.4, 0.5, 0.4, 0.5, 0.56, 0.46, 0.48, 0.48, 0.58, 0.42, 0.34, 0.44, 0.54, 0.54, 0.58, 0.52, 0.5, 0.54, 0.36, 0.42, 0.52, 0.5, 0.5, 0.56, 0.42, 0.42, 0.44, 0.6, 0.52, 0.44, 0.56, 0.52, 0.5, 0.52, 0.46, 0.52, 0.36, 0.54, 0.52, 0.56, 0.58, 0.56, 0.44, 0.42, 0.52, 0.56, 0.5, 0.6, 0.48, 0.36, 0.48, 0.6, 0.4, 0.48, 0.52, 0.5, 0.44, 0.5, 0.62, 0.4, 0.56, 0.44, 0.48, 0.5, 0.44, 0.5, 0.48, 0.56, 0.62, 0.46, 0.66, 0.62, 0.56, 0.36, 0.58, 0.44, 0.56, 0.32, 0.42, 0.46, 0.42, 0.56, 0.48, 0.58, 0.4, 0.52, 0.52, 0.42, 0.48, 0.5, 0.56, 0.44, 0.46, 0.48, 0.62, 0.46, 0.4, 0.44, 0.48, 0.4, 0.44, 0.3, 0.52, 0.36, 0.52, 0.5, 0.46, 0.5, 0.54, 0.44, 0.5, 0.5, 0.58, 0.48, 0.6, 0.5, 0.6, 0.42, 0.54, 0.5, 0.54, 0.44, 0.56, 0.58, 0.42, 0.5, 0.44, 0.34, 0.54, 0.6, 0.52, 0.5, 0.52, 0.6, 0.58, 0.56, 0.46, 0.48, 0.42, 0.64, 0.54, 0.58, 0.54, 0.48, 0.48, 0.58, 0.46, 0.48, 0.48, 0.5, 0.46, 0.44, 0.52, 0.42, 0.58, 0.46, 0.4, 0.48, 0.5, 0.42, 0.56, 0.56, 0.5, 0.34, 0.46, 0.52, 0.44, 0.44, 0.48, 0.44, 0.48, 0.48, 0.46, 0.6, 0.4, 0.48, 0.46, 0.52, 0.54, 0.52, 0.48, 0.44, 0.52, 0.5, 0.64, 0.56, 0.5, 0.54, 0.54, 0.4, 0.54, 0.36, 0.6, 0.5, 0.5, 0.42, 0.46, 0.62, 0.62, 0.46, 0.62, 0.5, 0.38, 0.56, 0.48, 0.6, 0.4, 0.44, 0.4, 0.56, 0.5, 0.52, 0.44, 0.62, 0.48, 0.6, 0.6, 0.56, 0.5, 0.54, 0.54, 0.42, 0.52, 0.34, 0.54, 0.48, 0.48, 0.58, 0.6, 0.54, 0.38, 0.42, 0.36, 0.46, 0.58, 0.54, 0.38, 0.5, 0.46, 0.38, 0.44, 0.5, 0.46, 0.46, 0.56, 0.54, 0.48, 0.52, 0.48, 0.44, 0.56, 0.32, 0.5, 0.44, 0.6, 0.48, 0.58, 0.56, 0.36, 0.56, 0.4, 0.4, 0.54, 0.52, 0.36, 0.52, 0.42, 0.4, 0.44, 0.44, 0.5, 0.58, 0.58, 0.5, 0.44, 0.56, 0.52, 0.46, 0.52, 0.6, 0.56, 0.44, 0.64, 0.52, 0.42, 0.44, 0.32, 0.52, 0.64, 0.58, 0.38, 0.58, 0.5, 0.42, 0.48, 0.5, 0.4, 0.44, 0.38, 0.5, 0.48, 0.48, 0.48, 0.36, 0.5, 0.5, 0.32, 0.5, 0.52, 0.56, 0.56, 0.54, 0.5, 0.56, 0.4, 0.58, 0.44, 0.56, 0.44, 0.5, 0.64, 0.52, 0.54, 0.58, 0.44, 0.56, 0.46, 0.54, 0.52, 0.44, 0.44, 0.46, 0.58, 0.5, 0.54, 0.54, 0.38, 0.54, 0.48, 0.54, 0.5, 0.44, 0.52, 0.48, 0.56, 0.5, 0.5, 0.34, 0.4, 0.56, 0.58, 0.46, 0.56, 0.44, 0.48, 0.48, 0.5, 0.52, 0.48, 0.64, 0.46, 0.46, 0.46, 0.56, 0.44, 0.4, 0.46, 0.54, 0.48, 0.54, 0.66, 0.42, 0.48, 0.48, 0.6, 0.54, 0.5, 0.48, 0.58, 0.48, 0.44, 0.48, 0.54, 0.54, 0.38, 0.54, 0.52, 0.46, 0.58, 0.54, 0.4, 0.44, 0.5, 0.62, 0.52, 0.52, 0.38, 0.54, 0.58, 0.4, 0.44, 0.54, 0.46, 0.58, 0.4, 0.52, 0.5, 0.52, 0.58, 0.5, 0.52, 0.5, 0.38, 0.46, 0.5, 0.36, 0.44, 0.4, 0.64, 0.54, 0.42, 0.56, 0.52, 0.46, 0.48, 0.5, 0.52, 0.56, 0.58, 0.38, 0.52, 0.58, 0.58, 0.46, 0.56, 0.54, 0.46, 0.58, 0.5, 0.52, 0.5, 0.56, 0.6, 0.52, 0.34, 0.54, 0.48, 0.38, 0.38, 0.6, 0.44, 0.48, 0.5, 0.64, 0.52, 0.6, 0.52, 0.58, 0.56, 0.5, 0.48, 0.5, 0.46, 0.44, 0.5, 0.38, 0.42, 0.46, 0.48, 0.5, 0.48, 0.46, 0.62, 0.44, 0.48, 0.56, 0.46, 0.48, 0.54, 0.44, 0.48, 0.5, 0.44, 0.46, 0.46, 0.44, 0.5, 0.54, 0.68, 0.46, 0.52, 0.6, 0.4, 0.48, 0.5, 0.58, 0.42, 0.44, 0.56, 0.4, 0.46, 0.6, 0.56, 0.52, 0.42, 0.5, 0.48, 0.5, 0.54, 0.48, 0.6, 0.42, 0.48, 0.36, 0.44, 0.54, 0.54, 0.46, 0.54, 0.36, 0.48, 0.4, 0.42, 0.54, 0.42, 0.42, 0.56, 0.6, 0.5, 0.58, 0.46, 0.48, 0.5, 0.6, 0.48, 0.42, 0.54, 0.5, 0.44, 0.48, 0.54, 0.52, 0.48, 0.56, 0.46, 0.42, 0.58, 0.5, 0.52, 0.4, 0.5, 0.58, 0.6, 0.54, 0.42, 0.42, 0.56, 0.48, 0.44, 0.42, 0.46, 0.54, 0.54, 0.46, 0.54, 0.5, 0.4, 0.56, 0.5, 0.42, 0.46, 0.42, 0.44, 0.5, 0.46, 0.54, 0.46, 0.44, 0.44, 0.48, 0.38, 0.48, 0.54, 0.52, 0.46, 0.54, 0.44, 0.38, 0.46, 0.48, 0.44, 0.5, 0.44, 0.56, 0.46, 0.62, 0.42, 0.48, 0.6, 0.46, 0.42, 0.44, 0.56, 0.56, 0.48, 0.58, 0.38, 0.52, 0.48, 0.46, 0.48, 0.54, 0.54, 0.36, 0.56, 0.44, 0.52, 0.58, 0.46, 0.56, 0.5, 0.46, 0.46, 0.46, 0.52, 0.52, 0.5, 0.38, 0.52, 0.54, 0.46, 0.5, 0.52, 0.46, 0.56, 0.56, 0.58, 0.52, 0.5, 0.4, 0.52, 0.48, 0.58, 0.52, 0.5, 0.46, 0.5, 0.48, 0.54, 0.42, 0.46, 0.52, 0.52, 0.48, 0.46, 0.36, 0.4, 0.6, 0.48, 0.56, 0.48, 0.46, 0.52, 0.52, 0.58, 0.56, 0.54, 0.34, 0.5, 0.44, 0.64, 0.48, 0.62, 0.54, 0.54, 0.52, 0.46, 0.5, 0.5, 0.46, 0.48, 0.42, 0.6, 0.7, 0.56, 0.5, 0.56, 0.42, 0.62, 0.46, 0.48, 0.52, 0.6, 0.54, 0.52, 0.6, 0.56, 0.44, 0.44, 0.48, 0.48, 0.52, 0.46, 0.5, 0.54, 0.48, 0.52, 0.32, 0.66, 0.54, 0.42, 0.54, 0.54, 0.38, 0.56, 0.54, 0.64, 0.38, 0.54, 0.52, 0.44, 0.5, 0.46, 0.44, 0.6, 0.58, 0.54, 0.5, 0.4, 0.52, 0.44, 0.36, 0.54, 0.5, 0.66, 0.44, 0.48, 0.66, 0.44, 0.58, 0.38, 0.44, 0.5, 0.6, 0.54, 0.54, 0.56, 0.46, 0.48, 0.42, 0.44, 0.5, 0.46, 0.56, 0.52, 0.4, 0.46, 0.58, 0.68, 0.5, 0.44, 0.54, 0.38, 0.38, 0.52, 0.46, 0.42, 0.56, 0.5, 0.54, 0.5, 0.5, 0.56, 0.6, 0.52, 0.52, 0.54, 0.46, 0.5, 0.48, 0.62, 0.38, 0.5, 0.46, 0.38, 0.56, 0.42, 0.52, 0.62, 0.58, 0.52, 0.34, 0.66, 0.48, 0.52, 0.44, 0.58, 0.6, 0.6, 0.42, 0.5, 0.44, 0.6, 0.54, 0.58, 0.56, 0.54, 0.58, 0.46, 0.44, 0.62, 0.58, 0.52, 0.46, 0.46, 0.56, 0.44, 0.46, 0.52, 0.46, 0.5, 0.4, 0.5, 0.6, 0.32, 0.54, 0.48, 0.64, 0.56, 0.42, 0.54, 0.38, 0.52, 0.4, 0.56, 0.46, 0.42, 0.38, 0.42, 0.52, 0.52, 0.56, 0.54, 0.56, 0.54, 0.4, 0.5, 0.6, 0.5, 0.56, 0.6, 0.58, 0.52, 0.56, 0.42, 0.64, 0.62, 0.38, 0.52, 0.5, 0.6, 0.54, 0.44, 0.52, 0.56, 0.58, 0.5, 0.62, 0.6, 0.52, 0.62, 0.42, 0.38, 0.5, 0.62, 0.36, 0.4, 0.46, 0.48, 0.46, 0.56, 0.48, 0.5, 0.58, 0.62, 0.58, 0.6, 0.42, 0.6, 0.58, 0.6, 0.48, 0.52, 0.68, 0.48, 0.4, 0.44, 0.44, 0.54, 0.34, 0.54, 0.34, 0.48, 0.46, 0.5, 0.5, 0.54, 0.52, 0.46, 0.38, 0.5, 0.42, 0.54, 0.5, 0.42, 0.52, 0.52, 0.4, 0.54, 0.44, 0.44, 0.38, 0.42, 0.6, 0.5, 0.64, 0.42, 0.56, 0.48, 0.56, 0.46, 0.6, 0.52, 0.56, 0.48, 0.48, 0.48, 0.66, 0.56, 0.46, 0.58, 0.48, 0.66, 0.48, 0.5, 0.54, 0.52, 0.5, 0.46, 0.52, 0.58, 0.46, 0.5, 0.4, 0.48, 0.5, 0.54, 0.46, 0.42, 0.52, 0.48, 0.46, 0.56, 0.6, 0.52, 0.5, 0.42, 0.52, 0.42, 0.34, 0.52, 0.34, 0.56, 0.58, 0.48, 0.44, 0.58, 0.62, 0.58, 0.52, 0.58, 0.46, 0.48, 0.5, 0.6, 0.64, 0.48, 0.52, 0.66, 0.54, 0.54, 0.46, 0.5, 0.4, 0.5, 0.56, 0.54, 0.48, 0.44, 0.6, 0.42, 0.44, 0.46, 0.5, 0.48, 0.54, 0.5, 0.5, 0.58, 0.42, 0.5, 0.64, 0.66, 0.56, 0.48, 0.6, 0.44, 0.6, 0.5, 0.52, 0.52, 0.66, 0.56, 0.58, 0.6, 0.56, 0.4, 0.5, 0.52, 0.46, 0.48, 0.44, 0.62, 0.52, 0.46, 0.7, 0.44, 0.54, 0.52, 0.5, 0.48, 0.5, 0.46, 0.46, 0.56, 0.54, 0.54, 0.48, 0.46, 0.6, 0.4, 0.58, 0.6, 0.56, 0.44, 0.42, 0.6, 0.4, 0.5, 0.54, 0.46, 0.5, 0.48, 0.46, 0.48, 0.44, 0.5, 0.44, 0.48, 0.42, 0.42, 0.4, 0.44, 0.62, 0.46, 0.42, 0.48, 0.5, 0.52, 0.54, 0.52, 0.5, 0.62, 0.58, 0.4, 0.52, 0.52, 0.6, 0.58, 0.38, 0.54, 0.52, 0.42, 0.52, 0.54, 0.54, 0.58, 0.38, 0.44, 0.54, 0.56, 0.5, 0.58, 0.44, 0.48, 0.68, 0.46, 0.44, 0.46, 0.42, 0.52, 0.46, 0.48, 0.5, 0.44, 0.5, 0.42, 0.52, 0.5, 0.44, 0.5, 0.62, 0.38, 0.44, 0.52, 0.4, 0.56, 0.44, 0.38, 0.54, 0.56, 0.52, 0.4, 0.5, 0.58, 0.54, 0.4, 0.48, 0.6, 0.46, 0.44, 0.5, 0.38, 0.42, 0.36, 0.54, 0.42, 0.54, 0.54, 0.44, 0.54, 0.5, 0.66, 0.52, 0.54, 0.5, 0.6, 0.48, 0.5, 0.6, 0.46, 0.4, 0.42, 0.48, 0.42, 0.48, 0.42, 0.38, 0.52, 0.68, 0.44, 0.38, 0.5, 0.5, 0.5, 0.68, 0.5, 0.66, 0.48, 0.4, 0.52, 0.52, 0.64, 0.54, 0.5, 0.5, 0.42, 0.46, 0.62, 0.5, 0.5, 0.56, 0.52, 0.52, 0.44, 0.46, 0.4, 0.62, 0.56, 0.62, 0.38, 0.62, 0.5, 0.58, 0.5, 0.38, 0.4, 0.52, 0.5, 0.52, 0.36, 0.46, 0.58, 0.52, 0.48, 0.48, 0.6, 0.54, 0.56, 0.42, 0.46, 0.5, 0.36, 0.46, 0.5, 0.56, 0.5, 0.34, 0.52, 0.6, 0.48, 0.64, 0.6, 0.66, 0.5, 0.62, 0.54, 0.44, 0.42, 0.56, 0.5, 0.54, 0.42, 0.5, 0.5, 0.6, 0.5, 0.62, 0.42, 0.56, 0.56, 0.42, 0.52, 0.52, 0.58, 0.52, 0.56, 0.38, 0.6, 0.5, 0.46, 0.38, 0.5, 0.36, 0.48, 0.4, 0.56, 0.52, 0.48, 0.52, 0.6, 0.38, 0.46, 0.6, 0.5, 0.6, 0.64, 0.52, 0.44, 0.48, 0.46, 0.42, 0.5, 0.4, 0.56, 0.58, 0.56, 0.54, 0.56, 0.4, 0.5, 0.48, 0.6, 0.58, 0.42, 0.54, 0.6, 0.5, 0.38, 0.48, 0.5, 0.44, 0.54, 0.38, 0.54, 0.5, 0.42, 0.58, 0.44, 0.5, 0.46, 0.46, 0.48, 0.52, 0.4, 0.52, 0.62, 0.52, 0.46, 0.4, 0.46, 0.54, 0.56, 0.48, 0.56, 0.46, 0.4, 0.56, 0.64, 0.38, 0.56, 0.42, 0.44, 0.48, 0.52, 0.52, 0.42, 0.56, 0.56, 0.44, 0.42, 0.38, 0.42, 0.36, 0.5, 0.66, 0.4, 0.48, 0.5, 0.36, 0.54, 0.5, 0.58, 0.54, 0.54, 0.48, 0.48, 0.46, 0.52, 0.56, 0.52, 0.56, 0.5, 0.56, 0.42, 0.5, 0.42, 0.6, 0.56, 0.58, 0.54, 0.48, 0.5, 0.56, 0.52, 0.5, 0.42, 0.5, 0.52, 0.44, 0.44, 0.56, 0.46, 0.48, 0.54, 0.48, 0.56, 0.56, 0.44, 0.44, 0.42, 0.62, 0.3, 0.48, 0.34, 0.46, 0.48, 0.44, 0.42, 0.46, 0.46, 0.56, 0.4, 0.32, 0.58, 0.44, 0.56, 0.42, 0.56, 0.44, 0.52, 0.32, 0.46, 0.54, 0.4, 0.48, 0.6, 0.52, 0.48, 0.54, 0.52, 0.58, 0.56, 0.64, 0.56, 0.56, 0.6, 0.52, 0.62, 0.5, 0.46, 0.4, 0.4, 0.56, 0.4, 0.5, 0.44, 0.52, 0.6, 0.42, 0.44, 0.56, 0.54, 0.42, 0.6, 0.56, 0.58, 0.52, 0.4, 0.56, 0.5, 0.48, 0.58, 0.42, 0.48, 0.42, 0.48, 0.48, 0.44, 0.5, 0.56, 0.56, 0.5, 0.46, 0.44, 0.66, 0.46, 0.5, 0.46, 0.48, 0.52, 0.52, 0.4, 0.5, 0.6, 0.52, 0.38, 0.54, 0.38, 0.58, 0.56, 0.54, 0.54, 0.48, 0.38, 0.46, 0.56, 0.34, 0.58, 0.42, 0.48, 0.44, 0.5, 0.56, 0.54, 0.66, 0.42, 0.68, 0.46, 0.56, 0.48, 0.4, 0.48, 0.64, 0.46, 0.26, 0.48, 0.54, 0.58, 0.52, 0.6, 0.44, 0.52, 0.52, 0.44, 0.6, 0.66, 0.52, 0.52, 0.58, 0.42, 0.48, 0.32, 0.5, 0.42, 0.56, 0.62, 0.48, 0.42, 0.6, 0.5, 0.46, 0.44, 0.46, 0.36, 0.42, 0.44, 0.58, 0.64, 0.54, 0.6, 0.5, 0.52, 0.52, 0.38, 0.48, 0.5, 0.4, 0.52, 0.46, 0.38, 0.5, 0.44, 0.44, 0.64, 0.46, 0.58, 0.56, 0.42, 0.52, 0.58, 0.46, 0.58, 0.56, 0.58, 0.56, 0.62, 0.54, 0.56, 0.52, 0.62, 0.54, 0.56, 0.54, 0.54, 0.4, 0.3, 0.4, 0.46, 0.44, 0.38, 0.48, 0.5, 0.5, 0.66, 0.46, 0.56, 0.44, 0.5, 0.54, 0.52, 0.46, 0.58, 0.54, 0.52, 0.58, 0.42, 0.46, 0.52, 0.42, 0.58, 0.58, 0.3, 0.46, 0.62, 0.52, 0.48, 0.56, 0.54, 0.52, 0.52, 0.48, 0.4, 0.54, 0.6, 0.52, 0.38, 0.48, 0.42, 0.42, 0.6, 0.46, 0.54, 0.42, 0.46, 0.56, 0.58, 0.36, 0.56, 0.62, 0.44, 0.62, 0.62, 0.54, 0.46, 0.64, 0.42, 0.46, 0.38, 0.66, 0.46, 0.52, 0.42, 0.42, 0.5, 0.54, 0.44, 0.54, 0.46, 0.54, 0.58, 0.52, 0.54, 0.44, 0.56, 0.58, 0.54, 0.52, 0.52, 0.64, 0.5, 0.54, 0.46, 0.42, 0.48, 0.52, 0.46, 0.46, 0.6, 0.56, 0.38, 0.5, 0.4, 0.4, 0.54, 0.42, 0.52, 0.58, 0.46, 0.44, 0.6, 0.5, 0.58, 0.3, 0.4, 0.36, 0.54, 0.56, 0.44, 0.58, 0.42, 0.36, 0.52, 0.58, 0.5, 0.5, 0.44, 0.5, 0.48, 0.46, 0.54, 0.42, 0.46, 0.5, 0.52, 0.5, 0.48, 0.66, 0.46, 0.32, 0.52, 0.5, 0.48, 0.4, 0.48, 0.4, 0.42, 0.48, 0.6, 0.46, 0.52, 0.62, 0.54, 0.56, 0.34, 0.44, 0.44, 0.44, 0.62, 0.52, 0.54, 0.38, 0.52, 0.46, 0.44, 0.54, 0.54, 0.44, 0.42, 0.48, 0.44, 0.54, 0.48, 0.64, 0.44, 0.62, 0.58, 0.56, 0.62, 0.54, 0.6, 0.4, 0.54, 0.42, 0.46, 0.54, 0.62, 0.36, 0.48, 0.4, 0.6, 0.52, 0.46, 0.38, 0.6, 0.64, 0.46, 0.46, 0.5, 0.38, 0.54, 0.4, 0.42, 0.44, 0.54, 0.44, 0.46, 0.5, 0.68, 0.62, 0.5, 0.54, 0.38, 0.4, 0.5, 0.44, 0.56, 0.42, 0.58, 0.54, 0.52, 0.42, 0.46, 0.56, 0.52, 0.46, 0.38, 0.54, 0.46, 0.38, 0.54, 0.4, 0.44, 0.58, 0.62, 0.64, 0.5, 0.42, 0.6, 0.4, 0.6, 0.48, 0.5, 0.48, 0.36, 0.62, 0.54, 0.5, 0.58, 0.42, 0.46, 0.6, 0.5, 0.62, 0.54, 0.46, 0.52, 0.7, 0.44, 0.38, 0.58, 0.52, 0.64, 0.54, 0.48, 0.52, 0.6, 0.54, 0.46, 0.42, 0.52, 0.4, 0.46, 0.54, 0.5, 0.46, 0.52, 0.5, 0.6, 0.46, 0.44, 0.42, 0.48, 0.44, 0.44, 0.5, 0.48, 0.52, 0.52, 0.5, 0.48, 0.5, 0.46, 0.48, 0.42, 0.58, 0.4, 0.46, 0.42, 0.58, 0.44, 0.6, 0.56, 0.44, 0.56, 0.44, 0.44, 0.42, 0.46, 0.56, 0.48, 0.46, 0.46, 0.46, 0.44, 0.44, 0.46, 0.56, 0.54, 0.52, 0.56, 0.56, 0.46, 0.58, 0.38, 0.56, 0.46, 0.6, 0.5, 0.56, 0.54, 0.5, 0.44, 0.6, 0.58, 0.48, 0.48, 0.52, 0.42, 0.58, 0.5, 0.6, 0.44, 0.6, 0.44, 0.48, 0.56, 0.5, 0.48, 0.52, 0.48, 0.44, 0.36, 0.44, 0.54, 0.68, 0.44, 0.56, 0.48, 0.34, 0.56, 0.52, 0.44, 0.54, 0.42, 0.54, 0.56, 0.54, 0.54, 0.46, 0.6, 0.52, 0.44, 0.46, 0.56, 0.54, 0.52, 0.6, 0.52, 0.58, 0.54, 0.44, 0.56, 0.48, 0.58, 0.62, 0.48, 0.46, 0.5, 0.58, 0.54, 0.52, 0.42, 0.54, 0.5, 0.5, 0.48, 0.62, 0.48, 0.44, 0.44, 0.56, 0.58, 0.6, 0.42, 0.46, 0.6, 0.4, 0.44, 0.58, 0.54, 0.52, 0.58, 0.38, 0.46, 0.58, 0.54, 0.66, 0.56, 0.34, 0.46, 0.46, 0.58, 0.62, 0.52, 0.46, 0.6, 0.5, 0.52, 0.54, 0.44, 0.58, 0.46, 0.48, 0.48, 0.54, 0.48, 0.48, 0.4, 0.5, 0.32, 0.46, 0.52, 0.42, 0.44, 0.44, 0.48, 0.46, 0.54, 0.58, 0.4, 0.68, 0.5, 0.52, 0.5, 0.48, 0.44, 0.52, 0.66, 0.42, 0.4, 0.46, 0.34, 0.54, 0.54, 0.42, 0.46, 0.46, 0.52, 0.46, 0.42, 0.54, 0.42, 0.48, 0.62, 0.5, 0.56, 0.56, 0.38, 0.56, 0.46, 0.48, 0.4, 0.52, 0.54, 0.48, 0.42, 0.32, 0.58, 0.3, 0.46, 0.54, 0.5, 0.58, 0.48, 0.54, 0.58, 0.58, 0.48, 0.54, 0.48, 0.54, 0.44, 0.48, 0.46, 0.56, 0.52, 0.46, 0.48, 0.56, 0.46, 0.58, 0.48, 0.52, 0.54, 0.4, 0.46, 0.68, 0.52, 0.44, 0.44, 0.5, 0.6, 0.6, 0.48, 0.36, 0.54, 0.54, 0.52, 0.48, 0.46, 0.44, 0.3, 0.52, 0.58, 0.44, 0.58, 0.38, 0.52, 0.42, 0.54, 0.46, 0.5, 0.56, 0.56, 0.54, 0.44, 0.46, 0.52, 0.52, 0.46, 0.5, 0.46, 0.48, 0.56, 0.54, 0.44, 0.5, 0.56, 0.38, 0.44, 0.4, 0.5, 0.58, 0.56, 0.5, 0.54, 0.5, 0.58, 0.54, 0.62, 0.56, 0.5, 0.58, 0.48, 0.54, 0.5, 0.5, 0.4, 0.52, 0.4, 0.48, 0.44, 0.44, 0.48, 0.5, 0.48, 0.46, 0.48, 0.46, 0.44, 0.52, 0.48, 0.44, 0.44, 0.62, 0.64, 0.36, 0.56, 0.44, 0.5, 0.36, 0.52, 0.52, 0.4, 0.5, 0.5, 0.58, 0.44, 0.34, 0.44, 0.44, 0.62, 0.46, 0.42, 0.48, 0.46, 0.58, 0.4, 0.56, 0.46, 0.54, 0.38, 0.38, 0.48, 0.46, 0.46, 0.4, 0.46, 0.38, 0.44, 0.5, 0.48, 0.54, 0.46, 0.48, 0.34, 0.6, 0.44, 0.42, 0.5, 0.44, 0.42, 0.5, 0.54, 0.5, 0.6, 0.56, 0.46, 0.44, 0.48, 0.5, 0.54, 0.66, 0.46, 0.4, 0.48, 0.4, 0.6, 0.68, 0.44, 0.6, 0.5, 0.54, 0.48, 0.46, 0.48, 0.4, 0.44, 0.52, 0.66, 0.58, 0.44, 0.54, 0.5, 0.3, 0.52, 0.42, 0.66, 0.46, 0.5, 0.64, 0.56, 0.38, 0.4, 0.5, 0.58, 0.48, 0.48, 0.58, 0.48, 0.48, 0.42, 0.5, 0.52, 0.58, 0.38, 0.52, 0.4, 0.64, 0.48, 0.42, 0.52, 0.54, 0.46, 0.48, 0.38, 0.68, 0.46, 0.44, 0.52, 0.52, 0.44, 0.52]\n"
          ],
          "name": "stdout"
        }
      ]
    },
    {
      "cell_type": "code",
      "metadata": {
        "id": "rfeA06evOT2K",
        "colab_type": "code",
        "outputId": "1507d2f7-bbcf-4bd7-977c-8b13e7b5342b",
        "colab": {
          "base_uri": "https://localhost:8080/",
          "height": 204
        }
      },
      "source": [
        "df = pd.DataFrame({'single_sample': one_sample})\n",
        "df.head()"
      ],
      "execution_count": 4,
      "outputs": [
        {
          "output_type": "execute_result",
          "data": {
            "text/html": [
              "<div>\n",
              "<style scoped>\n",
              "    .dataframe tbody tr th:only-of-type {\n",
              "        vertical-align: middle;\n",
              "    }\n",
              "\n",
              "    .dataframe tbody tr th {\n",
              "        vertical-align: top;\n",
              "    }\n",
              "\n",
              "    .dataframe thead th {\n",
              "        text-align: right;\n",
              "    }\n",
              "</style>\n",
              "<table border=\"1\" class=\"dataframe\">\n",
              "  <thead>\n",
              "    <tr style=\"text-align: right;\">\n",
              "      <th></th>\n",
              "      <th>single_sample</th>\n",
              "    </tr>\n",
              "  </thead>\n",
              "  <tbody>\n",
              "    <tr>\n",
              "      <th>0</th>\n",
              "      <td>0</td>\n",
              "    </tr>\n",
              "    <tr>\n",
              "      <th>1</th>\n",
              "      <td>0</td>\n",
              "    </tr>\n",
              "    <tr>\n",
              "      <th>2</th>\n",
              "      <td>0</td>\n",
              "    </tr>\n",
              "    <tr>\n",
              "      <th>3</th>\n",
              "      <td>1</td>\n",
              "    </tr>\n",
              "    <tr>\n",
              "      <th>4</th>\n",
              "      <td>0</td>\n",
              "    </tr>\n",
              "  </tbody>\n",
              "</table>\n",
              "</div>"
            ],
            "text/plain": [
              "   single_sample\n",
              "0              0\n",
              "1              0\n",
              "2              0\n",
              "3              1\n",
              "4              0"
            ]
          },
          "metadata": {
            "tags": []
          },
          "execution_count": 4
        }
      ]
    },
    {
      "cell_type": "code",
      "metadata": {
        "id": "GlMSNFX6OmBV",
        "colab_type": "code",
        "outputId": "1b31c58e-3714-41ee-93eb-96ac4e866eaa",
        "colab": {
          "base_uri": "https://localhost:8080/",
          "height": 269
        }
      },
      "source": [
        "df.single_sample.hist();"
      ],
      "execution_count": 5,
      "outputs": [
        {
          "output_type": "display_data",
          "data": {
            "image/png": "[encoded data removed]",
            "text/plain": [
              "<Figure size 432x288 with 1 Axes>"
            ]
          },
          "metadata": {
            "tags": []
          }
        }
      ]
    },
    {
      "cell_type": "code",
      "metadata": {
        "id": "Jie4ypgLOs5M",
        "colab_type": "code",
        "outputId": "60fd3dd7-c38b-4279-808c-7c11d84cfd75",
        "colab": {
          "base_uri": "https://localhost:8080/",
          "height": 296
        }
      },
      "source": [
        "ax = plt.hist(sample_means, bins=26)\n",
        "plt.title('Distribution of 3000 sample means \\n (of 12 coinflips each)');"
      ],
      "execution_count": 22,
      "outputs": [
        {
          "output_type": "display_data",
          "data": {
            "image/png": "[encoded data removed]",
            "text/plain": [
              "<Figure size 432x288 with 1 Axes>"
            ]
          },
          "metadata": {
            "tags": []
          }
        }
      ]
    },
    {
      "cell_type": "markdown",
      "metadata": {
        "id": "LsEAjc4rOylm",
        "colab_type": "text"
      },
      "source": [
        "What does the Central Limit Theorem State? That no matter the initial distribution of the population, the distribution of sample means taken will approximate a normal distribution as $n \\rightarrow \\infty$.\n",
        "\n",
        "This has very important implications for hypothesis testing and is precisely the reason why the t-distribution begins to approximate the normal distribution as our sample size increases. "
      ]
    },
    {
      "cell_type": "code",
      "metadata": {
        "id": "F15l-J788ApQ",
        "colab_type": "code",
        "outputId": "221e7671-47e4-4394-8c25-45c8f231ccf4",
        "colab": {
          "base_uri": "https://localhost:8080/",
          "height": 71
        }
      },
      "source": [
        "sample_means_small = []\n",
        "sample_means_large = []\n",
        "for x in range(0,3000):\n",
        "  coinflips_small = np.random.binomial(n=1, p=.5, size=20)\n",
        "  coinflips_large = np.random.binomial(n=1, p=.5, size=100)\n",
        "  one_small_sample = coinflips_small\n",
        "  one_small_large = coinflips_large\n",
        "  sample_means_small.append(coinflips_small.mean())\n",
        "  sample_means_large.append(coinflips_large.mean())\n",
        "\n",
        "print(len(sample_means_small))\n",
        "print(sample_means_small)"
      ],
      "execution_count": 13,
      "outputs": [
        {
          "output_type": "stream",
          "text": [
            "3000\n",
            "[0.4, 0.45, 0.4, 0.35, 0.4, 0.5, 0.4, 0.65, 0.3, 0.65, 0.45, 0.65, 0.6, 0.4, 0.5, 0.55, 0.2, 0.3, 0.45, 0.3, 0.55, 0.5, 0.55, 0.45, 0.6, 0.4, 0.45, 0.4, 0.4, 0.55, 0.6, 0.6, 0.5, 0.3, 0.5, 0.35, 0.6, 0.5, 0.55, 0.65, 0.6, 0.5, 0.3, 0.55, 0.55, 0.7, 0.35, 0.45, 0.3, 0.6, 0.45, 0.55, 0.5, 0.55, 0.65, 0.75, 0.45, 0.4, 0.45, 0.4, 0.45, 0.4, 0.4, 0.45, 0.55, 0.45, 0.55, 0.65, 0.7, 0.35, 0.6, 0.5, 0.5, 0.5, 0.55, 0.45, 0.45, 0.55, 0.35, 0.5, 0.65, 0.55, 0.75, 0.2, 0.65, 0.65, 0.5, 0.7, 0.4, 0.4, 0.55, 0.45, 0.55, 0.45, 0.4, 0.4, 0.45, 0.45, 0.7, 0.4, 0.5, 0.6, 0.4, 0.55, 0.25, 0.55, 0.45, 0.55, 0.5, 0.35, 0.6, 0.5, 0.35, 0.4, 0.45, 0.65, 0.45, 0.55, 0.45, 0.4, 0.55, 0.35, 0.65, 0.35, 0.55, 0.45, 0.5, 0.45, 0.45, 0.65, 0.4, 0.6, 0.45, 0.7, 0.55, 0.6, 0.55, 0.5, 0.45, 0.5, 0.5, 0.65, 0.55, 0.5, 0.65, 0.4, 0.45, 0.5, 0.65, 0.5, 0.4, 0.65, 0.6, 0.55, 0.4, 0.55, 0.6, 0.55, 0.6, 0.55, 0.65, 0.55, 0.55, 0.45, 0.45, 0.45, 0.35, 0.4, 0.65, 0.65, 0.6, 0.55, 0.55, 0.55, 0.75, 0.5, 0.5, 0.45, 0.55, 0.45, 0.7, 0.5, 0.65, 0.55, 0.35, 0.65, 0.25, 0.45, 0.5, 0.4, 0.3, 0.55, 0.55, 0.35, 0.35, 0.5, 0.55, 0.6, 0.4, 0.35, 0.45, 0.65, 0.35, 0.6, 0.45, 0.35, 0.45, 0.7, 0.35, 0.7, 0.4, 0.5, 0.7, 0.6, 0.5, 0.5, 0.7, 0.55, 0.55, 0.8, 0.45, 0.3, 0.45, 0.6, 0.45, 0.75, 0.65, 0.5, 0.55, 0.4, 0.6, 0.45, 0.35, 0.65, 0.35, 0.55, 0.5, 0.6, 0.45, 0.5, 0.5, 0.6, 0.4, 0.6, 0.35, 0.55, 0.55, 0.6, 0.5, 0.5, 0.5, 0.5, 0.65, 0.65, 0.5, 0.6, 0.45, 0.45, 0.4, 0.7, 0.5, 0.4, 0.55, 0.5, 0.6, 0.45, 0.45, 0.6, 0.7, 0.6, 0.5, 0.35, 0.7, 0.65, 0.4, 0.5, 0.6, 0.4, 0.3, 0.5, 0.5, 0.55, 0.55, 0.65, 0.7, 0.4, 0.65, 0.6, 0.4, 0.45, 0.55, 0.45, 0.45, 0.65, 0.6, 0.65, 0.55, 0.45, 0.4, 0.65, 0.5, 0.6, 0.55, 0.5, 0.25, 0.6, 0.45, 0.5, 0.4, 0.65, 0.5, 0.5, 0.55, 0.45, 0.45, 0.7, 0.3, 0.4, 0.5, 0.45, 0.85, 0.55, 0.55, 0.65, 0.25, 0.55, 0.4, 0.6, 0.5, 0.6, 0.55, 0.45, 0.5, 0.5, 0.55, 0.6, 0.5, 0.5, 0.55, 0.4, 0.4, 0.7, 0.45, 0.55, 0.6, 0.3, 0.55, 0.5, 0.55, 0.4, 0.6, 0.5, 0.75, 0.5, 0.5, 0.55, 0.55, 0.45, 0.45, 0.45, 0.6, 0.4, 0.4, 0.65, 0.4, 0.5, 0.55, 0.3, 0.25, 0.35, 0.55, 0.45, 0.25, 0.55, 0.6, 0.5, 0.7, 0.3, 0.5, 0.5, 0.45, 0.5, 0.6, 0.45, 0.45, 0.35, 0.75, 0.45, 0.4, 0.6, 0.5, 0.6, 0.4, 0.75, 0.6, 0.55, 0.45, 0.45, 0.4, 0.5, 0.35, 0.45, 0.6, 0.65, 0.5, 0.4, 0.65, 0.55, 0.45, 0.6, 0.4, 0.4, 0.25, 0.55, 0.4, 0.55, 0.35, 0.35, 0.5, 0.4, 0.6, 0.3, 0.55, 0.55, 0.6, 0.35, 0.65, 0.5, 0.35, 0.25, 0.55, 0.6, 0.5, 0.35, 0.55, 0.4, 0.5, 0.65, 0.5, 0.6, 0.55, 0.35, 0.45, 0.6, 0.35, 0.55, 0.5, 0.65, 0.45, 0.45, 0.4, 0.45, 0.55, 0.45, 0.45, 0.55, 0.65, 0.5, 0.65, 0.35, 0.65, 0.7, 0.5, 0.4, 0.45, 0.4, 0.45, 0.45, 0.45, 0.35, 0.5, 0.45, 0.6, 0.6, 0.5, 0.55, 0.3, 0.5, 0.4, 0.4, 0.35, 0.5, 0.45, 0.45, 0.5, 0.6, 0.3, 0.45, 0.7, 0.3, 0.55, 0.45, 0.5, 0.3, 0.45, 0.5, 0.7, 0.6, 0.4, 0.5, 0.4, 0.5, 0.55, 0.6, 0.55, 0.75, 0.55, 0.55, 0.6, 0.35, 0.2, 0.45, 0.45, 0.3, 0.5, 0.35, 0.5, 0.5, 0.35, 0.45, 0.35, 0.3, 0.55, 0.5, 0.6, 0.5, 0.4, 0.55, 0.45, 0.45, 0.35, 0.35, 0.35, 0.55, 0.4, 0.4, 0.45, 0.35, 0.6, 0.2, 0.6, 0.5, 0.5, 0.4, 0.55, 0.55, 0.55, 0.55, 0.8, 0.6, 0.5, 0.6, 0.55, 0.45, 0.45, 0.65, 0.4, 0.5, 0.6, 0.4, 0.35, 0.65, 0.55, 0.35, 0.55, 0.35, 0.6, 0.5, 0.55, 0.55, 0.7, 0.35, 0.45, 0.45, 0.6, 0.45, 0.45, 0.65, 0.45, 0.5, 0.4, 0.65, 0.35, 0.5, 0.5, 0.5, 0.5, 0.5, 0.5, 0.55, 0.55, 0.4, 0.55, 0.3, 0.35, 0.6, 0.4, 0.6, 0.5, 0.6, 0.6, 0.35, 0.4, 0.35, 0.6, 0.4, 0.6, 0.5, 0.6, 0.45, 0.6, 0.7, 0.5, 0.55, 0.55, 0.35, 0.5, 0.6, 0.45, 0.45, 0.3, 0.5, 0.6, 0.35, 0.55, 0.6, 0.55, 0.3, 0.75, 0.55, 0.55, 0.55, 0.35, 0.5, 0.55, 0.55, 0.5, 0.55, 0.4, 0.3, 0.65, 0.5, 0.6, 0.5, 0.5, 0.45, 0.6, 0.35, 0.35, 0.6, 0.4, 0.5, 0.4, 0.55, 0.4, 0.4, 0.55, 0.5, 0.4, 0.55, 0.45, 0.35, 0.3, 0.55, 0.55, 0.45, 0.55, 0.45, 0.55, 0.35, 0.6, 0.5, 0.4, 0.5, 0.65, 0.6, 0.5, 0.7, 0.4, 0.4, 0.55, 0.65, 0.5, 0.55, 0.55, 0.45, 0.5, 0.4, 0.4, 0.6, 0.4, 0.65, 0.5, 0.35, 0.55, 0.7, 0.25, 0.45, 0.35, 0.75, 0.45, 0.45, 0.45, 0.35, 0.55, 0.4, 0.45, 0.6, 0.25, 0.45, 0.55, 0.5, 0.65, 0.5, 0.65, 0.7, 0.5, 0.5, 0.5, 0.4, 0.5, 0.35, 0.5, 0.6, 0.6, 0.3, 0.55, 0.45, 0.55, 0.4, 0.3, 0.45, 0.55, 0.55, 0.4, 0.45, 0.5, 0.25, 0.5, 0.5, 0.55, 0.6, 0.6, 0.45, 0.5, 0.4, 0.75, 0.45, 0.35, 0.65, 0.65, 0.45, 0.55, 0.6, 0.6, 0.45, 0.55, 0.6, 0.7, 0.35, 0.45, 0.4, 0.6, 0.45, 0.5, 0.65, 0.5, 0.5, 0.6, 0.7, 0.45, 0.45, 0.55, 0.35, 0.5, 0.6, 0.55, 0.5, 0.5, 0.65, 0.45, 0.5, 0.6, 0.35, 0.5, 0.45, 0.5, 0.5, 0.35, 0.3, 0.65, 0.55, 0.6, 0.45, 0.6, 0.4, 0.55, 0.6, 0.35, 0.6, 0.55, 0.45, 0.5, 0.45, 0.4, 0.45, 0.2, 0.65, 0.45, 0.55, 0.6, 0.55, 0.6, 0.4, 0.45, 0.5, 0.5, 0.75, 0.45, 0.45, 0.6, 0.5, 0.4, 0.55, 0.45, 0.6, 0.6, 0.6, 0.7, 0.3, 0.45, 0.45, 0.6, 0.35, 0.5, 0.4, 0.35, 0.5, 0.7, 0.55, 0.45, 0.45, 0.4, 0.5, 0.45, 0.45, 0.45, 0.3, 0.65, 0.65, 0.45, 0.65, 0.45, 0.45, 0.4, 0.55, 0.45, 0.75, 0.6, 0.5, 0.6, 0.5, 0.6, 0.45, 0.45, 0.4, 0.25, 0.7, 0.55, 0.5, 0.3, 0.4, 0.3, 0.7, 0.55, 0.35, 0.7, 0.4, 0.45, 0.45, 0.7, 0.6, 0.65, 0.55, 0.65, 0.35, 0.6, 0.45, 0.65, 0.4, 0.4, 0.4, 0.55, 0.65, 0.35, 0.4, 0.45, 0.6, 0.45, 0.6, 0.45, 0.65, 0.7, 0.5, 0.7, 0.4, 0.55, 0.6, 0.45, 0.6, 0.75, 0.4, 0.45, 0.5, 0.65, 0.45, 0.7, 0.35, 0.55, 0.5, 0.4, 0.35, 0.5, 0.55, 0.4, 0.45, 0.7, 0.65, 0.6, 0.6, 0.65, 0.6, 0.6, 0.65, 0.5, 0.45, 0.45, 0.55, 0.35, 0.55, 0.35, 0.4, 0.55, 0.5, 0.4, 0.4, 0.35, 0.35, 0.5, 0.55, 0.5, 0.45, 0.45, 0.55, 0.55, 0.5, 0.5, 0.5, 0.65, 0.75, 0.55, 0.5, 0.5, 0.35, 0.55, 0.25, 0.4, 0.65, 0.45, 0.55, 0.75, 0.7, 0.55, 0.5, 0.6, 0.4, 0.55, 0.4, 0.3, 0.6, 0.45, 0.4, 0.45, 0.6, 0.45, 0.45, 0.3, 0.7, 0.5, 0.6, 0.7, 0.45, 0.45, 0.5, 0.4, 0.4, 0.3, 0.7, 0.3, 0.3, 0.4, 0.4, 0.4, 0.45, 0.5, 0.75, 0.55, 0.45, 0.35, 0.5, 0.45, 0.7, 0.3, 0.55, 0.65, 0.65, 0.5, 0.6, 0.4, 0.6, 0.5, 0.5, 0.6, 0.45, 0.55, 0.45, 0.4, 0.55, 0.35, 0.5, 0.55, 0.6, 0.5, 0.6, 0.35, 0.35, 0.4, 0.25, 0.45, 0.55, 0.7, 0.45, 0.35, 0.55, 0.45, 0.4, 0.35, 0.5, 0.5, 0.55, 0.55, 0.35, 0.35, 0.6, 0.3, 0.45, 0.65, 0.7, 0.4, 0.45, 0.5, 0.5, 0.5, 0.65, 0.5, 0.35, 0.45, 0.4, 0.45, 0.45, 0.5, 0.55, 0.55, 0.4, 0.6, 0.55, 0.65, 0.55, 0.45, 0.55, 0.45, 0.6, 0.6, 0.35, 0.4, 0.35, 0.4, 0.65, 0.65, 0.5, 0.6, 0.5, 0.55, 0.45, 0.5, 0.65, 0.75, 0.5, 0.55, 0.35, 0.4, 0.5, 0.5, 0.65, 0.5, 0.55, 0.55, 0.55, 0.5, 0.5, 0.75, 0.4, 0.6, 0.65, 0.65, 0.45, 0.45, 0.6, 0.25, 0.45, 0.5, 0.4, 0.55, 0.45, 0.5, 0.5, 0.65, 0.55, 0.75, 0.45, 0.35, 0.5, 0.45, 0.45, 0.45, 0.4, 0.45, 0.55, 0.55, 0.55, 0.5, 0.4, 0.3, 0.45, 0.65, 0.6, 0.6, 0.35, 0.65, 0.45, 0.6, 0.4, 0.55, 0.35, 0.45, 0.5, 0.45, 0.4, 0.4, 0.45, 0.45, 0.6, 0.55, 0.35, 0.65, 0.45, 0.4, 0.5, 0.7, 0.6, 0.55, 0.5, 0.4, 0.5, 0.4, 0.6, 0.55, 0.45, 0.35, 0.65, 0.7, 0.5, 0.5, 0.25, 0.4, 0.6, 0.5, 0.65, 0.4, 0.45, 0.65, 0.5, 0.45, 0.55, 0.5, 0.55, 0.45, 0.5, 0.45, 0.45, 0.55, 0.35, 0.4, 0.35, 0.65, 0.45, 0.6, 0.6, 0.55, 0.65, 0.5, 0.3, 0.65, 0.7, 0.4, 0.5, 0.35, 0.55, 0.55, 0.35, 0.5, 0.55, 0.6, 0.25, 0.35, 0.6, 0.5, 0.45, 0.45, 0.45, 0.55, 0.3, 0.45, 0.35, 0.45, 0.5, 0.55, 0.4, 0.45, 0.45, 0.6, 0.45, 0.55, 0.75, 0.45, 0.4, 0.35, 0.35, 0.45, 0.65, 0.4, 0.65, 0.55, 0.45, 0.5, 0.5, 0.5, 0.5, 0.5, 0.45, 0.35, 0.55, 0.25, 0.55, 0.45, 0.65, 0.45, 0.55, 0.55, 0.65, 0.45, 0.6, 0.5, 0.4, 0.6, 0.4, 0.65, 0.55, 0.6, 0.5, 0.65, 0.45, 0.45, 0.25, 0.4, 0.6, 0.6, 0.5, 0.5, 0.35, 0.65, 0.55, 0.6, 0.45, 0.55, 0.5, 0.65, 0.6, 0.6, 0.5, 0.4, 0.45, 0.45, 0.3, 0.5, 0.45, 0.55, 0.65, 0.55, 0.55, 0.3, 0.6, 0.6, 0.6, 0.4, 0.4, 0.4, 0.4, 0.55, 0.35, 0.45, 0.45, 0.25, 0.45, 0.45, 0.7, 0.4, 0.5, 0.45, 0.6, 0.4, 0.55, 0.4, 0.55, 0.45, 0.4, 0.5, 0.25, 0.45, 0.55, 0.55, 0.35, 0.45, 0.75, 0.45, 0.35, 0.85, 0.65, 0.4, 0.35, 0.6, 0.3, 0.4, 0.55, 0.55, 0.45, 0.45, 0.6, 0.45, 0.5, 0.45, 0.35, 0.55, 0.65, 0.45, 0.65, 0.35, 0.5, 0.55, 0.4, 0.6, 0.45, 0.65, 0.45, 0.55, 0.55, 0.5, 0.35, 0.5, 0.45, 0.3, 0.4, 0.6, 0.55, 0.35, 0.65, 0.5, 0.45, 0.6, 0.35, 0.6, 0.4, 0.65, 0.3, 0.65, 0.5, 0.5, 0.7, 0.45, 0.4, 0.45, 0.6, 0.5, 0.7, 0.45, 0.45, 0.6, 0.5, 0.65, 0.55, 0.35, 0.7, 0.45, 0.6, 0.45, 0.65, 0.35, 0.55, 0.45, 0.5, 0.45, 0.35, 0.6, 0.4, 0.4, 0.5, 0.45, 0.35, 0.4, 0.4, 0.5, 0.4, 0.55, 0.4, 0.45, 0.5, 0.35, 0.6, 0.35, 0.7, 0.55, 0.45, 0.45, 0.5, 0.45, 0.7, 0.45, 0.6, 0.5, 0.45, 0.4, 0.45, 0.65, 0.45, 0.4, 0.45, 0.6, 0.6, 0.35, 0.45, 0.4, 0.45, 0.75, 0.25, 0.6, 0.5, 0.75, 0.4, 0.25, 0.35, 0.5, 0.65, 0.45, 0.45, 0.5, 0.45, 0.4, 0.35, 0.5, 0.45, 0.55, 0.65, 0.5, 0.6, 0.45, 0.5, 0.5, 0.55, 0.6, 0.45, 0.5, 0.4, 0.35, 0.4, 0.45, 0.4, 0.55, 0.5, 0.25, 0.55, 0.55, 0.45, 0.35, 0.55, 0.55, 0.6, 0.5, 0.5, 0.5, 0.45, 0.55, 0.55, 0.65, 0.55, 0.65, 0.55, 0.6, 0.45, 0.65, 0.5, 0.55, 0.55, 0.4, 0.5, 0.5, 0.45, 0.45, 0.55, 0.6, 0.5, 0.5, 0.5, 0.55, 0.4, 0.6, 0.45, 0.4, 0.4, 0.3, 0.5, 0.45, 0.55, 0.5, 0.55, 0.6, 0.5, 0.6, 0.45, 0.5, 0.5, 0.45, 0.35, 0.45, 0.4, 0.45, 0.35, 0.35, 0.65, 0.35, 0.35, 0.4, 0.55, 0.4, 0.35, 0.3, 0.75, 0.6, 0.6, 0.25, 0.55, 0.4, 0.5, 0.5, 0.4, 0.45, 0.35, 0.6, 0.4, 0.45, 0.3, 0.55, 0.55, 0.35, 0.45, 0.6, 0.65, 0.55, 0.55, 0.35, 0.4, 0.6, 0.5, 0.45, 0.4, 0.65, 0.55, 0.45, 0.5, 0.45, 0.45, 0.45, 0.4, 0.45, 0.55, 0.45, 0.6, 0.75, 0.25, 0.25, 0.4, 0.35, 0.5, 0.3, 0.45, 0.4, 0.45, 0.6, 0.45, 0.7, 0.35, 0.45, 0.25, 0.55, 0.55, 0.55, 0.55, 0.45, 0.4, 0.6, 0.55, 0.3, 0.45, 0.45, 0.75, 0.65, 0.55, 0.55, 0.45, 0.3, 0.45, 0.3, 0.6, 0.7, 0.55, 0.6, 0.45, 0.65, 0.5, 0.4, 0.6, 0.4, 0.4, 0.6, 0.35, 0.65, 0.45, 0.5, 0.5, 0.5, 0.4, 0.55, 0.65, 0.65, 0.45, 0.35, 0.7, 0.45, 0.4, 0.45, 0.45, 0.35, 0.4, 0.45, 0.65, 0.65, 0.45, 0.55, 0.55, 0.6, 0.5, 0.45, 0.35, 0.4, 0.6, 0.55, 0.4, 0.45, 0.5, 0.65, 0.5, 0.55, 0.35, 0.45, 0.65, 0.6, 0.3, 0.45, 0.6, 0.45, 0.55, 0.45, 0.55, 0.4, 0.45, 0.5, 0.5, 0.55, 0.4, 0.3, 0.35, 0.5, 0.5, 0.4, 0.35, 0.25, 0.45, 0.7, 0.55, 0.55, 0.6, 0.6, 0.45, 0.35, 0.45, 0.55, 0.6, 0.4, 0.5, 0.25, 0.3, 0.65, 0.5, 0.35, 0.4, 0.35, 0.65, 0.4, 0.45, 0.4, 0.35, 0.5, 0.35, 0.45, 0.35, 0.5, 0.5, 0.6, 0.55, 0.55, 0.5, 0.35, 0.55, 0.5, 0.55, 0.6, 0.55, 0.55, 0.6, 0.5, 0.45, 0.5, 0.6, 0.65, 0.6, 0.55, 0.7, 0.55, 0.6, 0.55, 0.5, 0.3, 0.55, 0.45, 0.65, 0.3, 0.55, 0.4, 0.4, 0.45, 0.5, 0.65, 0.45, 0.55, 0.4, 0.4, 0.65, 0.55, 0.55, 0.35, 0.55, 0.3, 0.5, 0.6, 0.45, 0.3, 0.5, 0.6, 0.45, 0.4, 0.7, 0.55, 0.45, 0.6, 0.55, 0.6, 0.5, 0.4, 0.45, 0.6, 0.55, 0.3, 0.55, 0.5, 0.65, 0.6, 0.65, 0.3, 0.5, 0.45, 0.5, 0.3, 0.5, 0.5, 0.65, 0.55, 0.45, 0.4, 0.45, 0.5, 0.55, 0.4, 0.35, 0.55, 0.6, 0.5, 0.45, 0.65, 0.5, 0.7, 0.45, 0.4, 0.35, 0.65, 0.35, 0.55, 0.35, 0.6, 0.5, 0.5, 0.5, 0.4, 0.55, 0.5, 0.35, 0.75, 0.5, 0.3, 0.45, 0.5, 0.65, 0.2, 0.45, 0.3, 0.4, 0.45, 0.55, 0.4, 0.55, 0.4, 0.35, 0.55, 0.55, 0.6, 0.35, 0.65, 0.55, 0.4, 0.65, 0.45, 0.4, 0.6, 0.4, 0.35, 0.5, 0.4, 0.55, 0.65, 0.55, 0.65, 0.5, 0.55, 0.6, 0.25, 0.5, 0.5, 0.6, 0.4, 0.6, 0.55, 0.5, 0.65, 0.7, 0.4, 0.35, 0.5, 0.8, 0.4, 0.5, 0.25, 0.4, 0.4, 0.6, 0.4, 0.5, 0.45, 0.4, 0.35, 0.6, 0.6, 0.4, 0.5, 0.45, 0.45, 0.55, 0.5, 0.55, 0.8, 0.55, 0.4, 0.45, 0.25, 0.55, 0.45, 0.45, 0.45, 0.35, 0.5, 0.5, 0.4, 0.45, 0.6, 0.45, 0.3, 0.65, 0.6, 0.4, 0.35, 0.5, 0.6, 0.5, 0.3, 0.35, 0.4, 0.35, 0.55, 0.5, 0.6, 0.6, 0.3, 0.5, 0.55, 0.4, 0.6, 0.6, 0.5, 0.6, 0.45, 0.4, 0.6, 0.5, 0.45, 0.1, 0.6, 0.6, 0.5, 0.5, 0.3, 0.5, 0.45, 0.55, 0.4, 0.5, 0.45, 0.4, 0.55, 0.6, 0.3, 0.6, 0.55, 0.45, 0.55, 0.35, 0.6, 0.55, 0.65, 0.45, 0.75, 0.55, 0.6, 0.45, 0.45, 0.55, 0.4, 0.4, 0.5, 0.55, 0.9, 0.8, 0.4, 0.35, 0.4, 0.25, 0.5, 0.6, 0.45, 0.65, 0.5, 0.4, 0.5, 0.5, 0.5, 0.6, 0.7, 0.5, 0.45, 0.5, 0.4, 0.45, 0.45, 0.5, 0.45, 0.45, 0.5, 0.3, 0.35, 0.45, 0.5, 0.6, 0.55, 0.6, 0.55, 0.45, 0.45, 0.45, 0.7, 0.35, 0.55, 0.6, 0.4, 0.7, 0.45, 0.7, 0.4, 0.5, 0.25, 0.75, 0.6, 0.8, 0.3, 0.45, 0.3, 0.45, 0.55, 0.5, 0.5, 0.65, 0.4, 0.65, 0.6, 0.3, 0.55, 0.55, 0.35, 0.45, 0.45, 0.4, 0.6, 0.7, 0.45, 0.7, 0.55, 0.5, 0.35, 0.7, 0.45, 0.5, 0.7, 0.5, 0.5, 0.45, 0.35, 0.45, 0.4, 0.5, 0.7, 0.4, 0.65, 0.6, 0.55, 0.45, 0.55, 0.5, 0.6, 0.6, 0.55, 0.65, 0.55, 0.65, 0.4, 0.2, 0.35, 0.55, 0.5, 0.4, 0.7, 0.6, 0.6, 0.45, 0.35, 0.5, 0.25, 0.5, 0.6, 0.65, 0.6, 0.35, 0.65, 0.5, 0.5, 0.35, 0.45, 0.5, 0.6, 0.65, 0.5, 0.45, 0.6, 0.6, 0.35, 0.45, 0.65, 0.5, 0.45, 0.55, 0.45, 0.45, 0.45, 0.45, 0.35, 0.6, 0.45, 0.65, 0.35, 0.5, 0.3, 0.6, 0.75, 0.45, 0.55, 0.5, 0.5, 0.5, 0.55, 0.65, 0.5, 0.5, 0.6, 0.55, 0.55, 0.6, 0.4, 0.6, 0.45, 0.55, 0.3, 0.35, 0.5, 0.5, 0.5, 0.5, 0.55, 0.6, 0.3, 0.45, 0.35, 0.55, 0.5, 0.4, 0.15, 0.45, 0.5, 0.35, 0.7, 0.45, 0.2, 0.5, 0.5, 0.55, 0.55, 0.4, 0.55, 0.65, 0.45, 0.6, 0.6, 0.65, 0.45, 0.5, 0.5, 0.6, 0.4, 0.55, 0.5, 0.35, 0.45, 0.35, 0.8, 0.45, 0.35, 0.8, 0.7, 0.5, 0.7, 0.6, 0.65, 0.65, 0.6, 0.35, 0.55, 0.35, 0.75, 0.5, 0.65, 0.55, 0.4, 0.6, 0.7, 0.5, 0.8, 0.35, 0.5, 0.65, 0.5, 0.45, 0.5, 0.35, 0.55, 0.6, 0.45, 0.5, 0.55, 0.6, 0.6, 0.5, 0.4, 0.4, 0.55, 0.55, 0.55, 0.5, 0.75, 0.4, 0.65, 0.6, 0.45, 0.5, 0.4, 0.45, 0.4, 0.55, 0.6, 0.6, 0.35, 0.55, 0.45, 0.3, 0.5, 0.3, 0.4, 0.55, 0.6, 0.55, 0.55, 0.65, 0.6, 0.5, 0.5, 0.6, 0.25, 0.35, 0.4, 0.35, 0.7, 0.4, 0.65, 0.4, 0.55, 0.45, 0.35, 0.4, 0.35, 0.7, 0.6, 0.3, 0.4, 0.45, 0.55, 0.4, 0.3, 0.6, 0.65, 0.55, 0.55, 0.45, 0.5, 0.65, 0.5, 0.45, 0.7, 0.55, 0.35, 0.5, 0.4, 0.45, 0.55, 0.25, 0.55, 0.25, 0.45, 0.45, 0.3, 0.4, 0.3, 0.35, 0.55, 0.4, 0.35, 0.6, 0.35, 0.55, 0.45, 0.3, 0.5, 0.55, 0.55, 0.75, 0.3, 0.5, 0.65, 0.5, 0.5, 0.4, 0.45, 0.4, 0.4, 0.5, 0.5, 0.25, 0.4, 0.45, 0.55, 0.65, 0.6, 0.45, 0.55, 0.55, 0.45, 0.5, 0.45, 0.7, 0.55, 0.5, 0.5, 0.55, 0.45, 0.55, 0.45, 0.7, 0.6, 0.55, 0.55, 0.6, 0.5, 0.4, 0.6, 0.5, 0.6, 0.4, 0.55, 0.6, 0.7, 0.6, 0.25, 0.5, 0.35, 0.6, 0.35, 0.55, 0.55, 0.5, 0.45, 0.55, 0.6, 0.35, 0.6, 0.55, 0.55, 0.4, 0.5, 0.7, 0.55, 0.2, 0.35, 0.7, 0.55, 0.4, 0.4, 0.7, 0.35, 0.5, 0.55, 0.3, 0.35, 0.4, 0.45, 0.45, 0.6, 0.5, 0.4, 0.4, 0.5, 0.3, 0.55, 0.55, 0.4, 0.45, 0.6, 0.45, 0.4, 0.35, 0.55, 0.45, 0.55, 0.45, 0.3, 0.3, 0.35, 0.35, 0.55, 0.45, 0.5, 0.45, 0.65, 0.65, 0.55, 0.5, 0.65, 0.55, 0.5, 0.4, 0.5, 0.55, 0.55, 0.45, 0.45, 0.6, 0.45, 0.45, 0.45, 0.5, 0.55, 0.45, 0.65, 0.55, 0.45, 0.55, 0.45, 0.55, 0.45, 0.4, 0.65, 0.35, 0.55, 0.6, 0.65, 0.6, 0.7, 0.55, 0.35, 0.6, 0.3, 0.5, 0.35, 0.45, 0.5, 0.35, 0.5, 0.55, 0.55, 0.35, 0.65, 0.55, 0.45, 0.4, 0.65, 0.7, 0.55, 0.45, 0.6, 0.35, 0.4, 0.35, 0.5, 0.55, 0.75, 0.6, 0.65, 0.55, 0.5, 0.35, 0.35, 0.5, 0.55, 0.6, 0.7, 0.55, 0.5, 0.6, 0.8, 0.65, 0.5, 0.5, 0.65, 0.5, 0.6, 0.5, 0.45, 0.55, 0.55, 0.55, 0.4, 0.35, 0.4, 0.5, 0.65, 0.4, 0.5, 0.65, 0.6, 0.55, 0.5, 0.4, 0.5, 0.45, 0.55, 0.4, 0.45, 0.6, 0.65, 0.5, 0.5, 0.45, 0.4, 0.35, 0.4, 0.75, 0.45, 0.4, 0.5, 0.5, 0.55, 0.35, 0.6, 0.55, 0.55, 0.45, 0.45, 0.5, 0.7, 0.3, 0.55, 0.4, 0.5, 0.6, 0.6, 0.5, 0.55, 0.65, 0.65, 0.3, 0.55, 0.6, 0.3, 0.4, 0.5, 0.55, 0.45, 0.45, 0.45, 0.6, 0.3, 0.45, 0.5, 0.45, 0.35, 0.6, 0.3, 0.45, 0.5, 0.4, 0.45, 0.55, 0.45, 0.3, 0.5, 0.65, 0.45, 0.4, 0.5, 0.6, 0.55, 0.3, 0.4, 0.45, 0.5, 0.8, 0.5, 0.75, 0.7, 0.5, 0.35, 0.35, 0.5, 0.65, 0.3, 0.45, 0.55, 0.5, 0.5, 0.4, 0.4, 0.65, 0.55, 0.75, 0.55, 0.65, 0.55, 0.65, 0.6, 0.5, 0.45, 0.55, 0.35, 0.45, 0.6, 0.55, 0.45, 0.4, 0.4, 0.5, 0.45, 0.4, 0.4, 0.45, 0.5, 0.6, 0.35, 0.2, 0.6, 0.5, 0.5, 0.35, 0.35, 0.65, 0.45, 0.5, 0.65, 0.55, 0.65, 0.45, 0.4, 0.5, 0.35, 0.65, 0.35, 0.6, 0.45, 0.6, 0.45, 0.5, 0.5, 0.4, 0.55, 0.5, 0.7, 0.45, 0.55, 0.6, 0.6, 0.55, 0.55, 0.3, 0.4, 0.5, 0.5, 0.5, 0.55, 0.2, 0.35, 0.55, 0.5, 0.35, 0.5, 0.5, 0.55, 0.55, 0.3, 0.35, 0.5, 0.7, 0.5, 0.5, 0.25, 0.6, 0.4, 0.65, 0.55, 0.55, 0.6, 0.5, 0.3, 0.65, 0.3, 0.6, 0.45, 0.65, 0.6, 0.4, 0.4, 0.5, 0.5, 0.5, 0.65, 0.5, 0.35, 0.65, 0.35, 0.6, 0.55, 0.5, 0.5, 0.65, 0.4, 0.45, 0.55, 0.5, 0.55, 0.4, 0.4, 0.5, 0.55, 0.45, 0.45, 0.55, 0.75, 0.7, 0.55, 0.5, 0.5, 0.45, 0.3, 0.5, 0.4, 0.6, 0.45, 0.45, 0.6, 0.55, 0.6, 0.45, 0.55, 0.5, 0.65, 0.2, 0.55, 0.55, 0.5, 0.4, 0.5, 0.5, 0.4, 0.25, 0.5, 0.55, 0.45, 0.55, 0.4, 0.45, 0.5, 0.45, 0.4, 0.7, 0.45, 0.5, 0.65, 0.5, 0.55, 0.7, 0.65, 0.45, 0.45, 0.35, 0.35, 0.45, 0.3, 0.5, 0.55, 0.4, 0.6, 0.4, 0.65, 0.25, 0.45, 0.55, 0.6, 0.4, 0.35, 0.5, 0.35, 0.7, 0.6, 0.55, 0.6, 0.4, 0.45, 0.55, 0.75, 0.85, 0.4, 0.55, 0.55, 0.45, 0.45, 0.4, 0.6, 0.45, 0.45, 0.35, 0.3, 0.35, 0.6, 0.4, 0.55, 0.65, 0.4, 0.9, 0.6, 0.4, 0.5, 0.45, 0.5, 0.6, 0.5, 0.6, 0.4, 0.55, 0.6, 0.3, 0.45, 0.4, 0.45, 0.35, 0.45, 0.55, 0.65, 0.55, 0.8, 0.6, 0.55, 0.55, 0.5, 0.65, 0.6, 0.45, 0.5, 0.45, 0.65, 0.6, 0.55, 0.6, 0.5, 0.45, 0.5, 0.45, 0.55, 0.6, 0.55, 0.65, 0.45, 0.55, 0.45, 0.65, 0.6, 0.45, 0.45, 0.45, 0.65, 0.45, 0.55, 0.65, 0.5, 0.65, 0.5, 0.65, 0.45, 0.4, 0.45, 0.55, 0.65, 0.5, 0.45, 0.55, 0.75, 0.4, 0.45, 0.6, 0.4, 0.5, 0.4, 0.6, 0.55, 0.6, 0.55, 0.45, 0.3, 0.5, 0.45, 0.35, 0.45, 0.4, 0.5, 0.35, 0.3, 0.55, 0.55, 0.65, 0.35, 0.6, 0.65, 0.25, 0.35, 0.45, 0.35, 0.45, 0.65, 0.55, 0.6, 0.45, 0.3, 0.5, 0.55, 0.45, 0.4, 0.5, 0.35, 0.5, 0.7, 0.6, 0.55, 0.65, 0.5, 0.5, 0.65, 0.55, 0.6, 0.6, 0.55, 0.55, 0.4, 0.55, 0.55, 0.45, 0.65, 0.6, 0.65, 0.3, 0.6, 0.6, 0.4, 0.55, 0.6, 0.5, 0.45, 0.6, 0.5, 0.6, 0.5, 0.45, 0.45, 0.45]\n"
          ],
          "name": "stdout"
        }
      ]
    },
    {
      "cell_type": "code",
      "metadata": {
        "colab_type": "code",
        "outputId": "559d2052-4065-46a6-dcd0-6854484548be",
        "id": "JdES8jXz8kAG",
        "colab": {
          "base_uri": "https://localhost:8080/",
          "height": 269
        }
      },
      "source": [
        "import matplotlib.pyplot as plt\n",
        "import seaborn as sns\n",
        "fix, ax = plt.subplots()\n",
        "for sample in [sample_means_small, sample_means_large]:\n",
        "  sns.distplot(sample)"
      ],
      "execution_count": 14,
      "outputs": [
        {
          "output_type": "display_data",
          "data": {
            "image/png": "[encoded data removed]",
            "text/plain": [
              "<Figure size 432x288 with 1 Axes>"
            ]
          },
          "metadata": {
            "tags": []
          }
        }
      ]
    },
    {
      "cell_type": "markdown",
      "metadata": {
        "id": "EYqo5vZZSFUr",
        "colab_type": "text"
      },
      "source": [
        "## Standard Error of the Mean\n",
        "\n",
        "What does it mean to \"estimate\"? the Population mean?"
      ]
    },
    {
      "cell_type": "code",
      "metadata": {
        "id": "puGXH6vbSIE4",
        "colab_type": "code",
        "colab": {}
      },
      "source": [
        ""
      ],
      "execution_count": 0,
      "outputs": []
    },
    {
      "cell_type": "markdown",
      "metadata": {
        "id": "nfdQf8QYUUmw",
        "colab_type": "text"
      },
      "source": [
        "## Build and Interpret a Confidence Interval\n",
        "\n",
        "<img src=\"https://github.com/ryanallredblog/ryanallredblog.github.io/blob/master/img/Confidence_Interval.png?raw=true\" width=400>"
      ]
    },
    {
      "cell_type": "code",
      "metadata": {
        "id": "MyVWVVA2KA9Z",
        "colab_type": "code",
        "colab": {
          "base_uri": "https://localhost:8080/",
          "height": 272
        },
        "outputId": "44f2338f-aae2-4d09-b085-0d192c3a6ded"
      },
      "source": [
        "coinflips = np.random.binomial(n=1, p=.5, size=500)\n",
        "print(np.std(coinflips, ddof=1))\n",
        "print(coinflips)"
      ],
      "execution_count": 42,
      "outputs": [
        {
          "output_type": "stream",
          "text": [
            "0.49959903762596813\n",
            "[1 0 0 0 0 0 1 0 0 0 0 1 0 0 1 1 1 1 1 1 0 1 0 1 1 1 0 0 1 0 0 1 1 0 0 1 1\n",
            " 0 1 1 1 0 0 1 1 1 0 0 1 1 0 1 1 0 1 0 1 1 1 1 1 1 1 1 0 1 0 1 0 1 0 1 1 1\n",
            " 0 0 0 1 1 1 1 0 1 0 0 0 0 1 0 1 1 1 1 0 0 1 0 0 1 1 0 0 1 1 0 0 0 1 0 0 0\n",
            " 0 1 1 1 0 1 0 1 1 0 0 0 1 1 1 0 0 0 0 0 1 1 1 0 0 1 1 0 0 1 0 1 1 0 0 0 0\n",
            " 1 0 0 0 0 1 1 1 0 0 1 1 0 0 1 0 1 0 1 0 1 0 1 0 1 0 0 1 1 0 1 0 0 0 1 1 0\n",
            " 0 0 1 1 1 0 0 1 1 0 0 1 1 1 1 1 0 0 1 0 1 0 0 1 0 1 0 1 0 0 1 0 0 1 0 0 0\n",
            " 1 1 0 1 1 0 0 0 0 1 0 1 0 1 0 1 0 0 1 0 1 0 0 0 1 1 1 1 0 0 1 0 1 1 0 0 0\n",
            " 0 1 0 1 1 0 0 1 1 1 0 0 1 0 1 0 0 0 0 1 0 1 0 1 1 1 0 0 1 1 0 0 0 1 0 0 1\n",
            " 0 1 0 0 1 1 1 1 0 0 0 0 0 1 1 0 1 1 0 0 1 0 0 0 1 1 1 0 1 1 1 1 0 1 0 0 0\n",
            " 0 0 1 0 0 0 0 0 0 0 0 0 1 1 0 1 0 1 1 0 1 1 0 1 0 1 0 0 1 0 1 1 1 1 0 1 0\n",
            " 1 1 1 1 0 0 0 1 0 0 0 0 1 0 0 0 0 0 1 1 0 0 1 1 1 0 1 0 0 0 1 0 1 1 0 1 1\n",
            " 0 1 1 0 1 0 0 0 1 0 1 1 1 0 0 1 1 1 0 1 1 1 1 0 1 0 0 0 0 0 1 1 1 0 0 1 0\n",
            " 1 1 0 0 1 0 1 1 0 0 0 0 0 0 1 0 0 1 1 0 0 0 1 0 1 0 1 0 0 0 1 0 1 0 0 0 0\n",
            " 1 0 0 0 0 1 0 0 1 0 0 1 1 0 1 1 1 0 0]\n"
          ],
          "name": "stdout"
        }
      ]
    },
    {
      "cell_type": "code",
      "metadata": {
        "id": "tBx71Kf0UjT3",
        "colab_type": "code",
        "colab": {}
      },
      "source": [
        "import scipy.stats as stats\n",
        "def confidence_interval(data, confidence=0.95):\n",
        "  \"\"\"\n",
        "  Calculate a confidence interval around a sample mean for given data.\n",
        "  Using t-distribution and two-tailed test, default 95% confidence. \n",
        "  \n",
        "  Arguments:\n",
        "    data - iterable (list or numpy array) of sample observations\n",
        "    confidence - level of confidence for the interval\n",
        "  \n",
        "  Returns:\n",
        "    tuple of (mean, lower bound, upper bound)\n",
        "  \"\"\"\n",
        "  data = np.array(data)\n",
        "  mean = np.mean(data)\n",
        "  n = len(data)\n",
        "  #stderr = stats.sem(data)  \n",
        "  ### Line below does same thing\n",
        "  stderr = np.std(data, ddof=1) / np.sqrt(n)\n",
        "  ### Notes for this section below \"Looking at stats.t.ppf\"\n",
        "  margin_of_error = stderr * stats.t.ppf((1 + confidence) / 2.0, n - 1)\n",
        "  print('margin of error=', margin_of_error)\n",
        "  return (mean, mean - margin_of_error, mean + margin_of_error)"
      ],
      "execution_count": 0,
      "outputs": []
    },
    {
      "cell_type": "code",
      "metadata": {
        "id": "GqhOvk0EKP7q",
        "colab_type": "code",
        "colab": {
          "base_uri": "https://localhost:8080/",
          "height": 51
        },
        "outputId": "ebb00a9a-cbe3-4b35-a593-c0ebf760b9f9"
      },
      "source": [
        "confidence_interval(coinflips)"
      ],
      "execution_count": 49,
      "outputs": [
        {
          "output_type": "stream",
          "text": [
            "margin of error= 0.04389745404924677\n"
          ],
          "name": "stdout"
        },
        {
          "output_type": "execute_result",
          "data": {
            "text/plain": [
              "(0.47, 0.4261025459507532, 0.5138974540492467)"
            ]
          },
          "metadata": {
            "tags": []
          },
          "execution_count": 49
        }
      ]
    },
    {
      "cell_type": "markdown",
      "metadata": {
        "id": "RSxXwM8NQqqr",
        "colab_type": "text"
      },
      "source": [
        "### Looking at stats.t.ppf"
      ]
    },
    {
      "cell_type": "code",
      "metadata": {
        "id": "vyCZHQUxQpjH",
        "colab_type": "code",
        "colab": {
          "base_uri": "https://localhost:8080/",
          "height": 34
        },
        "outputId": "101e7920-094b-480a-9163-41f7d5acdcee"
      },
      "source": [
        "#stats.t.ppf(probability cutoff, degrees of freedom)\n",
        "\n",
        "# 95% confidence level -> .025\n",
        "# 1 - confidence level == .05/2 -> 0.025\n",
        "confidence_level = .95\n",
        "dof = 42-1\n",
        "\n",
        "#Lower Bound\n",
        "stats.t.ppf((1 - confidence_level)/2, dof)"
      ],
      "execution_count": 44,
      "outputs": [
        {
          "output_type": "execute_result",
          "data": {
            "text/plain": [
              "-2.0195409639828936"
            ]
          },
          "metadata": {
            "tags": []
          },
          "execution_count": 44
        }
      ]
    },
    {
      "cell_type": "code",
      "metadata": {
        "id": "xczhAyGZRZAJ",
        "colab_type": "code",
        "colab": {
          "base_uri": "https://localhost:8080/",
          "height": 34
        },
        "outputId": "58b75349-9c12-4252-c962-a29a0962f5fe"
      },
      "source": [
        "# Upper Bound\n",
        "stats.t.ppf((1 + confidence_level)/2, dof)"
      ],
      "execution_count": 45,
      "outputs": [
        {
          "output_type": "execute_result",
          "data": {
            "text/plain": [
              "2.0195409639828936"
            ]
          },
          "metadata": {
            "tags": []
          },
          "execution_count": 45
        }
      ]
    },
    {
      "cell_type": "markdown",
      "metadata": {
        "id": "C4rtc8luVUAK",
        "colab_type": "text"
      },
      "source": [
        "## Graphically Represent a Confidence Interval"
      ]
    },
    {
      "cell_type": "code",
      "metadata": {
        "id": "pz6F9_3_VmKr",
        "colab_type": "code",
        "colab": {
          "base_uri": "https://localhost:8080/",
          "height": 303
        },
        "outputId": "7474aeb6-7b79-4a8a-d766-7e3f77c22184"
      },
      "source": [
        "import seaborn as sns\n",
        "\n",
        "coinflips_42 = np.random.binomial(n=1, p=.5, size=42)\n",
        "sns.kdeplot(coinflips_42)\n",
        "CI = confidence_interval(coinflips_42)\n",
        "plt.axvline(x=CI[1], color='r')\n",
        "plt.axvline(x=CI[2], color='r')\n",
        "plt.axvline(x=CI[0], color='k')"
      ],
      "execution_count": 52,
      "outputs": [
        {
          "output_type": "stream",
          "text": [
            "margin of error= 0.15481246046014208\n"
          ],
          "name": "stdout"
        },
        {
          "output_type": "execute_result",
          "data": {
            "text/plain": [
              "<matplotlib.lines.Line2D at 0x7f240b970978>"
            ]
          },
          "metadata": {
            "tags": []
          },
          "execution_count": 52
        },
        {
          "output_type": "display_data",
          "data": {
            "image/png": "[encoded data removed]",
            "text/plain": [
              "<Figure size 432x288 with 1 Axes>"
            ]
          },
          "metadata": {
            "tags": []
          }
        }
      ]
    },
    {
      "cell_type": "markdown",
      "metadata": {
        "id": "_oy0uoBGeoEb",
        "colab_type": "text"
      },
      "source": [
        "## Relationship between Confidence Intervals and T-tests\n",
        "\n",
        "Confidence Interval == Bounds of statistical significance for our t-test\n",
        "\n",
        "A sample mean that falls inside of our confidence interval will \"FAIL TO REJECT\" our null hypothesis\n",
        "\n",
        "A sample mean that falls outside of our confidence interval will \"REJECT\" our null hypothesis"
      ]
    },
    {
      "cell_type": "code",
      "metadata": {
        "id": "izIyVavzfCXS",
        "colab_type": "code",
        "colab": {}
      },
      "source": [
        "from scipy.stats import t, ttest_1samp"
      ],
      "execution_count": 0,
      "outputs": []
    },
    {
      "cell_type": "code",
      "metadata": {
        "id": "Y7HwdMwDfL1N",
        "colab_type": "code",
        "outputId": "0f7ed149-4319-4513-c319-c146a231c77e",
        "colab": {
          "base_uri": "https://localhost:8080/",
          "height": 54
        }
      },
      "source": [
        "import numpy as np\n",
        "\n",
        "coinflip_means = []\n",
        "for x in range(0,100):\n",
        "  coinflips = np.random.binomial(n=1, p=.5, size=30)\n",
        "  coinflip_means.append(coinflips.mean())\n",
        "\n",
        "print(coinflip_means)"
      ],
      "execution_count": 54,
      "outputs": [
        {
          "output_type": "stream",
          "text": [
            "[0.5333333333333333, 0.5, 0.4666666666666667, 0.43333333333333335, 0.4, 0.5666666666666667, 0.6333333333333333, 0.6, 0.6666666666666666, 0.5666666666666667, 0.43333333333333335, 0.5, 0.5333333333333333, 0.4666666666666667, 0.6, 0.7333333333333333, 0.5, 0.5666666666666667, 0.4, 0.5666666666666667, 0.5666666666666667, 0.4666666666666667, 0.4666666666666667, 0.3, 0.4, 0.43333333333333335, 0.6666666666666666, 0.6, 0.5666666666666667, 0.6, 0.43333333333333335, 0.4, 0.4, 0.4666666666666667, 0.6333333333333333, 0.36666666666666664, 0.36666666666666664, 0.4666666666666667, 0.4666666666666667, 0.5, 0.4, 0.43333333333333335, 0.5333333333333333, 0.5333333333333333, 0.43333333333333335, 0.6666666666666666, 0.5, 0.4, 0.3333333333333333, 0.3, 0.6, 0.43333333333333335, 0.5333333333333333, 0.4666666666666667, 0.4666666666666667, 0.6, 0.43333333333333335, 0.4, 0.3333333333333333, 0.3333333333333333, 0.43333333333333335, 0.4666666666666667, 0.5333333333333333, 0.6, 0.3333333333333333, 0.43333333333333335, 0.6666666666666666, 0.4666666666666667, 0.43333333333333335, 0.36666666666666664, 0.5333333333333333, 0.5, 0.5, 0.4, 0.6, 0.43333333333333335, 0.5333333333333333, 0.5666666666666667, 0.5, 0.6, 0.4666666666666667, 0.6, 0.5333333333333333, 0.5666666666666667, 0.5333333333333333, 0.3333333333333333, 0.4666666666666667, 0.4666666666666667, 0.6, 0.36666666666666664, 0.43333333333333335, 0.5, 0.5, 0.43333333333333335, 0.5, 0.5333333333333333, 0.43333333333333335, 0.43333333333333335, 0.5, 0.5333333333333333]\n"
          ],
          "name": "stdout"
        }
      ]
    },
    {
      "cell_type": "code",
      "metadata": {
        "id": "nQDo-ZXlfOvR",
        "colab_type": "code",
        "outputId": "c4a90f0f-b993-4491-e21d-20d0f903f541",
        "colab": {
          "base_uri": "https://localhost:8080/",
          "height": 34
        }
      },
      "source": [
        "# Sample Size\n",
        "n = len(coinflip_means)\n",
        "# Degrees of Freedom\n",
        "dof = n-1\n",
        "# The Mean of Means:\n",
        "mean = np.mean(coinflip_means)\n",
        "# Sample Standard Deviation\n",
        "sample_std = np.std(coinflip_means, ddof=1)\n",
        "# Standard Error\n",
        "std_err = sample_std/n**.5\n",
        "\n",
        "CI = t.interval(.95, dof, loc=mean, scale=std_err)\n",
        "print(\"95% Confidence Interval: \", CI)"
      ],
      "execution_count": 55,
      "outputs": [
        {
          "output_type": "stream",
          "text": [
            "95% Confidence Interval:  (0.47197837397973597, 0.5080216260202638)\n"
          ],
          "name": "stdout"
        }
      ]
    },
    {
      "cell_type": "code",
      "metadata": {
        "id": "PiaALHSNfWou",
        "colab_type": "code",
        "outputId": "e3fb79af-c82c-43a7-9348-280387c7e806",
        "colab": {
          "base_uri": "https://localhost:8080/",
          "height": 51
        }
      },
      "source": [
        "'''You can roll your own CI calculation pretty easily. \n",
        "The only thing that's a little bit challenging \n",
        "is understanding the t stat lookup'''\n",
        "\n",
        "# 95% confidence interval\n",
        "t_stat = t.ppf(.975, dof)\n",
        "print(\"t Statistic:\", t_stat)\n",
        "\n",
        "CI = (mean-(t_stat*std_err), mean+(t_stat*std_err))\n",
        "print(\"Confidence Interval\", CI)"
      ],
      "execution_count": 56,
      "outputs": [
        {
          "output_type": "stream",
          "text": [
            "t Statistic: 1.9842169515086827\n",
            "Confidence Interval (0.47197837397973597, 0.5080216260202638)\n"
          ],
          "name": "stdout"
        }
      ]
    },
    {
      "cell_type": "markdown",
      "metadata": {
        "id": "EamZNJhAf-fY",
        "colab_type": "text"
      },
      "source": [
        "A null hypothesis that's just inside of our confidence interval == fail to reject\n",
        "\n"
      ]
    },
    {
      "cell_type": "code",
      "metadata": {
        "id": "cNpzYbjpfirR",
        "colab_type": "code",
        "outputId": "cfac5ee8-4c31-4444-ec11-677f69ace50f",
        "colab": {
          "base_uri": "https://localhost:8080/",
          "height": 34
        }
      },
      "source": [
        "ttest_1samp(coinflip_means, 0.4719784)"
      ],
      "execution_count": 57,
      "outputs": [
        {
          "output_type": "execute_result",
          "data": {
            "text/plain": [
              "Ttest_1sampResult(statistic=1.9842140866257405, pvalue=0.050000324431458354)"
            ]
          },
          "metadata": {
            "tags": []
          },
          "execution_count": 57
        }
      ]
    },
    {
      "cell_type": "markdown",
      "metadata": {
        "id": "hO34mbL9gHn1",
        "colab_type": "text"
      },
      "source": [
        "A null hypothesis that's just outside of our confidence interval == reject\n",
        "\n"
      ]
    },
    {
      "cell_type": "code",
      "metadata": {
        "id": "N4SUjj82gKlv",
        "colab_type": "code",
        "outputId": "a15a7c97-7f39-46a8-c04a-09caf49bed59",
        "colab": {
          "base_uri": "https://localhost:8080/",
          "height": 34
        }
      },
      "source": [
        "ttest_1samp(coinflip_means, 0.4719782)"
      ],
      "execution_count": 58,
      "outputs": [
        {
          "output_type": "execute_result",
          "data": {
            "text/plain": [
              "Ttest_1sampResult(statistic=1.9842361070244474, pvalue=0.04999783086209473)"
            ]
          },
          "metadata": {
            "tags": []
          },
          "execution_count": 58
        }
      ]
    },
    {
      "cell_type": "markdown",
      "metadata": {
        "id": "pTIzrkKdUaLl",
        "colab_type": "text"
      },
      "source": [
        "## Run a $\\chi^{2}$ Test \"by hand\" (Using Numpy)"
      ]
    },
    {
      "cell_type": "code",
      "metadata": {
        "id": "DDsovHUyUj3v",
        "colab_type": "code",
        "colab": {}
      },
      "source": [
        ""
      ],
      "execution_count": 0,
      "outputs": []
    },
    {
      "cell_type": "markdown",
      "metadata": {
        "id": "7Igz-XHcVbW3",
        "colab_type": "text"
      },
      "source": [
        "## Run a $\\chi^{2}$ Test using Scipy"
      ]
    },
    {
      "cell_type": "code",
      "metadata": {
        "id": "X52Nwt7AVlvk",
        "colab_type": "code",
        "colab": {}
      },
      "source": [
        ""
      ],
      "execution_count": 0,
      "outputs": []
    }
  ]
}