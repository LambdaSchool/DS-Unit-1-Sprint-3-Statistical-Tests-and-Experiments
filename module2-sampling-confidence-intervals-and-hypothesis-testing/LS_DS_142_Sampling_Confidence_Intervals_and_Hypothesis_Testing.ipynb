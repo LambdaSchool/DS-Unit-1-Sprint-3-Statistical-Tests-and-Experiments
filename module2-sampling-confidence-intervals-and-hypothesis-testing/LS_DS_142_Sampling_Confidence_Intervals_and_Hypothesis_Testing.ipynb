{
  "nbformat": 4,
  "nbformat_minor": 0,
  "metadata": {
    "colab": {
      "name": "LS_DS_142_Sampling_Confidence_Intervals_and_Hypothesis_Testing.ipynb",
      "version": "0.3.2",
      "provenance": [],
      "collapsed_sections": []
    },
    "kernelspec": {
      "name": "python3",
      "display_name": "Python 3"
    }
  },
  "cells": [
    {
      "metadata": {
        "id": "838Dmw1kM2LK",
        "colab_type": "text"
      },
      "cell_type": "markdown",
      "source": [
        "# Lambda School Data Science Module 142\n",
        "## Sampling, Confidence Intervals, and Hypothesis Testing"
      ]
    },
    {
      "metadata": {
        "id": "dbcPKIo5M6Ny",
        "colab_type": "text"
      },
      "cell_type": "markdown",
      "source": [
        "## Prepare - examine other available hypothesis tests\n",
        "\n",
        "If you had to pick a single hypothesis test in your toolbox, t-test would probably be the best choice - but the good news is you don't have to pick just one! Here's some of the others to be aware of:"
      ]
    },
    {
      "metadata": {
        "id": "tlBel8j9M6tB",
        "colab_type": "code",
        "outputId": "5918588d-35ff-4f2b-e004-5b2f8d8904af",
        "colab": {
          "base_uri": "https://localhost:8080/",
          "height": 187
        }
      },
      "cell_type": "code",
      "source": [
        "import numpy as np\n",
        "from scipy.stats import chisquare  # One-way chi square test\n",
        "\n",
        "# Chi square can take any crosstab/table and test the independence of rows/cols\n",
        "# The null hypothesis is that the rows/cols are independent -> low chi square\n",
        "# The alternative is that there is a dependence -> high chi square\n",
        "# Be aware! Chi square does *not* tell you direction/causation\n",
        "\n",
        "ind_obs = np.array([[1, 1], [2, 2]]).T\n",
        "print(ind_obs)\n",
        "print(chisquare(ind_obs, axis=None))\n",
        "\n",
        "dep_obs = np.array([[16, 18, 16, 14, 12, 12], [32, 24, 16, 28, 20, 24]]).T\n",
        "print(dep_obs)\n",
        "print(chisquare(dep_obs, axis=None))"
      ],
      "execution_count": 1,
      "outputs": [
        {
          "output_type": "stream",
          "text": [
            "[[1 2]\n",
            " [1 2]]\n",
            "Power_divergenceResult(statistic=0.6666666666666666, pvalue=0.8810148425137847)\n",
            "[[16 32]\n",
            " [18 24]\n",
            " [16 16]\n",
            " [14 28]\n",
            " [12 20]\n",
            " [12 24]]\n",
            "Power_divergenceResult(statistic=23.31034482758621, pvalue=0.015975692534127565)\n"
          ],
          "name": "stdout"
        }
      ]
    },
    {
      "metadata": {
        "id": "nN0BdNiDPxbk",
        "colab_type": "code",
        "outputId": "0a2085d4-c38d-4110-c054-297e7e82a251",
        "colab": {
          "base_uri": "https://localhost:8080/",
          "height": 34
        }
      },
      "cell_type": "code",
      "source": [
        "# Distribution tests:\n",
        "# We often assume that something is normal, but it can be important to *check*\n",
        "\n",
        "# For example, later on with predictive modeling, a typical assumption is that\n",
        "# residuals (prediction errors) are normal - checking is a good diagnostic\n",
        "\n",
        "from scipy.stats import normaltest\n",
        "# Poisson models arrival times and is related to the binomial (coinflip)\n",
        "sample = np.random.poisson(5, 1000)\n",
        "print(normaltest(sample))  # Pretty clearly not normal"
      ],
      "execution_count": 2,
      "outputs": [
        {
          "output_type": "stream",
          "text": [
            "NormaltestResult(statistic=58.11589277325195, pvalue=2.4004586476814666e-13)\n"
          ],
          "name": "stdout"
        }
      ]
    },
    {
      "metadata": {
        "id": "P5t0WhkDReFO",
        "colab_type": "code",
        "outputId": "7d6438bf-8042-4297-a8f7-cef083d22444",
        "colab": {
          "base_uri": "https://localhost:8080/",
          "height": 53
        }
      },
      "cell_type": "code",
      "source": [
        "# Kruskal-Wallis H-test - compare the median rank between 2+ groups\n",
        "# Can be applied to ranking decisions/outcomes/recommendations\n",
        "# The underlying math comes from chi-square distribution, and is best for n>5\n",
        "from scipy.stats import kruskal\n",
        "\n",
        "x1 = [1, 3, 5, 7, 9]\n",
        "y1 = [2, 4, 6, 8, 10]\n",
        "print(kruskal(x1, y1))  # x1 is a little better, but not \"significantly\" so\n",
        "\n",
        "x2 = [1, 1, 1]\n",
        "y2 = [2, 2, 2]\n",
        "z = [2, 2]  # Hey, a third group, and of different size!\n",
        "print(kruskal(x2, y2, z))  # x clearly dominates"
      ],
      "execution_count": 0,
      "outputs": [
        {
          "output_type": "stream",
          "text": [
            "KruskalResult(statistic=0.2727272727272734, pvalue=0.6015081344405895)\n",
            "KruskalResult(statistic=7.0, pvalue=0.0301973834223185)\n"
          ],
          "name": "stdout"
        }
      ]
    },
    {
      "metadata": {
        "id": "7pT3IP36Rh0b",
        "colab_type": "text"
      },
      "cell_type": "markdown",
      "source": [
        "And there's many more! `scipy.stats` is fairly comprehensive, though there are even more available if you delve into the extended world of statistics packages. As tests get increasingly obscure and specialized, the importance of knowing them by heart becomes small - but being able to look them up and figure them out when they *are* relevant is still important."
      ]
    },
    {
      "metadata": {
        "id": "L1_KRuHCM7BW",
        "colab_type": "text"
      },
      "cell_type": "markdown",
      "source": [
        "## Live Lecture - let's explore some more of scipy.stats\n",
        "\n",
        "Candidate topics to explore:\n",
        "\n",
        "- `scipy.stats.chi2` - the Chi-squared distribution, which we can use to reproduce the Chi-squared test\n",
        "- Calculate the Chi-Squared test statistic \"by hand\" (with code), and feed it into `chi2`\n",
        "- Build a confidence interval with `stats.t.ppf`, the t-distribution percentile point function (the inverse of the CDF) - we can write a function to return a tuple of `(mean, lower bound, upper bound)` that you can then use for the assignment (visualizing confidence intervals)"
      ]
    },
    {
      "metadata": {
        "id": "qW6k0dorM7Lz",
        "colab_type": "code",
        "colab": {}
      },
      "cell_type": "code",
      "source": [
        "# Taking requests! Come to lecture with a topic or problem and we'll try it."
      ],
      "execution_count": 0,
      "outputs": []
    },
    {
      "metadata": {
        "id": "11OzdxWTM7UR",
        "colab_type": "text"
      },
      "cell_type": "markdown",
      "source": [
        "## Assignment - Build a confidence interval\n",
        "\n",
        "A confidence interval refers to a neighborhood around some point estimate, the size of which is determined by the desired p-value. For instance, we might say that 52% of Americans prefer tacos to burritos, with a 95% confidence interval of +/- 5%.\n",
        "\n",
        "52% (0.52) is the point estimate, and +/- 5% (the interval $[0.47, 0.57]$) is the confidence interval. \"95% confidence\" means a p-value $\\leq 1 - 0.95 = 0.05$.\n",
        "\n",
        "In this case, the confidence interval includes $0.5$ - which is the natural null hypothesis (that half of Americans prefer tacos and half burritos, thus there is no clear favorite). So in this case, we could use the confidence interval to report that we've failed to reject the null hypothesis.\n",
        "\n",
        "But providing the full analysis with a confidence interval, including a graphical representation of it, can be a helpful and powerful way to tell your story. Done well, it is also more intuitive to a layperson than simply saying \"fail to reject the null hypothesis\" - it shows that in fact the data does *not* give a single clear result (the point estimate) but a whole range of possibilities.\n",
        "\n",
        "How is a confidence interval built, and how should it be interpreted? It does *not* mean that 95% of the data lies in that interval - instead, the frequentist interpretation is \"if we were to repeat this experiment 100 times, we would expect the average result to lie in this interval ~95 times.\"\n",
        "\n",
        "For a 95% confidence interval and a normal(-ish) distribution, you can simply remember that +/-2 standard deviations contains 95% of the probability mass, and so the 95% confidence interval based on a given sample is centered at the mean (point estimate) and has a range of +/- 2 (or technically 1.96) standard deviations.\n",
        "\n",
        "Different distributions/assumptions (90% confidence, 99% confidence) will require different math, but the overall process and interpretation (with a frequentist approach) will be the same.\n",
        "\n",
        "Your assignment - using the data from the prior module ([congressional voting records](https://archive.ics.uci.edu/ml/datasets/Congressional+Voting+Records)):\n",
        "\n",
        "1. Generate and numerically represent a confidence interval\n",
        "2. Graphically (with a plot) represent the confidence interval\n",
        "3. Interpret the confidence interval - what does it tell you about the data and its distribution?\n",
        "\n",
        "Stretch goals:\n",
        "\n",
        "1. Write a summary of your findings, mixing prose and math/code/results. *Note* - yes, this is by definition a political topic. It is challenging but important to keep your writing voice *neutral* and stick to the facts of the data. Data science often involves considering controversial issues, so it's important to be sensitive about them (especially if you want to publish).\n",
        "2. Apply the techniques you learned today to your project data or other data of your choice, and write/discuss your findings here.\n",
        "3. Refactor your code so it is elegant, readable, and can be easily run for all issues."
      ]
    },
    {
      "metadata": {
        "id": "Ckcr4A4FM7cs",
        "colab_type": "code",
        "colab": {
          "base_uri": "https://localhost:8080/",
          "height": 224
        },
        "outputId": "33c80915-0343-42f1-9f8d-e022d1b71fc7"
      },
      "cell_type": "code",
      "source": [
        "import pandas as pd\n",
        "politics = pd.read_csv('politics.csv')\n",
        "politics.head()"
      ],
      "execution_count": 1,
      "outputs": [
        {
          "output_type": "execute_result",
          "data": {
            "text/html": [
              "<div>\n",
              "<style scoped>\n",
              "    .dataframe tbody tr th:only-of-type {\n",
              "        vertical-align: middle;\n",
              "    }\n",
              "\n",
              "    .dataframe tbody tr th {\n",
              "        vertical-align: top;\n",
              "    }\n",
              "\n",
              "    .dataframe thead th {\n",
              "        text-align: right;\n",
              "    }\n",
              "</style>\n",
              "<table border=\"1\" class=\"dataframe\">\n",
              "  <thead>\n",
              "    <tr style=\"text-align: right;\">\n",
              "      <th></th>\n",
              "      <th>party</th>\n",
              "      <th>handicap</th>\n",
              "      <th>water_cost_share</th>\n",
              "      <th>budget_resolution</th>\n",
              "      <th>physician_fee_freeze</th>\n",
              "      <th>el_savador_aid</th>\n",
              "      <th>religious_groups_schools</th>\n",
              "      <th>anti_satellite_test_ban</th>\n",
              "      <th>nicaraguan_aid</th>\n",
              "      <th>mx_missile</th>\n",
              "      <th>immigration</th>\n",
              "      <th>synfuels_cutback</th>\n",
              "      <th>education_spending</th>\n",
              "      <th>superfund_lawsuit</th>\n",
              "      <th>crime</th>\n",
              "      <th>duty_free_exports</th>\n",
              "      <th>s_africa_export</th>\n",
              "    </tr>\n",
              "  </thead>\n",
              "  <tbody>\n",
              "    <tr>\n",
              "      <th>0</th>\n",
              "      <td>republican</td>\n",
              "      <td>0.0</td>\n",
              "      <td>1.0</td>\n",
              "      <td>0.0</td>\n",
              "      <td>1.0</td>\n",
              "      <td>1.0</td>\n",
              "      <td>1.0</td>\n",
              "      <td>0.0</td>\n",
              "      <td>0.0</td>\n",
              "      <td>0.0</td>\n",
              "      <td>1.0</td>\n",
              "      <td>0.5</td>\n",
              "      <td>1.0</td>\n",
              "      <td>1.0</td>\n",
              "      <td>1.0</td>\n",
              "      <td>0.0</td>\n",
              "      <td>1.0</td>\n",
              "    </tr>\n",
              "    <tr>\n",
              "      <th>1</th>\n",
              "      <td>republican</td>\n",
              "      <td>0.0</td>\n",
              "      <td>1.0</td>\n",
              "      <td>0.0</td>\n",
              "      <td>1.0</td>\n",
              "      <td>1.0</td>\n",
              "      <td>1.0</td>\n",
              "      <td>0.0</td>\n",
              "      <td>0.0</td>\n",
              "      <td>0.0</td>\n",
              "      <td>0.0</td>\n",
              "      <td>0.0</td>\n",
              "      <td>1.0</td>\n",
              "      <td>1.0</td>\n",
              "      <td>1.0</td>\n",
              "      <td>0.0</td>\n",
              "      <td>0.5</td>\n",
              "    </tr>\n",
              "    <tr>\n",
              "      <th>2</th>\n",
              "      <td>democrat</td>\n",
              "      <td>0.5</td>\n",
              "      <td>1.0</td>\n",
              "      <td>1.0</td>\n",
              "      <td>0.5</td>\n",
              "      <td>1.0</td>\n",
              "      <td>1.0</td>\n",
              "      <td>0.0</td>\n",
              "      <td>0.0</td>\n",
              "      <td>0.0</td>\n",
              "      <td>0.0</td>\n",
              "      <td>1.0</td>\n",
              "      <td>0.0</td>\n",
              "      <td>1.0</td>\n",
              "      <td>1.0</td>\n",
              "      <td>0.0</td>\n",
              "      <td>0.0</td>\n",
              "    </tr>\n",
              "    <tr>\n",
              "      <th>3</th>\n",
              "      <td>democrat</td>\n",
              "      <td>0.0</td>\n",
              "      <td>1.0</td>\n",
              "      <td>1.0</td>\n",
              "      <td>0.0</td>\n",
              "      <td>0.5</td>\n",
              "      <td>1.0</td>\n",
              "      <td>0.0</td>\n",
              "      <td>0.0</td>\n",
              "      <td>0.0</td>\n",
              "      <td>0.0</td>\n",
              "      <td>1.0</td>\n",
              "      <td>0.0</td>\n",
              "      <td>1.0</td>\n",
              "      <td>0.0</td>\n",
              "      <td>0.0</td>\n",
              "      <td>1.0</td>\n",
              "    </tr>\n",
              "    <tr>\n",
              "      <th>4</th>\n",
              "      <td>democrat</td>\n",
              "      <td>1.0</td>\n",
              "      <td>1.0</td>\n",
              "      <td>1.0</td>\n",
              "      <td>0.0</td>\n",
              "      <td>1.0</td>\n",
              "      <td>1.0</td>\n",
              "      <td>0.0</td>\n",
              "      <td>0.0</td>\n",
              "      <td>0.0</td>\n",
              "      <td>0.0</td>\n",
              "      <td>1.0</td>\n",
              "      <td>0.5</td>\n",
              "      <td>1.0</td>\n",
              "      <td>1.0</td>\n",
              "      <td>1.0</td>\n",
              "      <td>1.0</td>\n",
              "    </tr>\n",
              "  </tbody>\n",
              "</table>\n",
              "</div>"
            ],
            "text/plain": [
              "        party  handicap  water_cost_share  budget_resolution  \\\n",
              "0  republican       0.0               1.0                0.0   \n",
              "1  republican       0.0               1.0                0.0   \n",
              "2    democrat       0.5               1.0                1.0   \n",
              "3    democrat       0.0               1.0                1.0   \n",
              "4    democrat       1.0               1.0                1.0   \n",
              "\n",
              "   physician_fee_freeze  el_savador_aid  religious_groups_schools  \\\n",
              "0                   1.0             1.0                       1.0   \n",
              "1                   1.0             1.0                       1.0   \n",
              "2                   0.5             1.0                       1.0   \n",
              "3                   0.0             0.5                       1.0   \n",
              "4                   0.0             1.0                       1.0   \n",
              "\n",
              "   anti_satellite_test_ban  nicaraguan_aid  mx_missile  immigration  \\\n",
              "0                      0.0             0.0         0.0          1.0   \n",
              "1                      0.0             0.0         0.0          0.0   \n",
              "2                      0.0             0.0         0.0          0.0   \n",
              "3                      0.0             0.0         0.0          0.0   \n",
              "4                      0.0             0.0         0.0          0.0   \n",
              "\n",
              "   synfuels_cutback  education_spending  superfund_lawsuit  crime  \\\n",
              "0               0.5                 1.0                1.0    1.0   \n",
              "1               0.0                 1.0                1.0    1.0   \n",
              "2               1.0                 0.0                1.0    1.0   \n",
              "3               1.0                 0.0                1.0    0.0   \n",
              "4               1.0                 0.5                1.0    1.0   \n",
              "\n",
              "   duty_free_exports  s_africa_export  \n",
              "0                0.0              1.0  \n",
              "1                0.0              0.5  \n",
              "2                0.0              0.0  \n",
              "3                0.0              1.0  \n",
              "4                1.0              1.0  "
            ]
          },
          "metadata": {
            "tags": []
          },
          "execution_count": 1
        }
      ]
    },
    {
      "metadata": {
        "id": "PRm0KUd-LkJZ",
        "colab_type": "code",
        "colab": {}
      },
      "cell_type": "code",
      "source": [
        "\n",
        "politics = politics.set_index('party')\n",
        "repub = politics.loc['republican']\n",
        "repub.name = 'Republicans'\n",
        "demo = politics.loc['democrat']\n",
        "demo.name = 'Democrats'"
      ],
      "execution_count": 0,
      "outputs": []
    },
    {
      "metadata": {
        "id": "BwtyhUQdMIcc",
        "colab_type": "code",
        "colab": {
          "base_uri": "https://localhost:8080/",
          "height": 85
        },
        "outputId": "35d509ae-9974-49db-f842-fc8902257cc0"
      },
      "cell_type": "code",
      "source": [
        "#find number of obvservations\n",
        "n = len(demo['handicap'])\n",
        "print('number of obs:',n)\n",
        "#find the mean\n",
        "mean = demo['handicap'].mean()\n",
        "print('mean:',mean)\n",
        "#find the standard deviation\n",
        "std = demo['handicap'].std()\n",
        "print('standard deviation:',std)\n",
        "#decide your confidence level: 95% and get z value (why z?)\n",
        "z_value = 1.960\n",
        "upper_bound=mean+z_value*std/n**(1/2)\n",
        "lower_bound=mean-z_value*std/n**(1/2)\n",
        "\n",
        "print(upper_bound,lower_bound)\n"
      ],
      "execution_count": 3,
      "outputs": [
        {
          "output_type": "stream",
          "text": [
            "number of obs: 267\n",
            "mean: 0.601123595505618\n",
            "standard deviation: 0.48188876091874716\n",
            "0.658926177449035 0.543321013562201\n"
          ],
          "name": "stdout"
        }
      ]
    },
    {
      "metadata": {
        "id": "kY2k7tE6OjVz",
        "colab_type": "code",
        "colab": {
          "base_uri": "https://localhost:8080/",
          "height": 88
        },
        "outputId": "1824c002-8395-44a7-bf9a-450dcf622573"
      },
      "cell_type": "code",
      "source": [
        "import statsmodels.stats.api as sms\n",
        "a, b = sms.DescrStatsW(demo['handicap']).tconfint_mean()\n",
        "a"
      ],
      "execution_count": 4,
      "outputs": [
        {
          "output_type": "stream",
          "text": [
            "/usr/local/lib/python3.6/dist-packages/statsmodels/compat/pandas.py:56: FutureWarning: The pandas.core.datetools module is deprecated and will be removed in a future version. Please use the pandas.tseries module instead.\n",
            "  from pandas.core import datetools\n"
          ],
          "name": "stderr"
        },
        {
          "output_type": "execute_result",
          "data": {
            "text/plain": [
              "0.5430578842906294"
            ]
          },
          "metadata": {
            "tags": []
          },
          "execution_count": 4
        }
      ]
    },
    {
      "metadata": {
        "id": "NDB_XCrjSvdc",
        "colab_type": "code",
        "colab": {}
      },
      "cell_type": "code",
      "source": [
        "da=pd.DataFrame()\n",
        "'''def dew_it(dataframe):\n",
        "  for column in dataframe:\n",
        "    l,u = sms.DescrStatsW(column).tconfint_mean()\n",
        "    df.append(dataframe.name,,l,u)'''\n",
        "    \n",
        "def do_it(df,issue):\n",
        "  l,u = sms.DescrStatsW(df[issue]).tconfint_mean()\n",
        "  m = df[issue].mean()\n",
        "  global da\n",
        "  da = da.append({'party':df.name,'issue':issue,'lower':l,'upper':u,'mean':m},ignore_index=True)\n",
        "\n",
        "      \n",
        "    "
      ],
      "execution_count": 0,
      "outputs": []
    },
    {
      "metadata": {
        "id": "0l6V3CqwYcOD",
        "colab_type": "code",
        "colab": {}
      },
      "cell_type": "code",
      "source": [
        "da=pd.DataFrame()\n",
        "for column in demo:\n",
        "  do_it(demo,column)"
      ],
      "execution_count": 0,
      "outputs": []
    },
    {
      "metadata": {
        "id": "6_1Q2WL2Y5Ri",
        "colab_type": "code",
        "colab": {
          "base_uri": "https://localhost:8080/",
          "height": 545
        },
        "outputId": "1af27edb-341d-4840-e5a5-22c38cd8979c"
      },
      "cell_type": "code",
      "source": [
        "da"
      ],
      "execution_count": 16,
      "outputs": [
        {
          "output_type": "execute_result",
          "data": {
            "text/html": [
              "<div>\n",
              "<style scoped>\n",
              "    .dataframe tbody tr th:only-of-type {\n",
              "        vertical-align: middle;\n",
              "    }\n",
              "\n",
              "    .dataframe tbody tr th {\n",
              "        vertical-align: top;\n",
              "    }\n",
              "\n",
              "    .dataframe thead th {\n",
              "        text-align: right;\n",
              "    }\n",
              "</style>\n",
              "<table border=\"1\" class=\"dataframe\">\n",
              "  <thead>\n",
              "    <tr style=\"text-align: right;\">\n",
              "      <th></th>\n",
              "      <th>issue</th>\n",
              "      <th>lower</th>\n",
              "      <th>mean</th>\n",
              "      <th>party</th>\n",
              "      <th>upper</th>\n",
              "    </tr>\n",
              "  </thead>\n",
              "  <tbody>\n",
              "    <tr>\n",
              "      <th>0</th>\n",
              "      <td>handicap</td>\n",
              "      <td>0.543058</td>\n",
              "      <td>0.601124</td>\n",
              "      <td>Democrats</td>\n",
              "      <td>0.659189</td>\n",
              "    </tr>\n",
              "    <tr>\n",
              "      <th>1</th>\n",
              "      <td>water_cost_share</td>\n",
              "      <td>0.444765</td>\n",
              "      <td>0.501873</td>\n",
              "      <td>Democrats</td>\n",
              "      <td>0.558981</td>\n",
              "    </tr>\n",
              "    <tr>\n",
              "      <th>2</th>\n",
              "      <td>budget_resolution</td>\n",
              "      <td>0.840034</td>\n",
              "      <td>0.878277</td>\n",
              "      <td>Democrats</td>\n",
              "      <td>0.916520</td>\n",
              "    </tr>\n",
              "    <tr>\n",
              "      <th>3</th>\n",
              "      <td>physician_fee_freeze</td>\n",
              "      <td>0.039006</td>\n",
              "      <td>0.067416</td>\n",
              "      <td>Democrats</td>\n",
              "      <td>0.095825</td>\n",
              "    </tr>\n",
              "    <tr>\n",
              "      <th>4</th>\n",
              "      <td>el_savador_aid</td>\n",
              "      <td>0.179422</td>\n",
              "      <td>0.228464</td>\n",
              "      <td>Democrats</td>\n",
              "      <td>0.277507</td>\n",
              "    </tr>\n",
              "    <tr>\n",
              "      <th>5</th>\n",
              "      <td>religious_groups_schools</td>\n",
              "      <td>0.418255</td>\n",
              "      <td>0.477528</td>\n",
              "      <td>Democrats</td>\n",
              "      <td>0.536801</td>\n",
              "    </tr>\n",
              "    <tr>\n",
              "      <th>6</th>\n",
              "      <td>anti_satellite_test_ban</td>\n",
              "      <td>0.713863</td>\n",
              "      <td>0.764045</td>\n",
              "      <td>Democrats</td>\n",
              "      <td>0.814227</td>\n",
              "    </tr>\n",
              "    <tr>\n",
              "      <th>7</th>\n",
              "      <td>nicaraguan_aid</td>\n",
              "      <td>0.778591</td>\n",
              "      <td>0.823970</td>\n",
              "      <td>Democrats</td>\n",
              "      <td>0.869349</td>\n",
              "    </tr>\n",
              "    <tr>\n",
              "      <th>8</th>\n",
              "      <td>mx_missile</td>\n",
              "      <td>0.689234</td>\n",
              "      <td>0.739700</td>\n",
              "      <td>Democrats</td>\n",
              "      <td>0.790167</td>\n",
              "    </tr>\n",
              "    <tr>\n",
              "      <th>9</th>\n",
              "      <td>immigration</td>\n",
              "      <td>0.412099</td>\n",
              "      <td>0.471910</td>\n",
              "      <td>Democrats</td>\n",
              "      <td>0.531721</td>\n",
              "    </tr>\n",
              "    <tr>\n",
              "      <th>10</th>\n",
              "      <td>synfuels_cutback</td>\n",
              "      <td>0.446633</td>\n",
              "      <td>0.505618</td>\n",
              "      <td>Democrats</td>\n",
              "      <td>0.564603</td>\n",
              "    </tr>\n",
              "    <tr>\n",
              "      <th>11</th>\n",
              "      <td>education_spending</td>\n",
              "      <td>0.126152</td>\n",
              "      <td>0.168539</td>\n",
              "      <td>Democrats</td>\n",
              "      <td>0.210926</td>\n",
              "    </tr>\n",
              "    <tr>\n",
              "      <th>12</th>\n",
              "      <td>superfund_lawsuit</td>\n",
              "      <td>0.247977</td>\n",
              "      <td>0.301498</td>\n",
              "      <td>Democrats</td>\n",
              "      <td>0.355019</td>\n",
              "    </tr>\n",
              "    <tr>\n",
              "      <th>13</th>\n",
              "      <td>crime</td>\n",
              "      <td>0.299201</td>\n",
              "      <td>0.355805</td>\n",
              "      <td>Democrats</td>\n",
              "      <td>0.412409</td>\n",
              "    </tr>\n",
              "    <tr>\n",
              "      <th>14</th>\n",
              "      <td>duty_free_exports</td>\n",
              "      <td>0.572806</td>\n",
              "      <td>0.629213</td>\n",
              "      <td>Democrats</td>\n",
              "      <td>0.685621</td>\n",
              "    </tr>\n",
              "    <tr>\n",
              "      <th>15</th>\n",
              "      <td>s_africa_export</td>\n",
              "      <td>0.766861</td>\n",
              "      <td>0.801498</td>\n",
              "      <td>Democrats</td>\n",
              "      <td>0.836135</td>\n",
              "    </tr>\n",
              "  </tbody>\n",
              "</table>\n",
              "</div>"
            ],
            "text/plain": [
              "                       issue     lower      mean      party     upper\n",
              "0                   handicap  0.543058  0.601124  Democrats  0.659189\n",
              "1           water_cost_share  0.444765  0.501873  Democrats  0.558981\n",
              "2          budget_resolution  0.840034  0.878277  Democrats  0.916520\n",
              "3       physician_fee_freeze  0.039006  0.067416  Democrats  0.095825\n",
              "4             el_savador_aid  0.179422  0.228464  Democrats  0.277507\n",
              "5   religious_groups_schools  0.418255  0.477528  Democrats  0.536801\n",
              "6    anti_satellite_test_ban  0.713863  0.764045  Democrats  0.814227\n",
              "7             nicaraguan_aid  0.778591  0.823970  Democrats  0.869349\n",
              "8                 mx_missile  0.689234  0.739700  Democrats  0.790167\n",
              "9                immigration  0.412099  0.471910  Democrats  0.531721\n",
              "10          synfuels_cutback  0.446633  0.505618  Democrats  0.564603\n",
              "11        education_spending  0.126152  0.168539  Democrats  0.210926\n",
              "12         superfund_lawsuit  0.247977  0.301498  Democrats  0.355019\n",
              "13                     crime  0.299201  0.355805  Democrats  0.412409\n",
              "14         duty_free_exports  0.572806  0.629213  Democrats  0.685621\n",
              "15           s_africa_export  0.766861  0.801498  Democrats  0.836135"
            ]
          },
          "metadata": {
            "tags": []
          },
          "execution_count": 16
        }
      ]
    },
    {
      "metadata": {
        "id": "hkBb2-PDZNLT",
        "colab_type": "code",
        "colab": {}
      },
      "cell_type": "code",
      "source": [
        "for column in repub:\n",
        "  do_it(repub,column)"
      ],
      "execution_count": 0,
      "outputs": []
    },
    {
      "metadata": {
        "id": "pH31WXJMoGK5",
        "colab_type": "code",
        "colab": {
          "base_uri": "https://localhost:8080/",
          "height": 1041
        },
        "outputId": "34fdbc3b-46bc-4bae-8880-c75448e9119b"
      },
      "cell_type": "code",
      "source": [
        "da"
      ],
      "execution_count": 18,
      "outputs": [
        {
          "output_type": "execute_result",
          "data": {
            "text/html": [
              "<div>\n",
              "<style scoped>\n",
              "    .dataframe tbody tr th:only-of-type {\n",
              "        vertical-align: middle;\n",
              "    }\n",
              "\n",
              "    .dataframe tbody tr th {\n",
              "        vertical-align: top;\n",
              "    }\n",
              "\n",
              "    .dataframe thead th {\n",
              "        text-align: right;\n",
              "    }\n",
              "</style>\n",
              "<table border=\"1\" class=\"dataframe\">\n",
              "  <thead>\n",
              "    <tr style=\"text-align: right;\">\n",
              "      <th></th>\n",
              "      <th>issue</th>\n",
              "      <th>lower</th>\n",
              "      <th>mean</th>\n",
              "      <th>party</th>\n",
              "      <th>upper</th>\n",
              "    </tr>\n",
              "  </thead>\n",
              "  <tbody>\n",
              "    <tr>\n",
              "      <th>0</th>\n",
              "      <td>handicap</td>\n",
              "      <td>0.543058</td>\n",
              "      <td>0.601124</td>\n",
              "      <td>Democrats</td>\n",
              "      <td>0.659189</td>\n",
              "    </tr>\n",
              "    <tr>\n",
              "      <th>1</th>\n",
              "      <td>water_cost_share</td>\n",
              "      <td>0.444765</td>\n",
              "      <td>0.501873</td>\n",
              "      <td>Democrats</td>\n",
              "      <td>0.558981</td>\n",
              "    </tr>\n",
              "    <tr>\n",
              "      <th>2</th>\n",
              "      <td>budget_resolution</td>\n",
              "      <td>0.840034</td>\n",
              "      <td>0.878277</td>\n",
              "      <td>Democrats</td>\n",
              "      <td>0.916520</td>\n",
              "    </tr>\n",
              "    <tr>\n",
              "      <th>3</th>\n",
              "      <td>physician_fee_freeze</td>\n",
              "      <td>0.039006</td>\n",
              "      <td>0.067416</td>\n",
              "      <td>Democrats</td>\n",
              "      <td>0.095825</td>\n",
              "    </tr>\n",
              "    <tr>\n",
              "      <th>4</th>\n",
              "      <td>el_savador_aid</td>\n",
              "      <td>0.179422</td>\n",
              "      <td>0.228464</td>\n",
              "      <td>Democrats</td>\n",
              "      <td>0.277507</td>\n",
              "    </tr>\n",
              "    <tr>\n",
              "      <th>5</th>\n",
              "      <td>religious_groups_schools</td>\n",
              "      <td>0.418255</td>\n",
              "      <td>0.477528</td>\n",
              "      <td>Democrats</td>\n",
              "      <td>0.536801</td>\n",
              "    </tr>\n",
              "    <tr>\n",
              "      <th>6</th>\n",
              "      <td>anti_satellite_test_ban</td>\n",
              "      <td>0.713863</td>\n",
              "      <td>0.764045</td>\n",
              "      <td>Democrats</td>\n",
              "      <td>0.814227</td>\n",
              "    </tr>\n",
              "    <tr>\n",
              "      <th>7</th>\n",
              "      <td>nicaraguan_aid</td>\n",
              "      <td>0.778591</td>\n",
              "      <td>0.823970</td>\n",
              "      <td>Democrats</td>\n",
              "      <td>0.869349</td>\n",
              "    </tr>\n",
              "    <tr>\n",
              "      <th>8</th>\n",
              "      <td>mx_missile</td>\n",
              "      <td>0.689234</td>\n",
              "      <td>0.739700</td>\n",
              "      <td>Democrats</td>\n",
              "      <td>0.790167</td>\n",
              "    </tr>\n",
              "    <tr>\n",
              "      <th>9</th>\n",
              "      <td>immigration</td>\n",
              "      <td>0.412099</td>\n",
              "      <td>0.471910</td>\n",
              "      <td>Democrats</td>\n",
              "      <td>0.531721</td>\n",
              "    </tr>\n",
              "    <tr>\n",
              "      <th>10</th>\n",
              "      <td>synfuels_cutback</td>\n",
              "      <td>0.446633</td>\n",
              "      <td>0.505618</td>\n",
              "      <td>Democrats</td>\n",
              "      <td>0.564603</td>\n",
              "    </tr>\n",
              "    <tr>\n",
              "      <th>11</th>\n",
              "      <td>education_spending</td>\n",
              "      <td>0.126152</td>\n",
              "      <td>0.168539</td>\n",
              "      <td>Democrats</td>\n",
              "      <td>0.210926</td>\n",
              "    </tr>\n",
              "    <tr>\n",
              "      <th>12</th>\n",
              "      <td>superfund_lawsuit</td>\n",
              "      <td>0.247977</td>\n",
              "      <td>0.301498</td>\n",
              "      <td>Democrats</td>\n",
              "      <td>0.355019</td>\n",
              "    </tr>\n",
              "    <tr>\n",
              "      <th>13</th>\n",
              "      <td>crime</td>\n",
              "      <td>0.299201</td>\n",
              "      <td>0.355805</td>\n",
              "      <td>Democrats</td>\n",
              "      <td>0.412409</td>\n",
              "    </tr>\n",
              "    <tr>\n",
              "      <th>14</th>\n",
              "      <td>duty_free_exports</td>\n",
              "      <td>0.572806</td>\n",
              "      <td>0.629213</td>\n",
              "      <td>Democrats</td>\n",
              "      <td>0.685621</td>\n",
              "    </tr>\n",
              "    <tr>\n",
              "      <th>15</th>\n",
              "      <td>s_africa_export</td>\n",
              "      <td>0.766861</td>\n",
              "      <td>0.801498</td>\n",
              "      <td>Democrats</td>\n",
              "      <td>0.836135</td>\n",
              "    </tr>\n",
              "    <tr>\n",
              "      <th>16</th>\n",
              "      <td>handicap</td>\n",
              "      <td>0.133976</td>\n",
              "      <td>0.193452</td>\n",
              "      <td>Republicans</td>\n",
              "      <td>0.252929</td>\n",
              "    </tr>\n",
              "    <tr>\n",
              "      <th>17</th>\n",
              "      <td>water_cost_share</td>\n",
              "      <td>0.434262</td>\n",
              "      <td>0.505952</td>\n",
              "      <td>Republicans</td>\n",
              "      <td>0.577643</td>\n",
              "    </tr>\n",
              "    <tr>\n",
              "      <th>18</th>\n",
              "      <td>budget_resolution</td>\n",
              "      <td>0.090713</td>\n",
              "      <td>0.142857</td>\n",
              "      <td>Republicans</td>\n",
              "      <td>0.195001</td>\n",
              "    </tr>\n",
              "    <tr>\n",
              "      <th>19</th>\n",
              "      <td>physician_fee_freeze</td>\n",
              "      <td>0.959881</td>\n",
              "      <td>0.979167</td>\n",
              "      <td>Republicans</td>\n",
              "      <td>0.998452</td>\n",
              "    </tr>\n",
              "    <tr>\n",
              "      <th>20</th>\n",
              "      <td>el_savador_aid</td>\n",
              "      <td>0.909674</td>\n",
              "      <td>0.943452</td>\n",
              "      <td>Republicans</td>\n",
              "      <td>0.977231</td>\n",
              "    </tr>\n",
              "    <tr>\n",
              "      <th>21</th>\n",
              "      <td>religious_groups_schools</td>\n",
              "      <td>0.846346</td>\n",
              "      <td>0.892857</td>\n",
              "      <td>Republicans</td>\n",
              "      <td>0.939368</td>\n",
              "    </tr>\n",
              "    <tr>\n",
              "      <th>22</th>\n",
              "      <td>anti_satellite_test_ban</td>\n",
              "      <td>0.185441</td>\n",
              "      <td>0.250000</td>\n",
              "      <td>Republicans</td>\n",
              "      <td>0.314559</td>\n",
              "    </tr>\n",
              "    <tr>\n",
              "      <th>23</th>\n",
              "      <td>nicaraguan_aid</td>\n",
              "      <td>0.120854</td>\n",
              "      <td>0.175595</td>\n",
              "      <td>Republicans</td>\n",
              "      <td>0.230337</td>\n",
              "    </tr>\n",
              "    <tr>\n",
              "      <th>24</th>\n",
              "      <td>mx_missile</td>\n",
              "      <td>0.073072</td>\n",
              "      <td>0.122024</td>\n",
              "      <td>Republicans</td>\n",
              "      <td>0.170976</td>\n",
              "    </tr>\n",
              "    <tr>\n",
              "      <th>25</th>\n",
              "      <td>immigration</td>\n",
              "      <td>0.481340</td>\n",
              "      <td>0.556548</td>\n",
              "      <td>Republicans</td>\n",
              "      <td>0.631755</td>\n",
              "    </tr>\n",
              "    <tr>\n",
              "      <th>26</th>\n",
              "      <td>synfuels_cutback</td>\n",
              "      <td>0.099898</td>\n",
              "      <td>0.151786</td>\n",
              "      <td>Republicans</td>\n",
              "      <td>0.203673</td>\n",
              "    </tr>\n",
              "    <tr>\n",
              "      <th>27</th>\n",
              "      <td>education_spending</td>\n",
              "      <td>0.790790</td>\n",
              "      <td>0.842262</td>\n",
              "      <td>Republicans</td>\n",
              "      <td>0.893734</td>\n",
              "    </tr>\n",
              "    <tr>\n",
              "      <th>28</th>\n",
              "      <td>superfund_lawsuit</td>\n",
              "      <td>0.786362</td>\n",
              "      <td>0.839286</td>\n",
              "      <td>Republicans</td>\n",
              "      <td>0.892209</td>\n",
              "    </tr>\n",
              "    <tr>\n",
              "      <th>29</th>\n",
              "      <td>crime</td>\n",
              "      <td>0.936310</td>\n",
              "      <td>0.961310</td>\n",
              "      <td>Republicans</td>\n",
              "      <td>0.986309</td>\n",
              "    </tr>\n",
              "    <tr>\n",
              "      <th>30</th>\n",
              "      <td>duty_free_exports</td>\n",
              "      <td>0.073981</td>\n",
              "      <td>0.119048</td>\n",
              "      <td>Republicans</td>\n",
              "      <td>0.164114</td>\n",
              "    </tr>\n",
              "    <tr>\n",
              "      <th>31</th>\n",
              "      <td>s_africa_export</td>\n",
              "      <td>0.568836</td>\n",
              "      <td>0.636905</td>\n",
              "      <td>Republicans</td>\n",
              "      <td>0.704974</td>\n",
              "    </tr>\n",
              "  </tbody>\n",
              "</table>\n",
              "</div>"
            ],
            "text/plain": [
              "                       issue     lower      mean        party     upper\n",
              "0                   handicap  0.543058  0.601124    Democrats  0.659189\n",
              "1           water_cost_share  0.444765  0.501873    Democrats  0.558981\n",
              "2          budget_resolution  0.840034  0.878277    Democrats  0.916520\n",
              "3       physician_fee_freeze  0.039006  0.067416    Democrats  0.095825\n",
              "4             el_savador_aid  0.179422  0.228464    Democrats  0.277507\n",
              "5   religious_groups_schools  0.418255  0.477528    Democrats  0.536801\n",
              "6    anti_satellite_test_ban  0.713863  0.764045    Democrats  0.814227\n",
              "7             nicaraguan_aid  0.778591  0.823970    Democrats  0.869349\n",
              "8                 mx_missile  0.689234  0.739700    Democrats  0.790167\n",
              "9                immigration  0.412099  0.471910    Democrats  0.531721\n",
              "10          synfuels_cutback  0.446633  0.505618    Democrats  0.564603\n",
              "11        education_spending  0.126152  0.168539    Democrats  0.210926\n",
              "12         superfund_lawsuit  0.247977  0.301498    Democrats  0.355019\n",
              "13                     crime  0.299201  0.355805    Democrats  0.412409\n",
              "14         duty_free_exports  0.572806  0.629213    Democrats  0.685621\n",
              "15           s_africa_export  0.766861  0.801498    Democrats  0.836135\n",
              "16                  handicap  0.133976  0.193452  Republicans  0.252929\n",
              "17          water_cost_share  0.434262  0.505952  Republicans  0.577643\n",
              "18         budget_resolution  0.090713  0.142857  Republicans  0.195001\n",
              "19      physician_fee_freeze  0.959881  0.979167  Republicans  0.998452\n",
              "20            el_savador_aid  0.909674  0.943452  Republicans  0.977231\n",
              "21  religious_groups_schools  0.846346  0.892857  Republicans  0.939368\n",
              "22   anti_satellite_test_ban  0.185441  0.250000  Republicans  0.314559\n",
              "23            nicaraguan_aid  0.120854  0.175595  Republicans  0.230337\n",
              "24                mx_missile  0.073072  0.122024  Republicans  0.170976\n",
              "25               immigration  0.481340  0.556548  Republicans  0.631755\n",
              "26          synfuels_cutback  0.099898  0.151786  Republicans  0.203673\n",
              "27        education_spending  0.790790  0.842262  Republicans  0.893734\n",
              "28         superfund_lawsuit  0.786362  0.839286  Republicans  0.892209\n",
              "29                     crime  0.936310  0.961310  Republicans  0.986309\n",
              "30         duty_free_exports  0.073981  0.119048  Republicans  0.164114\n",
              "31           s_africa_export  0.568836  0.636905  Republicans  0.704974"
            ]
          },
          "metadata": {
            "tags": []
          },
          "execution_count": 18
        }
      ]
    },
    {
      "metadata": {
        "id": "QZ38KV8XoG_w",
        "colab_type": "code",
        "colab": {}
      },
      "cell_type": "code",
      "source": [
        "#!pip install --upgrade seaborn"
      ],
      "execution_count": 0,
      "outputs": []
    },
    {
      "metadata": {
        "id": "EfUoUOXW3VY_",
        "colab_type": "code",
        "colab": {}
      },
      "cell_type": "code",
      "source": [
        "import seaborn as sns\n",
        "import matplotlib.pyplot as plt\n",
        "\n",
        "\n",
        "\n"
      ],
      "execution_count": 0,
      "outputs": []
    },
    {
      "metadata": {
        "id": "D4mk53DC-e4U",
        "colab_type": "code",
        "colab": {
          "base_uri": "https://localhost:8080/",
          "height": 204
        },
        "outputId": "4640764a-3653-40e4-c889-96c731e03bb3"
      },
      "cell_type": "code",
      "source": [
        "db = pd.melt(da,id_vars=['party','issue'], var_name='statistic')\n",
        "db.head()"
      ],
      "execution_count": 36,
      "outputs": [
        {
          "output_type": "execute_result",
          "data": {
            "text/html": [
              "<div>\n",
              "<style scoped>\n",
              "    .dataframe tbody tr th:only-of-type {\n",
              "        vertical-align: middle;\n",
              "    }\n",
              "\n",
              "    .dataframe tbody tr th {\n",
              "        vertical-align: top;\n",
              "    }\n",
              "\n",
              "    .dataframe thead th {\n",
              "        text-align: right;\n",
              "    }\n",
              "</style>\n",
              "<table border=\"1\" class=\"dataframe\">\n",
              "  <thead>\n",
              "    <tr style=\"text-align: right;\">\n",
              "      <th></th>\n",
              "      <th>party</th>\n",
              "      <th>issue</th>\n",
              "      <th>statistic</th>\n",
              "      <th>value</th>\n",
              "    </tr>\n",
              "  </thead>\n",
              "  <tbody>\n",
              "    <tr>\n",
              "      <th>0</th>\n",
              "      <td>Democrats</td>\n",
              "      <td>handicap</td>\n",
              "      <td>lower</td>\n",
              "      <td>0.543058</td>\n",
              "    </tr>\n",
              "    <tr>\n",
              "      <th>1</th>\n",
              "      <td>Democrats</td>\n",
              "      <td>water_cost_share</td>\n",
              "      <td>lower</td>\n",
              "      <td>0.444765</td>\n",
              "    </tr>\n",
              "    <tr>\n",
              "      <th>2</th>\n",
              "      <td>Democrats</td>\n",
              "      <td>budget_resolution</td>\n",
              "      <td>lower</td>\n",
              "      <td>0.840034</td>\n",
              "    </tr>\n",
              "    <tr>\n",
              "      <th>3</th>\n",
              "      <td>Democrats</td>\n",
              "      <td>physician_fee_freeze</td>\n",
              "      <td>lower</td>\n",
              "      <td>0.039006</td>\n",
              "    </tr>\n",
              "    <tr>\n",
              "      <th>4</th>\n",
              "      <td>Democrats</td>\n",
              "      <td>el_savador_aid</td>\n",
              "      <td>lower</td>\n",
              "      <td>0.179422</td>\n",
              "    </tr>\n",
              "  </tbody>\n",
              "</table>\n",
              "</div>"
            ],
            "text/plain": [
              "       party                 issue statistic     value\n",
              "0  Democrats              handicap     lower  0.543058\n",
              "1  Democrats      water_cost_share     lower  0.444765\n",
              "2  Democrats     budget_resolution     lower  0.840034\n",
              "3  Democrats  physician_fee_freeze     lower  0.039006\n",
              "4  Democrats        el_savador_aid     lower  0.179422"
            ]
          },
          "metadata": {
            "tags": []
          },
          "execution_count": 36
        }
      ]
    },
    {
      "metadata": {
        "id": "XfVNpbZq_T3K",
        "colab_type": "code",
        "colab": {
          "base_uri": "https://localhost:8080/",
          "height": 308
        },
        "outputId": "6b9bd4bf-e62b-44fb-8b5f-e3ed2cc7cc3a"
      },
      "cell_type": "code",
      "source": [
        "sns.set(style='whitegrid')\n",
        "\n",
        "f, ax = plt.subplots()\n",
        "sns.despine(bottom=True, left=True)\n",
        "\n",
        "sns.stripplot(x='value',y='issue',hue='party',\n",
        "             data=db)"
      ],
      "execution_count": 41,
      "outputs": [
        {
          "output_type": "execute_result",
          "data": {
            "text/plain": [
              "<matplotlib.axes._subplots.AxesSubplot at 0x7f0d6c2674e0>"
            ]
          },
          "metadata": {
            "tags": []
          },
          "execution_count": 41
        },
        {
          "output_type": "display_data",
          "data": {
            "image/png": "[encoded data removed]",
            "text/plain": [
              "<Figure size 432x288 with 1 Axes>"
            ]
          },
          "metadata": {
            "tags": []
          }
        }
      ]
    },
    {
      "metadata": {
        "id": "Rqr3ohDdA4pY",
        "colab_type": "text"
      },
      "cell_type": "markdown",
      "source": [
        "Definitely not the best plot but it's a start. "
      ]
    },
    {
      "metadata": {
        "id": "g57k9qaz8yIX",
        "colab_type": "code",
        "colab": {
          "base_uri": "https://localhost:8080/",
          "height": 204
        },
        "outputId": "e05ed680-a680-45ef-b3e6-2859ac32fa27"
      },
      "cell_type": "code",
      "source": [
        "iris = sns.load_dataset('iris')\n",
        "iris.head()"
      ],
      "execution_count": 34,
      "outputs": [
        {
          "output_type": "execute_result",
          "data": {
            "text/html": [
              "<div>\n",
              "<style scoped>\n",
              "    .dataframe tbody tr th:only-of-type {\n",
              "        vertical-align: middle;\n",
              "    }\n",
              "\n",
              "    .dataframe tbody tr th {\n",
              "        vertical-align: top;\n",
              "    }\n",
              "\n",
              "    .dataframe thead th {\n",
              "        text-align: right;\n",
              "    }\n",
              "</style>\n",
              "<table border=\"1\" class=\"dataframe\">\n",
              "  <thead>\n",
              "    <tr style=\"text-align: right;\">\n",
              "      <th></th>\n",
              "      <th>sepal_length</th>\n",
              "      <th>sepal_width</th>\n",
              "      <th>petal_length</th>\n",
              "      <th>petal_width</th>\n",
              "      <th>species</th>\n",
              "    </tr>\n",
              "  </thead>\n",
              "  <tbody>\n",
              "    <tr>\n",
              "      <th>0</th>\n",
              "      <td>5.1</td>\n",
              "      <td>3.5</td>\n",
              "      <td>1.4</td>\n",
              "      <td>0.2</td>\n",
              "      <td>setosa</td>\n",
              "    </tr>\n",
              "    <tr>\n",
              "      <th>1</th>\n",
              "      <td>4.9</td>\n",
              "      <td>3.0</td>\n",
              "      <td>1.4</td>\n",
              "      <td>0.2</td>\n",
              "      <td>setosa</td>\n",
              "    </tr>\n",
              "    <tr>\n",
              "      <th>2</th>\n",
              "      <td>4.7</td>\n",
              "      <td>3.2</td>\n",
              "      <td>1.3</td>\n",
              "      <td>0.2</td>\n",
              "      <td>setosa</td>\n",
              "    </tr>\n",
              "    <tr>\n",
              "      <th>3</th>\n",
              "      <td>4.6</td>\n",
              "      <td>3.1</td>\n",
              "      <td>1.5</td>\n",
              "      <td>0.2</td>\n",
              "      <td>setosa</td>\n",
              "    </tr>\n",
              "    <tr>\n",
              "      <th>4</th>\n",
              "      <td>5.0</td>\n",
              "      <td>3.6</td>\n",
              "      <td>1.4</td>\n",
              "      <td>0.2</td>\n",
              "      <td>setosa</td>\n",
              "    </tr>\n",
              "  </tbody>\n",
              "</table>\n",
              "</div>"
            ],
            "text/plain": [
              "   sepal_length  sepal_width  petal_length  petal_width species\n",
              "0           5.1          3.5           1.4          0.2  setosa\n",
              "1           4.9          3.0           1.4          0.2  setosa\n",
              "2           4.7          3.2           1.3          0.2  setosa\n",
              "3           4.6          3.1           1.5          0.2  setosa\n",
              "4           5.0          3.6           1.4          0.2  setosa"
            ]
          },
          "metadata": {
            "tags": []
          },
          "execution_count": 34
        }
      ]
    },
    {
      "metadata": {
        "id": "bW4rs58b83t-",
        "colab_type": "code",
        "colab": {
          "base_uri": "https://localhost:8080/",
          "height": 204
        },
        "outputId": "7372c56b-1fd5-4f2d-bb68-f12ea68c4b91"
      },
      "cell_type": "code",
      "source": [
        "iris = pd.melt(iris, \"species\", var_name=\"measurement\")\n",
        "iris.head()"
      ],
      "execution_count": 35,
      "outputs": [
        {
          "output_type": "execute_result",
          "data": {
            "text/html": [
              "<div>\n",
              "<style scoped>\n",
              "    .dataframe tbody tr th:only-of-type {\n",
              "        vertical-align: middle;\n",
              "    }\n",
              "\n",
              "    .dataframe tbody tr th {\n",
              "        vertical-align: top;\n",
              "    }\n",
              "\n",
              "    .dataframe thead th {\n",
              "        text-align: right;\n",
              "    }\n",
              "</style>\n",
              "<table border=\"1\" class=\"dataframe\">\n",
              "  <thead>\n",
              "    <tr style=\"text-align: right;\">\n",
              "      <th></th>\n",
              "      <th>species</th>\n",
              "      <th>measurement</th>\n",
              "      <th>value</th>\n",
              "    </tr>\n",
              "  </thead>\n",
              "  <tbody>\n",
              "    <tr>\n",
              "      <th>0</th>\n",
              "      <td>setosa</td>\n",
              "      <td>sepal_length</td>\n",
              "      <td>5.1</td>\n",
              "    </tr>\n",
              "    <tr>\n",
              "      <th>1</th>\n",
              "      <td>setosa</td>\n",
              "      <td>sepal_length</td>\n",
              "      <td>4.9</td>\n",
              "    </tr>\n",
              "    <tr>\n",
              "      <th>2</th>\n",
              "      <td>setosa</td>\n",
              "      <td>sepal_length</td>\n",
              "      <td>4.7</td>\n",
              "    </tr>\n",
              "    <tr>\n",
              "      <th>3</th>\n",
              "      <td>setosa</td>\n",
              "      <td>sepal_length</td>\n",
              "      <td>4.6</td>\n",
              "    </tr>\n",
              "    <tr>\n",
              "      <th>4</th>\n",
              "      <td>setosa</td>\n",
              "      <td>sepal_length</td>\n",
              "      <td>5.0</td>\n",
              "    </tr>\n",
              "  </tbody>\n",
              "</table>\n",
              "</div>"
            ],
            "text/plain": [
              "  species   measurement  value\n",
              "0  setosa  sepal_length    5.1\n",
              "1  setosa  sepal_length    4.9\n",
              "2  setosa  sepal_length    4.7\n",
              "3  setosa  sepal_length    4.6\n",
              "4  setosa  sepal_length    5.0"
            ]
          },
          "metadata": {
            "tags": []
          },
          "execution_count": 35
        }
      ]
    },
    {
      "metadata": {
        "id": "yHTDBGH29DU0",
        "colab_type": "code",
        "colab": {}
      },
      "cell_type": "code",
      "source": [
        ""
      ],
      "execution_count": 0,
      "outputs": []
    }
  ]
}