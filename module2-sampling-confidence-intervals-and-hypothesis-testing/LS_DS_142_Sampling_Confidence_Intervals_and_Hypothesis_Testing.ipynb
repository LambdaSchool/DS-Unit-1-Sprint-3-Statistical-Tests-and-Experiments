{
  "nbformat": 4,
  "nbformat_minor": 0,
  "metadata": {
    "colab": {
      "name": "LS DS 142 Sampling Confidence Intervals and Hypothesis Testing.ipynb",
      "version": "0.3.2",
      "provenance": [],
      "collapsed_sections": [],
      "include_colab_link": true
    },
    "kernelspec": {
      "name": "python3",
      "display_name": "Python 3"
    }
  },
  "cells": [
    {
      "cell_type": "markdown",
      "metadata": {
        "id": "view-in-github",
        "colab_type": "text"
      },
      "source": [
        "<a href=\"https://colab.research.google.com/github/invegat/DS-Unit-1-Sprint-4-Statistical-Tests-and-Experiments/blob/master/module2-sampling-confidence-intervals-and-hypothesis-testing/LS_DS_142_Sampling_Confidence_Intervals_and_Hypothesis_Testing.ipynb\" target=\"_parent\"><img src=\"https://colab.research.google.com/assets/colab-badge.svg\" alt=\"Open In Colab\"/></a>"
      ]
    },
    {
      "metadata": {
        "id": "838Dmw1kM2LK",
        "colab_type": "text"
      },
      "cell_type": "markdown",
      "source": [
        "# Lambda School Data Science Module 142\n",
        "## Sampling, Confidence Intervals, and Hypothesis Testing"
      ]
    },
    {
      "metadata": {
        "id": "dbcPKIo5M6Ny",
        "colab_type": "text"
      },
      "cell_type": "markdown",
      "source": [
        "## Prepare - examine other available hypothesis tests\n",
        "\n",
        "If you had to pick a single hypothesis test in your toolbox, t-test would probably be the best choice - but the good news is you don't have to pick just one! Here's some of the others to be aware of:"
      ]
    },
    {
      "metadata": {
        "id": "tlBel8j9M6tB",
        "colab_type": "code",
        "outputId": "c9b2f3bd-ca9d-479d-ea13-aa273a35e1cd",
        "colab": {
          "base_uri": "https://localhost:8080/",
          "height": 192
        }
      },
      "cell_type": "code",
      "source": [
        "import numpy as np\n",
        "from scipy.stats import chisquare  # One-way chi square test\n",
        "\n",
        "# Chi square can take any crosstab/table and test the independence of rows/cols\n",
        "# The null hypothesis is that the rows/cols are independent -> low chi square\n",
        "# The alternative is that there is a dependence -> high chi square\n",
        "# Be aware! Chi square does *not* tell you direction/causation\n",
        "\n",
        "ind_obs = np.array([[1, 1], [2, 2]]).T\n",
        "print(ind_obs)\n",
        "print(chisquare(ind_obs, axis=None))\n",
        "\n",
        "dep_obs = np.array([[16, 18, 16, 14, 12, 12], [32, 24, 16, 28, 20, 24]]).T\n",
        "print(dep_obs)\n",
        "print(chisquare(dep_obs, axis=None))"
      ],
      "execution_count": 2,
      "outputs": [
        {
          "output_type": "stream",
          "text": [
            "[[1 2]\n",
            " [1 2]]\n",
            "Power_divergenceResult(statistic=0.6666666666666666, pvalue=0.8810148425137847)\n",
            "[[16 32]\n",
            " [18 24]\n",
            " [16 16]\n",
            " [14 28]\n",
            " [12 20]\n",
            " [12 24]]\n",
            "Power_divergenceResult(statistic=23.31034482758621, pvalue=0.015975692534127565)\n"
          ],
          "name": "stdout"
        }
      ]
    },
    {
      "metadata": {
        "id": "nN0BdNiDPxbk",
        "colab_type": "code",
        "outputId": "4567c6a2-80ed-456f-d033-7cad68e744fb",
        "colab": {
          "base_uri": "https://localhost:8080/",
          "height": 34
        }
      },
      "cell_type": "code",
      "source": [
        "# Distribution tests:\n",
        "# We often assume that something is normal, but it can be important to *check*\n",
        "\n",
        "# For example, later on with predictive modeling, a typical assumption is that\n",
        "# residuals (prediction errors) are normal - checking is a good diagnostic\n",
        "\n",
        "from scipy.stats import normaltest\n",
        "# Poisson models arrival times and is related to the binomial (coinflip)\n",
        "sample = np.random.poisson(5, 1000)\n",
        "print(normaltest(sample))  # Pretty clearly not normal"
      ],
      "execution_count": 3,
      "outputs": [
        {
          "output_type": "stream",
          "text": [
            "NormaltestResult(statistic=61.464005171601755, pvalue=4.5005009649107246e-14)\n"
          ],
          "name": "stdout"
        }
      ]
    },
    {
      "metadata": {
        "id": "P5t0WhkDReFO",
        "colab_type": "code",
        "outputId": "ba4cf08e-5385-450e-df89-597f6c169a6b",
        "colab": {
          "base_uri": "https://localhost:8080/",
          "height": 52
        }
      },
      "cell_type": "code",
      "source": [
        "# Kruskal-Wallis H-test - compare the median rank between 2+ groups\n",
        "# Can be applied to ranking decisions/outcomes/recommendations\n",
        "# The underlying math comes from chi-square distribution, and is best for n>5\n",
        "from scipy.stats import kruskal\n",
        "\n",
        "x1 = [1, 3, 5, 7, 9]\n",
        "y1 = [2, 4, 6, 8, 10]\n",
        "print(kruskal(x1, y1))  # x1 is a little better, but not \"significantly\" so\n",
        "\n",
        "x2 = [1, 1, 1]\n",
        "y2 = [2, 2, 2]\n",
        "z = [2, 2]  # Hey, a third group, and of different size!\n",
        "print(kruskal(x2, y2, z))  # x clearly dominates"
      ],
      "execution_count": 4,
      "outputs": [
        {
          "output_type": "stream",
          "text": [
            "KruskalResult(statistic=0.2727272727272734, pvalue=0.6015081344405895)\n",
            "KruskalResult(statistic=7.0, pvalue=0.0301973834223185)\n"
          ],
          "name": "stdout"
        }
      ]
    },
    {
      "metadata": {
        "id": "7pT3IP36Rh0b",
        "colab_type": "text"
      },
      "cell_type": "markdown",
      "source": [
        "And there's many more! `scipy.stats` is fairly comprehensive, though there are even more available if you delve into the extended world of statistics packages. As tests get increasingly obscure and specialized, the importance of knowing them by heart becomes small - but being able to look them up and figure them out when they *are* relevant is still important."
      ]
    },
    {
      "metadata": {
        "id": "L1_KRuHCM7BW",
        "colab_type": "text"
      },
      "cell_type": "markdown",
      "source": [
        "## Live Lecture - let's explore some more of scipy.stats"
      ]
    },
    {
      "metadata": {
        "id": "qW6k0dorM7Lz",
        "colab_type": "code",
        "colab": {}
      },
      "cell_type": "code",
      "source": [
        "# Taking requests! Come to lecture with a topic or problem and we'll try it."
      ],
      "execution_count": 0,
      "outputs": []
    },
    {
      "metadata": {
        "id": "11OzdxWTM7UR",
        "colab_type": "text"
      },
      "cell_type": "markdown",
      "source": [
        "## Assignment - Build a confidence interval\n",
        "\n",
        "A confidence interval refers to a neighborhood around some point estimate, the size of which is determined by the desired p-value. For instance, we might say that 52% of Americans prefer tacos to burritos, with a 95% confidence interval of +/- 5%.\n",
        "\n",
        "52% (0.52) is the point estimate, and +/- 5% (the interval $[0.47, 0.57]$) is the confidence interval. \"95% confidence\" means a p-value $\\leq 1 - 0.95 = 0.05$.\n",
        "\n",
        "In this case, the confidence interval includes $0.5$ - which is the natural null hypothesis (that half of Americans prefer tacos and half burritos, thus there is no clear favorite). So in this case, we could use the confidence interval to report that we've failed to reject the null hypothesis.\n",
        "\n",
        "But providing the full analysis with a confidence interval, including a graphical representation of it, can be a helpful and powerful way to tell your story. Done well, it is also more intuitive to a layperson than simply saying \"fail to reject the null hypothesis\" - it shows that in fact the data does *not* give a single clear result (the point estimate) but a whole range of possibilities.\n",
        "\n",
        "How is a confidence interval built, and how should it be interpreted? It does *not* mean that 95% of the data lies in that interval - instead, the frequentist interpretation is \"if we were to repeat this experiment 100 times, we would expect the average result to lie in this interval ~95 times.\"\n",
        "\n",
        "For a 95% confidence interval and a normal(-ish) distribution, you can simply remember that +/-2 standard deviations contains 95% of the probability mass, and so the 95% confidence interval based on a given sample is centered at the mean (point estimate) and has a range of +/- 2 (or technically 1.96) standard deviations.\n",
        "\n",
        "Different distributions/assumptions (90% confidence, 99% confidence) will require different math, but the overall process and interpretation (with a frequentist approach) will be the same.\n",
        "\n",
        "Your assignment - using the data from the prior module ([congressional voting records](https://archive.ics.uci.edu/ml/datasets/Congressional+Voting+Records)):\n",
        "\n",
        "1. Generate and numerically represent a confidence interval\n",
        "2. Graphically (with a plot) represent the confidence interval\n",
        "3. Interpret the confidence interval - what does it tell you about the data and its distribution?\n",
        "\n",
        "Stretch goals:\n",
        "\n",
        "1. Write a summary of your findings, mixing prose and math/code/results. *Note* - yes, this is by definition a political topic. It is challenging but important to keep your writing voice *neutral* and stick to the facts of the data. Data science often involves considering controversial issues, so it's important to be sensitive about them (especially if you want to publish).\n",
        "2. Apply the techniques you learned today to your project data or other data of your choice, and write/discuss your findings here."
      ]
    },
    {
      "metadata": {
        "id": "q4oaSSwicJ1G",
        "colab_type": "code",
        "outputId": "bce13fde-b8f9-460d-b62e-d78a84db071b",
        "colab": {
          "base_uri": "https://localhost:8080/",
          "height": 209
        }
      },
      "cell_type": "code",
      "source": [
        "# http://archive.ics.uci.edu/ml/datasets/Drug+Review+Dataset+%28Drugs.com%29#\n",
        "!wget http://archive.ics.uci.edu/ml/machine-learning-databases/00462/drugsCom_raw.zip\n"
      ],
      "execution_count": 6,
      "outputs": [
        {
          "output_type": "stream",
          "text": [
            "--2018-12-05 13:09:05--  http://archive.ics.uci.edu/ml/machine-learning-databases/00462/drugsCom_raw.zip\n",
            "Resolving archive.ics.uci.edu (archive.ics.uci.edu)... 128.195.10.249\n",
            "Connecting to archive.ics.uci.edu (archive.ics.uci.edu)|128.195.10.249|:80... connected.\n",
            "HTTP request sent, awaiting response... 200 OK\n",
            "Length: 42989872 (41M) [application/zip]\n",
            "Saving to: ‘drugsCom_raw.zip’\n",
            "\n",
            "drugsCom_raw.zip    100%[===================>]  41.00M  23.1MB/s    in 1.8s    \n",
            "\n",
            "2018-12-05 13:09:07 (23.1 MB/s) - ‘drugsCom_raw.zip’ saved [42989872/42989872]\n",
            "\n"
          ],
          "name": "stdout"
        }
      ]
    },
    {
      "metadata": {
        "id": "LR__9IITpCy4",
        "colab_type": "code",
        "outputId": "4555f133-19bd-40b1-d5da-6f75ccecb2cd",
        "colab": {
          "base_uri": "https://localhost:8080/",
          "height": 69
        }
      },
      "cell_type": "code",
      "source": [
        "!unzip drugsCom_raw.zip"
      ],
      "execution_count": 7,
      "outputs": [
        {
          "output_type": "stream",
          "text": [
            "Archive:  drugsCom_raw.zip\n",
            "  inflating: drugsComTest_raw.tsv    \n",
            "  inflating: drugsComTrain_raw.tsv   \n"
          ],
          "name": "stdout"
        }
      ]
    },
    {
      "metadata": {
        "id": "lKNbcCHfBHFf",
        "colab_type": "text"
      },
      "cell_type": "markdown",
      "source": [
        ""
      ]
    },
    {
      "metadata": {
        "id": "RWY6UxsGpB9y",
        "colab_type": "code",
        "outputId": "3bec8c75-58bc-453e-fa0e-4d1086c7aad8",
        "colab": {
          "base_uri": "https://localhost:8080/",
          "height": 204
        }
      },
      "cell_type": "code",
      "source": [
        "import pandas as pd\n",
        "sample_size = 10000\n",
        "df = pd.read_csv('drugsComTrain_raw.tsv', sep='\\t')\n",
        "#df = df[df.drugName.notnull() and df.condition.notnull() and df.rating.notnull()]\n",
        "df = df.dropna()\n",
        "df = df[~df.condition.str.contains('<')]\n",
        "# df.rating.apply(lambda rating: rating if rating < 10 else 10)\n",
        "#df = df.sample(n=sample_size).drop(['Unnamed: 0','review','date','usefulCount'], axis=1).reindex(range(1,sample_size), axis=0)\n",
        "df = df.sample(n=sample_size).drop(['Unnamed: 0','review','date','usefulCount'], axis=1)\n",
        "# df = df.drop(['Unnamed: 0','review','date','usefulCount'], axis=1)\n",
        "df.tail()\n",
        "# df.shape"
      ],
      "execution_count": 13,
      "outputs": [
        {
          "output_type": "execute_result",
          "data": {
            "text/html": [
              "<div>\n",
              "<style scoped>\n",
              "    .dataframe tbody tr th:only-of-type {\n",
              "        vertical-align: middle;\n",
              "    }\n",
              "\n",
              "    .dataframe tbody tr th {\n",
              "        vertical-align: top;\n",
              "    }\n",
              "\n",
              "    .dataframe thead th {\n",
              "        text-align: right;\n",
              "    }\n",
              "</style>\n",
              "<table border=\"1\" class=\"dataframe\">\n",
              "  <thead>\n",
              "    <tr style=\"text-align: right;\">\n",
              "      <th></th>\n",
              "      <th>drugName</th>\n",
              "      <th>condition</th>\n",
              "      <th>rating</th>\n",
              "    </tr>\n",
              "  </thead>\n",
              "  <tbody>\n",
              "    <tr>\n",
              "      <th>139425</th>\n",
              "      <td>Polyethylene glycol 3350</td>\n",
              "      <td>Constipation</td>\n",
              "      <td>2.0</td>\n",
              "    </tr>\n",
              "    <tr>\n",
              "      <th>54508</th>\n",
              "      <td>Daliresp</td>\n",
              "      <td>COPD, Maintenance</td>\n",
              "      <td>10.0</td>\n",
              "    </tr>\n",
              "    <tr>\n",
              "      <th>105900</th>\n",
              "      <td>Prolia</td>\n",
              "      <td>Osteoporosis</td>\n",
              "      <td>1.0</td>\n",
              "    </tr>\n",
              "    <tr>\n",
              "      <th>1300</th>\n",
              "      <td>Clozapine</td>\n",
              "      <td>Schizophrenia</td>\n",
              "      <td>8.0</td>\n",
              "    </tr>\n",
              "    <tr>\n",
              "      <th>11024</th>\n",
              "      <td>Revatio</td>\n",
              "      <td>Pulmonary Hypertension</td>\n",
              "      <td>9.0</td>\n",
              "    </tr>\n",
              "  </tbody>\n",
              "</table>\n",
              "</div>"
            ],
            "text/plain": [
              "                        drugName               condition  rating\n",
              "139425  Polyethylene glycol 3350            Constipation     2.0\n",
              "54508                   Daliresp       COPD, Maintenance    10.0\n",
              "105900                    Prolia            Osteoporosis     1.0\n",
              "1300                   Clozapine           Schizophrenia     8.0\n",
              "11024                    Revatio  Pulmonary Hypertension     9.0"
            ]
          },
          "metadata": {
            "tags": []
          },
          "execution_count": 13
        }
      ]
    },
    {
      "metadata": {
        "id": "FDKTGHFtqaN1",
        "colab_type": "code",
        "colab": {}
      },
      "cell_type": "code",
      "source": [
        "# Confidence intervals!\n",
        "# Similar to hypothesis testing, but centered at sample mean\n",
        "# Better than reporting the \"point estimate\" (sample mean)\n",
        "# Why? Because point estimates aren't always perfect\n",
        "\n",
        "import numpy as np\n",
        "from scipy import stats\n",
        "\n",
        "def confidence_interval(data, confidence=0.95):\n",
        "  \"\"\"\n",
        "  Calculate a confidence interval around a sample mean for given data.\n",
        "  Using t-distribution and two-tailed test, default 95% confidence. \n",
        "  \n",
        "  Arguments:\n",
        "    data - iterable (list or numpy array) of sample observations\n",
        "    confidence - level of confidence for the interval\n",
        "  \n",
        "  Returns:\n",
        "    tuple of (mean, lower bound, upper bound)\n",
        "  \"\"\"\n",
        "  data = np.array(data)\n",
        "  mean = np.mean(data)\n",
        "  n = len(data)\n",
        "  stderr = stats.sem(data)\n",
        "  interval = stderr * stats.t.ppf((1 + confidence) / 2., n - 1)\n",
        "  return (mean, mean - interval, mean + interval)\n",
        "\n",
        "def report_confidence_interval(confidence_interval):\n",
        "  \"\"\"\n",
        "  Return a string with a pretty report of a confidence interval.\n",
        "  \n",
        "  Arguments:\n",
        "    confidence_interval - tuple of (mean, lower bound, upper bound)\n",
        "  \n",
        "  Returns:\n",
        "    None, but prints to screen the report\n",
        "  \"\"\"\n",
        "  #print('Mean: {}'.format(confidence_interval[0]))\n",
        "  #print('Lower bound: {}'.format(confidence_interval[1]))\n",
        "  #print('Upper bound: {}'.format(confidence_interval[2]))\n",
        "  s = \"our mean lies in the interval ]{:.2}, {:.2}[\".format(\n",
        "      confidence_interval[1], confidence_interval[2])\n",
        "  s = f\"our mean {confidence_interval[0]:.2f} lies in the interval {confidence_interval[1]:.2f} - {confidence_interval[2]:.2f}\"\n",
        "  return s"
      ],
      "execution_count": 0,
      "outputs": []
    },
    {
      "metadata": {
        "id": "lBbfb8B6t2TO",
        "colab_type": "code",
        "colab": {}
      },
      "cell_type": "code",
      "source": [
        "minLen = 10\n",
        "import matplotlib.pyplot as plt\n",
        "def printChart(c,data):\n",
        "\n",
        "  df = pd.DataFrame.from_dict(data)\n",
        "  print(df.head())\n",
        "  n = len(data)\n",
        "  data_order =['min_stars', 'low', 'mean','high', 'max_stars']\n",
        "  colors = [\"b\",\"g\",\"black\",\"g\",\"b\"]\n",
        "#   values = np.array([[d[name] for name in data_order] for d in data])\n",
        "  order = np.array(data_order)\n",
        "  ind = np.arange(N)    # the x locations for the groups\n",
        "  bottom = np.zeros(n)\n",
        "  width = 0.4\n",
        "  for name,color in zip(data_order,colors):\n",
        "    value = np.array(df[name])\n",
        "    p1 = plt.bar(ind, value, width, color=color, bottom = bottom, label=name) \n",
        "    bottom = value\n",
        "    # print(f'name: {name} color: {color} value: {value}')\n",
        "\n",
        "\n",
        "#   plt.yticks(bottoms+0.4, [\"data %d\" % (t+1) for t in bottoms])\n",
        "#   plt.legend(loc=\"best\", bbox_to_anchor=(1.0, 1.00))\n",
        "#   plt.subplots_adjust(right=0.85)\n",
        "  plt.show()"
      ],
      "execution_count": 0,
      "outputs": []
    },
    {
      "metadata": {
        "id": "JiQUDLeZ14yN",
        "colab_type": "code",
        "outputId": "66766392-8b90-41a1-9f2b-8ef596625138",
        "colab": {
          "base_uri": "https://localhost:8080/",
          "height": 34
        }
      },
      "cell_type": "code",
      "source": [
        "df.shape"
      ],
      "execution_count": 17,
      "outputs": [
        {
          "output_type": "execute_result",
          "data": {
            "text/plain": [
              "(10000, 3)"
            ]
          },
          "metadata": {
            "tags": []
          },
          "execution_count": 17
        }
      ]
    },
    {
      "metadata": {
        "id": "-2Jdxh2qpJGS",
        "colab_type": "code",
        "outputId": "43e43658-8009-493a-96b3-41a77aad0c5d",
        "colab": {
          "base_uri": "https://localhost:8080/",
          "height": 238
        }
      },
      "cell_type": "code",
      "source": [
        "c_unique = df.condition.unique()\n",
        "condition_length = len(c_unique)\n",
        "x = 0\n",
        "y = 0\n",
        "for c in c_unique:\n",
        "  # print(c)\n",
        "  d_unique =  df[df.condition == c].drugName.unique()\n",
        "  drug_length = 0\n",
        "  drugs_used = []\n",
        "  cis = []\n",
        "  for d in d_unique:\n",
        "    cdf = df[(df.condition == c) & (df.drugName == d) ]['rating']\n",
        "    ci = None\n",
        "    lcdf = len(cdf)\n",
        "    if lcdf >= minLen:\n",
        "      ci = confidence_interval(cdf)\n",
        "      drugs_used.append(d)\n",
        "      cis.append({'drug': d, 'reviews_count': lcdf, 'min_stars': cdf.min(), 'max_stars': cdf.max(), 'mean': ci[0], 'low': ci[1], 'high': ci[2]  })\n",
        "      # print(f\"for condition {c} drug {d} 95% confidence interval {report_confidence_interval(ci)}\")\n",
        "  if len(cis) > 0:\n",
        "    printChart(c,cis)\n",
        "  y += 1\n",
        "    #plt.bar(np.arange(0,len(cdf)),cdf)\n",
        "    "
      ],
      "execution_count": 18,
      "outputs": [
        {
          "output_type": "error",
          "ename": "NameError",
          "evalue": "ignored",
          "traceback": [
            "\u001b[0;31m---------------------------------------------------------------------------\u001b[0m",
            "\u001b[0;31mNameError\u001b[0m                                 Traceback (most recent call last)",
            "\u001b[0;32m<ipython-input-18-fcd76197063c>\u001b[0m in \u001b[0;36m<module>\u001b[0;34m()\u001b[0m\n\u001b[1;32m     14\u001b[0m     \u001b[0mlcdf\u001b[0m \u001b[0;34m=\u001b[0m \u001b[0mlen\u001b[0m\u001b[0;34m(\u001b[0m\u001b[0mcdf\u001b[0m\u001b[0;34m)\u001b[0m\u001b[0;34m\u001b[0m\u001b[0;34m\u001b[0m\u001b[0m\n\u001b[1;32m     15\u001b[0m     \u001b[0;32mif\u001b[0m \u001b[0mlcdf\u001b[0m \u001b[0;34m>=\u001b[0m \u001b[0mminLen\u001b[0m\u001b[0;34m:\u001b[0m\u001b[0;34m\u001b[0m\u001b[0;34m\u001b[0m\u001b[0m\n\u001b[0;32m---> 16\u001b[0;31m       \u001b[0mci\u001b[0m \u001b[0;34m=\u001b[0m \u001b[0mconfidence_interval\u001b[0m\u001b[0;34m(\u001b[0m\u001b[0mcdf\u001b[0m\u001b[0;34m)\u001b[0m\u001b[0;34m\u001b[0m\u001b[0;34m\u001b[0m\u001b[0m\n\u001b[0m\u001b[1;32m     17\u001b[0m       \u001b[0mdrugs_used\u001b[0m\u001b[0;34m.\u001b[0m\u001b[0mappend\u001b[0m\u001b[0;34m(\u001b[0m\u001b[0md\u001b[0m\u001b[0;34m)\u001b[0m\u001b[0;34m\u001b[0m\u001b[0;34m\u001b[0m\u001b[0m\n\u001b[1;32m     18\u001b[0m       \u001b[0mcis\u001b[0m\u001b[0;34m.\u001b[0m\u001b[0mappend\u001b[0m\u001b[0;34m(\u001b[0m\u001b[0;34m{\u001b[0m\u001b[0;34m'drug'\u001b[0m\u001b[0;34m:\u001b[0m \u001b[0md\u001b[0m\u001b[0;34m,\u001b[0m \u001b[0;34m'reviews_count'\u001b[0m\u001b[0;34m:\u001b[0m \u001b[0mlcdf\u001b[0m\u001b[0;34m,\u001b[0m \u001b[0;34m'min_stars'\u001b[0m\u001b[0;34m:\u001b[0m \u001b[0mcdf\u001b[0m\u001b[0;34m.\u001b[0m\u001b[0mmin\u001b[0m\u001b[0;34m(\u001b[0m\u001b[0;34m)\u001b[0m\u001b[0;34m,\u001b[0m \u001b[0;34m'max_stars'\u001b[0m\u001b[0;34m:\u001b[0m \u001b[0mcdf\u001b[0m\u001b[0;34m.\u001b[0m\u001b[0mmax\u001b[0m\u001b[0;34m(\u001b[0m\u001b[0;34m)\u001b[0m\u001b[0;34m,\u001b[0m \u001b[0;34m'mean'\u001b[0m\u001b[0;34m:\u001b[0m \u001b[0mci\u001b[0m\u001b[0;34m[\u001b[0m\u001b[0;36m0\u001b[0m\u001b[0;34m]\u001b[0m\u001b[0;34m,\u001b[0m \u001b[0;34m'low'\u001b[0m\u001b[0;34m:\u001b[0m \u001b[0mci\u001b[0m\u001b[0;34m[\u001b[0m\u001b[0;36m1\u001b[0m\u001b[0;34m]\u001b[0m\u001b[0;34m,\u001b[0m \u001b[0;34m'high'\u001b[0m\u001b[0;34m:\u001b[0m \u001b[0mci\u001b[0m\u001b[0;34m[\u001b[0m\u001b[0;36m2\u001b[0m\u001b[0;34m]\u001b[0m  \u001b[0;34m}\u001b[0m\u001b[0;34m)\u001b[0m\u001b[0;34m\u001b[0m\u001b[0;34m\u001b[0m\u001b[0m\n",
            "\u001b[0;31mNameError\u001b[0m: name 'confidence_interval' is not defined"
          ]
        }
      ]
    },
    {
      "metadata": {
        "id": "6-98dz5kPON4",
        "colab_type": "code",
        "outputId": "667c57a3-fd0b-4ca8-ce60-8b0f388fccd7",
        "colab": {
          "base_uri": "https://localhost:8080/",
          "height": 376
        }
      },
      "cell_type": "code",
      "source": [
        "import numpy as np\n",
        "import matplotlib.pyplot as plt\n",
        "\n",
        "\n",
        "x1 = np.linspace(0.0, 5.0)\n",
        "x2 = np.linspace(0.0, 2.0)\n",
        "\n",
        "y1 = np.cos(2 * np.pi * x1) * np.exp(-x1)\n",
        "y2 = np.cos(2 * np.pi * x2)\n",
        "\n",
        "plt.subplot(3, 1, 1)\n",
        "plt.plot(x1, y1, 'o-')\n",
        "plt.title('A tale of 2 subplots')\n",
        "plt.ylabel('Damped oscillation')\n",
        "\n",
        "plt.subplot(3, 1, 2)\n",
        "plt.plot(x2, y2, '.-')\n",
        "plt.xlabel('time (s)')\n",
        "plt.ylabel('Undamped')\n",
        "\n",
        "plt.subplot(3, 1, 3)\n",
        "plt.plot(x2, y2, '.-')\n",
        "plt.xlabel('time (s)')\n",
        "plt.ylabel('Undamped Dup')\n",
        "\n",
        "plt.show()"
      ],
      "execution_count": 19,
      "outputs": [
        {
          "output_type": "display_data",
          "data": {
            "image/png": "[encoded data removed]",
            "text/plain": [
              "<matplotlib.figure.Figure at 0x7f0bb92dbda0>"
            ]
          },
          "metadata": {
            "tags": []
          }
        }
      ]
    },
    {
      "metadata": {
        "id": "WIB4rYpSSnLd",
        "colab_type": "code",
        "colab": {}
      },
      "cell_type": "code",
      "source": [
        "ddataset = [{'A':19, 'B':39, 'C':61, 'D':70},\n",
        "           {'A':34, 'B':68, 'C':32, 'D':38},\n",
        "           {'A':35, 'B':45, 'C':66, 'D':50},\n",
        "           {'A':23, 'B':23, 'C':21, 'D':16},\n",
        "           {'A':35, 'B':45, 'C':66, 'D':50}]\n",
        "data_orders = [['A', 'B', 'C', 'D'], \n",
        "               ['B', 'A', 'C', 'D'], \n",
        "               ['A', 'B', 'D', 'C'], \n",
        "               ['B', 'A', 'C', 'D'],\n",
        "               ['A', 'B', 'C', 'D']]\n",
        "colors = [\"r\",\"g\",\"b\",\"y\"]\n",
        "names = sorted(dataset[0].keys())\n",
        "print(f'zip(dataset, data_orders): {zip(dataset, data_orders)}')\n",
        "values = np.array([[data[name] for name in order] for data,order in zip(dataset, data_orders)])\n",
        "print(f\"values: {values}\")\n",
        "lefts = np.insert(np.cumsum(values, axis=1),0,0, axis=1)[:, :-1]\n",
        "orders = np.array(data_orders)\n",
        "bottoms = np.arange(len(data_orders))\n",
        "print(f'names {names} {chr(10)}orders: {orders} bottoms: {bottoms}')\n",
        "\n",
        "for name, color in zip(names, colors):\n",
        "    idx = np.where(orders == name)\n",
        "    value = values[idx]\n",
        "    left = lefts[idx]\n",
        "    print(f'name: {name}  color: {color} left: {left} value: {value} idx: {idx}' )    \n",
        "    plt.bar(x=left, height=0.8, width=value, bottom=bottoms, \n",
        "            color=color, orientation=\"horizontal\", label=name)\n",
        "plt.yticks(bottoms+0.4, [\"data %d\" % (t+1) for t in bottoms])\n",
        "plt.legend(loc=\"best\", bbox_to_anchor=(1.0, 1.00))\n",
        "plt.subplots_adjust(right=0.85)\n",
        "plt.show()"
      ],
      "execution_count": 0,
      "outputs": []
    },
    {
      "metadata": {
        "id": "YzZ50f9VH_n6",
        "colab_type": "code",
        "colab": {
          "base_uri": "https://localhost:8080/",
          "height": 362
        },
        "outputId": "a4295303-0075-410b-dfe9-431e1c3de97b"
      },
      "cell_type": "code",
      "source": [
        "# a stacked bar plot with errorbars\n",
        "import numpy as np\n",
        "import matplotlib.pyplot as plt\n",
        "\n",
        "\n",
        "N = 5\n",
        "menMeans = (20, 35, 30, 35, 27)\n",
        "womenMeans = (25, 32, 34, 20, 25)\n",
        "menStd = (2, 3, 4, 1, 2)\n",
        "womenStd = (3, 5, 2, 3, 3)\n",
        "ind = np.arange(N)    # the x locations for the groups\n",
        "width = 0.35       # the width of the bars: can also be len(x) sequence\n",
        "\n",
        "p1 = plt.bar(ind, menMeans, width, color='#d62728', yerr=menStd)\n",
        "p2 = plt.bar(ind, womenMeans, width,\n",
        "             bottom=menMeans, yerr=womenStd)\n",
        "\n",
        "plt.ylabel('Scores')\n",
        "plt.title('Scores by group and gender')\n",
        "plt.xticks(ind, ('G1', 'G2', 'G3', 'G4', 'G5'))\n",
        "plt.yticks(np.arange(0, 81, 10))\n",
        "plt.legend((p1[0], p2[0]), ('Men', 'Women'))\n",
        "\n",
        "plt.show()"
      ],
      "execution_count": 14,
      "outputs": [
        {
          "output_type": "display_data",
          "data": {
            "image/png": "[encoded data removed]",
            "text/plain": [
              "<matplotlib.figure.Figure at 0x7f0bb9225898>"
            ]
          },
          "metadata": {
            "tags": []
          }
        }
      ]
    },
    {
      "metadata": {
        "id": "RYCYg9oSogAT",
        "colab_type": "code",
        "colab": {}
      },
      "cell_type": "code",
      "source": [
        ""
      ],
      "execution_count": 0,
      "outputs": []
    }
  ]
}