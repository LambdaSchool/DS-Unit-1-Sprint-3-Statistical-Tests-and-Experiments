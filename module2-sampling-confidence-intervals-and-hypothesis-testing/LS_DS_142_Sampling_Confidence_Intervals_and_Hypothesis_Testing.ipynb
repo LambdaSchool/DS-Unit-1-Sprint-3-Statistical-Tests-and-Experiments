{
  "nbformat": 4,
  "nbformat_minor": 0,
  "metadata": {
    "colab": {
      "name": "LS DS 142 Sampling Confidence Intervals and Hypothesis Testing.ipynb",
      "version": "0.3.2",
      "provenance": [],
      "collapsed_sections": [],
      "include_colab_link": true
    },
    "kernelspec": {
      "name": "python3",
      "display_name": "Python 3"
    }
  },
  "cells": [
    {
      "cell_type": "markdown",
      "metadata": {
        "id": "view-in-github",
        "colab_type": "text"
      },
      "source": [
        "<a href=\"https://colab.research.google.com/github/trista-paul/DS-Unit-1-Sprint-4-Statistical-Tests-and-Experiments/blob/master/module2-sampling-confidence-intervals-and-hypothesis-testing/LS_DS_142_Sampling_Confidence_Intervals_and_Hypothesis_Testing.ipynb\" target=\"_parent\"><img src=\"https://colab.research.google.com/assets/colab-badge.svg\" alt=\"Open In Colab\"/></a>"
      ]
    },
    {
      "metadata": {
        "id": "838Dmw1kM2LK",
        "colab_type": "text"
      },
      "cell_type": "markdown",
      "source": [
        "# Lambda School Data Science Module 142\n",
        "## Sampling, Confidence Intervals, and Hypothesis Testing"
      ]
    },
    {
      "metadata": {
        "id": "dbcPKIo5M6Ny",
        "colab_type": "text"
      },
      "cell_type": "markdown",
      "source": [
        "## Prepare - examine other available hypothesis tests\n",
        "\n",
        "If you had to pick a single hypothesis test in your toolbox, t-test would probably be the best choice - but the good news is you don't have to pick just one! Here's some of the others to be aware of:"
      ]
    },
    {
      "metadata": {
        "id": "tlBel8j9M6tB",
        "colab_type": "code",
        "outputId": "99162547-59f7-4add-dbf3-f686de102133",
        "colab": {
          "base_uri": "https://localhost:8080/",
          "height": 185
        }
      },
      "cell_type": "code",
      "source": [
        "import numpy as np\n",
        "from scipy.stats import chisquare  # One-way chi square test\n",
        "\n",
        "# Chi square can take any crosstab/table and test the independence of rows/cols\n",
        "# The null hypothesis is that the rows/cols are independent -> low chi square\n",
        "# The alternative is that there is a dependence -> high chi square\n",
        "# Be aware! Chi square does *not* tell you direction/causation\n",
        "\n",
        "ind_obs = np.array([[1, 1], [2, 2]]).T\n",
        "print(ind_obs)\n",
        "print(chisquare(ind_obs, axis=None))\n",
        "\n",
        "dep_obs = np.array([[16, 18, 16, 14, 12, 12], [32, 24, 16, 28, 20, 24]]).T\n",
        "print(dep_obs)\n",
        "print(chisquare(dep_obs, axis=None))"
      ],
      "execution_count": 0,
      "outputs": [
        {
          "output_type": "stream",
          "text": [
            "[[1 2]\n",
            " [1 2]]\n",
            "Power_divergenceResult(statistic=0.6666666666666666, pvalue=0.8810148425137847)\n",
            "[[16 32]\n",
            " [18 24]\n",
            " [16 16]\n",
            " [14 28]\n",
            " [12 20]\n",
            " [12 24]]\n",
            "Power_divergenceResult(statistic=23.31034482758621, pvalue=0.015975692534127565)\n"
          ],
          "name": "stdout"
        }
      ]
    },
    {
      "metadata": {
        "id": "3X2XLr9dr9js",
        "colab_type": "code",
        "colab": {}
      },
      "cell_type": "code",
      "source": [
        "#alternative table\n",
        "      Inside Outside\n",
        "Male  [[2   1]\n",
        "Female [1   2]]\n",
        "#difference - males twice as likely to eat inside\n",
        "#small n\n",
        "#no left tail - just says 'dependent'"
      ],
      "execution_count": 0,
      "outputs": []
    },
    {
      "metadata": {
        "id": "nN0BdNiDPxbk",
        "colab_type": "code",
        "outputId": "9beb0481-34d2-47fe-cc53-3f1d5a21823d",
        "colab": {
          "base_uri": "https://localhost:8080/",
          "height": 34
        }
      },
      "cell_type": "code",
      "source": [
        "# Distribution tests:\n",
        "# We often assume that something is normal, but it can be important to *check*\n",
        "\n",
        "# For example, later on with predictive modeling, a typical assumption is that\n",
        "# residuals (prediction errors) are normal - checking is a good diagnostic\n",
        "\n",
        "from scipy.stats import normaltest\n",
        "# Poisson models arrival times and is related to the binomial (coinflip)\n",
        "sample = np.random.poisson(5, 1000)\n",
        "print(normaltest(sample))  # Pretty clearly not normal"
      ],
      "execution_count": 0,
      "outputs": [
        {
          "output_type": "stream",
          "text": [
            "NormaltestResult(statistic=29.718882973567986, pvalue=3.520680040147523e-07)\n"
          ],
          "name": "stdout"
        }
      ]
    },
    {
      "metadata": {
        "id": "P5t0WhkDReFO",
        "colab_type": "code",
        "outputId": "f5e8d6cb-eb66-44d6-b199-a5a3dccccb15",
        "colab": {
          "base_uri": "https://localhost:8080/",
          "height": 50
        }
      },
      "cell_type": "code",
      "source": [
        "# Kruskal-Wallis H-test - compare the median rank between 2+ groups\n",
        "# Can be applied to ranking decisions/outcomes/recommendations\n",
        "# The underlying math comes from chi-square distribution, and is best for n>5\n",
        "from scipy.stats import kruskal\n",
        "\n",
        "x1 = [1, 3, 5, 7, 9]\n",
        "y1 = [2, 4, 6, 8, 10]\n",
        "print(kruskal(x1, y1))  # x1 is a little better, but not \"significantly\" so\n",
        "\n",
        "x2 = [1, 1, 1]\n",
        "y2 = [2, 2, 2]\n",
        "z = [2, 2]  # Hey, a third group, and of different size!\n",
        "print(kruskal(x2, y2, z))  # x clearly dominates"
      ],
      "execution_count": 0,
      "outputs": [
        {
          "output_type": "stream",
          "text": [
            "KruskalResult(statistic=0.2727272727272734, pvalue=0.6015081344405895)\n",
            "KruskalResult(statistic=7.0, pvalue=0.0301973834223185)\n"
          ],
          "name": "stdout"
        }
      ]
    },
    {
      "metadata": {
        "id": "7pT3IP36Rh0b",
        "colab_type": "text"
      },
      "cell_type": "markdown",
      "source": [
        "And there's many more! `scipy.stats` is fairly comprehensive, though there are even more available if you delve into the extended world of statistics packages. As tests get increasingly obscure and specialized, the importance of knowing them by heart becomes small - but being able to look them up and figure them out when they *are* relevant is still important."
      ]
    },
    {
      "metadata": {
        "id": "L1_KRuHCM7BW",
        "colab_type": "text"
      },
      "cell_type": "markdown",
      "source": [
        "## Live Lecture - let's explore some more of scipy.stats"
      ]
    },
    {
      "metadata": {
        "id": "qW6k0dorM7Lz",
        "colab_type": "code",
        "outputId": "b0390bac-0592-4f0c-d883-1290a99764d9",
        "colab": {
          "base_uri": "https://localhost:8080/",
          "height": 34
        }
      },
      "cell_type": "code",
      "source": [
        "#chi square null hypothesis: the x/y values are independent (low chi)\n",
        "#\"sum of squared-standard-normals\"\n",
        "#expected value = k\n",
        "#as k increases it normalizes (except there are no negative values)\n",
        "#right skew --> normal\n",
        "from scipy.stats import  chi2\n",
        "chi2_5 = chi2(5)\n",
        "chi2_5 #frozen distribution - so you can't rewrite this var with another k\n",
        "chi2_5.mean() #5 - same as input k\n",
        "chi2_5.median() #about 4.35 - right skew\n",
        "chi2_500 = chi2(500)\n",
        "chi2_500.mean() #500"
      ],
      "execution_count": 0,
      "outputs": [
        {
          "output_type": "execute_result",
          "data": {
            "text/plain": [
              "500.0"
            ]
          },
          "metadata": {
            "tags": []
          },
          "execution_count": 11
        }
      ]
    },
    {
      "metadata": {
        "id": "4X4ShLU2ut0X",
        "colab_type": "code",
        "outputId": "b6a575c3-7cae-4603-918c-0e450c94194d",
        "colab": {
          "base_uri": "https://localhost:8080/",
          "height": 364
        }
      },
      "cell_type": "code",
      "source": [
        "#histogram of random normals\n",
        "import scipy\n",
        "import numpy as np\n",
        "import matplotlib.pyplot as plt\n",
        "data = scipy.stats.norm.rvs(size=100000, loc=0, scale=1.5, random_state=123)\n",
        "X = np.linspace(-5.0, 5.0, 100)\n",
        "hist = np.histogram(data, bins=100)\n",
        "hist_dist = scipy.stats.rv_histogram(hist)\n",
        "plt.plot(X, hist_dist.pdf(X), label='PDF')"
      ],
      "execution_count": 0,
      "outputs": [
        {
          "output_type": "execute_result",
          "data": {
            "text/plain": [
              "[<matplotlib.lines.Line2D at 0x7f1c66181710>]"
            ]
          },
          "metadata": {
            "tags": []
          },
          "execution_count": 12
        },
        {
          "output_type": "display_data",
          "data": {
            "image/png": "[encoded data removed]",
            "text/plain": [
              "<Figure size 576x396 with 1 Axes>"
            ]
          },
          "metadata": {
            "tags": []
          }
        }
      ]
    },
    {
      "metadata": {
        "id": "i9-JGbfVvOIr",
        "colab_type": "code",
        "outputId": "364317a8-4fa7-4f9d-ddf5-53f3faf25404",
        "colab": {
          "base_uri": "https://localhost:8080/",
          "height": 34
        }
      },
      "cell_type": "code",
      "source": [
        "#Normal Test - test the normality of chi-square above\n",
        "from scipy.stats import normaltest\n",
        "chi2_500.rvs(100) #n=100 from the chi2\n",
        "normaltest(chi2_500.rvs(100)) #doesn't pass\n",
        "normaltest(chi2_500.rvs(50)) #passes but isn't meaningful that low n\n",
        "normaltest(chi2_500.rvs(100000)) #doesn't pass"
      ],
      "execution_count": 0,
      "outputs": [
        {
          "output_type": "execute_result",
          "data": {
            "text/plain": [
              "NormaltestResult(statistic=246.9854129296452, pvalue=2.3323784871844912e-54)"
            ]
          },
          "metadata": {
            "tags": []
          },
          "execution_count": 14
        }
      ]
    },
    {
      "metadata": {
        "id": "eH4KILwBwrRJ",
        "colab_type": "code",
        "outputId": "fe4e662b-7c35-47e5-a5b0-365375b2aa0a",
        "colab": {
          "base_uri": "https://localhost:8080/",
          "height": 34
        }
      },
      "cell_type": "code",
      "source": [
        "#Chi-square by hand\n",
        "\n",
        "import pandas as pd\n",
        "chi_data = [[1,2],[2,1]] #eating pref\n",
        "chi_data = pd.DataFrame(chi_data)\n",
        "\n",
        "#margin count\n",
        "#total males : 3\n",
        "#total females: 3\n",
        "#total outside: 3\n",
        "#total inside: 3\n",
        "\n",
        "#margin proportions\n",
        "#males/females: 50%\n",
        "#outside/inside: 50%\n",
        "\n",
        "#if null hyp is true, how many people would we expect to be in any given cell?\n",
        "#(males proportion * outside proportion * total males) --> (0.5 * 0.5 * 6)\n",
        "#in this case all cells are 1.5\n",
        "#k = 1.5\n",
        "\n",
        "#what is the sum of square deviation from k in real data? (the chi-square)\n",
        "expected_values = [[1.5, 1.5],[1.5,1.5]]\n",
        "deviation = (((0.5)**2)/1.5) * 4 # (proportion squared / k) * number of cells\n",
        "print(deviation)\n"
      ],
      "execution_count": 0,
      "outputs": [
        {
          "output_type": "stream",
          "text": [
            "0.6666666666666666\n"
          ],
          "name": "stdout"
        }
      ]
    },
    {
      "metadata": {
        "id": "-NP-ZlEk1zIg",
        "colab_type": "code",
        "outputId": "c0b817ec-5c3f-46a6-e869-b31469a6ea4f",
        "colab": {
          "base_uri": "https://localhost:8080/",
          "height": 34
        }
      },
      "cell_type": "code",
      "source": [
        "from scipy.stats import chisquare\n",
        "chisquare(chi_data, axis=None)"
      ],
      "execution_count": 0,
      "outputs": [
        {
          "output_type": "execute_result",
          "data": {
            "text/plain": [
              "Power_divergenceResult(statistic=0.6666666666666666, pvalue=0.8810148425137847)"
            ]
          },
          "metadata": {
            "tags": []
          },
          "execution_count": 18
        }
      ]
    },
    {
      "metadata": {
        "id": "SHh9ANHj3Eil",
        "colab_type": "code",
        "colab": {}
      },
      "cell_type": "code",
      "source": [
        "#chi square function from scratch\n",
        "def lazy_chisquare(observed, expected):\n",
        "  for row_obs, row_exp in zip(observed, expected):\n",
        "    for obs, exp in zip(row_obs, row_exp):\n",
        "      chisquare += (obs-exp)**2 / exp\n",
        "  return chisquare"
      ],
      "execution_count": 0,
      "outputs": []
    },
    {
      "metadata": {
        "id": "OWmgKcqo422d",
        "colab_type": "code",
        "colab": {}
      },
      "cell_type": "code",
      "source": [
        "#interpretation: \n",
        "#\n",
        "#df for calc p values: df = n(number of cells)-1\n",
        "#our high p value means the large difference between gender and seating is\n",
        "#unlikely to replicate/replicate with a larger n"
      ],
      "execution_count": 0,
      "outputs": []
    },
    {
      "metadata": {
        "id": "Gv5I4WAr5Kwe",
        "colab_type": "code",
        "colab": {}
      },
      "cell_type": "code",
      "source": [
        "#confidence interval\n",
        "# a (alpha) is p\n",
        "# the confidence interval of a graph is 1-a\n",
        "# it is a probability range that excludes unlikely dists from the two a/2 tails\n",
        "# it is a probability density function (PDF) - meaning dist totals to 1.0\n",
        "# a 95th conf interval is one where a=0.95 (with 0.025 tails)\n",
        "\n",
        "import numpy as np\n",
        "from scipy import stats\n",
        "\n",
        "def confidence_interval(data, confidence=0.95):\n",
        "  \"\"\"\n",
        "  Calculate a confidence interval around a sample mean for given data.\n",
        "  Using t-distribution and two-tailed test, default 95% confidence. \n",
        "  \n",
        "  Arguments:\n",
        "    data - iterable (list or numpy array) of sample observations\n",
        "    confidence - level of confidence for the interval\n",
        "  \n",
        "  Returns:\n",
        "    tuple of (mean, lower bound, upper bound)\n",
        "  \"\"\"\n",
        "  #this triple quote text is writing inline help() for the function\n",
        "  data = np.array(data)\n",
        "  mean = np.mean(data)\n",
        "  n = len(data)\n",
        "  stderr = stats.sem(data)\n",
        "  interval = stderr * stats.t.ppf((1 + confidence) / 2., n - 1)\n",
        "  return (mean, mean - interval, mean + interval)"
      ],
      "execution_count": 0,
      "outputs": []
    },
    {
      "metadata": {
        "id": "3xtJ6RsA73Im",
        "colab_type": "code",
        "colab": {}
      },
      "cell_type": "code",
      "source": [
        "#function for formatting results of confidence_interval\n",
        "\n",
        "def report_confidence_interval(confidence_interval):\n",
        "  \"\"\"\n",
        "  Return a string with a pretty report of a confidence interval.\n",
        "  \n",
        "  Arguments:\n",
        "    confidence_interval - tuple of (mean, lower bound, upper bound)\n",
        "  \n",
        "  Returns:\n",
        "    None, but prints to screen the report\n",
        "  \"\"\"\n",
        "  #print('Mean: {}'.format(confidence_interval[0]))\n",
        "  #print('Lower bound: {}'.format(confidence_interval[1]))\n",
        "  #print('Upper bound: {}'.format(confidence_interval[2]))\n",
        "  s = \"our mean lies in the interval ]{:.2}, {:.2}[\".format(\n",
        "      confidence_interval[1], confidence_interval[2])\n",
        "  return s"
      ],
      "execution_count": 0,
      "outputs": []
    },
    {
      "metadata": {
        "id": "JJNHOjbZ77Ba",
        "colab_type": "code",
        "outputId": "4bea9b71-f9fb-49b8-a30a-65cc9401a210",
        "colab": {
          "base_uri": "https://localhost:8080/",
          "height": 34
        }
      },
      "cell_type": "code",
      "source": [
        "x = 2\n",
        "print('x is: {}'.format(x))"
      ],
      "execution_count": 0,
      "outputs": [
        {
          "output_type": "stream",
          "text": [
            "x is: 2\n"
          ],
          "name": "stdout"
        }
      ]
    },
    {
      "metadata": {
        "id": "K-h1bst18LHy",
        "colab_type": "code",
        "outputId": "23f168e7-f05f-4b14-94bd-e8b6dda71c45",
        "colab": {
          "base_uri": "https://localhost:8080/",
          "height": 34
        }
      },
      "cell_type": "code",
      "source": [
        "coinflips = np.random.binomial(n=1, p=0.5, size=100) #100 fair coinflips\n",
        "#null: no preference heads or tails\n",
        "stats.ttest_1samp(coinflips, 0.5)\n",
        "\n",
        "df = pd.DataFrame(coinflips)\n",
        "coinflip_interval = confidence_interval(coinflips) #default a=0.95\n",
        "coinflip_interval #(center, lowbound, highbound)\n",
        "report_confidence_interval(coinflip_interval) #includes null 0.5\n",
        "#fail to reject null hypothesis at 95% confidence"
      ],
      "execution_count": 0,
      "outputs": [
        {
          "output_type": "execute_result",
          "data": {
            "text/plain": [
              "'our mean lies in the interval ]0.35, 0.55['"
            ]
          },
          "metadata": {
            "tags": []
          },
          "execution_count": 25
        }
      ]
    },
    {
      "metadata": {
        "id": "3OZ2ypwX9k8e",
        "colab_type": "code",
        "colab": {}
      },
      "cell_type": "code",
      "source": [
        "#in media, confidence intervals are a preferred analysis over ttest"
      ],
      "execution_count": 0,
      "outputs": []
    },
    {
      "metadata": {
        "id": "11OzdxWTM7UR",
        "colab_type": "text"
      },
      "cell_type": "markdown",
      "source": [
        "## Assignment - Build a confidence interval\n",
        "\n",
        "A confidence interval refers to a neighborhood around some point estimate, the size of which is determined by the desired p-value. For instance, we might say that 52% of Americans prefer tacos to burritos, with a 95% confidence interval of +/- 5%.\n",
        "\n",
        "52% (0.52) is the point estimate, and +/- 5% (the interval $[0.47, 0.57]$) is the confidence interval. \"95% confidence\" means a p-value $\\leq 1 - 0.95 = 0.05$.\n",
        "\n",
        "In this case, the confidence interval includes $0.5$ - which is the natural null hypothesis (that half of Americans prefer tacos and half burritos, thus there is no clear favorite). So in this case, we could use the confidence interval to report that we've failed to reject the null hypothesis.\n",
        "\n",
        "But providing the full analysis with a confidence interval, including a graphical representation of it, can be a helpful and powerful way to tell your story. Done well, it is also more intuitive to a layperson than simply saying \"fail to reject the null hypothesis\" - it shows that in fact the data does *not* give a single clear result (the point estimate) but a whole range of possibilities.\n",
        "\n",
        "How is a confidence interval built, and how should it be interpreted? It does *not* mean that 95% of the data lies in that interval - instead, the frequentist interpretation is \"if we were to repeat this experiment 100 times, we would expect the average result to lie in this interval ~95 times.\"\n",
        "\n",
        "For a 95% confidence interval and a normal(-ish) distribution, you can simply remember that +/-2 standard deviations contains 95% of the probability mass, and so the 95% confidence interval based on a given sample is centered at the mean (point estimate) and has a range of +/- 2 (or technically 1.96) standard deviations.\n",
        "\n",
        "Different distributions/assumptions (90% confidence, 99% confidence) will require different math, but the overall process and interpretation (with a frequentist approach) will be the same.\n",
        "\n",
        "Your assignment - using the data from the prior module ([congressional voting records](https://archive.ics.uci.edu/ml/datasets/Congressional+Voting+Records)):\n",
        "\n",
        "1. Generate and numerically represent a confidence interval\n",
        "2. Graphically (with a plot) represent the confidence interval\n",
        "3. Interpret the confidence interval - what does it tell you about the data and its distribution?\n",
        "\n",
        "Stretch goals:\n",
        "\n",
        "1. Write a summary of your findings, mixing prose and math/code/results. *Note* - yes, this is by definition a political topic. It is challenging but important to keep your writing voice *neutral* and stick to the facts of the data. Data science often involves considering controversial issues, so it's important to be sensitive about them (especially if you want to publish).\n",
        "2. Apply the techniques you learned today to your project data or other data of your choice, and write/discuss your findings here."
      ]
    },
    {
      "metadata": {
        "id": "Ckcr4A4FM7cs",
        "colab_type": "code",
        "colab": {}
      },
      "cell_type": "code",
      "source": [
        "import pandas as pd\n",
        "import numpy as np\n",
        "\n",
        "url = 'https://archive.ics.uci.edu/ml/machine-learning-databases/voting-records/house-votes-84.data'\n",
        "names = ['party', 'handicapped-infants', 'water-project', 'budget',\n",
        "         'physician-fee-freeze', 'el-salvador-aid', 'religious_groups_in_schools',\n",
        "         'anti-satellite-test-ban', 'aid-to-contras', 'mx-missle', 'immigration',\n",
        "         'synfuels-corp-cutback','education-spending','superfund-right-to-sue',\n",
        "         'crime', 'duty-free-exports', 'export-SAfrica']\n",
        "df = pd.read_csv(url, header=None, names=names)\n",
        "df = df.replace({'?':np.nan, 'n':0, 'y':1, 'democrat':1, 'republican':0})\n",
        "#Party 0 - Republican\n",
        "#Party 1 - Democrat\n",
        "#Vote 0 - negative\n",
        "#Vote 1 - positive"
      ],
      "execution_count": 0,
      "outputs": []
    },
    {
      "metadata": {
        "id": "UV2G0TZqMnA1",
        "colab_type": "code",
        "colab": {}
      },
      "cell_type": "code",
      "source": [
        "budget = df[['party', 'budget']].dropna()\n",
        "budget = budget.set_index(budget.party)\n",
        "budget = budget['budget']\n",
        "\n",
        "exports = df[['party', 'duty-free-exports']].dropna()\n",
        "exports = exports.set_index(exports.party)\n",
        "exports = exports['duty-free-exports']\n",
        "\n",
        "water_project = df[['party', 'water-project']].dropna()\n",
        "water_project = water_project.set_index(water_project.party)\n",
        "water_project = water_project['water-project']"
      ],
      "execution_count": 0,
      "outputs": []
    },
    {
      "metadata": {
        "id": "UMVnbXvIM2GI",
        "colab_type": "code",
        "colab": {
          "base_uri": "https://localhost:8080/",
          "height": 67
        },
        "outputId": "0d46129b-992e-4ae8-bdc4-6bf2521730fc"
      },
      "cell_type": "code",
      "source": [
        "import scipy\n",
        "from scipy import stats\n",
        "\n",
        "def confidence_interval(data, confidence=0.95):\n",
        "  mean = sum(data)/len(data)\n",
        "  data = np.array(data)\n",
        "  stderr = stats.sem(data)\n",
        "  interval = stderr * stats.t.ppf((1 + confidence) / 2., len(data) - 1)\n",
        "  return (mean, mean-interval, mean+interval)\n",
        "\n",
        "budget_confidence = confidence_interval(budget, confidence=0.95)\n",
        "print(budget_confidence)\n",
        "\n",
        "exports_confidence = confidence_interval(exports, confidence=0.95)\n",
        "print(exports_confidence)\n",
        "\n",
        "water_confidence = confidence_interval(water_project, confidence=0.95)\n",
        "print(water_confidence)"
      ],
      "execution_count": 9,
      "outputs": [
        {
          "output_type": "stream",
          "text": [
            "(0.5966981132075472, 0.5498151808536169, 0.6435810455614774)\n",
            "(0.4275184275184275, 0.3792525917327782, 0.4757842633040768)\n",
            "(0.5038759689922481, 0.45384081311663604, 0.5539111248678601)\n"
          ],
          "name": "stdout"
        }
      ]
    },
    {
      "metadata": {
        "id": "TiDQ0eYvNNei",
        "colab_type": "code",
        "colab": {
          "base_uri": "https://localhost:8080/",
          "height": 386
        },
        "outputId": "432bdc3f-3cdb-454f-e171-4f1571943537"
      },
      "cell_type": "code",
      "source": [
        "import seaborn as sns\n",
        "import matplotlib.pyplot as plt\n",
        "fig = plt.figure()\n",
        "ax = fig.add_subplot(111)\n",
        "sns.distplot(budget_confidence, hist=False, rug=True);\n",
        "ax.axis(xmin=0, xmax=1, ymin=0)\n",
        "ax.vlines(budget_confidence[0], 0, 5, colors='b', label='mean vote lean')\n",
        "ax.axvspan(budget_confidence[1],budget_confidence[2], facecolor='b',\n",
        "            alpha=0.2, label='mean confidence')\n",
        "ax.text(0, 8.1, 'Normalized affirming vote by party on budget', fontsize=15, fontweight='bold')\n",
        "ax.text(0, 7.8, 'Democrats slightly more likely to vote yes', fontsize=12, fontweight='bold')\n",
        "ax.legend(loc='upper left');"
      ],
      "execution_count": 32,
      "outputs": [
        {
          "output_type": "display_data",
          "data": {
            "image/png": "[encoded data removed]",
            "text/plain": [
              "<Figure size 576x396 with 1 Axes>"
            ]
          },
          "metadata": {
            "tags": []
          }
        }
      ]
    },
    {
      "metadata": {
        "id": "h5AZwSqLPtt4",
        "colab_type": "code",
        "colab": {
          "base_uri": "https://localhost:8080/",
          "height": 396
        },
        "outputId": "91a9d09e-7210-438b-95c8-a15f57b95093"
      },
      "cell_type": "code",
      "source": [
        "fig = plt.figure()\n",
        "ax2 = fig.add_subplot (111)\n",
        "sns.distplot(exports_confidence, hist=False, rug=True);\n",
        "ax2.axis(xmin=0, xmax=1, ymin=0)\n",
        "ax2.vlines(exports_confidence[0], 0, 5, colors='r', label='mean vote lean')\n",
        "ax2.axvspan(exports_confidence[1],exports_confidence[2], facecolor='r',\n",
        "            alpha=0.2, label='mean confidence')\n",
        "ax2.text(0, 8.1, 'Normalized affirming vote by party on duty free exports', fontsize=15, fontweight='bold')\n",
        "ax2.text(0, 7.8, 'Republicans slightly more likely to vote yes', fontsize=12, fontweight='bold')\n",
        "ax2.legend(loc='upper left');"
      ],
      "execution_count": 30,
      "outputs": [
        {
          "output_type": "display_data",
          "data": {
            "image/png": "[encoded data removed]",
            "text/plain": [
              "<Figure size 576x396 with 1 Axes>"
            ]
          },
          "metadata": {
            "tags": []
          }
        }
      ]
    },
    {
      "metadata": {
        "id": "KJb3JTLhRqfZ",
        "colab_type": "code",
        "colab": {
          "base_uri": "https://localhost:8080/",
          "height": 408
        },
        "outputId": "fb4b9580-08de-4f80-c221-a8f3e102e264"
      },
      "cell_type": "code",
      "source": [
        "fig = plt.figure()\n",
        "ax3 = fig.add_subplot (111)\n",
        "sns.distplot(water_confidence, hist=False, rug=True);\n",
        "ax3.axis(xmin=0, xmax=1, ymin=0)\n",
        "ax3.vlines(water_confidence[0], 0, 5, colors='g', label='mean vote lean')\n",
        "ax3.axvspan(water_confidence[1],water_confidence[2], facecolor='g',\n",
        "            alpha=0.2, label='mean confidence')\n",
        "ax3.text(0, 8.1, 'Normalized affirming vote by party on water project', fontsize=15, fontweight='bold')\n",
        "ax3.text(0, 7.8, 'Parties were equally as likely to vote yes', fontsize=12, fontweight='bold')\n",
        "ax3.legend(loc='upper left');"
      ],
      "execution_count": 35,
      "outputs": [
        {
          "output_type": "display_data",
          "data": {
            "image/png": "[encoded data removed]",
            "text/plain": [
              "<Figure size 576x396 with 1 Axes>"
            ]
          },
          "metadata": {
            "tags": []
          }
        }
      ]
    }
  ]
}