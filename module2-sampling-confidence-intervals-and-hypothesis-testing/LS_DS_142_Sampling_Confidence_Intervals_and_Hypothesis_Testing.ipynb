{
  "nbformat": 4,
  "nbformat_minor": 0,
  "metadata": {
    "colab": {
      "name": "LS DS 142 Sampling Confidence Intervals and Hypothesis Testing.ipynb",
      "version": "0.3.2",
      "provenance": [],
      "collapsed_sections": []
    },
    "kernelspec": {
      "name": "python3",
      "display_name": "Python 3"
    }
  },
  "cells": [
    {
      "metadata": {
        "id": "838Dmw1kM2LK",
        "colab_type": "text"
      },
      "cell_type": "markdown",
      "source": [
        "# Lambda School Data Science Module 142\n",
        "## Sampling, Confidence Intervals, and Hypothesis Testing"
      ]
    },
    {
      "metadata": {
        "id": "dbcPKIo5M6Ny",
        "colab_type": "text"
      },
      "cell_type": "markdown",
      "source": [
        "## Prepare - examine other available hypothesis tests\n",
        "\n",
        "If you had to pick a single hypothesis test in your toolbox, t-test would probably be the best choice - but the good news is you don't have to pick just one! Here's some of the others to be aware of:"
      ]
    },
    {
      "metadata": {
        "id": "tlBel8j9M6tB",
        "colab_type": "code",
        "outputId": "173052d3-12d4-47a2-c56c-60aecfc4c9f4",
        "colab": {
          "base_uri": "https://localhost:8080/",
          "height": 199
        }
      },
      "cell_type": "code",
      "source": [
        "import numpy as np\n",
        "from scipy.stats import chisquare  # One-way chi square test\n",
        "\n",
        "# Chi square can take any crosstab/table and test the independence of rows/cols\n",
        "# The null hypothesis is that the rows/cols are independent -> low chi square\n",
        "# The alternative is that there is a dependence -> high chi square\n",
        "# Be aware! Chi square does *not* tell you direction/causation\n",
        "\n",
        "ind_obs = np.array([[1, 1], [2, 2]]).T\n",
        "print(ind_obs)\n",
        "print(chisquare(ind_obs, axis=None))\n",
        "\n",
        "dep_obs = np.array([[16, 18, 16, 14, 12, 12], [32, 24, 16, 28, 20, 24]]).T\n",
        "print(dep_obs)\n",
        "print(chisquare(dep_obs, axis=None))"
      ],
      "execution_count": 1,
      "outputs": [
        {
          "output_type": "stream",
          "text": [
            "[[1 2]\n",
            " [1 2]]\n",
            "Power_divergenceResult(statistic=0.6666666666666666, pvalue=0.8810148425137847)\n",
            "[[16 32]\n",
            " [18 24]\n",
            " [16 16]\n",
            " [14 28]\n",
            " [12 20]\n",
            " [12 24]]\n",
            "Power_divergenceResult(statistic=23.31034482758621, pvalue=0.015975692534127565)\n"
          ],
          "name": "stdout"
        }
      ]
    },
    {
      "metadata": {
        "id": "nN0BdNiDPxbk",
        "colab_type": "code",
        "outputId": "36426de9-d1b9-4790-ae20-9d5eb578a77a",
        "colab": {
          "base_uri": "https://localhost:8080/",
          "height": 35
        }
      },
      "cell_type": "code",
      "source": [
        "# Distribution tests:\n",
        "# We often assume that something is normal, but it can be important to *check*\n",
        "\n",
        "# For example, later on with predictive modeling, a typical assumption is that\n",
        "# residuals (prediction errors) are normal - checking is a good diagnostic\n",
        "\n",
        "from scipy.stats import normaltest\n",
        "# Poisson models arrival times and is related to the binomial (coinflip)\n",
        "sample = np.random.poisson(5, 1000)\n",
        "print(normaltest(sample))  # Pretty clearly not normal"
      ],
      "execution_count": 0,
      "outputs": [
        {
          "output_type": "stream",
          "text": [
            "NormaltestResult(statistic=38.69323106073592, pvalue=3.961609200867749e-09)\n"
          ],
          "name": "stdout"
        }
      ]
    },
    {
      "metadata": {
        "id": "P5t0WhkDReFO",
        "colab_type": "code",
        "outputId": "7d6438bf-8042-4297-a8f7-cef083d22444",
        "colab": {
          "base_uri": "https://localhost:8080/",
          "height": 53
        }
      },
      "cell_type": "code",
      "source": [
        "# Kruskal-Wallis H-test - compare the median rank between 2+ groups\n",
        "# Can be applied to ranking decisions/outcomes/recommendations\n",
        "# The underlying math comes from chi-square distribution, and is best for n>5\n",
        "from scipy.stats import kruskal\n",
        "\n",
        "x1 = [1, 3, 5, 7, 9]\n",
        "y1 = [2, 4, 6, 8, 10]\n",
        "print(kruskal(x1, y1))  # x1 is a little better, but not \"significantly\" so\n",
        "\n",
        "x2 = [1, 1, 1]\n",
        "y2 = [2, 2, 2]\n",
        "z = [2, 2]  # Hey, a third group, and of different size!\n",
        "print(kruskal(x2, y2, z))  # x clearly dominates"
      ],
      "execution_count": 0,
      "outputs": [
        {
          "output_type": "stream",
          "text": [
            "KruskalResult(statistic=0.2727272727272734, pvalue=0.6015081344405895)\n",
            "KruskalResult(statistic=7.0, pvalue=0.0301973834223185)\n"
          ],
          "name": "stdout"
        }
      ]
    },
    {
      "metadata": {
        "id": "7pT3IP36Rh0b",
        "colab_type": "text"
      },
      "cell_type": "markdown",
      "source": [
        "And there's many more! `scipy.stats` is fairly comprehensive, though there are even more available if you delve into the extended world of statistics packages. As tests get increasingly obscure and specialized, the importance of knowing them by heart becomes small - but being able to look them up and figure them out when they *are* relevant is still important."
      ]
    },
    {
      "metadata": {
        "id": "L1_KRuHCM7BW",
        "colab_type": "text"
      },
      "cell_type": "markdown",
      "source": [
        "## Live Lecture - let's explore some more of scipy.stats"
      ]
    },
    {
      "metadata": {
        "id": "qW6k0dorM7Lz",
        "colab_type": "code",
        "colab": {}
      },
      "cell_type": "code",
      "source": [
        "# Taking requests! Come to lecture with a topic or problem and we'll try it.\n"
      ],
      "execution_count": 0,
      "outputs": []
    },
    {
      "metadata": {
        "id": "Q2TU-kWwhnkV",
        "colab_type": "text"
      },
      "cell_type": "markdown",
      "source": [
        "### Confidence interval\n",
        "* Similar to hypothesis testing, but centered at sample mean\n",
        "\n",
        "* Reporting the 95% confidence interval, is better than reporting the point estimate at sample mean."
      ]
    },
    {
      "metadata": {
        "id": "3mOIqBMZhorv",
        "colab_type": "code",
        "colab": {}
      },
      "cell_type": "code",
      "source": [
        "import numpy as np\n",
        "from scipy import stats\n",
        "\n",
        "def confidence_interval(data, confidence=0.95):\n",
        "  '''\n",
        "  Calculate confidence_interval around a sample mean for a given data size.\n",
        "  Using t-distribution and two-tailed test, default 95% confidence\n",
        "    Arguments:\n",
        "      data - iterable(list or np.array) of sample observations\n",
        "      confidence - level of confidence for the interval\n",
        "    Return:\n",
        "      tuples of (mean, lower bound, upper bound)\n",
        "  '''\n",
        "  data = np.array(data)\n",
        "  mean = data.mean()\n",
        "  n= len(data)\n",
        "  stderr = stats.sem(data)\n",
        "  interval = stderr * stats.t.ppf( (1+confidence)/2., n-1 )\n",
        "  return(mean, mean-interval, mean+interval)\n",
        "\n",
        "def report_confidence_interval(confidence_interval):\n",
        "  '''\n",
        "  Arguments:\n",
        "    tuples of (mean, lower bound, upper bound)\n",
        "  Return:\n",
        "    print report of confidence interval\n",
        "  '''\n",
        "  s='\"Sample mean in interval {} - {} - {}\".format(\n",
        "      confidence_interval[1], \n",
        "      confidence_interval[0]\n",
        "      confidence_interval[2]'\n",
        "  print(s)\n",
        "          "
      ],
      "execution_count": 0,
      "outputs": []
    },
    {
      "metadata": {
        "id": "11OzdxWTM7UR",
        "colab_type": "text"
      },
      "cell_type": "markdown",
      "source": [
        "## Assignment - Build a confidence interval\n",
        "\n",
        "A confidence interval refers to a neighborhood around some point estimate, the size of which is determined by the desired p-value. For instance, we might say that 52% of Americans prefer tacos to burritos, with a 95% confidence interval of +/- 5%.\n",
        "\n",
        "52% (0.52) is the point estimate, and +/- 5% (the interval $[0.47, 0.57]$) is the confidence interval. \"95% confidence\" means a p-value $\\leq 1 - 0.95 = 0.05$.\n",
        "\n",
        "In this case, the confidence interval includes $0.5$ - which is the natural null hypothesis (that half of Americans prefer tacos and half burritos, thus there is no clear favorite). So in this case, we could use the confidence interval to report that we've failed to reject the null hypothesis.\n",
        "\n",
        "But providing the full analysis with a confidence interval, including a graphical representation of it, can be a helpful and powerful way to tell your story. Done well, it is also more intuitive to a layperson than simply saying \"fail to reject the null hypothesis\" - it shows that in fact the data does *not* give a single clear result (the point estimate) but a whole range of possibilities.\n",
        "\n",
        "How is a confidence interval built, and how should it be interpreted? It does *not* mean that 95% of the data lies in that interval - instead, the frequentist interpretation is \"if we were to repeat this experiment 100 times, we would expect the average result to lie in this interval ~95 times.\"\n",
        "\n",
        "For a 95% confidence interval and a normal(-ish) distribution, you can simply remember that +/-2 standard deviations contains 95% of the probability mass, and so the 95% confidence interval based on a given sample is centered at the mean (point estimate) and has a range of +/- 2 (or technically 1.96) standard deviations.\n",
        "\n",
        "Different distributions/assumptions (90% confidence, 99% confidence) will require different math, but the overall process and interpretation (with a frequentist approach) will be the same.\n",
        "\n",
        "Your assignment - using the data from the prior module ([congressional voting records](https://archive.ics.uci.edu/ml/datasets/Congressional+Voting+Records)):\n",
        "\n",
        "1. Generate and numerically represent a confidence interval\n",
        "2. Graphically (with a plot) represent the confidence interval\n",
        "3. Interpret the confidence interval - what does it tell you about the data and its distribution?\n",
        "\n",
        "Stretch goals:\n",
        "\n",
        "1. Write a summary of your findings, mixing prose and math/code/results. *Note* - yes, this is by definition a political topic. It is challenging but important to keep your writing voice *neutral* and stick to the facts of the data. Data science often involves considering controversial issues, so it's important to be sensitive about them (especially if you want to publish).\n",
        "2. Apply the techniques you learned today to your project data or other data of your choice, and write/discuss your findings here."
      ]
    },
    {
      "metadata": {
        "id": "Ckcr4A4FM7cs",
        "colab_type": "code",
        "colab": {
          "base_uri": "https://localhost:8080/",
          "height": 217
        },
        "outputId": "0563efcf-e9aa-4d50-a2fa-116472e63d43"
      },
      "cell_type": "code",
      "source": [
        "# TODO - your code!\n",
        "'''\n",
        "Drug company testing\n",
        "'''\n",
        "url = 'http://archive.ics.uci.edu/ml/machine-learning-databases/00462/drugsCom_raw.zip'\n",
        "!wget $url"
      ],
      "execution_count": 3,
      "outputs": [
        {
          "output_type": "stream",
          "text": [
            "--2018-12-05 06:01:41--  http://archive.ics.uci.edu/ml/machine-learning-databases/00462/drugsCom_raw.zip\n",
            "Resolving archive.ics.uci.edu (archive.ics.uci.edu)... 128.195.10.249\n",
            "Connecting to archive.ics.uci.edu (archive.ics.uci.edu)|128.195.10.249|:80... connected.\n",
            "HTTP request sent, awaiting response... 200 OK\n",
            "Length: 42989872 (41M) [application/zip]\n",
            "Saving to: ‘drugsCom_raw.zip’\n",
            "\n",
            "drugsCom_raw.zip    100%[===================>]  41.00M  11.1MB/s    in 5.0s    \n",
            "\n",
            "2018-12-05 06:01:46 (8.26 MB/s) - ‘drugsCom_raw.zip’ saved [42989872/42989872]\n",
            "\n"
          ],
          "name": "stdout"
        }
      ]
    },
    {
      "metadata": {
        "id": "4_xzuCprOSH5",
        "colab_type": "code",
        "colab": {
          "base_uri": "https://localhost:8080/",
          "height": 72
        },
        "outputId": "104d4c17-8352-4531-ebc8-42b2c8bd8f7d"
      },
      "cell_type": "code",
      "source": [
        "!unzip drugsCom_raw.zip\n"
      ],
      "execution_count": 4,
      "outputs": [
        {
          "output_type": "stream",
          "text": [
            "Archive:  drugsCom_raw.zip\n",
            "  inflating: drugsComTest_raw.tsv    \n",
            "  inflating: drugsComTrain_raw.tsv   \n"
          ],
          "name": "stdout"
        }
      ]
    },
    {
      "metadata": {
        "id": "CcP0DX5ZRAQq",
        "colab_type": "code",
        "colab": {
          "base_uri": "https://localhost:8080/",
          "height": 250
        },
        "outputId": "24ff25be-03c6-4bfb-b86e-b5a55ffbec71"
      },
      "cell_type": "code",
      "source": [
        "import pandas as pd\n",
        "from scipy.stats import chisquare\n",
        "\n",
        "df = pd.read_table('drugsComTrain_raw.tsv')\n",
        "df.head()"
      ],
      "execution_count": 7,
      "outputs": [
        {
          "output_type": "execute_result",
          "data": {
            "text/html": [
              "<div>\n",
              "<style scoped>\n",
              "    .dataframe tbody tr th:only-of-type {\n",
              "        vertical-align: middle;\n",
              "    }\n",
              "\n",
              "    .dataframe tbody tr th {\n",
              "        vertical-align: top;\n",
              "    }\n",
              "\n",
              "    .dataframe thead th {\n",
              "        text-align: right;\n",
              "    }\n",
              "</style>\n",
              "<table border=\"1\" class=\"dataframe\">\n",
              "  <thead>\n",
              "    <tr style=\"text-align: right;\">\n",
              "      <th></th>\n",
              "      <th>Unnamed: 0</th>\n",
              "      <th>drugName</th>\n",
              "      <th>condition</th>\n",
              "      <th>review</th>\n",
              "      <th>rating</th>\n",
              "      <th>date</th>\n",
              "      <th>usefulCount</th>\n",
              "    </tr>\n",
              "  </thead>\n",
              "  <tbody>\n",
              "    <tr>\n",
              "      <th>0</th>\n",
              "      <td>206461</td>\n",
              "      <td>Valsartan</td>\n",
              "      <td>Left Ventricular Dysfunction</td>\n",
              "      <td>\"It has no side effect, I take it in combinati...</td>\n",
              "      <td>9.0</td>\n",
              "      <td>May 20, 2012</td>\n",
              "      <td>27</td>\n",
              "    </tr>\n",
              "    <tr>\n",
              "      <th>1</th>\n",
              "      <td>95260</td>\n",
              "      <td>Guanfacine</td>\n",
              "      <td>ADHD</td>\n",
              "      <td>\"My son is halfway through his fourth week of ...</td>\n",
              "      <td>8.0</td>\n",
              "      <td>April 27, 2010</td>\n",
              "      <td>192</td>\n",
              "    </tr>\n",
              "    <tr>\n",
              "      <th>2</th>\n",
              "      <td>92703</td>\n",
              "      <td>Lybrel</td>\n",
              "      <td>Birth Control</td>\n",
              "      <td>\"I used to take another oral contraceptive, wh...</td>\n",
              "      <td>5.0</td>\n",
              "      <td>December 14, 2009</td>\n",
              "      <td>17</td>\n",
              "    </tr>\n",
              "    <tr>\n",
              "      <th>3</th>\n",
              "      <td>138000</td>\n",
              "      <td>Ortho Evra</td>\n",
              "      <td>Birth Control</td>\n",
              "      <td>\"This is my first time using any form of birth...</td>\n",
              "      <td>8.0</td>\n",
              "      <td>November 3, 2015</td>\n",
              "      <td>10</td>\n",
              "    </tr>\n",
              "    <tr>\n",
              "      <th>4</th>\n",
              "      <td>35696</td>\n",
              "      <td>Buprenorphine / naloxone</td>\n",
              "      <td>Opiate Dependence</td>\n",
              "      <td>\"Suboxone has completely turned my life around...</td>\n",
              "      <td>9.0</td>\n",
              "      <td>November 27, 2016</td>\n",
              "      <td>37</td>\n",
              "    </tr>\n",
              "  </tbody>\n",
              "</table>\n",
              "</div>"
            ],
            "text/plain": [
              "   Unnamed: 0                  drugName                     condition  \\\n",
              "0      206461                 Valsartan  Left Ventricular Dysfunction   \n",
              "1       95260                Guanfacine                          ADHD   \n",
              "2       92703                    Lybrel                 Birth Control   \n",
              "3      138000                Ortho Evra                 Birth Control   \n",
              "4       35696  Buprenorphine / naloxone             Opiate Dependence   \n",
              "\n",
              "                                              review  rating  \\\n",
              "0  \"It has no side effect, I take it in combinati...     9.0   \n",
              "1  \"My son is halfway through his fourth week of ...     8.0   \n",
              "2  \"I used to take another oral contraceptive, wh...     5.0   \n",
              "3  \"This is my first time using any form of birth...     8.0   \n",
              "4  \"Suboxone has completely turned my life around...     9.0   \n",
              "\n",
              "                date  usefulCount  \n",
              "0       May 20, 2012           27  \n",
              "1     April 27, 2010          192  \n",
              "2  December 14, 2009           17  \n",
              "3   November 3, 2015           10  \n",
              "4  November 27, 2016           37  "
            ]
          },
          "metadata": {
            "tags": []
          },
          "execution_count": 7
        }
      ]
    },
    {
      "metadata": {
        "id": "1qvIdQyeTAwV",
        "colab_type": "code",
        "colab": {
          "base_uri": "https://localhost:8080/",
          "height": 35
        },
        "outputId": "4cd11915-2015-4e44-977f-6a91938362e3"
      },
      "cell_type": "code",
      "source": [
        "df.shape"
      ],
      "execution_count": 12,
      "outputs": [
        {
          "output_type": "execute_result",
          "data": {
            "text/plain": [
              "(161297, 7)"
            ]
          },
          "metadata": {
            "tags": []
          },
          "execution_count": 12
        }
      ]
    },
    {
      "metadata": {
        "id": "atxQnL0XisSL",
        "colab_type": "code",
        "colab": {
          "base_uri": "https://localhost:8080/",
          "height": 35
        },
        "outputId": "51ab913f-0972-40f9-c6ed-77091fd30598"
      },
      "cell_type": "code",
      "source": [
        "'''\n",
        "Given 161297 observation,\n",
        "  pvalue=0.7, this sample distribution greater than 0.05\n",
        "  statistic=733, fat tailed sample data point.\n",
        "  \n",
        "Null hypothesis not rejected, this drug rating can not be trusted with confidence\n",
        "'''\n",
        "rating_liraglutide = df[ df['drugName']=='Liraglutide' ]['rating']\n",
        "chisquare(rating_liraglutide, axis=None)"
      ],
      "execution_count": 8,
      "outputs": [
        {
          "output_type": "execute_result",
          "data": {
            "text/plain": [
              "Power_divergenceResult(statistic=733.1161149386658, pvalue=0.7004258589353075)"
            ]
          },
          "metadata": {
            "tags": []
          },
          "execution_count": 8
        }
      ]
    },
    {
      "metadata": {
        "id": "akxXtbND1Rk5",
        "colab_type": "code",
        "colab": {
          "base_uri": "https://localhost:8080/",
          "height": 35
        },
        "outputId": "073dccfa-a5c2-4844-d157-0bbb86a9a92e"
      },
      "cell_type": "code",
      "source": [
        "drugs=df['drugName'].unique()\n",
        "len(drugs)"
      ],
      "execution_count": 9,
      "outputs": [
        {
          "output_type": "execute_result",
          "data": {
            "text/plain": [
              "3436"
            ]
          },
          "metadata": {
            "tags": []
          },
          "execution_count": 9
        }
      ]
    },
    {
      "metadata": {
        "id": "0wVEGNqw1aVW",
        "colab_type": "code",
        "colab": {}
      },
      "cell_type": "code",
      "source": [
        "drug_rating = pd.DataFrame(columns=['drugName','statistic','pvalue'])\n",
        "i=0\n",
        "for drug in drugs:\n",
        "  rating = df[ df['drugName']== drug ]['rating']\n",
        "  s,p = chisquare(rating, axis=None)\n",
        "  drug_rating.loc[i] = [drug,s,p]\n",
        "  i = i + 1\n",
        "  \n",
        "  \n",
        "  "
      ],
      "execution_count": 0,
      "outputs": []
    },
    {
      "metadata": {
        "id": "dpJGf4EP4FmR",
        "colab_type": "code",
        "colab": {}
      },
      "cell_type": "code",
      "source": [
        "drug_rating.dropna(inplace=True)"
      ],
      "execution_count": 0,
      "outputs": []
    },
    {
      "metadata": {
        "id": "ZBWaa-Mr9JT8",
        "colab_type": "code",
        "colab": {}
      },
      "cell_type": "code",
      "source": [
        "data_plot = drug_rating[ drug_rating['pvalue'] < 0.001 ][['drugName','pvalue']].sort_values('pvalue').head()"
      ],
      "execution_count": 0,
      "outputs": []
    },
    {
      "metadata": {
        "id": "o3XCEk0wCI6e",
        "colab_type": "code",
        "colab": {
          "base_uri": "https://localhost:8080/",
          "height": 198
        },
        "outputId": "bac20907-5fa9-43aa-ff9b-e64d81ba80be"
      },
      "cell_type": "code",
      "source": [
        "data_plot"
      ],
      "execution_count": 68,
      "outputs": [
        {
          "output_type": "execute_result",
          "data": {
            "text/html": [
              "<div>\n",
              "<style scoped>\n",
              "    .dataframe tbody tr th:only-of-type {\n",
              "        vertical-align: middle;\n",
              "    }\n",
              "\n",
              "    .dataframe tbody tr th {\n",
              "        vertical-align: top;\n",
              "    }\n",
              "\n",
              "    .dataframe thead th {\n",
              "        text-align: right;\n",
              "    }\n",
              "</style>\n",
              "<table border=\"1\" class=\"dataframe\">\n",
              "  <thead>\n",
              "    <tr style=\"text-align: right;\">\n",
              "      <th></th>\n",
              "      <th>drugName</th>\n",
              "      <th>pvalue</th>\n",
              "      <th>order</th>\n",
              "    </tr>\n",
              "  </thead>\n",
              "  <tbody>\n",
              "    <tr>\n",
              "      <th>171</th>\n",
              "      <td>Ethinyl estradiol / norethindrone</td>\n",
              "      <td>3.004069e-216</td>\n",
              "      <td>10</td>\n",
              "    </tr>\n",
              "    <tr>\n",
              "      <th>22</th>\n",
              "      <td>Etonogestrel</td>\n",
              "      <td>3.557109e-188</td>\n",
              "      <td>8</td>\n",
              "    </tr>\n",
              "    <tr>\n",
              "      <th>137</th>\n",
              "      <td>Miconazole</td>\n",
              "      <td>1.016959e-183</td>\n",
              "      <td>6</td>\n",
              "    </tr>\n",
              "    <tr>\n",
              "      <th>107</th>\n",
              "      <td>Medroxyprogesterone</td>\n",
              "      <td>1.492018e-153</td>\n",
              "      <td>4</td>\n",
              "    </tr>\n",
              "    <tr>\n",
              "      <th>112</th>\n",
              "      <td>Depo-Provera</td>\n",
              "      <td>9.955715e-141</td>\n",
              "      <td>2</td>\n",
              "    </tr>\n",
              "  </tbody>\n",
              "</table>\n",
              "</div>"
            ],
            "text/plain": [
              "                              drugName         pvalue  order\n",
              "171  Ethinyl estradiol / norethindrone  3.004069e-216     10\n",
              "22                        Etonogestrel  3.557109e-188      8\n",
              "137                         Miconazole  1.016959e-183      6\n",
              "107                Medroxyprogesterone  1.492018e-153      4\n",
              "112                       Depo-Provera  9.955715e-141      2"
            ]
          },
          "metadata": {
            "tags": []
          },
          "execution_count": 68
        }
      ]
    },
    {
      "metadata": {
        "id": "jBXclIK-_WO2",
        "colab_type": "code",
        "colab": {
          "base_uri": "https://localhost:8080/",
          "height": 347
        },
        "outputId": "473f7a79-9470-4a7c-fa13-1fb2ff45c4fe"
      },
      "cell_type": "code",
      "source": [
        "import matplotlib.pyplot as plt\n",
        "import numpy as np\n",
        "\n",
        "data_plot['order']= [10,8,6,4,2]\n",
        "y_pos = np.arange(len(data_plot))\n",
        "\n",
        "plt.barh(data_plot.drugName, data_plot.order)\n",
        "plt.yticks(y_pos, data_plot.drugName)\n",
        "plt.show()"
      ],
      "execution_count": 70,
      "outputs": [
        {
          "output_type": "display_data",
          "data": {
            "image/png": "[encoded data removed]",
            "text/plain": [
              "<matplotlib.figure.Figure at 0x7f7ae5c8ecc0>"
            ]
          },
          "metadata": {
            "tags": []
          }
        }
      ]
    },
    {
      "metadata": {
        "id": "1mqybxH1pmF9",
        "colab_type": "code",
        "colab": {
          "base_uri": "https://localhost:8080/",
          "height": 1907
        },
        "outputId": "23aca36a-8ab1-40f6-ab74-98056f212f56"
      },
      "cell_type": "code",
      "source": [
        "drug_rating.sort_values('pvalue')"
      ],
      "execution_count": 65,
      "outputs": [
        {
          "output_type": "execute_result",
          "data": {
            "text/html": [
              "<div>\n",
              "<style scoped>\n",
              "    .dataframe tbody tr th:only-of-type {\n",
              "        vertical-align: middle;\n",
              "    }\n",
              "\n",
              "    .dataframe tbody tr th {\n",
              "        vertical-align: top;\n",
              "    }\n",
              "\n",
              "    .dataframe thead th {\n",
              "        text-align: right;\n",
              "    }\n",
              "</style>\n",
              "<table border=\"1\" class=\"dataframe\">\n",
              "  <thead>\n",
              "    <tr style=\"text-align: right;\">\n",
              "      <th></th>\n",
              "      <th>drugName</th>\n",
              "      <th>statistic</th>\n",
              "      <th>pvalue</th>\n",
              "    </tr>\n",
              "  </thead>\n",
              "  <tbody>\n",
              "    <tr>\n",
              "      <th>171</th>\n",
              "      <td>Ethinyl estradiol / norethindrone</td>\n",
              "      <td>5912.165464</td>\n",
              "      <td>3.004069e-216</td>\n",
              "    </tr>\n",
              "    <tr>\n",
              "      <th>22</th>\n",
              "      <td>Etonogestrel</td>\n",
              "      <td>6322.289559</td>\n",
              "      <td>3.557109e-188</td>\n",
              "    </tr>\n",
              "    <tr>\n",
              "      <th>137</th>\n",
              "      <td>Miconazole</td>\n",
              "      <td>2895.453676</td>\n",
              "      <td>1.016959e-183</td>\n",
              "    </tr>\n",
              "    <tr>\n",
              "      <th>107</th>\n",
              "      <td>Medroxyprogesterone</td>\n",
              "      <td>2671.372491</td>\n",
              "      <td>1.492018e-153</td>\n",
              "    </tr>\n",
              "    <tr>\n",
              "      <th>112</th>\n",
              "      <td>Depo-Provera</td>\n",
              "      <td>2399.403143</td>\n",
              "      <td>9.955715e-141</td>\n",
              "    </tr>\n",
              "    <tr>\n",
              "      <th>14</th>\n",
              "      <td>Nexplanon</td>\n",
              "      <td>4210.901725</td>\n",
              "      <td>1.398305e-135</td>\n",
              "    </tr>\n",
              "    <tr>\n",
              "      <th>24</th>\n",
              "      <td>Tioconazole</td>\n",
              "      <td>2044.549510</td>\n",
              "      <td>1.468906e-130</td>\n",
              "    </tr>\n",
              "    <tr>\n",
              "      <th>62</th>\n",
              "      <td>Ethinyl estradiol / norgestimate</td>\n",
              "      <td>3904.751351</td>\n",
              "      <td>1.771543e-109</td>\n",
              "    </tr>\n",
              "    <tr>\n",
              "      <th>9</th>\n",
              "      <td>Ethinyl estradiol / levonorgestrel</td>\n",
              "      <td>3508.193168</td>\n",
              "      <td>1.722480e-100</td>\n",
              "    </tr>\n",
              "    <tr>\n",
              "      <th>214</th>\n",
              "      <td>Nitrofurantoin</td>\n",
              "      <td>1316.171149</td>\n",
              "      <td>6.795270e-75</td>\n",
              "    </tr>\n",
              "    <tr>\n",
              "      <th>153</th>\n",
              "      <td>Sulfamethoxazole / trimethoprim</td>\n",
              "      <td>1200.096279</td>\n",
              "      <td>1.309849e-54</td>\n",
              "    </tr>\n",
              "    <tr>\n",
              "      <th>55</th>\n",
              "      <td>Implanon</td>\n",
              "      <td>1943.930726</td>\n",
              "      <td>1.655321e-49</td>\n",
              "    </tr>\n",
              "    <tr>\n",
              "      <th>311</th>\n",
              "      <td>Suvorexant</td>\n",
              "      <td>643.555556</td>\n",
              "      <td>4.904125e-48</td>\n",
              "    </tr>\n",
              "    <tr>\n",
              "      <th>676</th>\n",
              "      <td>Belsomra</td>\n",
              "      <td>622.615385</td>\n",
              "      <td>5.721110e-48</td>\n",
              "    </tr>\n",
              "    <tr>\n",
              "      <th>127</th>\n",
              "      <td>Mirena</td>\n",
              "      <td>2092.202884</td>\n",
              "      <td>1.899540e-46</td>\n",
              "    </tr>\n",
              "    <tr>\n",
              "      <th>101</th>\n",
              "      <td>Levofloxacin</td>\n",
              "      <td>830.600000</td>\n",
              "      <td>8.629443e-46</td>\n",
              "    </tr>\n",
              "    <tr>\n",
              "      <th>152</th>\n",
              "      <td>Benzonatate</td>\n",
              "      <td>608.662123</td>\n",
              "      <td>2.329762e-42</td>\n",
              "    </tr>\n",
              "    <tr>\n",
              "      <th>238</th>\n",
              "      <td>Ciprofloxacin</td>\n",
              "      <td>851.981443</td>\n",
              "      <td>6.997948e-42</td>\n",
              "    </tr>\n",
              "    <tr>\n",
              "      <th>309</th>\n",
              "      <td>Bisacodyl</td>\n",
              "      <td>1050.839161</td>\n",
              "      <td>1.668849e-41</td>\n",
              "    </tr>\n",
              "    <tr>\n",
              "      <th>57</th>\n",
              "      <td>Drospirenone / ethinyl estradiol</td>\n",
              "      <td>1580.197915</td>\n",
              "      <td>2.148124e-41</td>\n",
              "    </tr>\n",
              "    <tr>\n",
              "      <th>285</th>\n",
              "      <td>Amoxicillin / clavulanate</td>\n",
              "      <td>778.602018</td>\n",
              "      <td>3.479294e-40</td>\n",
              "    </tr>\n",
              "    <tr>\n",
              "      <th>387</th>\n",
              "      <td>Norethindrone</td>\n",
              "      <td>940.252688</td>\n",
              "      <td>4.064584e-40</td>\n",
              "    </tr>\n",
              "    <tr>\n",
              "      <th>68</th>\n",
              "      <td>Lo Loestrin Fe</td>\n",
              "      <td>1267.948163</td>\n",
              "      <td>3.879260e-38</td>\n",
              "    </tr>\n",
              "    <tr>\n",
              "      <th>34</th>\n",
              "      <td>Dulcolax</td>\n",
              "      <td>865.239964</td>\n",
              "      <td>3.304518e-37</td>\n",
              "    </tr>\n",
              "    <tr>\n",
              "      <th>6</th>\n",
              "      <td>Levonorgestrel</td>\n",
              "      <td>4846.796922</td>\n",
              "      <td>5.152136e-37</td>\n",
              "    </tr>\n",
              "    <tr>\n",
              "      <th>268</th>\n",
              "      <td>Metoclopramide</td>\n",
              "      <td>458.173661</td>\n",
              "      <td>6.132599e-35</td>\n",
              "    </tr>\n",
              "    <tr>\n",
              "      <th>84</th>\n",
              "      <td>Macrobid</td>\n",
              "      <td>611.211354</td>\n",
              "      <td>7.222485e-35</td>\n",
              "    </tr>\n",
              "    <tr>\n",
              "      <th>193</th>\n",
              "      <td>Cymbalta</td>\n",
              "      <td>1456.188590</td>\n",
              "      <td>4.710859e-33</td>\n",
              "    </tr>\n",
              "    <tr>\n",
              "      <th>143</th>\n",
              "      <td>Lisinopril</td>\n",
              "      <td>671.930262</td>\n",
              "      <td>3.627528e-32</td>\n",
              "    </tr>\n",
              "    <tr>\n",
              "      <th>97</th>\n",
              "      <td>Buspirone</td>\n",
              "      <td>919.973029</td>\n",
              "      <td>1.836562e-31</td>\n",
              "    </tr>\n",
              "    <tr>\n",
              "      <th>...</th>\n",
              "      <td>...</td>\n",
              "      <td>...</td>\n",
              "      <td>...</td>\n",
              "    </tr>\n",
              "    <tr>\n",
              "      <th>1792</th>\n",
              "      <td>Spinosad</td>\n",
              "      <td>0.000000</td>\n",
              "      <td>1.000000e+00</td>\n",
              "    </tr>\n",
              "    <tr>\n",
              "      <th>1810</th>\n",
              "      <td>Glucosamine</td>\n",
              "      <td>0.000000</td>\n",
              "      <td>1.000000e+00</td>\n",
              "    </tr>\n",
              "    <tr>\n",
              "      <th>1739</th>\n",
              "      <td>Calan</td>\n",
              "      <td>0.000000</td>\n",
              "      <td>1.000000e+00</td>\n",
              "    </tr>\n",
              "    <tr>\n",
              "      <th>2615</th>\n",
              "      <td>Nizoral Topical</td>\n",
              "      <td>0.000000</td>\n",
              "      <td>1.000000e+00</td>\n",
              "    </tr>\n",
              "    <tr>\n",
              "      <th>1856</th>\n",
              "      <td>Migergot</td>\n",
              "      <td>0.000000</td>\n",
              "      <td>1.000000e+00</td>\n",
              "    </tr>\n",
              "    <tr>\n",
              "      <th>2605</th>\n",
              "      <td>Chlorpheniramine / methscopolamine / pseudoeph...</td>\n",
              "      <td>0.000000</td>\n",
              "      <td>1.000000e+00</td>\n",
              "    </tr>\n",
              "    <tr>\n",
              "      <th>1876</th>\n",
              "      <td>EpiPen</td>\n",
              "      <td>0.000000</td>\n",
              "      <td>1.000000e+00</td>\n",
              "    </tr>\n",
              "    <tr>\n",
              "      <th>1882</th>\n",
              "      <td>Myleran</td>\n",
              "      <td>0.000000</td>\n",
              "      <td>1.000000e+00</td>\n",
              "    </tr>\n",
              "    <tr>\n",
              "      <th>1896</th>\n",
              "      <td>Urso</td>\n",
              "      <td>0.000000</td>\n",
              "      <td>1.000000e+00</td>\n",
              "    </tr>\n",
              "    <tr>\n",
              "      <th>2590</th>\n",
              "      <td>Primlev</td>\n",
              "      <td>0.000000</td>\n",
              "      <td>1.000000e+00</td>\n",
              "    </tr>\n",
              "    <tr>\n",
              "      <th>1852</th>\n",
              "      <td>Paregoric</td>\n",
              "      <td>0.000000</td>\n",
              "      <td>1.000000e+00</td>\n",
              "    </tr>\n",
              "    <tr>\n",
              "      <th>1036</th>\n",
              "      <td>Siliq</td>\n",
              "      <td>0.000000</td>\n",
              "      <td>1.000000e+00</td>\n",
              "    </tr>\n",
              "    <tr>\n",
              "      <th>1712</th>\n",
              "      <td>Combivir</td>\n",
              "      <td>0.000000</td>\n",
              "      <td>1.000000e+00</td>\n",
              "    </tr>\n",
              "    <tr>\n",
              "      <th>1679</th>\n",
              "      <td>Bupivacaine liposome</td>\n",
              "      <td>0.000000</td>\n",
              "      <td>1.000000e+00</td>\n",
              "    </tr>\n",
              "    <tr>\n",
              "      <th>1448</th>\n",
              "      <td>Temovate</td>\n",
              "      <td>0.000000</td>\n",
              "      <td>1.000000e+00</td>\n",
              "    </tr>\n",
              "    <tr>\n",
              "      <th>1449</th>\n",
              "      <td>Xtandi</td>\n",
              "      <td>0.000000</td>\n",
              "      <td>1.000000e+00</td>\n",
              "    </tr>\n",
              "    <tr>\n",
              "      <th>2708</th>\n",
              "      <td>Sulfatrim</td>\n",
              "      <td>0.000000</td>\n",
              "      <td>1.000000e+00</td>\n",
              "    </tr>\n",
              "    <tr>\n",
              "      <th>1451</th>\n",
              "      <td>Salicylic acid / sulfur</td>\n",
              "      <td>0.000000</td>\n",
              "      <td>1.000000e+00</td>\n",
              "    </tr>\n",
              "    <tr>\n",
              "      <th>2703</th>\n",
              "      <td>Brethine</td>\n",
              "      <td>0.000000</td>\n",
              "      <td>1.000000e+00</td>\n",
              "    </tr>\n",
              "    <tr>\n",
              "      <th>1487</th>\n",
              "      <td>Daclatasvir</td>\n",
              "      <td>0.000000</td>\n",
              "      <td>1.000000e+00</td>\n",
              "    </tr>\n",
              "    <tr>\n",
              "      <th>2648</th>\n",
              "      <td>Ferumoxytol</td>\n",
              "      <td>0.000000</td>\n",
              "      <td>1.000000e+00</td>\n",
              "    </tr>\n",
              "    <tr>\n",
              "      <th>1494</th>\n",
              "      <td>Empagliflozin / metformin</td>\n",
              "      <td>0.000000</td>\n",
              "      <td>1.000000e+00</td>\n",
              "    </tr>\n",
              "    <tr>\n",
              "      <th>2684</th>\n",
              "      <td>Citrate of Magnesia</td>\n",
              "      <td>0.000000</td>\n",
              "      <td>1.000000e+00</td>\n",
              "    </tr>\n",
              "    <tr>\n",
              "      <th>2680</th>\n",
              "      <td>Oxyfast</td>\n",
              "      <td>0.000000</td>\n",
              "      <td>1.000000e+00</td>\n",
              "    </tr>\n",
              "    <tr>\n",
              "      <th>2678</th>\n",
              "      <td>Dantrolene</td>\n",
              "      <td>0.000000</td>\n",
              "      <td>1.000000e+00</td>\n",
              "    </tr>\n",
              "    <tr>\n",
              "      <th>1618</th>\n",
              "      <td>Red yeast rice</td>\n",
              "      <td>0.000000</td>\n",
              "      <td>1.000000e+00</td>\n",
              "    </tr>\n",
              "    <tr>\n",
              "      <th>2657</th>\n",
              "      <td>Gelusil</td>\n",
              "      <td>0.000000</td>\n",
              "      <td>1.000000e+00</td>\n",
              "    </tr>\n",
              "    <tr>\n",
              "      <th>1658</th>\n",
              "      <td>Children's Motrin</td>\n",
              "      <td>0.000000</td>\n",
              "      <td>1.000000e+00</td>\n",
              "    </tr>\n",
              "    <tr>\n",
              "      <th>1500</th>\n",
              "      <td>Acetaminophen / pseudoephedrine</td>\n",
              "      <td>0.000000</td>\n",
              "      <td>1.000000e+00</td>\n",
              "    </tr>\n",
              "    <tr>\n",
              "      <th>336</th>\n",
              "      <td>Phentermine</td>\n",
              "      <td>686.243269</td>\n",
              "      <td>1.000000e+00</td>\n",
              "    </tr>\n",
              "  </tbody>\n",
              "</table>\n",
              "<p>2632 rows × 3 columns</p>\n",
              "</div>"
            ],
            "text/plain": [
              "                                               drugName    statistic  \\\n",
              "171                   Ethinyl estradiol / norethindrone  5912.165464   \n",
              "22                                         Etonogestrel  6322.289559   \n",
              "137                                          Miconazole  2895.453676   \n",
              "107                                 Medroxyprogesterone  2671.372491   \n",
              "112                                        Depo-Provera  2399.403143   \n",
              "14                                            Nexplanon  4210.901725   \n",
              "24                                          Tioconazole  2044.549510   \n",
              "62                     Ethinyl estradiol / norgestimate  3904.751351   \n",
              "9                    Ethinyl estradiol / levonorgestrel  3508.193168   \n",
              "214                                      Nitrofurantoin  1316.171149   \n",
              "153                     Sulfamethoxazole / trimethoprim  1200.096279   \n",
              "55                                             Implanon  1943.930726   \n",
              "311                                          Suvorexant   643.555556   \n",
              "676                                            Belsomra   622.615385   \n",
              "127                                              Mirena  2092.202884   \n",
              "101                                        Levofloxacin   830.600000   \n",
              "152                                         Benzonatate   608.662123   \n",
              "238                                       Ciprofloxacin   851.981443   \n",
              "309                                           Bisacodyl  1050.839161   \n",
              "57                     Drospirenone / ethinyl estradiol  1580.197915   \n",
              "285                           Amoxicillin / clavulanate   778.602018   \n",
              "387                                       Norethindrone   940.252688   \n",
              "68                                       Lo Loestrin Fe  1267.948163   \n",
              "34                                             Dulcolax   865.239964   \n",
              "6                                        Levonorgestrel  4846.796922   \n",
              "268                                      Metoclopramide   458.173661   \n",
              "84                                             Macrobid   611.211354   \n",
              "193                                            Cymbalta  1456.188590   \n",
              "143                                          Lisinopril   671.930262   \n",
              "97                                            Buspirone   919.973029   \n",
              "...                                                 ...          ...   \n",
              "1792                                           Spinosad     0.000000   \n",
              "1810                                        Glucosamine     0.000000   \n",
              "1739                                              Calan     0.000000   \n",
              "2615                                    Nizoral Topical     0.000000   \n",
              "1856                                           Migergot     0.000000   \n",
              "2605  Chlorpheniramine / methscopolamine / pseudoeph...     0.000000   \n",
              "1876                                             EpiPen     0.000000   \n",
              "1882                                            Myleran     0.000000   \n",
              "1896                                               Urso     0.000000   \n",
              "2590                                            Primlev     0.000000   \n",
              "1852                                          Paregoric     0.000000   \n",
              "1036                                              Siliq     0.000000   \n",
              "1712                                           Combivir     0.000000   \n",
              "1679                               Bupivacaine liposome     0.000000   \n",
              "1448                                           Temovate     0.000000   \n",
              "1449                                             Xtandi     0.000000   \n",
              "2708                                          Sulfatrim     0.000000   \n",
              "1451                            Salicylic acid / sulfur     0.000000   \n",
              "2703                                           Brethine     0.000000   \n",
              "1487                                        Daclatasvir     0.000000   \n",
              "2648                                        Ferumoxytol     0.000000   \n",
              "1494                          Empagliflozin / metformin     0.000000   \n",
              "2684                                Citrate of Magnesia     0.000000   \n",
              "2680                                            Oxyfast     0.000000   \n",
              "2678                                         Dantrolene     0.000000   \n",
              "1618                                     Red yeast rice     0.000000   \n",
              "2657                                            Gelusil     0.000000   \n",
              "1658                                  Children's Motrin     0.000000   \n",
              "1500                    Acetaminophen / pseudoephedrine     0.000000   \n",
              "336                                         Phentermine   686.243269   \n",
              "\n",
              "             pvalue  \n",
              "171   3.004069e-216  \n",
              "22    3.557109e-188  \n",
              "137   1.016959e-183  \n",
              "107   1.492018e-153  \n",
              "112   9.955715e-141  \n",
              "14    1.398305e-135  \n",
              "24    1.468906e-130  \n",
              "62    1.771543e-109  \n",
              "9     1.722480e-100  \n",
              "214    6.795270e-75  \n",
              "153    1.309849e-54  \n",
              "55     1.655321e-49  \n",
              "311    4.904125e-48  \n",
              "676    5.721110e-48  \n",
              "127    1.899540e-46  \n",
              "101    8.629443e-46  \n",
              "152    2.329762e-42  \n",
              "238    6.997948e-42  \n",
              "309    1.668849e-41  \n",
              "57     2.148124e-41  \n",
              "285    3.479294e-40  \n",
              "387    4.064584e-40  \n",
              "68     3.879260e-38  \n",
              "34     3.304518e-37  \n",
              "6      5.152136e-37  \n",
              "268    6.132599e-35  \n",
              "84     7.222485e-35  \n",
              "193    4.710859e-33  \n",
              "143    3.627528e-32  \n",
              "97     1.836562e-31  \n",
              "...             ...  \n",
              "1792   1.000000e+00  \n",
              "1810   1.000000e+00  \n",
              "1739   1.000000e+00  \n",
              "2615   1.000000e+00  \n",
              "1856   1.000000e+00  \n",
              "2605   1.000000e+00  \n",
              "1876   1.000000e+00  \n",
              "1882   1.000000e+00  \n",
              "1896   1.000000e+00  \n",
              "2590   1.000000e+00  \n",
              "1852   1.000000e+00  \n",
              "1036   1.000000e+00  \n",
              "1712   1.000000e+00  \n",
              "1679   1.000000e+00  \n",
              "1448   1.000000e+00  \n",
              "1449   1.000000e+00  \n",
              "2708   1.000000e+00  \n",
              "1451   1.000000e+00  \n",
              "2703   1.000000e+00  \n",
              "1487   1.000000e+00  \n",
              "2648   1.000000e+00  \n",
              "1494   1.000000e+00  \n",
              "2684   1.000000e+00  \n",
              "2680   1.000000e+00  \n",
              "2678   1.000000e+00  \n",
              "1618   1.000000e+00  \n",
              "2657   1.000000e+00  \n",
              "1658   1.000000e+00  \n",
              "1500   1.000000e+00  \n",
              "336    1.000000e+00  \n",
              "\n",
              "[2632 rows x 3 columns]"
            ]
          },
          "metadata": {
            "tags": []
          },
          "execution_count": 65
        }
      ]
    }
  ]
}