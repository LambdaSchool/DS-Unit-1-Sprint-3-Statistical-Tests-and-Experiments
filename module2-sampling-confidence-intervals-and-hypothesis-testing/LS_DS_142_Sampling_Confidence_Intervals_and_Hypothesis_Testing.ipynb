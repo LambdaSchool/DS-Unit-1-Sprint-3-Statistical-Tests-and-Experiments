{
  "nbformat": 4,
  "nbformat_minor": 0,
  "metadata": {
    "colab": {
      "name": "LS_DS_142_Sampling_Confidence_Intervals_and_Hypothesis_Testing.ipynb",
      "version": "0.3.2",
      "provenance": [],
      "collapsed_sections": [],
      "include_colab_link": true
    },
    "kernelspec": {
      "name": "python3",
      "display_name": "Python 3"
    }
  },
  "cells": [
    {
      "cell_type": "markdown",
      "metadata": {
        "id": "view-in-github",
        "colab_type": "text"
      },
      "source": [
        "<a href=\"https://colab.research.google.com/github/Alex-Witt/DS-Unit-1-Sprint-4-Statistical-Tests-and-Experiments/blob/master/module2-sampling-confidence-intervals-and-hypothesis-testing/LS_DS_142_Sampling_Confidence_Intervals_and_Hypothesis_Testing.ipynb\" target=\"_parent\"><img src=\"https://colab.research.google.com/assets/colab-badge.svg\" alt=\"Open In Colab\"/></a>"
      ]
    },
    {
      "metadata": {
        "id": "838Dmw1kM2LK",
        "colab_type": "text"
      },
      "cell_type": "markdown",
      "source": [
        "# Lambda School Data Science Module 142\n",
        "## Sampling, Confidence Intervals, and Hypothesis Testing"
      ]
    },
    {
      "metadata": {
        "id": "dbcPKIo5M6Ny",
        "colab_type": "text"
      },
      "cell_type": "markdown",
      "source": [
        "## Prepare - examine other available hypothesis tests\n",
        "\n",
        "If you had to pick a single hypothesis test in your toolbox, t-test would probably be the best choice - but the good news is you don't have to pick just one! Here's some of the others to be aware of:"
      ]
    },
    {
      "metadata": {
        "id": "tlBel8j9M6tB",
        "colab_type": "code",
        "outputId": "6d29f212-115d-46d6-def8-f0c8fff903b9",
        "colab": {
          "base_uri": "https://localhost:8080/",
          "height": 187
        }
      },
      "cell_type": "code",
      "source": [
        "import numpy as np\n",
        "from scipy.stats import chisquare  # One-way chi square test\n",
        "\n",
        "# Chi square can take any crosstab/table and test the independence of rows/cols\n",
        "# The null hypothesis is that the rows/cols are independent -> low chi square\n",
        "# The alternative is that there is a dependence -> high chi square\n",
        "# Be aware! Chi square does *not* tell you direction/causation\n",
        "\n",
        "ind_obs = np.array([[1, 2], [1, 2]]).T\n",
        "print(ind_obs)\n",
        "print(chisquare(ind_obs, axis=None))\n",
        "\n",
        "dep_obs = np.array([[16, 18, 16, 14, 12, 12], [32, 24, 16, 28, 20, 24]]).T\n",
        "print(dep_obs)\n",
        "print(chisquare(dep_obs, axis=None))"
      ],
      "execution_count": 2,
      "outputs": [
        {
          "output_type": "stream",
          "text": [
            "[[1 1]\n",
            " [2 2]]\n",
            "Power_divergenceResult(statistic=0.6666666666666666, pvalue=0.8810148425137847)\n",
            "[[16 32]\n",
            " [18 24]\n",
            " [16 16]\n",
            " [14 28]\n",
            " [12 20]\n",
            " [12 24]]\n",
            "Power_divergenceResult(statistic=23.31034482758621, pvalue=0.015975692534127565)\n"
          ],
          "name": "stdout"
        }
      ]
    },
    {
      "metadata": {
        "id": "nN0BdNiDPxbk",
        "colab_type": "code",
        "outputId": "8dce831f-448f-4612-dc1f-fa074a32e34c",
        "colab": {
          "base_uri": "https://localhost:8080/",
          "height": 34
        }
      },
      "cell_type": "code",
      "source": [
        "# Distribution tests:\n",
        "# We often assume that something is normal, but it can be important to *check*\n",
        "\n",
        "# For example, later on with predictive modeling, a typical assumption is that\n",
        "# residuals (prediction errors) are normal - checking is a good diagnostic\n",
        "\n",
        "from scipy.stats import normaltest\n",
        "# Poisson models arrival times and is related to the binomial (coinflip)\n",
        "sample = np.random.poisson(5, 1000)\n",
        "print(normaltest(sample))  # Pretty clearly not normal"
      ],
      "execution_count": 3,
      "outputs": [
        {
          "output_type": "stream",
          "text": [
            "NormaltestResult(statistic=38.12061163843713, pvalue=5.274901560797667e-09)\n"
          ],
          "name": "stdout"
        }
      ]
    },
    {
      "metadata": {
        "id": "P5t0WhkDReFO",
        "colab_type": "code",
        "outputId": "6e040701-670d-4bd8-c7dd-f069dbc66994",
        "colab": {
          "base_uri": "https://localhost:8080/",
          "height": 51
        }
      },
      "cell_type": "code",
      "source": [
        "# Kruskal-Wallis H-test - compare the median rank between 2+ groups\n",
        "# Can be applied to ranking decisions/outcomes/recommendations\n",
        "# The underlying math comes from chi-square distribution, and is best for n>5\n",
        "from scipy.stats import kruskal\n",
        "\n",
        "x1 = [1, 3, 5, 7, 9]\n",
        "y1 = [2, 4, 6, 8, 10]\n",
        "print(kruskal(x1, y1))  # x1 is a little better, but not \"significantly\" so\n",
        "\n",
        "x2 = [1, 1, 1]\n",
        "y2 = [2, 2, 2]\n",
        "z = [2, 2]  # Hey, a third group, and of different size!\n",
        "print(kruskal(x2, y2, z))  # x clearly dominates"
      ],
      "execution_count": 4,
      "outputs": [
        {
          "output_type": "stream",
          "text": [
            "KruskalResult(statistic=0.2727272727272734, pvalue=0.6015081344405895)\n",
            "KruskalResult(statistic=7.0, pvalue=0.0301973834223185)\n"
          ],
          "name": "stdout"
        }
      ]
    },
    {
      "metadata": {
        "id": "7pT3IP36Rh0b",
        "colab_type": "text"
      },
      "cell_type": "markdown",
      "source": [
        "And there's many more! `scipy.stats` is fairly comprehensive, though there are even more available if you delve into the extended world of statistics packages. As tests get increasingly obscure and specialized, the importance of knowing them by heart becomes small - but being able to look them up and figure them out when they *are* relevant is still important."
      ]
    },
    {
      "metadata": {
        "id": "L1_KRuHCM7BW",
        "colab_type": "text"
      },
      "cell_type": "markdown",
      "source": [
        "## Live Lecture - let's explore some more of scipy.stats\n",
        "\n",
        "Candidate topics to explore:\n",
        "\n",
        "- `scipy.stats.chi2` - the Chi-squared distribution, which we can use to reproduce the Chi-squared test\n",
        "- Calculate the Chi-Squared test statistic \"by hand\" (with code), and feed it into `chi2`\n",
        "- Build a confidence interval with `stats.t.ppf`, the t-distribution percentile point function (the inverse of the CDF) - we can write a function to return a tuple of `(mean, lower bound, upper bound)` that you can then use for the assignment (visualizing confidence intervals)"
      ]
    },
    {
      "metadata": {
        "id": "qW6k0dorM7Lz",
        "colab_type": "code",
        "outputId": "f7316663-24a7-4f4f-b697-151156819538",
        "colab": {
          "base_uri": "https://localhost:8080/",
          "height": 235
        }
      },
      "cell_type": "code",
      "source": [
        "gender = ['male', 'male','male','female','female','female']\n",
        "eats_outside = ['outside','inside','inside','inside','outside','outside']\n",
        "\n",
        "import pandas as pd\n",
        "\n",
        "df = pd.DataFrame({'gender': gender, 'preference':eats_outside})\n",
        "df.head(6)"
      ],
      "execution_count": 5,
      "outputs": [
        {
          "output_type": "execute_result",
          "data": {
            "text/html": [
              "<div>\n",
              "<style scoped>\n",
              "    .dataframe tbody tr th:only-of-type {\n",
              "        vertical-align: middle;\n",
              "    }\n",
              "\n",
              "    .dataframe tbody tr th {\n",
              "        vertical-align: top;\n",
              "    }\n",
              "\n",
              "    .dataframe thead th {\n",
              "        text-align: right;\n",
              "    }\n",
              "</style>\n",
              "<table border=\"1\" class=\"dataframe\">\n",
              "  <thead>\n",
              "    <tr style=\"text-align: right;\">\n",
              "      <th></th>\n",
              "      <th>gender</th>\n",
              "      <th>preference</th>\n",
              "    </tr>\n",
              "  </thead>\n",
              "  <tbody>\n",
              "    <tr>\n",
              "      <th>0</th>\n",
              "      <td>male</td>\n",
              "      <td>outside</td>\n",
              "    </tr>\n",
              "    <tr>\n",
              "      <th>1</th>\n",
              "      <td>male</td>\n",
              "      <td>inside</td>\n",
              "    </tr>\n",
              "    <tr>\n",
              "      <th>2</th>\n",
              "      <td>male</td>\n",
              "      <td>inside</td>\n",
              "    </tr>\n",
              "    <tr>\n",
              "      <th>3</th>\n",
              "      <td>female</td>\n",
              "      <td>inside</td>\n",
              "    </tr>\n",
              "    <tr>\n",
              "      <th>4</th>\n",
              "      <td>female</td>\n",
              "      <td>outside</td>\n",
              "    </tr>\n",
              "    <tr>\n",
              "      <th>5</th>\n",
              "      <td>female</td>\n",
              "      <td>outside</td>\n",
              "    </tr>\n",
              "  </tbody>\n",
              "</table>\n",
              "</div>"
            ],
            "text/plain": [
              "   gender preference\n",
              "0    male    outside\n",
              "1    male     inside\n",
              "2    male     inside\n",
              "3  female     inside\n",
              "4  female    outside\n",
              "5  female    outside"
            ]
          },
          "metadata": {
            "tags": []
          },
          "execution_count": 5
        }
      ]
    },
    {
      "metadata": {
        "id": "VwCNcMyLAreP",
        "colab_type": "code",
        "outputId": "26d92417-f15d-4932-a8ef-c94f73776aff",
        "colab": {
          "base_uri": "https://localhost:8080/",
          "height": 173
        }
      },
      "cell_type": "code",
      "source": [
        "pd.crosstab(df.gender, df.preference, margins = True)"
      ],
      "execution_count": 6,
      "outputs": [
        {
          "output_type": "execute_result",
          "data": {
            "text/html": [
              "<div>\n",
              "<style scoped>\n",
              "    .dataframe tbody tr th:only-of-type {\n",
              "        vertical-align: middle;\n",
              "    }\n",
              "\n",
              "    .dataframe tbody tr th {\n",
              "        vertical-align: top;\n",
              "    }\n",
              "\n",
              "    .dataframe thead th {\n",
              "        text-align: right;\n",
              "    }\n",
              "</style>\n",
              "<table border=\"1\" class=\"dataframe\">\n",
              "  <thead>\n",
              "    <tr style=\"text-align: right;\">\n",
              "      <th>preference</th>\n",
              "      <th>inside</th>\n",
              "      <th>outside</th>\n",
              "      <th>All</th>\n",
              "    </tr>\n",
              "    <tr>\n",
              "      <th>gender</th>\n",
              "      <th></th>\n",
              "      <th></th>\n",
              "      <th></th>\n",
              "    </tr>\n",
              "  </thead>\n",
              "  <tbody>\n",
              "    <tr>\n",
              "      <th>female</th>\n",
              "      <td>1</td>\n",
              "      <td>2</td>\n",
              "      <td>3</td>\n",
              "    </tr>\n",
              "    <tr>\n",
              "      <th>male</th>\n",
              "      <td>2</td>\n",
              "      <td>1</td>\n",
              "      <td>3</td>\n",
              "    </tr>\n",
              "    <tr>\n",
              "      <th>All</th>\n",
              "      <td>3</td>\n",
              "      <td>3</td>\n",
              "      <td>6</td>\n",
              "    </tr>\n",
              "  </tbody>\n",
              "</table>\n",
              "</div>"
            ],
            "text/plain": [
              "preference  inside  outside  All\n",
              "gender                          \n",
              "female           1        2    3\n",
              "male             2        1    3\n",
              "All              3        3    6"
            ]
          },
          "metadata": {
            "tags": []
          },
          "execution_count": 6
        }
      ]
    },
    {
      "metadata": {
        "id": "NncvKteBBwdM",
        "colab_type": "code",
        "outputId": "ed7fc03c-a5a1-4eee-e108-6dddcbe2ca98",
        "colab": {
          "base_uri": "https://localhost:8080/",
          "height": 204
        }
      },
      "cell_type": "code",
      "source": [
        "df = df.replace(\"male\", 0)\n",
        "df = df.replace(\"female\", 1)\n",
        "df = df.replace('inside', 1)\n",
        "df = df.replace('outside', 0)\n",
        "\n",
        "df.head()"
      ],
      "execution_count": 7,
      "outputs": [
        {
          "output_type": "execute_result",
          "data": {
            "text/html": [
              "<div>\n",
              "<style scoped>\n",
              "    .dataframe tbody tr th:only-of-type {\n",
              "        vertical-align: middle;\n",
              "    }\n",
              "\n",
              "    .dataframe tbody tr th {\n",
              "        vertical-align: top;\n",
              "    }\n",
              "\n",
              "    .dataframe thead th {\n",
              "        text-align: right;\n",
              "    }\n",
              "</style>\n",
              "<table border=\"1\" class=\"dataframe\">\n",
              "  <thead>\n",
              "    <tr style=\"text-align: right;\">\n",
              "      <th></th>\n",
              "      <th>gender</th>\n",
              "      <th>preference</th>\n",
              "    </tr>\n",
              "  </thead>\n",
              "  <tbody>\n",
              "    <tr>\n",
              "      <th>0</th>\n",
              "      <td>0</td>\n",
              "      <td>0</td>\n",
              "    </tr>\n",
              "    <tr>\n",
              "      <th>1</th>\n",
              "      <td>0</td>\n",
              "      <td>1</td>\n",
              "    </tr>\n",
              "    <tr>\n",
              "      <th>2</th>\n",
              "      <td>0</td>\n",
              "      <td>1</td>\n",
              "    </tr>\n",
              "    <tr>\n",
              "      <th>3</th>\n",
              "      <td>1</td>\n",
              "      <td>1</td>\n",
              "    </tr>\n",
              "    <tr>\n",
              "      <th>4</th>\n",
              "      <td>1</td>\n",
              "      <td>0</td>\n",
              "    </tr>\n",
              "  </tbody>\n",
              "</table>\n",
              "</div>"
            ],
            "text/plain": [
              "   gender  preference\n",
              "0       0           0\n",
              "1       0           1\n",
              "2       0           1\n",
              "3       1           1\n",
              "4       1           0"
            ]
          },
          "metadata": {
            "tags": []
          },
          "execution_count": 7
        }
      ]
    },
    {
      "metadata": {
        "id": "g_gWZhdeCe0s",
        "colab_type": "text"
      },
      "cell_type": "markdown",
      "source": [
        ""
      ]
    },
    {
      "metadata": {
        "id": "kx0-BR5dCF4c",
        "colab_type": "code",
        "outputId": "ba638f37-fb1e-4782-feb8-28fbb1149614",
        "colab": {
          "base_uri": "https://localhost:8080/",
          "height": 187
        }
      },
      "cell_type": "code",
      "source": [
        "pd.crosstab(df.gender, df.preference, margins = True)\n",
        "\n",
        "expected = np.array([[6/4,6/4],\n",
        "                    [6/4,6/4]])\n",
        "\n",
        "# Let's think about marginal proportions\n",
        "## n of males = 3\n",
        "## n of females = 3\n",
        "## n of outside = 3\n",
        "## n of inside = 3\n",
        "\n",
        "# Marginal Proportion of the first row\n",
        "# obs / total = (3 males) / (6 Humans)\n",
        "\n",
        "pd.crosstab(df.gender, df.preference, margins = True, normalize = 'all')\n",
        "\n",
        "#observed is a table of the marginal proportions of each subgroup\n",
        "observed = np.array([[.5,.5],\n",
        "                    [.5,.5]])\n",
        "\n",
        "deviation = numerator = observed - expected\n",
        "print(numerator)\n",
        "\n",
        "deviation_squared = deviation**2\n",
        "print()\n",
        "print('Deviation Squared:', deviation_squared)\n",
        "print()\n",
        "\n",
        "fraction = (deviation_squared / expected)\n",
        "print(fraction)\n",
        "print()\n",
        "\n",
        "chi2 = fraction.sum()\n",
        "print(chi2/4)"
      ],
      "execution_count": 8,
      "outputs": [
        {
          "output_type": "stream",
          "text": [
            "[[-1. -1.]\n",
            " [-1. -1.]]\n",
            "\n",
            "Deviation Squared: [[1. 1.]\n",
            " [1. 1.]]\n",
            "\n",
            "[[0.66666667 0.66666667]\n",
            " [0.66666667 0.66666667]]\n",
            "\n",
            "0.6666666666666666\n"
          ],
          "name": "stdout"
        }
      ]
    },
    {
      "metadata": {
        "id": "4Z6xI0XiCVO6",
        "colab_type": "code",
        "outputId": "1686a71a-9335-49ec-ac2a-56da6ee9455b",
        "colab": {
          "base_uri": "https://localhost:8080/",
          "height": 34
        }
      },
      "cell_type": "code",
      "source": [
        "chi_data = [[1,2],[2,1]]\n",
        "\n",
        "from scipy.stats import chisquare\n",
        "\n",
        "chisquare(chi_data, axis= None)"
      ],
      "execution_count": 9,
      "outputs": [
        {
          "output_type": "execute_result",
          "data": {
            "text/plain": [
              "Power_divergenceResult(statistic=0.6666666666666666, pvalue=0.8810148425137847)"
            ]
          },
          "metadata": {
            "tags": []
          },
          "execution_count": 9
        }
      ]
    },
    {
      "metadata": {
        "id": "CPtk0_lxICPM",
        "colab_type": "code",
        "outputId": "fe2cf6a7-5ce4-4b79-e7b5-b14e38fd814b",
        "colab": {
          "base_uri": "https://localhost:8080/",
          "height": 119
        }
      },
      "cell_type": "code",
      "source": [
        "from scipy.stats import chi2_contingency \n",
        "\n",
        "\n",
        "table = [[1,2],[2,4]]\n",
        "\n",
        "chi2statistic, pvalue, dof, observed = chi2_contingency(table)\n",
        "\n",
        "print(\"chi2 stat\", chi2statistic)\n",
        "print(\"p-value\", pvalue)\n",
        "print('degrees of freedom', dof)\n",
        "print(\"Contingency Table: \\n\", observed)"
      ],
      "execution_count": 10,
      "outputs": [
        {
          "output_type": "stream",
          "text": [
            "chi2 stat 0.0\n",
            "p-value 1.0\n",
            "degrees of freedom 1\n",
            "Contingency Table: \n",
            " [[1. 2.]\n",
            " [2. 4.]]\n"
          ],
          "name": "stdout"
        }
      ]
    },
    {
      "metadata": {
        "id": "G1o3R2_RIqrG",
        "colab_type": "code",
        "outputId": "cafeb2e4-8fc2-4038-f60b-0ea0ba8eead0",
        "colab": {
          "base_uri": "https://localhost:8080/",
          "height": 34
        }
      },
      "cell_type": "code",
      "source": [
        "def lazy_chisquare(observed, expected):\n",
        "  chisquare = 0\n",
        "  for row_obs, row_exp in zip(observed, expected):\n",
        "    for obs, exp in zip(row_obs, row_exp):\n",
        "      chisquare += (obs - exp)**2 / exp\n",
        "  return chisquare\n",
        "\n",
        "chi_data = [[1, 2], [2, 1]]\n",
        "expected_values = [[1.5, 1.5], [1.5, 1.5]]\n",
        "chistat = lazy_chisquare(chi_data, expected_values)\n",
        "chistat"
      ],
      "execution_count": 11,
      "outputs": [
        {
          "output_type": "execute_result",
          "data": {
            "text/plain": [
              "0.6666666666666666"
            ]
          },
          "metadata": {
            "tags": []
          },
          "execution_count": 11
        }
      ]
    },
    {
      "metadata": {
        "id": "ljEm1ciNLSQi",
        "colab_type": "text"
      },
      "cell_type": "markdown",
      "source": [
        "## Confidence Intervals"
      ]
    },
    {
      "metadata": {
        "id": "s7H1PNKILW-q",
        "colab_type": "code",
        "outputId": "0d0b2a6f-534c-416e-8469-8777e8aec0c6",
        "colab": {
          "base_uri": "https://localhost:8080/",
          "height": 68
        }
      },
      "cell_type": "code",
      "source": [
        "# confidence_interval = [lower_bound, upper_bound]\n",
        "\n",
        "coinflips = np.random.binomial(n=1, p=.5, size = 100)\n",
        "\n",
        "print(coinflips)"
      ],
      "execution_count": 12,
      "outputs": [
        {
          "output_type": "stream",
          "text": [
            "[0 1 0 1 0 0 0 0 1 1 1 1 0 0 1 0 1 0 1 1 0 0 1 0 0 1 0 1 0 1 1 1 0 1 1 1 0\n",
            " 0 0 0 1 1 1 1 1 1 1 1 0 1 1 1 1 1 1 1 0 1 1 0 0 0 0 0 1 1 1 1 1 0 0 1 1 0\n",
            " 0 0 0 0 0 1 0 1 1 1 0 1 0 0 1 1 1 1 1 1 0 1 1 0 1 0]\n"
          ],
          "name": "stdout"
        }
      ]
    },
    {
      "metadata": {
        "id": "IRcmj_rOMN3b",
        "colab_type": "code",
        "outputId": "ff737327-b495-455c-dee4-6f7fa2b20da9",
        "colab": {
          "base_uri": "https://localhost:8080/",
          "height": 34
        }
      },
      "cell_type": "code",
      "source": [
        "import scipy.stats as stats\n",
        "\n",
        "stats.ttest_1samp(coinflips, 0.5)"
      ],
      "execution_count": 13,
      "outputs": [
        {
          "output_type": "execute_result",
          "data": {
            "text/plain": [
              "Ttest_1sampResult(statistic=1.4068376475139788, pvalue=0.16260708556337253)"
            ]
          },
          "metadata": {
            "tags": []
          },
          "execution_count": 13
        }
      ]
    },
    {
      "metadata": {
        "id": "9rJhmZakMbhN",
        "colab_type": "code",
        "colab": {}
      },
      "cell_type": "code",
      "source": [
        "# Confidence intervals!\n",
        "# Similar to hypothesis testing, but centered at sample mean\n",
        "# Generally better than reporting the \"point estimate\" (sample mean)\n",
        "# Why? Because point estimates aren't always perfect\n",
        "\n",
        "import numpy as np\n",
        "from scipy import stats\n",
        "\n",
        "def confidence_interval(data, confidence=0.95):\n",
        "  \"\"\"\n",
        "  Calculate a confidence interval around a sample mean for given data.\n",
        "  Using t-distribution and two-tailed test, default 95% confidence. \n",
        "  \n",
        "  Arguments:\n",
        "    data - iterable (list or numpy array) of sample observations\n",
        "    confidence - level of confidence for the interval\n",
        "  \n",
        "  Returns:\n",
        "    tuple of (mean, lower bound, upper bound)\n",
        "  \"\"\"\n",
        "  data = np.array(data)\n",
        "  mean = np.mean(data)\n",
        "  n = len(data)\n",
        "  stderr = stats.sem(data)\n",
        "  interval = stderr * stats.t.ppf((1 + confidence) / 2., n - 1)\n",
        "  return (mean, mean - interval, mean + interval)\n",
        "\n",
        "def report_confidence_interval(confidence_interval):\n",
        "  \"\"\"\n",
        "  Return a string with a pretty report of a confidence interval.\n",
        "  \n",
        "  Arguments:\n",
        "    confidence_interval - tuple of (mean, lower bound, upper bound)\n",
        "  \n",
        "  Returns:\n",
        "    None, but prints to screen the report\n",
        "  \"\"\"\n",
        "  #print('Mean: {}'.format(confidence_interval[0]))\n",
        "  #print('Lower bound: {}'.format(confidence_interval[1]))\n",
        "  #print('Upper bound: {}'.format(confidence_interval[2]))\n",
        "  s = \"our mean lies in the interval [{:.2}, {:.2}]\".format(\n",
        "      confidence_interval[1], confidence_interval[2])\n",
        "  return s"
      ],
      "execution_count": 0,
      "outputs": []
    },
    {
      "metadata": {
        "id": "kO29el0eReur",
        "colab_type": "code",
        "outputId": "a4ab26b9-4eca-499e-fba1-f0b095e7a724",
        "colab": {
          "base_uri": "https://localhost:8080/",
          "height": 51
        }
      },
      "cell_type": "code",
      "source": [
        "coinflip_interval = confidence_interval(coinflips)  # Default 95% conf\n",
        "coinflip_interval\n",
        "\n",
        "\n",
        "print(.68 - .58697)\n",
        "\n",
        "print(.68 - .77303)"
      ],
      "execution_count": 15,
      "outputs": [
        {
          "output_type": "stream",
          "text": [
            "0.09303000000000006\n",
            "-0.09302999999999995\n"
          ],
          "name": "stdout"
        }
      ]
    },
    {
      "metadata": {
        "id": "11OzdxWTM7UR",
        "colab_type": "text"
      },
      "cell_type": "markdown",
      "source": [
        "## Assignment - Build a confidence interval\n",
        "\n",
        "A confidence interval refers to a neighborhood around some point estimate, the size of which is determined by the desired p-value. For instance, we might say that 52% of Americans prefer tacos to burritos, with a 95% confidence interval of +/- 5%.\n",
        "\n",
        "52% (0.52) is the point estimate, and +/- 5% (the interval $[0.47, 0.57]$) is the confidence interval. \"95% confidence\" means a p-value $\\leq 1 - 0.95 = 0.05$.\n",
        "\n",
        "In this case, the confidence interval includes $0.5$ - which is the natural null hypothesis (that half of Americans prefer tacos and half burritos, thus there is no clear favorite). So in this case, we could use the confidence interval to report that we've failed to reject the null hypothesis.\n",
        "\n",
        "But providing the full analysis with a confidence interval, including a graphical representation of it, can be a helpful and powerful way to tell your story. Done well, it is also more intuitive to a layperson than simply saying \"fail to reject the null hypothesis\" - it shows that in fact the data does *not* give a single clear result (the point estimate) but a whole range of possibilities.\n",
        "\n",
        "How is a confidence interval built, and how should it be interpreted? It does *not* mean that 95% of the data lies in that interval - instead, the frequentist interpretation is \"if we were to repeat this experiment 100 times, we would expect the average result to lie in this interval ~95 times.\"\n",
        "\n",
        "For a 95% confidence interval and a normal(-ish) distribution, you can simply remember that +/-2 standard deviations contains 95% of the probability mass, and so the 95% confidence interval based on a given sample is centered at the mean (point estimate) and has a range of +/- 2 (or technically 1.96) standard deviations.\n",
        "\n",
        "Different distributions/assumptions (90% confidence, 99% confidence) will require different math, but the overall process and interpretation (with a frequentist approach) will be the same.\n",
        "\n",
        "Your assignment - using the data from the prior module ([congressional voting records](https://archive.ics.uci.edu/ml/datasets/Congressional+Voting+Records)):\n",
        "\n",
        "1. Generate and numerically represent a confidence interval\n",
        "2. Graphically (with a plot) represent the confidence interval\n",
        "3. Interpret the confidence interval - what does it tell you about the data and its distribution?\n",
        "\n",
        "Stretch goals:\n",
        "\n",
        "1. Write a summary of your findings, mixing prose and math/code/results. *Note* - yes, this is by definition a political topic. It is challenging but important to keep your writing voice *neutral* and stick to the facts of the data. Data science often involves considering controversial issues, so it's important to be sensitive about them (especially if you want to publish).\n",
        "2. Apply the techniques you learned today to your project data or other data of your choice, and write/discuss your findings here.\n",
        "3. Refactor your code so it is elegant, readable, and can be easily run for all issues."
      ]
    },
    {
      "metadata": {
        "id": "Ckcr4A4FM7cs",
        "colab_type": "code",
        "outputId": "ad4bd0fe-cce1-406e-edc0-e6ec90c3158d",
        "colab": {
          "base_uri": "https://localhost:8080/",
          "height": 1006
        }
      },
      "cell_type": "code",
      "source": [
        "df = pd.read_csv('https://www.dropbox.com/s/eykydmqlt003trd/house-votes-84.data?dl=1', \n",
        "                 na_values = ['?'] , \n",
        "                 header = None,\n",
        "                 names = ['Party','handicapped-infants','water',\n",
        "                          'budget','health_costs',\n",
        "                          'el_salvador','religious_groups_in_school','anti_satellite_wep',\n",
        "                          'contra','mx_missile','immigration',\n",
        "                          'synfuel','education',\n",
        "                          'superfund','crime','duty_free_export',\n",
        "                          'south_africa'])\n",
        "\n",
        "df = df.replace({'n': 0 , 'y': 1})\n",
        "\n",
        "dem = df.loc[df['Party'] == 'democrat']\n",
        "rep = df.loc[df['Party'] == 'republican']\n",
        "\n",
        "print(df.shape)\n",
        "print()\n",
        "print(df.info())\n",
        "print()\n",
        "print(df.isnull().sum())\n",
        "print()\n",
        "df.head()"
      ],
      "execution_count": 16,
      "outputs": [
        {
          "output_type": "stream",
          "text": [
            "(435, 17)\n",
            "\n",
            "<class 'pandas.core.frame.DataFrame'>\n",
            "RangeIndex: 435 entries, 0 to 434\n",
            "Data columns (total 17 columns):\n",
            "Party                         435 non-null object\n",
            "handicapped-infants           423 non-null float64\n",
            "water                         387 non-null float64\n",
            "budget                        424 non-null float64\n",
            "health_costs                  424 non-null float64\n",
            "el_salvador                   420 non-null float64\n",
            "religious_groups_in_school    424 non-null float64\n",
            "anti_satellite_wep            421 non-null float64\n",
            "contra                        420 non-null float64\n",
            "mx_missile                    413 non-null float64\n",
            "immigration                   428 non-null float64\n",
            "synfuel                       414 non-null float64\n",
            "education                     404 non-null float64\n",
            "superfund                     410 non-null float64\n",
            "crime                         418 non-null float64\n",
            "duty_free_export              407 non-null float64\n",
            "south_africa                  331 non-null float64\n",
            "dtypes: float64(16), object(1)\n",
            "memory usage: 57.9+ KB\n",
            "None\n",
            "\n",
            "Party                           0\n",
            "handicapped-infants            12\n",
            "water                          48\n",
            "budget                         11\n",
            "health_costs                   11\n",
            "el_salvador                    15\n",
            "religious_groups_in_school     11\n",
            "anti_satellite_wep             14\n",
            "contra                         15\n",
            "mx_missile                     22\n",
            "immigration                     7\n",
            "synfuel                        21\n",
            "education                      31\n",
            "superfund                      25\n",
            "crime                          17\n",
            "duty_free_export               28\n",
            "south_africa                  104\n",
            "dtype: int64\n",
            "\n"
          ],
          "name": "stdout"
        },
        {
          "output_type": "execute_result",
          "data": {
            "text/html": [
              "<div>\n",
              "<style scoped>\n",
              "    .dataframe tbody tr th:only-of-type {\n",
              "        vertical-align: middle;\n",
              "    }\n",
              "\n",
              "    .dataframe tbody tr th {\n",
              "        vertical-align: top;\n",
              "    }\n",
              "\n",
              "    .dataframe thead th {\n",
              "        text-align: right;\n",
              "    }\n",
              "</style>\n",
              "<table border=\"1\" class=\"dataframe\">\n",
              "  <thead>\n",
              "    <tr style=\"text-align: right;\">\n",
              "      <th></th>\n",
              "      <th>Party</th>\n",
              "      <th>handicapped-infants</th>\n",
              "      <th>water</th>\n",
              "      <th>budget</th>\n",
              "      <th>health_costs</th>\n",
              "      <th>el_salvador</th>\n",
              "      <th>religious_groups_in_school</th>\n",
              "      <th>anti_satellite_wep</th>\n",
              "      <th>contra</th>\n",
              "      <th>mx_missile</th>\n",
              "      <th>immigration</th>\n",
              "      <th>synfuel</th>\n",
              "      <th>education</th>\n",
              "      <th>superfund</th>\n",
              "      <th>crime</th>\n",
              "      <th>duty_free_export</th>\n",
              "      <th>south_africa</th>\n",
              "    </tr>\n",
              "  </thead>\n",
              "  <tbody>\n",
              "    <tr>\n",
              "      <th>0</th>\n",
              "      <td>republican</td>\n",
              "      <td>0.0</td>\n",
              "      <td>1.0</td>\n",
              "      <td>0.0</td>\n",
              "      <td>1.0</td>\n",
              "      <td>1.0</td>\n",
              "      <td>1.0</td>\n",
              "      <td>0.0</td>\n",
              "      <td>0.0</td>\n",
              "      <td>0.0</td>\n",
              "      <td>1.0</td>\n",
              "      <td>NaN</td>\n",
              "      <td>1.0</td>\n",
              "      <td>1.0</td>\n",
              "      <td>1.0</td>\n",
              "      <td>0.0</td>\n",
              "      <td>1.0</td>\n",
              "    </tr>\n",
              "    <tr>\n",
              "      <th>1</th>\n",
              "      <td>republican</td>\n",
              "      <td>0.0</td>\n",
              "      <td>1.0</td>\n",
              "      <td>0.0</td>\n",
              "      <td>1.0</td>\n",
              "      <td>1.0</td>\n",
              "      <td>1.0</td>\n",
              "      <td>0.0</td>\n",
              "      <td>0.0</td>\n",
              "      <td>0.0</td>\n",
              "      <td>0.0</td>\n",
              "      <td>0.0</td>\n",
              "      <td>1.0</td>\n",
              "      <td>1.0</td>\n",
              "      <td>1.0</td>\n",
              "      <td>0.0</td>\n",
              "      <td>NaN</td>\n",
              "    </tr>\n",
              "    <tr>\n",
              "      <th>2</th>\n",
              "      <td>democrat</td>\n",
              "      <td>NaN</td>\n",
              "      <td>1.0</td>\n",
              "      <td>1.0</td>\n",
              "      <td>NaN</td>\n",
              "      <td>1.0</td>\n",
              "      <td>1.0</td>\n",
              "      <td>0.0</td>\n",
              "      <td>0.0</td>\n",
              "      <td>0.0</td>\n",
              "      <td>0.0</td>\n",
              "      <td>1.0</td>\n",
              "      <td>0.0</td>\n",
              "      <td>1.0</td>\n",
              "      <td>1.0</td>\n",
              "      <td>0.0</td>\n",
              "      <td>0.0</td>\n",
              "    </tr>\n",
              "    <tr>\n",
              "      <th>3</th>\n",
              "      <td>democrat</td>\n",
              "      <td>0.0</td>\n",
              "      <td>1.0</td>\n",
              "      <td>1.0</td>\n",
              "      <td>0.0</td>\n",
              "      <td>NaN</td>\n",
              "      <td>1.0</td>\n",
              "      <td>0.0</td>\n",
              "      <td>0.0</td>\n",
              "      <td>0.0</td>\n",
              "      <td>0.0</td>\n",
              "      <td>1.0</td>\n",
              "      <td>0.0</td>\n",
              "      <td>1.0</td>\n",
              "      <td>0.0</td>\n",
              "      <td>0.0</td>\n",
              "      <td>1.0</td>\n",
              "    </tr>\n",
              "    <tr>\n",
              "      <th>4</th>\n",
              "      <td>democrat</td>\n",
              "      <td>1.0</td>\n",
              "      <td>1.0</td>\n",
              "      <td>1.0</td>\n",
              "      <td>0.0</td>\n",
              "      <td>1.0</td>\n",
              "      <td>1.0</td>\n",
              "      <td>0.0</td>\n",
              "      <td>0.0</td>\n",
              "      <td>0.0</td>\n",
              "      <td>0.0</td>\n",
              "      <td>1.0</td>\n",
              "      <td>NaN</td>\n",
              "      <td>1.0</td>\n",
              "      <td>1.0</td>\n",
              "      <td>1.0</td>\n",
              "      <td>1.0</td>\n",
              "    </tr>\n",
              "  </tbody>\n",
              "</table>\n",
              "</div>"
            ],
            "text/plain": [
              "        Party  handicapped-infants  water  budget  health_costs  el_salvador  \\\n",
              "0  republican                  0.0    1.0     0.0           1.0          1.0   \n",
              "1  republican                  0.0    1.0     0.0           1.0          1.0   \n",
              "2    democrat                  NaN    1.0     1.0           NaN          1.0   \n",
              "3    democrat                  0.0    1.0     1.0           0.0          NaN   \n",
              "4    democrat                  1.0    1.0     1.0           0.0          1.0   \n",
              "\n",
              "   religious_groups_in_school  anti_satellite_wep  contra  mx_missile  \\\n",
              "0                         1.0                 0.0     0.0         0.0   \n",
              "1                         1.0                 0.0     0.0         0.0   \n",
              "2                         1.0                 0.0     0.0         0.0   \n",
              "3                         1.0                 0.0     0.0         0.0   \n",
              "4                         1.0                 0.0     0.0         0.0   \n",
              "\n",
              "   immigration  synfuel  education  superfund  crime  duty_free_export  \\\n",
              "0          1.0      NaN        1.0        1.0    1.0               0.0   \n",
              "1          0.0      0.0        1.0        1.0    1.0               0.0   \n",
              "2          0.0      1.0        0.0        1.0    1.0               0.0   \n",
              "3          0.0      1.0        0.0        1.0    0.0               0.0   \n",
              "4          0.0      1.0        NaN        1.0    1.0               1.0   \n",
              "\n",
              "   south_africa  \n",
              "0           1.0  \n",
              "1           NaN  \n",
              "2           0.0  \n",
              "3           1.0  \n",
              "4           1.0  "
            ]
          },
          "metadata": {
            "tags": []
          },
          "execution_count": 16
        }
      ]
    },
    {
      "metadata": {
        "id": "d7T4txFMMVpM",
        "colab_type": "code",
        "colab": {}
      },
      "cell_type": "code",
      "source": [
        "bills = ['handicapped-infants', 'water', 'budget', 'health_costs',\n",
        "       'el_salvador', 'religious_groups_in_school', 'anti_satellite_wep',\n",
        "       'contra', 'mx_missile', 'immigration', 'synfuel', 'education',\n",
        "       'superfund', 'crime', 'duty_free_export', 'south_africa']\n",
        "parties = ['republicans','democrats']"
      ],
      "execution_count": 0,
      "outputs": []
    },
    {
      "metadata": {
        "id": "BjFAoqBkh3_M",
        "colab_type": "code",
        "colab": {}
      },
      "cell_type": "code",
      "source": [
        "# Placing this here so I can play with the confidence interval. \n",
        "\n",
        "\n",
        "def confidence_interval(data, confidence=0.95):\n",
        "  \"\"\"\n",
        "  Calculate a confidence interval around a sample mean for given data.\n",
        "  Using t-distribution and two-tailed test, default 95% confidence. \n",
        "  \n",
        "  Arguments:\n",
        "    data - iterable (list or numpy array) of sample observations\n",
        "    confidence - level of confidence for the interval\n",
        "  \n",
        "  Returns:\n",
        "    tuple of (mean, lower bound, upper bound)\n",
        "  \"\"\"\n",
        "  data = np.array(data)\n",
        "  mean = np.mean(data)\n",
        "  n = len(data)\n",
        "  stderr = stats.sem(data)\n",
        "  interval = stderr * stats.t.ppf((1 + confidence) / 2., n - 1)\n",
        "  return (mean, mean - interval, mean + interval)\n",
        "\n",
        "def report_confidence_interval(confidence_interval):\n",
        "  \"\"\"\n",
        "  Return a string with a pretty report of a confidence interval.\n",
        "  \n",
        "  Arguments:\n",
        "    confidence_interval - tuple of (mean, lower bound, upper bound)\n",
        "  \n",
        "  Returns:\n",
        "    None, but prints to screen the report\n",
        "  \"\"\"\n",
        "  #print('Mean: {}'.format(confidence_interval[0]))\n",
        "  #print('Lower bound: {}'.format(confidence_interval[1]))\n",
        "  #print('Upper bound: {}'.format(confidence_interval[2]))\n",
        "  s = \"our mean lies in the interval [{:.2}, {:.2}]\".format(\n",
        "      confidence_interval[1], confidence_interval[2])\n",
        "  return s"
      ],
      "execution_count": 0,
      "outputs": []
    },
    {
      "metadata": {
        "id": "5_GM8TCcR0zC",
        "colab_type": "code",
        "colab": {}
      },
      "cell_type": "code",
      "source": [
        "def conf (party, bill):\n",
        "  r = confidence_interval(party[bill].dropna())\n",
        "  return r"
      ],
      "execution_count": 0,
      "outputs": []
    },
    {
      "metadata": {
        "id": "QWBG7pD9Ezsu",
        "colab_type": "code",
        "colab": {}
      },
      "cell_type": "code",
      "source": [
        "r_upper = []\n",
        "r_lower = []\n",
        "r_mean = []\n",
        "\n",
        "d_upper = []\n",
        "d_lower = []\n",
        "d_mean = []\n",
        "\n",
        "\n",
        "for bill in bills:\n",
        "   \n",
        "  r_upper.append(conf(rep,bill)[2]*100)\n",
        "  r_lower.append(conf(rep,bill)[1]*100)\n",
        "  r_mean.append(conf(rep,bill)[0]*100)\n",
        "    \n",
        "  d_upper.append(conf(dem,bill)[2]*100)\n",
        "  d_lower.append(conf(dem,bill)[1]*100)\n",
        "  d_mean.append(conf(dem,bill)[0]*100)\n",
        "\n",
        "\n",
        "    ### New Dataframe with Confidence Intervals \n",
        "\n",
        "vc = pd.DataFrame({\"Bill\": bills, 'R Upper Limit': r_upper, 'R Lower Limit': r_lower, \n",
        "                   'Republican Support': r_mean, 'D Upper Limit': d_upper, 'D Lower Limit': d_lower, \n",
        "                   'Democrat Support': d_mean, \"Null Hypothesis Rejected\": True})"
      ],
      "execution_count": 0,
      "outputs": []
    },
    {
      "metadata": {
        "id": "KfKxyHqqNsR7",
        "colab_type": "code",
        "colab": {
          "base_uri": "https://localhost:8080/",
          "height": 545
        },
        "outputId": "17274017-9c1f-4263-f54b-3a25f7f0e4a8"
      },
      "cell_type": "code",
      "source": [
        "vc"
      ],
      "execution_count": 74,
      "outputs": [
        {
          "output_type": "execute_result",
          "data": {
            "text/html": [
              "<div>\n",
              "<style scoped>\n",
              "    .dataframe tbody tr th:only-of-type {\n",
              "        vertical-align: middle;\n",
              "    }\n",
              "\n",
              "    .dataframe tbody tr th {\n",
              "        vertical-align: top;\n",
              "    }\n",
              "\n",
              "    .dataframe thead th {\n",
              "        text-align: right;\n",
              "    }\n",
              "</style>\n",
              "<table border=\"1\" class=\"dataframe\">\n",
              "  <thead>\n",
              "    <tr style=\"text-align: right;\">\n",
              "      <th></th>\n",
              "      <th>Bill</th>\n",
              "      <th>D Lower Limit</th>\n",
              "      <th>D Support</th>\n",
              "      <th>D Upper Limit</th>\n",
              "      <th>Null Hypothesis Rejected</th>\n",
              "      <th>R Lower Limit</th>\n",
              "      <th>R Support</th>\n",
              "      <th>R Upper Limit</th>\n",
              "    </tr>\n",
              "  </thead>\n",
              "  <tbody>\n",
              "    <tr>\n",
              "      <th>0</th>\n",
              "      <td>handicapped-infants</td>\n",
              "      <td>54.459270</td>\n",
              "      <td>60.465116</td>\n",
              "      <td>66.470963</td>\n",
              "      <td>True</td>\n",
              "      <td>12.765166</td>\n",
              "      <td>18.787879</td>\n",
              "      <td>24.810591</td>\n",
              "    </tr>\n",
              "    <tr>\n",
              "      <th>1</th>\n",
              "      <td>water</td>\n",
              "      <td>43.824514</td>\n",
              "      <td>50.209205</td>\n",
              "      <td>56.593896</td>\n",
              "      <td>True</td>\n",
              "      <td>42.526571</td>\n",
              "      <td>50.675676</td>\n",
              "      <td>58.824780</td>\n",
              "    </tr>\n",
              "    <tr>\n",
              "      <th>2</th>\n",
              "      <td>budget</td>\n",
              "      <td>84.994352</td>\n",
              "      <td>88.846154</td>\n",
              "      <td>92.697956</td>\n",
              "      <td>True</td>\n",
              "      <td>8.143520</td>\n",
              "      <td>13.414634</td>\n",
              "      <td>18.685748</td>\n",
              "    </tr>\n",
              "    <tr>\n",
              "      <th>3</th>\n",
              "      <td>health_costs</td>\n",
              "      <td>2.633186</td>\n",
              "      <td>5.405405</td>\n",
              "      <td>8.177625</td>\n",
              "      <td>True</td>\n",
              "      <td>97.100674</td>\n",
              "      <td>98.787879</td>\n",
              "      <td>100.475083</td>\n",
              "    </tr>\n",
              "    <tr>\n",
              "      <th>4</th>\n",
              "      <td>el_salvador</td>\n",
              "      <td>16.486311</td>\n",
              "      <td>21.568627</td>\n",
              "      <td>26.650944</td>\n",
              "      <td>True</td>\n",
              "      <td>91.839795</td>\n",
              "      <td>95.151515</td>\n",
              "      <td>98.463236</td>\n",
              "    </tr>\n",
              "    <tr>\n",
              "      <th>5</th>\n",
              "      <td>religious_groups_in_school</td>\n",
              "      <td>41.539183</td>\n",
              "      <td>47.674419</td>\n",
              "      <td>53.809655</td>\n",
              "      <td>True</td>\n",
              "      <td>85.098749</td>\n",
              "      <td>89.759036</td>\n",
              "      <td>94.419324</td>\n",
              "    </tr>\n",
              "    <tr>\n",
              "      <th>6</th>\n",
              "      <td>anti_satellite_wep</td>\n",
              "      <td>72.078202</td>\n",
              "      <td>77.220077</td>\n",
              "      <td>82.361952</td>\n",
              "      <td>True</td>\n",
              "      <td>17.420089</td>\n",
              "      <td>24.074074</td>\n",
              "      <td>30.728059</td>\n",
              "    </tr>\n",
              "    <tr>\n",
              "      <th>7</th>\n",
              "      <td>contra</td>\n",
              "      <td>78.308452</td>\n",
              "      <td>82.889734</td>\n",
              "      <td>87.471016</td>\n",
              "      <td>True</td>\n",
              "      <td>9.595477</td>\n",
              "      <td>15.286624</td>\n",
              "      <td>20.977771</td>\n",
              "    </tr>\n",
              "    <tr>\n",
              "      <th>8</th>\n",
              "      <td>mx_missile</td>\n",
              "      <td>70.439401</td>\n",
              "      <td>75.806452</td>\n",
              "      <td>81.173502</td>\n",
              "      <td>True</td>\n",
              "      <td>6.593486</td>\n",
              "      <td>11.515152</td>\n",
              "      <td>16.436817</td>\n",
              "    </tr>\n",
              "    <tr>\n",
              "      <th>9</th>\n",
              "      <td>immigration</td>\n",
              "      <td>41.075744</td>\n",
              "      <td>47.148289</td>\n",
              "      <td>53.220834</td>\n",
              "      <td>True</td>\n",
              "      <td>48.099596</td>\n",
              "      <td>55.757576</td>\n",
              "      <td>63.415556</td>\n",
              "    </tr>\n",
              "    <tr>\n",
              "      <th>10</th>\n",
              "      <td>synfuel</td>\n",
              "      <td>44.410270</td>\n",
              "      <td>50.588235</td>\n",
              "      <td>56.766200</td>\n",
              "      <td>True</td>\n",
              "      <td>7.887557</td>\n",
              "      <td>13.207547</td>\n",
              "      <td>18.527538</td>\n",
              "    </tr>\n",
              "    <tr>\n",
              "      <th>11</th>\n",
              "      <td>education</td>\n",
              "      <td>10.059494</td>\n",
              "      <td>14.457831</td>\n",
              "      <td>18.856169</td>\n",
              "      <td>True</td>\n",
              "      <td>81.760179</td>\n",
              "      <td>87.096774</td>\n",
              "      <td>92.433369</td>\n",
              "    </tr>\n",
              "    <tr>\n",
              "      <th>12</th>\n",
              "      <td>superfund</td>\n",
              "      <td>23.329310</td>\n",
              "      <td>28.968254</td>\n",
              "      <td>34.607198</td>\n",
              "      <td>True</td>\n",
              "      <td>80.618590</td>\n",
              "      <td>86.075949</td>\n",
              "      <td>91.533309</td>\n",
              "    </tr>\n",
              "    <tr>\n",
              "      <th>13</th>\n",
              "      <td>crime</td>\n",
              "      <td>29.148179</td>\n",
              "      <td>35.019455</td>\n",
              "      <td>40.890731</td>\n",
              "      <td>True</td>\n",
              "      <td>96.025352</td>\n",
              "      <td>98.136646</td>\n",
              "      <td>100.247940</td>\n",
              "    </tr>\n",
              "    <tr>\n",
              "      <th>14</th>\n",
              "      <td>duty_free_export</td>\n",
              "      <td>57.756871</td>\n",
              "      <td>63.745020</td>\n",
              "      <td>69.733169</td>\n",
              "      <td>True</td>\n",
              "      <td>4.439436</td>\n",
              "      <td>8.974359</td>\n",
              "      <td>13.509282</td>\n",
              "    </tr>\n",
              "    <tr>\n",
              "      <th>15</th>\n",
              "      <td>south_africa</td>\n",
              "      <td>89.931337</td>\n",
              "      <td>93.513514</td>\n",
              "      <td>97.095690</td>\n",
              "      <td>True</td>\n",
              "      <td>57.964604</td>\n",
              "      <td>65.753425</td>\n",
              "      <td>73.542245</td>\n",
              "    </tr>\n",
              "  </tbody>\n",
              "</table>\n",
              "</div>"
            ],
            "text/plain": [
              "                          Bill  D Lower Limit  D Support  D Upper Limit  \\\n",
              "0          handicapped-infants      54.459270  60.465116      66.470963   \n",
              "1                        water      43.824514  50.209205      56.593896   \n",
              "2                       budget      84.994352  88.846154      92.697956   \n",
              "3                 health_costs       2.633186   5.405405       8.177625   \n",
              "4                  el_salvador      16.486311  21.568627      26.650944   \n",
              "5   religious_groups_in_school      41.539183  47.674419      53.809655   \n",
              "6           anti_satellite_wep      72.078202  77.220077      82.361952   \n",
              "7                       contra      78.308452  82.889734      87.471016   \n",
              "8                   mx_missile      70.439401  75.806452      81.173502   \n",
              "9                  immigration      41.075744  47.148289      53.220834   \n",
              "10                     synfuel      44.410270  50.588235      56.766200   \n",
              "11                   education      10.059494  14.457831      18.856169   \n",
              "12                   superfund      23.329310  28.968254      34.607198   \n",
              "13                       crime      29.148179  35.019455      40.890731   \n",
              "14            duty_free_export      57.756871  63.745020      69.733169   \n",
              "15                south_africa      89.931337  93.513514      97.095690   \n",
              "\n",
              "    Null Hypothesis Rejected  R Lower Limit  R Support  R Upper Limit  \n",
              "0                       True      12.765166  18.787879      24.810591  \n",
              "1                       True      42.526571  50.675676      58.824780  \n",
              "2                       True       8.143520  13.414634      18.685748  \n",
              "3                       True      97.100674  98.787879     100.475083  \n",
              "4                       True      91.839795  95.151515      98.463236  \n",
              "5                       True      85.098749  89.759036      94.419324  \n",
              "6                       True      17.420089  24.074074      30.728059  \n",
              "7                       True       9.595477  15.286624      20.977771  \n",
              "8                       True       6.593486  11.515152      16.436817  \n",
              "9                       True      48.099596  55.757576      63.415556  \n",
              "10                      True       7.887557  13.207547      18.527538  \n",
              "11                      True      81.760179  87.096774      92.433369  \n",
              "12                      True      80.618590  86.075949      91.533309  \n",
              "13                      True      96.025352  98.136646     100.247940  \n",
              "14                      True       4.439436   8.974359      13.509282  \n",
              "15                      True      57.964604  65.753425      73.542245  "
            ]
          },
          "metadata": {
            "tags": []
          },
          "execution_count": 74
        }
      ]
    },
    {
      "metadata": {
        "id": "IHYtHh_9fB3s",
        "colab_type": "code",
        "colab": {}
      },
      "cell_type": "code",
      "source": [
        ""
      ],
      "execution_count": 0,
      "outputs": []
    },
    {
      "metadata": {
        "id": "qHTql1IYYjY9",
        "colab_type": "code",
        "colab": {}
      },
      "cell_type": "code",
      "source": [
        "upper_hypothesis = 80    # Upper Null Hypothesis for Bills a party supports \n",
        "lower_hypothesis = 20    # Lower Null Hypothesis for Bills a Party opposes\n",
        "\n",
        "names = []\n",
        "       ##This list is setting up my condition for determining if the null hypothesis is rejected. \n",
        "names.append(vc[(upper_hypothesis <= vc['D Upper Limit']) &\n",
        "                (vc['D Lower Limit'] <= upper_hypothesis)].Bill.tolist())\n",
        "names.append((vc[(lower_hypothesis <= vc['D Upper Limit']) &\n",
        "                 (vc['D Lower Limit'] <= lower_hypothesis)]).Bill.tolist())\n",
        "names.append((vc[(upper_hypothesis <= vc['R Upper Limit']) &\n",
        "                 (vc['R Lower Limit'] <= upper_hypothesis)]).Bill.tolist())\n",
        "names.append((vc[(lower_hypothesis <= vc['R Upper Limit']) &\n",
        "                 (vc['R Lower Limit'] <= lower_hypothesis)]).Bill.tolist())\n",
        "\n",
        "flat_list = []  ## The above method creates a list of lists. This flattens the list\n",
        "for sublist in names:\n",
        "    for item in sublist:\n",
        "        flat_list.append(item)\n",
        "        \n",
        "names = list(set(flat_list))   ##This returns only unique values in my list. \n",
        "\n",
        "   ## Now to replace True values with False where the Null Hypothesis is not rejected. \n",
        "vc.loc[vc['Bill'].isin(names), \"Null Hypothesis Rejected\"] = False  "
      ],
      "execution_count": 0,
      "outputs": []
    },
    {
      "metadata": {
        "id": "q_2QEipRenPu",
        "colab_type": "code",
        "colab": {
          "base_uri": "https://localhost:8080/",
          "height": 545
        },
        "outputId": "16dcc6b5-4149-4795-8e41-67a7af1a0e34"
      },
      "cell_type": "code",
      "source": [
        "vc"
      ],
      "execution_count": 156,
      "outputs": [
        {
          "output_type": "execute_result",
          "data": {
            "text/html": [
              "<div>\n",
              "<style scoped>\n",
              "    .dataframe tbody tr th:only-of-type {\n",
              "        vertical-align: middle;\n",
              "    }\n",
              "\n",
              "    .dataframe tbody tr th {\n",
              "        vertical-align: top;\n",
              "    }\n",
              "\n",
              "    .dataframe thead th {\n",
              "        text-align: right;\n",
              "    }\n",
              "</style>\n",
              "<table border=\"1\" class=\"dataframe\">\n",
              "  <thead>\n",
              "    <tr style=\"text-align: right;\">\n",
              "      <th></th>\n",
              "      <th>Bill</th>\n",
              "      <th>D Lower Limit</th>\n",
              "      <th>D Support</th>\n",
              "      <th>D Upper Limit</th>\n",
              "      <th>Null Hypothesis Rejected</th>\n",
              "      <th>R Lower Limit</th>\n",
              "      <th>R Support</th>\n",
              "      <th>R Upper Limit</th>\n",
              "    </tr>\n",
              "  </thead>\n",
              "  <tbody>\n",
              "    <tr>\n",
              "      <th>0</th>\n",
              "      <td>handicapped-infants</td>\n",
              "      <td>54.459270</td>\n",
              "      <td>60.465116</td>\n",
              "      <td>66.470963</td>\n",
              "      <td>False</td>\n",
              "      <td>12.765166</td>\n",
              "      <td>18.787879</td>\n",
              "      <td>24.810591</td>\n",
              "    </tr>\n",
              "    <tr>\n",
              "      <th>1</th>\n",
              "      <td>water</td>\n",
              "      <td>43.824514</td>\n",
              "      <td>50.209205</td>\n",
              "      <td>56.593896</td>\n",
              "      <td>True</td>\n",
              "      <td>42.526571</td>\n",
              "      <td>50.675676</td>\n",
              "      <td>58.824780</td>\n",
              "    </tr>\n",
              "    <tr>\n",
              "      <th>2</th>\n",
              "      <td>budget</td>\n",
              "      <td>84.994352</td>\n",
              "      <td>88.846154</td>\n",
              "      <td>92.697956</td>\n",
              "      <td>True</td>\n",
              "      <td>8.143520</td>\n",
              "      <td>13.414634</td>\n",
              "      <td>18.685748</td>\n",
              "    </tr>\n",
              "    <tr>\n",
              "      <th>3</th>\n",
              "      <td>health_costs</td>\n",
              "      <td>2.633186</td>\n",
              "      <td>5.405405</td>\n",
              "      <td>8.177625</td>\n",
              "      <td>True</td>\n",
              "      <td>97.100674</td>\n",
              "      <td>98.787879</td>\n",
              "      <td>100.475083</td>\n",
              "    </tr>\n",
              "    <tr>\n",
              "      <th>4</th>\n",
              "      <td>el_salvador</td>\n",
              "      <td>16.486311</td>\n",
              "      <td>21.568627</td>\n",
              "      <td>26.650944</td>\n",
              "      <td>False</td>\n",
              "      <td>91.839795</td>\n",
              "      <td>95.151515</td>\n",
              "      <td>98.463236</td>\n",
              "    </tr>\n",
              "    <tr>\n",
              "      <th>5</th>\n",
              "      <td>religious_groups_in_school</td>\n",
              "      <td>41.539183</td>\n",
              "      <td>47.674419</td>\n",
              "      <td>53.809655</td>\n",
              "      <td>True</td>\n",
              "      <td>85.098749</td>\n",
              "      <td>89.759036</td>\n",
              "      <td>94.419324</td>\n",
              "    </tr>\n",
              "    <tr>\n",
              "      <th>6</th>\n",
              "      <td>anti_satellite_wep</td>\n",
              "      <td>72.078202</td>\n",
              "      <td>77.220077</td>\n",
              "      <td>82.361952</td>\n",
              "      <td>False</td>\n",
              "      <td>17.420089</td>\n",
              "      <td>24.074074</td>\n",
              "      <td>30.728059</td>\n",
              "    </tr>\n",
              "    <tr>\n",
              "      <th>7</th>\n",
              "      <td>contra</td>\n",
              "      <td>78.308452</td>\n",
              "      <td>82.889734</td>\n",
              "      <td>87.471016</td>\n",
              "      <td>False</td>\n",
              "      <td>9.595477</td>\n",
              "      <td>15.286624</td>\n",
              "      <td>20.977771</td>\n",
              "    </tr>\n",
              "    <tr>\n",
              "      <th>8</th>\n",
              "      <td>mx_missile</td>\n",
              "      <td>70.439401</td>\n",
              "      <td>75.806452</td>\n",
              "      <td>81.173502</td>\n",
              "      <td>False</td>\n",
              "      <td>6.593486</td>\n",
              "      <td>11.515152</td>\n",
              "      <td>16.436817</td>\n",
              "    </tr>\n",
              "    <tr>\n",
              "      <th>9</th>\n",
              "      <td>immigration</td>\n",
              "      <td>41.075744</td>\n",
              "      <td>47.148289</td>\n",
              "      <td>53.220834</td>\n",
              "      <td>True</td>\n",
              "      <td>48.099596</td>\n",
              "      <td>55.757576</td>\n",
              "      <td>63.415556</td>\n",
              "    </tr>\n",
              "    <tr>\n",
              "      <th>10</th>\n",
              "      <td>synfuel</td>\n",
              "      <td>44.410270</td>\n",
              "      <td>50.588235</td>\n",
              "      <td>56.766200</td>\n",
              "      <td>True</td>\n",
              "      <td>7.887557</td>\n",
              "      <td>13.207547</td>\n",
              "      <td>18.527538</td>\n",
              "    </tr>\n",
              "    <tr>\n",
              "      <th>11</th>\n",
              "      <td>education</td>\n",
              "      <td>10.059494</td>\n",
              "      <td>14.457831</td>\n",
              "      <td>18.856169</td>\n",
              "      <td>True</td>\n",
              "      <td>81.760179</td>\n",
              "      <td>87.096774</td>\n",
              "      <td>92.433369</td>\n",
              "    </tr>\n",
              "    <tr>\n",
              "      <th>12</th>\n",
              "      <td>superfund</td>\n",
              "      <td>23.329310</td>\n",
              "      <td>28.968254</td>\n",
              "      <td>34.607198</td>\n",
              "      <td>True</td>\n",
              "      <td>80.618590</td>\n",
              "      <td>86.075949</td>\n",
              "      <td>91.533309</td>\n",
              "    </tr>\n",
              "    <tr>\n",
              "      <th>13</th>\n",
              "      <td>crime</td>\n",
              "      <td>29.148179</td>\n",
              "      <td>35.019455</td>\n",
              "      <td>40.890731</td>\n",
              "      <td>True</td>\n",
              "      <td>96.025352</td>\n",
              "      <td>98.136646</td>\n",
              "      <td>100.247940</td>\n",
              "    </tr>\n",
              "    <tr>\n",
              "      <th>14</th>\n",
              "      <td>duty_free_export</td>\n",
              "      <td>57.756871</td>\n",
              "      <td>63.745020</td>\n",
              "      <td>69.733169</td>\n",
              "      <td>True</td>\n",
              "      <td>4.439436</td>\n",
              "      <td>8.974359</td>\n",
              "      <td>13.509282</td>\n",
              "    </tr>\n",
              "    <tr>\n",
              "      <th>15</th>\n",
              "      <td>south_africa</td>\n",
              "      <td>89.931337</td>\n",
              "      <td>93.513514</td>\n",
              "      <td>97.095690</td>\n",
              "      <td>True</td>\n",
              "      <td>57.964604</td>\n",
              "      <td>65.753425</td>\n",
              "      <td>73.542245</td>\n",
              "    </tr>\n",
              "  </tbody>\n",
              "</table>\n",
              "</div>"
            ],
            "text/plain": [
              "                          Bill  D Lower Limit  D Support  D Upper Limit  \\\n",
              "0          handicapped-infants      54.459270  60.465116      66.470963   \n",
              "1                        water      43.824514  50.209205      56.593896   \n",
              "2                       budget      84.994352  88.846154      92.697956   \n",
              "3                 health_costs       2.633186   5.405405       8.177625   \n",
              "4                  el_salvador      16.486311  21.568627      26.650944   \n",
              "5   religious_groups_in_school      41.539183  47.674419      53.809655   \n",
              "6           anti_satellite_wep      72.078202  77.220077      82.361952   \n",
              "7                       contra      78.308452  82.889734      87.471016   \n",
              "8                   mx_missile      70.439401  75.806452      81.173502   \n",
              "9                  immigration      41.075744  47.148289      53.220834   \n",
              "10                     synfuel      44.410270  50.588235      56.766200   \n",
              "11                   education      10.059494  14.457831      18.856169   \n",
              "12                   superfund      23.329310  28.968254      34.607198   \n",
              "13                       crime      29.148179  35.019455      40.890731   \n",
              "14            duty_free_export      57.756871  63.745020      69.733169   \n",
              "15                south_africa      89.931337  93.513514      97.095690   \n",
              "\n",
              "    Null Hypothesis Rejected  R Lower Limit  R Support  R Upper Limit  \n",
              "0                      False      12.765166  18.787879      24.810591  \n",
              "1                       True      42.526571  50.675676      58.824780  \n",
              "2                       True       8.143520  13.414634      18.685748  \n",
              "3                       True      97.100674  98.787879     100.475083  \n",
              "4                      False      91.839795  95.151515      98.463236  \n",
              "5                       True      85.098749  89.759036      94.419324  \n",
              "6                      False      17.420089  24.074074      30.728059  \n",
              "7                      False       9.595477  15.286624      20.977771  \n",
              "8                      False       6.593486  11.515152      16.436817  \n",
              "9                       True      48.099596  55.757576      63.415556  \n",
              "10                      True       7.887557  13.207547      18.527538  \n",
              "11                      True      81.760179  87.096774      92.433369  \n",
              "12                      True      80.618590  86.075949      91.533309  \n",
              "13                      True      96.025352  98.136646     100.247940  \n",
              "14                      True       4.439436   8.974359      13.509282  \n",
              "15                      True      57.964604  65.753425      73.542245  "
            ]
          },
          "metadata": {
            "tags": []
          },
          "execution_count": 156
        }
      ]
    },
    {
      "metadata": {
        "id": "Tjb0NY--glyP",
        "colab_type": "code",
        "colab": {}
      },
      "cell_type": "code",
      "source": [
        ""
      ],
      "execution_count": 0,
      "outputs": []
    },
    {
      "metadata": {
        "id": "z9OHqyrDAQ_k",
        "colab_type": "code",
        "colab": {}
      },
      "cell_type": "code",
      "source": [
        "means = pd.DataFrame({'Bill' : rep.describe().T['mean'].index, \n",
        "                      'Republican Support': rep.describe().T['mean'].values, \n",
        "                      'Democrat Support': dem.describe().T['mean'].values})\n"
      ],
      "execution_count": 0,
      "outputs": []
    },
    {
      "metadata": {
        "id": "en44iCOCEQt7",
        "colab_type": "code",
        "outputId": "a4e5309a-989e-48ec-d497-84cea147c99c",
        "colab": {
          "base_uri": "https://localhost:8080/",
          "height": 545
        }
      },
      "cell_type": "code",
      "source": [
        "means"
      ],
      "execution_count": 45,
      "outputs": [
        {
          "output_type": "execute_result",
          "data": {
            "text/html": [
              "<div>\n",
              "<style scoped>\n",
              "    .dataframe tbody tr th:only-of-type {\n",
              "        vertical-align: middle;\n",
              "    }\n",
              "\n",
              "    .dataframe tbody tr th {\n",
              "        vertical-align: top;\n",
              "    }\n",
              "\n",
              "    .dataframe thead th {\n",
              "        text-align: right;\n",
              "    }\n",
              "</style>\n",
              "<table border=\"1\" class=\"dataframe\">\n",
              "  <thead>\n",
              "    <tr style=\"text-align: right;\">\n",
              "      <th></th>\n",
              "      <th>Bill</th>\n",
              "      <th>Democrat Support</th>\n",
              "      <th>Republican Support</th>\n",
              "    </tr>\n",
              "  </thead>\n",
              "  <tbody>\n",
              "    <tr>\n",
              "      <th>0</th>\n",
              "      <td>handicapped-infants</td>\n",
              "      <td>0.604651</td>\n",
              "      <td>0.187879</td>\n",
              "    </tr>\n",
              "    <tr>\n",
              "      <th>1</th>\n",
              "      <td>water</td>\n",
              "      <td>0.502092</td>\n",
              "      <td>0.506757</td>\n",
              "    </tr>\n",
              "    <tr>\n",
              "      <th>2</th>\n",
              "      <td>budget</td>\n",
              "      <td>0.888462</td>\n",
              "      <td>0.134146</td>\n",
              "    </tr>\n",
              "    <tr>\n",
              "      <th>3</th>\n",
              "      <td>health_costs</td>\n",
              "      <td>0.054054</td>\n",
              "      <td>0.987879</td>\n",
              "    </tr>\n",
              "    <tr>\n",
              "      <th>4</th>\n",
              "      <td>el_salvador</td>\n",
              "      <td>0.215686</td>\n",
              "      <td>0.951515</td>\n",
              "    </tr>\n",
              "    <tr>\n",
              "      <th>5</th>\n",
              "      <td>religious_groups_in_school</td>\n",
              "      <td>0.476744</td>\n",
              "      <td>0.897590</td>\n",
              "    </tr>\n",
              "    <tr>\n",
              "      <th>6</th>\n",
              "      <td>anti_satellite_wep</td>\n",
              "      <td>0.772201</td>\n",
              "      <td>0.240741</td>\n",
              "    </tr>\n",
              "    <tr>\n",
              "      <th>7</th>\n",
              "      <td>contra</td>\n",
              "      <td>0.828897</td>\n",
              "      <td>0.152866</td>\n",
              "    </tr>\n",
              "    <tr>\n",
              "      <th>8</th>\n",
              "      <td>mx_missile</td>\n",
              "      <td>0.758065</td>\n",
              "      <td>0.115152</td>\n",
              "    </tr>\n",
              "    <tr>\n",
              "      <th>9</th>\n",
              "      <td>immigration</td>\n",
              "      <td>0.471483</td>\n",
              "      <td>0.557576</td>\n",
              "    </tr>\n",
              "    <tr>\n",
              "      <th>10</th>\n",
              "      <td>synfuel</td>\n",
              "      <td>0.505882</td>\n",
              "      <td>0.132075</td>\n",
              "    </tr>\n",
              "    <tr>\n",
              "      <th>11</th>\n",
              "      <td>education</td>\n",
              "      <td>0.144578</td>\n",
              "      <td>0.870968</td>\n",
              "    </tr>\n",
              "    <tr>\n",
              "      <th>12</th>\n",
              "      <td>superfund</td>\n",
              "      <td>0.289683</td>\n",
              "      <td>0.860759</td>\n",
              "    </tr>\n",
              "    <tr>\n",
              "      <th>13</th>\n",
              "      <td>crime</td>\n",
              "      <td>0.350195</td>\n",
              "      <td>0.981366</td>\n",
              "    </tr>\n",
              "    <tr>\n",
              "      <th>14</th>\n",
              "      <td>duty_free_export</td>\n",
              "      <td>0.637450</td>\n",
              "      <td>0.089744</td>\n",
              "    </tr>\n",
              "    <tr>\n",
              "      <th>15</th>\n",
              "      <td>south_africa</td>\n",
              "      <td>0.935135</td>\n",
              "      <td>0.657534</td>\n",
              "    </tr>\n",
              "  </tbody>\n",
              "</table>\n",
              "</div>"
            ],
            "text/plain": [
              "                          Bill  Democrat Support  Republican Support\n",
              "0          handicapped-infants          0.604651            0.187879\n",
              "1                        water          0.502092            0.506757\n",
              "2                       budget          0.888462            0.134146\n",
              "3                 health_costs          0.054054            0.987879\n",
              "4                  el_salvador          0.215686            0.951515\n",
              "5   religious_groups_in_school          0.476744            0.897590\n",
              "6           anti_satellite_wep          0.772201            0.240741\n",
              "7                       contra          0.828897            0.152866\n",
              "8                   mx_missile          0.758065            0.115152\n",
              "9                  immigration          0.471483            0.557576\n",
              "10                     synfuel          0.505882            0.132075\n",
              "11                   education          0.144578            0.870968\n",
              "12                   superfund          0.289683            0.860759\n",
              "13                       crime          0.350195            0.981366\n",
              "14            duty_free_export          0.637450            0.089744\n",
              "15                south_africa          0.935135            0.657534"
            ]
          },
          "metadata": {
            "tags": []
          },
          "execution_count": 45
        }
      ]
    },
    {
      "metadata": {
        "id": "nyJ3ySr7R2k9",
        "colab_type": "text"
      },
      "cell_type": "markdown",
      "source": [
        "## Resources\n",
        "\n",
        "- [Interactive visualize the Chi-Squared test](https://homepage.divms.uiowa.edu/~mbognar/applets/chisq.html)\n",
        "- [Calculation of Chi-Squared test statistic](https://en.wikipedia.org/wiki/Pearson%27s_chi-squared_test)\n",
        "- [Visualization of a confidence interval generated by R code](https://commons.wikimedia.org/wiki/File:Confidence-interval.svg)\n",
        "- [Expected value of a squared standard normal](https://math.stackexchange.com/questions/264061/expected-value-calculation-for-squared-normal-distribution) (it's 1 - which is why the expected value of a Chi-Squared with $n$ degrees of freedom is $n$, as it's the sum of $n$ squared standard normals)"
      ]
    }
  ]
}