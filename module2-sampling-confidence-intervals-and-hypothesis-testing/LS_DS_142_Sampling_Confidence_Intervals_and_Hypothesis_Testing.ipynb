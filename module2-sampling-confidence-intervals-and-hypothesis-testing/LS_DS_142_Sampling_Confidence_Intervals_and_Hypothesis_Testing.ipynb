{
  "nbformat": 4,
  "nbformat_minor": 0,
  "metadata": {
    "colab": {
      "name": "LS_DS_142_Sampling_Confidence_Intervals_and_Hypothesis_Testing.ipynb",
      "version": "0.3.2",
      "provenance": [],
      "collapsed_sections": [],
      "include_colab_link": true
    },
    "kernelspec": {
      "name": "python3",
      "display_name": "Python 3"
    }
  },
  "cells": [
    {
      "cell_type": "markdown",
      "metadata": {
        "id": "view-in-github",
        "colab_type": "text"
      },
      "source": [
        "<a href=\"https://colab.research.google.com/github/will-cotton4/DS-Unit-1-Sprint-4-Statistical-Tests-and-Experiments/blob/master/module2-sampling-confidence-intervals-and-hypothesis-testing/LS_DS_142_Sampling_Confidence_Intervals_and_Hypothesis_Testing.ipynb\" target=\"_parent\"><img src=\"https://colab.research.google.com/assets/colab-badge.svg\" alt=\"Open In Colab\"/></a>"
      ]
    },
    {
      "metadata": {
        "id": "838Dmw1kM2LK",
        "colab_type": "text"
      },
      "cell_type": "markdown",
      "source": [
        "# Lambda School Data Science Module 142\n",
        "## Sampling, Confidence Intervals, and Hypothesis Testing"
      ]
    },
    {
      "metadata": {
        "id": "dbcPKIo5M6Ny",
        "colab_type": "text"
      },
      "cell_type": "markdown",
      "source": [
        "## Prepare - examine other available hypothesis tests\n",
        "\n",
        "If you had to pick a single hypothesis test in your toolbox, t-test would probably be the best choice - but the good news is you don't have to pick just one! Here's some of the others to be aware of:"
      ]
    },
    {
      "metadata": {
        "id": "tlBel8j9M6tB",
        "colab_type": "code",
        "outputId": "45d49ee0-6e19-4b9f-d0c8-35589fc7e351",
        "colab": {
          "base_uri": "https://localhost:8080/",
          "height": 187
        }
      },
      "cell_type": "code",
      "source": [
        "import numpy as np\n",
        "from scipy.stats import chisquare  # One-way chi square test\n",
        "\n",
        "# Chi square can take any crosstab/table and test the independence of rows/cols\n",
        "# The null hypothesis is that the rows/cols are independent -> low chi square\n",
        "# The alternative is that there is a dependence -> high chi square\n",
        "# Be aware! Chi square does *not* tell you direction/causation\n",
        "\n",
        "ind_obs = np.array([[1, 1], [2, 2]]).T\n",
        "print(ind_obs)\n",
        "print(chisquare(ind_obs, axis=None))\n",
        "\n",
        "dep_obs = np.array([[16, 18, 16, 14, 12, 12], [32, 24, 16, 28, 20, 24]]).T\n",
        "print(dep_obs)\n",
        "print(chisquare(dep_obs, axis=None))"
      ],
      "execution_count": 4,
      "outputs": [
        {
          "output_type": "stream",
          "text": [
            "[[1 2]\n",
            " [1 2]]\n",
            "Power_divergenceResult(statistic=0.6666666666666666, pvalue=0.8810148425137847)\n",
            "[[16 32]\n",
            " [18 24]\n",
            " [16 16]\n",
            " [14 28]\n",
            " [12 20]\n",
            " [12 24]]\n",
            "Power_divergenceResult(statistic=23.31034482758621, pvalue=0.015975692534127565)\n"
          ],
          "name": "stdout"
        }
      ]
    },
    {
      "metadata": {
        "id": "nN0BdNiDPxbk",
        "colab_type": "code",
        "outputId": "6d86cd01-7e22-4345-9aff-c964a593132d",
        "colab": {
          "base_uri": "https://localhost:8080/",
          "height": 34
        }
      },
      "cell_type": "code",
      "source": [
        "# Distribution tests:\n",
        "# We often assume that something is normal, but it can be important to *check*\n",
        "\n",
        "# For example, later on with predictive modeling, a typical assumption is that\n",
        "# residuals (prediction errors) are normal - checking is a good diagnostic\n",
        "\n",
        "from scipy.stats import normaltest\n",
        "# Poisson models arrival times and is related to the binomial (coinflip)\n",
        "sample = np.random.poisson(5, 1000)\n",
        "print(normaltest(sample))  # Pretty clearly not normal"
      ],
      "execution_count": 5,
      "outputs": [
        {
          "output_type": "stream",
          "text": [
            "NormaltestResult(statistic=29.76513900604742, pvalue=3.4401880924716797e-07)\n"
          ],
          "name": "stdout"
        }
      ]
    },
    {
      "metadata": {
        "id": "P5t0WhkDReFO",
        "colab_type": "code",
        "outputId": "f121cd14-3073-4f66-dae2-d93b234ee186",
        "colab": {
          "base_uri": "https://localhost:8080/",
          "height": 51
        }
      },
      "cell_type": "code",
      "source": [
        "# Kruskal-Wallis H-test - compare the median rank between 2+ groups\n",
        "# Can be applied to ranking decisions/outcomes/recommendations\n",
        "# The underlying math comes from chi-square distribution, and is best for n>5\n",
        "from scipy.stats import kruskal\n",
        "\n",
        "x1 = [1, 3, 5, 7, 9]\n",
        "y1 = [2, 4, 6, 8, 10]\n",
        "print(kruskal(x1, y1))  # x1 is a little better, but not \"significantly\" so\n",
        "\n",
        "x2 = [1, 1, 1]\n",
        "y2 = [2, 2, 2]\n",
        "z = [2, 2]  # Hey, a third group, and of different size!\n",
        "print(kruskal(x2, y2, z))  # x clearly dominates"
      ],
      "execution_count": 6,
      "outputs": [
        {
          "output_type": "stream",
          "text": [
            "KruskalResult(statistic=0.2727272727272734, pvalue=0.6015081344405895)\n",
            "KruskalResult(statistic=7.0, pvalue=0.0301973834223185)\n"
          ],
          "name": "stdout"
        }
      ]
    },
    {
      "metadata": {
        "id": "7pT3IP36Rh0b",
        "colab_type": "text"
      },
      "cell_type": "markdown",
      "source": [
        "And there's many more! `scipy.stats` is fairly comprehensive, though there are even more available if you delve into the extended world of statistics packages. As tests get increasingly obscure and specialized, the importance of knowing them by heart becomes small - but being able to look them up and figure them out when they *are* relevant is still important."
      ]
    },
    {
      "metadata": {
        "id": "L1_KRuHCM7BW",
        "colab_type": "text"
      },
      "cell_type": "markdown",
      "source": [
        "## Live Lecture - let's explore some more of scipy.stats\n",
        "\n",
        "Candidate topics to explore:\n",
        "\n",
        "- `scipy.stats.chi2` - the Chi-squared distribution, which we can use to reproduce the Chi-squared test\n",
        "- Calculate the Chi-Squared test statistic \"by hand\" (with code), and feed it into `chi2`\n",
        "- Build a confidence interval with `stats.t.ppf`, the t-distribution percentile point function (the inverse of the CDF) - we can write a function to return a tuple of `(mean, lower bound, upper bound)` that you can then use for the assignment (visualizing confidence intervals)"
      ]
    },
    {
      "metadata": {
        "id": "qW6k0dorM7Lz",
        "colab_type": "code",
        "colab": {
          "base_uri": "https://localhost:8080/",
          "height": 235
        },
        "outputId": "60958903-4559-46d6-b3a0-288a631fc374"
      },
      "cell_type": "code",
      "source": [
        "gender = ['male', 'male', 'male', 'female', 'female', 'female']\n",
        "eats_outside = ['outside', 'inside', 'inside', 'inside', 'outside', 'outside']\n",
        "\n",
        "import pandas as pd\n",
        "\n",
        "df = pd.DataFrame({\"gender\": gender, 'preference': eats_outside})\n",
        "df.head(6)"
      ],
      "execution_count": 7,
      "outputs": [
        {
          "output_type": "execute_result",
          "data": {
            "text/html": [
              "<div>\n",
              "<style scoped>\n",
              "    .dataframe tbody tr th:only-of-type {\n",
              "        vertical-align: middle;\n",
              "    }\n",
              "\n",
              "    .dataframe tbody tr th {\n",
              "        vertical-align: top;\n",
              "    }\n",
              "\n",
              "    .dataframe thead th {\n",
              "        text-align: right;\n",
              "    }\n",
              "</style>\n",
              "<table border=\"1\" class=\"dataframe\">\n",
              "  <thead>\n",
              "    <tr style=\"text-align: right;\">\n",
              "      <th></th>\n",
              "      <th>gender</th>\n",
              "      <th>preference</th>\n",
              "    </tr>\n",
              "  </thead>\n",
              "  <tbody>\n",
              "    <tr>\n",
              "      <th>0</th>\n",
              "      <td>male</td>\n",
              "      <td>outside</td>\n",
              "    </tr>\n",
              "    <tr>\n",
              "      <th>1</th>\n",
              "      <td>male</td>\n",
              "      <td>inside</td>\n",
              "    </tr>\n",
              "    <tr>\n",
              "      <th>2</th>\n",
              "      <td>male</td>\n",
              "      <td>inside</td>\n",
              "    </tr>\n",
              "    <tr>\n",
              "      <th>3</th>\n",
              "      <td>female</td>\n",
              "      <td>inside</td>\n",
              "    </tr>\n",
              "    <tr>\n",
              "      <th>4</th>\n",
              "      <td>female</td>\n",
              "      <td>outside</td>\n",
              "    </tr>\n",
              "    <tr>\n",
              "      <th>5</th>\n",
              "      <td>female</td>\n",
              "      <td>outside</td>\n",
              "    </tr>\n",
              "  </tbody>\n",
              "</table>\n",
              "</div>"
            ],
            "text/plain": [
              "   gender preference\n",
              "0    male    outside\n",
              "1    male     inside\n",
              "2    male     inside\n",
              "3  female     inside\n",
              "4  female    outside\n",
              "5  female    outside"
            ]
          },
          "metadata": {
            "tags": []
          },
          "execution_count": 7
        }
      ]
    },
    {
      "metadata": {
        "id": "nG5I-f3DAp-w",
        "colab_type": "code",
        "colab": {
          "base_uri": "https://localhost:8080/",
          "height": 142
        },
        "outputId": "ba488945-6099-4561-be57-9979b0642f5f"
      },
      "cell_type": "code",
      "source": [
        "table = pd.crosstab(df.gender, df.preference)\n",
        "\n",
        "table"
      ],
      "execution_count": 8,
      "outputs": [
        {
          "output_type": "execute_result",
          "data": {
            "text/html": [
              "<div>\n",
              "<style scoped>\n",
              "    .dataframe tbody tr th:only-of-type {\n",
              "        vertical-align: middle;\n",
              "    }\n",
              "\n",
              "    .dataframe tbody tr th {\n",
              "        vertical-align: top;\n",
              "    }\n",
              "\n",
              "    .dataframe thead th {\n",
              "        text-align: right;\n",
              "    }\n",
              "</style>\n",
              "<table border=\"1\" class=\"dataframe\">\n",
              "  <thead>\n",
              "    <tr style=\"text-align: right;\">\n",
              "      <th>preference</th>\n",
              "      <th>inside</th>\n",
              "      <th>outside</th>\n",
              "    </tr>\n",
              "    <tr>\n",
              "      <th>gender</th>\n",
              "      <th></th>\n",
              "      <th></th>\n",
              "    </tr>\n",
              "  </thead>\n",
              "  <tbody>\n",
              "    <tr>\n",
              "      <th>female</th>\n",
              "      <td>1</td>\n",
              "      <td>2</td>\n",
              "    </tr>\n",
              "    <tr>\n",
              "      <th>male</th>\n",
              "      <td>2</td>\n",
              "      <td>1</td>\n",
              "    </tr>\n",
              "  </tbody>\n",
              "</table>\n",
              "</div>"
            ],
            "text/plain": [
              "preference  inside  outside\n",
              "gender                     \n",
              "female           1        2\n",
              "male             2        1"
            ]
          },
          "metadata": {
            "tags": []
          },
          "execution_count": 8
        }
      ]
    },
    {
      "metadata": {
        "id": "vMLb-76eAtYl",
        "colab_type": "code",
        "colab": {
          "base_uri": "https://localhost:8080/",
          "height": 173
        },
        "outputId": "1971ebe7-8aa6-4575-dc1b-f7dac07a1990"
      },
      "cell_type": "code",
      "source": [
        "pd.crosstab(df.gender, df.preference, margins = True)"
      ],
      "execution_count": 9,
      "outputs": [
        {
          "output_type": "execute_result",
          "data": {
            "text/html": [
              "<div>\n",
              "<style scoped>\n",
              "    .dataframe tbody tr th:only-of-type {\n",
              "        vertical-align: middle;\n",
              "    }\n",
              "\n",
              "    .dataframe tbody tr th {\n",
              "        vertical-align: top;\n",
              "    }\n",
              "\n",
              "    .dataframe thead th {\n",
              "        text-align: right;\n",
              "    }\n",
              "</style>\n",
              "<table border=\"1\" class=\"dataframe\">\n",
              "  <thead>\n",
              "    <tr style=\"text-align: right;\">\n",
              "      <th>preference</th>\n",
              "      <th>inside</th>\n",
              "      <th>outside</th>\n",
              "      <th>All</th>\n",
              "    </tr>\n",
              "    <tr>\n",
              "      <th>gender</th>\n",
              "      <th></th>\n",
              "      <th></th>\n",
              "      <th></th>\n",
              "    </tr>\n",
              "  </thead>\n",
              "  <tbody>\n",
              "    <tr>\n",
              "      <th>female</th>\n",
              "      <td>1</td>\n",
              "      <td>2</td>\n",
              "      <td>3</td>\n",
              "    </tr>\n",
              "    <tr>\n",
              "      <th>male</th>\n",
              "      <td>2</td>\n",
              "      <td>1</td>\n",
              "      <td>3</td>\n",
              "    </tr>\n",
              "    <tr>\n",
              "      <th>All</th>\n",
              "      <td>3</td>\n",
              "      <td>3</td>\n",
              "      <td>6</td>\n",
              "    </tr>\n",
              "  </tbody>\n",
              "</table>\n",
              "</div>"
            ],
            "text/plain": [
              "preference  inside  outside  All\n",
              "gender                          \n",
              "female           1        2    3\n",
              "male             2        1    3\n",
              "All              3        3    6"
            ]
          },
          "metadata": {
            "tags": []
          },
          "execution_count": 9
        }
      ]
    },
    {
      "metadata": {
        "id": "r4-FrvJwBfo_",
        "colab_type": "code",
        "colab": {
          "base_uri": "https://localhost:8080/",
          "height": 204
        },
        "outputId": "ca4f15ba-bcd0-44d5-ebba-c3f662675ae3"
      },
      "cell_type": "code",
      "source": [
        "df = df.replace(\"male\", 0)\n",
        "df = df.replace(\"female\", 1)\n",
        "df = df.replace('outside', 0)\n",
        "df = df.replace('inside', 1)\n",
        "\n",
        "df.head()"
      ],
      "execution_count": 10,
      "outputs": [
        {
          "output_type": "execute_result",
          "data": {
            "text/html": [
              "<div>\n",
              "<style scoped>\n",
              "    .dataframe tbody tr th:only-of-type {\n",
              "        vertical-align: middle;\n",
              "    }\n",
              "\n",
              "    .dataframe tbody tr th {\n",
              "        vertical-align: top;\n",
              "    }\n",
              "\n",
              "    .dataframe thead th {\n",
              "        text-align: right;\n",
              "    }\n",
              "</style>\n",
              "<table border=\"1\" class=\"dataframe\">\n",
              "  <thead>\n",
              "    <tr style=\"text-align: right;\">\n",
              "      <th></th>\n",
              "      <th>gender</th>\n",
              "      <th>preference</th>\n",
              "    </tr>\n",
              "  </thead>\n",
              "  <tbody>\n",
              "    <tr>\n",
              "      <th>0</th>\n",
              "      <td>0</td>\n",
              "      <td>0</td>\n",
              "    </tr>\n",
              "    <tr>\n",
              "      <th>1</th>\n",
              "      <td>0</td>\n",
              "      <td>1</td>\n",
              "    </tr>\n",
              "    <tr>\n",
              "      <th>2</th>\n",
              "      <td>0</td>\n",
              "      <td>1</td>\n",
              "    </tr>\n",
              "    <tr>\n",
              "      <th>3</th>\n",
              "      <td>1</td>\n",
              "      <td>1</td>\n",
              "    </tr>\n",
              "    <tr>\n",
              "      <th>4</th>\n",
              "      <td>1</td>\n",
              "      <td>0</td>\n",
              "    </tr>\n",
              "  </tbody>\n",
              "</table>\n",
              "</div>"
            ],
            "text/plain": [
              "   gender  preference\n",
              "0       0           0\n",
              "1       0           1\n",
              "2       0           1\n",
              "3       1           1\n",
              "4       1           0"
            ]
          },
          "metadata": {
            "tags": []
          },
          "execution_count": 10
        }
      ]
    },
    {
      "metadata": {
        "id": "mz0VvOmOCICW",
        "colab_type": "code",
        "colab": {
          "base_uri": "https://localhost:8080/",
          "height": 68
        },
        "outputId": "7ec12f6d-0846-4fbe-ced9-c85287bd8c5f"
      },
      "cell_type": "code",
      "source": [
        "import numpy as np\n",
        "expected = np.array([[1.5, 1.5],\n",
        "            [1.5, 1.5]])\n",
        "pd.crosstab(df.gender, df.preference, margins=True, normalize='all')\n",
        "observed = np.array([[.5, .5], [.5, .5]])\n",
        "\n",
        "deviation = observed-expected\n",
        "print(deviation)\n",
        "\n",
        "deviation_squared = deviation**2\n",
        "\n",
        "fraction = deviation_squared / expected\n",
        "\n",
        "chi2 = fraction.sum()\n",
        "chi2/4"
      ],
      "execution_count": 11,
      "outputs": [
        {
          "output_type": "stream",
          "text": [
            "[[-1. -1.]\n",
            " [-1. -1.]]\n"
          ],
          "name": "stdout"
        },
        {
          "output_type": "execute_result",
          "data": {
            "text/plain": [
              "0.6666666666666666"
            ]
          },
          "metadata": {
            "tags": []
          },
          "execution_count": 11
        }
      ]
    },
    {
      "metadata": {
        "id": "wiwGDTHJGTQR",
        "colab_type": "code",
        "colab": {
          "base_uri": "https://localhost:8080/",
          "height": 34
        },
        "outputId": "42317ca7-8660-42d6-b483-f59c0834a754"
      },
      "cell_type": "code",
      "source": [
        "chi_data = [[1,2],\n",
        "            [2,1]]\n",
        "\n",
        "from scipy.stats import chisquare  # One-way chi square test\n",
        "\n",
        "chisquare(chi_data, axis=None)"
      ],
      "execution_count": 12,
      "outputs": [
        {
          "output_type": "execute_result",
          "data": {
            "text/plain": [
              "Power_divergenceResult(statistic=0.6666666666666666, pvalue=0.8810148425137847)"
            ]
          },
          "metadata": {
            "tags": []
          },
          "execution_count": 12
        }
      ]
    },
    {
      "metadata": {
        "id": "JEIgeY7WMDXO",
        "colab_type": "text"
      },
      "cell_type": "markdown",
      "source": [
        "## Confidence Intervals"
      ]
    },
    {
      "metadata": {
        "id": "D-V9l-lgGnFq",
        "colab_type": "code",
        "colab": {
          "base_uri": "https://localhost:8080/",
          "height": 68
        },
        "outputId": "1a652491-32f6-4a04-8187-52357615262c"
      },
      "cell_type": "code",
      "source": [
        "coinflips = np.random.binomial(n=1, p=.5, size = 100)\n",
        "\n",
        "print(coinflips)"
      ],
      "execution_count": 13,
      "outputs": [
        {
          "output_type": "stream",
          "text": [
            "[1 1 1 0 1 0 1 0 1 1 1 1 1 0 1 1 1 0 0 0 1 1 0 1 1 0 1 0 1 1 0 1 1 0 0 1 0\n",
            " 1 1 0 0 1 1 0 0 0 1 1 0 0 0 1 1 0 1 0 0 1 0 0 0 1 1 0 0 0 1 1 0 0 1 0 0 1\n",
            " 1 1 0 1 0 0 0 1 0 1 0 1 1 0 0 0 0 0 0 1 1 0 1 0 1 0]\n"
          ],
          "name": "stdout"
        }
      ]
    },
    {
      "metadata": {
        "id": "p424124QMLNe",
        "colab_type": "code",
        "colab": {
          "base_uri": "https://localhost:8080/",
          "height": 34
        },
        "outputId": "60863fc1-c331-4354-97c2-15479ce05a28"
      },
      "cell_type": "code",
      "source": [
        "import scipy.stats as stats\n",
        "\n",
        "stats.ttest_1samp(coinflips, 0.5)"
      ],
      "execution_count": 14,
      "outputs": [
        {
          "output_type": "execute_result",
          "data": {
            "text/plain": [
              "Ttest_1sampResult(statistic=0.0, pvalue=1.0)"
            ]
          },
          "metadata": {
            "tags": []
          },
          "execution_count": 14
        }
      ]
    },
    {
      "metadata": {
        "id": "bmQFfrPNMdBP",
        "colab_type": "code",
        "colab": {}
      },
      "cell_type": "code",
      "source": [
        ""
      ],
      "execution_count": 0,
      "outputs": []
    },
    {
      "metadata": {
        "id": "11OzdxWTM7UR",
        "colab_type": "text"
      },
      "cell_type": "markdown",
      "source": [
        "## Assignment - Build a confidence interval\n",
        "\n",
        "A confidence interval refers to a neighborhood around some point estimate, the size of which is determined by the desired p-value. For instance, we might say that 52% of Americans prefer tacos to burritos, with a 95% confidence interval of +/- 5%.\n",
        "\n",
        "52% (0.52) is the point estimate, and +/- 5% (the interval $[0.47, 0.57]$) is the confidence interval. \"95% confidence\" means a p-value $\\leq 1 - 0.95 = 0.05$.\n",
        "\n",
        "In this case, the confidence interval includes $0.5$ - which is the natural null hypothesis (that half of Americans prefer tacos and half burritos, thus there is no clear favorite). So in this case, we could use the confidence interval to report that we've failed to reject the null hypothesis.\n",
        "\n",
        "But providing the full analysis with a confidence interval, including a graphical representation of it, can be a helpful and powerful way to tell your story. Done well, it is also more intuitive to a layperson than simply saying \"fail to reject the null hypothesis\" - it shows that in fact the data does *not* give a single clear result (the point estimate) but a whole range of possibilities.\n",
        "\n",
        "How is a confidence interval built, and how should it be interpreted? It does *not* mean that 95% of the data lies in that interval - instead, the frequentist interpretation is \"if we were to repeat this experiment 100 times, we would expect the average result to lie in this interval ~95 times.\"\n",
        "\n",
        "For a 95% confidence interval and a normal(-ish) distribution, you can simply remember that +/-2 standard deviations contains 95% of the probability mass, and so the 95% confidence interval based on a given sample is centered at the mean (point estimate) and has a range of +/- 2 (or technically 1.96) standard deviations.\n",
        "\n",
        "Different distributions/assumptions (90% confidence, 99% confidence) will require different math, but the overall process and interpretation (with a frequentist approach) will be the same."
      ]
    },
    {
      "metadata": {
        "id": "ZuXR-6Yzdywb",
        "colab_type": "text"
      },
      "cell_type": "markdown",
      "source": [
        "Your assignment - using the data from the prior module ([congressional voting records](https://archive.ics.uci.edu/ml/datasets/Congressional+Voting+Records)):\n",
        "\n",
        "1. Generate and numerically represent a confidence interval\n"
      ]
    },
    {
      "metadata": {
        "id": "xKewB_sDd-N8",
        "colab_type": "code",
        "colab": {}
      },
      "cell_type": "code",
      "source": [
        "import scipy.stats as stats\n",
        "def confidence_interval(data, confidence=0.95):\n",
        "  \"\"\"\n",
        "  Calculate a confidence interval around a sample mean for given data.\n",
        "  Using t-distribution and two-tailed test, default 95% confidence. \n",
        "  \n",
        "  Arguments:\n",
        "    data - iterable (list or numpy array) of sample observations\n",
        "    confidence - level of confidence for the interval\n",
        "  \n",
        "  Returns:\n",
        "    tuple of (mean, lower bound, upper bound)\n",
        "  \"\"\"\n",
        "  data = np.array(data)\n",
        "  mean = np.mean(data)\n",
        "  n = len(data)\n",
        "  stderr = stats.sem(data)\n",
        "  interval = stderr * stats.t.ppf((1 + confidence) / 2., n - 1)\n",
        "  return (mean, mean - interval, mean + interval)\n",
        "\n",
        "def report_confidence_interval(confidence_interval):\n",
        "  \"\"\"\n",
        "  Return a string with a pretty report of a confidence interval.\n",
        "  \n",
        "  Arguments:\n",
        "    confidence_interval - tuple of (mean, lower bound, upper bound)\n",
        "  \n",
        "  Returns:\n",
        "    None, but prints to screen the report\n",
        "  \"\"\"\n",
        "  #print('Mean: {}'.format(confidence_interval[0]))\n",
        "  #print('Lower bound: {}'.format(confidence_interval[1]))\n",
        "  #print('Upper bound: {}'.format(confidence_interval[2]))\n",
        "  s = \"our mean lies in the interval [{:.2}, {:.2}]\".format(\n",
        "      confidence_interval[1], confidence_interval[2])\n",
        "  return s"
      ],
      "execution_count": 0,
      "outputs": []
    },
    {
      "metadata": {
        "id": "61rVxOq4fxx3",
        "colab_type": "code",
        "colab": {}
      },
      "cell_type": "code",
      "source": [
        "#Import and clean the data:\n",
        "\n",
        "col_names = ['is_republican',\n",
        "             'handicapped-infants',\n",
        "             'water-project',\n",
        "             'budget',\n",
        "             'physician-fee-freeze',\n",
        "             'el-salvador-aid',\n",
        "             'religious-groups-in-schools',\n",
        "             'anti-satellite-test-ban',\n",
        "             'aid-to-nicaraguan-contras',\n",
        "             'mx-missile',\n",
        "             'immigration',\n",
        "             'synfuels-corporation-cutback',\n",
        "             'education-spending',\n",
        "             'superfund-right-to-sue',\n",
        "             'crime',\n",
        "             'duty-free-exports',\n",
        "             'south-africa']\n",
        "\n",
        "congress_url = 'https://archive.ics.uci.edu/ml/machine-learning-databases/voting-records/house-votes-84.data'\n",
        "congress_votes = pd.read_csv(congress_url, names = col_names)\n",
        "congress_votes = congress_votes.replace('?', np.NaN)\n",
        "congress_votes['is_republican'] = congress_votes['is_republican'].replace({'republican': 1, 'democrat': 0})\n",
        "congress_votes = congress_votes.drop(columns = ['south-africa']).dropna().replace({'y': 1, 'n': 0})"
      ],
      "execution_count": 0,
      "outputs": []
    },
    {
      "metadata": {
        "id": "cwxo9Tpdh_N3",
        "colab_type": "code",
        "colab": {
          "base_uri": "https://localhost:8080/",
          "height": 68
        },
        "outputId": "c0cb837f-9968-403e-a802-e927b50d07bd"
      },
      "cell_type": "code",
      "source": [
        "congress_votes['physician-fee-freeze'].value_counts()"
      ],
      "execution_count": 17,
      "outputs": [
        {
          "output_type": "execute_result",
          "data": {
            "text/plain": [
              "0    155\n",
              "1    126\n",
              "Name: physician-fee-freeze, dtype: int64"
            ]
          },
          "metadata": {
            "tags": []
          },
          "execution_count": 17
        }
      ]
    },
    {
      "metadata": {
        "id": "LOzdgzh0hPBB",
        "colab_type": "code",
        "colab": {}
      },
      "cell_type": "code",
      "source": [
        "#Create a new DataFrame to take a look at percentages of support:\n",
        "new_cols =  ['handicapped-infants',\n",
        "             'water-project',\n",
        "             'budget',\n",
        "             'physician-fee-freeze',\n",
        "             'el-salvador-aid',\n",
        "             'religious-groups-in-schools',\n",
        "             'anti-satellite-test-ban',\n",
        "             'aid-to-nicaraguan-contras',\n",
        "             'mx-missile',\n",
        "             'immigration',\n",
        "             'synfuels-corporation-cutback',\n",
        "             'education-spending',\n",
        "             'superfund-right-to-sue',\n",
        "             'crime',\n",
        "             'duty-free-exports']\n",
        "index = ['pct_dems', 'pct_repubs', 'pct_total']\n",
        "percent_support = pd.DataFrame(index = index, columns = new_cols)\n",
        "total_dems = congress_votes['is_republican'].value_counts()[0]\n",
        "total_repubs = congress_votes['is_republican'].value_counts()[1]\n",
        "\n",
        "for column in new_cols:\n",
        "  num_support = congress_votes[congress_votes['is_republican'] == 0][column].value_counts().loc[1]\n",
        "  percent_support[column].loc['pct_dems'] = num_support/total_dems\n",
        "\n",
        "for column in new_cols:\n",
        "  num_support = congress_votes[congress_votes['is_republican'] == 1][column].value_counts().loc[1]\n",
        "  percent_support[column].loc['pct_repubs'] = num_support/total_repubs\n",
        "  \n",
        "for column in new_cols:\n",
        "  total_votes = congress_votes[column].count()\n",
        "  num_support = congress_votes[column].value_counts().loc[1]\n",
        "  percent_support[column].loc['pct_total'] = num_support/total_votes\n",
        "  "
      ],
      "execution_count": 0,
      "outputs": []
    },
    {
      "metadata": {
        "id": "MDUPNzpDmlV3",
        "colab_type": "code",
        "colab": {
          "base_uri": "https://localhost:8080/",
          "height": 176
        },
        "outputId": "a054a11e-a503-4a44-8e35-85a250c81d52"
      },
      "cell_type": "code",
      "source": [
        "percent_support"
      ],
      "execution_count": 24,
      "outputs": [
        {
          "output_type": "execute_result",
          "data": {
            "text/html": [
              "<div>\n",
              "<style scoped>\n",
              "    .dataframe tbody tr th:only-of-type {\n",
              "        vertical-align: middle;\n",
              "    }\n",
              "\n",
              "    .dataframe tbody tr th {\n",
              "        vertical-align: top;\n",
              "    }\n",
              "\n",
              "    .dataframe thead th {\n",
              "        text-align: right;\n",
              "    }\n",
              "</style>\n",
              "<table border=\"1\" class=\"dataframe\">\n",
              "  <thead>\n",
              "    <tr style=\"text-align: right;\">\n",
              "      <th></th>\n",
              "      <th>handicapped-infants</th>\n",
              "      <th>water-project</th>\n",
              "      <th>budget</th>\n",
              "      <th>physician-fee-freeze</th>\n",
              "      <th>el-salvador-aid</th>\n",
              "      <th>religious-groups-in-schools</th>\n",
              "      <th>anti-satellite-test-ban</th>\n",
              "      <th>aid-to-nicaraguan-contras</th>\n",
              "      <th>mx-missile</th>\n",
              "      <th>immigration</th>\n",
              "      <th>synfuels-corporation-cutback</th>\n",
              "      <th>education-spending</th>\n",
              "      <th>superfund-right-to-sue</th>\n",
              "      <th>crime</th>\n",
              "      <th>duty-free-exports</th>\n",
              "    </tr>\n",
              "  </thead>\n",
              "  <tbody>\n",
              "    <tr>\n",
              "      <th>pct_dems</th>\n",
              "      <td>0.606061</td>\n",
              "      <td>0.460606</td>\n",
              "      <td>0.872727</td>\n",
              "      <td>0.0666667</td>\n",
              "      <td>0.224242</td>\n",
              "      <td>0.454545</td>\n",
              "      <td>0.769697</td>\n",
              "      <td>0.824242</td>\n",
              "      <td>0.769697</td>\n",
              "      <td>0.49697</td>\n",
              "      <td>0.515152</td>\n",
              "      <td>0.151515</td>\n",
              "      <td>0.30303</td>\n",
              "      <td>0.357576</td>\n",
              "      <td>0.606061</td>\n",
              "    </tr>\n",
              "    <tr>\n",
              "      <th>pct_repubs</th>\n",
              "      <td>0.206897</td>\n",
              "      <td>0.465517</td>\n",
              "      <td>0.155172</td>\n",
              "      <td>0.991379</td>\n",
              "      <td>0.956897</td>\n",
              "      <td>0.87931</td>\n",
              "      <td>0.258621</td>\n",
              "      <td>0.146552</td>\n",
              "      <td>0.12931</td>\n",
              "      <td>0.568966</td>\n",
              "      <td>0.155172</td>\n",
              "      <td>0.853448</td>\n",
              "      <td>0.844828</td>\n",
              "      <td>0.982759</td>\n",
              "      <td>0.103448</td>\n",
              "    </tr>\n",
              "    <tr>\n",
              "      <th>pct_total</th>\n",
              "      <td>0.441281</td>\n",
              "      <td>0.462633</td>\n",
              "      <td>0.576512</td>\n",
              "      <td>0.448399</td>\n",
              "      <td>0.52669</td>\n",
              "      <td>0.629893</td>\n",
              "      <td>0.558719</td>\n",
              "      <td>0.544484</td>\n",
              "      <td>0.505338</td>\n",
              "      <td>0.52669</td>\n",
              "      <td>0.366548</td>\n",
              "      <td>0.441281</td>\n",
              "      <td>0.52669</td>\n",
              "      <td>0.615658</td>\n",
              "      <td>0.398577</td>\n",
              "    </tr>\n",
              "  </tbody>\n",
              "</table>\n",
              "</div>"
            ],
            "text/plain": [
              "           handicapped-infants water-project    budget physician-fee-freeze  \\\n",
              "pct_dems              0.606061      0.460606  0.872727            0.0666667   \n",
              "pct_repubs            0.206897      0.465517  0.155172             0.991379   \n",
              "pct_total             0.441281      0.462633  0.576512             0.448399   \n",
              "\n",
              "           el-salvador-aid religious-groups-in-schools  \\\n",
              "pct_dems          0.224242                    0.454545   \n",
              "pct_repubs        0.956897                     0.87931   \n",
              "pct_total          0.52669                    0.629893   \n",
              "\n",
              "           anti-satellite-test-ban aid-to-nicaraguan-contras mx-missile  \\\n",
              "pct_dems                  0.769697                  0.824242   0.769697   \n",
              "pct_repubs                0.258621                  0.146552    0.12931   \n",
              "pct_total                 0.558719                  0.544484   0.505338   \n",
              "\n",
              "           immigration synfuels-corporation-cutback education-spending  \\\n",
              "pct_dems       0.49697                     0.515152           0.151515   \n",
              "pct_repubs    0.568966                     0.155172           0.853448   \n",
              "pct_total      0.52669                     0.366548           0.441281   \n",
              "\n",
              "           superfund-right-to-sue     crime duty-free-exports  \n",
              "pct_dems                  0.30303  0.357576          0.606061  \n",
              "pct_repubs               0.844828  0.982759          0.103448  \n",
              "pct_total                 0.52669  0.615658          0.398577  "
            ]
          },
          "metadata": {
            "tags": []
          },
          "execution_count": 24
        }
      ]
    },
    {
      "metadata": {
        "id": "thXk8fSJgrSF",
        "colab_type": "code",
        "colab": {
          "base_uri": "https://localhost:8080/",
          "height": 34
        },
        "outputId": "7c488069-5c75-4a12-ff0a-cace1b0206d9"
      },
      "cell_type": "code",
      "source": [
        "#Let's take a look at the stats on the physician fee freeze bill:\n",
        "\n",
        "confidence_interval(congress_votes['physician-fee-freeze'])"
      ],
      "execution_count": 20,
      "outputs": [
        {
          "output_type": "execute_result",
          "data": {
            "text/plain": [
              "(0.4483985765124555, 0.3898932862994075, 0.5069038667255035)"
            ]
          },
          "metadata": {
            "tags": []
          },
          "execution_count": 20
        }
      ]
    },
    {
      "metadata": {
        "id": "NLMXiy-AkCSD",
        "colab_type": "text"
      },
      "cell_type": "markdown",
      "source": [
        "**In other words, we would expect that among 95% of samples taken, we would observe that the sample mean calculated (the percentage of yes votes) would lie in the interval $[0.3899, 0.5069]$.**"
      ]
    },
    {
      "metadata": {
        "id": "Jf78bR8Qd2D-",
        "colab_type": "text"
      },
      "cell_type": "markdown",
      "source": [
        "2. Graphically (with a plot) represent the confidence interval"
      ]
    },
    {
      "metadata": {
        "id": "O6jqLaiOk4Xd",
        "colab_type": "code",
        "colab": {
          "base_uri": "https://localhost:8080/",
          "height": 389
        },
        "outputId": "dce7a9de-514c-4ee5-87ee-c336b2db3755"
      },
      "cell_type": "code",
      "source": [
        "import numpy as np\n",
        "import pandas as pd\n",
        "import matplotlib.pyplot as plt\n",
        "import math\n",
        "\n",
        "#Here we take the infomation we found previously and reformat it for easier use:\n",
        "\n",
        "sample_mean = confidence_interval(congress_votes['physician-fee-freeze'])[0]\n",
        "lower_bound = confidence_interval(congress_votes['physician-fee-freeze'])[1]\n",
        "upper_bound = confidence_interval(congress_votes['physician-fee-freeze'])[2]\n",
        "\n",
        "#Create ranges for plt uses:\n",
        "\n",
        "x = np.linspace(100*lower_bound, 100*upper_bound, 100)\n",
        "y = np.zeros(100)\n",
        "confidence_error = upper_bound - sample_mean\n",
        "\n",
        "#Plot stuff:\n",
        "fig, ax = plt.subplots();\n",
        "ax.set_yticklabels([])\n",
        "ax.text(38.4, 0.014, \n",
        "        '95% of sample means will lie between ~38.99% and ~50.69%',\n",
        "        fontweight='bold',\n",
        "        size=16)\n",
        "\n",
        "ax.scatter(x=100*lower_bound, y=0, marker='o')\n",
        "ax.text(x=100*lower_bound, y=0.002,s='Lower bound: ~38.99%')\n",
        "\n",
        "ax.scatter(x=100*upper_bound, y=0, marker='o')\n",
        "ax.text(x=100*upper_bound-3.5, y=0.002,s='Upper bound: ~50.69%')\n",
        "\n",
        "ax.plot(x,y)"
      ],
      "execution_count": 67,
      "outputs": [
        {
          "output_type": "execute_result",
          "data": {
            "text/plain": [
              "[<matplotlib.lines.Line2D at 0x7f79330defd0>]"
            ]
          },
          "metadata": {
            "tags": []
          },
          "execution_count": 67
        },
        {
          "output_type": "display_data",
          "data": {
            "image/png": "[encoded data removed]",
            "text/plain": [
              "<Figure size 576x396 with 1 Axes>"
            ]
          },
          "metadata": {
            "tags": []
          }
        }
      ]
    },
    {
      "metadata": {
        "id": "x8Ygm6LBd346",
        "colab_type": "text"
      },
      "cell_type": "markdown",
      "source": [
        "\n",
        "3. Interpret the confidence interval - what does it tell you about the data and its distribution?\n",
        "\n"
      ]
    },
    {
      "metadata": {
        "id": "nFpxnwQys2h4",
        "colab_type": "text"
      },
      "cell_type": "markdown",
      "source": [
        "**As stated above, we would expect that in 95 out of 100 samples from the population, we would observe the vote to tabulate to between 38.99% and 50.69%.**"
      ]
    },
    {
      "metadata": {
        "id": "Ns-IMe0Hd6MY",
        "colab_type": "text"
      },
      "cell_type": "markdown",
      "source": [
        "Stretch goals:\n",
        "\n",
        "1. Write a summary of your findings, mixing prose and math/code/results. *Note* - yes, this is by definition a political topic. It is challenging but important to keep your writing voice *neutral* and stick to the facts of the data. Data science often involves considering controversial issues, so it's important to be sensitive about them (especially if you want to publish).\n",
        "2. Apply the techniques you learned today to your project data or other data of your choice, and write/discuss your findings here.\n",
        "3. Refactor your code so it is elegant, readable, and can be easily run for all issues."
      ]
    },
    {
      "metadata": {
        "id": "nyJ3ySr7R2k9",
        "colab_type": "text"
      },
      "cell_type": "markdown",
      "source": [
        "## Resources\n",
        "\n",
        "- [Interactive visualize the Chi-Squared test](https://homepage.divms.uiowa.edu/~mbognar/applets/chisq.html)\n",
        "- [Calculation of Chi-Squared test statistic](https://en.wikipedia.org/wiki/Pearson%27s_chi-squared_test)\n",
        "- [Visualization of a confidence interval generated by R code](https://commons.wikimedia.org/wiki/File:Confidence-interval.svg)\n",
        "- [Expected value of a squared standard normal](https://math.stackexchange.com/questions/264061/expected-value-calculation-for-squared-normal-distribution) (it's 1 - which is why the expected value of a Chi-Squared with $n$ degrees of freedom is $n$, as it's the sum of $n$ squared standard normals)"
      ]
    }
  ]
}