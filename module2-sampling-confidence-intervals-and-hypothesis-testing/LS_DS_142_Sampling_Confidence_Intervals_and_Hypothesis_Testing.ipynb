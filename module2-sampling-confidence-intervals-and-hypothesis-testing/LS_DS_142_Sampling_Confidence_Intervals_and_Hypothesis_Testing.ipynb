{
  "nbformat": 4,
  "nbformat_minor": 0,
  "metadata": {
    "colab": {
      "name": "LS_DS_142_Sampling_Confidence_Intervals_and_Hypothesis_Testing.ipynb",
      "version": "0.3.2",
      "provenance": [],
      "collapsed_sections": [],
      "include_colab_link": true
    },
    "kernelspec": {
      "name": "python3",
      "display_name": "Python 3"
    }
  },
  "cells": [
    {
      "cell_type": "markdown",
      "metadata": {
        "id": "view-in-github",
        "colab_type": "text"
      },
      "source": [
        "<a href=\"https://colab.research.google.com/github/Granero0011/DS-Unit-1-Sprint-4-Statistical-Tests-and-Experiments/blob/master/module2-sampling-confidence-intervals-and-hypothesis-testing/LS_DS_142_Sampling_Confidence_Intervals_and_Hypothesis_Testing.ipynb\" target=\"_parent\"><img src=\"https://colab.research.google.com/assets/colab-badge.svg\" alt=\"Open In Colab\"/></a>"
      ]
    },
    {
      "metadata": {
        "id": "838Dmw1kM2LK",
        "colab_type": "text"
      },
      "cell_type": "markdown",
      "source": [
        "# Lambda School Data Science Module 142\n",
        "## Sampling, Confidence Intervals, and Hypothesis Testing"
      ]
    },
    {
      "metadata": {
        "id": "dbcPKIo5M6Ny",
        "colab_type": "text"
      },
      "cell_type": "markdown",
      "source": [
        "## Prepare - examine other available hypothesis tests\n",
        "\n",
        "If you had to pick a single hypothesis test in your toolbox, t-test would probably be the best choice - but the good news is you don't have to pick just one! Here's some of the others to be aware of:"
      ]
    },
    {
      "metadata": {
        "id": "tlBel8j9M6tB",
        "colab_type": "code",
        "outputId": "811623c9-885a-42e3-c3f7-159ced2ce330",
        "colab": {
          "base_uri": "https://localhost:8080/",
          "height": 215
        }
      },
      "cell_type": "code",
      "source": [
        "import numpy as np\n",
        "from scipy.stats import chisquare  # One-way chi square test\n",
        "\n",
        "# Chi square can take any crosstab/table and test the independence of rows/cols\n",
        "# The null hypothesis is that the rows/cols are independent -> low chi square\n",
        "# The alternative is that there is a dependence -> high chi square\n",
        "# Be aware! Chi square does *not* tell you direction/causation\n",
        "\n",
        "ind_obs = np.array([[1, 1], [2, 2]]).T\n",
        "print(ind_obs)\n",
        "print(chisquare(ind_obs, axis=None))\n",
        "\n",
        "dep_obs = np.array([[16, 18, 16, 14, 12, 12], [32, 24, 16, 28, 20, 24]]).T\n",
        "print(dep_obs)\n",
        "print(chisquare(dep_obs, axis=None))"
      ],
      "execution_count": 0,
      "outputs": [
        {
          "output_type": "stream",
          "text": [
            "[[1 2]\n",
            " [1 2]]\n",
            "Power_divergenceResult(statistic=0.6666666666666666, pvalue=0.8810148425137847)\n",
            "[[16 32]\n",
            " [18 24]\n",
            " [16 16]\n",
            " [14 28]\n",
            " [12 20]\n",
            " [12 24]]\n",
            "Power_divergenceResult(statistic=23.31034482758621, pvalue=0.015975692534127565)\n"
          ],
          "name": "stdout"
        }
      ]
    },
    {
      "metadata": {
        "id": "nN0BdNiDPxbk",
        "colab_type": "code",
        "outputId": "36426de9-d1b9-4790-ae20-9d5eb578a77a",
        "colab": {
          "base_uri": "https://localhost:8080/",
          "height": 35
        }
      },
      "cell_type": "code",
      "source": [
        "# Distribution tests:\n",
        "# We often assume that something is normal, but it can be important to *check*\n",
        "\n",
        "# For example, later on with predictive modeling, a typical assumption is that\n",
        "# residuals (prediction errors) are normal - checking is a good diagnostic\n",
        "\n",
        "from scipy.stats import normaltest\n",
        "# Poisson models arrival times and is related to the binomial (coinflip)\n",
        "sample = np.random.poisson(5, 1000)\n",
        "print(normaltest(sample))  # Pretty clearly not normal"
      ],
      "execution_count": 0,
      "outputs": [
        {
          "output_type": "stream",
          "text": [
            "NormaltestResult(statistic=38.69323106073592, pvalue=3.961609200867749e-09)\n"
          ],
          "name": "stdout"
        }
      ]
    },
    {
      "metadata": {
        "id": "P5t0WhkDReFO",
        "colab_type": "code",
        "outputId": "7d6438bf-8042-4297-a8f7-cef083d22444",
        "colab": {
          "base_uri": "https://localhost:8080/",
          "height": 53
        }
      },
      "cell_type": "code",
      "source": [
        "# Kruskal-Wallis H-test - compare the median rank between 2+ groups\n",
        "# Can be applied to ranking decisions/outcomes/recommendations\n",
        "# The underlying math comes from chi-square distribution, and is best for n>5\n",
        "from scipy.stats import kruskal\n",
        "\n",
        "x1 = [1, 3, 5, 7, 9]\n",
        "y1 = [2, 4, 6, 8, 10]\n",
        "print(kruskal(x1, y1))  # x1 is a little better, but not \"significantly\" so\n",
        "\n",
        "x2 = [1, 1, 1]\n",
        "y2 = [2, 2, 2]\n",
        "z = [2, 2]  # Hey, a third group, and of different size!\n",
        "print(kruskal(x2, y2, z))  # x clearly dominates"
      ],
      "execution_count": 0,
      "outputs": [
        {
          "output_type": "stream",
          "text": [
            "KruskalResult(statistic=0.2727272727272734, pvalue=0.6015081344405895)\n",
            "KruskalResult(statistic=7.0, pvalue=0.0301973834223185)\n"
          ],
          "name": "stdout"
        }
      ]
    },
    {
      "metadata": {
        "id": "7pT3IP36Rh0b",
        "colab_type": "text"
      },
      "cell_type": "markdown",
      "source": [
        "And there's many more! `scipy.stats` is fairly comprehensive, though there are even more available if you delve into the extended world of statistics packages. As tests get increasingly obscure and specialized, the importance of knowing them by heart becomes small - but being able to look them up and figure them out when they *are* relevant is still important."
      ]
    },
    {
      "metadata": {
        "id": "L1_KRuHCM7BW",
        "colab_type": "text"
      },
      "cell_type": "markdown",
      "source": [
        "## Live Lecture - let's explore some more of scipy.stats\n",
        "\n",
        "Candidate topics to explore:\n",
        "\n",
        "- `scipy.stats.chi2` - the Chi-squared distribution, which we can use to reproduce the Chi-squared test\n",
        "- Calculate the Chi-Squared test statistic \"by hand\" (with code), and feed it into `chi2`\n",
        "- Build a confidence interval with `stats.t.ppf`, the t-distribution percentile point function (the inverse of the CDF) - we can write a function to return a tuple of `(mean, lower bound, upper bound)` that you can then use for the assignment (visualizing confidence intervals)"
      ]
    },
    {
      "metadata": {
        "id": "qW6k0dorM7Lz",
        "colab_type": "code",
        "colab": {}
      },
      "cell_type": "code",
      "source": [
        "# Taking requests! Come to lecture with a topic or problem and we'll try it."
      ],
      "execution_count": 0,
      "outputs": []
    },
    {
      "metadata": {
        "id": "11OzdxWTM7UR",
        "colab_type": "text"
      },
      "cell_type": "markdown",
      "source": [
        "## Assignment - Build a confidence interval\n",
        "\n",
        "A confidence interval refers to a neighborhood around some point estimate, the size of which is determined by the desired p-value. For instance, we might say that 52% of Americans prefer tacos to burritos, with a 95% confidence interval of +/- 5%.\n",
        "\n",
        "52% (0.52) is the point estimate, and +/- 5% (the interval $[0.47, 0.57]$) is the confidence interval. \"95% confidence\" means a p-value $\\leq 1 - 0.95 = 0.05$.\n",
        "\n",
        "In this case, the confidence interval includes $0.5$ - which is the natural null hypothesis (that half of Americans prefer tacos and half burritos, thus there is no clear favorite). So in this case, we could use the confidence interval to report that we've failed to reject the null hypothesis.\n",
        "\n",
        "But providing the full analysis with a confidence interval, including a graphical representation of it, can be a helpful and powerful way to tell your story. Done well, it is also more intuitive to a layperson than simply saying \"fail to reject the null hypothesis\" - it shows that in fact the data does *not* give a single clear result (the point estimate) but a whole range of possibilities.\n",
        "\n",
        "How is a confidence interval built, and how should it be interpreted? It does *not* mean that 95% of the data lies in that interval - instead, the frequentist interpretation is \"if we were to repeat this experiment 100 times, we would expect the average result to lie in this interval ~95 times.\"\n",
        "\n",
        "For a 95% confidence interval and a normal(-ish) distribution, you can simply remember that +/-2 standard deviations contains 95% of the probability mass, and so the 95% confidence interval based on a given sample is centered at the mean (point estimate) and has a range of +/- 2 (or technically 1.96) standard deviations.\n",
        "\n",
        "Different distributions/assumptions (90% confidence, 99% confidence) will require different math, but the overall process and interpretation (with a frequentist approach) will be the same.\n",
        "\n",
        "Your assignment - using the data from the prior module ([congressional voting records](https://archive.ics.uci.edu/ml/datasets/Congressional+Voting+Records)):\n",
        "\n",
        "1. Generate and numerically represent a confidence interval\n",
        "2. Graphically (with a plot) represent the confidence interval\n",
        "3. Interpret the confidence interval - what does it tell you about the data and its distribution?\n",
        "\n",
        "Stretch goals:\n",
        "\n",
        "1. Write a summary of your findings, mixing prose and math/code/results. *Note* - yes, this is by definition a political topic. It is challenging but important to keep your writing voice *neutral* and stick to the facts of the data. Data science often involves considering controversial issues, so it's important to be sensitive about them (especially if you want to publish).\n",
        "2. Apply the techniques you learned today to your project data or other data of your choice, and write/discuss your findings here.\n",
        "3. Refactor your code so it is elegant, readable, and can be easily run for all issues."
      ]
    },
    {
      "metadata": {
        "id": "Ckcr4A4FM7cs",
        "colab_type": "code",
        "colab": {}
      },
      "cell_type": "code",
      "source": [
        "#Let's get the data from yesterday\n",
        "import pandas as pd\n",
        "url='https://raw.githubusercontent.com/Granero0011/DS-Unit-1-Sprint-4-Statistical-Tests-and-Experiments/master/house-votes-84%20(1).csv'\n",
        "polling = pd.read_csv(url, header=None, names=['class name','handicapped-infants','water-project-cost-sharing','adoption-of-the-budget-resolution','physician-fee-freeze','el-salvador-aid', \"religious-groups-in-schools\",\n",
        "                                              'anti-satellite-test-ban','aid-to-nicaraguan-contras','mx-missile',\n",
        "                                              'immigration', 'synfuels-corporation-cutback', 'education-spending', 'superfund-right-to-sue',\n",
        "                                              'crime', 'duty-free-exports', 'export-administration-act-south-africa'])"
      ],
      "execution_count": 0,
      "outputs": []
    },
    {
      "metadata": {
        "id": "rke6451FBEU2",
        "colab_type": "code",
        "colab": {}
      },
      "cell_type": "code",
      "source": [
        "#Let's import libraries\n",
        "import numpy as np\n",
        "from scipy import stats\n",
        "import matplotlib.pyplot as plt"
      ],
      "execution_count": 0,
      "outputs": []
    },
    {
      "metadata": {
        "id": "eenNXCN1BMF6",
        "colab_type": "code",
        "colab": {}
      },
      "cell_type": "code",
      "source": [
        "#Let's clean up the data and convert it to binaries\n",
        "polling= polling.replace('?', 0);\n",
        "polling= polling.replace('n', 0);\n",
        "polling= polling.replace('y', 1);"
      ],
      "execution_count": 0,
      "outputs": []
    },
    {
      "metadata": {
        "id": "ys7p6DFQ297A",
        "colab_type": "code",
        "colab": {}
      },
      "cell_type": "code",
      "source": [
        "#Let's isolate republicans\n",
        "republicans= polling[polling['class name']=='republican'];\n",
        "#Let's isolate democrats from the list\n",
        "democrats= polling[polling['class name']=='democrat'];"
      ],
      "execution_count": 0,
      "outputs": []
    },
    {
      "metadata": {
        "id": "QhmRC85IGpBq",
        "colab_type": "code",
        "colab": {
          "base_uri": "https://localhost:8080/",
          "height": 3009
        },
        "outputId": "e185fe8e-7da7-4df8-c187-eaaa9592d422"
      },
      "cell_type": "code",
      "source": [
        "#Let's calculate the confidence interval for each column , and for both republicans and democrats\n",
        "confidence = 0.95 \n",
        "x_ticks = ('class name','handicapped-infants','water-project-cost-sharing','adoption-of-the-budget-resolution','physician-fee-freeze','el-salvador-aid', \"religious-groups-in-schools\",\n",
        "                                              'anti-satellite-test-ban','aid-to-nicaraguan-contras','mx-missile',\n",
        "                                              'immigration', 'synfuels-corporation-cutback', 'education-spending', 'superfund-right-to-sue',\n",
        "                                              'crime', 'duty-free-exports', 'export-administration-act-south-africa')\n",
        "\n",
        "x_1 = np.arange(1, len(polling.columns))\n",
        "x_2 = x_1 + 0.1\n",
        "\n",
        "y_1 = [];\n",
        "y_2 =[];\n",
        "\n",
        "err_1 = []\n",
        "err_2 = []\n",
        "\n",
        "for y in range(1, len(polling.columns)):\n",
        "  x=polling.columns[y]\n",
        "  print(polling.columns[y])\n",
        "  print('democrats')\n",
        "  mean = democrats[x].mean()\n",
        "  stderr = stats.sem(democrats[x])\n",
        "  n=len(democrats[x])\n",
        "  interval = stderr * stats.t.ppf((1 + confidence) / 2., n - 1)\n",
        "  confidence_interval=(mean-interval,  mean+interval)\n",
        "  y_1.append(mean)\n",
        "  err_1.append(interval)\n",
        "  print('mean')\n",
        "  print(mean)\n",
        "  print('confidence interval')\n",
        "  print(confidence_interval)\n",
        "\n",
        "  \n",
        "  \n",
        "  print('republicans')\n",
        "  mean = republicans[x].mean()\n",
        "  stderr = stats.sem(republicans[x])\n",
        "  n=len(republicans[x])\n",
        "  interval = stderr * stats.t.ppf((1 + confidence) / 2., n - 1)\n",
        "  confidence_interval=(mean-interval,  mean+interval)\n",
        "  y_2.append(mean)\n",
        "  err_2.append(interval)\n",
        "  print('mean')\n",
        "  print(mean)\n",
        "  print('confidence interval')\n",
        "  print(confidence_interval)\n",
        "  \n",
        "\n"
      ],
      "execution_count": 35,
      "outputs": [
        {
          "output_type": "stream",
          "text": [
            "handicapped-infants\n",
            "democrats\n",
            "mean\n",
            "0.5842696629213483\n",
            "confidence interval\n",
            "(0.5247719472369563, 0.6437673786057403)\n",
            "republicans\n",
            "mean\n",
            "0.18452380952380953\n",
            "confidence interval\n",
            "(0.12526125471665267, 0.2437863643309664)\n",
            "water-project-cost-sharing\n",
            "democrats\n",
            "mean\n",
            "0.449438202247191\n",
            "confidence interval\n",
            "(0.3893864348338393, 0.5094899696605427)\n",
            "republicans\n",
            "mean\n",
            "0.44642857142857145\n",
            "confidence interval\n",
            "(0.37048144515554093, 0.522375697701602)\n",
            "adoption-of-the-budget-resolution\n",
            "democrats\n",
            "mean\n",
            "0.8651685393258427\n",
            "confidence interval\n",
            "(0.8239366017405851, 0.9064004769111003)\n",
            "republicans\n",
            "mean\n",
            "0.13095238095238096\n",
            "confidence interval\n",
            "(0.07941444662385228, 0.18249031528090964)\n",
            "physician-fee-freeze\n",
            "democrats\n",
            "mean\n",
            "0.052434456928838954\n",
            "confidence interval\n",
            "(0.025525257217451757, 0.07934365664022615)\n",
            "republicans\n",
            "mean\n",
            "0.9702380952380952\n",
            "confidence interval\n",
            "(0.9442772968863529, 0.9961988935898376)\n",
            "el-salvador-aid\n",
            "democrats\n",
            "mean\n",
            "0.20599250936329588\n",
            "confidence interval\n",
            "(0.1571693613158776, 0.25481565741071416)\n",
            "republicans\n",
            "mean\n",
            "0.9345238095238095\n",
            "confidence interval\n",
            "(0.8967330684696345, 0.9723145505779845)\n",
            "religious-groups-in-schools\n",
            "democrats\n",
            "mean\n",
            "0.4606741573033708\n",
            "confidence interval\n",
            "(0.40049996006382055, 0.5208483545429211)\n",
            "republicans\n",
            "mean\n",
            "0.8869047619047619\n",
            "confidence interval\n",
            "(0.8385199369558394, 0.9352895868536844)\n",
            "anti-satellite-test-ban\n",
            "democrats\n",
            "mean\n",
            "0.7490636704119851\n",
            "confidence interval\n",
            "(0.6967242507786483, 0.8014030900453218)\n",
            "republicans\n",
            "mean\n",
            "0.23214285714285715\n",
            "confidence interval\n",
            "(0.16764186452309232, 0.296643849762622)\n",
            "aid-to-nicaraguan-contras\n",
            "democrats\n",
            "mean\n",
            "0.8164794007490637\n",
            "confidence interval\n",
            "(0.7697486465482442, 0.8632101549498832)\n",
            "republicans\n",
            "mean\n",
            "0.14285714285714285\n",
            "confidence interval\n",
            "(0.08939749343905154, 0.19631679227523416)\n",
            "mx-missile\n",
            "democrats\n",
            "mean\n",
            "0.704119850187266\n",
            "confidence interval\n",
            "(0.6490176457484155, 0.7592220546261165)\n",
            "republicans\n",
            "mean\n",
            "0.1130952380952381\n",
            "confidence interval\n",
            "(0.06471041314631555, 0.16148006304416063)\n",
            "immigration\n",
            "democrats\n",
            "mean\n",
            "0.46441947565543074\n",
            "confidence interval\n",
            "(0.4042113143124596, 0.5246276369984019)\n",
            "republicans\n",
            "mean\n",
            "0.5476190476190477\n",
            "confidence interval\n",
            "(0.4715794256175998, 0.6236586696204955)\n",
            "synfuels-corporation-cutback\n",
            "democrats\n",
            "mean\n",
            "0.48314606741573035\n",
            "confidence interval\n",
            "(0.42281918229499366, 0.543472952536467)\n",
            "republicans\n",
            "mean\n",
            "0.125\n",
            "confidence interval\n",
            "(0.07447485666781078, 0.17552514333218922)\n",
            "education-spending\n",
            "democrats\n",
            "mean\n",
            "0.1348314606741573\n",
            "confidence interval\n",
            "(0.09359952308889968, 0.17606339825941492)\n",
            "republicans\n",
            "mean\n",
            "0.8035714285714286\n",
            "confidence interval\n",
            "(0.7428750061374492, 0.864267851005408)\n",
            "superfund-right-to-sue\n",
            "democrats\n",
            "mean\n",
            "0.27340823970037453\n",
            "confidence interval\n",
            "(0.21960123724933478, 0.3272152421514143)\n",
            "republicans\n",
            "mean\n",
            "0.8095238095238095\n",
            "confidence interval\n",
            "(0.7495331436014631, 0.869514475446156)\n",
            "crime\n",
            "democrats\n",
            "mean\n",
            "0.33707865168539325\n",
            "confidence interval\n",
            "(0.28001173722974465, 0.39414556614104185)\n",
            "republicans\n",
            "mean\n",
            "0.9404761904761905\n",
            "confidence interval\n",
            "(0.904329563030822, 0.9766228179215589)\n",
            "duty-free-exports\n",
            "democrats\n",
            "mean\n",
            "0.599250936329588\n",
            "confidence interval\n",
            "(0.5400909065910334, 0.6584109660681426)\n",
            "republicans\n",
            "mean\n",
            "0.08333333333333333\n",
            "confidence interval\n",
            "(0.04110892062782448, 0.12555774603884218)\n",
            "export-administration-act-south-africa\n",
            "democrats\n",
            "mean\n",
            "0.6479400749063671\n",
            "confidence interval\n",
            "(0.5902815560661676, 0.7055985937465665)\n",
            "republicans\n",
            "mean\n",
            "0.5714285714285714\n",
            "confidence interval\n",
            "(0.49582521018179576, 0.6470319326753471)\n"
          ],
          "name": "stdout"
        }
      ]
    },
    {
      "metadata": {
        "id": "tPrjvovaXYR0",
        "colab_type": "code",
        "colab": {}
      },
      "cell_type": "code",
      "source": [
        ""
      ],
      "execution_count": 0,
      "outputs": []
    },
    {
      "metadata": {
        "id": "2v9HocXzQJ34",
        "colab_type": "code",
        "colab": {
          "base_uri": "https://localhost:8080/",
          "height": 749
        },
        "outputId": "1e93ae3b-d9a7-40d1-9ea7-6e1b9262ea01"
      },
      "cell_type": "code",
      "source": [
        "#Let's graph an error graph to visualize all this\n",
        "plt.figure(figsize=(20,10))  \n",
        "plt.errorbar(x=x_1, y=y_1, yerr=err_1, color=\"black\", capsize=3,\n",
        "             linestyle=\"None\",\n",
        "             marker=\"s\", markersize=7, mfc=\"black\", mec=\"black\", label='Democrats')\n",
        "\n",
        "plt.errorbar(x=x_2, y=y_2, yerr=err_2, color=\"gray\", capsize=3,\n",
        "             linestyle=\"None\",\n",
        "             marker=\"s\", markersize=7, mfc=\"gray\", mec=\"gray\", label='Republicans')\n",
        "\n",
        "plt.xticks(x_1, x_ticks, rotation=90)\n",
        "plt.ylabel('Ration of republicans and democrats voting yes')\n",
        "plt.legend()\n",
        "plt.tight_layout()\n",
        "plt.show()"
      ],
      "execution_count": 36,
      "outputs": [
        {
          "output_type": "display_data",
          "data": {
            "image/png": "[encoded data removed]",
            "text/plain": [
              "<Figure size 1440x720 with 1 Axes>"
            ]
          },
          "metadata": {
            "tags": []
          }
        }
      ]
    },
    {
      "metadata": {
        "id": "ZjOF62puXZ9p",
        "colab_type": "code",
        "colab": {}
      },
      "cell_type": "code",
      "source": [
        "#In our case, we are dealing with binaries that are representative of voting records.  A mean > 0.5  is a good indication that the majority of votes\n",
        "#were yes (1). mean <0.5 supposes the opposite. A low CI indicates that the data is concentrated around the mean. A large CI supposes the opposite."
      ],
      "execution_count": 0,
      "outputs": []
    },
    {
      "metadata": {
        "id": "nyJ3ySr7R2k9",
        "colab_type": "text"
      },
      "cell_type": "markdown",
      "source": [
        "## Resources\n",
        "\n",
        "- [Interactive visualize the Chi-Squared test](https://homepage.divms.uiowa.edu/~mbognar/applets/chisq.html)\n",
        "- [Calculation of Chi-Squared test statistic](https://en.wikipedia.org/wiki/Pearson%27s_chi-squared_test)\n",
        "- [Visualization of a confidence interval generated by R code](https://commons.wikimedia.org/wiki/File:Confidence-interval.svg)\n",
        "- [Expected value of a squared standard normal](https://math.stackexchange.com/questions/264061/expected-value-calculation-for-squared-normal-distribution) (it's 1 - which is why the expected value of a Chi-Squared with $n$ degrees of freedom is $n$, as it's the sum of $n$ squared standard normals)"
      ]
    }
  ]
}