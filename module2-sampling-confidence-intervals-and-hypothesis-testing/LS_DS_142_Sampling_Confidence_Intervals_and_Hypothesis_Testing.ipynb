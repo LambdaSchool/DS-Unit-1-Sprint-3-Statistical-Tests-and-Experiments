{
  "nbformat": 4,
  "nbformat_minor": 0,
  "metadata": {
    "colab": {
      "name": "LS_DS_142_Sampling_Confidence_Intervals_and_Hypothesis_Testing.ipynb",
      "version": "0.3.2",
      "provenance": [],
      "collapsed_sections": [],
      "include_colab_link": true
    },
    "kernelspec": {
      "name": "python3",
      "display_name": "Python 3"
    }
  },
  "cells": [
    {
      "cell_type": "markdown",
      "metadata": {
        "id": "view-in-github",
        "colab_type": "text"
      },
      "source": [
        "<a href=\"https://colab.research.google.com/github/jazzathoth/DS-Unit-1-Sprint-4-Statistical-Tests-and-Experiments/blob/master/module2-sampling-confidence-intervals-and-hypothesis-testing/LS_DS_142_Sampling_Confidence_Intervals_and_Hypothesis_Testing.ipynb\" target=\"_parent\"><img src=\"https://colab.research.google.com/assets/colab-badge.svg\" alt=\"Open In Colab\"/></a>"
      ]
    },
    {
      "metadata": {
        "id": "838Dmw1kM2LK",
        "colab_type": "text"
      },
      "cell_type": "markdown",
      "source": [
        "# Lambda School Data Science Module 142\n",
        "## Sampling, Confidence Intervals, and Hypothesis Testing"
      ]
    },
    {
      "metadata": {
        "id": "dbcPKIo5M6Ny",
        "colab_type": "text"
      },
      "cell_type": "markdown",
      "source": [
        "## Prepare - examine other available hypothesis tests\n",
        "\n",
        "If you had to pick a single hypothesis test in your toolbox, t-test would probably be the best choice - but the good news is you don't have to pick just one! Here's some of the others to be aware of:"
      ]
    },
    {
      "metadata": {
        "id": "uu-41Y1XDDM1",
        "colab_type": "code",
        "colab": {}
      },
      "cell_type": "code",
      "source": [
        "import matplotlib.pyplot as plt\n",
        "import pandas as pd\n",
        "import numpy as np\n",
        "from scipy.stats import chisquare  # One-way chi square test"
      ],
      "execution_count": 0,
      "outputs": []
    },
    {
      "metadata": {
        "id": "tlBel8j9M6tB",
        "colab_type": "code",
        "outputId": "b61bc5de-d1f7-4bb2-edf7-5ae5bbd2eaea",
        "colab": {
          "base_uri": "https://localhost:8080/",
          "height": 187
        }
      },
      "cell_type": "code",
      "source": [
        "\n",
        "\n",
        "# Chi square can take any crosstab/table and test the independence of rows/cols\n",
        "# The null hypothesis is that the rows/cols are independent -> low chi square\n",
        "# The alternative is that there is a dependence -> high chi square\n",
        "# Be aware! Chi square does *not* tell you direction/causation\n",
        "\n",
        "ind_obs = np.array([[1, 1], [2, 2]]).T\n",
        "print(ind_obs)\n",
        "print(chisquare(ind_obs, axis=None))\n",
        "\n",
        "dep_obs = np.array([[16, 18, 16, 14, 12, 12], [32, 24, 16, 28, 20, 24]]).T\n",
        "print(dep_obs)\n",
        "print(chisquare(dep_obs, axis=None))"
      ],
      "execution_count": 2,
      "outputs": [
        {
          "output_type": "stream",
          "text": [
            "[[1 2]\n",
            " [1 2]]\n",
            "Power_divergenceResult(statistic=0.6666666666666666, pvalue=0.8810148425137847)\n",
            "[[16 32]\n",
            " [18 24]\n",
            " [16 16]\n",
            " [14 28]\n",
            " [12 20]\n",
            " [12 24]]\n",
            "Power_divergenceResult(statistic=23.31034482758621, pvalue=0.015975692534127565)\n"
          ],
          "name": "stdout"
        }
      ]
    },
    {
      "metadata": {
        "id": "nN0BdNiDPxbk",
        "colab_type": "code",
        "outputId": "c53a4568-47c6-4c10-fb9b-8be46b40e6ee",
        "colab": {
          "base_uri": "https://localhost:8080/",
          "height": 34
        }
      },
      "cell_type": "code",
      "source": [
        "# Distribution tests:\n",
        "# We often assume that something is normal, but it can be important to *check*\n",
        "\n",
        "# For example, later on with predictive modeling, a typical assumption is that\n",
        "# residuals (prediction errors) are normal - checking is a good diagnostic\n",
        "\n",
        "from scipy.stats import normaltest\n",
        "# Poisson models arrival times and is related to the binomial (coinflip)\n",
        "sample = np.random.poisson(5, 1000)\n",
        "print(normaltest(sample))  # Pretty clearly not normal"
      ],
      "execution_count": 3,
      "outputs": [
        {
          "output_type": "stream",
          "text": [
            "NormaltestResult(statistic=42.378347669716064, pvalue=6.275650186837583e-10)\n"
          ],
          "name": "stdout"
        }
      ]
    },
    {
      "metadata": {
        "id": "P5t0WhkDReFO",
        "colab_type": "code",
        "outputId": "218c2369-b627-4b11-cb84-68b56c535308",
        "colab": {
          "base_uri": "https://localhost:8080/",
          "height": 51
        }
      },
      "cell_type": "code",
      "source": [
        "# Kruskal-Wallis H-test - compare the median rank between 2+ groups\n",
        "# Can be applied to ranking decisions/outcomes/recommendations\n",
        "# The underlying math comes from chi-square distribution, and is best for n>5\n",
        "from scipy.stats import kruskal\n",
        "\n",
        "x1 = [1, 3, 5, 7, 9]\n",
        "y1 = [2, 4, 6, 8, 10]\n",
        "print(kruskal(x1, y1))  # x1 is a little better, but not \"significantly\" so\n",
        "\n",
        "x2 = [1, 1, 1]\n",
        "y2 = [2, 2, 2]\n",
        "z = [2, 2]  # Hey, a third group, and of different size!\n",
        "print(kruskal(x2, y2, z))  # x clearly dominates"
      ],
      "execution_count": 4,
      "outputs": [
        {
          "output_type": "stream",
          "text": [
            "KruskalResult(statistic=0.2727272727272734, pvalue=0.6015081344405895)\n",
            "KruskalResult(statistic=7.0, pvalue=0.0301973834223185)\n"
          ],
          "name": "stdout"
        }
      ]
    },
    {
      "metadata": {
        "id": "7pT3IP36Rh0b",
        "colab_type": "text"
      },
      "cell_type": "markdown",
      "source": [
        "And there's many more! `scipy.stats` is fairly comprehensive, though there are even more available if you delve into the extended world of statistics packages. As tests get increasingly obscure and specialized, the importance of knowing them by heart becomes small - but being able to look them up and figure them out when they *are* relevant is still important."
      ]
    },
    {
      "metadata": {
        "id": "L1_KRuHCM7BW",
        "colab_type": "text"
      },
      "cell_type": "markdown",
      "source": [
        "## Live Lecture - let's explore some more of scipy.stats\n",
        "\n",
        "Candidate topics to explore:\n",
        "\n",
        "- `scipy.stats.chi2` - the Chi-squared distribution, which we can use to reproduce the Chi-squared test\n",
        "- Calculate the Chi-Squared test statistic \"by hand\" (with code), and feed it into `chi2`\n",
        "- Build a confidence interval with `stats.t.ppf`, the t-distribution percentile point function (the inverse of the CDF) - we can write a function to return a tuple of `(mean, lower bound, upper bound)` that you can then use for the assignment (visualizing confidence intervals)"
      ]
    },
    {
      "metadata": {
        "id": "qW6k0dorM7Lz",
        "colab_type": "code",
        "colab": {}
      },
      "cell_type": "code",
      "source": [
        "# Taking requests! Come to lecture with a topic or problem and we'll try it."
      ],
      "execution_count": 0,
      "outputs": []
    },
    {
      "metadata": {
        "id": "n8M8yuQwDozV",
        "colab_type": "code",
        "colab": {
          "base_uri": "https://localhost:8080/",
          "height": 204
        },
        "outputId": "24928e6b-29e8-43dd-aec8-ccf2636510a6"
      },
      "cell_type": "code",
      "source": [
        "gender = ['male', 'male','male','female','female','female']\n",
        "eats_outside = ['outside', 'inside', 'inside', 'inside', 'outside', 'outside']\n",
        "\n",
        "df = pd.DataFrame({'gender': gender, 'preference': eats_outside})\n",
        "df.head()"
      ],
      "execution_count": 6,
      "outputs": [
        {
          "output_type": "execute_result",
          "data": {
            "text/html": [
              "<div>\n",
              "<style scoped>\n",
              "    .dataframe tbody tr th:only-of-type {\n",
              "        vertical-align: middle;\n",
              "    }\n",
              "\n",
              "    .dataframe tbody tr th {\n",
              "        vertical-align: top;\n",
              "    }\n",
              "\n",
              "    .dataframe thead th {\n",
              "        text-align: right;\n",
              "    }\n",
              "</style>\n",
              "<table border=\"1\" class=\"dataframe\">\n",
              "  <thead>\n",
              "    <tr style=\"text-align: right;\">\n",
              "      <th></th>\n",
              "      <th>gender</th>\n",
              "      <th>preference</th>\n",
              "    </tr>\n",
              "  </thead>\n",
              "  <tbody>\n",
              "    <tr>\n",
              "      <th>0</th>\n",
              "      <td>male</td>\n",
              "      <td>outside</td>\n",
              "    </tr>\n",
              "    <tr>\n",
              "      <th>1</th>\n",
              "      <td>male</td>\n",
              "      <td>inside</td>\n",
              "    </tr>\n",
              "    <tr>\n",
              "      <th>2</th>\n",
              "      <td>male</td>\n",
              "      <td>inside</td>\n",
              "    </tr>\n",
              "    <tr>\n",
              "      <th>3</th>\n",
              "      <td>female</td>\n",
              "      <td>inside</td>\n",
              "    </tr>\n",
              "    <tr>\n",
              "      <th>4</th>\n",
              "      <td>female</td>\n",
              "      <td>outside</td>\n",
              "    </tr>\n",
              "  </tbody>\n",
              "</table>\n",
              "</div>"
            ],
            "text/plain": [
              "   gender preference\n",
              "0    male    outside\n",
              "1    male     inside\n",
              "2    male     inside\n",
              "3  female     inside\n",
              "4  female    outside"
            ]
          },
          "metadata": {
            "tags": []
          },
          "execution_count": 6
        }
      ]
    },
    {
      "metadata": {
        "id": "qslIT0QZDowW",
        "colab_type": "code",
        "colab": {
          "base_uri": "https://localhost:8080/",
          "height": 142
        },
        "outputId": "7ea6dd35-1bf6-4199-aa01-6f72516511d9"
      },
      "cell_type": "code",
      "source": [
        "table = pd.crosstab(df.gender, df.preference)\n",
        "table"
      ],
      "execution_count": 7,
      "outputs": [
        {
          "output_type": "execute_result",
          "data": {
            "text/html": [
              "<div>\n",
              "<style scoped>\n",
              "    .dataframe tbody tr th:only-of-type {\n",
              "        vertical-align: middle;\n",
              "    }\n",
              "\n",
              "    .dataframe tbody tr th {\n",
              "        vertical-align: top;\n",
              "    }\n",
              "\n",
              "    .dataframe thead th {\n",
              "        text-align: right;\n",
              "    }\n",
              "</style>\n",
              "<table border=\"1\" class=\"dataframe\">\n",
              "  <thead>\n",
              "    <tr style=\"text-align: right;\">\n",
              "      <th>preference</th>\n",
              "      <th>inside</th>\n",
              "      <th>outside</th>\n",
              "    </tr>\n",
              "    <tr>\n",
              "      <th>gender</th>\n",
              "      <th></th>\n",
              "      <th></th>\n",
              "    </tr>\n",
              "  </thead>\n",
              "  <tbody>\n",
              "    <tr>\n",
              "      <th>female</th>\n",
              "      <td>1</td>\n",
              "      <td>2</td>\n",
              "    </tr>\n",
              "    <tr>\n",
              "      <th>male</th>\n",
              "      <td>2</td>\n",
              "      <td>1</td>\n",
              "    </tr>\n",
              "  </tbody>\n",
              "</table>\n",
              "</div>"
            ],
            "text/plain": [
              "preference  inside  outside\n",
              "gender                     \n",
              "female           1        2\n",
              "male             2        1"
            ]
          },
          "metadata": {
            "tags": []
          },
          "execution_count": 7
        }
      ]
    },
    {
      "metadata": {
        "id": "08O31232Dose",
        "colab_type": "code",
        "colab": {
          "base_uri": "https://localhost:8080/",
          "height": 173
        },
        "outputId": "935f3ad4-e0d3-4f1c-cf7f-a17a6b1e141e"
      },
      "cell_type": "code",
      "source": [
        "pd.crosstab(df.gender, df.preference, margins=True)"
      ],
      "execution_count": 8,
      "outputs": [
        {
          "output_type": "execute_result",
          "data": {
            "text/html": [
              "<div>\n",
              "<style scoped>\n",
              "    .dataframe tbody tr th:only-of-type {\n",
              "        vertical-align: middle;\n",
              "    }\n",
              "\n",
              "    .dataframe tbody tr th {\n",
              "        vertical-align: top;\n",
              "    }\n",
              "\n",
              "    .dataframe thead th {\n",
              "        text-align: right;\n",
              "    }\n",
              "</style>\n",
              "<table border=\"1\" class=\"dataframe\">\n",
              "  <thead>\n",
              "    <tr style=\"text-align: right;\">\n",
              "      <th>preference</th>\n",
              "      <th>inside</th>\n",
              "      <th>outside</th>\n",
              "      <th>All</th>\n",
              "    </tr>\n",
              "    <tr>\n",
              "      <th>gender</th>\n",
              "      <th></th>\n",
              "      <th></th>\n",
              "      <th></th>\n",
              "    </tr>\n",
              "  </thead>\n",
              "  <tbody>\n",
              "    <tr>\n",
              "      <th>female</th>\n",
              "      <td>1</td>\n",
              "      <td>2</td>\n",
              "      <td>3</td>\n",
              "    </tr>\n",
              "    <tr>\n",
              "      <th>male</th>\n",
              "      <td>2</td>\n",
              "      <td>1</td>\n",
              "      <td>3</td>\n",
              "    </tr>\n",
              "    <tr>\n",
              "      <th>All</th>\n",
              "      <td>3</td>\n",
              "      <td>3</td>\n",
              "      <td>6</td>\n",
              "    </tr>\n",
              "  </tbody>\n",
              "</table>\n",
              "</div>"
            ],
            "text/plain": [
              "preference  inside  outside  All\n",
              "gender                          \n",
              "female           1        2    3\n",
              "male             2        1    3\n",
              "All              3        3    6"
            ]
          },
          "metadata": {
            "tags": []
          },
          "execution_count": 8
        }
      ]
    },
    {
      "metadata": {
        "id": "f2NO3_dADog3",
        "colab_type": "code",
        "colab": {
          "base_uri": "https://localhost:8080/",
          "height": 204
        },
        "outputId": "bd9cad5d-be7f-40fb-b220-f70de47df6c5"
      },
      "cell_type": "code",
      "source": [
        "df = df.replace('male', 0)\n",
        "df = df.replace('female', 1)\n",
        "df = df.replace('outside', 0)\n",
        "df = df.replace('inside', 1)\n",
        "df.head()"
      ],
      "execution_count": 9,
      "outputs": [
        {
          "output_type": "execute_result",
          "data": {
            "text/html": [
              "<div>\n",
              "<style scoped>\n",
              "    .dataframe tbody tr th:only-of-type {\n",
              "        vertical-align: middle;\n",
              "    }\n",
              "\n",
              "    .dataframe tbody tr th {\n",
              "        vertical-align: top;\n",
              "    }\n",
              "\n",
              "    .dataframe thead th {\n",
              "        text-align: right;\n",
              "    }\n",
              "</style>\n",
              "<table border=\"1\" class=\"dataframe\">\n",
              "  <thead>\n",
              "    <tr style=\"text-align: right;\">\n",
              "      <th></th>\n",
              "      <th>gender</th>\n",
              "      <th>preference</th>\n",
              "    </tr>\n",
              "  </thead>\n",
              "  <tbody>\n",
              "    <tr>\n",
              "      <th>0</th>\n",
              "      <td>0</td>\n",
              "      <td>0</td>\n",
              "    </tr>\n",
              "    <tr>\n",
              "      <th>1</th>\n",
              "      <td>0</td>\n",
              "      <td>1</td>\n",
              "    </tr>\n",
              "    <tr>\n",
              "      <th>2</th>\n",
              "      <td>0</td>\n",
              "      <td>1</td>\n",
              "    </tr>\n",
              "    <tr>\n",
              "      <th>3</th>\n",
              "      <td>1</td>\n",
              "      <td>1</td>\n",
              "    </tr>\n",
              "    <tr>\n",
              "      <th>4</th>\n",
              "      <td>1</td>\n",
              "      <td>0</td>\n",
              "    </tr>\n",
              "  </tbody>\n",
              "</table>\n",
              "</div>"
            ],
            "text/plain": [
              "   gender  preference\n",
              "0       0           0\n",
              "1       0           1\n",
              "2       0           1\n",
              "3       1           1\n",
              "4       1           0"
            ]
          },
          "metadata": {
            "tags": []
          },
          "execution_count": 9
        }
      ]
    },
    {
      "metadata": {
        "id": "03UwEbfQDob7",
        "colab_type": "code",
        "colab": {
          "base_uri": "https://localhost:8080/",
          "height": 170
        },
        "outputId": "cdd9f975-4a34-4cd0-b6a1-74eae28bd059"
      },
      "cell_type": "code",
      "source": [
        "pd.crosstab(df.gender, df.preference, margins=True)\n",
        "expected =  [[1.5, 1.5],\n",
        "            [1.5, 1.5]]\n",
        "\n",
        "pd.crosstab(df.gender, df.preference, margins=True, normalize='all')\n",
        "\n",
        "observed = np.array([[.5, .5],[.5, .5]])\n",
        "\n",
        "deviation = numerator = observed - expected\n",
        "\n",
        "print(numerator)\n",
        "\n",
        "deviation_squared = deviation**2\n",
        "print('deviation squared:  ', deviation_squared, '\\n')\n",
        "\n",
        "fraction = (deviation_squared / expected)\n",
        "\n",
        "print('\\nfraction:  ', fraction, '\\n')"
      ],
      "execution_count": 10,
      "outputs": [
        {
          "output_type": "stream",
          "text": [
            "[[-1. -1.]\n",
            " [-1. -1.]]\n",
            "deviation squared:   [[1. 1.]\n",
            " [1. 1.]] \n",
            "\n",
            "\n",
            "fraction:   [[0.66666667 0.66666667]\n",
            " [0.66666667 0.66666667]] \n",
            "\n"
          ],
          "name": "stdout"
        }
      ]
    },
    {
      "metadata": {
        "id": "RJG1Qit9KTFf",
        "colab_type": "code",
        "colab": {
          "base_uri": "https://localhost:8080/",
          "height": 34
        },
        "outputId": "9a5c6c85-603a-4e80-deed-90e9ad990d53"
      },
      "cell_type": "code",
      "source": [
        "expected_values = [[1.5, 1.5], [1.5, 1.5]]\n",
        "deviation = (((.5)**2) / 1.5) * 4  # 0.5^2 deviation per cell, scaled and added\n",
        "print(deviation)"
      ],
      "execution_count": 11,
      "outputs": [
        {
          "output_type": "stream",
          "text": [
            "0.6666666666666666\n"
          ],
          "name": "stdout"
        }
      ]
    },
    {
      "metadata": {
        "id": "KDpWvXFHDoY9",
        "colab_type": "code",
        "colab": {
          "base_uri": "https://localhost:8080/",
          "height": 34
        },
        "outputId": "7c4cbe00-42f1-477e-d15e-74d2430a19f5"
      },
      "cell_type": "code",
      "source": [
        "chi_data =  [[1,2],\n",
        "            [2,1]]\n",
        "\n",
        "from scipy.stats import chisquare # one way chi square\n",
        "\n",
        "chisquare(chi_data, axis=None)"
      ],
      "execution_count": 12,
      "outputs": [
        {
          "output_type": "execute_result",
          "data": {
            "text/plain": [
              "Power_divergenceResult(statistic=0.6666666666666666, pvalue=0.8810148425137847)"
            ]
          },
          "metadata": {
            "tags": []
          },
          "execution_count": 12
        }
      ]
    },
    {
      "metadata": {
        "id": "v3mFGsu2DoVq",
        "colab_type": "code",
        "colab": {
          "base_uri": "https://localhost:8080/",
          "height": 187
        },
        "outputId": "19905a59-567a-43e2-e345-a56c6ff16093"
      },
      "cell_type": "code",
      "source": [
        "from scipy.stats import chi2_contingency\n",
        "\n",
        "chi2stat, pvalue, dof, observed = chi2_contingency(table)\n",
        "\n",
        "print('chi2 stat:  ', chi2stat, '\\n')\n",
        "print('p-value:  ', pvalue, '\\n')\n",
        "print('degrees of freedom:  ', dof, '\\n')\n",
        "print('Contingency Table: \\n', observed, '\\n')"
      ],
      "execution_count": 13,
      "outputs": [
        {
          "output_type": "stream",
          "text": [
            "chi2 stat:   0.0 \n",
            "\n",
            "p-value:   1.0 \n",
            "\n",
            "degrees of freedom:   1 \n",
            "\n",
            "Contingency Table: \n",
            " [[1.5 1.5]\n",
            " [1.5 1.5]] \n",
            "\n"
          ],
          "name": "stdout"
        }
      ]
    },
    {
      "metadata": {
        "id": "W4ivaWoeDoSn",
        "colab_type": "code",
        "colab": {
          "base_uri": "https://localhost:8080/",
          "height": 34
        },
        "outputId": "faf0890c-3d68-4b9d-ccbe-2c311480dbba"
      },
      "cell_type": "code",
      "source": [
        "def lazy_chisquare(observed, expected):\n",
        "  chisquare = 0\n",
        "  for row_obs, row_exp in zip(observed, expected):\n",
        "    for obs, exp in zip(row_obs, row_exp):\n",
        "      chisquare += (obs - exp)**2 / exp\n",
        "  return chisquare\n",
        "\n",
        "chi_data = [[1, 2], [2, 1]]\n",
        "expected_values = [[1.5, 1.5], [1.5, 1.5]]\n",
        "chistat = lazy_chisquare(chi_data, expected_values)\n",
        "chistat"
      ],
      "execution_count": 14,
      "outputs": [
        {
          "output_type": "execute_result",
          "data": {
            "text/plain": [
              "0.6666666666666666"
            ]
          },
          "metadata": {
            "tags": []
          },
          "execution_count": 14
        }
      ]
    },
    {
      "metadata": {
        "id": "uJUMRGoYMAWn",
        "colab_type": "text"
      },
      "cell_type": "markdown",
      "source": [
        "# Confidence Intervals"
      ]
    },
    {
      "metadata": {
        "id": "7Ch2OQEnDn7S",
        "colab_type": "code",
        "colab": {
          "base_uri": "https://localhost:8080/",
          "height": 68
        },
        "outputId": "9bd7fcdd-a9a7-4156-c201-7ebeffbd3574"
      },
      "cell_type": "code",
      "source": [
        "#confidence_interval = [lower_bound, upper_bound]\n",
        "\n",
        "coinflips = np.random.binomial(n=1, p=.7, size=100)\n",
        "print(coinflips)"
      ],
      "execution_count": 15,
      "outputs": [
        {
          "output_type": "stream",
          "text": [
            "[1 0 0 1 1 1 1 1 1 1 1 1 1 1 1 1 1 1 1 1 1 1 1 1 1 1 1 1 1 0 1 0 1 0 1 1 1\n",
            " 0 1 0 1 1 1 1 0 1 1 1 1 1 1 1 1 1 0 0 0 1 1 0 1 0 0 1 0 0 1 1 0 1 0 1 1 1\n",
            " 1 1 1 0 0 1 1 1 1 1 0 1 1 1 0 1 1 1 0 1 1 1 1 1 1 1]\n"
          ],
          "name": "stdout"
        }
      ]
    },
    {
      "metadata": {
        "id": "UI0SsTJCMD57",
        "colab_type": "code",
        "colab": {
          "base_uri": "https://localhost:8080/",
          "height": 34
        },
        "outputId": "3c4bc48e-ef6f-4172-8048-1a84735e3179"
      },
      "cell_type": "code",
      "source": [
        "import scipy.stats as stats\n",
        "\n",
        "stats.ttest_1samp(coinflips, 0.5)"
      ],
      "execution_count": 16,
      "outputs": [
        {
          "output_type": "execute_result",
          "data": {
            "text/plain": [
              "Ttest_1sampResult(statistic=6.383694290536714, pvalue=5.617298020139168e-09)"
            ]
          },
          "metadata": {
            "tags": []
          },
          "execution_count": 16
        }
      ]
    },
    {
      "metadata": {
        "id": "sjSj3zTtMD26",
        "colab_type": "code",
        "colab": {}
      },
      "cell_type": "code",
      "source": [
        "def confidence_interval(data, confidence=.95):\n",
        "  \n",
        "  data = np.array(data)\n",
        "  mean = np.mean(data)\n",
        "  n = len(data)\n",
        "  stderr = stats.sem(data)\n",
        "  interval = stderr * stats.t.ppf((1 + confidence) / 2., n-1)\n",
        "  return(mean, mean - interval, mean + interval)\n",
        "\n",
        "def report_confidence_interval(confidence_interval):\n",
        "  s = \"our mean lies in the interval [{:.2}, {:.2}]\".format(\n",
        "         confidence_interval[1], confidence_interval[2])\n",
        "  return s\n"
      ],
      "execution_count": 0,
      "outputs": []
    },
    {
      "metadata": {
        "id": "D0xET8tTMD0H",
        "colab_type": "code",
        "colab": {
          "base_uri": "https://localhost:8080/",
          "height": 34
        },
        "outputId": "22d34062-7da6-481b-de15-0e72336e9b65"
      },
      "cell_type": "code",
      "source": [
        "coinflip_interval = confidence_interval(coinflips)\n",
        "coinflip_interval"
      ],
      "execution_count": 18,
      "outputs": [
        {
          "output_type": "execute_result",
          "data": {
            "text/plain": [
              "(0.77, 0.6860770311790257, 0.8539229688209743)"
            ]
          },
          "metadata": {
            "tags": []
          },
          "execution_count": 18
        }
      ]
    },
    {
      "metadata": {
        "id": "bV8nTjNnMDxB",
        "colab_type": "code",
        "colab": {}
      },
      "cell_type": "code",
      "source": [
        ""
      ],
      "execution_count": 0,
      "outputs": []
    },
    {
      "metadata": {
        "id": "RDeqLEmZMDt7",
        "colab_type": "code",
        "colab": {}
      },
      "cell_type": "code",
      "source": [
        ""
      ],
      "execution_count": 0,
      "outputs": []
    },
    {
      "metadata": {
        "id": "qsnSCdvoMDqa",
        "colab_type": "code",
        "colab": {}
      },
      "cell_type": "code",
      "source": [
        ""
      ],
      "execution_count": 0,
      "outputs": []
    },
    {
      "metadata": {
        "id": "mlSQEWzoMDn0",
        "colab_type": "code",
        "colab": {}
      },
      "cell_type": "code",
      "source": [
        ""
      ],
      "execution_count": 0,
      "outputs": []
    },
    {
      "metadata": {
        "id": "11OzdxWTM7UR",
        "colab_type": "text"
      },
      "cell_type": "markdown",
      "source": [
        "## Assignment - Build a confidence interval\n",
        "\n",
        "A confidence interval refers to a neighborhood around some point estimate, the size of which is determined by the desired p-value. For instance, we might say that 52% of Americans prefer tacos to burritos, with a 95% confidence interval of +/- 5%.\n",
        "\n",
        "52% (0.52) is the point estimate, and +/- 5% (the interval $[0.47, 0.57]$) is the confidence interval. \"95% confidence\" means a p-value $\\leq 1 - 0.95 = 0.05$.\n",
        "\n",
        "In this case, the confidence interval includes $0.5$ - which is the natural null hypothesis (that half of Americans prefer tacos and half burritos, thus there is no clear favorite). So in this case, we could use the confidence interval to report that we've failed to reject the null hypothesis.\n",
        "\n",
        "But providing the full analysis with a confidence interval, including a graphical representation of it, can be a helpful and powerful way to tell your story. Done well, it is also more intuitive to a layperson than simply saying \"fail to reject the null hypothesis\" - it shows that in fact the data does *not* give a single clear result (the point estimate) but a whole range of possibilities.\n",
        "\n",
        "How is a confidence interval built, and how should it be interpreted? It does *not* mean that 95% of the data lies in that interval - instead, the frequentist interpretation is \"if we were to repeat this experiment 100 times, we would expect the average result to lie in this interval ~95 times.\"\n",
        "\n",
        "For a 95% confidence interval and a normal(-ish) distribution, you can simply remember that +/-2 standard deviations contains 95% of the probability mass, and so the 95% confidence interval based on a given sample is centered at the mean (point estimate) and has a range of +/- 2 (or technically 1.96) standard deviations.\n",
        "\n",
        "Different distributions/assumptions (90% confidence, 99% confidence) will require different math, but the overall process and interpretation (with a frequentist approach) will be the same.\n",
        "\n",
        "Your assignment - using the data from the prior module ([congressional voting records](https://archive.ics.uci.edu/ml/datasets/Congressional+Voting+Records)):\n",
        "\n",
        "1. Generate and numerically represent a confidence interval\n",
        "2. Graphically (with a plot) represent the confidence interval\n",
        "3. Interpret the confidence interval - what does it tell you about the data and its distribution?\n",
        "\n",
        "Stretch goals:\n",
        "\n",
        "1. Write a summary of your findings, mixing prose and math/code/results. *Note* - yes, this is by definition a political topic. It is challenging but important to keep your writing voice *neutral* and stick to the facts of the data. Data science often involves considering controversial issues, so it's important to be sensitive about them (especially if you want to publish).\n",
        "2. Apply the techniques you learned today to your project data or other data of your choice, and write/discuss your findings here.\n",
        "3. Refactor your code so it is elegant, readable, and can be easily run for all issues."
      ]
    },
    {
      "metadata": {
        "id": "nyJ3ySr7R2k9",
        "colab_type": "text"
      },
      "cell_type": "markdown",
      "source": [
        "## Resources\n",
        "\n",
        "- [Interactive visualize the Chi-Squared test](https://homepage.divms.uiowa.edu/~mbognar/applets/chisq.html)\n",
        "- [Calculation of Chi-Squared test statistic](https://en.wikipedia.org/wiki/Pearson%27s_chi-squared_test)\n",
        "- [Visualization of a confidence interval generated by R code](https://commons.wikimedia.org/wiki/File:Confidence-interval.svg)\n",
        "- [Expected value of a squared standard normal](https://math.stackexchange.com/questions/264061/expected-value-calculation-for-squared-normal-distribution) (it's 1 - which is why the expected value of a Chi-Squared with $n$ degrees of freedom is $n$, as it's the sum of $n$ squared standard normals)"
      ]
    },
    {
      "metadata": {
        "id": "jNDaew_MD_WD",
        "colab_type": "code",
        "colab": {
          "base_uri": "https://localhost:8080/",
          "height": 34
        },
        "outputId": "77964527-f608-4506-c402-57c82f478ba0"
      },
      "cell_type": "code",
      "source": [
        "# TODO - your code!\n",
        "\n",
        "votes_url = 'https://archive.ics.uci.edu/ml/machine-learning-databases/voting-records/house-votes-84.data'\n",
        "votes = pd.read_csv(votes_url, header=None, names=['party', \n",
        "                                                   'infant_bill', \n",
        "                                                   'water_project', \n",
        "                                                   'budget', \n",
        "                                                   'physician_bill', \n",
        "                                                   'aid_elsalvador',\n",
        "                                                   'church_school',\n",
        "                                                   'anti_satellite',\n",
        "                                                   'contra_aid',\n",
        "                                                   'mx_missile',\n",
        "                                                   'immigration',\n",
        "                                                   'synfuels',\n",
        "                                                   'edu_spending',\n",
        "                                                   'superfund_litigation',\n",
        "                                                   'crime',\n",
        "                                                   'duty_free',\n",
        "                                                   's_africa_export'])\n",
        "\n",
        "votes.shape"
      ],
      "execution_count": 21,
      "outputs": [
        {
          "output_type": "execute_result",
          "data": {
            "text/plain": [
              "(435, 17)"
            ]
          },
          "metadata": {
            "tags": []
          },
          "execution_count": 21
        }
      ]
    },
    {
      "metadata": {
        "id": "CNHkNNcmEA25",
        "colab_type": "code",
        "colab": {
          "base_uri": "https://localhost:8080/",
          "height": 193
        },
        "outputId": "6a8cc038-c78d-4bb7-9b97-c0e1af802c2d"
      },
      "cell_type": "code",
      "source": [
        "votes.describe()"
      ],
      "execution_count": 22,
      "outputs": [
        {
          "output_type": "execute_result",
          "data": {
            "text/html": [
              "<div>\n",
              "<style scoped>\n",
              "    .dataframe tbody tr th:only-of-type {\n",
              "        vertical-align: middle;\n",
              "    }\n",
              "\n",
              "    .dataframe tbody tr th {\n",
              "        vertical-align: top;\n",
              "    }\n",
              "\n",
              "    .dataframe thead th {\n",
              "        text-align: right;\n",
              "    }\n",
              "</style>\n",
              "<table border=\"1\" class=\"dataframe\">\n",
              "  <thead>\n",
              "    <tr style=\"text-align: right;\">\n",
              "      <th></th>\n",
              "      <th>party</th>\n",
              "      <th>infant_bill</th>\n",
              "      <th>water_project</th>\n",
              "      <th>budget</th>\n",
              "      <th>physician_bill</th>\n",
              "      <th>aid_elsalvador</th>\n",
              "      <th>church_school</th>\n",
              "      <th>anti_satellite</th>\n",
              "      <th>contra_aid</th>\n",
              "      <th>mx_missile</th>\n",
              "      <th>immigration</th>\n",
              "      <th>synfuels</th>\n",
              "      <th>edu_spending</th>\n",
              "      <th>superfund_litigation</th>\n",
              "      <th>crime</th>\n",
              "      <th>duty_free</th>\n",
              "      <th>s_africa_export</th>\n",
              "    </tr>\n",
              "  </thead>\n",
              "  <tbody>\n",
              "    <tr>\n",
              "      <th>count</th>\n",
              "      <td>435</td>\n",
              "      <td>435</td>\n",
              "      <td>435</td>\n",
              "      <td>435</td>\n",
              "      <td>435</td>\n",
              "      <td>435</td>\n",
              "      <td>435</td>\n",
              "      <td>435</td>\n",
              "      <td>435</td>\n",
              "      <td>435</td>\n",
              "      <td>435</td>\n",
              "      <td>435</td>\n",
              "      <td>435</td>\n",
              "      <td>435</td>\n",
              "      <td>435</td>\n",
              "      <td>435</td>\n",
              "      <td>435</td>\n",
              "    </tr>\n",
              "    <tr>\n",
              "      <th>unique</th>\n",
              "      <td>2</td>\n",
              "      <td>3</td>\n",
              "      <td>3</td>\n",
              "      <td>3</td>\n",
              "      <td>3</td>\n",
              "      <td>3</td>\n",
              "      <td>3</td>\n",
              "      <td>3</td>\n",
              "      <td>3</td>\n",
              "      <td>3</td>\n",
              "      <td>3</td>\n",
              "      <td>3</td>\n",
              "      <td>3</td>\n",
              "      <td>3</td>\n",
              "      <td>3</td>\n",
              "      <td>3</td>\n",
              "      <td>3</td>\n",
              "    </tr>\n",
              "    <tr>\n",
              "      <th>top</th>\n",
              "      <td>democrat</td>\n",
              "      <td>n</td>\n",
              "      <td>y</td>\n",
              "      <td>y</td>\n",
              "      <td>n</td>\n",
              "      <td>y</td>\n",
              "      <td>y</td>\n",
              "      <td>y</td>\n",
              "      <td>y</td>\n",
              "      <td>y</td>\n",
              "      <td>y</td>\n",
              "      <td>n</td>\n",
              "      <td>n</td>\n",
              "      <td>y</td>\n",
              "      <td>y</td>\n",
              "      <td>n</td>\n",
              "      <td>y</td>\n",
              "    </tr>\n",
              "    <tr>\n",
              "      <th>freq</th>\n",
              "      <td>267</td>\n",
              "      <td>236</td>\n",
              "      <td>195</td>\n",
              "      <td>253</td>\n",
              "      <td>247</td>\n",
              "      <td>212</td>\n",
              "      <td>272</td>\n",
              "      <td>239</td>\n",
              "      <td>242</td>\n",
              "      <td>207</td>\n",
              "      <td>216</td>\n",
              "      <td>264</td>\n",
              "      <td>233</td>\n",
              "      <td>209</td>\n",
              "      <td>248</td>\n",
              "      <td>233</td>\n",
              "      <td>269</td>\n",
              "    </tr>\n",
              "  </tbody>\n",
              "</table>\n",
              "</div>"
            ],
            "text/plain": [
              "           party infant_bill water_project budget physician_bill  \\\n",
              "count        435         435           435    435            435   \n",
              "unique         2           3             3      3              3   \n",
              "top     democrat           n             y      y              n   \n",
              "freq         267         236           195    253            247   \n",
              "\n",
              "       aid_elsalvador church_school anti_satellite contra_aid mx_missile  \\\n",
              "count             435           435            435        435        435   \n",
              "unique              3             3              3          3          3   \n",
              "top                 y             y              y          y          y   \n",
              "freq              212           272            239        242        207   \n",
              "\n",
              "       immigration synfuels edu_spending superfund_litigation crime duty_free  \\\n",
              "count          435      435          435                  435   435       435   \n",
              "unique           3        3            3                    3     3         3   \n",
              "top              y        n            n                    y     y         n   \n",
              "freq           216      264          233                  209   248       233   \n",
              "\n",
              "       s_africa_export  \n",
              "count              435  \n",
              "unique               3  \n",
              "top                  y  \n",
              "freq               269  "
            ]
          },
          "metadata": {
            "tags": []
          },
          "execution_count": 22
        }
      ]
    },
    {
      "metadata": {
        "id": "hp74QRilEAoh",
        "colab_type": "code",
        "colab": {
          "base_uri": "https://localhost:8080/",
          "height": 68
        },
        "outputId": "99f77fed-3856-407d-d241-66fe6825c3e6"
      },
      "cell_type": "code",
      "source": [
        "votes['party'].value_counts()"
      ],
      "execution_count": 23,
      "outputs": [
        {
          "output_type": "execute_result",
          "data": {
            "text/plain": [
              "democrat      267\n",
              "republican    168\n",
              "Name: party, dtype: int64"
            ]
          },
          "metadata": {
            "tags": []
          },
          "execution_count": 23
        }
      ]
    },
    {
      "metadata": {
        "id": "MFeQpF9PEJdl",
        "colab_type": "code",
        "colab": {
          "base_uri": "https://localhost:8080/",
          "height": 323
        },
        "outputId": "29f7dd63-63b0-403f-fc7b-66c736ebade2"
      },
      "cell_type": "code",
      "source": [
        "votes_nan = pd.DataFrame()\n",
        "\n",
        "for i in votes:\n",
        "  votes_nan[i] = votes[i].replace('?', np.nan)\n",
        "print(votes_nan.isnull().sum())"
      ],
      "execution_count": 25,
      "outputs": [
        {
          "output_type": "stream",
          "text": [
            "party                     0\n",
            "infant_bill              12\n",
            "water_project            48\n",
            "budget                   11\n",
            "physician_bill           11\n",
            "aid_elsalvador           15\n",
            "church_school            11\n",
            "anti_satellite           14\n",
            "contra_aid               15\n",
            "mx_missile               22\n",
            "immigration               7\n",
            "synfuels                 21\n",
            "edu_spending             31\n",
            "superfund_litigation     25\n",
            "crime                    17\n",
            "duty_free                28\n",
            "s_africa_export         104\n",
            "dtype: int64\n"
          ],
          "name": "stdout"
        }
      ]
    },
    {
      "metadata": {
        "id": "7908JXkbEO7V",
        "colab_type": "code",
        "colab": {
          "base_uri": "https://localhost:8080/",
          "height": 34
        },
        "outputId": "1ad1d4d3-0ce1-41fe-b1c5-702b7d9f7753"
      },
      "cell_type": "code",
      "source": [
        "democrats = votes.loc[votes['party'] == 'democrat']\n",
        "republicans = votes.loc[votes['party'] == 'republican']\n",
        "\n",
        "democrats.shape, republicans.shape"
      ],
      "execution_count": 26,
      "outputs": [
        {
          "output_type": "execute_result",
          "data": {
            "text/plain": [
              "((267, 17), (168, 17))"
            ]
          },
          "metadata": {
            "tags": []
          },
          "execution_count": 26
        }
      ]
    },
    {
      "metadata": {
        "id": "GnPOMe2CEY1F",
        "colab_type": "code",
        "colab": {}
      },
      "cell_type": "code",
      "source": [
        "counts_party = pd.DataFrame({'party vote':['democrats yes', 'democrats no', 'republicans yes', 'republicans no']})\n",
        "\n",
        "dyes, dno, ryes, rno = int(), int(), int(), int()\n",
        "\n",
        "for bill in votes_nan.drop(['party'], axis=1):\n",
        "  for ind in votes_nan[bill].index:\n",
        "\n",
        "    vote = votes_nan[bill].loc[ind]\n",
        "    party = votes_nan['party'].loc[ind]\n",
        "\n",
        "    if party == 'democrat':\n",
        "      if vote == 'y':\n",
        "        dyes += 1\n",
        "      elif vote == 'n':\n",
        "        dno += 1\n",
        "\n",
        "    elif party == 'republican':\n",
        "      if vote == 'y':\n",
        "        ryes += 1\n",
        "      elif vote == 'n':\n",
        "        rno += 1\n",
        "  \n",
        "  counts_party[bill] = [dyes, dno, ryes, rno]\n",
        "  \n",
        "counts_party.set_index('party vote')\n",
        "    \n",
        "#democrats = votes.loc[votes['party'] == 'democrat']\n",
        "#republicans = votes.loc[votes['party'] == 'republican']"
      ],
      "execution_count": 0,
      "outputs": []
    },
    {
      "metadata": {
        "id": "nmqdNc7vNUzF",
        "colab_type": "code",
        "colab": {
          "base_uri": "https://localhost:8080/",
          "height": 278
        },
        "outputId": "85d25150-fd40-45c1-f7aa-ece1618f9434"
      },
      "cell_type": "code",
      "source": [
        "counts_party"
      ],
      "execution_count": 48,
      "outputs": [
        {
          "output_type": "execute_result",
          "data": {
            "text/html": [
              "<div>\n",
              "<style scoped>\n",
              "    .dataframe tbody tr th:only-of-type {\n",
              "        vertical-align: middle;\n",
              "    }\n",
              "\n",
              "    .dataframe tbody tr th {\n",
              "        vertical-align: top;\n",
              "    }\n",
              "\n",
              "    .dataframe thead th {\n",
              "        text-align: right;\n",
              "    }\n",
              "</style>\n",
              "<table border=\"1\" class=\"dataframe\">\n",
              "  <thead>\n",
              "    <tr style=\"text-align: right;\">\n",
              "      <th></th>\n",
              "      <th>party vote</th>\n",
              "      <th>infant_bill</th>\n",
              "      <th>water_project</th>\n",
              "      <th>budget</th>\n",
              "      <th>physician_bill</th>\n",
              "      <th>aid_elsalvador</th>\n",
              "      <th>church_school</th>\n",
              "      <th>anti_satellite</th>\n",
              "      <th>contra_aid</th>\n",
              "      <th>mx_missile</th>\n",
              "      <th>immigration</th>\n",
              "      <th>synfuels</th>\n",
              "      <th>edu_spending</th>\n",
              "      <th>superfund_litigation</th>\n",
              "      <th>crime</th>\n",
              "      <th>duty_free</th>\n",
              "      <th>s_africa_export</th>\n",
              "    </tr>\n",
              "  </thead>\n",
              "  <tbody>\n",
              "    <tr>\n",
              "      <th>0</th>\n",
              "      <td>democrats yes</td>\n",
              "      <td>156</td>\n",
              "      <td>276</td>\n",
              "      <td>507</td>\n",
              "      <td>521</td>\n",
              "      <td>576</td>\n",
              "      <td>699</td>\n",
              "      <td>899</td>\n",
              "      <td>1117</td>\n",
              "      <td>1305</td>\n",
              "      <td>1429</td>\n",
              "      <td>1558</td>\n",
              "      <td>1594</td>\n",
              "      <td>1667</td>\n",
              "      <td>1757</td>\n",
              "      <td>1917</td>\n",
              "      <td>2090</td>\n",
              "    </tr>\n",
              "    <tr>\n",
              "      <th>1</th>\n",
              "      <td>democrats no</td>\n",
              "      <td>102</td>\n",
              "      <td>221</td>\n",
              "      <td>250</td>\n",
              "      <td>495</td>\n",
              "      <td>695</td>\n",
              "      <td>830</td>\n",
              "      <td>889</td>\n",
              "      <td>934</td>\n",
              "      <td>994</td>\n",
              "      <td>1133</td>\n",
              "      <td>1259</td>\n",
              "      <td>1472</td>\n",
              "      <td>1651</td>\n",
              "      <td>1818</td>\n",
              "      <td>1909</td>\n",
              "      <td>1921</td>\n",
              "    </tr>\n",
              "    <tr>\n",
              "      <th>2</th>\n",
              "      <td>republicans yes</td>\n",
              "      <td>31</td>\n",
              "      <td>106</td>\n",
              "      <td>128</td>\n",
              "      <td>291</td>\n",
              "      <td>448</td>\n",
              "      <td>597</td>\n",
              "      <td>636</td>\n",
              "      <td>660</td>\n",
              "      <td>679</td>\n",
              "      <td>771</td>\n",
              "      <td>792</td>\n",
              "      <td>927</td>\n",
              "      <td>1063</td>\n",
              "      <td>1221</td>\n",
              "      <td>1235</td>\n",
              "      <td>1331</td>\n",
              "    </tr>\n",
              "    <tr>\n",
              "      <th>3</th>\n",
              "      <td>republicans no</td>\n",
              "      <td>134</td>\n",
              "      <td>207</td>\n",
              "      <td>349</td>\n",
              "      <td>351</td>\n",
              "      <td>359</td>\n",
              "      <td>376</td>\n",
              "      <td>499</td>\n",
              "      <td>632</td>\n",
              "      <td>778</td>\n",
              "      <td>851</td>\n",
              "      <td>989</td>\n",
              "      <td>1009</td>\n",
              "      <td>1031</td>\n",
              "      <td>1034</td>\n",
              "      <td>1176</td>\n",
              "      <td>1226</td>\n",
              "    </tr>\n",
              "  </tbody>\n",
              "</table>\n",
              "</div>"
            ],
            "text/plain": [
              "        party vote  infant_bill  water_project  budget  physician_bill  \\\n",
              "0    democrats yes          156            276     507             521   \n",
              "1     democrats no          102            221     250             495   \n",
              "2  republicans yes           31            106     128             291   \n",
              "3   republicans no          134            207     349             351   \n",
              "\n",
              "   aid_elsalvador  church_school  anti_satellite  contra_aid  mx_missile  \\\n",
              "0             576            699             899        1117        1305   \n",
              "1             695            830             889         934         994   \n",
              "2             448            597             636         660         679   \n",
              "3             359            376             499         632         778   \n",
              "\n",
              "   immigration  synfuels  edu_spending  superfund_litigation  crime  \\\n",
              "0         1429      1558          1594                  1667   1757   \n",
              "1         1133      1259          1472                  1651   1818   \n",
              "2          771       792           927                  1063   1221   \n",
              "3          851       989          1009                  1031   1034   \n",
              "\n",
              "   duty_free  s_africa_export  \n",
              "0       1917             2090  \n",
              "1       1909             1921  \n",
              "2       1235             1331  \n",
              "3       1176             1226  "
            ]
          },
          "metadata": {
            "tags": []
          },
          "execution_count": 48
        }
      ]
    },
    {
      "metadata": {
        "id": "T2djhvh2NLy0",
        "colab_type": "code",
        "colab": {}
      },
      "cell_type": "code",
      "source": [
        "counts_party.hist(figsize=(12,12));\n"
      ],
      "execution_count": 0,
      "outputs": []
    },
    {
      "metadata": {
        "id": "KD2BSsh8O-Q1",
        "colab_type": "code",
        "colab": {}
      },
      "cell_type": "code",
      "source": [
        "dem_enc = democrats.drop(['party'], axis=1).replace('?', np.nan).replace({'y':1,'n':0})\n",
        "rep_enc = republicans.drop(['party'], axis=1).replace('?', np.nan).replace({'y':1,'n':0})\n",
        "\n",
        "vote_enc = votes.drop(['party'], axis=1).replace('?', np.nan).replace({'y':1,'n':0})"
      ],
      "execution_count": 0,
      "outputs": []
    },
    {
      "metadata": {
        "id": "TioKEQSpPX3l",
        "colab_type": "code",
        "colab": {
          "base_uri": "https://localhost:8080/",
          "height": 306
        },
        "outputId": "d2ea40bb-72e1-438f-c301-19372cebb0fe"
      },
      "cell_type": "code",
      "source": [
        "dem_enc.isnull().sum()"
      ],
      "execution_count": 79,
      "outputs": [
        {
          "output_type": "execute_result",
          "data": {
            "text/plain": [
              "infant_bill              9\n",
              "water_project           28\n",
              "budget                   7\n",
              "physician_bill           8\n",
              "aid_elsalvador          12\n",
              "church_school            9\n",
              "anti_satellite           8\n",
              "contra_aid               4\n",
              "mx_missile              19\n",
              "immigration              4\n",
              "synfuels                12\n",
              "edu_spending            18\n",
              "superfund_litigation    15\n",
              "crime                   10\n",
              "duty_free               16\n",
              "s_africa_export         82\n",
              "dtype: int64"
            ]
          },
          "metadata": {
            "tags": []
          },
          "execution_count": 79
        }
      ]
    },
    {
      "metadata": {
        "id": "AhQacqPqNhLQ",
        "colab_type": "code",
        "colab": {}
      },
      "cell_type": "code",
      "source": [
        "dem_total, rep_total, dem_rep = pd.DataFrame(), pd.DataFrame(), pd.DataFrame()\n",
        "\n",
        "for bill in dem_enc:\n",
        "  res, prob = stats.ttest_ind(dem_enc[bill], vote_enc[bill], nan_policy='omit')\n",
        "  dem_total[bill] = [res,prob]\n",
        "\n",
        "for bill in rep_enc:\n",
        "  res, prob = stats.ttest_ind(vote_enc[bill], rep_enc[bill], nan_policy='omit')\n",
        "  rep_total[bill] = [res,prob]\n",
        "  \n",
        "for bill in rep_enc:\n",
        "  res, prob = stats.ttest_ind(dem_enc[bill], rep_enc[bill], nan_policy='omit', equal_var=False)\n",
        "  dem_rep[bill] = [res,prob]\n",
        "  \n"
      ],
      "execution_count": 0,
      "outputs": []
    },
    {
      "metadata": {
        "id": "To1P3RWWWIzI",
        "colab_type": "code",
        "colab": {
          "base_uri": "https://localhost:8080/",
          "height": 131
        },
        "outputId": "44236da3-8d10-4b71-b5fe-5bd1750acedc"
      },
      "cell_type": "code",
      "source": [
        "dem_total"
      ],
      "execution_count": 86,
      "outputs": [
        {
          "output_type": "execute_result",
          "data": {
            "text/html": [
              "<div>\n",
              "<style scoped>\n",
              "    .dataframe tbody tr th:only-of-type {\n",
              "        vertical-align: middle;\n",
              "    }\n",
              "\n",
              "    .dataframe tbody tr th {\n",
              "        vertical-align: top;\n",
              "    }\n",
              "\n",
              "    .dataframe thead th {\n",
              "        text-align: right;\n",
              "    }\n",
              "</style>\n",
              "<table border=\"1\" class=\"dataframe\">\n",
              "  <thead>\n",
              "    <tr style=\"text-align: right;\">\n",
              "      <th></th>\n",
              "      <th>infant_bill</th>\n",
              "      <th>water_project</th>\n",
              "      <th>budget</th>\n",
              "      <th>physician_bill</th>\n",
              "      <th>aid_elsalvador</th>\n",
              "      <th>church_school</th>\n",
              "      <th>anti_satellite</th>\n",
              "      <th>contra_aid</th>\n",
              "      <th>mx_missile</th>\n",
              "      <th>immigration</th>\n",
              "      <th>synfuels</th>\n",
              "      <th>edu_spending</th>\n",
              "      <th>superfund_litigation</th>\n",
              "      <th>crime</th>\n",
              "      <th>duty_free</th>\n",
              "      <th>s_africa_export</th>\n",
              "    </tr>\n",
              "  </thead>\n",
              "  <tbody>\n",
              "    <tr>\n",
              "      <th>0</th>\n",
              "      <td>4.162198</td>\n",
              "      <td>-0.043300</td>\n",
              "      <td>8.556534e+00</td>\n",
              "      <td>-1.114779e+01</td>\n",
              "      <td>-7.761465e+00</td>\n",
              "      <td>-4.276984</td>\n",
              "      <td>5.526319e+00</td>\n",
              "      <td>7.091408e+00</td>\n",
              "      <td>6.730152e+00</td>\n",
              "      <td>-0.846544</td>\n",
              "      <td>3.689174</td>\n",
              "      <td>-7.757992e+00</td>\n",
              "      <td>-5.685912e+00</td>\n",
              "      <td>-6.302896e+00</td>\n",
              "      <td>5.336369e+00</td>\n",
              "      <td>3.852854</td>\n",
              "    </tr>\n",
              "    <tr>\n",
              "      <th>1</th>\n",
              "      <td>0.000036</td>\n",
              "      <td>0.965476</td>\n",
              "      <td>7.663688e-17</td>\n",
              "      <td>1.260374e-26</td>\n",
              "      <td>3.127602e-14</td>\n",
              "      <td>0.000022</td>\n",
              "      <td>4.666995e-08</td>\n",
              "      <td>3.332421e-12</td>\n",
              "      <td>3.687337e-11</td>\n",
              "      <td>0.397543</td>\n",
              "      <td>0.000243</td>\n",
              "      <td>3.344254e-14</td>\n",
              "      <td>1.954831e-08</td>\n",
              "      <td>5.283423e-10</td>\n",
              "      <td>1.307617e-07</td>\n",
              "      <td>0.000132</td>\n",
              "    </tr>\n",
              "  </tbody>\n",
              "</table>\n",
              "</div>"
            ],
            "text/plain": [
              "   infant_bill  water_project        budget  physician_bill  aid_elsalvador  \\\n",
              "0     4.162198      -0.043300  8.556534e+00   -1.114779e+01   -7.761465e+00   \n",
              "1     0.000036       0.965476  7.663688e-17    1.260374e-26    3.127602e-14   \n",
              "\n",
              "   church_school  anti_satellite    contra_aid    mx_missile  immigration  \\\n",
              "0      -4.276984    5.526319e+00  7.091408e+00  6.730152e+00    -0.846544   \n",
              "1       0.000022    4.666995e-08  3.332421e-12  3.687337e-11     0.397543   \n",
              "\n",
              "   synfuels  edu_spending  superfund_litigation         crime     duty_free  \\\n",
              "0  3.689174 -7.757992e+00         -5.685912e+00 -6.302896e+00  5.336369e+00   \n",
              "1  0.000243  3.344254e-14          1.954831e-08  5.283423e-10  1.307617e-07   \n",
              "\n",
              "   s_africa_export  \n",
              "0         3.852854  \n",
              "1         0.000132  "
            ]
          },
          "metadata": {
            "tags": []
          },
          "execution_count": 86
        }
      ]
    },
    {
      "metadata": {
        "id": "JddpVc5WXyJX",
        "colab_type": "code",
        "colab": {
          "base_uri": "https://localhost:8080/",
          "height": 131
        },
        "outputId": "8f9776dc-1ee8-4c20-d9fb-6e01d6bdd4ac"
      },
      "cell_type": "code",
      "source": [
        "rep_total"
      ],
      "execution_count": 87,
      "outputs": [
        {
          "output_type": "execute_result",
          "data": {
            "text/html": [
              "<div>\n",
              "<style scoped>\n",
              "    .dataframe tbody tr th:only-of-type {\n",
              "        vertical-align: middle;\n",
              "    }\n",
              "\n",
              "    .dataframe tbody tr th {\n",
              "        vertical-align: top;\n",
              "    }\n",
              "\n",
              "    .dataframe thead th {\n",
              "        text-align: right;\n",
              "    }\n",
              "</style>\n",
              "<table border=\"1\" class=\"dataframe\">\n",
              "  <thead>\n",
              "    <tr style=\"text-align: right;\">\n",
              "      <th></th>\n",
              "      <th>infant_bill</th>\n",
              "      <th>water_project</th>\n",
              "      <th>budget</th>\n",
              "      <th>physician_bill</th>\n",
              "      <th>aid_elsalvador</th>\n",
              "      <th>church_school</th>\n",
              "      <th>anti_satellite</th>\n",
              "      <th>contra_aid</th>\n",
              "      <th>mx_missile</th>\n",
              "      <th>immigration</th>\n",
              "      <th>synfuels</th>\n",
              "      <th>edu_spending</th>\n",
              "      <th>superfund_litigation</th>\n",
              "      <th>crime</th>\n",
              "      <th>duty_free</th>\n",
              "      <th>s_africa_export</th>\n",
              "    </tr>\n",
              "  </thead>\n",
              "  <tbody>\n",
              "    <tr>\n",
              "      <th>0</th>\n",
              "      <td>5.891209e+00</td>\n",
              "      <td>-0.059506</td>\n",
              "      <td>1.106577e+01</td>\n",
              "      <td>-1.469305e+01</td>\n",
              "      <td>-1.106411e+01</td>\n",
              "      <td>-6.386796e+00</td>\n",
              "      <td>7.393094e+00</td>\n",
              "      <td>9.788809e+00</td>\n",
              "      <td>9.181555e+00</td>\n",
              "      <td>-1.154858</td>\n",
              "      <td>5.525932e+00</td>\n",
              "      <td>-1.038151e+01</td>\n",
              "      <td>-8.093952e+00</td>\n",
              "      <td>-9.863802e+00</td>\n",
              "      <td>8.015250e+00</td>\n",
              "      <td>3.730057</td>\n",
              "    </tr>\n",
              "    <tr>\n",
              "      <th>1</th>\n",
              "      <td>6.467122e-09</td>\n",
              "      <td>0.952572</td>\n",
              "      <td>5.606429e-26</td>\n",
              "      <td>7.587344e-42</td>\n",
              "      <td>5.842524e-26</td>\n",
              "      <td>3.443896e-10</td>\n",
              "      <td>5.030722e-13</td>\n",
              "      <td>4.957020e-21</td>\n",
              "      <td>7.577133e-19</td>\n",
              "      <td>0.248615</td>\n",
              "      <td>4.987868e-08</td>\n",
              "      <td>3.354232e-23</td>\n",
              "      <td>3.548465e-15</td>\n",
              "      <td>2.589970e-21</td>\n",
              "      <td>6.412413e-15</td>\n",
              "      <td>0.000215</td>\n",
              "    </tr>\n",
              "  </tbody>\n",
              "</table>\n",
              "</div>"
            ],
            "text/plain": [
              "    infant_bill  water_project        budget  physician_bill  aid_elsalvador  \\\n",
              "0  5.891209e+00      -0.059506  1.106577e+01   -1.469305e+01   -1.106411e+01   \n",
              "1  6.467122e-09       0.952572  5.606429e-26    7.587344e-42    5.842524e-26   \n",
              "\n",
              "   church_school  anti_satellite    contra_aid    mx_missile  immigration  \\\n",
              "0  -6.386796e+00    7.393094e+00  9.788809e+00  9.181555e+00    -1.154858   \n",
              "1   3.443896e-10    5.030722e-13  4.957020e-21  7.577133e-19     0.248615   \n",
              "\n",
              "       synfuels  edu_spending  superfund_litigation         crime  \\\n",
              "0  5.525932e+00 -1.038151e+01         -8.093952e+00 -9.863802e+00   \n",
              "1  4.987868e-08  3.354232e-23          3.548465e-15  2.589970e-21   \n",
              "\n",
              "      duty_free  s_africa_export  \n",
              "0  8.015250e+00         3.730057  \n",
              "1  6.412413e-15         0.000215  "
            ]
          },
          "metadata": {
            "tags": []
          },
          "execution_count": 87
        }
      ]
    },
    {
      "metadata": {
        "id": "PCfbHUSdX0b7",
        "colab_type": "code",
        "colab": {
          "base_uri": "https://localhost:8080/",
          "height": 131
        },
        "outputId": "0883ca17-4dab-4148-d72c-281cd451bd3f"
      },
      "cell_type": "code",
      "source": [
        "dem_rep"
      ],
      "execution_count": 88,
      "outputs": [
        {
          "output_type": "execute_result",
          "data": {
            "text/html": [
              "<div>\n",
              "<style scoped>\n",
              "    .dataframe tbody tr th:only-of-type {\n",
              "        vertical-align: middle;\n",
              "    }\n",
              "\n",
              "    .dataframe tbody tr th {\n",
              "        vertical-align: top;\n",
              "    }\n",
              "\n",
              "    .dataframe thead th {\n",
              "        text-align: right;\n",
              "    }\n",
              "</style>\n",
              "<table border=\"1\" class=\"dataframe\">\n",
              "  <thead>\n",
              "    <tr style=\"text-align: right;\">\n",
              "      <th></th>\n",
              "      <th>infant_bill</th>\n",
              "      <th>water_project</th>\n",
              "      <th>budget</th>\n",
              "      <th>physician_bill</th>\n",
              "      <th>aid_elsalvador</th>\n",
              "      <th>church_school</th>\n",
              "      <th>anti_satellite</th>\n",
              "      <th>contra_aid</th>\n",
              "      <th>mx_missile</th>\n",
              "      <th>immigration</th>\n",
              "      <th>synfuels</th>\n",
              "      <th>edu_spending</th>\n",
              "      <th>superfund_litigation</th>\n",
              "      <th>crime</th>\n",
              "      <th>duty_free</th>\n",
              "      <th>s_africa_export</th>\n",
              "    </tr>\n",
              "  </thead>\n",
              "  <tbody>\n",
              "    <tr>\n",
              "      <th>0</th>\n",
              "      <td>9.662337e+00</td>\n",
              "      <td>-0.088940</td>\n",
              "      <td>2.279325e+01</td>\n",
              "      <td>-5.670481e+01</td>\n",
              "      <td>-2.390729e+01</td>\n",
              "      <td>-1.076702e+01</td>\n",
              "      <td>1.246749e+01</td>\n",
              "      <td>1.825486e+01</td>\n",
              "      <td>1.740905e+01</td>\n",
              "      <td>-1.737470</td>\n",
              "      <td>9.040574e+00</td>\n",
              "      <td>-2.072482e+01</td>\n",
              "      <td>-1.435257e+01</td>\n",
              "      <td>-1.992766e+01</td>\n",
              "      <td>1.437624e+01</td>\n",
              "      <td>6.397887e+00</td>\n",
              "    </tr>\n",
              "    <tr>\n",
              "      <th>1</th>\n",
              "      <td>5.429019e-20</td>\n",
              "      <td>0.929187</td>\n",
              "      <td>1.946704e-69</td>\n",
              "      <td>8.820761e-193</td>\n",
              "      <td>2.898373e-79</td>\n",
              "      <td>4.830932e-24</td>\n",
              "      <td>1.362781e-29</td>\n",
              "      <td>2.288121e-52</td>\n",
              "      <td>4.289262e-51</td>\n",
              "      <td>0.083185</td>\n",
              "      <td>6.298960e-18</td>\n",
              "      <td>3.568751e-62</td>\n",
              "      <td>7.597900e-38</td>\n",
              "      <td>6.862816e-58</td>\n",
              "      <td>3.812922e-38</td>\n",
              "      <td>1.042864e-09</td>\n",
              "    </tr>\n",
              "  </tbody>\n",
              "</table>\n",
              "</div>"
            ],
            "text/plain": [
              "    infant_bill  water_project        budget  physician_bill  aid_elsalvador  \\\n",
              "0  9.662337e+00      -0.088940  2.279325e+01   -5.670481e+01   -2.390729e+01   \n",
              "1  5.429019e-20       0.929187  1.946704e-69   8.820761e-193    2.898373e-79   \n",
              "\n",
              "   church_school  anti_satellite    contra_aid    mx_missile  immigration  \\\n",
              "0  -1.076702e+01    1.246749e+01  1.825486e+01  1.740905e+01    -1.737470   \n",
              "1   4.830932e-24    1.362781e-29  2.288121e-52  4.289262e-51     0.083185   \n",
              "\n",
              "       synfuels  edu_spending  superfund_litigation         crime  \\\n",
              "0  9.040574e+00 -2.072482e+01         -1.435257e+01 -1.992766e+01   \n",
              "1  6.298960e-18  3.568751e-62          7.597900e-38  6.862816e-58   \n",
              "\n",
              "      duty_free  s_africa_export  \n",
              "0  1.437624e+01     6.397887e+00  \n",
              "1  3.812922e-38     1.042864e-09  "
            ]
          },
          "metadata": {
            "tags": []
          },
          "execution_count": 88
        }
      ]
    },
    {
      "metadata": {
        "id": "D6W_CGhSX_gn",
        "colab_type": "code",
        "colab": {
          "base_uri": "https://localhost:8080/",
          "height": 231
        },
        "outputId": "d63766ee-e2c0-48bd-9f2d-e76ae2f161c0"
      },
      "cell_type": "code",
      "source": [
        "dem_t1, rep_t1 = pd.DataFrame(), pd.DataFrame()\n",
        "\n",
        "for bill in dem_enc:\n",
        "  res, prob = stats.ttest_1samp(dem_enc[bill], nan_policy='omit')\n",
        "  dem_t1[bill] = [res,prob]\n",
        "\n",
        "for bill in rep_enc:\n",
        "  res, prob = stats.ttest_ind(rep_enc[bill], nan_policy='omit')\n",
        "  rep_t1[bill] = [res,prob]\n",
        "  "
      ],
      "execution_count": 89,
      "outputs": [
        {
          "output_type": "error",
          "ename": "TypeError",
          "evalue": "ignored",
          "traceback": [
            "\u001b[0;31m---------------------------------------------------------------------------\u001b[0m",
            "\u001b[0;31mTypeError\u001b[0m                                 Traceback (most recent call last)",
            "\u001b[0;32m<ipython-input-89-e05819e22d0b>\u001b[0m in \u001b[0;36m<module>\u001b[0;34m()\u001b[0m\n\u001b[1;32m      2\u001b[0m \u001b[0;34m\u001b[0m\u001b[0m\n\u001b[1;32m      3\u001b[0m \u001b[0;32mfor\u001b[0m \u001b[0mbill\u001b[0m \u001b[0;32min\u001b[0m \u001b[0mdem_enc\u001b[0m\u001b[0;34m:\u001b[0m\u001b[0;34m\u001b[0m\u001b[0;34m\u001b[0m\u001b[0m\n\u001b[0;32m----> 4\u001b[0;31m   \u001b[0mres\u001b[0m\u001b[0;34m,\u001b[0m \u001b[0mprob\u001b[0m \u001b[0;34m=\u001b[0m \u001b[0mstats\u001b[0m\u001b[0;34m.\u001b[0m\u001b[0mttest_1samp\u001b[0m\u001b[0;34m(\u001b[0m\u001b[0mdem_enc\u001b[0m\u001b[0;34m[\u001b[0m\u001b[0mbill\u001b[0m\u001b[0;34m]\u001b[0m\u001b[0;34m,\u001b[0m \u001b[0mnan_policy\u001b[0m\u001b[0;34m=\u001b[0m\u001b[0;34m'omit'\u001b[0m\u001b[0;34m)\u001b[0m\u001b[0;34m\u001b[0m\u001b[0;34m\u001b[0m\u001b[0m\n\u001b[0m\u001b[1;32m      5\u001b[0m   \u001b[0mdem_t1\u001b[0m\u001b[0;34m[\u001b[0m\u001b[0mbill\u001b[0m\u001b[0;34m]\u001b[0m \u001b[0;34m=\u001b[0m \u001b[0;34m[\u001b[0m\u001b[0mres\u001b[0m\u001b[0;34m,\u001b[0m\u001b[0mprob\u001b[0m\u001b[0;34m]\u001b[0m\u001b[0;34m\u001b[0m\u001b[0;34m\u001b[0m\u001b[0m\n\u001b[1;32m      6\u001b[0m \u001b[0;34m\u001b[0m\u001b[0m\n",
            "\u001b[0;31mTypeError\u001b[0m: ttest_1samp() missing 1 required positional argument: 'popmean'"
          ]
        }
      ]
    },
    {
      "metadata": {
        "id": "txkelB3pZAPL",
        "colab_type": "code",
        "colab": {}
      },
      "cell_type": "code",
      "source": [
        ""
      ],
      "execution_count": 0,
      "outputs": []
    },
    {
      "metadata": {
        "id": "dNN9MGvJZAGB",
        "colab_type": "code",
        "colab": {}
      },
      "cell_type": "code",
      "source": [
        ""
      ],
      "execution_count": 0,
      "outputs": []
    },
    {
      "metadata": {
        "id": "ahpKMlaqUl3O",
        "colab_type": "code",
        "colab": {
          "base_uri": "https://localhost:8080/",
          "height": 51
        },
        "outputId": "ba3efc25-c36d-4371-b45b-c14e9935bb88"
      },
      "cell_type": "code",
      "source": [
        "tv, prob = stats.ttest_ind(vote_enc['infant_bill'], dem_enc['infant_bill'])\n",
        "print(tv, prob)\n",
        "print(type(tv), type(prob))"
      ],
      "execution_count": 72,
      "outputs": [
        {
          "output_type": "stream",
          "text": [
            "-4.081601946648043 4.9881980609902794e-05\n",
            "<class 'numpy.float64'> <class 'numpy.float64'>\n"
          ],
          "name": "stdout"
        }
      ]
    },
    {
      "metadata": {
        "id": "ic0wdQFSGDJG",
        "colab_type": "code",
        "colab": {}
      },
      "cell_type": "code",
      "source": [
        "import seaborn as sns"
      ],
      "execution_count": 0,
      "outputs": []
    },
    {
      "metadata": {
        "id": "7k3yD_BTJG9e",
        "colab_type": "code",
        "colab": {
          "base_uri": "https://localhost:8080/",
          "height": 224
        },
        "outputId": "bce5ecf0-ceed-47e3-c997-dae08293e8e6"
      },
      "cell_type": "code",
      "source": [
        ""
      ],
      "execution_count": 63,
      "outputs": [
        {
          "output_type": "execute_result",
          "data": {
            "text/html": [
              "<div>\n",
              "<style scoped>\n",
              "    .dataframe tbody tr th:only-of-type {\n",
              "        vertical-align: middle;\n",
              "    }\n",
              "\n",
              "    .dataframe tbody tr th {\n",
              "        vertical-align: top;\n",
              "    }\n",
              "\n",
              "    .dataframe thead th {\n",
              "        text-align: right;\n",
              "    }\n",
              "</style>\n",
              "<table border=\"1\" class=\"dataframe\">\n",
              "  <thead>\n",
              "    <tr style=\"text-align: right;\">\n",
              "      <th></th>\n",
              "      <th>infant_bill</th>\n",
              "      <th>water_project</th>\n",
              "      <th>budget</th>\n",
              "      <th>physician_bill</th>\n",
              "      <th>aid_elsalvador</th>\n",
              "      <th>church_school</th>\n",
              "      <th>anti_satellite</th>\n",
              "      <th>contra_aid</th>\n",
              "      <th>mx_missile</th>\n",
              "      <th>immigration</th>\n",
              "      <th>synfuels</th>\n",
              "      <th>edu_spending</th>\n",
              "      <th>superfund_litigation</th>\n",
              "      <th>crime</th>\n",
              "      <th>duty_free</th>\n",
              "      <th>s_africa_export</th>\n",
              "    </tr>\n",
              "  </thead>\n",
              "  <tbody>\n",
              "    <tr>\n",
              "      <th>2</th>\n",
              "      <td>0</td>\n",
              "      <td>1</td>\n",
              "      <td>1</td>\n",
              "      <td>0</td>\n",
              "      <td>1</td>\n",
              "      <td>1</td>\n",
              "      <td>0</td>\n",
              "      <td>0</td>\n",
              "      <td>0</td>\n",
              "      <td>0</td>\n",
              "      <td>1</td>\n",
              "      <td>0</td>\n",
              "      <td>1</td>\n",
              "      <td>1</td>\n",
              "      <td>0</td>\n",
              "      <td>0</td>\n",
              "    </tr>\n",
              "    <tr>\n",
              "      <th>3</th>\n",
              "      <td>0</td>\n",
              "      <td>1</td>\n",
              "      <td>1</td>\n",
              "      <td>0</td>\n",
              "      <td>1</td>\n",
              "      <td>1</td>\n",
              "      <td>0</td>\n",
              "      <td>0</td>\n",
              "      <td>0</td>\n",
              "      <td>0</td>\n",
              "      <td>1</td>\n",
              "      <td>0</td>\n",
              "      <td>1</td>\n",
              "      <td>0</td>\n",
              "      <td>0</td>\n",
              "      <td>1</td>\n",
              "    </tr>\n",
              "    <tr>\n",
              "      <th>4</th>\n",
              "      <td>1</td>\n",
              "      <td>1</td>\n",
              "      <td>1</td>\n",
              "      <td>0</td>\n",
              "      <td>1</td>\n",
              "      <td>1</td>\n",
              "      <td>0</td>\n",
              "      <td>0</td>\n",
              "      <td>0</td>\n",
              "      <td>0</td>\n",
              "      <td>1</td>\n",
              "      <td>0</td>\n",
              "      <td>1</td>\n",
              "      <td>1</td>\n",
              "      <td>1</td>\n",
              "      <td>1</td>\n",
              "    </tr>\n",
              "    <tr>\n",
              "      <th>5</th>\n",
              "      <td>0</td>\n",
              "      <td>1</td>\n",
              "      <td>1</td>\n",
              "      <td>0</td>\n",
              "      <td>1</td>\n",
              "      <td>1</td>\n",
              "      <td>0</td>\n",
              "      <td>0</td>\n",
              "      <td>0</td>\n",
              "      <td>0</td>\n",
              "      <td>0</td>\n",
              "      <td>0</td>\n",
              "      <td>1</td>\n",
              "      <td>1</td>\n",
              "      <td>1</td>\n",
              "      <td>1</td>\n",
              "    </tr>\n",
              "    <tr>\n",
              "      <th>6</th>\n",
              "      <td>0</td>\n",
              "      <td>1</td>\n",
              "      <td>0</td>\n",
              "      <td>1</td>\n",
              "      <td>1</td>\n",
              "      <td>1</td>\n",
              "      <td>0</td>\n",
              "      <td>0</td>\n",
              "      <td>0</td>\n",
              "      <td>0</td>\n",
              "      <td>0</td>\n",
              "      <td>0</td>\n",
              "      <td>0</td>\n",
              "      <td>1</td>\n",
              "      <td>1</td>\n",
              "      <td>1</td>\n",
              "    </tr>\n",
              "  </tbody>\n",
              "</table>\n",
              "</div>"
            ],
            "text/plain": [
              "   infant_bill  water_project  budget  physician_bill  aid_elsalvador  \\\n",
              "2            0              1       1               0               1   \n",
              "3            0              1       1               0               1   \n",
              "4            1              1       1               0               1   \n",
              "5            0              1       1               0               1   \n",
              "6            0              1       0               1               1   \n",
              "\n",
              "   church_school  anti_satellite  contra_aid  mx_missile  immigration  \\\n",
              "2              1               0           0           0            0   \n",
              "3              1               0           0           0            0   \n",
              "4              1               0           0           0            0   \n",
              "5              1               0           0           0            0   \n",
              "6              1               0           0           0            0   \n",
              "\n",
              "   synfuels  edu_spending  superfund_litigation  crime  duty_free  \\\n",
              "2         1             0                     1      1          0   \n",
              "3         1             0                     1      0          0   \n",
              "4         1             0                     1      1          1   \n",
              "5         0             0                     1      1          1   \n",
              "6         0             0                     0      1          1   \n",
              "\n",
              "   s_africa_export  \n",
              "2                0  \n",
              "3                1  \n",
              "4                1  \n",
              "5                1  \n",
              "6                1  "
            ]
          },
          "metadata": {
            "tags": []
          },
          "execution_count": 63
        }
      ]
    },
    {
      "metadata": {
        "id": "4ReCcVIvUsuE",
        "colab_type": "code",
        "colab": {}
      },
      "cell_type": "code",
      "source": [
        ""
      ],
      "execution_count": 0,
      "outputs": []
    }
  ]
}