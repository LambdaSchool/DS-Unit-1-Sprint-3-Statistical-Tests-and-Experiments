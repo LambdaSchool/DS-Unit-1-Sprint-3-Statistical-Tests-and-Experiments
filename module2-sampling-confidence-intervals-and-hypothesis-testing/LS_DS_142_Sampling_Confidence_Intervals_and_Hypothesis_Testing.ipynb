{
  "nbformat": 4,
  "nbformat_minor": 0,
  "metadata": {
    "colab": {
      "name": "LS DS 142 Sampling Confidence Intervals and Hypothesis Testing.ipynb",
      "version": "0.3.2",
      "provenance": [],
      "collapsed_sections": [],
      "include_colab_link": true
    },
    "kernelspec": {
      "name": "python3",
      "display_name": "Python 3"
    }
  },
  "cells": [
    {
      "cell_type": "markdown",
      "metadata": {
        "id": "view-in-github",
        "colab_type": "text"
      },
      "source": [
        "<a href=\"https://colab.research.google.com/github/invegat/DS-Unit-1-Sprint-4-Statistical-Tests-and-Experiments/blob/master/module2-sampling-confidence-intervals-and-hypothesis-testing/LS_DS_142_Sampling_Confidence_Intervals_and_Hypothesis_Testing.ipynb\" target=\"_parent\"><img src=\"https://colab.research.google.com/assets/colab-badge.svg\" alt=\"Open In Colab\"/></a>"
      ]
    },
    {
      "metadata": {
        "id": "838Dmw1kM2LK",
        "colab_type": "text"
      },
      "cell_type": "markdown",
      "source": [
        "# Lambda School Data Science Module 142\n",
        "## Sampling, Confidence Intervals, and Hypothesis Testing"
      ]
    },
    {
      "metadata": {
        "id": "dbcPKIo5M6Ny",
        "colab_type": "text"
      },
      "cell_type": "markdown",
      "source": [
        "## Prepare - examine other available hypothesis tests\n",
        "\n",
        "If you had to pick a single hypothesis test in your toolbox, t-test would probably be the best choice - but the good news is you don't have to pick just one! Here's some of the others to be aware of:"
      ]
    },
    {
      "metadata": {
        "id": "tlBel8j9M6tB",
        "colab_type": "code",
        "outputId": "811623c9-885a-42e3-c3f7-159ced2ce330",
        "colab": {
          "base_uri": "https://localhost:8080/",
          "height": 215
        }
      },
      "cell_type": "code",
      "source": [
        "import numpy as np\n",
        "from scipy.stats import chisquare  # One-way chi square test\n",
        "\n",
        "# Chi square can take any crosstab/table and test the independence of rows/cols\n",
        "# The null hypothesis is that the rows/cols are independent -> low chi square\n",
        "# The alternative is that there is a dependence -> high chi square\n",
        "# Be aware! Chi square does *not* tell you direction/causation\n",
        "\n",
        "ind_obs = np.array([[1, 1], [2, 2]]).T\n",
        "print(ind_obs)\n",
        "print(chisquare(ind_obs, axis=None))\n",
        "\n",
        "dep_obs = np.array([[16, 18, 16, 14, 12, 12], [32, 24, 16, 28, 20, 24]]).T\n",
        "print(dep_obs)\n",
        "print(chisquare(dep_obs, axis=None))"
      ],
      "execution_count": 0,
      "outputs": [
        {
          "output_type": "stream",
          "text": [
            "[[1 2]\n",
            " [1 2]]\n",
            "Power_divergenceResult(statistic=0.6666666666666666, pvalue=0.8810148425137847)\n",
            "[[16 32]\n",
            " [18 24]\n",
            " [16 16]\n",
            " [14 28]\n",
            " [12 20]\n",
            " [12 24]]\n",
            "Power_divergenceResult(statistic=23.31034482758621, pvalue=0.015975692534127565)\n"
          ],
          "name": "stdout"
        }
      ]
    },
    {
      "metadata": {
        "id": "nN0BdNiDPxbk",
        "colab_type": "code",
        "outputId": "36426de9-d1b9-4790-ae20-9d5eb578a77a",
        "colab": {
          "base_uri": "https://localhost:8080/",
          "height": 35
        }
      },
      "cell_type": "code",
      "source": [
        "# Distribution tests:\n",
        "# We often assume that something is normal, but it can be important to *check*\n",
        "\n",
        "# For example, later on with predictive modeling, a typical assumption is that\n",
        "# residuals (prediction errors) are normal - checking is a good diagnostic\n",
        "\n",
        "from scipy.stats import normaltest\n",
        "# Poisson models arrival times and is related to the binomial (coinflip)\n",
        "sample = np.random.poisson(5, 1000)\n",
        "print(normaltest(sample))  # Pretty clearly not normal"
      ],
      "execution_count": 0,
      "outputs": [
        {
          "output_type": "stream",
          "text": [
            "NormaltestResult(statistic=38.69323106073592, pvalue=3.961609200867749e-09)\n"
          ],
          "name": "stdout"
        }
      ]
    },
    {
      "metadata": {
        "id": "P5t0WhkDReFO",
        "colab_type": "code",
        "outputId": "7d6438bf-8042-4297-a8f7-cef083d22444",
        "colab": {
          "base_uri": "https://localhost:8080/",
          "height": 53
        }
      },
      "cell_type": "code",
      "source": [
        "# Kruskal-Wallis H-test - compare the median rank between 2+ groups\n",
        "# Can be applied to ranking decisions/outcomes/recommendations\n",
        "# The underlying math comes from chi-square distribution, and is best for n>5\n",
        "from scipy.stats import kruskal\n",
        "\n",
        "x1 = [1, 3, 5, 7, 9]\n",
        "y1 = [2, 4, 6, 8, 10]\n",
        "print(kruskal(x1, y1))  # x1 is a little better, but not \"significantly\" so\n",
        "\n",
        "x2 = [1, 1, 1]\n",
        "y2 = [2, 2, 2]\n",
        "z = [2, 2]  # Hey, a third group, and of different size!\n",
        "print(kruskal(x2, y2, z))  # x clearly dominates"
      ],
      "execution_count": 0,
      "outputs": [
        {
          "output_type": "stream",
          "text": [
            "KruskalResult(statistic=0.2727272727272734, pvalue=0.6015081344405895)\n",
            "KruskalResult(statistic=7.0, pvalue=0.0301973834223185)\n"
          ],
          "name": "stdout"
        }
      ]
    },
    {
      "metadata": {
        "id": "7pT3IP36Rh0b",
        "colab_type": "text"
      },
      "cell_type": "markdown",
      "source": [
        "And there's many more! `scipy.stats` is fairly comprehensive, though there are even more available if you delve into the extended world of statistics packages. As tests get increasingly obscure and specialized, the importance of knowing them by heart becomes small - but being able to look them up and figure them out when they *are* relevant is still important."
      ]
    },
    {
      "metadata": {
        "id": "L1_KRuHCM7BW",
        "colab_type": "text"
      },
      "cell_type": "markdown",
      "source": [
        "## Live Lecture - let's explore some more of scipy.stats"
      ]
    },
    {
      "metadata": {
        "id": "qW6k0dorM7Lz",
        "colab_type": "code",
        "colab": {}
      },
      "cell_type": "code",
      "source": [
        "# Taking requests! Come to lecture with a topic or problem and we'll try it."
      ],
      "execution_count": 0,
      "outputs": []
    },
    {
      "metadata": {
        "id": "11OzdxWTM7UR",
        "colab_type": "text"
      },
      "cell_type": "markdown",
      "source": [
        "## Assignment - Build a confidence interval\n",
        "\n",
        "A confidence interval refers to a neighborhood around some point estimate, the size of which is determined by the desired p-value. For instance, we might say that 52% of Americans prefer tacos to burritos, with a 95% confidence interval of +/- 5%.\n",
        "\n",
        "52% (0.52) is the point estimate, and +/- 5% (the interval $[0.47, 0.57]$) is the confidence interval. \"95% confidence\" means a p-value $\\leq 1 - 0.95 = 0.05$.\n",
        "\n",
        "In this case, the confidence interval includes $0.5$ - which is the natural null hypothesis (that half of Americans prefer tacos and half burritos, thus there is no clear favorite). So in this case, we could use the confidence interval to report that we've failed to reject the null hypothesis.\n",
        "\n",
        "But providing the full analysis with a confidence interval, including a graphical representation of it, can be a helpful and powerful way to tell your story. Done well, it is also more intuitive to a layperson than simply saying \"fail to reject the null hypothesis\" - it shows that in fact the data does *not* give a single clear result (the point estimate) but a whole range of possibilities.\n",
        "\n",
        "How is a confidence interval built, and how should it be interpreted? It does *not* mean that 95% of the data lies in that interval - instead, the frequentist interpretation is \"if we were to repeat this experiment 100 times, we would expect the average result to lie in this interval ~95 times.\"\n",
        "\n",
        "For a 95% confidence interval and a normal(-ish) distribution, you can simply remember that +/-2 standard deviations contains 95% of the probability mass, and so the 95% confidence interval based on a given sample is centered at the mean (point estimate) and has a range of +/- 2 (or technically 1.96) standard deviations.\n",
        "\n",
        "Different distributions/assumptions (90% confidence, 99% confidence) will require different math, but the overall process and interpretation (with a frequentist approach) will be the same.\n",
        "\n",
        "Your assignment - using the data from the prior module ([congressional voting records](https://archive.ics.uci.edu/ml/datasets/Congressional+Voting+Records)):\n",
        "\n",
        "1. Generate and numerically represent a confidence interval\n",
        "2. Graphically (with a plot) represent the confidence interval\n",
        "3. Interpret the confidence interval - what does it tell you about the data and its distribution?\n",
        "\n",
        "Stretch goals:\n",
        "\n",
        "1. Write a summary of your findings, mixing prose and math/code/results. *Note* - yes, this is by definition a political topic. It is challenging but important to keep your writing voice *neutral* and stick to the facts of the data. Data science often involves considering controversial issues, so it's important to be sensitive about them (especially if you want to publish).\n",
        "2. Apply the techniques you learned today to your project data or other data of your choice, and write/discuss your findings here."
      ]
    },
    {
      "metadata": {
        "id": "q4oaSSwicJ1G",
        "colab_type": "code",
        "colab": {
          "base_uri": "https://localhost:8080/",
          "height": 209
        },
        "outputId": "d20b5332-4e98-430c-b863-defde314d8a9"
      },
      "cell_type": "code",
      "source": [
        "# http://archive.ics.uci.edu/ml/datasets/Drug+Review+Dataset+%28Drugs.com%29#\n",
        "!wget http://archive.ics.uci.edu/ml/machine-learning-databases/00462/drugsCom_raw.zip\n"
      ],
      "execution_count": 4,
      "outputs": [
        {
          "output_type": "stream",
          "text": [
            "--2018-12-04 19:14:10--  http://archive.ics.uci.edu/ml/machine-learning-databases/00462/drugsCom_raw.zip\n",
            "Resolving archive.ics.uci.edu (archive.ics.uci.edu)... 128.195.10.249\n",
            "Connecting to archive.ics.uci.edu (archive.ics.uci.edu)|128.195.10.249|:80... connected.\n",
            "HTTP request sent, awaiting response... 200 OK\n",
            "Length: 42989872 (41M) [application/zip]\n",
            "Saving to: ‘drugsCom_raw.zip’\n",
            "\n",
            "drugsCom_raw.zip    100%[===================>]  41.00M  16.0MB/s    in 2.6s    \n",
            "\n",
            "2018-12-04 19:14:13 (16.0 MB/s) - ‘drugsCom_raw.zip’ saved [42989872/42989872]\n",
            "\n"
          ],
          "name": "stdout"
        }
      ]
    },
    {
      "metadata": {
        "id": "LR__9IITpCy4",
        "colab_type": "code",
        "colab": {
          "base_uri": "https://localhost:8080/",
          "height": 69
        },
        "outputId": "6780bf55-c927-434f-8b6b-a037aedaff87"
      },
      "cell_type": "code",
      "source": [
        "!unzip drugsCom_raw.zip"
      ],
      "execution_count": 5,
      "outputs": [
        {
          "output_type": "stream",
          "text": [
            "Archive:  drugsCom_raw.zip\n",
            "  inflating: drugsComTest_raw.tsv    \n",
            "  inflating: drugsComTrain_raw.tsv   \n"
          ],
          "name": "stdout"
        }
      ]
    },
    {
      "metadata": {
        "id": "lKNbcCHfBHFf",
        "colab_type": "text"
      },
      "cell_type": "markdown",
      "source": [
        ""
      ]
    },
    {
      "metadata": {
        "id": "RWY6UxsGpB9y",
        "colab_type": "code",
        "colab": {
          "base_uri": "https://localhost:8080/",
          "height": 204
        },
        "outputId": "cac2ea12-a626-4665-aabc-79cadbc49bde"
      },
      "cell_type": "code",
      "source": [
        "sample_size = 10000\n",
        "df = pd.read_csv('drugsComTrain_raw.tsv', sep='\\t')\n",
        "#df = df[df.drugName.notnull() and df.condition.notnull() and df.rating.notnull()]\n",
        "df = df.dropna()\n",
        "df = df[~df.condition.str.contains('<')]\n",
        "df.rating.apply(lambda rating: rating if rating < 10 else 10)\n",
        "#df = df.sample(n=sample_size).drop(['Unnamed: 0','review','date','usefulCount'], axis=1).reindex(range(1,sample_size), axis=0)\n",
        "df = df.sample(n=sample_size).drop(['Unnamed: 0','review','date','usefulCount'], axis=1)\n",
        "# df = df.drop(['Unnamed: 0','review','date','usefulCount'], axis=1)\n",
        "df.tail()\n",
        "# df.shape"
      ],
      "execution_count": 126,
      "outputs": [
        {
          "output_type": "execute_result",
          "data": {
            "text/html": [
              "<div>\n",
              "<style scoped>\n",
              "    .dataframe tbody tr th:only-of-type {\n",
              "        vertical-align: middle;\n",
              "    }\n",
              "\n",
              "    .dataframe tbody tr th {\n",
              "        vertical-align: top;\n",
              "    }\n",
              "\n",
              "    .dataframe thead th {\n",
              "        text-align: right;\n",
              "    }\n",
              "</style>\n",
              "<table border=\"1\" class=\"dataframe\">\n",
              "  <thead>\n",
              "    <tr style=\"text-align: right;\">\n",
              "      <th></th>\n",
              "      <th>drugName</th>\n",
              "      <th>condition</th>\n",
              "      <th>rating</th>\n",
              "    </tr>\n",
              "  </thead>\n",
              "  <tbody>\n",
              "    <tr>\n",
              "      <th>128359</th>\n",
              "      <td>Levitra</td>\n",
              "      <td>Erectile Dysfunction</td>\n",
              "      <td>10.0</td>\n",
              "    </tr>\n",
              "    <tr>\n",
              "      <th>96812</th>\n",
              "      <td>Miconazole</td>\n",
              "      <td>Vaginal Yeast Infection</td>\n",
              "      <td>2.0</td>\n",
              "    </tr>\n",
              "    <tr>\n",
              "      <th>119433</th>\n",
              "      <td>Dilaudid</td>\n",
              "      <td>Pain</td>\n",
              "      <td>9.0</td>\n",
              "    </tr>\n",
              "    <tr>\n",
              "      <th>107351</th>\n",
              "      <td>Miconazole</td>\n",
              "      <td>Vaginal Yeast Infection</td>\n",
              "      <td>1.0</td>\n",
              "    </tr>\n",
              "    <tr>\n",
              "      <th>42029</th>\n",
              "      <td>Levonorgestrel</td>\n",
              "      <td>Birth Control</td>\n",
              "      <td>8.0</td>\n",
              "    </tr>\n",
              "  </tbody>\n",
              "</table>\n",
              "</div>"
            ],
            "text/plain": [
              "              drugName                condition  rating\n",
              "128359         Levitra     Erectile Dysfunction    10.0\n",
              "96812       Miconazole  Vaginal Yeast Infection     2.0\n",
              "119433        Dilaudid                     Pain     9.0\n",
              "107351      Miconazole  Vaginal Yeast Infection     1.0\n",
              "42029   Levonorgestrel            Birth Control     8.0"
            ]
          },
          "metadata": {
            "tags": []
          },
          "execution_count": 126
        }
      ]
    },
    {
      "metadata": {
        "id": "JiQUDLeZ14yN",
        "colab_type": "code",
        "colab": {
          "base_uri": "https://localhost:8080/",
          "height": 34
        },
        "outputId": "9ac3ed13-a2f9-40d2-84de-91790d9da7e9"
      },
      "cell_type": "code",
      "source": [
        "df.shape"
      ],
      "execution_count": 83,
      "outputs": [
        {
          "output_type": "execute_result",
          "data": {
            "text/plain": [
              "(10000, 3)"
            ]
          },
          "metadata": {
            "tags": []
          },
          "execution_count": 83
        }
      ]
    },
    {
      "metadata": {
        "id": "FDKTGHFtqaN1",
        "colab_type": "code",
        "colab": {}
      },
      "cell_type": "code",
      "source": [
        "# Confidence intervals!\n",
        "# Similar to hypothesis testing, but centered at sample mean\n",
        "# Better than reporting the \"point estimate\" (sample mean)\n",
        "# Why? Because point estimates aren't always perfect\n",
        "\n",
        "import numpy as np\n",
        "from scipy import stats\n",
        "\n",
        "def confidence_interval(data, confidence=0.95):\n",
        "  \"\"\"\n",
        "  Calculate a confidence interval around a sample mean for given data.\n",
        "  Using t-distribution and two-tailed test, default 95% confidence. \n",
        "  \n",
        "  Arguments:\n",
        "    data - iterable (list or numpy array) of sample observations\n",
        "    confidence - level of confidence for the interval\n",
        "  \n",
        "  Returns:\n",
        "    tuple of (mean, lower bound, upper bound)\n",
        "  \"\"\"\n",
        "  data = np.array(data)\n",
        "  mean = np.mean(data)\n",
        "  n = len(data)\n",
        "  stderr = stats.sem(data)\n",
        "  interval = stderr * stats.t.ppf((1 + confidence) / 2., n - 1)\n",
        "  return (mean, mean - interval, mean + interval)\n",
        "\n",
        "def report_confidence_interval(confidence_interval):\n",
        "  \"\"\"\n",
        "  Return a string with a pretty report of a confidence interval.\n",
        "  \n",
        "  Arguments:\n",
        "    confidence_interval - tuple of (mean, lower bound, upper bound)\n",
        "  \n",
        "  Returns:\n",
        "    None, but prints to screen the report\n",
        "  \"\"\"\n",
        "  #print('Mean: {}'.format(confidence_interval[0]))\n",
        "  #print('Lower bound: {}'.format(confidence_interval[1]))\n",
        "  #print('Upper bound: {}'.format(confidence_interval[2]))\n",
        "  s = \"our mean lies in the interval ]{:.2}, {:.2}[\".format(\n",
        "      confidence_interval[1], confidence_interval[2])\n",
        "  s = f\"our mean {confidence_interval[0]:.2f} lies in the interval {confidence_interval[1]:.2f} - {confidence_interval[2]:.2f}\"\n",
        "  return s"
      ],
      "execution_count": 0,
      "outputs": []
    },
    {
      "metadata": {
        "id": "lBbfb8B6t2TO",
        "colab_type": "code",
        "colab": {}
      },
      "cell_type": "code",
      "source": [
        "minLen = 10\n",
        "import matplotlib.pyplot as plt\n",
        "def printChart(c,data):\n",
        "\n",
        "  df = pd.DataFrame.from_dict(data)\n",
        "  print(df.head())\n",
        "\n",
        "  data_order =['min_stars', 'low', 'mean','high', 'max_stars']\n",
        "  colors = [\"b\",\"g\",\"black\",\"g\",\"b\"]\n",
        "  values = np.array([[d[name] for name in data_order] for d in data])\n",
        "  order = np.array(data_order)\n",
        "  bottoms = np.arange(len(data))\n",
        "\n",
        "  for name,color in zip(data_order,colors):\n",
        "    value = np.array(df[name])\n",
        "    \n",
        "    # print(f'name: {name} color: {color} value: {value}')\n",
        "\n",
        "#     x = [0, row.min_stars, row.low, row,mean, row.high, row.max_stars]\n",
        "#     plt.bar(x=x, height=0.8, width=value, bottom=bottoms, \n",
        "#             color=color, orientation=\"horizontal\", label=name)\n",
        "#   plt.yticks(bottoms+0.4, [\"data %d\" % (t+1) for t in bottoms])\n",
        "#   plt.legend(loc=\"best\", bbox_to_anchor=(1.0, 1.00))\n",
        "#   plt.subplots_adjust(right=0.85)\n",
        "#   plt.show()"
      ],
      "execution_count": 0,
      "outputs": []
    },
    {
      "metadata": {
        "id": "-2Jdxh2qpJGS",
        "colab_type": "code",
        "colab": {
          "base_uri": "https://localhost:8080/",
          "height": 6947
        },
        "outputId": "4de0f512-f46a-421e-cda8-6fa4c44e8cc7"
      },
      "cell_type": "code",
      "source": [
        "c_unique = df.condition.unique()\n",
        "condition_length = len(c_unique)\n",
        "x = 0\n",
        "y = 0\n",
        "for c in c_unique:\n",
        "  # print(c)\n",
        "  d_unique =  df[df.condition == c].drugName.unique()\n",
        "  drug_length = 0\n",
        "  drugs_used = []\n",
        "  cis = []\n",
        "  for d in d_unique:\n",
        "    cdf = df[(df.condition == c) & (df.drugName == d) ]['rating']\n",
        "    ci = None\n",
        "    lcdf = len(cdf)\n",
        "    if lcdf >= minLen:\n",
        "      ci = confidence_interval(cdf)\n",
        "      drugs_used.append(d)\n",
        "      cis.append({'drug': d, 'reviews_count': lcdf, 'min_stars': cdf.min(), 'max_stars': cdf.max(), 'mean': ci[0], 'low': ci[1], 'high': ci[2]  })\n",
        "      # print(f\"for condition {c} drug {d} 95% confidence interval {report_confidence_interval(ci)}\")\n",
        "  if len(cis) > 0:\n",
        "    printChart(c,cis)\n",
        "  y += 1\n",
        "    #plt.bar(np.arange(0,len(cdf)),cdf)\n",
        "    "
      ],
      "execution_count": 174,
      "outputs": [
        {
          "output_type": "stream",
          "text": [
            "                                 drug      high       low  max_stars  \\\n",
            "0    Drospirenone / ethinyl estradiol  7.042478  4.786093       10.0   \n",
            "1                        Tri-Sprintec  9.749320  5.822109       10.0   \n",
            "2   Ethinyl estradiol / norethindrone  6.253776  5.093742       10.0   \n",
            "3                              Mirena  7.846050  6.252311       10.0   \n",
            "4  Ethinyl estradiol / levonorgestrel  6.705052  5.413760       10.0   \n",
            "\n",
            "       mean  min_stars  reviews_count  \n",
            "0  5.914286        1.0             35  \n",
            "1  7.785714        1.0             14  \n",
            "2  5.673759        1.0            141  \n",
            "3  7.049180        1.0             61  \n",
            "4  6.059406        1.0            101  \n",
            "         drug       high       low  max_stars      mean  min_stars  \\\n",
            "0    Tramadol   7.184459  3.958398       10.0  5.571429        1.0   \n",
            "1    Dilaudid   9.579663  6.420337       10.0  8.000000        2.0   \n",
            "2  Diclofenac   9.274068  4.362296       10.0  6.818182        1.0   \n",
            "3   OxyContin  10.298646  8.064990       10.0  9.181818        5.0   \n",
            "4  Gabapentin   8.013890  4.293802       10.0  6.153846        1.0   \n",
            "\n",
            "   reviews_count  \n",
            "0             21  \n",
            "1             13  \n",
            "2             11  \n",
            "3             11  \n",
            "4             13  \n",
            "                  drug      high       low  max_stars      mean  min_stars  \\\n",
            "0               Mirena  8.784412  4.215588       10.0  6.500000        1.0   \n",
            "1  Medroxyprogesterone  3.434945  1.305796       10.0  2.370370        1.0   \n",
            "2         Depo-Provera  5.930653  2.887529       10.0  4.409091        1.0   \n",
            "\n",
            "   reviews_count  \n",
            "0             14  \n",
            "1             27  \n",
            "2             22  \n",
            "              drug      high       low  max_stars      mean  min_stars  \\\n",
            "0  Cyclobenzaprine  8.411048  4.665875       10.0  6.538462        1.0   \n",
            "1       Tizanidine  6.760536  2.839464        9.0  4.800000        1.0   \n",
            "\n",
            "   reviews_count  \n",
            "0             13  \n",
            "1             10  \n",
            "                     drug      high       low  max_stars      mean  min_stars  \\\n",
            "0             Phentermine  9.324172  8.481383       10.0  8.902778        2.0   \n",
            "1              Lorcaserin  8.059697  4.722912       10.0  6.391304        1.0   \n",
            "2                Contrave  6.967079  3.532921       10.0  5.250000        1.0   \n",
            "3  Bupropion / naltrexone  8.484897  5.620366       10.0  7.052632        1.0   \n",
            "4                  Belviq  9.792366  7.155002       10.0  8.473684        1.0   \n",
            "\n",
            "   reviews_count  \n",
            "0             72  \n",
            "1             23  \n",
            "2             20  \n",
            "3             19  \n",
            "4             19  \n",
            "         drug       high       low  max_stars      mean  min_stars  \\\n",
            "0  Sildenafil   9.264421  5.592722       10.0  7.428571        2.0   \n",
            "1   Tadalafil   9.760427  8.072906       10.0  8.916667        2.0   \n",
            "2      Cialis  10.029818  7.541611       10.0  8.785714        2.0   \n",
            "\n",
            "   reviews_count  \n",
            "0             14  \n",
            "1             24  \n",
            "2             14  \n",
            "         drug       high       low  max_stars      mean  min_stars  \\\n",
            "0  Quetiapine   9.622846  7.577154       10.0  8.600000        6.0   \n",
            "1    Zolpidem   8.933575  6.709282       10.0  7.821429        1.0   \n",
            "2   Trazodone   8.791341  5.481386       10.0  7.136364        1.0   \n",
            "3      Ambien   9.083733  5.982933       10.0  7.533333        1.0   \n",
            "4     Doxepin  10.061761  5.338239       10.0  7.700000        2.0   \n",
            "\n",
            "   reviews_count  \n",
            "0             10  \n",
            "1             28  \n",
            "2             22  \n",
            "3             15  \n",
            "4             10  \n",
            "         drug       high       low  max_stars      mean  min_stars  \\\n",
            "0      Zoloft  10.006586  4.993414       10.0  7.500000        1.0   \n",
            "1  Clonazepam   9.776511  6.377336       10.0  8.076923        1.0   \n",
            "2  Alprazolam  10.500630  7.499370       10.0  9.000000        1.0   \n",
            "3  Sertraline   9.265050  6.734950       10.0  8.000000        2.0   \n",
            "\n",
            "   reviews_count  \n",
            "0             10  \n",
            "1             13  \n",
            "2             13  \n",
            "3             19  \n",
            "         drug      high       low  max_stars      mean  min_stars  \\\n",
            "0      BuSpar  8.789847  5.960153       10.0  7.375000        1.0   \n",
            "1  Clonazepam  9.470016  6.893620       10.0  8.181818        1.0   \n",
            "2      Ativan  9.764281  8.635719       10.0  9.200000        8.0   \n",
            "3  Alprazolam  9.086429  7.380238       10.0  8.233333        2.0   \n",
            "4  Gabapentin  9.829402  6.324444       10.0  8.076923        1.0   \n",
            "\n",
            "   reviews_count  \n",
            "0             16  \n",
            "1             22  \n",
            "2             10  \n",
            "3             30  \n",
            "4             13  \n",
            "           drug      high       low  max_stars      mean  min_stars  \\\n",
            "0  Aripiprazole  7.727934  2.635703       10.0  5.181818        1.0   \n",
            "1   Mirtazapine  7.700545  4.699455        9.0  6.200000        3.0   \n",
            "2    Trintellix  8.524847  3.838789       10.0  6.181818        1.0   \n",
            "3    Sertraline  8.289281  6.467476       10.0  7.378378        1.0   \n",
            "4       Pristiq  7.857437  5.826774       10.0  6.842105        1.0   \n",
            "\n",
            "   reviews_count  \n",
            "0             11  \n",
            "1             10  \n",
            "2             11  \n",
            "3             37  \n",
            "4             38  \n",
            "          drug     high       low  max_stars      mean  min_stars  \\\n",
            "0  Ondansetron  8.16178  3.068989       10.0  5.615385        1.0   \n",
            "\n",
            "   reviews_count  \n",
            "0             13  \n",
            "         drug     high      low  max_stars  mean  min_stars  reviews_count\n",
            "0  Trintellix  7.90038  3.09962       10.0   5.5        1.0             12\n",
            "          drug      high       low  max_stars      mean  min_stars  \\\n",
            "0       Latuda  8.171729  5.188271       10.0  6.680000        1.0   \n",
            "1   Quetiapine  8.054200  5.103695       10.0  6.578947        2.0   \n",
            "2  Lamotrigine  9.588008  7.661992       10.0  8.625000        3.0   \n",
            "3       Geodon  8.802726  2.397274       10.0  5.600000        1.0   \n",
            "4     Lamictal  9.979854  7.486812       10.0  8.733333        3.0   \n",
            "\n",
            "   reviews_count  \n",
            "0             25  \n",
            "1             19  \n",
            "2             24  \n",
            "3             10  \n",
            "4             15  \n",
            "            drug      high       low  max_stars      mean  min_stars  \\\n",
            "0  Metronidazole  8.179667  4.887000       10.0  6.533333        1.0   \n",
            "1    Clindamycin  6.973108  3.560225       10.0  5.266667        1.0   \n",
            "\n",
            "   reviews_count  \n",
            "0             15  \n",
            "1             15  \n",
            "         drug      high       low  max_stars      mean  min_stars  \\\n",
            "0  Citalopram  9.108782  7.152088       10.0  8.130435        2.0   \n",
            "1      Celexa  9.761051  5.875313       10.0  7.818182        1.0   \n",
            "2  Fluoxetine  9.690064  5.946300       10.0  7.818182        2.0   \n",
            "3  Sertraline  9.477735  5.613174       10.0  7.545455        1.0   \n",
            "\n",
            "   reviews_count  \n",
            "0             23  \n",
            "1             11  \n",
            "2             11  \n",
            "3             11  \n",
            "                             drug      high       low  max_stars      mean  \\\n",
            "0                    Isotretinoin  9.190277  7.233966       10.0  8.212121   \n",
            "1  Benzoyl peroxide / clindamycin  9.018781  6.139114       10.0  7.578947   \n",
            "2                  Spironolactone  9.974596  6.948481       10.0  8.461538   \n",
            "3                        Accutane  9.705305  7.512087       10.0  8.608696   \n",
            "4                          Epiduo  9.059408  7.190592       10.0  8.125000   \n",
            "\n",
            "   min_stars  reviews_count  \n",
            "0        1.0             33  \n",
            "1        1.0             19  \n",
            "2        1.0             13  \n",
            "3        1.0             23  \n",
            "4        1.0             24  \n",
            "                              drug      high       low  max_stars      mean  \\\n",
            "0                          Vyvanse  9.342717  7.371568       10.0  8.357143   \n",
            "1                 Lisdexamfetamine  9.000930  7.520809       10.0  8.260870   \n",
            "2                  Methylphenidate  8.035687  6.030980       10.0  7.033333   \n",
            "3  Amphetamine / dextroamphetamine  9.523116  7.707653       10.0  8.615385   \n",
            "4                         Adderall  9.729389  8.088793       10.0  8.909091   \n",
            "\n",
            "   min_stars  reviews_count  \n",
            "0        1.0             28  \n",
            "1        2.0             23  \n",
            "2        1.0             30  \n",
            "3        5.0             13  \n",
            "4        7.0             11  \n",
            "          drug      high       low  max_stars      mean  min_stars  \\\n",
            "0  Liraglutide  8.346043  6.381230       10.0  7.363636        1.0   \n",
            "1    Exenatide  9.630664  6.902669       10.0  8.266667        1.0   \n",
            "2  Dulaglutide  8.061462  3.938538       10.0  6.000000        1.0   \n",
            "3    Trulicity  7.295229  2.504771        9.0  4.900000        1.0   \n",
            "4     Bydureon  8.851849  4.784515       10.0  6.818182        1.0   \n",
            "\n",
            "   reviews_count  \n",
            "0             33  \n",
            "1             15  \n",
            "2             15  \n",
            "3             10  \n",
            "4             11  \n",
            "                              drug      high       low  max_stars      mean  \\\n",
            "0                       Miconazole  3.974492  2.389145       10.0  3.181818   \n",
            "1  Monistat 3-Day Combination Pack  7.259572  1.940428       10.0  4.600000   \n",
            "2                      Fluconazole  9.941669  6.486902       10.0  8.214286   \n",
            "3                      Tioconazole  5.707326  3.484163       10.0  4.595745   \n",
            "\n",
            "   min_stars  reviews_count  \n",
            "0        1.0             66  \n",
            "1        1.0             10  \n",
            "2        1.0             14  \n",
            "3        1.0             47  \n",
            "                  drug      high       low  max_stars      mean  min_stars  \\\n",
            "0             Dulcolax  7.105351  4.624378       10.0  5.864865        1.0   \n",
            "1            Bisacodyl  8.063695  5.352972       10.0  6.708333        1.0   \n",
            "2  Magnesium hydroxide  9.816452  5.383548       10.0  7.600000        2.0   \n",
            "\n",
            "   reviews_count  \n",
            "0             37  \n",
            "1             24  \n",
            "2             10  \n",
            "        drug      high       low  max_stars      mean  min_stars  \\\n",
            "0     Abreva  8.816409  4.016924       10.0  6.416667        1.0   \n",
            "1  Docosanol  8.955811  4.135099       10.0  6.545455        1.0   \n",
            "\n",
            "   reviews_count  \n",
            "0             12  \n",
            "1             11  \n",
            "                       drug       high       low  max_stars      mean  \\\n",
            "0                  Suboxone  10.107883  8.273069       10.0  9.190476   \n",
            "1  Buprenorphine / naloxone   9.805681  7.732781       10.0  8.769231   \n",
            "\n",
            "   min_stars  reviews_count  \n",
            "0        2.0             21  \n",
            "1        1.0             26  \n",
            "         drug      high       low  max_stars      mean  min_stars  \\\n",
            "0    Losartan  7.914174  4.239672       10.0  6.076923        1.0   \n",
            "1   Nebivolol  9.890477  5.109523       10.0  7.500000        1.0   \n",
            "2  Lisinopril  8.836129  5.297205       10.0  7.066667        1.0   \n",
            "\n",
            "   reviews_count  \n",
            "0             13  \n",
            "1             10  \n",
            "2             15  \n",
            "                     drug      high       low  max_stars      mean  min_stars  \\\n",
            "0  Bupropion / naltrexone  8.151504  6.571900       10.0  7.361702        1.0   \n",
            "1                Contrave  8.103077  5.841368       10.0  6.972222        1.0   \n",
            "2             Phentermine  9.319805  7.400195       10.0  8.360000        1.0   \n",
            "3             Liraglutide  9.301562  6.277385       10.0  7.789474        1.0   \n",
            "4                 Saxenda  8.099514  5.117877       10.0  6.608696        1.0   \n",
            "\n",
            "   reviews_count  \n",
            "0             47  \n",
            "1             36  \n",
            "2             25  \n",
            "3             19  \n",
            "4             23  \n",
            "           drug      high       low  max_stars      mean  min_stars  \\\n",
            "0  Escitalopram  9.223668  7.037201       10.0  8.130435        1.0   \n",
            "1       Lexapro  9.747302  7.419364       10.0  8.583333        5.0   \n",
            "\n",
            "   reviews_count  \n",
            "0             23  \n",
            "1             12  \n",
            "          drug      high       low  max_stars      mean  min_stars  \\\n",
            "0  Benzonatate  7.265592  3.020122        9.0  5.142857        1.0   \n",
            "\n",
            "   reviews_count  \n",
            "0             14  \n",
            "       drug       high       low  max_stars      mean  min_stars  \\\n",
            "0  Fioricet  11.004841  7.358795       10.0  9.181818        1.0   \n",
            "\n",
            "   reviews_count  \n",
            "0             11  \n",
            "                                                drug      high       low  \\\n",
            "0         Polyethylene glycol 3350 with electrolytes  7.853722  4.146278   \n",
            "1                              Suprep Bowel Prep Kit  8.542685  6.519815   \n",
            "2  Magnesium sulfate / potassium sulfate / sodium...  8.771927  7.040573   \n",
            "\n",
            "   max_stars     mean  min_stars  reviews_count  \n",
            "0        9.0  6.00000        1.0             14  \n",
            "1       10.0  7.53125        1.0             32  \n",
            "2       10.0  7.90625        1.0             32  \n",
            "          drug      high       low  max_stars      mean  min_stars  \\\n",
            "0       Lyrica  9.062751  3.846340       10.0  6.454545        1.0   \n",
            "1  Milnacipran  9.385861  4.214139       10.0  6.800000        1.0   \n",
            "2   Gabapentin  9.737971  6.662029       10.0  8.200000        4.0   \n",
            "\n",
            "   reviews_count  \n",
            "0             11  \n",
            "1             10  \n",
            "2             10  \n",
            "                        drug      high       low  max_stars      mean  \\\n",
            "0  Acetaminophen / oxycodone  9.255420  5.411247       10.0  7.333333   \n",
            "1                  Oxycodone  9.648546  7.582223       10.0  8.615385   \n",
            "\n",
            "   min_stars  reviews_count  \n",
            "0        1.0             12  \n",
            "1        4.0             13  \n",
            "            drug      high       low  max_stars      mean  min_stars  \\\n",
            "0  Amitriptyline  9.392148  5.674518       10.0  7.533333        1.0   \n",
            "1     Topiramate  5.999160  3.000840        9.0  4.500000        1.0   \n",
            "2        Topamax  8.980326  5.286340       10.0  7.133333        1.0   \n",
            "\n",
            "   reviews_count  \n",
            "0             15  \n",
            "1             18  \n",
            "2             15  \n",
            "            drug      high       low  max_stars      mean  min_stars  \\\n",
            "0  Metronidazole  8.528038  6.769259       10.0  7.648649        1.0   \n",
            "\n",
            "   reviews_count  \n",
            "0             37  \n",
            "      drug      high       low  max_stars      mean  min_stars  reviews_count\n",
            "0  Tamiflu  8.902064  4.007027       10.0  6.454545        1.0             11\n",
            "                                drug      high       low  max_stars  mean  \\\n",
            "0  Ethinyl estradiol / norethindrone  7.203524  2.396476       10.0   4.8   \n",
            "\n",
            "   min_stars  reviews_count  \n",
            "0        1.0             10  \n",
            "              drug      high       low  max_stars      mean  min_stars  \\\n",
            "0   Levonorgestrel  9.430450  8.335784       10.0  8.883117        1.0   \n",
            "1  Plan B One-Step  9.868741  8.566042       10.0  9.217391        5.0   \n",
            "2           Plan B  9.863319  8.686681       10.0  9.275000        1.0   \n",
            "\n",
            "   reviews_count  \n",
            "0             77  \n",
            "1             23  \n",
            "2             40  \n",
            "         drug      high       low  max_stars      mean  min_stars  \\\n",
            "0  Diclofenac  9.822414  6.541223       10.0  8.181818        3.0   \n",
            "\n",
            "   reviews_count  \n",
            "0             11  \n",
            "                            drug       high       low  max_stars  mean  \\\n",
            "0  Aluminum chloride hexahydrate   9.941517  7.558483       10.0  8.75   \n",
            "1                      Hypercare  10.407999  8.592001       10.0  9.50   \n",
            "\n",
            "   min_stars  reviews_count  \n",
            "0        1.0             16  \n",
            "1        6.0             10  \n",
            "                            drug      high       low  max_stars      mean  \\\n",
            "0  Guaifenesin / pseudoephedrine  7.914174  4.239672       10.0  6.076923   \n",
            "\n",
            "   min_stars  reviews_count  \n",
            "0        1.0             13  \n",
            "          drug       high       low  max_stars      mean  min_stars  \\\n",
            "0  Sumatriptan   7.292106  3.136466       10.0  5.214286        1.0   \n",
            "1  Rizatriptan  10.196593  6.970074       10.0  8.583333        1.0   \n",
            "\n",
            "   reviews_count  \n",
            "0             14  \n",
            "1             12  \n",
            "                      drug      high       low  max_stars      mean  \\\n",
            "0  Ledipasvir / sofosbuvir  10.01623  8.317104       10.0  9.166667   \n",
            "\n",
            "   min_stars  reviews_count  \n",
            "0        7.0             12  \n",
            "           drug      high       low  max_stars      mean  min_stars  \\\n",
            "0  Valacyclovir  10.43393  8.280355       10.0  9.357143        3.0   \n",
            "\n",
            "   reviews_count  \n",
            "0             14  \n",
            "           drug      high       low  max_stars      mean  min_stars  \\\n",
            "0  Testosterone  8.319242  5.563111       10.0  6.941176        1.0   \n",
            "\n",
            "   reviews_count  \n",
            "0             17  \n",
            "                        drug      high       low  max_stars      mean  \\\n",
            "0  Amoxicillin / clavulanate  6.637345  2.089928       10.0  4.363636   \n",
            "\n",
            "   min_stars  reviews_count  \n",
            "0        1.0             11  \n",
            "          drug       high       low  max_stars  mean  min_stars  reviews_count\n",
            "0  Linaclotide  10.279660  6.220340       10.0  8.25        1.0             12\n",
            "1      Linzess   8.731316  4.868684       10.0  6.80        2.0             10\n",
            "             drug      high       low  max_stars  mean  min_stars  \\\n",
            "0        Macrobid  8.335939  2.264061       10.0   5.3        1.0   \n",
            "1  Nitrofurantoin  6.863613  3.336387       10.0   5.1        1.0   \n",
            "\n",
            "   reviews_count  \n",
            "0             10  \n",
            "1             20  \n",
            "          drug      high       low  max_stars      mean  min_stars  \\\n",
            "0    Bupropion  9.493869  5.233403       10.0  7.363636        1.0   \n",
            "1  Varenicline  9.367443  7.792557       10.0  8.580000        1.0   \n",
            "2      Chantix  9.792213  8.305348       10.0  9.048780        1.0   \n",
            "\n",
            "   reviews_count  \n",
            "0             11  \n",
            "1             50  \n",
            "2             41  \n",
            "       drug      high       low  max_stars      mean  min_stars  reviews_count\n",
            "0  Propofol  9.865774  6.562797       10.0  8.214286        1.0             14\n",
            "           drug      high       low  max_stars      mean  min_stars  \\\n",
            "0  Azithromycin  8.542994  4.729734       10.0  6.636364        2.0   \n",
            "\n",
            "   reviews_count  \n",
            "0             11  \n",
            "               drug       high       low  max_stars  mean  min_stars  \\\n",
            "0  Chlordiazepoxide  10.182829  9.217171       10.0   9.7        8.0   \n",
            "\n",
            "   reviews_count  \n",
            "0             10  \n",
            "          drug       high       low  max_stars  mean  min_stars  reviews_count\n",
            "0  Propranolol  10.144934  9.355066       10.0  9.75        8.0             12\n"
          ],
          "name": "stdout"
        }
      ]
    },
    {
      "metadata": {
        "id": "6-98dz5kPON4",
        "colab_type": "code",
        "colab": {
          "base_uri": "https://localhost:8080/",
          "height": 376
        },
        "outputId": "55078576-aadf-46e8-8392-9d473a025266"
      },
      "cell_type": "code",
      "source": [
        "import numpy as np\n",
        "import matplotlib.pyplot as plt\n",
        "\n",
        "\n",
        "x1 = np.linspace(0.0, 5.0)\n",
        "x2 = np.linspace(0.0, 2.0)\n",
        "\n",
        "y1 = np.cos(2 * np.pi * x1) * np.exp(-x1)\n",
        "y2 = np.cos(2 * np.pi * x2)\n",
        "\n",
        "plt.subplot(3, 1, 1)\n",
        "plt.plot(x1, y1, 'o-')\n",
        "plt.title('A tale of 2 subplots')\n",
        "plt.ylabel('Damped oscillation')\n",
        "\n",
        "plt.subplot(3, 1, 2)\n",
        "plt.plot(x2, y2, '.-')\n",
        "plt.xlabel('time (s)')\n",
        "plt.ylabel('Undamped')\n",
        "\n",
        "plt.subplot(3, 1, 3)\n",
        "plt.plot(x2, y2, '.-')\n",
        "plt.xlabel('time (s)')\n",
        "plt.ylabel('Undamped Dup')\n",
        "\n",
        "plt.show()"
      ],
      "execution_count": 175,
      "outputs": [
        {
          "output_type": "display_data",
          "data": {
            "image/png": "[encoded data removed]",
            "text/plain": [
              "<matplotlib.figure.Figure at 0x7f06acc24ba8>"
            ]
          },
          "metadata": {
            "tags": []
          }
        }
      ]
    },
    {
      "metadata": {
        "id": "WIB4rYpSSnLd",
        "colab_type": "code",
        "colab": {
          "base_uri": "https://localhost:8080/",
          "height": 627
        },
        "outputId": "3b2812f0-3793-431a-ec1d-c11ac1cd6e79"
      },
      "cell_type": "code",
      "source": [
        "ddataset = [{'A':19, 'B':39, 'C':61, 'D':70},\n",
        "           {'A':34, 'B':68, 'C':32, 'D':38},\n",
        "           {'A':35, 'B':45, 'C':66, 'D':50},\n",
        "           {'A':23, 'B':23, 'C':21, 'D':16},\n",
        "           {'A':35, 'B':45, 'C':66, 'D':50}]\n",
        "data_orders = [['A', 'B', 'C', 'D'], \n",
        "               ['B', 'A', 'C', 'D'], \n",
        "               ['A', 'B', 'D', 'C'], \n",
        "               ['B', 'A', 'C', 'D'],\n",
        "               ['A', 'B', 'C', 'D']]\n",
        "colors = [\"r\",\"g\",\"b\",\"y\"]\n",
        "names = sorted(dataset[0].keys())\n",
        "print(f'zip(dataset, data_orders): {zip(dataset, data_orders)}')\n",
        "values = np.array([[data[name] for name in order] for data,order in zip(dataset, data_orders)])\n",
        "print(f\"values: {values}\")\n",
        "lefts = np.insert(np.cumsum(values, axis=1),0,0, axis=1)[:, :-1]\n",
        "orders = np.array(data_orders)\n",
        "bottoms = np.arange(len(data_orders))\n",
        "print(f'names {names} {chr(10)}orders: {orders} bottoms: {bottoms}')\n",
        "\n",
        "for name, color in zip(names, colors):\n",
        "    idx = np.where(orders == name)\n",
        "    value = values[idx]\n",
        "    left = lefts[idx]\n",
        "    print(f'name: {name}  color: {color} left: {left} value: {value} idx: {idx}' )    \n",
        "    plt.bar(x=left, height=0.8, width=value, bottom=bottoms, \n",
        "            color=color, orientation=\"horizontal\", label=name)\n",
        "plt.yticks(bottoms+0.4, [\"data %d\" % (t+1) for t in bottoms])\n",
        "plt.legend(loc=\"best\", bbox_to_anchor=(1.0, 1.00))\n",
        "plt.subplots_adjust(right=0.85)\n",
        "plt.show()"
      ],
      "execution_count": 153,
      "outputs": [
        {
          "output_type": "stream",
          "text": [
            "zip(dataset, data_orders): <zip object at 0x7f06abb325c8>\n",
            "values: [[19 39 61 70]\n",
            " [68 34 32 38]\n",
            " [35 45 50 66]\n",
            " [23 23 21 16]\n",
            " [35 45 66 50]]\n",
            "names ['A', 'B', 'C', 'D'] \n",
            "orders: [['A' 'B' 'C' 'D']\n",
            " ['B' 'A' 'C' 'D']\n",
            " ['A' 'B' 'D' 'C']\n",
            " ['B' 'A' 'C' 'D']\n",
            " ['A' 'B' 'C' 'D']] bottoms: [0 1 2 3 4]\n",
            "name: A  color: r left: [ 0 68  0 23  0] value: [19 34 35 23 35] idx: (array([0, 1, 2, 3, 4]), array([0, 1, 0, 1, 0]))\n",
            "name: B  color: g left: [19  0 35  0 35] value: [39 68 45 23 45] idx: (array([0, 1, 2, 3, 4]), array([1, 0, 1, 0, 1]))\n",
            "name: C  color: b left: [ 58 102 130  46  80] value: [61 32 66 21 66] idx: (array([0, 1, 2, 3, 4]), array([2, 2, 3, 2, 2]))\n",
            "name: D  color: y left: [119 134  80  67 146] value: [70 38 50 16 50] idx: (array([0, 1, 2, 3, 4]), array([3, 3, 2, 3, 3]))\n"
          ],
          "name": "stdout"
        },
        {
          "output_type": "display_data",
          "data": {
            "image/png": "[encoded data removed]",
            "text/plain": [
              "<matplotlib.figure.Figure at 0x7f06aba5cf98>"
            ]
          },
          "metadata": {
            "tags": []
          }
        }
      ]
    },
    {
      "metadata": {
        "id": "YzZ50f9VH_n6",
        "colab_type": "code",
        "colab": {}
      },
      "cell_type": "code",
      "source": [
        ""
      ],
      "execution_count": 0,
      "outputs": []
    }
  ]
}