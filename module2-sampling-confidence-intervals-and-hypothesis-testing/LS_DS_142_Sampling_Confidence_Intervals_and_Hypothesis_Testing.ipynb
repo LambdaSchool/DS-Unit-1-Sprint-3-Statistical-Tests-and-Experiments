{
  "nbformat": 4,
  "nbformat_minor": 0,
  "metadata": {
    "colab": {
      "name": "LS DS 142 Sampling Confidence Intervals and Hypothesis Testing.ipynb",
      "version": "0.3.2",
      "provenance": [],
      "collapsed_sections": [],
      "include_colab_link": true
    },
    "kernelspec": {
      "name": "python3",
      "display_name": "Python 3"
    }
  },
  "cells": [
    {
      "cell_type": "markdown",
      "metadata": {
        "id": "view-in-github",
        "colab_type": "text"
      },
      "source": [
        "<a href=\"https://colab.research.google.com/github/BrianBehnke/DS-Unit-1-Sprint-4-Statistical-Tests-and-Experiments/blob/master/module2-sampling-confidence-intervals-and-hypothesis-testing/LS_DS_142_Sampling_Confidence_Intervals_and_Hypothesis_Testing.ipynb\" target=\"_parent\"><img src=\"https://colab.research.google.com/assets/colab-badge.svg\" alt=\"Open In Colab\"/></a>"
      ]
    },
    {
      "metadata": {
        "id": "838Dmw1kM2LK",
        "colab_type": "text"
      },
      "cell_type": "markdown",
      "source": [
        "# Lambda School Data Science Module 142\n",
        "## Sampling, Confidence Intervals, and Hypothesis Testing"
      ]
    },
    {
      "metadata": {
        "id": "dbcPKIo5M6Ny",
        "colab_type": "text"
      },
      "cell_type": "markdown",
      "source": [
        "## Prepare - examine other available hypothesis tests\n",
        "\n",
        "If you had to pick a single hypothesis test in your toolbox, t-test would probably be the best choice - but the good news is you don't have to pick just one! Here's some of the others to be aware of:"
      ]
    },
    {
      "metadata": {
        "id": "tlBel8j9M6tB",
        "colab_type": "code",
        "outputId": "24646251-083e-494a-b498-5416fcad7fa3",
        "colab": {
          "base_uri": "https://localhost:8080/",
          "height": 187
        }
      },
      "cell_type": "code",
      "source": [
        "import numpy as np\n",
        "from scipy.stats import chisquare  # One-way chi square test\n",
        "\n",
        "# Chi square can take any crosstab/table and test the independence of rows/cols\n",
        "# The null hypothesis is that the rows/cols are independent -> low chi square\n",
        "# The alternative is that there is a dependence -> high chi square\n",
        "# Be aware! Chi square does *not* tell you direction/causation\n",
        "\n",
        "ind_obs = np.array([[1, 1], [2, 2]]).T\n",
        "print(ind_obs)\n",
        "print(chisquare(ind_obs, axis=None))\n",
        "\n",
        "dep_obs = np.array([[16, 18, 16, 14, 12, 12], [32, 24, 16, 28, 20, 24]]).T\n",
        "print(dep_obs)\n",
        "print(chisquare(dep_obs, axis=None))"
      ],
      "execution_count": 64,
      "outputs": [
        {
          "output_type": "stream",
          "text": [
            "[[1 2]\n",
            " [1 2]]\n",
            "Power_divergenceResult(statistic=0.6666666666666666, pvalue=0.8810148425137847)\n",
            "[[16 32]\n",
            " [18 24]\n",
            " [16 16]\n",
            " [14 28]\n",
            " [12 20]\n",
            " [12 24]]\n",
            "Power_divergenceResult(statistic=23.31034482758621, pvalue=0.015975692534127565)\n"
          ],
          "name": "stdout"
        }
      ]
    },
    {
      "metadata": {
        "id": "nN0BdNiDPxbk",
        "colab_type": "code",
        "outputId": "9347cd20-1c50-4c8c-c463-aea35d9b31b1",
        "colab": {
          "base_uri": "https://localhost:8080/",
          "height": 34
        }
      },
      "cell_type": "code",
      "source": [
        "# Distribution tests:\n",
        "# We often assume that something is normal, but it can be important to *check*\n",
        "\n",
        "# For example, later on with predictive modeling, a typical assumption is that\n",
        "# residuals (prediction errors) are normal - checking is a good diagnostic\n",
        "\n",
        "from scipy.stats import normaltest\n",
        "# Poisson models arrival times and is related to the binomial (coinflip)\n",
        "sample = np.random.poisson(5, 1000)\n",
        "print(normaltest(sample))  # Pretty clearly not normal"
      ],
      "execution_count": 65,
      "outputs": [
        {
          "output_type": "stream",
          "text": [
            "NormaltestResult(statistic=60.71063067311676, pvalue=6.559248020462227e-14)\n"
          ],
          "name": "stdout"
        }
      ]
    },
    {
      "metadata": {
        "id": "P5t0WhkDReFO",
        "colab_type": "code",
        "outputId": "010f1e87-b404-417f-cea8-3e4e25af8e39",
        "colab": {
          "base_uri": "https://localhost:8080/",
          "height": 51
        }
      },
      "cell_type": "code",
      "source": [
        "# Kruskal-Wallis H-test - compare the median rank between 2+ groups\n",
        "# Can be applied to ranking decisions/outcomes/recommendations\n",
        "# The underlying math comes from chi-square distribution, and is best for n>5\n",
        "from scipy.stats import kruskal\n",
        "\n",
        "x1 = [1, 3, 5, 7, 9]\n",
        "y1 = [2, 4, 6, 8, 10]\n",
        "print(kruskal(x1, y1))  # x1 is a little better, but not \"significantly\" so\n",
        "\n",
        "x2 = [1, 1, 1]\n",
        "y2 = [2, 2, 2]\n",
        "z = [2, 2]  # Hey, a third group, and of different size!\n",
        "print(kruskal(x2, y2, z))  # x clearly dominates"
      ],
      "execution_count": 66,
      "outputs": [
        {
          "output_type": "stream",
          "text": [
            "KruskalResult(statistic=0.2727272727272734, pvalue=0.6015081344405895)\n",
            "KruskalResult(statistic=7.0, pvalue=0.0301973834223185)\n"
          ],
          "name": "stdout"
        }
      ]
    },
    {
      "metadata": {
        "id": "7pT3IP36Rh0b",
        "colab_type": "text"
      },
      "cell_type": "markdown",
      "source": [
        "And there's many more! `scipy.stats` is fairly comprehensive, though there are even more available if you delve into the extended world of statistics packages. As tests get increasingly obscure and specialized, the importance of knowing them by heart becomes small - but being able to look them up and figure them out when they *are* relevant is still important."
      ]
    },
    {
      "metadata": {
        "id": "L1_KRuHCM7BW",
        "colab_type": "text"
      },
      "cell_type": "markdown",
      "source": [
        "## Live Lecture - let's explore some more of scipy.stats"
      ]
    },
    {
      "metadata": {
        "id": "qW6k0dorM7Lz",
        "colab_type": "code",
        "colab": {}
      },
      "cell_type": "code",
      "source": [
        "# Taking requests! Come to lecture with a topic or problem and we'll try it."
      ],
      "execution_count": 0,
      "outputs": []
    },
    {
      "metadata": {
        "id": "11OzdxWTM7UR",
        "colab_type": "text"
      },
      "cell_type": "markdown",
      "source": [
        "## Assignment - Build a confidence interval\n",
        "\n",
        "A confidence interval refers to a neighborhood around some point estimate, the size of which is determined by the desired p-value. For instance, we might say that 52% of Americans prefer tacos to burritos, with a 95% confidence interval of +/- 5%.\n",
        "\n",
        "52% (0.52) is the point estimate, and +/- 5% (the interval $[0.47, 0.57]$) is the confidence interval. \"95% confidence\" means a p-value $\\leq 1 - 0.95 = 0.05$.\n",
        "\n",
        "In this case, the confidence interval includes $0.5$ - which is the natural null hypothesis (that half of Americans prefer tacos and half burritos, thus there is no clear favorite). So in this case, we could use the confidence interval to report that we've failed to reject the null hypothesis.\n",
        "\n",
        "But providing the full analysis with a confidence interval, including a graphical representation of it, can be a helpful and powerful way to tell your story. Done well, it is also more intuitive to a layperson than simply saying \"fail to reject the null hypothesis\" - it shows that in fact the data does *not* give a single clear result (the point estimate) but a whole range of possibilities.\n",
        "\n",
        "How is a confidence interval built, and how should it be interpreted? It does *not* mean that 95% of the data lies in that interval - instead, the frequentist interpretation is \"if we were to repeat this experiment 100 times, we would expect the average result to lie in this interval ~95 times.\"\n",
        "\n",
        "For a 95% confidence interval and a normal(-ish) distribution, you can simply remember that +/-2 standard deviations contains 95% of the probability mass, and so the 95% confidence interval based on a given sample is centered at the mean (point estimate) and has a range of +/- 2 (or technically 1.96) standard deviations.\n",
        "\n",
        "Different distributions/assumptions (90% confidence, 99% confidence) will require different math, but the overall process and interpretation (with a frequentist approach) will be the same.\n",
        "\n",
        "Your assignment - using the data from the prior module ([congressional voting records](https://archive.ics.uci.edu/ml/datasets/Congressional+Voting+Records)):\n",
        "\n",
        "1. Generate and numerically represent a confidence interval\n",
        "2. Graphically (with a plot) represent the confidence interval\n",
        "3. Interpret the confidence interval - what does it tell you about the data and its distribution?\n",
        "\n",
        "Stretch goals:\n",
        "\n",
        "1. Write a summary of your findings, mixing prose and math/code/results. *Note* - yes, this is by definition a political topic. It is challenging but important to keep your writing voice *neutral* and stick to the facts of the data. Data science often involves considering controversial issues, so it's important to be sensitive about them (especially if you want to publish).\n",
        "2. Apply the techniques you learned today to your project data or other data of your choice, and write/discuss your findings here."
      ]
    },
    {
      "metadata": {
        "id": "Ckcr4A4FM7cs",
        "colab_type": "code",
        "colab": {
          "base_uri": "https://localhost:8080/",
          "height": 204
        },
        "outputId": "b49afa41-0755-413b-fb1b-af30edc0f962"
      },
      "cell_type": "code",
      "source": [
        "# Getting started with drug data\n",
        "# http://archive.ics.uci.edu/ml/datasets/Drug+Review+Dataset+%28Drugs.com%29\n",
        "\n",
        "!wget http://archive.ics.uci.edu/ml/machine-learning-databases/00462/drugsCom_raw.zip"
      ],
      "execution_count": 1,
      "outputs": [
        {
          "output_type": "stream",
          "text": [
            "--2018-12-05 14:31:54--  http://archive.ics.uci.edu/ml/machine-learning-databases/00462/drugsCom_raw.zip\n",
            "Resolving archive.ics.uci.edu (archive.ics.uci.edu)... 128.195.10.249\n",
            "Connecting to archive.ics.uci.edu (archive.ics.uci.edu)|128.195.10.249|:80... connected.\n",
            "HTTP request sent, awaiting response... 200 OK\n",
            "Length: 42989872 (41M) [application/zip]\n",
            "Saving to: ‘drugsCom_raw.zip.1’\n",
            "\n",
            "drugsCom_raw.zip.1  100%[===================>]  41.00M  22.9MB/s    in 1.8s    \n",
            "\n",
            "2018-12-05 14:31:56 (22.9 MB/s) - ‘drugsCom_raw.zip.1’ saved [42989872/42989872]\n",
            "\n"
          ],
          "name": "stdout"
        }
      ]
    },
    {
      "metadata": {
        "id": "xsni7gKU0UvV",
        "colab_type": "code",
        "colab": {
          "base_uri": "https://localhost:8080/",
          "height": 292
        },
        "outputId": "a09715ca-69a0-4e98-f373-61748b828d12"
      },
      "cell_type": "code",
      "source": [
        "!unzip drugsCom_raw.zip\n",
        "!head drugsComTrain_raw.tsv"
      ],
      "execution_count": 2,
      "outputs": [
        {
          "output_type": "stream",
          "text": [
            "Archive:  drugsCom_raw.zip\n",
            "replace drugsComTest_raw.tsv? [y]es, [n]o, [A]ll, [N]one, [r]ename: y\n",
            "  inflating: drugsComTest_raw.tsv    \n",
            "replace drugsComTrain_raw.tsv? [y]es, [n]o, [A]ll, [N]one, [r]ename: y\n",
            "  inflating: drugsComTrain_raw.tsv   \n",
            "\tdrugName\tcondition\treview\trating\tdate\tusefulCount\n",
            "206461\tValsartan\tLeft Ventricular Dysfunction\t\"\"\"It has no side effect, I take it in combination of Bystolic 5 Mg and Fish Oil\"\"\"\t9.0\tMay 20, 2012\t27\n",
            "95260\tGuanfacine\tADHD\t\"\"\"My son is halfway through his fourth week of Intuniv. We became concerned when he began this last week, when he started taking the highest dose he will be on. For two days, he could hardly get out of bed, was very cranky, and slept for nearly 8 hours on a drive home from school vacation (very unusual for him.) I called his doctor on Monday morning and she said to stick it out a few days. See how he did at school, and with getting up in the morning. The last two days have been problem free. He is MUCH more agreeable than ever. He is less emotional (a good thing), less cranky. He is remembering all the things he should. Overall his behavior is better. \n",
            "We have tried many different medications and so far this is the most effective.\"\"\"\t8.0\tApril 27, 2010\t192\n",
            "92703\tLybrel\tBirth Control\t\"\"\"I used to take another oral contraceptive, which had 21 pill cycle, and was very happy- very light periods, max 5 days, no other side effects. But it contained hormone gestodene, which is not available in US, so I switched to Lybrel, because the ingredients are similar. When my other pills ended, I started Lybrel immediately, on my first day of period, as the instructions said. And the period lasted for two weeks. When taking the second pack- same two weeks. And now, with third pack things got even worse- my third period lasted for two weeks and now it&#039;s the end of the third week- I still have daily brown discharge.\n",
            "The positive side is that I didn&#039;t have any other side effects. The idea of being period free was so tempting... Alas.\"\"\"\t5.0\tDecember 14, 2009\t17\n",
            "138000\tOrtho Evra\tBirth Control\t\"\"\"This is my first time using any form of birth control. I&#039;m glad I went with the patch, I have been on it for 8 months. At first It decreased my libido but that subsided. The only downside is that it made my periods longer (5-6 days to be exact) I used to only have periods for 3-4 days max also made my cramps intense for the first two days of my period, I never had cramps before using birth control. Other than that in happy with the patch\"\"\"\t8.0\tNovember 3, 2015\t10\n",
            "35696\tBuprenorphine / naloxone\tOpiate Dependence\t\"\"\"Suboxone has completely turned my life around.  I feel healthier, I&#039;m excelling at my job and I always have money in my pocket and my savings account.  I had none of those before Suboxone and spent years abusing oxycontin.  My paycheck was already spent by the time I got it and I started resorting to scheming and stealing to fund my addiction.  All that is history.  If you&#039;re ready to stop, there&#039;s a good chance that suboxone will put you on the path of great life again.  I have found the side-effects to be minimal compared to oxycontin.  I&#039;m actually sleeping better.   Slight constipation is about it for me.  It truly is amazing. The cost pales in comparison to what I spent on oxycontin.\"\"\"\t9.0\tNovember 27, 2016\t37\n",
            "155963\tCialis\tBenign Prostatic Hyperplasia\t\"\"\"2nd day on 5mg started to work with rock hard erections however experianced headache, lower bowel preassure. 3rd day erections would wake me up &amp; hurt! Leg/ankles aches   severe lower bowel preassure like you need to go #2 but can&#039;t! Enjoyed the initial rockhard erections but not at these side effects or $230 for months supply! I&#039;m 50 &amp; work out 3Xs a week. Not worth side effects!\"\"\"\t2.0\tNovember 28, 2015\t43\n",
            "165907\tLevonorgestrel\tEmergency Contraception\t\"\"\"He pulled out, but he cummed a bit in me. I took the Plan B 26 hours later, and took a pregnancy test two weeks later - - I&#039;m pregnant.\"\"\"\t1.0\tMarch 7, 2017\t5\n"
          ],
          "name": "stdout"
        }
      ]
    },
    {
      "metadata": {
        "id": "hd2z745wRPNt",
        "colab_type": "code",
        "colab": {
          "base_uri": "https://localhost:8080/",
          "height": 306
        },
        "outputId": "2297cdb6-3c8f-464b-9601-2caa13819a9e"
      },
      "cell_type": "code",
      "source": [
        "!pip install --upgrade seaborn"
      ],
      "execution_count": 4,
      "outputs": [
        {
          "output_type": "stream",
          "text": [
            "Collecting seaborn\n",
            "\u001b[?25l  Downloading https://files.pythonhosted.org/packages/a8/76/220ba4420459d9c4c9c9587c6ce607bf56c25b3d3d2de62056efe482dadc/seaborn-0.9.0-py3-none-any.whl (208kB)\n",
            "\r\u001b[K    4% |█▋                              | 10kB 17.9MB/s eta 0:00:01\r\u001b[K    9% |███▏                            | 20kB 3.3MB/s eta 0:00:01\r\u001b[K    14% |████▊                           | 30kB 4.7MB/s eta 0:00:01\r\u001b[K    19% |██████▎                         | 40kB 3.1MB/s eta 0:00:01\r\u001b[K    24% |███████▉                        | 51kB 3.8MB/s eta 0:00:01\r\u001b[K    29% |█████████▌                      | 61kB 4.5MB/s eta 0:00:01\r\u001b[K    34% |███████████                     | 71kB 5.0MB/s eta 0:00:01\r\u001b[K    39% |████████████▋                   | 81kB 5.7MB/s eta 0:00:01\r\u001b[K    44% |██████████████▏                 | 92kB 6.3MB/s eta 0:00:01\r\u001b[K    49% |███████████████▊                | 102kB 5.0MB/s eta 0:00:01\r\u001b[K    54% |█████████████████▎              | 112kB 5.0MB/s eta 0:00:01\r\u001b[K    59% |███████████████████             | 122kB 6.8MB/s eta 0:00:01\r\u001b[K    63% |████████████████████▌           | 133kB 6.7MB/s eta 0:00:01\r\u001b[K    68% |██████████████████████          | 143kB 11.8MB/s eta 0:00:01\r\u001b[K    73% |███████████████████████▋        | 153kB 12.0MB/s eta 0:00:01\r\u001b[K    78% |█████████████████████████▏      | 163kB 12.0MB/s eta 0:00:01\r\u001b[K    83% |██████████████████████████▊     | 174kB 12.2MB/s eta 0:00:01\r\u001b[K    88% |████████████████████████████▍   | 184kB 12.3MB/s eta 0:00:01\r\u001b[K    93% |██████████████████████████████  | 194kB 12.3MB/s eta 0:00:01\r\u001b[K    98% |███████████████████████████████▌| 204kB 39.4MB/s eta 0:00:01\r\u001b[K    100% |████████████████████████████████| 215kB 25.3MB/s \n",
            "\u001b[?25hRequirement already satisfied, skipping upgrade: numpy>=1.9.3 in /usr/local/lib/python3.6/dist-packages (from seaborn) (1.14.6)\n",
            "Requirement already satisfied, skipping upgrade: pandas>=0.15.2 in /usr/local/lib/python3.6/dist-packages (from seaborn) (0.22.0)\n",
            "Requirement already satisfied, skipping upgrade: scipy>=0.14.0 in /usr/local/lib/python3.6/dist-packages (from seaborn) (1.1.0)\n",
            "Requirement already satisfied, skipping upgrade: matplotlib>=1.4.3 in /usr/local/lib/python3.6/dist-packages (from seaborn) (2.1.2)\n",
            "Requirement already satisfied, skipping upgrade: python-dateutil>=2 in /usr/local/lib/python3.6/dist-packages (from pandas>=0.15.2->seaborn) (2.5.3)\n",
            "Requirement already satisfied, skipping upgrade: pytz>=2011k in /usr/local/lib/python3.6/dist-packages (from pandas>=0.15.2->seaborn) (2018.7)\n",
            "Requirement already satisfied, skipping upgrade: six>=1.10 in /usr/local/lib/python3.6/dist-packages (from matplotlib>=1.4.3->seaborn) (1.11.0)\n",
            "Requirement already satisfied, skipping upgrade: pyparsing!=2.0.4,!=2.1.2,!=2.1.6,>=2.0.1 in /usr/local/lib/python3.6/dist-packages (from matplotlib>=1.4.3->seaborn) (2.3.0)\n",
            "Requirement already satisfied, skipping upgrade: cycler>=0.10 in /usr/local/lib/python3.6/dist-packages (from matplotlib>=1.4.3->seaborn) (0.10.0)\n",
            "Installing collected packages: seaborn\n",
            "  Found existing installation: seaborn 0.7.1\n",
            "    Uninstalling seaborn-0.7.1:\n",
            "      Successfully uninstalled seaborn-0.7.1\n",
            "Successfully installed seaborn-0.9.0\n"
          ],
          "name": "stdout"
        }
      ]
    },
    {
      "metadata": {
        "id": "KIjSoHaQSMIh",
        "colab_type": "code",
        "colab": {
          "base_uri": "https://localhost:8080/",
          "height": 34
        },
        "outputId": "15261faf-148d-4d76-c532-9d7180a3edb5"
      },
      "cell_type": "code",
      "source": [
        "import seaborn as sns\n",
        "sns.__version__"
      ],
      "execution_count": 3,
      "outputs": [
        {
          "output_type": "execute_result",
          "data": {
            "text/plain": [
              "'0.9.0'"
            ]
          },
          "metadata": {
            "tags": []
          },
          "execution_count": 3
        }
      ]
    },
    {
      "metadata": {
        "id": "FYan_xKn0Zuc",
        "colab_type": "code",
        "colab": {
          "base_uri": "https://localhost:8080/",
          "height": 204
        },
        "outputId": "e49ca879-1066-403e-89dc-2e03bb89dea1"
      },
      "cell_type": "code",
      "source": [
        "import pandas as pd\n",
        "import numpy as np\n",
        "import matplotlib.pyplot as plt\n",
        "\n",
        "df = pd.read_table('drugsComTrain_raw.tsv')\n",
        "df.head()"
      ],
      "execution_count": 7,
      "outputs": [
        {
          "output_type": "execute_result",
          "data": {
            "text/html": [
              "<div>\n",
              "<style scoped>\n",
              "    .dataframe tbody tr th:only-of-type {\n",
              "        vertical-align: middle;\n",
              "    }\n",
              "\n",
              "    .dataframe tbody tr th {\n",
              "        vertical-align: top;\n",
              "    }\n",
              "\n",
              "    .dataframe thead th {\n",
              "        text-align: right;\n",
              "    }\n",
              "</style>\n",
              "<table border=\"1\" class=\"dataframe\">\n",
              "  <thead>\n",
              "    <tr style=\"text-align: right;\">\n",
              "      <th></th>\n",
              "      <th>Unnamed: 0</th>\n",
              "      <th>drugName</th>\n",
              "      <th>condition</th>\n",
              "      <th>review</th>\n",
              "      <th>rating</th>\n",
              "      <th>date</th>\n",
              "      <th>usefulCount</th>\n",
              "    </tr>\n",
              "  </thead>\n",
              "  <tbody>\n",
              "    <tr>\n",
              "      <th>0</th>\n",
              "      <td>206461</td>\n",
              "      <td>Valsartan</td>\n",
              "      <td>Left Ventricular Dysfunction</td>\n",
              "      <td>\"It has no side effect, I take it in combinati...</td>\n",
              "      <td>9.0</td>\n",
              "      <td>May 20, 2012</td>\n",
              "      <td>27</td>\n",
              "    </tr>\n",
              "    <tr>\n",
              "      <th>1</th>\n",
              "      <td>95260</td>\n",
              "      <td>Guanfacine</td>\n",
              "      <td>ADHD</td>\n",
              "      <td>\"My son is halfway through his fourth week of ...</td>\n",
              "      <td>8.0</td>\n",
              "      <td>April 27, 2010</td>\n",
              "      <td>192</td>\n",
              "    </tr>\n",
              "    <tr>\n",
              "      <th>2</th>\n",
              "      <td>92703</td>\n",
              "      <td>Lybrel</td>\n",
              "      <td>Birth Control</td>\n",
              "      <td>\"I used to take another oral contraceptive, wh...</td>\n",
              "      <td>5.0</td>\n",
              "      <td>December 14, 2009</td>\n",
              "      <td>17</td>\n",
              "    </tr>\n",
              "    <tr>\n",
              "      <th>3</th>\n",
              "      <td>138000</td>\n",
              "      <td>Ortho Evra</td>\n",
              "      <td>Birth Control</td>\n",
              "      <td>\"This is my first time using any form of birth...</td>\n",
              "      <td>8.0</td>\n",
              "      <td>November 3, 2015</td>\n",
              "      <td>10</td>\n",
              "    </tr>\n",
              "    <tr>\n",
              "      <th>4</th>\n",
              "      <td>35696</td>\n",
              "      <td>Buprenorphine / naloxone</td>\n",
              "      <td>Opiate Dependence</td>\n",
              "      <td>\"Suboxone has completely turned my life around...</td>\n",
              "      <td>9.0</td>\n",
              "      <td>November 27, 2016</td>\n",
              "      <td>37</td>\n",
              "    </tr>\n",
              "  </tbody>\n",
              "</table>\n",
              "</div>"
            ],
            "text/plain": [
              "   Unnamed: 0                  drugName                     condition  \\\n",
              "0      206461                 Valsartan  Left Ventricular Dysfunction   \n",
              "1       95260                Guanfacine                          ADHD   \n",
              "2       92703                    Lybrel                 Birth Control   \n",
              "3      138000                Ortho Evra                 Birth Control   \n",
              "4       35696  Buprenorphine / naloxone             Opiate Dependence   \n",
              "\n",
              "                                              review  rating  \\\n",
              "0  \"It has no side effect, I take it in combinati...     9.0   \n",
              "1  \"My son is halfway through his fourth week of ...     8.0   \n",
              "2  \"I used to take another oral contraceptive, wh...     5.0   \n",
              "3  \"This is my first time using any form of birth...     8.0   \n",
              "4  \"Suboxone has completely turned my life around...     9.0   \n",
              "\n",
              "                date  usefulCount  \n",
              "0       May 20, 2012           27  \n",
              "1     April 27, 2010          192  \n",
              "2  December 14, 2009           17  \n",
              "3   November 3, 2015           10  \n",
              "4  November 27, 2016           37  "
            ]
          },
          "metadata": {
            "tags": []
          },
          "execution_count": 7
        }
      ]
    },
    {
      "metadata": {
        "id": "J8-H9m2w1HP7",
        "colab_type": "code",
        "colab": {
          "base_uri": "https://localhost:8080/",
          "height": 204
        },
        "outputId": "37a856bc-e942-4516-bf3c-17b54fe90337"
      },
      "cell_type": "code",
      "source": [
        "data2 = df.rename(columns={'Unnamed: 0': 'id'})\n",
        "data = data2.drop(['id', 'condition', 'review', 'date'], axis=1)\n",
        "data.head()"
      ],
      "execution_count": 8,
      "outputs": [
        {
          "output_type": "execute_result",
          "data": {
            "text/html": [
              "<div>\n",
              "<style scoped>\n",
              "    .dataframe tbody tr th:only-of-type {\n",
              "        vertical-align: middle;\n",
              "    }\n",
              "\n",
              "    .dataframe tbody tr th {\n",
              "        vertical-align: top;\n",
              "    }\n",
              "\n",
              "    .dataframe thead th {\n",
              "        text-align: right;\n",
              "    }\n",
              "</style>\n",
              "<table border=\"1\" class=\"dataframe\">\n",
              "  <thead>\n",
              "    <tr style=\"text-align: right;\">\n",
              "      <th></th>\n",
              "      <th>drugName</th>\n",
              "      <th>rating</th>\n",
              "      <th>usefulCount</th>\n",
              "    </tr>\n",
              "  </thead>\n",
              "  <tbody>\n",
              "    <tr>\n",
              "      <th>0</th>\n",
              "      <td>Valsartan</td>\n",
              "      <td>9.0</td>\n",
              "      <td>27</td>\n",
              "    </tr>\n",
              "    <tr>\n",
              "      <th>1</th>\n",
              "      <td>Guanfacine</td>\n",
              "      <td>8.0</td>\n",
              "      <td>192</td>\n",
              "    </tr>\n",
              "    <tr>\n",
              "      <th>2</th>\n",
              "      <td>Lybrel</td>\n",
              "      <td>5.0</td>\n",
              "      <td>17</td>\n",
              "    </tr>\n",
              "    <tr>\n",
              "      <th>3</th>\n",
              "      <td>Ortho Evra</td>\n",
              "      <td>8.0</td>\n",
              "      <td>10</td>\n",
              "    </tr>\n",
              "    <tr>\n",
              "      <th>4</th>\n",
              "      <td>Buprenorphine / naloxone</td>\n",
              "      <td>9.0</td>\n",
              "      <td>37</td>\n",
              "    </tr>\n",
              "  </tbody>\n",
              "</table>\n",
              "</div>"
            ],
            "text/plain": [
              "                   drugName  rating  usefulCount\n",
              "0                 Valsartan     9.0           27\n",
              "1                Guanfacine     8.0          192\n",
              "2                    Lybrel     5.0           17\n",
              "3                Ortho Evra     8.0           10\n",
              "4  Buprenorphine / naloxone     9.0           37"
            ]
          },
          "metadata": {
            "tags": []
          },
          "execution_count": 8
        }
      ]
    },
    {
      "metadata": {
        "id": "7PKKmjpa3WRH",
        "colab_type": "code",
        "colab": {
          "base_uri": "https://localhost:8080/",
          "height": 1071
        },
        "outputId": "d5da4750-badb-4aba-d684-33af7085aa28"
      },
      "cell_type": "code",
      "source": [
        "pd.value_counts(data['drugName'].values)"
      ],
      "execution_count": 10,
      "outputs": [
        {
          "output_type": "execute_result",
          "data": {
            "text/plain": [
              "Levonorgestrel                           3657\n",
              "Etonogestrel                             3336\n",
              "Ethinyl estradiol / norethindrone        2850\n",
              "Nexplanon                                2156\n",
              "Ethinyl estradiol / norgestimate         2117\n",
              "Ethinyl estradiol / levonorgestrel       1888\n",
              "Phentermine                              1543\n",
              "Sertraline                               1360\n",
              "Escitalopram                             1292\n",
              "Mirena                                   1242\n",
              "Implanon                                 1102\n",
              "Gabapentin                               1047\n",
              "Bupropion                                1022\n",
              "Venlafaxine                              1016\n",
              "Miconazole                               1000\n",
              "Medroxyprogesterone                       995\n",
              "Citalopram                                995\n",
              "Lexapro                                   952\n",
              "Bupropion / naltrexone                    950\n",
              "Duloxetine                                934\n",
              "Metronidazole                             922\n",
              "Contrave                                  920\n",
              "Drospirenone / ethinyl estradiol          890\n",
              "Depo-Provera                              882\n",
              "Cymbalta                                  864\n",
              "Clonazepam                                831\n",
              "Quetiapine                                831\n",
              "Skyla                                     824\n",
              "Tramadol                                  820\n",
              "Zoloft                                    805\n",
              "                                         ... \n",
              "DDAVP Nasal                                 1\n",
              "Lillow                                      1\n",
              "Cladribine                                  1\n",
              "Canasa Pac                                  1\n",
              "Corzide 80 / 5                              1\n",
              "Epivir-HBV                                  1\n",
              "Lorabid                                     1\n",
              "Cefazolin                                   1\n",
              "Schiff Move Free                            1\n",
              "ReliOn / Novolin 70 / 30                    1\n",
              "Pro-Den Rx                                  1\n",
              "T-Diet                                      1\n",
              "Acyclovir / hydrocortisone                  1\n",
              "Calamine                                    1\n",
              "Excedrin Back & Body                        1\n",
              "Calcium acetate                             1\n",
              "Midostaurin                                 1\n",
              "Fletchers Castoria                          1\n",
              "Acetaminophen / pamabrom / pyrilamine       1\n",
              "Rayaldee                                    1\n",
              "Dehydroepiandrosterone                      1\n",
              "Drixoral Cold / Flu                         1\n",
              "Ponatinib                                   1\n",
              "Vancocin                                    1\n",
              "Sucroferric oxyhydroxide                    1\n",
              "Pedipirox-4                                 1\n",
              "Spectracef                                  1\n",
              "Rogaine Men's Extra Strength                1\n",
              "Fostex Medicated                            1\n",
              "RID                                         1\n",
              "Length: 3436, dtype: int64"
            ]
          },
          "metadata": {
            "tags": []
          },
          "execution_count": 10
        }
      ]
    },
    {
      "metadata": {
        "id": "9zjnfv3s-iCo",
        "colab_type": "code",
        "colab": {
          "base_uri": "https://localhost:8080/",
          "height": 297
        },
        "outputId": "e69f2d10-f87c-4364-dfbf-3ac03ced4e5a"
      },
      "cell_type": "code",
      "source": [
        "onehundreddata = data.head(100)\n",
        "onehundreddata.describe()"
      ],
      "execution_count": 11,
      "outputs": [
        {
          "output_type": "execute_result",
          "data": {
            "text/html": [
              "<div>\n",
              "<style scoped>\n",
              "    .dataframe tbody tr th:only-of-type {\n",
              "        vertical-align: middle;\n",
              "    }\n",
              "\n",
              "    .dataframe tbody tr th {\n",
              "        vertical-align: top;\n",
              "    }\n",
              "\n",
              "    .dataframe thead th {\n",
              "        text-align: right;\n",
              "    }\n",
              "</style>\n",
              "<table border=\"1\" class=\"dataframe\">\n",
              "  <thead>\n",
              "    <tr style=\"text-align: right;\">\n",
              "      <th></th>\n",
              "      <th>rating</th>\n",
              "      <th>usefulCount</th>\n",
              "    </tr>\n",
              "  </thead>\n",
              "  <tbody>\n",
              "    <tr>\n",
              "      <th>count</th>\n",
              "      <td>100.000000</td>\n",
              "      <td>100.000000</td>\n",
              "    </tr>\n",
              "    <tr>\n",
              "      <th>mean</th>\n",
              "      <td>6.930000</td>\n",
              "      <td>28.230000</td>\n",
              "    </tr>\n",
              "    <tr>\n",
              "      <th>std</th>\n",
              "      <td>3.245058</td>\n",
              "      <td>36.477156</td>\n",
              "    </tr>\n",
              "    <tr>\n",
              "      <th>min</th>\n",
              "      <td>1.000000</td>\n",
              "      <td>0.000000</td>\n",
              "    </tr>\n",
              "    <tr>\n",
              "      <th>25%</th>\n",
              "      <td>4.000000</td>\n",
              "      <td>7.000000</td>\n",
              "    </tr>\n",
              "    <tr>\n",
              "      <th>50%</th>\n",
              "      <td>8.000000</td>\n",
              "      <td>15.000000</td>\n",
              "    </tr>\n",
              "    <tr>\n",
              "      <th>75%</th>\n",
              "      <td>10.000000</td>\n",
              "      <td>35.250000</td>\n",
              "    </tr>\n",
              "    <tr>\n",
              "      <th>max</th>\n",
              "      <td>10.000000</td>\n",
              "      <td>192.000000</td>\n",
              "    </tr>\n",
              "  </tbody>\n",
              "</table>\n",
              "</div>"
            ],
            "text/plain": [
              "           rating  usefulCount\n",
              "count  100.000000   100.000000\n",
              "mean     6.930000    28.230000\n",
              "std      3.245058    36.477156\n",
              "min      1.000000     0.000000\n",
              "25%      4.000000     7.000000\n",
              "50%      8.000000    15.000000\n",
              "75%     10.000000    35.250000\n",
              "max     10.000000   192.000000"
            ]
          },
          "metadata": {
            "tags": []
          },
          "execution_count": 11
        }
      ]
    },
    {
      "metadata": {
        "id": "v-hF1Ce6JpnS",
        "colab_type": "code",
        "colab": {
          "base_uri": "https://localhost:8080/",
          "height": 297
        },
        "outputId": "f7d6ea38-f112-46cf-8adf-22405a3629c0"
      },
      "cell_type": "code",
      "source": [
        "onedrugdata = data.query('drugName == \"Levonorgestrel\"')\n",
        "onedrugdata.describe()"
      ],
      "execution_count": 12,
      "outputs": [
        {
          "output_type": "execute_result",
          "data": {
            "text/html": [
              "<div>\n",
              "<style scoped>\n",
              "    .dataframe tbody tr th:only-of-type {\n",
              "        vertical-align: middle;\n",
              "    }\n",
              "\n",
              "    .dataframe tbody tr th {\n",
              "        vertical-align: top;\n",
              "    }\n",
              "\n",
              "    .dataframe thead th {\n",
              "        text-align: right;\n",
              "    }\n",
              "</style>\n",
              "<table border=\"1\" class=\"dataframe\">\n",
              "  <thead>\n",
              "    <tr style=\"text-align: right;\">\n",
              "      <th></th>\n",
              "      <th>rating</th>\n",
              "      <th>usefulCount</th>\n",
              "    </tr>\n",
              "  </thead>\n",
              "  <tbody>\n",
              "    <tr>\n",
              "      <th>count</th>\n",
              "      <td>3657.000000</td>\n",
              "      <td>3657.000000</td>\n",
              "    </tr>\n",
              "    <tr>\n",
              "      <th>mean</th>\n",
              "      <td>7.391031</td>\n",
              "      <td>10.054416</td>\n",
              "    </tr>\n",
              "    <tr>\n",
              "      <th>std</th>\n",
              "      <td>3.130234</td>\n",
              "      <td>26.885985</td>\n",
              "    </tr>\n",
              "    <tr>\n",
              "      <th>min</th>\n",
              "      <td>1.000000</td>\n",
              "      <td>0.000000</td>\n",
              "    </tr>\n",
              "    <tr>\n",
              "      <th>25%</th>\n",
              "      <td>5.000000</td>\n",
              "      <td>2.000000</td>\n",
              "    </tr>\n",
              "    <tr>\n",
              "      <th>50%</th>\n",
              "      <td>9.000000</td>\n",
              "      <td>5.000000</td>\n",
              "    </tr>\n",
              "    <tr>\n",
              "      <th>75%</th>\n",
              "      <td>10.000000</td>\n",
              "      <td>11.000000</td>\n",
              "    </tr>\n",
              "    <tr>\n",
              "      <th>max</th>\n",
              "      <td>10.000000</td>\n",
              "      <td>1247.000000</td>\n",
              "    </tr>\n",
              "  </tbody>\n",
              "</table>\n",
              "</div>"
            ],
            "text/plain": [
              "            rating  usefulCount\n",
              "count  3657.000000  3657.000000\n",
              "mean      7.391031    10.054416\n",
              "std       3.130234    26.885985\n",
              "min       1.000000     0.000000\n",
              "25%       5.000000     2.000000\n",
              "50%       9.000000     5.000000\n",
              "75%      10.000000    11.000000\n",
              "max      10.000000  1247.000000"
            ]
          },
          "metadata": {
            "tags": []
          },
          "execution_count": 12
        }
      ]
    },
    {
      "metadata": {
        "id": "4Dysvull6OCJ",
        "colab_type": "code",
        "colab": {
          "base_uri": "https://localhost:8080/",
          "height": 170
        },
        "outputId": "0ac63a95-0e8d-46e2-92aa-49e3fcc5aed8"
      },
      "cell_type": "code",
      "source": [
        "data['rating'].describe()"
      ],
      "execution_count": 13,
      "outputs": [
        {
          "output_type": "execute_result",
          "data": {
            "text/plain": [
              "count    161297.000000\n",
              "mean          6.994377\n",
              "std           3.272329\n",
              "min           1.000000\n",
              "25%           5.000000\n",
              "50%           8.000000\n",
              "75%          10.000000\n",
              "max          10.000000\n",
              "Name: rating, dtype: float64"
            ]
          },
          "metadata": {
            "tags": []
          },
          "execution_count": 13
        }
      ]
    },
    {
      "metadata": {
        "id": "oWHelRlJ1Ul7",
        "colab_type": "text"
      },
      "cell_type": "markdown",
      "source": [
        "Testing after here"
      ]
    },
    {
      "metadata": {
        "id": "oeMDlB9s0j3N",
        "colab_type": "code",
        "colab": {}
      },
      "cell_type": "code",
      "source": [
        "from scipy import stats\n",
        "\n",
        "def confidence_interval(datas, confidence=0.95):\n",
        "  \"\"\"\n",
        "  Calculate a confidence interval around a sample mean for given data.\n",
        "  Using t-distribution and two-tailed test, default 95% confidence. \n",
        "  \n",
        "  Arguments:\n",
        "    data - iterable (list or numpy array) of sample observations\n",
        "    confidence - level of confidence for the interval\n",
        "  \n",
        "  Returns:\n",
        "    tuple of (mean, lower bound, upper bound)\n",
        "  \"\"\"\n",
        "  datas = np.array(datas)\n",
        "  mean = np.mean(datas)\n",
        "  n = len(datas)\n",
        "  stderr = stats.sem(datas)\n",
        "  interval = stderr * stats.t.ppf((1 + confidence) / 2., n - 1)\n",
        "  return (mean, mean - interval, mean + interval)\n",
        "\n",
        "def report_confidence_interval(confidence_interval):\n",
        "  \"\"\"\n",
        "  Return a string with a pretty report of a confidence interval.\n",
        "  \n",
        "  Arguments:\n",
        "    confidence_interval - tuple of (mean, lower bound, upper bound)\n",
        "  \n",
        "  Returns:\n",
        "    None, but prints to screen the report\n",
        "  \"\"\"\n",
        "  #print('Mean: {}'.format(confidence_interval[0]))\n",
        "  #print('Lower bound: {}'.format(confidence_interval[1]))\n",
        "  #print('Upper bound: {}'.format(confidence_interval[2]))\n",
        "  s = \"our mean lies in the interval {:.3}, {:.3}\".format(\n",
        "      confidence_interval[1], confidence_interval[2])\n",
        "  return s"
      ],
      "execution_count": 0,
      "outputs": []
    },
    {
      "metadata": {
        "id": "DXqHi0gr60oI",
        "colab_type": "code",
        "colab": {
          "base_uri": "https://localhost:8080/",
          "height": 34
        },
        "outputId": "486ff2fd-1eb4-4a71-ff6b-4b2089886fe4"
      },
      "cell_type": "code",
      "source": [
        "coinflip_interval = confidence_interval(onedrugdata['rating'], confidence=0.95)\n",
        "coinflip_interval"
      ],
      "execution_count": 16,
      "outputs": [
        {
          "output_type": "execute_result",
          "data": {
            "text/plain": [
              "(7.391030899644518, 7.289544875297311, 7.492516923991724)"
            ]
          },
          "metadata": {
            "tags": []
          },
          "execution_count": 16
        }
      ]
    },
    {
      "metadata": {
        "id": "WpSP59xj_X6-",
        "colab_type": "code",
        "colab": {
          "base_uri": "https://localhost:8080/",
          "height": 34
        },
        "outputId": "293b37e3-e967-408d-f008-c559991d45e0"
      },
      "cell_type": "code",
      "source": [
        "report_confidence_interval(coinflip_interval)"
      ],
      "execution_count": 17,
      "outputs": [
        {
          "output_type": "execute_result",
          "data": {
            "text/plain": [
              "'our mean lies in the interval 7.29, 7.49'"
            ]
          },
          "metadata": {
            "tags": []
          },
          "execution_count": 17
        }
      ]
    },
    {
      "metadata": {
        "id": "XrXcZS_NQSm2",
        "colab_type": "code",
        "colab": {
          "base_uri": "https://localhost:8080/",
          "height": 390
        },
        "outputId": "85d6b9ff-78dd-48f6-f990-2b0605fc00bf"
      },
      "cell_type": "code",
      "source": [
        "fig, ax1 = plt.subplots(figsize=(6, 6))\n",
        "plt.title('medication')\n",
        "plt.ylabel('rating')\n",
        "\n",
        "plt.boxplot(data['rating'])\n",
        "plt.show()"
      ],
      "execution_count": 18,
      "outputs": [
        {
          "output_type": "display_data",
          "data": {
            "image/png": "[encoded data removed]",
            "text/plain": [
              "<matplotlib.figure.Figure at 0x7f65dde43358>"
            ]
          },
          "metadata": {
            "tags": []
          }
        }
      ]
    },
    {
      "metadata": {
        "id": "0W6UlIXNRP7a",
        "colab_type": "code",
        "colab": {
          "base_uri": "https://localhost:8080/",
          "height": 605
        },
        "outputId": "62ac6003-9e99-4353-e9f7-729f0a4bdf8d"
      },
      "cell_type": "code",
      "source": [
        "sns.catplot(x=\"drugName\", y=\"rating\", data=onehundreddata, kind='box', height=8, aspect=25);"
      ],
      "execution_count": 19,
      "outputs": [
        {
          "output_type": "display_data",
          "data": {
            "image/png": "[encoded data removed]",
            "text/plain": [
              "<matplotlib.figure.Figure at 0x7f65dde43160>"
            ]
          },
          "metadata": {
            "tags": []
          }
        }
      ]
    },
    {
      "metadata": {
        "colab_type": "code",
        "outputId": "b5f59243-4813-48ea-e32f-362359854371",
        "id": "sG6N_AWLfrB1",
        "colab": {
          "base_uri": "https://localhost:8080/",
          "height": 204
        }
      },
      "cell_type": "code",
      "source": [
        "data.head()"
      ],
      "execution_count": 20,
      "outputs": [
        {
          "output_type": "execute_result",
          "data": {
            "text/html": [
              "<div>\n",
              "<style scoped>\n",
              "    .dataframe tbody tr th:only-of-type {\n",
              "        vertical-align: middle;\n",
              "    }\n",
              "\n",
              "    .dataframe tbody tr th {\n",
              "        vertical-align: top;\n",
              "    }\n",
              "\n",
              "    .dataframe thead th {\n",
              "        text-align: right;\n",
              "    }\n",
              "</style>\n",
              "<table border=\"1\" class=\"dataframe\">\n",
              "  <thead>\n",
              "    <tr style=\"text-align: right;\">\n",
              "      <th></th>\n",
              "      <th>drugName</th>\n",
              "      <th>rating</th>\n",
              "      <th>usefulCount</th>\n",
              "    </tr>\n",
              "  </thead>\n",
              "  <tbody>\n",
              "    <tr>\n",
              "      <th>0</th>\n",
              "      <td>Valsartan</td>\n",
              "      <td>9.0</td>\n",
              "      <td>27</td>\n",
              "    </tr>\n",
              "    <tr>\n",
              "      <th>1</th>\n",
              "      <td>Guanfacine</td>\n",
              "      <td>8.0</td>\n",
              "      <td>192</td>\n",
              "    </tr>\n",
              "    <tr>\n",
              "      <th>2</th>\n",
              "      <td>Lybrel</td>\n",
              "      <td>5.0</td>\n",
              "      <td>17</td>\n",
              "    </tr>\n",
              "    <tr>\n",
              "      <th>3</th>\n",
              "      <td>Ortho Evra</td>\n",
              "      <td>8.0</td>\n",
              "      <td>10</td>\n",
              "    </tr>\n",
              "    <tr>\n",
              "      <th>4</th>\n",
              "      <td>Buprenorphine / naloxone</td>\n",
              "      <td>9.0</td>\n",
              "      <td>37</td>\n",
              "    </tr>\n",
              "  </tbody>\n",
              "</table>\n",
              "</div>"
            ],
            "text/plain": [
              "                   drugName  rating  usefulCount\n",
              "0                 Valsartan     9.0           27\n",
              "1                Guanfacine     8.0          192\n",
              "2                    Lybrel     5.0           17\n",
              "3                Ortho Evra     8.0           10\n",
              "4  Buprenorphine / naloxone     9.0           37"
            ]
          },
          "metadata": {
            "tags": []
          },
          "execution_count": 20
        }
      ]
    },
    {
      "metadata": {
        "id": "Rn_K7sr6XTHp",
        "colab_type": "code",
        "colab": {}
      },
      "cell_type": "code",
      "source": [
        "#pd.value_counts(data['drugName'].values)\n",
        "#df[df.Ticket == 1].sort_values('Age').head(10)\n"
      ],
      "execution_count": 0,
      "outputs": []
    },
    {
      "metadata": {
        "id": "imtPiyC-H6oF",
        "colab_type": "code",
        "colab": {
          "base_uri": "https://localhost:8080/",
          "height": 34
        },
        "outputId": "3b5b0a73-74c4-480b-a86e-d6fd69b6c89f"
      },
      "cell_type": "code",
      "source": [
        "coinflip_interval = confidence_interval(onedrugdata['usefulCount'], confidence=0.95)\n",
        "coinflip_interval"
      ],
      "execution_count": 21,
      "outputs": [
        {
          "output_type": "execute_result",
          "data": {
            "text/plain": [
              "(10.054416188132349, 9.182739643958097, 10.9260927323066)"
            ]
          },
          "metadata": {
            "tags": []
          },
          "execution_count": 21
        }
      ]
    },
    {
      "metadata": {
        "id": "fsrb1OA5F9sh",
        "colab_type": "code",
        "colab": {
          "base_uri": "https://localhost:8080/",
          "height": 34
        },
        "outputId": "c239c09c-7013-4c3b-d99f-ffdd20b761a4"
      },
      "cell_type": "code",
      "source": [
        "report_confidence_interval(coinflip_interval)\n"
      ],
      "execution_count": 22,
      "outputs": [
        {
          "output_type": "execute_result",
          "data": {
            "text/plain": [
              "'our mean lies in the interval 9.18, 10.9'"
            ]
          },
          "metadata": {
            "tags": []
          },
          "execution_count": 22
        }
      ]
    },
    {
      "metadata": {
        "id": "JsVJ5ZZHOgOB",
        "colab_type": "code",
        "colab": {
          "base_uri": "https://localhost:8080/",
          "height": 1088
        },
        "outputId": "bdf189a7-178a-40ac-8c48-ee97b4662ac4"
      },
      "cell_type": "code",
      "source": [
        "rating_mean = data.groupby(['drugName'])['rating'].mean()\n",
        "print(rating_mean)"
      ],
      "execution_count": 105,
      "outputs": [
        {
          "output_type": "stream",
          "text": [
            "drugName\n",
            "A + D Cracked Skin Relief                            10.000000\n",
            "A / B Otic                                           10.000000\n",
            "Abacavir / dolutegravir / lamivudine                  8.211538\n",
            "Abacavir / lamivudine / zidovudine                    9.000000\n",
            "Abatacept                                             7.157895\n",
            "Abilify                                               6.540359\n",
            "Abilify Discmelt                                      8.000000\n",
            "Abilify Maintena                                      7.750000\n",
            "Abiraterone                                           9.111111\n",
            "AbobotulinumtoxinA                                    7.000000\n",
            "Abraxane                                              7.500000\n",
            "Abreva                                                5.727848\n",
            "Absorbine Jr.                                        10.000000\n",
            "Absorica                                              5.500000\n",
            "Acamprosate                                           8.899083\n",
            "Acanya                                                7.422222\n",
            "Acarbose                                              1.000000\n",
            "Accolate                                             10.000000\n",
            "Accupril                                              5.000000\n",
            "Accutane                                              8.427273\n",
            "Acebutolol                                            9.500000\n",
            "Acetaminophen                                         8.033333\n",
            "Acetaminophen / aspirin                               8.000000\n",
            "Acetaminophen / aspirin / caffeine                    7.643678\n",
            "Acetaminophen / aspirin / caffeine / salicylamide     8.333333\n",
            "Acetaminophen / butalbital                            8.900000\n",
            "Acetaminophen / butalbital / caffeine                 8.899225\n",
            "Acetaminophen / butalbital / caffeine / codeine       9.117647\n",
            "Acetaminophen / caffeine                              9.500000\n",
            "Acetaminophen / caffeine / dihydrocodeine             8.357143\n",
            "                                                       ...    \n",
            "Zoster vaccine live                                   3.250000\n",
            "Zostrix                                              10.000000\n",
            "Zostrix Diabetic Foot Pain                            1.000000\n",
            "Zosyn                                                 8.000000\n",
            "Zovia                                                 5.516129\n",
            "Zovia 1 / 35                                          6.200000\n",
            "Zovirax                                               8.333333\n",
            "Zovirax Cream                                         8.428571\n",
            "Zovirax Ointment                                      9.166667\n",
            "Zubsolv                                               6.970588\n",
            "Zurampic                                             10.000000\n",
            "Zutripro                                             10.000000\n",
            "Zyban                                                 8.741379\n",
            "Zyclara                                               7.384615\n",
            "Zylet                                                 8.400000\n",
            "Zyloprim                                              9.000000\n",
            "Zymar                                                 9.666667\n",
            "Zymine                                               10.000000\n",
            "Zyprexa                                               6.389222\n",
            "Zyprexa Intramuscular                                 8.000000\n",
            "Zyprexa Zydis                                         6.333333\n",
            "Zyrtec                                                7.492754\n",
            "Zyrtec-D                                              9.000000\n",
            "Zyrtec-D 12 Hour                                     10.000000\n",
            "Zytiga                                                9.714286\n",
            "Zyvox                                                 9.000000\n",
            "ZzzQuil                                               2.500000\n",
            "depo-subQ provera 104                                 1.000000\n",
            "ella                                                  6.980392\n",
            "femhrt                                                4.000000\n",
            "Name: rating, Length: 3436, dtype: float64\n"
          ],
          "name": "stdout"
        }
      ]
    },
    {
      "metadata": {
        "id": "1fopo7a3kDEv",
        "colab_type": "code",
        "colab": {
          "base_uri": "https://localhost:8080/",
          "height": 1088
        },
        "outputId": "60e685a4-b15c-496f-dff8-811644134e14"
      },
      "cell_type": "code",
      "source": [
        "rating_stddev = data.groupby('drugName')['rating'].std()\n",
        "rating_stddev"
      ],
      "execution_count": 107,
      "outputs": [
        {
          "output_type": "execute_result",
          "data": {
            "text/plain": [
              "drugName\n",
              "A + D Cracked Skin Relief                                 NaN\n",
              "A / B Otic                                                NaN\n",
              "Abacavir / dolutegravir / lamivudine                 2.491842\n",
              "Abacavir / lamivudine / zidovudine                        NaN\n",
              "Abatacept                                            3.419928\n",
              "Abilify                                              3.398206\n",
              "Abilify Discmelt                                     0.000000\n",
              "Abilify Maintena                                     4.500000\n",
              "Abiraterone                                          1.964971\n",
              "AbobotulinumtoxinA                                   1.732051\n",
              "Abraxane                                             4.358899\n",
              "Abreva                                               3.952986\n",
              "Absorbine Jr.                                             NaN\n",
              "Absorica                                             6.363961\n",
              "Acamprosate                                          2.018181\n",
              "Acanya                                               3.243798\n",
              "Acarbose                                                  NaN\n",
              "Accolate                                             0.000000\n",
              "Accupril                                                  NaN\n",
              "Accutane                                             2.535316\n",
              "Acebutolol                                           0.707107\n",
              "Acetaminophen                                        3.068003\n",
              "Acetaminophen / aspirin                                   NaN\n",
              "Acetaminophen / aspirin / caffeine                   3.154830\n",
              "Acetaminophen / aspirin / caffeine / salicylamide    2.886751\n",
              "Acetaminophen / butalbital                           1.197219\n",
              "Acetaminophen / butalbital / caffeine                2.341357\n",
              "Acetaminophen / butalbital / caffeine / codeine      1.409005\n",
              "Acetaminophen / caffeine                             0.577350\n",
              "Acetaminophen / caffeine / dihydrocodeine            2.677747\n",
              "                                                       ...   \n",
              "Zoster vaccine live                                  4.500000\n",
              "Zostrix                                                   NaN\n",
              "Zostrix Diabetic Foot Pain                                NaN\n",
              "Zosyn                                                1.414214\n",
              "Zovia                                                3.482058\n",
              "Zovia 1 / 35                                         4.764452\n",
              "Zovirax                                              2.872281\n",
              "Zovirax Cream                                        3.056249\n",
              "Zovirax Ointment                                     1.169045\n",
              "Zubsolv                                              3.450826\n",
              "Zurampic                                             0.000000\n",
              "Zutripro                                             0.000000\n",
              "Zyban                                                2.373541\n",
              "Zyclara                                              2.299164\n",
              "Zylet                                                1.516575\n",
              "Zyloprim                                                  NaN\n",
              "Zymar                                                0.577350\n",
              "Zymine                                                    NaN\n",
              "Zyprexa                                              3.329044\n",
              "Zyprexa Intramuscular                                     NaN\n",
              "Zyprexa Zydis                                        3.446562\n",
              "Zyrtec                                               3.094697\n",
              "Zyrtec-D                                                  NaN\n",
              "Zyrtec-D 12 Hour                                          NaN\n",
              "Zytiga                                               0.487950\n",
              "Zyvox                                                1.414214\n",
              "ZzzQuil                                              2.121320\n",
              "depo-subQ provera 104                                     NaN\n",
              "ella                                                 3.337605\n",
              "femhrt                                               5.196152\n",
              "Name: rating, Length: 3436, dtype: float64"
            ]
          },
          "metadata": {
            "tags": []
          },
          "execution_count": 107
        }
      ]
    },
    {
      "metadata": {
        "id": "F0eTdw6jj9cm",
        "colab_type": "code",
        "colab": {}
      },
      "cell_type": "code",
      "source": [
        "#interval = stderr * stats.t.ppf((1 + confidence) / 2., n - 1)\n",
        "#return (mean, mean - interval, mean + interval)"
      ],
      "execution_count": 0,
      "outputs": []
    },
    {
      "metadata": {
        "id": "9sOBq2MJmCwL",
        "colab_type": "code",
        "colab": {
          "base_uri": "https://localhost:8080/",
          "height": 204
        },
        "outputId": "db35db6b-db9a-462b-dbfb-9656161eb93d"
      },
      "cell_type": "code",
      "source": [
        "onedrugdata.head()"
      ],
      "execution_count": 118,
      "outputs": [
        {
          "output_type": "execute_result",
          "data": {
            "text/html": [
              "<div>\n",
              "<style scoped>\n",
              "    .dataframe tbody tr th:only-of-type {\n",
              "        vertical-align: middle;\n",
              "    }\n",
              "\n",
              "    .dataframe tbody tr th {\n",
              "        vertical-align: top;\n",
              "    }\n",
              "\n",
              "    .dataframe thead th {\n",
              "        text-align: right;\n",
              "    }\n",
              "</style>\n",
              "<table border=\"1\" class=\"dataframe\">\n",
              "  <thead>\n",
              "    <tr style=\"text-align: right;\">\n",
              "      <th></th>\n",
              "      <th>drugName</th>\n",
              "      <th>rating</th>\n",
              "      <th>usefulCount</th>\n",
              "    </tr>\n",
              "  </thead>\n",
              "  <tbody>\n",
              "    <tr>\n",
              "      <th>6</th>\n",
              "      <td>Levonorgestrel</td>\n",
              "      <td>1.0</td>\n",
              "      <td>5</td>\n",
              "    </tr>\n",
              "    <tr>\n",
              "      <th>83</th>\n",
              "      <td>Levonorgestrel</td>\n",
              "      <td>1.0</td>\n",
              "      <td>10</td>\n",
              "    </tr>\n",
              "    <tr>\n",
              "      <th>113</th>\n",
              "      <td>Levonorgestrel</td>\n",
              "      <td>10.0</td>\n",
              "      <td>1</td>\n",
              "    </tr>\n",
              "    <tr>\n",
              "      <th>139</th>\n",
              "      <td>Levonorgestrel</td>\n",
              "      <td>2.0</td>\n",
              "      <td>2</td>\n",
              "    </tr>\n",
              "    <tr>\n",
              "      <th>144</th>\n",
              "      <td>Levonorgestrel</td>\n",
              "      <td>3.0</td>\n",
              "      <td>4</td>\n",
              "    </tr>\n",
              "  </tbody>\n",
              "</table>\n",
              "</div>"
            ],
            "text/plain": [
              "           drugName  rating  usefulCount\n",
              "6    Levonorgestrel     1.0            5\n",
              "83   Levonorgestrel     1.0           10\n",
              "113  Levonorgestrel    10.0            1\n",
              "139  Levonorgestrel     2.0            2\n",
              "144  Levonorgestrel     3.0            4"
            ]
          },
          "metadata": {
            "tags": []
          },
          "execution_count": 118
        }
      ]
    },
    {
      "metadata": {
        "id": "nXe9rVFLiPiC",
        "colab_type": "code",
        "colab": {
          "base_uri": "https://localhost:8080/",
          "height": 489
        },
        "outputId": "d7ac343d-111f-482c-da40-8a3ede206370"
      },
      "cell_type": "code",
      "source": [
        "pivotdf = pd.pivot_table(df,index=['drugName'], values=['rating'], aggfunc=[np.mean, confidence_interval]);\n",
        "pivotdf.head(10)"
      ],
      "execution_count": 125,
      "outputs": [
        {
          "output_type": "stream",
          "text": [
            "/usr/local/lib/python3.6/dist-packages/numpy/core/_methods.py:135: RuntimeWarning: Degrees of freedom <= 0 for slice\n",
            "  keepdims=keepdims)\n",
            "/usr/local/lib/python3.6/dist-packages/numpy/core/_methods.py:127: RuntimeWarning: invalid value encountered in double_scalars\n",
            "  ret = ret.dtype.type(ret / rcount)\n"
          ],
          "name": "stderr"
        },
        {
          "output_type": "execute_result",
          "data": {
            "text/html": [
              "<div>\n",
              "<style scoped>\n",
              "    .dataframe tbody tr th:only-of-type {\n",
              "        vertical-align: middle;\n",
              "    }\n",
              "\n",
              "    .dataframe tbody tr th {\n",
              "        vertical-align: top;\n",
              "    }\n",
              "\n",
              "    .dataframe thead tr th {\n",
              "        text-align: left;\n",
              "    }\n",
              "\n",
              "    .dataframe thead tr:last-of-type th {\n",
              "        text-align: right;\n",
              "    }\n",
              "</style>\n",
              "<table border=\"1\" class=\"dataframe\">\n",
              "  <thead>\n",
              "    <tr>\n",
              "      <th></th>\n",
              "      <th>mean</th>\n",
              "      <th>confidence_interval</th>\n",
              "    </tr>\n",
              "    <tr>\n",
              "      <th></th>\n",
              "      <th>rating</th>\n",
              "      <th>rating</th>\n",
              "    </tr>\n",
              "    <tr>\n",
              "      <th>drugName</th>\n",
              "      <th></th>\n",
              "      <th></th>\n",
              "    </tr>\n",
              "  </thead>\n",
              "  <tbody>\n",
              "    <tr>\n",
              "      <th>A + D Cracked Skin Relief</th>\n",
              "      <td>10.000000</td>\n",
              "      <td>(10.0, nan, nan)</td>\n",
              "    </tr>\n",
              "    <tr>\n",
              "      <th>A / B Otic</th>\n",
              "      <td>10.000000</td>\n",
              "      <td>(10.0, nan, nan)</td>\n",
              "    </tr>\n",
              "    <tr>\n",
              "      <th>Abacavir / dolutegravir / lamivudine</th>\n",
              "      <td>8.211538</td>\n",
              "      <td>(8.211538461538462, 7.517805249284368, 8.90527...</td>\n",
              "    </tr>\n",
              "    <tr>\n",
              "      <th>Abacavir / lamivudine / zidovudine</th>\n",
              "      <td>9.000000</td>\n",
              "      <td>(9.0, nan, nan)</td>\n",
              "    </tr>\n",
              "    <tr>\n",
              "      <th>Abatacept</th>\n",
              "      <td>7.157895</td>\n",
              "      <td>(7.157894736842105, 5.509542281611813, 8.80624...</td>\n",
              "    </tr>\n",
              "    <tr>\n",
              "      <th>Abilify</th>\n",
              "      <td>6.540359</td>\n",
              "      <td>(6.540358744394619, 6.224121370392706, 6.85659...</td>\n",
              "    </tr>\n",
              "    <tr>\n",
              "      <th>Abilify Discmelt</th>\n",
              "      <td>8.000000</td>\n",
              "      <td>(8.0, 8.0, 8.0)</td>\n",
              "    </tr>\n",
              "    <tr>\n",
              "      <th>Abilify Maintena</th>\n",
              "      <td>7.750000</td>\n",
              "      <td>(7.75, 0.5894958131104087, 14.910504186889591)</td>\n",
              "    </tr>\n",
              "    <tr>\n",
              "      <th>Abiraterone</th>\n",
              "      <td>9.111111</td>\n",
              "      <td>(9.11111111111111, 7.60070067833731, 10.621521...</td>\n",
              "    </tr>\n",
              "    <tr>\n",
              "      <th>AbobotulinumtoxinA</th>\n",
              "      <td>7.000000</td>\n",
              "      <td>(7.0, 2.6973472700887253, 11.302652729911275)</td>\n",
              "    </tr>\n",
              "  </tbody>\n",
              "</table>\n",
              "</div>"
            ],
            "text/plain": [
              "                                           mean  \\\n",
              "                                         rating   \n",
              "drugName                                          \n",
              "A + D Cracked Skin Relief             10.000000   \n",
              "A / B Otic                            10.000000   \n",
              "Abacavir / dolutegravir / lamivudine   8.211538   \n",
              "Abacavir / lamivudine / zidovudine     9.000000   \n",
              "Abatacept                              7.157895   \n",
              "Abilify                                6.540359   \n",
              "Abilify Discmelt                       8.000000   \n",
              "Abilify Maintena                       7.750000   \n",
              "Abiraterone                            9.111111   \n",
              "AbobotulinumtoxinA                     7.000000   \n",
              "\n",
              "                                                                    confidence_interval  \n",
              "                                                                                 rating  \n",
              "drugName                                                                                 \n",
              "A + D Cracked Skin Relief                                              (10.0, nan, nan)  \n",
              "A / B Otic                                                             (10.0, nan, nan)  \n",
              "Abacavir / dolutegravir / lamivudine  (8.211538461538462, 7.517805249284368, 8.90527...  \n",
              "Abacavir / lamivudine / zidovudine                                      (9.0, nan, nan)  \n",
              "Abatacept                             (7.157894736842105, 5.509542281611813, 8.80624...  \n",
              "Abilify                               (6.540358744394619, 6.224121370392706, 6.85659...  \n",
              "Abilify Discmelt                                                        (8.0, 8.0, 8.0)  \n",
              "Abilify Maintena                         (7.75, 0.5894958131104087, 14.910504186889591)  \n",
              "Abiraterone                           (9.11111111111111, 7.60070067833731, 10.621521...  \n",
              "AbobotulinumtoxinA                        (7.0, 2.6973472700887253, 11.302652729911275)  "
            ]
          },
          "metadata": {
            "tags": []
          },
          "execution_count": 125
        }
      ]
    },
    {
      "metadata": {
        "id": "hCpCugjroATG",
        "colab_type": "code",
        "colab": {}
      },
      "cell_type": "code",
      "source": [
        "def confidence_interval(data, confidence=0.95):\n",
        "  \"\"\"\n",
        "  Calculate a confidence interval around a sample mean for given data.\n",
        "  Using t-distribution and two-tailed test, default 95% confidence. \n",
        "  \n",
        "  Arguments:\n",
        "    data - iterable (list or numpy array) of sample observations\n",
        "    confidence - level of confidence for the interval\n",
        "  \n",
        "  Returns:\n",
        "    interval\n",
        "  \"\"\"\n",
        "  data = np.array(data)\n",
        "  mean = np.mean(data)\n",
        "  n = len(data)\n",
        "  stderr = stats.sem(data)\n",
        "  interval = stderr * stats.t.ppf((1 + confidence) / 2., n - 1)\n",
        "  return (mean, mean - interval, mean + interval)\n",
        "\n",
        "def report_confidence_interval(confidence_interval):\n",
        "  \"\"\"\n",
        "  Return a string with a pretty report of a confidence interval.\n",
        "  \n",
        "  Arguments:\n",
        "    confidence_interval - tuple of (mean, lower bound, upper bound)\n",
        "  \n",
        "  Returns:\n",
        "    None, but prints to screen the report\n",
        "  \"\"\"\n",
        "  #print('Mean: {}'.format(confidence_interval[0]))\n",
        "  #print('Lower bound: {}'.format(confidence_interval[1]))\n",
        "  #print('Upper bound: {}'.format(confidence_interval[2]))\n",
        "  s = \"our mean {:.3} lies in the interval {:.3}, {:.3}\".format(\n",
        "      confidence_interval[0], confidence_interval[1], confidence_interval[2])\n",
        "  return s"
      ],
      "execution_count": 0,
      "outputs": []
    },
    {
      "metadata": {
        "id": "cew1bdcHpdND",
        "colab_type": "code",
        "colab": {
          "base_uri": "https://localhost:8080/",
          "height": 297
        },
        "outputId": "4d7014fe-a365-431f-bb2b-76e3f0fbfe5f"
      },
      "cell_type": "code",
      "source": [
        "data.describe()"
      ],
      "execution_count": 133,
      "outputs": [
        {
          "output_type": "execute_result",
          "data": {
            "text/html": [
              "<div>\n",
              "<style scoped>\n",
              "    .dataframe tbody tr th:only-of-type {\n",
              "        vertical-align: middle;\n",
              "    }\n",
              "\n",
              "    .dataframe tbody tr th {\n",
              "        vertical-align: top;\n",
              "    }\n",
              "\n",
              "    .dataframe thead th {\n",
              "        text-align: right;\n",
              "    }\n",
              "</style>\n",
              "<table border=\"1\" class=\"dataframe\">\n",
              "  <thead>\n",
              "    <tr style=\"text-align: right;\">\n",
              "      <th></th>\n",
              "      <th>rating</th>\n",
              "      <th>usefulCount</th>\n",
              "    </tr>\n",
              "  </thead>\n",
              "  <tbody>\n",
              "    <tr>\n",
              "      <th>count</th>\n",
              "      <td>161297.000000</td>\n",
              "      <td>161297.000000</td>\n",
              "    </tr>\n",
              "    <tr>\n",
              "      <th>mean</th>\n",
              "      <td>6.994377</td>\n",
              "      <td>28.004755</td>\n",
              "    </tr>\n",
              "    <tr>\n",
              "      <th>std</th>\n",
              "      <td>3.272329</td>\n",
              "      <td>36.403742</td>\n",
              "    </tr>\n",
              "    <tr>\n",
              "      <th>min</th>\n",
              "      <td>1.000000</td>\n",
              "      <td>0.000000</td>\n",
              "    </tr>\n",
              "    <tr>\n",
              "      <th>25%</th>\n",
              "      <td>5.000000</td>\n",
              "      <td>6.000000</td>\n",
              "    </tr>\n",
              "    <tr>\n",
              "      <th>50%</th>\n",
              "      <td>8.000000</td>\n",
              "      <td>16.000000</td>\n",
              "    </tr>\n",
              "    <tr>\n",
              "      <th>75%</th>\n",
              "      <td>10.000000</td>\n",
              "      <td>36.000000</td>\n",
              "    </tr>\n",
              "    <tr>\n",
              "      <th>max</th>\n",
              "      <td>10.000000</td>\n",
              "      <td>1291.000000</td>\n",
              "    </tr>\n",
              "  </tbody>\n",
              "</table>\n",
              "</div>"
            ],
            "text/plain": [
              "              rating    usefulCount\n",
              "count  161297.000000  161297.000000\n",
              "mean        6.994377      28.004755\n",
              "std         3.272329      36.403742\n",
              "min         1.000000       0.000000\n",
              "25%         5.000000       6.000000\n",
              "50%         8.000000      16.000000\n",
              "75%        10.000000      36.000000\n",
              "max        10.000000    1291.000000"
            ]
          },
          "metadata": {
            "tags": []
          },
          "execution_count": 133
        }
      ]
    },
    {
      "metadata": {
        "id": "7tCQXKYjm3b5",
        "colab_type": "code",
        "colab": {
          "base_uri": "https://localhost:8080/",
          "height": 605
        },
        "outputId": "063318c8-0892-43a5-c104-f4e40a505fc1"
      },
      "cell_type": "code",
      "source": [
        "sns.catplot(x=\"drugName\", y=\"rating\", data=onehundreddata, kind='box', height=8, aspect=15);\n"
      ],
      "execution_count": 47,
      "outputs": [
        {
          "output_type": "display_data",
          "data": {
            "image/png": "[encoded data removed]",
            "text/plain": [
              "<matplotlib.figure.Figure at 0x7f65d8d8cb70>"
            ]
          },
          "metadata": {
            "tags": []
          }
        }
      ]
    },
    {
      "metadata": {
        "id": "HvSPOLHGyr17",
        "colab_type": "code",
        "colab": {
          "base_uri": "https://localhost:8080/",
          "height": 34
        },
        "outputId": "226d19b0-0849-4ad0-eea8-16a92087100e"
      },
      "cell_type": "code",
      "source": [
        "onedrug_interval = confidence_interval(onedrugdata['rating'], confidence=0.95)\n",
        "onedrug_interval"
      ],
      "execution_count": 51,
      "outputs": [
        {
          "output_type": "execute_result",
          "data": {
            "text/plain": [
              "(7.391030899644518, 7.289544875297311, 7.492516923991724)"
            ]
          },
          "metadata": {
            "tags": []
          },
          "execution_count": 51
        }
      ]
    },
    {
      "metadata": {
        "id": "0n-QU03KyxYW",
        "colab_type": "code",
        "colab": {
          "base_uri": "https://localhost:8080/",
          "height": 34
        },
        "outputId": "8c85e3cc-ac25-41cb-a94a-9451d72bd51b"
      },
      "cell_type": "code",
      "source": [
        "report_confidence_interval(onedrug_interval)"
      ],
      "execution_count": 54,
      "outputs": [
        {
          "output_type": "execute_result",
          "data": {
            "text/plain": [
              "'our mean 7.39 lies in the interval 7.29, 7.49'"
            ]
          },
          "metadata": {
            "tags": []
          },
          "execution_count": 54
        }
      ]
    },
    {
      "metadata": {
        "id": "Gn-3LWGfy4_N",
        "colab_type": "code",
        "colab": {
          "base_uri": "https://localhost:8080/",
          "height": 441
        },
        "outputId": "cd79ac19-04f8-4500-ae06-30011783c960"
      },
      "cell_type": "code",
      "source": [
        "sns.catplot(x=\"drugName\", y=\"rating\", data=onedrugdata, kind='box', height=6);"
      ],
      "execution_count": 55,
      "outputs": [
        {
          "output_type": "display_data",
          "data": {
            "image/png": "[encoded data removed]",
            "text/plain": [
              "<matplotlib.figure.Figure at 0x7f65d8f33d30>"
            ]
          },
          "metadata": {
            "tags": []
          }
        }
      ]
    },
    {
      "metadata": {
        "id": "JSznmT-o0eCZ",
        "colab_type": "code",
        "colab": {
          "base_uri": "https://localhost:8080/",
          "height": 34
        },
        "outputId": "3e0e0321-7494-43fa-fc81-6ad6c04a12b9"
      },
      "cell_type": "code",
      "source": [
        "onehundreddrug_interval = confidence_interval(onehundreddata['rating'], confidence=0.95)\n",
        "onehundreddrug_interval"
      ],
      "execution_count": 56,
      "outputs": [
        {
          "output_type": "execute_result",
          "data": {
            "text/plain": [
              "(6.93, 6.2861100107666035, 7.573889989233396)"
            ]
          },
          "metadata": {
            "tags": []
          },
          "execution_count": 56
        }
      ]
    },
    {
      "metadata": {
        "id": "YuSp_hh-08GX",
        "colab_type": "code",
        "colab": {
          "base_uri": "https://localhost:8080/",
          "height": 34
        },
        "outputId": "84c0efa0-9a81-4216-97eb-9a71d0d40e1f"
      },
      "cell_type": "code",
      "source": [
        "report_confidence_interval(onehundreddrug_interval)"
      ],
      "execution_count": 57,
      "outputs": [
        {
          "output_type": "execute_result",
          "data": {
            "text/plain": [
              "'our mean 6.93 lies in the interval 6.29, 7.57'"
            ]
          },
          "metadata": {
            "tags": []
          },
          "execution_count": 57
        }
      ]
    },
    {
      "metadata": {
        "id": "K3CW2sbT0_59",
        "colab_type": "code",
        "colab": {
          "base_uri": "https://localhost:8080/",
          "height": 605
        },
        "outputId": "bfd0e38f-35ca-470a-b6be-d2976d9cb10c"
      },
      "cell_type": "code",
      "source": [
        "sns.catplot(x=\"drugName\", y=\"rating\", data=onehundreddata, kind='box', height=8, aspect=13);"
      ],
      "execution_count": 58,
      "outputs": [
        {
          "output_type": "display_data",
          "data": {
            "image/png": "[encoded data removed]",
            "text/plain": [
              "<matplotlib.figure.Figure at 0x7f65db0ac4a8>"
            ]
          },
          "metadata": {
            "tags": []
          }
        }
      ]
    },
    {
      "metadata": {
        "id": "FGUJRro8zfVp",
        "colab_type": "code",
        "colab": {
          "base_uri": "https://localhost:8080/",
          "height": 297
        },
        "outputId": "e5d1c8b5-17a4-4c97-87f5-0a7c5ff0e979"
      },
      "cell_type": "code",
      "source": [
        "onehundreddata.describe()"
      ],
      "execution_count": 59,
      "outputs": [
        {
          "output_type": "execute_result",
          "data": {
            "text/html": [
              "<div>\n",
              "<style scoped>\n",
              "    .dataframe tbody tr th:only-of-type {\n",
              "        vertical-align: middle;\n",
              "    }\n",
              "\n",
              "    .dataframe tbody tr th {\n",
              "        vertical-align: top;\n",
              "    }\n",
              "\n",
              "    .dataframe thead th {\n",
              "        text-align: right;\n",
              "    }\n",
              "</style>\n",
              "<table border=\"1\" class=\"dataframe\">\n",
              "  <thead>\n",
              "    <tr style=\"text-align: right;\">\n",
              "      <th></th>\n",
              "      <th>rating</th>\n",
              "      <th>usefulCount</th>\n",
              "    </tr>\n",
              "  </thead>\n",
              "  <tbody>\n",
              "    <tr>\n",
              "      <th>count</th>\n",
              "      <td>100.000000</td>\n",
              "      <td>100.000000</td>\n",
              "    </tr>\n",
              "    <tr>\n",
              "      <th>mean</th>\n",
              "      <td>6.930000</td>\n",
              "      <td>28.230000</td>\n",
              "    </tr>\n",
              "    <tr>\n",
              "      <th>std</th>\n",
              "      <td>3.245058</td>\n",
              "      <td>36.477156</td>\n",
              "    </tr>\n",
              "    <tr>\n",
              "      <th>min</th>\n",
              "      <td>1.000000</td>\n",
              "      <td>0.000000</td>\n",
              "    </tr>\n",
              "    <tr>\n",
              "      <th>25%</th>\n",
              "      <td>4.000000</td>\n",
              "      <td>7.000000</td>\n",
              "    </tr>\n",
              "    <tr>\n",
              "      <th>50%</th>\n",
              "      <td>8.000000</td>\n",
              "      <td>15.000000</td>\n",
              "    </tr>\n",
              "    <tr>\n",
              "      <th>75%</th>\n",
              "      <td>10.000000</td>\n",
              "      <td>35.250000</td>\n",
              "    </tr>\n",
              "    <tr>\n",
              "      <th>max</th>\n",
              "      <td>10.000000</td>\n",
              "      <td>192.000000</td>\n",
              "    </tr>\n",
              "  </tbody>\n",
              "</table>\n",
              "</div>"
            ],
            "text/plain": [
              "           rating  usefulCount\n",
              "count  100.000000   100.000000\n",
              "mean     6.930000    28.230000\n",
              "std      3.245058    36.477156\n",
              "min      1.000000     0.000000\n",
              "25%      4.000000     7.000000\n",
              "50%      8.000000    15.000000\n",
              "75%     10.000000    35.250000\n",
              "max     10.000000   192.000000"
            ]
          },
          "metadata": {
            "tags": []
          },
          "execution_count": 59
        }
      ]
    },
    {
      "metadata": {
        "id": "Ag-0RHlmzHLq",
        "colab_type": "text"
      },
      "cell_type": "markdown",
      "source": [
        "What we can infer from the one hundred drug test we have several box plot that show the cinfidence intervals from top and lower bounds of retings for those drugs, along with means.Several drugs also have only 1 rating so there is nothing other than mean, as we can not calculate intervals with only one observation. \n",
        "\n",
        "When we look at just one drug, Levonorgestrel, we see the mean and confidence intervals top and lower bounds. \n",
        "\n",
        "Mean: 7.39\n",
        "\n",
        "Upper bound of CI: 7.28\n",
        "\n",
        "Lower bound of CI: 7.49\n",
        "\n",
        "So we are 95% certain that a random rating pulled from the sample of rating for this drug would fall between 7.28 and 7.49. But the problem I see with this is that the scale is based on integers on a scale of 1 through 10, so any individual rating would not be able to fall between integers, so I am not sure how to make sense of this confidence interval, yet. \n"
      ]
    },
    {
      "metadata": {
        "id": "tO8_UYtDzUxa",
        "colab_type": "code",
        "colab": {}
      },
      "cell_type": "code",
      "source": [
        ""
      ],
      "execution_count": 0,
      "outputs": []
    }
  ]
}