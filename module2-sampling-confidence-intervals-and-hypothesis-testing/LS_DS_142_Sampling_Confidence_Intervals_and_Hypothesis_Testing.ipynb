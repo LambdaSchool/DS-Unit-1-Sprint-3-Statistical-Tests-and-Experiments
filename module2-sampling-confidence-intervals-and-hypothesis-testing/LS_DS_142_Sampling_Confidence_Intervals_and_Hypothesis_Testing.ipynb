{
  "nbformat": 4,
  "nbformat_minor": 0,
  "metadata": {
    "colab": {
      "name": "LS DS 142 Sampling Confidence Intervals and Hypothesis Testing.ipynb",
      "version": "0.3.2",
      "provenance": [],
      "collapsed_sections": [],
      "include_colab_link": true
    },
    "kernelspec": {
      "name": "python3",
      "display_name": "Python 3"
    }
  },
  "cells": [
    {
      "cell_type": "markdown",
      "metadata": {
        "id": "view-in-github",
        "colab_type": "text"
      },
      "source": [
        "<a href=\"https://colab.research.google.com/github/invegat/DS-Unit-1-Sprint-4-Statistical-Tests-and-Experiments/blob/master/module2-sampling-confidence-intervals-and-hypothesis-testing/LS_DS_142_Sampling_Confidence_Intervals_and_Hypothesis_Testing.ipynb\" target=\"_parent\"><img src=\"https://colab.research.google.com/assets/colab-badge.svg\" alt=\"Open In Colab\"/></a>"
      ]
    },
    {
      "metadata": {
        "id": "838Dmw1kM2LK",
        "colab_type": "text"
      },
      "cell_type": "markdown",
      "source": [
        "# Lambda School Data Science Module 142\n",
        "## Sampling, Confidence Intervals, and Hypothesis Testing"
      ]
    },
    {
      "metadata": {
        "id": "dbcPKIo5M6Ny",
        "colab_type": "text"
      },
      "cell_type": "markdown",
      "source": [
        "## Prepare - examine other available hypothesis tests\n",
        "\n",
        "If you had to pick a single hypothesis test in your toolbox, t-test would probably be the best choice - but the good news is you don't have to pick just one! Here's some of the others to be aware of:"
      ]
    },
    {
      "metadata": {
        "id": "tlBel8j9M6tB",
        "colab_type": "code",
        "outputId": "811623c9-885a-42e3-c3f7-159ced2ce330",
        "colab": {
          "base_uri": "https://localhost:8080/",
          "height": 215
        }
      },
      "cell_type": "code",
      "source": [
        "import numpy as np\n",
        "from scipy.stats import chisquare  # One-way chi square test\n",
        "\n",
        "# Chi square can take any crosstab/table and test the independence of rows/cols\n",
        "# The null hypothesis is that the rows/cols are independent -> low chi square\n",
        "# The alternative is that there is a dependence -> high chi square\n",
        "# Be aware! Chi square does *not* tell you direction/causation\n",
        "\n",
        "ind_obs = np.array([[1, 1], [2, 2]]).T\n",
        "print(ind_obs)\n",
        "print(chisquare(ind_obs, axis=None))\n",
        "\n",
        "dep_obs = np.array([[16, 18, 16, 14, 12, 12], [32, 24, 16, 28, 20, 24]]).T\n",
        "print(dep_obs)\n",
        "print(chisquare(dep_obs, axis=None))"
      ],
      "execution_count": 0,
      "outputs": [
        {
          "output_type": "stream",
          "text": [
            "[[1 2]\n",
            " [1 2]]\n",
            "Power_divergenceResult(statistic=0.6666666666666666, pvalue=0.8810148425137847)\n",
            "[[16 32]\n",
            " [18 24]\n",
            " [16 16]\n",
            " [14 28]\n",
            " [12 20]\n",
            " [12 24]]\n",
            "Power_divergenceResult(statistic=23.31034482758621, pvalue=0.015975692534127565)\n"
          ],
          "name": "stdout"
        }
      ]
    },
    {
      "metadata": {
        "id": "nN0BdNiDPxbk",
        "colab_type": "code",
        "outputId": "36426de9-d1b9-4790-ae20-9d5eb578a77a",
        "colab": {
          "base_uri": "https://localhost:8080/",
          "height": 35
        }
      },
      "cell_type": "code",
      "source": [
        "# Distribution tests:\n",
        "# We often assume that something is normal, but it can be important to *check*\n",
        "\n",
        "# For example, later on with predictive modeling, a typical assumption is that\n",
        "# residuals (prediction errors) are normal - checking is a good diagnostic\n",
        "\n",
        "from scipy.stats import normaltest\n",
        "# Poisson models arrival times and is related to the binomial (coinflip)\n",
        "sample = np.random.poisson(5, 1000)\n",
        "print(normaltest(sample))  # Pretty clearly not normal"
      ],
      "execution_count": 0,
      "outputs": [
        {
          "output_type": "stream",
          "text": [
            "NormaltestResult(statistic=38.69323106073592, pvalue=3.961609200867749e-09)\n"
          ],
          "name": "stdout"
        }
      ]
    },
    {
      "metadata": {
        "id": "P5t0WhkDReFO",
        "colab_type": "code",
        "outputId": "7d6438bf-8042-4297-a8f7-cef083d22444",
        "colab": {
          "base_uri": "https://localhost:8080/",
          "height": 53
        }
      },
      "cell_type": "code",
      "source": [
        "# Kruskal-Wallis H-test - compare the median rank between 2+ groups\n",
        "# Can be applied to ranking decisions/outcomes/recommendations\n",
        "# The underlying math comes from chi-square distribution, and is best for n>5\n",
        "from scipy.stats import kruskal\n",
        "\n",
        "x1 = [1, 3, 5, 7, 9]\n",
        "y1 = [2, 4, 6, 8, 10]\n",
        "print(kruskal(x1, y1))  # x1 is a little better, but not \"significantly\" so\n",
        "\n",
        "x2 = [1, 1, 1]\n",
        "y2 = [2, 2, 2]\n",
        "z = [2, 2]  # Hey, a third group, and of different size!\n",
        "print(kruskal(x2, y2, z))  # x clearly dominates"
      ],
      "execution_count": 0,
      "outputs": [
        {
          "output_type": "stream",
          "text": [
            "KruskalResult(statistic=0.2727272727272734, pvalue=0.6015081344405895)\n",
            "KruskalResult(statistic=7.0, pvalue=0.0301973834223185)\n"
          ],
          "name": "stdout"
        }
      ]
    },
    {
      "metadata": {
        "id": "7pT3IP36Rh0b",
        "colab_type": "text"
      },
      "cell_type": "markdown",
      "source": [
        "And there's many more! `scipy.stats` is fairly comprehensive, though there are even more available if you delve into the extended world of statistics packages. As tests get increasingly obscure and specialized, the importance of knowing them by heart becomes small - but being able to look them up and figure them out when they *are* relevant is still important."
      ]
    },
    {
      "metadata": {
        "id": "L1_KRuHCM7BW",
        "colab_type": "text"
      },
      "cell_type": "markdown",
      "source": [
        "## Live Lecture - let's explore some more of scipy.stats"
      ]
    },
    {
      "metadata": {
        "id": "qW6k0dorM7Lz",
        "colab_type": "code",
        "colab": {}
      },
      "cell_type": "code",
      "source": [
        "# Taking requests! Come to lecture with a topic or problem and we'll try it."
      ],
      "execution_count": 0,
      "outputs": []
    },
    {
      "metadata": {
        "id": "11OzdxWTM7UR",
        "colab_type": "text"
      },
      "cell_type": "markdown",
      "source": [
        "## Assignment - Build a confidence interval\n",
        "\n",
        "A confidence interval refers to a neighborhood around some point estimate, the size of which is determined by the desired p-value. For instance, we might say that 52% of Americans prefer tacos to burritos, with a 95% confidence interval of +/- 5%.\n",
        "\n",
        "52% (0.52) is the point estimate, and +/- 5% (the interval $[0.47, 0.57]$) is the confidence interval. \"95% confidence\" means a p-value $\\leq 1 - 0.95 = 0.05$.\n",
        "\n",
        "In this case, the confidence interval includes $0.5$ - which is the natural null hypothesis (that half of Americans prefer tacos and half burritos, thus there is no clear favorite). So in this case, we could use the confidence interval to report that we've failed to reject the null hypothesis.\n",
        "\n",
        "But providing the full analysis with a confidence interval, including a graphical representation of it, can be a helpful and powerful way to tell your story. Done well, it is also more intuitive to a layperson than simply saying \"fail to reject the null hypothesis\" - it shows that in fact the data does *not* give a single clear result (the point estimate) but a whole range of possibilities.\n",
        "\n",
        "How is a confidence interval built, and how should it be interpreted? It does *not* mean that 95% of the data lies in that interval - instead, the frequentist interpretation is \"if we were to repeat this experiment 100 times, we would expect the average result to lie in this interval ~95 times.\"\n",
        "\n",
        "For a 95% confidence interval and a normal(-ish) distribution, you can simply remember that +/-2 standard deviations contains 95% of the probability mass, and so the 95% confidence interval based on a given sample is centered at the mean (point estimate) and has a range of +/- 2 (or technically 1.96) standard deviations.\n",
        "\n",
        "Different distributions/assumptions (90% confidence, 99% confidence) will require different math, but the overall process and interpretation (with a frequentist approach) will be the same.\n",
        "\n",
        "Your assignment - using the data from the prior module ([congressional voting records](https://archive.ics.uci.edu/ml/datasets/Congressional+Voting+Records)):\n",
        "\n",
        "1. Generate and numerically represent a confidence interval\n",
        "2. Graphically (with a plot) represent the confidence interval\n",
        "3. Interpret the confidence interval - what does it tell you about the data and its distribution?\n",
        "\n",
        "Stretch goals:\n",
        "\n",
        "1. Write a summary of your findings, mixing prose and math/code/results. *Note* - yes, this is by definition a political topic. It is challenging but important to keep your writing voice *neutral* and stick to the facts of the data. Data science often involves considering controversial issues, so it's important to be sensitive about them (especially if you want to publish).\n",
        "2. Apply the techniques you learned today to your project data or other data of your choice, and write/discuss your findings here."
      ]
    },
    {
      "metadata": {
        "id": "q4oaSSwicJ1G",
        "colab_type": "code",
        "colab": {
          "base_uri": "https://localhost:8080/",
          "height": 209
        },
        "outputId": "d20b5332-4e98-430c-b863-defde314d8a9"
      },
      "cell_type": "code",
      "source": [
        "# http://archive.ics.uci.edu/ml/datasets/Drug+Review+Dataset+%28Drugs.com%29#\n",
        "!wget http://archive.ics.uci.edu/ml/machine-learning-databases/00462/drugsCom_raw.zip\n"
      ],
      "execution_count": 4,
      "outputs": [
        {
          "output_type": "stream",
          "text": [
            "--2018-12-04 19:14:10--  http://archive.ics.uci.edu/ml/machine-learning-databases/00462/drugsCom_raw.zip\n",
            "Resolving archive.ics.uci.edu (archive.ics.uci.edu)... 128.195.10.249\n",
            "Connecting to archive.ics.uci.edu (archive.ics.uci.edu)|128.195.10.249|:80... connected.\n",
            "HTTP request sent, awaiting response... 200 OK\n",
            "Length: 42989872 (41M) [application/zip]\n",
            "Saving to: ‘drugsCom_raw.zip’\n",
            "\n",
            "drugsCom_raw.zip    100%[===================>]  41.00M  16.0MB/s    in 2.6s    \n",
            "\n",
            "2018-12-04 19:14:13 (16.0 MB/s) - ‘drugsCom_raw.zip’ saved [42989872/42989872]\n",
            "\n"
          ],
          "name": "stdout"
        }
      ]
    },
    {
      "metadata": {
        "id": "LR__9IITpCy4",
        "colab_type": "code",
        "colab": {
          "base_uri": "https://localhost:8080/",
          "height": 69
        },
        "outputId": "6780bf55-c927-434f-8b6b-a037aedaff87"
      },
      "cell_type": "code",
      "source": [
        "!unzip drugsCom_raw.zip"
      ],
      "execution_count": 5,
      "outputs": [
        {
          "output_type": "stream",
          "text": [
            "Archive:  drugsCom_raw.zip\n",
            "  inflating: drugsComTest_raw.tsv    \n",
            "  inflating: drugsComTrain_raw.tsv   \n"
          ],
          "name": "stdout"
        }
      ]
    },
    {
      "metadata": {
        "id": "lKNbcCHfBHFf",
        "colab_type": "text"
      },
      "cell_type": "markdown",
      "source": [
        ""
      ]
    },
    {
      "metadata": {
        "id": "RWY6UxsGpB9y",
        "colab_type": "code",
        "colab": {
          "base_uri": "https://localhost:8080/",
          "height": 204
        },
        "outputId": "1c0d2c06-9e1e-4640-b553-9293ce519082"
      },
      "cell_type": "code",
      "source": [
        "sample_size = 10000\n",
        "df = pd.read_csv('drugsComTrain_raw.tsv', sep='\\t')\n",
        "#df = df[df.drugName.notnull() and df.condition.notnull() and df.rating.notnull()]\n",
        "df = df.dropna()\n",
        "df = df[~df.condition.str.contains('<')]\n",
        "#df = df.sample(n=sample_size).drop(['Unnamed: 0','review','date','usefulCount'], axis=1).reindex(range(1,sample_size), axis=0)\n",
        "df = df.sample(n=sample_size).drop(['Unnamed: 0','review','date','usefulCount'], axis=1)\n",
        "# df = df.drop(['Unnamed: 0','review','date','usefulCount'], axis=1)\n",
        "df.tail()\n",
        "# df.shape"
      ],
      "execution_count": 82,
      "outputs": [
        {
          "output_type": "execute_result",
          "data": {
            "text/html": [
              "<div>\n",
              "<style scoped>\n",
              "    .dataframe tbody tr th:only-of-type {\n",
              "        vertical-align: middle;\n",
              "    }\n",
              "\n",
              "    .dataframe tbody tr th {\n",
              "        vertical-align: top;\n",
              "    }\n",
              "\n",
              "    .dataframe thead th {\n",
              "        text-align: right;\n",
              "    }\n",
              "</style>\n",
              "<table border=\"1\" class=\"dataframe\">\n",
              "  <thead>\n",
              "    <tr style=\"text-align: right;\">\n",
              "      <th></th>\n",
              "      <th>drugName</th>\n",
              "      <th>condition</th>\n",
              "      <th>rating</th>\n",
              "    </tr>\n",
              "  </thead>\n",
              "  <tbody>\n",
              "    <tr>\n",
              "      <th>113100</th>\n",
              "      <td>Etonogestrel</td>\n",
              "      <td>Birth Control</td>\n",
              "      <td>9.0</td>\n",
              "    </tr>\n",
              "    <tr>\n",
              "      <th>116776</th>\n",
              "      <td>Gilenya</td>\n",
              "      <td>Multiple Sclerosis</td>\n",
              "      <td>10.0</td>\n",
              "    </tr>\n",
              "    <tr>\n",
              "      <th>87242</th>\n",
              "      <td>Saphris</td>\n",
              "      <td>Schizoaffective Disorde</td>\n",
              "      <td>10.0</td>\n",
              "    </tr>\n",
              "    <tr>\n",
              "      <th>72029</th>\n",
              "      <td>Zyprexa</td>\n",
              "      <td>Bipolar Disorde</td>\n",
              "      <td>4.0</td>\n",
              "    </tr>\n",
              "    <tr>\n",
              "      <th>117364</th>\n",
              "      <td>Copper</td>\n",
              "      <td>Birth Control</td>\n",
              "      <td>9.0</td>\n",
              "    </tr>\n",
              "  </tbody>\n",
              "</table>\n",
              "</div>"
            ],
            "text/plain": [
              "            drugName                condition  rating\n",
              "113100  Etonogestrel            Birth Control     9.0\n",
              "116776       Gilenya       Multiple Sclerosis    10.0\n",
              "87242        Saphris  Schizoaffective Disorde    10.0\n",
              "72029        Zyprexa          Bipolar Disorde     4.0\n",
              "117364        Copper            Birth Control     9.0"
            ]
          },
          "metadata": {
            "tags": []
          },
          "execution_count": 82
        }
      ]
    },
    {
      "metadata": {
        "id": "JiQUDLeZ14yN",
        "colab_type": "code",
        "colab": {
          "base_uri": "https://localhost:8080/",
          "height": 34
        },
        "outputId": "9ac3ed13-a2f9-40d2-84de-91790d9da7e9"
      },
      "cell_type": "code",
      "source": [
        "df.shape"
      ],
      "execution_count": 83,
      "outputs": [
        {
          "output_type": "execute_result",
          "data": {
            "text/plain": [
              "(10000, 3)"
            ]
          },
          "metadata": {
            "tags": []
          },
          "execution_count": 83
        }
      ]
    },
    {
      "metadata": {
        "id": "FDKTGHFtqaN1",
        "colab_type": "code",
        "colab": {}
      },
      "cell_type": "code",
      "source": [
        "# Confidence intervals!\n",
        "# Similar to hypothesis testing, but centered at sample mean\n",
        "# Better than reporting the \"point estimate\" (sample mean)\n",
        "# Why? Because point estimates aren't always perfect\n",
        "\n",
        "import numpy as np\n",
        "from scipy import stats\n",
        "\n",
        "def confidence_interval(data, confidence=0.95):\n",
        "  \"\"\"\n",
        "  Calculate a confidence interval around a sample mean for given data.\n",
        "  Using t-distribution and two-tailed test, default 95% confidence. \n",
        "  \n",
        "  Arguments:\n",
        "    data - iterable (list or numpy array) of sample observations\n",
        "    confidence - level of confidence for the interval\n",
        "  \n",
        "  Returns:\n",
        "    tuple of (mean, lower bound, upper bound)\n",
        "  \"\"\"\n",
        "  data = np.array(data)\n",
        "  mean = np.mean(data)\n",
        "  n = len(data)\n",
        "  stderr = stats.sem(data)\n",
        "  interval = stderr * stats.t.ppf((1 + confidence) / 2., n - 1)\n",
        "  return (mean, mean - interval, mean + interval)\n",
        "\n",
        "def report_confidence_interval(confidence_interval):\n",
        "  \"\"\"\n",
        "  Return a string with a pretty report of a confidence interval.\n",
        "  \n",
        "  Arguments:\n",
        "    confidence_interval - tuple of (mean, lower bound, upper bound)\n",
        "  \n",
        "  Returns:\n",
        "    None, but prints to screen the report\n",
        "  \"\"\"\n",
        "  #print('Mean: {}'.format(confidence_interval[0]))\n",
        "  #print('Lower bound: {}'.format(confidence_interval[1]))\n",
        "  #print('Upper bound: {}'.format(confidence_interval[2]))\n",
        "  s = \"our mean lies in the interval ]{:.2}, {:.2}[\".format(\n",
        "      confidence_interval[1], confidence_interval[2])\n",
        "  s = f\"our mean {confidence_interval[0]:.2f} lies in the interval {confidence_interval[1]:.2f} - {confidence_interval[2]:.2f}\"\n",
        "  return s"
      ],
      "execution_count": 0,
      "outputs": []
    },
    {
      "metadata": {
        "id": "lBbfb8B6t2TO",
        "colab_type": "code",
        "colab": {}
      },
      "cell_type": "code",
      "source": [
        "minLen = 10\n",
        "import matplotlib.pyplot as plt"
      ],
      "execution_count": 0,
      "outputs": []
    },
    {
      "metadata": {
        "id": "-2Jdxh2qpJGS",
        "colab_type": "code",
        "colab": {
          "base_uri": "https://localhost:8080/",
          "height": 4042
        },
        "outputId": "159658d8-9deb-4db4-f530-43344a4671a7"
      },
      "cell_type": "code",
      "source": [
        "\n",
        "\n",
        "for c in df.condition.unique():\n",
        "  # print(c)\n",
        "  for d in df[df.condition == c].drugName.unique():\n",
        "    cdf = df[(df.condition == c) & (df.drugName == d) ]['rating']\n",
        "    ci = None\n",
        "    if len(cdf) >= minLen:\n",
        "      ci = confidence_interval(cdf)\n",
        "      print(f\"for condition {c} drug {d} 95% confidence interval {report_confidence_interval(ci)}\")\n",
        "    plt.bar(np.arange(0,len(cdf)),cdf)\n",
        "    "
      ],
      "execution_count": 125,
      "outputs": [
        {
          "output_type": "stream",
          "text": [
            "for condition Birth Control drug Liletta 95% confidence interval our mean 5.42 lies in the interval 3.45 - 7.38\n",
            "for condition Birth Control drug Mirena 95% confidence interval our mean 7.38 lies in the interval 6.49 - 8.26\n",
            "for condition Birth Control drug Ethinyl estradiol / norgestimate 95% confidence interval our mean 6.08 lies in the interval 5.46 - 6.71\n",
            "for condition Birth Control drug Junel Fe 1 / 20 95% confidence interval our mean 5.54 lies in the interval 3.31 - 7.77\n",
            "for condition Birth Control drug NuvaRing 95% confidence interval our mean 6.40 lies in the interval 5.39 - 7.42\n",
            "for condition Birth Control drug Ethinyl estradiol / norethindrone 95% confidence interval our mean 5.61 lies in the interval 5.08 - 6.15\n",
            "for condition Birth Control drug Ethinyl estradiol / levonorgestrel 95% confidence interval our mean 6.07 lies in the interval 5.41 - 6.74\n",
            "for condition Birth Control drug Skyla 95% confidence interval our mean 7.69 lies in the interval 7.00 - 8.38\n",
            "for condition Birth Control drug Ethinyl estradiol / etonogestrel 95% confidence interval our mean 6.75 lies in the interval 5.75 - 7.75\n",
            "for condition Birth Control drug ParaGard 95% confidence interval our mean 7.27 lies in the interval 5.69 - 8.86\n",
            "for condition Birth Control drug Nexplanon 95% confidence interval our mean 5.57 lies in the interval 5.00 - 6.13\n",
            "for condition Birth Control drug TriNessa 95% confidence interval our mean 7.43 lies in the interval 6.22 - 8.64\n",
            "for condition Birth Control drug Tri-Sprintec 95% confidence interval our mean 5.88 lies in the interval 4.59 - 7.17\n",
            "for condition Birth Control drug Implanon 95% confidence interval our mean 6.16 lies in the interval 5.40 - 6.92\n",
            "for condition Birth Control drug Lutera 95% confidence interval our mean 6.00 lies in the interval 4.30 - 7.70\n",
            "for condition Birth Control drug Etonogestrel 95% confidence interval our mean 6.10 lies in the interval 5.66 - 6.54\n",
            "for condition Birth Control drug Minastrin 24 Fe 95% confidence interval our mean 3.91 lies in the interval 1.65 - 6.17\n",
            "for condition Birth Control drug Drospirenone / ethinyl estradiol 95% confidence interval our mean 5.61 lies in the interval 4.39 - 6.83\n",
            "for condition Birth Control drug Desogestrel / ethinyl estradiol 95% confidence interval our mean 4.50 lies in the interval 3.28 - 5.72\n",
            "for condition Birth Control drug Levonorgestrel 95% confidence interval our mean 7.15 lies in the interval 6.64 - 7.66\n",
            "for condition Birth Control drug Microgestin Fe 1 / 20 95% confidence interval our mean 5.66 lies in the interval 4.54 - 6.77\n",
            "for condition Birth Control drug Lo Loestrin Fe 95% confidence interval our mean 5.96 lies in the interval 5.01 - 6.91\n",
            "for condition Birth Control drug Loestrin 24 Fe 95% confidence interval our mean 7.29 lies in the interval 5.63 - 8.94\n",
            "for condition Birth Control drug Ortho Evra 95% confidence interval our mean 7.29 lies in the interval 5.78 - 8.81\n",
            "for condition Birth Control drug Depo-Provera 95% confidence interval our mean 4.83 lies in the interval 3.68 - 5.98\n",
            "for condition Birth Control drug Norethindrone 95% confidence interval our mean 5.88 lies in the interval 4.64 - 7.13\n",
            "for condition Birth Control drug Ethinyl estradiol / norelgestromin 95% confidence interval our mean 6.27 lies in the interval 4.90 - 7.64\n",
            "for condition Birth Control drug Copper 95% confidence interval our mean 7.63 lies in the interval 6.59 - 8.67\n",
            "for condition Birth Control drug Sprintec 95% confidence interval our mean 7.93 lies in the interval 6.94 - 8.92\n",
            "for condition Birth Control drug Generess Fe 95% confidence interval our mean 6.42 lies in the interval 4.08 - 8.75\n",
            "for condition Birth Control drug Gianvi 95% confidence interval our mean 7.00 lies in the interval 4.59 - 9.41\n",
            "for condition Birth Control drug Aviane 95% confidence interval our mean 6.42 lies in the interval 4.38 - 8.45\n",
            "for condition Birth Control drug Gildess Fe 1 / 20 95% confidence interval our mean 4.62 lies in the interval 2.46 - 6.77\n",
            "for condition Birth Control drug Medroxyprogesterone 95% confidence interval our mean 4.25 lies in the interval 3.09 - 5.41\n",
            "for condition Birth Control drug Apri 95% confidence interval our mean 6.36 lies in the interval 4.11 - 8.62\n",
            "for condition Muscle Spasm drug Baclofen 95% confidence interval our mean 8.10 lies in the interval 6.12 - 10.08\n",
            "for condition Muscle Spasm drug Cyclobenzaprine 95% confidence interval our mean 4.75 lies in the interval 2.42 - 7.08\n",
            "for condition Anxiety drug Hydroxyzine 95% confidence interval our mean 4.44 lies in the interval 2.62 - 6.25\n",
            "for condition Anxiety drug Clonazepam 95% confidence interval our mean 8.96 lies in the interval 8.12 - 9.80\n",
            "for condition Anxiety drug Xanax 95% confidence interval our mean 8.47 lies in the interval 6.96 - 9.97\n",
            "for condition Anxiety drug Lexapro 95% confidence interval our mean 9.00 lies in the interval 8.11 - 9.89\n",
            "for condition Anxiety drug Alprazolam 95% confidence interval our mean 8.85 lies in the interval 8.10 - 9.60\n",
            "for condition Anxiety drug Klonopin 95% confidence interval our mean 9.14 lies in the interval 8.25 - 10.03\n",
            "for condition Anxiety drug Paroxetine 95% confidence interval our mean 8.67 lies in the interval 8.10 - 9.23\n",
            "for condition Anxiety drug Escitalopram 95% confidence interval our mean 7.79 lies in the interval 6.71 - 8.87\n",
            "for condition Anxiety drug Lorazepam 95% confidence interval our mean 8.35 lies in the interval 6.83 - 9.87\n",
            "for condition Anxiety drug Buspirone 95% confidence interval our mean 6.13 lies in the interval 4.75 - 7.51\n",
            "for condition Anxiety drug BuSpar 95% confidence interval our mean 6.33 lies in the interval 4.01 - 8.65\n",
            "for condition Anxiety drug Gabapentin 95% confidence interval our mean 7.62 lies in the interval 5.78 - 9.45\n",
            "for condition Anxiety drug Diazepam 95% confidence interval our mean 9.14 lies in the interval 8.13 - 10.15\n",
            "for condition Bipolar Disorde drug Lithium 95% confidence interval our mean 8.80 lies in the interval 7.99 - 9.61\n",
            "for condition Bipolar Disorde drug Aripiprazole 95% confidence interval our mean 5.83 lies in the interval 3.38 - 8.28\n",
            "for condition Bipolar Disorde drug Lamictal 95% confidence interval our mean 8.75 lies in the interval 7.38 - 10.12\n",
            "for condition Bipolar Disorde drug Quetiapine 95% confidence interval our mean 7.32 lies in the interval 6.01 - 8.63\n",
            "for condition Bipolar Disorde drug Lurasidone 95% confidence interval our mean 6.82 lies in the interval 5.06 - 8.59\n",
            "for condition Bipolar Disorde drug Latuda 95% confidence interval our mean 7.50 lies in the interval 5.33 - 9.67\n",
            "for condition Bipolar Disorde drug Lamotrigine 95% confidence interval our mean 8.17 lies in the interval 6.98 - 9.35\n",
            "for condition Bipolar Disorde drug Seroquel 95% confidence interval our mean 7.31 lies in the interval 5.36 - 9.26\n",
            "for condition Emergency Contraception drug Plan B 95% confidence interval our mean 8.62 lies in the interval 7.53 - 9.72\n",
            "for condition Emergency Contraception drug Plan B One-Step 95% confidence interval our mean 9.00 lies in the interval 8.03 - 9.97\n",
            "for condition Emergency Contraception drug Levonorgestrel 95% confidence interval our mean 8.28 lies in the interval 7.59 - 8.96\n",
            "for condition Weight Loss drug Phentermine 95% confidence interval our mean 8.95 lies in the interval 8.51 - 9.39\n",
            "for condition Weight Loss drug Contrave 95% confidence interval our mean 6.50 lies in the interval 5.18 - 7.82\n",
            "for condition Weight Loss drug Belviq 95% confidence interval our mean 8.00 lies in the interval 6.39 - 9.61\n",
            "for condition Weight Loss drug Adipex-P 95% confidence interval our mean 8.50 lies in the interval 7.14 - 9.86\n",
            "for condition Weight Loss drug Phentermine / topiramate 95% confidence interval our mean 7.94 lies in the interval 6.47 - 9.41\n",
            "for condition Weight Loss drug Qsymia 95% confidence interval our mean 7.31 lies in the interval 5.47 - 9.16\n",
            "for condition Weight Loss drug Lorcaserin 95% confidence interval our mean 7.43 lies in the interval 5.96 - 8.90\n",
            "for condition Weight Loss drug Bupropion / naltrexone 95% confidence interval our mean 6.64 lies in the interval 4.85 - 8.43\n",
            "for condition High Blood Pressure drug Nebivolol 95% confidence interval our mean 5.91 lies in the interval 3.55 - 8.26\n",
            "for condition High Blood Pressure drug Lisinopril 95% confidence interval our mean 4.90 lies in the interval 2.76 - 7.04\n",
            "for condition High Blood Pressure drug Bystolic 95% confidence interval our mean 6.73 lies in the interval 4.23 - 9.22\n",
            "for condition High Blood Pressure drug Losartan 95% confidence interval our mean 6.09 lies in the interval 4.25 - 7.93\n",
            "for condition High Blood Pressure drug Amlodipine 95% confidence interval our mean 4.00 lies in the interval 2.00 - 6.00\n",
            "for condition Acne drug Isotretinoin 95% confidence interval our mean 8.53 lies in the interval 7.79 - 9.27\n",
            "for condition Acne drug Adapalene / benzoyl peroxide 95% confidence interval our mean 7.75 lies in the interval 6.53 - 8.97\n",
            "for condition Acne drug Benzoyl peroxide / clindamycin 95% confidence interval our mean 7.35 lies in the interval 5.70 - 9.00\n",
            "for condition Acne drug Tretinoin 95% confidence interval our mean 8.91 lies in the interval 7.89 - 9.93\n",
            "for condition Acne drug Adapalene 95% confidence interval our mean 6.36 lies in the interval 4.17 - 8.56\n",
            "for condition Acne drug Doxycycline 95% confidence interval our mean 7.50 lies in the interval 6.39 - 8.61\n",
            "for condition Acne drug Accutane 95% confidence interval our mean 7.69 lies in the interval 5.83 - 9.54\n",
            "for condition Acne drug Ethinyl estradiol / norgestimate 95% confidence interval our mean 5.29 lies in the interval 3.22 - 7.35\n",
            "for condition Acne drug Epiduo 95% confidence interval our mean 7.19 lies in the interval 5.86 - 8.52\n",
            "for condition Acne drug Minocycline 95% confidence interval our mean 5.81 lies in the interval 3.73 - 7.89\n",
            "for condition Acne drug Spironolactone 95% confidence interval our mean 6.17 lies in the interval 3.90 - 8.43\n",
            "for condition Acne drug Drospirenone / ethinyl estradiol 95% confidence interval our mean 7.42 lies in the interval 5.80 - 9.03\n",
            "for condition Anxiety and Stress drug Citalopram 95% confidence interval our mean 7.59 lies in the interval 6.48 - 8.70\n",
            "for condition Anxiety and Stress drug Celexa 95% confidence interval our mean 6.84 lies in the interval 5.11 - 8.57\n",
            "for condition Anxiety and Stress drug Sertraline 95% confidence interval our mean 8.07 lies in the interval 6.75 - 9.38\n",
            "for condition Anxiety and Stress drug Fluoxetine 95% confidence interval our mean 8.15 lies in the interval 7.06 - 9.24\n",
            "for condition Depression drug Fluoxetine 95% confidence interval our mean 7.17 lies in the interval 5.71 - 8.64\n",
            "for condition Depression drug Desvenlafaxine 95% confidence interval our mean 6.74 lies in the interval 5.58 - 7.90\n",
            "for condition Depression drug Celexa 95% confidence interval our mean 5.88 lies in the interval 4.08 - 7.67\n",
            "for condition Depression drug Lexapro 95% confidence interval our mean 6.75 lies in the interval 5.04 - 8.46\n",
            "for condition Depression drug Bupropion 95% confidence interval our mean 7.81 lies in the interval 6.86 - 8.75\n",
            "for condition Depression drug Vilazodone 95% confidence interval our mean 6.20 lies in the interval 4.13 - 8.27\n",
            "for condition Depression drug Viibryd 95% confidence interval our mean 7.00 lies in the interval 5.37 - 8.63\n",
            "for condition Depression drug Wellbutrin 95% confidence interval our mean 7.47 lies in the interval 5.47 - 9.46\n",
            "for condition Depression drug Effexor 95% confidence interval our mean 3.91 lies in the interval 1.93 - 5.89\n",
            "for condition Depression drug Pristiq 95% confidence interval our mean 6.71 lies in the interval 5.38 - 8.05\n",
            "for condition Depression drug Sertraline 95% confidence interval our mean 7.41 lies in the interval 6.31 - 8.51\n",
            "for condition Depression drug Duloxetine 95% confidence interval our mean 5.70 lies in the interval 4.25 - 7.14\n",
            "for condition Depression drug Vortioxetine 95% confidence interval our mean 5.17 lies in the interval 3.76 - 6.59\n",
            "for condition Depression drug Trintellix 95% confidence interval our mean 5.00 lies in the interval 3.19 - 6.81\n",
            "for condition Depression drug Citalopram 95% confidence interval our mean 7.17 lies in the interval 5.91 - 8.44\n",
            "for condition Depression drug Escitalopram 95% confidence interval our mean 7.17 lies in the interval 5.96 - 8.38\n",
            "for condition Depression drug Mirtazapine 95% confidence interval our mean 6.20 lies in the interval 4.28 - 8.12\n",
            "for condition Depression drug Venlafaxine 95% confidence interval our mean 6.51 lies in the interval 5.40 - 7.63\n",
            "for condition Depression drug Prozac 95% confidence interval our mean 7.23 lies in the interval 5.43 - 9.03\n",
            "for condition Depression drug Cymbalta 95% confidence interval our mean 7.39 lies in the interval 5.82 - 8.95\n",
            "for condition Benign Prostatic Hyperplasia drug Flomax 95% confidence interval our mean 4.45 lies in the interval 3.07 - 5.84\n",
            "for condition ADHD drug Lisdexamfetamine 95% confidence interval our mean 7.73 lies in the interval 6.70 - 8.77\n",
            "for condition ADHD drug Concerta 95% confidence interval our mean 8.40 lies in the interval 7.26 - 9.54\n",
            "for condition ADHD drug Strattera 95% confidence interval our mean 5.59 lies in the interval 3.78 - 7.40\n",
            "for condition ADHD drug Amphetamine / dextroamphetamine 95% confidence interval our mean 8.17 lies in the interval 7.13 - 9.21\n",
            "for condition ADHD drug Vyvanse 95% confidence interval our mean 7.76 lies in the interval 6.60 - 8.92\n",
            "for condition ADHD drug Methylphenidate 95% confidence interval our mean 7.59 lies in the interval 6.74 - 8.44\n",
            "for condition ADHD drug Atomoxetine 95% confidence interval our mean 5.20 lies in the interval 3.08 - 7.32\n",
            "for condition Osteoarthritis drug Diclofenac 95% confidence interval our mean 9.33 lies in the interval 8.05 - 10.61\n",
            "for condition Bacterial Infection drug Metronidazole 95% confidence interval our mean 7.07 lies in the interval 5.35 - 8.79\n",
            "for condition Constipation drug Magnesium citrate 95% confidence interval our mean 9.90 lies in the interval 9.67 - 10.13\n",
            "for condition Constipation drug Bisacodyl 95% confidence interval our mean 5.81 lies in the interval 4.52 - 7.09\n",
            "for condition Constipation drug Dulcolax 95% confidence interval our mean 5.96 lies in the interval 4.75 - 7.16\n",
            "for condition Bacterial Vaginitis drug Metronidazole 95% confidence interval our mean 7.38 lies in the interval 6.22 - 8.54\n",
            "for condition Pain drug Diclofenac 95% confidence interval our mean 8.09 lies in the interval 6.28 - 9.90\n",
            "for condition Pain drug Tapentadol 95% confidence interval our mean 7.37 lies in the interval 5.78 - 8.95\n",
            "for condition Pain drug Ketorolac 95% confidence interval our mean 7.70 lies in the interval 5.41 - 9.99\n",
            "for condition Pain drug Acetaminophen / hydrocodone 95% confidence interval our mean 8.67 lies in the interval 8.02 - 9.31\n",
            "for condition Pain drug Tramadol 95% confidence interval our mean 6.27 lies in the interval 4.94 - 7.59\n",
            "for condition Pain drug Oxycodone 95% confidence interval our mean 9.10 lies in the interval 8.24 - 9.96\n",
            "for condition Pain drug Acetaminophen / oxycodone 95% confidence interval our mean 7.65 lies in the interval 6.19 - 9.10\n",
            "for condition Pain drug Fentanyl 95% confidence interval our mean 9.09 lies in the interval 8.39 - 9.79\n",
            "for condition Pain drug Dilaudid 95% confidence interval our mean 7.94 lies in the interval 6.19 - 9.69\n",
            "for condition Pain drug Gabapentin 95% confidence interval our mean 5.46 lies in the interval 3.10 - 7.82\n",
            "for condition Pain drug Hydromorphone 95% confidence interval our mean 8.80 lies in the interval 7.59 - 10.01\n",
            "for condition mance Anxiety drug Propranolol 95% confidence interval our mean 9.93 lies in the interval 9.79 - 10.08\n",
            "for condition Vaginal Yeast Infection drug Miconazole 95% confidence interval our mean 2.21 lies in the interval 1.66 - 2.77\n",
            "for condition Vaginal Yeast Infection drug Tioconazole 95% confidence interval our mean 4.26 lies in the interval 3.36 - 5.17\n",
            "for condition Vaginal Yeast Infection drug Monistat 3-Day Combination Pack 95% confidence interval our mean 4.25 lies in the interval 2.15 - 6.35\n",
            "for condition Vaginal Yeast Infection drug Fluconazole 95% confidence interval our mean 6.90 lies in the interval 4.07 - 9.73\n",
            "for condition Major Depressive Disorde drug Vortioxetine 95% confidence interval our mean 6.31 lies in the interval 4.61 - 8.02\n",
            "for condition Major Depressive Disorde drug Trintellix 95% confidence interval our mean 7.36 lies in the interval 5.36 - 9.35\n",
            "for condition Major Depressive Disorde drug Bupropion 95% confidence interval our mean 8.09 lies in the interval 6.38 - 9.80\n",
            "for condition Endometriosis drug Leuprolide 95% confidence interval our mean 7.60 lies in the interval 5.69 - 9.51\n",
            "for condition Obesity drug Contrave 95% confidence interval our mean 7.08 lies in the interval 6.10 - 8.07\n",
            "for condition Obesity drug Bupropion / naltrexone 95% confidence interval our mean 6.90 lies in the interval 5.91 - 7.89\n",
            "for condition Obesity drug Saxenda 95% confidence interval our mean 8.13 lies in the interval 6.70 - 9.57\n",
            "for condition Obesity drug Belviq 95% confidence interval our mean 7.36 lies in the interval 5.54 - 9.18\n",
            "for condition Obesity drug Liraglutide 95% confidence interval our mean 8.00 lies in the interval 6.34 - 9.66\n",
            "for condition Obesity drug Phentermine 95% confidence interval our mean 8.41 lies in the interval 7.13 - 9.70\n",
            "for condition Obesity drug Orlistat 95% confidence interval our mean 9.40 lies in the interval 8.71 - 10.09\n",
            "for condition Obesity drug Lorcaserin 95% confidence interval our mean 7.70 lies in the interval 5.18 - 10.22\n",
            "for condition Migraine Prevention drug Topamax 95% confidence interval our mean 5.90 lies in the interval 3.39 - 8.41\n",
            "for condition Migraine Prevention drug Topiramate 95% confidence interval our mean 5.40 lies in the interval 3.78 - 7.02\n",
            "for condition Migraine Prevention drug Nortriptyline 95% confidence interval our mean 8.60 lies in the interval 7.52 - 9.68\n",
            "for condition Diabetes, Type 2 drug Dulaglutide 95% confidence interval our mean 7.60 lies in the interval 5.89 - 9.31\n",
            "for condition Diabetes, Type 2 drug Victoza 95% confidence interval our mean 7.28 lies in the interval 5.84 - 8.71\n",
            "for condition Diabetes, Type 2 drug Exenatide 95% confidence interval our mean 5.62 lies in the interval 3.95 - 7.28\n",
            "for condition Diabetes, Type 2 drug Trulicity 95% confidence interval our mean 6.36 lies in the interval 4.18 - 8.54\n",
            "for condition Diabetes, Type 2 drug Liraglutide 95% confidence interval our mean 8.94 lies in the interval 8.33 - 9.56\n",
            "for condition Diabetes, Type 2 drug Sitagliptin 95% confidence interval our mean 6.45 lies in the interval 3.95 - 8.96\n",
            "for condition Urinary Tract Infection drug Sulfamethoxazole / trimethoprim 95% confidence interval our mean 5.33 lies in the interval 2.73 - 7.94\n",
            "for condition Urinary Tract Infection drug Ciprofloxacin 95% confidence interval our mean 4.50 lies in the interval 1.69 - 7.31\n",
            "for condition Urinary Tract Infection drug Nitrofurantoin 95% confidence interval our mean 4.89 lies in the interval 3.13 - 6.65\n",
            "for condition Insomnia drug Ambien 95% confidence interval our mean 7.35 lies in the interval 6.09 - 8.61\n",
            "for condition Insomnia drug Zolpidem 95% confidence interval our mean 7.08 lies in the interval 5.95 - 8.21\n",
            "for condition Insomnia drug Lunesta 95% confidence interval our mean 7.20 lies in the interval 4.75 - 9.65\n",
            "for condition Insomnia drug Doxepin 95% confidence interval our mean 7.62 lies in the interval 5.50 - 9.73\n",
            "for condition Insomnia drug Temazepam 95% confidence interval our mean 6.09 lies in the interval 4.16 - 8.03\n",
            "for condition Insomnia drug Trazodone 95% confidence interval our mean 7.08 lies in the interval 5.61 - 8.56\n",
            "for condition Insomnia drug Belsomra 95% confidence interval our mean 2.75 lies in the interval 1.12 - 4.38\n",
            "for condition Insomnia drug Suvorexant 95% confidence interval our mean 3.75 lies in the interval 1.71 - 5.79\n",
            "for condition Insomnia drug Quetiapine 95% confidence interval our mean 8.83 lies in the interval 7.90 - 9.77\n",
            "for condition Cough drug Benzonatate 95% confidence interval our mean 5.50 lies in the interval 3.26 - 7.74\n",
            "for condition Cough drug Dextromethorphan 95% confidence interval our mean 1.82 lies in the interval 0.59 - 3.05\n",
            "for condition Onychomycosis, Toenail drug Terbinafine 95% confidence interval our mean 6.50 lies in the interval 3.67 - 9.33\n",
            "for condition Erectile Dysfunction drug Cialis 95% confidence interval our mean 8.23 lies in the interval 6.97 - 9.49\n",
            "for condition Erectile Dysfunction drug Tadalafil 95% confidence interval our mean 6.54 lies in the interval 4.19 - 8.89\n",
            "for condition Erectile Dysfunction drug Viagra 95% confidence interval our mean 8.62 lies in the interval 7.42 - 9.81\n",
            "for condition Generalized Anxiety Disorde drug Lexapro 95% confidence interval our mean 8.50 lies in the interval 6.50 - 10.50\n",
            "for condition Generalized Anxiety Disorde drug Escitalopram 95% confidence interval our mean 8.35 lies in the interval 7.15 - 9.56\n",
            "for condition Social Anxiety Disorde drug Zoloft 95% confidence interval our mean 7.10 lies in the interval 4.35 - 9.85\n",
            "for condition Bowel Preparation drug Magnesium sulfate / potassium sulfate / sodium sulfate 95% confidence interval our mean 6.97 lies in the interval 5.98 - 7.97\n",
            "for condition Bowel Preparation drug Suprep Bowel Prep Kit 95% confidence interval our mean 8.39 lies in the interval 7.67 - 9.12\n",
            "for condition Abnormal Uterine Bleeding drug Depo-Provera 95% confidence interval our mean 3.76 lies in the interval 2.23 - 5.29\n",
            "for condition Abnormal Uterine Bleeding drug Levonorgestrel 95% confidence interval our mean 5.94 lies in the interval 3.96 - 7.92\n",
            "for condition Abnormal Uterine Bleeding drug Mirena 95% confidence interval our mean 3.10 lies in the interval 1.54 - 4.66\n",
            "for condition Abnormal Uterine Bleeding drug Medroxyprogesterone 95% confidence interval our mean 2.30 lies in the interval 1.07 - 3.53\n",
            "for condition Opiate Dependence drug Buprenorphine / naloxone 95% confidence interval our mean 9.32 lies in the interval 8.80 - 9.84\n",
            "for condition Opiate Dependence drug Suboxone 95% confidence interval our mean 8.86 lies in the interval 7.96 - 9.76\n",
            "for condition Nausea/Vomiting drug Ondansetron 95% confidence interval our mean 8.45 lies in the interval 6.30 - 10.61\n",
            "for condition Smoking Cessation drug Chantix 95% confidence interval our mean 9.02 lies in the interval 8.49 - 9.55\n",
            "for condition Smoking Cessation drug Varenicline 95% confidence interval our mean 8.72 lies in the interval 8.12 - 9.32\n",
            "for condition Irritable Bowel Syndrome drug Linzess 95% confidence interval our mean 6.25 lies in the interval 4.10 - 8.40\n",
            "for condition Irritable Bowel Syndrome drug Viberzi 95% confidence interval our mean 7.80 lies in the interval 5.42 - 10.18\n",
            "for condition Chronic Pain drug Oxycodone 95% confidence interval our mean 8.00 lies in the interval 6.41 - 9.59\n",
            "for condition Hepatitis C drug Ledipasvir / sofosbuvir 95% confidence interval our mean 9.21 lies in the interval 7.81 - 10.61\n",
            "for condition Hepatitis C drug Harvoni 95% confidence interval our mean 8.10 lies in the interval 5.41 - 10.79\n",
            "for condition Hyperhidrosis drug Hypercare 95% confidence interval our mean 9.00 lies in the interval 7.64 - 10.36\n",
            "for condition Hyperhidrosis drug Aluminum chloride hexahydrate 95% confidence interval our mean 8.94 lies in the interval 7.84 - 10.04\n",
            "for condition Underactive Thyroid drug Levothyroxine 95% confidence interval our mean 6.82 lies in the interval 4.24 - 9.40\n",
            "for condition Constipation, Chronic drug Linaclotide 95% confidence interval our mean 7.12 lies in the interval 5.13 - 9.12\n",
            "for condition Constipation, Chronic drug Linzess 95% confidence interval our mean 7.64 lies in the interval 5.23 - 10.05\n",
            "for condition Anesthesia drug Propofol 95% confidence interval our mean 7.69 lies in the interval 6.12 - 9.25\n",
            "for condition ibromyalgia drug Pregabalin 95% confidence interval our mean 6.20 lies in the interval 4.55 - 7.85\n",
            "for condition ibromyalgia drug Savella 95% confidence interval our mean 7.50 lies in the interval 5.53 - 9.47\n",
            "for condition ibromyalgia drug Milnacipran 95% confidence interval our mean 7.38 lies in the interval 5.42 - 9.35\n",
            "for condition Influenza drug Oseltamivir 95% confidence interval our mean 5.75 lies in the interval 3.47 - 8.03\n",
            "for condition Hypogonadism, Male drug Testosterone 95% confidence interval our mean 7.58 lies in the interval 5.34 - 9.82\n",
            "for condition Chlamydia Infection drug Azithromycin 95% confidence interval our mean 6.73 lies in the interval 4.82 - 8.63\n"
          ],
          "name": "stdout"
        },
        {
          "output_type": "display_data",
          "data": {
            "image/png": "[encoded data removed]",
            "text/plain": [
              "<matplotlib.figure.Figure at 0x7f06abe41e10>"
            ]
          },
          "metadata": {
            "tags": []
          }
        }
      ]
    },
    {
      "metadata": {
        "id": "6-98dz5kPON4",
        "colab_type": "code",
        "colab": {
          "base_uri": "https://localhost:8080/",
          "height": 376
        },
        "outputId": "d3d001ef-0c96-472f-9732-ef95aa84d614"
      },
      "cell_type": "code",
      "source": [
        "import numpy as np\n",
        "import matplotlib.pyplot as plt\n",
        "\n",
        "\n",
        "x1 = np.linspace(0.0, 5.0)\n",
        "x2 = np.linspace(0.0, 2.0)\n",
        "\n",
        "y1 = np.cos(2 * np.pi * x1) * np.exp(-x1)\n",
        "y2 = np.cos(2 * np.pi * x2)\n",
        "\n",
        "plt.subplot(3, 1, 1)\n",
        "plt.plot(x1, y1, 'o-')\n",
        "plt.title('A tale of 2 subplots')\n",
        "plt.ylabel('Damped oscillation')\n",
        "\n",
        "plt.subplot(3, 1, 2)\n",
        "plt.plot(x2, y2, '.-')\n",
        "plt.xlabel('time (s)')\n",
        "plt.ylabel('Undamped')\n",
        "\n",
        "plt.subplot(3, 1, 3)\n",
        "plt.plot(x2, y2, '.-')\n",
        "plt.xlabel('time (s)')\n",
        "plt.ylabel('Undamped Dup')\n",
        "\n",
        "plt.show()"
      ],
      "execution_count": 98,
      "outputs": [
        {
          "output_type": "display_data",
          "data": {
            "image/png": "[encoded data removed]",
            "text/plain": [
              "<matplotlib.figure.Figure at 0x7f06aa255e80>"
            ]
          },
          "metadata": {
            "tags": []
          }
        }
      ]
    },
    {
      "metadata": {
        "id": "WIB4rYpSSnLd",
        "colab_type": "code",
        "colab": {}
      },
      "cell_type": "code",
      "source": [
        ""
      ],
      "execution_count": 0,
      "outputs": []
    }
  ]
}