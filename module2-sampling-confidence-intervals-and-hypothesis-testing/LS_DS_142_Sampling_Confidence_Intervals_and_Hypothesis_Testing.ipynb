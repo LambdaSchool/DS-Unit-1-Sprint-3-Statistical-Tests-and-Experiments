{
 "cells": [
  {
   "cell_type": "markdown",
   "metadata": {
    "colab_type": "text",
    "id": "838Dmw1kM2LK"
   },
   "source": [
    "# Lambda School Data Science Module 142\n",
    "## Sampling, Confidence Intervals, and Hypothesis Testing"
   ]
  },
  {
   "cell_type": "code",
   "execution_count": 1,
   "metadata": {
    "colab": {
     "base_uri": "https://localhost:8080/",
     "height": 53
    },
    "colab_type": "code",
    "id": "53gfgfacqZG_",
    "outputId": "5ef0ead7-b180-4a6d-d194-1a27d0aff1f7"
   },
   "outputs": [
    {
     "data": {
      "text/plain": [
       "array([ 0.49671415, -0.1382643 ,  0.64768854,  1.52302986, -0.23415337,\n",
       "       -0.23413696,  1.57921282,  0.76743473, -0.46947439,  0.54256004])"
      ]
     },
     "execution_count": 1,
     "metadata": {},
     "output_type": "execute_result"
    }
   ],
   "source": [
    "import numpy as np\n",
    "\n",
    "np.random.seed(42)\n",
    "\n",
    "np.random.normal(size=10)"
   ]
  },
  {
   "cell_type": "markdown",
   "metadata": {
    "colab_type": "text",
    "id": "dbcPKIo5M6Ny"
   },
   "source": [
    "## Prepare - examine other available hypothesis tests\n",
    "\n",
    "If you had to pick a single hypothesis test in your toolbox, t-test would probably be the best choice - but the good news is you don't have to pick just one! Here's some of the others to be aware of:"
   ]
  },
  {
   "cell_type": "code",
   "execution_count": 2,
   "metadata": {
    "colab": {
     "base_uri": "https://localhost:8080/",
     "height": 199
    },
    "colab_type": "code",
    "id": "tlBel8j9M6tB",
    "outputId": "ecb488db-bf18-4c56-bad9-10378432e93a"
   },
   "outputs": [
    {
     "name": "stdout",
     "output_type": "stream",
     "text": [
      "[[1 2]\n",
      " [1 2]]\n",
      "Power_divergenceResult(statistic=0.6666666666666666, pvalue=0.8810148425137847)\n",
      "[[16 32]\n",
      " [18 24]\n",
      " [16 16]\n",
      " [14 28]\n",
      " [12 20]\n",
      " [12 24]]\n",
      "Power_divergenceResult(statistic=23.31034482758621, pvalue=0.015975692534127565)\n"
     ]
    }
   ],
   "source": [
    "\n",
    "from scipy.stats import chisquare  # One-way chi square test\n",
    "\n",
    "# Chi square can take any crosstab/table and test the independence of rows/cols\n",
    "# The null hypothesis is that the rows/cols are independent -> low chi square\n",
    "# The alternative is that there is a dependence -> high chi square\n",
    "# Be aware! Chi square does *not* tell you direction/causation\n",
    "\n",
    "ind_obs = np.array([[1, 1], [2, 2]]).T\n",
    "print(ind_obs)\n",
    "print(chisquare(ind_obs, axis=None))\n",
    "\n",
    "dep_obs = np.array([[16, 18, 16, 14, 12, 12], [32, 24, 16, 28, 20, 24]]).T\n",
    "print(dep_obs)\n",
    "print(chisquare(dep_obs, axis=None))"
   ]
  },
  {
   "cell_type": "code",
   "execution_count": 3,
   "metadata": {
    "colab": {
     "base_uri": "https://localhost:8080/",
     "height": 35
    },
    "colab_type": "code",
    "id": "nN0BdNiDPxbk",
    "outputId": "507da106-67e8-4c1d-a80c-a636dc6053ec"
   },
   "outputs": [
    {
     "name": "stdout",
     "output_type": "stream",
     "text": [
      "NormaltestResult(statistic=22.774697660689363, pvalue=1.1338020541271413e-05)\n"
     ]
    }
   ],
   "source": [
    "# Distribution tests:\n",
    "# We often assume that something is normal, but it can be important to *check*\n",
    "\n",
    "# For example, later on with predictive modeling, a typical assumption is that\n",
    "# residuals (prediction errors) are normal - checking is a good diagnostic\n",
    "\n",
    "from scipy.stats import normaltest\n",
    "# Poisson models arrival times and is related to the binomial (coinflip)\n",
    "sample = np.random.poisson(5, 1000)\n",
    "print(normaltest(sample))  # Pretty clearly not normal"
   ]
  },
  {
   "cell_type": "code",
   "execution_count": 4,
   "metadata": {
    "colab": {
     "base_uri": "https://localhost:8080/",
     "height": 53
    },
    "colab_type": "code",
    "id": "P5t0WhkDReFO",
    "outputId": "7d6438bf-8042-4297-a8f7-cef083d22444"
   },
   "outputs": [
    {
     "name": "stdout",
     "output_type": "stream",
     "text": [
      "KruskalResult(statistic=0.2727272727272734, pvalue=0.6015081344405895)\n",
      "KruskalResult(statistic=7.0, pvalue=0.0301973834223185)\n"
     ]
    }
   ],
   "source": [
    "# Kruskal-Wallis H-test - compare the median rank between 2+ groups\n",
    "# Can be applied to ranking decisions/outcomes/recommendations\n",
    "# The underlying math comes from chi-square distribution, and is best for n>5\n",
    "from scipy.stats import kruskal\n",
    "\n",
    "x1 = [1, 3, 5, 7, 9]\n",
    "y1 = [2, 4, 6, 8, 10]\n",
    "print(kruskal(x1, y1))  # x1 is a little better, but not \"significantly\" so\n",
    "\n",
    "x2 = [1, 1, 1]\n",
    "y2 = [2, 2, 2]\n",
    "z = [2, 2]  # Hey, a third group, and of different size!\n",
    "print(kruskal(x2, y2, z))  # x clearly dominates"
   ]
  },
  {
   "cell_type": "code",
   "execution_count": 5,
   "metadata": {
    "colab": {},
    "colab_type": "code",
    "id": "ncTcvZMKvjLO"
   },
   "outputs": [],
   "source": [
    "# https://en.wikipedia.org/wiki/Kolmogorov%E2%80%93Smirnov_test"
   ]
  },
  {
   "cell_type": "markdown",
   "metadata": {
    "colab_type": "text",
    "id": "7pT3IP36Rh0b"
   },
   "source": [
    "And there's many more! `scipy.stats` is fairly comprehensive, though there are even more available if you delve into the extended world of statistics packages. As tests get increasingly obscure and specialized, the importance of knowing them by heart becomes small - but being able to look them up and figure them out when they *are* relevant is still important."
   ]
  },
  {
   "cell_type": "markdown",
   "metadata": {
    "colab_type": "text",
    "id": "L1_KRuHCM7BW"
   },
   "source": [
    "## Live Lecture - let's explore some more of scipy.stats\n",
    "\n",
    "Candidate topics to explore:\n",
    "\n",
    "- `scipy.stats.chi2` - the Chi-squared distribution, which we can use to reproduce the Chi-squared test\n",
    "- Calculate the Chi-Squared test statistic \"by hand\" (with code), and feed it into `chi2`\n",
    "- Build a confidence interval with `stats.t.ppf`, the t-distribution percentile point function (the inverse of the CDF) - we can write a function to return a tuple of `(mean, lower bound, upper bound)` that you can then use for the assignment (visualizing confidence intervals)"
   ]
  },
  {
   "cell_type": "code",
   "execution_count": 48,
   "metadata": {
    "colab": {
     "base_uri": "https://localhost:8080/",
     "height": 206
    },
    "colab_type": "code",
    "id": "qW6k0dorM7Lz",
    "outputId": "cb61f384-7f13-4732-b073-e88fa580c47c",
    "scrolled": true
   },
   "outputs": [
    {
     "data": {
      "text/html": [
       "<div>\n",
       "<style scoped>\n",
       "    .dataframe tbody tr th:only-of-type {\n",
       "        vertical-align: middle;\n",
       "    }\n",
       "\n",
       "    .dataframe tbody tr th {\n",
       "        vertical-align: top;\n",
       "    }\n",
       "\n",
       "    .dataframe thead th {\n",
       "        text-align: right;\n",
       "    }\n",
       "</style>\n",
       "<table border=\"1\" class=\"dataframe\">\n",
       "  <thead>\n",
       "    <tr style=\"text-align: right;\">\n",
       "      <th></th>\n",
       "      <th>republican</th>\n",
       "      <th>n</th>\n",
       "      <th>y</th>\n",
       "      <th>n.1</th>\n",
       "      <th>y.1</th>\n",
       "      <th>y.2</th>\n",
       "      <th>y.3</th>\n",
       "      <th>n.2</th>\n",
       "      <th>n.3</th>\n",
       "      <th>n.4</th>\n",
       "      <th>y.4</th>\n",
       "      <th>?</th>\n",
       "      <th>y.5</th>\n",
       "      <th>y.6</th>\n",
       "      <th>y.7</th>\n",
       "      <th>n.5</th>\n",
       "      <th>y.8</th>\n",
       "    </tr>\n",
       "  </thead>\n",
       "  <tbody>\n",
       "    <tr>\n",
       "      <th>0</th>\n",
       "      <td>republican</td>\n",
       "      <td>n</td>\n",
       "      <td>y</td>\n",
       "      <td>n</td>\n",
       "      <td>y</td>\n",
       "      <td>y</td>\n",
       "      <td>y</td>\n",
       "      <td>n</td>\n",
       "      <td>n</td>\n",
       "      <td>n</td>\n",
       "      <td>n</td>\n",
       "      <td>n</td>\n",
       "      <td>y</td>\n",
       "      <td>y</td>\n",
       "      <td>y</td>\n",
       "      <td>n</td>\n",
       "      <td>?</td>\n",
       "    </tr>\n",
       "    <tr>\n",
       "      <th>1</th>\n",
       "      <td>democrat</td>\n",
       "      <td>?</td>\n",
       "      <td>y</td>\n",
       "      <td>y</td>\n",
       "      <td>?</td>\n",
       "      <td>y</td>\n",
       "      <td>y</td>\n",
       "      <td>n</td>\n",
       "      <td>n</td>\n",
       "      <td>n</td>\n",
       "      <td>n</td>\n",
       "      <td>y</td>\n",
       "      <td>n</td>\n",
       "      <td>y</td>\n",
       "      <td>y</td>\n",
       "      <td>n</td>\n",
       "      <td>n</td>\n",
       "    </tr>\n",
       "    <tr>\n",
       "      <th>2</th>\n",
       "      <td>democrat</td>\n",
       "      <td>n</td>\n",
       "      <td>y</td>\n",
       "      <td>y</td>\n",
       "      <td>n</td>\n",
       "      <td>?</td>\n",
       "      <td>y</td>\n",
       "      <td>n</td>\n",
       "      <td>n</td>\n",
       "      <td>n</td>\n",
       "      <td>n</td>\n",
       "      <td>y</td>\n",
       "      <td>n</td>\n",
       "      <td>y</td>\n",
       "      <td>n</td>\n",
       "      <td>n</td>\n",
       "      <td>y</td>\n",
       "    </tr>\n",
       "    <tr>\n",
       "      <th>3</th>\n",
       "      <td>democrat</td>\n",
       "      <td>y</td>\n",
       "      <td>y</td>\n",
       "      <td>y</td>\n",
       "      <td>n</td>\n",
       "      <td>y</td>\n",
       "      <td>y</td>\n",
       "      <td>n</td>\n",
       "      <td>n</td>\n",
       "      <td>n</td>\n",
       "      <td>n</td>\n",
       "      <td>y</td>\n",
       "      <td>?</td>\n",
       "      <td>y</td>\n",
       "      <td>y</td>\n",
       "      <td>y</td>\n",
       "      <td>y</td>\n",
       "    </tr>\n",
       "    <tr>\n",
       "      <th>4</th>\n",
       "      <td>democrat</td>\n",
       "      <td>n</td>\n",
       "      <td>y</td>\n",
       "      <td>y</td>\n",
       "      <td>n</td>\n",
       "      <td>y</td>\n",
       "      <td>y</td>\n",
       "      <td>n</td>\n",
       "      <td>n</td>\n",
       "      <td>n</td>\n",
       "      <td>n</td>\n",
       "      <td>n</td>\n",
       "      <td>n</td>\n",
       "      <td>y</td>\n",
       "      <td>y</td>\n",
       "      <td>y</td>\n",
       "      <td>y</td>\n",
       "    </tr>\n",
       "  </tbody>\n",
       "</table>\n",
       "</div>"
      ],
      "text/plain": [
       "   republican  n  y n.1 y.1 y.2 y.3 n.2 n.3 n.4 y.4  ? y.5 y.6 y.7 n.5 y.8\n",
       "0  republican  n  y   n   y   y   y   n   n   n   n  n   y   y   y   n   ?\n",
       "1    democrat  ?  y   y   ?   y   y   n   n   n   n  y   n   y   y   n   n\n",
       "2    democrat  n  y   y   n   ?   y   n   n   n   n  y   n   y   n   n   y\n",
       "3    democrat  y  y   y   n   y   y   n   n   n   n  y   ?   y   y   y   y\n",
       "4    democrat  n  y   y   n   y   y   n   n   n   n  n   n   y   y   y   y"
      ]
     },
     "execution_count": 48,
     "metadata": {},
     "output_type": "execute_result"
    }
   ],
   "source": [
    "import pandas as pd\n",
    "\n",
    "df = pd.read_csv('/Users/imac/DS-Unit-1-Sprint-3-Statistical-Tests-and-Experiments/module2-sampling-confidence-intervals-and-hypothesis-testing/house-votes-84.data', sep=',')\n",
    "df.head()"
   ]
  },
  {
   "cell_type": "code",
   "execution_count": 42,
   "metadata": {
    "colab": {
     "base_uri": "https://localhost:8080/",
     "height": 235
    },
    "colab_type": "code",
    "id": "GckNFae62rkE",
    "outputId": "8d3b4182-6e4e-4747-bd1a-b3a4fccaf0d5"
   },
   "outputs": [
    {
     "data": {
      "text/plain": [
       "republican    0\n",
       "n             0\n",
       "y             0\n",
       "n.1           0\n",
       "y.1           0\n",
       "y.2           0\n",
       "y.3           0\n",
       "n.2           0\n",
       "n.3           0\n",
       "n.4           0\n",
       "y.4           0\n",
       "?             0\n",
       "y.5           0\n",
       "y.6           0\n",
       "y.7           0\n",
       "n.5           0\n",
       "y.8           0\n",
       "dtype: int64"
      ]
     },
     "execution_count": 42,
     "metadata": {},
     "output_type": "execute_result"
    }
   ],
   "source": [
    "df.isnull().sum()"
   ]
  },
  {
   "cell_type": "code",
   "execution_count": 49,
   "metadata": {
    "colab": {
     "base_uri": "https://localhost:8080/",
     "height": 175
    },
    "colab_type": "code",
    "id": "x_9ww3X52rmR",
    "outputId": "53d22423-4fa0-4d5a-e984-aff05934f68d"
   },
   "outputs": [
    {
     "data": {
      "text/html": [
       "<div>\n",
       "<style scoped>\n",
       "    .dataframe tbody tr th:only-of-type {\n",
       "        vertical-align: middle;\n",
       "    }\n",
       "\n",
       "    .dataframe tbody tr th {\n",
       "        vertical-align: top;\n",
       "    }\n",
       "\n",
       "    .dataframe thead th {\n",
       "        text-align: right;\n",
       "    }\n",
       "</style>\n",
       "<table border=\"1\" class=\"dataframe\">\n",
       "  <thead>\n",
       "    <tr style=\"text-align: right;\">\n",
       "      <th>y</th>\n",
       "      <th>?</th>\n",
       "      <th>n</th>\n",
       "      <th>y</th>\n",
       "    </tr>\n",
       "    <tr>\n",
       "      <th>n</th>\n",
       "      <th></th>\n",
       "      <th></th>\n",
       "      <th></th>\n",
       "    </tr>\n",
       "  </thead>\n",
       "  <tbody>\n",
       "    <tr>\n",
       "      <th>?</th>\n",
       "      <td>8</td>\n",
       "      <td>2</td>\n",
       "      <td>2</td>\n",
       "    </tr>\n",
       "    <tr>\n",
       "      <th>n</th>\n",
       "      <td>23</td>\n",
       "      <td>108</td>\n",
       "      <td>104</td>\n",
       "    </tr>\n",
       "    <tr>\n",
       "      <th>y</th>\n",
       "      <td>17</td>\n",
       "      <td>82</td>\n",
       "      <td>88</td>\n",
       "    </tr>\n",
       "  </tbody>\n",
       "</table>\n",
       "</div>"
      ],
      "text/plain": [
       "y   ?    n    y\n",
       "n              \n",
       "?   8    2    2\n",
       "n  23  108  104\n",
       "y  17   82   88"
      ]
     },
     "execution_count": 49,
     "metadata": {},
     "output_type": "execute_result"
    }
   ],
   "source": [
    "table_observed = pd.crosstab(df['n'], df['y'])\n",
    "table_observed"
   ]
  },
  {
   "cell_type": "code",
   "execution_count": 50,
   "metadata": {
    "colab": {
     "base_uri": "https://localhost:8080/",
     "height": 206
    },
    "colab_type": "code",
    "id": "wevugH_N2rpB",
    "outputId": "c54b0c46-4eeb-450f-a4c6-2165b4ef4e78"
   },
   "outputs": [
    {
     "data": {
      "text/html": [
       "<div>\n",
       "<style scoped>\n",
       "    .dataframe tbody tr th:only-of-type {\n",
       "        vertical-align: middle;\n",
       "    }\n",
       "\n",
       "    .dataframe tbody tr th {\n",
       "        vertical-align: top;\n",
       "    }\n",
       "\n",
       "    .dataframe thead th {\n",
       "        text-align: right;\n",
       "    }\n",
       "</style>\n",
       "<table border=\"1\" class=\"dataframe\">\n",
       "  <thead>\n",
       "    <tr style=\"text-align: right;\">\n",
       "      <th>y</th>\n",
       "      <th>?</th>\n",
       "      <th>n</th>\n",
       "      <th>y</th>\n",
       "      <th>All</th>\n",
       "    </tr>\n",
       "    <tr>\n",
       "      <th>n</th>\n",
       "      <th></th>\n",
       "      <th></th>\n",
       "      <th></th>\n",
       "      <th></th>\n",
       "    </tr>\n",
       "  </thead>\n",
       "  <tbody>\n",
       "    <tr>\n",
       "      <th>?</th>\n",
       "      <td>8</td>\n",
       "      <td>2</td>\n",
       "      <td>2</td>\n",
       "      <td>12</td>\n",
       "    </tr>\n",
       "    <tr>\n",
       "      <th>n</th>\n",
       "      <td>23</td>\n",
       "      <td>108</td>\n",
       "      <td>104</td>\n",
       "      <td>235</td>\n",
       "    </tr>\n",
       "    <tr>\n",
       "      <th>y</th>\n",
       "      <td>17</td>\n",
       "      <td>82</td>\n",
       "      <td>88</td>\n",
       "      <td>187</td>\n",
       "    </tr>\n",
       "    <tr>\n",
       "      <th>All</th>\n",
       "      <td>48</td>\n",
       "      <td>192</td>\n",
       "      <td>194</td>\n",
       "      <td>434</td>\n",
       "    </tr>\n",
       "  </tbody>\n",
       "</table>\n",
       "</div>"
      ],
      "text/plain": [
       "y     ?    n    y  All\n",
       "n                     \n",
       "?     8    2    2   12\n",
       "n    23  108  104  235\n",
       "y    17   82   88  187\n",
       "All  48  192  194  434"
      ]
     },
     "execution_count": 50,
     "metadata": {},
     "output_type": "execute_result"
    }
   ],
   "source": [
    "table_observed_w_marg = pd.crosstab(df['n'], df['y'], margins=True)\n",
    "table_observed_w_marg.head()"
   ]
  },
  {
   "cell_type": "code",
   "execution_count": 51,
   "metadata": {
    "colab": {
     "base_uri": "https://localhost:8080/",
     "height": 126
    },
    "colab_type": "code",
    "id": "MdXOt8ih2rwE",
    "outputId": "bf6b52cb-67a4-4e9c-8d3a-4b0f78e2ab9e"
   },
   "outputs": [
    {
     "data": {
      "text/plain": [
       "n\n",
       "?       12\n",
       "n      235\n",
       "y      187\n",
       "All    434\n",
       "Name: All, dtype: int64"
      ]
     },
     "execution_count": 51,
     "metadata": {},
     "output_type": "execute_result"
    }
   ],
   "source": [
    "table_observed_w_marg['All']"
   ]
  },
  {
   "cell_type": "code",
   "execution_count": 52,
   "metadata": {
    "colab": {
     "base_uri": "https://localhost:8080/",
     "height": 126
    },
    "colab_type": "code",
    "id": "NQEe65p-2ryM",
    "outputId": "b4f85f04-62cb-444f-f4ea-3286a7bf3956"
   },
   "outputs": [
    {
     "data": {
      "text/plain": [
       "y\n",
       "?       48\n",
       "n      192\n",
       "y      194\n",
       "All    434\n",
       "Name: All, dtype: int64"
      ]
     },
     "execution_count": 52,
     "metadata": {},
     "output_type": "execute_result"
    }
   ],
   "source": [
    "table_observed_w_marg.T['All']"
   ]
  },
  {
   "cell_type": "code",
   "execution_count": 53,
   "metadata": {
    "colab": {
     "base_uri": "https://localhost:8080/",
     "height": 35
    },
    "colab_type": "code",
    "id": "DZXz4FTJ4G_3",
    "outputId": "153bac9a-60d6-4339-f1a4-229c49096ea9"
   },
   "outputs": [
    {
     "data": {
      "text/plain": [
       "array([ 12, 235, 187])"
      ]
     },
     "execution_count": 53,
     "metadata": {},
     "output_type": "execute_result"
    }
   ],
   "source": [
    "table_observed_w_marg['All'].values[:-1]"
   ]
  },
  {
   "cell_type": "code",
   "execution_count": 54,
   "metadata": {
    "colab": {
     "base_uri": "https://localhost:8080/",
     "height": 71
    },
    "colab_type": "code",
    "id": "OWXw_S_N3c9-",
    "outputId": "f689a2e4-3116-47e1-9440-c2c04896d392"
   },
   "outputs": [
    {
     "data": {
      "text/plain": [
       "array([[  1.32718894,   5.30875576,   5.3640553 ],\n",
       "       [ 25.99078341, 103.96313364, 105.04608295],\n",
       "       [ 20.68202765,  82.7281106 ,  83.58986175]])"
      ]
     },
     "execution_count": 54,
     "metadata": {},
     "output_type": "execute_result"
    }
   ],
   "source": [
    "np.outer(table_observed_w_marg['All'].values[:-1], table_observed_w_marg.T['All'].values[:-1])/table_observed_w_marg.T['All'].values[-1]"
   ]
  },
  {
   "cell_type": "code",
   "execution_count": 55,
   "metadata": {
    "colab": {
     "base_uri": "https://localhost:8080/",
     "height": 35
    },
    "colab_type": "code",
    "id": "uUICuJqn3dAQ",
    "outputId": "22c8e7e2-4f3e-46c0-b0c7-d6a49678b6d8"
   },
   "outputs": [
    {
     "data": {
      "text/plain": [
       "array([ 12, 235, 187])"
      ]
     },
     "execution_count": 55,
     "metadata": {},
     "output_type": "execute_result"
    }
   ],
   "source": [
    "goals_totals = table_observed_w_marg['All'].values[:-1]\n",
    "goals_totals"
   ]
  },
  {
   "cell_type": "code",
   "execution_count": 56,
   "metadata": {
    "colab": {
     "base_uri": "https://localhost:8080/",
     "height": 35
    },
    "colab_type": "code",
    "id": "IkKkQqL-3dCw",
    "outputId": "cdc59b13-33df-420a-a95a-e3c76ec2a1d5"
   },
   "outputs": [
    {
     "data": {
      "text/plain": [
       "array([ 48, 192, 194])"
      ]
     },
     "execution_count": 56,
     "metadata": {},
     "output_type": "execute_result"
    }
   ],
   "source": [
    "grade_totals = table_observed_w_marg.T['All'].values[:-1]\n",
    "grade_totals"
   ]
  },
  {
   "cell_type": "code",
   "execution_count": 57,
   "metadata": {
    "colab": {},
    "colab_type": "code",
    "id": "-NIJc9ud4faV"
   },
   "outputs": [],
   "source": [
    "assert goals_totals.sum() == grade_totals.sum()"
   ]
  },
  {
   "cell_type": "code",
   "execution_count": 58,
   "metadata": {
    "colab": {
     "base_uri": "https://localhost:8080/",
     "height": 35
    },
    "colab_type": "code",
    "id": "8bqGQodh6TTc",
    "outputId": "25285a10-b82d-46f3-ac8f-a1630f40a136"
   },
   "outputs": [
    {
     "data": {
      "text/plain": [
       "434"
      ]
     },
     "execution_count": 58,
     "metadata": {},
     "output_type": "execute_result"
    }
   ],
   "source": [
    "grade_totals.sum()"
   ]
  },
  {
   "cell_type": "code",
   "execution_count": 59,
   "metadata": {
    "colab": {
     "base_uri": "https://localhost:8080/",
     "height": 71
    },
    "colab_type": "code",
    "id": "s1KQVpMJ3dFo",
    "outputId": "61ae57a1-92c3-4571-93ee-ccc74e609075"
   },
   "outputs": [
    {
     "data": {
      "text/plain": [
       "array([[  1.32718894,   5.30875576,   5.3640553 ],\n",
       "       [ 25.99078341, 103.96313364, 105.04608295],\n",
       "       [ 20.68202765,  82.7281106 ,  83.58986175]])"
      ]
     },
     "execution_count": 59,
     "metadata": {},
     "output_type": "execute_result"
    }
   ],
   "source": [
    "expected = np.outer(goals_totals, grade_totals)/grade_totals.sum()\n",
    "expected"
   ]
  },
  {
   "cell_type": "code",
   "execution_count": 60,
   "metadata": {
    "colab": {
     "base_uri": "https://localhost:8080/",
     "height": 175
    },
    "colab_type": "code",
    "id": "SvEJyjR43dLr",
    "outputId": "1df37c31-7ce6-4b95-ab99-bc7755d7b784"
   },
   "outputs": [
    {
     "data": {
      "text/html": [
       "<div>\n",
       "<style scoped>\n",
       "    .dataframe tbody tr th:only-of-type {\n",
       "        vertical-align: middle;\n",
       "    }\n",
       "\n",
       "    .dataframe tbody tr th {\n",
       "        vertical-align: top;\n",
       "    }\n",
       "\n",
       "    .dataframe thead th {\n",
       "        text-align: right;\n",
       "    }\n",
       "</style>\n",
       "<table border=\"1\" class=\"dataframe\">\n",
       "  <thead>\n",
       "    <tr style=\"text-align: right;\">\n",
       "      <th>y</th>\n",
       "      <th>?</th>\n",
       "      <th>n</th>\n",
       "      <th>y</th>\n",
       "    </tr>\n",
       "    <tr>\n",
       "      <th>n</th>\n",
       "      <th></th>\n",
       "      <th></th>\n",
       "      <th></th>\n",
       "    </tr>\n",
       "  </thead>\n",
       "  <tbody>\n",
       "    <tr>\n",
       "      <th>?</th>\n",
       "      <td>1.327189</td>\n",
       "      <td>5.308756</td>\n",
       "      <td>5.364055</td>\n",
       "    </tr>\n",
       "    <tr>\n",
       "      <th>n</th>\n",
       "      <td>25.990783</td>\n",
       "      <td>103.963134</td>\n",
       "      <td>105.046083</td>\n",
       "    </tr>\n",
       "    <tr>\n",
       "      <th>y</th>\n",
       "      <td>20.682028</td>\n",
       "      <td>82.728111</td>\n",
       "      <td>83.589862</td>\n",
       "    </tr>\n",
       "  </tbody>\n",
       "</table>\n",
       "</div>"
      ],
      "text/plain": [
       "y          ?           n           y\n",
       "n                                   \n",
       "?   1.327189    5.308756    5.364055\n",
       "n  25.990783  103.963134  105.046083\n",
       "y  20.682028   82.728111   83.589862"
      ]
     },
     "execution_count": 60,
     "metadata": {},
     "output_type": "execute_result"
    }
   ],
   "source": [
    "table_expected = pd.DataFrame(expected)\n",
    "table_expected.columns = table_observed.columns\n",
    "table_expected.index = table_observed.index\n",
    "table_expected"
   ]
  },
  {
   "cell_type": "code",
   "execution_count": null,
   "metadata": {
    "colab": {
     "base_uri": "https://localhost:8080/",
     "height": 175
    },
    "colab_type": "code",
    "id": "7Z2S2H2i3dVb",
    "outputId": "38030b81-4aca-4d27-b2bd-73255aa9e780"
   },
   "outputs": [],
   "source": [
    "table_observed"
   ]
  },
  {
   "cell_type": "code",
   "execution_count": null,
   "metadata": {
    "colab": {
     "base_uri": "https://localhost:8080/",
     "height": 175
    },
    "colab_type": "code",
    "id": "8ygnKWei3dYL",
    "outputId": "0b56dcfd-4e82-4af6-cc00-64ae0d7fdfb3"
   },
   "outputs": [],
   "source": [
    "deviation = table_observed - table_expected\n",
    "deviation"
   ]
  },
  {
   "cell_type": "code",
   "execution_count": null,
   "metadata": {
    "colab": {
     "base_uri": "https://localhost:8080/",
     "height": 175
    },
    "colab_type": "code",
    "id": "qvL9Peg63da1",
    "outputId": "2325f6de-f083-459b-f2fc-5f46a46e03b3"
   },
   "outputs": [],
   "source": [
    "deviation_sq = deviation**2\n",
    "deviation_sq"
   ]
  },
  {
   "cell_type": "code",
   "execution_count": null,
   "metadata": {
    "colab": {
     "base_uri": "https://localhost:8080/",
     "height": 175
    },
    "colab_type": "code",
    "id": "Zrr2_aCT3ddw",
    "outputId": "a6b9e1cd-4b98-4f42-ee08-46bd541d4338"
   },
   "outputs": [],
   "source": [
    "fraction = deviation_sq/table_expected\n",
    "fraction"
   ]
  },
  {
   "cell_type": "code",
   "execution_count": null,
   "metadata": {
    "colab": {
     "base_uri": "https://localhost:8080/",
     "height": 35
    },
    "colab_type": "code",
    "id": "EdCQGlA73df2",
    "outputId": "1235b354-d475-4a5f-e498-3187785d74df"
   },
   "outputs": [],
   "source": [
    "fraction.values.sum()"
   ]
  },
  {
   "cell_type": "code",
   "execution_count": null,
   "metadata": {
    "colab": {
     "base_uri": "https://localhost:8080/",
     "height": 175
    },
    "colab_type": "code",
    "id": "EW4quKQC87Tr",
    "outputId": "b4da2266-f11f-4f9c-cc44-52853896391e"
   },
   "outputs": [],
   "source": [
    "table_observed"
   ]
  },
  {
   "cell_type": "code",
   "execution_count": null,
   "metadata": {
    "colab": {
     "base_uri": "https://localhost:8080/",
     "height": 126
    },
    "colab_type": "code",
    "id": "gn8srd-r3dip",
    "outputId": "a21f96eb-6397-4f9a-9836-142d074577ed"
   },
   "outputs": [],
   "source": [
    "from scipy.stats import chi2_contingency\n",
    "\n",
    "chi2, p, df, expect = chi2_contingency(table_observed)\n",
    "print(f'chi2 stat: {chi2}')\n",
    "print(f'p-value: {p}')\n",
    "print(f'df: {df}')\n",
    "print(f'expected freq: {expect}')"
   ]
  },
  {
   "cell_type": "code",
   "execution_count": null,
   "metadata": {
    "colab": {},
    "colab_type": "code",
    "id": "JUfqPxFf3dn0"
   },
   "outputs": [],
   "source": []
  },
  {
   "cell_type": "markdown",
   "metadata": {
    "colab_type": "text",
    "id": "PsVDDXL69mNK"
   },
   "source": [
    "# Confidence intervals"
   ]
  },
  {
   "cell_type": "code",
   "execution_count": null,
   "metadata": {
    "colab": {
     "base_uri": "https://localhost:8080/",
     "height": 35
    },
    "colab_type": "code",
    "id": "XRK2ko8Z9gnI",
    "outputId": "182ca062-8a87-4fa4-fa1e-bd95a7ddb02a"
   },
   "outputs": [],
   "source": [
    "import scipy.stats as stats\n",
    "import numpy as np\n",
    "\n",
    "#confidence_interval = [lower_bound, upper_bound]\n",
    "\n",
    "coinflips = np.random.binomial(n=1, p=.501, size=10000000)\n",
    "print(coinflips[:20])"
   ]
  },
  {
   "cell_type": "code",
   "execution_count": null,
   "metadata": {
    "colab": {
     "base_uri": "https://localhost:8080/",
     "height": 35
    },
    "colab_type": "code",
    "id": "HMgbA-839gqS",
    "outputId": "588be359-db27-4295-d1a5-508a61b912d4"
   },
   "outputs": [],
   "source": [
    "stats.ttest_1samp(coinflips, 0.5)"
   ]
  },
  {
   "cell_type": "code",
   "execution_count": null,
   "metadata": {
    "colab": {
     "base_uri": "https://localhost:8080/",
     "height": 53
    },
    "colab_type": "code",
    "id": "OfDcFoWP9g1M",
    "outputId": "2c7ce514-a330-4087-f3f4-8a990ddd9ae8"
   },
   "outputs": [],
   "source": [
    "coinflips_100 = np.random.binomial(n=1, p=.5, size=100)\n",
    "coinflips_1000 = np.random.binomial(n=1, p=.5, size=1000)\n",
    "\n",
    "print(\"100 Coinflips Standard Deviation:\", np.std(coinflips_100, ddof=1))\n",
    "print(\"1000 Coinflips Standard Deviation:\", np.std(coinflips_1000, ddof=1))"
   ]
  },
  {
   "cell_type": "code",
   "execution_count": null,
   "metadata": {
    "colab": {},
    "colab_type": "code",
    "id": "Qh4aLkqE9g38"
   },
   "outputs": [],
   "source": [
    "def my_stdev(sample_data):\n",
    "  mu = sample_data.mean()\n",
    "  diff = sample_data - mu\n",
    "  diff_sq = diff**2\n",
    "  stdev = np.sqrt(diff_sq.sum()/(len(sample_data)-1))\n",
    "  return stdev"
   ]
  },
  {
   "cell_type": "code",
   "execution_count": null,
   "metadata": {
    "colab": {
     "base_uri": "https://localhost:8080/",
     "height": 35
    },
    "colab_type": "code",
    "id": "4Plf0wf39g7C",
    "outputId": "7654bd9b-c070-4c34-f2c6-7a5abef65c5a"
   },
   "outputs": [],
   "source": [
    "delta_100 = my_stdev(coinflips_100)/np.sqrt(100)\n",
    "delta_100"
   ]
  },
  {
   "cell_type": "code",
   "execution_count": null,
   "metadata": {
    "colab": {
     "base_uri": "https://localhost:8080/",
     "height": 35
    },
    "colab_type": "code",
    "id": "dXZKYWNC3dpu",
    "outputId": "6320f8a7-16eb-4432-87fd-0127f12ff057"
   },
   "outputs": [],
   "source": [
    "delta_1000 = my_stdev(coinflips_1000)/np.sqrt(1000)\n",
    "delta_1000"
   ]
  },
  {
   "cell_type": "code",
   "execution_count": null,
   "metadata": {
    "colab": {
     "base_uri": "https://localhost:8080/",
     "height": 35
    },
    "colab_type": "code",
    "id": "I5Jrd-803dtK",
    "outputId": "e65d3fd5-8693-4f99-e2ce-347074182ed6"
   },
   "outputs": [],
   "source": [
    "coinflips_1000.mean() - delta_1000"
   ]
  },
  {
   "cell_type": "code",
   "execution_count": null,
   "metadata": {
    "colab": {
     "base_uri": "https://localhost:8080/",
     "height": 35
    },
    "colab_type": "code",
    "id": "Vpwy28if3dli",
    "outputId": "7c1f1659-b345-4b8f-e52d-b406f812e489"
   },
   "outputs": [],
   "source": [
    "coinflips_1000.mean() + delta_1000"
   ]
  },
  {
   "cell_type": "code",
   "execution_count": null,
   "metadata": {
    "colab": {
     "base_uri": "https://localhost:8080/",
     "height": 35
    },
    "colab_type": "code",
    "id": "zihn210bB2Jt",
    "outputId": "ad997c06-345f-4817-f60c-86ecbbe7d4b8"
   },
   "outputs": [],
   "source": [
    "coinflips_100.mean() - delta_100"
   ]
  },
  {
   "cell_type": "code",
   "execution_count": null,
   "metadata": {
    "colab": {
     "base_uri": "https://localhost:8080/",
     "height": 35
    },
    "colab_type": "code",
    "id": "Q8UF4up2B9Dh",
    "outputId": "c7089e3a-f4fd-41bc-ea45-20c0519af904"
   },
   "outputs": [],
   "source": [
    "coinflips_100.mean() + delta_100"
   ]
  },
  {
   "cell_type": "markdown",
   "metadata": {
    "colab_type": "text",
    "id": "11OzdxWTM7UR"
   },
   "source": [
    "## Assignment - Build a confidence interval\n",
    "\n",
    "A confidence interval refers to a neighborhood around some point estimate, the size of which is determined by the desired p-value. For instance, we might say that 52% of Americans prefer tacos to burritos, with a 95% confidence interval of +/- 5%.\n",
    "\n",
    "52% (0.52) is the point estimate, and +/- 5% (the interval $[0.47, 0.57]$) is the confidence interval. \"95% confidence\" means a p-value $\\leq 1 - 0.95 = 0.05$.\n",
    "\n",
    "In this case, the confidence interval includes $0.5$ - which is the natural null hypothesis (that half of Americans prefer tacos and half burritos, thus there is no clear favorite). So in this case, we could use the confidence interval to report that we've failed to reject the null hypothesis.\n",
    "\n",
    "But providing the full analysis with a confidence interval, including a graphical representation of it, can be a helpful and powerful way to tell your story. Done well, it is also more intuitive to a layperson than simply saying \"fail to reject the null hypothesis\" - it shows that in fact the data does *not* give a single clear result (the point estimate) but a whole range of possibilities.\n",
    "\n",
    "How is a confidence interval built, and how should it be interpreted? It does *not* mean that 95% of the data lies in that interval - instead, the frequentist interpretation is \"if we were to repeat this experiment 100 times, we would expect the average result to lie in this interval ~95 times.\"\n",
    "\n",
    "For a 95% confidence interval and a normal(-ish) distribution, you can simply remember that +/-2 standard deviations contains 95% of the probability mass, and so the 95% confidence interval based on a given sample is centered at the mean (point estimate) and has a range of +/- 2 (or technically 1.96) standard deviations.\n",
    "\n",
    "Different distributions/assumptions (90% confidence, 99% confidence) will require different math, but the overall process and interpretation (with a frequentist approach) will be the same.\n",
    "\n",
    "Your assignment - using the data from the prior module ([congressional voting records](https://archive.ics.uci.edu/ml/datasets/Congressional+Voting+Records)):\n",
    "\n",
    "1. Generate and numerically represent a confidence interval\n",
    "2. Graphically (with a plot) represent the confidence interval\n",
    "3. Interpret the confidence interval - what does it tell you about the data and its distribution?\n",
    "\n",
    "Stretch goals:\n",
    "\n",
    "1. Write a summary of your findings, mixing prose and math/code/results. *Note* - yes, this is by definition a political topic. It is challenging but important to keep your writing voice *neutral* and stick to the facts of the data. Data science often involves considering controversial issues, so it's important to be sensitive about them (especially if you want to publish).\n",
    "2. Apply the techniques you learned today to your project data or other data of your choice, and write/discuss your findings here.\n",
    "3. Refactor your code so it is elegant, readable, and can be easily run for all issues."
   ]
  },
  {
   "cell_type": "code",
   "execution_count": 13,
   "metadata": {
    "colab": {},
    "colab_type": "code",
    "id": "Ckcr4A4FM7cs"
   },
   "outputs": [],
   "source": [
    "# Importing libraries \n",
    "\n",
    "import pandas as pd \n",
    "import matplotlib.pyplot as plt\n",
    "import numpy as np \n",
    "import scipy as sci"
   ]
  },
  {
   "cell_type": "code",
   "execution_count": 14,
   "metadata": {},
   "outputs": [],
   "source": [
    "# DataFrame Variables for a local file with header names\n",
    "# the filepath to the file should be point to its place on your HD \n",
    "\n",
    "file  = '/Users/imac/DS-Unit-1-Sprint-3-Statistical-Tests-and-Experiments/module2-sampling-confidence-intervals-and-hypothesis-testing/house-votes-84.data'\n",
    "names = [\n",
    "'Class',\n",
    "'handicapped-infants',\n",
    "'water-project-cost-sharin',\n",
    "'adoption-of-the-budget-resolution',\n",
    "'physician-fee-freeze',\n",
    "'el-salvador-aid',\n",
    "'religious-groups-in-schools',\n",
    "'anti-satellite-test-ban',\n",
    "'aid-to-nicaraguan-contras',\n",
    "'mx-missile',\n",
    "'immigration',\n",
    "'synfuels-corporation-cutback',\n",
    "'education-spending',\n",
    "'superfund-right-to-sue',\n",
    "'crime',\n",
    "'duty-free-exports',\n",
    "'export-administration-act-south-africa']\n"
   ]
  },
  {
   "cell_type": "code",
   "execution_count": 15,
   "metadata": {},
   "outputs": [],
   "source": [
    "# Reading in a file on local HD \n",
    "\n",
    "df = pd.read_csv(file, header=None, names=names)"
   ]
  },
  {
   "cell_type": "code",
   "execution_count": 16,
   "metadata": {},
   "outputs": [
    {
     "data": {
      "text/html": [
       "<div>\n",
       "<style scoped>\n",
       "    .dataframe tbody tr th:only-of-type {\n",
       "        vertical-align: middle;\n",
       "    }\n",
       "\n",
       "    .dataframe tbody tr th {\n",
       "        vertical-align: top;\n",
       "    }\n",
       "\n",
       "    .dataframe thead th {\n",
       "        text-align: right;\n",
       "    }\n",
       "</style>\n",
       "<table border=\"1\" class=\"dataframe\">\n",
       "  <thead>\n",
       "    <tr style=\"text-align: right;\">\n",
       "      <th></th>\n",
       "      <th>Class</th>\n",
       "      <th>handicapped-infants</th>\n",
       "      <th>water-project-cost-sharin</th>\n",
       "      <th>adoption-of-the-budget-resolution</th>\n",
       "      <th>physician-fee-freeze</th>\n",
       "      <th>el-salvador-aid</th>\n",
       "      <th>religious-groups-in-schools</th>\n",
       "      <th>anti-satellite-test-ban</th>\n",
       "      <th>aid-to-nicaraguan-contras</th>\n",
       "      <th>mx-missile</th>\n",
       "      <th>immigration</th>\n",
       "      <th>synfuels-corporation-cutback</th>\n",
       "      <th>education-spending</th>\n",
       "      <th>superfund-right-to-sue</th>\n",
       "      <th>crime</th>\n",
       "      <th>duty-free-exports</th>\n",
       "      <th>export-administration-act-south-africa</th>\n",
       "    </tr>\n",
       "  </thead>\n",
       "  <tbody>\n",
       "    <tr>\n",
       "      <th>0</th>\n",
       "      <td>republican</td>\n",
       "      <td>n</td>\n",
       "      <td>y</td>\n",
       "      <td>n</td>\n",
       "      <td>y</td>\n",
       "      <td>y</td>\n",
       "      <td>y</td>\n",
       "      <td>n</td>\n",
       "      <td>n</td>\n",
       "      <td>n</td>\n",
       "      <td>y</td>\n",
       "      <td>?</td>\n",
       "      <td>y</td>\n",
       "      <td>y</td>\n",
       "      <td>y</td>\n",
       "      <td>n</td>\n",
       "      <td>y</td>\n",
       "    </tr>\n",
       "    <tr>\n",
       "      <th>1</th>\n",
       "      <td>republican</td>\n",
       "      <td>n</td>\n",
       "      <td>y</td>\n",
       "      <td>n</td>\n",
       "      <td>y</td>\n",
       "      <td>y</td>\n",
       "      <td>y</td>\n",
       "      <td>n</td>\n",
       "      <td>n</td>\n",
       "      <td>n</td>\n",
       "      <td>n</td>\n",
       "      <td>n</td>\n",
       "      <td>y</td>\n",
       "      <td>y</td>\n",
       "      <td>y</td>\n",
       "      <td>n</td>\n",
       "      <td>?</td>\n",
       "    </tr>\n",
       "    <tr>\n",
       "      <th>2</th>\n",
       "      <td>democrat</td>\n",
       "      <td>?</td>\n",
       "      <td>y</td>\n",
       "      <td>y</td>\n",
       "      <td>?</td>\n",
       "      <td>y</td>\n",
       "      <td>y</td>\n",
       "      <td>n</td>\n",
       "      <td>n</td>\n",
       "      <td>n</td>\n",
       "      <td>n</td>\n",
       "      <td>y</td>\n",
       "      <td>n</td>\n",
       "      <td>y</td>\n",
       "      <td>y</td>\n",
       "      <td>n</td>\n",
       "      <td>n</td>\n",
       "    </tr>\n",
       "    <tr>\n",
       "      <th>3</th>\n",
       "      <td>democrat</td>\n",
       "      <td>n</td>\n",
       "      <td>y</td>\n",
       "      <td>y</td>\n",
       "      <td>n</td>\n",
       "      <td>?</td>\n",
       "      <td>y</td>\n",
       "      <td>n</td>\n",
       "      <td>n</td>\n",
       "      <td>n</td>\n",
       "      <td>n</td>\n",
       "      <td>y</td>\n",
       "      <td>n</td>\n",
       "      <td>y</td>\n",
       "      <td>n</td>\n",
       "      <td>n</td>\n",
       "      <td>y</td>\n",
       "    </tr>\n",
       "    <tr>\n",
       "      <th>4</th>\n",
       "      <td>democrat</td>\n",
       "      <td>y</td>\n",
       "      <td>y</td>\n",
       "      <td>y</td>\n",
       "      <td>n</td>\n",
       "      <td>y</td>\n",
       "      <td>y</td>\n",
       "      <td>n</td>\n",
       "      <td>n</td>\n",
       "      <td>n</td>\n",
       "      <td>n</td>\n",
       "      <td>y</td>\n",
       "      <td>?</td>\n",
       "      <td>y</td>\n",
       "      <td>y</td>\n",
       "      <td>y</td>\n",
       "      <td>y</td>\n",
       "    </tr>\n",
       "  </tbody>\n",
       "</table>\n",
       "</div>"
      ],
      "text/plain": [
       "        Class handicapped-infants water-project-cost-sharin  \\\n",
       "0  republican                   n                         y   \n",
       "1  republican                   n                         y   \n",
       "2    democrat                   ?                         y   \n",
       "3    democrat                   n                         y   \n",
       "4    democrat                   y                         y   \n",
       "\n",
       "  adoption-of-the-budget-resolution physician-fee-freeze el-salvador-aid  \\\n",
       "0                                 n                    y               y   \n",
       "1                                 n                    y               y   \n",
       "2                                 y                    ?               y   \n",
       "3                                 y                    n               ?   \n",
       "4                                 y                    n               y   \n",
       "\n",
       "  religious-groups-in-schools anti-satellite-test-ban  \\\n",
       "0                           y                       n   \n",
       "1                           y                       n   \n",
       "2                           y                       n   \n",
       "3                           y                       n   \n",
       "4                           y                       n   \n",
       "\n",
       "  aid-to-nicaraguan-contras mx-missile immigration  \\\n",
       "0                         n          n           y   \n",
       "1                         n          n           n   \n",
       "2                         n          n           n   \n",
       "3                         n          n           n   \n",
       "4                         n          n           n   \n",
       "\n",
       "  synfuels-corporation-cutback education-spending superfund-right-to-sue  \\\n",
       "0                            ?                  y                      y   \n",
       "1                            n                  y                      y   \n",
       "2                            y                  n                      y   \n",
       "3                            y                  n                      y   \n",
       "4                            y                  ?                      y   \n",
       "\n",
       "  crime duty-free-exports export-administration-act-south-africa  \n",
       "0     y                 n                                      y  \n",
       "1     y                 n                                      ?  \n",
       "2     y                 n                                      n  \n",
       "3     n                 n                                      y  \n",
       "4     y                 y                                      y  "
      ]
     },
     "execution_count": 16,
     "metadata": {},
     "output_type": "execute_result"
    }
   ],
   "source": [
    "df.head()"
   ]
  },
  {
   "cell_type": "code",
   "execution_count": 17,
   "metadata": {},
   "outputs": [
    {
     "data": {
      "text/plain": [
       "Class                                     0\n",
       "handicapped-infants                       0\n",
       "water-project-cost-sharin                 0\n",
       "adoption-of-the-budget-resolution         0\n",
       "physician-fee-freeze                      0\n",
       "el-salvador-aid                           0\n",
       "religious-groups-in-schools               0\n",
       "anti-satellite-test-ban                   0\n",
       "aid-to-nicaraguan-contras                 0\n",
       "mx-missile                                0\n",
       "immigration                               0\n",
       "synfuels-corporation-cutback              0\n",
       "education-spending                        0\n",
       "superfund-right-to-sue                    0\n",
       "crime                                     0\n",
       "duty-free-exports                         0\n",
       "export-administration-act-south-africa    0\n",
       "dtype: int64"
      ]
     },
     "execution_count": 17,
     "metadata": {},
     "output_type": "execute_result"
    }
   ],
   "source": [
    "# Checking for missing values\n",
    "df.isnull().sum()"
   ]
  },
  {
   "cell_type": "code",
   "execution_count": 18,
   "metadata": {},
   "outputs": [
    {
     "data": {
      "text/html": [
       "<div>\n",
       "<style scoped>\n",
       "    .dataframe tbody tr th:only-of-type {\n",
       "        vertical-align: middle;\n",
       "    }\n",
       "\n",
       "    .dataframe tbody tr th {\n",
       "        vertical-align: top;\n",
       "    }\n",
       "\n",
       "    .dataframe thead th {\n",
       "        text-align: right;\n",
       "    }\n",
       "</style>\n",
       "<table border=\"1\" class=\"dataframe\">\n",
       "  <thead>\n",
       "    <tr style=\"text-align: right;\">\n",
       "      <th>water-project-cost-sharin</th>\n",
       "      <th>?</th>\n",
       "      <th>n</th>\n",
       "      <th>y</th>\n",
       "    </tr>\n",
       "    <tr>\n",
       "      <th>handicapped-infants</th>\n",
       "      <th></th>\n",
       "      <th></th>\n",
       "      <th></th>\n",
       "    </tr>\n",
       "  </thead>\n",
       "  <tbody>\n",
       "    <tr>\n",
       "      <th>?</th>\n",
       "      <td>8</td>\n",
       "      <td>2</td>\n",
       "      <td>2</td>\n",
       "    </tr>\n",
       "    <tr>\n",
       "      <th>n</th>\n",
       "      <td>23</td>\n",
       "      <td>108</td>\n",
       "      <td>105</td>\n",
       "    </tr>\n",
       "    <tr>\n",
       "      <th>y</th>\n",
       "      <td>17</td>\n",
       "      <td>82</td>\n",
       "      <td>88</td>\n",
       "    </tr>\n",
       "  </tbody>\n",
       "</table>\n",
       "</div>"
      ],
      "text/plain": [
       "water-project-cost-sharin   ?    n    y\n",
       "handicapped-infants                    \n",
       "?                           8    2    2\n",
       "n                          23  108  105\n",
       "y                          17   82   88"
      ]
     },
     "execution_count": 18,
     "metadata": {},
     "output_type": "execute_result"
    }
   ],
   "source": [
    "# Creating a crosstab of the DataFrame \n",
    "xtab = pd.crosstab(df['handicapped-infants'], df['water-project-cost-sharin'])\n",
    "xtab"
   ]
  },
  {
   "cell_type": "code",
   "execution_count": 19,
   "metadata": {},
   "outputs": [
    {
     "data": {
      "text/html": [
       "<div>\n",
       "<style scoped>\n",
       "    .dataframe tbody tr th:only-of-type {\n",
       "        vertical-align: middle;\n",
       "    }\n",
       "\n",
       "    .dataframe tbody tr th {\n",
       "        vertical-align: top;\n",
       "    }\n",
       "\n",
       "    .dataframe thead th {\n",
       "        text-align: right;\n",
       "    }\n",
       "</style>\n",
       "<table border=\"1\" class=\"dataframe\">\n",
       "  <thead>\n",
       "    <tr style=\"text-align: right;\">\n",
       "      <th>water-project-cost-sharin</th>\n",
       "      <th>?</th>\n",
       "      <th>n</th>\n",
       "      <th>y</th>\n",
       "      <th>All</th>\n",
       "    </tr>\n",
       "    <tr>\n",
       "      <th>handicapped-infants</th>\n",
       "      <th></th>\n",
       "      <th></th>\n",
       "      <th></th>\n",
       "      <th></th>\n",
       "    </tr>\n",
       "  </thead>\n",
       "  <tbody>\n",
       "    <tr>\n",
       "      <th>?</th>\n",
       "      <td>8</td>\n",
       "      <td>2</td>\n",
       "      <td>2</td>\n",
       "      <td>12</td>\n",
       "    </tr>\n",
       "    <tr>\n",
       "      <th>n</th>\n",
       "      <td>23</td>\n",
       "      <td>108</td>\n",
       "      <td>105</td>\n",
       "      <td>236</td>\n",
       "    </tr>\n",
       "    <tr>\n",
       "      <th>y</th>\n",
       "      <td>17</td>\n",
       "      <td>82</td>\n",
       "      <td>88</td>\n",
       "      <td>187</td>\n",
       "    </tr>\n",
       "    <tr>\n",
       "      <th>All</th>\n",
       "      <td>48</td>\n",
       "      <td>192</td>\n",
       "      <td>195</td>\n",
       "      <td>435</td>\n",
       "    </tr>\n",
       "  </tbody>\n",
       "</table>\n",
       "</div>"
      ],
      "text/plain": [
       "water-project-cost-sharin   ?    n    y  All\n",
       "handicapped-infants                         \n",
       "?                           8    2    2   12\n",
       "n                          23  108  105  236\n",
       "y                          17   82   88  187\n",
       "All                        48  192  195  435"
      ]
     },
     "execution_count": 19,
     "metadata": {},
     "output_type": "execute_result"
    }
   ],
   "source": [
    "# Adding margins to crosstable\n",
    "\n",
    "xtab_marg = pd.crosstab(df['handicapped-infants'], df['water-project-cost-sharin'] , margins=True)\n",
    "xtab_marg.head()"
   ]
  },
  {
   "cell_type": "code",
   "execution_count": 20,
   "metadata": {},
   "outputs": [
    {
     "data": {
      "text/plain": [
       "array([[  1.32413793,   5.29655172,   5.37931034],\n",
       "       [ 26.04137931, 104.16551724, 105.79310345],\n",
       "       [ 20.63448276,  82.53793103,  83.82758621]])"
      ]
     },
     "execution_count": 20,
     "metadata": {},
     "output_type": "execute_result"
    }
   ],
   "source": [
    "# Creating a numpy array of of the 2 features \n",
    "\n",
    "np.outer(xtab_marg['All'].values[:-1],\n",
    "xtab_marg.T['All'].values[:-1])/xtab_marg.T['All'].values[-1]"
   ]
  },
  {
   "cell_type": "code",
   "execution_count": 21,
   "metadata": {},
   "outputs": [
    {
     "data": {
      "text/plain": [
       "handicapped-infants\n",
       "?       12\n",
       "n      236\n",
       "y      187\n",
       "All    435\n",
       "Name: All, dtype: int64"
      ]
     },
     "execution_count": 21,
     "metadata": {},
     "output_type": "execute_result"
    }
   ],
   "source": [
    "# Selecting summed values of the first feature \n",
    "\n",
    "xtab_marg['All']"
   ]
  },
  {
   "cell_type": "code",
   "execution_count": 22,
   "metadata": {},
   "outputs": [
    {
     "data": {
      "text/plain": [
       "water-project-cost-sharin\n",
       "?       48\n",
       "n      192\n",
       "y      195\n",
       "All    435\n",
       "Name: All, dtype: int64"
      ]
     },
     "execution_count": 22,
     "metadata": {},
     "output_type": "execute_result"
    }
   ],
   "source": [
    "# Selecting summed values of the second feature \n",
    "xtab_marg.T['All']"
   ]
  },
  {
   "cell_type": "code",
   "execution_count": 23,
   "metadata": {},
   "outputs": [
    {
     "data": {
      "text/plain": [
       "array([ 12, 236, 187])"
      ]
     },
     "execution_count": 23,
     "metadata": {},
     "output_type": "execute_result"
    }
   ],
   "source": [
    "# Creating a np array of first feature \n",
    "\n",
    "xtab_marg['All'].values[:-1]"
   ]
  },
  {
   "cell_type": "code",
   "execution_count": 24,
   "metadata": {},
   "outputs": [
    {
     "data": {
      "text/plain": [
       "array([ 48, 192, 195])"
      ]
     },
     "execution_count": 24,
     "metadata": {},
     "output_type": "execute_result"
    }
   ],
   "source": [
    "# Creating a np array of the second feature \n",
    "\n",
    "xtab_marg.T['All'].values[:-1]"
   ]
  },
  {
   "cell_type": "code",
   "execution_count": 25,
   "metadata": {},
   "outputs": [],
   "source": [
    "# Assigning np array to a variable \n",
    "\n",
    "handi_total = xtab_marg.values[:-1]"
   ]
  },
  {
   "cell_type": "code",
   "execution_count": 26,
   "metadata": {},
   "outputs": [],
   "source": [
    "# Assigning transposed np array to a variable \n",
    "\n",
    "water_total = xtab_marg.T.values[:-1]"
   ]
  },
  {
   "cell_type": "code",
   "execution_count": 27,
   "metadata": {},
   "outputs": [],
   "source": [
    "# Verifying the arrays are the same size \n",
    "\n",
    "assert handi_total.sum() == water_total.sum()"
   ]
  },
  {
   "cell_type": "code",
   "execution_count": 28,
   "metadata": {},
   "outputs": [
    {
     "data": {
      "text/plain": [
       "870"
      ]
     },
     "execution_count": 28,
     "metadata": {},
     "output_type": "execute_result"
    }
   ],
   "source": [
    "# Verifying the size of the new feature\n",
    "\n",
    "water_total.sum()"
   ]
  },
  {
   "cell_type": "code",
   "execution_count": 35,
   "metadata": {},
   "outputs": [],
   "source": [
    "expected = np.outer(handi_total, water_total)/handi_total.sum()"
   ]
  },
  {
   "cell_type": "code",
   "execution_count": 37,
   "metadata": {},
   "outputs": [
    {
     "data": {
      "text/plain": [
       "array([[7.35632184e-02, 1.83908046e-02, 1.83908046e-02, 1.10344828e-01,\n",
       "        2.11494253e-01, 9.93103448e-01, 9.65517241e-01, 2.17011494e+00,\n",
       "        1.56321839e-01, 7.54022989e-01, 8.09195402e-01, 1.71954023e+00],\n",
       "       [2.11494253e-01, 5.28735632e-02, 5.28735632e-02, 3.17241379e-01,\n",
       "        6.08045977e-01, 2.85517241e+00, 2.77586207e+00, 6.23908046e+00,\n",
       "        4.49425287e-01, 2.16781609e+00, 2.32643678e+00, 4.94367816e+00],\n",
       "       [1.56321839e-01, 3.90804598e-02, 3.90804598e-02, 2.34482759e-01,\n",
       "        4.49425287e-01, 2.11034483e+00, 2.05172414e+00, 4.61149425e+00,\n",
       "        3.32183908e-01, 1.60229885e+00, 1.71954023e+00, 3.65402299e+00],\n",
       "       [4.41379310e-01, 1.10344828e-01, 1.10344828e-01, 6.62068966e-01,\n",
       "        1.26896552e+00, 5.95862069e+00, 5.79310345e+00, 1.30206897e+01,\n",
       "        9.37931034e-01, 4.52413793e+00, 4.85517241e+00, 1.03172414e+01],\n",
       "       [1.83908046e-02, 4.59770115e-03, 4.59770115e-03, 2.75862069e-02,\n",
       "        5.28735632e-02, 2.48275862e-01, 2.41379310e-01, 5.42528736e-01,\n",
       "        3.90804598e-02, 1.88505747e-01, 2.02298851e-01, 4.29885057e-01],\n",
       "       [9.93103448e-01, 2.48275862e-01, 2.48275862e-01, 1.48965517e+00,\n",
       "        2.85517241e+00, 1.34068966e+01, 1.30344828e+01, 2.92965517e+01,\n",
       "        2.11034483e+00, 1.01793103e+01, 1.09241379e+01, 2.32137931e+01],\n",
       "       [7.54022989e-01, 1.88505747e-01, 1.88505747e-01, 1.13103448e+00,\n",
       "        2.16781609e+00, 1.01793103e+01, 9.89655172e+00, 2.22436782e+01,\n",
       "        1.60229885e+00, 7.72873563e+00, 8.29425287e+00, 1.76252874e+01],\n",
       "       [1.76551724e+00, 4.41379310e-01, 4.41379310e-01, 2.64827586e+00,\n",
       "        5.07586207e+00, 2.38344828e+01, 2.31724138e+01, 5.20827586e+01,\n",
       "        3.75172414e+00, 1.80965517e+01, 1.94206897e+01, 4.12689655e+01],\n",
       "       [1.83908046e-02, 4.59770115e-03, 4.59770115e-03, 2.75862069e-02,\n",
       "        5.28735632e-02, 2.48275862e-01, 2.41379310e-01, 5.42528736e-01,\n",
       "        3.90804598e-02, 1.88505747e-01, 2.02298851e-01, 4.29885057e-01],\n",
       "       [9.65517241e-01, 2.41379310e-01, 2.41379310e-01, 1.44827586e+00,\n",
       "        2.77586207e+00, 1.30344828e+01, 1.26724138e+01, 2.84827586e+01,\n",
       "        2.05172414e+00, 9.89655172e+00, 1.06206897e+01, 2.25689655e+01],\n",
       "       [8.09195402e-01, 2.02298851e-01, 2.02298851e-01, 1.21379310e+00,\n",
       "        2.32643678e+00, 1.09241379e+01, 1.06206897e+01, 2.38712644e+01,\n",
       "        1.71954023e+00, 8.29425287e+00, 8.90114943e+00, 1.89149425e+01],\n",
       "       [1.79310345e+00, 4.48275862e-01, 4.48275862e-01, 2.68965517e+00,\n",
       "        5.15517241e+00, 2.42068966e+01, 2.35344828e+01, 5.28965517e+01,\n",
       "        3.81034483e+00, 1.83793103e+01, 1.97241379e+01, 4.19137931e+01]])"
      ]
     },
     "execution_count": 37,
     "metadata": {},
     "output_type": "execute_result"
    }
   ],
   "source": [
    "expected.T"
   ]
  },
  {
   "cell_type": "code",
   "execution_count": 40,
   "metadata": {},
   "outputs": [
    {
     "ename": "ValueError",
     "evalue": "Length mismatch: Expected axis has 12 elements, new values have 3 elements",
     "output_type": "error",
     "traceback": [
      "\u001b[0;31m---------------------------------------------------------------------------\u001b[0m",
      "\u001b[0;31mValueError\u001b[0m                                Traceback (most recent call last)",
      "\u001b[0;32m<ipython-input-40-3155ebd27297>\u001b[0m in \u001b[0;36m<module>\u001b[0;34m\u001b[0m\n\u001b[1;32m      1\u001b[0m \u001b[0mtab_expected\u001b[0m \u001b[0;34m=\u001b[0m \u001b[0mpd\u001b[0m\u001b[0;34m.\u001b[0m\u001b[0mDataFrame\u001b[0m\u001b[0;34m(\u001b[0m\u001b[0mexpected\u001b[0m\u001b[0;34m)\u001b[0m\u001b[0;34m\u001b[0m\u001b[0;34m\u001b[0m\u001b[0m\n\u001b[0;32m----> 2\u001b[0;31m \u001b[0mtab_expected\u001b[0m\u001b[0;34m.\u001b[0m\u001b[0mcolumns\u001b[0m \u001b[0;34m=\u001b[0m \u001b[0mxtab\u001b[0m\u001b[0;34m.\u001b[0m\u001b[0mT\u001b[0m\u001b[0;34m.\u001b[0m\u001b[0mcolumns\u001b[0m\u001b[0;34m\u001b[0m\u001b[0;34m\u001b[0m\u001b[0m\n\u001b[0m\u001b[1;32m      3\u001b[0m \u001b[0mtab_expected\u001b[0m\u001b[0;34m.\u001b[0m\u001b[0mindex\u001b[0m \u001b[0;34m=\u001b[0m \u001b[0mxtab\u001b[0m\u001b[0;34m.\u001b[0m\u001b[0mT\u001b[0m\u001b[0;34m.\u001b[0m\u001b[0mindex\u001b[0m\u001b[0;34m\u001b[0m\u001b[0;34m\u001b[0m\u001b[0m\n\u001b[1;32m      4\u001b[0m \u001b[0mtab_expected\u001b[0m\u001b[0;34m\u001b[0m\u001b[0;34m\u001b[0m\u001b[0m\n",
      "\u001b[0;32m/Library/Frameworks/Python.framework/Versions/3.7/lib/python3.7/site-packages/pandas/core/generic.py\u001b[0m in \u001b[0;36m__setattr__\u001b[0;34m(self, name, value)\u001b[0m\n\u001b[1;32m   5078\u001b[0m         \u001b[0;32mtry\u001b[0m\u001b[0;34m:\u001b[0m\u001b[0;34m\u001b[0m\u001b[0;34m\u001b[0m\u001b[0m\n\u001b[1;32m   5079\u001b[0m             \u001b[0mobject\u001b[0m\u001b[0;34m.\u001b[0m\u001b[0m__getattribute__\u001b[0m\u001b[0;34m(\u001b[0m\u001b[0mself\u001b[0m\u001b[0;34m,\u001b[0m \u001b[0mname\u001b[0m\u001b[0;34m)\u001b[0m\u001b[0;34m\u001b[0m\u001b[0;34m\u001b[0m\u001b[0m\n\u001b[0;32m-> 5080\u001b[0;31m             \u001b[0;32mreturn\u001b[0m \u001b[0mobject\u001b[0m\u001b[0;34m.\u001b[0m\u001b[0m__setattr__\u001b[0m\u001b[0;34m(\u001b[0m\u001b[0mself\u001b[0m\u001b[0;34m,\u001b[0m \u001b[0mname\u001b[0m\u001b[0;34m,\u001b[0m \u001b[0mvalue\u001b[0m\u001b[0;34m)\u001b[0m\u001b[0;34m\u001b[0m\u001b[0;34m\u001b[0m\u001b[0m\n\u001b[0m\u001b[1;32m   5081\u001b[0m         \u001b[0;32mexcept\u001b[0m \u001b[0mAttributeError\u001b[0m\u001b[0;34m:\u001b[0m\u001b[0;34m\u001b[0m\u001b[0;34m\u001b[0m\u001b[0m\n\u001b[1;32m   5082\u001b[0m             \u001b[0;32mpass\u001b[0m\u001b[0;34m\u001b[0m\u001b[0;34m\u001b[0m\u001b[0m\n",
      "\u001b[0;32mpandas/_libs/properties.pyx\u001b[0m in \u001b[0;36mpandas._libs.properties.AxisProperty.__set__\u001b[0;34m()\u001b[0m\n",
      "\u001b[0;32m/Library/Frameworks/Python.framework/Versions/3.7/lib/python3.7/site-packages/pandas/core/generic.py\u001b[0m in \u001b[0;36m_set_axis\u001b[0;34m(self, axis, labels)\u001b[0m\n\u001b[1;32m    636\u001b[0m \u001b[0;34m\u001b[0m\u001b[0m\n\u001b[1;32m    637\u001b[0m     \u001b[0;32mdef\u001b[0m \u001b[0m_set_axis\u001b[0m\u001b[0;34m(\u001b[0m\u001b[0mself\u001b[0m\u001b[0;34m,\u001b[0m \u001b[0maxis\u001b[0m\u001b[0;34m,\u001b[0m \u001b[0mlabels\u001b[0m\u001b[0;34m)\u001b[0m\u001b[0;34m:\u001b[0m\u001b[0;34m\u001b[0m\u001b[0;34m\u001b[0m\u001b[0m\n\u001b[0;32m--> 638\u001b[0;31m         \u001b[0mself\u001b[0m\u001b[0;34m.\u001b[0m\u001b[0m_data\u001b[0m\u001b[0;34m.\u001b[0m\u001b[0mset_axis\u001b[0m\u001b[0;34m(\u001b[0m\u001b[0maxis\u001b[0m\u001b[0;34m,\u001b[0m \u001b[0mlabels\u001b[0m\u001b[0;34m)\u001b[0m\u001b[0;34m\u001b[0m\u001b[0;34m\u001b[0m\u001b[0m\n\u001b[0m\u001b[1;32m    639\u001b[0m         \u001b[0mself\u001b[0m\u001b[0;34m.\u001b[0m\u001b[0m_clear_item_cache\u001b[0m\u001b[0;34m(\u001b[0m\u001b[0;34m)\u001b[0m\u001b[0;34m\u001b[0m\u001b[0;34m\u001b[0m\u001b[0m\n\u001b[1;32m    640\u001b[0m \u001b[0;34m\u001b[0m\u001b[0m\n",
      "\u001b[0;32m/Library/Frameworks/Python.framework/Versions/3.7/lib/python3.7/site-packages/pandas/core/internals/managers.py\u001b[0m in \u001b[0;36mset_axis\u001b[0;34m(self, axis, new_labels)\u001b[0m\n\u001b[1;32m    153\u001b[0m             raise ValueError(\n\u001b[1;32m    154\u001b[0m                 \u001b[0;34m'Length mismatch: Expected axis has {old} elements, new '\u001b[0m\u001b[0;34m\u001b[0m\u001b[0;34m\u001b[0m\u001b[0m\n\u001b[0;32m--> 155\u001b[0;31m                 'values have {new} elements'.format(old=old_len, new=new_len))\n\u001b[0m\u001b[1;32m    156\u001b[0m \u001b[0;34m\u001b[0m\u001b[0m\n\u001b[1;32m    157\u001b[0m         \u001b[0mself\u001b[0m\u001b[0;34m.\u001b[0m\u001b[0maxes\u001b[0m\u001b[0;34m[\u001b[0m\u001b[0maxis\u001b[0m\u001b[0;34m]\u001b[0m \u001b[0;34m=\u001b[0m \u001b[0mnew_labels\u001b[0m\u001b[0;34m\u001b[0m\u001b[0;34m\u001b[0m\u001b[0m\n",
      "\u001b[0;31mValueError\u001b[0m: Length mismatch: Expected axis has 12 elements, new values have 3 elements"
     ]
    }
   ],
   "source": [
    "tab_expected = pd.DataFrame(expected)\n",
    "tab_expected.columns = xtab.columns\n",
    "tab_expected.index = xtab.index\n",
    "tab_expected"
   ]
  },
  {
   "cell_type": "code",
   "execution_count": null,
   "metadata": {},
   "outputs": [],
   "source": []
  },
  {
   "cell_type": "code",
   "execution_count": null,
   "metadata": {},
   "outputs": [],
   "source": []
  },
  {
   "cell_type": "code",
   "execution_count": null,
   "metadata": {},
   "outputs": [],
   "source": []
  },
  {
   "cell_type": "code",
   "execution_count": null,
   "metadata": {},
   "outputs": [],
   "source": []
  },
  {
   "cell_type": "code",
   "execution_count": null,
   "metadata": {},
   "outputs": [],
   "source": []
  },
  {
   "cell_type": "code",
   "execution_count": null,
   "metadata": {},
   "outputs": [],
   "source": []
  },
  {
   "cell_type": "code",
   "execution_count": 61,
   "metadata": {},
   "outputs": [
    {
     "ename": "SyntaxError",
     "evalue": "invalid syntax (<ipython-input-61-aa4f486054b3>, line 4)",
     "output_type": "error",
     "traceback": [
      "\u001b[0;36m  File \u001b[0;32m\"<ipython-input-61-aa4f486054b3>\"\u001b[0;36m, line \u001b[0;32m4\u001b[0m\n\u001b[0;31m    accept <- function(x){\u001b[0m\n\u001b[0m                         ^\u001b[0m\n\u001b[0;31mSyntaxError\u001b[0m\u001b[0;31m:\u001b[0m invalid syntax\n"
     ]
    }
   ],
   "source": [
    "library(ggplot2)\n",
    "alpha <- 0.05 # a significance level\n",
    "n <- 10       # degree of freedom\n",
    "accept <- function(x){\n",
    "  y <- dt(x, n)\n",
    "  y[x < qt(alpha/2, n) | x > qt(1 - alpha/2, n)] <- NA\n",
    "  return(y)\n",
    "}\n",
    "reject <- function(x){\n",
    "  y <- dt(x, n)\n",
    "  y[x > qt(alpha/2, n) & x < qt(1 - alpha/2, n)] <- NA\n",
    "  return(y)\n",
    "}\n",
    "N <- 1e4 # a large number\n",
    "s <- 5   # fontsize\n",
    "p <-\n",
    "  ggplot(data.frame(x=c(-3, +3)), aes(x=x)) +\n",
    "  stat_function(\n",
    "    fun=accept, geom=\"area\",\n",
    "    fill=\"#0072B2\", n=N) + \n",
    "  stat_function(\n",
    "    fun=reject, geom=\"area\",\n",
    "    fill=\"#D55E00\", n=N) +\n",
    "  annotate(\n",
    "    \"text\", x=0, y=0.2, \n",
    "    parse=T, label=\"1-alpha\", \n",
    "    size=s, colour=\"#EEEEEE\") +  \n",
    "  annotate(\n",
    "    \"text\", x=-2.5, y=0.2, \n",
    "    parse=T, label=\"alpha/2\", \n",
    "    size=s, colour=\"#D55E00\") +\n",
    "  annotate(\n",
    "    \"text\", x=+2.5, y=0.2, \n",
    "    parse=T, label=\"alpha/2\", \n",
    "    size=s, colour=\"#D55E00\") +\n",
    "  annotate(\n",
    "    \"text\", x=qt(alpha/2, n), y=-0.02,\n",
    "    parse=T, label=\"-t[n-1](alpha/2)\",\n",
    "    size=s, colour=\"#000000\") +\n",
    "  annotate(\n",
    "    \"text\", x=0, y=-0.02,\n",
    "    label=\"0\",\n",
    "    size=s, colour=\"#000000\") +\n",
    "  annotate(\n",
    "    \"text\", x=qt(1 - alpha/2, n), y=-0.02,\n",
    "    parse=T, label=\"+t[n-1](alpha/2)\",\n",
    "    size=s, colour=\"#000000\") +\n",
    "  theme(\n",
    "    axis.text.y=element_blank(), \n",
    "    axis.text.x=element_blank(),\n",
    "    axis.ticks=element_blank()) +\n",
    "  labs(x=\"\", y=\"\")\n",
    "\n",
    "svg(filename=\"confidence-interval.svg\", width=16/2, height=9/2)\n",
    "plot(p)\n",
    "dev.off()"
   ]
  },
  {
   "cell_type": "markdown",
   "metadata": {
    "colab_type": "text",
    "id": "nyJ3ySr7R2k9"
   },
   "source": [
    "## Resources\n",
    "\n",
    "- [Interactive visualize the Chi-Squared test](https://homepage.divms.uiowa.edu/~mbognar/applets/chisq.html)\n",
    "- [Calculation of Chi-Squared test statistic](https://en.wikipedia.org/wiki/Pearson%27s_chi-squared_test)\n",
    "- [Visualization of a confidence interval generated by R code](https://commons.wikimedia.org/wiki/File:Confidence-interval.svg)\n",
    "- [Expected value of a squared standard normal](https://math.stackexchange.com/questions/264061/expected-value-calculation-for-squared-normal-distribution) (it's 1 - which is why the expected value of a Chi-Squared with $n$ degrees of freedom is $n$, as it's the sum of $n$ squared standard normals)"
   ]
  },
  {
   "cell_type": "code",
   "execution_count": null,
   "metadata": {},
   "outputs": [],
   "source": []
  }
 ],
 "metadata": {
  "colab": {
   "collapsed_sections": [],
   "name": "LS_DS_142_Sampling_Confidence_Intervals_and_Hypothesis_Testing.ipynb",
   "provenance": [],
   "version": "0.3.2"
  },
  "kernelspec": {
   "display_name": "Python 3",
   "language": "python",
   "name": "python3"
  },
  "language_info": {
   "codemirror_mode": {
    "name": "ipython",
    "version": 3
   },
   "file_extension": ".py",
   "mimetype": "text/x-python",
   "name": "python",
   "nbconvert_exporter": "python",
   "pygments_lexer": "ipython3",
   "version": "3.7.3"
  }
 },
 "nbformat": 4,
 "nbformat_minor": 1
}
