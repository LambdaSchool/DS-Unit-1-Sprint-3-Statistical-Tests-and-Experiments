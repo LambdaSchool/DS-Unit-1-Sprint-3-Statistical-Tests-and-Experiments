{
  "nbformat": 4,
  "nbformat_minor": 0,
  "metadata": {
    "colab": {
      "name": "LS_DS_142_Sampling_Confidence_Intervals_and_Hypothesis_Testing.ipynb",
      "version": "0.3.2",
      "provenance": [],
      "collapsed_sections": []
    },
    "kernelspec": {
      "name": "python3",
      "display_name": "Python 3"
    }
  },
  "cells": [
    {
      "metadata": {
        "id": "838Dmw1kM2LK",
        "colab_type": "text"
      },
      "cell_type": "markdown",
      "source": [
        "# Lambda School Data Science Module 142\n",
        "## Sampling, Confidence Intervals, and Hypothesis Testing"
      ]
    },
    {
      "metadata": {
        "id": "dbcPKIo5M6Ny",
        "colab_type": "text"
      },
      "cell_type": "markdown",
      "source": [
        "## Prepare - examine other available hypothesis tests\n",
        "\n",
        "If you had to pick a single hypothesis test in your toolbox, t-test would probably be the best choice - but the good news is you don't have to pick just one! Here's some of the others to be aware of:"
      ]
    },
    {
      "metadata": {
        "id": "tlBel8j9M6tB",
        "colab_type": "code",
        "outputId": "a22edff5-9bb6-4642-b898-36ebe53b8fc7",
        "colab": {
          "base_uri": "https://localhost:8080/",
          "height": 199
        }
      },
      "cell_type": "code",
      "source": [
        "import numpy as np\n",
        "from scipy.stats import chisquare  # One-way chi square test\n",
        "\n",
        "# Chi square can take any crosstab/table and test the independence of rows/cols\n",
        "# The null hypothesis is that the rows/cols are independent -> low chi square\n",
        "# The alternative is that there is a dependence -> high chi square\n",
        "# Be aware! Chi square does *not* tell you direction/causation\n",
        "\n",
        "ind_obs = np.array([[1, 1], [2, 2]]).T\n",
        "print(ind_obs)\n",
        "print(chisquare(ind_obs, axis=None))\n",
        "\n",
        "dep_obs = np.array([[16, 18, 16, 14, 12, 12], [32, 24, 16, 28, 20, 24]]).T\n",
        "print(dep_obs)\n",
        "print(chisquare(dep_obs, axis=None))"
      ],
      "execution_count": 1,
      "outputs": [
        {
          "output_type": "stream",
          "text": [
            "[[1 2]\n",
            " [1 2]]\n",
            "Power_divergenceResult(statistic=0.6666666666666666, pvalue=0.8810148425137847)\n",
            "[[16 32]\n",
            " [18 24]\n",
            " [16 16]\n",
            " [14 28]\n",
            " [12 20]\n",
            " [12 24]]\n",
            "Power_divergenceResult(statistic=23.31034482758621, pvalue=0.015975692534127565)\n"
          ],
          "name": "stdout"
        }
      ]
    },
    {
      "metadata": {
        "id": "nN0BdNiDPxbk",
        "colab_type": "code",
        "outputId": "7bc0da13-a2dc-4147-d6d5-62aa1a80d583",
        "colab": {
          "base_uri": "https://localhost:8080/",
          "height": 35
        }
      },
      "cell_type": "code",
      "source": [
        "# Distribution tests:\n",
        "# We often assume that something is normal, but it can be important to *check*\n",
        "\n",
        "# For example, later on with predictive modeling, a typical assumption is that\n",
        "# residuals (prediction errors) are normal - checking is a good diagnostic\n",
        "\n",
        "from scipy.stats import normaltest\n",
        "# Poisson models arrival times and is related to the binomial (coinflip)\n",
        "sample = np.random.poisson(5, 1000)\n",
        "print(normaltest(sample))  # Pretty clearly not normal"
      ],
      "execution_count": 2,
      "outputs": [
        {
          "output_type": "stream",
          "text": [
            "NormaltestResult(statistic=51.408136810582135, pvalue=6.868547865742939e-12)\n"
          ],
          "name": "stdout"
        }
      ]
    },
    {
      "metadata": {
        "id": "P5t0WhkDReFO",
        "colab_type": "code",
        "outputId": "b26fbcc9-0d9b-4a17-b258-769ae47eaa98",
        "colab": {
          "base_uri": "https://localhost:8080/",
          "height": 54
        }
      },
      "cell_type": "code",
      "source": [
        "# Kruskal-Wallis H-test - compare the median rank between 2+ groups\n",
        "# Can be applied to ranking decisions/outcomes/recommendations\n",
        "# The underlying math comes from chi-square distribution, and is best for n>5\n",
        "from scipy.stats import kruskal\n",
        "\n",
        "x1 = [1, 3, 5, 7, 9]\n",
        "y1 = [2, 4, 6, 8, 10]\n",
        "print(kruskal(x1, y1))  # x1 is a little better, but not \"significantly\" so\n",
        "\n",
        "x2 = [1, 1, 1]\n",
        "y2 = [2, 2, 2]\n",
        "z = [2, 2]  # Hey, a third group, and of different size!\n",
        "print(kruskal(x2, y2, z))  # x clearly dominates"
      ],
      "execution_count": 3,
      "outputs": [
        {
          "output_type": "stream",
          "text": [
            "KruskalResult(statistic=0.2727272727272734, pvalue=0.6015081344405895)\n",
            "KruskalResult(statistic=7.0, pvalue=0.0301973834223185)\n"
          ],
          "name": "stdout"
        }
      ]
    },
    {
      "metadata": {
        "id": "7pT3IP36Rh0b",
        "colab_type": "text"
      },
      "cell_type": "markdown",
      "source": [
        "And there's many more! `scipy.stats` is fairly comprehensive, though there are even more available if you delve into the extended world of statistics packages. As tests get increasingly obscure and specialized, the importance of knowing them by heart becomes small - but being able to look them up and figure them out when they *are* relevant is still important."
      ]
    },
    {
      "metadata": {
        "id": "L1_KRuHCM7BW",
        "colab_type": "text"
      },
      "cell_type": "markdown",
      "source": [
        "## Live Lecture - let's explore some more of scipy.stats\n",
        "\n",
        "Candidate topics to explore:\n",
        "\n",
        "- `scipy.stats.chi2` - the Chi-squared distribution, which we can use to reproduce the Chi-squared test\n",
        "- Calculate the Chi-Squared test statistic \"by hand\" (with code), and feed it into `chi2`\n",
        "- Build a confidence interval with `stats.t.ppf`, the t-distribution percentile point function (the inverse of the CDF) - we can write a function to return a tuple of `(mean, lower bound, upper bound)` that you can then use for the assignment (visualizing confidence intervals)"
      ]
    },
    {
      "metadata": {
        "id": "qW6k0dorM7Lz",
        "colab_type": "code",
        "colab": {
          "base_uri": "https://localhost:8080/",
          "height": 228
        },
        "outputId": "d8199245-9abc-4d7e-e742-5f88f68a6659"
      },
      "cell_type": "code",
      "source": [
        "gender = ['m', 'm', 'm', 'f', 'f', 'f']\n",
        "eats_outside = ['outside', 'inside', 'inside', 'inside', 'outside', 'outside']\n",
        "\n",
        "import pandas as pd\n",
        "\n",
        "df = pd.DataFrame({'gender': gender, 'preference': eats_outside})\n",
        "df"
      ],
      "execution_count": 4,
      "outputs": [
        {
          "output_type": "execute_result",
          "data": {
            "text/html": [
              "<div>\n",
              "<style scoped>\n",
              "    .dataframe tbody tr th:only-of-type {\n",
              "        vertical-align: middle;\n",
              "    }\n",
              "\n",
              "    .dataframe tbody tr th {\n",
              "        vertical-align: top;\n",
              "    }\n",
              "\n",
              "    .dataframe thead th {\n",
              "        text-align: right;\n",
              "    }\n",
              "</style>\n",
              "<table border=\"1\" class=\"dataframe\">\n",
              "  <thead>\n",
              "    <tr style=\"text-align: right;\">\n",
              "      <th></th>\n",
              "      <th>gender</th>\n",
              "      <th>preference</th>\n",
              "    </tr>\n",
              "  </thead>\n",
              "  <tbody>\n",
              "    <tr>\n",
              "      <th>0</th>\n",
              "      <td>m</td>\n",
              "      <td>outside</td>\n",
              "    </tr>\n",
              "    <tr>\n",
              "      <th>1</th>\n",
              "      <td>m</td>\n",
              "      <td>inside</td>\n",
              "    </tr>\n",
              "    <tr>\n",
              "      <th>2</th>\n",
              "      <td>m</td>\n",
              "      <td>inside</td>\n",
              "    </tr>\n",
              "    <tr>\n",
              "      <th>3</th>\n",
              "      <td>f</td>\n",
              "      <td>inside</td>\n",
              "    </tr>\n",
              "    <tr>\n",
              "      <th>4</th>\n",
              "      <td>f</td>\n",
              "      <td>outside</td>\n",
              "    </tr>\n",
              "    <tr>\n",
              "      <th>5</th>\n",
              "      <td>f</td>\n",
              "      <td>outside</td>\n",
              "    </tr>\n",
              "  </tbody>\n",
              "</table>\n",
              "</div>"
            ],
            "text/plain": [
              "  gender preference\n",
              "0      m    outside\n",
              "1      m     inside\n",
              "2      m     inside\n",
              "3      f     inside\n",
              "4      f    outside\n",
              "5      f    outside"
            ]
          },
          "metadata": {
            "tags": []
          },
          "execution_count": 4
        }
      ]
    },
    {
      "metadata": {
        "id": "Bpei21hXAk6w",
        "colab_type": "code",
        "colab": {
          "base_uri": "https://localhost:8080/",
          "height": 138
        },
        "outputId": "192a5358-e0c9-40e0-c2b6-a6919de77c9e"
      },
      "cell_type": "code",
      "source": [
        "ct = pd.crosstab(df.gender, df.preference)\n",
        "ct"
      ],
      "execution_count": 5,
      "outputs": [
        {
          "output_type": "execute_result",
          "data": {
            "text/html": [
              "<div>\n",
              "<style scoped>\n",
              "    .dataframe tbody tr th:only-of-type {\n",
              "        vertical-align: middle;\n",
              "    }\n",
              "\n",
              "    .dataframe tbody tr th {\n",
              "        vertical-align: top;\n",
              "    }\n",
              "\n",
              "    .dataframe thead th {\n",
              "        text-align: right;\n",
              "    }\n",
              "</style>\n",
              "<table border=\"1\" class=\"dataframe\">\n",
              "  <thead>\n",
              "    <tr style=\"text-align: right;\">\n",
              "      <th>preference</th>\n",
              "      <th>inside</th>\n",
              "      <th>outside</th>\n",
              "    </tr>\n",
              "    <tr>\n",
              "      <th>gender</th>\n",
              "      <th></th>\n",
              "      <th></th>\n",
              "    </tr>\n",
              "  </thead>\n",
              "  <tbody>\n",
              "    <tr>\n",
              "      <th>f</th>\n",
              "      <td>1</td>\n",
              "      <td>2</td>\n",
              "    </tr>\n",
              "    <tr>\n",
              "      <th>m</th>\n",
              "      <td>2</td>\n",
              "      <td>1</td>\n",
              "    </tr>\n",
              "  </tbody>\n",
              "</table>\n",
              "</div>"
            ],
            "text/plain": [
              "preference  inside  outside\n",
              "gender                     \n",
              "f                1        2\n",
              "m                2        1"
            ]
          },
          "metadata": {
            "tags": []
          },
          "execution_count": 5
        }
      ]
    },
    {
      "metadata": {
        "id": "NiI2gWKzBc3V",
        "colab_type": "code",
        "colab": {
          "base_uri": "https://localhost:8080/",
          "height": 168
        },
        "outputId": "dfbd656b-b70d-4b20-d9f9-e5ad944c97fc"
      },
      "cell_type": "code",
      "source": [
        "ct2 = pd.crosstab(df.gender, df.preference, margins=True)\n",
        "ct2"
      ],
      "execution_count": 6,
      "outputs": [
        {
          "output_type": "execute_result",
          "data": {
            "text/html": [
              "<div>\n",
              "<style scoped>\n",
              "    .dataframe tbody tr th:only-of-type {\n",
              "        vertical-align: middle;\n",
              "    }\n",
              "\n",
              "    .dataframe tbody tr th {\n",
              "        vertical-align: top;\n",
              "    }\n",
              "\n",
              "    .dataframe thead th {\n",
              "        text-align: right;\n",
              "    }\n",
              "</style>\n",
              "<table border=\"1\" class=\"dataframe\">\n",
              "  <thead>\n",
              "    <tr style=\"text-align: right;\">\n",
              "      <th>preference</th>\n",
              "      <th>inside</th>\n",
              "      <th>outside</th>\n",
              "      <th>All</th>\n",
              "    </tr>\n",
              "    <tr>\n",
              "      <th>gender</th>\n",
              "      <th></th>\n",
              "      <th></th>\n",
              "      <th></th>\n",
              "    </tr>\n",
              "  </thead>\n",
              "  <tbody>\n",
              "    <tr>\n",
              "      <th>f</th>\n",
              "      <td>1</td>\n",
              "      <td>2</td>\n",
              "      <td>3</td>\n",
              "    </tr>\n",
              "    <tr>\n",
              "      <th>m</th>\n",
              "      <td>2</td>\n",
              "      <td>1</td>\n",
              "      <td>3</td>\n",
              "    </tr>\n",
              "    <tr>\n",
              "      <th>All</th>\n",
              "      <td>3</td>\n",
              "      <td>3</td>\n",
              "      <td>6</td>\n",
              "    </tr>\n",
              "  </tbody>\n",
              "</table>\n",
              "</div>"
            ],
            "text/plain": [
              "preference  inside  outside  All\n",
              "gender                          \n",
              "f                1        2    3\n",
              "m                2        1    3\n",
              "All              3        3    6"
            ]
          },
          "metadata": {
            "tags": []
          },
          "execution_count": 6
        }
      ]
    },
    {
      "metadata": {
        "id": "0sciiqdCBkX-",
        "colab_type": "code",
        "colab": {
          "base_uri": "https://localhost:8080/",
          "height": 228
        },
        "outputId": "996fe1dd-d0da-41f7-a595-ec5d308d496d"
      },
      "cell_type": "code",
      "source": [
        "df = df.replace({'m':0, 'f': 1, 'outside': 0, 'inside': 1})\n",
        "df"
      ],
      "execution_count": 7,
      "outputs": [
        {
          "output_type": "execute_result",
          "data": {
            "text/html": [
              "<div>\n",
              "<style scoped>\n",
              "    .dataframe tbody tr th:only-of-type {\n",
              "        vertical-align: middle;\n",
              "    }\n",
              "\n",
              "    .dataframe tbody tr th {\n",
              "        vertical-align: top;\n",
              "    }\n",
              "\n",
              "    .dataframe thead th {\n",
              "        text-align: right;\n",
              "    }\n",
              "</style>\n",
              "<table border=\"1\" class=\"dataframe\">\n",
              "  <thead>\n",
              "    <tr style=\"text-align: right;\">\n",
              "      <th></th>\n",
              "      <th>gender</th>\n",
              "      <th>preference</th>\n",
              "    </tr>\n",
              "  </thead>\n",
              "  <tbody>\n",
              "    <tr>\n",
              "      <th>0</th>\n",
              "      <td>0</td>\n",
              "      <td>0</td>\n",
              "    </tr>\n",
              "    <tr>\n",
              "      <th>1</th>\n",
              "      <td>0</td>\n",
              "      <td>1</td>\n",
              "    </tr>\n",
              "    <tr>\n",
              "      <th>2</th>\n",
              "      <td>0</td>\n",
              "      <td>1</td>\n",
              "    </tr>\n",
              "    <tr>\n",
              "      <th>3</th>\n",
              "      <td>1</td>\n",
              "      <td>1</td>\n",
              "    </tr>\n",
              "    <tr>\n",
              "      <th>4</th>\n",
              "      <td>1</td>\n",
              "      <td>0</td>\n",
              "    </tr>\n",
              "    <tr>\n",
              "      <th>5</th>\n",
              "      <td>1</td>\n",
              "      <td>0</td>\n",
              "    </tr>\n",
              "  </tbody>\n",
              "</table>\n",
              "</div>"
            ],
            "text/plain": [
              "   gender  preference\n",
              "0       0           0\n",
              "1       0           1\n",
              "2       0           1\n",
              "3       1           1\n",
              "4       1           0\n",
              "5       1           0"
            ]
          },
          "metadata": {
            "tags": []
          },
          "execution_count": 7
        }
      ]
    },
    {
      "metadata": {
        "id": "52prK4TOEnT9",
        "colab_type": "code",
        "colab": {
          "base_uri": "https://localhost:8080/",
          "height": 168
        },
        "outputId": "ebb085a9-89bd-4b01-b538-cced9cd8bb74"
      },
      "cell_type": "code",
      "source": [
        "ct3 = pd.crosstab(df.gender, df.preference, margins=True, normalize='all')\n",
        "ct3"
      ],
      "execution_count": 8,
      "outputs": [
        {
          "output_type": "execute_result",
          "data": {
            "text/html": [
              "<div>\n",
              "<style scoped>\n",
              "    .dataframe tbody tr th:only-of-type {\n",
              "        vertical-align: middle;\n",
              "    }\n",
              "\n",
              "    .dataframe tbody tr th {\n",
              "        vertical-align: top;\n",
              "    }\n",
              "\n",
              "    .dataframe thead th {\n",
              "        text-align: right;\n",
              "    }\n",
              "</style>\n",
              "<table border=\"1\" class=\"dataframe\">\n",
              "  <thead>\n",
              "    <tr style=\"text-align: right;\">\n",
              "      <th>preference</th>\n",
              "      <th>0</th>\n",
              "      <th>1</th>\n",
              "      <th>All</th>\n",
              "    </tr>\n",
              "    <tr>\n",
              "      <th>gender</th>\n",
              "      <th></th>\n",
              "      <th></th>\n",
              "      <th></th>\n",
              "    </tr>\n",
              "  </thead>\n",
              "  <tbody>\n",
              "    <tr>\n",
              "      <th>0</th>\n",
              "      <td>0.166667</td>\n",
              "      <td>0.333333</td>\n",
              "      <td>0.5</td>\n",
              "    </tr>\n",
              "    <tr>\n",
              "      <th>1</th>\n",
              "      <td>0.333333</td>\n",
              "      <td>0.166667</td>\n",
              "      <td>0.5</td>\n",
              "    </tr>\n",
              "    <tr>\n",
              "      <th>All</th>\n",
              "      <td>0.500000</td>\n",
              "      <td>0.500000</td>\n",
              "      <td>1.0</td>\n",
              "    </tr>\n",
              "  </tbody>\n",
              "</table>\n",
              "</div>"
            ],
            "text/plain": [
              "preference         0         1  All\n",
              "gender                             \n",
              "0           0.166667  0.333333  0.5\n",
              "1           0.333333  0.166667  0.5\n",
              "All         0.500000  0.500000  1.0"
            ]
          },
          "metadata": {
            "tags": []
          },
          "execution_count": 8
        }
      ]
    },
    {
      "metadata": {
        "id": "bEtExzWICMf3",
        "colab_type": "code",
        "colab": {
          "base_uri": "https://localhost:8080/",
          "height": 108
        },
        "outputId": "00ed7aac-d5ff-41f3-d0b8-2a2bdb84a957"
      },
      "cell_type": "code",
      "source": [
        "expected = np.array([[1.5, 1.5],\n",
        "            [1.5, 1.5]])\n",
        "\n",
        "observed = np.array([[.5, .5], \n",
        "            [.5, .5]])\n",
        "\n",
        "deviation = numerator = observed - expected\n",
        "print(numerator)\n",
        "\n",
        "deviation_squared = deviation ** 2\n",
        "fraction = deviation_squared / expected\n",
        "print(fraction)\n",
        "\n",
        "chi2 = fraction.sum()\n",
        "\n",
        "print(chi2/4)"
      ],
      "execution_count": 9,
      "outputs": [
        {
          "output_type": "stream",
          "text": [
            "[[-1. -1.]\n",
            " [-1. -1.]]\n",
            "[[0.66666667 0.66666667]\n",
            " [0.66666667 0.66666667]]\n",
            "0.6666666666666666\n"
          ],
          "name": "stdout"
        }
      ]
    },
    {
      "metadata": {
        "id": "R0ShRkpiCVyb",
        "colab_type": "code",
        "colab": {
          "base_uri": "https://localhost:8080/",
          "height": 35
        },
        "outputId": "f7f7e229-daac-48ad-9cb6-60de020863c8"
      },
      "cell_type": "code",
      "source": [
        "print(chisquare(ct, axis=None))"
      ],
      "execution_count": 10,
      "outputs": [
        {
          "output_type": "stream",
          "text": [
            "Power_divergenceResult(statistic=0.6666666666666666, pvalue=0.8810148425137847)\n"
          ],
          "name": "stdout"
        }
      ]
    },
    {
      "metadata": {
        "id": "QWE2cIMaLTM_",
        "colab_type": "text"
      },
      "cell_type": "markdown",
      "source": [
        "# **Confidence Intervals**"
      ]
    },
    {
      "metadata": {
        "id": "SXaOF9yCLhrQ",
        "colab_type": "code",
        "colab": {
          "base_uri": "https://localhost:8080/",
          "height": 35
        },
        "outputId": "bea73902-1c98-442d-9851-8c720b37324e"
      },
      "cell_type": "code",
      "source": [
        "#conf_interval = [lower_bound, upper_bound]\n",
        "\n",
        "import scipy.stats as stats\n",
        "\n",
        "coinflips = np.random.binomial(n=1, p=.5, size=100)\n",
        "\n",
        "stats.ttest_1samp(coinflips, .5)"
      ],
      "execution_count": 11,
      "outputs": [
        {
          "output_type": "execute_result",
          "data": {
            "text/plain": [
              "Ttest_1sampResult(statistic=0.39831375340784614, pvalue=0.6912566363051549)"
            ]
          },
          "metadata": {
            "tags": []
          },
          "execution_count": 11
        }
      ]
    },
    {
      "metadata": {
        "id": "kyFwZNSpnEQp",
        "colab_type": "code",
        "colab": {}
      },
      "cell_type": "code",
      "source": [
        "# Confidence intervals!\n",
        "# Similar to hypothesis testing, but centered at sample mean\n",
        "# Generally better than reporting the \"point estimate\" (sample mean)\n",
        "# Why? Because point estimates aren't always perfect\n",
        "\n",
        "import numpy as np\n",
        "from scipy import stats\n",
        "\n",
        "def confidence_interval(data, confidence=0.95):\n",
        "  \"\"\"\n",
        "  Calculate a confidence interval around a sample mean for given data.\n",
        "  Using t-distribution and two-tailed test, default 95% confidence. \n",
        "  \n",
        "  Arguments:\n",
        "    data - iterable (list or numpy array) of sample observations\n",
        "    confidence - level of confidence for the interval\n",
        "  \n",
        "  Returns:\n",
        "    tuple of (mean, lower bound, upper bound)\n",
        "  \"\"\"\n",
        "  data = np.array(data)\n",
        "  mean = np.mean(data)\n",
        "  n = len(data)\n",
        "  stderr = stats.sem(data)\n",
        "  interval = stderr * stats.t.ppf((1 + confidence) / 2., n - 1)\n",
        "  return (mean, mean - interval, mean + interval)\n",
        "\n",
        "def report_confidence_interval(confidence_interval):\n",
        "  \"\"\"\n",
        "  Return a string with a pretty report of a confidence interval.\n",
        "  \n",
        "  Arguments:\n",
        "    confidence_interval - tuple of (mean, lower bound, upper bound)\n",
        "  \n",
        "  Returns:\n",
        "    None, but prints to screen the report\n",
        "  \"\"\"\n",
        "  #print('Mean: {}'.format(confidence_interval[0]))\n",
        "  #print('Lower bound: {}'.format(confidence_interval[1]))\n",
        "  #print('Upper bound: {}'.format(confidence_interval[2]))\n",
        "  s = \"our mean lies in the interval [{:.2}, {:.2}]\".format(\n",
        "      confidence_interval[1], confidence_interval[2])\n",
        "  return s"
      ],
      "execution_count": 0,
      "outputs": []
    },
    {
      "metadata": {
        "id": "VIi_mvtGnHAM",
        "colab_type": "code",
        "colab": {
          "base_uri": "https://localhost:8080/",
          "height": 54
        },
        "outputId": "30cf7df4-a377-4329-bc55-644f642965e8"
      },
      "cell_type": "code",
      "source": [
        "coinflip_interval = confidence_interval(coinflips)  # Default 95% conf\n",
        "coinflip_interval\n",
        "\n",
        "print(.68 - .58697)\n",
        "\n",
        "print(.68 - .77303)\n"
      ],
      "execution_count": 13,
      "outputs": [
        {
          "output_type": "stream",
          "text": [
            "0.09303000000000006\n",
            "-0.09302999999999995\n"
          ],
          "name": "stdout"
        }
      ]
    },
    {
      "metadata": {
        "id": "11OzdxWTM7UR",
        "colab_type": "text"
      },
      "cell_type": "markdown",
      "source": [
        "## Assignment - Build a confidence interval\n",
        "\n",
        "A confidence interval refers to a neighborhood around some point estimate, the size of which is determined by the desired p-value. For instance, we might say that 52% of Americans prefer tacos to burritos, with a 95% confidence interval of +/- 5%.\n",
        "\n",
        "52% (0.52) is the point estimate, and +/- 5% (the interval $[0.47, 0.57]$) is the confidence interval. \"95% confidence\" means a p-value $\\leq 1 - 0.95 = 0.05$.\n",
        "\n",
        "In this case, the confidence interval includes $0.5$ - which is the natural null hypothesis (that half of Americans prefer tacos and half burritos, thus there is no clear favorite). So in this case, we could use the confidence interval to report that we've failed to reject the null hypothesis.\n",
        "\n",
        "But providing the full analysis with a confidence interval, including a graphical representation of it, can be a helpful and powerful way to tell your story. Done well, it is also more intuitive to a layperson than simply saying \"fail to reject the null hypothesis\" - it shows that in fact the data does *not* give a single clear result (the point estimate) but a whole range of possibilities.\n",
        "\n",
        "How is a confidence interval built, and how should it be interpreted? It does *not* mean that 95% of the data lies in that interval - instead, the frequentist interpretation is \"if we were to repeat this experiment 100 times, we would expect the average result to lie in this interval ~95 times.\"\n",
        "\n",
        "For a 95% confidence interval and a normal(-ish) distribution, you can simply remember that +/-2 standard deviations contains 95% of the probability mass, and so the 95% confidence interval based on a given sample is centered at the mean (point estimate) and has a range of +/- 2 (or technically 1.96) standard deviations.\n",
        "\n",
        "Different distributions/assumptions (90% confidence, 99% confidence) will require different math, but the overall process and interpretation (with a frequentist approach) will be the same.\n",
        "\n",
        "Your assignment - using the data from the prior module ([congressional voting records](https://archive.ics.uci.edu/ml/datasets/Congressional+Voting+Records)):\n",
        "\n",
        "1. Generate and numerically represent a confidence interval\n",
        "2. Graphically (with a plot) represent the confidence interval\n",
        "3. Interpret the confidence interval - what does it tell you about the data and its distribution?\n",
        "\n",
        "Stretch goals:\n",
        "\n",
        "1. Write a summary of your findings, mixing prose and math/code/results. *Note* - yes, this is by definition a political topic. It is challenging but important to keep your writing voice *neutral* and stick to the facts of the data. Data science often involves considering controversial issues, so it's important to be sensitive about them (especially if you want to publish).\n",
        "2. Apply the techniques you learned today to your project data or other data of your choice, and write/discuss your findings here.\n",
        "3. Refactor your code so it is elegant, readable, and can be easily run for all issues."
      ]
    },
    {
      "metadata": {
        "id": "Ckcr4A4FM7cs",
        "colab_type": "code",
        "colab": {}
      },
      "cell_type": "code",
      "source": [
        "#1) Load and clean the data:\n",
        "\n",
        "url = 'https://archive.ics.uci.edu/ml/machine-learning-databases/voting-records/house-votes-84.data'\n",
        "\n",
        "cols = ['party', 'Handicapped Infants', 'Water Project Cost Sharing', 'Budget Resolution', \n",
        "        'Physician Fee Freeze', 'El Salvador Aid', 'Religious Groups in Schools', \n",
        "        'Anti satelite Test Ban', 'Aid to Nicaraguan Contras', 'Mx-Missile', 'Immigration', \n",
        "        'Synfuels Corporation Cutback', 'Education Spending', 'Superfund Right to Sue',\n",
        "        'Crime', 'Duty-Free Exports', 'Export Administration Act S Africa']\n",
        "\n",
        "data = pd.read_csv(url, header=None, names=cols, na_values='?')\n",
        "data = data.replace({'y':1,'n':0})\n",
        "\n",
        "#split into 2 dataframes by party affiliation:\n",
        "\n",
        "rep = data[data['party'] == 'republican']\n",
        "\n",
        "dem = data[data['party'] == 'democrat']"
      ],
      "execution_count": 0,
      "outputs": []
    },
    {
      "metadata": {
        "id": "FpCBUMNPoMgf",
        "colab_type": "code",
        "colab": {}
      },
      "cell_type": "code",
      "source": [
        "'''Generate confidence intervals for each issue by looping thru the columns and\n",
        "recording the mean, lower bound, and upper bound for 95% confidence level.'''\n",
        "\n",
        "rep_conf_intervals = []\n",
        "dem_conf_intervals = []\n",
        "\n",
        "for col in cols[1:]:\n",
        "  mean, lower_bound, upper_bound = (confidence_interval(rep[col].dropna(), confidence=0.95))\n",
        "  rep_conf_intervals.append([col, mean, lower_bound, upper_bound])\n",
        "\n",
        "for col in cols[1:]:\n",
        "  mean, lower_bound, upper_bound = (confidence_interval(dem[col].dropna(), confidence=0.95))\n",
        "  dem_conf_intervals.append([col, mean, lower_bound, upper_bound])"
      ],
      "execution_count": 0,
      "outputs": []
    },
    {
      "metadata": {
        "id": "k_JpDpORrfM0",
        "colab_type": "code",
        "colab": {}
      },
      "cell_type": "code",
      "source": [
        "#convert these into dataframes and then concat:\n",
        "\n",
        "rep_conf_df = pd.DataFrame(rep_conf_intervals)\n",
        "\n",
        "dem_conf_df = pd.DataFrame(dem_conf_intervals)\n",
        "\n",
        "rep_conf_df = rep_conf_df.rename(columns = {0:'issue', 1:'mean', 2:'lower_bound', 3:'upper_bound'})\n",
        "rep_conf_df['party'] = 'Republican'\n",
        "dem_conf_df = dem_conf_df.rename(columns = {0:'issue', 1:'mean', 2:'lower_bound', 3:'upper_bound'})\n",
        "dem_conf_df['party'] = 'Democrat'\n",
        "\n",
        "combined = pd.concat([rep_conf_df, dem_conf_df]).reset_index(drop=True)\n",
        "combined['yerr'] = combined['upper_bound']-combined['mean']\n",
        "\n",
        "combined[['mean', 'lower_bound', 'upper_bound', 'yerr']] = combined[['mean', 'lower_bound', 'upper_bound', 'yerr']]*100\n",
        "combined.head()\n",
        "\n",
        "y_err95 = combined['yerr']\n"
      ],
      "execution_count": 0,
      "outputs": []
    },
    {
      "metadata": {
        "id": "T2Yfdke7tKjC",
        "colab_type": "code",
        "colab": {}
      },
      "cell_type": "code",
      "source": [
        "dems = combined[combined['party'] == 'Democrat']\n",
        "reps = combined[combined['party'] == 'Republican']\n",
        "\n",
        "#do some plotting:\n",
        "from matplotlib import pyplot as plt\n",
        "import seaborn as sns"
      ],
      "execution_count": 0,
      "outputs": []
    },
    {
      "metadata": {
        "id": "KC8EOmR4AeHP",
        "colab_type": "code",
        "colab": {
          "base_uri": "https://localhost:8080/",
          "height": 760
        },
        "outputId": "e6548bc6-8d7f-4ba6-cbc0-da1121cb60c1"
      },
      "cell_type": "code",
      "source": [
        "fig, ax = plt.subplots(figsize=(14,10))\n",
        "plt.errorbar(x=reps['issue'], y=reps['mean'], yerr=reps['yerr'], linestyle='', color='red', elinewidth=3)\n",
        "plt.errorbar(x=dems['issue'], y=dems['mean'], yerr=dems['yerr'], linestyle='', color='blue', elinewidth=3)\n",
        "plt.xticks(rotation='vertical')\n",
        "plt.title('95% confidence Interval for Democrat and Republican Support of Different Issues')\n",
        "plt.ylabel('Percentage')\n",
        "plt.xlabel('Issue')\n",
        "plt.legend(['Republican', 'Democrat'], loc=2)\n",
        "plt.show()\n"
      ],
      "execution_count": 18,
      "outputs": [
        {
          "output_type": "display_data",
          "data": {
            "image/png": "[encoded data removed]",
            "text/plain": [
              "<Figure size 1008x720 with 1 Axes>"
            ]
          },
          "metadata": {
            "tags": []
          }
        }
      ]
    },
    {
      "metadata": {
        "id": "5mxd3TEAKtdm",
        "colab_type": "code",
        "colab": {
          "base_uri": "https://localhost:8080/",
          "height": 636
        },
        "outputId": "efde2a98-1fe2-48d5-e449-55d96f83d501"
      },
      "cell_type": "code",
      "source": [
        "reps = combined[combined['party'] == 'Republican']\n",
        "dems = combined[combined['party'] == 'Democrat']\n",
        "\n",
        "plt.style.use('fivethirtyeight')\n",
        "\n",
        "fig, ax = plt.subplots(figsize=(14,7))\n",
        "\n",
        "plt.bar(x=dems['issue'], height=dems['mean'], yerr=dems['yerr'], width=0.35, align='edge', color='#4285f4')\n",
        "plt.bar(x=reps['issue'], height=reps['mean'], yerr=reps['yerr'], width=-0.35, align='edge', color='#ea4335')\n",
        "\n",
        "plt.xticks(rotation=90)\n",
        "plt.title('95% confidence Interval for Democrat and Republican Support of Different Issues')\n",
        "plt.ylabel('Percentage')\n",
        "plt.xlabel('Issue')\n",
        "plt.legend(labels=['Democrat', 'Republican'],loc=2)\n",
        "plt.show()"
      ],
      "execution_count": 28,
      "outputs": [
        {
          "output_type": "display_data",
          "data": {
            "image/png": "[encoded data removed]",
            "text/plain": [
              "<Figure size 1008x504 with 1 Axes>"
            ]
          },
          "metadata": {
            "tags": []
          }
        }
      ]
    },
    {
      "metadata": {
        "id": "KR4KstlQMq3B",
        "colab_type": "text"
      },
      "cell_type": "markdown",
      "source": [
        "# **Analysis: What does this graph show us?**\n",
        "\n",
        "**Bipartisan issues:**\n",
        "For the *water project cost sharing* and* immigration*, the 95% confidence intervals for democrats and republicans intersect (and also happen to range between 40 and 60 or so % support). This demonstrates that these issues arent particularly polarizing along party lines, and that support is split among both parties.\n",
        "\n",
        "**Democratic Issues (~80ish% + support):**\n",
        "\n",
        "*Budget Resolution*, *Anti satelite test ban*, *Nicaraguan Contras Aid*,* Mx- Missile*, and the *S African Export Admin Act* are all heavily supported by democrats. With the exception of the S african export admin act (~60-70% R support), these issues are also heavily opposed by republicans (<25% support).\n",
        "\n",
        "**Republican Issues:**\n",
        "*Physician Fee Freeze, El Salvador Aid, Religious groups in schools, synfuels corporation cutback, superfund right to sue*, and *crime* are issues that have strong republican support. Among those, physician fee freeze, el salvador aid, and education spending are strongly oppsed by democrats(< 25% support), and superfund right to sue, crime, and religious groups in schools have modest support from dems (~30-50%)\n",
        "\n"
      ]
    },
    {
      "metadata": {
        "id": "-Jhp9OWVKEcV",
        "colab_type": "code",
        "colab": {
          "base_uri": "https://localhost:8080/",
          "height": 811
        },
        "outputId": "53fff8a8-499e-4795-fed6-fc866494009c"
      },
      "cell_type": "code",
      "source": [
        "#just for comparison, lets look at 99% confidence interval (copy/past code from above, sub 99%):\n",
        "\n",
        "rep_conf_intervals = []\n",
        "dem_conf_intervals = []\n",
        "\n",
        "for col in cols[1:]:\n",
        "  mean, lower_bound, upper_bound = (confidence_interval(rep[col].dropna(), confidence=0.99))\n",
        "  rep_conf_intervals.append([col, mean, lower_bound, upper_bound])\n",
        "\n",
        "for col in cols[1:]:\n",
        "  mean, lower_bound, upper_bound = (confidence_interval(dem[col].dropna(), confidence=0.99))\n",
        "  dem_conf_intervals.append([col, mean, lower_bound, upper_bound])\n",
        "  \n",
        "#convert these into dataframes and then concat:\n",
        "\n",
        "rep_conf_df = pd.DataFrame(rep_conf_intervals)\n",
        "\n",
        "dem_conf_df = pd.DataFrame(dem_conf_intervals)\n",
        "\n",
        "rep_conf_df = rep_conf_df.rename(columns = {0:'issue', 1:'mean', 2:'lower_bound', 3:'upper_bound'})\n",
        "rep_conf_df['party'] = 'Republican'\n",
        "dem_conf_df = dem_conf_df.rename(columns = {0:'issue', 1:'mean', 2:'lower_bound', 3:'upper_bound'})\n",
        "dem_conf_df['party'] = 'Democrat'\n",
        "\n",
        "combined = pd.concat([rep_conf_df, dem_conf_df]).reset_index(drop=True)\n",
        "combined['yerr'] = combined['upper_bound']-combined['mean']\n",
        "\n",
        "combined[['mean', 'lower_bound', 'upper_bound', 'yerr']] = combined[['mean', 'lower_bound', 'upper_bound', 'yerr']]*100\n",
        "\n",
        "y_err99 = combined['yerr']\n",
        "\n",
        "dems = combined[combined['party'] == 'Democrat']\n",
        "reps = combined[combined['party'] == 'Republican']\n",
        "\n",
        "fig, ax = plt.subplots(figsize=(14,10))\n",
        "plt.errorbar(x=reps['issue'], y=reps['mean'], yerr=reps['yerr'], linestyle='', color='red', elinewidth=3)\n",
        "plt.errorbar(x=dems['issue'], y=dems['mean'], yerr=dems['yerr'], linestyle='', color='blue', elinewidth=3)\n",
        "plt.xticks(rotation='vertical')\n",
        "plt.title('99% confidence Interval for Democrat and Republican Support of Different Issues')\n",
        "plt.ylabel('Percentage')\n",
        "plt.xlabel('Issue')\n",
        "plt.legend(['Republican', 'Democrat'], loc=2)\n",
        "plt.show()\n"
      ],
      "execution_count": 29,
      "outputs": [
        {
          "output_type": "display_data",
          "data": {
            "image/png": "[encoded data removed]",
            "text/plain": [
              "<Figure size 1008x720 with 1 Axes>"
            ]
          },
          "metadata": {
            "tags": []
          }
        }
      ]
    },
    {
      "metadata": {
        "id": "lMi2b4ZGKusu",
        "colab_type": "code",
        "colab": {
          "base_uri": "https://localhost:8080/",
          "height": 348
        },
        "outputId": "e932e51e-209d-4abe-f99c-ad034dde4321"
      },
      "cell_type": "code",
      "source": [
        "#not much diff visually: lets compare the yerr columns:\n",
        "\n",
        "y_err = pd.concat([y_err95, y_err99], axis=1)\n",
        "y_err.head(10)"
      ],
      "execution_count": 21,
      "outputs": [
        {
          "output_type": "execute_result",
          "data": {
            "text/html": [
              "<div>\n",
              "<style scoped>\n",
              "    .dataframe tbody tr th:only-of-type {\n",
              "        vertical-align: middle;\n",
              "    }\n",
              "\n",
              "    .dataframe tbody tr th {\n",
              "        vertical-align: top;\n",
              "    }\n",
              "\n",
              "    .dataframe thead th {\n",
              "        text-align: right;\n",
              "    }\n",
              "</style>\n",
              "<table border=\"1\" class=\"dataframe\">\n",
              "  <thead>\n",
              "    <tr style=\"text-align: right;\">\n",
              "      <th></th>\n",
              "      <th>yerr</th>\n",
              "      <th>yerr</th>\n",
              "    </tr>\n",
              "  </thead>\n",
              "  <tbody>\n",
              "    <tr>\n",
              "      <th>0</th>\n",
              "      <td>6.022712</td>\n",
              "      <td>7.949230</td>\n",
              "    </tr>\n",
              "    <tr>\n",
              "      <th>1</th>\n",
              "      <td>8.149105</td>\n",
              "      <td>10.761189</td>\n",
              "    </tr>\n",
              "    <tr>\n",
              "      <th>2</th>\n",
              "      <td>5.271114</td>\n",
              "      <td>6.957398</td>\n",
              "    </tr>\n",
              "    <tr>\n",
              "      <th>3</th>\n",
              "      <td>1.687204</td>\n",
              "      <td>2.226899</td>\n",
              "    </tr>\n",
              "    <tr>\n",
              "      <th>4</th>\n",
              "      <td>3.311721</td>\n",
              "      <td>4.371058</td>\n",
              "    </tr>\n",
              "    <tr>\n",
              "      <th>5</th>\n",
              "      <td>4.660288</td>\n",
              "      <td>6.150837</td>\n",
              "    </tr>\n",
              "    <tr>\n",
              "      <th>6</th>\n",
              "      <td>6.653985</td>\n",
              "      <td>8.783138</td>\n",
              "    </tr>\n",
              "    <tr>\n",
              "      <th>7</th>\n",
              "      <td>5.691147</td>\n",
              "      <td>7.513272</td>\n",
              "    </tr>\n",
              "    <tr>\n",
              "      <th>8</th>\n",
              "      <td>4.921666</td>\n",
              "      <td>6.495985</td>\n",
              "    </tr>\n",
              "    <tr>\n",
              "      <th>9</th>\n",
              "      <td>7.657980</td>\n",
              "      <td>10.107579</td>\n",
              "    </tr>\n",
              "  </tbody>\n",
              "</table>\n",
              "</div>"
            ],
            "text/plain": [
              "       yerr       yerr\n",
              "0  6.022712   7.949230\n",
              "1  8.149105  10.761189\n",
              "2  5.271114   6.957398\n",
              "3  1.687204   2.226899\n",
              "4  3.311721   4.371058\n",
              "5  4.660288   6.150837\n",
              "6  6.653985   8.783138\n",
              "7  5.691147   7.513272\n",
              "8  4.921666   6.495985\n",
              "9  7.657980  10.107579"
            ]
          },
          "metadata": {
            "tags": []
          },
          "execution_count": 21
        }
      ]
    },
    {
      "metadata": {
        "id": "XIMGYVy0L1vh",
        "colab_type": "text"
      },
      "cell_type": "markdown",
      "source": [
        "As expected, the yerr stat (the spread of the upper and lower bound from the mean) for the 99% confidence interval is higher than for the 95% confidence interval. This means or is because in the upper and lower boudns must increase in order to have the higher confidence that the true mean of population lies within that range. "
      ]
    },
    {
      "metadata": {
        "id": "nyJ3ySr7R2k9",
        "colab_type": "text"
      },
      "cell_type": "markdown",
      "source": [
        "## Resources\n",
        "\n",
        "- [Interactive visualize the Chi-Squared test](https://homepage.divms.uiowa.edu/~mbognar/applets/chisq.html)\n",
        "- [Calculation of Chi-Squared test statistic](https://en.wikipedia.org/wiki/Pearson%27s_chi-squared_test)\n",
        "- [Visualization of a confidence interval generated by R code](https://commons.wikimedia.org/wiki/File:Confidence-interval.svg)\n",
        "- [Expected value of a squared standard normal](https://math.stackexchange.com/questions/264061/expected-value-calculation-for-squared-normal-distribution) (it's 1 - which is why the expected value of a Chi-Squared with $n$ degrees of freedom is $n$, as it's the sum of $n$ squared standard normals)"
      ]
    }
  ]
}