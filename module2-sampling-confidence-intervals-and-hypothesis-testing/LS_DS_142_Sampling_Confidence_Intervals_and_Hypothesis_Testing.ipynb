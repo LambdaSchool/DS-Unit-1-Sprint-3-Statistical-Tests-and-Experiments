{
  "nbformat": 4,
  "nbformat_minor": 0,
  "metadata": {
    "colab": {
      "name": "LS DS 142 Sampling Confidence Intervals and Hypothesis Testing.ipynb",
      "version": "0.3.2",
      "provenance": [],
      "collapsed_sections": [],
      "include_colab_link": true
    },
    "kernelspec": {
      "name": "python3",
      "display_name": "Python 3"
    }
  },
  "cells": [
    {
      "cell_type": "markdown",
      "metadata": {
        "id": "view-in-github",
        "colab_type": "text"
      },
      "source": [
        "<a href=\"https://colab.research.google.com/github/zarrinan/DS-Unit-1-Sprint-4-Statistical-Tests-and-Experiments/blob/master/module2-sampling-confidence-intervals-and-hypothesis-testing/LS_DS_142_Sampling_Confidence_Intervals_and_Hypothesis_Testing.ipynb\" target=\"_parent\"><img src=\"https://colab.research.google.com/assets/colab-badge.svg\" alt=\"Open In Colab\"/></a>"
      ]
    },
    {
      "metadata": {
        "id": "838Dmw1kM2LK",
        "colab_type": "text"
      },
      "cell_type": "markdown",
      "source": [
        "# Lambda School Data Science Module 142\n",
        "## Sampling, Confidence Intervals, and Hypothesis Testing"
      ]
    },
    {
      "metadata": {
        "id": "dbcPKIo5M6Ny",
        "colab_type": "text"
      },
      "cell_type": "markdown",
      "source": [
        "## Prepare - examine other available hypothesis tests\n",
        "\n",
        "If you had to pick a single hypothesis test in your toolbox, t-test would probably be the best choice - but the good news is you don't have to pick just one! Here's some of the others to be aware of:"
      ]
    },
    {
      "metadata": {
        "id": "tlBel8j9M6tB",
        "colab_type": "code",
        "outputId": "b875b4dc-49e8-45fc-b8fa-19f0e3e1d9d1",
        "colab": {
          "base_uri": "https://localhost:8080/",
          "height": 185
        }
      },
      "cell_type": "code",
      "source": [
        "import numpy as np\n",
        "from scipy.stats import chisquare  # One-way chi square test\n",
        "\n",
        "# Chi square can take any crosstab/table and test the independence of rows/cols\n",
        "# The null hypothesis is that the rows/cols are independent -> low chi square\n",
        "# The alternative is that there is a dependence -> high chi square\n",
        "# Be aware! Chi square does *not* tell you direction/causation\n",
        "\n",
        "ind_obs = np.array([[1, 1], [2, 2]]).T\n",
        "print(ind_obs)\n",
        "print(chisquare(ind_obs, axis=None))\n",
        "\n",
        "dep_obs = np.array([[16, 18, 16, 14, 12, 12], [32, 24, 16, 28, 20, 24]]).T\n",
        "print(dep_obs)\n",
        "print(chisquare(dep_obs, axis=None))"
      ],
      "execution_count": 2,
      "outputs": [
        {
          "output_type": "stream",
          "text": [
            "[[1 2]\n",
            " [1 2]]\n",
            "Power_divergenceResult(statistic=0.6666666666666666, pvalue=0.8810148425137847)\n",
            "[[16 32]\n",
            " [18 24]\n",
            " [16 16]\n",
            " [14 28]\n",
            " [12 20]\n",
            " [12 24]]\n",
            "Power_divergenceResult(statistic=23.31034482758621, pvalue=0.015975692534127565)\n"
          ],
          "name": "stdout"
        }
      ]
    },
    {
      "metadata": {
        "id": "nN0BdNiDPxbk",
        "colab_type": "code",
        "outputId": "17f26bec-eeee-4aa3-a26b-0ff1adbb27b8",
        "colab": {
          "base_uri": "https://localhost:8080/",
          "height": 34
        }
      },
      "cell_type": "code",
      "source": [
        "# Distribution tests:\n",
        "# We often assume that something is normal, but it can be important to *check*\n",
        "\n",
        "# For example, later on with predictive modeling, a typical assumption is that\n",
        "# residuals (prediction errors) are normal - checking is a good diagnostic\n",
        "\n",
        "from scipy.stats import normaltest\n",
        "# Poisson models arrival times and is related to the binomial (coinflip)\n",
        "sample = np.random.poisson(5, 1000)\n",
        "print(normaltest(sample))  # Pretty clearly not normal"
      ],
      "execution_count": 3,
      "outputs": [
        {
          "output_type": "stream",
          "text": [
            "NormaltestResult(statistic=26.247558623216495, pvalue=1.997170135515912e-06)\n"
          ],
          "name": "stdout"
        }
      ]
    },
    {
      "metadata": {
        "id": "P5t0WhkDReFO",
        "colab_type": "code",
        "outputId": "3842292a-873a-4453-e8bd-d5095b08d47c",
        "colab": {
          "base_uri": "https://localhost:8080/",
          "height": 50
        }
      },
      "cell_type": "code",
      "source": [
        "# Kruskal-Wallis H-test - compare the median rank between 2+ groups\n",
        "# Can be applied to ranking decisions/outcomes/recommendations\n",
        "# The underlying math comes from chi-square distribution, and is best for n>5\n",
        "from scipy.stats import kruskal\n",
        "\n",
        "x1 = [1, 3, 5, 7, 9]\n",
        "y1 = [2, 4, 6, 8, 10]\n",
        "print(kruskal(x1, y1))  # x1 is a little better, but not \"significantly\" so\n",
        "\n",
        "x2 = [1, 1, 1]\n",
        "y2 = [2, 2, 2]\n",
        "z = [2, 2]  # Hey, a third group, and of different size!\n",
        "print(kruskal(x2, y2, z))  # x clearly dominates"
      ],
      "execution_count": 4,
      "outputs": [
        {
          "output_type": "stream",
          "text": [
            "KruskalResult(statistic=0.2727272727272734, pvalue=0.6015081344405895)\n",
            "KruskalResult(statistic=7.0, pvalue=0.0301973834223185)\n"
          ],
          "name": "stdout"
        }
      ]
    },
    {
      "metadata": {
        "id": "7pT3IP36Rh0b",
        "colab_type": "text"
      },
      "cell_type": "markdown",
      "source": [
        "And there's many more! `scipy.stats` is fairly comprehensive, though there are even more available if you delve into the extended world of statistics packages. As tests get increasingly obscure and specialized, the importance of knowing them by heart becomes small - but being able to look them up and figure them out when they *are* relevant is still important."
      ]
    },
    {
      "metadata": {
        "id": "L1_KRuHCM7BW",
        "colab_type": "text"
      },
      "cell_type": "markdown",
      "source": [
        "## Live Lecture - let's explore some more of scipy.stats"
      ]
    },
    {
      "metadata": {
        "id": "qW6k0dorM7Lz",
        "colab_type": "code",
        "colab": {}
      },
      "cell_type": "code",
      "source": [
        "# Taking requests! Come to lecture with a topic or problem and we'll try it.\n",
        "from scipy import stats\n",
        "b1 = stats.binom(n=100, p=0.6)"
      ],
      "execution_count": 0,
      "outputs": []
    },
    {
      "metadata": {
        "id": "MQQKL9iWYV7o",
        "colab_type": "code",
        "outputId": "f8da37e5-bae9-4261-9107-fd655e2bd9d5",
        "colab": {
          "base_uri": "https://localhost:8080/",
          "height": 34
        }
      },
      "cell_type": "code",
      "source": [
        "b1.mean()"
      ],
      "execution_count": 6,
      "outputs": [
        {
          "output_type": "execute_result",
          "data": {
            "text/plain": [
              "60.0"
            ]
          },
          "metadata": {
            "tags": []
          },
          "execution_count": 6
        }
      ]
    },
    {
      "metadata": {
        "id": "wT8iAfObYoq9",
        "colab_type": "code",
        "outputId": "b0c749e8-e906-4ba5-a860-69f042816847",
        "colab": {
          "base_uri": "https://localhost:8080/",
          "height": 34
        }
      },
      "cell_type": "code",
      "source": [
        "b1.median()"
      ],
      "execution_count": 7,
      "outputs": [
        {
          "output_type": "execute_result",
          "data": {
            "text/plain": [
              "60.0"
            ]
          },
          "metadata": {
            "tags": []
          },
          "execution_count": 7
        }
      ]
    },
    {
      "metadata": {
        "id": "2XDffrinYzGX",
        "colab_type": "code",
        "outputId": "919de860-2162-4f0b-8ba4-08e4dbe09999",
        "colab": {
          "base_uri": "https://localhost:8080/",
          "height": 34
        }
      },
      "cell_type": "code",
      "source": [
        "import random\n",
        "random.seed(100)  # Reproducibility! Next line should give 2386\n",
        "random.randint(0, 10000)"
      ],
      "execution_count": 8,
      "outputs": [
        {
          "output_type": "execute_result",
          "data": {
            "text/plain": [
              "2386"
            ]
          },
          "metadata": {
            "tags": []
          },
          "execution_count": 8
        }
      ]
    },
    {
      "metadata": {
        "id": "FGsbKoMoZdLS",
        "colab_type": "code",
        "outputId": "1dc77475-bf02-470a-b4ad-c214b7d9ce27",
        "colab": {
          "base_uri": "https://localhost:8080/",
          "height": 34
        }
      },
      "cell_type": "code",
      "source": [
        "chi2 = stats.chi2(500)\n",
        "chi2.mean()"
      ],
      "execution_count": 9,
      "outputs": [
        {
          "output_type": "execute_result",
          "data": {
            "text/plain": [
              "500.0"
            ]
          },
          "metadata": {
            "tags": []
          },
          "execution_count": 9
        }
      ]
    },
    {
      "metadata": {
        "id": "POFJa1FAZtcw",
        "colab_type": "code",
        "outputId": "7ad2472d-b815-4613-c5ba-48a8e57f5691",
        "colab": {
          "base_uri": "https://localhost:8080/",
          "height": 34
        }
      },
      "cell_type": "code",
      "source": [
        "chi2.median()"
      ],
      "execution_count": 10,
      "outputs": [
        {
          "output_type": "execute_result",
          "data": {
            "text/plain": [
              "499.3334915888738"
            ]
          },
          "metadata": {
            "tags": []
          },
          "execution_count": 10
        }
      ]
    },
    {
      "metadata": {
        "id": "8V_bRg2xc_KJ",
        "colab_type": "code",
        "colab": {}
      },
      "cell_type": "code",
      "source": [
        "# Confidence intervals!\n",
        "# Similar to hypothesis testing, but centered at sample mean\n",
        "# Better than reporting the \"point estimate\" (sample mean)\n",
        "# Why? Because point estimates aren't always perfect\n",
        "\n",
        "import numpy as np\n",
        "from scipy import stats\n",
        "\n",
        "def confidence_interval(data, confidence=0.95):\n",
        "  \"\"\"\n",
        "  Calculate a confidence interval around a sample mean for given data.\n",
        "  Using t-distribution and two-tailed test, default 95% confidence. \n",
        "  \n",
        "  Arguments:\n",
        "    data - iterable (list or numpy array) of sample observations\n",
        "    confidence - level of confidence for the interval\n",
        "  \n",
        "  Returns:\n",
        "    tuple of (mean, lower bound, upper bound)\n",
        "  \"\"\"\n",
        "  data = np.array(data)\n",
        "  mean = np.mean(data)\n",
        "  n = len(data)\n",
        "  stderr = stats.sem(data)\n",
        "  interval = stderr * stats.t.ppf((1 + confidence) / 2., n - 1)\n",
        "  return (mean, mean - interval, mean + interval)\n",
        "\n",
        "def report_confidence_interval(confidence_interval):\n",
        "  \"\"\"\n",
        "  Return a string with a pretty report of a confidence interval.\n",
        "  \n",
        "  Arguments:\n",
        "    confidence_interval - tuple of (mean, lower bound, upper bound)\n",
        "  \n",
        "  Returns:\n",
        "    None, but prints to screen the report\n",
        "  \"\"\"\n",
        "  #print('Mean: {}'.format(confidence_interval[0]))\n",
        "  #print('Lower bound: {}'.format(confidence_interval[1]))\n",
        "  #print('Upper bound: {}'.format(confidence_interval[2]))\n",
        "  s = \"our mean lies in the interval ]{:.2}, {:.2}[\".format(\n",
        "      confidence_interval[1], confidence_interval[2])\n",
        "  return s"
      ],
      "execution_count": 0,
      "outputs": []
    },
    {
      "metadata": {
        "id": "2hHudVt9jjE-",
        "colab_type": "code",
        "outputId": "df277086-5a3c-4fd2-ee50-f3b4ce7c3d36",
        "colab": {
          "base_uri": "https://localhost:8080/",
          "height": 34
        }
      },
      "cell_type": "code",
      "source": [
        "x = 2\n",
        "print('x is: {}'.format(x))"
      ],
      "execution_count": 12,
      "outputs": [
        {
          "output_type": "stream",
          "text": [
            "x is: 2\n"
          ],
          "name": "stdout"
        }
      ]
    },
    {
      "metadata": {
        "id": "m-DbjeVYhu-P",
        "colab_type": "code",
        "outputId": "73e0c8a2-e49c-42c5-d574-2bc826b005f7",
        "colab": {
          "base_uri": "https://localhost:8080/",
          "height": 67
        }
      },
      "cell_type": "code",
      "source": [
        "coinflips = np.random.binomial(n=1, p=0.5, size=100)\n",
        "print(coinflips)"
      ],
      "execution_count": 13,
      "outputs": [
        {
          "output_type": "stream",
          "text": [
            "[1 1 0 1 1 1 0 1 0 0 1 1 1 0 0 0 0 1 1 0 1 1 1 1 1 1 1 1 1 1 1 0 1 1 0 1 1\n",
            " 1 1 1 1 1 1 1 1 1 0 1 1 0 0 0 0 0 0 0 1 1 1 0 0 1 0 0 1 1 1 0 1 1 1 1 0 0\n",
            " 0 1 1 1 1 1 0 0 1 1 0 1 1 0 0 1 1 1 0 0 0 1 0 1 1 1]\n"
          ],
          "name": "stdout"
        }
      ]
    },
    {
      "metadata": {
        "id": "QS_3fOo3iMna",
        "colab_type": "code",
        "outputId": "b7cbc10f-849e-40a7-e6d5-64fe6d5ad2a2",
        "colab": {
          "base_uri": "https://localhost:8080/",
          "height": 284
        }
      },
      "cell_type": "code",
      "source": [
        "import pandas as pd\n",
        "df = pd.DataFrame(coinflips)\n",
        "df.describe()"
      ],
      "execution_count": 14,
      "outputs": [
        {
          "output_type": "execute_result",
          "data": {
            "text/html": [
              "<div>\n",
              "<style scoped>\n",
              "    .dataframe tbody tr th:only-of-type {\n",
              "        vertical-align: middle;\n",
              "    }\n",
              "\n",
              "    .dataframe tbody tr th {\n",
              "        vertical-align: top;\n",
              "    }\n",
              "\n",
              "    .dataframe thead th {\n",
              "        text-align: right;\n",
              "    }\n",
              "</style>\n",
              "<table border=\"1\" class=\"dataframe\">\n",
              "  <thead>\n",
              "    <tr style=\"text-align: right;\">\n",
              "      <th></th>\n",
              "      <th>0</th>\n",
              "    </tr>\n",
              "  </thead>\n",
              "  <tbody>\n",
              "    <tr>\n",
              "      <th>count</th>\n",
              "      <td>100.000000</td>\n",
              "    </tr>\n",
              "    <tr>\n",
              "      <th>mean</th>\n",
              "      <td>0.640000</td>\n",
              "    </tr>\n",
              "    <tr>\n",
              "      <th>std</th>\n",
              "      <td>0.482418</td>\n",
              "    </tr>\n",
              "    <tr>\n",
              "      <th>min</th>\n",
              "      <td>0.000000</td>\n",
              "    </tr>\n",
              "    <tr>\n",
              "      <th>25%</th>\n",
              "      <td>0.000000</td>\n",
              "    </tr>\n",
              "    <tr>\n",
              "      <th>50%</th>\n",
              "      <td>1.000000</td>\n",
              "    </tr>\n",
              "    <tr>\n",
              "      <th>75%</th>\n",
              "      <td>1.000000</td>\n",
              "    </tr>\n",
              "    <tr>\n",
              "      <th>max</th>\n",
              "      <td>1.000000</td>\n",
              "    </tr>\n",
              "  </tbody>\n",
              "</table>\n",
              "</div>"
            ],
            "text/plain": [
              "                0\n",
              "count  100.000000\n",
              "mean     0.640000\n",
              "std      0.482418\n",
              "min      0.000000\n",
              "25%      0.000000\n",
              "50%      1.000000\n",
              "75%      1.000000\n",
              "max      1.000000"
            ]
          },
          "metadata": {
            "tags": []
          },
          "execution_count": 14
        }
      ]
    },
    {
      "metadata": {
        "id": "__rL1ObHiR6w",
        "colab_type": "code",
        "outputId": "1817448d-b292-4006-fa01-beeb37a65856",
        "colab": {
          "base_uri": "https://localhost:8080/",
          "height": 34
        }
      },
      "cell_type": "code",
      "source": [
        "coinflip_interval = confidence_interval(coinflips, confidence=0.95)\n",
        "coinflip_interval"
      ],
      "execution_count": 15,
      "outputs": [
        {
          "output_type": "execute_result",
          "data": {
            "text/plain": [
              "(0.64, 0.5442777726426602, 0.7357222273573398)"
            ]
          },
          "metadata": {
            "tags": []
          },
          "execution_count": 15
        }
      ]
    },
    {
      "metadata": {
        "id": "jolnxSPuj9Kb",
        "colab_type": "code",
        "outputId": "76fdcc52-c10a-4edf-a0dd-6e3e660a98dd",
        "colab": {
          "base_uri": "https://localhost:8080/",
          "height": 34
        }
      },
      "cell_type": "code",
      "source": [
        "report_confidence_interval(coinflip_interval)"
      ],
      "execution_count": 16,
      "outputs": [
        {
          "output_type": "execute_result",
          "data": {
            "text/plain": [
              "'our mean lies in the interval ]0.54, 0.74['"
            ]
          },
          "metadata": {
            "tags": []
          },
          "execution_count": 16
        }
      ]
    },
    {
      "metadata": {
        "id": "11OzdxWTM7UR",
        "colab_type": "text"
      },
      "cell_type": "markdown",
      "source": [
        "## Assignment - Build a confidence interval\n",
        "\n",
        "A confidence interval refers to a neighborhood around some point estimate, the size of which is determined by the desired p-value. For instance, we might say that 52% of Americans prefer tacos to burritos, with a 95% confidence interval of +/- 5%.\n",
        "\n",
        "52% (0.52) is the point estimate, and +/- 5% (the interval $[0.47, 0.57]$) is the confidence interval. \"95% confidence\" means a p-value $\\leq 1 - 0.95 = 0.05$.\n",
        "\n",
        "In this case, the confidence interval includes $0.5$ - which is the natural null hypothesis (that half of Americans prefer tacos and half burritos, thus there is no clear favorite). So in this case, we could use the confidence interval to report that we've failed to reject the null hypothesis.\n",
        "\n",
        "But providing the full analysis with a confidence interval, including a graphical representation of it, can be a helpful and powerful way to tell your story. Done well, it is also more intuitive to a layperson than simply saying \"fail to reject the null hypothesis\" - it shows that in fact the data does *not* give a single clear result (the point estimate) but a whole range of possibilities.\n",
        "\n",
        "How is a confidence interval built, and how should it be interpreted? It does *not* mean that 95% of the data lies in that interval - instead, the frequentist interpretation is \"if we were to repeat this experiment 100 times, we would expect the average result to lie in this interval ~95 times.\"\n",
        "\n",
        "For a 95% confidence interval and a normal(-ish) distribution, you can simply remember that +/-2 standard deviations contains 95% of the probability mass, and so the 95% confidence interval based on a given sample is centered at the mean (point estimate) and has a range of +/- 2 (or technically 1.96) standard deviations.\n",
        "\n",
        "Different distributions/assumptions (90% confidence, 99% confidence) will require different math, but the overall process and interpretation (with a frequentist approach) will be the same.\n",
        "\n",
        "Your assignment - using the data from the prior module ([congressional voting records](https://archive.ics.uci.edu/ml/datasets/Congressional+Voting+Records)):\n",
        "\n",
        "1. Generate and numerically represent a confidence interval\n",
        "2. Graphically (with a plot) represent the confidence interval\n",
        "3. Interpret the confidence interval - what does it tell you about the data and its distribution?\n",
        "\n",
        "Stretch goals:\n",
        "\n",
        "1. Write a summary of your findings, mixing prose and math/code/results. *Note* - yes, this is by definition a political topic. It is challenging but important to keep your writing voice *neutral* and stick to the facts of the data. Data science often involves considering controversial issues, so it's important to be sensitive about them (especially if you want to publish).\n",
        "2. Apply the techniques you learned today to your project data or other data of your choice, and write/discuss your findings here."
      ]
    },
    {
      "metadata": {
        "id": "Ckcr4A4FM7cs",
        "colab_type": "code",
        "outputId": "2c2248a9-c48f-4e99-b200-506ea0d0eca2",
        "colab": {
          "base_uri": "https://localhost:8080/",
          "height": 202
        }
      },
      "cell_type": "code",
      "source": [
        "# Getting started with drug data\n",
        "# http://archive.ics.uci.edu/ml/datasets/Drug+Review+Dataset+%28Drugs.com%29\n",
        "\n",
        "!wget http://archive.ics.uci.edu/ml/machine-learning-databases/00462/drugsCom_raw.zip"
      ],
      "execution_count": 17,
      "outputs": [
        {
          "output_type": "stream",
          "text": [
            "--2018-12-04 23:35:30--  http://archive.ics.uci.edu/ml/machine-learning-databases/00462/drugsCom_raw.zip\n",
            "Resolving archive.ics.uci.edu (archive.ics.uci.edu)... 128.195.10.249\n",
            "Connecting to archive.ics.uci.edu (archive.ics.uci.edu)|128.195.10.249|:80... connected.\n",
            "HTTP request sent, awaiting response... 200 OK\n",
            "Length: 42989872 (41M) [application/zip]\n",
            "Saving to: ‘drugsCom_raw.zip’\n",
            "\n",
            "drugsCom_raw.zip    100%[===================>]  41.00M  12.1MB/s    in 4.9s    \n",
            "\n",
            "2018-12-04 23:35:36 (8.35 MB/s) - ‘drugsCom_raw.zip’ saved [42989872/42989872]\n",
            "\n"
          ],
          "name": "stdout"
        }
      ]
    },
    {
      "metadata": {
        "id": "uw0sIvJslq1T",
        "colab_type": "code",
        "outputId": "743be5df-546c-46bb-abbc-d28a2d70cb49",
        "colab": {
          "base_uri": "https://localhost:8080/",
          "height": 67
        }
      },
      "cell_type": "code",
      "source": [
        "!unzip drugsCom_raw.zip"
      ],
      "execution_count": 18,
      "outputs": [
        {
          "output_type": "stream",
          "text": [
            "Archive:  drugsCom_raw.zip\n",
            "  inflating: drugsComTest_raw.tsv    \n",
            "  inflating: drugsComTrain_raw.tsv   \n"
          ],
          "name": "stdout"
        }
      ]
    },
    {
      "metadata": {
        "id": "bK6v98eZltpk",
        "colab_type": "code",
        "outputId": "140d6632-a2a6-4543-a375-7c50ae934e03",
        "colab": {
          "base_uri": "https://localhost:8080/",
          "height": 205
        }
      },
      "cell_type": "code",
      "source": [
        "!head drugsComTrain_raw.tsv"
      ],
      "execution_count": 19,
      "outputs": [
        {
          "output_type": "stream",
          "text": [
            "\tdrugName\tcondition\treview\trating\tdate\tusefulCount\r\n",
            "206461\tValsartan\tLeft Ventricular Dysfunction\t\"\"\"It has no side effect, I take it in combination of Bystolic 5 Mg and Fish Oil\"\"\"\t9.0\tMay 20, 2012\t27\r\n",
            "95260\tGuanfacine\tADHD\t\"\"\"My son is halfway through his fourth week of Intuniv. We became concerned when he began this last week, when he started taking the highest dose he will be on. For two days, he could hardly get out of bed, was very cranky, and slept for nearly 8 hours on a drive home from school vacation (very unusual for him.) I called his doctor on Monday morning and she said to stick it out a few days. See how he did at school, and with getting up in the morning. The last two days have been problem free. He is MUCH more agreeable than ever. He is less emotional (a good thing), less cranky. He is remembering all the things he should. Overall his behavior is better. \r\n",
            "We have tried many different medications and so far this is the most effective.\"\"\"\t8.0\tApril 27, 2010\t192\r\n",
            "92703\tLybrel\tBirth Control\t\"\"\"I used to take another oral contraceptive, which had 21 pill cycle, and was very happy- very light periods, max 5 days, no other side effects. But it contained hormone gestodene, which is not available in US, so I switched to Lybrel, because the ingredients are similar. When my other pills ended, I started Lybrel immediately, on my first day of period, as the instructions said. And the period lasted for two weeks. When taking the second pack- same two weeks. And now, with third pack things got even worse- my third period lasted for two weeks and now it&#039;s the end of the third week- I still have daily brown discharge.\r\n",
            "The positive side is that I didn&#039;t have any other side effects. The idea of being period free was so tempting... Alas.\"\"\"\t5.0\tDecember 14, 2009\t17\r\n",
            "138000\tOrtho Evra\tBirth Control\t\"\"\"This is my first time using any form of birth control. I&#039;m glad I went with the patch, I have been on it for 8 months. At first It decreased my libido but that subsided. The only downside is that it made my periods longer (5-6 days to be exact) I used to only have periods for 3-4 days max also made my cramps intense for the first two days of my period, I never had cramps before using birth control. Other than that in happy with the patch\"\"\"\t8.0\tNovember 3, 2015\t10\r\n",
            "35696\tBuprenorphine / naloxone\tOpiate Dependence\t\"\"\"Suboxone has completely turned my life around.  I feel healthier, I&#039;m excelling at my job and I always have money in my pocket and my savings account.  I had none of those before Suboxone and spent years abusing oxycontin.  My paycheck was already spent by the time I got it and I started resorting to scheming and stealing to fund my addiction.  All that is history.  If you&#039;re ready to stop, there&#039;s a good chance that suboxone will put you on the path of great life again.  I have found the side-effects to be minimal compared to oxycontin.  I&#039;m actually sleeping better.   Slight constipation is about it for me.  It truly is amazing. The cost pales in comparison to what I spent on oxycontin.\"\"\"\t9.0\tNovember 27, 2016\t37\r\n",
            "155963\tCialis\tBenign Prostatic Hyperplasia\t\"\"\"2nd day on 5mg started to work with rock hard erections however experianced headache, lower bowel preassure. 3rd day erections would wake me up &amp; hurt! Leg/ankles aches   severe lower bowel preassure like you need to go #2 but can&#039;t! Enjoyed the initial rockhard erections but not at these side effects or $230 for months supply! I&#039;m 50 &amp; work out 3Xs a week. Not worth side effects!\"\"\"\t2.0\tNovember 28, 2015\t43\r\n",
            "165907\tLevonorgestrel\tEmergency Contraception\t\"\"\"He pulled out, but he cummed a bit in me. I took the Plan B 26 hours later, and took a pregnancy test two weeks later - - I&#039;m pregnant.\"\"\"\t1.0\tMarch 7, 2017\t5\r\n"
          ],
          "name": "stdout"
        }
      ]
    },
    {
      "metadata": {
        "id": "PhZGPJ-ol3bY",
        "colab_type": "code",
        "outputId": "8bd79a43-f09c-4351-c646-9bfa7809f34e",
        "colab": {
          "base_uri": "https://localhost:8080/",
          "height": 195
        }
      },
      "cell_type": "code",
      "source": [
        "df = pd.read_table('drugsComTrain_raw.tsv', delimiter='\\t')\n",
        "df.head()"
      ],
      "execution_count": 20,
      "outputs": [
        {
          "output_type": "execute_result",
          "data": {
            "text/html": [
              "<div>\n",
              "<style scoped>\n",
              "    .dataframe tbody tr th:only-of-type {\n",
              "        vertical-align: middle;\n",
              "    }\n",
              "\n",
              "    .dataframe tbody tr th {\n",
              "        vertical-align: top;\n",
              "    }\n",
              "\n",
              "    .dataframe thead th {\n",
              "        text-align: right;\n",
              "    }\n",
              "</style>\n",
              "<table border=\"1\" class=\"dataframe\">\n",
              "  <thead>\n",
              "    <tr style=\"text-align: right;\">\n",
              "      <th></th>\n",
              "      <th>Unnamed: 0</th>\n",
              "      <th>drugName</th>\n",
              "      <th>condition</th>\n",
              "      <th>review</th>\n",
              "      <th>rating</th>\n",
              "      <th>date</th>\n",
              "      <th>usefulCount</th>\n",
              "    </tr>\n",
              "  </thead>\n",
              "  <tbody>\n",
              "    <tr>\n",
              "      <th>0</th>\n",
              "      <td>206461</td>\n",
              "      <td>Valsartan</td>\n",
              "      <td>Left Ventricular Dysfunction</td>\n",
              "      <td>\"It has no side effect, I take it in combinati...</td>\n",
              "      <td>9.0</td>\n",
              "      <td>May 20, 2012</td>\n",
              "      <td>27</td>\n",
              "    </tr>\n",
              "    <tr>\n",
              "      <th>1</th>\n",
              "      <td>95260</td>\n",
              "      <td>Guanfacine</td>\n",
              "      <td>ADHD</td>\n",
              "      <td>\"My son is halfway through his fourth week of ...</td>\n",
              "      <td>8.0</td>\n",
              "      <td>April 27, 2010</td>\n",
              "      <td>192</td>\n",
              "    </tr>\n",
              "    <tr>\n",
              "      <th>2</th>\n",
              "      <td>92703</td>\n",
              "      <td>Lybrel</td>\n",
              "      <td>Birth Control</td>\n",
              "      <td>\"I used to take another oral contraceptive, wh...</td>\n",
              "      <td>5.0</td>\n",
              "      <td>December 14, 2009</td>\n",
              "      <td>17</td>\n",
              "    </tr>\n",
              "    <tr>\n",
              "      <th>3</th>\n",
              "      <td>138000</td>\n",
              "      <td>Ortho Evra</td>\n",
              "      <td>Birth Control</td>\n",
              "      <td>\"This is my first time using any form of birth...</td>\n",
              "      <td>8.0</td>\n",
              "      <td>November 3, 2015</td>\n",
              "      <td>10</td>\n",
              "    </tr>\n",
              "    <tr>\n",
              "      <th>4</th>\n",
              "      <td>35696</td>\n",
              "      <td>Buprenorphine / naloxone</td>\n",
              "      <td>Opiate Dependence</td>\n",
              "      <td>\"Suboxone has completely turned my life around...</td>\n",
              "      <td>9.0</td>\n",
              "      <td>November 27, 2016</td>\n",
              "      <td>37</td>\n",
              "    </tr>\n",
              "  </tbody>\n",
              "</table>\n",
              "</div>"
            ],
            "text/plain": [
              "   Unnamed: 0                  drugName                     condition  \\\n",
              "0      206461                 Valsartan  Left Ventricular Dysfunction   \n",
              "1       95260                Guanfacine                          ADHD   \n",
              "2       92703                    Lybrel                 Birth Control   \n",
              "3      138000                Ortho Evra                 Birth Control   \n",
              "4       35696  Buprenorphine / naloxone             Opiate Dependence   \n",
              "\n",
              "                                              review  rating  \\\n",
              "0  \"It has no side effect, I take it in combinati...     9.0   \n",
              "1  \"My son is halfway through his fourth week of ...     8.0   \n",
              "2  \"I used to take another oral contraceptive, wh...     5.0   \n",
              "3  \"This is my first time using any form of birth...     8.0   \n",
              "4  \"Suboxone has completely turned my life around...     9.0   \n",
              "\n",
              "                date  usefulCount  \n",
              "0       May 20, 2012           27  \n",
              "1     April 27, 2010          192  \n",
              "2  December 14, 2009           17  \n",
              "3   November 3, 2015           10  \n",
              "4  November 27, 2016           37  "
            ]
          },
          "metadata": {
            "tags": []
          },
          "execution_count": 20
        }
      ]
    },
    {
      "metadata": {
        "id": "ybusjxc4qPRw",
        "colab_type": "code",
        "colab": {}
      },
      "cell_type": "code",
      "source": [
        "def confidence_interval(data, confidence=0.95):\n",
        "  data = np.array(data)\n",
        "  mean = np.mean(data)\n",
        "  n = len(data)\n",
        "  stderr = stats.sem(data)\n",
        "  interval = stderr * stats.t.ppf((1 + confidence) / 2., n-1)\n",
        "  return (mean, mean - interval, mean+ interval)\n",
        "  "
      ],
      "execution_count": 0,
      "outputs": []
    },
    {
      "metadata": {
        "id": "ahRbp3KYsmBM",
        "colab_type": "code",
        "colab": {}
      },
      "cell_type": "code",
      "source": [
        "def print_report(confidence_interval, data=df.usefulCount):\n",
        "  a = confidence_interval(data)\n",
        "  s = 'the mean is {:.2}, and the confidence interval lies within {:.2} and {:.2}'.format(a[0], a[1], a[2])\n",
        "  return s"
      ],
      "execution_count": 0,
      "outputs": []
    },
    {
      "metadata": {
        "id": "06uk6N73tOLU",
        "colab_type": "code",
        "colab": {
          "base_uri": "https://localhost:8080/",
          "height": 34
        },
        "outputId": "939fd1b3-d3bf-4898-a4b6-9babfde72c98"
      },
      "cell_type": "code",
      "source": [
        "#calculate the drug rating for the confidence interval 0.95\n",
        "print_report(confidence_interval, data=df.rating)"
      ],
      "execution_count": 23,
      "outputs": [
        {
          "output_type": "execute_result",
          "data": {
            "text/plain": [
              "'the mean is 7.0, and the confidence interval lies within 7.0 and 7.0'"
            ]
          },
          "metadata": {
            "tags": []
          },
          "execution_count": 23
        }
      ]
    },
    {
      "metadata": {
        "id": "ZvbS-z-L2x8l",
        "colab_type": "code",
        "colab": {}
      },
      "cell_type": "code",
      "source": [
        "import matplotlib.pyplot as plt"
      ],
      "execution_count": 0,
      "outputs": []
    },
    {
      "metadata": {
        "id": "cC2kYiY8skIT",
        "colab_type": "code",
        "colab": {}
      },
      "cell_type": "code",
      "source": [
        "def plot_report(confidence_interval, data=df.rating):\n",
        "  a = confidence_interval(data)\n",
        "  return(\n",
        "  plt.plot(a[0], 'mean'),\n",
        "  plt.plot(a[1], 'lower bound'),\n",
        "  plt.plot(a[2], 'higher bound'))\n"
      ],
      "execution_count": 0,
      "outputs": []
    },
    {
      "metadata": {
        "id": "maN4msSh3Xej",
        "colab_type": "code",
        "colab": {
          "base_uri": "https://localhost:8080/",
          "height": 347
        },
        "outputId": "6cda3791-4019-4a37-8d01-6211df79b6c4"
      },
      "cell_type": "code",
      "source": [
        "plot_report(confidence_interval, data=df.rating);"
      ],
      "execution_count": 34,
      "outputs": [
        {
          "output_type": "display_data",
          "data": {
            "image/png": "[encoded data removed]",
            "text/plain": [
              "<matplotlib.figure.Figure at 0x7f6d2ff7ccf8>"
            ]
          },
          "metadata": {
            "tags": []
          }
        }
      ]
    },
    {
      "metadata": {
        "id": "C_ghVOkW2dOT",
        "colab_type": "code",
        "colab": {
          "base_uri": "https://localhost:8080/",
          "height": 284
        },
        "outputId": "07cb7d16-6076-47b6-aa1b-3905b4163651"
      },
      "cell_type": "code",
      "source": [
        "df.describe()"
      ],
      "execution_count": 35,
      "outputs": [
        {
          "output_type": "execute_result",
          "data": {
            "text/html": [
              "<div>\n",
              "<style scoped>\n",
              "    .dataframe tbody tr th:only-of-type {\n",
              "        vertical-align: middle;\n",
              "    }\n",
              "\n",
              "    .dataframe tbody tr th {\n",
              "        vertical-align: top;\n",
              "    }\n",
              "\n",
              "    .dataframe thead th {\n",
              "        text-align: right;\n",
              "    }\n",
              "</style>\n",
              "<table border=\"1\" class=\"dataframe\">\n",
              "  <thead>\n",
              "    <tr style=\"text-align: right;\">\n",
              "      <th></th>\n",
              "      <th>Unnamed: 0</th>\n",
              "      <th>rating</th>\n",
              "      <th>usefulCount</th>\n",
              "    </tr>\n",
              "  </thead>\n",
              "  <tbody>\n",
              "    <tr>\n",
              "      <th>count</th>\n",
              "      <td>161297.000000</td>\n",
              "      <td>161297.000000</td>\n",
              "      <td>161297.000000</td>\n",
              "    </tr>\n",
              "    <tr>\n",
              "      <th>mean</th>\n",
              "      <td>115923.585305</td>\n",
              "      <td>6.994377</td>\n",
              "      <td>28.004755</td>\n",
              "    </tr>\n",
              "    <tr>\n",
              "      <th>std</th>\n",
              "      <td>67004.445170</td>\n",
              "      <td>3.272329</td>\n",
              "      <td>36.403742</td>\n",
              "    </tr>\n",
              "    <tr>\n",
              "      <th>min</th>\n",
              "      <td>2.000000</td>\n",
              "      <td>1.000000</td>\n",
              "      <td>0.000000</td>\n",
              "    </tr>\n",
              "    <tr>\n",
              "      <th>25%</th>\n",
              "      <td>58063.000000</td>\n",
              "      <td>5.000000</td>\n",
              "      <td>6.000000</td>\n",
              "    </tr>\n",
              "    <tr>\n",
              "      <th>50%</th>\n",
              "      <td>115744.000000</td>\n",
              "      <td>8.000000</td>\n",
              "      <td>16.000000</td>\n",
              "    </tr>\n",
              "    <tr>\n",
              "      <th>75%</th>\n",
              "      <td>173776.000000</td>\n",
              "      <td>10.000000</td>\n",
              "      <td>36.000000</td>\n",
              "    </tr>\n",
              "    <tr>\n",
              "      <th>max</th>\n",
              "      <td>232291.000000</td>\n",
              "      <td>10.000000</td>\n",
              "      <td>1291.000000</td>\n",
              "    </tr>\n",
              "  </tbody>\n",
              "</table>\n",
              "</div>"
            ],
            "text/plain": [
              "          Unnamed: 0         rating    usefulCount\n",
              "count  161297.000000  161297.000000  161297.000000\n",
              "mean   115923.585305       6.994377      28.004755\n",
              "std     67004.445170       3.272329      36.403742\n",
              "min         2.000000       1.000000       0.000000\n",
              "25%     58063.000000       5.000000       6.000000\n",
              "50%    115744.000000       8.000000      16.000000\n",
              "75%    173776.000000      10.000000      36.000000\n",
              "max    232291.000000      10.000000    1291.000000"
            ]
          },
          "metadata": {
            "tags": []
          },
          "execution_count": 35
        }
      ]
    },
    {
      "metadata": {
        "id": "2zzUQCgy2IdM",
        "colab_type": "code",
        "colab": {
          "base_uri": "https://localhost:8080/",
          "height": 195
        },
        "outputId": "297bdef5-9335-47c9-b0aa-068aec33a8a3"
      },
      "cell_type": "code",
      "source": [
        "df.head()"
      ],
      "execution_count": 36,
      "outputs": [
        {
          "output_type": "execute_result",
          "data": {
            "text/html": [
              "<div>\n",
              "<style scoped>\n",
              "    .dataframe tbody tr th:only-of-type {\n",
              "        vertical-align: middle;\n",
              "    }\n",
              "\n",
              "    .dataframe tbody tr th {\n",
              "        vertical-align: top;\n",
              "    }\n",
              "\n",
              "    .dataframe thead th {\n",
              "        text-align: right;\n",
              "    }\n",
              "</style>\n",
              "<table border=\"1\" class=\"dataframe\">\n",
              "  <thead>\n",
              "    <tr style=\"text-align: right;\">\n",
              "      <th></th>\n",
              "      <th>Unnamed: 0</th>\n",
              "      <th>drugName</th>\n",
              "      <th>condition</th>\n",
              "      <th>review</th>\n",
              "      <th>rating</th>\n",
              "      <th>date</th>\n",
              "      <th>usefulCount</th>\n",
              "    </tr>\n",
              "  </thead>\n",
              "  <tbody>\n",
              "    <tr>\n",
              "      <th>0</th>\n",
              "      <td>206461</td>\n",
              "      <td>Valsartan</td>\n",
              "      <td>Left Ventricular Dysfunction</td>\n",
              "      <td>\"It has no side effect, I take it in combinati...</td>\n",
              "      <td>9.0</td>\n",
              "      <td>May 20, 2012</td>\n",
              "      <td>27</td>\n",
              "    </tr>\n",
              "    <tr>\n",
              "      <th>1</th>\n",
              "      <td>95260</td>\n",
              "      <td>Guanfacine</td>\n",
              "      <td>ADHD</td>\n",
              "      <td>\"My son is halfway through his fourth week of ...</td>\n",
              "      <td>8.0</td>\n",
              "      <td>April 27, 2010</td>\n",
              "      <td>192</td>\n",
              "    </tr>\n",
              "    <tr>\n",
              "      <th>2</th>\n",
              "      <td>92703</td>\n",
              "      <td>Lybrel</td>\n",
              "      <td>Birth Control</td>\n",
              "      <td>\"I used to take another oral contraceptive, wh...</td>\n",
              "      <td>5.0</td>\n",
              "      <td>December 14, 2009</td>\n",
              "      <td>17</td>\n",
              "    </tr>\n",
              "    <tr>\n",
              "      <th>3</th>\n",
              "      <td>138000</td>\n",
              "      <td>Ortho Evra</td>\n",
              "      <td>Birth Control</td>\n",
              "      <td>\"This is my first time using any form of birth...</td>\n",
              "      <td>8.0</td>\n",
              "      <td>November 3, 2015</td>\n",
              "      <td>10</td>\n",
              "    </tr>\n",
              "    <tr>\n",
              "      <th>4</th>\n",
              "      <td>35696</td>\n",
              "      <td>Buprenorphine / naloxone</td>\n",
              "      <td>Opiate Dependence</td>\n",
              "      <td>\"Suboxone has completely turned my life around...</td>\n",
              "      <td>9.0</td>\n",
              "      <td>November 27, 2016</td>\n",
              "      <td>37</td>\n",
              "    </tr>\n",
              "  </tbody>\n",
              "</table>\n",
              "</div>"
            ],
            "text/plain": [
              "   Unnamed: 0                  drugName                     condition  \\\n",
              "0      206461                 Valsartan  Left Ventricular Dysfunction   \n",
              "1       95260                Guanfacine                          ADHD   \n",
              "2       92703                    Lybrel                 Birth Control   \n",
              "3      138000                Ortho Evra                 Birth Control   \n",
              "4       35696  Buprenorphine / naloxone             Opiate Dependence   \n",
              "\n",
              "                                              review  rating  \\\n",
              "0  \"It has no side effect, I take it in combinati...     9.0   \n",
              "1  \"My son is halfway through his fourth week of ...     8.0   \n",
              "2  \"I used to take another oral contraceptive, wh...     5.0   \n",
              "3  \"This is my first time using any form of birth...     8.0   \n",
              "4  \"Suboxone has completely turned my life around...     9.0   \n",
              "\n",
              "                date  usefulCount  \n",
              "0       May 20, 2012           27  \n",
              "1     April 27, 2010          192  \n",
              "2  December 14, 2009           17  \n",
              "3   November 3, 2015           10  \n",
              "4  November 27, 2016           37  "
            ]
          },
          "metadata": {
            "tags": []
          },
          "execution_count": 36
        }
      ]
    },
    {
      "metadata": {
        "id": "Z-b-levzmEWD",
        "colab_type": "code",
        "colab": {}
      },
      "cell_type": "code",
      "source": [
        "df.rename(columns={'Unnamed: 0\t':'quantity'}, inplace=True)"
      ],
      "execution_count": 0,
      "outputs": []
    },
    {
      "metadata": {
        "id": "JRXaaSTu4CGQ",
        "colab_type": "code",
        "colab": {
          "base_uri": "https://localhost:8080/",
          "height": 50
        },
        "outputId": "49d7cdad-02f5-490b-d8a6-fc0a5730e3ae"
      },
      "cell_type": "code",
      "source": [
        "drugs = df.drugName.unique()\n",
        "drugs\n"
      ],
      "execution_count": 38,
      "outputs": [
        {
          "output_type": "execute_result",
          "data": {
            "text/plain": [
              "array(['Valsartan', 'Guanfacine', 'Lybrel', ..., 'Mavik', 'Aldomet',\n",
              "       'Grifulvin V'], dtype=object)"
            ]
          },
          "metadata": {
            "tags": []
          },
          "execution_count": 38
        }
      ]
    },
    {
      "metadata": {
        "id": "oWwfZWUVpfeg",
        "colab_type": "code",
        "colab": {
          "base_uri": "https://localhost:8080/",
          "height": 34
        },
        "outputId": "7e0e2c59-491a-45d6-c347-e0468048a16d"
      },
      "cell_type": "code",
      "source": [
        "len(drugs)"
      ],
      "execution_count": 45,
      "outputs": [
        {
          "output_type": "execute_result",
          "data": {
            "text/plain": [
              "3436"
            ]
          },
          "metadata": {
            "tags": []
          },
          "execution_count": 45
        }
      ]
    },
    {
      "metadata": {
        "id": "YSOmid9kr_SK",
        "colab_type": "code",
        "colab": {}
      },
      "cell_type": "code",
      "source": [
        "df.drugName.value_counts()>1"
      ],
      "execution_count": 0,
      "outputs": []
    },
    {
      "metadata": {
        "id": "PYsuh1e9sh39",
        "colab_type": "code",
        "colab": {}
      },
      "cell_type": "code",
      "source": [
        "df_rw = df.groupby('drugName').filter(lambda x: len(x) > 800)\n"
      ],
      "execution_count": 0,
      "outputs": []
    },
    {
      "metadata": {
        "id": "POzBDOcPsqv4",
        "colab_type": "code",
        "colab": {
          "base_uri": "https://localhost:8080/",
          "height": 538
        },
        "outputId": "4c8ba344-e859-46eb-a5e8-940a10e4c2de"
      },
      "cell_type": "code",
      "source": [
        "\n",
        "df_rw.drugName.value_counts()"
      ],
      "execution_count": 67,
      "outputs": [
        {
          "output_type": "execute_result",
          "data": {
            "text/plain": [
              "Levonorgestrel                        3657\n",
              "Etonogestrel                          3336\n",
              "Ethinyl estradiol / norethindrone     2850\n",
              "Nexplanon                             2156\n",
              "Ethinyl estradiol / norgestimate      2117\n",
              "Ethinyl estradiol / levonorgestrel    1888\n",
              "Phentermine                           1543\n",
              "Sertraline                            1360\n",
              "Escitalopram                          1292\n",
              "Mirena                                1242\n",
              "Implanon                              1102\n",
              "Gabapentin                            1047\n",
              "Bupropion                             1022\n",
              "Venlafaxine                           1016\n",
              "Miconazole                            1000\n",
              "Citalopram                             995\n",
              "Medroxyprogesterone                    995\n",
              "Lexapro                                952\n",
              "Bupropion / naltrexone                 950\n",
              "Duloxetine                             934\n",
              "Metronidazole                          922\n",
              "Contrave                               920\n",
              "Drospirenone / ethinyl estradiol       890\n",
              "Depo-Provera                           882\n",
              "Cymbalta                               864\n",
              "Quetiapine                             831\n",
              "Clonazepam                             831\n",
              "Skyla                                  824\n",
              "Tramadol                               820\n",
              "Zoloft                                 805\n",
              "Name: drugName, dtype: int64"
            ]
          },
          "metadata": {
            "tags": []
          },
          "execution_count": 67
        }
      ]
    },
    {
      "metadata": {
        "id": "fBsjIiys0UFK",
        "colab_type": "code",
        "colab": {}
      },
      "cell_type": "code",
      "source": [
        "drugs = df_rw.drugName.unique()\n",
        "drugs"
      ],
      "execution_count": 0,
      "outputs": []
    },
    {
      "metadata": {
        "id": "si0W0sATtinV",
        "colab_type": "code",
        "colab": {}
      },
      "cell_type": "code",
      "source": [
        "ratings_ci = {}\n",
        "for drug in drugs:\n",
        "  df_drug = df_rw[df_rw.drugName == drug]\n",
        "  a = confidence_interval(df_drug.rating)\n",
        "  ratings_ci[drug] = [a[0], a[1], a[2]]"
      ],
      "execution_count": 0,
      "outputs": []
    },
    {
      "metadata": {
        "id": "ZWbx9sYN0vq5",
        "colab_type": "code",
        "colab": {
          "base_uri": "https://localhost:8080/",
          "height": 722
        },
        "outputId": "f44f9637-220b-46ee-97f4-f3d8618d0196"
      },
      "cell_type": "code",
      "source": [
        "ratings_ci"
      ],
      "execution_count": 71,
      "outputs": [
        {
          "output_type": "execute_result",
          "data": {
            "text/plain": [
              "{'Bupropion': [7.445205479452055, 7.264791649597124, 7.625619309306985],\n",
              " 'Bupropion / naltrexone': [6.862105263157895,\n",
              "  6.658535044902846,\n",
              "  7.065675481412944],\n",
              " 'Citalopram': [7.666331658291457, 7.4960950387947465, 7.836568277788168],\n",
              " 'Clonazepam': [8.58604091456077, 8.424191881378714, 8.747889947742827],\n",
              " 'Contrave': [6.804347826086956, 6.594280480448118, 7.014415171725794],\n",
              " 'Cymbalta': [6.572916666666667, 6.350543074704481, 6.795290258628853],\n",
              " 'Depo-Provera': [4.617913832199546, 4.38354631392121, 4.852281350477883],\n",
              " 'Drospirenone / ethinyl estradiol': [6.250561797752809,\n",
              "  6.0312766829059665,\n",
              "  6.469846912599651],\n",
              " 'Duloxetine': [6.638115631691649, 6.42702735834113, 6.8492039050421685],\n",
              " 'Escitalopram': [7.843653250773994, 7.696894269800726, 7.990412231747262],\n",
              " 'Ethinyl estradiol / levonorgestrel': [5.799258474576271,\n",
              "  5.651051793863935,\n",
              "  5.947465155288606],\n",
              " 'Ethinyl estradiol / norethindrone': [5.5919298245614035,\n",
              "  5.466812305092029,\n",
              "  5.717047344030778],\n",
              " 'Ethinyl estradiol / norgestimate': [5.856872933396316,\n",
              "  5.716750422512604,\n",
              "  5.996995444280028],\n",
              " 'Etonogestrel': [5.802458033573141, 5.689871099831397, 5.915044967314886],\n",
              " 'Gabapentin': [7.43839541547278, 7.256779347772438, 7.620011483173121],\n",
              " 'Implanon': [6.078039927404719, 5.884414010127752, 6.271665844681686],\n",
              " 'Levonorgestrel': [7.391030899644518, 7.289544875297311, 7.492516923991724],\n",
              " 'Lexapro': [7.8088235294117645, 7.634775460898173, 7.982871597925356],\n",
              " 'Medroxyprogesterone': [4.75678391959799,\n",
              "  4.534352346253896,\n",
              "  4.979215492942084],\n",
              " 'Metronidazole': [6.811279826464208, 6.623318150546205, 6.999241502382211],\n",
              " 'Miconazole': [3.033, 2.8490133332267646, 3.216986666773235],\n",
              " 'Mirena': [6.587761674718196, 6.402239420201247, 6.773283929235146],\n",
              " 'Nexplanon': [5.6730055658627085, 5.532388438116763, 5.813622693608654],\n",
              " 'Phentermine': [8.786130913804277, 8.687388930565657, 8.884872897042897],\n",
              " 'Quetiapine': [7.4296028880866425, 7.234457151134961, 7.624748625038324],\n",
              " 'Sertraline': [7.497794117647059, 7.345153264425866, 7.650434970868252],\n",
              " 'Skyla': [7.246359223300971, 7.049677028611292, 7.443041417990649],\n",
              " 'Tramadol': [7.085365853658536, 6.864955217842884, 7.305776489474188],\n",
              " 'Venlafaxine': [6.800196850393701, 6.600738733778014, 6.999654967009388],\n",
              " 'Zoloft': [7.632298136645963, 7.440532478469729, 7.824063794822196]}"
            ]
          },
          "metadata": {
            "tags": []
          },
          "execution_count": 71
        }
      ]
    }
  ]
}