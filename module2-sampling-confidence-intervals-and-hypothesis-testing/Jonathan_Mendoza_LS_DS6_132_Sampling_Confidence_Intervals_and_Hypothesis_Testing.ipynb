{
  "nbformat": 4,
  "nbformat_minor": 0,
  "metadata": {
    "colab": {
      "name": "Jonathan Mendoza LS_DS6_132_Sampling_Confidence_Intervals_and_Hypothesis_Testing.ipynb",
      "version": "0.3.2",
      "provenance": [],
      "collapsed_sections": [],
      "include_colab_link": true
    },
    "kernelspec": {
      "name": "python3",
      "display_name": "Python 3"
    }
  },
  "cells": [
    {
      "cell_type": "markdown",
      "metadata": {
        "id": "view-in-github",
        "colab_type": "text"
      },
      "source": [
        "<a href=\"https://colab.research.google.com/github/jonathanmendoza-tx/DS-Unit-1-Sprint-3-Statistical-Tests-and-Experiments/blob/master/module2-sampling-confidence-intervals-and-hypothesis-testing/Jonathan_Mendoza_LS_DS6_132_Sampling_Confidence_Intervals_and_Hypothesis_Testing.ipynb\" target=\"_parent\"><img src=\"https://colab.research.google.com/assets/colab-badge.svg\" alt=\"Open In Colab\"/></a>"
      ]
    },
    {
      "cell_type": "markdown",
      "metadata": {
        "id": "838Dmw1kM2LK",
        "colab_type": "text"
      },
      "source": [
        "# Lambda School Data Science Module 132\n",
        "## Sampling, Confidence Intervals, and Hypothesis Testing"
      ]
    },
    {
      "cell_type": "markdown",
      "metadata": {
        "id": "I97SWMZuXSnK",
        "colab_type": "text"
      },
      "source": [
        "# Lecture"
      ]
    },
    {
      "cell_type": "markdown",
      "metadata": {
        "id": "dbcPKIo5M6Ny",
        "colab_type": "text"
      },
      "source": [
        "## Prepare - examine other available hypothesis tests\n",
        "\n",
        "If you had to pick a single hypothesis test in your toolbox, t-test would probably be the best choice - but the good news is you don't have to pick just one! Here's some of the others to be aware of:"
      ]
    },
    {
      "cell_type": "code",
      "metadata": {
        "id": "tlBel8j9M6tB",
        "colab_type": "code",
        "outputId": "76b55d6e-8a9a-422d-c286-111e8c03f042",
        "colab": {
          "base_uri": "https://localhost:8080/",
          "height": 221
        }
      },
      "source": [
        "import numpy as np\n",
        "from scipy.stats import chisquare  # One-way chi square test\n",
        "\n",
        "# Chi square can take any crosstab/table and test the independence of rows/cols\n",
        "# The null hypothesis is that the rows/cols are independent -> low chi square\n",
        "# The alternative is that there is a dependence -> high chi square\n",
        "# Be aware! Chi square does *not* tell you direction/causation\n",
        "\n",
        "ind_obs = np.array([[1, 1], [2, 2]]).T\n",
        "print(ind_obs)\n",
        "print(chisquare(ind_obs, axis=None))\n",
        "\n",
        "dep_obs = np.array([[16, 18, 16, 14, 12, 12], [32, 24, 16, 28, 20, 24]]).T\n",
        "print(dep_obs)\n",
        "print(chisquare(dep_obs, axis=None))"
      ],
      "execution_count": 0,
      "outputs": [
        {
          "output_type": "stream",
          "text": [
            "[[1 2]\n",
            " [1 2]]\n",
            "Power_divergenceResult(statistic=0.6666666666666666, pvalue=0.8810148425137847)\n",
            "[[16 32]\n",
            " [18 24]\n",
            " [16 16]\n",
            " [14 28]\n",
            " [12 20]\n",
            " [12 24]]\n",
            "Power_divergenceResult(statistic=23.31034482758621, pvalue=0.015975692534127565)\n"
          ],
          "name": "stdout"
        }
      ]
    },
    {
      "cell_type": "code",
      "metadata": {
        "id": "nN0BdNiDPxbk",
        "colab_type": "code",
        "outputId": "0ebf9d77-20df-4066-9de4-8a0c0cb9358b",
        "colab": {
          "base_uri": "https://localhost:8080/",
          "height": 55
        }
      },
      "source": [
        "# Distribution tests:\n",
        "# We often assume that something is normal, but it can be important to *check*\n",
        "\n",
        "# For example, later on with predictive modeling, a typical assumption is that\n",
        "# residuals (prediction errors) are normal - checking is a good diagnostic\n",
        "\n",
        "from scipy.stats import normaltest\n",
        "# Poisson models arrival times and is related to the binomial (coinflip)\n",
        "sample = np.random.poisson(5, 1000)\n",
        "print(normaltest(sample))  # Pretty clearly not normal"
      ],
      "execution_count": 0,
      "outputs": [
        {
          "output_type": "stream",
          "text": [
            "NormaltestResult(statistic=51.232012727061075, pvalue=7.500838035734877e-12)\n"
          ],
          "name": "stdout"
        }
      ]
    },
    {
      "cell_type": "code",
      "metadata": {
        "id": "P5t0WhkDReFO",
        "colab_type": "code",
        "outputId": "e0f1518a-dc76-4899-9e96-31e9f330d439",
        "colab": {
          "base_uri": "https://localhost:8080/",
          "height": 54
        }
      },
      "source": [
        "# Kruskal-Wallis H-test - compare the median rank between 2+ groups\n",
        "# Can be applied to ranking decisions/outcomes/recommendations\n",
        "# The underlying math comes from chi-square distribution, and is best for n>5\n",
        "from scipy.stats import kruskal\n",
        "\n",
        "x1 = [1, 3, 5, 7, 9]\n",
        "y1 = [2, 4, 6, 8, 10]\n",
        "print(kruskal(x1, y1))  # x1 is a little better, but not \"significantly\" so\n",
        "\n",
        "x2 = [1, 1, 1]\n",
        "y2 = [2, 2, 2]\n",
        "z = [2, 2]  # Hey, a third group, and of different size!\n",
        "print(kruskal(x2, y2, z))  # x clearly dominates"
      ],
      "execution_count": 0,
      "outputs": [
        {
          "output_type": "stream",
          "text": [
            "KruskalResult(statistic=0.2727272727272734, pvalue=0.6015081344405895)\n",
            "KruskalResult(statistic=7.0, pvalue=0.0301973834223185)\n"
          ],
          "name": "stdout"
        }
      ]
    },
    {
      "cell_type": "markdown",
      "metadata": {
        "id": "7pT3IP36Rh0b",
        "colab_type": "text"
      },
      "source": [
        "And there's many more! `scipy.stats` is fairly comprehensive, though there are even more available if you delve into the extended world of statistics packages. As tests get increasingly obscure and specialized, the importance of knowing them by heart becomes small - but being able to look them up and figure them out when they *are* relevant is still important."
      ]
    },
    {
      "cell_type": "markdown",
      "metadata": {
        "id": "3JqroCQYQqhy",
        "colab_type": "text"
      },
      "source": [
        "## T-test Assumptions"
      ]
    },
    {
      "cell_type": "code",
      "metadata": {
        "id": "sqy2hEFRZnvI",
        "colab_type": "code",
        "colab": {}
      },
      "source": [
        "from scipy.stats import ttest_ind\n",
        "\n",
        "?ttest_ind"
      ],
      "execution_count": 0,
      "outputs": []
    },
    {
      "cell_type": "markdown",
      "metadata": {
        "id": "xI-PcK5sZ1A9",
        "colab_type": "text"
      },
      "source": [
        "<https://statistics.laerd.com/statistical-guides/independent-t-test-statistical-guide.php>\n",
        "\n",
        "- Independence of means\n",
        "\n",
        "Are the means of our voting data independent (do not affect the outcome of one another)?\n",
        "  \n",
        "The best way to increase thel likelihood of our means being independent is to randomly sample (which we did not do).\n",
        "\n",
        "- \"Homogeneity\" of Variance? \n",
        "\n",
        "Is the magnitude of the variance between the two roughly the same?\n",
        "\n",
        "I think we're OK on this one for the voting data, although it probably could be better, one party was larger than the other.\n",
        "\n",
        "If we suspect this to be a problem then we can use Welch's T-test"
      ]
    },
    {
      "cell_type": "markdown",
      "metadata": {
        "id": "tjgoHHwGayoC",
        "colab_type": "text"
      },
      "source": [
        "- \"Dependent Variable\" (sample means) are Distributed Normally\n",
        "\n",
        "<https://stats.stackexchange.com/questions/9573/t-test-for-non-normal-when-n50>\n",
        "\n",
        "Lots of statistical tests depend on normal distributions. We can test for normality using Scipy as was shown above.\n",
        "\n",
        "This assumption is often assumed even if the assumption is a weak one. If you strongly suspect that things are not normally distributed, you can transform your data to get it looking more normal and then run your test. This problem typically goes away for large sample sizes (yay Central Limit Theorem) and is often why you don't hear it brought up. People declare the assumption to be satisfied either way. \n",
        "\n"
      ]
    },
    {
      "cell_type": "markdown",
      "metadata": {
        "id": "bvvPV-RJN2vA",
        "colab_type": "text"
      },
      "source": [
        "## Central Limit Theorem\n",
        "\n"
      ]
    },
    {
      "cell_type": "code",
      "metadata": {
        "id": "FBLoOF8qOJeJ",
        "colab_type": "code",
        "outputId": "f9785c72-8879-4554-e029-c1681297f59e",
        "colab": {
          "base_uri": "https://localhost:8080/",
          "height": 74
        }
      },
      "source": [
        "import numpy as np\n",
        "import matplotlib.pyplot as plt\n",
        "import pandas as pd\n",
        "\n",
        "n = 3000\n",
        "sample_means = []\n",
        "for x in range(0,n):\n",
        "  coinflips = np.random.binomial(n=1, p=.5, size=100)\n",
        "  one_sample = coinflips\n",
        "  sample_means.append(coinflips.mean())\n",
        "\n",
        "print(len(sample_means))\n",
        "print(sample_means)"
      ],
      "execution_count": 0,
      "outputs": [
        {
          "output_type": "stream",
          "text": [
            "3000\n",
            "[0.62, 0.51, 0.5, 0.47, 0.55, 0.48, 0.48, 0.52, 0.46, 0.55, 0.54, 0.49, 0.56, 0.54, 0.56, 0.41, 0.53, 0.51, 0.49, 0.61, 0.53, 0.57, 0.52, 0.53, 0.52, 0.62, 0.48, 0.48, 0.54, 0.44, 0.5, 0.46, 0.55, 0.53, 0.55, 0.46, 0.56, 0.52, 0.48, 0.5, 0.47, 0.39, 0.56, 0.52, 0.54, 0.42, 0.54, 0.54, 0.48, 0.51, 0.51, 0.43, 0.57, 0.42, 0.56, 0.45, 0.57, 0.5, 0.37, 0.5, 0.6, 0.51, 0.51, 0.43, 0.54, 0.46, 0.55, 0.49, 0.52, 0.46, 0.49, 0.48, 0.52, 0.53, 0.53, 0.4, 0.47, 0.51, 0.58, 0.5, 0.4, 0.51, 0.46, 0.49, 0.53, 0.48, 0.45, 0.49, 0.54, 0.53, 0.5, 0.53, 0.51, 0.56, 0.55, 0.53, 0.44, 0.59, 0.49, 0.35, 0.45, 0.46, 0.46, 0.58, 0.51, 0.57, 0.56, 0.47, 0.52, 0.5, 0.44, 0.55, 0.47, 0.49, 0.55, 0.45, 0.65, 0.54, 0.45, 0.54, 0.4, 0.43, 0.49, 0.51, 0.47, 0.53, 0.45, 0.65, 0.53, 0.55, 0.42, 0.6, 0.57, 0.43, 0.46, 0.46, 0.52, 0.5, 0.56, 0.61, 0.58, 0.47, 0.53, 0.51, 0.5, 0.47, 0.46, 0.41, 0.46, 0.58, 0.45, 0.45, 0.49, 0.5, 0.42, 0.61, 0.52, 0.42, 0.52, 0.51, 0.57, 0.46, 0.43, 0.49, 0.44, 0.41, 0.53, 0.46, 0.47, 0.49, 0.46, 0.57, 0.44, 0.48, 0.5, 0.46, 0.58, 0.44, 0.52, 0.45, 0.53, 0.58, 0.41, 0.39, 0.5, 0.45, 0.51, 0.59, 0.56, 0.49, 0.49, 0.46, 0.49, 0.52, 0.56, 0.53, 0.55, 0.52, 0.45, 0.55, 0.47, 0.5, 0.47, 0.44, 0.6, 0.55, 0.43, 0.46, 0.45, 0.59, 0.5, 0.52, 0.45, 0.39, 0.49, 0.5, 0.47, 0.55, 0.56, 0.49, 0.52, 0.56, 0.53, 0.4, 0.52, 0.52, 0.46, 0.5, 0.53, 0.51, 0.56, 0.47, 0.44, 0.47, 0.45, 0.54, 0.5, 0.56, 0.43, 0.5, 0.5, 0.47, 0.5, 0.52, 0.46, 0.52, 0.45, 0.48, 0.52, 0.39, 0.39, 0.47, 0.41, 0.5, 0.5, 0.46, 0.52, 0.56, 0.57, 0.53, 0.52, 0.44, 0.44, 0.58, 0.46, 0.49, 0.43, 0.51, 0.44, 0.48, 0.44, 0.51, 0.51, 0.48, 0.46, 0.48, 0.42, 0.44, 0.52, 0.53, 0.59, 0.59, 0.54, 0.49, 0.45, 0.56, 0.59, 0.46, 0.47, 0.59, 0.47, 0.44, 0.58, 0.54, 0.51, 0.6, 0.51, 0.58, 0.47, 0.42, 0.49, 0.45, 0.45, 0.55, 0.53, 0.54, 0.57, 0.51, 0.46, 0.51, 0.54, 0.54, 0.47, 0.47, 0.52, 0.63, 0.61, 0.56, 0.5, 0.6, 0.54, 0.61, 0.55, 0.55, 0.56, 0.48, 0.51, 0.54, 0.47, 0.62, 0.46, 0.56, 0.53, 0.45, 0.46, 0.46, 0.52, 0.5, 0.58, 0.57, 0.47, 0.57, 0.46, 0.58, 0.52, 0.45, 0.51, 0.42, 0.56, 0.58, 0.46, 0.52, 0.47, 0.45, 0.53, 0.6, 0.5, 0.5, 0.51, 0.51, 0.43, 0.58, 0.59, 0.49, 0.49, 0.39, 0.48, 0.51, 0.5, 0.5, 0.46, 0.56, 0.45, 0.52, 0.49, 0.46, 0.49, 0.52, 0.52, 0.43, 0.52, 0.47, 0.54, 0.47, 0.55, 0.51, 0.46, 0.58, 0.49, 0.47, 0.44, 0.5, 0.47, 0.58, 0.46, 0.55, 0.55, 0.5, 0.51, 0.54, 0.55, 0.5, 0.57, 0.5, 0.52, 0.46, 0.58, 0.55, 0.54, 0.51, 0.57, 0.47, 0.49, 0.43, 0.53, 0.49, 0.58, 0.49, 0.55, 0.53, 0.49, 0.52, 0.53, 0.51, 0.49, 0.53, 0.55, 0.45, 0.46, 0.51, 0.43, 0.43, 0.46, 0.42, 0.5, 0.48, 0.52, 0.44, 0.52, 0.56, 0.6, 0.5, 0.45, 0.48, 0.52, 0.51, 0.53, 0.46, 0.56, 0.55, 0.5, 0.54, 0.51, 0.54, 0.48, 0.48, 0.49, 0.57, 0.41, 0.53, 0.51, 0.47, 0.53, 0.46, 0.4, 0.52, 0.55, 0.54, 0.46, 0.45, 0.46, 0.56, 0.49, 0.5, 0.46, 0.44, 0.46, 0.48, 0.51, 0.47, 0.5, 0.52, 0.49, 0.54, 0.5, 0.44, 0.46, 0.45, 0.48, 0.56, 0.52, 0.49, 0.63, 0.5, 0.48, 0.54, 0.54, 0.56, 0.44, 0.52, 0.49, 0.56, 0.4, 0.51, 0.53, 0.51, 0.57, 0.48, 0.51, 0.48, 0.54, 0.53, 0.5, 0.48, 0.5, 0.49, 0.45, 0.49, 0.59, 0.5, 0.47, 0.56, 0.49, 0.56, 0.52, 0.56, 0.51, 0.52, 0.45, 0.46, 0.45, 0.51, 0.54, 0.54, 0.4, 0.54, 0.42, 0.5, 0.46, 0.49, 0.5, 0.48, 0.51, 0.44, 0.49, 0.53, 0.48, 0.51, 0.41, 0.51, 0.57, 0.51, 0.51, 0.5, 0.58, 0.55, 0.49, 0.45, 0.54, 0.54, 0.46, 0.56, 0.58, 0.49, 0.55, 0.48, 0.44, 0.5, 0.52, 0.41, 0.47, 0.54, 0.54, 0.48, 0.54, 0.55, 0.52, 0.56, 0.45, 0.48, 0.49, 0.51, 0.45, 0.51, 0.64, 0.46, 0.38, 0.46, 0.58, 0.43, 0.45, 0.46, 0.46, 0.45, 0.47, 0.52, 0.5, 0.59, 0.5, 0.47, 0.52, 0.51, 0.55, 0.45, 0.54, 0.48, 0.52, 0.63, 0.52, 0.56, 0.51, 0.41, 0.53, 0.49, 0.55, 0.52, 0.41, 0.44, 0.43, 0.55, 0.41, 0.54, 0.62, 0.63, 0.52, 0.52, 0.52, 0.45, 0.48, 0.45, 0.58, 0.46, 0.53, 0.44, 0.51, 0.53, 0.5, 0.44, 0.52, 0.49, 0.48, 0.47, 0.54, 0.48, 0.48, 0.45, 0.51, 0.52, 0.48, 0.44, 0.45, 0.46, 0.45, 0.46, 0.61, 0.44, 0.47, 0.5, 0.45, 0.42, 0.56, 0.51, 0.58, 0.52, 0.53, 0.46, 0.54, 0.5, 0.42, 0.59, 0.49, 0.5, 0.49, 0.51, 0.42, 0.48, 0.51, 0.54, 0.46, 0.5, 0.49, 0.49, 0.6, 0.57, 0.45, 0.53, 0.44, 0.5, 0.51, 0.55, 0.51, 0.46, 0.5, 0.56, 0.46, 0.54, 0.5, 0.5, 0.54, 0.49, 0.48, 0.5, 0.55, 0.5, 0.61, 0.56, 0.51, 0.53, 0.53, 0.55, 0.42, 0.49, 0.46, 0.52, 0.49, 0.46, 0.45, 0.54, 0.5, 0.55, 0.48, 0.5, 0.51, 0.58, 0.59, 0.46, 0.52, 0.59, 0.54, 0.49, 0.47, 0.56, 0.42, 0.55, 0.41, 0.46, 0.51, 0.5, 0.53, 0.43, 0.45, 0.48, 0.56, 0.54, 0.61, 0.51, 0.52, 0.46, 0.41, 0.46, 0.52, 0.5, 0.52, 0.49, 0.5, 0.47, 0.53, 0.58, 0.52, 0.49, 0.5, 0.55, 0.54, 0.46, 0.46, 0.43, 0.56, 0.49, 0.54, 0.56, 0.51, 0.5, 0.47, 0.53, 0.48, 0.56, 0.5, 0.59, 0.62, 0.59, 0.55, 0.48, 0.5, 0.46, 0.51, 0.55, 0.58, 0.56, 0.53, 0.54, 0.42, 0.43, 0.51, 0.49, 0.52, 0.51, 0.57, 0.45, 0.46, 0.48, 0.56, 0.51, 0.53, 0.51, 0.48, 0.46, 0.55, 0.4, 0.55, 0.43, 0.56, 0.37, 0.5, 0.44, 0.49, 0.56, 0.46, 0.53, 0.44, 0.51, 0.54, 0.48, 0.48, 0.54, 0.46, 0.5, 0.55, 0.49, 0.62, 0.45, 0.49, 0.48, 0.54, 0.45, 0.57, 0.51, 0.5, 0.59, 0.58, 0.49, 0.48, 0.62, 0.47, 0.46, 0.5, 0.49, 0.47, 0.62, 0.5, 0.41, 0.42, 0.5, 0.51, 0.52, 0.49, 0.46, 0.48, 0.55, 0.44, 0.47, 0.51, 0.49, 0.47, 0.44, 0.5, 0.58, 0.49, 0.5, 0.5, 0.55, 0.4, 0.5, 0.55, 0.45, 0.44, 0.49, 0.5, 0.52, 0.46, 0.59, 0.55, 0.4, 0.53, 0.53, 0.48, 0.54, 0.51, 0.51, 0.46, 0.47, 0.53, 0.52, 0.48, 0.53, 0.44, 0.49, 0.5, 0.53, 0.51, 0.45, 0.51, 0.48, 0.53, 0.57, 0.54, 0.47, 0.59, 0.52, 0.59, 0.48, 0.5, 0.44, 0.46, 0.49, 0.55, 0.51, 0.39, 0.54, 0.54, 0.43, 0.58, 0.48, 0.51, 0.5, 0.56, 0.47, 0.58, 0.49, 0.56, 0.46, 0.56, 0.46, 0.52, 0.53, 0.48, 0.51, 0.52, 0.64, 0.47, 0.46, 0.44, 0.54, 0.49, 0.5, 0.56, 0.51, 0.5, 0.57, 0.47, 0.48, 0.58, 0.5, 0.48, 0.44, 0.51, 0.55, 0.44, 0.58, 0.48, 0.55, 0.57, 0.47, 0.53, 0.56, 0.48, 0.43, 0.37, 0.41, 0.43, 0.5, 0.58, 0.43, 0.45, 0.55, 0.45, 0.52, 0.58, 0.54, 0.51, 0.5, 0.5, 0.58, 0.51, 0.54, 0.52, 0.5, 0.49, 0.45, 0.44, 0.52, 0.55, 0.49, 0.44, 0.42, 0.51, 0.53, 0.61, 0.44, 0.53, 0.47, 0.52, 0.44, 0.51, 0.53, 0.55, 0.49, 0.49, 0.47, 0.52, 0.52, 0.39, 0.45, 0.44, 0.54, 0.55, 0.49, 0.53, 0.52, 0.52, 0.56, 0.64, 0.47, 0.46, 0.39, 0.42, 0.51, 0.53, 0.46, 0.5, 0.45, 0.46, 0.5, 0.55, 0.43, 0.46, 0.52, 0.6, 0.55, 0.53, 0.47, 0.44, 0.56, 0.44, 0.56, 0.47, 0.44, 0.56, 0.48, 0.48, 0.5, 0.56, 0.48, 0.59, 0.56, 0.48, 0.36, 0.43, 0.44, 0.6, 0.54, 0.5, 0.58, 0.56, 0.52, 0.57, 0.53, 0.53, 0.56, 0.55, 0.55, 0.54, 0.48, 0.49, 0.51, 0.58, 0.47, 0.43, 0.47, 0.59, 0.44, 0.5, 0.49, 0.49, 0.47, 0.5, 0.52, 0.41, 0.48, 0.48, 0.5, 0.5, 0.54, 0.53, 0.57, 0.57, 0.59, 0.36, 0.53, 0.56, 0.56, 0.62, 0.45, 0.48, 0.59, 0.48, 0.5, 0.47, 0.51, 0.49, 0.44, 0.58, 0.53, 0.46, 0.55, 0.54, 0.5, 0.55, 0.56, 0.48, 0.61, 0.51, 0.53, 0.55, 0.51, 0.56, 0.47, 0.48, 0.55, 0.48, 0.47, 0.42, 0.47, 0.46, 0.46, 0.47, 0.46, 0.51, 0.6, 0.46, 0.58, 0.46, 0.49, 0.45, 0.45, 0.45, 0.5, 0.47, 0.49, 0.56, 0.51, 0.45, 0.51, 0.58, 0.51, 0.54, 0.49, 0.51, 0.55, 0.53, 0.58, 0.52, 0.57, 0.54, 0.55, 0.51, 0.49, 0.51, 0.41, 0.56, 0.43, 0.54, 0.43, 0.51, 0.53, 0.53, 0.52, 0.46, 0.53, 0.51, 0.48, 0.46, 0.52, 0.48, 0.51, 0.49, 0.59, 0.43, 0.57, 0.45, 0.56, 0.46, 0.57, 0.4, 0.53, 0.5, 0.55, 0.51, 0.45, 0.53, 0.48, 0.52, 0.5, 0.52, 0.46, 0.48, 0.42, 0.51, 0.51, 0.52, 0.47, 0.56, 0.56, 0.56, 0.5, 0.48, 0.43, 0.52, 0.52, 0.54, 0.5, 0.49, 0.49, 0.55, 0.51, 0.38, 0.4, 0.54, 0.56, 0.48, 0.44, 0.5, 0.47, 0.5, 0.46, 0.63, 0.52, 0.51, 0.46, 0.54, 0.44, 0.51, 0.6, 0.52, 0.5, 0.49, 0.45, 0.51, 0.43, 0.53, 0.37, 0.44, 0.45, 0.41, 0.5, 0.44, 0.5, 0.59, 0.52, 0.53, 0.52, 0.51, 0.58, 0.5, 0.5, 0.55, 0.57, 0.47, 0.56, 0.48, 0.5, 0.53, 0.52, 0.49, 0.5, 0.48, 0.5, 0.52, 0.5, 0.52, 0.41, 0.54, 0.46, 0.5, 0.48, 0.52, 0.54, 0.53, 0.54, 0.46, 0.52, 0.45, 0.37, 0.43, 0.44, 0.53, 0.58, 0.48, 0.48, 0.62, 0.56, 0.54, 0.47, 0.5, 0.41, 0.54, 0.55, 0.49, 0.49, 0.51, 0.51, 0.53, 0.39, 0.5, 0.49, 0.47, 0.51, 0.59, 0.56, 0.47, 0.5, 0.55, 0.5, 0.49, 0.54, 0.51, 0.58, 0.48, 0.53, 0.49, 0.45, 0.6, 0.49, 0.45, 0.54, 0.48, 0.54, 0.5, 0.53, 0.53, 0.45, 0.47, 0.53, 0.41, 0.43, 0.44, 0.46, 0.46, 0.56, 0.55, 0.47, 0.47, 0.56, 0.47, 0.47, 0.46, 0.51, 0.43, 0.54, 0.41, 0.56, 0.43, 0.48, 0.53, 0.45, 0.6, 0.49, 0.51, 0.6, 0.53, 0.43, 0.4, 0.57, 0.48, 0.52, 0.55, 0.49, 0.54, 0.53, 0.43, 0.45, 0.53, 0.46, 0.49, 0.47, 0.51, 0.46, 0.49, 0.62, 0.42, 0.49, 0.5, 0.49, 0.5, 0.53, 0.43, 0.54, 0.47, 0.51, 0.56, 0.52, 0.39, 0.56, 0.5, 0.45, 0.52, 0.52, 0.46, 0.48, 0.44, 0.44, 0.52, 0.46, 0.55, 0.52, 0.48, 0.51, 0.55, 0.56, 0.48, 0.44, 0.5, 0.57, 0.48, 0.48, 0.54, 0.5, 0.48, 0.45, 0.39, 0.51, 0.51, 0.5, 0.51, 0.48, 0.45, 0.51, 0.53, 0.43, 0.5, 0.63, 0.48, 0.48, 0.52, 0.46, 0.51, 0.59, 0.51, 0.43, 0.55, 0.47, 0.59, 0.45, 0.51, 0.48, 0.49, 0.39, 0.49, 0.42, 0.53, 0.55, 0.48, 0.49, 0.57, 0.45, 0.48, 0.46, 0.51, 0.45, 0.48, 0.55, 0.45, 0.49, 0.49, 0.52, 0.5, 0.51, 0.39, 0.53, 0.48, 0.56, 0.53, 0.45, 0.62, 0.58, 0.51, 0.41, 0.57, 0.52, 0.46, 0.47, 0.47, 0.45, 0.49, 0.48, 0.41, 0.55, 0.51, 0.44, 0.54, 0.49, 0.52, 0.42, 0.46, 0.45, 0.5, 0.58, 0.45, 0.51, 0.41, 0.5, 0.49, 0.47, 0.57, 0.5, 0.44, 0.44, 0.52, 0.44, 0.54, 0.5, 0.57, 0.5, 0.49, 0.55, 0.44, 0.51, 0.46, 0.48, 0.52, 0.45, 0.42, 0.51, 0.49, 0.58, 0.5, 0.54, 0.55, 0.58, 0.58, 0.57, 0.56, 0.49, 0.48, 0.53, 0.59, 0.5, 0.46, 0.45, 0.58, 0.53, 0.49, 0.54, 0.48, 0.45, 0.49, 0.56, 0.34, 0.53, 0.54, 0.5, 0.57, 0.56, 0.45, 0.41, 0.51, 0.51, 0.54, 0.6, 0.52, 0.57, 0.48, 0.55, 0.5, 0.55, 0.49, 0.58, 0.56, 0.46, 0.5, 0.46, 0.54, 0.56, 0.47, 0.58, 0.4, 0.49, 0.59, 0.5, 0.45, 0.49, 0.46, 0.51, 0.53, 0.45, 0.47, 0.51, 0.46, 0.44, 0.48, 0.51, 0.57, 0.52, 0.47, 0.43, 0.57, 0.53, 0.56, 0.49, 0.48, 0.47, 0.53, 0.45, 0.47, 0.45, 0.44, 0.43, 0.49, 0.54, 0.52, 0.48, 0.55, 0.51, 0.45, 0.5, 0.47, 0.47, 0.46, 0.55, 0.56, 0.51, 0.51, 0.48, 0.4, 0.42, 0.56, 0.55, 0.39, 0.51, 0.46, 0.46, 0.52, 0.51, 0.46, 0.53, 0.51, 0.62, 0.43, 0.5, 0.49, 0.49, 0.44, 0.51, 0.56, 0.46, 0.53, 0.49, 0.48, 0.52, 0.51, 0.41, 0.47, 0.51, 0.45, 0.6, 0.58, 0.53, 0.55, 0.6, 0.6, 0.52, 0.47, 0.52, 0.52, 0.48, 0.48, 0.51, 0.48, 0.49, 0.42, 0.51, 0.52, 0.47, 0.47, 0.57, 0.51, 0.42, 0.5, 0.48, 0.48, 0.48, 0.52, 0.54, 0.47, 0.43, 0.54, 0.46, 0.53, 0.54, 0.47, 0.5, 0.49, 0.46, 0.42, 0.46, 0.51, 0.44, 0.52, 0.56, 0.51, 0.5, 0.52, 0.54, 0.52, 0.47, 0.47, 0.53, 0.56, 0.5, 0.47, 0.51, 0.46, 0.42, 0.57, 0.42, 0.48, 0.56, 0.47, 0.54, 0.53, 0.58, 0.49, 0.57, 0.55, 0.48, 0.51, 0.54, 0.52, 0.48, 0.48, 0.56, 0.5, 0.49, 0.5, 0.49, 0.54, 0.56, 0.48, 0.49, 0.48, 0.49, 0.48, 0.51, 0.48, 0.54, 0.49, 0.47, 0.52, 0.45, 0.55, 0.5, 0.51, 0.47, 0.54, 0.49, 0.43, 0.47, 0.51, 0.42, 0.58, 0.44, 0.46, 0.48, 0.38, 0.48, 0.52, 0.64, 0.45, 0.54, 0.49, 0.45, 0.48, 0.55, 0.52, 0.49, 0.55, 0.56, 0.48, 0.52, 0.51, 0.45, 0.58, 0.54, 0.48, 0.42, 0.5, 0.57, 0.54, 0.52, 0.57, 0.52, 0.51, 0.5, 0.53, 0.56, 0.43, 0.51, 0.5, 0.5, 0.57, 0.48, 0.5, 0.46, 0.48, 0.47, 0.52, 0.49, 0.49, 0.57, 0.49, 0.49, 0.48, 0.49, 0.41, 0.57, 0.53, 0.51, 0.47, 0.55, 0.41, 0.46, 0.48, 0.47, 0.47, 0.46, 0.51, 0.45, 0.51, 0.54, 0.42, 0.43, 0.51, 0.65, 0.49, 0.47, 0.43, 0.47, 0.42, 0.5, 0.61, 0.55, 0.53, 0.5, 0.54, 0.5, 0.49, 0.43, 0.52, 0.51, 0.53, 0.47, 0.53, 0.48, 0.49, 0.48, 0.53, 0.57, 0.46, 0.49, 0.47, 0.53, 0.41, 0.5, 0.43, 0.47, 0.55, 0.45, 0.5, 0.48, 0.48, 0.58, 0.5, 0.53, 0.47, 0.51, 0.52, 0.52, 0.47, 0.45, 0.42, 0.47, 0.4, 0.48, 0.55, 0.46, 0.5, 0.5, 0.46, 0.59, 0.52, 0.52, 0.47, 0.54, 0.49, 0.39, 0.48, 0.54, 0.51, 0.53, 0.47, 0.56, 0.52, 0.45, 0.5, 0.41, 0.58, 0.52, 0.56, 0.49, 0.39, 0.47, 0.5, 0.47, 0.5, 0.48, 0.5, 0.54, 0.53, 0.45, 0.53, 0.41, 0.51, 0.52, 0.5, 0.51, 0.49, 0.56, 0.42, 0.59, 0.42, 0.52, 0.51, 0.51, 0.43, 0.5, 0.51, 0.4, 0.45, 0.48, 0.44, 0.47, 0.5, 0.5, 0.61, 0.48, 0.51, 0.54, 0.48, 0.46, 0.43, 0.5, 0.53, 0.51, 0.52, 0.38, 0.54, 0.41, 0.56, 0.55, 0.64, 0.46, 0.41, 0.48, 0.48, 0.51, 0.48, 0.51, 0.42, 0.52, 0.47, 0.48, 0.46, 0.57, 0.57, 0.55, 0.52, 0.47, 0.56, 0.49, 0.42, 0.53, 0.48, 0.46, 0.52, 0.51, 0.53, 0.4, 0.5, 0.42, 0.53, 0.39, 0.36, 0.55, 0.53, 0.57, 0.6, 0.54, 0.52, 0.56, 0.48, 0.48, 0.56, 0.5, 0.49, 0.52, 0.52, 0.41, 0.56, 0.53, 0.46, 0.44, 0.61, 0.41, 0.51, 0.52, 0.48, 0.53, 0.56, 0.41, 0.53, 0.4, 0.42, 0.54, 0.44, 0.47, 0.43, 0.46, 0.57, 0.54, 0.55, 0.48, 0.55, 0.58, 0.43, 0.55, 0.5, 0.55, 0.51, 0.43, 0.54, 0.46, 0.52, 0.51, 0.39, 0.5, 0.43, 0.53, 0.46, 0.58, 0.53, 0.49, 0.61, 0.47, 0.51, 0.51, 0.48, 0.51, 0.54, 0.5, 0.53, 0.54, 0.46, 0.46, 0.5, 0.47, 0.38, 0.45, 0.52, 0.52, 0.37, 0.53, 0.49, 0.59, 0.45, 0.51, 0.44, 0.47, 0.51, 0.48, 0.56, 0.44, 0.46, 0.5, 0.45, 0.57, 0.47, 0.53, 0.51, 0.52, 0.49, 0.5, 0.54, 0.51, 0.5, 0.53, 0.47, 0.51, 0.5, 0.44, 0.6, 0.54, 0.51, 0.45, 0.47, 0.42, 0.5, 0.52, 0.45, 0.57, 0.46, 0.59, 0.6, 0.5, 0.49, 0.45, 0.45, 0.49, 0.51, 0.44, 0.49, 0.51, 0.48, 0.57, 0.51, 0.54, 0.5, 0.52, 0.44, 0.49, 0.5, 0.57, 0.54, 0.44, 0.4, 0.44, 0.45, 0.59, 0.48, 0.49, 0.63, 0.5, 0.43, 0.44, 0.53, 0.48, 0.51, 0.57, 0.44, 0.52, 0.57, 0.53, 0.45, 0.49, 0.5, 0.51, 0.58, 0.53, 0.46, 0.48, 0.5, 0.47, 0.49, 0.56, 0.54, 0.51, 0.51, 0.54, 0.49, 0.54, 0.48, 0.55, 0.52, 0.47, 0.52, 0.51, 0.5, 0.4, 0.42, 0.43, 0.46, 0.52, 0.49, 0.5, 0.53, 0.48, 0.54, 0.52, 0.41, 0.47, 0.51, 0.43, 0.52, 0.52, 0.54, 0.51, 0.5, 0.56, 0.56, 0.46, 0.46, 0.46, 0.44, 0.52, 0.49, 0.43, 0.58, 0.4, 0.46, 0.54, 0.54, 0.47, 0.44, 0.42, 0.54, 0.51, 0.47, 0.5, 0.47, 0.51, 0.48, 0.54, 0.54, 0.38, 0.42, 0.54, 0.6, 0.46, 0.5, 0.55, 0.47, 0.39, 0.43, 0.52, 0.56, 0.53, 0.54, 0.53, 0.56, 0.62, 0.53, 0.57, 0.49, 0.52, 0.59, 0.52, 0.47, 0.5, 0.5, 0.5, 0.5, 0.58, 0.46, 0.53, 0.47, 0.57, 0.5, 0.54, 0.44, 0.47, 0.54, 0.56, 0.47, 0.47, 0.53, 0.56, 0.47, 0.41, 0.5, 0.57, 0.49, 0.52, 0.51, 0.49, 0.54, 0.43, 0.5, 0.44, 0.49, 0.47, 0.49, 0.45, 0.57, 0.5, 0.53, 0.46, 0.48, 0.46, 0.55, 0.58, 0.56, 0.57, 0.48, 0.55, 0.54, 0.44, 0.48, 0.45, 0.48, 0.56, 0.47, 0.56, 0.58, 0.56, 0.44, 0.49, 0.57, 0.52, 0.44, 0.54, 0.5, 0.43, 0.44, 0.58, 0.5, 0.48, 0.44, 0.49, 0.51, 0.56, 0.51, 0.48, 0.55, 0.51, 0.62, 0.45, 0.47, 0.54, 0.57, 0.49, 0.5, 0.53, 0.51, 0.43, 0.48, 0.52, 0.46, 0.46, 0.5, 0.59, 0.44, 0.49, 0.5, 0.57, 0.51, 0.62, 0.48, 0.47, 0.52, 0.57, 0.47, 0.52, 0.47, 0.53, 0.42, 0.41, 0.5, 0.46, 0.49, 0.4, 0.46, 0.48, 0.58, 0.52, 0.59, 0.55, 0.56, 0.53, 0.51, 0.46, 0.47, 0.53, 0.51, 0.52, 0.52, 0.63, 0.47, 0.56, 0.46, 0.52, 0.55, 0.5, 0.45, 0.53, 0.42, 0.49, 0.48, 0.48, 0.44, 0.53, 0.44, 0.55, 0.51, 0.54, 0.54, 0.51, 0.54, 0.54, 0.47, 0.51, 0.45, 0.41, 0.5, 0.47, 0.46, 0.5, 0.53, 0.48, 0.48, 0.44, 0.4, 0.46, 0.49, 0.46, 0.5, 0.53, 0.54, 0.43, 0.49, 0.58, 0.47, 0.53, 0.55, 0.47, 0.51, 0.53, 0.62, 0.53, 0.49, 0.43, 0.45, 0.48, 0.54, 0.47, 0.5, 0.54, 0.55, 0.46, 0.6, 0.52, 0.59, 0.5, 0.62, 0.43, 0.52, 0.55, 0.58, 0.52, 0.42, 0.5, 0.58, 0.42, 0.55, 0.5, 0.54, 0.51, 0.58, 0.43, 0.54, 0.46, 0.56, 0.56, 0.47, 0.48, 0.47, 0.55, 0.48, 0.43, 0.52, 0.52, 0.58, 0.44, 0.54, 0.49, 0.4, 0.47, 0.42, 0.52, 0.44, 0.6, 0.5, 0.45, 0.58, 0.51, 0.51, 0.57, 0.51, 0.54, 0.48, 0.62, 0.57, 0.43, 0.52, 0.53, 0.48, 0.49, 0.45, 0.45, 0.6, 0.44, 0.47, 0.53, 0.54, 0.5, 0.42, 0.55, 0.49, 0.52, 0.48, 0.44, 0.43, 0.48, 0.56, 0.52, 0.5, 0.54, 0.4, 0.56, 0.49, 0.49, 0.46, 0.5, 0.5, 0.56, 0.54, 0.46, 0.56, 0.47, 0.49, 0.42, 0.53, 0.5, 0.54, 0.5, 0.48, 0.57, 0.56, 0.51, 0.53, 0.5, 0.57, 0.41, 0.5, 0.58, 0.51, 0.53, 0.5, 0.51, 0.55, 0.52, 0.54, 0.47, 0.57, 0.48, 0.47, 0.52, 0.47, 0.51, 0.47, 0.52, 0.4, 0.54, 0.52, 0.54, 0.59, 0.49, 0.55, 0.5, 0.52, 0.54, 0.51, 0.52, 0.46, 0.4, 0.53, 0.47, 0.55, 0.53, 0.48, 0.51, 0.54, 0.43, 0.55, 0.46, 0.49, 0.43, 0.53, 0.51, 0.45, 0.61, 0.44, 0.45, 0.54, 0.5, 0.45, 0.56, 0.44, 0.58, 0.51, 0.44, 0.48, 0.59, 0.49, 0.61, 0.54, 0.47, 0.52, 0.46, 0.55, 0.49, 0.36, 0.51, 0.5, 0.47, 0.56, 0.47, 0.55, 0.51, 0.49, 0.5, 0.4, 0.41, 0.46, 0.44, 0.44, 0.49, 0.47, 0.48, 0.44, 0.36, 0.49, 0.5, 0.45, 0.46, 0.56, 0.44, 0.54, 0.47, 0.51, 0.59, 0.58, 0.49, 0.54, 0.62, 0.5, 0.49, 0.47, 0.44, 0.56, 0.58, 0.52, 0.41, 0.56, 0.55, 0.44, 0.53, 0.46, 0.54, 0.49, 0.45, 0.49, 0.45, 0.47, 0.49, 0.5, 0.49, 0.49, 0.48, 0.57, 0.55, 0.53, 0.47, 0.48, 0.55, 0.49, 0.51, 0.55, 0.52, 0.46, 0.59, 0.48, 0.42, 0.53, 0.5, 0.47, 0.48, 0.59, 0.56, 0.59, 0.5, 0.48, 0.45, 0.53, 0.45, 0.47, 0.58, 0.43, 0.48, 0.59, 0.54, 0.45, 0.53, 0.45, 0.51, 0.51, 0.5, 0.6, 0.54, 0.45, 0.44, 0.5, 0.47, 0.6, 0.55, 0.59, 0.51, 0.52, 0.54, 0.49, 0.51, 0.51, 0.48, 0.56, 0.54, 0.43, 0.49, 0.51, 0.54, 0.61, 0.48, 0.64, 0.46, 0.55, 0.56, 0.5, 0.52, 0.58, 0.45, 0.49, 0.53, 0.51, 0.46, 0.46, 0.49, 0.47, 0.52, 0.43, 0.47, 0.45, 0.49, 0.48, 0.5, 0.56, 0.44, 0.46, 0.46, 0.58, 0.52, 0.53, 0.54, 0.54, 0.52, 0.55, 0.46, 0.51, 0.52, 0.53, 0.59, 0.5, 0.52, 0.49, 0.58, 0.5, 0.53, 0.43, 0.5, 0.47, 0.51, 0.48, 0.5, 0.52, 0.56, 0.5, 0.49, 0.54, 0.49, 0.53, 0.48, 0.46, 0.49, 0.49, 0.52, 0.5, 0.48, 0.44, 0.56, 0.51, 0.44, 0.5, 0.51, 0.52, 0.49, 0.43, 0.46, 0.52, 0.56, 0.4, 0.56, 0.47, 0.51, 0.61, 0.54, 0.36, 0.42, 0.48, 0.49, 0.52, 0.52, 0.5, 0.54, 0.53, 0.5, 0.51, 0.53, 0.51, 0.56, 0.4, 0.52, 0.43, 0.41, 0.53, 0.44, 0.53, 0.55, 0.6, 0.4, 0.54, 0.5, 0.45, 0.46, 0.44, 0.52, 0.58, 0.45, 0.57, 0.54, 0.57, 0.45, 0.47, 0.48, 0.44, 0.41, 0.49, 0.41, 0.42, 0.46, 0.5, 0.58, 0.51, 0.5, 0.43, 0.45, 0.46, 0.58, 0.55, 0.49, 0.54, 0.46, 0.45, 0.52, 0.46, 0.47, 0.49, 0.42, 0.5, 0.56, 0.56, 0.55, 0.52, 0.5, 0.45, 0.57, 0.45, 0.5, 0.47, 0.49, 0.53, 0.48, 0.52, 0.58, 0.46, 0.53, 0.44, 0.51, 0.44, 0.52, 0.4, 0.53, 0.47, 0.52, 0.6, 0.54, 0.59, 0.53, 0.45, 0.46, 0.47, 0.5, 0.5, 0.43, 0.5, 0.5, 0.49, 0.46, 0.49, 0.52, 0.53, 0.53, 0.5, 0.54, 0.5, 0.48, 0.49, 0.54, 0.56, 0.45, 0.52, 0.61, 0.5, 0.47, 0.58, 0.44, 0.5, 0.46, 0.45, 0.48, 0.51, 0.49, 0.48, 0.59, 0.52, 0.51, 0.54, 0.54, 0.54, 0.51, 0.49, 0.51, 0.5, 0.43, 0.57, 0.5, 0.5, 0.46, 0.57, 0.46, 0.47, 0.51, 0.6, 0.45, 0.5, 0.46, 0.61, 0.5, 0.55, 0.43, 0.49, 0.58, 0.5, 0.56, 0.49, 0.56, 0.52, 0.5, 0.51, 0.52, 0.54, 0.49, 0.49, 0.52, 0.45, 0.58, 0.47, 0.61, 0.47, 0.5, 0.57, 0.55, 0.58, 0.43, 0.44, 0.53]\n"
          ],
          "name": "stdout"
        }
      ]
    },
    {
      "cell_type": "code",
      "metadata": {
        "id": "rfeA06evOT2K",
        "colab_type": "code",
        "outputId": "e5b13099-cdf6-4930-f261-b9a9f087f0b1",
        "colab": {
          "base_uri": "https://localhost:8080/",
          "height": 206
        }
      },
      "source": [
        "# Create dataframe with single coin flip\n",
        "df = pd.DataFrame({'one_samp':one_sample})\n",
        "df.head()"
      ],
      "execution_count": 0,
      "outputs": [
        {
          "output_type": "execute_result",
          "data": {
            "text/html": [
              "<div>\n",
              "<style scoped>\n",
              "    .dataframe tbody tr th:only-of-type {\n",
              "        vertical-align: middle;\n",
              "    }\n",
              "\n",
              "    .dataframe tbody tr th {\n",
              "        vertical-align: top;\n",
              "    }\n",
              "\n",
              "    .dataframe thead th {\n",
              "        text-align: right;\n",
              "    }\n",
              "</style>\n",
              "<table border=\"1\" class=\"dataframe\">\n",
              "  <thead>\n",
              "    <tr style=\"text-align: right;\">\n",
              "      <th></th>\n",
              "      <th>one_samp</th>\n",
              "    </tr>\n",
              "  </thead>\n",
              "  <tbody>\n",
              "    <tr>\n",
              "      <th>0</th>\n",
              "      <td>1</td>\n",
              "    </tr>\n",
              "    <tr>\n",
              "      <th>1</th>\n",
              "      <td>0</td>\n",
              "    </tr>\n",
              "    <tr>\n",
              "      <th>2</th>\n",
              "      <td>1</td>\n",
              "    </tr>\n",
              "    <tr>\n",
              "      <th>3</th>\n",
              "      <td>1</td>\n",
              "    </tr>\n",
              "    <tr>\n",
              "      <th>4</th>\n",
              "      <td>1</td>\n",
              "    </tr>\n",
              "  </tbody>\n",
              "</table>\n",
              "</div>"
            ],
            "text/plain": [
              "   one_samp\n",
              "0         1\n",
              "1         0\n",
              "2         1\n",
              "3         1\n",
              "4         1"
            ]
          },
          "metadata": {
            "tags": []
          },
          "execution_count": 14
        }
      ]
    },
    {
      "cell_type": "code",
      "metadata": {
        "id": "GlMSNFX6OmBV",
        "colab_type": "code",
        "outputId": "74e367c1-ec8a-47dd-8c60-01dbb7edd06d",
        "colab": {
          "base_uri": "https://localhost:8080/",
          "height": 338
        }
      },
      "source": [
        "# Plot histogram to look at distribution of a single coin flip \n",
        "df.hist()"
      ],
      "execution_count": 0,
      "outputs": [
        {
          "output_type": "execute_result",
          "data": {
            "text/plain": [
              "array([[<matplotlib.axes._subplots.AxesSubplot object at 0x7fb9a8bba128>]],\n",
              "      dtype=object)"
            ]
          },
          "metadata": {
            "tags": []
          },
          "execution_count": 15
        },
        {
          "output_type": "display_data",
          "data": {
            "image/png": "[encoded data removed]",
            "text/plain": [
              "<Figure size 432x288 with 1 Axes>"
            ]
          },
          "metadata": {
            "tags": []
          }
        }
      ]
    },
    {
      "cell_type": "code",
      "metadata": {
        "id": "Jie4ypgLOs5M",
        "colab_type": "code",
        "outputId": "2df1d98f-6c15-4d4e-a1bb-e63e6ca3b45e",
        "colab": {
          "base_uri": "https://localhost:8080/",
          "height": 334
        }
      },
      "source": [
        "# Plot histogram to look at distribution of all coin flips\n",
        "ax = plt.hist(sample_means, bins = 30)\n",
        "plt.title(f'Distribution of {n} sample means \\n (of 100 coinflips each)')"
      ],
      "execution_count": 0,
      "outputs": [
        {
          "output_type": "execute_result",
          "data": {
            "text/plain": [
              "Text(0.5, 1.0, 'Distribution of 3000 sample means \\n (of 100 coinflips each)')"
            ]
          },
          "metadata": {
            "tags": []
          },
          "execution_count": 17
        },
        {
          "output_type": "display_data",
          "data": {
            "image/png": "[encoded data removed]",
            "text/plain": [
              "<Figure size 432x288 with 1 Axes>"
            ]
          },
          "metadata": {
            "tags": []
          }
        }
      ]
    },
    {
      "cell_type": "markdown",
      "metadata": {
        "id": "LsEAjc4rOylm",
        "colab_type": "text"
      },
      "source": [
        "What does the Central Limit Theorem State? That no matter the initial distribution of the population, the distribution of sample means taken will approximate a normal distribution as $n \\rightarrow \\infty$.\n",
        "\n",
        "This has very important implications for hypothesis testing and is precisely the reason why the t-distribution begins to approximate the normal distribution as our sample size increases. "
      ]
    },
    {
      "cell_type": "markdown",
      "metadata": {
        "id": "EYqo5vZZSFUr",
        "colab_type": "text"
      },
      "source": [
        "## Standard Error of the Mean\n",
        "\n",
        "What does it mean to \"estimate\"? the Population mean?"
      ]
    },
    {
      "cell_type": "code",
      "metadata": {
        "id": "puGXH6vbSIE4",
        "colab_type": "code",
        "outputId": "501be11a-f5e5-41bb-8d26-d57c022bd83f",
        "colab": {
          "base_uri": "https://localhost:8080/",
          "height": 72
        }
      },
      "source": [
        "import numpy as np\n",
        "import pandas as pd\n",
        "\n",
        "# Average Height\n",
        "mu = 70\n",
        "sigma = 3\n",
        "\n",
        "lambda_heights = np.random.normal(mu, sigma, 2000)\n",
        "print(len(lambda_heights))\n",
        "lambda_heights"
      ],
      "execution_count": 0,
      "outputs": [
        {
          "output_type": "stream",
          "text": [
            "2000\n"
          ],
          "name": "stdout"
        },
        {
          "output_type": "execute_result",
          "data": {
            "text/plain": [
              "array([73.66325563, 69.379304  , 69.49098013, ..., 69.1792493 ,\n",
              "       69.5770137 , 72.26449348])"
            ]
          },
          "metadata": {
            "tags": []
          },
          "execution_count": 18
        }
      ]
    },
    {
      "cell_type": "code",
      "metadata": {
        "id": "2X-aKCTSXVOc",
        "colab_type": "code",
        "outputId": "e6694c3f-4a31-4fa4-cab9-689fbf0e26cd",
        "colab": {
          "base_uri": "https://localhost:8080/",
          "height": 281
        }
      },
      "source": [
        "import seaborn as sns\n",
        "\n",
        "sns.distplot(lambda_heights)\n",
        "plt.title('Distribution of Heights (in inches)');"
      ],
      "execution_count": 0,
      "outputs": [
        {
          "output_type": "display_data",
          "data": {
            "image/png": "[encoded data removed]",
            "text/plain": [
              "<Figure size 432x288 with 1 Axes>"
            ]
          },
          "metadata": {
            "tags": []
          }
        }
      ]
    },
    {
      "cell_type": "code",
      "metadata": {
        "id": "fQlloeU4qwuI",
        "colab_type": "code",
        "outputId": "c06c1a0e-a24b-4a3d-981e-1b9857f4684f",
        "colab": {
          "base_uri": "https://localhost:8080/",
          "height": 54
        }
      },
      "source": [
        "print(\"Population Mean:\", lambda_heights.mean())\n",
        "print(\"Population Standard Deviation:\", lambda_heights.std())"
      ],
      "execution_count": 0,
      "outputs": [
        {
          "output_type": "stream",
          "text": [
            "Population Mean: 69.98602697779678\n",
            "Population Standard Deviation: 2.874010733408123\n"
          ],
          "name": "stdout"
        }
      ]
    },
    {
      "cell_type": "code",
      "metadata": {
        "id": "sOD7gQMxq3ib",
        "colab_type": "code",
        "outputId": "a8a948b9-c446-45d3-afc4-a09d940a687a",
        "colab": {
          "base_uri": "https://localhost:8080/",
          "height": 225
        }
      },
      "source": [
        "population = pd.DataFrame({'heights': lambda_heights})\n",
        "print(population.shape)\n",
        "population.head()"
      ],
      "execution_count": 0,
      "outputs": [
        {
          "output_type": "stream",
          "text": [
            "(2000, 1)\n"
          ],
          "name": "stdout"
        },
        {
          "output_type": "execute_result",
          "data": {
            "text/html": [
              "<div>\n",
              "<style scoped>\n",
              "    .dataframe tbody tr th:only-of-type {\n",
              "        vertical-align: middle;\n",
              "    }\n",
              "\n",
              "    .dataframe tbody tr th {\n",
              "        vertical-align: top;\n",
              "    }\n",
              "\n",
              "    .dataframe thead th {\n",
              "        text-align: right;\n",
              "    }\n",
              "</style>\n",
              "<table border=\"1\" class=\"dataframe\">\n",
              "  <thead>\n",
              "    <tr style=\"text-align: right;\">\n",
              "      <th></th>\n",
              "      <th>heights</th>\n",
              "    </tr>\n",
              "  </thead>\n",
              "  <tbody>\n",
              "    <tr>\n",
              "      <th>0</th>\n",
              "      <td>73.663256</td>\n",
              "    </tr>\n",
              "    <tr>\n",
              "      <th>1</th>\n",
              "      <td>69.379304</td>\n",
              "    </tr>\n",
              "    <tr>\n",
              "      <th>2</th>\n",
              "      <td>69.490980</td>\n",
              "    </tr>\n",
              "    <tr>\n",
              "      <th>3</th>\n",
              "      <td>75.881974</td>\n",
              "    </tr>\n",
              "    <tr>\n",
              "      <th>4</th>\n",
              "      <td>70.853957</td>\n",
              "    </tr>\n",
              "  </tbody>\n",
              "</table>\n",
              "</div>"
            ],
            "text/plain": [
              "     heights\n",
              "0  73.663256\n",
              "1  69.379304\n",
              "2  69.490980\n",
              "3  75.881974\n",
              "4  70.853957"
            ]
          },
          "metadata": {
            "tags": []
          },
          "execution_count": 21
        }
      ]
    },
    {
      "cell_type": "code",
      "metadata": {
        "id": "A1DEQgCAq75F",
        "colab_type": "code",
        "outputId": "da4af019-1e1b-43e8-ada6-b71b84d7dcec",
        "colab": {
          "base_uri": "https://localhost:8080/",
          "height": 261
        }
      },
      "source": [
        "# Take a random sample and print sample mean\n",
        "sample1 = population.sample(100)\n",
        "print(sample1.shape)\n",
        "print(sample1.mean())\n",
        "sample1.head()"
      ],
      "execution_count": 0,
      "outputs": [
        {
          "output_type": "stream",
          "text": [
            "(100, 1)\n",
            "heights    70.188529\n",
            "dtype: float64\n"
          ],
          "name": "stdout"
        },
        {
          "output_type": "execute_result",
          "data": {
            "text/html": [
              "<div>\n",
              "<style scoped>\n",
              "    .dataframe tbody tr th:only-of-type {\n",
              "        vertical-align: middle;\n",
              "    }\n",
              "\n",
              "    .dataframe tbody tr th {\n",
              "        vertical-align: top;\n",
              "    }\n",
              "\n",
              "    .dataframe thead th {\n",
              "        text-align: right;\n",
              "    }\n",
              "</style>\n",
              "<table border=\"1\" class=\"dataframe\">\n",
              "  <thead>\n",
              "    <tr style=\"text-align: right;\">\n",
              "      <th></th>\n",
              "      <th>heights</th>\n",
              "    </tr>\n",
              "  </thead>\n",
              "  <tbody>\n",
              "    <tr>\n",
              "      <th>942</th>\n",
              "      <td>69.975527</td>\n",
              "    </tr>\n",
              "    <tr>\n",
              "      <th>802</th>\n",
              "      <td>71.264461</td>\n",
              "    </tr>\n",
              "    <tr>\n",
              "      <th>558</th>\n",
              "      <td>69.247328</td>\n",
              "    </tr>\n",
              "    <tr>\n",
              "      <th>1446</th>\n",
              "      <td>72.955760</td>\n",
              "    </tr>\n",
              "    <tr>\n",
              "      <th>1642</th>\n",
              "      <td>68.762733</td>\n",
              "    </tr>\n",
              "  </tbody>\n",
              "</table>\n",
              "</div>"
            ],
            "text/plain": [
              "        heights\n",
              "942   69.975527\n",
              "802   71.264461\n",
              "558   69.247328\n",
              "1446  72.955760\n",
              "1642  68.762733"
            ]
          },
          "metadata": {
            "tags": []
          },
          "execution_count": 24
        }
      ]
    },
    {
      "cell_type": "code",
      "metadata": {
        "id": "SpMBMasFrJQK",
        "colab_type": "code",
        "outputId": "d322a999-453e-435a-c35b-2b86877b2d33",
        "colab": {
          "base_uri": "https://localhost:8080/",
          "height": 261
        }
      },
      "source": [
        "# Take a different random sample and print sample mean\n",
        "sample2 = population.sample(100)\n",
        "print(sample2.shape)\n",
        "print(sample2.mean())\n",
        "sample2.head()"
      ],
      "execution_count": 0,
      "outputs": [
        {
          "output_type": "stream",
          "text": [
            "(100, 1)\n",
            "heights    70.353541\n",
            "dtype: float64\n"
          ],
          "name": "stdout"
        },
        {
          "output_type": "execute_result",
          "data": {
            "text/html": [
              "<div>\n",
              "<style scoped>\n",
              "    .dataframe tbody tr th:only-of-type {\n",
              "        vertical-align: middle;\n",
              "    }\n",
              "\n",
              "    .dataframe tbody tr th {\n",
              "        vertical-align: top;\n",
              "    }\n",
              "\n",
              "    .dataframe thead th {\n",
              "        text-align: right;\n",
              "    }\n",
              "</style>\n",
              "<table border=\"1\" class=\"dataframe\">\n",
              "  <thead>\n",
              "    <tr style=\"text-align: right;\">\n",
              "      <th></th>\n",
              "      <th>heights</th>\n",
              "    </tr>\n",
              "  </thead>\n",
              "  <tbody>\n",
              "    <tr>\n",
              "      <th>1613</th>\n",
              "      <td>71.422286</td>\n",
              "    </tr>\n",
              "    <tr>\n",
              "      <th>1050</th>\n",
              "      <td>71.881805</td>\n",
              "    </tr>\n",
              "    <tr>\n",
              "      <th>360</th>\n",
              "      <td>71.369934</td>\n",
              "    </tr>\n",
              "    <tr>\n",
              "      <th>1357</th>\n",
              "      <td>68.934449</td>\n",
              "    </tr>\n",
              "    <tr>\n",
              "      <th>83</th>\n",
              "      <td>73.092343</td>\n",
              "    </tr>\n",
              "  </tbody>\n",
              "</table>\n",
              "</div>"
            ],
            "text/plain": [
              "        heights\n",
              "1613  71.422286\n",
              "1050  71.881805\n",
              "360   71.369934\n",
              "1357  68.934449\n",
              "83    73.092343"
            ]
          },
          "metadata": {
            "tags": []
          },
          "execution_count": 25
        }
      ]
    },
    {
      "cell_type": "markdown",
      "metadata": {
        "id": "nfdQf8QYUUmw",
        "colab_type": "text"
      },
      "source": [
        "## Build and Interpret a Confidence Interval\n",
        "\n",
        "<img src=\"https://github.com/ryanallredblog/ryanallredblog.github.io/blob/master/img/Confidence_Interval.png?raw=true\" width=400>"
      ]
    },
    {
      "cell_type": "code",
      "metadata": {
        "id": "tBx71Kf0UjT3",
        "colab_type": "code",
        "outputId": "e13763da-dc85-4460-cee7-112e2ab3bc68",
        "colab": {
          "base_uri": "https://localhost:8080/",
          "height": 54
        }
      },
      "source": [
        "coinflips_100 = np.random.binomial(n =1,p = 0.5, size =100)\n",
        "sample_std = np.std(coinflips_100)\n",
        "print('sample st dev:', sample_std)\n",
        "sample_size = len(coinflips_100)\n",
        "print('sample_size:',sample_size)"
      ],
      "execution_count": 0,
      "outputs": [
        {
          "output_type": "stream",
          "text": [
            "sample st dev: 0.49909918853871116\n",
            "sample_size: 100\n"
          ],
          "name": "stdout"
        }
      ]
    },
    {
      "cell_type": "code",
      "metadata": {
        "id": "zbTey_byTO-O",
        "colab_type": "code",
        "outputId": "e23a0180-0a86-4d34-b037-d46358797ca8",
        "colab": {
          "base_uri": "https://localhost:8080/",
          "height": 35
        }
      },
      "source": [
        "std_err = sample_std/np.sqrt(sample_size)\n",
        "print(std_err)"
      ],
      "execution_count": 0,
      "outputs": [
        {
          "output_type": "stream",
          "text": [
            "0.04990991885387112\n"
          ],
          "name": "stdout"
        }
      ]
    },
    {
      "cell_type": "markdown",
      "metadata": {
        "id": "RkYC5rnUw914",
        "colab_type": "text"
      },
      "source": [
        "### What confidence level do we want our confidence interval to represent?\n",
        "\n",
        "95% confidence Interval? 99% confidence interval? "
      ]
    },
    {
      "cell_type": "code",
      "metadata": {
        "id": "jze1zJsewQx_",
        "colab_type": "code",
        "outputId": "7da984f4-89b7-43c7-9204-56e94ba4f0c2",
        "colab": {
          "base_uri": "https://localhost:8080/",
          "height": 441
        }
      },
      "source": [
        "import scipy.stats as stats\n",
        "help(stats.t.ppf)"
      ],
      "execution_count": 0,
      "outputs": [
        {
          "output_type": "stream",
          "text": [
            "Help on method ppf in module scipy.stats._distn_infrastructure:\n",
            "\n",
            "ppf(q, *args, **kwds) method of scipy.stats._continuous_distns.t_gen instance\n",
            "    Percent point function (inverse of `cdf`) at q of the given RV.\n",
            "    \n",
            "    Parameters\n",
            "    ----------\n",
            "    q : array_like\n",
            "        lower tail probability\n",
            "    arg1, arg2, arg3,... : array_like\n",
            "        The shape parameter(s) for the distribution (see docstring of the\n",
            "        instance object for more information)\n",
            "    loc : array_like, optional\n",
            "        location parameter (default=0)\n",
            "    scale : array_like, optional\n",
            "        scale parameter (default=1)\n",
            "    \n",
            "    Returns\n",
            "    -------\n",
            "    x : array_like\n",
            "        quantile corresponding to the lower tail probability q.\n",
            "\n"
          ],
          "name": "stdout"
        }
      ]
    },
    {
      "cell_type": "code",
      "metadata": {
        "id": "H-mLSn4GVh2W",
        "colab_type": "code",
        "outputId": "d60baf05-3d34-43f9-a2c6-241c23ff4995",
        "colab": {
          "base_uri": "https://localhost:8080/",
          "height": 35
        }
      },
      "source": [
        "t = stats.t.ppf(0.975, sample_size-1)\n",
        "t"
      ],
      "execution_count": 0,
      "outputs": [
        {
          "output_type": "execute_result",
          "data": {
            "text/plain": [
              "1.9842169515086827"
            ]
          },
          "metadata": {
            "tags": []
          },
          "execution_count": 31
        }
      ]
    },
    {
      "cell_type": "code",
      "metadata": {
        "id": "bsrbHzZHV4zW",
        "colab_type": "code",
        "outputId": "ec2fa168-7759-4aac-fd7e-6b99dd3ebc18",
        "colab": {
          "base_uri": "https://localhost:8080/",
          "height": 72
        }
      },
      "source": [
        "sample_mean = coinflips_100.mean()\n",
        "confidence_int = (sample_mean - t*std_err, sample_mean+t*std_err)\n",
        "margin_of_err = t*std_err\n",
        "\n",
        "print('sample_mean:',sample_mean)\n",
        "print('confidence_int:',confidence_int)\n",
        "print('margin_of_err:',margin_of_err)"
      ],
      "execution_count": 0,
      "outputs": [
        {
          "output_type": "stream",
          "text": [
            "sample_mean: 0.53\n",
            "confidence_int: (0.43096789296172616, 0.629032107038274)\n",
            "margin_of_err: 0.09903210703827388\n"
          ],
          "name": "stdout"
        }
      ]
    },
    {
      "cell_type": "markdown",
      "metadata": {
        "id": "C4rtc8luVUAK",
        "colab_type": "text"
      },
      "source": [
        "## Graphically Represent a Confidence Interval"
      ]
    },
    {
      "cell_type": "code",
      "metadata": {
        "id": "pz6F9_3_VmKr",
        "colab_type": "code",
        "outputId": "7adf55da-f485-49fc-bd77-b749287ce11b",
        "colab": {
          "base_uri": "https://localhost:8080/",
          "height": 287
        }
      },
      "source": [
        "import seaborn as sns\n",
        "\n",
        "sns.kdeplot(coinflips_100)\n",
        "plt.axvline(x= sample_mean, color = 'k')\n",
        "plt.axvline(x= confidence_int[0], color = 'r')\n",
        "plt.axvline(x= confidence_int[1], color = 'r')"
      ],
      "execution_count": 0,
      "outputs": [
        {
          "output_type": "execute_result",
          "data": {
            "text/plain": [
              "<matplotlib.lines.Line2D at 0x7fb9a754cf60>"
            ]
          },
          "metadata": {
            "tags": []
          },
          "execution_count": 36
        },
        {
          "output_type": "display_data",
          "data": {
            "image/png": "[encoded data removed]",
            "text/plain": [
              "<Figure size 432x288 with 1 Axes>"
            ]
          },
          "metadata": {
            "tags": []
          }
        }
      ]
    },
    {
      "cell_type": "markdown",
      "metadata": {
        "id": "_oy0uoBGeoEb",
        "colab_type": "text"
      },
      "source": [
        "## Relationship between Confidence Intervals and T-tests\n",
        "\n",
        "Confidence Interval == Bounds of statistical significance for our t-test\n",
        "\n",
        "A sample mean that falls inside of our confidence interval will \"FAIL TO REJECT\" our null hypothesis\n",
        "\n",
        "A sample mean that falls outside of our confidence interval will \"REJECT\" our null hypothesis"
      ]
    },
    {
      "cell_type": "code",
      "metadata": {
        "id": "izIyVavzfCXS",
        "colab_type": "code",
        "colab": {}
      },
      "source": [
        "from scipy.stats import t, ttest_1samp"
      ],
      "execution_count": 0,
      "outputs": []
    },
    {
      "cell_type": "code",
      "metadata": {
        "id": "Y7HwdMwDfL1N",
        "colab_type": "code",
        "outputId": "26e28e39-9588-43ef-94ae-7eee6546ad6c",
        "colab": {
          "base_uri": "https://localhost:8080/",
          "height": 55
        }
      },
      "source": [
        "import numpy as np\n",
        "\n",
        "coinflip_means = []\n",
        "for x in range(0,100):\n",
        "  coinflips = np.random.binomial(n=1, p=.5, size=30)\n",
        "  coinflip_means.append(coinflips.mean())\n",
        "\n",
        "print(coinflip_means)"
      ],
      "execution_count": 0,
      "outputs": [
        {
          "output_type": "stream",
          "text": [
            "[0.4, 0.5333333333333333, 0.5, 0.4666666666666667, 0.5333333333333333, 0.5333333333333333, 0.5333333333333333, 0.43333333333333335, 0.4, 0.5666666666666667, 0.5, 0.4, 0.5, 0.5, 0.36666666666666664, 0.4666666666666667, 0.4666666666666667, 0.5666666666666667, 0.5, 0.5333333333333333, 0.5666666666666667, 0.5333333333333333, 0.5333333333333333, 0.43333333333333335, 0.43333333333333335, 0.5666666666666667, 0.5, 0.6, 0.5333333333333333, 0.6, 0.4, 0.36666666666666664, 0.5, 0.5, 0.4666666666666667, 0.5, 0.36666666666666664, 0.36666666666666664, 0.4, 0.4, 0.5, 0.43333333333333335, 0.5333333333333333, 0.5333333333333333, 0.5666666666666667, 0.43333333333333335, 0.43333333333333335, 0.4, 0.5666666666666667, 0.5, 0.4, 0.5666666666666667, 0.5666666666666667, 0.5666666666666667, 0.5333333333333333, 0.5333333333333333, 0.43333333333333335, 0.5666666666666667, 0.43333333333333335, 0.6666666666666666, 0.5, 0.5666666666666667, 0.5, 0.6, 0.5666666666666667, 0.4666666666666667, 0.4, 0.6, 0.6, 0.43333333333333335, 0.5333333333333333, 0.5, 0.6333333333333333, 0.43333333333333335, 0.4666666666666667, 0.5333333333333333, 0.43333333333333335, 0.43333333333333335, 0.36666666666666664, 0.6, 0.5, 0.7, 0.5, 0.5333333333333333, 0.5333333333333333, 0.4, 0.5666666666666667, 0.4, 0.5333333333333333, 0.5666666666666667, 0.4666666666666667, 0.5666666666666667, 0.5666666666666667, 0.5666666666666667, 0.7333333333333333, 0.5666666666666667, 0.26666666666666666, 0.43333333333333335, 0.5, 0.6333333333333333]\n"
          ],
          "name": "stdout"
        }
      ]
    },
    {
      "cell_type": "code",
      "metadata": {
        "id": "o-mJb84eaZoD",
        "colab_type": "code",
        "outputId": "cf65c3d5-e24f-41fe-95fa-720c4cfa5a4c",
        "colab": {
          "base_uri": "https://localhost:8080/",
          "height": 54
        }
      },
      "source": [
        "t_stat = stats.t.ppf(0.975, 99)\n",
        "print('T Statistic:',t_stat)\n",
        "\n",
        "std_sample = np.std(coinflip_means)\n",
        "std_error = std_sample/np.sqrt(len(coinflip_means))\n",
        "CI = stats.t.interval(0.95,99, loc = np.mean(coinflip_means),scale = std_error)\n",
        "print('95% confidence interval:',CI)\n"
      ],
      "execution_count": 0,
      "outputs": [
        {
          "output_type": "stream",
          "text": [
            "T Statistic: 1.9842169515086827\n",
            "95% confidence interval: (0.48551702341748093, 0.5171496432491857)\n"
          ],
          "name": "stdout"
        }
      ]
    },
    {
      "cell_type": "markdown",
      "metadata": {
        "id": "EamZNJhAf-fY",
        "colab_type": "text"
      },
      "source": [
        "A null hypothesis that's just inside of our confidence interval == fail to reject\n",
        "\n"
      ]
    },
    {
      "cell_type": "code",
      "metadata": {
        "id": "cNpzYbjpfirR",
        "colab_type": "code",
        "outputId": "5e4c7c21-803f-4d06-950c-6ac7d5db439c",
        "colab": {
          "base_uri": "https://localhost:8080/",
          "height": 55
        }
      },
      "source": [
        "ttest_1samp(coinflip_means, 0.5)"
      ],
      "execution_count": 0,
      "outputs": [
        {
          "output_type": "execute_result",
          "data": {
            "text/plain": [
              "Ttest_1sampResult(statistic=0.16643333788549555, pvalue=0.868155385669968)"
            ]
          },
          "metadata": {
            "tags": []
          },
          "execution_count": 50
        }
      ]
    },
    {
      "cell_type": "markdown",
      "metadata": {
        "id": "hO34mbL9gHn1",
        "colab_type": "text"
      },
      "source": [
        "A null hypothesis that's just outside of our confidence interval == reject\n",
        "\n"
      ]
    },
    {
      "cell_type": "code",
      "metadata": {
        "id": "N4SUjj82gKlv",
        "colab_type": "code",
        "outputId": "2c9c9792-c840-4c45-8168-ed4bc8e70abf",
        "colab": {
          "base_uri": "https://localhost:8080/",
          "height": 55
        }
      },
      "source": [
        "ttest_1samp(coinflip_means, 0.52) # pvalue lower than .05"
      ],
      "execution_count": 0,
      "outputs": [
        {
          "output_type": "execute_result",
          "data": {
            "text/plain": [
              "Ttest_1sampResult(statistic=-2.3300667303970073, pvalue=0.021832800115831913)"
            ]
          },
          "metadata": {
            "tags": []
          },
          "execution_count": 51
        }
      ]
    },
    {
      "cell_type": "code",
      "metadata": {
        "id": "rQZvNu6B3b9b",
        "colab_type": "code",
        "colab": {}
      },
      "source": [
        "def confidence_interval(data, confidence=0.95):\n",
        "  \"\"\"\n",
        "  Calculate a confidence interval around a sample mean for given data.\n",
        "  Using t-distribution and two-tailed test, default 95% confidence. \n",
        "  \n",
        "  Arguments:\n",
        "    data - iterable (list or numpy array) of sample observations\n",
        "    confidence - level of confidence for the interval\n",
        "  \n",
        "  Returns:\n",
        "    tuple of (mean, lower bound, upper bound)\n",
        "  \"\"\"\n",
        "  data = np.array(data)\n",
        "  mean = np.mean(data)\n",
        "  n = len(data)\n",
        "  stderr = stats.sem(data)\n",
        "  interval = stderr * stats.t.ppf((1 + confidence) / 2.0, n - 1)\n",
        "  return (mean, mean - interval, mean + interval)"
      ],
      "execution_count": 0,
      "outputs": []
    },
    {
      "cell_type": "markdown",
      "metadata": {
        "id": "pTIzrkKdUaLl",
        "colab_type": "text"
      },
      "source": [
        "## Run a $\\chi^{2}$ Test \"by hand\" (Using Numpy)"
      ]
    },
    {
      "cell_type": "code",
      "metadata": {
        "id": "DDsovHUyUj3v",
        "colab_type": "code",
        "outputId": "2618425e-7bfb-4aae-9887-ab2065ea79a7",
        "colab": {
          "base_uri": "https://localhost:8080/",
          "height": 418
        }
      },
      "source": [
        "df = pd.read_csv('https://raw.githubusercontent.com/ryanleeallred/datasets/master/adult.csv', na_values=\" ?\")\n",
        "print(df.shape)\n",
        "df.head()"
      ],
      "execution_count": 0,
      "outputs": [
        {
          "output_type": "stream",
          "text": [
            "(32561, 15)\n"
          ],
          "name": "stdout"
        },
        {
          "output_type": "execute_result",
          "data": {
            "text/html": [
              "<div>\n",
              "<style scoped>\n",
              "    .dataframe tbody tr th:only-of-type {\n",
              "        vertical-align: middle;\n",
              "    }\n",
              "\n",
              "    .dataframe tbody tr th {\n",
              "        vertical-align: top;\n",
              "    }\n",
              "\n",
              "    .dataframe thead th {\n",
              "        text-align: right;\n",
              "    }\n",
              "</style>\n",
              "<table border=\"1\" class=\"dataframe\">\n",
              "  <thead>\n",
              "    <tr style=\"text-align: right;\">\n",
              "      <th></th>\n",
              "      <th>age</th>\n",
              "      <th>workclass</th>\n",
              "      <th>fnlwgt</th>\n",
              "      <th>education</th>\n",
              "      <th>education-num</th>\n",
              "      <th>marital-status</th>\n",
              "      <th>occupation</th>\n",
              "      <th>relationship</th>\n",
              "      <th>race</th>\n",
              "      <th>sex</th>\n",
              "      <th>capital-gain</th>\n",
              "      <th>capital-loss</th>\n",
              "      <th>hours-per-week</th>\n",
              "      <th>country</th>\n",
              "      <th>salary</th>\n",
              "    </tr>\n",
              "  </thead>\n",
              "  <tbody>\n",
              "    <tr>\n",
              "      <th>0</th>\n",
              "      <td>39</td>\n",
              "      <td>State-gov</td>\n",
              "      <td>77516</td>\n",
              "      <td>Bachelors</td>\n",
              "      <td>13</td>\n",
              "      <td>Never-married</td>\n",
              "      <td>Adm-clerical</td>\n",
              "      <td>Not-in-family</td>\n",
              "      <td>White</td>\n",
              "      <td>Male</td>\n",
              "      <td>2174</td>\n",
              "      <td>0</td>\n",
              "      <td>40</td>\n",
              "      <td>United-States</td>\n",
              "      <td>&lt;=50K</td>\n",
              "    </tr>\n",
              "    <tr>\n",
              "      <th>1</th>\n",
              "      <td>50</td>\n",
              "      <td>Self-emp-not-inc</td>\n",
              "      <td>83311</td>\n",
              "      <td>Bachelors</td>\n",
              "      <td>13</td>\n",
              "      <td>Married-civ-spouse</td>\n",
              "      <td>Exec-managerial</td>\n",
              "      <td>Husband</td>\n",
              "      <td>White</td>\n",
              "      <td>Male</td>\n",
              "      <td>0</td>\n",
              "      <td>0</td>\n",
              "      <td>13</td>\n",
              "      <td>United-States</td>\n",
              "      <td>&lt;=50K</td>\n",
              "    </tr>\n",
              "    <tr>\n",
              "      <th>2</th>\n",
              "      <td>38</td>\n",
              "      <td>Private</td>\n",
              "      <td>215646</td>\n",
              "      <td>HS-grad</td>\n",
              "      <td>9</td>\n",
              "      <td>Divorced</td>\n",
              "      <td>Handlers-cleaners</td>\n",
              "      <td>Not-in-family</td>\n",
              "      <td>White</td>\n",
              "      <td>Male</td>\n",
              "      <td>0</td>\n",
              "      <td>0</td>\n",
              "      <td>40</td>\n",
              "      <td>United-States</td>\n",
              "      <td>&lt;=50K</td>\n",
              "    </tr>\n",
              "    <tr>\n",
              "      <th>3</th>\n",
              "      <td>53</td>\n",
              "      <td>Private</td>\n",
              "      <td>234721</td>\n",
              "      <td>11th</td>\n",
              "      <td>7</td>\n",
              "      <td>Married-civ-spouse</td>\n",
              "      <td>Handlers-cleaners</td>\n",
              "      <td>Husband</td>\n",
              "      <td>Black</td>\n",
              "      <td>Male</td>\n",
              "      <td>0</td>\n",
              "      <td>0</td>\n",
              "      <td>40</td>\n",
              "      <td>United-States</td>\n",
              "      <td>&lt;=50K</td>\n",
              "    </tr>\n",
              "    <tr>\n",
              "      <th>4</th>\n",
              "      <td>28</td>\n",
              "      <td>Private</td>\n",
              "      <td>338409</td>\n",
              "      <td>Bachelors</td>\n",
              "      <td>13</td>\n",
              "      <td>Married-civ-spouse</td>\n",
              "      <td>Prof-specialty</td>\n",
              "      <td>Wife</td>\n",
              "      <td>Black</td>\n",
              "      <td>Female</td>\n",
              "      <td>0</td>\n",
              "      <td>0</td>\n",
              "      <td>40</td>\n",
              "      <td>Cuba</td>\n",
              "      <td>&lt;=50K</td>\n",
              "    </tr>\n",
              "  </tbody>\n",
              "</table>\n",
              "</div>"
            ],
            "text/plain": [
              "   age          workclass  fnlwgt  ... hours-per-week         country  salary\n",
              "0   39          State-gov   77516  ...             40   United-States   <=50K\n",
              "1   50   Self-emp-not-inc   83311  ...             13   United-States   <=50K\n",
              "2   38            Private  215646  ...             40   United-States   <=50K\n",
              "3   53            Private  234721  ...             40   United-States   <=50K\n",
              "4   28            Private  338409  ...             40            Cuba   <=50K\n",
              "\n",
              "[5 rows x 15 columns]"
            ]
          },
          "metadata": {
            "tags": []
          },
          "execution_count": 54
        }
      ]
    },
    {
      "cell_type": "code",
      "metadata": {
        "id": "YQQP6Yw4dWSB",
        "colab_type": "code",
        "outputId": "b9e6e708-c42b-4dee-a0d7-27c2cf547765",
        "colab": {
          "base_uri": "https://localhost:8080/",
          "height": 247
        }
      },
      "source": [
        "df.describe(exclude = 'number')"
      ],
      "execution_count": 0,
      "outputs": [
        {
          "output_type": "execute_result",
          "data": {
            "text/html": [
              "<div>\n",
              "<style scoped>\n",
              "    .dataframe tbody tr th:only-of-type {\n",
              "        vertical-align: middle;\n",
              "    }\n",
              "\n",
              "    .dataframe tbody tr th {\n",
              "        vertical-align: top;\n",
              "    }\n",
              "\n",
              "    .dataframe thead th {\n",
              "        text-align: right;\n",
              "    }\n",
              "</style>\n",
              "<table border=\"1\" class=\"dataframe\">\n",
              "  <thead>\n",
              "    <tr style=\"text-align: right;\">\n",
              "      <th></th>\n",
              "      <th>workclass</th>\n",
              "      <th>education</th>\n",
              "      <th>marital-status</th>\n",
              "      <th>occupation</th>\n",
              "      <th>relationship</th>\n",
              "      <th>race</th>\n",
              "      <th>sex</th>\n",
              "      <th>country</th>\n",
              "      <th>salary</th>\n",
              "    </tr>\n",
              "  </thead>\n",
              "  <tbody>\n",
              "    <tr>\n",
              "      <th>count</th>\n",
              "      <td>30725</td>\n",
              "      <td>32561</td>\n",
              "      <td>32561</td>\n",
              "      <td>30718</td>\n",
              "      <td>32561</td>\n",
              "      <td>32561</td>\n",
              "      <td>32561</td>\n",
              "      <td>31978</td>\n",
              "      <td>32561</td>\n",
              "    </tr>\n",
              "    <tr>\n",
              "      <th>unique</th>\n",
              "      <td>8</td>\n",
              "      <td>16</td>\n",
              "      <td>7</td>\n",
              "      <td>14</td>\n",
              "      <td>6</td>\n",
              "      <td>5</td>\n",
              "      <td>2</td>\n",
              "      <td>41</td>\n",
              "      <td>2</td>\n",
              "    </tr>\n",
              "    <tr>\n",
              "      <th>top</th>\n",
              "      <td>Private</td>\n",
              "      <td>HS-grad</td>\n",
              "      <td>Married-civ-spouse</td>\n",
              "      <td>Prof-specialty</td>\n",
              "      <td>Husband</td>\n",
              "      <td>White</td>\n",
              "      <td>Male</td>\n",
              "      <td>United-States</td>\n",
              "      <td>&lt;=50K</td>\n",
              "    </tr>\n",
              "    <tr>\n",
              "      <th>freq</th>\n",
              "      <td>22696</td>\n",
              "      <td>10501</td>\n",
              "      <td>14976</td>\n",
              "      <td>4140</td>\n",
              "      <td>13193</td>\n",
              "      <td>27816</td>\n",
              "      <td>21790</td>\n",
              "      <td>29170</td>\n",
              "      <td>24720</td>\n",
              "    </tr>\n",
              "  </tbody>\n",
              "</table>\n",
              "</div>"
            ],
            "text/plain": [
              "       workclass education       marital-status  ...    sex         country  salary\n",
              "count      30725     32561                32561  ...  32561           31978   32561\n",
              "unique         8        16                    7  ...      2              41       2\n",
              "top      Private   HS-grad   Married-civ-spouse  ...   Male   United-States   <=50K\n",
              "freq       22696     10501                14976  ...  21790           29170   24720\n",
              "\n",
              "[4 rows x 9 columns]"
            ]
          },
          "metadata": {
            "tags": []
          },
          "execution_count": 56
        }
      ]
    },
    {
      "cell_type": "code",
      "metadata": {
        "id": "ULURqpTQde2F",
        "colab_type": "code",
        "outputId": "bddc4c42-a3bf-458c-c63d-cb45cf8f4006",
        "colab": {
          "base_uri": "https://localhost:8080/",
          "height": 287
        }
      },
      "source": [
        "df['hours-per-week'].hist()"
      ],
      "execution_count": 0,
      "outputs": [
        {
          "output_type": "execute_result",
          "data": {
            "text/plain": [
              "<matplotlib.axes._subplots.AxesSubplot at 0x7fb9a75057b8>"
            ]
          },
          "metadata": {
            "tags": []
          },
          "execution_count": 57
        },
        {
          "output_type": "display_data",
          "data": {
            "image/png": "[encoded data removed]",
            "text/plain": [
              "<Figure size 432x288 with 1 Axes>"
            ]
          },
          "metadata": {
            "tags": []
          }
        }
      ]
    },
    {
      "cell_type": "code",
      "metadata": {
        "id": "uj59gKY6dr7h",
        "colab_type": "code",
        "outputId": "c31962f2-0061-41b0-ab3b-bd900e6bb5bf",
        "colab": {
          "base_uri": "https://localhost:8080/",
          "height": 109
        }
      },
      "source": [
        "cut_points = [0,20,40,60,150]\n",
        "labels_names = ['0-20', '21-40','41-60','61+']\n",
        "df['hours_per_week_bin'] = pd.cut(df['hours-per-week'], cut_points, labels = labels_names)\n",
        "df.hours_per_week_bin.value_counts()"
      ],
      "execution_count": 0,
      "outputs": [
        {
          "output_type": "execute_result",
          "data": {
            "text/plain": [
              "21-40    20052\n",
              "41-60     8471\n",
              "0-20      2928\n",
              "61+       1110\n",
              "Name: hours_per_week_bin, dtype: int64"
            ]
          },
          "metadata": {
            "tags": []
          },
          "execution_count": 60
        }
      ]
    },
    {
      "cell_type": "code",
      "metadata": {
        "id": "RXrWZxHienAK",
        "colab_type": "code",
        "outputId": "7df7117d-4e66-4a22-ca6f-7e57959394ff",
        "colab": {
          "base_uri": "https://localhost:8080/",
          "height": 72
        }
      },
      "source": [
        "df.sex.value_counts()"
      ],
      "execution_count": 0,
      "outputs": [
        {
          "output_type": "execute_result",
          "data": {
            "text/plain": [
              " Male      21790\n",
              " Female    10771\n",
              "Name: sex, dtype: int64"
            ]
          },
          "metadata": {
            "tags": []
          },
          "execution_count": 61
        }
      ]
    },
    {
      "cell_type": "code",
      "metadata": {
        "id": "Svume7eUexgc",
        "colab_type": "code",
        "outputId": "787084a8-51d0-4631-91fa-e97b6ef0bc7d",
        "colab": {
          "base_uri": "https://localhost:8080/",
          "height": 175
        }
      },
      "source": [
        "df = df.sort_values(by = 'hours_per_week_bin')\n",
        "contingency_table = pd.crosstab(df['sex'], df['hours_per_week_bin'], margins = True)\n",
        "contingency_table"
      ],
      "execution_count": 0,
      "outputs": [
        {
          "output_type": "execute_result",
          "data": {
            "text/html": [
              "<div>\n",
              "<style scoped>\n",
              "    .dataframe tbody tr th:only-of-type {\n",
              "        vertical-align: middle;\n",
              "    }\n",
              "\n",
              "    .dataframe tbody tr th {\n",
              "        vertical-align: top;\n",
              "    }\n",
              "\n",
              "    .dataframe thead th {\n",
              "        text-align: right;\n",
              "    }\n",
              "</style>\n",
              "<table border=\"1\" class=\"dataframe\">\n",
              "  <thead>\n",
              "    <tr style=\"text-align: right;\">\n",
              "      <th>hours_per_week_bin</th>\n",
              "      <th>0-20</th>\n",
              "      <th>21-40</th>\n",
              "      <th>41-60</th>\n",
              "      <th>61+</th>\n",
              "      <th>All</th>\n",
              "    </tr>\n",
              "    <tr>\n",
              "      <th>sex</th>\n",
              "      <th></th>\n",
              "      <th></th>\n",
              "      <th></th>\n",
              "      <th></th>\n",
              "      <th></th>\n",
              "    </tr>\n",
              "  </thead>\n",
              "  <tbody>\n",
              "    <tr>\n",
              "      <th>Female</th>\n",
              "      <td>1550</td>\n",
              "      <td>7479</td>\n",
              "      <td>1571</td>\n",
              "      <td>171</td>\n",
              "      <td>10771</td>\n",
              "    </tr>\n",
              "    <tr>\n",
              "      <th>Male</th>\n",
              "      <td>1378</td>\n",
              "      <td>12573</td>\n",
              "      <td>6900</td>\n",
              "      <td>939</td>\n",
              "      <td>21790</td>\n",
              "    </tr>\n",
              "    <tr>\n",
              "      <th>All</th>\n",
              "      <td>2928</td>\n",
              "      <td>20052</td>\n",
              "      <td>8471</td>\n",
              "      <td>1110</td>\n",
              "      <td>32561</td>\n",
              "    </tr>\n",
              "  </tbody>\n",
              "</table>\n",
              "</div>"
            ],
            "text/plain": [
              "hours_per_week_bin  0-20  21-40  41-60   61+    All\n",
              "sex                                                \n",
              " Female             1550   7479   1571   171  10771\n",
              " Male               1378  12573   6900   939  21790\n",
              "All                 2928  20052   8471  1110  32561"
            ]
          },
          "metadata": {
            "tags": []
          },
          "execution_count": 67
        }
      ]
    },
    {
      "cell_type": "markdown",
      "metadata": {
        "id": "uyw_hby7-OHF",
        "colab_type": "text"
      },
      "source": [
        "## Expected Value Calculation\n",
        "\\begin{align}\n",
        "expected_{i,j} =\\frac{(row_{i} \\text{total})(column_{j} \\text{total}) }{(\\text{total observations})}  \n",
        "\\end{align}"
      ]
    },
    {
      "cell_type": "code",
      "metadata": {
        "id": "C11nWaal-acY",
        "colab_type": "code",
        "outputId": "386727e3-2499-4451-e385-9cd1cb6327ba",
        "colab": {
          "base_uri": "https://localhost:8080/",
          "height": 54
        }
      },
      "source": [
        "row_sums = contingency_table.iloc[0:2,4].values\n",
        "col_sums = contingency_table.iloc[2, 0:4].values\n",
        "print(row_sums)\n",
        "print(col_sums)"
      ],
      "execution_count": 0,
      "outputs": [
        {
          "output_type": "stream",
          "text": [
            "[10771 21790]\n",
            "[ 2928 20052  8471  1110]\n"
          ],
          "name": "stdout"
        }
      ]
    },
    {
      "cell_type": "code",
      "metadata": {
        "id": "jcUIfjrBgt6J",
        "colab_type": "code",
        "outputId": "a3144eff-860c-4fb0-86fb-014689365766",
        "colab": {
          "base_uri": "https://localhost:8080/",
          "height": 35
        }
      },
      "source": [
        "total = contingency_table.loc['All','All']\n",
        "total"
      ],
      "execution_count": 0,
      "outputs": [
        {
          "output_type": "execute_result",
          "data": {
            "text/plain": [
              "32561"
            ]
          },
          "metadata": {
            "tags": []
          },
          "execution_count": 74
        }
      ]
    },
    {
      "cell_type": "code",
      "metadata": {
        "id": "Z_mAIIAIg2hb",
        "colab_type": "code",
        "outputId": "a49d2e12-6cfe-4a6c-abde-12e171917b64",
        "colab": {
          "base_uri": "https://localhost:8080/",
          "height": 72
        }
      },
      "source": [
        "expected = []\n",
        "for i in range(len(row_sums)):\n",
        "  expected_row = []\n",
        "  for column in col_sums:\n",
        "    expected_val = column*row_sums[i]/total\n",
        "    expected_row.append(expected_val)\n",
        "  expected.append(expected_row)\n",
        "  \n",
        "expected = np.array(expected)\n",
        "print(expected.shape)\n",
        "print(expected)"
      ],
      "execution_count": 0,
      "outputs": [
        {
          "output_type": "stream",
          "text": [
            "(2, 4)\n",
            "[[  968.56632167  6633.09148982  2802.16028378   367.18190473]\n",
            " [ 1959.43367833 13418.90851018  5668.83971622   742.81809527]]\n"
          ],
          "name": "stdout"
        }
      ]
    },
    {
      "cell_type": "markdown",
      "metadata": {
        "id": "R6AWydhG_P4s",
        "colab_type": "text"
      },
      "source": [
        "## Chi-Squared Statistic with Numpy\n",
        "\n",
        "\\begin{align}\n",
        "\\chi^2 = \\sum \\frac{(observed_{i}-expected_{i})^2}{(expected_{i})}\n",
        "\\end{align}\n",
        "\n",
        "For the $observed$ values we will just use a version of our contingency table without the margins as a numpy array. In this way, if our observed values array and our expected values array are the same shape, then we can subtract them and divide them directly which makes the calculations a lot cleaner. No for loops!"
      ]
    },
    {
      "cell_type": "code",
      "metadata": {
        "id": "GLnwZyk3hjuI",
        "colab_type": "code",
        "outputId": "2bddf5f9-2fb0-448e-93fd-380ec599a024",
        "colab": {
          "base_uri": "https://localhost:8080/",
          "height": 72
        }
      },
      "source": [
        "observed = pd.crosstab(df['sex'], df['hours_per_week_bin']).values\n",
        "print(observed.shape)\n",
        "observed"
      ],
      "execution_count": 0,
      "outputs": [
        {
          "output_type": "stream",
          "text": [
            "(2, 4)\n"
          ],
          "name": "stdout"
        },
        {
          "output_type": "execute_result",
          "data": {
            "text/plain": [
              "array([[ 1550,  7479,  1571,   171],\n",
              "       [ 1378, 12573,  6900,   939]])"
            ]
          },
          "metadata": {
            "tags": []
          },
          "execution_count": 77
        }
      ]
    },
    {
      "cell_type": "code",
      "metadata": {
        "id": "o7YgaNij_cSo",
        "colab_type": "code",
        "outputId": "c2957863-7e0b-4038-8286-0a6eaccae823",
        "colab": {
          "base_uri": "https://localhost:8080/",
          "height": 35
        }
      },
      "source": [
        "chi_sq = ((observed-expected)**2/(expected)).sum()\n",
        "chi_sq ## high value indicated null hypothesis cannot be rejected"
      ],
      "execution_count": 0,
      "outputs": [
        {
          "output_type": "execute_result",
          "data": {
            "text/plain": [
              "1647.7095128222354"
            ]
          },
          "metadata": {
            "tags": []
          },
          "execution_count": 78
        }
      ]
    },
    {
      "cell_type": "markdown",
      "metadata": {
        "id": "7Igz-XHcVbW3",
        "colab_type": "text"
      },
      "source": [
        "## Run a $\\chi^{2}$ Test using Scipy"
      ]
    },
    {
      "cell_type": "code",
      "metadata": {
        "id": "kazgId8L9tYZ",
        "colab_type": "code",
        "outputId": "6fa3a4d9-18b8-44ed-b7d6-2f3361b1e9f0",
        "colab": {
          "base_uri": "https://localhost:8080/",
          "height": 1000
        }
      },
      "source": [
        "help(stats.chi2_contingency)"
      ],
      "execution_count": 0,
      "outputs": [
        {
          "output_type": "stream",
          "text": [
            "Help on function chi2_contingency in module scipy.stats.contingency:\n",
            "\n",
            "chi2_contingency(observed, correction=True, lambda_=None)\n",
            "    Chi-square test of independence of variables in a contingency table.\n",
            "    \n",
            "    This function computes the chi-square statistic and p-value for the\n",
            "    hypothesis test of independence of the observed frequencies in the\n",
            "    contingency table [1]_ `observed`.  The expected frequencies are computed\n",
            "    based on the marginal sums under the assumption of independence; see\n",
            "    `scipy.stats.contingency.expected_freq`.  The number of degrees of\n",
            "    freedom is (expressed using numpy functions and attributes)::\n",
            "    \n",
            "        dof = observed.size - sum(observed.shape) + observed.ndim - 1\n",
            "    \n",
            "    \n",
            "    Parameters\n",
            "    ----------\n",
            "    observed : array_like\n",
            "        The contingency table. The table contains the observed frequencies\n",
            "        (i.e. number of occurrences) in each category.  In the two-dimensional\n",
            "        case, the table is often described as an \"R x C table\".\n",
            "    correction : bool, optional\n",
            "        If True, *and* the degrees of freedom is 1, apply Yates' correction\n",
            "        for continuity.  The effect of the correction is to adjust each\n",
            "        observed value by 0.5 towards the corresponding expected value.\n",
            "    lambda_ : float or str, optional.\n",
            "        By default, the statistic computed in this test is Pearson's\n",
            "        chi-squared statistic [2]_.  `lambda_` allows a statistic from the\n",
            "        Cressie-Read power divergence family [3]_ to be used instead.  See\n",
            "        `power_divergence` for details.\n",
            "    \n",
            "    Returns\n",
            "    -------\n",
            "    chi2 : float\n",
            "        The test statistic.\n",
            "    p : float\n",
            "        The p-value of the test\n",
            "    dof : int\n",
            "        Degrees of freedom\n",
            "    expected : ndarray, same shape as `observed`\n",
            "        The expected frequencies, based on the marginal sums of the table.\n",
            "    \n",
            "    See Also\n",
            "    --------\n",
            "    contingency.expected_freq\n",
            "    fisher_exact\n",
            "    chisquare\n",
            "    power_divergence\n",
            "    \n",
            "    Notes\n",
            "    -----\n",
            "    An often quoted guideline for the validity of this calculation is that\n",
            "    the test should be used only if the observed and expected frequencies\n",
            "    in each cell are at least 5.\n",
            "    \n",
            "    This is a test for the independence of different categories of a\n",
            "    population. The test is only meaningful when the dimension of\n",
            "    `observed` is two or more.  Applying the test to a one-dimensional\n",
            "    table will always result in `expected` equal to `observed` and a\n",
            "    chi-square statistic equal to 0.\n",
            "    \n",
            "    This function does not handle masked arrays, because the calculation\n",
            "    does not make sense with missing values.\n",
            "    \n",
            "    Like stats.chisquare, this function computes a chi-square statistic;\n",
            "    the convenience this function provides is to figure out the expected\n",
            "    frequencies and degrees of freedom from the given contingency table.\n",
            "    If these were already known, and if the Yates' correction was not\n",
            "    required, one could use stats.chisquare.  That is, if one calls::\n",
            "    \n",
            "        chi2, p, dof, ex = chi2_contingency(obs, correction=False)\n",
            "    \n",
            "    then the following is true::\n",
            "    \n",
            "        (chi2, p) == stats.chisquare(obs.ravel(), f_exp=ex.ravel(),\n",
            "                                     ddof=obs.size - 1 - dof)\n",
            "    \n",
            "    The `lambda_` argument was added in version 0.13.0 of scipy.\n",
            "    \n",
            "    References\n",
            "    ----------\n",
            "    .. [1] \"Contingency table\",\n",
            "           https://en.wikipedia.org/wiki/Contingency_table\n",
            "    .. [2] \"Pearson's chi-squared test\",\n",
            "           https://en.wikipedia.org/wiki/Pearson%27s_chi-squared_test\n",
            "    .. [3] Cressie, N. and Read, T. R. C., \"Multinomial Goodness-of-Fit\n",
            "           Tests\", J. Royal Stat. Soc. Series B, Vol. 46, No. 3 (1984),\n",
            "           pp. 440-464.\n",
            "    \n",
            "    Examples\n",
            "    --------\n",
            "    A two-way example (2 x 3):\n",
            "    \n",
            "    >>> from scipy.stats import chi2_contingency\n",
            "    >>> obs = np.array([[10, 10, 20], [20, 20, 20]])\n",
            "    >>> chi2_contingency(obs)\n",
            "    (2.7777777777777777,\n",
            "     0.24935220877729619,\n",
            "     2,\n",
            "     array([[ 12.,  12.,  16.],\n",
            "            [ 18.,  18.,  24.]]))\n",
            "    \n",
            "    Perform the test using the log-likelihood ratio (i.e. the \"G-test\")\n",
            "    instead of Pearson's chi-squared statistic.\n",
            "    \n",
            "    >>> g, p, dof, expctd = chi2_contingency(obs, lambda_=\"log-likelihood\")\n",
            "    >>> g, p\n",
            "    (2.7688587616781319, 0.25046668010954165)\n",
            "    \n",
            "    A four-way example (2 x 2 x 2 x 2):\n",
            "    \n",
            "    >>> obs = np.array(\n",
            "    ...     [[[[12, 17],\n",
            "    ...        [11, 16]],\n",
            "    ...       [[11, 12],\n",
            "    ...        [15, 16]]],\n",
            "    ...      [[[23, 15],\n",
            "    ...        [30, 22]],\n",
            "    ...       [[14, 17],\n",
            "    ...        [15, 16]]]])\n",
            "    >>> chi2_contingency(obs)\n",
            "    (8.7584514426741897,\n",
            "     0.64417725029295503,\n",
            "     11,\n",
            "     array([[[[ 14.15462386,  14.15462386],\n",
            "              [ 16.49423111,  16.49423111]],\n",
            "             [[ 11.2461395 ,  11.2461395 ],\n",
            "              [ 13.10500554,  13.10500554]]],\n",
            "            [[[ 19.5591166 ,  19.5591166 ],\n",
            "              [ 22.79202844,  22.79202844]],\n",
            "             [[ 15.54012004,  15.54012004],\n",
            "              [ 18.10873492,  18.10873492]]]]))\n",
            "\n"
          ],
          "name": "stdout"
        }
      ]
    },
    {
      "cell_type": "code",
      "metadata": {
        "id": "bCPfqUnSiZWA",
        "colab_type": "code",
        "outputId": "7b30662b-a692-4820-a1d2-c796470dbc7b",
        "colab": {
          "base_uri": "https://localhost:8080/",
          "height": 74
        }
      },
      "source": [
        "chi_sqrd, p_value, dof, expected = stats.chi2_contingency(observed)\n",
        "print(chi_sqrd, p_value, dof, expected)"
      ],
      "execution_count": 0,
      "outputs": [
        {
          "output_type": "stream",
          "text": [
            "1647.7095128222354 0.0 3 [[  968.56632167  6633.09148982  2802.16028378   367.18190473]\n",
            " [ 1959.43367833 13418.90851018  5668.83971622   742.81809527]]\n"
          ],
          "name": "stdout"
        }
      ]
    },
    {
      "cell_type": "markdown",
      "metadata": {
        "id": "TRtBEP3rA307",
        "colab_type": "text"
      },
      "source": [
        "Null Hypothesis: Hours worked per week bins is **independent** of sex. \n",
        "\n",
        "Due to a p-value of 0, we REJECT the null hypothesis that hours worked per week and sex are independent, and conclude that there is an association between hours worked per week and sex. "
      ]
    },
    {
      "cell_type": "markdown",
      "metadata": {
        "id": "HzhqvfXGXZFi",
        "colab_type": "text"
      },
      "source": [
        "# Assignment"
      ]
    },
    {
      "cell_type": "markdown",
      "metadata": {
        "id": "11OzdxWTM7UR",
        "colab_type": "text"
      },
      "source": [
        "## Build a confidence interval\n",
        "\n",
        "A confidence interval refers to a neighborhood around some point estimate, the size of which is determined by the desired p-value. For instance, we might say that 52% of Americans prefer tacos to burritos, with a 95% confidence interval of +/- 5%.\n",
        "\n",
        "52% (0.52) is the point estimate, and +/- 5% (the interval $[0.47, 0.57]$) is the confidence interval. \"95% confidence\" means a p-value $\\leq 1 - 0.95 = 0.05$.\n",
        "\n",
        "In this case, the confidence interval includes $0.5$ - which is the natural null hypothesis (that half of Americans prefer tacos and half burritos, thus there is no clear favorite). So in this case, we could use the confidence interval to report that we've failed to reject the null hypothesis.\n",
        "\n",
        "But providing the full analysis with a confidence interval, including a graphical representation of it, can be a helpful and powerful way to tell your story. Done well, it is also more intuitive to a layperson than simply saying \"fail to reject the null hypothesis\" - it shows that in fact the data does *not* give a single clear result (the point estimate) but a whole range of possibilities.\n",
        "\n",
        "How is a confidence interval built, and how should it be interpreted? It does *not* mean that 95% of the data lies in that interval - instead, the frequentist interpretation is \"if we were to repeat this experiment 100 times, we would expect the average result to lie in this interval ~95 times.\"\n",
        "\n",
        "For a 95% confidence interval and a normal(-ish) distribution, you can simply remember that +/-2 standard deviations contains 95% of the probability mass, and so the 95% confidence interval based on a given sample is centered at the mean (point estimate) and has a range of +/- 2 (or technically 1.96) standard deviations.\n",
        "\n",
        "Different distributions/assumptions (90% confidence, 99% confidence) will require different math, but the overall process and interpretation (with a frequentist approach) will be the same.\n",
        "\n",
        "Your assignment - using the data from the prior module ([congressional voting records](https://archive.ics.uci.edu/ml/datasets/Congressional+Voting+Records)):\n",
        "\n",
        "\n",
        "### Confidence Intervals:\n",
        "1. Generate and numerically represent a confidence interval\n",
        "2. Graphically (with a plot) represent the confidence interval\n",
        "3. Interpret the confidence interval - what does it tell you about the data and its distribution?\n",
        "\n",
        "### Chi-squared tests:\n",
        "4. Take a dataset that we have used in the past in class that has **categorical** variables. Pick two of those categorical variables and run a chi-squared tests on that data\n",
        "  - By hand using Numpy\n",
        "  - In a single line using Scipy\n",
        "\n",
        "Stretch goals:\n",
        "\n",
        "1. Write a summary of your findings, mixing prose and math/code/results. *Note* - yes, this is by definition a political topic. It is challenging but important to keep your writing voice *neutral* and stick to the facts of the data. Data science often involves considering controversial issues, so it's important to be sensitive about them (especially if you want to publish).\n",
        "2. Apply the techniques you learned today to your project data or other data of your choice, and write/discuss your findings here.\n",
        "3. Refactor your code so it is elegant, readable, and can be easily run for all issues."
      ]
    },
    {
      "cell_type": "markdown",
      "metadata": {
        "id": "evveaIt9YAuf",
        "colab_type": "text"
      },
      "source": [
        "### Load and clean"
      ]
    },
    {
      "cell_type": "code",
      "metadata": {
        "id": "Ckcr4A4FM7cs",
        "colab_type": "code",
        "colab": {
          "base_uri": "https://localhost:8080/",
          "height": 245
        },
        "outputId": "0e77ea64-65a7-4d42-aac7-98623a0c295c"
      },
      "source": [
        "import pandas as pd\n",
        "import matplotlib.pyplot as plt\n",
        "import seaborn as sns\n",
        "import scipy.stats as stats\n",
        "import numpy as np\n",
        "\n",
        "cols = ['class','handicapped_infants','water_proj_costshare','adopt_budget_res',\n",
        "        'physician_fee_frz','el_salvador_aid','religious_grps_in_schools',\n",
        "        'anti_sat_test_ban','nicaraguan_contras_aid','mx_missle','immigration',\n",
        "        'synfuels_corp_cutback','edu_spending','superfund_right_to_sue','crime',\n",
        "        'duty_free_export','south_africa_export_admin_act']\n",
        "\n",
        "df = pd.read_csv('https://archive.ics.uci.edu/ml/machine-learning-databases/voting-records/house-votes-84.data',header = None , na_values = '?', names = cols)\n",
        "\n",
        "df.fillna(value = 0, inplace = True)\n",
        "df.replace(to_replace = {'y':1,'n':-1}, inplace = True)\n",
        "\n",
        "print(df.shape)\n",
        "df.head()"
      ],
      "execution_count": 34,
      "outputs": [
        {
          "output_type": "stream",
          "text": [
            "(435, 17)\n"
          ],
          "name": "stdout"
        },
        {
          "output_type": "execute_result",
          "data": {
            "text/html": [
              "<div>\n",
              "<style scoped>\n",
              "    .dataframe tbody tr th:only-of-type {\n",
              "        vertical-align: middle;\n",
              "    }\n",
              "\n",
              "    .dataframe tbody tr th {\n",
              "        vertical-align: top;\n",
              "    }\n",
              "\n",
              "    .dataframe thead th {\n",
              "        text-align: right;\n",
              "    }\n",
              "</style>\n",
              "<table border=\"1\" class=\"dataframe\">\n",
              "  <thead>\n",
              "    <tr style=\"text-align: right;\">\n",
              "      <th></th>\n",
              "      <th>class</th>\n",
              "      <th>handicapped_infants</th>\n",
              "      <th>water_proj_costshare</th>\n",
              "      <th>adopt_budget_res</th>\n",
              "      <th>physician_fee_frz</th>\n",
              "      <th>el_salvador_aid</th>\n",
              "      <th>religious_grps_in_schools</th>\n",
              "      <th>anti_sat_test_ban</th>\n",
              "      <th>nicaraguan_contras_aid</th>\n",
              "      <th>mx_missle</th>\n",
              "      <th>immigration</th>\n",
              "      <th>synfuels_corp_cutback</th>\n",
              "      <th>edu_spending</th>\n",
              "      <th>superfund_right_to_sue</th>\n",
              "      <th>crime</th>\n",
              "      <th>duty_free_export</th>\n",
              "      <th>south_africa_export_admin_act</th>\n",
              "    </tr>\n",
              "  </thead>\n",
              "  <tbody>\n",
              "    <tr>\n",
              "      <th>0</th>\n",
              "      <td>republican</td>\n",
              "      <td>-1</td>\n",
              "      <td>1</td>\n",
              "      <td>-1</td>\n",
              "      <td>1</td>\n",
              "      <td>1</td>\n",
              "      <td>1</td>\n",
              "      <td>-1</td>\n",
              "      <td>-1</td>\n",
              "      <td>-1</td>\n",
              "      <td>1</td>\n",
              "      <td>0</td>\n",
              "      <td>1</td>\n",
              "      <td>1</td>\n",
              "      <td>1</td>\n",
              "      <td>-1</td>\n",
              "      <td>1</td>\n",
              "    </tr>\n",
              "    <tr>\n",
              "      <th>1</th>\n",
              "      <td>republican</td>\n",
              "      <td>-1</td>\n",
              "      <td>1</td>\n",
              "      <td>-1</td>\n",
              "      <td>1</td>\n",
              "      <td>1</td>\n",
              "      <td>1</td>\n",
              "      <td>-1</td>\n",
              "      <td>-1</td>\n",
              "      <td>-1</td>\n",
              "      <td>-1</td>\n",
              "      <td>-1</td>\n",
              "      <td>1</td>\n",
              "      <td>1</td>\n",
              "      <td>1</td>\n",
              "      <td>-1</td>\n",
              "      <td>0</td>\n",
              "    </tr>\n",
              "    <tr>\n",
              "      <th>2</th>\n",
              "      <td>democrat</td>\n",
              "      <td>0</td>\n",
              "      <td>1</td>\n",
              "      <td>1</td>\n",
              "      <td>0</td>\n",
              "      <td>1</td>\n",
              "      <td>1</td>\n",
              "      <td>-1</td>\n",
              "      <td>-1</td>\n",
              "      <td>-1</td>\n",
              "      <td>-1</td>\n",
              "      <td>1</td>\n",
              "      <td>-1</td>\n",
              "      <td>1</td>\n",
              "      <td>1</td>\n",
              "      <td>-1</td>\n",
              "      <td>-1</td>\n",
              "    </tr>\n",
              "    <tr>\n",
              "      <th>3</th>\n",
              "      <td>democrat</td>\n",
              "      <td>-1</td>\n",
              "      <td>1</td>\n",
              "      <td>1</td>\n",
              "      <td>-1</td>\n",
              "      <td>0</td>\n",
              "      <td>1</td>\n",
              "      <td>-1</td>\n",
              "      <td>-1</td>\n",
              "      <td>-1</td>\n",
              "      <td>-1</td>\n",
              "      <td>1</td>\n",
              "      <td>-1</td>\n",
              "      <td>1</td>\n",
              "      <td>-1</td>\n",
              "      <td>-1</td>\n",
              "      <td>1</td>\n",
              "    </tr>\n",
              "    <tr>\n",
              "      <th>4</th>\n",
              "      <td>democrat</td>\n",
              "      <td>1</td>\n",
              "      <td>1</td>\n",
              "      <td>1</td>\n",
              "      <td>-1</td>\n",
              "      <td>1</td>\n",
              "      <td>1</td>\n",
              "      <td>-1</td>\n",
              "      <td>-1</td>\n",
              "      <td>-1</td>\n",
              "      <td>-1</td>\n",
              "      <td>1</td>\n",
              "      <td>0</td>\n",
              "      <td>1</td>\n",
              "      <td>1</td>\n",
              "      <td>1</td>\n",
              "      <td>1</td>\n",
              "    </tr>\n",
              "  </tbody>\n",
              "</table>\n",
              "</div>"
            ],
            "text/plain": [
              "        class  ...  south_africa_export_admin_act\n",
              "0  republican  ...                              1\n",
              "1  republican  ...                              0\n",
              "2    democrat  ...                             -1\n",
              "3    democrat  ...                              1\n",
              "4    democrat  ...                              1\n",
              "\n",
              "[5 rows x 17 columns]"
            ]
          },
          "metadata": {
            "tags": []
          },
          "execution_count": 34
        }
      ]
    },
    {
      "cell_type": "code",
      "metadata": {
        "id": "nUQxrI_narXs",
        "colab_type": "code",
        "colab": {
          "base_uri": "https://localhost:8080/",
          "height": 596
        },
        "outputId": "21d92e87-f71f-4542-fad9-cd58552e0cde"
      },
      "source": [
        "df_mean = df.groupby('class').mean().T.sort_values(by = 'democrat', ascending = False)\n",
        "df_mean.plot.bar(figsize =(15,7))"
      ],
      "execution_count": 59,
      "outputs": [
        {
          "output_type": "execute_result",
          "data": {
            "text/plain": [
              "<matplotlib.axes._subplots.AxesSubplot at 0x7f8a5d7f3080>"
            ]
          },
          "metadata": {
            "tags": []
          },
          "execution_count": 59
        },
        {
          "output_type": "display_data",
          "data": {
            "image/png": "[encoded data removed]",
            "text/plain": [
              "<Figure size 1080x504 with 1 Axes>"
            ]
          },
          "metadata": {
            "tags": []
          }
        }
      ]
    },
    {
      "cell_type": "code",
      "metadata": {
        "id": "HuJRK0Omhh63",
        "colab_type": "code",
        "colab": {
          "base_uri": "https://localhost:8080/",
          "height": 163
        },
        "outputId": "6eeed3c4-78b7-4eae-ce0d-a5e4584d723a"
      },
      "source": [
        "df_mean.T"
      ],
      "execution_count": 65,
      "outputs": [
        {
          "output_type": "execute_result",
          "data": {
            "text/html": [
              "<div>\n",
              "<style scoped>\n",
              "    .dataframe tbody tr th:only-of-type {\n",
              "        vertical-align: middle;\n",
              "    }\n",
              "\n",
              "    .dataframe tbody tr th {\n",
              "        vertical-align: top;\n",
              "    }\n",
              "\n",
              "    .dataframe thead th {\n",
              "        text-align: right;\n",
              "    }\n",
              "</style>\n",
              "<table border=\"1\" class=\"dataframe\">\n",
              "  <thead>\n",
              "    <tr style=\"text-align: right;\">\n",
              "      <th></th>\n",
              "      <th>adopt_budget_res</th>\n",
              "      <th>nicaraguan_contras_aid</th>\n",
              "      <th>south_africa_export_admin_act</th>\n",
              "      <th>anti_sat_test_ban</th>\n",
              "      <th>mx_missle</th>\n",
              "      <th>duty_free_export</th>\n",
              "      <th>handicapped_infants</th>\n",
              "      <th>synfuels_corp_cutback</th>\n",
              "      <th>water_proj_costshare</th>\n",
              "      <th>religious_grps_in_schools</th>\n",
              "      <th>immigration</th>\n",
              "      <th>crime</th>\n",
              "      <th>superfund_right_to_sue</th>\n",
              "      <th>el_salvador_aid</th>\n",
              "      <th>edu_spending</th>\n",
              "      <th>physician_fee_frz</th>\n",
              "    </tr>\n",
              "    <tr>\n",
              "      <th>class</th>\n",
              "      <th></th>\n",
              "      <th></th>\n",
              "      <th></th>\n",
              "      <th></th>\n",
              "      <th></th>\n",
              "      <th></th>\n",
              "      <th></th>\n",
              "      <th></th>\n",
              "      <th></th>\n",
              "      <th></th>\n",
              "      <th></th>\n",
              "      <th></th>\n",
              "      <th></th>\n",
              "      <th></th>\n",
              "      <th></th>\n",
              "      <th></th>\n",
              "    </tr>\n",
              "  </thead>\n",
              "  <tbody>\n",
              "    <tr>\n",
              "      <th>democrat</th>\n",
              "      <td>0.756554</td>\n",
              "      <td>0.64794</td>\n",
              "      <td>0.602996</td>\n",
              "      <td>0.52809</td>\n",
              "      <td>0.479401</td>\n",
              "      <td>0.258427</td>\n",
              "      <td>0.202247</td>\n",
              "      <td>0.011236</td>\n",
              "      <td>0.003745</td>\n",
              "      <td>-0.044944</td>\n",
              "      <td>-0.056180</td>\n",
              "      <td>-0.288390</td>\n",
              "      <td>-0.397004</td>\n",
              "      <td>-0.543071</td>\n",
              "      <td>-0.662921</td>\n",
              "      <td>-0.865169</td>\n",
              "    </tr>\n",
              "    <tr>\n",
              "      <th>republican</th>\n",
              "      <td>-0.714286</td>\n",
              "      <td>-0.64881</td>\n",
              "      <td>0.273810</td>\n",
              "      <td>-0.50000</td>\n",
              "      <td>-0.755952</td>\n",
              "      <td>-0.761905</td>\n",
              "      <td>-0.613095</td>\n",
              "      <td>-0.696429</td>\n",
              "      <td>0.011905</td>\n",
              "      <td>0.785714</td>\n",
              "      <td>0.113095</td>\n",
              "      <td>0.922619</td>\n",
              "      <td>0.678571</td>\n",
              "      <td>0.886905</td>\n",
              "      <td>0.684524</td>\n",
              "      <td>0.958333</td>\n",
              "    </tr>\n",
              "  </tbody>\n",
              "</table>\n",
              "</div>"
            ],
            "text/plain": [
              "            adopt_budget_res  ...  physician_fee_frz\n",
              "class                         ...                   \n",
              "democrat            0.756554  ...          -0.865169\n",
              "republican         -0.714286  ...           0.958333\n",
              "\n",
              "[2 rows x 16 columns]"
            ]
          },
          "metadata": {
            "tags": []
          },
          "execution_count": 65
        }
      ]
    },
    {
      "cell_type": "code",
      "metadata": {
        "id": "G9Ght0zTdZ2G",
        "colab_type": "code",
        "colab": {
          "base_uri": "https://localhost:8080/",
          "height": 36
        },
        "outputId": "839fa53a-955a-4c9e-a333-1cf79ac659b6"
      },
      "source": [
        "df_size = df['class'].value_counts().values\n",
        "df_size"
      ],
      "execution_count": 55,
      "outputs": [
        {
          "output_type": "execute_result",
          "data": {
            "text/plain": [
              "array([267, 168])"
            ]
          },
          "metadata": {
            "tags": []
          },
          "execution_count": 55
        }
      ]
    },
    {
      "cell_type": "code",
      "metadata": {
        "id": "L-Q1-_6ocr7f",
        "colab_type": "code",
        "colab": {
          "base_uri": "https://localhost:8080/",
          "height": 163
        },
        "outputId": "703d4d32-7b0e-4223-a696-dc343d7c09c7"
      },
      "source": [
        "df_std = df.groupby('class').std()\n",
        "df_std"
      ],
      "execution_count": 63,
      "outputs": [
        {
          "output_type": "execute_result",
          "data": {
            "text/html": [
              "<div>\n",
              "<style scoped>\n",
              "    .dataframe tbody tr th:only-of-type {\n",
              "        vertical-align: middle;\n",
              "    }\n",
              "\n",
              "    .dataframe tbody tr th {\n",
              "        vertical-align: top;\n",
              "    }\n",
              "\n",
              "    .dataframe thead th {\n",
              "        text-align: right;\n",
              "    }\n",
              "</style>\n",
              "<table border=\"1\" class=\"dataframe\">\n",
              "  <thead>\n",
              "    <tr style=\"text-align: right;\">\n",
              "      <th></th>\n",
              "      <th>handicapped_infants</th>\n",
              "      <th>water_proj_costshare</th>\n",
              "      <th>adopt_budget_res</th>\n",
              "      <th>physician_fee_frz</th>\n",
              "      <th>el_salvador_aid</th>\n",
              "      <th>religious_grps_in_schools</th>\n",
              "      <th>anti_sat_test_ban</th>\n",
              "      <th>nicaraguan_contras_aid</th>\n",
              "      <th>mx_missle</th>\n",
              "      <th>immigration</th>\n",
              "      <th>synfuels_corp_cutback</th>\n",
              "      <th>edu_spending</th>\n",
              "      <th>superfund_right_to_sue</th>\n",
              "      <th>crime</th>\n",
              "      <th>duty_free_export</th>\n",
              "      <th>south_africa_export_admin_act</th>\n",
              "    </tr>\n",
              "    <tr>\n",
              "      <th>class</th>\n",
              "      <th></th>\n",
              "      <th></th>\n",
              "      <th></th>\n",
              "      <th></th>\n",
              "      <th></th>\n",
              "      <th></th>\n",
              "      <th></th>\n",
              "      <th></th>\n",
              "      <th></th>\n",
              "      <th></th>\n",
              "      <th></th>\n",
              "      <th></th>\n",
              "      <th></th>\n",
              "      <th></th>\n",
              "      <th></th>\n",
              "      <th></th>\n",
              "    </tr>\n",
              "  </thead>\n",
              "  <tbody>\n",
              "    <tr>\n",
              "      <th>democrat</th>\n",
              "      <td>0.963778</td>\n",
              "      <td>0.947883</td>\n",
              "      <td>0.634758</td>\n",
              "      <td>0.471544</td>\n",
              "      <td>0.814010</td>\n",
              "      <td>0.983818</td>\n",
              "      <td>0.832921</td>\n",
              "      <td>0.753205</td>\n",
              "      <td>0.837641</td>\n",
              "      <td>0.992751</td>\n",
              "      <td>0.979040</td>\n",
              "      <td>0.703543</td>\n",
              "      <td>0.888349</td>\n",
              "      <td>0.939513</td>\n",
              "      <td>0.936255</td>\n",
              "      <td>0.574906</td>\n",
              "    </tr>\n",
              "    <tr>\n",
              "      <th>republican</th>\n",
              "      <td>0.780953</td>\n",
              "      <td>0.941321</td>\n",
              "      <td>0.684673</td>\n",
              "      <td>0.253223</td>\n",
              "      <td>0.443524</td>\n",
              "      <td>0.610711</td>\n",
              "      <td>0.847681</td>\n",
              "      <td>0.718780</td>\n",
              "      <td>0.642758</td>\n",
              "      <td>0.987500</td>\n",
              "      <td>0.681307</td>\n",
              "      <td>0.675844</td>\n",
              "      <td>0.694904</td>\n",
              "      <td>0.328251</td>\n",
              "      <td>0.591741</td>\n",
              "      <td>0.893773</td>\n",
              "    </tr>\n",
              "  </tbody>\n",
              "</table>\n",
              "</div>"
            ],
            "text/plain": [
              "            handicapped_infants  ...  south_africa_export_admin_act\n",
              "class                            ...                               \n",
              "democrat               0.963778  ...                       0.574906\n",
              "republican             0.780953  ...                       0.893773\n",
              "\n",
              "[2 rows x 16 columns]"
            ]
          },
          "metadata": {
            "tags": []
          },
          "execution_count": 63
        }
      ]
    },
    {
      "cell_type": "code",
      "metadata": {
        "id": "-TVnp264ed1U",
        "colab_type": "code",
        "colab": {
          "base_uri": "https://localhost:8080/",
          "height": 132
        },
        "outputId": "8c144ee8-545c-4763-b8dc-d7e886460413"
      },
      "source": [
        "df_republican_std_err = df_std[1:]/np.sqrt(df_size[1])\n",
        "df_republican_std_err\n"
      ],
      "execution_count": 56,
      "outputs": [
        {
          "output_type": "execute_result",
          "data": {
            "text/html": [
              "<div>\n",
              "<style scoped>\n",
              "    .dataframe tbody tr th:only-of-type {\n",
              "        vertical-align: middle;\n",
              "    }\n",
              "\n",
              "    .dataframe tbody tr th {\n",
              "        vertical-align: top;\n",
              "    }\n",
              "\n",
              "    .dataframe thead th {\n",
              "        text-align: right;\n",
              "    }\n",
              "</style>\n",
              "<table border=\"1\" class=\"dataframe\">\n",
              "  <thead>\n",
              "    <tr style=\"text-align: right;\">\n",
              "      <th></th>\n",
              "      <th>handicapped_infants</th>\n",
              "      <th>water_proj_costshare</th>\n",
              "      <th>adopt_budget_res</th>\n",
              "      <th>physician_fee_frz</th>\n",
              "      <th>el_salvador_aid</th>\n",
              "      <th>religious_grps_in_schools</th>\n",
              "      <th>anti_sat_test_ban</th>\n",
              "      <th>nicaraguan_contras_aid</th>\n",
              "      <th>mx_missle</th>\n",
              "      <th>immigration</th>\n",
              "      <th>synfuels_corp_cutback</th>\n",
              "      <th>edu_spending</th>\n",
              "      <th>superfund_right_to_sue</th>\n",
              "      <th>crime</th>\n",
              "      <th>duty_free_export</th>\n",
              "      <th>south_africa_export_admin_act</th>\n",
              "    </tr>\n",
              "    <tr>\n",
              "      <th>class</th>\n",
              "      <th></th>\n",
              "      <th></th>\n",
              "      <th></th>\n",
              "      <th></th>\n",
              "      <th></th>\n",
              "      <th></th>\n",
              "      <th></th>\n",
              "      <th></th>\n",
              "      <th></th>\n",
              "      <th></th>\n",
              "      <th></th>\n",
              "      <th></th>\n",
              "      <th></th>\n",
              "      <th></th>\n",
              "      <th></th>\n",
              "      <th></th>\n",
              "    </tr>\n",
              "  </thead>\n",
              "  <tbody>\n",
              "    <tr>\n",
              "      <th>republican</th>\n",
              "      <td>0.060252</td>\n",
              "      <td>0.072624</td>\n",
              "      <td>0.052824</td>\n",
              "      <td>0.019537</td>\n",
              "      <td>0.034219</td>\n",
              "      <td>0.047117</td>\n",
              "      <td>0.0654</td>\n",
              "      <td>0.055455</td>\n",
              "      <td>0.04959</td>\n",
              "      <td>0.076187</td>\n",
              "      <td>0.052564</td>\n",
              "      <td>0.052142</td>\n",
              "      <td>0.053613</td>\n",
              "      <td>0.025325</td>\n",
              "      <td>0.045654</td>\n",
              "      <td>0.068956</td>\n",
              "    </tr>\n",
              "  </tbody>\n",
              "</table>\n",
              "</div>"
            ],
            "text/plain": [
              "            handicapped_infants  ...  south_africa_export_admin_act\n",
              "class                            ...                               \n",
              "republican             0.060252  ...                       0.068956\n",
              "\n",
              "[1 rows x 16 columns]"
            ]
          },
          "metadata": {
            "tags": []
          },
          "execution_count": 56
        }
      ]
    },
    {
      "cell_type": "code",
      "metadata": {
        "id": "g3AiSjlqgRZm",
        "colab_type": "code",
        "colab": {
          "base_uri": "https://localhost:8080/",
          "height": 132
        },
        "outputId": "f229bd67-0acc-4aa4-a34c-7858c93671a8"
      },
      "source": [
        "df_democrat_std_err = df_std[:1]/np.sqrt(df_size[0])\n",
        "df_democrat_std_err"
      ],
      "execution_count": 62,
      "outputs": [
        {
          "output_type": "execute_result",
          "data": {
            "text/html": [
              "<div>\n",
              "<style scoped>\n",
              "    .dataframe tbody tr th:only-of-type {\n",
              "        vertical-align: middle;\n",
              "    }\n",
              "\n",
              "    .dataframe tbody tr th {\n",
              "        vertical-align: top;\n",
              "    }\n",
              "\n",
              "    .dataframe thead th {\n",
              "        text-align: right;\n",
              "    }\n",
              "</style>\n",
              "<table border=\"1\" class=\"dataframe\">\n",
              "  <thead>\n",
              "    <tr style=\"text-align: right;\">\n",
              "      <th></th>\n",
              "      <th>handicapped_infants</th>\n",
              "      <th>water_proj_costshare</th>\n",
              "      <th>adopt_budget_res</th>\n",
              "      <th>physician_fee_frz</th>\n",
              "      <th>el_salvador_aid</th>\n",
              "      <th>religious_grps_in_schools</th>\n",
              "      <th>anti_sat_test_ban</th>\n",
              "      <th>nicaraguan_contras_aid</th>\n",
              "      <th>mx_missle</th>\n",
              "      <th>immigration</th>\n",
              "      <th>synfuels_corp_cutback</th>\n",
              "      <th>edu_spending</th>\n",
              "      <th>superfund_right_to_sue</th>\n",
              "      <th>crime</th>\n",
              "      <th>duty_free_export</th>\n",
              "      <th>south_africa_export_admin_act</th>\n",
              "    </tr>\n",
              "    <tr>\n",
              "      <th>class</th>\n",
              "      <th></th>\n",
              "      <th></th>\n",
              "      <th></th>\n",
              "      <th></th>\n",
              "      <th></th>\n",
              "      <th></th>\n",
              "      <th></th>\n",
              "      <th></th>\n",
              "      <th></th>\n",
              "      <th></th>\n",
              "      <th></th>\n",
              "      <th></th>\n",
              "      <th></th>\n",
              "      <th></th>\n",
              "      <th></th>\n",
              "      <th></th>\n",
              "    </tr>\n",
              "  </thead>\n",
              "  <tbody>\n",
              "    <tr>\n",
              "      <th>democrat</th>\n",
              "      <td>0.058982</td>\n",
              "      <td>0.058009</td>\n",
              "      <td>0.038847</td>\n",
              "      <td>0.028858</td>\n",
              "      <td>0.049817</td>\n",
              "      <td>0.060209</td>\n",
              "      <td>0.050974</td>\n",
              "      <td>0.046095</td>\n",
              "      <td>0.051263</td>\n",
              "      <td>0.060755</td>\n",
              "      <td>0.059916</td>\n",
              "      <td>0.043056</td>\n",
              "      <td>0.054366</td>\n",
              "      <td>0.057497</td>\n",
              "      <td>0.057298</td>\n",
              "      <td>0.035184</td>\n",
              "    </tr>\n",
              "  </tbody>\n",
              "</table>\n",
              "</div>"
            ],
            "text/plain": [
              "          handicapped_infants  ...  south_africa_export_admin_act\n",
              "class                          ...                               \n",
              "democrat             0.058982  ...                       0.035184\n",
              "\n",
              "[1 rows x 16 columns]"
            ]
          },
          "metadata": {
            "tags": []
          },
          "execution_count": 62
        }
      ]
    },
    {
      "cell_type": "code",
      "metadata": {
        "id": "3XvNWsEGZMOH",
        "colab_type": "code",
        "colab": {
          "base_uri": "https://localhost:8080/",
          "height": 132
        },
        "outputId": "ae2445a0-cc18-48be-ba8e-62268b8f0da5"
      },
      "source": [
        "\n",
        "t_dem = stats.t.ppf(0.975, df_size[0]-1)\n",
        "t_rep = stats.t.ppf(0.975, df_size[1]-1)\n",
        "\n",
        "confidence_int_rep = (df_mean.T[1:] - t_rep*df_republican_std_err, df_mean.T[1:]+t_rep*df_republican_std_err)\n",
        "confidence_int_rep[0]\n"
      ],
      "execution_count": 81,
      "outputs": [
        {
          "output_type": "execute_result",
          "data": {
            "text/html": [
              "<div>\n",
              "<style scoped>\n",
              "    .dataframe tbody tr th:only-of-type {\n",
              "        vertical-align: middle;\n",
              "    }\n",
              "\n",
              "    .dataframe tbody tr th {\n",
              "        vertical-align: top;\n",
              "    }\n",
              "\n",
              "    .dataframe thead th {\n",
              "        text-align: right;\n",
              "    }\n",
              "</style>\n",
              "<table border=\"1\" class=\"dataframe\">\n",
              "  <thead>\n",
              "    <tr style=\"text-align: right;\">\n",
              "      <th></th>\n",
              "      <th>adopt_budget_res</th>\n",
              "      <th>anti_sat_test_ban</th>\n",
              "      <th>crime</th>\n",
              "      <th>duty_free_export</th>\n",
              "      <th>edu_spending</th>\n",
              "      <th>el_salvador_aid</th>\n",
              "      <th>handicapped_infants</th>\n",
              "      <th>immigration</th>\n",
              "      <th>mx_missle</th>\n",
              "      <th>nicaraguan_contras_aid</th>\n",
              "      <th>physician_fee_frz</th>\n",
              "      <th>religious_grps_in_schools</th>\n",
              "      <th>south_africa_export_admin_act</th>\n",
              "      <th>superfund_right_to_sue</th>\n",
              "      <th>synfuels_corp_cutback</th>\n",
              "      <th>water_proj_costshare</th>\n",
              "    </tr>\n",
              "    <tr>\n",
              "      <th>class</th>\n",
              "      <th></th>\n",
              "      <th></th>\n",
              "      <th></th>\n",
              "      <th></th>\n",
              "      <th></th>\n",
              "      <th></th>\n",
              "      <th></th>\n",
              "      <th></th>\n",
              "      <th></th>\n",
              "      <th></th>\n",
              "      <th></th>\n",
              "      <th></th>\n",
              "      <th></th>\n",
              "      <th></th>\n",
              "      <th></th>\n",
              "      <th></th>\n",
              "    </tr>\n",
              "  </thead>\n",
              "  <tbody>\n",
              "    <tr>\n",
              "      <th>republican</th>\n",
              "      <td>-0.818574</td>\n",
              "      <td>-0.629117</td>\n",
              "      <td>0.87262</td>\n",
              "      <td>-0.852038</td>\n",
              "      <td>0.58158</td>\n",
              "      <td>0.819348</td>\n",
              "      <td>-0.732049</td>\n",
              "      <td>-0.037319</td>\n",
              "      <td>-0.853856</td>\n",
              "      <td>-0.758293</td>\n",
              "      <td>0.919763</td>\n",
              "      <td>0.692692</td>\n",
              "      <td>0.137671</td>\n",
              "      <td>0.572725</td>\n",
              "      <td>-0.800204</td>\n",
              "      <td>-0.131476</td>\n",
              "    </tr>\n",
              "  </tbody>\n",
              "</table>\n",
              "</div>"
            ],
            "text/plain": [
              "            adopt_budget_res  ...  water_proj_costshare\n",
              "class                         ...                      \n",
              "republican         -0.818574  ...             -0.131476\n",
              "\n",
              "[1 rows x 16 columns]"
            ]
          },
          "metadata": {
            "tags": []
          },
          "execution_count": 81
        }
      ]
    },
    {
      "cell_type": "code",
      "metadata": {
        "id": "xW62CzXokoe1",
        "colab_type": "code",
        "colab": {
          "base_uri": "https://localhost:8080/",
          "height": 132
        },
        "outputId": "fd54756e-6317-483d-f9b4-af24eba808f4"
      },
      "source": [
        "confidence_int_rep[1]"
      ],
      "execution_count": 83,
      "outputs": [
        {
          "output_type": "execute_result",
          "data": {
            "text/html": [
              "<div>\n",
              "<style scoped>\n",
              "    .dataframe tbody tr th:only-of-type {\n",
              "        vertical-align: middle;\n",
              "    }\n",
              "\n",
              "    .dataframe tbody tr th {\n",
              "        vertical-align: top;\n",
              "    }\n",
              "\n",
              "    .dataframe thead th {\n",
              "        text-align: right;\n",
              "    }\n",
              "</style>\n",
              "<table border=\"1\" class=\"dataframe\">\n",
              "  <thead>\n",
              "    <tr style=\"text-align: right;\">\n",
              "      <th></th>\n",
              "      <th>adopt_budget_res</th>\n",
              "      <th>anti_sat_test_ban</th>\n",
              "      <th>crime</th>\n",
              "      <th>duty_free_export</th>\n",
              "      <th>edu_spending</th>\n",
              "      <th>el_salvador_aid</th>\n",
              "      <th>handicapped_infants</th>\n",
              "      <th>immigration</th>\n",
              "      <th>mx_missle</th>\n",
              "      <th>nicaraguan_contras_aid</th>\n",
              "      <th>physician_fee_frz</th>\n",
              "      <th>religious_grps_in_schools</th>\n",
              "      <th>south_africa_export_admin_act</th>\n",
              "      <th>superfund_right_to_sue</th>\n",
              "      <th>synfuels_corp_cutback</th>\n",
              "      <th>water_proj_costshare</th>\n",
              "    </tr>\n",
              "    <tr>\n",
              "      <th>class</th>\n",
              "      <th></th>\n",
              "      <th></th>\n",
              "      <th></th>\n",
              "      <th></th>\n",
              "      <th></th>\n",
              "      <th></th>\n",
              "      <th></th>\n",
              "      <th></th>\n",
              "      <th></th>\n",
              "      <th></th>\n",
              "      <th></th>\n",
              "      <th></th>\n",
              "      <th></th>\n",
              "      <th></th>\n",
              "      <th></th>\n",
              "      <th></th>\n",
              "    </tr>\n",
              "  </thead>\n",
              "  <tbody>\n",
              "    <tr>\n",
              "      <th>republican</th>\n",
              "      <td>-0.609998</td>\n",
              "      <td>-0.370883</td>\n",
              "      <td>0.972618</td>\n",
              "      <td>-0.671772</td>\n",
              "      <td>0.787467</td>\n",
              "      <td>0.954462</td>\n",
              "      <td>-0.494142</td>\n",
              "      <td>0.26351</td>\n",
              "      <td>-0.658049</td>\n",
              "      <td>-0.539326</td>\n",
              "      <td>0.996904</td>\n",
              "      <td>0.878737</td>\n",
              "      <td>0.409948</td>\n",
              "      <td>0.784418</td>\n",
              "      <td>-0.592653</td>\n",
              "      <td>0.155285</td>\n",
              "    </tr>\n",
              "  </tbody>\n",
              "</table>\n",
              "</div>"
            ],
            "text/plain": [
              "            adopt_budget_res  ...  water_proj_costshare\n",
              "class                         ...                      \n",
              "republican         -0.609998  ...              0.155285\n",
              "\n",
              "[1 rows x 16 columns]"
            ]
          },
          "metadata": {
            "tags": []
          },
          "execution_count": 83
        }
      ]
    },
    {
      "cell_type": "code",
      "metadata": {
        "id": "YXwsR-SBkA1u",
        "colab_type": "code",
        "colab": {
          "base_uri": "https://localhost:8080/",
          "height": 167
        },
        "outputId": "15fe1145-c0bf-497d-cc93-f815c87c2c88"
      },
      "source": [
        "CI = stats.t.interval(0.95,99, loc = df_mean.T[1:] ,scale = df_republican_std_err)\n",
        "CI"
      ],
      "execution_count": 112,
      "outputs": [
        {
          "output_type": "execute_result",
          "data": {
            "text/plain": [
              "(array([[-0.8338384 , -0.79291225,  0.16899595, -0.53876477, -0.82384958,\n",
              "         -0.85539591, -0.74286303, -0.80646355, -0.08649229,  0.63454215,\n",
              "          0.00879696,  0.81915703,  0.57219161,  0.83665422,  0.59393682,\n",
              "          0.82150944]]),\n",
              " array([[-0.59473303, -0.5047068 ,  0.3786231 , -0.46123523, -0.68805519,\n",
              "         -0.66841361, -0.48332745, -0.5863936 ,  0.11030181,  0.93688642,\n",
              "          0.21739352,  1.02608107,  0.78495124,  0.9371553 ,  0.7751108 ,\n",
              "          1.09515723]]))"
            ]
          },
          "metadata": {
            "tags": []
          },
          "execution_count": 112
        }
      ]
    },
    {
      "cell_type": "code",
      "metadata": {
        "id": "YDU636SYpw-R",
        "colab_type": "code",
        "colab": {
          "base_uri": "https://localhost:8080/",
          "height": 92
        },
        "outputId": "fc049961-23b4-49c9-bd76-015b46e26fc0"
      },
      "source": [
        "df[df['class'] == 'republican']['adopt_budget_res'].value_counts()"
      ],
      "execution_count": 186,
      "outputs": [
        {
          "output_type": "execute_result",
          "data": {
            "text/plain": [
              "-1    142\n",
              " 1     22\n",
              " 0      4\n",
              "Name: adopt_budget_res, dtype: int64"
            ]
          },
          "metadata": {
            "tags": []
          },
          "execution_count": 186
        }
      ]
    },
    {
      "cell_type": "code",
      "metadata": {
        "id": "i29K-PHyn25-",
        "colab_type": "code",
        "colab": {
          "base_uri": "https://localhost:8080/",
          "height": 288
        },
        "outputId": "53ca860f-3ece-49f5-b3aa-91627a17f189"
      },
      "source": [
        "sns.kdeplot(df[df['class'] == 'republican']['adopt_budget_res'], bw = .1)\n",
        "plt.axvline(x= df_mean.T['adopt_budget_res'][1] , color = 'k')\n",
        "plt.axvline(x= confidence_int_rep[0]['adopt_budget_res'][0], color = 'r')\n",
        "plt.axvline(x= confidence_int_rep[1]['adopt_budget_res'][0], color = 'r')"
      ],
      "execution_count": 206,
      "outputs": [
        {
          "output_type": "execute_result",
          "data": {
            "text/plain": [
              "<matplotlib.lines.Line2D at 0x7f8a5c6bd828>"
            ]
          },
          "metadata": {
            "tags": []
          },
          "execution_count": 206
        },
        {
          "output_type": "display_data",
          "data": {
            "image/png": "[encoded data removed]",
            "text/plain": [
              "<Figure size 432x288 with 1 Axes>"
            ]
          },
          "metadata": {
            "tags": []
          }
        }
      ]
    },
    {
      "cell_type": "markdown",
      "metadata": {
        "id": "nyJ3ySr7R2k9",
        "colab_type": "text"
      },
      "source": [
        "## Resources\n",
        "\n",
        "- [Interactive visualize the Chi-Squared test](https://homepage.divms.uiowa.edu/~mbognar/applets/chisq.html)\n",
        "- [Calculation of Chi-Squared test statistic](https://en.wikipedia.org/wiki/Pearson%27s_chi-squared_test)\n",
        "- [Visualization of a confidence interval generated by R code](https://commons.wikimedia.org/wiki/File:Confidence-interval.svg)\n",
        "- [Expected value of a squared standard normal](https://math.stackexchange.com/questions/264061/expected-value-calculation-for-squared-normal-distribution) (it's 1 - which is why the expected value of a Chi-Squared with $n$ degrees of freedom is $n$, as it's the sum of $n$ squared standard normals)"
      ]
    }
  ]
}