{
  "nbformat": 4,
  "nbformat_minor": 0,
  "metadata": {
    "colab": {
      "name": "Copy of LS_DS6_132_Sampling_Confidence_Intervals_and_Hypothesis_Testing.ipynb",
      "version": "0.3.2",
      "provenance": [],
      "collapsed_sections": [],
      "include_colab_link": true
    },
    "kernelspec": {
      "name": "python3",
      "display_name": "Python 3"
    }
  },
  "cells": [
    {
      "cell_type": "markdown",
      "metadata": {
        "id": "view-in-github",
        "colab_type": "text"
      },
      "source": [
        "<a href=\"https://colab.research.google.com/github/deanhadzi/DS-Unit-1-Sprint-3-Statistical-Tests-and-Experiments/blob/master/module2-sampling-confidence-intervals-and-hypothesis-testing/LS_DS_132_Sampling_Confidence_Intervals_and_Hypothesis_Testing_Updated.ipynb\" target=\"_parent\"><img src=\"https://colab.research.google.com/assets/colab-badge.svg\" alt=\"Open In Colab\"/></a>"
      ]
    },
    {
      "cell_type": "markdown",
      "metadata": {
        "id": "838Dmw1kM2LK",
        "colab_type": "text"
      },
      "source": [
        "# Lambda School Data Science Module 132\n",
        "## Sampling, Confidence Intervals, and Hypothesis Testing"
      ]
    },
    {
      "cell_type": "markdown",
      "metadata": {
        "id": "dbcPKIo5M6Ny",
        "colab_type": "text"
      },
      "source": [
        "## Prepare - examine other available hypothesis tests\n",
        "\n",
        "If you had to pick a single hypothesis test in your toolbox, t-test would probably be the best choice - but the good news is you don't have to pick just one! Here's some of the others to be aware of:"
      ]
    },
    {
      "cell_type": "code",
      "metadata": {
        "id": "tlBel8j9M6tB",
        "colab_type": "code",
        "outputId": "8fa3c6b0-6f55-482b-96aa-efe679453c4f",
        "colab": {
          "base_uri": "https://localhost:8080/",
          "height": 187
        }
      },
      "source": [
        "import numpy as np\n",
        "from scipy.stats import chisquare  # One-way chi square test\n",
        "\n",
        "# Chi square can take any crosstab/table and test the independence of rows/cols\n",
        "# The null hypothesis is that the rows/cols are independent -> low chi square\n",
        "# The alternative is that there is a dependence -> high chi square\n",
        "# Be aware! Chi square does *not* tell you direction/causation\n",
        "\n",
        "ind_obs = np.array([[1, 1], [2, 2]]).T\n",
        "print(ind_obs)\n",
        "print(chisquare(ind_obs, axis=None))\n",
        "\n",
        "dep_obs = np.array([[16, 18, 16, 14, 12, 12], [32, 24, 16, 28, 20, 24]]).T\n",
        "print(dep_obs)\n",
        "print(chisquare(dep_obs, axis=None))"
      ],
      "execution_count": 0,
      "outputs": [
        {
          "output_type": "stream",
          "text": [
            "[[1 2]\n",
            " [1 2]]\n",
            "Power_divergenceResult(statistic=0.6666666666666666, pvalue=0.8810148425137847)\n",
            "[[16 32]\n",
            " [18 24]\n",
            " [16 16]\n",
            " [14 28]\n",
            " [12 20]\n",
            " [12 24]]\n",
            "Power_divergenceResult(statistic=23.31034482758621, pvalue=0.015975692534127565)\n"
          ],
          "name": "stdout"
        }
      ]
    },
    {
      "cell_type": "code",
      "metadata": {
        "id": "nN0BdNiDPxbk",
        "colab_type": "code",
        "outputId": "d149e833-5904-42ae-9b64-b3e5b71799f8",
        "colab": {
          "base_uri": "https://localhost:8080/",
          "height": 34
        }
      },
      "source": [
        "# Distribution tests:\n",
        "# We often assume that something is normal, but it can be important to *check*\n",
        "\n",
        "# For example, later on with predictive modeling, a typical assumption is that\n",
        "# residuals (prediction errors) are normal - checking is a good diagnostic\n",
        "\n",
        "from scipy.stats import normaltest\n",
        "# Poisson models arrival times and is related to the binomial (coinflip)\n",
        "sample = np.random.poisson(5, 1000)\n",
        "print(normaltest(sample))  # Pretty clearly not normal"
      ],
      "execution_count": 0,
      "outputs": [
        {
          "output_type": "stream",
          "text": [
            "NormaltestResult(statistic=22.273646023922907, pvalue=1.4565963588062096e-05)\n"
          ],
          "name": "stdout"
        }
      ]
    },
    {
      "cell_type": "code",
      "metadata": {
        "id": "P5t0WhkDReFO",
        "colab_type": "code",
        "outputId": "77a770b3-e844-4477-d373-fbc8ac374e20",
        "colab": {
          "base_uri": "https://localhost:8080/",
          "height": 50
        }
      },
      "source": [
        "# Kruskal-Wallis H-test - compare the median rank between 2+ groups\n",
        "# Can be applied to ranking decisions/outcomes/recommendations\n",
        "# The underlying math comes from chi-square distribution, and is best for n>5\n",
        "from scipy.stats import kruskal\n",
        "\n",
        "x1 = [1, 3, 5, 7, 9]\n",
        "y1 = [2, 4, 6, 8, 10]\n",
        "print(kruskal(x1, y1))  # x1 is a little better, but not \"significantly\" so\n",
        "\n",
        "x2 = [1, 1, 1]\n",
        "y2 = [2, 2, 2]\n",
        "z = [2, 2]  # Hey, a third group, and of different size!\n",
        "print(kruskal(x2, y2, z))  # x clearly dominates"
      ],
      "execution_count": 0,
      "outputs": [
        {
          "output_type": "stream",
          "text": [
            "KruskalResult(statistic=0.2727272727272734, pvalue=0.6015081344405895)\n",
            "KruskalResult(statistic=7.0, pvalue=0.0301973834223185)\n"
          ],
          "name": "stdout"
        }
      ]
    },
    {
      "cell_type": "markdown",
      "metadata": {
        "id": "7pT3IP36Rh0b",
        "colab_type": "text"
      },
      "source": [
        "And there's many more! `scipy.stats` is fairly comprehensive, though there are even more available if you delve into the extended world of statistics packages. As tests get increasingly obscure and specialized, the importance of knowing them by heart becomes small - but being able to look them up and figure them out when they *are* relevant is still important."
      ]
    },
    {
      "cell_type": "markdown",
      "metadata": {
        "id": "3JqroCQYQqhy",
        "colab_type": "text"
      },
      "source": [
        "## T-test Assumptions"
      ]
    },
    {
      "cell_type": "code",
      "metadata": {
        "id": "sqy2hEFRZnvI",
        "colab_type": "code",
        "colab": {}
      },
      "source": [
        "from scipy.stats import ttest_ind\n",
        "\n",
        "?ttest_ind"
      ],
      "execution_count": 0,
      "outputs": []
    },
    {
      "cell_type": "markdown",
      "metadata": {
        "id": "xI-PcK5sZ1A9",
        "colab_type": "text"
      },
      "source": [
        "<https://statistics.laerd.com/statistical-guides/independent-t-test-statistical-guide.php>\n",
        "\n",
        "- Independence of means\n",
        "\n",
        "Are the means of our voting data independent (do not affect the outcome of one another)?\n",
        "  \n",
        "The best way to increase thel likelihood of our means being independent is to randomly sample (which we did not do).\n",
        "\n",
        "- \"Homogeneity\" of Variance? \n",
        "\n",
        "Is the magnitude of the variance between the two roughly the same?\n",
        "\n",
        "I think we're OK on this one for the voting data, although it probably could be better, one party was larger than the other.\n",
        "\n",
        "If we suspect this to be a problem then we can use Welch's T-test"
      ]
    },
    {
      "cell_type": "markdown",
      "metadata": {
        "id": "tjgoHHwGayoC",
        "colab_type": "text"
      },
      "source": [
        "- \"Dependent Variable\" (sample means) are Distributed Normally\n",
        "\n",
        "<https://stats.stackexchange.com/questions/9573/t-test-for-non-normal-when-n50>\n",
        "\n",
        "Lots of statistical tests depend on normal distributions. We can test for normality using Scipy as was shown above.\n",
        "\n",
        "This assumption is often assumed even if the assumption is a weak one. If you strongly suspect that things are not normally distributed, you can transform your data to get it looking more normal and then run your test. This problem typically goes away for large sample sizes (yay Central Limit Theorem) and is often why you don't hear it brought up. People declare the assumption to be satisfied either way. \n",
        "\n"
      ]
    },
    {
      "cell_type": "markdown",
      "metadata": {
        "id": "bvvPV-RJN2vA",
        "colab_type": "text"
      },
      "source": [
        "## Central Limit Theorem\n",
        "\n"
      ]
    },
    {
      "cell_type": "code",
      "metadata": {
        "id": "FBLoOF8qOJeJ",
        "colab_type": "code",
        "outputId": "062aa567-69bd-46cd-f666-c18bc857526c",
        "colab": {
          "base_uri": "https://localhost:8080/",
          "height": 71
        }
      },
      "source": [
        "import numpy as np\n",
        "import matplotlib.pyplot as plt\n",
        "import pandas as pd\n",
        "\n",
        "N = 3000\n",
        "sample_means = []\n",
        "for x in range(0, N):\n",
        "    coinflips = np.random.binomial(n=1, p=.5, size=100)\n",
        "    one_sample = coinflips\n",
        "    sample_means.append(coinflips.mean())\n",
        "\n",
        "print(len(sample_means))\n",
        "print(sample_means)"
      ],
      "execution_count": 0,
      "outputs": [
        {
          "output_type": "stream",
          "text": [
            "3000\n",
            "[0.45, 0.52, 0.45, 0.51, 0.45, 0.58, 0.49, 0.49, 0.48, 0.4, 0.41, 0.49, 0.44, 0.49, 0.49, 0.49, 0.44, 0.45, 0.41, 0.48, 0.42, 0.49, 0.53, 0.41, 0.51, 0.57, 0.54, 0.54, 0.47, 0.56, 0.49, 0.54, 0.45, 0.55, 0.46, 0.51, 0.59, 0.51, 0.59, 0.56, 0.59, 0.47, 0.59, 0.41, 0.41, 0.46, 0.56, 0.49, 0.4, 0.44, 0.37, 0.51, 0.51, 0.53, 0.54, 0.4, 0.47, 0.39, 0.53, 0.51, 0.44, 0.55, 0.43, 0.55, 0.52, 0.44, 0.43, 0.45, 0.56, 0.54, 0.47, 0.46, 0.54, 0.53, 0.61, 0.52, 0.56, 0.5, 0.49, 0.55, 0.51, 0.5, 0.5, 0.52, 0.51, 0.46, 0.49, 0.42, 0.52, 0.46, 0.48, 0.43, 0.54, 0.47, 0.59, 0.43, 0.56, 0.47, 0.54, 0.5, 0.51, 0.59, 0.51, 0.44, 0.46, 0.5, 0.39, 0.47, 0.55, 0.49, 0.47, 0.53, 0.58, 0.53, 0.4, 0.53, 0.49, 0.47, 0.43, 0.4, 0.48, 0.64, 0.46, 0.49, 0.43, 0.58, 0.49, 0.54, 0.44, 0.46, 0.47, 0.53, 0.52, 0.52, 0.5, 0.5, 0.5, 0.46, 0.51, 0.55, 0.44, 0.52, 0.49, 0.45, 0.44, 0.44, 0.5, 0.48, 0.45, 0.49, 0.44, 0.46, 0.46, 0.54, 0.56, 0.57, 0.47, 0.45, 0.43, 0.53, 0.54, 0.51, 0.48, 0.46, 0.5, 0.52, 0.51, 0.47, 0.51, 0.51, 0.47, 0.45, 0.54, 0.59, 0.6, 0.44, 0.52, 0.48, 0.57, 0.45, 0.56, 0.49, 0.4, 0.56, 0.4, 0.47, 0.46, 0.46, 0.54, 0.49, 0.45, 0.51, 0.45, 0.56, 0.43, 0.58, 0.51, 0.45, 0.45, 0.48, 0.5, 0.61, 0.46, 0.49, 0.49, 0.42, 0.49, 0.48, 0.52, 0.51, 0.52, 0.53, 0.54, 0.43, 0.55, 0.48, 0.6, 0.52, 0.52, 0.46, 0.53, 0.53, 0.51, 0.47, 0.53, 0.42, 0.4, 0.52, 0.44, 0.56, 0.54, 0.49, 0.5, 0.46, 0.5, 0.44, 0.55, 0.58, 0.39, 0.51, 0.55, 0.53, 0.49, 0.48, 0.38, 0.55, 0.52, 0.56, 0.43, 0.49, 0.5, 0.58, 0.48, 0.54, 0.47, 0.48, 0.46, 0.5, 0.54, 0.49, 0.5, 0.53, 0.53, 0.49, 0.51, 0.54, 0.47, 0.54, 0.55, 0.48, 0.45, 0.5, 0.44, 0.57, 0.57, 0.48, 0.53, 0.5, 0.54, 0.48, 0.47, 0.47, 0.55, 0.46, 0.55, 0.39, 0.45, 0.4, 0.49, 0.52, 0.56, 0.5, 0.47, 0.44, 0.49, 0.49, 0.58, 0.53, 0.5, 0.41, 0.44, 0.45, 0.4, 0.58, 0.49, 0.49, 0.37, 0.59, 0.44, 0.5, 0.43, 0.48, 0.51, 0.47, 0.46, 0.54, 0.51, 0.51, 0.51, 0.63, 0.51, 0.47, 0.52, 0.53, 0.57, 0.49, 0.52, 0.58, 0.51, 0.51, 0.53, 0.53, 0.44, 0.52, 0.53, 0.44, 0.56, 0.51, 0.55, 0.45, 0.53, 0.52, 0.59, 0.45, 0.53, 0.46, 0.5, 0.41, 0.45, 0.48, 0.46, 0.47, 0.45, 0.45, 0.55, 0.51, 0.51, 0.54, 0.51, 0.46, 0.49, 0.42, 0.59, 0.51, 0.56, 0.37, 0.48, 0.49, 0.43, 0.43, 0.49, 0.46, 0.56, 0.55, 0.5, 0.52, 0.55, 0.53, 0.48, 0.51, 0.48, 0.44, 0.5, 0.53, 0.52, 0.37, 0.41, 0.51, 0.44, 0.49, 0.59, 0.61, 0.47, 0.6, 0.54, 0.52, 0.48, 0.45, 0.52, 0.51, 0.47, 0.58, 0.43, 0.48, 0.52, 0.35, 0.47, 0.47, 0.5, 0.47, 0.58, 0.52, 0.56, 0.45, 0.58, 0.48, 0.42, 0.4, 0.49, 0.6, 0.59, 0.49, 0.53, 0.61, 0.59, 0.54, 0.5, 0.53, 0.47, 0.44, 0.43, 0.61, 0.48, 0.53, 0.54, 0.51, 0.47, 0.53, 0.5, 0.61, 0.55, 0.53, 0.5, 0.6, 0.45, 0.5, 0.53, 0.44, 0.57, 0.57, 0.46, 0.54, 0.57, 0.47, 0.48, 0.53, 0.47, 0.48, 0.66, 0.5, 0.47, 0.47, 0.45, 0.5, 0.54, 0.57, 0.47, 0.56, 0.43, 0.53, 0.52, 0.55, 0.61, 0.51, 0.55, 0.45, 0.52, 0.49, 0.55, 0.55, 0.55, 0.47, 0.49, 0.45, 0.51, 0.47, 0.42, 0.58, 0.45, 0.45, 0.57, 0.48, 0.49, 0.43, 0.48, 0.5, 0.47, 0.58, 0.51, 0.58, 0.53, 0.44, 0.44, 0.51, 0.53, 0.45, 0.49, 0.52, 0.53, 0.43, 0.51, 0.47, 0.46, 0.51, 0.48, 0.45, 0.56, 0.48, 0.58, 0.48, 0.47, 0.51, 0.5, 0.57, 0.44, 0.44, 0.47, 0.43, 0.45, 0.53, 0.51, 0.51, 0.54, 0.5, 0.57, 0.44, 0.51, 0.46, 0.48, 0.48, 0.56, 0.46, 0.52, 0.5, 0.57, 0.52, 0.55, 0.47, 0.47, 0.54, 0.59, 0.54, 0.58, 0.49, 0.41, 0.55, 0.62, 0.55, 0.51, 0.5, 0.51, 0.5, 0.51, 0.52, 0.5, 0.53, 0.47, 0.36, 0.45, 0.5, 0.61, 0.61, 0.47, 0.36, 0.43, 0.5, 0.54, 0.5, 0.49, 0.5, 0.45, 0.48, 0.47, 0.56, 0.53, 0.58, 0.56, 0.53, 0.39, 0.53, 0.49, 0.47, 0.43, 0.49, 0.52, 0.52, 0.45, 0.57, 0.44, 0.54, 0.49, 0.54, 0.55, 0.57, 0.44, 0.47, 0.52, 0.44, 0.54, 0.53, 0.53, 0.45, 0.53, 0.41, 0.46, 0.5, 0.46, 0.48, 0.55, 0.53, 0.57, 0.52, 0.57, 0.57, 0.46, 0.46, 0.59, 0.5, 0.52, 0.62, 0.58, 0.52, 0.4, 0.47, 0.51, 0.53, 0.45, 0.49, 0.58, 0.56, 0.61, 0.58, 0.57, 0.54, 0.56, 0.45, 0.41, 0.52, 0.53, 0.54, 0.45, 0.42, 0.45, 0.54, 0.52, 0.48, 0.46, 0.56, 0.4, 0.44, 0.41, 0.51, 0.49, 0.44, 0.55, 0.52, 0.49, 0.51, 0.51, 0.61, 0.47, 0.38, 0.51, 0.6, 0.49, 0.46, 0.45, 0.55, 0.51, 0.49, 0.46, 0.39, 0.6, 0.56, 0.42, 0.46, 0.55, 0.61, 0.57, 0.57, 0.51, 0.47, 0.47, 0.51, 0.55, 0.44, 0.59, 0.56, 0.5, 0.61, 0.57, 0.45, 0.61, 0.47, 0.53, 0.52, 0.44, 0.56, 0.46, 0.53, 0.49, 0.47, 0.52, 0.41, 0.58, 0.51, 0.48, 0.46, 0.56, 0.36, 0.53, 0.57, 0.58, 0.48, 0.45, 0.41, 0.51, 0.46, 0.56, 0.52, 0.5, 0.51, 0.49, 0.52, 0.5, 0.43, 0.48, 0.53, 0.52, 0.48, 0.43, 0.48, 0.5, 0.44, 0.45, 0.47, 0.56, 0.51, 0.5, 0.45, 0.48, 0.51, 0.52, 0.47, 0.52, 0.52, 0.44, 0.53, 0.47, 0.38, 0.46, 0.46, 0.56, 0.57, 0.55, 0.49, 0.43, 0.54, 0.55, 0.5, 0.45, 0.47, 0.41, 0.64, 0.5, 0.49, 0.51, 0.58, 0.43, 0.53, 0.49, 0.52, 0.5, 0.51, 0.46, 0.53, 0.52, 0.48, 0.56, 0.57, 0.54, 0.5, 0.56, 0.53, 0.56, 0.5, 0.46, 0.52, 0.42, 0.51, 0.53, 0.47, 0.53, 0.49, 0.55, 0.47, 0.42, 0.48, 0.55, 0.46, 0.51, 0.43, 0.52, 0.56, 0.45, 0.54, 0.52, 0.53, 0.64, 0.54, 0.57, 0.53, 0.44, 0.47, 0.44, 0.51, 0.54, 0.52, 0.51, 0.53, 0.54, 0.53, 0.48, 0.55, 0.61, 0.44, 0.57, 0.51, 0.59, 0.41, 0.45, 0.48, 0.45, 0.48, 0.48, 0.52, 0.48, 0.49, 0.47, 0.5, 0.5, 0.47, 0.42, 0.46, 0.45, 0.48, 0.51, 0.44, 0.47, 0.42, 0.61, 0.41, 0.49, 0.47, 0.39, 0.58, 0.46, 0.46, 0.48, 0.6, 0.48, 0.52, 0.55, 0.51, 0.54, 0.5, 0.59, 0.53, 0.48, 0.45, 0.49, 0.45, 0.41, 0.5, 0.54, 0.5, 0.51, 0.52, 0.52, 0.58, 0.47, 0.55, 0.5, 0.49, 0.51, 0.52, 0.61, 0.54, 0.5, 0.5, 0.48, 0.49, 0.48, 0.5, 0.52, 0.55, 0.47, 0.5, 0.54, 0.46, 0.47, 0.5, 0.54, 0.49, 0.44, 0.61, 0.55, 0.42, 0.56, 0.5, 0.49, 0.49, 0.52, 0.43, 0.56, 0.43, 0.44, 0.52, 0.47, 0.58, 0.54, 0.43, 0.43, 0.43, 0.54, 0.58, 0.51, 0.53, 0.55, 0.48, 0.52, 0.47, 0.57, 0.59, 0.55, 0.43, 0.56, 0.49, 0.43, 0.49, 0.43, 0.42, 0.5, 0.6, 0.52, 0.44, 0.5, 0.53, 0.53, 0.51, 0.5, 0.53, 0.49, 0.55, 0.47, 0.53, 0.53, 0.48, 0.48, 0.51, 0.52, 0.46, 0.52, 0.55, 0.45, 0.46, 0.53, 0.51, 0.38, 0.55, 0.48, 0.43, 0.47, 0.49, 0.44, 0.51, 0.46, 0.55, 0.42, 0.48, 0.52, 0.48, 0.41, 0.51, 0.44, 0.52, 0.51, 0.47, 0.45, 0.52, 0.59, 0.47, 0.46, 0.54, 0.41, 0.5, 0.47, 0.5, 0.54, 0.52, 0.54, 0.47, 0.51, 0.48, 0.48, 0.48, 0.56, 0.54, 0.46, 0.47, 0.58, 0.48, 0.46, 0.47, 0.47, 0.39, 0.47, 0.46, 0.54, 0.52, 0.55, 0.46, 0.5, 0.53, 0.48, 0.48, 0.49, 0.48, 0.46, 0.43, 0.51, 0.56, 0.5, 0.42, 0.46, 0.55, 0.49, 0.52, 0.49, 0.51, 0.49, 0.44, 0.51, 0.44, 0.51, 0.5, 0.47, 0.45, 0.56, 0.58, 0.41, 0.57, 0.45, 0.54, 0.49, 0.51, 0.61, 0.69, 0.49, 0.46, 0.56, 0.44, 0.44, 0.54, 0.59, 0.52, 0.56, 0.51, 0.54, 0.51, 0.58, 0.56, 0.53, 0.5, 0.51, 0.47, 0.55, 0.48, 0.57, 0.43, 0.48, 0.43, 0.6, 0.43, 0.48, 0.46, 0.51, 0.5, 0.37, 0.53, 0.52, 0.56, 0.48, 0.49, 0.57, 0.49, 0.44, 0.44, 0.44, 0.52, 0.56, 0.45, 0.51, 0.53, 0.49, 0.52, 0.45, 0.49, 0.52, 0.48, 0.46, 0.54, 0.5, 0.52, 0.51, 0.47, 0.49, 0.53, 0.6, 0.45, 0.59, 0.5, 0.59, 0.47, 0.41, 0.49, 0.51, 0.55, 0.45, 0.4, 0.53, 0.43, 0.56, 0.4, 0.56, 0.51, 0.44, 0.43, 0.57, 0.52, 0.5, 0.53, 0.5, 0.51, 0.47, 0.58, 0.39, 0.51, 0.39, 0.5, 0.45, 0.48, 0.56, 0.42, 0.48, 0.5, 0.37, 0.59, 0.5, 0.47, 0.57, 0.51, 0.51, 0.59, 0.53, 0.51, 0.5, 0.48, 0.55, 0.47, 0.59, 0.49, 0.59, 0.54, 0.48, 0.53, 0.58, 0.49, 0.51, 0.57, 0.44, 0.45, 0.49, 0.51, 0.55, 0.57, 0.54, 0.47, 0.55, 0.43, 0.56, 0.42, 0.42, 0.51, 0.52, 0.4, 0.49, 0.43, 0.4, 0.52, 0.48, 0.51, 0.53, 0.42, 0.5, 0.48, 0.47, 0.48, 0.56, 0.51, 0.45, 0.42, 0.43, 0.57, 0.56, 0.56, 0.47, 0.55, 0.53, 0.55, 0.52, 0.46, 0.48, 0.5, 0.49, 0.53, 0.42, 0.49, 0.4, 0.54, 0.48, 0.44, 0.5, 0.5, 0.5, 0.47, 0.55, 0.5, 0.54, 0.44, 0.44, 0.5, 0.39, 0.48, 0.54, 0.49, 0.5, 0.52, 0.54, 0.54, 0.5, 0.49, 0.44, 0.51, 0.53, 0.46, 0.55, 0.5, 0.5, 0.51, 0.45, 0.46, 0.55, 0.47, 0.52, 0.53, 0.48, 0.47, 0.51, 0.5, 0.52, 0.57, 0.54, 0.54, 0.5, 0.51, 0.5, 0.46, 0.46, 0.61, 0.49, 0.44, 0.56, 0.47, 0.49, 0.47, 0.55, 0.48, 0.55, 0.46, 0.43, 0.51, 0.54, 0.5, 0.42, 0.5, 0.47, 0.49, 0.51, 0.54, 0.47, 0.52, 0.5, 0.59, 0.4, 0.42, 0.46, 0.46, 0.45, 0.52, 0.49, 0.46, 0.57, 0.54, 0.48, 0.49, 0.49, 0.53, 0.52, 0.53, 0.47, 0.54, 0.52, 0.53, 0.42, 0.59, 0.51, 0.44, 0.57, 0.54, 0.59, 0.44, 0.52, 0.51, 0.43, 0.51, 0.55, 0.59, 0.55, 0.42, 0.47, 0.51, 0.6, 0.58, 0.46, 0.43, 0.47, 0.48, 0.44, 0.52, 0.57, 0.59, 0.49, 0.55, 0.52, 0.47, 0.47, 0.44, 0.53, 0.5, 0.51, 0.51, 0.49, 0.59, 0.5, 0.49, 0.45, 0.53, 0.47, 0.54, 0.45, 0.49, 0.46, 0.5, 0.47, 0.56, 0.51, 0.42, 0.5, 0.45, 0.49, 0.51, 0.53, 0.53, 0.43, 0.51, 0.48, 0.49, 0.54, 0.48, 0.53, 0.51, 0.54, 0.55, 0.48, 0.58, 0.54, 0.52, 0.53, 0.5, 0.53, 0.44, 0.5, 0.49, 0.52, 0.56, 0.55, 0.43, 0.52, 0.54, 0.36, 0.48, 0.47, 0.53, 0.48, 0.53, 0.51, 0.49, 0.52, 0.58, 0.46, 0.48, 0.47, 0.43, 0.43, 0.56, 0.43, 0.46, 0.54, 0.49, 0.52, 0.52, 0.55, 0.52, 0.52, 0.45, 0.5, 0.45, 0.51, 0.54, 0.42, 0.45, 0.46, 0.44, 0.52, 0.48, 0.52, 0.53, 0.45, 0.47, 0.48, 0.53, 0.56, 0.53, 0.5, 0.52, 0.44, 0.53, 0.34, 0.37, 0.5, 0.44, 0.44, 0.44, 0.46, 0.5, 0.52, 0.54, 0.57, 0.51, 0.49, 0.49, 0.46, 0.54, 0.52, 0.52, 0.57, 0.45, 0.43, 0.55, 0.52, 0.53, 0.55, 0.49, 0.54, 0.5, 0.5, 0.43, 0.47, 0.57, 0.41, 0.41, 0.58, 0.49, 0.54, 0.43, 0.53, 0.52, 0.49, 0.45, 0.45, 0.47, 0.51, 0.58, 0.42, 0.49, 0.51, 0.45, 0.47, 0.55, 0.5, 0.48, 0.54, 0.47, 0.53, 0.44, 0.5, 0.51, 0.44, 0.5, 0.46, 0.46, 0.44, 0.49, 0.49, 0.48, 0.5, 0.44, 0.48, 0.47, 0.46, 0.46, 0.42, 0.5, 0.53, 0.48, 0.41, 0.5, 0.56, 0.44, 0.5, 0.46, 0.58, 0.52, 0.47, 0.54, 0.52, 0.55, 0.47, 0.52, 0.48, 0.51, 0.42, 0.55, 0.54, 0.4, 0.58, 0.53, 0.48, 0.46, 0.46, 0.54, 0.5, 0.45, 0.6, 0.54, 0.53, 0.57, 0.55, 0.52, 0.46, 0.53, 0.43, 0.49, 0.58, 0.46, 0.5, 0.37, 0.54, 0.52, 0.57, 0.61, 0.39, 0.54, 0.54, 0.48, 0.52, 0.46, 0.55, 0.48, 0.53, 0.45, 0.49, 0.52, 0.46, 0.5, 0.5, 0.45, 0.58, 0.5, 0.48, 0.44, 0.44, 0.51, 0.53, 0.59, 0.48, 0.51, 0.5, 0.52, 0.51, 0.57, 0.42, 0.44, 0.61, 0.51, 0.46, 0.45, 0.43, 0.61, 0.43, 0.58, 0.48, 0.51, 0.47, 0.47, 0.44, 0.52, 0.51, 0.47, 0.48, 0.52, 0.51, 0.53, 0.5, 0.51, 0.47, 0.45, 0.47, 0.53, 0.49, 0.52, 0.55, 0.48, 0.53, 0.51, 0.5, 0.58, 0.48, 0.44, 0.51, 0.52, 0.54, 0.6, 0.44, 0.53, 0.48, 0.49, 0.47, 0.44, 0.53, 0.5, 0.55, 0.52, 0.55, 0.46, 0.46, 0.54, 0.47, 0.51, 0.52, 0.48, 0.56, 0.55, 0.53, 0.51, 0.54, 0.55, 0.41, 0.44, 0.49, 0.55, 0.47, 0.48, 0.52, 0.45, 0.47, 0.56, 0.55, 0.51, 0.5, 0.48, 0.57, 0.54, 0.51, 0.55, 0.56, 0.54, 0.52, 0.46, 0.45, 0.49, 0.51, 0.49, 0.51, 0.49, 0.58, 0.56, 0.47, 0.48, 0.54, 0.52, 0.57, 0.56, 0.49, 0.52, 0.5, 0.55, 0.44, 0.48, 0.5, 0.49, 0.58, 0.53, 0.55, 0.49, 0.49, 0.52, 0.57, 0.58, 0.54, 0.46, 0.46, 0.56, 0.48, 0.52, 0.53, 0.49, 0.48, 0.54, 0.62, 0.45, 0.57, 0.51, 0.51, 0.56, 0.47, 0.57, 0.48, 0.46, 0.52, 0.54, 0.54, 0.56, 0.48, 0.5, 0.58, 0.51, 0.43, 0.56, 0.47, 0.47, 0.52, 0.52, 0.52, 0.48, 0.47, 0.48, 0.51, 0.48, 0.53, 0.45, 0.52, 0.53, 0.5, 0.46, 0.49, 0.5, 0.51, 0.52, 0.49, 0.45, 0.51, 0.47, 0.49, 0.59, 0.46, 0.53, 0.57, 0.52, 0.51, 0.56, 0.43, 0.49, 0.55, 0.41, 0.44, 0.54, 0.57, 0.62, 0.47, 0.46, 0.6, 0.49, 0.48, 0.53, 0.55, 0.57, 0.46, 0.47, 0.38, 0.38, 0.5, 0.51, 0.54, 0.52, 0.57, 0.47, 0.48, 0.49, 0.49, 0.5, 0.44, 0.34, 0.53, 0.47, 0.49, 0.54, 0.49, 0.49, 0.52, 0.42, 0.43, 0.49, 0.57, 0.52, 0.48, 0.48, 0.47, 0.5, 0.48, 0.61, 0.61, 0.54, 0.51, 0.64, 0.47, 0.53, 0.49, 0.45, 0.58, 0.57, 0.55, 0.43, 0.53, 0.55, 0.49, 0.47, 0.5, 0.43, 0.6, 0.53, 0.44, 0.51, 0.53, 0.53, 0.59, 0.55, 0.43, 0.51, 0.44, 0.42, 0.44, 0.39, 0.4, 0.47, 0.51, 0.46, 0.53, 0.53, 0.57, 0.56, 0.63, 0.52, 0.55, 0.4, 0.49, 0.56, 0.5, 0.41, 0.52, 0.46, 0.48, 0.46, 0.5, 0.44, 0.56, 0.53, 0.46, 0.6, 0.62, 0.5, 0.51, 0.51, 0.53, 0.52, 0.38, 0.5, 0.48, 0.57, 0.46, 0.51, 0.44, 0.49, 0.6, 0.51, 0.44, 0.52, 0.55, 0.51, 0.56, 0.52, 0.63, 0.59, 0.43, 0.53, 0.55, 0.49, 0.49, 0.52, 0.46, 0.57, 0.49, 0.39, 0.54, 0.51, 0.51, 0.43, 0.49, 0.52, 0.52, 0.58, 0.48, 0.44, 0.47, 0.42, 0.5, 0.53, 0.5, 0.46, 0.57, 0.49, 0.55, 0.56, 0.47, 0.54, 0.49, 0.49, 0.53, 0.45, 0.51, 0.5, 0.39, 0.43, 0.52, 0.61, 0.39, 0.4, 0.42, 0.55, 0.52, 0.52, 0.52, 0.5, 0.54, 0.45, 0.46, 0.45, 0.51, 0.54, 0.47, 0.48, 0.47, 0.45, 0.56, 0.52, 0.51, 0.52, 0.55, 0.42, 0.54, 0.53, 0.5, 0.53, 0.52, 0.52, 0.51, 0.56, 0.44, 0.49, 0.46, 0.46, 0.49, 0.56, 0.47, 0.44, 0.44, 0.52, 0.47, 0.55, 0.46, 0.54, 0.46, 0.57, 0.53, 0.53, 0.59, 0.45, 0.43, 0.42, 0.52, 0.41, 0.51, 0.52, 0.56, 0.51, 0.47, 0.55, 0.45, 0.51, 0.56, 0.53, 0.53, 0.45, 0.44, 0.48, 0.48, 0.44, 0.52, 0.49, 0.48, 0.49, 0.53, 0.51, 0.59, 0.5, 0.52, 0.43, 0.57, 0.59, 0.5, 0.5, 0.54, 0.47, 0.53, 0.5, 0.5, 0.41, 0.52, 0.47, 0.52, 0.43, 0.4, 0.49, 0.59, 0.48, 0.54, 0.46, 0.5, 0.5, 0.44, 0.58, 0.45, 0.51, 0.58, 0.52, 0.47, 0.42, 0.48, 0.44, 0.53, 0.56, 0.52, 0.53, 0.48, 0.46, 0.64, 0.56, 0.59, 0.59, 0.52, 0.46, 0.57, 0.41, 0.49, 0.46, 0.55, 0.49, 0.52, 0.53, 0.5, 0.49, 0.47, 0.51, 0.57, 0.56, 0.55, 0.44, 0.44, 0.59, 0.53, 0.56, 0.52, 0.55, 0.54, 0.55, 0.47, 0.52, 0.54, 0.54, 0.43, 0.5, 0.48, 0.55, 0.52, 0.48, 0.44, 0.43, 0.54, 0.5, 0.59, 0.45, 0.49, 0.55, 0.44, 0.56, 0.46, 0.61, 0.55, 0.48, 0.42, 0.49, 0.52, 0.49, 0.53, 0.53, 0.5, 0.55, 0.51, 0.51, 0.53, 0.46, 0.45, 0.44, 0.57, 0.5, 0.53, 0.56, 0.55, 0.44, 0.59, 0.38, 0.48, 0.49, 0.46, 0.44, 0.55, 0.5, 0.51, 0.47, 0.5, 0.5, 0.48, 0.51, 0.47, 0.5, 0.46, 0.42, 0.56, 0.4, 0.49, 0.49, 0.46, 0.5, 0.55, 0.53, 0.44, 0.5, 0.49, 0.49, 0.45, 0.46, 0.48, 0.48, 0.52, 0.59, 0.51, 0.56, 0.62, 0.44, 0.55, 0.53, 0.54, 0.48, 0.54, 0.52, 0.44, 0.56, 0.43, 0.47, 0.53, 0.42, 0.57, 0.5, 0.43, 0.47, 0.53, 0.39, 0.49, 0.48, 0.54, 0.45, 0.46, 0.51, 0.51, 0.57, 0.48, 0.52, 0.56, 0.53, 0.49, 0.5, 0.51, 0.48, 0.45, 0.44, 0.47, 0.48, 0.51, 0.51, 0.46, 0.56, 0.52, 0.48, 0.47, 0.44, 0.43, 0.52, 0.56, 0.44, 0.55, 0.44, 0.49, 0.61, 0.55, 0.51, 0.51, 0.51, 0.6, 0.54, 0.5, 0.48, 0.46, 0.51, 0.51, 0.68, 0.42, 0.56, 0.55, 0.49, 0.54, 0.53, 0.4, 0.4, 0.53, 0.48, 0.46, 0.49, 0.46, 0.49, 0.51, 0.52, 0.57, 0.57, 0.49, 0.51, 0.51, 0.47, 0.56, 0.51, 0.52, 0.5, 0.55, 0.62, 0.54, 0.59, 0.5, 0.66, 0.43, 0.41, 0.43, 0.46, 0.49, 0.52, 0.53, 0.48, 0.47, 0.39, 0.46, 0.5, 0.45, 0.45, 0.48, 0.57, 0.44, 0.55, 0.52, 0.49, 0.6, 0.54, 0.5, 0.49, 0.51, 0.53, 0.55, 0.47, 0.56, 0.52, 0.55, 0.46, 0.45, 0.57, 0.44, 0.49, 0.55, 0.53, 0.54, 0.53, 0.55, 0.45, 0.55, 0.56, 0.53, 0.53, 0.49, 0.49, 0.54, 0.57, 0.44, 0.54, 0.42, 0.51, 0.49, 0.4, 0.45, 0.49, 0.52, 0.47, 0.43, 0.49, 0.62, 0.47, 0.57, 0.51, 0.49, 0.45, 0.54, 0.46, 0.48, 0.41, 0.48, 0.49, 0.48, 0.48, 0.43, 0.44, 0.48, 0.56, 0.52, 0.47, 0.54, 0.51, 0.58, 0.48, 0.52, 0.46, 0.47, 0.48, 0.5, 0.53, 0.47, 0.52, 0.46, 0.48, 0.34, 0.54, 0.55, 0.48, 0.49, 0.5, 0.46, 0.53, 0.53, 0.56, 0.55, 0.44, 0.58, 0.52, 0.51, 0.45, 0.56, 0.5, 0.45, 0.53, 0.48, 0.55, 0.63, 0.54, 0.44, 0.55, 0.41, 0.52, 0.46, 0.49, 0.53, 0.5, 0.5, 0.37, 0.45, 0.53, 0.46, 0.49, 0.58, 0.65, 0.49, 0.51, 0.51, 0.48, 0.42, 0.48, 0.49, 0.41, 0.47, 0.52, 0.47, 0.48, 0.45, 0.52, 0.57, 0.55, 0.47, 0.51, 0.51, 0.51, 0.47, 0.49, 0.56, 0.52, 0.47, 0.42, 0.52, 0.48, 0.51, 0.54, 0.45, 0.47, 0.47, 0.58, 0.43, 0.38, 0.63, 0.62, 0.51, 0.5, 0.49, 0.52, 0.53, 0.54, 0.53, 0.44, 0.58, 0.53, 0.46, 0.55, 0.48, 0.54, 0.49, 0.47, 0.51, 0.49, 0.48, 0.48, 0.49, 0.52, 0.47, 0.51, 0.58, 0.48, 0.45, 0.51, 0.44, 0.59, 0.47, 0.6, 0.53, 0.55, 0.44, 0.54, 0.51, 0.49, 0.45, 0.43, 0.51, 0.54, 0.48, 0.49, 0.46, 0.56, 0.52, 0.45, 0.47, 0.51, 0.58, 0.55, 0.49, 0.49, 0.5, 0.49, 0.44, 0.51, 0.55, 0.46, 0.56, 0.51, 0.55, 0.52, 0.47, 0.48, 0.47, 0.53, 0.48, 0.52, 0.49, 0.56, 0.44, 0.54, 0.55, 0.55, 0.4, 0.48, 0.51, 0.53, 0.49, 0.48, 0.49, 0.49, 0.52, 0.55, 0.43, 0.42, 0.56, 0.4, 0.55, 0.54, 0.54, 0.59, 0.48, 0.51, 0.49, 0.49, 0.55, 0.48, 0.5, 0.42, 0.62, 0.57, 0.53, 0.42, 0.55, 0.47, 0.47, 0.57, 0.42, 0.49, 0.53, 0.55, 0.41, 0.46, 0.57, 0.57, 0.49, 0.57, 0.54, 0.44, 0.52, 0.48, 0.53, 0.48, 0.56, 0.55, 0.5, 0.45, 0.55, 0.47, 0.5, 0.49, 0.49, 0.48, 0.45, 0.37, 0.5, 0.52, 0.51, 0.46, 0.42, 0.5, 0.52, 0.53, 0.52, 0.48, 0.56, 0.45, 0.42, 0.53, 0.56, 0.48, 0.52, 0.42, 0.49, 0.5, 0.49, 0.53, 0.55, 0.57, 0.56, 0.46, 0.52, 0.54, 0.55, 0.5, 0.49, 0.6, 0.48, 0.44, 0.41, 0.48, 0.46, 0.52, 0.49, 0.51, 0.51, 0.56, 0.51, 0.45, 0.51, 0.47, 0.53, 0.54, 0.49, 0.48, 0.53, 0.42, 0.52, 0.5, 0.42, 0.64, 0.53, 0.52, 0.48, 0.44, 0.5, 0.51, 0.54, 0.5, 0.37, 0.52, 0.56, 0.51, 0.54, 0.56, 0.5, 0.52, 0.52, 0.57, 0.5, 0.52, 0.52, 0.47, 0.57, 0.48, 0.44, 0.45, 0.5, 0.47, 0.53, 0.43, 0.5, 0.62, 0.49, 0.51, 0.47, 0.49, 0.57, 0.51, 0.4, 0.57, 0.49, 0.43, 0.54, 0.39, 0.48, 0.53, 0.49, 0.57, 0.49, 0.52, 0.56, 0.48, 0.47, 0.46, 0.51, 0.51, 0.5, 0.61, 0.53, 0.51, 0.45, 0.48, 0.44, 0.59, 0.42, 0.52, 0.6, 0.51, 0.53, 0.5, 0.43, 0.58, 0.56, 0.57, 0.51, 0.53, 0.49, 0.53, 0.57, 0.54, 0.56, 0.44, 0.52, 0.45, 0.48, 0.49, 0.41, 0.46, 0.47, 0.6, 0.53, 0.47, 0.56, 0.52, 0.56, 0.49, 0.49, 0.52, 0.52, 0.49, 0.59, 0.43, 0.61, 0.53, 0.43, 0.55, 0.45, 0.54, 0.57, 0.49, 0.51, 0.49, 0.53, 0.59, 0.47, 0.45, 0.53, 0.41, 0.46, 0.48, 0.47, 0.53, 0.56, 0.56, 0.55, 0.53, 0.48, 0.45, 0.5, 0.54, 0.5, 0.52, 0.36, 0.47, 0.53, 0.41, 0.49, 0.45, 0.48, 0.49, 0.5, 0.54, 0.43, 0.43, 0.45, 0.48, 0.49, 0.49, 0.54, 0.41, 0.47, 0.56, 0.49, 0.55, 0.39, 0.57, 0.46, 0.47, 0.53, 0.46, 0.45, 0.59, 0.45, 0.48, 0.52, 0.46, 0.5, 0.5, 0.52, 0.51, 0.52, 0.55, 0.49, 0.53, 0.42, 0.58, 0.47, 0.47, 0.56, 0.44, 0.55, 0.39, 0.5, 0.42, 0.59, 0.46, 0.56, 0.52, 0.45, 0.56, 0.52, 0.6, 0.44, 0.49, 0.5, 0.52, 0.47, 0.54, 0.46, 0.56, 0.48, 0.54, 0.45, 0.48, 0.5, 0.54, 0.5, 0.48, 0.5, 0.41, 0.46, 0.54, 0.57, 0.54, 0.5, 0.4, 0.49, 0.5, 0.44, 0.48, 0.5, 0.5, 0.47, 0.5, 0.51, 0.46, 0.53, 0.52, 0.51, 0.48, 0.52, 0.57, 0.42, 0.55, 0.48, 0.5, 0.55, 0.45, 0.53, 0.44, 0.53, 0.39, 0.44, 0.58, 0.44, 0.44, 0.39, 0.47, 0.52, 0.5, 0.49, 0.46, 0.46, 0.52, 0.51, 0.47, 0.6, 0.44, 0.49, 0.56, 0.54, 0.6, 0.52, 0.51, 0.56, 0.47, 0.54, 0.54, 0.49, 0.49, 0.55, 0.51, 0.48, 0.49, 0.43, 0.38, 0.45, 0.6, 0.54, 0.55, 0.46, 0.43, 0.48, 0.46, 0.48, 0.52, 0.52, 0.54, 0.56, 0.45, 0.52, 0.43, 0.58, 0.57, 0.44, 0.51, 0.5, 0.48, 0.46, 0.52, 0.53, 0.44, 0.49, 0.43, 0.52, 0.5, 0.46, 0.51, 0.51, 0.41, 0.53, 0.44, 0.48, 0.55, 0.49, 0.57, 0.54, 0.56, 0.54, 0.5, 0.48, 0.51, 0.5, 0.44]\n"
          ],
          "name": "stdout"
        }
      ]
    },
    {
      "cell_type": "code",
      "metadata": {
        "id": "rfeA06evOT2K",
        "colab_type": "code",
        "outputId": "bf15b0e7-43a6-47c2-936a-13ed2337635b",
        "colab": {
          "base_uri": "https://localhost:8080/",
          "height": 204
        }
      },
      "source": [
        "# Create dataframe with single coin flip\n",
        "\n",
        "df = pd.DataFrame({'one-samp': one_sample})\n",
        "df.head()"
      ],
      "execution_count": 0,
      "outputs": [
        {
          "output_type": "execute_result",
          "data": {
            "text/html": [
              "<div>\n",
              "<style scoped>\n",
              "    .dataframe tbody tr th:only-of-type {\n",
              "        vertical-align: middle;\n",
              "    }\n",
              "\n",
              "    .dataframe tbody tr th {\n",
              "        vertical-align: top;\n",
              "    }\n",
              "\n",
              "    .dataframe thead th {\n",
              "        text-align: right;\n",
              "    }\n",
              "</style>\n",
              "<table border=\"1\" class=\"dataframe\">\n",
              "  <thead>\n",
              "    <tr style=\"text-align: right;\">\n",
              "      <th></th>\n",
              "      <th>one-samp</th>\n",
              "    </tr>\n",
              "  </thead>\n",
              "  <tbody>\n",
              "    <tr>\n",
              "      <th>0</th>\n",
              "      <td>1</td>\n",
              "    </tr>\n",
              "    <tr>\n",
              "      <th>1</th>\n",
              "      <td>1</td>\n",
              "    </tr>\n",
              "    <tr>\n",
              "      <th>2</th>\n",
              "      <td>1</td>\n",
              "    </tr>\n",
              "    <tr>\n",
              "      <th>3</th>\n",
              "      <td>0</td>\n",
              "    </tr>\n",
              "    <tr>\n",
              "      <th>4</th>\n",
              "      <td>1</td>\n",
              "    </tr>\n",
              "  </tbody>\n",
              "</table>\n",
              "</div>"
            ],
            "text/plain": [
              "   one-samp\n",
              "0         1\n",
              "1         1\n",
              "2         1\n",
              "3         0\n",
              "4         1"
            ]
          },
          "metadata": {
            "tags": []
          },
          "execution_count": 21
        }
      ]
    },
    {
      "cell_type": "code",
      "metadata": {
        "id": "GlMSNFX6OmBV",
        "colab_type": "code",
        "outputId": "ba43caf0-0fd6-419d-c36b-33d7946dd483",
        "colab": {
          "base_uri": "https://localhost:8080/",
          "height": 281
        }
      },
      "source": [
        "# Plot histogram to look at distribution of a single coin flip \n",
        "\n",
        "df.hist();"
      ],
      "execution_count": 0,
      "outputs": [
        {
          "output_type": "display_data",
          "data": {
            "image/png": "[encoded data removed]",
            "text/plain": [
              "<Figure size 432x288 with 1 Axes>"
            ]
          },
          "metadata": {
            "tags": []
          }
        }
      ]
    },
    {
      "cell_type": "code",
      "metadata": {
        "id": "Jie4ypgLOs5M",
        "colab_type": "code",
        "outputId": "d07de47e-9a1c-433c-ea34-6a95223c2f5e",
        "colab": {
          "base_uri": "https://localhost:8080/",
          "height": 296
        }
      },
      "source": [
        "# Plot histogram to look at distribution of all coin flips\n",
        "\n",
        "ax = plt.hist(sample_means, bins=30)\n",
        "plt.title(f'Distribution of {N} sample means \\n (of 30 coinflips each)');"
      ],
      "execution_count": 0,
      "outputs": [
        {
          "output_type": "display_data",
          "data": {
            "image/png": "[encoded data removed]",
            "text/plain": [
              "<Figure size 432x288 with 1 Axes>"
            ]
          },
          "metadata": {
            "tags": []
          }
        }
      ]
    },
    {
      "cell_type": "markdown",
      "metadata": {
        "id": "LsEAjc4rOylm",
        "colab_type": "text"
      },
      "source": [
        "What does the Central Limit Theorem State? That no matter the initial distribution of the population, the distribution of sample means taken will approximate a normal distribution as $n \\rightarrow \\infty$.\n",
        "\n",
        "This has very important implications for hypothesis testing and is precisely the reason why the t-distribution begins to approximate the normal distribution as our sample size increases. "
      ]
    },
    {
      "cell_type": "markdown",
      "metadata": {
        "id": "EYqo5vZZSFUr",
        "colab_type": "text"
      },
      "source": [
        "## Standard Error of the Mean\n",
        "\n",
        "What does it mean to \"estimate\"? the Population mean?"
      ]
    },
    {
      "cell_type": "code",
      "metadata": {
        "id": "puGXH6vbSIE4",
        "colab_type": "code",
        "outputId": "166fc50f-f6d8-45f5-9c39-d8333382243d",
        "colab": {
          "base_uri": "https://localhost:8080/",
          "height": 68
        }
      },
      "source": [
        "import numpy as np\n",
        "import pandas as pd\n",
        "\n",
        "# Average Height\n",
        "mu = 70\n",
        "sigma = 3\n",
        "\n",
        "lambda_heights = np.random.normal(mu, sigma, 2000)\n",
        "print(len(lambda_heights))\n",
        "lambda_heights"
      ],
      "execution_count": 0,
      "outputs": [
        {
          "output_type": "stream",
          "text": [
            "2000\n"
          ],
          "name": "stdout"
        },
        {
          "output_type": "execute_result",
          "data": {
            "text/plain": [
              "array([71.51294399, 66.75282069, 67.59159409, ..., 71.10525723,\n",
              "       71.94880877, 69.13737422])"
            ]
          },
          "metadata": {
            "tags": []
          },
          "execution_count": 24
        }
      ]
    },
    {
      "cell_type": "code",
      "metadata": {
        "id": "2X-aKCTSXVOc",
        "colab_type": "code",
        "outputId": "1a7ae44c-55ef-4a6a-f33d-d50c0820a1df",
        "colab": {
          "base_uri": "https://localhost:8080/",
          "height": 281
        }
      },
      "source": [
        "import seaborn as sns\n",
        "\n",
        "sns.distplot(lambda_heights)\n",
        "plt.title('Distribution of Heights (in inches)');"
      ],
      "execution_count": 0,
      "outputs": [
        {
          "output_type": "display_data",
          "data": {
            "image/png": "[encoded data removed]",
            "text/plain": [
              "<Figure size 432x288 with 1 Axes>"
            ]
          },
          "metadata": {
            "tags": []
          }
        }
      ]
    },
    {
      "cell_type": "code",
      "metadata": {
        "id": "fQlloeU4qwuI",
        "colab_type": "code",
        "outputId": "bbe4e62c-12ef-438c-ed13-c965b6695e98",
        "colab": {
          "base_uri": "https://localhost:8080/",
          "height": 51
        }
      },
      "source": [
        "print(\"Population Mean:\", lambda_heights.mean())\n",
        "print(\"Population Standard Deviation:\", lambda_heights.std())"
      ],
      "execution_count": 0,
      "outputs": [
        {
          "output_type": "stream",
          "text": [
            "Population Mean: 70.0041524330643\n",
            "Population Standard Deviation: 3.0172901619538237\n"
          ],
          "name": "stdout"
        }
      ]
    },
    {
      "cell_type": "code",
      "metadata": {
        "id": "sOD7gQMxq3ib",
        "colab_type": "code",
        "outputId": "2f354e71-fad7-4475-bd0a-a0883206c71d",
        "colab": {
          "base_uri": "https://localhost:8080/",
          "height": 221
        }
      },
      "source": [
        "population = pd.DataFrame({'heights': lambda_heights})\n",
        "print(population.shape)\n",
        "population.head()"
      ],
      "execution_count": 0,
      "outputs": [
        {
          "output_type": "stream",
          "text": [
            "(2000, 1)\n"
          ],
          "name": "stdout"
        },
        {
          "output_type": "execute_result",
          "data": {
            "text/html": [
              "<div>\n",
              "<style scoped>\n",
              "    .dataframe tbody tr th:only-of-type {\n",
              "        vertical-align: middle;\n",
              "    }\n",
              "\n",
              "    .dataframe tbody tr th {\n",
              "        vertical-align: top;\n",
              "    }\n",
              "\n",
              "    .dataframe thead th {\n",
              "        text-align: right;\n",
              "    }\n",
              "</style>\n",
              "<table border=\"1\" class=\"dataframe\">\n",
              "  <thead>\n",
              "    <tr style=\"text-align: right;\">\n",
              "      <th></th>\n",
              "      <th>heights</th>\n",
              "    </tr>\n",
              "  </thead>\n",
              "  <tbody>\n",
              "    <tr>\n",
              "      <th>0</th>\n",
              "      <td>71.512944</td>\n",
              "    </tr>\n",
              "    <tr>\n",
              "      <th>1</th>\n",
              "      <td>66.752821</td>\n",
              "    </tr>\n",
              "    <tr>\n",
              "      <th>2</th>\n",
              "      <td>67.591594</td>\n",
              "    </tr>\n",
              "    <tr>\n",
              "      <th>3</th>\n",
              "      <td>70.164178</td>\n",
              "    </tr>\n",
              "    <tr>\n",
              "      <th>4</th>\n",
              "      <td>76.079145</td>\n",
              "    </tr>\n",
              "  </tbody>\n",
              "</table>\n",
              "</div>"
            ],
            "text/plain": [
              "     heights\n",
              "0  71.512944\n",
              "1  66.752821\n",
              "2  67.591594\n",
              "3  70.164178\n",
              "4  76.079145"
            ]
          },
          "metadata": {
            "tags": []
          },
          "execution_count": 27
        }
      ]
    },
    {
      "cell_type": "code",
      "metadata": {
        "id": "A1DEQgCAq75F",
        "colab_type": "code",
        "outputId": "eb2361c8-7d4c-465e-d1f8-44e8666984fe",
        "colab": {
          "base_uri": "https://localhost:8080/",
          "height": 221
        }
      },
      "source": [
        "# Take a random sample and print sample mean\n",
        "\n",
        "sample1 = population.sample(100)\n",
        "print(sample1.shape)\n",
        "sample1.head()"
      ],
      "execution_count": 0,
      "outputs": [
        {
          "output_type": "stream",
          "text": [
            "(100, 1)\n"
          ],
          "name": "stdout"
        },
        {
          "output_type": "execute_result",
          "data": {
            "text/html": [
              "<div>\n",
              "<style scoped>\n",
              "    .dataframe tbody tr th:only-of-type {\n",
              "        vertical-align: middle;\n",
              "    }\n",
              "\n",
              "    .dataframe tbody tr th {\n",
              "        vertical-align: top;\n",
              "    }\n",
              "\n",
              "    .dataframe thead th {\n",
              "        text-align: right;\n",
              "    }\n",
              "</style>\n",
              "<table border=\"1\" class=\"dataframe\">\n",
              "  <thead>\n",
              "    <tr style=\"text-align: right;\">\n",
              "      <th></th>\n",
              "      <th>heights</th>\n",
              "    </tr>\n",
              "  </thead>\n",
              "  <tbody>\n",
              "    <tr>\n",
              "      <th>100</th>\n",
              "      <td>68.989625</td>\n",
              "    </tr>\n",
              "    <tr>\n",
              "      <th>1217</th>\n",
              "      <td>76.369801</td>\n",
              "    </tr>\n",
              "    <tr>\n",
              "      <th>296</th>\n",
              "      <td>70.072318</td>\n",
              "    </tr>\n",
              "    <tr>\n",
              "      <th>687</th>\n",
              "      <td>70.283488</td>\n",
              "    </tr>\n",
              "    <tr>\n",
              "      <th>85</th>\n",
              "      <td>71.055414</td>\n",
              "    </tr>\n",
              "  </tbody>\n",
              "</table>\n",
              "</div>"
            ],
            "text/plain": [
              "        heights\n",
              "100   68.989625\n",
              "1217  76.369801\n",
              "296   70.072318\n",
              "687   70.283488\n",
              "85    71.055414"
            ]
          },
          "metadata": {
            "tags": []
          },
          "execution_count": 28
        }
      ]
    },
    {
      "cell_type": "code",
      "metadata": {
        "id": "SpMBMasFrJQK",
        "colab_type": "code",
        "outputId": "7103fb5a-602b-4a57-8b58-51716c417ac2",
        "colab": {
          "base_uri": "https://localhost:8080/",
          "height": 34
        }
      },
      "source": [
        "print('Sample Mean #1: ', sample1['heights'].mean())"
      ],
      "execution_count": 0,
      "outputs": [
        {
          "output_type": "stream",
          "text": [
            "Sample Mean #1:  70.2468623482625\n"
          ],
          "name": "stdout"
        }
      ]
    },
    {
      "cell_type": "code",
      "metadata": {
        "id": "PkQjdv5CRy-h",
        "colab_type": "code",
        "outputId": "ad382bea-331e-485a-a1b4-df7266b73d91",
        "colab": {
          "base_uri": "https://localhost:8080/",
          "height": 221
        }
      },
      "source": [
        "# Take a different random sample and print sample mean\n",
        "\n",
        "sample2 = population.sample(100)\n",
        "print(sample1.shape)\n",
        "sample2.head()"
      ],
      "execution_count": 0,
      "outputs": [
        {
          "output_type": "stream",
          "text": [
            "(100, 1)\n"
          ],
          "name": "stdout"
        },
        {
          "output_type": "execute_result",
          "data": {
            "text/html": [
              "<div>\n",
              "<style scoped>\n",
              "    .dataframe tbody tr th:only-of-type {\n",
              "        vertical-align: middle;\n",
              "    }\n",
              "\n",
              "    .dataframe tbody tr th {\n",
              "        vertical-align: top;\n",
              "    }\n",
              "\n",
              "    .dataframe thead th {\n",
              "        text-align: right;\n",
              "    }\n",
              "</style>\n",
              "<table border=\"1\" class=\"dataframe\">\n",
              "  <thead>\n",
              "    <tr style=\"text-align: right;\">\n",
              "      <th></th>\n",
              "      <th>heights</th>\n",
              "    </tr>\n",
              "  </thead>\n",
              "  <tbody>\n",
              "    <tr>\n",
              "      <th>537</th>\n",
              "      <td>74.441399</td>\n",
              "    </tr>\n",
              "    <tr>\n",
              "      <th>1832</th>\n",
              "      <td>67.811208</td>\n",
              "    </tr>\n",
              "    <tr>\n",
              "      <th>1346</th>\n",
              "      <td>70.763693</td>\n",
              "    </tr>\n",
              "    <tr>\n",
              "      <th>1479</th>\n",
              "      <td>71.480101</td>\n",
              "    </tr>\n",
              "    <tr>\n",
              "      <th>229</th>\n",
              "      <td>69.303825</td>\n",
              "    </tr>\n",
              "  </tbody>\n",
              "</table>\n",
              "</div>"
            ],
            "text/plain": [
              "        heights\n",
              "537   74.441399\n",
              "1832  67.811208\n",
              "1346  70.763693\n",
              "1479  71.480101\n",
              "229   69.303825"
            ]
          },
          "metadata": {
            "tags": []
          },
          "execution_count": 32
        }
      ]
    },
    {
      "cell_type": "code",
      "metadata": {
        "id": "O-5f2h7aR7zW",
        "colab_type": "code",
        "outputId": "a661a522-dc71-4063-f40e-63f978f10b58",
        "colab": {
          "base_uri": "https://localhost:8080/",
          "height": 34
        }
      },
      "source": [
        "print('Sample Mean #2: ', sample2['heights'].mean())"
      ],
      "execution_count": 0,
      "outputs": [
        {
          "output_type": "stream",
          "text": [
            "Sample Mean #2:  70.25036871624675\n"
          ],
          "name": "stdout"
        }
      ]
    },
    {
      "cell_type": "markdown",
      "metadata": {
        "id": "nfdQf8QYUUmw",
        "colab_type": "text"
      },
      "source": [
        "## Build and Interpret a Confidence Interval\n",
        "\n",
        "<img src=\"https://github.com/ryanallredblog/ryanallredblog.github.io/blob/master/img/Confidence_Interval.png?raw=true\" width=400>"
      ]
    },
    {
      "cell_type": "code",
      "metadata": {
        "id": "tBx71Kf0UjT3",
        "colab_type": "code",
        "outputId": "ce5bff3a-becf-480c-d3d8-3a05e5bf1ad9",
        "colab": {
          "base_uri": "https://localhost:8080/",
          "height": 51
        }
      },
      "source": [
        "coinflips_100 = np.random.binomial(n=1, p=0.5, size=10000)\n",
        "\n",
        "sample_std = np.std(coinflips_100)\n",
        "print('Sample St Dev: ', sample_std)\n",
        "sample_size = len(coinflips_100)\n",
        "print('Sample Size: ', sample_size)"
      ],
      "execution_count": 0,
      "outputs": [
        {
          "output_type": "stream",
          "text": [
            "Sample St Dev:  0.4999963899869677\n",
            "Sample Size:  10000\n"
          ],
          "name": "stdout"
        }
      ]
    },
    {
      "cell_type": "code",
      "metadata": {
        "id": "hChh3n44THmC",
        "colab_type": "code",
        "outputId": "fc92b4d6-de6c-490a-e03a-3ca18eb24a3e",
        "colab": {
          "base_uri": "https://localhost:8080/",
          "height": 34
        }
      },
      "source": [
        "standard_error = sample_std/np.sqrt(sample_size)\n",
        "print(standard_error)"
      ],
      "execution_count": 0,
      "outputs": [
        {
          "output_type": "stream",
          "text": [
            "0.0049999638998696775\n"
          ],
          "name": "stdout"
        }
      ]
    },
    {
      "cell_type": "markdown",
      "metadata": {
        "id": "RkYC5rnUw914",
        "colab_type": "text"
      },
      "source": [
        "### What confidence level do we want our confidence interval to represent?\n",
        "\n",
        "95% confidence Interval? 99% confidence interval? "
      ]
    },
    {
      "cell_type": "code",
      "metadata": {
        "id": "eSy__04NTsCa",
        "colab_type": "code",
        "colab": {}
      },
      "source": [
        "import scipy.stats as stats"
      ],
      "execution_count": 0,
      "outputs": []
    },
    {
      "cell_type": "code",
      "metadata": {
        "id": "jze1zJsewQx_",
        "colab_type": "code",
        "outputId": "20348214-8175-46b1-e590-4d9ba3add424",
        "colab": {
          "base_uri": "https://localhost:8080/",
          "height": 34
        }
      },
      "source": [
        "t = stats.t.ppf(0.975, sample_size-1)\n",
        "t"
      ],
      "execution_count": 0,
      "outputs": [
        {
          "output_type": "execute_result",
          "data": {
            "text/plain": [
              "1.9602012636213575"
            ]
          },
          "metadata": {
            "tags": []
          },
          "execution_count": 48
        }
      ]
    },
    {
      "cell_type": "code",
      "metadata": {
        "id": "aOefB7ltVb_j",
        "colab_type": "code",
        "outputId": "1ad62f04-08be-40b4-8d40-f5db58a4d2a8",
        "colab": {
          "base_uri": "https://localhost:8080/",
          "height": 68
        }
      },
      "source": [
        "sample_mean = coinflips_100.mean()\n",
        "confidence_interval = (sample_mean - t*standard_error, sample_mean + t*standard_error)\n",
        "margin_of_error = t*standard_error\n",
        "\n",
        "print('Sample Mean: ', sample_mean)\n",
        "print('Margin of Error: ', margin_of_error)\n",
        "print('Confidence Interval: ', confidence_interval)"
      ],
      "execution_count": 0,
      "outputs": [
        {
          "output_type": "stream",
          "text": [
            "Sample Mean:  0.4981\n",
            "Margin of Error:  0.009800935554585713\n",
            "Confidence Interval:  (0.48829906444541427, 0.5079009355545857)\n"
          ],
          "name": "stdout"
        }
      ]
    },
    {
      "cell_type": "markdown",
      "metadata": {
        "id": "C4rtc8luVUAK",
        "colab_type": "text"
      },
      "source": [
        "## Graphically Represent a Confidence Interval"
      ]
    },
    {
      "cell_type": "code",
      "metadata": {
        "id": "pz6F9_3_VmKr",
        "colab_type": "code",
        "outputId": "eb9392ce-4e6d-409f-d210-89271b2a073b",
        "colab": {
          "base_uri": "https://localhost:8080/",
          "height": 286
        }
      },
      "source": [
        "import seaborn as sns\n",
        "\n",
        "sns.kdeplot(coinflips_100)\n",
        "plt.axvline(x=sample_mean, color='k')\n",
        "plt.axvline(x=confidence_interval[0], color='r')\n",
        "plt.axvline(x=confidence_interval[1], color='r')"
      ],
      "execution_count": 0,
      "outputs": [
        {
          "output_type": "execute_result",
          "data": {
            "text/plain": [
              "<matplotlib.lines.Line2D at 0x7f0767f60160>"
            ]
          },
          "metadata": {
            "tags": []
          },
          "execution_count": 50
        },
        {
          "output_type": "display_data",
          "data": {
            "image/png": "[encoded data removed]",
            "text/plain": [
              "<Figure size 432x288 with 1 Axes>"
            ]
          },
          "metadata": {
            "tags": []
          }
        }
      ]
    },
    {
      "cell_type": "markdown",
      "metadata": {
        "id": "_oy0uoBGeoEb",
        "colab_type": "text"
      },
      "source": [
        "## Relationship between Confidence Intervals and T-tests\n",
        "\n",
        "Confidence Interval == Bounds of statistical significance for our t-test\n",
        "\n",
        "A sample mean that falls inside of our confidence interval will \"FAIL TO REJECT\" our null hypothesis\n",
        "\n",
        "A sample mean that falls outside of our confidence interval will \"REJECT\" our null hypothesis"
      ]
    },
    {
      "cell_type": "code",
      "metadata": {
        "id": "izIyVavzfCXS",
        "colab_type": "code",
        "colab": {}
      },
      "source": [
        "from scipy.stats import t, ttest_1samp"
      ],
      "execution_count": 0,
      "outputs": []
    },
    {
      "cell_type": "code",
      "metadata": {
        "id": "Y7HwdMwDfL1N",
        "colab_type": "code",
        "outputId": "893942b8-2f7b-420a-b1ff-606f06f2be07",
        "colab": {
          "base_uri": "https://localhost:8080/",
          "height": 54
        }
      },
      "source": [
        "import numpy as np\n",
        "\n",
        "coinflip_means = []\n",
        "for x in range(0,100):\n",
        "    coinflips = np.random.binomial(n=1, p=.5, size=30)\n",
        "    coinflip_means.append(coinflips.mean())\n",
        "\n",
        "print(coinflip_means)"
      ],
      "execution_count": 0,
      "outputs": [
        {
          "output_type": "stream",
          "text": [
            "[0.6333333333333333, 0.4666666666666667, 0.43333333333333335, 0.5333333333333333, 0.6333333333333333, 0.5333333333333333, 0.5, 0.4666666666666667, 0.4666666666666667, 0.5, 0.4, 0.6, 0.5333333333333333, 0.5666666666666667, 0.3333333333333333, 0.5333333333333333, 0.4, 0.5, 0.4666666666666667, 0.5, 0.6333333333333333, 0.3333333333333333, 0.5666666666666667, 0.5666666666666667, 0.43333333333333335, 0.5333333333333333, 0.5, 0.6666666666666666, 0.5333333333333333, 0.5333333333333333, 0.6, 0.36666666666666664, 0.5333333333333333, 0.5333333333333333, 0.43333333333333335, 0.43333333333333335, 0.43333333333333335, 0.5666666666666667, 0.3, 0.43333333333333335, 0.43333333333333335, 0.43333333333333335, 0.5333333333333333, 0.4666666666666667, 0.4, 0.6333333333333333, 0.4, 0.5666666666666667, 0.5666666666666667, 0.5333333333333333, 0.5666666666666667, 0.5333333333333333, 0.4666666666666667, 0.5333333333333333, 0.5, 0.5666666666666667, 0.43333333333333335, 0.4666666666666667, 0.5, 0.43333333333333335, 0.5666666666666667, 0.5, 0.6, 0.6, 0.4666666666666667, 0.5, 0.36666666666666664, 0.4666666666666667, 0.5666666666666667, 0.5333333333333333, 0.4666666666666667, 0.43333333333333335, 0.5333333333333333, 0.5, 0.6333333333333333, 0.6333333333333333, 0.43333333333333335, 0.43333333333333335, 0.4, 0.43333333333333335, 0.6, 0.5666666666666667, 0.3, 0.6333333333333333, 0.36666666666666664, 0.5666666666666667, 0.43333333333333335, 0.43333333333333335, 0.4666666666666667, 0.43333333333333335, 0.6666666666666666, 0.4666666666666667, 0.6666666666666666, 0.4666666666666667, 0.6, 0.36666666666666664, 0.5333333333333333, 0.43333333333333335, 0.5666666666666667, 0.5]\n"
          ],
          "name": "stdout"
        }
      ]
    },
    {
      "cell_type": "code",
      "metadata": {
        "id": "iXUF2bXMZLp7",
        "colab_type": "code",
        "outputId": "e3cc372b-4ca2-4231-e292-2ac3763a7228",
        "colab": {
          "base_uri": "https://localhost:8080/",
          "height": 34
        }
      },
      "source": [
        "np.mean(coinflip_means)"
      ],
      "execution_count": 0,
      "outputs": [
        {
          "output_type": "execute_result",
          "data": {
            "text/plain": [
              "0.5003333333333333"
            ]
          },
          "metadata": {
            "tags": []
          },
          "execution_count": 53
        }
      ]
    },
    {
      "cell_type": "code",
      "metadata": {
        "id": "424KeJt8Zzg6",
        "colab_type": "code",
        "outputId": "573f8500-3334-4e74-d112-c08c93b5e3e1",
        "colab": {
          "base_uri": "https://localhost:8080/",
          "height": 51
        }
      },
      "source": [
        "# 95% confidence interval\n",
        "\n",
        "t_stat = stats.t.ppf(0.975, 99)\n",
        "print('T statistic: ', t_stat)\n",
        "\n",
        "std_sample = np.std(coinflip_means)\n",
        "std_err = std_sample/np.sqrt(len(coinflip_means))\n",
        "\n",
        "CI = stats.t.interval(0.95, 99, loc=np.mean(coinflip_means), scale=std_err)\n",
        "print('95% confidence interval: ', CI)"
      ],
      "execution_count": 0,
      "outputs": [
        {
          "output_type": "stream",
          "text": [
            "T statistic:  1.9842169515086827\n",
            "95% confidence interval:  (0.48379832435242015, 0.5168683423142464)\n"
          ],
          "name": "stdout"
        }
      ]
    },
    {
      "cell_type": "markdown",
      "metadata": {
        "id": "EamZNJhAf-fY",
        "colab_type": "text"
      },
      "source": [
        "A null hypothesis that's just inside of our confidence interval == fail to reject\n",
        "\n"
      ]
    },
    {
      "cell_type": "code",
      "metadata": {
        "id": "cNpzYbjpfirR",
        "colab_type": "code",
        "outputId": "2b32d317-8ed3-4f9a-c383-3af3d97f6d18",
        "colab": {
          "base_uri": "https://localhost:8080/",
          "height": 34
        }
      },
      "source": [
        "ttest_1samp(coinflip_means, 0.51686)"
      ],
      "execution_count": 0,
      "outputs": [
        {
          "output_type": "execute_result",
          "data": {
            "text/plain": [
              "Ttest_1sampResult(statistic=-1.973274871531969, pvalue=0.05125222761123825)"
            ]
          },
          "metadata": {
            "tags": []
          },
          "execution_count": 62
        }
      ]
    },
    {
      "cell_type": "markdown",
      "metadata": {
        "id": "hO34mbL9gHn1",
        "colab_type": "text"
      },
      "source": [
        "A null hypothesis that's just outside of our confidence interval == reject\n",
        "\n"
      ]
    },
    {
      "cell_type": "code",
      "metadata": {
        "id": "N4SUjj82gKlv",
        "colab_type": "code",
        "outputId": "61cf446b-ac50-405a-c899-a3c5317fc10f",
        "colab": {
          "base_uri": "https://localhost:8080/",
          "height": 34
        }
      },
      "source": [
        "ttest_1samp(coinflip_means, 0.52686)"
      ],
      "execution_count": 0,
      "outputs": [
        {
          "output_type": "execute_result",
          "data": {
            "text/plain": [
              "Ttest_1sampResult(statistic=-3.1672693480539342, pvalue=0.0020463163356837315)"
            ]
          },
          "metadata": {
            "tags": []
          },
          "execution_count": 63
        }
      ]
    },
    {
      "cell_type": "code",
      "metadata": {
        "id": "rQZvNu6B3b9b",
        "colab_type": "code",
        "colab": {}
      },
      "source": [
        "def confidence_interval(data, confidence=0.95):\n",
        "  \"\"\"\n",
        "  Calculate a confidence interval around a sample mean for given data.\n",
        "  Using t-distribution and two-tailed test, default 95% confidence. \n",
        "  \n",
        "  Arguments:\n",
        "    data - iterable (list or numpy array) of sample observations\n",
        "    confidence - level of confidence for the interval\n",
        "  \n",
        "  Returns:\n",
        "    tuple of (mean, lower bound, upper bound)\n",
        "  \"\"\"\n",
        "  data = np.array(data)\n",
        "  mean = np.mean(data)\n",
        "  n = len(data)\n",
        "  stderr = stats.sem(data)\n",
        "  interval = stderr * stats.t.ppf((1 + confidence) / 2.0, n - 1)\n",
        "  return (mean, mean - interval, mean + interval)"
      ],
      "execution_count": 0,
      "outputs": []
    },
    {
      "cell_type": "markdown",
      "metadata": {
        "id": "pTIzrkKdUaLl",
        "colab_type": "text"
      },
      "source": [
        "## Run a $\\chi^{2}$ Test \"by hand\" (Using Numpy)"
      ]
    },
    {
      "cell_type": "code",
      "metadata": {
        "id": "DDsovHUyUj3v",
        "colab_type": "code",
        "outputId": "8009e419-799f-4c0d-f290-5bb815cfbec4",
        "colab": {
          "base_uri": "https://localhost:8080/",
          "height": 221
        }
      },
      "source": [
        "df = pd.read_csv('https://raw.githubusercontent.com/ryanleeallred/datasets/master/adult.csv', na_values=\" ?\")\n",
        "print(df.shape)\n",
        "df.head()"
      ],
      "execution_count": 0,
      "outputs": [
        {
          "output_type": "stream",
          "text": [
            "(32561, 15)\n"
          ],
          "name": "stdout"
        },
        {
          "output_type": "execute_result",
          "data": {
            "text/html": [
              "<div>\n",
              "<style scoped>\n",
              "    .dataframe tbody tr th:only-of-type {\n",
              "        vertical-align: middle;\n",
              "    }\n",
              "\n",
              "    .dataframe tbody tr th {\n",
              "        vertical-align: top;\n",
              "    }\n",
              "\n",
              "    .dataframe thead th {\n",
              "        text-align: right;\n",
              "    }\n",
              "</style>\n",
              "<table border=\"1\" class=\"dataframe\">\n",
              "  <thead>\n",
              "    <tr style=\"text-align: right;\">\n",
              "      <th></th>\n",
              "      <th>age</th>\n",
              "      <th>workclass</th>\n",
              "      <th>fnlwgt</th>\n",
              "      <th>education</th>\n",
              "      <th>education-num</th>\n",
              "      <th>marital-status</th>\n",
              "      <th>occupation</th>\n",
              "      <th>relationship</th>\n",
              "      <th>race</th>\n",
              "      <th>sex</th>\n",
              "      <th>capital-gain</th>\n",
              "      <th>capital-loss</th>\n",
              "      <th>hours-per-week</th>\n",
              "      <th>country</th>\n",
              "      <th>salary</th>\n",
              "    </tr>\n",
              "  </thead>\n",
              "  <tbody>\n",
              "    <tr>\n",
              "      <th>0</th>\n",
              "      <td>39</td>\n",
              "      <td>State-gov</td>\n",
              "      <td>77516</td>\n",
              "      <td>Bachelors</td>\n",
              "      <td>13</td>\n",
              "      <td>Never-married</td>\n",
              "      <td>Adm-clerical</td>\n",
              "      <td>Not-in-family</td>\n",
              "      <td>White</td>\n",
              "      <td>Male</td>\n",
              "      <td>2174</td>\n",
              "      <td>0</td>\n",
              "      <td>40</td>\n",
              "      <td>United-States</td>\n",
              "      <td>&lt;=50K</td>\n",
              "    </tr>\n",
              "    <tr>\n",
              "      <th>1</th>\n",
              "      <td>50</td>\n",
              "      <td>Self-emp-not-inc</td>\n",
              "      <td>83311</td>\n",
              "      <td>Bachelors</td>\n",
              "      <td>13</td>\n",
              "      <td>Married-civ-spouse</td>\n",
              "      <td>Exec-managerial</td>\n",
              "      <td>Husband</td>\n",
              "      <td>White</td>\n",
              "      <td>Male</td>\n",
              "      <td>0</td>\n",
              "      <td>0</td>\n",
              "      <td>13</td>\n",
              "      <td>United-States</td>\n",
              "      <td>&lt;=50K</td>\n",
              "    </tr>\n",
              "    <tr>\n",
              "      <th>2</th>\n",
              "      <td>38</td>\n",
              "      <td>Private</td>\n",
              "      <td>215646</td>\n",
              "      <td>HS-grad</td>\n",
              "      <td>9</td>\n",
              "      <td>Divorced</td>\n",
              "      <td>Handlers-cleaners</td>\n",
              "      <td>Not-in-family</td>\n",
              "      <td>White</td>\n",
              "      <td>Male</td>\n",
              "      <td>0</td>\n",
              "      <td>0</td>\n",
              "      <td>40</td>\n",
              "      <td>United-States</td>\n",
              "      <td>&lt;=50K</td>\n",
              "    </tr>\n",
              "    <tr>\n",
              "      <th>3</th>\n",
              "      <td>53</td>\n",
              "      <td>Private</td>\n",
              "      <td>234721</td>\n",
              "      <td>11th</td>\n",
              "      <td>7</td>\n",
              "      <td>Married-civ-spouse</td>\n",
              "      <td>Handlers-cleaners</td>\n",
              "      <td>Husband</td>\n",
              "      <td>Black</td>\n",
              "      <td>Male</td>\n",
              "      <td>0</td>\n",
              "      <td>0</td>\n",
              "      <td>40</td>\n",
              "      <td>United-States</td>\n",
              "      <td>&lt;=50K</td>\n",
              "    </tr>\n",
              "    <tr>\n",
              "      <th>4</th>\n",
              "      <td>28</td>\n",
              "      <td>Private</td>\n",
              "      <td>338409</td>\n",
              "      <td>Bachelors</td>\n",
              "      <td>13</td>\n",
              "      <td>Married-civ-spouse</td>\n",
              "      <td>Prof-specialty</td>\n",
              "      <td>Wife</td>\n",
              "      <td>Black</td>\n",
              "      <td>Female</td>\n",
              "      <td>0</td>\n",
              "      <td>0</td>\n",
              "      <td>40</td>\n",
              "      <td>Cuba</td>\n",
              "      <td>&lt;=50K</td>\n",
              "    </tr>\n",
              "  </tbody>\n",
              "</table>\n",
              "</div>"
            ],
            "text/plain": [
              "   age          workclass  fnlwgt  ... hours-per-week         country  salary\n",
              "0   39          State-gov   77516  ...             40   United-States   <=50K\n",
              "1   50   Self-emp-not-inc   83311  ...             13   United-States   <=50K\n",
              "2   38            Private  215646  ...             40   United-States   <=50K\n",
              "3   53            Private  234721  ...             40   United-States   <=50K\n",
              "4   28            Private  338409  ...             40            Cuba   <=50K\n",
              "\n",
              "[5 rows x 15 columns]"
            ]
          },
          "metadata": {
            "tags": []
          },
          "execution_count": 65
        }
      ]
    },
    {
      "cell_type": "code",
      "metadata": {
        "id": "HXuE4L7PcRhZ",
        "colab_type": "code",
        "outputId": "34a5ea0e-f609-4c72-f5bf-2f7f8953df4d",
        "colab": {
          "base_uri": "https://localhost:8080/",
          "height": 235
        }
      },
      "source": [
        "df.corr()"
      ],
      "execution_count": 0,
      "outputs": [
        {
          "output_type": "execute_result",
          "data": {
            "text/html": [
              "<div>\n",
              "<style scoped>\n",
              "    .dataframe tbody tr th:only-of-type {\n",
              "        vertical-align: middle;\n",
              "    }\n",
              "\n",
              "    .dataframe tbody tr th {\n",
              "        vertical-align: top;\n",
              "    }\n",
              "\n",
              "    .dataframe thead th {\n",
              "        text-align: right;\n",
              "    }\n",
              "</style>\n",
              "<table border=\"1\" class=\"dataframe\">\n",
              "  <thead>\n",
              "    <tr style=\"text-align: right;\">\n",
              "      <th></th>\n",
              "      <th>age</th>\n",
              "      <th>fnlwgt</th>\n",
              "      <th>education-num</th>\n",
              "      <th>capital-gain</th>\n",
              "      <th>capital-loss</th>\n",
              "      <th>hours-per-week</th>\n",
              "    </tr>\n",
              "  </thead>\n",
              "  <tbody>\n",
              "    <tr>\n",
              "      <th>age</th>\n",
              "      <td>1.000000</td>\n",
              "      <td>-0.076646</td>\n",
              "      <td>0.036527</td>\n",
              "      <td>0.077674</td>\n",
              "      <td>0.057775</td>\n",
              "      <td>0.068756</td>\n",
              "    </tr>\n",
              "    <tr>\n",
              "      <th>fnlwgt</th>\n",
              "      <td>-0.076646</td>\n",
              "      <td>1.000000</td>\n",
              "      <td>-0.043195</td>\n",
              "      <td>0.000432</td>\n",
              "      <td>-0.010252</td>\n",
              "      <td>-0.018768</td>\n",
              "    </tr>\n",
              "    <tr>\n",
              "      <th>education-num</th>\n",
              "      <td>0.036527</td>\n",
              "      <td>-0.043195</td>\n",
              "      <td>1.000000</td>\n",
              "      <td>0.122630</td>\n",
              "      <td>0.079923</td>\n",
              "      <td>0.148123</td>\n",
              "    </tr>\n",
              "    <tr>\n",
              "      <th>capital-gain</th>\n",
              "      <td>0.077674</td>\n",
              "      <td>0.000432</td>\n",
              "      <td>0.122630</td>\n",
              "      <td>1.000000</td>\n",
              "      <td>-0.031615</td>\n",
              "      <td>0.078409</td>\n",
              "    </tr>\n",
              "    <tr>\n",
              "      <th>capital-loss</th>\n",
              "      <td>0.057775</td>\n",
              "      <td>-0.010252</td>\n",
              "      <td>0.079923</td>\n",
              "      <td>-0.031615</td>\n",
              "      <td>1.000000</td>\n",
              "      <td>0.054256</td>\n",
              "    </tr>\n",
              "    <tr>\n",
              "      <th>hours-per-week</th>\n",
              "      <td>0.068756</td>\n",
              "      <td>-0.018768</td>\n",
              "      <td>0.148123</td>\n",
              "      <td>0.078409</td>\n",
              "      <td>0.054256</td>\n",
              "      <td>1.000000</td>\n",
              "    </tr>\n",
              "  </tbody>\n",
              "</table>\n",
              "</div>"
            ],
            "text/plain": [
              "                     age    fnlwgt  ...  capital-loss  hours-per-week\n",
              "age             1.000000 -0.076646  ...      0.057775        0.068756\n",
              "fnlwgt         -0.076646  1.000000  ...     -0.010252       -0.018768\n",
              "education-num   0.036527 -0.043195  ...      0.079923        0.148123\n",
              "capital-gain    0.077674  0.000432  ...     -0.031615        0.078409\n",
              "capital-loss    0.057775 -0.010252  ...      1.000000        0.054256\n",
              "hours-per-week  0.068756 -0.018768  ...      0.054256        1.000000\n",
              "\n",
              "[6 rows x 6 columns]"
            ]
          },
          "metadata": {
            "tags": []
          },
          "execution_count": 66
        }
      ]
    },
    {
      "cell_type": "code",
      "metadata": {
        "id": "v9u8LX7xdcFA",
        "colab_type": "code",
        "outputId": "93e22f4c-a3a6-45b2-e6a1-382996f26e8b",
        "colab": {
          "base_uri": "https://localhost:8080/",
          "height": 286
        }
      },
      "source": [
        "df['hours-per-week'].hist()"
      ],
      "execution_count": 0,
      "outputs": [
        {
          "output_type": "execute_result",
          "data": {
            "text/plain": [
              "<matplotlib.axes._subplots.AxesSubplot at 0x7f0767fa9f60>"
            ]
          },
          "metadata": {
            "tags": []
          },
          "execution_count": 68
        },
        {
          "output_type": "display_data",
          "data": {
            "image/png": "[encoded data removed]",
            "text/plain": [
              "<Figure size 432x288 with 1 Axes>"
            ]
          },
          "metadata": {
            "tags": []
          }
        }
      ]
    },
    {
      "cell_type": "code",
      "metadata": {
        "id": "o9mc81EGdSsX",
        "colab_type": "code",
        "outputId": "cdc088bf-64f2-49ab-fff6-dedb3641b515",
        "colab": {
          "base_uri": "https://localhost:8080/",
          "height": 173
        }
      },
      "source": [
        "df.describe(exclude='number')"
      ],
      "execution_count": 0,
      "outputs": [
        {
          "output_type": "execute_result",
          "data": {
            "text/html": [
              "<div>\n",
              "<style scoped>\n",
              "    .dataframe tbody tr th:only-of-type {\n",
              "        vertical-align: middle;\n",
              "    }\n",
              "\n",
              "    .dataframe tbody tr th {\n",
              "        vertical-align: top;\n",
              "    }\n",
              "\n",
              "    .dataframe thead th {\n",
              "        text-align: right;\n",
              "    }\n",
              "</style>\n",
              "<table border=\"1\" class=\"dataframe\">\n",
              "  <thead>\n",
              "    <tr style=\"text-align: right;\">\n",
              "      <th></th>\n",
              "      <th>workclass</th>\n",
              "      <th>education</th>\n",
              "      <th>marital-status</th>\n",
              "      <th>occupation</th>\n",
              "      <th>relationship</th>\n",
              "      <th>race</th>\n",
              "      <th>sex</th>\n",
              "      <th>country</th>\n",
              "      <th>salary</th>\n",
              "    </tr>\n",
              "  </thead>\n",
              "  <tbody>\n",
              "    <tr>\n",
              "      <th>count</th>\n",
              "      <td>30725</td>\n",
              "      <td>32561</td>\n",
              "      <td>32561</td>\n",
              "      <td>30718</td>\n",
              "      <td>32561</td>\n",
              "      <td>32561</td>\n",
              "      <td>32561</td>\n",
              "      <td>31978</td>\n",
              "      <td>32561</td>\n",
              "    </tr>\n",
              "    <tr>\n",
              "      <th>unique</th>\n",
              "      <td>8</td>\n",
              "      <td>16</td>\n",
              "      <td>7</td>\n",
              "      <td>14</td>\n",
              "      <td>6</td>\n",
              "      <td>5</td>\n",
              "      <td>2</td>\n",
              "      <td>41</td>\n",
              "      <td>2</td>\n",
              "    </tr>\n",
              "    <tr>\n",
              "      <th>top</th>\n",
              "      <td>Private</td>\n",
              "      <td>HS-grad</td>\n",
              "      <td>Married-civ-spouse</td>\n",
              "      <td>Prof-specialty</td>\n",
              "      <td>Husband</td>\n",
              "      <td>White</td>\n",
              "      <td>Male</td>\n",
              "      <td>United-States</td>\n",
              "      <td>&lt;=50K</td>\n",
              "    </tr>\n",
              "    <tr>\n",
              "      <th>freq</th>\n",
              "      <td>22696</td>\n",
              "      <td>10501</td>\n",
              "      <td>14976</td>\n",
              "      <td>4140</td>\n",
              "      <td>13193</td>\n",
              "      <td>27816</td>\n",
              "      <td>21790</td>\n",
              "      <td>29170</td>\n",
              "      <td>24720</td>\n",
              "    </tr>\n",
              "  </tbody>\n",
              "</table>\n",
              "</div>"
            ],
            "text/plain": [
              "       workclass education       marital-status  ...    sex         country  salary\n",
              "count      30725     32561                32561  ...  32561           31978   32561\n",
              "unique         8        16                    7  ...      2              41       2\n",
              "top      Private   HS-grad   Married-civ-spouse  ...   Male   United-States   <=50K\n",
              "freq       22696     10501                14976  ...  21790           29170   24720\n",
              "\n",
              "[4 rows x 9 columns]"
            ]
          },
          "metadata": {
            "tags": []
          },
          "execution_count": 67
        }
      ]
    },
    {
      "cell_type": "code",
      "metadata": {
        "id": "kjnwxCi1doQG",
        "colab_type": "code",
        "outputId": "efbd498e-9a9e-4d35-9e69-249bebc0d567",
        "colab": {
          "base_uri": "https://localhost:8080/",
          "height": 136
        }
      },
      "source": [
        "cut_points = [0, 9, 19, 29, 39, 49, 500]\n",
        "label_names = ['0-9', '10-19', '20-29', '30-39', '40-49', '50+']\n",
        "df['hours_per_week_categories'] = pd.cut(df['hours-per-week'], cut_points, labels=label_names)\n",
        "df.hours_per_week_categories.value_counts()"
      ],
      "execution_count": 0,
      "outputs": [
        {
          "output_type": "execute_result",
          "data": {
            "text/plain": [
              "40-49    18336\n",
              "50+       6462\n",
              "30-39     3667\n",
              "20-29     2392\n",
              "10-19     1246\n",
              "0-9        458\n",
              "Name: hours_per_week_categories, dtype: int64"
            ]
          },
          "metadata": {
            "tags": []
          },
          "execution_count": 69
        }
      ]
    },
    {
      "cell_type": "code",
      "metadata": {
        "id": "gftnxSEgefpE",
        "colab_type": "code",
        "outputId": "11a7d21e-1645-4d33-b03c-997181944ec1",
        "colab": {
          "base_uri": "https://localhost:8080/",
          "height": 68
        }
      },
      "source": [
        "df.sex.value_counts()"
      ],
      "execution_count": 0,
      "outputs": [
        {
          "output_type": "execute_result",
          "data": {
            "text/plain": [
              " Male      21790\n",
              " Female    10771\n",
              "Name: sex, dtype: int64"
            ]
          },
          "metadata": {
            "tags": []
          },
          "execution_count": 70
        }
      ]
    },
    {
      "cell_type": "code",
      "metadata": {
        "id": "s2z9i9O8ekmM",
        "colab_type": "code",
        "outputId": "356b8555-faa4-44e5-9572-af6cac77cecc",
        "colab": {
          "base_uri": "https://localhost:8080/",
          "height": 173
        }
      },
      "source": [
        "df = df.sort_values(by='hours_per_week_categories')\n",
        "contingency_table = pd.crosstab(df['sex'], df['hours_per_week_categories'], margins=True)\n",
        "contingency_table"
      ],
      "execution_count": 0,
      "outputs": [
        {
          "output_type": "execute_result",
          "data": {
            "text/html": [
              "<div>\n",
              "<style scoped>\n",
              "    .dataframe tbody tr th:only-of-type {\n",
              "        vertical-align: middle;\n",
              "    }\n",
              "\n",
              "    .dataframe tbody tr th {\n",
              "        vertical-align: top;\n",
              "    }\n",
              "\n",
              "    .dataframe thead th {\n",
              "        text-align: right;\n",
              "    }\n",
              "</style>\n",
              "<table border=\"1\" class=\"dataframe\">\n",
              "  <thead>\n",
              "    <tr style=\"text-align: right;\">\n",
              "      <th>hours_per_week_categories</th>\n",
              "      <th>0-9</th>\n",
              "      <th>10-19</th>\n",
              "      <th>20-29</th>\n",
              "      <th>30-39</th>\n",
              "      <th>40-49</th>\n",
              "      <th>50+</th>\n",
              "      <th>All</th>\n",
              "    </tr>\n",
              "    <tr>\n",
              "      <th>sex</th>\n",
              "      <th></th>\n",
              "      <th></th>\n",
              "      <th></th>\n",
              "      <th></th>\n",
              "      <th></th>\n",
              "      <th></th>\n",
              "      <th></th>\n",
              "    </tr>\n",
              "  </thead>\n",
              "  <tbody>\n",
              "    <tr>\n",
              "      <th>Female</th>\n",
              "      <td>235</td>\n",
              "      <td>671</td>\n",
              "      <td>1287</td>\n",
              "      <td>1914</td>\n",
              "      <td>5636</td>\n",
              "      <td>1028</td>\n",
              "      <td>10771</td>\n",
              "    </tr>\n",
              "    <tr>\n",
              "      <th>Male</th>\n",
              "      <td>223</td>\n",
              "      <td>575</td>\n",
              "      <td>1105</td>\n",
              "      <td>1753</td>\n",
              "      <td>12700</td>\n",
              "      <td>5434</td>\n",
              "      <td>21790</td>\n",
              "    </tr>\n",
              "    <tr>\n",
              "      <th>All</th>\n",
              "      <td>458</td>\n",
              "      <td>1246</td>\n",
              "      <td>2392</td>\n",
              "      <td>3667</td>\n",
              "      <td>18336</td>\n",
              "      <td>6462</td>\n",
              "      <td>32561</td>\n",
              "    </tr>\n",
              "  </tbody>\n",
              "</table>\n",
              "</div>"
            ],
            "text/plain": [
              "hours_per_week_categories  0-9  10-19  20-29  30-39  40-49   50+    All\n",
              "sex                                                                    \n",
              " Female                    235    671   1287   1914   5636  1028  10771\n",
              " Male                      223    575   1105   1753  12700  5434  21790\n",
              "All                        458   1246   2392   3667  18336  6462  32561"
            ]
          },
          "metadata": {
            "tags": []
          },
          "execution_count": 75
        }
      ]
    },
    {
      "cell_type": "markdown",
      "metadata": {
        "id": "uyw_hby7-OHF",
        "colab_type": "text"
      },
      "source": [
        "## Expected Value Calculation\n",
        "\\begin{align}\n",
        "expected_{i,j} =\\frac{(row_{i} \\text{total})(column_{j} \\text{total}) }{(\\text{total observations})}  \n",
        "\\end{align}"
      ]
    },
    {
      "cell_type": "code",
      "metadata": {
        "id": "C11nWaal-acY",
        "colab_type": "code",
        "outputId": "aad1ca44-6218-42c7-e874-9b0b27b3b02c",
        "colab": {
          "base_uri": "https://localhost:8080/",
          "height": 51
        }
      },
      "source": [
        "row_sums = contingency_table.iloc[0:2, 6].values\n",
        "col_sums = contingency_table.iloc[2, 0:6].values\n",
        "\n",
        "print(row_sums)\n",
        "print(col_sums)"
      ],
      "execution_count": 0,
      "outputs": [
        {
          "output_type": "stream",
          "text": [
            "[10771 21790]\n",
            "[  458  1246  2392  3667 18336  6462]\n"
          ],
          "name": "stdout"
        }
      ]
    },
    {
      "cell_type": "code",
      "metadata": {
        "id": "01NuPzMXgZa7",
        "colab_type": "code",
        "outputId": "ed44c64c-519f-4d67-9c50-a52252f08f9e",
        "colab": {
          "base_uri": "https://localhost:8080/",
          "height": 34
        }
      },
      "source": [
        "total = contingency_table.loc['All', 'All']\n",
        "total"
      ],
      "execution_count": 0,
      "outputs": [
        {
          "output_type": "execute_result",
          "data": {
            "text/plain": [
              "32561"
            ]
          },
          "metadata": {
            "tags": []
          },
          "execution_count": 77
        }
      ]
    },
    {
      "cell_type": "code",
      "metadata": {
        "id": "XZHMmo6_gtcD",
        "colab_type": "code",
        "outputId": "e17d45b3-fc37-4901-b45e-cd6f72181336",
        "colab": {
          "base_uri": "https://localhost:8080/",
          "height": 102
        }
      },
      "source": [
        "expected = []\n",
        "for i in range(len(row_sums)):\n",
        "    expected_row = []\n",
        "    for column in col_sums:\n",
        "        expected_val = column*row_sums[i]/total\n",
        "        expected_row.append(expected_val)\n",
        "    expected.append(expected_row)\n",
        "    \n",
        "expected = np.array(expected)\n",
        "print(expected.shape)\n",
        "print(expected)"
      ],
      "execution_count": 0,
      "outputs": [
        {
          "output_type": "stream",
          "text": [
            "(2, 6)\n",
            "[[  151.50388502   412.16995793   791.26046497  1213.02346365\n",
            "   6065.44811277  2137.59411566]\n",
            " [  306.49611498   833.83004207  1600.73953503  2453.97653635\n",
            "  12270.55188723  4324.40588434]]\n"
          ],
          "name": "stdout"
        }
      ]
    },
    {
      "cell_type": "code",
      "metadata": {
        "id": "7fFqNK2dhTjt",
        "colab_type": "code",
        "outputId": "6fbfdf16-15f0-4484-e8f4-2e578052c4ef",
        "colab": {
          "base_uri": "https://localhost:8080/",
          "height": 173
        }
      },
      "source": [
        "contingency_table"
      ],
      "execution_count": 0,
      "outputs": [
        {
          "output_type": "execute_result",
          "data": {
            "text/html": [
              "<div>\n",
              "<style scoped>\n",
              "    .dataframe tbody tr th:only-of-type {\n",
              "        vertical-align: middle;\n",
              "    }\n",
              "\n",
              "    .dataframe tbody tr th {\n",
              "        vertical-align: top;\n",
              "    }\n",
              "\n",
              "    .dataframe thead th {\n",
              "        text-align: right;\n",
              "    }\n",
              "</style>\n",
              "<table border=\"1\" class=\"dataframe\">\n",
              "  <thead>\n",
              "    <tr style=\"text-align: right;\">\n",
              "      <th>hours_per_week_categories</th>\n",
              "      <th>0-9</th>\n",
              "      <th>10-19</th>\n",
              "      <th>20-29</th>\n",
              "      <th>30-39</th>\n",
              "      <th>40-49</th>\n",
              "      <th>50+</th>\n",
              "      <th>All</th>\n",
              "    </tr>\n",
              "    <tr>\n",
              "      <th>sex</th>\n",
              "      <th></th>\n",
              "      <th></th>\n",
              "      <th></th>\n",
              "      <th></th>\n",
              "      <th></th>\n",
              "      <th></th>\n",
              "      <th></th>\n",
              "    </tr>\n",
              "  </thead>\n",
              "  <tbody>\n",
              "    <tr>\n",
              "      <th>Female</th>\n",
              "      <td>235</td>\n",
              "      <td>671</td>\n",
              "      <td>1287</td>\n",
              "      <td>1914</td>\n",
              "      <td>5636</td>\n",
              "      <td>1028</td>\n",
              "      <td>10771</td>\n",
              "    </tr>\n",
              "    <tr>\n",
              "      <th>Male</th>\n",
              "      <td>223</td>\n",
              "      <td>575</td>\n",
              "      <td>1105</td>\n",
              "      <td>1753</td>\n",
              "      <td>12700</td>\n",
              "      <td>5434</td>\n",
              "      <td>21790</td>\n",
              "    </tr>\n",
              "    <tr>\n",
              "      <th>All</th>\n",
              "      <td>458</td>\n",
              "      <td>1246</td>\n",
              "      <td>2392</td>\n",
              "      <td>3667</td>\n",
              "      <td>18336</td>\n",
              "      <td>6462</td>\n",
              "      <td>32561</td>\n",
              "    </tr>\n",
              "  </tbody>\n",
              "</table>\n",
              "</div>"
            ],
            "text/plain": [
              "hours_per_week_categories  0-9  10-19  20-29  30-39  40-49   50+    All\n",
              "sex                                                                    \n",
              " Female                    235    671   1287   1914   5636  1028  10771\n",
              " Male                      223    575   1105   1753  12700  5434  21790\n",
              "All                        458   1246   2392   3667  18336  6462  32561"
            ]
          },
          "metadata": {
            "tags": []
          },
          "execution_count": 79
        }
      ]
    },
    {
      "cell_type": "markdown",
      "metadata": {
        "id": "R6AWydhG_P4s",
        "colab_type": "text"
      },
      "source": [
        "## Chi-Squared Statistic with Numpy\n",
        "\n",
        "\\begin{align}\n",
        "\\chi^2 = \\sum \\frac{(observed_{i}-expected_{i})^2}{(expected_{i})}\n",
        "\\end{align}\n",
        "\n",
        "For the $observed$ values we will just use a version of our contingency table without the margins as a numpy array. In this way, if our observed values array and our expected values array are the same shape, then we can subtract them and divide them directly which makes the calculations a lot cleaner. No for loops!"
      ]
    },
    {
      "cell_type": "code",
      "metadata": {
        "id": "qR_f_LothiZf",
        "colab_type": "code",
        "outputId": "f5b6b570-98ac-4bc0-f76c-c812b3ef90a2",
        "colab": {
          "base_uri": "https://localhost:8080/",
          "height": 68
        }
      },
      "source": [
        "observed = pd.crosstab(df['sex'], df['hours_per_week_categories']).values\n",
        "print(observed.shape)\n",
        "observed"
      ],
      "execution_count": 0,
      "outputs": [
        {
          "output_type": "stream",
          "text": [
            "(2, 6)\n"
          ],
          "name": "stdout"
        },
        {
          "output_type": "execute_result",
          "data": {
            "text/plain": [
              "array([[  235,   671,  1287,  1914,  5636,  1028],\n",
              "       [  223,   575,  1105,  1753, 12700,  5434]])"
            ]
          },
          "metadata": {
            "tags": []
          },
          "execution_count": 80
        }
      ]
    },
    {
      "cell_type": "code",
      "metadata": {
        "id": "o7YgaNij_cSo",
        "colab_type": "code",
        "outputId": "b04f6df4-c67d-4859-a7ae-6233aade538d",
        "colab": {
          "base_uri": "https://localhost:8080/",
          "height": 34
        }
      },
      "source": [
        "chi_square = ((observed - expected)**2/(expected)).sum()\n",
        "chi_square"
      ],
      "execution_count": 0,
      "outputs": [
        {
          "output_type": "execute_result",
          "data": {
            "text/plain": [
              "2287.190943926107"
            ]
          },
          "metadata": {
            "tags": []
          },
          "execution_count": 81
        }
      ]
    },
    {
      "cell_type": "markdown",
      "metadata": {
        "id": "7Igz-XHcVbW3",
        "colab_type": "text"
      },
      "source": [
        "## Run a $\\chi^{2}$ Test using Scipy"
      ]
    },
    {
      "cell_type": "code",
      "metadata": {
        "id": "kazgId8L9tYZ",
        "colab_type": "code",
        "outputId": "4b5774f2-4c5f-421f-83f3-b48f3a9ba72c",
        "colab": {
          "base_uri": "https://localhost:8080/",
          "height": 85
        }
      },
      "source": [
        "chi_squared, p_value, dof, expected = stats.chi2_contingency(observed)\n",
        "print(chi_squared, p_value, dof, expected)"
      ],
      "execution_count": 0,
      "outputs": [
        {
          "output_type": "stream",
          "text": [
            "2287.190943926107 0.0 5 [[  151.50388502   412.16995793   791.26046497  1213.02346365\n",
            "   6065.44811277  2137.59411566]\n",
            " [  306.49611498   833.83004207  1600.73953503  2453.97653635\n",
            "  12270.55188723  4324.40588434]]\n"
          ],
          "name": "stdout"
        }
      ]
    },
    {
      "cell_type": "markdown",
      "metadata": {
        "id": "TRtBEP3rA307",
        "colab_type": "text"
      },
      "source": [
        "Null Hypothesis: Hours worked per week bins is **independent** of sex. \n",
        "\n",
        "Due to a p-value of 0, we REJECT the null hypothesis that hours worked per week and sex are independent, and conclude that there is an association between hours worked per week and sex. "
      ]
    },
    {
      "cell_type": "markdown",
      "metadata": {
        "id": "11OzdxWTM7UR",
        "colab_type": "text"
      },
      "source": [
        "## Assignment - Build a confidence interval\n",
        "\n",
        "A confidence interval refers to a neighborhood around some point estimate, the size of which is determined by the desired p-value. For instance, we might say that 52% of Americans prefer tacos to burritos, with a 95% confidence interval of +/- 5%.\n",
        "\n",
        "52% (0.52) is the point estimate, and +/- 5% (the interval $[0.47, 0.57]$) is the confidence interval. \"95% confidence\" means a p-value $\\leq 1 - 0.95 = 0.05$.\n",
        "\n",
        "In this case, the confidence interval includes $0.5$ - which is the natural null hypothesis (that half of Americans prefer tacos and half burritos, thus there is no clear favorite). So in this case, we could use the confidence interval to report that we've failed to reject the null hypothesis.\n",
        "\n",
        "But providing the full analysis with a confidence interval, including a graphical representation of it, can be a helpful and powerful way to tell your story. Done well, it is also more intuitive to a layperson than simply saying \"fail to reject the null hypothesis\" - it shows that in fact the data does *not* give a single clear result (the point estimate) but a whole range of possibilities.\n",
        "\n",
        "How is a confidence interval built, and how should it be interpreted? It does *not* mean that 95% of the data lies in that interval - instead, the frequentist interpretation is \"if we were to repeat this experiment 100 times, we would expect the average result to lie in this interval ~95 times.\"\n",
        "\n",
        "For a 95% confidence interval and a normal(-ish) distribution, you can simply remember that +/-2 standard deviations contains 95% of the probability mass, and so the 95% confidence interval based on a given sample is centered at the mean (point estimate) and has a range of +/- 2 (or technically 1.96) standard deviations.\n",
        "\n",
        "Different distributions/assumptions (90% confidence, 99% confidence) will require different math, but the overall process and interpretation (with a frequentist approach) will be the same.\n",
        "\n",
        "Your assignment - using the data from the prior module ([congressional voting records](https://archive.ics.uci.edu/ml/datasets/Congressional+Voting+Records)):\n",
        "\n",
        "\n",
        "### Confidence Intervals:\n",
        "1. Generate and numerically represent a confidence interval\n",
        "2. Graphically (with a plot) represent the confidence interval\n",
        "3. Interpret the confidence interval - what does it tell you about the data and its distribution?\n",
        "\n",
        "### Chi-squared tests:\n",
        "4. Take a dataset that we have used in the past in class that has **categorical** variables. Pick two of those categorical variables and run a chi-squared tests on that data\n",
        "  - By hand using Numpy\n",
        "  - In a single line using Scipy\n",
        "\n",
        "Stretch goals:\n",
        "\n",
        "1. Write a summary of your findings, mixing prose and math/code/results. *Note* - yes, this is by definition a political topic. It is challenging but important to keep your writing voice *neutral* and stick to the facts of the data. Data science often involves considering controversial issues, so it's important to be sensitive about them (especially if you want to publish).\n",
        "2. Apply the techniques you learned today to your project data or other data of your choice, and write/discuss your findings here.\n",
        "3. Refactor your code so it is elegant, readable, and can be easily run for all issues."
      ]
    },
    {
      "cell_type": "code",
      "metadata": {
        "id": "Ckcr4A4FM7cs",
        "colab_type": "code",
        "colab": {}
      },
      "source": [
        "# TODO - your code!"
      ],
      "execution_count": 0,
      "outputs": []
    },
    {
      "cell_type": "markdown",
      "metadata": {
        "id": "nyJ3ySr7R2k9",
        "colab_type": "text"
      },
      "source": [
        "## Resources\n",
        "\n",
        "- [Interactive visualize the Chi-Squared test](https://homepage.divms.uiowa.edu/~mbognar/applets/chisq.html)\n",
        "- [Calculation of Chi-Squared test statistic](https://en.wikipedia.org/wiki/Pearson%27s_chi-squared_test)\n",
        "- [Visualization of a confidence interval generated by R code](https://commons.wikimedia.org/wiki/File:Confidence-interval.svg)\n",
        "- [Expected value of a squared standard normal](https://math.stackexchange.com/questions/264061/expected-value-calculation-for-squared-normal-distribution) (it's 1 - which is why the expected value of a Chi-Squared with $n$ degrees of freedom is $n$, as it's the sum of $n$ squared standard normals)"
      ]
    }
  ]
}