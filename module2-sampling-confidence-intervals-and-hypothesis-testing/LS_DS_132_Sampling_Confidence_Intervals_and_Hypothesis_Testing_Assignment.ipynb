{
 "cells": [
  {
   "cell_type": "markdown",
   "metadata": {
    "colab_type": "text",
    "id": "view-in-github"
   },
   "source": [
    "<a href=\"https://colab.research.google.com/github/ryanleeallred/DS-Unit-1-Sprint-3-Statistical-Tests-and-Experiments/blob/master/module2-sampling-confidence-intervals-and-hypothesis-testing/LS_DS_132_Sampling_Confidence_Intervals_and_Hypothesis_Testing_Assignment.ipynb\" target=\"_parent\"><img src=\"https://colab.research.google.com/assets/colab-badge.svg\" alt=\"Open In Colab\"/></a>"
   ]
  },
  {
   "cell_type": "markdown",
   "metadata": {
    "colab_type": "text",
    "id": "11OzdxWTM7UR"
   },
   "source": [
    "## Assignment - Build a confidence interval\n",
    "\n",
    "A confidence interval refers to a neighborhood around some point estimate, the size of which is determined by the desired p-value. For instance, we might say that 52% of Americans prefer tacos to burritos, with a 95% confidence interval of +/- 5%.\n",
    "\n",
    "52% (0.52) is the point estimate, and +/- 5% (the interval $[0.47, 0.57]$) is the confidence interval. \"95% confidence\" means a p-value $\\leq 1 - 0.95 = 0.05$.\n",
    "\n",
    "In this case, the confidence interval includes $0.5$ - which is the natural null hypothesis (that half of Americans prefer tacos and half burritos, thus there is no clear favorite). So in this case, we could use the confidence interval to report that we've failed to reject the null hypothesis.\n",
    "\n",
    "But providing the full analysis with a confidence interval, including a graphical representation of it, can be a helpful and powerful way to tell your story. Done well, it is also more intuitive to a layperson than simply saying \"fail to reject the null hypothesis\" - it shows that in fact the data does *not* give a single clear result (the point estimate) but a whole range of possibilities.\n",
    "\n",
    "How is a confidence interval built, and how should it be interpreted? It does *not* mean that 95% of the data lies in that interval - instead, the frequentist interpretation is \"if we were to repeat this experiment 100 times, we would expect the average result to lie in this interval ~95 times.\"\n",
    "\n",
    "For a 95% confidence interval and a normal(-ish) distribution, you can simply remember that +/-2 standard deviations contains 95% of the probability mass, and so the 95% confidence interval based on a given sample is centered at the mean (point estimate) and has a range of +/- 2 (or technically 1.96) standard deviations.\n",
    "\n",
    "Different distributions/assumptions (90% confidence, 99% confidence) will require different math, but the overall process and interpretation (with a frequentist approach) will be the same.\n",
    "\n",
    "Your assignment - using the data from the prior module ([congressional voting records](https://archive.ics.uci.edu/ml/datasets/Congressional+Voting+Records)):\n",
    "\n",
    "\n",
    "### Confidence Intervals:\n",
    "1. Generate and numerically represent a confidence interval\n",
    "2. Graphically (with a plot) represent the confidence interval\n",
    "3. Interpret the confidence interval - what does it tell you about the data and its distribution?\n",
    "\n",
    "### Chi-squared tests:\n",
    "4. Take a dataset that we have used in the past in class that has **categorical** variables. Pick two of those categorical variables and run a chi-squared tests on that data\n",
    "  - By hand using Numpy\n",
    "  - In a single line using Scipy\n"
   ]
  },
  {
   "cell_type": "code",
   "execution_count": null,
   "metadata": {
    "colab": {},
    "colab_type": "code",
    "id": "Ckcr4A4FM7cs"
   },
   "outputs": [],
   "source": [
    "# TODO - your code!"
   ]
  },
  {
   "cell_type": "code",
   "execution_count": 1,
   "metadata": {},
   "outputs": [],
   "source": [
    "# Start by importing the necessary libraries\n",
    "import pandas as pd\n",
    "import scipy.stats as sps\n",
    "import numpy as np"
   ]
  },
  {
   "cell_type": "code",
   "execution_count": 2,
   "metadata": {},
   "outputs": [],
   "source": [
    "df= pd.read_csv(r'C:\\Users\\Administrator\\Downloads\\house-votes-84.data', header=None)\n",
    "\n",
    "# Fix column names to match the issue voted on\n",
    "df = df.rename(columns={0:'party', 1:'handicapped-infants', 2:'water-project',\n",
    "                  3:'budget', 4:'phys-fee-freeze', 5:'elsalvador-aid', 6:'religious-groups-in-schools',\n",
    "                  7:'anti-satellite', 8:'nicaraguan-aid', 9:'mx-missile', 10:'immigration',\n",
    "                 11:'synfuels', 12:'education', 13:'superfund', 14:'crime', 15:'duty-free-exp',\n",
    "                  16:'export-adm-sa'})"
   ]
  },
  {
   "cell_type": "code",
   "execution_count": 4,
   "metadata": {},
   "outputs": [
    {
     "data": {
      "text/html": [
       "<div>\n",
       "<style scoped>\n",
       "    .dataframe tbody tr th:only-of-type {\n",
       "        vertical-align: middle;\n",
       "    }\n",
       "\n",
       "    .dataframe tbody tr th {\n",
       "        vertical-align: top;\n",
       "    }\n",
       "\n",
       "    .dataframe thead th {\n",
       "        text-align: right;\n",
       "    }\n",
       "</style>\n",
       "<table border=\"1\" class=\"dataframe\">\n",
       "  <thead>\n",
       "    <tr style=\"text-align: right;\">\n",
       "      <th></th>\n",
       "      <th>party</th>\n",
       "      <th>handicapped-infants</th>\n",
       "      <th>water-project</th>\n",
       "      <th>budget</th>\n",
       "      <th>phys-fee-freeze</th>\n",
       "      <th>elsalvador-aid</th>\n",
       "      <th>religious-groups-in-schools</th>\n",
       "      <th>anti-satellite</th>\n",
       "      <th>nicaraguan-aid</th>\n",
       "      <th>mx-missile</th>\n",
       "      <th>immigration</th>\n",
       "      <th>synfuels</th>\n",
       "      <th>education</th>\n",
       "      <th>superfund</th>\n",
       "      <th>crime</th>\n",
       "      <th>duty-free-exp</th>\n",
       "      <th>export-adm-sa</th>\n",
       "    </tr>\n",
       "  </thead>\n",
       "  <tbody>\n",
       "    <tr>\n",
       "      <td>0</td>\n",
       "      <td>republican</td>\n",
       "      <td>n</td>\n",
       "      <td>y</td>\n",
       "      <td>n</td>\n",
       "      <td>y</td>\n",
       "      <td>y</td>\n",
       "      <td>y</td>\n",
       "      <td>n</td>\n",
       "      <td>n</td>\n",
       "      <td>n</td>\n",
       "      <td>y</td>\n",
       "      <td>?</td>\n",
       "      <td>y</td>\n",
       "      <td>y</td>\n",
       "      <td>y</td>\n",
       "      <td>n</td>\n",
       "      <td>y</td>\n",
       "    </tr>\n",
       "    <tr>\n",
       "      <td>1</td>\n",
       "      <td>republican</td>\n",
       "      <td>n</td>\n",
       "      <td>y</td>\n",
       "      <td>n</td>\n",
       "      <td>y</td>\n",
       "      <td>y</td>\n",
       "      <td>y</td>\n",
       "      <td>n</td>\n",
       "      <td>n</td>\n",
       "      <td>n</td>\n",
       "      <td>n</td>\n",
       "      <td>n</td>\n",
       "      <td>y</td>\n",
       "      <td>y</td>\n",
       "      <td>y</td>\n",
       "      <td>n</td>\n",
       "      <td>?</td>\n",
       "    </tr>\n",
       "    <tr>\n",
       "      <td>2</td>\n",
       "      <td>democrat</td>\n",
       "      <td>?</td>\n",
       "      <td>y</td>\n",
       "      <td>y</td>\n",
       "      <td>?</td>\n",
       "      <td>y</td>\n",
       "      <td>y</td>\n",
       "      <td>n</td>\n",
       "      <td>n</td>\n",
       "      <td>n</td>\n",
       "      <td>n</td>\n",
       "      <td>y</td>\n",
       "      <td>n</td>\n",
       "      <td>y</td>\n",
       "      <td>y</td>\n",
       "      <td>n</td>\n",
       "      <td>n</td>\n",
       "    </tr>\n",
       "    <tr>\n",
       "      <td>3</td>\n",
       "      <td>democrat</td>\n",
       "      <td>n</td>\n",
       "      <td>y</td>\n",
       "      <td>y</td>\n",
       "      <td>n</td>\n",
       "      <td>?</td>\n",
       "      <td>y</td>\n",
       "      <td>n</td>\n",
       "      <td>n</td>\n",
       "      <td>n</td>\n",
       "      <td>n</td>\n",
       "      <td>y</td>\n",
       "      <td>n</td>\n",
       "      <td>y</td>\n",
       "      <td>n</td>\n",
       "      <td>n</td>\n",
       "      <td>y</td>\n",
       "    </tr>\n",
       "    <tr>\n",
       "      <td>4</td>\n",
       "      <td>democrat</td>\n",
       "      <td>y</td>\n",
       "      <td>y</td>\n",
       "      <td>y</td>\n",
       "      <td>n</td>\n",
       "      <td>y</td>\n",
       "      <td>y</td>\n",
       "      <td>n</td>\n",
       "      <td>n</td>\n",
       "      <td>n</td>\n",
       "      <td>n</td>\n",
       "      <td>y</td>\n",
       "      <td>?</td>\n",
       "      <td>y</td>\n",
       "      <td>y</td>\n",
       "      <td>y</td>\n",
       "      <td>y</td>\n",
       "    </tr>\n",
       "  </tbody>\n",
       "</table>\n",
       "</div>"
      ],
      "text/plain": [
       "        party handicapped-infants water-project budget phys-fee-freeze  \\\n",
       "0  republican                   n             y      n               y   \n",
       "1  republican                   n             y      n               y   \n",
       "2    democrat                   ?             y      y               ?   \n",
       "3    democrat                   n             y      y               n   \n",
       "4    democrat                   y             y      y               n   \n",
       "\n",
       "  elsalvador-aid religious-groups-in-schools anti-satellite nicaraguan-aid  \\\n",
       "0              y                           y              n              n   \n",
       "1              y                           y              n              n   \n",
       "2              y                           y              n              n   \n",
       "3              ?                           y              n              n   \n",
       "4              y                           y              n              n   \n",
       "\n",
       "  mx-missile immigration synfuels education superfund crime duty-free-exp  \\\n",
       "0          n           y        ?         y         y     y             n   \n",
       "1          n           n        n         y         y     y             n   \n",
       "2          n           n        y         n         y     y             n   \n",
       "3          n           n        y         n         y     n             n   \n",
       "4          n           n        y         ?         y     y             y   \n",
       "\n",
       "  export-adm-sa  \n",
       "0             y  \n",
       "1             ?  \n",
       "2             n  \n",
       "3             y  \n",
       "4             y  "
      ]
     },
     "execution_count": 4,
     "metadata": {},
     "output_type": "execute_result"
    }
   ],
   "source": [
    "df.head()"
   ]
  },
  {
   "cell_type": "code",
   "execution_count": 68,
   "metadata": {},
   "outputs": [],
   "source": [
    "# Change votes to numeric format with 1 representing 'y', and 0 represeting 'n'. NaN fills for '?'\n",
    "df= df.replace({'y':1, 'n':0, '?':np.NaN})\n",
    "dem = df[df['party']== 'democrat']\n",
    "rep = df[df['party']== 'republican']"
   ]
  },
  {
   "cell_type": "code",
   "execution_count": 93,
   "metadata": {},
   "outputs": [],
   "source": [
    "def statsGet(self, sample=True, confidence=0.95, get='none', h0='none'):\n",
    "    '''This section of the function will place the passed data into a numpy array with the variable name data.\n",
    "    Secondly defines N, mean, and variance.'''\n",
    "    data= np.array(self)\n",
    "    N= len(data)\n",
    "    mean= sum(data)/N\n",
    "    \n",
    "    '''Define the function for finding variance'''\n",
    "    def variance(data, sample=True):\n",
    "        if sample!= True:\n",
    "            diff= [x- mean for x in data]\n",
    "            variance= sum([i**2 for i in diff])/N\n",
    "            return variance\n",
    "        else:\n",
    "            diff= [x- mean for x in data]\n",
    "            variance= sum([i**2 for i in diff])/(N-1)\n",
    "            return variance\n",
    "    \n",
    "    '''Define the function for finding the sample deviation'''\n",
    "    def deviation(data, sample=True):\n",
    "        if sample!= True:\n",
    "            return variance(data, sample=False)**.5\n",
    "        else:\n",
    "            return variance(data)**.5\n",
    "    \n",
    "    '''Define the function for finding the standard error'''\n",
    "    def stderr(data, sample=True):\n",
    "        if sample!= True:\n",
    "            return deviation(data, sample=False)/(N**.5)\n",
    "        else:\n",
    "            return deviation(data)/(N**.5)\n",
    "        \n",
    "    '''Define Interval'''\n",
    "    def interval(data, sample=True):\n",
    "        if sample!= True:\n",
    "            return stderr(data, sample=False)* sps.t.ppf((1 + confidence) / 2, N)\n",
    "        else:\n",
    "            return stderr(data)* sps.t.ppf((1 + confidence) / 2, N - 1)\n",
    "        \n",
    "    def format2(value):\n",
    "        return '{:.2f}'.format(value)\n",
    "    \n",
    "    if sample!= True:\n",
    "        \n",
    "        '''Values for statistical analysis for population data.'''\n",
    "        if get == 'none':\n",
    "            raise ValueError('No analysis requested')\n",
    "        if get == 'ci':\n",
    "            return [mean-interval(data, sample=False), mean+interval(data, sample=False)]\n",
    "        if get == 'ttest':\n",
    "            if h0 == 'none':\n",
    "                raise ValueError('Null Hypothesis not indicated.')\n",
    "            else:\n",
    "                return sps.ttest_1samp(data, h0, nan_policy='omit')\n",
    "        if get == 'dev':\n",
    "            return deviation(data, sample=False)\n",
    "        \n",
    "        '''Values for statistical analysis for sample data.'''\n",
    "    else:\n",
    "        if get == 'none':\n",
    "            raise ValueError('No analysis requested')\n",
    "        if get == 'ci':\n",
    "            return [mean-interval(data), mean+interval(data)]\n",
    "        if get == 'ttest':\n",
    "            if h0 == 'none':\n",
    "                raise ValueError('Null Hypothesis not indicated.')\n",
    "            else:\n",
    "                return sps.ttest_1samp(data, h0, nan_policy='omit')\n",
    "        if get == 'dev':\n",
    "            return deviation(data)\n",
    "        \n",
    "            "
   ]
  },
  {
   "cell_type": "code",
   "execution_count": 100,
   "metadata": {},
   "outputs": [
    {
     "data": {
      "text/plain": [
       "[0.8499435153340718, 0.9269795615890051]"
      ]
     },
     "execution_count": 100,
     "metadata": {},
     "output_type": "execute_result"
    }
   ],
   "source": [
    "statsGet(dem['budget'].dropna(), get='ci')"
   ]
  },
  {
   "cell_type": "code",
   "execution_count": 116,
   "metadata": {},
   "outputs": [
    {
     "data": {
      "text/plain": [
       "<matplotlib.collections.LineCollection at 0x1edd1c75d68>"
      ]
     },
     "execution_count": 116,
     "metadata": {},
     "output_type": "execute_result"
    },
    {
     "data": {
      "text/plain": [
       "<Figure size 720x576 with 0 Axes>"
      ]
     },
     "metadata": {},
     "output_type": "display_data"
    },
    {
     "data": {
      "image/png": "[encoded data removed]",
      "text/plain": [
       "<Figure size 432x288 with 1 Axes>"
      ]
     },
     "metadata": {
      "needs_background": "light"
     },
     "output_type": "display_data"
    }
   ],
   "source": [
    "'''This is a most extremely simple graph that I made in ~15 seconds.'''\n",
    "\n",
    "\n",
    "%matplotlib inline\n",
    "import matplotlib.pyplot as plt\n",
    "import seaborn as sns\n",
    "dem_budget= dem['budget'].dropna()\n",
    "dem_water= dem['water-project'].dropna()\n",
    "fig = plt.figure(figsize=(10, 8))\n",
    "\n",
    "plt.subplots()\n",
    "\n",
    "dem_budget_mean= dem['budget'].dropna().mean()\n",
    "plt.bar(1, dem_budget_mean)\n",
    "plt.vlines(1, statsGet(dem_budget, get='ci')[0], statsGet(dem_budget, get='ci')[1])\n",
    "\n",
    "dem_waterp_mean= dem_water.mean()\n",
    "plt.bar(2, dem_waterp_mean)\n",
    "plt.vlines(2, statsGet(dem_water, get='ci')[0], statsGet(dem_water, get='ci')[1])"
   ]
  },
  {
   "cell_type": "markdown",
   "metadata": {
    "colab_type": "text",
    "id": "4ohsJhQUmEuS"
   },
   "source": [
    "## Stretch goals:\n",
    "\n",
    "1. Write a summary of your findings, mixing prose and math/code/results. *Note* - yes, this is by definition a political topic. It is challenging but important to keep your writing voice *neutral* and stick to the facts of the data. Data science often involves considering controversial issues, so it's important to be sensitive about them (especially if you want to publish).\n",
    "2. Apply the techniques you learned today to your project data or other data of your choice, and write/discuss your findings here.\n",
    "3. Refactor your code so it is elegant, readable, and can be easily run for all issues."
   ]
  },
  {
   "cell_type": "markdown",
   "metadata": {
    "colab_type": "text",
    "id": "nyJ3ySr7R2k9"
   },
   "source": [
    "## Resources\n",
    "\n",
    "- [Interactive visualize the Chi-Squared test](https://homepage.divms.uiowa.edu/~mbognar/applets/chisq.html)\n",
    "- [Calculation of Chi-Squared test statistic](https://en.wikipedia.org/wiki/Pearson%27s_chi-squared_test)\n",
    "- [Visualization of a confidence interval generated by R code](https://commons.wikimedia.org/wiki/File:Confidence-interval.svg)\n",
    "- [Expected value of a squared standard normal](https://math.stackexchange.com/questions/264061/expected-value-calculation-for-squared-normal-distribution) (it's 1 - which is why the expected value of a Chi-Squared with $n$ degrees of freedom is $n$, as it's the sum of $n$ squared standard normals)"
   ]
  }
 ],
 "metadata": {
  "colab": {
   "collapsed_sections": [],
   "include_colab_link": true,
   "name": "LS_DS_132_Sampling_Confidence_Intervals_and_Hypothesis_Testing_Assignment.ipynb",
   "provenance": [],
   "version": "0.3.2"
  },
  "kernelspec": {
   "display_name": "Python 3",
   "language": "python",
   "name": "python3"
  },
  "language_info": {
   "codemirror_mode": {
    "name": "ipython",
    "version": 3
   },
   "file_extension": ".py",
   "mimetype": "text/x-python",
   "name": "python",
   "nbconvert_exporter": "python",
   "pygments_lexer": "ipython3",
   "version": "3.7.3"
  }
 },
 "nbformat": 4,
 "nbformat_minor": 4
}
