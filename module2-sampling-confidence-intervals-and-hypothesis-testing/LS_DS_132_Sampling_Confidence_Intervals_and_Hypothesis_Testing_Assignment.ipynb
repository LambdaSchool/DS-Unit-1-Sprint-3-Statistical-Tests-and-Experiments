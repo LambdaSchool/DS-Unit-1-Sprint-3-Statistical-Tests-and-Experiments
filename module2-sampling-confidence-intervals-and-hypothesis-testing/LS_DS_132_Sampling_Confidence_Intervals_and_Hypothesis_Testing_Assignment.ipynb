{
  "nbformat": 4,
  "nbformat_minor": 0,
  "metadata": {
    "colab": {
      "name": "Copy of LS_DS_132_Sampling_Confidence_Intervals_and_Hypothesis_Testing_Assignment.ipynb",
      "provenance": [],
      "collapsed_sections": [],
      "include_colab_link": true
    },
    "kernelspec": {
      "name": "python3",
      "display_name": "Python 3"
    }
  },
  "cells": [
    {
      "cell_type": "markdown",
      "metadata": {
        "id": "view-in-github",
        "colab_type": "text"
      },
      "source": [
        "<a href=\"https://colab.research.google.com/github/apathyhill/DS-Unit-1-Sprint-3-Statistical-Tests-and-Experiments/blob/master/module2-sampling-confidence-intervals-and-hypothesis-testing/LS_DS_132_Sampling_Confidence_Intervals_and_Hypothesis_Testing_Assignment.ipynb\" target=\"_parent\"><img src=\"https://colab.research.google.com/assets/colab-badge.svg\" alt=\"Open In Colab\"/></a>"
      ]
    },
    {
      "cell_type": "markdown",
      "metadata": {
        "id": "11OzdxWTM7UR",
        "colab_type": "text"
      },
      "source": [
        "## Assignment - Build a confidence interval\n",
        "\n",
        "A confidence interval refers to a neighborhood around some point estimate, the size of which is determined by the desired p-value. For instance, we might say that 52% of Americans prefer tacos to burritos, with a 95% confidence interval of +/- 5%.\n",
        "\n",
        "52% (0.52) is the point estimate, and +/- 5% (the interval $[0.47, 0.57]$) is the confidence interval. \"95% confidence\" means a p-value $\\leq 1 - 0.95 = 0.05$.\n",
        "\n",
        "In this case, the confidence interval includes $0.5$ - which is the natural null hypothesis (that half of Americans prefer tacos and half burritos, thus there is no clear favorite). So in this case, we could use the confidence interval to report that we've failed to reject the null hypothesis.\n",
        "\n",
        "But providing the full analysis with a confidence interval, including a graphical representation of it, can be a helpful and powerful way to tell your story. Done well, it is also more intuitive to a layperson than simply saying \"fail to reject the null hypothesis\" - it shows that in fact the data does *not* give a single clear result (the point estimate) but a whole range of possibilities.\n",
        "\n",
        "How is a confidence interval built, and how should it be interpreted? It does *not* mean that 95% of the data lies in that interval - instead, the frequentist interpretation is \"if we were to repeat this experiment 100 times, we would expect the average result to lie in this interval ~95 times.\"\n",
        "\n",
        "For a 95% confidence interval and a normal(-ish) distribution, you can simply remember that +/-2 standard deviations contains 95% of the probability mass, and so the 95% confidence interval based on a given sample is centered at the mean (point estimate) and has a range of +/- 2 (or technically 1.96) standard deviations.\n",
        "\n",
        "Different distributions/assumptions (90% confidence, 99% confidence) will require different math, but the overall process and interpretation (with a frequentist approach) will be the same.\n",
        "\n",
        "Your assignment - using the data from the prior module ([congressional voting records](https://archive.ics.uci.edu/ml/datasets/Congressional+Voting+Records)):\n",
        "\n",
        "\n",
        "### Confidence Intervals:\n",
        "1. Generate and numerically represent a confidence interval\n",
        "2. Graphically (with a plot) represent the confidence interval\n",
        "3. Interpret the confidence interval - what does it tell you about the data and its distribution?\n",
        "\n",
        "### Chi-squared tests:\n",
        "4. Take a dataset that we have used in the past in class that has **categorical** variables. Pick two of those categorical variables and run a chi-squared tests on that data\n",
        "  - By hand using Numpy\n",
        "  - In a single line using Scipy\n"
      ]
    },
    {
      "cell_type": "code",
      "metadata": {
        "id": "Ckcr4A4FM7cs",
        "colab_type": "code",
        "outputId": "9d0a8828-d6d0-4fd0-9f35-dfbd5862992d",
        "colab": {
          "base_uri": "https://localhost:8080/",
          "height": 206
        }
      },
      "source": [
        "import numpy as np\n",
        "import matplotlib.pyplot as plt\n",
        "import pandas as pd\n",
        "import seaborn as sns\n",
        "import scipy.stats as stats\n",
        "\n",
        "\n",
        "columns = [\"party\", \"handicapped-infant\", \"water-project-cost-sharing\",\"adoption-of-the-budget-resolution\",\n",
        "\"physician-fee-freeze\", \"el-salvador-aid\", \"religious-groups-in-schools\", \"anti-satellite-test-ban\",\n",
        "\"aid-to-nicaraguan-contras\", \"mx-missile\", \"immigration\", \"synfuels-corporation-cutback\", \"education-spending\", \n",
        "\"superfund-right-to-sue\", \"crime\", \"duty-free-exports\", \"export-administration-act-south-africa\"]\n",
        "\n",
        "data = pd.read_csv(\"https://archive.ics.uci.edu/ml/machine-learning-databases/voting-records/house-votes-84.data\", names=columns)\n",
        "data = data.replace({\"?\": 0, \"n\": -1, \"y\": 1})\n",
        "# print(data.head(5))\n",
        "\n",
        "data2 = pd.read_csv(\"https://raw.githubusercontent.com/ryanleeallred/datasets/master/titanic.csv\")\n",
        "data2 = data2.replace({\"male\": 1, \"female\": 0})\n",
        "data2.head(5)\n"
      ],
      "execution_count": 196,
      "outputs": [
        {
          "output_type": "execute_result",
          "data": {
            "text/html": [
              "<div>\n",
              "<style scoped>\n",
              "    .dataframe tbody tr th:only-of-type {\n",
              "        vertical-align: middle;\n",
              "    }\n",
              "\n",
              "    .dataframe tbody tr th {\n",
              "        vertical-align: top;\n",
              "    }\n",
              "\n",
              "    .dataframe thead th {\n",
              "        text-align: right;\n",
              "    }\n",
              "</style>\n",
              "<table border=\"1\" class=\"dataframe\">\n",
              "  <thead>\n",
              "    <tr style=\"text-align: right;\">\n",
              "      <th></th>\n",
              "      <th>Unnamed: 0</th>\n",
              "      <th>survived</th>\n",
              "      <th>pclass</th>\n",
              "      <th>sex</th>\n",
              "      <th>age</th>\n",
              "      <th>sibsp</th>\n",
              "      <th>parch</th>\n",
              "      <th>fare</th>\n",
              "      <th>embarked</th>\n",
              "      <th>class</th>\n",
              "      <th>who</th>\n",
              "      <th>adult_male</th>\n",
              "      <th>deck</th>\n",
              "      <th>embark_town</th>\n",
              "      <th>alive</th>\n",
              "      <th>alone</th>\n",
              "    </tr>\n",
              "  </thead>\n",
              "  <tbody>\n",
              "    <tr>\n",
              "      <th>0</th>\n",
              "      <td>0</td>\n",
              "      <td>0</td>\n",
              "      <td>3</td>\n",
              "      <td>1</td>\n",
              "      <td>22.0</td>\n",
              "      <td>1</td>\n",
              "      <td>0</td>\n",
              "      <td>7.2500</td>\n",
              "      <td>S</td>\n",
              "      <td>Third</td>\n",
              "      <td>man</td>\n",
              "      <td>True</td>\n",
              "      <td>NaN</td>\n",
              "      <td>Southampton</td>\n",
              "      <td>no</td>\n",
              "      <td>False</td>\n",
              "    </tr>\n",
              "    <tr>\n",
              "      <th>1</th>\n",
              "      <td>1</td>\n",
              "      <td>1</td>\n",
              "      <td>1</td>\n",
              "      <td>0</td>\n",
              "      <td>38.0</td>\n",
              "      <td>1</td>\n",
              "      <td>0</td>\n",
              "      <td>71.2833</td>\n",
              "      <td>C</td>\n",
              "      <td>First</td>\n",
              "      <td>woman</td>\n",
              "      <td>False</td>\n",
              "      <td>C</td>\n",
              "      <td>Cherbourg</td>\n",
              "      <td>yes</td>\n",
              "      <td>False</td>\n",
              "    </tr>\n",
              "    <tr>\n",
              "      <th>2</th>\n",
              "      <td>2</td>\n",
              "      <td>1</td>\n",
              "      <td>3</td>\n",
              "      <td>0</td>\n",
              "      <td>26.0</td>\n",
              "      <td>0</td>\n",
              "      <td>0</td>\n",
              "      <td>7.9250</td>\n",
              "      <td>S</td>\n",
              "      <td>Third</td>\n",
              "      <td>woman</td>\n",
              "      <td>False</td>\n",
              "      <td>NaN</td>\n",
              "      <td>Southampton</td>\n",
              "      <td>yes</td>\n",
              "      <td>True</td>\n",
              "    </tr>\n",
              "    <tr>\n",
              "      <th>3</th>\n",
              "      <td>3</td>\n",
              "      <td>1</td>\n",
              "      <td>1</td>\n",
              "      <td>0</td>\n",
              "      <td>35.0</td>\n",
              "      <td>1</td>\n",
              "      <td>0</td>\n",
              "      <td>53.1000</td>\n",
              "      <td>S</td>\n",
              "      <td>First</td>\n",
              "      <td>woman</td>\n",
              "      <td>False</td>\n",
              "      <td>C</td>\n",
              "      <td>Southampton</td>\n",
              "      <td>yes</td>\n",
              "      <td>False</td>\n",
              "    </tr>\n",
              "    <tr>\n",
              "      <th>4</th>\n",
              "      <td>4</td>\n",
              "      <td>0</td>\n",
              "      <td>3</td>\n",
              "      <td>1</td>\n",
              "      <td>35.0</td>\n",
              "      <td>0</td>\n",
              "      <td>0</td>\n",
              "      <td>8.0500</td>\n",
              "      <td>S</td>\n",
              "      <td>Third</td>\n",
              "      <td>man</td>\n",
              "      <td>True</td>\n",
              "      <td>NaN</td>\n",
              "      <td>Southampton</td>\n",
              "      <td>no</td>\n",
              "      <td>True</td>\n",
              "    </tr>\n",
              "  </tbody>\n",
              "</table>\n",
              "</div>"
            ],
            "text/plain": [
              "   Unnamed: 0  survived  pclass  sex  ...  deck  embark_town  alive  alone\n",
              "0           0         0       3    1  ...   NaN  Southampton     no  False\n",
              "1           1         1       1    0  ...     C    Cherbourg    yes  False\n",
              "2           2         1       3    0  ...   NaN  Southampton    yes   True\n",
              "3           3         1       1    0  ...     C  Southampton    yes  False\n",
              "4           4         0       3    1  ...   NaN  Southampton     no   True\n",
              "\n",
              "[5 rows x 16 columns]"
            ]
          },
          "metadata": {
            "tags": []
          },
          "execution_count": 196
        }
      ]
    },
    {
      "cell_type": "code",
      "metadata": {
        "id": "oaZX3w59w3nh",
        "colab_type": "code",
        "colab": {
          "base_uri": "https://localhost:8080/",
          "height": 595
        },
        "outputId": "37baa23a-7856-44c2-e808-f5d1395378b6"
      },
      "source": [
        "def confidence_interval(nl, confidence=0.95):\n",
        "  \n",
        "  arr = np.array(nl)\n",
        "  mean = np.mean(arr)\n",
        "  err_margin = stats.sem(arr) * stats.t.ppf((1 + confidence) / 2.0, len(arr) - 1)\n",
        "  return (mean, err_margin)\n",
        "\n",
        "def sample_var(df, iters=1000):\n",
        "  plt.figure(figsize=(10,10))\n",
        "  cols = df.columns[1:]\n",
        "  for n, c in enumerate(cols):\n",
        "    means = []\n",
        "    for _ in range(iters):\n",
        "      test = df[c].sample(len(df[c]), replace=True)\n",
        "      means.append(test.mean())\n",
        "    confidence = confidence_interval(means)\n",
        "    plt.bar(n, confidence[0], color=\"purple\");\n",
        "    plt.errorbar(n, confidence[0], yerr=confidence[1], color=\"k\")\n",
        "    \n",
        "sample_var(data)\n",
        "# The confidence intervals are very close together, which suggest it's pretty close to a normal distribution\n",
        "\n"
      ],
      "execution_count": 204,
      "outputs": [
        {
          "output_type": "display_data",
          "data": {
            "image/png": "[encoded data removed]",
            "text/plain": [
              "<Figure size 720x720 with 1 Axes>"
            ]
          },
          "metadata": {
            "tags": []
          }
        }
      ]
    },
    {
      "cell_type": "code",
      "metadata": {
        "id": "4p1-jGIxxb3A",
        "colab_type": "code",
        "colab": {
          "base_uri": "https://localhost:8080/",
          "height": 595
        },
        "outputId": "9ff1503d-b886-4258-807d-03f3faa0dc92"
      },
      "source": [
        "\n",
        "def sample_var_dem(df, iters=1000):\n",
        "  plt.figure(figsize=(10,10))\n",
        "  df = df.copy()\n",
        "  cols = df.columns[1:]\n",
        "  df = df[df[\"party\"]==\"democrat\"]\n",
        "  for n, c in enumerate(cols):\n",
        "    means = []\n",
        "    for _ in range(iters):\n",
        "      test = df[c].sample(len(df[c]), replace=True)\n",
        "      means.append(test.mean())\n",
        "    confidence = confidence_interval(means)\n",
        "    plt.bar(n, confidence[0], color=\"blue\");\n",
        "    plt.errorbar(n, confidence[0], yerr=confidence[1], color=\"k\")\n",
        "    \n",
        "sample_var_dem(data)\n",
        "\n"
      ],
      "execution_count": 205,
      "outputs": [
        {
          "output_type": "display_data",
          "data": {
            "image/png": "[encoded data removed]",
            "text/plain": [
              "<Figure size 720x720 with 1 Axes>"
            ]
          },
          "metadata": {
            "tags": []
          }
        }
      ]
    },
    {
      "cell_type": "code",
      "metadata": {
        "id": "CYYs7kyvxuch",
        "colab_type": "code",
        "colab": {
          "base_uri": "https://localhost:8080/",
          "height": 595
        },
        "outputId": "cd136852-75c8-4c58-a470-9b43f1d79760"
      },
      "source": [
        "def sample_var_rep(df, iters=1000):\n",
        "  plt.figure(figsize=(10,10))\n",
        "  df = df.copy()\n",
        "  cols = df.columns[1:]\n",
        "  df = df[df[\"party\"]==\"republican\"]\n",
        "  for n, c in enumerate(cols):\n",
        "    means = []\n",
        "    for _ in range(iters):\n",
        "      test = df[c].sample(len(df[c]), replace=True)\n",
        "      means.append(test.mean())\n",
        "    confidence = confidence_interval(means)\n",
        "    plt.bar(n, confidence[0], color=\"red\");\n",
        "    plt.errorbar(n, confidence[0], yerr=confidence[1], color=\"k\")\n",
        "    \n",
        "sample_var_rep(data)"
      ],
      "execution_count": 206,
      "outputs": [
        {
          "output_type": "display_data",
          "data": {
            "image/png": "[encoded data removed]",
            "text/plain": [
              "<Figure size 720x720 with 1 Axes>"
            ]
          },
          "metadata": {
            "tags": []
          }
        }
      ]
    },
    {
      "cell_type": "code",
      "metadata": {
        "id": "rcVr922SBxeQ",
        "colab_type": "code",
        "colab": {
          "base_uri": "https://localhost:8080/",
          "height": 392
        },
        "outputId": "446036af-d767-4c73-ed6a-fa37b978e34d"
      },
      "source": [
        "# Scipy\n",
        "\n",
        "crosstab = pd.crosstab(data2[\"sex\"], data2[\"survived\"])\n",
        "observed = crosstab.values\n",
        "chi_squared, p_value, deg_free, expected = stats.chi2_contingency(observed)\n",
        "\n",
        "print(\"Chi-Squared:\", chi_squared)\n",
        "print(\"P-value:\", p_value) # WAY Less than >0.05; reject null hypothesis\n",
        "print(\"Degrees of Freedom:\", deg_free) \n",
        "print(\"Expected: \", expected)\n",
        "\n",
        "crosstab.plot(kind=\"bar\")"
      ],
      "execution_count": 210,
      "outputs": [
        {
          "output_type": "stream",
          "text": [
            "Chi-Squared: 260.71702016732104\n",
            "P-value: 1.1973570627755645e-58\n",
            "Degrees of Freedom: 1\n",
            "Expected:  [[193.47474747 120.52525253]\n",
            " [355.52525253 221.47474747]]\n"
          ],
          "name": "stdout"
        },
        {
          "output_type": "execute_result",
          "data": {
            "text/plain": [
              "<matplotlib.axes._subplots.AxesSubplot at 0x7f2ac3800860>"
            ]
          },
          "metadata": {
            "tags": []
          },
          "execution_count": 210
        },
        {
          "output_type": "display_data",
          "data": {
            "image/png": "[encoded data removed]",
            "text/plain": [
              "<Figure size 432x288 with 1 Axes>"
            ]
          },
          "metadata": {
            "tags": []
          }
        }
      ]
    },
    {
      "cell_type": "code",
      "metadata": {
        "id": "FvmaMu-jXbWZ",
        "colab_type": "code",
        "colab": {
          "base_uri": "https://localhost:8080/",
          "height": 205
        },
        "outputId": "991fa64c-e838-475f-fd60-11685c58024a"
      },
      "source": [
        "def chi_square(df, var1, var2):\n",
        "  crosstab = pd.crosstab(df[var1], df[var2], margins=True)\n",
        "  print(crosstab)\n",
        "  w, h = crosstab.shape\n",
        "  row_sums = crosstab.iloc[0:h-1, w-1].values\n",
        "  col_sums = crosstab.iloc[h-1, 0:w-1].values\n",
        "  total = crosstab.loc[\"All\", \"All\"]\n",
        "  observed = crosstab.iloc[0:h-1, 0:w-1].values\n",
        "\n",
        "  expected = []\n",
        "  for i in range(len(row_sums)):\n",
        "    expected_row = []\n",
        "    for column in col_sums:\n",
        "      expected_val = column * row_sums[i]/total\n",
        "      expected_row.append(expected_val)\n",
        "    expected.append(expected_row)\n",
        "  expected = np.array(expected)  \n",
        "\n",
        "  chi_squared = ((observed - expected)**2 / (expected)).sum() \n",
        "\n",
        "  print(\"Chi-Squared:\", chi_squared)\n",
        "  print(\"P-value:\", p_value) \n",
        "  print(\"Degrees of Freedom:\", deg_free) \n",
        "  print(\"Expected: \", expected)\n",
        "  \n",
        "chi_square(data2, \"sex\", \"survived\")\n",
        "# WAY Less than >0.05; reject null hypothesis that sex is indepedent of whether they survived; if we look at the crosstab, proportionately a lot more women survived than men  "
      ],
      "execution_count": 158,
      "outputs": [
        {
          "output_type": "stream",
          "text": [
            "survived    0    1  All\n",
            "sex                    \n",
            "0          81  233  314\n",
            "1         468  109  577\n",
            "All       549  342  891\n",
            "Chi-Squared: 263.05057407065567\n",
            "P-value: 1.1973570627755645e-58\n",
            "Degrees of Freedom: 1\n",
            "Expected:  [[193.47474747 120.52525253]\n",
            " [355.52525253 221.47474747]]\n"
          ],
          "name": "stdout"
        }
      ]
    },
    {
      "cell_type": "markdown",
      "metadata": {
        "id": "4ohsJhQUmEuS",
        "colab_type": "text"
      },
      "source": [
        "## Stretch goals:\n",
        "\n",
        "1. Write a summary of your findings, mixing prose and math/code/results. *Note* - yes, this is by definition a political topic. It is challenging but important to keep your writing voice *neutral* and stick to the facts of the data. Data science often involves considering controversial issues, so it's important to be sensitive about them (especially if you want to publish).\n",
        "2. Apply the techniques you learned today to your project data or other data of your choice, and write/discuss your findings here.\n",
        "3. Refactor your code so it is elegant, readable, and can be easily run for all issues."
      ]
    },
    {
      "cell_type": "markdown",
      "metadata": {
        "id": "nyJ3ySr7R2k9",
        "colab_type": "text"
      },
      "source": [
        "## Resources\n",
        "\n",
        "- [Interactive visualize the Chi-Squared test](https://homepage.divms.uiowa.edu/~mbognar/applets/chisq.html)\n",
        "- [Calculation of Chi-Squared test statistic](https://en.wikipedia.org/wiki/Pearson%27s_chi-squared_test)\n",
        "- [Visualization of a confidence interval generated by R code](https://commons.wikimedia.org/wiki/File:Confidence-interval.svg)\n",
        "- [Expected value of a squared standard normal](https://math.stackexchange.com/questions/264061/expected-value-calculation-for-squared-normal-distribution) (it's 1 - which is why the expected value of a Chi-Squared with $n$ degrees of freedom is $n$, as it's the sum of $n$ squared standard normals)"
      ]
    }
  ]
}