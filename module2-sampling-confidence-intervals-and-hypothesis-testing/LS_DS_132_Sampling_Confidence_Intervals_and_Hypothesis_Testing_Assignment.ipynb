{
  "nbformat": 4,
  "nbformat_minor": 0,
  "metadata": {
    "colab": {
      "name": "Copy of LS_DS_132_Sampling_Confidence_Intervals_and_Hypothesis_Testing_Assignment.ipynb",
      "provenance": [],
      "collapsed_sections": [],
      "include_colab_link": true
    },
    "kernelspec": {
      "name": "python3",
      "display_name": "Python 3"
    }
  },
  "cells": [
    {
      "cell_type": "markdown",
      "metadata": {
        "id": "view-in-github",
        "colab_type": "text"
      },
      "source": [
        "<a href=\"https://colab.research.google.com/github/davidanagy/DS-Unit-1-Sprint-3-Statistical-Tests-and-Experiments/blob/master/module2-sampling-confidence-intervals-and-hypothesis-testing/LS_DS_132_Sampling_Confidence_Intervals_and_Hypothesis_Testing_Assignment.ipynb\" target=\"_parent\"><img src=\"https://colab.research.google.com/assets/colab-badge.svg\" alt=\"Open In Colab\"/></a>"
      ]
    },
    {
      "cell_type": "markdown",
      "metadata": {
        "id": "11OzdxWTM7UR",
        "colab_type": "text"
      },
      "source": [
        "## Assignment - Build a confidence interval\n",
        "\n",
        "A confidence interval refers to a neighborhood around some point estimate, the size of which is determined by the desired p-value. For instance, we might say that 52% of Americans prefer tacos to burritos, with a 95% confidence interval of +/- 5%.\n",
        "\n",
        "52% (0.52) is the point estimate, and +/- 5% (the interval $[0.47, 0.57]$) is the confidence interval. \"95% confidence\" means a p-value $\\leq 1 - 0.95 = 0.05$.\n",
        "\n",
        "In this case, the confidence interval includes $0.5$ - which is the natural null hypothesis (that half of Americans prefer tacos and half burritos, thus there is no clear favorite). So in this case, we could use the confidence interval to report that we've failed to reject the null hypothesis.\n",
        "\n",
        "But providing the full analysis with a confidence interval, including a graphical representation of it, can be a helpful and powerful way to tell your story. Done well, it is also more intuitive to a layperson than simply saying \"fail to reject the null hypothesis\" - it shows that in fact the data does *not* give a single clear result (the point estimate) but a whole range of possibilities.\n",
        "\n",
        "How is a confidence interval built, and how should it be interpreted? It does *not* mean that 95% of the data lies in that interval - instead, the frequentist interpretation is \"if we were to repeat this experiment 100 times, we would expect the average result to lie in this interval ~95 times.\"\n",
        "\n",
        "For a 95% confidence interval and a normal(-ish) distribution, you can simply remember that +/-2 standard deviations contains 95% of the probability mass, and so the 95% confidence interval based on a given sample is centered at the mean (point estimate) and has a range of +/- 2 (or technically 1.96) standard deviations.\n",
        "\n",
        "Different distributions/assumptions (90% confidence, 99% confidence) will require different math, but the overall process and interpretation (with a frequentist approach) will be the same.\n",
        "\n",
        "Your assignment - using the data from the prior module ([congressional voting records](https://archive.ics.uci.edu/ml/datasets/Congressional+Voting+Records)):\n",
        "\n",
        "\n",
        "### Confidence Intervals:\n",
        "1. Generate and numerically represent a confidence interval\n",
        "2. Graphically (with a plot) represent the confidence interval\n",
        "3. Interpret the confidence interval - what does it tell you about the data and its distribution?\n",
        "\n",
        "### Chi-squared tests:\n",
        "4. Take a dataset that we have used in the past in class that has **categorical** variables. Pick two of those categorical variables and run a chi-squared tests on that data\n",
        "  - By hand using Numpy\n",
        "  - In a single line using Scipy\n"
      ]
    },
    {
      "cell_type": "code",
      "metadata": {
        "id": "Ckcr4A4FM7cs",
        "colab_type": "code",
        "colab": {
          "base_uri": "https://localhost:8080/",
          "height": 241
        },
        "outputId": "d9f7ba7d-b1de-4de7-d750-5661435b2adb"
      },
      "source": [
        "import pandas as pd\n",
        "import numpy as np\n",
        "import matplotlib.pyplot as plt\n",
        "\n",
        "names = ['party', 'handicapped_infants', 'water_project', 'budget', 'physician_fee_freeze', 'el_salvador_aid',\n",
        "         'religion_in_schools', 'anti_satellite_test_ban', 'aid_to_contras', 'mx_missile', 'immigration',\n",
        "         'synfuels_cutback', 'education', 'right_to_sue', 'crime', 'duty_free', 'export_south_africa']\n",
        "\n",
        "df = pd.read_csv('https://archive.ics.uci.edu/ml/machine-learning-databases/voting-records/house-votes-84.data',\n",
        "                header=None, names=names, true_values='y', false_values='n', na_values='?')\n",
        "\n",
        "df = df.fillna(0.5)\n",
        "\n",
        "print(df.shape)\n",
        "\n",
        "df.head()"
      ],
      "execution_count": 3,
      "outputs": [
        {
          "output_type": "stream",
          "text": [
            "(435, 17)\n"
          ],
          "name": "stdout"
        },
        {
          "output_type": "execute_result",
          "data": {
            "text/html": [
              "<div>\n",
              "<style scoped>\n",
              "    .dataframe tbody tr th:only-of-type {\n",
              "        vertical-align: middle;\n",
              "    }\n",
              "\n",
              "    .dataframe tbody tr th {\n",
              "        vertical-align: top;\n",
              "    }\n",
              "\n",
              "    .dataframe thead th {\n",
              "        text-align: right;\n",
              "    }\n",
              "</style>\n",
              "<table border=\"1\" class=\"dataframe\">\n",
              "  <thead>\n",
              "    <tr style=\"text-align: right;\">\n",
              "      <th></th>\n",
              "      <th>party</th>\n",
              "      <th>handicapped_infants</th>\n",
              "      <th>water_project</th>\n",
              "      <th>budget</th>\n",
              "      <th>physician_fee_freeze</th>\n",
              "      <th>el_salvador_aid</th>\n",
              "      <th>religion_in_schools</th>\n",
              "      <th>anti_satellite_test_ban</th>\n",
              "      <th>aid_to_contras</th>\n",
              "      <th>mx_missile</th>\n",
              "      <th>immigration</th>\n",
              "      <th>synfuels_cutback</th>\n",
              "      <th>education</th>\n",
              "      <th>right_to_sue</th>\n",
              "      <th>crime</th>\n",
              "      <th>duty_free</th>\n",
              "      <th>export_south_africa</th>\n",
              "    </tr>\n",
              "  </thead>\n",
              "  <tbody>\n",
              "    <tr>\n",
              "      <th>0</th>\n",
              "      <td>republican</td>\n",
              "      <td>False</td>\n",
              "      <td>True</td>\n",
              "      <td>False</td>\n",
              "      <td>True</td>\n",
              "      <td>True</td>\n",
              "      <td>True</td>\n",
              "      <td>False</td>\n",
              "      <td>False</td>\n",
              "      <td>False</td>\n",
              "      <td>True</td>\n",
              "      <td>0.5</td>\n",
              "      <td>True</td>\n",
              "      <td>True</td>\n",
              "      <td>True</td>\n",
              "      <td>False</td>\n",
              "      <td>True</td>\n",
              "    </tr>\n",
              "    <tr>\n",
              "      <th>1</th>\n",
              "      <td>republican</td>\n",
              "      <td>False</td>\n",
              "      <td>True</td>\n",
              "      <td>False</td>\n",
              "      <td>True</td>\n",
              "      <td>True</td>\n",
              "      <td>True</td>\n",
              "      <td>False</td>\n",
              "      <td>False</td>\n",
              "      <td>False</td>\n",
              "      <td>False</td>\n",
              "      <td>False</td>\n",
              "      <td>True</td>\n",
              "      <td>True</td>\n",
              "      <td>True</td>\n",
              "      <td>False</td>\n",
              "      <td>0.5</td>\n",
              "    </tr>\n",
              "    <tr>\n",
              "      <th>2</th>\n",
              "      <td>democrat</td>\n",
              "      <td>0.5</td>\n",
              "      <td>True</td>\n",
              "      <td>True</td>\n",
              "      <td>0.5</td>\n",
              "      <td>True</td>\n",
              "      <td>True</td>\n",
              "      <td>False</td>\n",
              "      <td>False</td>\n",
              "      <td>False</td>\n",
              "      <td>False</td>\n",
              "      <td>True</td>\n",
              "      <td>False</td>\n",
              "      <td>True</td>\n",
              "      <td>True</td>\n",
              "      <td>False</td>\n",
              "      <td>False</td>\n",
              "    </tr>\n",
              "    <tr>\n",
              "      <th>3</th>\n",
              "      <td>democrat</td>\n",
              "      <td>False</td>\n",
              "      <td>True</td>\n",
              "      <td>True</td>\n",
              "      <td>False</td>\n",
              "      <td>0.5</td>\n",
              "      <td>True</td>\n",
              "      <td>False</td>\n",
              "      <td>False</td>\n",
              "      <td>False</td>\n",
              "      <td>False</td>\n",
              "      <td>True</td>\n",
              "      <td>False</td>\n",
              "      <td>True</td>\n",
              "      <td>False</td>\n",
              "      <td>False</td>\n",
              "      <td>True</td>\n",
              "    </tr>\n",
              "    <tr>\n",
              "      <th>4</th>\n",
              "      <td>democrat</td>\n",
              "      <td>True</td>\n",
              "      <td>True</td>\n",
              "      <td>True</td>\n",
              "      <td>False</td>\n",
              "      <td>True</td>\n",
              "      <td>True</td>\n",
              "      <td>False</td>\n",
              "      <td>False</td>\n",
              "      <td>False</td>\n",
              "      <td>False</td>\n",
              "      <td>True</td>\n",
              "      <td>0.5</td>\n",
              "      <td>True</td>\n",
              "      <td>True</td>\n",
              "      <td>True</td>\n",
              "      <td>True</td>\n",
              "    </tr>\n",
              "  </tbody>\n",
              "</table>\n",
              "</div>"
            ],
            "text/plain": [
              "        party handicapped_infants  ... duty_free export_south_africa\n",
              "0  republican               False  ...     False                True\n",
              "1  republican               False  ...     False                 0.5\n",
              "2    democrat                 0.5  ...     False               False\n",
              "3    democrat               False  ...     False                True\n",
              "4    democrat                True  ...      True                True\n",
              "\n",
              "[5 rows x 17 columns]"
            ]
          },
          "metadata": {
            "tags": []
          },
          "execution_count": 3
        }
      ]
    },
    {
      "cell_type": "code",
      "metadata": {
        "id": "XSFDvDoRvJW_",
        "colab_type": "code",
        "colab": {
          "base_uri": "https://localhost:8080/",
          "height": 224
        },
        "outputId": "95ab086a-a938-4199-a32a-d14ffc04483b"
      },
      "source": [
        "dem = df[df['party']=='democrat']\n",
        "rep = df[df['party']=='republican']\n",
        "\n",
        "rep.head()"
      ],
      "execution_count": 6,
      "outputs": [
        {
          "output_type": "execute_result",
          "data": {
            "text/html": [
              "<div>\n",
              "<style scoped>\n",
              "    .dataframe tbody tr th:only-of-type {\n",
              "        vertical-align: middle;\n",
              "    }\n",
              "\n",
              "    .dataframe tbody tr th {\n",
              "        vertical-align: top;\n",
              "    }\n",
              "\n",
              "    .dataframe thead th {\n",
              "        text-align: right;\n",
              "    }\n",
              "</style>\n",
              "<table border=\"1\" class=\"dataframe\">\n",
              "  <thead>\n",
              "    <tr style=\"text-align: right;\">\n",
              "      <th></th>\n",
              "      <th>party</th>\n",
              "      <th>handicapped_infants</th>\n",
              "      <th>water_project</th>\n",
              "      <th>budget</th>\n",
              "      <th>physician_fee_freeze</th>\n",
              "      <th>el_salvador_aid</th>\n",
              "      <th>religion_in_schools</th>\n",
              "      <th>anti_satellite_test_ban</th>\n",
              "      <th>aid_to_contras</th>\n",
              "      <th>mx_missile</th>\n",
              "      <th>immigration</th>\n",
              "      <th>synfuels_cutback</th>\n",
              "      <th>education</th>\n",
              "      <th>right_to_sue</th>\n",
              "      <th>crime</th>\n",
              "      <th>duty_free</th>\n",
              "      <th>export_south_africa</th>\n",
              "    </tr>\n",
              "  </thead>\n",
              "  <tbody>\n",
              "    <tr>\n",
              "      <th>0</th>\n",
              "      <td>republican</td>\n",
              "      <td>False</td>\n",
              "      <td>True</td>\n",
              "      <td>False</td>\n",
              "      <td>True</td>\n",
              "      <td>True</td>\n",
              "      <td>True</td>\n",
              "      <td>False</td>\n",
              "      <td>False</td>\n",
              "      <td>False</td>\n",
              "      <td>True</td>\n",
              "      <td>0.5</td>\n",
              "      <td>True</td>\n",
              "      <td>True</td>\n",
              "      <td>True</td>\n",
              "      <td>False</td>\n",
              "      <td>True</td>\n",
              "    </tr>\n",
              "    <tr>\n",
              "      <th>1</th>\n",
              "      <td>republican</td>\n",
              "      <td>False</td>\n",
              "      <td>True</td>\n",
              "      <td>False</td>\n",
              "      <td>True</td>\n",
              "      <td>True</td>\n",
              "      <td>True</td>\n",
              "      <td>False</td>\n",
              "      <td>False</td>\n",
              "      <td>False</td>\n",
              "      <td>False</td>\n",
              "      <td>False</td>\n",
              "      <td>True</td>\n",
              "      <td>True</td>\n",
              "      <td>True</td>\n",
              "      <td>False</td>\n",
              "      <td>0.5</td>\n",
              "    </tr>\n",
              "    <tr>\n",
              "      <th>7</th>\n",
              "      <td>republican</td>\n",
              "      <td>False</td>\n",
              "      <td>True</td>\n",
              "      <td>False</td>\n",
              "      <td>True</td>\n",
              "      <td>True</td>\n",
              "      <td>True</td>\n",
              "      <td>False</td>\n",
              "      <td>False</td>\n",
              "      <td>False</td>\n",
              "      <td>False</td>\n",
              "      <td>False</td>\n",
              "      <td>False</td>\n",
              "      <td>True</td>\n",
              "      <td>True</td>\n",
              "      <td>0.5</td>\n",
              "      <td>True</td>\n",
              "    </tr>\n",
              "    <tr>\n",
              "      <th>8</th>\n",
              "      <td>republican</td>\n",
              "      <td>False</td>\n",
              "      <td>True</td>\n",
              "      <td>False</td>\n",
              "      <td>True</td>\n",
              "      <td>True</td>\n",
              "      <td>True</td>\n",
              "      <td>False</td>\n",
              "      <td>False</td>\n",
              "      <td>False</td>\n",
              "      <td>False</td>\n",
              "      <td>False</td>\n",
              "      <td>True</td>\n",
              "      <td>True</td>\n",
              "      <td>True</td>\n",
              "      <td>False</td>\n",
              "      <td>True</td>\n",
              "    </tr>\n",
              "    <tr>\n",
              "      <th>10</th>\n",
              "      <td>republican</td>\n",
              "      <td>False</td>\n",
              "      <td>True</td>\n",
              "      <td>False</td>\n",
              "      <td>True</td>\n",
              "      <td>True</td>\n",
              "      <td>False</td>\n",
              "      <td>False</td>\n",
              "      <td>False</td>\n",
              "      <td>False</td>\n",
              "      <td>False</td>\n",
              "      <td>0.5</td>\n",
              "      <td>0.5</td>\n",
              "      <td>True</td>\n",
              "      <td>True</td>\n",
              "      <td>False</td>\n",
              "      <td>False</td>\n",
              "    </tr>\n",
              "  </tbody>\n",
              "</table>\n",
              "</div>"
            ],
            "text/plain": [
              "         party handicapped_infants  ... duty_free export_south_africa\n",
              "0   republican               False  ...     False                True\n",
              "1   republican               False  ...     False                 0.5\n",
              "7   republican               False  ...       0.5                True\n",
              "8   republican               False  ...     False                True\n",
              "10  republican               False  ...     False               False\n",
              "\n",
              "[5 rows x 17 columns]"
            ]
          },
          "metadata": {
            "tags": []
          },
          "execution_count": 6
        }
      ]
    },
    {
      "cell_type": "code",
      "metadata": {
        "id": "bccH8Sk9zOYD",
        "colab_type": "code",
        "colab": {
          "base_uri": "https://localhost:8080/",
          "height": 68
        },
        "outputId": "e0972d22-91c6-45d8-dba4-d1bc9f62d481"
      },
      "source": [
        "# Generate and numerically represent confidence intervals.\n",
        "\n",
        "from scipy.stats import t\n",
        "\n",
        "n_all = len(df['party'])\n",
        "n_dem = len(dem['party'])\n",
        "n_rep = len(rep['party'])\n",
        "\n",
        "dof_all = n_all - 1\n",
        "dof_dem = n_dem - 1\n",
        "dof_rep = n_rep - 1\n",
        "\n",
        "mean0 = np.mean(df['mx_missile'])\n",
        "mean1 = np.mean(dem['mx_missile'])\n",
        "mean2 = np.mean(rep['mx_missile'])\n",
        "\n",
        "std0 = np.std(df['mx_missile'], ddof=1)\n",
        "std1 = np.std(dem['mx_missile'], ddof=1)\n",
        "std2 = np.std(rep['mx_missile'], ddof=1)\n",
        "\n",
        "std_error0 = std0/n_all**0.5\n",
        "std_error1 = std0/n_dem**0.5\n",
        "std_error2 = std1/n_rep**0.5\n",
        "\n",
        "CI_0 = t.interval(.95, dof_all, loc=mean0, scale=std_error0)\n",
        "CI_1 = t.interval(.95, dof_dem, loc=mean1, scale=std_error1)\n",
        "CI_2 = t.interval(.95, dof_rep, loc=mean2, scale=std_error2)\n",
        "\n",
        "print('The confidence interval of all Representatives voting for the MX Missile is', CI_0)\n",
        "print('The confidence interval of Democrats voting for the MX Missile is', CI_1)\n",
        "print('The confidence interval of Republicans voting for the MX Missile is', CI_2)"
      ],
      "execution_count": 10,
      "outputs": [
        {
          "output_type": "stream",
          "text": [
            "The confidence interval of all Representatives voting for the MX Missile is (0.45518569817978716, 0.5471131523949254)\n",
            "The confidence interval of Democrats voting for the MX Missile is (0.6809281797609561, 0.7984725693027144)\n",
            "The confidence interval of Republicans voting for the MX Missile is (0.05822981009309097, 0.18581780895452807)\n"
          ],
          "name": "stdout"
        }
      ]
    },
    {
      "cell_type": "code",
      "metadata": {
        "id": "lmwhVRCE6hyt",
        "colab_type": "code",
        "colab": {
          "base_uri": "https://localhost:8080/",
          "height": 34
        },
        "outputId": "fad07172-4701-4147-b3b3-a82e536004ec"
      },
      "source": [
        "# Need this for the graph below.\n",
        "\n",
        "means = [np.mean(rep['mx_missile']), np.mean(df['mx_missile']), np.mean(dem['mx_missile'])]\n",
        "means"
      ],
      "execution_count": 19,
      "outputs": [
        {
          "output_type": "execute_result",
          "data": {
            "text/plain": [
              "[0.12202380952380952, 0.5011494252873563, 0.7397003745318352]"
            ]
          },
          "metadata": {
            "tags": []
          },
          "execution_count": 19
        }
      ]
    },
    {
      "cell_type": "code",
      "metadata": {
        "id": "Lh50GCnx8xm3",
        "colab_type": "code",
        "colab": {
          "base_uri": "https://localhost:8080/",
          "height": 34
        },
        "outputId": "06321b0e-44a9-4199-b164-1d1574fec391"
      },
      "source": [
        "# Defining margin of error makes the following graph a lot easier to code.\n",
        "\n",
        "import scipy.stats as stats\n",
        "\n",
        "def margin_of_error(data, confidence=0.95):\n",
        "  mean = np.mean(data)\n",
        "  n = len(data)\n",
        "  stderr = np.std(data, ddof=1) / np.sqrt(n)\n",
        "  return stderr * stats.t.ppf((1 + confidence) / 2.0, n - 1)\n",
        "\n",
        "print(margin_of_error(df['mx_missile']), means[1] - margin_of_error(df['mx_missile']), means[1] + margin_of_error(df['mx_missile']))"
      ],
      "execution_count": 36,
      "outputs": [
        {
          "output_type": "stream",
          "text": [
            "0.045963727107569116 0.45518569817978716 0.5471131523949254\n"
          ],
          "name": "stdout"
        }
      ]
    },
    {
      "cell_type": "code",
      "metadata": {
        "id": "jf_R2xou1lIC",
        "colab_type": "code",
        "colab": {
          "base_uri": "https://localhost:8080/",
          "height": 269
        },
        "outputId": "e96b1486-680b-4bb8-e024-261082771cfb"
      },
      "source": [
        "# Graphically represent the confidence intervals.\n",
        "# The red bar is the Republican vote, the blue bar is the Democratic vote, and the green bar is the vote of all Representatives.\n",
        "\n",
        "p1 = plt.bar(1, means[0], color='r', yerr=margin_of_error(rep['mx_missile']))\n",
        "p2 = plt.bar(1, means[1]-means[0], bottom=means[0], color='g', yerr=margin_of_error(df['mx_missile']))\n",
        "p3 = plt.bar(1, means[2]-means[1], bottom=means[1], color='b', yerr=margin_of_error(dem['mx_missile']))\n",
        "\n",
        "plt.show()"
      ],
      "execution_count": 37,
      "outputs": [
        {
          "output_type": "display_data",
          "data": {
            "image/png": "[encoded data removed]",
            "text/plain": [
              "<Figure size 432x288 with 1 Axes>"
            ]
          },
          "metadata": {
            "tags": []
          }
        }
      ]
    },
    {
      "cell_type": "markdown",
      "metadata": {
        "id": "7gIHXdpW_x7U",
        "colab_type": "text"
      },
      "source": [
        "Assignment: Interpret the confidence intervals - what do they tell you about the data and its distribution?\n",
        "\n",
        "Answer: The confidence intervals are relatively small here. This indicates that the standard deviation is relatively small for both Democrats and Republicans on the MX Missile vote; each group mostly voted about the same way."
      ]
    },
    {
      "cell_type": "markdown",
      "metadata": {
        "id": "aHljFH1ZLuP9",
        "colab_type": "text"
      },
      "source": [
        "###Chi-Squared Tests:"
      ]
    },
    {
      "cell_type": "code",
      "metadata": {
        "id": "eEQdKsHTLwju",
        "colab_type": "code",
        "colab": {
          "base_uri": "https://localhost:8080/",
          "height": 323
        },
        "outputId": "34c48efd-038a-4a27-ea47-b084de5396f5"
      },
      "source": [
        "# Using this \"adults\" dataset from Sprint 1 Module 2.\n",
        "\n",
        "column_headers = ['age', 'workclass', 'fnlwgt', 'education', 'education-num', \n",
        "                 'marital-status', 'occupation', 'relationship', 'race', 'sex', \n",
        "                 'capital-gain', 'capital-loss', 'hours-per-week', \n",
        "                 'native-country', 'income']\n",
        "\n",
        "adults = pd.read_csv('https://archive.ics.uci.edu/ml/machine-learning-databases/adult/adult.data', names=column_headers)\n",
        "print(adults.shape)\n",
        "adults.head()"
      ],
      "execution_count": 47,
      "outputs": [
        {
          "output_type": "stream",
          "text": [
            "(32561, 15)\n"
          ],
          "name": "stdout"
        },
        {
          "output_type": "execute_result",
          "data": {
            "text/html": [
              "<div>\n",
              "<style scoped>\n",
              "    .dataframe tbody tr th:only-of-type {\n",
              "        vertical-align: middle;\n",
              "    }\n",
              "\n",
              "    .dataframe tbody tr th {\n",
              "        vertical-align: top;\n",
              "    }\n",
              "\n",
              "    .dataframe thead th {\n",
              "        text-align: right;\n",
              "    }\n",
              "</style>\n",
              "<table border=\"1\" class=\"dataframe\">\n",
              "  <thead>\n",
              "    <tr style=\"text-align: right;\">\n",
              "      <th></th>\n",
              "      <th>age</th>\n",
              "      <th>workclass</th>\n",
              "      <th>fnlwgt</th>\n",
              "      <th>education</th>\n",
              "      <th>education-num</th>\n",
              "      <th>marital-status</th>\n",
              "      <th>occupation</th>\n",
              "      <th>relationship</th>\n",
              "      <th>race</th>\n",
              "      <th>sex</th>\n",
              "      <th>capital-gain</th>\n",
              "      <th>capital-loss</th>\n",
              "      <th>hours-per-week</th>\n",
              "      <th>native-country</th>\n",
              "      <th>income</th>\n",
              "    </tr>\n",
              "  </thead>\n",
              "  <tbody>\n",
              "    <tr>\n",
              "      <th>0</th>\n",
              "      <td>39</td>\n",
              "      <td>State-gov</td>\n",
              "      <td>77516</td>\n",
              "      <td>Bachelors</td>\n",
              "      <td>13</td>\n",
              "      <td>Never-married</td>\n",
              "      <td>Adm-clerical</td>\n",
              "      <td>Not-in-family</td>\n",
              "      <td>White</td>\n",
              "      <td>Male</td>\n",
              "      <td>2174</td>\n",
              "      <td>0</td>\n",
              "      <td>40</td>\n",
              "      <td>United-States</td>\n",
              "      <td>&lt;=50K</td>\n",
              "    </tr>\n",
              "    <tr>\n",
              "      <th>1</th>\n",
              "      <td>50</td>\n",
              "      <td>Self-emp-not-inc</td>\n",
              "      <td>83311</td>\n",
              "      <td>Bachelors</td>\n",
              "      <td>13</td>\n",
              "      <td>Married-civ-spouse</td>\n",
              "      <td>Exec-managerial</td>\n",
              "      <td>Husband</td>\n",
              "      <td>White</td>\n",
              "      <td>Male</td>\n",
              "      <td>0</td>\n",
              "      <td>0</td>\n",
              "      <td>13</td>\n",
              "      <td>United-States</td>\n",
              "      <td>&lt;=50K</td>\n",
              "    </tr>\n",
              "    <tr>\n",
              "      <th>2</th>\n",
              "      <td>38</td>\n",
              "      <td>Private</td>\n",
              "      <td>215646</td>\n",
              "      <td>HS-grad</td>\n",
              "      <td>9</td>\n",
              "      <td>Divorced</td>\n",
              "      <td>Handlers-cleaners</td>\n",
              "      <td>Not-in-family</td>\n",
              "      <td>White</td>\n",
              "      <td>Male</td>\n",
              "      <td>0</td>\n",
              "      <td>0</td>\n",
              "      <td>40</td>\n",
              "      <td>United-States</td>\n",
              "      <td>&lt;=50K</td>\n",
              "    </tr>\n",
              "    <tr>\n",
              "      <th>3</th>\n",
              "      <td>53</td>\n",
              "      <td>Private</td>\n",
              "      <td>234721</td>\n",
              "      <td>11th</td>\n",
              "      <td>7</td>\n",
              "      <td>Married-civ-spouse</td>\n",
              "      <td>Handlers-cleaners</td>\n",
              "      <td>Husband</td>\n",
              "      <td>Black</td>\n",
              "      <td>Male</td>\n",
              "      <td>0</td>\n",
              "      <td>0</td>\n",
              "      <td>40</td>\n",
              "      <td>United-States</td>\n",
              "      <td>&lt;=50K</td>\n",
              "    </tr>\n",
              "    <tr>\n",
              "      <th>4</th>\n",
              "      <td>28</td>\n",
              "      <td>Private</td>\n",
              "      <td>338409</td>\n",
              "      <td>Bachelors</td>\n",
              "      <td>13</td>\n",
              "      <td>Married-civ-spouse</td>\n",
              "      <td>Prof-specialty</td>\n",
              "      <td>Wife</td>\n",
              "      <td>Black</td>\n",
              "      <td>Female</td>\n",
              "      <td>0</td>\n",
              "      <td>0</td>\n",
              "      <td>40</td>\n",
              "      <td>Cuba</td>\n",
              "      <td>&lt;=50K</td>\n",
              "    </tr>\n",
              "  </tbody>\n",
              "</table>\n",
              "</div>"
            ],
            "text/plain": [
              "   age          workclass  fnlwgt  ... hours-per-week  native-country  income\n",
              "0   39          State-gov   77516  ...             40   United-States   <=50K\n",
              "1   50   Self-emp-not-inc   83311  ...             13   United-States   <=50K\n",
              "2   38            Private  215646  ...             40   United-States   <=50K\n",
              "3   53            Private  234721  ...             40   United-States   <=50K\n",
              "4   28            Private  338409  ...             40            Cuba   <=50K\n",
              "\n",
              "[5 rows x 15 columns]"
            ]
          },
          "metadata": {
            "tags": []
          },
          "execution_count": 47
        }
      ]
    },
    {
      "cell_type": "code",
      "metadata": {
        "id": "6N3nH4lxMjQ0",
        "colab_type": "code",
        "colab": {
          "base_uri": "https://localhost:8080/",
          "height": 173
        },
        "outputId": "e69f0a62-dbf8-4ad6-ab50-0e00b7a0bea6"
      },
      "source": [
        "adults.describe(exclude='number')"
      ],
      "execution_count": 48,
      "outputs": [
        {
          "output_type": "execute_result",
          "data": {
            "text/html": [
              "<div>\n",
              "<style scoped>\n",
              "    .dataframe tbody tr th:only-of-type {\n",
              "        vertical-align: middle;\n",
              "    }\n",
              "\n",
              "    .dataframe tbody tr th {\n",
              "        vertical-align: top;\n",
              "    }\n",
              "\n",
              "    .dataframe thead th {\n",
              "        text-align: right;\n",
              "    }\n",
              "</style>\n",
              "<table border=\"1\" class=\"dataframe\">\n",
              "  <thead>\n",
              "    <tr style=\"text-align: right;\">\n",
              "      <th></th>\n",
              "      <th>workclass</th>\n",
              "      <th>education</th>\n",
              "      <th>marital-status</th>\n",
              "      <th>occupation</th>\n",
              "      <th>relationship</th>\n",
              "      <th>race</th>\n",
              "      <th>sex</th>\n",
              "      <th>native-country</th>\n",
              "      <th>income</th>\n",
              "    </tr>\n",
              "  </thead>\n",
              "  <tbody>\n",
              "    <tr>\n",
              "      <th>count</th>\n",
              "      <td>32561</td>\n",
              "      <td>32561</td>\n",
              "      <td>32561</td>\n",
              "      <td>32561</td>\n",
              "      <td>32561</td>\n",
              "      <td>32561</td>\n",
              "      <td>32561</td>\n",
              "      <td>32561</td>\n",
              "      <td>32561</td>\n",
              "    </tr>\n",
              "    <tr>\n",
              "      <th>unique</th>\n",
              "      <td>9</td>\n",
              "      <td>16</td>\n",
              "      <td>7</td>\n",
              "      <td>15</td>\n",
              "      <td>6</td>\n",
              "      <td>5</td>\n",
              "      <td>2</td>\n",
              "      <td>42</td>\n",
              "      <td>2</td>\n",
              "    </tr>\n",
              "    <tr>\n",
              "      <th>top</th>\n",
              "      <td>Private</td>\n",
              "      <td>HS-grad</td>\n",
              "      <td>Married-civ-spouse</td>\n",
              "      <td>Prof-specialty</td>\n",
              "      <td>Husband</td>\n",
              "      <td>White</td>\n",
              "      <td>Male</td>\n",
              "      <td>United-States</td>\n",
              "      <td>&lt;=50K</td>\n",
              "    </tr>\n",
              "    <tr>\n",
              "      <th>freq</th>\n",
              "      <td>22696</td>\n",
              "      <td>10501</td>\n",
              "      <td>14976</td>\n",
              "      <td>4140</td>\n",
              "      <td>13193</td>\n",
              "      <td>27816</td>\n",
              "      <td>21790</td>\n",
              "      <td>29170</td>\n",
              "      <td>24720</td>\n",
              "    </tr>\n",
              "  </tbody>\n",
              "</table>\n",
              "</div>"
            ],
            "text/plain": [
              "       workclass education       marital-status  ...    sex  native-country  income\n",
              "count      32561     32561                32561  ...  32561           32561   32561\n",
              "unique         9        16                    7  ...      2              42       2\n",
              "top      Private   HS-grad   Married-civ-spouse  ...   Male   United-States   <=50K\n",
              "freq       22696     10501                14976  ...  21790           29170   24720\n",
              "\n",
              "[4 rows x 9 columns]"
            ]
          },
          "metadata": {
            "tags": []
          },
          "execution_count": 48
        }
      ]
    },
    {
      "cell_type": "code",
      "metadata": {
        "id": "Brnx9scHROtu",
        "colab_type": "code",
        "colab": {
          "base_uri": "https://localhost:8080/",
          "height": 173
        },
        "outputId": "61b6dc42-4b74-421c-df70-ce521ea414ef"
      },
      "source": [
        "contingency_table = pd.crosstab(adults['income'], adults['workclass'], margins=True)\n",
        "\n",
        "contingency_table"
      ],
      "execution_count": 58,
      "outputs": [
        {
          "output_type": "execute_result",
          "data": {
            "text/html": [
              "<div>\n",
              "<style scoped>\n",
              "    .dataframe tbody tr th:only-of-type {\n",
              "        vertical-align: middle;\n",
              "    }\n",
              "\n",
              "    .dataframe tbody tr th {\n",
              "        vertical-align: top;\n",
              "    }\n",
              "\n",
              "    .dataframe thead th {\n",
              "        text-align: right;\n",
              "    }\n",
              "</style>\n",
              "<table border=\"1\" class=\"dataframe\">\n",
              "  <thead>\n",
              "    <tr style=\"text-align: right;\">\n",
              "      <th>workclass</th>\n",
              "      <th>?</th>\n",
              "      <th>Federal-gov</th>\n",
              "      <th>Local-gov</th>\n",
              "      <th>Never-worked</th>\n",
              "      <th>Private</th>\n",
              "      <th>Self-emp-inc</th>\n",
              "      <th>Self-emp-not-inc</th>\n",
              "      <th>State-gov</th>\n",
              "      <th>Without-pay</th>\n",
              "      <th>All</th>\n",
              "    </tr>\n",
              "    <tr>\n",
              "      <th>income</th>\n",
              "      <th></th>\n",
              "      <th></th>\n",
              "      <th></th>\n",
              "      <th></th>\n",
              "      <th></th>\n",
              "      <th></th>\n",
              "      <th></th>\n",
              "      <th></th>\n",
              "      <th></th>\n",
              "      <th></th>\n",
              "    </tr>\n",
              "  </thead>\n",
              "  <tbody>\n",
              "    <tr>\n",
              "      <th>&lt;=50K</th>\n",
              "      <td>1645</td>\n",
              "      <td>589</td>\n",
              "      <td>1476</td>\n",
              "      <td>7</td>\n",
              "      <td>17733</td>\n",
              "      <td>494</td>\n",
              "      <td>1817</td>\n",
              "      <td>945</td>\n",
              "      <td>14</td>\n",
              "      <td>24720</td>\n",
              "    </tr>\n",
              "    <tr>\n",
              "      <th>&gt;50K</th>\n",
              "      <td>191</td>\n",
              "      <td>371</td>\n",
              "      <td>617</td>\n",
              "      <td>0</td>\n",
              "      <td>4963</td>\n",
              "      <td>622</td>\n",
              "      <td>724</td>\n",
              "      <td>353</td>\n",
              "      <td>0</td>\n",
              "      <td>7841</td>\n",
              "    </tr>\n",
              "    <tr>\n",
              "      <th>All</th>\n",
              "      <td>1836</td>\n",
              "      <td>960</td>\n",
              "      <td>2093</td>\n",
              "      <td>7</td>\n",
              "      <td>22696</td>\n",
              "      <td>1116</td>\n",
              "      <td>2541</td>\n",
              "      <td>1298</td>\n",
              "      <td>14</td>\n",
              "      <td>32561</td>\n",
              "    </tr>\n",
              "  </tbody>\n",
              "</table>\n",
              "</div>"
            ],
            "text/plain": [
              "workclass     ?   Federal-gov   Local-gov  ...   State-gov   Without-pay    All\n",
              "income                                     ...                                 \n",
              " <=50K     1645           589        1476  ...         945            14  24720\n",
              " >50K       191           371         617  ...         353             0   7841\n",
              "All        1836           960        2093  ...        1298            14  32561\n",
              "\n",
              "[3 rows x 10 columns]"
            ]
          },
          "metadata": {
            "tags": []
          },
          "execution_count": 58
        }
      ]
    },
    {
      "cell_type": "code",
      "metadata": {
        "id": "b7iamfiBRgKF",
        "colab_type": "code",
        "colab": {
          "base_uri": "https://localhost:8080/",
          "height": 51
        },
        "outputId": "06d86f9d-e154-410c-bfe6-ec81e04f7ce2"
      },
      "source": [
        "row_sums = contingency_table.iloc[0:2, 9].values\n",
        "column_sums = contingency_table.iloc[2, 0:9].values\n",
        "\n",
        "print(row_sums)\n",
        "column_sums"
      ],
      "execution_count": 59,
      "outputs": [
        {
          "output_type": "stream",
          "text": [
            "[24720  7841]\n"
          ],
          "name": "stdout"
        },
        {
          "output_type": "execute_result",
          "data": {
            "text/plain": [
              "array([ 1836,   960,  2093,     7, 22696,  1116,  2541,  1298,    14])"
            ]
          },
          "metadata": {
            "tags": []
          },
          "execution_count": 59
        }
      ]
    },
    {
      "cell_type": "code",
      "metadata": {
        "id": "47xBDjp2Tu3i",
        "colab_type": "code",
        "colab": {
          "base_uri": "https://localhost:8080/",
          "height": 34
        },
        "outputId": "0d2f26b4-806c-412c-a80d-b739651ac01d"
      },
      "source": [
        "total = contingency_table.loc['All', 'All']\n",
        "total"
      ],
      "execution_count": 60,
      "outputs": [
        {
          "output_type": "execute_result",
          "data": {
            "text/plain": [
              "32561"
            ]
          },
          "metadata": {
            "tags": []
          },
          "execution_count": 60
        }
      ]
    },
    {
      "cell_type": "code",
      "metadata": {
        "id": "p3MlIvJLT4ma",
        "colab_type": "code",
        "colab": {
          "base_uri": "https://localhost:8080/",
          "height": 136
        },
        "outputId": "33f5619a-c4b3-45fb-fe7e-b79f7307b059"
      },
      "source": [
        "expected = []\n",
        "for i in range (len(row_sums)):\n",
        "  expected_row = []\n",
        "  for column in column_sums:\n",
        "    expected_val = column*row_sums[i]/total\n",
        "    expected_row.append(expected_val)\n",
        "  expected.append(expected_row)\n",
        "  \n",
        "expected = np.array(expected)\n",
        "print(expected.shape)\n",
        "expected"
      ],
      "execution_count": 61,
      "outputs": [
        {
          "output_type": "stream",
          "text": [
            "(2, 9)\n"
          ],
          "name": "stdout"
        },
        {
          "output_type": "execute_result",
          "data": {
            "text/plain": [
              "array([[1.39387365e+03, 7.28822825e+02, 1.58898560e+03, 5.31433310e+00,\n",
              "        1.72305863e+04, 8.47256534e+02, 1.92910291e+03, 9.85429194e+02,\n",
              "        1.06286662e+01],\n",
              "       [4.42126347e+02, 2.31177175e+02, 5.04014404e+02, 1.68566690e+00,\n",
              "        5.46541372e+03, 2.68743466e+02, 6.11897085e+02, 3.12570806e+02,\n",
              "        3.37133380e+00]])"
            ]
          },
          "metadata": {
            "tags": []
          },
          "execution_count": 61
        }
      ]
    },
    {
      "cell_type": "code",
      "metadata": {
        "id": "fsLLzL1XVfSJ",
        "colab_type": "code",
        "colab": {
          "base_uri": "https://localhost:8080/",
          "height": 51
        },
        "outputId": "2b7e7755-89af-4a45-f7b7-873fc90f59a0"
      },
      "source": [
        "observed = pd.crosstab(adults['income'], adults['workclass']).values\n",
        "observed"
      ],
      "execution_count": 63,
      "outputs": [
        {
          "output_type": "execute_result",
          "data": {
            "text/plain": [
              "array([[ 1645,   589,  1476,     7, 17733,   494,  1817,   945,    14],\n",
              "       [  191,   371,   617,     0,  4963,   622,   724,   353,     0]])"
            ]
          },
          "metadata": {
            "tags": []
          },
          "execution_count": 63
        }
      ]
    },
    {
      "cell_type": "code",
      "metadata": {
        "id": "b4O7mXSVVILB",
        "colab_type": "code",
        "colab": {
          "base_uri": "https://localhost:8080/",
          "height": 34
        },
        "outputId": "43345672-3f8b-4c42-d52d-8db30187a129"
      },
      "source": [
        "chi_squared = ((observed - expected)**2 / (expected)).sum()\n",
        "chi_squared"
      ],
      "execution_count": 64,
      "outputs": [
        {
          "output_type": "execute_result",
          "data": {
            "text/plain": [
              "1045.7085997281692"
            ]
          },
          "metadata": {
            "tags": []
          },
          "execution_count": 64
        }
      ]
    },
    {
      "cell_type": "code",
      "metadata": {
        "id": "aRJCbFzUVvop",
        "colab_type": "code",
        "colab": {
          "base_uri": "https://localhost:8080/",
          "height": 34
        },
        "outputId": "4e0fb534-3066-4d80-c2fe-194d4ffc9b22"
      },
      "source": [
        "print('Chi Squared using Scipy is', stats.chi2_contingency(observed)[0])"
      ],
      "execution_count": 65,
      "outputs": [
        {
          "output_type": "stream",
          "text": [
            "Chi Squared using Scipy is 1045.7085997281692\n"
          ],
          "name": "stdout"
        }
      ]
    },
    {
      "cell_type": "markdown",
      "metadata": {
        "id": "4ohsJhQUmEuS",
        "colab_type": "text"
      },
      "source": [
        "## Stretch goals:\n",
        "\n",
        "1. Write a summary of your findings, mixing prose and math/code/results. *Note* - yes, this is by definition a political topic. It is challenging but important to keep your writing voice *neutral* and stick to the facts of the data. Data science often involves considering controversial issues, so it's important to be sensitive about them (especially if you want to publish).\n",
        "2. Apply the techniques you learned today to your project data or other data of your choice, and write/discuss your findings here.\n",
        "3. Refactor your code so it is elegant, readable, and can be easily run for all issues."
      ]
    },
    {
      "cell_type": "code",
      "metadata": {
        "id": "BYPiACuVWDaw",
        "colab_type": "code",
        "colab": {
          "base_uri": "https://localhost:8080/",
          "height": 139
        },
        "outputId": "88394d80-3eb6-4185-9e9c-9d9922373631"
      },
      "source": [
        "labels = ['handicapped_infants', 'water_project', 'budget', 'physician_fee_freeze', 'el_salvador_aid',\n",
        "         'religion_in_schools', 'anti_satellite_test_ban', 'aid_to_contras', 'mx_missile', 'immigration',\n",
        "         'synfuels_cutback', 'education', 'right_to_sue', 'crime', 'duty_free', 'export_south_africa']\n",
        "\n",
        "means_dem = []\n",
        "means_rep = []\n",
        "means_all = []\n",
        "moe_dem = []\n",
        "moe_rep = []\n",
        "moe_all = []\n",
        "\n",
        "for label in labels:\n",
        "  means_dem.append(np.mean(dem[label]))\n",
        "  means_rep.append(np.mean(rep[label]))\n",
        "  means_all.append(np.mean(df[label]))\n",
        "  moe_dem.append(margin_of_error(dem[label]))\n",
        "  moe_rep.append(margin_of_error(rep[label]))\n",
        "  moe_all.append(margin_of_error(df[label]))\n",
        "  \n",
        "print(means_dem)\n",
        "print(means_rep)\n",
        "print(means_all)\n",
        "print(moe_dem)\n",
        "print(moe_rep)\n",
        "print(moe_all)"
      ],
      "execution_count": 68,
      "outputs": [
        {
          "output_type": "stream",
          "text": [
            "[0.601123595505618, 0.50187265917603, 0.8782771535580525, 0.06741573033707865, 0.22846441947565543, 0.47752808988764045, 0.7640449438202247, 0.8239700374531835, 0.7397003745318352, 0.47191011235955055, 0.5056179775280899, 0.16853932584269662, 0.301498127340824, 0.35580524344569286, 0.6292134831460674, 0.8014981273408239]\n",
            "[0.19345238095238096, 0.5059523809523809, 0.14285714285714285, 0.9791666666666666, 0.9434523809523809, 0.8928571428571429, 0.25, 0.17559523809523808, 0.12202380952380952, 0.5565476190476191, 0.15178571428571427, 0.8422619047619048, 0.8392857142857143, 0.9613095238095238, 0.11904761904761904, 0.6369047619047619]\n",
            "[0.4436781609195402, 0.503448275862069, 0.5942528735632184, 0.41954022988505746, 0.5045977011494253, 0.6379310344827587, 0.5655172413793104, 0.5735632183908046, 0.5011494252873563, 0.5045977011494253, 0.3689655172413793, 0.42873563218390803, 0.5091954022988506, 0.5896551724137931, 0.432183908045977, 0.7379310344827587]\n",
            "[0.058065711214988595, 0.05710809667811392, 0.038242913517198926, 0.028409597151479386, 0.04904248514669802, 0.05927309290047777, 0.05018184253603769, 0.04537910440251522, 0.05046620723266521, 0.059811283077566654, 0.05898526333193811, 0.042387117329472326, 0.053521289420090545, 0.05660380715948021, 0.05640753408934117, 0.03463698311730086]\n",
            "[0.059476710311979965, 0.07169020230939335, 0.05214409614758631, 0.019285230122460723, 0.03377842851229888, 0.04651126048198122, 0.06455866003639732, 0.05474170925016414, 0.04895191619990447, 0.07520718849017607, 0.05188774106657033, 0.05147170435771722, 0.05292329040612075, 0.024999327005382405, 0.045066457448943845, 0.06806902825419353]\n",
            "[0.046212503548595275, 0.04449234473320033, 0.045715140276994665, 0.045949141580953486, 0.04634971286291193, 0.04471696709279983, 0.04599339564890002, 0.04582921121090546, 0.045963727107569116, 0.046789094754354395, 0.04432790635565444, 0.044960349370928104, 0.045788394146422925, 0.04546105567818847, 0.04517796005873147, 0.034486544302360055]\n"
          ],
          "name": "stdout"
        }
      ]
    },
    {
      "cell_type": "code",
      "metadata": {
        "id": "3ywHmvFMaybn",
        "colab_type": "code",
        "colab": {
          "base_uri": "https://localhost:8080/",
          "height": 351
        },
        "outputId": "172b0d10-fbdc-4c3c-f59c-69df1fe8a6b1"
      },
      "source": [
        "fig, ax = plt.subplots()\n",
        "\n",
        "fig.set_size_inches(20,5)\n",
        "\n",
        "# Using a loop to graph all issues at once.\n",
        "# Using an 'if' statement because which bar is on the bottom depends on which party's support is lower. Te \"all\" mean always being\n",
        "# in between the other two means makes things easier.\n",
        "for i in range(0,16):\n",
        "  if means_dem[i] < means_rep[i]:\n",
        "    ax.bar(labels[i], means_dem[i], color='b', yerr=moe_dem[i], width=0.6)\n",
        "    ax.bar(labels[i], means_all[i]-means_dem[i], bottom=means_dem[i], color='g', yerr=moe_all[i], width=0.6)\n",
        "    ax.bar(labels[i], means_rep[i]-means_all[i], bottom=means_all[i], color='r', yerr=moe_rep[i], width=0.6)\n",
        "  else:\n",
        "    ax.bar(labels[i], means_rep[i], color='r', yerr=moe_rep[i], width=0.6)\n",
        "    ax.bar(labels[i], means_all[i]-means_rep[i], bottom=means_rep[i], color='g', yerr=moe_all[i], width=0.6)\n",
        "    ax.bar(labels[i], means_dem[i]-means_all[i], bottom=means_all[i], color='b', yerr=moe_dem[i], width=0.6)\n",
        "    \n",
        "ax.set_title('Support of Democrats and Republicans for various issues (with confidence intervals) -- Blue = Dem; Red = Rep; Green = All')\n",
        "ax.set_xlabel('Issue')\n",
        "ax.set_ylabel('Support (With Confidence Intervals)')\n",
        "ax.set_yticklabels(['0%', '20%', '40%', '60%', '80%', '100%'])\n",
        "    \n",
        "plt.show()"
      ],
      "execution_count": 90,
      "outputs": [
        {
          "output_type": "display_data",
          "data": {
            "image/png": "[encoded data removed]",
            "text/plain": [
              "<Figure size 1440x360 with 1 Axes>"
            ]
          },
          "metadata": {
            "tags": []
          }
        }
      ]
    },
    {
      "cell_type": "markdown",
      "metadata": {
        "id": "zDcHUd5cetIG",
        "colab_type": "text"
      },
      "source": [
        "###Summary:\n",
        "\n",
        "The above graph indicates the average support of Democrats (blue), Republicans (red), and both (green) for various issues, along with cofnidence intervals (the black lines). You should read the bars as overlapping--e.g., in the first column, the average Republican voted for the bill about 20% of the time, the average Democrat about 60% of the time, and overall the bill received a vote about 45% of the time.\n",
        "\n",
        "Our confidence intervals are all relatively small, so we can draw the following conclusions with some certainty about the entire population, not just the sample:\n",
        "\n",
        "1. Democrats and Republicans have much different views on most issues, the only exceptions being the water project, immigration, and exports to South Africa (though the synthetic fuels cutback has a smaller difference than most, due to only 50% or so of Democrats supporting it).\n",
        "\n",
        "2. Republicans appear more united than Democrats: Whenever the Republicans support an issue significantly more than Democrats, Republican support always exceeds 80%; however, when Democratic support exceeds Republican support, that Democratic support is sometimes well below 80%.\n",
        "\n",
        "3. The most controversial issue seems to be the physician fee freeze, which receives almost no support from Democrats but a great deal of support from Republicans.\n",
        "\n",
        "4. For almost all issues, we can state with 95% confidence that, if Democrats support an issue more than Republicans in the sample (and vice versa), they do so in the population as well. The only exceptions are the water project, immigration, and exports to South Africa, for which we cannot state that with sufficient confidence. (See the confidence interval bars on the graph.)"
      ]
    },
    {
      "cell_type": "markdown",
      "metadata": {
        "id": "nyJ3ySr7R2k9",
        "colab_type": "text"
      },
      "source": [
        "## Resources\n",
        "\n",
        "- [Interactive visualize the Chi-Squared test](https://homepage.divms.uiowa.edu/~mbognar/applets/chisq.html)\n",
        "- [Calculation of Chi-Squared test statistic](https://en.wikipedia.org/wiki/Pearson%27s_chi-squared_test)\n",
        "- [Visualization of a confidence interval generated by R code](https://commons.wikimedia.org/wiki/File:Confidence-interval.svg)\n",
        "- [Expected value of a squared standard normal](https://math.stackexchange.com/questions/264061/expected-value-calculation-for-squared-normal-distribution) (it's 1 - which is why the expected value of a Chi-Squared with $n$ degrees of freedom is $n$, as it's the sum of $n$ squared standard normals)"
      ]
    }
  ]
}