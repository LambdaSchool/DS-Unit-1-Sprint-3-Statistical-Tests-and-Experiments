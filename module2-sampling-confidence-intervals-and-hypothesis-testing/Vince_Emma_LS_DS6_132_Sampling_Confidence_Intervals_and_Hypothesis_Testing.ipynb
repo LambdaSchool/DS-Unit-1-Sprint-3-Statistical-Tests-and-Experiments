{
  "nbformat": 4,
  "nbformat_minor": 0,
  "metadata": {
    "colab": {
      "name": "Vince Emma LS_DS6_132_Sampling_Confidence_Intervals_and_Hypothesis_Testing.ipynb",
      "version": "0.3.2",
      "provenance": [],
      "collapsed_sections": [],
      "include_colab_link": true
    },
    "kernelspec": {
      "name": "python3",
      "display_name": "Python 3"
    }
  },
  "cells": [
    {
      "cell_type": "markdown",
      "metadata": {
        "id": "view-in-github",
        "colab_type": "text"
      },
      "source": [
        "<a href=\"https://colab.research.google.com/github/Vincent-Emma/DS-Unit-1-Sprint-3-Statistical-Tests-and-Experiments/blob/master/Vince_Emma_LS_DS6_132_Sampling_Confidence_Intervals_and_Hypothesis_Testing.ipynb\" target=\"_parent\"><img src=\"https://colab.research.google.com/assets/colab-badge.svg\" alt=\"Open In Colab\"/></a>"
      ]
    },
    {
      "cell_type": "markdown",
      "metadata": {
        "id": "838Dmw1kM2LK",
        "colab_type": "text"
      },
      "source": [
        "# Lambda School Data Science Module 132\n",
        "## Sampling, Confidence Intervals, and Hypothesis Testing"
      ]
    },
    {
      "cell_type": "markdown",
      "metadata": {
        "id": "dbcPKIo5M6Ny",
        "colab_type": "text"
      },
      "source": [
        "## Prepare - examine other available hypothesis tests\n",
        "\n",
        "If you had to pick a single hypothesis test in your toolbox, t-test would probably be the best choice - but the good news is you don't have to pick just one! Here's some of the others to be aware of:"
      ]
    },
    {
      "cell_type": "code",
      "metadata": {
        "id": "tlBel8j9M6tB",
        "colab_type": "code",
        "outputId": "ad82730f-d80d-480a-92ae-d3e11ad81f68",
        "colab": {
          "base_uri": "https://localhost:8080/",
          "height": 187
        }
      },
      "source": [
        "import numpy as np\n",
        "from scipy.stats import chisquare  # One-way chi square test\n",
        "\n",
        "# Chi square can take any crosstab/table and test the independence of rows/cols\n",
        "# The null hypothesis is that the rows/cols are independent -> low chi square\n",
        "# The alternative is that there is a dependence -> high chi square\n",
        "# Be aware! Chi square does *not* tell you direction/causation\n",
        "\n",
        "ind_obs = np.array([[1, 1], [2, 2]]).T\n",
        "print(ind_obs)\n",
        "print(chisquare(ind_obs, axis=None))\n",
        "\n",
        "dep_obs = np.array([[16, 18, 16, 14, 12, 12], [32, 24, 16, 28, 20, 24]]).T\n",
        "print(dep_obs)\n",
        "print(chisquare(dep_obs, axis=None))"
      ],
      "execution_count": 0,
      "outputs": [
        {
          "output_type": "stream",
          "text": [
            "[[1 2]\n",
            " [1 2]]\n",
            "Power_divergenceResult(statistic=0.6666666666666666, pvalue=0.8810148425137847)\n",
            "[[16 32]\n",
            " [18 24]\n",
            " [16 16]\n",
            " [14 28]\n",
            " [12 20]\n",
            " [12 24]]\n",
            "Power_divergenceResult(statistic=23.31034482758621, pvalue=0.015975692534127565)\n"
          ],
          "name": "stdout"
        }
      ]
    },
    {
      "cell_type": "code",
      "metadata": {
        "id": "nN0BdNiDPxbk",
        "colab_type": "code",
        "outputId": "d149e833-5904-42ae-9b64-b3e5b71799f8",
        "colab": {
          "base_uri": "https://localhost:8080/",
          "height": 34
        }
      },
      "source": [
        "# Distribution tests:\n",
        "# We often assume that something is normal, but it can be important to *check*\n",
        "\n",
        "# For example, later on with predictive modeling, a typical assumption is that\n",
        "# residuals (prediction errors) are normal - checking is a good diagnostic\n",
        "\n",
        "from scipy.stats import normaltest\n",
        "# Poisson models arrival times and is related to the binomial (coinflip)\n",
        "sample = np.random.poisson(5, 1000)\n",
        "print(normaltest(sample))  # Pretty clearly not normal"
      ],
      "execution_count": 0,
      "outputs": [
        {
          "output_type": "stream",
          "text": [
            "NormaltestResult(statistic=22.273646023922907, pvalue=1.4565963588062096e-05)\n"
          ],
          "name": "stdout"
        }
      ]
    },
    {
      "cell_type": "code",
      "metadata": {
        "id": "P5t0WhkDReFO",
        "colab_type": "code",
        "outputId": "77a770b3-e844-4477-d373-fbc8ac374e20",
        "colab": {
          "base_uri": "https://localhost:8080/",
          "height": 50
        }
      },
      "source": [
        "# Kruskal-Wallis H-test - compare the median rank between 2+ groups\n",
        "# Can be applied to ranking decisions/outcomes/recommendations\n",
        "# The underlying math comes from chi-square distribution, and is best for n>5\n",
        "from scipy.stats import kruskal\n",
        "\n",
        "x1 = [1, 3, 5, 7, 9]\n",
        "y1 = [2, 4, 6, 8, 10]\n",
        "print(kruskal(x1, y1))  # x1 is a little better, but not \"significantly\" so\n",
        "\n",
        "x2 = [1, 1, 1]\n",
        "y2 = [2, 2, 2]\n",
        "z = [2, 2]  # Hey, a third group, and of different size!\n",
        "print(kruskal(x2, y2, z))  # x clearly dominates"
      ],
      "execution_count": 0,
      "outputs": [
        {
          "output_type": "stream",
          "text": [
            "KruskalResult(statistic=0.2727272727272734, pvalue=0.6015081344405895)\n",
            "KruskalResult(statistic=7.0, pvalue=0.0301973834223185)\n"
          ],
          "name": "stdout"
        }
      ]
    },
    {
      "cell_type": "markdown",
      "metadata": {
        "id": "7pT3IP36Rh0b",
        "colab_type": "text"
      },
      "source": [
        "And there's many more! `scipy.stats` is fairly comprehensive, though there are even more available if you delve into the extended world of statistics packages. As tests get increasingly obscure and specialized, the importance of knowing them by heart becomes small - but being able to look them up and figure them out when they *are* relevant is still important."
      ]
    },
    {
      "cell_type": "markdown",
      "metadata": {
        "id": "3JqroCQYQqhy",
        "colab_type": "text"
      },
      "source": [
        "## T-test Assumptions"
      ]
    },
    {
      "cell_type": "code",
      "metadata": {
        "id": "sqy2hEFRZnvI",
        "colab_type": "code",
        "colab": {}
      },
      "source": [
        "from scipy.stats import ttest_ind\n",
        "\n",
        "?ttest_ind"
      ],
      "execution_count": 0,
      "outputs": []
    },
    {
      "cell_type": "markdown",
      "metadata": {
        "id": "xI-PcK5sZ1A9",
        "colab_type": "text"
      },
      "source": [
        "<https://statistics.laerd.com/statistical-guides/independent-t-test-statistical-guide.php>\n",
        "\n",
        "- Independence of means\n",
        "\n",
        "Are the means of our voting data independent (do not affect the outcome of one another)?\n",
        "  \n",
        "The best way to increase thel likelihood of our means being independent is to randomly sample (which we did not do).\n",
        "\n",
        "- \"Homogeneity\" of Variance? \n",
        "\n",
        "Is the magnitude of the variance between the two roughly the same?\n",
        "\n",
        "I think we're OK on this one for the voting data, although it probably could be better, one party was larger than the other.\n",
        "\n",
        "If we suspect this to be a problem then we can use Welch's T-test"
      ]
    },
    {
      "cell_type": "markdown",
      "metadata": {
        "id": "tjgoHHwGayoC",
        "colab_type": "text"
      },
      "source": [
        "- \"Dependent Variable\" (sample means) are Distributed Normally\n",
        "\n",
        "<https://stats.stackexchange.com/questions/9573/t-test-for-non-normal-when-n50>\n",
        "\n",
        "Lots of statistical tests depend on normal distributions. We can test for normality using Scipy as was shown above.\n",
        "\n",
        "This assumption is often assumed even if the assumption is a weak one. If you strongly suspect that things are not normally distributed, you can transform your data to get it looking more normal and then run your test. This problem typically goes away for large sample sizes (yay Central Limit Theorem) and is often why you don't hear it brought up. People declare the assumption to be satisfied either way. \n",
        "\n"
      ]
    },
    {
      "cell_type": "markdown",
      "metadata": {
        "id": "bvvPV-RJN2vA",
        "colab_type": "text"
      },
      "source": [
        "## Central Limit Theorem\n",
        "\n"
      ]
    },
    {
      "cell_type": "code",
      "metadata": {
        "id": "FBLoOF8qOJeJ",
        "colab_type": "code",
        "outputId": "3fd246c1-b39b-4ff2-8428-3e1dcee28a6f",
        "colab": {
          "base_uri": "https://localhost:8080/",
          "height": 71
        }
      },
      "source": [
        "import numpy as np\n",
        "import matplotlib.pyplot as plt\n",
        "import pandas as pd\n",
        "\n",
        "N= 1000\n",
        "sample_means = []\n",
        "for x in range(0,N):\n",
        "  coinflips = np.random.binomial(n=1, p=.5, size=30)\n",
        "  one_sample = coinflips\n",
        "  sample_means.append(coinflips.mean())\n",
        "\n",
        "print(len(sample_means))\n",
        "print(sample_means)"
      ],
      "execution_count": 0,
      "outputs": [
        {
          "output_type": "stream",
          "text": [
            "1000\n",
            "[0.6, 0.5333333333333333, 0.6333333333333333, 0.6666666666666666, 0.6, 0.5333333333333333, 0.5, 0.4666666666666667, 0.36666666666666664, 0.5666666666666667, 0.4, 0.4666666666666667, 0.43333333333333335, 0.5, 0.4666666666666667, 0.5, 0.5, 0.5333333333333333, 0.5666666666666667, 0.4666666666666667, 0.6, 0.43333333333333335, 0.4, 0.43333333333333335, 0.3, 0.5333333333333333, 0.43333333333333335, 0.36666666666666664, 0.6, 0.36666666666666664, 0.5, 0.5, 0.4666666666666667, 0.6333333333333333, 0.5333333333333333, 0.5, 0.6, 0.6, 0.5333333333333333, 0.4666666666666667, 0.5666666666666667, 0.4666666666666667, 0.5, 0.43333333333333335, 0.5, 0.6, 0.4666666666666667, 0.5, 0.6333333333333333, 0.43333333333333335, 0.5666666666666667, 0.6333333333333333, 0.8, 0.6, 0.4666666666666667, 0.5333333333333333, 0.43333333333333335, 0.4666666666666667, 0.5333333333333333, 0.4666666666666667, 0.6, 0.6333333333333333, 0.5666666666666667, 0.4666666666666667, 0.6, 0.36666666666666664, 0.4666666666666667, 0.5666666666666667, 0.5333333333333333, 0.7, 0.3333333333333333, 0.6, 0.5, 0.5, 0.3, 0.5666666666666667, 0.3333333333333333, 0.5333333333333333, 0.43333333333333335, 0.5333333333333333, 0.5666666666666667, 0.7666666666666667, 0.6, 0.6, 0.5, 0.6333333333333333, 0.43333333333333335, 0.4, 0.43333333333333335, 0.5666666666666667, 0.4666666666666667, 0.4666666666666667, 0.5333333333333333, 0.4666666666666667, 0.5, 0.5333333333333333, 0.4666666666666667, 0.4666666666666667, 0.5, 0.5666666666666667, 0.5333333333333333, 0.6, 0.6666666666666666, 0.43333333333333335, 0.43333333333333335, 0.5, 0.36666666666666664, 0.6, 0.4, 0.5, 0.36666666666666664, 0.5666666666666667, 0.4, 0.6666666666666666, 0.4666666666666667, 0.43333333333333335, 0.5, 0.6333333333333333, 0.4666666666666667, 0.5333333333333333, 0.4, 0.6666666666666666, 0.6, 0.43333333333333335, 0.5, 0.6333333333333333, 0.36666666666666664, 0.6, 0.6333333333333333, 0.4, 0.6, 0.5, 0.36666666666666664, 0.4, 0.4666666666666667, 0.36666666666666664, 0.43333333333333335, 0.6, 0.43333333333333335, 0.43333333333333335, 0.5333333333333333, 0.5333333333333333, 0.4666666666666667, 0.5666666666666667, 0.5333333333333333, 0.4666666666666667, 0.43333333333333335, 0.4666666666666667, 0.5333333333333333, 0.5333333333333333, 0.43333333333333335, 0.4666666666666667, 0.43333333333333335, 0.5666666666666667, 0.5666666666666667, 0.26666666666666666, 0.43333333333333335, 0.4666666666666667, 0.4, 0.5, 0.36666666666666664, 0.4, 0.5333333333333333, 0.6666666666666666, 0.6, 0.5333333333333333, 0.5333333333333333, 0.36666666666666664, 0.5, 0.4, 0.6333333333333333, 0.6, 0.36666666666666664, 0.5666666666666667, 0.5, 0.4666666666666667, 0.43333333333333335, 0.4666666666666667, 0.43333333333333335, 0.43333333333333335, 0.6, 0.5666666666666667, 0.5333333333333333, 0.5666666666666667, 0.5333333333333333, 0.4, 0.36666666666666664, 0.5666666666666667, 0.43333333333333335, 0.4666666666666667, 0.3, 0.43333333333333335, 0.43333333333333335, 0.5333333333333333, 0.5, 0.43333333333333335, 0.5666666666666667, 0.5, 0.5, 0.5, 0.5, 0.5333333333333333, 0.5333333333333333, 0.6, 0.5333333333333333, 0.36666666666666664, 0.4666666666666667, 0.5333333333333333, 0.6333333333333333, 0.5666666666666667, 0.5666666666666667, 0.5, 0.43333333333333335, 0.4666666666666667, 0.5333333333333333, 0.5333333333333333, 0.5, 0.5, 0.5333333333333333, 0.36666666666666664, 0.6, 0.5666666666666667, 0.6, 0.5666666666666667, 0.6666666666666666, 0.5666666666666667, 0.4666666666666667, 0.5333333333333333, 0.5, 0.6, 0.4, 0.6333333333333333, 0.6, 0.5666666666666667, 0.4, 0.6, 0.6, 0.4666666666666667, 0.4, 0.6, 0.4666666666666667, 0.6333333333333333, 0.5333333333333333, 0.3333333333333333, 0.5333333333333333, 0.5333333333333333, 0.6333333333333333, 0.5, 0.5, 0.5666666666666667, 0.4, 0.36666666666666664, 0.4666666666666667, 0.5666666666666667, 0.5333333333333333, 0.4666666666666667, 0.5333333333333333, 0.43333333333333335, 0.6, 0.5333333333333333, 0.5, 0.3333333333333333, 0.5, 0.6666666666666666, 0.5666666666666667, 0.4666666666666667, 0.5333333333333333, 0.5333333333333333, 0.43333333333333335, 0.43333333333333335, 0.5, 0.5333333333333333, 0.4666666666666667, 0.5, 0.5333333333333333, 0.5, 0.43333333333333335, 0.6666666666666666, 0.43333333333333335, 0.5333333333333333, 0.8, 0.6333333333333333, 0.43333333333333335, 0.5, 0.6, 0.36666666666666664, 0.5, 0.43333333333333335, 0.5333333333333333, 0.5333333333333333, 0.43333333333333335, 0.6, 0.4666666666666667, 0.5333333333333333, 0.4666666666666667, 0.5, 0.3333333333333333, 0.4, 0.43333333333333335, 0.6, 0.5333333333333333, 0.43333333333333335, 0.36666666666666664, 0.5333333333333333, 0.5333333333333333, 0.4666666666666667, 0.4666666666666667, 0.6333333333333333, 0.6, 0.5333333333333333, 0.4666666666666667, 0.5, 0.5666666666666667, 0.4666666666666667, 0.4, 0.5, 0.6, 0.6333333333333333, 0.4666666666666667, 0.3333333333333333, 0.4666666666666667, 0.43333333333333335, 0.4, 0.5333333333333333, 0.4666666666666667, 0.43333333333333335, 0.5333333333333333, 0.43333333333333335, 0.4666666666666667, 0.5666666666666667, 0.7, 0.5666666666666667, 0.43333333333333335, 0.36666666666666664, 0.43333333333333335, 0.5, 0.4666666666666667, 0.4, 0.5333333333333333, 0.5, 0.5333333333333333, 0.5, 0.6333333333333333, 0.43333333333333335, 0.43333333333333335, 0.6, 0.5, 0.43333333333333335, 0.4, 0.4666666666666667, 0.4666666666666667, 0.5666666666666667, 0.6, 0.43333333333333335, 0.4666666666666667, 0.6, 0.5666666666666667, 0.4, 0.5666666666666667, 0.36666666666666664, 0.5333333333333333, 0.43333333333333335, 0.5333333333333333, 0.5, 0.5666666666666667, 0.5666666666666667, 0.6666666666666666, 0.6666666666666666, 0.6, 0.5, 0.6333333333333333, 0.6666666666666666, 0.4666666666666667, 0.36666666666666664, 0.5666666666666667, 0.3, 0.43333333333333335, 0.5, 0.5, 0.5, 0.5, 0.36666666666666664, 0.5333333333333333, 0.5666666666666667, 0.3333333333333333, 0.43333333333333335, 0.4666666666666667, 0.5666666666666667, 0.5333333333333333, 0.4666666666666667, 0.6, 0.4, 0.5666666666666667, 0.5333333333333333, 0.5333333333333333, 0.5, 0.7, 0.5333333333333333, 0.4666666666666667, 0.6333333333333333, 0.4666666666666667, 0.7333333333333333, 0.5333333333333333, 0.43333333333333335, 0.5, 0.36666666666666664, 0.3333333333333333, 0.36666666666666664, 0.5, 0.43333333333333335, 0.43333333333333335, 0.4, 0.5666666666666667, 0.5666666666666667, 0.43333333333333335, 0.43333333333333335, 0.5, 0.4666666666666667, 0.6666666666666666, 0.4666666666666667, 0.5666666666666667, 0.5, 0.5666666666666667, 0.6333333333333333, 0.7666666666666667, 0.4666666666666667, 0.5666666666666667, 0.6, 0.5333333333333333, 0.6666666666666666, 0.5666666666666667, 0.4, 0.4666666666666667, 0.43333333333333335, 0.4, 0.6333333333333333, 0.3, 0.6666666666666666, 0.7, 0.5333333333333333, 0.23333333333333334, 0.5, 0.6666666666666666, 0.4666666666666667, 0.43333333333333335, 0.6, 0.6, 0.5666666666666667, 0.36666666666666664, 0.6666666666666666, 0.6333333333333333, 0.6666666666666666, 0.3, 0.5333333333333333, 0.6, 0.4, 0.5666666666666667, 0.5666666666666667, 0.4666666666666667, 0.5666666666666667, 0.6666666666666666, 0.4666666666666667, 0.5, 0.6, 0.6, 0.5, 0.3, 0.43333333333333335, 0.5666666666666667, 0.4, 0.5, 0.5, 0.43333333333333335, 0.7, 0.6, 0.4666666666666667, 0.5666666666666667, 0.5, 0.43333333333333335, 0.5, 0.5, 0.43333333333333335, 0.5333333333333333, 0.5333333333333333, 0.5666666666666667, 0.4666666666666667, 0.5333333333333333, 0.5, 0.4666666666666667, 0.4666666666666667, 0.4666666666666667, 0.4, 0.5333333333333333, 0.5333333333333333, 0.4666666666666667, 0.4, 0.5666666666666667, 0.6, 0.4, 0.7333333333333333, 0.43333333333333335, 0.5333333333333333, 0.5, 0.5666666666666667, 0.5333333333333333, 0.36666666666666664, 0.5, 0.43333333333333335, 0.6666666666666666, 0.5333333333333333, 0.6666666666666666, 0.5666666666666667, 0.5, 0.4666666666666667, 0.5333333333333333, 0.36666666666666664, 0.4, 0.43333333333333335, 0.5333333333333333, 0.5666666666666667, 0.4666666666666667, 0.6333333333333333, 0.43333333333333335, 0.4666666666666667, 0.4666666666666667, 0.5333333333333333, 0.5, 0.36666666666666664, 0.4, 0.4, 0.6, 0.5, 0.4666666666666667, 0.5, 0.6, 0.43333333333333335, 0.5333333333333333, 0.4666666666666667, 0.6, 0.5333333333333333, 0.6666666666666666, 0.5666666666666667, 0.4, 0.4, 0.5, 0.5, 0.6, 0.4, 0.3333333333333333, 0.4666666666666667, 0.43333333333333335, 0.6666666666666666, 0.5333333333333333, 0.5, 0.5, 0.36666666666666664, 0.4666666666666667, 0.4, 0.4, 0.4, 0.5333333333333333, 0.5, 0.5, 0.5, 0.6, 0.4666666666666667, 0.5, 0.6, 0.5, 0.5333333333333333, 0.6, 0.5333333333333333, 0.4666666666666667, 0.4, 0.43333333333333335, 0.4, 0.6, 0.5, 0.5, 0.4, 0.3, 0.36666666666666664, 0.5333333333333333, 0.5666666666666667, 0.5666666666666667, 0.6333333333333333, 0.5666666666666667, 0.43333333333333335, 0.5333333333333333, 0.4, 0.5666666666666667, 0.5666666666666667, 0.4, 0.6, 0.4666666666666667, 0.3333333333333333, 0.3333333333333333, 0.43333333333333335, 0.6666666666666666, 0.36666666666666664, 0.5666666666666667, 0.43333333333333335, 0.6333333333333333, 0.4666666666666667, 0.43333333333333335, 0.43333333333333335, 0.5, 0.6, 0.4666666666666667, 0.7, 0.36666666666666664, 0.6333333333333333, 0.36666666666666664, 0.43333333333333335, 0.36666666666666664, 0.5666666666666667, 0.3, 0.43333333333333335, 0.5333333333333333, 0.5666666666666667, 0.4, 0.7, 0.43333333333333335, 0.5, 0.4, 0.5, 0.6666666666666666, 0.4, 0.5333333333333333, 0.5, 0.43333333333333335, 0.6666666666666666, 0.4666666666666667, 0.6666666666666666, 0.5333333333333333, 0.5333333333333333, 0.4, 0.4666666666666667, 0.5666666666666667, 0.5, 0.4666666666666667, 0.43333333333333335, 0.5, 0.4, 0.36666666666666664, 0.5333333333333333, 0.6666666666666666, 0.43333333333333335, 0.5333333333333333, 0.5666666666666667, 0.5333333333333333, 0.4, 0.43333333333333335, 0.4666666666666667, 0.5333333333333333, 0.6, 0.5333333333333333, 0.3333333333333333, 0.5, 0.5333333333333333, 0.5666666666666667, 0.4666666666666667, 0.6, 0.6333333333333333, 0.5666666666666667, 0.4, 0.5666666666666667, 0.3333333333333333, 0.5, 0.4, 0.4, 0.5333333333333333, 0.5, 0.6, 0.5, 0.5333333333333333, 0.5, 0.5666666666666667, 0.5666666666666667, 0.7666666666666667, 0.43333333333333335, 0.5666666666666667, 0.5333333333333333, 0.4666666666666667, 0.6, 0.5666666666666667, 0.43333333333333335, 0.43333333333333335, 0.5666666666666667, 0.5666666666666667, 0.4666666666666667, 0.6666666666666666, 0.43333333333333335, 0.4666666666666667, 0.6, 0.5333333333333333, 0.36666666666666664, 0.5666666666666667, 0.5666666666666667, 0.4, 0.3333333333333333, 0.4666666666666667, 0.4666666666666667, 0.6666666666666666, 0.6333333333333333, 0.5333333333333333, 0.43333333333333335, 0.4666666666666667, 0.5333333333333333, 0.4666666666666667, 0.4666666666666667, 0.4666666666666667, 0.4, 0.5666666666666667, 0.5, 0.6, 0.5, 0.4, 0.6333333333333333, 0.7, 0.4, 0.4666666666666667, 0.43333333333333335, 0.7, 0.5, 0.43333333333333335, 0.5, 0.6, 0.4666666666666667, 0.4666666666666667, 0.5333333333333333, 0.6666666666666666, 0.36666666666666664, 0.43333333333333335, 0.5333333333333333, 0.4666666666666667, 0.43333333333333335, 0.6333333333333333, 0.6333333333333333, 0.5333333333333333, 0.5333333333333333, 0.36666666666666664, 0.5, 0.4666666666666667, 0.3333333333333333, 0.4, 0.23333333333333334, 0.5, 0.6666666666666666, 0.5666666666666667, 0.43333333333333335, 0.36666666666666664, 0.6333333333333333, 0.6333333333333333, 0.5, 0.43333333333333335, 0.5333333333333333, 0.4, 0.5, 0.3333333333333333, 0.5, 0.43333333333333335, 0.4666666666666667, 0.3, 0.43333333333333335, 0.5, 0.36666666666666664, 0.5666666666666667, 0.5, 0.4666666666666667, 0.6333333333333333, 0.3, 0.6666666666666666, 0.4, 0.5666666666666667, 0.43333333333333335, 0.5, 0.4, 0.5, 0.43333333333333335, 0.36666666666666664, 0.5, 0.5333333333333333, 0.5666666666666667, 0.5, 0.43333333333333335, 0.5333333333333333, 0.4666666666666667, 0.5, 0.43333333333333335, 0.5, 0.5333333333333333, 0.36666666666666664, 0.6, 0.5333333333333333, 0.6333333333333333, 0.4, 0.5333333333333333, 0.5666666666666667, 0.6333333333333333, 0.4, 0.6333333333333333, 0.5333333333333333, 0.5666666666666667, 0.5, 0.6333333333333333, 0.43333333333333335, 0.4, 0.6333333333333333, 0.3333333333333333, 0.6, 0.5333333333333333, 0.5333333333333333, 0.5333333333333333, 0.5333333333333333, 0.5666666666666667, 0.5, 0.4666666666666667, 0.5333333333333333, 0.4666666666666667, 0.5666666666666667, 0.36666666666666664, 0.3, 0.6, 0.5666666666666667, 0.7333333333333333, 0.5, 0.43333333333333335, 0.4666666666666667, 0.4666666666666667, 0.5333333333333333, 0.4666666666666667, 0.5, 0.6, 0.4666666666666667, 0.5333333333333333, 0.5333333333333333, 0.4666666666666667, 0.5, 0.4, 0.5333333333333333, 0.5, 0.4666666666666667, 0.5666666666666667, 0.43333333333333335, 0.3, 0.43333333333333335, 0.5666666666666667, 0.6333333333333333, 0.6333333333333333, 0.5666666666666667, 0.6333333333333333, 0.3333333333333333, 0.4666666666666667, 0.4666666666666667, 0.6333333333333333, 0.4, 0.6, 0.5333333333333333, 0.5, 0.5333333333333333, 0.43333333333333335, 0.5333333333333333, 0.5, 0.5666666666666667, 0.5666666666666667, 0.4, 0.6333333333333333, 0.43333333333333335, 0.5333333333333333, 0.3333333333333333, 0.6333333333333333, 0.43333333333333335, 0.6, 0.5333333333333333, 0.3, 0.5, 0.6, 0.5333333333333333, 0.4, 0.36666666666666664, 0.5666666666666667, 0.4666666666666667, 0.7333333333333333, 0.6, 0.5333333333333333, 0.3333333333333333, 0.3, 0.5666666666666667, 0.4, 0.4, 0.4666666666666667, 0.4, 0.36666666666666664, 0.5, 0.4666666666666667, 0.4666666666666667, 0.5333333333333333, 0.36666666666666664, 0.5666666666666667, 0.43333333333333335, 0.6, 0.5, 0.4666666666666667, 0.36666666666666664, 0.5666666666666667, 0.5666666666666667, 0.5666666666666667, 0.5666666666666667, 0.6333333333333333, 0.6333333333333333, 0.5666666666666667, 0.6333333333333333, 0.6, 0.4666666666666667, 0.4666666666666667, 0.5, 0.5333333333333333, 0.5333333333333333, 0.3333333333333333, 0.5, 0.43333333333333335, 0.5, 0.5333333333333333, 0.6, 0.5, 0.5666666666666667, 0.6333333333333333, 0.4, 0.4666666666666667, 0.6, 0.3333333333333333, 0.6333333333333333, 0.43333333333333335, 0.6333333333333333, 0.43333333333333335, 0.5, 0.5, 0.43333333333333335, 0.5, 0.4666666666666667, 0.43333333333333335, 0.43333333333333335, 0.6, 0.5666666666666667, 0.5333333333333333, 0.5333333333333333, 0.4666666666666667, 0.6, 0.5, 0.4666666666666667, 0.4666666666666667, 0.4, 0.5333333333333333, 0.4666666666666667, 0.5, 0.7, 0.4, 0.3, 0.36666666666666664, 0.5333333333333333, 0.6666666666666666, 0.5666666666666667, 0.3, 0.5333333333333333, 0.5, 0.4666666666666667, 0.4, 0.43333333333333335, 0.43333333333333335, 0.4666666666666667, 0.43333333333333335, 0.43333333333333335, 0.6333333333333333, 0.5333333333333333, 0.4, 0.6, 0.4666666666666667, 0.4666666666666667, 0.43333333333333335, 0.43333333333333335, 0.36666666666666664, 0.5666666666666667, 0.4666666666666667, 0.5, 0.5333333333333333, 0.5333333333333333, 0.43333333333333335, 0.36666666666666664, 0.5, 0.36666666666666664, 0.6333333333333333, 0.5666666666666667, 0.4666666666666667, 0.3, 0.4666666666666667, 0.6, 0.5, 0.4, 0.6666666666666666]\n"
          ],
          "name": "stdout"
        }
      ]
    },
    {
      "cell_type": "code",
      "metadata": {
        "id": "rfeA06evOT2K",
        "colab_type": "code",
        "outputId": "7f0b5460-f2e4-4fa3-e0e3-dccff63bd0d1",
        "colab": {
          "base_uri": "https://localhost:8080/",
          "height": 204
        }
      },
      "source": [
        "# Create dataframe with single coin flip\n",
        "df = pd.DataFrame({'one-samp': one_sample})\n",
        "df.head()"
      ],
      "execution_count": 0,
      "outputs": [
        {
          "output_type": "execute_result",
          "data": {
            "text/html": [
              "<div>\n",
              "<style scoped>\n",
              "    .dataframe tbody tr th:only-of-type {\n",
              "        vertical-align: middle;\n",
              "    }\n",
              "\n",
              "    .dataframe tbody tr th {\n",
              "        vertical-align: top;\n",
              "    }\n",
              "\n",
              "    .dataframe thead th {\n",
              "        text-align: right;\n",
              "    }\n",
              "</style>\n",
              "<table border=\"1\" class=\"dataframe\">\n",
              "  <thead>\n",
              "    <tr style=\"text-align: right;\">\n",
              "      <th></th>\n",
              "      <th>one-samp</th>\n",
              "    </tr>\n",
              "  </thead>\n",
              "  <tbody>\n",
              "    <tr>\n",
              "      <th>0</th>\n",
              "      <td>1</td>\n",
              "    </tr>\n",
              "    <tr>\n",
              "      <th>1</th>\n",
              "      <td>0</td>\n",
              "    </tr>\n",
              "    <tr>\n",
              "      <th>2</th>\n",
              "      <td>1</td>\n",
              "    </tr>\n",
              "    <tr>\n",
              "      <th>3</th>\n",
              "      <td>1</td>\n",
              "    </tr>\n",
              "    <tr>\n",
              "      <th>4</th>\n",
              "      <td>0</td>\n",
              "    </tr>\n",
              "  </tbody>\n",
              "</table>\n",
              "</div>"
            ],
            "text/plain": [
              "   one-samp\n",
              "0         1\n",
              "1         0\n",
              "2         1\n",
              "3         1\n",
              "4         0"
            ]
          },
          "metadata": {
            "tags": []
          },
          "execution_count": 105
        }
      ]
    },
    {
      "cell_type": "code",
      "metadata": {
        "id": "GlMSNFX6OmBV",
        "colab_type": "code",
        "outputId": "52282ea4-0dab-4b64-f29d-14a5a9034e73",
        "colab": {
          "base_uri": "https://localhost:8080/",
          "height": 281
        }
      },
      "source": [
        "# Plot histogram to look at distribution of a single coin flip \n",
        "df.hist();"
      ],
      "execution_count": 0,
      "outputs": [
        {
          "output_type": "display_data",
          "data": {
            "image/png": "[encoded data removed]",
            "text/plain": [
              "<Figure size 432x288 with 1 Axes>"
            ]
          },
          "metadata": {
            "tags": []
          }
        }
      ]
    },
    {
      "cell_type": "code",
      "metadata": {
        "id": "Jie4ypgLOs5M",
        "colab_type": "code",
        "outputId": "c8e932b8-ca8c-45f1-b4b9-2ad84a159120",
        "colab": {
          "base_uri": "https://localhost:8080/",
          "height": 296
        }
      },
      "source": [
        "# Plot histogram to look at distribution of all coin flips\n",
        "ax = plt.hist(sample_means, bins=30)\n",
        "plt.title(f'Distribution of {N} sample means \\n(of 30 coinflips each)');"
      ],
      "execution_count": 0,
      "outputs": [
        {
          "output_type": "display_data",
          "data": {
            "image/png": "[encoded data removed]",
            "text/plain": [
              "<Figure size 432x288 with 1 Axes>"
            ]
          },
          "metadata": {
            "tags": []
          }
        }
      ]
    },
    {
      "cell_type": "markdown",
      "metadata": {
        "id": "LsEAjc4rOylm",
        "colab_type": "text"
      },
      "source": [
        "What does the Central Limit Theorem State? That no matter the initial distribution of the population, the distribution of sample means taken will approximate a normal distribution as $n \\rightarrow \\infty$.\n",
        "\n",
        "This has very important implications for hypothesis testing and is precisely the reason why the t-distribution begins to approximate the normal distribution as our sample size increases. "
      ]
    },
    {
      "cell_type": "markdown",
      "metadata": {
        "id": "EYqo5vZZSFUr",
        "colab_type": "text"
      },
      "source": [
        "## Standard Error of the Mean\n",
        "\n",
        "What does it mean to \"estimate\"? the Population mean?"
      ]
    },
    {
      "cell_type": "code",
      "metadata": {
        "id": "puGXH6vbSIE4",
        "colab_type": "code",
        "outputId": "ff8059ae-8a37-412f-c110-eeeb434d974c",
        "colab": {
          "base_uri": "https://localhost:8080/",
          "height": 68
        }
      },
      "source": [
        "import numpy as np\n",
        "import pandas as pd\n",
        "\n",
        "# Average Height\n",
        "mu = 70\n",
        "sigma = 3\n",
        "\n",
        "lambda_heights = np.random.normal(mu, sigma, 2000)\n",
        "print(len(lambda_heights))\n",
        "lambda_heights"
      ],
      "execution_count": 0,
      "outputs": [
        {
          "output_type": "stream",
          "text": [
            "2000\n"
          ],
          "name": "stdout"
        },
        {
          "output_type": "execute_result",
          "data": {
            "text/plain": [
              "array([66.45410202, 71.72150782, 63.61741615, ..., 70.40639712,\n",
              "       68.90074893, 64.06840721])"
            ]
          },
          "metadata": {
            "tags": []
          },
          "execution_count": 107
        }
      ]
    },
    {
      "cell_type": "code",
      "metadata": {
        "id": "2X-aKCTSXVOc",
        "colab_type": "code",
        "outputId": "55926ac6-1481-4676-a08f-ad3bb9675607",
        "colab": {
          "base_uri": "https://localhost:8080/",
          "height": 281
        }
      },
      "source": [
        "import seaborn as sns\n",
        "\n",
        "sns.distplot(lambda_heights)\n",
        "plt.title('Distribution of Heights (in inches)');"
      ],
      "execution_count": 0,
      "outputs": [
        {
          "output_type": "display_data",
          "data": {
            "image/png": "[encoded data removed]",
            "text/plain": [
              "<Figure size 432x288 with 1 Axes>"
            ]
          },
          "metadata": {
            "tags": []
          }
        }
      ]
    },
    {
      "cell_type": "code",
      "metadata": {
        "id": "fQlloeU4qwuI",
        "colab_type": "code",
        "outputId": "4eb8f0d6-278a-4e7a-94a8-75fc3d2c7f01",
        "colab": {
          "base_uri": "https://localhost:8080/",
          "height": 51
        }
      },
      "source": [
        "print(\"Population Mean:\", lambda_heights.mean())\n",
        "print(\"Population Standard Deviation:\", lambda_heights.std())"
      ],
      "execution_count": 0,
      "outputs": [
        {
          "output_type": "stream",
          "text": [
            "Population Mean: 69.97830462922269\n",
            "Population Standard Deviation: 2.9912427137915323\n"
          ],
          "name": "stdout"
        }
      ]
    },
    {
      "cell_type": "code",
      "metadata": {
        "id": "sOD7gQMxq3ib",
        "colab_type": "code",
        "outputId": "c1c38be6-ed27-4716-9011-5b9671753ed9",
        "colab": {
          "base_uri": "https://localhost:8080/",
          "height": 221
        }
      },
      "source": [
        "population = pd.DataFrame({'heights': lambda_heights})\n",
        "print(population.shape)\n",
        "population.head()"
      ],
      "execution_count": 0,
      "outputs": [
        {
          "output_type": "stream",
          "text": [
            "(2000, 1)\n"
          ],
          "name": "stdout"
        },
        {
          "output_type": "execute_result",
          "data": {
            "text/html": [
              "<div>\n",
              "<style scoped>\n",
              "    .dataframe tbody tr th:only-of-type {\n",
              "        vertical-align: middle;\n",
              "    }\n",
              "\n",
              "    .dataframe tbody tr th {\n",
              "        vertical-align: top;\n",
              "    }\n",
              "\n",
              "    .dataframe thead th {\n",
              "        text-align: right;\n",
              "    }\n",
              "</style>\n",
              "<table border=\"1\" class=\"dataframe\">\n",
              "  <thead>\n",
              "    <tr style=\"text-align: right;\">\n",
              "      <th></th>\n",
              "      <th>heights</th>\n",
              "    </tr>\n",
              "  </thead>\n",
              "  <tbody>\n",
              "    <tr>\n",
              "      <th>0</th>\n",
              "      <td>66.454102</td>\n",
              "    </tr>\n",
              "    <tr>\n",
              "      <th>1</th>\n",
              "      <td>71.721508</td>\n",
              "    </tr>\n",
              "    <tr>\n",
              "      <th>2</th>\n",
              "      <td>63.617416</td>\n",
              "    </tr>\n",
              "    <tr>\n",
              "      <th>3</th>\n",
              "      <td>70.236872</td>\n",
              "    </tr>\n",
              "    <tr>\n",
              "      <th>4</th>\n",
              "      <td>64.819847</td>\n",
              "    </tr>\n",
              "  </tbody>\n",
              "</table>\n",
              "</div>"
            ],
            "text/plain": [
              "     heights\n",
              "0  66.454102\n",
              "1  71.721508\n",
              "2  63.617416\n",
              "3  70.236872\n",
              "4  64.819847"
            ]
          },
          "metadata": {
            "tags": []
          },
          "execution_count": 110
        }
      ]
    },
    {
      "cell_type": "code",
      "metadata": {
        "id": "A1DEQgCAq75F",
        "colab_type": "code",
        "outputId": "1c52fa8a-04c1-4d15-b43c-4936cec94226",
        "colab": {
          "base_uri": "https://localhost:8080/",
          "height": 221
        }
      },
      "source": [
        "# Take a random sample and print sample mean\n",
        "sample1 = population.sample(100)\n",
        "print(sample1.shape)\n",
        "sample1.head()"
      ],
      "execution_count": 0,
      "outputs": [
        {
          "output_type": "stream",
          "text": [
            "(100, 1)\n"
          ],
          "name": "stdout"
        },
        {
          "output_type": "execute_result",
          "data": {
            "text/html": [
              "<div>\n",
              "<style scoped>\n",
              "    .dataframe tbody tr th:only-of-type {\n",
              "        vertical-align: middle;\n",
              "    }\n",
              "\n",
              "    .dataframe tbody tr th {\n",
              "        vertical-align: top;\n",
              "    }\n",
              "\n",
              "    .dataframe thead th {\n",
              "        text-align: right;\n",
              "    }\n",
              "</style>\n",
              "<table border=\"1\" class=\"dataframe\">\n",
              "  <thead>\n",
              "    <tr style=\"text-align: right;\">\n",
              "      <th></th>\n",
              "      <th>heights</th>\n",
              "    </tr>\n",
              "  </thead>\n",
              "  <tbody>\n",
              "    <tr>\n",
              "      <th>869</th>\n",
              "      <td>71.343253</td>\n",
              "    </tr>\n",
              "    <tr>\n",
              "      <th>646</th>\n",
              "      <td>70.711060</td>\n",
              "    </tr>\n",
              "    <tr>\n",
              "      <th>258</th>\n",
              "      <td>71.107078</td>\n",
              "    </tr>\n",
              "    <tr>\n",
              "      <th>1622</th>\n",
              "      <td>71.678653</td>\n",
              "    </tr>\n",
              "    <tr>\n",
              "      <th>1640</th>\n",
              "      <td>69.660852</td>\n",
              "    </tr>\n",
              "  </tbody>\n",
              "</table>\n",
              "</div>"
            ],
            "text/plain": [
              "        heights\n",
              "869   71.343253\n",
              "646   70.711060\n",
              "258   71.107078\n",
              "1622  71.678653\n",
              "1640  69.660852"
            ]
          },
          "metadata": {
            "tags": []
          },
          "execution_count": 111
        }
      ]
    },
    {
      "cell_type": "code",
      "metadata": {
        "id": "crOIfrlDRmJE",
        "colab_type": "code",
        "outputId": "b7c9df73-45d3-4752-ee4e-6f69eafc2942",
        "colab": {
          "base_uri": "https://localhost:8080/",
          "height": 34
        }
      },
      "source": [
        "print('Sample Mean #1:', sample1['heights'].mean())"
      ],
      "execution_count": 0,
      "outputs": [
        {
          "output_type": "stream",
          "text": [
            "Sample Mean #1: 69.83609365535067\n"
          ],
          "name": "stdout"
        }
      ]
    },
    {
      "cell_type": "code",
      "metadata": {
        "id": "SpMBMasFrJQK",
        "colab_type": "code",
        "outputId": "8497ab4e-2b58-4eae-ad47-1234657a6bca",
        "colab": {
          "base_uri": "https://localhost:8080/",
          "height": 221
        }
      },
      "source": [
        "# Take a different random sample and print sample mean\n",
        "sample2 = population.sample(100)\n",
        "print(sample2.shape)\n",
        "sample2.head()"
      ],
      "execution_count": 0,
      "outputs": [
        {
          "output_type": "stream",
          "text": [
            "(100, 1)\n"
          ],
          "name": "stdout"
        },
        {
          "output_type": "execute_result",
          "data": {
            "text/html": [
              "<div>\n",
              "<style scoped>\n",
              "    .dataframe tbody tr th:only-of-type {\n",
              "        vertical-align: middle;\n",
              "    }\n",
              "\n",
              "    .dataframe tbody tr th {\n",
              "        vertical-align: top;\n",
              "    }\n",
              "\n",
              "    .dataframe thead th {\n",
              "        text-align: right;\n",
              "    }\n",
              "</style>\n",
              "<table border=\"1\" class=\"dataframe\">\n",
              "  <thead>\n",
              "    <tr style=\"text-align: right;\">\n",
              "      <th></th>\n",
              "      <th>heights</th>\n",
              "    </tr>\n",
              "  </thead>\n",
              "  <tbody>\n",
              "    <tr>\n",
              "      <th>868</th>\n",
              "      <td>67.003173</td>\n",
              "    </tr>\n",
              "    <tr>\n",
              "      <th>484</th>\n",
              "      <td>70.124011</td>\n",
              "    </tr>\n",
              "    <tr>\n",
              "      <th>1236</th>\n",
              "      <td>77.010198</td>\n",
              "    </tr>\n",
              "    <tr>\n",
              "      <th>1111</th>\n",
              "      <td>69.005920</td>\n",
              "    </tr>\n",
              "    <tr>\n",
              "      <th>1880</th>\n",
              "      <td>70.126429</td>\n",
              "    </tr>\n",
              "  </tbody>\n",
              "</table>\n",
              "</div>"
            ],
            "text/plain": [
              "        heights\n",
              "868   67.003173\n",
              "484   70.124011\n",
              "1236  77.010198\n",
              "1111  69.005920\n",
              "1880  70.126429"
            ]
          },
          "metadata": {
            "tags": []
          },
          "execution_count": 113
        }
      ]
    },
    {
      "cell_type": "code",
      "metadata": {
        "id": "0jiciTZiSNjl",
        "colab_type": "code",
        "outputId": "db04b810-3f03-4db5-a79a-3be4569b75ee",
        "colab": {
          "base_uri": "https://localhost:8080/",
          "height": 34
        }
      },
      "source": [
        "print('Sample Mean #2:', sample2['heights'].mean())"
      ],
      "execution_count": 0,
      "outputs": [
        {
          "output_type": "stream",
          "text": [
            "Sample Mean #2: 70.26482081176638\n"
          ],
          "name": "stdout"
        }
      ]
    },
    {
      "cell_type": "code",
      "metadata": {
        "id": "Y_MQ63gYSNr1",
        "colab_type": "code",
        "colab": {}
      },
      "source": [
        ""
      ],
      "execution_count": 0,
      "outputs": []
    },
    {
      "cell_type": "markdown",
      "metadata": {
        "id": "nfdQf8QYUUmw",
        "colab_type": "text"
      },
      "source": [
        "## Build and Interpret a Confidence Interval\n",
        "\n",
        "<img src=\"https://github.com/ryanallredblog/ryanallredblog.github.io/blob/master/img/Confidence_Interval.png?raw=true\" width=400>"
      ]
    },
    {
      "cell_type": "code",
      "metadata": {
        "id": "tBx71Kf0UjT3",
        "colab_type": "code",
        "outputId": "b058526c-9a87-4426-b2b8-ca1c0716da2d",
        "colab": {
          "base_uri": "https://localhost:8080/",
          "height": 51
        }
      },
      "source": [
        "coinflips_10000 = np.random.binomial(n=1, p=0.5, size=10000)\n",
        "\n",
        "sample_std = np.std(coinflips_10000)\n",
        "print('Sample St Dev:', sample_std)\n",
        "sample_size = len(coinflips_10000)\n",
        "print('Sample Size:', sample_size)"
      ],
      "execution_count": 0,
      "outputs": [
        {
          "output_type": "stream",
          "text": [
            "Sample St Dev: 0.49998774984993377\n",
            "Sample Size: 10000\n"
          ],
          "name": "stdout"
        }
      ]
    },
    {
      "cell_type": "code",
      "metadata": {
        "id": "iEKf4v2ZTIXx",
        "colab_type": "code",
        "outputId": "1aa28878-d42c-4976-979d-0515229f4b5b",
        "colab": {
          "base_uri": "https://localhost:8080/",
          "height": 34
        }
      },
      "source": [
        "standard_error = sample_std/np.sqrt(sample_size)\n",
        "print(standard_error)"
      ],
      "execution_count": 0,
      "outputs": [
        {
          "output_type": "stream",
          "text": [
            "0.004999877498499338\n"
          ],
          "name": "stdout"
        }
      ]
    },
    {
      "cell_type": "markdown",
      "metadata": {
        "id": "RkYC5rnUw914",
        "colab_type": "text"
      },
      "source": [
        "### What confidence level do we want our confidence interval to represent?\n",
        "\n",
        "95% confidence Interval? 99% confidence interval? "
      ]
    },
    {
      "cell_type": "code",
      "metadata": {
        "id": "dkgvw3w9To1B",
        "colab_type": "code",
        "outputId": "30dbb2ce-4b2b-4c44-85ed-60f5c145178b",
        "colab": {
          "base_uri": "https://localhost:8080/",
          "height": 391
        }
      },
      "source": [
        "import scipy.stats as stats\n",
        "help(stats.t.ppf)"
      ],
      "execution_count": 0,
      "outputs": [
        {
          "output_type": "stream",
          "text": [
            "Help on method ppf in module scipy.stats._distn_infrastructure:\n",
            "\n",
            "ppf(q, *args, **kwds) method of scipy.stats._continuous_distns.t_gen instance\n",
            "    Percent point function (inverse of `cdf`) at q of the given RV.\n",
            "    \n",
            "    Parameters\n",
            "    ----------\n",
            "    q : array_like\n",
            "        lower tail probability\n",
            "    arg1, arg2, arg3,... : array_like\n",
            "        The shape parameter(s) for the distribution (see docstring of the\n",
            "        instance object for more information)\n",
            "    loc : array_like, optional\n",
            "        location parameter (default=0)\n",
            "    scale : array_like, optional\n",
            "        scale parameter (default=1)\n",
            "    \n",
            "    Returns\n",
            "    -------\n",
            "    x : array_like\n",
            "        quantile corresponding to the lower tail probability q.\n",
            "\n"
          ],
          "name": "stdout"
        }
      ]
    },
    {
      "cell_type": "code",
      "metadata": {
        "id": "jze1zJsewQx_",
        "colab_type": "code",
        "outputId": "78179a03-dad1-40fc-f3f2-13c9c3dcf50a",
        "colab": {
          "base_uri": "https://localhost:8080/",
          "height": 34
        }
      },
      "source": [
        "t = stats.t.ppf(0.975, sample_size-1)\n",
        "t"
      ],
      "execution_count": 0,
      "outputs": [
        {
          "output_type": "execute_result",
          "data": {
            "text/plain": [
              "1.9602012636213575"
            ]
          },
          "metadata": {
            "tags": []
          },
          "execution_count": 119
        }
      ]
    },
    {
      "cell_type": "code",
      "metadata": {
        "id": "WQ4T2TWeVhvp",
        "colab_type": "code",
        "outputId": "1af2b565-f2b9-448b-946c-9d33df29ae3b",
        "colab": {
          "base_uri": "https://localhost:8080/",
          "height": 68
        }
      },
      "source": [
        "sample_mean = coinflips_100.mean()\n",
        "confidence_interval = (sample_mean - t*standard_error, sample_mean + t*standard_error)\n",
        "margin_of_error = t*standard_error\n",
        "\n",
        "print('Sample Mean:', sample_mean)\n",
        "print('Margin of Error:', margin_of_error)\n",
        "print('Confidense Interval:', confidence_interval)"
      ],
      "execution_count": 0,
      "outputs": [
        {
          "output_type": "stream",
          "text": [
            "Sample Mean: 0.5039\n",
            "Margin of Error: 0.009800766190510395\n",
            "Confidense Interval: (0.4940992338094896, 0.5137007661905104)\n"
          ],
          "name": "stdout"
        }
      ]
    },
    {
      "cell_type": "markdown",
      "metadata": {
        "id": "C4rtc8luVUAK",
        "colab_type": "text"
      },
      "source": [
        "## Graphically Represent a Confidence Interval"
      ]
    },
    {
      "cell_type": "code",
      "metadata": {
        "id": "pz6F9_3_VmKr",
        "colab_type": "code",
        "outputId": "2bafe52f-d9d6-4280-c735-a48838b452b0",
        "colab": {
          "base_uri": "https://localhost:8080/",
          "height": 286
        }
      },
      "source": [
        "import seaborn as sns\n",
        "sns.kdeplot(coinflips_100)\n",
        "plt.axvline(x=sample_mean, color='k')\n",
        "plt.axvline(x=confidence_interval[0], color='g')\n",
        "plt.axvline(x=confidence_interval[1], color='g')"
      ],
      "execution_count": 0,
      "outputs": [
        {
          "output_type": "execute_result",
          "data": {
            "text/plain": [
              "<matplotlib.lines.Line2D at 0x7f66dd2c8c88>"
            ]
          },
          "metadata": {
            "tags": []
          },
          "execution_count": 121
        },
        {
          "output_type": "display_data",
          "data": {
            "image/png": "[encoded data removed]",
            "text/plain": [
              "<Figure size 432x288 with 1 Axes>"
            ]
          },
          "metadata": {
            "tags": []
          }
        }
      ]
    },
    {
      "cell_type": "markdown",
      "metadata": {
        "id": "_oy0uoBGeoEb",
        "colab_type": "text"
      },
      "source": [
        "## Relationship between Confidence Intervals and T-tests\n",
        "\n",
        "Confidence Interval == Bounds of statistical significance for our t-test\n",
        "\n",
        "A sample mean that falls inside of our confidence interval will \"FAIL TO REJECT\" our null hypothesis\n",
        "\n",
        "A sample mean that falls outside of our confidence interval will \"REJECT\" our null hypothesis"
      ]
    },
    {
      "cell_type": "code",
      "metadata": {
        "id": "izIyVavzfCXS",
        "colab_type": "code",
        "colab": {}
      },
      "source": [
        "from scipy.stats import t, ttest_1samp"
      ],
      "execution_count": 0,
      "outputs": []
    },
    {
      "cell_type": "code",
      "metadata": {
        "id": "Y7HwdMwDfL1N",
        "colab_type": "code",
        "outputId": "5ae0cecd-efe4-4b51-87a7-515a84f13024",
        "colab": {
          "base_uri": "https://localhost:8080/",
          "height": 54
        }
      },
      "source": [
        "import numpy as np\n",
        "\n",
        "coinflip_means = []\n",
        "for x in range(0,100):\n",
        "  coinflips = np.random.binomial(n=1, p=.5, size=30)\n",
        "  coinflip_means.append(coinflips.mean())\n",
        "\n",
        "print(coinflip_means)"
      ],
      "execution_count": 0,
      "outputs": [
        {
          "output_type": "stream",
          "text": [
            "[0.4666666666666667, 0.5333333333333333, 0.4, 0.5, 0.5666666666666667, 0.4666666666666667, 0.5, 0.5, 0.5, 0.36666666666666664, 0.36666666666666664, 0.3, 0.4666666666666667, 0.5666666666666667, 0.5333333333333333, 0.5666666666666667, 0.6, 0.4666666666666667, 0.4666666666666667, 0.36666666666666664, 0.5666666666666667, 0.5333333333333333, 0.43333333333333335, 0.43333333333333335, 0.5333333333333333, 0.5333333333333333, 0.3333333333333333, 0.6333333333333333, 0.5333333333333333, 0.5333333333333333, 0.5333333333333333, 0.5666666666666667, 0.4, 0.5333333333333333, 0.5666666666666667, 0.3333333333333333, 0.43333333333333335, 0.6333333333333333, 0.6, 0.4, 0.5, 0.6, 0.5333333333333333, 0.3333333333333333, 0.5, 0.43333333333333335, 0.6, 0.7333333333333333, 0.5, 0.5666666666666667, 0.5666666666666667, 0.5, 0.5666666666666667, 0.6, 0.6, 0.5333333333333333, 0.26666666666666666, 0.4666666666666667, 0.6666666666666666, 0.7, 0.5666666666666667, 0.5333333333333333, 0.3333333333333333, 0.5333333333333333, 0.5, 0.6, 0.6333333333333333, 0.3333333333333333, 0.4666666666666667, 0.5333333333333333, 0.4666666666666667, 0.5, 0.6333333333333333, 0.5, 0.4666666666666667, 0.5666666666666667, 0.4666666666666667, 0.5666666666666667, 0.4, 0.5666666666666667, 0.5333333333333333, 0.5333333333333333, 0.4, 0.4666666666666667, 0.4, 0.4666666666666667, 0.5, 0.4, 0.5, 0.4666666666666667, 0.4666666666666667, 0.4, 0.5333333333333333, 0.6, 0.6, 0.5333333333333333, 0.5333333333333333, 0.6333333333333333, 0.4666666666666667, 0.5]\n"
          ],
          "name": "stdout"
        }
      ]
    },
    {
      "cell_type": "code",
      "metadata": {
        "id": "7Cxot52_ZtxB",
        "colab_type": "code",
        "outputId": "2ee2a51f-1304-4ae0-ffea-e0185ac60a0e",
        "colab": {
          "base_uri": "https://localhost:8080/",
          "height": 51
        }
      },
      "source": [
        "t_stat = stats.t.ppf(0.975, 99)\n",
        "print('T Statistic: ', t_stat)\n",
        "\n",
        "std_sample = np.std(coinflip_means)\n",
        "std_err = std_sample/np.sqrt(len(coinflip_means))\n",
        "\n",
        "CI = stats.t.interval(0.95, 99, loc=np.mean(coinflip_means), scale=std_err)\n",
        "print('95% confidence interval:', CI)"
      ],
      "execution_count": 0,
      "outputs": [
        {
          "output_type": "stream",
          "text": [
            "T Statistic:  1.9842169515086827\n",
            "95% confidence interval: (0.48681781811392777, 0.5218488485527388)\n"
          ],
          "name": "stdout"
        }
      ]
    },
    {
      "cell_type": "markdown",
      "metadata": {
        "id": "EamZNJhAf-fY",
        "colab_type": "text"
      },
      "source": [
        "A null hypothesis that's just inside of our confidence interval == fail to reject\n",
        "\n"
      ]
    },
    {
      "cell_type": "code",
      "metadata": {
        "id": "cNpzYbjpfirR",
        "colab_type": "code",
        "outputId": "932d4346-520f-4a36-dcec-ae8680ddc65f",
        "colab": {
          "base_uri": "https://localhost:8080/",
          "height": 34
        }
      },
      "source": [
        "ttest_1samp(coinflip_means, 0.48186)"
      ],
      "execution_count": 0,
      "outputs": [
        {
          "output_type": "execute_result",
          "data": {
            "text/plain": [
              "Ttest_1sampResult(statistic=2.533094136951955, pvalue=0.012876210504754937)"
            ]
          },
          "metadata": {
            "tags": []
          },
          "execution_count": 124
        }
      ]
    },
    {
      "cell_type": "markdown",
      "metadata": {
        "id": "hO34mbL9gHn1",
        "colab_type": "text"
      },
      "source": [
        "A null hypothesis that's just outside of our confidence interval == reject\n",
        "\n"
      ]
    },
    {
      "cell_type": "code",
      "metadata": {
        "id": "N4SUjj82gKlv",
        "colab_type": "code",
        "outputId": "dbdcaedb-11ce-4686-cd1e-dde8dd57f0ba",
        "colab": {
          "base_uri": "https://localhost:8080/",
          "height": 34
        }
      },
      "source": [
        "ttest_1samp(coinflip_means, 0.51813)"
      ],
      "execution_count": 0,
      "outputs": [
        {
          "output_type": "execute_result",
          "data": {
            "text/plain": [
              "Ttest_1sampResult(statistic=-1.5550988776096368, pvalue=0.12311364938445911)"
            ]
          },
          "metadata": {
            "tags": []
          },
          "execution_count": 125
        }
      ]
    },
    {
      "cell_type": "code",
      "metadata": {
        "id": "rQZvNu6B3b9b",
        "colab_type": "code",
        "colab": {}
      },
      "source": [
        "def confidence_interval(data, confidence=0.95):\n",
        "  \"\"\"\n",
        "  Calculate a confidence interval around a sample mean for given data.\n",
        " 4 Using t-distribution and two-tailed test, default 95% confidence. \n",
        "  \n",
        "  Arguments:\n",
        "    data - iterable (list or numpy array) of sample observations\n",
        "    confidence - level of confidence for the interval\n",
        "  \n",
        "  Returns:\n",
        "    tuple of (mean, lower bound, upper bound)\n",
        "  \"\"\"\n",
        "  data = np.array(data)\n",
        "  mean = np.mean(data)\n",
        "  n = len(data)\n",
        "  stderr = stats.sem(data)\n",
        "  interval = stderr * stats.t.ppf((1 + confidence) / 2.0, n - 1)\n",
        "  return (mean, mean - interval, mean + interval)"
      ],
      "execution_count": 0,
      "outputs": []
    },
    {
      "cell_type": "markdown",
      "metadata": {
        "id": "pTIzrkKdUaLl",
        "colab_type": "text"
      },
      "source": [
        "## Run a $\\chi^{2}$ Test \"by hand\" (Using Numpy)"
      ]
    },
    {
      "cell_type": "code",
      "metadata": {
        "id": "DDsovHUyUj3v",
        "colab_type": "code",
        "outputId": "5217d820-fe97-4338-fb3a-1c8f2f5aad46",
        "colab": {
          "base_uri": "https://localhost:8080/",
          "height": 411
        }
      },
      "source": [
        "df = pd.read_csv('https://raw.githubusercontent.com/ryanleeallred/datasets/master/adult.csv', na_values=\" ?\")\n",
        "print(df.shape)\n",
        "df.head()"
      ],
      "execution_count": 0,
      "outputs": [
        {
          "output_type": "stream",
          "text": [
            "(32561, 15)\n"
          ],
          "name": "stdout"
        },
        {
          "output_type": "execute_result",
          "data": {
            "text/html": [
              "<div>\n",
              "<style scoped>\n",
              "    .dataframe tbody tr th:only-of-type {\n",
              "        vertical-align: middle;\n",
              "    }\n",
              "\n",
              "    .dataframe tbody tr th {\n",
              "        vertical-align: top;\n",
              "    }\n",
              "\n",
              "    .dataframe thead th {\n",
              "        text-align: right;\n",
              "    }\n",
              "</style>\n",
              "<table border=\"1\" class=\"dataframe\">\n",
              "  <thead>\n",
              "    <tr style=\"text-align: right;\">\n",
              "      <th></th>\n",
              "      <th>age</th>\n",
              "      <th>workclass</th>\n",
              "      <th>fnlwgt</th>\n",
              "      <th>education</th>\n",
              "      <th>education-num</th>\n",
              "      <th>marital-status</th>\n",
              "      <th>occupation</th>\n",
              "      <th>relationship</th>\n",
              "      <th>race</th>\n",
              "      <th>sex</th>\n",
              "      <th>capital-gain</th>\n",
              "      <th>capital-loss</th>\n",
              "      <th>hours-per-week</th>\n",
              "      <th>country</th>\n",
              "      <th>salary</th>\n",
              "    </tr>\n",
              "  </thead>\n",
              "  <tbody>\n",
              "    <tr>\n",
              "      <th>0</th>\n",
              "      <td>39</td>\n",
              "      <td>State-gov</td>\n",
              "      <td>77516</td>\n",
              "      <td>Bachelors</td>\n",
              "      <td>13</td>\n",
              "      <td>Never-married</td>\n",
              "      <td>Adm-clerical</td>\n",
              "      <td>Not-in-family</td>\n",
              "      <td>White</td>\n",
              "      <td>Male</td>\n",
              "      <td>2174</td>\n",
              "      <td>0</td>\n",
              "      <td>40</td>\n",
              "      <td>United-States</td>\n",
              "      <td>&lt;=50K</td>\n",
              "    </tr>\n",
              "    <tr>\n",
              "      <th>1</th>\n",
              "      <td>50</td>\n",
              "      <td>Self-emp-not-inc</td>\n",
              "      <td>83311</td>\n",
              "      <td>Bachelors</td>\n",
              "      <td>13</td>\n",
              "      <td>Married-civ-spouse</td>\n",
              "      <td>Exec-managerial</td>\n",
              "      <td>Husband</td>\n",
              "      <td>White</td>\n",
              "      <td>Male</td>\n",
              "      <td>0</td>\n",
              "      <td>0</td>\n",
              "      <td>13</td>\n",
              "      <td>United-States</td>\n",
              "      <td>&lt;=50K</td>\n",
              "    </tr>\n",
              "    <tr>\n",
              "      <th>2</th>\n",
              "      <td>38</td>\n",
              "      <td>Private</td>\n",
              "      <td>215646</td>\n",
              "      <td>HS-grad</td>\n",
              "      <td>9</td>\n",
              "      <td>Divorced</td>\n",
              "      <td>Handlers-cleaners</td>\n",
              "      <td>Not-in-family</td>\n",
              "      <td>White</td>\n",
              "      <td>Male</td>\n",
              "      <td>0</td>\n",
              "      <td>0</td>\n",
              "      <td>40</td>\n",
              "      <td>United-States</td>\n",
              "      <td>&lt;=50K</td>\n",
              "    </tr>\n",
              "    <tr>\n",
              "      <th>3</th>\n",
              "      <td>53</td>\n",
              "      <td>Private</td>\n",
              "      <td>234721</td>\n",
              "      <td>11th</td>\n",
              "      <td>7</td>\n",
              "      <td>Married-civ-spouse</td>\n",
              "      <td>Handlers-cleaners</td>\n",
              "      <td>Husband</td>\n",
              "      <td>Black</td>\n",
              "      <td>Male</td>\n",
              "      <td>0</td>\n",
              "      <td>0</td>\n",
              "      <td>40</td>\n",
              "      <td>United-States</td>\n",
              "      <td>&lt;=50K</td>\n",
              "    </tr>\n",
              "    <tr>\n",
              "      <th>4</th>\n",
              "      <td>28</td>\n",
              "      <td>Private</td>\n",
              "      <td>338409</td>\n",
              "      <td>Bachelors</td>\n",
              "      <td>13</td>\n",
              "      <td>Married-civ-spouse</td>\n",
              "      <td>Prof-specialty</td>\n",
              "      <td>Wife</td>\n",
              "      <td>Black</td>\n",
              "      <td>Female</td>\n",
              "      <td>0</td>\n",
              "      <td>0</td>\n",
              "      <td>40</td>\n",
              "      <td>Cuba</td>\n",
              "      <td>&lt;=50K</td>\n",
              "    </tr>\n",
              "  </tbody>\n",
              "</table>\n",
              "</div>"
            ],
            "text/plain": [
              "   age          workclass  fnlwgt  ... hours-per-week         country  salary\n",
              "0   39          State-gov   77516  ...             40   United-States   <=50K\n",
              "1   50   Self-emp-not-inc   83311  ...             13   United-States   <=50K\n",
              "2   38            Private  215646  ...             40   United-States   <=50K\n",
              "3   53            Private  234721  ...             40   United-States   <=50K\n",
              "4   28            Private  338409  ...             40            Cuba   <=50K\n",
              "\n",
              "[5 rows x 15 columns]"
            ]
          },
          "metadata": {
            "tags": []
          },
          "execution_count": 127
        }
      ]
    },
    {
      "cell_type": "code",
      "metadata": {
        "id": "WimL6PDLcRPe",
        "colab_type": "code",
        "outputId": "709053cf-a69c-4707-9663-6abdd0cb7c31",
        "colab": {
          "base_uri": "https://localhost:8080/",
          "height": 235
        }
      },
      "source": [
        "df.corr()"
      ],
      "execution_count": 0,
      "outputs": [
        {
          "output_type": "execute_result",
          "data": {
            "text/html": [
              "<div>\n",
              "<style scoped>\n",
              "    .dataframe tbody tr th:only-of-type {\n",
              "        vertical-align: middle;\n",
              "    }\n",
              "\n",
              "    .dataframe tbody tr th {\n",
              "        vertical-align: top;\n",
              "    }\n",
              "\n",
              "    .dataframe thead th {\n",
              "        text-align: right;\n",
              "    }\n",
              "</style>\n",
              "<table border=\"1\" class=\"dataframe\">\n",
              "  <thead>\n",
              "    <tr style=\"text-align: right;\">\n",
              "      <th></th>\n",
              "      <th>age</th>\n",
              "      <th>fnlwgt</th>\n",
              "      <th>education-num</th>\n",
              "      <th>capital-gain</th>\n",
              "      <th>capital-loss</th>\n",
              "      <th>hours-per-week</th>\n",
              "    </tr>\n",
              "  </thead>\n",
              "  <tbody>\n",
              "    <tr>\n",
              "      <th>age</th>\n",
              "      <td>1.000000</td>\n",
              "      <td>-0.076646</td>\n",
              "      <td>0.036527</td>\n",
              "      <td>0.077674</td>\n",
              "      <td>0.057775</td>\n",
              "      <td>0.068756</td>\n",
              "    </tr>\n",
              "    <tr>\n",
              "      <th>fnlwgt</th>\n",
              "      <td>-0.076646</td>\n",
              "      <td>1.000000</td>\n",
              "      <td>-0.043195</td>\n",
              "      <td>0.000432</td>\n",
              "      <td>-0.010252</td>\n",
              "      <td>-0.018768</td>\n",
              "    </tr>\n",
              "    <tr>\n",
              "      <th>education-num</th>\n",
              "      <td>0.036527</td>\n",
              "      <td>-0.043195</td>\n",
              "      <td>1.000000</td>\n",
              "      <td>0.122630</td>\n",
              "      <td>0.079923</td>\n",
              "      <td>0.148123</td>\n",
              "    </tr>\n",
              "    <tr>\n",
              "      <th>capital-gain</th>\n",
              "      <td>0.077674</td>\n",
              "      <td>0.000432</td>\n",
              "      <td>0.122630</td>\n",
              "      <td>1.000000</td>\n",
              "      <td>-0.031615</td>\n",
              "      <td>0.078409</td>\n",
              "    </tr>\n",
              "    <tr>\n",
              "      <th>capital-loss</th>\n",
              "      <td>0.057775</td>\n",
              "      <td>-0.010252</td>\n",
              "      <td>0.079923</td>\n",
              "      <td>-0.031615</td>\n",
              "      <td>1.000000</td>\n",
              "      <td>0.054256</td>\n",
              "    </tr>\n",
              "    <tr>\n",
              "      <th>hours-per-week</th>\n",
              "      <td>0.068756</td>\n",
              "      <td>-0.018768</td>\n",
              "      <td>0.148123</td>\n",
              "      <td>0.078409</td>\n",
              "      <td>0.054256</td>\n",
              "      <td>1.000000</td>\n",
              "    </tr>\n",
              "  </tbody>\n",
              "</table>\n",
              "</div>"
            ],
            "text/plain": [
              "                     age    fnlwgt  ...  capital-loss  hours-per-week\n",
              "age             1.000000 -0.076646  ...      0.057775        0.068756\n",
              "fnlwgt         -0.076646  1.000000  ...     -0.010252       -0.018768\n",
              "education-num   0.036527 -0.043195  ...      0.079923        0.148123\n",
              "capital-gain    0.077674  0.000432  ...     -0.031615        0.078409\n",
              "capital-loss    0.057775 -0.010252  ...      1.000000        0.054256\n",
              "hours-per-week  0.068756 -0.018768  ...      0.054256        1.000000\n",
              "\n",
              "[6 rows x 6 columns]"
            ]
          },
          "metadata": {
            "tags": []
          },
          "execution_count": 71
        }
      ]
    },
    {
      "cell_type": "code",
      "metadata": {
        "id": "Vr_4dmy5dM4k",
        "colab_type": "code",
        "outputId": "b03c2ecc-65fc-493e-caa4-7529e9153e9e",
        "colab": {
          "base_uri": "https://localhost:8080/",
          "height": 173
        }
      },
      "source": [
        "df.describe(exclude='number')"
      ],
      "execution_count": 0,
      "outputs": [
        {
          "output_type": "execute_result",
          "data": {
            "text/html": [
              "<div>\n",
              "<style scoped>\n",
              "    .dataframe tbody tr th:only-of-type {\n",
              "        vertical-align: middle;\n",
              "    }\n",
              "\n",
              "    .dataframe tbody tr th {\n",
              "        vertical-align: top;\n",
              "    }\n",
              "\n",
              "    .dataframe thead th {\n",
              "        text-align: right;\n",
              "    }\n",
              "</style>\n",
              "<table border=\"1\" class=\"dataframe\">\n",
              "  <thead>\n",
              "    <tr style=\"text-align: right;\">\n",
              "      <th></th>\n",
              "      <th>workclass</th>\n",
              "      <th>education</th>\n",
              "      <th>marital-status</th>\n",
              "      <th>occupation</th>\n",
              "      <th>relationship</th>\n",
              "      <th>race</th>\n",
              "      <th>sex</th>\n",
              "      <th>country</th>\n",
              "      <th>salary</th>\n",
              "    </tr>\n",
              "  </thead>\n",
              "  <tbody>\n",
              "    <tr>\n",
              "      <th>count</th>\n",
              "      <td>30725</td>\n",
              "      <td>32561</td>\n",
              "      <td>32561</td>\n",
              "      <td>30718</td>\n",
              "      <td>32561</td>\n",
              "      <td>32561</td>\n",
              "      <td>32561</td>\n",
              "      <td>31978</td>\n",
              "      <td>32561</td>\n",
              "    </tr>\n",
              "    <tr>\n",
              "      <th>unique</th>\n",
              "      <td>8</td>\n",
              "      <td>16</td>\n",
              "      <td>7</td>\n",
              "      <td>14</td>\n",
              "      <td>6</td>\n",
              "      <td>5</td>\n",
              "      <td>2</td>\n",
              "      <td>41</td>\n",
              "      <td>2</td>\n",
              "    </tr>\n",
              "    <tr>\n",
              "      <th>top</th>\n",
              "      <td>Private</td>\n",
              "      <td>HS-grad</td>\n",
              "      <td>Married-civ-spouse</td>\n",
              "      <td>Prof-specialty</td>\n",
              "      <td>Husband</td>\n",
              "      <td>White</td>\n",
              "      <td>Male</td>\n",
              "      <td>United-States</td>\n",
              "      <td>&lt;=50K</td>\n",
              "    </tr>\n",
              "    <tr>\n",
              "      <th>freq</th>\n",
              "      <td>22696</td>\n",
              "      <td>10501</td>\n",
              "      <td>14976</td>\n",
              "      <td>4140</td>\n",
              "      <td>13193</td>\n",
              "      <td>27816</td>\n",
              "      <td>21790</td>\n",
              "      <td>29170</td>\n",
              "      <td>24720</td>\n",
              "    </tr>\n",
              "  </tbody>\n",
              "</table>\n",
              "</div>"
            ],
            "text/plain": [
              "       workclass education       marital-status  ...    sex         country  salary\n",
              "count      30725     32561                32561  ...  32561           31978   32561\n",
              "unique         8        16                    7  ...      2              41       2\n",
              "top      Private   HS-grad   Married-civ-spouse  ...   Male   United-States   <=50K\n",
              "freq       22696     10501                14976  ...  21790           29170   24720\n",
              "\n",
              "[4 rows x 9 columns]"
            ]
          },
          "metadata": {
            "tags": []
          },
          "execution_count": 73
        }
      ]
    },
    {
      "cell_type": "code",
      "metadata": {
        "id": "SwMgGcqSduMY",
        "colab_type": "code",
        "outputId": "120bf9bb-9e01-4404-9a15-3a7d685a2427",
        "colab": {
          "base_uri": "https://localhost:8080/",
          "height": 136
        }
      },
      "source": [
        "cut_points = [0, 9, 19, 29, 39, 49, 500]\n",
        "label_names = ['0-9', '10-19', '20-29', '30-39', '40-49', '50+']\n",
        "df['hours_per_week_categories'] = pd.cut(df['hours-per-week'], cut_points, labels=label_names)\n",
        "df.hours_per_week_categories.value_counts()"
      ],
      "execution_count": 0,
      "outputs": [
        {
          "output_type": "execute_result",
          "data": {
            "text/plain": [
              "40-49    18336\n",
              "50+       6462\n",
              "30-39     3667\n",
              "20-29     2392\n",
              "10-19     1246\n",
              "0-9        458\n",
              "Name: hours_per_week_categories, dtype: int64"
            ]
          },
          "metadata": {
            "tags": []
          },
          "execution_count": 128
        }
      ]
    },
    {
      "cell_type": "code",
      "metadata": {
        "id": "JZjY9p5AeoEb",
        "colab_type": "code",
        "outputId": "f83d6275-4a6f-4916-cf9e-f2885a6078d5",
        "colab": {
          "base_uri": "https://localhost:8080/",
          "height": 68
        }
      },
      "source": [
        "df.sex.value_counts()"
      ],
      "execution_count": 0,
      "outputs": [
        {
          "output_type": "execute_result",
          "data": {
            "text/plain": [
              " Male      21790\n",
              " Female    10771\n",
              "Name: sex, dtype: int64"
            ]
          },
          "metadata": {
            "tags": []
          },
          "execution_count": 77
        }
      ]
    },
    {
      "cell_type": "code",
      "metadata": {
        "id": "8ep0S-XFeoKu",
        "colab_type": "code",
        "outputId": "97b08d26-0503-4430-b8b0-343ff0cd6fc0",
        "colab": {
          "base_uri": "https://localhost:8080/",
          "height": 173
        }
      },
      "source": [
        "\n",
        "df = df.sort_values(by='hours_per_week_categories', ascending=True)\n",
        "contingency_table = pd.crosstab(df['sex'], df['hours_per_week_categories'], margins=True)\n",
        "contingency_table"
      ],
      "execution_count": 0,
      "outputs": [
        {
          "output_type": "execute_result",
          "data": {
            "text/html": [
              "<div>\n",
              "<style scoped>\n",
              "    .dataframe tbody tr th:only-of-type {\n",
              "        vertical-align: middle;\n",
              "    }\n",
              "\n",
              "    .dataframe tbody tr th {\n",
              "        vertical-align: top;\n",
              "    }\n",
              "\n",
              "    .dataframe thead th {\n",
              "        text-align: right;\n",
              "    }\n",
              "</style>\n",
              "<table border=\"1\" class=\"dataframe\">\n",
              "  <thead>\n",
              "    <tr style=\"text-align: right;\">\n",
              "      <th>hours_per_week_categories</th>\n",
              "      <th>0-9</th>\n",
              "      <th>10-19</th>\n",
              "      <th>20-29</th>\n",
              "      <th>30-39</th>\n",
              "      <th>40-49</th>\n",
              "      <th>50+</th>\n",
              "      <th>All</th>\n",
              "    </tr>\n",
              "    <tr>\n",
              "      <th>sex</th>\n",
              "      <th></th>\n",
              "      <th></th>\n",
              "      <th></th>\n",
              "      <th></th>\n",
              "      <th></th>\n",
              "      <th></th>\n",
              "      <th></th>\n",
              "    </tr>\n",
              "  </thead>\n",
              "  <tbody>\n",
              "    <tr>\n",
              "      <th>Female</th>\n",
              "      <td>235</td>\n",
              "      <td>671</td>\n",
              "      <td>1287</td>\n",
              "      <td>1914</td>\n",
              "      <td>5636</td>\n",
              "      <td>1028</td>\n",
              "      <td>10771</td>\n",
              "    </tr>\n",
              "    <tr>\n",
              "      <th>Male</th>\n",
              "      <td>223</td>\n",
              "      <td>575</td>\n",
              "      <td>1105</td>\n",
              "      <td>1753</td>\n",
              "      <td>12700</td>\n",
              "      <td>5434</td>\n",
              "      <td>21790</td>\n",
              "    </tr>\n",
              "    <tr>\n",
              "      <th>All</th>\n",
              "      <td>458</td>\n",
              "      <td>1246</td>\n",
              "      <td>2392</td>\n",
              "      <td>3667</td>\n",
              "      <td>18336</td>\n",
              "      <td>6462</td>\n",
              "      <td>32561</td>\n",
              "    </tr>\n",
              "  </tbody>\n",
              "</table>\n",
              "</div>"
            ],
            "text/plain": [
              "hours_per_week_categories  0-9  10-19  20-29  30-39  40-49   50+    All\n",
              "sex                                                                    \n",
              " Female                    235    671   1287   1914   5636  1028  10771\n",
              " Male                      223    575   1105   1753  12700  5434  21790\n",
              "All                        458   1246   2392   3667  18336  6462  32561"
            ]
          },
          "metadata": {
            "tags": []
          },
          "execution_count": 129
        }
      ]
    },
    {
      "cell_type": "markdown",
      "metadata": {
        "id": "uyw_hby7-OHF",
        "colab_type": "text"
      },
      "source": [
        "## Expected Value Calculation\n",
        "\\begin{align}\n",
        "expected_{i,j} =\\frac{(row_{i} \\text{total})(column_{j} \\text{total}) }{(\\text{total observations})}  \n",
        "\\end{align}"
      ]
    },
    {
      "cell_type": "code",
      "metadata": {
        "id": "C11nWaal-acY",
        "colab_type": "code",
        "outputId": "aa3e4e8d-351e-4886-8ff7-b90b913de8a2",
        "colab": {
          "base_uri": "https://localhost:8080/",
          "height": 51
        }
      },
      "source": [
        "row_sums = contingency_table.iloc[0:2, 6].values\n",
        "col_sums = contingency_table.iloc[2, 0:6].values\n",
        "\n",
        "print(row_sums)\n",
        "print(col_sums)"
      ],
      "execution_count": 0,
      "outputs": [
        {
          "output_type": "stream",
          "text": [
            "[10771 21790]\n",
            "[  458  1246  2392  3667 18336  6462]\n"
          ],
          "name": "stdout"
        }
      ]
    },
    {
      "cell_type": "code",
      "metadata": {
        "id": "9XYk0LWTgf1j",
        "colab_type": "code",
        "outputId": "c6af0cd4-1e54-4b83-ab52-c02dc86c526f",
        "colab": {
          "base_uri": "https://localhost:8080/",
          "height": 34
        }
      },
      "source": [
        "total = contingency_table.loc['All','All']\n",
        "total"
      ],
      "execution_count": 0,
      "outputs": [
        {
          "output_type": "execute_result",
          "data": {
            "text/plain": [
              "32561"
            ]
          },
          "metadata": {
            "tags": []
          },
          "execution_count": 131
        }
      ]
    },
    {
      "cell_type": "code",
      "metadata": {
        "id": "rXns1VCcgp7M",
        "colab_type": "code",
        "outputId": "ba093084-d475-45a9-a3b1-432e84ccb54a",
        "colab": {
          "base_uri": "https://localhost:8080/",
          "height": 442
        }
      },
      "source": [
        "expected = []\n",
        "for i in range(len(row_sums)):\n",
        "  expected_row = []\n",
        "  for column in col_sums:\n",
        "    expected_val = column*row_sums[i]/total\n",
        "    expected_row.append(expected_val)\n",
        "    expected.append(expected_row)\n",
        "\n",
        "expected = np.array(expected)\n",
        "print(expected.shape)\n",
        "print(expected)"
      ],
      "execution_count": 0,
      "outputs": [
        {
          "output_type": "stream",
          "text": [
            "(12, 6)\n",
            "[[  151.50388502   412.16995793   791.26046497  1213.02346365\n",
            "   6065.44811277  2137.59411566]\n",
            " [  151.50388502   412.16995793   791.26046497  1213.02346365\n",
            "   6065.44811277  2137.59411566]\n",
            " [  151.50388502   412.16995793   791.26046497  1213.02346365\n",
            "   6065.44811277  2137.59411566]\n",
            " [  151.50388502   412.16995793   791.26046497  1213.02346365\n",
            "   6065.44811277  2137.59411566]\n",
            " [  151.50388502   412.16995793   791.26046497  1213.02346365\n",
            "   6065.44811277  2137.59411566]\n",
            " [  151.50388502   412.16995793   791.26046497  1213.02346365\n",
            "   6065.44811277  2137.59411566]\n",
            " [  306.49611498   833.83004207  1600.73953503  2453.97653635\n",
            "  12270.55188723  4324.40588434]\n",
            " [  306.49611498   833.83004207  1600.73953503  2453.97653635\n",
            "  12270.55188723  4324.40588434]\n",
            " [  306.49611498   833.83004207  1600.73953503  2453.97653635\n",
            "  12270.55188723  4324.40588434]\n",
            " [  306.49611498   833.83004207  1600.73953503  2453.97653635\n",
            "  12270.55188723  4324.40588434]\n",
            " [  306.49611498   833.83004207  1600.73953503  2453.97653635\n",
            "  12270.55188723  4324.40588434]\n",
            " [  306.49611498   833.83004207  1600.73953503  2453.97653635\n",
            "  12270.55188723  4324.40588434]]\n"
          ],
          "name": "stdout"
        }
      ]
    },
    {
      "cell_type": "code",
      "metadata": {
        "id": "RNAWFHhXhkx5",
        "colab_type": "code",
        "colab": {}
      },
      "source": [
        ""
      ],
      "execution_count": 0,
      "outputs": []
    },
    {
      "cell_type": "markdown",
      "metadata": {
        "id": "R6AWydhG_P4s",
        "colab_type": "text"
      },
      "source": [
        "## Chi-Squared Statistic with Numpy\n",
        "\n",
        "\\begin{align}\n",
        "\\chi^2 = \\sum \\frac{(observed_{i}-expected_{i})^2}{(expected_{i})}\n",
        "\\end{align}\n",
        "\n",
        "For the $observed$ values we will just use a version of our contingency table without the margins as a numpy array. In this way, if our observed values array and our expected values array are the same shape, then we can subtract them and divide them directly which makes the calculations a lot cleaner. No for loops!"
      ]
    },
    {
      "cell_type": "code",
      "metadata": {
        "id": "o7YgaNij_cSo",
        "colab_type": "code",
        "outputId": "350ff328-333e-4f70-a473-7476ef4a2d02",
        "colab": {
          "base_uri": "https://localhost:8080/",
          "height": 68
        }
      },
      "source": [
        "observed =  pd.crosstab(df['sex'], df['hours_per_week_categories']).values\n",
        "print(observed.shape)\n",
        "observed"
      ],
      "execution_count": 0,
      "outputs": [
        {
          "output_type": "stream",
          "text": [
            "(2, 6)\n"
          ],
          "name": "stdout"
        },
        {
          "output_type": "execute_result",
          "data": {
            "text/plain": [
              "array([[  235,   671,  1287,  1914,  5636,  1028],\n",
              "       [  223,   575,  1105,  1753, 12700,  5434]])"
            ]
          },
          "metadata": {
            "tags": []
          },
          "execution_count": 139
        }
      ]
    },
    {
      "cell_type": "code",
      "metadata": {
        "id": "-Ns25FAQh5zY",
        "colab_type": "code",
        "outputId": "5b3172d1-72ba-4afa-b8e8-3d0fe7abc3d5",
        "colab": {
          "base_uri": "https://localhost:8080/",
          "height": 180
        }
      },
      "source": [
        "chi_square = ((observed - expected)**2/(expected)).sum()\n",
        "chi_square"
      ],
      "execution_count": 0,
      "outputs": [
        {
          "output_type": "error",
          "ename": "ValueError",
          "evalue": "ignored",
          "traceback": [
            "\u001b[0;31m---------------------------------------------------------------------------\u001b[0m",
            "\u001b[0;31mValueError\u001b[0m                                Traceback (most recent call last)",
            "\u001b[0;32m<ipython-input-140-871a902de1a8>\u001b[0m in \u001b[0;36m<module>\u001b[0;34m()\u001b[0m\n\u001b[0;32m----> 1\u001b[0;31m \u001b[0mchi_square\u001b[0m \u001b[0;34m=\u001b[0m \u001b[0;34m(\u001b[0m\u001b[0;34m(\u001b[0m\u001b[0mobserved\u001b[0m \u001b[0;34m-\u001b[0m \u001b[0mexpected\u001b[0m\u001b[0;34m)\u001b[0m\u001b[0;34m**\u001b[0m\u001b[0;36m2\u001b[0m\u001b[0;34m/\u001b[0m\u001b[0;34m(\u001b[0m\u001b[0mexpected\u001b[0m\u001b[0;34m)\u001b[0m\u001b[0;34m)\u001b[0m\u001b[0;34m.\u001b[0m\u001b[0msum\u001b[0m\u001b[0;34m(\u001b[0m\u001b[0;34m)\u001b[0m\u001b[0;34m\u001b[0m\u001b[0;34m\u001b[0m\u001b[0m\n\u001b[0m\u001b[1;32m      2\u001b[0m \u001b[0mchi_square\u001b[0m\u001b[0;34m\u001b[0m\u001b[0;34m\u001b[0m\u001b[0m\n",
            "\u001b[0;31mValueError\u001b[0m: operands could not be broadcast together with shapes (2,6) (12,6) "
          ]
        }
      ]
    },
    {
      "cell_type": "code",
      "metadata": {
        "id": "gN7pH-NUjxmM",
        "colab_type": "code",
        "outputId": "aea0bbb6-3a60-4b02-e444-1f63a6601047",
        "colab": {
          "base_uri": "https://localhost:8080/",
          "height": 180
        }
      },
      "source": [
        "chi_square = ((observed - expected)**2/(expected)).sum()\n",
        "chi_square"
      ],
      "execution_count": 0,
      "outputs": [
        {
          "output_type": "error",
          "ename": "ValueError",
          "evalue": "ignored",
          "traceback": [
            "\u001b[0;31m---------------------------------------------------------------------------\u001b[0m",
            "\u001b[0;31mValueError\u001b[0m                                Traceback (most recent call last)",
            "\u001b[0;32m<ipython-input-138-871a902de1a8>\u001b[0m in \u001b[0;36m<module>\u001b[0;34m()\u001b[0m\n\u001b[0;32m----> 1\u001b[0;31m \u001b[0mchi_square\u001b[0m \u001b[0;34m=\u001b[0m \u001b[0;34m(\u001b[0m\u001b[0;34m(\u001b[0m\u001b[0mobserved\u001b[0m \u001b[0;34m-\u001b[0m \u001b[0mexpected\u001b[0m\u001b[0;34m)\u001b[0m\u001b[0;34m**\u001b[0m\u001b[0;36m2\u001b[0m\u001b[0;34m/\u001b[0m\u001b[0;34m(\u001b[0m\u001b[0mexpected\u001b[0m\u001b[0;34m)\u001b[0m\u001b[0;34m)\u001b[0m\u001b[0;34m.\u001b[0m\u001b[0msum\u001b[0m\u001b[0;34m(\u001b[0m\u001b[0;34m)\u001b[0m\u001b[0;34m\u001b[0m\u001b[0;34m\u001b[0m\u001b[0m\n\u001b[0m\u001b[1;32m      2\u001b[0m \u001b[0mchi_square\u001b[0m\u001b[0;34m\u001b[0m\u001b[0;34m\u001b[0m\u001b[0m\n",
            "\u001b[0;31mValueError\u001b[0m: operands could not be broadcast together with shapes (2,6) (12,6) "
          ]
        }
      ]
    },
    {
      "cell_type": "markdown",
      "metadata": {
        "id": "7Igz-XHcVbW3",
        "colab_type": "text"
      },
      "source": [
        "## Run a $\\chi^{2}$ Test using Scipy"
      ]
    },
    {
      "cell_type": "code",
      "metadata": {
        "id": "kazgId8L9tYZ",
        "colab_type": "code",
        "colab": {}
      },
      "source": [
        ""
      ],
      "execution_count": 0,
      "outputs": []
    },
    {
      "cell_type": "markdown",
      "metadata": {
        "id": "TRtBEP3rA307",
        "colab_type": "text"
      },
      "source": [
        "Null Hypothesis: Hours worked per week bins is **independent** of sex. \n",
        "\n",
        "Due to a p-value of 0, we REJECT the null hypothesis that hours worked per week and sex are independent, and conclude that there is an association between hours worked per week and sex. "
      ]
    },
    {
      "cell_type": "markdown",
      "metadata": {
        "id": "11OzdxWTM7UR",
        "colab_type": "text"
      },
      "source": [
        "## Assignment - Build a confidence interval\n",
        "\n",
        "A confidence interval refers to a neighborhood around some point estimate, the size of which is determined by the desired p-value. For instance, we might say that 52% of Americans prefer tacos to burritos, with a 95% confidence interval of +/- 5%.\n",
        "\n",
        "52% (0.52) is the point estimate, and +/- 5% (the interval $[0.47, 0.57]$) is the confidence interval. \"95% confidence\" means a p-value $\\leq 1 - 0.95 = 0.05$.\n",
        "\n",
        "In this case, the confidence interval includes $0.5$ - which is the natural null hypothesis (that half of Americans prefer tacos and half burritos, thus there is no clear favorite). So in this case, we could use the confidence interval to report that we've failed to reject the null hypothesis.\n",
        "\n",
        "But providing the full analysis with a confidence interval, including a graphical representation of it, can be a helpful and powerful way to tell your story. Done well, it is also more intuitive to a layperson than simply saying \"fail to reject the null hypothesis\" - it shows that in fact the data does *not* give a single clear result (the point estimate) but a whole range of possibilities.\n",
        "\n",
        "How is a confidence interval built, and how should it be interpreted? It does *not* mean that 95% of the data lies in that interval - instead, the frequentist interpretation is \"if we were to repeat this experiment 100 times, we would expect the average result to lie in this interval ~95 times.\"\n",
        "\n",
        "For a 95% confidence interval and a normal(-ish) distribution, you can simply remember that +/-2 standard deviations contains 95% of the probability mass, and so the 95% confidence interval based on a given sample is centered at the mean (point estimate) and has a range of +/- 2 (or technically 1.96) standard deviations.\n",
        "\n",
        "Different distributions/assumptions (90% confidence, 99% confidence) will require different math, but the overall process and interpretation (with a frequentist approach) will be the same.\n",
        "\n",
        "Your assignment - using the data from the prior module ([congressional voting records](https://archive.ics.uci.edu/ml/datasets/Congressional+Voting+Records)):\n",
        "\n",
        "\n",
        "### Confidence Intervals:\n",
        "1. Generate and numerically represent a confidence interval\n",
        "2. Graphically (with a plot) represent the confidence interval\n",
        "3. Interpret the confidence interval - what does it tell you about the data and its distribution?\n",
        "\n",
        "### Chi-squared tests:\n",
        "4. Take a dataset that we have used in the past in class that has **categorical** variables. Pick two of those categorical variables and run a chi-squared tests on that data\n",
        "  - By hand using Numpy\n",
        "  - In a single line using Scipy\n",
        "\n",
        "Stretch goals:\n",
        "\n",
        "1. Write a summary of your findings, mixing prose and math/code/results. *Note* - yes, this is by definition a political topic. It is challenging but important to keep your writing voice *neutral* and stick to the facts of the data. Data science often involves considering controversial issues, so it's important to be sensitive about them (especially if you want to publish).\n",
        "2. Apply the techniques you learned today to your project data or other data of your choice, and write/discuss your findings here.\n",
        "3. Refactor your code so it is elegant, readable, and can be easily run for all issues."
      ]
    },
    {
      "cell_type": "markdown",
      "metadata": {
        "id": "nyJ3ySr7R2k9",
        "colab_type": "text"
      },
      "source": [
        "## Resources\n",
        "\n",
        "- [Interactive visualize the Chi-Squared test](https://homepage.divms.uiowa.edu/~mbognar/applets/chisq.html)\n",
        "- [Calculation of Chi-Squared test statistic](https://en.wikipedia.org/wiki/Pearson%27s_chi-squared_test)\n",
        "- [Visualization of a confidence interval generated by R code](https://commons.wikimedia.org/wiki/File:Confidence-interval.svg)\n",
        "- [Expected value of a squared standard normal](https://math.stackexchange.com/questions/264061/expected-value-calculation-for-squared-normal-distribution) (it's 1 - which is why the expected value of a Chi-Squared with $n$ degrees of freedom is $n$, as it's the sum of $n$ squared standard normals)"
      ]
    },
    {
      "cell_type": "code",
      "metadata": {
        "id": "Ckcr4A4FM7cs",
        "colab_type": "code",
        "colab": {}
      },
      "source": [
        "import pandas as pd\n",
        "\n",
        "column_names = ['Class', 'handicap infants', 'Water project', 'Budget res.', \n",
        "                'adopt budget res', 'phys fee freeze', 'el salv aid', \n",
        "                'relig. groups in schools', 'anti-sat test ban', \n",
        "                'aid to nicaragua', 'mx missile', 'immigration', \n",
        "                'synfuels cutback', 'edu spend', 'superfund right to sue',\n",
        "               'crime', 'duty-free exports', 'export admin act S Africa']\n"
      ],
      "execution_count": 0,
      "outputs": []
    },
    {
      "cell_type": "code",
      "metadata": {
        "id": "Pxv8p3evDpQp",
        "colab_type": "code",
        "colab": {
          "base_uri": "https://localhost:8080/",
          "height": 275
        },
        "outputId": "3e04bdb2-eb3a-4254-ca6a-7ae39e98b49b"
      },
      "source": [
        "import pandas as pd\n",
        "df = pd.read_csv('https://archive.ics.uci.edu/ml/machine-learning-databases/voting-records/house-votes-84.data', names = column_names, header=None, na_values = '?')\n",
        "\n",
        "df = df.fillna('n')\n",
        "\n",
        "df = df.replace({'y': 1, 'n':0})\n",
        "df.head()"
      ],
      "execution_count": 7,
      "outputs": [
        {
          "output_type": "execute_result",
          "data": {
            "text/html": [
              "<div>\n",
              "<style scoped>\n",
              "    .dataframe tbody tr th:only-of-type {\n",
              "        vertical-align: middle;\n",
              "    }\n",
              "\n",
              "    .dataframe tbody tr th {\n",
              "        vertical-align: top;\n",
              "    }\n",
              "\n",
              "    .dataframe thead th {\n",
              "        text-align: right;\n",
              "    }\n",
              "</style>\n",
              "<table border=\"1\" class=\"dataframe\">\n",
              "  <thead>\n",
              "    <tr style=\"text-align: right;\">\n",
              "      <th></th>\n",
              "      <th>Class</th>\n",
              "      <th>handicap infants</th>\n",
              "      <th>Water project</th>\n",
              "      <th>Budget res.</th>\n",
              "      <th>adopt budget res</th>\n",
              "      <th>phys fee freeze</th>\n",
              "      <th>el salv aid</th>\n",
              "      <th>relig. groups in schools</th>\n",
              "      <th>anti-sat test ban</th>\n",
              "      <th>aid to nicaragua</th>\n",
              "      <th>mx missile</th>\n",
              "      <th>immigration</th>\n",
              "      <th>synfuels cutback</th>\n",
              "      <th>edu spend</th>\n",
              "      <th>superfund right to sue</th>\n",
              "      <th>crime</th>\n",
              "      <th>duty-free exports</th>\n",
              "      <th>export admin act S Africa</th>\n",
              "    </tr>\n",
              "  </thead>\n",
              "  <tbody>\n",
              "    <tr>\n",
              "      <th>0</th>\n",
              "      <td>republican</td>\n",
              "      <td>0</td>\n",
              "      <td>1</td>\n",
              "      <td>0</td>\n",
              "      <td>1</td>\n",
              "      <td>1</td>\n",
              "      <td>1</td>\n",
              "      <td>0</td>\n",
              "      <td>0</td>\n",
              "      <td>0</td>\n",
              "      <td>1</td>\n",
              "      <td>0</td>\n",
              "      <td>1</td>\n",
              "      <td>1</td>\n",
              "      <td>1</td>\n",
              "      <td>0</td>\n",
              "      <td>1</td>\n",
              "      <td>0</td>\n",
              "    </tr>\n",
              "    <tr>\n",
              "      <th>1</th>\n",
              "      <td>republican</td>\n",
              "      <td>0</td>\n",
              "      <td>1</td>\n",
              "      <td>0</td>\n",
              "      <td>1</td>\n",
              "      <td>1</td>\n",
              "      <td>1</td>\n",
              "      <td>0</td>\n",
              "      <td>0</td>\n",
              "      <td>0</td>\n",
              "      <td>0</td>\n",
              "      <td>0</td>\n",
              "      <td>1</td>\n",
              "      <td>1</td>\n",
              "      <td>1</td>\n",
              "      <td>0</td>\n",
              "      <td>0</td>\n",
              "      <td>0</td>\n",
              "    </tr>\n",
              "    <tr>\n",
              "      <th>2</th>\n",
              "      <td>democrat</td>\n",
              "      <td>0</td>\n",
              "      <td>1</td>\n",
              "      <td>1</td>\n",
              "      <td>0</td>\n",
              "      <td>1</td>\n",
              "      <td>1</td>\n",
              "      <td>0</td>\n",
              "      <td>0</td>\n",
              "      <td>0</td>\n",
              "      <td>0</td>\n",
              "      <td>1</td>\n",
              "      <td>0</td>\n",
              "      <td>1</td>\n",
              "      <td>1</td>\n",
              "      <td>0</td>\n",
              "      <td>0</td>\n",
              "      <td>0</td>\n",
              "    </tr>\n",
              "    <tr>\n",
              "      <th>3</th>\n",
              "      <td>democrat</td>\n",
              "      <td>0</td>\n",
              "      <td>1</td>\n",
              "      <td>1</td>\n",
              "      <td>0</td>\n",
              "      <td>0</td>\n",
              "      <td>1</td>\n",
              "      <td>0</td>\n",
              "      <td>0</td>\n",
              "      <td>0</td>\n",
              "      <td>0</td>\n",
              "      <td>1</td>\n",
              "      <td>0</td>\n",
              "      <td>1</td>\n",
              "      <td>0</td>\n",
              "      <td>0</td>\n",
              "      <td>1</td>\n",
              "      <td>0</td>\n",
              "    </tr>\n",
              "    <tr>\n",
              "      <th>4</th>\n",
              "      <td>democrat</td>\n",
              "      <td>1</td>\n",
              "      <td>1</td>\n",
              "      <td>1</td>\n",
              "      <td>0</td>\n",
              "      <td>1</td>\n",
              "      <td>1</td>\n",
              "      <td>0</td>\n",
              "      <td>0</td>\n",
              "      <td>0</td>\n",
              "      <td>0</td>\n",
              "      <td>1</td>\n",
              "      <td>0</td>\n",
              "      <td>1</td>\n",
              "      <td>1</td>\n",
              "      <td>1</td>\n",
              "      <td>1</td>\n",
              "      <td>0</td>\n",
              "    </tr>\n",
              "  </tbody>\n",
              "</table>\n",
              "</div>"
            ],
            "text/plain": [
              "        Class  handicap infants  ...  duty-free exports  export admin act S Africa\n",
              "0  republican                 0  ...                  1                          0\n",
              "1  republican                 0  ...                  0                          0\n",
              "2    democrat                 0  ...                  0                          0\n",
              "3    democrat                 0  ...                  1                          0\n",
              "4    democrat                 1  ...                  1                          0\n",
              "\n",
              "[5 rows x 18 columns]"
            ]
          },
          "metadata": {
            "tags": []
          },
          "execution_count": 7
        }
      ]
    },
    {
      "cell_type": "code",
      "metadata": {
        "id": "YihKZ_NSEXuS",
        "colab_type": "code",
        "colab": {}
      },
      "source": [
        "\n",
        "rep = df[df['Class'] == 'republican']\n",
        "\n",
        "dem = df[df['Class'] == 'democrat']"
      ],
      "execution_count": 0,
      "outputs": []
    },
    {
      "cell_type": "code",
      "metadata": {
        "id": "qUdqFzzIFuCW",
        "colab_type": "code",
        "colab": {
          "base_uri": "https://localhost:8080/",
          "height": 275
        },
        "outputId": "f861e353-dabd-47d7-b496-75037d5a8993"
      },
      "source": [
        "rep.head()"
      ],
      "execution_count": 16,
      "outputs": [
        {
          "output_type": "execute_result",
          "data": {
            "text/html": [
              "<div>\n",
              "<style scoped>\n",
              "    .dataframe tbody tr th:only-of-type {\n",
              "        vertical-align: middle;\n",
              "    }\n",
              "\n",
              "    .dataframe tbody tr th {\n",
              "        vertical-align: top;\n",
              "    }\n",
              "\n",
              "    .dataframe thead th {\n",
              "        text-align: right;\n",
              "    }\n",
              "</style>\n",
              "<table border=\"1\" class=\"dataframe\">\n",
              "  <thead>\n",
              "    <tr style=\"text-align: right;\">\n",
              "      <th></th>\n",
              "      <th>Class</th>\n",
              "      <th>handicap infants</th>\n",
              "      <th>Water project</th>\n",
              "      <th>Budget res.</th>\n",
              "      <th>adopt budget res</th>\n",
              "      <th>phys fee freeze</th>\n",
              "      <th>el salv aid</th>\n",
              "      <th>relig. groups in schools</th>\n",
              "      <th>anti-sat test ban</th>\n",
              "      <th>aid to nicaragua</th>\n",
              "      <th>mx missile</th>\n",
              "      <th>immigration</th>\n",
              "      <th>synfuels cutback</th>\n",
              "      <th>edu spend</th>\n",
              "      <th>superfund right to sue</th>\n",
              "      <th>crime</th>\n",
              "      <th>duty-free exports</th>\n",
              "      <th>export admin act S Africa</th>\n",
              "    </tr>\n",
              "  </thead>\n",
              "  <tbody>\n",
              "    <tr>\n",
              "      <th>0</th>\n",
              "      <td>republican</td>\n",
              "      <td>0</td>\n",
              "      <td>1</td>\n",
              "      <td>0</td>\n",
              "      <td>1</td>\n",
              "      <td>1</td>\n",
              "      <td>1</td>\n",
              "      <td>0</td>\n",
              "      <td>0</td>\n",
              "      <td>0</td>\n",
              "      <td>1</td>\n",
              "      <td>0</td>\n",
              "      <td>1</td>\n",
              "      <td>1</td>\n",
              "      <td>1</td>\n",
              "      <td>0</td>\n",
              "      <td>1</td>\n",
              "      <td>0</td>\n",
              "    </tr>\n",
              "    <tr>\n",
              "      <th>1</th>\n",
              "      <td>republican</td>\n",
              "      <td>0</td>\n",
              "      <td>1</td>\n",
              "      <td>0</td>\n",
              "      <td>1</td>\n",
              "      <td>1</td>\n",
              "      <td>1</td>\n",
              "      <td>0</td>\n",
              "      <td>0</td>\n",
              "      <td>0</td>\n",
              "      <td>0</td>\n",
              "      <td>0</td>\n",
              "      <td>1</td>\n",
              "      <td>1</td>\n",
              "      <td>1</td>\n",
              "      <td>0</td>\n",
              "      <td>0</td>\n",
              "      <td>0</td>\n",
              "    </tr>\n",
              "    <tr>\n",
              "      <th>7</th>\n",
              "      <td>republican</td>\n",
              "      <td>0</td>\n",
              "      <td>1</td>\n",
              "      <td>0</td>\n",
              "      <td>1</td>\n",
              "      <td>1</td>\n",
              "      <td>1</td>\n",
              "      <td>0</td>\n",
              "      <td>0</td>\n",
              "      <td>0</td>\n",
              "      <td>0</td>\n",
              "      <td>0</td>\n",
              "      <td>0</td>\n",
              "      <td>1</td>\n",
              "      <td>1</td>\n",
              "      <td>0</td>\n",
              "      <td>1</td>\n",
              "      <td>0</td>\n",
              "    </tr>\n",
              "    <tr>\n",
              "      <th>8</th>\n",
              "      <td>republican</td>\n",
              "      <td>0</td>\n",
              "      <td>1</td>\n",
              "      <td>0</td>\n",
              "      <td>1</td>\n",
              "      <td>1</td>\n",
              "      <td>1</td>\n",
              "      <td>0</td>\n",
              "      <td>0</td>\n",
              "      <td>0</td>\n",
              "      <td>0</td>\n",
              "      <td>0</td>\n",
              "      <td>1</td>\n",
              "      <td>1</td>\n",
              "      <td>1</td>\n",
              "      <td>0</td>\n",
              "      <td>1</td>\n",
              "      <td>0</td>\n",
              "    </tr>\n",
              "    <tr>\n",
              "      <th>10</th>\n",
              "      <td>republican</td>\n",
              "      <td>0</td>\n",
              "      <td>1</td>\n",
              "      <td>0</td>\n",
              "      <td>1</td>\n",
              "      <td>1</td>\n",
              "      <td>0</td>\n",
              "      <td>0</td>\n",
              "      <td>0</td>\n",
              "      <td>0</td>\n",
              "      <td>0</td>\n",
              "      <td>0</td>\n",
              "      <td>0</td>\n",
              "      <td>1</td>\n",
              "      <td>1</td>\n",
              "      <td>0</td>\n",
              "      <td>0</td>\n",
              "      <td>0</td>\n",
              "    </tr>\n",
              "  </tbody>\n",
              "</table>\n",
              "</div>"
            ],
            "text/plain": [
              "         Class  handicap infants  ...  duty-free exports  export admin act S Africa\n",
              "0   republican                 0  ...                  1                          0\n",
              "1   republican                 0  ...                  0                          0\n",
              "7   republican                 0  ...                  1                          0\n",
              "8   republican                 0  ...                  1                          0\n",
              "10  republican                 0  ...                  0                          0\n",
              "\n",
              "[5 rows x 18 columns]"
            ]
          },
          "metadata": {
            "tags": []
          },
          "execution_count": 16
        }
      ]
    },
    {
      "cell_type": "code",
      "metadata": {
        "id": "y6i1TgcKFvhx",
        "colab_type": "code",
        "colab": {
          "base_uri": "https://localhost:8080/",
          "height": 275
        },
        "outputId": "40d09a96-af74-4290-aa3e-db1fe44a2433"
      },
      "source": [
        "dem.head()"
      ],
      "execution_count": 15,
      "outputs": [
        {
          "output_type": "execute_result",
          "data": {
            "text/html": [
              "<div>\n",
              "<style scoped>\n",
              "    .dataframe tbody tr th:only-of-type {\n",
              "        vertical-align: middle;\n",
              "    }\n",
              "\n",
              "    .dataframe tbody tr th {\n",
              "        vertical-align: top;\n",
              "    }\n",
              "\n",
              "    .dataframe thead th {\n",
              "        text-align: right;\n",
              "    }\n",
              "</style>\n",
              "<table border=\"1\" class=\"dataframe\">\n",
              "  <thead>\n",
              "    <tr style=\"text-align: right;\">\n",
              "      <th></th>\n",
              "      <th>Class</th>\n",
              "      <th>handicap infants</th>\n",
              "      <th>Water project</th>\n",
              "      <th>Budget res.</th>\n",
              "      <th>adopt budget res</th>\n",
              "      <th>phys fee freeze</th>\n",
              "      <th>el salv aid</th>\n",
              "      <th>relig. groups in schools</th>\n",
              "      <th>anti-sat test ban</th>\n",
              "      <th>aid to nicaragua</th>\n",
              "      <th>mx missile</th>\n",
              "      <th>immigration</th>\n",
              "      <th>synfuels cutback</th>\n",
              "      <th>edu spend</th>\n",
              "      <th>superfund right to sue</th>\n",
              "      <th>crime</th>\n",
              "      <th>duty-free exports</th>\n",
              "      <th>export admin act S Africa</th>\n",
              "    </tr>\n",
              "  </thead>\n",
              "  <tbody>\n",
              "    <tr>\n",
              "      <th>2</th>\n",
              "      <td>democrat</td>\n",
              "      <td>0</td>\n",
              "      <td>1</td>\n",
              "      <td>1</td>\n",
              "      <td>0</td>\n",
              "      <td>1</td>\n",
              "      <td>1</td>\n",
              "      <td>0</td>\n",
              "      <td>0</td>\n",
              "      <td>0</td>\n",
              "      <td>0</td>\n",
              "      <td>1</td>\n",
              "      <td>0</td>\n",
              "      <td>1</td>\n",
              "      <td>1</td>\n",
              "      <td>0</td>\n",
              "      <td>0</td>\n",
              "      <td>0</td>\n",
              "    </tr>\n",
              "    <tr>\n",
              "      <th>3</th>\n",
              "      <td>democrat</td>\n",
              "      <td>0</td>\n",
              "      <td>1</td>\n",
              "      <td>1</td>\n",
              "      <td>0</td>\n",
              "      <td>0</td>\n",
              "      <td>1</td>\n",
              "      <td>0</td>\n",
              "      <td>0</td>\n",
              "      <td>0</td>\n",
              "      <td>0</td>\n",
              "      <td>1</td>\n",
              "      <td>0</td>\n",
              "      <td>1</td>\n",
              "      <td>0</td>\n",
              "      <td>0</td>\n",
              "      <td>1</td>\n",
              "      <td>0</td>\n",
              "    </tr>\n",
              "    <tr>\n",
              "      <th>4</th>\n",
              "      <td>democrat</td>\n",
              "      <td>1</td>\n",
              "      <td>1</td>\n",
              "      <td>1</td>\n",
              "      <td>0</td>\n",
              "      <td>1</td>\n",
              "      <td>1</td>\n",
              "      <td>0</td>\n",
              "      <td>0</td>\n",
              "      <td>0</td>\n",
              "      <td>0</td>\n",
              "      <td>1</td>\n",
              "      <td>0</td>\n",
              "      <td>1</td>\n",
              "      <td>1</td>\n",
              "      <td>1</td>\n",
              "      <td>1</td>\n",
              "      <td>0</td>\n",
              "    </tr>\n",
              "    <tr>\n",
              "      <th>5</th>\n",
              "      <td>democrat</td>\n",
              "      <td>0</td>\n",
              "      <td>1</td>\n",
              "      <td>1</td>\n",
              "      <td>0</td>\n",
              "      <td>1</td>\n",
              "      <td>1</td>\n",
              "      <td>0</td>\n",
              "      <td>0</td>\n",
              "      <td>0</td>\n",
              "      <td>0</td>\n",
              "      <td>0</td>\n",
              "      <td>0</td>\n",
              "      <td>1</td>\n",
              "      <td>1</td>\n",
              "      <td>1</td>\n",
              "      <td>1</td>\n",
              "      <td>0</td>\n",
              "    </tr>\n",
              "    <tr>\n",
              "      <th>6</th>\n",
              "      <td>democrat</td>\n",
              "      <td>0</td>\n",
              "      <td>1</td>\n",
              "      <td>0</td>\n",
              "      <td>1</td>\n",
              "      <td>1</td>\n",
              "      <td>1</td>\n",
              "      <td>0</td>\n",
              "      <td>0</td>\n",
              "      <td>0</td>\n",
              "      <td>0</td>\n",
              "      <td>0</td>\n",
              "      <td>0</td>\n",
              "      <td>0</td>\n",
              "      <td>1</td>\n",
              "      <td>1</td>\n",
              "      <td>1</td>\n",
              "      <td>0</td>\n",
              "    </tr>\n",
              "  </tbody>\n",
              "</table>\n",
              "</div>"
            ],
            "text/plain": [
              "      Class  handicap infants  ...  duty-free exports  export admin act S Africa\n",
              "2  democrat                 0  ...                  0                          0\n",
              "3  democrat                 0  ...                  1                          0\n",
              "4  democrat                 1  ...                  1                          0\n",
              "5  democrat                 0  ...                  1                          0\n",
              "6  democrat                 0  ...                  1                          0\n",
              "\n",
              "[5 rows x 18 columns]"
            ]
          },
          "metadata": {
            "tags": []
          },
          "execution_count": 15
        }
      ]
    },
    {
      "cell_type": "code",
      "metadata": {
        "id": "pyYFE_RmEi7e",
        "colab_type": "code",
        "colab": {
          "base_uri": "https://localhost:8080/",
          "height": 204
        },
        "outputId": "d3f11214-1502-400a-bd20-bf505156f160"
      },
      "source": [
        "dr = df[['Class', 'phys fee freeze']]\n",
        "dr.head()"
      ],
      "execution_count": 10,
      "outputs": [
        {
          "output_type": "execute_result",
          "data": {
            "text/html": [
              "<div>\n",
              "<style scoped>\n",
              "    .dataframe tbody tr th:only-of-type {\n",
              "        vertical-align: middle;\n",
              "    }\n",
              "\n",
              "    .dataframe tbody tr th {\n",
              "        vertical-align: top;\n",
              "    }\n",
              "\n",
              "    .dataframe thead th {\n",
              "        text-align: right;\n",
              "    }\n",
              "</style>\n",
              "<table border=\"1\" class=\"dataframe\">\n",
              "  <thead>\n",
              "    <tr style=\"text-align: right;\">\n",
              "      <th></th>\n",
              "      <th>Class</th>\n",
              "      <th>phys fee freeze</th>\n",
              "    </tr>\n",
              "  </thead>\n",
              "  <tbody>\n",
              "    <tr>\n",
              "      <th>0</th>\n",
              "      <td>republican</td>\n",
              "      <td>1</td>\n",
              "    </tr>\n",
              "    <tr>\n",
              "      <th>1</th>\n",
              "      <td>republican</td>\n",
              "      <td>1</td>\n",
              "    </tr>\n",
              "    <tr>\n",
              "      <th>2</th>\n",
              "      <td>democrat</td>\n",
              "      <td>1</td>\n",
              "    </tr>\n",
              "    <tr>\n",
              "      <th>3</th>\n",
              "      <td>democrat</td>\n",
              "      <td>0</td>\n",
              "    </tr>\n",
              "    <tr>\n",
              "      <th>4</th>\n",
              "      <td>democrat</td>\n",
              "      <td>1</td>\n",
              "    </tr>\n",
              "  </tbody>\n",
              "</table>\n",
              "</div>"
            ],
            "text/plain": [
              "        Class  phys fee freeze\n",
              "0  republican                1\n",
              "1  republican                1\n",
              "2    democrat                1\n",
              "3    democrat                0\n",
              "4    democrat                1"
            ]
          },
          "metadata": {
            "tags": []
          },
          "execution_count": 10
        }
      ]
    },
    {
      "cell_type": "code",
      "metadata": {
        "id": "0NxD3diAFVJW",
        "colab_type": "code",
        "colab": {
          "base_uri": "https://localhost:8080/",
          "height": 173
        },
        "outputId": "f5086e28-e0f0-4225-a177-dc4183049704"
      },
      "source": [
        "table = pd.crosstab(df['Class'], df['phys fee freeze'], margins = True)\n",
        "table"
      ],
      "execution_count": 13,
      "outputs": [
        {
          "output_type": "execute_result",
          "data": {
            "text/html": [
              "<div>\n",
              "<style scoped>\n",
              "    .dataframe tbody tr th:only-of-type {\n",
              "        vertical-align: middle;\n",
              "    }\n",
              "\n",
              "    .dataframe tbody tr th {\n",
              "        vertical-align: top;\n",
              "    }\n",
              "\n",
              "    .dataframe thead th {\n",
              "        text-align: right;\n",
              "    }\n",
              "</style>\n",
              "<table border=\"1\" class=\"dataframe\">\n",
              "  <thead>\n",
              "    <tr style=\"text-align: right;\">\n",
              "      <th>phys fee freeze</th>\n",
              "      <th>0</th>\n",
              "      <th>1</th>\n",
              "      <th>All</th>\n",
              "    </tr>\n",
              "    <tr>\n",
              "      <th>Class</th>\n",
              "      <th></th>\n",
              "      <th></th>\n",
              "      <th></th>\n",
              "    </tr>\n",
              "  </thead>\n",
              "  <tbody>\n",
              "    <tr>\n",
              "      <th>democrat</th>\n",
              "      <td>212</td>\n",
              "      <td>55</td>\n",
              "      <td>267</td>\n",
              "    </tr>\n",
              "    <tr>\n",
              "      <th>republican</th>\n",
              "      <td>11</td>\n",
              "      <td>157</td>\n",
              "      <td>168</td>\n",
              "    </tr>\n",
              "    <tr>\n",
              "      <th>All</th>\n",
              "      <td>223</td>\n",
              "      <td>212</td>\n",
              "      <td>435</td>\n",
              "    </tr>\n",
              "  </tbody>\n",
              "</table>\n",
              "</div>"
            ],
            "text/plain": [
              "phys fee freeze    0    1  All\n",
              "Class                         \n",
              "democrat         212   55  267\n",
              "republican        11  157  168\n",
              "All              223  212  435"
            ]
          },
          "metadata": {
            "tags": []
          },
          "execution_count": 13
        }
      ]
    },
    {
      "cell_type": "code",
      "metadata": {
        "id": "CvdDnBaSFkoT",
        "colab_type": "code",
        "colab": {
          "base_uri": "https://localhost:8080/",
          "height": 34
        },
        "outputId": "f346690f-a3ec-4e6c-93cf-0fe3b3268085"
      },
      "source": [
        "repcount = table.iloc[1][0:2].values\n",
        "repcount"
      ],
      "execution_count": 18,
      "outputs": [
        {
          "output_type": "execute_result",
          "data": {
            "text/plain": [
              "array([ 11, 157])"
            ]
          },
          "metadata": {
            "tags": []
          },
          "execution_count": 18
        }
      ]
    },
    {
      "cell_type": "code",
      "metadata": {
        "id": "JJ1qcklyF8Nq",
        "colab_type": "code",
        "colab": {
          "base_uri": "https://localhost:8080/",
          "height": 34
        },
        "outputId": "cc45668f-6537-4a53-bee9-e568e5155558"
      },
      "source": [
        "demcount = table.iloc[0][0:2].values\n",
        "demcount"
      ],
      "execution_count": 19,
      "outputs": [
        {
          "output_type": "execute_result",
          "data": {
            "text/plain": [
              "array([212,  55])"
            ]
          },
          "metadata": {
            "tags": []
          },
          "execution_count": 19
        }
      ]
    },
    {
      "cell_type": "code",
      "metadata": {
        "id": "ooXeONLHF_DG",
        "colab_type": "code",
        "colab": {
          "base_uri": "https://localhost:8080/",
          "height": 377
        },
        "outputId": "2b4bb1a7-e9ef-4c2d-df18-318cded9f68d"
      },
      "source": [
        "import matplotlib.pyplot as plt\n",
        "import seaborn as sns\n",
        "\n",
        "#Plot\n",
        "fig = plt.figure(figsize=(10, 5))\n",
        "sns.set(font_scale=1.8)\n",
        "categories = [\"no\",\"yes\"]\n",
        "p1 = plt.bar(categories, repcount, 0.55, color='#d62728')\n",
        "p2 = plt.bar(categories, demcount, 0.55, bottom=repcount)\n",
        "plt.legend((p2[0], p1[0]), ('Rep', 'Dem'))\n",
        "plt.xlabel('Party')\n",
        "plt.ylabel('Votes Count')\n",
        "plt.title('Phys Fee Freeze')\n",
        "plt.show()"
      ],
      "execution_count": 20,
      "outputs": [
        {
          "output_type": "display_data",
          "data": {
            "image/png": "[encoded data removed]",
            "text/plain": [
              "<Figure size 720x360 with 1 Axes>"
            ]
          },
          "metadata": {
            "tags": []
          }
        }
      ]
    },
    {
      "cell_type": "code",
      "metadata": {
        "id": "C7rS5_G4H57W",
        "colab_type": "code",
        "colab": {}
      },
      "source": [
        "\n",
        "import numpy as np\n",
        "from scipy import stats\n",
        "\n",
        "def confidence_interval(data, confidence=0.95):\n",
        "  \"\"\"\n",
        "  Calculate a confidence interval around a sample mean for given data.\n",
        "  Using t-distribution and two-tailed test, default 95% confidence. \n",
        "  \n",
        "  Arguments:\n",
        "    data - iterable (list or numpy array) of sample observations\n",
        "    confidence - level of confidence for the interval\n",
        "  \n",
        "  Returns:\n",
        "    tuple of (mean, lower bound, upper bound)\n",
        "  \"\"\"\n",
        "  data = np.array(data)\n",
        "  mean = np.mean(data)\n",
        "  n = len(data)\n",
        "  stderr = stats.sem(data)\n",
        "  interval = stderr * stats.t.ppf((1 + confidence) / 2.0, n - 1)\n",
        "  return (mean, mean - interval, mean + interval)\n"
      ],
      "execution_count": 0,
      "outputs": []
    },
    {
      "cell_type": "code",
      "metadata": {
        "id": "o_H0qUL-Hf4U",
        "colab_type": "code",
        "colab": {
          "base_uri": "https://localhost:8080/",
          "height": 34
        },
        "outputId": "cb09121a-98b4-4a43-aaac-d2bbebf97806"
      },
      "source": [
        "dem_phy = confidence_interval(dem['phys fee freeze'])\n",
        "\n",
        "print(dem_phy)"
      ],
      "execution_count": 37,
      "outputs": [
        {
          "output_type": "stream",
          "text": [
            "(0.20599250936329588, 0.1571693613158776, 0.25481565741071416)\n"
          ],
          "name": "stdout"
        }
      ]
    },
    {
      "cell_type": "code",
      "metadata": {
        "id": "aEsELBTuJAHb",
        "colab_type": "code",
        "colab": {
          "base_uri": "https://localhost:8080/",
          "height": 34
        },
        "outputId": "57e751f0-7cb3-4f69-e4b4-efd588b5db28"
      },
      "source": [
        "rep_phy = confidence_interval(rep['phys fee freeze'])\n",
        "\n",
        "print(rep_phy)"
      ],
      "execution_count": 38,
      "outputs": [
        {
          "output_type": "stream",
          "text": [
            "(0.9345238095238095, 0.8967330684696345, 0.9723145505779845)\n"
          ],
          "name": "stdout"
        }
      ]
    },
    {
      "cell_type": "code",
      "metadata": {
        "id": "4r5taGWLF6Fz",
        "colab_type": "code",
        "colab": {
          "base_uri": "https://localhost:8080/",
          "height": 204
        },
        "outputId": "afd0a623-bfea-434f-f44a-1358865f723f"
      },
      "source": [
        "dem_melt = pd.melt(dem, id_vars='Class', value_name='Votes', var_name='Issue')\n",
        "dem_melt.columns = ['Democrats', 'Issue', 'Yes votes']\n",
        "dem_melt.head()"
      ],
      "execution_count": 22,
      "outputs": [
        {
          "output_type": "execute_result",
          "data": {
            "text/html": [
              "<div>\n",
              "<style scoped>\n",
              "    .dataframe tbody tr th:only-of-type {\n",
              "        vertical-align: middle;\n",
              "    }\n",
              "\n",
              "    .dataframe tbody tr th {\n",
              "        vertical-align: top;\n",
              "    }\n",
              "\n",
              "    .dataframe thead th {\n",
              "        text-align: right;\n",
              "    }\n",
              "</style>\n",
              "<table border=\"1\" class=\"dataframe\">\n",
              "  <thead>\n",
              "    <tr style=\"text-align: right;\">\n",
              "      <th></th>\n",
              "      <th>Democrats</th>\n",
              "      <th>Issue</th>\n",
              "      <th>Yes votes</th>\n",
              "    </tr>\n",
              "  </thead>\n",
              "  <tbody>\n",
              "    <tr>\n",
              "      <th>0</th>\n",
              "      <td>democrat</td>\n",
              "      <td>handicap infants</td>\n",
              "      <td>0</td>\n",
              "    </tr>\n",
              "    <tr>\n",
              "      <th>1</th>\n",
              "      <td>democrat</td>\n",
              "      <td>handicap infants</td>\n",
              "      <td>0</td>\n",
              "    </tr>\n",
              "    <tr>\n",
              "      <th>2</th>\n",
              "      <td>democrat</td>\n",
              "      <td>handicap infants</td>\n",
              "      <td>1</td>\n",
              "    </tr>\n",
              "    <tr>\n",
              "      <th>3</th>\n",
              "      <td>democrat</td>\n",
              "      <td>handicap infants</td>\n",
              "      <td>0</td>\n",
              "    </tr>\n",
              "    <tr>\n",
              "      <th>4</th>\n",
              "      <td>democrat</td>\n",
              "      <td>handicap infants</td>\n",
              "      <td>0</td>\n",
              "    </tr>\n",
              "  </tbody>\n",
              "</table>\n",
              "</div>"
            ],
            "text/plain": [
              "  Democrats             Issue  Yes votes\n",
              "0  democrat  handicap infants          0\n",
              "1  democrat  handicap infants          0\n",
              "2  democrat  handicap infants          1\n",
              "3  democrat  handicap infants          0\n",
              "4  democrat  handicap infants          0"
            ]
          },
          "metadata": {
            "tags": []
          },
          "execution_count": 22
        }
      ]
    },
    {
      "cell_type": "code",
      "metadata": {
        "id": "7lTjbZPZG-fN",
        "colab_type": "code",
        "colab": {
          "base_uri": "https://localhost:8080/",
          "height": 550
        },
        "outputId": "ad0e6b32-fc1f-46b9-b837-52d5e10627ba"
      },
      "source": [
        "sns.barplot(x='Democrats', y='Yes votes', hue='Issue', orient='v', data=dem_melt)\n",
        "plt.xticks([])\n",
        "plt.legend(bbox_to_anchor=(1.05, 1), loc=2, borderaxespad=0.)\n",
        "plt.title('Proportion of Democrats voting yes');"
      ],
      "execution_count": 24,
      "outputs": [
        {
          "output_type": "display_data",
          "data": {
            "image/png": "[encoded data removed]",
            "text/plain": [
              "<Figure size 432x288 with 1 Axes>"
            ]
          },
          "metadata": {
            "tags": []
          }
        }
      ]
    },
    {
      "cell_type": "code",
      "metadata": {
        "id": "RlVFLtuDHF2Z",
        "colab_type": "code",
        "colab": {
          "base_uri": "https://localhost:8080/",
          "height": 204
        },
        "outputId": "27e1231d-b526-47b2-c80e-21f358a0ebad"
      },
      "source": [
        "rep_melt = pd.melt(rep, id_vars='Class', value_name='Votes', var_name='Issue')\n",
        "rep_melt.columns = ['Republicans', 'Issue', 'Yes votes']\n",
        "rep_melt.head()"
      ],
      "execution_count": 25,
      "outputs": [
        {
          "output_type": "execute_result",
          "data": {
            "text/html": [
              "<div>\n",
              "<style scoped>\n",
              "    .dataframe tbody tr th:only-of-type {\n",
              "        vertical-align: middle;\n",
              "    }\n",
              "\n",
              "    .dataframe tbody tr th {\n",
              "        vertical-align: top;\n",
              "    }\n",
              "\n",
              "    .dataframe thead th {\n",
              "        text-align: right;\n",
              "    }\n",
              "</style>\n",
              "<table border=\"1\" class=\"dataframe\">\n",
              "  <thead>\n",
              "    <tr style=\"text-align: right;\">\n",
              "      <th></th>\n",
              "      <th>Republicans</th>\n",
              "      <th>Issue</th>\n",
              "      <th>Yes votes</th>\n",
              "    </tr>\n",
              "  </thead>\n",
              "  <tbody>\n",
              "    <tr>\n",
              "      <th>0</th>\n",
              "      <td>republican</td>\n",
              "      <td>handicap infants</td>\n",
              "      <td>0</td>\n",
              "    </tr>\n",
              "    <tr>\n",
              "      <th>1</th>\n",
              "      <td>republican</td>\n",
              "      <td>handicap infants</td>\n",
              "      <td>0</td>\n",
              "    </tr>\n",
              "    <tr>\n",
              "      <th>2</th>\n",
              "      <td>republican</td>\n",
              "      <td>handicap infants</td>\n",
              "      <td>0</td>\n",
              "    </tr>\n",
              "    <tr>\n",
              "      <th>3</th>\n",
              "      <td>republican</td>\n",
              "      <td>handicap infants</td>\n",
              "      <td>0</td>\n",
              "    </tr>\n",
              "    <tr>\n",
              "      <th>4</th>\n",
              "      <td>republican</td>\n",
              "      <td>handicap infants</td>\n",
              "      <td>0</td>\n",
              "    </tr>\n",
              "  </tbody>\n",
              "</table>\n",
              "</div>"
            ],
            "text/plain": [
              "  Republicans             Issue  Yes votes\n",
              "0  republican  handicap infants          0\n",
              "1  republican  handicap infants          0\n",
              "2  republican  handicap infants          0\n",
              "3  republican  handicap infants          0\n",
              "4  republican  handicap infants          0"
            ]
          },
          "metadata": {
            "tags": []
          },
          "execution_count": 25
        }
      ]
    },
    {
      "cell_type": "code",
      "metadata": {
        "id": "yjvMlmK2HL-c",
        "colab_type": "code",
        "colab": {
          "base_uri": "https://localhost:8080/",
          "height": 550
        },
        "outputId": "6a3ed48a-89b9-4270-db35-93dadee6f519"
      },
      "source": [
        "sns.barplot(x='Republicans', y='Yes votes', hue='Issue', orient='v', data=rep_melt)\n",
        "plt.xticks([])\n",
        "plt.legend(bbox_to_anchor=(1.05, 1), loc=2, borderaxespad=0.)\n",
        "plt.title('Proportion of Republicans voting yes');"
      ],
      "execution_count": 26,
      "outputs": [
        {
          "output_type": "display_data",
          "data": {
            "image/png": "[encoded data removed]",
            "text/plain": [
              "<Figure size 432x288 with 1 Axes>"
            ]
          },
          "metadata": {
            "tags": []
          }
        }
      ]
    },
    {
      "cell_type": "markdown",
      "metadata": {
        "id": "rfHDuCToKHD7",
        "colab_type": "text"
      },
      "source": [
        "\n",
        "##Chi-squared test\n"
      ]
    },
    {
      "cell_type": "code",
      "metadata": {
        "id": "OJPKwF57KGnC",
        "colab_type": "code",
        "colab": {
          "base_uri": "https://localhost:8080/",
          "height": 340
        },
        "outputId": "173c8acd-ea5d-422f-bddd-72af932220ab"
      },
      "source": [
        "adults = pd.read_csv('https://raw.githubusercontent.com/ryanleeallred/datasets/master/adult.csv', na_values=\" ?\")\n",
        "print(adults.shape)\n",
        "adults.head()"
      ],
      "execution_count": 46,
      "outputs": [
        {
          "output_type": "stream",
          "text": [
            "(32561, 15)\n"
          ],
          "name": "stdout"
        },
        {
          "output_type": "execute_result",
          "data": {
            "text/html": [
              "<div>\n",
              "<style scoped>\n",
              "    .dataframe tbody tr th:only-of-type {\n",
              "        vertical-align: middle;\n",
              "    }\n",
              "\n",
              "    .dataframe tbody tr th {\n",
              "        vertical-align: top;\n",
              "    }\n",
              "\n",
              "    .dataframe thead th {\n",
              "        text-align: right;\n",
              "    }\n",
              "</style>\n",
              "<table border=\"1\" class=\"dataframe\">\n",
              "  <thead>\n",
              "    <tr style=\"text-align: right;\">\n",
              "      <th></th>\n",
              "      <th>age</th>\n",
              "      <th>workclass</th>\n",
              "      <th>fnlwgt</th>\n",
              "      <th>education</th>\n",
              "      <th>education-num</th>\n",
              "      <th>marital-status</th>\n",
              "      <th>occupation</th>\n",
              "      <th>relationship</th>\n",
              "      <th>race</th>\n",
              "      <th>sex</th>\n",
              "      <th>capital-gain</th>\n",
              "      <th>capital-loss</th>\n",
              "      <th>hours-per-week</th>\n",
              "      <th>country</th>\n",
              "      <th>salary</th>\n",
              "    </tr>\n",
              "  </thead>\n",
              "  <tbody>\n",
              "    <tr>\n",
              "      <th>0</th>\n",
              "      <td>39</td>\n",
              "      <td>State-gov</td>\n",
              "      <td>77516</td>\n",
              "      <td>Bachelors</td>\n",
              "      <td>13</td>\n",
              "      <td>Never-married</td>\n",
              "      <td>Adm-clerical</td>\n",
              "      <td>Not-in-family</td>\n",
              "      <td>White</td>\n",
              "      <td>Male</td>\n",
              "      <td>2174</td>\n",
              "      <td>0</td>\n",
              "      <td>40</td>\n",
              "      <td>United-States</td>\n",
              "      <td>&lt;=50K</td>\n",
              "    </tr>\n",
              "    <tr>\n",
              "      <th>1</th>\n",
              "      <td>50</td>\n",
              "      <td>Self-emp-not-inc</td>\n",
              "      <td>83311</td>\n",
              "      <td>Bachelors</td>\n",
              "      <td>13</td>\n",
              "      <td>Married-civ-spouse</td>\n",
              "      <td>Exec-managerial</td>\n",
              "      <td>Husband</td>\n",
              "      <td>White</td>\n",
              "      <td>Male</td>\n",
              "      <td>0</td>\n",
              "      <td>0</td>\n",
              "      <td>13</td>\n",
              "      <td>United-States</td>\n",
              "      <td>&lt;=50K</td>\n",
              "    </tr>\n",
              "    <tr>\n",
              "      <th>2</th>\n",
              "      <td>38</td>\n",
              "      <td>Private</td>\n",
              "      <td>215646</td>\n",
              "      <td>HS-grad</td>\n",
              "      <td>9</td>\n",
              "      <td>Divorced</td>\n",
              "      <td>Handlers-cleaners</td>\n",
              "      <td>Not-in-family</td>\n",
              "      <td>White</td>\n",
              "      <td>Male</td>\n",
              "      <td>0</td>\n",
              "      <td>0</td>\n",
              "      <td>40</td>\n",
              "      <td>United-States</td>\n",
              "      <td>&lt;=50K</td>\n",
              "    </tr>\n",
              "    <tr>\n",
              "      <th>3</th>\n",
              "      <td>53</td>\n",
              "      <td>Private</td>\n",
              "      <td>234721</td>\n",
              "      <td>11th</td>\n",
              "      <td>7</td>\n",
              "      <td>Married-civ-spouse</td>\n",
              "      <td>Handlers-cleaners</td>\n",
              "      <td>Husband</td>\n",
              "      <td>Black</td>\n",
              "      <td>Male</td>\n",
              "      <td>0</td>\n",
              "      <td>0</td>\n",
              "      <td>40</td>\n",
              "      <td>United-States</td>\n",
              "      <td>&lt;=50K</td>\n",
              "    </tr>\n",
              "    <tr>\n",
              "      <th>4</th>\n",
              "      <td>28</td>\n",
              "      <td>Private</td>\n",
              "      <td>338409</td>\n",
              "      <td>Bachelors</td>\n",
              "      <td>13</td>\n",
              "      <td>Married-civ-spouse</td>\n",
              "      <td>Prof-specialty</td>\n",
              "      <td>Wife</td>\n",
              "      <td>Black</td>\n",
              "      <td>Female</td>\n",
              "      <td>0</td>\n",
              "      <td>0</td>\n",
              "      <td>40</td>\n",
              "      <td>Cuba</td>\n",
              "      <td>&lt;=50K</td>\n",
              "    </tr>\n",
              "  </tbody>\n",
              "</table>\n",
              "</div>"
            ],
            "text/plain": [
              "   age          workclass  fnlwgt  ... hours-per-week         country  salary\n",
              "0   39          State-gov   77516  ...             40   United-States   <=50K\n",
              "1   50   Self-emp-not-inc   83311  ...             13   United-States   <=50K\n",
              "2   38            Private  215646  ...             40   United-States   <=50K\n",
              "3   53            Private  234721  ...             40   United-States   <=50K\n",
              "4   28            Private  338409  ...             40            Cuba   <=50K\n",
              "\n",
              "[5 rows x 15 columns]"
            ]
          },
          "metadata": {
            "tags": []
          },
          "execution_count": 46
        }
      ]
    },
    {
      "cell_type": "code",
      "metadata": {
        "id": "pi_RsnleKQOB",
        "colab_type": "code",
        "colab": {
          "base_uri": "https://localhost:8080/",
          "height": 68
        },
        "outputId": "a6359434-b247-4a05-ced6-6c89bcc0fb49"
      },
      "source": [
        "adults['salary'].value_counts(dropna=False)"
      ],
      "execution_count": 47,
      "outputs": [
        {
          "output_type": "execute_result",
          "data": {
            "text/plain": [
              " <=50K    24720\n",
              " >50K      7841\n",
              "Name: salary, dtype: int64"
            ]
          },
          "metadata": {
            "tags": []
          },
          "execution_count": 47
        }
      ]
    },
    {
      "cell_type": "code",
      "metadata": {
        "id": "e1oNOkXXKec3",
        "colab_type": "code",
        "colab": {
          "base_uri": "https://localhost:8080/",
          "height": 272
        },
        "outputId": "0fbb5547-d908-4344-e729-d8e886144164"
      },
      "source": [
        "adults['occupation'].value_counts()"
      ],
      "execution_count": 48,
      "outputs": [
        {
          "output_type": "execute_result",
          "data": {
            "text/plain": [
              " Prof-specialty       4140\n",
              " Craft-repair         4099\n",
              " Exec-managerial      4066\n",
              " Adm-clerical         3770\n",
              " Sales                3650\n",
              " Other-service        3295\n",
              " Machine-op-inspct    2002\n",
              " Transport-moving     1597\n",
              " Handlers-cleaners    1370\n",
              " Farming-fishing       994\n",
              " Tech-support          928\n",
              " Protective-serv       649\n",
              " Priv-house-serv       149\n",
              " Armed-Forces            9\n",
              "Name: occupation, dtype: int64"
            ]
          },
          "metadata": {
            "tags": []
          },
          "execution_count": 48
        }
      ]
    },
    {
      "cell_type": "code",
      "metadata": {
        "id": "aTsrn7-VKjrF",
        "colab_type": "code",
        "colab": {
          "base_uri": "https://localhost:8080/",
          "height": 227
        },
        "outputId": "7420746e-c031-4a91-f096-0d777a29e71a"
      },
      "source": [
        "contingency_table = pd.crosstab(adults['salary'], adults['occupation'], margins=True)\n",
        "contingency_table"
      ],
      "execution_count": 49,
      "outputs": [
        {
          "output_type": "execute_result",
          "data": {
            "text/html": [
              "<div>\n",
              "<style scoped>\n",
              "    .dataframe tbody tr th:only-of-type {\n",
              "        vertical-align: middle;\n",
              "    }\n",
              "\n",
              "    .dataframe tbody tr th {\n",
              "        vertical-align: top;\n",
              "    }\n",
              "\n",
              "    .dataframe thead th {\n",
              "        text-align: right;\n",
              "    }\n",
              "</style>\n",
              "<table border=\"1\" class=\"dataframe\">\n",
              "  <thead>\n",
              "    <tr style=\"text-align: right;\">\n",
              "      <th>occupation</th>\n",
              "      <th>Adm-clerical</th>\n",
              "      <th>Armed-Forces</th>\n",
              "      <th>Craft-repair</th>\n",
              "      <th>Exec-managerial</th>\n",
              "      <th>Farming-fishing</th>\n",
              "      <th>Handlers-cleaners</th>\n",
              "      <th>Machine-op-inspct</th>\n",
              "      <th>Other-service</th>\n",
              "      <th>Priv-house-serv</th>\n",
              "      <th>Prof-specialty</th>\n",
              "      <th>Protective-serv</th>\n",
              "      <th>Sales</th>\n",
              "      <th>Tech-support</th>\n",
              "      <th>Transport-moving</th>\n",
              "      <th>All</th>\n",
              "    </tr>\n",
              "    <tr>\n",
              "      <th>salary</th>\n",
              "      <th></th>\n",
              "      <th></th>\n",
              "      <th></th>\n",
              "      <th></th>\n",
              "      <th></th>\n",
              "      <th></th>\n",
              "      <th></th>\n",
              "      <th></th>\n",
              "      <th></th>\n",
              "      <th></th>\n",
              "      <th></th>\n",
              "      <th></th>\n",
              "      <th></th>\n",
              "      <th></th>\n",
              "      <th></th>\n",
              "    </tr>\n",
              "  </thead>\n",
              "  <tbody>\n",
              "    <tr>\n",
              "      <th>&lt;=50K</th>\n",
              "      <td>3263</td>\n",
              "      <td>8</td>\n",
              "      <td>3170</td>\n",
              "      <td>2098</td>\n",
              "      <td>879</td>\n",
              "      <td>1284</td>\n",
              "      <td>1752</td>\n",
              "      <td>3158</td>\n",
              "      <td>148</td>\n",
              "      <td>2281</td>\n",
              "      <td>438</td>\n",
              "      <td>2667</td>\n",
              "      <td>645</td>\n",
              "      <td>1277</td>\n",
              "      <td>23068</td>\n",
              "    </tr>\n",
              "    <tr>\n",
              "      <th>&gt;50K</th>\n",
              "      <td>507</td>\n",
              "      <td>1</td>\n",
              "      <td>929</td>\n",
              "      <td>1968</td>\n",
              "      <td>115</td>\n",
              "      <td>86</td>\n",
              "      <td>250</td>\n",
              "      <td>137</td>\n",
              "      <td>1</td>\n",
              "      <td>1859</td>\n",
              "      <td>211</td>\n",
              "      <td>983</td>\n",
              "      <td>283</td>\n",
              "      <td>320</td>\n",
              "      <td>7650</td>\n",
              "    </tr>\n",
              "    <tr>\n",
              "      <th>All</th>\n",
              "      <td>3770</td>\n",
              "      <td>9</td>\n",
              "      <td>4099</td>\n",
              "      <td>4066</td>\n",
              "      <td>994</td>\n",
              "      <td>1370</td>\n",
              "      <td>2002</td>\n",
              "      <td>3295</td>\n",
              "      <td>149</td>\n",
              "      <td>4140</td>\n",
              "      <td>649</td>\n",
              "      <td>3650</td>\n",
              "      <td>928</td>\n",
              "      <td>1597</td>\n",
              "      <td>30718</td>\n",
              "    </tr>\n",
              "  </tbody>\n",
              "</table>\n",
              "</div>"
            ],
            "text/plain": [
              "occupation   Adm-clerical   Armed-Forces  ...   Transport-moving    All\n",
              "salary                                    ...                          \n",
              " <=50K               3263              8  ...               1277  23068\n",
              " >50K                 507              1  ...                320   7650\n",
              "All                  3770              9  ...               1597  30718\n",
              "\n",
              "[3 rows x 15 columns]"
            ]
          },
          "metadata": {
            "tags": []
          },
          "execution_count": 49
        }
      ]
    },
    {
      "cell_type": "code",
      "metadata": {
        "id": "BN_6DLd2Kyj2",
        "colab_type": "code",
        "colab": {
          "base_uri": "https://localhost:8080/",
          "height": 68
        },
        "outputId": "c327325f-5a08-4400-8ed5-902eb2ba2829"
      },
      "source": [
        "row_sum = contingency_table.iloc[:-1, -1].values\n",
        "col_sum = contingency_table.iloc[-1, :-1].values\n",
        "total = contingency_table.loc['All', 'All']\n",
        "print('Row Sum: ', row_sum)\n",
        "print('Column Sum: ', col_sum)\n",
        "print('Total: ', total)"
      ],
      "execution_count": 53,
      "outputs": [
        {
          "output_type": "stream",
          "text": [
            "Row Sum:  [23068  7650]\n",
            "Column Sum:  [3770    9 4099 4066  994 1370 2002 3295  149 4140  649 3650  928 1597]\n",
            "Total:  30718\n"
          ],
          "name": "stdout"
        }
      ]
    },
    {
      "cell_type": "code",
      "metadata": {
        "id": "Phm-NzPPLcqK",
        "colab_type": "code",
        "colab": {
          "base_uri": "https://localhost:8080/",
          "height": 170
        },
        "outputId": "d93fcfa7-44c7-477e-8a0b-146a72d4ec28"
      },
      "source": [
        "expected = []\n",
        "for row in row_sum:\n",
        "    expected_row = []\n",
        "    for col in col_sum:\n",
        "        expected_val = col * (row/total)\n",
        "        expected_row.append(expected_val)\n",
        "    expected.append(expected_row)\n",
        "    \n",
        "    \n",
        "expected = np.array(expected)\n",
        "print(expected.shape)  \n",
        "print(expected)"
      ],
      "execution_count": 54,
      "outputs": [
        {
          "output_type": "stream",
          "text": [
            "(2, 14)\n",
            "[[2.83112052e+03 6.75864314e+00 3.07818647e+03 3.05340478e+03\n",
            "  7.46454587e+02 1.02881568e+03 1.50342262e+03 2.47441435e+03\n",
            "  1.11893092e+02 3.10897584e+03 4.87373266e+02 2.74100527e+03\n",
            "  6.96891204e+02 1.19928368e+03]\n",
            " [9.38879484e+02 2.24135686e+00 1.02081353e+03 1.01259522e+03\n",
            "  2.47545413e+02 3.41184322e+02 4.98577381e+02 8.20585650e+02\n",
            "  3.71069080e+01 1.03102416e+03 1.61626734e+02 9.08994726e+02\n",
            "  2.31108796e+02 3.97716323e+02]]\n"
          ],
          "name": "stdout"
        }
      ]
    },
    {
      "cell_type": "code",
      "metadata": {
        "id": "6_4FbKzKLeMF",
        "colab_type": "code",
        "colab": {
          "base_uri": "https://localhost:8080/",
          "height": 102
        },
        "outputId": "79db5f57-495c-4b76-eaf4-6c8eafb074f8"
      },
      "source": [
        "observed = pd.crosstab(adults['salary'], adults['occupation']).values\n",
        "print(observed.shape)\n",
        "observed"
      ],
      "execution_count": 55,
      "outputs": [
        {
          "output_type": "stream",
          "text": [
            "(2, 14)\n"
          ],
          "name": "stdout"
        },
        {
          "output_type": "execute_result",
          "data": {
            "text/plain": [
              "array([[3263,    8, 3170, 2098,  879, 1284, 1752, 3158,  148, 2281,  438,\n",
              "        2667,  645, 1277],\n",
              "       [ 507,    1,  929, 1968,  115,   86,  250,  137,    1, 1859,  211,\n",
              "         983,  283,  320]])"
            ]
          },
          "metadata": {
            "tags": []
          },
          "execution_count": 55
        }
      ]
    },
    {
      "cell_type": "code",
      "metadata": {
        "id": "-K71h5n7Ls7I",
        "colab_type": "code",
        "colab": {
          "base_uri": "https://localhost:8080/",
          "height": 34
        },
        "outputId": "311dc9e4-100d-4c95-95e0-9edbcc381b62"
      },
      "source": [
        "dof = (len(row_sum)-1)*(len(col_sum)-1)\n",
        "print(f\"Degrees of Freedom: {dof}\")"
      ],
      "execution_count": 56,
      "outputs": [
        {
          "output_type": "stream",
          "text": [
            "Degrees of Freedom: 13\n"
          ],
          "name": "stdout"
        }
      ]
    },
    {
      "cell_type": "code",
      "metadata": {
        "id": "T8Xcb7pMLvbS",
        "colab_type": "code",
        "colab": {
          "base_uri": "https://localhost:8080/",
          "height": 34
        },
        "outputId": "66287be7-6f20-42ae-b928-a4cdedac7f80"
      },
      "source": [
        "chi_squared = ((observed - expected)**2/(expected)).sum()\n",
        "print(f\"Chi-Squared: {chi_squared}\")"
      ],
      "execution_count": 57,
      "outputs": [
        {
          "output_type": "stream",
          "text": [
            "Chi-Squared: 3744.8987583977078\n"
          ],
          "name": "stdout"
        }
      ]
    },
    {
      "cell_type": "code",
      "metadata": {
        "id": "5mCaWDyRLzSk",
        "colab_type": "code",
        "colab": {
          "base_uri": "https://localhost:8080/",
          "height": 250
        },
        "outputId": "8e43962f-5a68-4a3e-bb4b-3f60b96479aa"
      },
      "source": [
        "chi_squared, p_value, dof, expected = stats.chi2_contingency(observed)\n",
        "\n",
        "print(f\"Chi-Squared: {chi_squared}\")\n",
        "print(f\"P-value: {p_value}\")\n",
        "print(f\"Degrees of Freedom: {dof}\") \n",
        "print(\"Expected: \\n\")\n",
        "pd.DataFrame(data=np.array(expected), index=adults['salary'].value_counts().index, columns=adults['occupation'].value_counts().index)"
      ],
      "execution_count": 59,
      "outputs": [
        {
          "output_type": "stream",
          "text": [
            "Chi-Squared: 3744.8987583977073\n",
            "P-value: 0.0\n",
            "Degrees of Freedom: 13\n",
            "Expected: \n",
            "\n"
          ],
          "name": "stdout"
        },
        {
          "output_type": "execute_result",
          "data": {
            "text/html": [
              "<div>\n",
              "<style scoped>\n",
              "    .dataframe tbody tr th:only-of-type {\n",
              "        vertical-align: middle;\n",
              "    }\n",
              "\n",
              "    .dataframe tbody tr th {\n",
              "        vertical-align: top;\n",
              "    }\n",
              "\n",
              "    .dataframe thead th {\n",
              "        text-align: right;\n",
              "    }\n",
              "</style>\n",
              "<table border=\"1\" class=\"dataframe\">\n",
              "  <thead>\n",
              "    <tr style=\"text-align: right;\">\n",
              "      <th></th>\n",
              "      <th>Prof-specialty</th>\n",
              "      <th>Craft-repair</th>\n",
              "      <th>Exec-managerial</th>\n",
              "      <th>Adm-clerical</th>\n",
              "      <th>Sales</th>\n",
              "      <th>Other-service</th>\n",
              "      <th>Machine-op-inspct</th>\n",
              "      <th>Transport-moving</th>\n",
              "      <th>Handlers-cleaners</th>\n",
              "      <th>Farming-fishing</th>\n",
              "      <th>Tech-support</th>\n",
              "      <th>Protective-serv</th>\n",
              "      <th>Priv-house-serv</th>\n",
              "      <th>Armed-Forces</th>\n",
              "    </tr>\n",
              "  </thead>\n",
              "  <tbody>\n",
              "    <tr>\n",
              "      <th>&lt;=50K</th>\n",
              "      <td>2831.120516</td>\n",
              "      <td>6.758643</td>\n",
              "      <td>3078.18647</td>\n",
              "      <td>3053.404779</td>\n",
              "      <td>746.454587</td>\n",
              "      <td>1028.815678</td>\n",
              "      <td>1503.422619</td>\n",
              "      <td>2474.41435</td>\n",
              "      <td>111.893092</td>\n",
              "      <td>3108.975845</td>\n",
              "      <td>487.373266</td>\n",
              "      <td>2741.005274</td>\n",
              "      <td>696.891204</td>\n",
              "      <td>1199.283677</td>\n",
              "    </tr>\n",
              "    <tr>\n",
              "      <th>&gt;50K</th>\n",
              "      <td>938.879484</td>\n",
              "      <td>2.241357</td>\n",
              "      <td>1020.81353</td>\n",
              "      <td>1012.595221</td>\n",
              "      <td>247.545413</td>\n",
              "      <td>341.184322</td>\n",
              "      <td>498.577381</td>\n",
              "      <td>820.58565</td>\n",
              "      <td>37.106908</td>\n",
              "      <td>1031.024155</td>\n",
              "      <td>161.626734</td>\n",
              "      <td>908.994726</td>\n",
              "      <td>231.108796</td>\n",
              "      <td>397.716323</td>\n",
              "    </tr>\n",
              "  </tbody>\n",
              "</table>\n",
              "</div>"
            ],
            "text/plain": [
              "         Prof-specialty   Craft-repair  ...   Priv-house-serv   Armed-Forces\n",
              " <=50K      2831.120516       6.758643  ...        696.891204    1199.283677\n",
              " >50K        938.879484       2.241357  ...        231.108796     397.716323\n",
              "\n",
              "[2 rows x 14 columns]"
            ]
          },
          "metadata": {
            "tags": []
          },
          "execution_count": 59
        }
      ]
    },
    {
      "cell_type": "code",
      "metadata": {
        "id": "AKFNZ8soMCby",
        "colab_type": "code",
        "colab": {}
      },
      "source": [
        ""
      ],
      "execution_count": 0,
      "outputs": []
    }
  ]
}
