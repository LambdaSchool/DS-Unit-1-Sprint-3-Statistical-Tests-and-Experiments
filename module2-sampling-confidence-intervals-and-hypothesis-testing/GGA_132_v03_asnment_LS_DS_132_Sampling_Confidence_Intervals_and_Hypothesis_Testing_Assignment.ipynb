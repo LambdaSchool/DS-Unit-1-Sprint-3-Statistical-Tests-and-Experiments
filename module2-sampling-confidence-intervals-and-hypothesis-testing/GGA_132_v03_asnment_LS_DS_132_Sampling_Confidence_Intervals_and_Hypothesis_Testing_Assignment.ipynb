{
  "nbformat": 4,
  "nbformat_minor": 0,
  "metadata": {
    "colab": {
      "name": "GGA 132 v03 asnment LS_DS_132_Sampling_Confidence_Intervals_and_Hypothesis_Testing_Assignment.ipynb",
      "provenance": [],
      "collapsed_sections": [],
      "include_colab_link": true
    },
    "kernelspec": {
      "name": "python3",
      "display_name": "Python 3"
    }
  },
  "cells": [
    {
      "cell_type": "markdown",
      "metadata": {
        "id": "view-in-github",
        "colab_type": "text"
      },
      "source": [
        "<a href=\"https://colab.research.google.com/github/lineality/DS-Unit-1-Sprint-3-Statistical-Tests-and-Experiments/blob/master/module2-sampling-confidence-intervals-and-hypothesis-testing/GGA_132_v03_asnment_LS_DS_132_Sampling_Confidence_Intervals_and_Hypothesis_Testing_Assignment.ipynb\" target=\"_parent\"><img src=\"https://colab.research.google.com/assets/colab-badge.svg\" alt=\"Open In Colab\"/></a>"
      ]
    },
    {
      "cell_type": "markdown",
      "metadata": {
        "id": "11OzdxWTM7UR",
        "colab_type": "text"
      },
      "source": [
        "As outlined as permissible by TLs, this Assignment was done in a group including Geoffrey Gordon Ashbrook and Vera Mendes. \n",
        "\n",
        "## Assignment - Build a confidence interval\n",
        "\n",
        "A confidence interval refers to a neighborhood around some point estimate, the size of which is determined by the desired p-value. For instance, we might say that 52% of Americans prefer tacos to burritos, with a 95% confidence interval of +/- 5%.\n",
        "\n",
        "52% (0.52) is the point estimate, and +/- 5% (the interval $[0.47, 0.57]$) is the confidence interval. \"95% confidence\" means a p-value $\\leq 1 - 0.95 = 0.05$.\n",
        "\n",
        "In this case, the confidence interval includes $0.5$ - which is the natural null hypothesis (that half of Americans prefer tacos and half burritos, thus there is no clear favorite). So in this case, we could use the confidence interval to report that we've failed to reject the null hypothesis.\n",
        "\n",
        "But providing the full analysis with a confidence interval, including a graphical representation of it, can be a helpful and powerful way to tell your story. Done well, it is also more intuitive to a layperson than simply saying \"fail to reject the null hypothesis\" - it shows that in fact the data does *not* give a single clear result (the point estimate) but a whole range of possibilities.\n",
        "\n",
        "How is a confidence interval built, and how should it be interpreted? It does *not* mean that 95% of the data lies in that interval - instead, the frequentist interpretation is \"if we were to repeat this experiment 100 times, we would expect the average result to lie in this interval ~95 times.\"\n",
        "\n",
        "For a 95% confidence interval and a normal(-ish) distribution, you can simply remember that +/-2 standard deviations contains 95% of the probability mass, and so the 95% confidence interval based on a given sample is centered at the mean (point estimate) and has a range of +/- 2 (or technically 1.96) standard deviations.\n",
        "\n",
        "Different distributions/assumptions (90% confidence, 99% confidence) will require different math, but the overall process and interpretation (with a frequentist approach) will be the same.\n",
        "\n",
        "Your assignment - using the data from the prior module ([congressional voting records](https://archive.ics.uci.edu/ml/datasets/Congressional+Voting+Records)):\n",
        "\n",
        "\n",
        "## Assignment: Confidence Intervals:\n",
        "1. Generate and numerically represent a confidence interval\n",
        "2. Graphically (with a plot) represent the confidence interval\n",
        "3. Interpret the confidence interval - what does it tell you about the data and its distribution?\n",
        "\n",
        "## Assignement Chi-squared tests:\n",
        "4. Take a dataset that we have used in the past in class that has **categorical** variables. Pick two of those categorical variables and run a chi-squared tests on that data\n",
        "  - By hand using Numpy\n",
        "  - In a single line using Scipy\n"
      ]
    },
    {
      "cell_type": "code",
      "metadata": {
        "id": "Ckcr4A4FM7cs",
        "colab_type": "code",
        "colab": {}
      },
      "source": [
        "# TODO - your code!"
      ],
      "execution_count": 0,
      "outputs": []
    },
    {
      "cell_type": "markdown",
      "metadata": {
        "id": "xuE8iw59-FLj",
        "colab_type": "text"
      },
      "source": [
        "Narative on Confidence intervals and P-Values\n",
        "\n",
        "One way of looking at a P-value, is that it is a kind of magnifying glass that amplifies noise vs. signal. Why would you want such a thing? Whenever you are wondering how much 'noise' there is in a set of data, how much noise there is an an argument being touted on the news, you find yourself to be very interested in how much noise is hidden here or there or swept under the carpet or left out of that dubious looking graph with unlabeled axis units. If you had such a noise-descriminating, noise-amplifying magnifying class (e.g. by using squares you amplify the noisy patterns), you could look through and see how much of the data was noiseless. \n",
        "\n",
        "With a slight bit of reification, the P-value is just such a magnifying glass, it gives you a kind of 'margin of noise,' which you can translate into a % reliability, with the standard translation of decimal to percent: a P-Value of .05 is 5% likely noise, or 95% noiseless or 95% confidence. Is a given confidence % good enough? Does that easily translate into inverses and generalizations beyond continued narrow observation prediction? There are both clear practical uses and nuanced debates and disagreements.\n",
        "\n",
        "(Given this 'crystal ball' there is bound to be disagreement over what exactly this means: what exactly are we confident in, with observations vs. predictions and positive vs. negative being contested. Details, details:\n",
        "https://en.wikipedia.org/wiki/P-value\n",
        "https://en.wikipedia.org/wiki/Confusion_of_the_inverse)\n"
      ]
    },
    {
      "cell_type": "code",
      "metadata": {
        "id": "6zfLrVq-Ajs9",
        "colab_type": "code",
        "colab": {}
      },
      "source": [
        ""
      ],
      "execution_count": 0,
      "outputs": []
    },
    {
      "cell_type": "markdown",
      "metadata": {
        "id": "-o5UjQNcA4tD",
        "colab_type": "text"
      },
      "source": [
        "1. \"Generate and numerically represent a confidence interval\"\n",
        "\n",
        "Here two methods will be used to generate \"a confidence interval,\" each using both random coin flips and real date (1984 US federal legislature votes)\n",
        "\n",
        "Method 1: The confidence interval is defined by the P-value. \n",
        "\n",
        "Step 1: find the p-value.\n",
        "\n",
        "Step 2: derive the confidence intervale from the p-value\n",
        "\n",
        "\n",
        "Method 2: calculate the confidence value not derived from the P-value \n",
        "\n",
        "Step 3. use an equation to calculate a p-value based on standard error, margin of error, etc.\n",
        "\n",
        "Step 4.\n",
        "\"represent\" both versions of the p value.\n",
        "\n",
        "Note: This will be done using both coin and political data.\n",
        "\n",
        "\n",
        "\n"
      ]
    },
    {
      "cell_type": "code",
      "metadata": {
        "id": "goHZ1wqRCP_U",
        "colab_type": "code",
        "colab": {}
      },
      "source": [
        "#Importing libraries\n",
        "\n",
        "import pandas as pd\n",
        "import numpy as np \n",
        "from scipy.stats import ttest_ind, ttest_ind_from_stats, ttest_rel, t, ttest_1samp\n",
        "import scipy.stats as stats\n",
        "import seaborn as sns\n",
        "from matplotlib import style\n",
        "import matplotlib.pyplot as plt"
      ],
      "execution_count": 0,
      "outputs": []
    },
    {
      "cell_type": "code",
      "metadata": {
        "id": "9_OTnDALClwP",
        "colab_type": "code",
        "outputId": "9090dcfa-a99b-4cb8-e414-cc02cd731e8e",
        "colab": {
          "base_uri": "https://localhost:8080/",
          "height": 221
        }
      },
      "source": [
        "#loading file - this is the real data\n",
        "!wget https://archive.ics.uci.edu/ml/machine-learning-databases/voting-records/house-votes-84.data"
      ],
      "execution_count": 73,
      "outputs": [
        {
          "output_type": "stream",
          "text": [
            "--2019-09-18 13:46:52--  https://archive.ics.uci.edu/ml/machine-learning-databases/voting-records/house-votes-84.data\n",
            "Resolving archive.ics.uci.edu (archive.ics.uci.edu)... 128.195.10.252\n",
            "Connecting to archive.ics.uci.edu (archive.ics.uci.edu)|128.195.10.252|:443... connected.\n",
            "HTTP request sent, awaiting response... 200 OK\n",
            "Length: 18171 (18K) [application/x-httpd-php]\n",
            "Saving to: ‘house-votes-84.data.2’\n",
            "\n",
            "\rhouse-votes-84.data   0%[                    ]       0  --.-KB/s               \rhouse-votes-84.data 100%[===================>]  17.75K  --.-KB/s    in 0.04s   \n",
            "\n",
            "2019-09-18 13:46:52 (486 KB/s) - ‘house-votes-84.data.2’ saved [18171/18171]\n",
            "\n"
          ],
          "name": "stdout"
        }
      ]
    },
    {
      "cell_type": "code",
      "metadata": {
        "id": "thk2spk6MsYo",
        "colab_type": "code",
        "colab": {}
      },
      "source": [
        "df = pd.read_csv('house-votes-84.data', \n",
        "                 header=None,\n",
        "                 names=['party','handicapped-infants','water-project',\n",
        "                          'budget','physician-fee-freeze', 'el-salvador-aid',\n",
        "                          'religious-groups','anti-satellite-ban',\n",
        "                          'aid-to-contras','mx-missile','immigration',\n",
        "                          'synfuels', 'education', 'right-to-sue','crime','duty-free',\n",
        "                          'south-africa'])\n"
      ],
      "execution_count": 0,
      "outputs": []
    },
    {
      "cell_type": "code",
      "metadata": {
        "id": "O4P8ti2QMzY2",
        "colab_type": "code",
        "colab": {}
      },
      "source": [
        "# cleaning: +NaN, string to int\n",
        "df = df.replace({'?':np.NaN, 'n':0, 'y':1})\n"
      ],
      "execution_count": 0,
      "outputs": []
    },
    {
      "cell_type": "code",
      "metadata": {
        "id": "6nt8_88TM59s",
        "colab_type": "code",
        "outputId": "4ef86c83-05a2-4ec8-f24f-46da91db8eef",
        "colab": {
          "base_uri": "https://localhost:8080/",
          "height": 160
        }
      },
      "source": [
        "df.head(2)"
      ],
      "execution_count": 76,
      "outputs": [
        {
          "output_type": "execute_result",
          "data": {
            "text/html": [
              "<div>\n",
              "<style scoped>\n",
              "    .dataframe tbody tr th:only-of-type {\n",
              "        vertical-align: middle;\n",
              "    }\n",
              "\n",
              "    .dataframe tbody tr th {\n",
              "        vertical-align: top;\n",
              "    }\n",
              "\n",
              "    .dataframe thead th {\n",
              "        text-align: right;\n",
              "    }\n",
              "</style>\n",
              "<table border=\"1\" class=\"dataframe\">\n",
              "  <thead>\n",
              "    <tr style=\"text-align: right;\">\n",
              "      <th></th>\n",
              "      <th>party</th>\n",
              "      <th>handicapped-infants</th>\n",
              "      <th>water-project</th>\n",
              "      <th>budget</th>\n",
              "      <th>physician-fee-freeze</th>\n",
              "      <th>el-salvador-aid</th>\n",
              "      <th>religious-groups</th>\n",
              "      <th>anti-satellite-ban</th>\n",
              "      <th>aid-to-contras</th>\n",
              "      <th>mx-missile</th>\n",
              "      <th>immigration</th>\n",
              "      <th>synfuels</th>\n",
              "      <th>education</th>\n",
              "      <th>right-to-sue</th>\n",
              "      <th>crime</th>\n",
              "      <th>duty-free</th>\n",
              "      <th>south-africa</th>\n",
              "    </tr>\n",
              "  </thead>\n",
              "  <tbody>\n",
              "    <tr>\n",
              "      <th>0</th>\n",
              "      <td>republican</td>\n",
              "      <td>0.0</td>\n",
              "      <td>1.0</td>\n",
              "      <td>0.0</td>\n",
              "      <td>1.0</td>\n",
              "      <td>1.0</td>\n",
              "      <td>1.0</td>\n",
              "      <td>0.0</td>\n",
              "      <td>0.0</td>\n",
              "      <td>0.0</td>\n",
              "      <td>1.0</td>\n",
              "      <td>NaN</td>\n",
              "      <td>1.0</td>\n",
              "      <td>1.0</td>\n",
              "      <td>1.0</td>\n",
              "      <td>0.0</td>\n",
              "      <td>1.0</td>\n",
              "    </tr>\n",
              "    <tr>\n",
              "      <th>1</th>\n",
              "      <td>republican</td>\n",
              "      <td>0.0</td>\n",
              "      <td>1.0</td>\n",
              "      <td>0.0</td>\n",
              "      <td>1.0</td>\n",
              "      <td>1.0</td>\n",
              "      <td>1.0</td>\n",
              "      <td>0.0</td>\n",
              "      <td>0.0</td>\n",
              "      <td>0.0</td>\n",
              "      <td>0.0</td>\n",
              "      <td>0.0</td>\n",
              "      <td>1.0</td>\n",
              "      <td>1.0</td>\n",
              "      <td>1.0</td>\n",
              "      <td>0.0</td>\n",
              "      <td>NaN</td>\n",
              "    </tr>\n",
              "  </tbody>\n",
              "</table>\n",
              "</div>"
            ],
            "text/plain": [
              "        party  handicapped-infants  ...  duty-free  south-africa\n",
              "0  republican                  0.0  ...        0.0           1.0\n",
              "1  republican                  0.0  ...        0.0           NaN\n",
              "\n",
              "[2 rows x 17 columns]"
            ]
          },
          "metadata": {
            "tags": []
          },
          "execution_count": 76
        }
      ]
    },
    {
      "cell_type": "code",
      "metadata": {
        "id": "eOX0W08iNQlp",
        "colab_type": "code",
        "colab": {}
      },
      "source": [
        "#use \"filtering\" to create two new party based df (so much for nonpartisan dataframes...a sad day)\n",
        "dem = df[df['party'] == 'democrat']\n",
        "rep = df[df['party'] == 'republican']"
      ],
      "execution_count": 0,
      "outputs": []
    },
    {
      "cell_type": "code",
      "metadata": {
        "id": "FPByAjUWNQvD",
        "colab_type": "code",
        "colab": {}
      },
      "source": [
        "vote_means = pd.DataFrame({'Democrats': dem.mean(),'Republicans': rep.mean()})"
      ],
      "execution_count": 0,
      "outputs": []
    },
    {
      "cell_type": "code",
      "metadata": {
        "id": "wCI7BmAFNQxQ",
        "colab_type": "code",
        "outputId": "1bbfa003-9c3d-45e0-e5b7-46e8ff30ef7b",
        "colab": {
          "base_uri": "https://localhost:8080/",
          "height": 196
        }
      },
      "source": [
        "vote_means.head()"
      ],
      "execution_count": 79,
      "outputs": [
        {
          "output_type": "execute_result",
          "data": {
            "text/html": [
              "<div>\n",
              "<style scoped>\n",
              "    .dataframe tbody tr th:only-of-type {\n",
              "        vertical-align: middle;\n",
              "    }\n",
              "\n",
              "    .dataframe tbody tr th {\n",
              "        vertical-align: top;\n",
              "    }\n",
              "\n",
              "    .dataframe thead th {\n",
              "        text-align: right;\n",
              "    }\n",
              "</style>\n",
              "<table border=\"1\" class=\"dataframe\">\n",
              "  <thead>\n",
              "    <tr style=\"text-align: right;\">\n",
              "      <th></th>\n",
              "      <th>Democrats</th>\n",
              "      <th>Republicans</th>\n",
              "    </tr>\n",
              "  </thead>\n",
              "  <tbody>\n",
              "    <tr>\n",
              "      <th>handicapped-infants</th>\n",
              "      <td>0.604651</td>\n",
              "      <td>0.187879</td>\n",
              "    </tr>\n",
              "    <tr>\n",
              "      <th>water-project</th>\n",
              "      <td>0.502092</td>\n",
              "      <td>0.506757</td>\n",
              "    </tr>\n",
              "    <tr>\n",
              "      <th>budget</th>\n",
              "      <td>0.888462</td>\n",
              "      <td>0.134146</td>\n",
              "    </tr>\n",
              "    <tr>\n",
              "      <th>physician-fee-freeze</th>\n",
              "      <td>0.054054</td>\n",
              "      <td>0.987879</td>\n",
              "    </tr>\n",
              "    <tr>\n",
              "      <th>el-salvador-aid</th>\n",
              "      <td>0.215686</td>\n",
              "      <td>0.951515</td>\n",
              "    </tr>\n",
              "  </tbody>\n",
              "</table>\n",
              "</div>"
            ],
            "text/plain": [
              "                      Democrats  Republicans\n",
              "handicapped-infants    0.604651     0.187879\n",
              "water-project          0.502092     0.506757\n",
              "budget                 0.888462     0.134146\n",
              "physician-fee-freeze   0.054054     0.987879\n",
              "el-salvador-aid        0.215686     0.951515"
            ]
          },
          "metadata": {
            "tags": []
          },
          "execution_count": 79
        }
      ]
    },
    {
      "cell_type": "markdown",
      "metadata": {
        "id": "v8RpE8i8FyxQ",
        "colab_type": "text"
      },
      "source": [
        "Step 1 / Method 1 - Using P"
      ]
    },
    {
      "cell_type": "code",
      "metadata": {
        "id": "Y71IVoLJFxYJ",
        "colab_type": "code",
        "colab": {}
      },
      "source": [
        "#this is the simulated coin flip data\n",
        "\n",
        "#import numpy as np\n",
        "coinflips = np.random.binomial(n=1, p=.5, size=500)\n",
        "#print(np.std(coinflips, ddof=1))\n",
        "#print(coinflips)"
      ],
      "execution_count": 0,
      "outputs": []
    },
    {
      "cell_type": "code",
      "metadata": {
        "id": "dnNQvHwwFxbx",
        "colab_type": "code",
        "outputId": "094a3fbf-9665-49f2-91aa-8e02340130b6",
        "colab": {
          "base_uri": "https://localhost:8080/",
          "height": 33
        }
      },
      "source": [
        "#single sample t-tests\n",
        "# passing nan_policy='omit' \n",
        "ttest_1samp(coinflips, 0)"
      ],
      "execution_count": 81,
      "outputs": [
        {
          "output_type": "execute_result",
          "data": {
            "text/plain": [
              "Ttest_1sampResult(statistic=22.60799543280825, pvalue=1.9258766677763793e-78)"
            ]
          },
          "metadata": {
            "tags": []
          },
          "execution_count": 81
        }
      ]
    },
    {
      "cell_type": "markdown",
      "metadata": {
        "id": "ItEk7rLVGgSL",
        "colab_type": "text"
      },
      "source": [
        "The p value is very small: 5.6*10^-75"
      ]
    },
    {
      "cell_type": "markdown",
      "metadata": {
        "id": "vzdVIADmJDOq",
        "colab_type": "text"
      },
      "source": [
        "  \n",
        "  Use t-distribution & a two-tailed test, with a modest default of 95% confidence. \n",
        "  \n",
        "  The Arguments:\n",
        "    Data: iterable (list or numpy array) of sample observations\n",
        "    Confidence: level of confidence for the interval\n",
        "  \n",
        "  Returns:\n",
        "    tuple of (mean, lower bound, upper bound)\n",
        "  "
      ]
    },
    {
      "cell_type": "code",
      "metadata": {
        "id": "AEH9VI7RAj0R",
        "colab_type": "code",
        "colab": {}
      },
      "source": [
        "# Step 3: method 1: calculate confidence interval, not based on P\n",
        "\n",
        "def conf_int(data, confidence=0.95):\n",
        "\n",
        "  data = np.array(data)\n",
        "  mean = np.mean(data)\n",
        "  n = len(data)\n",
        "  stderr = np.std(data, ddof=1) / np.sqrt(n)\n",
        "  margin_of_error = stderr * stats.t.ppf((1 + confidence) / 2.0, n - 1)\n",
        "  print(margin_of_error)\n",
        "  return (mean, mean - margin_of_error, mean + margin_of_error)"
      ],
      "execution_count": 0,
      "outputs": []
    },
    {
      "cell_type": "code",
      "metadata": {
        "id": "1mxadgmbS2Ze",
        "colab_type": "code",
        "colab": {}
      },
      "source": [
        "coinflips_42 = np.random.binomial(n=1, p=.5, size=42)"
      ],
      "execution_count": 0,
      "outputs": []
    },
    {
      "cell_type": "markdown",
      "metadata": {
        "id": "5KyoyjfGTC-A",
        "colab_type": "text"
      },
      "source": [
        "## Here is an example of a confidence interval from a coin flip:\n",
        "\n",
        "Question: how do these two methods differ? In theory they should report the same confidence interval. "
      ]
    },
    {
      "cell_type": "code",
      "metadata": {
        "id": "c4zPuGX3Aj3g",
        "colab_type": "code",
        "outputId": "a8f281f8-8ac6-48d9-8391-1e6ebd186868",
        "colab": {
          "base_uri": "https://localhost:8080/",
          "height": 50
        }
      },
      "source": [
        "\n",
        "coinflips = np.random.binomial(n=1, p=.5, size=500)\n",
        "conf_int(coinflips)"
      ],
      "execution_count": 84,
      "outputs": [
        {
          "output_type": "stream",
          "text": [
            "0.04391718672717477\n"
          ],
          "name": "stdout"
        },
        {
          "output_type": "execute_result",
          "data": {
            "text/plain": [
              "(0.526, 0.48208281327282526, 0.5699171867271748)"
            ]
          },
          "metadata": {
            "tags": []
          },
          "execution_count": 84
        }
      ]
    },
    {
      "cell_type": "markdown",
      "metadata": {
        "id": "-Old9J_bTIAQ",
        "colab_type": "text"
      },
      "source": [
        "## Here is an example of a confidence interval from political data:\n"
      ]
    },
    {
      "cell_type": "code",
      "metadata": {
        "id": "sMFg4J-QAj6B",
        "colab_type": "code",
        "outputId": "321bf2b4-252d-43e2-c61e-0bf64a1dd2c4",
        "colab": {
          "base_uri": "https://localhost:8080/",
          "height": 50
        }
      },
      "source": [
        "conf_int(rep['water-project'].dropna())"
      ],
      "execution_count": 85,
      "outputs": [
        {
          "output_type": "stream",
          "text": [
            "0.08149104629696514\n"
          ],
          "name": "stdout"
        },
        {
          "output_type": "execute_result",
          "data": {
            "text/plain": [
              "(0.5067567567567568, 0.42526571045979167, 0.5882478030537219)"
            ]
          },
          "metadata": {
            "tags": []
          },
          "execution_count": 85
        }
      ]
    },
    {
      "cell_type": "code",
      "metadata": {
        "id": "MWCPxA7hTZI_",
        "colab_type": "code",
        "outputId": "536ac574-fe04-4f47-de8b-cbeded188d43",
        "colab": {
          "base_uri": "https://localhost:8080/",
          "height": 50
        }
      },
      "source": [
        "conf_int(dem['water-project'].dropna())"
      ],
      "execution_count": 86,
      "outputs": [
        {
          "output_type": "stream",
          "text": [
            "0.06384690925692016\n"
          ],
          "name": "stdout"
        },
        {
          "output_type": "execute_result",
          "data": {
            "text/plain": [
              "(0.502092050209205, 0.43824514095228484, 0.5659389594661252)"
            ]
          },
          "metadata": {
            "tags": []
          },
          "execution_count": 86
        }
      ]
    },
    {
      "cell_type": "code",
      "metadata": {
        "id": "GP2bWRveTdGP",
        "colab_type": "code",
        "outputId": "761de967-96bd-4b70-c680-eab1b4454eb3",
        "colab": {
          "base_uri": "https://localhost:8080/",
          "height": 50
        }
      },
      "source": [
        "conf_int(rep['religious-groups'].dropna())\n",
        "\n"
      ],
      "execution_count": 87,
      "outputs": [
        {
          "output_type": "stream",
          "text": [
            "0.046602875442389065\n"
          ],
          "name": "stdout"
        },
        {
          "output_type": "execute_result",
          "data": {
            "text/plain": [
              "(0.8975903614457831, 0.850987486003394, 0.9441932368881721)"
            ]
          },
          "metadata": {
            "tags": []
          },
          "execution_count": 87
        }
      ]
    },
    {
      "cell_type": "code",
      "metadata": {
        "id": "2Xz2E6QpTdWJ",
        "colab_type": "code",
        "outputId": "cfdf12fd-bdf3-41a5-bfdc-7ffe0698ca02",
        "colab": {
          "base_uri": "https://localhost:8080/",
          "height": 50
        }
      },
      "source": [
        "conf_int(dem['religious-groups'].dropna())\n"
      ],
      "execution_count": 88,
      "outputs": [
        {
          "output_type": "stream",
          "text": [
            "0.06135235940902927\n"
          ],
          "name": "stdout"
        },
        {
          "output_type": "execute_result",
          "data": {
            "text/plain": [
              "(0.47674418604651164, 0.41539182663748236, 0.5380965454555409)"
            ]
          },
          "metadata": {
            "tags": []
          },
          "execution_count": 88
        }
      ]
    },
    {
      "cell_type": "markdown",
      "metadata": {
        "id": "rK09_OtfVczY",
        "colab_type": "text"
      },
      "source": [
        "View:\n",
        "e.g. when we are looking at coin flips, we are looking at different outcomes of a similar event. For votes, as such, each bill is only voted on once. E.g. we cannot repeat a vote by both parties on the same bill and compare to say whether that pattern is real or not. But...if instead of looking at each bill we look at 'partisan bills' Then the mean democrat or republican vote represents another iteration, another event, another coin flip, of the same 'partisanship test'. "
      ]
    },
    {
      "cell_type": "code",
      "metadata": {
        "id": "pFdDCAAhXhl2",
        "colab_type": "code",
        "outputId": "e4303b7c-ff16-4876-9b2d-adc03b5aaed3",
        "colab": {
          "base_uri": "https://localhost:8080/",
          "height": 50
        }
      },
      "source": [
        "\n",
        "conf_int(vote_means['Republicans'])"
      ],
      "execution_count": 89,
      "outputs": [
        {
          "output_type": "stream",
          "text": [
            "0.19417529013307575\n"
          ],
          "name": "stdout"
        },
        {
          "output_type": "execute_result",
          "data": {
            "text/plain": [
              "(0.5202842153559785, 0.3261089252229027, 0.7144595054890542)"
            ]
          },
          "metadata": {
            "tags": []
          },
          "execution_count": 89
        }
      ]
    },
    {
      "cell_type": "code",
      "metadata": {
        "id": "KTOVIpPEXhp9",
        "colab_type": "code",
        "outputId": "266917a5-7524-442c-d15b-6edd290b0c4f",
        "colab": {
          "base_uri": "https://localhost:8080/",
          "height": 50
        }
      },
      "source": [
        "conf_int(vote_means['Democrats'])"
      ],
      "execution_count": 90,
      "outputs": [
        {
          "output_type": "stream",
          "text": [
            "0.14306189750794837\n"
          ],
          "name": "stdout"
        },
        {
          "output_type": "execute_result",
          "data": {
            "text/plain": [
              "(0.5272036172051706, 0.3841417196972222, 0.670265514713119)"
            ]
          },
          "metadata": {
            "tags": []
          },
          "execution_count": 90
        }
      ]
    },
    {
      "cell_type": "code",
      "metadata": {
        "id": "ipXs9OvCXhwh",
        "colab_type": "code",
        "outputId": "9de20597-1faa-4d2a-e6ea-b77f843040c6",
        "colab": {
          "base_uri": "https://localhost:8080/",
          "height": 33
        }
      },
      "source": [
        "ttest_1samp(vote_means['Republicans'], 0)"
      ],
      "execution_count": 91,
      "outputs": [
        {
          "output_type": "execute_result",
          "data": {
            "text/plain": [
              "Ttest_1sampResult(statistic=5.711126032679941, pvalue=4.1226248809213136e-05)"
            ]
          },
          "metadata": {
            "tags": []
          },
          "execution_count": 91
        }
      ]
    },
    {
      "cell_type": "code",
      "metadata": {
        "id": "qmTK3Q_-YCzA",
        "colab_type": "code",
        "outputId": "7a2f4d6a-9556-4498-b1b6-e4a1aa4218ec",
        "colab": {
          "base_uri": "https://localhost:8080/",
          "height": 33
        }
      },
      "source": [
        "ttest_1samp(vote_means['Democrats'], 0)"
      ],
      "execution_count": 92,
      "outputs": [
        {
          "output_type": "execute_result",
          "data": {
            "text/plain": [
              "Ttest_1sampResult(statistic=7.854697371442037, pvalue=1.0783745469257049e-06)"
            ]
          },
          "metadata": {
            "tags": []
          },
          "execution_count": 92
        }
      ]
    },
    {
      "cell_type": "code",
      "metadata": {
        "id": "ufqln80sYvy_",
        "colab_type": "code",
        "colab": {}
      },
      "source": [
        ""
      ],
      "execution_count": 0,
      "outputs": []
    },
    {
      "cell_type": "code",
      "metadata": {
        "id": "bojL6oJQYv4U",
        "colab_type": "code",
        "colab": {}
      },
      "source": [
        ""
      ],
      "execution_count": 0,
      "outputs": []
    },
    {
      "cell_type": "markdown",
      "metadata": {
        "id": "xUrt24PCicxz",
        "colab_type": "text"
      },
      "source": [
        ""
      ]
    },
    {
      "cell_type": "code",
      "metadata": {
        "id": "5T3IxP8wYv15",
        "colab_type": "code",
        "colab": {}
      },
      "source": [
        ""
      ],
      "execution_count": 0,
      "outputs": []
    },
    {
      "cell_type": "markdown",
      "metadata": {
        "id": "lVZMzunKS8Ow",
        "colab_type": "text"
      },
      "source": [
        "## Representation of confidense intervals\n",
        "\n",
        "To start with: an anti-graph:\n",
        "\n",
        "With all bills lumped together, yes, no bipartisan, what exactly are we looking at? What should we be looking for? \n",
        "E.g. for looking at partisanship, we need to make sure the coin has two clear sides, we need to make sure each test-iteration is an iteration of the same 'event': do party members vote yes for a partsican bill along with their party. \n",
        "\n",
        "So we will make a list of the mean yes-with-party votes.\n",
        "\n",
        "---\n",
        "\n"
      ]
    },
    {
      "cell_type": "code",
      "metadata": {
        "id": "LcZ730ANP80w",
        "colab_type": "code",
        "outputId": "c8b6af9b-9c4c-41ab-83bf-6c29fa81ce60",
        "colab": {
          "base_uri": "https://localhost:8080/",
          "height": 302
        }
      },
      "source": [
        "#import matplotlib.pyplot as plt\n",
        "y1 = conf_int(vote_means['Republicans'])\n",
        "y2 = conf_int(vote_means['Democrats'])\n",
        "\n",
        "fix, ax = plt.subplots()\n",
        "for sample in [y1, y2]:\n",
        "  sns.distplot(sample)"
      ],
      "execution_count": 93,
      "outputs": [
        {
          "output_type": "stream",
          "text": [
            "0.19417529013307575\n",
            "0.14306189750794837\n"
          ],
          "name": "stdout"
        },
        {
          "output_type": "display_data",
          "data": {
            "image/png": "[encoded data removed]",
            "text/plain": [
              "<Figure size 432x288 with 1 Axes>"
            ]
          },
          "metadata": {
            "tags": []
          }
        }
      ]
    },
    {
      "cell_type": "code",
      "metadata": {
        "id": "AQobDbrla31q",
        "colab_type": "code",
        "outputId": "f06ec726-c8b0-43b5-94a6-0ec560a13b1a",
        "colab": {
          "base_uri": "https://localhost:8080/",
          "height": 100
        }
      },
      "source": [
        "print (np.mean(dem['anti-satellite-ban']))\n",
        "print (np.mean(dem['budget']))\n",
        "print (np.mean(dem['aid-to-contras']))\n",
        "print (np.mean(dem['handicapped-infants']))\n",
        "print (np.mean(dem['mx-missile']))"
      ],
      "execution_count": 94,
      "outputs": [
        {
          "output_type": "stream",
          "text": [
            "0.7722007722007722\n",
            "0.8884615384615384\n",
            "0.8288973384030418\n",
            "0.6046511627906976\n",
            "0.7580645161290323\n"
          ],
          "name": "stdout"
        }
      ]
    },
    {
      "cell_type": "code",
      "metadata": {
        "id": "oXxoZf7Ud1mQ",
        "colab_type": "code",
        "colab": {}
      },
      "source": [
        "dem_votes = []\n",
        "def add_dem(column):\n",
        "  for i in column:\n",
        "    dem_votes.append(i)\n",
        "  pass"
      ],
      "execution_count": 0,
      "outputs": []
    },
    {
      "cell_type": "code",
      "metadata": {
        "id": "pLE_oChBeNmo",
        "colab_type": "code",
        "colab": {}
      },
      "source": [
        "add_dem(dem['anti-satellite-ban'])\n",
        "add_dem(dem['budget'])\n",
        "add_dem(dem['aid-to-contras'])\n",
        "add_dem(dem['handicapped-infants'])\n",
        "add_dem(dem['mx-missile'])\n"
      ],
      "execution_count": 0,
      "outputs": []
    },
    {
      "cell_type": "code",
      "metadata": {
        "id": "zT9kE77ee0oO",
        "colab_type": "code",
        "colab": {}
      },
      "source": [
        "\n"
      ],
      "execution_count": 0,
      "outputs": []
    },
    {
      "cell_type": "code",
      "metadata": {
        "id": "n9yEL4R8P83c",
        "colab_type": "code",
        "outputId": "cb31ae39-4573-4a78-bbc2-07a02ced6085",
        "colab": {
          "base_uri": "https://localhost:8080/",
          "height": 100
        }
      },
      "source": [
        "print (np.mean(rep['physician-fee-freeze']))\n",
        "print (np.mean(rep['el-salvador-aid']))\n",
        "print (np.mean(rep['right-to-sue']))\n",
        "print (np.mean(rep['religious-groups']))\n",
        "print (np.mean(rep['education']))"
      ],
      "execution_count": 97,
      "outputs": [
        {
          "output_type": "stream",
          "text": [
            "0.9878787878787879\n",
            "0.9515151515151515\n",
            "0.8607594936708861\n",
            "0.8975903614457831\n",
            "0.8709677419354839\n"
          ],
          "name": "stdout"
        }
      ]
    },
    {
      "cell_type": "code",
      "metadata": {
        "id": "B7KleoGibzbR",
        "colab_type": "code",
        "colab": {}
      },
      "source": [
        "rep_votes = []\n",
        "def add_rep(column):\n",
        "  for i in column:\n",
        "    rep_votes.append(i)\n",
        "  pass"
      ],
      "execution_count": 0,
      "outputs": []
    },
    {
      "cell_type": "code",
      "metadata": {
        "id": "KwAeEUvxbzkS",
        "colab_type": "code",
        "colab": {}
      },
      "source": [
        "add_rep(dem['physician-fee-freeze'])\n",
        "add_rep(dem['el-salvador-aid'])\n",
        "add_rep(dem['right-to-sue'])\n",
        "add_rep(dem['religious-groups'])\n",
        "add_rep(dem['education'])"
      ],
      "execution_count": 0,
      "outputs": []
    },
    {
      "cell_type": "code",
      "metadata": {
        "id": "as34fpRCnHuP",
        "colab_type": "code",
        "colab": {}
      },
      "source": [
        "#len(rep_votes2)"
      ],
      "execution_count": 0,
      "outputs": []
    },
    {
      "cell_type": "code",
      "metadata": {
        "id": "jbUGKHhynvSL",
        "colab_type": "code",
        "outputId": "6ca63080-8c6a-406c-bf8d-a8a2987894b8",
        "colab": {
          "base_uri": "https://localhost:8080/",
          "height": 33
        }
      },
      "source": [
        "len(dem_votes)"
      ],
      "execution_count": 101,
      "outputs": [
        {
          "output_type": "execute_result",
          "data": {
            "text/plain": [
              "1335"
            ]
          },
          "metadata": {
            "tags": []
          },
          "execution_count": 101
        }
      ]
    },
    {
      "cell_type": "code",
      "metadata": {
        "id": "MTSFRyztoRAe",
        "colab_type": "code",
        "colab": {}
      },
      "source": [
        "#checking again for NaN values\n",
        "rep_votes2 = [x for x in rep_votes if x != 'nan,']\n",
        "\n"
      ],
      "execution_count": 0,
      "outputs": []
    },
    {
      "cell_type": "code",
      "metadata": {
        "id": "vt1rbozysVsh",
        "colab_type": "code",
        "colab": {}
      },
      "source": [
        "dem_votes_short = dem_votes [:1335]"
      ],
      "execution_count": 0,
      "outputs": []
    },
    {
      "cell_type": "code",
      "metadata": {
        "id": "GBb5wjZOrxkf",
        "colab_type": "code",
        "outputId": "bd296741-855d-4bb1-860b-3850ed4f112a",
        "colab": {
          "base_uri": "https://localhost:8080/",
          "height": 33
        }
      },
      "source": [
        "len(dem_votes_short)"
      ],
      "execution_count": 104,
      "outputs": [
        {
          "output_type": "execute_result",
          "data": {
            "text/plain": [
              "1335"
            ]
          },
          "metadata": {
            "tags": []
          },
          "execution_count": 104
        }
      ]
    },
    {
      "cell_type": "code",
      "metadata": {
        "id": "jVmHB9j6rzfF",
        "colab_type": "code",
        "colab": {}
      },
      "source": [
        ""
      ],
      "execution_count": 0,
      "outputs": []
    },
    {
      "cell_type": "code",
      "metadata": {
        "id": "geAVktcKbzi4",
        "colab_type": "code",
        "colab": {}
      },
      "source": [
        "votes_df = {'Democrats Voted':dem_votes_short,'Republicans Voted':rep_votes}\n",
        "\n",
        "votes_df = pd.DataFrame(votes_df, columns=['Democrats Voted','Republicans Voted'])\n"
      ],
      "execution_count": 0,
      "outputs": []
    },
    {
      "cell_type": "code",
      "metadata": {
        "id": "7wZZ92ygrf7c",
        "colab_type": "code",
        "outputId": "832d94d5-6ad1-49c5-91b3-0f9f17a48d62",
        "colab": {
          "base_uri": "https://localhost:8080/",
          "height": 196
        }
      },
      "source": [
        "votes_df.head()"
      ],
      "execution_count": 106,
      "outputs": [
        {
          "output_type": "execute_result",
          "data": {
            "text/html": [
              "<div>\n",
              "<style scoped>\n",
              "    .dataframe tbody tr th:only-of-type {\n",
              "        vertical-align: middle;\n",
              "    }\n",
              "\n",
              "    .dataframe tbody tr th {\n",
              "        vertical-align: top;\n",
              "    }\n",
              "\n",
              "    .dataframe thead th {\n",
              "        text-align: right;\n",
              "    }\n",
              "</style>\n",
              "<table border=\"1\" class=\"dataframe\">\n",
              "  <thead>\n",
              "    <tr style=\"text-align: right;\">\n",
              "      <th></th>\n",
              "      <th>Democrats Voted</th>\n",
              "      <th>Republicans Voted</th>\n",
              "    </tr>\n",
              "  </thead>\n",
              "  <tbody>\n",
              "    <tr>\n",
              "      <th>0</th>\n",
              "      <td>0.0</td>\n",
              "      <td>NaN</td>\n",
              "    </tr>\n",
              "    <tr>\n",
              "      <th>1</th>\n",
              "      <td>0.0</td>\n",
              "      <td>0.0</td>\n",
              "    </tr>\n",
              "    <tr>\n",
              "      <th>2</th>\n",
              "      <td>0.0</td>\n",
              "      <td>0.0</td>\n",
              "    </tr>\n",
              "    <tr>\n",
              "      <th>3</th>\n",
              "      <td>0.0</td>\n",
              "      <td>0.0</td>\n",
              "    </tr>\n",
              "    <tr>\n",
              "      <th>4</th>\n",
              "      <td>0.0</td>\n",
              "      <td>1.0</td>\n",
              "    </tr>\n",
              "  </tbody>\n",
              "</table>\n",
              "</div>"
            ],
            "text/plain": [
              "   Democrats Voted  Republicans Voted\n",
              "0              0.0                NaN\n",
              "1              0.0                0.0\n",
              "2              0.0                0.0\n",
              "3              0.0                0.0\n",
              "4              0.0                1.0"
            ]
          },
          "metadata": {
            "tags": []
          },
          "execution_count": 106
        }
      ]
    },
    {
      "cell_type": "code",
      "metadata": {
        "id": "0f5qdEkRjRdd",
        "colab_type": "code",
        "colab": {}
      },
      "source": [
        "votes_df2 = votes_df.dropna()"
      ],
      "execution_count": 0,
      "outputs": []
    },
    {
      "cell_type": "code",
      "metadata": {
        "id": "sXQLISMIjRtT",
        "colab_type": "code",
        "outputId": "9bcebd71-cd12-45bd-8870-da00fbee4fb1",
        "colab": {
          "base_uri": "https://localhost:8080/",
          "height": 33
        }
      },
      "source": [
        "votes_df2.shape"
      ],
      "execution_count": 108,
      "outputs": [
        {
          "output_type": "execute_result",
          "data": {
            "text/plain": [
              "(1235, 2)"
            ]
          },
          "metadata": {
            "tags": []
          },
          "execution_count": 108
        }
      ]
    },
    {
      "cell_type": "code",
      "metadata": {
        "id": "2_DUPSUFjRqh",
        "colab_type": "code",
        "colab": {}
      },
      "source": [
        ""
      ],
      "execution_count": 0,
      "outputs": []
    },
    {
      "cell_type": "code",
      "metadata": {
        "id": "LgjikBlyjRn_",
        "colab_type": "code",
        "colab": {}
      },
      "source": [
        ""
      ],
      "execution_count": 0,
      "outputs": []
    },
    {
      "cell_type": "code",
      "metadata": {
        "id": "F7lCZFZ-bzgl",
        "colab_type": "code",
        "colab": {}
      },
      "source": [
        ""
      ],
      "execution_count": 0,
      "outputs": []
    },
    {
      "cell_type": "code",
      "metadata": {
        "id": "C_Fneo72bzeW",
        "colab_type": "code",
        "colab": {}
      },
      "source": [
        ""
      ],
      "execution_count": 0,
      "outputs": []
    },
    {
      "cell_type": "markdown",
      "metadata": {
        "id": "410oeHJSmfig",
        "colab_type": "text"
      },
      "source": [
        "##4. Using hypothesis testing, find an issue where the difference between republicans and democrats has p > 0.1 (i.e. there may not be much of a difference)"
      ]
    },
    {
      "cell_type": "code",
      "metadata": {
        "id": "w5tdHxoKkDpn",
        "colab_type": "code",
        "outputId": "cd40b5f9-88a9-4f5d-963b-7333289f6823",
        "colab": {
          "base_uri": "https://localhost:8080/",
          "height": 67
        }
      },
      "source": [
        "print(ttest_ind(rep['water-project'], dem['water-project'], nan_policy='omit'))\n",
        "print(rep['water-project'].mean(), 'Republican mean')\n",
        "print(dem['water-project'].mean(), 'Democratic mean')"
      ],
      "execution_count": 109,
      "outputs": [
        {
          "output_type": "stream",
          "text": [
            "Ttest_indResult(statistic=0.08896538137868286, pvalue=0.9291556823993485)\n",
            "0.5067567567567568 Republican mean\n",
            "0.502092050209205 Democratic mean\n"
          ],
          "name": "stdout"
        }
      ]
    },
    {
      "cell_type": "markdown",
      "metadata": {
        "id": "lFQZFfN8s4Dw",
        "colab_type": "text"
      },
      "source": [
        "Here the pvalue above .5, indicates a similarity between the two means compared.\n",
        "I think: The null hypothesis is that they are not different, and the result showing that they are very similar falls in the catagory of failing to disprove (the null hypothesis) that they are different (a.k.a. this is evidence that they are similar).\n",
        "\n",
        "And the T value being near 0 shows they are similar...\n",
        "\n",
        "Ttest_indResult(statistic=0.08896538137868286, pvalue=0.9291556823993485)\n",
        "0.5067567567567568 Republican mean\n",
        "0.502092050209205 Democratic mean"
      ]
    },
    {
      "cell_type": "code",
      "metadata": {
        "id": "DX-GSdrw7ftv",
        "colab_type": "code",
        "colab": {}
      },
      "source": [
        ""
      ],
      "execution_count": 0,
      "outputs": []
    },
    {
      "cell_type": "code",
      "metadata": {
        "id": "2-fQYwN5P85q",
        "colab_type": "code",
        "colab": {}
      },
      "source": [
        ""
      ],
      "execution_count": 0,
      "outputs": []
    },
    {
      "cell_type": "code",
      "metadata": {
        "id": "3C9Nol16P88D",
        "colab_type": "code",
        "colab": {}
      },
      "source": [
        ""
      ],
      "execution_count": 0,
      "outputs": []
    },
    {
      "cell_type": "code",
      "metadata": {
        "id": "dL3j9HG0mfSh",
        "colab_type": "code",
        "outputId": "6155e619-9f2b-46bc-a756-d42353a6a369",
        "colab": {
          "base_uri": "https://localhost:8080/",
          "height": 67
        }
      },
      "source": [
        "print(ttest_ind(rep['religious-groups'], dem['religious-groups'], nan_policy='omit'))\n",
        "print(rep['religious-groups'].mean(), 'Republican mean')\n",
        "print(dem['religious-groups'].mean(), 'Democratic mean')"
      ],
      "execution_count": 110,
      "outputs": [
        {
          "output_type": "stream",
          "text": [
            "Ttest_indResult(statistic=9.737575825219457, pvalue=2.3936722520597287e-20)\n",
            "0.8975903614457831 Republican mean\n",
            "0.47674418604651164 Democratic mean\n"
          ],
          "name": "stdout"
        }
      ]
    },
    {
      "cell_type": "markdown",
      "metadata": {
        "id": "YoT0ZhI5u8q3",
        "colab_type": "text"
      },
      "source": [
        "Due to our test resulting in a T-Statistic of 9.737575825219457 and a P-value of 2.3936722520597287e-20: we reject the null hypothesis that the two vote means are not different.\n",
        "\n",
        "Here the small pvalue below .5, indicates a lack of similarity between the two means compared.\n",
        "I think: The null hypothesis is that they are not different, and the result showing that they are different means strongly rejecting (the null hypothesis) that they are not different (a.k.a. this is evidence that they are are different (in a way beyond mere change result).\n",
        "\n",
        "Ttest_indResult(statistic=9.737575825219457, pvalue=2.3936722520597287e-20)\n",
        "0.8975903614457831 Republican mean\n",
        "0.47674418604651164 Democratic mean"
      ]
    },
    {
      "cell_type": "markdown",
      "metadata": {
        "id": "N2dlmrroQw_4",
        "colab_type": "text"
      },
      "source": [
        "As for representation, this may be indirect, but I like the way it shows how when values are comparable and the difference is samll, the p value is high (e.g. the similarity could be by chance since there is not much difference, or any distinction would be 'noisy'), whereas when the difference is large and clear the p-value is small. So in terms of confidence: low confidence when distinctions are unclear, and high confidence when distinctions are clear.  "
      ]
    },
    {
      "cell_type": "code",
      "metadata": {
        "id": "2DrG1g78Qv0R",
        "colab_type": "code",
        "outputId": "6fd054a4-fab0-4c45-c5c9-f2c24e0734c9",
        "colab": {
          "base_uri": "https://localhost:8080/",
          "height": 283
        }
      },
      "source": [
        "#import matplotlib.pyplot as plt\n",
        "y1 = rep['water-project'].dropna()\n",
        "y2 = dem['water-project'].dropna()\n",
        "\n",
        "fix, ax = plt.subplots()\n",
        "for sample in [y1, y2]:\n",
        "  sns.distplot(sample)"
      ],
      "execution_count": 111,
      "outputs": [
        {
          "output_type": "display_data",
          "data": {
            "image/png": "[encoded data removed]",
            "text/plain": [
              "<Figure size 432x288 with 1 Axes>"
            ]
          },
          "metadata": {
            "tags": []
          }
        }
      ]
    },
    {
      "cell_type": "code",
      "metadata": {
        "id": "szUPKspu7XYW",
        "colab_type": "code",
        "outputId": "dc2445b6-7b0c-4097-9a37-291299d4c193",
        "colab": {
          "base_uri": "https://localhost:8080/",
          "height": 283
        }
      },
      "source": [
        "#import matplotlib.pyplot as plt\n",
        "y1 = rep['religious-groups'].dropna()\n",
        "y2 = dem['religious-groups'].dropna()\n",
        "\n",
        "fix, ax = plt.subplots()\n",
        "for sample in [y1, y2]:\n",
        "  sns.distplot(sample)"
      ],
      "execution_count": 112,
      "outputs": [
        {
          "output_type": "display_data",
          "data": {
            "image/png": "[encoded data removed]",
            "text/plain": [
              "<Figure size 432x288 with 1 Axes>"
            ]
          },
          "metadata": {
            "tags": []
          }
        }
      ]
    },
    {
      "cell_type": "code",
      "metadata": {
        "id": "Sv9rGP_9P8-U",
        "colab_type": "code",
        "colab": {}
      },
      "source": [
        ""
      ],
      "execution_count": 0,
      "outputs": []
    },
    {
      "cell_type": "code",
      "metadata": {
        "id": "miH1purESKOx",
        "colab_type": "code",
        "outputId": "ad46341e-9e15-4902-c0ed-9cafa512a739",
        "colab": {
          "base_uri": "https://localhost:8080/",
          "height": 283
        }
      },
      "source": [
        "#import matplotlib.pyplot as plt\n",
        "y1 = votes_df2['Democrats Voted']\n",
        "y2 = votes_df2['Republicans Voted']\n",
        "\n",
        "fix, ax = plt.subplots()\n",
        "for sample in [y1, y2]:\n",
        "  sns.distplot(sample)"
      ],
      "execution_count": 113,
      "outputs": [
        {
          "output_type": "display_data",
          "data": {
            "image/png": "[encoded data removed]",
            "text/plain": [
              "<Figure size 432x288 with 1 Axes>"
            ]
          },
          "metadata": {
            "tags": []
          }
        }
      ]
    },
    {
      "cell_type": "code",
      "metadata": {
        "id": "j1QwY5OJP9A2",
        "colab_type": "code",
        "outputId": "f20bb0bf-5caa-49f8-c81b-c0481f709671",
        "colab": {
          "base_uri": "https://localhost:8080/",
          "height": 302
        }
      },
      "source": [
        "#import matplotlib.pyplot as plt\n",
        "y1 = conf_int(votes_df2['Democrats Voted'])\n",
        "y2 = conf_int(votes_df2['Republicans Voted'])\n",
        "\n",
        "fix, ax = plt.subplots()\n",
        "for sample in [y1, y2]:\n",
        "  sns.distplot(sample)"
      ],
      "execution_count": 114,
      "outputs": [
        {
          "output_type": "stream",
          "text": [
            "0.02344340747360908\n",
            "0.023673617965976657\n"
          ],
          "name": "stdout"
        },
        {
          "output_type": "display_data",
          "data": {
            "image/png": "[encoded data removed]",
            "text/plain": [
              "<Figure size 432x288 with 1 Axes>"
            ]
          },
          "metadata": {
            "tags": []
          }
        }
      ]
    },
    {
      "cell_type": "code",
      "metadata": {
        "id": "5gX1fFDOP9FR",
        "colab_type": "code",
        "outputId": "c8ed3db0-3b03-4b87-adc8-efb4d70dea3d",
        "colab": {
          "base_uri": "https://localhost:8080/",
          "height": 50
        }
      },
      "source": [
        "conf_int(votes_df2['Democrats Voted'])"
      ],
      "execution_count": 115,
      "outputs": [
        {
          "output_type": "stream",
          "text": [
            "0.02344340747360908\n"
          ],
          "name": "stdout"
        },
        {
          "output_type": "execute_result",
          "data": {
            "text/plain": [
              "(0.7716599190283401, 0.748216511554731, 0.7951033265019491)"
            ]
          },
          "metadata": {
            "tags": []
          },
          "execution_count": 115
        }
      ]
    },
    {
      "cell_type": "code",
      "metadata": {
        "id": "eDwPV4L4vfW1",
        "colab_type": "code",
        "outputId": "d758b453-0c5a-495e-ec8b-0cf9774e29bf",
        "colab": {
          "base_uri": "https://localhost:8080/",
          "height": 50
        }
      },
      "source": [
        "conf_int(votes_df2['Republicans Voted'])"
      ],
      "execution_count": 116,
      "outputs": [
        {
          "output_type": "stream",
          "text": [
            "0.023673617965976657\n"
          ],
          "name": "stdout"
        },
        {
          "output_type": "execute_result",
          "data": {
            "text/plain": [
              "(0.23481781376518218, 0.21114419579920551, 0.25849143173115885)"
            ]
          },
          "metadata": {
            "tags": []
          },
          "execution_count": 116
        }
      ]
    },
    {
      "cell_type": "code",
      "metadata": {
        "id": "VCZJcdGaP9DY",
        "colab_type": "code",
        "colab": {}
      },
      "source": [
        ""
      ],
      "execution_count": 0,
      "outputs": []
    },
    {
      "cell_type": "markdown",
      "metadata": {
        "id": "eGODOZXC0ACc",
        "colab_type": "text"
      },
      "source": [
        "## For above, I am satisfied that the graph is meaningful, but I want to understand the numbers better.\n",
        "\n"
      ]
    },
    {
      "cell_type": "code",
      "metadata": {
        "id": "xjmzQj4fvrUv",
        "colab_type": "code",
        "colab": {}
      },
      "source": [
        ""
      ],
      "execution_count": 0,
      "outputs": []
    },
    {
      "cell_type": "code",
      "metadata": {
        "id": "eZ-NwWcbvrRy",
        "colab_type": "code",
        "colab": {}
      },
      "source": [
        ""
      ],
      "execution_count": 0,
      "outputs": []
    },
    {
      "cell_type": "markdown",
      "metadata": {
        "id": "VHSJBOBAFW8r",
        "colab_type": "text"
      },
      "source": [
        ""
      ]
    },
    {
      "cell_type": "code",
      "metadata": {
        "id": "kzNOaOJZAkA0",
        "colab_type": "code",
        "colab": {}
      },
      "source": [
        ""
      ],
      "execution_count": 0,
      "outputs": []
    },
    {
      "cell_type": "code",
      "metadata": {
        "id": "fd-ytodqAkDh",
        "colab_type": "code",
        "colab": {}
      },
      "source": [
        ""
      ],
      "execution_count": 0,
      "outputs": []
    },
    {
      "cell_type": "markdown",
      "metadata": {
        "id": "e5JRU3ppz5l7",
        "colab_type": "text"
      },
      "source": [
        ""
      ]
    },
    {
      "cell_type": "code",
      "metadata": {
        "id": "EMnQmRyhz14m",
        "colab_type": "code",
        "colab": {}
      },
      "source": [
        ""
      ],
      "execution_count": 0,
      "outputs": []
    },
    {
      "cell_type": "markdown",
      "metadata": {
        "id": "9ZqZEsPZz2P7",
        "colab_type": "text"
      },
      "source": [
        "Chi Squared:\n"
      ]
    },
    {
      "cell_type": "code",
      "metadata": {
        "id": "JPr50n8K1lJf",
        "colab_type": "code",
        "colab": {}
      },
      "source": [
        ""
      ],
      "execution_count": 0,
      "outputs": []
    },
    {
      "cell_type": "code",
      "metadata": {
        "id": "SoSy6CJT1lIY",
        "colab_type": "code",
        "colab": {}
      },
      "source": [
        ""
      ],
      "execution_count": 0,
      "outputs": []
    },
    {
      "cell_type": "code",
      "metadata": {
        "id": "kqZ1XxIIcJ_Q",
        "colab_type": "code",
        "colab": {}
      },
      "source": [
        "expected = []\n",
        "for i in range(len(row_sums)):\n",
        "  expected_row = []\n",
        "  for column in col_sums:\n",
        "    expected_val = column*row_sums[i]/total\n",
        "    expected_row.append(expected_val)\n",
        "  expected.append(expected_row)\n",
        "  \n",
        "\n",
        "expected = np.array(expected)\n",
        "print(expected.shape)  \n",
        "print(expected)"
      ],
      "execution_count": 0,
      "outputs": []
    },
    {
      "cell_type": "code",
      "metadata": {
        "id": "nStwzmGI141o",
        "colab_type": "code",
        "colab": {}
      },
      "source": [
        ""
      ],
      "execution_count": 0,
      "outputs": []
    },
    {
      "cell_type": "code",
      "metadata": {
        "id": "4cH6GIlu1lFQ",
        "colab_type": "code",
        "colab": {}
      },
      "source": [
        ""
      ],
      "execution_count": 0,
      "outputs": []
    },
    {
      "cell_type": "code",
      "metadata": {
        "id": "rdgjVtsF1lCO",
        "colab_type": "code",
        "colab": {}
      },
      "source": [
        ""
      ],
      "execution_count": 0,
      "outputs": []
    },
    {
      "cell_type": "code",
      "metadata": {
        "id": "4uFSfB_pz13N",
        "colab_type": "code",
        "colab": {}
      },
      "source": [
        "# Array broadcasting will work with numpy arrays but not python lists\n",
        "chi_squared = ((observed - expected)**2/(expected)).sum() \n",
        "print(f\"Chi-Squared: {chi_squared}\")"
      ],
      "execution_count": 0,
      "outputs": []
    },
    {
      "cell_type": "markdown",
      "metadata": {
        "id": "WsXZajXxnKb2",
        "colab_type": "text"
      },
      "source": [
        "# \"one\" line"
      ]
    },
    {
      "cell_type": "code",
      "metadata": {
        "id": "55honCAlz1z2",
        "colab_type": "code",
        "colab": {
          "base_uri": "https://localhost:8080/",
          "height": 301
        },
        "outputId": "ac9ba53f-4033-451c-ba30-aeadfd6d76c5"
      },
      "source": [
        "observed = pd.crosstab(vote_means['Republicans'], vote_means['Democrats']).values\n",
        "print(observed.shape)\n",
        "observed"
      ],
      "execution_count": 118,
      "outputs": [
        {
          "output_type": "stream",
          "text": [
            "(16, 16)\n"
          ],
          "name": "stdout"
        },
        {
          "output_type": "execute_result",
          "data": {
            "text/plain": [
              "array([[0, 0, 0, 0, 0, 0, 0, 0, 0, 0, 1, 0, 0, 0, 0, 0],\n",
              "       [0, 0, 0, 0, 0, 0, 0, 0, 0, 0, 0, 1, 0, 0, 0, 0],\n",
              "       [0, 0, 0, 0, 0, 0, 0, 0, 1, 0, 0, 0, 0, 0, 0, 0],\n",
              "       [0, 0, 0, 0, 0, 0, 0, 0, 0, 0, 0, 0, 0, 0, 1, 0],\n",
              "       [0, 0, 0, 0, 0, 0, 0, 0, 0, 0, 0, 0, 0, 1, 0, 0],\n",
              "       [0, 0, 0, 0, 0, 0, 0, 0, 0, 1, 0, 0, 0, 0, 0, 0],\n",
              "       [0, 0, 0, 0, 0, 0, 0, 0, 0, 0, 0, 0, 1, 0, 0, 0],\n",
              "       [0, 0, 0, 0, 0, 0, 0, 1, 0, 0, 0, 0, 0, 0, 0, 0],\n",
              "       [0, 0, 0, 0, 0, 1, 0, 0, 0, 0, 0, 0, 0, 0, 0, 0],\n",
              "       [0, 0, 0, 0, 0, 0, 0, 0, 0, 0, 0, 0, 0, 0, 0, 1],\n",
              "       [0, 0, 0, 1, 0, 0, 0, 0, 0, 0, 0, 0, 0, 0, 0, 0],\n",
              "       [0, 1, 0, 0, 0, 0, 0, 0, 0, 0, 0, 0, 0, 0, 0, 0],\n",
              "       [0, 0, 0, 0, 0, 0, 1, 0, 0, 0, 0, 0, 0, 0, 0, 0],\n",
              "       [0, 0, 1, 0, 0, 0, 0, 0, 0, 0, 0, 0, 0, 0, 0, 0],\n",
              "       [0, 0, 0, 0, 1, 0, 0, 0, 0, 0, 0, 0, 0, 0, 0, 0],\n",
              "       [1, 0, 0, 0, 0, 0, 0, 0, 0, 0, 0, 0, 0, 0, 0, 0]])"
            ]
          },
          "metadata": {
            "tags": []
          },
          "execution_count": 118
        }
      ]
    },
    {
      "cell_type": "code",
      "metadata": {
        "id": "1KPE7_d6z1xz",
        "colab_type": "code",
        "colab": {
          "base_uri": "https://localhost:8080/",
          "height": 619
        },
        "outputId": "4fe83139-3f20-4afe-c023-b0e22226ac8b"
      },
      "source": [
        "chi_squared, p_value, dof, expected = stats.chi2_contingency(observed)\n",
        "\n",
        "print(f\"Chi-Squared: {chi_squared}\")\n",
        "print(f\"P-value: {p_value}\")\n",
        "print(f\"Degrees of Freedom: {dof}\") \n",
        "print(\"Expected: \\n\", np.array(expected))"
      ],
      "execution_count": 119,
      "outputs": [
        {
          "output_type": "stream",
          "text": [
            "Chi-Squared: 240.0\n",
            "P-value: 0.23476617325527255\n",
            "Degrees of Freedom: 225\n",
            "Expected: \n",
            " [[0.0625 0.0625 0.0625 0.0625 0.0625 0.0625 0.0625 0.0625 0.0625 0.0625\n",
            "  0.0625 0.0625 0.0625 0.0625 0.0625 0.0625]\n",
            " [0.0625 0.0625 0.0625 0.0625 0.0625 0.0625 0.0625 0.0625 0.0625 0.0625\n",
            "  0.0625 0.0625 0.0625 0.0625 0.0625 0.0625]\n",
            " [0.0625 0.0625 0.0625 0.0625 0.0625 0.0625 0.0625 0.0625 0.0625 0.0625\n",
            "  0.0625 0.0625 0.0625 0.0625 0.0625 0.0625]\n",
            " [0.0625 0.0625 0.0625 0.0625 0.0625 0.0625 0.0625 0.0625 0.0625 0.0625\n",
            "  0.0625 0.0625 0.0625 0.0625 0.0625 0.0625]\n",
            " [0.0625 0.0625 0.0625 0.0625 0.0625 0.0625 0.0625 0.0625 0.0625 0.0625\n",
            "  0.0625 0.0625 0.0625 0.0625 0.0625 0.0625]\n",
            " [0.0625 0.0625 0.0625 0.0625 0.0625 0.0625 0.0625 0.0625 0.0625 0.0625\n",
            "  0.0625 0.0625 0.0625 0.0625 0.0625 0.0625]\n",
            " [0.0625 0.0625 0.0625 0.0625 0.0625 0.0625 0.0625 0.0625 0.0625 0.0625\n",
            "  0.0625 0.0625 0.0625 0.0625 0.0625 0.0625]\n",
            " [0.0625 0.0625 0.0625 0.0625 0.0625 0.0625 0.0625 0.0625 0.0625 0.0625\n",
            "  0.0625 0.0625 0.0625 0.0625 0.0625 0.0625]\n",
            " [0.0625 0.0625 0.0625 0.0625 0.0625 0.0625 0.0625 0.0625 0.0625 0.0625\n",
            "  0.0625 0.0625 0.0625 0.0625 0.0625 0.0625]\n",
            " [0.0625 0.0625 0.0625 0.0625 0.0625 0.0625 0.0625 0.0625 0.0625 0.0625\n",
            "  0.0625 0.0625 0.0625 0.0625 0.0625 0.0625]\n",
            " [0.0625 0.0625 0.0625 0.0625 0.0625 0.0625 0.0625 0.0625 0.0625 0.0625\n",
            "  0.0625 0.0625 0.0625 0.0625 0.0625 0.0625]\n",
            " [0.0625 0.0625 0.0625 0.0625 0.0625 0.0625 0.0625 0.0625 0.0625 0.0625\n",
            "  0.0625 0.0625 0.0625 0.0625 0.0625 0.0625]\n",
            " [0.0625 0.0625 0.0625 0.0625 0.0625 0.0625 0.0625 0.0625 0.0625 0.0625\n",
            "  0.0625 0.0625 0.0625 0.0625 0.0625 0.0625]\n",
            " [0.0625 0.0625 0.0625 0.0625 0.0625 0.0625 0.0625 0.0625 0.0625 0.0625\n",
            "  0.0625 0.0625 0.0625 0.0625 0.0625 0.0625]\n",
            " [0.0625 0.0625 0.0625 0.0625 0.0625 0.0625 0.0625 0.0625 0.0625 0.0625\n",
            "  0.0625 0.0625 0.0625 0.0625 0.0625 0.0625]\n",
            " [0.0625 0.0625 0.0625 0.0625 0.0625 0.0625 0.0625 0.0625 0.0625 0.0625\n",
            "  0.0625 0.0625 0.0625 0.0625 0.0625 0.0625]]\n"
          ],
          "name": "stdout"
        }
      ]
    },
    {
      "cell_type": "markdown",
      "metadata": {
        "id": "4ohsJhQUmEuS",
        "colab_type": "text"
      },
      "source": [
        "## Stretch goals:\n",
        "\n",
        "1. Write a summary of your findings, mixing prose and math/code/results. *Note* - yes, this is by definition a political topic. It is challenging but important to keep your writing voice *neutral* and stick to the facts of the data. Data science often involves considering controversial issues, so it's important to be sensitive about them (especially if you want to publish).\n",
        "2. Apply the techniques you learned today to your project data or other data of your choice, and write/discuss your findings here.\n",
        "3. Refactor your code so it is elegant, readable, and can be easily run for all issues."
      ]
    },
    {
      "cell_type": "markdown",
      "metadata": {
        "id": "nyJ3ySr7R2k9",
        "colab_type": "text"
      },
      "source": [
        "## Resources\n",
        "\n",
        "- [Interactive visualize the Chi-Squared test](https://homepage.divms.uiowa.edu/~mbognar/applets/chisq.html)\n",
        "- [Calculation of Chi-Squared test statistic](https://en.wikipedia.org/wiki/Pearson%27s_chi-squared_test)\n",
        "- [Visualization of a confidence interval generated by R code](https://commons.wikimedia.org/wiki/File:Confidence-interval.svg)\n",
        "- [Expected value of a squared standard normal](https://math.stackexchange.com/questions/264061/expected-value-calculation-for-squared-normal-distribution) (it's 1 - which is why the expected value of a Chi-Squared with $n$ degrees of freedom is $n$, as it's the sum of $n$ squared standard normals)"
      ]
    },
    {
      "cell_type": "markdown",
      "metadata": {
        "id": "TWj4Es_EjyTF",
        "colab_type": "text"
      },
      "source": [
        "ToDo:\n",
        "Add more features, labels and sources to graphs (no time)\n"
      ]
    }
  ]
}