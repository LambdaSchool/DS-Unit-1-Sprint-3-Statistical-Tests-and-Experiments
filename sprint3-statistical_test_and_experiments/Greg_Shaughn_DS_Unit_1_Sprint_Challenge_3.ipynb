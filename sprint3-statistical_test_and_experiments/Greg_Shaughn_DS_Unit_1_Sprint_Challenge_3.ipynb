{
  "nbformat": 4,
  "nbformat_minor": 0,
  "metadata": {
    "colab": {
      "name": "Greg_Shaughn_DS_Unit_1_Sprint_Challenge_3.ipynb",
      "version": "0.3.2",
      "provenance": [],
      "collapsed_sections": [],
      "include_colab_link": true
    },
    "kernelspec": {
      "name": "python3",
      "display_name": "Python 3"
    }
  },
  "cells": [
    {
      "cell_type": "markdown",
      "metadata": {
        "id": "view-in-github",
        "colab_type": "text"
      },
      "source": [
        "<a href=\"https://colab.research.google.com/github/grommitt/DS-Unit-1-Sprint-4-Statistical-Tests-and-Experiments/blob/master/sprint3-statistical_test_and_experiments/Greg_Shaughn_DS_Unit_1_Sprint_Challenge_3.ipynb\" target=\"_parent\"><img src=\"https://colab.research.google.com/assets/colab-badge.svg\" alt=\"Open In Colab\"/></a>"
      ]
    },
    {
      "cell_type": "markdown",
      "metadata": {
        "id": "NooAiTdnafkz",
        "colab_type": "text"
      },
      "source": [
        "# Data Science Unit 1 Sprint Challenge 4\n",
        "\n",
        "## Exploring Data, Testing Hypotheses\n",
        "\n",
        "In this sprint challenge you will look at a dataset of people being approved or rejected for credit.\n",
        "\n",
        "https://archive.ics.uci.edu/ml/datasets/Credit+Approval\n",
        "\n",
        "Data Set Information: This file concerns credit card applications. All attribute names and values have been changed to meaningless symbols to protect confidentiality of the data. This dataset is interesting because there is a good mix of attributes -- continuous, nominal with small numbers of values, and nominal with larger numbers of values. There are also a few missing values.\n",
        "\n",
        "Attribute Information:\n",
        "- A1: b, a.\n",
        "- A2: continuous.\n",
        "- A3: continuous.\n",
        "- A4: u, y, l, t.\n",
        "- A5: g, p, gg.\n",
        "- A6: c, d, cc, i, j, k, m, r, q, w, x, e, aa, ff.\n",
        "- A7: v, h, bb, j, n, z, dd, ff, o.\n",
        "- A8: continuous.\n",
        "- A9: t, f.\n",
        "- A10: t, f.\n",
        "- A11: continuous.\n",
        "- A12: t, f.\n",
        "- A13: g, p, s.\n",
        "- A14: continuous.\n",
        "- A15: continuous.\n",
        "- A16: +,- (class attribute)\n",
        "\n",
        "Yes, most of that doesn't mean anything. A16 (the class attribute) is the most interesting, as it separates the 307 approved cases from the 383 rejected cases. The remaining variables have been obfuscated for privacy - a challenge you may have to deal with in your data science career.\n",
        "\n",
        "Sprint challenges are evaluated based on satisfactory completion of each part. It is suggested you work through it in order, getting each aspect reasonably working, before trying to deeply explore, iterate, or refine any given step. Once you get to the end, if you want to go back and improve things, go for it!"
      ]
    },
    {
      "cell_type": "markdown",
      "metadata": {
        "id": "5wch6ksCbJtZ",
        "colab_type": "text"
      },
      "source": [
        "## Part 1 - Load and validate the data\n",
        "\n",
        "- Load the data as a `pandas` data frame.\n",
        "- Validate that it has the appropriate number of observations (you can check the raw file, and also read the dataset description from UCI).\n",
        "- UCI says there should be missing data - check, and if necessary change the data so pandas recognizes it as na\n",
        "- Make sure that the loaded features are of the types described above (continuous values should be treated as float), and correct as necessary\n",
        "\n",
        "This is review, but skills that you'll use at the start of any data exploration. Further, you may have to do some investigation to figure out which file to load from - that is part of the puzzle."
      ]
    },
    {
      "cell_type": "markdown",
      "metadata": {
        "id": "UPyLkPs4iUyY",
        "colab_type": "text"
      },
      "source": [
        "####Load the data as a pandas data frame."
      ]
    },
    {
      "cell_type": "code",
      "metadata": {
        "id": "Q79xDLckzibS",
        "colab_type": "code",
        "colab": {
          "base_uri": "https://localhost:8080/",
          "height": 212
        },
        "outputId": "99c45ff4-5109-49eb-f043-fb815519b755"
      },
      "source": [
        "# TODO\n",
        "import pandas as pd\n",
        "import numpy as np\n",
        "\n",
        "# header=None fixes the amount of observations issue.\n",
        "# 690 observations\n",
        "df = pd.read_csv('https://archive.ics.uci.edu/ml/machine-learning-databases/credit-screening/crx.data', \n",
        "                 header=None)\n",
        "\n",
        "#add column names for easy identification\n",
        "df.columns=['A1','A2','A3','A4','A5','A6','A7','A8','A9','A10','A11','A12',\n",
        "            'A13','A14','A15','A16']\n",
        "\n",
        "# replacing the question marks with np.NaN allows missing data to be recognized\n",
        "# as na\n",
        "df.replace('?', np.NaN, inplace=True)\n",
        "print(df.shape)\n",
        "df.head()"
      ],
      "execution_count": 2,
      "outputs": [
        {
          "output_type": "stream",
          "text": [
            "(690, 16)\n"
          ],
          "name": "stdout"
        },
        {
          "output_type": "execute_result",
          "data": {
            "text/html": [
              "<div>\n",
              "<style scoped>\n",
              "    .dataframe tbody tr th:only-of-type {\n",
              "        vertical-align: middle;\n",
              "    }\n",
              "\n",
              "    .dataframe tbody tr th {\n",
              "        vertical-align: top;\n",
              "    }\n",
              "\n",
              "    .dataframe thead th {\n",
              "        text-align: right;\n",
              "    }\n",
              "</style>\n",
              "<table border=\"1\" class=\"dataframe\">\n",
              "  <thead>\n",
              "    <tr style=\"text-align: right;\">\n",
              "      <th></th>\n",
              "      <th>A1</th>\n",
              "      <th>A2</th>\n",
              "      <th>A3</th>\n",
              "      <th>A4</th>\n",
              "      <th>A5</th>\n",
              "      <th>A6</th>\n",
              "      <th>A7</th>\n",
              "      <th>A8</th>\n",
              "      <th>A9</th>\n",
              "      <th>A10</th>\n",
              "      <th>A11</th>\n",
              "      <th>A12</th>\n",
              "      <th>A13</th>\n",
              "      <th>A14</th>\n",
              "      <th>A15</th>\n",
              "      <th>A16</th>\n",
              "    </tr>\n",
              "  </thead>\n",
              "  <tbody>\n",
              "    <tr>\n",
              "      <th>0</th>\n",
              "      <td>b</td>\n",
              "      <td>30.83</td>\n",
              "      <td>0.000</td>\n",
              "      <td>u</td>\n",
              "      <td>g</td>\n",
              "      <td>w</td>\n",
              "      <td>v</td>\n",
              "      <td>1.25</td>\n",
              "      <td>t</td>\n",
              "      <td>t</td>\n",
              "      <td>1</td>\n",
              "      <td>f</td>\n",
              "      <td>g</td>\n",
              "      <td>00202</td>\n",
              "      <td>0</td>\n",
              "      <td>+</td>\n",
              "    </tr>\n",
              "    <tr>\n",
              "      <th>1</th>\n",
              "      <td>a</td>\n",
              "      <td>58.67</td>\n",
              "      <td>4.460</td>\n",
              "      <td>u</td>\n",
              "      <td>g</td>\n",
              "      <td>q</td>\n",
              "      <td>h</td>\n",
              "      <td>3.04</td>\n",
              "      <td>t</td>\n",
              "      <td>t</td>\n",
              "      <td>6</td>\n",
              "      <td>f</td>\n",
              "      <td>g</td>\n",
              "      <td>00043</td>\n",
              "      <td>560</td>\n",
              "      <td>+</td>\n",
              "    </tr>\n",
              "    <tr>\n",
              "      <th>2</th>\n",
              "      <td>a</td>\n",
              "      <td>24.50</td>\n",
              "      <td>0.500</td>\n",
              "      <td>u</td>\n",
              "      <td>g</td>\n",
              "      <td>q</td>\n",
              "      <td>h</td>\n",
              "      <td>1.50</td>\n",
              "      <td>t</td>\n",
              "      <td>f</td>\n",
              "      <td>0</td>\n",
              "      <td>f</td>\n",
              "      <td>g</td>\n",
              "      <td>00280</td>\n",
              "      <td>824</td>\n",
              "      <td>+</td>\n",
              "    </tr>\n",
              "    <tr>\n",
              "      <th>3</th>\n",
              "      <td>b</td>\n",
              "      <td>27.83</td>\n",
              "      <td>1.540</td>\n",
              "      <td>u</td>\n",
              "      <td>g</td>\n",
              "      <td>w</td>\n",
              "      <td>v</td>\n",
              "      <td>3.75</td>\n",
              "      <td>t</td>\n",
              "      <td>t</td>\n",
              "      <td>5</td>\n",
              "      <td>t</td>\n",
              "      <td>g</td>\n",
              "      <td>00100</td>\n",
              "      <td>3</td>\n",
              "      <td>+</td>\n",
              "    </tr>\n",
              "    <tr>\n",
              "      <th>4</th>\n",
              "      <td>b</td>\n",
              "      <td>20.17</td>\n",
              "      <td>5.625</td>\n",
              "      <td>u</td>\n",
              "      <td>g</td>\n",
              "      <td>w</td>\n",
              "      <td>v</td>\n",
              "      <td>1.71</td>\n",
              "      <td>t</td>\n",
              "      <td>f</td>\n",
              "      <td>0</td>\n",
              "      <td>f</td>\n",
              "      <td>s</td>\n",
              "      <td>00120</td>\n",
              "      <td>0</td>\n",
              "      <td>+</td>\n",
              "    </tr>\n",
              "  </tbody>\n",
              "</table>\n",
              "</div>"
            ],
            "text/plain": [
              "  A1     A2     A3 A4 A5 A6 A7    A8 A9 A10  A11 A12 A13    A14  A15 A16\n",
              "0  b  30.83  0.000  u  g  w  v  1.25  t   t    1   f   g  00202    0   +\n",
              "1  a  58.67  4.460  u  g  q  h  3.04  t   t    6   f   g  00043  560   +\n",
              "2  a  24.50  0.500  u  g  q  h  1.50  t   f    0   f   g  00280  824   +\n",
              "3  b  27.83  1.540  u  g  w  v  3.75  t   t    5   t   g  00100    3   +\n",
              "4  b  20.17  5.625  u  g  w  v  1.71  t   f    0   f   s  00120    0   +"
            ]
          },
          "metadata": {
            "tags": []
          },
          "execution_count": 2
        }
      ]
    },
    {
      "cell_type": "code",
      "metadata": {
        "id": "V5bTJ879jxKj",
        "colab_type": "code",
        "colab": {}
      },
      "source": [
        "df.isnull().sum()"
      ],
      "execution_count": 0,
      "outputs": []
    },
    {
      "cell_type": "markdown",
      "metadata": {
        "id": "GVPdouGbj8tX",
        "colab_type": "text"
      },
      "source": [
        "####Make sure that the loaded features are of the types described above (continuous values should be treated as float), and correct as necessary"
      ]
    },
    {
      "cell_type": "code",
      "metadata": {
        "id": "fqETT5zTjzgk",
        "colab_type": "code",
        "colab": {}
      },
      "source": [
        "df.dtypes"
      ],
      "execution_count": 0,
      "outputs": []
    },
    {
      "cell_type": "code",
      "metadata": {
        "id": "ECpOdKy5j2KA",
        "colab_type": "code",
        "colab": {}
      },
      "source": [
        "df['A2'] = df['A2'].astype(float)\n",
        "df['A11'] = df['A11'].astype(float)\n",
        "df['A14'] = df['A11'].astype(float)\n",
        "df['A15'] = df['A11'].astype(float)\n",
        "df.dtypes"
      ],
      "execution_count": 0,
      "outputs": []
    },
    {
      "cell_type": "markdown",
      "metadata": {
        "id": "G7rLytbrO38L",
        "colab_type": "text"
      },
      "source": [
        "## Part 2 - Exploring data, Testing hypotheses\n",
        "\n",
        "The only thing we really know about this data is that A16 is the class label. Besides that, we have 6 continuous (float) features and 9 categorical features.\n",
        "\n",
        "Explore the data: you can use whatever approach (tables, utility functions, visualizations) to get an impression of the distributions and relationships of the variables. In general, your goal is to understand how the features are different when grouped by the two class labels (`+` and `-`).\n",
        "\n",
        "For the 6 continuous features, how are they different when split between the two class labels? Choose two features to run t-tests (again split by class label) - specifically, select one feature that is *extremely* different between the classes, and another feature that is notably less different (though perhaps still \"statistically significantly\" different). You may have to explore more than two features to do this.\n",
        "\n",
        "For the categorical features, explore by creating \"cross tabs\" (aka [contingency tables](https://en.wikipedia.org/wiki/Contingency_table)) between them and the class label, and apply the Chi-squared test to them. [pandas.crosstab](http://pandas.pydata.org/pandas-docs/stable/reference/api/pandas.crosstab.html) can create contingency tables, and [scipy.stats.chi2_contingency](https://docs.scipy.org/doc/scipy/reference/generated/scipy.stats.chi2_contingency.html) can calculate the Chi-squared statistic for them.\n",
        "\n",
        "There are 9 categorical features - as with the t-test, try to find one where the Chi-squared test returns an extreme result (rejecting the null that the data are independent), and one where it is less extreme.\n",
        "\n",
        "**NOTE** - \"less extreme\" just means smaller test statistic/larger p-value. Even the least extreme differences may be strongly statistically significant.\n",
        "\n",
        "Your *main* goal is the hypothesis tests, so don't spend too much time on the exploration/visualization piece. That is just a means to an end - use simple visualizations, such as boxplots or a scatter matrix (both built in to pandas), to get a feel for the overall distribution of the variables.\n",
        "\n",
        "This is challenging, so manage your time and aim for a baseline of at least running two t-tests and two Chi-squared tests before polishing. And don't forget to answer the questions in part 3, even if your results in this part aren't what you want them to be."
      ]
    },
    {
      "cell_type": "markdown",
      "metadata": {
        "id": "CxAmxx_zkH_V",
        "colab_type": "text"
      },
      "source": [
        "#### Explore the data: you can use whatever approach (tables, utility functions, visualizations) to get an impression of the distributions and relationships of the variables. In general, your goal is to understand how the features are different when grouped by the two class labels (+ and -)."
      ]
    },
    {
      "cell_type": "code",
      "metadata": {
        "id": "_nqcgc0yzm68",
        "colab_type": "code",
        "colab": {}
      },
      "source": [
        "df['A1'].value_counts()"
      ],
      "execution_count": 0,
      "outputs": []
    },
    {
      "cell_type": "code",
      "metadata": {
        "id": "BjhJbxBPkTGx",
        "colab_type": "code",
        "colab": {}
      },
      "source": [
        "df['A16'].value_counts()\n",
        "df['A16'].describe()"
      ],
      "execution_count": 0,
      "outputs": []
    },
    {
      "cell_type": "code",
      "metadata": {
        "id": "YQ0YG3ztkWCS",
        "colab_type": "code",
        "colab": {}
      },
      "source": [
        "a1ct = pd.crosstab(df['A1'], df['A16'])\n",
        "a1ct"
      ],
      "execution_count": 0,
      "outputs": []
    },
    {
      "cell_type": "code",
      "metadata": {
        "id": "OcR9kCCMkZcs",
        "colab_type": "code",
        "colab": {}
      },
      "source": [
        "a2ct = pd.crosstab(df['A2'], df['A16'])\n",
        "a2ct\n",
        "df['A2'].value_counts()\n",
        "df['A2'].describe()"
      ],
      "execution_count": 0,
      "outputs": []
    },
    {
      "cell_type": "code",
      "metadata": {
        "id": "YuaXBAORkbRd",
        "colab_type": "code",
        "colab": {}
      },
      "source": [
        "df['A3'].value_counts()\n",
        "df['A3'].describe()"
      ],
      "execution_count": 0,
      "outputs": []
    },
    {
      "cell_type": "code",
      "metadata": {
        "id": "seTvLJaZkdWz",
        "colab_type": "code",
        "colab": {}
      },
      "source": [
        "df['A15'].value_counts()\n",
        "df['A15'].describe()"
      ],
      "execution_count": 0,
      "outputs": []
    },
    {
      "cell_type": "code",
      "metadata": {
        "id": "5sZAoze0kfeJ",
        "colab_type": "code",
        "colab": {}
      },
      "source": [
        "a15ct = pd.crosstab(df['A15'], df['A16'])\n",
        "a15ct"
      ],
      "execution_count": 0,
      "outputs": []
    },
    {
      "cell_type": "code",
      "metadata": {
        "id": "wk--6sPFkhll",
        "colab_type": "code",
        "colab": {}
      },
      "source": [
        "a13ct = pd.crosstab(df['A13'], df['A16'])\n",
        "a13ct"
      ],
      "execution_count": 0,
      "outputs": []
    },
    {
      "cell_type": "code",
      "metadata": {
        "id": "GUs60X32kkbK",
        "colab_type": "code",
        "colab": {}
      },
      "source": [
        "import seaborn as sns\n",
        "g = sns.pairplot(df, kind='reg', plot_kws={'line_kws':{'color':'red'}, 'scatter_kws': {'alpha': 0.1}})"
      ],
      "execution_count": 0,
      "outputs": []
    },
    {
      "cell_type": "code",
      "metadata": {
        "id": "VWvvKV6Nklh8",
        "colab_type": "code",
        "colab": {}
      },
      "source": [
        "positive = df[df['A16'] == '+']\n",
        "negative = df[df['A16'] == '-']\n",
        "positive.head()\n",
        "positive.describe()"
      ],
      "execution_count": 0,
      "outputs": []
    },
    {
      "cell_type": "code",
      "metadata": {
        "id": "MLv8XbKLkoku",
        "colab_type": "code",
        "colab": {}
      },
      "source": [
        "negative.describe()"
      ],
      "execution_count": 0,
      "outputs": []
    },
    {
      "cell_type": "markdown",
      "metadata": {
        "id": "_YPWnuF4kqwd",
        "colab_type": "text"
      },
      "source": [
        "#### For the 6 continuous features, how are they different when split between the two class labels? Choose two features to run t-tests (again split by class label) - specifically, select one feature that is extremely different between the classes, and another feature that is notably less different (though perhaps still \"statistically significantly\" different). You may have to explore more than two features to do this."
      ]
    },
    {
      "cell_type": "code",
      "metadata": {
        "id": "Qt-tmgY3k0ln",
        "colab_type": "code",
        "colab": {}
      },
      "source": [
        "from scipy import stats\n",
        "import seaborn as sns"
      ],
      "execution_count": 0,
      "outputs": []
    },
    {
      "cell_type": "markdown",
      "metadata": {
        "id": "Y9dwF-1Rk3vj",
        "colab_type": "text"
      },
      "source": [
        "*H0:* The means for a certain class will be the same between classes. Class does not affect the mean of a category.\n",
        "\n",
        "*Ha:* The means for a certain class will be different between classes. Class does affect the mean of a category."
      ]
    },
    {
      "cell_type": "code",
      "metadata": {
        "id": "jzqu0rpPk7a6",
        "colab_type": "code",
        "colab": {}
      },
      "source": [
        "a2_positive = positive['A2']\n",
        "a3_positive = positive['A3']\n",
        "a8_positive = positive['A8']\n",
        "a11_positive = positive['A11']\n",
        "a15_positive = positive['A15']\n",
        "a2_negative = negative['A2']\n",
        "a3_negative = negative['A3']\n",
        "a8_negative = negative['A8']\n",
        "a11_negative = negative['A11']\n",
        "a15_negative = negative['A15']"
      ],
      "execution_count": 0,
      "outputs": []
    },
    {
      "cell_type": "code",
      "metadata": {
        "id": "fq3-iUz2lEte",
        "colab_type": "code",
        "colab": {}
      },
      "source": [
        "a2_positive.describe()"
      ],
      "execution_count": 0,
      "outputs": []
    },
    {
      "cell_type": "code",
      "metadata": {
        "id": "Sdolz5KalGOU",
        "colab_type": "code",
        "colab": {}
      },
      "source": [
        "a15_positive.describe()"
      ],
      "execution_count": 0,
      "outputs": []
    },
    {
      "cell_type": "code",
      "metadata": {
        "id": "Cg0XakFslJVR",
        "colab_type": "code",
        "colab": {}
      },
      "source": [
        "# the first sample mean is higher than the second sample mean.\n",
        "# the means are different at the 95% confidence level\n",
        "stats.ttest_ind(a3_positive, a11_positive, nan_policy='omit')"
      ],
      "execution_count": 0,
      "outputs": []
    },
    {
      "cell_type": "code",
      "metadata": {
        "id": "JI1WjFYSlKMu",
        "colab_type": "code",
        "colab": {}
      },
      "source": [
        "# the mean of a3_positive is highest between these two\n",
        "# the means are different at the 95% confidence level\n",
        "stats.ttest_ind(a3_positive, a3_negative, nan_policy='omit')"
      ],
      "execution_count": 0,
      "outputs": []
    },
    {
      "cell_type": "code",
      "metadata": {
        "id": "sYb9CazolQvh",
        "colab_type": "code",
        "colab": {}
      },
      "source": [
        "a3_positive.describe()"
      ],
      "execution_count": 0,
      "outputs": []
    },
    {
      "cell_type": "code",
      "metadata": {
        "id": "1UUU0PezlTLN",
        "colab_type": "code",
        "colab": {}
      },
      "source": [
        "a3_negative.describe()"
      ],
      "execution_count": 0,
      "outputs": []
    },
    {
      "cell_type": "code",
      "metadata": {
        "id": "G-rk22TAlVg4",
        "colab_type": "code",
        "colab": {}
      },
      "source": [
        "# the mean of a3_positive is highest between these two\n",
        "# the means are different at the 95% confidence level\n",
        "stats.ttest_ind(a2_positive, a2_negative, nan_policy='omit')"
      ],
      "execution_count": 0,
      "outputs": []
    },
    {
      "cell_type": "code",
      "metadata": {
        "id": "R_hKUlqDlZTn",
        "colab_type": "code",
        "colab": {}
      },
      "source": [
        "a2_positive.describe()"
      ],
      "execution_count": 0,
      "outputs": []
    },
    {
      "cell_type": "code",
      "metadata": {
        "id": "oIvgXGg1laHG",
        "colab_type": "code",
        "colab": {}
      },
      "source": [
        "a2_negative.describe()"
      ],
      "execution_count": 0,
      "outputs": []
    },
    {
      "cell_type": "code",
      "metadata": {
        "id": "oYJxo7O7ldwF",
        "colab_type": "code",
        "colab": {}
      },
      "source": [
        "positive.hist()"
      ],
      "execution_count": 0,
      "outputs": []
    },
    {
      "cell_type": "code",
      "metadata": {
        "id": "BYUQIH9qlfUh",
        "colab_type": "code",
        "colab": {}
      },
      "source": [
        "negative.hist()"
      ],
      "execution_count": 0,
      "outputs": []
    },
    {
      "cell_type": "code",
      "metadata": {
        "id": "TeQ0H8zvlgxv",
        "colab_type": "code",
        "colab": {}
      },
      "source": [
        "a2_positive.plot()"
      ],
      "execution_count": 0,
      "outputs": []
    },
    {
      "cell_type": "code",
      "metadata": {
        "id": "xITZW1igliME",
        "colab_type": "code",
        "colab": {}
      },
      "source": [
        "a3_positive.plot()"
      ],
      "execution_count": 0,
      "outputs": []
    },
    {
      "cell_type": "code",
      "metadata": {
        "id": "t2GzQl7ulkU8",
        "colab_type": "code",
        "colab": {}
      },
      "source": [
        "a3_negative.plot()"
      ],
      "execution_count": 0,
      "outputs": []
    },
    {
      "cell_type": "code",
      "metadata": {
        "id": "QHtgbA1yll_s",
        "colab_type": "code",
        "colab": {}
      },
      "source": [
        "a2_negative.plot()"
      ],
      "execution_count": 0,
      "outputs": []
    },
    {
      "cell_type": "markdown",
      "metadata": {
        "id": "SMjRcizVlrNT",
        "colab_type": "text"
      },
      "source": [
        "#### For the categorical features, explore by creating \"cross tabs\" (aka contingency tables) between them and the class label, and apply the Chi-squared test to them. pandas.crosstab can create contingency tables, and scipy.stats.chi2_contingency can calculate the Chi-squared statistic for them."
      ]
    },
    {
      "cell_type": "markdown",
      "metadata": {
        "id": "rxZx9Hrsl447",
        "colab_type": "text"
      },
      "source": [
        "*H0:* A15 and A16 are independent. They have similar patterns by chance.\n",
        "\n",
        "*Ha:* A15 and A16 are not independent. They are directly related to each other."
      ]
    },
    {
      "cell_type": "code",
      "metadata": {
        "id": "V_xy-jycl4Kd",
        "colab_type": "code",
        "colab": {}
      },
      "source": [
        "df.corr()"
      ],
      "execution_count": 0,
      "outputs": []
    },
    {
      "cell_type": "code",
      "metadata": {
        "id": "FzunGcK2l-vV",
        "colab_type": "code",
        "colab": {}
      },
      "source": [
        "a15ct = pd.crosstab(df['A15'], df['A16'])\n",
        "a15_bin = pd.cut(df['A15'], 5)\n",
        "a15ct = pd.crosstab(a15_bin, df['A16'])\n",
        "a15ct"
      ],
      "execution_count": 0,
      "outputs": []
    },
    {
      "cell_type": "code",
      "metadata": {
        "id": "kCBPRtmymBpe",
        "colab_type": "code",
        "colab": {}
      },
      "source": [
        "a15ct.plot()"
      ],
      "execution_count": 0,
      "outputs": []
    },
    {
      "cell_type": "code",
      "metadata": {
        "id": "uZkYEjtYmFhu",
        "colab_type": "code",
        "colab": {}
      },
      "source": [
        "chi_squared, p_value, dof, expected = stats.chi2_contingency(a15ct)\n",
        "\n",
        "print(f\"Chi-Squared: {chi_squared}\")\n",
        "print(f\"P-value: {p_value}\")\n",
        "print(f\"Degrees of Freedom: {dof}\") \n",
        "print(\"Expected: \\n\", np.array(expected))"
      ],
      "execution_count": 0,
      "outputs": []
    },
    {
      "cell_type": "code",
      "metadata": {
        "id": "rlCrq4iTmJ9x",
        "colab_type": "code",
        "colab": {}
      },
      "source": [
        "# Calculate the p-value from the chi_squared and dof\n",
        "p_value = stats.chi2.sf(chi_squared, dof)\n",
        "print(f\"P-value: {p_value}\")"
      ],
      "execution_count": 0,
      "outputs": []
    },
    {
      "cell_type": "markdown",
      "metadata": {
        "id": "fr6TMOEEmM4s",
        "colab_type": "text"
      },
      "source": [
        "I reject the null hypothesis that A15 and A16 are indpendent."
      ]
    },
    {
      "cell_type": "code",
      "metadata": {
        "id": "-svLoXEvmPpt",
        "colab_type": "code",
        "colab": {}
      },
      "source": [
        "a2ct = pd.crosstab(df['A2'], df['A16'] )\n",
        "a2_bin = pd.cut(df['A2'], 5)\n",
        "a2ct = pd.crosstab(a2_bin, df['A16'] )\n",
        "a2ct"
      ],
      "execution_count": 0,
      "outputs": []
    },
    {
      "cell_type": "code",
      "metadata": {
        "id": "iAB8XGCrmVFZ",
        "colab_type": "code",
        "colab": {}
      },
      "source": [
        "a2ct.plot()"
      ],
      "execution_count": 0,
      "outputs": []
    },
    {
      "cell_type": "code",
      "metadata": {
        "id": "JiH-UpQgmXaz",
        "colab_type": "code",
        "colab": {}
      },
      "source": [
        "# less extreme\n",
        "chi_squared, p_value, dof, expected = stats.chi2_contingency(a2ct)\n",
        "\n",
        "print(f\"Chi-Squared: {chi_squared}\")\n",
        "print(f\"P-value: {p_value}\")\n",
        "print(f\"Degrees of Freedom: {dof}\") \n",
        "print(\"Expected: \\n\", np.array(expected))"
      ],
      "execution_count": 0,
      "outputs": []
    },
    {
      "cell_type": "code",
      "metadata": {
        "id": "r7LyChr1mZjr",
        "colab_type": "code",
        "colab": {}
      },
      "source": [
        "# Calculate the p-value from the chi_squared and dof\n",
        "p_value = stats.chi2.sf(chi_squared, dof)\n",
        "print(f\"P-value: {p_value}\")"
      ],
      "execution_count": 0,
      "outputs": []
    },
    {
      "cell_type": "markdown",
      "metadata": {
        "id": "_BfSW0sAmdej",
        "colab_type": "text"
      },
      "source": [
        "Reject the null hypothesis that A2 and A16 are independent, but they are less extreme than A15 and A16."
      ]
    },
    {
      "cell_type": "markdown",
      "metadata": {
        "id": "ZM8JckA2bgnp",
        "colab_type": "text"
      },
      "source": [
        "## Part 3 - Analysis and Interpretation\n",
        "\n",
        "Now that you've looked at the data, answer the following questions:\n",
        "\n",
        "**- Interpret and explain the two t-tests you ran - what do they tell you about the relationships between the continuous features you selected and the class labels?**\n",
        "\n",
        "1.\n",
        "Because of the t-statistic score ( about 5.53) and a p-value (about - 4.55), I reject the null hypothesis that the mean of A3 with a positive class  is equal to the mean of A3 with a negative class. I can be sure that the at the 95% confidence level that the mean for A3 with a positive class is higher than than the mean for A3 with a negative class because of the positive t-statistic.\n",
        "\n",
        "2.\n",
        "Because of the t-statistic score (about 4.29) and a p-value (about - 2.03), I reject the null hypothesis that the mean of A2 with a positive class  is equal to the mean of A2 with a negative class. I can be sure that the at the 95% confidence level that the mean for A2 with a positive class is higher than than the mean for A2 with a negative class because of the positive t-statistic. However, it is noticeably less different be A2 positive and A2 negative than it is between A3 positive and A3 negative.\n",
        "\n",
        "\n",
        "\n",
        "**- Interpret and explain the two Chi-squared tests you ran - what do they tell you about the relationships between the categorical features you selected and the class labels?**\n",
        "\n",
        "1.\n",
        "Here are the results for the Chi-square test between A15(category) and A16(class label):\n",
        "\n",
        "\n",
        "*   Chi-Squared: 25.232020957107316\n",
        "*   P-value: 1.3808333653917482e-05\n",
        "*   Degrees of Freedom: 3\n",
        "\n",
        "\n",
        "The negative p-value suggest there is only a 1.3808333653917482e-05 chance that a Chi-squared score of 25.232020957107316 or larger could be reached. I can reject the null hypothesis that  A15 and A16 are independent. Class clearly has an impact on categorical variables.\n",
        "\n",
        "2.\n",
        "Here are the results for the Chi-square test between A2(category) and A16(class label):\n",
        "\n",
        "*   Chi-Squared: 20.262750124144546\n",
        "*   P-value: 0.0004431477337025627\n",
        "*   Degrees of Freedom: 4\n",
        "\n",
        "The p-value suggest there is only a 0.0004431477337025627 chance that a Chi-squared score of  20.262750124144546 or larger could be reached. I can reject the null hypothesis that  A2 and A16 are independent. Class clearly has an impact on categorical variables.\n",
        "\n",
        "***- What was the most challenging part of this sprint challenge? ***\n",
        "\n",
        "I can say writing out these explainations is probably the most difficult part of the test. Steps are easy, but understanding is not a given, without effort. I believe I have a fundamental understanding of how chi-squared test, p-values, and t-tests tell a story about data, but I know I have a lot more to learn.\n",
        "\n",
        "Answer with text, but feel free to intersperse example code/results or refer to it from earlier."
      ]
    },
    {
      "cell_type": "markdown",
      "metadata": {
        "id": "LIozLDNG2Uhu",
        "colab_type": "text"
      },
      "source": [
        "*Your words here!*"
      ]
    }
  ]
}