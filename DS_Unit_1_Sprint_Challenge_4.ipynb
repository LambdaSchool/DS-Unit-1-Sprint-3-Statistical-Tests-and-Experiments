{
  "nbformat": 4,
  "nbformat_minor": 0,
  "metadata": {
    "colab": {
      "name": "DS_Unit_1_Sprint_Challenge_4.ipynb",
      "version": "0.3.2",
      "provenance": [],
      "collapsed_sections": [],
      "include_colab_link": true
    },
    "kernelspec": {
      "name": "python3",
      "display_name": "Python 3"
    }
  },
  "cells": [
    {
      "cell_type": "markdown",
      "metadata": {
        "id": "view-in-github",
        "colab_type": "text"
      },
      "source": [
        "<a href=\"https://colab.research.google.com/github/ssingh1187/DS-Unit-1-Sprint-4-Statistical-Tests-and-Experiments/blob/master/DS_Unit_1_Sprint_Challenge_4.ipynb\" target=\"_parent\"><img src=\"https://colab.research.google.com/assets/colab-badge.svg\" alt=\"Open In Colab\"/></a>"
      ]
    },
    {
      "metadata": {
        "id": "NooAiTdnafkz",
        "colab_type": "text"
      },
      "cell_type": "markdown",
      "source": [
        "# Data Science Unit 1 Sprint Challenge 4\n",
        "\n",
        "## Exploring Data, Testing Hypotheses\n",
        "\n",
        "In this sprint challenge you will look at a dataset of people being approved or rejected for credit.\n",
        "\n",
        "https://archive.ics.uci.edu/ml/datasets/Credit+Approval\n",
        "\n",
        "Data Set Information: This file concerns credit card applications. All attribute names and values have been changed to meaningless symbols to protect confidentiality of the data. This dataset is interesting because there is a good mix of attributes -- continuous, nominal with small numbers of values, and nominal with larger numbers of values. There are also a few missing values.\n",
        "\n",
        "Attribute Information:\n",
        "- A1: b, a.\n",
        "- A2: continuous.\n",
        "- A3: continuous.\n",
        "- A4: u, y, l, t.\n",
        "- A5: g, p, gg.\n",
        "- A6: c, d, cc, i, j, k, m, r, q, w, x, e, aa, ff.\n",
        "- A7: v, h, bb, j, n, z, dd, ff, o.\n",
        "- A8: continuous.\n",
        "- A9: t, f.\n",
        "- A10: t, f.\n",
        "- A11: continuous.\n",
        "- A12: t, f.\n",
        "- A13: g, p, s.\n",
        "- A14: continuous.\n",
        "- A15: continuous.\n",
        "- A16: +,- (class attribute)\n",
        "\n",
        "Yes, most of that doesn't mean anything. A16 (the class attribute) is the most interesting, as it separates the 307 approved cases from the 383 rejected cases. The remaining variables have been obfuscated for privacy - a challenge you may have to deal with in your data science career.\n",
        "\n",
        "Sprint challenges are evaluated based on satisfactory completion of each part. It is suggested you work through it in order, getting each aspect reasonably working, before trying to deeply explore, iterate, or refine any given step. Once you get to the end, if you want to go back and improve things, go for it!"
      ]
    },
    {
      "metadata": {
        "id": "5wch6ksCbJtZ",
        "colab_type": "text"
      },
      "cell_type": "markdown",
      "source": [
        "## Part 1 - Load and validate the data\n",
        "\n",
        "- Load the data as a `pandas` data frame.\n",
        "- Validate that it has the appropriate number of observations (you can check the raw file, and also read the dataset description from UCI).\n",
        "- UCI says there should be missing data - check, and if necessary change the data so pandas recognizes it as na\n",
        "- Make sure that the loaded features are of the types described above (continuous values should be treated as float), and correct as necessary\n",
        "\n",
        "This is review, but skills that you'll use at the start of any data exploration. Further, you may have to do some investigation to figure out which file to load from - that is part of the puzzle."
      ]
    },
    {
      "metadata": {
        "id": "Q79xDLckzibS",
        "colab_type": "code",
        "colab": {
          "base_uri": "https://localhost:8080/",
          "height": 204
        },
        "outputId": "180f7f52-f83d-45b2-f411-45dbd051fd4f"
      },
      "cell_type": "code",
      "source": [
        "import pandas as pd\n",
        "\n",
        "import numpy as np\n",
        "\n",
        "url = 'https://archive.ics.uci.edu/ml/machine-learning-databases/credit-screening/crx.data'\n",
        "cols = ['A' + str(i) for i in range (1,17)]\n",
        "\n",
        "df = pd.read_csv(url, names=cols, header = None,na_values= '?')\n",
        "df.head()\n"
      ],
      "execution_count": 103,
      "outputs": [
        {
          "output_type": "execute_result",
          "data": {
            "text/html": [
              "<div>\n",
              "<style scoped>\n",
              "    .dataframe tbody tr th:only-of-type {\n",
              "        vertical-align: middle;\n",
              "    }\n",
              "\n",
              "    .dataframe tbody tr th {\n",
              "        vertical-align: top;\n",
              "    }\n",
              "\n",
              "    .dataframe thead th {\n",
              "        text-align: right;\n",
              "    }\n",
              "</style>\n",
              "<table border=\"1\" class=\"dataframe\">\n",
              "  <thead>\n",
              "    <tr style=\"text-align: right;\">\n",
              "      <th></th>\n",
              "      <th>A1</th>\n",
              "      <th>A2</th>\n",
              "      <th>A3</th>\n",
              "      <th>A4</th>\n",
              "      <th>A5</th>\n",
              "      <th>A6</th>\n",
              "      <th>A7</th>\n",
              "      <th>A8</th>\n",
              "      <th>A9</th>\n",
              "      <th>A10</th>\n",
              "      <th>A11</th>\n",
              "      <th>A12</th>\n",
              "      <th>A13</th>\n",
              "      <th>A14</th>\n",
              "      <th>A15</th>\n",
              "      <th>A16</th>\n",
              "    </tr>\n",
              "  </thead>\n",
              "  <tbody>\n",
              "    <tr>\n",
              "      <th>0</th>\n",
              "      <td>b</td>\n",
              "      <td>30.83</td>\n",
              "      <td>0.000</td>\n",
              "      <td>u</td>\n",
              "      <td>g</td>\n",
              "      <td>w</td>\n",
              "      <td>v</td>\n",
              "      <td>1.25</td>\n",
              "      <td>t</td>\n",
              "      <td>t</td>\n",
              "      <td>1</td>\n",
              "      <td>f</td>\n",
              "      <td>g</td>\n",
              "      <td>202.0</td>\n",
              "      <td>0</td>\n",
              "      <td>+</td>\n",
              "    </tr>\n",
              "    <tr>\n",
              "      <th>1</th>\n",
              "      <td>a</td>\n",
              "      <td>58.67</td>\n",
              "      <td>4.460</td>\n",
              "      <td>u</td>\n",
              "      <td>g</td>\n",
              "      <td>q</td>\n",
              "      <td>h</td>\n",
              "      <td>3.04</td>\n",
              "      <td>t</td>\n",
              "      <td>t</td>\n",
              "      <td>6</td>\n",
              "      <td>f</td>\n",
              "      <td>g</td>\n",
              "      <td>43.0</td>\n",
              "      <td>560</td>\n",
              "      <td>+</td>\n",
              "    </tr>\n",
              "    <tr>\n",
              "      <th>2</th>\n",
              "      <td>a</td>\n",
              "      <td>24.50</td>\n",
              "      <td>0.500</td>\n",
              "      <td>u</td>\n",
              "      <td>g</td>\n",
              "      <td>q</td>\n",
              "      <td>h</td>\n",
              "      <td>1.50</td>\n",
              "      <td>t</td>\n",
              "      <td>f</td>\n",
              "      <td>0</td>\n",
              "      <td>f</td>\n",
              "      <td>g</td>\n",
              "      <td>280.0</td>\n",
              "      <td>824</td>\n",
              "      <td>+</td>\n",
              "    </tr>\n",
              "    <tr>\n",
              "      <th>3</th>\n",
              "      <td>b</td>\n",
              "      <td>27.83</td>\n",
              "      <td>1.540</td>\n",
              "      <td>u</td>\n",
              "      <td>g</td>\n",
              "      <td>w</td>\n",
              "      <td>v</td>\n",
              "      <td>3.75</td>\n",
              "      <td>t</td>\n",
              "      <td>t</td>\n",
              "      <td>5</td>\n",
              "      <td>t</td>\n",
              "      <td>g</td>\n",
              "      <td>100.0</td>\n",
              "      <td>3</td>\n",
              "      <td>+</td>\n",
              "    </tr>\n",
              "    <tr>\n",
              "      <th>4</th>\n",
              "      <td>b</td>\n",
              "      <td>20.17</td>\n",
              "      <td>5.625</td>\n",
              "      <td>u</td>\n",
              "      <td>g</td>\n",
              "      <td>w</td>\n",
              "      <td>v</td>\n",
              "      <td>1.71</td>\n",
              "      <td>t</td>\n",
              "      <td>f</td>\n",
              "      <td>0</td>\n",
              "      <td>f</td>\n",
              "      <td>s</td>\n",
              "      <td>120.0</td>\n",
              "      <td>0</td>\n",
              "      <td>+</td>\n",
              "    </tr>\n",
              "  </tbody>\n",
              "</table>\n",
              "</div>"
            ],
            "text/plain": [
              "  A1     A2     A3 A4 A5 A6 A7    A8 A9 A10  A11 A12 A13    A14  A15 A16\n",
              "0  b  30.83  0.000  u  g  w  v  1.25  t   t    1   f   g  202.0    0   +\n",
              "1  a  58.67  4.460  u  g  q  h  3.04  t   t    6   f   g   43.0  560   +\n",
              "2  a  24.50  0.500  u  g  q  h  1.50  t   f    0   f   g  280.0  824   +\n",
              "3  b  27.83  1.540  u  g  w  v  3.75  t   t    5   t   g  100.0    3   +\n",
              "4  b  20.17  5.625  u  g  w  v  1.71  t   f    0   f   s  120.0    0   +"
            ]
          },
          "metadata": {
            "tags": []
          },
          "execution_count": 103
        }
      ]
    },
    {
      "metadata": {
        "id": "ikqvQ3hI_9Us",
        "colab_type": "code",
        "colab": {
          "base_uri": "https://localhost:8080/",
          "height": 306
        },
        "outputId": "146e7686-10da-46e9-dfea-f170f8f10293"
      },
      "cell_type": "code",
      "source": [
        "df.isnull().sum()\n",
        "\n",
        "# This shows that there are missing values in columns A2 and A14"
      ],
      "execution_count": 104,
      "outputs": [
        {
          "output_type": "execute_result",
          "data": {
            "text/plain": [
              "A1     12\n",
              "A2     12\n",
              "A3      0\n",
              "A4      6\n",
              "A5      6\n",
              "A6      9\n",
              "A7      9\n",
              "A8      0\n",
              "A9      0\n",
              "A10     0\n",
              "A11     0\n",
              "A12     0\n",
              "A13     0\n",
              "A14    13\n",
              "A15     0\n",
              "A16     0\n",
              "dtype: int64"
            ]
          },
          "metadata": {
            "tags": []
          },
          "execution_count": 104
        }
      ]
    },
    {
      "metadata": {
        "id": "jfyYK_hiAbPQ",
        "colab_type": "text"
      },
      "cell_type": "markdown",
      "source": [
        "To get successful t-test, missing values in contionuous columns can be filled with their respective column means"
      ]
    },
    {
      "metadata": {
        "id": "8UjhxEOkAafm",
        "colab_type": "code",
        "colab": {
          "base_uri": "https://localhost:8080/",
          "height": 297
        },
        "outputId": "0837e7dd-7bb4-4407-8f38-d388206dc769"
      },
      "cell_type": "code",
      "source": [
        "values = {'A2': df.A2.mean(), 'A14': df.A14.mean()}\n",
        "df.fillna(value=values, inplace=True)\n",
        "\n",
        "df.describe(include=np.number)"
      ],
      "execution_count": 107,
      "outputs": [
        {
          "output_type": "execute_result",
          "data": {
            "text/html": [
              "<div>\n",
              "<style scoped>\n",
              "    .dataframe tbody tr th:only-of-type {\n",
              "        vertical-align: middle;\n",
              "    }\n",
              "\n",
              "    .dataframe tbody tr th {\n",
              "        vertical-align: top;\n",
              "    }\n",
              "\n",
              "    .dataframe thead th {\n",
              "        text-align: right;\n",
              "    }\n",
              "</style>\n",
              "<table border=\"1\" class=\"dataframe\">\n",
              "  <thead>\n",
              "    <tr style=\"text-align: right;\">\n",
              "      <th></th>\n",
              "      <th>A2</th>\n",
              "      <th>A3</th>\n",
              "      <th>A8</th>\n",
              "      <th>A11</th>\n",
              "      <th>A14</th>\n",
              "      <th>A15</th>\n",
              "    </tr>\n",
              "  </thead>\n",
              "  <tbody>\n",
              "    <tr>\n",
              "      <th>count</th>\n",
              "      <td>690.000000</td>\n",
              "      <td>690.000000</td>\n",
              "      <td>690.000000</td>\n",
              "      <td>690.00000</td>\n",
              "      <td>690.000000</td>\n",
              "      <td>690.000000</td>\n",
              "    </tr>\n",
              "    <tr>\n",
              "      <th>mean</th>\n",
              "      <td>31.568171</td>\n",
              "      <td>4.758725</td>\n",
              "      <td>2.223406</td>\n",
              "      <td>2.40000</td>\n",
              "      <td>184.014771</td>\n",
              "      <td>1017.385507</td>\n",
              "    </tr>\n",
              "    <tr>\n",
              "      <th>std</th>\n",
              "      <td>11.853273</td>\n",
              "      <td>4.978163</td>\n",
              "      <td>3.346513</td>\n",
              "      <td>4.86294</td>\n",
              "      <td>172.159274</td>\n",
              "      <td>5210.102598</td>\n",
              "    </tr>\n",
              "    <tr>\n",
              "      <th>min</th>\n",
              "      <td>13.750000</td>\n",
              "      <td>0.000000</td>\n",
              "      <td>0.000000</td>\n",
              "      <td>0.00000</td>\n",
              "      <td>0.000000</td>\n",
              "      <td>0.000000</td>\n",
              "    </tr>\n",
              "    <tr>\n",
              "      <th>25%</th>\n",
              "      <td>22.670000</td>\n",
              "      <td>1.000000</td>\n",
              "      <td>0.165000</td>\n",
              "      <td>0.00000</td>\n",
              "      <td>80.000000</td>\n",
              "      <td>0.000000</td>\n",
              "    </tr>\n",
              "    <tr>\n",
              "      <th>50%</th>\n",
              "      <td>28.625000</td>\n",
              "      <td>2.750000</td>\n",
              "      <td>1.000000</td>\n",
              "      <td>0.00000</td>\n",
              "      <td>160.000000</td>\n",
              "      <td>5.000000</td>\n",
              "    </tr>\n",
              "    <tr>\n",
              "      <th>75%</th>\n",
              "      <td>37.707500</td>\n",
              "      <td>7.207500</td>\n",
              "      <td>2.625000</td>\n",
              "      <td>3.00000</td>\n",
              "      <td>272.000000</td>\n",
              "      <td>395.500000</td>\n",
              "    </tr>\n",
              "    <tr>\n",
              "      <th>max</th>\n",
              "      <td>80.250000</td>\n",
              "      <td>28.000000</td>\n",
              "      <td>28.500000</td>\n",
              "      <td>67.00000</td>\n",
              "      <td>2000.000000</td>\n",
              "      <td>100000.000000</td>\n",
              "    </tr>\n",
              "  </tbody>\n",
              "</table>\n",
              "</div>"
            ],
            "text/plain": [
              "               A2          A3          A8        A11          A14  \\\n",
              "count  690.000000  690.000000  690.000000  690.00000   690.000000   \n",
              "mean    31.568171    4.758725    2.223406    2.40000   184.014771   \n",
              "std     11.853273    4.978163    3.346513    4.86294   172.159274   \n",
              "min     13.750000    0.000000    0.000000    0.00000     0.000000   \n",
              "25%     22.670000    1.000000    0.165000    0.00000    80.000000   \n",
              "50%     28.625000    2.750000    1.000000    0.00000   160.000000   \n",
              "75%     37.707500    7.207500    2.625000    3.00000   272.000000   \n",
              "max     80.250000   28.000000   28.500000   67.00000  2000.000000   \n",
              "\n",
              "                 A15  \n",
              "count     690.000000  \n",
              "mean     1017.385507  \n",
              "std      5210.102598  \n",
              "min         0.000000  \n",
              "25%         0.000000  \n",
              "50%         5.000000  \n",
              "75%       395.500000  \n",
              "max    100000.000000  "
            ]
          },
          "metadata": {
            "tags": []
          },
          "execution_count": 107
        }
      ]
    },
    {
      "metadata": {
        "id": "algeT5iOKcYE",
        "colab_type": "code",
        "colab": {}
      },
      "cell_type": "code",
      "source": [
        "df.describe(exclude=np.number)"
      ],
      "execution_count": 0,
      "outputs": []
    },
    {
      "metadata": {
        "id": "o_5JgU1eLyV7",
        "colab_type": "text"
      },
      "cell_type": "markdown",
      "source": [
        "For non continuous columns, NaN values can be replaced by ffill or bfill method"
      ]
    },
    {
      "metadata": {
        "id": "JlZQKi0JKtQQ",
        "colab_type": "code",
        "colab": {
          "base_uri": "https://localhost:8080/",
          "height": 306
        },
        "outputId": "6204eba5-853b-4738-bd21-53adc482bef9"
      },
      "cell_type": "code",
      "source": [
        "df.fillna(method ='ffill',inplace=True)\n",
        "df.isnull().sum()"
      ],
      "execution_count": 111,
      "outputs": [
        {
          "output_type": "execute_result",
          "data": {
            "text/plain": [
              "A1     0\n",
              "A2     0\n",
              "A3     0\n",
              "A4     0\n",
              "A5     0\n",
              "A6     0\n",
              "A7     0\n",
              "A8     0\n",
              "A9     0\n",
              "A10    0\n",
              "A11    0\n",
              "A12    0\n",
              "A13    0\n",
              "A14    0\n",
              "A15    0\n",
              "A16    0\n",
              "dtype: int64"
            ]
          },
          "metadata": {
            "tags": []
          },
          "execution_count": 111
        }
      ]
    },
    {
      "metadata": {
        "id": "G7rLytbrO38L",
        "colab_type": "text"
      },
      "cell_type": "markdown",
      "source": [
        "## Part 2 - Exploring data, Testing hypotheses\n",
        "\n",
        "The only thing we really know about this data is that A16 is the class label. Besides that, we have 6 continuous (float) features and 9 categorical features.\n",
        "\n",
        "Explore the data: you can use whatever approach (tables, utility functions, visualizations) to get an impression of the distributions and relationships of the variables. In general, your goal is to understand how the features are different when grouped by the two class labels (`+` and `-`).\n",
        "\n",
        "For the 6 continuous features, how are they different when split between the two class labels? Choose two features to run t-tests (again split by class label) - specifically, select one feature that is *extremely* different between the classes, and another feature that is notably less different (though perhaps still \"statistically significantly\" different). You may have to explore more than two features to do this.\n",
        "\n",
        "For the categorical features, explore by creating \"cross tabs\" (aka [contingency tables](https://en.wikipedia.org/wiki/Contingency_table)) between them and the class label, and apply the Chi-squared test to them. [pandas.crosstab](http://pandas.pydata.org/pandas-docs/stable/reference/api/pandas.crosstab.html) can create contingency tables, and [scipy.stats.chi2_contingency](https://docs.scipy.org/doc/scipy/reference/generated/scipy.stats.chi2_contingency.html) can calculate the Chi-squared statistic for them.\n",
        "\n",
        "There are 9 categorical features - as with the t-test, try to find one where the Chi-squared test returns an extreme result (rejecting the null that the data are independent), and one where it is less extreme.\n",
        "\n",
        "**NOTE** - \"less extreme\" just means smaller test statistic/larger p-value. Even the least extreme differences may be strongly statistically significant.\n",
        "\n",
        "Your *main* goal is the hypothesis tests, so don't spend too much time on the exploration/visualization piece. That is just a means to an end - use simple visualizations, such as boxplots or a scatter matrix (both built in to pandas), to get a feel for the overall distribution of the variables.\n",
        "\n",
        "This is challenging, so manage your time and aim for a baseline of at least running two t-tests and two Chi-squared tests before polishing. And don't forget to answer the questions in part 3, even if your results in this part aren't what you want them to be."
      ]
    },
    {
      "metadata": {
        "id": "LIozLDNG2Uhu",
        "colab_type": "text"
      },
      "cell_type": "markdown",
      "source": [
        "###Interpret and explain the two t-tests you ran - what do they tell you about the relationships between the continuous features you selected and the class labels?"
      ]
    },
    {
      "metadata": {
        "id": "IP75YYuLMiu3",
        "colab_type": "code",
        "colab": {}
      },
      "cell_type": "code",
      "source": [
        "# Dividing dataframe based on two classes\n",
        "cols_cont = ['A2','A3','A8','A11','A14', 'A15']\n",
        "\n",
        "df_pos = df[df.A16 == '+']\n",
        "df_neg = df[df.A16 == '-']"
      ],
      "execution_count": 0,
      "outputs": []
    },
    {
      "metadata": {
        "id": "o7C4BfZoNMs6",
        "colab_type": "code",
        "colab": {
          "base_uri": "https://localhost:8080/",
          "height": 425
        },
        "outputId": "989814d1-7dbe-4ff2-83e6-2c9e1775eb95"
      },
      "cell_type": "code",
      "source": [
        "from scipy import stats\n",
        "\n",
        "for cols in cols_cont:\n",
        " result = stats.ttest_ind(df_pos[cols], df_neg[cols])\n",
        " print(cols)\n",
        " if result[0] > 1 and result[1] < 0.01:\n",
        "  print ('Column affecting positive class label')\n",
        "  s = 'Statistic value is '+ str(result[0]) + ', P-Value is ' + str(result[1])\n",
        "  print(s)\n",
        "  print('---')\n",
        "  \n",
        " elif result[0] < 1 and result[1] < 0.01:\n",
        "  print ('Column affecting negative class label')\n",
        "  s = 'Statistic value is '+ str(result[0]) + ', P-Value is ' + str(result[1])\n",
        "  print(s)\n",
        "  print('---')\n",
        "\n"
      ],
      "execution_count": 174,
      "outputs": [
        {
          "output_type": "stream",
          "text": [
            "A2\n",
            "Column affecting positive class label\n",
            "Statistic value is 4.295929647669026, P-Value is 1.9902200656148825e-05\n",
            "---\n",
            "A3\n",
            "Column affecting positive class label\n",
            "Statistic value is 5.52998337614816, P-Value is 4.551680702308068e-08\n",
            "---\n",
            "A8\n",
            "Column affecting positive class label\n",
            "Statistic value is 8.935819983773698, P-Value is 3.6710537401601785e-18\n",
            "---\n",
            "A11\n",
            "Column affecting positive class label\n",
            "Statistic value is 11.667004222431277, P-Value is 7.957718568079967e-29\n",
            "---\n",
            "A14\n",
            "Column affecting negative class label\n",
            "Statistic value is -2.635453311174974, P-Value is 0.008591788512202131\n",
            "---\n",
            "A15\n",
            "Column affecting positive class label\n",
            "Statistic value is 4.680216020964486, P-Value is 3.4520256956287944e-06\n",
            "---\n"
          ],
          "name": "stdout"
        }
      ]
    },
    {
      "metadata": {
        "id": "cZs4BLPcYbcs",
        "colab_type": "text"
      },
      "cell_type": "markdown",
      "source": [
        "###Interpret and explain the two Chi-squared tests you ran - what do they tell you about the relationships between the categorical features you selected and the class labels?"
      ]
    },
    {
      "metadata": {
        "id": "taJnihbabCVo",
        "colab_type": "code",
        "colab": {}
      },
      "cell_type": "code",
      "source": [
        "# For non-categorical columns\n",
        "\n",
        "from scipy.stats import chi2_contingency\n",
        "col_cat = ['A1', 'A4','A5','A6','A7','A9','A10','A12','A13']\n",
        "\n",
        "# for cols in col_cat:\n",
        "#   contingency = pd.crosstab(df[cols], df.A16)\n"
      ],
      "execution_count": 0,
      "outputs": []
    },
    {
      "metadata": {
        "id": "fd5wqvLSUvCr",
        "colab_type": "code",
        "colab": {
          "base_uri": "https://localhost:8080/",
          "height": 629
        },
        "outputId": "696fe29c-d12b-4a0a-fdf7-7b085e184f69"
      },
      "cell_type": "code",
      "source": [
        "# Null hypothesis: Columns are independent of class labels\n",
        "\n",
        "for cols in col_cat:\n",
        " contingency = pd.crosstab(df[cols], df.A16)\n",
        " result = chi2_contingency(contingency)\n",
        "\n",
        " print(cols)\n",
        " if result[1] > 0.01:\n",
        "  print ('Column is affecting class label')\n",
        "  s = 'Chi value is '+ str(result[0]) + ', P-Value is ' + str(result[1])\n",
        "  print(s)\n",
        "  print('---')\n",
        "  \n",
        " elif result[1] < 0.01:\n",
        "  print ('Column is not affecting class label')\n",
        "  s = 'Chi value is '+ str(result[0]) + ', P-Value is ' + str(result[1])\n",
        "  print(s)\n",
        "  print('---')\n"
      ],
      "execution_count": 198,
      "outputs": [
        {
          "output_type": "stream",
          "text": [
            "A1\n",
            "Column is affecting class label\n",
            "Chi value is 0.503725416086821, P-Value is 0.47786776443128076\n",
            "---\n",
            "A4\n",
            "Column is not affecting class label\n",
            "Chi value is 27.381959088907596, P-Value is 1.1326171463492873e-06\n",
            "---\n",
            "A5\n",
            "Column is not affecting class label\n",
            "Chi value is 27.381959088907596, P-Value is 1.1326171463492873e-06\n",
            "---\n",
            "A6\n",
            "Column is not affecting class label\n",
            "Chi value is 101.15724449221703, P-Value is 9.895986843584506e-16\n",
            "---\n",
            "A7\n",
            "Column is not affecting class label\n",
            "Chi value is 47.13464777583941, P-Value is 1.4453572730810954e-07\n",
            "---\n",
            "A9\n",
            "Column is not affecting class label\n",
            "Chi value is 355.2038167412799, P-Value is 3.1185900878457007e-79\n",
            "---\n",
            "A10\n",
            "Column is not affecting class label\n",
            "Chi value is 143.06956205083145, P-Value is 5.675727374527571e-33\n",
            "---\n",
            "A12\n",
            "Column is affecting class label\n",
            "Chi value is 0.568273300792113, P-Value is 0.45094587758631943\n",
            "---\n",
            "A13\n",
            "Column is affecting class label\n",
            "Chi value is 9.191570451545383, P-Value is 0.010094291370456362\n",
            "---\n"
          ],
          "name": "stdout"
        }
      ]
    },
    {
      "metadata": {
        "id": "ZM8JckA2bgnp",
        "colab_type": "text"
      },
      "cell_type": "markdown",
      "source": [
        "## Part 3 - Analysis and Interpretation\n",
        "\n",
        "Now that you've looked at the data, answer the following questions:\n",
        "\n",
        "- Interpret and explain the two t-tests you ran - what do they tell you about the relationships between the continuous features you selected and the class labels?\n",
        "- Interpret and explain the two Chi-squared tests you ran - what do they tell you about the relationships between the categorical features you selected and the class labels?\n",
        "- What was the most challenging part of this sprint challenge?\n",
        "\n",
        "Answer with text, but feel free to intersperse example code/results or refer to it from earlier."
      ]
    },
    {
      "metadata": {
        "id": "_plHNQbnYjyi",
        "colab_type": "text"
      },
      "cell_type": "markdown",
      "source": [
        "From the t-test,\n",
        "1.  Features affecting positive class labels are: \n",
        "  `A2, A3, A8, A11, A15`\n",
        "  \n",
        "2. Feature affecting negative class labels is `A14`\n",
        "\n",
        "\n",
        "* `A11` has highest statistic value, it is extremely different.\n",
        "* `A14` has the lowest statistic value, hence it is less extreme.\n",
        "\n",
        "\n",
        "From chi-squared test:\n",
        "1. Features affecting class labels are:\n",
        "`A1, A12, A13`\n",
        "\n",
        "2. Features not affecting class labels are:\n",
        "`A4, A5, A6, A7, A9, A10`"
      ]
    },
    {
      "metadata": {
        "id": "wThpN8WLYfUP",
        "colab_type": "text"
      },
      "cell_type": "markdown",
      "source": [
        "###What was the most challenging part of this sprint challenge?"
      ]
    },
    {
      "metadata": {
        "id": "QqUQQR9kZKIV",
        "colab_type": "text"
      },
      "cell_type": "markdown",
      "source": [
        "No proper given information about data and meaningless symbols made interpretation difficult."
      ]
    }
  ]
}