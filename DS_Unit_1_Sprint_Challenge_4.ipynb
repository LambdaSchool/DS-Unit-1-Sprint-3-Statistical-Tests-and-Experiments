{
  "nbformat": 4,
  "nbformat_minor": 0,
  "metadata": {
    "colab": {
      "name": "DS_Unit_1_Sprint_Challenge_4.ipynb",
      "version": "0.3.2",
      "provenance": [],
      "collapsed_sections": [],
      "include_colab_link": true
    },
    "kernelspec": {
      "name": "python3",
      "display_name": "Python 3"
    }
  },
  "cells": [
    {
      "cell_type": "markdown",
      "metadata": {
        "id": "view-in-github",
        "colab_type": "text"
      },
      "source": [
        "<a href=\"https://colab.research.google.com/github/ed-chin-git/DS-Unit-1-Sprint-4-Statistical-Tests-and-Experiments/blob/master/DS_Unit_1_Sprint_Challenge_4.ipynb\" target=\"_parent\"><img src=\"https://colab.research.google.com/assets/colab-badge.svg\" alt=\"Open In Colab\"/></a>"
      ]
    },
    {
      "metadata": {
        "id": "NooAiTdnafkz",
        "colab_type": "text"
      },
      "cell_type": "markdown",
      "source": [
        "# Data Science Unit 1 Sprint Challenge 4\n",
        "\n",
        "## Exploring Data, Testing Hypotheses\n",
        "\n",
        "In this sprint challenge you will look at a dataset of people being approved or rejected for credit.\n",
        "\n",
        "https://archive.ics.uci.edu/ml/datasets/Credit+Approval\n",
        "\n",
        "Data Set Information: This file concerns credit card applications. All attribute names and values have been changed to meaningless symbols to protect confidentiality of the data. This dataset is interesting because there is a good mix of attributes -- continuous, nominal with small numbers of values, and nominal with larger numbers of values. There are also a few missing values.\n",
        "\n",
        "Attribute Information:\n",
        "- A1: b, a.\n",
        "- A2: continuous.\n",
        "- A3: continuous.\n",
        "- A4: u, y, l, t.\n",
        "- A5: g, p, gg.\n",
        "- A6: c, d, cc, i, j, k, m, r, q, w, x, e, aa, ff.\n",
        "- A7: v, h, bb, j, n, z, dd, ff, o.\n",
        "- A8: continuous.\n",
        "- A9: t, f.\n",
        "- A10: t, f.\n",
        "- A11: continuous.\n",
        "- A12: t, f.\n",
        "- A13: g, p, s.\n",
        "- A14: continuous.\n",
        "- A15: continuous.\n",
        "- A16: +,- (class attribute)\n",
        "\n",
        "Yes, most of that doesn't mean anything. A16 (the class attribute) is the most interesting, as it separates the 307 approved cases from the 383 rejected cases. The remaining variables have been obfuscated for privacy - a challenge you may have to deal with in your data science career.\n",
        "\n",
        "Sprint challenges are evaluated based on satisfactory completion of each part. It is suggested you work through it in order, getting each aspect reasonably working, before trying to deeply explore, iterate, or refine any given step. Once you get to the end, if you want to go back and improve things, go for it!"
      ]
    },
    {
      "metadata": {
        "id": "5wch6ksCbJtZ",
        "colab_type": "text"
      },
      "cell_type": "markdown",
      "source": [
        "## Part 1 - Load and validate the data\n",
        "\n",
        "- Load the data as a `pandas` data frame.\n",
        "- Validate that it has the appropriate number of observations (you can check the raw file, and also read the dataset description from UCI).\n",
        "- UCI says there should be missing data - check, and if necessary change the data so pandas recognizes it as na\n",
        "- Make sure that the loaded features are of the types described above (continuous values should be treated as float), and correct as necessary\n",
        "\n",
        "This is review, but skills that you'll use at the start of any data exploration. Further, you may have to do some investigation to figure out which file to load from - that is part of the puzzle."
      ]
    },
    {
      "metadata": {
        "id": "EjYlbVpvbGgt",
        "colab_type": "text"
      },
      "cell_type": "markdown",
      "source": [
        "###Imports"
      ]
    },
    {
      "metadata": {
        "id": "Q79xDLckzibS",
        "colab_type": "code",
        "colab": {}
      },
      "cell_type": "code",
      "source": [
        "%matplotlib inline\n",
        "import matplotlib.pyplot as plt\n",
        "import pandas as pd\n",
        "import numpy as np\n",
        "from scipy import stats"
      ],
      "execution_count": 0,
      "outputs": []
    },
    {
      "metadata": {
        "id": "LW60G_9_bKTP",
        "colab_type": "text"
      },
      "cell_type": "markdown",
      "source": [
        "### Load DataFrame"
      ]
    },
    {
      "metadata": {
        "id": "uLhJE5FObST0",
        "colab_type": "code",
        "colab": {}
      },
      "cell_type": "code",
      "source": [
        "data_url='https://archive.ics.uci.edu/ml/machine-learning-databases/credit-screening/crx.data'\n",
        "df=pd.read_csv(data_url,header=None)"
      ],
      "execution_count": 0,
      "outputs": []
    },
    {
      "metadata": {
        "id": "na7fGqEcdwRu",
        "colab_type": "text"
      },
      "cell_type": "markdown",
      "source": [
        "### Validate Number of Observations"
      ]
    },
    {
      "metadata": {
        "id": "uv7ld8lvbg4d",
        "colab_type": "code",
        "outputId": "533e301c-03ee-43b8-b012-d3b2704f83b4",
        "colab": {
          "base_uri": "https://localhost:8080/",
          "height": 34
        }
      },
      "cell_type": "code",
      "source": [
        "# VaLIDATE number of obervations should = 690 (307+383)\n",
        "df.shape"
      ],
      "execution_count": 440,
      "outputs": [
        {
          "output_type": "execute_result",
          "data": {
            "text/plain": [
              "(690, 16)"
            ]
          },
          "metadata": {
            "tags": []
          },
          "execution_count": 440
        }
      ]
    },
    {
      "metadata": {
        "id": "APJmMMLAeFn-",
        "colab_type": "text"
      },
      "cell_type": "markdown",
      "source": [
        "### Rename columns"
      ]
    },
    {
      "metadata": {
        "id": "_nqcgc0yzm68",
        "colab_type": "code",
        "colab": {}
      },
      "cell_type": "code",
      "source": [
        "# rename the columns/Attributes\n",
        "column_names = {0 :\"A1\",\n",
        "                1 : \"A2\",\n",
        "                2 : \"A3\",\n",
        "                3 : \"A4\",\n",
        "                4 : \"A5\",\n",
        "                5 : \"A6\",\n",
        "                6 : \"A7\",\n",
        "                7 : \"A8\",\n",
        "                8 : \"A9\",\n",
        "                9 : \"A10\",\n",
        "                10 : \"A11\",\n",
        "                11 : \"A12\",\n",
        "                12 : \"A13\",\n",
        "                13 : \"A14\",\n",
        "                14 : \"A15\",\n",
        "                15 : \"A16\"}\n",
        "df.rename(column_names, axis='columns', inplace=True)"
      ],
      "execution_count": 0,
      "outputs": []
    },
    {
      "metadata": {
        "id": "Fm5T6oGdlghB",
        "colab_type": "text"
      },
      "cell_type": "markdown",
      "source": [
        "   ### Encode and Verify missing data \n",
        "    37 cases (5%) have one or more missing values.  The missing\n",
        "    values from particular attributes are:\n",
        "            A1:  12\n",
        "            A2:  12\n",
        "            A4:   6\n",
        "            A5:   6\n",
        "            A6:   9\n",
        "            A7:   9\n",
        "            A14: 13"
      ]
    },
    {
      "metadata": {
        "id": "7jlMctLEjixH",
        "colab_type": "code",
        "outputId": "f4d3c78a-15db-4676-de05-2a0f0123115c",
        "colab": {
          "base_uri": "https://localhost:8080/",
          "height": 306
        }
      },
      "cell_type": "code",
      "source": [
        "df.replace(to_replace='?', value=np.nan, inplace=True) # replace ? with Nan\n",
        "\n",
        "df.isnull().sum()"
      ],
      "execution_count": 442,
      "outputs": [
        {
          "output_type": "execute_result",
          "data": {
            "text/plain": [
              "A1     12\n",
              "A2     12\n",
              "A3      0\n",
              "A4      6\n",
              "A5      6\n",
              "A6      9\n",
              "A7      9\n",
              "A8      0\n",
              "A9      0\n",
              "A10     0\n",
              "A11     0\n",
              "A12     0\n",
              "A13     0\n",
              "A14    13\n",
              "A15     0\n",
              "A16     0\n",
              "dtype: int64"
            ]
          },
          "metadata": {
            "tags": []
          },
          "execution_count": 442
        }
      ]
    },
    {
      "metadata": {
        "id": "8EKDgw6h5Q5I",
        "colab_type": "text"
      },
      "cell_type": "markdown",
      "source": [
        "### Drop observations with Nans"
      ]
    },
    {
      "metadata": {
        "id": "ZCx3gSCm5Pog",
        "colab_type": "code",
        "colab": {}
      },
      "cell_type": "code",
      "source": [
        "df.dropna(inplace=True)"
      ],
      "execution_count": 0,
      "outputs": []
    },
    {
      "metadata": {
        "id": "PkXqdRfDRWts",
        "colab_type": "text"
      },
      "cell_type": "markdown",
      "source": [
        "### Convert int64 to float"
      ]
    },
    {
      "metadata": {
        "id": "cQmtlEjNRawI",
        "colab_type": "code",
        "colab": {}
      },
      "cell_type": "code",
      "source": [
        "df.A2 = df.A2.astype(float)\n",
        "df.A3 = df.A3.astype(float)\n",
        "df.A8 = df.A8.astype(float)\n",
        "df.A11 = df.A11.astype(float)\n",
        "df.A14 = df.A14.astype(float)\n",
        "df.A15 = df.A15.astype(float)"
      ],
      "execution_count": 0,
      "outputs": []
    },
    {
      "metadata": {
        "id": "50Nq8OrSn3Iy",
        "colab_type": "text"
      },
      "cell_type": "markdown",
      "source": [
        "#### Encode Ordinals  t/f  becomes 1/0\n"
      ]
    },
    {
      "metadata": {
        "id": "gPzlRZjAn1Ec",
        "colab_type": "code",
        "colab": {}
      },
      "cell_type": "code",
      "source": [
        "df.A9.replace(to_replace='t', value=1, inplace=True)  #  encode t = 1\n",
        "df.A9.replace(to_replace='f', value=0, inplace=True)  # encode f = 0\n",
        "\n",
        "df.A10.replace(to_replace='t', value=1, inplace=True)  #  encode t = 1\n",
        "df.A10.replace(to_replace='f', value=0, inplace=True)  # encode f = 0\n",
        "\n",
        "df.A12.replace(to_replace='t', value=1, inplace=True)  #  encode t = 1\n",
        "df.A12.replace(to_replace='f', value=0, inplace=True)  # encode f = 0"
      ],
      "execution_count": 0,
      "outputs": []
    },
    {
      "metadata": {
        "id": "G7rLytbrO38L",
        "colab_type": "text"
      },
      "cell_type": "markdown",
      "source": [
        "## Part 2 - Exploring data, Testing hypotheses\n",
        "\n",
        "The only thing we really know about this data is that A16 is the class label. Besides that, we have 6 continuous (float) features and 9 categorical features.\n",
        "\n",
        "Explore the data: you can use whatever approach (tables, utility functions, visualizations) to get an impression of the distributions and relationships of the variables. In general, your goal is to understand how the features are different when grouped by the two class labels (`+` and `-`).\n",
        "\n",
        "For the 6 continuous features, how are they different when split between the two class labels? Choose two features to run t-tests (again split by class label) - specifically, select one feature that is *extremely* different between the classes, and another feature that is notably less different (though perhaps still \"statistically significantly\" different). You may have to explore more than two features to do this.\n",
        "\n",
        "For the categorical features, explore by creating \"cross tabs\" between them and the class label, and apply the Chi-squared test to them. There are 9 categorical features - as with the t-test, try to find one where the Chi-squared test returns an extreme result (rejecting the null that the data are independent), and one where it is less extreme.\n",
        "\n",
        "**NOTE** - \"less extreme\" just means smaller test statistic/larger p-value. Even the least extreme differences may be strongly statistically significant.\n",
        "\n",
        "Your *main* goal is the hypothesis tests, so don't spend too much time on the exploration/visualization piece. That is just a means to an end. This is challenging, so manage your time and aim for a baseline of at least running two t-tests and two Chi-squared tests before polishing. And don't forget to answer the questions in part 3, even if your results in this part aren't what you want them to be."
      ]
    },
    {
      "metadata": {
        "id": "J97dn4vYSV7R",
        "colab_type": "text"
      },
      "cell_type": "markdown",
      "source": [
        "### Split into 2 sets"
      ]
    },
    {
      "metadata": {
        "id": "1BGeFuQ5rfIB",
        "colab_type": "code",
        "colab": {}
      },
      "cell_type": "code",
      "source": [
        "# Create 2 Sample sets  \n",
        "df_approved = df[df.A16 == \"+\"]\n",
        "df_denied = df[df.A16 == \"-\"]"
      ],
      "execution_count": 0,
      "outputs": []
    },
    {
      "metadata": {
        "id": "v9hTEbqeSe31",
        "colab_type": "text"
      },
      "cell_type": "markdown",
      "source": [
        "###  check size of the data sets"
      ]
    },
    {
      "metadata": {
        "id": "bBvDACZE_iSL",
        "colab_type": "code",
        "outputId": "c3d67aaf-6a39-45a6-c09b-f74d350cc37b",
        "colab": {
          "base_uri": "https://localhost:8080/",
          "height": 34
        }
      },
      "cell_type": "code",
      "source": [
        "df_denied.shape"
      ],
      "execution_count": 447,
      "outputs": [
        {
          "output_type": "execute_result",
          "data": {
            "text/plain": [
              "(357, 16)"
            ]
          },
          "metadata": {
            "tags": []
          },
          "execution_count": 447
        }
      ]
    },
    {
      "metadata": {
        "id": "HuN8b6yeVDXu",
        "colab_type": "code",
        "colab": {
          "base_uri": "https://localhost:8080/",
          "height": 34
        },
        "outputId": "508945af-58b9-492d-c2b5-104f2bd2f85b"
      },
      "cell_type": "code",
      "source": [
        "df_approved.shape"
      ],
      "execution_count": 448,
      "outputs": [
        {
          "output_type": "execute_result",
          "data": {
            "text/plain": [
              "(296, 16)"
            ]
          },
          "metadata": {
            "tags": []
          },
          "execution_count": 448
        }
      ]
    },
    {
      "metadata": {
        "id": "XzVZADk--aRj",
        "colab_type": "code",
        "colab": {
          "base_uri": "https://localhost:8080/",
          "height": 204
        },
        "outputId": "b3e5d9fa-1582-46bc-af8b-a7919866d2e6"
      },
      "cell_type": "code",
      "source": [
        "df_denied.head()"
      ],
      "execution_count": 449,
      "outputs": [
        {
          "output_type": "execute_result",
          "data": {
            "text/html": [
              "<div>\n",
              "<style scoped>\n",
              "    .dataframe tbody tr th:only-of-type {\n",
              "        vertical-align: middle;\n",
              "    }\n",
              "\n",
              "    .dataframe tbody tr th {\n",
              "        vertical-align: top;\n",
              "    }\n",
              "\n",
              "    .dataframe thead th {\n",
              "        text-align: right;\n",
              "    }\n",
              "</style>\n",
              "<table border=\"1\" class=\"dataframe\">\n",
              "  <thead>\n",
              "    <tr style=\"text-align: right;\">\n",
              "      <th></th>\n",
              "      <th>A1</th>\n",
              "      <th>A2</th>\n",
              "      <th>A3</th>\n",
              "      <th>A4</th>\n",
              "      <th>A5</th>\n",
              "      <th>A6</th>\n",
              "      <th>A7</th>\n",
              "      <th>A8</th>\n",
              "      <th>A9</th>\n",
              "      <th>A10</th>\n",
              "      <th>A11</th>\n",
              "      <th>A12</th>\n",
              "      <th>A13</th>\n",
              "      <th>A14</th>\n",
              "      <th>A15</th>\n",
              "      <th>A16</th>\n",
              "    </tr>\n",
              "  </thead>\n",
              "  <tbody>\n",
              "    <tr>\n",
              "      <th>70</th>\n",
              "      <td>b</td>\n",
              "      <td>32.33</td>\n",
              "      <td>7.50</td>\n",
              "      <td>u</td>\n",
              "      <td>g</td>\n",
              "      <td>e</td>\n",
              "      <td>bb</td>\n",
              "      <td>1.585</td>\n",
              "      <td>1</td>\n",
              "      <td>0</td>\n",
              "      <td>0.0</td>\n",
              "      <td>1</td>\n",
              "      <td>s</td>\n",
              "      <td>420.0</td>\n",
              "      <td>0.0</td>\n",
              "      <td>-</td>\n",
              "    </tr>\n",
              "    <tr>\n",
              "      <th>72</th>\n",
              "      <td>a</td>\n",
              "      <td>38.58</td>\n",
              "      <td>5.00</td>\n",
              "      <td>u</td>\n",
              "      <td>g</td>\n",
              "      <td>cc</td>\n",
              "      <td>v</td>\n",
              "      <td>13.500</td>\n",
              "      <td>1</td>\n",
              "      <td>0</td>\n",
              "      <td>0.0</td>\n",
              "      <td>1</td>\n",
              "      <td>g</td>\n",
              "      <td>980.0</td>\n",
              "      <td>0.0</td>\n",
              "      <td>-</td>\n",
              "    </tr>\n",
              "    <tr>\n",
              "      <th>73</th>\n",
              "      <td>b</td>\n",
              "      <td>44.25</td>\n",
              "      <td>0.50</td>\n",
              "      <td>u</td>\n",
              "      <td>g</td>\n",
              "      <td>m</td>\n",
              "      <td>v</td>\n",
              "      <td>10.750</td>\n",
              "      <td>1</td>\n",
              "      <td>0</td>\n",
              "      <td>0.0</td>\n",
              "      <td>0</td>\n",
              "      <td>s</td>\n",
              "      <td>400.0</td>\n",
              "      <td>0.0</td>\n",
              "      <td>-</td>\n",
              "    </tr>\n",
              "    <tr>\n",
              "      <th>74</th>\n",
              "      <td>b</td>\n",
              "      <td>44.83</td>\n",
              "      <td>7.00</td>\n",
              "      <td>y</td>\n",
              "      <td>p</td>\n",
              "      <td>c</td>\n",
              "      <td>v</td>\n",
              "      <td>1.625</td>\n",
              "      <td>0</td>\n",
              "      <td>0</td>\n",
              "      <td>0.0</td>\n",
              "      <td>0</td>\n",
              "      <td>g</td>\n",
              "      <td>160.0</td>\n",
              "      <td>2.0</td>\n",
              "      <td>-</td>\n",
              "    </tr>\n",
              "    <tr>\n",
              "      <th>75</th>\n",
              "      <td>b</td>\n",
              "      <td>20.67</td>\n",
              "      <td>5.29</td>\n",
              "      <td>u</td>\n",
              "      <td>g</td>\n",
              "      <td>q</td>\n",
              "      <td>v</td>\n",
              "      <td>0.375</td>\n",
              "      <td>1</td>\n",
              "      <td>1</td>\n",
              "      <td>1.0</td>\n",
              "      <td>0</td>\n",
              "      <td>g</td>\n",
              "      <td>160.0</td>\n",
              "      <td>0.0</td>\n",
              "      <td>-</td>\n",
              "    </tr>\n",
              "  </tbody>\n",
              "</table>\n",
              "</div>"
            ],
            "text/plain": [
              "   A1     A2    A3 A4 A5  A6  A7      A8  A9  A10  A11  A12 A13    A14  A15  \\\n",
              "70  b  32.33  7.50  u  g   e  bb   1.585   1    0  0.0    1   s  420.0  0.0   \n",
              "72  a  38.58  5.00  u  g  cc   v  13.500   1    0  0.0    1   g  980.0  0.0   \n",
              "73  b  44.25  0.50  u  g   m   v  10.750   1    0  0.0    0   s  400.0  0.0   \n",
              "74  b  44.83  7.00  y  p   c   v   1.625   0    0  0.0    0   g  160.0  2.0   \n",
              "75  b  20.67  5.29  u  g   q   v   0.375   1    1  1.0    0   g  160.0  0.0   \n",
              "\n",
              "   A16  \n",
              "70   -  \n",
              "72   -  \n",
              "73   -  \n",
              "74   -  \n",
              "75   -  "
            ]
          },
          "metadata": {
            "tags": []
          },
          "execution_count": 449
        }
      ]
    },
    {
      "metadata": {
        "id": "wExffW4zSytz",
        "colab_type": "text"
      },
      "cell_type": "markdown",
      "source": [
        "###  Preliminary Stats"
      ]
    },
    {
      "metadata": {
        "id": "xLWTrX-Puv72",
        "colab_type": "code",
        "outputId": "dbc79ced-40b8-4ff7-abb9-c26ff4baa71c",
        "colab": {
          "base_uri": "https://localhost:8080/",
          "height": 297
        }
      },
      "cell_type": "code",
      "source": [
        "df_approved.describe()"
      ],
      "execution_count": 450,
      "outputs": [
        {
          "output_type": "execute_result",
          "data": {
            "text/html": [
              "<div>\n",
              "<style scoped>\n",
              "    .dataframe tbody tr th:only-of-type {\n",
              "        vertical-align: middle;\n",
              "    }\n",
              "\n",
              "    .dataframe tbody tr th {\n",
              "        vertical-align: top;\n",
              "    }\n",
              "\n",
              "    .dataframe thead th {\n",
              "        text-align: right;\n",
              "    }\n",
              "</style>\n",
              "<table border=\"1\" class=\"dataframe\">\n",
              "  <thead>\n",
              "    <tr style=\"text-align: right;\">\n",
              "      <th></th>\n",
              "      <th>A2</th>\n",
              "      <th>A3</th>\n",
              "      <th>A8</th>\n",
              "      <th>A9</th>\n",
              "      <th>A10</th>\n",
              "      <th>A11</th>\n",
              "      <th>A12</th>\n",
              "      <th>A14</th>\n",
              "      <th>A15</th>\n",
              "    </tr>\n",
              "  </thead>\n",
              "  <tbody>\n",
              "    <tr>\n",
              "      <th>count</th>\n",
              "      <td>296.000000</td>\n",
              "      <td>296.000000</td>\n",
              "      <td>296.000000</td>\n",
              "      <td>296.000000</td>\n",
              "      <td>296.000000</td>\n",
              "      <td>296.000000</td>\n",
              "      <td>296.000000</td>\n",
              "      <td>296.000000</td>\n",
              "      <td>296.000000</td>\n",
              "    </tr>\n",
              "    <tr>\n",
              "      <th>mean</th>\n",
              "      <td>33.845473</td>\n",
              "      <td>5.971943</td>\n",
              "      <td>3.475186</td>\n",
              "      <td>0.939189</td>\n",
              "      <td>0.685811</td>\n",
              "      <td>4.716216</td>\n",
              "      <td>0.489865</td>\n",
              "      <td>164.621622</td>\n",
              "      <td>2009.726351</td>\n",
              "    </tr>\n",
              "    <tr>\n",
              "      <th>std</th>\n",
              "      <td>12.689357</td>\n",
              "      <td>5.492651</td>\n",
              "      <td>4.167399</td>\n",
              "      <td>0.239388</td>\n",
              "      <td>0.464978</td>\n",
              "      <td>6.398136</td>\n",
              "      <td>0.500744</td>\n",
              "      <td>162.543550</td>\n",
              "      <td>7660.949172</td>\n",
              "    </tr>\n",
              "    <tr>\n",
              "      <th>min</th>\n",
              "      <td>13.750000</td>\n",
              "      <td>0.000000</td>\n",
              "      <td>0.000000</td>\n",
              "      <td>0.000000</td>\n",
              "      <td>0.000000</td>\n",
              "      <td>0.000000</td>\n",
              "      <td>0.000000</td>\n",
              "      <td>0.000000</td>\n",
              "      <td>0.000000</td>\n",
              "    </tr>\n",
              "    <tr>\n",
              "      <th>25%</th>\n",
              "      <td>23.250000</td>\n",
              "      <td>1.500000</td>\n",
              "      <td>0.750000</td>\n",
              "      <td>1.000000</td>\n",
              "      <td>0.000000</td>\n",
              "      <td>0.000000</td>\n",
              "      <td>0.000000</td>\n",
              "      <td>0.000000</td>\n",
              "      <td>0.000000</td>\n",
              "    </tr>\n",
              "    <tr>\n",
              "      <th>50%</th>\n",
              "      <td>31.040000</td>\n",
              "      <td>4.480000</td>\n",
              "      <td>2.000000</td>\n",
              "      <td>1.000000</td>\n",
              "      <td>1.000000</td>\n",
              "      <td>3.000000</td>\n",
              "      <td>0.000000</td>\n",
              "      <td>120.000000</td>\n",
              "      <td>210.500000</td>\n",
              "    </tr>\n",
              "    <tr>\n",
              "      <th>75%</th>\n",
              "      <td>41.440000</td>\n",
              "      <td>9.561250</td>\n",
              "      <td>5.000000</td>\n",
              "      <td>1.000000</td>\n",
              "      <td>1.000000</td>\n",
              "      <td>7.000000</td>\n",
              "      <td>1.000000</td>\n",
              "      <td>280.000000</td>\n",
              "      <td>1216.500000</td>\n",
              "    </tr>\n",
              "    <tr>\n",
              "      <th>max</th>\n",
              "      <td>76.750000</td>\n",
              "      <td>28.000000</td>\n",
              "      <td>28.500000</td>\n",
              "      <td>1.000000</td>\n",
              "      <td>1.000000</td>\n",
              "      <td>67.000000</td>\n",
              "      <td>1.000000</td>\n",
              "      <td>840.000000</td>\n",
              "      <td>100000.000000</td>\n",
              "    </tr>\n",
              "  </tbody>\n",
              "</table>\n",
              "</div>"
            ],
            "text/plain": [
              "               A2          A3          A8          A9         A10         A11  \\\n",
              "count  296.000000  296.000000  296.000000  296.000000  296.000000  296.000000   \n",
              "mean    33.845473    5.971943    3.475186    0.939189    0.685811    4.716216   \n",
              "std     12.689357    5.492651    4.167399    0.239388    0.464978    6.398136   \n",
              "min     13.750000    0.000000    0.000000    0.000000    0.000000    0.000000   \n",
              "25%     23.250000    1.500000    0.750000    1.000000    0.000000    0.000000   \n",
              "50%     31.040000    4.480000    2.000000    1.000000    1.000000    3.000000   \n",
              "75%     41.440000    9.561250    5.000000    1.000000    1.000000    7.000000   \n",
              "max     76.750000   28.000000   28.500000    1.000000    1.000000   67.000000   \n",
              "\n",
              "              A12         A14            A15  \n",
              "count  296.000000  296.000000     296.000000  \n",
              "mean     0.489865  164.621622    2009.726351  \n",
              "std      0.500744  162.543550    7660.949172  \n",
              "min      0.000000    0.000000       0.000000  \n",
              "25%      0.000000    0.000000       0.000000  \n",
              "50%      0.000000  120.000000     210.500000  \n",
              "75%      1.000000  280.000000    1216.500000  \n",
              "max      1.000000  840.000000  100000.000000  "
            ]
          },
          "metadata": {
            "tags": []
          },
          "execution_count": 450
        }
      ]
    },
    {
      "metadata": {
        "id": "CAdyE_nguz72",
        "colab_type": "code",
        "outputId": "61ebaa17-4145-4ac1-ec46-26da9bf1fb5e",
        "colab": {
          "base_uri": "https://localhost:8080/",
          "height": 297
        }
      },
      "cell_type": "code",
      "source": [
        "df_denied.describe()"
      ],
      "execution_count": 451,
      "outputs": [
        {
          "output_type": "execute_result",
          "data": {
            "text/html": [
              "<div>\n",
              "<style scoped>\n",
              "    .dataframe tbody tr th:only-of-type {\n",
              "        vertical-align: middle;\n",
              "    }\n",
              "\n",
              "    .dataframe tbody tr th {\n",
              "        vertical-align: top;\n",
              "    }\n",
              "\n",
              "    .dataframe thead th {\n",
              "        text-align: right;\n",
              "    }\n",
              "</style>\n",
              "<table border=\"1\" class=\"dataframe\">\n",
              "  <thead>\n",
              "    <tr style=\"text-align: right;\">\n",
              "      <th></th>\n",
              "      <th>A2</th>\n",
              "      <th>A3</th>\n",
              "      <th>A8</th>\n",
              "      <th>A9</th>\n",
              "      <th>A10</th>\n",
              "      <th>A11</th>\n",
              "      <th>A12</th>\n",
              "      <th>A14</th>\n",
              "      <th>A15</th>\n",
              "    </tr>\n",
              "  </thead>\n",
              "  <tbody>\n",
              "    <tr>\n",
              "      <th>count</th>\n",
              "      <td>357.000000</td>\n",
              "      <td>357.000000</td>\n",
              "      <td>357.000000</td>\n",
              "      <td>357.000000</td>\n",
              "      <td>357.000000</td>\n",
              "      <td>357.000000</td>\n",
              "      <td>357.000000</td>\n",
              "      <td>357.000000</td>\n",
              "      <td>357.000000</td>\n",
              "    </tr>\n",
              "    <tr>\n",
              "      <th>mean</th>\n",
              "      <td>29.562269</td>\n",
              "      <td>3.882325</td>\n",
              "      <td>1.223725</td>\n",
              "      <td>0.198880</td>\n",
              "      <td>0.235294</td>\n",
              "      <td>0.666667</td>\n",
              "      <td>0.439776</td>\n",
              "      <td>193.408964</td>\n",
              "      <td>187.974790</td>\n",
              "    </tr>\n",
              "    <tr>\n",
              "      <th>std</th>\n",
              "      <td>10.719168</td>\n",
              "      <td>4.393079</td>\n",
              "      <td>2.029272</td>\n",
              "      <td>0.399717</td>\n",
              "      <td>0.424778</td>\n",
              "      <td>1.958368</td>\n",
              "      <td>0.497056</td>\n",
              "      <td>172.057953</td>\n",
              "      <td>632.781715</td>\n",
              "    </tr>\n",
              "    <tr>\n",
              "      <th>min</th>\n",
              "      <td>15.170000</td>\n",
              "      <td>0.000000</td>\n",
              "      <td>0.000000</td>\n",
              "      <td>0.000000</td>\n",
              "      <td>0.000000</td>\n",
              "      <td>0.000000</td>\n",
              "      <td>0.000000</td>\n",
              "      <td>0.000000</td>\n",
              "      <td>0.000000</td>\n",
              "    </tr>\n",
              "    <tr>\n",
              "      <th>25%</th>\n",
              "      <td>21.920000</td>\n",
              "      <td>0.835000</td>\n",
              "      <td>0.125000</td>\n",
              "      <td>0.000000</td>\n",
              "      <td>0.000000</td>\n",
              "      <td>0.000000</td>\n",
              "      <td>0.000000</td>\n",
              "      <td>100.000000</td>\n",
              "      <td>0.000000</td>\n",
              "    </tr>\n",
              "    <tr>\n",
              "      <th>50%</th>\n",
              "      <td>26.920000</td>\n",
              "      <td>2.210000</td>\n",
              "      <td>0.455000</td>\n",
              "      <td>0.000000</td>\n",
              "      <td>0.000000</td>\n",
              "      <td>0.000000</td>\n",
              "      <td>0.000000</td>\n",
              "      <td>160.000000</td>\n",
              "      <td>1.000000</td>\n",
              "    </tr>\n",
              "    <tr>\n",
              "      <th>75%</th>\n",
              "      <td>34.830000</td>\n",
              "      <td>5.000000</td>\n",
              "      <td>1.500000</td>\n",
              "      <td>0.000000</td>\n",
              "      <td>0.000000</td>\n",
              "      <td>0.000000</td>\n",
              "      <td>1.000000</td>\n",
              "      <td>260.000000</td>\n",
              "      <td>67.000000</td>\n",
              "    </tr>\n",
              "    <tr>\n",
              "      <th>max</th>\n",
              "      <td>74.830000</td>\n",
              "      <td>26.335000</td>\n",
              "      <td>13.875000</td>\n",
              "      <td>1.000000</td>\n",
              "      <td>1.000000</td>\n",
              "      <td>20.000000</td>\n",
              "      <td>1.000000</td>\n",
              "      <td>2000.000000</td>\n",
              "      <td>5552.000000</td>\n",
              "    </tr>\n",
              "  </tbody>\n",
              "</table>\n",
              "</div>"
            ],
            "text/plain": [
              "               A2          A3          A8          A9         A10         A11  \\\n",
              "count  357.000000  357.000000  357.000000  357.000000  357.000000  357.000000   \n",
              "mean    29.562269    3.882325    1.223725    0.198880    0.235294    0.666667   \n",
              "std     10.719168    4.393079    2.029272    0.399717    0.424778    1.958368   \n",
              "min     15.170000    0.000000    0.000000    0.000000    0.000000    0.000000   \n",
              "25%     21.920000    0.835000    0.125000    0.000000    0.000000    0.000000   \n",
              "50%     26.920000    2.210000    0.455000    0.000000    0.000000    0.000000   \n",
              "75%     34.830000    5.000000    1.500000    0.000000    0.000000    0.000000   \n",
              "max     74.830000   26.335000   13.875000    1.000000    1.000000   20.000000   \n",
              "\n",
              "              A12          A14          A15  \n",
              "count  357.000000   357.000000   357.000000  \n",
              "mean     0.439776   193.408964   187.974790  \n",
              "std      0.497056   172.057953   632.781715  \n",
              "min      0.000000     0.000000     0.000000  \n",
              "25%      0.000000   100.000000     0.000000  \n",
              "50%      0.000000   160.000000     1.000000  \n",
              "75%      1.000000   260.000000    67.000000  \n",
              "max      1.000000  2000.000000  5552.000000  "
            ]
          },
          "metadata": {
            "tags": []
          },
          "execution_count": 451
        }
      ]
    },
    {
      "metadata": {
        "id": "RME_hp4Hztw-",
        "colab_type": "code",
        "outputId": "65d55cd3-f2b5-4454-aad9-d642926eaed7",
        "colab": {
          "base_uri": "https://localhost:8080/",
          "height": 282
        }
      },
      "cell_type": "code",
      "source": [
        "print(df.A2.hist(),df.A3.hist());\n"
      ],
      "execution_count": 452,
      "outputs": [
        {
          "output_type": "stream",
          "text": [
            "AxesSubplot(0.125,0.125;0.775x0.755) AxesSubplot(0.125,0.125;0.775x0.755)\n"
          ],
          "name": "stdout"
        },
        {
          "output_type": "display_data",
          "data": {
            "image/png": "[encoded data removed]",
            "text/plain": [
              "<matplotlib.figure.Figure at 0x7fdea60c9e80>"
            ]
          },
          "metadata": {
            "tags": []
          }
        }
      ]
    },
    {
      "metadata": {
        "id": "tIrVkih7zwIf",
        "colab_type": "code",
        "outputId": "1717d0d1-48b5-4e24-9c90-946099c0e958",
        "colab": {
          "base_uri": "https://localhost:8080/",
          "height": 282
        }
      },
      "cell_type": "code",
      "source": [
        "print(df.A8.hist());"
      ],
      "execution_count": 453,
      "outputs": [
        {
          "output_type": "stream",
          "text": [
            "AxesSubplot(0.125,0.125;0.775x0.755)\n"
          ],
          "name": "stdout"
        },
        {
          "output_type": "display_data",
          "data": {
            "image/png": "[encoded data removed]",
            "text/plain": [
              "<matplotlib.figure.Figure at 0x7fdea6e90828>"
            ]
          },
          "metadata": {
            "tags": []
          }
        }
      ]
    },
    {
      "metadata": {
        "id": "6hvFJCGOU4HX",
        "colab_type": "code",
        "colab": {
          "base_uri": "https://localhost:8080/",
          "height": 282
        },
        "outputId": "ce9ae01e-3831-4146-cbc2-b628dfad622f"
      },
      "cell_type": "code",
      "source": [
        "print(df.A11.hist());"
      ],
      "execution_count": 454,
      "outputs": [
        {
          "output_type": "stream",
          "text": [
            "AxesSubplot(0.125,0.125;0.775x0.755)\n"
          ],
          "name": "stdout"
        },
        {
          "output_type": "display_data",
          "data": {
            "image/png": "[encoded data removed]",
            "text/plain": [
              "<matplotlib.figure.Figure at 0x7fdea5cee208>"
            ]
          },
          "metadata": {
            "tags": []
          }
        }
      ]
    },
    {
      "metadata": {
        "id": "L7EogmXzSpH3",
        "colab_type": "text"
      },
      "cell_type": "markdown",
      "source": [
        "### Plots"
      ]
    },
    {
      "metadata": {
        "id": "_lAavGcGy_78",
        "colab_type": "code",
        "outputId": "c1b5e5b1-67ba-441c-a83d-bc139c60456a",
        "colab": {
          "base_uri": "https://localhost:8080/",
          "height": 287
        }
      },
      "cell_type": "code",
      "source": [
        "print(plt.scatter(df['A3'], df['A2']))"
      ],
      "execution_count": 455,
      "outputs": [
        {
          "output_type": "stream",
          "text": [
            "<matplotlib.collections.PathCollection object at 0x7fdea5ba5f28>\n"
          ],
          "name": "stdout"
        },
        {
          "output_type": "display_data",
          "data": {
            "image/png": "[encoded data removed]",
            "text/plain": [
              "<matplotlib.figure.Figure at 0x7fdea5abd2b0>"
            ]
          },
          "metadata": {
            "tags": []
          }
        }
      ]
    },
    {
      "metadata": {
        "id": "T2-kDR1vunPj",
        "colab_type": "code",
        "colab": {
          "base_uri": "https://localhost:8080/",
          "height": 282
        },
        "outputId": "e9be7597-1453-45b8-dd00-28062fe00f3b"
      },
      "cell_type": "code",
      "source": [
        "print(df.A2.hist())"
      ],
      "execution_count": 456,
      "outputs": [
        {
          "output_type": "stream",
          "text": [
            "AxesSubplot(0.125,0.125;0.775x0.755)\n"
          ],
          "name": "stdout"
        },
        {
          "output_type": "display_data",
          "data": {
            "image/png": "[encoded data removed]",
            "text/plain": [
              "<matplotlib.figure.Figure at 0x7fdea60cf550>"
            ]
          },
          "metadata": {
            "tags": []
          }
        }
      ]
    },
    {
      "metadata": {
        "id": "Kz5gUlmEw0_q",
        "colab_type": "code",
        "outputId": "a3a1636e-b06d-4122-dc81-adff86abe826",
        "colab": {
          "base_uri": "https://localhost:8080/",
          "height": 282
        }
      },
      "cell_type": "code",
      "source": [
        "print(df.A3.hist())"
      ],
      "execution_count": 457,
      "outputs": [
        {
          "output_type": "stream",
          "text": [
            "AxesSubplot(0.125,0.125;0.775x0.755)\n"
          ],
          "name": "stdout"
        },
        {
          "output_type": "display_data",
          "data": {
            "image/png": "[encoded data removed]",
            "text/plain": [
              "<matplotlib.figure.Figure at 0x7fdea5941630>"
            ]
          },
          "metadata": {
            "tags": []
          }
        }
      ]
    },
    {
      "metadata": {
        "id": "3lzNjwShzeB8",
        "colab_type": "code",
        "outputId": "de8d5219-2ed9-432d-8966-237ed9968ad7",
        "colab": {
          "base_uri": "https://localhost:8080/",
          "height": 287
        }
      },
      "cell_type": "code",
      "source": [
        "print(plt.scatter(df_approved['A3'], df_approved['A8']))"
      ],
      "execution_count": 458,
      "outputs": [
        {
          "output_type": "stream",
          "text": [
            "<matplotlib.collections.PathCollection object at 0x7fdeac87de48>\n"
          ],
          "name": "stdout"
        },
        {
          "output_type": "display_data",
          "data": {
            "image/png": "[encoded data removed]",
            "text/plain": [
              "<matplotlib.figure.Figure at 0x7fdea91d6e48>"
            ]
          },
          "metadata": {
            "tags": []
          }
        }
      ]
    },
    {
      "metadata": {
        "id": "1VNAJIhEzgT1",
        "colab_type": "code",
        "outputId": "1eb2fab5-1ab4-4512-ec90-ee96db1f713e",
        "colab": {
          "base_uri": "https://localhost:8080/",
          "height": 282
        }
      },
      "cell_type": "code",
      "source": [
        "print(plt.scatter(df_denied['A3'], df_denied['A8']))\n"
      ],
      "execution_count": 459,
      "outputs": [
        {
          "output_type": "stream",
          "text": [
            "<matplotlib.collections.PathCollection object at 0x7fdea8dc32b0>\n"
          ],
          "name": "stdout"
        },
        {
          "output_type": "display_data",
          "data": {
            "image/png": "[encoded data removed]",
            "text/plain": [
              "<matplotlib.figure.Figure at 0x7fdeac87b0b8>"
            ]
          },
          "metadata": {
            "tags": []
          }
        }
      ]
    },
    {
      "metadata": {
        "id": "Rg8zEv6Sy9Xx",
        "colab_type": "text"
      },
      "cell_type": "markdown",
      "source": [
        "### T-tests\n",
        "\n",
        "For the 6 continuous features, how are they different when split between the two class labels? Choose two features to run t-tests (again split by class label) - specifically, select one feature that is extremely different between the classes, and another feature that is notably less different (though perhaps still \"statistically significantly\" different). You may have to explore more than two features to do this.\n",
        "\n",
        "- A2: continuous.\n",
        "- A3: continuous.\n",
        "- A8: continuous.\n",
        "- A11: continuous.\n",
        "- A14: continuous.\n",
        "- A15: continuous."
      ]
    },
    {
      "metadata": {
        "id": "U2y0eRBFzBHK",
        "colab_type": "code",
        "outputId": "233ba452-6c1f-4e52-be4e-7b34cb822fc1",
        "colab": {
          "base_uri": "https://localhost:8080/",
          "height": 136
        }
      },
      "cell_type": "code",
      "source": [
        "print(\"Issues with p-value < 0.05\")\n",
        "\n",
        "columns=['A2','A3','A8','A11','A14','A15']\n",
        "\n",
        "for col in columns:\n",
        "    statistics, pvalue = stats.ttest_ind(df_approved[col], \n",
        "                          df_denied[col], \n",
        "                          nan_policy='omit',\n",
        "                          equal_var=True)\n",
        "    if pvalue < 0.05:\n",
        "      print(\"{:>40} {:10.3} {:>15.2}\".format(col, statistics, pvalue))"
      ],
      "execution_count": 460,
      "outputs": [
        {
          "output_type": "stream",
          "text": [
            "Issues with p-value < 0.05\n",
            "                                      A2       4.68         3.6e-06\n",
            "                                      A3        5.4         9.3e-08\n",
            "                                      A8        9.0         2.4e-18\n",
            "                                     A11       11.3         2.6e-27\n",
            "                                     A14      -2.18           0.029\n",
            "                                     A15       4.48           9e-06\n"
          ],
          "name": "stdout"
        }
      ]
    },
    {
      "metadata": {
        "id": "l4IFAh2uOPbW",
        "colab_type": "code",
        "colab": {
          "base_uri": "https://localhost:8080/",
          "height": 136
        },
        "outputId": "fe0a801e-e9df-4369-f33c-6faba7ccb0b5"
      },
      "cell_type": "code",
      "source": [
        "print(\"Invert the data sets\")\n",
        "\n",
        "for col in columns:\n",
        "    statistics, pvalue = stats.ttest_ind(df_denied[col], \n",
        "                          df_approved[col], \n",
        "                          nan_policy='omit',\n",
        "                          equal_var=True)\n",
        "    if pvalue < 0.05:\n",
        "      print(\"{:>40} {:10.3} {:>15.2}\".format(col, statistics, pvalue))"
      ],
      "execution_count": 461,
      "outputs": [
        {
          "output_type": "stream",
          "text": [
            "Invert the data sets\n",
            "                                      A2      -4.68         3.6e-06\n",
            "                                      A3       -5.4         9.3e-08\n",
            "                                      A8       -9.0         2.4e-18\n",
            "                                     A11      -11.3         2.6e-27\n",
            "                                     A14       2.18           0.029\n",
            "                                     A15      -4.48           9e-06\n"
          ],
          "name": "stdout"
        }
      ]
    },
    {
      "metadata": {
        "colab_type": "text",
        "id": "yPwhQ4aFXOte"
      },
      "cell_type": "markdown",
      "source": [
        "### Chi squared Test\n",
        "\n",
        "\n",
        "For the categorical features, explore by creating \"cross tabs\" between them and the class label, and apply the Chi-squared test to them. There are 9 categorical features - as with the t-test, try to find one where the Chi-squared test returns an extreme result (rejecting the null that the data are independent), and one where it is less extreme.\n",
        "\n",
        "**NOTE** - \"less extreme\" just means smaller test statistic/larger p-value. Even the least extreme differences may be strongly statistically significant.\n",
        "\n",
        "\n",
        "CATEGORICAL FEATURES:  \n",
        "A1: b, a.   \n",
        "A4: u, y, l, t.  \n",
        "A5: g, p, gg.  \n",
        "A6: c, d, cc, i, j, k, m, r, q, w, x, e, aa, ff.  \n",
        "A7: v, h, bb, j, n, z, dd, ff, o.  \n",
        "A9: t, f.  \n",
        "A10: t, f  .\n",
        "A12: t, f.  \n",
        "A13: g, p, s.  "
      ]
    },
    {
      "metadata": {
        "id": "SB78LEDbhEeR",
        "colab_type": "code",
        "colab": {
          "base_uri": "https://localhost:8080/",
          "height": 1411
        },
        "outputId": "4af44a41-4e09-4c08-e64d-10a413c3a5c0"
      },
      "cell_type": "code",
      "source": [
        "categorical_features=['A1','A4','A5','A6','A7','A9','A10','A13']\n",
        "\n",
        "for col in categorical_features:\n",
        "  xtab=pd.crosstab(df.A16, df[col], margins=True) # create crosstab\n",
        "  print('\\n',xtab)\n",
        "  print(stats.chisquare(xtab),'\\n') # Chi Sqr Test\n",
        "  print('____________________________________________________________________')\n"
      ],
      "execution_count": 510,
      "outputs": [
        {
          "output_type": "stream",
          "text": [
            "\n",
            " A1     a    b  All\n",
            "A16               \n",
            "+     95  201  296\n",
            "-    108  249  357\n",
            "All  203  450  653\n",
            "Power_divergenceResult(statistic=array([ 51.37438424, 116.34      , 167.5237366 ]), pvalue=array([6.98544709e-12, 5.45870956e-26, 4.19452516e-37])) \n",
            "\n",
            "____________________________________________________________________\n",
            "\n",
            " A4   l    u    y  All\n",
            "A16                  \n",
            "+    2  249   45  296\n",
            "-    0  250  107  357\n",
            "All  2  499  152  653\n",
            "Power_divergenceResult(statistic=array([  2.        , 124.75150301,  56.96710526, 167.5237366 ]), pvalue=array([3.67879441e-01, 8.13870520e-28, 4.26334293e-13, 4.19452516e-37])) \n",
            "\n",
            "____________________________________________________________________\n",
            "\n",
            " A5     g  gg    p  All\n",
            "A16                   \n",
            "+    249   2   45  296\n",
            "-    250   0  107  357\n",
            "All  499   2  152  653\n",
            "Power_divergenceResult(statistic=array([124.75150301,   2.        ,  56.96710526, 167.5237366 ]), pvalue=array([8.13870520e-28, 3.67879441e-01, 4.26334293e-13, 4.19452516e-37])) \n",
            "\n",
            "____________________________________________________________________\n",
            "\n",
            " A6   aa    c  cc   d   e  ff   i   j   k   m   q  r   w   x  All\n",
            "A16                                                             \n",
            "+    19   60  29   7  14   7  14   3  13  16  49  2  33  30  296\n",
            "-    33   73  11  19  10  43  41   7  35  22  26  1  30   6  357\n",
            "All  52  133  40  26  24  50  55  10  48  38  75  3  63  36  653\n",
            "Power_divergenceResult(statistic=array([ 15.82692308,  34.20300752,  16.075     ,  10.65384615,\n",
            "         6.5       ,  31.94      ,  23.69090909,   3.7       ,\n",
            "        19.5625    ,  10.21052632,  24.04      ,   1.        ,\n",
            "        15.85714286,  21.        , 167.5237366 ]), pvalue=array([3.65786204e-04, 3.74034175e-08, 3.23115731e-04, 4.85899780e-03,\n",
            "       3.87742078e-02, 1.15962381e-07, 7.17107815e-06, 1.57237166e-01,\n",
            "       5.65011255e-05, 6.06474272e-03, 6.02254880e-06, 6.06530660e-01,\n",
            "       3.60300761e-04, 2.75364493e-05, 4.19452516e-37])) \n",
            "\n",
            "____________________________________________________________________\n",
            "\n",
            " A7   bb  dd  ff    h  j  n  o    v  z  All\n",
            "A16                                       \n",
            "+    24   2   8   87  3  2  1  163  6  296\n",
            "-    29   4  46   50  5  2  1  218  2  357\n",
            "All  53   6  54  137  8  4  2  381  8  653\n",
            "Power_divergenceResult(statistic=array([ 13.60377358,   2.        ,  33.55555556,  41.74452555,\n",
            "         2.375     ,   1.        ,   0.5       , 101.20472441,\n",
            "         3.5       , 167.5237366 ]), pvalue=array([1.11167567e-03, 3.67879441e-01, 5.17015654e-08, 8.61571754e-10,\n",
            "       3.04982769e-01, 6.06530660e-01, 7.78800783e-01, 1.05602287e-22,\n",
            "       1.73773943e-01, 4.19452516e-37])) \n",
            "\n",
            "____________________________________________________________________\n",
            "\n",
            " A9     0    1  All\n",
            "A16               \n",
            "+     18  278  296\n",
            "-    286   71  357\n",
            "All  304  349  653\n",
            "Power_divergenceResult(statistic=array([253.19736842, 179.33237822, 167.5237366 ]), pvalue=array([1.04445572e-55, 1.14411283e-39, 4.19452516e-37])) \n",
            "\n",
            "____________________________________________________________________\n",
            "\n",
            " A10    0    1  All\n",
            "A16               \n",
            "+     93  203  296\n",
            "-    273   84  357\n",
            "All  366  287  653\n",
            "Power_divergenceResult(statistic=array([157.89344262, 108.75609756, 167.5237366 ]), pvalue=array([5.17457362e-35, 2.42054677e-24, 4.19452516e-37])) \n",
            "\n",
            "____________________________________________________________________\n",
            "\n",
            " A13    g  p   s  All\n",
            "A16                 \n",
            "+    280  1  15  296\n",
            "-    318  1  38  357\n",
            "All  598  2  53  653\n",
            "Power_divergenceResult(statistic=array([151.31103679,   0.5       ,  20.73584906, 167.5237366 ]), pvalue=array([1.39067560e-33, 7.78800783e-01, 3.14244430e-05, 4.19452516e-37])) \n",
            "\n",
            "____________________________________________________________________\n"
          ],
          "name": "stdout"
        }
      ]
    },
    {
      "metadata": {
        "id": "ZM8JckA2bgnp",
        "colab_type": "text"
      },
      "cell_type": "markdown",
      "source": [
        "## Part 3 - Analysis and Interpretation\n",
        "\n",
        "Now that you've looked at the data, answer the following questions:\n",
        "\n",
        "- Interpret and explain the two t-tests you ran - what do they tell you about the relationships between the continuous features you selected and the class labels?\n",
        "- Interpret and explain the two Chi-squared tests you ran - what do they tell you about the relationships between the categorical features you selected and the class labels?\n",
        "- What was the most challenging part of this sprint challenge?\n",
        "\n",
        "Answer with text, but feel free to intersperse example code/results or refer to it from earlier."
      ]
    }
  ]
}