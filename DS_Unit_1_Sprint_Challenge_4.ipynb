{
  "nbformat": 4,
  "nbformat_minor": 0,
  "metadata": {
    "colab": {
      "name": "DS_Unit_1_Sprint_Challenge_4.ipynb",
      "version": "0.3.2",
      "provenance": [],
      "collapsed_sections": [],
      "include_colab_link": true
    },
    "language_info": {
      "codemirror_mode": {
        "name": "ipython",
        "version": 3
      },
      "file_extension": ".py",
      "mimetype": "text/x-python",
      "name": "python",
      "nbconvert_exporter": "python",
      "pygments_lexer": "ipython3",
      "version": "3.7.1"
    },
    "kernelspec": {
      "display_name": "Python 3",
      "language": "python",
      "name": "python3"
    }
  },
  "cells": [
    {
      "cell_type": "markdown",
      "metadata": {
        "id": "view-in-github",
        "colab_type": "text"
      },
      "source": [
        "<a href=\"https://colab.research.google.com/github/Alex-Witt/DS-Unit-1-Sprint-4-Statistical-Tests-and-Experiments/blob/master/DS_Unit_1_Sprint_Challenge_4.ipynb\" target=\"_parent\"><img src=\"https://colab.research.google.com/assets/colab-badge.svg\" alt=\"Open In Colab\"/></a>"
      ]
    },
    {
      "metadata": {
        "colab_type": "text",
        "id": "NooAiTdnafkz"
      },
      "cell_type": "markdown",
      "source": [
        "# Data Science Unit 1 Sprint Challenge 4\n",
        "\n",
        "## Exploring Data, Testing Hypotheses\n",
        "\n",
        "In this sprint challenge you will look at a dataset of people being approved or rejected for credit.\n",
        "\n",
        "https://archive.ics.uci.edu/ml/datasets/Credit+Approval\n",
        "\n",
        "Data Set Information: This file concerns credit card applications. All attribute names and values have been changed to meaningless symbols to protect confidentiality of the data. This dataset is interesting because there is a good mix of attributes -- continuous, nominal with small numbers of values, and nominal with larger numbers of values. There are also a few missing values.\n",
        "\n",
        "Attribute Information:\n",
        "- A1: b, a.\n",
        "- A2: continuous.\n",
        "- A3: continuous.\n",
        "- A4: u, y, l, t.\n",
        "- A5: g, p, gg.\n",
        "- A6: c, d, cc, i, j, k, m, r, q, w, x, e, aa, ff.\n",
        "- A7: v, h, bb, j, n, z, dd, ff, o.\n",
        "- A8: continuous.\n",
        "- A9: t, f.\n",
        "- A10: t, f.\n",
        "- A11: continuous.\n",
        "- A12: t, f.\n",
        "- A13: g, p, s.\n",
        "- A14: continuous.\n",
        "- A15: continuous.\n",
        "- A16: +,- (class attribute)\n",
        "\n",
        "Yes, most of that doesn't mean anything. A16 (the class attribute) is the most interesting, as it separates the 307 approved cases from the 383 rejected cases. The remaining variables have been obfuscated for privacy - a challenge you may have to deal with in your data science career.\n",
        "\n",
        "Sprint challenges are evaluated based on satisfactory completion of each part. It is suggested you work through it in order, getting each aspect reasonably working, before trying to deeply explore, iterate, or refine any given step. Once you get to the end, if you want to go back and improve things, go for it!"
      ]
    },
    {
      "metadata": {
        "colab_type": "text",
        "id": "5wch6ksCbJtZ"
      },
      "cell_type": "markdown",
      "source": [
        "## Part 1 - Load and validate the data\n",
        "\n",
        "- Load the data as a `pandas` data frame.\n",
        "- Validate that it has the appropriate number of observations (you can check the raw file, and also read the dataset description from UCI).\n",
        "- UCI says there should be missing data - check, and if necessary change the data so pandas recognizes it as na\n",
        "- Make sure that the loaded features are of the types described above (continuous values should be treated as float), and correct as necessary\n",
        "\n",
        "This is review, but skills that you'll use at the start of any data exploration. Further, you may have to do some investigation to figure out which file to load from - that is part of the puzzle."
      ]
    },
    {
      "metadata": {
        "colab_type": "code",
        "id": "Q79xDLckzibS",
        "colab": {}
      },
      "cell_type": "code",
      "source": [
        "import numpy as np\n",
        "import pandas as pd\n",
        "import matplotlib.pyplot as plt\n",
        "\n",
        "from scipy import stats"
      ],
      "execution_count": 0,
      "outputs": []
    },
    {
      "metadata": {
        "scrolled": true,
        "id": "7Q1RrgIkgmyZ",
        "colab_type": "code",
        "colab": {}
      },
      "cell_type": "code",
      "source": [
        "credit = pd.read_csv('https://www.dropbox.com/s/69nl3gllf1lcyj9/crx.data?dl=1',\n",
        "                    na_values = ['?'], \n",
        "                    header = None,\n",
        "                    names = ['A1', 'A2', 'A3', 'A4', 'A5', 'A6', 'A7', 'A8', 'A9', 'A10',\n",
        "                             'A11', 'A12','A13','A14','A15','A16'])\n",
        "\n",
        "\n"
      ],
      "execution_count": 0,
      "outputs": []
    },
    {
      "metadata": {
        "id": "sTESSyTqgmye",
        "colab_type": "code",
        "colab": {
          "base_uri": "https://localhost:8080/",
          "height": 1190
        },
        "outputId": "3a6eb42f-b8f2-43de-c057-7775d8f89298"
      },
      "cell_type": "code",
      "source": [
        "pd.set_option('display.max_columns', 20)\n",
        "\n",
        "\"\"\"My internet is super spotty right now. I'm working from a local worflow, and \n",
        "    I want to make sure that I don't have to import data again in case my internet drops.\"\"\"\n",
        "\n",
        "df = credit\n",
        "\n",
        "print(df.shape)\n",
        "print()\n",
        "print(df.isnull().sum())\n",
        "print()\n",
        "print(df.describe())\n",
        "print()\n",
        "print(df.dtypes)\n",
        "print()\n",
        "df.head()"
      ],
      "execution_count": 73,
      "outputs": [
        {
          "output_type": "stream",
          "text": [
            "(690, 16)\n",
            "\n",
            "A1     12\n",
            "A2     12\n",
            "A3      0\n",
            "A4      6\n",
            "A5      6\n",
            "A6      9\n",
            "A7      9\n",
            "A8      0\n",
            "A9      0\n",
            "A10     0\n",
            "A11     0\n",
            "A12     0\n",
            "A13     0\n",
            "A14    13\n",
            "A15     0\n",
            "A16     0\n",
            "dtype: int64\n",
            "\n",
            "               A2          A3          A8        A11          A14  \\\n",
            "count  678.000000  690.000000  690.000000  690.00000   677.000000   \n",
            "mean    31.568171    4.758725    2.223406    2.40000   184.014771   \n",
            "std     11.957862    4.978163    3.346513    4.86294   173.806768   \n",
            "min     13.750000    0.000000    0.000000    0.00000     0.000000   \n",
            "25%     22.602500    1.000000    0.165000    0.00000    75.000000   \n",
            "50%     28.460000    2.750000    1.000000    0.00000   160.000000   \n",
            "75%     38.230000    7.207500    2.625000    3.00000   276.000000   \n",
            "max     80.250000   28.000000   28.500000   67.00000  2000.000000   \n",
            "\n",
            "                 A15  \n",
            "count     690.000000  \n",
            "mean     1017.385507  \n",
            "std      5210.102598  \n",
            "min         0.000000  \n",
            "25%         0.000000  \n",
            "50%         5.000000  \n",
            "75%       395.500000  \n",
            "max    100000.000000  \n",
            "\n",
            "A1      object\n",
            "A2     float64\n",
            "A3     float64\n",
            "A4      object\n",
            "A5      object\n",
            "A6      object\n",
            "A7      object\n",
            "A8     float64\n",
            "A9      object\n",
            "A10     object\n",
            "A11      int64\n",
            "A12     object\n",
            "A13     object\n",
            "A14    float64\n",
            "A15      int64\n",
            "A16     object\n",
            "dtype: object\n",
            "\n"
          ],
          "name": "stdout"
        },
        {
          "output_type": "execute_result",
          "data": {
            "text/html": [
              "<div>\n",
              "<style scoped>\n",
              "    .dataframe tbody tr th:only-of-type {\n",
              "        vertical-align: middle;\n",
              "    }\n",
              "\n",
              "    .dataframe tbody tr th {\n",
              "        vertical-align: top;\n",
              "    }\n",
              "\n",
              "    .dataframe thead th {\n",
              "        text-align: right;\n",
              "    }\n",
              "</style>\n",
              "<table border=\"1\" class=\"dataframe\">\n",
              "  <thead>\n",
              "    <tr style=\"text-align: right;\">\n",
              "      <th></th>\n",
              "      <th>A1</th>\n",
              "      <th>A2</th>\n",
              "      <th>A3</th>\n",
              "      <th>A4</th>\n",
              "      <th>A5</th>\n",
              "      <th>A6</th>\n",
              "      <th>A7</th>\n",
              "      <th>A8</th>\n",
              "      <th>A9</th>\n",
              "      <th>A10</th>\n",
              "      <th>A11</th>\n",
              "      <th>A12</th>\n",
              "      <th>A13</th>\n",
              "      <th>A14</th>\n",
              "      <th>A15</th>\n",
              "      <th>A16</th>\n",
              "    </tr>\n",
              "  </thead>\n",
              "  <tbody>\n",
              "    <tr>\n",
              "      <th>0</th>\n",
              "      <td>b</td>\n",
              "      <td>30.83</td>\n",
              "      <td>0.000</td>\n",
              "      <td>u</td>\n",
              "      <td>g</td>\n",
              "      <td>w</td>\n",
              "      <td>v</td>\n",
              "      <td>1.25</td>\n",
              "      <td>t</td>\n",
              "      <td>t</td>\n",
              "      <td>1</td>\n",
              "      <td>f</td>\n",
              "      <td>g</td>\n",
              "      <td>202.0</td>\n",
              "      <td>0</td>\n",
              "      <td>+</td>\n",
              "    </tr>\n",
              "    <tr>\n",
              "      <th>1</th>\n",
              "      <td>a</td>\n",
              "      <td>58.67</td>\n",
              "      <td>4.460</td>\n",
              "      <td>u</td>\n",
              "      <td>g</td>\n",
              "      <td>q</td>\n",
              "      <td>h</td>\n",
              "      <td>3.04</td>\n",
              "      <td>t</td>\n",
              "      <td>t</td>\n",
              "      <td>6</td>\n",
              "      <td>f</td>\n",
              "      <td>g</td>\n",
              "      <td>43.0</td>\n",
              "      <td>560</td>\n",
              "      <td>+</td>\n",
              "    </tr>\n",
              "    <tr>\n",
              "      <th>2</th>\n",
              "      <td>a</td>\n",
              "      <td>24.50</td>\n",
              "      <td>0.500</td>\n",
              "      <td>u</td>\n",
              "      <td>g</td>\n",
              "      <td>q</td>\n",
              "      <td>h</td>\n",
              "      <td>1.50</td>\n",
              "      <td>t</td>\n",
              "      <td>f</td>\n",
              "      <td>0</td>\n",
              "      <td>f</td>\n",
              "      <td>g</td>\n",
              "      <td>280.0</td>\n",
              "      <td>824</td>\n",
              "      <td>+</td>\n",
              "    </tr>\n",
              "    <tr>\n",
              "      <th>3</th>\n",
              "      <td>b</td>\n",
              "      <td>27.83</td>\n",
              "      <td>1.540</td>\n",
              "      <td>u</td>\n",
              "      <td>g</td>\n",
              "      <td>w</td>\n",
              "      <td>v</td>\n",
              "      <td>3.75</td>\n",
              "      <td>t</td>\n",
              "      <td>t</td>\n",
              "      <td>5</td>\n",
              "      <td>t</td>\n",
              "      <td>g</td>\n",
              "      <td>100.0</td>\n",
              "      <td>3</td>\n",
              "      <td>+</td>\n",
              "    </tr>\n",
              "    <tr>\n",
              "      <th>4</th>\n",
              "      <td>b</td>\n",
              "      <td>20.17</td>\n",
              "      <td>5.625</td>\n",
              "      <td>u</td>\n",
              "      <td>g</td>\n",
              "      <td>w</td>\n",
              "      <td>v</td>\n",
              "      <td>1.71</td>\n",
              "      <td>t</td>\n",
              "      <td>f</td>\n",
              "      <td>0</td>\n",
              "      <td>f</td>\n",
              "      <td>s</td>\n",
              "      <td>120.0</td>\n",
              "      <td>0</td>\n",
              "      <td>+</td>\n",
              "    </tr>\n",
              "  </tbody>\n",
              "</table>\n",
              "</div>"
            ],
            "text/plain": [
              "  A1     A2     A3 A4 A5 A6 A7    A8 A9 A10  A11 A12 A13    A14  A15 A16\n",
              "0  b  30.83  0.000  u  g  w  v  1.25  t   t    1   f   g  202.0    0   +\n",
              "1  a  58.67  4.460  u  g  q  h  3.04  t   t    6   f   g   43.0  560   +\n",
              "2  a  24.50  0.500  u  g  q  h  1.50  t   f    0   f   g  280.0  824   +\n",
              "3  b  27.83  1.540  u  g  w  v  3.75  t   t    5   t   g  100.0    3   +\n",
              "4  b  20.17  5.625  u  g  w  v  1.71  t   f    0   f   s  120.0    0   +"
            ]
          },
          "metadata": {
            "tags": []
          },
          "execution_count": 73
        }
      ]
    },
    {
      "metadata": {
        "id": "baoxFZNEgmyh",
        "colab_type": "code",
        "colab": {
          "base_uri": "https://localhost:8080/",
          "height": 34
        },
        "outputId": "ed79fc5a-5239-45c5-ad96-c4fa316c3e47"
      },
      "cell_type": "code",
      "source": [
        "# Everything checks out. I want to change A16 to something more flexible. \n",
        "\n",
        "df[\"A16\"].unique()"
      ],
      "execution_count": 74,
      "outputs": [
        {
          "output_type": "execute_result",
          "data": {
            "text/plain": [
              "array(['+', '-'], dtype=object)"
            ]
          },
          "metadata": {
            "tags": []
          },
          "execution_count": 74
        }
      ]
    },
    {
      "metadata": {
        "id": "aiFZKiP6gmyj",
        "colab_type": "code",
        "colab": {}
      },
      "cell_type": "code",
      "source": [
        "#Some minor data cleaning. \n",
        "df[\"A16\"] = df[\"A16\"].replace({'+': 1, '-': 0})\n",
        "df['A11'] = df['A11'].astype(float)\n",
        "df['A15'] = df['A15'].astype(float)"
      ],
      "execution_count": 0,
      "outputs": []
    },
    {
      "metadata": {
        "id": "AbGNHqxMgmyl",
        "colab_type": "code",
        "colab": {
          "base_uri": "https://localhost:8080/",
          "height": 204
        },
        "outputId": "de6e800b-efde-4ff3-d757-e23e8186a2e6"
      },
      "cell_type": "code",
      "source": [
        "df.head()"
      ],
      "execution_count": 76,
      "outputs": [
        {
          "output_type": "execute_result",
          "data": {
            "text/html": [
              "<div>\n",
              "<style scoped>\n",
              "    .dataframe tbody tr th:only-of-type {\n",
              "        vertical-align: middle;\n",
              "    }\n",
              "\n",
              "    .dataframe tbody tr th {\n",
              "        vertical-align: top;\n",
              "    }\n",
              "\n",
              "    .dataframe thead th {\n",
              "        text-align: right;\n",
              "    }\n",
              "</style>\n",
              "<table border=\"1\" class=\"dataframe\">\n",
              "  <thead>\n",
              "    <tr style=\"text-align: right;\">\n",
              "      <th></th>\n",
              "      <th>A1</th>\n",
              "      <th>A2</th>\n",
              "      <th>A3</th>\n",
              "      <th>A4</th>\n",
              "      <th>A5</th>\n",
              "      <th>A6</th>\n",
              "      <th>A7</th>\n",
              "      <th>A8</th>\n",
              "      <th>A9</th>\n",
              "      <th>A10</th>\n",
              "      <th>A11</th>\n",
              "      <th>A12</th>\n",
              "      <th>A13</th>\n",
              "      <th>A14</th>\n",
              "      <th>A15</th>\n",
              "      <th>A16</th>\n",
              "    </tr>\n",
              "  </thead>\n",
              "  <tbody>\n",
              "    <tr>\n",
              "      <th>0</th>\n",
              "      <td>b</td>\n",
              "      <td>30.83</td>\n",
              "      <td>0.000</td>\n",
              "      <td>u</td>\n",
              "      <td>g</td>\n",
              "      <td>w</td>\n",
              "      <td>v</td>\n",
              "      <td>1.25</td>\n",
              "      <td>t</td>\n",
              "      <td>t</td>\n",
              "      <td>1.0</td>\n",
              "      <td>f</td>\n",
              "      <td>g</td>\n",
              "      <td>202.0</td>\n",
              "      <td>0.0</td>\n",
              "      <td>1</td>\n",
              "    </tr>\n",
              "    <tr>\n",
              "      <th>1</th>\n",
              "      <td>a</td>\n",
              "      <td>58.67</td>\n",
              "      <td>4.460</td>\n",
              "      <td>u</td>\n",
              "      <td>g</td>\n",
              "      <td>q</td>\n",
              "      <td>h</td>\n",
              "      <td>3.04</td>\n",
              "      <td>t</td>\n",
              "      <td>t</td>\n",
              "      <td>6.0</td>\n",
              "      <td>f</td>\n",
              "      <td>g</td>\n",
              "      <td>43.0</td>\n",
              "      <td>560.0</td>\n",
              "      <td>1</td>\n",
              "    </tr>\n",
              "    <tr>\n",
              "      <th>2</th>\n",
              "      <td>a</td>\n",
              "      <td>24.50</td>\n",
              "      <td>0.500</td>\n",
              "      <td>u</td>\n",
              "      <td>g</td>\n",
              "      <td>q</td>\n",
              "      <td>h</td>\n",
              "      <td>1.50</td>\n",
              "      <td>t</td>\n",
              "      <td>f</td>\n",
              "      <td>0.0</td>\n",
              "      <td>f</td>\n",
              "      <td>g</td>\n",
              "      <td>280.0</td>\n",
              "      <td>824.0</td>\n",
              "      <td>1</td>\n",
              "    </tr>\n",
              "    <tr>\n",
              "      <th>3</th>\n",
              "      <td>b</td>\n",
              "      <td>27.83</td>\n",
              "      <td>1.540</td>\n",
              "      <td>u</td>\n",
              "      <td>g</td>\n",
              "      <td>w</td>\n",
              "      <td>v</td>\n",
              "      <td>3.75</td>\n",
              "      <td>t</td>\n",
              "      <td>t</td>\n",
              "      <td>5.0</td>\n",
              "      <td>t</td>\n",
              "      <td>g</td>\n",
              "      <td>100.0</td>\n",
              "      <td>3.0</td>\n",
              "      <td>1</td>\n",
              "    </tr>\n",
              "    <tr>\n",
              "      <th>4</th>\n",
              "      <td>b</td>\n",
              "      <td>20.17</td>\n",
              "      <td>5.625</td>\n",
              "      <td>u</td>\n",
              "      <td>g</td>\n",
              "      <td>w</td>\n",
              "      <td>v</td>\n",
              "      <td>1.71</td>\n",
              "      <td>t</td>\n",
              "      <td>f</td>\n",
              "      <td>0.0</td>\n",
              "      <td>f</td>\n",
              "      <td>s</td>\n",
              "      <td>120.0</td>\n",
              "      <td>0.0</td>\n",
              "      <td>1</td>\n",
              "    </tr>\n",
              "  </tbody>\n",
              "</table>\n",
              "</div>"
            ],
            "text/plain": [
              "  A1     A2     A3 A4 A5 A6 A7    A8 A9 A10  A11 A12 A13    A14    A15  A16\n",
              "0  b  30.83  0.000  u  g  w  v  1.25  t   t  1.0   f   g  202.0    0.0    1\n",
              "1  a  58.67  4.460  u  g  q  h  3.04  t   t  6.0   f   g   43.0  560.0    1\n",
              "2  a  24.50  0.500  u  g  q  h  1.50  t   f  0.0   f   g  280.0  824.0    1\n",
              "3  b  27.83  1.540  u  g  w  v  3.75  t   t  5.0   t   g  100.0    3.0    1\n",
              "4  b  20.17  5.625  u  g  w  v  1.71  t   f  0.0   f   s  120.0    0.0    1"
            ]
          },
          "metadata": {
            "tags": []
          },
          "execution_count": 76
        }
      ]
    },
    {
      "metadata": {
        "colab_type": "text",
        "id": "G7rLytbrO38L"
      },
      "cell_type": "markdown",
      "source": [
        "## Part 2 - Exploring data, Testing hypotheses\n",
        "\n",
        "The only thing we really know about this data is that A16 is the class label. Besides that, we have 6 continuous (float) features and 9 categorical features.\n",
        "\n",
        "Explore the data: you can use whatever approach (tables, utility functions, visualizations) to get an impression of the distributions and relationships of the variables. In general, your goal is to understand how the features are different when grouped by the two class labels (`+` and `-`).\n",
        "\n",
        "For the 6 continuous features, how are they different when split between the two class labels? Choose two features to run t-tests (again split by class label) - specifically, select one feature that is *extremely* different between the classes, and another feature that is notably less different (though perhaps still \"statistically significantly\" different). You may have to explore more than two features to do this.\n",
        "\n",
        "For the categorical features, explore by creating \"cross tabs\" (aka [contingency tables](https://en.wikipedia.org/wiki/Contingency_table)) between them and the class label, and apply the Chi-squared test to them. [pandas.crosstab](http://pandas.pydata.org/pandas-docs/stable/reference/api/pandas.crosstab.html) can create contingency tables, and [scipy.stats.chi2_contingency](https://docs.scipy.org/doc/scipy/reference/generated/scipy.stats.chi2_contingency.html) can calculate the Chi-squared statistic for them.\n",
        "\n",
        "There are 9 categorical features - as with the t-test, try to find one where the Chi-squared test returns an extreme result (rejecting the null that the data are independent), and one where it is less extreme.\n",
        "\n",
        "**NOTE** - \"less extreme\" just means smaller test statistic/larger p-value. Even the least extreme differences may be strongly statistically significant.\n",
        "\n",
        "Your *main* goal is the hypothesis tests, so don't spend too much time on the exploration/visualization piece. That is just a means to an end - use simple visualizations, such as boxplots or a scatter matrix (both built in to pandas), to get a feel for the overall distribution of the variables.\n",
        "\n",
        "This is challenging, so manage your time and aim for a baseline of at least running two t-tests and two Chi-squared tests before polishing. And don't forget to answer the questions in part 3, even if your results in this part aren't what you want them to be."
      ]
    },
    {
      "metadata": {
        "id": "8HiEPc_mgmyo",
        "colab_type": "text"
      },
      "cell_type": "markdown",
      "source": [
        "### Continous Feature Analysis"
      ]
    },
    {
      "metadata": {
        "colab_type": "code",
        "id": "_nqcgc0yzm68",
        "colab": {}
      },
      "cell_type": "code",
      "source": [
        "continuous = df[['A2','A3','A8','A11','A14','A15', 'A16']]\n",
        "categorical = df[['A1','A4','A5','A6','A7','A9','A10','A12','A13','A16']]\n",
        "approve = continuous.loc[continuous['A16'] == 1]\n",
        "decline = continuous.loc[continuous['A16'] == 0]"
      ],
      "execution_count": 0,
      "outputs": []
    },
    {
      "metadata": {
        "id": "4BnD-Efvgmyq",
        "colab_type": "code",
        "colab": {
          "base_uri": "https://localhost:8080/",
          "height": 266
        },
        "outputId": "be452c9d-4920-42e5-8681-203826116e0a"
      },
      "cell_type": "code",
      "source": [
        "df.describe().T"
      ],
      "execution_count": 78,
      "outputs": [
        {
          "output_type": "execute_result",
          "data": {
            "text/html": [
              "<div>\n",
              "<style scoped>\n",
              "    .dataframe tbody tr th:only-of-type {\n",
              "        vertical-align: middle;\n",
              "    }\n",
              "\n",
              "    .dataframe tbody tr th {\n",
              "        vertical-align: top;\n",
              "    }\n",
              "\n",
              "    .dataframe thead th {\n",
              "        text-align: right;\n",
              "    }\n",
              "</style>\n",
              "<table border=\"1\" class=\"dataframe\">\n",
              "  <thead>\n",
              "    <tr style=\"text-align: right;\">\n",
              "      <th></th>\n",
              "      <th>count</th>\n",
              "      <th>mean</th>\n",
              "      <th>std</th>\n",
              "      <th>min</th>\n",
              "      <th>25%</th>\n",
              "      <th>50%</th>\n",
              "      <th>75%</th>\n",
              "      <th>max</th>\n",
              "    </tr>\n",
              "  </thead>\n",
              "  <tbody>\n",
              "    <tr>\n",
              "      <th>A2</th>\n",
              "      <td>678.0</td>\n",
              "      <td>31.568171</td>\n",
              "      <td>11.957862</td>\n",
              "      <td>13.75</td>\n",
              "      <td>22.6025</td>\n",
              "      <td>28.46</td>\n",
              "      <td>38.2300</td>\n",
              "      <td>80.25</td>\n",
              "    </tr>\n",
              "    <tr>\n",
              "      <th>A3</th>\n",
              "      <td>690.0</td>\n",
              "      <td>4.758725</td>\n",
              "      <td>4.978163</td>\n",
              "      <td>0.00</td>\n",
              "      <td>1.0000</td>\n",
              "      <td>2.75</td>\n",
              "      <td>7.2075</td>\n",
              "      <td>28.00</td>\n",
              "    </tr>\n",
              "    <tr>\n",
              "      <th>A8</th>\n",
              "      <td>690.0</td>\n",
              "      <td>2.223406</td>\n",
              "      <td>3.346513</td>\n",
              "      <td>0.00</td>\n",
              "      <td>0.1650</td>\n",
              "      <td>1.00</td>\n",
              "      <td>2.6250</td>\n",
              "      <td>28.50</td>\n",
              "    </tr>\n",
              "    <tr>\n",
              "      <th>A11</th>\n",
              "      <td>690.0</td>\n",
              "      <td>2.400000</td>\n",
              "      <td>4.862940</td>\n",
              "      <td>0.00</td>\n",
              "      <td>0.0000</td>\n",
              "      <td>0.00</td>\n",
              "      <td>3.0000</td>\n",
              "      <td>67.00</td>\n",
              "    </tr>\n",
              "    <tr>\n",
              "      <th>A14</th>\n",
              "      <td>677.0</td>\n",
              "      <td>184.014771</td>\n",
              "      <td>173.806768</td>\n",
              "      <td>0.00</td>\n",
              "      <td>75.0000</td>\n",
              "      <td>160.00</td>\n",
              "      <td>276.0000</td>\n",
              "      <td>2000.00</td>\n",
              "    </tr>\n",
              "    <tr>\n",
              "      <th>A15</th>\n",
              "      <td>690.0</td>\n",
              "      <td>1017.385507</td>\n",
              "      <td>5210.102598</td>\n",
              "      <td>0.00</td>\n",
              "      <td>0.0000</td>\n",
              "      <td>5.00</td>\n",
              "      <td>395.5000</td>\n",
              "      <td>100000.00</td>\n",
              "    </tr>\n",
              "    <tr>\n",
              "      <th>A16</th>\n",
              "      <td>690.0</td>\n",
              "      <td>0.444928</td>\n",
              "      <td>0.497318</td>\n",
              "      <td>0.00</td>\n",
              "      <td>0.0000</td>\n",
              "      <td>0.00</td>\n",
              "      <td>1.0000</td>\n",
              "      <td>1.00</td>\n",
              "    </tr>\n",
              "  </tbody>\n",
              "</table>\n",
              "</div>"
            ],
            "text/plain": [
              "     count         mean          std    min      25%     50%       75%  \\\n",
              "A2   678.0    31.568171    11.957862  13.75  22.6025   28.46   38.2300   \n",
              "A3   690.0     4.758725     4.978163   0.00   1.0000    2.75    7.2075   \n",
              "A8   690.0     2.223406     3.346513   0.00   0.1650    1.00    2.6250   \n",
              "A11  690.0     2.400000     4.862940   0.00   0.0000    0.00    3.0000   \n",
              "A14  677.0   184.014771   173.806768   0.00  75.0000  160.00  276.0000   \n",
              "A15  690.0  1017.385507  5210.102598   0.00   0.0000    5.00  395.5000   \n",
              "A16  690.0     0.444928     0.497318   0.00   0.0000    0.00    1.0000   \n",
              "\n",
              "           max  \n",
              "A2       80.25  \n",
              "A3       28.00  \n",
              "A8       28.50  \n",
              "A11      67.00  \n",
              "A14    2000.00  \n",
              "A15  100000.00  \n",
              "A16       1.00  "
            ]
          },
          "metadata": {
            "tags": []
          },
          "execution_count": 78
        }
      ]
    },
    {
      "metadata": {
        "id": "z9s1hDWOgmyt",
        "colab_type": "code",
        "colab": {
          "base_uri": "https://localhost:8080/",
          "height": 266
        },
        "outputId": "c2509569-5d7c-4a77-f0c5-d5ec9cf15cbc"
      },
      "cell_type": "code",
      "source": [
        "approve.describe().T"
      ],
      "execution_count": 79,
      "outputs": [
        {
          "output_type": "execute_result",
          "data": {
            "text/html": [
              "<div>\n",
              "<style scoped>\n",
              "    .dataframe tbody tr th:only-of-type {\n",
              "        vertical-align: middle;\n",
              "    }\n",
              "\n",
              "    .dataframe tbody tr th {\n",
              "        vertical-align: top;\n",
              "    }\n",
              "\n",
              "    .dataframe thead th {\n",
              "        text-align: right;\n",
              "    }\n",
              "</style>\n",
              "<table border=\"1\" class=\"dataframe\">\n",
              "  <thead>\n",
              "    <tr style=\"text-align: right;\">\n",
              "      <th></th>\n",
              "      <th>count</th>\n",
              "      <th>mean</th>\n",
              "      <th>std</th>\n",
              "      <th>min</th>\n",
              "      <th>25%</th>\n",
              "      <th>50%</th>\n",
              "      <th>75%</th>\n",
              "      <th>max</th>\n",
              "    </tr>\n",
              "  </thead>\n",
              "  <tbody>\n",
              "    <tr>\n",
              "      <th>A2</th>\n",
              "      <td>305.0</td>\n",
              "      <td>33.720492</td>\n",
              "      <td>12.809641</td>\n",
              "      <td>13.75</td>\n",
              "      <td>23.17</td>\n",
              "      <td>30.50</td>\n",
              "      <td>41.33</td>\n",
              "      <td>76.75</td>\n",
              "    </tr>\n",
              "    <tr>\n",
              "      <th>A3</th>\n",
              "      <td>307.0</td>\n",
              "      <td>5.904951</td>\n",
              "      <td>5.471485</td>\n",
              "      <td>0.00</td>\n",
              "      <td>1.50</td>\n",
              "      <td>4.46</td>\n",
              "      <td>9.52</td>\n",
              "      <td>28.00</td>\n",
              "    </tr>\n",
              "    <tr>\n",
              "      <th>A8</th>\n",
              "      <td>307.0</td>\n",
              "      <td>3.427899</td>\n",
              "      <td>4.120792</td>\n",
              "      <td>0.00</td>\n",
              "      <td>0.75</td>\n",
              "      <td>2.00</td>\n",
              "      <td>5.00</td>\n",
              "      <td>28.50</td>\n",
              "    </tr>\n",
              "    <tr>\n",
              "      <th>A11</th>\n",
              "      <td>307.0</td>\n",
              "      <td>4.605863</td>\n",
              "      <td>6.320242</td>\n",
              "      <td>0.00</td>\n",
              "      <td>0.00</td>\n",
              "      <td>3.00</td>\n",
              "      <td>7.00</td>\n",
              "      <td>67.00</td>\n",
              "    </tr>\n",
              "    <tr>\n",
              "      <th>A14</th>\n",
              "      <td>301.0</td>\n",
              "      <td>164.421927</td>\n",
              "      <td>161.770675</td>\n",
              "      <td>0.00</td>\n",
              "      <td>0.00</td>\n",
              "      <td>120.00</td>\n",
              "      <td>280.00</td>\n",
              "      <td>840.00</td>\n",
              "    </tr>\n",
              "    <tr>\n",
              "      <th>A15</th>\n",
              "      <td>307.0</td>\n",
              "      <td>2038.859935</td>\n",
              "      <td>7659.763941</td>\n",
              "      <td>0.00</td>\n",
              "      <td>0.00</td>\n",
              "      <td>221.00</td>\n",
              "      <td>1209.00</td>\n",
              "      <td>100000.00</td>\n",
              "    </tr>\n",
              "    <tr>\n",
              "      <th>A16</th>\n",
              "      <td>307.0</td>\n",
              "      <td>1.000000</td>\n",
              "      <td>0.000000</td>\n",
              "      <td>1.00</td>\n",
              "      <td>1.00</td>\n",
              "      <td>1.00</td>\n",
              "      <td>1.00</td>\n",
              "      <td>1.00</td>\n",
              "    </tr>\n",
              "  </tbody>\n",
              "</table>\n",
              "</div>"
            ],
            "text/plain": [
              "     count         mean          std    min    25%     50%      75%        max\n",
              "A2   305.0    33.720492    12.809641  13.75  23.17   30.50    41.33      76.75\n",
              "A3   307.0     5.904951     5.471485   0.00   1.50    4.46     9.52      28.00\n",
              "A8   307.0     3.427899     4.120792   0.00   0.75    2.00     5.00      28.50\n",
              "A11  307.0     4.605863     6.320242   0.00   0.00    3.00     7.00      67.00\n",
              "A14  301.0   164.421927   161.770675   0.00   0.00  120.00   280.00     840.00\n",
              "A15  307.0  2038.859935  7659.763941   0.00   0.00  221.00  1209.00  100000.00\n",
              "A16  307.0     1.000000     0.000000   1.00   1.00    1.00     1.00       1.00"
            ]
          },
          "metadata": {
            "tags": []
          },
          "execution_count": 79
        }
      ]
    },
    {
      "metadata": {
        "id": "i1RuI0ETgmyv",
        "colab_type": "code",
        "colab": {
          "base_uri": "https://localhost:8080/",
          "height": 266
        },
        "outputId": "3a55528f-b32f-46ef-b867-90026669c04e"
      },
      "cell_type": "code",
      "source": [
        "decline.describe().T"
      ],
      "execution_count": 80,
      "outputs": [
        {
          "output_type": "execute_result",
          "data": {
            "text/html": [
              "<div>\n",
              "<style scoped>\n",
              "    .dataframe tbody tr th:only-of-type {\n",
              "        vertical-align: middle;\n",
              "    }\n",
              "\n",
              "    .dataframe tbody tr th {\n",
              "        vertical-align: top;\n",
              "    }\n",
              "\n",
              "    .dataframe thead th {\n",
              "        text-align: right;\n",
              "    }\n",
              "</style>\n",
              "<table border=\"1\" class=\"dataframe\">\n",
              "  <thead>\n",
              "    <tr style=\"text-align: right;\">\n",
              "      <th></th>\n",
              "      <th>count</th>\n",
              "      <th>mean</th>\n",
              "      <th>std</th>\n",
              "      <th>min</th>\n",
              "      <th>25%</th>\n",
              "      <th>50%</th>\n",
              "      <th>75%</th>\n",
              "      <th>max</th>\n",
              "    </tr>\n",
              "  </thead>\n",
              "  <tbody>\n",
              "    <tr>\n",
              "      <th>A2</th>\n",
              "      <td>373.0</td>\n",
              "      <td>29.808231</td>\n",
              "      <td>10.919291</td>\n",
              "      <td>15.17</td>\n",
              "      <td>22.000</td>\n",
              "      <td>27.330</td>\n",
              "      <td>34.83</td>\n",
              "      <td>80.250</td>\n",
              "    </tr>\n",
              "    <tr>\n",
              "      <th>A3</th>\n",
              "      <td>383.0</td>\n",
              "      <td>3.839948</td>\n",
              "      <td>4.337662</td>\n",
              "      <td>0.00</td>\n",
              "      <td>0.835</td>\n",
              "      <td>2.210</td>\n",
              "      <td>5.00</td>\n",
              "      <td>26.335</td>\n",
              "    </tr>\n",
              "    <tr>\n",
              "      <th>A8</th>\n",
              "      <td>383.0</td>\n",
              "      <td>1.257924</td>\n",
              "      <td>2.120481</td>\n",
              "      <td>0.00</td>\n",
              "      <td>0.125</td>\n",
              "      <td>0.415</td>\n",
              "      <td>1.50</td>\n",
              "      <td>13.875</td>\n",
              "    </tr>\n",
              "    <tr>\n",
              "      <th>A11</th>\n",
              "      <td>383.0</td>\n",
              "      <td>0.631854</td>\n",
              "      <td>1.900049</td>\n",
              "      <td>0.00</td>\n",
              "      <td>0.000</td>\n",
              "      <td>0.000</td>\n",
              "      <td>0.00</td>\n",
              "      <td>20.000</td>\n",
              "    </tr>\n",
              "    <tr>\n",
              "      <th>A14</th>\n",
              "      <td>376.0</td>\n",
              "      <td>199.699468</td>\n",
              "      <td>181.564835</td>\n",
              "      <td>0.00</td>\n",
              "      <td>100.000</td>\n",
              "      <td>167.500</td>\n",
              "      <td>272.00</td>\n",
              "      <td>2000.000</td>\n",
              "    </tr>\n",
              "    <tr>\n",
              "      <th>A15</th>\n",
              "      <td>383.0</td>\n",
              "      <td>198.605744</td>\n",
              "      <td>671.608839</td>\n",
              "      <td>0.00</td>\n",
              "      <td>0.000</td>\n",
              "      <td>1.000</td>\n",
              "      <td>67.00</td>\n",
              "      <td>5552.000</td>\n",
              "    </tr>\n",
              "    <tr>\n",
              "      <th>A16</th>\n",
              "      <td>383.0</td>\n",
              "      <td>0.000000</td>\n",
              "      <td>0.000000</td>\n",
              "      <td>0.00</td>\n",
              "      <td>0.000</td>\n",
              "      <td>0.000</td>\n",
              "      <td>0.00</td>\n",
              "      <td>0.000</td>\n",
              "    </tr>\n",
              "  </tbody>\n",
              "</table>\n",
              "</div>"
            ],
            "text/plain": [
              "     count        mean         std    min      25%      50%     75%       max\n",
              "A2   373.0   29.808231   10.919291  15.17   22.000   27.330   34.83    80.250\n",
              "A3   383.0    3.839948    4.337662   0.00    0.835    2.210    5.00    26.335\n",
              "A8   383.0    1.257924    2.120481   0.00    0.125    0.415    1.50    13.875\n",
              "A11  383.0    0.631854    1.900049   0.00    0.000    0.000    0.00    20.000\n",
              "A14  376.0  199.699468  181.564835   0.00  100.000  167.500  272.00  2000.000\n",
              "A15  383.0  198.605744  671.608839   0.00    0.000    1.000   67.00  5552.000\n",
              "A16  383.0    0.000000    0.000000   0.00    0.000    0.000    0.00     0.000"
            ]
          },
          "metadata": {
            "tags": []
          },
          "execution_count": 80
        }
      ]
    },
    {
      "metadata": {
        "id": "NyKY0Cnrgmyz",
        "colab_type": "code",
        "colab": {}
      },
      "cell_type": "code",
      "source": [
        "def dbl_test (column):\n",
        "    return(stats.ttest_1samp(approve[column], df[column].mean(), nan_policy = 'omit') ,\n",
        "           stats.ttest_1samp(decline[column], df[column].mean(), nan_policy = 'omit'))"
      ],
      "execution_count": 0,
      "outputs": []
    },
    {
      "metadata": {
        "id": "OQJ1FIU_gmy1",
        "colab_type": "code",
        "colab": {
          "base_uri": "https://localhost:8080/",
          "height": 153
        },
        "outputId": "cd9bf52c-a7e8-4790-8558-5964ccb081be"
      },
      "cell_type": "code",
      "source": [
        "# Not to print my results. \n",
        "\n",
        "print('Less Extreme Example: A-2')\n",
        "print(dbl_test('A2'))\n",
        "print()\n",
        "print('More Extreme Example: A-11')\n",
        "print(dbl_test('A11'))\n",
        "print()\n",
        "print('Weird and Fun Example: A-15')\n",
        "print(dbl_test('A15'))"
      ],
      "execution_count": 82,
      "outputs": [
        {
          "output_type": "stream",
          "text": [
            "Less Extreme Example: A-2\n",
            "(Ttest_1sampResult(statistic=2.934404328473507, pvalue=0.0035964225006290544), Ttest_1sampResult(statistic=-3.112848373560533, pvalue=0.001996279345797444))\n",
            "\n",
            "More Extreme Example: A-11\n",
            "(Ttest_1sampResult(statistic=6.115247963474785, pvalue=2.9376851337382315e-09), Ttest_1sampResult(statistic=-18.211793670382843, pvalue=8.54839203623047e-54))\n",
            "\n",
            "Weird and Fun Example: A-15\n",
            "(Ttest_1sampResult(statistic=2.336583473592097, pvalue=0.020106005451071305), Ttest_1sampResult(statistic=-23.858881691121024, pvalue=1.1003060833297629e-77))\n"
          ],
          "name": "stdout"
        }
      ]
    },
    {
      "metadata": {
        "id": "Tz6VRX6Pgmy4",
        "colab_type": "text"
      },
      "cell_type": "markdown",
      "source": [
        "### Categorical Feature Analysis"
      ]
    },
    {
      "metadata": {
        "id": "fZdyDrLegmy4",
        "colab_type": "code",
        "colab": {}
      },
      "cell_type": "code",
      "source": [
        "def qcross (x):\n",
        "    \"\"\"Just to make the crosstabs a little bit quicker\"\"\"\n",
        "    z = pd.crosstab(x,df['A16'],margins = True)\n",
        "    return z"
      ],
      "execution_count": 0,
      "outputs": []
    },
    {
      "metadata": {
        "id": "EnKxmH7Wgmy7",
        "colab_type": "code",
        "colab": {
          "base_uri": "https://localhost:8080/",
          "height": 173
        },
        "outputId": "b81f56b8-98f2-44a9-dccd-cbb58ef23ccb"
      },
      "cell_type": "code",
      "source": [
        "# The lectures mentioned a smell test. \n",
        "# I prefer the term giggle test. Same thing really. \n",
        "# Features appear independent. \n",
        "qcross(df['A1'])"
      ],
      "execution_count": 84,
      "outputs": [
        {
          "output_type": "execute_result",
          "data": {
            "text/html": [
              "<div>\n",
              "<style scoped>\n",
              "    .dataframe tbody tr th:only-of-type {\n",
              "        vertical-align: middle;\n",
              "    }\n",
              "\n",
              "    .dataframe tbody tr th {\n",
              "        vertical-align: top;\n",
              "    }\n",
              "\n",
              "    .dataframe thead th {\n",
              "        text-align: right;\n",
              "    }\n",
              "</style>\n",
              "<table border=\"1\" class=\"dataframe\">\n",
              "  <thead>\n",
              "    <tr style=\"text-align: right;\">\n",
              "      <th>A16</th>\n",
              "      <th>0</th>\n",
              "      <th>1</th>\n",
              "      <th>All</th>\n",
              "    </tr>\n",
              "    <tr>\n",
              "      <th>A1</th>\n",
              "      <th></th>\n",
              "      <th></th>\n",
              "      <th></th>\n",
              "    </tr>\n",
              "  </thead>\n",
              "  <tbody>\n",
              "    <tr>\n",
              "      <th>a</th>\n",
              "      <td>112</td>\n",
              "      <td>98</td>\n",
              "      <td>210</td>\n",
              "    </tr>\n",
              "    <tr>\n",
              "      <th>b</th>\n",
              "      <td>262</td>\n",
              "      <td>206</td>\n",
              "      <td>468</td>\n",
              "    </tr>\n",
              "    <tr>\n",
              "      <th>All</th>\n",
              "      <td>374</td>\n",
              "      <td>304</td>\n",
              "      <td>678</td>\n",
              "    </tr>\n",
              "  </tbody>\n",
              "</table>\n",
              "</div>"
            ],
            "text/plain": [
              "A16    0    1  All\n",
              "A1                \n",
              "a    112   98  210\n",
              "b    262  206  468\n",
              "All  374  304  678"
            ]
          },
          "metadata": {
            "tags": []
          },
          "execution_count": 84
        }
      ]
    },
    {
      "metadata": {
        "id": "Wq-BPMTpgmy-",
        "colab_type": "code",
        "colab": {
          "base_uri": "https://localhost:8080/",
          "height": 173
        },
        "outputId": "5d51db44-e90b-419b-d880-6b54895f7ef9"
      },
      "cell_type": "code",
      "source": [
        "# Next giggle test. \n",
        "# Lets see how it works when I plug in the numebrs. \n",
        "# Features appear highly dependent. \n",
        "qcross(df['A9'])"
      ],
      "execution_count": 85,
      "outputs": [
        {
          "output_type": "execute_result",
          "data": {
            "text/html": [
              "<div>\n",
              "<style scoped>\n",
              "    .dataframe tbody tr th:only-of-type {\n",
              "        vertical-align: middle;\n",
              "    }\n",
              "\n",
              "    .dataframe tbody tr th {\n",
              "        vertical-align: top;\n",
              "    }\n",
              "\n",
              "    .dataframe thead th {\n",
              "        text-align: right;\n",
              "    }\n",
              "</style>\n",
              "<table border=\"1\" class=\"dataframe\">\n",
              "  <thead>\n",
              "    <tr style=\"text-align: right;\">\n",
              "      <th>A16</th>\n",
              "      <th>0</th>\n",
              "      <th>1</th>\n",
              "      <th>All</th>\n",
              "    </tr>\n",
              "    <tr>\n",
              "      <th>A9</th>\n",
              "      <th></th>\n",
              "      <th></th>\n",
              "      <th></th>\n",
              "    </tr>\n",
              "  </thead>\n",
              "  <tbody>\n",
              "    <tr>\n",
              "      <th>f</th>\n",
              "      <td>306</td>\n",
              "      <td>23</td>\n",
              "      <td>329</td>\n",
              "    </tr>\n",
              "    <tr>\n",
              "      <th>t</th>\n",
              "      <td>77</td>\n",
              "      <td>284</td>\n",
              "      <td>361</td>\n",
              "    </tr>\n",
              "    <tr>\n",
              "      <th>All</th>\n",
              "      <td>383</td>\n",
              "      <td>307</td>\n",
              "      <td>690</td>\n",
              "    </tr>\n",
              "  </tbody>\n",
              "</table>\n",
              "</div>"
            ],
            "text/plain": [
              "A16    0    1  All\n",
              "A9                \n",
              "f    306   23  329\n",
              "t     77  284  361\n",
              "All  383  307  690"
            ]
          },
          "metadata": {
            "tags": []
          },
          "execution_count": 85
        }
      ]
    },
    {
      "metadata": {
        "id": "He_XSC0AgmzB",
        "colab_type": "code",
        "colab": {
          "base_uri": "https://localhost:8080/",
          "height": 119
        },
        "outputId": "b6ab2a4d-f3bd-4f8b-c09b-8321df45228d"
      },
      "cell_type": "code",
      "source": [
        "# Also as expected. Significantly insignificant. \n",
        "# Null Hypothesis NOT rejected. Features appear independent. \n",
        "stats.chi2_contingency(qcross(df['A1']))"
      ],
      "execution_count": 86,
      "outputs": [
        {
          "output_type": "execute_result",
          "data": {
            "text/plain": [
              "(0.41143508194591916,\n",
              " 0.981530018361231,\n",
              " 4,\n",
              " array([[115.84070796,  94.15929204, 210.        ],\n",
              "        [258.15929204, 209.84070796, 468.        ],\n",
              "        [374.        , 304.        , 678.        ]]))"
            ]
          },
          "metadata": {
            "tags": []
          },
          "execution_count": 86
        }
      ]
    },
    {
      "metadata": {
        "id": "SA2Xhl9EgmzH",
        "colab_type": "code",
        "colab": {
          "base_uri": "https://localhost:8080/",
          "height": 119
        },
        "outputId": "c1ed5e41-4956-4a12-ffc7-89e029e05e0b"
      },
      "cell_type": "code",
      "source": [
        "# As expected. A9 shows a high degree of significance. \n",
        "# Null Hypothesis rejected. Features are not independent. \n",
        "stats.chi2_contingency(qcross(df['A9']))"
      ],
      "execution_count": 87,
      "outputs": [
        {
          "output_type": "execute_result",
          "data": {
            "text/plain": [
              "(358.1003264716328,\n",
              " 3.125328283651331e-76,\n",
              " 4,\n",
              " array([[182.61884058, 146.38115942, 329.        ],\n",
              "        [200.38115942, 160.61884058, 361.        ],\n",
              "        [383.        , 307.        , 690.        ]]))"
            ]
          },
          "metadata": {
            "tags": []
          },
          "execution_count": 87
        }
      ]
    },
    {
      "metadata": {
        "colab_type": "text",
        "id": "ZM8JckA2bgnp"
      },
      "cell_type": "markdown",
      "source": [
        "## Part 3 - Analysis and Interpretation\n",
        "\n",
        "Now that you've looked at the data, answer the following questions:\n",
        "\n",
        "- Interpret and explain the two t-tests you ran - what do they tell you about the relationships between the continuous features you selected and the class labels?\n",
        "- Interpret and explain the two Chi-squared tests you ran - what do they tell you about the relationships between the categorical features you selected and the class labels?\n",
        "- What was the most challenging part of this sprint challenge?\n",
        "\n",
        "Answer with text, but feel free to intersperse example code/results or refer to it from earlier."
      ]
    },
    {
      "metadata": {
        "colab_type": "text",
        "id": "LIozLDNG2Uhu"
      },
      "cell_type": "markdown",
      "source": [
        "### T Tests\n",
        "\n",
        "The T-Tests I ran gave me the impression that the Class Labels are fairly dependent on the continuous features. I ran three T-Tests, one highlighting an extreme example and two highlighting less extreme example. The extreme example was the class feature 'A-11' as it produced astronomically small p-values. This indicated that the null hypothesis that these two features can be rejected. \n",
        "\n",
        "As a less extreme example, I chose the class feature 'A-2', as it had a less small but still statistically significant p-value. This also indicated that this feature rejects the null hypothesis.\n",
        "\n",
        "I chose the third example to solidify my next point, that certain class features have a high statistical significance in situations where the individual was declined, but had less apparent (although statistically signficant) impact on whether or not an individual was approved. In both the 'A-11' and 'A-15' have a far higher p-value for those declined than those approved. This is due to a stark difference in Standard Deviation as in both cases, the Standard Deviation of those approved is much larger compared to those declined. \n",
        "\n",
        "If I were to intuit why these standard deviations are different, I would state that the features these columns refer to are income related, as those approved could have wildly different incomes while those who are not could have more similar (and lower) incomes reported. \n",
        "\n",
        "Results reproduced below:"
      ]
    },
    {
      "metadata": {
        "id": "zXfoemOIgmzN",
        "colab_type": "code",
        "colab": {
          "base_uri": "https://localhost:8080/",
          "height": 153
        },
        "outputId": "087f8afa-d013-4c61-9491-c2c103f002e2"
      },
      "cell_type": "code",
      "source": [
        "print('Less Extreme Example: A-2')\n",
        "print(dbl_test('A2'))\n",
        "print()\n",
        "print('More Extreme Example: A-11')\n",
        "print(dbl_test('A11'))\n",
        "print()\n",
        "print('Weird and Fun Example: A-15')\n",
        "print(dbl_test('A15'))"
      ],
      "execution_count": 88,
      "outputs": [
        {
          "output_type": "stream",
          "text": [
            "Less Extreme Example: A-2\n",
            "(Ttest_1sampResult(statistic=2.934404328473507, pvalue=0.0035964225006290544), Ttest_1sampResult(statistic=-3.112848373560533, pvalue=0.001996279345797444))\n",
            "\n",
            "More Extreme Example: A-11\n",
            "(Ttest_1sampResult(statistic=6.115247963474785, pvalue=2.9376851337382315e-09), Ttest_1sampResult(statistic=-18.211793670382843, pvalue=8.54839203623047e-54))\n",
            "\n",
            "Weird and Fun Example: A-15\n",
            "(Ttest_1sampResult(statistic=2.336583473592097, pvalue=0.020106005451071305), Ttest_1sampResult(statistic=-23.858881691121024, pvalue=1.1003060833297629e-77))\n"
          ],
          "name": "stdout"
        }
      ]
    },
    {
      "metadata": {
        "id": "CmxgjbTGgmzQ",
        "colab_type": "text"
      },
      "cell_type": "markdown",
      "source": [
        "### $\\chi^2$ Tests\n",
        "\n",
        "The two Categorical features I looked at were **A-1** and **A-9** and they are diametric in how they relate to the Class Feature. **A-1** does not show enough deviation from the null hypothesis. It's p-value is actually quite high, and correlates with the relatively even distribution between categories as associated with the Class Label . On the other hand, **A-9** shows a rather extreme, and noticeable distrubtion between those accepted and those declined. As a result, the $\\chi^2$ test clearly rejects the null hypothesis that **A-9** and the Class Label are independent. \n",
        "\n",
        "P-Values are shown below:"
      ]
    },
    {
      "metadata": {
        "id": "pLgFi3yXhBf2",
        "colab_type": "code",
        "colab": {
          "base_uri": "https://localhost:8080/",
          "height": 102
        },
        "outputId": "d65d0277-1022-43a2-aa1c-68809d98af65"
      },
      "cell_type": "code",
      "source": [
        "print('A-1 p-value: ', stats.chi2_contingency(qcross(df['A1']))[1])\n",
        "print('Null Hypothesis: Not Rejected')\n",
        "print()\n",
        "print('A-9 p-value: ', stats.chi2_contingency(qcross(df['A9']))[1])\n",
        "print('Null Hypothesis: Rejected ')"
      ],
      "execution_count": 89,
      "outputs": [
        {
          "output_type": "stream",
          "text": [
            "A-1 p-value:  0.981530018361231\n",
            "Null Hypothesis: Not Rejected\n",
            "\n",
            "A-9 p-value:  3.125328283651331e-76\n",
            "Null Hypothesis: Rejected \n"
          ],
          "name": "stdout"
        }
      ]
    },
    {
      "metadata": {
        "id": "5ISZqEyGnBav",
        "colab_type": "text"
      },
      "cell_type": "markdown",
      "source": [
        "Furthermore, you can see that most features reject the null hypothesis. Only a couple do not reject the null hypothesis and appear to be independent. "
      ]
    },
    {
      "metadata": {
        "id": "DXtKxRZnjRX2",
        "colab_type": "code",
        "colab": {
          "base_uri": "https://localhost:8080/",
          "height": 328
        },
        "outputId": "4c93d051-f1fb-49b2-a1d6-cb0df0f15482"
      },
      "cell_type": "code",
      "source": [
        "features = categorical.columns.drop('A16').values.tolist()\n",
        "\n",
        "p_values = []\n",
        "\n",
        "for i in features:    \n",
        "  p_values.append(stats.chi2_contingency(qcross(df[i]))[1])\n",
        "  \n",
        "categorical_nH = pd.DataFrame({\"Features\": features, \n",
        "                               \"P-Values\": p_values, \n",
        "                               \"Null Hypothesis Rejected\": False})\n",
        "\n",
        "categorical_nH.loc[categorical_nH['P-Values'] < .05, \"Null Hypothesis Rejected\"] = True  \n",
        "\n",
        "categorical_nH"
      ],
      "execution_count": 90,
      "outputs": [
        {
          "output_type": "execute_result",
          "data": {
            "text/html": [
              "<div>\n",
              "<style scoped>\n",
              "    .dataframe tbody tr th:only-of-type {\n",
              "        vertical-align: middle;\n",
              "    }\n",
              "\n",
              "    .dataframe tbody tr th {\n",
              "        vertical-align: top;\n",
              "    }\n",
              "\n",
              "    .dataframe thead th {\n",
              "        text-align: right;\n",
              "    }\n",
              "</style>\n",
              "<table border=\"1\" class=\"dataframe\">\n",
              "  <thead>\n",
              "    <tr style=\"text-align: right;\">\n",
              "      <th></th>\n",
              "      <th>Features</th>\n",
              "      <th>Null Hypothesis Rejected</th>\n",
              "      <th>P-Values</th>\n",
              "    </tr>\n",
              "  </thead>\n",
              "  <tbody>\n",
              "    <tr>\n",
              "      <th>0</th>\n",
              "      <td>A1</td>\n",
              "      <td>False</td>\n",
              "      <td>9.815300e-01</td>\n",
              "    </tr>\n",
              "    <tr>\n",
              "      <th>1</th>\n",
              "      <td>A4</td>\n",
              "      <td>True</td>\n",
              "      <td>2.013603e-04</td>\n",
              "    </tr>\n",
              "    <tr>\n",
              "      <th>2</th>\n",
              "      <td>A5</td>\n",
              "      <td>True</td>\n",
              "      <td>2.013603e-04</td>\n",
              "    </tr>\n",
              "    <tr>\n",
              "      <th>3</th>\n",
              "      <td>A6</td>\n",
              "      <td>True</td>\n",
              "      <td>9.446934e-10</td>\n",
              "    </tr>\n",
              "    <tr>\n",
              "      <th>4</th>\n",
              "      <td>A7</td>\n",
              "      <td>True</td>\n",
              "      <td>4.097262e-04</td>\n",
              "    </tr>\n",
              "    <tr>\n",
              "      <th>5</th>\n",
              "      <td>A9</td>\n",
              "      <td>True</td>\n",
              "      <td>3.125328e-76</td>\n",
              "    </tr>\n",
              "    <tr>\n",
              "      <th>6</th>\n",
              "      <td>A10</td>\n",
              "      <td>True</td>\n",
              "      <td>2.485585e-30</td>\n",
              "    </tr>\n",
              "    <tr>\n",
              "      <th>7</th>\n",
              "      <td>A12</td>\n",
              "      <td>False</td>\n",
              "      <td>9.525455e-01</td>\n",
              "    </tr>\n",
              "    <tr>\n",
              "      <th>8</th>\n",
              "      <td>A13</td>\n",
              "      <td>False</td>\n",
              "      <td>1.630875e-01</td>\n",
              "    </tr>\n",
              "  </tbody>\n",
              "</table>\n",
              "</div>"
            ],
            "text/plain": [
              "  Features  Null Hypothesis Rejected      P-Values\n",
              "0       A1                     False  9.815300e-01\n",
              "1       A4                      True  2.013603e-04\n",
              "2       A5                      True  2.013603e-04\n",
              "3       A6                      True  9.446934e-10\n",
              "4       A7                      True  4.097262e-04\n",
              "5       A9                      True  3.125328e-76\n",
              "6      A10                      True  2.485585e-30\n",
              "7      A12                     False  9.525455e-01\n",
              "8      A13                     False  1.630875e-01"
            ]
          },
          "metadata": {
            "tags": []
          },
          "execution_count": 90
        }
      ]
    },
    {
      "metadata": {
        "id": "DfTNxwHNkDaM",
        "colab_type": "text"
      },
      "cell_type": "markdown",
      "source": [
        "### Most Challenging Part: \n",
        "\n",
        "Sifting through the data to find the most likely candidates for the Statistical Tests. I created a few functions to do it more quickly, but it was the part the required the most care. "
      ]
    }
  ]
}