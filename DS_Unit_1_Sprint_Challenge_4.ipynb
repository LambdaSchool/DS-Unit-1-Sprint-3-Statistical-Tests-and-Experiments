{
  "nbformat": 4,
  "nbformat_minor": 0,
  "metadata": {
    "colab": {
      "name": "DS_Unit_1_Sprint_Challenge_4.ipynb",
      "version": "0.3.2",
      "provenance": [],
      "collapsed_sections": [
        "vt6UcDsrbAPM",
        "duTESBg7bD_t",
        "KK_HdOQobd_b",
        "fQo3Vgpub1e1",
        "CgGlkDSqftQ4",
        "Kea4eAMxgExH",
        "rffUD0MFgstr",
        "eadnjxe0fvgm",
        "7Hn5uwsKh56u",
        "rcJyxM28h9Vf",
        "fet39cZAf4dz",
        "Qq72xOq9qEjj"
      ],
      "include_colab_link": true
    },
    "kernelspec": {
      "name": "python3",
      "display_name": "Python 3"
    }
  },
  "cells": [
    {
      "cell_type": "markdown",
      "metadata": {
        "id": "view-in-github",
        "colab_type": "text"
      },
      "source": [
        "<a href=\"https://colab.research.google.com/github/zangell44/DS-Unit-1-Sprint-4-Statistical-Tests-and-Experiments/blob/master/DS_Unit_1_Sprint_Challenge_4.ipynb\" target=\"_parent\"><img src=\"https://colab.research.google.com/assets/colab-badge.svg\" alt=\"Open In Colab\"/></a>"
      ]
    },
    {
      "metadata": {
        "id": "NooAiTdnafkz",
        "colab_type": "text"
      },
      "cell_type": "markdown",
      "source": [
        "# Data Science Unit 1 Sprint Challenge 4\n",
        "\n",
        "## Exploring Data, Testing Hypotheses\n",
        "\n",
        "In this sprint challenge you will look at a dataset of people being approved or rejected for credit.\n",
        "\n",
        "https://archive.ics.uci.edu/ml/datasets/Credit+Approval\n",
        "\n",
        "Data Set Information: This file concerns credit card applications. All attribute names and values have been changed to meaningless symbols to protect confidentiality of the data. This dataset is interesting because there is a good mix of attributes -- continuous, nominal with small numbers of values, and nominal with larger numbers of values. There are also a few missing values.\n",
        "\n",
        "Attribute Information:\n",
        "- A1: b, a.\n",
        "- A2: continuous.\n",
        "- A3: continuous.\n",
        "- A4: u, y, l, t.\n",
        "- A5: g, p, gg.\n",
        "- A6: c, d, cc, i, j, k, m, r, q, w, x, e, aa, ff.\n",
        "- A7: v, h, bb, j, n, z, dd, ff, o.\n",
        "- A8: continuous.\n",
        "- A9: t, f.\n",
        "- A10: t, f.\n",
        "- A11: continuous.\n",
        "- A12: t, f.\n",
        "- A13: g, p, s.\n",
        "- A14: continuous.\n",
        "- A15: continuous.\n",
        "- A16: +,- (class attribute)\n",
        "\n",
        "Yes, most of that doesn't mean anything. A16 (the class attribute) is the most interesting, as it separates the 307 approved cases from the 383 rejected cases. The remaining variables have been obfuscated for privacy - a challenge you may have to deal with in your data science career.\n",
        "\n",
        "Sprint challenges are evaluated based on satisfactory completion of each part. It is suggested you work through it in order, getting each aspect reasonably working, before trying to deeply explore, iterate, or refine any given step. Once you get to the end, if you want to go back and improve things, go for it!"
      ]
    },
    {
      "metadata": {
        "id": "5wch6ksCbJtZ",
        "colab_type": "text"
      },
      "cell_type": "markdown",
      "source": [
        "## Part 1 - Load and validate the data\n",
        "\n",
        "- Load the data as a `pandas` data frame.\n",
        "- Validate that it has the appropriate number of observations (you can check the raw file, and also read the dataset description from UCI).\n",
        "- UCI says there should be missing data - check, and if necessary change the data so pandas recognizes it as na\n",
        "- Make sure that the loaded features are of the types described above (continuous values should be treated as float), and correct as necessary\n",
        "\n",
        "This is review, but skills that you'll use at the start of any data exploration. Further, you may have to do some investigation to figure out which file to load from - that is part of the puzzle."
      ]
    },
    {
      "metadata": {
        "id": "Q79xDLckzibS",
        "colab_type": "code",
        "colab": {}
      },
      "cell_type": "code",
      "source": [
        "# imports\n",
        "import pandas as pd\n",
        "import numpy as np\n",
        "import matplotlib.pyplot as plt\n",
        "import scipy\n",
        "from scipy import stats\n",
        "import seaborn as sns"
      ],
      "execution_count": 0,
      "outputs": []
    },
    {
      "metadata": {
        "id": "vt6UcDsrbAPM",
        "colab_type": "text"
      },
      "cell_type": "markdown",
      "source": [
        "### Load Data as a Pandas Dataframe"
      ]
    },
    {
      "metadata": {
        "id": "Xbk1EL-EZ0zT",
        "colab_type": "code",
        "colab": {
          "base_uri": "https://localhost:8080/",
          "height": 197
        },
        "outputId": "5cb56b96-84cb-404c-f93c-84ccd011bb38"
      },
      "cell_type": "code",
      "source": [
        "credit_data_url = 'https://archive.ics.uci.edu/ml/machine-learning-databases/credit-screening/crx.data'\n",
        "\n",
        "# label attribute names consistent with description\n",
        "attribute_names = ['A' + str(i) for i in range(1,17)]\n",
        "\n",
        "credit = pd.read_csv(credit_data_url, header=None, names=attribute_names)\n",
        "credit.head()"
      ],
      "execution_count": 2,
      "outputs": [
        {
          "output_type": "execute_result",
          "data": {
            "text/html": [
              "<div>\n",
              "<style scoped>\n",
              "    .dataframe tbody tr th:only-of-type {\n",
              "        vertical-align: middle;\n",
              "    }\n",
              "\n",
              "    .dataframe tbody tr th {\n",
              "        vertical-align: top;\n",
              "    }\n",
              "\n",
              "    .dataframe thead th {\n",
              "        text-align: right;\n",
              "    }\n",
              "</style>\n",
              "<table border=\"1\" class=\"dataframe\">\n",
              "  <thead>\n",
              "    <tr style=\"text-align: right;\">\n",
              "      <th></th>\n",
              "      <th>A1</th>\n",
              "      <th>A2</th>\n",
              "      <th>A3</th>\n",
              "      <th>A4</th>\n",
              "      <th>A5</th>\n",
              "      <th>A6</th>\n",
              "      <th>A7</th>\n",
              "      <th>A8</th>\n",
              "      <th>A9</th>\n",
              "      <th>A10</th>\n",
              "      <th>A11</th>\n",
              "      <th>A12</th>\n",
              "      <th>A13</th>\n",
              "      <th>A14</th>\n",
              "      <th>A15</th>\n",
              "      <th>A16</th>\n",
              "    </tr>\n",
              "  </thead>\n",
              "  <tbody>\n",
              "    <tr>\n",
              "      <th>0</th>\n",
              "      <td>b</td>\n",
              "      <td>30.83</td>\n",
              "      <td>0.000</td>\n",
              "      <td>u</td>\n",
              "      <td>g</td>\n",
              "      <td>w</td>\n",
              "      <td>v</td>\n",
              "      <td>1.25</td>\n",
              "      <td>t</td>\n",
              "      <td>t</td>\n",
              "      <td>1</td>\n",
              "      <td>f</td>\n",
              "      <td>g</td>\n",
              "      <td>00202</td>\n",
              "      <td>0</td>\n",
              "      <td>+</td>\n",
              "    </tr>\n",
              "    <tr>\n",
              "      <th>1</th>\n",
              "      <td>a</td>\n",
              "      <td>58.67</td>\n",
              "      <td>4.460</td>\n",
              "      <td>u</td>\n",
              "      <td>g</td>\n",
              "      <td>q</td>\n",
              "      <td>h</td>\n",
              "      <td>3.04</td>\n",
              "      <td>t</td>\n",
              "      <td>t</td>\n",
              "      <td>6</td>\n",
              "      <td>f</td>\n",
              "      <td>g</td>\n",
              "      <td>00043</td>\n",
              "      <td>560</td>\n",
              "      <td>+</td>\n",
              "    </tr>\n",
              "    <tr>\n",
              "      <th>2</th>\n",
              "      <td>a</td>\n",
              "      <td>24.50</td>\n",
              "      <td>0.500</td>\n",
              "      <td>u</td>\n",
              "      <td>g</td>\n",
              "      <td>q</td>\n",
              "      <td>h</td>\n",
              "      <td>1.50</td>\n",
              "      <td>t</td>\n",
              "      <td>f</td>\n",
              "      <td>0</td>\n",
              "      <td>f</td>\n",
              "      <td>g</td>\n",
              "      <td>00280</td>\n",
              "      <td>824</td>\n",
              "      <td>+</td>\n",
              "    </tr>\n",
              "    <tr>\n",
              "      <th>3</th>\n",
              "      <td>b</td>\n",
              "      <td>27.83</td>\n",
              "      <td>1.540</td>\n",
              "      <td>u</td>\n",
              "      <td>g</td>\n",
              "      <td>w</td>\n",
              "      <td>v</td>\n",
              "      <td>3.75</td>\n",
              "      <td>t</td>\n",
              "      <td>t</td>\n",
              "      <td>5</td>\n",
              "      <td>t</td>\n",
              "      <td>g</td>\n",
              "      <td>00100</td>\n",
              "      <td>3</td>\n",
              "      <td>+</td>\n",
              "    </tr>\n",
              "    <tr>\n",
              "      <th>4</th>\n",
              "      <td>b</td>\n",
              "      <td>20.17</td>\n",
              "      <td>5.625</td>\n",
              "      <td>u</td>\n",
              "      <td>g</td>\n",
              "      <td>w</td>\n",
              "      <td>v</td>\n",
              "      <td>1.71</td>\n",
              "      <td>t</td>\n",
              "      <td>f</td>\n",
              "      <td>0</td>\n",
              "      <td>f</td>\n",
              "      <td>s</td>\n",
              "      <td>00120</td>\n",
              "      <td>0</td>\n",
              "      <td>+</td>\n",
              "    </tr>\n",
              "  </tbody>\n",
              "</table>\n",
              "</div>"
            ],
            "text/plain": [
              "  A1     A2     A3 A4 A5 A6 A7    A8 A9 A10  A11 A12 A13    A14  A15 A16\n",
              "0  b  30.83  0.000  u  g  w  v  1.25  t   t    1   f   g  00202    0   +\n",
              "1  a  58.67  4.460  u  g  q  h  3.04  t   t    6   f   g  00043  560   +\n",
              "2  a  24.50  0.500  u  g  q  h  1.50  t   f    0   f   g  00280  824   +\n",
              "3  b  27.83  1.540  u  g  w  v  3.75  t   t    5   t   g  00100    3   +\n",
              "4  b  20.17  5.625  u  g  w  v  1.71  t   f    0   f   s  00120    0   +"
            ]
          },
          "metadata": {
            "tags": []
          },
          "execution_count": 2
        }
      ]
    },
    {
      "metadata": {
        "id": "duTESBg7bD_t",
        "colab_type": "text"
      },
      "cell_type": "markdown",
      "source": [
        "### Validate that it has the appropriate number of observations (you can check the raw file, and also read the dataset description from UCI).\n",
        "\n",
        "From UCI, we should have 690 observations with 15 attributes, plus the target variable."
      ]
    },
    {
      "metadata": {
        "id": "9p4k8VzXa-HR",
        "colab_type": "code",
        "colab": {
          "base_uri": "https://localhost:8080/",
          "height": 34
        },
        "outputId": "3822b898-b817-4e15-b69b-2a656266bb57"
      },
      "cell_type": "code",
      "source": [
        "assert credit.shape == (690,16)\n",
        "\n",
        "print ('We have the correct data size')"
      ],
      "execution_count": 3,
      "outputs": [
        {
          "output_type": "stream",
          "text": [
            "We have the correct data size\n"
          ],
          "name": "stdout"
        }
      ]
    },
    {
      "metadata": {
        "id": "KK_HdOQobd_b",
        "colab_type": "text"
      },
      "cell_type": "markdown",
      "source": [
        "### UCI says there should be missing data - check, and if necessary change the data so pandas recognizes it as na\n",
        "\n",
        "From UCI -\n",
        "\n",
        "Missing Attribute Values:\n",
        "    37 cases (5%) have one or more missing values.  The missing\n",
        "    values from particular attributes are:\n",
        "\n",
        "    A1:  12\n",
        "    A2:  12\n",
        "    A4:   6\n",
        "    A5:   6\n",
        "    A6:   9\n",
        "    A7:   9\n",
        "    A14: 13"
      ]
    },
    {
      "metadata": {
        "id": "T-ln3vccbmlO",
        "colab_type": "code",
        "colab": {
          "base_uri": "https://localhost:8080/",
          "height": 318
        },
        "outputId": "7a6b2833-5706-4d35-f131-abc781364b00"
      },
      "cell_type": "code",
      "source": [
        "# lets check our data for nulls\n",
        "credit.isnull().sum()"
      ],
      "execution_count": 4,
      "outputs": [
        {
          "output_type": "execute_result",
          "data": {
            "text/plain": [
              "A1     0\n",
              "A2     0\n",
              "A3     0\n",
              "A4     0\n",
              "A5     0\n",
              "A6     0\n",
              "A7     0\n",
              "A8     0\n",
              "A9     0\n",
              "A10    0\n",
              "A11    0\n",
              "A12    0\n",
              "A13    0\n",
              "A14    0\n",
              "A15    0\n",
              "A16    0\n",
              "dtype: int64"
            ]
          },
          "metadata": {
            "tags": []
          },
          "execution_count": 4
        }
      ]
    },
    {
      "metadata": {
        "id": "epO7UC_xbwX3",
        "colab_type": "code",
        "colab": {
          "base_uri": "https://localhost:8080/",
          "height": 318
        },
        "outputId": "eef4a49f-664f-4e9c-d04e-3f1be4fcd781"
      },
      "cell_type": "code",
      "source": [
        "# clearly theres a problem with our data recognizing nulls\n",
        "# from a text search of the raw data, it looks like nulls are represented by '?'\n",
        "\n",
        "credit = credit.replace('?', np.nan)\n",
        "credit.isnull().sum()"
      ],
      "execution_count": 5,
      "outputs": [
        {
          "output_type": "execute_result",
          "data": {
            "text/plain": [
              "A1     12\n",
              "A2     12\n",
              "A3      0\n",
              "A4      6\n",
              "A5      6\n",
              "A6      9\n",
              "A7      9\n",
              "A8      0\n",
              "A9      0\n",
              "A10     0\n",
              "A11     0\n",
              "A12     0\n",
              "A13     0\n",
              "A14    13\n",
              "A15     0\n",
              "A16     0\n",
              "dtype: int64"
            ]
          },
          "metadata": {
            "tags": []
          },
          "execution_count": 5
        }
      ]
    },
    {
      "metadata": {
        "id": "rDG0RkqkcmYc",
        "colab_type": "text"
      },
      "cell_type": "markdown",
      "source": [
        "Our null values now match the data set description."
      ]
    },
    {
      "metadata": {
        "id": "fQo3Vgpub1e1",
        "colab_type": "text"
      },
      "cell_type": "markdown",
      "source": [
        "### Make sure that the loaded features are of the types described above (continuous values should be treated as float), and correct as necessary\n",
        "\n",
        "Attribute Information:\n",
        "- A1: b, a.\n",
        "- A2: continuous.\n",
        "- A3: continuous.\n",
        "- A4: u, y, l, t.\n",
        "- A5: g, p, gg.\n",
        "- A6: c, d, cc, i, j, k, m, r, q, w, x, e, aa, ff.\n",
        "- A7: v, h, bb, j, n, z, dd, ff, o.\n",
        "- A8: continuous.\n",
        "- A9: t, f.\n",
        "- A10: t, f.\n",
        "- A11: continuous.\n",
        "- A12: t, f.\n",
        "- A13: g, p, s.\n",
        "- A14: continuous.\n",
        "- A15: continuous.\n",
        "- A16: +,- (class attribute)"
      ]
    },
    {
      "metadata": {
        "id": "hN_fOOKPcB3o",
        "colab_type": "code",
        "colab": {
          "base_uri": "https://localhost:8080/",
          "height": 318
        },
        "outputId": "e6f5d07a-a85a-4201-9a04-7d2dea2aefed"
      },
      "cell_type": "code",
      "source": [
        "credit.dtypes # initial datatype check"
      ],
      "execution_count": 6,
      "outputs": [
        {
          "output_type": "execute_result",
          "data": {
            "text/plain": [
              "A1      object\n",
              "A2      object\n",
              "A3     float64\n",
              "A4      object\n",
              "A5      object\n",
              "A6      object\n",
              "A7      object\n",
              "A8     float64\n",
              "A9      object\n",
              "A10     object\n",
              "A11      int64\n",
              "A12     object\n",
              "A13     object\n",
              "A14     object\n",
              "A15      int64\n",
              "A16     object\n",
              "dtype: object"
            ]
          },
          "metadata": {
            "tags": []
          },
          "execution_count": 6
        }
      ]
    },
    {
      "metadata": {
        "id": "414gir9oc8WB",
        "colab_type": "text"
      },
      "cell_type": "markdown",
      "source": [
        "The following modifications need to be made:\n",
        "\n",
        "*A2 must be a float\n",
        "*A11 must be converted from int to float\n",
        "*A14 must be continuous\n",
        "*A15 must be converted from int to float"
      ]
    },
    {
      "metadata": {
        "id": "6abeD6NLdnZf",
        "colab_type": "code",
        "colab": {
          "base_uri": "https://localhost:8080/",
          "height": 318
        },
        "outputId": "14ee0bf4-d268-404c-ad52-67dca3390e0a"
      },
      "cell_type": "code",
      "source": [
        "credit.A2 = credit.A2.astype(float)\n",
        "credit.A11 = credit.A11.astype(float)\n",
        "credit.A14 = credit.A14.astype(float)\n",
        "credit.A15 = credit.A15.astype(float)\n",
        "\n",
        "# check dtypes again\n",
        "credit.dtypes"
      ],
      "execution_count": 7,
      "outputs": [
        {
          "output_type": "execute_result",
          "data": {
            "text/plain": [
              "A1      object\n",
              "A2     float64\n",
              "A3     float64\n",
              "A4      object\n",
              "A5      object\n",
              "A6      object\n",
              "A7      object\n",
              "A8     float64\n",
              "A9      object\n",
              "A10     object\n",
              "A11    float64\n",
              "A12     object\n",
              "A13     object\n",
              "A14    float64\n",
              "A15    float64\n",
              "A16     object\n",
              "dtype: object"
            ]
          },
          "metadata": {
            "tags": []
          },
          "execution_count": 7
        }
      ]
    },
    {
      "metadata": {
        "id": "nkZE_uZ3en9t",
        "colab_type": "code",
        "colab": {}
      },
      "cell_type": "code",
      "source": [
        ""
      ],
      "execution_count": 0,
      "outputs": []
    },
    {
      "metadata": {
        "id": "G7rLytbrO38L",
        "colab_type": "text"
      },
      "cell_type": "markdown",
      "source": [
        "## Part 2 - Exploring data, Testing hypotheses\n",
        "\n",
        "The only thing we really know about this data is that A16 is the class label. Besides that, we have 6 continuous (float) features and 9 categorical features.\n",
        "\n",
        "Explore the data: you can use whatever approach (tables, utility functions, visualizations) to get an impression of the distributions and relationships of the variables. In general, your goal is to understand how the features are different when grouped by the two class labels (`+` and `-`).\n",
        "\n",
        "For the 6 continuous features, how are they different when split between the two class labels? Choose two features to run t-tests (again split by class label) - specifically, select one feature that is *extremely* different between the classes, and another feature that is notably less different (though perhaps still \"statistically significantly\" different). You may have to explore more than two features to do this.\n",
        "\n",
        "For the categorical features, explore by creating \"cross tabs\" between them and the class label, and apply the Chi-squared test to them. There are 9 categorical features - as with the t-test, try to find one where the Chi-squared test returns an extreme result (rejecting the null that the data are independent), and one where it is less extreme.\n",
        "\n",
        "**NOTE** - \"less extreme\" just means smaller test statistic/larger p-value. Even the least extreme differences may be strongly statistically significant.\n",
        "\n",
        "Your *main* goal is the hypothesis tests, so don't spend too much time on the exploration/visualization piece. That is just a means to an end. This is challenging, so manage your time and aim for a baseline of at least running two t-tests and two Chi-squared tests before polishing. And don't forget to answer the questions in part 3, even if your results in this part aren't what you want them to be."
      ]
    },
    {
      "metadata": {
        "id": "_nqcgc0yzm68",
        "colab_type": "code",
        "colab": {}
      },
      "cell_type": "code",
      "source": [
        "# list categorical and continuous features for ease of use later\n",
        "features_cont = ['A2', 'A3', 'A8', 'A11', 'A14', 'A15']\n",
        "features_cat = ['A1', 'A4', 'A5', 'A6', 'A7', 'A9', 'A10', 'A12', 'A13']\n",
        "target = 'A16'"
      ],
      "execution_count": 0,
      "outputs": []
    },
    {
      "metadata": {
        "id": "CgGlkDSqftQ4",
        "colab_type": "text"
      },
      "cell_type": "markdown",
      "source": [
        "### Data Exploration"
      ]
    },
    {
      "metadata": {
        "id": "Kea4eAMxgExH",
        "colab_type": "text"
      },
      "cell_type": "markdown",
      "source": [
        "#### Continuous Features"
      ]
    },
    {
      "metadata": {
        "id": "fNAeQx7DgBWY",
        "colab_type": "code",
        "colab": {
          "base_uri": "https://localhost:8080/",
          "height": 287
        },
        "outputId": "102c13f5-fc30-485b-f416-0785ded8cbac"
      },
      "cell_type": "code",
      "source": [
        "credit[features_cont].describe()"
      ],
      "execution_count": 9,
      "outputs": [
        {
          "output_type": "execute_result",
          "data": {
            "text/html": [
              "<div>\n",
              "<style scoped>\n",
              "    .dataframe tbody tr th:only-of-type {\n",
              "        vertical-align: middle;\n",
              "    }\n",
              "\n",
              "    .dataframe tbody tr th {\n",
              "        vertical-align: top;\n",
              "    }\n",
              "\n",
              "    .dataframe thead th {\n",
              "        text-align: right;\n",
              "    }\n",
              "</style>\n",
              "<table border=\"1\" class=\"dataframe\">\n",
              "  <thead>\n",
              "    <tr style=\"text-align: right;\">\n",
              "      <th></th>\n",
              "      <th>A2</th>\n",
              "      <th>A3</th>\n",
              "      <th>A8</th>\n",
              "      <th>A11</th>\n",
              "      <th>A14</th>\n",
              "      <th>A15</th>\n",
              "    </tr>\n",
              "  </thead>\n",
              "  <tbody>\n",
              "    <tr>\n",
              "      <th>count</th>\n",
              "      <td>678.000000</td>\n",
              "      <td>690.000000</td>\n",
              "      <td>690.000000</td>\n",
              "      <td>690.00000</td>\n",
              "      <td>677.000000</td>\n",
              "      <td>690.000000</td>\n",
              "    </tr>\n",
              "    <tr>\n",
              "      <th>mean</th>\n",
              "      <td>31.568171</td>\n",
              "      <td>4.758725</td>\n",
              "      <td>2.223406</td>\n",
              "      <td>2.40000</td>\n",
              "      <td>184.014771</td>\n",
              "      <td>1017.385507</td>\n",
              "    </tr>\n",
              "    <tr>\n",
              "      <th>std</th>\n",
              "      <td>11.957862</td>\n",
              "      <td>4.978163</td>\n",
              "      <td>3.346513</td>\n",
              "      <td>4.86294</td>\n",
              "      <td>173.806768</td>\n",
              "      <td>5210.102598</td>\n",
              "    </tr>\n",
              "    <tr>\n",
              "      <th>min</th>\n",
              "      <td>13.750000</td>\n",
              "      <td>0.000000</td>\n",
              "      <td>0.000000</td>\n",
              "      <td>0.00000</td>\n",
              "      <td>0.000000</td>\n",
              "      <td>0.000000</td>\n",
              "    </tr>\n",
              "    <tr>\n",
              "      <th>25%</th>\n",
              "      <td>22.602500</td>\n",
              "      <td>1.000000</td>\n",
              "      <td>0.165000</td>\n",
              "      <td>0.00000</td>\n",
              "      <td>75.000000</td>\n",
              "      <td>0.000000</td>\n",
              "    </tr>\n",
              "    <tr>\n",
              "      <th>50%</th>\n",
              "      <td>28.460000</td>\n",
              "      <td>2.750000</td>\n",
              "      <td>1.000000</td>\n",
              "      <td>0.00000</td>\n",
              "      <td>160.000000</td>\n",
              "      <td>5.000000</td>\n",
              "    </tr>\n",
              "    <tr>\n",
              "      <th>75%</th>\n",
              "      <td>38.230000</td>\n",
              "      <td>7.207500</td>\n",
              "      <td>2.625000</td>\n",
              "      <td>3.00000</td>\n",
              "      <td>276.000000</td>\n",
              "      <td>395.500000</td>\n",
              "    </tr>\n",
              "    <tr>\n",
              "      <th>max</th>\n",
              "      <td>80.250000</td>\n",
              "      <td>28.000000</td>\n",
              "      <td>28.500000</td>\n",
              "      <td>67.00000</td>\n",
              "      <td>2000.000000</td>\n",
              "      <td>100000.000000</td>\n",
              "    </tr>\n",
              "  </tbody>\n",
              "</table>\n",
              "</div>"
            ],
            "text/plain": [
              "               A2          A3          A8        A11          A14  \\\n",
              "count  678.000000  690.000000  690.000000  690.00000   677.000000   \n",
              "mean    31.568171    4.758725    2.223406    2.40000   184.014771   \n",
              "std     11.957862    4.978163    3.346513    4.86294   173.806768   \n",
              "min     13.750000    0.000000    0.000000    0.00000     0.000000   \n",
              "25%     22.602500    1.000000    0.165000    0.00000    75.000000   \n",
              "50%     28.460000    2.750000    1.000000    0.00000   160.000000   \n",
              "75%     38.230000    7.207500    2.625000    3.00000   276.000000   \n",
              "max     80.250000   28.000000   28.500000   67.00000  2000.000000   \n",
              "\n",
              "                 A15  \n",
              "count     690.000000  \n",
              "mean     1017.385507  \n",
              "std      5210.102598  \n",
              "min         0.000000  \n",
              "25%         0.000000  \n",
              "50%         5.000000  \n",
              "75%       395.500000  \n",
              "max    100000.000000  "
            ]
          },
          "metadata": {
            "tags": []
          },
          "execution_count": 9
        }
      ]
    },
    {
      "metadata": {
        "id": "5umO1R9OgSxP",
        "colab_type": "code",
        "colab": {
          "base_uri": "https://localhost:8080/",
          "height": 443
        },
        "outputId": "418dc684-4466-4d56-db0f-4e4f6e5f4aee"
      },
      "cell_type": "code",
      "source": [
        "credit[features_cont].hist(figsize=(15,7), bins=50); # distribution of the variables in general"
      ],
      "execution_count": 10,
      "outputs": [
        {
          "output_type": "display_data",
          "data": {
            "image/png": "[encoded data removed]",
            "text/plain": [
              "<matplotlib.figure.Figure at 0x7fe7d571e7b8>"
            ]
          },
          "metadata": {
            "tags": []
          }
        }
      ]
    },
    {
      "metadata": {
        "id": "ONFmwNa1hOKB",
        "colab_type": "text"
      },
      "cell_type": "markdown",
      "source": [
        "Something we can already note is that the distributions of the continuous variables do not seem to be normal. Let's see what they look like when we incorporate accept/reject into the visual."
      ]
    },
    {
      "metadata": {
        "id": "-OjeXvgu4GsH",
        "colab_type": "code",
        "colab": {}
      },
      "cell_type": "code",
      "source": [
        ""
      ],
      "execution_count": 0,
      "outputs": []
    },
    {
      "metadata": {
        "id": "HI2e2tguhDMu",
        "colab_type": "code",
        "colab": {}
      },
      "cell_type": "code",
      "source": [
        "# fig_cont, axes_cont = plt.subplots(2, 3, figsize=(20,10))\n",
        "\n",
        "# axes_cont[0][0] = sns.swarmplot(x=target, y='A2', data=credit)\n",
        "# axes_cont[1][1] = sns.swarmplot(x=target, y='A3', data=credit)\n",
        "# axes_cont[0][2] = sns.swarmplot(x=target, y='A8', data=credit)\n",
        "# axes_cont[1][0] = sns.swarmplot(x=target, y='A11', data=credit)\n",
        "# axes_cont[0][1] = sns.swarmplot(x=target, y='A14', data=credit)\n",
        "# axes_cont[1][2] = sns.swarmplot(x=target, y='A15', data=credit)\n",
        "\n",
        "# plt.show()"
      ],
      "execution_count": 0,
      "outputs": []
    },
    {
      "metadata": {
        "id": "J-lSJDDRvLZ8",
        "colab_type": "code",
        "colab": {
          "base_uri": "https://localhost:8080/",
          "height": 361
        },
        "outputId": "299e81d3-9fae-4415-c700-3ad9a00eb3a2"
      },
      "cell_type": "code",
      "source": [
        "sns.swarmplot(x=target, y='A2', data=credit);"
      ],
      "execution_count": 87,
      "outputs": [
        {
          "output_type": "display_data",
          "data": {
            "image/png": "[encoded data removed]",
            "text/plain": [
              "<matplotlib.figure.Figure at 0x7fbbffb3c748>"
            ]
          },
          "metadata": {
            "tags": []
          }
        }
      ]
    },
    {
      "metadata": {
        "id": "iJq6vrJsvLTm",
        "colab_type": "code",
        "colab": {
          "base_uri": "https://localhost:8080/",
          "height": 361
        },
        "outputId": "65a1c07c-90d5-48db-c4d3-d302c38512f7"
      },
      "cell_type": "code",
      "source": [
        "sns.swarmplot(x=target, y='A3', data=credit);"
      ],
      "execution_count": 88,
      "outputs": [
        {
          "output_type": "display_data",
          "data": {
            "image/png": "[encoded data removed]",
            "text/plain": [
              "<matplotlib.figure.Figure at 0x7fbbfd9ff978>"
            ]
          },
          "metadata": {
            "tags": []
          }
        }
      ]
    },
    {
      "metadata": {
        "id": "qs3pERoCvLMY",
        "colab_type": "code",
        "colab": {
          "base_uri": "https://localhost:8080/",
          "height": 361
        },
        "outputId": "f23d4ade-f7cb-466a-e94f-1472dd332337"
      },
      "cell_type": "code",
      "source": [
        "sns.swarmplot(x=target, y='A8', data=credit);"
      ],
      "execution_count": 89,
      "outputs": [
        {
          "output_type": "display_data",
          "data": {
            "image/png": "[encoded data removed]",
            "text/plain": [
              "<matplotlib.figure.Figure at 0x7fbbfd9e8a20>"
            ]
          },
          "metadata": {
            "tags": []
          }
        }
      ]
    },
    {
      "metadata": {
        "id": "pagttJrlvLFK",
        "colab_type": "code",
        "colab": {
          "base_uri": "https://localhost:8080/",
          "height": 362
        },
        "outputId": "2e94e630-434b-4727-bb82-17bc5e80cd70"
      },
      "cell_type": "code",
      "source": [
        "sns.swarmplot(x=target, y='A11', data=credit);"
      ],
      "execution_count": 90,
      "outputs": [
        {
          "output_type": "display_data",
          "data": {
            "image/png": "[encoded data removed]",
            "text/plain": [
              "<matplotlib.figure.Figure at 0x7fbbfdbd9ac8>"
            ]
          },
          "metadata": {
            "tags": []
          }
        }
      ]
    },
    {
      "metadata": {
        "id": "cRx-qDuevK9T",
        "colab_type": "code",
        "colab": {
          "base_uri": "https://localhost:8080/",
          "height": 361
        },
        "outputId": "fdd0b458-7d8f-4b30-c121-2b67a127212a"
      },
      "cell_type": "code",
      "source": [
        "sns.swarmplot(x=target, y='A14', data=credit);"
      ],
      "execution_count": 100,
      "outputs": [
        {
          "output_type": "display_data",
          "data": {
            "image/png": "[encoded data removed]",
            "text/plain": [
              "<matplotlib.figure.Figure at 0x7fbbfd8a3908>"
            ]
          },
          "metadata": {
            "tags": []
          }
        }
      ]
    },
    {
      "metadata": {
        "id": "91qRHcihvK0M",
        "colab_type": "code",
        "colab": {
          "base_uri": "https://localhost:8080/",
          "height": 361
        },
        "outputId": "91ebf773-63cc-44ac-c964-dfe0333523b6"
      },
      "cell_type": "code",
      "source": [
        "sns.swarmplot(x=target, y='A15', data=credit);"
      ],
      "execution_count": 101,
      "outputs": [
        {
          "output_type": "display_data",
          "data": {
            "image/png": "[encoded data removed]",
            "text/plain": [
              "<matplotlib.figure.Figure at 0x7fbbfdbb63c8>"
            ]
          },
          "metadata": {
            "tags": []
          }
        }
      ]
    },
    {
      "metadata": {
        "id": "rffUD0MFgstr",
        "colab_type": "text"
      },
      "cell_type": "markdown",
      "source": [
        "#### Discrete Features"
      ]
    },
    {
      "metadata": {
        "id": "7jHeAibJhfo1",
        "colab_type": "code",
        "colab": {
          "base_uri": "https://localhost:8080/",
          "height": 167
        },
        "outputId": "707110a5-9e66-4712-ff2f-6a3285e35bb4"
      },
      "cell_type": "code",
      "source": [
        "credit[features_cat].describe()"
      ],
      "execution_count": 27,
      "outputs": [
        {
          "output_type": "execute_result",
          "data": {
            "text/html": [
              "<div>\n",
              "<style scoped>\n",
              "    .dataframe tbody tr th:only-of-type {\n",
              "        vertical-align: middle;\n",
              "    }\n",
              "\n",
              "    .dataframe tbody tr th {\n",
              "        vertical-align: top;\n",
              "    }\n",
              "\n",
              "    .dataframe thead th {\n",
              "        text-align: right;\n",
              "    }\n",
              "</style>\n",
              "<table border=\"1\" class=\"dataframe\">\n",
              "  <thead>\n",
              "    <tr style=\"text-align: right;\">\n",
              "      <th></th>\n",
              "      <th>A1</th>\n",
              "      <th>A4</th>\n",
              "      <th>A5</th>\n",
              "      <th>A6</th>\n",
              "      <th>A7</th>\n",
              "      <th>A9</th>\n",
              "      <th>A10</th>\n",
              "      <th>A12</th>\n",
              "      <th>A13</th>\n",
              "    </tr>\n",
              "  </thead>\n",
              "  <tbody>\n",
              "    <tr>\n",
              "      <th>count</th>\n",
              "      <td>678</td>\n",
              "      <td>684</td>\n",
              "      <td>684</td>\n",
              "      <td>681</td>\n",
              "      <td>681</td>\n",
              "      <td>690</td>\n",
              "      <td>690</td>\n",
              "      <td>690</td>\n",
              "      <td>690</td>\n",
              "    </tr>\n",
              "    <tr>\n",
              "      <th>unique</th>\n",
              "      <td>2</td>\n",
              "      <td>3</td>\n",
              "      <td>3</td>\n",
              "      <td>14</td>\n",
              "      <td>9</td>\n",
              "      <td>2</td>\n",
              "      <td>2</td>\n",
              "      <td>2</td>\n",
              "      <td>3</td>\n",
              "    </tr>\n",
              "    <tr>\n",
              "      <th>top</th>\n",
              "      <td>b</td>\n",
              "      <td>u</td>\n",
              "      <td>g</td>\n",
              "      <td>c</td>\n",
              "      <td>v</td>\n",
              "      <td>t</td>\n",
              "      <td>f</td>\n",
              "      <td>f</td>\n",
              "      <td>g</td>\n",
              "    </tr>\n",
              "    <tr>\n",
              "      <th>freq</th>\n",
              "      <td>468</td>\n",
              "      <td>519</td>\n",
              "      <td>519</td>\n",
              "      <td>137</td>\n",
              "      <td>399</td>\n",
              "      <td>361</td>\n",
              "      <td>395</td>\n",
              "      <td>374</td>\n",
              "      <td>625</td>\n",
              "    </tr>\n",
              "  </tbody>\n",
              "</table>\n",
              "</div>"
            ],
            "text/plain": [
              "         A1   A4   A5   A6   A7   A9  A10  A12  A13\n",
              "count   678  684  684  681  681  690  690  690  690\n",
              "unique    2    3    3   14    9    2    2    2    3\n",
              "top       b    u    g    c    v    t    f    f    g\n",
              "freq    468  519  519  137  399  361  395  374  625"
            ]
          },
          "metadata": {
            "tags": []
          },
          "execution_count": 27
        }
      ]
    },
    {
      "metadata": {
        "id": "HutCK0hSkL8m",
        "colab_type": "code",
        "colab": {
          "base_uri": "https://localhost:8080/",
          "height": 137
        },
        "outputId": "c3519eeb-5d79-40ad-a4d5-0b76a6776eda"
      },
      "cell_type": "code",
      "source": [
        "pd.crosstab(credit['A1'], credit[target])"
      ],
      "execution_count": 93,
      "outputs": [
        {
          "output_type": "execute_result",
          "data": {
            "text/html": [
              "<div>\n",
              "<style scoped>\n",
              "    .dataframe tbody tr th:only-of-type {\n",
              "        vertical-align: middle;\n",
              "    }\n",
              "\n",
              "    .dataframe tbody tr th {\n",
              "        vertical-align: top;\n",
              "    }\n",
              "\n",
              "    .dataframe thead th {\n",
              "        text-align: right;\n",
              "    }\n",
              "</style>\n",
              "<table border=\"1\" class=\"dataframe\">\n",
              "  <thead>\n",
              "    <tr style=\"text-align: right;\">\n",
              "      <th>A16</th>\n",
              "      <th>+</th>\n",
              "      <th>-</th>\n",
              "    </tr>\n",
              "    <tr>\n",
              "      <th>A1</th>\n",
              "      <th></th>\n",
              "      <th></th>\n",
              "    </tr>\n",
              "  </thead>\n",
              "  <tbody>\n",
              "    <tr>\n",
              "      <th>a</th>\n",
              "      <td>98</td>\n",
              "      <td>112</td>\n",
              "    </tr>\n",
              "    <tr>\n",
              "      <th>b</th>\n",
              "      <td>206</td>\n",
              "      <td>262</td>\n",
              "    </tr>\n",
              "  </tbody>\n",
              "</table>\n",
              "</div>"
            ],
            "text/plain": [
              "A16    +    -\n",
              "A1           \n",
              "a     98  112\n",
              "b    206  262"
            ]
          },
          "metadata": {
            "tags": []
          },
          "execution_count": 93
        }
      ]
    },
    {
      "metadata": {
        "id": "qIt49crLvvXJ",
        "colab_type": "code",
        "colab": {
          "base_uri": "https://localhost:8080/",
          "height": 167
        },
        "outputId": "6dab9795-3b43-4243-ccf5-b300c7ff0afa"
      },
      "cell_type": "code",
      "source": [
        "pd.crosstab(credit['A4'], credit[target])"
      ],
      "execution_count": 94,
      "outputs": [
        {
          "output_type": "execute_result",
          "data": {
            "text/html": [
              "<div>\n",
              "<style scoped>\n",
              "    .dataframe tbody tr th:only-of-type {\n",
              "        vertical-align: middle;\n",
              "    }\n",
              "\n",
              "    .dataframe tbody tr th {\n",
              "        vertical-align: top;\n",
              "    }\n",
              "\n",
              "    .dataframe thead th {\n",
              "        text-align: right;\n",
              "    }\n",
              "</style>\n",
              "<table border=\"1\" class=\"dataframe\">\n",
              "  <thead>\n",
              "    <tr style=\"text-align: right;\">\n",
              "      <th>A16</th>\n",
              "      <th>+</th>\n",
              "      <th>-</th>\n",
              "    </tr>\n",
              "    <tr>\n",
              "      <th>A4</th>\n",
              "      <th></th>\n",
              "      <th></th>\n",
              "    </tr>\n",
              "  </thead>\n",
              "  <tbody>\n",
              "    <tr>\n",
              "      <th>l</th>\n",
              "      <td>2</td>\n",
              "      <td>0</td>\n",
              "    </tr>\n",
              "    <tr>\n",
              "      <th>u</th>\n",
              "      <td>256</td>\n",
              "      <td>263</td>\n",
              "    </tr>\n",
              "    <tr>\n",
              "      <th>y</th>\n",
              "      <td>45</td>\n",
              "      <td>118</td>\n",
              "    </tr>\n",
              "  </tbody>\n",
              "</table>\n",
              "</div>"
            ],
            "text/plain": [
              "A16    +    -\n",
              "A4           \n",
              "l      2    0\n",
              "u    256  263\n",
              "y     45  118"
            ]
          },
          "metadata": {
            "tags": []
          },
          "execution_count": 94
        }
      ]
    },
    {
      "metadata": {
        "id": "e_F7YaqOvwvD",
        "colab_type": "code",
        "colab": {
          "base_uri": "https://localhost:8080/",
          "height": 167
        },
        "outputId": "e797e1db-6446-4b33-ecac-8329c7ed048f"
      },
      "cell_type": "code",
      "source": [
        "pd.crosstab(credit['A5'], credit[target])"
      ],
      "execution_count": 95,
      "outputs": [
        {
          "output_type": "execute_result",
          "data": {
            "text/html": [
              "<div>\n",
              "<style scoped>\n",
              "    .dataframe tbody tr th:only-of-type {\n",
              "        vertical-align: middle;\n",
              "    }\n",
              "\n",
              "    .dataframe tbody tr th {\n",
              "        vertical-align: top;\n",
              "    }\n",
              "\n",
              "    .dataframe thead th {\n",
              "        text-align: right;\n",
              "    }\n",
              "</style>\n",
              "<table border=\"1\" class=\"dataframe\">\n",
              "  <thead>\n",
              "    <tr style=\"text-align: right;\">\n",
              "      <th>A16</th>\n",
              "      <th>+</th>\n",
              "      <th>-</th>\n",
              "    </tr>\n",
              "    <tr>\n",
              "      <th>A5</th>\n",
              "      <th></th>\n",
              "      <th></th>\n",
              "    </tr>\n",
              "  </thead>\n",
              "  <tbody>\n",
              "    <tr>\n",
              "      <th>g</th>\n",
              "      <td>256</td>\n",
              "      <td>263</td>\n",
              "    </tr>\n",
              "    <tr>\n",
              "      <th>gg</th>\n",
              "      <td>2</td>\n",
              "      <td>0</td>\n",
              "    </tr>\n",
              "    <tr>\n",
              "      <th>p</th>\n",
              "      <td>45</td>\n",
              "      <td>118</td>\n",
              "    </tr>\n",
              "  </tbody>\n",
              "</table>\n",
              "</div>"
            ],
            "text/plain": [
              "A16    +    -\n",
              "A5           \n",
              "g    256  263\n",
              "gg     2    0\n",
              "p     45  118"
            ]
          },
          "metadata": {
            "tags": []
          },
          "execution_count": 95
        }
      ]
    },
    {
      "metadata": {
        "id": "5UtRk57qvwsK",
        "colab_type": "code",
        "colab": {
          "base_uri": "https://localhost:8080/",
          "height": 497
        },
        "outputId": "2fc7f2b4-7dd9-4077-c02a-7f567be7fa27"
      },
      "cell_type": "code",
      "source": [
        "pd.crosstab(credit['A6'], credit[target])"
      ],
      "execution_count": 96,
      "outputs": [
        {
          "output_type": "execute_result",
          "data": {
            "text/html": [
              "<div>\n",
              "<style scoped>\n",
              "    .dataframe tbody tr th:only-of-type {\n",
              "        vertical-align: middle;\n",
              "    }\n",
              "\n",
              "    .dataframe tbody tr th {\n",
              "        vertical-align: top;\n",
              "    }\n",
              "\n",
              "    .dataframe thead th {\n",
              "        text-align: right;\n",
              "    }\n",
              "</style>\n",
              "<table border=\"1\" class=\"dataframe\">\n",
              "  <thead>\n",
              "    <tr style=\"text-align: right;\">\n",
              "      <th>A16</th>\n",
              "      <th>+</th>\n",
              "      <th>-</th>\n",
              "    </tr>\n",
              "    <tr>\n",
              "      <th>A6</th>\n",
              "      <th></th>\n",
              "      <th></th>\n",
              "    </tr>\n",
              "  </thead>\n",
              "  <tbody>\n",
              "    <tr>\n",
              "      <th>aa</th>\n",
              "      <td>19</td>\n",
              "      <td>35</td>\n",
              "    </tr>\n",
              "    <tr>\n",
              "      <th>c</th>\n",
              "      <td>62</td>\n",
              "      <td>75</td>\n",
              "    </tr>\n",
              "    <tr>\n",
              "      <th>cc</th>\n",
              "      <td>29</td>\n",
              "      <td>12</td>\n",
              "    </tr>\n",
              "    <tr>\n",
              "      <th>d</th>\n",
              "      <td>7</td>\n",
              "      <td>23</td>\n",
              "    </tr>\n",
              "    <tr>\n",
              "      <th>e</th>\n",
              "      <td>14</td>\n",
              "      <td>11</td>\n",
              "    </tr>\n",
              "    <tr>\n",
              "      <th>ff</th>\n",
              "      <td>7</td>\n",
              "      <td>46</td>\n",
              "    </tr>\n",
              "    <tr>\n",
              "      <th>i</th>\n",
              "      <td>14</td>\n",
              "      <td>45</td>\n",
              "    </tr>\n",
              "    <tr>\n",
              "      <th>j</th>\n",
              "      <td>3</td>\n",
              "      <td>7</td>\n",
              "    </tr>\n",
              "    <tr>\n",
              "      <th>k</th>\n",
              "      <td>14</td>\n",
              "      <td>37</td>\n",
              "    </tr>\n",
              "    <tr>\n",
              "      <th>m</th>\n",
              "      <td>16</td>\n",
              "      <td>22</td>\n",
              "    </tr>\n",
              "    <tr>\n",
              "      <th>q</th>\n",
              "      <td>51</td>\n",
              "      <td>27</td>\n",
              "    </tr>\n",
              "    <tr>\n",
              "      <th>r</th>\n",
              "      <td>2</td>\n",
              "      <td>1</td>\n",
              "    </tr>\n",
              "    <tr>\n",
              "      <th>w</th>\n",
              "      <td>33</td>\n",
              "      <td>31</td>\n",
              "    </tr>\n",
              "    <tr>\n",
              "      <th>x</th>\n",
              "      <td>32</td>\n",
              "      <td>6</td>\n",
              "    </tr>\n",
              "  </tbody>\n",
              "</table>\n",
              "</div>"
            ],
            "text/plain": [
              "A16   +   -\n",
              "A6         \n",
              "aa   19  35\n",
              "c    62  75\n",
              "cc   29  12\n",
              "d     7  23\n",
              "e    14  11\n",
              "ff    7  46\n",
              "i    14  45\n",
              "j     3   7\n",
              "k    14  37\n",
              "m    16  22\n",
              "q    51  27\n",
              "r     2   1\n",
              "w    33  31\n",
              "x    32   6"
            ]
          },
          "metadata": {
            "tags": []
          },
          "execution_count": 96
        }
      ]
    },
    {
      "metadata": {
        "id": "bnebk5UMvwo6",
        "colab_type": "code",
        "colab": {
          "base_uri": "https://localhost:8080/",
          "height": 347
        },
        "outputId": "9d458953-d2eb-4dd1-ea3f-35e1f50d58e7"
      },
      "cell_type": "code",
      "source": [
        "pd.crosstab(credit['A7'], credit[target])"
      ],
      "execution_count": 97,
      "outputs": [
        {
          "output_type": "execute_result",
          "data": {
            "text/html": [
              "<div>\n",
              "<style scoped>\n",
              "    .dataframe tbody tr th:only-of-type {\n",
              "        vertical-align: middle;\n",
              "    }\n",
              "\n",
              "    .dataframe tbody tr th {\n",
              "        vertical-align: top;\n",
              "    }\n",
              "\n",
              "    .dataframe thead th {\n",
              "        text-align: right;\n",
              "    }\n",
              "</style>\n",
              "<table border=\"1\" class=\"dataframe\">\n",
              "  <thead>\n",
              "    <tr style=\"text-align: right;\">\n",
              "      <th>A16</th>\n",
              "      <th>+</th>\n",
              "      <th>-</th>\n",
              "    </tr>\n",
              "    <tr>\n",
              "      <th>A7</th>\n",
              "      <th></th>\n",
              "      <th></th>\n",
              "    </tr>\n",
              "  </thead>\n",
              "  <tbody>\n",
              "    <tr>\n",
              "      <th>bb</th>\n",
              "      <td>25</td>\n",
              "      <td>34</td>\n",
              "    </tr>\n",
              "    <tr>\n",
              "      <th>dd</th>\n",
              "      <td>2</td>\n",
              "      <td>4</td>\n",
              "    </tr>\n",
              "    <tr>\n",
              "      <th>ff</th>\n",
              "      <td>8</td>\n",
              "      <td>49</td>\n",
              "    </tr>\n",
              "    <tr>\n",
              "      <th>h</th>\n",
              "      <td>87</td>\n",
              "      <td>51</td>\n",
              "    </tr>\n",
              "    <tr>\n",
              "      <th>j</th>\n",
              "      <td>3</td>\n",
              "      <td>5</td>\n",
              "    </tr>\n",
              "    <tr>\n",
              "      <th>n</th>\n",
              "      <td>2</td>\n",
              "      <td>2</td>\n",
              "    </tr>\n",
              "    <tr>\n",
              "      <th>o</th>\n",
              "      <td>1</td>\n",
              "      <td>1</td>\n",
              "    </tr>\n",
              "    <tr>\n",
              "      <th>v</th>\n",
              "      <td>169</td>\n",
              "      <td>230</td>\n",
              "    </tr>\n",
              "    <tr>\n",
              "      <th>z</th>\n",
              "      <td>6</td>\n",
              "      <td>2</td>\n",
              "    </tr>\n",
              "  </tbody>\n",
              "</table>\n",
              "</div>"
            ],
            "text/plain": [
              "A16    +    -\n",
              "A7           \n",
              "bb    25   34\n",
              "dd     2    4\n",
              "ff     8   49\n",
              "h     87   51\n",
              "j      3    5\n",
              "n      2    2\n",
              "o      1    1\n",
              "v    169  230\n",
              "z      6    2"
            ]
          },
          "metadata": {
            "tags": []
          },
          "execution_count": 97
        }
      ]
    },
    {
      "metadata": {
        "id": "3C-wjJ5lvwlh",
        "colab_type": "code",
        "colab": {
          "base_uri": "https://localhost:8080/",
          "height": 137
        },
        "outputId": "994215ad-0c77-4ba3-8eeb-1dfb5085a6f8"
      },
      "cell_type": "code",
      "source": [
        "pd.crosstab(credit['A9'], credit[target])"
      ],
      "execution_count": 98,
      "outputs": [
        {
          "output_type": "execute_result",
          "data": {
            "text/html": [
              "<div>\n",
              "<style scoped>\n",
              "    .dataframe tbody tr th:only-of-type {\n",
              "        vertical-align: middle;\n",
              "    }\n",
              "\n",
              "    .dataframe tbody tr th {\n",
              "        vertical-align: top;\n",
              "    }\n",
              "\n",
              "    .dataframe thead th {\n",
              "        text-align: right;\n",
              "    }\n",
              "</style>\n",
              "<table border=\"1\" class=\"dataframe\">\n",
              "  <thead>\n",
              "    <tr style=\"text-align: right;\">\n",
              "      <th>A16</th>\n",
              "      <th>+</th>\n",
              "      <th>-</th>\n",
              "    </tr>\n",
              "    <tr>\n",
              "      <th>A9</th>\n",
              "      <th></th>\n",
              "      <th></th>\n",
              "    </tr>\n",
              "  </thead>\n",
              "  <tbody>\n",
              "    <tr>\n",
              "      <th>f</th>\n",
              "      <td>23</td>\n",
              "      <td>306</td>\n",
              "    </tr>\n",
              "    <tr>\n",
              "      <th>t</th>\n",
              "      <td>284</td>\n",
              "      <td>77</td>\n",
              "    </tr>\n",
              "  </tbody>\n",
              "</table>\n",
              "</div>"
            ],
            "text/plain": [
              "A16    +    -\n",
              "A9           \n",
              "f     23  306\n",
              "t    284   77"
            ]
          },
          "metadata": {
            "tags": []
          },
          "execution_count": 98
        }
      ]
    },
    {
      "metadata": {
        "id": "WscRZ5Exvwhv",
        "colab_type": "code",
        "colab": {
          "base_uri": "https://localhost:8080/",
          "height": 137
        },
        "outputId": "6456550e-5393-4135-a25b-b59e19c32502"
      },
      "cell_type": "code",
      "source": [
        "pd.crosstab(credit['A10'], credit[target])"
      ],
      "execution_count": 99,
      "outputs": [
        {
          "output_type": "execute_result",
          "data": {
            "text/html": [
              "<div>\n",
              "<style scoped>\n",
              "    .dataframe tbody tr th:only-of-type {\n",
              "        vertical-align: middle;\n",
              "    }\n",
              "\n",
              "    .dataframe tbody tr th {\n",
              "        vertical-align: top;\n",
              "    }\n",
              "\n",
              "    .dataframe thead th {\n",
              "        text-align: right;\n",
              "    }\n",
              "</style>\n",
              "<table border=\"1\" class=\"dataframe\">\n",
              "  <thead>\n",
              "    <tr style=\"text-align: right;\">\n",
              "      <th>A16</th>\n",
              "      <th>+</th>\n",
              "      <th>-</th>\n",
              "    </tr>\n",
              "    <tr>\n",
              "      <th>A10</th>\n",
              "      <th></th>\n",
              "      <th></th>\n",
              "    </tr>\n",
              "  </thead>\n",
              "  <tbody>\n",
              "    <tr>\n",
              "      <th>f</th>\n",
              "      <td>98</td>\n",
              "      <td>297</td>\n",
              "    </tr>\n",
              "    <tr>\n",
              "      <th>t</th>\n",
              "      <td>209</td>\n",
              "      <td>86</td>\n",
              "    </tr>\n",
              "  </tbody>\n",
              "</table>\n",
              "</div>"
            ],
            "text/plain": [
              "A16    +    -\n",
              "A10          \n",
              "f     98  297\n",
              "t    209   86"
            ]
          },
          "metadata": {
            "tags": []
          },
          "execution_count": 99
        }
      ]
    },
    {
      "metadata": {
        "id": "M3LVexSuvv_e",
        "colab_type": "code",
        "colab": {
          "base_uri": "https://localhost:8080/",
          "height": 137
        },
        "outputId": "0b34edc0-6034-49ca-a585-7a2c5041e7a4"
      },
      "cell_type": "code",
      "source": [
        "pd.crosstab(credit['A12'], credit[target])"
      ],
      "execution_count": 102,
      "outputs": [
        {
          "output_type": "execute_result",
          "data": {
            "text/html": [
              "<div>\n",
              "<style scoped>\n",
              "    .dataframe tbody tr th:only-of-type {\n",
              "        vertical-align: middle;\n",
              "    }\n",
              "\n",
              "    .dataframe tbody tr th {\n",
              "        vertical-align: top;\n",
              "    }\n",
              "\n",
              "    .dataframe thead th {\n",
              "        text-align: right;\n",
              "    }\n",
              "</style>\n",
              "<table border=\"1\" class=\"dataframe\">\n",
              "  <thead>\n",
              "    <tr style=\"text-align: right;\">\n",
              "      <th>A16</th>\n",
              "      <th>+</th>\n",
              "      <th>-</th>\n",
              "    </tr>\n",
              "    <tr>\n",
              "      <th>A12</th>\n",
              "      <th></th>\n",
              "      <th></th>\n",
              "    </tr>\n",
              "  </thead>\n",
              "  <tbody>\n",
              "    <tr>\n",
              "      <th>f</th>\n",
              "      <td>161</td>\n",
              "      <td>213</td>\n",
              "    </tr>\n",
              "    <tr>\n",
              "      <th>t</th>\n",
              "      <td>146</td>\n",
              "      <td>170</td>\n",
              "    </tr>\n",
              "  </tbody>\n",
              "</table>\n",
              "</div>"
            ],
            "text/plain": [
              "A16    +    -\n",
              "A12          \n",
              "f    161  213\n",
              "t    146  170"
            ]
          },
          "metadata": {
            "tags": []
          },
          "execution_count": 102
        }
      ]
    },
    {
      "metadata": {
        "id": "Dla3fI1gv34-",
        "colab_type": "code",
        "colab": {
          "base_uri": "https://localhost:8080/",
          "height": 167
        },
        "outputId": "8e87653d-a1a1-478d-d055-193163bb1ec9"
      },
      "cell_type": "code",
      "source": [
        "pd.crosstab(credit['A13'], credit[target])"
      ],
      "execution_count": 103,
      "outputs": [
        {
          "output_type": "execute_result",
          "data": {
            "text/html": [
              "<div>\n",
              "<style scoped>\n",
              "    .dataframe tbody tr th:only-of-type {\n",
              "        vertical-align: middle;\n",
              "    }\n",
              "\n",
              "    .dataframe tbody tr th {\n",
              "        vertical-align: top;\n",
              "    }\n",
              "\n",
              "    .dataframe thead th {\n",
              "        text-align: right;\n",
              "    }\n",
              "</style>\n",
              "<table border=\"1\" class=\"dataframe\">\n",
              "  <thead>\n",
              "    <tr style=\"text-align: right;\">\n",
              "      <th>A16</th>\n",
              "      <th>+</th>\n",
              "      <th>-</th>\n",
              "    </tr>\n",
              "    <tr>\n",
              "      <th>A13</th>\n",
              "      <th></th>\n",
              "      <th></th>\n",
              "    </tr>\n",
              "  </thead>\n",
              "  <tbody>\n",
              "    <tr>\n",
              "      <th>g</th>\n",
              "      <td>287</td>\n",
              "      <td>338</td>\n",
              "    </tr>\n",
              "    <tr>\n",
              "      <th>p</th>\n",
              "      <td>5</td>\n",
              "      <td>3</td>\n",
              "    </tr>\n",
              "    <tr>\n",
              "      <th>s</th>\n",
              "      <td>15</td>\n",
              "      <td>42</td>\n",
              "    </tr>\n",
              "  </tbody>\n",
              "</table>\n",
              "</div>"
            ],
            "text/plain": [
              "A16    +    -\n",
              "A13          \n",
              "g    287  338\n",
              "p      5    3\n",
              "s     15   42"
            ]
          },
          "metadata": {
            "tags": []
          },
          "execution_count": 103
        }
      ]
    },
    {
      "metadata": {
        "id": "qSGElQtlk-OK",
        "colab_type": "code",
        "colab": {}
      },
      "cell_type": "code",
      "source": [
        "# heat map?"
      ],
      "execution_count": 0,
      "outputs": []
    },
    {
      "metadata": {
        "id": "eadnjxe0fvgm",
        "colab_type": "text"
      },
      "cell_type": "markdown",
      "source": [
        "### Continuous Data (T-Tests)"
      ]
    },
    {
      "metadata": {
        "id": "7Hn5uwsKh56u",
        "colab_type": "text"
      },
      "cell_type": "markdown",
      "source": [
        "##### Utility Functions"
      ]
    },
    {
      "metadata": {
        "id": "s4Oc4W20lBmx",
        "colab_type": "code",
        "colab": {}
      },
      "cell_type": "code",
      "source": [
        "# t-test function for welch's t-test\n",
        "from __future__ import division\n",
        "from collections import namedtuple\n",
        "\n",
        "TtestResults = namedtuple(\"Ttest\", \"T p mean low high\")\n",
        "\n",
        "# https://onlinecourses.science.psu.edu/stat414/node/203/\n",
        "\n",
        "def t_welch(x, y, alpha=0.01, tails=2):\n",
        "    \"\"\"Welch's t-test for two unequal-size samples, not assuming equal variances\n",
        "    \"\"\"\n",
        "    assert tails in (1,2), \"invalid: tails must be 1 or 2, found %s\"%str(tails)\n",
        "    \n",
        "    # drop nulls if necessary\n",
        "    if x.isnull().sum().sum() !=0:\n",
        "      x = x.dropna()\n",
        "    if y.isnull().sum().sum() !=0:\n",
        "      y = y.dropna()  \n",
        "    \n",
        "    \n",
        "    x, y = np.asarray(x), np.asarray(y)\n",
        "    nx, ny = x.size, y.size\n",
        "    vx, vy = x.var(), y.var()\n",
        "    \n",
        "    \n",
        "    df = int((vx/nx + vy/ny)**2 / # Welch-Satterthwaite equation\n",
        "        ((vx/nx)**2 / (nx - 1) + (vy/ny)**2 / (ny - 1)))\n",
        "    \n",
        "    mean_diff = x.mean() - y.mean()\n",
        "    t_obs = (mean_diff) / np.sqrt(vx/nx + vy/ny)\n",
        "    p_value = tails * stats.t.sf(abs(t_obs), df)\n",
        "    \n",
        "    \n",
        "    ci_low = mean_diff - stats.t.ppf(1-alpha/tails, df) * np.sqrt(vx/nx + vy/ny)\n",
        "    ci_high = mean_diff + stats.t.ppf(1-alpha/tails, df) * np.sqrt(vx/nx + vy/ny)\n",
        "   \n",
        "    return TtestResults(t_obs, p_value, mean_diff, ci_low, ci_high)"
      ],
      "execution_count": 0,
      "outputs": []
    },
    {
      "metadata": {
        "id": "rcJyxM28h9Vf",
        "colab_type": "text"
      },
      "cell_type": "markdown",
      "source": [
        "##### Testing"
      ]
    },
    {
      "metadata": {
        "id": "D-dPxUQwh8vW",
        "colab_type": "code",
        "colab": {}
      },
      "cell_type": "code",
      "source": [
        "# calculate test stats and CIs for all continuous variables\n",
        "\n",
        "t_tests = {}\n",
        "\n",
        "for feature in features_cont:\n",
        "  t_tests[feature] = t_welch(credit[credit[target]=='+'][feature], credit[credit[target]=='-'][feature], alpha=0.01, tails=2)"
      ],
      "execution_count": 0,
      "outputs": []
    },
    {
      "metadata": {
        "id": "boQjK7LdoZuq",
        "colab_type": "code",
        "colab": {
          "base_uri": "https://localhost:8080/",
          "height": 123
        },
        "outputId": "ba1bd0f5-460d-409c-8fd4-d4c7c475341f"
      },
      "cell_type": "code",
      "source": [
        "# let's print these a little nicer\n",
        "for feature in t_tests.keys():\n",
        "  print ('Feature Name:', feature, 'T-Statistic:', round(t_tests[feature].T,3), 'p-Value:', round(t_tests[feature].p,6))"
      ],
      "execution_count": 13,
      "outputs": [
        {
          "output_type": "stream",
          "text": [
            "Feature Name: A2 T-Statistic: 4.231 p-Value: 2.7e-05\n",
            "Feature Name: A3 T-Statistic: 5.401 p-Value: 0.0\n",
            "Feature Name: A8 T-Statistic: 8.393 p-Value: 0.0\n",
            "Feature Name: A11 T-Statistic: 10.656 p-Value: 0.0\n",
            "Feature Name: A14 T-Statistic: -2.674 p-Value: 0.007687\n",
            "Feature Name: A15 T-Statistic: 4.203 p-Value: 3.4e-05\n"
          ],
          "name": "stdout"
        }
      ]
    },
    {
      "metadata": {
        "id": "fet39cZAf4dz",
        "colab_type": "text"
      },
      "cell_type": "markdown",
      "source": [
        "### Categorical Features (Chi-Squared Test)"
      ]
    },
    {
      "metadata": {
        "id": "mqBuJSRHsZ_x",
        "colab_type": "code",
        "colab": {
          "base_uri": "https://localhost:8080/",
          "height": 176
        },
        "outputId": "7db554c6-66da-4750-a0ca-a2ab96a2ff56"
      },
      "cell_type": "code",
      "source": [
        "chi2_tests = {} # Chi-square test of independence from contingency table\n",
        "for feature in features_cat:\n",
        "  chi2_tests[feature] =  stats.chi2_contingency(pd.crosstab(credit[feature], credit[target]))\n",
        "for feature in chi2_tests.keys(): # printing for readability\n",
        "  print ('Feature Name:', feature, 'Chi-Squared Statistic:', round(chi2_tests[feature][0], 4), 'p-value', round(chi2_tests[feature][1], 5))"
      ],
      "execution_count": 14,
      "outputs": [
        {
          "output_type": "stream",
          "text": [
            "Feature Name: A1 Chi-Squared Statistic: 0.3113 p-value 0.57689\n",
            "Feature Name: A4 Chi-Squared Statistic: 26.2341 p-value 0.0\n",
            "Feature Name: A5 Chi-Squared Statistic: 26.2341 p-value 0.0\n",
            "Feature Name: A6 Chi-Squared Statistic: 98.3252 p-value 0.0\n",
            "Feature Name: A7 Chi-Squared Statistic: 45.0342 p-value 0.0\n",
            "Feature Name: A9 Chi-Squared Statistic: 355.2038 p-value 0.0\n",
            "Feature Name: A10 Chi-Squared Statistic: 143.0696 p-value 0.0\n",
            "Feature Name: A12 Chi-Squared Statistic: 0.5683 p-value 0.45095\n",
            "Feature Name: A13 Chi-Squared Statistic: 9.1916 p-value 0.01009\n"
          ],
          "name": "stdout"
        }
      ]
    },
    {
      "metadata": {
        "id": "ZM8JckA2bgnp",
        "colab_type": "text"
      },
      "cell_type": "markdown",
      "source": [
        "## Part 3 - Analysis and Interpretation\n",
        "\n",
        "Now that you've looked at the data, answer the following questions:\n",
        "\n",
        "- Interpret and explain the two t-tests you ran - what do they tell you about the relationships between the continuous features you selected and the class labels?\n",
        "- Interpret and explain the two Chi-squared tests you ran - what do they tell you about the relationships between the categorical features you selected and the class labels?\n",
        "- What was the most challenging part of this sprint challenge?\n",
        "\n",
        "Answer with text, but feel free to intersperse example code/results or refer to it from earlier."
      ]
    },
    {
      "metadata": {
        "id": "LIozLDNG2Uhu",
        "colab_type": "text"
      },
      "cell_type": "markdown",
      "source": [
        "### T-Tests"
      ]
    },
    {
      "metadata": {
        "id": "6RMFznp5qDtQ",
        "colab_type": "code",
        "colab": {
          "base_uri": "https://localhost:8080/",
          "height": 123
        },
        "outputId": "1a8bb140-b966-4615-d928-671c55aac6d4"
      },
      "cell_type": "code",
      "source": [
        "t_tests = {} # code copied from above for printing test statistics\n",
        "for feature in features_cont:\n",
        "  t_tests[feature] = t_welch(credit[credit[target]=='+'][feature], credit[credit[target]=='-'][feature], alpha=0.01, tails=2)\n",
        "for feature in t_tests.keys():\n",
        "  print ('Feature Name:', feature, 'T-Statistic:', round(t_tests[feature].T,3), 'p-Value:', round(t_tests[feature].p,6))"
      ],
      "execution_count": 15,
      "outputs": [
        {
          "output_type": "stream",
          "text": [
            "Feature Name: A2 T-Statistic: 4.231 p-Value: 2.7e-05\n",
            "Feature Name: A3 T-Statistic: 5.401 p-Value: 0.0\n",
            "Feature Name: A8 T-Statistic: 8.393 p-Value: 0.0\n",
            "Feature Name: A11 T-Statistic: 10.656 p-Value: 0.0\n",
            "Feature Name: A14 T-Statistic: -2.674 p-Value: 0.007687\n",
            "Feature Name: A15 T-Statistic: 4.203 p-Value: 3.4e-05\n"
          ],
          "name": "stdout"
        }
      ]
    },
    {
      "metadata": {
        "id": "Ciqh1b0lqVv3",
        "colab_type": "text"
      },
      "cell_type": "markdown",
      "source": [
        "**Explanation**\n",
        "\n",
        "The analysis above demonstrates all continuous features have a statistical relationship with the class labels at the 99% confidence threshold.\n",
        "\n",
        "The test is comparing the mean of each feature segmented by the target variable. Because the null hypothesis is the two means are equal, a signficant test statistic indicates the mean of the feature is not the same across target variable outcomes.\n",
        "\n",
        "The T test is comparing mean(accept) - mean(reject), assuming '+' indicates acceptance and '-' indicates rejection.\n",
        "\n",
        "**Interpretation**\n",
        "\n",
        "Therefore, any positive T-statistic indicates the mean value of the variable is larger when applications are accepted then when they were rejected.\n",
        "\n",
        "We see that all continuous variables except A14 are positively related to an application being accepted.\n",
        "\n",
        "A14, conversely, is negatively related to an application being accepted.\n",
        "\n",
        "A14 also has the *least* extreme relationship with the target variable, as indicated by the smallest (magnitude of) T-statistic and largest p-value.\n",
        "\n",
        "**Expansion**\n",
        "\n",
        "Please note that I used Welch's t-test instead of other, more conservative approaches. Welch's t-test is appropriate when comparing means between different sample sizes and from populations with different variances. \n",
        "\n",
        "In this case, sample size wasn different for most (if not all) features. I did not check to see if variance differed between the two sample population subsets, but it is safer to assume the variances were not equal. Welch's test offers little downside if 'mistakenly' used on two samples with equal variance."
      ]
    },
    {
      "metadata": {
        "id": "Qq72xOq9qEjj",
        "colab_type": "text"
      },
      "cell_type": "markdown",
      "source": [
        "### Chi-Squared Tests"
      ]
    },
    {
      "metadata": {
        "id": "WwpIbybWqGXp",
        "colab_type": "code",
        "colab": {
          "base_uri": "https://localhost:8080/",
          "height": 176
        },
        "outputId": "6af8ad2c-255f-49c2-86cc-48a571fe65a6"
      },
      "cell_type": "code",
      "source": [
        "chi2_tests = {} # Chi-square test of independence from contingency table\n",
        "for feature in features_cat:\n",
        "  chi2_tests[feature] =  stats.chi2_contingency(pd.crosstab(credit[feature], credit[target]))\n",
        "for feature in chi2_tests.keys(): # printing for readability\n",
        "  print ('Feature Name:', feature, 'Chi-Squared Statistic:', round(chi2_tests[feature][0], 4), 'p-value', round(chi2_tests[feature][1], 6))"
      ],
      "execution_count": 16,
      "outputs": [
        {
          "output_type": "stream",
          "text": [
            "Feature Name: A1 Chi-Squared Statistic: 0.3113 p-value 0.576894\n",
            "Feature Name: A4 Chi-Squared Statistic: 26.2341 p-value 2e-06\n",
            "Feature Name: A5 Chi-Squared Statistic: 26.2341 p-value 2e-06\n",
            "Feature Name: A6 Chi-Squared Statistic: 98.3252 p-value 0.0\n",
            "Feature Name: A7 Chi-Squared Statistic: 45.0342 p-value 0.0\n",
            "Feature Name: A9 Chi-Squared Statistic: 355.2038 p-value 0.0\n",
            "Feature Name: A10 Chi-Squared Statistic: 143.0696 p-value 0.0\n",
            "Feature Name: A12 Chi-Squared Statistic: 0.5683 p-value 0.450946\n",
            "Feature Name: A13 Chi-Squared Statistic: 9.1916 p-value 0.010094\n"
          ],
          "name": "stdout"
        }
      ]
    },
    {
      "metadata": {
        "id": "SsTC23zpuqP6",
        "colab_type": "text"
      },
      "cell_type": "markdown",
      "source": [
        "**Explanation**\n",
        "\n",
        "The Chi-Squared test above is comparing the frequency of observed categorical values segmented by the target variable. If the feature and target variable were unrelated, we would expect to observe similar categorical frequency distributions between applications that were accepted and rejected.\n",
        "\n",
        "A large Chi-Squared statistic and small p-value, therefore, indicate that the frequency distributions are not identical and the feature is likely related to the target variable in some way.\n",
        "\n",
        "**Interpretation**\n",
        "\n",
        "The analysis above demonstrates the categorical features A4, A5, A6, A7, A9, and A10 have a strong statistical relation with the target variable. Feature A13 may also have a statistical relationship with the target variable, although it is not as strong as the other features and depends on our significance threshold.\n",
        "\n",
        "Features A1 and A12 do not seem to have a strong relation with the target variable.\n",
        "\n",
        "**Expansion**\n",
        "\n",
        "Let's look at the test results in a more intuitive sense.\n",
        "\n",
        "A1, according to our test, is unrelated to the target variable. If we look at a simple matrix comparing values of A1 to the target (A16), we can confirm the tests resuls with our intuition."
      ]
    },
    {
      "metadata": {
        "id": "mIP4U1Ld1xWG",
        "colab_type": "code",
        "colab": {
          "base_uri": "https://localhost:8080/",
          "height": 137
        },
        "outputId": "daf5f6bc-7b45-4703-8b40-27aad10d9af0"
      },
      "cell_type": "code",
      "source": [
        "pd.crosstab(credit['A1'], credit[target], normalize='columns')"
      ],
      "execution_count": 17,
      "outputs": [
        {
          "output_type": "execute_result",
          "data": {
            "text/html": [
              "<div>\n",
              "<style scoped>\n",
              "    .dataframe tbody tr th:only-of-type {\n",
              "        vertical-align: middle;\n",
              "    }\n",
              "\n",
              "    .dataframe tbody tr th {\n",
              "        vertical-align: top;\n",
              "    }\n",
              "\n",
              "    .dataframe thead th {\n",
              "        text-align: right;\n",
              "    }\n",
              "</style>\n",
              "<table border=\"1\" class=\"dataframe\">\n",
              "  <thead>\n",
              "    <tr style=\"text-align: right;\">\n",
              "      <th>A16</th>\n",
              "      <th>+</th>\n",
              "      <th>-</th>\n",
              "    </tr>\n",
              "    <tr>\n",
              "      <th>A1</th>\n",
              "      <th></th>\n",
              "      <th></th>\n",
              "    </tr>\n",
              "  </thead>\n",
              "  <tbody>\n",
              "    <tr>\n",
              "      <th>a</th>\n",
              "      <td>0.322368</td>\n",
              "      <td>0.299465</td>\n",
              "    </tr>\n",
              "    <tr>\n",
              "      <th>b</th>\n",
              "      <td>0.677632</td>\n",
              "      <td>0.700535</td>\n",
              "    </tr>\n",
              "  </tbody>\n",
              "</table>\n",
              "</div>"
            ],
            "text/plain": [
              "A16         +         -\n",
              "A1                     \n",
              "a    0.322368  0.299465\n",
              "b    0.677632  0.700535"
            ]
          },
          "metadata": {
            "tags": []
          },
          "execution_count": 17
        }
      ]
    },
    {
      "metadata": {
        "id": "UyyMGbX11_Ti",
        "colab_type": "text"
      },
      "cell_type": "markdown",
      "source": [
        "For A1, we see the values 'a' and 'b' are occur with frequencies around 30% and 70%, respectively, regardless of the accept/reject outcome.\n",
        "\n",
        "Let's contrast this with a feature strongly related to the target variable, A9."
      ]
    },
    {
      "metadata": {
        "id": "4Lgdbb0z2cq-",
        "colab_type": "code",
        "colab": {
          "base_uri": "https://localhost:8080/",
          "height": 137
        },
        "outputId": "4210fc7d-05e5-41ab-bd22-870485b17939"
      },
      "cell_type": "code",
      "source": [
        "pd.crosstab(credit['A9'], credit[target], normalize='columns')"
      ],
      "execution_count": 18,
      "outputs": [
        {
          "output_type": "execute_result",
          "data": {
            "text/html": [
              "<div>\n",
              "<style scoped>\n",
              "    .dataframe tbody tr th:only-of-type {\n",
              "        vertical-align: middle;\n",
              "    }\n",
              "\n",
              "    .dataframe tbody tr th {\n",
              "        vertical-align: top;\n",
              "    }\n",
              "\n",
              "    .dataframe thead th {\n",
              "        text-align: right;\n",
              "    }\n",
              "</style>\n",
              "<table border=\"1\" class=\"dataframe\">\n",
              "  <thead>\n",
              "    <tr style=\"text-align: right;\">\n",
              "      <th>A16</th>\n",
              "      <th>+</th>\n",
              "      <th>-</th>\n",
              "    </tr>\n",
              "    <tr>\n",
              "      <th>A9</th>\n",
              "      <th></th>\n",
              "      <th></th>\n",
              "    </tr>\n",
              "  </thead>\n",
              "  <tbody>\n",
              "    <tr>\n",
              "      <th>f</th>\n",
              "      <td>0.074919</td>\n",
              "      <td>0.798956</td>\n",
              "    </tr>\n",
              "    <tr>\n",
              "      <th>t</th>\n",
              "      <td>0.925081</td>\n",
              "      <td>0.201044</td>\n",
              "    </tr>\n",
              "  </tbody>\n",
              "</table>\n",
              "</div>"
            ],
            "text/plain": [
              "A16         +         -\n",
              "A9                     \n",
              "f    0.074919  0.798956\n",
              "t    0.925081  0.201044"
            ]
          },
          "metadata": {
            "tags": []
          },
          "execution_count": 18
        }
      ]
    },
    {
      "metadata": {
        "id": "bV1mIK992iKY",
        "colab_type": "text"
      },
      "cell_type": "markdown",
      "source": [
        "A9 has two outcomes, 'f' and 't'. Unlike A1, these two values of A9 do not occur with equal frequencies in the accept/reject outcomes.\n",
        "\n",
        "In cases where the application is accepted 't' occurs 92% of the time. In cases where the application is rejected, 't' occurs only 20% of the time."
      ]
    },
    {
      "metadata": {
        "id": "40KvvO48qG0s",
        "colab_type": "text"
      },
      "cell_type": "markdown",
      "source": [
        "### Sprint Challenge Commentary\n",
        "\n",
        "Assuming all of the above is reasonably correct, the sprint challenge was pretty easy. The hardest part was making sure I answered all parts of every question *knock on wood*.\n",
        "\n",
        "Lack of human readable data tags made things a bit more difficult. As you will notice, I ignored nulls for the statistical tests. Given the statistical strength of results in many tests and the small fraction of null values, I doubt conclusions would materially change no matter how null values were corrected."
      ]
    },
    {
      "metadata": {
        "id": "a2GHi5VP4wTF",
        "colab_type": "text"
      },
      "cell_type": "markdown",
      "source": [
        "## Part 4 - Fitting A Model to the Data (!!)\n",
        "\n",
        "All this is good an well, but let's make some predictions. I need to know if my credit application will be accepted in Japan."
      ]
    },
    {
      "metadata": {
        "id": "uTfXR8ek5VIg",
        "colab_type": "code",
        "colab": {
          "base_uri": "https://localhost:8080/",
          "height": 197
        },
        "outputId": "88c4fbd1-b28b-459e-aeba-0c743845af24"
      },
      "cell_type": "code",
      "source": [
        "# data cleanup\n",
        "credit_model = credit.copy()\n",
        "\n",
        "# convert to boolean\n",
        "credit_model[target] = credit_model[target]=='+'\n",
        "\n",
        "credit_model['A1'] = credit_model['A1']=='a'\n",
        "credit_model['A9'] = credit_model['A9']=='t'\n",
        "credit_model['A10'] = credit_model['A10']=='t'\n",
        "credit_model['A12'] = credit_model['A12']=='t'\n",
        "\n",
        "# one hot encode everything else\n",
        "\n",
        "credit_model.head()"
      ],
      "execution_count": 19,
      "outputs": [
        {
          "output_type": "execute_result",
          "data": {
            "text/html": [
              "<div>\n",
              "<style scoped>\n",
              "    .dataframe tbody tr th:only-of-type {\n",
              "        vertical-align: middle;\n",
              "    }\n",
              "\n",
              "    .dataframe tbody tr th {\n",
              "        vertical-align: top;\n",
              "    }\n",
              "\n",
              "    .dataframe thead th {\n",
              "        text-align: right;\n",
              "    }\n",
              "</style>\n",
              "<table border=\"1\" class=\"dataframe\">\n",
              "  <thead>\n",
              "    <tr style=\"text-align: right;\">\n",
              "      <th></th>\n",
              "      <th>A1</th>\n",
              "      <th>A2</th>\n",
              "      <th>A3</th>\n",
              "      <th>A4</th>\n",
              "      <th>A5</th>\n",
              "      <th>A6</th>\n",
              "      <th>A7</th>\n",
              "      <th>A8</th>\n",
              "      <th>A9</th>\n",
              "      <th>A10</th>\n",
              "      <th>A11</th>\n",
              "      <th>A12</th>\n",
              "      <th>A13</th>\n",
              "      <th>A14</th>\n",
              "      <th>A15</th>\n",
              "      <th>A16</th>\n",
              "    </tr>\n",
              "  </thead>\n",
              "  <tbody>\n",
              "    <tr>\n",
              "      <th>0</th>\n",
              "      <td>False</td>\n",
              "      <td>30.83</td>\n",
              "      <td>0.000</td>\n",
              "      <td>u</td>\n",
              "      <td>g</td>\n",
              "      <td>w</td>\n",
              "      <td>v</td>\n",
              "      <td>1.25</td>\n",
              "      <td>True</td>\n",
              "      <td>True</td>\n",
              "      <td>1.0</td>\n",
              "      <td>False</td>\n",
              "      <td>g</td>\n",
              "      <td>202.0</td>\n",
              "      <td>0.0</td>\n",
              "      <td>True</td>\n",
              "    </tr>\n",
              "    <tr>\n",
              "      <th>1</th>\n",
              "      <td>True</td>\n",
              "      <td>58.67</td>\n",
              "      <td>4.460</td>\n",
              "      <td>u</td>\n",
              "      <td>g</td>\n",
              "      <td>q</td>\n",
              "      <td>h</td>\n",
              "      <td>3.04</td>\n",
              "      <td>True</td>\n",
              "      <td>True</td>\n",
              "      <td>6.0</td>\n",
              "      <td>False</td>\n",
              "      <td>g</td>\n",
              "      <td>43.0</td>\n",
              "      <td>560.0</td>\n",
              "      <td>True</td>\n",
              "    </tr>\n",
              "    <tr>\n",
              "      <th>2</th>\n",
              "      <td>True</td>\n",
              "      <td>24.50</td>\n",
              "      <td>0.500</td>\n",
              "      <td>u</td>\n",
              "      <td>g</td>\n",
              "      <td>q</td>\n",
              "      <td>h</td>\n",
              "      <td>1.50</td>\n",
              "      <td>True</td>\n",
              "      <td>False</td>\n",
              "      <td>0.0</td>\n",
              "      <td>False</td>\n",
              "      <td>g</td>\n",
              "      <td>280.0</td>\n",
              "      <td>824.0</td>\n",
              "      <td>True</td>\n",
              "    </tr>\n",
              "    <tr>\n",
              "      <th>3</th>\n",
              "      <td>False</td>\n",
              "      <td>27.83</td>\n",
              "      <td>1.540</td>\n",
              "      <td>u</td>\n",
              "      <td>g</td>\n",
              "      <td>w</td>\n",
              "      <td>v</td>\n",
              "      <td>3.75</td>\n",
              "      <td>True</td>\n",
              "      <td>True</td>\n",
              "      <td>5.0</td>\n",
              "      <td>True</td>\n",
              "      <td>g</td>\n",
              "      <td>100.0</td>\n",
              "      <td>3.0</td>\n",
              "      <td>True</td>\n",
              "    </tr>\n",
              "    <tr>\n",
              "      <th>4</th>\n",
              "      <td>False</td>\n",
              "      <td>20.17</td>\n",
              "      <td>5.625</td>\n",
              "      <td>u</td>\n",
              "      <td>g</td>\n",
              "      <td>w</td>\n",
              "      <td>v</td>\n",
              "      <td>1.71</td>\n",
              "      <td>True</td>\n",
              "      <td>False</td>\n",
              "      <td>0.0</td>\n",
              "      <td>False</td>\n",
              "      <td>s</td>\n",
              "      <td>120.0</td>\n",
              "      <td>0.0</td>\n",
              "      <td>True</td>\n",
              "    </tr>\n",
              "  </tbody>\n",
              "</table>\n",
              "</div>"
            ],
            "text/plain": [
              "      A1     A2     A3 A4 A5 A6 A7    A8    A9    A10  A11    A12 A13    A14  \\\n",
              "0  False  30.83  0.000  u  g  w  v  1.25  True   True  1.0  False   g  202.0   \n",
              "1   True  58.67  4.460  u  g  q  h  3.04  True   True  6.0  False   g   43.0   \n",
              "2   True  24.50  0.500  u  g  q  h  1.50  True  False  0.0  False   g  280.0   \n",
              "3  False  27.83  1.540  u  g  w  v  3.75  True   True  5.0   True   g  100.0   \n",
              "4  False  20.17  5.625  u  g  w  v  1.71  True  False  0.0  False   s  120.0   \n",
              "\n",
              "     A15   A16  \n",
              "0    0.0  True  \n",
              "1  560.0  True  \n",
              "2  824.0  True  \n",
              "3    3.0  True  \n",
              "4    0.0  True  "
            ]
          },
          "metadata": {
            "tags": []
          },
          "execution_count": 19
        }
      ]
    },
    {
      "metadata": {
        "id": "yeGeFeyk7fwN",
        "colab_type": "code",
        "colab": {
          "base_uri": "https://localhost:8080/",
          "height": 318
        },
        "outputId": "0dcc7d23-bd52-49d4-bf2b-c24b5593421d"
      },
      "cell_type": "code",
      "source": [
        "credit_model.isnull().sum()"
      ],
      "execution_count": 20,
      "outputs": [
        {
          "output_type": "execute_result",
          "data": {
            "text/plain": [
              "A1      0\n",
              "A2     12\n",
              "A3      0\n",
              "A4      6\n",
              "A5      6\n",
              "A6      9\n",
              "A7      9\n",
              "A8      0\n",
              "A9      0\n",
              "A10     0\n",
              "A11     0\n",
              "A12     0\n",
              "A13     0\n",
              "A14    13\n",
              "A15     0\n",
              "A16     0\n",
              "dtype: int64"
            ]
          },
          "metadata": {
            "tags": []
          },
          "execution_count": 20
        }
      ]
    },
    {
      "metadata": {
        "id": "IP-B7kiw44Za",
        "colab_type": "code",
        "colab": {
          "base_uri": "https://localhost:8080/",
          "height": 105
        },
        "outputId": "cc4eaf34-19f0-42f0-bbbf-60d8a2470557"
      },
      "cell_type": "code",
      "source": [
        "from sklearn.linear_model import LogisticRegression\n",
        "from sklearn.model_selection import train_test_split\n",
        "\n",
        "features = ['A1', 'A2', 'A3', 'A8', 'A9', 'A10', 'A11', 'A12', 'A14', 'A15']\n",
        "\n",
        "y = credit_model[target]\n",
        "X = credit_model[features]\n",
        "\n",
        "X_train, X_test, y_train, y_test = train_test_split(X, y, test_size=0.33, random_state=42)\n",
        "\n",
        "# filling nulls for A2 and 14, just use mean\n",
        "X_train['A2'].fillna(X_train['A2'].mean(), inplace=True)\n",
        "X_test['A2'].fillna(X_train['A2'].mean(), inplace=True)\n",
        "\n",
        "X_train['A14'].fillna(X_train['A14'].mean(), inplace=True)\n",
        "X_test['A14'].fillna(X_train['A14'].mean(), inplace=True)\n",
        "\n",
        "model = LogisticRegression().fit(X_train, y_train)"
      ],
      "execution_count": 21,
      "outputs": [
        {
          "output_type": "stream",
          "text": [
            "/usr/local/lib/python3.6/dist-packages/pandas/core/generic.py:4355: SettingWithCopyWarning: \n",
            "A value is trying to be set on a copy of a slice from a DataFrame\n",
            "\n",
            "See the caveats in the documentation: http://pandas.pydata.org/pandas-docs/stable/indexing.html#indexing-view-versus-copy\n",
            "  self._update_inplace(new_data)\n"
          ],
          "name": "stderr"
        }
      ]
    },
    {
      "metadata": {
        "id": "JxYwQGN38PBg",
        "colab_type": "code",
        "colab": {
          "base_uri": "https://localhost:8080/",
          "height": 52
        },
        "outputId": "5fec47de-e61b-4a90-aa34-c2d5c34498e7"
      },
      "cell_type": "code",
      "source": [
        "from sklearn.metrics import mean_absolute_error\n",
        "\n",
        "y_pred_train = model.predict(X_train)\n",
        "y_pred_test = model.predict(X_test)\n",
        "\n",
        "print ('Mean Absolute Error on Training Data:', mean_absolute_error(y_train.astype(int), y_pred_train.astype(int)))\n",
        "print ('Mean Absolute Error on Test Data:', mean_absolute_error(y_test.astype(int), y_pred_test.astype(int)))"
      ],
      "execution_count": 22,
      "outputs": [
        {
          "output_type": "stream",
          "text": [
            "Mean Absolute Error on Training Data: 0.1341991341991342\n",
            "Mean Absolute Error on Test Data: 0.14912280701754385\n"
          ],
          "name": "stdout"
        }
      ]
    },
    {
      "metadata": {
        "id": "5KP1vX9E9v5C",
        "colab_type": "text"
      },
      "cell_type": "markdown",
      "source": [
        "Using this model, let's look at the relationship of A11 and the target, which should be positively related according to our t-tests."
      ]
    },
    {
      "metadata": {
        "id": "0UWPSHv--xK8",
        "colab_type": "code",
        "colab": {
          "base_uri": "https://localhost:8080/",
          "height": 214
        },
        "outputId": "48cd6071-c219-4123-99d3-486d02b72e73"
      },
      "cell_type": "code",
      "source": [
        "!pip install seaborn --upgrade"
      ],
      "execution_count": 34,
      "outputs": [
        {
          "output_type": "stream",
          "text": [
            "Requirement already up-to-date: seaborn in /usr/local/lib/python3.6/dist-packages (0.9.0)\n",
            "Requirement already satisfied, skipping upgrade: numpy>=1.9.3 in /usr/local/lib/python3.6/dist-packages (from seaborn) (1.14.6)\n",
            "Requirement already satisfied, skipping upgrade: pandas>=0.15.2 in /usr/local/lib/python3.6/dist-packages (from seaborn) (0.22.0)\n",
            "Requirement already satisfied, skipping upgrade: matplotlib>=1.4.3 in /usr/local/lib/python3.6/dist-packages (from seaborn) (2.1.2)\n",
            "Requirement already satisfied, skipping upgrade: scipy>=0.14.0 in /usr/local/lib/python3.6/dist-packages (from seaborn) (1.1.0)\n",
            "Requirement already satisfied, skipping upgrade: python-dateutil>=2 in /usr/local/lib/python3.6/dist-packages (from pandas>=0.15.2->seaborn) (2.5.3)\n",
            "Requirement already satisfied, skipping upgrade: pytz>=2011k in /usr/local/lib/python3.6/dist-packages (from pandas>=0.15.2->seaborn) (2018.7)\n",
            "Requirement already satisfied, skipping upgrade: six>=1.10 in /usr/local/lib/python3.6/dist-packages (from matplotlib>=1.4.3->seaborn) (1.11.0)\n",
            "Requirement already satisfied, skipping upgrade: pyparsing!=2.0.4,!=2.1.2,!=2.1.6,>=2.0.1 in /usr/local/lib/python3.6/dist-packages (from matplotlib>=1.4.3->seaborn) (2.3.0)\n",
            "Requirement already satisfied, skipping upgrade: cycler>=0.10 in /usr/local/lib/python3.6/dist-packages (from matplotlib>=1.4.3->seaborn) (0.10.0)\n"
          ],
          "name": "stdout"
        }
      ]
    },
    {
      "metadata": {
        "id": "Nme4KkAO8VAL",
        "colab_type": "code",
        "colab": {
          "base_uri": "https://localhost:8080/",
          "height": 282
        },
        "outputId": "ab60e2bd-5065-4b8d-e53e-ab7247c1a55d"
      },
      "cell_type": "code",
      "source": [
        "y_pred_prob_train = model.predict_proba(X_train)[:,1]\n",
        "\n",
        "sns.scatterplot(x=X_train['A11'], y=y_pred_prob_train, hue=y_train, alpha=0.4)\n",
        "plt.xlim(-10,30)\n",
        "plt.show()"
      ],
      "execution_count": 37,
      "outputs": [
        {
          "output_type": "display_data",
          "data": {
            "image/png": "[encoded data removed]",
            "text/plain": [
              "<matplotlib.figure.Figure at 0x7fe7cefbd588>"
            ]
          },
          "metadata": {
            "tags": []
          }
        }
      ]
    },
    {
      "metadata": {
        "id": "ob9Emr2RAY89",
        "colab_type": "text"
      },
      "cell_type": "markdown",
      "source": [
        "Admittedly, not the clearest visual here. However, we can see that as A11 increases, our model is predicting a larger probability of the application being accepted.\n",
        "\n",
        "A better idea, which I don't have time for, would be to train the logistic regression model on only this feature. Then repeat the visualization."
      ]
    },
    {
      "metadata": {
        "id": "N1Gx_1CBA6eh",
        "colab_type": "code",
        "colab": {}
      },
      "cell_type": "code",
      "source": [
        ""
      ],
      "execution_count": 0,
      "outputs": []
    }
  ]
}