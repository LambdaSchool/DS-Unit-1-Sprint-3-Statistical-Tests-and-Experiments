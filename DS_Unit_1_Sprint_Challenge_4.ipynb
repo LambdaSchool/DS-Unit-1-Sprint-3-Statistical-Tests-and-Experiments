{
  "nbformat": 4,
  "nbformat_minor": 0,
  "metadata": {
    "colab": {
      "name": "DS_Unit_1_Sprint_Challenge_4.ipynb",
      "version": "0.3.2",
      "provenance": [],
      "collapsed_sections": [],
      "include_colab_link": true
    },
    "kernelspec": {
      "name": "python3",
      "display_name": "Python 3"
    }
  },
  "cells": [
    {
      "cell_type": "markdown",
      "metadata": {
        "id": "view-in-github",
        "colab_type": "text"
      },
      "source": [
        "<a href=\"https://colab.research.google.com/github/DimaKav/DS-Unit-1-Sprint-4-Statistical-Tests-and-Experiments/blob/master/DS_Unit_1_Sprint_Challenge_4.ipynb\" target=\"_parent\"><img src=\"https://colab.research.google.com/assets/colab-badge.svg\" alt=\"Open In Colab\"/></a>"
      ]
    },
    {
      "metadata": {
        "id": "NooAiTdnafkz",
        "colab_type": "text"
      },
      "cell_type": "markdown",
      "source": [
        "# Data Science Unit 1 Sprint Challenge 4\n",
        "\n",
        "## Exploring Data, Testing Hypotheses\n",
        "\n",
        "In this sprint challenge you will look at a dataset of people being approved or rejected for credit.\n",
        "\n",
        "https://archive.ics.uci.edu/ml/datasets/Credit+Approval\n",
        "\n",
        "Data Set Information: This file concerns credit card applications. All attribute names and values have been changed to meaningless symbols to protect confidentiality of the data. This dataset is interesting because there is a good mix of attributes -- continuous, nominal with small numbers of values, and nominal with larger numbers of values. There are also a few missing values.\n",
        "\n",
        "Attribute Information:\n",
        "- A1: b, a.\n",
        "- A2: continuous.\n",
        "- A3: continuous.\n",
        "- A4: u, y, l, t.\n",
        "- A5: g, p, gg.\n",
        "- A6: c, d, cc, i, j, k, m, r, q, w, x, e, aa, ff.\n",
        "- A7: v, h, bb, j, n, z, dd, ff, o.\n",
        "- A8: continuous.\n",
        "- A9: t, f.\n",
        "- A10: t, f.\n",
        "- A11: continuous.\n",
        "- A12: t, f.\n",
        "- A13: g, p, s.\n",
        "- A14: continuous.\n",
        "- A15: continuous.\n",
        "- A16: +,- (class attribute)\n",
        "\n",
        "Yes, most of that doesn't mean anything. A16 (the class attribute) is the most interesting, as it separates the 307 approved cases from the 383 rejected cases. The remaining variables have been obfuscated for privacy - a challenge you may have to deal with in your data science career.\n",
        "\n",
        "Sprint challenges are evaluated based on satisfactory completion of each part. It is suggested you work through it in order, getting each aspect reasonably working, before trying to deeply explore, iterate, or refine any given step. Once you get to the end, if you want to go back and improve things, go for it!"
      ]
    },
    {
      "metadata": {
        "id": "5wch6ksCbJtZ",
        "colab_type": "text"
      },
      "cell_type": "markdown",
      "source": [
        "## Part 1 - Load and validate the data\n",
        "\n",
        "- Load the data as a `pandas` data frame.\n",
        "- Validate that it has the appropriate number of observations (you can check the raw file, and also read the dataset description from UCI).\n",
        "- UCI says there should be missing data - check, and if necessary change the data so pandas recognizes it as na\n",
        "- Make sure that the loaded features are of the types described above (continuous values should be treated as float), and correct as necessary\n",
        "\n",
        "This is review, but skills that you'll use at the start of any data exploration. Further, you may have to do some investigation to figure out which file to load from - that is part of the puzzle."
      ]
    },
    {
      "metadata": {
        "id": "Q79xDLckzibS",
        "colab_type": "code",
        "colab": {
          "base_uri": "https://localhost:8080/",
          "height": 680
        },
        "outputId": "293d36e2-ebf9-40b9-b96a-4e4b50f0d566"
      },
      "cell_type": "code",
      "source": [
        "# Load into pandas dataframe\n",
        "\n",
        "import pandas as pd\n",
        "import numpy as np\n",
        "\n",
        "df = pd.read_csv('https://archive.ics.uci.edu/ml/machine-learning-databases/credit-screening/crx.data',\n",
        "                  header=None)\n",
        "\n",
        "# Validate for appropriate number of observations\n",
        "\n",
        "df.columns = ['A' + str(i) for i in range(1,17)]\n",
        "print(df.shape)\n",
        "\n",
        "# Replace ? with NaNs\n",
        "\n",
        "df = df.replace('?', np.NaN)\n",
        "print(df.isnull().sum())\n",
        "\n",
        "# Change continuous numeric features to float\n",
        "\n",
        "df[['A2', 'A3', 'A8', 'A11', 'A14', 'A15']] = df[['A2', 'A3', 'A8', 'A11', 'A14', 'A15']].astype('float')\n",
        "\n",
        "df.info()"
      ],
      "execution_count": 76,
      "outputs": [
        {
          "output_type": "stream",
          "text": [
            "(690, 16)\n",
            "A1     12\n",
            "A2     12\n",
            "A3      0\n",
            "A4      6\n",
            "A5      6\n",
            "A6      9\n",
            "A7      9\n",
            "A8      0\n",
            "A9      0\n",
            "A10     0\n",
            "A11     0\n",
            "A12     0\n",
            "A13     0\n",
            "A14    13\n",
            "A15     0\n",
            "A16     0\n",
            "dtype: int64\n",
            "<class 'pandas.core.frame.DataFrame'>\n",
            "RangeIndex: 690 entries, 0 to 689\n",
            "Data columns (total 16 columns):\n",
            "A1     678 non-null object\n",
            "A2     678 non-null float64\n",
            "A3     690 non-null float64\n",
            "A4     684 non-null object\n",
            "A5     684 non-null object\n",
            "A6     681 non-null object\n",
            "A7     681 non-null object\n",
            "A8     690 non-null float64\n",
            "A9     690 non-null object\n",
            "A10    690 non-null object\n",
            "A11    690 non-null float64\n",
            "A12    690 non-null object\n",
            "A13    690 non-null object\n",
            "A14    677 non-null float64\n",
            "A15    690 non-null float64\n",
            "A16    690 non-null object\n",
            "dtypes: float64(6), object(10)\n",
            "memory usage: 86.3+ KB\n"
          ],
          "name": "stdout"
        }
      ]
    },
    {
      "metadata": {
        "id": "G7rLytbrO38L",
        "colab_type": "text"
      },
      "cell_type": "markdown",
      "source": [
        "## Part 2 - Exploring data, Testing hypotheses\n",
        "\n",
        "The only thing we really know about this data is that A16 is the class label. Besides that, we have 6 continuous (float) features and 9 categorical features.\n",
        "\n",
        "Explore the data: you can use whatever approach (tables, utility functions, visualizations) to get an impression of the distributions and relationships of the variables. In general, your goal is to understand how the features are different when grouped by the two class labels (`+` and `-`).\n",
        "\n",
        "For the 6 continuous features, how are they different when split between the two class labels? Choose two features to run t-tests (again split by class label) - specifically, select one feature that is *extremely* different between the classes, and another feature that is notably less different (though perhaps still \"statistically significantly\" different). You may have to explore more than two features to do this.\n",
        "\n",
        "For the categorical features, explore by creating \"cross tabs\" (aka [contingency tables](https://en.wikipedia.org/wiki/Contingency_table)) between them and the class label, and apply the Chi-squared test to them. [pandas.crosstab](http://pandas.pydata.org/pandas-docs/stable/reference/api/pandas.crosstab.html) can create contingency tables, and [scipy.stats.chi2_contingency](https://docs.scipy.org/doc/scipy/reference/generated/scipy.stats.chi2_contingency.html) can calculate the Chi-squared statistic for them.\n",
        "\n",
        "There are 9 categorical features - as with the t-test, try to find one where the Chi-squared test returns an extreme result (rejecting the null that the data are independent), and one where it is less extreme.\n",
        "\n",
        "**NOTE** - \"less extreme\" just means smaller test statistic/larger p-value. Even the least extreme differences may be strongly statistically significant.\n",
        "\n",
        "Your *main* goal is the hypothesis tests, so don't spend too much time on the exploration/visualization piece. That is just a means to an end - use simple visualizations, such as boxplots or a scatter matrix (both built in to pandas), to get a feel for the overall distribution of the variables.\n",
        "\n",
        "This is challenging, so manage your time and aim for a baseline of at least running two t-tests and two Chi-squared tests before polishing. And don't forget to answer the questions in part 3, even if your results in this part aren't what you want them to be."
      ]
    },
    {
      "metadata": {
        "id": "_nqcgc0yzm68",
        "colab_type": "code",
        "colab": {
          "base_uri": "https://localhost:8080/",
          "height": 442
        },
        "outputId": "1eae3f52-64ac-4eff-b80a-3541fe83a001"
      },
      "cell_type": "code",
      "source": [
        "# Explore relationships between continuous features \n",
        "\n",
        "print(df.corr())\n",
        "\n",
        "# Change + - 1 for approved 0 for rejected\n",
        "\n",
        "df[['A16']] = df[['A16']].replace('+', 1)\n",
        "df[['A16']] = df[['A16']].replace('-', 0)\n",
        "\n",
        "# Make the corr method work for A1, A9, A10, A12 \n",
        "# by chaging to b=0, a=1, t=1, f=0 to see more correlations easily\n",
        "\n",
        "df[['A9', 'A10', 'A12']] = df[['A9', 'A10', 'A12']].replace('t', 1)\n",
        "df[['A9', 'A10', 'A12']] = df[['A9', 'A10', 'A12']].replace('f', 0)\n",
        "df[['A1']] = df[['A1']].replace('a', 1)\n",
        "df[['A1']] = df[['A1']].replace('b', 0)\n",
        "\n",
        "# Pearson correlation shows us a strong correlation for Credit approval \n",
        "# A16 is correlated 70% with A9 and 45% with A10"
      ],
      "execution_count": 79,
      "outputs": [
        {
          "output_type": "stream",
          "text": [
            "           A1        A2        A3        A8        A9       A10       A11  \\\n",
            "A1   1.000000 -0.036677  0.038022 -0.090829  0.017928  0.074452  0.019762   \n",
            "A2  -0.036677  1.000000  0.202317  0.395751  0.206151  0.084307  0.185912   \n",
            "A3   0.038022  0.202317  1.000000  0.298902  0.244317  0.174846  0.271207   \n",
            "A8  -0.090829  0.395751  0.298902  1.000000  0.345689  0.222982  0.322330   \n",
            "A9   0.017928  0.206151  0.244317  0.345689  1.000000  0.432032  0.379532   \n",
            "A10  0.074452  0.084307  0.174846  0.222982  0.432032  1.000000  0.571498   \n",
            "A11  0.019762  0.185912  0.271207  0.322330  0.379532  0.571498  1.000000   \n",
            "A12 -0.053308  0.055282 -0.013023  0.138139  0.091276  0.017043  0.006944   \n",
            "A14 -0.079228 -0.079812 -0.224242 -0.077163 -0.068072 -0.053772 -0.120096   \n",
            "A15  0.000288  0.018553  0.123121  0.051345  0.090012  0.077652  0.063692   \n",
            "A16  0.024634  0.162881  0.206294  0.322475  0.720407  0.458301  0.406410   \n",
            "\n",
            "          A12       A14       A15       A16  \n",
            "A1  -0.053308 -0.079228  0.000288  0.024634  \n",
            "A2   0.055282 -0.079812  0.018553  0.162881  \n",
            "A3  -0.013023 -0.224242  0.123121  0.206294  \n",
            "A8   0.138139 -0.077163  0.051345  0.322475  \n",
            "A9   0.091276 -0.068072  0.090012  0.720407  \n",
            "A10  0.017043 -0.053772  0.077652  0.458301  \n",
            "A11  0.006944 -0.120096  0.063692  0.406410  \n",
            "A12  1.000000  0.145497  0.019201  0.031625  \n",
            "A14  0.145497  1.000000  0.066853 -0.100935  \n",
            "A15  0.019201  0.066853  1.000000  0.175657  \n",
            "A16  0.031625 -0.100935  0.175657  1.000000  \n"
          ],
          "name": "stdout"
        }
      ]
    },
    {
      "metadata": {
        "id": "xoS7ae2BRMTw",
        "colab_type": "code",
        "colab": {
          "base_uri": "https://localhost:8080/",
          "height": 711
        },
        "outputId": "fe391164-26c2-491f-dbc0-ad1a44491b59"
      },
      "cell_type": "code",
      "source": [
        "# Visualize the most correlated features A9 and A10\n",
        "\n",
        "df.hist('A16', 'A9')\n",
        "df.hist('A16', 'A10');"
      ],
      "execution_count": 102,
      "outputs": [
        {
          "output_type": "display_data",
          "data": {
            "image/png": "[encoded data removed]",
            "text/plain": [
              "<Figure size 576x396 with 2 Axes>"
            ]
          },
          "metadata": {
            "tags": []
          }
        },
        {
          "output_type": "display_data",
          "data": {
            "image/png": "[encoded data removed]",
            "text/plain": [
              "<Figure size 576x396 with 2 Axes>"
            ]
          },
          "metadata": {
            "tags": []
          }
        }
      ]
    },
    {
      "metadata": {
        "id": "2P8rzjmM-5sF",
        "colab_type": "code",
        "colab": {
          "base_uri": "https://localhost:8080/",
          "height": 425
        },
        "outputId": "4d5a3a65-f961-40f0-a80a-41081f20e93a"
      },
      "cell_type": "code",
      "source": [
        "# Hypothesis tests\n",
        "\n",
        "# Run t-tests on continuous features\n",
        "\n",
        "# Separate approved and not approved so we can use them in the t-test function\n",
        "\n",
        "import scipy\n",
        "\n",
        "# Check population variances to see whether to do a regular or Welch's t-test\n",
        "\n",
        "df_approved = df[df['A16'] == 1].drop(['A16'], axis=1)\n",
        "df_rejected = df[df['A16'] == 0].drop(['A16'], axis=1)\n",
        "t_features = ['A2', 'A3', 'A8', 'A11', 'A14', 'A15']\n",
        "\n",
        "for i in t_features:\n",
        "  print(df[i].var())\n",
        "  \n",
        "# Welch's it is\n",
        "\n",
        "for a, r in zip(df_approved[t_features], df_rejected[t_features]):\n",
        "  print('\\n' + r + ':\\n', \n",
        "        scipy.stats.ttest_ind(df_approved[a], df_rejected[r], \n",
        "                                                equal_var=False, nan_policy='omit'))"
      ],
      "execution_count": 108,
      "outputs": [
        {
          "output_type": "stream",
          "text": [
            "142.99047552755303\n",
            "24.78210932900024\n",
            "11.199151663827017\n",
            "23.648185776487665\n",
            "30208.79268090169\n",
            "27145169.084840517\n",
            "\n",
            "A2:\n",
            " Ttest_indResult(statistic=4.224490929851236, pvalue=2.7673850124552034e-05)\n",
            "\n",
            "A3:\n",
            " Ttest_indResult(statistic=5.392530906223675, pvalue=1.0158807568737146e-07)\n",
            "\n",
            "A8:\n",
            " Ttest_indResult(statistic=8.38006008674286, pvalue=7.425348666782441e-16)\n",
            "\n",
            "A11:\n",
            " Ttest_indResult(statistic=10.6384190682749, pvalue=4.310254123415665e-23)\n",
            "\n",
            "A14:\n",
            " Ttest_indResult(statistic=-2.6696493137915973, pvalue=0.0077778250827957)\n",
            "\n",
            "A15:\n",
            " Ttest_indResult(statistic=4.196600236397611, pvalue=3.5433798702024966e-05)\n"
          ],
          "name": "stdout"
        }
      ]
    },
    {
      "metadata": {
        "id": "JgP_rdf9Azwi",
        "colab_type": "code",
        "colab": {
          "base_uri": "https://localhost:8080/",
          "height": 119
        },
        "outputId": "bda70dbc-e858-481e-bcf5-5bae725d44fa"
      },
      "cell_type": "code",
      "source": [
        "# Cross tabs for Chi\n",
        "\n",
        "# The only valid features for Chi: A9 A10 A12\n",
        "\n",
        "ct_9 = pd.crosstab(df['A16'], df['A9'])\n",
        "ct_10 = pd.crosstab(df['A16'], df['A10'])\n",
        "ct_12 = pd.crosstab(df['A16'], df['A12'])\n",
        "\n",
        "# Many of the expected frequencies are < 5, so the Chi results\n",
        "# for features other than A9, A10, A12 cannot be trusted\n",
        "\n",
        "# Run chi tests on valid features\n",
        "\n",
        "for ct in [ct_9, ct_10, ct_12]:\n",
        "  print(scipy.stats.chi2_contingency(ct))"
      ],
      "execution_count": 85,
      "outputs": [
        {
          "output_type": "stream",
          "text": [
            "(355.2038167412799, 3.1185900878457007e-79, 1, array([[182.61884058, 200.38115942],\n",
            "       [146.38115942, 160.61884058]]))\n",
            "(143.06956205083148, 5.6757273745274924e-33, 1, array([[219.25362319, 163.74637681],\n",
            "       [175.74637681, 131.25362319]]))\n",
            "(0.568273300792113, 0.45094587758631943, 1, array([[207.59710145, 175.40289855],\n",
            "       [166.40289855, 140.59710145]]))\n"
          ],
          "name": "stdout"
        }
      ]
    },
    {
      "metadata": {
        "id": "ZM8JckA2bgnp",
        "colab_type": "text"
      },
      "cell_type": "markdown",
      "source": [
        "## Part 3 - Analysis and Interpretation\n",
        "\n",
        "Now that you've looked at the data, answer the following questions:\n",
        "\n",
        "- Interpret and explain the two t-tests you ran - what do they tell you about the relationships between the continuous features you selected and the class labels?\n",
        "\n",
        "**The p-values for all of the continuous features were less than 0.05. This means that we can reject the null hypothesis of equal averages.**\n",
        "\n",
        "- Interpret and explain the two Chi-squared tests you ran - what do they tell you about the relationships between the categorical features you selected and the class labels?\n",
        "\n",
        "An often quoted guideline for the validity of this calculation is that the test should be used only if the observed and expected frequencies in each cell are at least 5. The first few chi-squared tests I ran had many observed frequencies that were > 5, so I found the only three features that are valid (A9, A10, A12) and performed tests on them as I did not feel like using Fisher's exact test to overcome that problem.\n",
        "\n",
        "**The chi-squared p-values for A9 and A10 were < 0.05 which means that we can reject the null hypothesis for these features. For A11, the p-value was much greater than 0.05 which means there is a statistically significant relationship between A11 and getting approved for credit.**\n",
        "\n",
        "- What was the most challenging part of this sprint challenge?\n",
        "\n",
        "Timing"
      ]
    }
  ]
}