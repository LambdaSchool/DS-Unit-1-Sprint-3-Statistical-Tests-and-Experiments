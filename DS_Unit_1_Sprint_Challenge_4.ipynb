{
  "nbformat": 4,
  "nbformat_minor": 0,
  "metadata": {
    "colab": {
      "name": "DS_Unit_1_Sprint_Challenge_4.ipynb",
      "version": "0.3.2",
      "provenance": [],
      "collapsed_sections": [],
      "include_colab_link": true
    },
    "kernelspec": {
      "name": "python3",
      "display_name": "Python 3"
    }
  },
  "cells": [
    {
      "cell_type": "markdown",
      "metadata": {
        "id": "view-in-github",
        "colab_type": "text"
      },
      "source": [
        "<a href=\"https://colab.research.google.com/github/mkirby1995/DS-Unit-1-Sprint-4-Statistical-Tests-and-Experiments/blob/master/DS_Unit_1_Sprint_Challenge_4.ipynb\" target=\"_parent\"><img src=\"https://colab.research.google.com/assets/colab-badge.svg\" alt=\"Open In Colab\"/></a>"
      ]
    },
    {
      "metadata": {
        "id": "NooAiTdnafkz",
        "colab_type": "text"
      },
      "cell_type": "markdown",
      "source": [
        "# Data Science Unit 1 Sprint Challenge 4\n",
        "\n",
        "## Exploring Data, Testing Hypotheses\n",
        "\n",
        "In this sprint challenge you will look at a dataset of people being approved or rejected for credit.\n",
        "\n",
        "https://archive.ics.uci.edu/ml/datasets/Credit+Approval\n",
        "\n",
        "Data Set Information: This file concerns credit card applications. All attribute names and values have been changed to meaningless symbols to protect confidentiality of the data. This dataset is interesting because there is a good mix of attributes -- continuous, nominal with small numbers of values, and nominal with larger numbers of values. There are also a few missing values.\n",
        "\n",
        "Attribute Information:\n",
        "- A1: b, a.\n",
        "- A2: continuous.\n",
        "- A3: continuous.\n",
        "- A4: u, y, l, t.\n",
        "- A5: g, p, gg.\n",
        "- A6: c, d, cc, i, j, k, m, r, q, w, x, e, aa, ff.\n",
        "- A7: v, h, bb, j, n, z, dd, ff, o.\n",
        "- A8: continuous.\n",
        "- A9: t, f.\n",
        "- A10: t, f.\n",
        "- A11: continuous.\n",
        "- A12: t, f.\n",
        "- A13: g, p, s.\n",
        "- A14: continuous.\n",
        "- A15: continuous.\n",
        "- A16: +,- (class attribute)\n",
        "\n",
        "Yes, most of that doesn't mean anything. A16 (the class attribute) is the most interesting, as it separates the 307 approved cases from the 383 rejected cases. The remaining variables have been obfuscated for privacy - a challenge you may have to deal with in your data science career.\n",
        "\n",
        "Sprint challenges are evaluated based on satisfactory completion of each part. It is suggested you work through it in order, getting each aspect reasonably working, before trying to deeply explore, iterate, or refine any given step. Once you get to the end, if you want to go back and improve things, go for it!"
      ]
    },
    {
      "metadata": {
        "id": "5wch6ksCbJtZ",
        "colab_type": "text"
      },
      "cell_type": "markdown",
      "source": [
        "## Part 1 - Load and validate the data\n",
        "\n",
        "- Load the data as a `pandas` data frame.\n",
        "- Validate that it has the appropriate number of observations (you can check the raw file, and also read the dataset description from UCI).\n",
        "- UCI says there should be missing data - check, and if necessary change the data so pandas recognizes it as na\n",
        "- Make sure that the loaded features are of the types described above (continuous values should be treated as float), and correct as necessary\n",
        "\n",
        "This is review, but skills that you'll use at the start of any data exploration. Further, you may have to do some investigation to figure out which file to load from - that is part of the puzzle."
      ]
    },
    {
      "metadata": {
        "id": "MoyTqr_BRUcl",
        "colab_type": "text"
      },
      "cell_type": "markdown",
      "source": [
        "**Import and Validate**"
      ]
    },
    {
      "metadata": {
        "id": "lTKEwiiNI6zM",
        "colab_type": "code",
        "colab": {}
      },
      "cell_type": "code",
      "source": [
        "import pandas as pd\n",
        "import numpy as np\n",
        "import seaborn as sns\n",
        "import matplotlib.pyplot as plt\n",
        "from scipy.stats import chisquare\n",
        "from scipy import stats"
      ],
      "execution_count": 0,
      "outputs": []
    },
    {
      "metadata": {
        "id": "Q79xDLckzibS",
        "colab_type": "code",
        "colab": {
          "base_uri": "https://localhost:8080/",
          "height": 222
        },
        "outputId": "e7955844-0ba6-4d5e-fee9-ac281c7184bf"
      },
      "cell_type": "code",
      "source": [
        "csv = 'https://archive.ics.uci.edu/ml/machine-learning-databases/credit-screening/crx.data'\n",
        "\n",
        "names = ['A1', 'A2','A3','A4','A5','A6','A7','A8','A9','A10','A11','A12','A13','A14','A15','Approved']\n",
        "\n",
        "df = pd.read_csv(csv, header=None, names=names)\n",
        "\n",
        "print('DataFrame shape:',df.shape)\n",
        "\n",
        "df.head()"
      ],
      "execution_count": 3,
      "outputs": [
        {
          "output_type": "stream",
          "text": [
            "DataFrame shape: (690, 16)\n"
          ],
          "name": "stdout"
        },
        {
          "output_type": "execute_result",
          "data": {
            "text/html": [
              "<div>\n",
              "<style scoped>\n",
              "    .dataframe tbody tr th:only-of-type {\n",
              "        vertical-align: middle;\n",
              "    }\n",
              "\n",
              "    .dataframe tbody tr th {\n",
              "        vertical-align: top;\n",
              "    }\n",
              "\n",
              "    .dataframe thead th {\n",
              "        text-align: right;\n",
              "    }\n",
              "</style>\n",
              "<table border=\"1\" class=\"dataframe\">\n",
              "  <thead>\n",
              "    <tr style=\"text-align: right;\">\n",
              "      <th></th>\n",
              "      <th>A1</th>\n",
              "      <th>A2</th>\n",
              "      <th>A3</th>\n",
              "      <th>A4</th>\n",
              "      <th>A5</th>\n",
              "      <th>A6</th>\n",
              "      <th>A7</th>\n",
              "      <th>A8</th>\n",
              "      <th>A9</th>\n",
              "      <th>A10</th>\n",
              "      <th>A11</th>\n",
              "      <th>A12</th>\n",
              "      <th>A13</th>\n",
              "      <th>A14</th>\n",
              "      <th>A15</th>\n",
              "      <th>Approved</th>\n",
              "    </tr>\n",
              "  </thead>\n",
              "  <tbody>\n",
              "    <tr>\n",
              "      <th>0</th>\n",
              "      <td>b</td>\n",
              "      <td>30.83</td>\n",
              "      <td>0.000</td>\n",
              "      <td>u</td>\n",
              "      <td>g</td>\n",
              "      <td>w</td>\n",
              "      <td>v</td>\n",
              "      <td>1.25</td>\n",
              "      <td>t</td>\n",
              "      <td>t</td>\n",
              "      <td>1</td>\n",
              "      <td>f</td>\n",
              "      <td>g</td>\n",
              "      <td>00202</td>\n",
              "      <td>0</td>\n",
              "      <td>+</td>\n",
              "    </tr>\n",
              "    <tr>\n",
              "      <th>1</th>\n",
              "      <td>a</td>\n",
              "      <td>58.67</td>\n",
              "      <td>4.460</td>\n",
              "      <td>u</td>\n",
              "      <td>g</td>\n",
              "      <td>q</td>\n",
              "      <td>h</td>\n",
              "      <td>3.04</td>\n",
              "      <td>t</td>\n",
              "      <td>t</td>\n",
              "      <td>6</td>\n",
              "      <td>f</td>\n",
              "      <td>g</td>\n",
              "      <td>00043</td>\n",
              "      <td>560</td>\n",
              "      <td>+</td>\n",
              "    </tr>\n",
              "    <tr>\n",
              "      <th>2</th>\n",
              "      <td>a</td>\n",
              "      <td>24.50</td>\n",
              "      <td>0.500</td>\n",
              "      <td>u</td>\n",
              "      <td>g</td>\n",
              "      <td>q</td>\n",
              "      <td>h</td>\n",
              "      <td>1.50</td>\n",
              "      <td>t</td>\n",
              "      <td>f</td>\n",
              "      <td>0</td>\n",
              "      <td>f</td>\n",
              "      <td>g</td>\n",
              "      <td>00280</td>\n",
              "      <td>824</td>\n",
              "      <td>+</td>\n",
              "    </tr>\n",
              "    <tr>\n",
              "      <th>3</th>\n",
              "      <td>b</td>\n",
              "      <td>27.83</td>\n",
              "      <td>1.540</td>\n",
              "      <td>u</td>\n",
              "      <td>g</td>\n",
              "      <td>w</td>\n",
              "      <td>v</td>\n",
              "      <td>3.75</td>\n",
              "      <td>t</td>\n",
              "      <td>t</td>\n",
              "      <td>5</td>\n",
              "      <td>t</td>\n",
              "      <td>g</td>\n",
              "      <td>00100</td>\n",
              "      <td>3</td>\n",
              "      <td>+</td>\n",
              "    </tr>\n",
              "    <tr>\n",
              "      <th>4</th>\n",
              "      <td>b</td>\n",
              "      <td>20.17</td>\n",
              "      <td>5.625</td>\n",
              "      <td>u</td>\n",
              "      <td>g</td>\n",
              "      <td>w</td>\n",
              "      <td>v</td>\n",
              "      <td>1.71</td>\n",
              "      <td>t</td>\n",
              "      <td>f</td>\n",
              "      <td>0</td>\n",
              "      <td>f</td>\n",
              "      <td>s</td>\n",
              "      <td>00120</td>\n",
              "      <td>0</td>\n",
              "      <td>+</td>\n",
              "    </tr>\n",
              "  </tbody>\n",
              "</table>\n",
              "</div>"
            ],
            "text/plain": [
              "  A1     A2     A3 A4 A5 A6 A7    A8 A9 A10  A11 A12 A13    A14  A15 Approved\n",
              "0  b  30.83  0.000  u  g  w  v  1.25  t   t    1   f   g  00202    0        +\n",
              "1  a  58.67  4.460  u  g  q  h  3.04  t   t    6   f   g  00043  560        +\n",
              "2  a  24.50  0.500  u  g  q  h  1.50  t   f    0   f   g  00280  824        +\n",
              "3  b  27.83  1.540  u  g  w  v  3.75  t   t    5   t   g  00100    3        +\n",
              "4  b  20.17  5.625  u  g  w  v  1.71  t   f    0   f   s  00120    0        +"
            ]
          },
          "metadata": {
            "tags": []
          },
          "execution_count": 3
        }
      ]
    },
    {
      "metadata": {
        "id": "aFQ-Q235Ra3I",
        "colab_type": "text"
      },
      "cell_type": "markdown",
      "source": [
        "\n",
        "\n",
        "---\n",
        "\n"
      ]
    },
    {
      "metadata": {
        "id": "WQmDWNXcRgz1",
        "colab_type": "text"
      },
      "cell_type": "markdown",
      "source": [
        "**Encoding and Typecasting**"
      ]
    },
    {
      "metadata": {
        "id": "TU8Pdwv-IzrD",
        "colab_type": "code",
        "colab": {
          "base_uri": "https://localhost:8080/",
          "height": 323
        },
        "outputId": "592a9382-87cf-4208-84be-a581206e431b"
      },
      "cell_type": "code",
      "source": [
        "df.dtypes"
      ],
      "execution_count": 4,
      "outputs": [
        {
          "output_type": "execute_result",
          "data": {
            "text/plain": [
              "A1           object\n",
              "A2           object\n",
              "A3          float64\n",
              "A4           object\n",
              "A5           object\n",
              "A6           object\n",
              "A7           object\n",
              "A8          float64\n",
              "A9           object\n",
              "A10          object\n",
              "A11           int64\n",
              "A12          object\n",
              "A13          object\n",
              "A14          object\n",
              "A15           int64\n",
              "Approved     object\n",
              "dtype: object"
            ]
          },
          "metadata": {
            "tags": []
          },
          "execution_count": 4
        }
      ]
    },
    {
      "metadata": {
        "id": "xTljZaSbHu8q",
        "colab_type": "code",
        "colab": {}
      },
      "cell_type": "code",
      "source": [
        "cont_columns = ['A2','A14']\n",
        "for _ in cont_columns:\n",
        "  df[_] = df[_].replace({'?': np.NaN})\n",
        "  df[_] = df[_].astype(float)"
      ],
      "execution_count": 0,
      "outputs": []
    },
    {
      "metadata": {
        "id": "Og_nRf_8JgQ5",
        "colab_type": "code",
        "colab": {
          "base_uri": "https://localhost:8080/",
          "height": 323
        },
        "outputId": "cf01cf12-df1b-4245-bce2-61d07cc39223"
      },
      "cell_type": "code",
      "source": [
        "df.dtypes"
      ],
      "execution_count": 6,
      "outputs": [
        {
          "output_type": "execute_result",
          "data": {
            "text/plain": [
              "A1           object\n",
              "A2          float64\n",
              "A3          float64\n",
              "A4           object\n",
              "A5           object\n",
              "A6           object\n",
              "A7           object\n",
              "A8          float64\n",
              "A9           object\n",
              "A10          object\n",
              "A11           int64\n",
              "A12          object\n",
              "A13          object\n",
              "A14         float64\n",
              "A15           int64\n",
              "Approved     object\n",
              "dtype: object"
            ]
          },
          "metadata": {
            "tags": []
          },
          "execution_count": 6
        }
      ]
    },
    {
      "metadata": {
        "id": "PehKUM_aJzqL",
        "colab_type": "code",
        "colab": {
          "base_uri": "https://localhost:8080/",
          "height": 173
        },
        "outputId": "f5d2601b-c19c-4e72-cc23-df667e9ef558"
      },
      "cell_type": "code",
      "source": [
        "df.describe(exclude='number')"
      ],
      "execution_count": 7,
      "outputs": [
        {
          "output_type": "execute_result",
          "data": {
            "text/html": [
              "<div>\n",
              "<style scoped>\n",
              "    .dataframe tbody tr th:only-of-type {\n",
              "        vertical-align: middle;\n",
              "    }\n",
              "\n",
              "    .dataframe tbody tr th {\n",
              "        vertical-align: top;\n",
              "    }\n",
              "\n",
              "    .dataframe thead th {\n",
              "        text-align: right;\n",
              "    }\n",
              "</style>\n",
              "<table border=\"1\" class=\"dataframe\">\n",
              "  <thead>\n",
              "    <tr style=\"text-align: right;\">\n",
              "      <th></th>\n",
              "      <th>A1</th>\n",
              "      <th>A4</th>\n",
              "      <th>A5</th>\n",
              "      <th>A6</th>\n",
              "      <th>A7</th>\n",
              "      <th>A9</th>\n",
              "      <th>A10</th>\n",
              "      <th>A12</th>\n",
              "      <th>A13</th>\n",
              "      <th>Approved</th>\n",
              "    </tr>\n",
              "  </thead>\n",
              "  <tbody>\n",
              "    <tr>\n",
              "      <th>count</th>\n",
              "      <td>690</td>\n",
              "      <td>690</td>\n",
              "      <td>690</td>\n",
              "      <td>690</td>\n",
              "      <td>690</td>\n",
              "      <td>690</td>\n",
              "      <td>690</td>\n",
              "      <td>690</td>\n",
              "      <td>690</td>\n",
              "      <td>690</td>\n",
              "    </tr>\n",
              "    <tr>\n",
              "      <th>unique</th>\n",
              "      <td>3</td>\n",
              "      <td>4</td>\n",
              "      <td>4</td>\n",
              "      <td>15</td>\n",
              "      <td>10</td>\n",
              "      <td>2</td>\n",
              "      <td>2</td>\n",
              "      <td>2</td>\n",
              "      <td>3</td>\n",
              "      <td>2</td>\n",
              "    </tr>\n",
              "    <tr>\n",
              "      <th>top</th>\n",
              "      <td>b</td>\n",
              "      <td>u</td>\n",
              "      <td>g</td>\n",
              "      <td>c</td>\n",
              "      <td>v</td>\n",
              "      <td>t</td>\n",
              "      <td>f</td>\n",
              "      <td>f</td>\n",
              "      <td>g</td>\n",
              "      <td>-</td>\n",
              "    </tr>\n",
              "    <tr>\n",
              "      <th>freq</th>\n",
              "      <td>468</td>\n",
              "      <td>519</td>\n",
              "      <td>519</td>\n",
              "      <td>137</td>\n",
              "      <td>399</td>\n",
              "      <td>361</td>\n",
              "      <td>395</td>\n",
              "      <td>374</td>\n",
              "      <td>625</td>\n",
              "      <td>383</td>\n",
              "    </tr>\n",
              "  </tbody>\n",
              "</table>\n",
              "</div>"
            ],
            "text/plain": [
              "         A1   A4   A5   A6   A7   A9  A10  A12  A13 Approved\n",
              "count   690  690  690  690  690  690  690  690  690      690\n",
              "unique    3    4    4   15   10    2    2    2    3        2\n",
              "top       b    u    g    c    v    t    f    f    g        -\n",
              "freq    468  519  519  137  399  361  395  374  625      383"
            ]
          },
          "metadata": {
            "tags": []
          },
          "execution_count": 7
        }
      ]
    },
    {
      "metadata": {
        "id": "5o6R7r0NKri7",
        "colab_type": "code",
        "colab": {
          "base_uri": "https://localhost:8080/",
          "height": 297
        },
        "outputId": "ac1d10b4-fff8-460f-a581-030917b1162f"
      },
      "cell_type": "code",
      "source": [
        "df.describe()"
      ],
      "execution_count": 8,
      "outputs": [
        {
          "output_type": "execute_result",
          "data": {
            "text/html": [
              "<div>\n",
              "<style scoped>\n",
              "    .dataframe tbody tr th:only-of-type {\n",
              "        vertical-align: middle;\n",
              "    }\n",
              "\n",
              "    .dataframe tbody tr th {\n",
              "        vertical-align: top;\n",
              "    }\n",
              "\n",
              "    .dataframe thead th {\n",
              "        text-align: right;\n",
              "    }\n",
              "</style>\n",
              "<table border=\"1\" class=\"dataframe\">\n",
              "  <thead>\n",
              "    <tr style=\"text-align: right;\">\n",
              "      <th></th>\n",
              "      <th>A2</th>\n",
              "      <th>A3</th>\n",
              "      <th>A8</th>\n",
              "      <th>A11</th>\n",
              "      <th>A14</th>\n",
              "      <th>A15</th>\n",
              "    </tr>\n",
              "  </thead>\n",
              "  <tbody>\n",
              "    <tr>\n",
              "      <th>count</th>\n",
              "      <td>678.000000</td>\n",
              "      <td>690.000000</td>\n",
              "      <td>690.000000</td>\n",
              "      <td>690.00000</td>\n",
              "      <td>677.000000</td>\n",
              "      <td>690.000000</td>\n",
              "    </tr>\n",
              "    <tr>\n",
              "      <th>mean</th>\n",
              "      <td>31.568171</td>\n",
              "      <td>4.758725</td>\n",
              "      <td>2.223406</td>\n",
              "      <td>2.40000</td>\n",
              "      <td>184.014771</td>\n",
              "      <td>1017.385507</td>\n",
              "    </tr>\n",
              "    <tr>\n",
              "      <th>std</th>\n",
              "      <td>11.957862</td>\n",
              "      <td>4.978163</td>\n",
              "      <td>3.346513</td>\n",
              "      <td>4.86294</td>\n",
              "      <td>173.806768</td>\n",
              "      <td>5210.102598</td>\n",
              "    </tr>\n",
              "    <tr>\n",
              "      <th>min</th>\n",
              "      <td>13.750000</td>\n",
              "      <td>0.000000</td>\n",
              "      <td>0.000000</td>\n",
              "      <td>0.00000</td>\n",
              "      <td>0.000000</td>\n",
              "      <td>0.000000</td>\n",
              "    </tr>\n",
              "    <tr>\n",
              "      <th>25%</th>\n",
              "      <td>22.602500</td>\n",
              "      <td>1.000000</td>\n",
              "      <td>0.165000</td>\n",
              "      <td>0.00000</td>\n",
              "      <td>75.000000</td>\n",
              "      <td>0.000000</td>\n",
              "    </tr>\n",
              "    <tr>\n",
              "      <th>50%</th>\n",
              "      <td>28.460000</td>\n",
              "      <td>2.750000</td>\n",
              "      <td>1.000000</td>\n",
              "      <td>0.00000</td>\n",
              "      <td>160.000000</td>\n",
              "      <td>5.000000</td>\n",
              "    </tr>\n",
              "    <tr>\n",
              "      <th>75%</th>\n",
              "      <td>38.230000</td>\n",
              "      <td>7.207500</td>\n",
              "      <td>2.625000</td>\n",
              "      <td>3.00000</td>\n",
              "      <td>276.000000</td>\n",
              "      <td>395.500000</td>\n",
              "    </tr>\n",
              "    <tr>\n",
              "      <th>max</th>\n",
              "      <td>80.250000</td>\n",
              "      <td>28.000000</td>\n",
              "      <td>28.500000</td>\n",
              "      <td>67.00000</td>\n",
              "      <td>2000.000000</td>\n",
              "      <td>100000.000000</td>\n",
              "    </tr>\n",
              "  </tbody>\n",
              "</table>\n",
              "</div>"
            ],
            "text/plain": [
              "               A2          A3          A8        A11          A14  \\\n",
              "count  678.000000  690.000000  690.000000  690.00000   677.000000   \n",
              "mean    31.568171    4.758725    2.223406    2.40000   184.014771   \n",
              "std     11.957862    4.978163    3.346513    4.86294   173.806768   \n",
              "min     13.750000    0.000000    0.000000    0.00000     0.000000   \n",
              "25%     22.602500    1.000000    0.165000    0.00000    75.000000   \n",
              "50%     28.460000    2.750000    1.000000    0.00000   160.000000   \n",
              "75%     38.230000    7.207500    2.625000    3.00000   276.000000   \n",
              "max     80.250000   28.000000   28.500000   67.00000  2000.000000   \n",
              "\n",
              "                 A15  \n",
              "count     690.000000  \n",
              "mean     1017.385507  \n",
              "std      5210.102598  \n",
              "min         0.000000  \n",
              "25%         0.000000  \n",
              "50%         5.000000  \n",
              "75%       395.500000  \n",
              "max    100000.000000  "
            ]
          },
          "metadata": {
            "tags": []
          },
          "execution_count": 8
        }
      ]
    },
    {
      "metadata": {
        "id": "IN3VuFyqMeKB",
        "colab_type": "code",
        "colab": {
          "base_uri": "https://localhost:8080/",
          "height": 71
        },
        "outputId": "0de786f7-831e-4b66-ab92-04759076e65a"
      },
      "cell_type": "code",
      "source": [
        "df['Approved'].value_counts()"
      ],
      "execution_count": 9,
      "outputs": [
        {
          "output_type": "execute_result",
          "data": {
            "text/plain": [
              "-    383\n",
              "+    307\n",
              "Name: Approved, dtype: int64"
            ]
          },
          "metadata": {
            "tags": []
          },
          "execution_count": 9
        }
      ]
    },
    {
      "metadata": {
        "id": "aSkrj5hHLIbF",
        "colab_type": "code",
        "colab": {}
      },
      "cell_type": "code",
      "source": [
        "df['A1'] = df['A1'].replace({'?': np.NaN})\n",
        "df['A4'] = df['A4'].replace({'?': np.NaN})\n",
        "df['A5'] = df['A5'].replace({'?': np.NaN})\n",
        "df['A6'] = df['A6'].replace({'?': np.NaN})\n",
        "df['A7'] = df['A7'].replace({'?': np.NaN})\n",
        "\n",
        "df['A9'] = df['A9'].replace({'t': 1, 'f': 0})\n",
        "df['A10'] = df['A10'].replace({'t': 1, 'f': 0})\n",
        "df['A12'] = df['A12'].replace({'t': 1, 'f': 0})\n",
        "\n",
        "df['Approved'] = df['Approved'].replace({'+': 1, '-': 0})"
      ],
      "execution_count": 0,
      "outputs": []
    },
    {
      "metadata": {
        "id": "NDVYcpfHRtsH",
        "colab_type": "text"
      },
      "cell_type": "markdown",
      "source": [
        "\n",
        "\n",
        "---\n",
        "\n"
      ]
    },
    {
      "metadata": {
        "id": "aEfvQTJoRuj0",
        "colab_type": "text"
      },
      "cell_type": "markdown",
      "source": [
        "**Create Approved and Rejected DataFrames**"
      ]
    },
    {
      "metadata": {
        "id": "skshjkm9NlFw",
        "colab_type": "code",
        "colab": {
          "base_uri": "https://localhost:8080/",
          "height": 204
        },
        "outputId": "6defdd7e-cd3f-4555-ff4b-0d583d70b667"
      },
      "cell_type": "code",
      "source": [
        "df = df.sort_values(by = 'Approved')\n",
        "df.tail()"
      ],
      "execution_count": 11,
      "outputs": [
        {
          "output_type": "execute_result",
          "data": {
            "text/html": [
              "<div>\n",
              "<style scoped>\n",
              "    .dataframe tbody tr th:only-of-type {\n",
              "        vertical-align: middle;\n",
              "    }\n",
              "\n",
              "    .dataframe tbody tr th {\n",
              "        vertical-align: top;\n",
              "    }\n",
              "\n",
              "    .dataframe thead th {\n",
              "        text-align: right;\n",
              "    }\n",
              "</style>\n",
              "<table border=\"1\" class=\"dataframe\">\n",
              "  <thead>\n",
              "    <tr style=\"text-align: right;\">\n",
              "      <th></th>\n",
              "      <th>A1</th>\n",
              "      <th>A2</th>\n",
              "      <th>A3</th>\n",
              "      <th>A4</th>\n",
              "      <th>A5</th>\n",
              "      <th>A6</th>\n",
              "      <th>A7</th>\n",
              "      <th>A8</th>\n",
              "      <th>A9</th>\n",
              "      <th>A10</th>\n",
              "      <th>A11</th>\n",
              "      <th>A12</th>\n",
              "      <th>A13</th>\n",
              "      <th>A14</th>\n",
              "      <th>A15</th>\n",
              "      <th>Approved</th>\n",
              "    </tr>\n",
              "  </thead>\n",
              "  <tbody>\n",
              "    <tr>\n",
              "      <th>152</th>\n",
              "      <td>b</td>\n",
              "      <td>37.33</td>\n",
              "      <td>6.5</td>\n",
              "      <td>u</td>\n",
              "      <td>g</td>\n",
              "      <td>m</td>\n",
              "      <td>h</td>\n",
              "      <td>4.250</td>\n",
              "      <td>1</td>\n",
              "      <td>1</td>\n",
              "      <td>12</td>\n",
              "      <td>1</td>\n",
              "      <td>g</td>\n",
              "      <td>93.0</td>\n",
              "      <td>0</td>\n",
              "      <td>1</td>\n",
              "    </tr>\n",
              "    <tr>\n",
              "      <th>153</th>\n",
              "      <td>b</td>\n",
              "      <td>23.08</td>\n",
              "      <td>2.5</td>\n",
              "      <td>u</td>\n",
              "      <td>g</td>\n",
              "      <td>c</td>\n",
              "      <td>v</td>\n",
              "      <td>1.085</td>\n",
              "      <td>1</td>\n",
              "      <td>1</td>\n",
              "      <td>11</td>\n",
              "      <td>1</td>\n",
              "      <td>g</td>\n",
              "      <td>60.0</td>\n",
              "      <td>2184</td>\n",
              "      <td>1</td>\n",
              "    </tr>\n",
              "    <tr>\n",
              "      <th>154</th>\n",
              "      <td>b</td>\n",
              "      <td>32.75</td>\n",
              "      <td>1.5</td>\n",
              "      <td>u</td>\n",
              "      <td>g</td>\n",
              "      <td>cc</td>\n",
              "      <td>h</td>\n",
              "      <td>5.500</td>\n",
              "      <td>1</td>\n",
              "      <td>1</td>\n",
              "      <td>3</td>\n",
              "      <td>1</td>\n",
              "      <td>g</td>\n",
              "      <td>0.0</td>\n",
              "      <td>0</td>\n",
              "      <td>1</td>\n",
              "    </tr>\n",
              "    <tr>\n",
              "      <th>146</th>\n",
              "      <td>b</td>\n",
              "      <td>23.25</td>\n",
              "      <td>1.5</td>\n",
              "      <td>u</td>\n",
              "      <td>g</td>\n",
              "      <td>q</td>\n",
              "      <td>v</td>\n",
              "      <td>2.375</td>\n",
              "      <td>1</td>\n",
              "      <td>1</td>\n",
              "      <td>3</td>\n",
              "      <td>1</td>\n",
              "      <td>g</td>\n",
              "      <td>0.0</td>\n",
              "      <td>582</td>\n",
              "      <td>1</td>\n",
              "    </tr>\n",
              "    <tr>\n",
              "      <th>0</th>\n",
              "      <td>b</td>\n",
              "      <td>30.83</td>\n",
              "      <td>0.0</td>\n",
              "      <td>u</td>\n",
              "      <td>g</td>\n",
              "      <td>w</td>\n",
              "      <td>v</td>\n",
              "      <td>1.250</td>\n",
              "      <td>1</td>\n",
              "      <td>1</td>\n",
              "      <td>1</td>\n",
              "      <td>0</td>\n",
              "      <td>g</td>\n",
              "      <td>202.0</td>\n",
              "      <td>0</td>\n",
              "      <td>1</td>\n",
              "    </tr>\n",
              "  </tbody>\n",
              "</table>\n",
              "</div>"
            ],
            "text/plain": [
              "    A1     A2   A3 A4 A5  A6 A7     A8  A9  A10  A11  A12 A13    A14   A15  \\\n",
              "152  b  37.33  6.5  u  g   m  h  4.250   1    1   12    1   g   93.0     0   \n",
              "153  b  23.08  2.5  u  g   c  v  1.085   1    1   11    1   g   60.0  2184   \n",
              "154  b  32.75  1.5  u  g  cc  h  5.500   1    1    3    1   g    0.0     0   \n",
              "146  b  23.25  1.5  u  g   q  v  2.375   1    1    3    1   g    0.0   582   \n",
              "0    b  30.83  0.0  u  g   w  v  1.250   1    1    1    0   g  202.0     0   \n",
              "\n",
              "     Approved  \n",
              "152         1  \n",
              "153         1  \n",
              "154         1  \n",
              "146         1  \n",
              "0           1  "
            ]
          },
          "metadata": {
            "tags": []
          },
          "execution_count": 11
        }
      ]
    },
    {
      "metadata": {
        "id": "HDvs1tRGNz3z",
        "colab_type": "code",
        "colab": {}
      },
      "cell_type": "code",
      "source": [
        "approved = df.iloc[383:]\n",
        "rejected = df.iloc[:383]"
      ],
      "execution_count": 0,
      "outputs": []
    },
    {
      "metadata": {
        "id": "aXSKdN9wN_U-",
        "colab_type": "code",
        "colab": {
          "base_uri": "https://localhost:8080/",
          "height": 222
        },
        "outputId": "75b3e0bc-6004-4bea-b50b-c5219c90f883"
      },
      "cell_type": "code",
      "source": [
        "print(approved.shape)\n",
        "approved.head()"
      ],
      "execution_count": 20,
      "outputs": [
        {
          "output_type": "stream",
          "text": [
            "(307, 16)\n"
          ],
          "name": "stdout"
        },
        {
          "output_type": "execute_result",
          "data": {
            "text/html": [
              "<div>\n",
              "<style scoped>\n",
              "    .dataframe tbody tr th:only-of-type {\n",
              "        vertical-align: middle;\n",
              "    }\n",
              "\n",
              "    .dataframe tbody tr th {\n",
              "        vertical-align: top;\n",
              "    }\n",
              "\n",
              "    .dataframe thead th {\n",
              "        text-align: right;\n",
              "    }\n",
              "</style>\n",
              "<table border=\"1\" class=\"dataframe\">\n",
              "  <thead>\n",
              "    <tr style=\"text-align: right;\">\n",
              "      <th></th>\n",
              "      <th>A1</th>\n",
              "      <th>A2</th>\n",
              "      <th>A3</th>\n",
              "      <th>A4</th>\n",
              "      <th>A5</th>\n",
              "      <th>A6</th>\n",
              "      <th>A7</th>\n",
              "      <th>A8</th>\n",
              "      <th>A9</th>\n",
              "      <th>A10</th>\n",
              "      <th>A11</th>\n",
              "      <th>A12</th>\n",
              "      <th>A13</th>\n",
              "      <th>A14</th>\n",
              "      <th>A15</th>\n",
              "      <th>Approved</th>\n",
              "    </tr>\n",
              "  </thead>\n",
              "  <tbody>\n",
              "    <tr>\n",
              "      <th>569</th>\n",
              "      <td>a</td>\n",
              "      <td>35.75</td>\n",
              "      <td>0.915</td>\n",
              "      <td>u</td>\n",
              "      <td>g</td>\n",
              "      <td>aa</td>\n",
              "      <td>v</td>\n",
              "      <td>0.750</td>\n",
              "      <td>1</td>\n",
              "      <td>1</td>\n",
              "      <td>4</td>\n",
              "      <td>0</td>\n",
              "      <td>g</td>\n",
              "      <td>0.0</td>\n",
              "      <td>1583</td>\n",
              "      <td>1</td>\n",
              "    </tr>\n",
              "    <tr>\n",
              "      <th>568</th>\n",
              "      <td>b</td>\n",
              "      <td>43.08</td>\n",
              "      <td>0.375</td>\n",
              "      <td>y</td>\n",
              "      <td>p</td>\n",
              "      <td>c</td>\n",
              "      <td>v</td>\n",
              "      <td>0.375</td>\n",
              "      <td>1</td>\n",
              "      <td>1</td>\n",
              "      <td>8</td>\n",
              "      <td>1</td>\n",
              "      <td>g</td>\n",
              "      <td>300.0</td>\n",
              "      <td>162</td>\n",
              "      <td>1</td>\n",
              "    </tr>\n",
              "    <tr>\n",
              "      <th>567</th>\n",
              "      <td>a</td>\n",
              "      <td>25.17</td>\n",
              "      <td>2.875</td>\n",
              "      <td>u</td>\n",
              "      <td>g</td>\n",
              "      <td>x</td>\n",
              "      <td>h</td>\n",
              "      <td>0.875</td>\n",
              "      <td>1</td>\n",
              "      <td>0</td>\n",
              "      <td>0</td>\n",
              "      <td>0</td>\n",
              "      <td>g</td>\n",
              "      <td>360.0</td>\n",
              "      <td>0</td>\n",
              "      <td>1</td>\n",
              "    </tr>\n",
              "    <tr>\n",
              "      <th>12</th>\n",
              "      <td>a</td>\n",
              "      <td>38.25</td>\n",
              "      <td>6.000</td>\n",
              "      <td>u</td>\n",
              "      <td>g</td>\n",
              "      <td>k</td>\n",
              "      <td>v</td>\n",
              "      <td>1.000</td>\n",
              "      <td>1</td>\n",
              "      <td>0</td>\n",
              "      <td>0</td>\n",
              "      <td>1</td>\n",
              "      <td>g</td>\n",
              "      <td>0.0</td>\n",
              "      <td>0</td>\n",
              "      <td>1</td>\n",
              "    </tr>\n",
              "    <tr>\n",
              "      <th>575</th>\n",
              "      <td>b</td>\n",
              "      <td>32.25</td>\n",
              "      <td>0.165</td>\n",
              "      <td>y</td>\n",
              "      <td>p</td>\n",
              "      <td>c</td>\n",
              "      <td>h</td>\n",
              "      <td>3.250</td>\n",
              "      <td>1</td>\n",
              "      <td>1</td>\n",
              "      <td>1</td>\n",
              "      <td>1</td>\n",
              "      <td>g</td>\n",
              "      <td>432.0</td>\n",
              "      <td>8000</td>\n",
              "      <td>1</td>\n",
              "    </tr>\n",
              "  </tbody>\n",
              "</table>\n",
              "</div>"
            ],
            "text/plain": [
              "    A1     A2     A3 A4 A5  A6 A7     A8  A9  A10  A11  A12 A13    A14   A15  \\\n",
              "569  a  35.75  0.915  u  g  aa  v  0.750   1    1    4    0   g    0.0  1583   \n",
              "568  b  43.08  0.375  y  p   c  v  0.375   1    1    8    1   g  300.0   162   \n",
              "567  a  25.17  2.875  u  g   x  h  0.875   1    0    0    0   g  360.0     0   \n",
              "12   a  38.25  6.000  u  g   k  v  1.000   1    0    0    1   g    0.0     0   \n",
              "575  b  32.25  0.165  y  p   c  h  3.250   1    1    1    1   g  432.0  8000   \n",
              "\n",
              "     Approved  \n",
              "569         1  \n",
              "568         1  \n",
              "567         1  \n",
              "12          1  \n",
              "575         1  "
            ]
          },
          "metadata": {
            "tags": []
          },
          "execution_count": 20
        }
      ]
    },
    {
      "metadata": {
        "id": "ypVEPUxQPbTc",
        "colab_type": "code",
        "colab": {
          "base_uri": "https://localhost:8080/",
          "height": 53
        },
        "outputId": "16a682ea-e0ab-4560-810c-3aad5ab3ed21"
      },
      "cell_type": "code",
      "source": [
        "approved['Approved'].value_counts()"
      ],
      "execution_count": 22,
      "outputs": [
        {
          "output_type": "execute_result",
          "data": {
            "text/plain": [
              "1    307\n",
              "Name: Approved, dtype: int64"
            ]
          },
          "metadata": {
            "tags": []
          },
          "execution_count": 22
        }
      ]
    },
    {
      "metadata": {
        "id": "C5LSllF0N7pQ",
        "colab_type": "code",
        "colab": {
          "base_uri": "https://localhost:8080/",
          "height": 222
        },
        "outputId": "ff2bc9fa-512b-42c4-911c-8f634f9151ca"
      },
      "cell_type": "code",
      "source": [
        "print(rejected.shape)\n",
        "rejected.head()"
      ],
      "execution_count": 21,
      "outputs": [
        {
          "output_type": "stream",
          "text": [
            "(383, 16)\n"
          ],
          "name": "stdout"
        },
        {
          "output_type": "execute_result",
          "data": {
            "text/html": [
              "<div>\n",
              "<style scoped>\n",
              "    .dataframe tbody tr th:only-of-type {\n",
              "        vertical-align: middle;\n",
              "    }\n",
              "\n",
              "    .dataframe tbody tr th {\n",
              "        vertical-align: top;\n",
              "    }\n",
              "\n",
              "    .dataframe thead th {\n",
              "        text-align: right;\n",
              "    }\n",
              "</style>\n",
              "<table border=\"1\" class=\"dataframe\">\n",
              "  <thead>\n",
              "    <tr style=\"text-align: right;\">\n",
              "      <th></th>\n",
              "      <th>A1</th>\n",
              "      <th>A2</th>\n",
              "      <th>A3</th>\n",
              "      <th>A4</th>\n",
              "      <th>A5</th>\n",
              "      <th>A6</th>\n",
              "      <th>A7</th>\n",
              "      <th>A8</th>\n",
              "      <th>A9</th>\n",
              "      <th>A10</th>\n",
              "      <th>A11</th>\n",
              "      <th>A12</th>\n",
              "      <th>A13</th>\n",
              "      <th>A14</th>\n",
              "      <th>A15</th>\n",
              "      <th>Approved</th>\n",
              "    </tr>\n",
              "  </thead>\n",
              "  <tbody>\n",
              "    <tr>\n",
              "      <th>344</th>\n",
              "      <td>b</td>\n",
              "      <td>38.92</td>\n",
              "      <td>1.750</td>\n",
              "      <td>u</td>\n",
              "      <td>g</td>\n",
              "      <td>k</td>\n",
              "      <td>v</td>\n",
              "      <td>0.500</td>\n",
              "      <td>0</td>\n",
              "      <td>0</td>\n",
              "      <td>0</td>\n",
              "      <td>1</td>\n",
              "      <td>g</td>\n",
              "      <td>300.0</td>\n",
              "      <td>2</td>\n",
              "      <td>0</td>\n",
              "    </tr>\n",
              "    <tr>\n",
              "      <th>398</th>\n",
              "      <td>b</td>\n",
              "      <td>26.17</td>\n",
              "      <td>12.500</td>\n",
              "      <td>y</td>\n",
              "      <td>p</td>\n",
              "      <td>k</td>\n",
              "      <td>h</td>\n",
              "      <td>1.250</td>\n",
              "      <td>0</td>\n",
              "      <td>0</td>\n",
              "      <td>0</td>\n",
              "      <td>1</td>\n",
              "      <td>g</td>\n",
              "      <td>0.0</td>\n",
              "      <td>17</td>\n",
              "      <td>0</td>\n",
              "    </tr>\n",
              "    <tr>\n",
              "      <th>399</th>\n",
              "      <td>b</td>\n",
              "      <td>31.00</td>\n",
              "      <td>2.085</td>\n",
              "      <td>u</td>\n",
              "      <td>g</td>\n",
              "      <td>c</td>\n",
              "      <td>v</td>\n",
              "      <td>0.085</td>\n",
              "      <td>0</td>\n",
              "      <td>0</td>\n",
              "      <td>0</td>\n",
              "      <td>0</td>\n",
              "      <td>g</td>\n",
              "      <td>300.0</td>\n",
              "      <td>0</td>\n",
              "      <td>0</td>\n",
              "    </tr>\n",
              "    <tr>\n",
              "      <th>400</th>\n",
              "      <td>b</td>\n",
              "      <td>20.75</td>\n",
              "      <td>5.085</td>\n",
              "      <td>y</td>\n",
              "      <td>p</td>\n",
              "      <td>j</td>\n",
              "      <td>v</td>\n",
              "      <td>0.290</td>\n",
              "      <td>0</td>\n",
              "      <td>0</td>\n",
              "      <td>0</td>\n",
              "      <td>0</td>\n",
              "      <td>g</td>\n",
              "      <td>140.0</td>\n",
              "      <td>184</td>\n",
              "      <td>0</td>\n",
              "    </tr>\n",
              "    <tr>\n",
              "      <th>401</th>\n",
              "      <td>b</td>\n",
              "      <td>28.92</td>\n",
              "      <td>0.375</td>\n",
              "      <td>u</td>\n",
              "      <td>g</td>\n",
              "      <td>c</td>\n",
              "      <td>v</td>\n",
              "      <td>0.290</td>\n",
              "      <td>0</td>\n",
              "      <td>0</td>\n",
              "      <td>0</td>\n",
              "      <td>0</td>\n",
              "      <td>g</td>\n",
              "      <td>220.0</td>\n",
              "      <td>140</td>\n",
              "      <td>0</td>\n",
              "    </tr>\n",
              "  </tbody>\n",
              "</table>\n",
              "</div>"
            ],
            "text/plain": [
              "    A1     A2      A3 A4 A5 A6 A7     A8  A9  A10  A11  A12 A13    A14  A15  \\\n",
              "344  b  38.92   1.750  u  g  k  v  0.500   0    0    0    1   g  300.0    2   \n",
              "398  b  26.17  12.500  y  p  k  h  1.250   0    0    0    1   g    0.0   17   \n",
              "399  b  31.00   2.085  u  g  c  v  0.085   0    0    0    0   g  300.0    0   \n",
              "400  b  20.75   5.085  y  p  j  v  0.290   0    0    0    0   g  140.0  184   \n",
              "401  b  28.92   0.375  u  g  c  v  0.290   0    0    0    0   g  220.0  140   \n",
              "\n",
              "     Approved  \n",
              "344         0  \n",
              "398         0  \n",
              "399         0  \n",
              "400         0  \n",
              "401         0  "
            ]
          },
          "metadata": {
            "tags": []
          },
          "execution_count": 21
        }
      ]
    },
    {
      "metadata": {
        "id": "WKE7n6FMPf_8",
        "colab_type": "code",
        "colab": {
          "base_uri": "https://localhost:8080/",
          "height": 53
        },
        "outputId": "39240451-face-4bff-e481-a7711b47b57f"
      },
      "cell_type": "code",
      "source": [
        "rejected['Approved'].value_counts()"
      ],
      "execution_count": 23,
      "outputs": [
        {
          "output_type": "execute_result",
          "data": {
            "text/plain": [
              "0    383\n",
              "Name: Approved, dtype: int64"
            ]
          },
          "metadata": {
            "tags": []
          },
          "execution_count": 23
        }
      ]
    },
    {
      "metadata": {
        "id": "Gd_8iYK5QkHN",
        "colab_type": "code",
        "colab": {}
      },
      "cell_type": "code",
      "source": [
        "numeric_cols = ['A2','A3','A8','A11','A14','A15', 'A9', 'A10', 'A12']"
      ],
      "execution_count": 0,
      "outputs": []
    },
    {
      "metadata": {
        "id": "Kuu6WhoIRygt",
        "colab_type": "text"
      },
      "cell_type": "markdown",
      "source": [
        "\n",
        "\n",
        "---\n",
        "\n"
      ]
    },
    {
      "metadata": {
        "id": "G7rLytbrO38L",
        "colab_type": "text"
      },
      "cell_type": "markdown",
      "source": [
        "## Part 2 - Exploring data, Testing hypotheses\n",
        "\n",
        "The only thing we really know about this data is that A16 is the class label. Besides that, we have 6 continuous (float) features and 9 categorical features.\n",
        "\n",
        "Explore the data: you can use whatever approach (tables, utility functions, visualizations) to get an impression of the distributions and relationships of the variables. In general, your goal is to understand how the features are different when grouped by the two class labels (`+` and `-`).\n",
        "\n",
        "For the 6 continuous features, how are they different when split between the two class labels? Choose two features to run t-tests (again split by class label) - specifically, select one feature that is *extremely* different between the classes, and another feature that is notably less different (though perhaps still \"statistically significantly\" different). You may have to explore more than two features to do this.\n",
        "\n",
        "For the categorical features, explore by creating \"cross tabs\" (aka [contingency tables](https://en.wikipedia.org/wiki/Contingency_table)) between them and the class label, and apply the Chi-squared test to them. [pandas.crosstab](http://pandas.pydata.org/pandas-docs/stable/reference/api/pandas.crosstab.html) can create contingency tables, and [scipy.stats.chi2_contingency](https://docs.scipy.org/doc/scipy/reference/generated/scipy.stats.chi2_contingency.html) can calculate the Chi-squared statistic for them.\n",
        "\n",
        "There are 9 categorical features - as with the t-test, try to find one where the Chi-squared test returns an extreme result (rejecting the null that the data are independent), and one where it is less extreme.\n",
        "\n",
        "**NOTE** - \"less extreme\" just means smaller test statistic/larger p-value. Even the least extreme differences may be strongly statistically significant.\n",
        "\n",
        "Your *main* goal is the hypothesis tests, so don't spend too much time on the exploration/visualization piece. That is just a means to an end - use simple visualizations, such as boxplots or a scatter matrix (both built in to pandas), to get a feel for the overall distribution of the variables.\n",
        "\n",
        "This is challenging, so manage your time and aim for a baseline of at least running two t-tests and two Chi-squared tests before polishing. And don't forget to answer the questions in part 3, even if your results in this part aren't what you want them to be."
      ]
    },
    {
      "metadata": {
        "id": "BZyWOkL2ROaI",
        "colab_type": "text"
      },
      "cell_type": "markdown",
      "source": [
        "**Scatter Matricies**"
      ]
    },
    {
      "metadata": {
        "id": "jqxpbOMAPn-j",
        "colab_type": "code",
        "colab": {}
      },
      "cell_type": "code",
      "source": [
        "sns.pairplot(df, kind='reg', plot_kws={'line_kws':{'color':'red'}, 'scatter_kws': {'alpha': 0.1}})"
      ],
      "execution_count": 0,
      "outputs": []
    },
    {
      "metadata": {
        "id": "_nqcgc0yzm68",
        "colab_type": "code",
        "colab": {}
      },
      "cell_type": "code",
      "source": [
        "sns.pairplot(approved, kind='reg', plot_kws={'line_kws':{'color':'red'}, 'scatter_kws': {'alpha': 0.1}})"
      ],
      "execution_count": 0,
      "outputs": []
    },
    {
      "metadata": {
        "id": "FFO58MY-Ppjj",
        "colab_type": "code",
        "colab": {}
      },
      "cell_type": "code",
      "source": [
        "sns.pairplot(rejected, kind='reg', plot_kws={'line_kws':{'color':'red'}, 'scatter_kws': {'alpha': 0.1}})"
      ],
      "execution_count": 0,
      "outputs": []
    },
    {
      "metadata": {
        "id": "5alXpWczRNr3",
        "colab_type": "text"
      },
      "cell_type": "markdown",
      "source": [
        "\n",
        "\n",
        "---\n",
        "\n"
      ]
    },
    {
      "metadata": {
        "id": "bCFFVL1_UPA9",
        "colab_type": "text"
      },
      "cell_type": "markdown",
      "source": [
        "**Explore Means**"
      ]
    },
    {
      "metadata": {
        "id": "t75zfLrpUQ4n",
        "colab_type": "code",
        "colab": {
          "base_uri": "https://localhost:8080/",
          "height": 215
        },
        "outputId": "4a1e03b8-f66b-4fe9-a2ca-abb426cf3e96"
      },
      "cell_type": "code",
      "source": [
        "approved.describe().T['mean']"
      ],
      "execution_count": 48,
      "outputs": [
        {
          "output_type": "execute_result",
          "data": {
            "text/plain": [
              "A2            33.720492\n",
              "A3             5.904951\n",
              "A8             3.427899\n",
              "A9             0.925081\n",
              "A10            0.680782\n",
              "A11            4.605863\n",
              "A12            0.475570\n",
              "A14          164.421927\n",
              "A15         2038.859935\n",
              "Approved       1.000000\n",
              "Name: mean, dtype: float64"
            ]
          },
          "metadata": {
            "tags": []
          },
          "execution_count": 48
        }
      ]
    },
    {
      "metadata": {
        "id": "v8dIbywwUTAe",
        "colab_type": "code",
        "colab": {
          "base_uri": "https://localhost:8080/",
          "height": 215
        },
        "outputId": "24155511-026b-4547-a14e-1359e94c90ff"
      },
      "cell_type": "code",
      "source": [
        "rejected.describe().T['mean']"
      ],
      "execution_count": 49,
      "outputs": [
        {
          "output_type": "execute_result",
          "data": {
            "text/plain": [
              "A2           29.808231\n",
              "A3            3.839948\n",
              "A8            1.257924\n",
              "A9            0.201044\n",
              "A10           0.224543\n",
              "A11           0.631854\n",
              "A12           0.443864\n",
              "A14         199.699468\n",
              "A15         198.605744\n",
              "Approved      0.000000\n",
              "Name: mean, dtype: float64"
            ]
          },
          "metadata": {
            "tags": []
          },
          "execution_count": 49
        }
      ]
    },
    {
      "metadata": {
        "id": "7OJV_of7Ue38",
        "colab_type": "code",
        "colab": {
          "base_uri": "https://localhost:8080/",
          "height": 197
        },
        "outputId": "82d8238c-e3ba-4100-94fc-98e981bba399"
      },
      "cell_type": "code",
      "source": [
        "a = np.array(approved.describe().T['mean'][:9])\n",
        "r = np.array(rejected.describe().T['mean'][:9])\n",
        "print('Difference in means')\n",
        "for _ in range(9):\n",
        "  print(numeric_cols[_], a[_] - r[_])"
      ],
      "execution_count": 71,
      "outputs": [
        {
          "output_type": "stream",
          "text": [
            "difference in means\n",
            "A2 3.912261240276017\n",
            "A3 2.065003359386295\n",
            "A8 2.1699747408169685\n",
            "A11 0.7240370468017792\n",
            "A14 0.4562386780177069\n",
            "A15 3.9740094062816276\n",
            "A9 0.03170580280827684\n",
            "A10 -35.277541174807396\n",
            "A12 1840.2541907280938\n"
          ],
          "name": "stdout"
        }
      ]
    },
    {
      "metadata": {
        "id": "tHUqT9SAUQ--",
        "colab_type": "text"
      },
      "cell_type": "markdown",
      "source": [
        "\n",
        "\n",
        "---\n",
        "\n"
      ]
    },
    {
      "metadata": {
        "id": "lTdVDIzCRLPZ",
        "colab_type": "text"
      },
      "cell_type": "markdown",
      "source": [
        "**T-Tests**"
      ]
    },
    {
      "metadata": {
        "id": "6a7KgIE0QE3I",
        "colab_type": "code",
        "colab": {}
      },
      "cell_type": "code",
      "source": [
        "from scipy import stats\n",
        "\n",
        "def double_t_test(issue):\n",
        "\n",
        "  \"\"\"This is a two-sided test for the null hypothesis that 2 independent\n",
        "     samples have identical average values\"\"\"\n",
        "  \n",
        "  # Test function from scipy\n",
        "  two_sided_test = stats.ttest_ind\n",
        "\n",
        "  # Sample A: Aproved\n",
        "  App = approved[issue]\n",
        "\n",
        "  # Sample B: Rejected\n",
        "  Rej = rejected[issue]\n",
        "\n",
        "  # Run T test\n",
        "  stat = two_sided_test(App, Rej, nan_policy='omit')\n",
        "  \n",
        "  return stat"
      ],
      "execution_count": 0,
      "outputs": []
    },
    {
      "metadata": {
        "id": "_IctVxdwQaRJ",
        "colab_type": "code",
        "colab": {
          "base_uri": "https://localhost:8080/",
          "height": 827
        },
        "outputId": "119ef2a8-cced-4dd8-f552-2a20d89c8338"
      },
      "cell_type": "code",
      "source": [
        "t_test_results = []\n",
        "\n",
        "for _ in numeric_cols:\n",
        "  t_test_results.append(double_t_test(_)[0])\n",
        "  if double_t_test(_)[1] < .05:\n",
        "    print('\\n', _ , '\\nt statistic',double_t_test(_)[0], '\\np-value',double_t_test(_)[1], '\\nReject Null')\n",
        "  else:\n",
        "    print('\\n', _ , '\\nt statistic',double_t_test(_)[0], '\\np-value',double_t_test(_)[1], '\\nFail to Reject Null')\n",
        "  "
      ],
      "execution_count": 105,
      "outputs": [
        {
          "output_type": "stream",
          "text": [
            "\n",
            " A2 \n",
            "t statistic 4.2922156166315455 \n",
            "p-value 2.0276637071781407e-05 \n",
            "Reject Null\n",
            "\n",
            " A3 \n",
            "t statistic 5.52998337614816 \n",
            "p-value 4.551680702308068e-08 \n",
            "Reject Null\n",
            "\n",
            " A8 \n",
            "t statistic 8.935819983773705 \n",
            "p-value 3.67105374015994e-18 \n",
            "Reject Null\n",
            "\n",
            " A11 \n",
            "t statistic 11.667004222431277 \n",
            "p-value 7.957718568079967e-29 \n",
            "Reject Null\n",
            "\n",
            " A14 \n",
            "t statistic -2.6358251986645476 \n",
            "p-value 0.008586135473979569 \n",
            "Reject Null\n",
            "\n",
            " A15 \n",
            "t statistic 4.680216020964487 \n",
            "p-value 3.4520256956287804e-06 \n",
            "Reject Null\n",
            "\n",
            " A9 \n",
            "t statistic 27.245398535467626 \n",
            "p-value 1.9368208799737266e-111 \n",
            "Reject Null\n",
            "\n",
            " A10 \n",
            "t statistic 13.52517266303669 \n",
            "p-value 3.941258302842775e-37 \n",
            "Reject Null\n",
            "\n",
            " A12 \n",
            "t statistic 0.8299262276960955 \n",
            "p-value 0.4068683677059408 \n",
            "Fail to Reject Null\n"
          ],
          "name": "stdout"
        }
      ]
    },
    {
      "metadata": {
        "id": "SF2EqWWSRJ6b",
        "colab_type": "text"
      },
      "cell_type": "markdown",
      "source": [
        "\n",
        "\n",
        "---\n",
        "\n"
      ]
    },
    {
      "metadata": {
        "id": "nnrwQ6SET1Fb",
        "colab_type": "text"
      },
      "cell_type": "markdown",
      "source": [
        "**Plot t-test Results**"
      ]
    },
    {
      "metadata": {
        "id": "uW7Rr4dpT3qT",
        "colab_type": "code",
        "colab": {}
      },
      "cell_type": "code",
      "source": [
        "Acc = []\n",
        "Rej = []\n",
        "\n",
        "for i in (t_test_results):\n",
        "  if i >=0:\n",
        "    Acc.append(i)\n",
        "  else:\n",
        "    Acc.append(0)\n",
        "    \n",
        "    \n",
        "for i in (t_test_results):\n",
        "  if i < 0:\n",
        "    Rej.append(i)\n",
        "  else:\n",
        "    Rej.append(0)"
      ],
      "execution_count": 0,
      "outputs": []
    },
    {
      "metadata": {
        "id": "XUFGPdVyWyk2",
        "colab_type": "code",
        "colab": {}
      },
      "cell_type": "code",
      "source": [
        "from pylab import rcParams\n",
        "rcParams['figure.figsize'] = 19, 10"
      ],
      "execution_count": 0,
      "outputs": []
    },
    {
      "metadata": {
        "id": "xknZbtmXWvoO",
        "colab_type": "code",
        "colab": {
          "base_uri": "https://localhost:8080/",
          "height": 592
        },
        "outputId": "04a80f02-c7cb-4d5a-948e-8d65eb059072"
      },
      "cell_type": "code",
      "source": [
        "N = 16\n",
        "import matplotlib.pyplot as plt\n",
        "\n",
        "# the x locations for the groups\n",
        "ind = np.arange(N)\n",
        "# the width of the bars: can also be len(x) sequence\n",
        "width = 0.8      \n",
        "\n",
        "# Bars for surplus\n",
        "p1 = plt.bar(numeric_cols, Acc, width, color='#85CB33')\n",
        "\n",
        "# Bars for deficit\n",
        "p2 = plt.bar(numeric_cols, Rej, width, color ='#3B341F')\n",
        "\n",
        "plt.ylabel('+ = Accepted, - = Rejected')\n",
        "plt.xticks(numeric_cols)\n",
        "plt.yticks(np.arange(-5, 30, 5))\n",
        "plt.grid(b=True, which='major', axis='x',color='black', linestyle=':', linewidth=1, alpha=.3)\n",
        "plt.show()"
      ],
      "execution_count": 112,
      "outputs": [
        {
          "output_type": "display_data",
          "data": {
            "image/png": "[encoded data removed]",
            "text/plain": [
              "<Figure size 1368x720 with 1 Axes>"
            ]
          },
          "metadata": {
            "tags": []
          }
        }
      ]
    },
    {
      "metadata": {
        "id": "xGGg1rozT3w4",
        "colab_type": "text"
      },
      "cell_type": "markdown",
      "source": [
        "\n",
        "\n",
        "---\n",
        "\n"
      ]
    },
    {
      "metadata": {
        "id": "N_5jHXnzT6CL",
        "colab_type": "text"
      },
      "cell_type": "markdown",
      "source": [
        "**Chi-Squared Tests**"
      ]
    },
    {
      "metadata": {
        "id": "RiLcXtoyaJgW",
        "colab_type": "code",
        "colab": {}
      },
      "cell_type": "code",
      "source": [
        "cat_cols= ['A1', 'A4', 'A5', 'A6', 'A7', 'A9', 'A10', 'A12', 'A13']"
      ],
      "execution_count": 0,
      "outputs": []
    },
    {
      "metadata": {
        "id": "zLAdKDDWXcCJ",
        "colab_type": "code",
        "colab": {
          "base_uri": "https://localhost:8080/",
          "height": 665
        },
        "outputId": "de6ba609-a7eb-4972-ba80-0630b9eaa2b0"
      },
      "cell_type": "code",
      "source": [
        "for _ in cat_cols:\n",
        "  print('\\n', _ ,\n",
        "        '\\nchi statistic',\n",
        "        chisquare(pd.crosstab(df['Approved'], df[_]), axis=None)[0],\n",
        "        '\\np-value',\n",
        "        chisquare(pd.crosstab(df['Approved'], df[_]), axis=None)[1],)"
      ],
      "execution_count": 116,
      "outputs": [
        {
          "output_type": "stream",
          "text": [
            "\n",
            " A1 \n",
            "chi statistic 108.00589970501476 \n",
            "p-value 2.9474557158762434e-23\n",
            "\n",
            " A4 \n",
            "chi statistic 637.561403508772 \n",
            "p-value 1.545055409454076e-135\n",
            "\n",
            " A5 \n",
            "chi statistic 637.561403508772 \n",
            "p-value 1.545055409454076e-135\n",
            "\n",
            " A6 \n",
            "chi statistic 393.32011747430255 \n",
            "p-value 1.1436746143425653e-66\n",
            "\n",
            " A7 \n",
            "chi statistic 1855.9427312775329 \n",
            "p-value 0.0\n",
            "\n",
            " A9 \n",
            "chi statistic 357.82608695652175 \n",
            "p-value 3.01326407188219e-77\n",
            "\n",
            " A10 \n",
            "chi statistic 173.1304347826087 \n",
            "p-value 2.6842170765821316e-37\n",
            "\n",
            " A12 \n",
            "chi statistic 14.382608695652173 \n",
            "p-value 0.0024280203352694887\n",
            "\n",
            " A13 \n",
            "chi statistic 1037.2695652173913 \n",
            "p-value 5.124924990548949e-222\n"
          ],
          "name": "stdout"
        }
      ]
    },
    {
      "metadata": {
        "id": "gERGVV5-T8gw",
        "colab_type": "text"
      },
      "cell_type": "markdown",
      "source": [
        "\n",
        "\n",
        "---\n",
        "\n"
      ]
    },
    {
      "metadata": {
        "id": "hT8DqSzVg2u2",
        "colab_type": "text"
      },
      "cell_type": "markdown",
      "source": [
        "**Visualize Chi-Squared Results**"
      ]
    },
    {
      "metadata": {
        "id": "i3WU2YGVkOCD",
        "colab_type": "text"
      },
      "cell_type": "markdown",
      "source": [
        "A7"
      ]
    },
    {
      "metadata": {
        "id": "g3kQRCpdkLiL",
        "colab_type": "code",
        "colab": {
          "base_uri": "https://localhost:8080/",
          "height": 142
        },
        "outputId": "6cbd45fa-ff31-4b36-8f03-d2fc8589d528"
      },
      "cell_type": "code",
      "source": [
        "# Calculate our contingency table with margins\n",
        "a7_cont = pd.crosstab(\n",
        "    df['Approved'],\n",
        "    df['A7'],\n",
        "    normalize='columns')\n",
        "\n",
        "a7_cont"
      ],
      "execution_count": 149,
      "outputs": [
        {
          "output_type": "execute_result",
          "data": {
            "text/html": [
              "<div>\n",
              "<style scoped>\n",
              "    .dataframe tbody tr th:only-of-type {\n",
              "        vertical-align: middle;\n",
              "    }\n",
              "\n",
              "    .dataframe tbody tr th {\n",
              "        vertical-align: top;\n",
              "    }\n",
              "\n",
              "    .dataframe thead th {\n",
              "        text-align: right;\n",
              "    }\n",
              "</style>\n",
              "<table border=\"1\" class=\"dataframe\">\n",
              "  <thead>\n",
              "    <tr style=\"text-align: right;\">\n",
              "      <th>A7</th>\n",
              "      <th>bb</th>\n",
              "      <th>dd</th>\n",
              "      <th>ff</th>\n",
              "      <th>h</th>\n",
              "      <th>j</th>\n",
              "      <th>n</th>\n",
              "      <th>o</th>\n",
              "      <th>v</th>\n",
              "      <th>z</th>\n",
              "    </tr>\n",
              "    <tr>\n",
              "      <th>Approved</th>\n",
              "      <th></th>\n",
              "      <th></th>\n",
              "      <th></th>\n",
              "      <th></th>\n",
              "      <th></th>\n",
              "      <th></th>\n",
              "      <th></th>\n",
              "      <th></th>\n",
              "      <th></th>\n",
              "    </tr>\n",
              "  </thead>\n",
              "  <tbody>\n",
              "    <tr>\n",
              "      <th>0</th>\n",
              "      <td>0.576271</td>\n",
              "      <td>0.666667</td>\n",
              "      <td>0.859649</td>\n",
              "      <td>0.369565</td>\n",
              "      <td>0.625</td>\n",
              "      <td>0.5</td>\n",
              "      <td>0.5</td>\n",
              "      <td>0.576441</td>\n",
              "      <td>0.25</td>\n",
              "    </tr>\n",
              "    <tr>\n",
              "      <th>1</th>\n",
              "      <td>0.423729</td>\n",
              "      <td>0.333333</td>\n",
              "      <td>0.140351</td>\n",
              "      <td>0.630435</td>\n",
              "      <td>0.375</td>\n",
              "      <td>0.5</td>\n",
              "      <td>0.5</td>\n",
              "      <td>0.423559</td>\n",
              "      <td>0.75</td>\n",
              "    </tr>\n",
              "  </tbody>\n",
              "</table>\n",
              "</div>"
            ],
            "text/plain": [
              "A7              bb        dd        ff         h      j    n    o         v  \\\n",
              "Approved                                                                      \n",
              "0         0.576271  0.666667  0.859649  0.369565  0.625  0.5  0.5  0.576441   \n",
              "1         0.423729  0.333333  0.140351  0.630435  0.375  0.5  0.5  0.423559   \n",
              "\n",
              "A7           z  \n",
              "Approved        \n",
              "0         0.25  \n",
              "1         0.75  "
            ]
          },
          "metadata": {
            "tags": []
          },
          "execution_count": 149
        }
      ]
    },
    {
      "metadata": {
        "id": "MCCbV9O0kNlF",
        "colab_type": "code",
        "colab": {
          "base_uri": "https://localhost:8080/",
          "height": 327
        },
        "outputId": "3f611deb-595c-40c5-cf67-bdb13726d095"
      },
      "cell_type": "code",
      "source": [
        "#Assigns the frequency values\n",
        "ap = a7_cont.iloc[1][0:9].values\n",
        "re = a7_cont.iloc[0][0:9].values\n",
        "\n",
        "#Plots the bar chart\n",
        "fig = plt.figure(figsize=(10, 5))\n",
        "sns.set(font_scale=1.8)\n",
        "\n",
        "categories = ['bb', 'dd', 'ff', 'h', 'j', 'n', 'o', 'v', 'z']\n",
        "\n",
        "p1 = plt.bar(categories, re, 0.55, color='#3B341F')\n",
        "p2 = plt.bar(categories, ap, 0.55, bottom=re, color='#85CB33')\n",
        "\n",
        "plt.legend((p2[0], p1[0]), ('Approved', 'Rejected'))\n",
        "plt.ylabel('Count')\n",
        "plt.show()"
      ],
      "execution_count": 154,
      "outputs": [
        {
          "output_type": "display_data",
          "data": {
            "image/png": "[encoded data removed]",
            "text/plain": [
              "<Figure size 720x360 with 1 Axes>"
            ]
          },
          "metadata": {
            "tags": []
          }
        }
      ]
    },
    {
      "metadata": {
        "id": "3eCOvS7pk55A",
        "colab_type": "text"
      },
      "cell_type": "markdown",
      "source": [
        "\n",
        "\n",
        "---\n",
        "\n"
      ]
    },
    {
      "metadata": {
        "id": "9J1t3R1Sk633",
        "colab_type": "text"
      },
      "cell_type": "markdown",
      "source": [
        "A4"
      ]
    },
    {
      "metadata": {
        "id": "yS64obw9k7Ez",
        "colab_type": "code",
        "colab": {
          "base_uri": "https://localhost:8080/",
          "height": 142
        },
        "outputId": "695e3d49-cc5f-4acf-89d4-aaedb0dd3895"
      },
      "cell_type": "code",
      "source": [
        "# Calculate our contingency table with margins\n",
        "a4_cont = pd.crosstab(\n",
        "    df['Approved'],\n",
        "    df['A4'],\n",
        "    normalize='columns')\n",
        "\n",
        "a4_cont"
      ],
      "execution_count": 141,
      "outputs": [
        {
          "output_type": "execute_result",
          "data": {
            "text/html": [
              "<div>\n",
              "<style scoped>\n",
              "    .dataframe tbody tr th:only-of-type {\n",
              "        vertical-align: middle;\n",
              "    }\n",
              "\n",
              "    .dataframe tbody tr th {\n",
              "        vertical-align: top;\n",
              "    }\n",
              "\n",
              "    .dataframe thead th {\n",
              "        text-align: right;\n",
              "    }\n",
              "</style>\n",
              "<table border=\"1\" class=\"dataframe\">\n",
              "  <thead>\n",
              "    <tr style=\"text-align: right;\">\n",
              "      <th>A4</th>\n",
              "      <th>l</th>\n",
              "      <th>u</th>\n",
              "      <th>y</th>\n",
              "    </tr>\n",
              "    <tr>\n",
              "      <th>Approved</th>\n",
              "      <th></th>\n",
              "      <th></th>\n",
              "      <th></th>\n",
              "    </tr>\n",
              "  </thead>\n",
              "  <tbody>\n",
              "    <tr>\n",
              "      <th>0</th>\n",
              "      <td>0.0</td>\n",
              "      <td>0.506744</td>\n",
              "      <td>0.723926</td>\n",
              "    </tr>\n",
              "    <tr>\n",
              "      <th>1</th>\n",
              "      <td>1.0</td>\n",
              "      <td>0.493256</td>\n",
              "      <td>0.276074</td>\n",
              "    </tr>\n",
              "  </tbody>\n",
              "</table>\n",
              "</div>"
            ],
            "text/plain": [
              "A4          l         u         y\n",
              "Approved                         \n",
              "0         0.0  0.506744  0.723926\n",
              "1         1.0  0.493256  0.276074"
            ]
          },
          "metadata": {
            "tags": []
          },
          "execution_count": 141
        }
      ]
    },
    {
      "metadata": {
        "id": "Q1EKQQHMk7Ng",
        "colab_type": "code",
        "colab": {
          "base_uri": "https://localhost:8080/",
          "height": 327
        },
        "outputId": "63c46276-2d55-436c-aae8-6023f25a5f8e"
      },
      "cell_type": "code",
      "source": [
        "#Assigns the frequency values\n",
        "ap = a4_cont.iloc[1][0:3].values\n",
        "re = a4_cont.iloc[0][0:3].values\n",
        "\n",
        "#Plots the bar chart\n",
        "fig = plt.figure(figsize=(10, 5))\n",
        "sns.set(font_scale=1.8)\n",
        "\n",
        "categories = ['1','u', 'y']\n",
        "\n",
        "p1 = plt.bar(categories, re, 0.55, color='#3B341F')\n",
        "p2 = plt.bar(categories, ap, 0.55, bottom=re, color='#85CB33')\n",
        "\n",
        "plt.legend((p2[0], p1[0]), ('Approved', 'Rejected'))\n",
        "plt.ylabel('Count')\n",
        "plt.show()"
      ],
      "execution_count": 147,
      "outputs": [
        {
          "output_type": "display_data",
          "data": {
            "image/png": "[encoded data removed]",
            "text/plain": [
              "<Figure size 720x360 with 1 Axes>"
            ]
          },
          "metadata": {
            "tags": []
          }
        }
      ]
    },
    {
      "metadata": {
        "id": "JjH7bZFHk7Zk",
        "colab_type": "text"
      },
      "cell_type": "markdown",
      "source": [
        "\n",
        "\n",
        "---\n",
        "\n"
      ]
    },
    {
      "metadata": {
        "id": "QRXllgcikFp-",
        "colab_type": "text"
      },
      "cell_type": "markdown",
      "source": [
        "A13"
      ]
    },
    {
      "metadata": {
        "id": "jCw_4kTZhmIB",
        "colab_type": "code",
        "colab": {
          "base_uri": "https://localhost:8080/",
          "height": 142
        },
        "outputId": "4d1cb5eb-5935-48a8-ec0a-5b9e0bab5c7f"
      },
      "cell_type": "code",
      "source": [
        "# Calculate our contingency table with margins\n",
        "a13_cont = pd.crosstab(\n",
        "    df['Approved'],\n",
        "    df['A13'],\n",
        "    normalize='columns')\n",
        "\n",
        "a13_cont"
      ],
      "execution_count": 139,
      "outputs": [
        {
          "output_type": "execute_result",
          "data": {
            "text/html": [
              "<div>\n",
              "<style scoped>\n",
              "    .dataframe tbody tr th:only-of-type {\n",
              "        vertical-align: middle;\n",
              "    }\n",
              "\n",
              "    .dataframe tbody tr th {\n",
              "        vertical-align: top;\n",
              "    }\n",
              "\n",
              "    .dataframe thead th {\n",
              "        text-align: right;\n",
              "    }\n",
              "</style>\n",
              "<table border=\"1\" class=\"dataframe\">\n",
              "  <thead>\n",
              "    <tr style=\"text-align: right;\">\n",
              "      <th>A13</th>\n",
              "      <th>g</th>\n",
              "      <th>p</th>\n",
              "      <th>s</th>\n",
              "    </tr>\n",
              "    <tr>\n",
              "      <th>Approved</th>\n",
              "      <th></th>\n",
              "      <th></th>\n",
              "      <th></th>\n",
              "    </tr>\n",
              "  </thead>\n",
              "  <tbody>\n",
              "    <tr>\n",
              "      <th>0</th>\n",
              "      <td>0.5408</td>\n",
              "      <td>0.375</td>\n",
              "      <td>0.736842</td>\n",
              "    </tr>\n",
              "    <tr>\n",
              "      <th>1</th>\n",
              "      <td>0.4592</td>\n",
              "      <td>0.625</td>\n",
              "      <td>0.263158</td>\n",
              "    </tr>\n",
              "  </tbody>\n",
              "</table>\n",
              "</div>"
            ],
            "text/plain": [
              "A13            g      p         s\n",
              "Approved                         \n",
              "0         0.5408  0.375  0.736842\n",
              "1         0.4592  0.625  0.263158"
            ]
          },
          "metadata": {
            "tags": []
          },
          "execution_count": 139
        }
      ]
    },
    {
      "metadata": {
        "id": "9_RxghCTg21n",
        "colab_type": "code",
        "colab": {
          "base_uri": "https://localhost:8080/",
          "height": 327
        },
        "outputId": "46bf3e54-204d-438f-ef9a-714158423744"
      },
      "cell_type": "code",
      "source": [
        "#Assigns the frequency values\n",
        "ap = a13_cont.iloc[1][0:3].values\n",
        "re = a13_cont.iloc[0][0:3].values\n",
        "\n",
        "#Plots the bar chart\n",
        "fig = plt.figure(figsize=(10, 5))\n",
        "\n",
        "categories = ['g', 's', 'p']\n",
        "\n",
        "p1 = plt.bar(categories, re, 0.55, color='#3B341F')\n",
        "p2 = plt.bar(categories, ap, 0.55, bottom=re, color='#85CB33')\n",
        "\n",
        "plt.legend((p2[0], p1[0]), ('Approved', 'Rejected'))\n",
        "plt.ylabel('Count')\n",
        "plt.show()"
      ],
      "execution_count": 155,
      "outputs": [
        {
          "output_type": "display_data",
          "data": {
            "image/png": "[encoded data removed]",
            "text/plain": [
              "<Figure size 720x360 with 1 Axes>"
            ]
          },
          "metadata": {
            "tags": []
          }
        }
      ]
    },
    {
      "metadata": {
        "id": "UNNpWntXg29C",
        "colab_type": "text"
      },
      "cell_type": "markdown",
      "source": [
        "\n",
        "\n",
        "---\n",
        "\n"
      ]
    },
    {
      "metadata": {
        "id": "ZM8JckA2bgnp",
        "colab_type": "text"
      },
      "cell_type": "markdown",
      "source": [
        "## Part 3 - Analysis and Interpretation\n",
        "\n",
        "Now that you've looked at the data, answer the following questions:\n",
        "\n",
        "- Interpret and explain the two t-tests you ran - what do they tell you about the relationships between the continuous features you selected and the class labels?\n",
        "- Interpret and explain the two Chi-squared tests you ran - what do they tell you about the relationships between the categorical features you selected and the class labels?\n",
        "- What was the most challenging part of this sprint challenge?\n",
        "\n",
        "Answer with text, but feel free to intersperse example code/results or refer to it from earlier."
      ]
    },
    {
      "metadata": {
        "id": "LIozLDNG2Uhu",
        "colab_type": "text"
      },
      "cell_type": "markdown",
      "source": [
        "**t-test Interpretation**"
      ]
    },
    {
      "metadata": {
        "id": "UhGP4ksBZVpo",
        "colab_type": "text"
      },
      "cell_type": "markdown",
      "source": [
        "A9 value = 't' is correlated with approval"
      ]
    },
    {
      "metadata": {
        "id": "PB_aO78QZXDH",
        "colab_type": "text"
      },
      "cell_type": "markdown",
      "source": [
        "\n",
        "\n",
        "---\n",
        "\n"
      ]
    },
    {
      "metadata": {
        "id": "FAoCD0VyZXi1",
        "colab_type": "text"
      },
      "cell_type": "markdown",
      "source": [
        "**Chi Squared Interpretation**"
      ]
    },
    {
      "metadata": {
        "id": "9l__ENelZeAy",
        "colab_type": "text"
      },
      "cell_type": "markdown",
      "source": [
        "A13 value = 'p' correlated with rejection\n",
        "\n",
        "A13 value = 's' correlated with approval\n",
        "\n",
        "A7 = 'ff' correlated with rejection\n",
        "\n",
        "A7 = 'z' correlated with approval\n",
        "\n",
        "A4 = 'y' correlated with rejection"
      ]
    },
    {
      "metadata": {
        "id": "1fDYrr_XZeEZ",
        "colab_type": "text"
      },
      "cell_type": "markdown",
      "source": [
        "\n",
        "\n",
        "---\n",
        "\n"
      ]
    },
    {
      "metadata": {
        "id": "Y5CODzKBZfhL",
        "colab_type": "text"
      },
      "cell_type": "markdown",
      "source": [
        "**Most Challenging Part of Sprint Challenge**"
      ]
    },
    {
      "metadata": {
        "id": "XajpLHtsZjl1",
        "colab_type": "text"
      },
      "cell_type": "markdown",
      "source": [
        "For me the most challenging part of this sprint challenge is the Interpretation. I feel fairly confident with cleaning my data, implimenting the tests, and visualizing the results, but I still have to think quite hard about my test results meaning in the context of the problem."
      ]
    },
    {
      "metadata": {
        "id": "q8bG9hTtZjjb",
        "colab_type": "text"
      },
      "cell_type": "markdown",
      "source": [
        "\n",
        "\n",
        "---\n",
        "\n"
      ]
    }
  ]
}