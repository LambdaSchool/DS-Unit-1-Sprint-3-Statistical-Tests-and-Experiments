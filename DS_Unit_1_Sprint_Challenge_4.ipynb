{
  "nbformat": 4,
  "nbformat_minor": 0,
  "metadata": {
    "colab": {
      "name": "DS_Unit_1_Sprint_Challenge_4.ipynb",
      "version": "0.3.2",
      "provenance": [],
      "collapsed_sections": [],
      "include_colab_link": true
    },
    "kernelspec": {
      "name": "python3",
      "display_name": "Python 3"
    }
  },
  "cells": [
    {
      "cell_type": "markdown",
      "metadata": {
        "id": "view-in-github",
        "colab_type": "text"
      },
      "source": [
        "<a href=\"https://colab.research.google.com/github/BrianBehnke/DS-Unit-1-Sprint-4-Statistical-Tests-and-Experiments/blob/master/DS_Unit_1_Sprint_Challenge_4.ipynb\" target=\"_parent\"><img src=\"https://colab.research.google.com/assets/colab-badge.svg\" alt=\"Open In Colab\"/></a>"
      ]
    },
    {
      "metadata": {
        "id": "NooAiTdnafkz",
        "colab_type": "text"
      },
      "cell_type": "markdown",
      "source": [
        "# Data Science Unit 1 Sprint Challenge 4\n",
        "\n",
        "## Exploring Data, Testing Hypotheses\n",
        "\n",
        "In this sprint challenge you will look at a dataset of people being approved or rejected for credit.\n",
        "\n",
        "https://archive.ics.uci.edu/ml/datasets/Credit+Approval\n",
        "\n",
        "Data Set Information: This file concerns credit card applications. All attribute names and values have been changed to meaningless symbols to protect confidentiality of the data. This dataset is interesting because there is a good mix of attributes -- continuous, nominal with small numbers of values, and nominal with larger numbers of values. There are also a few missing values.\n",
        "\n",
        "Attribute Information:\n",
        "- A1: b, a.\n",
        "- A2: continuous.\n",
        "- A3: continuous.\n",
        "- A4: u, y, l, t.\n",
        "- A5: g, p, gg.\n",
        "- A6: c, d, cc, i, j, k, m, r, q, w, x, e, aa, ff.\n",
        "- A7: v, h, bb, j, n, z, dd, ff, o.\n",
        "- A8: continuous.\n",
        "- A9: t, f.\n",
        "- A10: t, f.\n",
        "- A11: continuous.\n",
        "- A12: t, f.\n",
        "- A13: g, p, s.\n",
        "- A14: continuous.\n",
        "- A15: continuous.\n",
        "- A16: +,- (class attribute)\n",
        "\n",
        "Yes, most of that doesn't mean anything. A16 (the class attribute) is the most interesting, as it separates the 307 approved cases from the 383 rejected cases. The remaining variables have been obfuscated for privacy - a challenge you may have to deal with in your data science career.\n",
        "\n",
        "Sprint challenges are evaluated based on satisfactory completion of each part. It is suggested you work through it in order, getting each aspect reasonably working, before trying to deeply explore, iterate, or refine any given step. Once you get to the end, if you want to go back and improve things, go for it!"
      ]
    },
    {
      "metadata": {
        "id": "5wch6ksCbJtZ",
        "colab_type": "text"
      },
      "cell_type": "markdown",
      "source": [
        "## Part 1 - Load and validate the data\n",
        "\n",
        "- Load the data as a `pandas` data frame.\n",
        "- Validate that it has the appropriate number of observations (you can check the raw file, and also read the dataset description from UCI).\n",
        "- UCI says there should be missing data - check, and if necessary change the data so pandas recognizes it as na\n",
        "- Make sure that the loaded features are of the types described above (continuous values should be treated as float), and correct as necessary\n",
        "\n",
        "This is review, but skills that you'll use at the start of any data exploration. Further, you may have to do some investigation to figure out which file to load from - that is part of the puzzle."
      ]
    },
    {
      "metadata": {
        "id": "Q79xDLckzibS",
        "colab_type": "code",
        "colab": {}
      },
      "cell_type": "code",
      "source": [
        "import pandas as pd\n",
        "import numpy as np\n",
        "import matplotlib.pyplot as plt\n",
        "from scipy import stats\n",
        "\n",
        "url = 'https://archive.ics.uci.edu/ml/machine-learning-databases/credit-screening/crx.data'\n"
      ],
      "execution_count": 0,
      "outputs": []
    },
    {
      "metadata": {
        "id": "H_rrKxXIappD",
        "colab_type": "code",
        "colab": {
          "base_uri": "https://localhost:8080/",
          "height": 204
        },
        "outputId": "9bd5be0f-8775-49fe-827d-ffd8720dfdd7"
      },
      "cell_type": "code",
      "source": [
        "# try read_csv\n",
        "# maybe read_table may work better\n",
        "names = ['A1', 'A2', 'A3', 'A4', 'A5', 'A6', 'A7', 'A8', 'A9', 'A10', 'A11', 'A12', 'A13', 'A14', 'A15', 'A16']\n",
        "df = pd.read_csv(url, na_values='?', names=names)\n",
        "df.head()"
      ],
      "execution_count": 11,
      "outputs": [
        {
          "output_type": "execute_result",
          "data": {
            "text/html": [
              "<div>\n",
              "<style scoped>\n",
              "    .dataframe tbody tr th:only-of-type {\n",
              "        vertical-align: middle;\n",
              "    }\n",
              "\n",
              "    .dataframe tbody tr th {\n",
              "        vertical-align: top;\n",
              "    }\n",
              "\n",
              "    .dataframe thead th {\n",
              "        text-align: right;\n",
              "    }\n",
              "</style>\n",
              "<table border=\"1\" class=\"dataframe\">\n",
              "  <thead>\n",
              "    <tr style=\"text-align: right;\">\n",
              "      <th></th>\n",
              "      <th>A1</th>\n",
              "      <th>A2</th>\n",
              "      <th>A3</th>\n",
              "      <th>A4</th>\n",
              "      <th>A5</th>\n",
              "      <th>A6</th>\n",
              "      <th>A7</th>\n",
              "      <th>A8</th>\n",
              "      <th>A9</th>\n",
              "      <th>A10</th>\n",
              "      <th>A11</th>\n",
              "      <th>A12</th>\n",
              "      <th>A13</th>\n",
              "      <th>A14</th>\n",
              "      <th>A15</th>\n",
              "      <th>A16</th>\n",
              "    </tr>\n",
              "  </thead>\n",
              "  <tbody>\n",
              "    <tr>\n",
              "      <th>0</th>\n",
              "      <td>b</td>\n",
              "      <td>30.83</td>\n",
              "      <td>0.000</td>\n",
              "      <td>u</td>\n",
              "      <td>g</td>\n",
              "      <td>w</td>\n",
              "      <td>v</td>\n",
              "      <td>1.25</td>\n",
              "      <td>t</td>\n",
              "      <td>t</td>\n",
              "      <td>1</td>\n",
              "      <td>f</td>\n",
              "      <td>g</td>\n",
              "      <td>202.0</td>\n",
              "      <td>0</td>\n",
              "      <td>+</td>\n",
              "    </tr>\n",
              "    <tr>\n",
              "      <th>1</th>\n",
              "      <td>a</td>\n",
              "      <td>58.67</td>\n",
              "      <td>4.460</td>\n",
              "      <td>u</td>\n",
              "      <td>g</td>\n",
              "      <td>q</td>\n",
              "      <td>h</td>\n",
              "      <td>3.04</td>\n",
              "      <td>t</td>\n",
              "      <td>t</td>\n",
              "      <td>6</td>\n",
              "      <td>f</td>\n",
              "      <td>g</td>\n",
              "      <td>43.0</td>\n",
              "      <td>560</td>\n",
              "      <td>+</td>\n",
              "    </tr>\n",
              "    <tr>\n",
              "      <th>2</th>\n",
              "      <td>a</td>\n",
              "      <td>24.50</td>\n",
              "      <td>0.500</td>\n",
              "      <td>u</td>\n",
              "      <td>g</td>\n",
              "      <td>q</td>\n",
              "      <td>h</td>\n",
              "      <td>1.50</td>\n",
              "      <td>t</td>\n",
              "      <td>f</td>\n",
              "      <td>0</td>\n",
              "      <td>f</td>\n",
              "      <td>g</td>\n",
              "      <td>280.0</td>\n",
              "      <td>824</td>\n",
              "      <td>+</td>\n",
              "    </tr>\n",
              "    <tr>\n",
              "      <th>3</th>\n",
              "      <td>b</td>\n",
              "      <td>27.83</td>\n",
              "      <td>1.540</td>\n",
              "      <td>u</td>\n",
              "      <td>g</td>\n",
              "      <td>w</td>\n",
              "      <td>v</td>\n",
              "      <td>3.75</td>\n",
              "      <td>t</td>\n",
              "      <td>t</td>\n",
              "      <td>5</td>\n",
              "      <td>t</td>\n",
              "      <td>g</td>\n",
              "      <td>100.0</td>\n",
              "      <td>3</td>\n",
              "      <td>+</td>\n",
              "    </tr>\n",
              "    <tr>\n",
              "      <th>4</th>\n",
              "      <td>b</td>\n",
              "      <td>20.17</td>\n",
              "      <td>5.625</td>\n",
              "      <td>u</td>\n",
              "      <td>g</td>\n",
              "      <td>w</td>\n",
              "      <td>v</td>\n",
              "      <td>1.71</td>\n",
              "      <td>t</td>\n",
              "      <td>f</td>\n",
              "      <td>0</td>\n",
              "      <td>f</td>\n",
              "      <td>s</td>\n",
              "      <td>120.0</td>\n",
              "      <td>0</td>\n",
              "      <td>+</td>\n",
              "    </tr>\n",
              "  </tbody>\n",
              "</table>\n",
              "</div>"
            ],
            "text/plain": [
              "  A1     A2     A3 A4 A5 A6 A7    A8 A9 A10  A11 A12 A13    A14  A15 A16\n",
              "0  b  30.83  0.000  u  g  w  v  1.25  t   t    1   f   g  202.0    0   +\n",
              "1  a  58.67  4.460  u  g  q  h  3.04  t   t    6   f   g   43.0  560   +\n",
              "2  a  24.50  0.500  u  g  q  h  1.50  t   f    0   f   g  280.0  824   +\n",
              "3  b  27.83  1.540  u  g  w  v  3.75  t   t    5   t   g  100.0    3   +\n",
              "4  b  20.17  5.625  u  g  w  v  1.71  t   f    0   f   s  120.0    0   +"
            ]
          },
          "metadata": {
            "tags": []
          },
          "execution_count": 11
        }
      ]
    },
    {
      "metadata": {
        "id": "Aauy3odGbncY",
        "colab_type": "code",
        "colab": {
          "base_uri": "https://localhost:8080/",
          "height": 297
        },
        "outputId": "06fdcbb9-64ed-4041-80a6-580a8b3c5faa"
      },
      "cell_type": "code",
      "source": [
        "# expect 690 records, per data info page.\n",
        "# Looks correct as we returned 690\n",
        "df.describe()"
      ],
      "execution_count": 12,
      "outputs": [
        {
          "output_type": "execute_result",
          "data": {
            "text/html": [
              "<div>\n",
              "<style scoped>\n",
              "    .dataframe tbody tr th:only-of-type {\n",
              "        vertical-align: middle;\n",
              "    }\n",
              "\n",
              "    .dataframe tbody tr th {\n",
              "        vertical-align: top;\n",
              "    }\n",
              "\n",
              "    .dataframe thead th {\n",
              "        text-align: right;\n",
              "    }\n",
              "</style>\n",
              "<table border=\"1\" class=\"dataframe\">\n",
              "  <thead>\n",
              "    <tr style=\"text-align: right;\">\n",
              "      <th></th>\n",
              "      <th>A2</th>\n",
              "      <th>A3</th>\n",
              "      <th>A8</th>\n",
              "      <th>A11</th>\n",
              "      <th>A14</th>\n",
              "      <th>A15</th>\n",
              "    </tr>\n",
              "  </thead>\n",
              "  <tbody>\n",
              "    <tr>\n",
              "      <th>count</th>\n",
              "      <td>678.000000</td>\n",
              "      <td>690.000000</td>\n",
              "      <td>690.000000</td>\n",
              "      <td>690.00000</td>\n",
              "      <td>677.000000</td>\n",
              "      <td>690.000000</td>\n",
              "    </tr>\n",
              "    <tr>\n",
              "      <th>mean</th>\n",
              "      <td>31.568171</td>\n",
              "      <td>4.758725</td>\n",
              "      <td>2.223406</td>\n",
              "      <td>2.40000</td>\n",
              "      <td>184.014771</td>\n",
              "      <td>1017.385507</td>\n",
              "    </tr>\n",
              "    <tr>\n",
              "      <th>std</th>\n",
              "      <td>11.957862</td>\n",
              "      <td>4.978163</td>\n",
              "      <td>3.346513</td>\n",
              "      <td>4.86294</td>\n",
              "      <td>173.806768</td>\n",
              "      <td>5210.102598</td>\n",
              "    </tr>\n",
              "    <tr>\n",
              "      <th>min</th>\n",
              "      <td>13.750000</td>\n",
              "      <td>0.000000</td>\n",
              "      <td>0.000000</td>\n",
              "      <td>0.00000</td>\n",
              "      <td>0.000000</td>\n",
              "      <td>0.000000</td>\n",
              "    </tr>\n",
              "    <tr>\n",
              "      <th>25%</th>\n",
              "      <td>22.602500</td>\n",
              "      <td>1.000000</td>\n",
              "      <td>0.165000</td>\n",
              "      <td>0.00000</td>\n",
              "      <td>75.000000</td>\n",
              "      <td>0.000000</td>\n",
              "    </tr>\n",
              "    <tr>\n",
              "      <th>50%</th>\n",
              "      <td>28.460000</td>\n",
              "      <td>2.750000</td>\n",
              "      <td>1.000000</td>\n",
              "      <td>0.00000</td>\n",
              "      <td>160.000000</td>\n",
              "      <td>5.000000</td>\n",
              "    </tr>\n",
              "    <tr>\n",
              "      <th>75%</th>\n",
              "      <td>38.230000</td>\n",
              "      <td>7.207500</td>\n",
              "      <td>2.625000</td>\n",
              "      <td>3.00000</td>\n",
              "      <td>276.000000</td>\n",
              "      <td>395.500000</td>\n",
              "    </tr>\n",
              "    <tr>\n",
              "      <th>max</th>\n",
              "      <td>80.250000</td>\n",
              "      <td>28.000000</td>\n",
              "      <td>28.500000</td>\n",
              "      <td>67.00000</td>\n",
              "      <td>2000.000000</td>\n",
              "      <td>100000.000000</td>\n",
              "    </tr>\n",
              "  </tbody>\n",
              "</table>\n",
              "</div>"
            ],
            "text/plain": [
              "               A2          A3          A8        A11          A14  \\\n",
              "count  678.000000  690.000000  690.000000  690.00000   677.000000   \n",
              "mean    31.568171    4.758725    2.223406    2.40000   184.014771   \n",
              "std     11.957862    4.978163    3.346513    4.86294   173.806768   \n",
              "min     13.750000    0.000000    0.000000    0.00000     0.000000   \n",
              "25%     22.602500    1.000000    0.165000    0.00000    75.000000   \n",
              "50%     28.460000    2.750000    1.000000    0.00000   160.000000   \n",
              "75%     38.230000    7.207500    2.625000    3.00000   276.000000   \n",
              "max     80.250000   28.000000   28.500000   67.00000  2000.000000   \n",
              "\n",
              "                 A15  \n",
              "count     690.000000  \n",
              "mean     1017.385507  \n",
              "std      5210.102598  \n",
              "min         0.000000  \n",
              "25%         0.000000  \n",
              "50%         5.000000  \n",
              "75%       395.500000  \n",
              "max    100000.000000  "
            ]
          },
          "metadata": {
            "tags": []
          },
          "execution_count": 12
        }
      ]
    },
    {
      "metadata": {
        "id": "suGEKRzMb4NH",
        "colab_type": "code",
        "colab": {
          "base_uri": "https://localhost:8080/",
          "height": 34
        },
        "outputId": "53ee0b08-0541-4951-9af9-585bb1cdc1dd"
      },
      "cell_type": "code",
      "source": [
        "# .shape also returns the correct number of records, 690\n",
        "df.shape"
      ],
      "execution_count": 19,
      "outputs": [
        {
          "output_type": "execute_result",
          "data": {
            "text/plain": [
              "(690, 16)"
            ]
          },
          "metadata": {
            "tags": []
          },
          "execution_count": 19
        }
      ]
    },
    {
      "metadata": {
        "id": "G7rLytbrO38L",
        "colab_type": "text"
      },
      "cell_type": "markdown",
      "source": [
        "## Part 2 - Exploring data, Testing hypotheses\n",
        "\n",
        "The only thing we really know about this data is that A16 is the class label. Besides that, we have 6 continuous (float) features and 9 categorical features.\n",
        "\n",
        "Explore the data: you can use whatever approach (tables, utility functions, visualizations) to get an impression of the distributions and relationships of the variables. In general, your goal is to understand how the features are different when grouped by the two class labels (`+` and `-`).\n",
        "\n",
        "For the 6 continuous features, how are they different when split between the two class labels? Choose two features to run t-tests (again split by class label) - specifically, select one feature that is *extremely* different between the classes, and another feature that is notably less different (though perhaps still \"statistically significantly\" different). You may have to explore more than two features to do this.\n",
        "\n",
        "For the categorical features, explore by creating \"cross tabs\" between them and the class label, and apply the Chi-squared test to them. There are 9 categorical features - as with the t-test, try to find one where the Chi-squared test returns an extreme result (rejecting the null that the data are independent), and one where it is less extreme.\n",
        "\n",
        "**NOTE** - \"less extreme\" just means smaller test statistic/larger p-value. Even the least extreme differences may be strongly statistically significant.\n",
        "\n",
        "Your *main* goal is the hypothesis tests, so don't spend too much time on the exploration/visualization piece. That is just a means to an end. This is challenging, so manage your time and aim for a baseline of at least running two t-tests and two Chi-squared tests before polishing. And don't forget to answer the questions in part 3, even if your results in this part aren't what you want them to be."
      ]
    },
    {
      "metadata": {
        "id": "_nqcgc0yzm68",
        "colab_type": "code",
        "colab": {
          "base_uri": "https://localhost:8080/",
          "height": 221
        },
        "outputId": "69d8cb0b-5053-4840-ea6b-736df583bca6"
      },
      "cell_type": "code",
      "source": [
        "# Split the data into 2 groups, based on the class attribute, A16, either + or -\n",
        "good = df[df.A16 == '+']\n",
        "bad = df[df.A16 == '-']\n",
        "\n",
        "print(good.head())\n",
        "print(bad.head())"
      ],
      "execution_count": 13,
      "outputs": [
        {
          "output_type": "stream",
          "text": [
            "  A1     A2     A3 A4 A5 A6 A7    A8 A9 A10  A11 A12 A13    A14  A15 A16\n",
            "0  b  30.83  0.000  u  g  w  v  1.25  t   t    1   f   g  202.0    0   +\n",
            "1  a  58.67  4.460  u  g  q  h  3.04  t   t    6   f   g   43.0  560   +\n",
            "2  a  24.50  0.500  u  g  q  h  1.50  t   f    0   f   g  280.0  824   +\n",
            "3  b  27.83  1.540  u  g  w  v  3.75  t   t    5   t   g  100.0    3   +\n",
            "4  b  20.17  5.625  u  g  w  v  1.71  t   f    0   f   s  120.0    0   +\n",
            "   A1     A2   A3 A4 A5  A6  A7      A8 A9 A10  A11 A12 A13    A14  A15 A16\n",
            "70  b  32.33  7.5  u  g   e  bb   1.585  t   f    0   t   s  420.0    0   -\n",
            "71  b  34.83  4.0  u  g   d  bb  12.500  t   f    0   t   g    NaN    0   -\n",
            "72  a  38.58  5.0  u  g  cc   v  13.500  t   f    0   t   g  980.0    0   -\n",
            "73  b  44.25  0.5  u  g   m   v  10.750  t   f    0   f   s  400.0    0   -\n",
            "74  b  44.83  7.0  y  p   c   v   1.625  f   f    0   f   g  160.0    2   -\n"
          ],
          "name": "stdout"
        }
      ]
    },
    {
      "metadata": {
        "id": "JdTvOGVrd0ns",
        "colab_type": "code",
        "colab": {
          "base_uri": "https://localhost:8080/",
          "height": 297
        },
        "outputId": "2a8c459d-36ef-4ab3-ff41-847616316025"
      },
      "cell_type": "code",
      "source": [
        "# quick glance at data from the good dataset\n",
        "good.describe()"
      ],
      "execution_count": 15,
      "outputs": [
        {
          "output_type": "execute_result",
          "data": {
            "text/html": [
              "<div>\n",
              "<style scoped>\n",
              "    .dataframe tbody tr th:only-of-type {\n",
              "        vertical-align: middle;\n",
              "    }\n",
              "\n",
              "    .dataframe tbody tr th {\n",
              "        vertical-align: top;\n",
              "    }\n",
              "\n",
              "    .dataframe thead th {\n",
              "        text-align: right;\n",
              "    }\n",
              "</style>\n",
              "<table border=\"1\" class=\"dataframe\">\n",
              "  <thead>\n",
              "    <tr style=\"text-align: right;\">\n",
              "      <th></th>\n",
              "      <th>A2</th>\n",
              "      <th>A3</th>\n",
              "      <th>A8</th>\n",
              "      <th>A11</th>\n",
              "      <th>A14</th>\n",
              "      <th>A15</th>\n",
              "    </tr>\n",
              "  </thead>\n",
              "  <tbody>\n",
              "    <tr>\n",
              "      <th>count</th>\n",
              "      <td>305.000000</td>\n",
              "      <td>307.000000</td>\n",
              "      <td>307.000000</td>\n",
              "      <td>307.000000</td>\n",
              "      <td>301.000000</td>\n",
              "      <td>307.000000</td>\n",
              "    </tr>\n",
              "    <tr>\n",
              "      <th>mean</th>\n",
              "      <td>33.720492</td>\n",
              "      <td>5.904951</td>\n",
              "      <td>3.427899</td>\n",
              "      <td>4.605863</td>\n",
              "      <td>164.421927</td>\n",
              "      <td>2038.859935</td>\n",
              "    </tr>\n",
              "    <tr>\n",
              "      <th>std</th>\n",
              "      <td>12.809641</td>\n",
              "      <td>5.471485</td>\n",
              "      <td>4.120792</td>\n",
              "      <td>6.320242</td>\n",
              "      <td>161.770675</td>\n",
              "      <td>7659.763941</td>\n",
              "    </tr>\n",
              "    <tr>\n",
              "      <th>min</th>\n",
              "      <td>13.750000</td>\n",
              "      <td>0.000000</td>\n",
              "      <td>0.000000</td>\n",
              "      <td>0.000000</td>\n",
              "      <td>0.000000</td>\n",
              "      <td>0.000000</td>\n",
              "    </tr>\n",
              "    <tr>\n",
              "      <th>25%</th>\n",
              "      <td>23.170000</td>\n",
              "      <td>1.500000</td>\n",
              "      <td>0.750000</td>\n",
              "      <td>0.000000</td>\n",
              "      <td>0.000000</td>\n",
              "      <td>0.000000</td>\n",
              "    </tr>\n",
              "    <tr>\n",
              "      <th>50%</th>\n",
              "      <td>30.500000</td>\n",
              "      <td>4.460000</td>\n",
              "      <td>2.000000</td>\n",
              "      <td>3.000000</td>\n",
              "      <td>120.000000</td>\n",
              "      <td>221.000000</td>\n",
              "    </tr>\n",
              "    <tr>\n",
              "      <th>75%</th>\n",
              "      <td>41.330000</td>\n",
              "      <td>9.520000</td>\n",
              "      <td>5.000000</td>\n",
              "      <td>7.000000</td>\n",
              "      <td>280.000000</td>\n",
              "      <td>1209.000000</td>\n",
              "    </tr>\n",
              "    <tr>\n",
              "      <th>max</th>\n",
              "      <td>76.750000</td>\n",
              "      <td>28.000000</td>\n",
              "      <td>28.500000</td>\n",
              "      <td>67.000000</td>\n",
              "      <td>840.000000</td>\n",
              "      <td>100000.000000</td>\n",
              "    </tr>\n",
              "  </tbody>\n",
              "</table>\n",
              "</div>"
            ],
            "text/plain": [
              "               A2          A3          A8         A11         A14  \\\n",
              "count  305.000000  307.000000  307.000000  307.000000  301.000000   \n",
              "mean    33.720492    5.904951    3.427899    4.605863  164.421927   \n",
              "std     12.809641    5.471485    4.120792    6.320242  161.770675   \n",
              "min     13.750000    0.000000    0.000000    0.000000    0.000000   \n",
              "25%     23.170000    1.500000    0.750000    0.000000    0.000000   \n",
              "50%     30.500000    4.460000    2.000000    3.000000  120.000000   \n",
              "75%     41.330000    9.520000    5.000000    7.000000  280.000000   \n",
              "max     76.750000   28.000000   28.500000   67.000000  840.000000   \n",
              "\n",
              "                 A15  \n",
              "count     307.000000  \n",
              "mean     2038.859935  \n",
              "std      7659.763941  \n",
              "min         0.000000  \n",
              "25%         0.000000  \n",
              "50%       221.000000  \n",
              "75%      1209.000000  \n",
              "max    100000.000000  "
            ]
          },
          "metadata": {
            "tags": []
          },
          "execution_count": 15
        }
      ]
    },
    {
      "metadata": {
        "id": "-wgInJdIeuer",
        "colab_type": "code",
        "colab": {
          "base_uri": "https://localhost:8080/",
          "height": 297
        },
        "outputId": "de31aa1d-d75d-4bfd-f480-14a53657e2b5"
      },
      "cell_type": "code",
      "source": [
        "# quick glance at data from the bad dataset\n",
        "bad.describe()"
      ],
      "execution_count": 16,
      "outputs": [
        {
          "output_type": "execute_result",
          "data": {
            "text/html": [
              "<div>\n",
              "<style scoped>\n",
              "    .dataframe tbody tr th:only-of-type {\n",
              "        vertical-align: middle;\n",
              "    }\n",
              "\n",
              "    .dataframe tbody tr th {\n",
              "        vertical-align: top;\n",
              "    }\n",
              "\n",
              "    .dataframe thead th {\n",
              "        text-align: right;\n",
              "    }\n",
              "</style>\n",
              "<table border=\"1\" class=\"dataframe\">\n",
              "  <thead>\n",
              "    <tr style=\"text-align: right;\">\n",
              "      <th></th>\n",
              "      <th>A2</th>\n",
              "      <th>A3</th>\n",
              "      <th>A8</th>\n",
              "      <th>A11</th>\n",
              "      <th>A14</th>\n",
              "      <th>A15</th>\n",
              "    </tr>\n",
              "  </thead>\n",
              "  <tbody>\n",
              "    <tr>\n",
              "      <th>count</th>\n",
              "      <td>373.000000</td>\n",
              "      <td>383.000000</td>\n",
              "      <td>383.000000</td>\n",
              "      <td>383.000000</td>\n",
              "      <td>376.000000</td>\n",
              "      <td>383.000000</td>\n",
              "    </tr>\n",
              "    <tr>\n",
              "      <th>mean</th>\n",
              "      <td>29.808231</td>\n",
              "      <td>3.839948</td>\n",
              "      <td>1.257924</td>\n",
              "      <td>0.631854</td>\n",
              "      <td>199.699468</td>\n",
              "      <td>198.605744</td>\n",
              "    </tr>\n",
              "    <tr>\n",
              "      <th>std</th>\n",
              "      <td>10.919291</td>\n",
              "      <td>4.337662</td>\n",
              "      <td>2.120481</td>\n",
              "      <td>1.900049</td>\n",
              "      <td>181.564835</td>\n",
              "      <td>671.608839</td>\n",
              "    </tr>\n",
              "    <tr>\n",
              "      <th>min</th>\n",
              "      <td>15.170000</td>\n",
              "      <td>0.000000</td>\n",
              "      <td>0.000000</td>\n",
              "      <td>0.000000</td>\n",
              "      <td>0.000000</td>\n",
              "      <td>0.000000</td>\n",
              "    </tr>\n",
              "    <tr>\n",
              "      <th>25%</th>\n",
              "      <td>22.000000</td>\n",
              "      <td>0.835000</td>\n",
              "      <td>0.125000</td>\n",
              "      <td>0.000000</td>\n",
              "      <td>100.000000</td>\n",
              "      <td>0.000000</td>\n",
              "    </tr>\n",
              "    <tr>\n",
              "      <th>50%</th>\n",
              "      <td>27.330000</td>\n",
              "      <td>2.210000</td>\n",
              "      <td>0.415000</td>\n",
              "      <td>0.000000</td>\n",
              "      <td>167.500000</td>\n",
              "      <td>1.000000</td>\n",
              "    </tr>\n",
              "    <tr>\n",
              "      <th>75%</th>\n",
              "      <td>34.830000</td>\n",
              "      <td>5.000000</td>\n",
              "      <td>1.500000</td>\n",
              "      <td>0.000000</td>\n",
              "      <td>272.000000</td>\n",
              "      <td>67.000000</td>\n",
              "    </tr>\n",
              "    <tr>\n",
              "      <th>max</th>\n",
              "      <td>80.250000</td>\n",
              "      <td>26.335000</td>\n",
              "      <td>13.875000</td>\n",
              "      <td>20.000000</td>\n",
              "      <td>2000.000000</td>\n",
              "      <td>5552.000000</td>\n",
              "    </tr>\n",
              "  </tbody>\n",
              "</table>\n",
              "</div>"
            ],
            "text/plain": [
              "               A2          A3          A8         A11          A14  \\\n",
              "count  373.000000  383.000000  383.000000  383.000000   376.000000   \n",
              "mean    29.808231    3.839948    1.257924    0.631854   199.699468   \n",
              "std     10.919291    4.337662    2.120481    1.900049   181.564835   \n",
              "min     15.170000    0.000000    0.000000    0.000000     0.000000   \n",
              "25%     22.000000    0.835000    0.125000    0.000000   100.000000   \n",
              "50%     27.330000    2.210000    0.415000    0.000000   167.500000   \n",
              "75%     34.830000    5.000000    1.500000    0.000000   272.000000   \n",
              "max     80.250000   26.335000   13.875000   20.000000  2000.000000   \n",
              "\n",
              "               A15  \n",
              "count   383.000000  \n",
              "mean    198.605744  \n",
              "std     671.608839  \n",
              "min       0.000000  \n",
              "25%       0.000000  \n",
              "50%       1.000000  \n",
              "75%      67.000000  \n",
              "max    5552.000000  "
            ]
          },
          "metadata": {
            "tags": []
          },
          "execution_count": 16
        }
      ]
    },
    {
      "metadata": {
        "id": "vzgSr0ev_jmK",
        "colab_type": "code",
        "colab": {
          "base_uri": "https://localhost:8080/",
          "height": 297
        },
        "outputId": "bec4db75-5eb3-4242-c8cc-8a0332c57826"
      },
      "cell_type": "code",
      "source": [
        "df.describe()"
      ],
      "execution_count": 135,
      "outputs": [
        {
          "output_type": "execute_result",
          "data": {
            "text/html": [
              "<div>\n",
              "<style scoped>\n",
              "    .dataframe tbody tr th:only-of-type {\n",
              "        vertical-align: middle;\n",
              "    }\n",
              "\n",
              "    .dataframe tbody tr th {\n",
              "        vertical-align: top;\n",
              "    }\n",
              "\n",
              "    .dataframe thead th {\n",
              "        text-align: right;\n",
              "    }\n",
              "</style>\n",
              "<table border=\"1\" class=\"dataframe\">\n",
              "  <thead>\n",
              "    <tr style=\"text-align: right;\">\n",
              "      <th></th>\n",
              "      <th>A2</th>\n",
              "      <th>A3</th>\n",
              "      <th>A8</th>\n",
              "      <th>A11</th>\n",
              "      <th>A14</th>\n",
              "      <th>A15</th>\n",
              "    </tr>\n",
              "  </thead>\n",
              "  <tbody>\n",
              "    <tr>\n",
              "      <th>count</th>\n",
              "      <td>678.000000</td>\n",
              "      <td>690.000000</td>\n",
              "      <td>690.000000</td>\n",
              "      <td>690.00000</td>\n",
              "      <td>677.000000</td>\n",
              "      <td>690.000000</td>\n",
              "    </tr>\n",
              "    <tr>\n",
              "      <th>mean</th>\n",
              "      <td>31.568171</td>\n",
              "      <td>4.758725</td>\n",
              "      <td>2.223406</td>\n",
              "      <td>2.40000</td>\n",
              "      <td>184.014771</td>\n",
              "      <td>1017.385507</td>\n",
              "    </tr>\n",
              "    <tr>\n",
              "      <th>std</th>\n",
              "      <td>11.957862</td>\n",
              "      <td>4.978163</td>\n",
              "      <td>3.346513</td>\n",
              "      <td>4.86294</td>\n",
              "      <td>173.806768</td>\n",
              "      <td>5210.102598</td>\n",
              "    </tr>\n",
              "    <tr>\n",
              "      <th>min</th>\n",
              "      <td>13.750000</td>\n",
              "      <td>0.000000</td>\n",
              "      <td>0.000000</td>\n",
              "      <td>0.00000</td>\n",
              "      <td>0.000000</td>\n",
              "      <td>0.000000</td>\n",
              "    </tr>\n",
              "    <tr>\n",
              "      <th>25%</th>\n",
              "      <td>22.602500</td>\n",
              "      <td>1.000000</td>\n",
              "      <td>0.165000</td>\n",
              "      <td>0.00000</td>\n",
              "      <td>75.000000</td>\n",
              "      <td>0.000000</td>\n",
              "    </tr>\n",
              "    <tr>\n",
              "      <th>50%</th>\n",
              "      <td>28.460000</td>\n",
              "      <td>2.750000</td>\n",
              "      <td>1.000000</td>\n",
              "      <td>0.00000</td>\n",
              "      <td>160.000000</td>\n",
              "      <td>5.000000</td>\n",
              "    </tr>\n",
              "    <tr>\n",
              "      <th>75%</th>\n",
              "      <td>38.230000</td>\n",
              "      <td>7.207500</td>\n",
              "      <td>2.625000</td>\n",
              "      <td>3.00000</td>\n",
              "      <td>276.000000</td>\n",
              "      <td>395.500000</td>\n",
              "    </tr>\n",
              "    <tr>\n",
              "      <th>max</th>\n",
              "      <td>80.250000</td>\n",
              "      <td>28.000000</td>\n",
              "      <td>28.500000</td>\n",
              "      <td>67.00000</td>\n",
              "      <td>2000.000000</td>\n",
              "      <td>100000.000000</td>\n",
              "    </tr>\n",
              "  </tbody>\n",
              "</table>\n",
              "</div>"
            ],
            "text/plain": [
              "               A2          A3          A8        A11          A14  \\\n",
              "count  678.000000  690.000000  690.000000  690.00000   677.000000   \n",
              "mean    31.568171    4.758725    2.223406    2.40000   184.014771   \n",
              "std     11.957862    4.978163    3.346513    4.86294   173.806768   \n",
              "min     13.750000    0.000000    0.000000    0.00000     0.000000   \n",
              "25%     22.602500    1.000000    0.165000    0.00000    75.000000   \n",
              "50%     28.460000    2.750000    1.000000    0.00000   160.000000   \n",
              "75%     38.230000    7.207500    2.625000    3.00000   276.000000   \n",
              "max     80.250000   28.000000   28.500000   67.00000  2000.000000   \n",
              "\n",
              "                 A15  \n",
              "count     690.000000  \n",
              "mean     1017.385507  \n",
              "std      5210.102598  \n",
              "min         0.000000  \n",
              "25%         0.000000  \n",
              "50%         5.000000  \n",
              "75%       395.500000  \n",
              "max    100000.000000  "
            ]
          },
          "metadata": {
            "tags": []
          },
          "execution_count": 135
        }
      ]
    },
    {
      "metadata": {
        "id": "j2f1Fj4xfPey",
        "colab_type": "text"
      },
      "cell_type": "markdown",
      "source": [
        "## All columns look like they have higher averages and spreads in the good group, except for column A14, which is quite higher than in the bad group."
      ]
    },
    {
      "metadata": {
        "id": "FIF2R2XKkkDx",
        "colab_type": "text"
      },
      "cell_type": "markdown",
      "source": [
        "## Lets do some T TESTS! YAY!"
      ]
    },
    {
      "metadata": {
        "id": "C_d8Axkqfd3x",
        "colab_type": "code",
        "colab": {
          "base_uri": "https://localhost:8080/",
          "height": 51
        },
        "outputId": "9232c1dc-a465-487d-bfa9-3c7069917974"
      },
      "cell_type": "code",
      "source": [
        "# my two features I will look at are:\n",
        "# large difference: A15\n",
        "# small difference: A3\n",
        "\n",
        "print('T Test for good.A15 ' , scipy.stats.ttest_1samp(good.A15, 1017.385))\n",
        "print('T Test for bad.A15 ' , scipy.stats.ttest_1samp(bad.A15, 1017.385))"
      ],
      "execution_count": 136,
      "outputs": [
        {
          "output_type": "stream",
          "text": [
            "T Test for good.A15  Ttest_1sampResult(statistic=2.3365846338986787, pvalue=0.020105944183966846)\n",
            "T Test for bad.A15  Ttest_1sampResult(statistic=-23.858866910185004, pvalue=1.1004621903621446e-77)\n"
          ],
          "name": "stdout"
        }
      ]
    },
    {
      "metadata": {
        "id": "AVq_C0B9737b",
        "colab_type": "code",
        "colab": {
          "base_uri": "https://localhost:8080/",
          "height": 34
        },
        "outputId": "a2969fe6-5246-4840-a234-a2fbda5bc182"
      },
      "cell_type": "code",
      "source": [
        "print('Two tailed T Test for good.A15 and bad.A15 ' , stats.ttest_ind(good.A15, bad.A15))"
      ],
      "execution_count": 121,
      "outputs": [
        {
          "output_type": "stream",
          "text": [
            "Two tailed T Test for good.A15 and bad.A15  Ttest_indResult(statistic=4.680216020964486, pvalue=3.4520256956287944e-06)\n"
          ],
          "name": "stdout"
        }
      ]
    },
    {
      "metadata": {
        "id": "Uyt7-U8n6w9e",
        "colab_type": "code",
        "colab": {
          "base_uri": "https://localhost:8080/",
          "height": 68
        },
        "outputId": "3b28058b-a613-4d4e-fca1-19125654e7df"
      },
      "cell_type": "code",
      "source": [
        "stats.bayes_mvs(good.A15, 0.05)"
      ],
      "execution_count": 115,
      "outputs": [
        {
          "output_type": "execute_result",
          "data": {
            "text/plain": [
              "(Mean(statistic=2038.85993485342, minmax=(2011.4241811008205, 2066.2956886060197)),\n",
              " Variance(statistic=59057983.52295131, minmax=(58502684.883307904, 59099410.60717633)),\n",
              " Std_dev(statistic=7678.602001234962, minmax=(7648.704784687921, 7687.614103684988)))"
            ]
          },
          "metadata": {
            "tags": []
          },
          "execution_count": 115
        }
      ]
    },
    {
      "metadata": {
        "id": "MUBsC-eb6z50",
        "colab_type": "code",
        "colab": {
          "base_uri": "https://localhost:8080/",
          "height": 68
        },
        "outputId": "a71af317-f099-41fd-d43b-e2034001abf5"
      },
      "cell_type": "code",
      "source": [
        "stats.bayes_mvs(bad.A15, 0.05)"
      ],
      "execution_count": 116,
      "outputs": [
        {
          "output_type": "execute_result",
          "data": {
            "text/plain": [
              "(Mean(statistic=198.60574412532637, minmax=(196.45238311545242, 200.75910513520031)),\n",
              " Variance(statistic=453432.424914113, minmax=(449801.28869636444, 453904.6340246738)),\n",
              " Std_dev(statistic=672.9310487206066, minmax=(670.6722662346823, 673.7244496266064)))"
            ]
          },
          "metadata": {
            "tags": []
          },
          "execution_count": 116
        }
      ]
    },
    {
      "metadata": {
        "id": "OFDxX0Nki1Ar",
        "colab_type": "code",
        "colab": {
          "base_uri": "https://localhost:8080/",
          "height": 51
        },
        "outputId": "6306221b-5c14-4488-b80f-f41b1fd624a0"
      },
      "cell_type": "code",
      "source": [
        "print('T Test for good.A3 ' , scipy.stats.ttest_1samp(good.A3, 0.5))\n",
        "print('T Test for bad.A3 ' , scipy.stats.ttest_1samp(bad.A3, 0.5))"
      ],
      "execution_count": 34,
      "outputs": [
        {
          "output_type": "stream",
          "text": [
            "T Test for good.A3  Ttest_1sampResult(statistic=17.30835312313626, pvalue=2.8402779104335877e-47)\n",
            "T Test for bad.A3  Ttest_1sampResult(statistic=15.068962886128801, pvalue=1.3340212686882321e-40)\n"
          ],
          "name": "stdout"
        }
      ]
    },
    {
      "metadata": {
        "id": "1KDvCyjI63pc",
        "colab_type": "code",
        "colab": {
          "base_uri": "https://localhost:8080/",
          "height": 68
        },
        "outputId": "94a89189-5ebb-42f0-ade7-48c5b70282eb"
      },
      "cell_type": "code",
      "source": [
        "stats.bayes_mvs(good.A3, 0.05)"
      ],
      "execution_count": 117,
      "outputs": [
        {
          "output_type": "execute_result",
          "data": {
            "text/plain": [
              "(Mean(statistic=5.9049511400651475, minmax=(5.885353367038174, 5.924548913092121)),\n",
              " Variance(statistic=30.134103040352304, minmax=(29.850764100771357, 30.15524104660023)),\n",
              " Std_dev(statistic=5.4849413120426425, minmax=(5.463585278987723, 5.491378792853415)))"
            ]
          },
          "metadata": {
            "tags": []
          },
          "execution_count": 117
        }
      ]
    },
    {
      "metadata": {
        "id": "5ex_Ky3s63uE",
        "colab_type": "code",
        "colab": {
          "base_uri": "https://localhost:8080/",
          "height": 68
        },
        "outputId": "9d1a29a3-ead7-4936-ecb9-5199c0d4611e"
      },
      "cell_type": "code",
      "source": [
        "stats.bayes_mvs(bad.A3, 0.05)"
      ],
      "execution_count": 118,
      "outputs": [
        {
          "output_type": "execute_result",
          "data": {
            "text/plain": [
              "(Mean(statistic=3.839947780678851, minmax=(3.8260400541579647, 3.853855507199737)),\n",
              " Variance(statistic=18.914338944620035, minmax=(18.762870859404046, 18.93403652838144)),\n",
              " Std_dev(statistic=4.346201565880141, minmax=(4.331612962789271, 4.351325835694385)))"
            ]
          },
          "metadata": {
            "tags": []
          },
          "execution_count": 118
        }
      ]
    },
    {
      "metadata": {
        "id": "psVopW8Z7lso",
        "colab_type": "code",
        "colab": {
          "base_uri": "https://localhost:8080/",
          "height": 34
        },
        "outputId": "da839fe1-799f-4211-fa77-fffc1735867f"
      },
      "cell_type": "code",
      "source": [
        "print('Two tailed T Test for good.A3 and bad.A3 ' , stats.ttest_ind(good.A3, bad.A3))"
      ],
      "execution_count": 120,
      "outputs": [
        {
          "output_type": "stream",
          "text": [
            "Two tailed T Test for good.A3 and bad.A3  Ttest_indResult(statistic=5.52998337614816, pvalue=4.551680702308068e-08)\n"
          ],
          "name": "stdout"
        }
      ]
    },
    {
      "metadata": {
        "id": "Z_K7HK4E8kFB",
        "colab_type": "code",
        "colab": {
          "base_uri": "https://localhost:8080/",
          "height": 68
        },
        "outputId": "4934a02f-4b0d-4461-d601-094938bf5112"
      },
      "cell_type": "code",
      "source": [
        "print('T Test for good.A2 ' , scipy.stats.ttest_1samp(good.A2, 0.5))\n",
        "print('T Test for bad.A2 ' , scipy.stats.ttest_1samp(bad.A2, 0.5))\n",
        "print('Two tailed T Test for good.A2 and bad.A2 ' , stats.ttest_ind(good.A2, bad.A2))"
      ],
      "execution_count": 123,
      "outputs": [
        {
          "output_type": "stream",
          "text": [
            "T Test for good.A2  Ttest_1sampResult(statistic=nan, pvalue=nan)\n",
            "T Test for bad.A2  Ttest_1sampResult(statistic=nan, pvalue=nan)\n",
            "Two tailed T Test for good.A2 and bad.A2  Ttest_indResult(statistic=nan, pvalue=nan)\n"
          ],
          "name": "stdout"
        }
      ]
    },
    {
      "metadata": {
        "id": "NcBpUnfP8wKc",
        "colab_type": "code",
        "colab": {
          "base_uri": "https://localhost:8080/",
          "height": 68
        },
        "outputId": "429144cd-d91e-431d-f32c-f12e61385010"
      },
      "cell_type": "code",
      "source": [
        "print('T Test for good.A3 ' , scipy.stats.ttest_1samp(good.A3, 0.5))\n",
        "print('T Test for bad.A3 ' , scipy.stats.ttest_1samp(bad.A3, 0.5))\n",
        "print('Two tailed T Test for good.A3 and bad.A3 ' , stats.ttest_ind(good.A3, bad.A3))"
      ],
      "execution_count": 124,
      "outputs": [
        {
          "output_type": "stream",
          "text": [
            "T Test for good.A3  Ttest_1sampResult(statistic=17.30835312313626, pvalue=2.8402779104335877e-47)\n",
            "T Test for bad.A3  Ttest_1sampResult(statistic=15.068962886128801, pvalue=1.3340212686882321e-40)\n",
            "Two tailed T Test for good.A3 and bad.A3  Ttest_indResult(statistic=5.52998337614816, pvalue=4.551680702308068e-08)\n"
          ],
          "name": "stdout"
        }
      ]
    },
    {
      "metadata": {
        "id": "q56G8yZ68-UI",
        "colab_type": "code",
        "colab": {
          "base_uri": "https://localhost:8080/",
          "height": 68
        },
        "outputId": "f66152ec-f05f-4329-cc00-eec3ede60f59"
      },
      "cell_type": "code",
      "source": [
        "print('T Test for good.A8 ' , scipy.stats.ttest_1samp(good.A8, 0.5))\n",
        "print('T Test for bad.A8 ' , scipy.stats.ttest_1samp(bad.A8, 0.5))\n",
        "print('Two tailed T Test for good.A8 and bad.A8 ' , stats.ttest_ind(good.A8, bad.A8))"
      ],
      "execution_count": 125,
      "outputs": [
        {
          "output_type": "stream",
          "text": [
            "T Test for good.A8  Ttest_1sampResult(statistic=12.449289487126055, pvalue=4.6132667541039515e-29)\n",
            "T Test for bad.A8  Ttest_1sampResult(statistic=6.995051170689755, pvalue=1.1936831195754194e-11)\n",
            "Two tailed T Test for good.A8 and bad.A8  Ttest_indResult(statistic=8.935819983773698, pvalue=3.6710537401601785e-18)\n"
          ],
          "name": "stdout"
        }
      ]
    },
    {
      "metadata": {
        "id": "SI45gl8d9EqQ",
        "colab_type": "code",
        "colab": {
          "base_uri": "https://localhost:8080/",
          "height": 68
        },
        "outputId": "e3dcbc2c-895d-4c99-cbb6-e0d17efe4334"
      },
      "cell_type": "code",
      "source": [
        "print('T Test for good.A11 ' , scipy.stats.ttest_1samp(good.A11, 2.400))\n",
        "print('T Test for bad.A11 ' , scipy.stats.ttest_1samp(bad.A11, 2.400))\n",
        "\n",
        "print('Two tailed T Test for good.A11 and bad.A11 ' , stats.ttest_ind(good.A11, bad.A11))"
      ],
      "execution_count": 137,
      "outputs": [
        {
          "output_type": "stream",
          "text": [
            "T Test for good.A11  Ttest_1sampResult(statistic=6.115247963474785, pvalue=2.9376851337382315e-09)\n",
            "T Test for bad.A11  Ttest_1sampResult(statistic=-18.211793670382843, pvalue=8.54839203623047e-54)\n",
            "Two tailed T Test for good.A11 and bad.A11  Ttest_indResult(statistic=11.667004222431277, pvalue=7.957718568079967e-29)\n"
          ],
          "name": "stdout"
        }
      ]
    },
    {
      "metadata": {
        "id": "JR-hluon9yPD",
        "colab_type": "code",
        "colab": {
          "base_uri": "https://localhost:8080/",
          "height": 51
        },
        "outputId": "b7e4e163-faad-4b30-d2ce-08e38bc3e753"
      },
      "cell_type": "code",
      "source": [
        "print('T Test for df.A11 ' , scipy.stats.ttest_1samp(df.A11, 0.5))\n",
        "print('T Test for df.A15 ' , scipy.stats.ttest_1samp(df.A15, 0.5))"
      ],
      "execution_count": 130,
      "outputs": [
        {
          "output_type": "stream",
          "text": [
            "T Test for df.A11  Ttest_1sampResult(statistic=10.263115869755008, pvalue=4.298076068378268e-23)\n",
            "T Test for df.A15  Ttest_1sampResult(statistic=5.126846652016273, pvalue=3.8324079891902166e-07)\n"
          ],
          "name": "stdout"
        }
      ]
    },
    {
      "metadata": {
        "id": "dR2nE3uu9KlU",
        "colab_type": "code",
        "colab": {
          "base_uri": "https://localhost:8080/",
          "height": 68
        },
        "outputId": "9ddc4ad8-23f1-4f9b-9bfd-8683bfcbd85d"
      },
      "cell_type": "code",
      "source": [
        "print('T Test for good.A14 ' , scipy.stats.ttest_1samp(good.A14, 0.5))\n",
        "print('T Test for bad.A14 ' , scipy.stats.ttest_1samp(bad.A14, 0.5))\n",
        "print('Two tailed T Test for good.A14 and bad.A14 ' , stats.ttest_ind(good.A14, bad.A14))"
      ],
      "execution_count": 127,
      "outputs": [
        {
          "output_type": "stream",
          "text": [
            "T Test for good.A14  Ttest_1sampResult(statistic=nan, pvalue=nan)\n",
            "T Test for bad.A14  Ttest_1sampResult(statistic=nan, pvalue=nan)\n",
            "Two tailed T Test for good.A14 and bad.A14  Ttest_indResult(statistic=nan, pvalue=nan)\n"
          ],
          "name": "stdout"
        }
      ]
    },
    {
      "metadata": {
        "id": "KX8B_cDtkjEx",
        "colab_type": "text"
      },
      "cell_type": "markdown",
      "source": [
        "## Well, I still dont know if I understand this, so MORE tests! CHI SQUARED to the rescue!\n",
        "\n",
        "So we will look at the chi squared of several categorical features of the dataset against A16, still seperated by good and bad.\n",
        "We are using columns: A4, A1, and A6. I also did a chi quared on the entire dataset for columns A13 and A16."
      ]
    },
    {
      "metadata": {
        "id": "rRFaF-8VjQtM",
        "colab_type": "code",
        "colab": {
          "base_uri": "https://localhost:8080/",
          "height": 102
        },
        "outputId": "43edfa37-0d76-4770-d56d-be82c8bb71a1"
      },
      "cell_type": "code",
      "source": [
        "good_tab_a4 = pd.crosstab(good.A4, good.A16)\n",
        "print(good_tab_a4)"
      ],
      "execution_count": 72,
      "outputs": [
        {
          "output_type": "stream",
          "text": [
            "A16    +\n",
            "A4      \n",
            "l      2\n",
            "u    256\n",
            "y     45\n"
          ],
          "name": "stdout"
        }
      ]
    },
    {
      "metadata": {
        "id": "erKcJF1twG0d",
        "colab_type": "code",
        "colab": {
          "base_uri": "https://localhost:8080/",
          "height": 34
        },
        "outputId": "373e77ac-109f-47ba-cfc3-bf2feab01787"
      },
      "cell_type": "code",
      "source": [
        "from scipy.stats import chisquare\n",
        "print('The Chi-Squared good results for A4 and A16 crosstab: ', chisquare(good_tab_a4, axis=None))"
      ],
      "execution_count": 100,
      "outputs": [
        {
          "output_type": "stream",
          "text": [
            "The Chi-Squared good results for A4 and A16 crosstab:  Power_divergenceResult(statistic=365.960396039604, pvalue=3.409649225976067e-80)\n"
          ],
          "name": "stdout"
        }
      ]
    },
    {
      "metadata": {
        "id": "3VRIcVI-ukSn",
        "colab_type": "code",
        "colab": {
          "base_uri": "https://localhost:8080/",
          "height": 85
        },
        "outputId": "5a23ed3e-8b5c-4a9e-ab0a-f868798dfd93"
      },
      "cell_type": "code",
      "source": [
        "bad_tab_a4 = pd.crosstab(bad.A4, bad.A16)\n",
        "print(bad_tab_a4)"
      ],
      "execution_count": 75,
      "outputs": [
        {
          "output_type": "stream",
          "text": [
            "A16    -\n",
            "A4      \n",
            "u    263\n",
            "y    118\n"
          ],
          "name": "stdout"
        }
      ]
    },
    {
      "metadata": {
        "id": "5Ecvt0RHwGi-",
        "colab_type": "code",
        "colab": {
          "base_uri": "https://localhost:8080/",
          "height": 34
        },
        "outputId": "43fc1a1e-1151-4aaf-d2c8-01297fc80ba8"
      },
      "cell_type": "code",
      "source": [
        "print('The Chi-Squared bad results for A4 and A16 crosstab: ', chisquare(bad_tab_a4, axis=None))"
      ],
      "execution_count": 99,
      "outputs": [
        {
          "output_type": "stream",
          "text": [
            "The Chi-Squared bad results for A4 and A16 crosstab:  Power_divergenceResult(statistic=55.183727034120736, pvalue=1.0977380519420046e-13)\n"
          ],
          "name": "stdout"
        }
      ]
    },
    {
      "metadata": {
        "id": "FwfVwMZzuuqZ",
        "colab_type": "code",
        "colab": {
          "base_uri": "https://localhost:8080/",
          "height": 85
        },
        "outputId": "b7792f47-fb39-4ddb-f863-5a8d0ba52488"
      },
      "cell_type": "code",
      "source": [
        "good_tab_a1 = pd.crosstab(good.A1, good.A16)\n",
        "print(good_tab_a1)"
      ],
      "execution_count": 77,
      "outputs": [
        {
          "output_type": "stream",
          "text": [
            "A16    +\n",
            "A1      \n",
            "a     98\n",
            "b    206\n"
          ],
          "name": "stdout"
        }
      ]
    },
    {
      "metadata": {
        "id": "LosRmC9-wDLe",
        "colab_type": "code",
        "colab": {
          "base_uri": "https://localhost:8080/",
          "height": 34
        },
        "outputId": "d152b726-065e-4b76-8f56-db519d937731"
      },
      "cell_type": "code",
      "source": [
        "print('The Chi-Squared good results for A1 and A16 crosstab: ', chisquare(good_tab_a1, axis=None))"
      ],
      "execution_count": 98,
      "outputs": [
        {
          "output_type": "stream",
          "text": [
            "The Chi-Squared good results for A1 and A16 crosstab:  Power_divergenceResult(statistic=38.36842105263158, pvalue=5.857257573144452e-10)\n"
          ],
          "name": "stdout"
        }
      ]
    },
    {
      "metadata": {
        "id": "mqa4hyBawYg3",
        "colab_type": "code",
        "colab": {
          "base_uri": "https://localhost:8080/",
          "height": 85
        },
        "outputId": "fe28f524-3a45-4c9c-d63c-5360522223b5"
      },
      "cell_type": "code",
      "source": [
        "bad_tab_a1 = pd.crosstab(bad.A1, bad.A16)\n",
        "print(bad_tab_a1)"
      ],
      "execution_count": 79,
      "outputs": [
        {
          "output_type": "stream",
          "text": [
            "A16    -\n",
            "A1      \n",
            "a    112\n",
            "b    262\n"
          ],
          "name": "stdout"
        }
      ]
    },
    {
      "metadata": {
        "id": "OOGUFTpwxMhl",
        "colab_type": "code",
        "colab": {
          "base_uri": "https://localhost:8080/",
          "height": 34
        },
        "outputId": "4f605df0-ecbc-4dc1-d0dc-080a40f4e618"
      },
      "cell_type": "code",
      "source": [
        "print('The Chi-Squared bad results for A1 and A16 crosstab: ', chisquare(bad_tab_a1, axis=None))"
      ],
      "execution_count": 97,
      "outputs": [
        {
          "output_type": "stream",
          "text": [
            "The Chi-Squared bad results for A1 and A16 crosstab:  Power_divergenceResult(statistic=60.160427807486634, pvalue=8.74324571943503e-15)\n"
          ],
          "name": "stdout"
        }
      ]
    },
    {
      "metadata": {
        "id": "2z88qdYlu34Q",
        "colab_type": "code",
        "colab": {
          "base_uri": "https://localhost:8080/",
          "height": 289
        },
        "outputId": "b2268ec9-03f3-4772-8e88-fd91cf60b66f"
      },
      "cell_type": "code",
      "source": [
        "good_tab_a6 = pd.crosstab(good.A6, good.A16)\n",
        "print(good_tab_a6)"
      ],
      "execution_count": 84,
      "outputs": [
        {
          "output_type": "stream",
          "text": [
            "A16   +\n",
            "A6     \n",
            "aa   19\n",
            "c    62\n",
            "cc   29\n",
            "d     7\n",
            "e    14\n",
            "ff    7\n",
            "i    14\n",
            "j     3\n",
            "k    14\n",
            "m    16\n",
            "q    51\n",
            "r     2\n",
            "w    33\n",
            "x    32\n"
          ],
          "name": "stdout"
        }
      ]
    },
    {
      "metadata": {
        "id": "M7voeWVJvOr_",
        "colab_type": "code",
        "colab": {
          "base_uri": "https://localhost:8080/",
          "height": 34
        },
        "outputId": "bac35680-f01d-46af-f354-21070df0082b"
      },
      "cell_type": "code",
      "source": [
        "print('The Chi-Squared good results for A6 and A16 crosstab: ', chisquare(good_tab_a6, axis=None))"
      ],
      "execution_count": 96,
      "outputs": [
        {
          "output_type": "stream",
          "text": [
            "The Chi-Squared good results for A6 and A16 crosstab:  Power_divergenceResult(statistic=192.0825082508251, pvalue=5.7469641750123415e-34)\n"
          ],
          "name": "stdout"
        }
      ]
    },
    {
      "metadata": {
        "id": "gjMNonzjwjuN",
        "colab_type": "code",
        "colab": {
          "base_uri": "https://localhost:8080/",
          "height": 289
        },
        "outputId": "b6c7d741-cb6e-4459-f6a9-ff66a01c2a73"
      },
      "cell_type": "code",
      "source": [
        "bad_tab_a6 = pd.crosstab(bad.A6, bad.A16)\n",
        "print(bad_tab_a6)"
      ],
      "execution_count": 86,
      "outputs": [
        {
          "output_type": "stream",
          "text": [
            "A16   -\n",
            "A6     \n",
            "aa   35\n",
            "c    75\n",
            "cc   12\n",
            "d    23\n",
            "e    11\n",
            "ff   46\n",
            "i    45\n",
            "j     7\n",
            "k    37\n",
            "m    22\n",
            "q    27\n",
            "r     1\n",
            "w    31\n",
            "x     6\n"
          ],
          "name": "stdout"
        }
      ]
    },
    {
      "metadata": {
        "id": "1cfWfaiOwrFs",
        "colab_type": "code",
        "colab": {
          "base_uri": "https://localhost:8080/",
          "height": 34
        },
        "outputId": "377c236f-238f-482a-d1fa-8fbd234772ff"
      },
      "cell_type": "code",
      "source": [
        "print('The Chi-Squared bad results for A6 and A16 crosstab: ', chisquare(bad_tab_a6, axis=None))"
      ],
      "execution_count": 95,
      "outputs": [
        {
          "output_type": "stream",
          "text": [
            "The Chi-Squared bad results for A6 and A16 crosstab:  Power_divergenceResult(statistic=192.88888888888889, pvalue=3.9285658300323e-34)\n"
          ],
          "name": "stdout"
        }
      ]
    },
    {
      "metadata": {
        "id": "M-ziBpX5xAfU",
        "colab_type": "code",
        "colab": {
          "base_uri": "https://localhost:8080/",
          "height": 85
        },
        "outputId": "0a8e3676-eeea-4ea1-f1db-f558144a3a45"
      },
      "cell_type": "code",
      "source": [
        "df_tab_a1 = pd.crosstab(df.A1, df.A16)\n",
        "print(df_tab_a1)"
      ],
      "execution_count": 102,
      "outputs": [
        {
          "output_type": "stream",
          "text": [
            "A16    +    -\n",
            "A1           \n",
            "a     98  112\n",
            "b    206  262\n"
          ],
          "name": "stdout"
        }
      ]
    },
    {
      "metadata": {
        "id": "EyfHKH_vwfpE",
        "colab_type": "code",
        "colab": {
          "base_uri": "https://localhost:8080/",
          "height": 34
        },
        "outputId": "f7dd0e7b-7d1a-4ff4-b1ec-9af886a14dba"
      },
      "cell_type": "code",
      "source": [
        "print('The Chi-Squared results for A1 and A16 crosstab: ', chisquare(df_tab_a1, axis=None))"
      ],
      "execution_count": 103,
      "outputs": [
        {
          "output_type": "stream",
          "text": [
            "The Chi-Squared results for A1 and A16 crosstab:  Power_divergenceResult(statistic=108.00589970501474, pvalue=2.947455715876286e-23)\n"
          ],
          "name": "stdout"
        }
      ]
    },
    {
      "metadata": {
        "id": "8S2jI1gP1fet",
        "colab_type": "code",
        "colab": {
          "base_uri": "https://localhost:8080/",
          "height": 102
        },
        "outputId": "6d351431-b11a-4a1e-86c6-f955ee66a6af"
      },
      "cell_type": "code",
      "source": [
        "df_tab_a4 = pd.crosstab(df.A4, df.A16)\n",
        "print(df_tab_a4)"
      ],
      "execution_count": 104,
      "outputs": [
        {
          "output_type": "stream",
          "text": [
            "A16    +    -\n",
            "A4           \n",
            "l      2    0\n",
            "u    256  263\n",
            "y     45  118\n"
          ],
          "name": "stdout"
        }
      ]
    },
    {
      "metadata": {
        "id": "R7AuD4O91lGX",
        "colab_type": "code",
        "colab": {
          "base_uri": "https://localhost:8080/",
          "height": 34
        },
        "outputId": "bf92a246-a58e-4350-a2ef-c618fa70d602"
      },
      "cell_type": "code",
      "source": [
        "print('The Chi-Squared results for A4 and A16 crosstab: ', chisquare(df_tab_a4, axis=None))"
      ],
      "execution_count": 105,
      "outputs": [
        {
          "output_type": "stream",
          "text": [
            "The Chi-Squared results for A4 and A16 crosstab:  Power_divergenceResult(statistic=637.561403508772, pvalue=1.545055409454076e-135)\n"
          ],
          "name": "stdout"
        }
      ]
    },
    {
      "metadata": {
        "id": "cR19ePFc1qeM",
        "colab_type": "code",
        "colab": {
          "base_uri": "https://localhost:8080/",
          "height": 289
        },
        "outputId": "1e54603c-2f0b-417b-8ce3-3517bf60154e"
      },
      "cell_type": "code",
      "source": [
        "df_tab_a6 = pd.crosstab(df.A6, df.A16)\n",
        "print(df_tab_a6)"
      ],
      "execution_count": 107,
      "outputs": [
        {
          "output_type": "stream",
          "text": [
            "A16   +   -\n",
            "A6         \n",
            "aa   19  35\n",
            "c    62  75\n",
            "cc   29  12\n",
            "d     7  23\n",
            "e    14  11\n",
            "ff    7  46\n",
            "i    14  45\n",
            "j     3   7\n",
            "k    14  37\n",
            "m    16  22\n",
            "q    51  27\n",
            "r     2   1\n",
            "w    33  31\n",
            "x    32   6\n"
          ],
          "name": "stdout"
        }
      ]
    },
    {
      "metadata": {
        "id": "FtvGddEg1qj7",
        "colab_type": "code",
        "colab": {
          "base_uri": "https://localhost:8080/",
          "height": 34
        },
        "outputId": "33f3b0dc-fba4-4e26-b334-8d241a7fe8e1"
      },
      "cell_type": "code",
      "source": [
        "print('The Chi-Squared results for A6 and A16 crosstab: ', chisquare(df_tab_a6, axis=None))"
      ],
      "execution_count": 108,
      "outputs": [
        {
          "output_type": "stream",
          "text": [
            "The Chi-Squared results for A6 and A16 crosstab:  Power_divergenceResult(statistic=393.3201174743025, pvalue=1.1436746143425977e-66)\n"
          ],
          "name": "stdout"
        }
      ]
    },
    {
      "metadata": {
        "id": "ZM8JckA2bgnp",
        "colab_type": "text"
      },
      "cell_type": "markdown",
      "source": [
        "## Part 3 - Analysis and Interpretation\n",
        "\n",
        "Now that you've looked at the data, answer the following questions:\n",
        "\n",
        "- Interpret and explain the two t-tests you ran - what do they tell you about the relationships between the continuous features you selected and the class labels?\n",
        "- Interpret and explain the two Chi-squared tests you ran - what do they tell you about the relationships between the categorical features you selected and the class labels?\n",
        "- What was the most challenging part of this sprint challenge?\n",
        "\n",
        "Answer with text, but feel free to intersperse example code/results or refer to it from earlier."
      ]
    },
    {
      "metadata": {
        "id": "LIozLDNG2Uhu",
        "colab_type": "text"
      },
      "cell_type": "markdown",
      "source": [
        "Our **T Test** is used to determine if the mean of our sample datasets are significantly different than the population means. The population means for A11 is 2.400 and A15 is 1017.386.\n",
        "\n",
        "Tests:\n",
        "T Test for good.A15  Ttest_1sampResult(statistic=2.3365846338986787, pvalue=0.020105944183966846)\n",
        "T Test for bad.A15  Ttest_1sampResult(statistic=-23.858866910185004, pvalue=1.1004621903621446e-77)\n",
        "Two tailed T Test for good.A15 and bad.A15  Ttest_indResult(statistic=4.680216020964486, pvalue=3.4520256956287944e-06)\n",
        "\n",
        "T Test for good.A11  Ttest_1sampResult(statistic=6.115247963474785, pvalue=2.9376851337382315e-09)\n",
        "T Test for bad.A11  Ttest_1sampResult(statistic=-18.211793670382843, pvalue=8.54839203623047e-54)\n",
        "T Test for df.A11  Ttest_1sampResult(statistic=10.263115869755008, pvalue=4.298076068378268e-23)\n",
        "Two tailed T Test for good.A11 and bad.A11  Ttest_indResult(statistic=11.667004222431277, pvalue=7.957718568079967e-29)\n",
        "\n",
        "For A15, our mean in the good group was higher than the population group and the pvalue is low enough that we would reject our null hypothesis. The mean for the bad group is much lower than the mean for the population and with a high pvalue we would not be able to reject the null hypothesis. \n",
        "\n",
        "For A11, our good group again had a higher mean but with a high pvalue we can not reject the null hypothesis. For the bad group we see the mean is lower than the population and with a high pvalue we again can not reject the null hypothesis. \n",
        "\n",
        "Out two tailed t test shows that A15 and A11 play a larger role in determining creditworthiness for the good group than the bad group. "
      ]
    },
    {
      "metadata": {
        "id": "_y1-6Kvt57sm",
        "colab_type": "text"
      },
      "cell_type": "markdown",
      "source": [
        "My **Chi-Squared** results are as follows: \n",
        "Variables used: A16 is the constant variable between each.\n",
        "A1, A4, A6 were the columns I used to match with A16. \n",
        "I split the data between the two possible results in A16, '+' was good or '-' was bad, into their own datasets. I then performed the Chi-Square test on each of these three columns:\n",
        "\n",
        "The Chi-Squared good results for A1 and A16 crosstab:  Power_divergenceResult(statistic=38.36842105263158, pvalue=5.857257573144452e-10)\n",
        "The Chi-Squared bad results for A1 and A16 crosstab:  Power_divergenceResult(statistic=60.160427807486634, pvalue=8.74324571943503e-15)\n",
        "\n",
        "The Chi-Squared good results for A4 and A16 crosstab:  Power_divergenceResult(statistic=365.960396039604, pvalue=3.409649225976067e-80)\n",
        "The Chi-Squared bad results for A4 and A16 crosstab:  Power_divergenceResult(statistic=55.183727034120736, pvalue=1.0977380519420046e-13)\n",
        "\n",
        "The Chi-Squared good results for A6 and A16 crosstab:  Power_divergenceResult(statistic=192.0825082508251, pvalue=5.7469641750123415e-34)\n",
        "The Chi-Squared bad results for A6 and A16 crosstab:  Power_divergenceResult(statistic=192.88888888888889, pvalue=3.9285658300323e-34)\n",
        "\n",
        "The Chi-Squared results for the entire dataset for A1 and A16 crosstab:  Power_divergenceResult(statistic=108.00589970501474, pvalue=2.947455715876286e-23)\n",
        "The Chi-Squared results for the entire dataset for A4 and A16 crosstab:  Power_divergenceResult(statistic=637.561403508772, pvalue=1.545055409454076e-135)\n",
        "The Chi-Squared results for the entire dataset for A6 and A16 crosstab:  Power_divergenceResult(statistic=393.3201174743025, pvalue=1.1436746143425977e-66)\n",
        "\n",
        "We use this Chi-Square to test if the variables are related. If they are related then we would expect a very low Chi-Square statistic and if they are unrelated we would get a large statistic. \n",
        "For our good datset here are the following statistics:\n",
        "A1 and A16 - 38.368\n",
        "A4 and A16 - 365.960\n",
        "A6 and A16 - 192.083\n",
        "\n",
        "For our bad dataset here are the following statistics:\n",
        "A1 and A16 - 60.160\n",
        "A4 and A16 - 55.184\n",
        "A6 and A16 - 192.889\n",
        "\n",
        "For the entire dataset, not splitting on A16, here is the following statistics:\n",
        "A1 and A16 - 108.006\n",
        "A4 and A16 - 637.561\n",
        "A6 and A16 - 393.320\n",
        "\n",
        "Looking at these Chi-Square statistics I would surmise that the A1 and A16 columns are closely related, at least more related than A4 or A6 is to A16. A1 would be more likely to help make inferences on A16 than A4 or A6 would. \n",
        "\n",
        "We can see that A1 in the good dataset appears to be more closely related to A16 then it is in the bad dataset, so if we are assuming that people in the good dataset are more creditworthy than those in the bad dataset, then A1 appears to be a good indicator of creditworthiness. \n",
        "\n",
        "A4 has a lower Chi-Square statistic in our bad dataset than in our good dataset, which I assume means that this is also a good determinant for creditworthiness, as it appears more frequently in the people who are not deemed worthy of additional credit. For those with bad credit, A4 plays a larger role in credit declines than it does for those with good credit. \n",
        "\n",
        "A6 has a near identical score between the good and bad dataset so it seems this is not a large factor in determining creditworthiness, as there is no change between the two groups for this variable. "
      ]
    },
    {
      "metadata": {
        "id": "KjmWbbwdBiYx",
        "colab_type": "text"
      },
      "cell_type": "markdown",
      "source": [
        "The most difficult  part of this challenge was determining which features were the best ones to use. It took some work to figure out which were the more extreme cases. But the whole thing was a bit scary. "
      ]
    }
  ]
}