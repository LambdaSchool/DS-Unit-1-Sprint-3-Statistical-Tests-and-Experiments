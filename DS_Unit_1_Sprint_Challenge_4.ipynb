{
  "nbformat": 4,
  "nbformat_minor": 0,
  "metadata": {
    "colab": {
      "name": "DS_Unit_1_Sprint_Challenge_4.ipynb",
      "version": "0.3.2",
      "provenance": [],
      "collapsed_sections": [],
      "include_colab_link": true
    },
    "kernelspec": {
      "name": "python3",
      "display_name": "Python 3"
    }
  },
  "cells": [
    {
      "cell_type": "markdown",
      "metadata": {
        "id": "view-in-github",
        "colab_type": "text"
      },
      "source": [
        "<a href=\"https://colab.research.google.com/github/tbradshaw91/DS-Unit-1-Sprint-4-Statistical-Tests-and-Experiments/blob/master/DS_Unit_1_Sprint_Challenge_4.ipynb\" target=\"_parent\"><img src=\"https://colab.research.google.com/assets/colab-badge.svg\" alt=\"Open In Colab\"/></a>"
      ]
    },
    {
      "metadata": {
        "id": "NooAiTdnafkz",
        "colab_type": "text"
      },
      "cell_type": "markdown",
      "source": [
        "# Data Science Unit 1 Sprint Challenge 4\n",
        "\n",
        "## Exploring Data, Testing Hypotheses\n",
        "\n",
        "In this sprint challenge you will look at a dataset of people being approved or rejected for credit.\n",
        "\n",
        "https://archive.ics.uci.edu/ml/datasets/Credit+Approval\n",
        "\n",
        "Data Set Information: This file concerns credit card applications. All attribute names and values have been changed to meaningless symbols to protect confidentiality of the data. This dataset is interesting because there is a good mix of attributes -- continuous, nominal with small numbers of values, and nominal with larger numbers of values. There are also a few missing values.\n",
        "\n",
        "Attribute Information:\n",
        "- A1: b, a.\n",
        "- A2: continuous.\n",
        "- A3: continuous.\n",
        "- A4: u, y, l, t.\n",
        "- A5: g, p, gg.\n",
        "- A6: c, d, cc, i, j, k, m, r, q, w, x, e, aa, ff.\n",
        "- A7: v, h, bb, j, n, z, dd, ff, o.\n",
        "- A8: continuous.\n",
        "- A9: t, f.\n",
        "- A10: t, f.\n",
        "- A11: continuous.\n",
        "- A12: t, f.\n",
        "- A13: g, p, s.\n",
        "- A14: continuous.\n",
        "- A15: continuous.\n",
        "- A16: +,- (class attribute)\n",
        "\n",
        "Yes, most of that doesn't mean anything. A16 (the class attribute) is the most interesting, as it separates the 307 approved cases from the 383 rejected cases. The remaining variables have been obfuscated for privacy - a challenge you may have to deal with in your data science career.\n",
        "\n",
        "Sprint challenges are evaluated based on satisfactory completion of each part. It is suggested you work through it in order, getting each aspect reasonably working, before trying to deeply explore, iterate, or refine any given step. Once you get to the end, if you want to go back and improve things, go for it!"
      ]
    },
    {
      "metadata": {
        "id": "5wch6ksCbJtZ",
        "colab_type": "text"
      },
      "cell_type": "markdown",
      "source": [
        "## Part 1 - Load and validate the data\n",
        "\n",
        "- Load the data as a `pandas` data frame.\n",
        "- Validate that it has the appropriate number of observations (you can check the raw file, and also read the dataset description from UCI).\n",
        "- UCI says there should be missing data - check, and if necessary change the data so pandas recognizes it as na\n",
        "- Make sure that the loaded features are of the types described above (continuous values should be treated as float), and correct as necessary\n",
        "\n",
        "This is review, but skills that you'll use at the start of any data exploration. Further, you may have to do some investigation to figure out which file to load from - that is part of the puzzle."
      ]
    },
    {
      "metadata": {
        "id": "CxVvPebUGK-T",
        "colab_type": "text"
      },
      "cell_type": "markdown",
      "source": [
        "## **Load the data as a pandas dataframe**"
      ]
    },
    {
      "metadata": {
        "id": "Ch9f7qdFRUsU",
        "colab_type": "code",
        "colab": {
          "base_uri": "https://localhost:8080/",
          "height": 221
        },
        "outputId": "8d23603f-781f-413c-a73e-07a43eb19976"
      },
      "cell_type": "code",
      "source": [
        "!pip install seaborn==0.9.0"
      ],
      "execution_count": 2,
      "outputs": [
        {
          "output_type": "stream",
          "text": [
            "Requirement already satisfied: seaborn==0.9.0 in /usr/local/lib/python3.6/dist-packages (0.9.0)\n",
            "Requirement already satisfied: scipy>=0.14.0 in /usr/local/lib/python3.6/dist-packages (from seaborn==0.9.0) (1.1.0)\n",
            "Requirement already satisfied: pandas>=0.15.2 in /usr/local/lib/python3.6/dist-packages (from seaborn==0.9.0) (0.22.0)\n",
            "Requirement already satisfied: numpy>=1.9.3 in /usr/local/lib/python3.6/dist-packages (from seaborn==0.9.0) (1.14.6)\n",
            "Requirement already satisfied: matplotlib>=1.4.3 in /usr/local/lib/python3.6/dist-packages (from seaborn==0.9.0) (3.0.3)\n",
            "Requirement already satisfied: python-dateutil>=2 in /usr/local/lib/python3.6/dist-packages (from pandas>=0.15.2->seaborn==0.9.0) (2.5.3)\n",
            "Requirement already satisfied: pytz>=2011k in /usr/local/lib/python3.6/dist-packages (from pandas>=0.15.2->seaborn==0.9.0) (2018.9)\n",
            "Requirement already satisfied: cycler>=0.10 in /usr/local/lib/python3.6/dist-packages (from matplotlib>=1.4.3->seaborn==0.9.0) (0.10.0)\n",
            "Requirement already satisfied: pyparsing!=2.0.4,!=2.1.2,!=2.1.6,>=2.0.1 in /usr/local/lib/python3.6/dist-packages (from matplotlib>=1.4.3->seaborn==0.9.0) (2.4.0)\n",
            "Requirement already satisfied: kiwisolver>=1.0.1 in /usr/local/lib/python3.6/dist-packages (from matplotlib>=1.4.3->seaborn==0.9.0) (1.0.1)\n",
            "Requirement already satisfied: six>=1.5 in /usr/local/lib/python3.6/dist-packages (from python-dateutil>=2->pandas>=0.15.2->seaborn==0.9.0) (1.11.0)\n",
            "Requirement already satisfied: setuptools in /usr/local/lib/python3.6/dist-packages (from kiwisolver>=1.0.1->matplotlib>=1.4.3->seaborn==0.9.0) (40.9.0)\n"
          ],
          "name": "stdout"
        }
      ]
    },
    {
      "metadata": {
        "id": "90OhNwE3G7xG",
        "colab_type": "code",
        "colab": {}
      },
      "cell_type": "code",
      "source": [
        "import requests\n",
        "\n",
        "def attributes(names: str):\n",
        "    r = requests.get(names)\n",
        "    \n",
        "    attr_found, blank_count = [False] * 2\n",
        "    attrs = {}\n",
        "    for i, line in enumerate(r.text.split('\\n')):\n",
        "        if 'Attribute Information' in line:\n",
        "            attr_found = True\n",
        "            continue\n",
        "        if attr_found and not line:\n",
        "            blank_count += 1\n",
        "\n",
        "            if blank_count==2:\n",
        "                break\n",
        "\n",
        "            continue\n",
        "        if attr_found:\n",
        "            attr = (line.replace('  ', '')\n",
        "                        .replace('\\t', '')\n",
        "                        .replace('.', '').split(':'))\n",
        "            attrs[attr[0]] = attr[1]\n",
        "\n",
        "    return attrs"
      ],
      "execution_count": 0,
      "outputs": []
    },
    {
      "metadata": {
        "id": "uJUXrJA-GzYC",
        "colab_type": "code",
        "colab": {}
      },
      "cell_type": "code",
      "source": [
        "import pandas as pd\n",
        "import numpy as np\n",
        "\n",
        "names = 'https://archive.ics.uci.edu/ml/machine-learning-databases/credit-screening/crx.names'\n",
        "data = 'https://archive.ics.uci.edu/ml/machine-learning-databases/credit-screening/crx.data'\n",
        "\n",
        "attrs = attributes(names)\n",
        "credit_data = pd.read_csv(data, names=attrs.keys())"
      ],
      "execution_count": 0,
      "outputs": []
    },
    {
      "metadata": {
        "id": "Q79xDLckzibS",
        "colab_type": "code",
        "colab": {
          "base_uri": "https://localhost:8080/",
          "height": 204
        },
        "outputId": "84f56d9b-930b-4bd3-8d37-d9aa3bbd7785"
      },
      "cell_type": "code",
      "source": [
        "credit_data.head()"
      ],
      "execution_count": 8,
      "outputs": [
        {
          "output_type": "execute_result",
          "data": {
            "text/html": [
              "<div>\n",
              "<style scoped>\n",
              "    .dataframe tbody tr th:only-of-type {\n",
              "        vertical-align: middle;\n",
              "    }\n",
              "\n",
              "    .dataframe tbody tr th {\n",
              "        vertical-align: top;\n",
              "    }\n",
              "\n",
              "    .dataframe thead th {\n",
              "        text-align: right;\n",
              "    }\n",
              "</style>\n",
              "<table border=\"1\" class=\"dataframe\">\n",
              "  <thead>\n",
              "    <tr style=\"text-align: right;\">\n",
              "      <th></th>\n",
              "      <th>A1</th>\n",
              "      <th>A2</th>\n",
              "      <th>A3</th>\n",
              "      <th>A4</th>\n",
              "      <th>A5</th>\n",
              "      <th>A6</th>\n",
              "      <th>A7</th>\n",
              "      <th>A8</th>\n",
              "      <th>A9</th>\n",
              "      <th>A10</th>\n",
              "      <th>A11</th>\n",
              "      <th>A12</th>\n",
              "      <th>A13</th>\n",
              "      <th>A14</th>\n",
              "      <th>A15</th>\n",
              "      <th>A16</th>\n",
              "    </tr>\n",
              "  </thead>\n",
              "  <tbody>\n",
              "    <tr>\n",
              "      <th>0</th>\n",
              "      <td>b</td>\n",
              "      <td>30.83</td>\n",
              "      <td>0.000</td>\n",
              "      <td>u</td>\n",
              "      <td>g</td>\n",
              "      <td>w</td>\n",
              "      <td>v</td>\n",
              "      <td>1.25</td>\n",
              "      <td>t</td>\n",
              "      <td>t</td>\n",
              "      <td>1</td>\n",
              "      <td>f</td>\n",
              "      <td>g</td>\n",
              "      <td>00202</td>\n",
              "      <td>0</td>\n",
              "      <td>+</td>\n",
              "    </tr>\n",
              "    <tr>\n",
              "      <th>1</th>\n",
              "      <td>a</td>\n",
              "      <td>58.67</td>\n",
              "      <td>4.460</td>\n",
              "      <td>u</td>\n",
              "      <td>g</td>\n",
              "      <td>q</td>\n",
              "      <td>h</td>\n",
              "      <td>3.04</td>\n",
              "      <td>t</td>\n",
              "      <td>t</td>\n",
              "      <td>6</td>\n",
              "      <td>f</td>\n",
              "      <td>g</td>\n",
              "      <td>00043</td>\n",
              "      <td>560</td>\n",
              "      <td>+</td>\n",
              "    </tr>\n",
              "    <tr>\n",
              "      <th>2</th>\n",
              "      <td>a</td>\n",
              "      <td>24.50</td>\n",
              "      <td>0.500</td>\n",
              "      <td>u</td>\n",
              "      <td>g</td>\n",
              "      <td>q</td>\n",
              "      <td>h</td>\n",
              "      <td>1.50</td>\n",
              "      <td>t</td>\n",
              "      <td>f</td>\n",
              "      <td>0</td>\n",
              "      <td>f</td>\n",
              "      <td>g</td>\n",
              "      <td>00280</td>\n",
              "      <td>824</td>\n",
              "      <td>+</td>\n",
              "    </tr>\n",
              "    <tr>\n",
              "      <th>3</th>\n",
              "      <td>b</td>\n",
              "      <td>27.83</td>\n",
              "      <td>1.540</td>\n",
              "      <td>u</td>\n",
              "      <td>g</td>\n",
              "      <td>w</td>\n",
              "      <td>v</td>\n",
              "      <td>3.75</td>\n",
              "      <td>t</td>\n",
              "      <td>t</td>\n",
              "      <td>5</td>\n",
              "      <td>t</td>\n",
              "      <td>g</td>\n",
              "      <td>00100</td>\n",
              "      <td>3</td>\n",
              "      <td>+</td>\n",
              "    </tr>\n",
              "    <tr>\n",
              "      <th>4</th>\n",
              "      <td>b</td>\n",
              "      <td>20.17</td>\n",
              "      <td>5.625</td>\n",
              "      <td>u</td>\n",
              "      <td>g</td>\n",
              "      <td>w</td>\n",
              "      <td>v</td>\n",
              "      <td>1.71</td>\n",
              "      <td>t</td>\n",
              "      <td>f</td>\n",
              "      <td>0</td>\n",
              "      <td>f</td>\n",
              "      <td>s</td>\n",
              "      <td>00120</td>\n",
              "      <td>0</td>\n",
              "      <td>+</td>\n",
              "    </tr>\n",
              "  </tbody>\n",
              "</table>\n",
              "</div>"
            ],
            "text/plain": [
              "  A1     A2     A3 A4 A5 A6 A7    A8 A9 A10  A11 A12 A13    A14  A15 A16\n",
              "0  b  30.83  0.000  u  g  w  v  1.25  t   t    1   f   g  00202    0   +\n",
              "1  a  58.67  4.460  u  g  q  h  3.04  t   t    6   f   g  00043  560   +\n",
              "2  a  24.50  0.500  u  g  q  h  1.50  t   f    0   f   g  00280  824   +\n",
              "3  b  27.83  1.540  u  g  w  v  3.75  t   t    5   t   g  00100    3   +\n",
              "4  b  20.17  5.625  u  g  w  v  1.71  t   f    0   f   s  00120    0   +"
            ]
          },
          "metadata": {
            "tags": []
          },
          "execution_count": 8
        }
      ]
    },
    {
      "metadata": {
        "id": "_907wmUsGP-f",
        "colab_type": "text"
      },
      "cell_type": "markdown",
      "source": [
        "## **Validate that it has the appropriate number of observations**\n",
        "\n",
        "\n",
        "*   Check the raw file OR\n",
        "*   Read the DS description from UCI \n",
        "\n"
      ]
    },
    {
      "metadata": {
        "id": "qtFax20XGfW9",
        "colab_type": "code",
        "colab": {
          "base_uri": "https://localhost:8080/",
          "height": 34
        },
        "outputId": "084cf404-5c8f-4e60-c1cb-90a1b9909a58"
      },
      "cell_type": "code",
      "source": [
        "# Ok, same size\n",
        "credit_data.shape"
      ],
      "execution_count": 9,
      "outputs": [
        {
          "output_type": "execute_result",
          "data": {
            "text/plain": [
              "(690, 16)"
            ]
          },
          "metadata": {
            "tags": []
          },
          "execution_count": 9
        }
      ]
    },
    {
      "metadata": {
        "id": "XL1uYncdI2Fz",
        "colab_type": "code",
        "colab": {
          "base_uri": "https://localhost:8080/",
          "height": 390
        },
        "outputId": "8adf6d82-99a1-4807-ca8a-e947f2766a8d"
      },
      "cell_type": "code",
      "source": [
        "credit_data.describe(include='all')"
      ],
      "execution_count": 10,
      "outputs": [
        {
          "output_type": "execute_result",
          "data": {
            "text/html": [
              "<div>\n",
              "<style scoped>\n",
              "    .dataframe tbody tr th:only-of-type {\n",
              "        vertical-align: middle;\n",
              "    }\n",
              "\n",
              "    .dataframe tbody tr th {\n",
              "        vertical-align: top;\n",
              "    }\n",
              "\n",
              "    .dataframe thead th {\n",
              "        text-align: right;\n",
              "    }\n",
              "</style>\n",
              "<table border=\"1\" class=\"dataframe\">\n",
              "  <thead>\n",
              "    <tr style=\"text-align: right;\">\n",
              "      <th></th>\n",
              "      <th>A1</th>\n",
              "      <th>A2</th>\n",
              "      <th>A3</th>\n",
              "      <th>A4</th>\n",
              "      <th>A5</th>\n",
              "      <th>A6</th>\n",
              "      <th>A7</th>\n",
              "      <th>A8</th>\n",
              "      <th>A9</th>\n",
              "      <th>A10</th>\n",
              "      <th>A11</th>\n",
              "      <th>A12</th>\n",
              "      <th>A13</th>\n",
              "      <th>A14</th>\n",
              "      <th>A15</th>\n",
              "      <th>A16</th>\n",
              "    </tr>\n",
              "  </thead>\n",
              "  <tbody>\n",
              "    <tr>\n",
              "      <th>count</th>\n",
              "      <td>690</td>\n",
              "      <td>690</td>\n",
              "      <td>690.000000</td>\n",
              "      <td>690</td>\n",
              "      <td>690</td>\n",
              "      <td>690</td>\n",
              "      <td>690</td>\n",
              "      <td>690.000000</td>\n",
              "      <td>690</td>\n",
              "      <td>690</td>\n",
              "      <td>690.00000</td>\n",
              "      <td>690</td>\n",
              "      <td>690</td>\n",
              "      <td>690</td>\n",
              "      <td>690.000000</td>\n",
              "      <td>690</td>\n",
              "    </tr>\n",
              "    <tr>\n",
              "      <th>unique</th>\n",
              "      <td>3</td>\n",
              "      <td>350</td>\n",
              "      <td>NaN</td>\n",
              "      <td>4</td>\n",
              "      <td>4</td>\n",
              "      <td>15</td>\n",
              "      <td>10</td>\n",
              "      <td>NaN</td>\n",
              "      <td>2</td>\n",
              "      <td>2</td>\n",
              "      <td>NaN</td>\n",
              "      <td>2</td>\n",
              "      <td>3</td>\n",
              "      <td>171</td>\n",
              "      <td>NaN</td>\n",
              "      <td>2</td>\n",
              "    </tr>\n",
              "    <tr>\n",
              "      <th>top</th>\n",
              "      <td>b</td>\n",
              "      <td>?</td>\n",
              "      <td>NaN</td>\n",
              "      <td>u</td>\n",
              "      <td>g</td>\n",
              "      <td>c</td>\n",
              "      <td>v</td>\n",
              "      <td>NaN</td>\n",
              "      <td>t</td>\n",
              "      <td>f</td>\n",
              "      <td>NaN</td>\n",
              "      <td>f</td>\n",
              "      <td>g</td>\n",
              "      <td>00000</td>\n",
              "      <td>NaN</td>\n",
              "      <td>-</td>\n",
              "    </tr>\n",
              "    <tr>\n",
              "      <th>freq</th>\n",
              "      <td>468</td>\n",
              "      <td>12</td>\n",
              "      <td>NaN</td>\n",
              "      <td>519</td>\n",
              "      <td>519</td>\n",
              "      <td>137</td>\n",
              "      <td>399</td>\n",
              "      <td>NaN</td>\n",
              "      <td>361</td>\n",
              "      <td>395</td>\n",
              "      <td>NaN</td>\n",
              "      <td>374</td>\n",
              "      <td>625</td>\n",
              "      <td>132</td>\n",
              "      <td>NaN</td>\n",
              "      <td>383</td>\n",
              "    </tr>\n",
              "    <tr>\n",
              "      <th>mean</th>\n",
              "      <td>NaN</td>\n",
              "      <td>NaN</td>\n",
              "      <td>4.758725</td>\n",
              "      <td>NaN</td>\n",
              "      <td>NaN</td>\n",
              "      <td>NaN</td>\n",
              "      <td>NaN</td>\n",
              "      <td>2.223406</td>\n",
              "      <td>NaN</td>\n",
              "      <td>NaN</td>\n",
              "      <td>2.40000</td>\n",
              "      <td>NaN</td>\n",
              "      <td>NaN</td>\n",
              "      <td>NaN</td>\n",
              "      <td>1017.385507</td>\n",
              "      <td>NaN</td>\n",
              "    </tr>\n",
              "    <tr>\n",
              "      <th>std</th>\n",
              "      <td>NaN</td>\n",
              "      <td>NaN</td>\n",
              "      <td>4.978163</td>\n",
              "      <td>NaN</td>\n",
              "      <td>NaN</td>\n",
              "      <td>NaN</td>\n",
              "      <td>NaN</td>\n",
              "      <td>3.346513</td>\n",
              "      <td>NaN</td>\n",
              "      <td>NaN</td>\n",
              "      <td>4.86294</td>\n",
              "      <td>NaN</td>\n",
              "      <td>NaN</td>\n",
              "      <td>NaN</td>\n",
              "      <td>5210.102598</td>\n",
              "      <td>NaN</td>\n",
              "    </tr>\n",
              "    <tr>\n",
              "      <th>min</th>\n",
              "      <td>NaN</td>\n",
              "      <td>NaN</td>\n",
              "      <td>0.000000</td>\n",
              "      <td>NaN</td>\n",
              "      <td>NaN</td>\n",
              "      <td>NaN</td>\n",
              "      <td>NaN</td>\n",
              "      <td>0.000000</td>\n",
              "      <td>NaN</td>\n",
              "      <td>NaN</td>\n",
              "      <td>0.00000</td>\n",
              "      <td>NaN</td>\n",
              "      <td>NaN</td>\n",
              "      <td>NaN</td>\n",
              "      <td>0.000000</td>\n",
              "      <td>NaN</td>\n",
              "    </tr>\n",
              "    <tr>\n",
              "      <th>25%</th>\n",
              "      <td>NaN</td>\n",
              "      <td>NaN</td>\n",
              "      <td>1.000000</td>\n",
              "      <td>NaN</td>\n",
              "      <td>NaN</td>\n",
              "      <td>NaN</td>\n",
              "      <td>NaN</td>\n",
              "      <td>0.165000</td>\n",
              "      <td>NaN</td>\n",
              "      <td>NaN</td>\n",
              "      <td>0.00000</td>\n",
              "      <td>NaN</td>\n",
              "      <td>NaN</td>\n",
              "      <td>NaN</td>\n",
              "      <td>0.000000</td>\n",
              "      <td>NaN</td>\n",
              "    </tr>\n",
              "    <tr>\n",
              "      <th>50%</th>\n",
              "      <td>NaN</td>\n",
              "      <td>NaN</td>\n",
              "      <td>2.750000</td>\n",
              "      <td>NaN</td>\n",
              "      <td>NaN</td>\n",
              "      <td>NaN</td>\n",
              "      <td>NaN</td>\n",
              "      <td>1.000000</td>\n",
              "      <td>NaN</td>\n",
              "      <td>NaN</td>\n",
              "      <td>0.00000</td>\n",
              "      <td>NaN</td>\n",
              "      <td>NaN</td>\n",
              "      <td>NaN</td>\n",
              "      <td>5.000000</td>\n",
              "      <td>NaN</td>\n",
              "    </tr>\n",
              "    <tr>\n",
              "      <th>75%</th>\n",
              "      <td>NaN</td>\n",
              "      <td>NaN</td>\n",
              "      <td>7.207500</td>\n",
              "      <td>NaN</td>\n",
              "      <td>NaN</td>\n",
              "      <td>NaN</td>\n",
              "      <td>NaN</td>\n",
              "      <td>2.625000</td>\n",
              "      <td>NaN</td>\n",
              "      <td>NaN</td>\n",
              "      <td>3.00000</td>\n",
              "      <td>NaN</td>\n",
              "      <td>NaN</td>\n",
              "      <td>NaN</td>\n",
              "      <td>395.500000</td>\n",
              "      <td>NaN</td>\n",
              "    </tr>\n",
              "    <tr>\n",
              "      <th>max</th>\n",
              "      <td>NaN</td>\n",
              "      <td>NaN</td>\n",
              "      <td>28.000000</td>\n",
              "      <td>NaN</td>\n",
              "      <td>NaN</td>\n",
              "      <td>NaN</td>\n",
              "      <td>NaN</td>\n",
              "      <td>28.500000</td>\n",
              "      <td>NaN</td>\n",
              "      <td>NaN</td>\n",
              "      <td>67.00000</td>\n",
              "      <td>NaN</td>\n",
              "      <td>NaN</td>\n",
              "      <td>NaN</td>\n",
              "      <td>100000.000000</td>\n",
              "      <td>NaN</td>\n",
              "    </tr>\n",
              "  </tbody>\n",
              "</table>\n",
              "</div>"
            ],
            "text/plain": [
              "         A1   A2          A3   A4   A5   A6   A7          A8   A9  A10  \\\n",
              "count   690  690  690.000000  690  690  690  690  690.000000  690  690   \n",
              "unique    3  350         NaN    4    4   15   10         NaN    2    2   \n",
              "top       b    ?         NaN    u    g    c    v         NaN    t    f   \n",
              "freq    468   12         NaN  519  519  137  399         NaN  361  395   \n",
              "mean    NaN  NaN    4.758725  NaN  NaN  NaN  NaN    2.223406  NaN  NaN   \n",
              "std     NaN  NaN    4.978163  NaN  NaN  NaN  NaN    3.346513  NaN  NaN   \n",
              "min     NaN  NaN    0.000000  NaN  NaN  NaN  NaN    0.000000  NaN  NaN   \n",
              "25%     NaN  NaN    1.000000  NaN  NaN  NaN  NaN    0.165000  NaN  NaN   \n",
              "50%     NaN  NaN    2.750000  NaN  NaN  NaN  NaN    1.000000  NaN  NaN   \n",
              "75%     NaN  NaN    7.207500  NaN  NaN  NaN  NaN    2.625000  NaN  NaN   \n",
              "max     NaN  NaN   28.000000  NaN  NaN  NaN  NaN   28.500000  NaN  NaN   \n",
              "\n",
              "              A11  A12  A13    A14            A15  A16  \n",
              "count   690.00000  690  690    690     690.000000  690  \n",
              "unique        NaN    2    3    171            NaN    2  \n",
              "top           NaN    f    g  00000            NaN    -  \n",
              "freq          NaN  374  625    132            NaN  383  \n",
              "mean      2.40000  NaN  NaN    NaN    1017.385507  NaN  \n",
              "std       4.86294  NaN  NaN    NaN    5210.102598  NaN  \n",
              "min       0.00000  NaN  NaN    NaN       0.000000  NaN  \n",
              "25%       0.00000  NaN  NaN    NaN       0.000000  NaN  \n",
              "50%       0.00000  NaN  NaN    NaN       5.000000  NaN  \n",
              "75%       3.00000  NaN  NaN    NaN     395.500000  NaN  \n",
              "max      67.00000  NaN  NaN    NaN  100000.000000  NaN  "
            ]
          },
          "metadata": {
            "tags": []
          },
          "execution_count": 10
        }
      ]
    },
    {
      "metadata": {
        "id": "6N3hE8GJJYLp",
        "colab_type": "text"
      },
      "cell_type": "markdown",
      "source": [
        "### **Verifying the attributes match**\n",
        "\n",
        "\n"
      ]
    },
    {
      "metadata": {
        "id": "1S-0vZcDJDuh",
        "colab_type": "code",
        "colab": {
          "base_uri": "https://localhost:8080/",
          "height": 289
        },
        "outputId": "4795c3a3-2115-45fa-9adc-39aa43ce894d"
      },
      "cell_type": "code",
      "source": [
        "attrs"
      ],
      "execution_count": 11,
      "outputs": [
        {
          "output_type": "execute_result",
          "data": {
            "text/plain": [
              "{'A1': 'b, a',\n",
              " 'A10': 't, f',\n",
              " 'A11': 'continuous',\n",
              " 'A12': 't, f',\n",
              " 'A13': 'g, p, s',\n",
              " 'A14': 'continuous',\n",
              " 'A15': 'continuous',\n",
              " 'A16': ' +,- (class attribute)',\n",
              " 'A2': 'continuous',\n",
              " 'A3': 'continuous',\n",
              " 'A4': 'u, y, l, t',\n",
              " 'A5': 'g, p, gg',\n",
              " 'A6': 'c, d, cc, i, j, k, m, r, q, w, x, e, aa, ff',\n",
              " 'A7': 'v, h, bb, j, n, z, dd, ff, o',\n",
              " 'A8': 'continuous',\n",
              " 'A9': 't, f'}"
            ]
          },
          "metadata": {
            "tags": []
          },
          "execution_count": 11
        }
      ]
    },
    {
      "metadata": {
        "id": "ghv22oE7Gf0d",
        "colab_type": "text"
      },
      "cell_type": "markdown",
      "source": [
        "## **There should be missing data. Check for it and change it so pandas recognizes as NA**"
      ]
    },
    {
      "metadata": {
        "id": "euP7lG0dJ92s",
        "colab_type": "text"
      },
      "cell_type": "markdown",
      "source": [
        "**Checking the NaNs** "
      ]
    },
    {
      "metadata": {
        "id": "5Wv-vZvnGouy",
        "colab_type": "code",
        "colab": {
          "base_uri": "https://localhost:8080/",
          "height": 306
        },
        "outputId": "812f4abc-3627-4a22-bb66-b4953a16b42a"
      },
      "cell_type": "code",
      "source": [
        "# It shows there are no Missing Values, but I can see in the DF above that there are.\n",
        "# The Missing Values are represented by ? which is why they are not showing up\n",
        "credit_data.isna().sum()"
      ],
      "execution_count": 8,
      "outputs": [
        {
          "output_type": "execute_result",
          "data": {
            "text/plain": [
              "A1     0\n",
              "A2     0\n",
              "A3     0\n",
              "A4     0\n",
              "A5     0\n",
              "A6     0\n",
              "A7     0\n",
              "A8     0\n",
              "A9     0\n",
              "A10    0\n",
              "A11    0\n",
              "A12    0\n",
              "A13    0\n",
              "A14    0\n",
              "A15    0\n",
              "A16    0\n",
              "dtype: int64"
            ]
          },
          "metadata": {
            "tags": []
          },
          "execution_count": 8
        }
      ]
    },
    {
      "metadata": {
        "id": "KaqjiXQEKSs5",
        "colab_type": "code",
        "colab": {}
      },
      "cell_type": "code",
      "source": [
        "# Replacing the ? with NaNs so they don't slip through the cracks\n",
        "credit_data = credit_data.replace({'?':np.nan})"
      ],
      "execution_count": 0,
      "outputs": []
    },
    {
      "metadata": {
        "id": "t_wr6oiTK-Ga",
        "colab_type": "code",
        "colab": {
          "base_uri": "https://localhost:8080/",
          "height": 306
        },
        "outputId": "8b28cd2d-114a-4f1b-a2ff-634d97239df2"
      },
      "cell_type": "code",
      "source": [
        "# There we go\n",
        "credit_data.isna().sum()"
      ],
      "execution_count": 10,
      "outputs": [
        {
          "output_type": "execute_result",
          "data": {
            "text/plain": [
              "A1     12\n",
              "A2     12\n",
              "A3      0\n",
              "A4      6\n",
              "A5      6\n",
              "A6      9\n",
              "A7      9\n",
              "A8      0\n",
              "A9      0\n",
              "A10     0\n",
              "A11     0\n",
              "A12     0\n",
              "A13     0\n",
              "A14    13\n",
              "A15     0\n",
              "A16     0\n",
              "dtype: int64"
            ]
          },
          "metadata": {
            "tags": []
          },
          "execution_count": 10
        }
      ]
    },
    {
      "metadata": {
        "id": "GxqfBM18GprM",
        "colab_type": "text"
      },
      "cell_type": "markdown",
      "source": [
        "## **Make sure that the loaded features are of the types described above (continuous values should be treated as float), and correct as necessary**"
      ]
    },
    {
      "metadata": {
        "id": "gFOgAo77dNcK",
        "colab_type": "code",
        "colab": {}
      },
      "cell_type": "code",
      "source": [
        "for col in credit_data:\n",
        "    if attrs[col]=='continuous':\n",
        "        credit_data[col] = pd.to_numeric(credit_data[col], downcast='float')"
      ],
      "execution_count": 0,
      "outputs": []
    },
    {
      "metadata": {
        "id": "50Py-ssiLm6s",
        "colab_type": "code",
        "colab": {
          "base_uri": "https://localhost:8080/",
          "height": 306
        },
        "outputId": "184f7d8a-4663-43bd-dfff-108ae95e78de"
      },
      "cell_type": "code",
      "source": [
        "# The previous continuous attributes were \n",
        "# A11, A14, A15, A2, A3, A8\n",
        "# All of which are now appearing as floats, not sure what this question is asking. \n",
        "\n",
        "credit_data.dtypes"
      ],
      "execution_count": 27,
      "outputs": [
        {
          "output_type": "execute_result",
          "data": {
            "text/plain": [
              "A1      object\n",
              "A2     float32\n",
              "A3     float32\n",
              "A4      object\n",
              "A5      object\n",
              "A6      object\n",
              "A7      object\n",
              "A8     float32\n",
              "A9      object\n",
              "A10     object\n",
              "A11    float32\n",
              "A12     object\n",
              "A13     object\n",
              "A14    float32\n",
              "A15    float32\n",
              "A16     object\n",
              "dtype: object"
            ]
          },
          "metadata": {
            "tags": []
          },
          "execution_count": 27
        }
      ]
    },
    {
      "metadata": {
        "id": "G7rLytbrO38L",
        "colab_type": "text"
      },
      "cell_type": "markdown",
      "source": [
        "## Part 2 - Exploring data, Testing hypotheses\n",
        "\n",
        "The only thing we really know about this data is that A16 is the class label. Besides that, we have 6 continuous (float) features and 9 categorical features.\n",
        "\n",
        "Explore the data: you can use whatever approach (tables, utility functions, visualizations) to get an impression of the distributions and relationships of the variables. In general, your goal is to understand how the features are different when grouped by the two class labels (`+` and `-`).\n",
        "\n",
        "For the 6 continuous features, how are they different when split between the two class labels? Choose two features to run t-tests (again split by class label) - specifically, select one feature that is *extremely* different between the classes, and another feature that is notably less different (though perhaps still \"statistically significantly\" different). You may have to explore more than two features to do this.\n",
        "\n",
        "For the categorical features, explore by creating \"cross tabs\" (aka [contingency tables](https://en.wikipedia.org/wiki/Contingency_table)) between them and the class label, and apply the Chi-squared test to them. [pandas.crosstab](http://pandas.pydata.org/pandas-docs/stable/reference/api/pandas.crosstab.html) can create contingency tables, and [scipy.stats.chi2_contingency](https://docs.scipy.org/doc/scipy/reference/generated/scipy.stats.chi2_contingency.html) can calculate the Chi-squared statistic for them.\n",
        "\n",
        "There are 9 categorical features - as with the t-test, try to find one where the Chi-squared test returns an extreme result (rejecting the null that the data are independent), and one where it is less extreme.\n",
        "\n",
        "**NOTE** - \"less extreme\" just means smaller test statistic/larger p-value. Even the least extreme differences may be strongly statistically significant.\n",
        "\n",
        "Your *main* goal is the hypothesis tests, so don't spend too much time on the exploration/visualization piece. That is just a means to an end - use simple visualizations, such as boxplots or a scatter matrix (both built in to pandas), to get a feel for the overall distribution of the variables.\n",
        "\n",
        "This is challenging, so manage your time and aim for a baseline of at least running two t-tests and two Chi-squared tests before polishing. And don't forget to answer the questions in part 3, even if your results in this part aren't what you want them to be."
      ]
    },
    {
      "metadata": {
        "id": "TRVxyXZcMuEo",
        "colab_type": "text"
      },
      "cell_type": "markdown",
      "source": [
        "### **Explore the data using whatever approach to get an impression of the distributions and relationships of the variables. The goal is to understand how the features are different when grouped by the two class labels. **"
      ]
    },
    {
      "metadata": {
        "id": "_nqcgc0yzm68",
        "colab_type": "code",
        "colab": {
          "base_uri": "https://localhost:8080/",
          "height": 34
        },
        "outputId": "3437b5fe-1f66-4f2e-ada1-b17669a4dc4f"
      },
      "cell_type": "code",
      "source": [
        "# First step, split the class labels \n",
        "\n",
        "positive = credit_data[credit_data['A16'] == '+']\n",
        "positive.shape"
      ],
      "execution_count": 43,
      "outputs": [
        {
          "output_type": "execute_result",
          "data": {
            "text/plain": [
              "(307, 16)"
            ]
          },
          "metadata": {
            "tags": []
          },
          "execution_count": 43
        }
      ]
    },
    {
      "metadata": {
        "id": "-Cgi3WXWPsyq",
        "colab_type": "code",
        "colab": {
          "base_uri": "https://localhost:8080/",
          "height": 34
        },
        "outputId": "082b7033-57a1-4f1a-d447-e24f2ea89c31"
      },
      "cell_type": "code",
      "source": [
        "negative = credit_data[credit_data['A16'] == '-']\n",
        "negative.shape"
      ],
      "execution_count": 36,
      "outputs": [
        {
          "output_type": "execute_result",
          "data": {
            "text/plain": [
              "(383, 16)"
            ]
          },
          "metadata": {
            "tags": []
          },
          "execution_count": 36
        }
      ]
    },
    {
      "metadata": {
        "id": "-tPjjZB0QEwu",
        "colab_type": "code",
        "colab": {
          "base_uri": "https://localhost:8080/",
          "height": 142
        },
        "outputId": "7c9cba5a-4bba-4d7f-c8ea-1ebe2cf213f0"
      },
      "cell_type": "code",
      "source": [
        "# Crosstab examining how + and - are distributed between a and b\n",
        "A1_crosstab = pd.crosstab(credit_data['A16'],credit_data['A1'], dropna=True)\n",
        "A1_crosstab"
      ],
      "execution_count": 107,
      "outputs": [
        {
          "output_type": "execute_result",
          "data": {
            "text/html": [
              "<div>\n",
              "<style scoped>\n",
              "    .dataframe tbody tr th:only-of-type {\n",
              "        vertical-align: middle;\n",
              "    }\n",
              "\n",
              "    .dataframe tbody tr th {\n",
              "        vertical-align: top;\n",
              "    }\n",
              "\n",
              "    .dataframe thead th {\n",
              "        text-align: right;\n",
              "    }\n",
              "</style>\n",
              "<table border=\"1\" class=\"dataframe\">\n",
              "  <thead>\n",
              "    <tr style=\"text-align: right;\">\n",
              "      <th>A1</th>\n",
              "      <th>a</th>\n",
              "      <th>b</th>\n",
              "    </tr>\n",
              "    <tr>\n",
              "      <th>A16</th>\n",
              "      <th></th>\n",
              "      <th></th>\n",
              "    </tr>\n",
              "  </thead>\n",
              "  <tbody>\n",
              "    <tr>\n",
              "      <th>+</th>\n",
              "      <td>98</td>\n",
              "      <td>206</td>\n",
              "    </tr>\n",
              "    <tr>\n",
              "      <th>-</th>\n",
              "      <td>112</td>\n",
              "      <td>262</td>\n",
              "    </tr>\n",
              "  </tbody>\n",
              "</table>\n",
              "</div>"
            ],
            "text/plain": [
              "A1     a    b\n",
              "A16          \n",
              "+     98  206\n",
              "-    112  262"
            ]
          },
          "metadata": {
            "tags": []
          },
          "execution_count": 107
        }
      ]
    },
    {
      "metadata": {
        "id": "SZGhce_hNNDu",
        "colab_type": "code",
        "colab": {}
      },
      "cell_type": "code",
      "source": [
        "import seaborn as sns\n",
        "import matplotlib.pyplot as plt\n",
        "from scipy.stats import chisquare\n",
        "from scipy import stats"
      ],
      "execution_count": 0,
      "outputs": []
    },
    {
      "metadata": {
        "id": "-ikgLOjjZ8lG",
        "colab_type": "code",
        "colab": {
          "base_uri": "https://localhost:8080/",
          "height": 102
        },
        "outputId": "a1f216a6-8f24-40b2-b3e7-520c12c8fe78"
      },
      "cell_type": "code",
      "source": [
        "stats.chi2_contingency(A1_crosstab)"
      ],
      "execution_count": 108,
      "outputs": [
        {
          "output_type": "execute_result",
          "data": {
            "text/plain": [
              "(0.31128326491619945,\n",
              " 0.5768937883001117,\n",
              " 1,\n",
              " array([[ 94.15929204, 209.84070796],\n",
              "        [115.84070796, 258.15929204]]))"
            ]
          },
          "metadata": {
            "tags": []
          },
          "execution_count": 108
        }
      ]
    },
    {
      "metadata": {
        "id": "NXPkD0xZNChM",
        "colab_type": "text"
      },
      "cell_type": "markdown",
      "source": [
        "### **For the 6 contin. features, how are they different when split between the two class labels? **"
      ]
    },
    {
      "metadata": {
        "id": "jLBxs7lycxsb",
        "colab_type": "code",
        "colab": {
          "base_uri": "https://localhost:8080/",
          "height": 221
        },
        "outputId": "25f0e32a-21a8-4e19-a8b9-894b49d09ae8"
      },
      "cell_type": "code",
      "source": [
        "# Classifying my cols to ref later\n",
        "continuous_feats=['A2','A3','A8','A11','A14','A15']\n",
        "categorical_feats=['A1','A4','A5','A6','A7','A9','A10','A12','A13']\n",
        "extra_cols=['A9','A10','A12']\n",
        "\n",
        "# Examining the 6 continuous features\n",
        "print(\"P-value < 0.05\")\n",
        "print(\"Col\",\".........\",\"Statistic\",\".............\", \"P-value\")\n",
        "for i in continuous_feats:\n",
        "  stat, pvalue = stats.ttest_ind(positive[i], negative[i], nan_policy='omit', equal_var=False)\n",
        "  if pvalue < 0.05: print(i,\"       \", stat,\"       \", pvalue)\n",
        "print(\"\")\n",
        "\n",
        "print(\"P-value > 0.05\")\n",
        "print(\"Col\",\".........\",\"Statistic\",\".............\", \"P-value\")\n",
        "for i in continuous_feats:\n",
        "  stat, pvalue = stats.ttest_ind(positive[i], negative[i], nan_policy='omit', equal_var=False)\n",
        "  if pvalue > 0.05: print(i,\"       \", stat,\"       \", pvalue)\n",
        "print(\"\")"
      ],
      "execution_count": 74,
      "outputs": [
        {
          "output_type": "stream",
          "text": [
            "P-value < 0.05\n",
            "Col ......... Statistic ............. P-value\n",
            "A2         4.224491706510129         2.7673757443248504e-05\n",
            "A3         5.392532167867879         1.0158739668297299e-07\n",
            "A8         8.380059445850803         7.42538358526361e-16\n",
            "A11         10.638418482070332         4.310274591722058e-23\n",
            "A14         -2.6696493137915973         0.0077778250827957\n",
            "A15         4.196600551709692         3.5433752049352505e-05\n",
            "\n",
            "P-value > 0.05\n",
            "Col ......... Statistic ............. P-value\n",
            "\n"
          ],
          "name": "stdout"
        }
      ]
    },
    {
      "metadata": {
        "id": "bIy54oJVjA-O",
        "colab_type": "text"
      },
      "cell_type": "markdown",
      "source": [
        "**Displaying some continous features to show split**"
      ]
    },
    {
      "metadata": {
        "id": "gUdzoEthiPKH",
        "colab_type": "code",
        "colab": {
          "base_uri": "https://localhost:8080/",
          "height": 283
        },
        "outputId": "b6b47d02-a21b-4e32-ad1d-494feda70484"
      },
      "cell_type": "code",
      "source": [
        "# A3 DF\n",
        "sns.distplot( positive['A3'] , color=\"hotpink\", label=\"positve\");\n",
        "sns.distplot( negative['A3'] , color=\"green\", label=\"negative\");"
      ],
      "execution_count": 69,
      "outputs": [
        {
          "output_type": "display_data",
          "data": {
            "image/png": "[encoded data removed]",
            "text/plain": [
              "<Figure size 432x288 with 1 Axes>"
            ]
          },
          "metadata": {
            "tags": []
          }
        }
      ]
    },
    {
      "metadata": {
        "id": "Yi2XcjeXikaL",
        "colab_type": "code",
        "colab": {
          "base_uri": "https://localhost:8080/",
          "height": 283
        },
        "outputId": "b4f0e1c9-2ba6-496f-882b-0a23c6a12e2f"
      },
      "cell_type": "code",
      "source": [
        "# A8\n",
        "sns.distplot( positive['A8'] , color=\"hotpink\", label=\"positve\");\n",
        "sns.distplot( negative['A8'] , color=\"green\", label=\"negative\");"
      ],
      "execution_count": 75,
      "outputs": [
        {
          "output_type": "display_data",
          "data": {
            "image/png": "[encoded data removed]",
            "text/plain": [
              "<Figure size 432x288 with 1 Axes>"
            ]
          },
          "metadata": {
            "tags": []
          }
        }
      ]
    },
    {
      "metadata": {
        "id": "6TmXzTvDjOgI",
        "colab_type": "code",
        "colab": {
          "base_uri": "https://localhost:8080/",
          "height": 283
        },
        "outputId": "570c4647-e505-4173-db72-fc4d7dbc48c7"
      },
      "cell_type": "code",
      "source": [
        "# A11\n",
        "sns.distplot( positive['A11'] , color=\"hotpink\", label=\"positve\");\n",
        "sns.distplot( negative['A11'] , color=\"green\", label=\"negative\");"
      ],
      "execution_count": 76,
      "outputs": [
        {
          "output_type": "display_data",
          "data": {
            "image/png": "[encoded data removed]",
            "text/plain": [
              "<Figure size 432x288 with 1 Axes>"
            ]
          },
          "metadata": {
            "tags": []
          }
        }
      ]
    },
    {
      "metadata": {
        "id": "15rCajCeNNun",
        "colab_type": "text"
      },
      "cell_type": "markdown",
      "source": [
        "### **Choose two features to run t-tests (again split by class label) - specifically, select one feature that is extremely different between the classes, and another feature that is notably less different (though perhaps still \"statistically significantly\" different). You may have to explore more than two features to do this.**"
      ]
    },
    {
      "metadata": {
        "id": "MjAYXh57gj3D",
        "colab_type": "code",
        "colab": {
          "base_uri": "https://localhost:8080/",
          "height": 657
        },
        "outputId": "05955698-1a0b-4202-d14b-7cdf1138bec6"
      },
      "cell_type": "code",
      "source": [
        "# A14 and A11 have the largest variance based on the information above\n",
        "for col in ['A11', 'A14']:\n",
        "    t_stat, p = stats.ttest_ind(credit_data.loc[credit_data['A16']=='+', col],\n",
        "                                credit_data.loc[credit_data['A16']=='-', col],\n",
        "                                nan_policy='omit',\n",
        "                                equal_var=False)\n",
        "    dof = len(credit_data['A16'].dropna())\n",
        "    print(col, f'p  {p}', f't   {t_stat}', f'dof {dof}', sep='\\n')\n",
        "    \n",
        "    x = np.linspace(-10,10,1000)\n",
        "    y = stats.t(dof).pdf(x)\n",
        "    plt.plot(x, y)\n",
        "    plt.vlines(x=t_stat, ymin=0, ymax=max(y))\n",
        "    plt.show();"
      ],
      "execution_count": 58,
      "outputs": [
        {
          "output_type": "stream",
          "text": [
            "A11\n",
            "p  4.310274591722058e-23\n",
            "t   10.638418482070332\n",
            "dof 690\n"
          ],
          "name": "stdout"
        },
        {
          "output_type": "display_data",
          "data": {
            "image/png": "[encoded data removed]",
            "text/plain": [
              "<Figure size 432x288 with 1 Axes>"
            ]
          },
          "metadata": {
            "tags": []
          }
        },
        {
          "output_type": "stream",
          "text": [
            "A14\n",
            "p  0.0077778250827957\n",
            "t   -2.6696493137915973\n",
            "dof 690\n"
          ],
          "name": "stdout"
        },
        {
          "output_type": "display_data",
          "data": {
            "image/png": "[encoded data removed]",
            "text/plain": [
              "<Figure size 432x288 with 1 Axes>"
            ]
          },
          "metadata": {
            "tags": []
          }
        }
      ]
    },
    {
      "metadata": {
        "id": "8la8HSDqaXsx",
        "colab_type": "code",
        "colab": {
          "base_uri": "https://localhost:8080/",
          "height": 657
        },
        "outputId": "dfab0fe1-4ee2-4025-ba9c-76abc051ef77"
      },
      "cell_type": "code",
      "source": [
        "# A15 and A8 are the appear the have the closest \n",
        "for col in ['A15', 'A8']:\n",
        "    t_stat, p = stats.ttest_ind(credit_data.loc[credit_data['A16']=='+', col],\n",
        "                                credit_data.loc[credit_data['A16']=='-', col],\n",
        "                                nan_policy='omit',\n",
        "                                equal_var=False)\n",
        "    dof = len(credit_data['A16'].dropna())\n",
        "    print(col, f'p  {p}', f't   {t_stat}', f'dof {dof}', sep='\\n')\n",
        "    \n",
        "    x = np.linspace(-10,10,1000)\n",
        "    y = stats.t(dof).pdf(x)\n",
        "    plt.plot(x, y)\n",
        "    plt.vlines(x=t_stat, ymin=0, ymax=max(y))\n",
        "    plt.show();"
      ],
      "execution_count": 59,
      "outputs": [
        {
          "output_type": "stream",
          "text": [
            "A15\n",
            "p  3.5433752049352505e-05\n",
            "t   4.196600551709692\n",
            "dof 690\n"
          ],
          "name": "stdout"
        },
        {
          "output_type": "display_data",
          "data": {
            "image/png": "[encoded data removed]",
            "text/plain": [
              "<Figure size 432x288 with 1 Axes>"
            ]
          },
          "metadata": {
            "tags": []
          }
        },
        {
          "output_type": "stream",
          "text": [
            "A8\n",
            "p  7.42538358526361e-16\n",
            "t   8.380059445850803\n",
            "dof 690\n"
          ],
          "name": "stdout"
        },
        {
          "output_type": "display_data",
          "data": {
            "image/png": "[encoded data removed]",
            "text/plain": [
              "<Figure size 432x288 with 1 Axes>"
            ]
          },
          "metadata": {
            "tags": []
          }
        }
      ]
    },
    {
      "metadata": {
        "id": "yzbl1_EqNa-q",
        "colab_type": "text"
      },
      "cell_type": "markdown",
      "source": [
        "### **For the categorical features, explore by creating \"cross tabs\" between them and the class label, and apply the Chi-squared test to them. **\n",
        "\n"
      ]
    },
    {
      "metadata": {
        "id": "yJu6wQqfjcKq",
        "colab_type": "code",
        "colab": {}
      },
      "cell_type": "code",
      "source": [
        "#categorical_feats=['A1','A4','A5','A6','A7','A9','A10','A12','A13']\n",
        "# I already demonstrated A1 above\n",
        "# I was confused by what this was asking for specifically, so I individually represented each column. Sorry for all the repetativeness. "
      ],
      "execution_count": 0,
      "outputs": []
    },
    {
      "metadata": {
        "id": "cvVMJ8unjxzB",
        "colab_type": "code",
        "colab": {
          "base_uri": "https://localhost:8080/",
          "height": 142
        },
        "outputId": "2fe5edfc-feae-44ea-d23e-bc4facd7c448"
      },
      "cell_type": "code",
      "source": [
        "A4_crosstab = pd.crosstab(credit_data['A16'],credit_data['A4'])\n",
        "A4_crosstab"
      ],
      "execution_count": 80,
      "outputs": [
        {
          "output_type": "execute_result",
          "data": {
            "text/html": [
              "<div>\n",
              "<style scoped>\n",
              "    .dataframe tbody tr th:only-of-type {\n",
              "        vertical-align: middle;\n",
              "    }\n",
              "\n",
              "    .dataframe tbody tr th {\n",
              "        vertical-align: top;\n",
              "    }\n",
              "\n",
              "    .dataframe thead th {\n",
              "        text-align: right;\n",
              "    }\n",
              "</style>\n",
              "<table border=\"1\" class=\"dataframe\">\n",
              "  <thead>\n",
              "    <tr style=\"text-align: right;\">\n",
              "      <th>A4</th>\n",
              "      <th>l</th>\n",
              "      <th>u</th>\n",
              "      <th>y</th>\n",
              "    </tr>\n",
              "    <tr>\n",
              "      <th>A16</th>\n",
              "      <th></th>\n",
              "      <th></th>\n",
              "      <th></th>\n",
              "    </tr>\n",
              "  </thead>\n",
              "  <tbody>\n",
              "    <tr>\n",
              "      <th>+</th>\n",
              "      <td>2</td>\n",
              "      <td>256</td>\n",
              "      <td>45</td>\n",
              "    </tr>\n",
              "    <tr>\n",
              "      <th>-</th>\n",
              "      <td>0</td>\n",
              "      <td>263</td>\n",
              "      <td>118</td>\n",
              "    </tr>\n",
              "  </tbody>\n",
              "</table>\n",
              "</div>"
            ],
            "text/plain": [
              "A4   l    u    y\n",
              "A16             \n",
              "+    2  256   45\n",
              "-    0  263  118"
            ]
          },
          "metadata": {
            "tags": []
          },
          "execution_count": 80
        }
      ]
    },
    {
      "metadata": {
        "id": "10i_n6b-kd69",
        "colab_type": "code",
        "colab": {
          "base_uri": "https://localhost:8080/",
          "height": 102
        },
        "outputId": "fc5c6a56-e353-42e9-a332-46bc2da22dc6"
      },
      "cell_type": "code",
      "source": [
        "stats.chi2_contingency(A4_crosstab)"
      ],
      "execution_count": 86,
      "outputs": [
        {
          "output_type": "execute_result",
          "data": {
            "text/plain": [
              "(26.234074966202144,\n",
              " 2.010680204180363e-06,\n",
              " 2,\n",
              " array([[  0.88596491, 229.90789474,  72.20614035],\n",
              "        [  1.11403509, 289.09210526,  90.79385965]]))"
            ]
          },
          "metadata": {
            "tags": []
          },
          "execution_count": 86
        }
      ]
    },
    {
      "metadata": {
        "id": "7eF_NYJoj-HN",
        "colab_type": "code",
        "colab": {
          "base_uri": "https://localhost:8080/",
          "height": 142
        },
        "outputId": "9b75eac8-90ab-42ee-fe4e-965e316268c0"
      },
      "cell_type": "code",
      "source": [
        "A5_crosstab = pd.crosstab(credit_data['A16'],credit_data['A5'])\n",
        "A5_crosstab"
      ],
      "execution_count": 81,
      "outputs": [
        {
          "output_type": "execute_result",
          "data": {
            "text/html": [
              "<div>\n",
              "<style scoped>\n",
              "    .dataframe tbody tr th:only-of-type {\n",
              "        vertical-align: middle;\n",
              "    }\n",
              "\n",
              "    .dataframe tbody tr th {\n",
              "        vertical-align: top;\n",
              "    }\n",
              "\n",
              "    .dataframe thead th {\n",
              "        text-align: right;\n",
              "    }\n",
              "</style>\n",
              "<table border=\"1\" class=\"dataframe\">\n",
              "  <thead>\n",
              "    <tr style=\"text-align: right;\">\n",
              "      <th>A5</th>\n",
              "      <th>g</th>\n",
              "      <th>gg</th>\n",
              "      <th>p</th>\n",
              "    </tr>\n",
              "    <tr>\n",
              "      <th>A16</th>\n",
              "      <th></th>\n",
              "      <th></th>\n",
              "      <th></th>\n",
              "    </tr>\n",
              "  </thead>\n",
              "  <tbody>\n",
              "    <tr>\n",
              "      <th>+</th>\n",
              "      <td>256</td>\n",
              "      <td>2</td>\n",
              "      <td>45</td>\n",
              "    </tr>\n",
              "    <tr>\n",
              "      <th>-</th>\n",
              "      <td>263</td>\n",
              "      <td>0</td>\n",
              "      <td>118</td>\n",
              "    </tr>\n",
              "  </tbody>\n",
              "</table>\n",
              "</div>"
            ],
            "text/plain": [
              "A5     g  gg    p\n",
              "A16              \n",
              "+    256   2   45\n",
              "-    263   0  118"
            ]
          },
          "metadata": {
            "tags": []
          },
          "execution_count": 81
        }
      ]
    },
    {
      "metadata": {
        "id": "ehnUYo_UkiQJ",
        "colab_type": "code",
        "colab": {
          "base_uri": "https://localhost:8080/",
          "height": 102
        },
        "outputId": "1d2000fd-1c9a-4b2e-b7b9-e2e90810b8f0"
      },
      "cell_type": "code",
      "source": [
        "stats.chi2_contingency(A5_crosstab)"
      ],
      "execution_count": 87,
      "outputs": [
        {
          "output_type": "execute_result",
          "data": {
            "text/plain": [
              "(26.234074966202144,\n",
              " 2.010680204180363e-06,\n",
              " 2,\n",
              " array([[229.90789474,   0.88596491,  72.20614035],\n",
              "        [289.09210526,   1.11403509,  90.79385965]]))"
            ]
          },
          "metadata": {
            "tags": []
          },
          "execution_count": 87
        }
      ]
    },
    {
      "metadata": {
        "id": "T-Isuj72kEE6",
        "colab_type": "code",
        "colab": {
          "base_uri": "https://localhost:8080/",
          "height": 142
        },
        "outputId": "5108a382-843e-4139-a3e3-926c3613a23b"
      },
      "cell_type": "code",
      "source": [
        "A6_crosstab = pd.crosstab(credit_data['A16'],credit_data['A6'])\n",
        "A6_crosstab"
      ],
      "execution_count": 82,
      "outputs": [
        {
          "output_type": "execute_result",
          "data": {
            "text/html": [
              "<div>\n",
              "<style scoped>\n",
              "    .dataframe tbody tr th:only-of-type {\n",
              "        vertical-align: middle;\n",
              "    }\n",
              "\n",
              "    .dataframe tbody tr th {\n",
              "        vertical-align: top;\n",
              "    }\n",
              "\n",
              "    .dataframe thead th {\n",
              "        text-align: right;\n",
              "    }\n",
              "</style>\n",
              "<table border=\"1\" class=\"dataframe\">\n",
              "  <thead>\n",
              "    <tr style=\"text-align: right;\">\n",
              "      <th>A6</th>\n",
              "      <th>aa</th>\n",
              "      <th>c</th>\n",
              "      <th>cc</th>\n",
              "      <th>d</th>\n",
              "      <th>e</th>\n",
              "      <th>ff</th>\n",
              "      <th>i</th>\n",
              "      <th>j</th>\n",
              "      <th>k</th>\n",
              "      <th>m</th>\n",
              "      <th>q</th>\n",
              "      <th>r</th>\n",
              "      <th>w</th>\n",
              "      <th>x</th>\n",
              "    </tr>\n",
              "    <tr>\n",
              "      <th>A16</th>\n",
              "      <th></th>\n",
              "      <th></th>\n",
              "      <th></th>\n",
              "      <th></th>\n",
              "      <th></th>\n",
              "      <th></th>\n",
              "      <th></th>\n",
              "      <th></th>\n",
              "      <th></th>\n",
              "      <th></th>\n",
              "      <th></th>\n",
              "      <th></th>\n",
              "      <th></th>\n",
              "      <th></th>\n",
              "    </tr>\n",
              "  </thead>\n",
              "  <tbody>\n",
              "    <tr>\n",
              "      <th>+</th>\n",
              "      <td>19</td>\n",
              "      <td>62</td>\n",
              "      <td>29</td>\n",
              "      <td>7</td>\n",
              "      <td>14</td>\n",
              "      <td>7</td>\n",
              "      <td>14</td>\n",
              "      <td>3</td>\n",
              "      <td>14</td>\n",
              "      <td>16</td>\n",
              "      <td>51</td>\n",
              "      <td>2</td>\n",
              "      <td>33</td>\n",
              "      <td>32</td>\n",
              "    </tr>\n",
              "    <tr>\n",
              "      <th>-</th>\n",
              "      <td>35</td>\n",
              "      <td>75</td>\n",
              "      <td>12</td>\n",
              "      <td>23</td>\n",
              "      <td>11</td>\n",
              "      <td>46</td>\n",
              "      <td>45</td>\n",
              "      <td>7</td>\n",
              "      <td>37</td>\n",
              "      <td>22</td>\n",
              "      <td>27</td>\n",
              "      <td>1</td>\n",
              "      <td>31</td>\n",
              "      <td>6</td>\n",
              "    </tr>\n",
              "  </tbody>\n",
              "</table>\n",
              "</div>"
            ],
            "text/plain": [
              "A6   aa   c  cc   d   e  ff   i  j   k   m   q  r   w   x\n",
              "A16                                                      \n",
              "+    19  62  29   7  14   7  14  3  14  16  51  2  33  32\n",
              "-    35  75  12  23  11  46  45  7  37  22  27  1  31   6"
            ]
          },
          "metadata": {
            "tags": []
          },
          "execution_count": 82
        }
      ]
    },
    {
      "metadata": {
        "id": "ZekoxqOXknA_",
        "colab_type": "code",
        "colab": {
          "base_uri": "https://localhost:8080/",
          "height": 170
        },
        "outputId": "71f43094-b06f-4bfb-bd99-93d4e4f39798"
      },
      "cell_type": "code",
      "source": [
        "stats.chi2_contingency(A6_crosstab)"
      ],
      "execution_count": 88,
      "outputs": [
        {
          "output_type": "execute_result",
          "data": {
            "text/plain": [
              "(98.32520342679135,\n",
              " 3.4999300402715717e-15,\n",
              " 13,\n",
              " array([[24.02643172, 60.95594714, 18.24229075, 13.34801762, 11.12334802,\n",
              "         23.5814978 , 26.25110132,  4.44933921, 22.69162996, 16.90748899,\n",
              "         34.70484581,  1.33480176, 28.47577093, 16.90748899],\n",
              "        [29.97356828, 76.04405286, 22.75770925, 16.65198238, 13.87665198,\n",
              "         29.4185022 , 32.74889868,  5.55066079, 28.30837004, 21.09251101,\n",
              "         43.29515419,  1.66519824, 35.52422907, 21.09251101]]))"
            ]
          },
          "metadata": {
            "tags": []
          },
          "execution_count": 88
        }
      ]
    },
    {
      "metadata": {
        "id": "LTSPM6cfkJ4e",
        "colab_type": "code",
        "colab": {
          "base_uri": "https://localhost:8080/",
          "height": 142
        },
        "outputId": "9420f7d7-fb9b-425f-ff28-fbfa8651b70d"
      },
      "cell_type": "code",
      "source": [
        "A7_crosstab = pd.crosstab(credit_data['A16'],credit_data['A7'])\n",
        "A7_crosstab"
      ],
      "execution_count": 89,
      "outputs": [
        {
          "output_type": "execute_result",
          "data": {
            "text/html": [
              "<div>\n",
              "<style scoped>\n",
              "    .dataframe tbody tr th:only-of-type {\n",
              "        vertical-align: middle;\n",
              "    }\n",
              "\n",
              "    .dataframe tbody tr th {\n",
              "        vertical-align: top;\n",
              "    }\n",
              "\n",
              "    .dataframe thead th {\n",
              "        text-align: right;\n",
              "    }\n",
              "</style>\n",
              "<table border=\"1\" class=\"dataframe\">\n",
              "  <thead>\n",
              "    <tr style=\"text-align: right;\">\n",
              "      <th>A7</th>\n",
              "      <th>bb</th>\n",
              "      <th>dd</th>\n",
              "      <th>ff</th>\n",
              "      <th>h</th>\n",
              "      <th>j</th>\n",
              "      <th>n</th>\n",
              "      <th>o</th>\n",
              "      <th>v</th>\n",
              "      <th>z</th>\n",
              "    </tr>\n",
              "    <tr>\n",
              "      <th>A16</th>\n",
              "      <th></th>\n",
              "      <th></th>\n",
              "      <th></th>\n",
              "      <th></th>\n",
              "      <th></th>\n",
              "      <th></th>\n",
              "      <th></th>\n",
              "      <th></th>\n",
              "      <th></th>\n",
              "    </tr>\n",
              "  </thead>\n",
              "  <tbody>\n",
              "    <tr>\n",
              "      <th>+</th>\n",
              "      <td>25</td>\n",
              "      <td>2</td>\n",
              "      <td>8</td>\n",
              "      <td>87</td>\n",
              "      <td>3</td>\n",
              "      <td>2</td>\n",
              "      <td>1</td>\n",
              "      <td>169</td>\n",
              "      <td>6</td>\n",
              "    </tr>\n",
              "    <tr>\n",
              "      <th>-</th>\n",
              "      <td>34</td>\n",
              "      <td>4</td>\n",
              "      <td>49</td>\n",
              "      <td>51</td>\n",
              "      <td>5</td>\n",
              "      <td>2</td>\n",
              "      <td>1</td>\n",
              "      <td>230</td>\n",
              "      <td>2</td>\n",
              "    </tr>\n",
              "  </tbody>\n",
              "</table>\n",
              "</div>"
            ],
            "text/plain": [
              "A7   bb  dd  ff   h  j  n  o    v  z\n",
              "A16                                 \n",
              "+    25   2   8  87  3  2  1  169  6\n",
              "-    34   4  49  51  5  2  1  230  2"
            ]
          },
          "metadata": {
            "tags": []
          },
          "execution_count": 89
        }
      ]
    },
    {
      "metadata": {
        "id": "R1ikMQerlegt",
        "colab_type": "code",
        "colab": {
          "base_uri": "https://localhost:8080/",
          "height": 170
        },
        "outputId": "852da0c4-2a67-4f2a-e195-cde23cf27f17"
      },
      "cell_type": "code",
      "source": [
        "stats.chi2_contingency(A7_crosstab)"
      ],
      "execution_count": 94,
      "outputs": [
        {
          "output_type": "execute_result",
          "data": {
            "text/plain": [
              "(45.034207140240554,\n",
              " 3.625452872372267e-07,\n",
              " 8,\n",
              " array([[ 26.25110132,   2.66960352,  25.36123348,  61.40088106,\n",
              "           3.55947137,   1.77973568,   0.88986784, 177.52863436,\n",
              "           3.55947137],\n",
              "        [ 32.74889868,   3.33039648,  31.63876652,  76.59911894,\n",
              "           4.44052863,   2.22026432,   1.11013216, 221.47136564,\n",
              "           4.44052863]]))"
            ]
          },
          "metadata": {
            "tags": []
          },
          "execution_count": 94
        }
      ]
    },
    {
      "metadata": {
        "id": "_K2KEzDllNfZ",
        "colab_type": "code",
        "colab": {
          "base_uri": "https://localhost:8080/",
          "height": 142
        },
        "outputId": "13f72f2c-d685-4810-971d-6838fd7ff7fe"
      },
      "cell_type": "code",
      "source": [
        "A9_crosstab = pd.crosstab(credit_data['A16'],credit_data['A9'])\n",
        "A9_crosstab"
      ],
      "execution_count": 90,
      "outputs": [
        {
          "output_type": "execute_result",
          "data": {
            "text/html": [
              "<div>\n",
              "<style scoped>\n",
              "    .dataframe tbody tr th:only-of-type {\n",
              "        vertical-align: middle;\n",
              "    }\n",
              "\n",
              "    .dataframe tbody tr th {\n",
              "        vertical-align: top;\n",
              "    }\n",
              "\n",
              "    .dataframe thead th {\n",
              "        text-align: right;\n",
              "    }\n",
              "</style>\n",
              "<table border=\"1\" class=\"dataframe\">\n",
              "  <thead>\n",
              "    <tr style=\"text-align: right;\">\n",
              "      <th>A9</th>\n",
              "      <th>f</th>\n",
              "      <th>t</th>\n",
              "    </tr>\n",
              "    <tr>\n",
              "      <th>A16</th>\n",
              "      <th></th>\n",
              "      <th></th>\n",
              "    </tr>\n",
              "  </thead>\n",
              "  <tbody>\n",
              "    <tr>\n",
              "      <th>+</th>\n",
              "      <td>23</td>\n",
              "      <td>284</td>\n",
              "    </tr>\n",
              "    <tr>\n",
              "      <th>-</th>\n",
              "      <td>306</td>\n",
              "      <td>77</td>\n",
              "    </tr>\n",
              "  </tbody>\n",
              "</table>\n",
              "</div>"
            ],
            "text/plain": [
              "A9     f    t\n",
              "A16          \n",
              "+     23  284\n",
              "-    306   77"
            ]
          },
          "metadata": {
            "tags": []
          },
          "execution_count": 90
        }
      ]
    },
    {
      "metadata": {
        "id": "0DXERZZMlhN0",
        "colab_type": "code",
        "colab": {
          "base_uri": "https://localhost:8080/",
          "height": 102
        },
        "outputId": "f971bb74-fe4a-4678-c59a-a284ea492838"
      },
      "cell_type": "code",
      "source": [
        "stats.chi2_contingency(A9_crosstab)"
      ],
      "execution_count": 95,
      "outputs": [
        {
          "output_type": "execute_result",
          "data": {
            "text/plain": [
              "(355.2038167412799,\n",
              " 3.1185900878457007e-79,\n",
              " 1,\n",
              " array([[146.38115942, 160.61884058],\n",
              "        [182.61884058, 200.38115942]]))"
            ]
          },
          "metadata": {
            "tags": []
          },
          "execution_count": 95
        }
      ]
    },
    {
      "metadata": {
        "id": "2QtkPBMqlSUs",
        "colab_type": "code",
        "colab": {
          "base_uri": "https://localhost:8080/",
          "height": 142
        },
        "outputId": "884462c8-cd63-438a-e9b6-48d5c77812cc"
      },
      "cell_type": "code",
      "source": [
        "A10_crosstab = pd.crosstab(credit_data['A16'],credit_data['A10'])\n",
        "A10_crosstab"
      ],
      "execution_count": 91,
      "outputs": [
        {
          "output_type": "execute_result",
          "data": {
            "text/html": [
              "<div>\n",
              "<style scoped>\n",
              "    .dataframe tbody tr th:only-of-type {\n",
              "        vertical-align: middle;\n",
              "    }\n",
              "\n",
              "    .dataframe tbody tr th {\n",
              "        vertical-align: top;\n",
              "    }\n",
              "\n",
              "    .dataframe thead th {\n",
              "        text-align: right;\n",
              "    }\n",
              "</style>\n",
              "<table border=\"1\" class=\"dataframe\">\n",
              "  <thead>\n",
              "    <tr style=\"text-align: right;\">\n",
              "      <th>A10</th>\n",
              "      <th>f</th>\n",
              "      <th>t</th>\n",
              "    </tr>\n",
              "    <tr>\n",
              "      <th>A16</th>\n",
              "      <th></th>\n",
              "      <th></th>\n",
              "    </tr>\n",
              "  </thead>\n",
              "  <tbody>\n",
              "    <tr>\n",
              "      <th>+</th>\n",
              "      <td>98</td>\n",
              "      <td>209</td>\n",
              "    </tr>\n",
              "    <tr>\n",
              "      <th>-</th>\n",
              "      <td>297</td>\n",
              "      <td>86</td>\n",
              "    </tr>\n",
              "  </tbody>\n",
              "</table>\n",
              "</div>"
            ],
            "text/plain": [
              "A10    f    t\n",
              "A16          \n",
              "+     98  209\n",
              "-    297   86"
            ]
          },
          "metadata": {
            "tags": []
          },
          "execution_count": 91
        }
      ]
    },
    {
      "metadata": {
        "id": "7xMs30FuljpR",
        "colab_type": "code",
        "colab": {
          "base_uri": "https://localhost:8080/",
          "height": 102
        },
        "outputId": "6e51bacf-43d3-4618-ba55-a5cb30355a00"
      },
      "cell_type": "code",
      "source": [
        "stats.chi2_contingency(A10_crosstab)"
      ],
      "execution_count": 96,
      "outputs": [
        {
          "output_type": "execute_result",
          "data": {
            "text/plain": [
              "(143.06956205083145,\n",
              " 5.675727374527571e-33,\n",
              " 1,\n",
              " array([[175.74637681, 131.25362319],\n",
              "        [219.25362319, 163.74637681]]))"
            ]
          },
          "metadata": {
            "tags": []
          },
          "execution_count": 96
        }
      ]
    },
    {
      "metadata": {
        "id": "KmnZHIVnlV4n",
        "colab_type": "code",
        "colab": {
          "base_uri": "https://localhost:8080/",
          "height": 142
        },
        "outputId": "75e3c5b5-6050-4a80-9a6c-986bf2ae0e8f"
      },
      "cell_type": "code",
      "source": [
        "A12_crosstab = pd.crosstab(credit_data['A16'],credit_data['A12'])\n",
        "A12_crosstab"
      ],
      "execution_count": 92,
      "outputs": [
        {
          "output_type": "execute_result",
          "data": {
            "text/html": [
              "<div>\n",
              "<style scoped>\n",
              "    .dataframe tbody tr th:only-of-type {\n",
              "        vertical-align: middle;\n",
              "    }\n",
              "\n",
              "    .dataframe tbody tr th {\n",
              "        vertical-align: top;\n",
              "    }\n",
              "\n",
              "    .dataframe thead th {\n",
              "        text-align: right;\n",
              "    }\n",
              "</style>\n",
              "<table border=\"1\" class=\"dataframe\">\n",
              "  <thead>\n",
              "    <tr style=\"text-align: right;\">\n",
              "      <th>A12</th>\n",
              "      <th>f</th>\n",
              "      <th>t</th>\n",
              "    </tr>\n",
              "    <tr>\n",
              "      <th>A16</th>\n",
              "      <th></th>\n",
              "      <th></th>\n",
              "    </tr>\n",
              "  </thead>\n",
              "  <tbody>\n",
              "    <tr>\n",
              "      <th>+</th>\n",
              "      <td>161</td>\n",
              "      <td>146</td>\n",
              "    </tr>\n",
              "    <tr>\n",
              "      <th>-</th>\n",
              "      <td>213</td>\n",
              "      <td>170</td>\n",
              "    </tr>\n",
              "  </tbody>\n",
              "</table>\n",
              "</div>"
            ],
            "text/plain": [
              "A12    f    t\n",
              "A16          \n",
              "+    161  146\n",
              "-    213  170"
            ]
          },
          "metadata": {
            "tags": []
          },
          "execution_count": 92
        }
      ]
    },
    {
      "metadata": {
        "id": "3wHfR588llyZ",
        "colab_type": "code",
        "colab": {
          "base_uri": "https://localhost:8080/",
          "height": 102
        },
        "outputId": "a6a48748-e491-4520-8af4-6ceb978696cb"
      },
      "cell_type": "code",
      "source": [
        "stats.chi2_contingency(A12_crosstab)"
      ],
      "execution_count": 97,
      "outputs": [
        {
          "output_type": "execute_result",
          "data": {
            "text/plain": [
              "(0.568273300792113,\n",
              " 0.45094587758631943,\n",
              " 1,\n",
              " array([[166.40289855, 140.59710145],\n",
              "        [207.59710145, 175.40289855]]))"
            ]
          },
          "metadata": {
            "tags": []
          },
          "execution_count": 97
        }
      ]
    },
    {
      "metadata": {
        "id": "C2t4CfNKlVyi",
        "colab_type": "code",
        "colab": {
          "base_uri": "https://localhost:8080/",
          "height": 142
        },
        "outputId": "3dcc1d80-797a-41b0-99b2-b9718eea7082"
      },
      "cell_type": "code",
      "source": [
        "A13_crosstab = pd.crosstab(credit_data['A16'],credit_data['A13'])\n",
        "A13_crosstab"
      ],
      "execution_count": 93,
      "outputs": [
        {
          "output_type": "execute_result",
          "data": {
            "text/html": [
              "<div>\n",
              "<style scoped>\n",
              "    .dataframe tbody tr th:only-of-type {\n",
              "        vertical-align: middle;\n",
              "    }\n",
              "\n",
              "    .dataframe tbody tr th {\n",
              "        vertical-align: top;\n",
              "    }\n",
              "\n",
              "    .dataframe thead th {\n",
              "        text-align: right;\n",
              "    }\n",
              "</style>\n",
              "<table border=\"1\" class=\"dataframe\">\n",
              "  <thead>\n",
              "    <tr style=\"text-align: right;\">\n",
              "      <th>A13</th>\n",
              "      <th>g</th>\n",
              "      <th>p</th>\n",
              "      <th>s</th>\n",
              "    </tr>\n",
              "    <tr>\n",
              "      <th>A16</th>\n",
              "      <th></th>\n",
              "      <th></th>\n",
              "      <th></th>\n",
              "    </tr>\n",
              "  </thead>\n",
              "  <tbody>\n",
              "    <tr>\n",
              "      <th>+</th>\n",
              "      <td>287</td>\n",
              "      <td>5</td>\n",
              "      <td>15</td>\n",
              "    </tr>\n",
              "    <tr>\n",
              "      <th>-</th>\n",
              "      <td>338</td>\n",
              "      <td>3</td>\n",
              "      <td>42</td>\n",
              "    </tr>\n",
              "  </tbody>\n",
              "</table>\n",
              "</div>"
            ],
            "text/plain": [
              "A13    g  p   s\n",
              "A16            \n",
              "+    287  5  15\n",
              "-    338  3  42"
            ]
          },
          "metadata": {
            "tags": []
          },
          "execution_count": 93
        }
      ]
    },
    {
      "metadata": {
        "id": "lSx6x2e2lpbK",
        "colab_type": "code",
        "colab": {
          "base_uri": "https://localhost:8080/",
          "height": 102
        },
        "outputId": "5e71f323-e67b-40b7-fd1a-169cd7306c50"
      },
      "cell_type": "code",
      "source": [
        "stats.chi2_contingency(A13_crosstab)"
      ],
      "execution_count": 98,
      "outputs": [
        {
          "output_type": "execute_result",
          "data": {
            "text/plain": [
              "(9.191570451545383,\n",
              " 0.010094291370456362,\n",
              " 2,\n",
              " array([[278.07971014,   3.55942029,  25.36086957],\n",
              "        [346.92028986,   4.44057971,  31.63913043]]))"
            ]
          },
          "metadata": {
            "tags": []
          },
          "execution_count": 98
        }
      ]
    },
    {
      "metadata": {
        "id": "RAhC8bgPNvFm",
        "colab_type": "text"
      },
      "cell_type": "markdown",
      "source": [
        "###**There are 9 categorical features - as with the t-test, try to find one where the Chi-squared test returns an extreme result (rejecting the null that the data are independent), and one where it is less extreme.**"
      ]
    },
    {
      "metadata": {
        "id": "uExWPq_ZN16G",
        "colab_type": "code",
        "colab": {}
      },
      "cell_type": "code",
      "source": [
        "#categorical_feats=['A1','A4','A5','A6','A7','A9','A10','A12','A13']"
      ],
      "execution_count": 0,
      "outputs": []
    },
    {
      "metadata": {
        "id": "t98wr3eel9ms",
        "colab_type": "code",
        "colab": {
          "base_uri": "https://localhost:8080/",
          "height": 1462
        },
        "outputId": "f48a89d9-2c00-49ea-c589-5be2d55b1c23"
      },
      "cell_type": "code",
      "source": [
        "def extreme_chi2(one_col,cols,credit_data):\n",
        " \n",
        "  for i in cols:\n",
        "    ct=pd.crosstab(credit_data[one_col], credit_data[i])\n",
        "    if stats.chi2_contingency(ct)[1] < .05:\n",
        "      print(\"---------------------\")\n",
        "      print(ct)\n",
        "      print(\"---------------------\")\n",
        "      print(\"Chi2 of A16 Crosstab\", i,\":\")\n",
        "      print(\"Chi2 Statistics,\", \"P-Values,\", \"Degrees of Freedom,\", \"Expected Frequencys\")\n",
        "      print(stats.chi2_contingency(ct))\n",
        "      print(\"\")\n",
        "\n",
        "extreme_chi2('A16',categorical_feats,credit_data)"
      ],
      "execution_count": 105,
      "outputs": [
        {
          "output_type": "stream",
          "text": [
            "---------------------\n",
            "A4   l    u    y\n",
            "A16             \n",
            "+    2  256   45\n",
            "-    0  263  118\n",
            "---------------------\n",
            "Chi2 of A16 Crosstab A4 :\n",
            "Chi2 Statistics, P-Values, Degrees of Freedom, Expected Frequencys\n",
            "(26.234074966202144, 2.010680204180363e-06, 2, array([[  0.88596491, 229.90789474,  72.20614035],\n",
            "       [  1.11403509, 289.09210526,  90.79385965]]))\n",
            "\n",
            "---------------------\n",
            "A5     g  gg    p\n",
            "A16              \n",
            "+    256   2   45\n",
            "-    263   0  118\n",
            "---------------------\n",
            "Chi2 of A16 Crosstab A5 :\n",
            "Chi2 Statistics, P-Values, Degrees of Freedom, Expected Frequencys\n",
            "(26.234074966202144, 2.010680204180363e-06, 2, array([[229.90789474,   0.88596491,  72.20614035],\n",
            "       [289.09210526,   1.11403509,  90.79385965]]))\n",
            "\n",
            "---------------------\n",
            "A6   aa   c  cc   d   e  ff   i  j   k   m   q  r   w   x\n",
            "A16                                                      \n",
            "+    19  62  29   7  14   7  14  3  14  16  51  2  33  32\n",
            "-    35  75  12  23  11  46  45  7  37  22  27  1  31   6\n",
            "---------------------\n",
            "Chi2 of A16 Crosstab A6 :\n",
            "Chi2 Statistics, P-Values, Degrees of Freedom, Expected Frequencys\n",
            "(98.32520342679135, 3.4999300402715717e-15, 13, array([[24.02643172, 60.95594714, 18.24229075, 13.34801762, 11.12334802,\n",
            "        23.5814978 , 26.25110132,  4.44933921, 22.69162996, 16.90748899,\n",
            "        34.70484581,  1.33480176, 28.47577093, 16.90748899],\n",
            "       [29.97356828, 76.04405286, 22.75770925, 16.65198238, 13.87665198,\n",
            "        29.4185022 , 32.74889868,  5.55066079, 28.30837004, 21.09251101,\n",
            "        43.29515419,  1.66519824, 35.52422907, 21.09251101]]))\n",
            "\n",
            "---------------------\n",
            "A7   bb  dd  ff   h  j  n  o    v  z\n",
            "A16                                 \n",
            "+    25   2   8  87  3  2  1  169  6\n",
            "-    34   4  49  51  5  2  1  230  2\n",
            "---------------------\n",
            "Chi2 of A16 Crosstab A7 :\n",
            "Chi2 Statistics, P-Values, Degrees of Freedom, Expected Frequencys\n",
            "(45.034207140240554, 3.625452872372267e-07, 8, array([[ 26.25110132,   2.66960352,  25.36123348,  61.40088106,\n",
            "          3.55947137,   1.77973568,   0.88986784, 177.52863436,\n",
            "          3.55947137],\n",
            "       [ 32.74889868,   3.33039648,  31.63876652,  76.59911894,\n",
            "          4.44052863,   2.22026432,   1.11013216, 221.47136564,\n",
            "          4.44052863]]))\n",
            "\n",
            "---------------------\n",
            "A9     f    t\n",
            "A16          \n",
            "+     23  284\n",
            "-    306   77\n",
            "---------------------\n",
            "Chi2 of A16 Crosstab A9 :\n",
            "Chi2 Statistics, P-Values, Degrees of Freedom, Expected Frequencys\n",
            "(355.2038167412799, 3.1185900878457007e-79, 1, array([[146.38115942, 160.61884058],\n",
            "       [182.61884058, 200.38115942]]))\n",
            "\n",
            "---------------------\n",
            "A10    f    t\n",
            "A16          \n",
            "+     98  209\n",
            "-    297   86\n",
            "---------------------\n",
            "Chi2 of A16 Crosstab A10 :\n",
            "Chi2 Statistics, P-Values, Degrees of Freedom, Expected Frequencys\n",
            "(143.06956205083145, 5.675727374527571e-33, 1, array([[175.74637681, 131.25362319],\n",
            "       [219.25362319, 163.74637681]]))\n",
            "\n",
            "---------------------\n",
            "A13    g  p   s\n",
            "A16            \n",
            "+    287  5  15\n",
            "-    338  3  42\n",
            "---------------------\n",
            "Chi2 of A16 Crosstab A13 :\n",
            "Chi2 Statistics, P-Values, Degrees of Freedom, Expected Frequencys\n",
            "(9.191570451545383, 0.010094291370456362, 2, array([[278.07971014,   3.55942029,  25.36086957],\n",
            "       [346.92028986,   4.44057971,  31.63913043]]))\n",
            "\n"
          ],
          "name": "stdout"
        }
      ]
    },
    {
      "metadata": {
        "id": "zvmTWeQGolX6",
        "colab_type": "code",
        "colab": {
          "base_uri": "https://localhost:8080/",
          "height": 391
        },
        "outputId": "4a64629b-8f58-4747-c92d-72671e200612"
      },
      "cell_type": "code",
      "source": [
        "def not_extremechi2(one_col,cols,credit_data):\n",
        "\n",
        "  for i in cols:\n",
        "    ct=pd.crosstab(credit_data[one_col], credit_data[i])\n",
        "    if stats.chi2_contingency(ct)[1] > .05:\n",
        "      print(\"---------------------\")\n",
        "      print(ct)\n",
        "      print(\"---------------------\")\n",
        "      print(\"Chi2 of A16 Crosstab\", i,\":\")\n",
        "      print(\"Chi2 Statistics,\", \"P-Values,\", \"Degrees of Freedom,\", \"Expected Frequencys\")\n",
        "      print(stats.chi2_contingency(ct))\n",
        "      print(\"\")\n",
        "not_extremechi2('A16',categorical_feats,credit_data)\n"
      ],
      "execution_count": 106,
      "outputs": [
        {
          "output_type": "stream",
          "text": [
            "---------------------\n",
            "A1     a    b\n",
            "A16          \n",
            "+     98  206\n",
            "-    112  262\n",
            "---------------------\n",
            "Chi2 of A16 Crosstab A1 :\n",
            "Chi2 Statistics, P-Values, Degrees of Freedom, Expected Frequencys\n",
            "(0.31128326491619945, 0.5768937883001117, 1, array([[ 94.15929204, 209.84070796],\n",
            "       [115.84070796, 258.15929204]]))\n",
            "\n",
            "---------------------\n",
            "A12    f    t\n",
            "A16          \n",
            "+    161  146\n",
            "-    213  170\n",
            "---------------------\n",
            "Chi2 of A16 Crosstab A12 :\n",
            "Chi2 Statistics, P-Values, Degrees of Freedom, Expected Frequencys\n",
            "(0.568273300792113, 0.45094587758631943, 1, array([[166.40289855, 140.59710145],\n",
            "       [207.59710145, 175.40289855]]))\n",
            "\n"
          ],
          "name": "stdout"
        }
      ]
    },
    {
      "metadata": {
        "id": "ZM8JckA2bgnp",
        "colab_type": "text"
      },
      "cell_type": "markdown",
      "source": [
        "## Part 3 - Analysis and Interpretation\n",
        "\n",
        "Now that you've looked at the data, answer the following questions:\n",
        "\n",
        "- Interpret and explain the two t-tests you ran - what do they tell you about the relationships between the continuous features you selected and the class labels?\n",
        "- Interpret and explain the two Chi-squared tests you ran - what do they tell you about the relationships between the categorical features you selected and the class labels?\n",
        "- What was the most challenging part of this sprint challenge?\n",
        "\n",
        "Answer with text, but feel free to intersperse example code/results or refer to it from earlier."
      ]
    },
    {
      "metadata": {
        "id": "LIozLDNG2Uhu",
        "colab_type": "text"
      },
      "cell_type": "markdown",
      "source": [
        "**Interpret and explain the two t-tests you ran - what do they tell you about the relationships between the continuous features you selected and the class labels**\n",
        "\n",
        "For this, I ran 4 t-tests out of curiousity. \n",
        "\n",
        "For the sake of time I will just focus on 2\n",
        "\n"
      ]
    },
    {
      "metadata": {
        "id": "Tx0lQ50kqfwh",
        "colab_type": "code",
        "colab": {
          "base_uri": "https://localhost:8080/",
          "height": 657
        },
        "outputId": "b0870619-1583-47d6-bf18-6e416d32ed51"
      },
      "cell_type": "code",
      "source": [
        "# A14 and A11 have the largest variance based on the information above\n",
        "for col in ['A11', 'A14']:\n",
        "    t_stat, p = stats.ttest_ind(credit_data.loc[credit_data['A16']=='+', col],\n",
        "                                credit_data.loc[credit_data['A16']=='-', col],\n",
        "                                nan_policy='omit',\n",
        "                                equal_var=False)\n",
        "    dof = len(credit_data['A16'].dropna())\n",
        "    print(col, f'p  {p}', f't   {t_stat}', f'dof {dof}', sep='\\n')\n",
        "    \n",
        "    x = np.linspace(-10,10,1000)\n",
        "    y = stats.t(dof).pdf(x)\n",
        "    plt.plot(x, y)\n",
        "    plt.vlines(x=t_stat, ymin=0, ymax=max(y))\n",
        "    plt.show();"
      ],
      "execution_count": 109,
      "outputs": [
        {
          "output_type": "stream",
          "text": [
            "A11\n",
            "p  4.310274591722058e-23\n",
            "t   10.638418482070332\n",
            "dof 690\n"
          ],
          "name": "stdout"
        },
        {
          "output_type": "display_data",
          "data": {
            "image/png": "[encoded data removed]",
            "text/plain": [
              "<Figure size 432x288 with 1 Axes>"
            ]
          },
          "metadata": {
            "tags": []
          }
        },
        {
          "output_type": "stream",
          "text": [
            "A14\n",
            "p  0.0077778250827957\n",
            "t   -2.6696493137915973\n",
            "dof 690\n"
          ],
          "name": "stdout"
        },
        {
          "output_type": "display_data",
          "data": {
            "image/png": "[encoded data removed]",
            "text/plain": [
              "<Figure size 432x288 with 1 Axes>"
            ]
          },
          "metadata": {
            "tags": []
          }
        }
      ]
    },
    {
      "metadata": {
        "id": "0cX1XvFTqjB3",
        "colab_type": "text"
      },
      "cell_type": "markdown",
      "source": [
        "In A11, there were more positive observations made, \n",
        "In A 14, more negative observations were made. "
      ]
    },
    {
      "metadata": {
        "id": "awKtWG5YrJGv",
        "colab_type": "text"
      },
      "cell_type": "markdown",
      "source": [
        "The Chi-Square tests were created on a crosstab of A16 and all other categorical features to see if the samples are independamt. \n",
        "\n",
        "I noticed that all tests except for crosstab table between A16 with A1 and A16 with A12 were significant with p-value < 0.05.\n"
      ]
    },
    {
      "metadata": {
        "id": "JJEeOPkEreLl",
        "colab_type": "text"
      },
      "cell_type": "markdown",
      "source": [
        "The most challenging part of this challenge was the freedom we were given to make observations and the time constriaint."
      ]
    }
  ]
}