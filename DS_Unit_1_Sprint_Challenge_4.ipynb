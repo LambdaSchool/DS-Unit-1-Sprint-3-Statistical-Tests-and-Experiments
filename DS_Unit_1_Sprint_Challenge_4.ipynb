{
  "nbformat": 4,
  "nbformat_minor": 0,
  "metadata": {
    "colab": {
      "name": "DS_Unit_1_Sprint_Challenge_4.ipynb",
      "version": "0.3.2",
      "provenance": [],
      "collapsed_sections": [],
      "include_colab_link": true
    },
    "kernelspec": {
      "name": "python3",
      "display_name": "Python 3"
    }
  },
  "cells": [
    {
      "cell_type": "markdown",
      "metadata": {
        "id": "view-in-github",
        "colab_type": "text"
      },
      "source": [
        "<a href=\"https://colab.research.google.com/github/cocoisland/DS-Unit-1-Sprint-4-Statistical-Tests-and-Experiments/blob/master/DS_Unit_1_Sprint_Challenge_4.ipynb\" target=\"_parent\"><img src=\"https://colab.research.google.com/assets/colab-badge.svg\" alt=\"Open In Colab\"/></a>"
      ]
    },
    {
      "metadata": {
        "id": "NooAiTdnafkz",
        "colab_type": "text"
      },
      "cell_type": "markdown",
      "source": [
        "# Data Science Unit 1 Sprint Challenge 4\n",
        "\n",
        "## Exploring Data, Testing Hypotheses\n",
        "\n",
        "In this sprint challenge you will look at a dataset of people being approved or rejected for credit.\n",
        "\n",
        "https://archive.ics.uci.edu/ml/datasets/Credit+Approval\n",
        "\n",
        "Data Set Information: This file concerns credit card applications. All attribute names and values have been changed to meaningless symbols to protect confidentiality of the data. This dataset is interesting because there is a good mix of attributes -- continuous, nominal with small numbers of values, and nominal with larger numbers of values. There are also a few missing values.\n",
        "\n",
        "Attribute Information:\n",
        "- A1: b, a.\n",
        "- A2: continuous.\n",
        "- A3: continuous.\n",
        "- A4: u, y, l, t.\n",
        "- A5: g, p, gg.\n",
        "- A6: c, d, cc, i, j, k, m, r, q, w, x, e, aa, ff.\n",
        "- A7: v, h, bb, j, n, z, dd, ff, o.\n",
        "- A8: continuous.\n",
        "- A9: t, f.\n",
        "- A10: t, f.\n",
        "- A11: continuous.\n",
        "- A12: t, f.\n",
        "- A13: g, p, s.\n",
        "- A14: continuous.\n",
        "- A15: continuous.\n",
        "- A16: +,- (class attribute)\n",
        "\n",
        "Yes, most of that doesn't mean anything. A16 (the class attribute) is the most interesting, as it separates the 307 approved cases from the 383 rejected cases. The remaining variables have been obfuscated for privacy - a challenge you may have to deal with in your data science career.\n",
        "\n",
        "Sprint challenges are evaluated based on satisfactory completion of each part. It is suggested you work through it in order, getting each aspect reasonably working, before trying to deeply explore, iterate, or refine any given step. Once you get to the end, if you want to go back and improve things, go for it!"
      ]
    },
    {
      "metadata": {
        "id": "5wch6ksCbJtZ",
        "colab_type": "text"
      },
      "cell_type": "markdown",
      "source": [
        "## Part 1 - Load and validate the data\n",
        "\n",
        "- Load the data as a `pandas` data frame.\n",
        "- Validate that it has the appropriate number of observations (you can check the raw file, and also read the dataset description from UCI).\n",
        "- UCI says there should be missing data - check, and if necessary change the data so pandas recognizes it as na\n",
        "- Make sure that the loaded features are of the types described above (continuous values should be treated as float), and correct as necessary\n",
        "\n",
        "This is review, but skills that you'll use at the start of any data exploration. Further, you may have to do some investigation to figure out which file to load from - that is part of the puzzle."
      ]
    },
    {
      "metadata": {
        "id": "Q79xDLckzibS",
        "colab_type": "code",
        "colab": {
          "base_uri": "https://localhost:8080/",
          "height": 35
        },
        "outputId": "fe3b7639-96dc-4de2-89ef-b7677d53fbc1"
      },
      "cell_type": "code",
      "source": [
        "import pandas as pd\n",
        "import numpy as np\n",
        "import matplotlib.pyplot as plt\n",
        "\n",
        "url = 'https://archive.ics.uci.edu/ml/machine-learning-databases/credit-screening/crx.data'\n",
        "df = pd.read_csv(url, header=None, na_values=['?'])\n",
        "\n",
        "df.isna().sum().count()\n"
      ],
      "execution_count": 2,
      "outputs": [
        {
          "output_type": "execute_result",
          "data": {
            "text/plain": [
              "16"
            ]
          },
          "metadata": {
            "tags": []
          },
          "execution_count": 2
        }
      ]
    },
    {
      "metadata": {
        "id": "2TnDjwEcgFMF",
        "colab_type": "text"
      },
      "cell_type": "markdown",
      "source": [
        "### Begin of solution answer"
      ]
    },
    {
      "metadata": {
        "id": "H9sHcFtNzwWU",
        "colab_type": "code",
        "colab": {
          "base_uri": "https://localhost:8080/",
          "height": 378
        },
        "outputId": "3504d5b0-44cf-4778-b3da-467bec9005a5"
      },
      "cell_type": "code",
      "source": [
        "# finding data with '?' value. Need to convert to NAN df.replace('?', np.NAN)\n",
        "dfa = pd.read_csv(url, header=None, \n",
        "      names=['A1','A2','A3','A4','A5','A6',\n",
        "      'A7','A8','A9','A10','A11','A12','A13','A14','A15','A16'])\n",
        "\n",
        "dfa.describe(include='all')"
      ],
      "execution_count": 3,
      "outputs": [
        {
          "output_type": "execute_result",
          "data": {
            "text/html": [
              "<div>\n",
              "<style scoped>\n",
              "    .dataframe tbody tr th:only-of-type {\n",
              "        vertical-align: middle;\n",
              "    }\n",
              "\n",
              "    .dataframe tbody tr th {\n",
              "        vertical-align: top;\n",
              "    }\n",
              "\n",
              "    .dataframe thead th {\n",
              "        text-align: right;\n",
              "    }\n",
              "</style>\n",
              "<table border=\"1\" class=\"dataframe\">\n",
              "  <thead>\n",
              "    <tr style=\"text-align: right;\">\n",
              "      <th></th>\n",
              "      <th>A1</th>\n",
              "      <th>A2</th>\n",
              "      <th>A3</th>\n",
              "      <th>A4</th>\n",
              "      <th>A5</th>\n",
              "      <th>A6</th>\n",
              "      <th>A7</th>\n",
              "      <th>A8</th>\n",
              "      <th>A9</th>\n",
              "      <th>A10</th>\n",
              "      <th>A11</th>\n",
              "      <th>A12</th>\n",
              "      <th>A13</th>\n",
              "      <th>A14</th>\n",
              "      <th>A15</th>\n",
              "      <th>A16</th>\n",
              "    </tr>\n",
              "  </thead>\n",
              "  <tbody>\n",
              "    <tr>\n",
              "      <th>count</th>\n",
              "      <td>690</td>\n",
              "      <td>690</td>\n",
              "      <td>690.000000</td>\n",
              "      <td>690</td>\n",
              "      <td>690</td>\n",
              "      <td>690</td>\n",
              "      <td>690</td>\n",
              "      <td>690.000000</td>\n",
              "      <td>690</td>\n",
              "      <td>690</td>\n",
              "      <td>690.00000</td>\n",
              "      <td>690</td>\n",
              "      <td>690</td>\n",
              "      <td>690</td>\n",
              "      <td>690.000000</td>\n",
              "      <td>690</td>\n",
              "    </tr>\n",
              "    <tr>\n",
              "      <th>unique</th>\n",
              "      <td>3</td>\n",
              "      <td>350</td>\n",
              "      <td>NaN</td>\n",
              "      <td>4</td>\n",
              "      <td>4</td>\n",
              "      <td>15</td>\n",
              "      <td>10</td>\n",
              "      <td>NaN</td>\n",
              "      <td>2</td>\n",
              "      <td>2</td>\n",
              "      <td>NaN</td>\n",
              "      <td>2</td>\n",
              "      <td>3</td>\n",
              "      <td>171</td>\n",
              "      <td>NaN</td>\n",
              "      <td>2</td>\n",
              "    </tr>\n",
              "    <tr>\n",
              "      <th>top</th>\n",
              "      <td>b</td>\n",
              "      <td>?</td>\n",
              "      <td>NaN</td>\n",
              "      <td>u</td>\n",
              "      <td>g</td>\n",
              "      <td>c</td>\n",
              "      <td>v</td>\n",
              "      <td>NaN</td>\n",
              "      <td>t</td>\n",
              "      <td>f</td>\n",
              "      <td>NaN</td>\n",
              "      <td>f</td>\n",
              "      <td>g</td>\n",
              "      <td>00000</td>\n",
              "      <td>NaN</td>\n",
              "      <td>-</td>\n",
              "    </tr>\n",
              "    <tr>\n",
              "      <th>freq</th>\n",
              "      <td>468</td>\n",
              "      <td>12</td>\n",
              "      <td>NaN</td>\n",
              "      <td>519</td>\n",
              "      <td>519</td>\n",
              "      <td>137</td>\n",
              "      <td>399</td>\n",
              "      <td>NaN</td>\n",
              "      <td>361</td>\n",
              "      <td>395</td>\n",
              "      <td>NaN</td>\n",
              "      <td>374</td>\n",
              "      <td>625</td>\n",
              "      <td>132</td>\n",
              "      <td>NaN</td>\n",
              "      <td>383</td>\n",
              "    </tr>\n",
              "    <tr>\n",
              "      <th>mean</th>\n",
              "      <td>NaN</td>\n",
              "      <td>NaN</td>\n",
              "      <td>4.758725</td>\n",
              "      <td>NaN</td>\n",
              "      <td>NaN</td>\n",
              "      <td>NaN</td>\n",
              "      <td>NaN</td>\n",
              "      <td>2.223406</td>\n",
              "      <td>NaN</td>\n",
              "      <td>NaN</td>\n",
              "      <td>2.40000</td>\n",
              "      <td>NaN</td>\n",
              "      <td>NaN</td>\n",
              "      <td>NaN</td>\n",
              "      <td>1017.385507</td>\n",
              "      <td>NaN</td>\n",
              "    </tr>\n",
              "    <tr>\n",
              "      <th>std</th>\n",
              "      <td>NaN</td>\n",
              "      <td>NaN</td>\n",
              "      <td>4.978163</td>\n",
              "      <td>NaN</td>\n",
              "      <td>NaN</td>\n",
              "      <td>NaN</td>\n",
              "      <td>NaN</td>\n",
              "      <td>3.346513</td>\n",
              "      <td>NaN</td>\n",
              "      <td>NaN</td>\n",
              "      <td>4.86294</td>\n",
              "      <td>NaN</td>\n",
              "      <td>NaN</td>\n",
              "      <td>NaN</td>\n",
              "      <td>5210.102598</td>\n",
              "      <td>NaN</td>\n",
              "    </tr>\n",
              "    <tr>\n",
              "      <th>min</th>\n",
              "      <td>NaN</td>\n",
              "      <td>NaN</td>\n",
              "      <td>0.000000</td>\n",
              "      <td>NaN</td>\n",
              "      <td>NaN</td>\n",
              "      <td>NaN</td>\n",
              "      <td>NaN</td>\n",
              "      <td>0.000000</td>\n",
              "      <td>NaN</td>\n",
              "      <td>NaN</td>\n",
              "      <td>0.00000</td>\n",
              "      <td>NaN</td>\n",
              "      <td>NaN</td>\n",
              "      <td>NaN</td>\n",
              "      <td>0.000000</td>\n",
              "      <td>NaN</td>\n",
              "    </tr>\n",
              "    <tr>\n",
              "      <th>25%</th>\n",
              "      <td>NaN</td>\n",
              "      <td>NaN</td>\n",
              "      <td>1.000000</td>\n",
              "      <td>NaN</td>\n",
              "      <td>NaN</td>\n",
              "      <td>NaN</td>\n",
              "      <td>NaN</td>\n",
              "      <td>0.165000</td>\n",
              "      <td>NaN</td>\n",
              "      <td>NaN</td>\n",
              "      <td>0.00000</td>\n",
              "      <td>NaN</td>\n",
              "      <td>NaN</td>\n",
              "      <td>NaN</td>\n",
              "      <td>0.000000</td>\n",
              "      <td>NaN</td>\n",
              "    </tr>\n",
              "    <tr>\n",
              "      <th>50%</th>\n",
              "      <td>NaN</td>\n",
              "      <td>NaN</td>\n",
              "      <td>2.750000</td>\n",
              "      <td>NaN</td>\n",
              "      <td>NaN</td>\n",
              "      <td>NaN</td>\n",
              "      <td>NaN</td>\n",
              "      <td>1.000000</td>\n",
              "      <td>NaN</td>\n",
              "      <td>NaN</td>\n",
              "      <td>0.00000</td>\n",
              "      <td>NaN</td>\n",
              "      <td>NaN</td>\n",
              "      <td>NaN</td>\n",
              "      <td>5.000000</td>\n",
              "      <td>NaN</td>\n",
              "    </tr>\n",
              "    <tr>\n",
              "      <th>75%</th>\n",
              "      <td>NaN</td>\n",
              "      <td>NaN</td>\n",
              "      <td>7.207500</td>\n",
              "      <td>NaN</td>\n",
              "      <td>NaN</td>\n",
              "      <td>NaN</td>\n",
              "      <td>NaN</td>\n",
              "      <td>2.625000</td>\n",
              "      <td>NaN</td>\n",
              "      <td>NaN</td>\n",
              "      <td>3.00000</td>\n",
              "      <td>NaN</td>\n",
              "      <td>NaN</td>\n",
              "      <td>NaN</td>\n",
              "      <td>395.500000</td>\n",
              "      <td>NaN</td>\n",
              "    </tr>\n",
              "    <tr>\n",
              "      <th>max</th>\n",
              "      <td>NaN</td>\n",
              "      <td>NaN</td>\n",
              "      <td>28.000000</td>\n",
              "      <td>NaN</td>\n",
              "      <td>NaN</td>\n",
              "      <td>NaN</td>\n",
              "      <td>NaN</td>\n",
              "      <td>28.500000</td>\n",
              "      <td>NaN</td>\n",
              "      <td>NaN</td>\n",
              "      <td>67.00000</td>\n",
              "      <td>NaN</td>\n",
              "      <td>NaN</td>\n",
              "      <td>NaN</td>\n",
              "      <td>100000.000000</td>\n",
              "      <td>NaN</td>\n",
              "    </tr>\n",
              "  </tbody>\n",
              "</table>\n",
              "</div>"
            ],
            "text/plain": [
              "         A1   A2          A3   A4   A5   A6   A7          A8   A9  A10  \\\n",
              "count   690  690  690.000000  690  690  690  690  690.000000  690  690   \n",
              "unique    3  350         NaN    4    4   15   10         NaN    2    2   \n",
              "top       b    ?         NaN    u    g    c    v         NaN    t    f   \n",
              "freq    468   12         NaN  519  519  137  399         NaN  361  395   \n",
              "mean    NaN  NaN    4.758725  NaN  NaN  NaN  NaN    2.223406  NaN  NaN   \n",
              "std     NaN  NaN    4.978163  NaN  NaN  NaN  NaN    3.346513  NaN  NaN   \n",
              "min     NaN  NaN    0.000000  NaN  NaN  NaN  NaN    0.000000  NaN  NaN   \n",
              "25%     NaN  NaN    1.000000  NaN  NaN  NaN  NaN    0.165000  NaN  NaN   \n",
              "50%     NaN  NaN    2.750000  NaN  NaN  NaN  NaN    1.000000  NaN  NaN   \n",
              "75%     NaN  NaN    7.207500  NaN  NaN  NaN  NaN    2.625000  NaN  NaN   \n",
              "max     NaN  NaN   28.000000  NaN  NaN  NaN  NaN   28.500000  NaN  NaN   \n",
              "\n",
              "              A11  A12  A13    A14            A15  A16  \n",
              "count   690.00000  690  690    690     690.000000  690  \n",
              "unique        NaN    2    3    171            NaN    2  \n",
              "top           NaN    f    g  00000            NaN    -  \n",
              "freq          NaN  374  625    132            NaN  383  \n",
              "mean      2.40000  NaN  NaN    NaN    1017.385507  NaN  \n",
              "std       4.86294  NaN  NaN    NaN    5210.102598  NaN  \n",
              "min       0.00000  NaN  NaN    NaN       0.000000  NaN  \n",
              "25%       0.00000  NaN  NaN    NaN       0.000000  NaN  \n",
              "50%       0.00000  NaN  NaN    NaN       5.000000  NaN  \n",
              "75%       3.00000  NaN  NaN    NaN     395.500000  NaN  \n",
              "max      67.00000  NaN  NaN    NaN  100000.000000  NaN  "
            ]
          },
          "metadata": {
            "tags": []
          },
          "execution_count": 3
        }
      ]
    },
    {
      "metadata": {
        "id": "b1qz1j1B4gpW",
        "colab_type": "code",
        "colab": {
          "base_uri": "https://localhost:8080/",
          "height": 126
        },
        "outputId": "02c67477-d8c5-433f-ec46-9ea14f51e4c3"
      },
      "cell_type": "code",
      "source": [
        "# A2 and A14 looks like a numerical value feature, \n",
        "# but why show up as NaN in describe.\n",
        "# investigating A2 show up as dtype: object, rather than dtype: float\n",
        "dfa.A2[:5]"
      ],
      "execution_count": 4,
      "outputs": [
        {
          "output_type": "execute_result",
          "data": {
            "text/plain": [
              "0    30.83\n",
              "1    58.67\n",
              "2    24.50\n",
              "3    27.83\n",
              "4    20.17\n",
              "Name: A2, dtype: object"
            ]
          },
          "metadata": {
            "tags": []
          },
          "execution_count": 4
        }
      ]
    },
    {
      "metadata": {
        "id": "ory2b6vS5fLJ",
        "colab_type": "code",
        "colab": {
          "base_uri": "https://localhost:8080/",
          "height": 90
        },
        "outputId": "61447420-b956-4d9b-a4c9-0dfdfa2f05c7"
      },
      "cell_type": "code",
      "source": [
        "# investigate A1 categorical feature, found '?' value. Need to convert to NAN\n",
        "dfa.A1.value_counts()   \n"
      ],
      "execution_count": 5,
      "outputs": [
        {
          "output_type": "execute_result",
          "data": {
            "text/plain": [
              "b    468\n",
              "a    210\n",
              "?     12\n",
              "Name: A1, dtype: int64"
            ]
          },
          "metadata": {
            "tags": []
          },
          "execution_count": 5
        }
      ]
    },
    {
      "metadata": {
        "id": "P_JR0KAG1koX",
        "colab_type": "code",
        "colab": {
          "base_uri": "https://localhost:8080/",
          "height": 326
        },
        "outputId": "fe19a83e-c152-4561-fbc1-20918fa61c88"
      },
      "cell_type": "code",
      "source": [
        "# replace '?' values with np.NAN and \n",
        "#see than A2 and A12 numerical features has NAN numerical value\n",
        "\n",
        "dfa=dfa.replace('?',np.NAN)\n",
        "dfa.isna().sum()\n"
      ],
      "execution_count": 6,
      "outputs": [
        {
          "output_type": "execute_result",
          "data": {
            "text/plain": [
              "A1     12\n",
              "A2     12\n",
              "A3      0\n",
              "A4      6\n",
              "A5      6\n",
              "A6      9\n",
              "A7      9\n",
              "A8      0\n",
              "A9      0\n",
              "A10     0\n",
              "A11     0\n",
              "A12     0\n",
              "A13     0\n",
              "A14    13\n",
              "A15     0\n",
              "A16     0\n",
              "dtype: int64"
            ]
          },
          "metadata": {
            "tags": []
          },
          "execution_count": 6
        }
      ]
    },
    {
      "metadata": {
        "id": "gcRSRXPN2bIf",
        "colab_type": "code",
        "colab": {}
      },
      "cell_type": "code",
      "source": [
        "# instead of dropping NAN numeric feature, convert feature object to numeric\n",
        "dfa.A2 = pd.to_numeric(dfa.A2)\n",
        "dfa.A14 = pd.to_numeric(dfa.A14)"
      ],
      "execution_count": 0,
      "outputs": []
    },
    {
      "metadata": {
        "id": "PP-L5iWp8QGh",
        "colab_type": "code",
        "colab": {
          "base_uri": "https://localhost:8080/",
          "height": 377
        },
        "outputId": "7c6f95e0-7e1d-4ca4-b686-e1e4bacf9c21"
      },
      "cell_type": "code",
      "source": [
        "'''\n",
        "A good way to look at continuous features\n",
        "Look for correlation and histogram\n",
        "Look like all are right skewed and some correlation.\n",
        "'''\n",
        "pd.plotting.scatter_matrix(dfa);"
      ],
      "execution_count": 8,
      "outputs": [
        {
          "output_type": "display_data",
          "data": {
            "image/png": "[encoded data removed]",
            "text/plain": [
              "<matplotlib.figure.Figure at 0x7f3159cf7cf8>"
            ]
          },
          "metadata": {
            "tags": []
          }
        }
      ]
    },
    {
      "metadata": {
        "id": "rjnEGpID2GAe",
        "colab_type": "code",
        "colab": {
          "base_uri": "https://localhost:8080/",
          "height": 391
        },
        "outputId": "0e2307e5-e24f-4cea-886f-66991f2a974d"
      },
      "cell_type": "code",
      "source": [
        "# Using boxplot to see how they vary by class feature\n",
        "# vert=False, forcing A16 grouping horizontally as observation from\n",
        "# feature toward all numeric features.\n",
        "# But couldn't see much. May be, there are outlier influence\n",
        "dfa.boxplot(vert=False, by='A16');\n"
      ],
      "execution_count": 9,
      "outputs": [
        {
          "output_type": "display_data",
          "data": {
            "image/png": "[encoded data removed]",
            "text/plain": [
              "<matplotlib.figure.Figure at 0x7f312fe7cbe0>"
            ]
          },
          "metadata": {
            "tags": []
          }
        }
      ]
    },
    {
      "metadata": {
        "id": "GJl1wzw3_P9g",
        "colab_type": "code",
        "colab": {
          "base_uri": "https://localhost:8080/",
          "height": 391
        },
        "outputId": "8ee0be4c-84db-4230-818a-b20064f182e0"
      },
      "cell_type": "code",
      "source": [
        "# boxplot automatically select numeric feature to plot.\n",
        "# filtering out outliers\n",
        "# A3 outlier stretch the x-axis to 3000, skew the boxplot for features..\n",
        "# \n",
        "dfa.boxplot(vert=False, by='A16', showfliers=False);"
      ],
      "execution_count": 10,
      "outputs": [
        {
          "output_type": "display_data",
          "data": {
            "image/png": "[encoded data removed]",
            "text/plain": [
              "<matplotlib.figure.Figure at 0x7f312e1e8438>"
            ]
          },
          "metadata": {
            "tags": []
          }
        }
      ]
    },
    {
      "metadata": {
        "id": "BSvwrVXYARNa",
        "colab_type": "code",
        "colab": {
          "base_uri": "https://localhost:8080/",
          "height": 2259
        },
        "outputId": "6e61a75c-c0f3-42ed-fc7b-18e347c89492"
      },
      "cell_type": "code",
      "source": [
        "# Have to boxplot one column feature against A16 class one by one.\n",
        "\n",
        "# A2 grouped by A16 = median '+' is about equal to '-'.\n",
        "# A3 grouped by A16 = '+' double '-'. Positive credit influence.\n",
        "# A8 grouped by A16 = Many credit approval. A8 is highly favorable to approval.\n",
        "# A11 = No negative credit or not enough data.\n",
        "# A14 = credit about the same as no credit.\n",
        "cols = ['A2','A3','A8','A11','A14','A15']\n",
        "\n",
        "boxplots = [ dfa.boxplot(column=col, by='A16', showfliers=False) for col in cols ]"
      ],
      "execution_count": 11,
      "outputs": [
        {
          "output_type": "display_data",
          "data": {
            "image/png": "[encoded data removed]",
            "text/plain": [
              "<matplotlib.figure.Figure at 0x7f312dec37f0>"
            ]
          },
          "metadata": {
            "tags": []
          }
        },
        {
          "output_type": "display_data",
          "data": {
            "image/png": "[encoded data removed]",
            "text/plain": [
              "<matplotlib.figure.Figure at 0x7f312dfa8438>"
            ]
          },
          "metadata": {
            "tags": []
          }
        },
        {
          "output_type": "display_data",
          "data": {
            "image/png": "[encoded data removed]",
            "text/plain": [
              "<matplotlib.figure.Figure at 0x7f312e0795f8>"
            ]
          },
          "metadata": {
            "tags": []
          }
        },
        {
          "output_type": "display_data",
          "data": {
            "image/png": "[encoded data removed]",
            "text/plain": [
              "<matplotlib.figure.Figure at 0x7f312e39f470>"
            ]
          },
          "metadata": {
            "tags": []
          }
        },
        {
          "output_type": "display_data",
          "data": {
            "image/png": "[encoded data removed]",
            "text/plain": [
              "<matplotlib.figure.Figure at 0x7f312e224630>"
            ]
          },
          "metadata": {
            "tags": []
          }
        },
        {
          "output_type": "display_data",
          "data": {
            "image/png": "[encoded data removed]",
            "text/plain": [
              "<matplotlib.figure.Figure at 0x7f312e224240>"
            ]
          },
          "metadata": {
            "tags": []
          }
        }
      ]
    },
    {
      "metadata": {
        "id": "svSTZnrAaIU4",
        "colab_type": "code",
        "colab": {}
      },
      "cell_type": "code",
      "source": [
        "dfa_pos = dfa[ dfa.A16 == '+']\n",
        "dfa_neg = dfa[ dfa.A16 == '-']"
      ],
      "execution_count": 0,
      "outputs": []
    },
    {
      "metadata": {
        "id": "jyYrtdUdbsUq",
        "colab_type": "code",
        "colab": {
          "base_uri": "https://localhost:8080/",
          "height": 35
        },
        "outputId": "054e807c-93e2-4ce4-de82-3a6615e7394c"
      },
      "cell_type": "code",
      "source": [
        "dfa_pos.shape"
      ],
      "execution_count": 20,
      "outputs": [
        {
          "output_type": "execute_result",
          "data": {
            "text/plain": [
              "(307, 16)"
            ]
          },
          "metadata": {
            "tags": []
          },
          "execution_count": 20
        }
      ]
    },
    {
      "metadata": {
        "id": "VcQNin6SZA78",
        "colab_type": "code",
        "colab": {
          "base_uri": "https://localhost:8080/",
          "height": 35
        },
        "outputId": "91a611fb-2ef4-4672-bc3f-1f46d3814d5c"
      },
      "cell_type": "code",
      "source": [
        "from scipy.stats import ttest_ind\n",
        "\n",
        "# pick A8 the most credit favourable to test\n",
        "# pvalue less than 0.01\n",
        "ttest_ind(dfa_pos.A8, dfa_neg.A8)\n"
      ],
      "execution_count": 25,
      "outputs": [
        {
          "output_type": "execute_result",
          "data": {
            "text/plain": [
              "Ttest_indResult(statistic=8.935819983773698, pvalue=3.6710537401601785e-18)"
            ]
          },
          "metadata": {
            "tags": []
          },
          "execution_count": 25
        }
      ]
    },
    {
      "metadata": {
        "id": "kRbvX1qscQdg",
        "colab_type": "code",
        "colab": {
          "base_uri": "https://localhost:8080/",
          "height": 35
        },
        "outputId": "cb994c84-1422-43ed-82cb-6e3fc032d123"
      },
      "cell_type": "code",
      "source": [
        "# result show NaN. Need to remove NaN because it is affected the result.\n",
        "ttest_ind(dfa_pos.A14, dfa_neg.A14)"
      ],
      "execution_count": 21,
      "outputs": [
        {
          "output_type": "execute_result",
          "data": {
            "text/plain": [
              "Ttest_indResult(statistic=nan, pvalue=nan)"
            ]
          },
          "metadata": {
            "tags": []
          },
          "execution_count": 21
        }
      ]
    },
    {
      "metadata": {
        "id": "hP5nH36FcqAm",
        "colab_type": "code",
        "colab": {
          "base_uri": "https://localhost:8080/",
          "height": 35
        },
        "outputId": "b19bd570-a30f-4def-f218-abcb18158919"
      },
      "cell_type": "code",
      "source": [
        "# nan_policy\n",
        "ttest_ind(dfa_pos.A14, dfa_neg.A14, nan_policy='omit')"
      ],
      "execution_count": 22,
      "outputs": [
        {
          "output_type": "execute_result",
          "data": {
            "text/plain": [
              "Ttest_indResult(statistic=-2.6358251986645476, pvalue=0.008586135473979569)"
            ]
          },
          "metadata": {
            "tags": []
          },
          "execution_count": 22
        }
      ]
    },
    {
      "metadata": {
        "id": "Jb8k4Y1OjdGr",
        "colab_type": "text"
      },
      "cell_type": "markdown",
      "source": [
        "### Analysis Interpretation Solution for Continuous feature:\n",
        "\n",
        "* A8 had extremely large and positive test statistic, suggesting that it is representing a characteristic that enable people to strongly get credit approved than fail to get approved.\n",
        "\n",
        "* A14 had significant but smaller negative test statistic, suggesting it is representing a characteristic that common and extreme amongst people who fail to get credit approved.\n"
      ]
    },
    {
      "metadata": {
        "id": "bxvp_Wf80qra",
        "colab_type": "code",
        "colab": {
          "base_uri": "https://localhost:8080/",
          "height": 138
        },
        "outputId": "d85e1c98-6913-427b-f93e-9da729425312"
      },
      "cell_type": "code",
      "source": [
        "# For categorical features, crosstab each one by one with A16 credit/no credit\n",
        "category_features = [dfa.A1, dfa.A4, dfa.A5, dfa.A6, dfa.A7, dfa.A9, dfa.A10,\n",
        "                    dfa.A12, dfa.A13]\n",
        "\n",
        "crosstabs= [pd.crosstab(dfa.A16, f ) for f in category_features]\n",
        "crosstabs[0]"
      ],
      "execution_count": 29,
      "outputs": [
        {
          "output_type": "execute_result",
          "data": {
            "text/html": [
              "<div>\n",
              "<style scoped>\n",
              "    .dataframe tbody tr th:only-of-type {\n",
              "        vertical-align: middle;\n",
              "    }\n",
              "\n",
              "    .dataframe tbody tr th {\n",
              "        vertical-align: top;\n",
              "    }\n",
              "\n",
              "    .dataframe thead th {\n",
              "        text-align: right;\n",
              "    }\n",
              "</style>\n",
              "<table border=\"1\" class=\"dataframe\">\n",
              "  <thead>\n",
              "    <tr style=\"text-align: right;\">\n",
              "      <th>A1</th>\n",
              "      <th>a</th>\n",
              "      <th>b</th>\n",
              "    </tr>\n",
              "    <tr>\n",
              "      <th>A16</th>\n",
              "      <th></th>\n",
              "      <th></th>\n",
              "    </tr>\n",
              "  </thead>\n",
              "  <tbody>\n",
              "    <tr>\n",
              "      <th>+</th>\n",
              "      <td>98</td>\n",
              "      <td>206</td>\n",
              "    </tr>\n",
              "    <tr>\n",
              "      <th>-</th>\n",
              "      <td>112</td>\n",
              "      <td>262</td>\n",
              "    </tr>\n",
              "  </tbody>\n",
              "</table>\n",
              "</div>"
            ],
            "text/plain": [
              "A1     a    b\n",
              "A16          \n",
              "+     98  206\n",
              "-    112  262"
            ]
          },
          "metadata": {
            "tags": []
          },
          "execution_count": 29
        }
      ]
    },
    {
      "metadata": {
        "id": "qwLcQ8fpiC_W",
        "colab_type": "code",
        "colab": {
          "base_uri": "https://localhost:8080/",
          "height": 1326
        },
        "outputId": "1a9badf2-5614-4f29-ce33-6077bd3985c6"
      },
      "cell_type": "code",
      "source": [
        "# Apply chisquare to the crosstabs value\n",
        "from scipy.stats import chisquare\n",
        "\n",
        "for crosstab in crosstabs:\n",
        "  print(crosstab)\n",
        "  print(chisquare(crosstab, axis=None))\n",
        "  print('\\n\\n')"
      ],
      "execution_count": 30,
      "outputs": [
        {
          "output_type": "stream",
          "text": [
            "A1     a    b\n",
            "A16          \n",
            "+     98  206\n",
            "-    112  262\n",
            "Power_divergenceResult(statistic=108.00589970501474, pvalue=2.947455715876286e-23)\n",
            "\n",
            "\n",
            "\n",
            "A4   l    u    y\n",
            "A16             \n",
            "+    2  256   45\n",
            "-    0  263  118\n",
            "Power_divergenceResult(statistic=637.561403508772, pvalue=1.545055409454076e-135)\n",
            "\n",
            "\n",
            "\n",
            "A5     g  gg    p\n",
            "A16              \n",
            "+    256   2   45\n",
            "-    263   0  118\n",
            "Power_divergenceResult(statistic=637.561403508772, pvalue=1.545055409454076e-135)\n",
            "\n",
            "\n",
            "\n",
            "A6   aa   c  cc   d   e  ff   i  j   k   m   q  r   w   x\n",
            "A16                                                      \n",
            "+    19  62  29   7  14   7  14  3  14  16  51  2  33  32\n",
            "-    35  75  12  23  11  46  45  7  37  22  27  1  31   6\n",
            "Power_divergenceResult(statistic=393.32011747430255, pvalue=1.1436746143425653e-66)\n",
            "\n",
            "\n",
            "\n",
            "A7   bb  dd  ff   h  j  n  o    v  z\n",
            "A16                                 \n",
            "+    25   2   8  87  3  2  1  169  6\n",
            "-    34   4  49  51  5  2  1  230  2\n",
            "Power_divergenceResult(statistic=1855.9427312775329, pvalue=0.0)\n",
            "\n",
            "\n",
            "\n",
            "A9     f    t\n",
            "A16          \n",
            "+     23  284\n",
            "-    306   77\n",
            "Power_divergenceResult(statistic=357.82608695652175, pvalue=3.01326407188219e-77)\n",
            "\n",
            "\n",
            "\n",
            "A10    f    t\n",
            "A16          \n",
            "+     98  209\n",
            "-    297   86\n",
            "Power_divergenceResult(statistic=173.1304347826087, pvalue=2.6842170765821316e-37)\n",
            "\n",
            "\n",
            "\n",
            "A12    f    t\n",
            "A16          \n",
            "+    161  146\n",
            "-    213  170\n",
            "Power_divergenceResult(statistic=14.382608695652175, pvalue=0.0024280203352694866)\n",
            "\n",
            "\n",
            "\n",
            "A13    g  p   s\n",
            "A16            \n",
            "+    287  5  15\n",
            "-    338  3  42\n",
            "Power_divergenceResult(statistic=1037.2695652173913, pvalue=5.124924990548949e-222)\n",
            "\n",
            "\n",
            "\n"
          ],
          "name": "stdout"
        }
      ]
    },
    {
      "metadata": {
        "id": "0n1qdJTjl9f6",
        "colab_type": "text"
      },
      "cell_type": "markdown",
      "source": [
        "### Analysis Interpretation for Categorical features\n",
        "*Chisquare by itself doesn't tell us much, so we have to look at the counts themselves*\n",
        "\n",
        "* A7 had extreme test statistic(pvalue=0), due to many category value and  many of them  are very small. The more category value, the more chisquare exaggerate the effect by the squaring power.\n",
        "* A9 is a simple t/f category with more even data amount but extreme distribution, with 284 't' getting credit vs 306 'f' not getting credit.\n",
        "* A12 is t/f like A9, but less extreme. Both credit and non-credit have more f than t."
      ]
    },
    {
      "metadata": {
        "id": "5yFAqMAcgzCq",
        "colab_type": "text"
      },
      "cell_type": "markdown",
      "source": [
        "### End of Solution"
      ]
    },
    {
      "metadata": {
        "id": "f66B8JJ140GC",
        "colab_type": "code",
        "colab": {}
      },
      "cell_type": "code",
      "source": [
        "df.dropna(inplace=True)"
      ],
      "execution_count": 0,
      "outputs": []
    },
    {
      "metadata": {
        "id": "ZOHw1sv4ikQE",
        "colab_type": "code",
        "colab": {
          "base_uri": "https://localhost:8080/",
          "height": 288
        },
        "outputId": "d4ede9d3-f4ca-44ba-836b-202173fbf0eb"
      },
      "cell_type": "code",
      "source": [
        "#  convert missing data='?' into NAN, correctly identify feature as numeric from object.\n",
        "df.describe()\n"
      ],
      "execution_count": 56,
      "outputs": [
        {
          "output_type": "execute_result",
          "data": {
            "text/html": [
              "<div>\n",
              "<style scoped>\n",
              "    .dataframe tbody tr th:only-of-type {\n",
              "        vertical-align: middle;\n",
              "    }\n",
              "\n",
              "    .dataframe tbody tr th {\n",
              "        vertical-align: top;\n",
              "    }\n",
              "\n",
              "    .dataframe thead th {\n",
              "        text-align: right;\n",
              "    }\n",
              "</style>\n",
              "<table border=\"1\" class=\"dataframe\">\n",
              "  <thead>\n",
              "    <tr style=\"text-align: right;\">\n",
              "      <th></th>\n",
              "      <th>1</th>\n",
              "      <th>2</th>\n",
              "      <th>7</th>\n",
              "      <th>10</th>\n",
              "      <th>13</th>\n",
              "      <th>14</th>\n",
              "    </tr>\n",
              "  </thead>\n",
              "  <tbody>\n",
              "    <tr>\n",
              "      <th>count</th>\n",
              "      <td>678.000000</td>\n",
              "      <td>690.000000</td>\n",
              "      <td>690.000000</td>\n",
              "      <td>690.00000</td>\n",
              "      <td>677.000000</td>\n",
              "      <td>690.000000</td>\n",
              "    </tr>\n",
              "    <tr>\n",
              "      <th>mean</th>\n",
              "      <td>31.568171</td>\n",
              "      <td>4.758725</td>\n",
              "      <td>2.223406</td>\n",
              "      <td>2.40000</td>\n",
              "      <td>184.014771</td>\n",
              "      <td>1017.385507</td>\n",
              "    </tr>\n",
              "    <tr>\n",
              "      <th>std</th>\n",
              "      <td>11.957862</td>\n",
              "      <td>4.978163</td>\n",
              "      <td>3.346513</td>\n",
              "      <td>4.86294</td>\n",
              "      <td>173.806768</td>\n",
              "      <td>5210.102598</td>\n",
              "    </tr>\n",
              "    <tr>\n",
              "      <th>min</th>\n",
              "      <td>13.750000</td>\n",
              "      <td>0.000000</td>\n",
              "      <td>0.000000</td>\n",
              "      <td>0.00000</td>\n",
              "      <td>0.000000</td>\n",
              "      <td>0.000000</td>\n",
              "    </tr>\n",
              "    <tr>\n",
              "      <th>25%</th>\n",
              "      <td>22.602500</td>\n",
              "      <td>1.000000</td>\n",
              "      <td>0.165000</td>\n",
              "      <td>0.00000</td>\n",
              "      <td>75.000000</td>\n",
              "      <td>0.000000</td>\n",
              "    </tr>\n",
              "    <tr>\n",
              "      <th>50%</th>\n",
              "      <td>28.460000</td>\n",
              "      <td>2.750000</td>\n",
              "      <td>1.000000</td>\n",
              "      <td>0.00000</td>\n",
              "      <td>160.000000</td>\n",
              "      <td>5.000000</td>\n",
              "    </tr>\n",
              "    <tr>\n",
              "      <th>75%</th>\n",
              "      <td>38.230000</td>\n",
              "      <td>7.207500</td>\n",
              "      <td>2.625000</td>\n",
              "      <td>3.00000</td>\n",
              "      <td>276.000000</td>\n",
              "      <td>395.500000</td>\n",
              "    </tr>\n",
              "    <tr>\n",
              "      <th>max</th>\n",
              "      <td>80.250000</td>\n",
              "      <td>28.000000</td>\n",
              "      <td>28.500000</td>\n",
              "      <td>67.00000</td>\n",
              "      <td>2000.000000</td>\n",
              "      <td>100000.000000</td>\n",
              "    </tr>\n",
              "  </tbody>\n",
              "</table>\n",
              "</div>"
            ],
            "text/plain": [
              "               1           2           7          10           13  \\\n",
              "count  678.000000  690.000000  690.000000  690.00000   677.000000   \n",
              "mean    31.568171    4.758725    2.223406    2.40000   184.014771   \n",
              "std     11.957862    4.978163    3.346513    4.86294   173.806768   \n",
              "min     13.750000    0.000000    0.000000    0.00000     0.000000   \n",
              "25%     22.602500    1.000000    0.165000    0.00000    75.000000   \n",
              "50%     28.460000    2.750000    1.000000    0.00000   160.000000   \n",
              "75%     38.230000    7.207500    2.625000    3.00000   276.000000   \n",
              "max     80.250000   28.000000   28.500000   67.00000  2000.000000   \n",
              "\n",
              "                  14  \n",
              "count     690.000000  \n",
              "mean     1017.385507  \n",
              "std      5210.102598  \n",
              "min         0.000000  \n",
              "25%         0.000000  \n",
              "50%         5.000000  \n",
              "75%       395.500000  \n",
              "max    100000.000000  "
            ]
          },
          "metadata": {
            "tags": []
          },
          "execution_count": 56
        }
      ]
    },
    {
      "metadata": {
        "id": "o5U_kpRPk3gQ",
        "colab_type": "code",
        "colab": {
          "base_uri": "https://localhost:8080/",
          "height": 168
        },
        "outputId": "4c4d6efc-cee1-4598-cec1-65e5ecdeeacf"
      },
      "cell_type": "code",
      "source": [
        "df.describe(exclude=np.number)"
      ],
      "execution_count": 57,
      "outputs": [
        {
          "output_type": "execute_result",
          "data": {
            "text/html": [
              "<div>\n",
              "<style scoped>\n",
              "    .dataframe tbody tr th:only-of-type {\n",
              "        vertical-align: middle;\n",
              "    }\n",
              "\n",
              "    .dataframe tbody tr th {\n",
              "        vertical-align: top;\n",
              "    }\n",
              "\n",
              "    .dataframe thead th {\n",
              "        text-align: right;\n",
              "    }\n",
              "</style>\n",
              "<table border=\"1\" class=\"dataframe\">\n",
              "  <thead>\n",
              "    <tr style=\"text-align: right;\">\n",
              "      <th></th>\n",
              "      <th>0</th>\n",
              "      <th>3</th>\n",
              "      <th>4</th>\n",
              "      <th>5</th>\n",
              "      <th>6</th>\n",
              "      <th>8</th>\n",
              "      <th>9</th>\n",
              "      <th>11</th>\n",
              "      <th>12</th>\n",
              "      <th>15</th>\n",
              "    </tr>\n",
              "  </thead>\n",
              "  <tbody>\n",
              "    <tr>\n",
              "      <th>count</th>\n",
              "      <td>678</td>\n",
              "      <td>684</td>\n",
              "      <td>684</td>\n",
              "      <td>681</td>\n",
              "      <td>681</td>\n",
              "      <td>690</td>\n",
              "      <td>690</td>\n",
              "      <td>690</td>\n",
              "      <td>690</td>\n",
              "      <td>690</td>\n",
              "    </tr>\n",
              "    <tr>\n",
              "      <th>unique</th>\n",
              "      <td>2</td>\n",
              "      <td>3</td>\n",
              "      <td>3</td>\n",
              "      <td>14</td>\n",
              "      <td>9</td>\n",
              "      <td>2</td>\n",
              "      <td>2</td>\n",
              "      <td>2</td>\n",
              "      <td>3</td>\n",
              "      <td>2</td>\n",
              "    </tr>\n",
              "    <tr>\n",
              "      <th>top</th>\n",
              "      <td>b</td>\n",
              "      <td>u</td>\n",
              "      <td>g</td>\n",
              "      <td>c</td>\n",
              "      <td>v</td>\n",
              "      <td>t</td>\n",
              "      <td>f</td>\n",
              "      <td>f</td>\n",
              "      <td>g</td>\n",
              "      <td>-</td>\n",
              "    </tr>\n",
              "    <tr>\n",
              "      <th>freq</th>\n",
              "      <td>468</td>\n",
              "      <td>519</td>\n",
              "      <td>519</td>\n",
              "      <td>137</td>\n",
              "      <td>399</td>\n",
              "      <td>361</td>\n",
              "      <td>395</td>\n",
              "      <td>374</td>\n",
              "      <td>625</td>\n",
              "      <td>383</td>\n",
              "    </tr>\n",
              "  </tbody>\n",
              "</table>\n",
              "</div>"
            ],
            "text/plain": [
              "         0    3    4    5    6    8    9    11   12   15\n",
              "count   678  684  684  681  681  690  690  690  690  690\n",
              "unique    2    3    3   14    9    2    2    2    3    2\n",
              "top       b    u    g    c    v    t    f    f    g    -\n",
              "freq    468  519  519  137  399  361  395  374  625  383"
            ]
          },
          "metadata": {
            "tags": []
          },
          "execution_count": 57
        }
      ]
    },
    {
      "metadata": {
        "id": "G7rLytbrO38L",
        "colab_type": "text"
      },
      "cell_type": "markdown",
      "source": [
        "## Part 2 - Exploring data, Testing hypotheses\n",
        "\n",
        "The only thing we really know about this data is that A16 is the class label. Besides that, we have 6 continuous (float) features and 9 categorical features.\n",
        "\n",
        "Explore the data: you can use whatever approach (tables, utility functions, visualizations) to get an impression of the distributions and relationships of the variables. In general, your goal is to understand how the features are different when grouped by the two class labels (`+` and `-`).\n",
        "\n",
        "For the 6 continuous features, how are they different when split between the two class labels? Choose two features to run t-tests (again split by class label) - specifically, select one feature that is *extremely* different between the classes, and another feature that is notably less different (though perhaps still \"statistically significantly\" different). You may have to explore more than two features to do this.\n",
        "\n",
        "For the categorical features, explore by creating \"cross tabs\" between them and the class label, and apply the Chi-squared test to them. There are 9 categorical features - as with the t-test, try to find one where the Chi-squared test returns an extreme result (rejecting the null that the data are independent), and one where it is less extreme.\n",
        "\n",
        "**NOTE** - \"less extreme\" just means smaller test statistic/larger p-value. Even the least extreme differences may be strongly statistically significant.\n",
        "\n",
        "Your *main* goal is the hypothesis tests, so don't spend too much time on the exploration/visualization piece. That is just a means to an end. This is challenging, so manage your time and aim for a baseline of at least running two t-tests and two Chi-squared tests before polishing. And don't forget to answer the questions in part 3, even if your results in this part aren't what you want them to be."
      ]
    },
    {
      "metadata": {
        "id": "_nqcgc0yzm68",
        "colab_type": "code",
        "colab": {}
      },
      "cell_type": "code",
      "source": [
        "# Separate by approve status\n",
        "df_plus = df[ (df[15] == '+') ]\n",
        "df_minus= df[ df[15] == '-']"
      ],
      "execution_count": 0,
      "outputs": []
    },
    {
      "metadata": {
        "id": "EIEKO5iFxEmE",
        "colab_type": "code",
        "colab": {
          "base_uri": "https://localhost:8080/",
          "height": 228
        },
        "outputId": "c1010a19-8f20-4a3e-b8a8-62410046db96"
      },
      "cell_type": "code",
      "source": [
        "# ttest independent for Approved continuous features\n",
        "# Any relationship between approved and disapproved continuous features\n",
        "from scipy.stats import ttest_ind\n",
        "from scipy.stats import ttest_rel\n",
        "\n",
        "cont_features_ind = pd.DataFrame(columns=['features','statistic_ind','pvalue_ind'])\n",
        "\n",
        "i=0\n",
        "for f in [1,2,7,10,13,14]:\n",
        "  t_ind, p_ind = ttest_ind(df_plus[f], df_minus[f])\n",
        "  cont_features_ind.loc[i] = [str(f),t_ind, p_ind]\n",
        "  i = i + 1\n",
        "  \n",
        "cont_features_ind"
      ],
      "execution_count": 121,
      "outputs": [
        {
          "output_type": "execute_result",
          "data": {
            "text/html": [
              "<div>\n",
              "<style scoped>\n",
              "    .dataframe tbody tr th:only-of-type {\n",
              "        vertical-align: middle;\n",
              "    }\n",
              "\n",
              "    .dataframe tbody tr th {\n",
              "        vertical-align: top;\n",
              "    }\n",
              "\n",
              "    .dataframe thead th {\n",
              "        text-align: right;\n",
              "    }\n",
              "</style>\n",
              "<table border=\"1\" class=\"dataframe\">\n",
              "  <thead>\n",
              "    <tr style=\"text-align: right;\">\n",
              "      <th></th>\n",
              "      <th>features</th>\n",
              "      <th>statistic_ind</th>\n",
              "      <th>pvalue_ind</th>\n",
              "    </tr>\n",
              "  </thead>\n",
              "  <tbody>\n",
              "    <tr>\n",
              "      <th>0</th>\n",
              "      <td>1</td>\n",
              "      <td>4.675662</td>\n",
              "      <td>3.563671e-06</td>\n",
              "    </tr>\n",
              "    <tr>\n",
              "      <th>1</th>\n",
              "      <td>2</td>\n",
              "      <td>5.400813</td>\n",
              "      <td>9.310154e-08</td>\n",
              "    </tr>\n",
              "    <tr>\n",
              "      <th>2</th>\n",
              "      <td>7</td>\n",
              "      <td>9.002392</td>\n",
              "      <td>2.407924e-18</td>\n",
              "    </tr>\n",
              "    <tr>\n",
              "      <th>3</th>\n",
              "      <td>10</td>\n",
              "      <td>11.336965</td>\n",
              "      <td>2.586465e-27</td>\n",
              "    </tr>\n",
              "    <tr>\n",
              "      <th>4</th>\n",
              "      <td>13</td>\n",
              "      <td>-2.182219</td>\n",
              "      <td>2.945010e-02</td>\n",
              "    </tr>\n",
              "    <tr>\n",
              "      <th>5</th>\n",
              "      <td>14</td>\n",
              "      <td>4.475370</td>\n",
              "      <td>9.003916e-06</td>\n",
              "    </tr>\n",
              "  </tbody>\n",
              "</table>\n",
              "</div>"
            ],
            "text/plain": [
              "  features  statistic_ind    pvalue_ind\n",
              "0        1       4.675662  3.563671e-06\n",
              "1        2       5.400813  9.310154e-08\n",
              "2        7       9.002392  2.407924e-18\n",
              "3       10      11.336965  2.586465e-27\n",
              "4       13      -2.182219  2.945010e-02\n",
              "5       14       4.475370  9.003916e-06"
            ]
          },
          "metadata": {
            "tags": []
          },
          "execution_count": 121
        }
      ]
    },
    {
      "metadata": {
        "id": "GNddblbgcHAk",
        "colab_type": "code",
        "colab": {}
      },
      "cell_type": "code",
      "source": [
        "df=df.replace('+',1)\n",
        "df=df.replace('-',0)"
      ],
      "execution_count": 0,
      "outputs": []
    },
    {
      "metadata": {
        "id": "I4_I5NMFc-bj",
        "colab_type": "code",
        "colab": {
          "base_uri": "https://localhost:8080/",
          "height": 228
        },
        "outputId": "9a0e6f71-de94-44e1-af78-33a2c388b47a"
      },
      "cell_type": "code",
      "source": [
        "# ttest independence test on Approved and Non-approved continuous features\n",
        "cont_features_ind2 = pd.DataFrame(columns=['features','statistic_ind','pvalue_ind'])\n",
        "\n",
        "i=0\n",
        "for f in [1,2,7,10,13,14]:\n",
        "  t_ind, p_ind = ttest_ind(df[15], df[f])\n",
        "  cont_features_ind2.loc[i] = [str(f),t_ind, p_ind]\n",
        "  i = i + 1\n",
        "  \n",
        "cont_features_ind2"
      ],
      "execution_count": 122,
      "outputs": [
        {
          "output_type": "execute_result",
          "data": {
            "text/html": [
              "<div>\n",
              "<style scoped>\n",
              "    .dataframe tbody tr th:only-of-type {\n",
              "        vertical-align: middle;\n",
              "    }\n",
              "\n",
              "    .dataframe tbody tr th {\n",
              "        vertical-align: top;\n",
              "    }\n",
              "\n",
              "    .dataframe thead th {\n",
              "        text-align: right;\n",
              "    }\n",
              "</style>\n",
              "<table border=\"1\" class=\"dataframe\">\n",
              "  <thead>\n",
              "    <tr style=\"text-align: right;\">\n",
              "      <th></th>\n",
              "      <th>features</th>\n",
              "      <th>statistic_ind</th>\n",
              "      <th>pvalue_ind</th>\n",
              "    </tr>\n",
              "  </thead>\n",
              "  <tbody>\n",
              "    <tr>\n",
              "      <th>0</th>\n",
              "      <td>1</td>\n",
              "      <td>-66.965808</td>\n",
              "      <td>0.000000e+00</td>\n",
              "    </tr>\n",
              "    <tr>\n",
              "      <th>1</th>\n",
              "      <td>2</td>\n",
              "      <td>-22.137059</td>\n",
              "      <td>1.932402e-92</td>\n",
              "    </tr>\n",
              "    <tr>\n",
              "      <th>2</th>\n",
              "      <td>7</td>\n",
              "      <td>-13.430347</td>\n",
              "      <td>1.300827e-38</td>\n",
              "    </tr>\n",
              "    <tr>\n",
              "      <th>3</th>\n",
              "      <td>10</td>\n",
              "      <td>-10.485814</td>\n",
              "      <td>9.386469e-25</td>\n",
              "    </tr>\n",
              "    <tr>\n",
              "      <th>4</th>\n",
              "      <td>13</td>\n",
              "      <td>-27.316551</td>\n",
              "      <td>2.715155e-130</td>\n",
              "    </tr>\n",
              "    <tr>\n",
              "      <th>5</th>\n",
              "      <td>14</td>\n",
              "      <td>-4.929099</td>\n",
              "      <td>9.322324e-07</td>\n",
              "    </tr>\n",
              "  </tbody>\n",
              "</table>\n",
              "</div>"
            ],
            "text/plain": [
              "  features  statistic_ind     pvalue_ind\n",
              "0        1     -66.965808   0.000000e+00\n",
              "1        2     -22.137059   1.932402e-92\n",
              "2        7     -13.430347   1.300827e-38\n",
              "3       10     -10.485814   9.386469e-25\n",
              "4       13     -27.316551  2.715155e-130\n",
              "5       14      -4.929099   9.322324e-07"
            ]
          },
          "metadata": {
            "tags": []
          },
          "execution_count": 122
        }
      ]
    },
    {
      "metadata": {
        "id": "DO0eleVo5wH9",
        "colab_type": "code",
        "colab": {
          "base_uri": "https://localhost:8080/",
          "height": 288
        },
        "outputId": "259635b4-381b-4355-84cd-55fe2e49ae57"
      },
      "cell_type": "code",
      "source": [
        "df.describe()"
      ],
      "execution_count": 123,
      "outputs": [
        {
          "output_type": "execute_result",
          "data": {
            "text/html": [
              "<div>\n",
              "<style scoped>\n",
              "    .dataframe tbody tr th:only-of-type {\n",
              "        vertical-align: middle;\n",
              "    }\n",
              "\n",
              "    .dataframe tbody tr th {\n",
              "        vertical-align: top;\n",
              "    }\n",
              "\n",
              "    .dataframe thead th {\n",
              "        text-align: right;\n",
              "    }\n",
              "</style>\n",
              "<table border=\"1\" class=\"dataframe\">\n",
              "  <thead>\n",
              "    <tr style=\"text-align: right;\">\n",
              "      <th></th>\n",
              "      <th>1</th>\n",
              "      <th>2</th>\n",
              "      <th>7</th>\n",
              "      <th>10</th>\n",
              "      <th>13</th>\n",
              "      <th>14</th>\n",
              "      <th>15</th>\n",
              "    </tr>\n",
              "  </thead>\n",
              "  <tbody>\n",
              "    <tr>\n",
              "      <th>count</th>\n",
              "      <td>653.000000</td>\n",
              "      <td>653.000000</td>\n",
              "      <td>653.000000</td>\n",
              "      <td>653.000000</td>\n",
              "      <td>653.000000</td>\n",
              "      <td>653.000000</td>\n",
              "      <td>653.000000</td>\n",
              "    </tr>\n",
              "    <tr>\n",
              "      <th>mean</th>\n",
              "      <td>31.503813</td>\n",
              "      <td>4.829533</td>\n",
              "      <td>2.244296</td>\n",
              "      <td>2.502297</td>\n",
              "      <td>180.359877</td>\n",
              "      <td>1013.761103</td>\n",
              "      <td>0.453292</td>\n",
              "    </tr>\n",
              "    <tr>\n",
              "      <th>std</th>\n",
              "      <td>11.838267</td>\n",
              "      <td>5.027077</td>\n",
              "      <td>3.371120</td>\n",
              "      <td>4.968497</td>\n",
              "      <td>168.296811</td>\n",
              "      <td>5253.278504</td>\n",
              "      <td>0.498195</td>\n",
              "    </tr>\n",
              "    <tr>\n",
              "      <th>min</th>\n",
              "      <td>13.750000</td>\n",
              "      <td>0.000000</td>\n",
              "      <td>0.000000</td>\n",
              "      <td>0.000000</td>\n",
              "      <td>0.000000</td>\n",
              "      <td>0.000000</td>\n",
              "      <td>0.000000</td>\n",
              "    </tr>\n",
              "    <tr>\n",
              "      <th>25%</th>\n",
              "      <td>22.580000</td>\n",
              "      <td>1.040000</td>\n",
              "      <td>0.165000</td>\n",
              "      <td>0.000000</td>\n",
              "      <td>73.000000</td>\n",
              "      <td>0.000000</td>\n",
              "      <td>0.000000</td>\n",
              "    </tr>\n",
              "    <tr>\n",
              "      <th>50%</th>\n",
              "      <td>28.420000</td>\n",
              "      <td>2.835000</td>\n",
              "      <td>1.000000</td>\n",
              "      <td>0.000000</td>\n",
              "      <td>160.000000</td>\n",
              "      <td>5.000000</td>\n",
              "      <td>0.000000</td>\n",
              "    </tr>\n",
              "    <tr>\n",
              "      <th>75%</th>\n",
              "      <td>38.250000</td>\n",
              "      <td>7.500000</td>\n",
              "      <td>2.625000</td>\n",
              "      <td>3.000000</td>\n",
              "      <td>272.000000</td>\n",
              "      <td>400.000000</td>\n",
              "      <td>1.000000</td>\n",
              "    </tr>\n",
              "    <tr>\n",
              "      <th>max</th>\n",
              "      <td>76.750000</td>\n",
              "      <td>28.000000</td>\n",
              "      <td>28.500000</td>\n",
              "      <td>67.000000</td>\n",
              "      <td>2000.000000</td>\n",
              "      <td>100000.000000</td>\n",
              "      <td>1.000000</td>\n",
              "    </tr>\n",
              "  </tbody>\n",
              "</table>\n",
              "</div>"
            ],
            "text/plain": [
              "               1           2           7           10           13  \\\n",
              "count  653.000000  653.000000  653.000000  653.000000   653.000000   \n",
              "mean    31.503813    4.829533    2.244296    2.502297   180.359877   \n",
              "std     11.838267    5.027077    3.371120    4.968497   168.296811   \n",
              "min     13.750000    0.000000    0.000000    0.000000     0.000000   \n",
              "25%     22.580000    1.040000    0.165000    0.000000    73.000000   \n",
              "50%     28.420000    2.835000    1.000000    0.000000   160.000000   \n",
              "75%     38.250000    7.500000    2.625000    3.000000   272.000000   \n",
              "max     76.750000   28.000000   28.500000   67.000000  2000.000000   \n",
              "\n",
              "                  14          15  \n",
              "count     653.000000  653.000000  \n",
              "mean     1013.761103    0.453292  \n",
              "std      5253.278504    0.498195  \n",
              "min         0.000000    0.000000  \n",
              "25%         0.000000    0.000000  \n",
              "50%         5.000000    0.000000  \n",
              "75%       400.000000    1.000000  \n",
              "max    100000.000000    1.000000  "
            ]
          },
          "metadata": {
            "tags": []
          },
          "execution_count": 123
        }
      ]
    },
    {
      "metadata": {
        "id": "ewJANZ_zfD_3",
        "colab_type": "code",
        "colab": {
          "base_uri": "https://localhost:8080/",
          "height": 126
        },
        "outputId": "a31c89b3-cd02-4862-d8a0-8fa98a9921a6"
      },
      "cell_type": "code",
      "source": [
        "# Ttest dependence for Approved and Non-Approved\n",
        "for i in [1,2,7,10,13,14]:\n",
        "  s,p= ttest_rel(df[15],df[i])\n",
        "  print('Feature category(0,{}) statistic={} and pvalue={}'.format(i,s,p))"
      ],
      "execution_count": 125,
      "outputs": [
        {
          "output_type": "stream",
          "text": [
            "Feature category(0,1) statistic=-67.4787207454447 and pvalue=2.540365191314492e-296\n",
            "Feature category(0,2) statistic=-22.601150021728994 and pvalue=5.768331023080983e-84\n",
            "Feature category(0,7) statistic=-14.127360654431145 and pvalue=9.963041537198473e-40\n",
            "Feature category(0,10) statistic=-10.935900684577518 and pvalue=1.1269620554090349e-25\n",
            "Feature category(0,13) statistic=-27.309662563888832 and pvalue=4.553284777434871e-110\n",
            "Feature category(0,14) statistic=-4.929179898992901 and pvalue=1.048577025686764e-06\n"
          ],
          "name": "stdout"
        }
      ]
    },
    {
      "metadata": {
        "id": "e6VlkNsS6KDF",
        "colab_type": "code",
        "colab": {
          "base_uri": "https://localhost:8080/",
          "height": 35
        },
        "outputId": "cf7de1ee-f93b-43bf-bcea-ca0e67b77052"
      },
      "cell_type": "code",
      "source": [
        "# Testing dependence relationship between feature 1 and 10\n",
        "stats.ttest_rel(df[15],df[10])"
      ],
      "execution_count": 124,
      "outputs": [
        {
          "output_type": "execute_result",
          "data": {
            "text/plain": [
              "Ttest_relResult(statistic=-10.935900684577518, pvalue=1.1269620554090349e-25)"
            ]
          },
          "metadata": {
            "tags": []
          },
          "execution_count": 124
        }
      ]
    },
    {
      "metadata": {
        "id": "5CgmdTYO3PB8",
        "colab_type": "code",
        "colab": {
          "base_uri": "https://localhost:8080/",
          "height": 35
        },
        "outputId": "6680c6c7-f643-4488-929a-859938796c52"
      },
      "cell_type": "code",
      "source": [
        "# Dependence between 2,7\n",
        "stats.ttest_rel(df[],df[7])"
      ],
      "execution_count": 86,
      "outputs": [
        {
          "output_type": "execute_result",
          "data": {
            "text/plain": [
              "Ttest_relResult(statistic=12.845909604580136, pvalue=7.883639641108741e-34)"
            ]
          },
          "metadata": {
            "tags": []
          },
          "execution_count": 86
        }
      ]
    },
    {
      "metadata": {
        "id": "gJeM4zlDCUtg",
        "colab_type": "code",
        "colab": {
          "base_uri": "https://localhost:8080/",
          "height": 35
        },
        "outputId": "b87f6e09-735f-4f8d-ba67-23fd4cb2551f"
      },
      "cell_type": "code",
      "source": [
        "# Dependence between 13 and 14\n",
        "stats.ttest_rel(df[13],df[14])"
      ],
      "execution_count": 112,
      "outputs": [
        {
          "output_type": "execute_result",
          "data": {
            "text/plain": [
              "Ttest_relResult(statistic=26.46938234915939, pvalue=2.0769437865567574e-105)"
            ]
          },
          "metadata": {
            "tags": []
          },
          "execution_count": 112
        }
      ]
    },
    {
      "metadata": {
        "id": "jMtPpzGzeL31",
        "colab_type": "code",
        "colab": {}
      },
      "cell_type": "code",
      "source": [
        ""
      ],
      "execution_count": 0,
      "outputs": []
    },
    {
      "metadata": {
        "id": "iajWkkzv6g2z",
        "colab_type": "code",
        "colab": {
          "base_uri": "https://localhost:8080/",
          "height": 168
        },
        "outputId": "d61be531-3b0d-475e-ce95-9459749d4f34"
      },
      "cell_type": "code",
      "source": [
        "df.describe(exclude=np.number)"
      ],
      "execution_count": 88,
      "outputs": [
        {
          "output_type": "execute_result",
          "data": {
            "text/html": [
              "<div>\n",
              "<style scoped>\n",
              "    .dataframe tbody tr th:only-of-type {\n",
              "        vertical-align: middle;\n",
              "    }\n",
              "\n",
              "    .dataframe tbody tr th {\n",
              "        vertical-align: top;\n",
              "    }\n",
              "\n",
              "    .dataframe thead th {\n",
              "        text-align: right;\n",
              "    }\n",
              "</style>\n",
              "<table border=\"1\" class=\"dataframe\">\n",
              "  <thead>\n",
              "    <tr style=\"text-align: right;\">\n",
              "      <th></th>\n",
              "      <th>0</th>\n",
              "      <th>3</th>\n",
              "      <th>4</th>\n",
              "      <th>5</th>\n",
              "      <th>6</th>\n",
              "      <th>8</th>\n",
              "      <th>9</th>\n",
              "      <th>11</th>\n",
              "      <th>12</th>\n",
              "      <th>15</th>\n",
              "    </tr>\n",
              "  </thead>\n",
              "  <tbody>\n",
              "    <tr>\n",
              "      <th>count</th>\n",
              "      <td>653</td>\n",
              "      <td>653</td>\n",
              "      <td>653</td>\n",
              "      <td>653</td>\n",
              "      <td>653</td>\n",
              "      <td>653</td>\n",
              "      <td>653</td>\n",
              "      <td>653</td>\n",
              "      <td>653</td>\n",
              "      <td>653</td>\n",
              "    </tr>\n",
              "    <tr>\n",
              "      <th>unique</th>\n",
              "      <td>2</td>\n",
              "      <td>3</td>\n",
              "      <td>3</td>\n",
              "      <td>14</td>\n",
              "      <td>9</td>\n",
              "      <td>2</td>\n",
              "      <td>2</td>\n",
              "      <td>2</td>\n",
              "      <td>3</td>\n",
              "      <td>2</td>\n",
              "    </tr>\n",
              "    <tr>\n",
              "      <th>top</th>\n",
              "      <td>b</td>\n",
              "      <td>u</td>\n",
              "      <td>g</td>\n",
              "      <td>c</td>\n",
              "      <td>v</td>\n",
              "      <td>t</td>\n",
              "      <td>f</td>\n",
              "      <td>f</td>\n",
              "      <td>g</td>\n",
              "      <td>-</td>\n",
              "    </tr>\n",
              "    <tr>\n",
              "      <th>freq</th>\n",
              "      <td>450</td>\n",
              "      <td>499</td>\n",
              "      <td>499</td>\n",
              "      <td>133</td>\n",
              "      <td>381</td>\n",
              "      <td>349</td>\n",
              "      <td>366</td>\n",
              "      <td>351</td>\n",
              "      <td>598</td>\n",
              "      <td>357</td>\n",
              "    </tr>\n",
              "  </tbody>\n",
              "</table>\n",
              "</div>"
            ],
            "text/plain": [
              "         0    3    4    5    6    8    9    11   12   15\n",
              "count   653  653  653  653  653  653  653  653  653  653\n",
              "unique    2    3    3   14    9    2    2    2    3    2\n",
              "top       b    u    g    c    v    t    f    f    g    -\n",
              "freq    450  499  499  133  381  349  366  351  598  357"
            ]
          },
          "metadata": {
            "tags": []
          },
          "execution_count": 88
        }
      ]
    },
    {
      "metadata": {
        "id": "YsaPckO7-hZH",
        "colab_type": "code",
        "colab": {}
      },
      "cell_type": "code",
      "source": [
        "from scipy.stats import chisquare"
      ],
      "execution_count": 0,
      "outputs": []
    },
    {
      "metadata": {
        "id": "F843GkTp6yB8",
        "colab_type": "code",
        "colab": {
          "base_uri": "https://localhost:8080/",
          "height": 35
        },
        "outputId": "d3ddb197-a9b9-48ce-f4b6-cdd8ffbd6a5b"
      },
      "cell_type": "code",
      "source": [
        "# Applying chisquare for features with two category values\n",
        "cat_2=pd.crosstab(df[0],[df[8],df[9],df[11]])\n",
        "s,p=chisquare(cat_2, axis=None)\n",
        "print('Feature category(0,8,9,11) statistic {} and pvalue {}'.format(s,p))"
      ],
      "execution_count": 106,
      "outputs": [
        {
          "output_type": "stream",
          "text": [
            "Feature category(0,8,9,11) statistic 264.24349157733536 and pvalue 1.4328099132249606e-47\n"
          ],
          "name": "stdout"
        }
      ]
    },
    {
      "metadata": {
        "id": "A44GO-woJ78y",
        "colab_type": "code",
        "colab": {
          "base_uri": "https://localhost:8080/",
          "height": 72
        },
        "outputId": "df0174e1-0eb0-4dd1-e9ca-0a3fcc170783"
      },
      "cell_type": "code",
      "source": [
        "for i in [8,9,11]:\n",
        "  cross= pd.crosstab(df[0],df[i])\n",
        "  s,p = chisquare(cross, axis=None)\n",
        "  print('Feature category(0,{}) statistic={} and pvalue={}'.format(i,s,p))"
      ],
      "execution_count": 116,
      "outputs": [
        {
          "output_type": "stream",
          "text": [
            "Feature category(0,8) statistic=96.5436447166922 and pvalue=8.600948714043167e-21\n",
            "Feature category(0,9) statistic=110.2771822358346 and pvalue=9.564956912560129e-24\n",
            "Feature category(0,11) statistic=97.364471669219 and pvalue=5.7293804384309325e-21\n"
          ],
          "name": "stdout"
        }
      ]
    },
    {
      "metadata": {
        "id": "lt5qPssK--DE",
        "colab_type": "code",
        "colab": {
          "base_uri": "https://localhost:8080/",
          "height": 35
        },
        "outputId": "c56aaa8f-8a9c-4912-e48c-5a7cd8b02b27"
      },
      "cell_type": "code",
      "source": [
        "# Applying chisquare for features with three category values\n",
        "cat_3 = pd.crosstab(df[0],[df[3],df[4],df[12]])\n",
        "s,p=chisquare(cat_3, axis=None)\n",
        "print('Feature category(3,4,12): statistic={}, pvalue={}'.format(s,p))"
      ],
      "execution_count": 108,
      "outputs": [
        {
          "output_type": "stream",
          "text": [
            "Feature category(3,4,12): statistic=2105.814701378254, pvalue=0.0\n"
          ],
          "name": "stdout"
        }
      ]
    },
    {
      "metadata": {
        "id": "aPvI4_3xLezQ",
        "colab_type": "code",
        "colab": {
          "base_uri": "https://localhost:8080/",
          "height": 72
        },
        "outputId": "2cfcd991-3dfb-447b-e6ed-d1b81e36c580"
      },
      "cell_type": "code",
      "source": [
        "for i in [3,4,12]:\n",
        "  cross = pd.crosstab(df[0],df[i])\n",
        "  s,p = chisquare(cross, axis=None)\n",
        "  print('Feature category(0,{}) statistic={} and pvalue={}'.format(i,s,p))\n"
      ],
      "execution_count": 117,
      "outputs": [
        {
          "output_type": "stream",
          "text": [
            "Feature category(0,3) statistic=759.7748851454825 and pvalue=5.814867862621082e-162\n",
            "Feature category(0,4) statistic=759.7748851454826 and pvalue=5.814867862620749e-162\n",
            "Feature category(0,12) statistic=1214.3231240428793 and pvalue=2.3199396221271546e-260\n"
          ],
          "name": "stdout"
        }
      ]
    },
    {
      "metadata": {
        "id": "ZM8JckA2bgnp",
        "colab_type": "text"
      },
      "cell_type": "markdown",
      "source": [
        "## Part 3 - Analysis and Interpretation\n",
        "\n",
        "Now that you've looked at the data, answer the following questions:\n",
        "\n",
        "- Interpret and explain the two t-tests you ran - what do they tell you about the relationships between the continuous features you selected and the class labels?\n",
        "- Interpret and explain the two Chi-squared tests you ran - what do they tell you about the relationships between the categorical features you selected and the class labels?\n",
        "- What was the most challenging part of this sprint challenge?\n",
        "\n",
        "Answer with text, but feel free to intersperse example code/results or refer to it from earlier."
      ]
    },
    {
      "metadata": {
        "id": "LIozLDNG2Uhu",
        "colab_type": "text"
      },
      "cell_type": "markdown",
      "source": [
        "#### For Continuous Features  with Class Approved  using Ttest independence, ttest_ind\n",
        "Features 1,2,7,10,14 has pvalue less than 0.01 percent. There are high confidence that  relationship existed between the approved or non-approved cases.\n",
        "\n",
        "## Feature 13 has pvalue=0.02, greater than 0.01 percent. There is no relationship between approved.\n",
        "\n",
        "#### For Continuous Features with class Approved and Non-Approved using Ttest indepennce\n",
        "## Feature 1 has pvalue=0, null hypothesis definitely true. \n",
        "\n",
        "\n",
        "### For Continuous features, testing dependency using ttest_rel\n",
        "Relationship features between {1,10}, {2,7}, {13,14}, all return pvalue < 0.01 .\n",
        "In fact ttest_rel gives  pvalue<0.01 for all continuous features.\n",
        "Not sure when to use ttest_rel ?\n",
        "\n",
        "####  For Categorical features with Class Approved/Non-approved, using ChiSquare\n",
        "Features {0,8,9,11} has pvalue < 0.01, gives high confidence these features has relationship to approved or non-approved cases.\n",
        "\n",
        "## Features {3,4,12} has pvalue=0.0, has NO relationship to approved or non-approved cases.\n",
        "Random chances for approval or non-approval for features {3,4,12}"
      ]
    },
    {
      "metadata": {
        "id": "G9pvhXdtgL97",
        "colab_type": "text"
      },
      "cell_type": "markdown",
      "source": [
        "## Conclusion Result\n",
        "Feature 1 has relationship with Approved or Not approved cases. Random chance.\n",
        "\n",
        "Feature {3,4,12} together has no relationship with Approved or Non approved case. Random chance."
      ]
    }
  ]
}