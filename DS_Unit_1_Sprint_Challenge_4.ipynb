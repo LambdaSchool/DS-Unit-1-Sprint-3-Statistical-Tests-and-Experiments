{
  "nbformat": 4,
  "nbformat_minor": 0,
  "metadata": {
    "colab": {
      "name": "DS_Unit_1_Sprint_Challenge_4.ipynb",
      "version": "0.3.2",
      "provenance": [],
      "collapsed_sections": [],
      "include_colab_link": true
    },
    "kernelspec": {
      "name": "python3",
      "display_name": "Python 3"
    }
  },
  "cells": [
    {
      "cell_type": "markdown",
      "metadata": {
        "id": "view-in-github",
        "colab_type": "text"
      },
      "source": [
        "<a href=\"https://colab.research.google.com/github/albert-h-wong/DS-Unit-1-Sprint-4-Statistical-Tests-and-Experiments/blob/master/DS_Unit_1_Sprint_Challenge_4.ipynb\" target=\"_parent\"><img src=\"https://colab.research.google.com/assets/colab-badge.svg\" alt=\"Open In Colab\"/></a>"
      ]
    },
    {
      "metadata": {
        "id": "NooAiTdnafkz",
        "colab_type": "text"
      },
      "cell_type": "markdown",
      "source": [
        "# Data Science Unit 1 Sprint Challenge 4\n",
        "\n",
        "## Exploring Data, Testing Hypotheses\n",
        "\n",
        "In this sprint challenge you will look at a dataset of people being approved or rejected for credit.\n",
        "\n",
        "https://archive.ics.uci.edu/ml/datasets/Credit+Approval\n",
        "\n",
        "Data Set Information: This file concerns credit card applications. All attribute names and values have been changed to meaningless symbols to protect confidentiality of the data. This dataset is interesting because there is a good mix of attributes -- continuous, nominal with small numbers of values, and nominal with larger numbers of values. There are also a few missing values.\n",
        "\n",
        "Attribute Information:\n",
        "- A1: b, a.\n",
        "- A2: continuous.\n",
        "- A3: continuous.\n",
        "- A4: u, y, l, t.\n",
        "- A5: g, p, gg.\n",
        "- A6: c, d, cc, i, j, k, m, r, q, w, x, e, aa, ff.\n",
        "- A7: v, h, bb, j, n, z, dd, ff, o.\n",
        "- A8: continuous.\n",
        "- A9: t, f.\n",
        "- A10: t, f.\n",
        "- A11: continuous.\n",
        "- A12: t, f.\n",
        "- A13: g, p, s.\n",
        "- A14: continuous.\n",
        "- A15: continuous.\n",
        "- A16: +,- (class attribute)\n",
        "\n",
        "Yes, most of that doesn't mean anything. A16 (the class attribute) is the most interesting, as it separates the 307 approved cases from the 383 rejected cases. The remaining variables have been obfuscated for privacy - a challenge you may have to deal with in your data science career.\n",
        "\n",
        "Sprint challenges are evaluated based on satisfactory completion of each part. It is suggested you work through it in order, getting each aspect reasonably working, before trying to deeply explore, iterate, or refine any given step. Once you get to the end, if you want to go back and improve things, go for it!"
      ]
    },
    {
      "metadata": {
        "id": "5wch6ksCbJtZ",
        "colab_type": "text"
      },
      "cell_type": "markdown",
      "source": [
        "## Part 1 - Load and validate the data\n",
        "\n",
        "- Load the data as a `pandas` data frame.\n",
        "- Validate that it has the appropriate number of observations (you can check the raw file, and also read the dataset description from UCI).\n",
        "- UCI says there should be missing data - check, and if necessary change the data so pandas recognizes it as na\n",
        "- Make sure that the loaded features are of the types described above (continuous values should be treated as float), and correct as necessary\n",
        "\n",
        "This is review, but skills that you'll use at the start of any data exploration. Further, you may have to do some investigation to figure out which file to load from - that is part of the puzzle."
      ]
    },
    {
      "metadata": {
        "id": "bz-rZMNbcUGp",
        "colab_type": "code",
        "colab": {}
      },
      "cell_type": "code",
      "source": [
        "# Import libraries\n",
        "\n",
        "import numpy as np\n",
        "import pandas as pd"
      ],
      "execution_count": 0,
      "outputs": []
    },
    {
      "metadata": {
        "id": "NVrJG0t0cUJk",
        "colab_type": "code",
        "colab": {
          "base_uri": "https://localhost:8080/",
          "height": 511
        },
        "outputId": "fcd460cf-1868-47ef-b147-4537a52ec592"
      },
      "cell_type": "code",
      "source": [
        "# Load and check the data and adjusted header\n",
        "\n",
        "data_url = 'https://archive.ics.uci.edu/ml/machine-learning-databases/credit-screening/crx.data'\n",
        "df_raw = pd.read_csv(data_url,header=None)\n",
        "df_raw.head(15)"
      ],
      "execution_count": 5,
      "outputs": [
        {
          "output_type": "execute_result",
          "data": {
            "text/html": [
              "<div>\n",
              "<style scoped>\n",
              "    .dataframe tbody tr th:only-of-type {\n",
              "        vertical-align: middle;\n",
              "    }\n",
              "\n",
              "    .dataframe tbody tr th {\n",
              "        vertical-align: top;\n",
              "    }\n",
              "\n",
              "    .dataframe thead th {\n",
              "        text-align: right;\n",
              "    }\n",
              "</style>\n",
              "<table border=\"1\" class=\"dataframe\">\n",
              "  <thead>\n",
              "    <tr style=\"text-align: right;\">\n",
              "      <th></th>\n",
              "      <th>0</th>\n",
              "      <th>1</th>\n",
              "      <th>2</th>\n",
              "      <th>3</th>\n",
              "      <th>4</th>\n",
              "      <th>5</th>\n",
              "      <th>6</th>\n",
              "      <th>7</th>\n",
              "      <th>8</th>\n",
              "      <th>9</th>\n",
              "      <th>10</th>\n",
              "      <th>11</th>\n",
              "      <th>12</th>\n",
              "      <th>13</th>\n",
              "      <th>14</th>\n",
              "      <th>15</th>\n",
              "    </tr>\n",
              "  </thead>\n",
              "  <tbody>\n",
              "    <tr>\n",
              "      <th>0</th>\n",
              "      <td>b</td>\n",
              "      <td>30.83</td>\n",
              "      <td>0.000</td>\n",
              "      <td>u</td>\n",
              "      <td>g</td>\n",
              "      <td>w</td>\n",
              "      <td>v</td>\n",
              "      <td>1.250</td>\n",
              "      <td>t</td>\n",
              "      <td>t</td>\n",
              "      <td>1</td>\n",
              "      <td>f</td>\n",
              "      <td>g</td>\n",
              "      <td>00202</td>\n",
              "      <td>0</td>\n",
              "      <td>+</td>\n",
              "    </tr>\n",
              "    <tr>\n",
              "      <th>1</th>\n",
              "      <td>a</td>\n",
              "      <td>58.67</td>\n",
              "      <td>4.460</td>\n",
              "      <td>u</td>\n",
              "      <td>g</td>\n",
              "      <td>q</td>\n",
              "      <td>h</td>\n",
              "      <td>3.040</td>\n",
              "      <td>t</td>\n",
              "      <td>t</td>\n",
              "      <td>6</td>\n",
              "      <td>f</td>\n",
              "      <td>g</td>\n",
              "      <td>00043</td>\n",
              "      <td>560</td>\n",
              "      <td>+</td>\n",
              "    </tr>\n",
              "    <tr>\n",
              "      <th>2</th>\n",
              "      <td>a</td>\n",
              "      <td>24.50</td>\n",
              "      <td>0.500</td>\n",
              "      <td>u</td>\n",
              "      <td>g</td>\n",
              "      <td>q</td>\n",
              "      <td>h</td>\n",
              "      <td>1.500</td>\n",
              "      <td>t</td>\n",
              "      <td>f</td>\n",
              "      <td>0</td>\n",
              "      <td>f</td>\n",
              "      <td>g</td>\n",
              "      <td>00280</td>\n",
              "      <td>824</td>\n",
              "      <td>+</td>\n",
              "    </tr>\n",
              "    <tr>\n",
              "      <th>3</th>\n",
              "      <td>b</td>\n",
              "      <td>27.83</td>\n",
              "      <td>1.540</td>\n",
              "      <td>u</td>\n",
              "      <td>g</td>\n",
              "      <td>w</td>\n",
              "      <td>v</td>\n",
              "      <td>3.750</td>\n",
              "      <td>t</td>\n",
              "      <td>t</td>\n",
              "      <td>5</td>\n",
              "      <td>t</td>\n",
              "      <td>g</td>\n",
              "      <td>00100</td>\n",
              "      <td>3</td>\n",
              "      <td>+</td>\n",
              "    </tr>\n",
              "    <tr>\n",
              "      <th>4</th>\n",
              "      <td>b</td>\n",
              "      <td>20.17</td>\n",
              "      <td>5.625</td>\n",
              "      <td>u</td>\n",
              "      <td>g</td>\n",
              "      <td>w</td>\n",
              "      <td>v</td>\n",
              "      <td>1.710</td>\n",
              "      <td>t</td>\n",
              "      <td>f</td>\n",
              "      <td>0</td>\n",
              "      <td>f</td>\n",
              "      <td>s</td>\n",
              "      <td>00120</td>\n",
              "      <td>0</td>\n",
              "      <td>+</td>\n",
              "    </tr>\n",
              "    <tr>\n",
              "      <th>5</th>\n",
              "      <td>b</td>\n",
              "      <td>32.08</td>\n",
              "      <td>4.000</td>\n",
              "      <td>u</td>\n",
              "      <td>g</td>\n",
              "      <td>m</td>\n",
              "      <td>v</td>\n",
              "      <td>2.500</td>\n",
              "      <td>t</td>\n",
              "      <td>f</td>\n",
              "      <td>0</td>\n",
              "      <td>t</td>\n",
              "      <td>g</td>\n",
              "      <td>00360</td>\n",
              "      <td>0</td>\n",
              "      <td>+</td>\n",
              "    </tr>\n",
              "    <tr>\n",
              "      <th>6</th>\n",
              "      <td>b</td>\n",
              "      <td>33.17</td>\n",
              "      <td>1.040</td>\n",
              "      <td>u</td>\n",
              "      <td>g</td>\n",
              "      <td>r</td>\n",
              "      <td>h</td>\n",
              "      <td>6.500</td>\n",
              "      <td>t</td>\n",
              "      <td>f</td>\n",
              "      <td>0</td>\n",
              "      <td>t</td>\n",
              "      <td>g</td>\n",
              "      <td>00164</td>\n",
              "      <td>31285</td>\n",
              "      <td>+</td>\n",
              "    </tr>\n",
              "    <tr>\n",
              "      <th>7</th>\n",
              "      <td>a</td>\n",
              "      <td>22.92</td>\n",
              "      <td>11.585</td>\n",
              "      <td>u</td>\n",
              "      <td>g</td>\n",
              "      <td>cc</td>\n",
              "      <td>v</td>\n",
              "      <td>0.040</td>\n",
              "      <td>t</td>\n",
              "      <td>f</td>\n",
              "      <td>0</td>\n",
              "      <td>f</td>\n",
              "      <td>g</td>\n",
              "      <td>00080</td>\n",
              "      <td>1349</td>\n",
              "      <td>+</td>\n",
              "    </tr>\n",
              "    <tr>\n",
              "      <th>8</th>\n",
              "      <td>b</td>\n",
              "      <td>54.42</td>\n",
              "      <td>0.500</td>\n",
              "      <td>y</td>\n",
              "      <td>p</td>\n",
              "      <td>k</td>\n",
              "      <td>h</td>\n",
              "      <td>3.960</td>\n",
              "      <td>t</td>\n",
              "      <td>f</td>\n",
              "      <td>0</td>\n",
              "      <td>f</td>\n",
              "      <td>g</td>\n",
              "      <td>00180</td>\n",
              "      <td>314</td>\n",
              "      <td>+</td>\n",
              "    </tr>\n",
              "    <tr>\n",
              "      <th>9</th>\n",
              "      <td>b</td>\n",
              "      <td>42.50</td>\n",
              "      <td>4.915</td>\n",
              "      <td>y</td>\n",
              "      <td>p</td>\n",
              "      <td>w</td>\n",
              "      <td>v</td>\n",
              "      <td>3.165</td>\n",
              "      <td>t</td>\n",
              "      <td>f</td>\n",
              "      <td>0</td>\n",
              "      <td>t</td>\n",
              "      <td>g</td>\n",
              "      <td>00052</td>\n",
              "      <td>1442</td>\n",
              "      <td>+</td>\n",
              "    </tr>\n",
              "    <tr>\n",
              "      <th>10</th>\n",
              "      <td>b</td>\n",
              "      <td>22.08</td>\n",
              "      <td>0.830</td>\n",
              "      <td>u</td>\n",
              "      <td>g</td>\n",
              "      <td>c</td>\n",
              "      <td>h</td>\n",
              "      <td>2.165</td>\n",
              "      <td>f</td>\n",
              "      <td>f</td>\n",
              "      <td>0</td>\n",
              "      <td>t</td>\n",
              "      <td>g</td>\n",
              "      <td>00128</td>\n",
              "      <td>0</td>\n",
              "      <td>+</td>\n",
              "    </tr>\n",
              "    <tr>\n",
              "      <th>11</th>\n",
              "      <td>b</td>\n",
              "      <td>29.92</td>\n",
              "      <td>1.835</td>\n",
              "      <td>u</td>\n",
              "      <td>g</td>\n",
              "      <td>c</td>\n",
              "      <td>h</td>\n",
              "      <td>4.335</td>\n",
              "      <td>t</td>\n",
              "      <td>f</td>\n",
              "      <td>0</td>\n",
              "      <td>f</td>\n",
              "      <td>g</td>\n",
              "      <td>00260</td>\n",
              "      <td>200</td>\n",
              "      <td>+</td>\n",
              "    </tr>\n",
              "    <tr>\n",
              "      <th>12</th>\n",
              "      <td>a</td>\n",
              "      <td>38.25</td>\n",
              "      <td>6.000</td>\n",
              "      <td>u</td>\n",
              "      <td>g</td>\n",
              "      <td>k</td>\n",
              "      <td>v</td>\n",
              "      <td>1.000</td>\n",
              "      <td>t</td>\n",
              "      <td>f</td>\n",
              "      <td>0</td>\n",
              "      <td>t</td>\n",
              "      <td>g</td>\n",
              "      <td>00000</td>\n",
              "      <td>0</td>\n",
              "      <td>+</td>\n",
              "    </tr>\n",
              "    <tr>\n",
              "      <th>13</th>\n",
              "      <td>b</td>\n",
              "      <td>48.08</td>\n",
              "      <td>6.040</td>\n",
              "      <td>u</td>\n",
              "      <td>g</td>\n",
              "      <td>k</td>\n",
              "      <td>v</td>\n",
              "      <td>0.040</td>\n",
              "      <td>f</td>\n",
              "      <td>f</td>\n",
              "      <td>0</td>\n",
              "      <td>f</td>\n",
              "      <td>g</td>\n",
              "      <td>00000</td>\n",
              "      <td>2690</td>\n",
              "      <td>+</td>\n",
              "    </tr>\n",
              "    <tr>\n",
              "      <th>14</th>\n",
              "      <td>a</td>\n",
              "      <td>45.83</td>\n",
              "      <td>10.500</td>\n",
              "      <td>u</td>\n",
              "      <td>g</td>\n",
              "      <td>q</td>\n",
              "      <td>v</td>\n",
              "      <td>5.000</td>\n",
              "      <td>t</td>\n",
              "      <td>t</td>\n",
              "      <td>7</td>\n",
              "      <td>t</td>\n",
              "      <td>g</td>\n",
              "      <td>00000</td>\n",
              "      <td>0</td>\n",
              "      <td>+</td>\n",
              "    </tr>\n",
              "  </tbody>\n",
              "</table>\n",
              "</div>"
            ],
            "text/plain": [
              "   0      1       2  3  4   5  6      7  8  9   10 11 12     13     14 15\n",
              "0   b  30.83   0.000  u  g   w  v  1.250  t  t   1  f  g  00202      0  +\n",
              "1   a  58.67   4.460  u  g   q  h  3.040  t  t   6  f  g  00043    560  +\n",
              "2   a  24.50   0.500  u  g   q  h  1.500  t  f   0  f  g  00280    824  +\n",
              "3   b  27.83   1.540  u  g   w  v  3.750  t  t   5  t  g  00100      3  +\n",
              "4   b  20.17   5.625  u  g   w  v  1.710  t  f   0  f  s  00120      0  +\n",
              "5   b  32.08   4.000  u  g   m  v  2.500  t  f   0  t  g  00360      0  +\n",
              "6   b  33.17   1.040  u  g   r  h  6.500  t  f   0  t  g  00164  31285  +\n",
              "7   a  22.92  11.585  u  g  cc  v  0.040  t  f   0  f  g  00080   1349  +\n",
              "8   b  54.42   0.500  y  p   k  h  3.960  t  f   0  f  g  00180    314  +\n",
              "9   b  42.50   4.915  y  p   w  v  3.165  t  f   0  t  g  00052   1442  +\n",
              "10  b  22.08   0.830  u  g   c  h  2.165  f  f   0  t  g  00128      0  +\n",
              "11  b  29.92   1.835  u  g   c  h  4.335  t  f   0  f  g  00260    200  +\n",
              "12  a  38.25   6.000  u  g   k  v  1.000  t  f   0  t  g  00000      0  +\n",
              "13  b  48.08   6.040  u  g   k  v  0.040  f  f   0  f  g  00000   2690  +\n",
              "14  a  45.83  10.500  u  g   q  v  5.000  t  t   7  t  g  00000      0  +"
            ]
          },
          "metadata": {
            "tags": []
          },
          "execution_count": 5
        }
      ]
    },
    {
      "metadata": {
        "id": "t8-y5eKrcUMg",
        "colab_type": "code",
        "colab": {
          "base_uri": "https://localhost:8080/",
          "height": 316
        },
        "outputId": "b4abd318-b746-4b46-88d2-f1c079059bf9"
      },
      "cell_type": "code",
      "source": [
        "# Check for data types\n",
        "\n",
        "df_raw.dtypes"
      ],
      "execution_count": 6,
      "outputs": [
        {
          "output_type": "execute_result",
          "data": {
            "text/plain": [
              "0      object\n",
              "1      object\n",
              "2     float64\n",
              "3      object\n",
              "4      object\n",
              "5      object\n",
              "6      object\n",
              "7     float64\n",
              "8      object\n",
              "9      object\n",
              "10      int64\n",
              "11     object\n",
              "12     object\n",
              "13     object\n",
              "14      int64\n",
              "15     object\n",
              "dtype: object"
            ]
          },
          "metadata": {
            "tags": []
          },
          "execution_count": 6
        }
      ]
    },
    {
      "metadata": {
        "id": "DgH_mt5rdf9e",
        "colab_type": "code",
        "colab": {
          "base_uri": "https://localhost:8080/",
          "height": 35
        },
        "outputId": "f2899dfd-bc6e-46a0-a939-4f12cb896fe1"
      },
      "cell_type": "code",
      "source": [
        "# Confirm the number of instances and attributes with the UCI data source\n",
        "\n",
        "df_raw.shape"
      ],
      "execution_count": 8,
      "outputs": [
        {
          "output_type": "execute_result",
          "data": {
            "text/plain": [
              "(690, 16)"
            ]
          },
          "metadata": {
            "tags": []
          },
          "execution_count": 8
        }
      ]
    },
    {
      "metadata": {
        "id": "4S6FvynZdgAg",
        "colab_type": "code",
        "colab": {
          "base_uri": "https://localhost:8080/",
          "height": 316
        },
        "outputId": "3f4cb6a0-6573-4426-b597-6aefe69c8df1"
      },
      "cell_type": "code",
      "source": [
        "# Check for null values, the missing values noted in the data source is not\n",
        "# showing up as NA, need to find out what is input for missing values\n",
        "\n",
        "df_raw.isnull().sum()"
      ],
      "execution_count": 9,
      "outputs": [
        {
          "output_type": "execute_result",
          "data": {
            "text/plain": [
              "0     0\n",
              "1     0\n",
              "2     0\n",
              "3     0\n",
              "4     0\n",
              "5     0\n",
              "6     0\n",
              "7     0\n",
              "8     0\n",
              "9     0\n",
              "10    0\n",
              "11    0\n",
              "12    0\n",
              "13    0\n",
              "14    0\n",
              "15    0\n",
              "dtype: int64"
            ]
          },
          "metadata": {
            "tags": []
          },
          "execution_count": 9
        }
      ]
    },
    {
      "metadata": {
        "id": "wzRxtOuxebBT",
        "colab_type": "code",
        "colab": {
          "base_uri": "https://localhost:8080/",
          "height": 8852
        },
        "outputId": "152d5052-17c9-48f0-e226-841734c13047"
      },
      "cell_type": "code",
      "source": [
        "# Increased the display height to check what is used as missing value \n",
        "# in column 0, find out that \"?\" is being used\n",
        "\n",
        "pd.set_option('display.height', 1000)\n",
        "pd.set_option('display.max_rows', 500)\n",
        "pd.set_option('display.max_columns', 500)\n",
        "pd.set_option('display.width', 1000)\n",
        "df_raw[0]"
      ],
      "execution_count": 13,
      "outputs": [
        {
          "output_type": "execute_result",
          "data": {
            "text/plain": [
              "0      b\n",
              "1      a\n",
              "2      a\n",
              "3      b\n",
              "4      b\n",
              "5      b\n",
              "6      b\n",
              "7      a\n",
              "8      b\n",
              "9      b\n",
              "10     b\n",
              "11     b\n",
              "12     a\n",
              "13     b\n",
              "14     a\n",
              "15     b\n",
              "16     b\n",
              "17     a\n",
              "18     b\n",
              "19     a\n",
              "20     b\n",
              "21     b\n",
              "22     a\n",
              "23     a\n",
              "24     a\n",
              "25     a\n",
              "26     a\n",
              "27     b\n",
              "28     b\n",
              "29     b\n",
              "30     b\n",
              "31     b\n",
              "32     b\n",
              "33     a\n",
              "34     a\n",
              "35     b\n",
              "36     b\n",
              "37     a\n",
              "38     b\n",
              "39     b\n",
              "40     b\n",
              "41     b\n",
              "42     b\n",
              "43     b\n",
              "44     b\n",
              "45     b\n",
              "46     a\n",
              "47     b\n",
              "48     b\n",
              "49     b\n",
              "50     a\n",
              "51     b\n",
              "52     b\n",
              "53     b\n",
              "54     b\n",
              "55     b\n",
              "56     b\n",
              "57     b\n",
              "58     b\n",
              "59     b\n",
              "60     b\n",
              "61     b\n",
              "62     a\n",
              "63     a\n",
              "64     b\n",
              "65     b\n",
              "66     a\n",
              "67     b\n",
              "68     b\n",
              "69     b\n",
              "70     b\n",
              "71     b\n",
              "72     a\n",
              "73     b\n",
              "74     b\n",
              "75     b\n",
              "76     b\n",
              "77     a\n",
              "78     b\n",
              "79     b\n",
              "80     b\n",
              "81     a\n",
              "82     b\n",
              "83     a\n",
              "84     b\n",
              "85     b\n",
              "86     b\n",
              "87     b\n",
              "88     b\n",
              "89     a\n",
              "90     b\n",
              "91     b\n",
              "92     b\n",
              "93     b\n",
              "94     b\n",
              "95     a\n",
              "96     b\n",
              "97     b\n",
              "98     a\n",
              "99     a\n",
              "100    b\n",
              "101    b\n",
              "102    b\n",
              "103    b\n",
              "104    b\n",
              "105    b\n",
              "106    b\n",
              "107    a\n",
              "108    b\n",
              "109    a\n",
              "110    b\n",
              "111    a\n",
              "112    b\n",
              "113    a\n",
              "114    b\n",
              "115    a\n",
              "116    b\n",
              "117    b\n",
              "118    b\n",
              "119    a\n",
              "120    b\n",
              "121    b\n",
              "122    a\n",
              "123    a\n",
              "124    a\n",
              "125    b\n",
              "126    b\n",
              "127    b\n",
              "128    b\n",
              "129    a\n",
              "130    b\n",
              "131    b\n",
              "132    a\n",
              "133    b\n",
              "134    b\n",
              "135    b\n",
              "136    b\n",
              "137    b\n",
              "138    a\n",
              "139    a\n",
              "140    a\n",
              "141    a\n",
              "142    b\n",
              "143    b\n",
              "144    b\n",
              "145    b\n",
              "146    b\n",
              "147    a\n",
              "148    a\n",
              "149    a\n",
              "150    a\n",
              "151    a\n",
              "152    b\n",
              "153    b\n",
              "154    b\n",
              "155    a\n",
              "156    a\n",
              "157    a\n",
              "158    b\n",
              "159    b\n",
              "160    b\n",
              "161    b\n",
              "162    b\n",
              "163    b\n",
              "164    a\n",
              "165    a\n",
              "166    b\n",
              "167    a\n",
              "168    b\n",
              "169    b\n",
              "170    a\n",
              "171    b\n",
              "172    b\n",
              "173    a\n",
              "174    b\n",
              "175    b\n",
              "176    b\n",
              "177    a\n",
              "178    a\n",
              "179    b\n",
              "180    b\n",
              "181    a\n",
              "182    a\n",
              "183    a\n",
              "184    a\n",
              "185    b\n",
              "186    b\n",
              "187    b\n",
              "188    a\n",
              "189    a\n",
              "190    b\n",
              "191    b\n",
              "192    b\n",
              "193    b\n",
              "194    b\n",
              "195    b\n",
              "196    b\n",
              "197    b\n",
              "198    b\n",
              "199    b\n",
              "200    a\n",
              "201    a\n",
              "202    b\n",
              "203    a\n",
              "204    b\n",
              "205    a\n",
              "206    a\n",
              "207    b\n",
              "208    b\n",
              "209    b\n",
              "210    b\n",
              "211    b\n",
              "212    b\n",
              "213    b\n",
              "214    b\n",
              "215    b\n",
              "216    b\n",
              "217    b\n",
              "218    b\n",
              "219    a\n",
              "220    a\n",
              "221    b\n",
              "222    a\n",
              "223    a\n",
              "224    a\n",
              "225    b\n",
              "226    b\n",
              "227    a\n",
              "228    b\n",
              "229    b\n",
              "230    b\n",
              "231    a\n",
              "232    b\n",
              "233    b\n",
              "234    a\n",
              "235    a\n",
              "236    b\n",
              "237    b\n",
              "238    b\n",
              "239    b\n",
              "240    b\n",
              "241    b\n",
              "242    b\n",
              "243    a\n",
              "244    b\n",
              "245    b\n",
              "246    b\n",
              "247    a\n",
              "248    ?\n",
              "249    b\n",
              "      ..\n",
              "440    b\n",
              "441    b\n",
              "442    b\n",
              "443    b\n",
              "444    a\n",
              "445    a\n",
              "446    b\n",
              "447    a\n",
              "448    b\n",
              "449    b\n",
              "450    b\n",
              "451    b\n",
              "452    b\n",
              "453    ?\n",
              "454    b\n",
              "455    b\n",
              "456    b\n",
              "457    b\n",
              "458    b\n",
              "459    b\n",
              "460    a\n",
              "461    b\n",
              "462    b\n",
              "463    a\n",
              "464    a\n",
              "465    a\n",
              "466    b\n",
              "467    a\n",
              "468    b\n",
              "469    b\n",
              "470    a\n",
              "471    b\n",
              "472    b\n",
              "473    b\n",
              "474    b\n",
              "475    b\n",
              "476    b\n",
              "477    b\n",
              "478    b\n",
              "479    ?\n",
              "480    a\n",
              "481    b\n",
              "482    a\n",
              "483    b\n",
              "484    b\n",
              "485    b\n",
              "486    b\n",
              "487    b\n",
              "488    b\n",
              "489    ?\n",
              "490    a\n",
              "491    b\n",
              "492    b\n",
              "493    a\n",
              "494    a\n",
              "495    b\n",
              "496    a\n",
              "497    b\n",
              "498    b\n",
              "499    b\n",
              "500    b\n",
              "501    b\n",
              "502    a\n",
              "503    b\n",
              "504    a\n",
              "505    b\n",
              "506    a\n",
              "507    a\n",
              "508    a\n",
              "509    b\n",
              "510    b\n",
              "511    a\n",
              "512    a\n",
              "513    b\n",
              "514    b\n",
              "515    b\n",
              "516    a\n",
              "517    b\n",
              "518    a\n",
              "519    b\n",
              "520    ?\n",
              "521    a\n",
              "522    b\n",
              "523    a\n",
              "524    a\n",
              "525    b\n",
              "526    b\n",
              "527    a\n",
              "528    a\n",
              "529    b\n",
              "530    a\n",
              "531    a\n",
              "532    b\n",
              "533    b\n",
              "534    b\n",
              "535    a\n",
              "536    a\n",
              "537    b\n",
              "538    b\n",
              "539    b\n",
              "540    b\n",
              "541    b\n",
              "542    b\n",
              "543    b\n",
              "544    b\n",
              "545    b\n",
              "546    b\n",
              "547    b\n",
              "548    b\n",
              "549    b\n",
              "550    b\n",
              "551    b\n",
              "552    b\n",
              "553    b\n",
              "554    a\n",
              "555    b\n",
              "556    b\n",
              "557    a\n",
              "558    b\n",
              "559    a\n",
              "560    a\n",
              "561    b\n",
              "562    b\n",
              "563    b\n",
              "564    b\n",
              "565    a\n",
              "566    b\n",
              "567    a\n",
              "568    b\n",
              "569    a\n",
              "570    b\n",
              "571    b\n",
              "572    b\n",
              "573    a\n",
              "574    a\n",
              "575    b\n",
              "576    b\n",
              "577    b\n",
              "578    b\n",
              "579    b\n",
              "580    b\n",
              "581    b\n",
              "582    b\n",
              "583    b\n",
              "584    a\n",
              "585    b\n",
              "586    b\n",
              "587    b\n",
              "588    b\n",
              "589    b\n",
              "590    b\n",
              "591    b\n",
              "592    b\n",
              "593    b\n",
              "594    b\n",
              "595    b\n",
              "596    a\n",
              "597    a\n",
              "598    ?\n",
              "599    b\n",
              "600    a\n",
              "601    ?\n",
              "602    b\n",
              "603    b\n",
              "604    b\n",
              "605    a\n",
              "606    b\n",
              "607    b\n",
              "608    b\n",
              "609    b\n",
              "610    b\n",
              "611    b\n",
              "612    b\n",
              "613    b\n",
              "614    a\n",
              "615    b\n",
              "616    b\n",
              "617    b\n",
              "618    b\n",
              "619    b\n",
              "620    b\n",
              "621    b\n",
              "622    a\n",
              "623    b\n",
              "624    b\n",
              "625    b\n",
              "626    b\n",
              "627    b\n",
              "628    b\n",
              "629    a\n",
              "630    a\n",
              "631    a\n",
              "632    a\n",
              "633    b\n",
              "634    a\n",
              "635    b\n",
              "636    b\n",
              "637    b\n",
              "638    b\n",
              "639    b\n",
              "640    b\n",
              "641    ?\n",
              "642    b\n",
              "643    a\n",
              "644    b\n",
              "645    b\n",
              "646    a\n",
              "647    b\n",
              "648    b\n",
              "649    a\n",
              "650    b\n",
              "651    a\n",
              "652    a\n",
              "653    b\n",
              "654    a\n",
              "655    a\n",
              "656    b\n",
              "657    a\n",
              "658    a\n",
              "659    a\n",
              "660    b\n",
              "661    b\n",
              "662    a\n",
              "663    b\n",
              "664    b\n",
              "665    b\n",
              "666    a\n",
              "667    a\n",
              "668    b\n",
              "669    b\n",
              "670    b\n",
              "671    b\n",
              "672    a\n",
              "673    ?\n",
              "674    a\n",
              "675    a\n",
              "676    a\n",
              "677    b\n",
              "678    a\n",
              "679    a\n",
              "680    b\n",
              "681    b\n",
              "682    b\n",
              "683    b\n",
              "684    b\n",
              "685    b\n",
              "686    a\n",
              "687    a\n",
              "688    b\n",
              "689    b\n",
              "Name: 0, Length: 690, dtype: object"
            ]
          },
          "metadata": {
            "tags": []
          },
          "execution_count": 13
        }
      ]
    },
    {
      "metadata": {
        "id": "TjVzX6WvebEk",
        "colab_type": "code",
        "colab": {
          "base_uri": "https://localhost:8080/",
          "height": 316
        },
        "outputId": "586428ec-35ca-475d-b078-07a7e4f7f146"
      },
      "cell_type": "code",
      "source": [
        "# Checked for number of \"?\" in each column to compare with data\n",
        "# source and confirmed that it ties. Did not find the right code\n",
        "# that summarized the count by column so had to run the code below\n",
        "# several times to confirm for each column\n",
        "\n",
        "df_raw[df_raw[13]==\"?\"].count()"
      ],
      "execution_count": 23,
      "outputs": [
        {
          "output_type": "execute_result",
          "data": {
            "text/plain": [
              "0     13\n",
              "1     13\n",
              "2     13\n",
              "3     13\n",
              "4     13\n",
              "5     13\n",
              "6     13\n",
              "7     13\n",
              "8     13\n",
              "9     13\n",
              "10    13\n",
              "11    13\n",
              "12    13\n",
              "13    13\n",
              "14    13\n",
              "15    13\n",
              "dtype: int64"
            ]
          },
          "metadata": {
            "tags": []
          },
          "execution_count": 23
        }
      ]
    },
    {
      "metadata": {
        "id": "r6lRIVGIdgEK",
        "colab_type": "code",
        "colab": {}
      },
      "cell_type": "code",
      "source": [
        "# Replaced the \"?\" with Nan values\n",
        "\n",
        "df_raw.replace('?', np.nan, inplace=True)"
      ],
      "execution_count": 0,
      "outputs": []
    },
    {
      "metadata": {
        "id": "mYsV3id2cUPt",
        "colab_type": "code",
        "colab": {
          "base_uri": "https://localhost:8080/",
          "height": 316
        },
        "outputId": "6e47cf54-0a49-4383-a70d-62ff6ac3b0c3"
      },
      "cell_type": "code",
      "source": [
        "# Checked to confirm NaN values show up in the df\n",
        "\n",
        "df_raw.isnull().sum()"
      ],
      "execution_count": 25,
      "outputs": [
        {
          "output_type": "execute_result",
          "data": {
            "text/plain": [
              "0     12\n",
              "1     12\n",
              "2      0\n",
              "3      6\n",
              "4      6\n",
              "5      9\n",
              "6      9\n",
              "7      0\n",
              "8      0\n",
              "9      0\n",
              "10     0\n",
              "11     0\n",
              "12     0\n",
              "13    13\n",
              "14     0\n",
              "15     0\n",
              "dtype: int64"
            ]
          },
          "metadata": {
            "tags": []
          },
          "execution_count": 25
        }
      ]
    },
    {
      "metadata": {
        "id": "3vkl8w18iVdP",
        "colab_type": "code",
        "colab": {}
      },
      "cell_type": "code",
      "source": [
        "# Decided to drop the Nan values since there were small number\n",
        "# of them whereby it would not affect sample size and without \n",
        "# knowing what the data was and how it was ordered, did not want\n",
        "# to use medians or filling methods inappropriately\n",
        "\n",
        "df_drop = df_raw.dropna()"
      ],
      "execution_count": 0,
      "outputs": []
    },
    {
      "metadata": {
        "id": "zewDEh75iVmt",
        "colab_type": "code",
        "colab": {
          "base_uri": "https://localhost:8080/",
          "height": 316
        },
        "outputId": "63df1fd8-b32b-44a2-db3c-53b4d8cac88b"
      },
      "cell_type": "code",
      "source": [
        "# Confirmed that the Nan values were now dropped\n",
        "\n",
        "df_drop.isnull().sum()"
      ],
      "execution_count": 29,
      "outputs": [
        {
          "output_type": "execute_result",
          "data": {
            "text/plain": [
              "0     0\n",
              "1     0\n",
              "2     0\n",
              "3     0\n",
              "4     0\n",
              "5     0\n",
              "6     0\n",
              "7     0\n",
              "8     0\n",
              "9     0\n",
              "10    0\n",
              "11    0\n",
              "12    0\n",
              "13    0\n",
              "14    0\n",
              "15    0\n",
              "dtype: int64"
            ]
          },
          "metadata": {
            "tags": []
          },
          "execution_count": 29
        }
      ]
    },
    {
      "metadata": {
        "id": "69YlrwxypxsU",
        "colab_type": "code",
        "colab": {}
      },
      "cell_type": "code",
      "source": [
        "# Tried several methods to convert datatype from object\n",
        "# and integer to float\n",
        "\n",
        "df_drop[1] = df_drop[1].astype(float)\n",
        "df_drop[10] = df_drop[10].astype(float)\n",
        "df_drop[13] = df_drop[13].astype(float)\n",
        "df_drop[14] = df_drop[14].astype(float)\n",
        "\n"
      ],
      "execution_count": 0,
      "outputs": []
    },
    {
      "metadata": {
        "id": "qkZVr9Wttpj0",
        "colab_type": "code",
        "colab": {
          "base_uri": "https://localhost:8080/",
          "height": 316
        },
        "outputId": "faa8a27a-998c-4c8f-829c-f8c27773776c"
      },
      "cell_type": "code",
      "source": [
        "# Confirmed the data is now in the correct datatype\n",
        "\n",
        "df_drop.dtypes"
      ],
      "execution_count": 76,
      "outputs": [
        {
          "output_type": "execute_result",
          "data": {
            "text/plain": [
              "0      object\n",
              "1     float64\n",
              "2     float64\n",
              "3      object\n",
              "4      object\n",
              "5      object\n",
              "6      object\n",
              "7     float64\n",
              "8      object\n",
              "9      object\n",
              "10    float64\n",
              "11     object\n",
              "12     object\n",
              "13    float64\n",
              "14    float64\n",
              "15     object\n",
              "dtype: object"
            ]
          },
          "metadata": {
            "tags": []
          },
          "execution_count": 76
        }
      ]
    },
    {
      "metadata": {
        "id": "G7rLytbrO38L",
        "colab_type": "text"
      },
      "cell_type": "markdown",
      "source": [
        "## Part 2 - Exploring data, Testing hypotheses\n",
        "\n",
        "The only thing we really know about this data is that A16 is the class label. Besides that, we have 6 continuous (float) features and 9 categorical features.\n",
        "\n",
        "Explore the data: you can use whatever approach (tables, utility functions, visualizations) to get an impression of the distributions and relationships of the variables. In general, your goal is to understand how the features are different when grouped by the two class labels (`+` and `-`).\n",
        "\n",
        "For the 6 continuous features, how are they different when split between the two class labels? Choose two features to run t-tests (again split by class label) - specifically, select one feature that is *extremely* different between the classes, and another feature that is notably less different (though perhaps still \"statistically significantly\" different). You may have to explore more than two features to do this.\n",
        "\n",
        "For the categorical features, explore by creating \"cross tabs\" between them and the class label, and apply the Chi-squared test to them. There are 9 categorical features - as with the t-test, try to find one where the Chi-squared test returns an extreme result (rejecting the null that the data are independent), and one where it is less extreme.\n",
        "\n",
        "**NOTE** - \"less extreme\" just means smaller test statistic/larger p-value. Even the least extreme differences may be strongly statistically significant.\n",
        "\n",
        "Your *main* goal is the hypothesis tests, so don't spend too much time on the exploration/visualization piece. That is just a means to an end. This is challenging, so manage your time and aim for a baseline of at least running two t-tests and two Chi-squared tests before polishing. And don't forget to answer the questions in part 3, even if your results in this part aren't what you want them to be."
      ]
    },
    {
      "metadata": {
        "id": "_nqcgc0yzm68",
        "colab_type": "code",
        "colab": {
          "base_uri": "https://localhost:8080/",
          "height": 203
        },
        "outputId": "9784640a-d59f-4f28-cb21-aa3b0deccb12"
      },
      "cell_type": "code",
      "source": [
        "# Import libraries\n",
        "\n",
        "import numpy as np\n",
        "from scipy import stats\n",
        "from scipy.stats import chisquare\n",
        "\n",
        "# Re-print data head\n",
        "df_drop.head()"
      ],
      "execution_count": 135,
      "outputs": [
        {
          "output_type": "execute_result",
          "data": {
            "text/html": [
              "<div>\n",
              "<style scoped>\n",
              "    .dataframe tbody tr th:only-of-type {\n",
              "        vertical-align: middle;\n",
              "    }\n",
              "\n",
              "    .dataframe tbody tr th {\n",
              "        vertical-align: top;\n",
              "    }\n",
              "\n",
              "    .dataframe thead th {\n",
              "        text-align: right;\n",
              "    }\n",
              "</style>\n",
              "<table border=\"1\" class=\"dataframe\">\n",
              "  <thead>\n",
              "    <tr style=\"text-align: right;\">\n",
              "      <th></th>\n",
              "      <th>0</th>\n",
              "      <th>1</th>\n",
              "      <th>2</th>\n",
              "      <th>3</th>\n",
              "      <th>4</th>\n",
              "      <th>5</th>\n",
              "      <th>6</th>\n",
              "      <th>7</th>\n",
              "      <th>8</th>\n",
              "      <th>9</th>\n",
              "      <th>10</th>\n",
              "      <th>11</th>\n",
              "      <th>12</th>\n",
              "      <th>13</th>\n",
              "      <th>14</th>\n",
              "      <th>15</th>\n",
              "    </tr>\n",
              "  </thead>\n",
              "  <tbody>\n",
              "    <tr>\n",
              "      <th>0</th>\n",
              "      <td>b</td>\n",
              "      <td>30.83</td>\n",
              "      <td>0.000</td>\n",
              "      <td>u</td>\n",
              "      <td>g</td>\n",
              "      <td>w</td>\n",
              "      <td>v</td>\n",
              "      <td>1.25</td>\n",
              "      <td>t</td>\n",
              "      <td>t</td>\n",
              "      <td>1.0</td>\n",
              "      <td>f</td>\n",
              "      <td>g</td>\n",
              "      <td>202.0</td>\n",
              "      <td>0.0</td>\n",
              "      <td>+</td>\n",
              "    </tr>\n",
              "    <tr>\n",
              "      <th>1</th>\n",
              "      <td>a</td>\n",
              "      <td>58.67</td>\n",
              "      <td>4.460</td>\n",
              "      <td>u</td>\n",
              "      <td>g</td>\n",
              "      <td>q</td>\n",
              "      <td>h</td>\n",
              "      <td>3.04</td>\n",
              "      <td>t</td>\n",
              "      <td>t</td>\n",
              "      <td>6.0</td>\n",
              "      <td>f</td>\n",
              "      <td>g</td>\n",
              "      <td>43.0</td>\n",
              "      <td>560.0</td>\n",
              "      <td>+</td>\n",
              "    </tr>\n",
              "    <tr>\n",
              "      <th>2</th>\n",
              "      <td>a</td>\n",
              "      <td>24.50</td>\n",
              "      <td>0.500</td>\n",
              "      <td>u</td>\n",
              "      <td>g</td>\n",
              "      <td>q</td>\n",
              "      <td>h</td>\n",
              "      <td>1.50</td>\n",
              "      <td>t</td>\n",
              "      <td>f</td>\n",
              "      <td>0.0</td>\n",
              "      <td>f</td>\n",
              "      <td>g</td>\n",
              "      <td>280.0</td>\n",
              "      <td>824.0</td>\n",
              "      <td>+</td>\n",
              "    </tr>\n",
              "    <tr>\n",
              "      <th>3</th>\n",
              "      <td>b</td>\n",
              "      <td>27.83</td>\n",
              "      <td>1.540</td>\n",
              "      <td>u</td>\n",
              "      <td>g</td>\n",
              "      <td>w</td>\n",
              "      <td>v</td>\n",
              "      <td>3.75</td>\n",
              "      <td>t</td>\n",
              "      <td>t</td>\n",
              "      <td>5.0</td>\n",
              "      <td>t</td>\n",
              "      <td>g</td>\n",
              "      <td>100.0</td>\n",
              "      <td>3.0</td>\n",
              "      <td>+</td>\n",
              "    </tr>\n",
              "    <tr>\n",
              "      <th>4</th>\n",
              "      <td>b</td>\n",
              "      <td>20.17</td>\n",
              "      <td>5.625</td>\n",
              "      <td>u</td>\n",
              "      <td>g</td>\n",
              "      <td>w</td>\n",
              "      <td>v</td>\n",
              "      <td>1.71</td>\n",
              "      <td>t</td>\n",
              "      <td>f</td>\n",
              "      <td>0.0</td>\n",
              "      <td>f</td>\n",
              "      <td>s</td>\n",
              "      <td>120.0</td>\n",
              "      <td>0.0</td>\n",
              "      <td>+</td>\n",
              "    </tr>\n",
              "  </tbody>\n",
              "</table>\n",
              "</div>"
            ],
            "text/plain": [
              "  0      1      2  3  4  5  6     7  8  9    10 11 12     13     14 15\n",
              "0  b  30.83  0.000  u  g  w  v  1.25  t  t  1.0  f  g  202.0    0.0  +\n",
              "1  a  58.67  4.460  u  g  q  h  3.04  t  t  6.0  f  g   43.0  560.0  +\n",
              "2  a  24.50  0.500  u  g  q  h  1.50  t  f  0.0  f  g  280.0  824.0  +\n",
              "3  b  27.83  1.540  u  g  w  v  3.75  t  t  5.0  t  g  100.0    3.0  +\n",
              "4  b  20.17  5.625  u  g  w  v  1.71  t  f  0.0  f  s  120.0    0.0  +"
            ]
          },
          "metadata": {
            "tags": []
          },
          "execution_count": 135
        }
      ]
    },
    {
      "metadata": {
        "id": "Mc3dDMhQBis0",
        "colab_type": "text"
      },
      "cell_type": "markdown",
      "source": [
        "### Exploring and Testing Continuous Variables"
      ]
    },
    {
      "metadata": {
        "id": "R_ySesL-utEN",
        "colab_type": "code",
        "colab": {
          "base_uri": "https://localhost:8080/",
          "height": 295
        },
        "outputId": "52bc51e3-3f30-4060-8722-b55b512cd4d3"
      },
      "cell_type": "code",
      "source": [
        "# Explored the central tendency of the numeric variables\n",
        "\n",
        "df_drop.describe()"
      ],
      "execution_count": 79,
      "outputs": [
        {
          "output_type": "execute_result",
          "data": {
            "text/html": [
              "<div>\n",
              "<style scoped>\n",
              "    .dataframe tbody tr th:only-of-type {\n",
              "        vertical-align: middle;\n",
              "    }\n",
              "\n",
              "    .dataframe tbody tr th {\n",
              "        vertical-align: top;\n",
              "    }\n",
              "\n",
              "    .dataframe thead th {\n",
              "        text-align: right;\n",
              "    }\n",
              "</style>\n",
              "<table border=\"1\" class=\"dataframe\">\n",
              "  <thead>\n",
              "    <tr style=\"text-align: right;\">\n",
              "      <th></th>\n",
              "      <th>1</th>\n",
              "      <th>2</th>\n",
              "      <th>7</th>\n",
              "      <th>10</th>\n",
              "      <th>13</th>\n",
              "      <th>14</th>\n",
              "    </tr>\n",
              "  </thead>\n",
              "  <tbody>\n",
              "    <tr>\n",
              "      <th>count</th>\n",
              "      <td>653.000000</td>\n",
              "      <td>653.000000</td>\n",
              "      <td>653.000000</td>\n",
              "      <td>653.000000</td>\n",
              "      <td>653.000000</td>\n",
              "      <td>653.000000</td>\n",
              "    </tr>\n",
              "    <tr>\n",
              "      <th>mean</th>\n",
              "      <td>31.503813</td>\n",
              "      <td>4.829533</td>\n",
              "      <td>2.244296</td>\n",
              "      <td>2.502297</td>\n",
              "      <td>180.359877</td>\n",
              "      <td>1013.761103</td>\n",
              "    </tr>\n",
              "    <tr>\n",
              "      <th>std</th>\n",
              "      <td>11.838267</td>\n",
              "      <td>5.027077</td>\n",
              "      <td>3.371120</td>\n",
              "      <td>4.968497</td>\n",
              "      <td>168.296811</td>\n",
              "      <td>5253.278504</td>\n",
              "    </tr>\n",
              "    <tr>\n",
              "      <th>min</th>\n",
              "      <td>13.750000</td>\n",
              "      <td>0.000000</td>\n",
              "      <td>0.000000</td>\n",
              "      <td>0.000000</td>\n",
              "      <td>0.000000</td>\n",
              "      <td>0.000000</td>\n",
              "    </tr>\n",
              "    <tr>\n",
              "      <th>25%</th>\n",
              "      <td>22.580000</td>\n",
              "      <td>1.040000</td>\n",
              "      <td>0.165000</td>\n",
              "      <td>0.000000</td>\n",
              "      <td>73.000000</td>\n",
              "      <td>0.000000</td>\n",
              "    </tr>\n",
              "    <tr>\n",
              "      <th>50%</th>\n",
              "      <td>28.420000</td>\n",
              "      <td>2.835000</td>\n",
              "      <td>1.000000</td>\n",
              "      <td>0.000000</td>\n",
              "      <td>160.000000</td>\n",
              "      <td>5.000000</td>\n",
              "    </tr>\n",
              "    <tr>\n",
              "      <th>75%</th>\n",
              "      <td>38.250000</td>\n",
              "      <td>7.500000</td>\n",
              "      <td>2.625000</td>\n",
              "      <td>3.000000</td>\n",
              "      <td>272.000000</td>\n",
              "      <td>400.000000</td>\n",
              "    </tr>\n",
              "    <tr>\n",
              "      <th>max</th>\n",
              "      <td>76.750000</td>\n",
              "      <td>28.000000</td>\n",
              "      <td>28.500000</td>\n",
              "      <td>67.000000</td>\n",
              "      <td>2000.000000</td>\n",
              "      <td>100000.000000</td>\n",
              "    </tr>\n",
              "  </tbody>\n",
              "</table>\n",
              "</div>"
            ],
            "text/plain": [
              "               1           2           7           10           13             14\n",
              "count  653.000000  653.000000  653.000000  653.000000   653.000000     653.000000\n",
              "mean    31.503813    4.829533    2.244296    2.502297   180.359877    1013.761103\n",
              "std     11.838267    5.027077    3.371120    4.968497   168.296811    5253.278504\n",
              "min     13.750000    0.000000    0.000000    0.000000     0.000000       0.000000\n",
              "25%     22.580000    1.040000    0.165000    0.000000    73.000000       0.000000\n",
              "50%     28.420000    2.835000    1.000000    0.000000   160.000000       5.000000\n",
              "75%     38.250000    7.500000    2.625000    3.000000   272.000000     400.000000\n",
              "max     76.750000   28.000000   28.500000   67.000000  2000.000000  100000.000000"
            ]
          },
          "metadata": {
            "tags": []
          },
          "execution_count": 79
        }
      ]
    },
    {
      "metadata": {
        "id": "2y3D3pqyutIv",
        "colab_type": "code",
        "colab": {
          "base_uri": "https://localhost:8080/",
          "height": 87
        },
        "outputId": "51f2902a-6dde-4e62-c1a3-fb285809745b"
      },
      "cell_type": "code",
      "source": [
        "# Created pivot table to group the \"+ / -\" class or essentially the \n",
        "# application pass and reject class to examine the mean values for each\n",
        "# continuous variables by class. By comparing the class means with the \n",
        "# overall standard deviations and mean, I can see some basic preliminary\n",
        "# differences in column 10 and 14. In all cases but column variable 13,\n",
        "# the application pass rate is linked to a higher relative value. \n",
        "\n",
        "data_pivot = pd.pivot_table(df_drop,index=[15])\n",
        "print(data_pivot)"
      ],
      "execution_count": 112,
      "outputs": [
        {
          "output_type": "stream",
          "text": [
            "           1         2         7         10          13           14\n",
            "15                                                                  \n",
            "+   33.845473  5.971943  3.475186  4.716216  164.621622  2009.726351\n",
            "-   29.562269  3.882325  1.223725  0.666667  193.408964   187.974790\n"
          ],
          "name": "stdout"
        }
      ]
    },
    {
      "metadata": {
        "id": "6arOXAJ08SyU",
        "colab_type": "code",
        "colab": {
          "base_uri": "https://localhost:8080/",
          "height": 35
        },
        "outputId": "e4fb4af3-4691-4720-fd30-28d0ea3714e3"
      },
      "cell_type": "code",
      "source": [
        "# Checked to see how the pivot table columns are indexed\n",
        "\n",
        "data_pivot.columns"
      ],
      "execution_count": 113,
      "outputs": [
        {
          "output_type": "execute_result",
          "data": {
            "text/plain": [
              "Index([1, 2, 7, 10, 13, 14], dtype='object')"
            ]
          },
          "metadata": {
            "tags": []
          },
          "execution_count": 113
        }
      ]
    },
    {
      "metadata": {
        "id": "j_qmdQBt9y0I",
        "colab_type": "code",
        "colab": {}
      },
      "cell_type": "code",
      "source": [
        "# Split the DF into two class dataframes between the pass and reject\n",
        "# applications\n",
        "\n",
        "pass_df = df_drop.loc[df_drop[15] == '+']\n",
        "reject_df = df_drop.loc[df_drop[15] == '-']"
      ],
      "execution_count": 0,
      "outputs": []
    },
    {
      "metadata": {
        "id": "xvulHtyi-Hdt",
        "colab_type": "code",
        "colab": {
          "base_uri": "https://localhost:8080/",
          "height": 211
        },
        "outputId": "6c21f2d8-3aa8-4a52-edca-b8a5afd2eeba"
      },
      "cell_type": "code",
      "source": [
        "# Checked the data head for the new split dataframe for passing\n",
        "# applications\n",
        "\n",
        "print(pass_df.head(10))"
      ],
      "execution_count": 136,
      "outputs": [
        {
          "output_type": "stream",
          "text": [
            "  0      1       2  3  4   5  6      7  8  9    10 11 12     13       14 15\n",
            "0  b  30.83   0.000  u  g   w  v  1.250  t  t  1.0  f  g  202.0      0.0  +\n",
            "1  a  58.67   4.460  u  g   q  h  3.040  t  t  6.0  f  g   43.0    560.0  +\n",
            "2  a  24.50   0.500  u  g   q  h  1.500  t  f  0.0  f  g  280.0    824.0  +\n",
            "3  b  27.83   1.540  u  g   w  v  3.750  t  t  5.0  t  g  100.0      3.0  +\n",
            "4  b  20.17   5.625  u  g   w  v  1.710  t  f  0.0  f  s  120.0      0.0  +\n",
            "5  b  32.08   4.000  u  g   m  v  2.500  t  f  0.0  t  g  360.0      0.0  +\n",
            "6  b  33.17   1.040  u  g   r  h  6.500  t  f  0.0  t  g  164.0  31285.0  +\n",
            "7  a  22.92  11.585  u  g  cc  v  0.040  t  f  0.0  f  g   80.0   1349.0  +\n",
            "8  b  54.42   0.500  y  p   k  h  3.960  t  f  0.0  f  g  180.0    314.0  +\n",
            "9  b  42.50   4.915  y  p   w  v  3.165  t  f  0.0  t  g   52.0   1442.0  +\n"
          ],
          "name": "stdout"
        }
      ]
    },
    {
      "metadata": {
        "id": "t4K722yg8Ary",
        "colab_type": "code",
        "colab": {
          "base_uri": "https://localhost:8080/",
          "height": 35
        },
        "outputId": "0f14f040-d9d3-4590-ee54-44305f740f3f"
      },
      "cell_type": "code",
      "source": [
        "# Ran 2-sample t-test on column variable 14, resulted in a p-value lower than\n",
        "# alpha to reject the null hypothesis, and the positive t-stat indicates that\n",
        "# a higher value of the variable has an impact on a passed or failed application\n",
        "\n",
        "stats.ttest_ind(pass_df[14],reject_df[14])"
      ],
      "execution_count": 123,
      "outputs": [
        {
          "output_type": "execute_result",
          "data": {
            "text/plain": [
              "Ttest_indResult(statistic=4.475369764700449, pvalue=9.003915641872878e-06)"
            ]
          },
          "metadata": {
            "tags": []
          },
          "execution_count": 123
        }
      ]
    },
    {
      "metadata": {
        "id": "w3ELhyaG8A0J",
        "colab_type": "code",
        "colab": {
          "base_uri": "https://localhost:8080/",
          "height": 35
        },
        "outputId": "4a19fbc3-adf9-4cef-92d5-ef3984975250"
      },
      "cell_type": "code",
      "source": [
        "# Ran another t-test for column variable 13, and confirmed that a lower value \n",
        "# increased probability of passing and that it is statistically significant even\n",
        "# though it is not as significant relative to other variables\n",
        "\n",
        "stats.ttest_ind(pass_df[13],reject_df[13])"
      ],
      "execution_count": 124,
      "outputs": [
        {
          "output_type": "execute_result",
          "data": {
            "text/plain": [
              "Ttest_indResult(statistic=-2.18221936438708, pvalue=0.029450100409286473)"
            ]
          },
          "metadata": {
            "tags": []
          },
          "execution_count": 124
        }
      ]
    },
    {
      "metadata": {
        "id": "DMah1pYz8Ax0",
        "colab_type": "code",
        "colab": {
          "base_uri": "https://localhost:8080/",
          "height": 35
        },
        "outputId": "afe59a2c-939b-4e84-8f99-c8edae833138"
      },
      "cell_type": "code",
      "source": [
        "# Ran test for the other variables\n",
        "\n",
        "stats.ttest_ind(pass_df[10],reject_df[10])"
      ],
      "execution_count": 125,
      "outputs": [
        {
          "output_type": "execute_result",
          "data": {
            "text/plain": [
              "Ttest_indResult(statistic=11.336964562239809, pvalue=2.5864649620278843e-27)"
            ]
          },
          "metadata": {
            "tags": []
          },
          "execution_count": 125
        }
      ]
    },
    {
      "metadata": {
        "id": "t95WmxwM8AoZ",
        "colab_type": "code",
        "colab": {
          "base_uri": "https://localhost:8080/",
          "height": 35
        },
        "outputId": "60436e7e-91ad-41c6-cd1e-bbe5e8072f82"
      },
      "cell_type": "code",
      "source": [
        "# Ran test for the other variables\n",
        "\n",
        "stats.ttest_ind(pass_df[7],reject_df[7])"
      ],
      "execution_count": 126,
      "outputs": [
        {
          "output_type": "execute_result",
          "data": {
            "text/plain": [
              "Ttest_indResult(statistic=9.002392498622463, pvalue=2.4079238505859142e-18)"
            ]
          },
          "metadata": {
            "tags": []
          },
          "execution_count": 126
        }
      ]
    },
    {
      "metadata": {
        "id": "dPXTuXro8Alp",
        "colab_type": "code",
        "colab": {
          "base_uri": "https://localhost:8080/",
          "height": 35
        },
        "outputId": "e6cf535a-219d-4680-b799-23ae99e8bcbf"
      },
      "cell_type": "code",
      "source": [
        "# Ran test for the other variables\n",
        "\n",
        "stats.ttest_ind(pass_df[2],reject_df[2])"
      ],
      "execution_count": 127,
      "outputs": [
        {
          "output_type": "execute_result",
          "data": {
            "text/plain": [
              "Ttest_indResult(statistic=5.400813416576192, pvalue=9.310154396147606e-08)"
            ]
          },
          "metadata": {
            "tags": []
          },
          "execution_count": 127
        }
      ]
    },
    {
      "metadata": {
        "id": "oRBstlJ2-pVi",
        "colab_type": "code",
        "colab": {
          "base_uri": "https://localhost:8080/",
          "height": 35
        },
        "outputId": "f469a633-d117-4cd6-b4c5-45f8123f7ce5"
      },
      "cell_type": "code",
      "source": [
        "# Ran test for the other variables\n",
        "\n",
        "stats.ttest_ind(pass_df[1],reject_df[1])"
      ],
      "execution_count": 128,
      "outputs": [
        {
          "output_type": "execute_result",
          "data": {
            "text/plain": [
              "Ttest_indResult(statistic=4.675662433767456, pvalue=3.5636710933835225e-06)"
            ]
          },
          "metadata": {
            "tags": []
          },
          "execution_count": 128
        }
      ]
    },
    {
      "metadata": {
        "id": "pqK9itcABvnz",
        "colab_type": "text"
      },
      "cell_type": "markdown",
      "source": [
        "### Exploring and Testing Categorical Variables"
      ]
    },
    {
      "metadata": {
        "id": "dTfrR1PyzcwN",
        "colab_type": "code",
        "colab": {
          "base_uri": "https://localhost:8080/",
          "height": 141
        },
        "outputId": "18e37df6-5748-4e35-93eb-ddb9615f7c8d"
      },
      "cell_type": "code",
      "source": [
        "# Explored different combination of crosstabs to check for any glaring patterns\n",
        "\n",
        "#pd.crosstab(df_drop[15],df_drop[5])"
      ],
      "execution_count": 84,
      "outputs": [
        {
          "output_type": "execute_result",
          "data": {
            "text/html": [
              "<div>\n",
              "<style scoped>\n",
              "    .dataframe tbody tr th:only-of-type {\n",
              "        vertical-align: middle;\n",
              "    }\n",
              "\n",
              "    .dataframe tbody tr th {\n",
              "        vertical-align: top;\n",
              "    }\n",
              "\n",
              "    .dataframe thead th {\n",
              "        text-align: right;\n",
              "    }\n",
              "</style>\n",
              "<table border=\"1\" class=\"dataframe\">\n",
              "  <thead>\n",
              "    <tr style=\"text-align: right;\">\n",
              "      <th>5</th>\n",
              "      <th>aa</th>\n",
              "      <th>c</th>\n",
              "      <th>cc</th>\n",
              "      <th>d</th>\n",
              "      <th>e</th>\n",
              "      <th>ff</th>\n",
              "      <th>i</th>\n",
              "      <th>j</th>\n",
              "      <th>k</th>\n",
              "      <th>m</th>\n",
              "      <th>q</th>\n",
              "      <th>r</th>\n",
              "      <th>w</th>\n",
              "      <th>x</th>\n",
              "    </tr>\n",
              "    <tr>\n",
              "      <th>15</th>\n",
              "      <th></th>\n",
              "      <th></th>\n",
              "      <th></th>\n",
              "      <th></th>\n",
              "      <th></th>\n",
              "      <th></th>\n",
              "      <th></th>\n",
              "      <th></th>\n",
              "      <th></th>\n",
              "      <th></th>\n",
              "      <th></th>\n",
              "      <th></th>\n",
              "      <th></th>\n",
              "      <th></th>\n",
              "    </tr>\n",
              "  </thead>\n",
              "  <tbody>\n",
              "    <tr>\n",
              "      <th>+</th>\n",
              "      <td>19</td>\n",
              "      <td>60</td>\n",
              "      <td>29</td>\n",
              "      <td>7</td>\n",
              "      <td>14</td>\n",
              "      <td>7</td>\n",
              "      <td>14</td>\n",
              "      <td>3</td>\n",
              "      <td>13</td>\n",
              "      <td>16</td>\n",
              "      <td>49</td>\n",
              "      <td>2</td>\n",
              "      <td>33</td>\n",
              "      <td>30</td>\n",
              "    </tr>\n",
              "    <tr>\n",
              "      <th>-</th>\n",
              "      <td>33</td>\n",
              "      <td>73</td>\n",
              "      <td>11</td>\n",
              "      <td>19</td>\n",
              "      <td>10</td>\n",
              "      <td>43</td>\n",
              "      <td>41</td>\n",
              "      <td>7</td>\n",
              "      <td>35</td>\n",
              "      <td>22</td>\n",
              "      <td>26</td>\n",
              "      <td>1</td>\n",
              "      <td>30</td>\n",
              "      <td>6</td>\n",
              "    </tr>\n",
              "  </tbody>\n",
              "</table>\n",
              "</div>"
            ],
            "text/plain": [
              "5   aa   c  cc   d   e  ff   i  j   k   m   q  r   w   x\n",
              "15                                                      \n",
              "+   19  60  29   7  14   7  14  3  13  16  49  2  33  30\n",
              "-   33  73  11  19  10  43  41  7  35  22  26  1  30   6"
            ]
          },
          "metadata": {
            "tags": []
          },
          "execution_count": 84
        }
      ]
    },
    {
      "metadata": {
        "id": "HUWxwdR_zc1N",
        "colab_type": "code",
        "colab": {
          "base_uri": "https://localhost:8080/",
          "height": 141
        },
        "outputId": "655a7699-05d5-4091-e737-6f1a1db162ce"
      },
      "cell_type": "code",
      "source": [
        "# Explored different combination of crosstabs to check for any glaring patterns\n",
        "\n",
        "#pd.crosstab(df_drop[15],df_drop[6])"
      ],
      "execution_count": 85,
      "outputs": [
        {
          "output_type": "execute_result",
          "data": {
            "text/html": [
              "<div>\n",
              "<style scoped>\n",
              "    .dataframe tbody tr th:only-of-type {\n",
              "        vertical-align: middle;\n",
              "    }\n",
              "\n",
              "    .dataframe tbody tr th {\n",
              "        vertical-align: top;\n",
              "    }\n",
              "\n",
              "    .dataframe thead th {\n",
              "        text-align: right;\n",
              "    }\n",
              "</style>\n",
              "<table border=\"1\" class=\"dataframe\">\n",
              "  <thead>\n",
              "    <tr style=\"text-align: right;\">\n",
              "      <th>6</th>\n",
              "      <th>bb</th>\n",
              "      <th>dd</th>\n",
              "      <th>ff</th>\n",
              "      <th>h</th>\n",
              "      <th>j</th>\n",
              "      <th>n</th>\n",
              "      <th>o</th>\n",
              "      <th>v</th>\n",
              "      <th>z</th>\n",
              "    </tr>\n",
              "    <tr>\n",
              "      <th>15</th>\n",
              "      <th></th>\n",
              "      <th></th>\n",
              "      <th></th>\n",
              "      <th></th>\n",
              "      <th></th>\n",
              "      <th></th>\n",
              "      <th></th>\n",
              "      <th></th>\n",
              "      <th></th>\n",
              "    </tr>\n",
              "  </thead>\n",
              "  <tbody>\n",
              "    <tr>\n",
              "      <th>+</th>\n",
              "      <td>24</td>\n",
              "      <td>2</td>\n",
              "      <td>8</td>\n",
              "      <td>87</td>\n",
              "      <td>3</td>\n",
              "      <td>2</td>\n",
              "      <td>1</td>\n",
              "      <td>163</td>\n",
              "      <td>6</td>\n",
              "    </tr>\n",
              "    <tr>\n",
              "      <th>-</th>\n",
              "      <td>29</td>\n",
              "      <td>4</td>\n",
              "      <td>46</td>\n",
              "      <td>50</td>\n",
              "      <td>5</td>\n",
              "      <td>2</td>\n",
              "      <td>1</td>\n",
              "      <td>218</td>\n",
              "      <td>2</td>\n",
              "    </tr>\n",
              "  </tbody>\n",
              "</table>\n",
              "</div>"
            ],
            "text/plain": [
              "6   bb  dd  ff   h  j  n  o    v  z\n",
              "15                                 \n",
              "+   24   2   8  87  3  2  1  163  6\n",
              "-   29   4  46  50  5  2  1  218  2"
            ]
          },
          "metadata": {
            "tags": []
          },
          "execution_count": 85
        }
      ]
    },
    {
      "metadata": {
        "id": "bRS9d0WDzc_x",
        "colab_type": "code",
        "colab": {
          "base_uri": "https://localhost:8080/",
          "height": 87
        },
        "outputId": "a17a2a1f-ad8c-44d3-e121-db3a0bd724bf"
      },
      "cell_type": "code",
      "source": [
        "# Explored different combination of crosstabs to check for any glaring patterns\n",
        "# This variable appeared to be a little more ambiguous and worth checking for\n",
        "# dependency\n",
        "\n",
        "ct_11 = pd.crosstab(df_drop[15],df_drop[11])\n",
        "print(ct_11)"
      ],
      "execution_count": 108,
      "outputs": [
        {
          "output_type": "stream",
          "text": [
            "11    f    t\n",
            "15          \n",
            "+   151  145\n",
            "-   200  157\n"
          ],
          "name": "stdout"
        }
      ]
    },
    {
      "metadata": {
        "id": "qpYeyUqjz_pQ",
        "colab_type": "code",
        "colab": {
          "base_uri": "https://localhost:8080/",
          "height": 87
        },
        "outputId": "76e0e05f-7144-4772-ac9d-73cee79e8b62"
      },
      "cell_type": "code",
      "source": [
        "# Explored different combination of crosstabs to check for any glaring patterns\n",
        "# This variable appeared to be a little more ambiguous and worth checking for\n",
        "# dependency\n",
        "\n",
        "ct_12 = pd.crosstab(df_drop[15],df_drop[12])\n",
        "print(ct_12)"
      ],
      "execution_count": 110,
      "outputs": [
        {
          "output_type": "stream",
          "text": [
            "12    g  p   s\n",
            "15            \n",
            "+   280  1  15\n",
            "-   318  1  38\n"
          ],
          "name": "stdout"
        }
      ]
    },
    {
      "metadata": {
        "id": "eiQ2uKYtz_lc",
        "colab_type": "code",
        "colab": {
          "base_uri": "https://localhost:8080/",
          "height": 87
        },
        "outputId": "d4ad34cc-0372-467e-c68a-d6db45b18088"
      },
      "cell_type": "code",
      "source": [
        "# Explored different combination of crosstabs to check for any glaring patterns\n",
        "# This variable appeared to have a larger difference and a likely candidate for\n",
        "# testing dependency\n",
        "\n",
        "ct_9 = pd.crosstab(df_drop[15],df_drop[9])\n",
        "ct_9.columns\n",
        "ct_9['t']"
      ],
      "execution_count": 103,
      "outputs": [
        {
          "output_type": "execute_result",
          "data": {
            "text/plain": [
              "15\n",
              "+    203\n",
              "-     84\n",
              "Name: t, dtype: int64"
            ]
          },
          "metadata": {
            "tags": []
          },
          "execution_count": 103
        }
      ]
    },
    {
      "metadata": {
        "id": "Bxb5Pw550Dls",
        "colab_type": "code",
        "colab": {
          "base_uri": "https://localhost:8080/",
          "height": 87
        },
        "outputId": "64c0639d-539d-4529-c2e2-c97edd8396c6"
      },
      "cell_type": "code",
      "source": [
        "# Explored different combination of crosstabs to check for any glaring patterns\n",
        "# This variable appeared to have a larger difference and a likely candidate for\n",
        "# testing dependency but the breakdown is similar to column variable 9 and\n",
        "# a good choice to compare for dependency between the two\n",
        "\n",
        "ct_8 = pd.crosstab(df_drop[15],df_drop[8])\n",
        "ct_8.columns\n",
        "ct_8['t']"
      ],
      "execution_count": 102,
      "outputs": [
        {
          "output_type": "execute_result",
          "data": {
            "text/plain": [
              "15\n",
              "+    278\n",
              "-     71\n",
              "Name: t, dtype: int64"
            ]
          },
          "metadata": {
            "tags": []
          },
          "execution_count": 102
        }
      ]
    },
    {
      "metadata": {
        "id": "pftIwmiTz_ic",
        "colab_type": "code",
        "colab": {
          "base_uri": "https://localhost:8080/",
          "height": 87
        },
        "outputId": "40a69521-3122-4372-d12a-397253313c0c"
      },
      "cell_type": "code",
      "source": [
        "# Explored different combination of crosstabs to check for any glaring patterns\n",
        "# This variable appeared to be a little more ambiguous and possibly worth \n",
        "# checking for dependency\n",
        "\n",
        "ct_4 = pd.crosstab(df_drop[15],df_drop[4])\n",
        "print(ct_4)"
      ],
      "execution_count": 105,
      "outputs": [
        {
          "output_type": "stream",
          "text": [
            "4     g  gg    p\n",
            "15              \n",
            "+   249   2   45\n",
            "-   250   0  107\n"
          ],
          "name": "stdout"
        }
      ]
    },
    {
      "metadata": {
        "id": "rfMyt6P10pHF",
        "colab_type": "code",
        "colab": {
          "base_uri": "https://localhost:8080/",
          "height": 87
        },
        "outputId": "c892ed88-3bcd-40e8-83c1-59dc10aec7c3"
      },
      "cell_type": "code",
      "source": [
        "# Explored different combination of crosstabs to check for any glaring patterns\n",
        "# This variable appeared to be a little more ambiguous and possibly worth \n",
        "# checking for dependency\n",
        "\n",
        "ct_3 = pd.crosstab(df_drop[15],df_drop[3])\n",
        "print(ct_3)"
      ],
      "execution_count": 106,
      "outputs": [
        {
          "output_type": "stream",
          "text": [
            "3   l    u    y\n",
            "15             \n",
            "+   2  249   45\n",
            "-   0  250  107\n"
          ],
          "name": "stdout"
        }
      ]
    },
    {
      "metadata": {
        "id": "5VqxoM0lvDGJ",
        "colab_type": "code",
        "colab": {
          "base_uri": "https://localhost:8080/",
          "height": 233
        },
        "outputId": "b8e5afa8-fb77-4aa6-df71-f6798a8f7cd9"
      },
      "cell_type": "code",
      "source": [
        "# Explored other multiple grouping crosstabs\n",
        "\n",
        "pd.crosstab([df_drop[15], df_drop[0]], [df_drop[3], df_drop[4]])"
      ],
      "execution_count": 82,
      "outputs": [
        {
          "output_type": "execute_result",
          "data": {
            "text/html": [
              "<div>\n",
              "<style scoped>\n",
              "    .dataframe tbody tr th:only-of-type {\n",
              "        vertical-align: middle;\n",
              "    }\n",
              "\n",
              "    .dataframe tbody tr th {\n",
              "        vertical-align: top;\n",
              "    }\n",
              "\n",
              "    .dataframe thead tr th {\n",
              "        text-align: left;\n",
              "    }\n",
              "\n",
              "    .dataframe thead tr:last-of-type th {\n",
              "        text-align: right;\n",
              "    }\n",
              "</style>\n",
              "<table border=\"1\" class=\"dataframe\">\n",
              "  <thead>\n",
              "    <tr>\n",
              "      <th></th>\n",
              "      <th>3</th>\n",
              "      <th>l</th>\n",
              "      <th>u</th>\n",
              "      <th>y</th>\n",
              "    </tr>\n",
              "    <tr>\n",
              "      <th></th>\n",
              "      <th>4</th>\n",
              "      <th>gg</th>\n",
              "      <th>g</th>\n",
              "      <th>p</th>\n",
              "    </tr>\n",
              "    <tr>\n",
              "      <th>15</th>\n",
              "      <th>0</th>\n",
              "      <th></th>\n",
              "      <th></th>\n",
              "      <th></th>\n",
              "    </tr>\n",
              "  </thead>\n",
              "  <tbody>\n",
              "    <tr>\n",
              "      <th rowspan=\"2\" valign=\"top\">+</th>\n",
              "      <th>a</th>\n",
              "      <td>1</td>\n",
              "      <td>83</td>\n",
              "      <td>11</td>\n",
              "    </tr>\n",
              "    <tr>\n",
              "      <th>b</th>\n",
              "      <td>1</td>\n",
              "      <td>166</td>\n",
              "      <td>34</td>\n",
              "    </tr>\n",
              "    <tr>\n",
              "      <th rowspan=\"2\" valign=\"top\">-</th>\n",
              "      <th>a</th>\n",
              "      <td>0</td>\n",
              "      <td>80</td>\n",
              "      <td>28</td>\n",
              "    </tr>\n",
              "    <tr>\n",
              "      <th>b</th>\n",
              "      <td>0</td>\n",
              "      <td>170</td>\n",
              "      <td>79</td>\n",
              "    </tr>\n",
              "  </tbody>\n",
              "</table>\n",
              "</div>"
            ],
            "text/plain": [
              "3     l    u   y\n",
              "4    gg    g   p\n",
              "15 0            \n",
              "+  a  1   83  11\n",
              "   b  1  166  34\n",
              "-  a  0   80  28\n",
              "   b  0  170  79"
            ]
          },
          "metadata": {
            "tags": []
          },
          "execution_count": 82
        }
      ]
    },
    {
      "metadata": {
        "id": "l6mK9AkZvDK0",
        "colab_type": "code",
        "colab": {
          "base_uri": "https://localhost:8080/",
          "height": 172
        },
        "outputId": "6ad09a0b-d61b-4e28-ddf6-5ff0036b2c5f"
      },
      "cell_type": "code",
      "source": [
        "# Explored other multiple grouping crosstabs\n",
        "\n",
        "pd.crosstab(df_drop[15],[df_drop[8], df_drop[9]])"
      ],
      "execution_count": 94,
      "outputs": [
        {
          "output_type": "execute_result",
          "data": {
            "text/html": [
              "<div>\n",
              "<style scoped>\n",
              "    .dataframe tbody tr th:only-of-type {\n",
              "        vertical-align: middle;\n",
              "    }\n",
              "\n",
              "    .dataframe tbody tr th {\n",
              "        vertical-align: top;\n",
              "    }\n",
              "\n",
              "    .dataframe thead tr th {\n",
              "        text-align: left;\n",
              "    }\n",
              "\n",
              "    .dataframe thead tr:last-of-type th {\n",
              "        text-align: right;\n",
              "    }\n",
              "</style>\n",
              "<table border=\"1\" class=\"dataframe\">\n",
              "  <thead>\n",
              "    <tr>\n",
              "      <th>8</th>\n",
              "      <th colspan=\"2\" halign=\"left\">f</th>\n",
              "      <th colspan=\"2\" halign=\"left\">t</th>\n",
              "    </tr>\n",
              "    <tr>\n",
              "      <th>9</th>\n",
              "      <th>f</th>\n",
              "      <th>t</th>\n",
              "      <th>f</th>\n",
              "      <th>t</th>\n",
              "    </tr>\n",
              "    <tr>\n",
              "      <th>15</th>\n",
              "      <th></th>\n",
              "      <th></th>\n",
              "      <th></th>\n",
              "      <th></th>\n",
              "    </tr>\n",
              "  </thead>\n",
              "  <tbody>\n",
              "    <tr>\n",
              "      <th>+</th>\n",
              "      <td>17</td>\n",
              "      <td>1</td>\n",
              "      <td>76</td>\n",
              "      <td>202</td>\n",
              "    </tr>\n",
              "    <tr>\n",
              "      <th>-</th>\n",
              "      <td>223</td>\n",
              "      <td>63</td>\n",
              "      <td>50</td>\n",
              "      <td>21</td>\n",
              "    </tr>\n",
              "  </tbody>\n",
              "</table>\n",
              "</div>"
            ],
            "text/plain": [
              "8     f       t     \n",
              "9     f   t   f    t\n",
              "15                  \n",
              "+    17   1  76  202\n",
              "-   223  63  50   21"
            ]
          },
          "metadata": {
            "tags": []
          },
          "execution_count": 94
        }
      ]
    },
    {
      "metadata": {
        "id": "qRSZpbY-3S3j",
        "colab_type": "code",
        "colab": {
          "base_uri": "https://localhost:8080/",
          "height": 70
        },
        "outputId": "4726f241-82ed-410f-d1b9-e1f6463c5a2c"
      },
      "cell_type": "code",
      "source": [
        "# Ran Chi-square test between column variable 8 and 9 which resulted in a lower\n",
        "# p-value than alpha to reject the null hypothesis and indicate that the two\n",
        "# variables are dependent\n",
        "\n",
        "column8_9 = np.array([ct_8['t'], ct_9['t']]).T\n",
        "print(column8_9)\n",
        "print(chisquare(column8_9, axis=None))"
      ],
      "execution_count": 134,
      "outputs": [
        {
          "output_type": "stream",
          "text": [
            "[[278 203]\n",
            " [ 71  84]]\n",
            "Power_divergenceResult(statistic=185.32075471698113, pvalue=6.256570011547808e-40)\n"
          ],
          "name": "stdout"
        }
      ]
    },
    {
      "metadata": {
        "id": "MwIANdHw7YPp",
        "colab_type": "code",
        "colab": {
          "base_uri": "https://localhost:8080/",
          "height": 70
        },
        "outputId": "65a68e6c-81ff-4f8a-afb6-18673fd7b2b2"
      },
      "cell_type": "code",
      "source": [
        "# Ran Chi-square test between column variable 11 and 12 which resulted in a lower\n",
        "# p-value than alpha to reject the null hypothesis and indicate that the two\n",
        "# variables are dependent\n",
        "\n",
        "column11_12 = np.array([ct_11['t'], ct_12['g']]).T\n",
        "print(column11_12)\n",
        "print(chisquare(column11_12, axis=None))"
      ],
      "execution_count": 111,
      "outputs": [
        {
          "output_type": "stream",
          "text": [
            "[[145 280]\n",
            " [157 318]]\n",
            "Power_divergenceResult(statistic=100.88, pvalue=1.0052445656448748e-21)\n"
          ],
          "name": "stdout"
        }
      ]
    },
    {
      "metadata": {
        "id": "_661zvrT6pqw",
        "colab_type": "code",
        "colab": {
          "base_uri": "https://localhost:8080/",
          "height": 70
        },
        "outputId": "8e2b525d-6e45-4db7-c0ce-2c0f49fba487"
      },
      "cell_type": "code",
      "source": [
        "# Ran Chi-square test between column variable 3 and 4 which resulted in a lower\n",
        "# p-value than alpha to reject the null hypothesis and indicate that the two\n",
        "# variables are dependent\n",
        "\n",
        "column3_4 = np.array([ct_3['y'], ct_4['p']]).T\n",
        "print(column3_4)\n",
        "print(chisquare(column3_4, axis=None))"
      ],
      "execution_count": 107,
      "outputs": [
        {
          "output_type": "stream",
          "text": [
            "[[ 45  45]\n",
            " [107 107]]\n",
            "Power_divergenceResult(statistic=50.578947368421055, pvalue=6.014385811714266e-11)\n"
          ],
          "name": "stdout"
        }
      ]
    },
    {
      "metadata": {
        "id": "ZM8JckA2bgnp",
        "colab_type": "text"
      },
      "cell_type": "markdown",
      "source": [
        "## Part 3 - Analysis and Interpretation\n",
        "\n",
        "Now that you've looked at the data, answer the following questions:\n",
        "\n",
        "- Interpret and explain the two t-tests you ran - what do they tell you about the relationships between the continuous features you selected and the class labels?\n",
        "- Interpret and explain the two Chi-squared tests you ran - what do they tell you about the relationships between the categorical features you selected and the class labels?\n",
        "- What was the most challenging part of this sprint challenge?\n",
        "\n",
        "Answer with text, but feel free to intersperse example code/results or refer to it from earlier."
      ]
    },
    {
      "metadata": {
        "id": "-ue5k-u2_9cX",
        "colab_type": "text"
      },
      "cell_type": "markdown",
      "source": [
        "### T-Test\n",
        "1. I believe the feature in column 10 (attribute 11) is some kind of financial ratio and the t-stat indicated that a higher positive value increased the probability of an approval(passed) application for credit. It had the lowest p-value (2.6e-27) suggesting strong statistical significance that the variable was instrumental in application criteria. The feature in column 13 had a negative t-test statistic indicating that a lower value in the variable improved the probability of passing the application. It was statistically significant with a p-value of 0.03 but relatively less confident compared to other variables. Both features indicate significance for rejecting the null hypothesis that approval of credit application was not based on the value of the features. \n",
        "\n",
        "### Chi-Square\n",
        "2. The Chi square test run from column 8 and 9 for true or false questions had a p-value of 6.2e-40 which indicates the feature of answering true on both questions was not independent and therefore rejecting the null hypothesis. Another test was run on column 3 and 4 variables which had a p-value of 6.0e-11 which indicates a statistical significance to reject the null where 'y' and 'g' were selected respectively on the questions.\n",
        "\n",
        "### Challenging part of Sprint\n",
        "3. The most challenging part of the sprint was time management for me. As I work through any problems I run into, it took a longer time to troubleshoot the issue or I had gone down a more inefficient path for the solution. Otherwise the other challenge is inability to use intuition to quickly filter through the process of ranking features to test and compare. Without knowing what exactly the labels could be, it took a little more time to look through descriptive statistics with the describe function and pivot table for the continuous variables. The independence test with Chi-Square for the categorical features was also more difficult to choose for assessment when it is not a simple true/false or option with more common responses. Overall it took longer to break down each feature independently to check for any relationship. \n"
      ]
    },
    {
      "metadata": {
        "id": "LIozLDNG2Uhu",
        "colab_type": "text"
      },
      "cell_type": "markdown",
      "source": [
        "*Your words here!*"
      ]
    }
  ]
}