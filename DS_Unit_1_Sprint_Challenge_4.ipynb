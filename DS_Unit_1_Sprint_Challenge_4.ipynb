{
  "nbformat": 4,
  "nbformat_minor": 0,
  "metadata": {
    "colab": {
      "name": "DS_Unit_1_Sprint_Challenge_4.ipynb",
      "version": "0.3.2",
      "provenance": [],
      "collapsed_sections": []
    },
    "kernelspec": {
      "display_name": "Python 3",
      "language": "python",
      "name": "python3"
    }
  },
  "cells": [
    {
      "metadata": {
        "colab_type": "text",
        "id": "NooAiTdnafkz"
      },
      "cell_type": "markdown",
      "source": [
        "# Data Science Unit 1 Sprint Challenge 4\n",
        "\n",
        "## Exploring Data, Testing Hypotheses\n",
        "\n",
        "In this sprint challenge you will look at a dataset of people being approved or rejected for credit.\n",
        "\n",
        "https://archive.ics.uci.edu/ml/datasets/Credit+Approval\n",
        "\n",
        "Data Set Information: This file concerns credit card applications. All attribute names and values have been changed to meaningless symbols to protect confidentiality of the data. This dataset is interesting because there is a good mix of attributes -- continuous, nominal with small numbers of values, and nominal with larger numbers of values. There are also a few missing values.\n",
        "\n",
        "Attribute Information:\n",
        "- A1: b, a.\n",
        "- A2: continuous.\n",
        "- A3: continuous.\n",
        "- A4: u, y, l, t.\n",
        "- A5: g, p, gg.\n",
        "- A6: c, d, cc, i, j, k, m, r, q, w, x, e, aa, ff.\n",
        "- A7: v, h, bb, j, n, z, dd, ff, o.\n",
        "- A8: continuous.\n",
        "- A9: t, f.\n",
        "- A10: t, f.\n",
        "- A11: continuous.\n",
        "- A12: t, f.\n",
        "- A13: g, p, s.\n",
        "- A14: continuous.\n",
        "- A15: continuous.\n",
        "- A16: +,- (class attribute)\n",
        "\n",
        "Yes, most of that doesn't mean anything. A16 (the class attribute) is the most interesting, as it separates the 307 approved cases from the 383 rejected cases. The remaining variables have been obfuscated for privacy - a challenge you may have to deal with in your data science career.\n",
        "\n",
        "Sprint challenges are evaluated based on satisfactory completion of each part. It is suggested you work through it in order, getting each aspect reasonably working, before trying to deeply explore, iterate, or refine any given step. Once you get to the end, if you want to go back and improve things, go for it!"
      ]
    },
    {
      "metadata": {
        "colab_type": "text",
        "id": "5wch6ksCbJtZ"
      },
      "cell_type": "markdown",
      "source": [
        "## Part 1 - Load and validate the data\n",
        "\n",
        "- Load the data as a `pandas` data frame.\n",
        "- Validate that it has the appropriate number of observations (you can check the raw file, and also read the dataset description from UCI).\n",
        "- UCI says there should be missing data - check, and if necessary change the data so pandas recognizes it as na\n",
        "- Make sure that the loaded features are of the types described above (continuous values should be treated as float), and correct as necessary\n",
        "\n",
        "This is review, but skills that you'll use at the start of any data exploration. Further, you may have to do some investigation to figure out which file to load from - that is part of the puzzle."
      ]
    },
    {
      "metadata": {
        "colab_type": "code",
        "id": "Q79xDLckzibS",
        "colab": {}
      },
      "cell_type": "code",
      "source": [
        "import pandas as pd\n",
        "import numpy as np\n",
        "from scipy import stats\n",
        "import matplotlib.pyplot as plt\n",
        "%matplotlib inline\n",
        "\n",
        "df = pd.read_csv('https://archive.ics.uci.edu/ml/machine-learning-databases/credit-screening/crx.data', na_values='?')"
      ],
      "execution_count": 0,
      "outputs": []
    },
    {
      "metadata": {
        "id": "YMHuFWYrEr9a",
        "colab_type": "code",
        "colab": {},
        "outputId": "8c1c4ee1-8b9b-4660-d7fd-25a131e427f8"
      },
      "cell_type": "code",
      "source": [
        "df.head()"
      ],
      "execution_count": 0,
      "outputs": [
        {
          "output_type": "execute_result",
          "data": {
            "text/html": [
              "<div>\n",
              "<style scoped>\n",
              "    .dataframe tbody tr th:only-of-type {\n",
              "        vertical-align: middle;\n",
              "    }\n",
              "\n",
              "    .dataframe tbody tr th {\n",
              "        vertical-align: top;\n",
              "    }\n",
              "\n",
              "    .dataframe thead th {\n",
              "        text-align: right;\n",
              "    }\n",
              "</style>\n",
              "<table border=\"1\" class=\"dataframe\">\n",
              "  <thead>\n",
              "    <tr style=\"text-align: right;\">\n",
              "      <th></th>\n",
              "      <th>b</th>\n",
              "      <th>30.83</th>\n",
              "      <th>0</th>\n",
              "      <th>u</th>\n",
              "      <th>g</th>\n",
              "      <th>w</th>\n",
              "      <th>v</th>\n",
              "      <th>1.25</th>\n",
              "      <th>t</th>\n",
              "      <th>t.1</th>\n",
              "      <th>01</th>\n",
              "      <th>f</th>\n",
              "      <th>g.1</th>\n",
              "      <th>00202</th>\n",
              "      <th>0.1</th>\n",
              "      <th>+</th>\n",
              "    </tr>\n",
              "  </thead>\n",
              "  <tbody>\n",
              "    <tr>\n",
              "      <th>0</th>\n",
              "      <td>a</td>\n",
              "      <td>58.67</td>\n",
              "      <td>4.460</td>\n",
              "      <td>u</td>\n",
              "      <td>g</td>\n",
              "      <td>q</td>\n",
              "      <td>h</td>\n",
              "      <td>3.04</td>\n",
              "      <td>t</td>\n",
              "      <td>t</td>\n",
              "      <td>6</td>\n",
              "      <td>f</td>\n",
              "      <td>g</td>\n",
              "      <td>43.0</td>\n",
              "      <td>560</td>\n",
              "      <td>+</td>\n",
              "    </tr>\n",
              "    <tr>\n",
              "      <th>1</th>\n",
              "      <td>a</td>\n",
              "      <td>24.50</td>\n",
              "      <td>0.500</td>\n",
              "      <td>u</td>\n",
              "      <td>g</td>\n",
              "      <td>q</td>\n",
              "      <td>h</td>\n",
              "      <td>1.50</td>\n",
              "      <td>t</td>\n",
              "      <td>f</td>\n",
              "      <td>0</td>\n",
              "      <td>f</td>\n",
              "      <td>g</td>\n",
              "      <td>280.0</td>\n",
              "      <td>824</td>\n",
              "      <td>+</td>\n",
              "    </tr>\n",
              "    <tr>\n",
              "      <th>2</th>\n",
              "      <td>b</td>\n",
              "      <td>27.83</td>\n",
              "      <td>1.540</td>\n",
              "      <td>u</td>\n",
              "      <td>g</td>\n",
              "      <td>w</td>\n",
              "      <td>v</td>\n",
              "      <td>3.75</td>\n",
              "      <td>t</td>\n",
              "      <td>t</td>\n",
              "      <td>5</td>\n",
              "      <td>t</td>\n",
              "      <td>g</td>\n",
              "      <td>100.0</td>\n",
              "      <td>3</td>\n",
              "      <td>+</td>\n",
              "    </tr>\n",
              "    <tr>\n",
              "      <th>3</th>\n",
              "      <td>b</td>\n",
              "      <td>20.17</td>\n",
              "      <td>5.625</td>\n",
              "      <td>u</td>\n",
              "      <td>g</td>\n",
              "      <td>w</td>\n",
              "      <td>v</td>\n",
              "      <td>1.71</td>\n",
              "      <td>t</td>\n",
              "      <td>f</td>\n",
              "      <td>0</td>\n",
              "      <td>f</td>\n",
              "      <td>s</td>\n",
              "      <td>120.0</td>\n",
              "      <td>0</td>\n",
              "      <td>+</td>\n",
              "    </tr>\n",
              "    <tr>\n",
              "      <th>4</th>\n",
              "      <td>b</td>\n",
              "      <td>32.08</td>\n",
              "      <td>4.000</td>\n",
              "      <td>u</td>\n",
              "      <td>g</td>\n",
              "      <td>m</td>\n",
              "      <td>v</td>\n",
              "      <td>2.50</td>\n",
              "      <td>t</td>\n",
              "      <td>f</td>\n",
              "      <td>0</td>\n",
              "      <td>t</td>\n",
              "      <td>g</td>\n",
              "      <td>360.0</td>\n",
              "      <td>0</td>\n",
              "      <td>+</td>\n",
              "    </tr>\n",
              "  </tbody>\n",
              "</table>\n",
              "</div>"
            ],
            "text/plain": [
              "   b  30.83      0  u  g  w  v  1.25  t t.1  01  f g.1  00202  0.1  +\n",
              "0  a  58.67  4.460  u  g  q  h  3.04  t   t   6  f   g   43.0  560  +\n",
              "1  a  24.50  0.500  u  g  q  h  1.50  t   f   0  f   g  280.0  824  +\n",
              "2  b  27.83  1.540  u  g  w  v  3.75  t   t   5  t   g  100.0    3  +\n",
              "3  b  20.17  5.625  u  g  w  v  1.71  t   f   0  f   s  120.0    0  +\n",
              "4  b  32.08  4.000  u  g  m  v  2.50  t   f   0  t   g  360.0    0  +"
            ]
          },
          "metadata": {
            "tags": []
          },
          "execution_count": 2
        }
      ]
    },
    {
      "metadata": {
        "id": "ROE0Mm3XEr9l",
        "colab_type": "code",
        "colab": {},
        "outputId": "5df71519-87fd-4e30-8669-27f95c0618b2"
      },
      "cell_type": "code",
      "source": [
        "df.isnull().sum()"
      ],
      "execution_count": 0,
      "outputs": [
        {
          "output_type": "execute_result",
          "data": {
            "text/plain": [
              "b        12\n",
              "30.83    12\n",
              "0         0\n",
              "u         6\n",
              "g         6\n",
              "w         9\n",
              "v         9\n",
              "1.25      0\n",
              "t         0\n",
              "t.1       0\n",
              "01        0\n",
              "f         0\n",
              "g.1       0\n",
              "00202    13\n",
              "0.1       0\n",
              "+         0\n",
              "dtype: int64"
            ]
          },
          "metadata": {
            "tags": []
          },
          "execution_count": 3
        }
      ]
    },
    {
      "metadata": {
        "id": "Uip3vduMEr9r",
        "colab_type": "code",
        "colab": {}
      },
      "cell_type": "code",
      "source": [
        "df = df.dropna()"
      ],
      "execution_count": 0,
      "outputs": []
    },
    {
      "metadata": {
        "id": "KCicLO9QEr-B",
        "colab_type": "code",
        "colab": {},
        "outputId": "472e809a-ac37-42bf-8d46-5108edd08724"
      },
      "cell_type": "code",
      "source": [
        "df.isnull().sum().sum()"
      ],
      "execution_count": 0,
      "outputs": [
        {
          "output_type": "execute_result",
          "data": {
            "text/plain": [
              "0"
            ]
          },
          "metadata": {
            "tags": []
          },
          "execution_count": 5
        }
      ]
    },
    {
      "metadata": {
        "scrolled": true,
        "id": "0yfv3IWvEr-M",
        "colab_type": "code",
        "colab": {},
        "outputId": "c98b4b3d-6fd4-4c79-d063-23d8c47c69bc"
      },
      "cell_type": "code",
      "source": [
        "df.describe()"
      ],
      "execution_count": 0,
      "outputs": [
        {
          "output_type": "execute_result",
          "data": {
            "text/html": [
              "<div>\n",
              "<style scoped>\n",
              "    .dataframe tbody tr th:only-of-type {\n",
              "        vertical-align: middle;\n",
              "    }\n",
              "\n",
              "    .dataframe tbody tr th {\n",
              "        vertical-align: top;\n",
              "    }\n",
              "\n",
              "    .dataframe thead th {\n",
              "        text-align: right;\n",
              "    }\n",
              "</style>\n",
              "<table border=\"1\" class=\"dataframe\">\n",
              "  <thead>\n",
              "    <tr style=\"text-align: right;\">\n",
              "      <th></th>\n",
              "      <th>30.83</th>\n",
              "      <th>0</th>\n",
              "      <th>1.25</th>\n",
              "      <th>01</th>\n",
              "      <th>00202</th>\n",
              "      <th>0.1</th>\n",
              "    </tr>\n",
              "  </thead>\n",
              "  <tbody>\n",
              "    <tr>\n",
              "      <th>count</th>\n",
              "      <td>652.000000</td>\n",
              "      <td>652.000000</td>\n",
              "      <td>652.000000</td>\n",
              "      <td>652.000000</td>\n",
              "      <td>652.000000</td>\n",
              "      <td>652.000000</td>\n",
              "    </tr>\n",
              "    <tr>\n",
              "      <th>mean</th>\n",
              "      <td>31.504847</td>\n",
              "      <td>4.836940</td>\n",
              "      <td>2.245821</td>\n",
              "      <td>2.504601</td>\n",
              "      <td>180.326687</td>\n",
              "      <td>1015.315951</td>\n",
              "    </tr>\n",
              "    <tr>\n",
              "      <th>std</th>\n",
              "      <td>11.847327</td>\n",
              "      <td>5.027369</td>\n",
              "      <td>3.373483</td>\n",
              "      <td>4.971962</td>\n",
              "      <td>168.423883</td>\n",
              "      <td>5257.161359</td>\n",
              "    </tr>\n",
              "    <tr>\n",
              "      <th>min</th>\n",
              "      <td>13.750000</td>\n",
              "      <td>0.000000</td>\n",
              "      <td>0.000000</td>\n",
              "      <td>0.000000</td>\n",
              "      <td>0.000000</td>\n",
              "      <td>0.000000</td>\n",
              "    </tr>\n",
              "    <tr>\n",
              "      <th>25%</th>\n",
              "      <td>22.580000</td>\n",
              "      <td>1.040000</td>\n",
              "      <td>0.165000</td>\n",
              "      <td>0.000000</td>\n",
              "      <td>72.250000</td>\n",
              "      <td>0.000000</td>\n",
              "    </tr>\n",
              "    <tr>\n",
              "      <th>50%</th>\n",
              "      <td>28.375000</td>\n",
              "      <td>2.855000</td>\n",
              "      <td>1.000000</td>\n",
              "      <td>0.000000</td>\n",
              "      <td>160.000000</td>\n",
              "      <td>5.000000</td>\n",
              "    </tr>\n",
              "    <tr>\n",
              "      <th>75%</th>\n",
              "      <td>38.250000</td>\n",
              "      <td>7.500000</td>\n",
              "      <td>2.625000</td>\n",
              "      <td>3.000000</td>\n",
              "      <td>272.000000</td>\n",
              "      <td>400.000000</td>\n",
              "    </tr>\n",
              "    <tr>\n",
              "      <th>max</th>\n",
              "      <td>76.750000</td>\n",
              "      <td>28.000000</td>\n",
              "      <td>28.500000</td>\n",
              "      <td>67.000000</td>\n",
              "      <td>2000.000000</td>\n",
              "      <td>100000.000000</td>\n",
              "    </tr>\n",
              "  </tbody>\n",
              "</table>\n",
              "</div>"
            ],
            "text/plain": [
              "            30.83           0        1.25          01        00202  \\\n",
              "count  652.000000  652.000000  652.000000  652.000000   652.000000   \n",
              "mean    31.504847    4.836940    2.245821    2.504601   180.326687   \n",
              "std     11.847327    5.027369    3.373483    4.971962   168.423883   \n",
              "min     13.750000    0.000000    0.000000    0.000000     0.000000   \n",
              "25%     22.580000    1.040000    0.165000    0.000000    72.250000   \n",
              "50%     28.375000    2.855000    1.000000    0.000000   160.000000   \n",
              "75%     38.250000    7.500000    2.625000    3.000000   272.000000   \n",
              "max     76.750000   28.000000   28.500000   67.000000  2000.000000   \n",
              "\n",
              "                 0.1  \n",
              "count     652.000000  \n",
              "mean     1015.315951  \n",
              "std      5257.161359  \n",
              "min         0.000000  \n",
              "25%         0.000000  \n",
              "50%         5.000000  \n",
              "75%       400.000000  \n",
              "max    100000.000000  "
            ]
          },
          "metadata": {
            "tags": []
          },
          "execution_count": 6
        }
      ]
    },
    {
      "metadata": {
        "id": "RjEKQlUbEr-W",
        "colab_type": "code",
        "colab": {}
      },
      "cell_type": "code",
      "source": [
        "# Replacing values in 'approved' columns\n",
        "# from + to 1 & from - to 0 (approved and not-approved)\n",
        "df = df.rename(columns={'+':'approved'})\n",
        "df = df.replace({'+': 1, '-': 0})"
      ],
      "execution_count": 0,
      "outputs": []
    },
    {
      "metadata": {
        "id": "bYR_jAXPEr-b",
        "colab_type": "code",
        "colab": {},
        "outputId": "597bbe25-9530-442c-9650-a09635e5b69f"
      },
      "cell_type": "code",
      "source": [
        "df.approved.value_counts()"
      ],
      "execution_count": 0,
      "outputs": [
        {
          "output_type": "execute_result",
          "data": {
            "text/plain": [
              "0    357\n",
              "1    295\n",
              "Name: approved, dtype: int64"
            ]
          },
          "metadata": {
            "tags": []
          },
          "execution_count": 8
        }
      ]
    },
    {
      "metadata": {
        "id": "rY30gjd9Er-m",
        "colab_type": "code",
        "colab": {},
        "outputId": "01a5b323-3f93-42f9-963a-6595b7e0982a"
      },
      "cell_type": "code",
      "source": [
        "df.shape"
      ],
      "execution_count": 0,
      "outputs": [
        {
          "output_type": "execute_result",
          "data": {
            "text/plain": [
              "(652, 16)"
            ]
          },
          "metadata": {
            "tags": []
          },
          "execution_count": 11
        }
      ]
    },
    {
      "metadata": {
        "id": "97KgexVLEr-4",
        "colab_type": "code",
        "colab": {},
        "outputId": "47b42a15-4a8b-4666-c04c-87220b846406"
      },
      "cell_type": "code",
      "source": [
        "df.dtypes"
      ],
      "execution_count": 0,
      "outputs": [
        {
          "output_type": "execute_result",
          "data": {
            "text/plain": [
              "b            object\n",
              "30.83       float64\n",
              "0           float64\n",
              "u            object\n",
              "g            object\n",
              "w            object\n",
              "v            object\n",
              "1.25        float64\n",
              "t            object\n",
              "t.1          object\n",
              "01            int64\n",
              "f            object\n",
              "g.1          object\n",
              "00202       float64\n",
              "0.1           int64\n",
              "approved      int64\n",
              "dtype: object"
            ]
          },
          "metadata": {
            "tags": []
          },
          "execution_count": 12
        }
      ]
    },
    {
      "metadata": {
        "id": "3fhV_JOeEr_N",
        "colab_type": "code",
        "colab": {},
        "outputId": "b363a180-ca1a-460c-f079-41580e2817fb"
      },
      "cell_type": "code",
      "source": [
        "df.columns"
      ],
      "execution_count": 0,
      "outputs": [
        {
          "output_type": "execute_result",
          "data": {
            "text/plain": [
              "Index(['b', '30.83', '0', 'u', 'g', 'w', 'v', '1.25', 't', 't.1', '01', 'f',\n",
              "       'g.1', '00202', '0.1', 'approved'],\n",
              "      dtype='object')"
            ]
          },
          "metadata": {
            "tags": []
          },
          "execution_count": 15
        }
      ]
    },
    {
      "metadata": {
        "id": "ncoeEXzPEr_V",
        "colab_type": "code",
        "colab": {}
      },
      "cell_type": "code",
      "source": [
        "df['01'] = df['01'].astype(float)"
      ],
      "execution_count": 0,
      "outputs": []
    },
    {
      "metadata": {
        "id": "lMd_5IdxEr_m",
        "colab_type": "code",
        "colab": {}
      },
      "cell_type": "code",
      "source": [
        "df['0.1'] = df['0.1'].astype(float)"
      ],
      "execution_count": 0,
      "outputs": []
    },
    {
      "metadata": {
        "id": "YqpOkQacEr_s",
        "colab_type": "code",
        "colab": {},
        "outputId": "f95f7169-3302-4fd9-bef8-fb586d3475e3"
      },
      "cell_type": "code",
      "source": [
        "# All continuous values as floats\n",
        "df.dtypes"
      ],
      "execution_count": 0,
      "outputs": [
        {
          "output_type": "execute_result",
          "data": {
            "text/plain": [
              "b            object\n",
              "30.83       float64\n",
              "0           float64\n",
              "u            object\n",
              "g            object\n",
              "w            object\n",
              "v            object\n",
              "1.25        float64\n",
              "t            object\n",
              "t.1          object\n",
              "01          float64\n",
              "f            object\n",
              "g.1          object\n",
              "00202       float64\n",
              "0.1         float64\n",
              "approved      int64\n",
              "dtype: object"
            ]
          },
          "metadata": {
            "tags": []
          },
          "execution_count": 26
        }
      ]
    },
    {
      "metadata": {
        "id": "6X7-BpoBEr_2",
        "colab_type": "code",
        "colab": {},
        "outputId": "266b855f-8c2e-4426-806b-4c9d1a95510d"
      },
      "cell_type": "code",
      "source": [
        "df.head()"
      ],
      "execution_count": 0,
      "outputs": [
        {
          "output_type": "execute_result",
          "data": {
            "text/html": [
              "<div>\n",
              "<style scoped>\n",
              "    .dataframe tbody tr th:only-of-type {\n",
              "        vertical-align: middle;\n",
              "    }\n",
              "\n",
              "    .dataframe tbody tr th {\n",
              "        vertical-align: top;\n",
              "    }\n",
              "\n",
              "    .dataframe thead th {\n",
              "        text-align: right;\n",
              "    }\n",
              "</style>\n",
              "<table border=\"1\" class=\"dataframe\">\n",
              "  <thead>\n",
              "    <tr style=\"text-align: right;\">\n",
              "      <th></th>\n",
              "      <th>b</th>\n",
              "      <th>30.83</th>\n",
              "      <th>0</th>\n",
              "      <th>u</th>\n",
              "      <th>g</th>\n",
              "      <th>w</th>\n",
              "      <th>v</th>\n",
              "      <th>1.25</th>\n",
              "      <th>t</th>\n",
              "      <th>t.1</th>\n",
              "      <th>01</th>\n",
              "      <th>f</th>\n",
              "      <th>g.1</th>\n",
              "      <th>00202</th>\n",
              "      <th>0.1</th>\n",
              "      <th>approved</th>\n",
              "    </tr>\n",
              "  </thead>\n",
              "  <tbody>\n",
              "    <tr>\n",
              "      <th>0</th>\n",
              "      <td>a</td>\n",
              "      <td>58.67</td>\n",
              "      <td>4.460</td>\n",
              "      <td>u</td>\n",
              "      <td>g</td>\n",
              "      <td>q</td>\n",
              "      <td>h</td>\n",
              "      <td>3.04</td>\n",
              "      <td>t</td>\n",
              "      <td>t</td>\n",
              "      <td>6.0</td>\n",
              "      <td>f</td>\n",
              "      <td>g</td>\n",
              "      <td>43.0</td>\n",
              "      <td>560.0</td>\n",
              "      <td>1</td>\n",
              "    </tr>\n",
              "    <tr>\n",
              "      <th>1</th>\n",
              "      <td>a</td>\n",
              "      <td>24.50</td>\n",
              "      <td>0.500</td>\n",
              "      <td>u</td>\n",
              "      <td>g</td>\n",
              "      <td>q</td>\n",
              "      <td>h</td>\n",
              "      <td>1.50</td>\n",
              "      <td>t</td>\n",
              "      <td>f</td>\n",
              "      <td>0.0</td>\n",
              "      <td>f</td>\n",
              "      <td>g</td>\n",
              "      <td>280.0</td>\n",
              "      <td>824.0</td>\n",
              "      <td>1</td>\n",
              "    </tr>\n",
              "    <tr>\n",
              "      <th>2</th>\n",
              "      <td>b</td>\n",
              "      <td>27.83</td>\n",
              "      <td>1.540</td>\n",
              "      <td>u</td>\n",
              "      <td>g</td>\n",
              "      <td>w</td>\n",
              "      <td>v</td>\n",
              "      <td>3.75</td>\n",
              "      <td>t</td>\n",
              "      <td>t</td>\n",
              "      <td>5.0</td>\n",
              "      <td>t</td>\n",
              "      <td>g</td>\n",
              "      <td>100.0</td>\n",
              "      <td>3.0</td>\n",
              "      <td>1</td>\n",
              "    </tr>\n",
              "    <tr>\n",
              "      <th>3</th>\n",
              "      <td>b</td>\n",
              "      <td>20.17</td>\n",
              "      <td>5.625</td>\n",
              "      <td>u</td>\n",
              "      <td>g</td>\n",
              "      <td>w</td>\n",
              "      <td>v</td>\n",
              "      <td>1.71</td>\n",
              "      <td>t</td>\n",
              "      <td>f</td>\n",
              "      <td>0.0</td>\n",
              "      <td>f</td>\n",
              "      <td>s</td>\n",
              "      <td>120.0</td>\n",
              "      <td>0.0</td>\n",
              "      <td>1</td>\n",
              "    </tr>\n",
              "    <tr>\n",
              "      <th>4</th>\n",
              "      <td>b</td>\n",
              "      <td>32.08</td>\n",
              "      <td>4.000</td>\n",
              "      <td>u</td>\n",
              "      <td>g</td>\n",
              "      <td>m</td>\n",
              "      <td>v</td>\n",
              "      <td>2.50</td>\n",
              "      <td>t</td>\n",
              "      <td>f</td>\n",
              "      <td>0.0</td>\n",
              "      <td>t</td>\n",
              "      <td>g</td>\n",
              "      <td>360.0</td>\n",
              "      <td>0.0</td>\n",
              "      <td>1</td>\n",
              "    </tr>\n",
              "  </tbody>\n",
              "</table>\n",
              "</div>"
            ],
            "text/plain": [
              "   b  30.83      0  u  g  w  v  1.25  t t.1   01  f g.1  00202    0.1  \\\n",
              "0  a  58.67  4.460  u  g  q  h  3.04  t   t  6.0  f   g   43.0  560.0   \n",
              "1  a  24.50  0.500  u  g  q  h  1.50  t   f  0.0  f   g  280.0  824.0   \n",
              "2  b  27.83  1.540  u  g  w  v  3.75  t   t  5.0  t   g  100.0    3.0   \n",
              "3  b  20.17  5.625  u  g  w  v  1.71  t   f  0.0  f   s  120.0    0.0   \n",
              "4  b  32.08  4.000  u  g  m  v  2.50  t   f  0.0  t   g  360.0    0.0   \n",
              "\n",
              "   approved  \n",
              "0         1  \n",
              "1         1  \n",
              "2         1  \n",
              "3         1  \n",
              "4         1  "
            ]
          },
          "metadata": {
            "tags": []
          },
          "execution_count": 29
        }
      ]
    },
    {
      "metadata": {
        "colab_type": "text",
        "id": "G7rLytbrO38L"
      },
      "cell_type": "markdown",
      "source": [
        "## Part 2 - Exploring data, Testing hypotheses\n",
        "\n",
        "The only thing we really know about this data is that A16 is the class label. Besides that, we have 6 continuous (float) features and 9 categorical features.\n",
        "\n",
        "Explore the data: you can use whatever approach (tables, utility functions, visualizations) to get an impression of the distributions and relationships of the variables. In general, your goal is to understand how the features are different when grouped by the two class labels (`+` and `-`).\n",
        "\n",
        "For the 6 continuous features, how are they different when split between the two class labels? Choose two features to run t-tests (again split by class label) - specifically, select one feature that is *extremely* different between the classes, and another feature that is notably less different (though perhaps still \"statistically significantly\" different). You may have to explore more than two features to do this.\n",
        "\n",
        "For the categorical features, explore by creating \"cross tabs\" between them and the class label, and apply the Chi-squared test to them. There are 9 categorical features - as with the t-test, try to find one where the Chi-squared test returns an extreme result (rejecting the null that the data are independent), and one where it is less extreme.\n",
        "\n",
        "**NOTE** - \"less extreme\" just means smaller test statistic/larger p-value. Even the least extreme differences may be strongly statistically significant.\n",
        "\n",
        "Your *main* goal is the hypothesis tests, so don't spend too much time on the exploration/visualization piece. That is just a means to an end. This is challenging, so manage your time and aim for a baseline of at least running two t-tests and two Chi-squared tests before polishing. And don't forget to answer the questions in part 3, even if your results in this part aren't what you want them to be."
      ]
    },
    {
      "metadata": {
        "id": "VxziUqntEr_-",
        "colab_type": "text"
      },
      "cell_type": "markdown",
      "source": [
        "### Exploring Continuous Features"
      ]
    },
    {
      "metadata": {
        "id": "eUme2rjwEr__",
        "colab_type": "text"
      },
      "cell_type": "markdown",
      "source": [
        "#### Approved"
      ]
    },
    {
      "metadata": {
        "colab_type": "code",
        "id": "_nqcgc0yzm68",
        "colab": {}
      },
      "cell_type": "code",
      "source": [
        "# DataFrame of Approved - Continuous Features\n",
        "cont_app = df[df.approved == 1].select_dtypes(include=['float64'])"
      ],
      "execution_count": 0,
      "outputs": []
    },
    {
      "metadata": {
        "id": "btrBtUatEsAE",
        "colab_type": "code",
        "colab": {},
        "outputId": "80b902c3-08d9-4265-ca00-4a25ef89db5c"
      },
      "cell_type": "code",
      "source": [
        "cont_app.shape"
      ],
      "execution_count": 0,
      "outputs": [
        {
          "output_type": "execute_result",
          "data": {
            "text/plain": [
              "(295, 6)"
            ]
          },
          "metadata": {
            "tags": []
          },
          "execution_count": 35
        }
      ]
    },
    {
      "metadata": {
        "id": "ZI9WcF6xEsAN",
        "colab_type": "code",
        "colab": {},
        "outputId": "b7e9f929-0ecd-4238-861f-694d01925a03"
      },
      "cell_type": "code",
      "source": [
        "cont_app.head()"
      ],
      "execution_count": 0,
      "outputs": [
        {
          "output_type": "execute_result",
          "data": {
            "text/html": [
              "<div>\n",
              "<style scoped>\n",
              "    .dataframe tbody tr th:only-of-type {\n",
              "        vertical-align: middle;\n",
              "    }\n",
              "\n",
              "    .dataframe tbody tr th {\n",
              "        vertical-align: top;\n",
              "    }\n",
              "\n",
              "    .dataframe thead th {\n",
              "        text-align: right;\n",
              "    }\n",
              "</style>\n",
              "<table border=\"1\" class=\"dataframe\">\n",
              "  <thead>\n",
              "    <tr style=\"text-align: right;\">\n",
              "      <th></th>\n",
              "      <th>30.83</th>\n",
              "      <th>0</th>\n",
              "      <th>1.25</th>\n",
              "      <th>01</th>\n",
              "      <th>00202</th>\n",
              "      <th>0.1</th>\n",
              "    </tr>\n",
              "  </thead>\n",
              "  <tbody>\n",
              "    <tr>\n",
              "      <th>0</th>\n",
              "      <td>58.67</td>\n",
              "      <td>4.460</td>\n",
              "      <td>3.04</td>\n",
              "      <td>6.0</td>\n",
              "      <td>43.0</td>\n",
              "      <td>560.0</td>\n",
              "    </tr>\n",
              "    <tr>\n",
              "      <th>1</th>\n",
              "      <td>24.50</td>\n",
              "      <td>0.500</td>\n",
              "      <td>1.50</td>\n",
              "      <td>0.0</td>\n",
              "      <td>280.0</td>\n",
              "      <td>824.0</td>\n",
              "    </tr>\n",
              "    <tr>\n",
              "      <th>2</th>\n",
              "      <td>27.83</td>\n",
              "      <td>1.540</td>\n",
              "      <td>3.75</td>\n",
              "      <td>5.0</td>\n",
              "      <td>100.0</td>\n",
              "      <td>3.0</td>\n",
              "    </tr>\n",
              "    <tr>\n",
              "      <th>3</th>\n",
              "      <td>20.17</td>\n",
              "      <td>5.625</td>\n",
              "      <td>1.71</td>\n",
              "      <td>0.0</td>\n",
              "      <td>120.0</td>\n",
              "      <td>0.0</td>\n",
              "    </tr>\n",
              "    <tr>\n",
              "      <th>4</th>\n",
              "      <td>32.08</td>\n",
              "      <td>4.000</td>\n",
              "      <td>2.50</td>\n",
              "      <td>0.0</td>\n",
              "      <td>360.0</td>\n",
              "      <td>0.0</td>\n",
              "    </tr>\n",
              "  </tbody>\n",
              "</table>\n",
              "</div>"
            ],
            "text/plain": [
              "   30.83      0  1.25   01  00202    0.1\n",
              "0  58.67  4.460  3.04  6.0   43.0  560.0\n",
              "1  24.50  0.500  1.50  0.0  280.0  824.0\n",
              "2  27.83  1.540  3.75  5.0  100.0    3.0\n",
              "3  20.17  5.625  1.71  0.0  120.0    0.0\n",
              "4  32.08  4.000  2.50  0.0  360.0    0.0"
            ]
          },
          "metadata": {
            "tags": []
          },
          "execution_count": 38
        }
      ]
    },
    {
      "metadata": {
        "id": "h_d47EmJEsAU",
        "colab_type": "text"
      },
      "cell_type": "markdown",
      "source": [
        "#### Not Approved"
      ]
    },
    {
      "metadata": {
        "id": "Oy5LPAw8EsAW",
        "colab_type": "code",
        "colab": {}
      },
      "cell_type": "code",
      "source": [
        "# DataFrame of NOT Approved - Continuous Features\n",
        "cont_notapp = df[df.approved == 0].select_dtypes(include=['float64'])"
      ],
      "execution_count": 0,
      "outputs": []
    },
    {
      "metadata": {
        "id": "GNxJ1drJEsAa",
        "colab_type": "code",
        "colab": {},
        "outputId": "a443556a-f368-4765-a7f0-0b0382be85ad"
      },
      "cell_type": "code",
      "source": [
        "cont_notapp.shape"
      ],
      "execution_count": 0,
      "outputs": [
        {
          "output_type": "execute_result",
          "data": {
            "text/plain": [
              "(357, 6)"
            ]
          },
          "metadata": {
            "tags": []
          },
          "execution_count": 37
        }
      ]
    },
    {
      "metadata": {
        "id": "BF0o5P_5EsAg",
        "colab_type": "code",
        "colab": {},
        "outputId": "abe403c0-641b-4003-b542-7679786e88ae"
      },
      "cell_type": "code",
      "source": [
        "cont_notapp.head()"
      ],
      "execution_count": 0,
      "outputs": [
        {
          "output_type": "execute_result",
          "data": {
            "text/html": [
              "<div>\n",
              "<style scoped>\n",
              "    .dataframe tbody tr th:only-of-type {\n",
              "        vertical-align: middle;\n",
              "    }\n",
              "\n",
              "    .dataframe tbody tr th {\n",
              "        vertical-align: top;\n",
              "    }\n",
              "\n",
              "    .dataframe thead th {\n",
              "        text-align: right;\n",
              "    }\n",
              "</style>\n",
              "<table border=\"1\" class=\"dataframe\">\n",
              "  <thead>\n",
              "    <tr style=\"text-align: right;\">\n",
              "      <th></th>\n",
              "      <th>30.83</th>\n",
              "      <th>0</th>\n",
              "      <th>1.25</th>\n",
              "      <th>01</th>\n",
              "      <th>00202</th>\n",
              "      <th>0.1</th>\n",
              "    </tr>\n",
              "  </thead>\n",
              "  <tbody>\n",
              "    <tr>\n",
              "      <th>69</th>\n",
              "      <td>32.33</td>\n",
              "      <td>7.50</td>\n",
              "      <td>1.585</td>\n",
              "      <td>0.0</td>\n",
              "      <td>420.0</td>\n",
              "      <td>0.0</td>\n",
              "    </tr>\n",
              "    <tr>\n",
              "      <th>71</th>\n",
              "      <td>38.58</td>\n",
              "      <td>5.00</td>\n",
              "      <td>13.500</td>\n",
              "      <td>0.0</td>\n",
              "      <td>980.0</td>\n",
              "      <td>0.0</td>\n",
              "    </tr>\n",
              "    <tr>\n",
              "      <th>72</th>\n",
              "      <td>44.25</td>\n",
              "      <td>0.50</td>\n",
              "      <td>10.750</td>\n",
              "      <td>0.0</td>\n",
              "      <td>400.0</td>\n",
              "      <td>0.0</td>\n",
              "    </tr>\n",
              "    <tr>\n",
              "      <th>73</th>\n",
              "      <td>44.83</td>\n",
              "      <td>7.00</td>\n",
              "      <td>1.625</td>\n",
              "      <td>0.0</td>\n",
              "      <td>160.0</td>\n",
              "      <td>2.0</td>\n",
              "    </tr>\n",
              "    <tr>\n",
              "      <th>74</th>\n",
              "      <td>20.67</td>\n",
              "      <td>5.29</td>\n",
              "      <td>0.375</td>\n",
              "      <td>1.0</td>\n",
              "      <td>160.0</td>\n",
              "      <td>0.0</td>\n",
              "    </tr>\n",
              "  </tbody>\n",
              "</table>\n",
              "</div>"
            ],
            "text/plain": [
              "    30.83     0    1.25   01  00202  0.1\n",
              "69  32.33  7.50   1.585  0.0  420.0  0.0\n",
              "71  38.58  5.00  13.500  0.0  980.0  0.0\n",
              "72  44.25  0.50  10.750  0.0  400.0  0.0\n",
              "73  44.83  7.00   1.625  0.0  160.0  2.0\n",
              "74  20.67  5.29   0.375  1.0  160.0  0.0"
            ]
          },
          "metadata": {
            "tags": []
          },
          "execution_count": 39
        }
      ]
    },
    {
      "metadata": {
        "id": "Wu22Lq91EsAv",
        "colab_type": "text"
      },
      "cell_type": "markdown",
      "source": [
        "#### Two-sample T-test"
      ]
    },
    {
      "metadata": {
        "id": "kBW2P_pHEsAx",
        "colab_type": "code",
        "colab": {},
        "outputId": "cf9fb1e4-1d1c-4864-a5e1-5b8a2fd22c49"
      },
      "cell_type": "code",
      "source": [
        "stats.ttest_ind(cont_app['30.83'], cont_notapp['30.83'])"
      ],
      "execution_count": 0,
      "outputs": [
        {
          "output_type": "execute_result",
          "data": {
            "text/plain": [
              "Ttest_indResult(statistic=4.679127797644734, pvalue=3.5069404140554282e-06)"
            ]
          },
          "metadata": {
            "tags": []
          },
          "execution_count": 48
        }
      ]
    },
    {
      "metadata": {
        "id": "36E2VmswEsA2",
        "colab_type": "code",
        "colab": {},
        "outputId": "23a84db5-8b72-48c2-ca1c-3150485f045c"
      },
      "cell_type": "code",
      "source": [
        "# Greatest statistical difference: Feature '01' (T-statistic of 11.36)\n",
        "# Lowest statistical difference: Feature '00202' (T-statistic of -2.18 & pvalue closest to 0.05)\n",
        "cols = cont_app.columns\n",
        "for col in cols:\n",
        "    stat, pvalue = stats.ttest_ind(cont_app[col], cont_notapp[col])\n",
        "    print(col, '--->', stat, '     ', pvalue)"
      ],
      "execution_count": 0,
      "outputs": [
        {
          "output_type": "stream",
          "text": [
            "30.83 ---> 4.679127797644734       3.5069404140554282e-06\n",
            "0 ---> 5.450090587799932       7.154104218580255e-08\n",
            "1.25 ---> 9.020662467924037       2.0835108311601946e-18\n",
            "01 ---> 11.358835276384589       2.1156266716722337e-27\n",
            "00202 ---> -2.1881972892346777       0.029010481356813344\n",
            "0.1 ---> 4.485021540265138       8.619679105602507e-06\n"
          ],
          "name": "stdout"
        }
      ]
    },
    {
      "metadata": {
        "id": "rPkGm_OqEsBD",
        "colab_type": "text"
      },
      "cell_type": "markdown",
      "source": [
        "### Exploring Categorical Features"
      ]
    },
    {
      "metadata": {
        "id": "4onnvJJrEsBN",
        "colab_type": "text"
      },
      "cell_type": "markdown",
      "source": [
        "#### Chi-square Test Using Crosstab Table"
      ]
    },
    {
      "metadata": {
        "id": "OhoFlVAuEsBP",
        "colab_type": "code",
        "colab": {},
        "outputId": "fa5fc42c-45e0-4730-f2b3-597c980a95e3"
      },
      "cell_type": "code",
      "source": [
        "categories = ['b', 'u', 'g', 'w', 'v', 't', 't.1', 'f', 'g.1']\n",
        "for category in categories:\n",
        "    ct = pd.crosstab(df.approved, df[category])\n",
        "    chi = stats.chi2_contingency(ct)\n",
        "    print(ct)\n",
        "    print('\\n', '--->', chi, '\\n')"
      ],
      "execution_count": 0,
      "outputs": [
        {
          "output_type": "stream",
          "text": [
            "b           a    b\n",
            "approved          \n",
            "0         108  249\n",
            "1          95  200\n",
            "\n",
            " ---> (0.20305092453739787, 0.652269416331663, 1, array([[111.15184049, 245.84815951],\n",
            "       [ 91.84815951, 203.15184049]])) \n",
            "\n",
            "u         l    u    y\n",
            "approved             \n",
            "0         0  250  107\n",
            "1         2  248   45\n",
            "\n",
            " ---> (21.597091845920502, 2.042918743690437e-05, 2, array([[  1.09509202, 272.67791411,  83.22699387],\n",
            "       [  0.90490798, 225.32208589,  68.77300613]])) \n",
            "\n",
            "g           g  gg    p\n",
            "approved              \n",
            "0         250   0  107\n",
            "1         248   2   45\n",
            "\n",
            " ---> (21.597091845920502, 2.042918743690437e-05, 2, array([[272.67791411,   1.09509202,  83.22699387],\n",
            "       [225.32208589,   0.90490798,  68.77300613]])) \n",
            "\n",
            "w         aa   c  cc   d   e  ff   i  j   k   m   q  r   w   x\n",
            "approved                                                      \n",
            "0         33  73  11  19  10  43  41  7  35  22  26  1  30   6\n",
            "1         19  60  29   7  14   7  14  3  13  16  49  2  32  30\n",
            "\n",
            " ---> (89.51520073703931, 1.7300042679424155e-13, 13, array([[28.47239264, 72.82361963, 21.90184049, 14.23619632, 13.14110429,\n",
            "        27.37730061, 30.11503067,  5.47546012, 26.28220859, 20.80674847,\n",
            "        41.06595092,  1.64263804, 33.94785276, 19.71165644],\n",
            "       [23.52760736, 60.17638037, 18.09815951, 11.76380368, 10.85889571,\n",
            "        22.62269939, 24.88496933,  4.52453988, 21.71779141, 17.19325153,\n",
            "        33.93404908,  1.35736196, 28.05214724, 16.28834356]])) \n",
            "\n",
            "v         bb  dd  ff   h  j  n  o    v  z\n",
            "approved                                 \n",
            "0         29   4  46  50  5  2  1  218  2\n",
            "1         24   2   8  87  3  2  1  162  6\n",
            "\n",
            " ---> (43.11863224390456, 8.343769233910954e-07, 8, array([[ 29.01993865,   3.28527607,  29.56748466,  75.01380368,\n",
            "          4.3803681 ,   2.19018405,   1.09509202, 208.06748466,\n",
            "          4.3803681 ],\n",
            "       [ 23.98006135,   2.71472393,  24.43251534,  61.98619632,\n",
            "          3.6196319 ,   1.80981595,   0.90490798, 171.93251534,\n",
            "          3.6196319 ]])) \n",
            "\n",
            "t           f    t\n",
            "approved          \n",
            "0         286   71\n",
            "1          18  277\n",
            "\n",
            " ---> (352.55707311706453, 1.175726788923882e-78, 1, array([[166.45398773, 190.54601227],\n",
            "       [137.54601227, 157.45398773]])) \n",
            "\n",
            "t.1         f    t\n",
            "approved          \n",
            "0         273   84\n",
            "1          93  202\n",
            "\n",
            " ---> (130.69344123379392, 2.88955707587557e-30, 1, array([[200.40184049, 156.59815951],\n",
            "       [165.59815951, 129.40184049]])) \n",
            "\n",
            "f           f    t\n",
            "approved          \n",
            "0         200  157\n",
            "1         150  145\n",
            "\n",
            " ---> (1.5378026978666608, 0.21494516571569477, 1, array([[191.64110429, 165.35889571],\n",
            "       [158.35889571, 136.64110429]])) \n",
            "\n",
            "g.1         g  p   s\n",
            "approved            \n",
            "0         318  1  38\n",
            "1         279  1  15\n",
            "\n",
            " ---> (6.6936929197148025, 0.03519516865711915, 2, array([[326.88496933,   1.09509202,  29.01993865],\n",
            "       [270.11503067,   0.90490798,  23.98006135]])) \n",
            "\n"
          ],
          "name": "stdout"
        }
      ]
    },
    {
      "metadata": {
        "colab_type": "text",
        "id": "ZM8JckA2bgnp"
      },
      "cell_type": "markdown",
      "source": [
        "## Part 3 - Analysis and Interpretation\n",
        "\n",
        "Now that you've looked at the data, answer the following questions:\n",
        "\n",
        "- Interpret and explain the two t-tests you ran - what do they tell you about the relationships between the continuous features you selected and the class labels?\n",
        "- Interpret and explain the two Chi-squared tests you ran - what do they tell you about the relationships between the categorical features you selected and the class labels?\n",
        "- What was the most challenging part of this sprint challenge?\n",
        "\n",
        "Answer with text, but feel free to intersperse example code/results or refer to it from earlier."
      ]
    },
    {
      "metadata": {
        "colab_type": "text",
        "id": "LIozLDNG2Uhu"
      },
      "cell_type": "markdown",
      "source": [
        "*Your words here!*"
      ]
    },
    {
      "metadata": {
        "id": "AaWZmEk4EsBX",
        "colab_type": "text"
      },
      "cell_type": "markdown",
      "source": [
        "### T-tests\n",
        "\n",
        "Performed two-sample t-test on each continuous feature comparing the means of _approved_ and _not approved_. __There seems to be _statistical difference_ in all the compared features__.\n",
        "\n",
        "Greatest statistical difference is seen in _feature '01'_. With t-statistic of 11.358835276384589 & pvalue of 2.1156266716722337e-27.\n",
        "\n",
        "Lowest statistical difference is seen in _feature '00202'_. With t-statistic of -2.18 & pvalue closest to 0.05."
      ]
    },
    {
      "metadata": {
        "id": "G29uRGp4E__7",
        "colab_type": "text"
      },
      "cell_type": "markdown",
      "source": [
        "### Chi-square tests\n",
        "Performed Chi-square test of independence of variables based on crosstab table for each categorical feature based on approval. __There seems to be _statistical correlation (dependance)_ in MOST compared features__.\n",
        "\n",
        "Features _b_, _f_, seem to show correlation between those approved and not approved. Both have pvalues.\n",
        "\n",
        "After all, the questions, are these observations _practically relevant_. It would take knowing what each feature means in this case."
      ]
    },
    {
      "metadata": {
        "id": "xJIoMSvHFDLi",
        "colab_type": "text"
      },
      "cell_type": "markdown",
      "source": [
        "### Most Challenging part\n",
        "Know _how_ to apply the chi-square test seemed most difficult part of the challenge. I'm not completely sure if I have applied it correctly to each feature."
      ]
    },
    {
      "metadata": {
        "id": "G2DXAL-AE-P-",
        "colab_type": "code",
        "colab": {}
      },
      "cell_type": "code",
      "source": [
        ""
      ],
      "execution_count": 0,
      "outputs": []
    }
  ]
}