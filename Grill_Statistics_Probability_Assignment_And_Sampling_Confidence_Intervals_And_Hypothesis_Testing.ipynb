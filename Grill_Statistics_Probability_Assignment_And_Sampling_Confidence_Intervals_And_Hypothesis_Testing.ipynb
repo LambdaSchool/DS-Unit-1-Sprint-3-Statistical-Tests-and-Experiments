{
  "nbformat": 4,
  "nbformat_minor": 0,
  "metadata": {
    "kernelspec": {
      "display_name": "Python 3",
      "language": "python",
      "name": "python3"
    },
    "language_info": {
      "codemirror_mode": {
        "name": "ipython",
        "version": 3
      },
      "file_extension": ".py",
      "mimetype": "text/x-python",
      "name": "python",
      "nbconvert_exporter": "python",
      "pygments_lexer": "ipython3",
      "version": "3.7.3"
    },
    "colab": {
      "name": "Grill_Statistics_Probability_Assignment_And_Sampling_Confidence_Intervals_And_Hypothesis_Testing.ipynb",
      "version": "0.3.2",
      "provenance": [],
      "collapsed_sections": [],
      "include_colab_link": true
    }
  },
  "cells": [
    {
      "cell_type": "markdown",
      "metadata": {
        "id": "view-in-github",
        "colab_type": "text"
      },
      "source": [
        "<a href=\"https://colab.research.google.com/github/serinamarie/DS-Unit-1-Sprint-3-Statistical-Tests-and-Experiments/blob/master/Grill_Statistics_Probability_Assignment_And_Sampling_Confidence_Intervals_And_Hypothesis_Testing.ipynb\" target=\"_parent\"><img src=\"https://colab.research.google.com/assets/colab-badge.svg\" alt=\"Open In Colab\"/></a>"
      ]
    },
    {
      "cell_type": "markdown",
      "metadata": {
        "id": "PEjBjX_Nm12r",
        "colab_type": "text"
      },
      "source": [
        "<img align=\"left\" src=\"https://lever-client-logos.s3.amazonaws.com/864372b1-534c-480e-acd5-9711f850815c-1524247202159.png\" width=200>\n",
        "<br></br>\n",
        "<br></br>\n",
        "\n",
        "## *Data Science Unit 1 Sprint 3 Assignment 1*\n",
        "\n",
        "# Apply the t-test to real data\n",
        "\n",
        "Your assignment is to determine which issues have \"statistically significant\" differences between political parties in this [1980s congressional voting data](https://archive.ics.uci.edu/ml/datasets/Congressional+Voting+Records). The data consists of 435 instances (one for each congressperson), a class (democrat or republican), and 16 binary attributes (yes or no for voting for or against certain issues). Be aware - there are missing values!\n",
        "\n",
        "Your goals:\n",
        "\n",
        "1. Load and clean the data (or determine the best method to drop observations when running tests)\n",
        "2. Using hypothesis testing, find an issue that democrats support more than republicans with p < 0.01\n",
        "3. Using hypothesis testing, find an issue that republicans support more than democrats with p < 0.01\n",
        "4. Using hypothesis testing, find an issue where the difference between republicans and democrats has p > 0.1 (i.e. there may not be much of a difference)\n",
        "\n",
        "Note that this data will involve *2 sample* t-tests, because you're comparing averages across two groups (republicans and democrats) rather than a single group against a null hypothesis.\n",
        "\n",
        "Stretch goals:\n",
        "\n",
        "1. Refactor your code into functions so it's easy to rerun with arbitrary variables\n",
        "2. Apply hypothesis testing to your personal project data (for the purposes of this notebook you can type a summary of the hypothesis you formed and tested)"
      ]
    },
    {
      "cell_type": "code",
      "metadata": {
        "id": "QyxbrdHzm12u",
        "colab_type": "code",
        "colab": {}
      },
      "source": [
        "import pandas as pd\n",
        "from scipy.stats import ttest_ind, ttest_ind_from_stats, ttest_rel"
      ],
      "execution_count": 0,
      "outputs": []
    },
    {
      "cell_type": "code",
      "metadata": {
        "id": "1YAxj6uJl3V5",
        "colab_type": "code",
        "colab": {}
      },
      "source": [
        "#Rename columns\n",
        "cols = ['party', 'handicapped_infants', \n",
        "'water_project_cost_sharing',\n",
        "'adoption_of_budget_resolution',\n",
        "'physician_fee_freeze' ,\n",
        "'el_salvador_aid',\n",
        "'religious_groups_in_schools',\n",
        "'anti_satellite_test_ban',\n",
        "'aid_to_nicaraguan_contras',\n",
        "'mx_missile',\n",
        "'immigration',\n",
        "'synfuels_corporation_cutback',\n",
        "'education_spending',\n",
        "'superfund_right_to_sue',\n",
        "'crime',\n",
        "'duty_free_exports',\n",
        "'export_administration_act_south_africa']"
      ],
      "execution_count": 0,
      "outputs": []
    },
    {
      "cell_type": "code",
      "metadata": {
        "id": "MLr-vILZlLyo",
        "colab_type": "code",
        "outputId": "c2e17207-af7a-4905-ee40-74af4ed1c962",
        "colab": {
          "base_uri": "https://localhost:8080/",
          "height": 170
        }
      },
      "source": [
        "#Import data\n",
        "df = pd.read_csv('house-votes-84.data', names= cols)\n",
        "print(df.head())\n",
        "df.shape"
      ],
      "execution_count": 0,
      "outputs": [
        {
          "output_type": "stream",
          "text": [
            "        party  ... export_administration_act_south_africa\n",
            "0  republican  ...                                      y\n",
            "1  republican  ...                                      ?\n",
            "2    democrat  ...                                      n\n",
            "3    democrat  ...                                      y\n",
            "4    democrat  ...                                      y\n",
            "\n",
            "[5 rows x 17 columns]\n"
          ],
          "name": "stdout"
        },
        {
          "output_type": "execute_result",
          "data": {
            "text/plain": [
              "(435, 17)"
            ]
          },
          "metadata": {
            "tags": []
          },
          "execution_count": 5
        }
      ]
    },
    {
      "cell_type": "code",
      "metadata": {
        "id": "eYFrPMFbuxlL",
        "colab_type": "code",
        "colab": {}
      },
      "source": [
        "#DROP columns with all (or nearly all) null values\n",
        "df = df.drop([183,248])\n"
      ],
      "execution_count": 0,
      "outputs": []
    },
    {
      "cell_type": "code",
      "metadata": {
        "id": "GVD-ZTfhxxel",
        "colab_type": "code",
        "colab": {}
      },
      "source": [
        "#Replace n/y/? with 0, 1, or 0.5\n",
        "df['crime'] = df['crime'].str.replace('y','1').str.replace('n','0',).str.replace('?','0.5').astype(float)\n",
        "df['mx_missile'] = df['mx_missile'].str.replace('y','1').str.replace('n','0',).str.replace('?','0.5').astype(float)\n",
        "df['physician_fee_freeze'] = df['physician_fee_freeze'].str.replace('y','1').str.replace('n','0',).str.replace('?','0.5').astype(float)\n",
        "df['immigration'] = df['immigration'].str.replace('y','1').str.replace('n','0',).str.replace('?','0.5').astype(float)\n"
      ],
      "execution_count": 0,
      "outputs": []
    },
    {
      "cell_type": "code",
      "metadata": {
        "id": "GRq_O5QJycS2",
        "colab_type": "code",
        "colab": {}
      },
      "source": [
        "#Separate the data based on party\n",
        "republican = df[df['party'] == 'republican']\n",
        "democrat = df[df['party'] == 'democrat']"
      ],
      "execution_count": 0,
      "outputs": []
    },
    {
      "cell_type": "code",
      "metadata": {
        "id": "T4otiihOzVoT",
        "colab_type": "code",
        "colab": {}
      },
      "source": [
        "#Look at each party's voting on specific issues \n",
        "rep_on_crime = republican['crime']\n",
        "dem_on_crime = democrat['crime']\n",
        "rep_on_mx = republican['mx_missile']\n",
        "dem_on_mx = democrat['mx_missile']\n",
        "rep_on_fee = republican['physician_fee_freeze']\n",
        "dem_on_fee = democrat['physician_fee_freeze']\n",
        "rep_on_imm = republican['immigration']\n",
        "dem_on_imm = democrat['immigration']"
      ],
      "execution_count": 0,
      "outputs": []
    },
    {
      "cell_type": "code",
      "metadata": {
        "id": "lDrB0DClqis3",
        "colab_type": "code",
        "outputId": "2e679a67-e27a-475f-8821-db41ed4fc5d9",
        "colab": {
          "base_uri": "https://localhost:8080/",
          "height": 51
        }
      },
      "source": [
        "#Tests for independence\n",
        "tstat, pvalue = ttest_ind(dem_on_mx, rep_on_mx,equal_var=False)\n",
        "print(tstat)\n",
        "print(pvalue)"
      ],
      "execution_count": 0,
      "outputs": [
        {
          "output_type": "stream",
          "text": [
            "17.314211371741084\n",
            "6.346304242762773e-51\n"
          ],
          "name": "stdout"
        }
      ]
    },
    {
      "cell_type": "code",
      "metadata": {
        "id": "w4Fc5TqtG-b4",
        "colab_type": "code",
        "outputId": "b57d9daf-9301-45d5-9846-b8e7d5136774",
        "colab": {
          "base_uri": "https://localhost:8080/",
          "height": 51
        }
      },
      "source": [
        "tstat, pvalue = ttest_ind(rep_on_imm, dem_on_imm)\n",
        "print(tstat)\n",
        "print(pvalue)"
      ],
      "execution_count": 0,
      "outputs": [
        {
          "output_type": "stream",
          "text": [
            "1.7356788302177497\n",
            "0.08333534129952935\n"
          ],
          "name": "stdout"
        }
      ]
    },
    {
      "cell_type": "code",
      "metadata": {
        "id": "D-6iU4rd1Ryx",
        "colab_type": "code",
        "outputId": "8509a66c-4bf4-4c53-9481-2561844048e8",
        "colab": {
          "base_uri": "https://localhost:8080/",
          "height": 51
        }
      },
      "source": [
        "tstat, pvalue = ttest_ind(rep_on_fee, dem_on_fee,)\n",
        "print(tstat)\n",
        "print(pvalue)"
      ],
      "execution_count": 0,
      "outputs": [
        {
          "output_type": "stream",
          "text": [
            "46.66703352340275\n",
            "1.2879342225217048e-170\n"
          ],
          "name": "stdout"
        }
      ]
    },
    {
      "cell_type": "code",
      "metadata": {
        "id": "-BQlCNJs0Grq",
        "colab_type": "code",
        "outputId": "b3dc78d2-60e1-4d3d-81c2-380065b61753",
        "colab": {
          "base_uri": "https://localhost:8080/",
          "height": 351
        }
      },
      "source": [
        "#Visualise voting on mx_missile\n",
        "import seaborn as sns\n",
        "import matplotlib.pyplot as plt\n",
        "plt.figure(figsize=(10,5))\n",
        "sns.distplot(rep_on_mx, color='r', label='Republican').set_title(\"Distribution of Votes on MX Missle\")\n",
        "sns.distplot(dem_on_mx, color='b', label=\"Democrat\")\n",
        "plt.xticks([0,1])\n",
        "plt.text(x=-0.1, y=12, s='Voted No')\n",
        "plt.text(x=0.65, y=6, s='Voted Yes')\n",
        "plt.legend();\n"
      ],
      "execution_count": 0,
      "outputs": [
        {
          "output_type": "display_data",
          "data": {
            "image/png": "[encoded data removed]",
            "text/plain": [
              "<Figure size 720x360 with 1 Axes>"
            ]
          },
          "metadata": {
            "tags": []
          }
        }
      ]
    },
    {
      "cell_type": "code",
      "metadata": {
        "id": "I6qffHXY2JvU",
        "colab_type": "code",
        "outputId": "146d25e3-f378-4197-8f2a-5f1ea3e769ae",
        "colab": {
          "base_uri": "https://localhost:8080/",
          "height": 351
        }
      },
      "source": [
        "#Visualisze voting on physican_fee_freeze\n",
        "plt.figure(figsize=(10,5))\n",
        "sns.distplot(dem_on_fee, color='b', label=\"Democrat\")\n",
        "\n",
        "sns.distplot(rep_on_fee, color='r', label=\"Republican\").set_title(\"Distribution of Votes on the Physician Fee Freeze\")\n",
        "\n",
        "plt.xticks([0,1])\n",
        "plt.text(x=0.1, y=12, s='Voted No')\n",
        "plt.text(x=0.75, y=10, s='Voted Yes')\n",
        "plt.legend();"
      ],
      "execution_count": 0,
      "outputs": [
        {
          "output_type": "display_data",
          "data": {
            "image/png": "[encoded data removed]",
            "text/plain": [
              "<Figure size 720x360 with 1 Axes>"
            ]
          },
          "metadata": {
            "tags": []
          }
        }
      ]
    },
    {
      "cell_type": "code",
      "metadata": {
        "id": "uqoa9s52JWZi",
        "colab_type": "code",
        "outputId": "c7799b06-1bd2-461a-eb55-35fa680bf0cc",
        "colab": {
          "base_uri": "https://localhost:8080/",
          "height": 295
        }
      },
      "source": [
        "#Visualise similar voting on immigration\n",
        "import seaborn as sns\n",
        "sns.distplot(rep_on_imm, color='r', label='Republican').set_title(\"Similar Voting on Immigration\")\n",
        "sns.distplot(dem_on_imm, color='b', label=\"Democrat\")\n",
        "plt.text(x=-.20, y=.25, s='Voted No')\n",
        "plt.text(x=.8, y=.25, s='Voted Yes')\n",
        "plt.legend();\n"
      ],
      "execution_count": 0,
      "outputs": [
        {
          "output_type": "display_data",
          "data": {
            "image/png": "[encoded data removed]",
            "text/plain": [
              "<Figure size 432x288 with 1 Axes>"
            ]
          },
          "metadata": {
            "tags": []
          }
        }
      ]
    },
    {
      "cell_type": "markdown",
      "metadata": {
        "id": "K03eGuPthh9H",
        "colab_type": "text"
      },
      "source": [
        "## Assignment - Build a confidence interval\n",
        "\n",
        "A confidence interval refers to a neighborhood around some point estimate, the size of which is determined by the desired p-value. For instance, we might say that 52% of Americans prefer tacos to burritos, with a 95% confidence interval of +/- 5%.\n",
        "\n",
        "52% (0.52) is the point estimate, and +/- 5% (the interval $[0.47, 0.57]$) is the confidence interval. \"95% confidence\" means a p-value $\\leq 1 - 0.95 = 0.05$.\n",
        "\n",
        "In this case, the confidence interval includes $0.5$ - which is the natural null hypothesis (that half of Americans prefer tacos and half burritos, thus there is no clear favorite). So in this case, we could use the confidence interval to report that we've failed to reject the null hypothesis.\n",
        "\n",
        "But providing the full analysis with a confidence interval, including a graphical representation of it, can be a helpful and powerful way to tell your story. Done well, it is also more intuitive to a layperson than simply saying \"fail to reject the null hypothesis\" - it shows that in fact the data does *not* give a single clear result (the point estimate) but a whole range of possibilities.\n",
        "\n",
        "How is a confidence interval built, and how should it be interpreted? It does *not* mean that 95% of the data lies in that interval - instead, the frequentist interpretation is \"if we were to repeat this experiment 100 times, we would expect the average result to lie in this interval ~95 times.\"\n",
        "\n",
        "For a 95% confidence interval and a normal(-ish) distribution, you can simply remember that +/-2 standard deviations contains 95% of the probability mass, and so the 95% confidence interval based on a given sample is centered at the mean (point estimate) and has a range of +/- 2 (or technically 1.96) standard deviations.\n",
        "\n",
        "Different distributions/assumptions (90% confidence, 99% confidence) will require different math, but the overall process and interpretation (with a frequentist approach) will be the same.\n",
        "\n",
        "Your assignment - using the data from the prior module ([congressional voting records](https://archive.ics.uci.edu/ml/datasets/Congressional+Voting+Records)):\n",
        "\n",
        "\n",
        "### Confidence Intervals:\n",
        "1. Generate and numerically represent a confidence interval\n",
        "2. Graphically (with a plot) represent the confidence interval\n",
        "3. Interpret the confidence interval - what does it tell you about the data and its distribution?\n",
        "\n",
        "### Chi-squared tests:\n",
        "4. Take a dataset that we have used in the past in class that has **categorical** variables. Pick two of those categorical variables and run a chi-squared tests on that data\n",
        "  - By hand using Numpy\n",
        "  - In a single line using Scipy\n",
        "\n",
        "Stretch goals:\n",
        "\n",
        "1. Write a summary of your findings, mixing prose and math/code/results. *Note* - yes, this is by definition a political topic. It is challenging but important to keep your writing voice *neutral* and stick to the facts of the data. Data science often involves considering controversial issues, so it's important to be sensitive about them (especially if you want to publish).\n",
        "2. Apply the techniques you learned today to your project data or other data of your choice, and write/discuss your findings here.\n",
        "3. Refactor your code so it is elegant, readable, and can be easily run for all issues."
      ]
    },
    {
      "cell_type": "code",
      "metadata": {
        "id": "W9DoG1DWXT4H",
        "colab_type": "code",
        "outputId": "783d4b30-ee54-44b1-d8ad-99b784f7fab7",
        "colab": {
          "base_uri": "https://localhost:8080/",
          "height": 34
        }
      },
      "source": [
        "#Generating a 95% confidence interval on \n",
        "import numpy as np, scipy.stats as st\n",
        "\n",
        "confidence_interval = st.t.interval(0.95, len(rep_on_fee)-1, loc=np.mean(rep_on_fee), scale=st.sem(rep_on_fee))\n",
        "confidence_interval"
      ],
      "execution_count": 0,
      "outputs": [
        {
          "output_type": "execute_result",
          "data": {
            "text/plain": [
              "(0.9634898806720522, 1.0005819756153729)"
            ]
          },
          "metadata": {
            "tags": []
          },
          "execution_count": 28
        }
      ]
    },
    {
      "cell_type": "code",
      "metadata": {
        "id": "412OnJ98fg8c",
        "colab_type": "code",
        "colab": {}
      },
      "source": [
        "rep_on_fee_mean = rep_on_fee.mean()\n",
        "rep_on_fee_dev =  rep_on_fee.std()"
      ],
      "execution_count": 0,
      "outputs": []
    },
    {
      "cell_type": "code",
      "metadata": {
        "id": "2uYP7CVhXXlG",
        "colab_type": "code",
        "outputId": "12a716a6-8acb-404b-85c7-640ecca162cf",
        "colab": {
          "base_uri": "https://localhost:8080/",
          "height": 281
        }
      },
      "source": [
        "rep_on_fee_sample = np.random.normal(rep_on_fee_mean, rep_on_fee_dev, 1000)\n",
        "sns.distplot(rep_on_fee_sample)\n",
        "plt.title('Distribution of Republican Votes on Physican Fees');"
      ],
      "execution_count": 0,
      "outputs": [
        {
          "output_type": "display_data",
          "data": {
            "image/png": "[encoded data removed]",
            "text/plain": [
              "<Figure size 432x288 with 1 Axes>"
            ]
          },
          "metadata": {
            "tags": []
          }
        }
      ]
    },
    {
      "cell_type": "markdown",
      "metadata": {
        "id": "RkylrnXzhu3c",
        "colab_type": "text"
      },
      "source": [
        "When we take a look at our data on Republican voting regarding physician fee freezes, we can see that nearly all of them voted yes. When we replicate data with these statistics  1000 times on a normal distribution we can see that 95% of the time voting on this cause will be likely to be a 'yes'."
      ]
    },
    {
      "cell_type": "code",
      "metadata": {
        "id": "1BLmJvThn66O",
        "colab_type": "code",
        "outputId": "ba9d70d7-7010-4ae8-f568-05b0e526168c",
        "colab": {
          "base_uri": "https://localhost:8080/",
          "height": 224
        }
      },
      "source": [
        "!wget https://resources.lendingclub.com/LoanStats_2019Q1.csv.zip"
      ],
      "execution_count": 0,
      "outputs": [
        {
          "output_type": "stream",
          "text": [
            "--2019-08-11 03:07:41--  https://resources.lendingclub.com/LoanStats_2019Q1.csv.zip\n",
            "Resolving resources.lendingclub.com (resources.lendingclub.com)... 64.48.1.20\n",
            "Connecting to resources.lendingclub.com (resources.lendingclub.com)|64.48.1.20|:443... connected.\n",
            "HTTP request sent, awaiting response... 200 OK\n",
            "Length: unspecified [application/zip]\n",
            "Saving to: ‘LoanStats_2019Q1.csv.zip’\n",
            "\n",
            "LoanStats_2019Q1.cs     [              <=>   ]  19.37M  1.67MB/s    in 12s     \n",
            "\n",
            "2019-08-11 03:07:53 (1.65 MB/s) - ‘LoanStats_2019Q1.csv.zip’ saved [20314386]\n",
            "\n"
          ],
          "name": "stdout"
        }
      ]
    },
    {
      "cell_type": "code",
      "metadata": {
        "id": "kmysHoEgpVAl",
        "colab_type": "code",
        "outputId": "765cf3a0-4e00-47a2-a55c-e816222f87df",
        "colab": {
          "base_uri": "https://localhost:8080/",
          "height": 51
        }
      },
      "source": [
        "!unzip LoanStats_2019Q1.csv.zip"
      ],
      "execution_count": 0,
      "outputs": [
        {
          "output_type": "stream",
          "text": [
            "Archive:  LoanStats_2019Q1.csv.zip\n",
            "  inflating: LoanStats_2019Q1.csv    \n"
          ],
          "name": "stdout"
        }
      ]
    },
    {
      "cell_type": "code",
      "metadata": {
        "id": "oEjYtA4dpWNd",
        "colab_type": "code",
        "outputId": "5367ec11-18e0-4636-dd9e-0993318bcc27",
        "colab": {
          "base_uri": "https://localhost:8080/",
          "height": 207
        }
      },
      "source": [
        "!head LoanStats_2019Q1.csv"
      ],
      "execution_count": 0,
      "outputs": [
        {
          "output_type": "stream",
          "text": [
            "Notes offered by Prospectus (https://www.lendingclub.com/info/prospectus.action)\n",
            "\"id\",\"member_id\",\"loan_amnt\",\"funded_amnt\",\"funded_amnt_inv\",\"term\",\"int_rate\",\"installment\",\"grade\",\"sub_grade\",\"emp_title\",\"emp_length\",\"home_ownership\",\"annual_inc\",\"verification_status\",\"issue_d\",\"loan_status\",\"pymnt_plan\",\"url\",\"desc\",\"purpose\",\"title\",\"zip_code\",\"addr_state\",\"dti\",\"delinq_2yrs\",\"earliest_cr_line\",\"inq_last_6mths\",\"mths_since_last_delinq\",\"mths_since_last_record\",\"open_acc\",\"pub_rec\",\"revol_bal\",\"revol_util\",\"total_acc\",\"initial_list_status\",\"out_prncp\",\"out_prncp_inv\",\"total_pymnt\",\"total_pymnt_inv\",\"total_rec_prncp\",\"total_rec_int\",\"total_rec_late_fee\",\"recoveries\",\"collection_recovery_fee\",\"last_pymnt_d\",\"last_pymnt_amnt\",\"next_pymnt_d\",\"last_credit_pull_d\",\"collections_12_mths_ex_med\",\"mths_since_last_major_derog\",\"policy_code\",\"application_type\",\"annual_inc_joint\",\"dti_joint\",\"verification_status_joint\",\"acc_now_delinq\",\"tot_coll_amt\",\"tot_cur_bal\",\"open_acc_6m\",\"open_act_il\",\"open_il_12m\",\"open_il_24m\",\"mths_since_rcnt_il\",\"total_bal_il\",\"il_util\",\"open_rv_12m\",\"open_rv_24m\",\"max_bal_bc\",\"all_util\",\"total_rev_hi_lim\",\"inq_fi\",\"total_cu_tl\",\"inq_last_12m\",\"acc_open_past_24mths\",\"avg_cur_bal\",\"bc_open_to_buy\",\"bc_util\",\"chargeoff_within_12_mths\",\"delinq_amnt\",\"mo_sin_old_il_acct\",\"mo_sin_old_rev_tl_op\",\"mo_sin_rcnt_rev_tl_op\",\"mo_sin_rcnt_tl\",\"mort_acc\",\"mths_since_recent_bc\",\"mths_since_recent_bc_dlq\",\"mths_since_recent_inq\",\"mths_since_recent_revol_delinq\",\"num_accts_ever_120_pd\",\"num_actv_bc_tl\",\"num_actv_rev_tl\",\"num_bc_sats\",\"num_bc_tl\",\"num_il_tl\",\"num_op_rev_tl\",\"num_rev_accts\",\"num_rev_tl_bal_gt_0\",\"num_sats\",\"num_tl_120dpd_2m\",\"num_tl_30dpd\",\"num_tl_90g_dpd_24m\",\"num_tl_op_past_12m\",\"pct_tl_nvr_dlq\",\"percent_bc_gt_75\",\"pub_rec_bankruptcies\",\"tax_liens\",\"tot_hi_cred_lim\",\"total_bal_ex_mort\",\"total_bc_limit\",\"total_il_high_credit_limit\",\"revol_bal_joint\",\"sec_app_earliest_cr_line\",\"sec_app_inq_last_6mths\",\"sec_app_mort_acc\",\"sec_app_open_acc\",\"sec_app_revol_util\",\"sec_app_open_act_il\",\"sec_app_num_rev_accts\",\"sec_app_chargeoff_within_12_mths\",\"sec_app_collections_12_mths_ex_med\",\"sec_app_mths_since_last_major_derog\",\"hardship_flag\",\"hardship_type\",\"hardship_reason\",\"hardship_status\",\"deferral_term\",\"hardship_amount\",\"hardship_start_date\",\"hardship_end_date\",\"payment_plan_start_date\",\"hardship_length\",\"hardship_dpd\",\"hardship_loan_status\",\"orig_projected_additional_accrued_interest\",\"hardship_payoff_balance_amount\",\"hardship_last_payment_amount\",\"debt_settlement_flag\",\"debt_settlement_flag_date\",\"settlement_status\",\"settlement_date\",\"settlement_amount\",\"settlement_percentage\",\"settlement_term\"\n",
            "\"\",\"\",\"20000\",\"20000\",\"20000\",\" 60 months\",\" 17.19%\",\"499.1\",\"C\",\"C5\",\"Front desk supervisor\",\"6 years\",\"RENT\",\"47000\",\"Source Verified\",\"Mar-2019\",\"Current\",\"n\",\"\",\"\",\"debt_consolidation\",\"Debt consolidation\",\"958xx\",\"CA\",\"14.02\",\"0\",\"Sep-2006\",\"1\",\"50\",\"\",\"15\",\"0\",\"10687\",\"19.7%\",\"53\",\"w\",\"19031.49\",\"19031.49\",\"1958.2\",\"1958.20\",\"968.51\",\"989.69\",\"0.0\",\"0.0\",\"0.0\",\"Jul-2019\",\"499.1\",\"Aug-2019\",\"Jul-2019\",\"0\",\"50\",\"1\",\"Individual\",\"\",\"\",\"\",\"0\",\"0\",\"31546\",\"3\",\"2\",\"1\",\"2\",\"10\",\"20859\",\"97\",\"4\",\"9\",\"5909\",\"42\",\"54300\",\"6\",\"1\",\"3\",\"11\",\"2103\",\"23647\",\"30\",\"0\",\"0\",\"150\",\"100\",\"1\",\"1\",\"0\",\"5\",\"\",\"3\",\"50\",\"3\",\"3\",\"4\",\"8\",\"19\",\"19\",\"13\",\"33\",\"4\",\"15\",\"0\",\"0\",\"0\",\"5\",\"98\",\"12.5\",\"0\",\"0\",\"75824\",\"31546\",\"33800\",\"21524\",\"\",\"\",\"\",\"\",\"\",\"\",\"\",\"\",\"\",\"\",\"\",\"N\",\"\",\"\",\"\",\"\",\"\",\"\",\"\",\"\",\"\",\"\",\"\",\"\",\"\",\"\",\"N\",\"\",\"\",\"\",\"\",\"\",\"\"\n",
            "\"\",\"\",\"21225\",\"21225\",\"21225\",\" 60 months\",\" 14.74%\",\"502.05\",\"C\",\"C2\",\"ceo\",\"10+ years\",\"MORTGAGE\",\"225000\",\"Not Verified\",\"Mar-2019\",\"Current\",\"n\",\"\",\"\",\"credit_card\",\"Credit card refinancing\",\"956xx\",\"CA\",\"16.8\",\"0\",\"Sep-1994\",\"2\",\"\",\"110\",\"14\",\"1\",\"95868\",\"87.7%\",\"22\",\"w\",\"20492.06\",\"20492.06\",\"1471.39\",\"1471.39\",\"732.94\",\"738.45\",\"0.0\",\"0.0\",\"0.0\",\"Jul-2019\",\"502.05\",\"Jul-2019\",\"Jul-2019\",\"0\",\"\",\"1\",\"Individual\",\"\",\"\",\"\",\"0\",\"0\",\"694793\",\"1\",\"5\",\"2\",\"4\",\"3\",\"113558\",\"76\",\"0\",\"1\",\"17353\",\"84\",\"109300\",\"1\",\"0\",\"4\",\"5\",\"49628\",\"12635\",\"76.4\",\"0\",\"0\",\"126\",\"294\",\"24\",\"3\",\"4\",\"30\",\"\",\"1\",\"\",\"0\",\"4\",\"6\",\"4\",\"4\",\"11\",\"7\",\"7\",\"6\",\"14\",\"0\",\"0\",\"0\",\"2\",\"100\",\"50\",\"1\",\"0\",\"747075\",\"209426\",\"53500\",\"128175\",\"\",\"\",\"\",\"\",\"\",\"\",\"\",\"\",\"\",\"\",\"\",\"N\",\"\",\"\",\"\",\"\",\"\",\"\",\"\",\"\",\"\",\"\",\"\",\"\",\"\",\"\",\"N\",\"\",\"\",\"\",\"\",\"\",\"\"\n",
            "\"\",\"\",\"5000\",\"5000\",\"5000\",\" 36 months\",\" 17.97%\",\"180.69\",\"D\",\"D1\",\"\",\"n/a\",\"MORTGAGE\",\"62000\",\"Not Verified\",\"Mar-2019\",\"Current\",\"n\",\"\",\"\",\"home_improvement\",\"Home improvement\",\"320xx\",\"FL\",\"19.82\",\"1\",\"Nov-1987\",\"0\",\"4\",\"\",\"8\",\"0\",\"7285\",\"77.5%\",\"18\",\"w\",\"4677.78\",\"4677.78\",\"532.09\",\"532.09\",\"322.22\",\"209.87\",\"0.0\",\"0.0\",\"0.0\",\"Jul-2019\",\"180.69\",\"Jul-2019\",\"Jul-2019\",\"0\",\"4\",\"1\",\"Individual\",\"\",\"\",\"\",\"0\",\"0\",\"206639\",\"0\",\"1\",\"0\",\"0\",\"33\",\"24330\",\"\",\"1\",\"3\",\"2318\",\"78\",\"9400\",\"0\",\"0\",\"0\",\"3\",\"25830\",\"2115\",\"77.5\",\"0\",\"0\",\"187\",\"376\",\"9\",\"9\",\"2\",\"9\",\"\",\"\",\"4\",\"3\",\"6\",\"6\",\"6\",\"6\",\"7\",\"6\",\"9\",\"6\",\"8\",\"0\",\"0\",\"1\",\"1\",\"66.7\",\"50\",\"0\",\"0\",\"255738\",\"31615\",\"9400\",\"39938\",\"\",\"\",\"\",\"\",\"\",\"\",\"\",\"\",\"\",\"\",\"\",\"N\",\"\",\"\",\"\",\"\",\"\",\"\",\"\",\"\",\"\",\"\",\"\",\"\",\"\",\"\",\"N\",\"\",\"\",\"\",\"\",\"\",\"\"\n",
            "\"\",\"\",\"20000\",\"20000\",\"20000\",\" 36 months\",\"  8.19%\",\"628.49\",\"A\",\"A4\",\"Executive Director of Guardian Advantage\",\"1 year\",\"MORTGAGE\",\"200000\",\"Not Verified\",\"Mar-2019\",\"Current\",\"n\",\"\",\"\",\"credit_card\",\"Credit card refinancing\",\"190xx\",\"PA\",\"22.66\",\"1\",\"Oct-2001\",\"0\",\"18\",\"\",\"20\",\"0\",\"20984\",\"32.1%\",\"49\",\"w\",\"18513.93\",\"18513.93\",\"1867.27\",\"1867.27\",\"1486.07\",\"381.20\",\"0.0\",\"0.0\",\"0.0\",\"Jul-2019\",\"628.49\",\"Jul-2019\",\"Jul-2019\",\"0\",\"48\",\"1\",\"Individual\",\"\",\"\",\"\",\"0\",\"0\",\"326678\",\"2\",\"5\",\"1\",\"3\",\"4\",\"63760\",\"61\",\"2\",\"3\",\"5097\",\"50\",\"64400\",\"1\",\"5\",\"0\",\"6\",\"17194\",\"30437\",\"38.4\",\"0\",\"0\",\"162\",\"209\",\"2\",\"2\",\"1\",\"2\",\"18\",\"21\",\"18\",\"1\",\"7\",\"9\",\"9\",\"15\",\"20\",\"14\",\"27\",\"9\",\"20\",\"0\",\"0\",\"0\",\"3\",\"95.7\",\"22.2\",\"0\",\"0\",\"448069\",\"84744\",\"49400\",\"105180\",\"\",\"\",\"\",\"\",\"\",\"\",\"\",\"\",\"\",\"\",\"\",\"N\",\"\",\"\",\"\",\"\",\"\",\"\",\"\",\"\",\"\",\"\",\"\",\"\",\"\",\"\",\"N\",\"\",\"\",\"\",\"\",\"\",\"\"\n",
            "\"\",\"\",\"12000\",\"12000\",\"12000\",\" 60 months\",\" 15.57%\",\"289.09\",\"C\",\"C3\",\"Computer Operator\",\"5 years\",\"MORTGAGE\",\"49000\",\"Source Verified\",\"Mar-2019\",\"Current\",\"n\",\"\",\"\",\"debt_consolidation\",\"Debt consolidation\",\"152xx\",\"PA\",\"13.47\",\"0\",\"Apr-1993\",\"0\",\"38\",\"\",\"18\",\"0\",\"17672\",\"48.2%\",\"36\",\"w\",\"11594.62\",\"11594.62\",\"846.51\",\"846.51\",\"405.38\",\"441.13\",\"0.0\",\"0.0\",\"0.0\",\"Jul-2019\",\"289.09\",\"Jul-2019\",\"Jul-2019\",\"0\",\"38\",\"1\",\"Individual\",\"\",\"\",\"\",\"0\",\"0\",\"143079\",\"2\",\"4\",\"0\",\"0\",\"51\",\"88353\",\"128\",\"4\",\"6\",\"3587\",\"100\",\"36700\",\"0\",\"8\",\"1\",\"6\",\"7949\",\"14848\",\"39.1\",\"1\",\"0\",\"144\",\"311\",\"3\",\"3\",\"5\",\"3\",\"38\",\"11\",\"38\",\"4\",\"5\",\"10\",\"7\",\"11\",\"12\",\"12\",\"19\",\"10\",\"18\",\"0\",\"0\",\"0\",\"4\",\"86.1\",\"14.3\",\"0\",\"0\",\"189260\",\"106025\",\"24400\",\"68860\",\"\",\"\",\"\",\"\",\"\",\"\",\"\",\"\",\"\",\"\",\"\",\"N\",\"\",\"\",\"\",\"\",\"\",\"\",\"\",\"\",\"\",\"\",\"\",\"\",\"\",\"\",\"N\",\"\",\"\",\"\",\"\",\"\",\"\"\n",
            "\"\",\"\",\"13500\",\"13500\",\"13500\",\" 36 months\",\"  7.56%\",\"420.31\",\"A\",\"A3\",\"Security officer\",\"8 years\",\"RENT\",\"34860\",\"Not Verified\",\"Mar-2019\",\"Current\",\"n\",\"\",\"\",\"credit_card\",\"Credit card refinancing\",\"857xx\",\"AZ\",\"10.91\",\"0\",\"Oct-2003\",\"1\",\"\",\"\",\"9\",\"0\",\"9932\",\"24.7%\",\"11\",\"w\",\"12326.49\",\"12326.49\",\"1409.59\",\"1409.59\",\"1173.51\",\"236.08\",\"0.0\",\"0.0\",\"0.0\",\"Jul-2019\",\"420.31\",\"Jul-2019\",\"Jul-2019\",\"0\",\"\",\"1\",\"Individual\",\"\",\"\",\"\",\"0\",\"0\",\"9932\",\"1\",\"0\",\"0\",\"0\",\"\",\"0\",\"\",\"1\",\"3\",\"3777\",\"25\",\"40200\",\"0\",\"0\",\"1\",\"3\",\"1104\",\"16629\",\"33.7\",\"0\",\"0\",\"\",\"185\",\"1\",\"1\",\"0\",\"22\",\"\",\"1\",\"\",\"0\",\"5\",\"6\",\"5\",\"7\",\"0\",\"9\",\"11\",\"6\",\"9\",\"0\",\"0\",\"0\",\"1\",\"100\",\"0\",\"0\",\"0\",\"40200\",\"9932\",\"25100\",\"0\",\"\",\"\",\"\",\"\",\"\",\"\",\"\",\"\",\"\",\"\",\"\",\"N\",\"\",\"\",\"\",\"\",\"\",\"\",\"\",\"\",\"\",\"\",\"\",\"\",\"\",\"\",\"N\",\"\",\"\",\"\",\"\",\"\",\"\"\n",
            "\"\",\"\",\"25000\",\"25000\",\"25000\",\" 36 months\",\"  7.02%\",\"772.16\",\"A\",\"A2\",\"Vice President, Trade Show\",\"5 years\",\"MORTGAGE\",\"305000\",\"Not Verified\",\"Mar-2019\",\"Current\",\"n\",\"\",\"\",\"debt_consolidation\",\"Debt consolidation\",\"600xx\",\"IL\",\"8.16\",\"0\",\"Oct-1995\",\"0\",\"\",\"\",\"12\",\"0\",\"31360\",\"36.9%\",\"26\",\"w\",\"23111.26\",\"23111.26\",\"2296.98\",\"2296.98\",\"1888.74\",\"408.24\",\"0.0\",\"0.0\",\"0.0\",\"Jul-2019\",\"772.16\",\"Jul-2019\",\"Jul-2019\",\"0\",\"\",\"1\",\"Individual\",\"\",\"\",\"\",\"0\",\"0\",\"726960\",\"1\",\"2\",\"1\",\"1\",\"3\",\"18796\",\"48\",\"1\",\"1\",\"11255\",\"41\",\"85000\",\"1\",\"0\",\"3\",\"3\",\"60580\",\"49640\",\"38.7\",\"0\",\"0\",\"106\",\"232\",\"12\",\"3\",\"4\",\"28\",\"\",\"3\",\"\",\"0\",\"4\",\"4\",\"5\",\"9\",\"5\",\"8\",\"16\",\"4\",\"12\",\"0\",\"0\",\"0\",\"2\",\"100\",\"0\",\"0\",\"0\",\"840287\",\"65339\",\"81000\",\"38858\",\"\",\"\",\"\",\"\",\"\",\"\",\"\",\"\",\"\",\"\",\"\",\"N\",\"\",\"\",\"\",\"\",\"\",\"\",\"\",\"\",\"\",\"\",\"\",\"\",\"\",\"\",\"N\",\"\",\"\",\"\",\"\",\"\",\"\"\n",
            "\"\",\"\",\"10000\",\"10000\",\"10000\",\" 60 months\",\" 12.40%\",\"224.48\",\"B\",\"B4\",\"\",\"n/a\",\"MORTGAGE\",\"38000\",\"Not Verified\",\"Mar-2019\",\"Fully Paid\",\"n\",\"\",\"\",\"credit_card\",\"Credit card refinancing\",\"306xx\",\"GA\",\"38.66\",\"0\",\"Feb-1997\",\"0\",\"\",\"\",\"7\",\"0\",\"8334\",\"49%\",\"18\",\"w\",\"0.00\",\"0.00\",\"10149.9647448397\",\"10149.96\",\"10000.00\",\"149.96\",\"0.0\",\"0.0\",\"0.0\",\"Apr-2019\",\"10163.74\",\"\",\"Mar-2019\",\"0\",\"\",\"1\",\"Individual\",\"\",\"\",\"\",\"0\",\"0\",\"134860\",\"0\",\"2\",\"0\",\"0\",\"36\",\"29189\",\"37\",\"0\",\"0\",\"6574\",\"44\",\"17000\",\"0\",\"0\",\"0\",\"0\",\"19266\",\"8666\",\"49\",\"0\",\"0\",\"170\",\"265\",\"37\",\"33\",\"4\",\"112\",\"\",\"\",\"\",\"0\",\"2\",\"2\",\"4\",\"6\",\"7\",\"4\",\"7\",\"2\",\"7\",\"0\",\"0\",\"0\",\"0\",\"100\",\"50\",\"0\",\"0\",\"176439\",\"37523\",\"17000\",\"57439\",\"\",\"\",\"\",\"\",\"\",\"\",\"\",\"\",\"\",\"\",\"\",\"N\",\"\",\"\",\"\",\"\",\"\",\"\",\"\",\"\",\"\",\"\",\"\",\"\",\"\",\"\",\"N\",\"\",\"\",\"\",\"\",\"\",\"\"\n"
          ],
          "name": "stdout"
        }
      ]
    },
    {
      "cell_type": "code",
      "metadata": {
        "id": "rPrcPetTpXOM",
        "colab_type": "code",
        "outputId": "e4eab320-e246-46ed-d089-8beccf322b0b",
        "colab": {
          "base_uri": "https://localhost:8080/",
          "height": 423
        }
      },
      "source": [
        "import pandas as pd\n",
        "loan= pd.read_csv('LoanStats_2019Q1.csv', header=1)\n",
        "print(loan.shape)\n",
        "loan.head()"
      ],
      "execution_count": 0,
      "outputs": [
        {
          "output_type": "stream",
          "text": [
            "/usr/local/lib/python3.6/dist-packages/IPython/core/interactiveshell.py:2718: DtypeWarning: Columns (0,123,124,125,128,129,130,133,138,139,140) have mixed types. Specify dtype option on import or set low_memory=False.\n",
            "  interactivity=interactivity, compiler=compiler, result=result)\n"
          ],
          "name": "stderr"
        },
        {
          "output_type": "stream",
          "text": [
            "(115677, 144)\n"
          ],
          "name": "stdout"
        },
        {
          "output_type": "execute_result",
          "data": {
            "text/html": [
              "<div>\n",
              "<style scoped>\n",
              "    .dataframe tbody tr th:only-of-type {\n",
              "        vertical-align: middle;\n",
              "    }\n",
              "\n",
              "    .dataframe tbody tr th {\n",
              "        vertical-align: top;\n",
              "    }\n",
              "\n",
              "    .dataframe thead th {\n",
              "        text-align: right;\n",
              "    }\n",
              "</style>\n",
              "<table border=\"1\" class=\"dataframe\">\n",
              "  <thead>\n",
              "    <tr style=\"text-align: right;\">\n",
              "      <th></th>\n",
              "      <th>id</th>\n",
              "      <th>member_id</th>\n",
              "      <th>loan_amnt</th>\n",
              "      <th>funded_amnt</th>\n",
              "      <th>funded_amnt_inv</th>\n",
              "      <th>term</th>\n",
              "      <th>int_rate</th>\n",
              "      <th>installment</th>\n",
              "      <th>grade</th>\n",
              "      <th>sub_grade</th>\n",
              "      <th>emp_title</th>\n",
              "      <th>emp_length</th>\n",
              "      <th>home_ownership</th>\n",
              "      <th>annual_inc</th>\n",
              "      <th>verification_status</th>\n",
              "      <th>issue_d</th>\n",
              "      <th>loan_status</th>\n",
              "      <th>pymnt_plan</th>\n",
              "      <th>url</th>\n",
              "      <th>desc</th>\n",
              "      <th>purpose</th>\n",
              "      <th>title</th>\n",
              "      <th>zip_code</th>\n",
              "      <th>addr_state</th>\n",
              "      <th>dti</th>\n",
              "      <th>delinq_2yrs</th>\n",
              "      <th>earliest_cr_line</th>\n",
              "      <th>inq_last_6mths</th>\n",
              "      <th>mths_since_last_delinq</th>\n",
              "      <th>mths_since_last_record</th>\n",
              "      <th>open_acc</th>\n",
              "      <th>pub_rec</th>\n",
              "      <th>revol_bal</th>\n",
              "      <th>revol_util</th>\n",
              "      <th>total_acc</th>\n",
              "      <th>initial_list_status</th>\n",
              "      <th>out_prncp</th>\n",
              "      <th>out_prncp_inv</th>\n",
              "      <th>total_pymnt</th>\n",
              "      <th>total_pymnt_inv</th>\n",
              "      <th>...</th>\n",
              "      <th>percent_bc_gt_75</th>\n",
              "      <th>pub_rec_bankruptcies</th>\n",
              "      <th>tax_liens</th>\n",
              "      <th>tot_hi_cred_lim</th>\n",
              "      <th>total_bal_ex_mort</th>\n",
              "      <th>total_bc_limit</th>\n",
              "      <th>total_il_high_credit_limit</th>\n",
              "      <th>revol_bal_joint</th>\n",
              "      <th>sec_app_earliest_cr_line</th>\n",
              "      <th>sec_app_inq_last_6mths</th>\n",
              "      <th>sec_app_mort_acc</th>\n",
              "      <th>sec_app_open_acc</th>\n",
              "      <th>sec_app_revol_util</th>\n",
              "      <th>sec_app_open_act_il</th>\n",
              "      <th>sec_app_num_rev_accts</th>\n",
              "      <th>sec_app_chargeoff_within_12_mths</th>\n",
              "      <th>sec_app_collections_12_mths_ex_med</th>\n",
              "      <th>sec_app_mths_since_last_major_derog</th>\n",
              "      <th>hardship_flag</th>\n",
              "      <th>hardship_type</th>\n",
              "      <th>hardship_reason</th>\n",
              "      <th>hardship_status</th>\n",
              "      <th>deferral_term</th>\n",
              "      <th>hardship_amount</th>\n",
              "      <th>hardship_start_date</th>\n",
              "      <th>hardship_end_date</th>\n",
              "      <th>payment_plan_start_date</th>\n",
              "      <th>hardship_length</th>\n",
              "      <th>hardship_dpd</th>\n",
              "      <th>hardship_loan_status</th>\n",
              "      <th>orig_projected_additional_accrued_interest</th>\n",
              "      <th>hardship_payoff_balance_amount</th>\n",
              "      <th>hardship_last_payment_amount</th>\n",
              "      <th>debt_settlement_flag</th>\n",
              "      <th>debt_settlement_flag_date</th>\n",
              "      <th>settlement_status</th>\n",
              "      <th>settlement_date</th>\n",
              "      <th>settlement_amount</th>\n",
              "      <th>settlement_percentage</th>\n",
              "      <th>settlement_term</th>\n",
              "    </tr>\n",
              "  </thead>\n",
              "  <tbody>\n",
              "    <tr>\n",
              "      <th>0</th>\n",
              "      <td>NaN</td>\n",
              "      <td>NaN</td>\n",
              "      <td>20000.0</td>\n",
              "      <td>20000.0</td>\n",
              "      <td>20000.0</td>\n",
              "      <td>60 months</td>\n",
              "      <td>17.19%</td>\n",
              "      <td>499.10</td>\n",
              "      <td>C</td>\n",
              "      <td>C5</td>\n",
              "      <td>Front desk supervisor</td>\n",
              "      <td>6 years</td>\n",
              "      <td>RENT</td>\n",
              "      <td>47000.0</td>\n",
              "      <td>Source Verified</td>\n",
              "      <td>Mar-2019</td>\n",
              "      <td>Current</td>\n",
              "      <td>n</td>\n",
              "      <td>NaN</td>\n",
              "      <td>NaN</td>\n",
              "      <td>debt_consolidation</td>\n",
              "      <td>Debt consolidation</td>\n",
              "      <td>958xx</td>\n",
              "      <td>CA</td>\n",
              "      <td>14.02</td>\n",
              "      <td>0.0</td>\n",
              "      <td>Sep-2006</td>\n",
              "      <td>1.0</td>\n",
              "      <td>50.0</td>\n",
              "      <td>NaN</td>\n",
              "      <td>15.0</td>\n",
              "      <td>0.0</td>\n",
              "      <td>10687.0</td>\n",
              "      <td>19.7%</td>\n",
              "      <td>53.0</td>\n",
              "      <td>w</td>\n",
              "      <td>19031.49</td>\n",
              "      <td>19031.49</td>\n",
              "      <td>1958.20</td>\n",
              "      <td>1958.20</td>\n",
              "      <td>...</td>\n",
              "      <td>12.5</td>\n",
              "      <td>0.0</td>\n",
              "      <td>0.0</td>\n",
              "      <td>75824.0</td>\n",
              "      <td>31546.0</td>\n",
              "      <td>33800.0</td>\n",
              "      <td>21524.0</td>\n",
              "      <td>NaN</td>\n",
              "      <td>NaN</td>\n",
              "      <td>NaN</td>\n",
              "      <td>NaN</td>\n",
              "      <td>NaN</td>\n",
              "      <td>NaN</td>\n",
              "      <td>NaN</td>\n",
              "      <td>NaN</td>\n",
              "      <td>NaN</td>\n",
              "      <td>NaN</td>\n",
              "      <td>NaN</td>\n",
              "      <td>N</td>\n",
              "      <td>NaN</td>\n",
              "      <td>NaN</td>\n",
              "      <td>NaN</td>\n",
              "      <td>NaN</td>\n",
              "      <td>NaN</td>\n",
              "      <td>NaN</td>\n",
              "      <td>NaN</td>\n",
              "      <td>NaN</td>\n",
              "      <td>NaN</td>\n",
              "      <td>NaN</td>\n",
              "      <td>NaN</td>\n",
              "      <td>NaN</td>\n",
              "      <td>NaN</td>\n",
              "      <td>NaN</td>\n",
              "      <td>N</td>\n",
              "      <td>NaN</td>\n",
              "      <td>NaN</td>\n",
              "      <td>NaN</td>\n",
              "      <td>NaN</td>\n",
              "      <td>NaN</td>\n",
              "      <td>NaN</td>\n",
              "    </tr>\n",
              "    <tr>\n",
              "      <th>1</th>\n",
              "      <td>NaN</td>\n",
              "      <td>NaN</td>\n",
              "      <td>21225.0</td>\n",
              "      <td>21225.0</td>\n",
              "      <td>21225.0</td>\n",
              "      <td>60 months</td>\n",
              "      <td>14.74%</td>\n",
              "      <td>502.05</td>\n",
              "      <td>C</td>\n",
              "      <td>C2</td>\n",
              "      <td>ceo</td>\n",
              "      <td>10+ years</td>\n",
              "      <td>MORTGAGE</td>\n",
              "      <td>225000.0</td>\n",
              "      <td>Not Verified</td>\n",
              "      <td>Mar-2019</td>\n",
              "      <td>Current</td>\n",
              "      <td>n</td>\n",
              "      <td>NaN</td>\n",
              "      <td>NaN</td>\n",
              "      <td>credit_card</td>\n",
              "      <td>Credit card refinancing</td>\n",
              "      <td>956xx</td>\n",
              "      <td>CA</td>\n",
              "      <td>16.80</td>\n",
              "      <td>0.0</td>\n",
              "      <td>Sep-1994</td>\n",
              "      <td>2.0</td>\n",
              "      <td>NaN</td>\n",
              "      <td>110.0</td>\n",
              "      <td>14.0</td>\n",
              "      <td>1.0</td>\n",
              "      <td>95868.0</td>\n",
              "      <td>87.7%</td>\n",
              "      <td>22.0</td>\n",
              "      <td>w</td>\n",
              "      <td>20492.06</td>\n",
              "      <td>20492.06</td>\n",
              "      <td>1471.39</td>\n",
              "      <td>1471.39</td>\n",
              "      <td>...</td>\n",
              "      <td>50.0</td>\n",
              "      <td>1.0</td>\n",
              "      <td>0.0</td>\n",
              "      <td>747075.0</td>\n",
              "      <td>209426.0</td>\n",
              "      <td>53500.0</td>\n",
              "      <td>128175.0</td>\n",
              "      <td>NaN</td>\n",
              "      <td>NaN</td>\n",
              "      <td>NaN</td>\n",
              "      <td>NaN</td>\n",
              "      <td>NaN</td>\n",
              "      <td>NaN</td>\n",
              "      <td>NaN</td>\n",
              "      <td>NaN</td>\n",
              "      <td>NaN</td>\n",
              "      <td>NaN</td>\n",
              "      <td>NaN</td>\n",
              "      <td>N</td>\n",
              "      <td>NaN</td>\n",
              "      <td>NaN</td>\n",
              "      <td>NaN</td>\n",
              "      <td>NaN</td>\n",
              "      <td>NaN</td>\n",
              "      <td>NaN</td>\n",
              "      <td>NaN</td>\n",
              "      <td>NaN</td>\n",
              "      <td>NaN</td>\n",
              "      <td>NaN</td>\n",
              "      <td>NaN</td>\n",
              "      <td>NaN</td>\n",
              "      <td>NaN</td>\n",
              "      <td>NaN</td>\n",
              "      <td>N</td>\n",
              "      <td>NaN</td>\n",
              "      <td>NaN</td>\n",
              "      <td>NaN</td>\n",
              "      <td>NaN</td>\n",
              "      <td>NaN</td>\n",
              "      <td>NaN</td>\n",
              "    </tr>\n",
              "    <tr>\n",
              "      <th>2</th>\n",
              "      <td>NaN</td>\n",
              "      <td>NaN</td>\n",
              "      <td>5000.0</td>\n",
              "      <td>5000.0</td>\n",
              "      <td>5000.0</td>\n",
              "      <td>36 months</td>\n",
              "      <td>17.97%</td>\n",
              "      <td>180.69</td>\n",
              "      <td>D</td>\n",
              "      <td>D1</td>\n",
              "      <td>NaN</td>\n",
              "      <td>NaN</td>\n",
              "      <td>MORTGAGE</td>\n",
              "      <td>62000.0</td>\n",
              "      <td>Not Verified</td>\n",
              "      <td>Mar-2019</td>\n",
              "      <td>Current</td>\n",
              "      <td>n</td>\n",
              "      <td>NaN</td>\n",
              "      <td>NaN</td>\n",
              "      <td>home_improvement</td>\n",
              "      <td>Home improvement</td>\n",
              "      <td>320xx</td>\n",
              "      <td>FL</td>\n",
              "      <td>19.82</td>\n",
              "      <td>1.0</td>\n",
              "      <td>Nov-1987</td>\n",
              "      <td>0.0</td>\n",
              "      <td>4.0</td>\n",
              "      <td>NaN</td>\n",
              "      <td>8.0</td>\n",
              "      <td>0.0</td>\n",
              "      <td>7285.0</td>\n",
              "      <td>77.5%</td>\n",
              "      <td>18.0</td>\n",
              "      <td>w</td>\n",
              "      <td>4677.78</td>\n",
              "      <td>4677.78</td>\n",
              "      <td>532.09</td>\n",
              "      <td>532.09</td>\n",
              "      <td>...</td>\n",
              "      <td>50.0</td>\n",
              "      <td>0.0</td>\n",
              "      <td>0.0</td>\n",
              "      <td>255738.0</td>\n",
              "      <td>31615.0</td>\n",
              "      <td>9400.0</td>\n",
              "      <td>39938.0</td>\n",
              "      <td>NaN</td>\n",
              "      <td>NaN</td>\n",
              "      <td>NaN</td>\n",
              "      <td>NaN</td>\n",
              "      <td>NaN</td>\n",
              "      <td>NaN</td>\n",
              "      <td>NaN</td>\n",
              "      <td>NaN</td>\n",
              "      <td>NaN</td>\n",
              "      <td>NaN</td>\n",
              "      <td>NaN</td>\n",
              "      <td>N</td>\n",
              "      <td>NaN</td>\n",
              "      <td>NaN</td>\n",
              "      <td>NaN</td>\n",
              "      <td>NaN</td>\n",
              "      <td>NaN</td>\n",
              "      <td>NaN</td>\n",
              "      <td>NaN</td>\n",
              "      <td>NaN</td>\n",
              "      <td>NaN</td>\n",
              "      <td>NaN</td>\n",
              "      <td>NaN</td>\n",
              "      <td>NaN</td>\n",
              "      <td>NaN</td>\n",
              "      <td>NaN</td>\n",
              "      <td>N</td>\n",
              "      <td>NaN</td>\n",
              "      <td>NaN</td>\n",
              "      <td>NaN</td>\n",
              "      <td>NaN</td>\n",
              "      <td>NaN</td>\n",
              "      <td>NaN</td>\n",
              "    </tr>\n",
              "    <tr>\n",
              "      <th>3</th>\n",
              "      <td>NaN</td>\n",
              "      <td>NaN</td>\n",
              "      <td>20000.0</td>\n",
              "      <td>20000.0</td>\n",
              "      <td>20000.0</td>\n",
              "      <td>36 months</td>\n",
              "      <td>8.19%</td>\n",
              "      <td>628.49</td>\n",
              "      <td>A</td>\n",
              "      <td>A4</td>\n",
              "      <td>Executive Director of Guardian Advantage</td>\n",
              "      <td>1 year</td>\n",
              "      <td>MORTGAGE</td>\n",
              "      <td>200000.0</td>\n",
              "      <td>Not Verified</td>\n",
              "      <td>Mar-2019</td>\n",
              "      <td>Current</td>\n",
              "      <td>n</td>\n",
              "      <td>NaN</td>\n",
              "      <td>NaN</td>\n",
              "      <td>credit_card</td>\n",
              "      <td>Credit card refinancing</td>\n",
              "      <td>190xx</td>\n",
              "      <td>PA</td>\n",
              "      <td>22.66</td>\n",
              "      <td>1.0</td>\n",
              "      <td>Oct-2001</td>\n",
              "      <td>0.0</td>\n",
              "      <td>18.0</td>\n",
              "      <td>NaN</td>\n",
              "      <td>20.0</td>\n",
              "      <td>0.0</td>\n",
              "      <td>20984.0</td>\n",
              "      <td>32.1%</td>\n",
              "      <td>49.0</td>\n",
              "      <td>w</td>\n",
              "      <td>18513.93</td>\n",
              "      <td>18513.93</td>\n",
              "      <td>1867.27</td>\n",
              "      <td>1867.27</td>\n",
              "      <td>...</td>\n",
              "      <td>22.2</td>\n",
              "      <td>0.0</td>\n",
              "      <td>0.0</td>\n",
              "      <td>448069.0</td>\n",
              "      <td>84744.0</td>\n",
              "      <td>49400.0</td>\n",
              "      <td>105180.0</td>\n",
              "      <td>NaN</td>\n",
              "      <td>NaN</td>\n",
              "      <td>NaN</td>\n",
              "      <td>NaN</td>\n",
              "      <td>NaN</td>\n",
              "      <td>NaN</td>\n",
              "      <td>NaN</td>\n",
              "      <td>NaN</td>\n",
              "      <td>NaN</td>\n",
              "      <td>NaN</td>\n",
              "      <td>NaN</td>\n",
              "      <td>N</td>\n",
              "      <td>NaN</td>\n",
              "      <td>NaN</td>\n",
              "      <td>NaN</td>\n",
              "      <td>NaN</td>\n",
              "      <td>NaN</td>\n",
              "      <td>NaN</td>\n",
              "      <td>NaN</td>\n",
              "      <td>NaN</td>\n",
              "      <td>NaN</td>\n",
              "      <td>NaN</td>\n",
              "      <td>NaN</td>\n",
              "      <td>NaN</td>\n",
              "      <td>NaN</td>\n",
              "      <td>NaN</td>\n",
              "      <td>N</td>\n",
              "      <td>NaN</td>\n",
              "      <td>NaN</td>\n",
              "      <td>NaN</td>\n",
              "      <td>NaN</td>\n",
              "      <td>NaN</td>\n",
              "      <td>NaN</td>\n",
              "    </tr>\n",
              "    <tr>\n",
              "      <th>4</th>\n",
              "      <td>NaN</td>\n",
              "      <td>NaN</td>\n",
              "      <td>12000.0</td>\n",
              "      <td>12000.0</td>\n",
              "      <td>12000.0</td>\n",
              "      <td>60 months</td>\n",
              "      <td>15.57%</td>\n",
              "      <td>289.09</td>\n",
              "      <td>C</td>\n",
              "      <td>C3</td>\n",
              "      <td>Computer Operator</td>\n",
              "      <td>5 years</td>\n",
              "      <td>MORTGAGE</td>\n",
              "      <td>49000.0</td>\n",
              "      <td>Source Verified</td>\n",
              "      <td>Mar-2019</td>\n",
              "      <td>Current</td>\n",
              "      <td>n</td>\n",
              "      <td>NaN</td>\n",
              "      <td>NaN</td>\n",
              "      <td>debt_consolidation</td>\n",
              "      <td>Debt consolidation</td>\n",
              "      <td>152xx</td>\n",
              "      <td>PA</td>\n",
              "      <td>13.47</td>\n",
              "      <td>0.0</td>\n",
              "      <td>Apr-1993</td>\n",
              "      <td>0.0</td>\n",
              "      <td>38.0</td>\n",
              "      <td>NaN</td>\n",
              "      <td>18.0</td>\n",
              "      <td>0.0</td>\n",
              "      <td>17672.0</td>\n",
              "      <td>48.2%</td>\n",
              "      <td>36.0</td>\n",
              "      <td>w</td>\n",
              "      <td>11594.62</td>\n",
              "      <td>11594.62</td>\n",
              "      <td>846.51</td>\n",
              "      <td>846.51</td>\n",
              "      <td>...</td>\n",
              "      <td>14.3</td>\n",
              "      <td>0.0</td>\n",
              "      <td>0.0</td>\n",
              "      <td>189260.0</td>\n",
              "      <td>106025.0</td>\n",
              "      <td>24400.0</td>\n",
              "      <td>68860.0</td>\n",
              "      <td>NaN</td>\n",
              "      <td>NaN</td>\n",
              "      <td>NaN</td>\n",
              "      <td>NaN</td>\n",
              "      <td>NaN</td>\n",
              "      <td>NaN</td>\n",
              "      <td>NaN</td>\n",
              "      <td>NaN</td>\n",
              "      <td>NaN</td>\n",
              "      <td>NaN</td>\n",
              "      <td>NaN</td>\n",
              "      <td>N</td>\n",
              "      <td>NaN</td>\n",
              "      <td>NaN</td>\n",
              "      <td>NaN</td>\n",
              "      <td>NaN</td>\n",
              "      <td>NaN</td>\n",
              "      <td>NaN</td>\n",
              "      <td>NaN</td>\n",
              "      <td>NaN</td>\n",
              "      <td>NaN</td>\n",
              "      <td>NaN</td>\n",
              "      <td>NaN</td>\n",
              "      <td>NaN</td>\n",
              "      <td>NaN</td>\n",
              "      <td>NaN</td>\n",
              "      <td>N</td>\n",
              "      <td>NaN</td>\n",
              "      <td>NaN</td>\n",
              "      <td>NaN</td>\n",
              "      <td>NaN</td>\n",
              "      <td>NaN</td>\n",
              "      <td>NaN</td>\n",
              "    </tr>\n",
              "  </tbody>\n",
              "</table>\n",
              "<p>5 rows × 144 columns</p>\n",
              "</div>"
            ],
            "text/plain": [
              "    id  member_id  ...  settlement_percentage  settlement_term\n",
              "0  NaN        NaN  ...                    NaN              NaN\n",
              "1  NaN        NaN  ...                    NaN              NaN\n",
              "2  NaN        NaN  ...                    NaN              NaN\n",
              "3  NaN        NaN  ...                    NaN              NaN\n",
              "4  NaN        NaN  ...                    NaN              NaN\n",
              "\n",
              "[5 rows x 144 columns]"
            ]
          },
          "metadata": {
            "tags": []
          },
          "execution_count": 56
        }
      ]
    },
    {
      "cell_type": "code",
      "metadata": {
        "id": "7a08TYqMpcZA",
        "colab_type": "code",
        "outputId": "ef765cdc-b6dd-4121-bad3-385d25fe290c",
        "colab": {
          "base_uri": "https://localhost:8080/",
          "height": 300
        }
      },
      "source": [
        "contingency_table = pd.crosstab(loan['home_ownership'],loan['loan_status'], margins=True)\n",
        "contingency_table"
      ],
      "execution_count": 0,
      "outputs": [
        {
          "output_type": "execute_result",
          "data": {
            "text/html": [
              "<div>\n",
              "<style scoped>\n",
              "    .dataframe tbody tr th:only-of-type {\n",
              "        vertical-align: middle;\n",
              "    }\n",
              "\n",
              "    .dataframe tbody tr th {\n",
              "        vertical-align: top;\n",
              "    }\n",
              "\n",
              "    .dataframe thead th {\n",
              "        text-align: right;\n",
              "    }\n",
              "</style>\n",
              "<table border=\"1\" class=\"dataframe\">\n",
              "  <thead>\n",
              "    <tr style=\"text-align: right;\">\n",
              "      <th>loan_status</th>\n",
              "      <th>Charged Off</th>\n",
              "      <th>Current</th>\n",
              "      <th>Default</th>\n",
              "      <th>Fully Paid</th>\n",
              "      <th>In Grace Period</th>\n",
              "      <th>Late (16-30 days)</th>\n",
              "      <th>Late (31-120 days)</th>\n",
              "      <th>All</th>\n",
              "    </tr>\n",
              "    <tr>\n",
              "      <th>home_ownership</th>\n",
              "      <th></th>\n",
              "      <th></th>\n",
              "      <th></th>\n",
              "      <th></th>\n",
              "      <th></th>\n",
              "      <th></th>\n",
              "      <th></th>\n",
              "      <th></th>\n",
              "    </tr>\n",
              "  </thead>\n",
              "  <tbody>\n",
              "    <tr>\n",
              "      <th>ANY</th>\n",
              "      <td>2</td>\n",
              "      <td>761</td>\n",
              "      <td>0</td>\n",
              "      <td>40</td>\n",
              "      <td>5</td>\n",
              "      <td>3</td>\n",
              "      <td>7</td>\n",
              "      <td>818</td>\n",
              "    </tr>\n",
              "    <tr>\n",
              "      <th>MORTGAGE</th>\n",
              "      <td>110</td>\n",
              "      <td>54372</td>\n",
              "      <td>21</td>\n",
              "      <td>3224</td>\n",
              "      <td>274</td>\n",
              "      <td>142</td>\n",
              "      <td>435</td>\n",
              "      <td>58578</td>\n",
              "    </tr>\n",
              "    <tr>\n",
              "      <th>NONE</th>\n",
              "      <td>0</td>\n",
              "      <td>1</td>\n",
              "      <td>0</td>\n",
              "      <td>0</td>\n",
              "      <td>0</td>\n",
              "      <td>0</td>\n",
              "      <td>0</td>\n",
              "      <td>1</td>\n",
              "    </tr>\n",
              "    <tr>\n",
              "      <th>OWN</th>\n",
              "      <td>52</td>\n",
              "      <td>12187</td>\n",
              "      <td>5</td>\n",
              "      <td>688</td>\n",
              "      <td>46</td>\n",
              "      <td>49</td>\n",
              "      <td>156</td>\n",
              "      <td>13183</td>\n",
              "    </tr>\n",
              "    <tr>\n",
              "      <th>RENT</th>\n",
              "      <td>72</td>\n",
              "      <td>40347</td>\n",
              "      <td>23</td>\n",
              "      <td>1889</td>\n",
              "      <td>172</td>\n",
              "      <td>142</td>\n",
              "      <td>450</td>\n",
              "      <td>43095</td>\n",
              "    </tr>\n",
              "    <tr>\n",
              "      <th>All</th>\n",
              "      <td>236</td>\n",
              "      <td>107668</td>\n",
              "      <td>49</td>\n",
              "      <td>5841</td>\n",
              "      <td>497</td>\n",
              "      <td>336</td>\n",
              "      <td>1048</td>\n",
              "      <td>115675</td>\n",
              "    </tr>\n",
              "  </tbody>\n",
              "</table>\n",
              "</div>"
            ],
            "text/plain": [
              "loan_status     Charged Off  Current  ...  Late (31-120 days)     All\n",
              "home_ownership                        ...                            \n",
              "ANY                       2      761  ...                   7     818\n",
              "MORTGAGE                110    54372  ...                 435   58578\n",
              "NONE                      0        1  ...                   0       1\n",
              "OWN                      52    12187  ...                 156   13183\n",
              "RENT                     72    40347  ...                 450   43095\n",
              "All                     236   107668  ...                1048  115675\n",
              "\n",
              "[6 rows x 8 columns]"
            ]
          },
          "metadata": {
            "tags": []
          },
          "execution_count": 65
        }
      ]
    },
    {
      "cell_type": "code",
      "metadata": {
        "id": "yEZRx-N4rWEK",
        "colab_type": "code",
        "outputId": "1b91be2e-a7ee-4574-a658-909603c86cb2",
        "colab": {
          "base_uri": "https://localhost:8080/",
          "height": 34
        }
      },
      "source": [
        "row_sums = contingency_table.iloc[0:5, 7].values\n",
        "col_sums = contingency_table.iloc[5, 0:7].values\n",
        "row_sums"
      ],
      "execution_count": 0,
      "outputs": [
        {
          "output_type": "execute_result",
          "data": {
            "text/plain": [
              "array([  818, 58578,     1, 13183, 43095])"
            ]
          },
          "metadata": {
            "tags": []
          },
          "execution_count": 72
        }
      ]
    },
    {
      "cell_type": "code",
      "metadata": {
        "id": "pg_oX3HdtaYX",
        "colab_type": "code",
        "outputId": "1d04ffdd-b2a6-4333-9ebd-c16b27c0a044",
        "colab": {
          "base_uri": "https://localhost:8080/",
          "height": 34
        }
      },
      "source": [
        "total = contingency_table.loc['All','All']\n",
        "total"
      ],
      "execution_count": 0,
      "outputs": [
        {
          "output_type": "execute_result",
          "data": {
            "text/plain": [
              "115675"
            ]
          },
          "metadata": {
            "tags": []
          },
          "execution_count": 74
        }
      ]
    },
    {
      "cell_type": "code",
      "metadata": {
        "id": "vVjXUKSFtDho",
        "colab_type": "code",
        "outputId": "80bafca4-d2f8-4629-9c2f-497df60bbffb",
        "colab": {
          "base_uri": "https://localhost:8080/",
          "height": 204
        }
      },
      "source": [
        "#compute\n",
        "expected = []\n",
        "for i in range(len(row_sums)):\n",
        "        expected_row = []\n",
        "        for column in col_sums:\n",
        "            expected_val = column*row_sums[i]/total\n",
        "            expected_row.append(expected_val)\n",
        "        expected.append(expected_row)\n",
        "        \n",
        "expected = np.array(expected)\n",
        "print(expected.shape)\n",
        "print(expected)"
      ],
      "execution_count": 0,
      "outputs": [
        {
          "output_type": "stream",
          "text": [
            "(5, 7)\n",
            "[[1.66888265e+00 7.61378206e+02 3.46505295e-01 4.13048455e+01\n",
            "  3.51455371e+00 2.37603631e+00 7.41097039e+00]\n",
            " [1.19510767e+02 5.45232427e+04 2.48136762e+01 2.95789149e+03\n",
            "  2.51681573e+02 1.70150923e+02 5.30708831e+02]\n",
            " [2.04019883e-03 9.30780203e-01 4.23600605e-04 5.04949211e-02\n",
            "  4.29652042e-03 2.90468986e-03 9.05986600e-03]\n",
            " [2.68959412e+01 1.22704754e+04 5.58432678e+00 6.65674545e+02\n",
            "  5.66410287e+01 3.82925265e+01 1.19436214e+02]\n",
            " [8.79223687e+01 4.01119729e+04 1.82550681e+01 2.17607863e+03\n",
            "  1.85158548e+02 1.25177610e+02 3.90434925e+02]]\n"
          ],
          "name": "stdout"
        }
      ]
    },
    {
      "cell_type": "code",
      "metadata": {
        "id": "H8Ny8hG_tYhF",
        "colab_type": "code",
        "colab": {}
      },
      "source": [
        "observed = pd.crosstab(loan['home_ownership'], loan['loan_status']).values"
      ],
      "execution_count": 0,
      "outputs": []
    },
    {
      "cell_type": "code",
      "metadata": {
        "id": "Jg0aqBPFt5p7",
        "colab_type": "code",
        "outputId": "e855e41e-71a8-48aa-9912-bba141efa5e7",
        "colab": {
          "base_uri": "https://localhost:8080/",
          "height": 119
        }
      },
      "source": [
        "print(observed.shape)\n",
        "observed"
      ],
      "execution_count": 0,
      "outputs": [
        {
          "output_type": "stream",
          "text": [
            "(5, 7)\n"
          ],
          "name": "stdout"
        },
        {
          "output_type": "execute_result",
          "data": {
            "text/plain": [
              "array([[    2,   761,     0,    40,     5,     3,     7],\n",
              "       [  110, 54372,    21,  3224,   274,   142,   435],\n",
              "       [    0,     1,     0,     0,     0,     0,     0],\n",
              "       [   52, 12187,     5,   688,    46,    49,   156],\n",
              "       [   72, 40347,    23,  1889,   172,   142,   450]])"
            ]
          },
          "metadata": {
            "tags": []
          },
          "execution_count": 78
        }
      ]
    },
    {
      "cell_type": "code",
      "metadata": {
        "id": "gpxX8VnMt69P",
        "colab_type": "code",
        "outputId": "d36faf01-587b-494a-ab01-7d3b704c92f3",
        "colab": {
          "base_uri": "https://localhost:8080/",
          "height": 187
        }
      },
      "source": [
        "chi_square = ((observed - expected)**2 / (expected))\n",
        "chi_square"
      ],
      "execution_count": 0,
      "outputs": [
        {
          "output_type": "execute_result",
          "data": {
            "text/plain": [
              "array([[6.56958731e-02, 1.87869727e-04, 3.46505295e-01, 4.12208710e-02,\n",
              "        6.27832401e-01, 1.63857213e-01, 2.27900873e-02],\n",
              "       [7.56874845e-01, 4.19534228e-01, 5.86133485e-01, 2.39406144e+01,\n",
              "        1.97913642e+00, 4.65747963e+00, 1.72602749e+01],\n",
              "       [2.04019883e-03, 5.14770325e-03, 4.23600605e-04, 5.04949211e-02,\n",
              "        4.29652042e-03, 2.90468986e-03, 9.05986600e-03],\n",
              "       [2.34315565e+01, 5.67879011e-01, 6.11421567e-02, 7.48753189e-01,\n",
              "        1.99910728e+00, 2.99405654e+00, 1.11935103e+01],\n",
              "       [2.88347356e+00, 1.37708906e+00, 1.23332210e+00, 3.78727755e+01,\n",
              "        9.35130344e-01, 2.26073031e+00, 9.08729695e+00]])"
            ]
          },
          "metadata": {
            "tags": []
          },
          "execution_count": 80
        }
      ]
    },
    {
      "cell_type": "code",
      "metadata": {
        "id": "cxwp6-CJuB0c",
        "colab_type": "code",
        "outputId": "f07647b6-89e3-4868-9f98-ac49efa14c6b",
        "colab": {
          "base_uri": "https://localhost:8080/",
          "height": 34
        }
      },
      "source": [
        "chi_square.sum()"
      ],
      "execution_count": 0,
      "outputs": [
        {
          "output_type": "execute_result",
          "data": {
            "text/plain": [
              "147.5883277407203"
            ]
          },
          "metadata": {
            "tags": []
          },
          "execution_count": 81
        }
      ]
    },
    {
      "cell_type": "code",
      "metadata": {
        "id": "WJOo5Ea_uE8U",
        "colab_type": "code",
        "outputId": "9e3602b3-bf05-4ff9-a4e8-61050a6d9309",
        "colab": {
          "base_uri": "https://localhost:8080/",
          "height": 207
        }
      },
      "source": [
        "#Using scipy\n",
        "chi_square, p_value, dof, expected = stats.chi2_contingency(observed)\n",
        "print(chi_square, p_value, dof, expected)"
      ],
      "execution_count": 0,
      "outputs": [
        {
          "output_type": "stream",
          "text": [
            "147.5883277407203 9.281620867372023e-20 24 [[1.66888265e+00 7.61378206e+02 3.46505295e-01 4.13048455e+01\n",
            "  3.51455371e+00 2.37603631e+00 7.41097039e+00]\n",
            " [1.19510767e+02 5.45232427e+04 2.48136762e+01 2.95789149e+03\n",
            "  2.51681573e+02 1.70150923e+02 5.30708831e+02]\n",
            " [2.04019883e-03 9.30780203e-01 4.23600605e-04 5.04949211e-02\n",
            "  4.29652042e-03 2.90468986e-03 9.05986600e-03]\n",
            " [2.68959412e+01 1.22704754e+04 5.58432678e+00 6.65674545e+02\n",
            "  5.66410287e+01 3.82925265e+01 1.19436214e+02]\n",
            " [8.79223687e+01 4.01119729e+04 1.82550681e+01 2.17607863e+03\n",
            "  1.85158548e+02 1.25177610e+02 3.90434925e+02]]\n"
          ],
          "name": "stdout"
        }
      ]
    },
    {
      "cell_type": "code",
      "metadata": {
        "id": "OZnscl5wuQvb",
        "colab_type": "code",
        "colab": {}
      },
      "source": [
        "#With a p_value of 9.28 we fail to reject our null hypothesis"
      ],
      "execution_count": 0,
      "outputs": []
    }
  ]
}