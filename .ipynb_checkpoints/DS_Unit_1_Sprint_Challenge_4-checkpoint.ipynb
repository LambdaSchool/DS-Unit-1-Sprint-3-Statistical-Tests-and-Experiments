{
 "cells": [
  {
   "cell_type": "markdown",
   "metadata": {
    "colab_type": "text",
    "id": "NooAiTdnafkz"
   },
   "source": [
    "# Data Science Unit 1 Sprint Challenge 4\n",
    "\n",
    "## Exploring Data, Testing Hypotheses\n",
    "\n",
    "In this sprint challenge you will look at a dataset of people being approved or rejected for credit.\n",
    "\n",
    "https://archive.ics.uci.edu/ml/datasets/Credit+Approval\n",
    "\n",
    "Data Set Information: This file concerns credit card applications. All attribute names and values have been changed to meaningless symbols to protect confidentiality of the data. This dataset is interesting because there is a good mix of attributes -- continuous, nominal with small numbers of values, and nominal with larger numbers of values. There are also a few missing values.\n",
    "\n",
    "Attribute Information:\n",
    "- A1: b, a.\n",
    "- A2: continuous.\n",
    "- A3: continuous.\n",
    "- A4: u, y, l, t.\n",
    "- A5: g, p, gg.\n",
    "- A6: c, d, cc, i, j, k, m, r, q, w, x, e, aa, ff.\n",
    "- A7: v, h, bb, j, n, z, dd, ff, o.\n",
    "- A8: continuous.\n",
    "- A9: t, f.\n",
    "- A10: t, f.\n",
    "- A11: continuous.\n",
    "- A12: t, f.\n",
    "- A13: g, p, s.\n",
    "- A14: continuous.\n",
    "- A15: continuous.\n",
    "- A16: +,- (class attribute)\n",
    "\n",
    "Yes, most of that doesn't mean anything. A16 (the class attribute) is the most interesting, as it separates the 307 approved cases from the 383 rejected cases. The remaining variables have been obfuscated for privacy - a challenge you may have to deal with in your data science career.\n",
    "\n",
    "Sprint challenges are evaluated based on satisfactory completion of each part. It is suggested you work through it in order, getting each aspect reasonably working, before trying to deeply explore, iterate, or refine any given step. Once you get to the end, if you want to go back and improve things, go for it!"
   ]
  },
  {
   "cell_type": "markdown",
   "metadata": {
    "colab_type": "text",
    "id": "5wch6ksCbJtZ"
   },
   "source": [
    "## Part 1 - Load and validate the data\n",
    "\n",
    "- Load the data as a `pandas` data frame.\n",
    "- Validate that it has the appropriate number of observations (you can check the raw file, and also read the dataset description from UCI).\n",
    "- UCI says there should be missing data - check, and if necessary change the data so pandas recognizes it as na\n",
    "- Make sure that the loaded features are of the types described above (continuous values should be treated as float), and correct as necessary\n",
    "\n",
    "This is review, but skills that you'll use at the start of any data exploration. Further, you may have to do some investigation to figure out which file to load from - that is part of the puzzle."
   ]
  },
  {
   "cell_type": "code",
   "execution_count": 108,
   "metadata": {
    "colab": {},
    "colab_type": "code",
    "id": "Q79xDLckzibS"
   },
   "outputs": [],
   "source": [
    "import pandas as pd\n",
    "import numpy as np\n",
    "from scipy import stats\n",
    "import matplotlib.pyplot as plt\n",
    "import seaborn as sns"
   ]
  },
  {
   "cell_type": "code",
   "execution_count": 109,
   "metadata": {},
   "outputs": [
    {
     "data": {
      "text/html": [
       "<div>\n",
       "<style scoped>\n",
       "    .dataframe tbody tr th:only-of-type {\n",
       "        vertical-align: middle;\n",
       "    }\n",
       "\n",
       "    .dataframe tbody tr th {\n",
       "        vertical-align: top;\n",
       "    }\n",
       "\n",
       "    .dataframe thead th {\n",
       "        text-align: right;\n",
       "    }\n",
       "</style>\n",
       "<table border=\"1\" class=\"dataframe\">\n",
       "  <thead>\n",
       "    <tr style=\"text-align: right;\">\n",
       "      <th></th>\n",
       "      <th>0</th>\n",
       "      <th>1</th>\n",
       "      <th>2</th>\n",
       "      <th>3</th>\n",
       "      <th>4</th>\n",
       "      <th>5</th>\n",
       "      <th>6</th>\n",
       "      <th>7</th>\n",
       "      <th>8</th>\n",
       "      <th>9</th>\n",
       "      <th>10</th>\n",
       "      <th>11</th>\n",
       "      <th>12</th>\n",
       "      <th>13</th>\n",
       "      <th>14</th>\n",
       "      <th>15</th>\n",
       "    </tr>\n",
       "  </thead>\n",
       "  <tbody>\n",
       "    <tr>\n",
       "      <th>0</th>\n",
       "      <td>b</td>\n",
       "      <td>30.83</td>\n",
       "      <td>0.000</td>\n",
       "      <td>u</td>\n",
       "      <td>g</td>\n",
       "      <td>w</td>\n",
       "      <td>v</td>\n",
       "      <td>1.25</td>\n",
       "      <td>t</td>\n",
       "      <td>t</td>\n",
       "      <td>1</td>\n",
       "      <td>f</td>\n",
       "      <td>g</td>\n",
       "      <td>202.0</td>\n",
       "      <td>0</td>\n",
       "      <td>+</td>\n",
       "    </tr>\n",
       "    <tr>\n",
       "      <th>1</th>\n",
       "      <td>a</td>\n",
       "      <td>58.67</td>\n",
       "      <td>4.460</td>\n",
       "      <td>u</td>\n",
       "      <td>g</td>\n",
       "      <td>q</td>\n",
       "      <td>h</td>\n",
       "      <td>3.04</td>\n",
       "      <td>t</td>\n",
       "      <td>t</td>\n",
       "      <td>6</td>\n",
       "      <td>f</td>\n",
       "      <td>g</td>\n",
       "      <td>43.0</td>\n",
       "      <td>560</td>\n",
       "      <td>+</td>\n",
       "    </tr>\n",
       "    <tr>\n",
       "      <th>2</th>\n",
       "      <td>a</td>\n",
       "      <td>24.50</td>\n",
       "      <td>0.500</td>\n",
       "      <td>u</td>\n",
       "      <td>g</td>\n",
       "      <td>q</td>\n",
       "      <td>h</td>\n",
       "      <td>1.50</td>\n",
       "      <td>t</td>\n",
       "      <td>f</td>\n",
       "      <td>0</td>\n",
       "      <td>f</td>\n",
       "      <td>g</td>\n",
       "      <td>280.0</td>\n",
       "      <td>824</td>\n",
       "      <td>+</td>\n",
       "    </tr>\n",
       "    <tr>\n",
       "      <th>3</th>\n",
       "      <td>b</td>\n",
       "      <td>27.83</td>\n",
       "      <td>1.540</td>\n",
       "      <td>u</td>\n",
       "      <td>g</td>\n",
       "      <td>w</td>\n",
       "      <td>v</td>\n",
       "      <td>3.75</td>\n",
       "      <td>t</td>\n",
       "      <td>t</td>\n",
       "      <td>5</td>\n",
       "      <td>t</td>\n",
       "      <td>g</td>\n",
       "      <td>100.0</td>\n",
       "      <td>3</td>\n",
       "      <td>+</td>\n",
       "    </tr>\n",
       "    <tr>\n",
       "      <th>4</th>\n",
       "      <td>b</td>\n",
       "      <td>20.17</td>\n",
       "      <td>5.625</td>\n",
       "      <td>u</td>\n",
       "      <td>g</td>\n",
       "      <td>w</td>\n",
       "      <td>v</td>\n",
       "      <td>1.71</td>\n",
       "      <td>t</td>\n",
       "      <td>f</td>\n",
       "      <td>0</td>\n",
       "      <td>f</td>\n",
       "      <td>s</td>\n",
       "      <td>120.0</td>\n",
       "      <td>0</td>\n",
       "      <td>+</td>\n",
       "    </tr>\n",
       "  </tbody>\n",
       "</table>\n",
       "</div>"
      ],
      "text/plain": [
       "  0      1      2  3  4  5  6     7  8  9   10 11 12     13   14 15\n",
       "0  b  30.83  0.000  u  g  w  v  1.25  t  t   1  f  g  202.0    0  +\n",
       "1  a  58.67  4.460  u  g  q  h  3.04  t  t   6  f  g   43.0  560  +\n",
       "2  a  24.50  0.500  u  g  q  h  1.50  t  f   0  f  g  280.0  824  +\n",
       "3  b  27.83  1.540  u  g  w  v  3.75  t  t   5  t  g  100.0    3  +\n",
       "4  b  20.17  5.625  u  g  w  v  1.71  t  f   0  f  s  120.0    0  +"
      ]
     },
     "execution_count": 109,
     "metadata": {},
     "output_type": "execute_result"
    }
   ],
   "source": [
    "rawdata = pd.read_csv('https://archive.ics.uci.edu/ml/machine-learning-databases/credit-screening/crx.data', header = None, na_values='?' )\n",
    "rawdata.head()"
   ]
  },
  {
   "cell_type": "code",
   "execution_count": 110,
   "metadata": {},
   "outputs": [],
   "source": [
    "### Null values have been processed out by read_csv, and dropped as there were less than 40\n",
    "prodf = rawdata.dropna()\n",
    "\n",
    "#prodf[1] = prodf[1].replace({'?' : 0 })\n",
    "#prodf[1] = prodf[1].astype('float64')"
   ]
  },
  {
   "cell_type": "code",
   "execution_count": 111,
   "metadata": {},
   "outputs": [
    {
     "name": "stdout",
     "output_type": "stream",
     "text": [
      "<class 'pandas.core.frame.DataFrame'>\n",
      "Int64Index: 653 entries, 0 to 689\n",
      "Data columns (total 16 columns):\n",
      "0     653 non-null object\n",
      "1     653 non-null float64\n",
      "2     653 non-null float64\n",
      "3     653 non-null object\n",
      "4     653 non-null object\n",
      "5     653 non-null object\n",
      "6     653 non-null object\n",
      "7     653 non-null float64\n",
      "8     653 non-null object\n",
      "9     653 non-null object\n",
      "10    653 non-null int64\n",
      "11    653 non-null object\n",
      "12    653 non-null object\n",
      "13    653 non-null float64\n",
      "14    653 non-null int64\n",
      "15    653 non-null object\n",
      "dtypes: float64(4), int64(2), object(10)\n",
      "memory usage: 86.7+ KB\n"
     ]
    }
   ],
   "source": [
    "### Verified all Data types are proper types for the data.\n",
    "prodf.info()"
   ]
  },
  {
   "cell_type": "code",
   "execution_count": null,
   "metadata": {},
   "outputs": [],
   "source": []
  },
  {
   "cell_type": "code",
   "execution_count": null,
   "metadata": {},
   "outputs": [],
   "source": []
  },
  {
   "cell_type": "code",
   "execution_count": 115,
   "metadata": {},
   "outputs": [
    {
     "name": "stdout",
     "output_type": "stream",
     "text": [
      "<class 'pandas.core.frame.DataFrame'>\n",
      "Int64Index: 653 entries, 0 to 689\n",
      "Data columns (total 16 columns):\n",
      "0     653 non-null object\n",
      "1     653 non-null float64\n",
      "2     653 non-null float64\n",
      "3     653 non-null object\n",
      "4     653 non-null object\n",
      "5     653 non-null object\n",
      "6     653 non-null object\n",
      "7     653 non-null float64\n",
      "8     653 non-null object\n",
      "9     653 non-null object\n",
      "10    653 non-null int64\n",
      "11    653 non-null object\n",
      "12    653 non-null object\n",
      "13    653 non-null float64\n",
      "14    653 non-null int64\n",
      "15    653 non-null object\n",
      "dtypes: float64(4), int64(2), object(10)\n",
      "memory usage: 106.7+ KB\n"
     ]
    }
   ],
   "source": [
    "prodf.info()"
   ]
  },
  {
   "cell_type": "code",
   "execution_count": 117,
   "metadata": {
    "colab": {},
    "colab_type": "code",
    "id": "_nqcgc0yzm68"
   },
   "outputs": [],
   "source": [
    "approved = prodf.set_index(15).loc['+']\n",
    "denied= prodf.set_index(15).loc['-']"
   ]
  },
  {
   "cell_type": "code",
   "execution_count": 118,
   "metadata": {},
   "outputs": [],
   "source": [
    "deniedreshape = denied.sample(296)"
   ]
  },
  {
   "cell_type": "markdown",
   "metadata": {
    "colab_type": "text",
    "id": "G7rLytbrO38L"
   },
   "source": [
    "## Part 2 - Exploring data, Testing hypotheses\n",
    "\n",
    "The only thing we really know about this data is that A16 is the class label. Besides that, we have 6 continuous (float) features and 9 categorical features.\n",
    "\n",
    "Explore the data: you can use whatever approach (tables, utility functions, visualizations) to get an impression of the distributions and relationships of the variables. In general, your goal is to understand how the features are different when grouped by the two class labels (`+` and `-`).\n",
    "\n",
    "For the 6 continuous features, how are they different when split between the two class labels? Choose two features to run t-tests (again split by class label) - specifically, select one feature that is *extremely* different between the classes, and another feature that is notably less different (though perhaps still \"statistically significantly\" different). You may have to explore more than two features to do this.\n",
    "\n",
    "For the categorical features, explore by creating \"cross tabs\" (aka [contingency tables](https://en.wikipedia.org/wiki/Contingency_table)) between them and the class label, and apply the Chi-squared test to them. [pandas.crosstab](http://pandas.pydata.org/pandas-docs/stable/reference/api/pandas.crosstab.html) can create contingency tables, and [scipy.stats.chi2_contingency](https://docs.scipy.org/doc/scipy/reference/generated/scipy.stats.chi2_contingency.html) can calculate the Chi-squared statistic for them.\n",
    "\n",
    "There are 9 categorical features - as with the t-test, try to find one where the Chi-squared test returns an extreme result (rejecting the null that the data are independent), and one where it is less extreme.\n",
    "\n",
    "**NOTE** - \"less extreme\" just means smaller test statistic/larger p-value. Even the least extreme differences may be strongly statistically significant.\n",
    "\n",
    "Your *main* goal is the hypothesis tests, so don't spend too much time on the exploration/visualization piece. That is just a means to an end - use simple visualizations, such as boxplots or a scatter matrix (both built in to pandas), to get a feel for the overall distribution of the variables.\n",
    "\n",
    "This is challenging, so manage your time and aim for a baseline of at least running two t-tests and two Chi-squared tests before polishing. And don't forget to answer the questions in part 3, even if your results in this part aren't what you want them to be."
   ]
  },
  {
   "cell_type": "code",
   "execution_count": 119,
   "metadata": {},
   "outputs": [
    {
     "data": {
      "text/html": [
       "<div>\n",
       "<style scoped>\n",
       "    .dataframe tbody tr th:only-of-type {\n",
       "        vertical-align: middle;\n",
       "    }\n",
       "\n",
       "    .dataframe tbody tr th {\n",
       "        vertical-align: top;\n",
       "    }\n",
       "\n",
       "    .dataframe thead th {\n",
       "        text-align: right;\n",
       "    }\n",
       "</style>\n",
       "<table border=\"1\" class=\"dataframe\">\n",
       "  <thead>\n",
       "    <tr style=\"text-align: right;\">\n",
       "      <th></th>\n",
       "      <th>1</th>\n",
       "      <th>2</th>\n",
       "      <th>7</th>\n",
       "      <th>10</th>\n",
       "      <th>13</th>\n",
       "      <th>14</th>\n",
       "    </tr>\n",
       "  </thead>\n",
       "  <tbody>\n",
       "    <tr>\n",
       "      <th>count</th>\n",
       "      <td>357.000000</td>\n",
       "      <td>357.000000</td>\n",
       "      <td>357.000000</td>\n",
       "      <td>357.000000</td>\n",
       "      <td>357.000000</td>\n",
       "      <td>357.000000</td>\n",
       "    </tr>\n",
       "    <tr>\n",
       "      <th>mean</th>\n",
       "      <td>29.562269</td>\n",
       "      <td>3.882325</td>\n",
       "      <td>1.223725</td>\n",
       "      <td>0.666667</td>\n",
       "      <td>193.408964</td>\n",
       "      <td>187.974790</td>\n",
       "    </tr>\n",
       "    <tr>\n",
       "      <th>std</th>\n",
       "      <td>10.719168</td>\n",
       "      <td>4.393079</td>\n",
       "      <td>2.029272</td>\n",
       "      <td>1.958368</td>\n",
       "      <td>172.057953</td>\n",
       "      <td>632.781715</td>\n",
       "    </tr>\n",
       "    <tr>\n",
       "      <th>min</th>\n",
       "      <td>15.170000</td>\n",
       "      <td>0.000000</td>\n",
       "      <td>0.000000</td>\n",
       "      <td>0.000000</td>\n",
       "      <td>0.000000</td>\n",
       "      <td>0.000000</td>\n",
       "    </tr>\n",
       "    <tr>\n",
       "      <th>25%</th>\n",
       "      <td>21.920000</td>\n",
       "      <td>0.835000</td>\n",
       "      <td>0.125000</td>\n",
       "      <td>0.000000</td>\n",
       "      <td>100.000000</td>\n",
       "      <td>0.000000</td>\n",
       "    </tr>\n",
       "    <tr>\n",
       "      <th>50%</th>\n",
       "      <td>26.920000</td>\n",
       "      <td>2.210000</td>\n",
       "      <td>0.455000</td>\n",
       "      <td>0.000000</td>\n",
       "      <td>160.000000</td>\n",
       "      <td>1.000000</td>\n",
       "    </tr>\n",
       "    <tr>\n",
       "      <th>75%</th>\n",
       "      <td>34.830000</td>\n",
       "      <td>5.000000</td>\n",
       "      <td>1.500000</td>\n",
       "      <td>0.000000</td>\n",
       "      <td>260.000000</td>\n",
       "      <td>67.000000</td>\n",
       "    </tr>\n",
       "    <tr>\n",
       "      <th>max</th>\n",
       "      <td>74.830000</td>\n",
       "      <td>26.335000</td>\n",
       "      <td>13.875000</td>\n",
       "      <td>20.000000</td>\n",
       "      <td>2000.000000</td>\n",
       "      <td>5552.000000</td>\n",
       "    </tr>\n",
       "  </tbody>\n",
       "</table>\n",
       "</div>"
      ],
      "text/plain": [
       "               1           2           7           10           13  \\\n",
       "count  357.000000  357.000000  357.000000  357.000000   357.000000   \n",
       "mean    29.562269    3.882325    1.223725    0.666667   193.408964   \n",
       "std     10.719168    4.393079    2.029272    1.958368   172.057953   \n",
       "min     15.170000    0.000000    0.000000    0.000000     0.000000   \n",
       "25%     21.920000    0.835000    0.125000    0.000000   100.000000   \n",
       "50%     26.920000    2.210000    0.455000    0.000000   160.000000   \n",
       "75%     34.830000    5.000000    1.500000    0.000000   260.000000   \n",
       "max     74.830000   26.335000   13.875000   20.000000  2000.000000   \n",
       "\n",
       "                14  \n",
       "count   357.000000  \n",
       "mean    187.974790  \n",
       "std     632.781715  \n",
       "min       0.000000  \n",
       "25%       0.000000  \n",
       "50%       1.000000  \n",
       "75%      67.000000  \n",
       "max    5552.000000  "
      ]
     },
     "execution_count": 119,
     "metadata": {},
     "output_type": "execute_result"
    }
   ],
   "source": [
    "### Here I looked at the describe for approved and denied\n",
    "## The numbers total rows look right given we dropped rows\n",
    "# to account for removal of missing data\n",
    "denied.describe()"
   ]
  },
  {
   "cell_type": "code",
   "execution_count": 120,
   "metadata": {},
   "outputs": [
    {
     "name": "stdout",
     "output_type": "stream",
     "text": [
      "Ttest_indResult(statistic=4.675662433767456, pvalue=3.5636710933835225e-06)\n",
      "Ttest_indResult(statistic=41.70770888725881, pvalue=4.8343631550153686e-186)\n",
      "Ttest_indResult(statistic=47.84869801510857, pvalue=2.504675918200311e-215)\n",
      "Ttest_indResult(statistic=48.71587246269441, pvalue=2.6769205487671732e-219)\n",
      "Ttest_indResult(statistic=-15.917363365420258, pvalue=1.998528849011954e-48)\n",
      "Ttest_indResult(statistic=-4.189361651980531, pvalue=3.1833621024781186e-05)\n"
     ]
    }
   ],
   "source": [
    "### Two features to perform t-tests on\n",
    "### Continuious cols 1,2,7,10,13,14\n",
    "### Selecting 1 and 2 first run.\n",
    "# Stats vs col1\n",
    "print(stats.ttest_ind(approved[1], denied[1]))\n",
    "print(stats.ttest_ind(approved[1], denied[2]))\n",
    "print(stats.ttest_ind(approved[1], denied[7]))\n",
    "print(stats.ttest_ind(approved[1], denied[10]))\n",
    "print(stats.ttest_ind(approved[1], denied[13]))\n",
    "print(stats.ttest_ind(approved[1], denied[14]))"
   ]
  },
  {
   "cell_type": "code",
   "execution_count": 121,
   "metadata": {},
   "outputs": [
    {
     "name": "stdout",
     "output_type": "stream",
     "text": [
      "Ttest_indResult(statistic=-34.3094252154283, pvalue=4.2364338388163675e-148)\n",
      "Ttest_indResult(statistic=5.400813416576192, pvalue=9.310154396147606e-08)\n",
      "Ttest_indResult(statistic=15.137034390012895, pvalue=1.4321769909454175e-44)\n",
      "Ttest_indResult(statistic=16.99562205464368, pvalue=6.911436499141369e-54)\n",
      "Ttest_indResult(statistic=-18.73208816459629, pvalue=5.95814002536821e-63)\n",
      "Ttest_indResult(statistic=-4.947656863930696, pvalue=9.574240748916835e-07)\n"
     ]
    }
   ],
   "source": [
    "# Stats vs col2\n",
    "print(stats.ttest_ind(approved[2], denied[1]))\n",
    "print(stats.ttest_ind(approved[2], denied[2]))\n",
    "print(stats.ttest_ind(approved[2], denied[7]))\n",
    "print(stats.ttest_ind(approved[2], denied[10]))\n",
    "print(stats.ttest_ind(approved[2], denied[13]))\n",
    "print(stats.ttest_ind(approved[2], denied[14]))"
   ]
  },
  {
   "cell_type": "code",
   "execution_count": 122,
   "metadata": {},
   "outputs": [
    {
     "name": "stdout",
     "output_type": "stream",
     "text": [
      "Ttest_indResult(statistic=-39.46650475763361, pvalue=7.59839619468712e-175)\n",
      "Ttest_indResult(statistic=-1.2066404343386705, pvalue=0.2280089363557633)\n",
      "Ttest_indResult(statistic=9.002392498622463, pvalue=2.4079238505859142e-18)\n",
      "Ttest_indResult(statistic=11.31654040035709, pvalue=3.1425211938241377e-27)\n",
      "Ttest_indResult(statistic=-18.985008152963744, pvalue=2.7025329665436104e-64)\n",
      "Ttest_indResult(statistic=-5.015596391322104, pvalue=6.826706199757547e-07)\n"
     ]
    }
   ],
   "source": [
    "# Stats vs col7\n",
    "print(stats.ttest_ind(approved[7], denied[1]))\n",
    "print(stats.ttest_ind(approved[7], denied[2]))\n",
    "print(stats.ttest_ind(approved[7], denied[7]))\n",
    "print(stats.ttest_ind(approved[7], denied[10]))\n",
    "print(stats.ttest_ind(approved[7], denied[13]))\n",
    "print(stats.ttest_ind(approved[7], denied[14]))"
   ]
  },
  {
   "cell_type": "code",
   "execution_count": 123,
   "metadata": {},
   "outputs": [
    {
     "name": "stdout",
     "output_type": "stream",
     "text": [
      "Ttest_indResult(statistic=-35.03580998767144, pvalue=6.046316600019918e-152)\n",
      "Ttest_indResult(statistic=1.966332728198669, pvalue=0.04968465285777108)\n",
      "Ttest_indResult(statistic=9.741039442583531, pvalue=5.054078383012518e-21)\n",
      "Ttest_indResult(statistic=11.336964562239809, pvalue=2.5864649620278843e-27)\n",
      "Ttest_indResult(statistic=-18.854744381818552, pvalue=1.3313487699183008e-63)\n",
      "Ttest_indResult(statistic=-4.981737662086176, pvalue=8.084120229480945e-07)\n"
     ]
    }
   ],
   "source": [
    "# Stats vs col10\n",
    "print(stats.ttest_ind(approved[10], denied[1]))\n",
    "print(stats.ttest_ind(approved[10], denied[2]))\n",
    "print(stats.ttest_ind(approved[10], denied[7]))\n",
    "print(stats.ttest_ind(approved[10], denied[10]))\n",
    "print(stats.ttest_ind(approved[10], denied[13]))\n",
    "print(stats.ttest_ind(approved[10], denied[14]))"
   ]
  },
  {
   "cell_type": "code",
   "execution_count": 124,
   "metadata": {},
   "outputs": [
    {
     "name": "stdout",
     "output_type": "stream",
     "text": [
      "Ttest_indResult(statistic=15.661059191190134, pvalue=3.7721515589055855e-47)\n",
      "Ttest_indResult(statistic=18.6794399397254, pvalue=1.1326148625744884e-62)\n",
      "Ttest_indResult(statistic=18.99497562060533, pvalue=2.3918025109112593e-64)\n",
      "Ttest_indResult(statistic=19.05985665836937, pvalue=1.0795566182342852e-64)\n",
      "Ttest_indResult(statistic=-2.18221936438708, pvalue=0.029450100409286473)\n",
      "Ttest_indResult(statistic=-0.6181886755632993, pvalue=0.5366671847142042)\n"
     ]
    }
   ],
   "source": [
    "# Stats vs col13\n",
    "print(stats.ttest_ind(approved[13], denied[1]))\n",
    "print(stats.ttest_ind(approved[13], denied[2]))\n",
    "print(stats.ttest_ind(approved[13], denied[7]))\n",
    "print(stats.ttest_ind(approved[13], denied[10]))\n",
    "print(stats.ttest_ind(approved[13], denied[13]))\n",
    "print(stats.ttest_ind(approved[13], denied[14]))"
   ]
  },
  {
   "cell_type": "code",
   "execution_count": 125,
   "metadata": {},
   "outputs": [
    {
     "name": "stdout",
     "output_type": "stream",
     "text": [
      "Ttest_indResult(statistic=4.8845093354832105, pvalue=1.3064482158960774e-06)\n",
      "Ttest_indResult(statistic=4.9478594168996635, pvalue=9.564647277077762e-07)\n",
      "Ttest_indResult(statistic=4.954418215669766, pvalue=9.258969044913453e-07)\n",
      "Ttest_indResult(statistic=4.9557923394975365, pvalue=9.196132155619521e-07)\n",
      "Ttest_indResult(statistic=4.478987792063757, pvalue=8.857162269574647e-06)\n",
      "Ttest_indResult(statistic=4.475369764700449, pvalue=9.003915641872878e-06)\n"
     ]
    }
   ],
   "source": [
    "# Stats vs col14\n",
    "print(stats.ttest_ind(approved[14], denied[1]))\n",
    "print(stats.ttest_ind(approved[14], denied[2]))\n",
    "print(stats.ttest_ind(approved[14], denied[7]))\n",
    "print(stats.ttest_ind(approved[14], denied[10]))\n",
    "print(stats.ttest_ind(approved[14], denied[13]))\n",
    "print(stats.ttest_ind(approved[14], denied[14]))"
   ]
  },
  {
   "cell_type": "code",
   "execution_count": 126,
   "metadata": {},
   "outputs": [],
   "source": [
    "### Alright, Now that we have all the t-test stats we can begin to compare\n",
    "# Approved 1, approved 2, approved 10, and approved 14 show no statistic correlation to any of the denied columns\n",
    "# Approved 7, and 13 show signifigance to denied columns 2 and 14 respectively.\n",
    "# Approved 7 vs Denied 2\n",
    "# Approved 13 vs denied 14"
   ]
  },
  {
   "cell_type": "code",
   "execution_count": 127,
   "metadata": {},
   "outputs": [
    {
     "data": {
      "text/html": [
       "<div>\n",
       "<style scoped>\n",
       "    .dataframe tbody tr th:only-of-type {\n",
       "        vertical-align: middle;\n",
       "    }\n",
       "\n",
       "    .dataframe tbody tr th {\n",
       "        vertical-align: top;\n",
       "    }\n",
       "\n",
       "    .dataframe thead th {\n",
       "        text-align: right;\n",
       "    }\n",
       "</style>\n",
       "<table border=\"1\" class=\"dataframe\">\n",
       "  <thead>\n",
       "    <tr style=\"text-align: right;\">\n",
       "      <th></th>\n",
       "      <th>__dummy__</th>\n",
       "      <th>__dummy__</th>\n",
       "    </tr>\n",
       "    <tr>\n",
       "      <th>15</th>\n",
       "      <th></th>\n",
       "      <th></th>\n",
       "    </tr>\n",
       "  </thead>\n",
       "  <tbody>\n",
       "    <tr>\n",
       "      <th>+</th>\n",
       "      <td>98</td>\n",
       "      <td>206</td>\n",
       "    </tr>\n",
       "    <tr>\n",
       "      <th>-</th>\n",
       "      <td>112</td>\n",
       "      <td>262</td>\n",
       "    </tr>\n",
       "  </tbody>\n",
       "</table>\n",
       "</div>"
      ],
      "text/plain": [
       "    __dummy__  __dummy__\n",
       "15                      \n",
       "+          98        206\n",
       "-         112        262"
      ]
     },
     "execution_count": 127,
     "metadata": {},
     "output_type": "execute_result"
    }
   ],
   "source": [
    "pd.crosstab(rawdata[15],rawdata[0])\n"
   ]
  },
  {
   "cell_type": "code",
   "execution_count": 128,
   "metadata": {},
   "outputs": [
    {
     "data": {
      "text/html": [
       "<div>\n",
       "<style scoped>\n",
       "    .dataframe tbody tr th:only-of-type {\n",
       "        vertical-align: middle;\n",
       "    }\n",
       "\n",
       "    .dataframe tbody tr th {\n",
       "        vertical-align: top;\n",
       "    }\n",
       "\n",
       "    .dataframe thead th {\n",
       "        text-align: right;\n",
       "    }\n",
       "</style>\n",
       "<table border=\"1\" class=\"dataframe\">\n",
       "  <thead>\n",
       "    <tr style=\"text-align: right;\">\n",
       "      <th>3</th>\n",
       "      <th>l</th>\n",
       "      <th>u</th>\n",
       "      <th>y</th>\n",
       "    </tr>\n",
       "    <tr>\n",
       "      <th>15</th>\n",
       "      <th></th>\n",
       "      <th></th>\n",
       "      <th></th>\n",
       "    </tr>\n",
       "  </thead>\n",
       "  <tbody>\n",
       "    <tr>\n",
       "      <th>+</th>\n",
       "      <td>2</td>\n",
       "      <td>256</td>\n",
       "      <td>45</td>\n",
       "    </tr>\n",
       "    <tr>\n",
       "      <th>-</th>\n",
       "      <td>0</td>\n",
       "      <td>263</td>\n",
       "      <td>118</td>\n",
       "    </tr>\n",
       "  </tbody>\n",
       "</table>\n",
       "</div>"
      ],
      "text/plain": [
       "3   l    u    y\n",
       "15             \n",
       "+   2  256   45\n",
       "-   0  263  118"
      ]
     },
     "execution_count": 128,
     "metadata": {},
     "output_type": "execute_result"
    }
   ],
   "source": [
    "pd.crosstab(rawdata[15],rawdata[3])\n"
   ]
  },
  {
   "cell_type": "code",
   "execution_count": 129,
   "metadata": {},
   "outputs": [
    {
     "data": {
      "text/html": [
       "<div>\n",
       "<style scoped>\n",
       "    .dataframe tbody tr th:only-of-type {\n",
       "        vertical-align: middle;\n",
       "    }\n",
       "\n",
       "    .dataframe tbody tr th {\n",
       "        vertical-align: top;\n",
       "    }\n",
       "\n",
       "    .dataframe thead th {\n",
       "        text-align: right;\n",
       "    }\n",
       "</style>\n",
       "<table border=\"1\" class=\"dataframe\">\n",
       "  <thead>\n",
       "    <tr style=\"text-align: right;\">\n",
       "      <th>4</th>\n",
       "      <th>g</th>\n",
       "      <th>gg</th>\n",
       "      <th>p</th>\n",
       "    </tr>\n",
       "    <tr>\n",
       "      <th>15</th>\n",
       "      <th></th>\n",
       "      <th></th>\n",
       "      <th></th>\n",
       "    </tr>\n",
       "  </thead>\n",
       "  <tbody>\n",
       "    <tr>\n",
       "      <th>+</th>\n",
       "      <td>256</td>\n",
       "      <td>2</td>\n",
       "      <td>45</td>\n",
       "    </tr>\n",
       "    <tr>\n",
       "      <th>-</th>\n",
       "      <td>263</td>\n",
       "      <td>0</td>\n",
       "      <td>118</td>\n",
       "    </tr>\n",
       "  </tbody>\n",
       "</table>\n",
       "</div>"
      ],
      "text/plain": [
       "4     g  gg    p\n",
       "15              \n",
       "+   256   2   45\n",
       "-   263   0  118"
      ]
     },
     "execution_count": 129,
     "metadata": {},
     "output_type": "execute_result"
    }
   ],
   "source": [
    "pd.crosstab(rawdata[15],rawdata[4])\n"
   ]
  },
  {
   "cell_type": "code",
   "execution_count": 130,
   "metadata": {},
   "outputs": [
    {
     "data": {
      "text/html": [
       "<div>\n",
       "<style scoped>\n",
       "    .dataframe tbody tr th:only-of-type {\n",
       "        vertical-align: middle;\n",
       "    }\n",
       "\n",
       "    .dataframe tbody tr th {\n",
       "        vertical-align: top;\n",
       "    }\n",
       "\n",
       "    .dataframe thead th {\n",
       "        text-align: right;\n",
       "    }\n",
       "</style>\n",
       "<table border=\"1\" class=\"dataframe\">\n",
       "  <thead>\n",
       "    <tr style=\"text-align: right;\">\n",
       "      <th>5</th>\n",
       "      <th>aa</th>\n",
       "      <th>c</th>\n",
       "      <th>cc</th>\n",
       "      <th>d</th>\n",
       "      <th>e</th>\n",
       "      <th>ff</th>\n",
       "      <th>i</th>\n",
       "      <th>j</th>\n",
       "      <th>k</th>\n",
       "      <th>m</th>\n",
       "      <th>q</th>\n",
       "      <th>r</th>\n",
       "      <th>w</th>\n",
       "      <th>x</th>\n",
       "    </tr>\n",
       "    <tr>\n",
       "      <th>15</th>\n",
       "      <th></th>\n",
       "      <th></th>\n",
       "      <th></th>\n",
       "      <th></th>\n",
       "      <th></th>\n",
       "      <th></th>\n",
       "      <th></th>\n",
       "      <th></th>\n",
       "      <th></th>\n",
       "      <th></th>\n",
       "      <th></th>\n",
       "      <th></th>\n",
       "      <th></th>\n",
       "      <th></th>\n",
       "    </tr>\n",
       "  </thead>\n",
       "  <tbody>\n",
       "    <tr>\n",
       "      <th>+</th>\n",
       "      <td>19</td>\n",
       "      <td>62</td>\n",
       "      <td>29</td>\n",
       "      <td>7</td>\n",
       "      <td>14</td>\n",
       "      <td>7</td>\n",
       "      <td>14</td>\n",
       "      <td>3</td>\n",
       "      <td>14</td>\n",
       "      <td>16</td>\n",
       "      <td>51</td>\n",
       "      <td>2</td>\n",
       "      <td>33</td>\n",
       "      <td>32</td>\n",
       "    </tr>\n",
       "    <tr>\n",
       "      <th>-</th>\n",
       "      <td>35</td>\n",
       "      <td>75</td>\n",
       "      <td>12</td>\n",
       "      <td>23</td>\n",
       "      <td>11</td>\n",
       "      <td>46</td>\n",
       "      <td>45</td>\n",
       "      <td>7</td>\n",
       "      <td>37</td>\n",
       "      <td>22</td>\n",
       "      <td>27</td>\n",
       "      <td>1</td>\n",
       "      <td>31</td>\n",
       "      <td>6</td>\n",
       "    </tr>\n",
       "  </tbody>\n",
       "</table>\n",
       "</div>"
      ],
      "text/plain": [
       "5   aa   c  cc   d   e  ff   i  j   k   m   q  r   w   x\n",
       "15                                                      \n",
       "+   19  62  29   7  14   7  14  3  14  16  51  2  33  32\n",
       "-   35  75  12  23  11  46  45  7  37  22  27  1  31   6"
      ]
     },
     "execution_count": 130,
     "metadata": {},
     "output_type": "execute_result"
    }
   ],
   "source": [
    "pd.crosstab(rawdata[15],rawdata[5])\n"
   ]
  },
  {
   "cell_type": "code",
   "execution_count": 131,
   "metadata": {},
   "outputs": [
    {
     "data": {
      "text/html": [
       "<div>\n",
       "<style scoped>\n",
       "    .dataframe tbody tr th:only-of-type {\n",
       "        vertical-align: middle;\n",
       "    }\n",
       "\n",
       "    .dataframe tbody tr th {\n",
       "        vertical-align: top;\n",
       "    }\n",
       "\n",
       "    .dataframe thead th {\n",
       "        text-align: right;\n",
       "    }\n",
       "</style>\n",
       "<table border=\"1\" class=\"dataframe\">\n",
       "  <thead>\n",
       "    <tr style=\"text-align: right;\">\n",
       "      <th>6</th>\n",
       "      <th>bb</th>\n",
       "      <th>dd</th>\n",
       "      <th>ff</th>\n",
       "      <th>h</th>\n",
       "      <th>j</th>\n",
       "      <th>n</th>\n",
       "      <th>o</th>\n",
       "      <th>v</th>\n",
       "      <th>z</th>\n",
       "    </tr>\n",
       "    <tr>\n",
       "      <th>15</th>\n",
       "      <th></th>\n",
       "      <th></th>\n",
       "      <th></th>\n",
       "      <th></th>\n",
       "      <th></th>\n",
       "      <th></th>\n",
       "      <th></th>\n",
       "      <th></th>\n",
       "      <th></th>\n",
       "    </tr>\n",
       "  </thead>\n",
       "  <tbody>\n",
       "    <tr>\n",
       "      <th>+</th>\n",
       "      <td>25</td>\n",
       "      <td>2</td>\n",
       "      <td>8</td>\n",
       "      <td>87</td>\n",
       "      <td>3</td>\n",
       "      <td>2</td>\n",
       "      <td>1</td>\n",
       "      <td>169</td>\n",
       "      <td>6</td>\n",
       "    </tr>\n",
       "    <tr>\n",
       "      <th>-</th>\n",
       "      <td>34</td>\n",
       "      <td>4</td>\n",
       "      <td>49</td>\n",
       "      <td>51</td>\n",
       "      <td>5</td>\n",
       "      <td>2</td>\n",
       "      <td>1</td>\n",
       "      <td>230</td>\n",
       "      <td>2</td>\n",
       "    </tr>\n",
       "  </tbody>\n",
       "</table>\n",
       "</div>"
      ],
      "text/plain": [
       "6   bb  dd  ff   h  j  n  o    v  z\n",
       "15                                 \n",
       "+   25   2   8  87  3  2  1  169  6\n",
       "-   34   4  49  51  5  2  1  230  2"
      ]
     },
     "execution_count": 131,
     "metadata": {},
     "output_type": "execute_result"
    }
   ],
   "source": [
    "pd.crosstab(rawdata[15],rawdata[6])"
   ]
  },
  {
   "cell_type": "code",
   "execution_count": 132,
   "metadata": {},
   "outputs": [
    {
     "data": {
      "text/html": [
       "<div>\n",
       "<style scoped>\n",
       "    .dataframe tbody tr th:only-of-type {\n",
       "        vertical-align: middle;\n",
       "    }\n",
       "\n",
       "    .dataframe tbody tr th {\n",
       "        vertical-align: top;\n",
       "    }\n",
       "\n",
       "    .dataframe thead th {\n",
       "        text-align: right;\n",
       "    }\n",
       "</style>\n",
       "<table border=\"1\" class=\"dataframe\">\n",
       "  <thead>\n",
       "    <tr style=\"text-align: right;\">\n",
       "      <th>8</th>\n",
       "      <th>f</th>\n",
       "      <th>t</th>\n",
       "    </tr>\n",
       "    <tr>\n",
       "      <th>15</th>\n",
       "      <th></th>\n",
       "      <th></th>\n",
       "    </tr>\n",
       "  </thead>\n",
       "  <tbody>\n",
       "    <tr>\n",
       "      <th>+</th>\n",
       "      <td>23</td>\n",
       "      <td>284</td>\n",
       "    </tr>\n",
       "    <tr>\n",
       "      <th>-</th>\n",
       "      <td>306</td>\n",
       "      <td>77</td>\n",
       "    </tr>\n",
       "  </tbody>\n",
       "</table>\n",
       "</div>"
      ],
      "text/plain": [
       "8     f    t\n",
       "15          \n",
       "+    23  284\n",
       "-   306   77"
      ]
     },
     "execution_count": 132,
     "metadata": {},
     "output_type": "execute_result"
    }
   ],
   "source": [
    "pd.crosstab(rawdata[15],rawdata[8])"
   ]
  },
  {
   "cell_type": "code",
   "execution_count": 133,
   "metadata": {},
   "outputs": [
    {
     "data": {
      "text/html": [
       "<div>\n",
       "<style scoped>\n",
       "    .dataframe tbody tr th:only-of-type {\n",
       "        vertical-align: middle;\n",
       "    }\n",
       "\n",
       "    .dataframe tbody tr th {\n",
       "        vertical-align: top;\n",
       "    }\n",
       "\n",
       "    .dataframe thead th {\n",
       "        text-align: right;\n",
       "    }\n",
       "</style>\n",
       "<table border=\"1\" class=\"dataframe\">\n",
       "  <thead>\n",
       "    <tr style=\"text-align: right;\">\n",
       "      <th>9</th>\n",
       "      <th>f</th>\n",
       "      <th>t</th>\n",
       "    </tr>\n",
       "    <tr>\n",
       "      <th>15</th>\n",
       "      <th></th>\n",
       "      <th></th>\n",
       "    </tr>\n",
       "  </thead>\n",
       "  <tbody>\n",
       "    <tr>\n",
       "      <th>+</th>\n",
       "      <td>98</td>\n",
       "      <td>209</td>\n",
       "    </tr>\n",
       "    <tr>\n",
       "      <th>-</th>\n",
       "      <td>297</td>\n",
       "      <td>86</td>\n",
       "    </tr>\n",
       "  </tbody>\n",
       "</table>\n",
       "</div>"
      ],
      "text/plain": [
       "9     f    t\n",
       "15          \n",
       "+    98  209\n",
       "-   297   86"
      ]
     },
     "execution_count": 133,
     "metadata": {},
     "output_type": "execute_result"
    }
   ],
   "source": [
    "pd.crosstab(rawdata[15],rawdata[9])\n"
   ]
  },
  {
   "cell_type": "code",
   "execution_count": 134,
   "metadata": {},
   "outputs": [
    {
     "data": {
      "text/html": [
       "<div>\n",
       "<style scoped>\n",
       "    .dataframe tbody tr th:only-of-type {\n",
       "        vertical-align: middle;\n",
       "    }\n",
       "\n",
       "    .dataframe tbody tr th {\n",
       "        vertical-align: top;\n",
       "    }\n",
       "\n",
       "    .dataframe thead th {\n",
       "        text-align: right;\n",
       "    }\n",
       "</style>\n",
       "<table border=\"1\" class=\"dataframe\">\n",
       "  <thead>\n",
       "    <tr style=\"text-align: right;\">\n",
       "      <th>11</th>\n",
       "      <th>f</th>\n",
       "      <th>t</th>\n",
       "    </tr>\n",
       "    <tr>\n",
       "      <th>15</th>\n",
       "      <th></th>\n",
       "      <th></th>\n",
       "    </tr>\n",
       "  </thead>\n",
       "  <tbody>\n",
       "    <tr>\n",
       "      <th>+</th>\n",
       "      <td>161</td>\n",
       "      <td>146</td>\n",
       "    </tr>\n",
       "    <tr>\n",
       "      <th>-</th>\n",
       "      <td>213</td>\n",
       "      <td>170</td>\n",
       "    </tr>\n",
       "  </tbody>\n",
       "</table>\n",
       "</div>"
      ],
      "text/plain": [
       "11    f    t\n",
       "15          \n",
       "+   161  146\n",
       "-   213  170"
      ]
     },
     "execution_count": 134,
     "metadata": {},
     "output_type": "execute_result"
    }
   ],
   "source": [
    "pd.crosstab(rawdata[15],rawdata[11])\n"
   ]
  },
  {
   "cell_type": "code",
   "execution_count": 135,
   "metadata": {},
   "outputs": [
    {
     "data": {
      "text/html": [
       "<div>\n",
       "<style scoped>\n",
       "    .dataframe tbody tr th:only-of-type {\n",
       "        vertical-align: middle;\n",
       "    }\n",
       "\n",
       "    .dataframe tbody tr th {\n",
       "        vertical-align: top;\n",
       "    }\n",
       "\n",
       "    .dataframe thead th {\n",
       "        text-align: right;\n",
       "    }\n",
       "</style>\n",
       "<table border=\"1\" class=\"dataframe\">\n",
       "  <thead>\n",
       "    <tr style=\"text-align: right;\">\n",
       "      <th>12</th>\n",
       "      <th>g</th>\n",
       "      <th>p</th>\n",
       "      <th>s</th>\n",
       "    </tr>\n",
       "    <tr>\n",
       "      <th>15</th>\n",
       "      <th></th>\n",
       "      <th></th>\n",
       "      <th></th>\n",
       "    </tr>\n",
       "  </thead>\n",
       "  <tbody>\n",
       "    <tr>\n",
       "      <th>+</th>\n",
       "      <td>287</td>\n",
       "      <td>5</td>\n",
       "      <td>15</td>\n",
       "    </tr>\n",
       "    <tr>\n",
       "      <th>-</th>\n",
       "      <td>338</td>\n",
       "      <td>3</td>\n",
       "      <td>42</td>\n",
       "    </tr>\n",
       "  </tbody>\n",
       "</table>\n",
       "</div>"
      ],
      "text/plain": [
       "12    g  p   s\n",
       "15            \n",
       "+   287  5  15\n",
       "-   338  3  42"
      ]
     },
     "execution_count": 135,
     "metadata": {},
     "output_type": "execute_result"
    }
   ],
   "source": [
    "pd.crosstab(rawdata[15],rawdata[12])\n"
   ]
  },
  {
   "cell_type": "code",
   "execution_count": null,
   "metadata": {},
   "outputs": [],
   "source": []
  },
  {
   "cell_type": "code",
   "execution_count": null,
   "metadata": {},
   "outputs": [],
   "source": []
  },
  {
   "cell_type": "code",
   "execution_count": 136,
   "metadata": {},
   "outputs": [
    {
     "data": {
      "text/html": [
       "<div>\n",
       "<style scoped>\n",
       "    .dataframe tbody tr th:only-of-type {\n",
       "        vertical-align: middle;\n",
       "    }\n",
       "\n",
       "    .dataframe tbody tr th {\n",
       "        vertical-align: top;\n",
       "    }\n",
       "\n",
       "    .dataframe thead th {\n",
       "        text-align: right;\n",
       "    }\n",
       "</style>\n",
       "<table border=\"1\" class=\"dataframe\">\n",
       "  <thead>\n",
       "    <tr style=\"text-align: right;\">\n",
       "      <th>11</th>\n",
       "      <th>f</th>\n",
       "      <th>t</th>\n",
       "    </tr>\n",
       "    <tr>\n",
       "      <th>15</th>\n",
       "      <th></th>\n",
       "      <th></th>\n",
       "    </tr>\n",
       "  </thead>\n",
       "  <tbody>\n",
       "    <tr>\n",
       "      <th>+</th>\n",
       "      <td>161</td>\n",
       "      <td>146</td>\n",
       "    </tr>\n",
       "    <tr>\n",
       "      <th>-</th>\n",
       "      <td>213</td>\n",
       "      <td>170</td>\n",
       "    </tr>\n",
       "  </tbody>\n",
       "</table>\n",
       "</div>"
      ],
      "text/plain": [
       "11    f    t\n",
       "15          \n",
       "+   161  146\n",
       "-   213  170"
      ]
     },
     "execution_count": 136,
     "metadata": {},
     "output_type": "execute_result"
    }
   ],
   "source": [
    "pd.crosstab(rawdata[15],rawdata[11])"
   ]
  },
  {
   "cell_type": "code",
   "execution_count": 137,
   "metadata": {},
   "outputs": [],
   "source": [
    "### Categorical 0,3,4,5,6,8,9,11,12"
   ]
  },
  {
   "cell_type": "code",
   "execution_count": 138,
   "metadata": {},
   "outputs": [],
   "source": [
    "### Going through the Data, I found a correlation between approved and denied and col 11\n",
    "# The P value is over .05, it is .45 showing us there is a correlation between col 11\n",
    "# and approval, and denial."
   ]
  },
  {
   "cell_type": "code",
   "execution_count": 139,
   "metadata": {},
   "outputs": [
    {
     "data": {
      "text/plain": [
       "(143.06956205083145,\n",
       " 5.675727374527571e-33,\n",
       " 1,\n",
       " array([[175.74637681, 131.25362319],\n",
       "        [219.25362319, 163.74637681]]))"
      ]
     },
     "execution_count": 139,
     "metadata": {},
     "output_type": "execute_result"
    }
   ],
   "source": [
    "stats.chi2_contingency(pd.crosstab(rawdata[15],rawdata[9]))"
   ]
  },
  {
   "cell_type": "code",
   "execution_count": 140,
   "metadata": {},
   "outputs": [
    {
     "data": {
      "text/plain": [
       "(355.2038167412799,\n",
       " 3.1185900878457007e-79,\n",
       " 1,\n",
       " array([[146.38115942, 160.61884058],\n",
       "        [182.61884058, 200.38115942]]))"
      ]
     },
     "execution_count": 140,
     "metadata": {},
     "output_type": "execute_result"
    }
   ],
   "source": [
    "stats.chi2_contingency(pd.crosstab(rawdata[15],rawdata[8]))"
   ]
  },
  {
   "cell_type": "markdown",
   "metadata": {
    "colab_type": "text",
    "id": "ZM8JckA2bgnp"
   },
   "source": [
    "## Part 3 - Analysis and Interpretation\n",
    "\n",
    "Now that you've looked at the data, answer the following questions:\n",
    "\n",
    "- Interpret and explain the two t-tests you ran - what do they tell you about the relationships between the continuous features you selected and the class labels?\n",
    "- Interpret and explain the two Chi-squared tests you ran - what do they tell you about the relationships between the categorical features you selected and the class labels?\n",
    "- What was the most challenging part of this sprint challenge?\n",
    "\n",
    "Answer with text, but feel free to intersperse example code/results or refer to it from earlier."
   ]
  },
  {
   "cell_type": "markdown",
   "metadata": {
    "colab_type": "text",
    "id": "LIozLDNG2Uhu"
   },
   "source": [
    "The T-Tests I ran\n",
    "=================\n",
    "I ran a lot more than 2 t-tests, inorder to account for all variables at once.\n",
    "I set them up so I could easily go back and get info about what was what.\n",
    "The T-Tests that showed the highest correlation were between approved A8 and \n",
    "denied A3, and approvd A14 and denied A15.\n",
    "This tells us that there is a strong correlation between these 2 sets of data.\n",
    "\n",
    "Chi Squared\n",
    "===========\n",
    "I pulled several crosstabs, all of them shown. The strongest corrolation was \n",
    "in A9, and A10.\n",
    "When I ran the Chi squared tests, I saw that the P value was very low, rejecting\n",
    "the null hypothesis that there is no corrolation.\n",
    "I have the Data for the Chi tests for A9, and A10 executed above.\n",
    "\n",
    "\n",
    "Most Challangenging part of sprint challange\n",
    "============================================\n",
    "I personally don't like Crosstabs!!!!!!\n"
   ]
  },
  {
   "cell_type": "code",
   "execution_count": null,
   "metadata": {},
   "outputs": [],
   "source": []
  }
 ],
 "metadata": {
  "colab": {
   "collapsed_sections": [],
   "name": "DS Unit 1 Sprint Challenge 4.ipynb",
   "provenance": [],
   "version": "0.3.2"
  },
  "kernelspec": {
   "display_name": "Python 3",
   "language": "python",
   "name": "python3"
  },
  "language_info": {
   "codemirror_mode": {
    "name": "ipython",
    "version": 3
   },
   "file_extension": ".py",
   "mimetype": "text/x-python",
   "name": "python",
   "nbconvert_exporter": "python",
   "pygments_lexer": "ipython3",
   "version": "3.7.2"
  }
 },
 "nbformat": 4,
 "nbformat_minor": 2
}
