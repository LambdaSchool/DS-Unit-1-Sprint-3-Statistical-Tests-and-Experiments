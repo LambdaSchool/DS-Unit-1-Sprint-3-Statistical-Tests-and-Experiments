{
  "nbformat": 4,
  "nbformat_minor": 0,
  "metadata": {
    "colab": {
      "name": "Khaled Adad LS_DS4_142_Sampling_Confidence_Intervals_and_Hypothesis_Testing.ipynb",
      "version": "0.3.2",
      "provenance": [],
      "collapsed_sections": [],
      "include_colab_link": true
    },
    "kernelspec": {
      "name": "python3",
      "display_name": "Python 3"
    }
  },
  "cells": [
    {
      "cell_type": "markdown",
      "metadata": {
        "id": "view-in-github",
        "colab_type": "text"
      },
      "source": [
        "<a href=\"https://colab.research.google.com/github/khaloodi/DS-Unit-1-Sprint-4-Statistical-Tests-and-Experiments/blob/master/Khaled_Adad_LS_DS4_142_Sampling_Confidence_Intervals_and_Hypothesis_Testing.ipynb\" target=\"_parent\"><img src=\"https://colab.research.google.com/assets/colab-badge.svg\" alt=\"Open In Colab\"/></a>"
      ]
    },
    {
      "cell_type": "markdown",
      "metadata": {
        "id": "838Dmw1kM2LK",
        "colab_type": "text"
      },
      "source": [
        "# Lambda School Data Science Module 142\n",
        "## Sampling, Confidence Intervals, and Hypothesis Testing"
      ]
    },
    {
      "cell_type": "markdown",
      "metadata": {
        "id": "dbcPKIo5M6Ny",
        "colab_type": "text"
      },
      "source": [
        "## Prepare - examine other available hypothesis tests\n",
        "\n",
        "If you had to pick a single hypothesis test in your toolbox, t-test would probably be the best choice - but the good news is you don't have to pick just one! Here's some of the others to be aware of:"
      ]
    },
    {
      "cell_type": "code",
      "metadata": {
        "id": "tlBel8j9M6tB",
        "colab_type": "code",
        "outputId": "e31ba6db-7dbb-49ca-f0fa-53ed9031cc84",
        "colab": {
          "base_uri": "https://localhost:8080/",
          "height": 185
        }
      },
      "source": [
        "import numpy as np\n",
        "from scipy.stats import chisquare  # One-way chi square test\n",
        "\n",
        "# Chi square can take any crosstab/table and test the independence of rows/cols\n",
        "# The null hypothesis is that the rows/cols are independent -> low chi square\n",
        "# The alternative is that there is a dependence -> high chi square\n",
        "# Be aware! Chi square does *not* tell you direction/causation\n",
        "\n",
        "ind_obs = np.array([[1, 1], [2, 2]]).T\n",
        "print(ind_obs)\n",
        "print(chisquare(ind_obs, axis=None))\n",
        "\n",
        "dep_obs = np.array([[16, 18, 16, 14, 12, 12], [32, 24, 16, 28, 20, 24]]).T\n",
        "print(dep_obs)\n",
        "print(chisquare(dep_obs, axis=None))"
      ],
      "execution_count": 0,
      "outputs": [
        {
          "output_type": "stream",
          "text": [
            "[[1 2]\n",
            " [1 2]]\n",
            "Power_divergenceResult(statistic=0.6666666666666666, pvalue=0.8810148425137847)\n",
            "[[16 32]\n",
            " [18 24]\n",
            " [16 16]\n",
            " [14 28]\n",
            " [12 20]\n",
            " [12 24]]\n",
            "Power_divergenceResult(statistic=23.31034482758621, pvalue=0.015975692534127565)\n"
          ],
          "name": "stdout"
        }
      ]
    },
    {
      "cell_type": "code",
      "metadata": {
        "id": "nN0BdNiDPxbk",
        "colab_type": "code",
        "outputId": "fe5337da-c401-4076-a704-32e8e5934bd3",
        "colab": {
          "base_uri": "https://localhost:8080/",
          "height": 34
        }
      },
      "source": [
        "# Distribution tests:\n",
        "# We often assume that something is normal, but it can be important to *check*\n",
        "\n",
        "# For example, later on with predictive modeling, a typical assumption is that\n",
        "# residuals (prediction errors) are normal - checking is a good diagnostic\n",
        "\n",
        "from scipy.stats import normaltest\n",
        "# Poisson models arrival times and is related to the binomial (coinflip)\n",
        "sample = np.random.poisson(5, 1000)\n",
        "print(normaltest(sample))  # Pretty clearly not normal"
      ],
      "execution_count": 0,
      "outputs": [
        {
          "output_type": "stream",
          "text": [
            "NormaltestResult(statistic=38.7483109007517, pvalue=3.85399543909581e-09)\n"
          ],
          "name": "stdout"
        }
      ]
    },
    {
      "cell_type": "code",
      "metadata": {
        "id": "P5t0WhkDReFO",
        "colab_type": "code",
        "outputId": "0439ff5c-d977-4d37-a098-541bccdb8587",
        "colab": {
          "base_uri": "https://localhost:8080/",
          "height": 50
        }
      },
      "source": [
        "# Kruskal-Wallis H-test - compare the median rank between 2+ groups\n",
        "# Can be applied to ranking decisions/outcomes/recommendations\n",
        "# The underlying math comes from chi-square distribution, and is best for n>5\n",
        "from scipy.stats import kruskal\n",
        "\n",
        "x1 = [1, 3, 5, 7, 9]\n",
        "y1 = [2, 4, 6, 8, 10]\n",
        "print(kruskal(x1, y1))  # x1 is a little better, but not \"significantly\" so\n",
        "\n",
        "x2 = [1, 1, 1]\n",
        "y2 = [2, 2, 2]\n",
        "z = [2, 2]  # Hey, a third group, and of different size!\n",
        "print(kruskal(x2, y2, z))  # x clearly dominates"
      ],
      "execution_count": 0,
      "outputs": [
        {
          "output_type": "stream",
          "text": [
            "KruskalResult(statistic=0.2727272727272734, pvalue=0.6015081344405895)\n",
            "KruskalResult(statistic=7.0, pvalue=0.0301973834223185)\n"
          ],
          "name": "stdout"
        }
      ]
    },
    {
      "cell_type": "markdown",
      "metadata": {
        "id": "7pT3IP36Rh0b",
        "colab_type": "text"
      },
      "source": [
        "And there's many more! `scipy.stats` is fairly comprehensive, though there are even more available if you delve into the extended world of statistics packages. As tests get increasingly obscure and specialized, the importance of knowing them by heart becomes small - but being able to look them up and figure them out when they *are* relevant is still important."
      ]
    },
    {
      "cell_type": "markdown",
      "metadata": {
        "id": "L1_KRuHCM7BW",
        "colab_type": "text"
      },
      "source": [
        "## Live Lecture - let's explore some more of scipy.stats\n",
        "\n",
        "Candidate topics to explore:\n",
        "\n",
        "- `scipy.stats.chi2` - the Chi-squared distribution, which we can use to reproduce the Chi-squared test\n",
        "- Calculate the Chi-Squared test statistic \"by hand\" (with code), and feed it into `chi2`\n",
        "- Build a confidence interval with `stats.t.ppf`, the t-distribution percentile point function (the inverse of the CDF) - we can write a function to return a tuple of `(mean, lower bound, upper bound)` that you can then use for the assignment (visualizing confidence intervals)"
      ]
    },
    {
      "cell_type": "code",
      "metadata": {
        "id": "luROkOJokl1Z",
        "colab_type": "code",
        "outputId": "e2027168-6d94-40f2-b911-d44d38f98bc1",
        "colab": {
          "base_uri": "https://localhost:8080/",
          "height": 6048
        }
      },
      "source": [
        "!pip freeze"
      ],
      "execution_count": 0,
      "outputs": [
        {
          "output_type": "stream",
          "text": [
            "absl-py==0.7.1\n",
            "alabaster==0.7.12\n",
            "albumentations==0.1.12\n",
            "altair==3.0.1\n",
            "astor==0.7.1\n",
            "astropy==3.0.5\n",
            "atari-py==0.1.7\n",
            "atomicwrites==1.3.0\n",
            "attrs==19.1.0\n",
            "audioread==2.1.6\n",
            "autograd==1.2\n",
            "Babel==2.6.0\n",
            "backcall==0.1.0\n",
            "backports.tempfile==1.0\n",
            "backports.weakref==1.0.post1\n",
            "beautifulsoup4==4.6.3\n",
            "bleach==3.1.0\n",
            "bokeh==1.0.4\n",
            "boto==2.49.0\n",
            "boto3==1.9.140\n",
            "botocore==1.12.140\n",
            "Bottleneck==1.2.1\n",
            "branca==0.3.1\n",
            "bs4==0.0.1\n",
            "bz2file==0.98\n",
            "cachetools==3.1.0\n",
            "certifi==2019.3.9\n",
            "cffi==1.12.3\n",
            "chainer==5.4.0\n",
            "chardet==3.0.4\n",
            "Click==7.0\n",
            "cloudpickle==0.6.1\n",
            "cmake==3.12.0\n",
            "colorlover==0.3.0\n",
            "community==1.0.0b1\n",
            "contextlib2==0.5.5\n",
            "convertdate==2.1.3\n",
            "coverage==3.7.1\n",
            "coveralls==0.5\n",
            "crcmod==1.7\n",
            "cufflinks==0.14.6\n",
            "cvxopt==1.2.3\n",
            "cvxpy==1.0.15\n",
            "cycler==0.10.0\n",
            "cymem==2.0.2\n",
            "Cython==0.29.7\n",
            "cytoolz==0.9.0.1\n",
            "daft==0.0.4\n",
            "dask==1.1.5\n",
            "dataclasses==0.6\n",
            "datascience==0.10.6\n",
            "decorator==4.4.0\n",
            "defusedxml==0.6.0\n",
            "dill==0.2.9\n",
            "distributed==1.25.3\n",
            "Django==2.2.1\n",
            "dlib==19.16.0\n",
            "dm-sonnet==1.23\n",
            "docopt==0.6.2\n",
            "docutils==0.14\n",
            "dopamine-rl==1.0.5\n",
            "easydict==1.9\n",
            "ecos==2.0.7.post1\n",
            "editdistance==0.5.3\n",
            "en-core-web-sm==2.0.0\n",
            "entrypoints==0.3\n",
            "enum34==1.1.6\n",
            "ephem==3.7.6.0\n",
            "et-xmlfile==1.0.1\n",
            "fa2==0.3.5\n",
            "fancyimpute==0.4.3\n",
            "fastai==1.0.52\n",
            "fastcache==1.1.0\n",
            "fastdtw==0.3.2\n",
            "fastprogress==0.1.21\n",
            "fastrlock==0.4\n",
            "fbprophet==0.4.post2\n",
            "featuretools==0.4.1\n",
            "filelock==3.0.10\n",
            "fix-yahoo-finance==0.0.22\n",
            "Flask==1.0.2\n",
            "folium==0.8.3\n",
            "future==0.16.0\n",
            "gast==0.2.2\n",
            "GDAL==2.2.2\n",
            "gdown==3.6.4\n",
            "gensim==3.6.0\n",
            "geographiclib==1.49\n",
            "geopy==1.17.0\n",
            "gevent==1.4.0\n",
            "gin-config==0.1.4\n",
            "glob2==0.6\n",
            "google==2.0.2\n",
            "google-api-core==1.10.0\n",
            "google-api-python-client==1.6.7\n",
            "google-auth==1.4.2\n",
            "google-auth-httplib2==0.0.3\n",
            "google-auth-oauthlib==0.3.0\n",
            "google-cloud-bigquery==1.8.1\n",
            "google-cloud-core==0.29.1\n",
            "google-cloud-language==1.0.2\n",
            "google-cloud-storage==1.13.2\n",
            "google-cloud-translate==1.3.3\n",
            "google-colab==1.0.0\n",
            "google-resumable-media==0.3.2\n",
            "googleapis-common-protos==1.5.10\n",
            "googledrivedownloader==0.3\n",
            "graph-nets==1.0.3\n",
            "graphviz==0.10.1\n",
            "greenlet==0.4.15\n",
            "grpcio==1.15.0\n",
            "gspread==3.0.1\n",
            "gspread-dataframe==3.0.2\n",
            "gunicorn==19.9.0\n",
            "gym==0.10.11\n",
            "h5py==2.8.0\n",
            "HeapDict==1.0.0\n",
            "holidays==0.9.10\n",
            "html5lib==1.0.1\n",
            "httpimport==0.5.16\n",
            "httplib2==0.11.3\n",
            "humanize==0.5.1\n",
            "hyperopt==0.1.2\n",
            "ideep4py==2.0.0.post3\n",
            "idna==2.8\n",
            "image==1.5.27\n",
            "imageio==2.4.1\n",
            "imagesize==1.1.0\n",
            "imbalanced-learn==0.4.3\n",
            "imblearn==0.0\n",
            "imgaug==0.2.8\n",
            "imutils==0.5.2\n",
            "inflect==2.1.0\n",
            "intel-openmp==2019.0\n",
            "intervaltree==2.1.0\n",
            "ipykernel==4.6.1\n",
            "ipython==5.5.0\n",
            "ipython-genutils==0.2.0\n",
            "ipython-sql==0.3.9\n",
            "ipywidgets==7.4.2\n",
            "itsdangerous==1.1.0\n",
            "jdcal==1.4.1\n",
            "jedi==0.13.3\n",
            "jieba==0.39\n",
            "Jinja2==2.10.1\n",
            "jmespath==0.9.4\n",
            "joblib==0.12.5\n",
            "jpeg4py==0.1.4\n",
            "jsonschema==2.6.0\n",
            "jupyter==1.0.0\n",
            "jupyter-client==5.2.4\n",
            "jupyter-console==6.0.0\n",
            "jupyter-core==4.4.0\n",
            "kaggle==1.5.3\n",
            "kapre==0.1.3.1\n",
            "Keras==2.2.4\n",
            "Keras-Applications==1.0.7\n",
            "Keras-Preprocessing==1.0.9\n",
            "keras-vis==0.4.1\n",
            "kiwisolver==1.1.0\n",
            "knnimpute==0.1.0\n",
            "librosa==0.6.3\n",
            "lightgbm==2.2.3\n",
            "llvmlite==0.28.0\n",
            "lmdb==0.94\n",
            "lucid==0.3.8\n",
            "lunardate==0.2.0\n",
            "lxml==4.2.6\n",
            "magenta==0.3.19\n",
            "Markdown==3.1\n",
            "MarkupSafe==1.1.1\n",
            "matplotlib==3.0.3\n",
            "matplotlib-venn==0.11.5\n",
            "mesh-tensorflow==0.0.5\n",
            "mido==1.2.6\n",
            "mir-eval==0.5\n",
            "missingno==0.4.1\n",
            "mistune==0.8.4\n",
            "mkl==2019.0\n",
            "mlxtend==0.14.0\n",
            "mock==2.0.0\n",
            "more-itertools==7.0.0\n",
            "moviepy==0.2.3.5\n",
            "mpi4py==3.0.1\n",
            "mpmath==1.1.0\n",
            "msgpack==0.5.6\n",
            "msgpack-numpy==0.4.3.2\n",
            "multiprocess==0.70.7\n",
            "multitasking==0.0.7\n",
            "murmurhash==1.0.2\n",
            "music21==5.5.0\n",
            "natsort==5.5.0\n",
            "nbconvert==5.5.0\n",
            "nbformat==4.4.0\n",
            "networkx==2.3\n",
            "nibabel==2.3.3\n",
            "nltk==3.2.5\n",
            "nose==1.3.7\n",
            "notebook==5.2.2\n",
            "np-utils==0.5.10.0\n",
            "numba==0.40.1\n",
            "numexpr==2.6.9\n",
            "numpy==1.16.3\n",
            "nvidia-ml-py3==7.352.0\n",
            "oauth2client==4.1.3\n",
            "oauthlib==3.0.1\n",
            "okgrade==0.4.3\n",
            "olefile==0.46\n",
            "opencv-contrib-python==3.4.3.18\n",
            "opencv-python==3.4.5.20\n",
            "openpyxl==2.5.9\n",
            "osqp==0.5.0\n",
            "packaging==19.0\n",
            "pandas==0.24.2\n",
            "pandas-datareader==0.7.0\n",
            "pandas-gbq==0.4.1\n",
            "pandas-profiling==1.4.1\n",
            "pandocfilters==1.4.2\n",
            "parso==0.4.0\n",
            "pathlib==1.0.1\n",
            "patsy==0.5.1\n",
            "pbr==5.2.0\n",
            "pexpect==4.7.0\n",
            "pickleshare==0.7.5\n",
            "Pillow==4.3.0\n",
            "pip-tools==3.6.1\n",
            "plac==0.9.6\n",
            "plotly==3.6.1\n",
            "pluggy==0.7.1\n",
            "portpicker==1.2.0\n",
            "prefetch-generator==1.0.1\n",
            "preshed==2.0.1\n",
            "pretty-midi==0.2.8\n",
            "prettytable==0.7.2\n",
            "progressbar2==3.38.0\n",
            "prometheus-client==0.6.0\n",
            "promise==2.2.1\n",
            "prompt-toolkit==1.0.16\n",
            "protobuf==3.7.1\n",
            "psutil==5.4.8\n",
            "psycopg2==2.7.6.1\n",
            "ptyprocess==0.6.0\n",
            "py==1.8.0\n",
            "pyasn1==0.4.5\n",
            "pyasn1-modules==0.2.5\n",
            "pycocotools==2.0.0\n",
            "pycparser==2.19\n",
            "pydot==1.3.0\n",
            "pydot-ng==2.0.0\n",
            "pydotplus==2.0.2\n",
            "pyemd==0.5.1\n",
            "pyglet==1.3.2\n",
            "Pygments==2.1.3\n",
            "pygobject==3.26.1\n",
            "pymc3==3.6\n",
            "pymongo==3.8.0\n",
            "pymystem3==0.2.0\n",
            "PyOpenGL==3.1.0\n",
            "pyparsing==2.4.0\n",
            "pyrsistent==0.15.1\n",
            "pysndfile==1.3.2\n",
            "PySocks==1.6.8\n",
            "pystan==2.19.0.0\n",
            "pytest==3.6.4\n",
            "python-apt==1.6.3+ubuntu1\n",
            "python-chess==0.23.11\n",
            "python-dateutil==2.5.3\n",
            "python-louvain==0.13\n",
            "python-rtmidi==1.3.0\n",
            "python-slugify==3.0.2\n",
            "python-utils==2.3.0\n",
            "pytz==2018.9\n",
            "PyWavelets==1.0.3\n",
            "PyYAML==3.13\n",
            "pyzmq==17.0.0\n",
            "qtconsole==4.4.4\n",
            "regex==2018.1.10\n",
            "requests==2.21.0\n",
            "requests-oauthlib==1.2.0\n",
            "resampy==0.2.1\n",
            "retrying==1.3.3\n",
            "rpy2==2.9.5\n",
            "rsa==4.0\n",
            "s3fs==0.2.1\n",
            "s3transfer==0.2.0\n",
            "scikit-image==0.14.2\n",
            "scikit-learn==0.20.3\n",
            "scipy==1.2.1\n",
            "screen-resolution-extra==0.0.0\n",
            "scs==2.1.0\n",
            "seaborn==0.9.0\n",
            "Send2Trash==1.5.0\n",
            "setuptools-git==1.2\n",
            "Shapely==1.6.4.post2\n",
            "simplegeneric==0.8.1\n",
            "six==1.12.0\n",
            "sklearn==0.0\n",
            "smart-open==1.8.3\n",
            "snowballstemmer==1.2.1\n",
            "sortedcontainers==2.1.0\n",
            "spacy==2.0.18\n",
            "Sphinx==1.8.5\n",
            "sphinxcontrib-websupport==1.1.0\n",
            "SQLAlchemy==1.3.3\n",
            "sqlparse==0.3.0\n",
            "stable-baselines==2.2.1\n",
            "statsmodels==0.9.0\n",
            "sympy==1.1.1\n",
            "tables==3.4.4\n",
            "tabulate==0.8.3\n",
            "tblib==1.3.2\n",
            "tensor2tensor==1.11.0\n",
            "tensorboard==1.13.1\n",
            "tensorboardcolab==0.0.22\n",
            "tensorflow==1.13.1\n",
            "tensorflow-estimator==1.13.0\n",
            "tensorflow-hub==0.4.0\n",
            "tensorflow-metadata==0.13.0\n",
            "tensorflow-probability==0.6.0\n",
            "termcolor==1.1.0\n",
            "terminado==0.8.2\n",
            "testpath==0.4.2\n",
            "text-unidecode==1.2\n",
            "textblob==0.15.3\n",
            "textgenrnn==1.4.1\n",
            "tfds-nightly==1.0.2.dev201905010105\n",
            "tflearn==0.3.2\n",
            "Theano==1.0.4\n",
            "thinc==6.12.1\n",
            "toolz==0.9.0\n",
            "torch==1.1.0\n",
            "torchsummary==1.5.1\n",
            "torchtext==0.3.1\n",
            "torchvision==0.2.2.post3\n",
            "tornado==4.5.3\n",
            "tqdm==4.28.1\n",
            "traitlets==4.3.2\n",
            "tweepy==3.6.0\n",
            "typing==3.6.6\n",
            "tzlocal==1.5.1\n",
            "ujson==1.35\n",
            "umap-learn==0.3.8\n",
            "uritemplate==3.0.0\n",
            "urllib3==1.24.2\n",
            "vega-datasets==0.7.0\n",
            "wcwidth==0.1.7\n",
            "webencodings==0.5.1\n",
            "Werkzeug==0.15.2\n",
            "widgetsnbextension==3.4.2\n",
            "wordcloud==1.5.0\n",
            "wrapt==1.10.11\n",
            "xarray==0.11.3\n",
            "xgboost==0.82\n",
            "xkit==0.0.0\n",
            "xlrd==1.1.0\n",
            "xlwt==1.3.0\n",
            "yellowbrick==0.9.1\n",
            "zict==0.1.4\n",
            "zmq==0.0.0\n"
          ],
          "name": "stdout"
        }
      ]
    },
    {
      "cell_type": "code",
      "metadata": {
        "id": "qW6k0dorM7Lz",
        "colab_type": "code",
        "outputId": "82aa81d8-93af-4fee-f517-4a8e39c3491b",
        "colab": {
          "base_uri": "https://localhost:8080/",
          "height": 1113
        }
      },
      "source": [
        "import pandas as pd\n",
        "import numpy as np\n",
        "from scipy import stats\n",
        "\n",
        "df = pd.read_csv('https://raw.githubusercontent.com/ryanleeallred/datasets/master/adult.csv', na_values=\" ?\")\n",
        "print(df.shape)\n",
        "df.head(20)"
      ],
      "execution_count": 0,
      "outputs": [
        {
          "output_type": "stream",
          "text": [
            "(32561, 15)\n"
          ],
          "name": "stdout"
        },
        {
          "output_type": "execute_result",
          "data": {
            "text/html": [
              "<div>\n",
              "<style scoped>\n",
              "    .dataframe tbody tr th:only-of-type {\n",
              "        vertical-align: middle;\n",
              "    }\n",
              "\n",
              "    .dataframe tbody tr th {\n",
              "        vertical-align: top;\n",
              "    }\n",
              "\n",
              "    .dataframe thead th {\n",
              "        text-align: right;\n",
              "    }\n",
              "</style>\n",
              "<table border=\"1\" class=\"dataframe\">\n",
              "  <thead>\n",
              "    <tr style=\"text-align: right;\">\n",
              "      <th></th>\n",
              "      <th>age</th>\n",
              "      <th>workclass</th>\n",
              "      <th>fnlwgt</th>\n",
              "      <th>education</th>\n",
              "      <th>education-num</th>\n",
              "      <th>marital-status</th>\n",
              "      <th>occupation</th>\n",
              "      <th>relationship</th>\n",
              "      <th>race</th>\n",
              "      <th>sex</th>\n",
              "      <th>capital-gain</th>\n",
              "      <th>capital-loss</th>\n",
              "      <th>hours-per-week</th>\n",
              "      <th>country</th>\n",
              "      <th>salary</th>\n",
              "    </tr>\n",
              "  </thead>\n",
              "  <tbody>\n",
              "    <tr>\n",
              "      <th>0</th>\n",
              "      <td>39</td>\n",
              "      <td>State-gov</td>\n",
              "      <td>77516</td>\n",
              "      <td>Bachelors</td>\n",
              "      <td>13</td>\n",
              "      <td>Never-married</td>\n",
              "      <td>Adm-clerical</td>\n",
              "      <td>Not-in-family</td>\n",
              "      <td>White</td>\n",
              "      <td>Male</td>\n",
              "      <td>2174</td>\n",
              "      <td>0</td>\n",
              "      <td>40</td>\n",
              "      <td>United-States</td>\n",
              "      <td>&lt;=50K</td>\n",
              "    </tr>\n",
              "    <tr>\n",
              "      <th>1</th>\n",
              "      <td>50</td>\n",
              "      <td>Self-emp-not-inc</td>\n",
              "      <td>83311</td>\n",
              "      <td>Bachelors</td>\n",
              "      <td>13</td>\n",
              "      <td>Married-civ-spouse</td>\n",
              "      <td>Exec-managerial</td>\n",
              "      <td>Husband</td>\n",
              "      <td>White</td>\n",
              "      <td>Male</td>\n",
              "      <td>0</td>\n",
              "      <td>0</td>\n",
              "      <td>13</td>\n",
              "      <td>United-States</td>\n",
              "      <td>&lt;=50K</td>\n",
              "    </tr>\n",
              "    <tr>\n",
              "      <th>2</th>\n",
              "      <td>38</td>\n",
              "      <td>Private</td>\n",
              "      <td>215646</td>\n",
              "      <td>HS-grad</td>\n",
              "      <td>9</td>\n",
              "      <td>Divorced</td>\n",
              "      <td>Handlers-cleaners</td>\n",
              "      <td>Not-in-family</td>\n",
              "      <td>White</td>\n",
              "      <td>Male</td>\n",
              "      <td>0</td>\n",
              "      <td>0</td>\n",
              "      <td>40</td>\n",
              "      <td>United-States</td>\n",
              "      <td>&lt;=50K</td>\n",
              "    </tr>\n",
              "    <tr>\n",
              "      <th>3</th>\n",
              "      <td>53</td>\n",
              "      <td>Private</td>\n",
              "      <td>234721</td>\n",
              "      <td>11th</td>\n",
              "      <td>7</td>\n",
              "      <td>Married-civ-spouse</td>\n",
              "      <td>Handlers-cleaners</td>\n",
              "      <td>Husband</td>\n",
              "      <td>Black</td>\n",
              "      <td>Male</td>\n",
              "      <td>0</td>\n",
              "      <td>0</td>\n",
              "      <td>40</td>\n",
              "      <td>United-States</td>\n",
              "      <td>&lt;=50K</td>\n",
              "    </tr>\n",
              "    <tr>\n",
              "      <th>4</th>\n",
              "      <td>28</td>\n",
              "      <td>Private</td>\n",
              "      <td>338409</td>\n",
              "      <td>Bachelors</td>\n",
              "      <td>13</td>\n",
              "      <td>Married-civ-spouse</td>\n",
              "      <td>Prof-specialty</td>\n",
              "      <td>Wife</td>\n",
              "      <td>Black</td>\n",
              "      <td>Female</td>\n",
              "      <td>0</td>\n",
              "      <td>0</td>\n",
              "      <td>40</td>\n",
              "      <td>Cuba</td>\n",
              "      <td>&lt;=50K</td>\n",
              "    </tr>\n",
              "    <tr>\n",
              "      <th>5</th>\n",
              "      <td>37</td>\n",
              "      <td>Private</td>\n",
              "      <td>284582</td>\n",
              "      <td>Masters</td>\n",
              "      <td>14</td>\n",
              "      <td>Married-civ-spouse</td>\n",
              "      <td>Exec-managerial</td>\n",
              "      <td>Wife</td>\n",
              "      <td>White</td>\n",
              "      <td>Female</td>\n",
              "      <td>0</td>\n",
              "      <td>0</td>\n",
              "      <td>40</td>\n",
              "      <td>United-States</td>\n",
              "      <td>&lt;=50K</td>\n",
              "    </tr>\n",
              "    <tr>\n",
              "      <th>6</th>\n",
              "      <td>49</td>\n",
              "      <td>Private</td>\n",
              "      <td>160187</td>\n",
              "      <td>9th</td>\n",
              "      <td>5</td>\n",
              "      <td>Married-spouse-absent</td>\n",
              "      <td>Other-service</td>\n",
              "      <td>Not-in-family</td>\n",
              "      <td>Black</td>\n",
              "      <td>Female</td>\n",
              "      <td>0</td>\n",
              "      <td>0</td>\n",
              "      <td>16</td>\n",
              "      <td>Jamaica</td>\n",
              "      <td>&lt;=50K</td>\n",
              "    </tr>\n",
              "    <tr>\n",
              "      <th>7</th>\n",
              "      <td>52</td>\n",
              "      <td>Self-emp-not-inc</td>\n",
              "      <td>209642</td>\n",
              "      <td>HS-grad</td>\n",
              "      <td>9</td>\n",
              "      <td>Married-civ-spouse</td>\n",
              "      <td>Exec-managerial</td>\n",
              "      <td>Husband</td>\n",
              "      <td>White</td>\n",
              "      <td>Male</td>\n",
              "      <td>0</td>\n",
              "      <td>0</td>\n",
              "      <td>45</td>\n",
              "      <td>United-States</td>\n",
              "      <td>&gt;50K</td>\n",
              "    </tr>\n",
              "    <tr>\n",
              "      <th>8</th>\n",
              "      <td>31</td>\n",
              "      <td>Private</td>\n",
              "      <td>45781</td>\n",
              "      <td>Masters</td>\n",
              "      <td>14</td>\n",
              "      <td>Never-married</td>\n",
              "      <td>Prof-specialty</td>\n",
              "      <td>Not-in-family</td>\n",
              "      <td>White</td>\n",
              "      <td>Female</td>\n",
              "      <td>14084</td>\n",
              "      <td>0</td>\n",
              "      <td>50</td>\n",
              "      <td>United-States</td>\n",
              "      <td>&gt;50K</td>\n",
              "    </tr>\n",
              "    <tr>\n",
              "      <th>9</th>\n",
              "      <td>42</td>\n",
              "      <td>Private</td>\n",
              "      <td>159449</td>\n",
              "      <td>Bachelors</td>\n",
              "      <td>13</td>\n",
              "      <td>Married-civ-spouse</td>\n",
              "      <td>Exec-managerial</td>\n",
              "      <td>Husband</td>\n",
              "      <td>White</td>\n",
              "      <td>Male</td>\n",
              "      <td>5178</td>\n",
              "      <td>0</td>\n",
              "      <td>40</td>\n",
              "      <td>United-States</td>\n",
              "      <td>&gt;50K</td>\n",
              "    </tr>\n",
              "    <tr>\n",
              "      <th>10</th>\n",
              "      <td>37</td>\n",
              "      <td>Private</td>\n",
              "      <td>280464</td>\n",
              "      <td>Some-college</td>\n",
              "      <td>10</td>\n",
              "      <td>Married-civ-spouse</td>\n",
              "      <td>Exec-managerial</td>\n",
              "      <td>Husband</td>\n",
              "      <td>Black</td>\n",
              "      <td>Male</td>\n",
              "      <td>0</td>\n",
              "      <td>0</td>\n",
              "      <td>80</td>\n",
              "      <td>United-States</td>\n",
              "      <td>&gt;50K</td>\n",
              "    </tr>\n",
              "    <tr>\n",
              "      <th>11</th>\n",
              "      <td>30</td>\n",
              "      <td>State-gov</td>\n",
              "      <td>141297</td>\n",
              "      <td>Bachelors</td>\n",
              "      <td>13</td>\n",
              "      <td>Married-civ-spouse</td>\n",
              "      <td>Prof-specialty</td>\n",
              "      <td>Husband</td>\n",
              "      <td>Asian-Pac-Islander</td>\n",
              "      <td>Male</td>\n",
              "      <td>0</td>\n",
              "      <td>0</td>\n",
              "      <td>40</td>\n",
              "      <td>India</td>\n",
              "      <td>&gt;50K</td>\n",
              "    </tr>\n",
              "    <tr>\n",
              "      <th>12</th>\n",
              "      <td>23</td>\n",
              "      <td>Private</td>\n",
              "      <td>122272</td>\n",
              "      <td>Bachelors</td>\n",
              "      <td>13</td>\n",
              "      <td>Never-married</td>\n",
              "      <td>Adm-clerical</td>\n",
              "      <td>Own-child</td>\n",
              "      <td>White</td>\n",
              "      <td>Female</td>\n",
              "      <td>0</td>\n",
              "      <td>0</td>\n",
              "      <td>30</td>\n",
              "      <td>United-States</td>\n",
              "      <td>&lt;=50K</td>\n",
              "    </tr>\n",
              "    <tr>\n",
              "      <th>13</th>\n",
              "      <td>32</td>\n",
              "      <td>Private</td>\n",
              "      <td>205019</td>\n",
              "      <td>Assoc-acdm</td>\n",
              "      <td>12</td>\n",
              "      <td>Never-married</td>\n",
              "      <td>Sales</td>\n",
              "      <td>Not-in-family</td>\n",
              "      <td>Black</td>\n",
              "      <td>Male</td>\n",
              "      <td>0</td>\n",
              "      <td>0</td>\n",
              "      <td>50</td>\n",
              "      <td>United-States</td>\n",
              "      <td>&lt;=50K</td>\n",
              "    </tr>\n",
              "    <tr>\n",
              "      <th>14</th>\n",
              "      <td>40</td>\n",
              "      <td>Private</td>\n",
              "      <td>121772</td>\n",
              "      <td>Assoc-voc</td>\n",
              "      <td>11</td>\n",
              "      <td>Married-civ-spouse</td>\n",
              "      <td>Craft-repair</td>\n",
              "      <td>Husband</td>\n",
              "      <td>Asian-Pac-Islander</td>\n",
              "      <td>Male</td>\n",
              "      <td>0</td>\n",
              "      <td>0</td>\n",
              "      <td>40</td>\n",
              "      <td>NaN</td>\n",
              "      <td>&gt;50K</td>\n",
              "    </tr>\n",
              "    <tr>\n",
              "      <th>15</th>\n",
              "      <td>34</td>\n",
              "      <td>Private</td>\n",
              "      <td>245487</td>\n",
              "      <td>7th-8th</td>\n",
              "      <td>4</td>\n",
              "      <td>Married-civ-spouse</td>\n",
              "      <td>Transport-moving</td>\n",
              "      <td>Husband</td>\n",
              "      <td>Amer-Indian-Eskimo</td>\n",
              "      <td>Male</td>\n",
              "      <td>0</td>\n",
              "      <td>0</td>\n",
              "      <td>45</td>\n",
              "      <td>Mexico</td>\n",
              "      <td>&lt;=50K</td>\n",
              "    </tr>\n",
              "    <tr>\n",
              "      <th>16</th>\n",
              "      <td>25</td>\n",
              "      <td>Self-emp-not-inc</td>\n",
              "      <td>176756</td>\n",
              "      <td>HS-grad</td>\n",
              "      <td>9</td>\n",
              "      <td>Never-married</td>\n",
              "      <td>Farming-fishing</td>\n",
              "      <td>Own-child</td>\n",
              "      <td>White</td>\n",
              "      <td>Male</td>\n",
              "      <td>0</td>\n",
              "      <td>0</td>\n",
              "      <td>35</td>\n",
              "      <td>United-States</td>\n",
              "      <td>&lt;=50K</td>\n",
              "    </tr>\n",
              "    <tr>\n",
              "      <th>17</th>\n",
              "      <td>32</td>\n",
              "      <td>Private</td>\n",
              "      <td>186824</td>\n",
              "      <td>HS-grad</td>\n",
              "      <td>9</td>\n",
              "      <td>Never-married</td>\n",
              "      <td>Machine-op-inspct</td>\n",
              "      <td>Unmarried</td>\n",
              "      <td>White</td>\n",
              "      <td>Male</td>\n",
              "      <td>0</td>\n",
              "      <td>0</td>\n",
              "      <td>40</td>\n",
              "      <td>United-States</td>\n",
              "      <td>&lt;=50K</td>\n",
              "    </tr>\n",
              "    <tr>\n",
              "      <th>18</th>\n",
              "      <td>38</td>\n",
              "      <td>Private</td>\n",
              "      <td>28887</td>\n",
              "      <td>11th</td>\n",
              "      <td>7</td>\n",
              "      <td>Married-civ-spouse</td>\n",
              "      <td>Sales</td>\n",
              "      <td>Husband</td>\n",
              "      <td>White</td>\n",
              "      <td>Male</td>\n",
              "      <td>0</td>\n",
              "      <td>0</td>\n",
              "      <td>50</td>\n",
              "      <td>United-States</td>\n",
              "      <td>&lt;=50K</td>\n",
              "    </tr>\n",
              "    <tr>\n",
              "      <th>19</th>\n",
              "      <td>43</td>\n",
              "      <td>Self-emp-not-inc</td>\n",
              "      <td>292175</td>\n",
              "      <td>Masters</td>\n",
              "      <td>14</td>\n",
              "      <td>Divorced</td>\n",
              "      <td>Exec-managerial</td>\n",
              "      <td>Unmarried</td>\n",
              "      <td>White</td>\n",
              "      <td>Female</td>\n",
              "      <td>0</td>\n",
              "      <td>0</td>\n",
              "      <td>45</td>\n",
              "      <td>United-States</td>\n",
              "      <td>&gt;50K</td>\n",
              "    </tr>\n",
              "  </tbody>\n",
              "</table>\n",
              "</div>"
            ],
            "text/plain": [
              "    age          workclass  fnlwgt      education  education-num  \\\n",
              "0    39          State-gov   77516      Bachelors             13   \n",
              "1    50   Self-emp-not-inc   83311      Bachelors             13   \n",
              "2    38            Private  215646        HS-grad              9   \n",
              "3    53            Private  234721           11th              7   \n",
              "4    28            Private  338409      Bachelors             13   \n",
              "5    37            Private  284582        Masters             14   \n",
              "6    49            Private  160187            9th              5   \n",
              "7    52   Self-emp-not-inc  209642        HS-grad              9   \n",
              "8    31            Private   45781        Masters             14   \n",
              "9    42            Private  159449      Bachelors             13   \n",
              "10   37            Private  280464   Some-college             10   \n",
              "11   30          State-gov  141297      Bachelors             13   \n",
              "12   23            Private  122272      Bachelors             13   \n",
              "13   32            Private  205019     Assoc-acdm             12   \n",
              "14   40            Private  121772      Assoc-voc             11   \n",
              "15   34            Private  245487        7th-8th              4   \n",
              "16   25   Self-emp-not-inc  176756        HS-grad              9   \n",
              "17   32            Private  186824        HS-grad              9   \n",
              "18   38            Private   28887           11th              7   \n",
              "19   43   Self-emp-not-inc  292175        Masters             14   \n",
              "\n",
              "            marital-status          occupation    relationship  \\\n",
              "0            Never-married        Adm-clerical   Not-in-family   \n",
              "1       Married-civ-spouse     Exec-managerial         Husband   \n",
              "2                 Divorced   Handlers-cleaners   Not-in-family   \n",
              "3       Married-civ-spouse   Handlers-cleaners         Husband   \n",
              "4       Married-civ-spouse      Prof-specialty            Wife   \n",
              "5       Married-civ-spouse     Exec-managerial            Wife   \n",
              "6    Married-spouse-absent       Other-service   Not-in-family   \n",
              "7       Married-civ-spouse     Exec-managerial         Husband   \n",
              "8            Never-married      Prof-specialty   Not-in-family   \n",
              "9       Married-civ-spouse     Exec-managerial         Husband   \n",
              "10      Married-civ-spouse     Exec-managerial         Husband   \n",
              "11      Married-civ-spouse      Prof-specialty         Husband   \n",
              "12           Never-married        Adm-clerical       Own-child   \n",
              "13           Never-married               Sales   Not-in-family   \n",
              "14      Married-civ-spouse        Craft-repair         Husband   \n",
              "15      Married-civ-spouse    Transport-moving         Husband   \n",
              "16           Never-married     Farming-fishing       Own-child   \n",
              "17           Never-married   Machine-op-inspct       Unmarried   \n",
              "18      Married-civ-spouse               Sales         Husband   \n",
              "19                Divorced     Exec-managerial       Unmarried   \n",
              "\n",
              "                   race      sex  capital-gain  capital-loss  hours-per-week  \\\n",
              "0                 White     Male          2174             0              40   \n",
              "1                 White     Male             0             0              13   \n",
              "2                 White     Male             0             0              40   \n",
              "3                 Black     Male             0             0              40   \n",
              "4                 Black   Female             0             0              40   \n",
              "5                 White   Female             0             0              40   \n",
              "6                 Black   Female             0             0              16   \n",
              "7                 White     Male             0             0              45   \n",
              "8                 White   Female         14084             0              50   \n",
              "9                 White     Male          5178             0              40   \n",
              "10                Black     Male             0             0              80   \n",
              "11   Asian-Pac-Islander     Male             0             0              40   \n",
              "12                White   Female             0             0              30   \n",
              "13                Black     Male             0             0              50   \n",
              "14   Asian-Pac-Islander     Male             0             0              40   \n",
              "15   Amer-Indian-Eskimo     Male             0             0              45   \n",
              "16                White     Male             0             0              35   \n",
              "17                White     Male             0             0              40   \n",
              "18                White     Male             0             0              50   \n",
              "19                White   Female             0             0              45   \n",
              "\n",
              "           country  salary  \n",
              "0    United-States   <=50K  \n",
              "1    United-States   <=50K  \n",
              "2    United-States   <=50K  \n",
              "3    United-States   <=50K  \n",
              "4             Cuba   <=50K  \n",
              "5    United-States   <=50K  \n",
              "6          Jamaica   <=50K  \n",
              "7    United-States    >50K  \n",
              "8    United-States    >50K  \n",
              "9    United-States    >50K  \n",
              "10   United-States    >50K  \n",
              "11           India    >50K  \n",
              "12   United-States   <=50K  \n",
              "13   United-States   <=50K  \n",
              "14             NaN    >50K  \n",
              "15          Mexico   <=50K  \n",
              "16   United-States   <=50K  \n",
              "17   United-States   <=50K  \n",
              "18   United-States   <=50K  \n",
              "19   United-States    >50K  "
            ]
          },
          "metadata": {
            "tags": []
          },
          "execution_count": 4
        }
      ]
    },
    {
      "cell_type": "code",
      "metadata": {
        "id": "qcAmTxcXMbk6",
        "colab_type": "code",
        "outputId": "85d3d69f-6703-43ef-930c-f69b41afc4be",
        "colab": {
          "base_uri": "https://localhost:8080/",
          "height": 286
        }
      },
      "source": [
        "df.isnull().sum()"
      ],
      "execution_count": 0,
      "outputs": [
        {
          "output_type": "execute_result",
          "data": {
            "text/plain": [
              "age                  0\n",
              "workclass         1836\n",
              "fnlwgt               0\n",
              "education            0\n",
              "education-num        0\n",
              "marital-status       0\n",
              "occupation        1843\n",
              "relationship         0\n",
              "race                 0\n",
              "sex                  0\n",
              "capital-gain         0\n",
              "capital-loss         0\n",
              "hours-per-week       0\n",
              "country            583\n",
              "salary               0\n",
              "dtype: int64"
            ]
          },
          "metadata": {
            "tags": []
          },
          "execution_count": 5
        }
      ]
    },
    {
      "cell_type": "code",
      "metadata": {
        "id": "HE4BiLHyN8Df",
        "colab_type": "code",
        "outputId": "9cbe4d86-0755-4174-ddb9-cb0186936f2e",
        "colab": {
          "base_uri": "https://localhost:8080/",
          "height": 284
        }
      },
      "source": [
        "df.describe()"
      ],
      "execution_count": 0,
      "outputs": [
        {
          "output_type": "execute_result",
          "data": {
            "text/html": [
              "<div>\n",
              "<style scoped>\n",
              "    .dataframe tbody tr th:only-of-type {\n",
              "        vertical-align: middle;\n",
              "    }\n",
              "\n",
              "    .dataframe tbody tr th {\n",
              "        vertical-align: top;\n",
              "    }\n",
              "\n",
              "    .dataframe thead th {\n",
              "        text-align: right;\n",
              "    }\n",
              "</style>\n",
              "<table border=\"1\" class=\"dataframe\">\n",
              "  <thead>\n",
              "    <tr style=\"text-align: right;\">\n",
              "      <th></th>\n",
              "      <th>age</th>\n",
              "      <th>fnlwgt</th>\n",
              "      <th>education-num</th>\n",
              "      <th>capital-gain</th>\n",
              "      <th>capital-loss</th>\n",
              "      <th>hours-per-week</th>\n",
              "    </tr>\n",
              "  </thead>\n",
              "  <tbody>\n",
              "    <tr>\n",
              "      <th>count</th>\n",
              "      <td>32561.000000</td>\n",
              "      <td>3.256100e+04</td>\n",
              "      <td>32561.000000</td>\n",
              "      <td>32561.000000</td>\n",
              "      <td>32561.000000</td>\n",
              "      <td>32561.000000</td>\n",
              "    </tr>\n",
              "    <tr>\n",
              "      <th>mean</th>\n",
              "      <td>38.581647</td>\n",
              "      <td>1.897784e+05</td>\n",
              "      <td>10.080679</td>\n",
              "      <td>1077.648844</td>\n",
              "      <td>87.303830</td>\n",
              "      <td>40.437456</td>\n",
              "    </tr>\n",
              "    <tr>\n",
              "      <th>std</th>\n",
              "      <td>13.640433</td>\n",
              "      <td>1.055500e+05</td>\n",
              "      <td>2.572720</td>\n",
              "      <td>7385.292085</td>\n",
              "      <td>402.960219</td>\n",
              "      <td>12.347429</td>\n",
              "    </tr>\n",
              "    <tr>\n",
              "      <th>min</th>\n",
              "      <td>17.000000</td>\n",
              "      <td>1.228500e+04</td>\n",
              "      <td>1.000000</td>\n",
              "      <td>0.000000</td>\n",
              "      <td>0.000000</td>\n",
              "      <td>1.000000</td>\n",
              "    </tr>\n",
              "    <tr>\n",
              "      <th>25%</th>\n",
              "      <td>28.000000</td>\n",
              "      <td>1.178270e+05</td>\n",
              "      <td>9.000000</td>\n",
              "      <td>0.000000</td>\n",
              "      <td>0.000000</td>\n",
              "      <td>40.000000</td>\n",
              "    </tr>\n",
              "    <tr>\n",
              "      <th>50%</th>\n",
              "      <td>37.000000</td>\n",
              "      <td>1.783560e+05</td>\n",
              "      <td>10.000000</td>\n",
              "      <td>0.000000</td>\n",
              "      <td>0.000000</td>\n",
              "      <td>40.000000</td>\n",
              "    </tr>\n",
              "    <tr>\n",
              "      <th>75%</th>\n",
              "      <td>48.000000</td>\n",
              "      <td>2.370510e+05</td>\n",
              "      <td>12.000000</td>\n",
              "      <td>0.000000</td>\n",
              "      <td>0.000000</td>\n",
              "      <td>45.000000</td>\n",
              "    </tr>\n",
              "    <tr>\n",
              "      <th>max</th>\n",
              "      <td>90.000000</td>\n",
              "      <td>1.484705e+06</td>\n",
              "      <td>16.000000</td>\n",
              "      <td>99999.000000</td>\n",
              "      <td>4356.000000</td>\n",
              "      <td>99.000000</td>\n",
              "    </tr>\n",
              "  </tbody>\n",
              "</table>\n",
              "</div>"
            ],
            "text/plain": [
              "                age        fnlwgt  education-num  capital-gain  capital-loss  \\\n",
              "count  32561.000000  3.256100e+04   32561.000000  32561.000000  32561.000000   \n",
              "mean      38.581647  1.897784e+05      10.080679   1077.648844     87.303830   \n",
              "std       13.640433  1.055500e+05       2.572720   7385.292085    402.960219   \n",
              "min       17.000000  1.228500e+04       1.000000      0.000000      0.000000   \n",
              "25%       28.000000  1.178270e+05       9.000000      0.000000      0.000000   \n",
              "50%       37.000000  1.783560e+05      10.000000      0.000000      0.000000   \n",
              "75%       48.000000  2.370510e+05      12.000000      0.000000      0.000000   \n",
              "max       90.000000  1.484705e+06      16.000000  99999.000000   4356.000000   \n",
              "\n",
              "       hours-per-week  \n",
              "count    32561.000000  \n",
              "mean        40.437456  \n",
              "std         12.347429  \n",
              "min          1.000000  \n",
              "25%         40.000000  \n",
              "50%         40.000000  \n",
              "75%         45.000000  \n",
              "max         99.000000  "
            ]
          },
          "metadata": {
            "tags": []
          },
          "execution_count": 6
        }
      ]
    },
    {
      "cell_type": "code",
      "metadata": {
        "id": "Oyue3UgaOFQ5",
        "colab_type": "code",
        "outputId": "b4a95a5b-1dbe-42bf-fbb3-c8adc97b19a8",
        "colab": {
          "base_uri": "https://localhost:8080/",
          "height": 166
        }
      },
      "source": [
        "df.describe(exclude='number')"
      ],
      "execution_count": 0,
      "outputs": [
        {
          "output_type": "execute_result",
          "data": {
            "text/html": [
              "<div>\n",
              "<style scoped>\n",
              "    .dataframe tbody tr th:only-of-type {\n",
              "        vertical-align: middle;\n",
              "    }\n",
              "\n",
              "    .dataframe tbody tr th {\n",
              "        vertical-align: top;\n",
              "    }\n",
              "\n",
              "    .dataframe thead th {\n",
              "        text-align: right;\n",
              "    }\n",
              "</style>\n",
              "<table border=\"1\" class=\"dataframe\">\n",
              "  <thead>\n",
              "    <tr style=\"text-align: right;\">\n",
              "      <th></th>\n",
              "      <th>workclass</th>\n",
              "      <th>education</th>\n",
              "      <th>marital-status</th>\n",
              "      <th>occupation</th>\n",
              "      <th>relationship</th>\n",
              "      <th>race</th>\n",
              "      <th>sex</th>\n",
              "      <th>country</th>\n",
              "      <th>salary</th>\n",
              "    </tr>\n",
              "  </thead>\n",
              "  <tbody>\n",
              "    <tr>\n",
              "      <th>count</th>\n",
              "      <td>30725</td>\n",
              "      <td>32561</td>\n",
              "      <td>32561</td>\n",
              "      <td>30718</td>\n",
              "      <td>32561</td>\n",
              "      <td>32561</td>\n",
              "      <td>32561</td>\n",
              "      <td>31978</td>\n",
              "      <td>32561</td>\n",
              "    </tr>\n",
              "    <tr>\n",
              "      <th>unique</th>\n",
              "      <td>8</td>\n",
              "      <td>16</td>\n",
              "      <td>7</td>\n",
              "      <td>14</td>\n",
              "      <td>6</td>\n",
              "      <td>5</td>\n",
              "      <td>2</td>\n",
              "      <td>41</td>\n",
              "      <td>2</td>\n",
              "    </tr>\n",
              "    <tr>\n",
              "      <th>top</th>\n",
              "      <td>Private</td>\n",
              "      <td>HS-grad</td>\n",
              "      <td>Married-civ-spouse</td>\n",
              "      <td>Prof-specialty</td>\n",
              "      <td>Husband</td>\n",
              "      <td>White</td>\n",
              "      <td>Male</td>\n",
              "      <td>United-States</td>\n",
              "      <td>&lt;=50K</td>\n",
              "    </tr>\n",
              "    <tr>\n",
              "      <th>freq</th>\n",
              "      <td>22696</td>\n",
              "      <td>10501</td>\n",
              "      <td>14976</td>\n",
              "      <td>4140</td>\n",
              "      <td>13193</td>\n",
              "      <td>27816</td>\n",
              "      <td>21790</td>\n",
              "      <td>29170</td>\n",
              "      <td>24720</td>\n",
              "    </tr>\n",
              "  </tbody>\n",
              "</table>\n",
              "</div>"
            ],
            "text/plain": [
              "       workclass education       marital-status       occupation relationship  \\\n",
              "count      30725     32561                32561            30718        32561   \n",
              "unique         8        16                    7               14            6   \n",
              "top      Private   HS-grad   Married-civ-spouse   Prof-specialty      Husband   \n",
              "freq       22696     10501                14976             4140        13193   \n",
              "\n",
              "          race    sex         country  salary  \n",
              "count    32561  32561           31978   32561  \n",
              "unique       5      2              41       2  \n",
              "top      White   Male   United-States   <=50K  \n",
              "freq     27816  21790           29170   24720  "
            ]
          },
          "metadata": {
            "tags": []
          },
          "execution_count": 7
        }
      ]
    },
    {
      "cell_type": "code",
      "metadata": {
        "id": "vhJ8fmxbOct0",
        "colab_type": "code",
        "outputId": "633b6311-43f4-44e6-9cba-b7ce4e8d8c11",
        "colab": {
          "base_uri": "https://localhost:8080/",
          "height": 67
        }
      },
      "source": [
        "df.sex.value_counts()"
      ],
      "execution_count": 0,
      "outputs": [
        {
          "output_type": "execute_result",
          "data": {
            "text/plain": [
              " Male      21790\n",
              " Female    10771\n",
              "Name: sex, dtype: int64"
            ]
          },
          "metadata": {
            "tags": []
          },
          "execution_count": 8
        }
      ]
    },
    {
      "cell_type": "code",
      "metadata": {
        "id": "AA1CkBJxOuvF",
        "colab_type": "code",
        "outputId": "08cce63c-6d2a-4e96-c1b5-961c9147b419",
        "colab": {
          "base_uri": "https://localhost:8080/",
          "height": 333
        }
      },
      "source": [
        "cut_points = [0,9,19,29,39,49,1000]\n",
        "label_names = ['0-9', '10-19', '20-29', '30-39', '40-49', '50+']\n",
        "df['hours_per_week_categories'] = pd.cut(df['hours-per-week'], cut_points, labels=label_names)\n",
        "\n",
        "df.head()"
      ],
      "execution_count": 0,
      "outputs": [
        {
          "output_type": "execute_result",
          "data": {
            "text/html": [
              "<div>\n",
              "<style scoped>\n",
              "    .dataframe tbody tr th:only-of-type {\n",
              "        vertical-align: middle;\n",
              "    }\n",
              "\n",
              "    .dataframe tbody tr th {\n",
              "        vertical-align: top;\n",
              "    }\n",
              "\n",
              "    .dataframe thead th {\n",
              "        text-align: right;\n",
              "    }\n",
              "</style>\n",
              "<table border=\"1\" class=\"dataframe\">\n",
              "  <thead>\n",
              "    <tr style=\"text-align: right;\">\n",
              "      <th></th>\n",
              "      <th>age</th>\n",
              "      <th>workclass</th>\n",
              "      <th>fnlwgt</th>\n",
              "      <th>education</th>\n",
              "      <th>education-num</th>\n",
              "      <th>marital-status</th>\n",
              "      <th>occupation</th>\n",
              "      <th>relationship</th>\n",
              "      <th>race</th>\n",
              "      <th>sex</th>\n",
              "      <th>capital-gain</th>\n",
              "      <th>capital-loss</th>\n",
              "      <th>hours-per-week</th>\n",
              "      <th>country</th>\n",
              "      <th>salary</th>\n",
              "      <th>hours_per_week_categories</th>\n",
              "    </tr>\n",
              "  </thead>\n",
              "  <tbody>\n",
              "    <tr>\n",
              "      <th>0</th>\n",
              "      <td>39</td>\n",
              "      <td>State-gov</td>\n",
              "      <td>77516</td>\n",
              "      <td>Bachelors</td>\n",
              "      <td>13</td>\n",
              "      <td>Never-married</td>\n",
              "      <td>Adm-clerical</td>\n",
              "      <td>Not-in-family</td>\n",
              "      <td>White</td>\n",
              "      <td>Male</td>\n",
              "      <td>2174</td>\n",
              "      <td>0</td>\n",
              "      <td>40</td>\n",
              "      <td>United-States</td>\n",
              "      <td>&lt;=50K</td>\n",
              "      <td>40-49</td>\n",
              "    </tr>\n",
              "    <tr>\n",
              "      <th>1</th>\n",
              "      <td>50</td>\n",
              "      <td>Self-emp-not-inc</td>\n",
              "      <td>83311</td>\n",
              "      <td>Bachelors</td>\n",
              "      <td>13</td>\n",
              "      <td>Married-civ-spouse</td>\n",
              "      <td>Exec-managerial</td>\n",
              "      <td>Husband</td>\n",
              "      <td>White</td>\n",
              "      <td>Male</td>\n",
              "      <td>0</td>\n",
              "      <td>0</td>\n",
              "      <td>13</td>\n",
              "      <td>United-States</td>\n",
              "      <td>&lt;=50K</td>\n",
              "      <td>10-19</td>\n",
              "    </tr>\n",
              "    <tr>\n",
              "      <th>2</th>\n",
              "      <td>38</td>\n",
              "      <td>Private</td>\n",
              "      <td>215646</td>\n",
              "      <td>HS-grad</td>\n",
              "      <td>9</td>\n",
              "      <td>Divorced</td>\n",
              "      <td>Handlers-cleaners</td>\n",
              "      <td>Not-in-family</td>\n",
              "      <td>White</td>\n",
              "      <td>Male</td>\n",
              "      <td>0</td>\n",
              "      <td>0</td>\n",
              "      <td>40</td>\n",
              "      <td>United-States</td>\n",
              "      <td>&lt;=50K</td>\n",
              "      <td>40-49</td>\n",
              "    </tr>\n",
              "    <tr>\n",
              "      <th>3</th>\n",
              "      <td>53</td>\n",
              "      <td>Private</td>\n",
              "      <td>234721</td>\n",
              "      <td>11th</td>\n",
              "      <td>7</td>\n",
              "      <td>Married-civ-spouse</td>\n",
              "      <td>Handlers-cleaners</td>\n",
              "      <td>Husband</td>\n",
              "      <td>Black</td>\n",
              "      <td>Male</td>\n",
              "      <td>0</td>\n",
              "      <td>0</td>\n",
              "      <td>40</td>\n",
              "      <td>United-States</td>\n",
              "      <td>&lt;=50K</td>\n",
              "      <td>40-49</td>\n",
              "    </tr>\n",
              "    <tr>\n",
              "      <th>4</th>\n",
              "      <td>28</td>\n",
              "      <td>Private</td>\n",
              "      <td>338409</td>\n",
              "      <td>Bachelors</td>\n",
              "      <td>13</td>\n",
              "      <td>Married-civ-spouse</td>\n",
              "      <td>Prof-specialty</td>\n",
              "      <td>Wife</td>\n",
              "      <td>Black</td>\n",
              "      <td>Female</td>\n",
              "      <td>0</td>\n",
              "      <td>0</td>\n",
              "      <td>40</td>\n",
              "      <td>Cuba</td>\n",
              "      <td>&lt;=50K</td>\n",
              "      <td>40-49</td>\n",
              "    </tr>\n",
              "  </tbody>\n",
              "</table>\n",
              "</div>"
            ],
            "text/plain": [
              "   age          workclass  fnlwgt   education  education-num  \\\n",
              "0   39          State-gov   77516   Bachelors             13   \n",
              "1   50   Self-emp-not-inc   83311   Bachelors             13   \n",
              "2   38            Private  215646     HS-grad              9   \n",
              "3   53            Private  234721        11th              7   \n",
              "4   28            Private  338409   Bachelors             13   \n",
              "\n",
              "        marital-status          occupation    relationship    race      sex  \\\n",
              "0        Never-married        Adm-clerical   Not-in-family   White     Male   \n",
              "1   Married-civ-spouse     Exec-managerial         Husband   White     Male   \n",
              "2             Divorced   Handlers-cleaners   Not-in-family   White     Male   \n",
              "3   Married-civ-spouse   Handlers-cleaners         Husband   Black     Male   \n",
              "4   Married-civ-spouse      Prof-specialty            Wife   Black   Female   \n",
              "\n",
              "   capital-gain  capital-loss  hours-per-week         country  salary  \\\n",
              "0          2174             0              40   United-States   <=50K   \n",
              "1             0             0              13   United-States   <=50K   \n",
              "2             0             0              40   United-States   <=50K   \n",
              "3             0             0              40   United-States   <=50K   \n",
              "4             0             0              40            Cuba   <=50K   \n",
              "\n",
              "  hours_per_week_categories  \n",
              "0                     40-49  \n",
              "1                     10-19  \n",
              "2                     40-49  \n",
              "3                     40-49  \n",
              "4                     40-49  "
            ]
          },
          "metadata": {
            "tags": []
          },
          "execution_count": 9
        }
      ]
    },
    {
      "cell_type": "code",
      "metadata": {
        "id": "30H7XVkwPVrc",
        "colab_type": "code",
        "outputId": "29a6f3a3-443a-4cfe-bfa7-7574465d1010",
        "colab": {
          "base_uri": "https://localhost:8080/",
          "height": 195
        }
      },
      "source": [
        "data = df[['sex', 'hours_per_week_categories']]\n",
        "data.head()"
      ],
      "execution_count": 0,
      "outputs": [
        {
          "output_type": "execute_result",
          "data": {
            "text/html": [
              "<div>\n",
              "<style scoped>\n",
              "    .dataframe tbody tr th:only-of-type {\n",
              "        vertical-align: middle;\n",
              "    }\n",
              "\n",
              "    .dataframe tbody tr th {\n",
              "        vertical-align: top;\n",
              "    }\n",
              "\n",
              "    .dataframe thead th {\n",
              "        text-align: right;\n",
              "    }\n",
              "</style>\n",
              "<table border=\"1\" class=\"dataframe\">\n",
              "  <thead>\n",
              "    <tr style=\"text-align: right;\">\n",
              "      <th></th>\n",
              "      <th>sex</th>\n",
              "      <th>hours_per_week_categories</th>\n",
              "    </tr>\n",
              "  </thead>\n",
              "  <tbody>\n",
              "    <tr>\n",
              "      <th>0</th>\n",
              "      <td>Male</td>\n",
              "      <td>40-49</td>\n",
              "    </tr>\n",
              "    <tr>\n",
              "      <th>1</th>\n",
              "      <td>Male</td>\n",
              "      <td>10-19</td>\n",
              "    </tr>\n",
              "    <tr>\n",
              "      <th>2</th>\n",
              "      <td>Male</td>\n",
              "      <td>40-49</td>\n",
              "    </tr>\n",
              "    <tr>\n",
              "      <th>3</th>\n",
              "      <td>Male</td>\n",
              "      <td>40-49</td>\n",
              "    </tr>\n",
              "    <tr>\n",
              "      <th>4</th>\n",
              "      <td>Female</td>\n",
              "      <td>40-49</td>\n",
              "    </tr>\n",
              "  </tbody>\n",
              "</table>\n",
              "</div>"
            ],
            "text/plain": [
              "       sex hours_per_week_categories\n",
              "0     Male                     40-49\n",
              "1     Male                     10-19\n",
              "2     Male                     40-49\n",
              "3     Male                     40-49\n",
              "4   Female                     40-49"
            ]
          },
          "metadata": {
            "tags": []
          },
          "execution_count": 10
        }
      ]
    },
    {
      "cell_type": "code",
      "metadata": {
        "id": "Koz1a-1XPg_h",
        "colab_type": "code",
        "outputId": "3d571bba-dd36-4897-e31e-fa64c616b3a4",
        "colab": {
          "base_uri": "https://localhost:8080/",
          "height": 134
        }
      },
      "source": [
        "data['hours_per_week_categories'].value_counts()"
      ],
      "execution_count": 0,
      "outputs": [
        {
          "output_type": "execute_result",
          "data": {
            "text/plain": [
              "40-49    18336\n",
              "50+       6462\n",
              "30-39     3667\n",
              "20-29     2392\n",
              "10-19     1246\n",
              "0-9        458\n",
              "Name: hours_per_week_categories, dtype: int64"
            ]
          },
          "metadata": {
            "tags": []
          },
          "execution_count": 11
        }
      ]
    },
    {
      "cell_type": "markdown",
      "metadata": {
        "id": "QvZlXVjqRzpk",
        "colab_type": "text"
      },
      "source": [
        "Before we calculate our contingency table, lets make very clear what our null and alternative hypotheses are in this situation. \n",
        "\n",
        "$H_{0}$ : There is *no* statistically significant relationship between gender and working hours per week.\n",
        "\n",
        "$H_{a}$ : There *is* a statistically significant relationship between gender and working hours per week."
      ]
    },
    {
      "cell_type": "code",
      "metadata": {
        "id": "re1GyJPbR75J",
        "colab_type": "code",
        "outputId": "d89721dc-d191-4370-ffc2-c61c975aa347",
        "colab": {
          "base_uri": "https://localhost:8080/",
          "height": 166
        }
      },
      "source": [
        "# contingency_table = pd.crosstab(data['sex'], data['hours_per_week_categories'], margins=True, normalize=True)\n",
        "contingency_table = pd.crosstab(data['sex'], data['hours_per_week_categories'], margins=True)\n",
        "\n",
        "contingency_table"
      ],
      "execution_count": 0,
      "outputs": [
        {
          "output_type": "execute_result",
          "data": {
            "text/html": [
              "<div>\n",
              "<style scoped>\n",
              "    .dataframe tbody tr th:only-of-type {\n",
              "        vertical-align: middle;\n",
              "    }\n",
              "\n",
              "    .dataframe tbody tr th {\n",
              "        vertical-align: top;\n",
              "    }\n",
              "\n",
              "    .dataframe thead th {\n",
              "        text-align: right;\n",
              "    }\n",
              "</style>\n",
              "<table border=\"1\" class=\"dataframe\">\n",
              "  <thead>\n",
              "    <tr style=\"text-align: right;\">\n",
              "      <th>hours_per_week_categories</th>\n",
              "      <th>0-9</th>\n",
              "      <th>10-19</th>\n",
              "      <th>20-29</th>\n",
              "      <th>30-39</th>\n",
              "      <th>40-49</th>\n",
              "      <th>50+</th>\n",
              "      <th>All</th>\n",
              "    </tr>\n",
              "    <tr>\n",
              "      <th>sex</th>\n",
              "      <th></th>\n",
              "      <th></th>\n",
              "      <th></th>\n",
              "      <th></th>\n",
              "      <th></th>\n",
              "      <th></th>\n",
              "      <th></th>\n",
              "    </tr>\n",
              "  </thead>\n",
              "  <tbody>\n",
              "    <tr>\n",
              "      <th>Female</th>\n",
              "      <td>235</td>\n",
              "      <td>671</td>\n",
              "      <td>1287</td>\n",
              "      <td>1914</td>\n",
              "      <td>5636</td>\n",
              "      <td>1028</td>\n",
              "      <td>10771</td>\n",
              "    </tr>\n",
              "    <tr>\n",
              "      <th>Male</th>\n",
              "      <td>223</td>\n",
              "      <td>575</td>\n",
              "      <td>1105</td>\n",
              "      <td>1753</td>\n",
              "      <td>12700</td>\n",
              "      <td>5434</td>\n",
              "      <td>21790</td>\n",
              "    </tr>\n",
              "    <tr>\n",
              "      <th>All</th>\n",
              "      <td>6462</td>\n",
              "      <td>1246</td>\n",
              "      <td>18336</td>\n",
              "      <td>3667</td>\n",
              "      <td>458</td>\n",
              "      <td>2392</td>\n",
              "      <td>32561</td>\n",
              "    </tr>\n",
              "  </tbody>\n",
              "</table>\n",
              "</div>"
            ],
            "text/plain": [
              "hours_per_week_categories   0-9  10-19  20-29  30-39  40-49   50+    All\n",
              "sex                                                                     \n",
              " Female                     235    671   1287   1914   5636  1028  10771\n",
              " Male                       223    575   1105   1753  12700  5434  21790\n",
              "All                        6462   1246  18336   3667    458  2392  32561"
            ]
          },
          "metadata": {
            "tags": []
          },
          "execution_count": 12
        }
      ]
    },
    {
      "cell_type": "code",
      "metadata": {
        "id": "1P8lDFpyTwsE",
        "colab_type": "code",
        "outputId": "525c60bc-8170-4d27-a97d-7cfde4213d22",
        "colab": {
          "base_uri": "https://localhost:8080/",
          "height": 34
        }
      },
      "source": [
        "femalecount = contingency_table.iloc[0][0:6].values\n",
        "femalecount"
      ],
      "execution_count": 0,
      "outputs": [
        {
          "output_type": "execute_result",
          "data": {
            "text/plain": [
              "array([ 235,  671, 1287, 1914, 5636, 1028])"
            ]
          },
          "metadata": {
            "tags": []
          },
          "execution_count": 13
        }
      ]
    },
    {
      "cell_type": "code",
      "metadata": {
        "id": "coXVMrNQUPPH",
        "colab_type": "code",
        "outputId": "27bb484f-9f7c-4020-b43e-0d36320568b5",
        "colab": {
          "base_uri": "https://localhost:8080/",
          "height": 34
        }
      },
      "source": [
        "malecount = contingency_table.iloc[1][0:6].values\n",
        "malecount"
      ],
      "execution_count": 0,
      "outputs": [
        {
          "output_type": "execute_result",
          "data": {
            "text/plain": [
              "array([  223,   575,  1105,  1753, 12700,  5434])"
            ]
          },
          "metadata": {
            "tags": []
          },
          "execution_count": 14
        }
      ]
    },
    {
      "cell_type": "code",
      "metadata": {
        "id": "Q75NcxMzUaJd",
        "colab_type": "code",
        "outputId": "691ac02d-cf49-4f18-b4c0-0e41e39ae706",
        "colab": {
          "base_uri": "https://localhost:8080/",
          "height": 361
        }
      },
      "source": [
        "import matplotlib.pyplot as plt\n",
        "import seaborn as sns\n",
        "\n",
        "#Plots the bar chart\n",
        "fig = plt.figure(figsize=(10, 5))\n",
        "sns.set(font_scale=1.8)\n",
        "categories = [\"0-9\",\"10-19\",\"20-29\",\"30-39\",\"40-49\",\"50+\"]\n",
        "p1 = plt.bar(categories, malecount, 0.55, color='#d62728')\n",
        "p2 = plt.bar(categories, femalecount, 0.55, bottom=malecount)\n",
        "plt.legend((p2[0], p1[0]), ('Male', 'Female'))\n",
        "plt.xlabel('Hours per Week Worked')\n",
        "plt.ylabel('Count')\n",
        "plt.show()"
      ],
      "execution_count": 0,
      "outputs": [
        {
          "output_type": "display_data",
          "data": {
            "image/png": "[encoded data removed]",
            "text/plain": [
              "<Figure size 720x360 with 1 Axes>"
            ]
          },
          "metadata": {
            "tags": []
          }
        }
      ]
    },
    {
      "cell_type": "markdown",
      "metadata": {
        "id": "D6XcKrc3U8rz",
        "colab_type": "text"
      },
      "source": [
        "### Expected Value Calculation\n",
        "\\begin{align}\n",
        "expected_{i,j} =\\frac{(row_{i} \\text{total})(column_{j} \\text{total}) }{(\\text{total observations})}  \n",
        "\\end{align}"
      ]
    },
    {
      "cell_type": "code",
      "metadata": {
        "id": "krXbCNcZU4T6",
        "colab_type": "code",
        "outputId": "80dfebad-8d3d-4733-ffed-7f021a090899",
        "colab": {
          "base_uri": "https://localhost:8080/",
          "height": 50
        }
      },
      "source": [
        "# Get Row Sums\n",
        "row_sums = contingency_table.iloc[0:2, 6].values\n",
        "col_sums = contingency_table.iloc[2, 0:6].values\n",
        "\n",
        "print(row_sums)\n",
        "print(col_sums)"
      ],
      "execution_count": 0,
      "outputs": [
        {
          "output_type": "stream",
          "text": [
            "[10771 21790]\n",
            "[ 6462  1246 18336  3667   458  2392]\n"
          ],
          "name": "stdout"
        }
      ]
    },
    {
      "cell_type": "code",
      "metadata": {
        "id": "MYYa7r4rVaEn",
        "colab_type": "code",
        "outputId": "10c68644-5f25-4b38-8096-0c0a2b10f529",
        "colab": {
          "base_uri": "https://localhost:8080/",
          "height": 101
        }
      },
      "source": [
        "total = contingency_table.loc['All', 'All']\n",
        "print(total)\n",
        "\n",
        "expected = []\n",
        "for i in range(len(row_sums)):\n",
        "  expected_row = []\n",
        "  for column in col_sums:\n",
        "    expected_val = column*row_sums[i]/total\n",
        "    expected_row.append(expected_val)\n",
        "  expected.append(expected_row)\n",
        "  \n",
        "print(np.array(expected))\n",
        "\n",
        "# print(np.array(expected).T[0].sum())"
      ],
      "execution_count": 0,
      "outputs": [
        {
          "output_type": "stream",
          "text": [
            "32561\n",
            "[[ 2137.59411566   412.16995793  6065.44811277  1213.02346365\n",
            "    151.50388502   791.26046497]\n",
            " [ 4324.40588434   833.83004207 12270.55188723  2453.97653635\n",
            "    306.49611498  1600.73953503]]\n"
          ],
          "name": "stdout"
        }
      ]
    },
    {
      "cell_type": "markdown",
      "metadata": {
        "id": "eN_lwpzXWif5",
        "colab_type": "text"
      },
      "source": [
        "## Chi-Squared Statistic with Numpy\n",
        "\n",
        "\\begin{align}\n",
        "\\chi^2 = \\sum \\frac{(observed_{i}-expected_{i})^2}{(expected_{i})}\n",
        "\\end{align}\n",
        "\n",
        "For the $observed$ values we will just use a version of our contingency table without the margins as a numpy array. In this way, if our observed values array and our expected values array are the same shape, then we can subtract them and divide them directly which makes the calculations a lot cleaner. No for loops!"
      ]
    },
    {
      "cell_type": "code",
      "metadata": {
        "id": "_dBmKr36WnjQ",
        "colab_type": "code",
        "outputId": "b296a9e2-245c-41ac-c9f6-e9e4636fe5bd",
        "colab": {
          "base_uri": "https://localhost:8080/",
          "height": 67
        }
      },
      "source": [
        "contingency = pd.crosstab(data['sex'],\n",
        "                          data['hours_per_week_categories'])\n",
        "contingency = contingency.values\n",
        "\n",
        "print(contingency.shape)\n",
        "print(contingency)"
      ],
      "execution_count": 0,
      "outputs": [
        {
          "output_type": "stream",
          "text": [
            "(2, 6)\n",
            "[[  235   671  1287  1914  5636  1028]\n",
            " [  223   575  1105  1753 12700  5434]]\n"
          ],
          "name": "stdout"
        }
      ]
    },
    {
      "cell_type": "code",
      "metadata": {
        "id": "Ya5LFC1kW2Be",
        "colab_type": "code",
        "outputId": "4f3b91d6-0d32-4276-a648-8f86ddfa3659",
        "colab": {
          "base_uri": "https://localhost:8080/",
          "height": 34
        }
      },
      "source": [
        "chi_squared = ((contingency - expected)**2/(expected)).sum()\n",
        "print(f\"Chi-Squared: {chi_squared}\")"
      ],
      "execution_count": 0,
      "outputs": [
        {
          "output_type": "stream",
          "text": [
            "Chi-Squared: 729291.9658823247\n"
          ],
          "name": "stdout"
        }
      ]
    },
    {
      "cell_type": "code",
      "metadata": {
        "id": "L-AG-yiNYi83",
        "colab_type": "code",
        "outputId": "00e72e19-7511-40b6-fd3c-f7e845e28778",
        "colab": {
          "base_uri": "https://localhost:8080/",
          "height": 34
        }
      },
      "source": [
        "# Calculate Degrees of Freedom\n",
        "dof = (len(row_sums)-1)*(len(col_sums)-1)\n",
        "print(f\"Degrees of Freedom: {dof}\")                        "
      ],
      "execution_count": 0,
      "outputs": [
        {
          "output_type": "stream",
          "text": [
            "Degrees of Freedom: 5\n"
          ],
          "name": "stdout"
        }
      ]
    },
    {
      "cell_type": "code",
      "metadata": {
        "id": "AGtRKkSWYnbH",
        "colab_type": "code",
        "outputId": "72dd6ae9-1f15-41ac-9a6e-3e3504a26f2e",
        "colab": {
          "base_uri": "https://localhost:8080/",
          "height": 34
        }
      },
      "source": [
        "# Calculate the p-value from the chi_squared and dof\n",
        "p_value = stats.chi2.sf(2287.19, dof)\n",
        "print(f\"P-value: {p_value}\")"
      ],
      "execution_count": 0,
      "outputs": [
        {
          "output_type": "stream",
          "text": [
            "P-value: 0.0\n"
          ],
          "name": "stdout"
        }
      ]
    },
    {
      "cell_type": "code",
      "metadata": {
        "id": "EylecdyPYyST",
        "colab_type": "code",
        "outputId": "1c914852-c266-490b-c988-641721bf6cc5",
        "colab": {
          "base_uri": "https://localhost:8080/",
          "height": 151
        }
      },
      "source": [
        "chi_squared, p_value, dof, expected = stats.chi2_contingency(contingency)\n",
        "\n",
        "print(f\"Chi-Squared: {chi_squared}\")\n",
        "print(f\"P-value: {p_value}\")\n",
        "print(f\"Degrees of Freedom: {dof}\") \n",
        "print(\"Expected: \\n\", np.array(expected))"
      ],
      "execution_count": 0,
      "outputs": [
        {
          "output_type": "stream",
          "text": [
            "Chi-Squared: 2287.190943926107\n",
            "P-value: 0.0\n",
            "Degrees of Freedom: 5\n",
            "Expected: \n",
            " [[  151.50388502   412.16995793   791.26046497  1213.02346365\n",
            "   6065.44811277  2137.59411566]\n",
            " [  306.49611498   833.83004207  1600.73953503  2453.97653635\n",
            "  12270.55188723  4324.40588434]]\n"
          ],
          "name": "stdout"
        }
      ]
    },
    {
      "cell_type": "markdown",
      "metadata": {
        "id": "Aqp-TY94Zcrt",
        "colab_type": "text"
      },
      "source": [
        "## Confidence Intervals"
      ]
    },
    {
      "cell_type": "code",
      "metadata": {
        "id": "krmU7WPyZeSB",
        "colab_type": "code",
        "outputId": "4e100c80-eb9c-4a38-e5e8-89e15a901dd0",
        "colab": {
          "base_uri": "https://localhost:8080/",
          "height": 67
        }
      },
      "source": [
        "import scipy.stats as stats\n",
        "import numpy as np\n",
        "\n",
        "#confidence_interval = [lower_bound, upper_bound]\n",
        "\n",
        "coinflips = np.random.binomial(n=1, p=.7, size=100)\n",
        "print(coinflips)"
      ],
      "execution_count": 0,
      "outputs": [
        {
          "output_type": "stream",
          "text": [
            "[0 1 1 1 1 0 0 1 0 0 1 1 0 1 1 1 0 1 0 0 1 1 1 1 1 1 1 1 1 0 1 1 1 1 1 1 1\n",
            " 1 0 1 1 0 1 1 0 1 1 1 0 1 0 1 0 0 1 1 0 0 0 1 1 1 0 1 1 1 0 1 1 1 1 1 1 1\n",
            " 1 1 1 0 1 1 0 0 1 0 1 0 1 0 1 1 1 0 1 1 1 1 1 1 1 1]\n"
          ],
          "name": "stdout"
        }
      ]
    },
    {
      "cell_type": "code",
      "metadata": {
        "id": "mvl0eDa0aITa",
        "colab_type": "code",
        "outputId": "20e2d065-b39e-4a99-fbea-f2853bae3e34",
        "colab": {
          "base_uri": "https://localhost:8080/",
          "height": 34
        }
      },
      "source": [
        "stats.ttest_1samp(coinflips, .5)"
      ],
      "execution_count": 0,
      "outputs": [
        {
          "output_type": "execute_result",
          "data": {
            "text/plain": [
              "Ttest_1sampResult(statistic=4.604778226558187, pvalue=1.2289725310347178e-05)"
            ]
          },
          "metadata": {
            "tags": []
          },
          "execution_count": 24
        }
      ]
    },
    {
      "cell_type": "code",
      "metadata": {
        "id": "vcwuUwSDalqs",
        "colab_type": "code",
        "outputId": "bf1908a6-7422-4980-e2c0-b3f012f7184d",
        "colab": {
          "base_uri": "https://localhost:8080/",
          "height": 50
        }
      },
      "source": [
        "coinflips_100 = np.random.binomial(n=1, p=.5, size=100)\n",
        "coinflips_1000 = np.random.binomial(n=1, p=.5, size=1000)\n",
        "\n",
        "print(\"100 Coinflips Standard Deviation:\", np.std(coinflips_100))\n",
        "print(\"1000 Coinflips Standard Deviation:\", np.std(coinflips_1000))"
      ],
      "execution_count": 0,
      "outputs": [
        {
          "output_type": "stream",
          "text": [
            "100 Coinflips Standard Deviation: 0.49839743177508444\n",
            "1000 Coinflips Standard Deviation: 0.4999839997439918\n"
          ],
          "name": "stdout"
        }
      ]
    },
    {
      "cell_type": "code",
      "metadata": {
        "id": "K5Bd_FbyazLj",
        "colab_type": "code",
        "outputId": "a7673b6c-fb84-48f5-f76c-f25ebfa9c274",
        "colab": {
          "base_uri": "https://localhost:8080/",
          "height": 50
        }
      },
      "source": [
        "print(\"100 Coinflips Standard Error:\", stats.sem(coinflips_100))\n",
        "print(\"1000 Coinflips Standard :\", stats.sem(coinflips_1000))"
      ],
      "execution_count": 0,
      "outputs": [
        {
          "output_type": "stream",
          "text": [
            "100 Coinflips Standard Error: 0.05009082659620331\n",
            "1000 Coinflips Standard : 0.015818793703510844\n"
          ],
          "name": "stdout"
        }
      ]
    },
    {
      "cell_type": "code",
      "metadata": {
        "id": "EWfrusvAbDnz",
        "colab_type": "code",
        "outputId": "a7f2f104-1eb5-4cb6-9a6e-f6b0a99687a3",
        "colab": {
          "base_uri": "https://localhost:8080/",
          "height": 34
        }
      },
      "source": [
        "0.4995998398718718/np.sqrt(100)"
      ],
      "execution_count": 0,
      "outputs": [
        {
          "output_type": "execute_result",
          "data": {
            "text/plain": [
              "0.04995998398718718"
            ]
          },
          "metadata": {
            "tags": []
          },
          "execution_count": 27
        }
      ]
    },
    {
      "cell_type": "code",
      "metadata": {
        "id": "AZedvKZKbKx4",
        "colab_type": "code",
        "outputId": "ff8b5dda-b7f5-4930-cdf6-7540a424cc9b",
        "colab": {
          "base_uri": "https://localhost:8080/",
          "height": 34
        }
      },
      "source": [
        "0.4998039615689336/np.sqrt(1000)"
      ],
      "execution_count": 0,
      "outputs": [
        {
          "output_type": "execute_result",
          "data": {
            "text/plain": [
              "0.015805189021330938"
            ]
          },
          "metadata": {
            "tags": []
          },
          "execution_count": 28
        }
      ]
    },
    {
      "cell_type": "code",
      "metadata": {
        "id": "P0POmtFObdSJ",
        "colab_type": "code",
        "colab": {}
      },
      "source": [
        "# Confidence intervals!\n",
        "# Similar to hypothesis testing, but centered at sample mean\n",
        "# Generally better than reporting the \"point estimate\" (sample mean)\n",
        "# Why? Because point estimates aren't always perfect\n",
        "\n",
        "import numpy as np\n",
        "from scipy import stats\n",
        "\n",
        "def confidence_interval(data, confidence=0.95):\n",
        "  \"\"\"\n",
        "  Calculate a confidence interval around a sample mean for given data.\n",
        "  Using t-distribution and two-tailed test, default 95% confidence. \n",
        "  \n",
        "  Arguments:\n",
        "    data - iterable (list or numpy array) of sample observations\n",
        "    confidence - level of confidence for the interval\n",
        "  \n",
        "  Returns:\n",
        "    tuple of (mean, lower bound, upper bound)\n",
        "  \"\"\"\n",
        "  data = np.array(data)\n",
        "  mean = np.mean(data)\n",
        "  n = len(data)\n",
        "  stderr = stats.sem(data)\n",
        "  interval = stderr * stats.t.ppf((1 + confidence) / 2.0, n - 1)\n",
        "  return (mean, mean - interval, mean + interval)\n",
        "\n",
        "def report_confidence_interval(confidence_interval):\n",
        "  \"\"\"\n",
        "  Return a string with a pretty report of a confidence interval.\n",
        "  \n",
        "  Arguments:\n",
        "    confidence_interval - tuple of (mean, lower bound, upper bound)\n",
        "  \n",
        "  Returns:\n",
        "    None, but prints to screen the report\n",
        "  \"\"\"\n",
        "  #print('Mean: {}'.format(confidence_interval[0]))\n",
        "  #print('Lower bound: {}'.format(confidence_interval[1]))\n",
        "  #print('Upper bound: {}'.format(confidence_interval[2]))\n",
        "  s = \"our mean lies in the interval [{:.2}, {:.2}]\".format(\n",
        "      confidence_interval[1], confidence_interval[2])\n",
        "  return s"
      ],
      "execution_count": 0,
      "outputs": []
    },
    {
      "cell_type": "code",
      "metadata": {
        "id": "rnmUzF15gKsT",
        "colab_type": "code",
        "outputId": "29abc2fe-bc2d-4215-cec8-4eaed638bf46",
        "colab": {
          "base_uri": "https://localhost:8080/",
          "height": 34
        }
      },
      "source": [
        "stats.t.ppf(0.1, 99)"
      ],
      "execution_count": 0,
      "outputs": [
        {
          "output_type": "execute_result",
          "data": {
            "text/plain": [
              "-1.2901614420275023"
            ]
          },
          "metadata": {
            "tags": []
          },
          "execution_count": 30
        }
      ]
    },
    {
      "cell_type": "code",
      "metadata": {
        "id": "N7vnw8-FeeYX",
        "colab_type": "code",
        "outputId": "5b9a7a9f-bbf8-43c4-ec5b-c7dba008b914",
        "colab": {
          "base_uri": "https://localhost:8080/",
          "height": 34
        }
      },
      "source": [
        "(1+.95)/2.0"
      ],
      "execution_count": 0,
      "outputs": [
        {
          "output_type": "execute_result",
          "data": {
            "text/plain": [
              "0.975"
            ]
          },
          "metadata": {
            "tags": []
          },
          "execution_count": 31
        }
      ]
    },
    {
      "cell_type": "code",
      "metadata": {
        "id": "5d4mDCKSbtvh",
        "colab_type": "code",
        "colab": {}
      },
      "source": [
        "coinflips = np.random.binomial(n=1, p=.5, size=100)\n",
        "# print(coinflips)"
      ],
      "execution_count": 0,
      "outputs": []
    },
    {
      "cell_type": "code",
      "metadata": {
        "id": "6gT6K1yDbl9M",
        "colab_type": "code",
        "outputId": "c8138616-d42a-4206-a96f-bf6918edc080",
        "colab": {
          "base_uri": "https://localhost:8080/",
          "height": 34
        }
      },
      "source": [
        "coinflip_interval = confidence_interval(coinflips)  # Default 95% conf\n",
        "coinflip_interval"
      ],
      "execution_count": 0,
      "outputs": [
        {
          "output_type": "execute_result",
          "data": {
            "text/plain": [
              "(0.5, 0.400289346502771, 0.599710653497229)"
            ]
          },
          "metadata": {
            "tags": []
          },
          "execution_count": 33
        }
      ]
    },
    {
      "cell_type": "code",
      "metadata": {
        "id": "K9uxdzJFcPDm",
        "colab_type": "code",
        "outputId": "8c46f24a-f2ca-4be5-f3cd-dd9e9e7702d5",
        "colab": {
          "base_uri": "https://localhost:8080/",
          "height": 5057
        }
      },
      "source": [
        "def get_100_coinflips():\n",
        "  return np.random.binomial(n=1, p=.5, size=100)\n",
        "\n",
        "for i in range(0,100):\n",
        "  # 100 Coinflips\n",
        "  coinflips = get_100_coinflips()\n",
        "  # Calculate Confidence Interval\n",
        "  coinflip_interval = confidence_interval(coinflips)\n",
        "  # Report Confidence Interval\n",
        "  print('Mean: {}'.format(coinflip_interval[0]))\n",
        "  print('Lower bound: {}'.format(coinflip_interval[1]))\n",
        "  print('Upper bound: {}'.format(coinflip_interval[2]))"
      ],
      "execution_count": 0,
      "outputs": [
        {
          "output_type": "stream",
          "text": [
            "Mean: 0.48\n",
            "Lower bound: 0.38036914695852936\n",
            "Upper bound: 0.5796308530414707\n",
            "Mean: 0.42\n",
            "Lower bound: 0.32157391742190056\n",
            "Upper bound: 0.5184260825780994\n",
            "Mean: 0.54\n",
            "Lower bound: 0.4406089327527315\n",
            "Upper bound: 0.6393910672472686\n",
            "Mean: 0.48\n",
            "Lower bound: 0.38036914695852936\n",
            "Upper bound: 0.5796308530414707\n",
            "Mean: 0.49\n",
            "Lower bound: 0.3903092906280824\n",
            "Upper bound: 0.5896907093719176\n",
            "Mean: 0.61\n",
            "Lower bound: 0.5127322702903188\n",
            "Upper bound: 0.7072677297096812\n",
            "Mean: 0.48\n",
            "Lower bound: 0.38036914695852936\n",
            "Upper bound: 0.5796308530414707\n",
            "Mean: 0.56\n",
            "Lower bound: 0.46100986648567294\n",
            "Upper bound: 0.6589901335143271\n",
            "Mean: 0.48\n",
            "Lower bound: 0.38036914695852936\n",
            "Upper bound: 0.5796308530414707\n",
            "Mean: 0.5\n",
            "Lower bound: 0.400289346502771\n",
            "Upper bound: 0.599710653497229\n",
            "Mean: 0.47\n",
            "Lower bound: 0.3704689875017368\n",
            "Upper bound: 0.5695310124982632\n",
            "Mean: 0.4\n",
            "Lower bound: 0.30230391080493196\n",
            "Upper bound: 0.4976960891950681\n",
            "Mean: 0.49\n",
            "Lower bound: 0.3903092906280824\n",
            "Upper bound: 0.5896907093719176\n",
            "Mean: 0.48\n",
            "Lower bound: 0.38036914695852936\n",
            "Upper bound: 0.5796308530414707\n",
            "Mean: 0.56\n",
            "Lower bound: 0.46100986648567294\n",
            "Upper bound: 0.6589901335143271\n",
            "Mean: 0.6\n",
            "Lower bound: 0.5023039108049319\n",
            "Upper bound: 0.6976960891950681\n",
            "Mean: 0.55\n",
            "Lower bound: 0.4507891524245659\n",
            "Upper bound: 0.6492108475754341\n",
            "Mean: 0.49\n",
            "Lower bound: 0.3903092906280824\n",
            "Upper bound: 0.5896907093719176\n",
            "Mean: 0.51\n",
            "Lower bound: 0.41030929062808247\n",
            "Upper bound: 0.6096907093719175\n",
            "Mean: 0.42\n",
            "Lower bound: 0.32157391742190056\n",
            "Upper bound: 0.5184260825780994\n",
            "Mean: 0.57\n",
            "Lower bound: 0.47127134651887564\n",
            "Upper bound: 0.6687286534811242\n",
            "Mean: 0.48\n",
            "Lower bound: 0.38036914695852936\n",
            "Upper bound: 0.5796308530414707\n",
            "Mean: 0.44\n",
            "Lower bound: 0.3410098664856729\n",
            "Upper bound: 0.5389901335143271\n",
            "Mean: 0.46\n",
            "Lower bound: 0.3606089327527314\n",
            "Upper bound: 0.5593910672472686\n",
            "Mean: 0.46\n",
            "Lower bound: 0.3606089327527314\n",
            "Upper bound: 0.5593910672472686\n",
            "Mean: 0.59\n",
            "Lower bound: 0.49191795947468714\n",
            "Upper bound: 0.6880820405253127\n",
            "Mean: 0.51\n",
            "Lower bound: 0.41030929062808247\n",
            "Upper bound: 0.6096907093719175\n",
            "Mean: 0.54\n",
            "Lower bound: 0.4406089327527315\n",
            "Upper bound: 0.6393910672472686\n",
            "Mean: 0.59\n",
            "Lower bound: 0.49191795947468714\n",
            "Upper bound: 0.6880820405253127\n",
            "Mean: 0.51\n",
            "Lower bound: 0.41030929062808247\n",
            "Upper bound: 0.6096907093719175\n",
            "Mean: 0.53\n",
            "Lower bound: 0.43046898750173684\n",
            "Upper bound: 0.6295310124982633\n",
            "Mean: 0.43\n",
            "Lower bound: 0.3312713465188757\n",
            "Upper bound: 0.5287286534811243\n",
            "Mean: 0.43\n",
            "Lower bound: 0.3312713465188757\n",
            "Upper bound: 0.5287286534811243\n",
            "Mean: 0.53\n",
            "Lower bound: 0.43046898750173684\n",
            "Upper bound: 0.6295310124982633\n",
            "Mean: 0.5\n",
            "Lower bound: 0.400289346502771\n",
            "Upper bound: 0.599710653497229\n",
            "Mean: 0.59\n",
            "Lower bound: 0.49191795947468714\n",
            "Upper bound: 0.6880820405253127\n",
            "Mean: 0.53\n",
            "Lower bound: 0.43046898750173684\n",
            "Upper bound: 0.6295310124982633\n",
            "Mean: 0.55\n",
            "Lower bound: 0.4507891524245659\n",
            "Upper bound: 0.6492108475754341\n",
            "Mean: 0.5\n",
            "Lower bound: 0.400289346502771\n",
            "Upper bound: 0.599710653497229\n",
            "Mean: 0.51\n",
            "Lower bound: 0.4103092906280824\n",
            "Upper bound: 0.6096907093719176\n",
            "Mean: 0.49\n",
            "Lower bound: 0.3903092906280824\n",
            "Upper bound: 0.5896907093719176\n",
            "Mean: 0.49\n",
            "Lower bound: 0.3903092906280824\n",
            "Upper bound: 0.5896907093719176\n",
            "Mean: 0.48\n",
            "Lower bound: 0.38036914695852936\n",
            "Upper bound: 0.5796308530414707\n",
            "Mean: 0.52\n",
            "Lower bound: 0.4203691469585294\n",
            "Upper bound: 0.6196308530414707\n",
            "Mean: 0.48\n",
            "Lower bound: 0.38036914695852936\n",
            "Upper bound: 0.5796308530414707\n",
            "Mean: 0.55\n",
            "Lower bound: 0.4507891524245659\n",
            "Upper bound: 0.6492108475754341\n",
            "Mean: 0.54\n",
            "Lower bound: 0.4406089327527315\n",
            "Upper bound: 0.6393910672472686\n",
            "Mean: 0.49\n",
            "Lower bound: 0.3903092906280824\n",
            "Upper bound: 0.5896907093719176\n",
            "Mean: 0.49\n",
            "Lower bound: 0.3903092906280824\n",
            "Upper bound: 0.5896907093719176\n",
            "Mean: 0.58\n",
            "Lower bound: 0.4815739174219005\n",
            "Upper bound: 0.6784260825780994\n",
            "Mean: 0.53\n",
            "Lower bound: 0.43046898750173684\n",
            "Upper bound: 0.6295310124982633\n",
            "Mean: 0.53\n",
            "Lower bound: 0.43046898750173684\n",
            "Upper bound: 0.6295310124982633\n",
            "Mean: 0.57\n",
            "Lower bound: 0.47127134651887564\n",
            "Upper bound: 0.6687286534811243\n",
            "Mean: 0.59\n",
            "Lower bound: 0.49191795947468714\n",
            "Upper bound: 0.6880820405253127\n",
            "Mean: 0.54\n",
            "Lower bound: 0.4406089327527315\n",
            "Upper bound: 0.6393910672472686\n",
            "Mean: 0.5\n",
            "Lower bound: 0.400289346502771\n",
            "Upper bound: 0.599710653497229\n",
            "Mean: 0.5\n",
            "Lower bound: 0.400289346502771\n",
            "Upper bound: 0.599710653497229\n",
            "Mean: 0.47\n",
            "Lower bound: 0.3704689875017368\n",
            "Upper bound: 0.5695310124982632\n",
            "Mean: 0.64\n",
            "Lower bound: 0.5442777726426602\n",
            "Upper bound: 0.7357222273573398\n",
            "Mean: 0.46\n",
            "Lower bound: 0.3606089327527314\n",
            "Upper bound: 0.5593910672472686\n",
            "Mean: 0.55\n",
            "Lower bound: 0.4507891524245659\n",
            "Upper bound: 0.6492108475754341\n",
            "Mean: 0.44\n",
            "Lower bound: 0.3410098664856729\n",
            "Upper bound: 0.5389901335143271\n",
            "Mean: 0.49\n",
            "Lower bound: 0.3903092906280824\n",
            "Upper bound: 0.5896907093719176\n",
            "Mean: 0.47\n",
            "Lower bound: 0.3704689875017368\n",
            "Upper bound: 0.5695310124982632\n",
            "Mean: 0.45\n",
            "Lower bound: 0.3507891524245659\n",
            "Upper bound: 0.5492108475754341\n",
            "Mean: 0.46\n",
            "Lower bound: 0.3606089327527314\n",
            "Upper bound: 0.5593910672472686\n",
            "Mean: 0.53\n",
            "Lower bound: 0.43046898750173684\n",
            "Upper bound: 0.6295310124982633\n",
            "Mean: 0.52\n",
            "Lower bound: 0.4203691469585294\n",
            "Upper bound: 0.6196308530414707\n",
            "Mean: 0.59\n",
            "Lower bound: 0.49191795947468714\n",
            "Upper bound: 0.6880820405253127\n",
            "Mean: 0.4\n",
            "Lower bound: 0.30230391080493196\n",
            "Upper bound: 0.4976960891950681\n",
            "Mean: 0.49\n",
            "Lower bound: 0.39030929062808245\n",
            "Upper bound: 0.5896907093719175\n",
            "Mean: 0.52\n",
            "Lower bound: 0.4203691469585294\n",
            "Upper bound: 0.6196308530414707\n",
            "Mean: 0.5\n",
            "Lower bound: 0.400289346502771\n",
            "Upper bound: 0.599710653497229\n",
            "Mean: 0.5\n",
            "Lower bound: 0.400289346502771\n",
            "Upper bound: 0.599710653497229\n",
            "Mean: 0.42\n",
            "Lower bound: 0.32157391742190056\n",
            "Upper bound: 0.5184260825780994\n",
            "Mean: 0.54\n",
            "Lower bound: 0.4406089327527315\n",
            "Upper bound: 0.6393910672472686\n",
            "Mean: 0.55\n",
            "Lower bound: 0.4507891524245659\n",
            "Upper bound: 0.6492108475754341\n",
            "Mean: 0.49\n",
            "Lower bound: 0.3903092906280824\n",
            "Upper bound: 0.5896907093719176\n",
            "Mean: 0.54\n",
            "Lower bound: 0.4406089327527315\n",
            "Upper bound: 0.6393910672472686\n",
            "Mean: 0.49\n",
            "Lower bound: 0.3903092906280824\n",
            "Upper bound: 0.5896907093719176\n",
            "Mean: 0.5\n",
            "Lower bound: 0.400289346502771\n",
            "Upper bound: 0.599710653497229\n",
            "Mean: 0.53\n",
            "Lower bound: 0.43046898750173684\n",
            "Upper bound: 0.6295310124982633\n",
            "Mean: 0.54\n",
            "Lower bound: 0.4406089327527315\n",
            "Upper bound: 0.6393910672472686\n",
            "Mean: 0.45\n",
            "Lower bound: 0.3507891524245659\n",
            "Upper bound: 0.5492108475754341\n",
            "Mean: 0.4\n",
            "Lower bound: 0.30230391080493196\n",
            "Upper bound: 0.4976960891950681\n",
            "Mean: 0.48\n",
            "Lower bound: 0.38036914695852936\n",
            "Upper bound: 0.5796308530414707\n",
            "Mean: 0.46\n",
            "Lower bound: 0.3606089327527314\n",
            "Upper bound: 0.5593910672472686\n",
            "Mean: 0.4\n",
            "Lower bound: 0.30230391080493196\n",
            "Upper bound: 0.4976960891950681\n",
            "Mean: 0.6\n",
            "Lower bound: 0.5023039108049319\n",
            "Upper bound: 0.6976960891950681\n",
            "Mean: 0.59\n",
            "Lower bound: 0.49191795947468714\n",
            "Upper bound: 0.6880820405253127\n",
            "Mean: 0.53\n",
            "Lower bound: 0.43046898750173684\n",
            "Upper bound: 0.6295310124982633\n",
            "Mean: 0.55\n",
            "Lower bound: 0.4507891524245659\n",
            "Upper bound: 0.6492108475754341\n",
            "Mean: 0.5\n",
            "Lower bound: 0.400289346502771\n",
            "Upper bound: 0.599710653497229\n",
            "Mean: 0.51\n",
            "Lower bound: 0.4103092906280824\n",
            "Upper bound: 0.6096907093719176\n",
            "Mean: 0.48\n",
            "Lower bound: 0.38036914695852936\n",
            "Upper bound: 0.5796308530414707\n",
            "Mean: 0.47\n",
            "Lower bound: 0.3704689875017368\n",
            "Upper bound: 0.5695310124982632\n",
            "Mean: 0.52\n",
            "Lower bound: 0.4203691469585294\n",
            "Upper bound: 0.6196308530414707\n",
            "Mean: 0.5\n",
            "Lower bound: 0.400289346502771\n",
            "Upper bound: 0.599710653497229\n",
            "Mean: 0.5\n",
            "Lower bound: 0.400289346502771\n",
            "Upper bound: 0.599710653497229\n",
            "Mean: 0.44\n",
            "Lower bound: 0.3410098664856729\n",
            "Upper bound: 0.5389901335143271\n"
          ],
          "name": "stdout"
        }
      ]
    },
    {
      "cell_type": "markdown",
      "metadata": {
        "id": "11OzdxWTM7UR",
        "colab_type": "text"
      },
      "source": [
        "## Assignment - Build a confidence interval\n",
        "\n",
        "A confidence interval refers to a neighborhood around some point estimate, the size of which is determined by the desired p-value. For instance, we might say that 52% of Americans prefer tacos to burritos, with a 95% confidence interval of +/- 5%.\n",
        "\n",
        "52% (0.52) is the point estimate, and +/- 5% (the interval $[0.47, 0.57]$) is the confidence interval. \"95% confidence\" means a p-value $\\leq 1 - 0.95 = 0.05$.\n",
        "\n",
        "In this case, the confidence interval includes $0.5$ - which is the natural null hypothesis (that half of Americans prefer tacos and half burritos, thus there is no clear favorite). So in this case, we could use the confidence interval to report that we've failed to reject the null hypothesis.\n",
        "\n",
        "But providing the full analysis with a confidence interval, including a graphical representation of it, can be a helpful and powerful way to tell your story. Done well, it is also more intuitive to a layperson than simply saying \"fail to reject the null hypothesis\" - it shows that in fact the data does *not* give a single clear result (the point estimate) but a whole range of possibilities.\n",
        "\n",
        "How is a confidence interval built, and how should it be interpreted? It does *not* mean that 95% of the data lies in that interval - instead, the frequentist interpretation is \"if we were to repeat this experiment 100 times, we would expect the average result to lie in this interval ~95 times.\"\n",
        "\n",
        "For a 95% confidence interval and a normal(-ish) distribution, you can simply remember that +/-2 standard deviations contains 95% of the probability mass, and so the 95% confidence interval based on a given sample is centered at the mean (point estimate) and has a range of +/- 2 (or technically 1.96) standard deviations.\n",
        "\n",
        "Different distributions/assumptions (90% confidence, 99% confidence) will require different math, but the overall process and interpretation (with a frequentist approach) will be the same.\n",
        "\n",
        "Your assignment - using the data from the prior module ([congressional voting records](https://archive.ics.uci.edu/ml/datasets/Congressional+Voting+Records)):\n",
        "\n",
        "1. Generate and numerically represent a confidence interval\n",
        "2. Graphically (with a plot) represent the confidence interval\n",
        "3. Interpret the confidence interval - what does it tell you about the data and its distribution?\n",
        "\n",
        "Stretch goals:\n",
        "\n",
        "1. Write a summary of your findings, mixing prose and math/code/results. *Note* - yes, this is by definition a political topic. It is challenging but important to keep your writing voice *neutral* and stick to the facts of the data. Data science often involves considering controversial issues, so it's important to be sensitive about them (especially if you want to publish).\n",
        "2. Apply the techniques you learned today to your project data or other data of your choice, and write/discuss your findings here.\n",
        "3. Refactor your code so it is elegant, readable, and can be easily run for all issues."
      ]
    },
    {
      "cell_type": "code",
      "metadata": {
        "id": "yBS90KSMYmXO",
        "colab_type": "code",
        "colab": {}
      },
      "source": [
        ""
      ],
      "execution_count": 0,
      "outputs": []
    },
    {
      "cell_type": "code",
      "metadata": {
        "id": "Ckcr4A4FM7cs",
        "colab_type": "code",
        "colab": {}
      },
      "source": [
        "# TODO - your code!"
      ],
      "execution_count": 0,
      "outputs": []
    },
    {
      "cell_type": "markdown",
      "metadata": {
        "id": "nyJ3ySr7R2k9",
        "colab_type": "text"
      },
      "source": [
        "## Resources\n",
        "\n",
        "- [Interactive visualize the Chi-Squared test](https://homepage.divms.uiowa.edu/~mbognar/applets/chisq.html)\n",
        "- [Calculation of Chi-Squared test statistic](https://en.wikipedia.org/wiki/Pearson%27s_chi-squared_test)\n",
        "- [Visualization of a confidence interval generated by R code](https://commons.wikimedia.org/wiki/File:Confidence-interval.svg)\n",
        "- [Expected value of a squared standard normal](https://math.stackexchange.com/questions/264061/expected-value-calculation-for-squared-normal-distribution) (it's 1 - which is why the expected value of a Chi-Squared with $n$ degrees of freedom is $n$, as it's the sum of $n$ squared standard normals)"
      ]
    }
  ]
}