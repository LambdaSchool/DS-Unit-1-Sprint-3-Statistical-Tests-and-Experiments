{
  "nbformat": 4,
  "nbformat_minor": 0,
  "metadata": {
    "colab": {
      "name": "Connor Heraty - DS_Unit_1_Sprint_Challenge_4.ipynb",
      "version": "0.3.2",
      "provenance": [],
      "collapsed_sections": [
        "5wch6ksCbJtZ",
        "5L6Ue8_zJXgK",
        "e9GCl7qCJy5L",
        "ijcwFdl6J-A7",
        "ov76vz5LKfDg",
        "G7rLytbrO38L",
        "PCthSb81L9Kj",
        "EMnoz907OaPS",
        "aojYEau3YDRw",
        "-9gMVmI8Qyct",
        "ZM8JckA2bgnp"
      ],
      "include_colab_link": true
    },
    "kernelspec": {
      "name": "python3",
      "display_name": "Python 3"
    }
  },
  "cells": [
    {
      "cell_type": "markdown",
      "metadata": {
        "id": "view-in-github",
        "colab_type": "text"
      },
      "source": [
        "<a href=\"https://colab.research.google.com/github/connorpheraty/DS-Unit-1-Sprint-4-Statistical-Tests-and-Experiments/blob/master/Connor_Heraty_DS_Unit_1_Sprint_Challenge_4.ipynb\" target=\"_parent\"><img src=\"https://colab.research.google.com/assets/colab-badge.svg\" alt=\"Open In Colab\"/></a>"
      ]
    },
    {
      "metadata": {
        "id": "NooAiTdnafkz",
        "colab_type": "text"
      },
      "cell_type": "markdown",
      "source": [
        "# Data Science Unit 1 Sprint Challenge 4\n",
        "\n",
        "## Exploring Data, Testing Hypotheses\n",
        "\n",
        "In this sprint challenge you will look at a dataset of people being approved or rejected for credit.\n",
        "\n",
        "https://archive.ics.uci.edu/ml/datasets/Credit+Approval\n",
        "\n",
        "Data Set Information: This file concerns credit card applications. All attribute names and values have been changed to meaningless symbols to protect confidentiality of the data. This dataset is interesting because there is a good mix of attributes -- continuous, nominal with small numbers of values, and nominal with larger numbers of values. There are also a few missing values.\n",
        "\n",
        "Attribute Information:\n",
        "- A1: b, a.\n",
        "- A2: continuous.\n",
        "- A3: continuous.\n",
        "- A4: u, y, l, t.\n",
        "- A5: g, p, gg.\n",
        "- A6: c, d, cc, i, j, k, m, r, q, w, x, e, aa, ff.\n",
        "- A7: v, h, bb, j, n, z, dd, ff, o.\n",
        "- A8: continuous.\n",
        "- A9: t, f.\n",
        "- A10: t, f.\n",
        "- A11: continuous.\n",
        "- A12: t, f.\n",
        "- A13: g, p, s.\n",
        "- A14: continuous.\n",
        "- A15: continuous.\n",
        "- A16: +,- (class attribute)\n",
        "\n",
        "Yes, most of that doesn't mean anything. A16 (the class attribute) is the most interesting, as it separates the 307 approved cases from the 383 rejected cases. The remaining variables have been obfuscated for privacy - a challenge you may have to deal with in your data science career.\n",
        "\n",
        "Sprint challenges are evaluated based on satisfactory completion of each part. It is suggested you work through it in order, getting each aspect reasonably working, before trying to deeply explore, iterate, or refine any given step. Once you get to the end, if you want to go back and improve things, go for it!"
      ]
    },
    {
      "metadata": {
        "id": "5wch6ksCbJtZ",
        "colab_type": "text"
      },
      "cell_type": "markdown",
      "source": [
        "# Part 1 - Load and validate the data\n",
        "\n",
        "- Load the data as a `pandas` data frame.\n",
        "- Validate that it has the appropriate number of observations (you can check the raw file, and also read the dataset description from UCI).\n",
        "- UCI says there should be missing data - check, and if necessary change the data so pandas recognizes it as na\n",
        "- Make sure that the loaded features are of the types described above (continuous values should be treated as float), and correct as necessary\n",
        "\n",
        "This is review, but skills that you'll use at the start of any data exploration. Further, you may have to do some investigation to figure out which file to load from - that is part of the puzzle."
      ]
    },
    {
      "metadata": {
        "id": "5L6Ue8_zJXgK",
        "colab_type": "text"
      },
      "cell_type": "markdown",
      "source": [
        "### Load the data into a pandas data frame"
      ]
    },
    {
      "metadata": {
        "id": "Q79xDLckzibS",
        "colab_type": "code",
        "outputId": "4901cdc1-1971-4f4e-f234-c9324d907073",
        "colab": {
          "base_uri": "https://localhost:8080/",
          "height": 224
        }
      },
      "cell_type": "code",
      "source": [
        "!wget https://archive.ics.uci.edu/ml/machine-learning-databases/credit-screening/crx.data"
      ],
      "execution_count": 1,
      "outputs": [
        {
          "output_type": "stream",
          "text": [
            "--2019-04-12 17:51:08--  https://archive.ics.uci.edu/ml/machine-learning-databases/credit-screening/crx.data\n",
            "Resolving archive.ics.uci.edu (archive.ics.uci.edu)... 128.195.10.252\n",
            "Connecting to archive.ics.uci.edu (archive.ics.uci.edu)|128.195.10.252|:443... connected.\n",
            "HTTP request sent, awaiting response... 200 OK\n",
            "Length: 32218 (31K) [application/x-httpd-php]\n",
            "Saving to: ‘crx.data.2’\n",
            "\n",
            "\rcrx.data.2            0%[                    ]       0  --.-KB/s               \rcrx.data.2          100%[===================>]  31.46K  --.-KB/s    in 0.03s   \n",
            "\n",
            "2019-04-12 17:51:08 (1.00 MB/s) - ‘crx.data.2’ saved [32218/32218]\n",
            "\n"
          ],
          "name": "stdout"
        }
      ]
    },
    {
      "metadata": {
        "id": "Op_CjDdUGOYA",
        "colab_type": "code",
        "outputId": "1e432a9c-4234-4020-f296-d492a2ba876f",
        "colab": {
          "base_uri": "https://localhost:8080/",
          "height": 71
        }
      },
      "cell_type": "code",
      "source": [
        "# Shorten the two largest strings for ease of analysis\n",
        "import pandas as pd\n",
        "\n",
        "df = pd.read_csv('crx.data', header = None, names = [\n",
        "    'b,a',\n",
        "    'continuous',\n",
        "    'continuous',\n",
        "    'u, y, l, t',\n",
        "    'g, p, gg',\n",
        "    'cat.1',\n",
        "    'cat.2',\n",
        "    'continuous',\n",
        "    't, f',\n",
        "    't, f',\n",
        "    'continuous',\n",
        "    't, f',\n",
        "    'g, p, s',\n",
        "    'continuous',\n",
        "    'continuous',\n",
        "    '+, -'\n",
        "])"
      ],
      "execution_count": 2,
      "outputs": [
        {
          "output_type": "stream",
          "text": [
            "/usr/local/lib/python3.6/dist-packages/pandas/io/parsers.py:709: UserWarning: Duplicate names specified. This will raise an error in the future.\n",
            "  return _read(filepath_or_buffer, kwds)\n"
          ],
          "name": "stderr"
        }
      ]
    },
    {
      "metadata": {
        "id": "e9GCl7qCJy5L",
        "colab_type": "text"
      },
      "cell_type": "markdown",
      "source": [
        "### Validate appropriate number of observations"
      ]
    },
    {
      "metadata": {
        "id": "xY8YU59qHVYf",
        "colab_type": "code",
        "outputId": "b66ce621-49c2-4d99-f986-dff833ca2707",
        "colab": {
          "base_uri": "https://localhost:8080/",
          "height": 54
        }
      },
      "cell_type": "code",
      "source": [
        "# Per the UCI repository there should be 690 instances and 16 attributes (including the (+, -) column)\n",
        "df.shape"
      ],
      "execution_count": 3,
      "outputs": [
        {
          "output_type": "execute_result",
          "data": {
            "text/plain": [
              "(690, 16)"
            ]
          },
          "metadata": {
            "tags": []
          },
          "execution_count": 3
        }
      ]
    },
    {
      "metadata": {
        "id": "ijcwFdl6J-A7",
        "colab_type": "text"
      },
      "cell_type": "markdown",
      "source": [
        "### Check for missing data"
      ]
    },
    {
      "metadata": {
        "id": "pJveiyz6IAVP",
        "colab_type": "code",
        "outputId": "241766e2-e2c1-47e5-9935-90868888ac5b",
        "colab": {
          "base_uri": "https://localhost:8080/",
          "height": 394
        }
      },
      "cell_type": "code",
      "source": [
        "df.info()"
      ],
      "execution_count": 4,
      "outputs": [
        {
          "output_type": "stream",
          "text": [
            "<class 'pandas.core.frame.DataFrame'>\n",
            "RangeIndex: 690 entries, 0 to 689\n",
            "Data columns (total 16 columns):\n",
            "b,a             690 non-null object\n",
            "continuous      690 non-null object\n",
            "continuous.1    690 non-null float64\n",
            "u, y, l, t      690 non-null object\n",
            "g, p, gg        690 non-null object\n",
            "cat.1           690 non-null object\n",
            "cat.2           690 non-null object\n",
            "continuous.2    690 non-null float64\n",
            "t, f            690 non-null object\n",
            "t, f.1          690 non-null object\n",
            "continuous.3    690 non-null int64\n",
            "t, f.2          690 non-null object\n",
            "g, p, s         690 non-null object\n",
            "continuous.4    690 non-null object\n",
            "continuous.5    690 non-null int64\n",
            "+, -            690 non-null object\n",
            "dtypes: float64(2), int64(2), object(12)\n",
            "memory usage: 86.3+ KB\n"
          ],
          "name": "stdout"
        }
      ]
    },
    {
      "metadata": {
        "id": "eQuvykv-IunU",
        "colab_type": "code",
        "colab": {}
      },
      "cell_type": "code",
      "source": [
        "# Replace '?' strings with NaN values\n",
        "\n",
        "import numpy as np\n",
        "df = df.replace('?', np.NaN)"
      ],
      "execution_count": 0,
      "outputs": []
    },
    {
      "metadata": {
        "id": "ov76vz5LKfDg",
        "colab_type": "text"
      },
      "cell_type": "markdown",
      "source": [
        "### Transform all continous columns into float values"
      ]
    },
    {
      "metadata": {
        "id": "qd4_wJFuIWn-",
        "colab_type": "code",
        "colab": {}
      },
      "cell_type": "code",
      "source": [
        "# Transform all continuous values into floats\n",
        "df[['continuous', 'continuous.1', 'continuous.2', 'continuous.3', 'continuous.4', 'continuous.5']] = df[['continuous', 'continuous.1', 'continuous.2', 'continuous.3', 'continuous.4', 'continuous.5']].astype(float)"
      ],
      "execution_count": 0,
      "outputs": []
    },
    {
      "metadata": {
        "id": "4JA1ZxBbIGcZ",
        "colab_type": "code",
        "outputId": "e042d371-6224-4da7-be0d-f8178eceb470",
        "colab": {
          "base_uri": "https://localhost:8080/",
          "height": 326
        }
      },
      "cell_type": "code",
      "source": [
        "# I am comfortable with the remaining null values because I can omit them in my tests\n",
        "df.isnull().sum()"
      ],
      "execution_count": 7,
      "outputs": [
        {
          "output_type": "execute_result",
          "data": {
            "text/plain": [
              "b,a             12\n",
              "continuous      12\n",
              "continuous.1     0\n",
              "u, y, l, t       6\n",
              "g, p, gg         6\n",
              "cat.1            9\n",
              "cat.2            9\n",
              "continuous.2     0\n",
              "t, f             0\n",
              "t, f.1           0\n",
              "continuous.3     0\n",
              "t, f.2           0\n",
              "g, p, s          0\n",
              "continuous.4    13\n",
              "continuous.5     0\n",
              "+, -             0\n",
              "dtype: int64"
            ]
          },
          "metadata": {
            "tags": []
          },
          "execution_count": 7
        }
      ]
    },
    {
      "metadata": {
        "id": "RFP5F8Kqo-Pp",
        "colab_type": "code",
        "colab": {
          "base_uri": "https://localhost:8080/",
          "height": 394
        },
        "outputId": "1cc752f7-ebc8-4347-8896-0d8f294c501e"
      },
      "cell_type": "code",
      "source": [
        "df.info()"
      ],
      "execution_count": 8,
      "outputs": [
        {
          "output_type": "stream",
          "text": [
            "<class 'pandas.core.frame.DataFrame'>\n",
            "RangeIndex: 690 entries, 0 to 689\n",
            "Data columns (total 16 columns):\n",
            "b,a             678 non-null object\n",
            "continuous      678 non-null float64\n",
            "continuous.1    690 non-null float64\n",
            "u, y, l, t      684 non-null object\n",
            "g, p, gg        684 non-null object\n",
            "cat.1           681 non-null object\n",
            "cat.2           681 non-null object\n",
            "continuous.2    690 non-null float64\n",
            "t, f            690 non-null object\n",
            "t, f.1          690 non-null object\n",
            "continuous.3    690 non-null float64\n",
            "t, f.2          690 non-null object\n",
            "g, p, s         690 non-null object\n",
            "continuous.4    677 non-null float64\n",
            "continuous.5    690 non-null float64\n",
            "+, -            690 non-null object\n",
            "dtypes: float64(6), object(10)\n",
            "memory usage: 86.3+ KB\n"
          ],
          "name": "stdout"
        }
      ]
    },
    {
      "metadata": {
        "id": "G7rLytbrO38L",
        "colab_type": "text"
      },
      "cell_type": "markdown",
      "source": [
        "# Part 2 - Exploring data, Testing hypotheses\n",
        "\n",
        "The only thing we really know about this data is that A16 is the class label. Besides that, we have 6 continuous (float) features and 9 categorical features.\n",
        "\n",
        "Explore the data: you can use whatever approach (tables, utility functions, visualizations) to get an impression of the distributions and relationships of the variables. In general, your goal is to understand how the features are different when grouped by the two class labels (`+` and `-`).\n",
        "\n",
        "For the 6 continuous features, how are they different when split between the two class labels? Choose two features to run t-tests (again split by class label) - specifically, select one feature that is *extremely* different between the classes, and another feature that is notably less different (though perhaps still \"statistically significantly\" different). You may have to explore more than two features to do this.\n",
        "\n",
        "For the categorical features, explore by creating \"cross tabs\" (aka [contingency tables](https://en.wikipedia.org/wiki/Contingency_table)) between them and the class label, and apply the Chi-squared test to them. [pandas.crosstab](http://pandas.pydata.org/pandas-docs/stable/reference/api/pandas.crosstab.html) can create contingency tables, and [scipy.stats.chi2_contingency](https://docs.scipy.org/doc/scipy/reference/generated/scipy.stats.chi2_contingency.html) can calculate the Chi-squared statistic for them.\n",
        "\n",
        "There are 9 categorical features - as with the t-test, try to find one where the Chi-squared test returns an extreme result (rejecting the null that the data are independent), and one where it is less extreme.\n",
        "\n",
        "**NOTE** - \"less extreme\" just means smaller test statistic/larger p-value. Even the least extreme differences may be strongly statistically significant.\n",
        "\n",
        "Your *main* goal is the hypothesis tests, so don't spend too much time on the exploration/visualization piece. That is just a means to an end - use simple visualizations, such as boxplots or a scatter matrix (both built in to pandas), to get a feel for the overall distribution of the variables.\n",
        "\n",
        "This is challenging, so manage your time and aim for a baseline of at least running two t-tests and two Chi-squared tests before polishing. And don't forget to answer the questions in part 3, even if your results in this part aren't what you want them to be."
      ]
    },
    {
      "metadata": {
        "id": "PCthSb81L9Kj",
        "colab_type": "text"
      },
      "cell_type": "markdown",
      "source": [
        "## Data Cleaning"
      ]
    },
    {
      "metadata": {
        "id": "_nqcgc0yzm68",
        "colab_type": "code",
        "colab": {}
      },
      "cell_type": "code",
      "source": [
        "# Create two seperate dataframes on the accepted/rejected column\n",
        "df_accepted = df[df['+, -'] == '+']\n",
        "df_rejected = df[df['+, -'] == '-']"
      ],
      "execution_count": 0,
      "outputs": []
    },
    {
      "metadata": {
        "id": "dcztYMx0L8Vb",
        "colab_type": "code",
        "outputId": "33d40c7b-2bc9-4265-ecc1-8548523b1181",
        "colab": {
          "base_uri": "https://localhost:8080/",
          "height": 275
        }
      },
      "cell_type": "code",
      "source": [
        "df_accepted.head()"
      ],
      "execution_count": 10,
      "outputs": [
        {
          "output_type": "execute_result",
          "data": {
            "text/html": [
              "<div>\n",
              "<style scoped>\n",
              "    .dataframe tbody tr th:only-of-type {\n",
              "        vertical-align: middle;\n",
              "    }\n",
              "\n",
              "    .dataframe tbody tr th {\n",
              "        vertical-align: top;\n",
              "    }\n",
              "\n",
              "    .dataframe thead th {\n",
              "        text-align: right;\n",
              "    }\n",
              "</style>\n",
              "<table border=\"1\" class=\"dataframe\">\n",
              "  <thead>\n",
              "    <tr style=\"text-align: right;\">\n",
              "      <th></th>\n",
              "      <th>b,a</th>\n",
              "      <th>continuous</th>\n",
              "      <th>continuous.1</th>\n",
              "      <th>u, y, l, t</th>\n",
              "      <th>g, p, gg</th>\n",
              "      <th>cat.1</th>\n",
              "      <th>cat.2</th>\n",
              "      <th>continuous.2</th>\n",
              "      <th>t, f</th>\n",
              "      <th>t, f.1</th>\n",
              "      <th>continuous.3</th>\n",
              "      <th>t, f.2</th>\n",
              "      <th>g, p, s</th>\n",
              "      <th>continuous.4</th>\n",
              "      <th>continuous.5</th>\n",
              "      <th>+, -</th>\n",
              "    </tr>\n",
              "  </thead>\n",
              "  <tbody>\n",
              "    <tr>\n",
              "      <th>0</th>\n",
              "      <td>b</td>\n",
              "      <td>30.83</td>\n",
              "      <td>0.000</td>\n",
              "      <td>u</td>\n",
              "      <td>g</td>\n",
              "      <td>w</td>\n",
              "      <td>v</td>\n",
              "      <td>1.25</td>\n",
              "      <td>t</td>\n",
              "      <td>t</td>\n",
              "      <td>1.0</td>\n",
              "      <td>f</td>\n",
              "      <td>g</td>\n",
              "      <td>202.0</td>\n",
              "      <td>0.0</td>\n",
              "      <td>+</td>\n",
              "    </tr>\n",
              "    <tr>\n",
              "      <th>1</th>\n",
              "      <td>a</td>\n",
              "      <td>58.67</td>\n",
              "      <td>4.460</td>\n",
              "      <td>u</td>\n",
              "      <td>g</td>\n",
              "      <td>q</td>\n",
              "      <td>h</td>\n",
              "      <td>3.04</td>\n",
              "      <td>t</td>\n",
              "      <td>t</td>\n",
              "      <td>6.0</td>\n",
              "      <td>f</td>\n",
              "      <td>g</td>\n",
              "      <td>43.0</td>\n",
              "      <td>560.0</td>\n",
              "      <td>+</td>\n",
              "    </tr>\n",
              "    <tr>\n",
              "      <th>2</th>\n",
              "      <td>a</td>\n",
              "      <td>24.50</td>\n",
              "      <td>0.500</td>\n",
              "      <td>u</td>\n",
              "      <td>g</td>\n",
              "      <td>q</td>\n",
              "      <td>h</td>\n",
              "      <td>1.50</td>\n",
              "      <td>t</td>\n",
              "      <td>f</td>\n",
              "      <td>0.0</td>\n",
              "      <td>f</td>\n",
              "      <td>g</td>\n",
              "      <td>280.0</td>\n",
              "      <td>824.0</td>\n",
              "      <td>+</td>\n",
              "    </tr>\n",
              "    <tr>\n",
              "      <th>3</th>\n",
              "      <td>b</td>\n",
              "      <td>27.83</td>\n",
              "      <td>1.540</td>\n",
              "      <td>u</td>\n",
              "      <td>g</td>\n",
              "      <td>w</td>\n",
              "      <td>v</td>\n",
              "      <td>3.75</td>\n",
              "      <td>t</td>\n",
              "      <td>t</td>\n",
              "      <td>5.0</td>\n",
              "      <td>t</td>\n",
              "      <td>g</td>\n",
              "      <td>100.0</td>\n",
              "      <td>3.0</td>\n",
              "      <td>+</td>\n",
              "    </tr>\n",
              "    <tr>\n",
              "      <th>4</th>\n",
              "      <td>b</td>\n",
              "      <td>20.17</td>\n",
              "      <td>5.625</td>\n",
              "      <td>u</td>\n",
              "      <td>g</td>\n",
              "      <td>w</td>\n",
              "      <td>v</td>\n",
              "      <td>1.71</td>\n",
              "      <td>t</td>\n",
              "      <td>f</td>\n",
              "      <td>0.0</td>\n",
              "      <td>f</td>\n",
              "      <td>s</td>\n",
              "      <td>120.0</td>\n",
              "      <td>0.0</td>\n",
              "      <td>+</td>\n",
              "    </tr>\n",
              "  </tbody>\n",
              "</table>\n",
              "</div>"
            ],
            "text/plain": [
              "  b,a  continuous  continuous.1 u, y, l, t g, p, gg cat.1 cat.2  continuous.2  \\\n",
              "0   b       30.83         0.000          u        g     w     v          1.25   \n",
              "1   a       58.67         4.460          u        g     q     h          3.04   \n",
              "2   a       24.50         0.500          u        g     q     h          1.50   \n",
              "3   b       27.83         1.540          u        g     w     v          3.75   \n",
              "4   b       20.17         5.625          u        g     w     v          1.71   \n",
              "\n",
              "  t, f t, f.1  continuous.3 t, f.2 g, p, s  continuous.4  continuous.5 +, -  \n",
              "0    t      t           1.0      f       g         202.0           0.0    +  \n",
              "1    t      t           6.0      f       g          43.0         560.0    +  \n",
              "2    t      f           0.0      f       g         280.0         824.0    +  \n",
              "3    t      t           5.0      t       g         100.0           3.0    +  \n",
              "4    t      f           0.0      f       s         120.0           0.0    +  "
            ]
          },
          "metadata": {
            "tags": []
          },
          "execution_count": 10
        }
      ]
    },
    {
      "metadata": {
        "id": "rK0TLvraL8X3",
        "colab_type": "code",
        "outputId": "44967894-8d5c-4b68-b71a-a1fa7968878f",
        "colab": {
          "base_uri": "https://localhost:8080/",
          "height": 275
        }
      },
      "cell_type": "code",
      "source": [
        "df_rejected.head()"
      ],
      "execution_count": 11,
      "outputs": [
        {
          "output_type": "execute_result",
          "data": {
            "text/html": [
              "<div>\n",
              "<style scoped>\n",
              "    .dataframe tbody tr th:only-of-type {\n",
              "        vertical-align: middle;\n",
              "    }\n",
              "\n",
              "    .dataframe tbody tr th {\n",
              "        vertical-align: top;\n",
              "    }\n",
              "\n",
              "    .dataframe thead th {\n",
              "        text-align: right;\n",
              "    }\n",
              "</style>\n",
              "<table border=\"1\" class=\"dataframe\">\n",
              "  <thead>\n",
              "    <tr style=\"text-align: right;\">\n",
              "      <th></th>\n",
              "      <th>b,a</th>\n",
              "      <th>continuous</th>\n",
              "      <th>continuous.1</th>\n",
              "      <th>u, y, l, t</th>\n",
              "      <th>g, p, gg</th>\n",
              "      <th>cat.1</th>\n",
              "      <th>cat.2</th>\n",
              "      <th>continuous.2</th>\n",
              "      <th>t, f</th>\n",
              "      <th>t, f.1</th>\n",
              "      <th>continuous.3</th>\n",
              "      <th>t, f.2</th>\n",
              "      <th>g, p, s</th>\n",
              "      <th>continuous.4</th>\n",
              "      <th>continuous.5</th>\n",
              "      <th>+, -</th>\n",
              "    </tr>\n",
              "  </thead>\n",
              "  <tbody>\n",
              "    <tr>\n",
              "      <th>70</th>\n",
              "      <td>b</td>\n",
              "      <td>32.33</td>\n",
              "      <td>7.5</td>\n",
              "      <td>u</td>\n",
              "      <td>g</td>\n",
              "      <td>e</td>\n",
              "      <td>bb</td>\n",
              "      <td>1.585</td>\n",
              "      <td>t</td>\n",
              "      <td>f</td>\n",
              "      <td>0.0</td>\n",
              "      <td>t</td>\n",
              "      <td>s</td>\n",
              "      <td>420.0</td>\n",
              "      <td>0.0</td>\n",
              "      <td>-</td>\n",
              "    </tr>\n",
              "    <tr>\n",
              "      <th>71</th>\n",
              "      <td>b</td>\n",
              "      <td>34.83</td>\n",
              "      <td>4.0</td>\n",
              "      <td>u</td>\n",
              "      <td>g</td>\n",
              "      <td>d</td>\n",
              "      <td>bb</td>\n",
              "      <td>12.500</td>\n",
              "      <td>t</td>\n",
              "      <td>f</td>\n",
              "      <td>0.0</td>\n",
              "      <td>t</td>\n",
              "      <td>g</td>\n",
              "      <td>NaN</td>\n",
              "      <td>0.0</td>\n",
              "      <td>-</td>\n",
              "    </tr>\n",
              "    <tr>\n",
              "      <th>72</th>\n",
              "      <td>a</td>\n",
              "      <td>38.58</td>\n",
              "      <td>5.0</td>\n",
              "      <td>u</td>\n",
              "      <td>g</td>\n",
              "      <td>cc</td>\n",
              "      <td>v</td>\n",
              "      <td>13.500</td>\n",
              "      <td>t</td>\n",
              "      <td>f</td>\n",
              "      <td>0.0</td>\n",
              "      <td>t</td>\n",
              "      <td>g</td>\n",
              "      <td>980.0</td>\n",
              "      <td>0.0</td>\n",
              "      <td>-</td>\n",
              "    </tr>\n",
              "    <tr>\n",
              "      <th>73</th>\n",
              "      <td>b</td>\n",
              "      <td>44.25</td>\n",
              "      <td>0.5</td>\n",
              "      <td>u</td>\n",
              "      <td>g</td>\n",
              "      <td>m</td>\n",
              "      <td>v</td>\n",
              "      <td>10.750</td>\n",
              "      <td>t</td>\n",
              "      <td>f</td>\n",
              "      <td>0.0</td>\n",
              "      <td>f</td>\n",
              "      <td>s</td>\n",
              "      <td>400.0</td>\n",
              "      <td>0.0</td>\n",
              "      <td>-</td>\n",
              "    </tr>\n",
              "    <tr>\n",
              "      <th>74</th>\n",
              "      <td>b</td>\n",
              "      <td>44.83</td>\n",
              "      <td>7.0</td>\n",
              "      <td>y</td>\n",
              "      <td>p</td>\n",
              "      <td>c</td>\n",
              "      <td>v</td>\n",
              "      <td>1.625</td>\n",
              "      <td>f</td>\n",
              "      <td>f</td>\n",
              "      <td>0.0</td>\n",
              "      <td>f</td>\n",
              "      <td>g</td>\n",
              "      <td>160.0</td>\n",
              "      <td>2.0</td>\n",
              "      <td>-</td>\n",
              "    </tr>\n",
              "  </tbody>\n",
              "</table>\n",
              "</div>"
            ],
            "text/plain": [
              "   b,a  continuous  continuous.1 u, y, l, t g, p, gg cat.1 cat.2  \\\n",
              "70   b       32.33           7.5          u        g     e    bb   \n",
              "71   b       34.83           4.0          u        g     d    bb   \n",
              "72   a       38.58           5.0          u        g    cc     v   \n",
              "73   b       44.25           0.5          u        g     m     v   \n",
              "74   b       44.83           7.0          y        p     c     v   \n",
              "\n",
              "    continuous.2 t, f t, f.1  continuous.3 t, f.2 g, p, s  continuous.4  \\\n",
              "70         1.585    t      f           0.0      t       s         420.0   \n",
              "71        12.500    t      f           0.0      t       g           NaN   \n",
              "72        13.500    t      f           0.0      t       g         980.0   \n",
              "73        10.750    t      f           0.0      f       s         400.0   \n",
              "74         1.625    f      f           0.0      f       g         160.0   \n",
              "\n",
              "    continuous.5 +, -  \n",
              "70           0.0    -  \n",
              "71           0.0    -  \n",
              "72           0.0    -  \n",
              "73           0.0    -  \n",
              "74           2.0    -  "
            ]
          },
          "metadata": {
            "tags": []
          },
          "execution_count": 11
        }
      ]
    },
    {
      "metadata": {
        "id": "EMnoz907OaPS",
        "colab_type": "text"
      },
      "cell_type": "markdown",
      "source": [
        "## Continuous feature exploration"
      ]
    },
    {
      "metadata": {
        "id": "cGlL8cgjL8aP",
        "colab_type": "code",
        "colab": {}
      },
      "cell_type": "code",
      "source": [
        "# Analyze mean differences between two dataframes\n",
        "df_accepted_cont = df_accepted[['continuous', 'continuous.1', 'continuous.2', 'continuous.3', 'continuous.4', 'continuous.5']]\n",
        "df_rejected_cont =df_rejected[['continuous', 'continuous.1', 'continuous.2', 'continuous.3', 'continuous.4', 'continuous.5']]"
      ],
      "execution_count": 0,
      "outputs": []
    },
    {
      "metadata": {
        "id": "EX8aZabZL8cB",
        "colab_type": "code",
        "colab": {
          "base_uri": "https://localhost:8080/",
          "height": 156
        },
        "outputId": "a33da2c5-ab24-4c11-e362-7f77e7998b2d"
      },
      "cell_type": "code",
      "source": [
        "df_accepted_cont.dropna().apply(np.mean)"
      ],
      "execution_count": 13,
      "outputs": [
        {
          "output_type": "execute_result",
          "data": {
            "text/plain": [
              "continuous        33.723278\n",
              "continuous.1       5.980167\n",
              "continuous.2       3.464565\n",
              "continuous.3       4.682274\n",
              "continuous.4     164.551839\n",
              "continuous.5    1994.397993\n",
              "dtype: float64"
            ]
          },
          "metadata": {
            "tags": []
          },
          "execution_count": 13
        }
      ]
    },
    {
      "metadata": {
        "id": "3iSNRAXiQJ7R",
        "colab_type": "code",
        "colab": {
          "base_uri": "https://localhost:8080/",
          "height": 156
        },
        "outputId": "099a9bd2-30f7-49b5-a4b1-c27684f94ed1"
      },
      "cell_type": "code",
      "source": [
        "df_rejected_cont.dropna().apply(np.mean)"
      ],
      "execution_count": 14,
      "outputs": [
        {
          "output_type": "execute_result",
          "data": {
            "text/plain": [
              "continuous       29.813978\n",
              "continuous.1      3.835014\n",
              "continuous.2      1.210245\n",
              "continuous.3      0.648501\n",
              "continuous.4    196.425068\n",
              "continuous.5    187.280654\n",
              "dtype: float64"
            ]
          },
          "metadata": {
            "tags": []
          },
          "execution_count": 14
        }
      ]
    },
    {
      "metadata": {
        "id": "aojYEau3YDRw",
        "colab_type": "text"
      },
      "cell_type": "markdown",
      "source": [
        "## Continuous feature T Tests"
      ]
    },
    {
      "metadata": {
        "id": "UhsOo0oJSs8O",
        "colab_type": "code",
        "outputId": "c83b476e-ef36-418a-aa82-180ddab2fd74",
        "colab": {
          "base_uri": "https://localhost:8080/",
          "height": 54
        }
      },
      "cell_type": "code",
      "source": [
        "from scipy import stats\n",
        "\n",
        "# Continuous feature that is 'extremely' different between the two class labels (+ and -)\n",
        "stats.ttest_ind(df_accepted['continuous.3'], df_rejected['continuous.3'], nan_policy='omit')"
      ],
      "execution_count": 15,
      "outputs": [
        {
          "output_type": "execute_result",
          "data": {
            "text/plain": [
              "Ttest_indResult(statistic=11.667004222431277, pvalue=7.957718568079967e-29)"
            ]
          },
          "metadata": {
            "tags": []
          },
          "execution_count": 15
        }
      ]
    },
    {
      "metadata": {
        "id": "5L_eoXB1TZW4",
        "colab_type": "code",
        "outputId": "3966ce57-e6a5-4879-a365-0a90933f07ce",
        "colab": {
          "base_uri": "https://localhost:8080/",
          "height": 54
        }
      },
      "cell_type": "code",
      "source": [
        "# Continuous feature that is less significantly different between the two class labels (+ and -)\n",
        "stats.ttest_ind(df_accepted['continuous.4'], df_rejected['continuous.4'], nan_policy='omit')"
      ],
      "execution_count": 16,
      "outputs": [
        {
          "output_type": "execute_result",
          "data": {
            "text/plain": [
              "Ttest_indResult(statistic=-2.6358251986645476, pvalue=0.008586135473979569)"
            ]
          },
          "metadata": {
            "tags": []
          },
          "execution_count": 16
        }
      ]
    },
    {
      "metadata": {
        "id": "-9gMVmI8Qyct",
        "colab_type": "text"
      },
      "cell_type": "markdown",
      "source": [
        "## Categorical feature exploration"
      ]
    },
    {
      "metadata": {
        "id": "TQks0XuSQ0ul",
        "colab_type": "code",
        "outputId": "c697492d-c60c-47a3-8389-fa5019458dd9",
        "colab": {
          "base_uri": "https://localhost:8080/",
          "height": 292
        }
      },
      "cell_type": "code",
      "source": [
        "df_accepted['cat.1'].value_counts()"
      ],
      "execution_count": 17,
      "outputs": [
        {
          "output_type": "execute_result",
          "data": {
            "text/plain": [
              "c     62\n",
              "q     51\n",
              "w     33\n",
              "x     32\n",
              "cc    29\n",
              "aa    19\n",
              "m     16\n",
              "i     14\n",
              "e     14\n",
              "k     14\n",
              "d      7\n",
              "ff     7\n",
              "j      3\n",
              "r      2\n",
              "Name: cat.1, dtype: int64"
            ]
          },
          "metadata": {
            "tags": []
          },
          "execution_count": 17
        }
      ]
    },
    {
      "metadata": {
        "id": "d6PIr9ybRMtp",
        "colab_type": "code",
        "outputId": "a6d59bbb-064a-47e6-95b6-26e0612c97f9",
        "colab": {
          "base_uri": "https://localhost:8080/",
          "height": 292
        }
      },
      "cell_type": "code",
      "source": [
        "df_rejected['cat.1'].value_counts()"
      ],
      "execution_count": 18,
      "outputs": [
        {
          "output_type": "execute_result",
          "data": {
            "text/plain": [
              "c     75\n",
              "ff    46\n",
              "i     45\n",
              "k     37\n",
              "aa    35\n",
              "w     31\n",
              "q     27\n",
              "d     23\n",
              "m     22\n",
              "cc    12\n",
              "e     11\n",
              "j      7\n",
              "x      6\n",
              "r      1\n",
              "Name: cat.1, dtype: int64"
            ]
          },
          "metadata": {
            "tags": []
          },
          "execution_count": 18
        }
      ]
    },
    {
      "metadata": {
        "id": "fPiiYhDYVbe3",
        "colab_type": "code",
        "outputId": "321bec39-01d7-41cc-f9e3-1738ee746006",
        "colab": {
          "base_uri": "https://localhost:8080/",
          "height": 275
        }
      },
      "cell_type": "code",
      "source": [
        "df.head()"
      ],
      "execution_count": 19,
      "outputs": [
        {
          "output_type": "execute_result",
          "data": {
            "text/html": [
              "<div>\n",
              "<style scoped>\n",
              "    .dataframe tbody tr th:only-of-type {\n",
              "        vertical-align: middle;\n",
              "    }\n",
              "\n",
              "    .dataframe tbody tr th {\n",
              "        vertical-align: top;\n",
              "    }\n",
              "\n",
              "    .dataframe thead th {\n",
              "        text-align: right;\n",
              "    }\n",
              "</style>\n",
              "<table border=\"1\" class=\"dataframe\">\n",
              "  <thead>\n",
              "    <tr style=\"text-align: right;\">\n",
              "      <th></th>\n",
              "      <th>b,a</th>\n",
              "      <th>continuous</th>\n",
              "      <th>continuous.1</th>\n",
              "      <th>u, y, l, t</th>\n",
              "      <th>g, p, gg</th>\n",
              "      <th>cat.1</th>\n",
              "      <th>cat.2</th>\n",
              "      <th>continuous.2</th>\n",
              "      <th>t, f</th>\n",
              "      <th>t, f.1</th>\n",
              "      <th>continuous.3</th>\n",
              "      <th>t, f.2</th>\n",
              "      <th>g, p, s</th>\n",
              "      <th>continuous.4</th>\n",
              "      <th>continuous.5</th>\n",
              "      <th>+, -</th>\n",
              "    </tr>\n",
              "  </thead>\n",
              "  <tbody>\n",
              "    <tr>\n",
              "      <th>0</th>\n",
              "      <td>b</td>\n",
              "      <td>30.83</td>\n",
              "      <td>0.000</td>\n",
              "      <td>u</td>\n",
              "      <td>g</td>\n",
              "      <td>w</td>\n",
              "      <td>v</td>\n",
              "      <td>1.25</td>\n",
              "      <td>t</td>\n",
              "      <td>t</td>\n",
              "      <td>1.0</td>\n",
              "      <td>f</td>\n",
              "      <td>g</td>\n",
              "      <td>202.0</td>\n",
              "      <td>0.0</td>\n",
              "      <td>+</td>\n",
              "    </tr>\n",
              "    <tr>\n",
              "      <th>1</th>\n",
              "      <td>a</td>\n",
              "      <td>58.67</td>\n",
              "      <td>4.460</td>\n",
              "      <td>u</td>\n",
              "      <td>g</td>\n",
              "      <td>q</td>\n",
              "      <td>h</td>\n",
              "      <td>3.04</td>\n",
              "      <td>t</td>\n",
              "      <td>t</td>\n",
              "      <td>6.0</td>\n",
              "      <td>f</td>\n",
              "      <td>g</td>\n",
              "      <td>43.0</td>\n",
              "      <td>560.0</td>\n",
              "      <td>+</td>\n",
              "    </tr>\n",
              "    <tr>\n",
              "      <th>2</th>\n",
              "      <td>a</td>\n",
              "      <td>24.50</td>\n",
              "      <td>0.500</td>\n",
              "      <td>u</td>\n",
              "      <td>g</td>\n",
              "      <td>q</td>\n",
              "      <td>h</td>\n",
              "      <td>1.50</td>\n",
              "      <td>t</td>\n",
              "      <td>f</td>\n",
              "      <td>0.0</td>\n",
              "      <td>f</td>\n",
              "      <td>g</td>\n",
              "      <td>280.0</td>\n",
              "      <td>824.0</td>\n",
              "      <td>+</td>\n",
              "    </tr>\n",
              "    <tr>\n",
              "      <th>3</th>\n",
              "      <td>b</td>\n",
              "      <td>27.83</td>\n",
              "      <td>1.540</td>\n",
              "      <td>u</td>\n",
              "      <td>g</td>\n",
              "      <td>w</td>\n",
              "      <td>v</td>\n",
              "      <td>3.75</td>\n",
              "      <td>t</td>\n",
              "      <td>t</td>\n",
              "      <td>5.0</td>\n",
              "      <td>t</td>\n",
              "      <td>g</td>\n",
              "      <td>100.0</td>\n",
              "      <td>3.0</td>\n",
              "      <td>+</td>\n",
              "    </tr>\n",
              "    <tr>\n",
              "      <th>4</th>\n",
              "      <td>b</td>\n",
              "      <td>20.17</td>\n",
              "      <td>5.625</td>\n",
              "      <td>u</td>\n",
              "      <td>g</td>\n",
              "      <td>w</td>\n",
              "      <td>v</td>\n",
              "      <td>1.71</td>\n",
              "      <td>t</td>\n",
              "      <td>f</td>\n",
              "      <td>0.0</td>\n",
              "      <td>f</td>\n",
              "      <td>s</td>\n",
              "      <td>120.0</td>\n",
              "      <td>0.0</td>\n",
              "      <td>+</td>\n",
              "    </tr>\n",
              "  </tbody>\n",
              "</table>\n",
              "</div>"
            ],
            "text/plain": [
              "  b,a  continuous  continuous.1 u, y, l, t g, p, gg cat.1 cat.2  continuous.2  \\\n",
              "0   b       30.83         0.000          u        g     w     v          1.25   \n",
              "1   a       58.67         4.460          u        g     q     h          3.04   \n",
              "2   a       24.50         0.500          u        g     q     h          1.50   \n",
              "3   b       27.83         1.540          u        g     w     v          3.75   \n",
              "4   b       20.17         5.625          u        g     w     v          1.71   \n",
              "\n",
              "  t, f t, f.1  continuous.3 t, f.2 g, p, s  continuous.4  continuous.5 +, -  \n",
              "0    t      t           1.0      f       g         202.0           0.0    +  \n",
              "1    t      t           6.0      f       g          43.0         560.0    +  \n",
              "2    t      f           0.0      f       g         280.0         824.0    +  \n",
              "3    t      t           5.0      t       g         100.0           3.0    +  \n",
              "4    t      f           0.0      f       s         120.0           0.0    +  "
            ]
          },
          "metadata": {
            "tags": []
          },
          "execution_count": 19
        }
      ]
    },
    {
      "metadata": {
        "id": "9j5OM1TVRYQH",
        "colab_type": "code",
        "outputId": "6248eb70-93e5-45a6-b0d3-76a63e2b0b18",
        "colab": {
          "base_uri": "https://localhost:8080/",
          "height": 385
        }
      },
      "cell_type": "code",
      "source": [
        "import seaborn as sns\n",
        "accepted_tab = pd.crosstab(df_accepted['cat.1'], df_accepted['cat.2'] )\n",
        "\n",
        "sns.heatmap(accepted_tab);"
      ],
      "execution_count": 20,
      "outputs": [
        {
          "output_type": "display_data",
          "data": {
            "image/png": "[encoded data removed]",
            "text/plain": [
              "<Figure size 576x396 with 2 Axes>"
            ]
          },
          "metadata": {
            "tags": []
          }
        }
      ]
    },
    {
      "metadata": {
        "id": "j8KyAHAxVQ4a",
        "colab_type": "code",
        "outputId": "fdf5e946-5077-4cb5-e2fc-e1b957e8f1b8",
        "colab": {
          "base_uri": "https://localhost:8080/",
          "height": 381
        }
      },
      "cell_type": "code",
      "source": [
        "rejected_tab = pd.crosstab(df_rejected['cat.1'], df_rejected['cat.2'])\n",
        "\n",
        "sns.heatmap(rejected_tab);\n",
        "\n",
        "# 'ff' observation appears heavily concentrated on the rejection dataframe"
      ],
      "execution_count": 21,
      "outputs": [
        {
          "output_type": "display_data",
          "data": {
            "image/png": "[encoded data removed]",
            "text/plain": [
              "<Figure size 576x396 with 2 Axes>"
            ]
          },
          "metadata": {
            "tags": []
          }
        }
      ]
    },
    {
      "metadata": {
        "id": "4Tn9KvzeYJe_",
        "colab_type": "text"
      },
      "cell_type": "markdown",
      "source": [
        "## Categorical feature Chi Square Test"
      ]
    },
    {
      "metadata": {
        "id": "bA29tsVLWh0O",
        "colab_type": "code",
        "outputId": "f15683e3-0081-4f95-f247-92c12c394912",
        "colab": {
          "base_uri": "https://localhost:8080/",
          "height": 119
        }
      },
      "cell_type": "code",
      "source": [
        "# The 't, f.2' value fits well within our expected distribution\n",
        "contingency_table = pd.crosstab(df['+, -'], df['t, f.2'])\n",
        "\n",
        "chi_squared, p_value, dof, expected = stats.chi2_contingency(contingency_table)\n",
        "\n",
        "print(f\"Chi-Squared: {chi_squared}\")\n",
        "print(f\"P-value: {p_value}\")\n",
        "print(f\"Degrees of Freedom: {dof}\") \n",
        "print(\"Expected: \\n\", np.array(expected))"
      ],
      "execution_count": 22,
      "outputs": [
        {
          "output_type": "stream",
          "text": [
            "Chi-Squared: 0.568273300792113\n",
            "P-value: 0.45094587758631943\n",
            "Degrees of Freedom: 1\n",
            "Expected: \n",
            " [[166.40289855 140.59710145]\n",
            " [207.59710145 175.40289855]]\n"
          ],
          "name": "stdout"
        }
      ]
    },
    {
      "metadata": {
        "id": "oKjWYUBeYg03",
        "colab_type": "code",
        "outputId": "07f920d2-c8fe-4d26-838b-17afacce7faf",
        "colab": {
          "base_uri": "https://localhost:8080/",
          "height": 119
        }
      },
      "cell_type": "code",
      "source": [
        "# The 't, f' value contains the most extreme Chi-Squared and P-value and does not fit our expected distribution as well as other features.\n",
        "\n",
        "contingency_table2 = pd.crosstab(df['+, -'], df['t, f'])\n",
        "\n",
        "chi_squared, p_value, dof, expected = stats.chi2_contingency(contingency_table2)\n",
        "\n",
        "print(f\"Chi-Squared: {chi_squared}\")\n",
        "print(f\"P-value: {p_value}\")\n",
        "print(f\"Degrees of Freedom: {dof}\") \n",
        "print(\"Expected: \\n\", np.array(expected))"
      ],
      "execution_count": 23,
      "outputs": [
        {
          "output_type": "stream",
          "text": [
            "Chi-Squared: 355.2038167412799\n",
            "P-value: 3.1185900878457007e-79\n",
            "Degrees of Freedom: 1\n",
            "Expected: \n",
            " [[146.38115942 160.61884058]\n",
            " [182.61884058 200.38115942]]\n"
          ],
          "name": "stdout"
        }
      ]
    },
    {
      "metadata": {
        "id": "ZM8JckA2bgnp",
        "colab_type": "text"
      },
      "cell_type": "markdown",
      "source": [
        "# Part 3 - Analysis and Interpretation\n",
        "\n",
        "Now that you've looked at the data, answer the following questions:\n",
        "\n",
        "- Interpret and explain the two t-tests you ran - what do they tell you about the relationships between the continuous features you selected and the class labels?\n",
        "- Interpret and explain the two Chi-squared tests you ran - what do they tell you about the relationships between the categorical features you selected and the class labels?\n",
        "- What was the most challenging part of this sprint challenge?\n",
        "\n",
        "Answer with text, but feel free to intersperse example code/results or refer to it from earlier."
      ]
    },
    {
      "metadata": {
        "id": "JRlpw7Bpkasl",
        "colab_type": "text"
      },
      "cell_type": "markdown",
      "source": [
        "### T-Tests"
      ]
    },
    {
      "metadata": {
        "id": "LIozLDNG2Uhu",
        "colab_type": "text"
      },
      "cell_type": "markdown",
      "source": [
        "  Before we begin analysing the results of our t-tests, lets define what a two-sample t test is: **the two sample t-test is _specifically_ for testing the signifigance of two unknown averages with unknown stadard deviations.** We will be testing our null hypothesis that the means of the populations from which the two samples were taken are equal. We will set our threshold of accepting our null hypothesis at a p-value > **0.05.** <br>\n",
        "\n",
        "The continuous feature whose means differed most significantly between the two class labels (accepted and rejected) was 'continous.3'. The p-value is well below our stated threshold and thus we **reject the null hypothesis.** It is likely that this feature is highly significant in determining whether an application is accepted.  <br>\n",
        "\n",
        "The continuous feature whose means differred least significantly between the two class labels(accepted and rejected) is 'continous.4'. While it differed the least between the other features, it's p-value is still below our threshold of 0.05 and thus we **reject the null hypothesis. ** <br>\n",
        "\n",
        "From the results of our tests, we can assume that all of the continuous variables are statistically significant and contribute to the decision to accept or reject a credit applicant.\n",
        "\n",
        "\n"
      ]
    },
    {
      "metadata": {
        "id": "TPqxuk8jkdZL",
        "colab_type": "text"
      },
      "cell_type": "markdown",
      "source": [
        "###Chi-Squared"
      ]
    },
    {
      "metadata": {
        "id": "eqeGWR6ek5BF",
        "colab_type": "text"
      },
      "cell_type": "markdown",
      "source": [
        "The Chi-Squared test tells us how likely it is that an **observed distribution is due to chance.** Specifically, it tells us how well an observed distribution fits into what we would expect the distribution to look like. A low chi-squared value means that our observed data fits our expected data extremely well. We will set our p-value threshold for determining signficance at **0.05.** <br>\n",
        "\n",
        "The categorical feature that fit best into our expected distribution was the 't, f.2' feature. It contained a chi-squared value <1 and a p-value well above our threshold of 0.05. For our specific dataset, this tells us that the mean values for these features are not significantly different between the accepted and rejected categories.  \n",
        "\n",
        "The categorical feature that fit our expected distribution the least was the 't, f' feature. It contained the largest chi-squared value at 355 and a p-value well below our threshold. This means that  the mean values for the accept/reject categories are significantly different. It is highly likely that the 't, f' feature is correlated with the decision to accept or reject an applicant. "
      ]
    },
    {
      "metadata": {
        "id": "6Gn-ShHfn4wv",
        "colab_type": "text"
      },
      "cell_type": "markdown",
      "source": [
        "### Sprint Challenge\n"
      ]
    },
    {
      "metadata": {
        "id": "Xx1mVec1oAv9",
        "colab_type": "text"
      },
      "cell_type": "markdown",
      "source": [
        "The most difficult part of the sprint challenge for me is writing out the explanations behind the various statistical tests. I also think that it is the most important element of this sprint challenge. Writing (with any degree of speed) has been a weakness of mine and I am happy that I have the opportunity to practice this very important element of data science."
      ]
    }
  ]
}