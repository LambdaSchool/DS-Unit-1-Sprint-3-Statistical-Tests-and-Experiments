{
  "nbformat": 4,
  "nbformat_minor": 0,
  "metadata": {
    "colab": {
      "name": "DS_Unit_1_Sprint_Challenge_4-Mac Scheffer.ipynb",
      "version": "0.3.2",
      "provenance": [],
      "collapsed_sections": [],
      "include_colab_link": true
    },
    "kernelspec": {
      "name": "python3",
      "display_name": "Python 3"
    }
  },
  "cells": [
    {
      "cell_type": "markdown",
      "metadata": {
        "id": "view-in-github",
        "colab_type": "text"
      },
      "source": [
        "<a href=\"https://colab.research.google.com/github/macscheffer/DS-Unit-1-Sprint-4-Statistical-Tests-and-Experiments/blob/master/DS_Unit_1_Sprint_Challenge_4_Mac_Scheffer.ipynb\" target=\"_parent\"><img src=\"https://colab.research.google.com/assets/colab-badge.svg\" alt=\"Open In Colab\"/></a>"
      ]
    },
    {
      "metadata": {
        "id": "NooAiTdnafkz",
        "colab_type": "text"
      },
      "cell_type": "markdown",
      "source": [
        "# Data Science Unit 1 Sprint Challenge 4\n",
        "\n",
        "## Exploring Data, Testing Hypotheses\n",
        "\n",
        "In this sprint challenge you will look at a dataset of people being approved or rejected for credit.\n",
        "\n",
        "https://archive.ics.uci.edu/ml/datasets/Credit+Approval\n",
        "\n",
        "Data Set Information: This file concerns credit card applications. All attribute names and values have been changed to meaningless symbols to protect confidentiality of the data. This dataset is interesting because there is a good mix of attributes -- continuous, nominal with small numbers of values, and nominal with larger numbers of values. There are also a few missing values.\n",
        "\n",
        "Attribute Information:\n",
        "- A1: b, a.\n",
        "- A2: continuous.\n",
        "- A3: continuous.\n",
        "- A4: u, y, l, t.\n",
        "- A5: g, p, gg.\n",
        "- A6: c, d, cc, i, j, k, m, r, q, w, x, e, aa, ff.\n",
        "- A7: v, h, bb, j, n, z, dd, ff, o.\n",
        "- A8: continuous.\n",
        "- A9: t, f.\n",
        "- A10: t, f.\n",
        "- A11: continuous.\n",
        "- A12: t, f.\n",
        "- A13: g, p, s.\n",
        "- A14: continuous.\n",
        "- A15: continuous.\n",
        "- A16: +,- (class attribute)\n",
        "\n",
        "Yes, most of that doesn't mean anything. A16 (the class attribute) is the most interesting, as it separates the 307 approved cases from the 383 rejected cases. The remaining variables have been obfuscated for privacy - a challenge you may have to deal with in your data science career.\n",
        "\n",
        "Sprint challenges are evaluated based on satisfactory completion of each part. It is suggested you work through it in order, getting each aspect reasonably working, before trying to deeply explore, iterate, or refine any given step. Once you get to the end, if you want to go back and improve things, go for it!"
      ]
    },
    {
      "metadata": {
        "id": "5wch6ksCbJtZ",
        "colab_type": "text"
      },
      "cell_type": "markdown",
      "source": [
        "## Part 1 - Load and validate the data\n",
        "\n",
        "- Load the data as a `pandas` data frame.\n",
        "- Validate that it has the appropriate number of observations (you can check the raw file, and also read the dataset description from UCI).\n",
        "- UCI says there should be missing data - check, and if necessary change the data so pandas recognizes it as na\n",
        "- Make sure that the loaded features are of the types described above (continuous values should be treated as float), and correct as necessary\n",
        "\n",
        "This is review, but skills that you'll use at the start of any data exploration. Further, you may have to do some investigation to figure out which file to load from - that is part of the puzzle."
      ]
    },
    {
      "metadata": {
        "id": "Q79xDLckzibS",
        "colab_type": "code",
        "colab": {
          "base_uri": "https://localhost:8080/",
          "height": 34
        },
        "outputId": "0c91b5af-2b5a-462f-aa7c-957331296245"
      },
      "cell_type": "code",
      "source": [
        "# TODO\n",
        "\n",
        "import numpy as np\n",
        "import pandas as pd\n",
        "\n",
        "df = pd.read_csv('https://archive.ics.uci.edu/ml/machine-learning-databases/credit-screening/crx.data',\n",
        "                 names = ['A'+str(i) for i in range(1,17)])\n",
        "df.shape"
      ],
      "execution_count": 251,
      "outputs": [
        {
          "output_type": "execute_result",
          "data": {
            "text/plain": [
              "(690, 16)"
            ]
          },
          "metadata": {
            "tags": []
          },
          "execution_count": 251
        }
      ]
    },
    {
      "metadata": {
        "id": "6u8uPgqG1fFv",
        "colab_type": "code",
        "colab": {
          "base_uri": "https://localhost:8080/",
          "height": 110
        },
        "outputId": "1e8d7c67-2ce2-41fb-d138-17f4aeff2c60"
      },
      "cell_type": "code",
      "source": [
        "df.head(2)"
      ],
      "execution_count": 252,
      "outputs": [
        {
          "output_type": "execute_result",
          "data": {
            "text/html": [
              "<div>\n",
              "<style scoped>\n",
              "    .dataframe tbody tr th:only-of-type {\n",
              "        vertical-align: middle;\n",
              "    }\n",
              "\n",
              "    .dataframe tbody tr th {\n",
              "        vertical-align: top;\n",
              "    }\n",
              "\n",
              "    .dataframe thead th {\n",
              "        text-align: right;\n",
              "    }\n",
              "</style>\n",
              "<table border=\"1\" class=\"dataframe\">\n",
              "  <thead>\n",
              "    <tr style=\"text-align: right;\">\n",
              "      <th></th>\n",
              "      <th>A1</th>\n",
              "      <th>A2</th>\n",
              "      <th>A3</th>\n",
              "      <th>A4</th>\n",
              "      <th>A5</th>\n",
              "      <th>A6</th>\n",
              "      <th>A7</th>\n",
              "      <th>A8</th>\n",
              "      <th>A9</th>\n",
              "      <th>A10</th>\n",
              "      <th>A11</th>\n",
              "      <th>A12</th>\n",
              "      <th>A13</th>\n",
              "      <th>A14</th>\n",
              "      <th>A15</th>\n",
              "      <th>A16</th>\n",
              "    </tr>\n",
              "  </thead>\n",
              "  <tbody>\n",
              "    <tr>\n",
              "      <th>0</th>\n",
              "      <td>b</td>\n",
              "      <td>30.83</td>\n",
              "      <td>0.00</td>\n",
              "      <td>u</td>\n",
              "      <td>g</td>\n",
              "      <td>w</td>\n",
              "      <td>v</td>\n",
              "      <td>1.25</td>\n",
              "      <td>t</td>\n",
              "      <td>t</td>\n",
              "      <td>1</td>\n",
              "      <td>f</td>\n",
              "      <td>g</td>\n",
              "      <td>00202</td>\n",
              "      <td>0</td>\n",
              "      <td>+</td>\n",
              "    </tr>\n",
              "    <tr>\n",
              "      <th>1</th>\n",
              "      <td>a</td>\n",
              "      <td>58.67</td>\n",
              "      <td>4.46</td>\n",
              "      <td>u</td>\n",
              "      <td>g</td>\n",
              "      <td>q</td>\n",
              "      <td>h</td>\n",
              "      <td>3.04</td>\n",
              "      <td>t</td>\n",
              "      <td>t</td>\n",
              "      <td>6</td>\n",
              "      <td>f</td>\n",
              "      <td>g</td>\n",
              "      <td>00043</td>\n",
              "      <td>560</td>\n",
              "      <td>+</td>\n",
              "    </tr>\n",
              "  </tbody>\n",
              "</table>\n",
              "</div>"
            ],
            "text/plain": [
              "  A1     A2    A3 A4 A5 A6 A7    A8 A9 A10  A11 A12 A13    A14  A15 A16\n",
              "0  b  30.83  0.00  u  g  w  v  1.25  t   t    1   f   g  00202    0   +\n",
              "1  a  58.67  4.46  u  g  q  h  3.04  t   t    6   f   g  00043  560   +"
            ]
          },
          "metadata": {
            "tags": []
          },
          "execution_count": 252
        }
      ]
    },
    {
      "metadata": {
        "id": "4fpxsKjX35CC",
        "colab_type": "code",
        "colab": {
          "base_uri": "https://localhost:8080/",
          "height": 294
        },
        "outputId": "80f97208-13fc-4073-b485-084701135c13"
      },
      "cell_type": "code",
      "source": [
        "# notice A2 is supposed to be continuous, must be nans\n",
        "df.describe()"
      ],
      "execution_count": 253,
      "outputs": [
        {
          "output_type": "execute_result",
          "data": {
            "text/html": [
              "<div>\n",
              "<style scoped>\n",
              "    .dataframe tbody tr th:only-of-type {\n",
              "        vertical-align: middle;\n",
              "    }\n",
              "\n",
              "    .dataframe tbody tr th {\n",
              "        vertical-align: top;\n",
              "    }\n",
              "\n",
              "    .dataframe thead th {\n",
              "        text-align: right;\n",
              "    }\n",
              "</style>\n",
              "<table border=\"1\" class=\"dataframe\">\n",
              "  <thead>\n",
              "    <tr style=\"text-align: right;\">\n",
              "      <th></th>\n",
              "      <th>A3</th>\n",
              "      <th>A8</th>\n",
              "      <th>A11</th>\n",
              "      <th>A15</th>\n",
              "    </tr>\n",
              "  </thead>\n",
              "  <tbody>\n",
              "    <tr>\n",
              "      <th>count</th>\n",
              "      <td>690.000000</td>\n",
              "      <td>690.000000</td>\n",
              "      <td>690.00000</td>\n",
              "      <td>690.000000</td>\n",
              "    </tr>\n",
              "    <tr>\n",
              "      <th>mean</th>\n",
              "      <td>4.758725</td>\n",
              "      <td>2.223406</td>\n",
              "      <td>2.40000</td>\n",
              "      <td>1017.385507</td>\n",
              "    </tr>\n",
              "    <tr>\n",
              "      <th>std</th>\n",
              "      <td>4.978163</td>\n",
              "      <td>3.346513</td>\n",
              "      <td>4.86294</td>\n",
              "      <td>5210.102598</td>\n",
              "    </tr>\n",
              "    <tr>\n",
              "      <th>min</th>\n",
              "      <td>0.000000</td>\n",
              "      <td>0.000000</td>\n",
              "      <td>0.00000</td>\n",
              "      <td>0.000000</td>\n",
              "    </tr>\n",
              "    <tr>\n",
              "      <th>25%</th>\n",
              "      <td>1.000000</td>\n",
              "      <td>0.165000</td>\n",
              "      <td>0.00000</td>\n",
              "      <td>0.000000</td>\n",
              "    </tr>\n",
              "    <tr>\n",
              "      <th>50%</th>\n",
              "      <td>2.750000</td>\n",
              "      <td>1.000000</td>\n",
              "      <td>0.00000</td>\n",
              "      <td>5.000000</td>\n",
              "    </tr>\n",
              "    <tr>\n",
              "      <th>75%</th>\n",
              "      <td>7.207500</td>\n",
              "      <td>2.625000</td>\n",
              "      <td>3.00000</td>\n",
              "      <td>395.500000</td>\n",
              "    </tr>\n",
              "    <tr>\n",
              "      <th>max</th>\n",
              "      <td>28.000000</td>\n",
              "      <td>28.500000</td>\n",
              "      <td>67.00000</td>\n",
              "      <td>100000.000000</td>\n",
              "    </tr>\n",
              "  </tbody>\n",
              "</table>\n",
              "</div>"
            ],
            "text/plain": [
              "               A3          A8        A11            A15\n",
              "count  690.000000  690.000000  690.00000     690.000000\n",
              "mean     4.758725    2.223406    2.40000    1017.385507\n",
              "std      4.978163    3.346513    4.86294    5210.102598\n",
              "min      0.000000    0.000000    0.00000       0.000000\n",
              "25%      1.000000    0.165000    0.00000       0.000000\n",
              "50%      2.750000    1.000000    0.00000       5.000000\n",
              "75%      7.207500    2.625000    3.00000     395.500000\n",
              "max     28.000000   28.500000   67.00000  100000.000000"
            ]
          },
          "metadata": {
            "tags": []
          },
          "execution_count": 253
        }
      ]
    },
    {
      "metadata": {
        "id": "BqmmVnkw3kLf",
        "colab_type": "code",
        "colab": {
          "base_uri": "https://localhost:8080/",
          "height": 171
        },
        "outputId": "6234e42b-38e4-4c79-a637-ba936711e138"
      },
      "cell_type": "code",
      "source": [
        "# A1 has 3 uniques, they are using ? marks as NaN values.\n",
        "\n",
        "df.describe(exclude=np.number)"
      ],
      "execution_count": 254,
      "outputs": [
        {
          "output_type": "execute_result",
          "data": {
            "text/html": [
              "<div>\n",
              "<style scoped>\n",
              "    .dataframe tbody tr th:only-of-type {\n",
              "        vertical-align: middle;\n",
              "    }\n",
              "\n",
              "    .dataframe tbody tr th {\n",
              "        vertical-align: top;\n",
              "    }\n",
              "\n",
              "    .dataframe thead th {\n",
              "        text-align: right;\n",
              "    }\n",
              "</style>\n",
              "<table border=\"1\" class=\"dataframe\">\n",
              "  <thead>\n",
              "    <tr style=\"text-align: right;\">\n",
              "      <th></th>\n",
              "      <th>A1</th>\n",
              "      <th>A2</th>\n",
              "      <th>A4</th>\n",
              "      <th>A5</th>\n",
              "      <th>A6</th>\n",
              "      <th>A7</th>\n",
              "      <th>A9</th>\n",
              "      <th>A10</th>\n",
              "      <th>A12</th>\n",
              "      <th>A13</th>\n",
              "      <th>A14</th>\n",
              "      <th>A16</th>\n",
              "    </tr>\n",
              "  </thead>\n",
              "  <tbody>\n",
              "    <tr>\n",
              "      <th>count</th>\n",
              "      <td>690</td>\n",
              "      <td>690</td>\n",
              "      <td>690</td>\n",
              "      <td>690</td>\n",
              "      <td>690</td>\n",
              "      <td>690</td>\n",
              "      <td>690</td>\n",
              "      <td>690</td>\n",
              "      <td>690</td>\n",
              "      <td>690</td>\n",
              "      <td>690</td>\n",
              "      <td>690</td>\n",
              "    </tr>\n",
              "    <tr>\n",
              "      <th>unique</th>\n",
              "      <td>3</td>\n",
              "      <td>350</td>\n",
              "      <td>4</td>\n",
              "      <td>4</td>\n",
              "      <td>15</td>\n",
              "      <td>10</td>\n",
              "      <td>2</td>\n",
              "      <td>2</td>\n",
              "      <td>2</td>\n",
              "      <td>3</td>\n",
              "      <td>171</td>\n",
              "      <td>2</td>\n",
              "    </tr>\n",
              "    <tr>\n",
              "      <th>top</th>\n",
              "      <td>b</td>\n",
              "      <td>?</td>\n",
              "      <td>u</td>\n",
              "      <td>g</td>\n",
              "      <td>c</td>\n",
              "      <td>v</td>\n",
              "      <td>t</td>\n",
              "      <td>f</td>\n",
              "      <td>f</td>\n",
              "      <td>g</td>\n",
              "      <td>00000</td>\n",
              "      <td>-</td>\n",
              "    </tr>\n",
              "    <tr>\n",
              "      <th>freq</th>\n",
              "      <td>468</td>\n",
              "      <td>12</td>\n",
              "      <td>519</td>\n",
              "      <td>519</td>\n",
              "      <td>137</td>\n",
              "      <td>399</td>\n",
              "      <td>361</td>\n",
              "      <td>395</td>\n",
              "      <td>374</td>\n",
              "      <td>625</td>\n",
              "      <td>132</td>\n",
              "      <td>383</td>\n",
              "    </tr>\n",
              "  </tbody>\n",
              "</table>\n",
              "</div>"
            ],
            "text/plain": [
              "         A1   A2   A4   A5   A6   A7   A9  A10  A12  A13    A14  A16\n",
              "count   690  690  690  690  690  690  690  690  690  690    690  690\n",
              "unique    3  350    4    4   15   10    2    2    2    3    171    2\n",
              "top       b    ?    u    g    c    v    t    f    f    g  00000    -\n",
              "freq    468   12  519  519  137  399  361  395  374  625    132  383"
            ]
          },
          "metadata": {
            "tags": []
          },
          "execution_count": 254
        }
      ]
    },
    {
      "metadata": {
        "id": "3W9Qk1_V2keE",
        "colab_type": "code",
        "colab": {
          "base_uri": "https://localhost:8080/",
          "height": 34
        },
        "outputId": "f7085136-c2a2-4cb9-9c29-76656181f8cb"
      },
      "cell_type": "code",
      "source": [
        "df.isnull().sum().sum()"
      ],
      "execution_count": 255,
      "outputs": [
        {
          "output_type": "execute_result",
          "data": {
            "text/plain": [
              "0"
            ]
          },
          "metadata": {
            "tags": []
          },
          "execution_count": 255
        }
      ]
    },
    {
      "metadata": {
        "id": "WPscUiGl48kT",
        "colab_type": "text"
      },
      "cell_type": "markdown",
      "source": [
        "**Now we have found all of the null values mentioned in\n",
        "[the corresponding data dictionary](https://archive.ics.uci.edu/ml/machine-learning-databases/credit-screening/crx.names) **"
      ]
    },
    {
      "metadata": {
        "id": "SlVebo7z1o9R",
        "colab_type": "code",
        "colab": {
          "base_uri": "https://localhost:8080/",
          "height": 171
        },
        "outputId": "f3b652ca-49aa-4008-ec84-a23a57d19f1e"
      },
      "cell_type": "code",
      "source": [
        "\n",
        "df[df == '?'].describe(exclude=np.number)"
      ],
      "execution_count": 256,
      "outputs": [
        {
          "output_type": "execute_result",
          "data": {
            "text/html": [
              "<div>\n",
              "<style scoped>\n",
              "    .dataframe tbody tr th:only-of-type {\n",
              "        vertical-align: middle;\n",
              "    }\n",
              "\n",
              "    .dataframe tbody tr th {\n",
              "        vertical-align: top;\n",
              "    }\n",
              "\n",
              "    .dataframe thead th {\n",
              "        text-align: right;\n",
              "    }\n",
              "</style>\n",
              "<table border=\"1\" class=\"dataframe\">\n",
              "  <thead>\n",
              "    <tr style=\"text-align: right;\">\n",
              "      <th></th>\n",
              "      <th>A1</th>\n",
              "      <th>A2</th>\n",
              "      <th>A4</th>\n",
              "      <th>A5</th>\n",
              "      <th>A6</th>\n",
              "      <th>A7</th>\n",
              "      <th>A9</th>\n",
              "      <th>A10</th>\n",
              "      <th>A12</th>\n",
              "      <th>A13</th>\n",
              "      <th>A14</th>\n",
              "      <th>A16</th>\n",
              "    </tr>\n",
              "  </thead>\n",
              "  <tbody>\n",
              "    <tr>\n",
              "      <th>count</th>\n",
              "      <td>12</td>\n",
              "      <td>12</td>\n",
              "      <td>6</td>\n",
              "      <td>6</td>\n",
              "      <td>9</td>\n",
              "      <td>9</td>\n",
              "      <td>0.0</td>\n",
              "      <td>0.0</td>\n",
              "      <td>0.0</td>\n",
              "      <td>0.0</td>\n",
              "      <td>13</td>\n",
              "      <td>0.0</td>\n",
              "    </tr>\n",
              "    <tr>\n",
              "      <th>unique</th>\n",
              "      <td>1</td>\n",
              "      <td>1</td>\n",
              "      <td>1</td>\n",
              "      <td>1</td>\n",
              "      <td>1</td>\n",
              "      <td>1</td>\n",
              "      <td>0.0</td>\n",
              "      <td>0.0</td>\n",
              "      <td>0.0</td>\n",
              "      <td>0.0</td>\n",
              "      <td>1</td>\n",
              "      <td>0.0</td>\n",
              "    </tr>\n",
              "    <tr>\n",
              "      <th>top</th>\n",
              "      <td>?</td>\n",
              "      <td>?</td>\n",
              "      <td>?</td>\n",
              "      <td>?</td>\n",
              "      <td>?</td>\n",
              "      <td>?</td>\n",
              "      <td>NaN</td>\n",
              "      <td>NaN</td>\n",
              "      <td>NaN</td>\n",
              "      <td>NaN</td>\n",
              "      <td>?</td>\n",
              "      <td>NaN</td>\n",
              "    </tr>\n",
              "    <tr>\n",
              "      <th>freq</th>\n",
              "      <td>12</td>\n",
              "      <td>12</td>\n",
              "      <td>6</td>\n",
              "      <td>6</td>\n",
              "      <td>9</td>\n",
              "      <td>9</td>\n",
              "      <td>NaN</td>\n",
              "      <td>NaN</td>\n",
              "      <td>NaN</td>\n",
              "      <td>NaN</td>\n",
              "      <td>13</td>\n",
              "      <td>NaN</td>\n",
              "    </tr>\n",
              "  </tbody>\n",
              "</table>\n",
              "</div>"
            ],
            "text/plain": [
              "        A1  A2 A4 A5 A6 A7   A9  A10  A12  A13 A14  A16\n",
              "count   12  12  6  6  9  9  0.0  0.0  0.0  0.0  13  0.0\n",
              "unique   1   1  1  1  1  1  0.0  0.0  0.0  0.0   1  0.0\n",
              "top      ?   ?  ?  ?  ?  ?  NaN  NaN  NaN  NaN   ?  NaN\n",
              "freq    12  12  6  6  9  9  NaN  NaN  NaN  NaN  13  NaN"
            ]
          },
          "metadata": {
            "tags": []
          },
          "execution_count": 256
        }
      ]
    },
    {
      "metadata": {
        "id": "Rc2u8IPT2O9L",
        "colab_type": "code",
        "colab": {
          "base_uri": "https://localhost:8080/",
          "height": 171
        },
        "outputId": "a91005d8-d000-4131-f07e-634bc5366d8a"
      },
      "cell_type": "code",
      "source": [
        "# double checking\n",
        "\n",
        "df.describe(exclude=np.number)"
      ],
      "execution_count": 257,
      "outputs": [
        {
          "output_type": "execute_result",
          "data": {
            "text/html": [
              "<div>\n",
              "<style scoped>\n",
              "    .dataframe tbody tr th:only-of-type {\n",
              "        vertical-align: middle;\n",
              "    }\n",
              "\n",
              "    .dataframe tbody tr th {\n",
              "        vertical-align: top;\n",
              "    }\n",
              "\n",
              "    .dataframe thead th {\n",
              "        text-align: right;\n",
              "    }\n",
              "</style>\n",
              "<table border=\"1\" class=\"dataframe\">\n",
              "  <thead>\n",
              "    <tr style=\"text-align: right;\">\n",
              "      <th></th>\n",
              "      <th>A1</th>\n",
              "      <th>A2</th>\n",
              "      <th>A4</th>\n",
              "      <th>A5</th>\n",
              "      <th>A6</th>\n",
              "      <th>A7</th>\n",
              "      <th>A9</th>\n",
              "      <th>A10</th>\n",
              "      <th>A12</th>\n",
              "      <th>A13</th>\n",
              "      <th>A14</th>\n",
              "      <th>A16</th>\n",
              "    </tr>\n",
              "  </thead>\n",
              "  <tbody>\n",
              "    <tr>\n",
              "      <th>count</th>\n",
              "      <td>690</td>\n",
              "      <td>690</td>\n",
              "      <td>690</td>\n",
              "      <td>690</td>\n",
              "      <td>690</td>\n",
              "      <td>690</td>\n",
              "      <td>690</td>\n",
              "      <td>690</td>\n",
              "      <td>690</td>\n",
              "      <td>690</td>\n",
              "      <td>690</td>\n",
              "      <td>690</td>\n",
              "    </tr>\n",
              "    <tr>\n",
              "      <th>unique</th>\n",
              "      <td>3</td>\n",
              "      <td>350</td>\n",
              "      <td>4</td>\n",
              "      <td>4</td>\n",
              "      <td>15</td>\n",
              "      <td>10</td>\n",
              "      <td>2</td>\n",
              "      <td>2</td>\n",
              "      <td>2</td>\n",
              "      <td>3</td>\n",
              "      <td>171</td>\n",
              "      <td>2</td>\n",
              "    </tr>\n",
              "    <tr>\n",
              "      <th>top</th>\n",
              "      <td>b</td>\n",
              "      <td>?</td>\n",
              "      <td>u</td>\n",
              "      <td>g</td>\n",
              "      <td>c</td>\n",
              "      <td>v</td>\n",
              "      <td>t</td>\n",
              "      <td>f</td>\n",
              "      <td>f</td>\n",
              "      <td>g</td>\n",
              "      <td>00000</td>\n",
              "      <td>-</td>\n",
              "    </tr>\n",
              "    <tr>\n",
              "      <th>freq</th>\n",
              "      <td>468</td>\n",
              "      <td>12</td>\n",
              "      <td>519</td>\n",
              "      <td>519</td>\n",
              "      <td>137</td>\n",
              "      <td>399</td>\n",
              "      <td>361</td>\n",
              "      <td>395</td>\n",
              "      <td>374</td>\n",
              "      <td>625</td>\n",
              "      <td>132</td>\n",
              "      <td>383</td>\n",
              "    </tr>\n",
              "  </tbody>\n",
              "</table>\n",
              "</div>"
            ],
            "text/plain": [
              "         A1   A2   A4   A5   A6   A7   A9  A10  A12  A13    A14  A16\n",
              "count   690  690  690  690  690  690  690  690  690  690    690  690\n",
              "unique    3  350    4    4   15   10    2    2    2    3    171    2\n",
              "top       b    ?    u    g    c    v    t    f    f    g  00000    -\n",
              "freq    468   12  519  519  137  399  361  395  374  625    132  383"
            ]
          },
          "metadata": {
            "tags": []
          },
          "execution_count": 257
        }
      ]
    },
    {
      "metadata": {
        "id": "ANmR93kn6bRE",
        "colab_type": "code",
        "colab": {
          "base_uri": "https://localhost:8080/",
          "height": 171
        },
        "outputId": "781b135b-3174-45e0-c0e8-e630dde787d5"
      },
      "cell_type": "code",
      "source": [
        "# looks good, we dont have full counts for every column but since we don't have any intuitions on the data..\n",
        "# it makes sense get a little more familiar with the columns. then we can examine the effects of various methods to handling them.\n",
        "\n",
        "df = df.replace('?', np.NaN)\n",
        "df.describe(exclude=np.number)"
      ],
      "execution_count": 258,
      "outputs": [
        {
          "output_type": "execute_result",
          "data": {
            "text/html": [
              "<div>\n",
              "<style scoped>\n",
              "    .dataframe tbody tr th:only-of-type {\n",
              "        vertical-align: middle;\n",
              "    }\n",
              "\n",
              "    .dataframe tbody tr th {\n",
              "        vertical-align: top;\n",
              "    }\n",
              "\n",
              "    .dataframe thead th {\n",
              "        text-align: right;\n",
              "    }\n",
              "</style>\n",
              "<table border=\"1\" class=\"dataframe\">\n",
              "  <thead>\n",
              "    <tr style=\"text-align: right;\">\n",
              "      <th></th>\n",
              "      <th>A1</th>\n",
              "      <th>A2</th>\n",
              "      <th>A4</th>\n",
              "      <th>A5</th>\n",
              "      <th>A6</th>\n",
              "      <th>A7</th>\n",
              "      <th>A9</th>\n",
              "      <th>A10</th>\n",
              "      <th>A12</th>\n",
              "      <th>A13</th>\n",
              "      <th>A14</th>\n",
              "      <th>A16</th>\n",
              "    </tr>\n",
              "  </thead>\n",
              "  <tbody>\n",
              "    <tr>\n",
              "      <th>count</th>\n",
              "      <td>678</td>\n",
              "      <td>678</td>\n",
              "      <td>684</td>\n",
              "      <td>684</td>\n",
              "      <td>681</td>\n",
              "      <td>681</td>\n",
              "      <td>690</td>\n",
              "      <td>690</td>\n",
              "      <td>690</td>\n",
              "      <td>690</td>\n",
              "      <td>677</td>\n",
              "      <td>690</td>\n",
              "    </tr>\n",
              "    <tr>\n",
              "      <th>unique</th>\n",
              "      <td>2</td>\n",
              "      <td>349</td>\n",
              "      <td>3</td>\n",
              "      <td>3</td>\n",
              "      <td>14</td>\n",
              "      <td>9</td>\n",
              "      <td>2</td>\n",
              "      <td>2</td>\n",
              "      <td>2</td>\n",
              "      <td>3</td>\n",
              "      <td>170</td>\n",
              "      <td>2</td>\n",
              "    </tr>\n",
              "    <tr>\n",
              "      <th>top</th>\n",
              "      <td>b</td>\n",
              "      <td>22.67</td>\n",
              "      <td>u</td>\n",
              "      <td>g</td>\n",
              "      <td>c</td>\n",
              "      <td>v</td>\n",
              "      <td>t</td>\n",
              "      <td>f</td>\n",
              "      <td>f</td>\n",
              "      <td>g</td>\n",
              "      <td>00000</td>\n",
              "      <td>-</td>\n",
              "    </tr>\n",
              "    <tr>\n",
              "      <th>freq</th>\n",
              "      <td>468</td>\n",
              "      <td>9</td>\n",
              "      <td>519</td>\n",
              "      <td>519</td>\n",
              "      <td>137</td>\n",
              "      <td>399</td>\n",
              "      <td>361</td>\n",
              "      <td>395</td>\n",
              "      <td>374</td>\n",
              "      <td>625</td>\n",
              "      <td>132</td>\n",
              "      <td>383</td>\n",
              "    </tr>\n",
              "  </tbody>\n",
              "</table>\n",
              "</div>"
            ],
            "text/plain": [
              "         A1     A2   A4   A5   A6   A7   A9  A10  A12  A13    A14  A16\n",
              "count   678    678  684  684  681  681  690  690  690  690    677  690\n",
              "unique    2    349    3    3   14    9    2    2    2    3    170    2\n",
              "top       b  22.67    u    g    c    v    t    f    f    g  00000    -\n",
              "freq    468      9  519  519  137  399  361  395  374  625    132  383"
            ]
          },
          "metadata": {
            "tags": []
          },
          "execution_count": 258
        }
      ]
    },
    {
      "metadata": {
        "id": "haoPaQACMg_J",
        "colab_type": "code",
        "colab": {
          "base_uri": "https://localhost:8080/",
          "height": 34
        },
        "outputId": "71892434-e6ea-4297-965d-e50da61afdf4"
      },
      "cell_type": "code",
      "source": [
        "df.isna().sum().sum()"
      ],
      "execution_count": 259,
      "outputs": [
        {
          "output_type": "execute_result",
          "data": {
            "text/plain": [
              "67"
            ]
          },
          "metadata": {
            "tags": []
          },
          "execution_count": 259
        }
      ]
    },
    {
      "metadata": {
        "id": "2vTdIQwQ77iu",
        "colab_type": "code",
        "colab": {
          "base_uri": "https://localhost:8080/",
          "height": 202
        },
        "outputId": "9f864f7d-9406-465d-ec08-2328ed23eb7d"
      },
      "cell_type": "code",
      "source": [
        "df.head()"
      ],
      "execution_count": 260,
      "outputs": [
        {
          "output_type": "execute_result",
          "data": {
            "text/html": [
              "<div>\n",
              "<style scoped>\n",
              "    .dataframe tbody tr th:only-of-type {\n",
              "        vertical-align: middle;\n",
              "    }\n",
              "\n",
              "    .dataframe tbody tr th {\n",
              "        vertical-align: top;\n",
              "    }\n",
              "\n",
              "    .dataframe thead th {\n",
              "        text-align: right;\n",
              "    }\n",
              "</style>\n",
              "<table border=\"1\" class=\"dataframe\">\n",
              "  <thead>\n",
              "    <tr style=\"text-align: right;\">\n",
              "      <th></th>\n",
              "      <th>A1</th>\n",
              "      <th>A2</th>\n",
              "      <th>A3</th>\n",
              "      <th>A4</th>\n",
              "      <th>A5</th>\n",
              "      <th>A6</th>\n",
              "      <th>A7</th>\n",
              "      <th>A8</th>\n",
              "      <th>A9</th>\n",
              "      <th>A10</th>\n",
              "      <th>A11</th>\n",
              "      <th>A12</th>\n",
              "      <th>A13</th>\n",
              "      <th>A14</th>\n",
              "      <th>A15</th>\n",
              "      <th>A16</th>\n",
              "    </tr>\n",
              "  </thead>\n",
              "  <tbody>\n",
              "    <tr>\n",
              "      <th>0</th>\n",
              "      <td>b</td>\n",
              "      <td>30.83</td>\n",
              "      <td>0.000</td>\n",
              "      <td>u</td>\n",
              "      <td>g</td>\n",
              "      <td>w</td>\n",
              "      <td>v</td>\n",
              "      <td>1.25</td>\n",
              "      <td>t</td>\n",
              "      <td>t</td>\n",
              "      <td>1</td>\n",
              "      <td>f</td>\n",
              "      <td>g</td>\n",
              "      <td>00202</td>\n",
              "      <td>0</td>\n",
              "      <td>+</td>\n",
              "    </tr>\n",
              "    <tr>\n",
              "      <th>1</th>\n",
              "      <td>a</td>\n",
              "      <td>58.67</td>\n",
              "      <td>4.460</td>\n",
              "      <td>u</td>\n",
              "      <td>g</td>\n",
              "      <td>q</td>\n",
              "      <td>h</td>\n",
              "      <td>3.04</td>\n",
              "      <td>t</td>\n",
              "      <td>t</td>\n",
              "      <td>6</td>\n",
              "      <td>f</td>\n",
              "      <td>g</td>\n",
              "      <td>00043</td>\n",
              "      <td>560</td>\n",
              "      <td>+</td>\n",
              "    </tr>\n",
              "    <tr>\n",
              "      <th>2</th>\n",
              "      <td>a</td>\n",
              "      <td>24.50</td>\n",
              "      <td>0.500</td>\n",
              "      <td>u</td>\n",
              "      <td>g</td>\n",
              "      <td>q</td>\n",
              "      <td>h</td>\n",
              "      <td>1.50</td>\n",
              "      <td>t</td>\n",
              "      <td>f</td>\n",
              "      <td>0</td>\n",
              "      <td>f</td>\n",
              "      <td>g</td>\n",
              "      <td>00280</td>\n",
              "      <td>824</td>\n",
              "      <td>+</td>\n",
              "    </tr>\n",
              "    <tr>\n",
              "      <th>3</th>\n",
              "      <td>b</td>\n",
              "      <td>27.83</td>\n",
              "      <td>1.540</td>\n",
              "      <td>u</td>\n",
              "      <td>g</td>\n",
              "      <td>w</td>\n",
              "      <td>v</td>\n",
              "      <td>3.75</td>\n",
              "      <td>t</td>\n",
              "      <td>t</td>\n",
              "      <td>5</td>\n",
              "      <td>t</td>\n",
              "      <td>g</td>\n",
              "      <td>00100</td>\n",
              "      <td>3</td>\n",
              "      <td>+</td>\n",
              "    </tr>\n",
              "    <tr>\n",
              "      <th>4</th>\n",
              "      <td>b</td>\n",
              "      <td>20.17</td>\n",
              "      <td>5.625</td>\n",
              "      <td>u</td>\n",
              "      <td>g</td>\n",
              "      <td>w</td>\n",
              "      <td>v</td>\n",
              "      <td>1.71</td>\n",
              "      <td>t</td>\n",
              "      <td>f</td>\n",
              "      <td>0</td>\n",
              "      <td>f</td>\n",
              "      <td>s</td>\n",
              "      <td>00120</td>\n",
              "      <td>0</td>\n",
              "      <td>+</td>\n",
              "    </tr>\n",
              "  </tbody>\n",
              "</table>\n",
              "</div>"
            ],
            "text/plain": [
              "  A1     A2     A3 A4 A5 A6 A7    A8 A9 A10  A11 A12 A13    A14  A15 A16\n",
              "0  b  30.83  0.000  u  g  w  v  1.25  t   t    1   f   g  00202    0   +\n",
              "1  a  58.67  4.460  u  g  q  h  3.04  t   t    6   f   g  00043  560   +\n",
              "2  a  24.50  0.500  u  g  q  h  1.50  t   f    0   f   g  00280  824   +\n",
              "3  b  27.83  1.540  u  g  w  v  3.75  t   t    5   t   g  00100    3   +\n",
              "4  b  20.17  5.625  u  g  w  v  1.71  t   f    0   f   s  00120    0   +"
            ]
          },
          "metadata": {
            "tags": []
          },
          "execution_count": 260
        }
      ]
    },
    {
      "metadata": {
        "id": "bO67LeuN6_2V",
        "colab_type": "code",
        "colab": {
          "base_uri": "https://localhost:8080/",
          "height": 311
        },
        "outputId": "ee3af42c-7dbc-4b34-d2d0-5eac742d5a05"
      },
      "cell_type": "code",
      "source": [
        "# more checks\n",
        "\n",
        "# note there are still missing values but still don't want to make the dataset less accurate by just picking a way to handle them without investigating.\n",
        "\n",
        "\n",
        "# A1 we adjust below to make intuitive to use by making a=1 and b=0. \n",
        "# A2 needs to be treated as a continuous variable, but has 12 missing values so object type is being returned for now.\n",
        "# same story as the above for A4, A5 [broken into a few categories]\n",
        "\n",
        "# A6 and A7 aswell. [these are classified over a broad range of categories.]\n",
        "\n",
        "# A14 same story will go through one by one now.\n",
        "\n",
        "df.A1 = df.A1.map({'a': 1, 'b': 0})\n",
        "\n",
        "df.dtypes, df.A1.unique()"
      ],
      "execution_count": 261,
      "outputs": [
        {
          "output_type": "execute_result",
          "data": {
            "text/plain": [
              "(A1     float64\n",
              " A2      object\n",
              " A3     float64\n",
              " A4      object\n",
              " A5      object\n",
              " A6      object\n",
              " A7      object\n",
              " A8     float64\n",
              " A9      object\n",
              " A10     object\n",
              " A11      int64\n",
              " A12     object\n",
              " A13     object\n",
              " A14     object\n",
              " A15      int64\n",
              " A16     object\n",
              " dtype: object, array([ 0.,  1., nan]))"
            ]
          },
          "metadata": {
            "tags": []
          },
          "execution_count": 261
        }
      ]
    },
    {
      "metadata": {
        "id": "PQPbjv5x-M4h",
        "colab_type": "code",
        "colab": {
          "base_uri": "https://localhost:8080/",
          "height": 34
        },
        "outputId": "e9955a5e-530a-405a-80f2-c3ee8f54a3f3"
      },
      "cell_type": "code",
      "source": [
        "df.A16 = df.A16.map({'+': 1, '-': 0})\n",
        "df.A16.mean()"
      ],
      "execution_count": 262,
      "outputs": [
        {
          "output_type": "execute_result",
          "data": {
            "text/plain": [
              "0.4449275362318841"
            ]
          },
          "metadata": {
            "tags": []
          },
          "execution_count": 262
        }
      ]
    },
    {
      "metadata": {
        "id": "YoRtXaMGErmx",
        "colab_type": "code",
        "colab": {
          "base_uri": "https://localhost:8080/",
          "height": 34
        },
        "outputId": "1c6cf979-eb97-4995-c877-2aaec44dfddd"
      },
      "cell_type": "code",
      "source": [
        "df.A16.unique()"
      ],
      "execution_count": 263,
      "outputs": [
        {
          "output_type": "execute_result",
          "data": {
            "text/plain": [
              "array([1, 0])"
            ]
          },
          "metadata": {
            "tags": []
          },
          "execution_count": 263
        }
      ]
    },
    {
      "metadata": {
        "id": "Jgk83s1Y_zBp",
        "colab_type": "code",
        "colab": {
          "base_uri": "https://localhost:8080/",
          "height": 34
        },
        "outputId": "6ad49f31-0921-4190-d0ae-1767234b194f"
      },
      "cell_type": "code",
      "source": [
        "# need to handle these now taking a lil longer than i thought.\n",
        "\n",
        "# nan_non_continuous= ['A1', 'A4', 'A5', 'A6', 'A7']\n",
        "# nan_continuous = ['A2', 'A14']\n",
        "df.shape"
      ],
      "execution_count": 264,
      "outputs": [
        {
          "output_type": "execute_result",
          "data": {
            "text/plain": [
              "(690, 16)"
            ]
          },
          "metadata": {
            "tags": []
          },
          "execution_count": 264
        }
      ]
    },
    {
      "metadata": {
        "id": "p_YJrYHbIlE7",
        "colab_type": "code",
        "colab": {
          "base_uri": "https://localhost:8080/",
          "height": 171
        },
        "outputId": "7f875f08-60eb-438f-9db9-0f07c5399284"
      },
      "cell_type": "code",
      "source": [
        "# we are going to drop all of A1 based on the fact that there wasn't any easily observable difference in chance of '+' in A16\n",
        "\n",
        "df.pivot_table(index='A4', values='A16')"
      ],
      "execution_count": 265,
      "outputs": [
        {
          "output_type": "execute_result",
          "data": {
            "text/html": [
              "<div>\n",
              "<style scoped>\n",
              "    .dataframe tbody tr th:only-of-type {\n",
              "        vertical-align: middle;\n",
              "    }\n",
              "\n",
              "    .dataframe tbody tr th {\n",
              "        vertical-align: top;\n",
              "    }\n",
              "\n",
              "    .dataframe thead th {\n",
              "        text-align: right;\n",
              "    }\n",
              "</style>\n",
              "<table border=\"1\" class=\"dataframe\">\n",
              "  <thead>\n",
              "    <tr style=\"text-align: right;\">\n",
              "      <th></th>\n",
              "      <th>A16</th>\n",
              "    </tr>\n",
              "    <tr>\n",
              "      <th>A4</th>\n",
              "      <th></th>\n",
              "    </tr>\n",
              "  </thead>\n",
              "  <tbody>\n",
              "    <tr>\n",
              "      <th>l</th>\n",
              "      <td>1.000000</td>\n",
              "    </tr>\n",
              "    <tr>\n",
              "      <th>u</th>\n",
              "      <td>0.493256</td>\n",
              "    </tr>\n",
              "    <tr>\n",
              "      <th>y</th>\n",
              "      <td>0.276074</td>\n",
              "    </tr>\n",
              "  </tbody>\n",
              "</table>\n",
              "</div>"
            ],
            "text/plain": [
              "         A16\n",
              "A4          \n",
              "l   1.000000\n",
              "u   0.493256\n",
              "y   0.276074"
            ]
          },
          "metadata": {
            "tags": []
          },
          "execution_count": 265
        }
      ]
    },
    {
      "metadata": {
        "id": "Lfd94NhVJw8H",
        "colab_type": "code",
        "colab": {
          "base_uri": "https://localhost:8080/",
          "height": 86
        },
        "outputId": "542a5732-e41e-4dd4-8dd3-234d6caf0420"
      },
      "cell_type": "code",
      "source": [
        "df.A4.value_counts()"
      ],
      "execution_count": 266,
      "outputs": [
        {
          "output_type": "execute_result",
          "data": {
            "text/plain": [
              "u    519\n",
              "y    163\n",
              "l      2\n",
              "Name: A4, dtype: int64"
            ]
          },
          "metadata": {
            "tags": []
          },
          "execution_count": 266
        }
      ]
    },
    {
      "metadata": {
        "id": "DQ5sE8pKNIjC",
        "colab_type": "code",
        "colab": {
          "base_uri": "https://localhost:8080/",
          "height": 138
        },
        "outputId": "512cdf5f-3738-49bf-b576-63d5c6c79eb0"
      },
      "cell_type": "code",
      "source": [
        "df.A4.value_counts(), df.A5.value_counts() "
      ],
      "execution_count": 267,
      "outputs": [
        {
          "output_type": "execute_result",
          "data": {
            "text/plain": [
              "(u    519\n",
              " y    163\n",
              " l      2\n",
              " Name: A4, dtype: int64, g     519\n",
              " p     163\n",
              " gg      2\n",
              " Name: A5, dtype: int64)"
            ]
          },
          "metadata": {
            "tags": []
          },
          "execution_count": 267
        }
      ]
    },
    {
      "metadata": {
        "id": "afc1825hOREy",
        "colab_type": "code",
        "colab": {}
      },
      "cell_type": "code",
      "source": [
        "df.A4 = df.A4.fillna('u')\n",
        "df.A5 = df.A5.fillna('g')"
      ],
      "execution_count": 0,
      "outputs": []
    },
    {
      "metadata": {
        "id": "u0Hu0wU9ObB7",
        "colab_type": "code",
        "colab": {
          "base_uri": "https://localhost:8080/",
          "height": 138
        },
        "outputId": "d91f6245-449d-443c-d32c-959ac0ad0cb2"
      },
      "cell_type": "code",
      "source": [
        "df.A4.value_counts(), df.A5.value_counts()# good here both 690 sorry its so sloppy hopefully i have time to come back"
      ],
      "execution_count": 269,
      "outputs": [
        {
          "output_type": "execute_result",
          "data": {
            "text/plain": [
              "(u    525\n",
              " y    163\n",
              " l      2\n",
              " Name: A4, dtype: int64, g     525\n",
              " p     163\n",
              " gg      2\n",
              " Name: A5, dtype: int64)"
            ]
          },
          "metadata": {
            "tags": []
          },
          "execution_count": 269
        }
      ]
    },
    {
      "metadata": {
        "id": "-B0MDwCxKb4q",
        "colab_type": "code",
        "colab": {}
      },
      "cell_type": "code",
      "source": [
        "# filling the na's seem okay at quick glance because seems like they have similar effect on A16 probability\n",
        "\n",
        "import random\n",
        "# will come back to explain logic and why this is okay later. \n",
        "# had malware attack again and am way behind now\n",
        "\n",
        "df.A1 = df.A1.fillna(random.randint(0,1))\n"
      ],
      "execution_count": 0,
      "outputs": []
    },
    {
      "metadata": {
        "id": "Q37lacJrOZMB",
        "colab_type": "code",
        "colab": {
          "base_uri": "https://localhost:8080/",
          "height": 69
        },
        "outputId": "84932694-e267-478f-edc3-dcc2fd203434"
      },
      "cell_type": "code",
      "source": [
        "df.A1.value_counts()"
      ],
      "execution_count": 271,
      "outputs": [
        {
          "output_type": "execute_result",
          "data": {
            "text/plain": [
              "0.0    468\n",
              "1.0    222\n",
              "Name: A1, dtype: int64"
            ]
          },
          "metadata": {
            "tags": []
          },
          "execution_count": 271
        }
      ]
    },
    {
      "metadata": {
        "id": "hOsRc_zYNz0g",
        "colab_type": "code",
        "colab": {
          "base_uri": "https://localhost:8080/",
          "height": 311
        },
        "outputId": "09b818c9-7472-4498-d5de-c019f18fb8c9"
      },
      "cell_type": "code",
      "source": [
        "df.isna().sum()"
      ],
      "execution_count": 272,
      "outputs": [
        {
          "output_type": "execute_result",
          "data": {
            "text/plain": [
              "A1      0\n",
              "A2     12\n",
              "A3      0\n",
              "A4      0\n",
              "A5      0\n",
              "A6      9\n",
              "A7      9\n",
              "A8      0\n",
              "A9      0\n",
              "A10     0\n",
              "A11     0\n",
              "A12     0\n",
              "A13     0\n",
              "A14    13\n",
              "A15     0\n",
              "A16     0\n",
              "dtype: int64"
            ]
          },
          "metadata": {
            "tags": []
          },
          "execution_count": 272
        }
      ]
    },
    {
      "metadata": {
        "id": "ikfz_4X6_aNT",
        "colab_type": "code",
        "colab": {
          "base_uri": "https://localhost:8080/",
          "height": 34
        },
        "outputId": "aa6e432c-8715-4d5b-b5cc-798c8d58c27f"
      },
      "cell_type": "code",
      "source": [
        "df.isna().sum().sum()"
      ],
      "execution_count": 273,
      "outputs": [
        {
          "output_type": "execute_result",
          "data": {
            "text/plain": [
              "43"
            ]
          },
          "metadata": {
            "tags": []
          },
          "execution_count": 273
        }
      ]
    },
    {
      "metadata": {
        "id": "PNpx79SZ_aWS",
        "colab_type": "code",
        "colab": {
          "base_uri": "https://localhost:8080/",
          "height": 190
        },
        "outputId": "c4b3e2cf-da7f-459e-c710-ab43a74924cb"
      },
      "cell_type": "code",
      "source": [
        "df.A7.value_counts(),"
      ],
      "execution_count": 277,
      "outputs": [
        {
          "output_type": "execute_result",
          "data": {
            "text/plain": [
              "(v     399\n",
              " h     138\n",
              " bb     59\n",
              " ff     57\n",
              " z       8\n",
              " j       8\n",
              " dd      6\n",
              " n       4\n",
              " o       2\n",
              " Name: A7, dtype: int64,)"
            ]
          },
          "metadata": {
            "tags": []
          },
          "execution_count": 277
        }
      ]
    },
    {
      "metadata": {
        "id": "ClElQ6PNPC_1",
        "colab_type": "code",
        "colab": {}
      },
      "cell_type": "code",
      "source": [
        "df.A6 = df.A6.fillna('c')\n",
        "df.A7 = df.A7.fillna('v')"
      ],
      "execution_count": 0,
      "outputs": []
    },
    {
      "metadata": {
        "id": "2tVksrl4POSy",
        "colab_type": "code",
        "colab": {
          "base_uri": "https://localhost:8080/",
          "height": 311
        },
        "outputId": "a1943716-dbce-48d8-a5c0-3a9e227c1b6a"
      },
      "cell_type": "code",
      "source": [
        "df.dtypes"
      ],
      "execution_count": 283,
      "outputs": [
        {
          "output_type": "execute_result",
          "data": {
            "text/plain": [
              "A1     float64\n",
              "A2      object\n",
              "A3     float64\n",
              "A4      object\n",
              "A5      object\n",
              "A6      object\n",
              "A7      object\n",
              "A8     float64\n",
              "A9      object\n",
              "A10     object\n",
              "A11      int64\n",
              "A12     object\n",
              "A13     object\n",
              "A14     object\n",
              "A15      int64\n",
              "A16      int64\n",
              "dtype: object"
            ]
          },
          "metadata": {
            "tags": []
          },
          "execution_count": 283
        }
      ]
    },
    {
      "metadata": {
        "id": "pX6DnXqTPnW6",
        "colab_type": "code",
        "colab": {
          "base_uri": "https://localhost:8080/",
          "height": 34
        },
        "outputId": "5108897f-44ea-4387-d6a8-361270624ac4"
      },
      "cell_type": "code",
      "source": [
        "pd.to_numeric(df.A2.dropna()).sum()"
      ],
      "execution_count": 288,
      "outputs": [
        {
          "output_type": "execute_result",
          "data": {
            "text/plain": [
              "21403.22"
            ]
          },
          "metadata": {
            "tags": []
          },
          "execution_count": 288
        }
      ]
    },
    {
      "metadata": {
        "id": "n-yDpeWcQIds",
        "colab_type": "code",
        "colab": {
          "base_uri": "https://localhost:8080/",
          "height": 34
        },
        "outputId": "5b9d7767-7bf9-45e5-d59d-6bdf65711795"
      },
      "cell_type": "code",
      "source": [
        "len(pd.to_numeric(df.A2.dropna()))"
      ],
      "execution_count": 289,
      "outputs": [
        {
          "output_type": "execute_result",
          "data": {
            "text/plain": [
              "678"
            ]
          },
          "metadata": {
            "tags": []
          },
          "execution_count": 289
        }
      ]
    },
    {
      "metadata": {
        "id": "OWlIfztFQRb6",
        "colab_type": "code",
        "colab": {}
      },
      "cell_type": "code",
      "source": [
        "A2_mean = pd.to_numeric(df.A2.dropna()).sum() / len(pd.to_numeric(df.A2.dropna()))"
      ],
      "execution_count": 0,
      "outputs": []
    },
    {
      "metadata": {
        "id": "6enEibowQhhf",
        "colab_type": "code",
        "colab": {}
      },
      "cell_type": "code",
      "source": [
        "df.A2 = pd.to_numeric(df.A2.fillna(A2_mean))"
      ],
      "execution_count": 0,
      "outputs": []
    },
    {
      "metadata": {
        "id": "wvrJQEnXQw3y",
        "colab_type": "code",
        "colab": {}
      },
      "cell_type": "code",
      "source": [
        "A14_mean = pd.to_numeric(df.A14.dropna()).sum() / len(pd.to_numeric(df.A2.dropna()))"
      ],
      "execution_count": 0,
      "outputs": []
    },
    {
      "metadata": {
        "id": "-hwHgpOiRCUU",
        "colab_type": "code",
        "colab": {}
      },
      "cell_type": "code",
      "source": [
        "df.A14 = pd.to_numeric(df.A2.fillna(A14_mean))"
      ],
      "execution_count": 0,
      "outputs": []
    },
    {
      "metadata": {
        "id": "4GOmgCbqRGcQ",
        "colab_type": "code",
        "colab": {
          "base_uri": "https://localhost:8080/",
          "height": 34
        },
        "outputId": "e8623214-127f-45cb-b044-4daffe33a2e8"
      },
      "cell_type": "code",
      "source": [
        "df.isna().sum().sum()"
      ],
      "execution_count": 302,
      "outputs": [
        {
          "output_type": "execute_result",
          "data": {
            "text/plain": [
              "0"
            ]
          },
          "metadata": {
            "tags": []
          },
          "execution_count": 302
        }
      ]
    },
    {
      "metadata": {
        "id": "1VdxuKJ0RJk8",
        "colab_type": "code",
        "colab": {
          "base_uri": "https://localhost:8080/",
          "height": 171
        },
        "outputId": "8cfa93ce-dc3e-4ea7-c275-faafa9760820"
      },
      "cell_type": "code",
      "source": [
        "df.describe(exclude=np.number)"
      ],
      "execution_count": 304,
      "outputs": [
        {
          "output_type": "execute_result",
          "data": {
            "text/html": [
              "<div>\n",
              "<style scoped>\n",
              "    .dataframe tbody tr th:only-of-type {\n",
              "        vertical-align: middle;\n",
              "    }\n",
              "\n",
              "    .dataframe tbody tr th {\n",
              "        vertical-align: top;\n",
              "    }\n",
              "\n",
              "    .dataframe thead th {\n",
              "        text-align: right;\n",
              "    }\n",
              "</style>\n",
              "<table border=\"1\" class=\"dataframe\">\n",
              "  <thead>\n",
              "    <tr style=\"text-align: right;\">\n",
              "      <th></th>\n",
              "      <th>A4</th>\n",
              "      <th>A5</th>\n",
              "      <th>A6</th>\n",
              "      <th>A7</th>\n",
              "      <th>A9</th>\n",
              "      <th>A10</th>\n",
              "      <th>A12</th>\n",
              "      <th>A13</th>\n",
              "    </tr>\n",
              "  </thead>\n",
              "  <tbody>\n",
              "    <tr>\n",
              "      <th>count</th>\n",
              "      <td>690</td>\n",
              "      <td>690</td>\n",
              "      <td>690</td>\n",
              "      <td>690</td>\n",
              "      <td>690</td>\n",
              "      <td>690</td>\n",
              "      <td>690</td>\n",
              "      <td>690</td>\n",
              "    </tr>\n",
              "    <tr>\n",
              "      <th>unique</th>\n",
              "      <td>3</td>\n",
              "      <td>3</td>\n",
              "      <td>14</td>\n",
              "      <td>9</td>\n",
              "      <td>2</td>\n",
              "      <td>2</td>\n",
              "      <td>2</td>\n",
              "      <td>3</td>\n",
              "    </tr>\n",
              "    <tr>\n",
              "      <th>top</th>\n",
              "      <td>u</td>\n",
              "      <td>g</td>\n",
              "      <td>c</td>\n",
              "      <td>v</td>\n",
              "      <td>t</td>\n",
              "      <td>f</td>\n",
              "      <td>f</td>\n",
              "      <td>g</td>\n",
              "    </tr>\n",
              "    <tr>\n",
              "      <th>freq</th>\n",
              "      <td>525</td>\n",
              "      <td>525</td>\n",
              "      <td>146</td>\n",
              "      <td>408</td>\n",
              "      <td>361</td>\n",
              "      <td>395</td>\n",
              "      <td>374</td>\n",
              "      <td>625</td>\n",
              "    </tr>\n",
              "  </tbody>\n",
              "</table>\n",
              "</div>"
            ],
            "text/plain": [
              "         A4   A5   A6   A7   A9  A10  A12  A13\n",
              "count   690  690  690  690  690  690  690  690\n",
              "unique    3    3   14    9    2    2    2    3\n",
              "top       u    g    c    v    t    f    f    g\n",
              "freq    525  525  146  408  361  395  374  625"
            ]
          },
          "metadata": {
            "tags": []
          },
          "execution_count": 304
        }
      ]
    },
    {
      "metadata": {
        "id": "T_dOIRIMRTor",
        "colab_type": "code",
        "colab": {
          "base_uri": "https://localhost:8080/",
          "height": 294
        },
        "outputId": "251ecdac-8e39-4b09-d247-08f3b9bd85ec"
      },
      "cell_type": "code",
      "source": [
        "df.describe(include=np.number)"
      ],
      "execution_count": 305,
      "outputs": [
        {
          "output_type": "execute_result",
          "data": {
            "text/html": [
              "<div>\n",
              "<style scoped>\n",
              "    .dataframe tbody tr th:only-of-type {\n",
              "        vertical-align: middle;\n",
              "    }\n",
              "\n",
              "    .dataframe tbody tr th {\n",
              "        vertical-align: top;\n",
              "    }\n",
              "\n",
              "    .dataframe thead th {\n",
              "        text-align: right;\n",
              "    }\n",
              "</style>\n",
              "<table border=\"1\" class=\"dataframe\">\n",
              "  <thead>\n",
              "    <tr style=\"text-align: right;\">\n",
              "      <th></th>\n",
              "      <th>A1</th>\n",
              "      <th>A2</th>\n",
              "      <th>A3</th>\n",
              "      <th>A8</th>\n",
              "      <th>A11</th>\n",
              "      <th>A14</th>\n",
              "      <th>A15</th>\n",
              "      <th>A16</th>\n",
              "    </tr>\n",
              "  </thead>\n",
              "  <tbody>\n",
              "    <tr>\n",
              "      <th>count</th>\n",
              "      <td>690.000000</td>\n",
              "      <td>690.000000</td>\n",
              "      <td>690.000000</td>\n",
              "      <td>690.000000</td>\n",
              "      <td>690.00000</td>\n",
              "      <td>690.000000</td>\n",
              "      <td>690.000000</td>\n",
              "      <td>690.000000</td>\n",
              "    </tr>\n",
              "    <tr>\n",
              "      <th>mean</th>\n",
              "      <td>0.321739</td>\n",
              "      <td>31.568171</td>\n",
              "      <td>4.758725</td>\n",
              "      <td>2.223406</td>\n",
              "      <td>2.40000</td>\n",
              "      <td>31.568171</td>\n",
              "      <td>1017.385507</td>\n",
              "      <td>0.444928</td>\n",
              "    </tr>\n",
              "    <tr>\n",
              "      <th>std</th>\n",
              "      <td>0.467482</td>\n",
              "      <td>11.853273</td>\n",
              "      <td>4.978163</td>\n",
              "      <td>3.346513</td>\n",
              "      <td>4.86294</td>\n",
              "      <td>11.853273</td>\n",
              "      <td>5210.102598</td>\n",
              "      <td>0.497318</td>\n",
              "    </tr>\n",
              "    <tr>\n",
              "      <th>min</th>\n",
              "      <td>0.000000</td>\n",
              "      <td>13.750000</td>\n",
              "      <td>0.000000</td>\n",
              "      <td>0.000000</td>\n",
              "      <td>0.00000</td>\n",
              "      <td>13.750000</td>\n",
              "      <td>0.000000</td>\n",
              "      <td>0.000000</td>\n",
              "    </tr>\n",
              "    <tr>\n",
              "      <th>25%</th>\n",
              "      <td>0.000000</td>\n",
              "      <td>22.670000</td>\n",
              "      <td>1.000000</td>\n",
              "      <td>0.165000</td>\n",
              "      <td>0.00000</td>\n",
              "      <td>22.670000</td>\n",
              "      <td>0.000000</td>\n",
              "      <td>0.000000</td>\n",
              "    </tr>\n",
              "    <tr>\n",
              "      <th>50%</th>\n",
              "      <td>0.000000</td>\n",
              "      <td>28.625000</td>\n",
              "      <td>2.750000</td>\n",
              "      <td>1.000000</td>\n",
              "      <td>0.00000</td>\n",
              "      <td>28.625000</td>\n",
              "      <td>5.000000</td>\n",
              "      <td>0.000000</td>\n",
              "    </tr>\n",
              "    <tr>\n",
              "      <th>75%</th>\n",
              "      <td>1.000000</td>\n",
              "      <td>37.707500</td>\n",
              "      <td>7.207500</td>\n",
              "      <td>2.625000</td>\n",
              "      <td>3.00000</td>\n",
              "      <td>37.707500</td>\n",
              "      <td>395.500000</td>\n",
              "      <td>1.000000</td>\n",
              "    </tr>\n",
              "    <tr>\n",
              "      <th>max</th>\n",
              "      <td>1.000000</td>\n",
              "      <td>80.250000</td>\n",
              "      <td>28.000000</td>\n",
              "      <td>28.500000</td>\n",
              "      <td>67.00000</td>\n",
              "      <td>80.250000</td>\n",
              "      <td>100000.000000</td>\n",
              "      <td>1.000000</td>\n",
              "    </tr>\n",
              "  </tbody>\n",
              "</table>\n",
              "</div>"
            ],
            "text/plain": [
              "               A1          A2          A3          A8        A11         A14  \\\n",
              "count  690.000000  690.000000  690.000000  690.000000  690.00000  690.000000   \n",
              "mean     0.321739   31.568171    4.758725    2.223406    2.40000   31.568171   \n",
              "std      0.467482   11.853273    4.978163    3.346513    4.86294   11.853273   \n",
              "min      0.000000   13.750000    0.000000    0.000000    0.00000   13.750000   \n",
              "25%      0.000000   22.670000    1.000000    0.165000    0.00000   22.670000   \n",
              "50%      0.000000   28.625000    2.750000    1.000000    0.00000   28.625000   \n",
              "75%      1.000000   37.707500    7.207500    2.625000    3.00000   37.707500   \n",
              "max      1.000000   80.250000   28.000000   28.500000   67.00000   80.250000   \n",
              "\n",
              "                 A15         A16  \n",
              "count     690.000000  690.000000  \n",
              "mean     1017.385507    0.444928  \n",
              "std      5210.102598    0.497318  \n",
              "min         0.000000    0.000000  \n",
              "25%         0.000000    0.000000  \n",
              "50%         5.000000    0.000000  \n",
              "75%       395.500000    1.000000  \n",
              "max    100000.000000    1.000000  "
            ]
          },
          "metadata": {
            "tags": []
          },
          "execution_count": 305
        }
      ]
    },
    {
      "metadata": {
        "id": "9q31-iKSRXX2",
        "colab_type": "code",
        "colab": {
          "base_uri": "https://localhost:8080/",
          "height": 34
        },
        "outputId": "b085dfbe-b125-407b-a76a-f7062d6c092f"
      },
      "cell_type": "code",
      "source": [
        "df.shape"
      ],
      "execution_count": 306,
      "outputs": [
        {
          "output_type": "execute_result",
          "data": {
            "text/plain": [
              "(690, 16)"
            ]
          },
          "metadata": {
            "tags": []
          },
          "execution_count": 306
        }
      ]
    },
    {
      "metadata": {
        "id": "G7rLytbrO38L",
        "colab_type": "text"
      },
      "cell_type": "markdown",
      "source": [
        "## Part 2 - Exploring data, Testing hypotheses\n",
        "\n",
        "The only thing we really know about this data is that A16 is the class label. Besides that, we have 6 continuous (float) features and 9 categorical features.\n",
        "\n",
        "Explore the data: you can use whatever approach (tables, utility functions, visualizations) to get an impression of the distributions and relationships of the variables. In general, your goal is to understand how the features are different when grouped by the two class labels (`+` and `-`).\n",
        "\n",
        "For the 6 continuous features, how are they different when split between the two class labels? Choose two features to run t-tests (again split by class label) - specifically, select one feature that is *extremely* different between the classes, and another feature that is notably less different (though perhaps still \"statistically significantly\" different). You may have to explore more than two features to do this.\n",
        "\n",
        "For the categorical features, explore by creating \"cross tabs\" (aka [contingency tables](https://en.wikipedia.org/wiki/Contingency_table)) between them and the class label, and apply the Chi-squared test to them. [pandas.crosstab](http://pandas.pydata.org/pandas-docs/stable/reference/api/pandas.crosstab.html) can create contingency tables, and [scipy.stats.chi2_contingency](https://docs.scipy.org/doc/scipy/reference/generated/scipy.stats.chi2_contingency.html) can calculate the Chi-squared statistic for them.\n",
        "\n",
        "There are 9 categorical features - as with the t-test, try to find one where the Chi-squared test returns an extreme result (rejecting the null that the data are independent), and one where it is less extreme.\n",
        "\n",
        "**NOTE** - \"less extreme\" just means smaller test statistic/larger p-value. Even the least extreme differences may be strongly statistically significant.\n",
        "\n",
        "Your *main* goal is the hypothesis tests, so don't spend too much time on the exploration/visualization piece. That is just a means to an end - use simple visualizations, such as boxplots or a scatter matrix (both built in to pandas), to get a feel for the overall distribution of the variables.\n",
        "\n",
        "This is challenging, so manage your time and aim for a baseline of at least running two t-tests and two Chi-squared tests before polishing. And don't forget to answer the questions in part 3, even if your results in this part aren't what you want them to be."
      ]
    },
    {
      "metadata": {
        "id": "4fND-6obRk-T",
        "colab_type": "code",
        "colab": {
          "base_uri": "https://localhost:8080/",
          "height": 311
        },
        "outputId": "dc0c4c01-2836-4612-e20a-d26896820687"
      },
      "cell_type": "code",
      "source": [
        "df.dtypes"
      ],
      "execution_count": 309,
      "outputs": [
        {
          "output_type": "execute_result",
          "data": {
            "text/plain": [
              "A1     float64\n",
              "A2     float64\n",
              "A3     float64\n",
              "A4      object\n",
              "A5      object\n",
              "A6      object\n",
              "A7      object\n",
              "A8     float64\n",
              "A9      object\n",
              "A10     object\n",
              "A11      int64\n",
              "A12     object\n",
              "A13     object\n",
              "A14    float64\n",
              "A15      int64\n",
              "A16      int64\n",
              "dtype: object"
            ]
          },
          "metadata": {
            "tags": []
          },
          "execution_count": 309
        }
      ]
    },
    {
      "metadata": {
        "id": "_nqcgc0yzm68",
        "colab_type": "code",
        "colab": {}
      },
      "cell_type": "code",
      "source": [
        "# TODO\n",
        "# A1 to int\n",
        "# A11 to float\n",
        "df.A1 = df.A1.astype(int)\n"
      ],
      "execution_count": 0,
      "outputs": []
    },
    {
      "metadata": {
        "id": "oO_NFwpDR21D",
        "colab_type": "code",
        "colab": {}
      },
      "cell_type": "code",
      "source": [
        "df.A11 = df.A11.astype(float)"
      ],
      "execution_count": 0,
      "outputs": []
    },
    {
      "metadata": {
        "id": "epLSqHeeR7ZQ",
        "colab_type": "code",
        "colab": {}
      },
      "cell_type": "code",
      "source": [
        "df.A15 = df.A15.astype(float)"
      ],
      "execution_count": 0,
      "outputs": []
    },
    {
      "metadata": {
        "id": "-STMgV4PSFcQ",
        "colab_type": "code",
        "colab": {
          "base_uri": "https://localhost:8080/",
          "height": 311
        },
        "outputId": "62eef206-3999-43de-b1da-bd8a80530ba0"
      },
      "cell_type": "code",
      "source": [
        "# finally squared away...\n",
        "df.dtypes"
      ],
      "execution_count": 317,
      "outputs": [
        {
          "output_type": "execute_result",
          "data": {
            "text/plain": [
              "A1       int64\n",
              "A2     float64\n",
              "A3     float64\n",
              "A4      object\n",
              "A5      object\n",
              "A6      object\n",
              "A7      object\n",
              "A8     float64\n",
              "A9      object\n",
              "A10     object\n",
              "A11    float64\n",
              "A12     object\n",
              "A13     object\n",
              "A14    float64\n",
              "A15    float64\n",
              "A16      int64\n",
              "dtype: object"
            ]
          },
          "metadata": {
            "tags": []
          },
          "execution_count": 317
        }
      ]
    },
    {
      "metadata": {
        "id": "B5cn790BSKkf",
        "colab_type": "code",
        "colab": {
          "base_uri": "https://localhost:8080/",
          "height": 263
        },
        "outputId": "f98e1a80-5b70-4d3f-fdab-3031c9f4ae40"
      },
      "cell_type": "code",
      "source": [
        "df[['A2', 'A3', 'A8', 'A11', 'A14','A15','A16']].corr()"
      ],
      "execution_count": 319,
      "outputs": [
        {
          "output_type": "execute_result",
          "data": {
            "text/html": [
              "<div>\n",
              "<style scoped>\n",
              "    .dataframe tbody tr th:only-of-type {\n",
              "        vertical-align: middle;\n",
              "    }\n",
              "\n",
              "    .dataframe tbody tr th {\n",
              "        vertical-align: top;\n",
              "    }\n",
              "\n",
              "    .dataframe thead th {\n",
              "        text-align: right;\n",
              "    }\n",
              "</style>\n",
              "<table border=\"1\" class=\"dataframe\">\n",
              "  <thead>\n",
              "    <tr style=\"text-align: right;\">\n",
              "      <th></th>\n",
              "      <th>A2</th>\n",
              "      <th>A3</th>\n",
              "      <th>A8</th>\n",
              "      <th>A11</th>\n",
              "      <th>A14</th>\n",
              "      <th>A15</th>\n",
              "      <th>A16</th>\n",
              "    </tr>\n",
              "  </thead>\n",
              "  <tbody>\n",
              "    <tr>\n",
              "      <th>A2</th>\n",
              "      <td>1.000000</td>\n",
              "      <td>0.201316</td>\n",
              "      <td>0.392787</td>\n",
              "      <td>0.185575</td>\n",
              "      <td>1.000000</td>\n",
              "      <td>0.018539</td>\n",
              "      <td>0.161627</td>\n",
              "    </tr>\n",
              "    <tr>\n",
              "      <th>A3</th>\n",
              "      <td>0.201316</td>\n",
              "      <td>1.000000</td>\n",
              "      <td>0.298902</td>\n",
              "      <td>0.271207</td>\n",
              "      <td>0.201316</td>\n",
              "      <td>0.123121</td>\n",
              "      <td>0.206294</td>\n",
              "    </tr>\n",
              "    <tr>\n",
              "      <th>A8</th>\n",
              "      <td>0.392787</td>\n",
              "      <td>0.298902</td>\n",
              "      <td>1.000000</td>\n",
              "      <td>0.322330</td>\n",
              "      <td>0.392787</td>\n",
              "      <td>0.051345</td>\n",
              "      <td>0.322475</td>\n",
              "    </tr>\n",
              "    <tr>\n",
              "      <th>A11</th>\n",
              "      <td>0.185575</td>\n",
              "      <td>0.271207</td>\n",
              "      <td>0.322330</td>\n",
              "      <td>1.000000</td>\n",
              "      <td>0.185575</td>\n",
              "      <td>0.063692</td>\n",
              "      <td>0.406410</td>\n",
              "    </tr>\n",
              "    <tr>\n",
              "      <th>A14</th>\n",
              "      <td>1.000000</td>\n",
              "      <td>0.201316</td>\n",
              "      <td>0.392787</td>\n",
              "      <td>0.185575</td>\n",
              "      <td>1.000000</td>\n",
              "      <td>0.018539</td>\n",
              "      <td>0.161627</td>\n",
              "    </tr>\n",
              "    <tr>\n",
              "      <th>A15</th>\n",
              "      <td>0.018539</td>\n",
              "      <td>0.123121</td>\n",
              "      <td>0.051345</td>\n",
              "      <td>0.063692</td>\n",
              "      <td>0.018539</td>\n",
              "      <td>1.000000</td>\n",
              "      <td>0.175657</td>\n",
              "    </tr>\n",
              "    <tr>\n",
              "      <th>A16</th>\n",
              "      <td>0.161627</td>\n",
              "      <td>0.206294</td>\n",
              "      <td>0.322475</td>\n",
              "      <td>0.406410</td>\n",
              "      <td>0.161627</td>\n",
              "      <td>0.175657</td>\n",
              "      <td>1.000000</td>\n",
              "    </tr>\n",
              "  </tbody>\n",
              "</table>\n",
              "</div>"
            ],
            "text/plain": [
              "           A2        A3        A8       A11       A14       A15       A16\n",
              "A2   1.000000  0.201316  0.392787  0.185575  1.000000  0.018539  0.161627\n",
              "A3   0.201316  1.000000  0.298902  0.271207  0.201316  0.123121  0.206294\n",
              "A8   0.392787  0.298902  1.000000  0.322330  0.392787  0.051345  0.322475\n",
              "A11  0.185575  0.271207  0.322330  1.000000  0.185575  0.063692  0.406410\n",
              "A14  1.000000  0.201316  0.392787  0.185575  1.000000  0.018539  0.161627\n",
              "A15  0.018539  0.123121  0.051345  0.063692  0.018539  1.000000  0.175657\n",
              "A16  0.161627  0.206294  0.322475  0.406410  0.161627  0.175657  1.000000"
            ]
          },
          "metadata": {
            "tags": []
          },
          "execution_count": 319
        }
      ]
    },
    {
      "metadata": {
        "id": "_iu7ZEpfTuIP",
        "colab_type": "code",
        "colab": {}
      },
      "cell_type": "code",
      "source": [
        "cont = ['A2', 'A3', 'A8', 'A11', 'A14','A15']\n",
        "\n",
        "pos_df = df[df.A16 == 1]\n",
        "neg_df = df[df.A16 == 0]\n",
        "\n",
        "import scipy.stats\n"
      ],
      "execution_count": 0,
      "outputs": []
    },
    {
      "metadata": {
        "id": "10o0FISTUsmZ",
        "colab_type": "code",
        "colab": {
          "base_uri": "https://localhost:8080/",
          "height": 232
        },
        "outputId": "cc72afe2-0207-44e8-c807-4ace24a23b2f"
      },
      "cell_type": "code",
      "source": [
        "# lets look at the change in correlations now when filtering for +,- A16\n",
        "\n",
        "pos_df[['A2', 'A3', 'A8', 'A11', 'A14','A15']].corr()"
      ],
      "execution_count": 328,
      "outputs": [
        {
          "output_type": "execute_result",
          "data": {
            "text/html": [
              "<div>\n",
              "<style scoped>\n",
              "    .dataframe tbody tr th:only-of-type {\n",
              "        vertical-align: middle;\n",
              "    }\n",
              "\n",
              "    .dataframe tbody tr th {\n",
              "        vertical-align: top;\n",
              "    }\n",
              "\n",
              "    .dataframe thead th {\n",
              "        text-align: right;\n",
              "    }\n",
              "</style>\n",
              "<table border=\"1\" class=\"dataframe\">\n",
              "  <thead>\n",
              "    <tr style=\"text-align: right;\">\n",
              "      <th></th>\n",
              "      <th>A2</th>\n",
              "      <th>A3</th>\n",
              "      <th>A8</th>\n",
              "      <th>A11</th>\n",
              "      <th>A14</th>\n",
              "      <th>A15</th>\n",
              "    </tr>\n",
              "  </thead>\n",
              "  <tbody>\n",
              "    <tr>\n",
              "      <th>A2</th>\n",
              "      <td>1.000000</td>\n",
              "      <td>0.241398</td>\n",
              "      <td>0.447014</td>\n",
              "      <td>0.188662</td>\n",
              "      <td>1.000000</td>\n",
              "      <td>-0.011464</td>\n",
              "    </tr>\n",
              "    <tr>\n",
              "      <th>A3</th>\n",
              "      <td>0.241398</td>\n",
              "      <td>1.000000</td>\n",
              "      <td>0.379640</td>\n",
              "      <td>0.270734</td>\n",
              "      <td>0.241398</td>\n",
              "      <td>0.110576</td>\n",
              "    </tr>\n",
              "    <tr>\n",
              "      <th>A8</th>\n",
              "      <td>0.447014</td>\n",
              "      <td>0.379640</td>\n",
              "      <td>1.000000</td>\n",
              "      <td>0.268358</td>\n",
              "      <td>0.447014</td>\n",
              "      <td>-0.001367</td>\n",
              "    </tr>\n",
              "    <tr>\n",
              "      <th>A11</th>\n",
              "      <td>0.188662</td>\n",
              "      <td>0.270734</td>\n",
              "      <td>0.268358</td>\n",
              "      <td>1.000000</td>\n",
              "      <td>0.188662</td>\n",
              "      <td>-0.009422</td>\n",
              "    </tr>\n",
              "    <tr>\n",
              "      <th>A14</th>\n",
              "      <td>1.000000</td>\n",
              "      <td>0.241398</td>\n",
              "      <td>0.447014</td>\n",
              "      <td>0.188662</td>\n",
              "      <td>1.000000</td>\n",
              "      <td>-0.011464</td>\n",
              "    </tr>\n",
              "    <tr>\n",
              "      <th>A15</th>\n",
              "      <td>-0.011464</td>\n",
              "      <td>0.110576</td>\n",
              "      <td>-0.001367</td>\n",
              "      <td>-0.009422</td>\n",
              "      <td>-0.011464</td>\n",
              "      <td>1.000000</td>\n",
              "    </tr>\n",
              "  </tbody>\n",
              "</table>\n",
              "</div>"
            ],
            "text/plain": [
              "           A2        A3        A8       A11       A14       A15\n",
              "A2   1.000000  0.241398  0.447014  0.188662  1.000000 -0.011464\n",
              "A3   0.241398  1.000000  0.379640  0.270734  0.241398  0.110576\n",
              "A8   0.447014  0.379640  1.000000  0.268358  0.447014 -0.001367\n",
              "A11  0.188662  0.270734  0.268358  1.000000  0.188662 -0.009422\n",
              "A14  1.000000  0.241398  0.447014  0.188662  1.000000 -0.011464\n",
              "A15 -0.011464  0.110576 -0.001367 -0.009422 -0.011464  1.000000"
            ]
          },
          "metadata": {
            "tags": []
          },
          "execution_count": 328
        }
      ]
    },
    {
      "metadata": {
        "id": "iDHsOn6PVD8X",
        "colab_type": "code",
        "colab": {
          "base_uri": "https://localhost:8080/",
          "height": 232
        },
        "outputId": "3771c96d-9c3f-4f12-e02b-6ec3d7fa9300"
      },
      "cell_type": "code",
      "source": [
        "neg_df[['A2', 'A3', 'A8', 'A11', 'A14','A15']].corr() #correlations between the continuous variables are significantly different when filtering by +/-"
      ],
      "execution_count": 331,
      "outputs": [
        {
          "output_type": "execute_result",
          "data": {
            "text/html": [
              "<div>\n",
              "<style scoped>\n",
              "    .dataframe tbody tr th:only-of-type {\n",
              "        vertical-align: middle;\n",
              "    }\n",
              "\n",
              "    .dataframe tbody tr th {\n",
              "        vertical-align: top;\n",
              "    }\n",
              "\n",
              "    .dataframe thead th {\n",
              "        text-align: right;\n",
              "    }\n",
              "</style>\n",
              "<table border=\"1\" class=\"dataframe\">\n",
              "  <thead>\n",
              "    <tr style=\"text-align: right;\">\n",
              "      <th></th>\n",
              "      <th>A2</th>\n",
              "      <th>A3</th>\n",
              "      <th>A8</th>\n",
              "      <th>A11</th>\n",
              "      <th>A14</th>\n",
              "      <th>A15</th>\n",
              "    </tr>\n",
              "  </thead>\n",
              "  <tbody>\n",
              "    <tr>\n",
              "      <th>A2</th>\n",
              "      <td>1.000000</td>\n",
              "      <td>0.093411</td>\n",
              "      <td>0.242029</td>\n",
              "      <td>0.013084</td>\n",
              "      <td>1.000000</td>\n",
              "      <td>-0.027522</td>\n",
              "    </tr>\n",
              "    <tr>\n",
              "      <th>A3</th>\n",
              "      <td>0.093411</td>\n",
              "      <td>1.000000</td>\n",
              "      <td>0.013675</td>\n",
              "      <td>0.082698</td>\n",
              "      <td>0.093411</td>\n",
              "      <td>0.120923</td>\n",
              "    </tr>\n",
              "    <tr>\n",
              "      <th>A8</th>\n",
              "      <td>0.242029</td>\n",
              "      <td>0.013675</td>\n",
              "      <td>1.000000</td>\n",
              "      <td>0.003884</td>\n",
              "      <td>0.242029</td>\n",
              "      <td>-0.092774</td>\n",
              "    </tr>\n",
              "    <tr>\n",
              "      <th>A11</th>\n",
              "      <td>0.013084</td>\n",
              "      <td>0.082698</td>\n",
              "      <td>0.003884</td>\n",
              "      <td>1.000000</td>\n",
              "      <td>0.013084</td>\n",
              "      <td>0.010720</td>\n",
              "    </tr>\n",
              "    <tr>\n",
              "      <th>A14</th>\n",
              "      <td>1.000000</td>\n",
              "      <td>0.093411</td>\n",
              "      <td>0.242029</td>\n",
              "      <td>0.013084</td>\n",
              "      <td>1.000000</td>\n",
              "      <td>-0.027522</td>\n",
              "    </tr>\n",
              "    <tr>\n",
              "      <th>A15</th>\n",
              "      <td>-0.027522</td>\n",
              "      <td>0.120923</td>\n",
              "      <td>-0.092774</td>\n",
              "      <td>0.010720</td>\n",
              "      <td>-0.027522</td>\n",
              "      <td>1.000000</td>\n",
              "    </tr>\n",
              "  </tbody>\n",
              "</table>\n",
              "</div>"
            ],
            "text/plain": [
              "           A2        A3        A8       A11       A14       A15\n",
              "A2   1.000000  0.093411  0.242029  0.013084  1.000000 -0.027522\n",
              "A3   0.093411  1.000000  0.013675  0.082698  0.093411  0.120923\n",
              "A8   0.242029  0.013675  1.000000  0.003884  0.242029 -0.092774\n",
              "A11  0.013084  0.082698  0.003884  1.000000  0.013084  0.010720\n",
              "A14  1.000000  0.093411  0.242029  0.013084  1.000000 -0.027522\n",
              "A15 -0.027522  0.120923 -0.092774  0.010720 -0.027522  1.000000"
            ]
          },
          "metadata": {
            "tags": []
          },
          "execution_count": 331
        }
      ]
    },
    {
      "metadata": {
        "id": "teA62B2HUckI",
        "colab_type": "code",
        "colab": {}
      },
      "cell_type": "code",
      "source": [
        "summary_cont = {}\n",
        "for col in cont:\n",
        "  t, p = scipy.stats.ttest_ind(pos_df[col], neg_df[col])\n",
        "  mean_pos = pos_df[col].mean()\n",
        "  mean_neg = neg_df[col].mean()\n",
        "  dif_in_means = mean_pos - mean_neg\n",
        "  median_pos = pos_df[col].median()\n",
        "  median_neg = neg_df[col].median()\n",
        "  dif_in_median = median_pos - median_neg\n",
        "  std_pos = pos_df[col].std()\n",
        "  std_neg = neg_df[col].std()\n",
        "  dif_in_std = std_pos - std_neg\n",
        "  summary_cont[col] = [t, p, mean_pos, mean_neg, dif_in_means, std_pos, std_neg, dif_in_std, median_pos, median_neg, dif_in_median]\n",
        "  \n",
        "\n",
        "summary_cont = pd.DataFrame(summary_cont).T\n",
        "summary_cont = summary_cont.rename({0:'t_stat', 1:'p_value',\n",
        "                     2:'mean_pos', 3:'mean_neg',\n",
        "                     4:'dif_in_means', 5:'std_pos',\n",
        "                     6:'std_neg', 7:'dif_in_std',\n",
        "                     8:'median_pos', 9:'median_neg', 10:'dif_in_median'}, axis='columns')"
      ],
      "execution_count": 0,
      "outputs": []
    },
    {
      "metadata": {
        "id": "Rb-wyg2wV1Om",
        "colab_type": "code",
        "colab": {
          "base_uri": "https://localhost:8080/",
          "height": 232
        },
        "outputId": "a264b2dd-605c-4732-d259-d565dc505b6b"
      },
      "cell_type": "code",
      "source": [
        "summary_cont # notice that the positive has a higher mean, median, standard deviation that the negative side\n",
        "             # this tells us there are not only higher positive outliers in the pos_filtered data but that even the median was higher,\n",
        "              #so we can say that all of these variables are positively correlated with the + column"
      ],
      "execution_count": 353,
      "outputs": [
        {
          "output_type": "execute_result",
          "data": {
            "text/html": [
              "<div>\n",
              "<style scoped>\n",
              "    .dataframe tbody tr th:only-of-type {\n",
              "        vertical-align: middle;\n",
              "    }\n",
              "\n",
              "    .dataframe tbody tr th {\n",
              "        vertical-align: top;\n",
              "    }\n",
              "\n",
              "    .dataframe thead th {\n",
              "        text-align: right;\n",
              "    }\n",
              "</style>\n",
              "<table border=\"1\" class=\"dataframe\">\n",
              "  <thead>\n",
              "    <tr style=\"text-align: right;\">\n",
              "      <th></th>\n",
              "      <th>t_stat</th>\n",
              "      <th>p_value</th>\n",
              "      <th>mean_pos</th>\n",
              "      <th>mean_neg</th>\n",
              "      <th>dif_in_means</th>\n",
              "      <th>std_pos</th>\n",
              "      <th>std_neg</th>\n",
              "      <th>dif_in_std</th>\n",
              "      <th>median_pos</th>\n",
              "      <th>median_neg</th>\n",
              "      <th>dif_in_median</th>\n",
              "    </tr>\n",
              "  </thead>\n",
              "  <tbody>\n",
              "    <tr>\n",
              "      <th>A11</th>\n",
              "      <td>11.667004</td>\n",
              "      <td>7.957719e-29</td>\n",
              "      <td>4.605863</td>\n",
              "      <td>0.631854</td>\n",
              "      <td>3.974009</td>\n",
              "      <td>6.320242</td>\n",
              "      <td>1.900049</td>\n",
              "      <td>4.420193</td>\n",
              "      <td>3.00</td>\n",
              "      <td>0.000</td>\n",
              "      <td>3.000</td>\n",
              "    </tr>\n",
              "    <tr>\n",
              "      <th>A14</th>\n",
              "      <td>4.295930</td>\n",
              "      <td>1.990220e-05</td>\n",
              "      <td>33.706470</td>\n",
              "      <td>29.854182</td>\n",
              "      <td>3.852288</td>\n",
              "      <td>12.768888</td>\n",
              "      <td>10.779084</td>\n",
              "      <td>1.989804</td>\n",
              "      <td>30.67</td>\n",
              "      <td>27.670</td>\n",
              "      <td>3.000</td>\n",
              "    </tr>\n",
              "    <tr>\n",
              "      <th>A15</th>\n",
              "      <td>4.680216</td>\n",
              "      <td>3.452026e-06</td>\n",
              "      <td>2038.859935</td>\n",
              "      <td>198.605744</td>\n",
              "      <td>1840.254191</td>\n",
              "      <td>7659.763941</td>\n",
              "      <td>671.608839</td>\n",
              "      <td>6988.155102</td>\n",
              "      <td>221.00</td>\n",
              "      <td>1.000</td>\n",
              "      <td>220.000</td>\n",
              "    </tr>\n",
              "    <tr>\n",
              "      <th>A2</th>\n",
              "      <td>4.295930</td>\n",
              "      <td>1.990220e-05</td>\n",
              "      <td>33.706470</td>\n",
              "      <td>29.854182</td>\n",
              "      <td>3.852288</td>\n",
              "      <td>12.768888</td>\n",
              "      <td>10.779084</td>\n",
              "      <td>1.989804</td>\n",
              "      <td>30.67</td>\n",
              "      <td>27.670</td>\n",
              "      <td>3.000</td>\n",
              "    </tr>\n",
              "    <tr>\n",
              "      <th>A3</th>\n",
              "      <td>5.529983</td>\n",
              "      <td>4.551681e-08</td>\n",
              "      <td>5.904951</td>\n",
              "      <td>3.839948</td>\n",
              "      <td>2.065003</td>\n",
              "      <td>5.471485</td>\n",
              "      <td>4.337662</td>\n",
              "      <td>1.133823</td>\n",
              "      <td>4.46</td>\n",
              "      <td>2.210</td>\n",
              "      <td>2.250</td>\n",
              "    </tr>\n",
              "    <tr>\n",
              "      <th>A8</th>\n",
              "      <td>8.935820</td>\n",
              "      <td>3.671054e-18</td>\n",
              "      <td>3.427899</td>\n",
              "      <td>1.257924</td>\n",
              "      <td>2.169975</td>\n",
              "      <td>4.120792</td>\n",
              "      <td>2.120481</td>\n",
              "      <td>2.000312</td>\n",
              "      <td>2.00</td>\n",
              "      <td>0.415</td>\n",
              "      <td>1.585</td>\n",
              "    </tr>\n",
              "  </tbody>\n",
              "</table>\n",
              "</div>"
            ],
            "text/plain": [
              "        t_stat       p_value     mean_pos    mean_neg  dif_in_means  \\\n",
              "A11  11.667004  7.957719e-29     4.605863    0.631854      3.974009   \n",
              "A14   4.295930  1.990220e-05    33.706470   29.854182      3.852288   \n",
              "A15   4.680216  3.452026e-06  2038.859935  198.605744   1840.254191   \n",
              "A2    4.295930  1.990220e-05    33.706470   29.854182      3.852288   \n",
              "A3    5.529983  4.551681e-08     5.904951    3.839948      2.065003   \n",
              "A8    8.935820  3.671054e-18     3.427899    1.257924      2.169975   \n",
              "\n",
              "         std_pos     std_neg   dif_in_std  median_pos  median_neg  \\\n",
              "A11     6.320242    1.900049     4.420193        3.00       0.000   \n",
              "A14    12.768888   10.779084     1.989804       30.67      27.670   \n",
              "A15  7659.763941  671.608839  6988.155102      221.00       1.000   \n",
              "A2     12.768888   10.779084     1.989804       30.67      27.670   \n",
              "A3      5.471485    4.337662     1.133823        4.46       2.210   \n",
              "A8      4.120792    2.120481     2.000312        2.00       0.415   \n",
              "\n",
              "     dif_in_median  \n",
              "A11          3.000  \n",
              "A14          3.000  \n",
              "A15        220.000  \n",
              "A2           3.000  \n",
              "A3           2.250  \n",
              "A8           1.585  "
            ]
          },
          "metadata": {
            "tags": []
          },
          "execution_count": 353
        }
      ]
    },
    {
      "metadata": {
        "id": "2xItw7Q-SfeJ",
        "colab_type": "code",
        "colab": {
          "base_uri": "https://localhost:8080/",
          "height": 171
        },
        "outputId": "7e3fb42b-79b0-46ba-ecb0-acf59e4e4b89"
      },
      "cell_type": "code",
      "source": [
        "pd.crosstab(index=df.A4, columns=df.A5) # notice we can get rid of one of these columns all together they are the same."
      ],
      "execution_count": 355,
      "outputs": [
        {
          "output_type": "execute_result",
          "data": {
            "text/html": [
              "<div>\n",
              "<style scoped>\n",
              "    .dataframe tbody tr th:only-of-type {\n",
              "        vertical-align: middle;\n",
              "    }\n",
              "\n",
              "    .dataframe tbody tr th {\n",
              "        vertical-align: top;\n",
              "    }\n",
              "\n",
              "    .dataframe thead th {\n",
              "        text-align: right;\n",
              "    }\n",
              "</style>\n",
              "<table border=\"1\" class=\"dataframe\">\n",
              "  <thead>\n",
              "    <tr style=\"text-align: right;\">\n",
              "      <th>A5</th>\n",
              "      <th>g</th>\n",
              "      <th>gg</th>\n",
              "      <th>p</th>\n",
              "    </tr>\n",
              "    <tr>\n",
              "      <th>A4</th>\n",
              "      <th></th>\n",
              "      <th></th>\n",
              "      <th></th>\n",
              "    </tr>\n",
              "  </thead>\n",
              "  <tbody>\n",
              "    <tr>\n",
              "      <th>l</th>\n",
              "      <td>0</td>\n",
              "      <td>2</td>\n",
              "      <td>0</td>\n",
              "    </tr>\n",
              "    <tr>\n",
              "      <th>u</th>\n",
              "      <td>525</td>\n",
              "      <td>0</td>\n",
              "      <td>0</td>\n",
              "    </tr>\n",
              "    <tr>\n",
              "      <th>y</th>\n",
              "      <td>0</td>\n",
              "      <td>0</td>\n",
              "      <td>163</td>\n",
              "    </tr>\n",
              "  </tbody>\n",
              "</table>\n",
              "</div>"
            ],
            "text/plain": [
              "A5    g  gg    p\n",
              "A4              \n",
              "l     0   2    0\n",
              "u   525   0    0\n",
              "y     0   0  163"
            ]
          },
          "metadata": {
            "tags": []
          },
          "execution_count": 355
        }
      ]
    },
    {
      "metadata": {
        "id": "yeXn3hT3Y945",
        "colab_type": "code",
        "colab": {
          "base_uri": "https://localhost:8080/",
          "height": 171
        },
        "outputId": "e2a46910-c2dd-4fcb-b02e-35ed050a59e9"
      },
      "cell_type": "code",
      "source": [
        "pd.crosstab(index=pos_df.A4, columns=pos_df.A5) "
      ],
      "execution_count": 356,
      "outputs": [
        {
          "output_type": "execute_result",
          "data": {
            "text/html": [
              "<div>\n",
              "<style scoped>\n",
              "    .dataframe tbody tr th:only-of-type {\n",
              "        vertical-align: middle;\n",
              "    }\n",
              "\n",
              "    .dataframe tbody tr th {\n",
              "        vertical-align: top;\n",
              "    }\n",
              "\n",
              "    .dataframe thead th {\n",
              "        text-align: right;\n",
              "    }\n",
              "</style>\n",
              "<table border=\"1\" class=\"dataframe\">\n",
              "  <thead>\n",
              "    <tr style=\"text-align: right;\">\n",
              "      <th>A5</th>\n",
              "      <th>g</th>\n",
              "      <th>gg</th>\n",
              "      <th>p</th>\n",
              "    </tr>\n",
              "    <tr>\n",
              "      <th>A4</th>\n",
              "      <th></th>\n",
              "      <th></th>\n",
              "      <th></th>\n",
              "    </tr>\n",
              "  </thead>\n",
              "  <tbody>\n",
              "    <tr>\n",
              "      <th>l</th>\n",
              "      <td>0</td>\n",
              "      <td>2</td>\n",
              "      <td>0</td>\n",
              "    </tr>\n",
              "    <tr>\n",
              "      <th>u</th>\n",
              "      <td>260</td>\n",
              "      <td>0</td>\n",
              "      <td>0</td>\n",
              "    </tr>\n",
              "    <tr>\n",
              "      <th>y</th>\n",
              "      <td>0</td>\n",
              "      <td>0</td>\n",
              "      <td>45</td>\n",
              "    </tr>\n",
              "  </tbody>\n",
              "</table>\n",
              "</div>"
            ],
            "text/plain": [
              "A5    g  gg   p\n",
              "A4             \n",
              "l     0   2   0\n",
              "u   260   0   0\n",
              "y     0   0  45"
            ]
          },
          "metadata": {
            "tags": []
          },
          "execution_count": 356
        }
      ]
    },
    {
      "metadata": {
        "id": "AkRSUM80ZI__",
        "colab_type": "code",
        "colab": {
          "base_uri": "https://localhost:8080/",
          "height": 140
        },
        "outputId": "e01bd80b-d058-4bfe-83d1-a9a579f47c66"
      },
      "cell_type": "code",
      "source": [
        "pd.crosstab(index=neg_df.A4, columns=neg_df.A5) # see we can see that these columns are doing the same thing for us regardless of the filter."
      ],
      "execution_count": 357,
      "outputs": [
        {
          "output_type": "execute_result",
          "data": {
            "text/html": [
              "<div>\n",
              "<style scoped>\n",
              "    .dataframe tbody tr th:only-of-type {\n",
              "        vertical-align: middle;\n",
              "    }\n",
              "\n",
              "    .dataframe tbody tr th {\n",
              "        vertical-align: top;\n",
              "    }\n",
              "\n",
              "    .dataframe thead th {\n",
              "        text-align: right;\n",
              "    }\n",
              "</style>\n",
              "<table border=\"1\" class=\"dataframe\">\n",
              "  <thead>\n",
              "    <tr style=\"text-align: right;\">\n",
              "      <th>A5</th>\n",
              "      <th>g</th>\n",
              "      <th>p</th>\n",
              "    </tr>\n",
              "    <tr>\n",
              "      <th>A4</th>\n",
              "      <th></th>\n",
              "      <th></th>\n",
              "    </tr>\n",
              "  </thead>\n",
              "  <tbody>\n",
              "    <tr>\n",
              "      <th>u</th>\n",
              "      <td>265</td>\n",
              "      <td>0</td>\n",
              "    </tr>\n",
              "    <tr>\n",
              "      <th>y</th>\n",
              "      <td>0</td>\n",
              "      <td>118</td>\n",
              "    </tr>\n",
              "  </tbody>\n",
              "</table>\n",
              "</div>"
            ],
            "text/plain": [
              "A5    g    p\n",
              "A4          \n",
              "u   265    0\n",
              "y     0  118"
            ]
          },
          "metadata": {
            "tags": []
          },
          "execution_count": 357
        }
      ]
    },
    {
      "metadata": {
        "id": "mxDsSPvBZaqU",
        "colab_type": "code",
        "colab": {
          "base_uri": "https://localhost:8080/",
          "height": 34
        },
        "outputId": "8dab87f8-c3bb-4641-ed8a-5a06726f4c75"
      },
      "cell_type": "code",
      "source": [
        "scipy.stats.chisquare(pd.crosstab(index=neg_df.A4, columns=neg_df.A5))\n"
      ],
      "execution_count": 364,
      "outputs": [
        {
          "output_type": "execute_result",
          "data": {
            "text/plain": [
              "Power_divergenceResult(statistic=array([265., 118.]), pvalue=array([1.39532253e-59, 1.73388010e-27]))"
            ]
          },
          "metadata": {
            "tags": []
          },
          "execution_count": 364
        }
      ]
    },
    {
      "metadata": {
        "id": "7OMdzq1paAcN",
        "colab_type": "code",
        "colab": {
          "base_uri": "https://localhost:8080/",
          "height": 34
        },
        "outputId": "c19b6e9a-3365-480f-84ca-fa0012bbfe07"
      },
      "cell_type": "code",
      "source": [
        "scipy.stats.chisquare(pd.crosstab(index=pos_df.A4, columns=pos_df.A5))"
      ],
      "execution_count": 366,
      "outputs": [
        {
          "output_type": "execute_result",
          "data": {
            "text/plain": [
              "Power_divergenceResult(statistic=array([520.,   4.,  90.]), pvalue=array([1.21181048e-113, 1.35335283e-001, 2.86251858e-020]))"
            ]
          },
          "metadata": {
            "tags": []
          },
          "execution_count": 366
        }
      ]
    },
    {
      "metadata": {
        "id": "2_5kqEFIaCYH",
        "colab_type": "code",
        "colab": {
          "base_uri": "https://localhost:8080/",
          "height": 259
        },
        "outputId": "893274d2-ba34-48c1-dbbd-103357db6dbf"
      },
      "cell_type": "code",
      "source": [
        "categorical_cols = ['A1', 'A4', 'A5', 'A6','A7','A9','A10','A12','A13']\n",
        "# lets see if A4 is different with other columns. which is the same as asking whether A5 is aswell\n",
        "categorical_summary = {}\n",
        "for col in categorical_cols:\n",
        "  ts_pos, ps_pos = scipy.stats.chisquare(pd.crosstab(index=pos_df.A4, columns=pos_df[col]))\n",
        "  ts_neg, ps_neg = scipy.stats.chisquare(pd.crosstab(index=neg_df.A4, columns=neg_df[col]))\n",
        "  \n",
        "  print(ps_pos)\n"
      ],
      "execution_count": 374,
      "outputs": [
        {
          "output_type": "stream",
          "text": [
            "[4.01390524e-52 1.13548258e-30]\n",
            "[1.35335283e-001 1.21181048e-113 2.86251858e-020]\n",
            "[1.21181048e-113 1.35335283e-001 2.86251858e-020]\n",
            "[1.09622541e-05 1.90398028e-17 1.07880415e-08 1.56118045e-01\n",
            " 1.42361230e-04 1.19315225e-02 1.34802391e-05 3.67879441e-01\n",
            " 9.79399011e-04 2.14454083e-05 3.38618867e-19 1.35335283e-01\n",
            " 3.66898051e-07 3.97297759e-09]\n",
            "[3.31380028e-07 1.35335283e-01 4.63091873e-03 4.94862660e-25\n",
            " 3.67879441e-01 1.35335283e-01 3.67879441e-01 3.58692676e-46\n",
            " 3.01973834e-02]\n",
            "[1.74746551e-04 2.32703517e-78]\n",
            "[1.02089698e-23 5.93430638e-59]\n",
            "[7.74266989e-51 1.40530902e-32]\n",
            "[1.17658110e-78 7.42735782e-02 3.69786372e-03]\n"
          ],
          "name": "stdout"
        }
      ]
    },
    {
      "metadata": {
        "id": "2z48URtDVoaX",
        "colab_type": "text"
      },
      "cell_type": "markdown",
      "source": [
        "print(p)"
      ]
    },
    {
      "metadata": {
        "id": "ZM8JckA2bgnp",
        "colab_type": "text"
      },
      "cell_type": "markdown",
      "source": [
        "## Part 3 - Analysis and Interpretation\n",
        "\n",
        "Now that you've looked at the data, answer the following questions:\n",
        "\n",
        "- Interpret and explain the two t-tests you ran - what do they tell you about the relationships between the continuous features you selected and the class labels?\n",
        "- Interpret and explain the two Chi-squared tests you ran - what do they tell you about the relationships between the categorical features you selected and the class labels?\n",
        "- What was the most challenging part of this sprint challenge?\n",
        "\n",
        "Answer with text, but feel free to intersperse example code/results or refer to it from earlier."
      ]
    },
    {
      "metadata": {
        "id": "LIozLDNG2Uhu",
        "colab_type": "text"
      },
      "cell_type": "markdown",
      "source": [
        "*i commented within the code for the ttests but essentially that the cont variables we were given were pos correlated with + outcome, this means they are most likely a linear combination of each other and we'll know how to handle that better in a few weeks for forecasting*\n",
        "\n",
        "*that two of the features we're exactly the same while there we're non-linear relationships within others*\n",
        "\n",
        "*i had another malware attack and essentially had to play catch up causing me to be frantic and not think straight, i think that lower level 'nity-grity' statistics are a great foundation but would love to be able to catch subtletys more easily*\n",
        "\n",
        "*i should have had my computer better prepared. but am looking forward to looking over this challenge after i've eaten to get into everything a little deeper. i don't want to build my statistics house on top of bad plumming. thanks for reviewing this and looking forward to talking about it. *"
      ]
    }
  ]
}