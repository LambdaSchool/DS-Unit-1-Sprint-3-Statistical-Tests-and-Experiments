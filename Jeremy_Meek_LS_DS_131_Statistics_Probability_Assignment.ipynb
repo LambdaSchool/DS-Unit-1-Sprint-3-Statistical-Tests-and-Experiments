{
  "nbformat": 4,
  "nbformat_minor": 0,
  "metadata": {
    "kernelspec": {
      "display_name": "Python 3",
      "language": "python",
      "name": "python3"
    },
    "language_info": {
      "codemirror_mode": {
        "name": "ipython",
        "version": 3
      },
      "file_extension": ".py",
      "mimetype": "text/x-python",
      "name": "python",
      "nbconvert_exporter": "python",
      "pygments_lexer": "ipython3",
      "version": "3.7.3"
    },
    "colab": {
      "name": "Jeremy_Meek_LS_DS_131_Statistics_Probability_Assignment.ipynb",
      "version": "0.3.2",
      "provenance": [],
      "include_colab_link": true
    }
  },
  "cells": [
    {
      "cell_type": "markdown",
      "metadata": {
        "id": "view-in-github",
        "colab_type": "text"
      },
      "source": [
        "<a href=\"https://colab.research.google.com/github/Distortedlogic/DS-Unit-1-Sprint-3-Statistical-Tests-and-Experiments/blob/master/Jeremy_Meek_LS_DS_131_Statistics_Probability_Assignment.ipynb\" target=\"_parent\"><img src=\"https://colab.research.google.com/assets/colab-badge.svg\" alt=\"Open In Colab\"/></a>"
      ]
    },
    {
      "cell_type": "markdown",
      "metadata": {
        "id": "NTYjH0420urO",
        "colab_type": "text"
      },
      "source": [
        "<img align=\"left\" src=\"https://lever-client-logos.s3.amazonaws.com/864372b1-534c-480e-acd5-9711f850815c-1524247202159.png\" width=200>\n",
        "<br></br>\n",
        "<br></br>\n",
        "\n",
        "## *Data Science Unit 1 Sprint 3 Assignment 1*\n",
        "\n",
        "# Apply the t-test to real data\n",
        "\n",
        "Your assignment is to determine which issues have \"statistically significant\" differences between political parties in this [1980s congressional voting data](https://archive.ics.uci.edu/ml/datasets/Congressional+Voting+Records). The data consists of 435 instances (one for each congressperson), a class (democrat or republican), and 16 binary attributes (yes or no for voting for or against certain issues). Be aware - there are missing values!\n",
        "\n",
        "Your goals:\n",
        "\n",
        "1. Load and clean the data (or determine the best method to drop observations when running tests)\n",
        "2. Using hypothesis testing, find an issue that democrats support more than republicans with p < 0.01\n",
        "3. Using hypothesis testing, find an issue that republicans support more than democrats with p < 0.01\n",
        "4. Using hypothesis testing, find an issue where the difference between republicans and democrats has p > 0.1 (i.e. there may not be much of a difference)\n",
        "\n",
        "Note that this data will involve *2 sample* t-tests, because you're comparing averages across two groups (republicans and democrats) rather than a single group against a null hypothesis.\n",
        "\n",
        "Stretch goals:\n",
        "\n",
        "1. Refactor your code into functions so it's easy to rerun with arbitrary variables\n",
        "2. Apply hypothesis testing to your personal project data (for the purposes of this notebook you can type a summary of the hypothesis you formed and tested)"
      ]
    },
    {
      "cell_type": "code",
      "metadata": {
        "id": "S3zDxERl0urR",
        "colab_type": "code",
        "colab": {}
      },
      "source": [
        "import pandas as pd\n",
        "import numpy as np\n",
        "from scipy.stats import ttest_1samp\n",
        "from scipy.stats import ttest_ind\n",
        "import matplotlib.pyplot as plt\n",
        "\n",
        "URL = 'https://archive.ics.uci.edu/ml/machine-learning-databases/voting-records/house-votes-84.data'\n",
        "NAMES=['party','handicapped-infants','water-project',\n",
        "                          'budget','physician-fee-freeze', 'el-salvador-aid',\n",
        "                          'religious-groups','anti-satellite-ban',\n",
        "                          'aid-to-contras','mx-missile','immigration',\n",
        "                          'synfuels', 'education', 'right-to-sue','crime','duty-free',\n",
        "                          'south-africa']"
      ],
      "execution_count": 0,
      "outputs": []
    },
    {
      "cell_type": "code",
      "metadata": {
        "id": "BOOUZA8QFBZK",
        "colab_type": "code",
        "colab": {}
      },
      "source": [
        "df = pd.read_csv(URL, header=None, names=NAMES).replace({'?':np.NaN, 'n':0, 'y':1})\n",
        "assert df.shape[0] == 435"
      ],
      "execution_count": 0,
      "outputs": []
    },
    {
      "cell_type": "code",
      "metadata": {
        "id": "8rzW_AtJFcFz",
        "colab_type": "code",
        "colab": {}
      },
      "source": [
        "dem, rep = [x for _, x in df.groupby('party')]"
      ],
      "execution_count": 0,
      "outputs": []
    },
    {
      "cell_type": "code",
      "metadata": {
        "id": "yBIT7fYuctsF",
        "colab_type": "code",
        "outputId": "6fa86c83-a652-4864-85d0-ad4380e2f3ba",
        "colab": {
          "base_uri": "https://localhost:8080/",
          "height": 521
        }
      },
      "source": [
        "features = NAMES[1:]\n",
        "\n",
        "values = []\n",
        "for feature in features:\n",
        "  t,p = ttest_ind(dem[feature], rep[feature], nan_policy='omit')\n",
        "  values.append([t,p])\n",
        "\n",
        "results = pd.DataFrame.from_dict(dict(zip(features, values))).transpose()\n",
        "results.columns = ['t-statistic', 'p-value']\n",
        "results"
      ],
      "execution_count": 4,
      "outputs": [
        {
          "output_type": "execute_result",
          "data": {
            "text/html": [
              "<div>\n",
              "<style scoped>\n",
              "    .dataframe tbody tr th:only-of-type {\n",
              "        vertical-align: middle;\n",
              "    }\n",
              "\n",
              "    .dataframe tbody tr th {\n",
              "        vertical-align: top;\n",
              "    }\n",
              "\n",
              "    .dataframe thead th {\n",
              "        text-align: right;\n",
              "    }\n",
              "</style>\n",
              "<table border=\"1\" class=\"dataframe\">\n",
              "  <thead>\n",
              "    <tr style=\"text-align: right;\">\n",
              "      <th></th>\n",
              "      <th>t-statistic</th>\n",
              "      <th>p-value</th>\n",
              "    </tr>\n",
              "  </thead>\n",
              "  <tbody>\n",
              "    <tr>\n",
              "      <th>handicapped-infants</th>\n",
              "      <td>9.205264</td>\n",
              "      <td>1.613440e-18</td>\n",
              "    </tr>\n",
              "    <tr>\n",
              "      <th>water-project</th>\n",
              "      <td>-0.088965</td>\n",
              "      <td>9.291557e-01</td>\n",
              "    </tr>\n",
              "    <tr>\n",
              "      <th>budget</th>\n",
              "      <td>23.212777</td>\n",
              "      <td>2.070340e-77</td>\n",
              "    </tr>\n",
              "    <tr>\n",
              "      <th>physician-fee-freeze</th>\n",
              "      <td>-49.367082</td>\n",
              "      <td>1.994262e-177</td>\n",
              "    </tr>\n",
              "    <tr>\n",
              "      <th>el-salvador-aid</th>\n",
              "      <td>-21.136693</td>\n",
              "      <td>5.600520e-68</td>\n",
              "    </tr>\n",
              "    <tr>\n",
              "      <th>religious-groups</th>\n",
              "      <td>-9.737576</td>\n",
              "      <td>2.393672e-20</td>\n",
              "    </tr>\n",
              "    <tr>\n",
              "      <th>anti-satellite-ban</th>\n",
              "      <td>12.526188</td>\n",
              "      <td>8.521033e-31</td>\n",
              "    </tr>\n",
              "    <tr>\n",
              "      <th>aid-to-contras</th>\n",
              "      <td>18.052093</td>\n",
              "      <td>2.824718e-54</td>\n",
              "    </tr>\n",
              "    <tr>\n",
              "      <th>mx-missile</th>\n",
              "      <td>16.437503</td>\n",
              "      <td>5.030793e-47</td>\n",
              "    </tr>\n",
              "    <tr>\n",
              "      <th>immigration</th>\n",
              "      <td>-1.735912</td>\n",
              "      <td>8.330248e-02</td>\n",
              "    </tr>\n",
              "    <tr>\n",
              "      <th>synfuels</th>\n",
              "      <td>8.293604</td>\n",
              "      <td>1.575932e-15</td>\n",
              "    </tr>\n",
              "    <tr>\n",
              "      <th>education</th>\n",
              "      <td>-20.500686</td>\n",
              "      <td>1.883420e-64</td>\n",
              "    </tr>\n",
              "    <tr>\n",
              "      <th>right-to-sue</th>\n",
              "      <td>-13.510643</td>\n",
              "      <td>1.227858e-34</td>\n",
              "    </tr>\n",
              "    <tr>\n",
              "      <th>crime</th>\n",
              "      <td>-16.342086</td>\n",
              "      <td>9.952343e-47</td>\n",
              "    </tr>\n",
              "    <tr>\n",
              "      <th>duty-free</th>\n",
              "      <td>12.853146</td>\n",
              "      <td>5.997697e-32</td>\n",
              "    </tr>\n",
              "    <tr>\n",
              "      <th>south-africa</th>\n",
              "      <td>6.849455</td>\n",
              "      <td>3.652674e-11</td>\n",
              "    </tr>\n",
              "  </tbody>\n",
              "</table>\n",
              "</div>"
            ],
            "text/plain": [
              "                      t-statistic        p-value\n",
              "handicapped-infants      9.205264   1.613440e-18\n",
              "water-project           -0.088965   9.291557e-01\n",
              "budget                  23.212777   2.070340e-77\n",
              "physician-fee-freeze   -49.367082  1.994262e-177\n",
              "el-salvador-aid        -21.136693   5.600520e-68\n",
              "religious-groups        -9.737576   2.393672e-20\n",
              "anti-satellite-ban      12.526188   8.521033e-31\n",
              "aid-to-contras          18.052093   2.824718e-54\n",
              "mx-missile              16.437503   5.030793e-47\n",
              "immigration             -1.735912   8.330248e-02\n",
              "synfuels                 8.293604   1.575932e-15\n",
              "education              -20.500686   1.883420e-64\n",
              "right-to-sue           -13.510643   1.227858e-34\n",
              "crime                  -16.342086   9.952343e-47\n",
              "duty-free               12.853146   5.997697e-32\n",
              "south-africa             6.849455   3.652674e-11"
            ]
          },
          "metadata": {
            "tags": []
          },
          "execution_count": 4
        }
      ]
    },
    {
      "cell_type": "code",
      "metadata": {
        "id": "tIl5US0ccvCz",
        "colab_type": "code",
        "colab": {}
      },
      "source": [
        "confidence = .99\n",
        "not_rejected, rejected = [x for _, x in results.groupby(results['p-value'] < (1-confidence))]"
      ],
      "execution_count": 0,
      "outputs": []
    },
    {
      "cell_type": "code",
      "metadata": {
        "id": "mHeh-PqyghJy",
        "colab_type": "code",
        "outputId": "85d098fe-82a9-409f-8562-7a232ff4ef80",
        "colab": {
          "base_uri": "https://localhost:8080/",
          "height": 34
        }
      },
      "source": [
        "print(f\"The null hypothesis was rejected on {len(rejected)} out of {len(results)} via 2-sample t-testing of democrats vs republicans\")"
      ],
      "execution_count": 6,
      "outputs": [
        {
          "output_type": "stream",
          "text": [
            "The null hypothesis was rejected on 14 out of 16 via 2-sample t-testing of democrats vs republicans\n"
          ],
          "name": "stdout"
        }
      ]
    },
    {
      "cell_type": "code",
      "metadata": {
        "id": "yClAMaA9kqyd",
        "colab_type": "code",
        "outputId": "3db479f4-660e-4486-a936-717bf3607b37",
        "colab": {
          "base_uri": "https://localhost:8080/",
          "height": 269
        }
      },
      "source": [
        "print(\"The issues where the null-hypothesis was rejected are:\\n{}\".format('\\n'.join(i for i in list(rejected.index))))"
      ],
      "execution_count": 7,
      "outputs": [
        {
          "output_type": "stream",
          "text": [
            "The issues where the null-hypothesis was rejected are:\n",
            "handicapped-infants\n",
            "budget\n",
            "physician-fee-freeze\n",
            "el-salvador-aid\n",
            "religious-groups\n",
            "anti-satellite-ban\n",
            "aid-to-contras\n",
            "mx-missile\n",
            "synfuels\n",
            "education\n",
            "right-to-sue\n",
            "crime\n",
            "duty-free\n",
            "south-africa\n"
          ],
          "name": "stdout"
        }
      ]
    },
    {
      "cell_type": "code",
      "metadata": {
        "id": "KnanHh-tluM_",
        "colab_type": "code",
        "outputId": "83cd32e6-90a8-47f9-9bf5-6981d8ddf31a",
        "colab": {
          "base_uri": "https://localhost:8080/",
          "height": 67
        }
      },
      "source": [
        "print(\"The issues where the null-hypothesis was not rejected are:\\n{}\".format('\\n'.join(i for i in list(not_rejected.index))))"
      ],
      "execution_count": 8,
      "outputs": [
        {
          "output_type": "stream",
          "text": [
            "The issues where the null-hypothesis was not rejected are:\n",
            "water-project\n",
            "immigration\n"
          ],
          "name": "stdout"
        }
      ]
    },
    {
      "cell_type": "code",
      "metadata": {
        "id": "n6bu4bkfm2Dp",
        "colab_type": "code",
        "colab": {}
      },
      "source": [
        "def one_sample_ttest(mu_0, dataframe, party=False, issue=False):\n",
        "  '''\n",
        "  Does one sample t-testing on a dataframe structured like the one in this example\n",
        "  ie new represenatives or issues can be added to the dataframe and this function will still work\n",
        "  also allows for more parties than just democrats and republicans\n",
        "\n",
        "  If party/issue are not specified then it runs the ttests on every party and issue\n",
        "  returns dictionary where key:value is party:corresponding dataframe of t-statistics and p-values\n",
        "\n",
        "  if party but not issue is specified then it runs ttests on entire dataframe for each issue\n",
        "  returns dataframe of t-statistics and p-values\n",
        "\n",
        "  if issue but not party is specified then it runs ttests on the issue for every party\n",
        "\n",
        "  if party and issue are specified then it returns the t-statistic and p-value for those parameters\n",
        "  '''\n",
        "\n",
        "  if (not party) & (not issue):\n",
        "    features = list(dataframe)[1:]\n",
        "    parties = [x for x, _ in dataframe.groupby('party')]\n",
        "\n",
        "    dfs={}\n",
        "    for party in parties:\n",
        "      party_df = dataframe[dataframe['party'] == party]\n",
        "\n",
        "      values=[]\n",
        "      for feature in features:\n",
        "        t,p = ttest_1samp(party_df[feature], mu_0, nan_policy='omit')\n",
        "        values.append([t,p])\n",
        "\n",
        "      results = pd.DataFrame.from_dict(dict(zip(features, values))).transpose()\n",
        "      results.columns = ['t-statistic', 'p-value']\n",
        "      dfs[party] = results\n",
        "\n",
        "    return dfs\n",
        "\n",
        "  elif not issue:\n",
        "    features = list(dataframe)[1:]\n",
        "    party_df = df[df['party'] == party]\n",
        "\n",
        "    values = []\n",
        "    for feature in features:\n",
        "      t,p = ttest_1samp(party_df[feature], mu_0, nan_policy='omit')\n",
        "      values.append([t,p])\n",
        "\n",
        "    results = pd.DataFrame.from_dict(dict(zip(features, values))).transpose()\n",
        "    results.columns = ['t-statistic', 'p-value']\n",
        "\n",
        "    return results\n",
        "\n",
        "  elif not party:\n",
        "    parties = [x for x, _ in dataframe.groupby('party')]\n",
        "    party_dict = {}\n",
        "\n",
        "    t,p = ttest_1samp(dataframe[issue], mu_0, nan_policy='omit')\n",
        "    party_dict['all'] = [t,p]\n",
        "\n",
        "    for party in parties:\n",
        "      t,p = ttest_1samp(dataframe.loc[dataframe['party'] == party, issue], mu_0, nan_policy='omit')\n",
        "      party_dict[party] = [t,p]\n",
        "\n",
        "    return party_dict\n",
        "\n",
        "  else:\n",
        "    party_df = df[df['party'] == party]\n",
        "    t,p = ttest_1samp(party_df[issue], mu_0, nan_policy='omit')\n",
        "    return t,p"
      ],
      "execution_count": 0,
      "outputs": []
    },
    {
      "cell_type": "code",
      "metadata": {
        "id": "3p1paPd1rF71",
        "colab_type": "code",
        "colab": {}
      },
      "source": [
        "by_party = one_sample_ttest(0, df)\n",
        "just_dems = one_sample_ttest(0, df, party='democrat')\n",
        "budget = one_sample_ttest(0, df, issue='budget')\n",
        "rep_budget = one_sample_ttest(0, df, party='republican', issue='budget')"
      ],
      "execution_count": 0,
      "outputs": []
    },
    {
      "cell_type": "code",
      "metadata": {
        "id": "qiMMIJrrvyRN",
        "colab_type": "code",
        "outputId": "1708638d-afc9-4cbe-e5e3-738fe3838335",
        "colab": {
          "base_uri": "https://localhost:8080/",
          "height": 195
        }
      },
      "source": [
        "by_party['democrat'].head()"
      ],
      "execution_count": 11,
      "outputs": [
        {
          "output_type": "execute_result",
          "data": {
            "text/html": [
              "<div>\n",
              "<style scoped>\n",
              "    .dataframe tbody tr th:only-of-type {\n",
              "        vertical-align: middle;\n",
              "    }\n",
              "\n",
              "    .dataframe tbody tr th {\n",
              "        vertical-align: top;\n",
              "    }\n",
              "\n",
              "    .dataframe thead th {\n",
              "        text-align: right;\n",
              "    }\n",
              "</style>\n",
              "<table border=\"1\" class=\"dataframe\">\n",
              "  <thead>\n",
              "    <tr style=\"text-align: right;\">\n",
              "      <th></th>\n",
              "      <th>t-statistic</th>\n",
              "      <th>p-value</th>\n",
              "    </tr>\n",
              "  </thead>\n",
              "  <tbody>\n",
              "    <tr>\n",
              "      <th>handicapped-infants</th>\n",
              "      <td>19.825711</td>\n",
              "      <td>1.039199e-53</td>\n",
              "    </tr>\n",
              "    <tr>\n",
              "      <th>water-project</th>\n",
              "      <td>15.491933</td>\n",
              "      <td>6.633847e-38</td>\n",
              "    </tr>\n",
              "    <tr>\n",
              "      <th>budget</th>\n",
              "      <td>45.421019</td>\n",
              "      <td>2.300569e-125</td>\n",
              "    </tr>\n",
              "    <tr>\n",
              "      <th>physician-fee-freeze</th>\n",
              "      <td>3.839643</td>\n",
              "      <td>1.550891e-04</td>\n",
              "    </tr>\n",
              "    <tr>\n",
              "      <th>el-salvador-aid</th>\n",
              "      <td>8.357631</td>\n",
              "      <td>4.230829e-15</td>\n",
              "    </tr>\n",
              "  </tbody>\n",
              "</table>\n",
              "</div>"
            ],
            "text/plain": [
              "                      t-statistic        p-value\n",
              "handicapped-infants     19.825711   1.039199e-53\n",
              "water-project           15.491933   6.633847e-38\n",
              "budget                  45.421019  2.300569e-125\n",
              "physician-fee-freeze     3.839643   1.550891e-04\n",
              "el-salvador-aid          8.357631   4.230829e-15"
            ]
          },
          "metadata": {
            "tags": []
          },
          "execution_count": 11
        }
      ]
    },
    {
      "cell_type": "code",
      "metadata": {
        "id": "gTsrX_Zuw8PS",
        "colab_type": "code",
        "outputId": "7d2cefc9-93d9-463f-e0ea-5ea2274f027f",
        "colab": {
          "base_uri": "https://localhost:8080/",
          "height": 195
        }
      },
      "source": [
        "by_party['republican'].head()"
      ],
      "execution_count": 12,
      "outputs": [
        {
          "output_type": "execute_result",
          "data": {
            "text/html": [
              "<div>\n",
              "<style scoped>\n",
              "    .dataframe tbody tr th:only-of-type {\n",
              "        vertical-align: middle;\n",
              "    }\n",
              "\n",
              "    .dataframe tbody tr th {\n",
              "        vertical-align: top;\n",
              "    }\n",
              "\n",
              "    .dataframe thead th {\n",
              "        text-align: right;\n",
              "    }\n",
              "</style>\n",
              "<table border=\"1\" class=\"dataframe\">\n",
              "  <thead>\n",
              "    <tr style=\"text-align: right;\">\n",
              "      <th></th>\n",
              "      <th>t-statistic</th>\n",
              "      <th>p-value</th>\n",
              "    </tr>\n",
              "  </thead>\n",
              "  <tbody>\n",
              "    <tr>\n",
              "      <th>handicapped-infants</th>\n",
              "      <td>6.159570</td>\n",
              "      <td>5.434588e-09</td>\n",
              "    </tr>\n",
              "    <tr>\n",
              "      <th>water-project</th>\n",
              "      <td>12.289320</td>\n",
              "      <td>2.525483e-24</td>\n",
              "    </tr>\n",
              "    <tr>\n",
              "      <th>budget</th>\n",
              "      <td>5.025288</td>\n",
              "      <td>1.310752e-06</td>\n",
              "    </tr>\n",
              "    <tr>\n",
              "      <th>physician-fee-freeze</th>\n",
              "      <td>115.611418</td>\n",
              "      <td>4.438624e-159</td>\n",
              "    </tr>\n",
              "    <tr>\n",
              "      <th>el-salvador-aid</th>\n",
              "      <td>56.731825</td>\n",
              "      <td>1.057330e-109</td>\n",
              "    </tr>\n",
              "  </tbody>\n",
              "</table>\n",
              "</div>"
            ],
            "text/plain": [
              "                      t-statistic        p-value\n",
              "handicapped-infants      6.159570   5.434588e-09\n",
              "water-project           12.289320   2.525483e-24\n",
              "budget                   5.025288   1.310752e-06\n",
              "physician-fee-freeze   115.611418  4.438624e-159\n",
              "el-salvador-aid         56.731825  1.057330e-109"
            ]
          },
          "metadata": {
            "tags": []
          },
          "execution_count": 12
        }
      ]
    },
    {
      "cell_type": "code",
      "metadata": {
        "id": "cEmFAZAqxTdD",
        "colab_type": "code",
        "outputId": "e05f852b-21a2-4325-9cd2-504ca5dab372",
        "colab": {
          "base_uri": "https://localhost:8080/",
          "height": 195
        }
      },
      "source": [
        "just_dems.head()"
      ],
      "execution_count": 13,
      "outputs": [
        {
          "output_type": "execute_result",
          "data": {
            "text/html": [
              "<div>\n",
              "<style scoped>\n",
              "    .dataframe tbody tr th:only-of-type {\n",
              "        vertical-align: middle;\n",
              "    }\n",
              "\n",
              "    .dataframe tbody tr th {\n",
              "        vertical-align: top;\n",
              "    }\n",
              "\n",
              "    .dataframe thead th {\n",
              "        text-align: right;\n",
              "    }\n",
              "</style>\n",
              "<table border=\"1\" class=\"dataframe\">\n",
              "  <thead>\n",
              "    <tr style=\"text-align: right;\">\n",
              "      <th></th>\n",
              "      <th>t-statistic</th>\n",
              "      <th>p-value</th>\n",
              "    </tr>\n",
              "  </thead>\n",
              "  <tbody>\n",
              "    <tr>\n",
              "      <th>handicapped-infants</th>\n",
              "      <td>19.825711</td>\n",
              "      <td>1.039199e-53</td>\n",
              "    </tr>\n",
              "    <tr>\n",
              "      <th>water-project</th>\n",
              "      <td>15.491933</td>\n",
              "      <td>6.633847e-38</td>\n",
              "    </tr>\n",
              "    <tr>\n",
              "      <th>budget</th>\n",
              "      <td>45.421019</td>\n",
              "      <td>2.300569e-125</td>\n",
              "    </tr>\n",
              "    <tr>\n",
              "      <th>physician-fee-freeze</th>\n",
              "      <td>3.839643</td>\n",
              "      <td>1.550891e-04</td>\n",
              "    </tr>\n",
              "    <tr>\n",
              "      <th>el-salvador-aid</th>\n",
              "      <td>8.357631</td>\n",
              "      <td>4.230829e-15</td>\n",
              "    </tr>\n",
              "  </tbody>\n",
              "</table>\n",
              "</div>"
            ],
            "text/plain": [
              "                      t-statistic        p-value\n",
              "handicapped-infants     19.825711   1.039199e-53\n",
              "water-project           15.491933   6.633847e-38\n",
              "budget                  45.421019  2.300569e-125\n",
              "physician-fee-freeze     3.839643   1.550891e-04\n",
              "el-salvador-aid          8.357631   4.230829e-15"
            ]
          },
          "metadata": {
            "tags": []
          },
          "execution_count": 13
        }
      ]
    },
    {
      "cell_type": "code",
      "metadata": {
        "id": "agPbqMTrxoq1",
        "colab_type": "code",
        "outputId": "3b74700a-e8af-4691-cc03-995f1328b545",
        "colab": {
          "base_uri": "https://localhost:8080/",
          "height": 67
        }
      },
      "source": [
        "budget"
      ],
      "execution_count": 14,
      "outputs": [
        {
          "output_type": "execute_result",
          "data": {
            "text/plain": [
              "{'all': [25.016836435951646, 1.953199426413576e-85],\n",
              " 'democrat': [45.42101898369565, 2.3005685556379574e-125],\n",
              " 'republican': [5.02528816355446, 1.3107521045196396e-06]}"
            ]
          },
          "metadata": {
            "tags": []
          },
          "execution_count": 14
        }
      ]
    },
    {
      "cell_type": "code",
      "metadata": {
        "id": "BSjqLMViyJZx",
        "colab_type": "code",
        "outputId": "e4d86391-1b1a-4b2d-941d-8d0aa1e92a4a",
        "colab": {
          "base_uri": "https://localhost:8080/",
          "height": 34
        }
      },
      "source": [
        "rep_budget"
      ],
      "execution_count": 15,
      "outputs": [
        {
          "output_type": "execute_result",
          "data": {
            "text/plain": [
              "(5.02528816355446, 1.3107521045196396e-06)"
            ]
          },
          "metadata": {
            "tags": []
          },
          "execution_count": 15
        }
      ]
    },
    {
      "cell_type": "code",
      "metadata": {
        "id": "u6lYZvqb-89o",
        "colab_type": "code",
        "colab": {}
      },
      "source": [
        "def plot_issue(issue):\n",
        "  fig, ax = plt.subplots()\n",
        "  fig.patch.set_facecolor('white')\n",
        "\n",
        "  parties = [x for x, _ in df.groupby('party')]\n",
        "  colors = ['b', 'r']\n",
        "\n",
        "  ax.hist([df.loc[df['party']==party, issue].dropna() for party in parties], label = parties, color=colors)\n",
        "\n",
        "  ax.text(x=0, y=265, s=issue, fontweight='bold', fontsize=12);\n",
        "\n",
        "  ax.set_xticks((0,1))\n",
        "  ax.set_xlim([-0.1,1.1])\n",
        "  ax.set_xticklabels(['No','Yes'])\n",
        "  \n",
        "  ax.set_yticks(range(0, 300, 50))\n",
        "  ax.set_yticklabels(range(0, 300, 50))\n",
        "\n",
        "  ax.axhline(linewidth=2, color=\"black\")\n",
        "\n",
        "  ax.legend(loc=\"upper center\")\n",
        "\n",
        "  ax.grid(axis='y')\n",
        "\n",
        "  plt.show()\n"
      ],
      "execution_count": 0,
      "outputs": []
    },
    {
      "cell_type": "code",
      "metadata": {
        "id": "HcKDFNVv_hze",
        "colab_type": "code",
        "colab": {
          "base_uri": "https://localhost:8080/",
          "height": 288
        },
        "outputId": "bb031a1c-2479-4549-a6c3-e5a7bcf845a1"
      },
      "source": [
        "plot_issue('budget')"
      ],
      "execution_count": 29,
      "outputs": [
        {
          "output_type": "display_data",
          "data": {
            "image/png": "[encoded data removed]",
            "text/plain": [
              "<Figure size 432x288 with 1 Axes>"
            ]
          },
          "metadata": {
            "tags": []
          }
        }
      ]
    },
    {
      "cell_type": "code",
      "metadata": {
        "id": "epPAPPHdSqj0",
        "colab_type": "code",
        "colab": {}
      },
      "source": [
        ""
      ],
      "execution_count": 0,
      "outputs": []
    }
  ]
}