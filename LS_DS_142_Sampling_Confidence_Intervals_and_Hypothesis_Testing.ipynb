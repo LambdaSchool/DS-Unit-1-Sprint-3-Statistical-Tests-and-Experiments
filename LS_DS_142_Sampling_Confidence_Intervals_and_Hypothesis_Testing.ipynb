{
  "nbformat": 4,
  "nbformat_minor": 0,
  "metadata": {
    "colab": {
      "name": "LS_DS_142_Sampling_Confidence_Intervals_and_Hypothesis_Testing.ipynb",
      "version": "0.3.2",
      "provenance": [],
      "collapsed_sections": [],
      "include_colab_link": true
    },
    "kernelspec": {
      "name": "python3",
      "display_name": "Python 3"
    }
  },
  "cells": [
    {
      "cell_type": "markdown",
      "metadata": {
        "id": "view-in-github",
        "colab_type": "text"
      },
      "source": [
        "<a href=\"https://colab.research.google.com/github/a-apte/DS-Unit-1-Sprint-4-Statistical-Tests-and-Experiments/blob/master/LS_DS_142_Sampling_Confidence_Intervals_and_Hypothesis_Testing.ipynb\" target=\"_parent\"><img src=\"https://colab.research.google.com/assets/colab-badge.svg\" alt=\"Open In Colab\"/></a>"
      ]
    },
    {
      "metadata": {
        "id": "838Dmw1kM2LK",
        "colab_type": "text"
      },
      "cell_type": "markdown",
      "source": [
        "# Lambda School Data Science Module 142\n",
        "## Sampling, Confidence Intervals, and Hypothesis Testing"
      ]
    },
    {
      "metadata": {
        "id": "dbcPKIo5M6Ny",
        "colab_type": "text"
      },
      "cell_type": "markdown",
      "source": [
        "## Prepare - examine other available hypothesis tests\n",
        "\n",
        "If you had to pick a single hypothesis test in your toolbox, t-test would probably be the best choice - but the good news is you don't have to pick just one! Here's some of the others to be aware of:"
      ]
    },
    {
      "metadata": {
        "id": "tlBel8j9M6tB",
        "colab_type": "code",
        "outputId": "c50f6def-d501-44a4-a4ee-468b7aad8d75",
        "colab": {
          "base_uri": "https://localhost:8080/",
          "height": 190
        }
      },
      "cell_type": "code",
      "source": [
        "import numpy as np\n",
        "from scipy.stats import chisquare  # One-way chi square test\n",
        "\n",
        "# Chi square can take any crosstab/table and test the independence of rows/cols\n",
        "# The null hypothesis is that the rows/cols are independent -> low chi square\n",
        "# The alternative is that there is a dependence -> high chi square\n",
        "# Be aware! Chi square does *not* tell you direction/causation\n",
        "\n",
        "ind_obs = np.array([[1, 1], [2, 2]]).T\n",
        "print(ind_obs)\n",
        "print(chisquare(ind_obs, axis=None))\n",
        "\n",
        "dep_obs = np.array([[16, 18, 16, 14, 12, 12], [32, 24, 16, 28, 20, 24]]).T\n",
        "print(dep_obs)\n",
        "print(chisquare(dep_obs, axis=None))"
      ],
      "execution_count": 1,
      "outputs": [
        {
          "output_type": "stream",
          "text": [
            "[[1 2]\n",
            " [1 2]]\n",
            "Power_divergenceResult(statistic=0.6666666666666666, pvalue=0.8810148425137847)\n",
            "[[16 32]\n",
            " [18 24]\n",
            " [16 16]\n",
            " [14 28]\n",
            " [12 20]\n",
            " [12 24]]\n",
            "Power_divergenceResult(statistic=23.31034482758621, pvalue=0.015975692534127565)\n"
          ],
          "name": "stdout"
        }
      ]
    },
    {
      "metadata": {
        "id": "nN0BdNiDPxbk",
        "colab_type": "code",
        "outputId": "54e748fb-b799-41ea-aacf-29dcaf986492",
        "colab": {
          "base_uri": "https://localhost:8080/",
          "height": 34
        }
      },
      "cell_type": "code",
      "source": [
        "# Distribution tests:\n",
        "# We often assume that something is normal, but it can be important to *check*\n",
        "\n",
        "# For example, later on with predictive modeling, a typical assumption is that\n",
        "# residuals (prediction errors) are normal - checking is a good diagnostic\n",
        "\n",
        "from scipy.stats import normaltest\n",
        "# Poisson models arrival times and is related to the binomial (coinflip)\n",
        "sample = np.random.poisson(5, 1000)\n",
        "print(normaltest(sample))  # Pretty clearly not normal"
      ],
      "execution_count": 2,
      "outputs": [
        {
          "output_type": "stream",
          "text": [
            "NormaltestResult(statistic=16.2755340460381, pvalue=0.00029228914500619465)\n"
          ],
          "name": "stdout"
        }
      ]
    },
    {
      "metadata": {
        "id": "P5t0WhkDReFO",
        "colab_type": "code",
        "outputId": "64a5fb88-80c5-49b8-fe7e-ca54b631dfc8",
        "colab": {
          "base_uri": "https://localhost:8080/",
          "height": 52
        }
      },
      "cell_type": "code",
      "source": [
        "# Kruskal-Wallis H-test - compare the median rank between 2+ groups\n",
        "# Can be applied to ranking decisions/outcomes/recommendations\n",
        "# The underlying math comes from chi-square distribution, and is best for n>5\n",
        "from scipy.stats import kruskal\n",
        "\n",
        "x1 = [1, 3, 5, 7, 9]\n",
        "y1 = [2, 4, 6, 8, 10]\n",
        "print(kruskal(x1, y1))  # x1 is a little better, but not \"significantly\" so\n",
        "\n",
        "x2 = [1, 1, 1]\n",
        "y2 = [2, 2, 2]\n",
        "z = [2, 2]  # Hey, a third group, and of different size!\n",
        "print(kruskal(x2, y2, z))  # x clearly dominates"
      ],
      "execution_count": 3,
      "outputs": [
        {
          "output_type": "stream",
          "text": [
            "KruskalResult(statistic=0.2727272727272734, pvalue=0.6015081344405895)\n",
            "KruskalResult(statistic=7.0, pvalue=0.0301973834223185)\n"
          ],
          "name": "stdout"
        }
      ]
    },
    {
      "metadata": {
        "id": "7pT3IP36Rh0b",
        "colab_type": "text"
      },
      "cell_type": "markdown",
      "source": [
        "And there's many more! `scipy.stats` is fairly comprehensive, though there are even more available if you delve into the extended world of statistics packages. As tests get increasingly obscure and specialized, the importance of knowing them by heart becomes small - but being able to look them up and figure them out when they *are* relevant is still important."
      ]
    },
    {
      "metadata": {
        "id": "ena90LZaZJhc",
        "colab_type": "code",
        "outputId": "7f10d42f-3f14-4c01-da05-327e5b0a8c38",
        "colab": {
          "base_uri": "https://localhost:8080/",
          "height": 34
        }
      },
      "cell_type": "code",
      "source": [
        "import random\n",
        "random.seed(100) # Same starting point - 2386, comment out to get different values on start\n",
        "random.randint(0,10000)"
      ],
      "execution_count": 4,
      "outputs": [
        {
          "output_type": "execute_result",
          "data": {
            "text/plain": [
              "2386"
            ]
          },
          "metadata": {
            "tags": []
          },
          "execution_count": 4
        }
      ]
    },
    {
      "metadata": {
        "id": "L1_KRuHCM7BW",
        "colab_type": "text"
      },
      "cell_type": "markdown",
      "source": [
        "## Live Lecture - let's explore some more of scipy.stats"
      ]
    },
    {
      "metadata": {
        "id": "qW6k0dorM7Lz",
        "colab_type": "code",
        "outputId": "fff6eeb2-d550-4247-fedb-4f31ffdb7bf6",
        "colab": {
          "base_uri": "https://localhost:8080/",
          "height": 52
        }
      },
      "cell_type": "code",
      "source": [
        "# Taking requests! Come to lecture with a topic or problem and we'll try it.\n",
        "\n",
        "from scipy import stats\n",
        "b1 = stats.binom(n=100, p=0.6)\n",
        "\n",
        "print (b1.mean())\n",
        "print (b1.median())"
      ],
      "execution_count": 5,
      "outputs": [
        {
          "output_type": "stream",
          "text": [
            "60.0\n",
            "60.0\n"
          ],
          "name": "stdout"
        }
      ]
    },
    {
      "metadata": {
        "id": "58i912M9Z7gJ",
        "colab_type": "code",
        "outputId": "f2f01a4a-1a0f-4c5d-ab50-fa029ed27792",
        "colab": {
          "base_uri": "https://localhost:8080/",
          "height": 52
        }
      },
      "cell_type": "code",
      "source": [
        "chi2 = stats.chi2(5)\n",
        "\n",
        "print(chi2.mean())\n",
        "print(chi2.median())"
      ],
      "execution_count": 6,
      "outputs": [
        {
          "output_type": "stream",
          "text": [
            "5.0\n",
            "4.351460191095526\n"
          ],
          "name": "stdout"
        }
      ]
    },
    {
      "metadata": {
        "id": "11OzdxWTM7UR",
        "colab_type": "text"
      },
      "cell_type": "markdown",
      "source": [
        "## Assignment - Build a confidence interval\n",
        "\n",
        "A confidence interval refers to a neighborhood around some point estimate, the size of which is determined by the desired p-value. For instance, we might say that 52% of Americans prefer tacos to burritos, with a 95% confidence interval of +/- 5%.\n",
        "\n",
        "52% (0.52) is the point estimate, and +/- 5% (the interval $[0.47, 0.57]$) is the confidence interval. \"95% confidence\" means a p-value $\\leq 1 - 0.95 = 0.05$.\n",
        "\n",
        "In this case, the confidence interval includes $0.5$ - which is the natural null hypothesis (that half of Americans prefer tacos and half burritos, thus there is no clear favorite). So in this case, we could use the confidence interval to report that we've failed to reject the null hypothesis.\n",
        "\n",
        "But providing the full analysis with a confidence interval, including a graphical representation of it, can be a helpful and powerful way to tell your story. Done well, it is also more intuitive to a layperson than simply saying \"fail to reject the null hypothesis\" - it shows that in fact the data does *not* give a single clear result (the point estimate) but a whole range of possibilities.\n",
        "\n",
        "How is a confidence interval built, and how should it be interpreted? It does *not* mean that 95% of the data lies in that interval - instead, the frequentist interpretation is \"if we were to repeat this experiment 100 times, we would expect the average result to lie in this interval ~95 times.\"\n",
        "\n",
        "For a 95% confidence interval and a normal(-ish) distribution, you can simply remember that +/-2 standard deviations contains 95% of the probability mass, and so the 95% confidence interval based on a given sample is centered at the mean (point estimate) and has a range of +/- 2 (or technically 1.96) standard deviations.\n",
        "\n",
        "Different distributions/assumptions (90% confidence, 99% confidence) will require different math, but the overall process and interpretation (with a frequentist approach) will be the same.\n",
        "\n",
        "Your assignment - using the data from the prior module ([congressional voting records](https://archive.ics.uci.edu/ml/datasets/Congressional+Voting+Records)):\n",
        "\n",
        "1. Generate and numerically represent a confidence interval\n",
        "2. Graphically (with a plot) represent the confidence interval\n",
        "3. Interpret the confidence interval - what does it tell you about the data and its distribution?\n",
        "\n",
        "Stretch goals:\n",
        "\n",
        "1. Write a summary of your findings, mixing prose and math/code/results. *Note* - yes, this is by definition a political topic. It is challenging but important to keep your writing voice *neutral* and stick to the facts of the data. Data science often involves considering controversial issues, so it's important to be sensitive about them (especially if you want to publish).\n",
        "2. Apply the techniques you learned today to your project data or other data of your choice, and write/discuss your findings here."
      ]
    },
    {
      "metadata": {
        "id": "digxSqwSxL_Z",
        "colab_type": "text"
      },
      "cell_type": "markdown",
      "source": [
        "## FUNCTIONS"
      ]
    },
    {
      "metadata": {
        "id": "Cu-x_abMSxRk",
        "colab_type": "code",
        "colab": {}
      },
      "cell_type": "code",
      "source": [
        "def standard_error_pooled (col1,col2):\n",
        "  len1 = len(col1)\n",
        "  len2 = len(col2)\n",
        "  var1 = col1.var()\n",
        "  var2 = col2.var()\n",
        "  se = np.sqrt((var1/len1) + (var2/len2))\n",
        "  return se\n",
        "\n",
        "# Source: https://stattrek.com/hypothesis-test/difference-in-means.aspx"
      ],
      "execution_count": 0,
      "outputs": []
    },
    {
      "metadata": {
        "id": "_KnAqvd8oSyC",
        "colab_type": "code",
        "colab": {}
      },
      "cell_type": "code",
      "source": [
        "def degrees_freedom_pooled (col1, col2):\n",
        "  len1 = len(col1)\n",
        "  len2 = len(col2)\n",
        "  var1 = col1.var()\n",
        "  var2 = col2.var()\n",
        "  df1 = var1 / len1\n",
        "  df2 = var2 / len2\n",
        "  df = ((df1 + df2)**2) / ((df1**2/(len1 - 1)) + (df2**2/(len2 - 1)))\n",
        "  \n",
        "  return int(df)\n",
        "  \n",
        "  \n",
        "# Source: https://stattrek.com/hypothesis-test/difference-in-means.aspx"
      ],
      "execution_count": 0,
      "outputs": []
    },
    {
      "metadata": {
        "id": "L_TggYvaSxMi",
        "colab_type": "code",
        "colab": {}
      },
      "cell_type": "code",
      "source": [
        "def t_test_2mean(col1, col2, d=0):\n",
        "  mean1 = col1.mean()\n",
        "  mean2 = col2.mean()\n",
        "  t_stat = ((mean1 - mean2) - d) / standard_error_pooled(col1,col2)\n",
        "  return t_stat\n",
        "  "
      ],
      "execution_count": 0,
      "outputs": []
    },
    {
      "metadata": {
        "id": "8V_bRg2xc_KJ",
        "colab_type": "code",
        "outputId": "d15cf677-39c0-4baf-a512-c7aa7c1ab5ee",
        "colab": {
          "base_uri": "https://localhost:8080/",
          "height": 54
        }
      },
      "cell_type": "code",
      "source": [
        "# Confidence intervals!\n",
        "# Similar to hypothesis testing, but centered at sample mean\n",
        "# Better than reporting the \"point estimate\" (sample mean)\n",
        "# Why? Because point estimates aren't always perfect\n",
        "\n",
        "import numpy as np\n",
        "from scipy import stats\n",
        "\n",
        "def confidence_interval(data, confidence=0.95):\n",
        "  \"\"\"\n",
        "  Calculate a confidence interval around a sample mean for given data.\n",
        "  Using t-distribution and two-tailed test, default 95% confidence. \n",
        "  \n",
        "  Arguments:\n",
        "    data - iterable (list or numpy array) of sample observations\n",
        "    confidence - level of confidence for the interval\n",
        "  \n",
        "  Returns:\n",
        "    tuple of (mean, lower bound, upper bound)\n",
        "  \"\"\"\n",
        "  data = np.array(data)\n",
        "  mean = np.mean(data)\n",
        "  n = len(data)\n",
        "  stderr = stats.sem(data)\n",
        "  interval = stderr * stats.t.ppf((1 + confidence) / 2., n - 1)\n",
        "  return (mean, mean - interval, mean + interval)\n",
        "\n",
        "def report_confidence_interval(confidence_interval):\n",
        "  \"\"\"\n",
        "  Return a string with a pretty report of a confidence interval.\n",
        "  \n",
        "  Arguments:\n",
        "    confidence_interval - tuple of (mean, lower bound, upper bound)\n",
        "  \n",
        "  Returns:\n",
        "    None, but prints to screen the report\n",
        "  \"\"\"\n",
        "  #print('Mean: {}'.format(confidence_interval[0]))\n",
        "  #print('Lower bound: {}'.format(confidence_interval[1]))\n",
        "  #print('Upper bound: {}'.format(confidence_interval[2]))\n",
        "  s = \"our mean lies in the interval ]{:.2}, {:.2}[\".format(\n",
        "      confidence_interval[1], confidence_interval[2])\n",
        "  return s\n",
        "\n",
        "\n",
        "'''\n",
        "import numpy as np\n",
        "import scipy.stats\n",
        "\n",
        "\n",
        "def mean_confidence_interval(data, confidence=0.95):\n",
        "    a = 1.0 * np.array(data)\n",
        "    n = len(a)\n",
        "    m, se = np.mean(a), scipy.stats.sem(a)\n",
        "    h = se * scipy.stats.t.ppf((1 + confidence) / 2., n-1)\n",
        "    return m, m-h, m+h\n",
        "\n",
        "'''"
      ],
      "execution_count": 10,
      "outputs": [
        {
          "output_type": "execute_result",
          "data": {
            "text/plain": [
              "'\\nimport numpy as np\\nimport scipy.stats\\n\\n\\ndef mean_confidence_interval(data, confidence=0.95):\\n    a = 1.0 * np.array(data)\\n    n = len(a)\\n    m, se = np.mean(a), scipy.stats.sem(a)\\n    h = se * scipy.stats.t.ppf((1 + confidence) / 2., n-1)\\n    return m, m-h, m+h\\n\\n'"
            ]
          },
          "metadata": {
            "tags": []
          },
          "execution_count": 10
        }
      ]
    },
    {
      "metadata": {
        "id": "QZ7h8cyqxP_W",
        "colab_type": "text"
      },
      "cell_type": "markdown",
      "source": [
        "## DATA-WRANGLING"
      ]
    },
    {
      "metadata": {
        "id": "nstrmCG-Ecyk",
        "colab_type": "code",
        "colab": {}
      },
      "cell_type": "code",
      "source": [
        "import pandas as pd\n",
        "\n",
        "from scipy import stats\n",
        "\n",
        "import numpy as np"
      ],
      "execution_count": 0,
      "outputs": []
    },
    {
      "metadata": {
        "id": "c9lGvlMvLHXZ",
        "colab_type": "code",
        "outputId": "dc695336-a7ae-4a5b-f7e8-efaec725b23b",
        "colab": {
          "base_uri": "https://localhost:8080/",
          "height": 222
        }
      },
      "cell_type": "code",
      "source": [
        "'''   Attribute Information:\n",
        "   1. Class Name: 2 (democrat, republican)\n",
        "   2. handicapped-infants: 2 (y,n)\n",
        "   3. water-project-cost-sharing: 2 (y,n)\n",
        "   4. adoption-of-the-budget-resolution: 2 (y,n)\n",
        "   5. physician-fee-freeze: 2 (y,n)\n",
        "   6. el-salvador-aid: 2 (y,n)\n",
        "   7. religious-groups-in-schools: 2 (y,n)\n",
        "   8. anti-satellite-test-ban: 2 (y,n)\n",
        "   9. aid-to-nicaraguan-contras: 2 (y,n)\n",
        "  10. mx-missile: 2 (y,n)\n",
        "  11. immigration: 2 (y,n)\n",
        "  12. synfuels-corporation-cutback: 2 (y,n)\n",
        "  13. education-spending: 2 (y,n)\n",
        "  14. superfund-right-to-sue: 2 (y,n)\n",
        "  15. crime: 2 (y,n)\n",
        "  16. duty-free-exports: 2 (y,n)\n",
        "  17. export-administration-act-south-africa: 2 (y,n)\n",
        "'''\n",
        "\n",
        "\n",
        "\n",
        "\n",
        "url = 'https://archive.ics.uci.edu/ml/machine-learning-databases/voting-records/house-votes-84.data'\n",
        "\n",
        "headers = ['party', 'hand_infants', 'water_project', 'budget_adoption',\n",
        "           'freeze_physicians', 'el_salvador', 'religion_school', 'satellite_ban',\n",
        "           'contras_aid', 'mx_missile', 'immigration', 'synfuels_cutback',\n",
        "           'education','superfund','crime','duty_free', 'south_africa']\n",
        "\n",
        "df = pd.read_csv(url, names = headers) # Use \"names\", not \"headers\"\n",
        "\n",
        "df.head()"
      ],
      "execution_count": 12,
      "outputs": [
        {
          "output_type": "execute_result",
          "data": {
            "text/html": [
              "<div>\n",
              "<style scoped>\n",
              "    .dataframe tbody tr th:only-of-type {\n",
              "        vertical-align: middle;\n",
              "    }\n",
              "\n",
              "    .dataframe tbody tr th {\n",
              "        vertical-align: top;\n",
              "    }\n",
              "\n",
              "    .dataframe thead th {\n",
              "        text-align: right;\n",
              "    }\n",
              "</style>\n",
              "<table border=\"1\" class=\"dataframe\">\n",
              "  <thead>\n",
              "    <tr style=\"text-align: right;\">\n",
              "      <th></th>\n",
              "      <th>party</th>\n",
              "      <th>hand_infants</th>\n",
              "      <th>water_project</th>\n",
              "      <th>budget_adoption</th>\n",
              "      <th>freeze_physicians</th>\n",
              "      <th>el_salvador</th>\n",
              "      <th>religion_school</th>\n",
              "      <th>satellite_ban</th>\n",
              "      <th>contras_aid</th>\n",
              "      <th>mx_missile</th>\n",
              "      <th>immigration</th>\n",
              "      <th>synfuels_cutback</th>\n",
              "      <th>education</th>\n",
              "      <th>superfund</th>\n",
              "      <th>crime</th>\n",
              "      <th>duty_free</th>\n",
              "      <th>south_africa</th>\n",
              "    </tr>\n",
              "  </thead>\n",
              "  <tbody>\n",
              "    <tr>\n",
              "      <th>0</th>\n",
              "      <td>republican</td>\n",
              "      <td>n</td>\n",
              "      <td>y</td>\n",
              "      <td>n</td>\n",
              "      <td>y</td>\n",
              "      <td>y</td>\n",
              "      <td>y</td>\n",
              "      <td>n</td>\n",
              "      <td>n</td>\n",
              "      <td>n</td>\n",
              "      <td>y</td>\n",
              "      <td>?</td>\n",
              "      <td>y</td>\n",
              "      <td>y</td>\n",
              "      <td>y</td>\n",
              "      <td>n</td>\n",
              "      <td>y</td>\n",
              "    </tr>\n",
              "    <tr>\n",
              "      <th>1</th>\n",
              "      <td>republican</td>\n",
              "      <td>n</td>\n",
              "      <td>y</td>\n",
              "      <td>n</td>\n",
              "      <td>y</td>\n",
              "      <td>y</td>\n",
              "      <td>y</td>\n",
              "      <td>n</td>\n",
              "      <td>n</td>\n",
              "      <td>n</td>\n",
              "      <td>n</td>\n",
              "      <td>n</td>\n",
              "      <td>y</td>\n",
              "      <td>y</td>\n",
              "      <td>y</td>\n",
              "      <td>n</td>\n",
              "      <td>?</td>\n",
              "    </tr>\n",
              "    <tr>\n",
              "      <th>2</th>\n",
              "      <td>democrat</td>\n",
              "      <td>?</td>\n",
              "      <td>y</td>\n",
              "      <td>y</td>\n",
              "      <td>?</td>\n",
              "      <td>y</td>\n",
              "      <td>y</td>\n",
              "      <td>n</td>\n",
              "      <td>n</td>\n",
              "      <td>n</td>\n",
              "      <td>n</td>\n",
              "      <td>y</td>\n",
              "      <td>n</td>\n",
              "      <td>y</td>\n",
              "      <td>y</td>\n",
              "      <td>n</td>\n",
              "      <td>n</td>\n",
              "    </tr>\n",
              "    <tr>\n",
              "      <th>3</th>\n",
              "      <td>democrat</td>\n",
              "      <td>n</td>\n",
              "      <td>y</td>\n",
              "      <td>y</td>\n",
              "      <td>n</td>\n",
              "      <td>?</td>\n",
              "      <td>y</td>\n",
              "      <td>n</td>\n",
              "      <td>n</td>\n",
              "      <td>n</td>\n",
              "      <td>n</td>\n",
              "      <td>y</td>\n",
              "      <td>n</td>\n",
              "      <td>y</td>\n",
              "      <td>n</td>\n",
              "      <td>n</td>\n",
              "      <td>y</td>\n",
              "    </tr>\n",
              "    <tr>\n",
              "      <th>4</th>\n",
              "      <td>democrat</td>\n",
              "      <td>y</td>\n",
              "      <td>y</td>\n",
              "      <td>y</td>\n",
              "      <td>n</td>\n",
              "      <td>y</td>\n",
              "      <td>y</td>\n",
              "      <td>n</td>\n",
              "      <td>n</td>\n",
              "      <td>n</td>\n",
              "      <td>n</td>\n",
              "      <td>y</td>\n",
              "      <td>?</td>\n",
              "      <td>y</td>\n",
              "      <td>y</td>\n",
              "      <td>y</td>\n",
              "      <td>y</td>\n",
              "    </tr>\n",
              "  </tbody>\n",
              "</table>\n",
              "</div>"
            ],
            "text/plain": [
              "        party hand_infants water_project budget_adoption freeze_physicians  \\\n",
              "0  republican            n             y               n                 y   \n",
              "1  republican            n             y               n                 y   \n",
              "2    democrat            ?             y               y                 ?   \n",
              "3    democrat            n             y               y                 n   \n",
              "4    democrat            y             y               y                 n   \n",
              "\n",
              "  el_salvador religion_school satellite_ban contras_aid mx_missile  \\\n",
              "0           y               y             n           n          n   \n",
              "1           y               y             n           n          n   \n",
              "2           y               y             n           n          n   \n",
              "3           ?               y             n           n          n   \n",
              "4           y               y             n           n          n   \n",
              "\n",
              "  immigration synfuels_cutback education superfund crime duty_free  \\\n",
              "0           y                ?         y         y     y         n   \n",
              "1           n                n         y         y     y         n   \n",
              "2           n                y         n         y     y         n   \n",
              "3           n                y         n         y     n         n   \n",
              "4           n                y         ?         y     y         y   \n",
              "\n",
              "  south_africa  \n",
              "0            y  \n",
              "1            ?  \n",
              "2            n  \n",
              "3            y  \n",
              "4            y  "
            ]
          },
          "metadata": {
            "tags": []
          },
          "execution_count": 12
        }
      ]
    },
    {
      "metadata": {
        "id": "kFSLg88BLHTn",
        "colab_type": "code",
        "outputId": "f377c953-0ab6-499b-ee6c-5cf909516743",
        "colab": {
          "base_uri": "https://localhost:8080/",
          "height": 329
        }
      },
      "cell_type": "code",
      "source": [
        "'''   Attribute:  #Missing Values:\n",
        "           1:  0\n",
        "           2:  0\n",
        "           3:  12\n",
        "           4:  48\n",
        "           5:  11\n",
        "           6:  11\n",
        "           7:  15\n",
        "           8:  11\n",
        "           9:  14\n",
        "          10:  15\n",
        "          11:  22\n",
        "          12:  7\n",
        "          13:  21\n",
        "          14:  31\n",
        "          15:  25\n",
        "          16:  17\n",
        "          17:  28\n",
        "           '''\n",
        "\n",
        "df.replace('?', np.nan, inplace = True) # Null values come from replacing ?\n",
        "df.replace('n', 0, inplace = True)\n",
        "df.replace('y', 1, inplace = True)\n",
        "\n",
        "df.isnull().sum()"
      ],
      "execution_count": 13,
      "outputs": [
        {
          "output_type": "execute_result",
          "data": {
            "text/plain": [
              "party                  0\n",
              "hand_infants          12\n",
              "water_project         48\n",
              "budget_adoption       11\n",
              "freeze_physicians     11\n",
              "el_salvador           15\n",
              "religion_school       11\n",
              "satellite_ban         14\n",
              "contras_aid           15\n",
              "mx_missile            22\n",
              "immigration            7\n",
              "synfuels_cutback      21\n",
              "education             31\n",
              "superfund             25\n",
              "crime                 17\n",
              "duty_free             28\n",
              "south_africa         104\n",
              "dtype: int64"
            ]
          },
          "metadata": {
            "tags": []
          },
          "execution_count": 13
        }
      ]
    },
    {
      "metadata": {
        "id": "FuxBqNoXLHRJ",
        "colab_type": "code",
        "outputId": "a21175da-ba3c-4dee-933f-cf09bf654313",
        "colab": {
          "base_uri": "https://localhost:8080/",
          "height": 222
        }
      },
      "cell_type": "code",
      "source": [
        "df.head()"
      ],
      "execution_count": 14,
      "outputs": [
        {
          "output_type": "execute_result",
          "data": {
            "text/html": [
              "<div>\n",
              "<style scoped>\n",
              "    .dataframe tbody tr th:only-of-type {\n",
              "        vertical-align: middle;\n",
              "    }\n",
              "\n",
              "    .dataframe tbody tr th {\n",
              "        vertical-align: top;\n",
              "    }\n",
              "\n",
              "    .dataframe thead th {\n",
              "        text-align: right;\n",
              "    }\n",
              "</style>\n",
              "<table border=\"1\" class=\"dataframe\">\n",
              "  <thead>\n",
              "    <tr style=\"text-align: right;\">\n",
              "      <th></th>\n",
              "      <th>party</th>\n",
              "      <th>hand_infants</th>\n",
              "      <th>water_project</th>\n",
              "      <th>budget_adoption</th>\n",
              "      <th>freeze_physicians</th>\n",
              "      <th>el_salvador</th>\n",
              "      <th>religion_school</th>\n",
              "      <th>satellite_ban</th>\n",
              "      <th>contras_aid</th>\n",
              "      <th>mx_missile</th>\n",
              "      <th>immigration</th>\n",
              "      <th>synfuels_cutback</th>\n",
              "      <th>education</th>\n",
              "      <th>superfund</th>\n",
              "      <th>crime</th>\n",
              "      <th>duty_free</th>\n",
              "      <th>south_africa</th>\n",
              "    </tr>\n",
              "  </thead>\n",
              "  <tbody>\n",
              "    <tr>\n",
              "      <th>0</th>\n",
              "      <td>republican</td>\n",
              "      <td>0.0</td>\n",
              "      <td>1.0</td>\n",
              "      <td>0.0</td>\n",
              "      <td>1.0</td>\n",
              "      <td>1.0</td>\n",
              "      <td>1.0</td>\n",
              "      <td>0.0</td>\n",
              "      <td>0.0</td>\n",
              "      <td>0.0</td>\n",
              "      <td>1.0</td>\n",
              "      <td>NaN</td>\n",
              "      <td>1.0</td>\n",
              "      <td>1.0</td>\n",
              "      <td>1.0</td>\n",
              "      <td>0.0</td>\n",
              "      <td>1.0</td>\n",
              "    </tr>\n",
              "    <tr>\n",
              "      <th>1</th>\n",
              "      <td>republican</td>\n",
              "      <td>0.0</td>\n",
              "      <td>1.0</td>\n",
              "      <td>0.0</td>\n",
              "      <td>1.0</td>\n",
              "      <td>1.0</td>\n",
              "      <td>1.0</td>\n",
              "      <td>0.0</td>\n",
              "      <td>0.0</td>\n",
              "      <td>0.0</td>\n",
              "      <td>0.0</td>\n",
              "      <td>0.0</td>\n",
              "      <td>1.0</td>\n",
              "      <td>1.0</td>\n",
              "      <td>1.0</td>\n",
              "      <td>0.0</td>\n",
              "      <td>NaN</td>\n",
              "    </tr>\n",
              "    <tr>\n",
              "      <th>2</th>\n",
              "      <td>democrat</td>\n",
              "      <td>NaN</td>\n",
              "      <td>1.0</td>\n",
              "      <td>1.0</td>\n",
              "      <td>NaN</td>\n",
              "      <td>1.0</td>\n",
              "      <td>1.0</td>\n",
              "      <td>0.0</td>\n",
              "      <td>0.0</td>\n",
              "      <td>0.0</td>\n",
              "      <td>0.0</td>\n",
              "      <td>1.0</td>\n",
              "      <td>0.0</td>\n",
              "      <td>1.0</td>\n",
              "      <td>1.0</td>\n",
              "      <td>0.0</td>\n",
              "      <td>0.0</td>\n",
              "    </tr>\n",
              "    <tr>\n",
              "      <th>3</th>\n",
              "      <td>democrat</td>\n",
              "      <td>0.0</td>\n",
              "      <td>1.0</td>\n",
              "      <td>1.0</td>\n",
              "      <td>0.0</td>\n",
              "      <td>NaN</td>\n",
              "      <td>1.0</td>\n",
              "      <td>0.0</td>\n",
              "      <td>0.0</td>\n",
              "      <td>0.0</td>\n",
              "      <td>0.0</td>\n",
              "      <td>1.0</td>\n",
              "      <td>0.0</td>\n",
              "      <td>1.0</td>\n",
              "      <td>0.0</td>\n",
              "      <td>0.0</td>\n",
              "      <td>1.0</td>\n",
              "    </tr>\n",
              "    <tr>\n",
              "      <th>4</th>\n",
              "      <td>democrat</td>\n",
              "      <td>1.0</td>\n",
              "      <td>1.0</td>\n",
              "      <td>1.0</td>\n",
              "      <td>0.0</td>\n",
              "      <td>1.0</td>\n",
              "      <td>1.0</td>\n",
              "      <td>0.0</td>\n",
              "      <td>0.0</td>\n",
              "      <td>0.0</td>\n",
              "      <td>0.0</td>\n",
              "      <td>1.0</td>\n",
              "      <td>NaN</td>\n",
              "      <td>1.0</td>\n",
              "      <td>1.0</td>\n",
              "      <td>1.0</td>\n",
              "      <td>1.0</td>\n",
              "    </tr>\n",
              "  </tbody>\n",
              "</table>\n",
              "</div>"
            ],
            "text/plain": [
              "        party  hand_infants  water_project  budget_adoption  \\\n",
              "0  republican           0.0            1.0              0.0   \n",
              "1  republican           0.0            1.0              0.0   \n",
              "2    democrat           NaN            1.0              1.0   \n",
              "3    democrat           0.0            1.0              1.0   \n",
              "4    democrat           1.0            1.0              1.0   \n",
              "\n",
              "   freeze_physicians  el_salvador  religion_school  satellite_ban  \\\n",
              "0                1.0          1.0              1.0            0.0   \n",
              "1                1.0          1.0              1.0            0.0   \n",
              "2                NaN          1.0              1.0            0.0   \n",
              "3                0.0          NaN              1.0            0.0   \n",
              "4                0.0          1.0              1.0            0.0   \n",
              "\n",
              "   contras_aid  mx_missile  immigration  synfuels_cutback  education  \\\n",
              "0          0.0         0.0          1.0               NaN        1.0   \n",
              "1          0.0         0.0          0.0               0.0        1.0   \n",
              "2          0.0         0.0          0.0               1.0        0.0   \n",
              "3          0.0         0.0          0.0               1.0        0.0   \n",
              "4          0.0         0.0          0.0               1.0        NaN   \n",
              "\n",
              "   superfund  crime  duty_free  south_africa  \n",
              "0        1.0    1.0        0.0           1.0  \n",
              "1        1.0    1.0        0.0           NaN  \n",
              "2        1.0    1.0        0.0           0.0  \n",
              "3        1.0    0.0        0.0           1.0  \n",
              "4        1.0    1.0        1.0           1.0  "
            ]
          },
          "metadata": {
            "tags": []
          },
          "execution_count": 14
        }
      ]
    },
    {
      "metadata": {
        "id": "0m70rKszLHPg",
        "colab_type": "code",
        "outputId": "28b50ef9-baee-47b0-b76f-110f85deee30",
        "colab": {
          "base_uri": "https://localhost:8080/",
          "height": 86
        }
      },
      "cell_type": "code",
      "source": [
        "dem_df = df.loc[df['party'] == 'democrat']\n",
        "rep_df = df.loc[df['party'] == 'republican']\n",
        "\n",
        "print(len(dem_df))\n",
        "print(len(rep_df))\n",
        "print(len(dem_df)+len(rep_df))\n",
        "print(len(df))"
      ],
      "execution_count": 15,
      "outputs": [
        {
          "output_type": "stream",
          "text": [
            "267\n",
            "168\n",
            "435\n",
            "435\n"
          ],
          "name": "stdout"
        }
      ]
    },
    {
      "metadata": {
        "id": "dZpfV9oBsxNd",
        "colab_type": "code",
        "outputId": "378b5fb9-6b0c-44a6-d684-c3b1e505e1e6",
        "colab": {
          "base_uri": "https://localhost:8080/",
          "height": 574
        }
      },
      "cell_type": "code",
      "source": [
        "# Uploading data into Pandas\n",
        "\n",
        "header_new = ['hand_infants', 'water_project', 'budget_adoption',\n",
        "           'freeze_physicians', 'el_salvador', 'religion_school', 'satellite_ban',\n",
        "           'contras_aid', 'mx_missile', 'immigration', 'synfuels_cutback',\n",
        "           'education','superfund','crime','duty_free', 'south_africa']\n",
        "\n",
        "issues = []\n",
        "t_critical = 1.96\n",
        "for col in header_new:\n",
        "  dem_mean = 100*dem_df[col].mean()\n",
        "  rep_mean = 100*rep_df[col].mean()\n",
        "  diff = dem_mean - rep_mean\n",
        "  deg = degrees_freedom_pooled(dem_df[col], rep_df[col])\n",
        "  tt = t_test_2mean(dem_df[col], rep_df[col])\n",
        "  pval = 2*(1-stats.t.cdf(np.abs(tt), deg))\n",
        "  se = 100* standard_error_pooled(dem_df[col], rep_df[col])\n",
        "  lower_bound = diff - (t_critical*se)\n",
        "  upper_bound = diff + (t_critical*se)\n",
        "  issues.append({'0_Issue': col, '1_Dem_mean%': dem_mean, '2_Rep_mean%': rep_mean,\n",
        "                 '3_Difference%':diff,'4_T-Stat': tt, '4_P-Value': pval, '5_DF': deg,\n",
        "                '6_LB_95CI': lower_bound, '7_UB_95CI': upper_bound}) # List of dictionaries\n",
        "  \n",
        "print(\"Issues that Democrats favor vs Republicans \\n\")\n",
        "\n",
        "df_new = pd.DataFrame(issues)\n",
        "\n",
        "df_new\n",
        "\n"
      ],
      "execution_count": 16,
      "outputs": [
        {
          "output_type": "stream",
          "text": [
            "Issues that Democrats favor vs Republicans \n",
            "\n"
          ],
          "name": "stdout"
        },
        {
          "output_type": "execute_result",
          "data": {
            "text/html": [
              "<div>\n",
              "<style scoped>\n",
              "    .dataframe tbody tr th:only-of-type {\n",
              "        vertical-align: middle;\n",
              "    }\n",
              "\n",
              "    .dataframe tbody tr th {\n",
              "        vertical-align: top;\n",
              "    }\n",
              "\n",
              "    .dataframe thead th {\n",
              "        text-align: right;\n",
              "    }\n",
              "</style>\n",
              "<table border=\"1\" class=\"dataframe\">\n",
              "  <thead>\n",
              "    <tr style=\"text-align: right;\">\n",
              "      <th></th>\n",
              "      <th>0_Issue</th>\n",
              "      <th>1_Dem_mean%</th>\n",
              "      <th>2_Rep_mean%</th>\n",
              "      <th>3_Difference%</th>\n",
              "      <th>4_P-Value</th>\n",
              "      <th>4_T-Stat</th>\n",
              "      <th>5_DF</th>\n",
              "      <th>6_LB_95CI</th>\n",
              "      <th>7_UB_95CI</th>\n",
              "    </tr>\n",
              "  </thead>\n",
              "  <tbody>\n",
              "    <tr>\n",
              "      <th>0</th>\n",
              "      <td>hand_infants</td>\n",
              "      <td>60.465116</td>\n",
              "      <td>18.787879</td>\n",
              "      <td>41.677237</td>\n",
              "      <td>0.000000e+00</td>\n",
              "      <td>9.789353</td>\n",
              "      <td>408</td>\n",
              "      <td>33.332725</td>\n",
              "      <td>50.021750</td>\n",
              "    </tr>\n",
              "    <tr>\n",
              "      <th>1</th>\n",
              "      <td>water_project</td>\n",
              "      <td>50.209205</td>\n",
              "      <td>50.675676</td>\n",
              "      <td>-0.466471</td>\n",
              "      <td>9.247899e-01</td>\n",
              "      <td>-0.094469</td>\n",
              "      <td>354</td>\n",
              "      <td>-10.144569</td>\n",
              "      <td>9.211628</td>\n",
              "    </tr>\n",
              "    <tr>\n",
              "      <th>2</th>\n",
              "      <td>budget_adoption</td>\n",
              "      <td>88.846154</td>\n",
              "      <td>13.414634</td>\n",
              "      <td>75.431520</td>\n",
              "      <td>0.000000e+00</td>\n",
              "      <td>23.079484</td>\n",
              "      <td>333</td>\n",
              "      <td>69.025580</td>\n",
              "      <td>81.837459</td>\n",
              "    </tr>\n",
              "    <tr>\n",
              "      <th>3</th>\n",
              "      <td>freeze_physicians</td>\n",
              "      <td>5.405405</td>\n",
              "      <td>98.787879</td>\n",
              "      <td>-93.382473</td>\n",
              "      <td>0.000000e+00</td>\n",
              "      <td>-57.477422</td>\n",
              "      <td>410</td>\n",
              "      <td>-96.566848</td>\n",
              "      <td>-90.198099</td>\n",
              "    </tr>\n",
              "    <tr>\n",
              "      <th>4</th>\n",
              "      <td>el_salvador</td>\n",
              "      <td>21.568627</td>\n",
              "      <td>95.151515</td>\n",
              "      <td>-73.582888</td>\n",
              "      <td>0.000000e+00</td>\n",
              "      <td>-24.360977</td>\n",
              "      <td>420</td>\n",
              "      <td>-79.503112</td>\n",
              "      <td>-67.662663</td>\n",
              "    </tr>\n",
              "    <tr>\n",
              "      <th>5</th>\n",
              "      <td>religion_school</td>\n",
              "      <td>47.674419</td>\n",
              "      <td>89.759036</td>\n",
              "      <td>-42.084618</td>\n",
              "      <td>0.000000e+00</td>\n",
              "      <td>-10.908427</td>\n",
              "      <td>432</td>\n",
              "      <td>-49.646281</td>\n",
              "      <td>-34.522955</td>\n",
              "    </tr>\n",
              "    <tr>\n",
              "      <th>6</th>\n",
              "      <td>satellite_ban</td>\n",
              "      <td>77.220077</td>\n",
              "      <td>24.074074</td>\n",
              "      <td>53.146003</td>\n",
              "      <td>0.000000e+00</td>\n",
              "      <td>12.682089</td>\n",
              "      <td>349</td>\n",
              "      <td>44.932359</td>\n",
              "      <td>61.359647</td>\n",
              "    </tr>\n",
              "    <tr>\n",
              "      <th>7</th>\n",
              "      <td>contras_aid</td>\n",
              "      <td>82.889734</td>\n",
              "      <td>15.286624</td>\n",
              "      <td>67.603110</td>\n",
              "      <td>0.000000e+00</td>\n",
              "      <td>18.685329</td>\n",
              "      <td>366</td>\n",
              "      <td>60.511873</td>\n",
              "      <td>74.694347</td>\n",
              "    </tr>\n",
              "    <tr>\n",
              "      <th>8</th>\n",
              "      <td>mx_missile</td>\n",
              "      <td>75.806452</td>\n",
              "      <td>11.515152</td>\n",
              "      <td>64.291300</td>\n",
              "      <td>0.000000e+00</td>\n",
              "      <td>17.832031</td>\n",
              "      <td>420</td>\n",
              "      <td>57.224750</td>\n",
              "      <td>71.357850</td>\n",
              "    </tr>\n",
              "    <tr>\n",
              "      <th>9</th>\n",
              "      <td>immigration</td>\n",
              "      <td>47.148289</td>\n",
              "      <td>55.757576</td>\n",
              "      <td>-8.609287</td>\n",
              "      <td>8.060020e-02</td>\n",
              "      <td>-1.752201</td>\n",
              "      <td>356</td>\n",
              "      <td>-18.239576</td>\n",
              "      <td>1.021003</td>\n",
              "    </tr>\n",
              "    <tr>\n",
              "      <th>10</th>\n",
              "      <td>synfuels_cutback</td>\n",
              "      <td>50.588235</td>\n",
              "      <td>13.207547</td>\n",
              "      <td>37.380688</td>\n",
              "      <td>0.000000e+00</td>\n",
              "      <td>9.268631</td>\n",
              "      <td>430</td>\n",
              "      <td>29.475945</td>\n",
              "      <td>45.285431</td>\n",
              "    </tr>\n",
              "    <tr>\n",
              "      <th>11</th>\n",
              "      <td>education</td>\n",
              "      <td>14.457831</td>\n",
              "      <td>87.096774</td>\n",
              "      <td>-72.638943</td>\n",
              "      <td>0.000000e+00</td>\n",
              "      <td>-21.529276</td>\n",
              "      <td>367</td>\n",
              "      <td>-79.251907</td>\n",
              "      <td>-66.025979</td>\n",
              "    </tr>\n",
              "    <tr>\n",
              "      <th>12</th>\n",
              "      <td>superfund</td>\n",
              "      <td>28.968254</td>\n",
              "      <td>86.075949</td>\n",
              "      <td>-57.107695</td>\n",
              "      <td>0.000000e+00</td>\n",
              "      <td>-14.786188</td>\n",
              "      <td>416</td>\n",
              "      <td>-64.677671</td>\n",
              "      <td>-49.537720</td>\n",
              "    </tr>\n",
              "    <tr>\n",
              "      <th>13</th>\n",
              "      <td>crime</td>\n",
              "      <td>35.019455</td>\n",
              "      <td>98.136646</td>\n",
              "      <td>-63.117191</td>\n",
              "      <td>0.000000e+00</td>\n",
              "      <td>-20.316720</td>\n",
              "      <td>329</td>\n",
              "      <td>-69.206249</td>\n",
              "      <td>-57.028132</td>\n",
              "    </tr>\n",
              "    <tr>\n",
              "      <th>14</th>\n",
              "      <td>duty_free</td>\n",
              "      <td>63.745020</td>\n",
              "      <td>8.974359</td>\n",
              "      <td>54.770661</td>\n",
              "      <td>0.000000e+00</td>\n",
              "      <td>14.860424</td>\n",
              "      <td>431</td>\n",
              "      <td>47.546742</td>\n",
              "      <td>61.994580</td>\n",
              "    </tr>\n",
              "    <tr>\n",
              "      <th>15</th>\n",
              "      <td>south_africa</td>\n",
              "      <td>93.513514</td>\n",
              "      <td>65.753425</td>\n",
              "      <td>27.760089</td>\n",
              "      <td>3.152079e-11</td>\n",
              "      <td>6.988156</td>\n",
              "      <td>224</td>\n",
              "      <td>19.974090</td>\n",
              "      <td>35.546088</td>\n",
              "    </tr>\n",
              "  </tbody>\n",
              "</table>\n",
              "</div>"
            ],
            "text/plain": [
              "              0_Issue  1_Dem_mean%  2_Rep_mean%  3_Difference%     4_P-Value  \\\n",
              "0        hand_infants    60.465116    18.787879      41.677237  0.000000e+00   \n",
              "1       water_project    50.209205    50.675676      -0.466471  9.247899e-01   \n",
              "2     budget_adoption    88.846154    13.414634      75.431520  0.000000e+00   \n",
              "3   freeze_physicians     5.405405    98.787879     -93.382473  0.000000e+00   \n",
              "4         el_salvador    21.568627    95.151515     -73.582888  0.000000e+00   \n",
              "5     religion_school    47.674419    89.759036     -42.084618  0.000000e+00   \n",
              "6       satellite_ban    77.220077    24.074074      53.146003  0.000000e+00   \n",
              "7         contras_aid    82.889734    15.286624      67.603110  0.000000e+00   \n",
              "8          mx_missile    75.806452    11.515152      64.291300  0.000000e+00   \n",
              "9         immigration    47.148289    55.757576      -8.609287  8.060020e-02   \n",
              "10   synfuels_cutback    50.588235    13.207547      37.380688  0.000000e+00   \n",
              "11          education    14.457831    87.096774     -72.638943  0.000000e+00   \n",
              "12          superfund    28.968254    86.075949     -57.107695  0.000000e+00   \n",
              "13              crime    35.019455    98.136646     -63.117191  0.000000e+00   \n",
              "14          duty_free    63.745020     8.974359      54.770661  0.000000e+00   \n",
              "15       south_africa    93.513514    65.753425      27.760089  3.152079e-11   \n",
              "\n",
              "     4_T-Stat  5_DF  6_LB_95CI  7_UB_95CI  \n",
              "0    9.789353   408  33.332725  50.021750  \n",
              "1   -0.094469   354 -10.144569   9.211628  \n",
              "2   23.079484   333  69.025580  81.837459  \n",
              "3  -57.477422   410 -96.566848 -90.198099  \n",
              "4  -24.360977   420 -79.503112 -67.662663  \n",
              "5  -10.908427   432 -49.646281 -34.522955  \n",
              "6   12.682089   349  44.932359  61.359647  \n",
              "7   18.685329   366  60.511873  74.694347  \n",
              "8   17.832031   420  57.224750  71.357850  \n",
              "9   -1.752201   356 -18.239576   1.021003  \n",
              "10   9.268631   430  29.475945  45.285431  \n",
              "11 -21.529276   367 -79.251907 -66.025979  \n",
              "12 -14.786188   416 -64.677671 -49.537720  \n",
              "13 -20.316720   329 -69.206249 -57.028132  \n",
              "14  14.860424   431  47.546742  61.994580  \n",
              "15   6.988156   224  19.974090  35.546088  "
            ]
          },
          "metadata": {
            "tags": []
          },
          "execution_count": 16
        }
      ]
    },
    {
      "metadata": {
        "id": "1qGhnjYmDl62",
        "colab_type": "code",
        "outputId": "fb7161b1-0b84-4610-ab00-cbf1e3eeddaf",
        "colab": {
          "base_uri": "https://localhost:8080/",
          "height": 540
        }
      },
      "cell_type": "code",
      "source": [
        "df_new2 = df_new.sort_values('3_Difference%')\n",
        "\n",
        "df_new2 = df_new2.reset_index(drop=True)\n",
        "\n",
        "# df_new2 = df_new2.set_index('0_Issue')\n",
        "\n",
        "# field = \"Day\"\n",
        "# day_order = [\"Monday\", \"Tuesday\", \"Wednesday\", \"Thursday\", \"Friday\", \"Saturday\", \"Sunday\"]\n",
        "# ax = df.set_index(\"Day\").loc[day_order].plot(kind=\"bar\", legend=False)\n",
        "# ax.set_ylabel(\"Value\")\n",
        "\n",
        "df_new2"
      ],
      "execution_count": 17,
      "outputs": [
        {
          "output_type": "execute_result",
          "data": {
            "text/html": [
              "<div>\n",
              "<style scoped>\n",
              "    .dataframe tbody tr th:only-of-type {\n",
              "        vertical-align: middle;\n",
              "    }\n",
              "\n",
              "    .dataframe tbody tr th {\n",
              "        vertical-align: top;\n",
              "    }\n",
              "\n",
              "    .dataframe thead th {\n",
              "        text-align: right;\n",
              "    }\n",
              "</style>\n",
              "<table border=\"1\" class=\"dataframe\">\n",
              "  <thead>\n",
              "    <tr style=\"text-align: right;\">\n",
              "      <th></th>\n",
              "      <th>0_Issue</th>\n",
              "      <th>1_Dem_mean%</th>\n",
              "      <th>2_Rep_mean%</th>\n",
              "      <th>3_Difference%</th>\n",
              "      <th>4_P-Value</th>\n",
              "      <th>4_T-Stat</th>\n",
              "      <th>5_DF</th>\n",
              "      <th>6_LB_95CI</th>\n",
              "      <th>7_UB_95CI</th>\n",
              "    </tr>\n",
              "  </thead>\n",
              "  <tbody>\n",
              "    <tr>\n",
              "      <th>0</th>\n",
              "      <td>freeze_physicians</td>\n",
              "      <td>5.405405</td>\n",
              "      <td>98.787879</td>\n",
              "      <td>-93.382473</td>\n",
              "      <td>0.000000e+00</td>\n",
              "      <td>-57.477422</td>\n",
              "      <td>410</td>\n",
              "      <td>-96.566848</td>\n",
              "      <td>-90.198099</td>\n",
              "    </tr>\n",
              "    <tr>\n",
              "      <th>1</th>\n",
              "      <td>el_salvador</td>\n",
              "      <td>21.568627</td>\n",
              "      <td>95.151515</td>\n",
              "      <td>-73.582888</td>\n",
              "      <td>0.000000e+00</td>\n",
              "      <td>-24.360977</td>\n",
              "      <td>420</td>\n",
              "      <td>-79.503112</td>\n",
              "      <td>-67.662663</td>\n",
              "    </tr>\n",
              "    <tr>\n",
              "      <th>2</th>\n",
              "      <td>education</td>\n",
              "      <td>14.457831</td>\n",
              "      <td>87.096774</td>\n",
              "      <td>-72.638943</td>\n",
              "      <td>0.000000e+00</td>\n",
              "      <td>-21.529276</td>\n",
              "      <td>367</td>\n",
              "      <td>-79.251907</td>\n",
              "      <td>-66.025979</td>\n",
              "    </tr>\n",
              "    <tr>\n",
              "      <th>3</th>\n",
              "      <td>crime</td>\n",
              "      <td>35.019455</td>\n",
              "      <td>98.136646</td>\n",
              "      <td>-63.117191</td>\n",
              "      <td>0.000000e+00</td>\n",
              "      <td>-20.316720</td>\n",
              "      <td>329</td>\n",
              "      <td>-69.206249</td>\n",
              "      <td>-57.028132</td>\n",
              "    </tr>\n",
              "    <tr>\n",
              "      <th>4</th>\n",
              "      <td>superfund</td>\n",
              "      <td>28.968254</td>\n",
              "      <td>86.075949</td>\n",
              "      <td>-57.107695</td>\n",
              "      <td>0.000000e+00</td>\n",
              "      <td>-14.786188</td>\n",
              "      <td>416</td>\n",
              "      <td>-64.677671</td>\n",
              "      <td>-49.537720</td>\n",
              "    </tr>\n",
              "    <tr>\n",
              "      <th>5</th>\n",
              "      <td>religion_school</td>\n",
              "      <td>47.674419</td>\n",
              "      <td>89.759036</td>\n",
              "      <td>-42.084618</td>\n",
              "      <td>0.000000e+00</td>\n",
              "      <td>-10.908427</td>\n",
              "      <td>432</td>\n",
              "      <td>-49.646281</td>\n",
              "      <td>-34.522955</td>\n",
              "    </tr>\n",
              "    <tr>\n",
              "      <th>6</th>\n",
              "      <td>immigration</td>\n",
              "      <td>47.148289</td>\n",
              "      <td>55.757576</td>\n",
              "      <td>-8.609287</td>\n",
              "      <td>8.060020e-02</td>\n",
              "      <td>-1.752201</td>\n",
              "      <td>356</td>\n",
              "      <td>-18.239576</td>\n",
              "      <td>1.021003</td>\n",
              "    </tr>\n",
              "    <tr>\n",
              "      <th>7</th>\n",
              "      <td>water_project</td>\n",
              "      <td>50.209205</td>\n",
              "      <td>50.675676</td>\n",
              "      <td>-0.466471</td>\n",
              "      <td>9.247899e-01</td>\n",
              "      <td>-0.094469</td>\n",
              "      <td>354</td>\n",
              "      <td>-10.144569</td>\n",
              "      <td>9.211628</td>\n",
              "    </tr>\n",
              "    <tr>\n",
              "      <th>8</th>\n",
              "      <td>south_africa</td>\n",
              "      <td>93.513514</td>\n",
              "      <td>65.753425</td>\n",
              "      <td>27.760089</td>\n",
              "      <td>3.152079e-11</td>\n",
              "      <td>6.988156</td>\n",
              "      <td>224</td>\n",
              "      <td>19.974090</td>\n",
              "      <td>35.546088</td>\n",
              "    </tr>\n",
              "    <tr>\n",
              "      <th>9</th>\n",
              "      <td>synfuels_cutback</td>\n",
              "      <td>50.588235</td>\n",
              "      <td>13.207547</td>\n",
              "      <td>37.380688</td>\n",
              "      <td>0.000000e+00</td>\n",
              "      <td>9.268631</td>\n",
              "      <td>430</td>\n",
              "      <td>29.475945</td>\n",
              "      <td>45.285431</td>\n",
              "    </tr>\n",
              "    <tr>\n",
              "      <th>10</th>\n",
              "      <td>hand_infants</td>\n",
              "      <td>60.465116</td>\n",
              "      <td>18.787879</td>\n",
              "      <td>41.677237</td>\n",
              "      <td>0.000000e+00</td>\n",
              "      <td>9.789353</td>\n",
              "      <td>408</td>\n",
              "      <td>33.332725</td>\n",
              "      <td>50.021750</td>\n",
              "    </tr>\n",
              "    <tr>\n",
              "      <th>11</th>\n",
              "      <td>satellite_ban</td>\n",
              "      <td>77.220077</td>\n",
              "      <td>24.074074</td>\n",
              "      <td>53.146003</td>\n",
              "      <td>0.000000e+00</td>\n",
              "      <td>12.682089</td>\n",
              "      <td>349</td>\n",
              "      <td>44.932359</td>\n",
              "      <td>61.359647</td>\n",
              "    </tr>\n",
              "    <tr>\n",
              "      <th>12</th>\n",
              "      <td>duty_free</td>\n",
              "      <td>63.745020</td>\n",
              "      <td>8.974359</td>\n",
              "      <td>54.770661</td>\n",
              "      <td>0.000000e+00</td>\n",
              "      <td>14.860424</td>\n",
              "      <td>431</td>\n",
              "      <td>47.546742</td>\n",
              "      <td>61.994580</td>\n",
              "    </tr>\n",
              "    <tr>\n",
              "      <th>13</th>\n",
              "      <td>mx_missile</td>\n",
              "      <td>75.806452</td>\n",
              "      <td>11.515152</td>\n",
              "      <td>64.291300</td>\n",
              "      <td>0.000000e+00</td>\n",
              "      <td>17.832031</td>\n",
              "      <td>420</td>\n",
              "      <td>57.224750</td>\n",
              "      <td>71.357850</td>\n",
              "    </tr>\n",
              "    <tr>\n",
              "      <th>14</th>\n",
              "      <td>contras_aid</td>\n",
              "      <td>82.889734</td>\n",
              "      <td>15.286624</td>\n",
              "      <td>67.603110</td>\n",
              "      <td>0.000000e+00</td>\n",
              "      <td>18.685329</td>\n",
              "      <td>366</td>\n",
              "      <td>60.511873</td>\n",
              "      <td>74.694347</td>\n",
              "    </tr>\n",
              "    <tr>\n",
              "      <th>15</th>\n",
              "      <td>budget_adoption</td>\n",
              "      <td>88.846154</td>\n",
              "      <td>13.414634</td>\n",
              "      <td>75.431520</td>\n",
              "      <td>0.000000e+00</td>\n",
              "      <td>23.079484</td>\n",
              "      <td>333</td>\n",
              "      <td>69.025580</td>\n",
              "      <td>81.837459</td>\n",
              "    </tr>\n",
              "  </tbody>\n",
              "</table>\n",
              "</div>"
            ],
            "text/plain": [
              "              0_Issue  1_Dem_mean%  2_Rep_mean%  3_Difference%     4_P-Value  \\\n",
              "0   freeze_physicians     5.405405    98.787879     -93.382473  0.000000e+00   \n",
              "1         el_salvador    21.568627    95.151515     -73.582888  0.000000e+00   \n",
              "2           education    14.457831    87.096774     -72.638943  0.000000e+00   \n",
              "3               crime    35.019455    98.136646     -63.117191  0.000000e+00   \n",
              "4           superfund    28.968254    86.075949     -57.107695  0.000000e+00   \n",
              "5     religion_school    47.674419    89.759036     -42.084618  0.000000e+00   \n",
              "6         immigration    47.148289    55.757576      -8.609287  8.060020e-02   \n",
              "7       water_project    50.209205    50.675676      -0.466471  9.247899e-01   \n",
              "8        south_africa    93.513514    65.753425      27.760089  3.152079e-11   \n",
              "9    synfuels_cutback    50.588235    13.207547      37.380688  0.000000e+00   \n",
              "10       hand_infants    60.465116    18.787879      41.677237  0.000000e+00   \n",
              "11      satellite_ban    77.220077    24.074074      53.146003  0.000000e+00   \n",
              "12          duty_free    63.745020     8.974359      54.770661  0.000000e+00   \n",
              "13         mx_missile    75.806452    11.515152      64.291300  0.000000e+00   \n",
              "14        contras_aid    82.889734    15.286624      67.603110  0.000000e+00   \n",
              "15    budget_adoption    88.846154    13.414634      75.431520  0.000000e+00   \n",
              "\n",
              "     4_T-Stat  5_DF  6_LB_95CI  7_UB_95CI  \n",
              "0  -57.477422   410 -96.566848 -90.198099  \n",
              "1  -24.360977   420 -79.503112 -67.662663  \n",
              "2  -21.529276   367 -79.251907 -66.025979  \n",
              "3  -20.316720   329 -69.206249 -57.028132  \n",
              "4  -14.786188   416 -64.677671 -49.537720  \n",
              "5  -10.908427   432 -49.646281 -34.522955  \n",
              "6   -1.752201   356 -18.239576   1.021003  \n",
              "7   -0.094469   354 -10.144569   9.211628  \n",
              "8    6.988156   224  19.974090  35.546088  \n",
              "9    9.268631   430  29.475945  45.285431  \n",
              "10   9.789353   408  33.332725  50.021750  \n",
              "11  12.682089   349  44.932359  61.359647  \n",
              "12  14.860424   431  47.546742  61.994580  \n",
              "13  17.832031   420  57.224750  71.357850  \n",
              "14  18.685329   366  60.511873  74.694347  \n",
              "15  23.079484   333  69.025580  81.837459  "
            ]
          },
          "metadata": {
            "tags": []
          },
          "execution_count": 17
        }
      ]
    },
    {
      "metadata": {
        "id": "_kkyDak5xB44",
        "colab_type": "text"
      },
      "cell_type": "markdown",
      "source": [
        "## PLOTS"
      ]
    },
    {
      "metadata": {
        "id": "MWoRxoUkr6Ky",
        "colab_type": "code",
        "outputId": "fcaa467e-f71b-467e-aba4-2523e8c70a95",
        "colab": {
          "base_uri": "https://localhost:8080/",
          "height": 422
        }
      },
      "cell_type": "code",
      "source": [
        "import matplotlib.pyplot as plt\n",
        "import matplotlib.style as style\n",
        "\n",
        "style.use(\"fivethirtyeight\") \n",
        "plt.figure(figsize=(20,10));\n",
        "\n",
        "y = df_new['0_Issue']\n",
        "x1 = df_new['2_Rep_mean%']\n",
        "x2 = df_new['1_Dem_mean%']\n",
        "\n",
        "fig, axes = plt.subplots(ncols=2, sharey=True)\n",
        "\n",
        "fig.set_facecolor(\"ivory\");\n",
        "\n",
        "axes[0].set_facecolor(\"cornsilk\")\n",
        "axes[1].set_facecolor(\"white\")\n",
        "\n",
        "x_ticks = [25,50,75, 100]\n",
        "x_ticklabelsR = [\"25\", \"50\",\"75\", \"100% R\"]\n",
        "x_ticklabelsD = [\"25\", \"50\",\"75\", \"100% D\"]\n",
        "axes[0].set_xticks(x_ticks)\n",
        "axes[1].set_xticks(x_ticks)\n",
        "axes[0].set_xticklabels(x_ticklabelsR, color = 'red')\n",
        "axes[1].set_xticklabels(x_ticklabelsD, color = 'blue')\n",
        "\n",
        "axes[0].barh(y, x1, align='center', color='red')\n",
        "axes[1].barh(y, x2, align='center', color='blue')\n",
        "axes[0].invert_xaxis()\n",
        "\n",
        "\n",
        "plt.subplots_adjust(left=.005, bottom=None, right=None, top=None, wspace=0.000001, hspace=3)\n",
        "plt.text(x=-25,y=16.5,s=\"How Each Party Voted\", color = 'black', weight = 'bold')\n",
        "plt.text(x=37,y=-3,s=\"Democrats\", color = 'blue', weight = 'bold')\n",
        "plt.text(x=-64,y=-3,s=\"Republicans\", color = 'red', weight = 'bold')\n",
        "\n",
        "# plt.axvline(x = 0, color = 'black', linewidth = 10, alpha = .75)\n",
        "\n",
        "\n",
        "plt.show()\n",
        "\n",
        "\n",
        "\n"
      ],
      "execution_count": 18,
      "outputs": [
        {
          "output_type": "display_data",
          "data": {
            "text/plain": [
              "<matplotlib.figure.Figure at 0x7f839b54f860>"
            ]
          },
          "metadata": {
            "tags": []
          }
        },
        {
          "output_type": "display_data",
          "data": {
            "image/png": "[encoded data removed]",
            "text/plain": [
              "<matplotlib.figure.Figure at 0x7f839b11c550>"
            ]
          },
          "metadata": {
            "tags": []
          }
        }
      ]
    },
    {
      "metadata": {
        "id": "qpf0TZu_9pvj",
        "colab_type": "code",
        "outputId": "d321897b-1fef-43df-ae07-697360584c4a",
        "colab": {
          "base_uri": "https://localhost:8080/",
          "height": 410
        }
      },
      "cell_type": "code",
      "source": [
        "style.use(\"fivethirtyeight\") \n",
        "\n",
        "fig, ax = plt.subplots()\n",
        "\n",
        "y = [df_new2.index,df_new2.index]\n",
        "x = [df_new2['6_LB_95CI'], df_new2['7_UB_95CI']]\n",
        "\n",
        "\n",
        "plt.title('95% Confidence Intervals for Voting Differences', fontweight='bold')\n",
        "\n",
        "fig.set_facecolor(\"ivory\")\n",
        "\n",
        "ax.set_facecolor(\"white\")\n",
        "\n",
        "y_ticks_ordered = ['freeze_physicians', 'el_salvador', 'education', 'crime',\n",
        "                'superfund', 'religion_school', 'immigration', 'water_project',\n",
        "                'south_africa', 'synfuels_cutback', 'hand_infants', 'satellite_ban',\n",
        "                'duty_free',  'mx_missile', 'contras_aid', 'budget_adoption']  \n",
        "\n",
        "barlist=ax.plot(x,y, linewidth=10, color='blue')\n",
        "barlist[0].set_color('r')\n",
        "barlist[1].set_color('r')\n",
        "barlist[2].set_color('r')\n",
        "barlist[3].set_color('r')\n",
        "barlist[4].set_color('r')\n",
        "barlist[5].set_color('r')\n",
        "barlist[6].set_color('indigo')\n",
        "barlist[7].set_color('indigo')\n",
        "\n",
        "ax.tick_params(axis = y, labelrotation = 0, colors = 'black', size = 12)\n",
        "ax.set_yticks(df_new2.index)\n",
        "ax.set_yticklabels(y_ticks_ordered)\n",
        "\n",
        "ax.set_xticks([-100,-75,-50,-25,0,25,50,75,100])\n",
        "ax.set_xticklabels(['100% R','75','50','25','0','25','50','75','100% D'], color = 'black')\n",
        "\n",
        "plt.axvline(x = 0, color = 'black', linewidth = 10, alpha = .25)\n",
        "plt.text(x=-75,y=-2.5,s=\"Republican Leaning\", color = 'red', weight = 'bold')\n",
        "plt.text(x=25,y=-2.5,s=\"Democrat Leaning\", color = 'blue', weight = 'bold')\n",
        "\n",
        "plt.show()\n",
        "\n"
      ],
      "execution_count": 19,
      "outputs": [
        {
          "output_type": "display_data",
          "data": {
            "image/png": "[encoded data removed]",
            "text/plain": [
              "<matplotlib.figure.Figure at 0x7f839b5acb00>"
            ]
          },
          "metadata": {
            "tags": []
          }
        }
      ]
    },
    {
      "metadata": {
        "id": "w2G_JxaXlVAH",
        "colab_type": "text"
      },
      "cell_type": "markdown",
      "source": [
        "## INTERPRETATION"
      ]
    },
    {
      "metadata": {
        "id": "ZZZgSRirmzB9",
        "colab_type": "text"
      },
      "cell_type": "markdown",
      "source": [
        "A 95% confidence interval is the range in which one can feel confident that the population data resides based on the measurement of the sample data. In the graph above, one can see the various ranges ranked from most heavily Republican leaning voting differential to most heavily Democrat leaning voting differential. The varying widths depending on the issue demonstrate the varying degrees of certainty for these differentials.. For issues that are *significantly* more Republican leaning, the intervals are coded red and for issues that are *significantly* more Democrat leaning, the intervals are coded blue. For those issues that cross 0 (i.e. the differences are not statistically significant), the intervals are coded indigo. "
      ]
    },
    {
      "metadata": {
        "id": "8BeciPLRxVf3",
        "colab_type": "text"
      },
      "cell_type": "markdown",
      "source": [
        "## STRETCH - DRUGS DATA"
      ]
    },
    {
      "metadata": {
        "id": "-EgDUgtLo3dm",
        "colab_type": "text"
      },
      "cell_type": "markdown",
      "source": [
        "### Loading Data"
      ]
    },
    {
      "metadata": {
        "id": "XceVHM1MxXjN",
        "colab_type": "code",
        "outputId": "bf93a0a4-0659-44b5-9818-51ba0ea87b7e",
        "colab": {
          "base_uri": "https://localhost:8080/",
          "height": 208
        }
      },
      "cell_type": "code",
      "source": [
        "!wget http://archive.ics.uci.edu/ml/machine-learning-databases/00462/drugsCom_raw.zip #no url in quotes"
      ],
      "execution_count": 20,
      "outputs": [
        {
          "output_type": "stream",
          "text": [
            "--2018-12-05 15:14:57--  http://archive.ics.uci.edu/ml/machine-learning-databases/00462/drugsCom_raw.zip\n",
            "Resolving archive.ics.uci.edu (archive.ics.uci.edu)... 128.195.10.249\n",
            "Connecting to archive.ics.uci.edu (archive.ics.uci.edu)|128.195.10.249|:80... connected.\n",
            "HTTP request sent, awaiting response... 200 OK\n",
            "Length: 42989872 (41M) [application/zip]\n",
            "Saving to: ‘drugsCom_raw.zip’\n",
            "\n",
            "drugsCom_raw.zip    100%[===================>]  41.00M  11.4MB/s    in 4.5s    \n",
            "\n",
            "2018-12-05 15:15:02 (9.10 MB/s) - ‘drugsCom_raw.zip’ saved [42989872/42989872]\n",
            "\n"
          ],
          "name": "stdout"
        }
      ]
    },
    {
      "metadata": {
        "id": "BGCOtStczXel",
        "colab_type": "code",
        "outputId": "02df8729-6f9d-4fe9-9c47-8bdbe44ff924",
        "colab": {
          "base_uri": "https://localhost:8080/",
          "height": 34
        }
      },
      "cell_type": "code",
      "source": [
        "!ls"
      ],
      "execution_count": 21,
      "outputs": [
        {
          "output_type": "stream",
          "text": [
            "drugsCom_raw.zip  sample_data\n"
          ],
          "name": "stdout"
        }
      ]
    },
    {
      "metadata": {
        "id": "Oez7ktDlzuUX",
        "colab_type": "code",
        "outputId": "14a512fa-ff8c-4b32-fea3-97f095ab69c7",
        "colab": {
          "base_uri": "https://localhost:8080/",
          "height": 69
        }
      },
      "cell_type": "code",
      "source": [
        "!unzip drugsCom_raw.zip"
      ],
      "execution_count": 22,
      "outputs": [
        {
          "output_type": "stream",
          "text": [
            "Archive:  drugsCom_raw.zip\n",
            "  inflating: drugsComTest_raw.tsv    \n",
            "  inflating: drugsComTrain_raw.tsv   \n"
          ],
          "name": "stdout"
        }
      ]
    },
    {
      "metadata": {
        "id": "qH6uAWfJzzPO",
        "colab_type": "code",
        "outputId": "981861cf-c855-4579-d997-3183b39ef4da",
        "colab": {
          "base_uri": "https://localhost:8080/",
          "height": 34
        }
      },
      "cell_type": "code",
      "source": [
        "# df = pd.read_csv('drugsCom_raw.tsv', sep = '\\t', header = 0)\n",
        "\n",
        "df_drugs = pd.read_table('drugsComTrain_raw.tsv')\n",
        "df_drugs.shape"
      ],
      "execution_count": 23,
      "outputs": [
        {
          "output_type": "execute_result",
          "data": {
            "text/plain": [
              "(161297, 7)"
            ]
          },
          "metadata": {
            "tags": []
          },
          "execution_count": 23
        }
      ]
    },
    {
      "metadata": {
        "id": "tm7GcRqentnc",
        "colab_type": "code",
        "outputId": "8134eb19-df8d-436c-ef88-9de4ea5796a7",
        "colab": {
          "base_uri": "https://localhost:8080/",
          "height": 156
        }
      },
      "cell_type": "code",
      "source": [
        "df_drugs.dtypes"
      ],
      "execution_count": 24,
      "outputs": [
        {
          "output_type": "execute_result",
          "data": {
            "text/plain": [
              "Unnamed: 0       int64\n",
              "drugName        object\n",
              "condition       object\n",
              "review          object\n",
              "rating         float64\n",
              "date            object\n",
              "usefulCount      int64\n",
              "dtype: object"
            ]
          },
          "metadata": {
            "tags": []
          },
          "execution_count": 24
        }
      ]
    },
    {
      "metadata": {
        "id": "6PbpqdEgrIwB",
        "colab_type": "text"
      },
      "cell_type": "markdown",
      "source": [
        "### Data Cleanup"
      ]
    },
    {
      "metadata": {
        "id": "dJQ9WKP0oAY_",
        "colab_type": "code",
        "colab": {}
      },
      "cell_type": "code",
      "source": [
        "import datetime as dt\n",
        "\n",
        "df_drugs.date = pd.to_datetime(df_drugs.date)"
      ],
      "execution_count": 0,
      "outputs": []
    },
    {
      "metadata": {
        "id": "gEtZWmP5oAWG",
        "colab_type": "code",
        "outputId": "957b2542-7c4b-4f02-f72b-65062aabc45a",
        "colab": {
          "base_uri": "https://localhost:8080/",
          "height": 69
        }
      },
      "cell_type": "code",
      "source": [
        "print(type(df_drugs.drugName[0]))\n",
        "print(type(df_drugs.condition[0]))\n",
        "print(type(df_drugs.review[0]))"
      ],
      "execution_count": 26,
      "outputs": [
        {
          "output_type": "stream",
          "text": [
            "<class 'str'>\n",
            "<class 'str'>\n",
            "<class 'str'>\n"
          ],
          "name": "stdout"
        }
      ]
    },
    {
      "metadata": {
        "id": "jDQyi6B9oANq",
        "colab_type": "code",
        "outputId": "e2f17196-06e6-49df-c222-09b1ceaf3c1e",
        "colab": {
          "base_uri": "https://localhost:8080/",
          "height": 202
        }
      },
      "cell_type": "code",
      "source": [
        "cols = ['drugName', 'condition', 'review', 'rating', 'date','usefulCount']\n",
        "\n",
        "df_clean = df_drugs[cols]\n",
        "\n",
        "df_clean.head()"
      ],
      "execution_count": 27,
      "outputs": [
        {
          "output_type": "execute_result",
          "data": {
            "text/html": [
              "<div>\n",
              "<style scoped>\n",
              "    .dataframe tbody tr th:only-of-type {\n",
              "        vertical-align: middle;\n",
              "    }\n",
              "\n",
              "    .dataframe tbody tr th {\n",
              "        vertical-align: top;\n",
              "    }\n",
              "\n",
              "    .dataframe thead th {\n",
              "        text-align: right;\n",
              "    }\n",
              "</style>\n",
              "<table border=\"1\" class=\"dataframe\">\n",
              "  <thead>\n",
              "    <tr style=\"text-align: right;\">\n",
              "      <th></th>\n",
              "      <th>drugName</th>\n",
              "      <th>condition</th>\n",
              "      <th>review</th>\n",
              "      <th>rating</th>\n",
              "      <th>date</th>\n",
              "      <th>usefulCount</th>\n",
              "    </tr>\n",
              "  </thead>\n",
              "  <tbody>\n",
              "    <tr>\n",
              "      <th>0</th>\n",
              "      <td>Valsartan</td>\n",
              "      <td>Left Ventricular Dysfunction</td>\n",
              "      <td>\"It has no side effect, I take it in combinati...</td>\n",
              "      <td>9.0</td>\n",
              "      <td>2012-05-20</td>\n",
              "      <td>27</td>\n",
              "    </tr>\n",
              "    <tr>\n",
              "      <th>1</th>\n",
              "      <td>Guanfacine</td>\n",
              "      <td>ADHD</td>\n",
              "      <td>\"My son is halfway through his fourth week of ...</td>\n",
              "      <td>8.0</td>\n",
              "      <td>2010-04-27</td>\n",
              "      <td>192</td>\n",
              "    </tr>\n",
              "    <tr>\n",
              "      <th>2</th>\n",
              "      <td>Lybrel</td>\n",
              "      <td>Birth Control</td>\n",
              "      <td>\"I used to take another oral contraceptive, wh...</td>\n",
              "      <td>5.0</td>\n",
              "      <td>2009-12-14</td>\n",
              "      <td>17</td>\n",
              "    </tr>\n",
              "    <tr>\n",
              "      <th>3</th>\n",
              "      <td>Ortho Evra</td>\n",
              "      <td>Birth Control</td>\n",
              "      <td>\"This is my first time using any form of birth...</td>\n",
              "      <td>8.0</td>\n",
              "      <td>2015-11-03</td>\n",
              "      <td>10</td>\n",
              "    </tr>\n",
              "    <tr>\n",
              "      <th>4</th>\n",
              "      <td>Buprenorphine / naloxone</td>\n",
              "      <td>Opiate Dependence</td>\n",
              "      <td>\"Suboxone has completely turned my life around...</td>\n",
              "      <td>9.0</td>\n",
              "      <td>2016-11-27</td>\n",
              "      <td>37</td>\n",
              "    </tr>\n",
              "  </tbody>\n",
              "</table>\n",
              "</div>"
            ],
            "text/plain": [
              "                   drugName                     condition  \\\n",
              "0                 Valsartan  Left Ventricular Dysfunction   \n",
              "1                Guanfacine                          ADHD   \n",
              "2                    Lybrel                 Birth Control   \n",
              "3                Ortho Evra                 Birth Control   \n",
              "4  Buprenorphine / naloxone             Opiate Dependence   \n",
              "\n",
              "                                              review  rating       date  \\\n",
              "0  \"It has no side effect, I take it in combinati...     9.0 2012-05-20   \n",
              "1  \"My son is halfway through his fourth week of ...     8.0 2010-04-27   \n",
              "2  \"I used to take another oral contraceptive, wh...     5.0 2009-12-14   \n",
              "3  \"This is my first time using any form of birth...     8.0 2015-11-03   \n",
              "4  \"Suboxone has completely turned my life around...     9.0 2016-11-27   \n",
              "\n",
              "   usefulCount  \n",
              "0           27  \n",
              "1          192  \n",
              "2           17  \n",
              "3           10  \n",
              "4           37  "
            ]
          },
          "metadata": {
            "tags": []
          },
          "execution_count": 27
        }
      ]
    },
    {
      "metadata": {
        "id": "lWqSN01koAJR",
        "colab_type": "code",
        "outputId": "0bcd8f05-2364-420e-d357-22d98d57cef1",
        "colab": {
          "base_uri": "https://localhost:8080/",
          "height": 138
        }
      },
      "cell_type": "code",
      "source": [
        "df_clean.dtypes"
      ],
      "execution_count": 28,
      "outputs": [
        {
          "output_type": "execute_result",
          "data": {
            "text/plain": [
              "drugName               object\n",
              "condition              object\n",
              "review                 object\n",
              "rating                float64\n",
              "date           datetime64[ns]\n",
              "usefulCount             int64\n",
              "dtype: object"
            ]
          },
          "metadata": {
            "tags": []
          },
          "execution_count": 28
        }
      ]
    },
    {
      "metadata": {
        "id": "91t9uBB7pwLL",
        "colab_type": "code",
        "outputId": "b20fe116-9532-4465-beb0-2fd74441dff2",
        "colab": {
          "base_uri": "https://localhost:8080/",
          "height": 138
        }
      },
      "cell_type": "code",
      "source": [
        "df_clean.isnull().sum()"
      ],
      "execution_count": 29,
      "outputs": [
        {
          "output_type": "execute_result",
          "data": {
            "text/plain": [
              "drugName         0\n",
              "condition      899\n",
              "review           0\n",
              "rating           0\n",
              "date             0\n",
              "usefulCount      0\n",
              "dtype: int64"
            ]
          },
          "metadata": {
            "tags": []
          },
          "execution_count": 29
        }
      ]
    },
    {
      "metadata": {
        "id": "yU81g4KFpv58",
        "colab_type": "code",
        "outputId": "84fb32b9-3e4b-4d99-adec-82c7fa58086c",
        "colab": {
          "base_uri": "https://localhost:8080/",
          "height": 202
        }
      },
      "cell_type": "code",
      "source": [
        "df_clean.loc[df_clean.condition.isnull()].head()"
      ],
      "execution_count": 30,
      "outputs": [
        {
          "output_type": "execute_result",
          "data": {
            "text/html": [
              "<div>\n",
              "<style scoped>\n",
              "    .dataframe tbody tr th:only-of-type {\n",
              "        vertical-align: middle;\n",
              "    }\n",
              "\n",
              "    .dataframe tbody tr th {\n",
              "        vertical-align: top;\n",
              "    }\n",
              "\n",
              "    .dataframe thead th {\n",
              "        text-align: right;\n",
              "    }\n",
              "</style>\n",
              "<table border=\"1\" class=\"dataframe\">\n",
              "  <thead>\n",
              "    <tr style=\"text-align: right;\">\n",
              "      <th></th>\n",
              "      <th>drugName</th>\n",
              "      <th>condition</th>\n",
              "      <th>review</th>\n",
              "      <th>rating</th>\n",
              "      <th>date</th>\n",
              "      <th>usefulCount</th>\n",
              "    </tr>\n",
              "  </thead>\n",
              "  <tbody>\n",
              "    <tr>\n",
              "      <th>30</th>\n",
              "      <td>Azithromycin</td>\n",
              "      <td>NaN</td>\n",
              "      <td>\"Very good response. It is so useful for me. \"</td>\n",
              "      <td>10.0</td>\n",
              "      <td>2010-08-18</td>\n",
              "      <td>1</td>\n",
              "    </tr>\n",
              "    <tr>\n",
              "      <th>148</th>\n",
              "      <td>Urea</td>\n",
              "      <td>NaN</td>\n",
              "      <td>\"Accurate information.\"</td>\n",
              "      <td>10.0</td>\n",
              "      <td>2011-07-02</td>\n",
              "      <td>13</td>\n",
              "    </tr>\n",
              "    <tr>\n",
              "      <th>488</th>\n",
              "      <td>Doxepin</td>\n",
              "      <td>NaN</td>\n",
              "      <td>\"So far so good. Good for me and I can take it...</td>\n",
              "      <td>10.0</td>\n",
              "      <td>2010-10-20</td>\n",
              "      <td>25</td>\n",
              "    </tr>\n",
              "    <tr>\n",
              "      <th>733</th>\n",
              "      <td>Ethinyl estradiol / norgestimate</td>\n",
              "      <td>NaN</td>\n",
              "      <td>\"I haven&amp;#039;t been on it for a long time and...</td>\n",
              "      <td>8.0</td>\n",
              "      <td>2011-01-24</td>\n",
              "      <td>1</td>\n",
              "    </tr>\n",
              "    <tr>\n",
              "      <th>851</th>\n",
              "      <td>Medroxyprogesterone</td>\n",
              "      <td>NaN</td>\n",
              "      <td>\"I started the shot in July 2015 and ended in ...</td>\n",
              "      <td>6.0</td>\n",
              "      <td>2017-03-23</td>\n",
              "      <td>1</td>\n",
              "    </tr>\n",
              "  </tbody>\n",
              "</table>\n",
              "</div>"
            ],
            "text/plain": [
              "                             drugName condition  \\\n",
              "30                       Azithromycin       NaN   \n",
              "148                              Urea       NaN   \n",
              "488                           Doxepin       NaN   \n",
              "733  Ethinyl estradiol / norgestimate       NaN   \n",
              "851               Medroxyprogesterone       NaN   \n",
              "\n",
              "                                                review  rating       date  \\\n",
              "30      \"Very good response. It is so useful for me. \"    10.0 2010-08-18   \n",
              "148                            \"Accurate information.\"    10.0 2011-07-02   \n",
              "488  \"So far so good. Good for me and I can take it...    10.0 2010-10-20   \n",
              "733  \"I haven&#039;t been on it for a long time and...     8.0 2011-01-24   \n",
              "851  \"I started the shot in July 2015 and ended in ...     6.0 2017-03-23   \n",
              "\n",
              "     usefulCount  \n",
              "30             1  \n",
              "148           13  \n",
              "488           25  \n",
              "733            1  \n",
              "851            1  "
            ]
          },
          "metadata": {
            "tags": []
          },
          "execution_count": 30
        }
      ]
    },
    {
      "metadata": {
        "id": "sm2jTCo5q9W4",
        "colab_type": "text"
      },
      "cell_type": "markdown",
      "source": [
        "### Investigation"
      ]
    },
    {
      "metadata": {
        "id": "dlXLj9o6z_Mz",
        "colab_type": "code",
        "outputId": "0048bbea-1c35-4628-bfb5-a82e49fbc43f",
        "colab": {
          "base_uri": "https://localhost:8080/",
          "height": 69
        }
      },
      "cell_type": "code",
      "source": [
        "drugs = df_clean.groupby('drugName')\n",
        "condition = df_clean.groupby('condition')\n",
        "\n",
        "condition_drug = df_clean.groupby(['condition','drugName'])\n",
        "\n",
        "print (len(drugs.drugName.unique()))               #3436\n",
        "print (len(condition.condition.unique()))          #884\n",
        "\n",
        "print (len(condition_drug))                        #8748"
      ],
      "execution_count": 31,
      "outputs": [
        {
          "output_type": "stream",
          "text": [
            "3436\n",
            "884\n",
            "8748\n"
          ],
          "name": "stdout"
        }
      ]
    },
    {
      "metadata": {
        "id": "XogXQQh4oI4_",
        "colab_type": "code",
        "outputId": "c89d4074-b2c7-4200-bfd5-0abeac2c25fb",
        "colab": {
          "base_uri": "https://localhost:8080/",
          "height": 34
        }
      },
      "cell_type": "code",
      "source": [
        "# Getting rid of Ratings with observations <= 1\n",
        "\n",
        "rating_mean = drugs.rating.mean()[drugs.rating.count() >= 2]\n",
        "rating_std = drugs.rating.std()[drugs.rating.count() >= 2]\n",
        "rating_count = drugs.rating.count()[drugs.rating.count() >= 2]\n",
        "rating_sem = drugs.rating.sem()[drugs.rating.count() >= 2]\n",
        "\n",
        "rating_se = rating_std / np.sqrt(rating_count)\n",
        "\n",
        "rating_se.isnull().sum()\n",
        "\n"
      ],
      "execution_count": 32,
      "outputs": [
        {
          "output_type": "execute_result",
          "data": {
            "text/plain": [
              "0"
            ]
          },
          "metadata": {
            "tags": []
          },
          "execution_count": 32
        }
      ]
    },
    {
      "metadata": {
        "id": "c5UV3HNxgY3V",
        "colab_type": "code",
        "outputId": "3ca86144-b4c6-47ee-ccec-caf5a0c179dd",
        "colab": {
          "base_uri": "https://localhost:8080/",
          "height": 138
        }
      },
      "cell_type": "code",
      "source": [
        "rating_se.head()"
      ],
      "execution_count": 33,
      "outputs": [
        {
          "output_type": "execute_result",
          "data": {
            "text/plain": [
              "drugName\n",
              "Abacavir / dolutegravir / lamivudine    0.345556\n",
              "Abatacept                               0.784585\n",
              "Abilify                                 0.160910\n",
              "Abilify Discmelt                        0.000000\n",
              "Abilify Maintena                        2.250000\n",
              "Name: rating, dtype: float64"
            ]
          },
          "metadata": {
            "tags": []
          },
          "execution_count": 33
        }
      ]
    },
    {
      "metadata": {
        "id": "QEYiPgfPgcGh",
        "colab_type": "code",
        "outputId": "2ace2302-73a3-4e6d-c017-62591d296061",
        "colab": {
          "base_uri": "https://localhost:8080/",
          "height": 138
        }
      },
      "cell_type": "code",
      "source": [
        "rating_sem.head() # Standard Error calculated the same as how I calculated it"
      ],
      "execution_count": 34,
      "outputs": [
        {
          "output_type": "execute_result",
          "data": {
            "text/plain": [
              "drugName\n",
              "Abacavir / dolutegravir / lamivudine    0.345556\n",
              "Abatacept                               0.784585\n",
              "Abilify                                 0.160910\n",
              "Abilify Discmelt                        0.000000\n",
              "Abilify Maintena                        2.250000\n",
              "Name: rating, dtype: float64"
            ]
          },
          "metadata": {
            "tags": []
          },
          "execution_count": 34
        }
      ]
    },
    {
      "metadata": {
        "id": "IC2rw6fyg9Fj",
        "colab_type": "code",
        "colab": {}
      },
      "cell_type": "code",
      "source": [
        "rating_mean1 = drugs.rating.mean()\n",
        "rating_sem1 = drugs.rating.sem()"
      ],
      "execution_count": 0,
      "outputs": []
    },
    {
      "metadata": {
        "id": "3ZfgUZ0gprOy",
        "colab_type": "code",
        "outputId": "fa685d2f-45c1-4d1f-ed32-694bbfc4ef21",
        "colab": {
          "base_uri": "https://localhost:8080/",
          "height": 86
        }
      },
      "cell_type": "code",
      "source": [
        "ratings_lower_bound1 = rating_mean1 - 1.96 * rating_sem1\n",
        "ratings_upper_bound1 = rating_mean1 + 1.96 * rating_sem1\n",
        "\n",
        "# interval = stderr * stats.t.ppf((1 + 0.95) / 2., n - 1)\n",
        "#   return (mean, mean - interval, mean + interval)\n",
        "\n",
        "\n",
        "print(len(rating_mean1))\n",
        "# print(len(rating_std))\n",
        "# print(len(rating_count))\n",
        "print(len(rating_sem1))\n",
        "print(len(ratings_lower_bound1))\n",
        "print(len(ratings_upper_bound1))\n",
        "\n"
      ],
      "execution_count": 36,
      "outputs": [
        {
          "output_type": "stream",
          "text": [
            "3436\n",
            "3436\n",
            "3436\n",
            "3436\n"
          ],
          "name": "stdout"
        }
      ]
    },
    {
      "metadata": {
        "id": "bfHKzrR8xJE1",
        "colab_type": "code",
        "outputId": "713683fb-e313-46f0-9047-46c97fc50866",
        "colab": {
          "base_uri": "https://localhost:8080/",
          "height": 202
        }
      },
      "cell_type": "code",
      "source": [
        "rating_stats1 = pd.concat([rating_mean1, ratings_lower_bound1], axis=1, ignore_index=True) #Merge alongside columns\n",
        "rating_stats1 = pd.concat([rating_stats1, ratings_upper_bound1], axis=1, ignore_index=True)\n",
        "\n",
        "# rating_stats.rename(index=str, columns={\"0\": \"Mean\", \"1\": \"Lower_Bound\", \"2\":\"Upper_Bound\"}, inplace = True)\n",
        "\n",
        "rating_stats1.columns = [\"Mean\", \"Lower_Bound_95%CI\", \"Upper_Bound_95%CI\"]\n",
        "\n",
        "rating_stats1.reset_index(inplace=True)\n",
        "\n",
        "rating_stats1.head()"
      ],
      "execution_count": 37,
      "outputs": [
        {
          "output_type": "execute_result",
          "data": {
            "text/html": [
              "<div>\n",
              "<style scoped>\n",
              "    .dataframe tbody tr th:only-of-type {\n",
              "        vertical-align: middle;\n",
              "    }\n",
              "\n",
              "    .dataframe tbody tr th {\n",
              "        vertical-align: top;\n",
              "    }\n",
              "\n",
              "    .dataframe thead th {\n",
              "        text-align: right;\n",
              "    }\n",
              "</style>\n",
              "<table border=\"1\" class=\"dataframe\">\n",
              "  <thead>\n",
              "    <tr style=\"text-align: right;\">\n",
              "      <th></th>\n",
              "      <th>drugName</th>\n",
              "      <th>Mean</th>\n",
              "      <th>Lower_Bound_95%CI</th>\n",
              "      <th>Upper_Bound_95%CI</th>\n",
              "    </tr>\n",
              "  </thead>\n",
              "  <tbody>\n",
              "    <tr>\n",
              "      <th>0</th>\n",
              "      <td>A + D Cracked Skin Relief</td>\n",
              "      <td>10.000000</td>\n",
              "      <td>NaN</td>\n",
              "      <td>NaN</td>\n",
              "    </tr>\n",
              "    <tr>\n",
              "      <th>1</th>\n",
              "      <td>A / B Otic</td>\n",
              "      <td>10.000000</td>\n",
              "      <td>NaN</td>\n",
              "      <td>NaN</td>\n",
              "    </tr>\n",
              "    <tr>\n",
              "      <th>2</th>\n",
              "      <td>Abacavir / dolutegravir / lamivudine</td>\n",
              "      <td>8.211538</td>\n",
              "      <td>7.534248</td>\n",
              "      <td>8.888829</td>\n",
              "    </tr>\n",
              "    <tr>\n",
              "      <th>3</th>\n",
              "      <td>Abacavir / lamivudine / zidovudine</td>\n",
              "      <td>9.000000</td>\n",
              "      <td>NaN</td>\n",
              "      <td>NaN</td>\n",
              "    </tr>\n",
              "    <tr>\n",
              "      <th>4</th>\n",
              "      <td>Abatacept</td>\n",
              "      <td>7.157895</td>\n",
              "      <td>5.620108</td>\n",
              "      <td>8.695682</td>\n",
              "    </tr>\n",
              "  </tbody>\n",
              "</table>\n",
              "</div>"
            ],
            "text/plain": [
              "                               drugName       Mean  Lower_Bound_95%CI  \\\n",
              "0             A + D Cracked Skin Relief  10.000000                NaN   \n",
              "1                            A / B Otic  10.000000                NaN   \n",
              "2  Abacavir / dolutegravir / lamivudine   8.211538           7.534248   \n",
              "3    Abacavir / lamivudine / zidovudine   9.000000                NaN   \n",
              "4                             Abatacept   7.157895           5.620108   \n",
              "\n",
              "   Upper_Bound_95%CI  \n",
              "0                NaN  \n",
              "1                NaN  \n",
              "2           8.888829  \n",
              "3                NaN  \n",
              "4           8.695682  "
            ]
          },
          "metadata": {
            "tags": []
          },
          "execution_count": 37
        }
      ]
    },
    {
      "metadata": {
        "id": "t41O16wrhhqF",
        "colab_type": "text"
      },
      "cell_type": "markdown",
      "source": [
        "**While one is able to get a computed answer for the upper and lower bound for observations, the result is NaN as one is unable to run statistics on a single rating point. One will run this code again for ratings in which there are at least 3 observations (2 observations results in the lower bound = upper bound) **"
      ]
    },
    {
      "metadata": {
        "id": "5_07POZvnTWE",
        "colab_type": "code",
        "outputId": "c780c9fe-0bed-4331-b2ff-5516f2e65f47",
        "colab": {
          "base_uri": "https://localhost:8080/",
          "height": 34
        }
      },
      "cell_type": "code",
      "source": [
        "rating_count = df_clean.groupby(['drugName'])['rating'].count()\n",
        "\n",
        "rating_count3 = rating_count[rating_count >= 3]\n",
        "\n",
        "len(rating_count3)"
      ],
      "execution_count": 38,
      "outputs": [
        {
          "output_type": "execute_result",
          "data": {
            "text/plain": [
              "2231"
            ]
          },
          "metadata": {
            "tags": []
          },
          "execution_count": 38
        }
      ]
    },
    {
      "metadata": {
        "colab_type": "code",
        "outputId": "49d29932-d8ec-480e-9f50-9199c4c92625",
        "id": "Llp1JJ5Gi9OO",
        "colab": {
          "base_uri": "https://localhost:8080/",
          "height": 34
        }
      },
      "cell_type": "code",
      "source": [
        "# Getting rid of Ratings with observations <= 2\n",
        "\n",
        "rating_mean = drugs.rating.mean()[drugs.rating.count() >= 3]\n",
        "rating_std = drugs.rating.std()[drugs.rating.count() >= 3]\n",
        "rating_count = drugs.rating.count()[drugs.rating.count() >= 3]\n",
        "rating_sem = drugs.rating.sem()[drugs.rating.count() >= 3]\n",
        "\n",
        "rating_se = rating_std / np.sqrt(rating_count)\n",
        "\n",
        "rating_se.isnull().sum()\n",
        "\n"
      ],
      "execution_count": 39,
      "outputs": [
        {
          "output_type": "execute_result",
          "data": {
            "text/plain": [
              "0"
            ]
          },
          "metadata": {
            "tags": []
          },
          "execution_count": 39
        }
      ]
    },
    {
      "metadata": {
        "colab_type": "code",
        "outputId": "2d3697d9-327c-4322-8bbf-abdd133499b2",
        "id": "KjL78QALjKGC",
        "colab": {
          "base_uri": "https://localhost:8080/",
          "height": 86
        }
      },
      "cell_type": "code",
      "source": [
        "ratings_lower_bound = rating_mean - 1.96 * rating_sem\n",
        "ratings_upper_bound = rating_mean + 1.96 * rating_sem\n",
        "\n",
        "# interval = stderr * stats.t.ppf((1 + 0.95) / 2., n - 1)\n",
        "#   return (mean, mean - interval, mean + interval)\n",
        "\n",
        "\n",
        "print(len(rating_mean))\n",
        "print(len(rating_sem))\n",
        "print(len(ratings_lower_bound))\n",
        "print(len(ratings_upper_bound))\n",
        "\n"
      ],
      "execution_count": 40,
      "outputs": [
        {
          "output_type": "stream",
          "text": [
            "2231\n",
            "2231\n",
            "2231\n",
            "2231\n"
          ],
          "name": "stdout"
        }
      ]
    },
    {
      "metadata": {
        "colab_type": "code",
        "outputId": "56c9af8f-d30d-4169-9ae8-f8d0c3cc4926",
        "id": "Jp0knCkFjKGH",
        "colab": {
          "base_uri": "https://localhost:8080/",
          "height": 202
        }
      },
      "cell_type": "code",
      "source": [
        "rating_stats = pd.concat([rating_mean, ratings_lower_bound], axis=1, ignore_index=True) #Merge alongside columns\n",
        "rating_stats = pd.concat([rating_stats, ratings_upper_bound], axis=1, ignore_index=True)\n",
        "\n",
        "# rating_stats.rename(index=str, columns={\"0\": \"Mean\", \"1\": \"Lower_Bound\", \"2\":\"Upper_Bound\"}, inplace = True)\n",
        "\n",
        "rating_stats.columns = [\"Mean\", \"Lower_Bound_95%CI\", \"Upper_Bound_95%CI\"]\n",
        "\n",
        "rating_stats.reset_index(inplace=True)\n",
        "\n",
        "rating_stats.head()"
      ],
      "execution_count": 50,
      "outputs": [
        {
          "output_type": "execute_result",
          "data": {
            "text/html": [
              "<div>\n",
              "<style scoped>\n",
              "    .dataframe tbody tr th:only-of-type {\n",
              "        vertical-align: middle;\n",
              "    }\n",
              "\n",
              "    .dataframe tbody tr th {\n",
              "        vertical-align: top;\n",
              "    }\n",
              "\n",
              "    .dataframe thead th {\n",
              "        text-align: right;\n",
              "    }\n",
              "</style>\n",
              "<table border=\"1\" class=\"dataframe\">\n",
              "  <thead>\n",
              "    <tr style=\"text-align: right;\">\n",
              "      <th></th>\n",
              "      <th>drugName</th>\n",
              "      <th>Mean</th>\n",
              "      <th>Lower_Bound_95%CI</th>\n",
              "      <th>Upper_Bound_95%CI</th>\n",
              "    </tr>\n",
              "  </thead>\n",
              "  <tbody>\n",
              "    <tr>\n",
              "      <th>0</th>\n",
              "      <td>Abacavir / dolutegravir / lamivudine</td>\n",
              "      <td>8.211538</td>\n",
              "      <td>7.534248</td>\n",
              "      <td>8.888829</td>\n",
              "    </tr>\n",
              "    <tr>\n",
              "      <th>1</th>\n",
              "      <td>Abatacept</td>\n",
              "      <td>7.157895</td>\n",
              "      <td>5.620108</td>\n",
              "      <td>8.695682</td>\n",
              "    </tr>\n",
              "    <tr>\n",
              "      <th>2</th>\n",
              "      <td>Abilify</td>\n",
              "      <td>6.540359</td>\n",
              "      <td>6.224976</td>\n",
              "      <td>6.855742</td>\n",
              "    </tr>\n",
              "    <tr>\n",
              "      <th>3</th>\n",
              "      <td>Abilify Maintena</td>\n",
              "      <td>7.750000</td>\n",
              "      <td>3.340000</td>\n",
              "      <td>12.160000</td>\n",
              "    </tr>\n",
              "    <tr>\n",
              "      <th>4</th>\n",
              "      <td>Abiraterone</td>\n",
              "      <td>9.111111</td>\n",
              "      <td>7.827330</td>\n",
              "      <td>10.394892</td>\n",
              "    </tr>\n",
              "  </tbody>\n",
              "</table>\n",
              "</div>"
            ],
            "text/plain": [
              "                               drugName      Mean  Lower_Bound_95%CI  \\\n",
              "0  Abacavir / dolutegravir / lamivudine  8.211538           7.534248   \n",
              "1                             Abatacept  7.157895           5.620108   \n",
              "2                               Abilify  6.540359           6.224976   \n",
              "3                      Abilify Maintena  7.750000           3.340000   \n",
              "4                           Abiraterone  9.111111           7.827330   \n",
              "\n",
              "   Upper_Bound_95%CI  \n",
              "0           8.888829  \n",
              "1           8.695682  \n",
              "2           6.855742  \n",
              "3          12.160000  \n",
              "4          10.394892  "
            ]
          },
          "metadata": {
            "tags": []
          },
          "execution_count": 50
        }
      ]
    },
    {
      "metadata": {
        "id": "hIbeISYOwUAn",
        "colab_type": "code",
        "colab": {
          "base_uri": "https://localhost:8080/",
          "height": 220
        },
        "outputId": "270dc857-fbb9-48a4-d799-ffeb46dfc862"
      },
      "cell_type": "code",
      "source": [
        "rating_stats = rating_stats[(rating_stats['Upper_Bound_95%CI'] - rating_stats['Lower_Bound_95%CI']) > 0]\n",
        "\n",
        "print(len(rating_stats))\n",
        "\n",
        "rating_stats.head()"
      ],
      "execution_count": 55,
      "outputs": [
        {
          "output_type": "stream",
          "text": [
            "2182\n"
          ],
          "name": "stdout"
        },
        {
          "output_type": "execute_result",
          "data": {
            "text/html": [
              "<div>\n",
              "<style scoped>\n",
              "    .dataframe tbody tr th:only-of-type {\n",
              "        vertical-align: middle;\n",
              "    }\n",
              "\n",
              "    .dataframe tbody tr th {\n",
              "        vertical-align: top;\n",
              "    }\n",
              "\n",
              "    .dataframe thead th {\n",
              "        text-align: right;\n",
              "    }\n",
              "</style>\n",
              "<table border=\"1\" class=\"dataframe\">\n",
              "  <thead>\n",
              "    <tr style=\"text-align: right;\">\n",
              "      <th></th>\n",
              "      <th>drugName</th>\n",
              "      <th>Mean</th>\n",
              "      <th>Lower_Bound_95%CI</th>\n",
              "      <th>Upper_Bound_95%CI</th>\n",
              "    </tr>\n",
              "  </thead>\n",
              "  <tbody>\n",
              "    <tr>\n",
              "      <th>0</th>\n",
              "      <td>Abacavir / dolutegravir / lamivudine</td>\n",
              "      <td>8.211538</td>\n",
              "      <td>7.534248</td>\n",
              "      <td>8.888829</td>\n",
              "    </tr>\n",
              "    <tr>\n",
              "      <th>1</th>\n",
              "      <td>Abatacept</td>\n",
              "      <td>7.157895</td>\n",
              "      <td>5.620108</td>\n",
              "      <td>8.695682</td>\n",
              "    </tr>\n",
              "    <tr>\n",
              "      <th>2</th>\n",
              "      <td>Abilify</td>\n",
              "      <td>6.540359</td>\n",
              "      <td>6.224976</td>\n",
              "      <td>6.855742</td>\n",
              "    </tr>\n",
              "    <tr>\n",
              "      <th>3</th>\n",
              "      <td>Abilify Maintena</td>\n",
              "      <td>7.750000</td>\n",
              "      <td>3.340000</td>\n",
              "      <td>12.160000</td>\n",
              "    </tr>\n",
              "    <tr>\n",
              "      <th>4</th>\n",
              "      <td>Abiraterone</td>\n",
              "      <td>9.111111</td>\n",
              "      <td>7.827330</td>\n",
              "      <td>10.394892</td>\n",
              "    </tr>\n",
              "  </tbody>\n",
              "</table>\n",
              "</div>"
            ],
            "text/plain": [
              "                               drugName      Mean  Lower_Bound_95%CI  \\\n",
              "0  Abacavir / dolutegravir / lamivudine  8.211538           7.534248   \n",
              "1                             Abatacept  7.157895           5.620108   \n",
              "2                               Abilify  6.540359           6.224976   \n",
              "3                      Abilify Maintena  7.750000           3.340000   \n",
              "4                           Abiraterone  9.111111           7.827330   \n",
              "\n",
              "   Upper_Bound_95%CI  \n",
              "0           8.888829  \n",
              "1           8.695682  \n",
              "2           6.855742  \n",
              "3          12.160000  \n",
              "4          10.394892  "
            ]
          },
          "metadata": {
            "tags": []
          },
          "execution_count": 55
        }
      ]
    },
    {
      "metadata": {
        "id": "HUuYJ8UzUfWU",
        "colab_type": "text"
      },
      "cell_type": "markdown",
      "source": [
        "**Rather than investigate all of the drugs, I picked the top ten and bottom ten drugs based on rating.**"
      ]
    },
    {
      "metadata": {
        "id": "VyoUuxfBxI_v",
        "colab_type": "code",
        "colab": {
          "base_uri": "https://localhost:8080/",
          "height": 356
        },
        "outputId": "d68094ed-c73d-4e22-a6e2-762e9dc3db32"
      },
      "cell_type": "code",
      "source": [
        "top_ten = rating_stats.sort_values(by='Mean', ascending = True).head(10)\n",
        "bottom_ten = rating_stats.sort_values(by='Mean', ascending = True).tail(10)\n",
        "top_ten"
      ],
      "execution_count": 70,
      "outputs": [
        {
          "output_type": "execute_result",
          "data": {
            "text/html": [
              "<div>\n",
              "<style scoped>\n",
              "    .dataframe tbody tr th:only-of-type {\n",
              "        vertical-align: middle;\n",
              "    }\n",
              "\n",
              "    .dataframe tbody tr th {\n",
              "        vertical-align: top;\n",
              "    }\n",
              "\n",
              "    .dataframe thead th {\n",
              "        text-align: right;\n",
              "    }\n",
              "</style>\n",
              "<table border=\"1\" class=\"dataframe\">\n",
              "  <thead>\n",
              "    <tr style=\"text-align: right;\">\n",
              "      <th></th>\n",
              "      <th>drugName</th>\n",
              "      <th>Mean</th>\n",
              "      <th>Lower_Bound_95%CI</th>\n",
              "      <th>Upper_Bound_95%CI</th>\n",
              "    </tr>\n",
              "  </thead>\n",
              "  <tbody>\n",
              "    <tr>\n",
              "      <th>1630</th>\n",
              "      <td>ProAir RespiClick</td>\n",
              "      <td>1.193548</td>\n",
              "      <td>1.025474</td>\n",
              "      <td>1.361623</td>\n",
              "    </tr>\n",
              "    <tr>\n",
              "      <th>316</th>\n",
              "      <td>Brompheniramine / dextromethorphan / phenyleph...</td>\n",
              "      <td>1.250000</td>\n",
              "      <td>0.760000</td>\n",
              "      <td>1.740000</td>\n",
              "    </tr>\n",
              "    <tr>\n",
              "      <th>1331</th>\n",
              "      <td>Monistat 1-Day or Night Combination Pack</td>\n",
              "      <td>1.416667</td>\n",
              "      <td>1.038394</td>\n",
              "      <td>1.794939</td>\n",
              "    </tr>\n",
              "    <tr>\n",
              "      <th>1107</th>\n",
              "      <td>Lamisil AT</td>\n",
              "      <td>1.500000</td>\n",
              "      <td>0.520000</td>\n",
              "      <td>2.480000</td>\n",
              "    </tr>\n",
              "    <tr>\n",
              "      <th>976</th>\n",
              "      <td>Hydroquinone</td>\n",
              "      <td>1.750000</td>\n",
              "      <td>0.811721</td>\n",
              "      <td>2.688279</td>\n",
              "    </tr>\n",
              "    <tr>\n",
              "      <th>91</th>\n",
              "      <td>Allegra Allergy</td>\n",
              "      <td>1.800000</td>\n",
              "      <td>0.232000</td>\n",
              "      <td>3.368000</td>\n",
              "    </tr>\n",
              "    <tr>\n",
              "      <th>2055</th>\n",
              "      <td>Umeclidinium</td>\n",
              "      <td>2.000000</td>\n",
              "      <td>0.868393</td>\n",
              "      <td>3.131607</td>\n",
              "    </tr>\n",
              "    <tr>\n",
              "      <th>1902</th>\n",
              "      <td>Systane</td>\n",
              "      <td>2.125000</td>\n",
              "      <td>-0.080000</td>\n",
              "      <td>4.330000</td>\n",
              "    </tr>\n",
              "    <tr>\n",
              "      <th>804</th>\n",
              "      <td>Factive</td>\n",
              "      <td>2.250000</td>\n",
              "      <td>-0.200000</td>\n",
              "      <td>4.700000</td>\n",
              "    </tr>\n",
              "    <tr>\n",
              "      <th>728</th>\n",
              "      <td>Enskyce</td>\n",
              "      <td>2.250000</td>\n",
              "      <td>-0.200000</td>\n",
              "      <td>4.700000</td>\n",
              "    </tr>\n",
              "  </tbody>\n",
              "</table>\n",
              "</div>"
            ],
            "text/plain": [
              "                                               drugName      Mean  \\\n",
              "1630                                  ProAir RespiClick  1.193548   \n",
              "316   Brompheniramine / dextromethorphan / phenyleph...  1.250000   \n",
              "1331           Monistat 1-Day or Night Combination Pack  1.416667   \n",
              "1107                                         Lamisil AT  1.500000   \n",
              "976                                        Hydroquinone  1.750000   \n",
              "91                                      Allegra Allergy  1.800000   \n",
              "2055                                       Umeclidinium  2.000000   \n",
              "1902                                            Systane  2.125000   \n",
              "804                                             Factive  2.250000   \n",
              "728                                             Enskyce  2.250000   \n",
              "\n",
              "      Lower_Bound_95%CI  Upper_Bound_95%CI  \n",
              "1630           1.025474           1.361623  \n",
              "316            0.760000           1.740000  \n",
              "1331           1.038394           1.794939  \n",
              "1107           0.520000           2.480000  \n",
              "976            0.811721           2.688279  \n",
              "91             0.232000           3.368000  \n",
              "2055           0.868393           3.131607  \n",
              "1902          -0.080000           4.330000  \n",
              "804           -0.200000           4.700000  \n",
              "728           -0.200000           4.700000  "
            ]
          },
          "metadata": {
            "tags": []
          },
          "execution_count": 70
        }
      ]
    },
    {
      "metadata": {
        "id": "444-GThoxI7q",
        "colab_type": "code",
        "colab": {
          "base_uri": "https://localhost:8080/",
          "height": 356
        },
        "outputId": "ef43a0e6-d534-4712-c251-eb023cd53caa"
      },
      "cell_type": "code",
      "source": [
        "bottom_ten"
      ],
      "execution_count": 71,
      "outputs": [
        {
          "output_type": "execute_result",
          "data": {
            "text/html": [
              "<div>\n",
              "<style scoped>\n",
              "    .dataframe tbody tr th:only-of-type {\n",
              "        vertical-align: middle;\n",
              "    }\n",
              "\n",
              "    .dataframe tbody tr th {\n",
              "        vertical-align: top;\n",
              "    }\n",
              "\n",
              "    .dataframe thead th {\n",
              "        text-align: right;\n",
              "    }\n",
              "</style>\n",
              "<table border=\"1\" class=\"dataframe\">\n",
              "  <thead>\n",
              "    <tr style=\"text-align: right;\">\n",
              "      <th></th>\n",
              "      <th>drugName</th>\n",
              "      <th>Mean</th>\n",
              "      <th>Lower_Bound_95%CI</th>\n",
              "      <th>Upper_Bound_95%CI</th>\n",
              "    </tr>\n",
              "  </thead>\n",
              "  <tbody>\n",
              "    <tr>\n",
              "      <th>214</th>\n",
              "      <td>Avonex Pen</td>\n",
              "      <td>9.833333</td>\n",
              "      <td>9.506667</td>\n",
              "      <td>10.160000</td>\n",
              "    </tr>\n",
              "    <tr>\n",
              "      <th>249</th>\n",
              "      <td>Belladonna / opium</td>\n",
              "      <td>9.833333</td>\n",
              "      <td>9.506667</td>\n",
              "      <td>10.160000</td>\n",
              "    </tr>\n",
              "    <tr>\n",
              "      <th>1624</th>\n",
              "      <td>Primatene Mist</td>\n",
              "      <td>9.833333</td>\n",
              "      <td>9.506667</td>\n",
              "      <td>10.160000</td>\n",
              "    </tr>\n",
              "    <tr>\n",
              "      <th>281</th>\n",
              "      <td>Biafine</td>\n",
              "      <td>9.857143</td>\n",
              "      <td>9.577143</td>\n",
              "      <td>10.137143</td>\n",
              "    </tr>\n",
              "    <tr>\n",
              "      <th>1425</th>\n",
              "      <td>Niravam</td>\n",
              "      <td>9.857143</td>\n",
              "      <td>9.577143</td>\n",
              "      <td>10.137143</td>\n",
              "    </tr>\n",
              "    <tr>\n",
              "      <th>153</th>\n",
              "      <td>Aprepitant</td>\n",
              "      <td>9.900000</td>\n",
              "      <td>9.704000</td>\n",
              "      <td>10.096000</td>\n",
              "    </tr>\n",
              "    <tr>\n",
              "      <th>714</th>\n",
              "      <td>Emend</td>\n",
              "      <td>9.900000</td>\n",
              "      <td>9.704000</td>\n",
              "      <td>10.096000</td>\n",
              "    </tr>\n",
              "    <tr>\n",
              "      <th>588</th>\n",
              "      <td>Dexbrompheniramine / pseudoephedrine</td>\n",
              "      <td>9.947368</td>\n",
              "      <td>9.875417</td>\n",
              "      <td>10.019320</td>\n",
              "    </tr>\n",
              "    <tr>\n",
              "      <th>659</th>\n",
              "      <td>Drixoral Cold and Allergy</td>\n",
              "      <td>9.948718</td>\n",
              "      <td>9.878586</td>\n",
              "      <td>10.018850</td>\n",
              "    </tr>\n",
              "    <tr>\n",
              "      <th>1813</th>\n",
              "      <td>Silver sulfadiazine</td>\n",
              "      <td>9.972222</td>\n",
              "      <td>9.917778</td>\n",
              "      <td>10.026667</td>\n",
              "    </tr>\n",
              "  </tbody>\n",
              "</table>\n",
              "</div>"
            ],
            "text/plain": [
              "                                  drugName      Mean  Lower_Bound_95%CI  \\\n",
              "214                             Avonex Pen  9.833333           9.506667   \n",
              "249                     Belladonna / opium  9.833333           9.506667   \n",
              "1624                        Primatene Mist  9.833333           9.506667   \n",
              "281                                Biafine  9.857143           9.577143   \n",
              "1425                               Niravam  9.857143           9.577143   \n",
              "153                             Aprepitant  9.900000           9.704000   \n",
              "714                                  Emend  9.900000           9.704000   \n",
              "588   Dexbrompheniramine / pseudoephedrine  9.947368           9.875417   \n",
              "659              Drixoral Cold and Allergy  9.948718           9.878586   \n",
              "1813                   Silver sulfadiazine  9.972222           9.917778   \n",
              "\n",
              "      Upper_Bound_95%CI  \n",
              "214           10.160000  \n",
              "249           10.160000  \n",
              "1624          10.160000  \n",
              "281           10.137143  \n",
              "1425          10.137143  \n",
              "153           10.096000  \n",
              "714           10.096000  \n",
              "588           10.019320  \n",
              "659           10.018850  \n",
              "1813          10.026667  "
            ]
          },
          "metadata": {
            "tags": []
          },
          "execution_count": 71
        }
      ]
    },
    {
      "metadata": {
        "id": "vE4Hodc6xIyD",
        "colab_type": "code",
        "colab": {
          "base_uri": "https://localhost:8080/",
          "height": 662
        },
        "outputId": "a972bbb5-f06e-4a64-9f28-c0ac8ab3095d"
      },
      "cell_type": "code",
      "source": [
        "plot_df = pd.concat([top_ten, bottom_ten]).reset_index()\n",
        "\n",
        "plot_df"
      ],
      "execution_count": 72,
      "outputs": [
        {
          "output_type": "execute_result",
          "data": {
            "text/html": [
              "<div>\n",
              "<style scoped>\n",
              "    .dataframe tbody tr th:only-of-type {\n",
              "        vertical-align: middle;\n",
              "    }\n",
              "\n",
              "    .dataframe tbody tr th {\n",
              "        vertical-align: top;\n",
              "    }\n",
              "\n",
              "    .dataframe thead th {\n",
              "        text-align: right;\n",
              "    }\n",
              "</style>\n",
              "<table border=\"1\" class=\"dataframe\">\n",
              "  <thead>\n",
              "    <tr style=\"text-align: right;\">\n",
              "      <th></th>\n",
              "      <th>index</th>\n",
              "      <th>drugName</th>\n",
              "      <th>Mean</th>\n",
              "      <th>Lower_Bound_95%CI</th>\n",
              "      <th>Upper_Bound_95%CI</th>\n",
              "    </tr>\n",
              "  </thead>\n",
              "  <tbody>\n",
              "    <tr>\n",
              "      <th>0</th>\n",
              "      <td>1630</td>\n",
              "      <td>ProAir RespiClick</td>\n",
              "      <td>1.193548</td>\n",
              "      <td>1.025474</td>\n",
              "      <td>1.361623</td>\n",
              "    </tr>\n",
              "    <tr>\n",
              "      <th>1</th>\n",
              "      <td>316</td>\n",
              "      <td>Brompheniramine / dextromethorphan / phenyleph...</td>\n",
              "      <td>1.250000</td>\n",
              "      <td>0.760000</td>\n",
              "      <td>1.740000</td>\n",
              "    </tr>\n",
              "    <tr>\n",
              "      <th>2</th>\n",
              "      <td>1331</td>\n",
              "      <td>Monistat 1-Day or Night Combination Pack</td>\n",
              "      <td>1.416667</td>\n",
              "      <td>1.038394</td>\n",
              "      <td>1.794939</td>\n",
              "    </tr>\n",
              "    <tr>\n",
              "      <th>3</th>\n",
              "      <td>1107</td>\n",
              "      <td>Lamisil AT</td>\n",
              "      <td>1.500000</td>\n",
              "      <td>0.520000</td>\n",
              "      <td>2.480000</td>\n",
              "    </tr>\n",
              "    <tr>\n",
              "      <th>4</th>\n",
              "      <td>976</td>\n",
              "      <td>Hydroquinone</td>\n",
              "      <td>1.750000</td>\n",
              "      <td>0.811721</td>\n",
              "      <td>2.688279</td>\n",
              "    </tr>\n",
              "    <tr>\n",
              "      <th>5</th>\n",
              "      <td>91</td>\n",
              "      <td>Allegra Allergy</td>\n",
              "      <td>1.800000</td>\n",
              "      <td>0.232000</td>\n",
              "      <td>3.368000</td>\n",
              "    </tr>\n",
              "    <tr>\n",
              "      <th>6</th>\n",
              "      <td>2055</td>\n",
              "      <td>Umeclidinium</td>\n",
              "      <td>2.000000</td>\n",
              "      <td>0.868393</td>\n",
              "      <td>3.131607</td>\n",
              "    </tr>\n",
              "    <tr>\n",
              "      <th>7</th>\n",
              "      <td>1902</td>\n",
              "      <td>Systane</td>\n",
              "      <td>2.125000</td>\n",
              "      <td>-0.080000</td>\n",
              "      <td>4.330000</td>\n",
              "    </tr>\n",
              "    <tr>\n",
              "      <th>8</th>\n",
              "      <td>804</td>\n",
              "      <td>Factive</td>\n",
              "      <td>2.250000</td>\n",
              "      <td>-0.200000</td>\n",
              "      <td>4.700000</td>\n",
              "    </tr>\n",
              "    <tr>\n",
              "      <th>9</th>\n",
              "      <td>728</td>\n",
              "      <td>Enskyce</td>\n",
              "      <td>2.250000</td>\n",
              "      <td>-0.200000</td>\n",
              "      <td>4.700000</td>\n",
              "    </tr>\n",
              "    <tr>\n",
              "      <th>10</th>\n",
              "      <td>214</td>\n",
              "      <td>Avonex Pen</td>\n",
              "      <td>9.833333</td>\n",
              "      <td>9.506667</td>\n",
              "      <td>10.160000</td>\n",
              "    </tr>\n",
              "    <tr>\n",
              "      <th>11</th>\n",
              "      <td>249</td>\n",
              "      <td>Belladonna / opium</td>\n",
              "      <td>9.833333</td>\n",
              "      <td>9.506667</td>\n",
              "      <td>10.160000</td>\n",
              "    </tr>\n",
              "    <tr>\n",
              "      <th>12</th>\n",
              "      <td>1624</td>\n",
              "      <td>Primatene Mist</td>\n",
              "      <td>9.833333</td>\n",
              "      <td>9.506667</td>\n",
              "      <td>10.160000</td>\n",
              "    </tr>\n",
              "    <tr>\n",
              "      <th>13</th>\n",
              "      <td>281</td>\n",
              "      <td>Biafine</td>\n",
              "      <td>9.857143</td>\n",
              "      <td>9.577143</td>\n",
              "      <td>10.137143</td>\n",
              "    </tr>\n",
              "    <tr>\n",
              "      <th>14</th>\n",
              "      <td>1425</td>\n",
              "      <td>Niravam</td>\n",
              "      <td>9.857143</td>\n",
              "      <td>9.577143</td>\n",
              "      <td>10.137143</td>\n",
              "    </tr>\n",
              "    <tr>\n",
              "      <th>15</th>\n",
              "      <td>153</td>\n",
              "      <td>Aprepitant</td>\n",
              "      <td>9.900000</td>\n",
              "      <td>9.704000</td>\n",
              "      <td>10.096000</td>\n",
              "    </tr>\n",
              "    <tr>\n",
              "      <th>16</th>\n",
              "      <td>714</td>\n",
              "      <td>Emend</td>\n",
              "      <td>9.900000</td>\n",
              "      <td>9.704000</td>\n",
              "      <td>10.096000</td>\n",
              "    </tr>\n",
              "    <tr>\n",
              "      <th>17</th>\n",
              "      <td>588</td>\n",
              "      <td>Dexbrompheniramine / pseudoephedrine</td>\n",
              "      <td>9.947368</td>\n",
              "      <td>9.875417</td>\n",
              "      <td>10.019320</td>\n",
              "    </tr>\n",
              "    <tr>\n",
              "      <th>18</th>\n",
              "      <td>659</td>\n",
              "      <td>Drixoral Cold and Allergy</td>\n",
              "      <td>9.948718</td>\n",
              "      <td>9.878586</td>\n",
              "      <td>10.018850</td>\n",
              "    </tr>\n",
              "    <tr>\n",
              "      <th>19</th>\n",
              "      <td>1813</td>\n",
              "      <td>Silver sulfadiazine</td>\n",
              "      <td>9.972222</td>\n",
              "      <td>9.917778</td>\n",
              "      <td>10.026667</td>\n",
              "    </tr>\n",
              "  </tbody>\n",
              "</table>\n",
              "</div>"
            ],
            "text/plain": [
              "    index                                           drugName      Mean  \\\n",
              "0    1630                                  ProAir RespiClick  1.193548   \n",
              "1     316  Brompheniramine / dextromethorphan / phenyleph...  1.250000   \n",
              "2    1331           Monistat 1-Day or Night Combination Pack  1.416667   \n",
              "3    1107                                         Lamisil AT  1.500000   \n",
              "4     976                                       Hydroquinone  1.750000   \n",
              "5      91                                    Allegra Allergy  1.800000   \n",
              "6    2055                                       Umeclidinium  2.000000   \n",
              "7    1902                                            Systane  2.125000   \n",
              "8     804                                            Factive  2.250000   \n",
              "9     728                                            Enskyce  2.250000   \n",
              "10    214                                         Avonex Pen  9.833333   \n",
              "11    249                                 Belladonna / opium  9.833333   \n",
              "12   1624                                     Primatene Mist  9.833333   \n",
              "13    281                                            Biafine  9.857143   \n",
              "14   1425                                            Niravam  9.857143   \n",
              "15    153                                         Aprepitant  9.900000   \n",
              "16    714                                              Emend  9.900000   \n",
              "17    588               Dexbrompheniramine / pseudoephedrine  9.947368   \n",
              "18    659                          Drixoral Cold and Allergy  9.948718   \n",
              "19   1813                                Silver sulfadiazine  9.972222   \n",
              "\n",
              "    Lower_Bound_95%CI  Upper_Bound_95%CI  \n",
              "0            1.025474           1.361623  \n",
              "1            0.760000           1.740000  \n",
              "2            1.038394           1.794939  \n",
              "3            0.520000           2.480000  \n",
              "4            0.811721           2.688279  \n",
              "5            0.232000           3.368000  \n",
              "6            0.868393           3.131607  \n",
              "7           -0.080000           4.330000  \n",
              "8           -0.200000           4.700000  \n",
              "9           -0.200000           4.700000  \n",
              "10           9.506667          10.160000  \n",
              "11           9.506667          10.160000  \n",
              "12           9.506667          10.160000  \n",
              "13           9.577143          10.137143  \n",
              "14           9.577143          10.137143  \n",
              "15           9.704000          10.096000  \n",
              "16           9.704000          10.096000  \n",
              "17           9.875417          10.019320  \n",
              "18           9.878586          10.018850  \n",
              "19           9.917778          10.026667  "
            ]
          },
          "metadata": {
            "tags": []
          },
          "execution_count": 72
        }
      ]
    },
    {
      "metadata": {
        "id": "IyhNe8PZUBH3",
        "colab_type": "code",
        "colab": {
          "base_uri": "https://localhost:8080/",
          "height": 364
        },
        "outputId": "b43e53c4-402a-43bd-ef72-be6036f99ad9"
      },
      "cell_type": "code",
      "source": [
        "y_ticks_ordered = plot_df.drugName.tolist()\n",
        "\n",
        "y_ticks_ordered"
      ],
      "execution_count": 73,
      "outputs": [
        {
          "output_type": "execute_result",
          "data": {
            "text/plain": [
              "['ProAir RespiClick',\n",
              " 'Brompheniramine / dextromethorphan / phenylephrine',\n",
              " 'Monistat 1-Day or Night Combination Pack',\n",
              " 'Lamisil AT',\n",
              " 'Hydroquinone',\n",
              " 'Allegra Allergy',\n",
              " 'Umeclidinium',\n",
              " 'Systane',\n",
              " 'Factive',\n",
              " 'Enskyce',\n",
              " 'Avonex Pen',\n",
              " 'Belladonna / opium',\n",
              " 'Primatene Mist',\n",
              " 'Biafine',\n",
              " 'Niravam',\n",
              " 'Aprepitant',\n",
              " 'Emend',\n",
              " 'Dexbrompheniramine / pseudoephedrine',\n",
              " 'Drixoral Cold and Allergy',\n",
              " 'Silver sulfadiazine']"
            ]
          },
          "metadata": {
            "tags": []
          },
          "execution_count": 73
        }
      ]
    },
    {
      "metadata": {
        "id": "KgkWroE0UZK6",
        "colab_type": "text"
      },
      "cell_type": "markdown",
      "source": [
        "### Plot"
      ]
    },
    {
      "metadata": {
        "id": "LOoQ8rbDR_rt",
        "colab_type": "code",
        "colab": {
          "base_uri": "https://localhost:8080/",
          "height": 409
        },
        "outputId": "5e8cb6af-d977-46c6-9a41-c7cc30347ec7"
      },
      "cell_type": "code",
      "source": [
        "style.use(\"fivethirtyeight\") \n",
        "\n",
        "fig, ax = plt.subplots()\n",
        "\n",
        "y = [plot_df.index, plot_df.index]\n",
        "x = [plot_df['Lower_Bound_95%CI'],plot_df['Upper_Bound_95%CI']]\n",
        "\n",
        "\n",
        "plt.title('Top Ten and Bottom Ten Drug Rating Confidence Intervals', fontweight='bold')\n",
        "\n",
        "fig.set_facecolor(\"ivory\")\n",
        "\n",
        "ax.set_facecolor(\"white\")\n",
        "\n",
        "# y_ticks_ordered = ['freeze_physicians', 'el_salvador', 'education', 'crime',\n",
        "#                 'superfund', 'religion_school', 'immigration', 'water_project',\n",
        "#                 'south_africa', 'synfuels_cutback', 'hand_infants', 'satellite_ban',\n",
        "#                 'duty_free',  'mx_missile', 'contras_aid', 'budget_adoption']  \n",
        "\n",
        "barlist=ax.plot(x,y, linewidth=10, color='blue')\n",
        "barlist[0].set_color('r')\n",
        "barlist[1].set_color('r')\n",
        "barlist[2].set_color('r')\n",
        "barlist[3].set_color('r')\n",
        "barlist[4].set_color('r')\n",
        "barlist[5].set_color('r')\n",
        "barlist[6].set_color('r')\n",
        "barlist[7].set_color('r')\n",
        "barlist[8].set_color('r')\n",
        "barlist[9].set_color('r')\n",
        "\n",
        "\n",
        "# barlist[5].set_color('r')\n",
        "# barlist[6].set_color('indigo')\n",
        "# barlist[7].set_color('indigo')\n",
        "\n",
        "ax.tick_params(axis = y, labelrotation = 0, colors = 'black', size = 12)\n",
        "ax.set_yticks(plot_df.index)\n",
        "ax.set_yticklabels(y_ticks_ordered)\n",
        "\n",
        "ax.set_xticks([0,1,2,3,4,5,6,7,8,9,10,11])\n",
        "ax.set_xticklabels(['0','1','2','3','4','5','6','7','8','9','10','11'], color = 'black')\n",
        "\n",
        "plt.axvline(x = 1, color = 'black', linewidth = 2, alpha = .5)\n",
        "plt.axvline(x = 10, color = 'black', linewidth = 2, alpha = .5)\n",
        "\n",
        "# plt.text(x=-75,y=-2.5,s=\"Republican Leaning\", color = 'red', weight = 'bold')\n",
        "# plt.text(x=25,y=-2.5,s=\"Democrat Leaning\", color = 'blue', weight = 'bold')\n",
        "\n",
        "plt.xlabel('Rating', fontweight='bold')\n",
        "plt.ylabel('Drug Name', fontweight='bold') \n",
        "\n",
        "plt.show()"
      ],
      "execution_count": 76,
      "outputs": [
        {
          "output_type": "display_data",
          "data": {
            "image/png": "[encoded data removed]",
            "text/plain": [
              "<matplotlib.figure.Figure at 0x7f8395d14b70>"
            ]
          },
          "metadata": {
            "tags": []
          }
        }
      ]
    },
    {
      "metadata": {
        "id": "eanQAJ9KUUQ_",
        "colab_type": "text"
      },
      "cell_type": "markdown",
      "source": [
        "### Interpretation"
      ]
    },
    {
      "metadata": {
        "id": "cMa0eI13U-6x",
        "colab_type": "text"
      },
      "cell_type": "markdown",
      "source": [
        "I chose the top ten and bottom ten drugs by rating to illustrate a point about confidence intervals. Normally, the rating system is from 1-10 and as one can see, the mean ratings for each of the drugs fits within the range. So why does one see confidence intervals that extend beyond the boundaries? The reason is the standard error for drug ratings with fewer counts is larger. When that is the case, the width of the 95% confidence interval, which is a function of the standard error, gets larger. It can get large even to the point where the bounds extend beyond the logic of the scoring system. In general, it is important to not consider confidence intervals in a vacuum and to tether it to the logic of the data."
      ]
    }
  ]
}