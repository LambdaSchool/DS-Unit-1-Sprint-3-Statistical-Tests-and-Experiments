{
  "nbformat": 4,
  "nbformat_minor": 0,
  "metadata": {
    "colab": {
      "name": "DS9_123_Introduction_to_Bayesian_Inference_Assignment.ipynb",
      "provenance": [],
      "collapsed_sections": [],
      "include_colab_link": true
    },
    "kernelspec": {
      "name": "python3",
      "display_name": "Python 3"
    }
  },
  "cells": [
    {
      "cell_type": "markdown",
      "metadata": {
        "id": "view-in-github",
        "colab_type": "text"
      },
      "source": [
        "<a href=\"https://colab.research.google.com/github/maiormarso/DS-Unit-1-Sprint-3-Statistical-Tests-and-Experiments/blob/master/module3/DS9_123_Introduction_to_Bayesian_Inference_Assignment.ipynb\" target=\"_parent\"><img src=\"https://colab.research.google.com/assets/colab-badge.svg\" alt=\"Open In Colab\"/></a>"
      ]
    },
    {
      "cell_type": "markdown",
      "metadata": {
        "id": "H7OLbevlbd_Z",
        "colab_type": "text"
      },
      "source": [
        "# Lambda School Data Science Module 123\n",
        "\n",
        "## Introduction to Bayesian Inference\n",
        "\n",
        "\n"
      ]
    },
    {
      "cell_type": "markdown",
      "metadata": {
        "id": "P-DzzRk5bf0z",
        "colab_type": "text"
      },
      "source": [
        "## Assignment - Code it up!\n",
        "\n",
        "We used pure math to apply Bayes Theorem to drug tests. Now write Python code to reproduce the results! This is purposefully open ended - you'll have to think about how you should represent probabilities and events. You can and should look things up.\n",
        "\n",
        "Specific goals/targets:\n",
        "\n",
        "### 1) Write a function \n",
        "\n",
        "`def prob_drunk_given_positive(prob_drunk_prior, false_positive_rate):` \n",
        "\n",
        "You should only truly need these two values in order to apply Bayes Theorem. In this example, imagine that individuals are taking a breathalyzer test with an 8% false positive rate, a 100% true positive rate, and that our prior belief about drunk driving in the population is 1/1000. \n",
        " - What is the probability that a person is drunk after one positive breathalyzer test?\n",
        " - What is the probability that a person is drunk after two positive breathalyzer tests?\n",
        " - How many positive breathalyzer tests are needed in order to have a probability that's greater than 95% that a person is drunk beyond the legal limit?\n",
        "\n",
        "### 2) Explore `scipy.stats.bayes_mvs`  \n",
        "Read its documentation, and experiment with it on data you've tested in other ways earlier this week.\n",
        " - Create a visualization comparing the results of a Bayesian approach to a traditional/frequentist approach. (with a large sample size they should look close to identical, however, take this opportunity to practice visualizing condfidence intervals in general. The following are some potential ways that you could visualize confidence intervals on your graph:\n",
        "  - [Matplotlib Error Bars](https://matplotlib.org/3.1.1/api/_as_gen/matplotlib.pyplot.errorbar.html)\n",
        "  - [Seaborn barplot with error bars](https://seaborn.pydata.org/generated/seaborn.barplot.html)\n",
        "  - [Vertical ines to show bounds of confidence interval](https://www.simplypsychology.org/confidence-interval.jpg)\n",
        "  - [Confidence Intervals on Box Plots](https://matplotlib.org/3.1.1/api/_as_gen/matplotlib.axes.Axes.boxplot.html)\n",
        "\n",
        "### 3) In your own words, summarize the difference between Bayesian and Frequentist statistics\n",
        "\n",
        "If you're unsure where to start, check out [this blog post of Bayes theorem with Python](https://dataconomy.com/2015/02/introduction-to-bayes-theorem-with-python/).\n",
        "\n"
      ]
    },
    {
      "cell_type": "markdown",
      "metadata": {
        "id": "yvAA2n2kr0gn",
        "colab_type": "text"
      },
      "source": [
        "#1) Write a function"
      ]
    },
    {
      "cell_type": "code",
      "metadata": {
        "id": "QzKdBOUcr1B2",
        "colab_type": "code",
        "colab": {}
      },
      "source": [
        ""
      ],
      "execution_count": 0,
      "outputs": []
    },
    {
      "cell_type": "code",
      "metadata": {
        "id": "xpVhZyUnbf7o",
        "colab_type": "code",
        "colab": {}
      },
      "source": [
        "import scipy.stats as stats\n",
        "import pandas as pd\n",
        "import numpy as np\n"
      ],
      "execution_count": 0,
      "outputs": []
    },
    {
      "cell_type": "code",
      "metadata": {
        "id": "oFWZtpjX9YnN",
        "colab_type": "code",
        "outputId": "53850042-d803-493a-ee53-39d16538c48f",
        "colab": {
          "base_uri": "https://localhost:8080/",
          "height": 34
        }
      },
      "source": [
        "def drunk_given(drunk_prior, drunk_positive, positive_drunk):\n",
        "  return(positive_drunk * drunk_prior) / drunk_positive\n",
        "drunk_given(.001, 0.08, 1)"
      ],
      "execution_count": 0,
      "outputs": [
        {
          "output_type": "execute_result",
          "data": {
            "text/plain": [
              "0.0125"
            ]
          },
          "metadata": {
            "tags": []
          },
          "execution_count": 2
        }
      ]
    },
    {
      "cell_type": "markdown",
      "metadata": {
        "id": "Roz84EahGVS4",
        "colab_type": "text"
      },
      "source": [
        "\n",
        "###BAE stands for 'before anyone else'; African American vernacular\n",
        "https://schneems.com/2017/06/12/bayes-is-bae/"
      ]
    },
    {
      "cell_type": "code",
      "metadata": {
        "id": "L2EF3PDvCM7i",
        "colab_type": "code",
        "outputId": "1a6578e7-ba3f-4019-8a83-580a3d6ba2a1",
        "colab": {
          "base_uri": "https://localhost:8080/",
          "height": 54
        }
      },
      "source": [
        "one_ink = .001\n",
        "false_plus = 0.08\n",
        "plus_rate = 1\n",
        "bae = []\n",
        "for _ in range(1,1000):\n",
        "  bae.append(drunk_given(one_ink,false_plus,plus_rate))\n",
        "  one_ink = drunk_given(one_ink,false_plus,plus_rate)\n",
        "print(bae)"
      ],
      "execution_count": 0,
      "outputs": [
        {
          "output_type": "stream",
          "text": [
            "[0.0125, 0.15625, 1.953125, 24.4140625, 305.17578125, 3814.697265625, 47683.7158203125, 596046.4477539062, 7450580.596923828, 93132257.46154785, 1164153218.2693481, 14551915228.366852, 181898940354.58563, 2273736754432.3203, 28421709430404.004, 355271367880050.06, 4440892098500625.5, 5.5511151231257816e+16, 6.938893903907227e+17, 8.673617379884033e+18, 1.084202172485504e+20, 1.35525271560688e+21, 1.6940658945086e+22, 2.11758236813575e+23, 2.6469779601696876e+24, 3.3087224502121092e+25, 4.135903062765136e+26, 5.169878828456421e+27, 6.462348535570526e+28, 8.077935669463157e+29, 1.0097419586828946e+31, 1.2621774483536183e+32, 1.5777218104420228e+33, 1.9721522630525286e+34, 2.4651903288156607e+35, 3.081487911019576e+36, 3.8518598887744695e+37, 4.8148248609680865e+38, 6.018531076210108e+39, 7.523163845262635e+40, 9.403954806578294e+41, 1.1754943508222867e+43, 1.4693679385278582e+44, 1.8367099231598227e+45, 2.295887403949778e+46, 2.8698592549372225e+47, 3.587324068671528e+48, 4.48415508583941e+49, 5.6051938572992626e+50, 7.006492321624078e+51, 8.758115402030097e+52, 1.0947644252537621e+54, 1.3684555315672025e+55, 1.7105694144590031e+56, 2.138211768073754e+57, 2.672764710092192e+58, 3.3409558876152404e+59, 4.176194859519051e+60, 5.220243574398813e+61, 6.525304467998516e+62, 8.156630584998145e+63, 1.0195788231247681e+65, 1.2744735289059601e+66, 1.59309191113245e+67, 1.9913648889155626e+68, 2.4892061111444532e+69, 3.111507638930566e+70, 3.889384548663208e+71, 4.86173068582901e+72, 6.077163357286263e+73, 7.596454196607828e+74, 9.495567745759784e+75, 1.186945968219973e+77, 1.4836824602749663e+78, 1.8546030753437077e+79, 2.3182538441796345e+80, 2.897817305224543e+81, 3.622271631530679e+82, 4.5278395394133487e+83, 5.659799424266686e+84, 7.074749280333357e+85, 8.843436600416696e+86, 1.105429575052087e+88, 1.3817869688151087e+89, 1.7272337110188858e+90, 2.1590421387736074e+91, 2.698802673467009e+92, 3.3735033418337615e+93, 4.2168791772922016e+94, 5.271098971615252e+95, 6.5888737145190655e+96, 8.236092143148832e+97, 1.029511517893604e+99, 1.286889397367005e+100, 1.6086117467087564e+101, 2.0107646833859454e+102, 2.513455854232432e+103, 3.1418198177905395e+104, 3.927274772238174e+105, 4.909093465297717e+106, 6.136366831622147e+107, 7.670458539527683e+108, 9.588073174409604e+109, 1.1985091468012004e+111, 1.4981364335015005e+112, 1.8726705418768757e+113, 2.3408381773460947e+114, 2.9260477216826182e+115, 3.6575596521032726e+116, 4.571949565129091e+117, 5.714936956411363e+118, 7.143671195514203e+119, 8.929588994392754e+120, 1.1161986242990942e+122, 1.3952482803738677e+123, 1.7440603504673345e+124, 2.180075438084168e+125, 2.72509429760521e+126, 3.406367872006512e+127, 4.25795984000814e+128, 5.322449800010175e+129, 6.653062250012718e+130, 8.316327812515898e+131, 1.0395409765644872e+133, 1.299426220705609e+134, 1.6242827758820112e+135, 2.030353469852514e+136, 2.5379418373156425e+137, 3.172427296644553e+138, 3.965534120805691e+139, 4.9569176510071135e+140, 6.196147063758891e+141, 7.745183829698614e+142, 9.681479787123267e+143, 1.2101849733904083e+145, 1.5127312167380104e+146, 1.890914020922513e+147, 2.363642526153141e+148, 2.9545531576914262e+149, 3.693191447114283e+150, 4.616489308892853e+151, 5.770611636116066e+152, 7.213264545145083e+153, 9.016580681431354e+154, 1.1270725851789193e+156, 1.408840731473649e+157, 1.7610509143420612e+158, 2.2013136429275765e+159, 2.7516420536594704e+160, 3.439552567074338e+161, 4.299440708842923e+162, 5.3743008860536534e+163, 6.717876107567066e+164, 8.397345134458833e+165, 1.0496681418073541e+167, 1.3120851772591926e+168, 1.640106471573991e+169, 2.0501330894674886e+170, 2.5626663618343607e+171, 3.203332952292951e+172, 4.0041661903661884e+173, 5.005207737957735e+174, 6.256509672447169e+175, 7.820637090558961e+176, 9.7757963631987e+177, 1.2219745453998375e+179, 1.5274681817497968e+180, 1.909335227187246e+181, 2.3866690339840578e+182, 2.983336292480072e+183, 3.72917036560009e+184, 4.661462957000113e+185, 5.826828696250141e+186, 7.283535870312677e+187, 9.104419837890846e+188, 1.1380524797363556e+190, 1.4225655996704445e+191, 1.7782069995880555e+192, 2.2227587494850692e+193, 2.7784484368563364e+194, 3.4730605460704203e+195, 4.341325682588025e+196, 5.426657103235031e+197, 6.783321379043789e+198, 8.479151723804736e+199, 1.059893965475592e+201, 1.32486745684449e+202, 1.6560843210556126e+203, 2.0701054013195157e+204, 2.5876317516493944e+205, 3.234539689561743e+206, 4.043174611952178e+207, 5.053968264940223e+208, 6.3174603311752786e+209, 7.896825413969098e+210, 9.871031767461372e+211, 1.2338789709326715e+213, 1.5423487136658393e+214, 1.927935892082299e+215, 2.4099198651028735e+216, 3.0123998313785916e+217, 3.7654997892232396e+218, 4.706874736529049e+219, 5.883593420661311e+220, 7.354491775826639e+221, 9.193114719783298e+222, 1.1491393399729122e+224, 1.4364241749661402e+225, 1.7955302187076751e+226, 2.2444127733845937e+227, 2.805515966730742e+228, 3.506894958413428e+229, 4.383618698016785e+230, 5.4795233725209805e+231, 6.849404215651226e+232, 8.561755269564033e+233, 1.070219408695504e+235, 1.33777426086938e+236, 1.672217826086725e+237, 2.0902722826084064e+238, 2.612840353260508e+239, 3.2660504415756348e+240, 4.0825630519695434e+241, 5.103203814961929e+242, 6.379004768702412e+243, 7.973755960878015e+244, 9.967194951097518e+245, 1.2458993688871897e+247, 1.557374211108987e+248, 1.946717763886234e+249, 2.4333972048577924e+250, 3.04174650607224e+251, 3.8021831325903e+252, 4.7527289157378755e+253, 5.940911144672345e+254, 7.426138930840431e+255, 9.282673663550538e+256, 1.1603342079438172e+258, 1.4504177599297715e+259, 1.8130221999122143e+260, 2.2662777498902677e+261, 2.8328471873628346e+262, 3.5410589842035433e+263, 4.426323730254429e+264, 5.5329046628180356e+265, 6.916130828522545e+266, 8.64516353565318e+267, 1.0806454419566475e+269, 1.3508068024458094e+270, 1.6885085030572617e+271, 2.110635628821577e+272, 2.638294536026971e+273, 3.297868170033714e+274, 4.122335212542142e+275, 5.152919015677677e+276, 6.441148769597096e+277, 8.05143596199637e+278, 1.0064294952495462e+280, 1.2580368690619326e+281, 1.5725460863274157e+282, 1.9656826079092695e+283, 2.457103259886587e+284, 3.0713790748582337e+285, 3.839223843572792e+286, 4.7990298044659896e+287, 5.998787255582487e+288, 7.4984840694781086e+289, 9.373105086847636e+290, 1.1716381358559544e+292, 1.464547669819943e+293, 1.8306845872749286e+294, 2.288355734093661e+295, 2.860444667617076e+296, 3.575555834521345e+297, 4.469444793151681e+298, 5.586805991439601e+299, 6.983507489299501e+300, 8.729384361624375e+301, 1.0911730452030469e+303, 1.3639663065038086e+304, 1.7049578831297606e+305, 2.1311973539122006e+306, 2.663996692390251e+307, inf, inf, inf, inf, inf, inf, inf, inf, inf, inf, inf, inf, inf, inf, inf, inf, inf, inf, inf, inf, inf, inf, inf, inf, inf, inf, inf, inf, inf, inf, inf, inf, inf, inf, inf, inf, inf, inf, inf, inf, inf, inf, inf, inf, inf, inf, inf, inf, inf, inf, inf, inf, inf, inf, inf, inf, inf, inf, inf, inf, inf, inf, inf, inf, inf, inf, inf, inf, inf, inf, inf, inf, inf, inf, inf, inf, inf, inf, inf, inf, inf, inf, inf, inf, inf, inf, inf, inf, inf, inf, inf, inf, inf, inf, inf, inf, inf, inf, inf, inf, inf, inf, inf, inf, inf, inf, inf, inf, inf, inf, inf, inf, inf, inf, inf, inf, inf, inf, inf, inf, inf, inf, inf, inf, inf, inf, inf, inf, inf, inf, inf, inf, inf, inf, inf, inf, inf, inf, inf, inf, inf, inf, inf, inf, inf, inf, inf, inf, inf, inf, inf, inf, inf, inf, inf, inf, inf, inf, inf, inf, inf, inf, inf, inf, inf, inf, inf, inf, inf, inf, inf, inf, inf, inf, inf, inf, inf, inf, inf, inf, inf, inf, inf, inf, inf, inf, inf, inf, inf, inf, inf, inf, inf, inf, inf, inf, inf, inf, inf, inf, inf, inf, inf, inf, inf, inf, inf, inf, inf, inf, inf, inf, inf, inf, inf, inf, inf, inf, inf, inf, inf, inf, inf, inf, inf, inf, inf, inf, inf, inf, inf, inf, inf, inf, inf, inf, inf, inf, inf, inf, inf, inf, inf, inf, inf, inf, inf, inf, inf, inf, inf, inf, inf, inf, inf, inf, inf, inf, inf, inf, inf, inf, inf, inf, inf, inf, inf, inf, inf, inf, inf, inf, inf, inf, inf, inf, inf, inf, inf, inf, inf, inf, inf, inf, inf, inf, inf, inf, inf, inf, inf, inf, inf, inf, inf, inf, inf, inf, inf, inf, inf, inf, inf, inf, inf, inf, inf, inf, inf, inf, inf, inf, inf, inf, inf, inf, inf, inf, inf, inf, inf, inf, inf, inf, inf, inf, inf, inf, inf, inf, inf, inf, inf, inf, inf, inf, inf, inf, inf, inf, inf, inf, inf, inf, inf, inf, inf, inf, inf, inf, inf, inf, inf, inf, inf, inf, inf, inf, inf, inf, inf, inf, inf, inf, inf, inf, inf, inf, inf, inf, inf, inf, inf, inf, inf, inf, inf, inf, inf, inf, inf, inf, inf, inf, inf, inf, inf, inf, inf, inf, inf, inf, inf, inf, inf, inf, inf, inf, inf, inf, inf, inf, inf, inf, inf, inf, inf, inf, inf, inf, inf, inf, inf, inf, inf, inf, inf, inf, inf, inf, inf, inf, inf, inf, inf, inf, inf, inf, inf, inf, inf, inf, inf, inf, inf, inf, inf, inf, inf, inf, inf, inf, inf, inf, inf, inf, inf, inf, inf, inf, inf, inf, inf, inf, inf, inf, inf, inf, inf, inf, inf, inf, inf, inf, inf, inf, inf, inf, inf, inf, inf, inf, inf, inf, inf, inf, inf, inf, inf, inf, inf, inf, inf, inf, inf, inf, inf, inf, inf, inf, inf, inf, inf, inf, inf, inf, inf, inf, inf, inf, inf, inf, inf, inf, inf, inf, inf, inf, inf, inf, inf, inf, inf, inf, inf, inf, inf, inf, inf, inf, inf, inf, inf, inf, inf, inf, inf, inf, inf, inf, inf, inf, inf, inf, inf, inf, inf, inf, inf, inf, inf, inf, inf, inf, inf, inf, inf, inf, inf, inf, inf, inf, inf, inf, inf, inf, inf, inf, inf, inf, inf, inf, inf, inf, inf, inf, inf, inf, inf, inf, inf, inf, inf, inf, inf, inf, inf, inf, inf, inf, inf, inf, inf, inf, inf, inf, inf, inf, inf, inf, inf, inf, inf, inf, inf, inf, inf, inf, inf, inf, inf, inf, inf, inf, inf, inf, inf, inf, inf, inf, inf, inf, inf, inf, inf, inf, inf, inf, inf, inf, inf, inf, inf, inf, inf, inf, inf, inf, inf, inf, inf, inf, inf, inf, inf, inf, inf, inf, inf, inf, inf, inf, inf, inf, inf, inf, inf, inf, inf, inf, inf, inf, inf, inf, inf, inf, inf, inf, inf, inf, inf, inf, inf, inf, inf, inf, inf, inf, inf, inf, inf, inf, inf, inf, inf, inf, inf, inf, inf, inf, inf, inf, inf, inf, inf, inf, inf, inf, inf, inf, inf, inf, inf, inf, inf, inf, inf, inf, inf, inf, inf, inf, inf, inf, inf, inf, inf, inf, inf, inf, inf, inf, inf, inf, inf, inf]\n"
          ],
          "name": "stdout"
        }
      ]
    },
    {
      "cell_type": "code",
      "metadata": {
        "id": "267sWTGQ9zo2",
        "colab_type": "code",
        "outputId": "8216a8fa-3877-4436-d0d2-07c251be0881",
        "colab": {
          "base_uri": "https://localhost:8080/",
          "height": 34
        }
      },
      "source": [
        "drunk_prior=bae\n",
        "def drunk_given(drunk_prior, drunk_positive, positive_drunk):\n",
        "  return(positive_drunk * drunk_prior) / drunk_positive\n",
        "drunk_given(.001, 0.08, 1)"
      ],
      "execution_count": 0,
      "outputs": [
        {
          "output_type": "execute_result",
          "data": {
            "text/plain": [
              "0.0125"
            ]
          },
          "metadata": {
            "tags": []
          },
          "execution_count": 4
        }
      ]
    },
    {
      "cell_type": "code",
      "metadata": {
        "id": "WE_-Su4q9Vi4",
        "colab_type": "code",
        "outputId": "33a32cef-21bc-4a05-f222-69864fb555f9",
        "colab": {
          "base_uri": "https://localhost:8080/",
          "height": 334
        }
      },
      "source": [
        "one_ink = .001\n",
        "false_plus = 0.08\n",
        "plus_rate = 1\n",
        "bae = 1\n",
        "for _ in range(1,10):\n",
        "  bae=drunk_given(one_ink,false_plus,plus_rate)\n",
        "  one_ink = drunk_given(one_ink,false_plus,plus_rate)\n",
        "  print(one_ink)\n",
        "  print(bae)"
      ],
      "execution_count": 0,
      "outputs": [
        {
          "output_type": "stream",
          "text": [
            "0.0125\n",
            "0.0125\n",
            "0.15625\n",
            "0.15625\n",
            "1.953125\n",
            "1.953125\n",
            "24.4140625\n",
            "24.4140625\n",
            "305.17578125\n",
            "305.17578125\n",
            "3814.697265625\n",
            "3814.697265625\n",
            "47683.7158203125\n",
            "47683.7158203125\n",
            "596046.4477539062\n",
            "596046.4477539062\n",
            "7450580.596923828\n",
            "7450580.596923828\n"
          ],
          "name": "stdout"
        }
      ]
    },
    {
      "cell_type": "code",
      "metadata": {
        "id": "cb2Dtz1o90Wf",
        "colab_type": "code",
        "colab": {}
      },
      "source": [
        ""
      ],
      "execution_count": 0,
      "outputs": []
    },
    {
      "cell_type": "markdown",
      "metadata": {
        "id": "hxycHJ8RJWj8",
        "colab_type": "text"
      },
      "source": [
        "In, CA, It is illegal for any person to operate a vehicle with a: BAC of 0.08% or\n",
        "\n",
        "higher,if the person is 21 years old or older. BAC of 0.01% or higher,if the person is\n",
        "\n",
        "under 21 years old. According to this analysis, only needs take the test 2 times."
      ]
    },
    {
      "cell_type": "markdown",
      "metadata": {
        "id": "waPnj4jPRt9A",
        "colab_type": "text"
      },
      "source": [
        "#2) Explore scipy.stats.bayes_mvs"
      ]
    },
    {
      "cell_type": "code",
      "metadata": {
        "id": "MqDofsUktPZb",
        "colab_type": "code",
        "outputId": "0ba02284-093c-47aa-8873-a2d394306008",
        "colab": {
          "base_uri": "https://localhost:8080/",
          "height": 324
        }
      },
      "source": [
        "!wget https://archive.ics.uci.edu/ml/machine-learning-databases/voting-records/house-votes-84.data\n",
        "import pandas as pd\n",
        "cols = [   \n",
        "   'party',\n",
        "   'handicapped-infants',\n",
        "   'water-project',\n",
        "   'budget',\n",
        "   'physician-fee-freeze',\n",
        "   'el-salvador-aid',\n",
        "   'religious-groups',\n",
        "   'anti-satellite-ban',\n",
        "   'aid-to-contras',\n",
        "   'mx-missile',\n",
        "   'immigration',\n",
        "   'synfuels',\n",
        "   'education',\n",
        "   'right-to-sue',\n",
        "   'crime',\n",
        "   'duty_free',\n",
        "   'south_Africa']\n",
        "df = pd.read_csv('house-votes-84.data', names=cols)\n",
        "df.head(1)"
      ],
      "execution_count": 0,
      "outputs": [
        {
          "output_type": "stream",
          "text": [
            "--2019-10-11 05:35:10--  https://archive.ics.uci.edu/ml/machine-learning-databases/voting-records/house-votes-84.data\n",
            "Resolving archive.ics.uci.edu (archive.ics.uci.edu)... 128.195.10.252\n",
            "Connecting to archive.ics.uci.edu (archive.ics.uci.edu)|128.195.10.252|:443... connected.\n",
            "HTTP request sent, awaiting response... 200 OK\n",
            "Length: 18171 (18K) [application/x-httpd-php]\n",
            "Saving to: ‘house-votes-84.data’\n",
            "\n",
            "\rhouse-votes-84.data   0%[                    ]       0  --.-KB/s               \rhouse-votes-84.data 100%[===================>]  17.75K  --.-KB/s    in 0.06s   \n",
            "\n",
            "2019-10-11 05:35:11 (286 KB/s) - ‘house-votes-84.data’ saved [18171/18171]\n",
            "\n"
          ],
          "name": "stdout"
        },
        {
          "output_type": "execute_result",
          "data": {
            "text/html": [
              "<div>\n",
              "<style scoped>\n",
              "    .dataframe tbody tr th:only-of-type {\n",
              "        vertical-align: middle;\n",
              "    }\n",
              "\n",
              "    .dataframe tbody tr th {\n",
              "        vertical-align: top;\n",
              "    }\n",
              "\n",
              "    .dataframe thead th {\n",
              "        text-align: right;\n",
              "    }\n",
              "</style>\n",
              "<table border=\"1\" class=\"dataframe\">\n",
              "  <thead>\n",
              "    <tr style=\"text-align: right;\">\n",
              "      <th></th>\n",
              "      <th>party</th>\n",
              "      <th>handicapped-infants</th>\n",
              "      <th>water-project</th>\n",
              "      <th>budget</th>\n",
              "      <th>physician-fee-freeze</th>\n",
              "      <th>el-salvador-aid</th>\n",
              "      <th>religious-groups</th>\n",
              "      <th>anti-satellite-ban</th>\n",
              "      <th>aid-to-contras</th>\n",
              "      <th>mx-missile</th>\n",
              "      <th>immigration</th>\n",
              "      <th>synfuels</th>\n",
              "      <th>education</th>\n",
              "      <th>right-to-sue</th>\n",
              "      <th>crime</th>\n",
              "      <th>duty_free</th>\n",
              "      <th>south_Africa</th>\n",
              "    </tr>\n",
              "  </thead>\n",
              "  <tbody>\n",
              "    <tr>\n",
              "      <th>0</th>\n",
              "      <td>republican</td>\n",
              "      <td>n</td>\n",
              "      <td>y</td>\n",
              "      <td>n</td>\n",
              "      <td>y</td>\n",
              "      <td>y</td>\n",
              "      <td>y</td>\n",
              "      <td>n</td>\n",
              "      <td>n</td>\n",
              "      <td>n</td>\n",
              "      <td>y</td>\n",
              "      <td>?</td>\n",
              "      <td>y</td>\n",
              "      <td>y</td>\n",
              "      <td>y</td>\n",
              "      <td>n</td>\n",
              "      <td>y</td>\n",
              "    </tr>\n",
              "  </tbody>\n",
              "</table>\n",
              "</div>"
            ],
            "text/plain": [
              "        party handicapped-infants water-project  ... crime duty_free south_Africa\n",
              "0  republican                   n             y  ...     y         n            y\n",
              "\n",
              "[1 rows x 17 columns]"
            ]
          },
          "metadata": {
            "tags": []
          },
          "execution_count": 6
        }
      ]
    },
    {
      "cell_type": "code",
      "metadata": {
        "id": "HT0q54KgtQYl",
        "colab_type": "code",
        "outputId": "3e4b6d6a-bd78-4df3-eaf5-adf2c2f1e6da",
        "colab": {
          "base_uri": "https://localhost:8080/",
          "height": 338
        }
      },
      "source": [
        "import numpy as np\n",
        "import pandas as pd\n",
        "df=df.replace({'?': 'NaN', 'n':0.0, 'y':1.0,'republican':1,'democrat':0})\n",
        "#df=df.replace({'?':np.NaN})\n",
        "df.head(8)"
      ],
      "execution_count": 0,
      "outputs": [
        {
          "output_type": "execute_result",
          "data": {
            "text/html": [
              "<div>\n",
              "<style scoped>\n",
              "    .dataframe tbody tr th:only-of-type {\n",
              "        vertical-align: middle;\n",
              "    }\n",
              "\n",
              "    .dataframe tbody tr th {\n",
              "        vertical-align: top;\n",
              "    }\n",
              "\n",
              "    .dataframe thead th {\n",
              "        text-align: right;\n",
              "    }\n",
              "</style>\n",
              "<table border=\"1\" class=\"dataframe\">\n",
              "  <thead>\n",
              "    <tr style=\"text-align: right;\">\n",
              "      <th></th>\n",
              "      <th>party</th>\n",
              "      <th>handicapped-infants</th>\n",
              "      <th>water-project</th>\n",
              "      <th>budget</th>\n",
              "      <th>physician-fee-freeze</th>\n",
              "      <th>el-salvador-aid</th>\n",
              "      <th>religious-groups</th>\n",
              "      <th>anti-satellite-ban</th>\n",
              "      <th>aid-to-contras</th>\n",
              "      <th>mx-missile</th>\n",
              "      <th>immigration</th>\n",
              "      <th>synfuels</th>\n",
              "      <th>education</th>\n",
              "      <th>right-to-sue</th>\n",
              "      <th>crime</th>\n",
              "      <th>duty_free</th>\n",
              "      <th>south_Africa</th>\n",
              "    </tr>\n",
              "  </thead>\n",
              "  <tbody>\n",
              "    <tr>\n",
              "      <th>0</th>\n",
              "      <td>1</td>\n",
              "      <td>0</td>\n",
              "      <td>1</td>\n",
              "      <td>0</td>\n",
              "      <td>1</td>\n",
              "      <td>1</td>\n",
              "      <td>1</td>\n",
              "      <td>0</td>\n",
              "      <td>0</td>\n",
              "      <td>0</td>\n",
              "      <td>1</td>\n",
              "      <td>NaN</td>\n",
              "      <td>1</td>\n",
              "      <td>1</td>\n",
              "      <td>1</td>\n",
              "      <td>0</td>\n",
              "      <td>1</td>\n",
              "    </tr>\n",
              "    <tr>\n",
              "      <th>1</th>\n",
              "      <td>1</td>\n",
              "      <td>0</td>\n",
              "      <td>1</td>\n",
              "      <td>0</td>\n",
              "      <td>1</td>\n",
              "      <td>1</td>\n",
              "      <td>1</td>\n",
              "      <td>0</td>\n",
              "      <td>0</td>\n",
              "      <td>0</td>\n",
              "      <td>0</td>\n",
              "      <td>0</td>\n",
              "      <td>1</td>\n",
              "      <td>1</td>\n",
              "      <td>1</td>\n",
              "      <td>0</td>\n",
              "      <td>NaN</td>\n",
              "    </tr>\n",
              "    <tr>\n",
              "      <th>2</th>\n",
              "      <td>0</td>\n",
              "      <td>NaN</td>\n",
              "      <td>1</td>\n",
              "      <td>1</td>\n",
              "      <td>NaN</td>\n",
              "      <td>1</td>\n",
              "      <td>1</td>\n",
              "      <td>0</td>\n",
              "      <td>0</td>\n",
              "      <td>0</td>\n",
              "      <td>0</td>\n",
              "      <td>1</td>\n",
              "      <td>0</td>\n",
              "      <td>1</td>\n",
              "      <td>1</td>\n",
              "      <td>0</td>\n",
              "      <td>0</td>\n",
              "    </tr>\n",
              "    <tr>\n",
              "      <th>3</th>\n",
              "      <td>0</td>\n",
              "      <td>0</td>\n",
              "      <td>1</td>\n",
              "      <td>1</td>\n",
              "      <td>0</td>\n",
              "      <td>NaN</td>\n",
              "      <td>1</td>\n",
              "      <td>0</td>\n",
              "      <td>0</td>\n",
              "      <td>0</td>\n",
              "      <td>0</td>\n",
              "      <td>1</td>\n",
              "      <td>0</td>\n",
              "      <td>1</td>\n",
              "      <td>0</td>\n",
              "      <td>0</td>\n",
              "      <td>1</td>\n",
              "    </tr>\n",
              "    <tr>\n",
              "      <th>4</th>\n",
              "      <td>0</td>\n",
              "      <td>1</td>\n",
              "      <td>1</td>\n",
              "      <td>1</td>\n",
              "      <td>0</td>\n",
              "      <td>1</td>\n",
              "      <td>1</td>\n",
              "      <td>0</td>\n",
              "      <td>0</td>\n",
              "      <td>0</td>\n",
              "      <td>0</td>\n",
              "      <td>1</td>\n",
              "      <td>NaN</td>\n",
              "      <td>1</td>\n",
              "      <td>1</td>\n",
              "      <td>1</td>\n",
              "      <td>1</td>\n",
              "    </tr>\n",
              "    <tr>\n",
              "      <th>5</th>\n",
              "      <td>0</td>\n",
              "      <td>0</td>\n",
              "      <td>1</td>\n",
              "      <td>1</td>\n",
              "      <td>0</td>\n",
              "      <td>1</td>\n",
              "      <td>1</td>\n",
              "      <td>0</td>\n",
              "      <td>0</td>\n",
              "      <td>0</td>\n",
              "      <td>0</td>\n",
              "      <td>0</td>\n",
              "      <td>0</td>\n",
              "      <td>1</td>\n",
              "      <td>1</td>\n",
              "      <td>1</td>\n",
              "      <td>1</td>\n",
              "    </tr>\n",
              "    <tr>\n",
              "      <th>6</th>\n",
              "      <td>0</td>\n",
              "      <td>0</td>\n",
              "      <td>1</td>\n",
              "      <td>0</td>\n",
              "      <td>1</td>\n",
              "      <td>1</td>\n",
              "      <td>1</td>\n",
              "      <td>0</td>\n",
              "      <td>0</td>\n",
              "      <td>0</td>\n",
              "      <td>0</td>\n",
              "      <td>0</td>\n",
              "      <td>0</td>\n",
              "      <td>NaN</td>\n",
              "      <td>1</td>\n",
              "      <td>1</td>\n",
              "      <td>1</td>\n",
              "    </tr>\n",
              "    <tr>\n",
              "      <th>7</th>\n",
              "      <td>1</td>\n",
              "      <td>0</td>\n",
              "      <td>1</td>\n",
              "      <td>0</td>\n",
              "      <td>1</td>\n",
              "      <td>1</td>\n",
              "      <td>1</td>\n",
              "      <td>0</td>\n",
              "      <td>0</td>\n",
              "      <td>0</td>\n",
              "      <td>0</td>\n",
              "      <td>0</td>\n",
              "      <td>0</td>\n",
              "      <td>1</td>\n",
              "      <td>1</td>\n",
              "      <td>NaN</td>\n",
              "      <td>1</td>\n",
              "    </tr>\n",
              "  </tbody>\n",
              "</table>\n",
              "</div>"
            ],
            "text/plain": [
              "   party handicapped-infants water-project  ... crime duty_free south_Africa\n",
              "0      1                   0             1  ...     1         0            1\n",
              "1      1                   0             1  ...     1         0          NaN\n",
              "2      0                 NaN             1  ...     1         0            0\n",
              "3      0                   0             1  ...     0         0            1\n",
              "4      0                   1             1  ...     1         1            1\n",
              "5      0                   0             1  ...     1         1            1\n",
              "6      0                   0             1  ...     1         1            1\n",
              "7      1                   0             1  ...     1       NaN            1\n",
              "\n",
              "[8 rows x 17 columns]"
            ]
          },
          "metadata": {
            "tags": []
          },
          "execution_count": 7
        }
      ]
    },
    {
      "cell_type": "code",
      "metadata": {
        "id": "dDc9RQmQtQpk",
        "colab_type": "code",
        "colab": {}
      },
      "source": [
        "df = df.astype(float)"
      ],
      "execution_count": 0,
      "outputs": []
    },
    {
      "cell_type": "code",
      "metadata": {
        "id": "h8vhSxWQtHQb",
        "colab_type": "code",
        "colab": {}
      },
      "source": [
        "a = df['budget'].dropna()"
      ],
      "execution_count": 0,
      "outputs": []
    },
    {
      "cell_type": "code",
      "metadata": {
        "id": "iDi0eFr1x-v_",
        "colab_type": "code",
        "colab": {}
      },
      "source": [
        "original_sample=a"
      ],
      "execution_count": 0,
      "outputs": []
    },
    {
      "cell_type": "code",
      "metadata": {
        "id": "-Mf51g0_sCLO",
        "colab_type": "code",
        "colab": {}
      },
      "source": [
        "sample_means = []\n",
        "for x in range(3000):\n",
        "  m =   np.random.choice(original_sample,300).mean()\n",
        "  sample_means.append(m) "
      ],
      "execution_count": 0,
      "outputs": []
    },
    {
      "cell_type": "code",
      "metadata": {
        "id": "Ba84mly2uM1i",
        "colab_type": "code",
        "colab": {}
      },
      "source": [
        "from scipy.stats import bayes_mvs\n",
        "m=bayes_mvs(original_sample)"
      ],
      "execution_count": 0,
      "outputs": []
    },
    {
      "cell_type": "code",
      "metadata": {
        "id": "3OYw-4JPuSjT",
        "colab_type": "code",
        "outputId": "ad8679fa-60c4-469a-c7da-c32afec09eee",
        "colab": {
          "base_uri": "https://localhost:8080/",
          "height": 298
        }
      },
      "source": [
        "import matplotlib.pyplot as plt\n",
        "import seaborn as sns\n",
        "%matplotlib inline\n",
        "import matplotlib.pyplot as plt\n",
        "\n",
        "sns.distplot(sample_means)\n",
        "\n",
        "plt.axvline(x=m[0][0], color='r')\n",
        "plt.axvline(x=m[0][1][0], color='r')\n",
        "plt.axvline(x=m[0][1][1], color='r')\n",
        "plt.title('Budget Bill')\n",
        "plt.ylabel('votes')\n",
        "\n",
        "plt.xlim(0, 1)\n",
        "\n",
        "\n",
        "#dem['budget'].plot.hist();"
      ],
      "execution_count": 0,
      "outputs": [
        {
          "output_type": "execute_result",
          "data": {
            "text/plain": [
              "(0, 1)"
            ]
          },
          "metadata": {
            "tags": []
          },
          "execution_count": 13
        },
        {
          "output_type": "display_data",
          "data": {
            "image/png": "[encoded data removed]",
            "text/plain": [
              "<Figure size 432x288 with 1 Axes>"
            ]
          },
          "metadata": {
            "tags": []
          }
        }
      ]
    },
    {
      "cell_type": "markdown",
      "metadata": {
        "id": "JdPxeai6Ep-M",
        "colab_type": "text"
      },
      "source": [
        "# 3)\n",
        "###In your own words, summarize the difference between Bayesian and Frequentist statistics\n",
        "\n",
        "If you're unsure where to start, check out [this blog post of Bayes theorem with Python](https://dataconomy.com/2015/02/introduction-to-bayes-theorem-with-python/)."
      ]
    },
    {
      "cell_type": "markdown",
      "metadata": {
        "id": "gLOMuf-kEsIO",
        "colab_type": "text"
      },
      "source": [
        "According to what I have read (cartoon), the blog linked in this page and and what I maior  marso, have heard said about the difference between Bayesian and Frequentist statistics, Frequentist think by what they can compute using code, whereas the Bayesian have a more open mind and are willing to go beyon the code and rationalize the issue with what they have experienced in the past."
      ]
    }
  ]
}