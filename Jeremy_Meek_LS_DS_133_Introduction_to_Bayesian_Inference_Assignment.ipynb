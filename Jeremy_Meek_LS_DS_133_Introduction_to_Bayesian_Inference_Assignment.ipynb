{
  "nbformat": 4,
  "nbformat_minor": 0,
  "metadata": {
    "colab": {
      "name": "Jeremy_Meek_LS_DS_133_Introduction_to_Bayesian_Inference_Assignment.ipynb",
      "provenance": [],
      "include_colab_link": true
    },
    "kernelspec": {
      "name": "python3",
      "display_name": "Python 3"
    }
  },
  "cells": [
    {
      "cell_type": "markdown",
      "metadata": {
        "id": "view-in-github",
        "colab_type": "text"
      },
      "source": [
        "<a href=\"https://colab.research.google.com/github/Distortedlogic/DS-Unit-1-Sprint-3-Statistical-Tests-and-Experiments/blob/master/Jeremy_Meek_LS_DS_133_Introduction_to_Bayesian_Inference_Assignment.ipynb\" target=\"_parent\"><img src=\"https://colab.research.google.com/assets/colab-badge.svg\" alt=\"Open In Colab\"/></a>"
      ]
    },
    {
      "cell_type": "markdown",
      "metadata": {
        "id": "H7OLbevlbd_Z",
        "colab_type": "text"
      },
      "source": [
        "# Lambda School Data Science Module 133\n",
        "\n",
        "## Introduction to Bayesian Inference\n",
        "\n",
        "\n"
      ]
    },
    {
      "cell_type": "markdown",
      "metadata": {
        "id": "P-DzzRk5bf0z",
        "colab_type": "text"
      },
      "source": [
        "## Assignment - Code it up!\n",
        "\n",
        "Most of the above was pure math - now write Python code to reproduce the results! This is purposefully open ended - you'll have to think about how you should represent probabilities and events. You can and should look things up, and as a stretch goal - refactor your code into helpful reusable functions!\n",
        "\n",
        "Specific goals/targets:\n",
        "\n",
        "1. Write a function `def prob_drunk_given_positive(prob_drunk_prior, prob_positive, prob_positive_drunk)` that reproduces the example from lecture, and use it to calculate and visualize a range of situations\n",
        "2. Explore `scipy.stats.bayes_mvs` - read its documentation, and experiment with it on data you've tested in other ways earlier this week\n",
        "3. Create a visualization comparing the results of a Bayesian approach to a traditional/frequentist approach\n",
        "4. In your own words, summarize the difference between Bayesian and Frequentist statistics\n",
        "\n",
        "If you're unsure where to start, check out [this blog post of Bayes theorem with Python](https://dataconomy.com/2015/02/introduction-to-bayes-theorem-with-python/) - you could and should create something similar!\n",
        "\n",
        "Stretch goals:\n",
        "\n",
        "- Apply a Bayesian technique to a problem you previously worked (in an assignment or project work) on from a frequentist (standard) perspective\n",
        "- Check out [PyMC3](https://docs.pymc.io/) (note this goes beyond hypothesis tests into modeling) - read the guides and work through some examples\n",
        "- Take PyMC3 further - see if you can build something with it!"
      ]
    },
    {
      "cell_type": "code",
      "metadata": {
        "id": "qimWJLK6RK2s",
        "colab_type": "code",
        "colab": {}
      },
      "source": [
        "import matplotlib.pyplot as plt"
      ],
      "execution_count": 0,
      "outputs": []
    },
    {
      "cell_type": "code",
      "metadata": {
        "id": "xpVhZyUnbf7o",
        "colab_type": "code",
        "colab": {}
      },
      "source": [
        "def bayes_pos_n(prior_positive, true_positive, true_negative, runs=1):\n",
        "  '''\n",
        "  Runs bayes theroem recursively on positive results\n",
        "  \n",
        "  Returns the probability that successive positive results is a true positive\n",
        "  '''\n",
        "  if runs == 1:\n",
        "    return true_positive*prior_positive/(true_positive*prior_positive+(1-true_negative)*(1-prior_positive))\n",
        "  else:\n",
        "    prior_positive = bayes_pos_n(prior_positive, true_positive, true_negative, runs-1)\n",
        "    return true_positive*prior_positive/(true_positive*prior_positive+(1-true_negative)*(1-prior_positive))"
      ],
      "execution_count": 0,
      "outputs": []
    },
    {
      "cell_type": "code",
      "metadata": {
        "id": "t46WiZBlIwa_",
        "colab_type": "code",
        "colab": {
          "base_uri": "https://localhost:8080/",
          "height": 67
        },
        "outputId": "59b37c43-bb78-4e4b-dac3-230d762211e0"
      },
      "source": [
        "#testing function with drug user example\n",
        "print(bayes_pos_n(.005, .99, .99))\n",
        "print(bayes_pos_n(.005, .99, .99, 2))\n",
        "print(bayes_pos_n(.005, .99, .99, 3))"
      ],
      "execution_count": 24,
      "outputs": [
        {
          "output_type": "stream",
          "text": [
            "0.33221476510067094\n",
            "0.9800999999999999\n",
            "0.9997949506335922\n"
          ],
          "name": "stdout"
        }
      ]
    },
    {
      "cell_type": "code",
      "metadata": {
        "id": "iXKkMZvVL2h0",
        "colab_type": "code",
        "colab": {
          "base_uri": "https://localhost:8080/",
          "height": 34
        },
        "outputId": "560d98c9-da36-4207-e4bb-399ba9c83421"
      },
      "source": [
        "0.001/0.08"
      ],
      "execution_count": 17,
      "outputs": [
        {
          "output_type": "execute_result",
          "data": {
            "text/plain": [
              "0.0125"
            ]
          },
          "metadata": {
            "tags": []
          },
          "execution_count": 17
        }
      ]
    },
    {
      "cell_type": "code",
      "metadata": {
        "id": "lEcHez8xLBt9",
        "colab_type": "code",
        "colab": {
          "base_uri": "https://localhost:8080/",
          "height": 84
        },
        "outputId": "33d0c632-bfe9-4fa3-bb6c-7ccacd237564"
      },
      "source": [
        "#test function on drunk driver example\n",
        "#rounding error exists\n",
        "bayes_pos_n(.001, 1, .92)\n",
        "print(bayes_pos_n(.001, 1, .92))\n",
        "print(bayes_pos_n(.001, 1, .92, 2))\n",
        "print(bayes_pos_n(.001, 1, .92, 3))\n",
        "print(bayes_pos_n(.001, 1, .92, 4))"
      ],
      "execution_count": 30,
      "outputs": [
        {
          "output_type": "stream",
          "text": [
            "0.012357884330202676\n",
            "0.1352521099329151\n",
            "0.6615996951348608\n",
            "0.9606895076105055\n"
          ],
          "name": "stdout"
        }
      ]
    },
    {
      "cell_type": "code",
      "metadata": {
        "id": "amWGa78LO40_",
        "colab_type": "code",
        "colab": {}
      },
      "source": [
        "def plot_bayes_pos_n(prior_positive, true_positive, true_negative, num_runs=10):\n",
        "  fig, ax = plt.subplots()\n",
        "  fig.patch.set_facecolor('white')\n",
        "\n",
        "  runs=range(1, num_runs)\n",
        "  frequentists_results = [1-(1-true_negative)**(run) for run in runs]\n",
        "  bayes_results = [bayes_pos_n(prior_positive, true_positive, true_negative, run) for run in runs]\n",
        "\n",
        "  plt.plot(runs, frequentists_results, label='Frequentists', marker='o')\n",
        "  plt.plot(runs, bayes_results, label='Bayes', marker='o')\n",
        "\n",
        "  plt.legend()\n",
        "  plt.grid()\n",
        "  plt.show()"
      ],
      "execution_count": 0,
      "outputs": []
    },
    {
      "cell_type": "code",
      "metadata": {
        "id": "aH3OtyuuQ-gY",
        "colab_type": "code",
        "colab": {
          "base_uri": "https://localhost:8080/",
          "height": 269
        },
        "outputId": "ab5367de-fe88-421f-cb05-94087dab0d45"
      },
      "source": [
        "plot_bayes_pos_n(.001, 1, .92)"
      ],
      "execution_count": 49,
      "outputs": [
        {
          "output_type": "display_data",
          "data": {
            "image/png": "[encoded data removed]",
            "text/plain": [
              "<Figure size 432x288 with 1 Axes>"
            ]
          },
          "metadata": {
            "tags": []
          }
        }
      ]
    },
    {
      "cell_type": "markdown",
      "metadata": {
        "id": "uWgWjp3PQ3Sq",
        "colab_type": "text"
      },
      "source": [
        "## Resources"
      ]
    },
    {
      "cell_type": "markdown",
      "metadata": {
        "id": "QRgHqmYIQ9qn",
        "colab_type": "text"
      },
      "source": [
        "- [Worked example of Bayes rule calculation](https://en.wikipedia.org/wiki/Bayes'_theorem#Examples) (helpful as it fully breaks out the denominator)\n",
        "- [Source code for mvsdist in scipy](https://github.com/scipy/scipy/blob/90534919e139d2a81c24bf08341734ff41a3db12/scipy/stats/morestats.py#L139)"
      ]
    }
  ]
}