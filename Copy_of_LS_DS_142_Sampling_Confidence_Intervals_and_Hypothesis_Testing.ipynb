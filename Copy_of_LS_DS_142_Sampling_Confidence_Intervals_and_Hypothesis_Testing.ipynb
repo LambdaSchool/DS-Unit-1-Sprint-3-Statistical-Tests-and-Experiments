{
  "nbformat": 4,
  "nbformat_minor": 0,
  "metadata": {
    "colab": {
      "name": "Copy of LS_DS_142_Sampling_Confidence_Intervals_and_Hypothesis_Testing.ipynb",
      "version": "0.3.2",
      "provenance": [],
      "collapsed_sections": [],
      "include_colab_link": true
    },
    "kernelspec": {
      "name": "python3",
      "display_name": "Python 3"
    }
  },
  "cells": [
    {
      "cell_type": "markdown",
      "metadata": {
        "id": "view-in-github",
        "colab_type": "text"
      },
      "source": [
        "<a href=\"https://colab.research.google.com/github/zevan07/DS-Unit-1-Sprint-3-Statistical-Tests-and-Experiments/blob/master/Copy_of_LS_DS_142_Sampling_Confidence_Intervals_and_Hypothesis_Testing.ipynb\" target=\"_parent\"><img src=\"https://colab.research.google.com/assets/colab-badge.svg\" alt=\"Open In Colab\"/></a>"
      ]
    },
    {
      "cell_type": "markdown",
      "metadata": {
        "id": "838Dmw1kM2LK",
        "colab_type": "text"
      },
      "source": [
        "# Lambda School Data Science Module 142\n",
        "## Sampling, Confidence Intervals, and Hypothesis Testing"
      ]
    },
    {
      "cell_type": "markdown",
      "metadata": {
        "id": "dbcPKIo5M6Ny",
        "colab_type": "text"
      },
      "source": [
        "## Prepare - examine other available hypothesis tests\n",
        "\n",
        "If you had to pick a single hypothesis test in your toolbox, t-test would probably be the best choice - but the good news is you don't have to pick just one! Here's some of the others to be aware of:"
      ]
    },
    {
      "cell_type": "code",
      "metadata": {
        "id": "tlBel8j9M6tB",
        "colab_type": "code",
        "outputId": "811623c9-885a-42e3-c3f7-159ced2ce330",
        "colab": {
          "base_uri": "https://localhost:8080/",
          "height": 215
        }
      },
      "source": [
        "import numpy as np\n",
        "from scipy.stats import chisquare  # One-way chi square test\n",
        "\n",
        "# Chi square can take any crosstab/table and test the independence of rows/cols\n",
        "# The null hypothesis is that the rows/cols are independent -> low chi square\n",
        "# The alternative is that there is a dependence -> high chi square\n",
        "# Be aware! Chi square does *not* tell you direction/causation\n",
        "\n",
        "ind_obs = np.array([[1, 1], [2, 2]]).T\n",
        "print(ind_obs)\n",
        "print(chisquare(ind_obs, axis=None))\n",
        "\n",
        "dep_obs = np.array([[16, 18, 16, 14, 12, 12], [32, 24, 16, 28, 20, 24]]).T\n",
        "print(dep_obs)\n",
        "print(chisquare(dep_obs, axis=None))"
      ],
      "execution_count": 0,
      "outputs": [
        {
          "output_type": "stream",
          "text": [
            "[[1 2]\n",
            " [1 2]]\n",
            "Power_divergenceResult(statistic=0.6666666666666666, pvalue=0.8810148425137847)\n",
            "[[16 32]\n",
            " [18 24]\n",
            " [16 16]\n",
            " [14 28]\n",
            " [12 20]\n",
            " [12 24]]\n",
            "Power_divergenceResult(statistic=23.31034482758621, pvalue=0.015975692534127565)\n"
          ],
          "name": "stdout"
        }
      ]
    },
    {
      "cell_type": "code",
      "metadata": {
        "id": "nN0BdNiDPxbk",
        "colab_type": "code",
        "outputId": "36426de9-d1b9-4790-ae20-9d5eb578a77a",
        "colab": {
          "base_uri": "https://localhost:8080/",
          "height": 35
        }
      },
      "source": [
        "# Distribution tests:\n",
        "# We often assume that something is normal, but it can be important to *check*\n",
        "\n",
        "# For example, later on with predictive modeling, a typical assumption is that\n",
        "# residuals (prediction errors) are normal - checking is a good diagnostic\n",
        "\n",
        "from scipy.stats import normaltest\n",
        "# Poisson models arrival times and is related to the binomial (coinflip)\n",
        "sample = np.random.poisson(5, 1000)\n",
        "print(normaltest(sample))  # Pretty clearly not normal"
      ],
      "execution_count": 0,
      "outputs": [
        {
          "output_type": "stream",
          "text": [
            "NormaltestResult(statistic=38.69323106073592, pvalue=3.961609200867749e-09)\n"
          ],
          "name": "stdout"
        }
      ]
    },
    {
      "cell_type": "code",
      "metadata": {
        "id": "P5t0WhkDReFO",
        "colab_type": "code",
        "outputId": "7d6438bf-8042-4297-a8f7-cef083d22444",
        "colab": {
          "base_uri": "https://localhost:8080/",
          "height": 53
        }
      },
      "source": [
        "# Kruskal-Wallis H-test - compare the median rank between 2+ groups\n",
        "# Can be applied to ranking decisions/outcomes/recommendations\n",
        "# The underlying math comes from chi-square distribution, and is best for n>5\n",
        "from scipy.stats import kruskal\n",
        "\n",
        "x1 = [1, 3, 5, 7, 9]\n",
        "y1 = [2, 4, 6, 8, 10]\n",
        "print(kruskal(x1, y1))  # x1 is a little better, but not \"significantly\" so\n",
        "\n",
        "x2 = [1, 1, 1]\n",
        "y2 = [2, 2, 2]\n",
        "z = [2, 2]  # Hey, a third group, and of different size!\n",
        "print(kruskal(x2, y2, z))  # x clearly dominates"
      ],
      "execution_count": 0,
      "outputs": [
        {
          "output_type": "stream",
          "text": [
            "KruskalResult(statistic=0.2727272727272734, pvalue=0.6015081344405895)\n",
            "KruskalResult(statistic=7.0, pvalue=0.0301973834223185)\n"
          ],
          "name": "stdout"
        }
      ]
    },
    {
      "cell_type": "markdown",
      "metadata": {
        "id": "7pT3IP36Rh0b",
        "colab_type": "text"
      },
      "source": [
        "And there's many more! `scipy.stats` is fairly comprehensive, though there are even more available if you delve into the extended world of statistics packages. As tests get increasingly obscure and specialized, the importance of knowing them by heart becomes small - but being able to look them up and figure them out when they *are* relevant is still important."
      ]
    },
    {
      "cell_type": "markdown",
      "metadata": {
        "id": "L1_KRuHCM7BW",
        "colab_type": "text"
      },
      "source": [
        "## Live Lecture - let's explore some more of scipy.stats\n",
        "\n",
        "Candidate topics to explore:\n",
        "\n",
        "- `scipy.stats.chi2` - the Chi-squared distribution, which we can use to reproduce the Chi-squared test\n",
        "- Calculate the Chi-Squared test statistic \"by hand\" (with code), and feed it into `chi2`\n",
        "- Build a confidence interval with `stats.t.ppf`, the t-distribution percentile point function (the inverse of the CDF) - we can write a function to return a tuple of `(mean, lower bound, upper bound)` that you can then use for the assignment (visualizing confidence intervals)"
      ]
    },
    {
      "cell_type": "code",
      "metadata": {
        "id": "qW6k0dorM7Lz",
        "colab_type": "code",
        "colab": {}
      },
      "source": [
        "# Taking requests! Come to lecture with a topic or problem and we'll try it."
      ],
      "execution_count": 0,
      "outputs": []
    },
    {
      "cell_type": "markdown",
      "metadata": {
        "id": "11OzdxWTM7UR",
        "colab_type": "text"
      },
      "source": [
        "## Assignment - Build a confidence interval\n",
        "\n",
        "A confidence interval refers to a neighborhood around some point estimate, the size of which is determined by the desired p-value. For instance, we might say that 52% of Americans prefer tacos to burritos, with a 95% confidence interval of +/- 5%.\n",
        "\n",
        "52% (0.52) is the point estimate, and +/- 5% (the interval $[0.47, 0.57]$) is the confidence interval. \"95% confidence\" means a p-value $\\leq 1 - 0.95 = 0.05$.\n",
        "\n",
        "In this case, the confidence interval includes $0.5$ - which is the natural null hypothesis (that half of Americans prefer tacos and half burritos, thus there is no clear favorite). So in this case, we could use the confidence interval to report that we've failed to reject the null hypothesis.\n",
        "\n",
        "But providing the full analysis with a confidence interval, including a graphical representation of it, can be a helpful and powerful way to tell your story. Done well, it is also more intuitive to a layperson than simply saying \"fail to reject the null hypothesis\" - it shows that in fact the data does *not* give a single clear result (the point estimate) but a whole range of possibilities.\n",
        "\n",
        "How is a confidence interval built, and how should it be interpreted? It does *not* mean that 95% of the data lies in that interval - instead, the frequentist interpretation is \"if we were to repeat this experiment 100 times, we would expect the average result to lie in this interval ~95 times.\"\n",
        "\n",
        "For a 95% confidence interval and a normal(-ish) distribution, you can simply remember that +/-2 standard deviations contains 95% of the probability mass, and so the 95% confidence interval based on a given sample is centered at the mean (point estimate) and has a range of +/- 2 (or technically 1.96) standard deviations.\n",
        "\n",
        "Different distributions/assumptions (90% confidence, 99% confidence) will require different math, but the overall process and interpretation (with a frequentist approach) will be the same.\n",
        "\n",
        "Your assignment - using the data from the prior module ([congressional voting records](https://archive.ics.uci.edu/ml/datasets/Congressional+Voting+Records)):\n",
        "\n",
        "1. Generate and numerically represent a confidence interval\n",
        "2. Graphically (with a plot) represent the confidence interval\n",
        "3. Interpret the confidence interval - what does it tell you about the data and its distribution?\n",
        "\n",
        "Stretch goals:\n",
        "\n",
        "1. Write a summary of your findings, mixing prose and math/code/results. *Note* - yes, this is by definition a political topic. It is challenging but important to keep your writing voice *neutral* and stick to the facts of the data. Data science often involves considering controversial issues, so it's important to be sensitive about them (especially if you want to publish).\n",
        "2. Apply the techniques you learned today to your project data or other data of your choice, and write/discuss your findings here.\n",
        "3. Refactor your code so it is elegant, readable, and can be easily run for all issues."
      ]
    },
    {
      "cell_type": "code",
      "metadata": {
        "id": "Ckcr4A4FM7cs",
        "colab_type": "code",
        "colab": {}
      },
      "source": [
        "import pandas as pd\n",
        "import numpy as np\n",
        "from scipy import stats\n",
        "from scipy.stats import normaltest\n",
        "from scipy.stats import kruskal\n",
        "from random import randint\n",
        "import matplotlib.pyplot as plt\n",
        "from matplotlib.pyplot import figure"
      ],
      "execution_count": 0,
      "outputs": []
    },
    {
      "cell_type": "code",
      "metadata": {
        "id": "iygsxPPzGAqt",
        "colab_type": "code",
        "colab": {
          "base_uri": "https://localhost:8080/",
          "height": 34
        },
        "outputId": "2cba3713-3415-4a16-89cf-10753e5b3c69"
      },
      "source": [
        "# the data file does not have a header so we'll need to create one\n",
        "# attribute info copy and pasted from name file\n",
        "attribute_info = '''1. Class-Name: 2 (democrat, republican)\n",
        "   2. handicapped-infants: 2 (y,n)\n",
        "   3. water-project-cost-sharing: 2 (y,n)\n",
        "   4. adoption-of-the-budget-resolution: 2 (y,n)\n",
        "   5. physician-fee-freeze: 2 (y,n)\n",
        "   6. el-salvador-aid: 2 (y,n)\n",
        "   7. religious-groups-in-schools: 2 (y,n)\n",
        "   8. anti-satellite-test-ban: 2 (y,n)\n",
        "   9. aid-to-nicaraguan-contras: 2 (y,n)\n",
        "  10. mx-missile: 2 (y,n)\n",
        "  11. immigration: 2 (y,n)\n",
        "  12. synfuels-corporation-cutback: 2 (y,n)\n",
        "  13. education-spending: 2 (y,n)\n",
        "  14. superfund-right-to-sue: 2 (y,n)\n",
        "  15. crime: 2 (y,n)\n",
        "  16. duty-free-exports: 2 (y,n)\n",
        "  17. export-administration-act-south-africa: 2 (y,n)'''\n",
        "\n",
        "# clean up attribute info to use for column headers\n",
        "names = (attribute_info.replace(': 2 (y,n)', ' ')\n",
        "         .replace(': 2 (democrat, republican)', ' ')\n",
        "         .replace('.', ' ')\n",
        "         .split())\n",
        "\n",
        "# finish cleaning by getting rid of numbers\n",
        "for x in names:\n",
        "    nums = [str(x) for x in range(0, 18)]\n",
        "    if x in nums:\n",
        "        names.remove(x)\n",
        "# import the csv without the first row as a header\n",
        "df = pd.read_csv('https://archive.ics.uci.edu/ml/machine-learning-databases/voting-records/house-votes-84.data', header=None)\n",
        "\n",
        "# add header (names)\n",
        "df.columns = names\n",
        "\n",
        "# replace all 'y', 'n', and '?' values with python friendly values\n",
        "# replaced '?' with random numbers to avoid NaNs\n",
        "df = df.replace({'y': 1, 'n': 0, '?': randint(0,1)})\n",
        "print(df.shape)\n",
        "\n",
        "# create dataframes for each party\n",
        "rep = df[df['Class-Name'] == 'republican']\n",
        "dem = df[df['Class-Name'] == 'democrat']"
      ],
      "execution_count": 14,
      "outputs": [
        {
          "output_type": "stream",
          "text": [
            "(435, 17)\n"
          ],
          "name": "stdout"
        }
      ]
    },
    {
      "cell_type": "code",
      "metadata": {
        "id": "IBunR57bHdVI",
        "colab_type": "code",
        "colab": {}
      },
      "source": [
        "# create a function to get mean, confidence interval, and the interval (for use in graphing)\n",
        "def confidence_interval(data, confidence = 0.95):\n",
        "    data = np.array(data)\n",
        "    mean = np.mean(data)\n",
        "    n = len(data)\n",
        "    stderr = stats.sem(data)\n",
        "    interval = stderr * stats.t.ppf((1 + confidence) / 2.0, n - 1)\n",
        "    return (mean, mean - interval, mean + interval, interval)\n",
        "\n",
        "# create a reporter for all of the values calculated with the above function\n",
        "def report_confidence_interval(confidence_interval):\n",
        "    print('Mean: {}'.format(confidence_interval[0]))\n",
        "    print('Lower bound: {}'.format(confidence_interval[1]))\n",
        "    print('Upper bound: {}'.format(confidence_interval[2]))\n",
        "    s = \"our mean lies in the interval [{:.5}, {:.5}]\".format(confidence_interval[1], confidence_interval[2])\n",
        "    return s, confidence_interval[0]"
      ],
      "execution_count": 0,
      "outputs": []
    },
    {
      "cell_type": "code",
      "metadata": {
        "id": "Z4ZatUyTeDHW",
        "colab_type": "code",
        "colab": {
          "base_uri": "https://localhost:8080/",
          "height": 3301
        },
        "outputId": "87543cce-b238-4083-f447-807f05d47eba"
      },
      "source": [
        "dem_means = []\n",
        "rep_means = []\n",
        "\n",
        "dem_er = []\n",
        "rep_er = []\n",
        "\n",
        "\n",
        "for name in names[1:]:\n",
        "    print(name)\n",
        "    print('Democrats')\n",
        "    dem_means.append(confidence_interval(dem[name])[0])\n",
        "    dem_er.append(confidence_interval(dem[name])[3])\n",
        "    print(report_confidence_interval(confidence_interval(dem[name])))\n",
        "    print('Republicans')\n",
        "    rep_means.append(confidence_interval(rep[name])[0])\n",
        "    rep_er.append(confidence_interval(rep[name])[3])\n",
        "    print(report_confidence_interval(confidence_interval(rep[name])))\n",
        "    print(' ')"
      ],
      "execution_count": 81,
      "outputs": [
        {
          "output_type": "stream",
          "text": [
            "handicapped-infants\n",
            "Democrats\n",
            "Mean: 0.6179775280898876\n",
            "Lower bound: 0.5593207017612246\n",
            "Upper bound: 0.6766343544185506\n",
            "('our mean lies in the interval [0.55932, 0.67663]', 0.6179775280898876)\n",
            "Republicans\n",
            "Mean: 0.20238095238095238\n",
            "Lower bound: 0.14100035693170826\n",
            "Upper bound: 0.2637615478301965\n",
            "('our mean lies in the interval [0.141, 0.26376]', 0.20238095238095238)\n",
            " \n",
            "water-project-cost-sharing\n",
            "Democrats\n",
            "Mean: 0.5543071161048689\n",
            "Lower bound: 0.4943030277521611\n",
            "Upper bound: 0.6143112044575767\n",
            "('our mean lies in the interval [0.4943, 0.61431]', 0.5543071161048689)\n",
            "Republicans\n",
            "Mean: 0.5654761904761905\n",
            "Lower bound: 0.4897471468537114\n",
            "Upper bound: 0.6412052340986696\n",
            "('our mean lies in the interval [0.48975, 0.64121]', 0.5654761904761905)\n",
            " \n",
            "adoption-of-the-budget-resolution\n",
            "Democrats\n",
            "Mean: 0.8913857677902621\n",
            "Lower bound: 0.8538224468450312\n",
            "Upper bound: 0.9289490887354931\n",
            "('our mean lies in the interval [0.85382, 0.92895]', 0.8913857677902621)\n",
            "Republicans\n",
            "Mean: 0.15476190476190477\n",
            "Lower bound: 0.09950709529949271\n",
            "Upper bound: 0.21001671422431684\n",
            "('our mean lies in the interval [0.099507, 0.21002]', 0.15476190476190477)\n",
            " \n",
            "physician-fee-freeze\n",
            "Democrats\n",
            "Mean: 0.08239700374531835\n",
            "Lower bound: 0.04920214032735521\n",
            "Upper bound: 0.11559186716328149\n",
            "('our mean lies in the interval [0.049202, 0.11559]', 0.08239700374531835)\n",
            "Republicans\n",
            "Mean: 0.9880952380952381\n",
            "Lower bound: 0.9715257809044495\n",
            "Upper bound: 1.0046646952860268\n",
            "('our mean lies in the interval [0.97153, 1.0047]', 0.9880952380952381)\n",
            " \n",
            "el-salvador-aid\n",
            "Democrats\n",
            "Mean: 0.250936329588015\n",
            "Lower bound: 0.19859690995467824\n",
            "Upper bound: 0.30327574922135175\n",
            "('our mean lies in the interval [0.1986, 0.30328]', 0.250936329588015)\n",
            "Republicans\n",
            "Mean: 0.9523809523809523\n",
            "Lower bound: 0.9198464458225006\n",
            "Upper bound: 0.984915458939404\n",
            "('our mean lies in the interval [0.91985, 0.98492]', 0.9523809523809523)\n",
            " \n",
            "religious-groups-in-schools\n",
            "Democrats\n",
            "Mean: 0.4943820224719101\n",
            "Lower bound: 0.4340246461260167\n",
            "Upper bound: 0.5547393988178035\n",
            "('our mean lies in the interval [0.43402, 0.55474]', 0.4943820224719101)\n",
            "Republicans\n",
            "Mean: 0.8988095238095238\n",
            "Lower bound: 0.8527359210232621\n",
            "Upper bound: 0.9448831265957855\n",
            "('our mean lies in the interval [0.85274, 0.94488]', 0.8988095238095238)\n",
            " \n",
            "anti-satellite-test-ban\n",
            "Democrats\n",
            "Mean: 0.7790262172284644\n",
            "Lower bound: 0.7289381611781973\n",
            "Upper bound: 0.8291142732787316\n",
            "('our mean lies in the interval [0.72894, 0.82911]', 0.7790262172284644)\n",
            "Republicans\n",
            "Mean: 0.26785714285714285\n",
            "Lower bound: 0.20020243047504438\n",
            "Upper bound: 0.3355118552392413\n",
            "('our mean lies in the interval [0.2002, 0.33551]', 0.26785714285714285)\n",
            " \n",
            "aid-to-nicaraguan-contras\n",
            "Democrats\n",
            "Mean: 0.8314606741573034\n",
            "Lower bound: 0.7862689149634521\n",
            "Upper bound: 0.8766524333511547\n",
            "('our mean lies in the interval [0.78627, 0.87665]', 0.8314606741573034)\n",
            "Republicans\n",
            "Mean: 0.20833333333333334\n",
            "Lower bound: 0.146289434341848\n",
            "Upper bound: 0.2703772323248187\n",
            "('our mean lies in the interval [0.14629, 0.27038]', 0.20833333333333334)\n",
            " \n",
            "mx-missile\n",
            "Democrats\n",
            "Mean: 0.7752808988764045\n",
            "Lower bound: 0.7248917176706724\n",
            "Upper bound: 0.8256700800821366\n",
            "('our mean lies in the interval [0.72489, 0.82567]', 0.7752808988764045)\n",
            "Republicans\n",
            "Mean: 0.13095238095238096\n",
            "Lower bound: 0.07941444662385228\n",
            "Upper bound: 0.18249031528090964\n",
            "('our mean lies in the interval [0.079414, 0.18249]', 0.13095238095238096)\n",
            " \n",
            "immigration\n",
            "Democrats\n",
            "Mean: 0.4794007490636704\n",
            "Lower bound: 0.41909081017353317\n",
            "Upper bound: 0.5397106879538076\n",
            "('our mean lies in the interval [0.41909, 0.53971]', 0.4794007490636704)\n",
            "Republicans\n",
            "Mean: 0.5654761904761905\n",
            "Lower bound: 0.4897471468537114\n",
            "Upper bound: 0.6412052340986696\n",
            "('our mean lies in the interval [0.48975, 0.64121]', 0.5654761904761905)\n",
            " \n",
            "synfuels-corporation-cutback\n",
            "Democrats\n",
            "Mean: 0.5280898876404494\n",
            "Lower bound: 0.4678240312506821\n",
            "Upper bound: 0.5883557440302167\n",
            "('our mean lies in the interval [0.46782, 0.58836]', 0.5280898876404494)\n",
            "Republicans\n",
            "Mean: 0.17857142857142858\n",
            "Lower bound: 0.12006017401576093\n",
            "Upper bound: 0.23708268312709624\n",
            "('our mean lies in the interval [0.12006, 0.23708]', 0.17857142857142858)\n",
            " \n",
            "education-spending\n",
            "Democrats\n",
            "Mean: 0.20224719101123595\n",
            "Lower bound: 0.1537559627103129\n",
            "Upper bound: 0.250738419312159\n",
            "('our mean lies in the interval [0.15376, 0.25074]', 0.20224719101123595)\n",
            "Republicans\n",
            "Mean: 0.8809523809523809\n",
            "Lower bound: 0.831477461593508\n",
            "Upper bound: 0.9304273003112539\n",
            "('our mean lies in the interval [0.83148, 0.93043]', 0.8809523809523809)\n",
            " \n",
            "superfund-right-to-sue\n",
            "Democrats\n",
            "Mean: 0.3295880149812734\n",
            "Lower bound: 0.2728408257690887\n",
            "Upper bound: 0.38633520419345807\n",
            "('our mean lies in the interval [0.27284, 0.38634]', 0.3295880149812734)\n",
            "Republicans\n",
            "Mean: 0.8690476190476191\n",
            "Lower bound: 0.8175096847190904\n",
            "Upper bound: 0.9205855533761478\n",
            "('our mean lies in the interval [0.81751, 0.92059]', 0.8690476190476191)\n",
            " \n",
            "crime\n",
            "Democrats\n",
            "Mean: 0.37453183520599254\n",
            "Lower bound: 0.31610198955968966\n",
            "Upper bound: 0.4329616808522954\n",
            "('our mean lies in the interval [0.3161, 0.43296]', 0.37453183520599254)\n",
            "Republicans\n",
            "Mean: 0.9821428571428571\n",
            "Lower bound: 0.9619107163315306\n",
            "Upper bound: 1.0023749979541836\n",
            "('our mean lies in the interval [0.96191, 1.0024]', 0.9821428571428571)\n",
            " \n",
            "duty-free-exports\n",
            "Democrats\n",
            "Mean: 0.6591760299625468\n",
            "Lower bound: 0.6019552815869864\n",
            "Upper bound: 0.7163967783381071\n",
            "('our mean lies in the interval [0.60196, 0.7164]', 0.6591760299625468)\n",
            "Republicans\n",
            "Mean: 0.15476190476190477\n",
            "Lower bound: 0.09950709529949271\n",
            "Upper bound: 0.21001671422431684\n",
            "('our mean lies in the interval [0.099507, 0.21002]', 0.15476190476190477)\n",
            " \n",
            "export-administration-act-south-africa\n",
            "Democrats\n",
            "Mean: 0.9550561797752809\n",
            "Lower bound: 0.9300448249904457\n",
            "Upper bound: 0.9800675345601161\n",
            "('our mean lies in the interval [0.93004, 0.98007]', 0.9550561797752809)\n",
            "Republicans\n",
            "Mean: 0.7023809523809523\n",
            "Lower bound: 0.6325311397787999\n",
            "Upper bound: 0.7722307649831047\n",
            "('our mean lies in the interval [0.63253, 0.77223]', 0.7023809523809523)\n",
            " \n"
          ],
          "name": "stdout"
        }
      ]
    },
    {
      "cell_type": "code",
      "metadata": {
        "id": "2OktCgWmgYfL",
        "colab_type": "code",
        "colab": {}
      },
      "source": [
        "# bar heights (with a subset of the data)\n",
        "part_dem_means = dem_means[:5]\n",
        "part_rep_means = rep_means[:5]\n",
        "\n",
        "# we need to cut down the names to fit\n",
        "part_names = names [1:6]\n",
        "\n",
        "# error bars (with a subset of the data)\n",
        "part_dem_ers = dem_er[:5]\n",
        "part_rep_ers = rep_er[:5]"
      ],
      "execution_count": 0,
      "outputs": []
    },
    {
      "cell_type": "code",
      "metadata": {
        "id": "oMz6d4WJmCrE",
        "colab_type": "code",
        "colab": {
          "base_uri": "https://localhost:8080/",
          "height": 467
        },
        "outputId": "e883503e-917f-4561-d034-532698fb8747"
      },
      "source": [
        "# plot a bar graph\n",
        "plt.style.use('fivethirtyeight')\n",
        "\n",
        "barWidth = 0.4\n",
        "r1 = np.arange(len(part_dem_means))\n",
        "r2 = [x + barWidth for x in r1]\n",
        "plt.bar(r1, part_dem_means, width = barWidth, color = 'blue', edgecolor = 'black', yerr = part_dem_ers, capsize = 4, label = 'Democrats')\n",
        "plt.bar(r2, part_rep_means, width = barWidth, color = 'red', edgecolor = 'black', yerr = part_rep_ers, capsize = 4, label = 'Republicans')\n",
        "\n",
        "plt.title('Support for bills by party')\n",
        "plt.legend()\n",
        "\n",
        "plt.xticks([r + barWidth for r in range(len(part_dem_means))], names[1:6], rotation = 45, ha=\"right\");"
      ],
      "execution_count": 84,
      "outputs": [
        {
          "output_type": "display_data",
          "data": {
            "image/png": "[encoded data removed]",
            "text/plain": [
              "<Figure size 432x288 with 1 Axes>"
            ]
          },
          "metadata": {
            "tags": []
          }
        }
      ]
    },
    {
      "cell_type": "markdown",
      "metadata": {
        "id": "F60g_yatt53W",
        "colab_type": "text"
      },
      "source": [
        "## Interpretation\n",
        "\n",
        "Most of the confidence intervals are pretty large. If you were trying to extrapolate this data to a population (sort of a nonsensical situation, because congress is the population), you might find a value much different from what you predicted. \n",
        "\n",
        "Using  the handicapped infants bill as an example, the predicted outcome would be ~62%, but because the confidence interval is ~6%, the actual value could be expected to be anywhere between ~56% and ~68%."
      ]
    },
    {
      "cell_type": "code",
      "metadata": {
        "id": "0tonQ88Ov8zO",
        "colab_type": "code",
        "colab": {
          "base_uri": "https://localhost:8080/",
          "height": 51
        },
        "outputId": "53a31d06-9f34-45af-e4d1-690dd346ced9"
      },
      "source": [
        "print(dem_means[0])\n",
        "print(dem_er[0])"
      ],
      "execution_count": 78,
      "outputs": [
        {
          "output_type": "stream",
          "text": [
            "0.6179775280898876\n",
            "0.117313652657326\n"
          ],
          "name": "stdout"
        }
      ]
    },
    {
      "cell_type": "markdown",
      "metadata": {
        "id": "nyJ3ySr7R2k9",
        "colab_type": "text"
      },
      "source": [
        "## Resources\n",
        "\n",
        "- [Interactive visualize the Chi-Squared test](https://homepage.divms.uiowa.edu/~mbognar/applets/chisq.html)\n",
        "- [Calculation of Chi-Squared test statistic](https://en.wikipedia.org/wiki/Pearson%27s_chi-squared_test)\n",
        "- [Visualization of a confidence interval generated by R code](https://commons.wikimedia.org/wiki/File:Confidence-interval.svg)\n",
        "- [Expected value of a squared standard normal](https://math.stackexchange.com/questions/264061/expected-value-calculation-for-squared-normal-distribution) (it's 1 - which is why the expected value of a Chi-Squared with $n$ degrees of freedom is $n$, as it's the sum of $n$ squared standard normals)"
      ]
    }
  ]
}