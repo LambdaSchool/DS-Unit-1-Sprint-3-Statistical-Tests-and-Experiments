{
  "nbformat": 4,
  "nbformat_minor": 0,
  "metadata": {
    "colab": {
      "name": "LS_DS7_132_Sampling_Confidence_Intervals_and_Hypothesis_Testing_Assignment.ipynb",
      "version": "0.3.2",
      "provenance": [],
      "collapsed_sections": [],
      "include_colab_link": true
    },
    "kernelspec": {
      "name": "python3",
      "display_name": "Python 3"
    }
  },
  "cells": [
    {
      "cell_type": "markdown",
      "metadata": {
        "id": "view-in-github",
        "colab_type": "text"
      },
      "source": [
        "<a href=\"https://colab.research.google.com/github/AHartNtkn/DS-Unit-1-Sprint-3-Statistical-Tests-and-Experiments/blob/master/DS-Unit-1-Sprint-3-Statistical-Tests-and-Experiments/LS_DS7_132_Sampling_Confidence_Intervals_and_Hypothesis_Testing_Assignment.ipynb\" target=\"_parent\"><img src=\"https://colab.research.google.com/assets/colab-badge.svg\" alt=\"Open In Colab\"/></a>"
      ]
    },
    {
      "cell_type": "markdown",
      "metadata": {
        "id": "11OzdxWTM7UR",
        "colab_type": "text"
      },
      "source": [
        "## Assignment - Build a confidence interval\n",
        "\n",
        "A confidence interval refers to a neighborhood around some point estimate, the size of which is determined by the desired p-value. For instance, we might say that 52% of Americans prefer tacos to burritos, with a 95% confidence interval of +/- 5%.\n",
        "\n",
        "52% (0.52) is the point estimate, and +/- 5% (the interval $[0.47, 0.57]$) is the confidence interval. \"95% confidence\" means a p-value $\\leq 1 - 0.95 = 0.05$.\n",
        "\n",
        "In this case, the confidence interval includes $0.5$ - which is the natural null hypothesis (that half of Americans prefer tacos and half burritos, thus there is no clear favorite). So in this case, we could use the confidence interval to report that we've failed to reject the null hypothesis.\n",
        "\n",
        "But providing the full analysis with a confidence interval, including a graphical representation of it, can be a helpful and powerful way to tell your story. Done well, it is also more intuitive to a layperson than simply saying \"fail to reject the null hypothesis\" - it shows that in fact the data does *not* give a single clear result (the point estimate) but a whole range of possibilities.\n",
        "\n",
        "How is a confidence interval built, and how should it be interpreted? It does *not* mean that 95% of the data lies in that interval - instead, the frequentist interpretation is \"if we were to repeat this experiment 100 times, we would expect the average result to lie in this interval ~95 times.\"\n",
        "\n",
        "For a 95% confidence interval and a normal(-ish) distribution, you can simply remember that +/-2 standard deviations contains 95% of the probability mass, and so the 95% confidence interval based on a given sample is centered at the mean (point estimate) and has a range of +/- 2 (or technically 1.96) standard deviations.\n",
        "\n",
        "Different distributions/assumptions (90% confidence, 99% confidence) will require different math, but the overall process and interpretation (with a frequentist approach) will be the same.\n",
        "\n",
        "Your assignment - using the data from the prior module ([congressional voting records](https://archive.ics.uci.edu/ml/datasets/Congressional+Voting+Records)):\n",
        "\n",
        "\n",
        "### Confidence Intervals:\n",
        "1. Generate and numerically represent a confidence interval\n",
        "2. Graphically (with a plot) represent the confidence interval\n",
        "3. Interpret the confidence interval - what does it tell you about the data and its distribution?\n",
        "\n",
        "### Chi-squared tests:\n",
        "4. Take a dataset that we have used in the past in class that has **categorical** variables. Pick two of those categorical variables and run a chi-squared tests on that data\n",
        "  - By hand using Numpy\n",
        "  - In a single line using Scipy\n"
      ]
    },
    {
      "cell_type": "code",
      "metadata": {
        "id": "B2rHP9iYTc22",
        "colab_type": "code",
        "outputId": "c4c2180f-d57b-4974-a533-c57c9f70e891",
        "colab": {
          "base_uri": "https://localhost:8080/",
          "height": 217
        }
      },
      "source": [
        "!wget https://archive.ics.uci.edu/ml/machine-learning-databases/voting-records/house-votes-84.data"
      ],
      "execution_count": 0,
      "outputs": [
        {
          "output_type": "stream",
          "text": [
            "--2019-08-20 18:34:44--  https://archive.ics.uci.edu/ml/machine-learning-databases/voting-records/house-votes-84.data\n",
            "Resolving archive.ics.uci.edu (archive.ics.uci.edu)... 128.195.10.252\n",
            "Connecting to archive.ics.uci.edu (archive.ics.uci.edu)|128.195.10.252|:443... connected.\n",
            "HTTP request sent, awaiting response... 200 OK\n",
            "Length: 18171 (18K) [application/x-httpd-php]\n",
            "Saving to: ‘house-votes-84.data’\n",
            "\n",
            "\rhouse-votes-84.data   0%[                    ]       0  --.-KB/s               \rhouse-votes-84.data 100%[===================>]  17.75K  --.-KB/s    in 0.03s   \n",
            "\n",
            "2019-08-20 18:34:44 (600 KB/s) - ‘house-votes-84.data’ saved [18171/18171]\n",
            "\n"
          ],
          "name": "stdout"
        }
      ]
    },
    {
      "cell_type": "code",
      "metadata": {
        "id": "gIWuaKCpTew5",
        "colab_type": "code",
        "colab": {}
      },
      "source": [
        "import pandas as pd\n",
        "import numpy as np\n",
        "from scipy.stats import ttest_ind, ttest_ind_from_stats, ttest_rel, chi2_contingency\n",
        "from scipy import stats"
      ],
      "execution_count": 0,
      "outputs": []
    },
    {
      "cell_type": "code",
      "metadata": {
        "id": "vGPv8ooaT4Fd",
        "colab_type": "code",
        "outputId": "0455ea4f-2651-45f5-a1be-3044e35ee88f",
        "colab": {
          "base_uri": "https://localhost:8080/",
          "height": 241
        }
      },
      "source": [
        "df = pd.read_csv('house-votes-84.data',names=['party','handicapped-infants','water-project',\n",
        "                          'budget','physician-fee-freeze', 'el-salvador-aid',\n",
        "                          'religious-groups','anti-satellite-ban',\n",
        "                          'aid-to-contras','mx-missile','immigration',\n",
        "                          'synfuels', 'education', 'right-to-sue','crime','duty-free',\n",
        "                          'south-africa'])\n",
        "\n",
        "#clean up the values\n",
        "for c in df.columns:\n",
        "  if c != 'party':\n",
        "    df[c] = df[c].apply(lambda x: 0 if x == 'n' else (1 if x == 'y' else np.NaN))\n",
        "\n",
        "df.head()"
      ],
      "execution_count": 130,
      "outputs": [
        {
          "output_type": "execute_result",
          "data": {
            "text/html": [
              "<div>\n",
              "<style scoped>\n",
              "    .dataframe tbody tr th:only-of-type {\n",
              "        vertical-align: middle;\n",
              "    }\n",
              "\n",
              "    .dataframe tbody tr th {\n",
              "        vertical-align: top;\n",
              "    }\n",
              "\n",
              "    .dataframe thead th {\n",
              "        text-align: right;\n",
              "    }\n",
              "</style>\n",
              "<table border=\"1\" class=\"dataframe\">\n",
              "  <thead>\n",
              "    <tr style=\"text-align: right;\">\n",
              "      <th></th>\n",
              "      <th>party</th>\n",
              "      <th>handicapped-infants</th>\n",
              "      <th>water-project</th>\n",
              "      <th>budget</th>\n",
              "      <th>physician-fee-freeze</th>\n",
              "      <th>el-salvador-aid</th>\n",
              "      <th>religious-groups</th>\n",
              "      <th>anti-satellite-ban</th>\n",
              "      <th>aid-to-contras</th>\n",
              "      <th>mx-missile</th>\n",
              "      <th>immigration</th>\n",
              "      <th>synfuels</th>\n",
              "      <th>education</th>\n",
              "      <th>right-to-sue</th>\n",
              "      <th>crime</th>\n",
              "      <th>duty-free</th>\n",
              "      <th>south-africa</th>\n",
              "    </tr>\n",
              "  </thead>\n",
              "  <tbody>\n",
              "    <tr>\n",
              "      <th>0</th>\n",
              "      <td>republican</td>\n",
              "      <td>0.0</td>\n",
              "      <td>1.0</td>\n",
              "      <td>0.0</td>\n",
              "      <td>1.0</td>\n",
              "      <td>1.0</td>\n",
              "      <td>1.0</td>\n",
              "      <td>0.0</td>\n",
              "      <td>0.0</td>\n",
              "      <td>0.0</td>\n",
              "      <td>1.0</td>\n",
              "      <td>NaN</td>\n",
              "      <td>1.0</td>\n",
              "      <td>1.0</td>\n",
              "      <td>1.0</td>\n",
              "      <td>0.0</td>\n",
              "      <td>1.0</td>\n",
              "    </tr>\n",
              "    <tr>\n",
              "      <th>1</th>\n",
              "      <td>republican</td>\n",
              "      <td>0.0</td>\n",
              "      <td>1.0</td>\n",
              "      <td>0.0</td>\n",
              "      <td>1.0</td>\n",
              "      <td>1.0</td>\n",
              "      <td>1.0</td>\n",
              "      <td>0.0</td>\n",
              "      <td>0.0</td>\n",
              "      <td>0.0</td>\n",
              "      <td>0.0</td>\n",
              "      <td>0.0</td>\n",
              "      <td>1.0</td>\n",
              "      <td>1.0</td>\n",
              "      <td>1.0</td>\n",
              "      <td>0.0</td>\n",
              "      <td>NaN</td>\n",
              "    </tr>\n",
              "    <tr>\n",
              "      <th>2</th>\n",
              "      <td>democrat</td>\n",
              "      <td>NaN</td>\n",
              "      <td>1.0</td>\n",
              "      <td>1.0</td>\n",
              "      <td>NaN</td>\n",
              "      <td>1.0</td>\n",
              "      <td>1.0</td>\n",
              "      <td>0.0</td>\n",
              "      <td>0.0</td>\n",
              "      <td>0.0</td>\n",
              "      <td>0.0</td>\n",
              "      <td>1.0</td>\n",
              "      <td>0.0</td>\n",
              "      <td>1.0</td>\n",
              "      <td>1.0</td>\n",
              "      <td>0.0</td>\n",
              "      <td>0.0</td>\n",
              "    </tr>\n",
              "    <tr>\n",
              "      <th>3</th>\n",
              "      <td>democrat</td>\n",
              "      <td>0.0</td>\n",
              "      <td>1.0</td>\n",
              "      <td>1.0</td>\n",
              "      <td>0.0</td>\n",
              "      <td>NaN</td>\n",
              "      <td>1.0</td>\n",
              "      <td>0.0</td>\n",
              "      <td>0.0</td>\n",
              "      <td>0.0</td>\n",
              "      <td>0.0</td>\n",
              "      <td>1.0</td>\n",
              "      <td>0.0</td>\n",
              "      <td>1.0</td>\n",
              "      <td>0.0</td>\n",
              "      <td>0.0</td>\n",
              "      <td>1.0</td>\n",
              "    </tr>\n",
              "    <tr>\n",
              "      <th>4</th>\n",
              "      <td>democrat</td>\n",
              "      <td>1.0</td>\n",
              "      <td>1.0</td>\n",
              "      <td>1.0</td>\n",
              "      <td>0.0</td>\n",
              "      <td>1.0</td>\n",
              "      <td>1.0</td>\n",
              "      <td>0.0</td>\n",
              "      <td>0.0</td>\n",
              "      <td>0.0</td>\n",
              "      <td>0.0</td>\n",
              "      <td>1.0</td>\n",
              "      <td>NaN</td>\n",
              "      <td>1.0</td>\n",
              "      <td>1.0</td>\n",
              "      <td>1.0</td>\n",
              "      <td>1.0</td>\n",
              "    </tr>\n",
              "  </tbody>\n",
              "</table>\n",
              "</div>"
            ],
            "text/plain": [
              "        party  handicapped-infants  ...  duty-free  south-africa\n",
              "0  republican                  0.0  ...        0.0           1.0\n",
              "1  republican                  0.0  ...        0.0           NaN\n",
              "2    democrat                  NaN  ...        0.0           0.0\n",
              "3    democrat                  0.0  ...        0.0           1.0\n",
              "4    democrat                  1.0  ...        1.0           1.0\n",
              "\n",
              "[5 rows x 17 columns]"
            ]
          },
          "metadata": {
            "tags": []
          },
          "execution_count": 130
        }
      ]
    },
    {
      "cell_type": "code",
      "metadata": {
        "id": "4_XVWkFHT7N3",
        "colab_type": "code",
        "colab": {}
      },
      "source": [
        "# To represent an interval, I need data first. I'll use the 'immigration' bill as my data.\n",
        "ih_dem = df[df['party'] == 'democrat'].dropna()['immigration']\n",
        "ih_rep = df[df['party'] == 'republican'].dropna()['immigration']"
      ],
      "execution_count": 0,
      "outputs": []
    },
    {
      "cell_type": "code",
      "metadata": {
        "id": "wIV3azlvVk4b",
        "colab_type": "code",
        "outputId": "162175b3-b4bb-406f-ba2d-e82f79a8a577",
        "colab": {
          "base_uri": "https://localhost:8080/",
          "height": 35
        }
      },
      "source": [
        "def confidence_interval(set1, set2, confidence=.95):\n",
        "  # To get the intervals, I must first get the standard error and t-score, then muliply them.\n",
        "  # This t-score is simply the 95% t-score with df = n1 + n2 - 2, since we have two samples\n",
        "  t_score = stats.t.ppf((1 + .95) / 2.0, len(set1) + len(set2) - 2)\n",
        "\n",
        "  # Since this is a two-sample test, the ns (or 1/sqrt(n)'s) need to be pooled\n",
        "  def pooled_n(s1, s2):\n",
        "    return (len(s1)**(-1) + len(s2)**(-1))**(1/2)\n",
        "\n",
        "  # The standard deviations need to be pooled as well\n",
        "  def pooled_std(s1, s2):\n",
        "    std1 = np.std(s1, ddof=1)\n",
        "    std2 = np.std(s2, ddof=1)\n",
        "    n1 = len(s1)\n",
        "    n2 = len(s2)\n",
        "    return ((((n1-1)*(std1**2))+((n2-1)*(std2**2)))/(n1+n2-2))**(1/2)\n",
        "\n",
        "  # Really pooled 1/sqrt(n), but that's a mouth-full\n",
        "  pooled_size = pooled_n(set1, set2)\n",
        "  pooled_standard_deviation = pooled_std(set1, set2)\n",
        "  standard_error = pooled_standard_deviation * pooled_size\n",
        "\n",
        "  # Here's our numerical representation of our interval.\n",
        "  interval = t_score * standard_error\n",
        "\n",
        "  # Our interval mean will simply be the difference in means of our two samples;\n",
        "  mean = set1.mean() - set2.mean()\n",
        "\n",
        "  # Here's our full interval.\n",
        "  return (mean, mean - interval, mean + interval)\n",
        "print(confidence_interval(ih_dem, ih_rep))"
      ],
      "execution_count": 133,
      "outputs": [
        {
          "output_type": "stream",
          "text": [
            "(-0.041816009557945066, -0.1712332275084027, 0.08760120839251256)\n"
          ],
          "name": "stdout"
        }
      ]
    },
    {
      "cell_type": "code",
      "metadata": {
        "id": "z-ZMife7br3o",
        "colab_type": "code",
        "outputId": "236efab6-547b-4503-8161-23ad6c4bf856",
        "colab": {
          "base_uri": "https://localhost:8080/",
          "height": 287
        }
      },
      "source": [
        "import seaborn as sns\n",
        "\n",
        "CI = confidence_interval(ih_dem, ih_rep)\n",
        "avg_mean = (ih_dem.mean() + ih_rep.mean())/2\n",
        "\n",
        "sns.kdeplot(ih_dem-ih_dem.mean(), color='b')\n",
        "sns.kdeplot(ih_rep-ih_rep.mean(), color='r')\n",
        "plt.axvline(x=CI[1], color='g')\n",
        "plt.axvline(x=CI[2], color='g')\n",
        "plt.axvline(x=CI[0], color='black')\n",
        "#plt.axvline(x=ih_dem.mean(), color='b')\n",
        "#plt.axvline(x=ih_rep.mean(), color='r')\n",
        "plt.axvline(x=0, color='orange')"
      ],
      "execution_count": 154,
      "outputs": [
        {
          "output_type": "execute_result",
          "data": {
            "text/plain": [
              "<matplotlib.lines.Line2D at 0x7f9a15353f28>"
            ]
          },
          "metadata": {
            "tags": []
          },
          "execution_count": 154
        },
        {
          "output_type": "display_data",
          "data": {
            "image/png": "[encoded data removed]",
            "text/plain": [
              "<Figure size 432x288 with 1 Axes>"
            ]
          },
          "metadata": {
            "tags": []
          }
        }
      ]
    },
    {
      "cell_type": "markdown",
      "metadata": {
        "id": "ZVYqGF_Fu5_Q",
        "colab_type": "text"
      },
      "source": [
        "As can be seen, zero falls within the p<.05 interval, meaning that we cannot reject the null hypothesis that the two distrobutions are essentially the same.\n",
        "\n"
      ]
    },
    {
      "cell_type": "markdown",
      "metadata": {
        "id": "sIEN08Pzwl7t",
        "colab_type": "text"
      },
      "source": [
        "I'll be honest, I didn't find a good way to graph this. If it weren't a two-sample test, then I could have made something much more legible. For example:"
      ]
    },
    {
      "cell_type": "code",
      "metadata": {
        "id": "jJKpgKHkwzSZ",
        "colab_type": "code",
        "colab": {
          "base_uri": "https://localhost:8080/",
          "height": 35
        },
        "outputId": "d6131c1f-5292-4ed0-dc0b-b92ba5d257cd"
      },
      "source": [
        "def confidence_interval_1samp_size(idata, confidence=.95):\n",
        "  data = np.array(idata)\n",
        " \n",
        "  n = len(data)\n",
        "\n",
        "  # To get the intervals, I must first get the standard error and t-score, then muliply them.\n",
        "  # This t-score is simply the 95% t-score with df = n1 + n2 - 2, since we have two samples\n",
        "  t_score = stats.t.ppf((1 + confidence) / 2.0, n - 1)\n",
        "\n",
        "  standard_error = stats.sem(data)\n",
        "\n",
        "  # Here's our numerical representation of our interval.\n",
        "  return t_score * standard_error\n",
        "\n",
        "def confidence_interval_1samp(data, confidence=.95):\n",
        "  interval = confidence_interval_1samp_size(data, confidence)\n",
        "\n",
        "  # Our interval mean will simply be the difference in means of our two samples;\n",
        "  mean = data.mean()\n",
        "\n",
        "  # Here's our full interval.\n",
        "  return (mean, mean - interval, mean + interval)\n",
        "\n",
        "print(confidence_interval_1samp(ih_dem))"
      ],
      "execution_count": 228,
      "outputs": [
        {
          "output_type": "stream",
          "text": [
            "(0.532258064516129, 0.44320399355877216, 0.6213121354734858)\n"
          ],
          "name": "stdout"
        }
      ]
    },
    {
      "cell_type": "code",
      "metadata": {
        "id": "rEPnrMZF4ADQ",
        "colab_type": "code",
        "colab": {}
      },
      "source": [
        "print(confidence_interval_1samp(df[]))"
      ],
      "execution_count": 0,
      "outputs": []
    },
    {
      "cell_type": "code",
      "metadata": {
        "id": "ipgFzKlIxhG7",
        "colab_type": "code",
        "colab": {
          "base_uri": "https://localhost:8080/",
          "height": 638
        },
        "outputId": "67c83794-b200-4efb-c006-43a0b296b963"
      },
      "source": [
        "barWidth = 1\n",
        "\n",
        "# df without the party column\n",
        "dfnums = df.drop('party', axis=1)\n",
        "\n",
        "# 1 bar for each column\n",
        "bars1 = [ dfnums[c].mean() for c in dfnums.columns ]\n",
        "\n",
        "# Bar intervals based on confidence interval\n",
        "yer1 = [ confidence_interval_1samp_size(dfnums[c].dropna()) for c in dfnums.columns ]\n",
        " \n",
        "# The x position of bars\n",
        "r1 = np.arange(len(bars1))\n",
        "\n",
        "# Make figure bigger\n",
        "plt.figure(figsize=(20,10))\n",
        "\n",
        "plt.bar(r1, bars1, width = barWidth, color = 'cyan', edgecolor = 'black', yerr=yer1, capsize=7)\n",
        " \n",
        "plt.xticks([r for r in range(len(bars1))], dfnums.columns, rotation=25)\n",
        "plt.ylabel('Percentage of \"Yes\" votes.')\n",
        " \n",
        "plt.show()"
      ],
      "execution_count": 229,
      "outputs": [
        {
          "output_type": "display_data",
          "data": {
            "image/png": "[encoded data removed]",
            "text/plain": [
              "<Figure size 1440x720 with 1 Axes>"
            ]
          },
          "metadata": {
            "tags": []
          }
        }
      ]
    },
    {
      "cell_type": "markdown",
      "metadata": {
        "id": "8QqAuj6l6LIj",
        "colab_type": "text"
      },
      "source": [
        "Chi-squared stuff"
      ]
    },
    {
      "cell_type": "code",
      "metadata": {
        "id": "5bGJkI7H6Nuf",
        "colab_type": "code",
        "colab": {
          "base_uri": "https://localhost:8080/",
          "height": 206
        },
        "outputId": "eea9ed95-c271-4a2f-ff00-0875f346deb9"
      },
      "source": [
        "car_ad_data = pd.read_csv('https://raw.githubusercontent.com/ryanleeallred/datasets/master/car_ad.csv', encoding='latin-1')\n",
        "car_ad_data.head()"
      ],
      "execution_count": 236,
      "outputs": [
        {
          "output_type": "execute_result",
          "data": {
            "text/html": [
              "<div>\n",
              "<style scoped>\n",
              "    .dataframe tbody tr th:only-of-type {\n",
              "        vertical-align: middle;\n",
              "    }\n",
              "\n",
              "    .dataframe tbody tr th {\n",
              "        vertical-align: top;\n",
              "    }\n",
              "\n",
              "    .dataframe thead th {\n",
              "        text-align: right;\n",
              "    }\n",
              "</style>\n",
              "<table border=\"1\" class=\"dataframe\">\n",
              "  <thead>\n",
              "    <tr style=\"text-align: right;\">\n",
              "      <th></th>\n",
              "      <th>car</th>\n",
              "      <th>price</th>\n",
              "      <th>body</th>\n",
              "      <th>mileage</th>\n",
              "      <th>engV</th>\n",
              "      <th>engType</th>\n",
              "      <th>registration</th>\n",
              "      <th>year</th>\n",
              "      <th>model</th>\n",
              "      <th>drive</th>\n",
              "    </tr>\n",
              "  </thead>\n",
              "  <tbody>\n",
              "    <tr>\n",
              "      <th>0</th>\n",
              "      <td>Ford</td>\n",
              "      <td>15500.0</td>\n",
              "      <td>crossover</td>\n",
              "      <td>68</td>\n",
              "      <td>2.5</td>\n",
              "      <td>Gas</td>\n",
              "      <td>yes</td>\n",
              "      <td>2010</td>\n",
              "      <td>Kuga</td>\n",
              "      <td>full</td>\n",
              "    </tr>\n",
              "    <tr>\n",
              "      <th>1</th>\n",
              "      <td>Mercedes-Benz</td>\n",
              "      <td>20500.0</td>\n",
              "      <td>sedan</td>\n",
              "      <td>173</td>\n",
              "      <td>1.8</td>\n",
              "      <td>Gas</td>\n",
              "      <td>yes</td>\n",
              "      <td>2011</td>\n",
              "      <td>E-Class</td>\n",
              "      <td>rear</td>\n",
              "    </tr>\n",
              "    <tr>\n",
              "      <th>2</th>\n",
              "      <td>Mercedes-Benz</td>\n",
              "      <td>35000.0</td>\n",
              "      <td>other</td>\n",
              "      <td>135</td>\n",
              "      <td>5.5</td>\n",
              "      <td>Petrol</td>\n",
              "      <td>yes</td>\n",
              "      <td>2008</td>\n",
              "      <td>CL 550</td>\n",
              "      <td>rear</td>\n",
              "    </tr>\n",
              "    <tr>\n",
              "      <th>3</th>\n",
              "      <td>Mercedes-Benz</td>\n",
              "      <td>17800.0</td>\n",
              "      <td>van</td>\n",
              "      <td>162</td>\n",
              "      <td>1.8</td>\n",
              "      <td>Diesel</td>\n",
              "      <td>yes</td>\n",
              "      <td>2012</td>\n",
              "      <td>B 180</td>\n",
              "      <td>front</td>\n",
              "    </tr>\n",
              "    <tr>\n",
              "      <th>4</th>\n",
              "      <td>Mercedes-Benz</td>\n",
              "      <td>33000.0</td>\n",
              "      <td>vagon</td>\n",
              "      <td>91</td>\n",
              "      <td>NaN</td>\n",
              "      <td>Other</td>\n",
              "      <td>yes</td>\n",
              "      <td>2013</td>\n",
              "      <td>E-Class</td>\n",
              "      <td>NaN</td>\n",
              "    </tr>\n",
              "  </tbody>\n",
              "</table>\n",
              "</div>"
            ],
            "text/plain": [
              "             car    price       body  ...  year    model  drive\n",
              "0           Ford  15500.0  crossover  ...  2010     Kuga   full\n",
              "1  Mercedes-Benz  20500.0      sedan  ...  2011  E-Class   rear\n",
              "2  Mercedes-Benz  35000.0      other  ...  2008   CL 550   rear\n",
              "3  Mercedes-Benz  17800.0        van  ...  2012    B 180  front\n",
              "4  Mercedes-Benz  33000.0      vagon  ...  2013  E-Class    NaN\n",
              "\n",
              "[5 rows x 10 columns]"
            ]
          },
          "metadata": {
            "tags": []
          },
          "execution_count": 236
        }
      ]
    },
    {
      "cell_type": "code",
      "metadata": {
        "id": "ZBFCdu1N7Two",
        "colab_type": "code",
        "colab": {
          "base_uri": "https://localhost:8080/",
          "height": 72
        },
        "outputId": "8ef2d547-53fb-4a7d-cdb4-34b1910bcca1"
      },
      "source": [
        "# First, let's look at the default proportions for car types\n",
        "# For the sake of simplicity, I'm going to select only the two most common types\n",
        "car_ad_data = car_ad_data[(car_ad_data['car'] == 'Volkswagen') | (car_ad_data['car'] == 'Mercedes-Benz')]\n",
        "car_ad_data['car'].value_counts()"
      ],
      "execution_count": 239,
      "outputs": [
        {
          "output_type": "execute_result",
          "data": {
            "text/plain": [
              "Volkswagen       936\n",
              "Mercedes-Benz    921\n",
              "Name: car, dtype: int64"
            ]
          },
          "metadata": {
            "tags": []
          },
          "execution_count": 239
        }
      ]
    },
    {
      "cell_type": "code",
      "metadata": {
        "id": "Vl9vqliD72HH",
        "colab_type": "code",
        "colab": {
          "base_uri": "https://localhost:8080/",
          "height": 175
        },
        "outputId": "4592ec1d-ec17-414f-b83e-97a42683395d"
      },
      "source": [
        "# Let's look at the association between the brand and body type\n",
        "contingency_table = pd.crosstab(car_ad_data['car'], car_ad_data['body'], margins=True)\n",
        "contingency_table"
      ],
      "execution_count": 247,
      "outputs": [
        {
          "output_type": "execute_result",
          "data": {
            "text/html": [
              "<div>\n",
              "<style scoped>\n",
              "    .dataframe tbody tr th:only-of-type {\n",
              "        vertical-align: middle;\n",
              "    }\n",
              "\n",
              "    .dataframe tbody tr th {\n",
              "        vertical-align: top;\n",
              "    }\n",
              "\n",
              "    .dataframe thead th {\n",
              "        text-align: right;\n",
              "    }\n",
              "</style>\n",
              "<table border=\"1\" class=\"dataframe\">\n",
              "  <thead>\n",
              "    <tr style=\"text-align: right;\">\n",
              "      <th>body</th>\n",
              "      <th>crossover</th>\n",
              "      <th>hatch</th>\n",
              "      <th>other</th>\n",
              "      <th>sedan</th>\n",
              "      <th>vagon</th>\n",
              "      <th>van</th>\n",
              "      <th>All</th>\n",
              "    </tr>\n",
              "    <tr>\n",
              "      <th>car</th>\n",
              "      <th></th>\n",
              "      <th></th>\n",
              "      <th></th>\n",
              "      <th></th>\n",
              "      <th></th>\n",
              "      <th></th>\n",
              "      <th></th>\n",
              "    </tr>\n",
              "  </thead>\n",
              "  <tbody>\n",
              "    <tr>\n",
              "      <th>Mercedes-Benz</th>\n",
              "      <td>168</td>\n",
              "      <td>23</td>\n",
              "      <td>141</td>\n",
              "      <td>385</td>\n",
              "      <td>22</td>\n",
              "      <td>182</td>\n",
              "      <td>921</td>\n",
              "    </tr>\n",
              "    <tr>\n",
              "      <th>Volkswagen</th>\n",
              "      <td>86</td>\n",
              "      <td>112</td>\n",
              "      <td>99</td>\n",
              "      <td>269</td>\n",
              "      <td>97</td>\n",
              "      <td>273</td>\n",
              "      <td>936</td>\n",
              "    </tr>\n",
              "    <tr>\n",
              "      <th>All</th>\n",
              "      <td>254</td>\n",
              "      <td>135</td>\n",
              "      <td>240</td>\n",
              "      <td>654</td>\n",
              "      <td>119</td>\n",
              "      <td>455</td>\n",
              "      <td>1857</td>\n",
              "    </tr>\n",
              "  </tbody>\n",
              "</table>\n",
              "</div>"
            ],
            "text/plain": [
              "body           crossover  hatch  other  sedan  vagon  van   All\n",
              "car                                                            \n",
              "Mercedes-Benz        168     23    141    385     22  182   921\n",
              "Volkswagen            86    112     99    269     97  273   936\n",
              "All                  254    135    240    654    119  455  1857"
            ]
          },
          "metadata": {
            "tags": []
          },
          "execution_count": 247
        }
      ]
    },
    {
      "cell_type": "code",
      "metadata": {
        "id": "ZCmvHqJk8hkW",
        "colab_type": "code",
        "colab": {}
      },
      "source": [
        "benz = contingency_table.iloc[0][0:6].values\n",
        "volks = contingency_table.iloc[1][0:6].values\n",
        "colSums = contingency_table.iloc[2][0:6].values\n",
        "rowSums = contingency_table.iloc[0:2, 6].values\n",
        "total = contingency_table.iloc[2,6]"
      ],
      "execution_count": 0,
      "outputs": []
    },
    {
      "cell_type": "code",
      "metadata": {
        "id": "WCbadDUk_Lhz",
        "colab_type": "code",
        "colab": {
          "base_uri": "https://localhost:8080/",
          "height": 90
        },
        "outputId": "3f409204-bbd4-4f3a-8062-63fa06ce462e"
      },
      "source": [
        "expected = np.array([ [c*r/total for c in colSums] for r in rowSums ])\n",
        "\n",
        "print(expected)"
      ],
      "execution_count": 280,
      "outputs": [
        {
          "output_type": "stream",
          "text": [
            "Chi Squared: [[125.97415186  66.95476575 119.03069467 324.35864297  59.01938611\n",
            "  225.66235864]\n",
            " [128.02584814  68.04523425 120.96930533 329.64135703  59.98061389\n",
            "  229.33764136]]\n"
          ],
          "name": "stdout"
        }
      ]
    },
    {
      "cell_type": "code",
      "metadata": {
        "id": "Td7uE1fIB-Ei",
        "colab_type": "code",
        "colab": {}
      },
      "source": [
        "observed = np.array(pd.crosstab(car_ad_data['car'], car_ad_data['body']))"
      ],
      "execution_count": 0,
      "outputs": []
    },
    {
      "cell_type": "code",
      "metadata": {
        "id": "7x_ITFTYCOrs",
        "colab_type": "code",
        "colab": {
          "base_uri": "https://localhost:8080/",
          "height": 35
        },
        "outputId": "4467a40e-6367-4cde-8754-41ee98834f80"
      },
      "source": [
        "print(\"Chi Squared:\", ((observed - expected)**2/expected).sum())"
      ],
      "execution_count": 281,
      "outputs": [
        {
          "output_type": "stream",
          "text": [
            "Chi Squared: 178.43082498976878\n"
          ],
          "name": "stdout"
        }
      ]
    },
    {
      "cell_type": "code",
      "metadata": {
        "id": "YJmeVTWVDBjl",
        "colab_type": "code",
        "colab": {
          "base_uri": "https://localhost:8080/",
          "height": 35
        },
        "outputId": "f2b4874a-965a-47a2-93ca-a5588dbcfdcd"
      },
      "source": [
        "print(\"Degrees of Freedom:\", (lambda x: (x[0]-1)*(x[1]-1))(observed.shape))"
      ],
      "execution_count": 286,
      "outputs": [
        {
          "output_type": "stream",
          "text": [
            "Degrees of Freedom: 5\n"
          ],
          "name": "stdout"
        }
      ]
    },
    {
      "cell_type": "code",
      "metadata": {
        "id": "LZTLD0_iC0-L",
        "colab_type": "code",
        "colab": {
          "base_uri": "https://localhost:8080/",
          "height": 35
        },
        "outputId": "70ca29c1-475e-42be-8da1-93cd14f0feb7"
      },
      "source": [
        "chi_squared, p_value, dof, expected = stats.chi2_contingency(observed)\n",
        "print(\"Chi Squared:\", chi_squared)"
      ],
      "execution_count": 283,
      "outputs": [
        {
          "output_type": "stream",
          "text": [
            "Chi Squared: 178.43082498976878\n"
          ],
          "name": "stdout"
        }
      ]
    },
    {
      "cell_type": "code",
      "metadata": {
        "id": "4hh0yyD8Dg-_",
        "colab_type": "code",
        "colab": {
          "base_uri": "https://localhost:8080/",
          "height": 35
        },
        "outputId": "3365f946-9e5c-4f6a-bac3-dcd186623d03"
      },
      "source": [
        "print(\"Degrees of Freedom:\", dof)"
      ],
      "execution_count": 287,
      "outputs": [
        {
          "output_type": "stream",
          "text": [
            "Degrees of Freedom: 5\n"
          ],
          "name": "stdout"
        }
      ]
    },
    {
      "cell_type": "code",
      "metadata": {
        "id": "aG0ydSWAD8op",
        "colab_type": "code",
        "colab": {
          "base_uri": "https://localhost:8080/",
          "height": 35
        },
        "outputId": "9d1c2bc1-5476-44f7-98c5-dc34edbc2604"
      },
      "source": [
        "print(\"P Value:\", p_value)"
      ],
      "execution_count": 289,
      "outputs": [
        {
          "output_type": "stream",
          "text": [
            "P Value: 1.157559967903585e-36\n"
          ],
          "name": "stdout"
        }
      ]
    },
    {
      "cell_type": "markdown",
      "metadata": {
        "id": "3tUhngSLECqi",
        "colab_type": "text"
      },
      "source": [
        "It appears that there is a relation between car brand and body."
      ]
    },
    {
      "cell_type": "markdown",
      "metadata": {
        "id": "4ohsJhQUmEuS",
        "colab_type": "text"
      },
      "source": [
        "## Stretch goals:\n",
        "\n",
        "1. Write a summary of your findings, mixing prose and math/code/results. *Note* - yes, this is by definition a political topic. It is challenging but important to keep your writing voice *neutral* and stick to the facts of the data. Data science often involves considering controversial issues, so it's important to be sensitive about them (especially if you want to publish).\n",
        "2. Apply the techniques you learned today to your project data or other data of your choice, and write/discuss your findings here.\n",
        "3. Refactor your code so it is elegant, readable, and can be easily run for all issues."
      ]
    },
    {
      "cell_type": "markdown",
      "metadata": {
        "id": "nyJ3ySr7R2k9",
        "colab_type": "text"
      },
      "source": [
        "## Resources\n",
        "\n",
        "- [Interactive visualize the Chi-Squared test](https://homepage.divms.uiowa.edu/~mbognar/applets/chisq.html)\n",
        "- [Calculation of Chi-Squared test statistic](https://en.wikipedia.org/wiki/Pearson%27s_chi-squared_test)\n",
        "- [Visualization of a confidence interval generated by R code](https://commons.wikimedia.org/wiki/File:Confidence-interval.svg)\n",
        "- [Expected value of a squared standard normal](https://math.stackexchange.com/questions/264061/expected-value-calculation-for-squared-normal-distribution) (it's 1 - which is why the expected value of a Chi-Squared with $n$ degrees of freedom is $n$, as it's the sum of $n$ squared standard normals)"
      ]
    }
  ]
}