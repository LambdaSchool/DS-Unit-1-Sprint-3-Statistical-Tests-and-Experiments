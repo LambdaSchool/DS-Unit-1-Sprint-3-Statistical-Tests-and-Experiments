{
  "nbformat": 4,
  "nbformat_minor": 0,
  "metadata": {
    "colab": {
      "name": "numpy_t-tests.ipynb",
      "version": "0.3.2",
      "provenance": [],
      "include_colab_link": true
    },
    "kernelspec": {
      "name": "python3",
      "display_name": "Python 3"
    }
  },
  "cells": [
    {
      "cell_type": "markdown",
      "metadata": {
        "id": "view-in-github",
        "colab_type": "text"
      },
      "source": [
        "<a href=\"https://colab.research.google.com/github/leehanchung/DS-Unit-1-Sprint-3-Statistical-Tests-and-Experiments/blob/master/DS-Unit-1-Sprint-3-Statistical-Tests-and-Experiments/numpy_t_tests.ipynb\" target=\"_parent\"><img src=\"https://colab.research.google.com/assets/colab-badge.svg\" alt=\"Open In Colab\"/></a>"
      ]
    },
    {
      "cell_type": "code",
      "metadata": {
        "id": "VurBD5wifVas",
        "colab_type": "code",
        "colab": {}
      },
      "source": [
        "import numpy as np"
      ],
      "execution_count": 0,
      "outputs": []
    },
    {
      "cell_type": "code",
      "metadata": {
        "id": "Ak4d5ZkltGmN",
        "colab_type": "code",
        "colab": {}
      },
      "source": [
        "from scipy.stats import ttest_1samp, ttest_ind, levene"
      ],
      "execution_count": 0,
      "outputs": []
    },
    {
      "cell_type": "code",
      "metadata": {
        "id": "rbf8X606heGz",
        "colab_type": "code",
        "colab": {}
      },
      "source": [
        "dice_pop = np.random.randint(1, 6, 10000)"
      ],
      "execution_count": 0,
      "outputs": []
    },
    {
      "cell_type": "code",
      "metadata": {
        "id": "krd0Uz3_hil4",
        "colab_type": "code",
        "colab": {}
      },
      "source": [
        "dice_sample1 = np.random.choice(dice_pop, 50)\n",
        "dice_sample2 = np.random.choice(dice_pop, 50)\n",
        "dice_sample3 = np.random.choice(dice_pop, 50)"
      ],
      "execution_count": 0,
      "outputs": []
    },
    {
      "cell_type": "code",
      "metadata": {
        "id": "euz7jGWFr64E",
        "colab_type": "code",
        "outputId": "03fd3fc6-0210-41d4-8597-4eab2927f9b8",
        "colab": {
          "base_uri": "https://localhost:8080/",
          "height": 35
        }
      },
      "source": [
        "dice_pop.mean(), dice_sample1.mean(), dice_sample2.mean(), dice_sample3.mean()"
      ],
      "execution_count": 0,
      "outputs": [
        {
          "output_type": "execute_result",
          "data": {
            "text/plain": [
              "(3.0016, 3.0, 3.04, 2.74)"
            ]
          },
          "metadata": {
            "tags": []
          },
          "execution_count": 83
        }
      ]
    },
    {
      "cell_type": "markdown",
      "metadata": {
        "id": "oF_UO4OQuZPN",
        "colab_type": "text"
      },
      "source": [
        "##$$ t-stats =\\frac{\\mu_s - \\mu}{{\\sigma_s}/{\\sqrt{N}}}$$\n",
        "where $\\mu$ is the theoratical mean, $m_s$ is the sample mean, $\\mu_s$ is sample standard deviation, and N is number of samples."
      ]
    },
    {
      "cell_type": "code",
      "metadata": {
        "id": "X1wgqFXMwDhn",
        "colab_type": "code",
        "outputId": "b20e1010-364d-49eb-bf46-a5f62f93b4ae",
        "colab": {
          "base_uri": "https://localhost:8080/",
          "height": 35
        }
      },
      "source": [
        "dice_sample1.std(ddof=1)"
      ],
      "execution_count": 0,
      "outputs": [
        {
          "output_type": "execute_result",
          "data": {
            "text/plain": [
              "1.4142135623730951"
            ]
          },
          "metadata": {
            "tags": []
          },
          "execution_count": 84
        }
      ]
    },
    {
      "cell_type": "code",
      "metadata": {
        "id": "EtUBS1l4sHAq",
        "colab_type": "code",
        "colab": {}
      },
      "source": [
        "def t_test_1sample(sample, theoratical_mean):\n",
        "    return (sample.mean() - theoratical_mean)/(sample.std(ddof=1) / np.sqrt(len(sample)))"
      ],
      "execution_count": 0,
      "outputs": []
    },
    {
      "cell_type": "code",
      "metadata": {
        "id": "SCs3Jvpjuty8",
        "colab_type": "code",
        "outputId": "3df48454-a414-49b3-ed25-70499dc7f12e",
        "colab": {
          "base_uri": "https://localhost:8080/",
          "height": 35
        }
      },
      "source": [
        "t_test_1sample(dice_sample1, 1), ttest_1samp(dice_sample1, 1)[0]"
      ],
      "execution_count": 0,
      "outputs": [
        {
          "output_type": "execute_result",
          "data": {
            "text/plain": [
              "(10.0, 10.0)"
            ]
          },
          "metadata": {
            "tags": []
          },
          "execution_count": 86
        }
      ]
    },
    {
      "cell_type": "code",
      "metadata": {
        "id": "QUFBiy-iu1Ba",
        "colab_type": "code",
        "outputId": "d83d4243-a97e-4efe-d392-70c43747a942",
        "colab": {
          "base_uri": "https://localhost:8080/",
          "height": 35
        }
      },
      "source": [
        "t_test_1sample(dice_sample2, 3), ttest_1samp(dice_sample2, 3)[0]"
      ],
      "execution_count": 0,
      "outputs": [
        {
          "output_type": "execute_result",
          "data": {
            "text/plain": [
              "(0.20429794189622283, 0.20429794189622283)"
            ]
          },
          "metadata": {
            "tags": []
          },
          "execution_count": 87
        }
      ]
    },
    {
      "cell_type": "markdown",
      "metadata": {
        "id": "MsOVboS5841c",
        "colab_type": "text"
      },
      "source": [
        "$$ttest_{independent} = \\frac{\\mu_a - \\mu_b}{\\sqrt{{\\sigma_a^2/N_a + \\sigma_b^2/N_b}}}$$"
      ]
    },
    {
      "cell_type": "code",
      "metadata": {
        "id": "3NyoAvckvPob",
        "colab_type": "code",
        "colab": {}
      },
      "source": [
        "def t_test_ind(a, b):\n",
        "    return (a.mean() - b.mean()) / np.sqrt(a.var(ddof=1)/len(a) + b.var(ddof=1)/len(b))"
      ],
      "execution_count": 0,
      "outputs": []
    },
    {
      "cell_type": "code",
      "metadata": {
        "id": "ePbGbfFi98jV",
        "colab_type": "code",
        "outputId": "4f0b2508-0f4b-421b-d880-7a7ad0846220",
        "colab": {
          "base_uri": "https://localhost:8080/",
          "height": 35
        }
      },
      "source": [
        "t_test_ind(dice_sample1, dice_sample2), ttest_ind(dice_sample1, dice_sample2)[0]"
      ],
      "execution_count": 0,
      "outputs": [
        {
          "output_type": "execute_result",
          "data": {
            "text/plain": [
              "(-0.14291667907262906, -0.14291667907262903)"
            ]
          },
          "metadata": {
            "tags": []
          },
          "execution_count": 89
        }
      ]
    },
    {
      "cell_type": "code",
      "metadata": {
        "id": "SZxhyqUb-DO6",
        "colab_type": "code",
        "colab": {}
      },
      "source": [
        ""
      ],
      "execution_count": 0,
      "outputs": []
    }
  ]
}