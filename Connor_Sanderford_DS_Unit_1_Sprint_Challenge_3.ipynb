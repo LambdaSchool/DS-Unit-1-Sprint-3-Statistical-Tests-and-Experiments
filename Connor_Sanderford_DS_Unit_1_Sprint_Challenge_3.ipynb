{
  "nbformat": 4,
  "nbformat_minor": 0,
  "metadata": {
    "colab": {
      "name": "Connor_Sanderford_DS_Unit_1_Sprint_Challenge_3.ipynb",
      "version": "0.3.2",
      "provenance": [],
      "collapsed_sections": [],
      "include_colab_link": true
    },
    "kernelspec": {
      "name": "python3",
      "display_name": "Python 3"
    }
  },
  "cells": [
    {
      "cell_type": "markdown",
      "metadata": {
        "id": "view-in-github",
        "colab_type": "text"
      },
      "source": [
        "<a href=\"https://colab.research.google.com/github/crsanderford/DS-Unit-1-Sprint-3-Statistical-Tests-and-Experiments/blob/master/Connor_Sanderford_DS_Unit_1_Sprint_Challenge_3.ipynb\" target=\"_parent\"><img src=\"https://colab.research.google.com/assets/colab-badge.svg\" alt=\"Open In Colab\"/></a>"
      ]
    },
    {
      "cell_type": "markdown",
      "metadata": {
        "id": "NooAiTdnafkz",
        "colab_type": "text"
      },
      "source": [
        "# Data Science Unit 1 Sprint Challenge 4\n",
        "\n",
        "## Exploring Data, Testing Hypotheses\n",
        "\n",
        "In this sprint challenge you will look at a dataset of people being approved or rejected for credit.\n",
        "\n",
        "https://archive.ics.uci.edu/ml/datasets/Credit+Approval\n",
        "\n",
        "Data Set Information: This file concerns credit card applications. All attribute names and values have been changed to meaningless symbols to protect confidentiality of the data. This dataset is interesting because there is a good mix of attributes -- continuous, nominal with small numbers of values, and nominal with larger numbers of values. There are also a few missing values.\n",
        "\n",
        "Attribute Information:\n",
        "- A1: b, a.\n",
        "- A2: continuous.\n",
        "- A3: continuous.\n",
        "- A4: u, y, l, t.\n",
        "- A5: g, p, gg.\n",
        "- A6: c, d, cc, i, j, k, m, r, q, w, x, e, aa, ff.\n",
        "- A7: v, h, bb, j, n, z, dd, ff, o.\n",
        "- A8: continuous.\n",
        "- A9: t, f.\n",
        "- A10: t, f.\n",
        "- A11: continuous.\n",
        "- A12: t, f.\n",
        "- A13: g, p, s.\n",
        "- A14: continuous.\n",
        "- A15: continuous.\n",
        "- A16: +,- (class attribute)\n",
        "\n",
        "Yes, most of that doesn't mean anything. A16 (the class attribute) is the most interesting, as it separates the 307 approved cases from the 383 rejected cases. The remaining variables have been obfuscated for privacy - a challenge you may have to deal with in your data science career.\n",
        "\n",
        "Sprint challenges are evaluated based on satisfactory completion of each part. It is suggested you work through it in order, getting each aspect reasonably working, before trying to deeply explore, iterate, or refine any given step. Once you get to the end, if you want to go back and improve things, go for it!"
      ]
    },
    {
      "cell_type": "markdown",
      "metadata": {
        "id": "5wch6ksCbJtZ",
        "colab_type": "text"
      },
      "source": [
        "## Part 1 - Load and validate the data\n",
        "\n",
        "- Load the data as a `pandas` data frame.\n",
        "- Validate that it has the appropriate number of observations (you can check the raw file, and also read the dataset description from UCI).\n",
        "- UCI says there should be missing data - check, and if necessary change the data so pandas recognizes it as na\n",
        "- Make sure that the loaded features are of the types described above (continuous values should be treated as float), and correct as necessary\n",
        "\n",
        "This is review, but skills that you'll use at the start of any data exploration. Further, you may have to do some investigation to figure out which file to load from - that is part of the puzzle."
      ]
    },
    {
      "cell_type": "code",
      "metadata": {
        "id": "QMdxYz7lHvy2",
        "colab_type": "code",
        "colab": {}
      },
      "source": [
        "# imports\n",
        "import pandas as pd\n",
        "import matplotlib.pyplot as plt\n",
        "import numpy as np\n",
        "import seaborn as sns\n",
        "import scipy.stats as stats"
      ],
      "execution_count": 0,
      "outputs": []
    },
    {
      "cell_type": "code",
      "metadata": {
        "id": "-sVsw5X3TUNd",
        "colab_type": "code",
        "colab": {}
      },
      "source": [
        "# Define some functions\n",
        "\n",
        "def confidence_interval(data, confidence=0.95):\n",
        "\n",
        "  data = np.array(data)\n",
        "  mean = np.mean(data)\n",
        "  n = len(data)\n",
        "  stderr = stats.sem(data)\n",
        "  interval = stderr * stats.t.ppf((1 + confidence) / 2.0, n - 1)\n",
        "  return (mean, mean - interval, mean + interval)\n",
        "\n",
        "def ttest_report(data1, data2, feature):\n",
        "  tstat, pvalue = stats.ttest_ind(data1[feature].dropna(), data2[feature].dropna())\n",
        "  print(f'Feature: {feature}')\n",
        "  print(f'Difference of Means: {data1[feature].mean() - data2[feature].mean()}')\n",
        "  print(f'T-Stat:{tstat}')\n",
        "  print(f'P-Value:{pvalue}')"
      ],
      "execution_count": 0,
      "outputs": []
    },
    {
      "cell_type": "code",
      "metadata": {
        "id": "Q79xDLckzibS",
        "colab_type": "code",
        "outputId": "f1b210fe-4790-47b8-f795-2b2de106af3e",
        "colab": {
          "base_uri": "https://localhost:8080/",
          "height": 1000
        }
      },
      "source": [
        "# Read names\n",
        "!curl https://archive.ics.uci.edu/ml/machine-learning-databases/credit-screening/crx.names"
      ],
      "execution_count": 109,
      "outputs": [
        {
          "output_type": "stream",
          "text": [
            "\n",
            "1. Title: Credit Approval\n",
            "\n",
            "2. Sources: \n",
            "    (confidential)\n",
            "    Submitted by quinlan@cs.su.oz.au\n",
            "\n",
            "3.  Past Usage:\n",
            "\n",
            "    See Quinlan,\n",
            "    * \"Simplifying decision trees\", Int J Man-Machine Studies 27,\n",
            "      Dec 1987, pp. 221-234.\n",
            "    * \"C4.5: Programs for Machine Learning\", Morgan Kaufmann, Oct 1992\n",
            "  \n",
            "4.  Relevant Information:\n",
            "\n",
            "    This file concerns credit card applications.  All attribute names\n",
            "    and values have been changed to meaningless symbols to protect\n",
            "    confidentiality of the data.\n",
            "  \n",
            "    This dataset is interesting because there is a good mix of\n",
            "    attributes -- continuous, nominal with small numbers of\n",
            "    values, and nominal with larger numbers of values.  There\n",
            "    are also a few missing values.\n",
            "  \n",
            "5.  Number of Instances: 690\n",
            "\n",
            "6.  Number of Attributes: 15 + class attribute\n",
            "\n",
            "7.  Attribute Information:\n",
            "\n",
            "    A1:\tb, a.\n",
            "    A2:\tcontinuous.\n",
            "    A3:\tcontinuous.\n",
            "    A4:\tu, y, l, t.\n",
            "    A5:\tg, p, gg.\n",
            "    A6:\tc, d, cc, i, j, k, m, r, q, w, x, e, aa, ff.\n",
            "    A7:\tv, h, bb, j, n, z, dd, ff, o.\n",
            "    A8:\tcontinuous.\n",
            "    A9:\tt, f.\n",
            "    A10:\tt, f.\n",
            "    A11:\tcontinuous.\n",
            "    A12:\tt, f.\n",
            "    A13:\tg, p, s.\n",
            "    A14:\tcontinuous.\n",
            "    A15:\tcontinuous.\n",
            "    A16: +,-         (class attribute)\n",
            "\n",
            "8.  Missing Attribute Values:\n",
            "    37 cases (5%) have one or more missing values.  The missing\n",
            "    values from particular attributes are:\n",
            "\n",
            "    A1:  12\n",
            "    A2:  12\n",
            "    A4:   6\n",
            "    A5:   6\n",
            "    A6:   9\n",
            "    A7:   9\n",
            "    A14: 13\n",
            "\n",
            "9.  Class Distribution\n",
            "  \n",
            "    +: 307 (44.5%)\n",
            "    -: 383 (55.5%)\n",
            "\n"
          ],
          "name": "stdout"
        }
      ]
    },
    {
      "cell_type": "code",
      "metadata": {
        "id": "5aNv7yIlHmfB",
        "colab_type": "code",
        "colab": {}
      },
      "source": [
        "# Read in data, fix the header, set ?s to NA\n",
        "df = pd.read_csv('https://archive.ics.uci.edu/ml/machine-learning-databases/credit-screening/crx.data', header=None, na_values='?')"
      ],
      "execution_count": 0,
      "outputs": []
    },
    {
      "cell_type": "code",
      "metadata": {
        "id": "rOuYRnPTIsNJ",
        "colab_type": "code",
        "outputId": "04ff7b11-ea5d-446e-bc7e-5d4022af03cd",
        "colab": {
          "base_uri": "https://localhost:8080/",
          "height": 225
        }
      },
      "source": [
        "# Take a look, check row and column count\n",
        "print(df.shape)\n",
        "df.head()"
      ],
      "execution_count": 111,
      "outputs": [
        {
          "output_type": "stream",
          "text": [
            "(690, 16)\n"
          ],
          "name": "stdout"
        },
        {
          "output_type": "execute_result",
          "data": {
            "text/html": [
              "<div>\n",
              "<style scoped>\n",
              "    .dataframe tbody tr th:only-of-type {\n",
              "        vertical-align: middle;\n",
              "    }\n",
              "\n",
              "    .dataframe tbody tr th {\n",
              "        vertical-align: top;\n",
              "    }\n",
              "\n",
              "    .dataframe thead th {\n",
              "        text-align: right;\n",
              "    }\n",
              "</style>\n",
              "<table border=\"1\" class=\"dataframe\">\n",
              "  <thead>\n",
              "    <tr style=\"text-align: right;\">\n",
              "      <th></th>\n",
              "      <th>0</th>\n",
              "      <th>1</th>\n",
              "      <th>2</th>\n",
              "      <th>3</th>\n",
              "      <th>4</th>\n",
              "      <th>5</th>\n",
              "      <th>6</th>\n",
              "      <th>7</th>\n",
              "      <th>8</th>\n",
              "      <th>9</th>\n",
              "      <th>10</th>\n",
              "      <th>11</th>\n",
              "      <th>12</th>\n",
              "      <th>13</th>\n",
              "      <th>14</th>\n",
              "      <th>15</th>\n",
              "    </tr>\n",
              "  </thead>\n",
              "  <tbody>\n",
              "    <tr>\n",
              "      <th>0</th>\n",
              "      <td>b</td>\n",
              "      <td>30.83</td>\n",
              "      <td>0.000</td>\n",
              "      <td>u</td>\n",
              "      <td>g</td>\n",
              "      <td>w</td>\n",
              "      <td>v</td>\n",
              "      <td>1.25</td>\n",
              "      <td>t</td>\n",
              "      <td>t</td>\n",
              "      <td>1</td>\n",
              "      <td>f</td>\n",
              "      <td>g</td>\n",
              "      <td>202.0</td>\n",
              "      <td>0</td>\n",
              "      <td>+</td>\n",
              "    </tr>\n",
              "    <tr>\n",
              "      <th>1</th>\n",
              "      <td>a</td>\n",
              "      <td>58.67</td>\n",
              "      <td>4.460</td>\n",
              "      <td>u</td>\n",
              "      <td>g</td>\n",
              "      <td>q</td>\n",
              "      <td>h</td>\n",
              "      <td>3.04</td>\n",
              "      <td>t</td>\n",
              "      <td>t</td>\n",
              "      <td>6</td>\n",
              "      <td>f</td>\n",
              "      <td>g</td>\n",
              "      <td>43.0</td>\n",
              "      <td>560</td>\n",
              "      <td>+</td>\n",
              "    </tr>\n",
              "    <tr>\n",
              "      <th>2</th>\n",
              "      <td>a</td>\n",
              "      <td>24.50</td>\n",
              "      <td>0.500</td>\n",
              "      <td>u</td>\n",
              "      <td>g</td>\n",
              "      <td>q</td>\n",
              "      <td>h</td>\n",
              "      <td>1.50</td>\n",
              "      <td>t</td>\n",
              "      <td>f</td>\n",
              "      <td>0</td>\n",
              "      <td>f</td>\n",
              "      <td>g</td>\n",
              "      <td>280.0</td>\n",
              "      <td>824</td>\n",
              "      <td>+</td>\n",
              "    </tr>\n",
              "    <tr>\n",
              "      <th>3</th>\n",
              "      <td>b</td>\n",
              "      <td>27.83</td>\n",
              "      <td>1.540</td>\n",
              "      <td>u</td>\n",
              "      <td>g</td>\n",
              "      <td>w</td>\n",
              "      <td>v</td>\n",
              "      <td>3.75</td>\n",
              "      <td>t</td>\n",
              "      <td>t</td>\n",
              "      <td>5</td>\n",
              "      <td>t</td>\n",
              "      <td>g</td>\n",
              "      <td>100.0</td>\n",
              "      <td>3</td>\n",
              "      <td>+</td>\n",
              "    </tr>\n",
              "    <tr>\n",
              "      <th>4</th>\n",
              "      <td>b</td>\n",
              "      <td>20.17</td>\n",
              "      <td>5.625</td>\n",
              "      <td>u</td>\n",
              "      <td>g</td>\n",
              "      <td>w</td>\n",
              "      <td>v</td>\n",
              "      <td>1.71</td>\n",
              "      <td>t</td>\n",
              "      <td>f</td>\n",
              "      <td>0</td>\n",
              "      <td>f</td>\n",
              "      <td>s</td>\n",
              "      <td>120.0</td>\n",
              "      <td>0</td>\n",
              "      <td>+</td>\n",
              "    </tr>\n",
              "  </tbody>\n",
              "</table>\n",
              "</div>"
            ],
            "text/plain": [
              "  0      1      2  3  4  5  6     7  8  9   10 11 12     13   14 15\n",
              "0  b  30.83  0.000  u  g  w  v  1.25  t  t   1  f  g  202.0    0  +\n",
              "1  a  58.67  4.460  u  g  q  h  3.04  t  t   6  f  g   43.0  560  +\n",
              "2  a  24.50  0.500  u  g  q  h  1.50  t  f   0  f  g  280.0  824  +\n",
              "3  b  27.83  1.540  u  g  w  v  3.75  t  t   5  t  g  100.0    3  +\n",
              "4  b  20.17  5.625  u  g  w  v  1.71  t  f   0  f  s  120.0    0  +"
            ]
          },
          "metadata": {
            "tags": []
          },
          "execution_count": 111
        }
      ]
    },
    {
      "cell_type": "code",
      "metadata": {
        "id": "G5ZOAxAXI3Ir",
        "colab_type": "code",
        "outputId": "ab25f85a-fb90-4a93-c26e-952b17f51fd4",
        "colab": {
          "base_uri": "https://localhost:8080/",
          "height": 336
        }
      },
      "source": [
        "# Seeing if our nulls match with the description\n",
        "df.isna().sum()"
      ],
      "execution_count": 112,
      "outputs": [
        {
          "output_type": "execute_result",
          "data": {
            "text/plain": [
              "0     12\n",
              "1     12\n",
              "2      0\n",
              "3      6\n",
              "4      6\n",
              "5      9\n",
              "6      9\n",
              "7      0\n",
              "8      0\n",
              "9      0\n",
              "10     0\n",
              "11     0\n",
              "12     0\n",
              "13    13\n",
              "14     0\n",
              "15     0\n",
              "dtype: int64"
            ]
          },
          "metadata": {
            "tags": []
          },
          "execution_count": 112
        }
      ]
    },
    {
      "cell_type": "code",
      "metadata": {
        "id": "Af2CuvItJa42",
        "colab_type": "code",
        "outputId": "898484c0-1b7f-4803-a7ba-74d3e06a943a",
        "colab": {
          "base_uri": "https://localhost:8080/",
          "height": 336
        }
      },
      "source": [
        "# Check data types\n",
        "df.dtypes"
      ],
      "execution_count": 113,
      "outputs": [
        {
          "output_type": "execute_result",
          "data": {
            "text/plain": [
              "0      object\n",
              "1     float64\n",
              "2     float64\n",
              "3      object\n",
              "4      object\n",
              "5      object\n",
              "6      object\n",
              "7     float64\n",
              "8      object\n",
              "9      object\n",
              "10      int64\n",
              "11     object\n",
              "12     object\n",
              "13    float64\n",
              "14      int64\n",
              "15     object\n",
              "dtype: object"
            ]
          },
          "metadata": {
            "tags": []
          },
          "execution_count": 113
        }
      ]
    },
    {
      "cell_type": "code",
      "metadata": {
        "id": "40pRD9RKMvSK",
        "colab_type": "code",
        "colab": {}
      },
      "source": [
        "# Casting 10 and 14 to float\n",
        "typedict = {10: float, 14: float}\n",
        "\n",
        "df = df.astype(dtype = typedict)"
      ],
      "execution_count": 0,
      "outputs": []
    },
    {
      "cell_type": "code",
      "metadata": {
        "id": "FkuAfQ-YNINm",
        "colab_type": "code",
        "outputId": "b7f2e94d-8860-45a9-a626-3a5104d917de",
        "colab": {
          "base_uri": "https://localhost:8080/",
          "height": 336
        }
      },
      "source": [
        "df.dtypes"
      ],
      "execution_count": 115,
      "outputs": [
        {
          "output_type": "execute_result",
          "data": {
            "text/plain": [
              "0      object\n",
              "1     float64\n",
              "2     float64\n",
              "3      object\n",
              "4      object\n",
              "5      object\n",
              "6      object\n",
              "7     float64\n",
              "8      object\n",
              "9      object\n",
              "10    float64\n",
              "11     object\n",
              "12     object\n",
              "13    float64\n",
              "14    float64\n",
              "15     object\n",
              "dtype: object"
            ]
          },
          "metadata": {
            "tags": []
          },
          "execution_count": 115
        }
      ]
    },
    {
      "cell_type": "markdown",
      "metadata": {
        "id": "G7rLytbrO38L",
        "colab_type": "text"
      },
      "source": [
        "## Part 2 - Exploring data, Testing hypotheses\n",
        "\n",
        "The only thing we really know about this data is that A16 is the class label. Besides that, we have 6 continuous (float) features and 9 categorical features.\n",
        "\n",
        "Explore the data: you can use whatever approach (tables, utility functions, visualizations) to get an impression of the distributions and relationships of the variables. In general, your goal is to understand how the features are different when grouped by the two class labels (`+` and `-`).\n",
        "\n",
        "For the 6 continuous features, how are they different when split between the two class labels? Choose two features to run t-tests (again split by class label) - specifically, select one feature that is *extremely* different between the classes, and another feature that is notably less different (though perhaps still \"statistically significantly\" different). You may have to explore more than two features to do this.\n",
        "\n",
        "For the categorical features, explore by creating \"cross tabs\" (aka [contingency tables](https://en.wikipedia.org/wiki/Contingency_table)) between them and the class label, and apply the Chi-squared test to them. [pandas.crosstab](http://pandas.pydata.org/pandas-docs/stable/reference/api/pandas.crosstab.html) can create contingency tables, and [scipy.stats.chi2_contingency](https://docs.scipy.org/doc/scipy/reference/generated/scipy.stats.chi2_contingency.html) can calculate the Chi-squared statistic for them.\n",
        "\n",
        "There are 9 categorical features - as with the t-test, try to find one where the Chi-squared test returns an extreme result (rejecting the null that the data are independent), and one where it is less extreme.\n",
        "\n",
        "**NOTE** - \"less extreme\" just means smaller test statistic/larger p-value. Even the least extreme differences may be strongly statistically significant.\n",
        "\n",
        "Your *main* goal is the hypothesis tests, so don't spend too much time on the exploration/visualization piece. That is just a means to an end - use simple visualizations, such as boxplots or a scatter matrix (both built in to pandas), to get a feel for the overall distribution of the variables.\n",
        "\n",
        "This is challenging, so manage your time and aim for a baseline of at least running two t-tests and two Chi-squared tests before polishing. And don't forget to answer the questions in part 3, even if your results in this part aren't what you want them to be."
      ]
    },
    {
      "cell_type": "code",
      "metadata": {
        "id": "_nqcgc0yzm68",
        "colab_type": "code",
        "colab": {}
      },
      "source": [
        "# Getting lists of each feature for each datatype\n",
        "\n",
        "floatfeatures = df.select_dtypes(include=float).columns.to_list()\n",
        "objfeatures = df.select_dtypes(include=object).columns.to_list()\n",
        "\n",
        "# Dropping 15 from objfeatures, as it's the class label.\n",
        "objfeatures.remove(15)"
      ],
      "execution_count": 0,
      "outputs": []
    },
    {
      "cell_type": "code",
      "metadata": {
        "id": "p1xGxYMAQrW6",
        "colab_type": "code",
        "colab": {}
      },
      "source": [
        "# Split the dataframe in two along 15\n",
        "plus = df[(df[15] == '+')]\n",
        "minus = df[(df[15] == '-')]"
      ],
      "execution_count": 0,
      "outputs": []
    },
    {
      "cell_type": "code",
      "metadata": {
        "id": "t7MjZRJyRSdq",
        "colab_type": "code",
        "outputId": "b108f354-77ff-4edd-a28e-937c00ce4263",
        "colab": {
          "base_uri": "https://localhost:8080/",
          "height": 300
        }
      },
      "source": [
        "plus.describe(include=float)"
      ],
      "execution_count": 118,
      "outputs": [
        {
          "output_type": "execute_result",
          "data": {
            "text/html": [
              "<div>\n",
              "<style scoped>\n",
              "    .dataframe tbody tr th:only-of-type {\n",
              "        vertical-align: middle;\n",
              "    }\n",
              "\n",
              "    .dataframe tbody tr th {\n",
              "        vertical-align: top;\n",
              "    }\n",
              "\n",
              "    .dataframe thead th {\n",
              "        text-align: right;\n",
              "    }\n",
              "</style>\n",
              "<table border=\"1\" class=\"dataframe\">\n",
              "  <thead>\n",
              "    <tr style=\"text-align: right;\">\n",
              "      <th></th>\n",
              "      <th>1</th>\n",
              "      <th>2</th>\n",
              "      <th>7</th>\n",
              "      <th>10</th>\n",
              "      <th>13</th>\n",
              "      <th>14</th>\n",
              "    </tr>\n",
              "  </thead>\n",
              "  <tbody>\n",
              "    <tr>\n",
              "      <th>count</th>\n",
              "      <td>305.000000</td>\n",
              "      <td>307.000000</td>\n",
              "      <td>307.000000</td>\n",
              "      <td>307.000000</td>\n",
              "      <td>301.000000</td>\n",
              "      <td>307.000000</td>\n",
              "    </tr>\n",
              "    <tr>\n",
              "      <th>mean</th>\n",
              "      <td>33.720492</td>\n",
              "      <td>5.904951</td>\n",
              "      <td>3.427899</td>\n",
              "      <td>4.605863</td>\n",
              "      <td>164.421927</td>\n",
              "      <td>2038.859935</td>\n",
              "    </tr>\n",
              "    <tr>\n",
              "      <th>std</th>\n",
              "      <td>12.809641</td>\n",
              "      <td>5.471485</td>\n",
              "      <td>4.120792</td>\n",
              "      <td>6.320242</td>\n",
              "      <td>161.770675</td>\n",
              "      <td>7659.763941</td>\n",
              "    </tr>\n",
              "    <tr>\n",
              "      <th>min</th>\n",
              "      <td>13.750000</td>\n",
              "      <td>0.000000</td>\n",
              "      <td>0.000000</td>\n",
              "      <td>0.000000</td>\n",
              "      <td>0.000000</td>\n",
              "      <td>0.000000</td>\n",
              "    </tr>\n",
              "    <tr>\n",
              "      <th>25%</th>\n",
              "      <td>23.170000</td>\n",
              "      <td>1.500000</td>\n",
              "      <td>0.750000</td>\n",
              "      <td>0.000000</td>\n",
              "      <td>0.000000</td>\n",
              "      <td>0.000000</td>\n",
              "    </tr>\n",
              "    <tr>\n",
              "      <th>50%</th>\n",
              "      <td>30.500000</td>\n",
              "      <td>4.460000</td>\n",
              "      <td>2.000000</td>\n",
              "      <td>3.000000</td>\n",
              "      <td>120.000000</td>\n",
              "      <td>221.000000</td>\n",
              "    </tr>\n",
              "    <tr>\n",
              "      <th>75%</th>\n",
              "      <td>41.330000</td>\n",
              "      <td>9.520000</td>\n",
              "      <td>5.000000</td>\n",
              "      <td>7.000000</td>\n",
              "      <td>280.000000</td>\n",
              "      <td>1209.000000</td>\n",
              "    </tr>\n",
              "    <tr>\n",
              "      <th>max</th>\n",
              "      <td>76.750000</td>\n",
              "      <td>28.000000</td>\n",
              "      <td>28.500000</td>\n",
              "      <td>67.000000</td>\n",
              "      <td>840.000000</td>\n",
              "      <td>100000.000000</td>\n",
              "    </tr>\n",
              "  </tbody>\n",
              "</table>\n",
              "</div>"
            ],
            "text/plain": [
              "               1           2   ...          13             14\n",
              "count  305.000000  307.000000  ...  301.000000     307.000000\n",
              "mean    33.720492    5.904951  ...  164.421927    2038.859935\n",
              "std     12.809641    5.471485  ...  161.770675    7659.763941\n",
              "min     13.750000    0.000000  ...    0.000000       0.000000\n",
              "25%     23.170000    1.500000  ...    0.000000       0.000000\n",
              "50%     30.500000    4.460000  ...  120.000000     221.000000\n",
              "75%     41.330000    9.520000  ...  280.000000    1209.000000\n",
              "max     76.750000   28.000000  ...  840.000000  100000.000000\n",
              "\n",
              "[8 rows x 6 columns]"
            ]
          },
          "metadata": {
            "tags": []
          },
          "execution_count": 118
        }
      ]
    },
    {
      "cell_type": "code",
      "metadata": {
        "id": "hoAvYGz6SoK7",
        "colab_type": "code",
        "outputId": "0c86e9d9-8d47-4369-f3cc-4b25b8cbe616",
        "colab": {
          "base_uri": "https://localhost:8080/",
          "height": 175
        }
      },
      "source": [
        "plus.describe(include=object)"
      ],
      "execution_count": 119,
      "outputs": [
        {
          "output_type": "execute_result",
          "data": {
            "text/html": [
              "<div>\n",
              "<style scoped>\n",
              "    .dataframe tbody tr th:only-of-type {\n",
              "        vertical-align: middle;\n",
              "    }\n",
              "\n",
              "    .dataframe tbody tr th {\n",
              "        vertical-align: top;\n",
              "    }\n",
              "\n",
              "    .dataframe thead th {\n",
              "        text-align: right;\n",
              "    }\n",
              "</style>\n",
              "<table border=\"1\" class=\"dataframe\">\n",
              "  <thead>\n",
              "    <tr style=\"text-align: right;\">\n",
              "      <th></th>\n",
              "      <th>0</th>\n",
              "      <th>3</th>\n",
              "      <th>4</th>\n",
              "      <th>5</th>\n",
              "      <th>6</th>\n",
              "      <th>8</th>\n",
              "      <th>9</th>\n",
              "      <th>11</th>\n",
              "      <th>12</th>\n",
              "      <th>15</th>\n",
              "    </tr>\n",
              "  </thead>\n",
              "  <tbody>\n",
              "    <tr>\n",
              "      <th>count</th>\n",
              "      <td>304</td>\n",
              "      <td>303</td>\n",
              "      <td>303</td>\n",
              "      <td>303</td>\n",
              "      <td>303</td>\n",
              "      <td>307</td>\n",
              "      <td>307</td>\n",
              "      <td>307</td>\n",
              "      <td>307</td>\n",
              "      <td>307</td>\n",
              "    </tr>\n",
              "    <tr>\n",
              "      <th>unique</th>\n",
              "      <td>2</td>\n",
              "      <td>3</td>\n",
              "      <td>3</td>\n",
              "      <td>14</td>\n",
              "      <td>9</td>\n",
              "      <td>2</td>\n",
              "      <td>2</td>\n",
              "      <td>2</td>\n",
              "      <td>3</td>\n",
              "      <td>1</td>\n",
              "    </tr>\n",
              "    <tr>\n",
              "      <th>top</th>\n",
              "      <td>b</td>\n",
              "      <td>u</td>\n",
              "      <td>g</td>\n",
              "      <td>c</td>\n",
              "      <td>v</td>\n",
              "      <td>t</td>\n",
              "      <td>t</td>\n",
              "      <td>f</td>\n",
              "      <td>g</td>\n",
              "      <td>+</td>\n",
              "    </tr>\n",
              "    <tr>\n",
              "      <th>freq</th>\n",
              "      <td>206</td>\n",
              "      <td>256</td>\n",
              "      <td>256</td>\n",
              "      <td>62</td>\n",
              "      <td>169</td>\n",
              "      <td>284</td>\n",
              "      <td>209</td>\n",
              "      <td>161</td>\n",
              "      <td>287</td>\n",
              "      <td>307</td>\n",
              "    </tr>\n",
              "  </tbody>\n",
              "</table>\n",
              "</div>"
            ],
            "text/plain": [
              "         0    3    4    5    6    8    9    11   12   15\n",
              "count   304  303  303  303  303  307  307  307  307  307\n",
              "unique    2    3    3   14    9    2    2    2    3    1\n",
              "top       b    u    g    c    v    t    t    f    g    +\n",
              "freq    206  256  256   62  169  284  209  161  287  307"
            ]
          },
          "metadata": {
            "tags": []
          },
          "execution_count": 119
        }
      ]
    },
    {
      "cell_type": "code",
      "metadata": {
        "id": "mIP76Wu8SoQL",
        "colab_type": "code",
        "outputId": "bb2a26b2-e861-4917-f774-1894f0cb2a7c",
        "colab": {
          "base_uri": "https://localhost:8080/",
          "height": 300
        }
      },
      "source": [
        "minus.describe(include=float)"
      ],
      "execution_count": 120,
      "outputs": [
        {
          "output_type": "execute_result",
          "data": {
            "text/html": [
              "<div>\n",
              "<style scoped>\n",
              "    .dataframe tbody tr th:only-of-type {\n",
              "        vertical-align: middle;\n",
              "    }\n",
              "\n",
              "    .dataframe tbody tr th {\n",
              "        vertical-align: top;\n",
              "    }\n",
              "\n",
              "    .dataframe thead th {\n",
              "        text-align: right;\n",
              "    }\n",
              "</style>\n",
              "<table border=\"1\" class=\"dataframe\">\n",
              "  <thead>\n",
              "    <tr style=\"text-align: right;\">\n",
              "      <th></th>\n",
              "      <th>1</th>\n",
              "      <th>2</th>\n",
              "      <th>7</th>\n",
              "      <th>10</th>\n",
              "      <th>13</th>\n",
              "      <th>14</th>\n",
              "    </tr>\n",
              "  </thead>\n",
              "  <tbody>\n",
              "    <tr>\n",
              "      <th>count</th>\n",
              "      <td>373.000000</td>\n",
              "      <td>383.000000</td>\n",
              "      <td>383.000000</td>\n",
              "      <td>383.000000</td>\n",
              "      <td>376.000000</td>\n",
              "      <td>383.000000</td>\n",
              "    </tr>\n",
              "    <tr>\n",
              "      <th>mean</th>\n",
              "      <td>29.808231</td>\n",
              "      <td>3.839948</td>\n",
              "      <td>1.257924</td>\n",
              "      <td>0.631854</td>\n",
              "      <td>199.699468</td>\n",
              "      <td>198.605744</td>\n",
              "    </tr>\n",
              "    <tr>\n",
              "      <th>std</th>\n",
              "      <td>10.919291</td>\n",
              "      <td>4.337662</td>\n",
              "      <td>2.120481</td>\n",
              "      <td>1.900049</td>\n",
              "      <td>181.564835</td>\n",
              "      <td>671.608839</td>\n",
              "    </tr>\n",
              "    <tr>\n",
              "      <th>min</th>\n",
              "      <td>15.170000</td>\n",
              "      <td>0.000000</td>\n",
              "      <td>0.000000</td>\n",
              "      <td>0.000000</td>\n",
              "      <td>0.000000</td>\n",
              "      <td>0.000000</td>\n",
              "    </tr>\n",
              "    <tr>\n",
              "      <th>25%</th>\n",
              "      <td>22.000000</td>\n",
              "      <td>0.835000</td>\n",
              "      <td>0.125000</td>\n",
              "      <td>0.000000</td>\n",
              "      <td>100.000000</td>\n",
              "      <td>0.000000</td>\n",
              "    </tr>\n",
              "    <tr>\n",
              "      <th>50%</th>\n",
              "      <td>27.330000</td>\n",
              "      <td>2.210000</td>\n",
              "      <td>0.415000</td>\n",
              "      <td>0.000000</td>\n",
              "      <td>167.500000</td>\n",
              "      <td>1.000000</td>\n",
              "    </tr>\n",
              "    <tr>\n",
              "      <th>75%</th>\n",
              "      <td>34.830000</td>\n",
              "      <td>5.000000</td>\n",
              "      <td>1.500000</td>\n",
              "      <td>0.000000</td>\n",
              "      <td>272.000000</td>\n",
              "      <td>67.000000</td>\n",
              "    </tr>\n",
              "    <tr>\n",
              "      <th>max</th>\n",
              "      <td>80.250000</td>\n",
              "      <td>26.335000</td>\n",
              "      <td>13.875000</td>\n",
              "      <td>20.000000</td>\n",
              "      <td>2000.000000</td>\n",
              "      <td>5552.000000</td>\n",
              "    </tr>\n",
              "  </tbody>\n",
              "</table>\n",
              "</div>"
            ],
            "text/plain": [
              "               1           2           7           10           13           14\n",
              "count  373.000000  383.000000  383.000000  383.000000   376.000000   383.000000\n",
              "mean    29.808231    3.839948    1.257924    0.631854   199.699468   198.605744\n",
              "std     10.919291    4.337662    2.120481    1.900049   181.564835   671.608839\n",
              "min     15.170000    0.000000    0.000000    0.000000     0.000000     0.000000\n",
              "25%     22.000000    0.835000    0.125000    0.000000   100.000000     0.000000\n",
              "50%     27.330000    2.210000    0.415000    0.000000   167.500000     1.000000\n",
              "75%     34.830000    5.000000    1.500000    0.000000   272.000000    67.000000\n",
              "max     80.250000   26.335000   13.875000   20.000000  2000.000000  5552.000000"
            ]
          },
          "metadata": {
            "tags": []
          },
          "execution_count": 120
        }
      ]
    },
    {
      "cell_type": "code",
      "metadata": {
        "id": "WgJVjCH_SoUP",
        "colab_type": "code",
        "outputId": "d9c35850-e4eb-4801-adca-b01ad7be4809",
        "colab": {
          "base_uri": "https://localhost:8080/",
          "height": 175
        }
      },
      "source": [
        "minus.describe(include=object)"
      ],
      "execution_count": 121,
      "outputs": [
        {
          "output_type": "execute_result",
          "data": {
            "text/html": [
              "<div>\n",
              "<style scoped>\n",
              "    .dataframe tbody tr th:only-of-type {\n",
              "        vertical-align: middle;\n",
              "    }\n",
              "\n",
              "    .dataframe tbody tr th {\n",
              "        vertical-align: top;\n",
              "    }\n",
              "\n",
              "    .dataframe thead th {\n",
              "        text-align: right;\n",
              "    }\n",
              "</style>\n",
              "<table border=\"1\" class=\"dataframe\">\n",
              "  <thead>\n",
              "    <tr style=\"text-align: right;\">\n",
              "      <th></th>\n",
              "      <th>0</th>\n",
              "      <th>3</th>\n",
              "      <th>4</th>\n",
              "      <th>5</th>\n",
              "      <th>6</th>\n",
              "      <th>8</th>\n",
              "      <th>9</th>\n",
              "      <th>11</th>\n",
              "      <th>12</th>\n",
              "      <th>15</th>\n",
              "    </tr>\n",
              "  </thead>\n",
              "  <tbody>\n",
              "    <tr>\n",
              "      <th>count</th>\n",
              "      <td>374</td>\n",
              "      <td>381</td>\n",
              "      <td>381</td>\n",
              "      <td>378</td>\n",
              "      <td>378</td>\n",
              "      <td>383</td>\n",
              "      <td>383</td>\n",
              "      <td>383</td>\n",
              "      <td>383</td>\n",
              "      <td>383</td>\n",
              "    </tr>\n",
              "    <tr>\n",
              "      <th>unique</th>\n",
              "      <td>2</td>\n",
              "      <td>2</td>\n",
              "      <td>2</td>\n",
              "      <td>14</td>\n",
              "      <td>9</td>\n",
              "      <td>2</td>\n",
              "      <td>2</td>\n",
              "      <td>2</td>\n",
              "      <td>3</td>\n",
              "      <td>1</td>\n",
              "    </tr>\n",
              "    <tr>\n",
              "      <th>top</th>\n",
              "      <td>b</td>\n",
              "      <td>u</td>\n",
              "      <td>g</td>\n",
              "      <td>c</td>\n",
              "      <td>v</td>\n",
              "      <td>f</td>\n",
              "      <td>f</td>\n",
              "      <td>f</td>\n",
              "      <td>g</td>\n",
              "      <td>-</td>\n",
              "    </tr>\n",
              "    <tr>\n",
              "      <th>freq</th>\n",
              "      <td>262</td>\n",
              "      <td>263</td>\n",
              "      <td>263</td>\n",
              "      <td>75</td>\n",
              "      <td>230</td>\n",
              "      <td>306</td>\n",
              "      <td>297</td>\n",
              "      <td>213</td>\n",
              "      <td>338</td>\n",
              "      <td>383</td>\n",
              "    </tr>\n",
              "  </tbody>\n",
              "</table>\n",
              "</div>"
            ],
            "text/plain": [
              "         0    3    4    5    6    8    9    11   12   15\n",
              "count   374  381  381  378  378  383  383  383  383  383\n",
              "unique    2    2    2   14    9    2    2    2    3    1\n",
              "top       b    u    g    c    v    f    f    f    g    -\n",
              "freq    262  263  263   75  230  306  297  213  338  383"
            ]
          },
          "metadata": {
            "tags": []
          },
          "execution_count": 121
        }
      ]
    },
    {
      "cell_type": "code",
      "metadata": {
        "id": "RY8a0oh3TIVm",
        "colab_type": "code",
        "outputId": "48b1cd4d-2cf4-4c38-d079-fc9a15fe016d",
        "colab": {
          "base_uri": "https://localhost:8080/",
          "height": 1000
        }
      },
      "source": [
        "# Graphical confidence intervals of each float feature\n",
        "\n",
        "for feat in floatfeatures:\n",
        "  mmean, mlow, mhigh = confidence_interval(minus[feat].dropna())\n",
        "  pmean, plow, phigh = confidence_interval(plus[feat].dropna())\n",
        "  sns.kdeplot(df[feat])\n",
        "  \n",
        "  plt.axvline(x=mmean, color='b')\n",
        "  plt.axvline(x=mlow, color='b', linestyle = ':')\n",
        "  plt.axvline(x=mhigh, color='b', linestyle = ':')\n",
        "  \n",
        "  plt.axvline(x=pmean, color='r')\n",
        "  plt.axvline(x=plow, color='r', linestyle = ':')\n",
        "  plt.axvline(x=phigh, color='r', linestyle = ':')\n",
        "  \n",
        "  plt.suptitle(f'Feature: {feat}, Minus Mean: {mmean}, Plus Mean: {pmean}')\n",
        "  plt.title(f'Confidence Intervals: {mlow} to {mhigh}, {plow} to {phigh}')\n",
        "  plt.figure()"
      ],
      "execution_count": 122,
      "outputs": [
        {
          "output_type": "stream",
          "text": [
            "/usr/local/lib/python3.6/dist-packages/statsmodels/nonparametric/kde.py:447: RuntimeWarning: invalid value encountered in greater\n",
            "  X = X[np.logical_and(X > clip[0], X < clip[1])] # won't work for two columns.\n",
            "/usr/local/lib/python3.6/dist-packages/statsmodels/nonparametric/kde.py:447: RuntimeWarning: invalid value encountered in less\n",
            "  X = X[np.logical_and(X > clip[0], X < clip[1])] # won't work for two columns.\n"
          ],
          "name": "stderr"
        },
        {
          "output_type": "display_data",
          "data": {
            "image/png": "[encoded data removed]",
            "text/plain": [
              "<Figure size 432x288 with 1 Axes>"
            ]
          },
          "metadata": {
            "tags": []
          }
        },
        {
          "output_type": "display_data",
          "data": {
            "image/png": "[encoded data removed]",
            "text/plain": [
              "<Figure size 432x288 with 1 Axes>"
            ]
          },
          "metadata": {
            "tags": []
          }
        },
        {
          "output_type": "display_data",
          "data": {
            "image/png": "[encoded data removed]",
            "text/plain": [
              "<Figure size 432x288 with 1 Axes>"
            ]
          },
          "metadata": {
            "tags": []
          }
        },
        {
          "output_type": "display_data",
          "data": {
            "image/png": "[encoded data removed]",
            "text/plain": [
              "<Figure size 432x288 with 1 Axes>"
            ]
          },
          "metadata": {
            "tags": []
          }
        },
        {
          "output_type": "display_data",
          "data": {
            "image/png": "[encoded data removed]",
            "text/plain": [
              "<Figure size 432x288 with 1 Axes>"
            ]
          },
          "metadata": {
            "tags": []
          }
        },
        {
          "output_type": "display_data",
          "data": {
            "image/png": "[encoded data removed]",
            "text/plain": [
              "<Figure size 432x288 with 1 Axes>"
            ]
          },
          "metadata": {
            "tags": []
          }
        },
        {
          "output_type": "display_data",
          "data": {
            "text/plain": [
              "<Figure size 432x288 with 0 Axes>"
            ]
          },
          "metadata": {
            "tags": []
          }
        }
      ]
    },
    {
      "cell_type": "code",
      "metadata": {
        "id": "nvem0nQfQCFk",
        "colab_type": "code",
        "outputId": "89ec76ea-e6cb-4da4-d909-66da334569e5",
        "colab": {
          "base_uri": "https://localhost:8080/",
          "height": 580
        }
      },
      "source": [
        "# T-tests of the float features\n",
        "\n",
        "for feat in floatfeatures:\n",
        "  ttest_report(minus, plus, feat)\n",
        "  print('________')"
      ],
      "execution_count": 123,
      "outputs": [
        {
          "output_type": "stream",
          "text": [
            "Feature: 1\n",
            "Difference of Means: -3.912261240276017\n",
            "T-Stat:-4.2922156166315535\n",
            "P-Value:2.027663707178064e-05\n",
            "________\n",
            "Feature: 2\n",
            "Difference of Means: -2.065003359386293\n",
            "T-Stat:-5.52998337614816\n",
            "P-Value:4.551680702308068e-08\n",
            "________\n",
            "Feature: 7\n",
            "Difference of Means: -2.1699747408169676\n",
            "T-Stat:-8.935819983773698\n",
            "P-Value:3.6710537401601785e-18\n",
            "________\n",
            "Feature: 10\n",
            "Difference of Means: -3.9740094062816276\n",
            "T-Stat:-11.667004222431277\n",
            "P-Value:7.957718568079967e-29\n",
            "________\n",
            "Feature: 13\n",
            "Difference of Means: 35.277541174807396\n",
            "T-Stat:2.6358251986645476\n",
            "P-Value:0.008586135473980122\n",
            "________\n",
            "Feature: 14\n",
            "Difference of Means: -1840.2541907280938\n",
            "T-Stat:-4.680216020964486\n",
            "P-Value:3.4520256956287944e-06\n",
            "________\n"
          ],
          "name": "stdout"
        }
      ]
    },
    {
      "cell_type": "code",
      "metadata": {
        "id": "jEF4XeHhrAnY",
        "colab_type": "code",
        "colab": {
          "base_uri": "https://localhost:8080/",
          "height": 1000
        },
        "outputId": "85c78b8c-ecfa-4bde-b654-426c80b1d15e"
      },
      "source": [
        "# Contingency tables for each of the categorical variables\n",
        "for feat in objfeatures:\n",
        "  contingency_table = pd.crosstab(df[feat], df[15], margins=True)\n",
        "  print(f'Feature: {feat}')\n",
        "  print(contingency_table)\n",
        "  print('___________')"
      ],
      "execution_count": 134,
      "outputs": [
        {
          "output_type": "stream",
          "text": [
            "Feature: 0\n",
            "15     +    -  All\n",
            "0                 \n",
            "a     98  112  210\n",
            "b    206  262  468\n",
            "All  304  374  678\n",
            "___________\n",
            "Feature: 3\n",
            "15     +    -  All\n",
            "3                 \n",
            "l      2    0    2\n",
            "u    256  263  519\n",
            "y     45  118  163\n",
            "All  303  381  684\n",
            "___________\n",
            "Feature: 4\n",
            "15     +    -  All\n",
            "4                 \n",
            "g    256  263  519\n",
            "gg     2    0    2\n",
            "p     45  118  163\n",
            "All  303  381  684\n",
            "___________\n",
            "Feature: 5\n",
            "15     +    -  All\n",
            "5                 \n",
            "aa    19   35   54\n",
            "c     62   75  137\n",
            "cc    29   12   41\n",
            "d      7   23   30\n",
            "e     14   11   25\n",
            "ff     7   46   53\n",
            "i     14   45   59\n",
            "j      3    7   10\n",
            "k     14   37   51\n",
            "m     16   22   38\n",
            "q     51   27   78\n",
            "r      2    1    3\n",
            "w     33   31   64\n",
            "x     32    6   38\n",
            "All  303  378  681\n",
            "___________\n",
            "Feature: 6\n",
            "15     +    -  All\n",
            "6                 \n",
            "bb    25   34   59\n",
            "dd     2    4    6\n",
            "ff     8   49   57\n",
            "h     87   51  138\n",
            "j      3    5    8\n",
            "n      2    2    4\n",
            "o      1    1    2\n",
            "v    169  230  399\n",
            "z      6    2    8\n",
            "All  303  378  681\n",
            "___________\n",
            "Feature: 8\n",
            "15     +    -  All\n",
            "8                 \n",
            "f     23  306  329\n",
            "t    284   77  361\n",
            "All  307  383  690\n",
            "___________\n",
            "Feature: 9\n",
            "15     +    -  All\n",
            "9                 \n",
            "f     98  297  395\n",
            "t    209   86  295\n",
            "All  307  383  690\n",
            "___________\n",
            "Feature: 11\n",
            "15     +    -  All\n",
            "11                \n",
            "f    161  213  374\n",
            "t    146  170  316\n",
            "All  307  383  690\n",
            "___________\n",
            "Feature: 12\n",
            "15     +    -  All\n",
            "12                \n",
            "g    287  338  625\n",
            "p      5    3    8\n",
            "s     15   42   57\n",
            "All  307  383  690\n",
            "___________\n"
          ],
          "name": "stdout"
        }
      ]
    },
    {
      "cell_type": "code",
      "metadata": {
        "id": "MilOEW_VXxlL",
        "colab_type": "code",
        "outputId": "9cfb6e82-2cc3-43c8-d5a5-cef6a592cdb1",
        "colab": {
          "base_uri": "https://localhost:8080/",
          "height": 862
        }
      },
      "source": [
        "# Chi-squared tests for each of the categorical variables\n",
        "\n",
        "for feat in objfeatures:\n",
        "  observed = pd.crosstab(df[feat], df[15]).values\n",
        "  chi_squared, p_value, dof, expected = stats.chi2_contingency(observed)\n",
        "  print(f'Feature: {feat}')\n",
        "  print(f'Chi-squared: {chi_squared}')\n",
        "  print(f'P-value: {p_value}')\n",
        "  print(f'Degrees of freedom: {dof}')\n",
        "  print('__________')"
      ],
      "execution_count": 135,
      "outputs": [
        {
          "output_type": "stream",
          "text": [
            "Feature: 0\n",
            "Chi-squared: 0.31128326491619945\n",
            "P-value: 0.5768937883001117\n",
            "Degrees of freedom: 1\n",
            "__________\n",
            "Feature: 3\n",
            "Chi-squared: 26.234074966202144\n",
            "P-value: 2.010680204180363e-06\n",
            "Degrees of freedom: 2\n",
            "__________\n",
            "Feature: 4\n",
            "Chi-squared: 26.234074966202144\n",
            "P-value: 2.010680204180363e-06\n",
            "Degrees of freedom: 2\n",
            "__________\n",
            "Feature: 5\n",
            "Chi-squared: 98.32520342679135\n",
            "P-value: 3.4999300402715717e-15\n",
            "Degrees of freedom: 13\n",
            "__________\n",
            "Feature: 6\n",
            "Chi-squared: 45.03420714024056\n",
            "P-value: 3.62545287237226e-07\n",
            "Degrees of freedom: 8\n",
            "__________\n",
            "Feature: 8\n",
            "Chi-squared: 355.2038167412799\n",
            "P-value: 3.1185900878457007e-79\n",
            "Degrees of freedom: 1\n",
            "__________\n",
            "Feature: 9\n",
            "Chi-squared: 143.06956205083145\n",
            "P-value: 5.675727374527571e-33\n",
            "Degrees of freedom: 1\n",
            "__________\n",
            "Feature: 11\n",
            "Chi-squared: 0.568273300792113\n",
            "P-value: 0.45094587758631943\n",
            "Degrees of freedom: 1\n",
            "__________\n",
            "Feature: 12\n",
            "Chi-squared: 9.191570451545383\n",
            "P-value: 0.010094291370456362\n",
            "Degrees of freedom: 2\n",
            "__________\n"
          ],
          "name": "stdout"
        }
      ]
    },
    {
      "cell_type": "markdown",
      "metadata": {
        "id": "ZM8JckA2bgnp",
        "colab_type": "text"
      },
      "source": [
        "## Part 3 - Analysis and Interpretation\n",
        "\n",
        "Now that you've looked at the data, answer the following questions:\n",
        "\n",
        "- Interpret and explain the two t-tests you ran - what do they tell you about the relationships between the continuous features you selected and the class labels?\n",
        "- Interpret and explain the two Chi-squared tests you ran - what do they tell you about the relationships between the categorical features you selected and the class labels?\n",
        "- What was the most challenging part of this sprint challenge?\n",
        "\n",
        "Answer with text, but feel free to intersperse example code/results or refer to it from earlier."
      ]
    },
    {
      "cell_type": "markdown",
      "metadata": {
        "id": "llifwQxleRlL",
        "colab_type": "text"
      },
      "source": [
        "### On T-Tests\n",
        "\n",
        "A T-test measures the likelihood that the difference between two means is *significant* - that is, not a statistical aberration. The P-value produced by a T-test describes the likelihood that the means of each sample would come from the same population.\n",
        "\n",
        "The T-tests for all features fell within the 95% bound of significance, though some features have more statistically significant differences than others. We'll look at features 10 and 13."
      ]
    },
    {
      "cell_type": "code",
      "metadata": {
        "id": "FVnKcAuNf046",
        "colab_type": "code",
        "colab": {
          "base_uri": "https://localhost:8080/",
          "height": 92
        },
        "outputId": "7f2c9a74-32a5-414a-93b2-a733fcf91ce2"
      },
      "source": [
        "ttest_report(minus, plus, 10)"
      ],
      "execution_count": 124,
      "outputs": [
        {
          "output_type": "stream",
          "text": [
            "Feature: 10\n",
            "Difference of Means: -3.9740094062816276\n",
            "T-Stat:-11.667004222431277\n",
            "P-Value:7.957718568079967e-29\n"
          ],
          "name": "stdout"
        }
      ]
    },
    {
      "cell_type": "code",
      "metadata": {
        "id": "yGrfx1DEf84t",
        "colab_type": "code",
        "colab": {
          "base_uri": "https://localhost:8080/",
          "height": 92
        },
        "outputId": "66709330-55b3-417d-8ff2-96107dcd0b47"
      },
      "source": [
        "ttest_report(minus, plus, 13)"
      ],
      "execution_count": 125,
      "outputs": [
        {
          "output_type": "stream",
          "text": [
            "Feature: 13\n",
            "Difference of Means: 35.277541174807396\n",
            "T-Stat:2.6358251986645476\n",
            "P-Value:0.008586135473980122\n"
          ],
          "name": "stdout"
        }
      ]
    },
    {
      "cell_type": "markdown",
      "metadata": {
        "id": "ODLqSQOmguwF",
        "colab_type": "text"
      },
      "source": [
        "In this case T-tests represent the odds that the difference in the means between the minus and plus groups are significant. Feature 10's low p-value indicates that the difference in means for the two groups with regard to feature 10 is very likely to be significant, and therefore that the correlation is likely to be significant.\n",
        "\n",
        "On the other hand, Feature 13's higher (though still significant!) p-value indicates lower odds that the difference in means for the two groups with regard to feature 13 is significant, and therefore that the correlation between the features is less likely to be significant."
      ]
    },
    {
      "cell_type": "markdown",
      "metadata": {
        "id": "COcFDF2nh00x",
        "colab_type": "text"
      },
      "source": [
        "### On Chi-Squared Tests\n",
        "\n",
        "A chi-squared test measures the likelihood that two categorical variables are dependent on one another. The p-value of a chi-squared test represents the likelihood that the variables are independent from one another.\n",
        "\n",
        "Some features were clearly dependent, whereas others were not. We'll look at features 8 and 11."
      ]
    },
    {
      "cell_type": "code",
      "metadata": {
        "id": "IOzDcRC6gk-P",
        "colab_type": "code",
        "colab": {
          "base_uri": "https://localhost:8080/",
          "height": 111
        },
        "outputId": "9512a355-fbe9-4577-93f9-925fbcceff32"
      },
      "source": [
        "observed = pd.crosstab(df[8], df[15]).values\n",
        "chi_squared, p_value, dof, expected = stats.chi2_contingency(observed)\n",
        "print(f'Feature: {8}')\n",
        "print(f'Chi-squared: {chi_squared}')\n",
        "print(f'P-value: {p_value}')\n",
        "print(f'Degrees of freedom: {dof}')\n",
        "print('__________')"
      ],
      "execution_count": 132,
      "outputs": [
        {
          "output_type": "stream",
          "text": [
            "Feature: 8\n",
            "Chi-squared: 355.2038167412799\n",
            "P-value: 3.1185900878457007e-79\n",
            "Degrees of freedom: 1\n",
            "__________\n"
          ],
          "name": "stdout"
        }
      ]
    },
    {
      "cell_type": "code",
      "metadata": {
        "id": "AXQBRduijFEr",
        "colab_type": "code",
        "colab": {
          "base_uri": "https://localhost:8080/",
          "height": 111
        },
        "outputId": "ea46300e-b700-4ccf-a86d-3ae860a2ad57"
      },
      "source": [
        "observed = pd.crosstab(df[11], df[15]).values\n",
        "chi_squared, p_value, dof, expected = stats.chi2_contingency(observed)\n",
        "print(f'Feature: {11}')\n",
        "print(f'Chi-squared: {chi_squared}')\n",
        "print(f'P-value: {p_value}')\n",
        "print(f'Degrees of freedom: {dof}')\n",
        "print('__________')"
      ],
      "execution_count": 133,
      "outputs": [
        {
          "output_type": "stream",
          "text": [
            "Feature: 11\n",
            "Chi-squared: 0.568273300792113\n",
            "P-value: 0.45094587758631943\n",
            "Degrees of freedom: 1\n",
            "__________\n"
          ],
          "name": "stdout"
        }
      ]
    },
    {
      "cell_type": "markdown",
      "metadata": {
        "id": "VhlcCR6BjScK",
        "colab_type": "text"
      },
      "source": [
        "In this case, p-values indicate the odds that the dependency observed between the given feature and the class is a statistical aberration. A low p-value therefore indicates a low likelihood of independence.\n",
        "\n",
        "Feature 8's *exceptionally* low p-value indicates that that it is extremely unlikely that the dependency observed between the class and the feature is a matter of random chance, and that it is therefore very likely there is dependency between feature 8 and the class.\n",
        "\n",
        "Feature 11, on the other hand, has a high p-value, indicating that it is not at all unlikely that the dependency observed between the class and that feature is simply random chance. Therefore it's quite likely that feature 11 and the class are independent of one another."
      ]
    }
  ]
}