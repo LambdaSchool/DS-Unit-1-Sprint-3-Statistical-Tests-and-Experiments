{
  "nbformat": 4,
  "nbformat_minor": 0,
  "metadata": {
    "colab": {
      "name": "LS_DS_123_Lecture.ipynb",
      "provenance": [],
      "include_colab_link": true
    },
    "kernelspec": {
      "display_name": "Python 3",
      "language": "python",
      "name": "python3"
    },
    "language_info": {
      "codemirror_mode": {
        "name": "ipython",
        "version": 3
      },
      "file_extension": ".py",
      "mimetype": "text/x-python",
      "name": "python",
      "nbconvert_exporter": "python",
      "pygments_lexer": "ipython3",
      "version": "3.7.3"
    }
  },
  "cells": [
    {
      "cell_type": "markdown",
      "metadata": {
        "id": "view-in-github",
        "colab_type": "text"
      },
      "source": [
        "<a href=\"https://colab.research.google.com/github/xander-bennett/DS-Unit-1-Sprint-3-Statistical-Tests-and-Experiments/blob/master/LS_DS_123_Lecture.ipynb\" target=\"_parent\"><img src=\"https://colab.research.google.com/assets/colab-badge.svg\" alt=\"Open In Colab\"/></a>"
      ]
    },
    {
      "cell_type": "markdown",
      "metadata": {
        "colab_type": "text",
        "id": "H7OLbevlbd_Z"
      },
      "source": [
        "# Lambda School Data Science Module 123\n",
        "\n",
        "## Introduction to Bayesian Inference\n",
        "[XKCD 1132](https://www.xkcd.com/1132/)"
      ]
    },
    {
      "cell_type": "markdown",
      "metadata": {
        "id": "oWb_7ix4lzJ8",
        "colab_type": "text"
      },
      "source": [
        "<div>\n",
        "<img src=\"https://imgs.xkcd.com/comics/frequentists_vs_bayesians.png\" width=\"300\"/>\n",
        "</div>"
      ]
    },
    {
      "cell_type": "markdown",
      "metadata": {
        "id": "V_CuoBValzJ9",
        "colab_type": "text"
      },
      "source": [
        "#### Bayes vs. Frequentist inference\n",
        "\n",
        "| Bayes | Frequentist |\n",
        "|:---|:---|\n",
        "|uses probabilities for both hypotheses and data|never uses or gives the probability of a hypothesis (no prior or posterior).|\n",
        "|depends on the prior and likelihood of observed data.|depends on the likelihood P(D | H)) for both observed and unobserved data.|\n",
        "|requires one to know or construct a ‘subjective prior’.|does not require a prior.|\n",
        "|dominated statistical practice before the 20th century.|dominated statistical practice during the 20th century.|\n",
        "\n",
        "https://ocw.mit.edu/courses/mathematics/18-05-introduction-to-probability-and-statistics-spring-2014/readings/MIT18_05S14_Reading20.pdf"
      ]
    },
    {
      "cell_type": "markdown",
      "metadata": {
        "id": "2C8D3k8jlzJ9",
        "colab_type": "text"
      },
      "source": [
        "## Cookie Challenge\n",
        "https://www.greenteapress.com/thinkbayes/thinkbayes.pdf#page20"
      ]
    },
    {
      "cell_type": "markdown",
      "metadata": {
        "id": "wnILsddolzJ-",
        "colab_type": "text"
      },
      "source": [
        "<div>\n",
        "<img src=\"https://food.fnr.sndimg.com/content/dam/images/food/fullset/2009/6/12/2/PASP09_303502_s4x3.jpg.rend.hgtvcom.826.620.suffix/1371589411856.jpeg\" width=\"300\"/>\n",
        "</div>"
      ]
    },
    {
      "cell_type": "markdown",
      "metadata": {
        "id": "U627td0clzJ_",
        "colab_type": "text"
      },
      "source": [
        "Suppose there are two bowls of cookies.  \n",
        "* Bowl 1 contains 30 vanilla cookies and 10 chocolate cookies.  \n",
        "* Bowl 2 contains 20 vanilla cookies and 20 chocolate cookies.  \n",
        "\n",
        "What is the probability of randomly drawing a vanilla cookie?"
      ]
    },
    {
      "cell_type": "code",
      "metadata": {
        "id": "AqZSdpGmlzJ_",
        "colab_type": "code",
        "outputId": "e87ef193-ce67-4c47-8454-8bb86a739348",
        "colab": {
          "base_uri": "https://localhost:8080/",
          "height": 35
        }
      },
      "source": [
        "# independent probability of getting a vanilla cookie \n",
        "vanilla = 30+20\n",
        "choco = 10+20\n",
        "cookies=vanilla+choco\n",
        "p_V=vanilla/cookies\n",
        "print(p_V)"
      ],
      "execution_count": 0,
      "outputs": [
        {
          "output_type": "stream",
          "text": [
            "0.625\n"
          ],
          "name": "stdout"
        }
      ]
    },
    {
      "cell_type": "markdown",
      "metadata": {
        "id": "J1EtrS3slzKC",
        "colab_type": "text"
      },
      "source": [
        "Given that I pick from bowl 1, what is the probability of randomly drawing a vanilla cookie?  \n",
        "`p(vanilla|Bowl 1)`"
      ]
    },
    {
      "cell_type": "code",
      "metadata": {
        "id": "mqmal1HilzKD",
        "colab_type": "code",
        "outputId": "a1978d4b-8428-44b2-ad3f-6794ac57468b",
        "colab": {
          "base_uri": "https://localhost:8080/",
          "height": 35
        }
      },
      "source": [
        "# conditional probability\n",
        "p_B1=1 # prior\n",
        "p_VB1= 30/40\n",
        "print(p_VB1)\n"
      ],
      "execution_count": 0,
      "outputs": [
        {
          "output_type": "stream",
          "text": [
            "0.75\n"
          ],
          "name": "stdout"
        }
      ]
    },
    {
      "cell_type": "markdown",
      "metadata": {
        "id": "_z82uAZelzKF",
        "colab_type": "text"
      },
      "source": [
        "Now suppose you choose one of the bowls at random and, without looking, select a cookie at random. The cookie is vanilla. What is the probability that it came from Bowl 1?  \n",
        "`p(Bowl 1|vanilla)`"
      ]
    },
    {
      "cell_type": "code",
      "metadata": {
        "id": "sk-8SNKKlzKF",
        "colab_type": "code",
        "outputId": "fd415c8c-8141-40c0-e196-3b498c5ef746",
        "colab": {
          "base_uri": "https://localhost:8080/",
          "height": 35
        }
      },
      "source": [
        "# conditional probability\n",
        "p_B1= .5 # independent probability of bowl 1\n",
        "p_VB1=.75 # cond prob\n",
        "p_V = 50/80 # indep prob of vanilla\n",
        "p_B1V = (p_B1*p_VB1)/p_V\n",
        "print(p_B1V)"
      ],
      "execution_count": 0,
      "outputs": [
        {
          "output_type": "stream",
          "text": [
            "0.6\n"
          ],
          "name": "stdout"
        }
      ]
    },
    {
      "cell_type": "code",
      "metadata": {
        "id": "XA6tIHOUsiZm",
        "colab_type": "code",
        "outputId": "bedbf63c-28d5-422b-eb28-3c2375b39842",
        "colab": {
          "base_uri": "https://localhost:8080/",
          "height": 35
        }
      },
      "source": [
        "# confirm what we did\n",
        "(.5*.75)/(50/80)"
      ],
      "execution_count": 0,
      "outputs": [
        {
          "output_type": "execute_result",
          "data": {
            "text/plain": [
              "0.6"
            ]
          },
          "metadata": {
            "tags": []
          },
          "execution_count": 7
        }
      ]
    },
    {
      "cell_type": "markdown",
      "metadata": {
        "id": "tVP9GQbulzKH",
        "colab_type": "text"
      },
      "source": [
        "**Bayes' theorem:**\n",
        "$$p(H|D) = \\frac{p(H) * p(D|H)}{p(D)}$$\n",
        "\n",
        "* H is the **hypothesis**  \n",
        "* D is the observed **data**  \n",
        "* p(H) is the probability of the hypothesis before we see the data, called the prior probability, or just **prior**.    \n",
        "* p(D) is the **marginal probability**, likelihood considered independently  \n",
        "* p(D|H) is the probability of the data under the hypothesis, called the **conditional probability**.   \n",
        "*  p(H|D) is what we want to compute, the probability of the hypothesis after we see the data, called the **posterior** probability."
      ]
    },
    {
      "cell_type": "markdown",
      "metadata": {
        "id": "DMjGtpqSlzKI",
        "colab_type": "text"
      },
      "source": [
        "$$posterior = \\frac{prior * conditional}{marginal}$$\n"
      ]
    },
    {
      "cell_type": "markdown",
      "metadata": {
        "id": "tTcAqimilzKI",
        "colab_type": "text"
      },
      "source": [
        "## The Monty Hall Challenge\n",
        "https://math.ucsd.edu/~crypto/Monty/monty.html\n",
        "\n",
        "<div>\n",
        "<img src=\"http://www.sciencemadesimple.co.uk/files/2016/04/The-choices.png\" width=\"400\"/>\n",
        "</div>"
      ]
    },
    {
      "cell_type": "code",
      "metadata": {
        "id": "2qIFRcrylzKJ",
        "colab_type": "code",
        "colab": {}
      },
      "source": [
        "# Let's recreate the game with code.\n",
        "import random"
      ],
      "execution_count": 0,
      "outputs": []
    },
    {
      "cell_type": "code",
      "metadata": {
        "id": "J12wVQJpusGf",
        "colab_type": "code",
        "colab": {}
      },
      "source": [
        "def lets_make_a_deal(initial, secondary):\n",
        "  doors=['a','b','c']\n",
        "  second_choices=['KEEP', 'SWITCH']\n",
        "  car = random.choice(doors)\n",
        "  if initial== car and secondary=='KEEP':\n",
        "    result=1\n",
        "  elif initial!=car and secondary == 'SWITCH':\n",
        "    result=1\n",
        "  else:\n",
        "    result=0\n",
        "#   print(f'Car was behind door {car}. You initially picked {initial} and then you decided to {secondary}. Points={result}')\n",
        "  return result"
      ],
      "execution_count": 0,
      "outputs": []
    },
    {
      "cell_type": "code",
      "metadata": {
        "id": "M6Y7CwPovGNf",
        "colab_type": "code",
        "outputId": "46e2bca3-9313-4582-c79b-51e1c48d24b6",
        "colab": {
          "base_uri": "https://localhost:8080/",
          "height": 52
        }
      },
      "source": [
        "# try it out!\n",
        "lets_make_a_deal('c', 'SWITCH')"
      ],
      "execution_count": 0,
      "outputs": [
        {
          "output_type": "stream",
          "text": [
            "Car was behind door c. You initially picked c and then you decided to SWITCH. Points=0\n"
          ],
          "name": "stdout"
        },
        {
          "output_type": "execute_result",
          "data": {
            "text/plain": [
              "0"
            ]
          },
          "metadata": {
            "tags": []
          },
          "execution_count": 18
        }
      ]
    },
    {
      "cell_type": "code",
      "metadata": {
        "id": "5zs6OmY4lzKL",
        "colab_type": "code",
        "colab": {}
      },
      "source": [
        "# Choose a door (A, B, C,) and a choice (KEEP, SWITCH)\n"
      ],
      "execution_count": 0,
      "outputs": []
    },
    {
      "cell_type": "code",
      "metadata": {
        "id": "LK7LwwUllzKN",
        "colab_type": "code",
        "outputId": "202faea7-1036-4dab-8bfb-1c1232bfd9f2",
        "colab": {
          "base_uri": "https://localhost:8080/",
          "height": 35
        }
      },
      "source": [
        "# Play the game 10,000 times. Which strategy is better? (Note: comment out the 'print'!)\n",
        "wins = 0\n",
        "doors=['a', 'b', 'c']\n",
        "for x in range(0,10000):\n",
        "  points=lets_make_a_deal(random.choice(doors), 'SWITCH')\n",
        "  wins=wins+points\n",
        "print('total points if switch:', wins)"
      ],
      "execution_count": 0,
      "outputs": [
        {
          "output_type": "stream",
          "text": [
            "total points if switch: 6666\n"
          ],
          "name": "stdout"
        }
      ]
    },
    {
      "cell_type": "code",
      "metadata": {
        "id": "sKkrSGjLwgpH",
        "colab_type": "code",
        "outputId": "4f88600e-033b-4f50-ea7a-d55c093b3d01",
        "colab": {
          "base_uri": "https://localhost:8080/",
          "height": 35
        }
      },
      "source": [
        "# Play the game 10,000 times. Which strategy is better? (Note: comment out the 'print'!)\n",
        "wins = 0\n",
        "doors=['a', 'b', 'c']\n",
        "for x in range(0,10000):\n",
        "  points=lets_make_a_deal(random.choice(doors), 'KEEP')\n",
        "  wins=wins+points\n",
        "print('total points if KEEP:', wins)"
      ],
      "execution_count": 0,
      "outputs": [
        {
          "output_type": "stream",
          "text": [
            "total points if KEEP: 3317\n"
          ],
          "name": "stdout"
        }
      ]
    },
    {
      "cell_type": "markdown",
      "metadata": {
        "id": "3iLe_Hl3lzKP",
        "colab_type": "text"
      },
      "source": [
        "Suppose you pick door A. The host opens door B to reveal a goat. Should you switch to door C?  \n",
        "* prior probability  = 1/3\n",
        "* marginal probability  = 1/2  \n",
        "* conditional probability =          (1/2 * 1/3)       +           ( 0 * 1/3)       +           ( 1 * 1/3) = 1/2"
      ]
    },
    {
      "cell_type": "code",
      "metadata": {
        "id": "LZzaA-eqlzKP",
        "colab_type": "code",
        "colab": {}
      },
      "source": [
        "# define your prior, marginal, and conditional probabilities\n",
        "prior=.33\n",
        "marginal=.5\n",
        "conditional=(.5*.33)+(0*.33)+(1*.33)"
      ],
      "execution_count": 0,
      "outputs": []
    },
    {
      "cell_type": "code",
      "metadata": {
        "id": "uEX7h8YwlzKS",
        "colab_type": "code",
        "outputId": "b51d07db-906f-43bb-afad-323d4d47ba9d",
        "colab": {
          "base_uri": "https://localhost:8080/",
          "height": 35
        }
      },
      "source": [
        "# P(car is A | choice is A) = (marginal * prior) / conditional\n",
        "posterior = (prior * conditional)/marginal\n",
        "print(posterior)"
      ],
      "execution_count": 0,
      "outputs": [
        {
          "output_type": "stream",
          "text": [
            "0.3267\n"
          ],
          "name": "stdout"
        }
      ]
    },
    {
      "cell_type": "code",
      "metadata": {
        "id": "fFpmpDXJlzKT",
        "colab_type": "code",
        "outputId": "53105b61-f7b2-43de-89bf-543f46cda2c7",
        "colab": {
          "base_uri": "https://localhost:8080/",
          "height": 35
        }
      },
      "source": [
        "# P(car is C | choice is A) = 1-P(car is A | choice is A)\n",
        "round(1-posterior,3)"
      ],
      "execution_count": 0,
      "outputs": [
        {
          "output_type": "execute_result",
          "data": {
            "text/plain": [
              "0.673"
            ]
          },
          "metadata": {
            "tags": []
          },
          "execution_count": 27
        }
      ]
    },
    {
      "cell_type": "markdown",
      "metadata": {
        "id": "LMupuQWZlzKV",
        "colab_type": "text"
      },
      "source": [
        "If we pick a door and then switch after seeing another door opens, the probability of selecting the right door increases from 1/3 to 2/3. It is, based on this information, always in our best interest to switch."
      ]
    },
    {
      "cell_type": "markdown",
      "metadata": {
        "colab_type": "text",
        "id": "3mz8p08BsN6p"
      },
      "source": [
        "## Bayes' Theorem and the Bayesian mindset"
      ]
    },
    {
      "cell_type": "markdown",
      "metadata": {
        "colab_type": "text",
        "id": "Fa-jzYp9i8La"
      },
      "source": [
        "### The Law of Total Probability\n",
        "\n",
        "\n",
        "By definition, the total probability of all outcomes (events) of some variable (event space) $A$ is 1. That is:\n",
        "\n",
        "$$P(A) = \\sum_n P(A_n) = 1$$\n",
        "\n",
        "The law of total probability takes this further, considering two variables ($A$ and $B$) and relating their marginal probabilities and their conditional probabilities. \n",
        "* marginal probabilities (their likelihoods considered independently, without reference to one another)\n",
        "* conditional probabilities (their likelihoods considered jointly)  \n",
        "A marginal probability is simply notated as e.g. $P(A)$, while a conditional probability is notated $P(A|B)$, which reads \"probability of $A$ *given* $B$\".\n",
        "\n",
        "The law of total probability states:\n",
        "\n",
        "$$P(A) = \\sum_n P(A | B_n) P(B_n)$$\n",
        "\n",
        "In words - the total probability of $A$ is equal to the sum of the conditional probability of $A$ on any given event $B_n$ times the probability of that event $B_n$, and summed over all possible events in $B$."
      ]
    },
    {
      "cell_type": "markdown",
      "metadata": {
        "colab_type": "text",
        "id": "GhycNr-Sbeie"
      },
      "source": [
        "\n",
        "\n",
        "\n",
        "\n",
        "### The Law of Conditional Probability\n",
        "\n",
        "What's the probability of something conditioned on something else? To determine this we have to go back to set theory and think about the intersection of sets:\n",
        "\n",
        "The formula for actual calculation:\n",
        "\n",
        "$$P(A|B) = \\frac{P(A \\cap B)}{P(B)}$$\n",
        "\n",
        "![Visualization of set intersection](https://upload.wikimedia.org/wikipedia/commons/9/99/Venn0001.svg)\n",
        "\n",
        "Think of the overall rectangle as the whole probability space, $A$ as the left circle, $B$ as the right circle, and their intersection as the red area. Try to visualize the ratio being described in the above formula, and how it is different from just the $P(A)$ (not conditioned on $B$).\n",
        "\n",
        "We can see how this relates back to the law of total probability - multiply both sides by $P(B)$ and you get $P(A|B)P(B) = P(A \\cap B)$ - replaced back into the law of total probability we get $P(A) = \\sum_n P(A \\cap B_n)$.\n",
        "\n",
        "This may not seem like an improvement at first, but try to relate it back to the above picture - if you think of sets as physical objects, we're saying that the total probability of $A$ given $B$ is all the little pieces of it intersected with $B$, added together. The conditional probability is then just that again, but divided by the probability of $B$ itself happening in the first place.\n"
      ]
    },
    {
      "cell_type": "markdown",
      "metadata": {
        "colab_type": "text",
        "id": "hi45SXVyi_Wt"
      },
      "source": [
        "### Bayes Theorem\n",
        "\n",
        "$$P(A|B) = \\frac{P(B|A)* P(A)}{P(B)}$$\n",
        "\n",
        "In words - the probability of $A$ conditioned on $B$ is the probability of $B$ conditioned on $A$, times the probability of $A$ and divided by the probability of $B$. \n",
        "\n",
        "\n",
        "### Using Bayes Theorem Iteratively (repeated testing)\n",
        "\n",
        "\n",
        "There are many ways to apply Bayes' theorem, such as drug tests. You may think that a drug test that is 100% accurate for true positives (detecting somebody who is a user) is pretty good, but what if it also has 1% false positive rate (indicating somebody is a user when they're not)? And furthermore, the rate of drug use in the population at large (and thus our prior belief) is 1/200.\n",
        "\n",
        "What is the likelihood somebody really is a user if they test positive? Some may guess it's 99% - the difference between the true positives and the false positives. But we have a prior belief of the background/true rate of drug use. Sounds like a job for Bayes' theorem!\n",
        "\n",
        "![Bayes Theorem Drug Test Example](https://wikimedia.org/api/rest_v1/media/math/render/svg/95c6524a3736c43e4bae139713f3df2392e6eda9)\n",
        "\n",
        "In other words, the likelihood that somebody is a user given they tested positive on a drug test is only 33.2% - probably much lower than you'd guess. This is why, in practice, it's important to use repeated testing to confirm. If we have the same individual who tested positive the first time take the drug test a second time then the posterior probability from our the first test becomes our new prior during the second application. What is the probability that a person is a drug user after two positive drug tests in a row?\n",
        "\n",
        "Bayes' theorem has been relevant in court cases where proper consideration of evidence was important. Whether it's a drug test, breathalyzer, pregnancy test, doctor's diagnosis, or neutrino detector, we have to take into account **both** the false positive rate and our prior probability in order to calculate the correct conditional probability."
      ]
    },
    {
      "cell_type": "markdown",
      "metadata": {
        "id": "EJoA0rYJlzKX",
        "colab_type": "text"
      },
      "source": [
        "* P(+|User) = 1 - True Positive Rate\n",
        "\n",
        "* P(User) = 1/200 Prior probability\n",
        "\n",
        "* P(+|Non-user) = False Positive rate\n",
        "\n",
        "You only need the above three numbers in order to calculate bayes rule  "
      ]
    },
    {
      "cell_type": "code",
      "metadata": {
        "id": "m-oOfYkSlzKY",
        "colab_type": "code",
        "colab": {}
      },
      "source": [
        "# prior belief\n",
        "P_user=1/200\n",
        "# complement of the prior belief\n",
        "P_non_user=1-P_user\n",
        "# true positive rate\n",
        "P_pos_given_user= 1\n",
        "# false positive rate\n",
        "P_pos_given_nonuser=.01"
      ],
      "execution_count": 0,
      "outputs": []
    },
    {
      "cell_type": "code",
      "metadata": {
        "id": "JjdM0AQjlzKa",
        "colab_type": "code",
        "outputId": "4a35b2d6-f172-4488-90ce-074ee524d821",
        "colab": {
          "base_uri": "https://localhost:8080/",
          "height": 35
        }
      },
      "source": [
        "# My first iteration of Bayes Rule (Bayes Theorem)\n",
        "numerator = P_pos_given_user*P_user\n",
        "denom = (P_pos_given_user * P_user) + (P_pos_given_nonuser*P_non_user)\n",
        "posterior1=numerator/denom\n",
        "print(posterior1)"
      ],
      "execution_count": 0,
      "outputs": [
        {
          "output_type": "stream",
          "text": [
            "0.33444816053511706\n"
          ],
          "name": "stdout"
        }
      ]
    },
    {
      "cell_type": "code",
      "metadata": {
        "id": "ZzI5r2ZNlzKc",
        "colab_type": "code",
        "outputId": "749adc03-2006-4b0a-9259-a922c3f88954",
        "colab": {
          "base_uri": "https://localhost:8080/",
          "height": 35
        }
      },
      "source": [
        "# We have the same person take the drug test again, and they test positive again\n",
        "# Now what is the likelihood that they are a drug user?\n",
        "# The posterior probability from the first test becomes our prior for the second iteration.\n",
        "\n",
        "P_user=posterior1\n",
        "P_nonuser=1-P_user\n",
        "# run Bayes theorem\n",
        "numerator = P_pos_given_user*P_user\n",
        "denom = (P_pos_given_user * P_user) + (P_pos_given_nonuser*P_non_user)\n",
        "posterior2=numerator/denom\n",
        "print(posterior2)"
      ],
      "execution_count": 0,
      "outputs": [
        {
          "output_type": "stream",
          "text": [
            "0.9711090210686957\n"
          ],
          "name": "stdout"
        }
      ]
    },
    {
      "cell_type": "code",
      "metadata": {
        "id": "Ir3hB2yWlzKi",
        "colab_type": "code",
        "outputId": "dd77f383-1b8c-4771-a0b6-c1ca8bddda89",
        "colab": {
          "base_uri": "https://localhost:8080/",
          "height": 35
        }
      },
      "source": [
        "# Now the third test\n",
        "\n",
        "P_user=posterior2\n",
        "P_nonuser=1-P_user\n",
        "# run Bayes theorem\n",
        "numerator = P_pos_given_user*P_user\n",
        "denom = (P_pos_given_user * P_user) + (P_pos_given_nonuser*P_non_user)\n",
        "posterior3=numerator/denom\n",
        "print(posterior3)"
      ],
      "execution_count": 0,
      "outputs": [
        {
          "output_type": "stream",
          "text": [
            "0.9898578986724355\n"
          ],
          "name": "stdout"
        }
      ]
    },
    {
      "cell_type": "code",
      "metadata": {
        "id": "AaPpDiCLlzKl",
        "colab_type": "code",
        "outputId": "8ce9ae94-36d3-4c52-fa9e-baf0dbad8816",
        "colab": {
          "base_uri": "https://localhost:8080/",
          "height": 35
        }
      },
      "source": [
        "# Fourth test\n",
        "\n",
        "P_user=posterior3\n",
        "P_nonuser=1-P_user\n",
        "# run Bayes theorem\n",
        "numerator = P_pos_given_user*P_user\n",
        "denom = (P_pos_given_user * P_user) + (P_pos_given_nonuser*P_non_user)\n",
        "posterior4=numerator/denom\n",
        "print(posterior4)"
      ],
      "execution_count": 0,
      "outputs": [
        {
          "output_type": "stream",
          "text": [
            "0.9900480882245362\n"
          ],
          "name": "stdout"
        }
      ]
    },
    {
      "cell_type": "code",
      "metadata": {
        "id": "wg0j6ggflzKq",
        "colab_type": "code",
        "colab": {}
      },
      "source": [
        "# Turn all of that into a function\n",
        "def prob_drug_use(prior, fpr, tpr, num_tests):\n",
        "  posterior=prior\n",
        "  for test in range(0, num_tests):\n",
        "    # prior belief\n",
        "    P_user=posterior\n",
        "    # complement of the prior belief\n",
        "    P_non_user=1-P_user\n",
        "    # true positive rate\n",
        "    P_pos_given_user= 1\n",
        "    # false positive rate\n",
        "    P_pos_given_nonuser=.01\n",
        "    # theorem\n",
        "    numerator = P_pos_given_user*P_user\n",
        "    denom = (P_pos_given_user * P_user) + (P_pos_given_nonuser*P_non_user)\n",
        "    posterior=numerator/denom\n",
        "  return posterior"
      ],
      "execution_count": 0,
      "outputs": []
    },
    {
      "cell_type": "code",
      "metadata": {
        "id": "GoVvfgo1lzKs",
        "colab_type": "code",
        "outputId": "295fc049-c7e5-4095-a566-f00e017eaf81",
        "colab": {
          "base_uri": "https://localhost:8080/",
          "height": 35
        }
      },
      "source": [
        "# try it out\n",
        "prob_drug_use(1/200, .01, 1, 1 )"
      ],
      "execution_count": 0,
      "outputs": [
        {
          "output_type": "execute_result",
          "data": {
            "text/plain": [
              "0.33444816053511706"
            ]
          },
          "metadata": {
            "tags": []
          },
          "execution_count": 35
        }
      ]
    },
    {
      "cell_type": "markdown",
      "metadata": {
        "colab_type": "text",
        "id": "htI3DGvDsRJF"
      },
      "source": [
        "## Calculating Bayesian Confidence"
      ]
    },
    {
      "cell_type": "code",
      "metadata": {
        "colab_type": "code",
        "id": "ke-5EqJI0Tsn",
        "colab": {}
      },
      "source": [
        "https://docs.scipy.org/doc/scipy/reference/generated/scipy.stats.bayes_mvs.html  "
      ],
      "execution_count": 0,
      "outputs": []
    },
    {
      "cell_type": "markdown",
      "metadata": {
        "id": "DLDOCiW9lzKw",
        "colab_type": "text"
      },
      "source": [
        "#### Example 1. Using random number generator"
      ]
    },
    {
      "cell_type": "code",
      "metadata": {
        "id": "mFdETSdQlzKx",
        "colab_type": "code",
        "outputId": "f1d07733-1bfd-448c-e8bc-429668eea124",
        "colab": {
          "base_uri": "https://localhost:8080/",
          "height": 35
        }
      },
      "source": [
        "# import scipy and numpy\n",
        "from scipy import stats\n",
        "import numpy as np\n",
        "# Set Random Seed for Reproducibility\n",
        "np.random.seed(seed=42)\n",
        "coinflips =np.random.binomial(n=1, p=.5, size=100)\n",
        "print(coinflips[:10])\n"
      ],
      "execution_count": 0,
      "outputs": [
        {
          "output_type": "stream",
          "text": [
            "[0 1 1 1 0 0 0 1 1 1]\n"
          ],
          "name": "stdout"
        }
      ]
    },
    {
      "cell_type": "code",
      "metadata": {
        "id": "3WROf9mLlzKz",
        "colab_type": "code",
        "outputId": "5a0dd43f-a351-4dd8-e6d5-9d4838665275",
        "colab": {
          "base_uri": "https://localhost:8080/",
          "height": 35
        }
      },
      "source": [
        "# FREQUENTIST APPROACH\n",
        "# calculate a 95% confidence interval on either side of this.\n",
        "coinflips.mean()\n",
        "\n",
        "ci_freq=stats.t.interval(0.95, # confidence level (alpha)\n",
        "                         len(coinflips), # length of sample\n",
        "                         loc=np.mean(coinflips), # sample mean\n",
        "                         scale = stats.sem(coinflips) # std error of the mean              \n",
        "                        )\n",
        "print(ci_freq)"
      ],
      "execution_count": 0,
      "outputs": [
        {
          "output_type": "stream",
          "text": [
            "(0.37048129875673796, 0.569518701243262)\n"
          ],
          "name": "stdout"
        }
      ]
    },
    {
      "cell_type": "code",
      "metadata": {
        "id": "xYOE0u0nlzK1",
        "colab_type": "code",
        "outputId": "21c88018-5031-4119-e691-000a159421e1",
        "colab": {
          "base_uri": "https://localhost:8080/",
          "height": 35
        }
      },
      "source": [
        "# BAYESIAN APPROACH\n",
        "ci_bayes=stats.bayes_mvs(coinflips, alpha=.95)[0][1]\n",
        "print(ci_bayes)"
      ],
      "execution_count": 0,
      "outputs": [
        {
          "output_type": "stream",
          "text": [
            "(0.37046898750173674, 0.5695310124982632)\n"
          ],
          "name": "stdout"
        }
      ]
    },
    {
      "cell_type": "code",
      "metadata": {
        "id": "7RZ_rB9553EK",
        "colab_type": "code",
        "colab": {}
      },
      "source": [
        "import seaborn as sns\n",
        "import matplotlib.pyplot as plt"
      ],
      "execution_count": 0,
      "outputs": []
    },
    {
      "cell_type": "code",
      "metadata": {
        "id": "PVYH5y_dlzK2",
        "colab_type": "code",
        "outputId": "39b355a7-ee47-46fd-9bcc-1012da49686c",
        "colab": {
          "base_uri": "https://localhost:8080/",
          "height": 265
        }
      },
      "source": [
        "# plot on graph with kernel density estimate\n",
        "sns.kdeplot(coinflips);\n",
        "plt.axvline(x=ci_freq[0], color='red');\n",
        "plt.axvline(x=ci_freq[1], color='red');\n",
        "plt.axvline(x=ci_bayes[0], color='green');\n",
        "plt.axvline(x=ci_bayes[1], color='green');\n",
        "plt.axvline(x=np.mean(coinflips), color='k');\n",
        "plt.xlim(.3703, .3705);"
      ],
      "execution_count": 0,
      "outputs": [
        {
          "output_type": "display_data",
          "data": {
            "image/png": "[encoded data removed]",
            "text/plain": [
              "<Figure size 432x288 with 1 Axes>"
            ]
          },
          "metadata": {
            "tags": []
          }
        }
      ]
    },
    {
      "cell_type": "markdown",
      "metadata": {
        "id": "ukenou3hlzK4",
        "colab_type": "text"
      },
      "source": [
        "#### Example 2. Using pandas dataframe"
      ]
    },
    {
      "cell_type": "code",
      "metadata": {
        "id": "EDpI8d0flzK4",
        "colab_type": "code",
        "outputId": "be02677e-d472-4c80-ac93-9c3e80300125",
        "colab": {
          "base_uri": "https://localhost:8080/",
          "height": 247
        }
      },
      "source": [
        "# read in the adult workforce dataset\n",
        "url='https://raw.githubusercontent.com/ryanleeallred/datasets/master/adult.csv'\n",
        "import pandas as pd\n",
        "df = pd.read_csv(url, na_values='?')\n",
        "df.head(3)"
      ],
      "execution_count": 0,
      "outputs": [
        {
          "output_type": "execute_result",
          "data": {
            "text/html": [
              "<div>\n",
              "<style scoped>\n",
              "    .dataframe tbody tr th:only-of-type {\n",
              "        vertical-align: middle;\n",
              "    }\n",
              "\n",
              "    .dataframe tbody tr th {\n",
              "        vertical-align: top;\n",
              "    }\n",
              "\n",
              "    .dataframe thead th {\n",
              "        text-align: right;\n",
              "    }\n",
              "</style>\n",
              "<table border=\"1\" class=\"dataframe\">\n",
              "  <thead>\n",
              "    <tr style=\"text-align: right;\">\n",
              "      <th></th>\n",
              "      <th>age</th>\n",
              "      <th>workclass</th>\n",
              "      <th>fnlwgt</th>\n",
              "      <th>education</th>\n",
              "      <th>education-num</th>\n",
              "      <th>marital-status</th>\n",
              "      <th>occupation</th>\n",
              "      <th>relationship</th>\n",
              "      <th>race</th>\n",
              "      <th>sex</th>\n",
              "      <th>capital-gain</th>\n",
              "      <th>capital-loss</th>\n",
              "      <th>hours-per-week</th>\n",
              "      <th>country</th>\n",
              "      <th>salary</th>\n",
              "    </tr>\n",
              "  </thead>\n",
              "  <tbody>\n",
              "    <tr>\n",
              "      <th>0</th>\n",
              "      <td>39</td>\n",
              "      <td>State-gov</td>\n",
              "      <td>77516</td>\n",
              "      <td>Bachelors</td>\n",
              "      <td>13</td>\n",
              "      <td>Never-married</td>\n",
              "      <td>Adm-clerical</td>\n",
              "      <td>Not-in-family</td>\n",
              "      <td>White</td>\n",
              "      <td>Male</td>\n",
              "      <td>2174</td>\n",
              "      <td>0</td>\n",
              "      <td>40</td>\n",
              "      <td>United-States</td>\n",
              "      <td>&lt;=50K</td>\n",
              "    </tr>\n",
              "    <tr>\n",
              "      <th>1</th>\n",
              "      <td>50</td>\n",
              "      <td>Self-emp-not-inc</td>\n",
              "      <td>83311</td>\n",
              "      <td>Bachelors</td>\n",
              "      <td>13</td>\n",
              "      <td>Married-civ-spouse</td>\n",
              "      <td>Exec-managerial</td>\n",
              "      <td>Husband</td>\n",
              "      <td>White</td>\n",
              "      <td>Male</td>\n",
              "      <td>0</td>\n",
              "      <td>0</td>\n",
              "      <td>13</td>\n",
              "      <td>United-States</td>\n",
              "      <td>&lt;=50K</td>\n",
              "    </tr>\n",
              "    <tr>\n",
              "      <th>2</th>\n",
              "      <td>38</td>\n",
              "      <td>Private</td>\n",
              "      <td>215646</td>\n",
              "      <td>HS-grad</td>\n",
              "      <td>9</td>\n",
              "      <td>Divorced</td>\n",
              "      <td>Handlers-cleaners</td>\n",
              "      <td>Not-in-family</td>\n",
              "      <td>White</td>\n",
              "      <td>Male</td>\n",
              "      <td>0</td>\n",
              "      <td>0</td>\n",
              "      <td>40</td>\n",
              "      <td>United-States</td>\n",
              "      <td>&lt;=50K</td>\n",
              "    </tr>\n",
              "  </tbody>\n",
              "</table>\n",
              "</div>"
            ],
            "text/plain": [
              "   age          workclass  fnlwgt  ... hours-per-week         country  salary\n",
              "0   39          State-gov   77516  ...             40   United-States   <=50K\n",
              "1   50   Self-emp-not-inc   83311  ...             13   United-States   <=50K\n",
              "2   38            Private  215646  ...             40   United-States   <=50K\n",
              "\n",
              "[3 rows x 15 columns]"
            ]
          },
          "metadata": {
            "tags": []
          },
          "execution_count": 58
        }
      ]
    },
    {
      "cell_type": "code",
      "metadata": {
        "id": "6bBQaLr7lzK9",
        "colab_type": "code",
        "colab": {}
      },
      "source": [
        "# mean age\n",
        "samp_mean=df['age'].mean()"
      ],
      "execution_count": 0,
      "outputs": []
    },
    {
      "cell_type": "code",
      "metadata": {
        "id": "2Bc6eEF4lzK_",
        "colab_type": "code",
        "outputId": "72bd0e96-ce82-4591-ddda-1f5147850cf6",
        "colab": {
          "base_uri": "https://localhost:8080/",
          "height": 35
        }
      },
      "source": [
        "# FREQUENTIST APPROACH\n",
        "# calculate a 95% confidence interval on either side of this.\n",
        "ci_freq=stats.t.interval(0.95, # confidence level (alpha)\n",
        "                         df.shape[0], # length of sample\n",
        "                         loc=samp_mean, # sample mean\n",
        "                         scale = stats.sem(df['age']) # std error of the mean              \n",
        "                        )\n",
        "print(ci_freq)"
      ],
      "execution_count": 0,
      "outputs": [
        {
          "output_type": "stream",
          "text": [
            "(38.433482476875845, 38.72981103376572)\n"
          ],
          "name": "stdout"
        }
      ]
    },
    {
      "cell_type": "code",
      "metadata": {
        "id": "eLwuX8LVlzLA",
        "colab_type": "code",
        "outputId": "dcf9978c-f93c-423d-d293-de33f132d281",
        "colab": {
          "base_uri": "https://localhost:8080/",
          "height": 35
        }
      },
      "source": [
        "# BAYESIAN APPROACH\n",
        "ci_bayes=stats.bayes_mvs(df['age'], alpha=.95)[0][1]\n",
        "print(ci_bayes)"
      ],
      "execution_count": 0,
      "outputs": [
        {
          "output_type": "stream",
          "text": [
            "(38.433490259580736, 38.72980325106083)\n"
          ],
          "name": "stdout"
        }
      ]
    },
    {
      "cell_type": "code",
      "metadata": {
        "id": "mwdtJ3OAlzLD",
        "colab_type": "code",
        "outputId": "926395cb-9ced-4996-baa9-f46d38c142c0",
        "colab": {
          "base_uri": "https://localhost:8080/",
          "height": 265
        }
      },
      "source": [
        "# plot on graph with kernel density estimate\n",
        "sns.kdeplot(df['age']);\n",
        "plt.axvline(x=ci_freq[0], color='red');\n",
        "plt.axvline(x=ci_freq[1], color='red');\n",
        "plt.axvline(x=ci_bayes[0], color='green');\n",
        "plt.axvline(x=ci_bayes[1], color='green');\n",
        "plt.axvline(x=samp_mean, color='k');\n",
        "plt.xlim(38, 39);"
      ],
      "execution_count": 0,
      "outputs": [
        {
          "output_type": "display_data",
          "data": {
            "image/png": "[encoded data removed]",
            "text/plain": [
              "<Figure size 432x288 with 1 Axes>"
            ]
          },
          "metadata": {
            "tags": []
          }
        }
      ]
    },
    {
      "cell_type": "markdown",
      "metadata": {
        "id": "d3DOeTFIlzLF",
        "colab_type": "text"
      },
      "source": [
        "## Pregnancy Test Example"
      ]
    },
    {
      "cell_type": "markdown",
      "metadata": {
        "id": "Ou40lIDAlzLH",
        "colab_type": "text"
      },
      "source": [
        "The **prior** is our belief in the model given no additional information. This model could be as simple as a statistic, such as the mean we're measuring, or a complex regression.  \n",
        "The **conditional probability** is the probability of the data we observed occurring given the model.   \n",
        "The **marginal probability** of the data is the probability that our data are observed regardless of what model we choose or believe in. You divide the likelihood by this value to ensure that we are only talking about our model within the context of the data occurring. "
      ]
    },
    {
      "cell_type": "markdown",
      "metadata": {
        "id": "83SiBlerlzLH",
        "colab_type": "text"
      },
      "source": [
        "Imagine that we have a suspicion that someone is pregnant. We might use a pregnancy test to determine whether or not that's the case. Consider the following:\n",
        "\n",
        "1) Our hypothesis, $H$, is that this person is pregnant.   \n",
        "2) A positive result on the pregnancy test is denoted as $D$.   \n",
        "3) We'll consider some \"information\" about the world: $p(H) = 0.125$  \n",
        "**prior**: on average, 12.5 percent of women are pregnant (not accurate, but useful for our purposes here).  \n",
        "**marginal**: $p(D) = 0.14$ — Fourteen percent of people who take the pregnancy test come back with a positive result.  \n",
        "**likelihood**: $p(D|H) = 0.85$ — The likelihood states, \"How likely would we get data that look like this if our hypothesis was true?\" In other words, how accurate is our test?    \n",
        "**Estimate how likely it is that a woman who got a positive result is actually be pregnant using Bayes' theorem.**  \n",
        "We've got a decent chance of the results being accurate, but not 100 percent — that means that our posterior probability of somebody being pregnant, ($H=1$), given the data that we've seen (a positive result on the test) is 0.759 percent."
      ]
    },
    {
      "cell_type": "code",
      "metadata": {
        "id": "NFBk2M-ZlzLH",
        "colab_type": "code",
        "outputId": "05993e51-979b-4e20-d97a-35ef1cf2977e",
        "colab": {
          "base_uri": "https://localhost:8080/",
          "height": 35
        }
      },
      "source": [
        "# Define a function for bayes' theorem, assuming you know the conditional, prior, and marginal probabilities.\n",
        "def bayes(conditional, prior, marginal):\n",
        "  return (conditional*prior)/marginal\n",
        "\n",
        "posterior = bayes(.85, .125, .14)\n",
        "print(posterior)"
      ],
      "execution_count": 0,
      "outputs": [
        {
          "output_type": "stream",
          "text": [
            "0.7589285714285713\n"
          ],
          "name": "stdout"
        }
      ]
    },
    {
      "cell_type": "markdown",
      "metadata": {
        "colab_type": "text",
        "id": "uWgWjp3PQ3Sq"
      },
      "source": [
        "## Resources"
      ]
    },
    {
      "cell_type": "markdown",
      "metadata": {
        "colab_type": "text",
        "id": "QRgHqmYIQ9qn"
      },
      "source": [
        "- [Worked example of Bayes rule calculation](https://en.wikipedia.org/wiki/Bayes'_theorem#Examples) (helpful as it fully breaks out the denominator)\n",
        "- [Source code for mvsdist in scipy](https://github.com/scipy/scipy/blob/90534919e139d2a81c24bf08341734ff41a3db12/scipy/stats/morestats.py#L139)"
      ]
    }
  ]
}