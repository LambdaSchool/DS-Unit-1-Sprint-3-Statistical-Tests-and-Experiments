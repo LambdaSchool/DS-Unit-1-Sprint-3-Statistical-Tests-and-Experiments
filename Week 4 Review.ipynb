{
 "cells": [
  {
   "cell_type": "markdown",
   "metadata": {},
   "source": [
    "### Hypothesis Testing\n",
    "---\n",
    "* ttest\n",
    "    * (mean2 - mean1 / stderr)\n",
    "* chi2\n",
    "* ztest\n",
    "\n",
    "* **Single Sample**\n",
    "    * One Sample v.s. A distribution\n",
    "    \n",
    "* **Two Sample**\n",
    "    * Sample One v.s. Sample Two\n",
    "    * Comparison of whether the average (mu) difference of two groups is significant.\n",
    "\n",
    "### Distributions\n",
    "---\n",
    "\n",
    "###### Distributions align regularly with real world phenomena.  As such, understanding of probability distributions can help us assess how to categorize and test sample data.\n",
    "\n",
    "**Distribution Transformations**\n",
    "\n",
    "* **Important Distributions**\n",
    "    * Binomial\n",
    "    * "
   ]
  },
  {
   "cell_type": "code",
   "execution_count": 1,
   "metadata": {},
   "outputs": [],
   "source": [
    "import numpy as np\n",
    "import pandas as pd\n",
    "import scipy.stats as stats"
   ]
  },
  {
   "cell_type": "code",
   "execution_count": 8,
   "metadata": {},
   "outputs": [],
   "source": [
    "np.random.seed(282629734)\n",
    "x = stats.t.rvs(10, size=1000)\n",
    "xmin = x.min()\n",
    "xmax = x.max()\n",
    "xmean = x.mean()\n",
    "xstd = x.std()\n",
    "xvar = x.var()"
   ]
  },
  {
   "cell_type": "code",
   "execution_count": 10,
   "metadata": {},
   "outputs": [
    {
     "name": "stdout",
     "output_type": "stream",
     "text": [
      "1.288993862079285\n"
     ]
    }
   ],
   "source": [
    "print(xvar)"
   ]
  },
  {
   "cell_type": "code",
   "execution_count": 14,
   "metadata": {},
   "outputs": [
    {
     "data": {
      "text/plain": [
       "Ttest_1sampResult(statistic=0.39144935201466907, pvalue=0.6955485968932746)"
      ]
     },
     "execution_count": 14,
     "metadata": {},
     "output_type": "execute_result"
    }
   ],
   "source": [
    "stats.ttest_1samp(x, 0) #sample and null hypothesis (expected value)"
   ]
  },
  {
   "cell_type": "code",
   "execution_count": null,
   "metadata": {},
   "outputs": [],
   "source": [
    "stats.ttest"
   ]
  }
 ],
 "metadata": {
  "kernelspec": {
   "display_name": "Python 3",
   "language": "python",
   "name": "python3"
  },
  "language_info": {
   "codemirror_mode": {
    "name": "ipython",
    "version": 3
   },
   "file_extension": ".py",
   "mimetype": "text/x-python",
   "name": "python",
   "nbconvert_exporter": "python",
   "pygments_lexer": "ipython3",
   "version": "3.7.0"
  }
 },
 "nbformat": 4,
 "nbformat_minor": 2
}
