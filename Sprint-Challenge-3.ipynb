{
  "nbformat": 4,
  "nbformat_minor": 0,
  "metadata": {
    "colab": {
      "name": "DS_Unit_1_Sprint_Challenge_3.ipynb",
      "version": "0.3.2",
      "provenance": [],
      "collapsed_sections": [],
      "include_colab_link": true
    },
    "kernelspec": {
      "name": "python3",
      "display_name": "Python 3"
    }
  },
  "cells": [
    {
      "cell_type": "markdown",
      "metadata": {
        "id": "view-in-github",
        "colab_type": "text"
      },
      "source": [
        "<a href=\"https://colab.research.google.com/github/rgolds5/DS-Unit-1-Sprint-3-Statistical-Tests-and-Experiments/blob/master/Sprint-Challenge-3.ipynb\" target=\"_parent\"><img src=\"https://colab.research.google.com/assets/colab-badge.svg\" alt=\"Open In Colab\"/></a>"
      ]
    },
    {
      "cell_type": "markdown",
      "metadata": {
        "id": "NooAiTdnafkz",
        "colab_type": "text"
      },
      "source": [
        "# Data Science Unit 1 Sprint Challenge 3\n",
        "\n",
        "## Exploring Data, Testing Hypotheses\n",
        "\n",
        "In this sprint challenge you will look at a dataset of people being approved or rejected for credit.\n",
        "\n",
        "https://archive.ics.uci.edu/ml/datasets/Credit+Approval\n",
        "\n",
        "Data Set Information: This file concerns credit card applications. All attribute names and values have been changed to meaningless symbols to protect confidentiality of the data. This dataset is interesting because there is a good mix of attributes -- continuous, nominal with small numbers of values, and nominal with larger numbers of values. There are also a few missing values.\n",
        "\n",
        "Attribute Information:\n",
        "- A1: b, a.\n",
        "- A2: continuous.\n",
        "- A3: continuous.\n",
        "- A4: u, y, l, t.\n",
        "- A5: g, p, gg.\n",
        "- A6: c, d, cc, i, j, k, m, r, q, w, x, e, aa, ff.\n",
        "- A7: v, h, bb, j, n, z, dd, ff, o.\n",
        "- A8: continuous.\n",
        "- A9: t, f.\n",
        "- A10: t, f.\n",
        "- A11: continuous.\n",
        "- A12: t, f.\n",
        "- A13: g, p, s.\n",
        "- A14: continuous.\n",
        "- A15: continuous.\n",
        "- A16: +,- (class attribute)\n",
        "\n",
        "Yes, most of that doesn't mean anything. A16 (the class attribute) is the most interesting, as it separates the 307 approved cases from the 383 rejected cases. The remaining variables have been obfuscated for privacy - a challenge you may have to deal with in your data science career.\n",
        "\n",
        "Sprint challenges are evaluated based on satisfactory completion of each part. It is suggested you work through it in order, getting each aspect reasonably working, before trying to deeply explore, iterate, or refine any given step. Once you get to the end, if you want to go back and improve things, go for it!"
      ]
    },
    {
      "cell_type": "markdown",
      "metadata": {
        "id": "5wch6ksCbJtZ",
        "colab_type": "text"
      },
      "source": [
        "## Part 1 - Load and validate the data\n",
        "\n",
        "- Load the data as a `pandas` data frame.\n",
        "- Validate that it has the appropriate number of observations (you can check the raw file, and also read the dataset description from UCI).\n",
        "- UCI says there should be missing data - check, and if necessary change the data so pandas recognizes it as na\n",
        "- Make sure that the loaded features are of the types described above (continuous values should be treated as float), and correct as necessary\n",
        "\n",
        "This is review, but skills that you'll use at the start of any data exploration. Further, you may have to do some investigation to figure out which file to load from - that is part of the puzzle."
      ]
    },
    {
      "cell_type": "code",
      "metadata": {
        "id": "KNtLULUA3tX3",
        "colab_type": "code",
        "colab": {
          "base_uri": "https://localhost:8080/",
          "height": 462
        },
        "outputId": "16e818c4-890c-454a-cab3-5d6df99709a5"
      },
      "source": [
        "! pip install --upgrade Cython\n",
        "! pip install --upgrade git+https://github.com/statsmodels/statsmodels"
      ],
      "execution_count": 56,
      "outputs": [
        {
          "output_type": "stream",
          "text": [
            "Requirement already up-to-date: Cython in /usr/local/lib/python3.6/dist-packages (0.29.9)\n",
            "Collecting git+https://github.com/statsmodels/statsmodels\n",
            "  Cloning https://github.com/statsmodels/statsmodels to /tmp/pip-req-build-0ys3e9q4\n",
            "  Running command git clone -q https://github.com/statsmodels/statsmodels /tmp/pip-req-build-0ys3e9q4\n",
            "Requirement already satisfied, skipping upgrade: numpy>=1.11 in /usr/local/lib/python3.6/dist-packages (from statsmodels==0.10.0.dev0+1666.ga835dfdd1) (1.16.4)\n",
            "Requirement already satisfied, skipping upgrade: scipy>=0.18 in /usr/local/lib/python3.6/dist-packages (from statsmodels==0.10.0.dev0+1666.ga835dfdd1) (1.3.0)\n",
            "Requirement already satisfied, skipping upgrade: pandas>=0.19 in /usr/local/lib/python3.6/dist-packages (from statsmodels==0.10.0.dev0+1666.ga835dfdd1) (0.24.2)\n",
            "Requirement already satisfied, skipping upgrade: patsy>=0.4.0 in /usr/local/lib/python3.6/dist-packages (from statsmodels==0.10.0.dev0+1666.ga835dfdd1) (0.5.1)\n",
            "Requirement already satisfied, skipping upgrade: python-dateutil>=2.5.0 in /usr/local/lib/python3.6/dist-packages (from pandas>=0.19->statsmodels==0.10.0.dev0+1666.ga835dfdd1) (2.5.3)\n",
            "Requirement already satisfied, skipping upgrade: pytz>=2011k in /usr/local/lib/python3.6/dist-packages (from pandas>=0.19->statsmodels==0.10.0.dev0+1666.ga835dfdd1) (2018.9)\n",
            "Requirement already satisfied, skipping upgrade: six in /usr/local/lib/python3.6/dist-packages (from patsy>=0.4.0->statsmodels==0.10.0.dev0+1666.ga835dfdd1) (1.12.0)\n",
            "Building wheels for collected packages: statsmodels\n",
            "  Building wheel for statsmodels (setup.py) ... \u001b[?25l\u001b[?25hdone\n",
            "  Stored in directory: /tmp/pip-ephem-wheel-cache-jq3i2bwj/wheels/7d/ad/45/ac1a03bd759c2fa74c486e2b1950d94b55f511b4c2b0418bd5\n",
            "Successfully built statsmodels\n",
            "Installing collected packages: statsmodels\n",
            "  Found existing installation: statsmodels 0.9.0\n",
            "    Uninstalling statsmodels-0.9.0:\n",
            "      Successfully uninstalled statsmodels-0.9.0\n",
            "Successfully installed statsmodels-0.10.0.dev0+1666.ga835dfdd1\n"
          ],
          "name": "stdout"
        },
        {
          "output_type": "display_data",
          "data": {
            "application/vnd.colab-display-data+json": {
              "pip_warning": {
                "packages": [
                  "statsmodels"
                ]
              }
            }
          },
          "metadata": {
            "tags": []
          }
        }
      ]
    },
    {
      "cell_type": "code",
      "metadata": {
        "id": "Q79xDLckzibS",
        "colab_type": "code",
        "colab": {}
      },
      "source": [
        "# TODO\n",
        "\n",
        "import pandas as pd\n",
        "import matplotlib.pyplot as plt\n",
        "import seaborn as sns\n",
        "import statsmodels.stats.api as sms\n",
        "from scipy.stats import ttest_ind\n",
        "from scipy.stats import chi2_contingency\n",
        "pd.options.display.max_columns = None\n",
        "\n",
        "data_url = 'https://archive.ics.uci.edu/ml/machine-learning-databases/credit-screening/crx.data'\n",
        "col_names = ['A1', 'A2', 'A3', 'A4', 'A5', 'A6', 'A7', 'A8', 'A9', 'A10',\n",
        "             'A11', 'A12', 'A13', 'A14', 'A15', 'A16']\n",
        "\n",
        "df = pd.read_csv(data_url, header = None, names = col_names, na_values = '?')\n",
        "df[['A2', 'A11', 'A14', 'A15']].astype(float, inplace = True)\n",
        "assert df.shape == (690, 16)\n",
        "df = df.dropna()\n"
      ],
      "execution_count": 0,
      "outputs": []
    },
    {
      "cell_type": "code",
      "metadata": {
        "id": "0ioSvwFRpG0Q",
        "colab_type": "code",
        "colab": {
          "base_uri": "https://localhost:8080/",
          "height": 306
        },
        "outputId": "b7372183-be57-4133-a7c0-97e849ca253a"
      },
      "source": [
        "df.isna().sum()"
      ],
      "execution_count": 28,
      "outputs": [
        {
          "output_type": "execute_result",
          "data": {
            "text/plain": [
              "A1     0\n",
              "A2     0\n",
              "A3     0\n",
              "A4     0\n",
              "A5     0\n",
              "A6     0\n",
              "A7     0\n",
              "A8     0\n",
              "A9     0\n",
              "A10    0\n",
              "A11    0\n",
              "A12    0\n",
              "A13    0\n",
              "A14    0\n",
              "A15    0\n",
              "A16    0\n",
              "dtype: int64"
            ]
          },
          "metadata": {
            "tags": []
          },
          "execution_count": 28
        }
      ]
    },
    {
      "cell_type": "code",
      "metadata": {
        "id": "jkXR-msSpB85",
        "colab_type": "code",
        "colab": {
          "base_uri": "https://localhost:8080/",
          "height": 306
        },
        "outputId": "3f2b35c5-dae4-423b-9ee1-4841c737d60c"
      },
      "source": [
        "df.dtypes"
      ],
      "execution_count": 29,
      "outputs": [
        {
          "output_type": "execute_result",
          "data": {
            "text/plain": [
              "A1      object\n",
              "A2     float64\n",
              "A3     float64\n",
              "A4      object\n",
              "A5      object\n",
              "A6      object\n",
              "A7      object\n",
              "A8     float64\n",
              "A9      object\n",
              "A10     object\n",
              "A11      int64\n",
              "A12     object\n",
              "A13     object\n",
              "A14    float64\n",
              "A15      int64\n",
              "A16     object\n",
              "dtype: object"
            ]
          },
          "metadata": {
            "tags": []
          },
          "execution_count": 29
        }
      ]
    },
    {
      "cell_type": "markdown",
      "metadata": {
        "id": "G7rLytbrO38L",
        "colab_type": "text"
      },
      "source": [
        "## Part 2 - Exploring data, Testing hypotheses\n",
        "\n",
        "The only thing we really know about this data is that A16 is the class label. Besides that, we have 6 continuous (float) features and 9 categorical features.\n",
        "\n",
        "Explore the data: you can use whatever approach (tables, utility functions, visualizations) to get an impression of the distributions and relationships of the variables. In general, your goal is to understand how the features are different when grouped by the two class labels (`+` and `-`).\n",
        "\n",
        "For the 6 continuous features, how are they different when split between the two class labels? Choose two features to run t-tests (again split by class label) - specifically, select one feature that is *extremely* different between the classes, and another feature that is notably less different (though perhaps still \"statistically significantly\" different). You may have to explore more than two features to do this.\n",
        "\n",
        "For the categorical features, explore by creating \"cross tabs\" (aka [contingency tables](https://en.wikipedia.org/wiki/Contingency_table)) between them and the class label, and apply the Chi-squared test to them. [pandas.crosstab](http://pandas.pydata.org/pandas-docs/stable/reference/api/pandas.crosstab.html) can create contingency tables, and [scipy.stats.chi2_contingency](https://docs.scipy.org/doc/scipy/reference/generated/scipy.stats.chi2_contingency.html) can calculate the Chi-squared statistic for them.\n",
        "\n",
        "There are 9 categorical features - as with the t-test, try to find one where the Chi-squared test returns an extreme result (rejecting the null that the data are independent), and one where it is less extreme.\n",
        "\n",
        "**NOTE** - \"less extreme\" just means smaller test statistic/larger p-value. Even the least extreme differences may be strongly statistically significant.\n",
        "\n",
        "Your *main* goal is the hypothesis tests, so don't spend too much time on the exploration/visualization piece. That is just a means to an end - use simple visualizations, such as boxplots or a scatter matrix (both built in to pandas), to get a feel for the overall distribution of the variables.\n",
        "\n",
        "This is challenging, so manage your time and aim for a baseline of at least running two t-tests and two Chi-squared tests before polishing. And don't forget to answer the questions in part 3, even if your results in this part aren't what you want them to be."
      ]
    },
    {
      "cell_type": "code",
      "metadata": {
        "id": "_nqcgc0yzm68",
        "colab_type": "code",
        "colab": {
          "base_uri": "https://localhost:8080/",
          "height": 2605
        },
        "outputId": "2a773553-0037-4506-bc32-c7f5405538a9"
      },
      "source": [
        "# TODO\n",
        "cont_col = ['A2', 'A3', 'A8', 'A11', 'A14', 'A15']\n",
        "cat_col = ['A1', 'A4', 'A5', 'A6', 'A7', 'A9', 'A10', 'A12', 'A13']\n",
        "class_col = 'A16'\n",
        "\n",
        "def print_charts(df):\n",
        "  for col in cont_col:\n",
        "    plt.suptitle('')\n",
        "    df.boxplot(column = col, by = class_col, showfliers = False)\n",
        "    plt.show()\n",
        "  for col in cat_col:\n",
        "    print(pd.crosstab(df[class_col], df[col], normalize = 'index'))\n",
        "    \n",
        "print_charts(df)\n"
      ],
      "execution_count": 30,
      "outputs": [
        {
          "output_type": "display_data",
          "data": {
            "text/plain": [
              "<Figure size 432x288 with 0 Axes>"
            ]
          },
          "metadata": {
            "tags": []
          }
        },
        {
          "output_type": "display_data",
          "data": {
            "image/png": "[encoded data removed]",
            "text/plain": [
              "<Figure size 432x288 with 1 Axes>"
            ]
          },
          "metadata": {
            "tags": []
          }
        },
        {
          "output_type": "display_data",
          "data": {
            "text/plain": [
              "<Figure size 432x288 with 0 Axes>"
            ]
          },
          "metadata": {
            "tags": []
          }
        },
        {
          "output_type": "display_data",
          "data": {
            "image/png": "[encoded data removed]",
            "text/plain": [
              "<Figure size 432x288 with 1 Axes>"
            ]
          },
          "metadata": {
            "tags": []
          }
        },
        {
          "output_type": "display_data",
          "data": {
            "text/plain": [
              "<Figure size 432x288 with 0 Axes>"
            ]
          },
          "metadata": {
            "tags": []
          }
        },
        {
          "output_type": "display_data",
          "data": {
            "image/png": "[encoded data removed]",
            "text/plain": [
              "<Figure size 432x288 with 1 Axes>"
            ]
          },
          "metadata": {
            "tags": []
          }
        },
        {
          "output_type": "display_data",
          "data": {
            "text/plain": [
              "<Figure size 432x288 with 0 Axes>"
            ]
          },
          "metadata": {
            "tags": []
          }
        },
        {
          "output_type": "display_data",
          "data": {
            "image/png": "[encoded data removed]",
            "text/plain": [
              "<Figure size 432x288 with 1 Axes>"
            ]
          },
          "metadata": {
            "tags": []
          }
        },
        {
          "output_type": "display_data",
          "data": {
            "text/plain": [
              "<Figure size 432x288 with 0 Axes>"
            ]
          },
          "metadata": {
            "tags": []
          }
        },
        {
          "output_type": "display_data",
          "data": {
            "image/png": "[encoded data removed]",
            "text/plain": [
              "<Figure size 432x288 with 1 Axes>"
            ]
          },
          "metadata": {
            "tags": []
          }
        },
        {
          "output_type": "display_data",
          "data": {
            "text/plain": [
              "<Figure size 432x288 with 0 Axes>"
            ]
          },
          "metadata": {
            "tags": []
          }
        },
        {
          "output_type": "display_data",
          "data": {
            "image/png": "[encoded data removed]",
            "text/plain": [
              "<Figure size 432x288 with 1 Axes>"
            ]
          },
          "metadata": {
            "tags": []
          }
        },
        {
          "output_type": "stream",
          "text": [
            "A1          a         b\n",
            "A16                    \n",
            "+    0.320946  0.679054\n",
            "-    0.302521  0.697479\n",
            "A4          l         u         y\n",
            "A16                              \n",
            "+    0.006757  0.841216  0.152027\n",
            "-    0.000000  0.700280  0.299720\n",
            "A5          g        gg         p\n",
            "A16                              \n",
            "+    0.841216  0.006757  0.152027\n",
            "-    0.700280  0.000000  0.299720\n",
            "A6         aa         c        cc         d         e        ff         i  \\\n",
            "A16                                                                         \n",
            "+    0.064189  0.202703  0.097973  0.023649  0.047297  0.023649  0.047297   \n",
            "-    0.092437  0.204482  0.030812  0.053221  0.028011  0.120448  0.114846   \n",
            "\n",
            "A6          j         k         m         q         r         w         x  \n",
            "A16                                                                        \n",
            "+    0.010135  0.043919  0.054054  0.165541  0.006757  0.111486  0.101351  \n",
            "-    0.019608  0.098039  0.061625  0.072829  0.002801  0.084034  0.016807  \n",
            "A7         bb        dd        ff         h         j         n         o  \\\n",
            "A16                                                                         \n",
            "+    0.081081  0.006757  0.027027  0.293919  0.010135  0.006757  0.003378   \n",
            "-    0.081232  0.011204  0.128852  0.140056  0.014006  0.005602  0.002801   \n",
            "\n",
            "A7          v         z  \n",
            "A16                      \n",
            "+    0.550676  0.020270  \n",
            "-    0.610644  0.005602  \n",
            "A9          f         t\n",
            "A16                    \n",
            "+    0.060811  0.939189\n",
            "-    0.801120  0.198880\n",
            "A10         f         t\n",
            "A16                    \n",
            "+    0.314189  0.685811\n",
            "-    0.764706  0.235294\n",
            "A12         f         t\n",
            "A16                    \n",
            "+    0.510135  0.489865\n",
            "-    0.560224  0.439776\n",
            "A13         g         p         s\n",
            "A16                              \n",
            "+    0.945946  0.003378  0.050676\n",
            "-    0.890756  0.002801  0.106443\n"
          ],
          "name": "stdout"
        }
      ]
    },
    {
      "cell_type": "code",
      "metadata": {
        "id": "nw7C_vpn1PwX",
        "colab_type": "code",
        "colab": {
          "base_uri": "https://localhost:8080/",
          "height": 136
        },
        "outputId": "96c0f339-bd78-480d-af1f-986af45727f7"
      },
      "source": [
        "def build_conf_tbl(df):\n",
        "  combined_cm_df = pd.DataFrame()\n",
        "  for col in cont_col:\n",
        "    group0 = df[df[class_col] == '-'][col]\n",
        "    group1 = df[df[class_col] == '+'][col]\n",
        "    cm = sms.CompareMeans(sms.DescrStatsW(group0),\n",
        "                         sms.DescrStatsW(group1))\n",
        "    cm_df = (pd.DataFrame(cm.summary(usevar = 'unequal'),\n",
        "                        columns = ['a', 'b', 'c', 'd', 'e', 'f', 'g'])\n",
        "            .iloc[:, [1, 5, 6]])\n",
        "    cm_df = cm_df.drop(cm_df.index[0])\n",
        "    cm_df = cm_df.rename(columns = {'b': 'diff_mean', 'f': 'lower', 'g': 'upper'})\n",
        "    cm_df['feature'] = col\n",
        "    cm_df['feature'].astype(str)\n",
        "    _, pvalue = ttest_ind(group0, group1)\n",
        "    cm_df['p-value'] = round(pvalue, 3)\n",
        "    combined_cm_df = combined_cm_df.append(cm_df, ignore_index = True)\n",
        "\n",
        "  cols = ['diff_mean', 'lower', 'upper']\n",
        "  combined_cm_df[cols] = (combined_cm_df[cols].astype('str')\n",
        "                        .apply(pd.to_numeric, errors = 'coerce'))\n",
        "  print(combined_cm_df)\n",
        "\n",
        "  \n",
        "build_conf_tbl(df)"
      ],
      "execution_count": 74,
      "outputs": [
        {
          "output_type": "stream",
          "text": [
            "   diff_mean     lower    upper feature  p-value\n",
            "0    -4.2832    -6.111   -2.456      A2    0.000\n",
            "1    -2.0896    -2.865   -1.314      A3    0.000\n",
            "2    -2.2515    -2.772   -1.731      A8    0.000\n",
            "3    -4.0495    -4.809   -3.290     A11    0.000\n",
            "4    28.7873     3.020   54.554     A14    0.029\n",
            "5 -1821.7516 -2700.521 -942.982     A15    0.000\n"
          ],
          "name": "stdout"
        }
      ]
    },
    {
      "cell_type": "code",
      "metadata": {
        "id": "ojOu14c06Zu4",
        "colab_type": "code",
        "colab": {
          "base_uri": "https://localhost:8080/",
          "height": 170
        },
        "outputId": "1365fe92-b07c-4cb9-faf6-4e71b9e53a4c"
      },
      "source": [
        "for col in cat_col:\n",
        "  obs = pd.crosstab(df[class_col], df[col])\n",
        "  _, p, _, _ = chi2_contingency(obs)\n",
        "  print(f'Feature: {col}, P-Value: {p:.3f}')\n"
      ],
      "execution_count": 63,
      "outputs": [
        {
          "output_type": "stream",
          "text": [
            "Feature: A1, P-Value: 0.673\n",
            "Feature: A4, P-Value: 0.000\n",
            "Feature: A5, P-Value: 0.000\n",
            "Feature: A6, P-Value: 0.000\n",
            "Feature: A7, P-Value: 0.000\n",
            "Feature: A9, P-Value: 0.000\n",
            "Feature: A10, P-Value: 0.000\n",
            "Feature: A12, P-Value: 0.230\n",
            "Feature: A13, P-Value: 0.034\n"
          ],
          "name": "stdout"
        }
      ]
    },
    {
      "cell_type": "markdown",
      "metadata": {
        "id": "ZM8JckA2bgnp",
        "colab_type": "text"
      },
      "source": [
        "## Part 3 - Analysis and Interpretation\n",
        "\n",
        "Now that you've looked at the data, answer the following questions:\n",
        "\n",
        "- Interpret and explain the two t-tests you ran - what do they tell you about the relationships between the continuous features you selected and the class labels?\n",
        "- Interpret and explain the two Chi-squared tests you ran - what do they tell you about the relationships between the categorical features you selected and the class labels?\n",
        "- What was the most challenging part of this sprint challenge?\n",
        "\n",
        "Answer with text, but feel free to intersperse example code/results or refer to it from earlier."
      ]
    },
    {
      "cell_type": "markdown",
      "metadata": {
        "id": "wlC5XdRiFi3d",
        "colab_type": "text"
      },
      "source": [
        "The t-test allows us to test the null hypothesis that there is no difference between the mean values of data from a feature split into  categories. Grouping the numerical features into whether the loan applications were approved or denied, t-test were conducted on each feature. For alpha = 0.05, we can reject the null hypotheses for each feature since as demonstrated above, each t-test p-value is less than our alpha value. Also, none of the confidence intervals of mean differences cross zero, indicating that, we can state with 95% confidence that the difference in mean values for each feature is not zero.\n",
        "\n",
        "The chi-squre test allows us to test the null hypothesis that our two categorical features are indepedent, knowing one value does not help you predict the other value. For alpha = 0.05, we cannot reject the null hypothesis for features A1 and A12; therefore, we can likely conclude that there is not a relationship between feature A1 and the acceptance/declination of a loan, and that there is not a relationship between feature A12 and the acceptance/declination of a loan. For the remaining categorical features, we can reject the null hypothesis and conclude that there is likely a relationship (not necessarily causal) between the feature and the acceptance/declination of a loan.\n",
        "\n",
        "The most challenging part for me was, again, coming up with a producing appropriate visualizations. "
      ]
    }
  ]
}