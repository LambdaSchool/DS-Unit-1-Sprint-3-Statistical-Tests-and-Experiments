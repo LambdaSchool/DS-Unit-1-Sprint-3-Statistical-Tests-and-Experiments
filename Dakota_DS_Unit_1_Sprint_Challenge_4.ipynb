{
  "nbformat": 4,
  "nbformat_minor": 0,
  "metadata": {
    "colab": {
      "name": "Dakota_DS_Unit_1_Sprint_Challenge_4.ipynb",
      "version": "0.3.2",
      "provenance": [],
      "collapsed_sections": [],
      "include_colab_link": true
    },
    "kernelspec": {
      "name": "python3",
      "display_name": "Python 3"
    }
  },
  "cells": [
    {
      "cell_type": "markdown",
      "metadata": {
        "id": "view-in-github",
        "colab_type": "text"
      },
      "source": [
        "<a href=\"https://colab.research.google.com/github/Dpgofast/DS-Unit-1-Sprint-4-Statistical-Tests-and-Experiments/blob/master/Dakota_DS_Unit_1_Sprint_Challenge_4.ipynb\" target=\"_parent\"><img src=\"https://colab.research.google.com/assets/colab-badge.svg\" alt=\"Open In Colab\"/></a>"
      ]
    },
    {
      "metadata": {
        "id": "NooAiTdnafkz",
        "colab_type": "text"
      },
      "cell_type": "markdown",
      "source": [
        "# Data Science Unit 1 Sprint Challenge 4\n",
        "\n",
        "## Exploring Data, Testing Hypotheses\n",
        "\n",
        "In this sprint challenge you will look at a dataset of people being approved or rejected for credit.\n",
        "\n",
        "https://archive.ics.uci.edu/ml/datasets/Credit+Approval\n",
        "\n",
        "Data Set Information: This file concerns credit card applications. All attribute names and values have been changed to meaningless symbols to protect confidentiality of the data. This dataset is interesting because there is a good mix of attributes -- continuous, nominal with small numbers of values, and nominal with larger numbers of values. There are also a few missing values.\n",
        "\n",
        "Attribute Information:\n",
        "- A1: b, a.\n",
        "- A2: continuous.\n",
        "- A3: continuous.\n",
        "- A4: u, y, l, t.\n",
        "- A5: g, p, gg.\n",
        "- A6: c, d, cc, i, j, k, m, r, q, w, x, e, aa, ff.\n",
        "- A7: v, h, bb, j, n, z, dd, ff, o.\n",
        "- A8: continuous.\n",
        "- A9: t, f.\n",
        "- A10: t, f.\n",
        "- A11: continuous.\n",
        "- A12: t, f.\n",
        "- A13: g, p, s.\n",
        "- A14: continuous.\n",
        "- A15: continuous.\n",
        "- A16: +,- (class attribute)\n",
        "\n",
        "Yes, most of that doesn't mean anything. A16 (the class attribute) is the most interesting, as it separates the 307 approved cases from the 383 rejected cases. The remaining variables have been obfuscated for privacy - a challenge you may have to deal with in your data science career.\n",
        "\n",
        "Sprint challenges are evaluated based on satisfactory completion of each part. It is suggested you work through it in order, getting each aspect reasonably working, before trying to deeply explore, iterate, or refine any given step. Once you get to the end, if you want to go back and improve things, go for it!"
      ]
    },
    {
      "metadata": {
        "id": "5wch6ksCbJtZ",
        "colab_type": "text"
      },
      "cell_type": "markdown",
      "source": [
        "## Part 1 - Load and validate the data\n",
        "\n",
        "- Load the data as a `pandas` data frame.\n",
        "- Validate that it has the appropriate number of observations (you can check the raw file, and also read the dataset description from UCI).\n",
        "- UCI says there should be missing data - check, and if necessary change the data so pandas recognizes it as na\n",
        "- Make sure that the loaded features are of the types described above (continuous values should be treated as float), and correct as necessary\n",
        "\n",
        "This is review, but skills that you'll use at the start of any data exploration. Further, you may have to do some investigation to figure out which file to load from - that is part of the puzzle."
      ]
    },
    {
      "metadata": {
        "id": "gwf2z8awaiHp",
        "colab_type": "text"
      },
      "cell_type": "markdown",
      "source": [
        " Missing Attribute Values:\n",
        "    37 cases (5%) have one or more missing values.  The missing\n",
        "    values from particular attributes are:\n",
        "\n",
        "    A1:  12\n",
        "    A2:  12\n",
        "    A4:   6\n",
        "    A5:   6\n",
        "    A6:   9\n",
        "    A7:   9\n",
        "    A14: 13\n",
        "    \n",
        "    A1:\tb, a.\n",
        "    A2:\tcontinuous.\n",
        "    A3:\tcontinuous.\n",
        "    A4:\tu, y, l, t.\n",
        "    A5:\tg, p, gg.\n",
        "    A6:\tc, d, cc, i, j, k, m, r, q, w, x, e, aa, ff.\n",
        "    A7:\tv, h, bb, j, n, z, dd, ff, o.\n",
        "    A8:\tcontinuous.\n",
        "    A9:\tt, f.\n",
        "    A10:\tt, f.\n",
        "    A11:\tcontinuous.\n",
        "    A12:\tt, f.\n",
        "    A13:\tg, p, s.\n",
        "    A14:\tcontinuous.\n",
        "    A15:\tcontinuous.\n",
        "    A16: +,-         (class attribute)\n",
        "    \n",
        "    Number of Instances: 690\n"
      ]
    },
    {
      "metadata": {
        "id": "Q79xDLckzibS",
        "colab_type": "code",
        "colab": {
          "base_uri": "https://localhost:8080/",
          "height": 198
        },
        "outputId": "adc18633-b5ef-4e77-a282-f1ad18f601e8"
      },
      "cell_type": "code",
      "source": [
        "# TODO\n",
        "import pandas as pd \n",
        "import numpy as np \n",
        "import matplotlib as plt \n",
        "import scipy.stats as st \n",
        "col_names= ['A1','A2','A3','A4','A5','A6','A7','A8','A9','A10','A11','A12',\n",
        "            'A13','A14','A15','A16']\n",
        "url= 'https://archive.ics.uci.edu/ml/machine-learning-databases/credit-screening/crx.data'\n",
        "df = pd.read_csv(url,header= None, names= col_names)\n",
        "df.head() #appears to be loaded correctly with header= None And column names changed to match description "
      ],
      "execution_count": 31,
      "outputs": [
        {
          "output_type": "execute_result",
          "data": {
            "text/html": [
              "<div>\n",
              "<style scoped>\n",
              "    .dataframe tbody tr th:only-of-type {\n",
              "        vertical-align: middle;\n",
              "    }\n",
              "\n",
              "    .dataframe tbody tr th {\n",
              "        vertical-align: top;\n",
              "    }\n",
              "\n",
              "    .dataframe thead th {\n",
              "        text-align: right;\n",
              "    }\n",
              "</style>\n",
              "<table border=\"1\" class=\"dataframe\">\n",
              "  <thead>\n",
              "    <tr style=\"text-align: right;\">\n",
              "      <th></th>\n",
              "      <th>A1</th>\n",
              "      <th>A2</th>\n",
              "      <th>A3</th>\n",
              "      <th>A4</th>\n",
              "      <th>A5</th>\n",
              "      <th>A6</th>\n",
              "      <th>A7</th>\n",
              "      <th>A8</th>\n",
              "      <th>A9</th>\n",
              "      <th>A10</th>\n",
              "      <th>A11</th>\n",
              "      <th>A12</th>\n",
              "      <th>A13</th>\n",
              "      <th>A14</th>\n",
              "      <th>A15</th>\n",
              "      <th>A16</th>\n",
              "    </tr>\n",
              "  </thead>\n",
              "  <tbody>\n",
              "    <tr>\n",
              "      <th>0</th>\n",
              "      <td>b</td>\n",
              "      <td>30.83</td>\n",
              "      <td>0.000</td>\n",
              "      <td>u</td>\n",
              "      <td>g</td>\n",
              "      <td>w</td>\n",
              "      <td>v</td>\n",
              "      <td>1.25</td>\n",
              "      <td>t</td>\n",
              "      <td>t</td>\n",
              "      <td>1</td>\n",
              "      <td>f</td>\n",
              "      <td>g</td>\n",
              "      <td>00202</td>\n",
              "      <td>0</td>\n",
              "      <td>+</td>\n",
              "    </tr>\n",
              "    <tr>\n",
              "      <th>1</th>\n",
              "      <td>a</td>\n",
              "      <td>58.67</td>\n",
              "      <td>4.460</td>\n",
              "      <td>u</td>\n",
              "      <td>g</td>\n",
              "      <td>q</td>\n",
              "      <td>h</td>\n",
              "      <td>3.04</td>\n",
              "      <td>t</td>\n",
              "      <td>t</td>\n",
              "      <td>6</td>\n",
              "      <td>f</td>\n",
              "      <td>g</td>\n",
              "      <td>00043</td>\n",
              "      <td>560</td>\n",
              "      <td>+</td>\n",
              "    </tr>\n",
              "    <tr>\n",
              "      <th>2</th>\n",
              "      <td>a</td>\n",
              "      <td>24.50</td>\n",
              "      <td>0.500</td>\n",
              "      <td>u</td>\n",
              "      <td>g</td>\n",
              "      <td>q</td>\n",
              "      <td>h</td>\n",
              "      <td>1.50</td>\n",
              "      <td>t</td>\n",
              "      <td>f</td>\n",
              "      <td>0</td>\n",
              "      <td>f</td>\n",
              "      <td>g</td>\n",
              "      <td>00280</td>\n",
              "      <td>824</td>\n",
              "      <td>+</td>\n",
              "    </tr>\n",
              "    <tr>\n",
              "      <th>3</th>\n",
              "      <td>b</td>\n",
              "      <td>27.83</td>\n",
              "      <td>1.540</td>\n",
              "      <td>u</td>\n",
              "      <td>g</td>\n",
              "      <td>w</td>\n",
              "      <td>v</td>\n",
              "      <td>3.75</td>\n",
              "      <td>t</td>\n",
              "      <td>t</td>\n",
              "      <td>5</td>\n",
              "      <td>t</td>\n",
              "      <td>g</td>\n",
              "      <td>00100</td>\n",
              "      <td>3</td>\n",
              "      <td>+</td>\n",
              "    </tr>\n",
              "    <tr>\n",
              "      <th>4</th>\n",
              "      <td>b</td>\n",
              "      <td>20.17</td>\n",
              "      <td>5.625</td>\n",
              "      <td>u</td>\n",
              "      <td>g</td>\n",
              "      <td>w</td>\n",
              "      <td>v</td>\n",
              "      <td>1.71</td>\n",
              "      <td>t</td>\n",
              "      <td>f</td>\n",
              "      <td>0</td>\n",
              "      <td>f</td>\n",
              "      <td>s</td>\n",
              "      <td>00120</td>\n",
              "      <td>0</td>\n",
              "      <td>+</td>\n",
              "    </tr>\n",
              "  </tbody>\n",
              "</table>\n",
              "</div>"
            ],
            "text/plain": [
              "  A1     A2     A3 A4 A5 A6 A7    A8 A9 A10  A11 A12 A13    A14  A15 A16\n",
              "0  b  30.83  0.000  u  g  w  v  1.25  t   t    1   f   g  00202    0   +\n",
              "1  a  58.67  4.460  u  g  q  h  3.04  t   t    6   f   g  00043  560   +\n",
              "2  a  24.50  0.500  u  g  q  h  1.50  t   f    0   f   g  00280  824   +\n",
              "3  b  27.83  1.540  u  g  w  v  3.75  t   t    5   t   g  00100    3   +\n",
              "4  b  20.17  5.625  u  g  w  v  1.71  t   f    0   f   s  00120    0   +"
            ]
          },
          "metadata": {
            "tags": []
          },
          "execution_count": 31
        }
      ]
    },
    {
      "metadata": {
        "id": "eNR79o28c6wj",
        "colab_type": "code",
        "colab": {
          "base_uri": "https://localhost:8080/",
          "height": 35
        },
        "outputId": "c85c15de-97ec-4d59-bb9a-16b5fe62b2bd"
      },
      "cell_type": "code",
      "source": [
        "df.shape  #Agrees with UCI number of instances"
      ],
      "execution_count": 32,
      "outputs": [
        {
          "output_type": "execute_result",
          "data": {
            "text/plain": [
              "(690, 16)"
            ]
          },
          "metadata": {
            "tags": []
          },
          "execution_count": 32
        }
      ]
    },
    {
      "metadata": {
        "id": "x5Lh2Jn4bFCy",
        "colab_type": "code",
        "colab": {
          "base_uri": "https://localhost:8080/",
          "height": 35
        },
        "outputId": "93f7432b-81b9-4755-86c2-fa3fa00fdc74"
      },
      "cell_type": "code",
      "source": [
        "df['A1'].unique() # appears nan values are marked with a \"?\""
      ],
      "execution_count": 35,
      "outputs": [
        {
          "output_type": "execute_result",
          "data": {
            "text/plain": [
              "array(['b', 'a', '?'], dtype=object)"
            ]
          },
          "metadata": {
            "tags": []
          },
          "execution_count": 35
        }
      ]
    },
    {
      "metadata": {
        "id": "0nh6VOk8ef1a",
        "colab_type": "code",
        "colab": {
          "base_uri": "https://localhost:8080/",
          "height": 326
        },
        "outputId": "c9bddc0c-4b1d-4c48-8ba2-29f0f9f92c28"
      },
      "cell_type": "code",
      "source": [
        "df.replace('?',np.nan,inplace= True)\n",
        "df.isna().sum() #shows correct number of nan values now \n"
      ],
      "execution_count": 36,
      "outputs": [
        {
          "output_type": "execute_result",
          "data": {
            "text/plain": [
              "A1     12\n",
              "A2     12\n",
              "A3      0\n",
              "A4      6\n",
              "A5      6\n",
              "A6      9\n",
              "A7      9\n",
              "A8      0\n",
              "A9      0\n",
              "A10     0\n",
              "A11     0\n",
              "A12     0\n",
              "A13     0\n",
              "A14    13\n",
              "A15     0\n",
              "A16     0\n",
              "dtype: int64"
            ]
          },
          "metadata": {
            "tags": []
          },
          "execution_count": 36
        }
      ]
    },
    {
      "metadata": {
        "id": "iE51ygMKiqbd",
        "colab_type": "code",
        "colab": {
          "base_uri": "https://localhost:8080/",
          "height": 326
        },
        "outputId": "47fd4d59-547d-4450-e249-ae0aeb1e23e1"
      },
      "cell_type": "code",
      "source": [
        "df.dtypes # need to change D types to float columns = a2, a11, a14, a15"
      ],
      "execution_count": 41,
      "outputs": [
        {
          "output_type": "execute_result",
          "data": {
            "text/plain": [
              "A1      object\n",
              "A2      object\n",
              "A3     float64\n",
              "A4      object\n",
              "A5      object\n",
              "A6      object\n",
              "A7      object\n",
              "A8     float64\n",
              "A9      object\n",
              "A10     object\n",
              "A11      int64\n",
              "A12     object\n",
              "A13     object\n",
              "A14     object\n",
              "A15      int64\n",
              "A16     object\n",
              "dtype: object"
            ]
          },
          "metadata": {
            "tags": []
          },
          "execution_count": 41
        }
      ]
    },
    {
      "metadata": {
        "id": "Co5Jw8FOmj5A",
        "colab_type": "code",
        "colab": {}
      },
      "cell_type": "code",
      "source": [
        "df = df.astype({'A2':float, 'A11':float,'A14':float,'A15':float}) #Changing D types "
      ],
      "execution_count": 0,
      "outputs": []
    },
    {
      "metadata": {
        "id": "XsIJxfc1notT",
        "colab_type": "code",
        "colab": {
          "base_uri": "https://localhost:8080/",
          "height": 326
        },
        "outputId": "5e2d822d-7048-40e9-922b-a734bbb3607d"
      },
      "cell_type": "code",
      "source": [
        "df.dtypes #verifying change complete "
      ],
      "execution_count": 52,
      "outputs": [
        {
          "output_type": "execute_result",
          "data": {
            "text/plain": [
              "A1      object\n",
              "A2     float64\n",
              "A3     float64\n",
              "A4      object\n",
              "A5      object\n",
              "A6      object\n",
              "A7      object\n",
              "A8     float64\n",
              "A9      object\n",
              "A10     object\n",
              "A11    float64\n",
              "A12     object\n",
              "A13     object\n",
              "A14    float64\n",
              "A15    float64\n",
              "A16     object\n",
              "dtype: object"
            ]
          },
          "metadata": {
            "tags": []
          },
          "execution_count": 52
        }
      ]
    },
    {
      "metadata": {
        "id": "G7rLytbrO38L",
        "colab_type": "text"
      },
      "cell_type": "markdown",
      "source": [
        "## Part 2 - Exploring data, Testing hypotheses\n",
        "\n",
        "The only thing we really know about this data is that A16 is the class label. Besides that, we have 6 continuous (float) features and 9 categorical features.\n",
        "\n",
        "Explore the data: you can use whatever approach (tables, utility functions, visualizations) to get an impression of the distributions and relationships of the variables. In general, your goal is to understand how the features are different when grouped by the two class labels (`+` and `-`).\n",
        "\n",
        "For the 6 continuous features, how are they different when split between the two class labels? Choose two features to run t-tests (again split by class label) - specifically, select one feature that is *extremely* different between the classes, and another feature that is notably less different (though perhaps still \"statistically significantly\" different). You may have to explore more than two features to do this.\n",
        "\n",
        "For the categorical features, explore by creating \"cross tabs\" between them and the class label, and apply the Chi-squared test to them. There are 9 categorical features - as with the t-test, try to find one where the Chi-squared test returns an extreme result (rejecting the null that the data are independent), and one where it is less extreme.\n",
        "\n",
        "**NOTE** - \"less extreme\" just means smaller test statistic/larger p-value. Even the least extreme differences may be strongly statistically significant.\n",
        "\n",
        "Your *main* goal is the hypothesis tests, so don't spend too much time on the exploration/visualization piece. That is just a means to an end. This is challenging, so manage your time and aim for a baseline of at least running two t-tests and two Chi-squared tests before polishing. And don't forget to answer the questions in part 3, even if your results in this part aren't what you want them to be."
      ]
    },
    {
      "metadata": {
        "id": "nnG6_0P1zW0W",
        "colab_type": "text"
      },
      "cell_type": "markdown",
      "source": [
        "# ***For the remainder of this project '+' is refered to as approve(d) and '-' is refered to as denied  ***\n",
        "\n",
        "---\n",
        "\n"
      ]
    },
    {
      "metadata": {
        "id": "_nqcgc0yzm68",
        "colab_type": "code",
        "colab": {
          "base_uri": "https://localhost:8080/",
          "height": 288
        },
        "outputId": "94f34d4f-746d-4458-c262-7ce1cdd41907"
      },
      "cell_type": "code",
      "source": [
        "denied = df[df['A16']=='-']\n",
        "denied.head(10)\n",
        "denied. describe()"
      ],
      "execution_count": 61,
      "outputs": [
        {
          "output_type": "execute_result",
          "data": {
            "text/html": [
              "<div>\n",
              "<style scoped>\n",
              "    .dataframe tbody tr th:only-of-type {\n",
              "        vertical-align: middle;\n",
              "    }\n",
              "\n",
              "    .dataframe tbody tr th {\n",
              "        vertical-align: top;\n",
              "    }\n",
              "\n",
              "    .dataframe thead th {\n",
              "        text-align: right;\n",
              "    }\n",
              "</style>\n",
              "<table border=\"1\" class=\"dataframe\">\n",
              "  <thead>\n",
              "    <tr style=\"text-align: right;\">\n",
              "      <th></th>\n",
              "      <th>A2</th>\n",
              "      <th>A3</th>\n",
              "      <th>A8</th>\n",
              "      <th>A11</th>\n",
              "      <th>A14</th>\n",
              "      <th>A15</th>\n",
              "    </tr>\n",
              "  </thead>\n",
              "  <tbody>\n",
              "    <tr>\n",
              "      <th>count</th>\n",
              "      <td>373.000000</td>\n",
              "      <td>383.000000</td>\n",
              "      <td>383.000000</td>\n",
              "      <td>383.000000</td>\n",
              "      <td>376.000000</td>\n",
              "      <td>383.000000</td>\n",
              "    </tr>\n",
              "    <tr>\n",
              "      <th>mean</th>\n",
              "      <td>29.808231</td>\n",
              "      <td>3.839948</td>\n",
              "      <td>1.257924</td>\n",
              "      <td>0.631854</td>\n",
              "      <td>199.699468</td>\n",
              "      <td>198.605744</td>\n",
              "    </tr>\n",
              "    <tr>\n",
              "      <th>std</th>\n",
              "      <td>10.919291</td>\n",
              "      <td>4.337662</td>\n",
              "      <td>2.120481</td>\n",
              "      <td>1.900049</td>\n",
              "      <td>181.564835</td>\n",
              "      <td>671.608839</td>\n",
              "    </tr>\n",
              "    <tr>\n",
              "      <th>min</th>\n",
              "      <td>15.170000</td>\n",
              "      <td>0.000000</td>\n",
              "      <td>0.000000</td>\n",
              "      <td>0.000000</td>\n",
              "      <td>0.000000</td>\n",
              "      <td>0.000000</td>\n",
              "    </tr>\n",
              "    <tr>\n",
              "      <th>25%</th>\n",
              "      <td>22.000000</td>\n",
              "      <td>0.835000</td>\n",
              "      <td>0.125000</td>\n",
              "      <td>0.000000</td>\n",
              "      <td>100.000000</td>\n",
              "      <td>0.000000</td>\n",
              "    </tr>\n",
              "    <tr>\n",
              "      <th>50%</th>\n",
              "      <td>27.330000</td>\n",
              "      <td>2.210000</td>\n",
              "      <td>0.415000</td>\n",
              "      <td>0.000000</td>\n",
              "      <td>167.500000</td>\n",
              "      <td>1.000000</td>\n",
              "    </tr>\n",
              "    <tr>\n",
              "      <th>75%</th>\n",
              "      <td>34.830000</td>\n",
              "      <td>5.000000</td>\n",
              "      <td>1.500000</td>\n",
              "      <td>0.000000</td>\n",
              "      <td>272.000000</td>\n",
              "      <td>67.000000</td>\n",
              "    </tr>\n",
              "    <tr>\n",
              "      <th>max</th>\n",
              "      <td>80.250000</td>\n",
              "      <td>26.335000</td>\n",
              "      <td>13.875000</td>\n",
              "      <td>20.000000</td>\n",
              "      <td>2000.000000</td>\n",
              "      <td>5552.000000</td>\n",
              "    </tr>\n",
              "  </tbody>\n",
              "</table>\n",
              "</div>"
            ],
            "text/plain": [
              "               A2          A3          A8         A11          A14  \\\n",
              "count  373.000000  383.000000  383.000000  383.000000   376.000000   \n",
              "mean    29.808231    3.839948    1.257924    0.631854   199.699468   \n",
              "std     10.919291    4.337662    2.120481    1.900049   181.564835   \n",
              "min     15.170000    0.000000    0.000000    0.000000     0.000000   \n",
              "25%     22.000000    0.835000    0.125000    0.000000   100.000000   \n",
              "50%     27.330000    2.210000    0.415000    0.000000   167.500000   \n",
              "75%     34.830000    5.000000    1.500000    0.000000   272.000000   \n",
              "max     80.250000   26.335000   13.875000   20.000000  2000.000000   \n",
              "\n",
              "               A15  \n",
              "count   383.000000  \n",
              "mean    198.605744  \n",
              "std     671.608839  \n",
              "min       0.000000  \n",
              "25%       0.000000  \n",
              "50%       1.000000  \n",
              "75%      67.000000  \n",
              "max    5552.000000  "
            ]
          },
          "metadata": {
            "tags": []
          },
          "execution_count": 61
        }
      ]
    },
    {
      "metadata": {
        "id": "xf2K4UvOrDel",
        "colab_type": "code",
        "colab": {
          "base_uri": "https://localhost:8080/",
          "height": 288
        },
        "outputId": "889b6d51-b416-48b9-bfb4-5de35913a14f"
      },
      "cell_type": "code",
      "source": [
        "approve = df[df['A16']=='+']\n",
        "approve.head()\n",
        "approve.describe()"
      ],
      "execution_count": 63,
      "outputs": [
        {
          "output_type": "execute_result",
          "data": {
            "text/html": [
              "<div>\n",
              "<style scoped>\n",
              "    .dataframe tbody tr th:only-of-type {\n",
              "        vertical-align: middle;\n",
              "    }\n",
              "\n",
              "    .dataframe tbody tr th {\n",
              "        vertical-align: top;\n",
              "    }\n",
              "\n",
              "    .dataframe thead th {\n",
              "        text-align: right;\n",
              "    }\n",
              "</style>\n",
              "<table border=\"1\" class=\"dataframe\">\n",
              "  <thead>\n",
              "    <tr style=\"text-align: right;\">\n",
              "      <th></th>\n",
              "      <th>A2</th>\n",
              "      <th>A3</th>\n",
              "      <th>A8</th>\n",
              "      <th>A11</th>\n",
              "      <th>A14</th>\n",
              "      <th>A15</th>\n",
              "    </tr>\n",
              "  </thead>\n",
              "  <tbody>\n",
              "    <tr>\n",
              "      <th>count</th>\n",
              "      <td>305.000000</td>\n",
              "      <td>307.000000</td>\n",
              "      <td>307.000000</td>\n",
              "      <td>307.000000</td>\n",
              "      <td>301.000000</td>\n",
              "      <td>307.000000</td>\n",
              "    </tr>\n",
              "    <tr>\n",
              "      <th>mean</th>\n",
              "      <td>33.720492</td>\n",
              "      <td>5.904951</td>\n",
              "      <td>3.427899</td>\n",
              "      <td>4.605863</td>\n",
              "      <td>164.421927</td>\n",
              "      <td>2038.859935</td>\n",
              "    </tr>\n",
              "    <tr>\n",
              "      <th>std</th>\n",
              "      <td>12.809641</td>\n",
              "      <td>5.471485</td>\n",
              "      <td>4.120792</td>\n",
              "      <td>6.320242</td>\n",
              "      <td>161.770675</td>\n",
              "      <td>7659.763941</td>\n",
              "    </tr>\n",
              "    <tr>\n",
              "      <th>min</th>\n",
              "      <td>13.750000</td>\n",
              "      <td>0.000000</td>\n",
              "      <td>0.000000</td>\n",
              "      <td>0.000000</td>\n",
              "      <td>0.000000</td>\n",
              "      <td>0.000000</td>\n",
              "    </tr>\n",
              "    <tr>\n",
              "      <th>25%</th>\n",
              "      <td>23.170000</td>\n",
              "      <td>1.500000</td>\n",
              "      <td>0.750000</td>\n",
              "      <td>0.000000</td>\n",
              "      <td>0.000000</td>\n",
              "      <td>0.000000</td>\n",
              "    </tr>\n",
              "    <tr>\n",
              "      <th>50%</th>\n",
              "      <td>30.500000</td>\n",
              "      <td>4.460000</td>\n",
              "      <td>2.000000</td>\n",
              "      <td>3.000000</td>\n",
              "      <td>120.000000</td>\n",
              "      <td>221.000000</td>\n",
              "    </tr>\n",
              "    <tr>\n",
              "      <th>75%</th>\n",
              "      <td>41.330000</td>\n",
              "      <td>9.520000</td>\n",
              "      <td>5.000000</td>\n",
              "      <td>7.000000</td>\n",
              "      <td>280.000000</td>\n",
              "      <td>1209.000000</td>\n",
              "    </tr>\n",
              "    <tr>\n",
              "      <th>max</th>\n",
              "      <td>76.750000</td>\n",
              "      <td>28.000000</td>\n",
              "      <td>28.500000</td>\n",
              "      <td>67.000000</td>\n",
              "      <td>840.000000</td>\n",
              "      <td>100000.000000</td>\n",
              "    </tr>\n",
              "  </tbody>\n",
              "</table>\n",
              "</div>"
            ],
            "text/plain": [
              "               A2          A3          A8         A11         A14  \\\n",
              "count  305.000000  307.000000  307.000000  307.000000  301.000000   \n",
              "mean    33.720492    5.904951    3.427899    4.605863  164.421927   \n",
              "std     12.809641    5.471485    4.120792    6.320242  161.770675   \n",
              "min     13.750000    0.000000    0.000000    0.000000    0.000000   \n",
              "25%     23.170000    1.500000    0.750000    0.000000    0.000000   \n",
              "50%     30.500000    4.460000    2.000000    3.000000  120.000000   \n",
              "75%     41.330000    9.520000    5.000000    7.000000  280.000000   \n",
              "max     76.750000   28.000000   28.500000   67.000000  840.000000   \n",
              "\n",
              "                 A15  \n",
              "count     307.000000  \n",
              "mean     2038.859935  \n",
              "std      7659.763941  \n",
              "min         0.000000  \n",
              "25%         0.000000  \n",
              "50%       221.000000  \n",
              "75%      1209.000000  \n",
              "max    100000.000000  "
            ]
          },
          "metadata": {
            "tags": []
          },
          "execution_count": 63
        }
      ]
    },
    {
      "metadata": {
        "id": "hlHGILiwuAAq",
        "colab_type": "code",
        "colab": {}
      },
      "cell_type": "code",
      "source": [
        "def confidence_interval(data, confidence=0.95):\n",
        "  data = np.array(data)\n",
        "  mean = np.mean(data)\n",
        "  n= len(data)\n",
        "  stderr = st.sem(data)\n",
        "  interval= stderr * st.t.ppf((1 + confidence)/2., n - 1)\n",
        "  \n",
        "  return (mean,mean - interval, mean + interval)\n",
        "\n",
        "def report_confidence_interval(confidence_interval):\n",
        "  print('Mean: {}'.format(confidence_interval[0]))\n",
        "  print('Lower bound: {}'.format(confidence_interval[1]))\n",
        "  print('Upper bound: {}'.format(confidence_interval[2]))"
      ],
      "execution_count": 0,
      "outputs": []
    },
    {
      "metadata": {
        "id": "2yYJkcQpugEW",
        "colab_type": "code",
        "colab": {
          "base_uri": "https://localhost:8080/",
          "height": 72
        },
        "outputId": "3473577e-bc8a-4829-9000-0e3042af00c5"
      },
      "cell_type": "code",
      "source": [
        "report_confidence_interval(confidence_interval(denied['A11']))# Column A11 in the denied class"
      ],
      "execution_count": 68,
      "outputs": [
        {
          "output_type": "stream",
          "text": [
            "Mean: 0.6318537859007833\n",
            "Lower bound: 0.440960034949925\n",
            "Upper bound: 0.8227475368516417\n"
          ],
          "name": "stdout"
        }
      ]
    },
    {
      "metadata": {
        "id": "BgEhOxnlwZzY",
        "colab_type": "code",
        "colab": {
          "base_uri": "https://localhost:8080/",
          "height": 72
        },
        "outputId": "b92724b7-79fb-4973-97ba-6a51a2bf0042"
      },
      "cell_type": "code",
      "source": [
        "report_confidence_interval(confidence_interval(approve['A11']))# column A11 in the approved class"
      ],
      "execution_count": 70,
      "outputs": [
        {
          "output_type": "stream",
          "text": [
            "Mean: 4.605863192182411\n",
            "Lower bound: 3.8960669376542927\n",
            "Upper bound: 5.315659446710529\n"
          ],
          "name": "stdout"
        }
      ]
    },
    {
      "metadata": {
        "id": "OILUnjRmwr1z",
        "colab_type": "text"
      },
      "cell_type": "markdown",
      "source": [
        "**(Above)The mean of the measurements for column A11 have a way higher value in the accepted group using a Students T percent point function **"
      ]
    },
    {
      "metadata": {
        "id": "Bw844iCIxjxM",
        "colab_type": "code",
        "colab": {
          "base_uri": "https://localhost:8080/",
          "height": 72
        },
        "outputId": "047cb7fc-695d-4eb4-f74a-50ced0b1c5df"
      },
      "cell_type": "code",
      "source": [
        "report_confidence_interval(confidence_interval(denied['A15']))"
      ],
      "execution_count": 71,
      "outputs": [
        {
          "output_type": "stream",
          "text": [
            "Mean: 198.60574412532637\n",
            "Lower bound: 131.13068495819857\n",
            "Upper bound: 266.08080329245416\n"
          ],
          "name": "stdout"
        }
      ]
    },
    {
      "metadata": {
        "id": "5s5O6cQnyTjM",
        "colab_type": "code",
        "colab": {
          "base_uri": "https://localhost:8080/",
          "height": 72
        },
        "outputId": "7af4d797-9986-4272-e254-2b22a40fa505"
      },
      "cell_type": "code",
      "source": [
        "report_confidence_interval(confidence_interval(approve['A15']))"
      ],
      "execution_count": 72,
      "outputs": [
        {
          "output_type": "stream",
          "text": [
            "Mean: 2038.85993485342\n",
            "Lower bound: 1178.6283209729409\n",
            "Upper bound: 2899.0915487338993\n"
          ],
          "name": "stdout"
        }
      ]
    },
    {
      "metadata": {
        "id": "tRKKWSw7zCtX",
        "colab_type": "text"
      },
      "cell_type": "markdown",
      "source": [
        "**Again a larger mean measurement in the approved data than in the denied data set for column A15 With  a Student's T Percent Point Function  **"
      ]
    },
    {
      "metadata": {
        "id": "e6kCLOjg1cHl",
        "colab_type": "code",
        "colab": {
          "base_uri": "https://localhost:8080/",
          "height": 72
        },
        "outputId": "d7950d2b-9684-470b-d55f-6151b5ca4c35"
      },
      "cell_type": "code",
      "source": [
        "report_confidence_interval(confidence_interval(denied['A3']))"
      ],
      "execution_count": 75,
      "outputs": [
        {
          "output_type": "stream",
          "text": [
            "Mean: 3.839947780678851\n",
            "Lower bound: 3.4041524516216173\n",
            "Upper bound: 4.2757431097360845\n"
          ],
          "name": "stdout"
        }
      ]
    },
    {
      "metadata": {
        "id": "Us1iXvZV11e0",
        "colab_type": "code",
        "colab": {
          "base_uri": "https://localhost:8080/",
          "height": 72
        },
        "outputId": "38ce413f-72c1-43d1-a3dc-34e221291d0a"
      },
      "cell_type": "code",
      "source": [
        "report_confidence_interval(confidence_interval(approve['A3']))"
      ],
      "execution_count": 76,
      "outputs": [
        {
          "output_type": "stream",
          "text": [
            "Mean: 5.9049511400651475\n",
            "Lower bound: 5.290474713739196\n",
            "Upper bound: 6.519427566391099\n"
          ],
          "name": "stdout"
        }
      ]
    },
    {
      "metadata": {
        "id": "ueyHi7KC2Fw3",
        "colab_type": "text"
      },
      "cell_type": "markdown",
      "source": [
        "**Comparing the A3 columns shows a smaller difference in mean measurment but the bounds are much closer than the other columns. Approve still has a higher mean value.**"
      ]
    },
    {
      "metadata": {
        "id": "gWyuOKvj0ppy",
        "colab_type": "text"
      },
      "cell_type": "markdown",
      "source": [
        "**For the categorical features, explore by creating \"cross tabs\" between them and the class label, and apply the Chi-squared test to them. There are 9 categorical features - as with the t-test, try to find one where the Chi-squared test returns an extreme result (rejecting the null that the data are independent), and one where it is less extreme.**"
      ]
    },
    {
      "metadata": {
        "id": "-BeQgklf0yyt",
        "colab_type": "code",
        "colab": {
          "base_uri": "https://localhost:8080/",
          "height": 326
        },
        "outputId": "07d8084d-aaa4-4963-faeb-827aebf54d88"
      },
      "cell_type": "code",
      "source": [
        "apptab = pd.crosstab([df['A7'],df['A10']],df['A16'])\n",
        "apptab\n",
        "\n",
        "st.chi2.pdf(apptab,df=30)"
      ],
      "execution_count": 129,
      "outputs": [
        {
          "output_type": "execute_result",
          "data": {
            "text/plain": [
              "array([[7.16941279e-06, 4.91632922e-02],\n",
              "       [1.61922219e-02, 3.73591990e-10],\n",
              "       [2.12321744e-16, 3.73591990e-10],\n",
              "       [2.12321744e-16, 2.12321744e-16],\n",
              "       [2.10992574e-12, 4.91632922e-02],\n",
              "       [1.36576435e-06, 1.61922219e-02],\n",
              "       [5.25343903e-02, 2.24028780e-02],\n",
              "       [4.34103860e-04, 1.11406945e-03],\n",
              "       [2.10992574e-12, 1.27172330e-08],\n",
              "       [2.12321744e-16, 2.12321744e-16],\n",
              "       [2.12321744e-16, 2.12321744e-16],\n",
              "       [2.12321744e-16, 2.12321744e-16],\n",
              "       [2.12321744e-16, 2.12321744e-16],\n",
              "       [2.96728818e-03, 7.04678707e-24],\n",
              "       [5.77135115e-13, 3.68699057e-03],\n",
              "       [2.12321744e-16, 2.12321744e-16],\n",
              "       [1.75382222e-07, 2.12321744e-16]])"
            ]
          },
          "metadata": {
            "tags": []
          },
          "execution_count": 129
        }
      ]
    },
    {
      "metadata": {
        "id": "RsPDfH2h9hDA",
        "colab_type": "code",
        "colab": {
          "base_uri": "https://localhost:8080/",
          "height": 228
        },
        "outputId": "19e09da2-09e0-45c8-baca-21247550d412"
      },
      "cell_type": "code",
      "source": [
        "tab2 = pd.crosstab([df['A4'],df['A9']],df['A16'])\n",
        "tab2"
      ],
      "execution_count": 132,
      "outputs": [
        {
          "output_type": "execute_result",
          "data": {
            "text/html": [
              "<div>\n",
              "<style scoped>\n",
              "    .dataframe tbody tr th:only-of-type {\n",
              "        vertical-align: middle;\n",
              "    }\n",
              "\n",
              "    .dataframe tbody tr th {\n",
              "        vertical-align: top;\n",
              "    }\n",
              "\n",
              "    .dataframe thead th {\n",
              "        text-align: right;\n",
              "    }\n",
              "</style>\n",
              "<table border=\"1\" class=\"dataframe\">\n",
              "  <thead>\n",
              "    <tr style=\"text-align: right;\">\n",
              "      <th></th>\n",
              "      <th>A16</th>\n",
              "      <th>+</th>\n",
              "      <th>-</th>\n",
              "    </tr>\n",
              "    <tr>\n",
              "      <th>A4</th>\n",
              "      <th>A9</th>\n",
              "      <th></th>\n",
              "      <th></th>\n",
              "    </tr>\n",
              "  </thead>\n",
              "  <tbody>\n",
              "    <tr>\n",
              "      <th>l</th>\n",
              "      <th>f</th>\n",
              "      <td>2</td>\n",
              "      <td>0</td>\n",
              "    </tr>\n",
              "    <tr>\n",
              "      <th rowspan=\"2\" valign=\"top\">u</th>\n",
              "      <th>f</th>\n",
              "      <td>13</td>\n",
              "      <td>210</td>\n",
              "    </tr>\n",
              "    <tr>\n",
              "      <th>t</th>\n",
              "      <td>243</td>\n",
              "      <td>53</td>\n",
              "    </tr>\n",
              "    <tr>\n",
              "      <th rowspan=\"2\" valign=\"top\">y</th>\n",
              "      <th>f</th>\n",
              "      <td>4</td>\n",
              "      <td>94</td>\n",
              "    </tr>\n",
              "    <tr>\n",
              "      <th>t</th>\n",
              "      <td>41</td>\n",
              "      <td>24</td>\n",
              "    </tr>\n",
              "  </tbody>\n",
              "</table>\n",
              "</div>"
            ],
            "text/plain": [
              "A16      +    -\n",
              "A4 A9          \n",
              "l  f     2    0\n",
              "u  f    13  210\n",
              "   t   243   53\n",
              "y  f     4   94\n",
              "   t    41   24"
            ]
          },
          "metadata": {
            "tags": []
          },
          "execution_count": 132
        }
      ]
    },
    {
      "metadata": {
        "id": "eL6PyMcY-CjY",
        "colab_type": "code",
        "colab": {
          "base_uri": "https://localhost:8080/",
          "height": 108
        },
        "outputId": "2f04288b-eda1-4d92-ed26-b34047b57d33"
      },
      "cell_type": "code",
      "source": [
        "st.chi2.pdf(tab2,df=30)"
      ],
      "execution_count": 133,
      "outputs": [
        {
          "output_type": "execute_result",
          "data": {
            "text/plain": [
              "array([[2.10992574e-12, 0.00000000e+00],\n",
              "       [2.07221357e-03, 2.84636925e-29],\n",
              "       [1.49916692e-35, 1.49692526e-03],\n",
              "       [1.27172330e-08, 5.70283773e-09],\n",
              "       [1.65988816e-02, 4.52444501e-02]])"
            ]
          },
          "metadata": {
            "tags": []
          },
          "execution_count": 133
        }
      ]
    },
    {
      "metadata": {
        "id": "ZM8JckA2bgnp",
        "colab_type": "text"
      },
      "cell_type": "markdown",
      "source": [
        "## Part 3 - Analysis and Interpretation\n",
        "\n",
        "Now that you've looked at the data, answer the following questions:\n",
        "\n",
        "- Interpret and explain the two t-tests you ran - what do they tell you about the relationships between the continuous features you selected and the class labels?\n",
        "- Interpret and explain the two Chi-squared tests you ran - what do they tell you about the relationships between the categorical features you selected and the class labels?\n",
        "- What was the most challenging part of this sprint challenge?\n",
        "\n",
        "Answer with text, but feel free to intersperse example code/results or refer to it from earlier."
      ]
    },
    {
      "metadata": {
        "id": "LIozLDNG2Uhu",
        "colab_type": "text"
      },
      "cell_type": "markdown",
      "source": [
        "For the two T tests i found that the differences in the mean showed large differences in value between being approved(+) and denied(-), both columns A11 and A15 were large offset and obvious, and column A3 were smaller offset to where the variance areas were close to touching. \n",
        "\n",
        "With the chi squre test the diffferences were harder to see. I found it easier to see the correlation or lack there of in the crosstab setup. but of the features tested i received a reading consistent with independent. \n",
        "\n",
        "For me the most challenging part of this sprint was achieving a readable chi square result from the crosstab format. I wasnt aware that we had experienced this in class and thus did not practice before this challenge"
      ]
    }
  ]
}