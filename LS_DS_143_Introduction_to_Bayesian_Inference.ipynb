{
  "nbformat": 4,
  "nbformat_minor": 0,
  "metadata": {
    "colab": {
      "name": "LS DS 143 Introduction to Bayesian Inference.ipynb",
      "version": "0.3.2",
      "provenance": [],
      "collapsed_sections": [],
      "include_colab_link": true
    },
    "kernelspec": {
      "name": "python3",
      "display_name": "Python 3"
    }
  },
  "cells": [
    {
      "cell_type": "markdown",
      "metadata": {
        "id": "view-in-github",
        "colab_type": "text"
      },
      "source": [
        "<a href=\"https://colab.research.google.com/github/a-apte/DS-Unit-1-Sprint-4-Statistical-Tests-and-Experiments/blob/master/LS_DS_143_Introduction_to_Bayesian_Inference.ipynb\" target=\"_parent\"><img src=\"https://colab.research.google.com/assets/colab-badge.svg\" alt=\"Open In Colab\"/></a>"
      ]
    },
    {
      "metadata": {
        "id": "H7OLbevlbd_Z",
        "colab_type": "text"
      },
      "cell_type": "markdown",
      "source": [
        "# Lambda School Data Science Module 143\n",
        "\n",
        "## Introduction to Bayesian Inference\n",
        "\n",
        "!['Detector! What would the Bayesian statistician say if I asked him whether the--' [roll] 'I AM A NEUTRINO DETECTOR, NOT A LABYRINTH GUARD. SERIOUSLY, DID YOUR BRAIN FALL OUT?' [roll] '... yes.'](https://imgs.xkcd.com/comics/frequentists_vs_bayesians_2x.png)\n",
        "\n",
        "*[XKCD 1132](https://www.xkcd.com/1132/)*\n"
      ]
    },
    {
      "metadata": {
        "id": "3mz8p08BsN6p",
        "colab_type": "text"
      },
      "cell_type": "markdown",
      "source": [
        "## Prepare - Bayes' Theorem and the Bayesian mindset"
      ]
    },
    {
      "metadata": {
        "id": "GhycNr-Sbeie",
        "colab_type": "text"
      },
      "cell_type": "markdown",
      "source": [
        "Bayes' theorem possesses a near-mythical quality - a bit of math that somehow magically evaluates a situation. But this mythicalness has more to do with its reputation and advanced applications than the actual core of it - deriving it is actually remarkably straightforward.\n",
        "\n",
        "### The Law of Total Probability\n",
        "\n",
        "By definition, the total probability of all outcomes (events) if some variable (event space) $A$ is 1. That is:\n",
        "\n",
        "$$P(A) = \\sum_n P(A_n) = 1$$\n",
        "\n",
        "The law of total probability takes this further, considering two variables ($A$ and $B$) and relating their marginal probabilities (their likelihoods considered independently, without reference to one another) and their conditional probabilities (their likelihoods considered jointly). A marginal probability is simply notated as e.g. $P(A)$, while a conditional probability is notated $P(A|B)$, which reads \"probability of $A$ *given* $B$\".\n",
        "\n",
        "The law of total probability states:\n",
        "\n",
        "$$P(A) = \\sum_n P(A | B_n) P(B_n)$$\n",
        "\n",
        "In words - the total probability of $A$ is equal to the sum of the conditional probability of $A$ on any given event $B_n$ times the probability of that event $B_n$, and summed over all possible events in $B$.\n",
        "\n",
        "### The Law of Conditional Probability\n",
        "\n",
        "What's the probability of something conditioned on something else? To determine this we have to go back to set theory and think about the intersection of sets:\n",
        "\n",
        "The formula for actual calculation:\n",
        "\n",
        "$$P(A|B) = \\frac{P(A \\cap B)}{P(B)}$$\n",
        "\n",
        "We can see how this relates back to the law of total probability - multiply both sides by $P(B)$ and you get $P(A|B)P(B) = P(A \\cap B)$ - replaced back into the law of total probability we get $P(A) = \\sum_n P(A \\cap B_n)$.\n",
        "\n",
        "This may not seem like an improvement at first, but try to relate it back to the above picture - if you think of sets as physical objects, we're saying that the total probability of $A$ given $B$ is all the little pieces of it intersected with $B$, added together. The conditional probability is then just that again, but divided by the probability of $B$ itself happening in the first place.\n",
        "\n",
        "### Bayes Theorem\n",
        "\n",
        "Here is is, the seemingly magic tool:\n",
        "\n",
        "$$P(A|B) = \\frac{P(B|A)P(A)}{P(B)}$$\n",
        "\n",
        "In words - the probability of $A$ conditioned on $B$ is the probability of $B$ conditioned on $A$, times the probability of $A$ and divided by the probability of $B$. These unconditioned probabilities are referred to as \"prior beliefs\", and the conditioned probabilities as \"updated.\"\n",
        "\n",
        "Why is this important? Scroll back up to the XKCD example - the Bayesian statistician draws a less absurd conclusion because their prior belief in the likelihood that the sun will go nova is extremely low. So, even when updated based on evidence from a detector that is $35/36 = 0.972$ accurate, the prior belief doesn't shift enough to change their overall opinion.\n",
        "\n",
        "There's many examples of Bayes' theorem - one less absurd example is to apply to [breathalyzer tests](https://www.bayestheorem.net/breathalyzer-example/). You may think that a breathalyzer test that is 100% accurate for true positives (detecting somebody who is drunk) is pretty good, but what if it also has 8% false positives (indicating somebody is drunk when they're not)? And furthermore, the rate of drunk driving (and thus our prior belief)  is 1/1000.\n",
        "\n",
        "What is the likelihood somebody really is drunk if they test positive? Some may guess it's 92% - the difference between the true positives and the false positives. But we have a prior belief of the background/true rate of drunk driving. Sounds like a job for Bayes' theorem!\n",
        "\n",
        "$$\n",
        "\\begin{aligned}\n",
        "P(Drunk | Positive) &= \\frac{P(Positive | Drunk)P(Drunk)}{P(Positive)} \\\\\n",
        "&= \\frac{1 \\times 0.001}{0.08} \\\\\n",
        "&= 0.0125\n",
        "\\end{aligned}\n",
        "$$\n",
        "\n",
        "In other words, the likelihood that somebody is drunk given they tested positive with a breathalyzer in this situation is only 1.25% - probably much lower than you'd guess. This is why, in practice, it's important to have a repeated test to confirm (the probability of two false positives in a row is $0.08 * 0.08 = 0.0064$, much lower), and Bayes' theorem has been relevant in court cases where proper consideration of evidence was important."
      ]
    },
    {
      "metadata": {
        "id": "htI3DGvDsRJF",
        "colab_type": "text"
      },
      "cell_type": "markdown",
      "source": [
        "## Live Lecture - Deriving Bayes' Theorem, Calculating Bayesian Confidence"
      ]
    },
    {
      "metadata": {
        "id": "moIJNQ-nbfe_",
        "colab_type": "text"
      },
      "cell_type": "markdown",
      "source": [
        "Notice that $P(A|B)$ appears in the above laws - in Bayesian terms, this is the belief in $A$ updated for the evidence $B$. So all we need to do is solve for this term to derive Bayes' theorem. Let's do it together!"
      ]
    },
    {
      "metadata": {
        "id": "ke-5EqJI0Tsn",
        "colab_type": "code",
        "colab": {
          "base_uri": "https://localhost:8080/",
          "height": 1525
        },
        "outputId": "20e19398-a0bd-44e1-d958-4c23d5cd446e"
      },
      "cell_type": "code",
      "source": [
        "# Activity 2 - Use SciPy to calculate Bayesian confidence intervals\n",
        "# https://docs.scipy.org/doc/scipy/reference/generated/scipy.stats.bayes_mvs.html#scipy.stats.bayes_mvs\n",
        "\n",
        "from scipy import stats\n",
        "\n",
        "help(stats.bayes_mvs)\n",
        "\n",
        "# bayes_mvs(data, alpha=0.9)\n",
        "\n",
        "# alpha = Probability that the returned confidence interval contains the true parameter."
      ],
      "execution_count": 1,
      "outputs": [
        {
          "output_type": "stream",
          "text": [
            "Help on function bayes_mvs in module scipy.stats.morestats:\n",
            "\n",
            "bayes_mvs(data, alpha=0.9)\n",
            "    Bayesian confidence intervals for the mean, var, and std.\n",
            "    \n",
            "    Parameters\n",
            "    ----------\n",
            "    data : array_like\n",
            "        Input data, if multi-dimensional it is flattened to 1-D by `bayes_mvs`.\n",
            "        Requires 2 or more data points.\n",
            "    alpha : float, optional\n",
            "        Probability that the returned confidence interval contains\n",
            "        the true parameter.\n",
            "    \n",
            "    Returns\n",
            "    -------\n",
            "    mean_cntr, var_cntr, std_cntr : tuple\n",
            "        The three results are for the mean, variance and standard deviation,\n",
            "        respectively.  Each result is a tuple of the form::\n",
            "    \n",
            "            (center, (lower, upper))\n",
            "    \n",
            "        with `center` the mean of the conditional pdf of the value given the\n",
            "        data, and `(lower, upper)` a confidence interval, centered on the\n",
            "        median, containing the estimate to a probability ``alpha``.\n",
            "    \n",
            "    See Also\n",
            "    --------\n",
            "    mvsdist\n",
            "    \n",
            "    Notes\n",
            "    -----\n",
            "    Each tuple of mean, variance, and standard deviation estimates represent\n",
            "    the (center, (lower, upper)) with center the mean of the conditional pdf\n",
            "    of the value given the data and (lower, upper) is a confidence interval\n",
            "    centered on the median, containing the estimate to a probability\n",
            "    ``alpha``.\n",
            "    \n",
            "    Converts data to 1-D and assumes all data has the same mean and variance.\n",
            "    Uses Jeffrey's prior for variance and std.\n",
            "    \n",
            "    Equivalent to ``tuple((x.mean(), x.interval(alpha)) for x in mvsdist(dat))``\n",
            "    \n",
            "    References\n",
            "    ----------\n",
            "    T.E. Oliphant, \"A Bayesian perspective on estimating mean, variance, and\n",
            "    standard-deviation from data\", http://scholarsarchive.byu.edu/facpub/278,\n",
            "    2006.\n",
            "    \n",
            "    Examples\n",
            "    --------\n",
            "    First a basic example to demonstrate the outputs:\n",
            "    \n",
            "    >>> from scipy import stats\n",
            "    >>> data = [6, 9, 12, 7, 8, 8, 13]\n",
            "    >>> mean, var, std = stats.bayes_mvs(data)\n",
            "    >>> mean\n",
            "    Mean(statistic=9.0, minmax=(7.103650222612533, 10.896349777387467))\n",
            "    >>> var\n",
            "    Variance(statistic=10.0, minmax=(3.176724206..., 24.45910382...))\n",
            "    >>> std\n",
            "    Std_dev(statistic=2.9724954732045084, minmax=(1.7823367265645143, 4.945614605014631))\n",
            "    \n",
            "    Now we generate some normally distributed random data, and get estimates of\n",
            "    mean and standard deviation with 95% confidence intervals for those\n",
            "    estimates:\n",
            "    \n",
            "    >>> n_samples = 100000\n",
            "    >>> data = stats.norm.rvs(size=n_samples)\n",
            "    >>> res_mean, res_var, res_std = stats.bayes_mvs(data, alpha=0.95)\n",
            "    \n",
            "    >>> import matplotlib.pyplot as plt\n",
            "    >>> fig = plt.figure()\n",
            "    >>> ax = fig.add_subplot(111)\n",
            "    >>> ax.hist(data, bins=100, density=True, label='Histogram of data')\n",
            "    >>> ax.vlines(res_mean.statistic, 0, 0.5, colors='r', label='Estimated mean')\n",
            "    >>> ax.axvspan(res_mean.minmax[0],res_mean.minmax[1], facecolor='r',\n",
            "    ...            alpha=0.2, label=r'Estimated mean (95% limits)')\n",
            "    >>> ax.vlines(res_std.statistic, 0, 0.5, colors='g', label='Estimated scale')\n",
            "    >>> ax.axvspan(res_std.minmax[0],res_std.minmax[1], facecolor='g', alpha=0.2,\n",
            "    ...            label=r'Estimated scale (95% limits)')\n",
            "    \n",
            "    >>> ax.legend(fontsize=10)\n",
            "    >>> ax.set_xlim([-4, 4])\n",
            "    >>> ax.set_ylim([0, 0.5])\n",
            "    >>> plt.show()\n",
            "\n"
          ],
          "name": "stdout"
        }
      ]
    },
    {
      "metadata": {
        "id": "136Mfb_mnL2X",
        "colab_type": "code",
        "colab": {
          "base_uri": "https://localhost:8080/",
          "height": 86
        },
        "outputId": "dc04cda5-0689-49e8-949a-646202ffb9f3"
      },
      "cell_type": "code",
      "source": [
        "data = [6, 9, 12, 7, 8, 8, 13]\n",
        "mean, var, std = stats.bayes_mvs(data, alpha = 0.95)\n",
        "\n",
        "print(mean) # Tuple\n",
        "\n",
        "print(mean[0]) # Accessing 1st element in the tuple\n",
        "\n",
        "print(mean[1][0]) # Accessing tuple within a tuple\n",
        "\n",
        "print(mean[1][1]) # Accessing tuple within a tuple\n"
      ],
      "execution_count": 2,
      "outputs": [
        {
          "output_type": "stream",
          "text": [
            "Mean(statistic=9.0, minmax=(6.612058548265569, 11.38794145173443))\n",
            "9.0\n",
            "6.612058548265569\n",
            "11.38794145173443\n"
          ],
          "name": "stdout"
        }
      ]
    },
    {
      "metadata": {
        "id": "a1svcRgMnLzJ",
        "colab_type": "code",
        "colab": {}
      },
      "cell_type": "code",
      "source": [
        "def confidence_interval(data, confidence=0.95):\n",
        "  \"\"\"\n",
        "  Calculate a confidence interval around a sample mean for given data.\n",
        "  Using t-distribution and two-tailed test, default 95% confidence. \n",
        "  \n",
        "  Arguments:\n",
        "    data - iterable (list or numpy array) of sample observations\n",
        "    confidence - level of confidence for the interval\n",
        "  \n",
        "  Returns:\n",
        "    tuple of (mean, lower bound, upper bound)\n",
        "  \"\"\"\n",
        "  data = np.array(data)\n",
        "  mean = np.mean(data)\n",
        "  n = len(data)\n",
        "  stderr = stats.sem(data)\n",
        "  interval = stderr * stats.t.ppf((1 + confidence) / 2., n - 1)\n",
        "  return (mean, mean - interval, mean + interval)\n",
        "\n"
      ],
      "execution_count": 0,
      "outputs": []
    },
    {
      "metadata": {
        "id": "Mv-vy2ZinLty",
        "colab_type": "code",
        "colab": {}
      },
      "cell_type": "code",
      "source": [
        "def report_confidence_interval(confidence_interval):\n",
        "  \"\"\"\n",
        "  Return a string with a pretty report of a confidence interval.\n",
        "  \n",
        "  Arguments:\n",
        "    confidence_interval - tuple of (mean, lower bound, upper bound)\n",
        "  \n",
        "  Returns:\n",
        "    None, but prints to screen the report\n",
        "  \"\"\"\n",
        "  \n",
        "  print(\"The mean = {}, the 95% confidence interval for the mean ranges from {} to {}\".format(\n",
        "  confidence_interval[0], confidence_interval[1], confidence_interval[2]))\n",
        "  \n",
        "  #print('Mean: {}'.format(confidence_interval[0]))\n",
        "  #print('Lower bound: {}'.format(confidence_interval[1]))\n",
        "  #print('Upper bound: {}'.format(confidence_interval[2]))\n",
        "#   s = \"our mean lies in the interval ]{:.2}, {:.2}[\".format(\n",
        "#       confidence_interval[1], confidence_interval[2])\n",
        "  return None"
      ],
      "execution_count": 0,
      "outputs": []
    },
    {
      "metadata": {
        "id": "P-DzzRk5bf0z",
        "colab_type": "text"
      },
      "cell_type": "markdown",
      "source": [
        "## Assignment - Code it up!\n",
        "\n",
        "Most of the above was pure math - write Python code to reproduce the results. This is purposefully open ended - you'll have to think about how you should represent probabilities and events. You can and should look things up, and as a stretch goal - refactor your code into helpful reusable functions!\n",
        "\n",
        "If you're unsure where to start, check out [this blog post of Bayes theorem with Python](https://dataconomy.com/2015/02/introduction-to-bayes-theorem-with-python/) - you could and should create something similar!\n",
        "\n",
        "Stretch goal - apply a Bayesian technique to a problem you previously worked (in an assignment or project work) on from a frequentist (standard) perspective."
      ]
    },
    {
      "metadata": {
        "id": "G09HwaU9ZgDg",
        "colab_type": "code",
        "colab": {
          "base_uri": "https://localhost:8080/",
          "height": 34
        },
        "outputId": "29bb5c17-215a-465b-9409-ef898c31d9c7"
      },
      "cell_type": "code",
      "source": [
        "# Source: https://dataconomy.com/2015/02/introduction-to-bayes-theorem-with-python/\n",
        "\n",
        "# 1000 fair coin flips\n",
        "\n",
        "import numpy as np\n",
        "data_coin_flips = np.random.randint(2, size=1000) # 2 = number of sides\n",
        "np.mean(data_coin_flips) # Random list leads to different means "
      ],
      "execution_count": 29,
      "outputs": [
        {
          "output_type": "execute_result",
          "data": {
            "text/plain": [
              "0.506"
            ]
          },
          "metadata": {
            "tags": []
          },
          "execution_count": 29
        }
      ]
    },
    {
      "metadata": {
        "id": "O5cEZsQAZf81",
        "colab_type": "code",
        "colab": {
          "base_uri": "https://localhost:8080/",
          "height": 34
        },
        "outputId": "851f3b00-3a0a-41a2-c931-898d59ee893e"
      },
      "cell_type": "code",
      "source": [
        "# 1000 fair coin flips, 1 = head, 0 = tail\n",
        "\n",
        "bernoulli_flips = np.random.binomial(n=1, p=.5, size=1000)\n",
        "np.mean(bernoulli_flips)"
      ],
      "execution_count": 25,
      "outputs": [
        {
          "output_type": "execute_result",
          "data": {
            "text/plain": [
              "0.525"
            ]
          },
          "metadata": {
            "tags": []
          },
          "execution_count": 25
        }
      ]
    },
    {
      "metadata": {
        "id": "vR_DTZIGZf5V",
        "colab_type": "code",
        "colab": {}
      },
      "cell_type": "code",
      "source": [
        "# Probability Mass Function\n",
        "\n",
        "def bern_pmf(x, p):\n",
        "    if (x == 1):\n",
        "        return p # returns p for a head\n",
        "    elif (x == 0):\n",
        "        return 1 - p # returns 1-p for a tail\n",
        "    else:\n",
        "        return \"Value Not in Support of Distribution\""
      ],
      "execution_count": 0,
      "outputs": []
    },
    {
      "metadata": {
        "id": "KetjZ-IgZf2G",
        "colab_type": "code",
        "colab": {
          "base_uri": "https://localhost:8080/",
          "height": 52
        },
        "outputId": "194b2515-297d-4fc4-8f76-16465e58d3c4"
      },
      "cell_type": "code",
      "source": [
        "# With a fair coin, the PMF will return 0.5\n",
        "\n",
        "print(bern_pmf(1, .5))\n",
        "print(bern_pmf(0, .5))"
      ],
      "execution_count": 32,
      "outputs": [
        {
          "output_type": "stream",
          "text": [
            "0.5\n",
            "0.5\n"
          ],
          "name": "stdout"
        }
      ]
    },
    {
      "metadata": {
        "id": "u13vOT-oZfqv",
        "colab_type": "code",
        "colab": {
          "base_uri": "https://localhost:8080/",
          "height": 52
        },
        "outputId": "b883ee9d-dc47-4227-c7fb-0179383ce64f"
      },
      "cell_type": "code",
      "source": [
        "# Built in function pmf from stats\n",
        "\n",
        "from scipy import stats \n",
        "print(stats.bernoulli.pmf(1, .5))\n",
        "print(stats.bernoulli.pmf(0, .5))"
      ],
      "execution_count": 33,
      "outputs": [
        {
          "output_type": "stream",
          "text": [
            "0.5\n",
            "0.5\n"
          ],
          "name": "stdout"
        }
      ]
    },
    {
      "metadata": {
        "id": "ZupKWYY7vQ3N",
        "colab_type": "code",
        "colab": {
          "base_uri": "https://localhost:8080/",
          "height": 34
        },
        "outputId": "973b55c5-de03-418d-f11e-7d7deab7ba25"
      },
      "cell_type": "code",
      "source": [
        "# Assumng data are IID, this is the product of each individual probability\n",
        "\n",
        "np.product(stats.bernoulli.pmf(data_coin_flips, .5))"
      ],
      "execution_count": 34,
      "outputs": [
        {
          "output_type": "execute_result",
          "data": {
            "text/plain": [
              "9.332636185032189e-302"
            ]
          },
          "metadata": {
            "tags": []
          },
          "execution_count": 34
        }
      ]
    },
    {
      "metadata": {
        "id": "OQ94qFptvQpR",
        "colab_type": "code",
        "colab": {
          "base_uri": "https://localhost:8080/",
          "height": 360
        },
        "outputId": "da333d0e-c79b-469e-e78a-f684def41401"
      },
      "cell_type": "code",
      "source": [
        "import matplotlib.pyplot as plt\n",
        "import seaborn as sns\n",
        "%matplotlib inline\n",
        "sns.set(style='ticks', palette='Set2')\n",
        " \n",
        "params = np.linspace(0, 1, 100)\n",
        "p_x = [np.product(stats.bernoulli.pmf(data_coin_flips, p)) for p in params] \n",
        "p_x = p_x / np.sum(p_x)  # Missing step from site\n",
        "plt.plot(params, p_x)\n",
        "sns.despine()\n",
        "\n",
        "# Peak at 0.5 "
      ],
      "execution_count": 40,
      "outputs": [
        {
          "output_type": "display_data",
          "data": {
            "image/png": "[encoded data removed]",
            "text/plain": [
              "<matplotlib.figure.Figure at 0x7fb0b0432eb8>"
            ]
          },
          "metadata": {
            "tags": []
          }
        }
      ]
    },
    {
      "metadata": {
        "id": "rrQGr7G-vqIZ",
        "colab_type": "code",
        "colab": {
          "base_uri": "https://localhost:8080/",
          "height": 401
        },
        "outputId": "90d62c6a-7972-4b4b-ec11-0b88a0aa7fb6"
      },
      "cell_type": "code",
      "source": [
        "# Prior Distribution\n",
        "\n",
        "biased_flips = bernoulli_flips = np.random.binomial(n=1, p=.75, size=1000)\n",
        "p_biased = np.array([np.product(stats.bernoulli.pmf(biased_flips, p)) for p in params])\n",
        "p_biased = p_biased / np.sum(p_biased)\n",
        "fig, axes = plt.subplots(2, 1, sharex=True)\n",
        "axes[0].plot(params, p_biased)\n",
        "axes[0].set_title(\"Sampling Distribution\")\n",
        "axes[1].plot(params, p_x)\n",
        "axes[1].set_title(\"Prior Distribution\")\n",
        "sns.despine()\n",
        "plt.tight_layout()\n",
        "\n",
        "# The peak moved to a new center at 0.75"
      ],
      "execution_count": 42,
      "outputs": [
        {
          "output_type": "display_data",
          "data": {
            "image/png": "[encoded data removed]",
            "text/plain": [
              "<matplotlib.figure.Figure at 0x7fb0b30a6940>"
            ]
          },
          "metadata": {
            "tags": []
          }
        }
      ]
    },
    {
      "metadata": {
        "id": "iSgHW5VzvqG0",
        "colab_type": "code",
        "colab": {
          "base_uri": "https://localhost:8080/",
          "height": 581
        },
        "outputId": "95db15b0-1bb4-4cd2-f5c4-b33cb523ecea"
      },
      "cell_type": "code",
      "source": [
        "# Posterior Distribution\n",
        "\n",
        "def bern_post(n_params=100, n_sample=100, true_p=.8, prior_p=.5, n_prior=100):\n",
        "    params = np.linspace(0, 1, n_params)\n",
        "    sample = np.random.binomial(n=1, p=true_p, size=n_sample)\n",
        "    likelihood = np.array([np.product(stats.bernoulli.pmf(sample, p)) for p in params])\n",
        "    #likelihood = likelihood / np.sum(likelihood)\n",
        "    prior_sample = np.random.binomial(n=1, p=prior_p, size=n_prior)\n",
        "    prior = np.array([np.product(stats.bernoulli.pmf(prior_sample, p)) for p in params])\n",
        "    prior = prior / np.sum(prior)\n",
        "    \n",
        "    posterior = [prior[i] * likelihood[i] for i in range(prior.shape[0])]\n",
        "    posterior = posterior / np.sum(posterior)\n",
        "     \n",
        "    fig, axes = plt.subplots(3, 1, sharex=True, figsize=(8,8))\n",
        "    axes[0].plot(params, likelihood)\n",
        "    axes[0].set_title(\"Sampling Distribution\")\n",
        "    axes[1].plot(params, prior)\n",
        "    axes[1].set_title(\"Prior Distribution\")\n",
        "    axes[2].plot(params, posterior)\n",
        "    axes[2].set_title(\"Posterior Distribution\")\n",
        "    sns.despine()\n",
        "    plt.tight_layout()\n",
        "     \n",
        "    return posterior\n",
        "\n",
        "example_post = bern_post()"
      ],
      "execution_count": 43,
      "outputs": [
        {
          "output_type": "display_data",
          "data": {
            "image/png": "[encoded data removed]",
            "text/plain": [
              "<matplotlib.figure.Figure at 0x7fb0b0330198>"
            ]
          },
          "metadata": {
            "tags": []
          }
        }
      ]
    },
    {
      "metadata": {
        "id": "pIjkUV221RMP",
        "colab_type": "text"
      },
      "cell_type": "markdown",
      "source": [
        "**This demonstrates that the sampling distribution adjusts the probability from the prior distribution but not all the way. The posterior distribution weighs in the new sample distribution but not 100%.**"
      ]
    },
    {
      "metadata": {
        "id": "wM5h5J51vqEu",
        "colab_type": "code",
        "colab": {
          "base_uri": "https://localhost:8080/",
          "height": 581
        },
        "outputId": "780f9b1d-684c-4d0b-92f2-6dbe7d0055e7"
      },
      "cell_type": "code",
      "source": [
        "moredata_post = bern_post(n_sample=1000)"
      ],
      "execution_count": 44,
      "outputs": [
        {
          "output_type": "display_data",
          "data": {
            "image/png": "[encoded data removed]",
            "text/plain": [
              "<matplotlib.figure.Figure at 0x7fb0b3006128>"
            ]
          },
          "metadata": {
            "tags": []
          }
        }
      ]
    },
    {
      "metadata": {
        "id": "4ADj2pvl4Yng",
        "colab_type": "text"
      },
      "cell_type": "markdown",
      "source": [
        "### Stretch -  Not sure if this is how one should do this:"
      ]
    },
    {
      "metadata": {
        "id": "4IXv6Cvfi7Iy",
        "colab_type": "code",
        "colab": {
          "base_uri": "https://localhost:8080/",
          "height": 254
        },
        "outputId": "2c5d342c-dfde-4938-a8f3-96920c07f51a"
      },
      "cell_type": "code",
      "source": [
        "# Bad Drivers - https://github.com/fivethirtyeight/data/tree/master/bad-drivers\n",
        "\n",
        "import pandas as pd\n",
        "import numpy as np\n",
        "\n",
        "url = 'https://raw.githubusercontent.com/fivethirtyeight/data/master/bad-drivers/bad-drivers.csv'\n",
        "\n",
        "df = pd.read_csv(url)\n",
        "\n",
        "df.head()"
      ],
      "execution_count": 5,
      "outputs": [
        {
          "output_type": "execute_result",
          "data": {
            "text/html": [
              "<div>\n",
              "<style scoped>\n",
              "    .dataframe tbody tr th:only-of-type {\n",
              "        vertical-align: middle;\n",
              "    }\n",
              "\n",
              "    .dataframe tbody tr th {\n",
              "        vertical-align: top;\n",
              "    }\n",
              "\n",
              "    .dataframe thead th {\n",
              "        text-align: right;\n",
              "    }\n",
              "</style>\n",
              "<table border=\"1\" class=\"dataframe\">\n",
              "  <thead>\n",
              "    <tr style=\"text-align: right;\">\n",
              "      <th></th>\n",
              "      <th>State</th>\n",
              "      <th>Number of drivers involved in fatal collisions per billion miles</th>\n",
              "      <th>Percentage Of Drivers Involved In Fatal Collisions Who Were Speeding</th>\n",
              "      <th>Percentage Of Drivers Involved In Fatal Collisions Who Were Alcohol-Impaired</th>\n",
              "      <th>Percentage Of Drivers Involved In Fatal Collisions Who Were Not Distracted</th>\n",
              "      <th>Percentage Of Drivers Involved In Fatal Collisions Who Had Not Been Involved In Any Previous Accidents</th>\n",
              "      <th>Car Insurance Premiums ($)</th>\n",
              "      <th>Losses incurred by insurance companies for collisions per insured driver ($)</th>\n",
              "    </tr>\n",
              "  </thead>\n",
              "  <tbody>\n",
              "    <tr>\n",
              "      <th>0</th>\n",
              "      <td>Alabama</td>\n",
              "      <td>18.8</td>\n",
              "      <td>39</td>\n",
              "      <td>30</td>\n",
              "      <td>96</td>\n",
              "      <td>80</td>\n",
              "      <td>784.55</td>\n",
              "      <td>145.08</td>\n",
              "    </tr>\n",
              "    <tr>\n",
              "      <th>1</th>\n",
              "      <td>Alaska</td>\n",
              "      <td>18.1</td>\n",
              "      <td>41</td>\n",
              "      <td>25</td>\n",
              "      <td>90</td>\n",
              "      <td>94</td>\n",
              "      <td>1053.48</td>\n",
              "      <td>133.93</td>\n",
              "    </tr>\n",
              "    <tr>\n",
              "      <th>2</th>\n",
              "      <td>Arizona</td>\n",
              "      <td>18.6</td>\n",
              "      <td>35</td>\n",
              "      <td>28</td>\n",
              "      <td>84</td>\n",
              "      <td>96</td>\n",
              "      <td>899.47</td>\n",
              "      <td>110.35</td>\n",
              "    </tr>\n",
              "    <tr>\n",
              "      <th>3</th>\n",
              "      <td>Arkansas</td>\n",
              "      <td>22.4</td>\n",
              "      <td>18</td>\n",
              "      <td>26</td>\n",
              "      <td>94</td>\n",
              "      <td>95</td>\n",
              "      <td>827.34</td>\n",
              "      <td>142.39</td>\n",
              "    </tr>\n",
              "    <tr>\n",
              "      <th>4</th>\n",
              "      <td>California</td>\n",
              "      <td>12.0</td>\n",
              "      <td>35</td>\n",
              "      <td>28</td>\n",
              "      <td>91</td>\n",
              "      <td>89</td>\n",
              "      <td>878.41</td>\n",
              "      <td>165.63</td>\n",
              "    </tr>\n",
              "  </tbody>\n",
              "</table>\n",
              "</div>"
            ],
            "text/plain": [
              "        State  \\\n",
              "0     Alabama   \n",
              "1      Alaska   \n",
              "2     Arizona   \n",
              "3    Arkansas   \n",
              "4  California   \n",
              "\n",
              "   Number of drivers involved in fatal collisions per billion miles  \\\n",
              "0                                               18.8                  \n",
              "1                                               18.1                  \n",
              "2                                               18.6                  \n",
              "3                                               22.4                  \n",
              "4                                               12.0                  \n",
              "\n",
              "   Percentage Of Drivers Involved In Fatal Collisions Who Were Speeding  \\\n",
              "0                                                 39                      \n",
              "1                                                 41                      \n",
              "2                                                 35                      \n",
              "3                                                 18                      \n",
              "4                                                 35                      \n",
              "\n",
              "   Percentage Of Drivers Involved In Fatal Collisions Who Were Alcohol-Impaired  \\\n",
              "0                                                 30                              \n",
              "1                                                 25                              \n",
              "2                                                 28                              \n",
              "3                                                 26                              \n",
              "4                                                 28                              \n",
              "\n",
              "   Percentage Of Drivers Involved In Fatal Collisions Who Were Not Distracted  \\\n",
              "0                                                 96                            \n",
              "1                                                 90                            \n",
              "2                                                 84                            \n",
              "3                                                 94                            \n",
              "4                                                 91                            \n",
              "\n",
              "   Percentage Of Drivers Involved In Fatal Collisions Who Had Not Been Involved In Any Previous Accidents  \\\n",
              "0                                                 80                                                        \n",
              "1                                                 94                                                        \n",
              "2                                                 96                                                        \n",
              "3                                                 95                                                        \n",
              "4                                                 89                                                        \n",
              "\n",
              "   Car Insurance Premiums ($)  \\\n",
              "0                      784.55   \n",
              "1                     1053.48   \n",
              "2                      899.47   \n",
              "3                      827.34   \n",
              "4                      878.41   \n",
              "\n",
              "   Losses incurred by insurance companies for collisions per insured driver ($)  \n",
              "0                                             145.08                             \n",
              "1                                             133.93                             \n",
              "2                                             110.35                             \n",
              "3                                             142.39                             \n",
              "4                                             165.63                             "
            ]
          },
          "metadata": {
            "tags": []
          },
          "execution_count": 5
        }
      ]
    },
    {
      "metadata": {
        "id": "JMYjUjyui7FW",
        "colab_type": "code",
        "colab": {
          "base_uri": "https://localhost:8080/",
          "height": 202
        },
        "outputId": "fda955b7-baed-4d41-c25f-1ff42741bb26"
      },
      "cell_type": "code",
      "source": [
        "df.rename(columns = {'Number of drivers involved in fatal collisions per billion miles' : 'no_fatal',\n",
        "                           'Percentage Of Drivers Involved In Fatal Collisions Who Were Speeding' : 'pct_fatal',\n",
        "                           'Percentage Of Drivers Involved In Fatal Collisions Who Were Alcohol-Impaired': 'pct_fatal_alcohol',\n",
        "                           'Percentage Of Drivers Involved In Fatal Collisions Who Were Not Distracted': 'pct_fatal_nodistraction',\n",
        "                           'Percentage Of Drivers Involved In Fatal Collisions Who Had Not Been Involved In Any Previous Accidents' : 'pct_fatal_noprev',\n",
        "                           'Car Insurance Premiums ($)' : 'ins_premiums',\n",
        "                           'Losses incurred by insurance companies for collisions per insured driver ($)' : 'ins_losses'}, inplace = True)\n",
        "\n",
        "df.head()"
      ],
      "execution_count": 6,
      "outputs": [
        {
          "output_type": "execute_result",
          "data": {
            "text/html": [
              "<div>\n",
              "<style scoped>\n",
              "    .dataframe tbody tr th:only-of-type {\n",
              "        vertical-align: middle;\n",
              "    }\n",
              "\n",
              "    .dataframe tbody tr th {\n",
              "        vertical-align: top;\n",
              "    }\n",
              "\n",
              "    .dataframe thead th {\n",
              "        text-align: right;\n",
              "    }\n",
              "</style>\n",
              "<table border=\"1\" class=\"dataframe\">\n",
              "  <thead>\n",
              "    <tr style=\"text-align: right;\">\n",
              "      <th></th>\n",
              "      <th>State</th>\n",
              "      <th>no_fatal</th>\n",
              "      <th>pct_fatal</th>\n",
              "      <th>pct_fatal_alcohol</th>\n",
              "      <th>pct_fatal_nodistraction</th>\n",
              "      <th>pct_fatal_noprev</th>\n",
              "      <th>ins_premiums</th>\n",
              "      <th>ins_losses</th>\n",
              "    </tr>\n",
              "  </thead>\n",
              "  <tbody>\n",
              "    <tr>\n",
              "      <th>0</th>\n",
              "      <td>Alabama</td>\n",
              "      <td>18.8</td>\n",
              "      <td>39</td>\n",
              "      <td>30</td>\n",
              "      <td>96</td>\n",
              "      <td>80</td>\n",
              "      <td>784.55</td>\n",
              "      <td>145.08</td>\n",
              "    </tr>\n",
              "    <tr>\n",
              "      <th>1</th>\n",
              "      <td>Alaska</td>\n",
              "      <td>18.1</td>\n",
              "      <td>41</td>\n",
              "      <td>25</td>\n",
              "      <td>90</td>\n",
              "      <td>94</td>\n",
              "      <td>1053.48</td>\n",
              "      <td>133.93</td>\n",
              "    </tr>\n",
              "    <tr>\n",
              "      <th>2</th>\n",
              "      <td>Arizona</td>\n",
              "      <td>18.6</td>\n",
              "      <td>35</td>\n",
              "      <td>28</td>\n",
              "      <td>84</td>\n",
              "      <td>96</td>\n",
              "      <td>899.47</td>\n",
              "      <td>110.35</td>\n",
              "    </tr>\n",
              "    <tr>\n",
              "      <th>3</th>\n",
              "      <td>Arkansas</td>\n",
              "      <td>22.4</td>\n",
              "      <td>18</td>\n",
              "      <td>26</td>\n",
              "      <td>94</td>\n",
              "      <td>95</td>\n",
              "      <td>827.34</td>\n",
              "      <td>142.39</td>\n",
              "    </tr>\n",
              "    <tr>\n",
              "      <th>4</th>\n",
              "      <td>California</td>\n",
              "      <td>12.0</td>\n",
              "      <td>35</td>\n",
              "      <td>28</td>\n",
              "      <td>91</td>\n",
              "      <td>89</td>\n",
              "      <td>878.41</td>\n",
              "      <td>165.63</td>\n",
              "    </tr>\n",
              "  </tbody>\n",
              "</table>\n",
              "</div>"
            ],
            "text/plain": [
              "        State  no_fatal  pct_fatal  pct_fatal_alcohol  \\\n",
              "0     Alabama      18.8         39                 30   \n",
              "1      Alaska      18.1         41                 25   \n",
              "2     Arizona      18.6         35                 28   \n",
              "3    Arkansas      22.4         18                 26   \n",
              "4  California      12.0         35                 28   \n",
              "\n",
              "   pct_fatal_nodistraction  pct_fatal_noprev  ins_premiums  ins_losses  \n",
              "0                       96                80        784.55      145.08  \n",
              "1                       90                94       1053.48      133.93  \n",
              "2                       84                96        899.47      110.35  \n",
              "3                       94                95        827.34      142.39  \n",
              "4                       91                89        878.41      165.63  "
            ]
          },
          "metadata": {
            "tags": []
          },
          "execution_count": 6
        }
      ]
    },
    {
      "metadata": {
        "id": "hm9Vsxqum0Xs",
        "colab_type": "text"
      },
      "cell_type": "markdown",
      "source": [
        "### Frequentist confidence interval"
      ]
    },
    {
      "metadata": {
        "id": "sUwI5e2ri7Cd",
        "colab_type": "code",
        "colab": {
          "base_uri": "https://localhost:8080/",
          "height": 34
        },
        "outputId": "270224b9-4464-4fd7-eb6c-399bfa885d0a"
      },
      "cell_type": "code",
      "source": [
        "confidence_interval(df['no_fatal'])"
      ],
      "execution_count": 7,
      "outputs": [
        {
          "output_type": "execute_result",
          "data": {
            "text/plain": [
              "(15.79019607843137, 14.630864285214756, 16.949527871647984)"
            ]
          },
          "metadata": {
            "tags": []
          },
          "execution_count": 7
        }
      ]
    },
    {
      "metadata": {
        "id": "JWKwNsdRi7Ao",
        "colab_type": "code",
        "colab": {
          "base_uri": "https://localhost:8080/",
          "height": 34
        },
        "outputId": "6b05b9d3-6218-4a34-9f1c-c1a84c7a7c05"
      },
      "cell_type": "code",
      "source": [
        "report_confidence_interval(confidence_interval(df['no_fatal']))"
      ],
      "execution_count": 8,
      "outputs": [
        {
          "output_type": "stream",
          "text": [
            "The mean = 15.79019607843137, the 95% confidence interval for the mean ranges from 14.630864285214756 to 16.949527871647984\n"
          ],
          "name": "stdout"
        }
      ]
    },
    {
      "metadata": {
        "id": "GO7oARx5nNOA",
        "colab_type": "text"
      },
      "cell_type": "markdown",
      "source": [
        "### Bayesian confidence interval"
      ]
    },
    {
      "metadata": {
        "id": "nMlqNI0bi692",
        "colab_type": "code",
        "colab": {
          "base_uri": "https://localhost:8080/",
          "height": 34
        },
        "outputId": "9f22c2e2-7d80-4a81-d3bb-14298e4fe543"
      },
      "cell_type": "code",
      "source": [
        "mean, var, std = stats.bayes_mvs(df['no_fatal'], alpha = 0.95) # Alpha = 0.95 has the same values as the frequentist confidence interval function\n",
        "\n",
        "mean"
      ],
      "execution_count": 9,
      "outputs": [
        {
          "output_type": "execute_result",
          "data": {
            "text/plain": [
              "Mean(statistic=15.79019607843137, minmax=(14.630864285214756, 16.949527871647984))"
            ]
          },
          "metadata": {
            "tags": []
          },
          "execution_count": 9
        }
      ]
    },
    {
      "metadata": {
        "id": "MjRrRviki668",
        "colab_type": "code",
        "colab": {
          "base_uri": "https://localhost:8080/",
          "height": 34
        },
        "outputId": "d61ed7c0-5234-4565-c454-40403370dc3e"
      },
      "cell_type": "code",
      "source": [
        "stats.bayes_mvs(df['no_fatal'], alpha = 0.99)[0]"
      ],
      "execution_count": 10,
      "outputs": [
        {
          "output_type": "execute_result",
          "data": {
            "text/plain": [
              "Mean(statistic=15.79019607843137, minmax=(14.244585167780395, 17.335806989082347))"
            ]
          },
          "metadata": {
            "tags": []
          },
          "execution_count": 10
        }
      ]
    },
    {
      "metadata": {
        "id": "OH0Asa20i63_",
        "colab_type": "code",
        "colab": {
          "base_uri": "https://localhost:8080/",
          "height": 34
        },
        "outputId": "1a51afc5-c47d-4ab9-bc1e-f5a5389bfb16"
      },
      "cell_type": "code",
      "source": [
        "stats.bayes_mvs(df['no_fatal'], alpha = 0.90)[0]"
      ],
      "execution_count": 11,
      "outputs": [
        {
          "output_type": "execute_result",
          "data": {
            "text/plain": [
              "Mean(statistic=15.79019607843137, minmax=(14.822870811303606, 16.757521345559134))"
            ]
          },
          "metadata": {
            "tags": []
          },
          "execution_count": 11
        }
      ]
    },
    {
      "metadata": {
        "id": "VQA7n5skqbDw",
        "colab_type": "text"
      },
      "cell_type": "markdown",
      "source": [
        "\n",
        "\n",
        "---\n",
        "\n"
      ]
    },
    {
      "metadata": {
        "id": "S6QV1ijwi6y6",
        "colab_type": "code",
        "colab": {
          "base_uri": "https://localhost:8080/",
          "height": 34
        },
        "outputId": "10d6978c-f77a-4610-a60d-2ff95cf954e9"
      },
      "cell_type": "code",
      "source": [
        "def two_headed_prob(c, n):\n",
        "  '''Determines the probability of possessing a two headed coin in a collection \n",
        "  of c coins where c-1 coins are normal given that one has received n heads and 0 tails'''\n",
        "  numerator = (1/c)\n",
        "  denominator = (0.5**n)*((c-1)/c) + numerator\n",
        "  return (numerator / denominator)\n",
        "\n",
        "two_headed_prob(5,5)"
      ],
      "execution_count": 12,
      "outputs": [
        {
          "output_type": "execute_result",
          "data": {
            "text/plain": [
              "0.888888888888889"
            ]
          },
          "metadata": {
            "tags": []
          },
          "execution_count": 12
        }
      ]
    },
    {
      "metadata": {
        "id": "qqy2w0m7i6uk",
        "colab_type": "code",
        "colab": {
          "base_uri": "https://localhost:8080/",
          "height": 34
        },
        "outputId": "262c331d-bf31-4f15-9547-98ae38ad58f4"
      },
      "cell_type": "code",
      "source": [
        "0.5**5"
      ],
      "execution_count": 13,
      "outputs": [
        {
          "output_type": "execute_result",
          "data": {
            "text/plain": [
              "0.03125"
            ]
          },
          "metadata": {
            "tags": []
          },
          "execution_count": 13
        }
      ]
    },
    {
      "metadata": {
        "id": "Gopqp3D3l5Wl",
        "colab_type": "text"
      },
      "cell_type": "markdown",
      "source": [
        "### CONGRESSIONAL DATA - CONDITIONAL VOTING"
      ]
    },
    {
      "metadata": {
        "id": "kLUHJ-GymoMT",
        "colab_type": "code",
        "colab": {}
      },
      "cell_type": "code",
      "source": [
        "# Functions\n",
        "\n",
        "def t_test_2mean(col1, col2, d=0):\n",
        "  mean1 = col1.mean()\n",
        "  mean2 = col2.mean()\n",
        "  t_stat = ((mean1 - mean2) - d) / standard_error_pooled(col1,col2)\n",
        "  return t_stat\n",
        "\n",
        "def standard_error_pooled (col1,col2):\n",
        "  len1 = len(col1)\n",
        "  len2 = len(col2)\n",
        "  var1 = col1.var()\n",
        "  var2 = col2.var()\n",
        "  se = np.sqrt((var1/len1) + (var2/len2))\n",
        "  return se\n",
        "\n",
        "def degrees_freedom_pooled (col1, col2):\n",
        "  len1 = len(col1)\n",
        "  len2 = len(col2)\n",
        "  var1 = col1.var()\n",
        "  var2 = col2.var()\n",
        "  df1 = var1 / len1\n",
        "  df2 = var2 / len2\n",
        "  df = ((df1 + df2)**2) / ((df1**2/(len1 - 1)) + (df2**2/(len2 - 1)))\n",
        "  return int(df)\n",
        "\n",
        "\n",
        "def confidence_interval(data, confidence=0.95):\n",
        "  \"\"\"\n",
        "  Calculate a confidence interval around a sample mean for given data.\n",
        "  Using t-distribution and two-tailed test, default 95% confidence. \n",
        "  \n",
        "  Arguments:\n",
        "    data - iterable (list or numpy array) of sample observations\n",
        "    confidence - level of confidence for the interval\n",
        "  \n",
        "  Returns:\n",
        "    tuple of (mean, lower bound, upper bound)\n",
        "  \"\"\"\n",
        "  data = np.array(data)\n",
        "  mean = np.mean(data)\n",
        "  n = len(data)\n",
        "  stderr = stats.sem(data)\n",
        "  interval = stderr * stats.t.ppf((1 + confidence) / 2., n - 1)\n",
        "  return (mean, mean - interval, mean + interval)\n",
        "\n",
        "def report_confidence_interval(confidence_interval):\n",
        "  \"\"\"\n",
        "  Return a string with a pretty report of a confidence interval.\n",
        "  \n",
        "  Arguments:\n",
        "    confidence_interval - tuple of (mean, lower bound, upper bound)\n",
        "  \n",
        "  Returns:\n",
        "    None, but prints to screen the report\n",
        "  \"\"\"\n",
        "  #print('Mean: {}'.format(confidence_interval[0]))\n",
        "  #print('Lower bound: {}'.format(confidence_interval[1]))\n",
        "  #print('Upper bound: {}'.format(confidence_interval[2]))\n",
        "  s = \"our mean lies in the interval ]{:.2}, {:.2}[\".format(\n",
        "      confidence_interval[1], confidence_interval[2])\n",
        "  return s"
      ],
      "execution_count": 0,
      "outputs": []
    },
    {
      "metadata": {
        "id": "xpVhZyUnbf7o",
        "colab_type": "code",
        "colab": {
          "base_uri": "https://localhost:8080/",
          "height": 329
        },
        "outputId": "7736f0d0-a515-4ea0-9f20-e572a76d2ddd"
      },
      "cell_type": "code",
      "source": [
        "import pandas as pd\n",
        "from scipy import stats\n",
        "import numpy as np\n",
        "\n",
        "url = 'https://archive.ics.uci.edu/ml/machine-learning-databases/voting-records/house-votes-84.data'\n",
        "\n",
        "headers = ['party', 'hand_infants', 'water_project', 'budget_adoption',\n",
        "           'freeze_physicians', 'el_salvador', 'religion_school', 'satellite_ban',\n",
        "           'contras_aid', 'mx_missile', 'immigration', 'synfuels_cutback',\n",
        "           'education','superfund','crime','duty_free', 'south_africa']\n",
        "\n",
        "df = pd.read_csv(url, names = headers) \n",
        "\n",
        "\n",
        "df.replace('?', np.nan, inplace = True) # Null values come from replacing ?\n",
        "df.replace('n', 0, inplace = True)\n",
        "df.replace('y', 1, inplace = True)\n",
        "\n",
        "df.isnull().sum()"
      ],
      "execution_count": 15,
      "outputs": [
        {
          "output_type": "execute_result",
          "data": {
            "text/plain": [
              "party                  0\n",
              "hand_infants          12\n",
              "water_project         48\n",
              "budget_adoption       11\n",
              "freeze_physicians     11\n",
              "el_salvador           15\n",
              "religion_school       11\n",
              "satellite_ban         14\n",
              "contras_aid           15\n",
              "mx_missile            22\n",
              "immigration            7\n",
              "synfuels_cutback      21\n",
              "education             31\n",
              "superfund             25\n",
              "crime                 17\n",
              "duty_free             28\n",
              "south_africa         104\n",
              "dtype: int64"
            ]
          },
          "metadata": {
            "tags": []
          },
          "execution_count": 15
        }
      ]
    },
    {
      "metadata": {
        "id": "P_qHsDYGmYzZ",
        "colab_type": "code",
        "colab": {}
      },
      "cell_type": "code",
      "source": [
        "dem_df = df.loc[df['party'] == 'democrat']\n",
        "rep_df = df.loc[df['party'] == 'republican']"
      ],
      "execution_count": 0,
      "outputs": []
    },
    {
      "metadata": {
        "id": "k_yNMDKxmYwz",
        "colab_type": "code",
        "colab": {
          "base_uri": "https://localhost:8080/",
          "height": 540
        },
        "outputId": "684ce609-0836-4b15-f056-b4702b922c96"
      },
      "cell_type": "code",
      "source": [
        "# Uploading data into Pandas\n",
        "\n",
        "header_new = ['hand_infants', 'water_project', 'budget_adoption',\n",
        "           'freeze_physicians', 'el_salvador', 'religion_school', 'satellite_ban',\n",
        "           'contras_aid', 'mx_missile', 'immigration', 'synfuels_cutback',\n",
        "           'education','superfund','crime','duty_free', 'south_africa']\n",
        "\n",
        "issues = []\n",
        "t_critical = 1.96\n",
        "for col in header_new:\n",
        "  congress_mean = 100*df[col].mean()\n",
        "  dem_mean = 100*dem_df[col].mean()\n",
        "  rep_mean = 100*rep_df[col].mean()\n",
        "#   diff = dem_mean - rep_mean\n",
        "#   deg = degrees_freedom_pooled(dem_df[col], rep_df[col])\n",
        "#   tt = t_test_2mean(dem_df[col], rep_df[col])\n",
        "#   pval = 2*(1-stats.t.cdf(np.abs(tt), deg))\n",
        "#   se = 100* standard_error_pooled(dem_df[col], rep_df[col])\n",
        "#   lower_bound = diff - (t_critical*se)\n",
        "#   upper_bound = diff + (t_critical*se)\n",
        "  issues.append({'0_Issue': col, '1_Total_mean_%': congress_mean, '2_Dem_mean_%': dem_mean, '3_Rep_mean_%': rep_mean}) # List of dictionaries\n",
        "  \n",
        "# print(\"Issues that Democrats favor vs Republicans \\n\")\n",
        "\n",
        "df_new = pd.DataFrame(issues)\n",
        "\n",
        "df_new2 = df_new.sort_values('1_Total_mean_%')\n",
        "\n",
        "df_new2 = df_new2.reset_index()\n",
        "del df_new2['index']\n",
        "\n",
        "df_new2"
      ],
      "execution_count": 17,
      "outputs": [
        {
          "output_type": "execute_result",
          "data": {
            "text/html": [
              "<div>\n",
              "<style scoped>\n",
              "    .dataframe tbody tr th:only-of-type {\n",
              "        vertical-align: middle;\n",
              "    }\n",
              "\n",
              "    .dataframe tbody tr th {\n",
              "        vertical-align: top;\n",
              "    }\n",
              "\n",
              "    .dataframe thead th {\n",
              "        text-align: right;\n",
              "    }\n",
              "</style>\n",
              "<table border=\"1\" class=\"dataframe\">\n",
              "  <thead>\n",
              "    <tr style=\"text-align: right;\">\n",
              "      <th></th>\n",
              "      <th>0_Issue</th>\n",
              "      <th>1_Total_mean_%</th>\n",
              "      <th>2_Dem_mean_%</th>\n",
              "      <th>3_Rep_mean_%</th>\n",
              "    </tr>\n",
              "  </thead>\n",
              "  <tbody>\n",
              "    <tr>\n",
              "      <th>0</th>\n",
              "      <td>synfuels_cutback</td>\n",
              "      <td>36.231884</td>\n",
              "      <td>50.588235</td>\n",
              "      <td>13.207547</td>\n",
              "    </tr>\n",
              "    <tr>\n",
              "      <th>1</th>\n",
              "      <td>freeze_physicians</td>\n",
              "      <td>41.745283</td>\n",
              "      <td>5.405405</td>\n",
              "      <td>98.787879</td>\n",
              "    </tr>\n",
              "    <tr>\n",
              "      <th>2</th>\n",
              "      <td>education</td>\n",
              "      <td>42.326733</td>\n",
              "      <td>14.457831</td>\n",
              "      <td>87.096774</td>\n",
              "    </tr>\n",
              "    <tr>\n",
              "      <th>3</th>\n",
              "      <td>duty_free</td>\n",
              "      <td>42.751843</td>\n",
              "      <td>63.745020</td>\n",
              "      <td>8.974359</td>\n",
              "    </tr>\n",
              "    <tr>\n",
              "      <th>4</th>\n",
              "      <td>hand_infants</td>\n",
              "      <td>44.208038</td>\n",
              "      <td>60.465116</td>\n",
              "      <td>18.787879</td>\n",
              "    </tr>\n",
              "    <tr>\n",
              "      <th>5</th>\n",
              "      <td>mx_missile</td>\n",
              "      <td>50.121065</td>\n",
              "      <td>75.806452</td>\n",
              "      <td>11.515152</td>\n",
              "    </tr>\n",
              "    <tr>\n",
              "      <th>6</th>\n",
              "      <td>water_project</td>\n",
              "      <td>50.387597</td>\n",
              "      <td>50.209205</td>\n",
              "      <td>50.675676</td>\n",
              "    </tr>\n",
              "    <tr>\n",
              "      <th>7</th>\n",
              "      <td>immigration</td>\n",
              "      <td>50.467290</td>\n",
              "      <td>47.148289</td>\n",
              "      <td>55.757576</td>\n",
              "    </tr>\n",
              "    <tr>\n",
              "      <th>8</th>\n",
              "      <td>el_salvador</td>\n",
              "      <td>50.476190</td>\n",
              "      <td>21.568627</td>\n",
              "      <td>95.151515</td>\n",
              "    </tr>\n",
              "    <tr>\n",
              "      <th>9</th>\n",
              "      <td>superfund</td>\n",
              "      <td>50.975610</td>\n",
              "      <td>28.968254</td>\n",
              "      <td>86.075949</td>\n",
              "    </tr>\n",
              "    <tr>\n",
              "      <th>10</th>\n",
              "      <td>satellite_ban</td>\n",
              "      <td>56.769596</td>\n",
              "      <td>77.220077</td>\n",
              "      <td>24.074074</td>\n",
              "    </tr>\n",
              "    <tr>\n",
              "      <th>11</th>\n",
              "      <td>contras_aid</td>\n",
              "      <td>57.619048</td>\n",
              "      <td>82.889734</td>\n",
              "      <td>15.286624</td>\n",
              "    </tr>\n",
              "    <tr>\n",
              "      <th>12</th>\n",
              "      <td>crime</td>\n",
              "      <td>59.330144</td>\n",
              "      <td>35.019455</td>\n",
              "      <td>98.136646</td>\n",
              "    </tr>\n",
              "    <tr>\n",
              "      <th>13</th>\n",
              "      <td>budget_adoption</td>\n",
              "      <td>59.669811</td>\n",
              "      <td>88.846154</td>\n",
              "      <td>13.414634</td>\n",
              "    </tr>\n",
              "    <tr>\n",
              "      <th>14</th>\n",
              "      <td>religion_school</td>\n",
              "      <td>64.150943</td>\n",
              "      <td>47.674419</td>\n",
              "      <td>89.759036</td>\n",
              "    </tr>\n",
              "    <tr>\n",
              "      <th>15</th>\n",
              "      <td>south_africa</td>\n",
              "      <td>81.268882</td>\n",
              "      <td>93.513514</td>\n",
              "      <td>65.753425</td>\n",
              "    </tr>\n",
              "  </tbody>\n",
              "</table>\n",
              "</div>"
            ],
            "text/plain": [
              "              0_Issue  1_Total_mean_%  2_Dem_mean_%  3_Rep_mean_%\n",
              "0    synfuels_cutback       36.231884     50.588235     13.207547\n",
              "1   freeze_physicians       41.745283      5.405405     98.787879\n",
              "2           education       42.326733     14.457831     87.096774\n",
              "3           duty_free       42.751843     63.745020      8.974359\n",
              "4        hand_infants       44.208038     60.465116     18.787879\n",
              "5          mx_missile       50.121065     75.806452     11.515152\n",
              "6       water_project       50.387597     50.209205     50.675676\n",
              "7         immigration       50.467290     47.148289     55.757576\n",
              "8         el_salvador       50.476190     21.568627     95.151515\n",
              "9           superfund       50.975610     28.968254     86.075949\n",
              "10      satellite_ban       56.769596     77.220077     24.074074\n",
              "11        contras_aid       57.619048     82.889734     15.286624\n",
              "12              crime       59.330144     35.019455     98.136646\n",
              "13    budget_adoption       59.669811     88.846154     13.414634\n",
              "14    religion_school       64.150943     47.674419     89.759036\n",
              "15       south_africa       81.268882     93.513514     65.753425"
            ]
          },
          "metadata": {
            "tags": []
          },
          "execution_count": 17
        }
      ]
    },
    {
      "metadata": {
        "id": "n-E4YctMmYpR",
        "colab_type": "code",
        "colab": {
          "base_uri": "https://localhost:8080/",
          "height": 437
        },
        "outputId": "e650b3b3-d062-401c-ebe9-e4ca901e4f51"
      },
      "cell_type": "code",
      "source": [
        "import matplotlib.pyplot as plt\n",
        "\n",
        "# style.use(\"fivethirtyeight\") \n",
        "\n",
        "fig, ax = plt.subplots()\n",
        "\n",
        "y_ticks = df_new2['0_Issue'].tolist()\n",
        "\n",
        "y = [df_new2.index,df_new2.index]\n",
        "xDem = [df_new2['1_Total_mean_%'], df_new2['2_Dem_mean_%']]\n",
        "xRep = [df_new2['1_Total_mean_%'], df_new2['3_Rep_mean_%']]\n",
        "\n",
        "\n",
        "plt.title('Party Conditional Voting', fontweight='bold')\n",
        "\n",
        "fig.set_facecolor(\"ivory\")\n",
        "\n",
        "ax.set_facecolor(\"white\")\n",
        "\n",
        "barlist1=ax.plot(xDem,y, linewidth=5, color='blue', alpha = 0.35)\n",
        "barlist2=ax.plot(xRep,y, linewidth=5, color='red', alpha = 0.35)\n",
        "\n",
        "x0 = df_new2['1_Total_mean_%']\n",
        "\n",
        "plt.scatter(x0,df_new2.index, color = 'purple', marker = 'o', alpha = 1)\n",
        "plt.scatter(df_new2['2_Dem_mean_%'],df_new2.index, color = 'blue', marker = 'o', alpha = 1)\n",
        "plt.scatter(df_new2['3_Rep_mean_%'],df_new2.index, color = 'red', marker = 'o', alpha = 1)\n",
        "\n",
        "ax.tick_params(axis = y, labelrotation = 0, colors = 'black', size = 24)\n",
        "ax.set_yticks(df_new2.index)\n",
        "ax.set_yticklabels(y_ticks)\n",
        "\n",
        "ax.set_xticks([0,10,20,30,40,50,60,70,80,90,100])\n",
        "ax.set_xticklabels(['0','10','20','30','40','50','60','70','80','90','100'], color = 'black')\n",
        "\n",
        "# plt.axvline(x = 0, color = 'black', linewidth = 10, alpha = .25)\n",
        "\n",
        "plt.text(x=20,y=-4,s=\"Purple dot indicates an unconditional approval\", color = 'purple')\n",
        "plt.text(x=10,y=-5,s=\"Red indicates a change in approval conditional for Republicans\", color = 'red') #, weight = 'bold')\n",
        "plt.text(x=11,y=-6,s=\"Blue indicates a change in approval conditional for Democrats\", color = 'blue') #, weight = 'bold')\n",
        "\n",
        "plt.xlabel('Percent Approval', fontweight='bold')\n",
        "plt.ylabel('Issue', fontweight='bold')\n",
        "  \n",
        "plt.show()"
      ],
      "execution_count": 19,
      "outputs": [
        {
          "output_type": "display_data",
          "data": {
            "image/png": "[encoded data removed]",
            "text/plain": [
              "<matplotlib.figure.Figure at 0x7fb0b3103c18>"
            ]
          },
          "metadata": {
            "tags": []
          }
        }
      ]
    },
    {
      "metadata": {
        "id": "6HU1M1N70vqE",
        "colab_type": "text"
      },
      "cell_type": "markdown",
      "source": [
        "**This diagram demonstrates visually how voting patterns change based on one's party affiliation. **"
      ]
    }
  ]
}