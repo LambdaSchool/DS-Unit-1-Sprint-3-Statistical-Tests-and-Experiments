{
  "nbformat": 4,
  "nbformat_minor": 0,
  "metadata": {
    "colab": {
      "name": "M Mastin of LS_DS4_143_Introduction_to_Bayesian_Inference.ipynb",
      "version": "0.3.2",
      "provenance": [],
      "include_colab_link": true
    },
    "kernelspec": {
      "name": "python3",
      "display_name": "Python 3"
    }
  },
  "cells": [
    {
      "cell_type": "markdown",
      "metadata": {
        "id": "view-in-github",
        "colab_type": "text"
      },
      "source": [
        "<a href=\"https://colab.research.google.com/github/mmastin/DS-Unit-1-Sprint-4-Statistical-Tests-and-Experiments/blob/master/M_Mastin_of_LS_DS4_143_Introduction_to_Bayesian_Inference.ipynb\" target=\"_parent\"><img src=\"https://colab.research.google.com/assets/colab-badge.svg\" alt=\"Open In Colab\"/></a>"
      ]
    },
    {
      "cell_type": "markdown",
      "metadata": {
        "id": "umwP7FX5OppI",
        "colab_type": "text"
      },
      "source": [
        "## An Aside about Degrees of Freedom (N-1)"
      ]
    },
    {
      "cell_type": "code",
      "metadata": {
        "id": "hT52gS4oOrA4",
        "colab_type": "code",
        "colab": {}
      },
      "source": [
        "coinflips = [0,1,1]\n",
        "\n",
        "mean = 2.0/3.0\n",
        "\n",
        "coinflips = [1, 0, 1]"
      ],
      "execution_count": 0,
      "outputs": []
    },
    {
      "cell_type": "markdown",
      "metadata": {
        "id": "H7OLbevlbd_Z",
        "colab_type": "text"
      },
      "source": [
        "# Lambda School Data Science Module 143\n",
        "\n",
        "## Introduction to Bayesian Inference\n",
        "\n",
        "!['Detector! What would the Bayesian statistician say if I asked him whether the--' [roll] 'I AM A NEUTRINO DETECTOR, NOT A LABYRINTH GUARD. SERIOUSLY, DID YOUR BRAIN FALL OUT?' [roll] '... yes.'](https://imgs.xkcd.com/comics/frequentists_vs_bayesians.png)\n",
        "\n",
        "*[XKCD 1132](https://www.xkcd.com/1132/)*\n"
      ]
    },
    {
      "cell_type": "markdown",
      "metadata": {
        "id": "3mz8p08BsN6p",
        "colab_type": "text"
      },
      "source": [
        "## Prepare - Bayes' Theorem and the Bayesian mindset"
      ]
    },
    {
      "cell_type": "markdown",
      "metadata": {
        "id": "GhycNr-Sbeie",
        "colab_type": "text"
      },
      "source": [
        "Bayes' theorem possesses a near-mythical quality - a bit of math that somehow magically evaluates a situation. But this mythicalness has more to do with its reputation and advanced applications than the actual core of it - deriving it is actually remarkably straightforward.\n",
        "\n",
        "### The Law of Total Probability\n",
        "\n",
        "By definition, the total probability of all outcomes (events) if some variable (event space) $A$ is 1. That is:\n",
        "\n",
        "$$P(A) = \\sum_n P(A_n) = 1$$\n",
        "\n",
        "The law of total probability takes this further, considering two variables ($A$ and $B$) and relating their marginal probabilities (their likelihoods considered independently, without reference to one another) and their conditional probabilities (their likelihoods considered jointly). A marginal probability is simply notated as e.g. $P(A)$, while a conditional probability is notated $P(A|B)$, which reads \"probability of $A$ *given* $B$\".\n",
        "\n",
        "The law of total probability states:\n",
        "\n",
        "$$P(A) = \\sum_n P(A | B_n) P(B_n)$$\n",
        "\n",
        "In words - the total probability of $A$ is equal to the sum of the conditional probability of $A$ on any given event $B_n$ times the probability of that event $B_n$, and summed over all possible events in $B$.\n",
        "\n",
        "### The Law of Conditional Probability\n",
        "\n",
        "What's the probability of something conditioned on something else? To determine this we have to go back to set theory and think about the intersection of sets:\n",
        "\n",
        "The formula for actual calculation:\n",
        "\n",
        "$$P(A|B) = \\frac{P(A \\cap B)}{P(B)}$$\n",
        "\n",
        "![Visualization of set intersection](https://upload.wikimedia.org/wikipedia/commons/9/99/Venn0001.svg)\n",
        "\n",
        "Think of the overall rectangle as the whole probability space, $A$ as the left circle, $B$ as the right circle, and their intersection as the red area. Try to visualize the ratio being described in the above formula, and how it is different from just the $P(A)$ (not conditioned on $B$).\n",
        "\n",
        "We can see how this relates back to the law of total probability - multiply both sides by $P(B)$ and you get $P(A|B)P(B) = P(A \\cap B)$ - replaced back into the law of total probability we get $P(A) = \\sum_n P(A \\cap B_n)$.\n",
        "\n",
        "This may not seem like an improvement at first, but try to relate it back to the above picture - if you think of sets as physical objects, we're saying that the total probability of $A$ given $B$ is all the little pieces of it intersected with $B$, added together. The conditional probability is then just that again, but divided by the probability of $B$ itself happening in the first place.\n",
        "\n",
        "\\begin{align}\n",
        "P(A|B) &= \\frac{P(A \\cap B)}{P(B)}\\\\\n",
        "\\Rightarrow P(A|B)P(B) &= P(A \\cap B)\\\\\n",
        "P(B|A) &= \\frac{P(B \\cap A)}{P(A)}\\\\\n",
        "\\Rightarrow P(B|A)P(A) &= P(B \\cap A)\\\\\n",
        "\\Rightarrow P(A|B)P(B) &= P(B|A)P(A) \\\\\n",
        "P(A \\cap B) &= P(B \\cap A)\\\\\n",
        "P(A|B) &= \\frac{P(B|A) \\times P(A)}{P(B)}\n",
        "\\end{align}\n",
        " \n",
        "### Bayes Theorem\n",
        "\n",
        "![Baye's Theorem with Labels](https://www.probabilisticworld.com/wp-content/uploads/2016/06/bayes-theorem-with-description-2.png)\n",
        "\n",
        "Here is is, the seemingly magic tool:\n",
        "\n",
        "$P(A|B) = \\frac{P(B|A)P(A)}{P(B)}$\n",
        "\n",
        "In words - the probability of $A$ conditioned on $B$ is the probability of $B$ conditioned on $A$, times the probability of $A$ and divided by the probability of $B$. These unconditioned probabilities are referred to as \"prior beliefs\", and the conditioned probabilities as \"updated.\"\n",
        "\n",
        "Why is this important? Scroll back up to the XKCD example - the Bayesian statistician draws a less absurd conclusion because their prior belief in the likelihood that the sun will go nova is extremely low. So, even when updated based on evidence from a detector that is $35/36 = 0.972$ accurate, the prior belief doesn't shift enough to change their overall opinion.\n",
        "\n",
        "There's many examples of Bayes' theorem - one less absurd example is to apply to [breathalyzer tests](https://www.bayestheorem.net/breathalyzer-example/). You may think that a breathalyzer test that is 100% accurate for true positives (detecting somebody who is drunk) is pretty good, but what if it also has 8% false positives (indicating somebody is drunk when they're not)? And furthermore, the rate of drunk driving (and thus our prior belief)  is 1/1000.\n",
        "\n",
        "What is the likelihood somebody really is drunk if they test positive? Some may guess it's 92% - the difference between the true positives and the false positives. But we have a prior belief of the background/true rate of drunk driving. Sounds like a job for Bayes' theorem!\n",
        "\n",
        "$$\n",
        "\\begin{aligned}\n",
        "P(Drunk | Positive) &= \\frac{P(Positive | Drunk)P(Drunk)}{P(Positive)} \\\\\n",
        "&= \\frac{1 \\times 0.001}{0.08} \\\\\n",
        "&= 0.0125\n",
        "\\end{aligned}\n",
        "$$\n",
        "\n",
        "In other words, the likelihood that somebody is drunk given they tested positive with a breathalyzer in this situation is only 1.25% - probably much lower than you'd guess. This is why, in practice, it's important to have a repeated test to confirm (the probability of two false positives in a row is $0.08 * 0.08 = 0.0064$, much lower), and Bayes' theorem has been relevant in court cases where proper consideration of evidence was important."
      ]
    },
    {
      "cell_type": "code",
      "metadata": {
        "id": "bb6ksmCHc6w0",
        "colab_type": "code",
        "outputId": "e1f5342e-c813-4400-d9f1-1bff244a0658",
        "colab": {
          "base_uri": "https://localhost:8080/",
          "height": 35
        }
      },
      "source": [
        "first_test = (1*.001)/.08\n",
        "print(first_test)"
      ],
      "execution_count": 0,
      "outputs": [
        {
          "output_type": "stream",
          "text": [
            "0.0125\n"
          ],
          "name": "stdout"
        }
      ]
    },
    {
      "cell_type": "code",
      "metadata": {
        "id": "H0P08vXVdBUZ",
        "colab_type": "code",
        "outputId": "068fbf56-8d5f-4a9b-a0f0-3a0c107ded58",
        "colab": {
          "base_uri": "https://localhost:8080/",
          "height": 35
        }
      },
      "source": [
        "second_test = (1*.0125)/.08\n",
        "print(second_test)"
      ],
      "execution_count": 0,
      "outputs": [
        {
          "output_type": "stream",
          "text": [
            "0.15625\n"
          ],
          "name": "stdout"
        }
      ]
    },
    {
      "cell_type": "code",
      "metadata": {
        "id": "bPUXj84XdHAD",
        "colab_type": "code",
        "outputId": "428e560a-b3fb-44e8-fcf3-a52306eab095",
        "colab": {
          "base_uri": "https://localhost:8080/",
          "height": 35
        }
      },
      "source": [
        "third_test = (1*.15625)/.08\n",
        "print(third_test)"
      ],
      "execution_count": 0,
      "outputs": [
        {
          "output_type": "stream",
          "text": [
            "1.953125\n"
          ],
          "name": "stdout"
        }
      ]
    },
    {
      "cell_type": "markdown",
      "metadata": {
        "id": "htI3DGvDsRJF",
        "colab_type": "text"
      },
      "source": [
        "## Live Lecture - Deriving Bayes' Theorem, Calculating Bayesian Confidence"
      ]
    },
    {
      "cell_type": "markdown",
      "metadata": {
        "id": "moIJNQ-nbfe_",
        "colab_type": "text"
      },
      "source": [
        "Notice that $P(A|B)$ appears in the above laws - in Bayesian terms, this is the belief in $A$ updated for the evidence $B$. So all we need to do is solve for this term to derive Bayes' theorem. Let's do it together!"
      ]
    },
    {
      "cell_type": "code",
      "metadata": {
        "id": "ke-5EqJI0Tsn",
        "colab_type": "code",
        "colab": {
          "base_uri": "https://localhost:8080/",
          "height": 68
        },
        "outputId": "fd01cadf-09b0-4b37-f1be-4b1c8764f1c0"
      },
      "source": [
        "# Activity 2 - Use SciPy to calculate Bayesian confidence intervals\n",
        "# https://docs.scipy.org/doc/scipy/reference/generated/scipy.stats.bayes_mvs.html#scipy.stats.bayes_mvs\n",
        "\n",
        "from scipy import stats\n",
        "import numpy as np\n",
        "\n",
        "np.random.seed(seed=42)\n",
        "\n",
        "coinflips = np.random.binomial(n=1, p=.5, size=100)\n",
        "print(coinflips)"
      ],
      "execution_count": 1,
      "outputs": [
        {
          "output_type": "stream",
          "text": [
            "[0 1 1 1 0 0 0 1 1 1 0 1 1 0 0 0 0 1 0 0 1 0 0 0 0 1 0 1 1 0 1 0 0 1 1 1 0\n",
            " 0 1 0 0 0 0 1 0 1 0 1 1 0 1 1 1 1 1 1 0 0 0 0 0 0 1 0 0 1 0 1 0 1 1 0 0 1\n",
            " 1 1 1 0 0 0 1 1 0 0 0 0 1 1 1 0 0 1 1 1 1 0 1 0 0 0]\n"
          ],
          "name": "stdout"
        }
      ]
    },
    {
      "cell_type": "code",
      "metadata": {
        "id": "myVpw6l4kCYU",
        "colab_type": "code",
        "colab": {}
      },
      "source": [
        "def confidence_interval(data, confidence=.95):\n",
        "  n = len(data)\n",
        "  mean = sum(data)/n\n",
        "  data = np.array(data)\n",
        "  stderr = stats.sem(data)\n",
        "  interval = stderr * stats.t.ppf((1 + confidence) / 2.0, n-1)\n",
        "  return (mean, mean - interval, mean + interval)"
      ],
      "execution_count": 0,
      "outputs": []
    },
    {
      "cell_type": "code",
      "metadata": {
        "id": "cVVRQif6kVJu",
        "colab_type": "code",
        "colab": {
          "base_uri": "https://localhost:8080/",
          "height": 34
        },
        "outputId": "5279b86d-a853-4db6-a565-4bd061ec2a2f"
      },
      "source": [
        "confidence_interval(coinflips, confidence=.95)"
      ],
      "execution_count": 5,
      "outputs": [
        {
          "output_type": "execute_result",
          "data": {
            "text/plain": [
              "(0.47, 0.3704689875017368, 0.5695310124982632)"
            ]
          },
          "metadata": {
            "tags": []
          },
          "execution_count": 5
        }
      ]
    },
    {
      "cell_type": "code",
      "metadata": {
        "id": "xqVQkxRVkXPw",
        "colab_type": "code",
        "colab": {
          "base_uri": "https://localhost:8080/",
          "height": 1516
        },
        "outputId": "9f6bca3d-e6ff-40b1-f5f7-dc05dc5a3918"
      },
      "source": [
        "# how does bayesian CI compare to frequentist CI\n",
        "\n",
        "help(stats.bayes_mvs)"
      ],
      "execution_count": 6,
      "outputs": [
        {
          "output_type": "stream",
          "text": [
            "Help on function bayes_mvs in module scipy.stats.morestats:\n",
            "\n",
            "bayes_mvs(data, alpha=0.9)\n",
            "    Bayesian confidence intervals for the mean, var, and std.\n",
            "    \n",
            "    Parameters\n",
            "    ----------\n",
            "    data : array_like\n",
            "        Input data, if multi-dimensional it is flattened to 1-D by `bayes_mvs`.\n",
            "        Requires 2 or more data points.\n",
            "    alpha : float, optional\n",
            "        Probability that the returned confidence interval contains\n",
            "        the true parameter.\n",
            "    \n",
            "    Returns\n",
            "    -------\n",
            "    mean_cntr, var_cntr, std_cntr : tuple\n",
            "        The three results are for the mean, variance and standard deviation,\n",
            "        respectively.  Each result is a tuple of the form::\n",
            "    \n",
            "            (center, (lower, upper))\n",
            "    \n",
            "        with `center` the mean of the conditional pdf of the value given the\n",
            "        data, and `(lower, upper)` a confidence interval, centered on the\n",
            "        median, containing the estimate to a probability ``alpha``.\n",
            "    \n",
            "    See Also\n",
            "    --------\n",
            "    mvsdist\n",
            "    \n",
            "    Notes\n",
            "    -----\n",
            "    Each tuple of mean, variance, and standard deviation estimates represent\n",
            "    the (center, (lower, upper)) with center the mean of the conditional pdf\n",
            "    of the value given the data and (lower, upper) is a confidence interval\n",
            "    centered on the median, containing the estimate to a probability\n",
            "    ``alpha``.\n",
            "    \n",
            "    Converts data to 1-D and assumes all data has the same mean and variance.\n",
            "    Uses Jeffrey's prior for variance and std.\n",
            "    \n",
            "    Equivalent to ``tuple((x.mean(), x.interval(alpha)) for x in mvsdist(dat))``\n",
            "    \n",
            "    References\n",
            "    ----------\n",
            "    T.E. Oliphant, \"A Bayesian perspective on estimating mean, variance, and\n",
            "    standard-deviation from data\", https://scholarsarchive.byu.edu/facpub/278,\n",
            "    2006.\n",
            "    \n",
            "    Examples\n",
            "    --------\n",
            "    First a basic example to demonstrate the outputs:\n",
            "    \n",
            "    >>> from scipy import stats\n",
            "    >>> data = [6, 9, 12, 7, 8, 8, 13]\n",
            "    >>> mean, var, std = stats.bayes_mvs(data)\n",
            "    >>> mean\n",
            "    Mean(statistic=9.0, minmax=(7.103650222612533, 10.896349777387467))\n",
            "    >>> var\n",
            "    Variance(statistic=10.0, minmax=(3.176724206..., 24.45910382...))\n",
            "    >>> std\n",
            "    Std_dev(statistic=2.9724954732045084, minmax=(1.7823367265645143, 4.945614605014631))\n",
            "    \n",
            "    Now we generate some normally distributed random data, and get estimates of\n",
            "    mean and standard deviation with 95% confidence intervals for those\n",
            "    estimates:\n",
            "    \n",
            "    >>> n_samples = 100000\n",
            "    >>> data = stats.norm.rvs(size=n_samples)\n",
            "    >>> res_mean, res_var, res_std = stats.bayes_mvs(data, alpha=0.95)\n",
            "    \n",
            "    >>> import matplotlib.pyplot as plt\n",
            "    >>> fig = plt.figure()\n",
            "    >>> ax = fig.add_subplot(111)\n",
            "    >>> ax.hist(data, bins=100, density=True, label='Histogram of data')\n",
            "    >>> ax.vlines(res_mean.statistic, 0, 0.5, colors='r', label='Estimated mean')\n",
            "    >>> ax.axvspan(res_mean.minmax[0],res_mean.minmax[1], facecolor='r',\n",
            "    ...            alpha=0.2, label=r'Estimated mean (95% limits)')\n",
            "    >>> ax.vlines(res_std.statistic, 0, 0.5, colors='g', label='Estimated scale')\n",
            "    >>> ax.axvspan(res_std.minmax[0],res_std.minmax[1], facecolor='g', alpha=0.2,\n",
            "    ...            label=r'Estimated scale (95% limits)')\n",
            "    \n",
            "    >>> ax.legend(fontsize=10)\n",
            "    >>> ax.set_xlim([-4, 4])\n",
            "    >>> ax.set_ylim([0, 0.5])\n",
            "    >>> plt.show()\n",
            "\n"
          ],
          "name": "stdout"
        }
      ]
    },
    {
      "cell_type": "code",
      "metadata": {
        "id": "pBLRdBoPkna9",
        "colab_type": "code",
        "colab": {}
      },
      "source": [
        "??stats.bayes_mvs\n",
        "\n",
        "# shows documentation on the bottom of screen"
      ],
      "execution_count": 0,
      "outputs": []
    },
    {
      "cell_type": "code",
      "metadata": {
        "id": "STnI7Bpyk1DP",
        "colab_type": "code",
        "colab": {
          "base_uri": "https://localhost:8080/",
          "height": 88
        },
        "outputId": "f6eb3fd3-739e-44b4-eb45-ec10f57f5671"
      },
      "source": [
        "stats.bayes_mvs(coinflips, alpha=.95)"
      ],
      "execution_count": 8,
      "outputs": [
        {
          "output_type": "execute_result",
          "data": {
            "text/plain": [
              "(Mean(statistic=0.47, minmax=(0.37046898750173674, 0.5695310124982632)),\n",
              " Variance(statistic=0.25680412371134015, minmax=(0.1939698977025208, 0.3395533426586547)),\n",
              " Std_dev(statistic=0.5054540733507159, minmax=(0.44042013771229943, 0.5827120581030176)))"
            ]
          },
          "metadata": {
            "tags": []
          },
          "execution_count": 8
        }
      ]
    },
    {
      "cell_type": "code",
      "metadata": {
        "id": "UenQUlP8mQW4",
        "colab_type": "code",
        "colab": {
          "base_uri": "https://localhost:8080/",
          "height": 34
        },
        "outputId": "bd83ec95-35f6-4d7b-fcd3-832885ebed64"
      },
      "source": [
        "coinflips_mean_dist, _, _ = stats.mvsdist(coinflips)\n",
        "coinflips_mean_dist"
      ],
      "execution_count": 9,
      "outputs": [
        {
          "output_type": "execute_result",
          "data": {
            "text/plain": [
              "<scipy.stats._distn_infrastructure.rv_frozen at 0x7f7691735dd8>"
            ]
          },
          "metadata": {
            "tags": []
          },
          "execution_count": 9
        }
      ]
    },
    {
      "cell_type": "code",
      "metadata": {
        "id": "Sd5jY2wynKRi",
        "colab_type": "code",
        "colab": {
          "base_uri": "https://localhost:8080/",
          "height": 357
        },
        "outputId": "598fc63b-6ca1-459b-8d44-68e7378b2239"
      },
      "source": [
        "coinflips_mean_dist.rvs(100)"
      ],
      "execution_count": 10,
      "outputs": [
        {
          "output_type": "execute_result",
          "data": {
            "text/plain": [
              "array([0.47447628, 0.51541425, 0.54722018, 0.4589882 , 0.51501386,\n",
              "       0.53819192, 0.43382292, 0.53546659, 0.47026173, 0.44967562,\n",
              "       0.4621107 , 0.42691904, 0.37324325, 0.47531437, 0.46052277,\n",
              "       0.48711257, 0.52456771, 0.43332181, 0.49545882, 0.44671454,\n",
              "       0.47520117, 0.47047251, 0.41828918, 0.50159477, 0.42965501,\n",
              "       0.45273383, 0.48045849, 0.45342529, 0.48238344, 0.53966291,\n",
              "       0.48230241, 0.48073422, 0.48553525, 0.47962228, 0.41274185,\n",
              "       0.42892633, 0.5170948 , 0.42678096, 0.42249309, 0.51499109,\n",
              "       0.47059199, 0.39903942, 0.41790336, 0.46406817, 0.42232382,\n",
              "       0.42163269, 0.47848227, 0.48232842, 0.4731858 , 0.51077244,\n",
              "       0.3957508 , 0.48504646, 0.49014295, 0.53252732, 0.45495376,\n",
              "       0.47883978, 0.60393033, 0.4492549 , 0.44797902, 0.54782121,\n",
              "       0.43380002, 0.5760073 , 0.36941266, 0.44467418, 0.4939245 ,\n",
              "       0.45278835, 0.55635162, 0.48695459, 0.39080983, 0.45948606,\n",
              "       0.2941779 , 0.35950718, 0.44805696, 0.4725126 , 0.42218381,\n",
              "       0.45985418, 0.47545393, 0.44317753, 0.46267013, 0.4458753 ,\n",
              "       0.44204707, 0.51334913, 0.50914181, 0.49923748, 0.46895674,\n",
              "       0.43892798, 0.45984946, 0.44984632, 0.53560791, 0.45865723,\n",
              "       0.48646824, 0.55937503, 0.41464303, 0.50701457, 0.46934196,\n",
              "       0.37681534, 0.42748113, 0.49812825, 0.48278895, 0.4964763 ])"
            ]
          },
          "metadata": {
            "tags": []
          },
          "execution_count": 10
        }
      ]
    },
    {
      "cell_type": "code",
      "metadata": {
        "id": "40VbcJTbnMRf",
        "colab_type": "code",
        "colab": {}
      },
      "source": [
        "# bootstrap approach, sampling your sample"
      ],
      "execution_count": 0,
      "outputs": []
    },
    {
      "cell_type": "markdown",
      "metadata": {
        "id": "P-DzzRk5bf0z",
        "colab_type": "text"
      },
      "source": [
        "## Assignment - Code it up!\n",
        "\n",
        "Most of the above was pure math - now write Python code to reproduce the results! This is purposefully open ended - you'll have to think about how you should represent probabilities and events. You can and should look things up, and as a stretch goal - refactor your code into helpful reusable functions!\n",
        "\n",
        "Specific goals/targets:\n",
        "\n",
        "1. Write a function `def prob_drunk_given_positive(prob_drunk_prior, prob_positive, prob_positive_drunk)` that reproduces the example from lecture, and use it to calculate and visualize a range of situations\n",
        "2. Explore `scipy.stats.bayes_mvs` - read its documentation, and experiment with it on data you've tested in other ways earlier this week\n",
        "3. Create a visualization comparing the results of a Bayesian approach to a traditional/frequentist approach\n",
        "4. In your own words, summarize the difference between Bayesian and Frequentist statistics\n",
        "\n",
        "If you're unsure where to start, check out [this blog post of Bayes theorem with Python](https://dataconomy.com/2015/02/introduction-to-bayes-theorem-with-python/) - you could and should create something similar!\n",
        "\n",
        "Stretch goals:\n",
        "\n",
        "- Apply a Bayesian technique to a problem you previously worked (in an assignment or project work) on from a frequentist (standard) perspective\n",
        "- Check out [PyMC3](https://docs.pymc.io/) (note this goes beyond hypothesis tests into modeling) - read the guides and work through some examples\n",
        "- Take PyMC3 further - see if you can build something with it!"
      ]
    },
    {
      "cell_type": "code",
      "metadata": {
        "id": "xpVhZyUnbf7o",
        "colab_type": "code",
        "colab": {}
      },
      "source": [
        "import numpy as np\n",
        "from scipy import stats"
      ],
      "execution_count": 0,
      "outputs": []
    },
    {
      "cell_type": "code",
      "metadata": {
        "id": "fTLfvXwMA5j8",
        "colab_type": "code",
        "colab": {}
      },
      "source": [
        "# Writing out code from stats repo to help understanding\n",
        "\n",
        "def mvsdist(data):\n",
        "  x = ravel(data)\n",
        "  n = len(x)\n",
        "  if n < 2:\n",
        "    raise ValueError('need at least 2 datapoints')\n",
        "  xbar = x.mean()\n",
        "  C = x.var()\n",
        "  if n > 1000:       # large n = gaussian approx\n",
        "    mdist = distributions.norm(loc=xbar, scale = math.sqrt(C / n))\n",
        "    sdist = distributions.norm(loc=math.sqrt(C), scale = math.sqrt(C / (2. * n)))\n",
        "    vdist = distributions.norm(loc=C, scale = math.sqrt(2.0 / n) * C)\n",
        "  else:\n",
        "    nm1 = n - 1\n",
        "    fac = n * C / 2.\n",
        "    val = nm1 / 2.\n",
        "    mdist = distributions.t(nm1, loc=xbar, scale=math.sqrt(C / nm1))\n",
        "    sdist = distributions.gengamma(val, -2, scale=math.sqrt(fac))\n",
        "    vdist = distributions.invgamma(val, scale=fac)\n",
        "  return midst, vdist, sdist"
      ],
      "execution_count": 0,
      "outputs": []
    },
    {
      "cell_type": "code",
      "metadata": {
        "id": "ptQmzDnbCM1t",
        "colab_type": "code",
        "colab": {}
      },
      "source": [
        "def Bayes_MVS(data, alpha=0.9):\n",
        "  m, v, s = mvsdist(data)\n",
        "  if alpha >= 1 or alpha <= 0:\n",
        "    raise ValueError('0 < alpha < 1 is required but alpha =%s given')\n",
        "    \n",
        "  m_res = Mean(m.mean(), m.interval(alpha))\n",
        "  v_res = Variance(v.mean(), v.interval(alpha))\n",
        "  s_res = Std_dev(s.mean(), s.interval(alpha))\n",
        "  \n",
        "  return m_res, v_res, s_res"
      ],
      "execution_count": 0,
      "outputs": []
    },
    {
      "cell_type": "code",
      "metadata": {
        "id": "Kkhw50gJC4WS",
        "colab_type": "code",
        "colab": {}
      },
      "source": [
        "def prob_drunk_given_positive(prob_drunk_prior, prob_positive, \n",
        "                             prob_positive_drunk):\n",
        "  return (prob_positive_drunk * prob_drunk_prior) / prob_positive\n",
        "  "
      ],
      "execution_count": 0,
      "outputs": []
    },
    {
      "cell_type": "code",
      "metadata": {
        "id": "HjclUI5BEa7Z",
        "colab_type": "code",
        "colab": {}
      },
      "source": [
        "# Assumptions\n",
        "\n",
        "prob_drunk_prior = (1 / 1000)\n",
        "prob_positive = 0.08\n",
        "prob_positive_drunk = 1"
      ],
      "execution_count": 0,
      "outputs": []
    },
    {
      "cell_type": "code",
      "metadata": {
        "id": "sO8vqUJIFuYt",
        "colab_type": "code",
        "colab": {
          "base_uri": "https://localhost:8080/",
          "height": 34
        },
        "outputId": "03bbc718-6092-43f9-e73a-bfc5cff1c37c"
      },
      "source": [
        "# Answer given assumptions from class\n",
        "\n",
        "prob_drunk_given_positive(prob_drunk_prior, prob_positive, \n",
        "                             prob_positive_drunk)"
      ],
      "execution_count": 36,
      "outputs": [
        {
          "output_type": "execute_result",
          "data": {
            "text/plain": [
              "0.0125"
            ]
          },
          "metadata": {
            "tags": []
          },
          "execution_count": 36
        }
      ]
    },
    {
      "cell_type": "code",
      "metadata": {
        "id": "eOsukjXiQuzH",
        "colab_type": "code",
        "colab": {}
      },
      "source": [
        "# Running again on the first person\n",
        "\n",
        "prob_drunk_prior = (.0125)\n",
        "prob_positive = 0.08\n",
        "prob_positive_drunk = 1"
      ],
      "execution_count": 0,
      "outputs": []
    },
    {
      "cell_type": "code",
      "metadata": {
        "id": "jyJ-CyY2QvAy",
        "colab_type": "code",
        "colab": {
          "base_uri": "https://localhost:8080/",
          "height": 34
        },
        "outputId": "920d388f-1fd7-426c-86df-d37b63d857d1"
      },
      "source": [
        "prob_drunk_given_positive(prob_drunk_prior, prob_positive, \n",
        "                             prob_positive_drunk)"
      ],
      "execution_count": 49,
      "outputs": [
        {
          "output_type": "execute_result",
          "data": {
            "text/plain": [
              "0.15625"
            ]
          },
          "metadata": {
            "tags": []
          },
          "execution_count": 49
        }
      ]
    },
    {
      "cell_type": "code",
      "metadata": {
        "id": "Gn9bY5rBNW9y",
        "colab_type": "code",
        "colab": {}
      },
      "source": [
        "# Late at night after bars close, more drunks\n",
        "\n",
        "prob_drunk_prior = (1 / 50)\n",
        "prob_positive = 0.08\n",
        "prob_positive_drunk = 1"
      ],
      "execution_count": 0,
      "outputs": []
    },
    {
      "cell_type": "code",
      "metadata": {
        "id": "5E2jFTeANphN",
        "colab_type": "code",
        "colab": {
          "base_uri": "https://localhost:8080/",
          "height": 34
        },
        "outputId": "6186e47d-7b62-4266-b121-c47949c003ff"
      },
      "source": [
        "prob_drunk_given_positive(prob_drunk_prior, prob_positive, \n",
        "                             prob_positive_drunk)"
      ],
      "execution_count": 47,
      "outputs": [
        {
          "output_type": "execute_result",
          "data": {
            "text/plain": [
              "0.25"
            ]
          },
          "metadata": {
            "tags": []
          },
          "execution_count": 47
        }
      ]
    },
    {
      "cell_type": "code",
      "metadata": {
        "id": "IxFPG-S2NqmK",
        "colab_type": "code",
        "colab": {}
      },
      "source": [
        "# More accurate breathylizer, only 1% false positives\n",
        "\n",
        "prob_drunk_prior = (1 / 1000)\n",
        "prob_positive = 0.01\n",
        "prob_positive_drunk = 1"
      ],
      "execution_count": 0,
      "outputs": []
    },
    {
      "cell_type": "code",
      "metadata": {
        "id": "IXVy6-jqNXOU",
        "colab_type": "code",
        "colab": {
          "base_uri": "https://localhost:8080/",
          "height": 34
        },
        "outputId": "c36b5810-3417-415a-a594-36c130cfb8f3"
      },
      "source": [
        "prob_drunk_given_positive(prob_drunk_prior, prob_positive, \n",
        "                             prob_positive_drunk)"
      ],
      "execution_count": 40,
      "outputs": [
        {
          "output_type": "execute_result",
          "data": {
            "text/plain": [
              "0.1"
            ]
          },
          "metadata": {
            "tags": []
          },
          "execution_count": 40
        }
      ]
    },
    {
      "cell_type": "code",
      "metadata": {
        "id": "Ez489_cuN_Aa",
        "colab_type": "code",
        "colab": {}
      },
      "source": [
        "# Worse breathylizer, 20% false negatives\n",
        "\n",
        "prob_drunk_prior = (1 / 1000)\n",
        "prob_positive = 0.08\n",
        "prob_positive_drunk = .8"
      ],
      "execution_count": 0,
      "outputs": []
    },
    {
      "cell_type": "code",
      "metadata": {
        "id": "nNxTkdY9NXaU",
        "colab_type": "code",
        "colab": {
          "base_uri": "https://localhost:8080/",
          "height": 34
        },
        "outputId": "b791ba5c-dd49-46b2-feb3-d28cb9dc8d2f"
      },
      "source": [
        "prob_drunk_given_positive(prob_drunk_prior, prob_positive, \n",
        "                             prob_positive_drunk)"
      ],
      "execution_count": 42,
      "outputs": [
        {
          "output_type": "execute_result",
          "data": {
            "text/plain": [
              "0.01"
            ]
          },
          "metadata": {
            "tags": []
          },
          "execution_count": 42
        }
      ]
    },
    {
      "cell_type": "code",
      "metadata": {
        "id": "kJsj5tXXeUac",
        "colab_type": "code",
        "colab": {}
      },
      "source": [
        "# Frequentist stats are based on the sampling data present\n",
        "# Bayesian involve prior beliefs based on previous knowledge, common sense, etc\n",
        "# "
      ],
      "execution_count": 0,
      "outputs": []
    },
    {
      "cell_type": "code",
      "metadata": {
        "id": "ydYjU0xcSH_n",
        "colab_type": "code",
        "colab": {}
      },
      "source": [
        "# Attempting to use Bayes to analyze voter data\n",
        "\n",
        "import pandas as pd\n",
        "import numpy as np\n",
        "import seaborn as sns\n",
        "from matplotlib import style"
      ],
      "execution_count": 0,
      "outputs": []
    },
    {
      "cell_type": "code",
      "metadata": {
        "id": "3VkjPIjyf20H",
        "colab_type": "code",
        "colab": {
          "base_uri": "https://localhost:8080/",
          "height": 269
        },
        "outputId": "c9e283e4-a9f0-40a2-e305-8842f544654d"
      },
      "source": [
        "x = np.random.normal(size=100)\n",
        "sns.distplot(x, hist=False);\n",
        "sns.distplot(x + 4, hist=False);\n",
        "sns.distplot(x + 2, hist=False);\n",
        "\n",
        "# For example in this graph, blue might be your prior beliefs, orange experimental data\n",
        "# and green your updated Bayesian model taking both into account"
      ],
      "execution_count": 144,
      "outputs": [
        {
          "output_type": "display_data",
          "data": {
            "image/png": "[encoded data removed]",
            "text/plain": [
              "<Figure size 432x288 with 1 Axes>"
            ]
          },
          "metadata": {
            "tags": []
          }
        }
      ]
    },
    {
      "cell_type": "code",
      "metadata": {
        "id": "urnpeHjUI4yc",
        "colab_type": "code",
        "colab": {
          "base_uri": "https://localhost:8080/",
          "height": 275
        },
        "outputId": "5b2945d4-79e7-43f6-d26e-49b8c847af99"
      },
      "source": [
        "columns = ['party', \n",
        "   'infants',\n",
        "   'water',\n",
        "   'budget',\n",
        "   'dr fee',\n",
        "   'el salvador',\n",
        "   'religious schools',\n",
        "   'anti satellite',\n",
        "   'nicaragua',\n",
        "  'mx-missile',\n",
        "  'immigration',\n",
        "  'synfuels-corporation-cutback',\n",
        "  'education-spending',\n",
        "  'superfund-right-to-sue',\n",
        "  'crime',\n",
        "  'duty-free-exports',\n",
        "  'export-administration-act-south-africa']\n",
        "\n",
        "df = pd.read_csv('https://raw.githubusercontent.com/mmastin/DS-Unit-1-Sprint-4-Statistical-Tests-and-Experiments/master/house-votes-84.data',\n",
        "              names=columns, na_values='?')\n",
        "df.head()"
      ],
      "execution_count": 88,
      "outputs": [
        {
          "output_type": "execute_result",
          "data": {
            "text/html": [
              "<div>\n",
              "<style scoped>\n",
              "    .dataframe tbody tr th:only-of-type {\n",
              "        vertical-align: middle;\n",
              "    }\n",
              "\n",
              "    .dataframe tbody tr th {\n",
              "        vertical-align: top;\n",
              "    }\n",
              "\n",
              "    .dataframe thead th {\n",
              "        text-align: right;\n",
              "    }\n",
              "</style>\n",
              "<table border=\"1\" class=\"dataframe\">\n",
              "  <thead>\n",
              "    <tr style=\"text-align: right;\">\n",
              "      <th></th>\n",
              "      <th>party</th>\n",
              "      <th>infants</th>\n",
              "      <th>water</th>\n",
              "      <th>budget</th>\n",
              "      <th>dr fee</th>\n",
              "      <th>el salvador</th>\n",
              "      <th>religious schools</th>\n",
              "      <th>anti satellite</th>\n",
              "      <th>nicaragua</th>\n",
              "      <th>mx-missile</th>\n",
              "      <th>immigration</th>\n",
              "      <th>synfuels-corporation-cutback</th>\n",
              "      <th>education-spending</th>\n",
              "      <th>superfund-right-to-sue</th>\n",
              "      <th>crime</th>\n",
              "      <th>duty-free-exports</th>\n",
              "      <th>export-administration-act-south-africa</th>\n",
              "    </tr>\n",
              "  </thead>\n",
              "  <tbody>\n",
              "    <tr>\n",
              "      <th>0</th>\n",
              "      <td>republican</td>\n",
              "      <td>n</td>\n",
              "      <td>y</td>\n",
              "      <td>n</td>\n",
              "      <td>y</td>\n",
              "      <td>y</td>\n",
              "      <td>y</td>\n",
              "      <td>n</td>\n",
              "      <td>n</td>\n",
              "      <td>n</td>\n",
              "      <td>y</td>\n",
              "      <td>NaN</td>\n",
              "      <td>y</td>\n",
              "      <td>y</td>\n",
              "      <td>y</td>\n",
              "      <td>n</td>\n",
              "      <td>y</td>\n",
              "    </tr>\n",
              "    <tr>\n",
              "      <th>1</th>\n",
              "      <td>republican</td>\n",
              "      <td>n</td>\n",
              "      <td>y</td>\n",
              "      <td>n</td>\n",
              "      <td>y</td>\n",
              "      <td>y</td>\n",
              "      <td>y</td>\n",
              "      <td>n</td>\n",
              "      <td>n</td>\n",
              "      <td>n</td>\n",
              "      <td>n</td>\n",
              "      <td>n</td>\n",
              "      <td>y</td>\n",
              "      <td>y</td>\n",
              "      <td>y</td>\n",
              "      <td>n</td>\n",
              "      <td>NaN</td>\n",
              "    </tr>\n",
              "    <tr>\n",
              "      <th>2</th>\n",
              "      <td>democrat</td>\n",
              "      <td>NaN</td>\n",
              "      <td>y</td>\n",
              "      <td>y</td>\n",
              "      <td>NaN</td>\n",
              "      <td>y</td>\n",
              "      <td>y</td>\n",
              "      <td>n</td>\n",
              "      <td>n</td>\n",
              "      <td>n</td>\n",
              "      <td>n</td>\n",
              "      <td>y</td>\n",
              "      <td>n</td>\n",
              "      <td>y</td>\n",
              "      <td>y</td>\n",
              "      <td>n</td>\n",
              "      <td>n</td>\n",
              "    </tr>\n",
              "    <tr>\n",
              "      <th>3</th>\n",
              "      <td>democrat</td>\n",
              "      <td>n</td>\n",
              "      <td>y</td>\n",
              "      <td>y</td>\n",
              "      <td>n</td>\n",
              "      <td>NaN</td>\n",
              "      <td>y</td>\n",
              "      <td>n</td>\n",
              "      <td>n</td>\n",
              "      <td>n</td>\n",
              "      <td>n</td>\n",
              "      <td>y</td>\n",
              "      <td>n</td>\n",
              "      <td>y</td>\n",
              "      <td>n</td>\n",
              "      <td>n</td>\n",
              "      <td>y</td>\n",
              "    </tr>\n",
              "    <tr>\n",
              "      <th>4</th>\n",
              "      <td>democrat</td>\n",
              "      <td>y</td>\n",
              "      <td>y</td>\n",
              "      <td>y</td>\n",
              "      <td>n</td>\n",
              "      <td>y</td>\n",
              "      <td>y</td>\n",
              "      <td>n</td>\n",
              "      <td>n</td>\n",
              "      <td>n</td>\n",
              "      <td>n</td>\n",
              "      <td>y</td>\n",
              "      <td>NaN</td>\n",
              "      <td>y</td>\n",
              "      <td>y</td>\n",
              "      <td>y</td>\n",
              "      <td>y</td>\n",
              "    </tr>\n",
              "  </tbody>\n",
              "</table>\n",
              "</div>"
            ],
            "text/plain": [
              "        party infants water budget dr fee el salvador religious schools  \\\n",
              "0  republican       n     y      n      y           y                 y   \n",
              "1  republican       n     y      n      y           y                 y   \n",
              "2    democrat     NaN     y      y    NaN           y                 y   \n",
              "3    democrat       n     y      y      n         NaN                 y   \n",
              "4    democrat       y     y      y      n           y                 y   \n",
              "\n",
              "  anti satellite nicaragua mx-missile immigration  \\\n",
              "0              n         n          n           y   \n",
              "1              n         n          n           n   \n",
              "2              n         n          n           n   \n",
              "3              n         n          n           n   \n",
              "4              n         n          n           n   \n",
              "\n",
              "  synfuels-corporation-cutback education-spending superfund-right-to-sue  \\\n",
              "0                          NaN                  y                      y   \n",
              "1                            n                  y                      y   \n",
              "2                            y                  n                      y   \n",
              "3                            y                  n                      y   \n",
              "4                            y                NaN                      y   \n",
              "\n",
              "  crime duty-free-exports export-administration-act-south-africa  \n",
              "0     y                 n                                      y  \n",
              "1     y                 n                                    NaN  \n",
              "2     y                 n                                      n  \n",
              "3     n                 n                                      y  \n",
              "4     y                 y                                      y  "
            ]
          },
          "metadata": {
            "tags": []
          },
          "execution_count": 88
        }
      ]
    },
    {
      "cell_type": "code",
      "metadata": {
        "id": "-09cOtWdSPO2",
        "colab_type": "code",
        "colab": {}
      },
      "source": [
        "df = df.replace({'y': 1, 'n': 0})"
      ],
      "execution_count": 0,
      "outputs": []
    },
    {
      "cell_type": "code",
      "metadata": {
        "id": "spNqFmmSU4j0",
        "colab_type": "code",
        "colab": {}
      },
      "source": [
        "df = df.fillna(0.5)"
      ],
      "execution_count": 0,
      "outputs": []
    },
    {
      "cell_type": "code",
      "metadata": {
        "id": "TZi2kbKQSvDh",
        "colab_type": "code",
        "colab": {}
      },
      "source": [
        "from scipy import stats"
      ],
      "execution_count": 0,
      "outputs": []
    },
    {
      "cell_type": "code",
      "metadata": {
        "id": "JurWZ17yVAB8",
        "colab_type": "code",
        "colab": {
          "base_uri": "https://localhost:8080/",
          "height": 323
        },
        "outputId": "90f153e3-a427-4f0d-ec18-7240b82be232"
      },
      "source": [
        "df.dtypes"
      ],
      "execution_count": 92,
      "outputs": [
        {
          "output_type": "execute_result",
          "data": {
            "text/plain": [
              "party                                      object\n",
              "infants                                   float64\n",
              "water                                     float64\n",
              "budget                                    float64\n",
              "dr fee                                    float64\n",
              "el salvador                               float64\n",
              "religious schools                         float64\n",
              "anti satellite                            float64\n",
              "nicaragua                                 float64\n",
              "mx-missile                                float64\n",
              "immigration                               float64\n",
              "synfuels-corporation-cutback              float64\n",
              "education-spending                        float64\n",
              "superfund-right-to-sue                    float64\n",
              "crime                                     float64\n",
              "duty-free-exports                         float64\n",
              "export-administration-act-south-africa    float64\n",
              "dtype: object"
            ]
          },
          "metadata": {
            "tags": []
          },
          "execution_count": 92
        }
      ]
    },
    {
      "cell_type": "code",
      "metadata": {
        "id": "wwRtZICvVWv1",
        "colab_type": "code",
        "colab": {}
      },
      "source": [
        "df = df.drop(columns=['party'])"
      ],
      "execution_count": 0,
      "outputs": []
    },
    {
      "cell_type": "code",
      "metadata": {
        "id": "RxM24yafVcGf",
        "colab_type": "code",
        "colab": {
          "base_uri": "https://localhost:8080/",
          "height": 275
        },
        "outputId": "ed7c0554-7002-444b-8422-bebb00446554"
      },
      "source": [
        "df.head()"
      ],
      "execution_count": 94,
      "outputs": [
        {
          "output_type": "execute_result",
          "data": {
            "text/html": [
              "<div>\n",
              "<style scoped>\n",
              "    .dataframe tbody tr th:only-of-type {\n",
              "        vertical-align: middle;\n",
              "    }\n",
              "\n",
              "    .dataframe tbody tr th {\n",
              "        vertical-align: top;\n",
              "    }\n",
              "\n",
              "    .dataframe thead th {\n",
              "        text-align: right;\n",
              "    }\n",
              "</style>\n",
              "<table border=\"1\" class=\"dataframe\">\n",
              "  <thead>\n",
              "    <tr style=\"text-align: right;\">\n",
              "      <th></th>\n",
              "      <th>infants</th>\n",
              "      <th>water</th>\n",
              "      <th>budget</th>\n",
              "      <th>dr fee</th>\n",
              "      <th>el salvador</th>\n",
              "      <th>religious schools</th>\n",
              "      <th>anti satellite</th>\n",
              "      <th>nicaragua</th>\n",
              "      <th>mx-missile</th>\n",
              "      <th>immigration</th>\n",
              "      <th>synfuels-corporation-cutback</th>\n",
              "      <th>education-spending</th>\n",
              "      <th>superfund-right-to-sue</th>\n",
              "      <th>crime</th>\n",
              "      <th>duty-free-exports</th>\n",
              "      <th>export-administration-act-south-africa</th>\n",
              "    </tr>\n",
              "  </thead>\n",
              "  <tbody>\n",
              "    <tr>\n",
              "      <th>0</th>\n",
              "      <td>0.0</td>\n",
              "      <td>1.0</td>\n",
              "      <td>0.0</td>\n",
              "      <td>1.0</td>\n",
              "      <td>1.0</td>\n",
              "      <td>1.0</td>\n",
              "      <td>0.0</td>\n",
              "      <td>0.0</td>\n",
              "      <td>0.0</td>\n",
              "      <td>1.0</td>\n",
              "      <td>0.5</td>\n",
              "      <td>1.0</td>\n",
              "      <td>1.0</td>\n",
              "      <td>1.0</td>\n",
              "      <td>0.0</td>\n",
              "      <td>1.0</td>\n",
              "    </tr>\n",
              "    <tr>\n",
              "      <th>1</th>\n",
              "      <td>0.0</td>\n",
              "      <td>1.0</td>\n",
              "      <td>0.0</td>\n",
              "      <td>1.0</td>\n",
              "      <td>1.0</td>\n",
              "      <td>1.0</td>\n",
              "      <td>0.0</td>\n",
              "      <td>0.0</td>\n",
              "      <td>0.0</td>\n",
              "      <td>0.0</td>\n",
              "      <td>0.0</td>\n",
              "      <td>1.0</td>\n",
              "      <td>1.0</td>\n",
              "      <td>1.0</td>\n",
              "      <td>0.0</td>\n",
              "      <td>0.5</td>\n",
              "    </tr>\n",
              "    <tr>\n",
              "      <th>2</th>\n",
              "      <td>0.5</td>\n",
              "      <td>1.0</td>\n",
              "      <td>1.0</td>\n",
              "      <td>0.5</td>\n",
              "      <td>1.0</td>\n",
              "      <td>1.0</td>\n",
              "      <td>0.0</td>\n",
              "      <td>0.0</td>\n",
              "      <td>0.0</td>\n",
              "      <td>0.0</td>\n",
              "      <td>1.0</td>\n",
              "      <td>0.0</td>\n",
              "      <td>1.0</td>\n",
              "      <td>1.0</td>\n",
              "      <td>0.0</td>\n",
              "      <td>0.0</td>\n",
              "    </tr>\n",
              "    <tr>\n",
              "      <th>3</th>\n",
              "      <td>0.0</td>\n",
              "      <td>1.0</td>\n",
              "      <td>1.0</td>\n",
              "      <td>0.0</td>\n",
              "      <td>0.5</td>\n",
              "      <td>1.0</td>\n",
              "      <td>0.0</td>\n",
              "      <td>0.0</td>\n",
              "      <td>0.0</td>\n",
              "      <td>0.0</td>\n",
              "      <td>1.0</td>\n",
              "      <td>0.0</td>\n",
              "      <td>1.0</td>\n",
              "      <td>0.0</td>\n",
              "      <td>0.0</td>\n",
              "      <td>1.0</td>\n",
              "    </tr>\n",
              "    <tr>\n",
              "      <th>4</th>\n",
              "      <td>1.0</td>\n",
              "      <td>1.0</td>\n",
              "      <td>1.0</td>\n",
              "      <td>0.0</td>\n",
              "      <td>1.0</td>\n",
              "      <td>1.0</td>\n",
              "      <td>0.0</td>\n",
              "      <td>0.0</td>\n",
              "      <td>0.0</td>\n",
              "      <td>0.0</td>\n",
              "      <td>1.0</td>\n",
              "      <td>0.5</td>\n",
              "      <td>1.0</td>\n",
              "      <td>1.0</td>\n",
              "      <td>1.0</td>\n",
              "      <td>1.0</td>\n",
              "    </tr>\n",
              "  </tbody>\n",
              "</table>\n",
              "</div>"
            ],
            "text/plain": [
              "   infants  water  budget  dr fee  el salvador  religious schools  \\\n",
              "0      0.0    1.0     0.0     1.0          1.0                1.0   \n",
              "1      0.0    1.0     0.0     1.0          1.0                1.0   \n",
              "2      0.5    1.0     1.0     0.5          1.0                1.0   \n",
              "3      0.0    1.0     1.0     0.0          0.5                1.0   \n",
              "4      1.0    1.0     1.0     0.0          1.0                1.0   \n",
              "\n",
              "   anti satellite  nicaragua  mx-missile  immigration  \\\n",
              "0             0.0        0.0         0.0          1.0   \n",
              "1             0.0        0.0         0.0          0.0   \n",
              "2             0.0        0.0         0.0          0.0   \n",
              "3             0.0        0.0         0.0          0.0   \n",
              "4             0.0        0.0         0.0          0.0   \n",
              "\n",
              "   synfuels-corporation-cutback  education-spending  superfund-right-to-sue  \\\n",
              "0                           0.5                 1.0                     1.0   \n",
              "1                           0.0                 1.0                     1.0   \n",
              "2                           1.0                 0.0                     1.0   \n",
              "3                           1.0                 0.0                     1.0   \n",
              "4                           1.0                 0.5                     1.0   \n",
              "\n",
              "   crime  duty-free-exports  export-administration-act-south-africa  \n",
              "0    1.0                0.0                                     1.0  \n",
              "1    1.0                0.0                                     0.5  \n",
              "2    1.0                0.0                                     0.0  \n",
              "3    0.0                0.0                                     1.0  \n",
              "4    1.0                1.0                                     1.0  "
            ]
          },
          "metadata": {
            "tags": []
          },
          "execution_count": 94
        }
      ]
    },
    {
      "cell_type": "code",
      "metadata": {
        "id": "UHV2KYhmV0g2",
        "colab_type": "code",
        "colab": {}
      },
      "source": [
        "from matplotlib import pyplot as plt"
      ],
      "execution_count": 0,
      "outputs": []
    },
    {
      "cell_type": "code",
      "metadata": {
        "id": "9v7YgiMXSPT_",
        "colab_type": "code",
        "colab": {
          "base_uri": "https://localhost:8080/",
          "height": 88
        },
        "outputId": "452db959-3c06-431f-891a-7d450be1cd7f"
      },
      "source": [
        "stats.bayes_mvs(df['infants'], alpha=.9)"
      ],
      "execution_count": 87,
      "outputs": [
        {
          "output_type": "execute_result",
          "data": {
            "text/plain": [
              "(Mean(statistic=0.4436781609195402, minmax=(0.4049208300389868, 0.4824354918000936)),\n",
              " Variance(statistic=0.24159748829289063, minmax=(0.21583224979401525, 0.2698973762010758)),\n",
              " Std_dev(statistic=0.4912413089086892, minmax=(0.46457749600471954, 0.519516483088916)))"
            ]
          },
          "metadata": {
            "tags": []
          },
          "execution_count": 87
        }
      ]
    },
    {
      "cell_type": "code",
      "metadata": {
        "id": "UDupAIfCSPc-",
        "colab_type": "code",
        "colab": {
          "base_uri": "https://localhost:8080/",
          "height": 88
        },
        "outputId": "8bc72e30-cc8d-4c50-d318-717fa7373ff9"
      },
      "source": [
        "stats.bayes_mvs(df['water'], alpha=.9)"
      ],
      "execution_count": 95,
      "outputs": [
        {
          "output_type": "execute_result",
          "data": {
            "text/plain": [
              "(Mean(statistic=0.503448275862069, minmax=(0.46613360138954285, 0.5407629503345951)),\n",
              " Variance(statistic=0.2239463601532567, minmax=(0.2000635316475702, 0.25017865641827425)),\n",
              " Std_dev(statistic=0.472955931508245, minmax=(0.44728462040133926, 0.5001786245115581)))"
            ]
          },
          "metadata": {
            "tags": []
          },
          "execution_count": 95
        }
      ]
    },
    {
      "cell_type": "code",
      "metadata": {
        "id": "dUcMnvE7XYS8",
        "colab_type": "code",
        "colab": {
          "base_uri": "https://localhost:8080/",
          "height": 88
        },
        "outputId": "b2808f2c-312b-4783-a453-20488f37e22b"
      },
      "source": [
        "stats.bayes_mvs(df['budget'], alpha=.9)"
      ],
      "execution_count": 96,
      "outputs": [
        {
          "output_type": "execute_result",
          "data": {
            "text/plain": [
              "(Mean(statistic=0.5942528735632184, minmax=(0.5559126694644891, 0.6325930776619477)),\n",
              " Variance(statistic=0.23642507449978717, minmax=(0.21121144966186434, 0.26411908388003774)),\n",
              " Std_dev(statistic=0.4859543115425485, minmax=(0.45957746861858256, 0.5139251734251181)))"
            ]
          },
          "metadata": {
            "tags": []
          },
          "execution_count": 96
        }
      ]
    },
    {
      "cell_type": "code",
      "metadata": {
        "id": "OpdmCPDNXYcQ",
        "colab_type": "code",
        "colab": {
          "base_uri": "https://localhost:8080/",
          "height": 88
        },
        "outputId": "e259bdf1-ae7a-43a0-b8d1-6873d8433a39"
      },
      "source": [
        "stats.bayes_mvs(df['dr fee'], alpha=.9)"
      ],
      "execution_count": 97,
      "outputs": [
        {
          "output_type": "execute_result",
          "data": {
            "text/plain": [
              "(Mean(statistic=0.41954022988505746, minmax=(0.38100377444161415, 0.45807668532850077)),\n",
              " Variance(statistic=0.23885163899531708, minmax=(0.21337923243991036, 0.26682988768496907)),\n",
              " Std_dev(statistic=0.48844175753694685, minmax=(0.46192989991979333, 0.5165557933901904)))"
            ]
          },
          "metadata": {
            "tags": []
          },
          "execution_count": 97
        }
      ]
    },
    {
      "cell_type": "code",
      "metadata": {
        "id": "3BxEjeOiXYjf",
        "colab_type": "code",
        "colab": {
          "base_uri": "https://localhost:8080/",
          "height": 88
        },
        "outputId": "b74332a7-ee3f-4704-fadc-5f5458e983a4"
      },
      "source": [
        "stats.bayes_mvs(df['el salvador'], alpha=.9)"
      ],
      "execution_count": 98,
      "outputs": [
        {
          "output_type": "execute_result",
          "data": {
            "text/plain": [
              "(Mean(statistic=0.5045977011494253, minmax=(0.46572529607062435, 0.5434701062282261)),\n",
              " Variance(statistic=0.243034269902086, minmax=(0.21711580538627934, 0.2715024574013641)),\n",
              " Std_dev(statistic=0.4926998510343825, minmax=(0.46595687073620806, 0.5210589768935606)))"
            ]
          },
          "metadata": {
            "tags": []
          },
          "execution_count": 98
        }
      ]
    },
    {
      "cell_type": "code",
      "metadata": {
        "id": "qtdL5giqXYqq",
        "colab_type": "code",
        "colab": {
          "base_uri": "https://localhost:8080/",
          "height": 88
        },
        "outputId": "50cf45ca-ddb1-482b-ebee-1f4f2412e6c8"
      },
      "source": [
        "stats.bayes_mvs(df['religious schools'], alpha=.9)"
      ],
      "execution_count": 99,
      "outputs": [
        {
          "output_type": "execute_result",
          "data": {
            "text/plain": [
              "(Mean(statistic=0.6379310344827587, minmax=(0.6004279745637481, 0.6754340944017693)),\n",
              " Variance(statistic=0.226213282247765, minmax=(0.20208869713758695, 0.2527111178676181)),\n",
              " Std_dev(statistic=0.4753436788377915, minmax=(0.4495427645258979, 0.5027038072937364)))"
            ]
          },
          "metadata": {
            "tags": []
          },
          "execution_count": 99
        }
      ]
    },
    {
      "cell_type": "code",
      "metadata": {
        "id": "_6kYAbOEXYxN",
        "colab_type": "code",
        "colab": {
          "base_uri": "https://localhost:8080/",
          "height": 88
        },
        "outputId": "f0a8d61a-5a75-4fe6-e414-9b90c9ac4eb7"
      },
      "source": [
        "stats.bayes_mvs(df['anti satellite'], alpha=.9)"
      ],
      "execution_count": 100,
      "outputs": [
        {
          "output_type": "execute_result",
          "data": {
            "text/plain": [
              "(Mean(statistic=0.5655172413793104, minmax=(0.5269436710984852, 0.6040908116601356)),\n",
              " Variance(statistic=0.23931194125159636, minmax=(0.21379044562039495, 0.26734410814357995)),\n",
              " Std_dev(statistic=0.4889121805738578, minmax=(0.46237478912717, 0.517053293330175)))"
            ]
          },
          "metadata": {
            "tags": []
          },
          "execution_count": 100
        }
      ]
    },
    {
      "cell_type": "code",
      "metadata": {
        "id": "-DUL9MRfXY3p",
        "colab_type": "code",
        "colab": {
          "base_uri": "https://localhost:8080/",
          "height": 88
        },
        "outputId": "64a0c067-c081-4efd-b481-dda9c55400a4"
      },
      "source": [
        "stats.bayes_mvs(df['nicaragua'], alpha=.9)"
      ],
      "execution_count": 101,
      "outputs": [
        {
          "output_type": "execute_result",
          "data": {
            "text/plain": [
              "(Mean(statistic=0.5735632183908046, minmax=(0.5351273457047895, 0.6119990910768197)),\n",
              " Variance(statistic=0.23760642826734782, minmax=(0.2122668175932815, 0.26543881731138597)),\n",
              " Std_dev(statistic=0.4871668914847681, minmax=(0.46072423161071246, 0.5152075478012584)))"
            ]
          },
          "metadata": {
            "tags": []
          },
          "execution_count": 101
        }
      ]
    },
    {
      "cell_type": "code",
      "metadata": {
        "id": "T-6m_kgNXY_B",
        "colab_type": "code",
        "colab": {
          "base_uri": "https://localhost:8080/",
          "height": 88
        },
        "outputId": "91e48091-e4f4-40ce-8845-0b6f4908f3d2"
      },
      "source": [
        "stats.bayes_mvs(df['mx-missile'], alpha=.9)"
      ],
      "execution_count": 102,
      "outputs": [
        {
          "output_type": "execute_result",
          "data": {
            "text/plain": [
              "(Mean(statistic=0.5011494252873563, minmax=(0.46260073730860973, 0.5396981132661028)),\n",
              " Variance(statistic=0.23900329927628772, minmax=(0.21351471886353823, 0.2669993129227773)),\n",
              " Std_dev(statistic=0.4885968024411523, minmax=(0.46207652922815523, 0.5167197624658625)))"
            ]
          },
          "metadata": {
            "tags": []
          },
          "execution_count": 102
        }
      ]
    },
    {
      "cell_type": "code",
      "metadata": {
        "id": "jsTxVCpnXZIC",
        "colab_type": "code",
        "colab": {
          "base_uri": "https://localhost:8080/",
          "height": 88
        },
        "outputId": "1a51b4e4-ea51-43cd-a084-0b27906ee66a"
      },
      "source": [
        "stats.bayes_mvs(df['immigration'], alpha=.9)"
      ],
      "execution_count": 103,
      "outputs": [
        {
          "output_type": "execute_result",
          "data": {
            "text/plain": [
              "(Mean(statistic=0.5045977011494253, minmax=(0.4653567968974157, 0.5438386054014348)),\n",
              " Variance(statistic=0.24766389953171564, minmax=(0.22125170673913044, 0.27667438571340425)),\n",
              " Std_dev(statistic=0.4973705033230213, minmax=(0.47037400729539725, 0.5259984655048)))"
            ]
          },
          "metadata": {
            "tags": []
          },
          "execution_count": 103
        }
      ]
    },
    {
      "cell_type": "code",
      "metadata": {
        "id": "RVSshBjEYPdF",
        "colab_type": "code",
        "colab": {}
      },
      "source": [
        "# d = {'infants': [0.443, 0.40492, 0.4824],\n",
        "#    'water': [0.503448, 0.466, 0.5407],\n",
        "#    'budget': [.59425, 0.55591, 0.632],\n",
        "#    'dr fee': [0.419, 0.3810, 0.458],\n",
        "#    'el salvador': [.505, .466, .543],\n",
        "#    'religious schools': [.637, .600, .675],\n",
        "#    'anti satellite': [.566, .526, .604],\n",
        "#    'nicaragua': [.573, .535, .612],\n",
        "#   'mx-missile': [.501, .462, .539],\n",
        "#   'immigration': [.505, .465, .543]}"
      ],
      "execution_count": 0,
      "outputs": []
    },
    {
      "cell_type": "code",
      "metadata": {
        "id": "RE14Hy9rcPrs",
        "colab_type": "code",
        "colab": {}
      },
      "source": [
        "d = {'infants': [0.443],\n",
        "   'water': [0.503448],\n",
        "   'budget': [.59425],\n",
        "   'dr fee': [0.419],\n",
        "   'el salvador': [.505],\n",
        "   'religious schools': [.637],\n",
        "   'anti satellite': [.566],\n",
        "   'nicaragua': [.573],\n",
        "  'mx-missile': [.501],\n",
        "  'immigration': [.505]}"
      ],
      "execution_count": 0,
      "outputs": []
    },
    {
      "cell_type": "code",
      "metadata": {
        "id": "iXo2ZLURbOZ7",
        "colab_type": "code",
        "colab": {
          "base_uri": "https://localhost:8080/",
          "height": 117
        },
        "outputId": "50946c71-028b-4e54-ba36-c2f9431604fd"
      },
      "source": [
        "polling = pd.DataFrame(data=d)\n",
        "polling.head()"
      ],
      "execution_count": 131,
      "outputs": [
        {
          "output_type": "execute_result",
          "data": {
            "text/html": [
              "<div>\n",
              "<style scoped>\n",
              "    .dataframe tbody tr th:only-of-type {\n",
              "        vertical-align: middle;\n",
              "    }\n",
              "\n",
              "    .dataframe tbody tr th {\n",
              "        vertical-align: top;\n",
              "    }\n",
              "\n",
              "    .dataframe thead th {\n",
              "        text-align: right;\n",
              "    }\n",
              "</style>\n",
              "<table border=\"1\" class=\"dataframe\">\n",
              "  <thead>\n",
              "    <tr style=\"text-align: right;\">\n",
              "      <th></th>\n",
              "      <th>infants</th>\n",
              "      <th>water</th>\n",
              "      <th>budget</th>\n",
              "      <th>dr fee</th>\n",
              "      <th>el salvador</th>\n",
              "      <th>religious schools</th>\n",
              "      <th>anti satellite</th>\n",
              "      <th>nicaragua</th>\n",
              "      <th>mx-missile</th>\n",
              "      <th>immigration</th>\n",
              "    </tr>\n",
              "  </thead>\n",
              "  <tbody>\n",
              "    <tr>\n",
              "      <th>0</th>\n",
              "      <td>0.443</td>\n",
              "      <td>0.503448</td>\n",
              "      <td>0.59425</td>\n",
              "      <td>0.419</td>\n",
              "      <td>0.505</td>\n",
              "      <td>0.637</td>\n",
              "      <td>0.566</td>\n",
              "      <td>0.573</td>\n",
              "      <td>0.501</td>\n",
              "      <td>0.505</td>\n",
              "    </tr>\n",
              "  </tbody>\n",
              "</table>\n",
              "</div>"
            ],
            "text/plain": [
              "   infants     water   budget  dr fee  el salvador  religious schools  \\\n",
              "0    0.443  0.503448  0.59425   0.419        0.505              0.637   \n",
              "\n",
              "   anti satellite  nicaragua  mx-missile  immigration  \n",
              "0           0.566      0.573       0.501        0.505  "
            ]
          },
          "metadata": {
            "tags": []
          },
          "execution_count": 131
        }
      ]
    },
    {
      "cell_type": "code",
      "metadata": {
        "id": "fS6BH5xhcmye",
        "colab_type": "code",
        "colab": {
          "base_uri": "https://localhost:8080/",
          "height": 359
        },
        "outputId": "a3fb4be8-bf80-4e93-f710-06c39401abfb"
      },
      "source": [
        "polling.T"
      ],
      "execution_count": 132,
      "outputs": [
        {
          "output_type": "execute_result",
          "data": {
            "text/html": [
              "<div>\n",
              "<style scoped>\n",
              "    .dataframe tbody tr th:only-of-type {\n",
              "        vertical-align: middle;\n",
              "    }\n",
              "\n",
              "    .dataframe tbody tr th {\n",
              "        vertical-align: top;\n",
              "    }\n",
              "\n",
              "    .dataframe thead th {\n",
              "        text-align: right;\n",
              "    }\n",
              "</style>\n",
              "<table border=\"1\" class=\"dataframe\">\n",
              "  <thead>\n",
              "    <tr style=\"text-align: right;\">\n",
              "      <th></th>\n",
              "      <th>0</th>\n",
              "    </tr>\n",
              "  </thead>\n",
              "  <tbody>\n",
              "    <tr>\n",
              "      <th>infants</th>\n",
              "      <td>0.443000</td>\n",
              "    </tr>\n",
              "    <tr>\n",
              "      <th>water</th>\n",
              "      <td>0.503448</td>\n",
              "    </tr>\n",
              "    <tr>\n",
              "      <th>budget</th>\n",
              "      <td>0.594250</td>\n",
              "    </tr>\n",
              "    <tr>\n",
              "      <th>dr fee</th>\n",
              "      <td>0.419000</td>\n",
              "    </tr>\n",
              "    <tr>\n",
              "      <th>el salvador</th>\n",
              "      <td>0.505000</td>\n",
              "    </tr>\n",
              "    <tr>\n",
              "      <th>religious schools</th>\n",
              "      <td>0.637000</td>\n",
              "    </tr>\n",
              "    <tr>\n",
              "      <th>anti satellite</th>\n",
              "      <td>0.566000</td>\n",
              "    </tr>\n",
              "    <tr>\n",
              "      <th>nicaragua</th>\n",
              "      <td>0.573000</td>\n",
              "    </tr>\n",
              "    <tr>\n",
              "      <th>mx-missile</th>\n",
              "      <td>0.501000</td>\n",
              "    </tr>\n",
              "    <tr>\n",
              "      <th>immigration</th>\n",
              "      <td>0.505000</td>\n",
              "    </tr>\n",
              "  </tbody>\n",
              "</table>\n",
              "</div>"
            ],
            "text/plain": [
              "                          0\n",
              "infants            0.443000\n",
              "water              0.503448\n",
              "budget             0.594250\n",
              "dr fee             0.419000\n",
              "el salvador        0.505000\n",
              "religious schools  0.637000\n",
              "anti satellite     0.566000\n",
              "nicaragua          0.573000\n",
              "mx-missile         0.501000\n",
              "immigration        0.505000"
            ]
          },
          "metadata": {
            "tags": []
          },
          "execution_count": 132
        }
      ]
    },
    {
      "cell_type": "code",
      "metadata": {
        "id": "6Ubju12sdHp2",
        "colab_type": "code",
        "colab": {
          "base_uri": "https://localhost:8080/",
          "height": 164
        },
        "outputId": "9b18e671-62fb-42eb-bed7-e65a23a15beb"
      },
      "source": [
        "polling = polling.column = ['mean']"
      ],
      "execution_count": 129,
      "outputs": [
        {
          "output_type": "error",
          "ename": "AttributeError",
          "evalue": "ignored",
          "traceback": [
            "\u001b[0;31m---------------------------------------------------------------------------\u001b[0m",
            "\u001b[0;31mAttributeError\u001b[0m                            Traceback (most recent call last)",
            "\u001b[0;32m<ipython-input-129-b4ab84aa1aaa>\u001b[0m in \u001b[0;36m<module>\u001b[0;34m()\u001b[0m\n\u001b[0;32m----> 1\u001b[0;31m \u001b[0mpolling\u001b[0m \u001b[0;34m=\u001b[0m \u001b[0mpolling\u001b[0m\u001b[0;34m.\u001b[0m\u001b[0mcolumn\u001b[0m \u001b[0;34m=\u001b[0m \u001b[0;34m[\u001b[0m\u001b[0;34m'mean'\u001b[0m\u001b[0;34m]\u001b[0m\u001b[0;34m\u001b[0m\u001b[0;34m\u001b[0m\u001b[0m\n\u001b[0m",
            "\u001b[0;31mAttributeError\u001b[0m: 'list' object has no attribute 'column'"
          ]
        }
      ]
    },
    {
      "cell_type": "code",
      "metadata": {
        "id": "35utnORIYQFX",
        "colab_type": "code",
        "colab": {
          "base_uri": "https://localhost:8080/",
          "height": 593
        },
        "outputId": "3d50714e-3468-421c-c7ed-4260be96a47a"
      },
      "source": [
        "# Trouble getting to work\n",
        "\n",
        "def barplot(x_data, y_data, x_label, y_label, title):\n",
        "  _, ax = plt.subplots()\n",
        "  ax.bar(x_data, y_data, color = '#539caf', align='center')\n",
        "  ax.errorbar(x_data, y_data, color='#297083', ls='none',\n",
        "             lw=2, capthick=2)\n",
        "  ax.set_ylabel(y_label)\n",
        "  ax.set_xlabel(x_label)\n",
        "  ax.set_title(title)\n",
        "  \n",
        "barplot(x_data = polling.index.values,\n",
        "       y_data = polling.values,\n",
        "#        error_data = polling[1:2],\n",
        "       x_label = 'Bayesian Mean',\n",
        "       y_label = 'Bayesian Mean',\n",
        "       title = 'Overall Voter Support for Issues, 1984')"
      ],
      "execution_count": 136,
      "outputs": [
        {
          "output_type": "error",
          "ename": "TypeError",
          "evalue": "ignored",
          "traceback": [
            "\u001b[0;31m---------------------------------------------------------------------------\u001b[0m",
            "\u001b[0;31mTypeError\u001b[0m                                 Traceback (most recent call last)",
            "\u001b[0;32m<ipython-input-136-44aa972d14c4>\u001b[0m in \u001b[0;36m<module>\u001b[0;34m()\u001b[0m\n\u001b[1;32m     13\u001b[0m        \u001b[0mx_label\u001b[0m \u001b[0;34m=\u001b[0m \u001b[0;34m'Bayesian Mean'\u001b[0m\u001b[0;34m,\u001b[0m\u001b[0;34m\u001b[0m\u001b[0;34m\u001b[0m\u001b[0m\n\u001b[1;32m     14\u001b[0m        \u001b[0my_label\u001b[0m \u001b[0;34m=\u001b[0m \u001b[0;34m'Bayesian Mean'\u001b[0m\u001b[0;34m,\u001b[0m\u001b[0;34m\u001b[0m\u001b[0;34m\u001b[0m\u001b[0m\n\u001b[0;32m---> 15\u001b[0;31m        title = 'Overall Voter Support for Issues, 1984')\n\u001b[0m",
            "\u001b[0;32m<ipython-input-136-44aa972d14c4>\u001b[0m in \u001b[0;36mbarplot\u001b[0;34m(x_data, y_data, x_label, y_label, title)\u001b[0m\n\u001b[1;32m      1\u001b[0m \u001b[0;32mdef\u001b[0m \u001b[0mbarplot\u001b[0m\u001b[0;34m(\u001b[0m\u001b[0mx_data\u001b[0m\u001b[0;34m,\u001b[0m \u001b[0my_data\u001b[0m\u001b[0;34m,\u001b[0m \u001b[0mx_label\u001b[0m\u001b[0;34m,\u001b[0m \u001b[0my_label\u001b[0m\u001b[0;34m,\u001b[0m \u001b[0mtitle\u001b[0m\u001b[0;34m)\u001b[0m\u001b[0;34m:\u001b[0m\u001b[0;34m\u001b[0m\u001b[0;34m\u001b[0m\u001b[0m\n\u001b[1;32m      2\u001b[0m   \u001b[0m_\u001b[0m\u001b[0;34m,\u001b[0m \u001b[0max\u001b[0m \u001b[0;34m=\u001b[0m \u001b[0mplt\u001b[0m\u001b[0;34m.\u001b[0m\u001b[0msubplots\u001b[0m\u001b[0;34m(\u001b[0m\u001b[0;34m)\u001b[0m\u001b[0;34m\u001b[0m\u001b[0;34m\u001b[0m\u001b[0m\n\u001b[0;32m----> 3\u001b[0;31m   \u001b[0max\u001b[0m\u001b[0;34m.\u001b[0m\u001b[0mbar\u001b[0m\u001b[0;34m(\u001b[0m\u001b[0mx_data\u001b[0m\u001b[0;34m,\u001b[0m \u001b[0my_data\u001b[0m\u001b[0;34m,\u001b[0m \u001b[0mcolor\u001b[0m \u001b[0;34m=\u001b[0m \u001b[0;34m'#539caf'\u001b[0m\u001b[0;34m,\u001b[0m \u001b[0malign\u001b[0m\u001b[0;34m=\u001b[0m\u001b[0;34m'center'\u001b[0m\u001b[0;34m)\u001b[0m\u001b[0;34m\u001b[0m\u001b[0;34m\u001b[0m\u001b[0m\n\u001b[0m\u001b[1;32m      4\u001b[0m   ax.errorbar(x_data, y_data, color='#297083', ls='none',\n\u001b[1;32m      5\u001b[0m              lw=2, capthick=2)\n",
            "\u001b[0;32m/usr/local/lib/python3.6/dist-packages/matplotlib/__init__.py\u001b[0m in \u001b[0;36minner\u001b[0;34m(ax, data, *args, **kwargs)\u001b[0m\n\u001b[1;32m   1808\u001b[0m                         \u001b[0;34m\"the Matplotlib list!)\"\u001b[0m \u001b[0;34m%\u001b[0m \u001b[0;34m(\u001b[0m\u001b[0mlabel_namer\u001b[0m\u001b[0;34m,\u001b[0m \u001b[0mfunc\u001b[0m\u001b[0;34m.\u001b[0m\u001b[0m__name__\u001b[0m\u001b[0;34m)\u001b[0m\u001b[0;34m,\u001b[0m\u001b[0;34m\u001b[0m\u001b[0;34m\u001b[0m\u001b[0m\n\u001b[1;32m   1809\u001b[0m                         RuntimeWarning, stacklevel=2)\n\u001b[0;32m-> 1810\u001b[0;31m             \u001b[0;32mreturn\u001b[0m \u001b[0mfunc\u001b[0m\u001b[0;34m(\u001b[0m\u001b[0max\u001b[0m\u001b[0;34m,\u001b[0m \u001b[0;34m*\u001b[0m\u001b[0margs\u001b[0m\u001b[0;34m,\u001b[0m \u001b[0;34m**\u001b[0m\u001b[0mkwargs\u001b[0m\u001b[0;34m)\u001b[0m\u001b[0;34m\u001b[0m\u001b[0;34m\u001b[0m\u001b[0m\n\u001b[0m\u001b[1;32m   1811\u001b[0m \u001b[0;34m\u001b[0m\u001b[0m\n\u001b[1;32m   1812\u001b[0m         inner.__doc__ = _add_data_doc(inner.__doc__,\n",
            "\u001b[0;32m/usr/local/lib/python3.6/dist-packages/matplotlib/axes/_axes.py\u001b[0m in \u001b[0;36mbar\u001b[0;34m(self, x, height, width, bottom, align, **kwargs)\u001b[0m\n\u001b[1;32m   2294\u001b[0m                 \u001b[0medgecolor\u001b[0m\u001b[0;34m=\u001b[0m\u001b[0me\u001b[0m\u001b[0;34m,\u001b[0m\u001b[0;34m\u001b[0m\u001b[0;34m\u001b[0m\u001b[0m\n\u001b[1;32m   2295\u001b[0m                 \u001b[0mlinewidth\u001b[0m\u001b[0;34m=\u001b[0m\u001b[0mlw\u001b[0m\u001b[0;34m,\u001b[0m\u001b[0;34m\u001b[0m\u001b[0;34m\u001b[0m\u001b[0m\n\u001b[0;32m-> 2296\u001b[0;31m                 \u001b[0mlabel\u001b[0m\u001b[0;34m=\u001b[0m\u001b[0;34m'_nolegend_'\u001b[0m\u001b[0;34m,\u001b[0m\u001b[0;34m\u001b[0m\u001b[0;34m\u001b[0m\u001b[0m\n\u001b[0m\u001b[1;32m   2297\u001b[0m                 )\n\u001b[1;32m   2298\u001b[0m             \u001b[0mr\u001b[0m\u001b[0;34m.\u001b[0m\u001b[0mupdate\u001b[0m\u001b[0;34m(\u001b[0m\u001b[0mkwargs\u001b[0m\u001b[0;34m)\u001b[0m\u001b[0;34m\u001b[0m\u001b[0;34m\u001b[0m\u001b[0m\n",
            "\u001b[0;32m/usr/local/lib/python3.6/dist-packages/matplotlib/patches.py\u001b[0m in \u001b[0;36m__init__\u001b[0;34m(self, xy, width, height, angle, **kwargs)\u001b[0m\n\u001b[1;32m    656\u001b[0m         \"\"\"\n\u001b[1;32m    657\u001b[0m \u001b[0;34m\u001b[0m\u001b[0m\n\u001b[0;32m--> 658\u001b[0;31m         \u001b[0mPatch\u001b[0m\u001b[0;34m.\u001b[0m\u001b[0m__init__\u001b[0m\u001b[0;34m(\u001b[0m\u001b[0mself\u001b[0m\u001b[0;34m,\u001b[0m \u001b[0;34m**\u001b[0m\u001b[0mkwargs\u001b[0m\u001b[0;34m)\u001b[0m\u001b[0;34m\u001b[0m\u001b[0;34m\u001b[0m\u001b[0m\n\u001b[0m\u001b[1;32m    659\u001b[0m \u001b[0;34m\u001b[0m\u001b[0m\n\u001b[1;32m    660\u001b[0m         \u001b[0mself\u001b[0m\u001b[0;34m.\u001b[0m\u001b[0m_x0\u001b[0m \u001b[0;34m=\u001b[0m \u001b[0mxy\u001b[0m\u001b[0;34m[\u001b[0m\u001b[0;36m0\u001b[0m\u001b[0;34m]\u001b[0m\u001b[0;34m\u001b[0m\u001b[0;34m\u001b[0m\u001b[0m\n",
            "\u001b[0;32m/usr/local/lib/python3.6/dist-packages/matplotlib/patches.py\u001b[0m in \u001b[0;36m__init__\u001b[0;34m(self, edgecolor, facecolor, color, linewidth, linestyle, antialiased, hatch, fill, capstyle, joinstyle, **kwargs)\u001b[0m\n\u001b[1;32m     85\u001b[0m         \u001b[0mself\u001b[0m\u001b[0;34m.\u001b[0m\u001b[0mset_fill\u001b[0m\u001b[0;34m(\u001b[0m\u001b[0mfill\u001b[0m\u001b[0;34m)\u001b[0m\u001b[0;34m\u001b[0m\u001b[0;34m\u001b[0m\u001b[0m\n\u001b[1;32m     86\u001b[0m         \u001b[0mself\u001b[0m\u001b[0;34m.\u001b[0m\u001b[0mset_linestyle\u001b[0m\u001b[0;34m(\u001b[0m\u001b[0mlinestyle\u001b[0m\u001b[0;34m)\u001b[0m\u001b[0;34m\u001b[0m\u001b[0;34m\u001b[0m\u001b[0m\n\u001b[0;32m---> 87\u001b[0;31m         \u001b[0mself\u001b[0m\u001b[0;34m.\u001b[0m\u001b[0mset_linewidth\u001b[0m\u001b[0;34m(\u001b[0m\u001b[0mlinewidth\u001b[0m\u001b[0;34m)\u001b[0m\u001b[0;34m\u001b[0m\u001b[0;34m\u001b[0m\u001b[0m\n\u001b[0m\u001b[1;32m     88\u001b[0m         \u001b[0mself\u001b[0m\u001b[0;34m.\u001b[0m\u001b[0mset_antialiased\u001b[0m\u001b[0;34m(\u001b[0m\u001b[0mantialiased\u001b[0m\u001b[0;34m)\u001b[0m\u001b[0;34m\u001b[0m\u001b[0;34m\u001b[0m\u001b[0m\n\u001b[1;32m     89\u001b[0m         \u001b[0mself\u001b[0m\u001b[0;34m.\u001b[0m\u001b[0mset_hatch\u001b[0m\u001b[0;34m(\u001b[0m\u001b[0mhatch\u001b[0m\u001b[0;34m)\u001b[0m\u001b[0;34m\u001b[0m\u001b[0;34m\u001b[0m\u001b[0m\n",
            "\u001b[0;32m/usr/local/lib/python3.6/dist-packages/matplotlib/patches.py\u001b[0m in \u001b[0;36mset_linewidth\u001b[0;34m(self, w)\u001b[0m\n\u001b[1;32m    346\u001b[0m                 \u001b[0mw\u001b[0m \u001b[0;34m=\u001b[0m \u001b[0mmpl\u001b[0m\u001b[0;34m.\u001b[0m\u001b[0mrcParams\u001b[0m\u001b[0;34m[\u001b[0m\u001b[0;34m'axes.linewidth'\u001b[0m\u001b[0;34m]\u001b[0m\u001b[0;34m\u001b[0m\u001b[0;34m\u001b[0m\u001b[0m\n\u001b[1;32m    347\u001b[0m \u001b[0;34m\u001b[0m\u001b[0m\n\u001b[0;32m--> 348\u001b[0;31m         \u001b[0mself\u001b[0m\u001b[0;34m.\u001b[0m\u001b[0m_linewidth\u001b[0m \u001b[0;34m=\u001b[0m \u001b[0mfloat\u001b[0m\u001b[0;34m(\u001b[0m\u001b[0mw\u001b[0m\u001b[0;34m)\u001b[0m\u001b[0;34m\u001b[0m\u001b[0;34m\u001b[0m\u001b[0m\n\u001b[0m\u001b[1;32m    349\u001b[0m         \u001b[0;31m# scale the dash pattern by the linewidth\u001b[0m\u001b[0;34m\u001b[0m\u001b[0;34m\u001b[0m\u001b[0;34m\u001b[0m\u001b[0m\n\u001b[1;32m    350\u001b[0m         \u001b[0moffset\u001b[0m\u001b[0;34m,\u001b[0m \u001b[0mls\u001b[0m \u001b[0;34m=\u001b[0m \u001b[0mself\u001b[0m\u001b[0;34m.\u001b[0m\u001b[0m_us_dashes\u001b[0m\u001b[0;34m\u001b[0m\u001b[0;34m\u001b[0m\u001b[0m\n",
            "\u001b[0;31mTypeError\u001b[0m: only size-1 arrays can be converted to Python scalars"
          ]
        },
        {
          "output_type": "display_data",
          "data": {
            "image/png": "[encoded data removed]",
            "text/plain": [
              "<Figure size 432x288 with 1 Axes>"
            ]
          },
          "metadata": {
            "tags": []
          }
        }
      ]
    },
    {
      "cell_type": "markdown",
      "metadata": {
        "id": "uWgWjp3PQ3Sq",
        "colab_type": "text"
      },
      "source": [
        "## Resources"
      ]
    },
    {
      "cell_type": "markdown",
      "metadata": {
        "id": "QRgHqmYIQ9qn",
        "colab_type": "text"
      },
      "source": [
        "- [Worked example of Bayes rule calculation](https://en.wikipedia.org/wiki/Bayes'_theorem#Examples) (helpful as it fully breaks out the denominator)\n",
        "- [Source code for mvsdist in scipy](https://github.com/scipy/scipy/blob/90534919e139d2a81c24bf08341734ff41a3db12/scipy/stats/morestats.py#L139)"
      ]
    }
  ]
}